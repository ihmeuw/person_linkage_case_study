{
 "cells": [
  {
   "cell_type": "markdown",
   "id": "6f802687-416a-4b38-82d3-ab387dc16c38",
   "metadata": {
    "papermill": {
     "duration": 0.015507,
     "end_time": "2023-11-20T19:36:29.470540",
     "exception": false,
     "start_time": "2023-11-20T19:36:29.455033",
     "status": "completed"
    },
    "tags": []
   },
   "source": [
    "# Generate pseudopeople simulated datasets\n",
    "\n",
    "The very first step is generating pseudopeople data that will be used both directly in the case study, and to create the reference files.\n",
    "Since this is an intensive operation and currently can only be distributed with Modin, we do only this step in this notebook, then\n",
    "save the results."
   ]
  },
  {
   "cell_type": "code",
   "execution_count": 1,
   "id": "6a821e3e-9ae1-466d-b24f-66d1b0703a92",
   "metadata": {
    "execution": {
     "iopub.execute_input": "2023-11-20T19:36:29.487324Z",
     "iopub.status.busy": "2023-11-20T19:36:29.486983Z",
     "iopub.status.idle": "2023-11-20T19:36:32.584910Z",
     "shell.execute_reply": "2023-11-20T19:36:32.584184Z"
    },
    "papermill": {
     "duration": 3.108362,
     "end_time": "2023-11-20T19:36:32.586918",
     "exception": false,
     "start_time": "2023-11-20T19:36:29.478556",
     "status": "completed"
    },
    "tags": []
   },
   "outputs": [],
   "source": [
    "import warnings\n",
    "import pseudopeople as psp\n",
    "import numpy as np\n",
    "import os\n",
    "import logging\n",
    "from pathlib import Path\n",
    "# Importing pandas for access, regardless of whether we are using it as the compute engine\n",
    "import pandas"
   ]
  },
  {
   "cell_type": "code",
   "execution_count": 2,
   "id": "cc4546dc-f329-48b7-9988-5d25991939f0",
   "metadata": {
    "execution": {
     "iopub.execute_input": "2023-11-20T19:36:32.604150Z",
     "iopub.status.busy": "2023-11-20T19:36:32.603632Z",
     "iopub.status.idle": "2023-11-20T19:36:32.607695Z",
     "shell.execute_reply": "2023-11-20T19:36:32.606929Z"
    },
    "papermill": {
     "duration": 0.013746,
     "end_time": "2023-11-20T19:36:32.609616",
     "exception": false,
     "start_time": "2023-11-20T19:36:32.595870",
     "status": "completed"
    },
    "tags": []
   },
   "outputs": [],
   "source": [
    "warnings.simplefilter(action='ignore', category=FutureWarning)"
   ]
  },
  {
   "cell_type": "code",
   "execution_count": 3,
   "id": "7ac996f3-1270-4211-a829-728e3b2ba6f7",
   "metadata": {
    "editable": true,
    "execution": {
     "iopub.execute_input": "2023-11-20T19:36:32.624679Z",
     "iopub.status.busy": "2023-11-20T19:36:32.624156Z",
     "iopub.status.idle": "2023-11-20T19:36:32.628625Z",
     "shell.execute_reply": "2023-11-20T19:36:32.627861Z"
    },
    "papermill": {
     "duration": 0.013999,
     "end_time": "2023-11-20T19:36:32.630207",
     "exception": false,
     "start_time": "2023-11-20T19:36:32.616208",
     "status": "completed"
    },
    "slideshow": {
     "slide_type": ""
    },
    "tags": [
     "parameters"
    ]
   },
   "outputs": [],
   "source": [
    "# DO NOT EDIT if this notebook is not called generate_pseudopeople_simulated_datasets.ipynb!\n",
    "# This notebook is designed to be run with papermill; this cell is tagged 'parameters'\n",
    "# When you run this, save it to another filename.\n",
    "data_to_use = 'small_sample'\n",
    "output_dir = 'output'\n",
    "compute_engine = 'pandas'\n",
    "# Only matter if distributing\n",
    "num_jobs = 100\n",
    "cpus_per_job = 5\n",
    "memory_per_job = \"30GB\"\n",
    "very_noisy = True\n",
    "pseudopeople_seed = 0"
   ]
  },
  {
   "cell_type": "code",
   "execution_count": 4,
   "id": "244cd221",
   "metadata": {
    "execution": {
     "iopub.execute_input": "2023-11-20T19:36:32.644970Z",
     "iopub.status.busy": "2023-11-20T19:36:32.644444Z",
     "iopub.status.idle": "2023-11-20T19:36:32.648149Z",
     "shell.execute_reply": "2023-11-20T19:36:32.647416Z"
    },
    "papermill": {
     "duration": 0.013073,
     "end_time": "2023-11-20T19:36:32.649763",
     "exception": false,
     "start_time": "2023-11-20T19:36:32.636690",
     "status": "completed"
    },
    "tags": [
     "injected-parameters"
    ]
   },
   "outputs": [],
   "source": [
    "# Parameters\n",
    "data_to_use = \"small_sample\"\n"
   ]
  },
  {
   "cell_type": "code",
   "execution_count": 5,
   "id": "d23e90be-2f7f-46db-ae17-a3dae23b7a4a",
   "metadata": {
    "execution": {
     "iopub.execute_input": "2023-11-20T19:36:32.664471Z",
     "iopub.status.busy": "2023-11-20T19:36:32.663959Z",
     "iopub.status.idle": "2023-11-20T19:36:32.668017Z",
     "shell.execute_reply": "2023-11-20T19:36:32.667310Z"
    },
    "papermill": {
     "duration": 0.013425,
     "end_time": "2023-11-20T19:36:32.669543",
     "exception": false,
     "start_time": "2023-11-20T19:36:32.656118",
     "status": "completed"
    },
    "tags": []
   },
   "outputs": [],
   "source": [
    "output_dir = str(Path(output_dir) / data_to_use / \"pseudopeople_simulated_datasets\")"
   ]
  },
  {
   "cell_type": "code",
   "execution_count": 6,
   "id": "79ff29f5-473d-4dab-9e7f-453f284ad8d8",
   "metadata": {
    "execution": {
     "iopub.execute_input": "2023-11-20T19:36:32.683847Z",
     "iopub.status.busy": "2023-11-20T19:36:32.683337Z",
     "iopub.status.idle": "2023-11-20T19:36:32.816929Z",
     "shell.execute_reply": "2023-11-20T19:36:32.814707Z"
    },
    "papermill": {
     "duration": 0.146521,
     "end_time": "2023-11-20T19:36:32.822331",
     "exception": false,
     "start_time": "2023-11-20T19:36:32.675810",
     "status": "completed"
    },
    "tags": []
   },
   "outputs": [
    {
     "name": "stdout",
     "output_type": "stream",
     "text": [
      "Mon Nov 20 11:36:32 PST 2023\r\n"
     ]
    }
   ],
   "source": [
    "! date"
   ]
  },
  {
   "cell_type": "code",
   "execution_count": 7,
   "id": "41e6be4e-a9b4-47c3-ae1a-f6e7d2c9dc6c",
   "metadata": {
    "execution": {
     "iopub.execute_input": "2023-11-20T19:36:32.843038Z",
     "iopub.status.busy": "2023-11-20T19:36:32.842458Z",
     "iopub.status.idle": "2023-11-20T19:36:32.850590Z",
     "shell.execute_reply": "2023-11-20T19:36:32.849697Z"
    },
    "papermill": {
     "duration": 0.018432,
     "end_time": "2023-11-20T19:36:32.852285",
     "exception": false,
     "start_time": "2023-11-20T19:36:32.833853",
     "status": "completed"
    },
    "tags": []
   },
   "outputs": [
    {
     "data": {
      "text/plain": [
       "'0.8.3.dev6+g31db93a'"
      ]
     },
     "execution_count": 7,
     "metadata": {},
     "output_type": "execute_result"
    }
   ],
   "source": [
    "psp.__version__"
   ]
  },
  {
   "cell_type": "code",
   "execution_count": 8,
   "id": "e5f1b1c7-e425-4fdb-a0fc-389e422d94d8",
   "metadata": {
    "execution": {
     "iopub.execute_input": "2023-11-20T19:36:32.868120Z",
     "iopub.status.busy": "2023-11-20T19:36:32.867420Z",
     "iopub.status.idle": "2023-11-20T19:36:32.876821Z",
     "shell.execute_reply": "2023-11-20T19:36:32.876113Z"
    },
    "papermill": {
     "duration": 0.019364,
     "end_time": "2023-11-20T19:36:32.878696",
     "exception": false,
     "start_time": "2023-11-20T19:36:32.859332",
     "status": "completed"
    },
    "tags": []
   },
   "outputs": [],
   "source": [
    "if compute_engine == 'pandas':\n",
    "    import pandas as pd\n",
    "elif compute_engine.startswith('modin'):\n",
    "    if compute_engine.startswith('modin_dask_'):\n",
    "        import modin.config as modin_cfg\n",
    "        modin_cfg.Engine.put(\"dask\") # Use dask instead of ray (which is the default)\n",
    "\n",
    "        import dask\n",
    "\n",
    "        if compute_engine == 'modin_dask_distributed':\n",
    "            from dask_jobqueue import SLURMCluster\n",
    "\n",
    "            cluster = SLURMCluster(\n",
    "                queue='all.q',\n",
    "                account=\"proj_simscience\",\n",
    "                # If you give dask workers more than one core, they will use it to\n",
    "                # run more tasks at once.\n",
    "                # To have more than one thread per worker but use them all for\n",
    "                # multi-threading code in one task\n",
    "                # at a time, you have to set cores=1, processes=1 and job_cpu > 1.\n",
    "                cores=1,\n",
    "                processes=1,\n",
    "                memory=memory_per_job,\n",
    "                walltime=\"1-00:00:00\",\n",
    "                # Dask distributed looks at OS-reported memory to decide whether a worker is running out.\n",
    "                # If the memory allocator is not returning the memory to the OS promptly (even when holding onto it\n",
    "                # is smart), it will lead Dask to make bad decisions.\n",
    "                # By default, pyarrow uses jemalloc, but I could not get that to release memory quickly.\n",
    "                # Even this doesn't seem to be completely working, but in combination with small-ish partitions\n",
    "                # it seems to do okay -- unmanaged memory does seem to shrink from time to time, which it wasn't\n",
    "                # previously doing.\n",
    "                job_script_prologue=\"export ARROW_DEFAULT_MEMORY_POOL=system\\nexport MALLOC_TRIM_THRESHOLD_=0\",\n",
    "                job_cpu=cpus_per_job,\n",
    "            )\n",
    "\n",
    "            cluster.scale(n=num_jobs)\n",
    "            # Supposedly, this will start new jobs if the existing\n",
    "            # ones fail for some reason.\n",
    "            # https://stackoverflow.com/a/61295019\n",
    "            cluster.adapt(minimum_jobs=num_jobs, maximum_jobs=num_jobs)\n",
    "\n",
    "            from distributed import Client\n",
    "            client = Client(cluster)\n",
    "        else:\n",
    "            from distributed import Client\n",
    "            cpus_available = int(os.environ['SLURM_CPUS_ON_NODE'])\n",
    "            client = Client(n_workers=int(cpus_available / 2), threads_per_worker=2)\n",
    "\n",
    "        # Why is this necessary?!\n",
    "        # For some reason, if I don't set NPartitions, it seems to default to 0?!\n",
    "        num_row_groups = 1 if data_to_use == 'small_sample' else 334\n",
    "        modin_cfg.NPartitions.put(min(num_jobs * 3, num_row_groups))\n",
    "        modin_cfg.MinPartitionSize.put(1_000) # ensure no column-axis partitions -- they'll need to be joined up right away anyway by our row-wise noising\n",
    "\n",
    "        display(client)\n",
    "    elif compute_engine == 'modin_ray':\n",
    "        # Haven't worked on distributing this across multiple nodes\n",
    "        import ray\n",
    "        ray.init(runtime_env={'env_vars': {'__MODIN_AUTOIMPORT_PANDAS__': '1'}}, num_cpus=int(os.environ['SLURM_CPUS_ON_NODE']))\n",
    "    else:\n",
    "        # Use serial Python backend (good for debugging errors)\n",
    "        import modin.config as modin_cfg\n",
    "        modin_cfg.IsDebug.put(True)\n",
    "\n",
    "    import modin.pandas as pd\n",
    "\n",
    "    # https://modin.readthedocs.io/en/stable/usage_guide/advanced_usage/progress_bar.html\n",
    "    from modin.config import ProgressBar\n",
    "    ProgressBar.enable()"
   ]
  },
  {
   "cell_type": "markdown",
   "id": "8a08bfa0-f644-4faa-b303-ef24d9a32b86",
   "metadata": {
    "papermill": {
     "duration": 0.006757,
     "end_time": "2023-11-20T19:36:32.892463",
     "exception": false,
     "start_time": "2023-11-20T19:36:32.885706",
     "status": "completed"
    },
    "tags": []
   },
   "source": [
    "## Load simulated data"
   ]
  },
  {
   "cell_type": "code",
   "execution_count": 9,
   "id": "8abfcc66-502c-45f1-a269-d0c60fa5f0c9",
   "metadata": {
    "execution": {
     "iopub.execute_input": "2023-11-20T19:36:32.907802Z",
     "iopub.status.busy": "2023-11-20T19:36:32.907300Z",
     "iopub.status.idle": "2023-11-20T19:36:32.911487Z",
     "shell.execute_reply": "2023-11-20T19:36:32.910694Z"
    },
    "papermill": {
     "duration": 0.013703,
     "end_time": "2023-11-20T19:36:32.913116",
     "exception": false,
     "start_time": "2023-11-20T19:36:32.899413",
     "status": "completed"
    },
    "tags": []
   },
   "outputs": [],
   "source": [
    "assert data_to_use in ('small_sample', 'usa')\n",
    "pseudopeople_input_dir = None if data_to_use == 'small_sample' else '/mnt/team/simulation_science/priv/engineering/vivarium_census_prl_synth_pop/results/release_02_yellow/full_data/united_states_of_america/2023_07_28_08_33_09/final_results/2023_08_16_09_58_54/pseudopeople_input_data_usa/'"
   ]
  },
  {
   "cell_type": "code",
   "execution_count": 10,
   "id": "cc05826f-98d7-4dac-adf9-8d9f80809811",
   "metadata": {
    "execution": {
     "iopub.execute_input": "2023-11-20T19:36:32.928520Z",
     "iopub.status.busy": "2023-11-20T19:36:32.927986Z",
     "iopub.status.idle": "2023-11-20T19:36:32.932094Z",
     "shell.execute_reply": "2023-11-20T19:36:32.931248Z"
    },
    "papermill": {
     "duration": 0.013729,
     "end_time": "2023-11-20T19:36:32.933664",
     "exception": false,
     "start_time": "2023-11-20T19:36:32.919935",
     "status": "completed"
    },
    "tags": []
   },
   "outputs": [],
   "source": [
    "psp_kwargs = {\n",
    "    'source': pseudopeople_input_dir,\n",
    "    'seed': pseudopeople_seed,\n",
    "}\n",
    "if 'modin' in compute_engine:\n",
    "    psp_kwargs['engine'] = 'modin'"
   ]
  },
  {
   "cell_type": "markdown",
   "id": "02bd7b4d-645d-4dca-94ae-ee1780048aa0",
   "metadata": {
    "papermill": {
     "duration": 0.007295,
     "end_time": "2023-11-20T19:36:32.948091",
     "exception": false,
     "start_time": "2023-11-20T19:36:32.940796",
     "status": "completed"
    },
    "tags": []
   },
   "source": [
    "### Noise configuration\n",
    "\n",
    "In order to give ourselves more of a challenge, we significantly increase the amount of noise\n",
    "from the pseudopeople defaults."
   ]
  },
  {
   "cell_type": "code",
   "execution_count": 11,
   "id": "9dbb002e-8468-4885-a4b5-52fdb75ce7c0",
   "metadata": {
    "execution": {
     "iopub.execute_input": "2023-11-20T19:36:32.963356Z",
     "iopub.status.busy": "2023-11-20T19:36:32.962848Z",
     "iopub.status.idle": "2023-11-20T19:36:32.972557Z",
     "shell.execute_reply": "2023-11-20T19:36:32.971709Z"
    },
    "papermill": {
     "duration": 0.019364,
     "end_time": "2023-11-20T19:36:32.974210",
     "exception": false,
     "start_time": "2023-11-20T19:36:32.954846",
     "status": "completed"
    },
    "tags": []
   },
   "outputs": [],
   "source": [
    "default_configuration = psp.get_config()"
   ]
  },
  {
   "cell_type": "code",
   "execution_count": 12,
   "id": "a42207b2-5f2b-40c1-82d8-4d6ca36fe4c4",
   "metadata": {
    "execution": {
     "iopub.execute_input": "2023-11-20T19:36:32.989860Z",
     "iopub.status.busy": "2023-11-20T19:36:32.989329Z",
     "iopub.status.idle": "2023-11-20T19:36:32.995124Z",
     "shell.execute_reply": "2023-11-20T19:36:32.994258Z"
    },
    "papermill": {
     "duration": 0.015387,
     "end_time": "2023-11-20T19:36:32.996618",
     "exception": false,
     "start_time": "2023-11-20T19:36:32.981231",
     "status": "completed"
    },
    "tags": []
   },
   "outputs": [],
   "source": [
    "# Helper functions for changing the default configuration according to a pattern\n",
    "def column_noise_value(dataset, column, noise_type, default_value):\n",
    "    if very_noisy and dataset in ('decennial_census', 'taxes_w2_and_1099', 'social_security'):\n",
    "        if noise_type == \"make_typos\":\n",
    "            if column == \"middle_initial\":\n",
    "                # 5% of middle initials (which are all a single token anyway) are wrong.\n",
    "                return {\"cell_probability\": 0.05, \"token_probability\": 1}\n",
    "            elif column in (\"first_name\", \"last_name\", \"street_name\"):\n",
    "                # 10% of these text columns were entered carelessly, at a rate of 1 error\n",
    "                # per 10 characters.\n",
    "                # The pseudopeople default is 1% careless.\n",
    "                return {\"cell_probability\": 0.1, \"token_probability\": 0.1}\n",
    "        elif noise_type == \"write_wrong_digits\" and (dataset != \"social_security\" or column != \"ssn\"):\n",
    "            # 10% of number columns were written carelessly, at a rate of 1 error\n",
    "            # per 10 characters.\n",
    "            # The pseudopeople default is 1% careless.\n",
    "            # Note that this is applied on top of (the default lower levels of) typos,\n",
    "            # since typos also apply to numeric characters.\n",
    "            # We never introduce error on the SSN in the SSA dataset\n",
    "            return {\"cell_probability\": 0.1, \"token_probability\": 0.1}\n",
    "\n",
    "    return default_value\n",
    "\n",
    "\n",
    "def row_noise_value(dataset, noise_type, default_value):\n",
    "    return default_value"
   ]
  },
  {
   "cell_type": "code",
   "execution_count": 13,
   "id": "e7c9dd19-eac0-455f-9af3-7bc7bc3029e0",
   "metadata": {
    "execution": {
     "iopub.execute_input": "2023-11-20T19:36:33.012172Z",
     "iopub.status.busy": "2023-11-20T19:36:33.011673Z",
     "iopub.status.idle": "2023-11-20T19:36:33.016941Z",
     "shell.execute_reply": "2023-11-20T19:36:33.016266Z"
    },
    "papermill": {
     "duration": 0.015031,
     "end_time": "2023-11-20T19:36:33.018600",
     "exception": false,
     "start_time": "2023-11-20T19:36:33.003569",
     "status": "completed"
    },
    "tags": []
   },
   "outputs": [],
   "source": [
    "custom_configuration = {\n",
    "    dataset: {\n",
    "        noise_category: (\n",
    "            ({\n",
    "                column: {\n",
    "                    noise_type: column_noise_value(dataset, column, noise_type, noise_type_config)\n",
    "                    for noise_type, noise_type_config in column_config.items()\n",
    "                }\n",
    "                for column, column_config in noise_category_config.items()\n",
    "            }\n",
    "            if noise_category == \"column_noise\" else\n",
    "            {\n",
    "                noise_type: row_noise_value(dataset, noise_type, noise_type_config)\n",
    "                for noise_type, noise_type_config in noise_category_config.items()\n",
    "            })\n",
    "        )\n",
    "        for noise_category, noise_category_config in dataset_config.items()\n",
    "    }\n",
    "    for dataset, dataset_config in default_configuration.items()\n",
    "}"
   ]
  },
  {
   "cell_type": "code",
   "execution_count": 14,
   "id": "e8056884-bb09-475b-9499-56ba79b96c6a",
   "metadata": {
    "execution": {
     "iopub.execute_input": "2023-11-20T19:36:33.034049Z",
     "iopub.status.busy": "2023-11-20T19:36:33.033540Z",
     "iopub.status.idle": "2023-11-20T19:36:33.037351Z",
     "shell.execute_reply": "2023-11-20T19:36:33.036585Z"
    },
    "papermill": {
     "duration": 0.013533,
     "end_time": "2023-11-20T19:36:33.038907",
     "exception": false,
     "start_time": "2023-11-20T19:36:33.025374",
     "status": "completed"
    },
    "tags": []
   },
   "outputs": [],
   "source": [
    "psp_kwargs['config'] = custom_configuration"
   ]
  },
  {
   "cell_type": "markdown",
   "id": "480d3767-1895-4c4f-91d8-72d13a19b5ec",
   "metadata": {
    "papermill": {
     "duration": 0.00689,
     "end_time": "2023-11-20T19:36:33.052754",
     "exception": false,
     "start_time": "2023-11-20T19:36:33.045864",
     "status": "completed"
    },
    "tags": []
   },
   "source": [
    "### Simulated SSA Numident\n",
    "\n",
    "Wagner and Layne, p.4:\n",
    "\n",
    "> The reference files are derived from the Social Security Administration\n",
    "    (SSA) Numerical Identification file (SSA Numident). The Numident contains all\n",
    "    transactions recorded against one Social Security Number (SSN)...\n",
    "\n",
    "Based on the [SSA Numident through 2007 which is publicly available from NARA](https://aad.archives.gov/aad/series-description.jsp?s=5057),\n",
    "we know there are three kinds of transactions: SSN applications, deaths, and claiming benefits.\n",
    "SSN holders may change their information (e.g. changing name or sex) by submitting another application,\n",
    "which generates an additional application transaction.\n",
    "(The policies about this are found [on the SSA website](https://secure.ssa.gov/poms.nsf/lnx/0110212200).)\n",
    "\n",
    "The paper [\"Likely Transgender Individuals in U.S. Federal Administrative Records and the 2010 Census\" by Benjamin Cerf Harris](https://www.census.gov/content/dam/Census/library/working-papers/2015/adrm/carra-wp-2015-03.pdf)\n",
    "includes some helpful statistics (Table 2).\n",
    "The average person in the SSA Numident has 2.2 transactions (called \"claims\" in that paper, but with the same definition\n",
    "as our term \"transaction\": \"Any time an SSN is created or information associated with an existing SSN is changed, that event is registered\n",
    "as a claim.\").\n",
    "\n",
    "pseudopeople does not currently include correction, name change, or benefits claim transactions.\n",
    "It only includes SSN creation and death of the SSN holder.\n",
    "\n",
    "I've figured that there would be some delay in getting the Numident -- so by Census processing time\n",
    "for the 2030 Census, only the SSA transactions by the end of 2029 would be available.\n",
    "Note that with pseudopeople's current design it is only possible to set this cutoff at the end of a calendar year.\n",
    "The NORC report says that \"the Census NUMIDENT is recreated each year, to reflect\n",
    "Social Security transaction records through **March** of each year\" (p. 105),\n",
    "though it isn't clear when in the year the Census Numident is actually re-created."
   ]
  },
  {
   "cell_type": "code",
   "execution_count": 15,
   "id": "3da0de7b-2e91-4d23-96bd-d331a820d7e7",
   "metadata": {
    "execution": {
     "iopub.execute_input": "2023-11-20T19:36:33.068035Z",
     "iopub.status.busy": "2023-11-20T19:36:33.067513Z",
     "iopub.status.idle": "2023-11-20T19:36:33.807616Z",
     "shell.execute_reply": "2023-11-20T19:36:33.806723Z"
    },
    "papermill": {
     "duration": 0.750235,
     "end_time": "2023-11-20T19:36:33.809863",
     "exception": false,
     "start_time": "2023-11-20T19:36:33.059628",
     "status": "completed"
    },
    "tags": []
   },
   "outputs": [
    {
     "name": "stderr",
     "output_type": "stream",
     "text": [
      "\r",
      "Applying noise:   0%|                                                                                                                                                                                                                                | 0/14 [00:00<?, ?type/s]"
     ]
    },
    {
     "name": "stderr",
     "output_type": "stream",
     "text": [
      "\r",
      "Applying noise:  64%|██████████████████████████████████████████████████████████████████████████████████████████████████████████████████████████████████████████▊                                                                             | 9/14 [00:00<00:00, 77.47type/s]"
     ]
    },
    {
     "name": "stderr",
     "output_type": "stream",
     "text": [
      "\r",
      "                                                                                                                                                                                                                                                                              "
     ]
    },
    {
     "name": "stdout",
     "output_type": "stream",
     "text": [
      "CPU times: user 717 ms, sys: 21.8 ms, total: 739 ms\n",
      "Wall time: 735 ms\n"
     ]
    },
    {
     "name": "stderr",
     "output_type": "stream",
     "text": [
      "\r"
     ]
    }
   ],
   "source": [
    "%%time\n",
    "\n",
    "simulated_ssa_numident = psp.generate_social_security(\n",
    "    year=2029,\n",
    "    **psp_kwargs,\n",
    ")"
   ]
  },
  {
   "cell_type": "code",
   "execution_count": 16,
   "id": "122a7f79-8054-4664-b916-f023585bf398",
   "metadata": {
    "execution": {
     "iopub.execute_input": "2023-11-20T19:36:33.827117Z",
     "iopub.status.busy": "2023-11-20T19:36:33.826566Z",
     "iopub.status.idle": "2023-11-20T19:36:33.879339Z",
     "shell.execute_reply": "2023-11-20T19:36:33.878613Z"
    },
    "papermill": {
     "duration": 0.063402,
     "end_time": "2023-11-20T19:36:33.881151",
     "exception": false,
     "start_time": "2023-11-20T19:36:33.817749",
     "status": "completed"
    },
    "tags": []
   },
   "outputs": [
    {
     "name": "stdout",
     "output_type": "stream",
     "text": [
      "CPU times: user 32.4 ms, sys: 3.19 ms, total: 35.6 ms\n",
      "Wall time: 46.9 ms\n"
     ]
    }
   ],
   "source": [
    "%%time\n",
    "\n",
    "simulated_ssa_numident.to_parquet(str(Path(output_dir) / \"simulated_ssa_numident.parquet\"))"
   ]
  },
  {
   "cell_type": "markdown",
   "id": "5fe8e46b-f936-4704-b120-9bbcbce6c3e9",
   "metadata": {
    "papermill": {
     "duration": 0.007506,
     "end_time": "2023-11-20T19:36:33.896257",
     "exception": false,
     "start_time": "2023-11-20T19:36:33.888751",
     "status": "completed"
    },
    "tags": []
   },
   "source": [
    "### Simulated 1040 tax filings\n",
    "\n",
    "We assume that the last 5 years of taxes would be available and used in the construction of the reference files -- see section about reference files below.\n",
    "\n",
    "Note that these are retrieved by *tax* year, so the 2029 taxes would be available in early 2030\n",
    "(around when our hypothetical case study is taking place)."
   ]
  },
  {
   "cell_type": "code",
   "execution_count": 17,
   "id": "8157a22b-45f3-4fc1-803e-4670a554b23f",
   "metadata": {
    "execution": {
     "iopub.execute_input": "2023-11-20T19:36:33.913308Z",
     "iopub.status.busy": "2023-11-20T19:36:33.912727Z",
     "iopub.status.idle": "2023-11-20T19:36:33.918209Z",
     "shell.execute_reply": "2023-11-20T19:36:33.917327Z"
    },
    "papermill": {
     "duration": 0.015841,
     "end_time": "2023-11-20T19:36:33.919792",
     "exception": false,
     "start_time": "2023-11-20T19:36:33.903951",
     "status": "completed"
    },
    "tags": []
   },
   "outputs": [
    {
     "data": {
      "text/plain": [
       "[2025, 2026, 2027, 2028, 2029]"
      ]
     },
     "execution_count": 17,
     "metadata": {},
     "output_type": "execute_result"
    }
   ],
   "source": [
    "tax_years = list(range(2025, 2030))\n",
    "tax_years"
   ]
  },
  {
   "cell_type": "code",
   "execution_count": 18,
   "id": "1b9a92b7-bdaf-454d-8ad4-97db95d6b461",
   "metadata": {
    "execution": {
     "iopub.execute_input": "2023-11-20T19:36:33.936504Z",
     "iopub.status.busy": "2023-11-20T19:36:33.935978Z",
     "iopub.status.idle": "2023-11-20T19:36:39.426763Z",
     "shell.execute_reply": "2023-11-20T19:36:39.425722Z"
    },
    "papermill": {
     "duration": 5.501133,
     "end_time": "2023-11-20T19:36:39.428366",
     "exception": false,
     "start_time": "2023-11-20T19:36:33.927233",
     "status": "completed"
    },
    "tags": []
   },
   "outputs": [
    {
     "name": "stdout",
     "output_type": "stream",
     "text": [
      "2025\n"
     ]
    },
    {
     "name": "stderr",
     "output_type": "stream",
     "text": [
      "\r",
      "Applying noise:   0%|                                                                                                                                                                                                                                | 0/14 [00:00<?, ?type/s]"
     ]
    },
    {
     "name": "stderr",
     "output_type": "stream",
     "text": [
      "\r",
      "Applying noise:  29%|█████████████████████████████████████████████████████████████▋                                                                                                                                                          | 4/14 [00:00<00:00, 38.70type/s]"
     ]
    },
    {
     "name": "stderr",
     "output_type": "stream",
     "text": [
      "\r",
      "Applying noise:  71%|█████████████████████████████████████████████████████████████████████████████████████████████████████████████████████████████████████████████████████████▌                                                             | 10/14 [00:00<00:00, 32.87type/s]"
     ]
    },
    {
     "name": "stderr",
     "output_type": "stream",
     "text": [
      "\r",
      "Applying noise: 100%|███████████████████████████████████████████████████████████████████████████████████████████████████████████████████████████████████████████████████████████████████████████████████████████████████████████████████████| 14/14 [00:00<00:00, 15.68type/s]"
     ]
    },
    {
     "name": "stderr",
     "output_type": "stream",
     "text": [
      "\r",
      "                                                                                                                                                                                                                                                                              "
     ]
    },
    {
     "name": "stderr",
     "output_type": "stream",
     "text": [
      "\r"
     ]
    },
    {
     "name": "stdout",
     "output_type": "stream",
     "text": [
      "2026\n"
     ]
    },
    {
     "name": "stderr",
     "output_type": "stream",
     "text": [
      "\r",
      "Applying noise:   0%|                                                                                                                                                                                                                                | 0/14 [00:00<?, ?type/s]"
     ]
    },
    {
     "name": "stderr",
     "output_type": "stream",
     "text": [
      "\r",
      "Applying noise:  29%|█████████████████████████████████████████████████████████████▋                                                                                                                                                          | 4/14 [00:00<00:00, 37.72type/s]"
     ]
    },
    {
     "name": "stderr",
     "output_type": "stream",
     "text": [
      "\r",
      "Applying noise:  71%|█████████████████████████████████████████████████████████████████████████████████████████████████████████████████████████████████████████████████████████▌                                                             | 10/14 [00:00<00:00, 33.27type/s]"
     ]
    },
    {
     "name": "stderr",
     "output_type": "stream",
     "text": [
      "\r",
      "Applying noise: 100%|███████████████████████████████████████████████████████████████████████████████████████████████████████████████████████████████████████████████████████████████████████████████████████████████████████████████████████| 14/14 [00:00<00:00, 16.31type/s]"
     ]
    },
    {
     "name": "stderr",
     "output_type": "stream",
     "text": [
      "\r",
      "                                                                                                                                                                                                                                                                              "
     ]
    },
    {
     "name": "stderr",
     "output_type": "stream",
     "text": [
      "\r"
     ]
    },
    {
     "name": "stdout",
     "output_type": "stream",
     "text": [
      "2027\n"
     ]
    },
    {
     "name": "stderr",
     "output_type": "stream",
     "text": [
      "\r",
      "Applying noise:   0%|                                                                                                                                                                                                                                | 0/14 [00:00<?, ?type/s]"
     ]
    },
    {
     "name": "stderr",
     "output_type": "stream",
     "text": [
      "\r",
      "Applying noise:  29%|█████████████████████████████████████████████████████████████▋                                                                                                                                                          | 4/14 [00:00<00:00, 39.20type/s]"
     ]
    },
    {
     "name": "stderr",
     "output_type": "stream",
     "text": [
      "\r",
      "Applying noise:  71%|█████████████████████████████████████████████████████████████████████████████████████████████████████████████████████████████████████████████████████████▌                                                             | 10/14 [00:00<00:00, 32.86type/s]"
     ]
    },
    {
     "name": "stderr",
     "output_type": "stream",
     "text": [
      "\r",
      "Applying noise: 100%|███████████████████████████████████████████████████████████████████████████████████████████████████████████████████████████████████████████████████████████████████████████████████████████████████████████████████████| 14/14 [00:00<00:00, 16.54type/s]"
     ]
    },
    {
     "name": "stderr",
     "output_type": "stream",
     "text": [
      "\r",
      "                                                                                                                                                                                                                                                                              "
     ]
    },
    {
     "name": "stderr",
     "output_type": "stream",
     "text": [
      "\r"
     ]
    },
    {
     "name": "stdout",
     "output_type": "stream",
     "text": [
      "2028\n"
     ]
    },
    {
     "name": "stderr",
     "output_type": "stream",
     "text": [
      "\r",
      "Applying noise:   0%|                                                                                                                                                                                                                                | 0/14 [00:00<?, ?type/s]"
     ]
    },
    {
     "name": "stderr",
     "output_type": "stream",
     "text": [
      "\r",
      "Applying noise:  29%|█████████████████████████████████████████████████████████████▋                                                                                                                                                          | 4/14 [00:00<00:00, 38.28type/s]"
     ]
    },
    {
     "name": "stderr",
     "output_type": "stream",
     "text": [
      "\r",
      "Applying noise:  71%|█████████████████████████████████████████████████████████████████████████████████████████████████████████████████████████████████████████████████████████▌                                                             | 10/14 [00:00<00:00, 32.97type/s]"
     ]
    },
    {
     "name": "stderr",
     "output_type": "stream",
     "text": [
      "\r",
      "Applying noise: 100%|███████████████████████████████████████████████████████████████████████████████████████████████████████████████████████████████████████████████████████████████████████████████████████████████████████████████████████| 14/14 [00:00<00:00, 16.09type/s]"
     ]
    },
    {
     "name": "stderr",
     "output_type": "stream",
     "text": [
      "\r",
      "                                                                                                                                                                                                                                                                              "
     ]
    },
    {
     "name": "stderr",
     "output_type": "stream",
     "text": [
      "\r"
     ]
    },
    {
     "name": "stdout",
     "output_type": "stream",
     "text": [
      "2029\n"
     ]
    },
    {
     "name": "stderr",
     "output_type": "stream",
     "text": [
      "\r",
      "Applying noise:   0%|                                                                                                                                                                                                                                | 0/14 [00:00<?, ?type/s]"
     ]
    },
    {
     "name": "stderr",
     "output_type": "stream",
     "text": [
      "\r",
      "Applying noise:  29%|█████████████████████████████████████████████████████████████▋                                                                                                                                                          | 4/14 [00:00<00:00, 39.24type/s]"
     ]
    },
    {
     "name": "stderr",
     "output_type": "stream",
     "text": [
      "\r",
      "Applying noise:  71%|█████████████████████████████████████████████████████████████████████████████████████████████████████████████████████████████████████████████████████████▌                                                             | 10/14 [00:00<00:00, 34.59type/s]"
     ]
    },
    {
     "name": "stderr",
     "output_type": "stream",
     "text": [
      "\r",
      "Applying noise: 100%|███████████████████████████████████████████████████████████████████████████████████████████████████████████████████████████████████████████████████████████████████████████████████████████████████████████████████████| 14/14 [00:00<00:00, 16.47type/s]"
     ]
    },
    {
     "name": "stderr",
     "output_type": "stream",
     "text": [
      "\r",
      "                                                                                                                                                                                                                                                                              "
     ]
    },
    {
     "name": "stdout",
     "output_type": "stream",
     "text": [
      "CPU times: user 5.85 s, sys: 261 ms, total: 6.12 s\n",
      "Wall time: 5.48 s\n"
     ]
    },
    {
     "name": "stderr",
     "output_type": "stream",
     "text": [
      "\r"
     ]
    }
   ],
   "source": [
    "%%time\n",
    "\n",
    "for year in tax_years:\n",
    "    print(year)\n",
    "    psp.generate_taxes_1040(\n",
    "        year=year,\n",
    "        **psp_kwargs,\n",
    "    ).to_parquet(str(Path(output_dir) / f\"simulated_taxes_1040_{year}.parquet\"))"
   ]
  },
  {
   "cell_type": "markdown",
   "id": "d8bad94f-c803-41e0-bf17-9ecfdb56cdbd",
   "metadata": {
    "papermill": {
     "duration": 0.009027,
     "end_time": "2023-11-20T19:36:39.447151",
     "exception": false,
     "start_time": "2023-11-20T19:36:39.438124",
     "status": "completed"
    },
    "tags": []
   },
   "source": [
    "### Simulated W2/1099 tax filings\n",
    "\n",
    "We assume that the last 5 years of taxes would be available and used in the construction of the reference files.\n",
    "\n",
    "Note that these are retrieved by *tax* year, so the 2029 taxes would be available in early 2030\n",
    "(around when our hypothetical case study is taking place)."
   ]
  },
  {
   "cell_type": "code",
   "execution_count": 19,
   "id": "2c072c69-f7c7-4bf1-b99e-48c3257063ba",
   "metadata": {
    "execution": {
     "iopub.execute_input": "2023-11-20T19:36:39.516549Z",
     "iopub.status.busy": "2023-11-20T19:36:39.516015Z",
     "iopub.status.idle": "2023-11-20T19:36:43.568214Z",
     "shell.execute_reply": "2023-11-20T19:36:43.567441Z"
    },
    "papermill": {
     "duration": 4.113051,
     "end_time": "2023-11-20T19:36:43.569919",
     "exception": false,
     "start_time": "2023-11-20T19:36:39.456868",
     "status": "completed"
    },
    "tags": []
   },
   "outputs": [
    {
     "name": "stdout",
     "output_type": "stream",
     "text": [
      "2025\n"
     ]
    },
    {
     "name": "stderr",
     "output_type": "stream",
     "text": [
      "\r",
      "Applying noise:   0%|                                                                                                                                                                                                                                | 0/14 [00:00<?, ?type/s]"
     ]
    },
    {
     "name": "stderr",
     "output_type": "stream",
     "text": [
      "\r",
      "Applying noise:  29%|█████████████████████████████████████████████████████████████▋                                                                                                                                                          | 4/14 [00:00<00:00, 35.83type/s]"
     ]
    },
    {
     "name": "stderr",
     "output_type": "stream",
     "text": [
      "\r",
      "Applying noise:  86%|████████████████████████████████████████████████████████████████████████████████████████████████████████████████████████████████████████████████████████████████████████████████████████▎                              | 12/14 [00:00<00:00, 48.94type/s]"
     ]
    },
    {
     "name": "stderr",
     "output_type": "stream",
     "text": [
      "\r",
      "                                                                                                                                                                                                                                                                              "
     ]
    },
    {
     "name": "stderr",
     "output_type": "stream",
     "text": [
      "\r"
     ]
    },
    {
     "name": "stdout",
     "output_type": "stream",
     "text": [
      "2026\n"
     ]
    },
    {
     "name": "stderr",
     "output_type": "stream",
     "text": [
      "\r",
      "Applying noise:   0%|                                                                                                                                                                                                                                | 0/14 [00:00<?, ?type/s]"
     ]
    },
    {
     "name": "stderr",
     "output_type": "stream",
     "text": [
      "\r",
      "Applying noise:  29%|█████████████████████████████████████████████████████████████▋                                                                                                                                                          | 4/14 [00:00<00:00, 36.51type/s]"
     ]
    },
    {
     "name": "stderr",
     "output_type": "stream",
     "text": [
      "\r",
      "Applying noise:  86%|████████████████████████████████████████████████████████████████████████████████████████████████████████████████████████████████████████████████████████████████████████████████████████▎                              | 12/14 [00:00<00:00, 49.04type/s]"
     ]
    },
    {
     "name": "stderr",
     "output_type": "stream",
     "text": [
      "\r",
      "                                                                                                                                                                                                                                                                              "
     ]
    },
    {
     "name": "stderr",
     "output_type": "stream",
     "text": [
      "\r"
     ]
    },
    {
     "name": "stdout",
     "output_type": "stream",
     "text": [
      "2027\n"
     ]
    },
    {
     "name": "stderr",
     "output_type": "stream",
     "text": [
      "\r",
      "Applying noise:   0%|                                                                                                                                                                                                                                | 0/14 [00:00<?, ?type/s]"
     ]
    },
    {
     "name": "stderr",
     "output_type": "stream",
     "text": [
      "\r",
      "Applying noise:  29%|█████████████████████████████████████████████████████████████▋                                                                                                                                                          | 4/14 [00:00<00:00, 35.23type/s]"
     ]
    },
    {
     "name": "stderr",
     "output_type": "stream",
     "text": [
      "\r",
      "Applying noise:  86%|████████████████████████████████████████████████████████████████████████████████████████████████████████████████████████████████████████████████████████████████████████████████████████▎                              | 12/14 [00:00<00:00, 47.53type/s]"
     ]
    },
    {
     "name": "stderr",
     "output_type": "stream",
     "text": [
      "\r",
      "                                                                                                                                                                                                                                                                              "
     ]
    },
    {
     "name": "stderr",
     "output_type": "stream",
     "text": [
      "\r"
     ]
    },
    {
     "name": "stdout",
     "output_type": "stream",
     "text": [
      "2028\n"
     ]
    },
    {
     "name": "stderr",
     "output_type": "stream",
     "text": [
      "\r",
      "Applying noise:   0%|                                                                                                                                                                                                                                | 0/14 [00:00<?, ?type/s]"
     ]
    },
    {
     "name": "stderr",
     "output_type": "stream",
     "text": [
      "\r",
      "Applying noise:  29%|█████████████████████████████████████████████████████████████▋                                                                                                                                                          | 4/14 [00:00<00:00, 36.11type/s]"
     ]
    },
    {
     "name": "stderr",
     "output_type": "stream",
     "text": [
      "\r",
      "Applying noise:  86%|████████████████████████████████████████████████████████████████████████████████████████████████████████████████████████████████████████████████████████████████████████████████████████▎                              | 12/14 [00:00<00:00, 48.15type/s]"
     ]
    },
    {
     "name": "stderr",
     "output_type": "stream",
     "text": [
      "\r",
      "                                                                                                                                                                                                                                                                              "
     ]
    },
    {
     "name": "stderr",
     "output_type": "stream",
     "text": [
      "\r"
     ]
    },
    {
     "name": "stdout",
     "output_type": "stream",
     "text": [
      "2029\n"
     ]
    },
    {
     "name": "stderr",
     "output_type": "stream",
     "text": [
      "\r",
      "Applying noise:   0%|                                                                                                                                                                                                                                | 0/14 [00:00<?, ?type/s]"
     ]
    },
    {
     "name": "stderr",
     "output_type": "stream",
     "text": [
      "\r",
      "Applying noise:  29%|█████████████████████████████████████████████████████████████▋                                                                                                                                                          | 4/14 [00:00<00:00, 35.36type/s]"
     ]
    },
    {
     "name": "stderr",
     "output_type": "stream",
     "text": [
      "\r",
      "Applying noise:  86%|████████████████████████████████████████████████████████████████████████████████████████████████████████████████████████████████████████████████████████████████████████████████████████▎                              | 12/14 [00:00<00:00, 47.89type/s]"
     ]
    },
    {
     "name": "stderr",
     "output_type": "stream",
     "text": [
      "\r",
      "                                                                                                                                                                                                                                                                              "
     ]
    },
    {
     "name": "stdout",
     "output_type": "stream",
     "text": [
      "CPU times: user 4.15 s, sys: 233 ms, total: 4.38 s\n",
      "Wall time: 4.04 s\n"
     ]
    },
    {
     "name": "stderr",
     "output_type": "stream",
     "text": [
      "\r"
     ]
    }
   ],
   "source": [
    "%%time\n",
    "\n",
    "for year in tax_years:\n",
    "    print(year)\n",
    "    psp.generate_taxes_w2_and_1099(\n",
    "        year=year,\n",
    "        **psp_kwargs,\n",
    "    ).to_parquet(str(Path(output_dir) / f\"simulated_taxes_w2_and_1099_{year}.parquet\"))"
   ]
  },
  {
   "cell_type": "markdown",
   "id": "ed6967cb-dfa6-4b43-98b9-e590d266f55f",
   "metadata": {
    "papermill": {
     "duration": 0.011403,
     "end_time": "2023-11-20T19:36:43.592548",
     "exception": false,
     "start_time": "2023-11-20T19:36:43.581145",
     "status": "completed"
    },
    "tags": []
   },
   "source": [
    "### Simulated 2030 Census Unedited File (CUF)\n",
    "\n",
    "For now, we gloss over the data schema for addresses.\n",
    "We don't know how addresses would be formatted in the CUF (and it's hard to guess, because\n",
    "address is not part of the Census form), but it likely would have some of these fields\n",
    "(street number, street name, etc) combined.\n",
    "\n",
    "While PVS input files do not in general have names split into first, middle, and last,\n",
    "I am guessing the CUF **would** have first name, middle initial, last name (which is how pseudopeople\n",
    "generates it), because that [matches the Census questionnaire](https://www2.census.gov/programs-surveys/decennial/2020/technical-documentation/questionnaires-and-instructions/questionnaires/2020-informational-questionnaire-english_DI-Q1.pdf)."
   ]
  },
  {
   "cell_type": "code",
   "execution_count": 20,
   "id": "670c2201-c8a3-43d8-8f3a-f98bf576666a",
   "metadata": {
    "execution": {
     "iopub.execute_input": "2023-11-20T19:36:43.617247Z",
     "iopub.status.busy": "2023-11-20T19:36:43.616666Z",
     "iopub.status.idle": "2023-11-20T19:36:44.248484Z",
     "shell.execute_reply": "2023-11-20T19:36:44.247579Z"
    },
    "papermill": {
     "duration": 0.646156,
     "end_time": "2023-11-20T19:36:44.250156",
     "exception": false,
     "start_time": "2023-11-20T19:36:43.604000",
     "status": "completed"
    },
    "tags": []
   },
   "outputs": [
    {
     "name": "stderr",
     "output_type": "stream",
     "text": [
      "\r",
      "Applying noise:   0%|                                                                                                                                                                                                                                | 0/14 [00:00<?, ?type/s]"
     ]
    },
    {
     "name": "stderr",
     "output_type": "stream",
     "text": [
      "\r",
      "Applying noise:  29%|█████████████████████████████████████████████████████████████▋                                                                                                                                                          | 4/14 [00:00<00:00, 26.50type/s]"
     ]
    },
    {
     "name": "stderr",
     "output_type": "stream",
     "text": [
      "\r",
      "Applying noise:  79%|████████████████████████████████████████████████████████████████████████████████████████████████████████████████████████████████████████████████████████████████████████▉                                              | 11/14 [00:00<00:00, 47.62type/s]"
     ]
    },
    {
     "name": "stderr",
     "output_type": "stream",
     "text": [
      "\r",
      "                                                                                                                                                                                                                                                                              "
     ]
    },
    {
     "name": "stderr",
     "output_type": "stream",
     "text": [
      "\r"
     ]
    },
    {
     "name": "stdout",
     "output_type": "stream",
     "text": [
      "CPU times: user 619 ms, sys: 23.7 ms, total: 643 ms\n",
      "Wall time: 627 ms\n"
     ]
    }
   ],
   "source": [
    "%%time\n",
    "\n",
    "simulated_census_2030 = psp.generate_decennial_census(\n",
    "    year=2030,\n",
    "    **psp_kwargs,\n",
    ")\n",
    "simulated_census_2030.to_parquet(str(Path(output_dir) / f\"simulated_census_2030.parquet\"))"
   ]
  },
  {
   "cell_type": "code",
   "execution_count": 21,
   "id": "43c6bfe1-d95c-4774-8a1b-e477f258fca6",
   "metadata": {
    "execution": {
     "iopub.execute_input": "2023-11-20T19:36:44.274691Z",
     "iopub.status.busy": "2023-11-20T19:36:44.274324Z",
     "iopub.status.idle": "2023-11-20T19:36:44.412072Z",
     "shell.execute_reply": "2023-11-20T19:36:44.409819Z"
    },
    "papermill": {
     "duration": 0.155525,
     "end_time": "2023-11-20T19:36:44.417040",
     "exception": false,
     "start_time": "2023-11-20T19:36:44.261515",
     "status": "completed"
    },
    "tags": []
   },
   "outputs": [
    {
     "name": "stdout",
     "output_type": "stream",
     "text": [
      "Mon Nov 20 11:36:44 PST 2023\r\n"
     ]
    }
   ],
   "source": [
    "! date"
   ]
  },
  {
   "cell_type": "code",
   "execution_count": null,
   "id": "ac19c70b-36c9-486f-9e65-6a32ca876ad7",
   "metadata": {
    "papermill": {
     "duration": 0.011059,
     "end_time": "2023-11-20T19:36:44.446610",
     "exception": false,
     "start_time": "2023-11-20T19:36:44.435551",
     "status": "completed"
    },
    "tags": []
   },
   "outputs": [],
   "source": []
  }
 ],
 "metadata": {
  "kernelspec": {
   "display_name": "generate_simulated_data_3",
   "language": "python",
   "name": "generate_simulated_data_3"
  },
  "language_info": {
   "codemirror_mode": {
    "name": "ipython",
    "version": 3
   },
   "file_extension": ".py",
   "mimetype": "text/x-python",
   "name": "python",
   "nbconvert_exporter": "python",
   "pygments_lexer": "ipython3",
   "version": "3.10.13"
  },
  "papermill": {
   "default_parameters": {},
   "duration": 17.42629,
   "end_time": "2023-11-20T19:36:44.976271",
   "environment_variables": {},
   "exception": null,
   "input_path": "generate_pseudopeople_simulated_datasets.ipynb",
   "output_path": "generate_pseudopeople_simulated_datasets_small_sample.ipynb",
   "parameters": {
    "data_to_use": "small_sample"
   },
   "start_time": "2023-11-20T19:36:27.549981",
   "version": "2.5.0"
  }
 },
 "nbformat": 4,
 "nbformat_minor": 5
}