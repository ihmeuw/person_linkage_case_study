{
 "cells": [
  {
   "cell_type": "markdown",
   "id": "6f802687-416a-4b38-82d3-ab387dc16c38",
   "metadata": {
    "papermill": {
     "duration": 0.01587,
     "end_time": "2023-11-17T04:01:17.712722",
     "exception": false,
     "start_time": "2023-11-17T04:01:17.696852",
     "status": "completed"
    },
    "tags": []
   },
   "source": [
    "# Generate pseudopeople simulated datasets\n",
    "\n",
    "The very first step is generating pseudopeople data that will be used both directly in the case study, and to create the reference files.\n",
    "Since this is an intensive operation and currently can only be distributed with Modin, we do only this step in this notebook, then\n",
    "save the results."
   ]
  },
  {
   "cell_type": "code",
   "execution_count": 1,
   "id": "6a821e3e-9ae1-466d-b24f-66d1b0703a92",
   "metadata": {
    "execution": {
     "iopub.execute_input": "2023-11-17T04:01:17.731421Z",
     "iopub.status.busy": "2023-11-17T04:01:17.730816Z",
     "iopub.status.idle": "2023-11-17T04:01:26.619370Z",
     "shell.execute_reply": "2023-11-17T04:01:26.617370Z"
    },
    "papermill": {
     "duration": 8.902275,
     "end_time": "2023-11-17T04:01:26.623693",
     "exception": false,
     "start_time": "2023-11-17T04:01:17.721418",
     "status": "completed"
    },
    "tags": []
   },
   "outputs": [],
   "source": [
    "import warnings\n",
    "import pseudopeople as psp\n",
    "import numpy as np\n",
    "import os\n",
    "import logging\n",
    "from pathlib import Path\n",
    "# Importing pandas for access, regardless of whether we are using it as the compute engine\n",
    "import pandas"
   ]
  },
  {
   "cell_type": "code",
   "execution_count": 2,
   "id": "cc4546dc-f329-48b7-9988-5d25991939f0",
   "metadata": {
    "execution": {
     "iopub.execute_input": "2023-11-17T04:01:26.647278Z",
     "iopub.status.busy": "2023-11-17T04:01:26.646676Z",
     "iopub.status.idle": "2023-11-17T04:01:26.654592Z",
     "shell.execute_reply": "2023-11-17T04:01:26.652473Z"
    },
    "papermill": {
     "duration": 0.018704,
     "end_time": "2023-11-17T04:01:26.656594",
     "exception": false,
     "start_time": "2023-11-17T04:01:26.637890",
     "status": "completed"
    },
    "tags": []
   },
   "outputs": [],
   "source": [
    "warnings.simplefilter(action='ignore', category=FutureWarning)"
   ]
  },
  {
   "cell_type": "code",
   "execution_count": 3,
   "id": "7ac996f3-1270-4211-a829-728e3b2ba6f7",
   "metadata": {
    "editable": true,
    "execution": {
     "iopub.execute_input": "2023-11-17T04:01:26.672957Z",
     "iopub.status.busy": "2023-11-17T04:01:26.672247Z",
     "iopub.status.idle": "2023-11-17T04:01:26.682004Z",
     "shell.execute_reply": "2023-11-17T04:01:26.679927Z"
    },
    "papermill": {
     "duration": 0.020457,
     "end_time": "2023-11-17T04:01:26.684065",
     "exception": false,
     "start_time": "2023-11-17T04:01:26.663608",
     "status": "completed"
    },
    "slideshow": {
     "slide_type": ""
    },
    "tags": [
     "parameters"
    ]
   },
   "outputs": [],
   "source": [
    "# DO NOT EDIT if this notebook is not called generate_pseudopeople_simulated_datasets.ipynb!\n",
    "# This notebook is designed to be run with papermill; this cell is tagged 'parameters'\n",
    "# When you run this, save it to another filename.\n",
    "data_to_use = 'small_sample'\n",
    "output_dir = 'output'\n",
    "compute_engine = 'pandas'\n",
    "# Only matter if distributing\n",
    "num_jobs = 100\n",
    "cpus_per_job = 5\n",
    "memory_per_job = \"30GB\"\n",
    "very_noisy = True"
   ]
  },
  {
   "cell_type": "code",
   "execution_count": 4,
   "id": "85b0b285",
   "metadata": {
    "execution": {
     "iopub.execute_input": "2023-11-17T04:01:26.701262Z",
     "iopub.status.busy": "2023-11-17T04:01:26.700608Z",
     "iopub.status.idle": "2023-11-17T04:01:26.709739Z",
     "shell.execute_reply": "2023-11-17T04:01:26.707638Z"
    },
    "papermill": {
     "duration": 0.0204,
     "end_time": "2023-11-17T04:01:26.711882",
     "exception": false,
     "start_time": "2023-11-17T04:01:26.691482",
     "status": "completed"
    },
    "tags": [
     "injected-parameters"
    ]
   },
   "outputs": [],
   "source": [
    "# Parameters\n",
    "data_to_use = \"usa\"\n",
    "output_dir = \"/ihme/scratch/users/zmbc/pvs_like_case_study/generate_simulated_data/\"\n",
    "compute_engine = \"modin_dask_distributed\"\n",
    "num_jobs = 100\n",
    "memory_per_job = \"30GB\"\n",
    "cpus_per_job = 5\n",
    "very_noisy = False\n"
   ]
  },
  {
   "cell_type": "code",
   "execution_count": 5,
   "id": "d23e90be-2f7f-46db-ae17-a3dae23b7a4a",
   "metadata": {
    "execution": {
     "iopub.execute_input": "2023-11-17T04:01:26.728967Z",
     "iopub.status.busy": "2023-11-17T04:01:26.728329Z",
     "iopub.status.idle": "2023-11-17T04:01:26.736698Z",
     "shell.execute_reply": "2023-11-17T04:01:26.734533Z"
    },
    "papermill": {
     "duration": 0.019569,
     "end_time": "2023-11-17T04:01:26.738952",
     "exception": false,
     "start_time": "2023-11-17T04:01:26.719383",
     "status": "completed"
    },
    "tags": []
   },
   "outputs": [],
   "source": [
    "output_dir = str(Path(output_dir) / data_to_use / \"pseudopeople_simulated_datasets\")"
   ]
  },
  {
   "cell_type": "code",
   "execution_count": 6,
   "id": "79ff29f5-473d-4dab-9e7f-453f284ad8d8",
   "metadata": {
    "execution": {
     "iopub.execute_input": "2023-11-17T04:01:26.756827Z",
     "iopub.status.busy": "2023-11-17T04:01:26.756188Z",
     "iopub.status.idle": "2023-11-17T04:01:26.933832Z",
     "shell.execute_reply": "2023-11-17T04:01:26.931283Z"
    },
    "papermill": {
     "duration": 0.191232,
     "end_time": "2023-11-17T04:01:26.938178",
     "exception": false,
     "start_time": "2023-11-17T04:01:26.746946",
     "status": "completed"
    },
    "tags": []
   },
   "outputs": [
    {
     "name": "stdout",
     "output_type": "stream",
     "text": [
      "Thu Nov 16 20:01:26 PST 2023\n"
     ]
    }
   ],
   "source": [
    "! date"
   ]
  },
  {
   "cell_type": "code",
   "execution_count": 7,
   "id": "41e6be4e-a9b4-47c3-ae1a-f6e7d2c9dc6c",
   "metadata": {
    "execution": {
     "iopub.execute_input": "2023-11-17T04:01:26.962151Z",
     "iopub.status.busy": "2023-11-17T04:01:26.961494Z",
     "iopub.status.idle": "2023-11-17T04:01:26.978085Z",
     "shell.execute_reply": "2023-11-17T04:01:26.976394Z"
    },
    "papermill": {
     "duration": 0.028761,
     "end_time": "2023-11-17T04:01:26.980049",
     "exception": false,
     "start_time": "2023-11-17T04:01:26.951288",
     "status": "completed"
    },
    "tags": []
   },
   "outputs": [
    {
     "data": {
      "text/plain": [
       "'0.8.3.dev6+g31db93a'"
      ]
     },
     "execution_count": 7,
     "metadata": {},
     "output_type": "execute_result"
    }
   ],
   "source": [
    "psp.__version__"
   ]
  },
  {
   "cell_type": "code",
   "execution_count": 8,
   "id": "e5f1b1c7-e425-4fdb-a0fc-389e422d94d8",
   "metadata": {
    "execution": {
     "iopub.execute_input": "2023-11-17T04:01:26.999978Z",
     "iopub.status.busy": "2023-11-17T04:01:26.999467Z",
     "iopub.status.idle": "2023-11-17T04:01:35.058750Z",
     "shell.execute_reply": "2023-11-17T04:01:35.057023Z"
    },
    "papermill": {
     "duration": 8.072619,
     "end_time": "2023-11-17T04:01:35.062564",
     "exception": false,
     "start_time": "2023-11-17T04:01:26.989945",
     "status": "completed"
    },
    "tags": []
   },
   "outputs": [
    {
     "data": {
      "text/html": [
       "<div>\n",
       "    <div style=\"width: 24px; height: 24px; background-color: #e1e1e1; border: 3px solid #9D9D9D; border-radius: 5px; position: absolute;\"> </div>\n",
       "    <div style=\"margin-left: 48px;\">\n",
       "        <h3 style=\"margin-bottom: 0px;\">Client</h3>\n",
       "        <p style=\"color: #9D9D9D; margin-bottom: 0px;\">Client-feb1768b-84fd-11ee-86b0-da2df61ef73b</p>\n",
       "        <table style=\"width: 100%; text-align: left;\">\n",
       "\n",
       "        <tr>\n",
       "        \n",
       "            <td style=\"text-align: left;\"><strong>Connection method:</strong> Cluster object</td>\n",
       "            <td style=\"text-align: left;\"><strong>Cluster type:</strong> dask_jobqueue.SLURMCluster</td>\n",
       "        \n",
       "        </tr>\n",
       "\n",
       "        \n",
       "            <tr>\n",
       "                <td style=\"text-align: left;\">\n",
       "                    <strong>Dashboard: </strong> <a href=\"http://10.158.100.28:8787/status\" target=\"_blank\">http://10.158.100.28:8787/status</a>\n",
       "                </td>\n",
       "                <td style=\"text-align: left;\"></td>\n",
       "            </tr>\n",
       "        \n",
       "\n",
       "        </table>\n",
       "\n",
       "        \n",
       "\n",
       "        \n",
       "            <details>\n",
       "            <summary style=\"margin-bottom: 20px;\"><h3 style=\"display: inline;\">Cluster Info</h3></summary>\n",
       "            <div class=\"jp-RenderedHTMLCommon jp-RenderedHTML jp-mod-trusted jp-OutputArea-output\">\n",
       "    <div style=\"width: 24px; height: 24px; background-color: #e1e1e1; border: 3px solid #9D9D9D; border-radius: 5px; position: absolute;\">\n",
       "    </div>\n",
       "    <div style=\"margin-left: 48px;\">\n",
       "        <h3 style=\"margin-bottom: 0px; margin-top: 0px;\">SLURMCluster</h3>\n",
       "        <p style=\"color: #9D9D9D; margin-bottom: 0px;\">55050db2</p>\n",
       "        <table style=\"width: 100%; text-align: left;\">\n",
       "            <tr>\n",
       "                <td style=\"text-align: left;\">\n",
       "                    <strong>Dashboard:</strong> <a href=\"http://10.158.100.28:8787/status\" target=\"_blank\">http://10.158.100.28:8787/status</a>\n",
       "                </td>\n",
       "                <td style=\"text-align: left;\">\n",
       "                    <strong>Workers:</strong> 0\n",
       "                </td>\n",
       "            </tr>\n",
       "            <tr>\n",
       "                <td style=\"text-align: left;\">\n",
       "                    <strong>Total threads:</strong> 0\n",
       "                </td>\n",
       "                <td style=\"text-align: left;\">\n",
       "                    <strong>Total memory:</strong> 0 B\n",
       "                </td>\n",
       "            </tr>\n",
       "            \n",
       "        </table>\n",
       "\n",
       "        <details>\n",
       "            <summary style=\"margin-bottom: 20px;\">\n",
       "                <h3 style=\"display: inline;\">Scheduler Info</h3>\n",
       "            </summary>\n",
       "\n",
       "            <div style=\"\">\n",
       "    <div>\n",
       "        <div style=\"width: 24px; height: 24px; background-color: #FFF7E5; border: 3px solid #FF6132; border-radius: 5px; position: absolute;\"> </div>\n",
       "        <div style=\"margin-left: 48px;\">\n",
       "            <h3 style=\"margin-bottom: 0px;\">Scheduler</h3>\n",
       "            <p style=\"color: #9D9D9D; margin-bottom: 0px;\">Scheduler-459e9894-aa5d-4aae-b85e-76cfbff94dfe</p>\n",
       "            <table style=\"width: 100%; text-align: left;\">\n",
       "                <tr>\n",
       "                    <td style=\"text-align: left;\">\n",
       "                        <strong>Comm:</strong> tcp://10.158.100.28:42141\n",
       "                    </td>\n",
       "                    <td style=\"text-align: left;\">\n",
       "                        <strong>Workers:</strong> 0\n",
       "                    </td>\n",
       "                </tr>\n",
       "                <tr>\n",
       "                    <td style=\"text-align: left;\">\n",
       "                        <strong>Dashboard:</strong> <a href=\"http://10.158.100.28:8787/status\" target=\"_blank\">http://10.158.100.28:8787/status</a>\n",
       "                    </td>\n",
       "                    <td style=\"text-align: left;\">\n",
       "                        <strong>Total threads:</strong> 0\n",
       "                    </td>\n",
       "                </tr>\n",
       "                <tr>\n",
       "                    <td style=\"text-align: left;\">\n",
       "                        <strong>Started:</strong> Just now\n",
       "                    </td>\n",
       "                    <td style=\"text-align: left;\">\n",
       "                        <strong>Total memory:</strong> 0 B\n",
       "                    </td>\n",
       "                </tr>\n",
       "            </table>\n",
       "        </div>\n",
       "    </div>\n",
       "\n",
       "    <details style=\"margin-left: 48px;\">\n",
       "        <summary style=\"margin-bottom: 20px;\">\n",
       "            <h3 style=\"display: inline;\">Workers</h3>\n",
       "        </summary>\n",
       "\n",
       "        \n",
       "\n",
       "    </details>\n",
       "</div>\n",
       "\n",
       "        </details>\n",
       "    </div>\n",
       "</div>\n",
       "            </details>\n",
       "        \n",
       "\n",
       "    </div>\n",
       "</div>"
      ],
      "text/plain": [
       "<Client: 'tcp://10.158.100.28:42141' processes=0 threads=0, memory=0 B>"
      ]
     },
     "metadata": {},
     "output_type": "display_data"
    }
   ],
   "source": [
    "if compute_engine == 'pandas':\n",
    "    import pandas as pd\n",
    "elif compute_engine.startswith('modin'):\n",
    "    if compute_engine.startswith('modin_dask_'):\n",
    "        import modin.config as modin_cfg\n",
    "        modin_cfg.Engine.put(\"dask\") # Use dask instead of ray (which is the default)\n",
    "\n",
    "        import dask\n",
    "\n",
    "        if compute_engine == 'modin_dask_distributed':\n",
    "            from dask_jobqueue import SLURMCluster\n",
    "\n",
    "            cluster = SLURMCluster(\n",
    "                queue='all.q',\n",
    "                account=\"proj_simscience\",\n",
    "                # If you give dask workers more than one core, they will use it to\n",
    "                # run more tasks at once.\n",
    "                # To have more than one thread per worker but use them all for\n",
    "                # multi-threading code in one task\n",
    "                # at a time, you have to set cores=1, processes=1 and job_cpu > 1.\n",
    "                cores=1,\n",
    "                processes=1,\n",
    "                memory=memory_per_job,\n",
    "                walltime=\"1-00:00:00\",\n",
    "                # Dask distributed looks at OS-reported memory to decide whether a worker is running out.\n",
    "                # If the memory allocator is not returning the memory to the OS promptly (even when holding onto it\n",
    "                # is smart), it will lead Dask to make bad decisions.\n",
    "                # By default, pyarrow uses jemalloc, but I could not get that to release memory quickly.\n",
    "                # Even this doesn't seem to be completely working, but in combination with small-ish partitions\n",
    "                # it seems to do okay -- unmanaged memory does seem to shrink from time to time, which it wasn't\n",
    "                # previously doing.\n",
    "                job_script_prologue=\"export ARROW_DEFAULT_MEMORY_POOL=system\\nexport MALLOC_TRIM_THRESHOLD_=0\",\n",
    "                job_cpu=cpus_per_job,\n",
    "            )\n",
    "\n",
    "            cluster.scale(n=num_jobs)\n",
    "            # Supposedly, this will start new jobs if the existing\n",
    "            # ones fail for some reason.\n",
    "            # https://stackoverflow.com/a/61295019\n",
    "            cluster.adapt(minimum_jobs=num_jobs, maximum_jobs=num_jobs)\n",
    "\n",
    "            from distributed import Client\n",
    "            client = Client(cluster)\n",
    "        else:\n",
    "            from distributed import Client\n",
    "            cpus_available = int(os.environ['SLURM_CPUS_ON_NODE'])\n",
    "            client = Client(n_workers=int(cpus_available / 2), threads_per_worker=2)\n",
    "\n",
    "        # Why is this necessary?!\n",
    "        # For some reason, if I don't set NPartitions, it seems to default to 0?!\n",
    "        num_row_groups = 1 if data_to_use == 'small_sample' else 334\n",
    "        modin_cfg.NPartitions.put(min(num_jobs * 3, num_row_groups))\n",
    "        modin_cfg.MinPartitionSize.put(1_000) # ensure no column-axis partitions -- they'll need to be joined up right away anyway by our row-wise noising\n",
    "\n",
    "        display(client)\n",
    "    elif compute_engine == 'modin_ray':\n",
    "        # Haven't worked on distributing this across multiple nodes\n",
    "        import ray\n",
    "        ray.init(runtime_env={'env_vars': {'__MODIN_AUTOIMPORT_PANDAS__': '1'}}, num_cpus=int(os.environ['SLURM_CPUS_ON_NODE']))\n",
    "    else:\n",
    "        # Use serial Python backend (good for debugging errors)\n",
    "        import modin.config as modin_cfg\n",
    "        modin_cfg.IsDebug.put(True)\n",
    "\n",
    "    import modin.pandas as pd\n",
    "\n",
    "    # https://modin.readthedocs.io/en/stable/usage_guide/advanced_usage/progress_bar.html\n",
    "    from modin.config import ProgressBar\n",
    "    ProgressBar.enable()"
   ]
  },
  {
   "cell_type": "markdown",
   "id": "8a08bfa0-f644-4faa-b303-ef24d9a32b86",
   "metadata": {
    "papermill": {
     "duration": 0.008589,
     "end_time": "2023-11-17T04:01:35.084025",
     "exception": false,
     "start_time": "2023-11-17T04:01:35.075436",
     "status": "completed"
    },
    "tags": []
   },
   "source": [
    "## Load simulated data"
   ]
  },
  {
   "cell_type": "code",
   "execution_count": 9,
   "id": "8abfcc66-502c-45f1-a269-d0c60fa5f0c9",
   "metadata": {
    "execution": {
     "iopub.execute_input": "2023-11-17T04:01:35.101304Z",
     "iopub.status.busy": "2023-11-17T04:01:35.100631Z",
     "iopub.status.idle": "2023-11-17T04:01:35.111364Z",
     "shell.execute_reply": "2023-11-17T04:01:35.109312Z"
    },
    "papermill": {
     "duration": 0.022492,
     "end_time": "2023-11-17T04:01:35.113738",
     "exception": false,
     "start_time": "2023-11-17T04:01:35.091246",
     "status": "completed"
    },
    "tags": []
   },
   "outputs": [],
   "source": [
    "assert data_to_use in ('small_sample', 'usa')\n",
    "pseudopeople_input_dir = None if data_to_use == 'small_sample' else '/mnt/team/simulation_science/priv/engineering/vivarium_census_prl_synth_pop/results/release_02_yellow/full_data/united_states_of_america/2023_07_28_08_33_09/final_results/2023_08_16_09_58_54/pseudopeople_input_data_usa/'"
   ]
  },
  {
   "cell_type": "code",
   "execution_count": 10,
   "id": "cc05826f-98d7-4dac-adf9-8d9f80809811",
   "metadata": {
    "execution": {
     "iopub.execute_input": "2023-11-17T04:01:35.133260Z",
     "iopub.status.busy": "2023-11-17T04:01:35.132599Z",
     "iopub.status.idle": "2023-11-17T04:01:35.141815Z",
     "shell.execute_reply": "2023-11-17T04:01:35.139667Z"
    },
    "papermill": {
     "duration": 0.02108,
     "end_time": "2023-11-17T04:01:35.144290",
     "exception": false,
     "start_time": "2023-11-17T04:01:35.123210",
     "status": "completed"
    },
    "tags": []
   },
   "outputs": [],
   "source": [
    "psp_kwargs = {\n",
    "    'source': pseudopeople_input_dir,\n",
    "}\n",
    "if 'modin' in compute_engine:\n",
    "    psp_kwargs['engine'] = 'modin'"
   ]
  },
  {
   "cell_type": "markdown",
   "id": "02bd7b4d-645d-4dca-94ae-ee1780048aa0",
   "metadata": {
    "papermill": {
     "duration": 0.007639,
     "end_time": "2023-11-17T04:01:35.160609",
     "exception": false,
     "start_time": "2023-11-17T04:01:35.152970",
     "status": "completed"
    },
    "tags": []
   },
   "source": [
    "### Noise configuration\n",
    "\n",
    "In order to give ourselves more of a challenge, we significantly increase the amount of noise\n",
    "from the pseudopeople defaults."
   ]
  },
  {
   "cell_type": "code",
   "execution_count": 11,
   "id": "9dbb002e-8468-4885-a4b5-52fdb75ce7c0",
   "metadata": {
    "execution": {
     "iopub.execute_input": "2023-11-17T04:01:35.177795Z",
     "iopub.status.busy": "2023-11-17T04:01:35.177165Z",
     "iopub.status.idle": "2023-11-17T04:01:35.194924Z",
     "shell.execute_reply": "2023-11-17T04:01:35.193006Z"
    },
    "papermill": {
     "duration": 0.029398,
     "end_time": "2023-11-17T04:01:35.197541",
     "exception": false,
     "start_time": "2023-11-17T04:01:35.168143",
     "status": "completed"
    },
    "tags": []
   },
   "outputs": [],
   "source": [
    "default_configuration = psp.get_config()"
   ]
  },
  {
   "cell_type": "code",
   "execution_count": 12,
   "id": "a42207b2-5f2b-40c1-82d8-4d6ca36fe4c4",
   "metadata": {
    "execution": {
     "iopub.execute_input": "2023-11-17T04:01:35.217653Z",
     "iopub.status.busy": "2023-11-17T04:01:35.217265Z",
     "iopub.status.idle": "2023-11-17T04:01:35.227614Z",
     "shell.execute_reply": "2023-11-17T04:01:35.225950Z"
    },
    "papermill": {
     "duration": 0.020941,
     "end_time": "2023-11-17T04:01:35.229357",
     "exception": false,
     "start_time": "2023-11-17T04:01:35.208416",
     "status": "completed"
    },
    "tags": []
   },
   "outputs": [],
   "source": [
    "# Helper functions for changing the default configuration according to a pattern\n",
    "def column_noise_value(dataset, column, noise_type, default_value):\n",
    "    if very_noisy and dataset in ('decennial_census', 'taxes_w2_and_1099', 'social_security'):\n",
    "        if noise_type == \"make_typos\":\n",
    "            if column == \"middle_initial\":\n",
    "                # 5% of middle initials (which are all a single token anyway) are wrong.\n",
    "                return {\"cell_probability\": 0.05, \"token_probability\": 1}\n",
    "            elif column in (\"first_name\", \"last_name\", \"street_name\"):\n",
    "                # 10% of these text columns were entered carelessly, at a rate of 1 error\n",
    "                # per 10 characters.\n",
    "                # The pseudopeople default is 1% careless.\n",
    "                return {\"cell_probability\": 0.1, \"token_probability\": 0.1}\n",
    "        elif noise_type == \"write_wrong_digits\" and (dataset != \"social_security\" or column != \"ssn\"):\n",
    "            # 10% of number columns were written carelessly, at a rate of 1 error\n",
    "            # per 10 characters.\n",
    "            # The pseudopeople default is 1% careless.\n",
    "            # Note that this is applied on top of (the default lower levels of) typos,\n",
    "            # since typos also apply to numeric characters.\n",
    "            # We never introduce error on the SSN in the SSA dataset\n",
    "            return {\"cell_probability\": 0.1, \"token_probability\": 0.1}\n",
    "\n",
    "    return default_value\n",
    "\n",
    "\n",
    "def row_noise_value(dataset, noise_type, default_value):\n",
    "    return default_value"
   ]
  },
  {
   "cell_type": "code",
   "execution_count": 13,
   "id": "e7c9dd19-eac0-455f-9af3-7bc7bc3029e0",
   "metadata": {
    "execution": {
     "iopub.execute_input": "2023-11-17T04:01:35.246254Z",
     "iopub.status.busy": "2023-11-17T04:01:35.245785Z",
     "iopub.status.idle": "2023-11-17T04:01:35.256072Z",
     "shell.execute_reply": "2023-11-17T04:01:35.254384Z"
    },
    "papermill": {
     "duration": 0.020549,
     "end_time": "2023-11-17T04:01:35.257740",
     "exception": false,
     "start_time": "2023-11-17T04:01:35.237191",
     "status": "completed"
    },
    "tags": []
   },
   "outputs": [],
   "source": [
    "custom_configuration = {\n",
    "    dataset: {\n",
    "        noise_category: (\n",
    "            ({\n",
    "                column: {\n",
    "                    noise_type: column_noise_value(dataset, column, noise_type, noise_type_config)\n",
    "                    for noise_type, noise_type_config in column_config.items()\n",
    "                }\n",
    "                for column, column_config in noise_category_config.items()\n",
    "            }\n",
    "            if noise_category == \"column_noise\" else\n",
    "            {\n",
    "                noise_type: row_noise_value(dataset, noise_type, noise_type_config)\n",
    "                for noise_type, noise_type_config in noise_category_config.items()\n",
    "            })\n",
    "        )\n",
    "        for noise_category, noise_category_config in dataset_config.items()\n",
    "    }\n",
    "    for dataset, dataset_config in default_configuration.items()\n",
    "}"
   ]
  },
  {
   "cell_type": "code",
   "execution_count": 14,
   "id": "e8056884-bb09-475b-9499-56ba79b96c6a",
   "metadata": {
    "execution": {
     "iopub.execute_input": "2023-11-17T04:01:35.276973Z",
     "iopub.status.busy": "2023-11-17T04:01:35.276485Z",
     "iopub.status.idle": "2023-11-17T04:01:35.283434Z",
     "shell.execute_reply": "2023-11-17T04:01:35.281325Z"
    },
    "papermill": {
     "duration": 0.018425,
     "end_time": "2023-11-17T04:01:35.285297",
     "exception": false,
     "start_time": "2023-11-17T04:01:35.266872",
     "status": "completed"
    },
    "tags": []
   },
   "outputs": [],
   "source": [
    "psp_kwargs['config'] = custom_configuration"
   ]
  },
  {
   "cell_type": "markdown",
   "id": "480d3767-1895-4c4f-91d8-72d13a19b5ec",
   "metadata": {
    "papermill": {
     "duration": 0.00726,
     "end_time": "2023-11-17T04:01:35.302366",
     "exception": false,
     "start_time": "2023-11-17T04:01:35.295106",
     "status": "completed"
    },
    "tags": []
   },
   "source": [
    "### Simulated SSA Numident\n",
    "\n",
    "Wagner and Layne, p.4:\n",
    "\n",
    "> The reference files are derived from the Social Security Administration\n",
    "    (SSA) Numerical Identification file (SSA Numident). The Numident contains all\n",
    "    transactions recorded against one Social Security Number (SSN)...\n",
    "\n",
    "Based on the [SSA Numident through 2007 which is publicly available from NARA](https://aad.archives.gov/aad/series-description.jsp?s=5057),\n",
    "we know there are three kinds of transactions: SSN applications, deaths, and claiming benefits.\n",
    "SSN holders may change their information (e.g. changing name or sex) by submitting another application,\n",
    "which generates an additional application transaction.\n",
    "(The policies about this are found [on the SSA website](https://secure.ssa.gov/poms.nsf/lnx/0110212200).)\n",
    "\n",
    "The paper [\"Likely Transgender Individuals in U.S. Federal Administrative Records and the 2010 Census\" by Benjamin Cerf Harris](https://www.census.gov/content/dam/Census/library/working-papers/2015/adrm/carra-wp-2015-03.pdf)\n",
    "includes some helpful statistics (Table 2).\n",
    "The average person in the SSA Numident has 2.2 transactions (called \"claims\" in that paper, but with the same definition\n",
    "as our term \"transaction\": \"Any time an SSN is created or information associated with an existing SSN is changed, that event is registered\n",
    "as a claim.\").\n",
    "\n",
    "pseudopeople does not currently include correction, name change, or benefits claim transactions.\n",
    "It only includes SSN creation and death of the SSN holder.\n",
    "\n",
    "I've figured that there would be some delay in getting the Numident -- so by Census processing time\n",
    "for the 2030 Census, only the SSA transactions by the end of 2029 would be available.\n",
    "Note that with pseudopeople's current design it is only possible to set this cutoff at the end of a calendar year.\n",
    "The NORC report says that \"the Census NUMIDENT is recreated each year, to reflect\n",
    "Social Security transaction records through **March** of each year\" (p. 105),\n",
    "though it isn't clear when in the year the Census Numident is actually re-created."
   ]
  },
  {
   "cell_type": "code",
   "execution_count": 15,
   "id": "3da0de7b-2e91-4d23-96bd-d331a820d7e7",
   "metadata": {
    "execution": {
     "iopub.execute_input": "2023-11-17T04:01:35.320162Z",
     "iopub.status.busy": "2023-11-17T04:01:35.319543Z",
     "iopub.status.idle": "2023-11-17T04:06:49.727529Z",
     "shell.execute_reply": "2023-11-17T04:06:49.720177Z"
    },
    "papermill": {
     "duration": 314.461101,
     "end_time": "2023-11-17T04:06:49.771183",
     "exception": false,
     "start_time": "2023-11-17T04:01:35.310082",
     "status": "completed"
    },
    "tags": []
   },
   "outputs": [
    {
     "name": "stdout",
     "output_type": "stream",
     "text": [
      "CPU times: user 1min 19s, sys: 8.25 s, total: 1min 27s\n",
      "Wall time: 5min 14s\n"
     ]
    }
   ],
   "source": [
    "%%time\n",
    "\n",
    "simulated_ssa_numident = psp.generate_social_security(\n",
    "    year=2029,\n",
    "    **psp_kwargs,\n",
    ")"
   ]
  },
  {
   "cell_type": "code",
   "execution_count": 16,
   "id": "122a7f79-8054-4664-b916-f023585bf398",
   "metadata": {
    "execution": {
     "iopub.execute_input": "2023-11-17T04:06:49.826210Z",
     "iopub.status.busy": "2023-11-17T04:06:49.825503Z",
     "iopub.status.idle": "2023-11-17T04:10:59.278352Z",
     "shell.execute_reply": "2023-11-17T04:10:59.275119Z"
    },
    "papermill": {
     "duration": 249.502895,
     "end_time": "2023-11-17T04:10:59.283260",
     "exception": false,
     "start_time": "2023-11-17T04:06:49.780365",
     "status": "completed"
    },
    "tags": []
   },
   "outputs": [
    {
     "name": "stderr",
     "output_type": "stream",
     "text": [
      "UserWarning: Sending large graph of size 9.58 MiB.\n",
      "This may cause some slowdown.\n",
      "Consider scattering data ahead of time and using futures.\n",
      "UserWarning: Sending large graph of size 9.59 MiB.\n",
      "This may cause some slowdown.\n",
      "Consider scattering data ahead of time and using futures.\n",
      "UserWarning: Sending large graph of size 9.57 MiB.\n",
      "This may cause some slowdown.\n",
      "Consider scattering data ahead of time and using futures.\n",
      "UserWarning: Sending large graph of size 9.59 MiB.\n",
      "This may cause some slowdown.\n",
      "Consider scattering data ahead of time and using futures.\n",
      "UserWarning: Sending large graph of size 9.58 MiB.\n",
      "This may cause some slowdown.\n",
      "Consider scattering data ahead of time and using futures.\n",
      "UserWarning: Sending large graph of size 9.57 MiB.\n",
      "This may cause some slowdown.\n",
      "Consider scattering data ahead of time and using futures.\n",
      "UserWarning: Sending large graph of size 9.60 MiB.\n",
      "This may cause some slowdown.\n",
      "Consider scattering data ahead of time and using futures.\n",
      "UserWarning: Sending large graph of size 19.15 MiB.\n",
      "This may cause some slowdown.\n",
      "Consider scattering data ahead of time and using futures.\n",
      "UserWarning: Sending large graph of size 19.16 MiB.\n",
      "This may cause some slowdown.\n",
      "Consider scattering data ahead of time and using futures.\n",
      "UserWarning: Sending large graph of size 19.17 MiB.\n",
      "This may cause some slowdown.\n",
      "Consider scattering data ahead of time and using futures.\n"
     ]
    },
    {
     "name": "stdout",
     "output_type": "stream",
     "text": [
      "CPU times: user 1min 23s, sys: 19.2 s, total: 1min 43s\n",
      "Wall time: 4min 9s\n"
     ]
    }
   ],
   "source": [
    "%%time\n",
    "\n",
    "simulated_ssa_numident.to_parquet(str(Path(output_dir) / \"simulated_ssa_numident.parquet\"))"
   ]
  },
  {
   "cell_type": "markdown",
   "id": "5fe8e46b-f936-4704-b120-9bbcbce6c3e9",
   "metadata": {
    "papermill": {
     "duration": 0.008063,
     "end_time": "2023-11-17T04:10:59.305322",
     "exception": false,
     "start_time": "2023-11-17T04:10:59.297259",
     "status": "completed"
    },
    "tags": []
   },
   "source": [
    "### Simulated 1040 tax filings\n",
    "\n",
    "We assume that the last 5 years of taxes would be available and used in the construction of the reference files -- see section about reference files below.\n",
    "\n",
    "Note that these are retrieved by *tax* year, so the 2029 taxes would be available in early 2030\n",
    "(around when our hypothetical case study is taking place)."
   ]
  },
  {
   "cell_type": "code",
   "execution_count": 17,
   "id": "8157a22b-45f3-4fc1-803e-4670a554b23f",
   "metadata": {
    "execution": {
     "iopub.execute_input": "2023-11-17T04:10:59.327528Z",
     "iopub.status.busy": "2023-11-17T04:10:59.326858Z",
     "iopub.status.idle": "2023-11-17T04:10:59.364082Z",
     "shell.execute_reply": "2023-11-17T04:10:59.354087Z"
    },
    "papermill": {
     "duration": 0.056332,
     "end_time": "2023-11-17T04:10:59.369142",
     "exception": false,
     "start_time": "2023-11-17T04:10:59.312810",
     "status": "completed"
    },
    "tags": []
   },
   "outputs": [
    {
     "data": {
      "text/plain": [
       "[2025, 2026, 2027, 2028, 2029]"
      ]
     },
     "execution_count": 17,
     "metadata": {},
     "output_type": "execute_result"
    }
   ],
   "source": [
    "tax_years = list(range(2025, 2030))\n",
    "tax_years"
   ]
  },
  {
   "cell_type": "code",
   "execution_count": 18,
   "id": "1b9a92b7-bdaf-454d-8ad4-97db95d6b461",
   "metadata": {
    "execution": {
     "iopub.execute_input": "2023-11-17T04:10:59.393735Z",
     "iopub.status.busy": "2023-11-17T04:10:59.392434Z",
     "iopub.status.idle": "2023-11-17T04:55:43.292004Z",
     "shell.execute_reply": "2023-11-17T04:55:43.290226Z"
    },
    "papermill": {
     "duration": 2683.928523,
     "end_time": "2023-11-17T04:55:43.311073",
     "exception": false,
     "start_time": "2023-11-17T04:10:59.382550",
     "status": "completed"
    },
    "tags": []
   },
   "outputs": [
    {
     "name": "stdout",
     "output_type": "stream",
     "text": [
      "2025\n"
     ]
    },
    {
     "name": "stderr",
     "output_type": "stream",
     "text": [
      "UserWarning: Sending large graph of size 10.66 MiB.\n",
      "This may cause some slowdown.\n",
      "Consider scattering data ahead of time and using futures.\n",
      "UserWarning: Sending large graph of size 10.67 MiB.\n",
      "This may cause some slowdown.\n",
      "Consider scattering data ahead of time and using futures.\n",
      "UserWarning: Sending large graph of size 10.68 MiB.\n",
      "This may cause some slowdown.\n",
      "Consider scattering data ahead of time and using futures.\n"
     ]
    },
    {
     "name": "stdout",
     "output_type": "stream",
     "text": [
      "2026\n"
     ]
    },
    {
     "name": "stderr",
     "output_type": "stream",
     "text": [
      "UserWarning: Sending large graph of size 10.88 MiB.\n",
      "This may cause some slowdown.\n",
      "Consider scattering data ahead of time and using futures.\n",
      "UserWarning: Sending large graph of size 10.89 MiB.\n",
      "This may cause some slowdown.\n",
      "Consider scattering data ahead of time and using futures.\n",
      "UserWarning: Sending large graph of size 10.87 MiB.\n",
      "This may cause some slowdown.\n",
      "Consider scattering data ahead of time and using futures.\n",
      "UserWarning: Sending large graph of size 10.90 MiB.\n",
      "This may cause some slowdown.\n",
      "Consider scattering data ahead of time and using futures.\n"
     ]
    },
    {
     "name": "stdout",
     "output_type": "stream",
     "text": [
      "2027\n"
     ]
    },
    {
     "name": "stderr",
     "output_type": "stream",
     "text": [
      "UserWarning: Sending large graph of size 11.09 MiB.\n",
      "This may cause some slowdown.\n",
      "Consider scattering data ahead of time and using futures.\n",
      "UserWarning: Sending large graph of size 11.10 MiB.\n",
      "This may cause some slowdown.\n",
      "Consider scattering data ahead of time and using futures.\n",
      "UserWarning: Sending large graph of size 11.11 MiB.\n",
      "This may cause some slowdown.\n",
      "Consider scattering data ahead of time and using futures.\n"
     ]
    },
    {
     "name": "stdout",
     "output_type": "stream",
     "text": [
      "2028\n"
     ]
    },
    {
     "name": "stderr",
     "output_type": "stream",
     "text": [
      "UserWarning: Sending large graph of size 11.30 MiB.\n",
      "This may cause some slowdown.\n",
      "Consider scattering data ahead of time and using futures.\n",
      "UserWarning: Sending large graph of size 11.31 MiB.\n",
      "This may cause some slowdown.\n",
      "Consider scattering data ahead of time and using futures.\n",
      "UserWarning: Sending large graph of size 11.32 MiB.\n",
      "This may cause some slowdown.\n",
      "Consider scattering data ahead of time and using futures.\n"
     ]
    },
    {
     "name": "stdout",
     "output_type": "stream",
     "text": [
      "2029\n"
     ]
    },
    {
     "name": "stderr",
     "output_type": "stream",
     "text": [
      "UserWarning: Sending large graph of size 11.50 MiB.\n",
      "This may cause some slowdown.\n",
      "Consider scattering data ahead of time and using futures.\n",
      "UserWarning: Sending large graph of size 11.51 MiB.\n",
      "This may cause some slowdown.\n",
      "Consider scattering data ahead of time and using futures.\n",
      "UserWarning: Sending large graph of size 11.52 MiB.\n",
      "This may cause some slowdown.\n",
      "Consider scattering data ahead of time and using futures.\n",
      "UserWarning: Sending large graph of size 11.53 MiB.\n",
      "This may cause some slowdown.\n",
      "Consider scattering data ahead of time and using futures.\n"
     ]
    },
    {
     "name": "stdout",
     "output_type": "stream",
     "text": [
      "CPU times: user 14min 20s, sys: 1min 39s, total: 16min\n",
      "Wall time: 44min 43s\n"
     ]
    }
   ],
   "source": [
    "%%time\n",
    "\n",
    "for year in tax_years:\n",
    "    print(year)\n",
    "    psp.generate_taxes_1040(\n",
    "        year=year,\n",
    "        **psp_kwargs,\n",
    "    ).to_parquet(str(Path(output_dir) / f\"simulated_taxes_1040_{year}.parquet\"))"
   ]
  },
  {
   "cell_type": "markdown",
   "id": "d8bad94f-c803-41e0-bf17-9ecfdb56cdbd",
   "metadata": {
    "papermill": {
     "duration": 0.008321,
     "end_time": "2023-11-17T04:55:43.329582",
     "exception": false,
     "start_time": "2023-11-17T04:55:43.321261",
     "status": "completed"
    },
    "tags": []
   },
   "source": [
    "### Simulated W2/1099 tax filings\n",
    "\n",
    "We assume that the last 5 years of taxes would be available and used in the construction of the reference files.\n",
    "\n",
    "Note that these are retrieved by *tax* year, so the 2029 taxes would be available in early 2030\n",
    "(around when our hypothetical case study is taking place)."
   ]
  },
  {
   "cell_type": "code",
   "execution_count": 19,
   "id": "2c072c69-f7c7-4bf1-b99e-48c3257063ba",
   "metadata": {
    "execution": {
     "iopub.execute_input": "2023-11-17T04:55:43.352218Z",
     "iopub.status.busy": "2023-11-17T04:55:43.348932Z",
     "iopub.status.idle": "2023-11-17T05:28:37.404279Z",
     "shell.execute_reply": "2023-11-17T05:28:37.387265Z"
    },
    "papermill": {
     "duration": 1974.073051,
     "end_time": "2023-11-17T05:28:37.410219",
     "exception": false,
     "start_time": "2023-11-17T04:55:43.337168",
     "status": "completed"
    },
    "tags": []
   },
   "outputs": [
    {
     "name": "stdout",
     "output_type": "stream",
     "text": [
      "2025\n"
     ]
    },
    {
     "name": "stderr",
     "output_type": "stream",
     "text": [
      "UserWarning: Sending large graph of size 15.01 MiB.\n",
      "This may cause some slowdown.\n",
      "Consider scattering data ahead of time and using futures.\n",
      "UserWarning: Sending large graph of size 15.00 MiB.\n",
      "This may cause some slowdown.\n",
      "Consider scattering data ahead of time and using futures.\n",
      "UserWarning: Sending large graph of size 14.99 MiB.\n",
      "This may cause some slowdown.\n",
      "Consider scattering data ahead of time and using futures.\n",
      "UserWarning: Sending large graph of size 15.02 MiB.\n",
      "This may cause some slowdown.\n",
      "Consider scattering data ahead of time and using futures.\n",
      "UserWarning: Sending large graph of size 14.98 MiB.\n",
      "This may cause some slowdown.\n",
      "Consider scattering data ahead of time and using futures.\n",
      "2023-11-16 21:02:04,471 - distributed.dashboard.components.scheduler - ERROR - Cycle detected between the following keys:\n",
      "  -> \n",
      "Traceback (most recent call last):\n",
      "  File \"/mnt/share/homes/zmbc/mambaforge/envs/generate_simulated_data_3/lib/python3.10/site-packages/distributed/utils.py\", line 838, in wrapper\n",
      "    return func(*args, **kwargs)\n",
      "  File \"/mnt/share/homes/zmbc/mambaforge/envs/generate_simulated_data_3/lib/python3.10/site-packages/distributed/dashboard/components/scheduler.py\", line 2617, in update_layout\n",
      "    order = dask.order.order(\n",
      "  File \"/mnt/share/homes/zmbc/mambaforge/envs/generate_simulated_data_3/lib/python3.10/site-packages/dask/order.py\", line 130, in order\n",
      "    raise RuntimeError(\n",
      "RuntimeError: Cycle detected between the following keys:\n",
      "  -> \n",
      "2023-11-16 21:02:04,474 - distributed.dashboard.components.scheduler - ERROR - Cycle detected between the following keys:\n",
      "  -> \n",
      "Traceback (most recent call last):\n",
      "  File \"/mnt/share/homes/zmbc/mambaforge/envs/generate_simulated_data_3/lib/python3.10/site-packages/distributed/dashboard/components/scheduler.py\", line 4810, in individual_doc\n",
      "    fig.update()\n",
      "  File \"/mnt/share/homes/zmbc/mambaforge/envs/generate_simulated_data_3/lib/python3.10/site-packages/bokeh/core/property/validation.py\", line 95, in func\n",
      "    return input_function(*args, **kwargs)\n",
      "  File \"/mnt/share/homes/zmbc/mambaforge/envs/generate_simulated_data_3/lib/python3.10/site-packages/distributed/dashboard/components/scheduler.py\", line 2680, in update\n",
      "    self.nodes_layout, self.arrows_layout = self.update_layout()\n",
      "  File \"/mnt/share/homes/zmbc/mambaforge/envs/generate_simulated_data_3/lib/python3.10/site-packages/bokeh/core/property/validation.py\", line 95, in func\n",
      "    return input_function(*args, **kwargs)\n",
      "  File \"/mnt/share/homes/zmbc/mambaforge/envs/generate_simulated_data_3/lib/python3.10/site-packages/distributed/utils.py\", line 838, in wrapper\n",
      "    return func(*args, **kwargs)\n",
      "  File \"/mnt/share/homes/zmbc/mambaforge/envs/generate_simulated_data_3/lib/python3.10/site-packages/distributed/dashboard/components/scheduler.py\", line 2617, in update_layout\n",
      "    order = dask.order.order(\n",
      "  File \"/mnt/share/homes/zmbc/mambaforge/envs/generate_simulated_data_3/lib/python3.10/site-packages/dask/order.py\", line 130, in order\n",
      "    raise RuntimeError(\n",
      "RuntimeError: Cycle detected between the following keys:\n",
      "  -> \n",
      "2023-11-16 21:02:04,475 - tornado.application - ERROR - Uncaught exception GET /individual-groups (10.104.211.175)\n",
      "HTTPServerRequest(protocol='http', host='10.158.100.28:8787', method='GET', uri='/individual-groups', version='HTTP/1.1', remote_ip='10.104.211.175')\n",
      "Traceback (most recent call last):\n",
      "  File \"/mnt/share/homes/zmbc/mambaforge/envs/generate_simulated_data_3/lib/python3.10/site-packages/tornado/web.py\", line 1786, in _execute\n",
      "    result = await result\n",
      "  File \"/mnt/share/homes/zmbc/mambaforge/envs/generate_simulated_data_3/lib/python3.10/site-packages/bokeh/server/views/doc_handler.py\", line 54, in get\n",
      "    session = await self.get_session()\n",
      "  File \"/mnt/share/homes/zmbc/mambaforge/envs/generate_simulated_data_3/lib/python3.10/site-packages/bokeh/server/views/session_handler.py\", line 145, in get_session\n",
      "    session = await self.application_context.create_session_if_needed(session_id, self.request, token)\n",
      "  File \"/mnt/share/homes/zmbc/mambaforge/envs/generate_simulated_data_3/lib/python3.10/site-packages/bokeh/server/contexts.py\", line 240, in create_session_if_needed\n",
      "    self._application.initialize_document(doc)\n",
      "  File \"/mnt/share/homes/zmbc/mambaforge/envs/generate_simulated_data_3/lib/python3.10/site-packages/bokeh/application/application.py\", line 190, in initialize_document\n",
      "    h.modify_document(doc)\n",
      "  File \"/mnt/share/homes/zmbc/mambaforge/envs/generate_simulated_data_3/lib/python3.10/site-packages/bokeh/application/handlers/function.py\", line 140, in modify_document\n",
      "    self._func(doc)\n",
      "  File \"/mnt/share/homes/zmbc/mambaforge/envs/generate_simulated_data_3/lib/python3.10/site-packages/toolz/functoolz.py\", line 304, in __call__\n",
      "    return self._partial(*args, **kwargs)\n",
      "  File \"/mnt/share/homes/zmbc/mambaforge/envs/generate_simulated_data_3/lib/python3.10/site-packages/distributed/dashboard/components/scheduler.py\", line 4810, in individual_doc\n",
      "    fig.update()\n",
      "  File \"/mnt/share/homes/zmbc/mambaforge/envs/generate_simulated_data_3/lib/python3.10/site-packages/bokeh/core/property/validation.py\", line 95, in func\n",
      "    return input_function(*args, **kwargs)\n",
      "  File \"/mnt/share/homes/zmbc/mambaforge/envs/generate_simulated_data_3/lib/python3.10/site-packages/distributed/dashboard/components/scheduler.py\", line 2680, in update\n",
      "    self.nodes_layout, self.arrows_layout = self.update_layout()\n",
      "  File \"/mnt/share/homes/zmbc/mambaforge/envs/generate_simulated_data_3/lib/python3.10/site-packages/bokeh/core/property/validation.py\", line 95, in func\n",
      "    return input_function(*args, **kwargs)\n",
      "  File \"/mnt/share/homes/zmbc/mambaforge/envs/generate_simulated_data_3/lib/python3.10/site-packages/distributed/utils.py\", line 838, in wrapper\n",
      "    return func(*args, **kwargs)\n",
      "  File \"/mnt/share/homes/zmbc/mambaforge/envs/generate_simulated_data_3/lib/python3.10/site-packages/distributed/dashboard/components/scheduler.py\", line 2617, in update_layout\n",
      "    order = dask.order.order(\n",
      "  File \"/mnt/share/homes/zmbc/mambaforge/envs/generate_simulated_data_3/lib/python3.10/site-packages/dask/order.py\", line 130, in order\n",
      "    raise RuntimeError(\n",
      "RuntimeError: Cycle detected between the following keys:\n",
      "  -> \n"
     ]
    },
    {
     "name": "stdout",
     "output_type": "stream",
     "text": [
      "2026\n"
     ]
    },
    {
     "name": "stderr",
     "output_type": "stream",
     "text": [
      "UserWarning: Sending large graph of size 15.07 MiB.\n",
      "This may cause some slowdown.\n",
      "Consider scattering data ahead of time and using futures.\n",
      "UserWarning: Sending large graph of size 15.09 MiB.\n",
      "This may cause some slowdown.\n",
      "Consider scattering data ahead of time and using futures.\n",
      "UserWarning: Sending large graph of size 15.08 MiB.\n",
      "This may cause some slowdown.\n",
      "Consider scattering data ahead of time and using futures.\n",
      "UserWarning: Sending large graph of size 15.06 MiB.\n",
      "This may cause some slowdown.\n",
      "Consider scattering data ahead of time and using futures.\n",
      "UserWarning: Sending large graph of size 15.05 MiB.\n",
      "This may cause some slowdown.\n",
      "Consider scattering data ahead of time and using futures.\n",
      "UserWarning: Sending large graph of size 15.10 MiB.\n",
      "This may cause some slowdown.\n",
      "Consider scattering data ahead of time and using futures.\n"
     ]
    },
    {
     "name": "stdout",
     "output_type": "stream",
     "text": [
      "2027\n"
     ]
    },
    {
     "name": "stderr",
     "output_type": "stream",
     "text": [
      "UserWarning: Sending large graph of size 15.14 MiB.\n",
      "This may cause some slowdown.\n",
      "Consider scattering data ahead of time and using futures.\n",
      "UserWarning: Sending large graph of size 15.15 MiB.\n",
      "This may cause some slowdown.\n",
      "Consider scattering data ahead of time and using futures.\n",
      "UserWarning: Sending large graph of size 15.13 MiB.\n",
      "This may cause some slowdown.\n",
      "Consider scattering data ahead of time and using futures.\n",
      "UserWarning: Sending large graph of size 15.16 MiB.\n",
      "This may cause some slowdown.\n",
      "Consider scattering data ahead of time and using futures.\n",
      "UserWarning: Sending large graph of size 15.12 MiB.\n",
      "This may cause some slowdown.\n",
      "Consider scattering data ahead of time and using futures.\n",
      "UserWarning: Sending large graph of size 15.11 MiB.\n",
      "This may cause some slowdown.\n",
      "Consider scattering data ahead of time and using futures.\n"
     ]
    },
    {
     "name": "stdout",
     "output_type": "stream",
     "text": [
      "2028\n"
     ]
    },
    {
     "name": "stderr",
     "output_type": "stream",
     "text": [
      "UserWarning: Sending large graph of size 15.20 MiB.\n",
      "This may cause some slowdown.\n",
      "Consider scattering data ahead of time and using futures.\n",
      "UserWarning: Sending large graph of size 15.21 MiB.\n",
      "This may cause some slowdown.\n",
      "Consider scattering data ahead of time and using futures.\n",
      "UserWarning: Sending large graph of size 15.18 MiB.\n",
      "This may cause some slowdown.\n",
      "Consider scattering data ahead of time and using futures.\n",
      "UserWarning: Sending large graph of size 15.19 MiB.\n",
      "This may cause some slowdown.\n",
      "Consider scattering data ahead of time and using futures.\n",
      "UserWarning: Sending large graph of size 15.17 MiB.\n",
      "This may cause some slowdown.\n",
      "Consider scattering data ahead of time and using futures.\n",
      "UserWarning: Sending large graph of size 15.22 MiB.\n",
      "This may cause some slowdown.\n",
      "Consider scattering data ahead of time and using futures.\n"
     ]
    },
    {
     "name": "stdout",
     "output_type": "stream",
     "text": [
      "2029\n"
     ]
    },
    {
     "name": "stderr",
     "output_type": "stream",
     "text": [
      "UserWarning: Sending large graph of size 15.25 MiB.\n",
      "This may cause some slowdown.\n",
      "Consider scattering data ahead of time and using futures.\n",
      "UserWarning: Sending large graph of size 15.26 MiB.\n",
      "This may cause some slowdown.\n",
      "Consider scattering data ahead of time and using futures.\n",
      "UserWarning: Sending large graph of size 15.24 MiB.\n",
      "This may cause some slowdown.\n",
      "Consider scattering data ahead of time and using futures.\n",
      "UserWarning: Sending large graph of size 15.28 MiB.\n",
      "This may cause some slowdown.\n",
      "Consider scattering data ahead of time and using futures.\n",
      "UserWarning: Sending large graph of size 15.27 MiB.\n",
      "This may cause some slowdown.\n",
      "Consider scattering data ahead of time and using futures.\n",
      "UserWarning: Sending large graph of size 15.22 MiB.\n",
      "This may cause some slowdown.\n",
      "Consider scattering data ahead of time and using futures.\n",
      "UserWarning: Sending large graph of size 15.23 MiB.\n",
      "This may cause some slowdown.\n",
      "Consider scattering data ahead of time and using futures.\n"
     ]
    },
    {
     "name": "stdout",
     "output_type": "stream",
     "text": [
      "CPU times: user 10min 42s, sys: 1min 22s, total: 12min 5s\n",
      "Wall time: 32min 54s\n"
     ]
    }
   ],
   "source": [
    "%%time\n",
    "\n",
    "for year in tax_years:\n",
    "    print(year)\n",
    "    psp.generate_taxes_w2_and_1099(\n",
    "        year=year,\n",
    "        **psp_kwargs,\n",
    "    ).to_parquet(str(Path(output_dir) / f\"simulated_taxes_w2_and_1099_{year}.parquet\"))"
   ]
  },
  {
   "cell_type": "markdown",
   "id": "ed6967cb-dfa6-4b43-98b9-e590d266f55f",
   "metadata": {
    "papermill": {
     "duration": 0.012507,
     "end_time": "2023-11-17T05:28:37.436591",
     "exception": false,
     "start_time": "2023-11-17T05:28:37.424084",
     "status": "completed"
    },
    "tags": []
   },
   "source": [
    "### Simulated 2030 Census Unedited File (CUF)\n",
    "\n",
    "For now, we gloss over the data schema for addresses.\n",
    "We don't know how addresses would be formatted in the CUF (and it's hard to guess, because\n",
    "address is not part of the Census form), but it likely would have some of these fields\n",
    "(street number, street name, etc) combined.\n",
    "\n",
    "While PVS input files do not in general have names split into first, middle, and last,\n",
    "I am guessing the CUF **would** have first name, middle initial, last name (which is how pseudopeople\n",
    "generates it), because that [matches the Census questionnaire](https://www2.census.gov/programs-surveys/decennial/2020/technical-documentation/questionnaires-and-instructions/questionnaires/2020-informational-questionnaire-english_DI-Q1.pdf)."
   ]
  },
  {
   "cell_type": "code",
   "execution_count": 20,
   "id": "670c2201-c8a3-43d8-8f3a-f98bf576666a",
   "metadata": {
    "execution": {
     "iopub.execute_input": "2023-11-17T05:28:37.464445Z",
     "iopub.status.busy": "2023-11-17T05:28:37.463349Z",
     "iopub.status.idle": "2023-11-17T05:33:23.729556Z",
     "shell.execute_reply": "2023-11-17T05:33:23.726815Z"
    },
    "papermill": {
     "duration": 286.295414,
     "end_time": "2023-11-17T05:33:23.744181",
     "exception": false,
     "start_time": "2023-11-17T05:28:37.448767",
     "status": "completed"
    },
    "tags": []
   },
   "outputs": [
    {
     "name": "stderr",
     "output_type": "stream",
     "text": [
      "UserWarning: Sending large graph of size 15.64 MiB.\n",
      "This may cause some slowdown.\n",
      "Consider scattering data ahead of time and using futures.\n",
      "UserWarning: Sending large graph of size 15.62 MiB.\n",
      "This may cause some slowdown.\n",
      "Consider scattering data ahead of time and using futures.\n",
      "UserWarning: Sending large graph of size 15.63 MiB.\n",
      "This may cause some slowdown.\n",
      "Consider scattering data ahead of time and using futures.\n",
      "UserWarning: Sending large graph of size 15.65 MiB.\n",
      "This may cause some slowdown.\n",
      "Consider scattering data ahead of time and using futures.\n",
      "UserWarning: Sending large graph of size 15.61 MiB.\n",
      "This may cause some slowdown.\n",
      "Consider scattering data ahead of time and using futures.\n",
      "UserWarning: Sending large graph of size 15.66 MiB.\n",
      "This may cause some slowdown.\n",
      "Consider scattering data ahead of time and using futures.\n"
     ]
    },
    {
     "name": "stdout",
     "output_type": "stream",
     "text": [
      "CPU times: user 1min 40s, sys: 16.9 s, total: 1min 57s\n",
      "Wall time: 4min 46s\n"
     ]
    }
   ],
   "source": [
    "%%time\n",
    "\n",
    "simulated_census_2030 = psp.generate_decennial_census(\n",
    "    year=2030,\n",
    "    **psp_kwargs,\n",
    ")\n",
    "simulated_census_2030.to_parquet(str(Path(output_dir) / f\"simulated_census_2030.parquet\"))"
   ]
  },
  {
   "cell_type": "code",
   "execution_count": 21,
   "id": "43c6bfe1-d95c-4774-8a1b-e477f258fca6",
   "metadata": {
    "execution": {
     "iopub.execute_input": "2023-11-17T05:33:23.766182Z",
     "iopub.status.busy": "2023-11-17T05:33:23.765495Z",
     "iopub.status.idle": "2023-11-17T05:33:24.086553Z",
     "shell.execute_reply": "2023-11-17T05:33:24.083999Z"
    },
    "papermill": {
     "duration": 0.337678,
     "end_time": "2023-11-17T05:33:24.091659",
     "exception": false,
     "start_time": "2023-11-17T05:33:23.753981",
     "status": "completed"
    },
    "tags": []
   },
   "outputs": [
    {
     "name": "stdout",
     "output_type": "stream",
     "text": [
      "Thu Nov 16 21:33:23 PST 2023\n"
     ]
    }
   ],
   "source": [
    "! date"
   ]
  },
  {
   "cell_type": "code",
   "execution_count": null,
   "id": "ac19c70b-36c9-486f-9e65-6a32ca876ad7",
   "metadata": {
    "papermill": {
     "duration": 0.008931,
     "end_time": "2023-11-17T05:33:24.116247",
     "exception": false,
     "start_time": "2023-11-17T05:33:24.107316",
     "status": "completed"
    },
    "tags": []
   },
   "outputs": [],
   "source": []
  }
 ],
 "metadata": {
  "kernelspec": {
   "display_name": "generate_simulated_data_3",
   "language": "python",
   "name": "generate_simulated_data_3"
  },
  "language_info": {
   "codemirror_mode": {
    "name": "ipython",
    "version": 3
   },
   "file_extension": ".py",
   "mimetype": "text/x-python",
   "name": "python",
   "nbconvert_exporter": "python",
   "pygments_lexer": "ipython3",
   "version": "3.10.13"
  },
  "papermill": {
   "default_parameters": {},
   "duration": 5534.341647,
   "end_time": "2023-11-17T05:33:26.876567",
   "environment_variables": {},
   "exception": null,
   "input_path": "generate_pseudopeople_simulated_datasets.ipynb",
   "output_path": "generate_pseudopeople_simulated_datasets_full_usa.ipynb",
   "parameters": {
    "compute_engine": "modin_dask_distributed",
    "cpus_per_job": 5,
    "data_to_use": "usa",
    "memory_per_job": "30GB",
    "num_jobs": 100,
    "output_dir": "/ihme/scratch/users/zmbc/pvs_like_case_study/generate_simulated_data/"
   },
   "start_time": "2023-11-17T04:01:12.534920",
   "version": "2.5.0"
  }
 },
 "nbformat": 4,
 "nbformat_minor": 5
}
