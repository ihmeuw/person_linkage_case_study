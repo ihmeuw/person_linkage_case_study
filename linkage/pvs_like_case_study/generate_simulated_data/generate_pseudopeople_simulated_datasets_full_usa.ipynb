{
 "cells": [
  {
   "cell_type": "markdown",
   "id": "6f802687-416a-4b38-82d3-ab387dc16c38",
   "metadata": {
    "papermill": {
     "duration": 0.013982,
     "end_time": "2023-11-20T21:19:28.788414",
     "exception": false,
     "start_time": "2023-11-20T21:19:28.774432",
     "status": "completed"
    },
    "tags": []
   },
   "source": [
    "# Generate pseudopeople simulated datasets\n",
    "\n",
    "The very first step is generating pseudopeople data that will be used both directly in the case study, and to create the reference files.\n",
    "Since this is an intensive operation and currently can only be distributed with Modin, we do only this step in this notebook, then\n",
    "save the results."
   ]
  },
  {
   "cell_type": "code",
   "execution_count": 1,
   "id": "6a821e3e-9ae1-466d-b24f-66d1b0703a92",
   "metadata": {
    "execution": {
     "iopub.execute_input": "2023-11-20T21:19:28.806413Z",
     "iopub.status.busy": "2023-11-20T21:19:28.805801Z",
     "iopub.status.idle": "2023-11-20T21:19:38.545587Z",
     "shell.execute_reply": "2023-11-20T21:19:38.544936Z"
    },
    "papermill": {
     "duration": 9.752864,
     "end_time": "2023-11-20T21:19:38.549684",
     "exception": false,
     "start_time": "2023-11-20T21:19:28.796820",
     "status": "completed"
    },
    "tags": []
   },
   "outputs": [],
   "source": [
    "import warnings\n",
    "import pseudopeople as psp\n",
    "import numpy as np\n",
    "import os\n",
    "import logging\n",
    "from pathlib import Path\n",
    "# Importing pandas for access, regardless of whether we are using it as the compute engine\n",
    "import pandas"
   ]
  },
  {
   "cell_type": "code",
   "execution_count": 2,
   "id": "cc4546dc-f329-48b7-9988-5d25991939f0",
   "metadata": {
    "execution": {
     "iopub.execute_input": "2023-11-20T21:19:38.574579Z",
     "iopub.status.busy": "2023-11-20T21:19:38.573960Z",
     "iopub.status.idle": "2023-11-20T21:19:38.580161Z",
     "shell.execute_reply": "2023-11-20T21:19:38.578955Z"
    },
    "papermill": {
     "duration": 0.017848,
     "end_time": "2023-11-20T21:19:38.582097",
     "exception": false,
     "start_time": "2023-11-20T21:19:38.564249",
     "status": "completed"
    },
    "tags": []
   },
   "outputs": [],
   "source": [
    "warnings.simplefilter(action='ignore', category=FutureWarning)"
   ]
  },
  {
   "cell_type": "code",
   "execution_count": 3,
   "id": "7ac996f3-1270-4211-a829-728e3b2ba6f7",
   "metadata": {
    "editable": true,
    "execution": {
     "iopub.execute_input": "2023-11-20T21:19:38.600568Z",
     "iopub.status.busy": "2023-11-20T21:19:38.599921Z",
     "iopub.status.idle": "2023-11-20T21:19:38.607161Z",
     "shell.execute_reply": "2023-11-20T21:19:38.605965Z"
    },
    "papermill": {
     "duration": 0.018298,
     "end_time": "2023-11-20T21:19:38.609098",
     "exception": false,
     "start_time": "2023-11-20T21:19:38.590800",
     "status": "completed"
    },
    "slideshow": {
     "slide_type": ""
    },
    "tags": [
     "parameters"
    ]
   },
   "outputs": [],
   "source": [
    "# DO NOT EDIT if this notebook is not called generate_pseudopeople_simulated_datasets.ipynb!\n",
    "# This notebook is designed to be run with papermill; this cell is tagged 'parameters'\n",
    "# When you run this, save it to another filename.\n",
    "data_to_use = 'small_sample'\n",
    "output_dir = 'output'\n",
    "compute_engine = 'pandas'\n",
    "# Only matter if distributing\n",
    "num_jobs = 100\n",
    "cpus_per_job = 5\n",
    "memory_per_job = \"30GB\"\n",
    "very_noisy = True\n",
    "pseudopeople_seed = 0"
   ]
  },
  {
   "cell_type": "code",
   "execution_count": 4,
   "id": "70aa6b37",
   "metadata": {
    "execution": {
     "iopub.execute_input": "2023-11-20T21:19:38.627887Z",
     "iopub.status.busy": "2023-11-20T21:19:38.627235Z",
     "iopub.status.idle": "2023-11-20T21:19:38.634392Z",
     "shell.execute_reply": "2023-11-20T21:19:38.633229Z"
    },
    "papermill": {
     "duration": 0.018837,
     "end_time": "2023-11-20T21:19:38.636343",
     "exception": false,
     "start_time": "2023-11-20T21:19:38.617506",
     "status": "completed"
    },
    "tags": [
     "injected-parameters"
    ]
   },
   "outputs": [],
   "source": [
    "# Parameters\n",
    "data_to_use = \"usa\"\n",
    "output_dir = \"/ihme/scratch/users/zmbc/pvs_like_case_study/generate_simulated_data/\"\n",
    "compute_engine = \"modin_dask_distributed\"\n",
    "num_jobs = 100\n",
    "memory_per_job = \"30GB\"\n",
    "cpus_per_job = 5\n",
    "pseudopeople_seed = 1\n"
   ]
  },
  {
   "cell_type": "code",
   "execution_count": 5,
   "id": "d23e90be-2f7f-46db-ae17-a3dae23b7a4a",
   "metadata": {
    "execution": {
     "iopub.execute_input": "2023-11-20T21:19:38.655761Z",
     "iopub.status.busy": "2023-11-20T21:19:38.655106Z",
     "iopub.status.idle": "2023-11-20T21:19:38.662168Z",
     "shell.execute_reply": "2023-11-20T21:19:38.660826Z"
    },
    "papermill": {
     "duration": 0.019065,
     "end_time": "2023-11-20T21:19:38.664087",
     "exception": false,
     "start_time": "2023-11-20T21:19:38.645022",
     "status": "completed"
    },
    "tags": []
   },
   "outputs": [],
   "source": [
    "output_dir = str(Path(output_dir) / data_to_use / \"pseudopeople_simulated_datasets\")"
   ]
  },
  {
   "cell_type": "code",
   "execution_count": 6,
   "id": "79ff29f5-473d-4dab-9e7f-453f284ad8d8",
   "metadata": {
    "execution": {
     "iopub.execute_input": "2023-11-20T21:19:38.682380Z",
     "iopub.status.busy": "2023-11-20T21:19:38.681739Z",
     "iopub.status.idle": "2023-11-20T21:19:38.829377Z",
     "shell.execute_reply": "2023-11-20T21:19:38.827502Z"
    },
    "papermill": {
     "duration": 0.161492,
     "end_time": "2023-11-20T21:19:38.833572",
     "exception": false,
     "start_time": "2023-11-20T21:19:38.672080",
     "status": "completed"
    },
    "tags": []
   },
   "outputs": [
    {
     "name": "stdout",
     "output_type": "stream",
     "text": [
      "Mon Nov 20 13:19:38 PST 2023\r\n"
     ]
    }
   ],
   "source": [
    "! date"
   ]
  },
  {
   "cell_type": "code",
   "execution_count": 7,
   "id": "41e6be4e-a9b4-47c3-ae1a-f6e7d2c9dc6c",
   "metadata": {
    "execution": {
     "iopub.execute_input": "2023-11-20T21:19:38.858060Z",
     "iopub.status.busy": "2023-11-20T21:19:38.857372Z",
     "iopub.status.idle": "2023-11-20T21:19:38.869589Z",
     "shell.execute_reply": "2023-11-20T21:19:38.869125Z"
    },
    "papermill": {
     "duration": 0.025023,
     "end_time": "2023-11-20T21:19:38.871576",
     "exception": false,
     "start_time": "2023-11-20T21:19:38.846553",
     "status": "completed"
    },
    "tags": []
   },
   "outputs": [
    {
     "data": {
      "text/plain": [
       "'0.8.3.dev6+g31db93a'"
      ]
     },
     "execution_count": 7,
     "metadata": {},
     "output_type": "execute_result"
    }
   ],
   "source": [
    "psp.__version__"
   ]
  },
  {
   "cell_type": "code",
   "execution_count": 8,
   "id": "e5f1b1c7-e425-4fdb-a0fc-389e422d94d8",
   "metadata": {
    "execution": {
     "iopub.execute_input": "2023-11-20T21:19:38.890247Z",
     "iopub.status.busy": "2023-11-20T21:19:38.889865Z",
     "iopub.status.idle": "2023-11-20T21:19:48.328810Z",
     "shell.execute_reply": "2023-11-20T21:19:48.326447Z"
    },
    "papermill": {
     "duration": 9.4516,
     "end_time": "2023-11-20T21:19:48.332603",
     "exception": false,
     "start_time": "2023-11-20T21:19:38.881003",
     "status": "completed"
    },
    "tags": []
   },
   "outputs": [
    {
     "data": {
      "text/html": [
       "<div>\n",
       "    <div style=\"width: 24px; height: 24px; background-color: #e1e1e1; border: 3px solid #9D9D9D; border-radius: 5px; position: absolute;\"> </div>\n",
       "    <div style=\"margin-left: 48px;\">\n",
       "        <h3 style=\"margin-bottom: 0px;\">Client</h3>\n",
       "        <p style=\"color: #9D9D9D; margin-bottom: 0px;\">Client-87928d51-87ea-11ee-9de2-16ee399f19a2</p>\n",
       "        <table style=\"width: 100%; text-align: left;\">\n",
       "\n",
       "        <tr>\n",
       "        \n",
       "            <td style=\"text-align: left;\"><strong>Connection method:</strong> Cluster object</td>\n",
       "            <td style=\"text-align: left;\"><strong>Cluster type:</strong> dask_jobqueue.SLURMCluster</td>\n",
       "        \n",
       "        </tr>\n",
       "\n",
       "        \n",
       "            <tr>\n",
       "                <td style=\"text-align: left;\">\n",
       "                    <strong>Dashboard: </strong> <a href=\"http://10.158.99.29:8787/status\" target=\"_blank\">http://10.158.99.29:8787/status</a>\n",
       "                </td>\n",
       "                <td style=\"text-align: left;\"></td>\n",
       "            </tr>\n",
       "        \n",
       "\n",
       "        </table>\n",
       "\n",
       "        \n",
       "\n",
       "        \n",
       "            <details>\n",
       "            <summary style=\"margin-bottom: 20px;\"><h3 style=\"display: inline;\">Cluster Info</h3></summary>\n",
       "            <div class=\"jp-RenderedHTMLCommon jp-RenderedHTML jp-mod-trusted jp-OutputArea-output\">\n",
       "    <div style=\"width: 24px; height: 24px; background-color: #e1e1e1; border: 3px solid #9D9D9D; border-radius: 5px; position: absolute;\">\n",
       "    </div>\n",
       "    <div style=\"margin-left: 48px;\">\n",
       "        <h3 style=\"margin-bottom: 0px; margin-top: 0px;\">SLURMCluster</h3>\n",
       "        <p style=\"color: #9D9D9D; margin-bottom: 0px;\">229e44a1</p>\n",
       "        <table style=\"width: 100%; text-align: left;\">\n",
       "            <tr>\n",
       "                <td style=\"text-align: left;\">\n",
       "                    <strong>Dashboard:</strong> <a href=\"http://10.158.99.29:8787/status\" target=\"_blank\">http://10.158.99.29:8787/status</a>\n",
       "                </td>\n",
       "                <td style=\"text-align: left;\">\n",
       "                    <strong>Workers:</strong> 0\n",
       "                </td>\n",
       "            </tr>\n",
       "            <tr>\n",
       "                <td style=\"text-align: left;\">\n",
       "                    <strong>Total threads:</strong> 0\n",
       "                </td>\n",
       "                <td style=\"text-align: left;\">\n",
       "                    <strong>Total memory:</strong> 0 B\n",
       "                </td>\n",
       "            </tr>\n",
       "            \n",
       "        </table>\n",
       "\n",
       "        <details>\n",
       "            <summary style=\"margin-bottom: 20px;\">\n",
       "                <h3 style=\"display: inline;\">Scheduler Info</h3>\n",
       "            </summary>\n",
       "\n",
       "            <div style=\"\">\n",
       "    <div>\n",
       "        <div style=\"width: 24px; height: 24px; background-color: #FFF7E5; border: 3px solid #FF6132; border-radius: 5px; position: absolute;\"> </div>\n",
       "        <div style=\"margin-left: 48px;\">\n",
       "            <h3 style=\"margin-bottom: 0px;\">Scheduler</h3>\n",
       "            <p style=\"color: #9D9D9D; margin-bottom: 0px;\">Scheduler-287f097a-b667-4767-9e9f-826dfb6400cd</p>\n",
       "            <table style=\"width: 100%; text-align: left;\">\n",
       "                <tr>\n",
       "                    <td style=\"text-align: left;\">\n",
       "                        <strong>Comm:</strong> tcp://10.158.99.29:33597\n",
       "                    </td>\n",
       "                    <td style=\"text-align: left;\">\n",
       "                        <strong>Workers:</strong> 0\n",
       "                    </td>\n",
       "                </tr>\n",
       "                <tr>\n",
       "                    <td style=\"text-align: left;\">\n",
       "                        <strong>Dashboard:</strong> <a href=\"http://10.158.99.29:8787/status\" target=\"_blank\">http://10.158.99.29:8787/status</a>\n",
       "                    </td>\n",
       "                    <td style=\"text-align: left;\">\n",
       "                        <strong>Total threads:</strong> 0\n",
       "                    </td>\n",
       "                </tr>\n",
       "                <tr>\n",
       "                    <td style=\"text-align: left;\">\n",
       "                        <strong>Started:</strong> Just now\n",
       "                    </td>\n",
       "                    <td style=\"text-align: left;\">\n",
       "                        <strong>Total memory:</strong> 0 B\n",
       "                    </td>\n",
       "                </tr>\n",
       "            </table>\n",
       "        </div>\n",
       "    </div>\n",
       "\n",
       "    <details style=\"margin-left: 48px;\">\n",
       "        <summary style=\"margin-bottom: 20px;\">\n",
       "            <h3 style=\"display: inline;\">Workers</h3>\n",
       "        </summary>\n",
       "\n",
       "        \n",
       "\n",
       "    </details>\n",
       "</div>\n",
       "\n",
       "        </details>\n",
       "    </div>\n",
       "</div>\n",
       "            </details>\n",
       "        \n",
       "\n",
       "    </div>\n",
       "</div>"
      ],
      "text/plain": [
       "<Client: 'tcp://10.158.99.29:33597' processes=0 threads=0, memory=0 B>"
      ]
     },
     "metadata": {},
     "output_type": "display_data"
    }
   ],
   "source": [
    "if compute_engine == 'pandas':\n",
    "    import pandas as pd\n",
    "elif compute_engine.startswith('modin'):\n",
    "    if compute_engine.startswith('modin_dask_'):\n",
    "        import modin.config as modin_cfg\n",
    "        modin_cfg.Engine.put(\"dask\") # Use dask instead of ray (which is the default)\n",
    "\n",
    "        import dask\n",
    "\n",
    "        if compute_engine == 'modin_dask_distributed':\n",
    "            from dask_jobqueue import SLURMCluster\n",
    "\n",
    "            cluster = SLURMCluster(\n",
    "                queue='all.q',\n",
    "                account=\"proj_simscience\",\n",
    "                # If you give dask workers more than one core, they will use it to\n",
    "                # run more tasks at once.\n",
    "                # To have more than one thread per worker but use them all for\n",
    "                # multi-threading code in one task\n",
    "                # at a time, you have to set cores=1, processes=1 and job_cpu > 1.\n",
    "                cores=1,\n",
    "                processes=1,\n",
    "                memory=memory_per_job,\n",
    "                walltime=\"1-00:00:00\",\n",
    "                # Dask distributed looks at OS-reported memory to decide whether a worker is running out.\n",
    "                # If the memory allocator is not returning the memory to the OS promptly (even when holding onto it\n",
    "                # is smart), it will lead Dask to make bad decisions.\n",
    "                # By default, pyarrow uses jemalloc, but I could not get that to release memory quickly.\n",
    "                # Even this doesn't seem to be completely working, but in combination with small-ish partitions\n",
    "                # it seems to do okay -- unmanaged memory does seem to shrink from time to time, which it wasn't\n",
    "                # previously doing.\n",
    "                job_script_prologue=\"export ARROW_DEFAULT_MEMORY_POOL=system\\nexport MALLOC_TRIM_THRESHOLD_=0\",\n",
    "                job_cpu=cpus_per_job,\n",
    "            )\n",
    "\n",
    "            cluster.scale(n=num_jobs)\n",
    "            # Supposedly, this will start new jobs if the existing\n",
    "            # ones fail for some reason.\n",
    "            # https://stackoverflow.com/a/61295019\n",
    "            cluster.adapt(minimum_jobs=num_jobs, maximum_jobs=num_jobs)\n",
    "\n",
    "            from distributed import Client\n",
    "            client = Client(cluster)\n",
    "        else:\n",
    "            from distributed import Client\n",
    "            cpus_available = int(os.environ['SLURM_CPUS_ON_NODE'])\n",
    "            client = Client(n_workers=int(cpus_available / 2), threads_per_worker=2)\n",
    "\n",
    "        # Why is this necessary?!\n",
    "        # For some reason, if I don't set NPartitions, it seems to default to 0?!\n",
    "        num_row_groups = 1 if data_to_use == 'small_sample' else 334\n",
    "        modin_cfg.NPartitions.put(min(num_jobs * 3, num_row_groups))\n",
    "        modin_cfg.MinPartitionSize.put(1_000) # ensure no column-axis partitions -- they'll need to be joined up right away anyway by our row-wise noising\n",
    "\n",
    "        display(client)\n",
    "    elif compute_engine == 'modin_ray':\n",
    "        # Haven't worked on distributing this across multiple nodes\n",
    "        import ray\n",
    "        ray.init(runtime_env={'env_vars': {'__MODIN_AUTOIMPORT_PANDAS__': '1'}}, num_cpus=int(os.environ['SLURM_CPUS_ON_NODE']))\n",
    "    else:\n",
    "        # Use serial Python backend (good for debugging errors)\n",
    "        import modin.config as modin_cfg\n",
    "        modin_cfg.IsDebug.put(True)\n",
    "\n",
    "    import modin.pandas as pd\n",
    "\n",
    "    # https://modin.readthedocs.io/en/stable/usage_guide/advanced_usage/progress_bar.html\n",
    "    from modin.config import ProgressBar\n",
    "    ProgressBar.enable()"
   ]
  },
  {
   "cell_type": "markdown",
   "id": "8a08bfa0-f644-4faa-b303-ef24d9a32b86",
   "metadata": {
    "papermill": {
     "duration": 0.007839,
     "end_time": "2023-11-20T21:19:48.353096",
     "exception": false,
     "start_time": "2023-11-20T21:19:48.345257",
     "status": "completed"
    },
    "tags": []
   },
   "source": [
    "## Load simulated data"
   ]
  },
  {
   "cell_type": "code",
   "execution_count": 9,
   "id": "8abfcc66-502c-45f1-a269-d0c60fa5f0c9",
   "metadata": {
    "execution": {
     "iopub.execute_input": "2023-11-20T21:19:48.372593Z",
     "iopub.status.busy": "2023-11-20T21:19:48.371791Z",
     "iopub.status.idle": "2023-11-20T21:19:48.381648Z",
     "shell.execute_reply": "2023-11-20T21:19:48.379184Z"
    },
    "papermill": {
     "duration": 0.022356,
     "end_time": "2023-11-20T21:19:48.383761",
     "exception": false,
     "start_time": "2023-11-20T21:19:48.361405",
     "status": "completed"
    },
    "tags": []
   },
   "outputs": [],
   "source": [
    "assert data_to_use in ('small_sample', 'usa')\n",
    "pseudopeople_input_dir = None if data_to_use == 'small_sample' else '/mnt/team/simulation_science/priv/engineering/vivarium_census_prl_synth_pop/results/release_02_yellow/full_data/united_states_of_america/2023_07_28_08_33_09/final_results/2023_08_16_09_58_54/pseudopeople_input_data_usa/'"
   ]
  },
  {
   "cell_type": "code",
   "execution_count": 10,
   "id": "cc05826f-98d7-4dac-adf9-8d9f80809811",
   "metadata": {
    "execution": {
     "iopub.execute_input": "2023-11-20T21:19:48.404921Z",
     "iopub.status.busy": "2023-11-20T21:19:48.404164Z",
     "iopub.status.idle": "2023-11-20T21:19:48.413903Z",
     "shell.execute_reply": "2023-11-20T21:19:48.411270Z"
    },
    "papermill": {
     "duration": 0.022182,
     "end_time": "2023-11-20T21:19:48.416133",
     "exception": false,
     "start_time": "2023-11-20T21:19:48.393951",
     "status": "completed"
    },
    "tags": []
   },
   "outputs": [],
   "source": [
    "psp_kwargs = {\n",
    "    'source': pseudopeople_input_dir,\n",
    "    'seed': pseudopeople_seed,\n",
    "}\n",
    "if 'modin' in compute_engine:\n",
    "    psp_kwargs['engine'] = 'modin'"
   ]
  },
  {
   "cell_type": "markdown",
   "id": "02bd7b4d-645d-4dca-94ae-ee1780048aa0",
   "metadata": {
    "papermill": {
     "duration": 0.008895,
     "end_time": "2023-11-20T21:19:48.434191",
     "exception": false,
     "start_time": "2023-11-20T21:19:48.425296",
     "status": "completed"
    },
    "tags": []
   },
   "source": [
    "### Noise configuration\n",
    "\n",
    "In order to give ourselves more of a challenge, we significantly increase the amount of noise\n",
    "from the pseudopeople defaults."
   ]
  },
  {
   "cell_type": "code",
   "execution_count": 11,
   "id": "9dbb002e-8468-4885-a4b5-52fdb75ce7c0",
   "metadata": {
    "execution": {
     "iopub.execute_input": "2023-11-20T21:19:48.451686Z",
     "iopub.status.busy": "2023-11-20T21:19:48.450923Z",
     "iopub.status.idle": "2023-11-20T21:19:48.470033Z",
     "shell.execute_reply": "2023-11-20T21:19:48.467941Z"
    },
    "papermill": {
     "duration": 0.0313,
     "end_time": "2023-11-20T21:19:48.472529",
     "exception": false,
     "start_time": "2023-11-20T21:19:48.441229",
     "status": "completed"
    },
    "tags": []
   },
   "outputs": [],
   "source": [
    "default_configuration = psp.get_config()"
   ]
  },
  {
   "cell_type": "code",
   "execution_count": 12,
   "id": "a42207b2-5f2b-40c1-82d8-4d6ca36fe4c4",
   "metadata": {
    "execution": {
     "iopub.execute_input": "2023-11-20T21:19:48.494715Z",
     "iopub.status.busy": "2023-11-20T21:19:48.494255Z",
     "iopub.status.idle": "2023-11-20T21:19:48.506906Z",
     "shell.execute_reply": "2023-11-20T21:19:48.504781Z"
    },
    "papermill": {
     "duration": 0.025258,
     "end_time": "2023-11-20T21:19:48.509364",
     "exception": false,
     "start_time": "2023-11-20T21:19:48.484106",
     "status": "completed"
    },
    "tags": []
   },
   "outputs": [],
   "source": [
    "# Helper functions for changing the default configuration according to a pattern\n",
    "def column_noise_value(dataset, column, noise_type, default_value):\n",
    "    if very_noisy and dataset in ('decennial_census', 'taxes_w2_and_1099', 'social_security'):\n",
    "        if noise_type == \"make_typos\":\n",
    "            if column == \"middle_initial\":\n",
    "                # 5% of middle initials (which are all a single token anyway) are wrong.\n",
    "                return {\"cell_probability\": 0.05, \"token_probability\": 1}\n",
    "            elif column in (\"first_name\", \"last_name\", \"street_name\"):\n",
    "                # 10% of these text columns were entered carelessly, at a rate of 1 error\n",
    "                # per 10 characters.\n",
    "                # The pseudopeople default is 1% careless.\n",
    "                return {\"cell_probability\": 0.1, \"token_probability\": 0.1}\n",
    "        elif noise_type == \"write_wrong_digits\" and (dataset != \"social_security\" or column != \"ssn\"):\n",
    "            # 10% of number columns were written carelessly, at a rate of 1 error\n",
    "            # per 10 characters.\n",
    "            # The pseudopeople default is 1% careless.\n",
    "            # Note that this is applied on top of (the default lower levels of) typos,\n",
    "            # since typos also apply to numeric characters.\n",
    "            # We never introduce error on the SSN in the SSA dataset\n",
    "            return {\"cell_probability\": 0.1, \"token_probability\": 0.1}\n",
    "\n",
    "    return default_value\n",
    "\n",
    "\n",
    "def row_noise_value(dataset, noise_type, default_value):\n",
    "    return default_value"
   ]
  },
  {
   "cell_type": "code",
   "execution_count": 13,
   "id": "e7c9dd19-eac0-455f-9af3-7bc7bc3029e0",
   "metadata": {
    "execution": {
     "iopub.execute_input": "2023-11-20T21:19:48.531418Z",
     "iopub.status.busy": "2023-11-20T21:19:48.530690Z",
     "iopub.status.idle": "2023-11-20T21:19:48.543275Z",
     "shell.execute_reply": "2023-11-20T21:19:48.540876Z"
    },
    "papermill": {
     "duration": 0.024941,
     "end_time": "2023-11-20T21:19:48.545341",
     "exception": false,
     "start_time": "2023-11-20T21:19:48.520400",
     "status": "completed"
    },
    "tags": []
   },
   "outputs": [],
   "source": [
    "custom_configuration = {\n",
    "    dataset: {\n",
    "        noise_category: (\n",
    "            ({\n",
    "                column: {\n",
    "                    noise_type: column_noise_value(dataset, column, noise_type, noise_type_config)\n",
    "                    for noise_type, noise_type_config in column_config.items()\n",
    "                }\n",
    "                for column, column_config in noise_category_config.items()\n",
    "            }\n",
    "            if noise_category == \"column_noise\" else\n",
    "            {\n",
    "                noise_type: row_noise_value(dataset, noise_type, noise_type_config)\n",
    "                for noise_type, noise_type_config in noise_category_config.items()\n",
    "            })\n",
    "        )\n",
    "        for noise_category, noise_category_config in dataset_config.items()\n",
    "    }\n",
    "    for dataset, dataset_config in default_configuration.items()\n",
    "}"
   ]
  },
  {
   "cell_type": "code",
   "execution_count": 14,
   "id": "e8056884-bb09-475b-9499-56ba79b96c6a",
   "metadata": {
    "execution": {
     "iopub.execute_input": "2023-11-20T21:19:48.564529Z",
     "iopub.status.busy": "2023-11-20T21:19:48.563770Z",
     "iopub.status.idle": "2023-11-20T21:19:48.571889Z",
     "shell.execute_reply": "2023-11-20T21:19:48.569920Z"
    },
    "papermill": {
     "duration": 0.019446,
     "end_time": "2023-11-20T21:19:48.574038",
     "exception": false,
     "start_time": "2023-11-20T21:19:48.554592",
     "status": "completed"
    },
    "tags": []
   },
   "outputs": [],
   "source": [
    "psp_kwargs['config'] = custom_configuration"
   ]
  },
  {
   "cell_type": "markdown",
   "id": "480d3767-1895-4c4f-91d8-72d13a19b5ec",
   "metadata": {
    "papermill": {
     "duration": 0.007942,
     "end_time": "2023-11-20T21:19:48.590242",
     "exception": false,
     "start_time": "2023-11-20T21:19:48.582300",
     "status": "completed"
    },
    "tags": []
   },
   "source": [
    "### Simulated SSA Numident\n",
    "\n",
    "Wagner and Layne, p.4:\n",
    "\n",
    "> The reference files are derived from the Social Security Administration\n",
    "    (SSA) Numerical Identification file (SSA Numident). The Numident contains all\n",
    "    transactions recorded against one Social Security Number (SSN)...\n",
    "\n",
    "Based on the [SSA Numident through 2007 which is publicly available from NARA](https://aad.archives.gov/aad/series-description.jsp?s=5057),\n",
    "we know there are three kinds of transactions: SSN applications, deaths, and claiming benefits.\n",
    "SSN holders may change their information (e.g. changing name or sex) by submitting another application,\n",
    "which generates an additional application transaction.\n",
    "(The policies about this are found [on the SSA website](https://secure.ssa.gov/poms.nsf/lnx/0110212200).)\n",
    "\n",
    "The paper [\"Likely Transgender Individuals in U.S. Federal Administrative Records and the 2010 Census\" by Benjamin Cerf Harris](https://www.census.gov/content/dam/Census/library/working-papers/2015/adrm/carra-wp-2015-03.pdf)\n",
    "includes some helpful statistics (Table 2).\n",
    "The average person in the SSA Numident has 2.2 transactions (called \"claims\" in that paper, but with the same definition\n",
    "as our term \"transaction\": \"Any time an SSN is created or information associated with an existing SSN is changed, that event is registered\n",
    "as a claim.\").\n",
    "\n",
    "pseudopeople does not currently include correction, name change, or benefits claim transactions.\n",
    "It only includes SSN creation and death of the SSN holder.\n",
    "\n",
    "I've figured that there would be some delay in getting the Numident -- so by Census processing time\n",
    "for the 2030 Census, only the SSA transactions by the end of 2029 would be available.\n",
    "Note that with pseudopeople's current design it is only possible to set this cutoff at the end of a calendar year.\n",
    "The NORC report says that \"the Census NUMIDENT is recreated each year, to reflect\n",
    "Social Security transaction records through **March** of each year\" (p. 105),\n",
    "though it isn't clear when in the year the Census Numident is actually re-created."
   ]
  },
  {
   "cell_type": "code",
   "execution_count": 15,
   "id": "3da0de7b-2e91-4d23-96bd-d331a820d7e7",
   "metadata": {
    "execution": {
     "iopub.execute_input": "2023-11-20T21:19:48.609094Z",
     "iopub.status.busy": "2023-11-20T21:19:48.608329Z",
     "iopub.status.idle": "2023-11-20T21:24:06.104719Z",
     "shell.execute_reply": "2023-11-20T21:24:06.097615Z"
    },
    "papermill": {
     "duration": 257.515687,
     "end_time": "2023-11-20T21:24:06.114117",
     "exception": false,
     "start_time": "2023-11-20T21:19:48.598430",
     "status": "completed"
    },
    "tags": []
   },
   "outputs": [
    {
     "name": "stdout",
     "output_type": "stream",
     "text": [
      "CPU times: user 14.9 s, sys: 6.04 s, total: 20.9 s\n",
      "Wall time: 4min 17s\n"
     ]
    }
   ],
   "source": [
    "%%time\n",
    "\n",
    "simulated_ssa_numident = psp.generate_social_security(\n",
    "    year=2029,\n",
    "    **psp_kwargs,\n",
    ")"
   ]
  },
  {
   "cell_type": "code",
   "execution_count": 16,
   "id": "122a7f79-8054-4664-b916-f023585bf398",
   "metadata": {
    "execution": {
     "iopub.execute_input": "2023-11-20T21:24:06.180166Z",
     "iopub.status.busy": "2023-11-20T21:24:06.179425Z",
     "iopub.status.idle": "2023-11-20T21:43:11.274748Z",
     "shell.execute_reply": "2023-11-20T21:43:11.272906Z"
    },
    "papermill": {
     "duration": 1145.151319,
     "end_time": "2023-11-20T21:43:11.276767",
     "exception": false,
     "start_time": "2023-11-20T21:24:06.125448",
     "status": "completed"
    },
    "tags": []
   },
   "outputs": [
    {
     "name": "stderr",
     "output_type": "stream",
     "text": [
      "UserWarning: Sending large graph of size 9.58 MiB.\n",
      "This may cause some slowdown.\n",
      "Consider scattering data ahead of time and using futures.\n",
      "UserWarning: Sending large graph of size 9.59 MiB.\n",
      "This may cause some slowdown.\n",
      "Consider scattering data ahead of time and using futures.\n",
      "UserWarning: Sending large graph of size 9.57 MiB.\n",
      "This may cause some slowdown.\n",
      "Consider scattering data ahead of time and using futures.\n",
      "UserWarning: Sending large graph of size 9.58 MiB.\n",
      "This may cause some slowdown.\n",
      "Consider scattering data ahead of time and using futures.\n",
      "UserWarning: Sending large graph of size 9.59 MiB.\n",
      "This may cause some slowdown.\n",
      "Consider scattering data ahead of time and using futures.\n",
      "UserWarning: Sending large graph of size 9.57 MiB.\n",
      "This may cause some slowdown.\n",
      "Consider scattering data ahead of time and using futures.\n"
     ]
    },
    {
     "name": "stderr",
     "output_type": "stream",
     "text": [
      "UserWarning: Sending large graph of size 9.60 MiB.\n",
      "This may cause some slowdown.\n",
      "Consider scattering data ahead of time and using futures.\n"
     ]
    },
    {
     "name": "stderr",
     "output_type": "stream",
     "text": [
      "UserWarning: Sending large graph of size 19.15 MiB.\n",
      "This may cause some slowdown.\n",
      "Consider scattering data ahead of time and using futures.\n",
      "UserWarning: Sending large graph of size 19.16 MiB.\n",
      "This may cause some slowdown.\n",
      "Consider scattering data ahead of time and using futures.\n",
      "UserWarning: Sending large graph of size 19.17 MiB.\n",
      "This may cause some slowdown.\n",
      "Consider scattering data ahead of time and using futures.\n"
     ]
    },
    {
     "name": "stdout",
     "output_type": "stream",
     "text": [
      "CPU times: user 59.4 s, sys: 30 s, total: 1min 29s\n",
      "Wall time: 19min 5s\n"
     ]
    }
   ],
   "source": [
    "%%time\n",
    "\n",
    "simulated_ssa_numident.to_parquet(str(Path(output_dir) / \"simulated_ssa_numident.parquet\"))"
   ]
  },
  {
   "cell_type": "markdown",
   "id": "5fe8e46b-f936-4704-b120-9bbcbce6c3e9",
   "metadata": {
    "papermill": {
     "duration": 0.006506,
     "end_time": "2023-11-20T21:43:11.291956",
     "exception": false,
     "start_time": "2023-11-20T21:43:11.285450",
     "status": "completed"
    },
    "tags": []
   },
   "source": [
    "### Simulated 1040 tax filings\n",
    "\n",
    "We assume that the last 5 years of taxes would be available and used in the construction of the reference files -- see section about reference files below.\n",
    "\n",
    "Note that these are retrieved by *tax* year, so the 2029 taxes would be available in early 2030\n",
    "(around when our hypothetical case study is taking place)."
   ]
  },
  {
   "cell_type": "code",
   "execution_count": 17,
   "id": "8157a22b-45f3-4fc1-803e-4670a554b23f",
   "metadata": {
    "execution": {
     "iopub.execute_input": "2023-11-20T21:43:11.306951Z",
     "iopub.status.busy": "2023-11-20T21:43:11.306136Z",
     "iopub.status.idle": "2023-11-20T21:43:11.314451Z",
     "shell.execute_reply": "2023-11-20T21:43:11.313371Z"
    },
    "papermill": {
     "duration": 0.017575,
     "end_time": "2023-11-20T21:43:11.316064",
     "exception": false,
     "start_time": "2023-11-20T21:43:11.298489",
     "status": "completed"
    },
    "tags": []
   },
   "outputs": [
    {
     "data": {
      "text/plain": [
       "[2025, 2026, 2027, 2028, 2029]"
      ]
     },
     "execution_count": 17,
     "metadata": {},
     "output_type": "execute_result"
    }
   ],
   "source": [
    "tax_years = list(range(2025, 2030))\n",
    "tax_years"
   ]
  },
  {
   "cell_type": "code",
   "execution_count": 18,
   "id": "1b9a92b7-bdaf-454d-8ad4-97db95d6b461",
   "metadata": {
    "execution": {
     "iopub.execute_input": "2023-11-20T21:43:11.334183Z",
     "iopub.status.busy": "2023-11-20T21:43:11.333478Z",
     "iopub.status.idle": "2023-11-20T22:37:43.187823Z",
     "shell.execute_reply": "2023-11-20T22:37:43.184517Z"
    },
    "papermill": {
     "duration": 3271.872856,
     "end_time": "2023-11-20T22:37:43.198113",
     "exception": false,
     "start_time": "2023-11-20T21:43:11.325257",
     "status": "completed"
    },
    "tags": []
   },
   "outputs": [
    {
     "name": "stdout",
     "output_type": "stream",
     "text": [
      "2025\n"
     ]
    },
    {
     "name": "stderr",
     "output_type": "stream",
     "text": [
      "UserWarning: Sending large graph of size 10.66 MiB.\n",
      "This may cause some slowdown.\n",
      "Consider scattering data ahead of time and using futures.\n",
      "UserWarning: Sending large graph of size 10.67 MiB.\n",
      "This may cause some slowdown.\n",
      "Consider scattering data ahead of time and using futures.\n",
      "UserWarning: Sending large graph of size 10.68 MiB.\n",
      "This may cause some slowdown.\n",
      "Consider scattering data ahead of time and using futures.\n"
     ]
    },
    {
     "name": "stdout",
     "output_type": "stream",
     "text": [
      "2026\n"
     ]
    },
    {
     "name": "stderr",
     "output_type": "stream",
     "text": [
      "UserWarning: Sending large graph of size 10.88 MiB.\n",
      "This may cause some slowdown.\n",
      "Consider scattering data ahead of time and using futures.\n",
      "UserWarning: Sending large graph of size 10.89 MiB.\n",
      "This may cause some slowdown.\n",
      "Consider scattering data ahead of time and using futures.\n",
      "UserWarning: Sending large graph of size 10.87 MiB.\n",
      "This may cause some slowdown.\n",
      "Consider scattering data ahead of time and using futures.\n",
      "UserWarning: Sending large graph of size 10.90 MiB.\n",
      "This may cause some slowdown.\n",
      "Consider scattering data ahead of time and using futures.\n"
     ]
    },
    {
     "name": "stdout",
     "output_type": "stream",
     "text": [
      "2027\n"
     ]
    },
    {
     "name": "stderr",
     "output_type": "stream",
     "text": [
      "UserWarning: Sending large graph of size 11.09 MiB.\n",
      "This may cause some slowdown.\n",
      "Consider scattering data ahead of time and using futures.\n",
      "UserWarning: Sending large graph of size 11.10 MiB.\n",
      "This may cause some slowdown.\n",
      "Consider scattering data ahead of time and using futures.\n",
      "UserWarning: Sending large graph of size 11.11 MiB.\n",
      "This may cause some slowdown.\n",
      "Consider scattering data ahead of time and using futures.\n"
     ]
    },
    {
     "name": "stdout",
     "output_type": "stream",
     "text": [
      "2028\n"
     ]
    },
    {
     "name": "stderr",
     "output_type": "stream",
     "text": [
      "UserWarning: Sending large graph of size 11.30 MiB.\n",
      "This may cause some slowdown.\n",
      "Consider scattering data ahead of time and using futures.\n",
      "UserWarning: Sending large graph of size 11.31 MiB.\n",
      "This may cause some slowdown.\n",
      "Consider scattering data ahead of time and using futures.\n",
      "UserWarning: Sending large graph of size 11.32 MiB.\n",
      "This may cause some slowdown.\n",
      "Consider scattering data ahead of time and using futures.\n"
     ]
    },
    {
     "name": "stdout",
     "output_type": "stream",
     "text": [
      "2029\n"
     ]
    },
    {
     "name": "stderr",
     "output_type": "stream",
     "text": [
      "UserWarning: Sending large graph of size 11.50 MiB.\n",
      "This may cause some slowdown.\n",
      "Consider scattering data ahead of time and using futures.\n",
      "UserWarning: Sending large graph of size 11.51 MiB.\n",
      "This may cause some slowdown.\n",
      "Consider scattering data ahead of time and using futures.\n",
      "UserWarning: Sending large graph of size 11.52 MiB.\n",
      "This may cause some slowdown.\n",
      "Consider scattering data ahead of time and using futures.\n",
      "UserWarning: Sending large graph of size 11.53 MiB.\n",
      "This may cause some slowdown.\n",
      "Consider scattering data ahead of time and using futures.\n"
     ]
    },
    {
     "name": "stdout",
     "output_type": "stream",
     "text": [
      "CPU times: user 15min 5s, sys: 1min 49s, total: 16min 54s\n",
      "Wall time: 54min 31s\n"
     ]
    }
   ],
   "source": [
    "%%time\n",
    "\n",
    "for year in tax_years:\n",
    "    print(year)\n",
    "    psp.generate_taxes_1040(\n",
    "        year=year,\n",
    "        **psp_kwargs,\n",
    "    ).to_parquet(str(Path(output_dir) / f\"simulated_taxes_1040_{year}.parquet\"))"
   ]
  },
  {
   "cell_type": "markdown",
   "id": "d8bad94f-c803-41e0-bf17-9ecfdb56cdbd",
   "metadata": {
    "papermill": {
     "duration": 0.011492,
     "end_time": "2023-11-20T22:37:43.221915",
     "exception": false,
     "start_time": "2023-11-20T22:37:43.210423",
     "status": "completed"
    },
    "tags": []
   },
   "source": [
    "### Simulated W2/1099 tax filings\n",
    "\n",
    "We assume that the last 5 years of taxes would be available and used in the construction of the reference files.\n",
    "\n",
    "Note that these are retrieved by *tax* year, so the 2029 taxes would be available in early 2030\n",
    "(around when our hypothetical case study is taking place)."
   ]
  },
  {
   "cell_type": "code",
   "execution_count": 19,
   "id": "2c072c69-f7c7-4bf1-b99e-48c3257063ba",
   "metadata": {
    "execution": {
     "iopub.execute_input": "2023-11-20T22:37:43.247713Z",
     "iopub.status.busy": "2023-11-20T22:37:43.247039Z",
     "iopub.status.idle": "2023-11-20T23:07:07.333302Z",
     "shell.execute_reply": "2023-11-20T23:07:07.329570Z"
    },
    "papermill": {
     "duration": 1764.104518,
     "end_time": "2023-11-20T23:07:07.337273",
     "exception": false,
     "start_time": "2023-11-20T22:37:43.232755",
     "status": "completed"
    },
    "tags": []
   },
   "outputs": [
    {
     "name": "stdout",
     "output_type": "stream",
     "text": [
      "2025\n"
     ]
    },
    {
     "name": "stderr",
     "output_type": "stream",
     "text": [
      "UserWarning: Sending large graph of size 15.01 MiB.\n",
      "This may cause some slowdown.\n",
      "Consider scattering data ahead of time and using futures.\n",
      "UserWarning: Sending large graph of size 15.00 MiB.\n",
      "This may cause some slowdown.\n",
      "Consider scattering data ahead of time and using futures.\n",
      "UserWarning: Sending large graph of size 14.99 MiB.\n",
      "This may cause some slowdown.\n",
      "Consider scattering data ahead of time and using futures.\n",
      "UserWarning: Sending large graph of size 15.02 MiB.\n",
      "This may cause some slowdown.\n",
      "Consider scattering data ahead of time and using futures.\n",
      "UserWarning: Sending large graph of size 14.98 MiB.\n",
      "This may cause some slowdown.\n",
      "Consider scattering data ahead of time and using futures.\n"
     ]
    },
    {
     "name": "stdout",
     "output_type": "stream",
     "text": [
      "2026\n"
     ]
    },
    {
     "name": "stderr",
     "output_type": "stream",
     "text": [
      "UserWarning: Sending large graph of size 15.07 MiB.\n",
      "This may cause some slowdown.\n",
      "Consider scattering data ahead of time and using futures.\n",
      "UserWarning: Sending large graph of size 15.09 MiB.\n",
      "This may cause some slowdown.\n",
      "Consider scattering data ahead of time and using futures.\n",
      "UserWarning: Sending large graph of size 15.08 MiB.\n",
      "This may cause some slowdown.\n",
      "Consider scattering data ahead of time and using futures.\n",
      "UserWarning: Sending large graph of size 15.06 MiB.\n",
      "This may cause some slowdown.\n",
      "Consider scattering data ahead of time and using futures.\n",
      "UserWarning: Sending large graph of size 15.05 MiB.\n",
      "This may cause some slowdown.\n",
      "Consider scattering data ahead of time and using futures.\n",
      "UserWarning: Sending large graph of size 15.10 MiB.\n",
      "This may cause some slowdown.\n",
      "Consider scattering data ahead of time and using futures.\n"
     ]
    },
    {
     "name": "stdout",
     "output_type": "stream",
     "text": [
      "2027\n"
     ]
    },
    {
     "name": "stderr",
     "output_type": "stream",
     "text": [
      "UserWarning: Sending large graph of size 15.14 MiB.\n",
      "This may cause some slowdown.\n",
      "Consider scattering data ahead of time and using futures.\n",
      "UserWarning: Sending large graph of size 15.15 MiB.\n",
      "This may cause some slowdown.\n",
      "Consider scattering data ahead of time and using futures.\n",
      "UserWarning: Sending large graph of size 15.13 MiB.\n",
      "This may cause some slowdown.\n",
      "Consider scattering data ahead of time and using futures.\n",
      "UserWarning: Sending large graph of size 15.16 MiB.\n",
      "This may cause some slowdown.\n",
      "Consider scattering data ahead of time and using futures.\n",
      "UserWarning: Sending large graph of size 15.12 MiB.\n",
      "This may cause some slowdown.\n",
      "Consider scattering data ahead of time and using futures.\n",
      "UserWarning: Sending large graph of size 15.11 MiB.\n",
      "This may cause some slowdown.\n",
      "Consider scattering data ahead of time and using futures.\n"
     ]
    },
    {
     "name": "stdout",
     "output_type": "stream",
     "text": [
      "2028\n"
     ]
    },
    {
     "name": "stderr",
     "output_type": "stream",
     "text": [
      "UserWarning: Sending large graph of size 15.20 MiB.\n",
      "This may cause some slowdown.\n",
      "Consider scattering data ahead of time and using futures.\n",
      "UserWarning: Sending large graph of size 15.22 MiB.\n",
      "This may cause some slowdown.\n",
      "Consider scattering data ahead of time and using futures.\n",
      "UserWarning: Sending large graph of size 15.21 MiB.\n",
      "This may cause some slowdown.\n",
      "Consider scattering data ahead of time and using futures.\n",
      "UserWarning: Sending large graph of size 15.18 MiB.\n",
      "This may cause some slowdown.\n",
      "Consider scattering data ahead of time and using futures.\n",
      "UserWarning: Sending large graph of size 15.19 MiB.\n",
      "This may cause some slowdown.\n",
      "Consider scattering data ahead of time and using futures.\n",
      "UserWarning: Sending large graph of size 15.17 MiB.\n",
      "This may cause some slowdown.\n",
      "Consider scattering data ahead of time and using futures.\n"
     ]
    },
    {
     "name": "stdout",
     "output_type": "stream",
     "text": [
      "2029\n"
     ]
    },
    {
     "name": "stderr",
     "output_type": "stream",
     "text": [
      "UserWarning: Sending large graph of size 15.25 MiB.\n",
      "This may cause some slowdown.\n",
      "Consider scattering data ahead of time and using futures.\n",
      "UserWarning: Sending large graph of size 15.26 MiB.\n",
      "This may cause some slowdown.\n",
      "Consider scattering data ahead of time and using futures.\n",
      "UserWarning: Sending large graph of size 15.24 MiB.\n",
      "This may cause some slowdown.\n",
      "Consider scattering data ahead of time and using futures.\n",
      "UserWarning: Sending large graph of size 15.28 MiB.\n",
      "This may cause some slowdown.\n",
      "Consider scattering data ahead of time and using futures.\n",
      "UserWarning: Sending large graph of size 15.27 MiB.\n",
      "This may cause some slowdown.\n",
      "Consider scattering data ahead of time and using futures.\n",
      "UserWarning: Sending large graph of size 15.22 MiB.\n",
      "This may cause some slowdown.\n",
      "Consider scattering data ahead of time and using futures.\n",
      "UserWarning: Sending large graph of size 15.23 MiB.\n",
      "This may cause some slowdown.\n",
      "Consider scattering data ahead of time and using futures.\n"
     ]
    },
    {
     "name": "stdout",
     "output_type": "stream",
     "text": [
      "CPU times: user 10min 18s, sys: 1min 27s, total: 11min 46s\n",
      "Wall time: 29min 24s\n"
     ]
    }
   ],
   "source": [
    "%%time\n",
    "\n",
    "for year in tax_years:\n",
    "    print(year)\n",
    "    psp.generate_taxes_w2_and_1099(\n",
    "        year=year,\n",
    "        **psp_kwargs,\n",
    "    ).to_parquet(str(Path(output_dir) / f\"simulated_taxes_w2_and_1099_{year}.parquet\"))"
   ]
  },
  {
   "cell_type": "markdown",
   "id": "ed6967cb-dfa6-4b43-98b9-e590d266f55f",
   "metadata": {
    "papermill": {
     "duration": 0.008165,
     "end_time": "2023-11-20T23:07:07.356476",
     "exception": false,
     "start_time": "2023-11-20T23:07:07.348311",
     "status": "completed"
    },
    "tags": []
   },
   "source": [
    "### Simulated 2030 Census Unedited File (CUF)\n",
    "\n",
    "For now, we gloss over the data schema for addresses.\n",
    "We don't know how addresses would be formatted in the CUF (and it's hard to guess, because\n",
    "address is not part of the Census form), but it likely would have some of these fields\n",
    "(street number, street name, etc) combined.\n",
    "\n",
    "While PVS input files do not in general have names split into first, middle, and last,\n",
    "I am guessing the CUF **would** have first name, middle initial, last name (which is how pseudopeople\n",
    "generates it), because that [matches the Census questionnaire](https://www2.census.gov/programs-surveys/decennial/2020/technical-documentation/questionnaires-and-instructions/questionnaires/2020-informational-questionnaire-english_DI-Q1.pdf)."
   ]
  },
  {
   "cell_type": "code",
   "execution_count": 20,
   "id": "670c2201-c8a3-43d8-8f3a-f98bf576666a",
   "metadata": {
    "execution": {
     "iopub.execute_input": "2023-11-20T23:07:07.398597Z",
     "iopub.status.busy": "2023-11-20T23:07:07.397201Z",
     "iopub.status.idle": "2023-11-20T23:11:44.183688Z",
     "shell.execute_reply": "2023-11-20T23:11:44.182388Z"
    },
    "papermill": {
     "duration": 276.82155,
     "end_time": "2023-11-20T23:11:44.186436",
     "exception": false,
     "start_time": "2023-11-20T23:07:07.364886",
     "status": "completed"
    },
    "tags": []
   },
   "outputs": [
    {
     "name": "stderr",
     "output_type": "stream",
     "text": [
      "UserWarning: Sending large graph of size 15.64 MiB.\n",
      "This may cause some slowdown.\n",
      "Consider scattering data ahead of time and using futures.\n",
      "UserWarning: Sending large graph of size 15.62 MiB.\n",
      "This may cause some slowdown.\n",
      "Consider scattering data ahead of time and using futures.\n",
      "UserWarning: Sending large graph of size 15.63 MiB.\n",
      "This may cause some slowdown.\n",
      "Consider scattering data ahead of time and using futures.\n",
      "UserWarning: Sending large graph of size 15.65 MiB.\n",
      "This may cause some slowdown.\n",
      "Consider scattering data ahead of time and using futures.\n",
      "UserWarning: Sending large graph of size 15.61 MiB.\n",
      "This may cause some slowdown.\n",
      "Consider scattering data ahead of time and using futures.\n",
      "UserWarning: Sending large graph of size 15.66 MiB.\n",
      "This may cause some slowdown.\n",
      "Consider scattering data ahead of time and using futures.\n"
     ]
    },
    {
     "name": "stdout",
     "output_type": "stream",
     "text": [
      "CPU times: user 1min 43s, sys: 15.8 s, total: 1min 59s\n",
      "Wall time: 4min 36s\n"
     ]
    }
   ],
   "source": [
    "%%time\n",
    "\n",
    "simulated_census_2030 = psp.generate_decennial_census(\n",
    "    year=2030,\n",
    "    **psp_kwargs,\n",
    ")\n",
    "simulated_census_2030.to_parquet(str(Path(output_dir) / f\"simulated_census_2030.parquet\"))"
   ]
  },
  {
   "cell_type": "code",
   "execution_count": 21,
   "id": "43c6bfe1-d95c-4774-8a1b-e477f258fca6",
   "metadata": {
    "execution": {
     "iopub.execute_input": "2023-11-20T23:11:44.240625Z",
     "iopub.status.busy": "2023-11-20T23:11:44.237782Z",
     "iopub.status.idle": "2023-11-20T23:11:44.630199Z",
     "shell.execute_reply": "2023-11-20T23:11:44.627887Z"
    },
    "papermill": {
     "duration": 0.432124,
     "end_time": "2023-11-20T23:11:44.633269",
     "exception": false,
     "start_time": "2023-11-20T23:11:44.201145",
     "status": "completed"
    },
    "tags": []
   },
   "outputs": [
    {
     "name": "stdout",
     "output_type": "stream",
     "text": [
      "Mon Nov 20 15:11:44 PST 2023\r\n"
     ]
    }
   ],
   "source": [
    "! date"
   ]
  },
  {
   "cell_type": "code",
   "execution_count": null,
   "id": "ac19c70b-36c9-486f-9e65-6a32ca876ad7",
   "metadata": {
    "papermill": {
     "duration": 0.008954,
     "end_time": "2023-11-20T23:11:44.657953",
     "exception": false,
     "start_time": "2023-11-20T23:11:44.648999",
     "status": "completed"
    },
    "tags": []
   },
   "outputs": [],
   "source": []
  }
 ],
 "metadata": {
  "kernelspec": {
   "display_name": "generate_simulated_data_3",
   "language": "python",
   "name": "generate_simulated_data_3"
  },
  "language_info": {
   "codemirror_mode": {
    "name": "ipython",
    "version": 3
   },
   "file_extension": ".py",
   "mimetype": "text/x-python",
   "name": "python",
   "nbconvert_exporter": "python",
   "pygments_lexer": "ipython3",
   "version": "3.10.13"
  },
  "papermill": {
   "default_parameters": {},
   "duration": 6744.302349,
   "end_time": "2023-11-20T23:11:47.615916",
   "environment_variables": {},
   "exception": null,
   "input_path": "generate_pseudopeople_simulated_datasets.ipynb",
   "output_path": "generate_pseudopeople_simulated_datasets_full_usa.ipynb",
   "parameters": {
    "compute_engine": "modin_dask_distributed",
    "cpus_per_job": 5,
    "data_to_use": "usa",
    "memory_per_job": "30GB",
    "num_jobs": 100,
    "output_dir": "/ihme/scratch/users/zmbc/pvs_like_case_study/generate_simulated_data/",
    "pseudopeople_seed": 1
   },
   "start_time": "2023-11-20T21:19:23.313567",
   "version": "2.5.0"
  }
 },
 "nbformat": 4,
 "nbformat_minor": 5
}