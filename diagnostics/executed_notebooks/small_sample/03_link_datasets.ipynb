{
 "cells": [
  {
   "cell_type": "markdown",
   "id": "ed9e49e5-db4e-4665-9892-0a679dcc22c5",
   "metadata": {
    "papermill": {
     "duration": 0.026694,
     "end_time": "2024-06-01T00:28:33.248671",
     "exception": false,
     "start_time": "2024-06-01T00:28:33.221977",
     "status": "completed"
    },
    "tags": []
   },
   "source": [
    "# **Person linkage case study**\n",
    "\n",
    "In this case study, we imagine running a person linkage to add unique identifiers to a simulated 2030 Census Unedited File (CUF).\n",
    "We emulate the methods of the Census Bureau's Person Identification Validation System (PVS) using publicly available descriptions.\n",
    "The PVS aims to give people in the input file (the CUF, in this case) unique identifiers that can be used to link them to other administrative records.\n",
    "\n",
    "We approximate the (highly confidential) input data to PVS by using simulated data from our pseudopeople package.\n",
    "See the `generate_simulated_data` notebook for details about this.\n",
    "\n",
    "## Sources\n",
    "\n",
    "These papers describe PVS as their main subject:\n",
    "\n",
    "* Wagner and Layne. The Person Identification Validation System (PVS): Applying the Center for Administrative Records Research and Applications’ (CARRA) Record Linkage Software. 2014. https://www.census.gov/content/dam/Census/library/working-papers/2014/adrm/carra-wp-2014-01.pdf ([archived](https://web.archive.org/web/20230216043235/https://www.census.gov/content/dam/Census/library/working-papers/2014/adrm/carra-wp-2014-01.pdf))\n",
    "* Layne, Wagner, and Rothhaas. Estimating Record Linkage False Match Rate for the Person Identification Validation System. 2014. https://www.census.gov/content/dam/Census/library/working-papers/2014/adrm/carra-wp-2014-02.pdf ([archived](https://web.archive.org/web/20220121051156/https://www.census.gov/content/dam/Census/library/working-papers/2014/adrm/carra-wp-2014-02.pdf))\n",
    "* Alexander et al. Creating a Longitudinal Data Infrastructure at the Census Bureau. 2015. https://www.census.gov/content/dam/Census/library/working-papers/2015/adrm/2015-alexander.pdf ([archived](https://web.archive.org/web/20170723192315/http://www.census.gov/content/dam/Census/library/working-papers/2015/adrm/2015-alexander.pdf))\n",
    "* Massey and O'Hara. Person Matching in Historical Files using the Census Bureau’s Person Validation System. 2014. https://www.census.gov/content/dam/Census/library/working-papers/2014/adrm/carra-wp-2014-11.pdf ([archived](https://web.archive.org/web/20221018074814/http://www.census.gov/content/dam/Census/library/working-papers/2014/adrm/carra-wp-2014-11.pdf))\n",
    "* NORC. Assessment of the U.S. Census Bureau’s Person Identification Validation System. 2011. https://www.norc.org/content/dam/norc-org/pdfs/PVS%20Assessment%20Report%20FINAL%20JULY%202011.pdf ([archived](https://web.archive.org/web/20230705005935/https://www.norc.org/content/dam/norc-org/pdfs/PVS%20Assessment%20Report%20FINAL%20JULY%202011.pdf))\n",
    "\n",
    "These apply PVS to some linking task, and in doing so describe it in some detail:\n",
    "\n",
    "* Brown et al. Real-Time 2020 Administrative Record Census Simulation. 2023. https://www2.census.gov/programs-surveys/decennial/2020/program-management/evaluate-docs/EAE-2020-admin-records-experiment.pdf ([archived](https://web.archive.org/web/20230521191811/https://www2.census.gov/programs-surveys/decennial/2020/program-management/evaluate-docs/EAE-2020-admin-records-experiment.pdf))\n",
    "* Massey et al. Linking the 1940 U.S. Census with Modern Data. 2018. https://www.ncbi.nlm.nih.gov/pmc/articles/PMC6530596/ ([DOI](https://doi.org/10.1080%2F01615440.2018.1507772))\n",
    "* Luque and Wagner. Assessing Coverage and Quality of the 2007 Prototype Census Kidlink Database. 2015. https://www.census.gov/content/dam/Census/library/working-papers/2015/adrm/carra-wp-2015-07.pdf ([archived](https://web.archive.org/web/20220808205231/http://www.census.gov/content/dam/Census/library/working-papers/2015/adrm/carra-wp-2015-07.pdf))\n",
    "* Bond et al. The Nature of the Bias When Studying Only Linkable Person Records: Evidence from the American Community Survey. 2014. https://www.census.gov/content/dam/Census/library/working-papers/2014/adrm/carra-wp-2014-08.pdf ([archived](https://web.archive.org/web/20220803083857/http://www.census.gov/content/dam/Census/library/working-papers/2014/adrm/carra-wp-2014-08.pdf))\n",
    "\n",
    "Finally, this paper is about the address matching process (MAF Match) which acts as part of PVS:\n",
    "\n",
    "* Brummet. Comparison of Survey, Federal, and Commercial Address Data Quality. 2014. https://www.census.gov/content/dam/Census/library/working-papers/2014/adrm/carra-wp-2014-06.pdf ([archived](https://web.archive.org/web/20220121213358/https://www.census.gov/content/dam/Census/library/working-papers/2014/adrm/carra-wp-2014-06.pdf))\n",
    "\n",
    "All of these papers are referenced throughout this notebook (and other notebooks) by the authors' names, along with additional information like page numbers.\n",
    "All page numbers represent those of the PDF files themselves, *not* page numbers printed in the documents.\n",
    "\n",
    "## PVS overview\n",
    "\n",
    "Brown et al., p. 28:\n",
    "\n",
    "> The PVS uses probabilistic record linkage (Fellegi and Sunter, 1969) to match data from an\n",
    "    incoming file (e.g., a survey or administrative record file) to reference files containing data on\n",
    "    SSN applications from the NUMIDENT enhanced with address data obtained from other federal\n",
    "    administrative records.\n",
    "\n",
    "## Setup"
   ]
  },
  {
   "cell_type": "code",
   "execution_count": 1,
   "id": "a12f9d0e",
   "metadata": {
    "execution": {
     "iopub.execute_input": "2024-06-01T00:28:33.287379Z",
     "iopub.status.busy": "2024-06-01T00:28:33.286527Z",
     "iopub.status.idle": "2024-06-01T00:28:33.482527Z",
     "shell.execute_reply": "2024-06-01T00:28:33.480875Z"
    },
    "papermill": {
     "duration": 0.219582,
     "end_time": "2024-06-01T00:28:33.486617",
     "exception": false,
     "start_time": "2024-06-01T00:28:33.267035",
     "status": "completed"
    },
    "tags": []
   },
   "outputs": [
    {
     "data": {
      "text/plain": [
       "<dask.config.set at 0x7fc2f0167e50>"
      ]
     },
     "execution_count": 1,
     "metadata": {},
     "output_type": "execute_result"
    }
   ],
   "source": [
    "# Query planning is now on by default, but it has some rough edges.\n",
    "# See https://github.com/dask/dask/issues/10995 for general discussion\n",
    "# and https://github.com/dask/dask-expr/issues/1066 for the particular\n",
    "# issue I ran into.\n",
    "import dask\n",
    "\n",
    "dask.config.set({\"dataframe.query-planning\": False})"
   ]
  },
  {
   "cell_type": "code",
   "execution_count": 2,
   "id": "f0af1f28-7e30-4860-992e-15da22f9b55f",
   "metadata": {
    "execution": {
     "iopub.execute_input": "2024-06-01T00:28:33.530302Z",
     "iopub.status.busy": "2024-06-01T00:28:33.529411Z",
     "iopub.status.idle": "2024-06-01T00:28:34.279006Z",
     "shell.execute_reply": "2024-06-01T00:28:34.276978Z"
    },
    "papermill": {
     "duration": 0.773965,
     "end_time": "2024-06-01T00:28:34.283281",
     "exception": false,
     "start_time": "2024-06-01T00:28:33.509316",
     "status": "completed"
    },
    "tags": []
   },
   "outputs": [],
   "source": [
    "import re, copy, os, time, datetime\n",
    "import pandas\n",
    "import jellyfish"
   ]
  },
  {
   "cell_type": "code",
   "execution_count": 3,
   "id": "39ce58b3-0901-420f-b6c2-2dfd85e56f78",
   "metadata": {
    "execution": {
     "iopub.execute_input": "2024-06-01T00:28:34.328870Z",
     "iopub.status.busy": "2024-06-01T00:28:34.328010Z",
     "iopub.status.idle": "2024-06-01T00:28:34.337450Z",
     "shell.execute_reply": "2024-06-01T00:28:34.335523Z"
    },
    "papermill": {
     "duration": 0.031503,
     "end_time": "2024-06-01T00:28:34.339441",
     "exception": false,
     "start_time": "2024-06-01T00:28:34.307938",
     "status": "completed"
    },
    "tags": []
   },
   "outputs": [
    {
     "name": "stdout",
     "output_type": "stream",
     "text": [
      "2024-05-31 17:28:34.331103\n"
     ]
    }
   ],
   "source": [
    "print(datetime.datetime.now())"
   ]
  },
  {
   "cell_type": "code",
   "execution_count": 4,
   "id": "10473b3a-f016-4afd-9e0e-cbaa968555e0",
   "metadata": {
    "execution": {
     "iopub.execute_input": "2024-06-01T00:28:34.377896Z",
     "iopub.status.busy": "2024-06-01T00:28:34.377243Z",
     "iopub.status.idle": "2024-06-01T00:28:34.562887Z",
     "shell.execute_reply": "2024-06-01T00:28:34.560948Z"
    },
    "papermill": {
     "duration": 0.20847,
     "end_time": "2024-06-01T00:28:34.566507",
     "exception": false,
     "start_time": "2024-06-01T00:28:34.358037",
     "status": "completed"
    },
    "tags": []
   },
   "outputs": [],
   "source": [
    "%load_ext autoreload\n",
    "%autoreload 1"
   ]
  },
  {
   "cell_type": "code",
   "execution_count": 5,
   "id": "fbae5f8b-f5b0-43db-907b-bdbc83a2d9c6",
   "metadata": {
    "execution": {
     "iopub.execute_input": "2024-06-01T00:28:34.611531Z",
     "iopub.status.busy": "2024-06-01T00:28:34.610906Z",
     "iopub.status.idle": "2024-06-01T00:28:34.724322Z",
     "shell.execute_reply": "2024-06-01T00:28:34.722705Z"
    },
    "papermill": {
     "duration": 0.137903,
     "end_time": "2024-06-01T00:28:34.728233",
     "exception": false,
     "start_time": "2024-06-01T00:28:34.590330",
     "status": "completed"
    },
    "tags": []
   },
   "outputs": [],
   "source": [
    "from person_linkage_case_study import distributed_compute, utils"
   ]
  },
  {
   "cell_type": "code",
   "execution_count": 6,
   "id": "47bc4e2e-93cb-47f1-b4ab-fedac26382b8",
   "metadata": {
    "editable": true,
    "execution": {
     "iopub.execute_input": "2024-06-01T00:28:34.773886Z",
     "iopub.status.busy": "2024-06-01T00:28:34.773238Z",
     "iopub.status.idle": "2024-06-01T00:28:34.787164Z",
     "shell.execute_reply": "2024-06-01T00:28:34.785115Z"
    },
    "papermill": {
     "duration": 0.036642,
     "end_time": "2024-06-01T00:28:34.789792",
     "exception": false,
     "start_time": "2024-06-01T00:28:34.753150",
     "status": "completed"
    },
    "slideshow": {
     "slide_type": ""
    },
    "tags": [
     "parameters"
    ]
   },
   "outputs": [],
   "source": [
    "# DO NOT EDIT if this notebook is not called 03_link_datasets.ipynb!\n",
    "# This notebook is designed to be run with papermill; this cell is tagged 'parameters'\n",
    "data_to_use = \"small_sample\"\n",
    "input_dir = \"output/02_generate_case_study_files\"\n",
    "output_dir = \"output/03_link_datasets\"\n",
    "\n",
    "# The \"compute engine\" is what we use on the Python side\n",
    "# for our case-study-specific operations,\n",
    "# as opposed to the Splink engine\n",
    "compute_engine = \"pandas\"\n",
    "# Only matter if using a distributed compute engine\n",
    "compute_engine_num_workers = 3\n",
    "compute_engine_cpus_per_worker = 2\n",
    "compute_engine_threads_per_worker = 1\n",
    "compute_engine_memory_per_worker = \"1GB\"\n",
    "# NOTE: This is, as Dask requests, a directory local to the compute node.\n",
    "# But IHME's cluster doesn't support this very well -- it can be small-ish,\n",
    "# full of stuff from other users, etc.\n",
    "compute_engine_local_directory = (\n",
    "    f\"/tmp/{os.environ['USER']}_{int(time.time())}_person_linkage_case_study\"\n",
    ")\n",
    "compute_engine_memory_constrained = True\n",
    "scheduler = \"slurm\"\n",
    "\n",
    "splink_engine = \"duckdb\"\n",
    "# Only matter if using Spark\n",
    "spark_local = False\n",
    "spark_num_workers = 15\n",
    "spark_memory_per_worker = \"4GB\"\n",
    "spark_memory_master = \"10GB\"\n",
    "# Only matter if using distributed (non-local) Spark\n",
    "spark_cpus_master = 2\n",
    "spark_cpus_per_worker = 2\n",
    "spark_worker_memory_overhead_mb = 500\n",
    "\n",
    "clear_intermediate = True\n",
    "\n",
    "queue = None\n",
    "account = None\n",
    "walltime = None\n",
    "\n",
    "log_directory = f\"{output_dir}/{data_to_use}/logs\"\n",
    "conda_path = None\n",
    "conda_env = None"
   ]
  },
  {
   "cell_type": "code",
   "execution_count": 7,
   "id": "bee7fe97",
   "metadata": {
    "execution": {
     "iopub.execute_input": "2024-06-01T00:28:34.831029Z",
     "iopub.status.busy": "2024-06-01T00:28:34.830406Z",
     "iopub.status.idle": "2024-06-01T00:28:34.839814Z",
     "shell.execute_reply": "2024-06-01T00:28:34.837752Z"
    },
    "papermill": {
     "duration": 0.031227,
     "end_time": "2024-06-01T00:28:34.842025",
     "exception": false,
     "start_time": "2024-06-01T00:28:34.810798",
     "status": "completed"
    },
    "tags": [
     "injected-parameters"
    ]
   },
   "outputs": [],
   "source": [
    "# Parameters\n",
    "data_to_use = \"small_sample\"\n",
    "input_dir = \"output/02_generate_case_study_files/\"\n",
    "output_dir = \"output/03_link_datasets/\"\n",
    "conda_path = \"/mnt/share/homes/zmbc/mambaforge/condabin/conda\"\n",
    "conda_env = \"person_linkage_case_study_3\"\n",
    "splink_engine = \"duckdb\"\n",
    "compute_engine = \"pandas\"\n"
   ]
  },
  {
   "cell_type": "code",
   "execution_count": 8,
   "id": "bd94c9a8",
   "metadata": {
    "execution": {
     "iopub.execute_input": "2024-06-01T00:28:34.881934Z",
     "iopub.status.busy": "2024-06-01T00:28:34.881302Z",
     "iopub.status.idle": "2024-06-01T00:28:34.889822Z",
     "shell.execute_reply": "2024-06-01T00:28:34.887778Z"
    },
    "papermill": {
     "duration": 0.029771,
     "end_time": "2024-06-01T00:28:34.891950",
     "exception": false,
     "start_time": "2024-06-01T00:28:34.862179",
     "status": "completed"
    },
    "tags": []
   },
   "outputs": [],
   "source": [
    "if compute_engine != \"pandas\":\n",
    "    utils.ensure_empty(compute_engine_local_directory)"
   ]
  },
  {
   "cell_type": "code",
   "execution_count": 9,
   "id": "5a0ba030-3ce6-489a-9659-296048287a75",
   "metadata": {
    "execution": {
     "iopub.execute_input": "2024-06-01T00:28:34.932302Z",
     "iopub.status.busy": "2024-06-01T00:28:34.931459Z",
     "iopub.status.idle": "2024-06-01T00:28:34.939493Z",
     "shell.execute_reply": "2024-06-01T00:28:34.937556Z"
    },
    "papermill": {
     "duration": 0.030006,
     "end_time": "2024-06-01T00:28:34.941626",
     "exception": false,
     "start_time": "2024-06-01T00:28:34.911620",
     "status": "completed"
    },
    "tags": []
   },
   "outputs": [],
   "source": [
    "output_dir = f\"{output_dir}/{data_to_use}\""
   ]
  },
  {
   "cell_type": "code",
   "execution_count": 10,
   "id": "da04a59b-ed5b-43b9-a7b0-7e763e20be11",
   "metadata": {
    "execution": {
     "iopub.execute_input": "2024-06-01T00:28:34.980191Z",
     "iopub.status.busy": "2024-06-01T00:28:34.979562Z",
     "iopub.status.idle": "2024-06-01T00:28:34.989536Z",
     "shell.execute_reply": "2024-06-01T00:28:34.987568Z"
    },
    "papermill": {
     "duration": 0.031686,
     "end_time": "2024-06-01T00:28:34.991646",
     "exception": false,
     "start_time": "2024-06-01T00:28:34.959960",
     "status": "completed"
    },
    "tags": []
   },
   "outputs": [],
   "source": [
    "df_ops, pd = distributed_compute.start_compute_engine(\n",
    "    compute_engine,\n",
    "    num_workers=compute_engine_num_workers,\n",
    "    cpus_per_worker=compute_engine_cpus_per_worker,\n",
    "    threads_per_worker=compute_engine_threads_per_worker,\n",
    "    memory_per_worker=compute_engine_memory_per_worker,\n",
    "    worker_walltime=walltime,\n",
    "    local_directory=compute_engine_local_directory,\n",
    "    log_directory=log_directory,\n",
    "    memory_constrained=compute_engine_memory_constrained,\n",
    "    scheduler=scheduler,\n",
    "    queue=queue,\n",
    "    account=account,\n",
    ")"
   ]
  },
  {
   "cell_type": "code",
   "execution_count": null,
   "id": "65ab2072-f46d-49eb-a4d1-a89a30f1de36",
   "metadata": {
    "papermill": {
     "duration": 0.017643,
     "end_time": "2024-06-01T00:28:35.029978",
     "exception": false,
     "start_time": "2024-06-01T00:28:35.012335",
     "status": "completed"
    },
    "tags": []
   },
   "outputs": [],
   "source": []
  },
  {
   "cell_type": "code",
   "execution_count": 11,
   "id": "3c6ca817-6be3-49ff-89fb-6fc6647f9500",
   "metadata": {
    "editable": true,
    "execution": {
     "iopub.execute_input": "2024-06-01T00:28:35.067547Z",
     "iopub.status.busy": "2024-06-01T00:28:35.066920Z",
     "iopub.status.idle": "2024-06-01T00:28:35.291248Z",
     "shell.execute_reply": "2024-06-01T00:28:35.289510Z"
    },
    "papermill": {
     "duration": 0.248413,
     "end_time": "2024-06-01T00:28:35.295434",
     "exception": false,
     "start_time": "2024-06-01T00:28:35.047021",
     "status": "completed"
    },
    "slideshow": {
     "slide_type": ""
    },
    "tags": []
   },
   "outputs": [],
   "source": [
    "if splink_engine == \"spark\":\n",
    "    # NOTE: This directory needs to be on a shared filesystem.\n",
    "    spark_checkpoints_dir = f\"{output_dir}/tmpCheckpoints\"\n",
    "    utils.ensure_empty(spark_checkpoints_dir)\n",
    "\n",
    "    spark, teardown_spark = distributed_compute.start_spark_cluster(\n",
    "        local=spark_local,\n",
    "        conda_path=conda_path,\n",
    "        conda_env=conda_env,\n",
    "        cpus_master=spark_cpus_master,\n",
    "        memory_master=spark_memory_master,\n",
    "        master_walltime=walltime,\n",
    "        num_workers=spark_num_workers,\n",
    "        cpus_per_worker=spark_cpus_per_worker,\n",
    "        memory_per_worker=spark_memory_per_worker,\n",
    "        worker_walltime=walltime,\n",
    "        worker_memory_overhead_mb=spark_worker_memory_overhead_mb,\n",
    "        partition=queue,\n",
    "        account=account,\n",
    "        checkpoint_directory=spark_checkpoints_dir,\n",
    "        log_directory=log_directory,\n",
    "        scheduler=scheduler,\n",
    "    )\n",
    "else:\n",
    "    assert splink_engine == \"duckdb\"\n",
    "\n",
    "    # Tell duckdb about Slurm resource limits, if present\n",
    "    import duckdb\n",
    "\n",
    "    if \"SLURM_MEMORY_ON_NODE\" in os.environ:\n",
    "        memory_mb = os.environ[\"SLURM_MEMORY_ON_NODE\"]\n",
    "        duckdb.sql(f\"SET memory_limit = '{max(memory_mb - 20_000, 5_000)}MB';\")\n",
    "\n",
    "    if \"SLURM_CPUS_PER_TASK\" in os.environ:\n",
    "        cpus = os.environ[\"SLURM_CPUS_PER_TASK\"]\n",
    "        duckdb.sql(f\"SET threads TO {cpus};\")"
   ]
  },
  {
   "cell_type": "markdown",
   "id": "86e8c9a9-d691-4110-baed-683004701894",
   "metadata": {
    "papermill": {
     "duration": 0.018109,
     "end_time": "2024-06-01T00:28:35.338338",
     "exception": false,
     "start_time": "2024-06-01T00:28:35.320229",
     "status": "completed"
    },
    "tags": []
   },
   "source": [
    "# Load data\n",
    "\n",
    "See code in `generate_simulated_data` directory for how we generated the files to link"
   ]
  },
  {
   "cell_type": "code",
   "execution_count": 12,
   "id": "cdf1086b-639c-4421-95ef-dc4108b7fd9a",
   "metadata": {
    "execution": {
     "iopub.execute_input": "2024-06-01T00:28:35.376604Z",
     "iopub.status.busy": "2024-06-01T00:28:35.375930Z",
     "iopub.status.idle": "2024-06-01T00:28:35.526680Z",
     "shell.execute_reply": "2024-06-01T00:28:35.525125Z"
    },
    "papermill": {
     "duration": 0.175537,
     "end_time": "2024-06-01T00:28:35.531147",
     "exception": false,
     "start_time": "2024-06-01T00:28:35.355610",
     "status": "completed"
    },
    "tags": []
   },
   "outputs": [],
   "source": [
    "census_2030 = df_ops.persist(\n",
    "    df_ops.read_parquet(f\"{input_dir}/{data_to_use}/simulated_census_2030.parquet\")\n",
    ")\n",
    "geobase_reference_file = df_ops.persist(\n",
    "    df_ops.read_parquet(\n",
    "        f\"{input_dir}/{data_to_use}/simulated_geobase_reference_file.parquet\"\n",
    "    )\n",
    ")\n",
    "name_dob_reference_file = df_ops.persist(\n",
    "    df_ops.read_parquet(\n",
    "        f\"{input_dir}/{data_to_use}/simulated_name_dob_reference_file.parquet\"\n",
    "    )\n",
    ")"
   ]
  },
  {
   "cell_type": "markdown",
   "id": "5bc6d16d-f4c9-4c1a-b969-baee5ac539ad",
   "metadata": {
    "papermill": {
     "duration": 0.060342,
     "end_time": "2024-06-01T00:28:35.617604",
     "exception": false,
     "start_time": "2024-06-01T00:28:35.557262",
     "status": "completed"
    },
    "tags": []
   },
   "source": [
    "# Pre-process input file\n",
    "\n",
    "Wagner and Layne, p. 9:\n",
    "\n",
    "> The first step of the PVS process is to edit data fields to make them homogenous for\n",
    "comparisons between incoming and reference files."
   ]
  },
  {
   "cell_type": "code",
   "execution_count": 13,
   "id": "ee0111f6-d8e0-4758-a242-70027d67b313",
   "metadata": {
    "execution": {
     "iopub.execute_input": "2024-06-01T00:28:35.656758Z",
     "iopub.status.busy": "2024-06-01T00:28:35.656023Z",
     "iopub.status.idle": "2024-06-01T00:28:35.666846Z",
     "shell.execute_reply": "2024-06-01T00:28:35.664739Z"
    },
    "papermill": {
     "duration": 0.033586,
     "end_time": "2024-06-01T00:28:35.669009",
     "exception": false,
     "start_time": "2024-06-01T00:28:35.635423",
     "status": "completed"
    },
    "tags": []
   },
   "outputs": [],
   "source": [
    "# Input file before any processing; the final result will be this with the PIK column added\n",
    "census_2030_raw_input = census_2030.copy()"
   ]
  },
  {
   "cell_type": "markdown",
   "id": "829cf59a-804c-4372-bcbf-740ec724b3ee",
   "metadata": {
    "papermill": {
     "duration": 0.017696,
     "end_time": "2024-06-01T00:28:35.707341",
     "exception": false,
     "start_time": "2024-06-01T00:28:35.689645",
     "status": "completed"
    },
    "tags": []
   },
   "source": [
    "## Name parsing and standardizing\n",
    "\n",
    "Wagner and Layne, p. 9:\n",
    "\n",
    "> The first edits are parsing and standardizing - parsing separates fields into\n",
    "component parts, while standardizing guarantees key data elements are consistent (e.g.,\n",
    "STREET, STR are both converted to ST). Name and address fields are parsed and\n",
    "standardized as they are key linkage comparators. \n",
    "\n",
    "As noted in the data generation notebook, there is no parsing to be done here:\n",
    "because the Census questionnnaire asks for first name, middle initial, and last name as\n",
    "separate fields on the form, the name would be already parsed when running PVS on the CUF.\n",
    "\n",
    "The real PVS name parser generates fields like prefix (e.g. Mr.) and suffix (e.g. Jr.)\n",
    "but we never have these in names from pseudopeople.\n",
    "\n",
    "More details about the name parser and standardizer (Wagner and Layne, p. 10):\n",
    "\n",
    "> The PVS system incorporates a name\n",
    "standardizer (McGaughey, 1994), which is a C language subroutine called as a function\n",
    "within SAS. It performs name parsing and includes a nickname lookup table and outputs\n",
    "name variants (standardized variations of first and last names). For example, Bill\n",
    "becomes William, Chuck and Charlie becomes Charles, etc. The PVS keeps both the\n",
    "original name (Bill) and the converted name (William) for matching. PVS also has a fake\n",
    "name table to blank names such as “Queen of the House” or “Baby Girl.” The name data\n",
    "are parsed, checked for nicknames, and standardized.\n",
    "\n",
    "The key thing that wasn't clear to me from this description was what it meant to\n",
    "\"keep both original name and the converted name for matching.\"\n",
    "I found this in Massey et al.:\n",
    "\n",
    "> The Name Search Module also accounts for instances where census records contain a nickname.\n",
    "> For these records, the preprocessing step of the Name Search module outputs two records for\n",
    "> these observations, one record for the nickname and one record for the formal name.\n",
    "> For example, if the input record has the name “Bill Smith,” the formatting program will add\n",
    "> a formal name “William” to that record. This record will then output to both the B-S cut and to the W-S cut.\n",
    "\n",
    "From this, I gather that nicknames work similar to alternate names in the reference file:\n",
    "entire duplicate records are made with each name (nickname and formal).\n",
    "However, I am still confused by calling this \"the preprocessing step **of the Name Search module**.\"\n",
    "In Wagner and Layne it does not seem like this is module-specific, and I don't see any\n",
    "reason that would be desirable, so I have done this multi-record approach across all modules."
   ]
  },
  {
   "cell_type": "code",
   "execution_count": 14,
   "id": "7b449705-cd3f-4a14-9520-b4dfb1fa481b",
   "metadata": {
    "execution": {
     "iopub.execute_input": "2024-06-01T00:28:35.746032Z",
     "iopub.status.busy": "2024-06-01T00:28:35.745347Z",
     "iopub.status.idle": "2024-06-01T00:28:35.759004Z",
     "shell.execute_reply": "2024-06-01T00:28:35.757131Z"
    },
    "papermill": {
     "duration": 0.036276,
     "end_time": "2024-06-01T00:28:35.760845",
     "exception": false,
     "start_time": "2024-06-01T00:28:35.724569",
     "status": "completed"
    },
    "tags": []
   },
   "outputs": [
    {
     "name": "stdout",
     "output_type": "stream",
     "text": [
      "4 nicknames in the Census\n"
     ]
    }
   ],
   "source": [
    "# Nickname processing\n",
    "# Have not yet found a nickname list in PVS docs,\n",
    "# so we do a minimal version for now -- could use\n",
    "# another list such as the one in pseudopeople\n",
    "# These examples all come directly from examples in the descriptions of PVS\n",
    "nickname_standardizations = {\n",
    "    \"Bill\": \"William\",\n",
    "    \"Chuck\": \"Charles\",\n",
    "    \"Charlie\": \"Charles\",\n",
    "    \"Cathy\": \"Catherine\",\n",
    "    \"Matt\": \"Matthew\",\n",
    "}\n",
    "has_nickname = df_ops.persist(\n",
    "    census_2030.first_name.isin(nickname_standardizations.keys())\n",
    ")\n",
    "print(f\"{df_ops.compute(has_nickname.sum()):,.0f} nicknames in the Census\")"
   ]
  },
  {
   "cell_type": "code",
   "execution_count": 15,
   "id": "8b119152-d5db-4d78-bab9-b15feae95f98",
   "metadata": {
    "execution": {
     "iopub.execute_input": "2024-06-01T00:28:35.801651Z",
     "iopub.status.busy": "2024-06-01T00:28:35.800195Z",
     "iopub.status.idle": "2024-06-01T00:28:35.816487Z",
     "shell.execute_reply": "2024-06-01T00:28:35.814892Z"
    },
    "papermill": {
     "duration": 0.038577,
     "end_time": "2024-06-01T00:28:35.818433",
     "exception": false,
     "start_time": "2024-06-01T00:28:35.779856",
     "status": "completed"
    },
    "tags": []
   },
   "outputs": [],
   "source": [
    "# Add extra rows for the normalized names\n",
    "census_2030 = df_ops.concat(\n",
    "    [\n",
    "        census_2030,\n",
    "        census_2030[has_nickname].assign(\n",
    "            first_name=lambda df: df.first_name.replace(nickname_standardizations)\n",
    "        ),\n",
    "    ],\n",
    "    ignore_index=True,\n",
    ")"
   ]
  },
  {
   "cell_type": "code",
   "execution_count": 16,
   "id": "bb25cd47-aab9-42ee-98a5-3bdc3d66c2af",
   "metadata": {
    "execution": {
     "iopub.execute_input": "2024-06-01T00:28:35.860033Z",
     "iopub.status.busy": "2024-06-01T00:28:35.859395Z",
     "iopub.status.idle": "2024-06-01T00:28:35.886195Z",
     "shell.execute_reply": "2024-06-01T00:28:35.884272Z"
    },
    "papermill": {
     "duration": 0.049074,
     "end_time": "2024-06-01T00:28:35.889314",
     "exception": false,
     "start_time": "2024-06-01T00:28:35.840240",
     "status": "completed"
    },
    "tags": []
   },
   "outputs": [],
   "source": [
    "# Note: The above will introduce duplicates on record_id, so we redefine\n",
    "# record_id to be unique (without getting rid of the original, input file record ID)\n",
    "census_2030 = df_ops.add_unique_record_id(\n",
    "    census_2030.rename(columns={\"record_id\": \"record_id_raw_input_file\"}),\n",
    "    \"census_2030_preprocessed\",\n",
    ")"
   ]
  },
  {
   "cell_type": "code",
   "execution_count": 17,
   "id": "a086540a-d9d0-4068-8ee8-539314aa91e6",
   "metadata": {
    "execution": {
     "iopub.execute_input": "2024-06-01T00:28:35.935701Z",
     "iopub.status.busy": "2024-06-01T00:28:35.935044Z",
     "iopub.status.idle": "2024-06-01T00:28:35.961931Z",
     "shell.execute_reply": "2024-06-01T00:28:35.960280Z"
    },
    "papermill": {
     "duration": 0.050737,
     "end_time": "2024-06-01T00:28:35.965254",
     "exception": false,
     "start_time": "2024-06-01T00:28:35.914517",
     "status": "completed"
    },
    "tags": []
   },
   "outputs": [
    {
     "data": {
      "text/html": [
       "<div>\n",
       "<style scoped>\n",
       "    .dataframe tbody tr th:only-of-type {\n",
       "        vertical-align: middle;\n",
       "    }\n",
       "\n",
       "    .dataframe tbody tr th {\n",
       "        vertical-align: top;\n",
       "    }\n",
       "\n",
       "    .dataframe thead th {\n",
       "        text-align: right;\n",
       "    }\n",
       "</style>\n",
       "<table border=\"1\" class=\"dataframe\">\n",
       "  <thead>\n",
       "    <tr style=\"text-align: right;\">\n",
       "      <th></th>\n",
       "      <th>fake_name</th>\n",
       "    </tr>\n",
       "  </thead>\n",
       "  <tbody>\n",
       "    <tr>\n",
       "      <th>0</th>\n",
       "      <td>(CONFIDENTIAL)</td>\n",
       "    </tr>\n",
       "    <tr>\n",
       "      <th>1</th>\n",
       "      <td>(NO MIDDLE NAME)</td>\n",
       "    </tr>\n",
       "    <tr>\n",
       "      <th>2</th>\n",
       "      <td>A RELUCTANT</td>\n",
       "    </tr>\n",
       "    <tr>\n",
       "      <th>3</th>\n",
       "      <td>ADULT</td>\n",
       "    </tr>\n",
       "    <tr>\n",
       "      <th>4</th>\n",
       "      <td>ADULT F</td>\n",
       "    </tr>\n",
       "    <tr>\n",
       "      <th>...</th>\n",
       "      <td>...</td>\n",
       "    </tr>\n",
       "    <tr>\n",
       "      <th>766</th>\n",
       "      <td>YOUNGEST DAUG</td>\n",
       "    </tr>\n",
       "    <tr>\n",
       "      <th>767</th>\n",
       "      <td>YOUNGEST GIRL</td>\n",
       "    </tr>\n",
       "    <tr>\n",
       "      <th>768</th>\n",
       "      <td>YR BOY</td>\n",
       "    </tr>\n",
       "    <tr>\n",
       "      <th>769</th>\n",
       "      <td>YR GIRL</td>\n",
       "    </tr>\n",
       "    <tr>\n",
       "      <th>770</th>\n",
       "      <td>YR OLD</td>\n",
       "    </tr>\n",
       "  </tbody>\n",
       "</table>\n",
       "<p>768 rows × 1 columns</p>\n",
       "</div>"
      ],
      "text/plain": [
       "            fake_name\n",
       "0      (CONFIDENTIAL)\n",
       "1    (NO MIDDLE NAME)\n",
       "2         A RELUCTANT\n",
       "3               ADULT\n",
       "4             ADULT F\n",
       "..                ...\n",
       "766     YOUNGEST DAUG\n",
       "767     YOUNGEST GIRL\n",
       "768            YR BOY\n",
       "769           YR GIRL\n",
       "770            YR OLD\n",
       "\n",
       "[768 rows x 1 columns]"
      ]
     },
     "execution_count": 17,
     "metadata": {},
     "output_type": "execute_result"
    }
   ],
   "source": [
    "# This list of fake names comes from the NORC report, p. 100-101\n",
    "# It is what was used in PVS as of 2011\n",
    "fake_names = pd.read_csv(\"data/fake-names.txt\", header=None).rename(\n",
    "    columns={0: \"fake_name\"}\n",
    ")\n",
    "fake_names = df_ops.persist(\n",
    "    fake_names.assign(fake_name=fake_names.fake_name.str.strip().str.upper())\n",
    "    .dropna(subset=\"fake_name\")\n",
    "    .pipe(df_ops.drop_duplicates)\n",
    "    .pipe(df_ops.ensure_large_string_capacity)\n",
    ")\n",
    "\n",
    "assert df_ops.compute((fake_names.fake_name == fake_names.fake_name.str.upper()).all())\n",
    "fake_names"
   ]
  },
  {
   "cell_type": "code",
   "execution_count": 18,
   "id": "f234ee61-5d2a-490e-97ad-eff72df732ad",
   "metadata": {
    "execution": {
     "iopub.execute_input": "2024-06-01T00:28:36.010384Z",
     "iopub.status.busy": "2024-06-01T00:28:36.009749Z",
     "iopub.status.idle": "2024-06-01T00:28:36.071593Z",
     "shell.execute_reply": "2024-06-01T00:28:36.069922Z"
    },
    "papermill": {
     "duration": 0.085698,
     "end_time": "2024-06-01T00:28:36.075300",
     "exception": false,
     "start_time": "2024-06-01T00:28:35.989602",
     "status": "completed"
    },
    "tags": []
   },
   "outputs": [
    {
     "name": "stdout",
     "output_type": "stream",
     "text": [
      "Found 61 fake names in first_name\n",
      "Found 57 fake names in last_name\n"
     ]
    }
   ],
   "source": [
    "for col in [\"first_name\", \"last_name\"]:\n",
    "    census_2030 = census_2030.assign(\n",
    "        **{f\"{col}_upper\": census_2030[col].str.upper()}\n",
    "    ).merge(fake_names, left_on=f\"{col}_upper\", right_on=\"fake_name\", how=\"left\")\n",
    "    has_fake_name = df_ops.persist(census_2030.fake_name.notnull())\n",
    "    print(f\"Found {df_ops.compute(has_fake_name.sum()):,.0f} fake names in {col}\")\n",
    "    census_2030 = df_ops.concat(\n",
    "        [\n",
    "            census_2030[~has_fake_name].drop(columns=[\"fake_name\", f\"{col}_upper\"]),\n",
    "            # NOTE: For reasons I don't really understand, assigning pandas.NA reverts it to a normal string instead of a large_string\n",
    "            census_2030[has_fake_name]\n",
    "            .assign(**{col: pandas.NA})\n",
    "            .drop(columns=[\"fake_name\", f\"{col}_upper\"])\n",
    "            .pipe(df_ops.ensure_large_string_capacity),\n",
    "        ],\n",
    "        ignore_index=True,\n",
    "    )"
   ]
  },
  {
   "cell_type": "markdown",
   "id": "26659727-027b-4daf-8921-1fdb4b5e4d54",
   "metadata": {
    "papermill": {
     "duration": 0.018578,
     "end_time": "2024-06-01T00:28:36.118256",
     "exception": false,
     "start_time": "2024-06-01T00:28:36.099678",
     "status": "completed"
    },
    "tags": []
   },
   "source": [
    "## Address parsing and standardizing\n",
    "\n",
    "Wagner and Layne, p. 11:\n",
    "\n",
    "> The PVS editing process also incorporates an address parser and standardizer,\n",
    "written in the C language and called as a function within SAS (U.S. Census Bureau\n",
    "Geography Division, 1995). It performs parsing of address strings into individual output\n",
    "fields (see Figure 2), and standardizes the spelling of key components of the address\n",
    "such as street type. The PVS also incorporates use of a commercial product to update\n",
    "zip codes, and correct misspellings of address elements.\n",
    "\n",
    "As noted in the data generation notebook, for now we haven't combined the address parts\n",
    "into a single string that would need to be parsed.\n",
    "We plan to add this in a future version of pseudopeople.\n",
    "\n",
    "For now, we do some simple standardization in each of the address parts (street number,\n",
    "street name, etc)."
   ]
  },
  {
   "cell_type": "code",
   "execution_count": 19,
   "id": "9435bc12-0002-44bc-91e3-26083d95c498",
   "metadata": {
    "execution": {
     "iopub.execute_input": "2024-06-01T00:28:36.160415Z",
     "iopub.status.busy": "2024-06-01T00:28:36.159433Z",
     "iopub.status.idle": "2024-06-01T00:28:36.271568Z",
     "shell.execute_reply": "2024-06-01T00:28:36.269583Z"
    },
    "papermill": {
     "duration": 0.139041,
     "end_time": "2024-06-01T00:28:36.275932",
     "exception": false,
     "start_time": "2024-06-01T00:28:36.136891",
     "status": "completed"
    },
    "tags": []
   },
   "outputs": [],
   "source": [
    "def standardize_address_part(column):\n",
    "    return (\n",
    "        column\n",
    "        # Remove leading or trailing whitespace\n",
    "        .str.strip()\n",
    "        # Turn any strings of consecutive whitespace into a single space\n",
    "        .str.replace(\"\\s+\", \" \", regex=True)\n",
    "        # Normalize case\n",
    "        .str.upper()\n",
    "        # Normalize the word street as described in the example quoted above\n",
    "        # In reality, there would be many rules like this\n",
    "        .str.replace(\"\\b(STREET|STR)\\b\", \"ST\", regex=True)\n",
    "        # Make sure missingness is represented consistently\n",
    "        .replace(\"\", pandas.NA)\n",
    "    )\n",
    "\n",
    "\n",
    "address_cols = [\n",
    "    \"street_number\",\n",
    "    \"street_name\",\n",
    "    \"unit_number\",\n",
    "    \"city\",\n",
    "    \"state\",\n",
    "    \"zipcode\",\n",
    "]\n",
    "for address_col in address_cols:\n",
    "    census_2030 = census_2030.assign(\n",
    "        **{address_col: census_2030[address_col].pipe(standardize_address_part)}\n",
    "    )\n",
    "\n",
    "census_2030 = df_ops.ensure_large_string_capacity(census_2030)"
   ]
  },
  {
   "cell_type": "markdown",
   "id": "95b55b52-c3ad-41da-9351-05ef56927dbf",
   "metadata": {
    "papermill": {
     "duration": 0.018911,
     "end_time": "2024-06-01T00:28:36.321520",
     "exception": false,
     "start_time": "2024-06-01T00:28:36.302609",
     "status": "completed"
    },
    "tags": []
   },
   "source": [
    "## MAFMatch\n",
    "\n",
    "**General information about MAFMatch**\n",
    "\n",
    "Wagner and Layne, p. 11:\n",
    "\n",
    "> The PVS provides an additional address enhancement by matching records in the\n",
    "incoming file to Census Bureau’s Master Address File (MAF) in order to assign a unique\n",
    "address identifier, the MAF Identifier (MAFID), and other Census geographical codes\n",
    "(e.g., Census tract and block). The MAFID is used in the PVS for search purposes and as a\n",
    "linkage key for administrative files. Then, addresses are matched to the Census Bureau’s\n",
    "Topologically Integrated Geographic Encoding and Referencing Database (TIGER) to\n",
    "obtain Census geographical codes.\n",
    "\n",
    "My understanding is that this step is useful for two reasons:\n",
    "- Potentially adds an alternate version/way of formatting the same address\n",
    "  (the way it is in the MAF, instead of the way it is in the input file).\n",
    "  However, instead of using this alternate to match directly, it is boiled down\n",
    "  to a MAFID, so it is only useful when an input file address and a reference file\n",
    "  address (different to one another) both match to the same MAF address.\n",
    "  (Presumably, the whole MAFMatch process described here needs to run on the reference files?)\n",
    "- Adds Census geographies which could be used in blocking (but are they?)\n",
    "\n",
    "I don't understand the TIGER part of this.\n",
    "In particular, p. 12 describes a probabilistic/fuzzy match to TIGER, but I thought TIGER\n",
    "would contain exactly the same addresses as the MAF.\n",
    "I also don't understand what geocodes would be present in TIGER that wouldn't also be\n",
    "present in the MAF.\n",
    "Maybe these things are more out-of-sync with each other than I understood.\n",
    "\n",
    "**MAFMatch in this case study**\n",
    "\n",
    "In the decennial Census, the sampling frame is a subset of the MAF (Brown et al., p. 15, footnote 4).\n",
    "That is, in the CUF, the address field (which is not supplied by the respondent)\n",
    "would be the MAF address the questionnaire/NRFU was sent to.\n",
    "\n",
    "Therefore, I don't believe it makes sense to do MAFMatch for the CUF, because all the addresses\n",
    "are already the same.\n",
    "I haven't fully confirmed this, but p. 14 of Wagner and Layne says\n",
    "\n",
    "> The 2010 Census Unedited File (CUF), had 350 million records and processed through every PVS\n",
    "module, excluding MAF match and SSN verification\n",
    "\n",
    "which suggests that (like SSN verification) MAFMatch is not applicable to the CUF.\n",
    "\n",
    "Given this, we skip MAFMatch here.\n",
    "Also, if we wanted to add it, we would need to generate something like a MAF from pseudopeople."
   ]
  },
  {
   "cell_type": "markdown",
   "id": "2e7ec2c6-a028-4f36-a041-63627fb60fd6",
   "metadata": {
    "papermill": {
     "duration": 0.018395,
     "end_time": "2024-06-01T00:28:36.358697",
     "exception": false,
     "start_time": "2024-06-01T00:28:36.340302",
     "status": "completed"
    },
    "tags": []
   },
   "source": [
    "## Drop records with insufficient information\n",
    "\n",
    "In 2011 (NORC, p. 25):\n",
    "\n",
    "> The initial edit process, described in the Introduction: PVS Background section, removes from consideration\n",
    "incoming records that have no name data. Therefore, no record that is processed in PVS has blank first and last\n",
    "names.\n",
    "\n",
    "In 2014 it appears to be the same/similar, because in Table 2 of Wagner and Layne there is a row \"NO SEARCH: Blank Name\" (p. 18).\n",
    "\n",
    "In 2023 (Brown et al., p. 28):\n",
    "\n",
    "> Records containing sufficient PII to be linkable with some confidence, for example those\n",
    "containing name and age, are sent through the linkage process.<sup>15</sup>\n",
    "\n",
    "> <sup>15</sup> Records with names on the PVS invalid name list (e.g., “Mickey Mouse,” “householder,” or “son”) are excluded\n",
    "from PVS search.\n",
    "\n",
    "I'd prefer to use the 2023 information, but it is too vague:\n",
    "\"for example\" means this is just an approximation, and it doesn't specify\n",
    "parts of \"name.\"\n",
    "The footnote also seems to contradict earlier reports, which said fake names were simply\n",
    "blanked out, which seems preferable.\n",
    "Since the fake name step comes before this one, a fake first **and** last name would lead\n",
    "to exclusion here, which is perhaps what the footnote was intending?\n",
    "\n",
    "Here, we follow the blank-name approach."
   ]
  },
  {
   "cell_type": "code",
   "execution_count": 20,
   "id": "277c1379-c46b-4a0f-8011-596efae84778",
   "metadata": {
    "execution": {
     "iopub.execute_input": "2024-06-01T00:28:36.398405Z",
     "iopub.status.busy": "2024-06-01T00:28:36.397723Z",
     "iopub.status.idle": "2024-06-01T00:28:36.414681Z",
     "shell.execute_reply": "2024-06-01T00:28:36.412712Z"
    },
    "papermill": {
     "duration": 0.040193,
     "end_time": "2024-06-01T00:28:36.417166",
     "exception": false,
     "start_time": "2024-06-01T00:28:36.376973",
     "status": "completed"
    },
    "tags": []
   },
   "outputs": [],
   "source": [
    "census_2030 = census_2030[\n",
    "    census_2030.first_name.notnull() | census_2030.last_name.notnull()\n",
    "]"
   ]
  },
  {
   "cell_type": "markdown",
   "id": "e51a91f7-e733-4a3d-bd56-7e23b0c8d138",
   "metadata": {
    "papermill": {
     "duration": 0.018604,
     "end_time": "2024-06-01T00:28:36.458261",
     "exception": false,
     "start_time": "2024-06-01T00:28:36.439657",
     "status": "completed"
    },
    "tags": []
   },
   "source": [
    "# Create derived variables for use in linkage\n",
    "\n",
    "Here we create variables to be used as matching variables and blocking keys,\n",
    "when those matching variables/blocking keys are defined in a way that is not already\n",
    "present in the data at this point.\n",
    "\n",
    "The variables needed here depend on the modules and passes described below -- see those\n",
    "sections for more citations."
   ]
  },
  {
   "cell_type": "code",
   "execution_count": 21,
   "id": "edb97b21-8ca1-4ad3-bae1-dbf7dc0bee00",
   "metadata": {
    "execution": {
     "iopub.execute_input": "2024-06-01T00:28:36.497442Z",
     "iopub.status.busy": "2024-06-01T00:28:36.496780Z",
     "iopub.status.idle": "2024-06-01T00:28:36.515767Z",
     "shell.execute_reply": "2024-06-01T00:28:36.514516Z"
    },
    "papermill": {
     "duration": 0.041561,
     "end_time": "2024-06-01T00:28:36.517954",
     "exception": false,
     "start_time": "2024-06-01T00:28:36.476393",
     "status": "completed"
    },
    "tags": []
   },
   "outputs": [],
   "source": [
    "# We want to compare mailing address with physical address\n",
    "geobase_reference_file = geobase_reference_file.rename(\n",
    "    columns=lambda c: c.replace(\"mailing_address_\", \"\")\n",
    ")"
   ]
  },
  {
   "cell_type": "code",
   "execution_count": 22,
   "id": "c61c2257-a840-498a-9aa5-0788f9763634",
   "metadata": {
    "execution": {
     "iopub.execute_input": "2024-06-01T00:28:36.561957Z",
     "iopub.status.busy": "2024-06-01T00:28:36.561312Z",
     "iopub.status.idle": "2024-06-01T00:28:36.652499Z",
     "shell.execute_reply": "2024-06-01T00:28:36.650836Z"
    },
    "papermill": {
     "duration": 0.116309,
     "end_time": "2024-06-01T00:28:36.656686",
     "exception": false,
     "start_time": "2024-06-01T00:28:36.540377",
     "status": "completed"
    },
    "tags": []
   },
   "outputs": [],
   "source": [
    "# PVS uses DOB as separate fields for day, month, and year\n",
    "def split_dob(df, date_format=\"%Y%m%d\"):\n",
    "    # Have to be floats because we want to treat as numeric for assessing similarity\n",
    "    # Note that as of now, none of our pseudopeople noise types would change the punctuation (\"/\") in the date, but\n",
    "    # they can insert non-numeric characters here or otherwise create invalid dates, in which case we fail to parse the date\n",
    "    # and treat it as missing.\n",
    "    dob = pd.to_datetime(df.date_of_birth, format=date_format, errors=\"coerce\")\n",
    "    df = df.assign(\n",
    "        month_of_birth=dob.dt.month,\n",
    "        year_of_birth=dob.dt.year,\n",
    "        day_of_birth=dob.dt.day,\n",
    "    )\n",
    "    df = df.assign(\n",
    "        month_of_birth=df.month_of_birth.fillna(pandas.NA),\n",
    "        year_of_birth=df.year_of_birth.fillna(pandas.NA),\n",
    "        day_of_birth=df.day_of_birth.fillna(pandas.NA),\n",
    "    )\n",
    "    return df.drop(columns=[\"date_of_birth\"])\n",
    "\n",
    "\n",
    "census_2030 = split_dob(census_2030, date_format=\"%m/%d/%Y\")\n",
    "geobase_reference_file = split_dob(geobase_reference_file)\n",
    "name_dob_reference_file = split_dob(name_dob_reference_file)"
   ]
  },
  {
   "cell_type": "code",
   "execution_count": 23,
   "id": "55126ed5-94e3-4713-badd-9861f5c6ab68",
   "metadata": {
    "execution": {
     "iopub.execute_input": "2024-06-01T00:28:36.703263Z",
     "iopub.status.busy": "2024-06-01T00:28:36.702594Z",
     "iopub.status.idle": "2024-06-01T00:28:36.844848Z",
     "shell.execute_reply": "2024-06-01T00:28:36.843153Z"
    },
    "papermill": {
     "duration": 0.167457,
     "end_time": "2024-06-01T00:28:36.849056",
     "exception": false,
     "start_time": "2024-06-01T00:28:36.681599",
     "status": "completed"
    },
    "tags": []
   },
   "outputs": [],
   "source": [
    "# I don't fully understand the purpose of blocking on the geokey,\n",
    "# as opposed to just blocking on its constituent columns.\n",
    "# Maybe it is a way of dealing with missingness in those constituent\n",
    "# columns (e.g. so an address with no unit number can still be blocked on geokey)?\n",
    "def add_geokey(df):\n",
    "    return df.assign(\n",
    "        geokey=distributed_compute.add_strings(\n",
    "            compute_engine,\n",
    "            [\n",
    "                df.street_number,\n",
    "                \" \",\n",
    "                df.street_name,\n",
    "                \" \",\n",
    "                df.unit_number,\n",
    "                \" \",\n",
    "                df.city,\n",
    "                \" \",\n",
    "                df.state,\n",
    "                \" \",\n",
    "                df.zipcode,\n",
    "            ],\n",
    "            # Normalize the whitespace\n",
    "        )\n",
    "        .str.replace(\"\\s+\", \" \", regex=True)\n",
    "        .str.strip()\n",
    "        .replace(\"\", pandas.NA)\n",
    "    ).pipe(df_ops.ensure_large_string_capacity)\n",
    "\n",
    "\n",
    "geobase_reference_file = add_geokey(geobase_reference_file)\n",
    "census_2030 = df_ops.persist(add_geokey(census_2030))"
   ]
  },
  {
   "cell_type": "code",
   "execution_count": 24,
   "id": "6d51e08a-8e28-4c0f-9a62-d6207a560f46",
   "metadata": {
    "execution": {
     "iopub.execute_input": "2024-06-01T00:28:36.896716Z",
     "iopub.status.busy": "2024-06-01T00:28:36.896039Z",
     "iopub.status.idle": "2024-06-01T00:28:36.931658Z",
     "shell.execute_reply": "2024-06-01T00:28:36.930015Z"
    },
    "papermill": {
     "duration": 0.060285,
     "end_time": "2024-06-01T00:28:36.935630",
     "exception": false,
     "start_time": "2024-06-01T00:28:36.875345",
     "status": "completed"
    },
    "tags": []
   },
   "outputs": [
    {
     "name": "stdout",
     "output_type": "stream",
     "text": [
      "39 probable GQ geokeys\n"
     ]
    }
   ],
   "source": [
    "# HACK: Remove address information from GQ, so it isn't used for blocking\n",
    "# nor for HHCompSearch.\n",
    "# Currently we have massive GQ \"households.\"\n",
    "# NOTE: This will miss people who are actually in GQ who have had their address noised,\n",
    "# but that doesn't create huge \"households\" anyway so it's not a big deal\n",
    "# NOTE: We can't just throw out any household where anyone has a GQ housing_type\n",
    "# since the housing_type column itself can be noised. We set a threshold (data size dependent)\n",
    "# of how many people in a household need to have a GQ housing_type.\n",
    "unlikely_due_to_noise_threshold = {\n",
    "    \"usa\": 250,\n",
    "    \"ri\": 250,\n",
    "    \"small_sample\": 2,\n",
    "}[data_to_use]\n",
    "probable_gq_geokeys = df_ops.persist(\n",
    "    census_2030[census_2030.housing_type.notnull()]\n",
    "    .assign(reported_gq=lambda df: df.housing_type != \"Household\")\n",
    "    .pipe(\n",
    "        df_ops.groupby_agg_small_groups,\n",
    "        by=\"geokey\",\n",
    "        agg_func=lambda x: x.reported_gq.agg([\"sum\", \"mean\"]),\n",
    "    )\n",
    "    .pipe(\n",
    "        lambda df: df[\n",
    "            (df[\"sum\"] >= unlikely_due_to_noise_threshold) & (df[\"mean\"] >= 0.70)\n",
    "        ]\n",
    "    )\n",
    "    .reset_index()\n",
    "    .assign(is_gq_geokey=True)\n",
    ")\n",
    "\n",
    "if data_to_use in (\"usa\", \"ri\"):\n",
    "    num_shards = 334\n",
    "    num_gq_types = 6\n",
    "    if data_to_use == \"usa\":\n",
    "        # Should be exact\n",
    "        assert num_shards * num_gq_types == len(probable_gq_geokeys)\n",
    "    else:\n",
    "        # Should be close to 1/334 (1 million population)\n",
    "        print(f\"{len(probable_gq_geokeys):,.0f} probable GQ geokeys\")\n",
    "        assert (\n",
    "            (num_shards * num_gq_types * 0.5) / 334\n",
    "            <= len(probable_gq_geokeys)\n",
    "            <= (num_shards * num_gq_types * 2) / 334\n",
    "        )\n",
    "else:\n",
    "    print(f\"{len(probable_gq_geokeys):,.0f} probable GQ geokeys\")"
   ]
  },
  {
   "cell_type": "code",
   "execution_count": 25,
   "id": "a3f92cd7-9a57-4ea1-a97a-c091ea335a00",
   "metadata": {
    "execution": {
     "iopub.execute_input": "2024-06-01T00:28:36.983855Z",
     "iopub.status.busy": "2024-06-01T00:28:36.983188Z",
     "iopub.status.idle": "2024-06-01T00:28:37.031900Z",
     "shell.execute_reply": "2024-06-01T00:28:37.030286Z"
    },
    "papermill": {
     "duration": 0.07669,
     "end_time": "2024-06-01T00:28:37.036204",
     "exception": false,
     "start_time": "2024-06-01T00:28:36.959514",
     "status": "completed"
    },
    "tags": []
   },
   "outputs": [
    {
     "name": "stderr",
     "output_type": "stream",
     "text": [
      "/tmp/ipykernel_1593665/3754350177.py:3: FutureWarning: Downcasting object dtype arrays on .fillna, .ffill, .bfill is deprecated and will change in a future version. Call result.infer_objects(copy=False) instead. To opt-in to the future behavior, set `pd.set_option('future.no_silent_downcasting', True)`\n",
      "  ).assign(is_gq_geokey=lambda df: df.is_gq_geokey.fillna(False))\n"
     ]
    }
   ],
   "source": [
    "census_2030 = census_2030.merge(\n",
    "    probable_gq_geokeys[[\"geokey\", \"is_gq_geokey\"]], on=\"geokey\", how=\"left\"\n",
    ").assign(is_gq_geokey=lambda df: df.is_gq_geokey.fillna(False))\n",
    "\n",
    "census_2030 = df_ops.ensure_large_string_capacity(\n",
    "    df_ops.concat(\n",
    "        [\n",
    "            census_2030[~census_2030.is_gq_geokey]\n",
    "            .assign(\n",
    "                geokey_for_blocking=lambda df: df.geokey,\n",
    "                street_number_for_blocking=lambda df: df.street_number,\n",
    "                street_name_for_blocking=lambda df: df.street_name,\n",
    "            )\n",
    "            .drop(columns=[\"is_gq_geokey\"]),\n",
    "            census_2030[census_2030.is_gq_geokey]\n",
    "            .assign(\n",
    "                geokey_for_blocking=pandas.NA,\n",
    "                street_number_for_blocking=pandas.NA,\n",
    "                street_name_for_blocking=pandas.NA,\n",
    "            )\n",
    "            .drop(columns=[\"is_gq_geokey\"]),\n",
    "        ],\n",
    "        ignore_index=True,\n",
    "    )\n",
    ")"
   ]
  },
  {
   "cell_type": "code",
   "execution_count": 26,
   "id": "d10958fd-adad-4bb2-b4c2-641f6ad242e5",
   "metadata": {
    "execution": {
     "iopub.execute_input": "2024-06-01T00:28:37.082500Z",
     "iopub.status.busy": "2024-06-01T00:28:37.081836Z",
     "iopub.status.idle": "2024-06-01T00:28:37.168891Z",
     "shell.execute_reply": "2024-06-01T00:28:37.167232Z"
    },
    "papermill": {
     "duration": 0.111659,
     "end_time": "2024-06-01T00:28:37.172503",
     "exception": false,
     "start_time": "2024-06-01T00:28:37.060844",
     "status": "completed"
    },
    "tags": []
   },
   "outputs": [
    {
     "name": "stderr",
     "output_type": "stream",
     "text": [
      "/tmp/ipykernel_1593665/1001381602.py:3: FutureWarning: Downcasting object dtype arrays on .fillna, .ffill, .bfill is deprecated and will change in a future version. Call result.infer_objects(copy=False) instead. To opt-in to the future behavior, set `pd.set_option('future.no_silent_downcasting', True)`\n",
      "  ).assign(is_gq_geokey=lambda df: df.is_gq_geokey.fillna(False))\n"
     ]
    }
   ],
   "source": [
    "geobase_reference_file = geobase_reference_file.merge(\n",
    "    probable_gq_geokeys[[\"geokey\", \"is_gq_geokey\"]], on=\"geokey\", how=\"left\"\n",
    ").assign(is_gq_geokey=lambda df: df.is_gq_geokey.fillna(False))\n",
    "\n",
    "geobase_reference_file = df_ops.ensure_large_string_capacity(\n",
    "    df_ops.concat(\n",
    "        [\n",
    "            geobase_reference_file[~geobase_reference_file.is_gq_geokey]\n",
    "            .assign(\n",
    "                geokey_for_blocking=lambda df: df.geokey,\n",
    "                street_number_for_blocking=lambda df: df.street_number,\n",
    "                street_name_for_blocking=lambda df: df.street_name,\n",
    "            )\n",
    "            .drop(columns=[\"is_gq_geokey\"]),\n",
    "            geobase_reference_file[geobase_reference_file.is_gq_geokey]\n",
    "            .assign(\n",
    "                geokey_for_blocking=pandas.NA,\n",
    "                street_number_for_blocking=pandas.NA,\n",
    "                street_name_for_blocking=pandas.NA,\n",
    "            )\n",
    "            .drop(columns=[\"is_gq_geokey\"]),\n",
    "        ],\n",
    "        ignore_index=True,\n",
    "    )\n",
    ")"
   ]
  },
  {
   "cell_type": "code",
   "execution_count": 27,
   "id": "2a686489-f265-4647-ad1d-7b6b93f8578e",
   "metadata": {
    "execution": {
     "iopub.execute_input": "2024-06-01T00:28:37.219742Z",
     "iopub.status.busy": "2024-06-01T00:28:37.219071Z",
     "iopub.status.idle": "2024-06-01T00:28:37.228849Z",
     "shell.execute_reply": "2024-06-01T00:28:37.226781Z"
    },
    "papermill": {
     "duration": 0.03294,
     "end_time": "2024-06-01T00:28:37.230889",
     "exception": false,
     "start_time": "2024-06-01T00:28:37.197949",
     "status": "completed"
    },
    "tags": []
   },
   "outputs": [],
   "source": [
    "%xdel probable_gq_geokeys"
   ]
  },
  {
   "cell_type": "code",
   "execution_count": 28,
   "id": "6894cbdd-fef2-417d-a69f-3e15433c1c72",
   "metadata": {
    "execution": {
     "iopub.execute_input": "2024-06-01T00:28:37.272823Z",
     "iopub.status.busy": "2024-06-01T00:28:37.272169Z",
     "iopub.status.idle": "2024-06-01T00:28:37.515355Z",
     "shell.execute_reply": "2024-06-01T00:28:37.513697Z"
    },
    "papermill": {
     "duration": 0.268048,
     "end_time": "2024-06-01T00:28:37.519382",
     "exception": false,
     "start_time": "2024-06-01T00:28:37.251334",
     "status": "completed"
    },
    "tags": []
   },
   "outputs": [],
   "source": [
    "# Layne, Wagner, and Rothhaas p. 26: the name matching variables are\n",
    "# First 15 characters First Name, First 15 characters Middle Name, First 12 characters Last Name\n",
    "# Additionally, there are blocking columns for all of 1-3 initial characters of First/Last.\n",
    "# We don't have a full middle name in pseudopeople (nor would that be present in a real CUF)\n",
    "# so we have to stick to the first initial for middle.\n",
    "def add_truncated_name_cols(df):\n",
    "    df = df.assign(\n",
    "        first_name_15=df.first_name.str[:15], last_name_12=df.last_name.str[:12]\n",
    "    )\n",
    "\n",
    "    if \"middle_name\" in df.columns and \"middle_initial\" not in df.columns:\n",
    "        df = df.assign(middle_initial=df.middle_name.str[:1])\n",
    "\n",
    "    for num_chars in [1, 2, 3]:\n",
    "        df = df.assign(\n",
    "            **{\n",
    "                f\"first_name_{num_chars}\": df.first_name.str[:num_chars],\n",
    "                f\"last_name_{num_chars}\": df.last_name.str[:num_chars],\n",
    "            }\n",
    "        )\n",
    "\n",
    "    return df\n",
    "\n",
    "\n",
    "census_2030 = add_truncated_name_cols(census_2030)\n",
    "geobase_reference_file = add_truncated_name_cols(geobase_reference_file)\n",
    "name_dob_reference_file = add_truncated_name_cols(name_dob_reference_file)"
   ]
  },
  {
   "cell_type": "code",
   "execution_count": 29,
   "id": "c29dcc81-9056-459b-80f6-fd32125913bc",
   "metadata": {
    "execution": {
     "iopub.execute_input": "2024-06-01T00:28:37.566917Z",
     "iopub.status.busy": "2024-06-01T00:28:37.566233Z",
     "iopub.status.idle": "2024-06-01T00:28:37.915568Z",
     "shell.execute_reply": "2024-06-01T00:28:37.913620Z"
    },
    "papermill": {
     "duration": 0.374075,
     "end_time": "2024-06-01T00:28:37.919652",
     "exception": false,
     "start_time": "2024-06-01T00:28:37.545577",
     "status": "completed"
    },
    "tags": []
   },
   "outputs": [],
   "source": [
    "# Layne, Wagner, and Rothhaas p. 26: phonetics are used in blocking (not matching)\n",
    "# - Soundex for Street Name\n",
    "# - NYSIIS code for First Name\n",
    "# - NYSIIS code for Last Name\n",
    "# - Reverse Soundex for First Name\n",
    "# - Reverse Soundex for Last Name\n",
    "\n",
    "\n",
    "def nysiis(input_string):\n",
    "    if pandas.isna(input_string):\n",
    "        return pandas.NA\n",
    "    result = jellyfish.nysiis(input_string)\n",
    "    if pandas.isna(result):\n",
    "        return pandas.NA\n",
    "\n",
    "    return result\n",
    "\n",
    "\n",
    "def soundex(input_string):\n",
    "    if pandas.isna(input_string):\n",
    "        return pandas.NA\n",
    "    result = jellyfish.soundex(input_string)\n",
    "    if pandas.isna(result):\n",
    "        return pandas.NA\n",
    "\n",
    "    return result\n",
    "\n",
    "\n",
    "def reverse_soundex(input_string):\n",
    "    if pandas.isna(input_string):\n",
    "        return pandas.NA\n",
    "\n",
    "    return soundex(input_string[::-1])\n",
    "\n",
    "\n",
    "def add_name_phonetics(df):\n",
    "    for col in [\"first_name\", \"last_name\"]:\n",
    "        kwargs = {}\n",
    "        if compute_engine.startswith(\"dask\"):\n",
    "            kwargs[\"meta\"] = (col, \"object\")\n",
    "        df = df.assign(**{f\"{col}_nysiis\": df[col].apply(nysiis, **kwargs)})\n",
    "        df = df.assign(\n",
    "            **{f\"{col}_reverse_soundex\": df[col].apply(reverse_soundex, **kwargs)}\n",
    "        )\n",
    "\n",
    "    return df_ops.ensure_large_string_capacity(df)\n",
    "\n",
    "\n",
    "def add_address_phonetics(df):\n",
    "    kwargs = {}\n",
    "    if compute_engine.startswith(\"dask\"):\n",
    "        kwargs[\"meta\"] = (col, \"object\")\n",
    "    df = df.assign(\n",
    "        street_name_for_blocking_soundex=df.street_name_for_blocking.apply(\n",
    "            soundex, **kwargs\n",
    "        )\n",
    "    )\n",
    "    return df_ops.ensure_large_string_capacity(df)\n",
    "\n",
    "\n",
    "census_2030 = add_name_phonetics(census_2030)\n",
    "census_2030 = add_address_phonetics(census_2030)\n",
    "\n",
    "geobase_reference_file = add_address_phonetics(geobase_reference_file)\n",
    "\n",
    "name_dob_reference_file = add_name_phonetics(name_dob_reference_file)"
   ]
  },
  {
   "cell_type": "code",
   "execution_count": 30,
   "id": "f1fe537d-10f4-4bf4-97e9-ee64fe5fcb8c",
   "metadata": {
    "execution": {
     "iopub.execute_input": "2024-06-01T00:28:37.968139Z",
     "iopub.status.busy": "2024-06-01T00:28:37.967459Z",
     "iopub.status.idle": "2024-06-01T00:28:37.978911Z",
     "shell.execute_reply": "2024-06-01T00:28:37.976936Z"
    },
    "papermill": {
     "duration": 0.034549,
     "end_time": "2024-06-01T00:28:37.981160",
     "exception": false,
     "start_time": "2024-06-01T00:28:37.946611",
     "status": "completed"
    },
    "tags": []
   },
   "outputs": [],
   "source": [
    "# Columns used to \"cut the database\": ZIP3 and a grouping of first and last initial\n",
    "def add_zip3(df):\n",
    "    return df.assign(zip3=lambda x: x.zipcode.str[:3])\n",
    "\n",
    "\n",
    "def add_first_last_initial_categories(df):\n",
    "    # Page 20 of the NORC report: \"Name-cuts are defined by combinations of the first characters of the first and last names. The twenty letter groupings\n",
    "    # for the first character are: A-or-blank, B, C, D, E, F, G, H, I, J, K, L, M, N, O, P, Q, R, S, T, and U-Z.\"\n",
    "    initial_cut = (\n",
    "        lambda x: x.fillna(\"A\")\n",
    "        .str[0]\n",
    "        .replace(\"A\", \"A-or-blank\")\n",
    "        .replace([\"U\", \"V\", \"W\", \"X\", \"Y\", \"Z\"], \"U-Z\")\n",
    "    )\n",
    "    return df.assign(\n",
    "        first_initial_cut=initial_cut(df.first_name),\n",
    "        last_initial_cut=initial_cut(df.last_name),\n",
    "    )"
   ]
  },
  {
   "cell_type": "code",
   "execution_count": 31,
   "id": "d5e00367-d022-4ab2-942b-87a2b1abdfc8",
   "metadata": {
    "execution": {
     "iopub.execute_input": "2024-06-01T00:28:38.021998Z",
     "iopub.status.busy": "2024-06-01T00:28:38.021351Z",
     "iopub.status.idle": "2024-06-01T00:28:38.143698Z",
     "shell.execute_reply": "2024-06-01T00:28:38.141924Z"
    },
    "papermill": {
     "duration": 0.146509,
     "end_time": "2024-06-01T00:28:38.147875",
     "exception": false,
     "start_time": "2024-06-01T00:28:38.001366",
     "status": "completed"
    },
    "tags": []
   },
   "outputs": [],
   "source": [
    "census_2030 = add_zip3(census_2030)\n",
    "census_2030 = add_first_last_initial_categories(census_2030)\n",
    "\n",
    "geobase_reference_file = add_zip3(geobase_reference_file)\n",
    "\n",
    "name_dob_reference_file = add_first_last_initial_categories(name_dob_reference_file)"
   ]
  },
  {
   "cell_type": "code",
   "execution_count": null,
   "id": "0596bc8d-8f36-41bd-a6e2-a3f55c9ba66b",
   "metadata": {
    "papermill": {
     "duration": 0.018619,
     "end_time": "2024-06-01T00:28:38.191203",
     "exception": false,
     "start_time": "2024-06-01T00:28:38.172584",
     "status": "completed"
    },
    "tags": []
   },
   "outputs": [],
   "source": []
  },
  {
   "cell_type": "code",
   "execution_count": 32,
   "id": "e30f2911-72ad-4749-b4aa-18918335e0d0",
   "metadata": {
    "execution": {
     "iopub.execute_input": "2024-06-01T00:28:38.231000Z",
     "iopub.status.busy": "2024-06-01T00:28:38.230250Z",
     "iopub.status.idle": "2024-06-01T00:28:38.239451Z",
     "shell.execute_reply": "2024-06-01T00:28:38.237566Z"
    },
    "papermill": {
     "duration": 0.031976,
     "end_time": "2024-06-01T00:28:38.241776",
     "exception": false,
     "start_time": "2024-06-01T00:28:38.209800",
     "status": "completed"
    },
    "tags": []
   },
   "outputs": [],
   "source": [
    "census_2030, geobase_reference_file, name_dob_reference_file = df_ops.persist(\n",
    "    census_2030, geobase_reference_file, name_dob_reference_file\n",
    ")"
   ]
  },
  {
   "cell_type": "markdown",
   "id": "5e413173-dde2-4bdb-a2cf-f0c5ef38e9a5",
   "metadata": {
    "papermill": {
     "duration": 0.021772,
     "end_time": "2024-06-01T00:28:38.285621",
     "exception": false,
     "start_time": "2024-06-01T00:28:38.263849",
     "status": "completed"
    },
    "tags": []
   },
   "source": [
    "# Data, ready to link"
   ]
  },
  {
   "cell_type": "code",
   "execution_count": 33,
   "id": "b6014eaa-3548-4d23-b7b9-f8e9f0f477f8",
   "metadata": {
    "execution": {
     "iopub.execute_input": "2024-06-01T00:28:38.336025Z",
     "iopub.status.busy": "2024-06-01T00:28:38.334528Z",
     "iopub.status.idle": "2024-06-01T00:28:38.344390Z",
     "shell.execute_reply": "2024-06-01T00:28:38.342492Z"
    },
    "papermill": {
     "duration": 0.038985,
     "end_time": "2024-06-01T00:28:38.346391",
     "exception": false,
     "start_time": "2024-06-01T00:28:38.307406",
     "status": "completed"
    },
    "tags": []
   },
   "outputs": [
    {
     "name": "stdout",
     "output_type": "stream",
     "text": [
      "11,043\n"
     ]
    }
   ],
   "source": [
    "print(f\"{len(census_2030):,.0f}\")"
   ]
  },
  {
   "cell_type": "code",
   "execution_count": 34,
   "id": "4306cf4f-d636-4d0c-9b07-7b73627982d3",
   "metadata": {
    "execution": {
     "iopub.execute_input": "2024-06-01T00:28:38.390732Z",
     "iopub.status.busy": "2024-06-01T00:28:38.390040Z",
     "iopub.status.idle": "2024-06-01T00:28:38.417033Z",
     "shell.execute_reply": "2024-06-01T00:28:38.415398Z"
    },
    "papermill": {
     "duration": 0.052647,
     "end_time": "2024-06-01T00:28:38.419955",
     "exception": false,
     "start_time": "2024-06-01T00:28:38.367308",
     "status": "completed"
    },
    "tags": []
   },
   "outputs": [
    {
     "data": {
      "text/html": [
       "<div>\n",
       "<style scoped>\n",
       "    .dataframe tbody tr th:only-of-type {\n",
       "        vertical-align: middle;\n",
       "    }\n",
       "\n",
       "    .dataframe tbody tr th {\n",
       "        vertical-align: top;\n",
       "    }\n",
       "\n",
       "    .dataframe thead th {\n",
       "        text-align: right;\n",
       "    }\n",
       "</style>\n",
       "<table border=\"1\" class=\"dataframe\">\n",
       "  <thead>\n",
       "    <tr style=\"text-align: right;\">\n",
       "      <th></th>\n",
       "      <th>record_id</th>\n",
       "      <th>record_id_raw_input_file</th>\n",
       "      <th>household_id</th>\n",
       "      <th>first_name</th>\n",
       "      <th>middle_initial</th>\n",
       "      <th>last_name</th>\n",
       "      <th>age</th>\n",
       "      <th>street_number</th>\n",
       "      <th>street_name</th>\n",
       "      <th>unit_number</th>\n",
       "      <th>...</th>\n",
       "      <th>first_name_3</th>\n",
       "      <th>last_name_3</th>\n",
       "      <th>first_name_nysiis</th>\n",
       "      <th>first_name_reverse_soundex</th>\n",
       "      <th>last_name_nysiis</th>\n",
       "      <th>last_name_reverse_soundex</th>\n",
       "      <th>street_name_for_blocking_soundex</th>\n",
       "      <th>zip3</th>\n",
       "      <th>first_initial_cut</th>\n",
       "      <th>last_initial_cut</th>\n",
       "    </tr>\n",
       "  </thead>\n",
       "  <tbody>\n",
       "    <tr>\n",
       "      <th>0</th>\n",
       "      <td>census_2030_preprocessed_0</td>\n",
       "      <td>simulated_census_2030_0</td>\n",
       "      <td>0_8033</td>\n",
       "      <td>Gerald</td>\n",
       "      <td>R</td>\n",
       "      <td>Butler</td>\n",
       "      <td>86</td>\n",
       "      <td>1130</td>\n",
       "      <td>MALLORY LN</td>\n",
       "      <td>None</td>\n",
       "      <td>...</td>\n",
       "      <td>Ger</td>\n",
       "      <td>But</td>\n",
       "      <td>GARALD</td>\n",
       "      <td>D462</td>\n",
       "      <td>BATLAR</td>\n",
       "      <td>R431</td>\n",
       "      <td>M464</td>\n",
       "      <td>000</td>\n",
       "      <td>G</td>\n",
       "      <td>B</td>\n",
       "    </tr>\n",
       "    <tr>\n",
       "      <th>1</th>\n",
       "      <td>census_2030_preprocessed_1</td>\n",
       "      <td>simulated_census_2030_1</td>\n",
       "      <td>0_1066</td>\n",
       "      <td>April</td>\n",
       "      <td>S</td>\n",
       "      <td>Morino</td>\n",
       "      <td>33</td>\n",
       "      <td>32597</td>\n",
       "      <td>DELACORTE DR</td>\n",
       "      <td>None</td>\n",
       "      <td>...</td>\n",
       "      <td>Apr</td>\n",
       "      <td>Mor</td>\n",
       "      <td>APRAL</td>\n",
       "      <td>L610</td>\n",
       "      <td>MARAN</td>\n",
       "      <td>O565</td>\n",
       "      <td>D426</td>\n",
       "      <td>000</td>\n",
       "      <td>A-or-blank</td>\n",
       "      <td>M</td>\n",
       "    </tr>\n",
       "    <tr>\n",
       "      <th>2</th>\n",
       "      <td>census_2030_preprocessed_2</td>\n",
       "      <td>simulated_census_2030_2</td>\n",
       "      <td>0_1066</td>\n",
       "      <td>Loretta</td>\n",
       "      <td>T</td>\n",
       "      <td>Carley</td>\n",
       "      <td>71</td>\n",
       "      <td>32597</td>\n",
       "      <td>DELACORTE DR</td>\n",
       "      <td>None</td>\n",
       "      <td>...</td>\n",
       "      <td>Lor</td>\n",
       "      <td>Car</td>\n",
       "      <td>LARAT</td>\n",
       "      <td>A364</td>\n",
       "      <td>CARLY</td>\n",
       "      <td>Y462</td>\n",
       "      <td>D426</td>\n",
       "      <td>000</td>\n",
       "      <td>L</td>\n",
       "      <td>C</td>\n",
       "    </tr>\n",
       "    <tr>\n",
       "      <th>3</th>\n",
       "      <td>census_2030_preprocessed_3</td>\n",
       "      <td>simulated_census_2030_3</td>\n",
       "      <td>0_2514</td>\n",
       "      <td>Sandra</td>\n",
       "      <td>Q</td>\n",
       "      <td>Runnalls</td>\n",
       "      <td>75</td>\n",
       "      <td>4458</td>\n",
       "      <td>WINDSOG PL</td>\n",
       "      <td>None</td>\n",
       "      <td>...</td>\n",
       "      <td>San</td>\n",
       "      <td>Run</td>\n",
       "      <td>SANDR</td>\n",
       "      <td>A635</td>\n",
       "      <td>RANAL</td>\n",
       "      <td>S456</td>\n",
       "      <td>W532</td>\n",
       "      <td>000</td>\n",
       "      <td>S</td>\n",
       "      <td>R</td>\n",
       "    </tr>\n",
       "    <tr>\n",
       "      <th>4</th>\n",
       "      <td>census_2030_preprocessed_4</td>\n",
       "      <td>simulated_census_2030_4</td>\n",
       "      <td>0_5627</td>\n",
       "      <td>Bobby</td>\n",
       "      <td>S</td>\n",
       "      <td>Rhimpson</td>\n",
       "      <td>48</td>\n",
       "      <td>None</td>\n",
       "      <td>WINDING TRAIL RD</td>\n",
       "      <td>None</td>\n",
       "      <td>...</td>\n",
       "      <td>Bob</td>\n",
       "      <td>Rhi</td>\n",
       "      <td>BABY</td>\n",
       "      <td>Y110</td>\n",
       "      <td>RANPSAN</td>\n",
       "      <td>N215</td>\n",
       "      <td>W535</td>\n",
       "      <td>000</td>\n",
       "      <td>B</td>\n",
       "      <td>R</td>\n",
       "    </tr>\n",
       "    <tr>\n",
       "      <th>...</th>\n",
       "      <td>...</td>\n",
       "      <td>...</td>\n",
       "      <td>...</td>\n",
       "      <td>...</td>\n",
       "      <td>...</td>\n",
       "      <td>...</td>\n",
       "      <td>...</td>\n",
       "      <td>...</td>\n",
       "      <td>...</td>\n",
       "      <td>...</td>\n",
       "      <td>...</td>\n",
       "      <td>...</td>\n",
       "      <td>...</td>\n",
       "      <td>...</td>\n",
       "      <td>...</td>\n",
       "      <td>...</td>\n",
       "      <td>...</td>\n",
       "      <td>...</td>\n",
       "      <td>...</td>\n",
       "      <td>...</td>\n",
       "      <td>...</td>\n",
       "    </tr>\n",
       "    <tr>\n",
       "      <th>95</th>\n",
       "      <td>census_2030_preprocessed_96</td>\n",
       "      <td>simulated_census_2030_96</td>\n",
       "      <td>0_57</td>\n",
       "      <td>Holly</td>\n",
       "      <td>S</td>\n",
       "      <td>Crane</td>\n",
       "      <td>60</td>\n",
       "      <td>107</td>\n",
       "      <td>ROBINHOOD CR</td>\n",
       "      <td>None</td>\n",
       "      <td>...</td>\n",
       "      <td>Hol</td>\n",
       "      <td>Cra</td>\n",
       "      <td>HALY</td>\n",
       "      <td>Y400</td>\n",
       "      <td>CRAN</td>\n",
       "      <td>E562</td>\n",
       "      <td>R153</td>\n",
       "      <td>000</td>\n",
       "      <td>H</td>\n",
       "      <td>C</td>\n",
       "    </tr>\n",
       "    <tr>\n",
       "      <th>96</th>\n",
       "      <td>census_2030_preprocessed_97</td>\n",
       "      <td>simulated_census_2030_97</td>\n",
       "      <td>0_2237</td>\n",
       "      <td>Dylan</td>\n",
       "      <td>A</td>\n",
       "      <td>Dewyer</td>\n",
       "      <td>13</td>\n",
       "      <td>2055</td>\n",
       "      <td>BRIDLEWOOD DR</td>\n",
       "      <td>None</td>\n",
       "      <td>...</td>\n",
       "      <td>Dyl</td>\n",
       "      <td>Dew</td>\n",
       "      <td>DYLAN</td>\n",
       "      <td>N430</td>\n",
       "      <td>DAEYAR</td>\n",
       "      <td>R300</td>\n",
       "      <td>B634</td>\n",
       "      <td>000</td>\n",
       "      <td>D</td>\n",
       "      <td>D</td>\n",
       "    </tr>\n",
       "    <tr>\n",
       "      <th>97</th>\n",
       "      <td>census_2030_preprocessed_98</td>\n",
       "      <td>simulated_census_2030_98</td>\n",
       "      <td>0_4558</td>\n",
       "      <td>Ronald</td>\n",
       "      <td>N</td>\n",
       "      <td>Donohue</td>\n",
       "      <td>60</td>\n",
       "      <td>9808</td>\n",
       "      <td>111 AVENUE</td>\n",
       "      <td>None</td>\n",
       "      <td>...</td>\n",
       "      <td>Ron</td>\n",
       "      <td>Don</td>\n",
       "      <td>RANALD</td>\n",
       "      <td>D456</td>\n",
       "      <td>DANAH</td>\n",
       "      <td>E530</td>\n",
       "      <td>1150</td>\n",
       "      <td>000</td>\n",
       "      <td>R</td>\n",
       "      <td>D</td>\n",
       "    </tr>\n",
       "    <tr>\n",
       "      <th>98</th>\n",
       "      <td>census_2030_preprocessed_99</td>\n",
       "      <td>simulated_census_2030_99</td>\n",
       "      <td>0_2237</td>\n",
       "      <td>Priscilla</td>\n",
       "      <td>P</td>\n",
       "      <td>Harrington</td>\n",
       "      <td>62</td>\n",
       "      <td>2055</td>\n",
       "      <td>BRIDLEWOOD DR</td>\n",
       "      <td>None</td>\n",
       "      <td>...</td>\n",
       "      <td>Pri</td>\n",
       "      <td>Har</td>\n",
       "      <td>PRASCAL</td>\n",
       "      <td>A426</td>\n",
       "      <td>HARANGTAN</td>\n",
       "      <td>N325</td>\n",
       "      <td>B634</td>\n",
       "      <td>000</td>\n",
       "      <td>P</td>\n",
       "      <td>H</td>\n",
       "    </tr>\n",
       "    <tr>\n",
       "      <th>99</th>\n",
       "      <td>census_2030_preprocessed_100</td>\n",
       "      <td>simulated_census_2030_100</td>\n",
       "      <td>0_5226</td>\n",
       "      <td>Emilio</td>\n",
       "      <td>P</td>\n",
       "      <td>Krall</td>\n",
       "      <td>24</td>\n",
       "      <td>657 1 2</td>\n",
       "      <td>LAUREL DR</td>\n",
       "      <td>None</td>\n",
       "      <td>...</td>\n",
       "      <td>Emi</td>\n",
       "      <td>Kra</td>\n",
       "      <td>ENAL</td>\n",
       "      <td>O450</td>\n",
       "      <td>CRAL</td>\n",
       "      <td>L620</td>\n",
       "      <td>L643</td>\n",
       "      <td>000</td>\n",
       "      <td>E</td>\n",
       "      <td>K</td>\n",
       "    </tr>\n",
       "  </tbody>\n",
       "</table>\n",
       "<p>100 rows × 41 columns</p>\n",
       "</div>"
      ],
      "text/plain": [
       "                       record_id   record_id_raw_input_file household_id  \\\n",
       "0     census_2030_preprocessed_0    simulated_census_2030_0       0_8033   \n",
       "1     census_2030_preprocessed_1    simulated_census_2030_1       0_1066   \n",
       "2     census_2030_preprocessed_2    simulated_census_2030_2       0_1066   \n",
       "3     census_2030_preprocessed_3    simulated_census_2030_3       0_2514   \n",
       "4     census_2030_preprocessed_4    simulated_census_2030_4       0_5627   \n",
       "..                           ...                        ...          ...   \n",
       "95   census_2030_preprocessed_96   simulated_census_2030_96         0_57   \n",
       "96   census_2030_preprocessed_97   simulated_census_2030_97       0_2237   \n",
       "97   census_2030_preprocessed_98   simulated_census_2030_98       0_4558   \n",
       "98   census_2030_preprocessed_99   simulated_census_2030_99       0_2237   \n",
       "99  census_2030_preprocessed_100  simulated_census_2030_100       0_5226   \n",
       "\n",
       "   first_name middle_initial   last_name age street_number       street_name  \\\n",
       "0      Gerald              R      Butler  86          1130        MALLORY LN   \n",
       "1       April              S      Morino  33         32597      DELACORTE DR   \n",
       "2     Loretta              T      Carley  71         32597      DELACORTE DR   \n",
       "3      Sandra              Q    Runnalls  75          4458        WINDSOG PL   \n",
       "4       Bobby              S    Rhimpson  48          None  WINDING TRAIL RD   \n",
       "..        ...            ...         ...  ..           ...               ...   \n",
       "95      Holly              S       Crane  60           107      ROBINHOOD CR   \n",
       "96      Dylan              A      Dewyer  13          2055     BRIDLEWOOD DR   \n",
       "97     Ronald              N     Donohue  60          9808        111 AVENUE   \n",
       "98  Priscilla              P  Harrington  62          2055     BRIDLEWOOD DR   \n",
       "99     Emilio              P       Krall  24       657 1 2         LAUREL DR   \n",
       "\n",
       "   unit_number  ... first_name_3 last_name_3 first_name_nysiis  \\\n",
       "0         None  ...          Ger         But            GARALD   \n",
       "1         None  ...          Apr         Mor             APRAL   \n",
       "2         None  ...          Lor         Car             LARAT   \n",
       "3         None  ...          San         Run             SANDR   \n",
       "4         None  ...          Bob         Rhi              BABY   \n",
       "..         ...  ...          ...         ...               ...   \n",
       "95        None  ...          Hol         Cra              HALY   \n",
       "96        None  ...          Dyl         Dew             DYLAN   \n",
       "97        None  ...          Ron         Don            RANALD   \n",
       "98        None  ...          Pri         Har           PRASCAL   \n",
       "99        None  ...          Emi         Kra              ENAL   \n",
       "\n",
       "   first_name_reverse_soundex last_name_nysiis last_name_reverse_soundex  \\\n",
       "0                        D462           BATLAR                      R431   \n",
       "1                        L610            MARAN                      O565   \n",
       "2                        A364            CARLY                      Y462   \n",
       "3                        A635            RANAL                      S456   \n",
       "4                        Y110          RANPSAN                      N215   \n",
       "..                        ...              ...                       ...   \n",
       "95                       Y400             CRAN                      E562   \n",
       "96                       N430           DAEYAR                      R300   \n",
       "97                       D456            DANAH                      E530   \n",
       "98                       A426        HARANGTAN                      N325   \n",
       "99                       O450             CRAL                      L620   \n",
       "\n",
       "   street_name_for_blocking_soundex  zip3  first_initial_cut  last_initial_cut  \n",
       "0                              M464   000                  G                 B  \n",
       "1                              D426   000         A-or-blank                 M  \n",
       "2                              D426   000                  L                 C  \n",
       "3                              W532   000                  S                 R  \n",
       "4                              W535   000                  B                 R  \n",
       "..                              ...   ...                ...               ...  \n",
       "95                             R153   000                  H                 C  \n",
       "96                             B634   000                  D                 D  \n",
       "97                             1150   000                  R                 D  \n",
       "98                             B634   000                  P                 H  \n",
       "99                             L643   000                  E                 K  \n",
       "\n",
       "[100 rows x 41 columns]"
      ]
     },
     "execution_count": 34,
     "metadata": {},
     "output_type": "execute_result"
    }
   ],
   "source": [
    "df_ops.head(census_2030, n=100)"
   ]
  },
  {
   "cell_type": "code",
   "execution_count": 35,
   "id": "bc33f5b6-36b4-48d5-9ea5-e0ae11d14dab",
   "metadata": {
    "execution": {
     "iopub.execute_input": "2024-06-01T00:28:38.464822Z",
     "iopub.status.busy": "2024-06-01T00:28:38.464138Z",
     "iopub.status.idle": "2024-06-01T00:28:40.923376Z",
     "shell.execute_reply": "2024-06-01T00:28:40.921155Z"
    },
    "papermill": {
     "duration": 2.484422,
     "end_time": "2024-06-01T00:28:40.927544",
     "exception": false,
     "start_time": "2024-06-01T00:28:38.443122",
     "status": "completed"
    },
    "tags": []
   },
   "outputs": [],
   "source": [
    "intermediate_data_dir = f\"{output_dir}/intermediate_data\"\n",
    "if clear_intermediate:\n",
    "    utils.ensure_empty(intermediate_data_dir)"
   ]
  },
  {
   "cell_type": "code",
   "execution_count": 36,
   "id": "632c5d5f-34b6-49ec-83be-737ed625d47e",
   "metadata": {
    "execution": {
     "iopub.execute_input": "2024-06-01T00:28:40.975540Z",
     "iopub.status.busy": "2024-06-01T00:28:40.974888Z",
     "iopub.status.idle": "2024-06-01T00:28:40.983007Z",
     "shell.execute_reply": "2024-06-01T00:28:40.980823Z"
    },
    "papermill": {
     "duration": 0.031464,
     "end_time": "2024-06-01T00:28:40.985415",
     "exception": false,
     "start_time": "2024-06-01T00:28:40.953951",
     "status": "completed"
    },
    "tags": []
   },
   "outputs": [],
   "source": [
    "# Can save a checkpoint here for resuming without re-running the prep\n",
    "# df_ops.to_parquet(census_2030, f'{intermediate_data_dir}/census_2030_prepped.parquet')"
   ]
  },
  {
   "cell_type": "code",
   "execution_count": 37,
   "id": "b4fc55f9-32dd-40e9-ba3b-0f67556ddbc3",
   "metadata": {
    "execution": {
     "iopub.execute_input": "2024-06-01T00:28:41.027597Z",
     "iopub.status.busy": "2024-06-01T00:28:41.026945Z",
     "iopub.status.idle": "2024-06-01T00:28:41.036126Z",
     "shell.execute_reply": "2024-06-01T00:28:41.034314Z"
    },
    "papermill": {
     "duration": 0.031801,
     "end_time": "2024-06-01T00:28:41.038191",
     "exception": false,
     "start_time": "2024-06-01T00:28:41.006390",
     "status": "completed"
    },
    "tags": []
   },
   "outputs": [
    {
     "name": "stdout",
     "output_type": "stream",
     "text": [
      "32,951\n"
     ]
    }
   ],
   "source": [
    "print(f\"{len(geobase_reference_file):,.0f}\")"
   ]
  },
  {
   "cell_type": "code",
   "execution_count": 38,
   "id": "2361fef9-e338-4c81-934d-075dafdbd432",
   "metadata": {
    "execution": {
     "iopub.execute_input": "2024-06-01T00:28:41.082403Z",
     "iopub.status.busy": "2024-06-01T00:28:41.081777Z",
     "iopub.status.idle": "2024-06-01T00:28:41.113134Z",
     "shell.execute_reply": "2024-06-01T00:28:41.111516Z"
    },
    "papermill": {
     "duration": 0.055772,
     "end_time": "2024-06-01T00:28:41.115616",
     "exception": false,
     "start_time": "2024-06-01T00:28:41.059844",
     "status": "completed"
    },
    "tags": []
   },
   "outputs": [
    {
     "data": {
      "text/html": [
       "<div>\n",
       "<style scoped>\n",
       "    .dataframe tbody tr th:only-of-type {\n",
       "        vertical-align: middle;\n",
       "    }\n",
       "\n",
       "    .dataframe tbody tr th {\n",
       "        vertical-align: top;\n",
       "    }\n",
       "\n",
       "    .dataframe thead th {\n",
       "        text-align: right;\n",
       "    }\n",
       "</style>\n",
       "<table border=\"1\" class=\"dataframe\">\n",
       "  <thead>\n",
       "    <tr style=\"text-align: right;\">\n",
       "      <th></th>\n",
       "      <th>record_id</th>\n",
       "      <th>ssn</th>\n",
       "      <th>first_name</th>\n",
       "      <th>middle_name</th>\n",
       "      <th>last_name</th>\n",
       "      <th>street_number</th>\n",
       "      <th>street_name</th>\n",
       "      <th>unit_number</th>\n",
       "      <th>po_box</th>\n",
       "      <th>city</th>\n",
       "      <th>...</th>\n",
       "      <th>last_name_12</th>\n",
       "      <th>middle_initial</th>\n",
       "      <th>first_name_1</th>\n",
       "      <th>last_name_1</th>\n",
       "      <th>first_name_2</th>\n",
       "      <th>last_name_2</th>\n",
       "      <th>first_name_3</th>\n",
       "      <th>last_name_3</th>\n",
       "      <th>street_name_for_blocking_soundex</th>\n",
       "      <th>zip3</th>\n",
       "    </tr>\n",
       "  </thead>\n",
       "  <tbody>\n",
       "    <tr>\n",
       "      <th>0</th>\n",
       "      <td>simulated_geobase_reference_file_0</td>\n",
       "      <td>685-77-0916</td>\n",
       "      <td>Betty</td>\n",
       "      <td>Audrey</td>\n",
       "      <td>Fairbrother</td>\n",
       "      <td>47461</td>\n",
       "      <td>W ROXBURY DR</td>\n",
       "      <td>None</td>\n",
       "      <td>None</td>\n",
       "      <td>ANYTOWN</td>\n",
       "      <td>...</td>\n",
       "      <td>Fairbrother</td>\n",
       "      <td>A</td>\n",
       "      <td>B</td>\n",
       "      <td>F</td>\n",
       "      <td>Be</td>\n",
       "      <td>Fa</td>\n",
       "      <td>Bet</td>\n",
       "      <td>Fai</td>\n",
       "      <td>W621</td>\n",
       "      <td>000</td>\n",
       "    </tr>\n",
       "    <tr>\n",
       "      <th>1</th>\n",
       "      <td>simulated_geobase_reference_file_1</td>\n",
       "      <td>047-34-5906</td>\n",
       "      <td>Elaine</td>\n",
       "      <td></td>\n",
       "      <td>Laurel Sherman</td>\n",
       "      <td>None</td>\n",
       "      <td>None</td>\n",
       "      <td>None</td>\n",
       "      <td>None</td>\n",
       "      <td>None</td>\n",
       "      <td>...</td>\n",
       "      <td>Laurel Sherm</td>\n",
       "      <td></td>\n",
       "      <td>E</td>\n",
       "      <td>L</td>\n",
       "      <td>El</td>\n",
       "      <td>La</td>\n",
       "      <td>Ela</td>\n",
       "      <td>Lau</td>\n",
       "      <td>&lt;NA&gt;</td>\n",
       "      <td>None</td>\n",
       "    </tr>\n",
       "    <tr>\n",
       "      <th>2</th>\n",
       "      <td>simulated_geobase_reference_file_2</td>\n",
       "      <td>136-85-7371</td>\n",
       "      <td>Betty</td>\n",
       "      <td>Avis</td>\n",
       "      <td>Atterberry</td>\n",
       "      <td>None</td>\n",
       "      <td>None</td>\n",
       "      <td>None</td>\n",
       "      <td>None</td>\n",
       "      <td>None</td>\n",
       "      <td>...</td>\n",
       "      <td>Atterberry</td>\n",
       "      <td>A</td>\n",
       "      <td>B</td>\n",
       "      <td>A</td>\n",
       "      <td>Be</td>\n",
       "      <td>At</td>\n",
       "      <td>Bet</td>\n",
       "      <td>Att</td>\n",
       "      <td>&lt;NA&gt;</td>\n",
       "      <td>None</td>\n",
       "    </tr>\n",
       "    <tr>\n",
       "      <th>3</th>\n",
       "      <td>simulated_geobase_reference_file_3</td>\n",
       "      <td>017-47-7973</td>\n",
       "      <td>George</td>\n",
       "      <td>Robert</td>\n",
       "      <td>Rwareon</td>\n",
       "      <td>6812</td>\n",
       "      <td>WASHINGTON ST</td>\n",
       "      <td>None</td>\n",
       "      <td>None</td>\n",
       "      <td>ANYTOWN</td>\n",
       "      <td>...</td>\n",
       "      <td>Rwareon</td>\n",
       "      <td>R</td>\n",
       "      <td>G</td>\n",
       "      <td>R</td>\n",
       "      <td>Ge</td>\n",
       "      <td>Rw</td>\n",
       "      <td>Geo</td>\n",
       "      <td>Rwa</td>\n",
       "      <td>W252</td>\n",
       "      <td>000</td>\n",
       "    </tr>\n",
       "    <tr>\n",
       "      <th>4</th>\n",
       "      <td>simulated_geobase_reference_file_4</td>\n",
       "      <td>726-57-2168</td>\n",
       "      <td>Josephine</td>\n",
       "      <td>Margaret</td>\n",
       "      <td>Mulhall</td>\n",
       "      <td>3743</td>\n",
       "      <td>MESA VERDE ST</td>\n",
       "      <td>None</td>\n",
       "      <td>None</td>\n",
       "      <td>ANYTOWN</td>\n",
       "      <td>...</td>\n",
       "      <td>Mulhall</td>\n",
       "      <td>M</td>\n",
       "      <td>J</td>\n",
       "      <td>M</td>\n",
       "      <td>Jo</td>\n",
       "      <td>Mu</td>\n",
       "      <td>Jos</td>\n",
       "      <td>Mul</td>\n",
       "      <td>M216</td>\n",
       "      <td>000</td>\n",
       "    </tr>\n",
       "    <tr>\n",
       "      <th>...</th>\n",
       "      <td>...</td>\n",
       "      <td>...</td>\n",
       "      <td>...</td>\n",
       "      <td>...</td>\n",
       "      <td>...</td>\n",
       "      <td>...</td>\n",
       "      <td>...</td>\n",
       "      <td>...</td>\n",
       "      <td>...</td>\n",
       "      <td>...</td>\n",
       "      <td>...</td>\n",
       "      <td>...</td>\n",
       "      <td>...</td>\n",
       "      <td>...</td>\n",
       "      <td>...</td>\n",
       "      <td>...</td>\n",
       "      <td>...</td>\n",
       "      <td>...</td>\n",
       "      <td>...</td>\n",
       "      <td>...</td>\n",
       "      <td>...</td>\n",
       "    </tr>\n",
       "    <tr>\n",
       "      <th>95</th>\n",
       "      <td>simulated_geobase_reference_file_112</td>\n",
       "      <td>643-53-3405</td>\n",
       "      <td>Boyd</td>\n",
       "      <td>Jimmie</td>\n",
       "      <td>Plouff</td>\n",
       "      <td>1805</td>\n",
       "      <td>HIGHVIEW DV</td>\n",
       "      <td>None</td>\n",
       "      <td>None</td>\n",
       "      <td>ANYTOWN</td>\n",
       "      <td>...</td>\n",
       "      <td>Plouff</td>\n",
       "      <td>J</td>\n",
       "      <td>B</td>\n",
       "      <td>P</td>\n",
       "      <td>Bo</td>\n",
       "      <td>Pl</td>\n",
       "      <td>Boy</td>\n",
       "      <td>Plo</td>\n",
       "      <td>H213</td>\n",
       "      <td>000</td>\n",
       "    </tr>\n",
       "    <tr>\n",
       "      <th>96</th>\n",
       "      <td>simulated_geobase_reference_file_113</td>\n",
       "      <td>466-87-1045</td>\n",
       "      <td>Dorys</td>\n",
       "      <td>Willa</td>\n",
       "      <td>Stuver</td>\n",
       "      <td>2333</td>\n",
       "      <td>ESTMINSTER PLACE</td>\n",
       "      <td>None</td>\n",
       "      <td>None</td>\n",
       "      <td>ANYTOWN</td>\n",
       "      <td>...</td>\n",
       "      <td>Stuver</td>\n",
       "      <td>W</td>\n",
       "      <td>D</td>\n",
       "      <td>S</td>\n",
       "      <td>Do</td>\n",
       "      <td>St</td>\n",
       "      <td>Dor</td>\n",
       "      <td>Stu</td>\n",
       "      <td>E235</td>\n",
       "      <td>000</td>\n",
       "    </tr>\n",
       "    <tr>\n",
       "      <th>97</th>\n",
       "      <td>simulated_geobase_reference_file_114</td>\n",
       "      <td>466-87-1045</td>\n",
       "      <td>Dorys</td>\n",
       "      <td>Willa</td>\n",
       "      <td>Stuver</td>\n",
       "      <td>2633</td>\n",
       "      <td>WESTMINSTER PLACE</td>\n",
       "      <td>None</td>\n",
       "      <td>None</td>\n",
       "      <td>ANYTOWN</td>\n",
       "      <td>...</td>\n",
       "      <td>Stuver</td>\n",
       "      <td>W</td>\n",
       "      <td>D</td>\n",
       "      <td>S</td>\n",
       "      <td>Do</td>\n",
       "      <td>St</td>\n",
       "      <td>Dor</td>\n",
       "      <td>Stu</td>\n",
       "      <td>W235</td>\n",
       "      <td>000</td>\n",
       "    </tr>\n",
       "    <tr>\n",
       "      <th>98</th>\n",
       "      <td>simulated_geobase_reference_file_117</td>\n",
       "      <td>190-34-3548</td>\n",
       "      <td>Norman</td>\n",
       "      <td>Russell</td>\n",
       "      <td>Davia</td>\n",
       "      <td>138</td>\n",
       "      <td>PRK ST</td>\n",
       "      <td>None</td>\n",
       "      <td>None</td>\n",
       "      <td>ANYTOWN</td>\n",
       "      <td>...</td>\n",
       "      <td>Davia</td>\n",
       "      <td>R</td>\n",
       "      <td>N</td>\n",
       "      <td>D</td>\n",
       "      <td>No</td>\n",
       "      <td>Da</td>\n",
       "      <td>Nor</td>\n",
       "      <td>Dav</td>\n",
       "      <td>P622</td>\n",
       "      <td>000</td>\n",
       "    </tr>\n",
       "    <tr>\n",
       "      <th>99</th>\n",
       "      <td>simulated_geobase_reference_file_118</td>\n",
       "      <td>466-24-2333</td>\n",
       "      <td>Faye</td>\n",
       "      <td>Jean</td>\n",
       "      <td>None</td>\n",
       "      <td>4773</td>\n",
       "      <td>WOODBROOK CIR N</td>\n",
       "      <td>FLOOR NO 10</td>\n",
       "      <td>None</td>\n",
       "      <td>ANYTOWN</td>\n",
       "      <td>...</td>\n",
       "      <td>None</td>\n",
       "      <td>J</td>\n",
       "      <td>F</td>\n",
       "      <td>None</td>\n",
       "      <td>Fa</td>\n",
       "      <td>None</td>\n",
       "      <td>Fay</td>\n",
       "      <td>None</td>\n",
       "      <td>W316</td>\n",
       "      <td>000</td>\n",
       "    </tr>\n",
       "  </tbody>\n",
       "</table>\n",
       "<p>100 rows × 31 columns</p>\n",
       "</div>"
      ],
      "text/plain": [
       "                               record_id          ssn first_name middle_name  \\\n",
       "0     simulated_geobase_reference_file_0  685-77-0916      Betty      Audrey   \n",
       "1     simulated_geobase_reference_file_1  047-34-5906     Elaine               \n",
       "2     simulated_geobase_reference_file_2  136-85-7371      Betty        Avis   \n",
       "3     simulated_geobase_reference_file_3  017-47-7973     George      Robert   \n",
       "4     simulated_geobase_reference_file_4  726-57-2168  Josephine    Margaret   \n",
       "..                                   ...          ...        ...         ...   \n",
       "95  simulated_geobase_reference_file_112  643-53-3405       Boyd      Jimmie   \n",
       "96  simulated_geobase_reference_file_113  466-87-1045      Dorys       Willa   \n",
       "97  simulated_geobase_reference_file_114  466-87-1045      Dorys       Willa   \n",
       "98  simulated_geobase_reference_file_117  190-34-3548     Norman     Russell   \n",
       "99  simulated_geobase_reference_file_118  466-24-2333       Faye        Jean   \n",
       "\n",
       "         last_name street_number        street_name  unit_number po_box  \\\n",
       "0      Fairbrother         47461       W ROXBURY DR         None   None   \n",
       "1   Laurel Sherman          None               None         None   None   \n",
       "2       Atterberry          None               None         None   None   \n",
       "3          Rwareon          6812      WASHINGTON ST         None   None   \n",
       "4          Mulhall          3743      MESA VERDE ST         None   None   \n",
       "..             ...           ...                ...          ...    ...   \n",
       "95          Plouff          1805        HIGHVIEW DV         None   None   \n",
       "96          Stuver          2333   ESTMINSTER PLACE         None   None   \n",
       "97          Stuver          2633  WESTMINSTER PLACE         None   None   \n",
       "98           Davia           138             PRK ST         None   None   \n",
       "99            None          4773    WOODBROOK CIR N  FLOOR NO 10   None   \n",
       "\n",
       "       city  ...  last_name_12 middle_initial first_name_1  last_name_1  \\\n",
       "0   ANYTOWN  ...   Fairbrother              A            B            F   \n",
       "1      None  ...  Laurel Sherm                           E            L   \n",
       "2      None  ...    Atterberry              A            B            A   \n",
       "3   ANYTOWN  ...       Rwareon              R            G            R   \n",
       "4   ANYTOWN  ...       Mulhall              M            J            M   \n",
       "..      ...  ...           ...            ...          ...          ...   \n",
       "95  ANYTOWN  ...        Plouff              J            B            P   \n",
       "96  ANYTOWN  ...        Stuver              W            D            S   \n",
       "97  ANYTOWN  ...        Stuver              W            D            S   \n",
       "98  ANYTOWN  ...         Davia              R            N            D   \n",
       "99  ANYTOWN  ...          None              J            F         None   \n",
       "\n",
       "    first_name_2  last_name_2 first_name_3 last_name_3  \\\n",
       "0             Be           Fa          Bet         Fai   \n",
       "1             El           La          Ela         Lau   \n",
       "2             Be           At          Bet         Att   \n",
       "3             Ge           Rw          Geo         Rwa   \n",
       "4             Jo           Mu          Jos         Mul   \n",
       "..           ...          ...          ...         ...   \n",
       "95            Bo           Pl          Boy         Plo   \n",
       "96            Do           St          Dor         Stu   \n",
       "97            Do           St          Dor         Stu   \n",
       "98            No           Da          Nor         Dav   \n",
       "99            Fa         None          Fay        None   \n",
       "\n",
       "   street_name_for_blocking_soundex  zip3  \n",
       "0                              W621   000  \n",
       "1                              <NA>  None  \n",
       "2                              <NA>  None  \n",
       "3                              W252   000  \n",
       "4                              M216   000  \n",
       "..                              ...   ...  \n",
       "95                             H213   000  \n",
       "96                             E235   000  \n",
       "97                             W235   000  \n",
       "98                             P622   000  \n",
       "99                             W316   000  \n",
       "\n",
       "[100 rows x 31 columns]"
      ]
     },
     "execution_count": 38,
     "metadata": {},
     "output_type": "execute_result"
    }
   ],
   "source": [
    "df_ops.head(geobase_reference_file, n=100)"
   ]
  },
  {
   "cell_type": "code",
   "execution_count": 39,
   "id": "96ad6959-51a8-4972-8262-81383e5a895a",
   "metadata": {
    "execution": {
     "iopub.execute_input": "2024-06-01T00:28:41.162214Z",
     "iopub.status.busy": "2024-06-01T00:28:41.161571Z",
     "iopub.status.idle": "2024-06-01T00:28:41.174568Z",
     "shell.execute_reply": "2024-06-01T00:28:41.172497Z"
    },
    "papermill": {
     "duration": 0.037245,
     "end_time": "2024-06-01T00:28:41.176854",
     "exception": false,
     "start_time": "2024-06-01T00:28:41.139609",
     "status": "completed"
    },
    "tags": []
   },
   "outputs": [
    {
     "data": {
      "text/plain": [
       "0.09274377105398926"
      ]
     },
     "execution_count": 39,
     "metadata": {},
     "output_type": "execute_result"
    }
   ],
   "source": [
    "df_ops.compute(geobase_reference_file.year_of_birth.isna().mean())"
   ]
  },
  {
   "cell_type": "code",
   "execution_count": 40,
   "id": "41f87268-5fc5-43cf-b2ee-debb8b6535b3",
   "metadata": {
    "execution": {
     "iopub.execute_input": "2024-06-01T00:28:41.221657Z",
     "iopub.status.busy": "2024-06-01T00:28:41.221023Z",
     "iopub.status.idle": "2024-06-01T00:28:41.229382Z",
     "shell.execute_reply": "2024-06-01T00:28:41.227246Z"
    },
    "papermill": {
     "duration": 0.032993,
     "end_time": "2024-06-01T00:28:41.231762",
     "exception": false,
     "start_time": "2024-06-01T00:28:41.198769",
     "status": "completed"
    },
    "tags": []
   },
   "outputs": [],
   "source": [
    "# df_ops.to_parquet(geobase_reference_file, f'{intermediate_data_dir}/geobase_reference_file_prepped.parquet')"
   ]
  },
  {
   "cell_type": "code",
   "execution_count": 41,
   "id": "c749e6f5-75aa-45a8-8007-7051d12019b8",
   "metadata": {
    "execution": {
     "iopub.execute_input": "2024-06-01T00:28:41.277372Z",
     "iopub.status.busy": "2024-06-01T00:28:41.276738Z",
     "iopub.status.idle": "2024-06-01T00:28:41.286328Z",
     "shell.execute_reply": "2024-06-01T00:28:41.284195Z"
    },
    "papermill": {
     "duration": 0.033935,
     "end_time": "2024-06-01T00:28:41.288577",
     "exception": false,
     "start_time": "2024-06-01T00:28:41.254642",
     "status": "completed"
    },
    "tags": []
   },
   "outputs": [
    {
     "name": "stdout",
     "output_type": "stream",
     "text": [
      "20,110\n"
     ]
    }
   ],
   "source": [
    "print(f\"{len(name_dob_reference_file):,.0f}\")"
   ]
  },
  {
   "cell_type": "code",
   "execution_count": 42,
   "id": "cebf9174-67d5-47e7-a072-5b2998faf57c",
   "metadata": {
    "execution": {
     "iopub.execute_input": "2024-06-01T00:28:41.334567Z",
     "iopub.status.busy": "2024-06-01T00:28:41.333932Z",
     "iopub.status.idle": "2024-06-01T00:28:41.360803Z",
     "shell.execute_reply": "2024-06-01T00:28:41.359472Z"
    },
    "papermill": {
     "duration": 0.052586,
     "end_time": "2024-06-01T00:28:41.363859",
     "exception": false,
     "start_time": "2024-06-01T00:28:41.311273",
     "status": "completed"
    },
    "tags": []
   },
   "outputs": [
    {
     "data": {
      "text/html": [
       "<div>\n",
       "<style scoped>\n",
       "    .dataframe tbody tr th:only-of-type {\n",
       "        vertical-align: middle;\n",
       "    }\n",
       "\n",
       "    .dataframe tbody tr th {\n",
       "        vertical-align: top;\n",
       "    }\n",
       "\n",
       "    .dataframe thead th {\n",
       "        text-align: right;\n",
       "    }\n",
       "</style>\n",
       "<table border=\"1\" class=\"dataframe\">\n",
       "  <thead>\n",
       "    <tr style=\"text-align: right;\">\n",
       "      <th></th>\n",
       "      <th>record_id</th>\n",
       "      <th>ssn</th>\n",
       "      <th>first_name</th>\n",
       "      <th>middle_name</th>\n",
       "      <th>last_name</th>\n",
       "      <th>pik</th>\n",
       "      <th>month_of_birth</th>\n",
       "      <th>year_of_birth</th>\n",
       "      <th>day_of_birth</th>\n",
       "      <th>first_name_15</th>\n",
       "      <th>...</th>\n",
       "      <th>first_name_2</th>\n",
       "      <th>last_name_2</th>\n",
       "      <th>first_name_3</th>\n",
       "      <th>last_name_3</th>\n",
       "      <th>first_name_nysiis</th>\n",
       "      <th>first_name_reverse_soundex</th>\n",
       "      <th>last_name_nysiis</th>\n",
       "      <th>last_name_reverse_soundex</th>\n",
       "      <th>first_initial_cut</th>\n",
       "      <th>last_initial_cut</th>\n",
       "    </tr>\n",
       "  </thead>\n",
       "  <tbody>\n",
       "    <tr>\n",
       "      <th>0</th>\n",
       "      <td>simulated_name_dob_reference_file_0</td>\n",
       "      <td>685-77-0916</td>\n",
       "      <td>Betty</td>\n",
       "      <td>Audrey</td>\n",
       "      <td>Fairbrother</td>\n",
       "      <td>106067</td>\n",
       "      <td>12.0</td>\n",
       "      <td>1922.0</td>\n",
       "      <td>5.0</td>\n",
       "      <td>Betty</td>\n",
       "      <td>...</td>\n",
       "      <td>Be</td>\n",
       "      <td>Fa</td>\n",
       "      <td>Bet</td>\n",
       "      <td>Fai</td>\n",
       "      <td>BATY</td>\n",
       "      <td>Y310</td>\n",
       "      <td>FARBRATAR</td>\n",
       "      <td>R361</td>\n",
       "      <td>B</td>\n",
       "      <td>F</td>\n",
       "    </tr>\n",
       "    <tr>\n",
       "      <th>1</th>\n",
       "      <td>simulated_name_dob_reference_file_1</td>\n",
       "      <td>047-34-5906</td>\n",
       "      <td>Elaine</td>\n",
       "      <td></td>\n",
       "      <td>Laurel Sherman</td>\n",
       "      <td>104228</td>\n",
       "      <td>1.0</td>\n",
       "      <td>1923.0</td>\n",
       "      <td>3.0</td>\n",
       "      <td>Elaine</td>\n",
       "      <td>...</td>\n",
       "      <td>El</td>\n",
       "      <td>La</td>\n",
       "      <td>Ela</td>\n",
       "      <td>Lau</td>\n",
       "      <td>ELAN</td>\n",
       "      <td>E540</td>\n",
       "      <td>LARAL SARNAN</td>\n",
       "      <td>N562</td>\n",
       "      <td>E</td>\n",
       "      <td>L</td>\n",
       "    </tr>\n",
       "    <tr>\n",
       "      <th>2</th>\n",
       "      <td>simulated_name_dob_reference_file_2</td>\n",
       "      <td>136-85-7371</td>\n",
       "      <td>Betty</td>\n",
       "      <td>Avis</td>\n",
       "      <td>Atterberry</td>\n",
       "      <td>106714</td>\n",
       "      <td>3.0</td>\n",
       "      <td>1923.0</td>\n",
       "      <td>13.0</td>\n",
       "      <td>Betty</td>\n",
       "      <td>...</td>\n",
       "      <td>Be</td>\n",
       "      <td>At</td>\n",
       "      <td>Bet</td>\n",
       "      <td>Att</td>\n",
       "      <td>BATY</td>\n",
       "      <td>Y310</td>\n",
       "      <td>ATARBARY</td>\n",
       "      <td>Y616</td>\n",
       "      <td>B</td>\n",
       "      <td>A-or-blank</td>\n",
       "    </tr>\n",
       "    <tr>\n",
       "      <th>3</th>\n",
       "      <td>simulated_name_dob_reference_file_3</td>\n",
       "      <td>017-47-7973</td>\n",
       "      <td>George</td>\n",
       "      <td>Robert</td>\n",
       "      <td>Rwareon</td>\n",
       "      <td>105169</td>\n",
       "      <td>6.0</td>\n",
       "      <td>1923.0</td>\n",
       "      <td>9.0</td>\n",
       "      <td>George</td>\n",
       "      <td>...</td>\n",
       "      <td>Ge</td>\n",
       "      <td>Rw</td>\n",
       "      <td>Geo</td>\n",
       "      <td>Rwa</td>\n",
       "      <td>GARG</td>\n",
       "      <td>E262</td>\n",
       "      <td>RWARAN</td>\n",
       "      <td>N660</td>\n",
       "      <td>G</td>\n",
       "      <td>R</td>\n",
       "    </tr>\n",
       "    <tr>\n",
       "      <th>4</th>\n",
       "      <td>simulated_name_dob_reference_file_4</td>\n",
       "      <td>726-57-2168</td>\n",
       "      <td>Josephine</td>\n",
       "      <td>Margaret</td>\n",
       "      <td>Mulhall</td>\n",
       "      <td>106386</td>\n",
       "      <td>7.0</td>\n",
       "      <td>1923.0</td>\n",
       "      <td>28.0</td>\n",
       "      <td>Josephine</td>\n",
       "      <td>...</td>\n",
       "      <td>Jo</td>\n",
       "      <td>Mu</td>\n",
       "      <td>Jos</td>\n",
       "      <td>Mul</td>\n",
       "      <td>JASAFAN</td>\n",
       "      <td>E512</td>\n",
       "      <td>MALAL</td>\n",
       "      <td>L450</td>\n",
       "      <td>J</td>\n",
       "      <td>M</td>\n",
       "    </tr>\n",
       "    <tr>\n",
       "      <th>...</th>\n",
       "      <td>...</td>\n",
       "      <td>...</td>\n",
       "      <td>...</td>\n",
       "      <td>...</td>\n",
       "      <td>...</td>\n",
       "      <td>...</td>\n",
       "      <td>...</td>\n",
       "      <td>...</td>\n",
       "      <td>...</td>\n",
       "      <td>...</td>\n",
       "      <td>...</td>\n",
       "      <td>...</td>\n",
       "      <td>...</td>\n",
       "      <td>...</td>\n",
       "      <td>...</td>\n",
       "      <td>...</td>\n",
       "      <td>...</td>\n",
       "      <td>...</td>\n",
       "      <td>...</td>\n",
       "      <td>...</td>\n",
       "      <td>...</td>\n",
       "    </tr>\n",
       "    <tr>\n",
       "      <th>95</th>\n",
       "      <td>simulated_name_dob_reference_file_95</td>\n",
       "      <td>075-37-9591</td>\n",
       "      <td>Fetty</td>\n",
       "      <td>Phyllis</td>\n",
       "      <td>Todd</td>\n",
       "      <td>89183</td>\n",
       "      <td>NaN</td>\n",
       "      <td>NaN</td>\n",
       "      <td>NaN</td>\n",
       "      <td>Fetty</td>\n",
       "      <td>...</td>\n",
       "      <td>Fe</td>\n",
       "      <td>To</td>\n",
       "      <td>Fet</td>\n",
       "      <td>Tod</td>\n",
       "      <td>FATY</td>\n",
       "      <td>Y310</td>\n",
       "      <td>TAD</td>\n",
       "      <td>D300</td>\n",
       "      <td>F</td>\n",
       "      <td>T</td>\n",
       "    </tr>\n",
       "    <tr>\n",
       "      <th>96</th>\n",
       "      <td>simulated_name_dob_reference_file_96</td>\n",
       "      <td>587-89-3227</td>\n",
       "      <td>Betty</td>\n",
       "      <td>Barbara</td>\n",
       "      <td>Strand</td>\n",
       "      <td>89184</td>\n",
       "      <td>9.0</td>\n",
       "      <td>1932.0</td>\n",
       "      <td>21.0</td>\n",
       "      <td>Betty</td>\n",
       "      <td>...</td>\n",
       "      <td>Be</td>\n",
       "      <td>St</td>\n",
       "      <td>Bet</td>\n",
       "      <td>Str</td>\n",
       "      <td>BATY</td>\n",
       "      <td>Y310</td>\n",
       "      <td>STRAD</td>\n",
       "      <td>D563</td>\n",
       "      <td>B</td>\n",
       "      <td>S</td>\n",
       "    </tr>\n",
       "    <tr>\n",
       "      <th>97</th>\n",
       "      <td>simulated_name_dob_reference_file_97</td>\n",
       "      <td>210-02-1121</td>\n",
       "      <td>Mary</td>\n",
       "      <td>Mary</td>\n",
       "      <td>Foster</td>\n",
       "      <td>89185</td>\n",
       "      <td>NaN</td>\n",
       "      <td>NaN</td>\n",
       "      <td>NaN</td>\n",
       "      <td>Mary</td>\n",
       "      <td>...</td>\n",
       "      <td>Ma</td>\n",
       "      <td>Fo</td>\n",
       "      <td>Mar</td>\n",
       "      <td>Fos</td>\n",
       "      <td>MARY</td>\n",
       "      <td>Y650</td>\n",
       "      <td>FASTAR</td>\n",
       "      <td>R321</td>\n",
       "      <td>M</td>\n",
       "      <td>F</td>\n",
       "    </tr>\n",
       "    <tr>\n",
       "      <th>98</th>\n",
       "      <td>simulated_name_dob_reference_file_98</td>\n",
       "      <td>108-44-4043</td>\n",
       "      <td>Norman</td>\n",
       "      <td>Russell</td>\n",
       "      <td>Unk</td>\n",
       "      <td>89186</td>\n",
       "      <td>11.0</td>\n",
       "      <td>1932.0</td>\n",
       "      <td>8.0</td>\n",
       "      <td>Norman</td>\n",
       "      <td>...</td>\n",
       "      <td>No</td>\n",
       "      <td>Un</td>\n",
       "      <td>Nor</td>\n",
       "      <td>Unk</td>\n",
       "      <td>NARNAN</td>\n",
       "      <td>N565</td>\n",
       "      <td>UNC</td>\n",
       "      <td>K500</td>\n",
       "      <td>N</td>\n",
       "      <td>U-Z</td>\n",
       "    </tr>\n",
       "    <tr>\n",
       "      <th>99</th>\n",
       "      <td>simulated_name_dob_reference_file_99</td>\n",
       "      <td>044-33-2995</td>\n",
       "      <td>Garnett</td>\n",
       "      <td>Robert</td>\n",
       "      <td>Vieira</td>\n",
       "      <td>89187</td>\n",
       "      <td>12.0</td>\n",
       "      <td>1932.0</td>\n",
       "      <td>20.0</td>\n",
       "      <td>Garnett</td>\n",
       "      <td>...</td>\n",
       "      <td>Ga</td>\n",
       "      <td>Vi</td>\n",
       "      <td>Gar</td>\n",
       "      <td>Vie</td>\n",
       "      <td>GARNAT</td>\n",
       "      <td>T562</td>\n",
       "      <td>VAR</td>\n",
       "      <td>A610</td>\n",
       "      <td>G</td>\n",
       "      <td>U-Z</td>\n",
       "    </tr>\n",
       "  </tbody>\n",
       "</table>\n",
       "<p>100 rows × 24 columns</p>\n",
       "</div>"
      ],
      "text/plain": [
       "                               record_id          ssn first_name middle_name  \\\n",
       "0    simulated_name_dob_reference_file_0  685-77-0916      Betty      Audrey   \n",
       "1    simulated_name_dob_reference_file_1  047-34-5906     Elaine               \n",
       "2    simulated_name_dob_reference_file_2  136-85-7371      Betty        Avis   \n",
       "3    simulated_name_dob_reference_file_3  017-47-7973     George      Robert   \n",
       "4    simulated_name_dob_reference_file_4  726-57-2168  Josephine    Margaret   \n",
       "..                                   ...          ...        ...         ...   \n",
       "95  simulated_name_dob_reference_file_95  075-37-9591      Fetty     Phyllis   \n",
       "96  simulated_name_dob_reference_file_96  587-89-3227      Betty     Barbara   \n",
       "97  simulated_name_dob_reference_file_97  210-02-1121       Mary        Mary   \n",
       "98  simulated_name_dob_reference_file_98  108-44-4043     Norman     Russell   \n",
       "99  simulated_name_dob_reference_file_99  044-33-2995    Garnett      Robert   \n",
       "\n",
       "         last_name     pik  month_of_birth  year_of_birth  day_of_birth  \\\n",
       "0      Fairbrother  106067            12.0         1922.0           5.0   \n",
       "1   Laurel Sherman  104228             1.0         1923.0           3.0   \n",
       "2       Atterberry  106714             3.0         1923.0          13.0   \n",
       "3          Rwareon  105169             6.0         1923.0           9.0   \n",
       "4          Mulhall  106386             7.0         1923.0          28.0   \n",
       "..             ...     ...             ...            ...           ...   \n",
       "95            Todd   89183             NaN            NaN           NaN   \n",
       "96          Strand   89184             9.0         1932.0          21.0   \n",
       "97          Foster   89185             NaN            NaN           NaN   \n",
       "98             Unk   89186            11.0         1932.0           8.0   \n",
       "99          Vieira   89187            12.0         1932.0          20.0   \n",
       "\n",
       "   first_name_15  ... first_name_2 last_name_2 first_name_3 last_name_3  \\\n",
       "0          Betty  ...           Be          Fa          Bet         Fai   \n",
       "1         Elaine  ...           El          La          Ela         Lau   \n",
       "2          Betty  ...           Be          At          Bet         Att   \n",
       "3         George  ...           Ge          Rw          Geo         Rwa   \n",
       "4      Josephine  ...           Jo          Mu          Jos         Mul   \n",
       "..           ...  ...          ...         ...          ...         ...   \n",
       "95         Fetty  ...           Fe          To          Fet         Tod   \n",
       "96         Betty  ...           Be          St          Bet         Str   \n",
       "97          Mary  ...           Ma          Fo          Mar         Fos   \n",
       "98        Norman  ...           No          Un          Nor         Unk   \n",
       "99       Garnett  ...           Ga          Vi          Gar         Vie   \n",
       "\n",
       "   first_name_nysiis first_name_reverse_soundex last_name_nysiis  \\\n",
       "0               BATY                       Y310        FARBRATAR   \n",
       "1               ELAN                       E540     LARAL SARNAN   \n",
       "2               BATY                       Y310         ATARBARY   \n",
       "3               GARG                       E262           RWARAN   \n",
       "4            JASAFAN                       E512            MALAL   \n",
       "..               ...                        ...              ...   \n",
       "95              FATY                       Y310              TAD   \n",
       "96              BATY                       Y310            STRAD   \n",
       "97              MARY                       Y650           FASTAR   \n",
       "98            NARNAN                       N565              UNC   \n",
       "99            GARNAT                       T562              VAR   \n",
       "\n",
       "   last_name_reverse_soundex first_initial_cut last_initial_cut  \n",
       "0                       R361                 B                F  \n",
       "1                       N562                 E                L  \n",
       "2                       Y616                 B       A-or-blank  \n",
       "3                       N660                 G                R  \n",
       "4                       L450                 J                M  \n",
       "..                       ...               ...              ...  \n",
       "95                      D300                 F                T  \n",
       "96                      D563                 B                S  \n",
       "97                      R321                 M                F  \n",
       "98                      K500                 N              U-Z  \n",
       "99                      A610                 G              U-Z  \n",
       "\n",
       "[100 rows x 24 columns]"
      ]
     },
     "execution_count": 42,
     "metadata": {},
     "output_type": "execute_result"
    }
   ],
   "source": [
    "df_ops.head(name_dob_reference_file, n=100)"
   ]
  },
  {
   "cell_type": "code",
   "execution_count": 43,
   "id": "c3d4ebae-cf4c-45be-a7d7-db4062407e68",
   "metadata": {
    "execution": {
     "iopub.execute_input": "2024-06-01T00:28:41.413955Z",
     "iopub.status.busy": "2024-06-01T00:28:41.413304Z",
     "iopub.status.idle": "2024-06-01T00:28:41.426634Z",
     "shell.execute_reply": "2024-06-01T00:28:41.424776Z"
    },
    "papermill": {
     "duration": 0.039073,
     "end_time": "2024-06-01T00:28:41.429059",
     "exception": false,
     "start_time": "2024-06-01T00:28:41.389986",
     "status": "completed"
    },
    "tags": []
   },
   "outputs": [
    {
     "data": {
      "text/plain": [
       "0.09975136747886623"
      ]
     },
     "execution_count": 43,
     "metadata": {},
     "output_type": "execute_result"
    }
   ],
   "source": [
    "df_ops.compute(name_dob_reference_file.year_of_birth.isna().mean())"
   ]
  },
  {
   "cell_type": "code",
   "execution_count": 44,
   "id": "73a64260-0815-456a-9166-10b7be194d02",
   "metadata": {
    "execution": {
     "iopub.execute_input": "2024-06-01T00:28:41.475579Z",
     "iopub.status.busy": "2024-06-01T00:28:41.474958Z",
     "iopub.status.idle": "2024-06-01T00:28:41.483287Z",
     "shell.execute_reply": "2024-06-01T00:28:41.481104Z"
    },
    "papermill": {
     "duration": 0.032594,
     "end_time": "2024-06-01T00:28:41.485437",
     "exception": false,
     "start_time": "2024-06-01T00:28:41.452843",
     "status": "completed"
    },
    "tags": []
   },
   "outputs": [],
   "source": [
    "# df_ops.to_parquet(name_dob_reference_file, f'{intermediate_data_dir}/name_dob_reference_file_prepped.parquet')"
   ]
  },
  {
   "cell_type": "markdown",
   "id": "57a115b7-6215-4bcf-8444-ef2223040a02",
   "metadata": {
    "papermill": {
     "duration": 0.019763,
     "end_time": "2024-06-01T00:28:41.526831",
     "exception": false,
     "start_time": "2024-06-01T00:28:41.507068",
     "status": "completed"
    },
    "tags": []
   },
   "source": [
    "# Emulate Multi-Match with splink\n",
    "\n",
    "Wagner and Layne, p. 8:\n",
    "\n",
    "> The PVS employs its probabilistic record linkage software, Multi-Match (Wagner\n",
    "2012), as an integral part of the PVS.\n",
    "\n",
    "Wagner and Layne, p. 12:\n",
    "\n",
    "> PVS uses the same Multi-Match engine for each probabilistic search type. For each\n",
    "search module the analyst defines a parameter file, which is passed to Multi-Match. The\n",
    "parameter file includes threshold value(s) for the number of passes, blocking keys, and\n",
    "within each pass, the match variables, match comparison type, and matching weights...\n",
    ">\n",
    "> Records must first match exactly on the blocking keys before any comparisons\n",
    "between the match variables are attempted. Each match variable is given an\n",
    "m and\n",
    "u\n",
    "probability, which is translated by MultiMatch as agreement and disagreement weights.\n",
    "The sum of all match variable comparison weights for a record pair is the composite\n",
    "weight. All record pairs with a composite weight greater than or equal to the threshold\n",
    "set in the parameter file are linked, and the records from the incoming file for these\n",
    "linked cases are excluded from all remaining passes. All Numident records are always\n",
    "available for linking in every pass. Any record missing data for any of the blocking fields\n",
    "for a pass skips that pass and moves to the next pass.\n",
    "\n",
    "[splink](https://github.com/moj-analytical-services/splink) is similar to Multi-Match\n",
    "(both are based on the Fellegi-Sunter approach to record linkage).\n",
    "It also implements:\n",
    "- Exact blocking on specified keys\n",
    "- Determining overall match probability based on conditional independence of individual field comparisons\n",
    "  (it is equivalent to multiply the probability ratios, or sum the logarithmic \"weights\" as Multi-Match describes it),\n",
    "  which each have m and u probabilities\n",
    "- Setting a match threshold\n",
    "\n",
    "However, splink does not include some additional logic built into Multi-Match,\n",
    "specifically the ability to run multiple \"passes,\" removing linked records from\n",
    "subsequent passes.\n",
    "We have to implement that ourselves, calling splink again in each pass."
   ]
  },
  {
   "cell_type": "markdown",
   "id": "3a52fa1a-85ca-4a5a-a978-08e43c5b9eb0",
   "metadata": {
    "papermill": {
     "duration": 0.020623,
     "end_time": "2024-06-01T00:28:41.567440",
     "exception": false,
     "start_time": "2024-06-01T00:28:41.546817",
     "status": "completed"
    },
    "tags": []
   },
   "source": [
    "## Estimate parameters (lambda, m, u) once for all modules\n",
    "\n",
    "In Multi-Match, there is no lambda (prior probability of a link, before any comparisons are observed).\n",
    "This is because Multi-Match works entirely in weight space, and sets different weight thresholds\n",
    "in different modules/passes instead of changing the prior probability.\n",
    "\n",
    "In Multi-Match parameters are not directly estimated from the data.\n",
    "They are primarily set manually by analysts, with a different set of parameter files\n",
    "maintained for each type of input file (e.g. survey, administrative).\n",
    "\n",
    "All parameters except lambda are column-level parameters.\n",
    "We estimate the column-level parameters using the GeoBase Reference File,\n",
    "since it has all columns that are used for matching with any reference file.\n",
    "\n",
    "We estimate lambda (manually, see below) separately by reference file,\n",
    "since the number of records is different between the reference files but\n",
    "the size of the underlying population (people we are trying to match) is constant."
   ]
  },
  {
   "cell_type": "markdown",
   "id": "0f5283ef-c44f-4a19-9f58-a0d091697f1a",
   "metadata": {
    "papermill": {
     "duration": 0.020562,
     "end_time": "2024-06-01T00:28:41.607830",
     "exception": false,
     "start_time": "2024-06-01T00:28:41.587268",
     "status": "completed"
    },
    "tags": []
   },
   "source": [
    "### lambda (prior probability of a match)\n",
    "\n",
    "Splink has a built-in method (estimate_probability_two_random_records_match)\n",
    "for estimating this, but it did not seem to give me reasonable estimates.\n",
    "\n",
    "We just make an informed guess here based on how much overlap we expect\n",
    "in the files, how much unintentional duplication we expect in the files (e.g. someone\n",
    "being enumerated twice), how much *intentional* duplication we have in the\n",
    "files (e.g. a record for each nickname variant), and some simplifying assumptions.\n",
    "\n",
    "Our assumptions:\n",
    "- 5% of the enumerations in the CUF are unintentional duplicates\n",
    "- 0.5% of the PIKs in the reference file are unintentional duplicates\n",
    "  (that same person is also represented with a different PIK)\n",
    "- 90% of the people in the CUF are represented in the reference files\n",
    "- Being represented in both files is independent of being unintentionally\n",
    "  or intentionally duplicated\n",
    "- Being intentionally duplicated in one file is independent of being intentionally\n",
    "  duplicated in the other (likely not true since having a name with lots of variants\n",
    "  would cause intentional duplicates in both)\n",
    "\n",
    "We do this first (before m and u probabilities) because having lambda estimated is\n",
    "useful to the EM algorithm for estimating m and u."
   ]
  },
  {
   "cell_type": "code",
   "execution_count": 45,
   "id": "9e179c13-03b3-4100-81d7-5db54c05c371",
   "metadata": {
    "execution": {
     "iopub.execute_input": "2024-06-01T00:28:41.651619Z",
     "iopub.status.busy": "2024-06-01T00:28:41.650950Z",
     "iopub.status.idle": "2024-06-01T00:28:41.671630Z",
     "shell.execute_reply": "2024-06-01T00:28:41.670532Z"
    },
    "papermill": {
     "duration": 0.046428,
     "end_time": "2024-06-01T00:28:41.674804",
     "exception": false,
     "start_time": "2024-06-01T00:28:41.628376",
     "status": "completed"
    },
    "tags": []
   },
   "outputs": [
    {
     "data": {
      "text/plain": [
       "1.4115990816180642e-05"
      ]
     },
     "execution_count": 45,
     "metadata": {},
     "output_type": "execute_result"
    }
   ],
   "source": [
    "def estimate_number_true_matches(input_file, reference_file):\n",
    "    people_represented_in_input_file = (\n",
    "        len(df_ops.drop_duplicates(input_file[[\"record_id_raw_input_file\"]])) * 0.95\n",
    "    )\n",
    "    people_represented_in_reference_file = (\n",
    "        len(df_ops.drop_duplicates(reference_file[[\"pik\"]])) * 0.995\n",
    "    )\n",
    "    people_represented_in_both = people_represented_in_input_file * 0.9\n",
    "\n",
    "    # Assuming independence conditions as noted above, the number of true\n",
    "    # matches that should be found for *each* true person is the expected number\n",
    "    # of records in one file times the expected number of records in the other\n",
    "    input_file_records_per_person = people_represented_in_input_file / len(input_file)\n",
    "    reference_file_records_per_person = people_represented_in_reference_file / len(\n",
    "        reference_file\n",
    "    )\n",
    "    record_matches_per_person = (\n",
    "        input_file_records_per_person * reference_file_records_per_person\n",
    "    )\n",
    "\n",
    "    return people_represented_in_both * record_matches_per_person\n",
    "\n",
    "\n",
    "def probability_two_random_records_match(input_file, reference_file):\n",
    "    cartesian_product = len(input_file) * len(reference_file)\n",
    "    if cartesian_product == 0:\n",
    "        # Does not matter\n",
    "        return 0.5\n",
    "\n",
    "    return estimate_number_true_matches(input_file, reference_file) / cartesian_product\n",
    "\n",
    "\n",
    "probability_two_random_records_match(census_2030, geobase_reference_file)"
   ]
  },
  {
   "cell_type": "markdown",
   "id": "2d798575-22de-4515-942c-60ecc0dbe3a0",
   "metadata": {
    "papermill": {
     "duration": 0.020539,
     "end_time": "2024-06-01T00:28:41.721166",
     "exception": false,
     "start_time": "2024-06-01T00:28:41.700627",
     "status": "completed"
    },
    "tags": []
   },
   "source": [
    "### m and u probabilities"
   ]
  },
  {
   "cell_type": "code",
   "execution_count": 46,
   "id": "0b42b5e3-d681-48c0-9a85-4aa695017c20",
   "metadata": {
    "execution": {
     "iopub.execute_input": "2024-06-01T00:28:41.765171Z",
     "iopub.status.busy": "2024-06-01T00:28:41.764482Z",
     "iopub.status.idle": "2024-06-01T00:28:41.776195Z",
     "shell.execute_reply": "2024-06-01T00:28:41.774611Z"
    },
    "papermill": {
     "duration": 0.036788,
     "end_time": "2024-06-01T00:28:41.778238",
     "exception": false,
     "start_time": "2024-06-01T00:28:41.741450",
     "status": "completed"
    },
    "tags": []
   },
   "outputs": [
    {
     "data": {
      "text/plain": [
       "['record_id',\n",
       " 'first_name',\n",
       " 'middle_initial',\n",
       " 'last_name',\n",
       " 'street_number',\n",
       " 'street_name',\n",
       " 'unit_number',\n",
       " 'city',\n",
       " 'state',\n",
       " 'zipcode',\n",
       " 'month_of_birth',\n",
       " 'year_of_birth',\n",
       " 'day_of_birth',\n",
       " 'geokey',\n",
       " 'geokey_for_blocking',\n",
       " 'street_number_for_blocking',\n",
       " 'street_name_for_blocking',\n",
       " 'first_name_15',\n",
       " 'last_name_12',\n",
       " 'first_name_1',\n",
       " 'last_name_1',\n",
       " 'first_name_2',\n",
       " 'last_name_2',\n",
       " 'first_name_3',\n",
       " 'last_name_3',\n",
       " 'street_name_for_blocking_soundex',\n",
       " 'zip3']"
      ]
     },
     "execution_count": 46,
     "metadata": {},
     "output_type": "execute_result"
    }
   ],
   "source": [
    "common_cols = [c for c in census_2030.columns if c in geobase_reference_file.columns]\n",
    "common_cols"
   ]
  },
  {
   "cell_type": "code",
   "execution_count": 47,
   "id": "c39465e9-edee-4a73-ac63-c4f060013a00",
   "metadata": {
    "execution": {
     "iopub.execute_input": "2024-06-01T00:28:41.825329Z",
     "iopub.status.busy": "2024-06-01T00:28:41.824687Z",
     "iopub.status.idle": "2024-06-01T00:28:41.853824Z",
     "shell.execute_reply": "2024-06-01T00:28:41.851843Z"
    },
    "papermill": {
     "duration": 0.056898,
     "end_time": "2024-06-01T00:28:41.857899",
     "exception": false,
     "start_time": "2024-06-01T00:28:41.801001",
     "status": "completed"
    },
    "tags": []
   },
   "outputs": [],
   "source": [
    "def prep_table_for_splink(df, dataset_name, columns, df_ops):\n",
    "    result = df[[c for c in df.columns if c in columns]]\n",
    "    if compute_engine == \"pandas\" or splink_engine == \"duckdb\":\n",
    "        # Needs to all be in one process anyway\n",
    "        return df_ops.compute(result)\n",
    "    else:\n",
    "        utils.ensure_empty(f\"{intermediate_data_dir}/for_splink/{dataset_name}\")\n",
    "        file_path = f\"{intermediate_data_dir}/for_splink/{dataset_name}/{dataset_name}_{int(time.time())}.parquet\"\n",
    "        df_ops.to_parquet(result, file_path, wait=True, write_index=False)\n",
    "        assert splink_engine == \"spark\"\n",
    "        return spark.read.parquet(file_path)\n",
    "\n",
    "\n",
    "if len(geobase_reference_file) > 1_000_000:\n",
    "    geobase_reference_file_for_training = geobase_reference_file.sample(\n",
    "        frac=(1_000_000 / len(geobase_reference_file)), random_state=1234\n",
    "    )\n",
    "else:\n",
    "    geobase_reference_file_for_training = geobase_reference_file\n",
    "\n",
    "if len(census_2030) > 1_000_000:\n",
    "    census_2030_for_training = census_2030.sample(\n",
    "        frac=(1_000_000 / len(census_2030)), random_state=1234\n",
    "    )\n",
    "else:\n",
    "    census_2030_for_training = census_2030\n",
    "\n",
    "utils.ensure_empty(f\"{intermediate_data_dir}/for_splink/\")\n",
    "tables_for_splink = [\n",
    "    prep_table_for_splink(\n",
    "        geobase_reference_file_for_training,\n",
    "        \"geobase_reference_file\",\n",
    "        common_cols,\n",
    "        df_ops,\n",
    "    ),\n",
    "    prep_table_for_splink(census_2030_for_training, \"census_2030\", common_cols, df_ops),\n",
    "]"
   ]
  },
  {
   "cell_type": "markdown",
   "id": "df02a447-eed8-470d-8487-1954c046bebd",
   "metadata": {
    "papermill": {
     "duration": 0.020446,
     "end_time": "2024-06-01T00:28:41.905898",
     "exception": false,
     "start_time": "2024-06-01T00:28:41.885452",
     "status": "completed"
    },
    "tags": []
   },
   "source": [
    "#### Define comparison variables and levels\n",
    "\n",
    "**Variables**\n",
    "\n",
    "The most recent report, from 2023 (Brown et al., p. 29), says:\n",
    "\n",
    "> [In] GeoSearch... The typical matching variables are name, DOB, sex, and\n",
    "  various address fields...\n",
    ">\n",
    "> NameSearch... uses only name and DOB fields...\n",
    "> \n",
    "> DOBSearch... compares name, sex, and DOB...\n",
    "> \n",
    "> the Household Composition search module... attempts to find a match... based on name and DOB information\n",
    "\n",
    "So, the total list: name, DOB, sex, and \"various address fields.\"\n",
    "These address fields are listed in the PVS report (p. 34) which is admittedly from 2011:\n",
    "\n",
    "> variables used directly in matching the input file with the reference files [include]...\n",
    "> street name, street name prefix and suffix, house number, rural route and box, and ZIP code\n",
    "\n",
    "**Comparisons**\n",
    "\n",
    "Massey et al. footnote 2: \n",
    "> The PVS string comparator was developed by Winkler (1995) and measures the distance\n",
    "  between two strings on a scale from 0 to 900, where a distance score of 0 is given if\n",
    "  there is no similarity between two text strings and a score of 900 is given for an exact match.\n",
    "  The cutoff value for the string distance is set to 750 in the Name Search module.\n",
    "\n",
    "Massey and O'Hara, p. 6 footnote 7:\n",
    "> For the comparison of text strings, a prorated value\n",
    "  between the chosen agreement score and chosen disagreement score is given depending on the Jaro-Winkler\n",
    "  distance between the string in the input file and reference file.\n",
    "\n",
    "Massey et al.:\n",
    "> For numeric variables, such as year of birth, a maximum acceptable difference\n",
    "> between the variable value in the input and reference record is set. This also\n",
    "> allows for creation of an interval, or band, around year of birth to permit\n",
    "> inexact matches. Within this band, prorated agreement and disagreement weights\n",
    "> are assigned depending on the similarity of year of birth.\n",
    "\n",
    "The \"maximum acceptable distance\" implies that the m probability beyond that distance is\n",
    "zero; such pairs should never be linked.\n",
    "\n",
    "Note that this continuous \"prorated value,\" as opposed to categorizing comparison levels,\n",
    "is not possible in splink and goes outside the traditional F-S framing of m and u probabilities!\n",
    "We omit it for now."
   ]
  },
  {
   "cell_type": "code",
   "execution_count": 48,
   "id": "367d9ac2-eba6-48b9-a10c-7f3515adcf7f",
   "metadata": {
    "execution": {
     "iopub.execute_input": "2024-06-01T00:28:41.950984Z",
     "iopub.status.busy": "2024-06-01T00:28:41.950330Z",
     "iopub.status.idle": "2024-06-01T00:28:43.194896Z",
     "shell.execute_reply": "2024-06-01T00:28:43.193123Z"
    },
    "papermill": {
     "duration": 1.27175,
     "end_time": "2024-06-01T00:28:43.197614",
     "exception": false,
     "start_time": "2024-06-01T00:28:41.925864",
     "status": "completed"
    },
    "tags": []
   },
   "outputs": [],
   "source": [
    "if splink_engine == \"duckdb\":\n",
    "    from splink.duckdb.comparison_library import (\n",
    "        exact_match,\n",
    "        jaro_winkler_at_thresholds,\n",
    "    )\n",
    "    import splink.duckdb.comparison_level_library as cll\n",
    "elif splink_engine == \"spark\":\n",
    "    from splink.spark.comparison_library import (\n",
    "        exact_match,\n",
    "        jaro_winkler_at_thresholds,\n",
    "    )\n",
    "    import splink.spark.comparison_level_library as cll\n",
    "\n",
    "\n",
    "def numeric_column_comparison(col_name, human_name, maximum_inexact_match_difference):\n",
    "    return {\n",
    "        \"output_column_name\": col_name,\n",
    "        \"comparison_description\": human_name,\n",
    "        \"comparison_levels\": [\n",
    "            cll.null_level(col_name),\n",
    "            cll.exact_match_level(col_name),\n",
    "            {\n",
    "                \"sql_condition\": f\"abs({col_name}_l - {col_name}_r) <= {maximum_inexact_match_difference}\",\n",
    "                \"label_for_charts\": \"Inexact match\",\n",
    "            },\n",
    "            cll.else_level(),\n",
    "        ],\n",
    "    }\n",
    "\n",
    "\n",
    "numeric_columns = [\"day_of_birth\", \"month_of_birth\", \"year_of_birth\"]\n",
    "\n",
    "settings = {\n",
    "    \"link_type\": \"link_only\",\n",
    "    \"comparisons\": [\n",
    "        jaro_winkler_at_thresholds(\"first_name_15\", 750 / 900),\n",
    "        jaro_winkler_at_thresholds(\"last_name_12\", 750 / 900),\n",
    "        exact_match(\"middle_initial\"),\n",
    "        # NOTE: Three separate comparisons here can strongly violate conditional independence.\n",
    "        # However, it seems to be well-attested in the PVS descriptions.\n",
    "        numeric_column_comparison(\n",
    "            \"day_of_birth\", \"Day of birth\", maximum_inexact_match_difference=5\n",
    "        ),\n",
    "        numeric_column_comparison(\n",
    "            \"month_of_birth\", \"Month of birth\", maximum_inexact_match_difference=3\n",
    "        ),\n",
    "        numeric_column_comparison(\n",
    "            \"year_of_birth\", \"Year of birth\", maximum_inexact_match_difference=5\n",
    "        ),\n",
    "        # NOTE: There are some places where PVS seems to claim to compare individual parts\n",
    "        # of the address.\n",
    "        # Address matching is not mentioned at all in the one source we have listing exact variables.\n",
    "        # Comparing parts of the address separately strongly breaks conditional independence.\n",
    "        # So we compare the entire geokey at once.\n",
    "        jaro_winkler_at_thresholds(\"geokey\", 650 / 900),\n",
    "    ],\n",
    "    \"probability_two_random_records_match\": probability_two_random_records_match(\n",
    "        census_2030, geobase_reference_file\n",
    "    ),\n",
    "    \"unique_id_column_name\": \"record_id\",\n",
    "    # Not sure exactly what this does, but it is necessary for some of the fancier graphs below\n",
    "    \"retain_intermediate_calculation_columns\": True,\n",
    "}\n",
    "\n",
    "if splink_engine == \"duckdb\":\n",
    "    from splink.duckdb.linker import DuckDBLinker\n",
    "\n",
    "    linker = DuckDBLinker(\n",
    "        tables_for_splink,\n",
    "        settings,\n",
    "        input_table_aliases=[\"reference_file\", \"census_2030\"],\n",
    "    )\n",
    "elif splink_engine == \"spark\":\n",
    "    from splink.spark.linker import SparkLinker\n",
    "\n",
    "    linker = SparkLinker(\n",
    "        tables_for_splink,\n",
    "        settings,\n",
    "        input_table_aliases=[\"reference_file\", \"census_2030\"],\n",
    "        spark=spark,\n",
    "    )\n",
    "\n",
    "    import warnings\n",
    "\n",
    "    # PySpark triggers a lot of Pandas warnings\n",
    "    warnings.filterwarnings(\"ignore\", category=DeprecationWarning)\n",
    "    warnings.filterwarnings(\"ignore\", category=FutureWarning)"
   ]
  },
  {
   "cell_type": "markdown",
   "id": "8248795b-29ae-4f70-b0c8-1b466112c56e",
   "metadata": {
    "papermill": {
     "duration": 0.023896,
     "end_time": "2024-06-01T00:28:43.254837",
     "exception": false,
     "start_time": "2024-06-01T00:28:43.230941",
     "status": "completed"
    },
    "tags": []
   },
   "source": [
    "#### Estimate u probabilities\n",
    "\n",
    "This method seems to work well:\n",
    "- For almost all of the columns, an exact or even inexact match is relatively rare\n",
    "- Exact matches are common on ZIP code (makes sense, given our sample data is all in one ZIP)\n",
    "- Inexact matches are more common where you would expect (day and month of birth have highly constrained values)\n",
    "\n",
    "I have tested that this estimation is reproducible when run multiple times (with the same seed)."
   ]
  },
  {
   "cell_type": "code",
   "execution_count": 49,
   "id": "fbc1d82b-02d2-45df-b450-614623c41f5e",
   "metadata": {
    "execution": {
     "iopub.execute_input": "2024-06-01T00:28:43.299597Z",
     "iopub.status.busy": "2024-06-01T00:28:43.298890Z",
     "iopub.status.idle": "2024-06-01T00:28:49.183160Z",
     "shell.execute_reply": "2024-06-01T00:28:49.182629Z"
    },
    "papermill": {
     "duration": 5.909089,
     "end_time": "2024-06-01T00:28:49.184723",
     "exception": false,
     "start_time": "2024-06-01T00:28:43.275634",
     "status": "completed"
    },
    "tags": []
   },
   "outputs": [
    {
     "name": "stderr",
     "output_type": "stream",
     "text": [
      "----- Estimating u probabilities using random sampling -----\n"
     ]
    },
    {
     "name": "stderr",
     "output_type": "stream",
     "text": [
      "\n",
      "Estimated u probabilities using random sampling\n"
     ]
    },
    {
     "name": "stderr",
     "output_type": "stream",
     "text": [
      "\n",
      "Your model is not yet fully trained. Missing estimates for:\n",
      "    - first_name_15 (no m values are trained).\n",
      "    - last_name_12 (no m values are trained).\n",
      "    - middle_initial (no m values are trained).\n",
      "    - day_of_birth (no m values are trained).\n",
      "    - month_of_birth (no m values are trained).\n",
      "    - year_of_birth (no m values are trained).\n",
      "    - geokey (no m values are trained).\n"
     ]
    },
    {
     "name": "stdout",
     "output_type": "stream",
     "text": [
      "CPU times: user 12.9 s, sys: 815 ms, total: 13.8 s\n",
      "Wall time: 5.88 s\n"
     ]
    }
   ],
   "source": [
    "%%time\n",
    "\n",
    "linker.estimate_u_using_random_sampling(max_pairs=1e7, seed=1234)"
   ]
  },
  {
   "cell_type": "code",
   "execution_count": 50,
   "id": "a393ab32-1308-47c8-bab0-39d2b0cf6256",
   "metadata": {
    "execution": {
     "iopub.execute_input": "2024-06-01T00:28:49.228645Z",
     "iopub.status.busy": "2024-06-01T00:28:49.227936Z",
     "iopub.status.idle": "2024-06-01T00:28:49.353142Z",
     "shell.execute_reply": "2024-06-01T00:28:49.351920Z"
    },
    "papermill": {
     "duration": 0.15076,
     "end_time": "2024-06-01T00:28:49.356988",
     "exception": false,
     "start_time": "2024-06-01T00:28:49.206228",
     "status": "completed"
    },
    "tags": []
   },
   "outputs": [
    {
     "data": {
      "text/html": [
       "\n",
       "<style>\n",
       "  #altair-viz-a878c355224c45338ba40339af1f7536.vega-embed {\n",
       "    width: 100%;\n",
       "    display: flex;\n",
       "  }\n",
       "\n",
       "  #altair-viz-a878c355224c45338ba40339af1f7536.vega-embed details,\n",
       "  #altair-viz-a878c355224c45338ba40339af1f7536.vega-embed details summary {\n",
       "    position: relative;\n",
       "  }\n",
       "</style>\n",
       "<div id=\"altair-viz-a878c355224c45338ba40339af1f7536\"></div>\n",
       "<script type=\"text/javascript\">\n",
       "  var VEGA_DEBUG = (typeof VEGA_DEBUG == \"undefined\") ? {} : VEGA_DEBUG;\n",
       "  (function(spec, embedOpt){\n",
       "    let outputDiv = document.currentScript.previousElementSibling;\n",
       "    if (outputDiv.id !== \"altair-viz-a878c355224c45338ba40339af1f7536\") {\n",
       "      outputDiv = document.getElementById(\"altair-viz-a878c355224c45338ba40339af1f7536\");\n",
       "    }\n",
       "    const paths = {\n",
       "      \"vega\": \"https://cdn.jsdelivr.net/npm/vega@5?noext\",\n",
       "      \"vega-lib\": \"https://cdn.jsdelivr.net/npm/vega-lib?noext\",\n",
       "      \"vega-lite\": \"https://cdn.jsdelivr.net/npm/vega-lite@5.17.0?noext\",\n",
       "      \"vega-embed\": \"https://cdn.jsdelivr.net/npm/vega-embed@6?noext\",\n",
       "    };\n",
       "\n",
       "    function maybeLoadScript(lib, version) {\n",
       "      var key = `${lib.replace(\"-\", \"\")}_version`;\n",
       "      return (VEGA_DEBUG[key] == version) ?\n",
       "        Promise.resolve(paths[lib]) :\n",
       "        new Promise(function(resolve, reject) {\n",
       "          var s = document.createElement('script');\n",
       "          document.getElementsByTagName(\"head\")[0].appendChild(s);\n",
       "          s.async = true;\n",
       "          s.onload = () => {\n",
       "            VEGA_DEBUG[key] = version;\n",
       "            return resolve(paths[lib]);\n",
       "          };\n",
       "          s.onerror = () => reject(`Error loading script: ${paths[lib]}`);\n",
       "          s.src = paths[lib];\n",
       "        });\n",
       "    }\n",
       "\n",
       "    function showError(err) {\n",
       "      outputDiv.innerHTML = `<div class=\"error\" style=\"color:red;\">${err}</div>`;\n",
       "      throw err;\n",
       "    }\n",
       "\n",
       "    function displayChart(vegaEmbed) {\n",
       "      vegaEmbed(outputDiv, spec, embedOpt)\n",
       "        .catch(err => showError(`Javascript Error: ${err.message}<br>This usually means there's a typo in your chart specification. See the javascript console for the full traceback.`));\n",
       "    }\n",
       "\n",
       "    if(typeof define === \"function\" && define.amd) {\n",
       "      requirejs.config({paths});\n",
       "      require([\"vega-embed\"], displayChart, err => showError(`Error loading script: ${err.message}`));\n",
       "    } else {\n",
       "      maybeLoadScript(\"vega\", \"5\")\n",
       "        .then(() => maybeLoadScript(\"vega-lite\", \"5.17.0\"))\n",
       "        .then(() => maybeLoadScript(\"vega-embed\", \"6\"))\n",
       "        .catch(showError)\n",
       "        .then(() => displayChart(vegaEmbed));\n",
       "    }\n",
       "  })({\"config\": {\"view\": {\"continuousWidth\": 300, \"continuousHeight\": 300, \"discreteHeight\": 300, \"discreteWidth\": 400}, \"header\": {\"title\": null}, \"title\": {\"anchor\": \"middle\", \"offset\": 10}}, \"hconcat\": [{\"mark\": \"bar\", \"encoding\": {\"color\": {\"value\": \"green\"}, \"row\": {\"field\": \"comparison_name\", \"header\": {\"labelAlign\": \"left\", \"labelAnchor\": \"middle\", \"labelAngle\": 0}, \"sort\": {\"field\": \"comparison_sort_order\"}, \"type\": \"nominal\"}, \"tooltip\": [{\"field\": \"m_probability_description\", \"title\": \"m probability description\", \"type\": \"nominal\"}, {\"field\": \"comparison_name\", \"title\": \"Comparison column name\", \"type\": \"nominal\"}, {\"field\": \"label_for_charts\", \"title\": \"Label\", \"type\": \"ordinal\"}, {\"field\": \"sql_condition\", \"title\": \"SQL condition\", \"type\": \"nominal\"}, {\"field\": \"m_probability\", \"format\": \".4p\", \"title\": \"m probability\", \"type\": \"quantitative\"}, {\"field\": \"u_probability\", \"format\": \".4p\", \"title\": \"u probability\", \"type\": \"quantitative\"}, {\"field\": \"bayes_factor\", \"format\": \",.4f\", \"title\": \"Bayes factor = m/u\", \"type\": \"quantitative\"}, {\"field\": \"log2_bayes_factor\", \"format\": \",.4f\", \"title\": \"Match weight = log2(m/u)\", \"type\": \"quantitative\"}], \"x\": {\"axis\": {\"title\": \"Proportion of record comparisons\"}, \"field\": \"m_probability\", \"type\": \"quantitative\"}, \"y\": {\"axis\": {\"title\": null}, \"field\": \"label_for_charts\", \"sort\": {\"field\": \"comparison_vector_value\", \"order\": \"descending\"}, \"type\": \"nominal\"}}, \"height\": {\"step\": 12}, \"resolve\": {\"scale\": {\"y\": \"independent\"}}, \"title\": {\"text\": \"Amongst matching record comparisons:\", \"fontSize\": 12, \"fontWeight\": \"bold\"}, \"transform\": [{\"filter\": \"(datum.bayes_factor != 'no-op filter due to vega lite issue 4680')\"}], \"width\": 150}, {\"mark\": \"bar\", \"encoding\": {\"color\": {\"value\": \"red\"}, \"row\": {\"field\": \"comparison_name\", \"header\": {\"labels\": false}, \"sort\": {\"field\": \"comparison_sort_order\"}, \"type\": \"nominal\"}, \"tooltip\": [{\"field\": \"u_probability_description\", \"title\": \"u probability description\", \"type\": \"nominal\"}, {\"field\": \"comparison_name\", \"title\": \"Comparison column name\", \"type\": \"nominal\"}, {\"field\": \"label_for_charts\", \"title\": \"Label\", \"type\": \"ordinal\"}, {\"field\": \"sql_condition\", \"title\": \"SQL condition\", \"type\": \"nominal\"}, {\"field\": \"m_probability\", \"format\": \".4p\", \"title\": \"m probability\", \"type\": \"quantitative\"}, {\"field\": \"u_probability\", \"format\": \".4p\", \"title\": \"u probability\", \"type\": \"quantitative\"}, {\"field\": \"bayes_factor\", \"format\": \",.4f\", \"title\": \"Bayes factor = m/u\", \"type\": \"quantitative\"}, {\"field\": \"log2_bayes_factor\", \"format\": \",.4f\", \"title\": \"Match weight = log2(m/u)\", \"type\": \"quantitative\"}], \"x\": {\"axis\": {\"title\": \"Proportion of record comparisons\"}, \"field\": \"u_probability\", \"type\": \"quantitative\"}, \"y\": {\"axis\": {\"title\": null}, \"field\": \"label_for_charts\", \"sort\": {\"field\": \"comparison_vector_value\", \"order\": \"descending\"}, \"type\": \"nominal\"}}, \"height\": {\"step\": 12}, \"resolve\": {\"scale\": {\"y\": \"independent\"}}, \"title\": {\"text\": \"Amongst non-matching record comparisons:\", \"fontSize\": 12, \"fontWeight\": \"bold\"}, \"transform\": [{\"filter\": \"(datum.bayes_factor != 'no-op filter2 due to vega lite issue 4680')\"}], \"width\": 150}], \"data\": {\"name\": \"data-4cb6073ec52474ed19f53131a41f953a\"}, \"title\": {\"text\": \"Proportion of record comparisons in each comparison level by match status\", \"subtitle\": \"(m and u probabilities)\"}, \"$schema\": \"https://vega.github.io/schema/vega-lite/v5.9.3.json\", \"datasets\": {\"data-4cb6073ec52474ed19f53131a41f953a\": [{\"comparison_name\": \"first_name_15\", \"sql_condition\": \"\\\"first_name_15_l\\\" = \\\"first_name_15_r\\\"\", \"label_for_charts\": \"Exact match\", \"m_probability\": 0.95, \"u_probability\": 0.0019545817948697793, \"m_probability_description\": \"Amongst matching record comparisons, 95.00% of records are in the exact match comparison level\", \"u_probability_description\": \"Amongst non-matching record comparisons, 0.20% of records are in the exact match comparison level\", \"has_tf_adjustments\": false, \"tf_adjustment_column\": null, \"tf_adjustment_weight\": 1.0, \"is_null_level\": false, \"bayes_factor\": 486.03747486724757, \"log2_bayes_factor\": 8.924923743772052, \"comparison_vector_value\": 2, \"max_comparison_vector_value\": 2, \"bayes_factor_description\": \"If comparison level is `exact match` then comparison is 486.04 times more likely to be a match\", \"probability_two_random_records_match\": 1.4115990816180642e-05, \"comparison_sort_order\": 0}, {\"comparison_name\": \"first_name_15\", \"sql_condition\": \"jaro_winkler_similarity(\\\"first_name_15_l\\\", \\\"first_name_15_r\\\") >= 0.8333333333333334\", \"label_for_charts\": \"Jaro_winkler_similarity >= 0.8333333333333334\", \"m_probability\": 0.025000000000000022, \"u_probability\": 0.00346135405752317, \"m_probability_description\": \"Amongst matching record comparisons, 2.50% of records are in the jaro_winkler_similarity >= 0.8333333333333334 comparison level\", \"u_probability_description\": \"Amongst non-matching record comparisons, 0.35% of records are in the jaro_winkler_similarity >= 0.8333333333333334 comparison level\", \"has_tf_adjustments\": false, \"tf_adjustment_column\": null, \"tf_adjustment_weight\": 1.0, \"is_null_level\": false, \"bayes_factor\": 7.222606986899569, \"log2_bayes_factor\": 2.8525196692746633, \"comparison_vector_value\": 1, \"max_comparison_vector_value\": 2, \"bayes_factor_description\": \"If comparison level is `jaro_winkler_similarity >= 0.8333333333333334` then comparison is 7.22 times more likely to be a match\", \"probability_two_random_records_match\": 1.4115990816180642e-05, \"comparison_sort_order\": 0}, {\"comparison_name\": \"first_name_15\", \"sql_condition\": \"ELSE\", \"label_for_charts\": \"All other comparisons\", \"m_probability\": 0.025000000000000022, \"u_probability\": 0.994584064147607, \"m_probability_description\": \"Amongst matching record comparisons, 2.50% of records are in the all other comparisons comparison level\", \"u_probability_description\": \"Amongst non-matching record comparisons, 99.46% of records are in the all other comparisons comparison level\", \"has_tf_adjustments\": false, \"tf_adjustment_column\": null, \"tf_adjustment_weight\": 1.0, \"is_null_level\": false, \"bayes_factor\": 0.025136135698520252, \"log2_bayes_factor\": -5.314093315557119, \"comparison_vector_value\": 0, \"max_comparison_vector_value\": 2, \"bayes_factor_description\": \"If comparison level is `all other comparisons` then comparison is  39.78 times less likely to be a match\", \"probability_two_random_records_match\": 1.4115990816180642e-05, \"comparison_sort_order\": 0}, {\"comparison_name\": \"last_name_12\", \"sql_condition\": \"\\\"last_name_12_l\\\" = \\\"last_name_12_r\\\"\", \"label_for_charts\": \"Exact match\", \"m_probability\": 0.95, \"u_probability\": 0.0006599706231126029, \"m_probability_description\": \"Amongst matching record comparisons, 95.00% of records are in the exact match comparison level\", \"u_probability_description\": \"Amongst non-matching record comparisons, 0.07% of records are in the exact match comparison level\", \"has_tf_adjustments\": false, \"tf_adjustment_column\": null, \"tf_adjustment_weight\": 1.0, \"is_null_level\": false, \"bayes_factor\": 1439.4580102967898, \"log2_bayes_factor\": 10.491309990048235, \"comparison_vector_value\": 2, \"max_comparison_vector_value\": 2, \"bayes_factor_description\": \"If comparison level is `exact match` then comparison is 1,439.46 times more likely to be a match\", \"probability_two_random_records_match\": 1.4115990816180642e-05, \"comparison_sort_order\": 1}, {\"comparison_name\": \"last_name_12\", \"sql_condition\": \"jaro_winkler_similarity(\\\"last_name_12_l\\\", \\\"last_name_12_r\\\") >= 0.8333333333333334\", \"label_for_charts\": \"Jaro_winkler_similarity >= 0.8333333333333334\", \"m_probability\": 0.025000000000000022, \"u_probability\": 0.0013437257720127285, \"m_probability_description\": \"Amongst matching record comparisons, 2.50% of records are in the jaro_winkler_similarity >= 0.8333333333333334 comparison level\", \"u_probability_description\": \"Amongst non-matching record comparisons, 0.13% of records are in the jaro_winkler_similarity >= 0.8333333333333334 comparison level\", \"has_tf_adjustments\": false, \"tf_adjustment_column\": null, \"tf_adjustment_weight\": 1.0, \"is_null_level\": false, \"bayes_factor\": 18.60498661311916, \"log2_bayes_factor\": 4.217617447286358, \"comparison_vector_value\": 1, \"max_comparison_vector_value\": 2, \"bayes_factor_description\": \"If comparison level is `jaro_winkler_similarity >= 0.8333333333333334` then comparison is 18.60 times more likely to be a match\", \"probability_two_random_records_match\": 1.4115990816180642e-05, \"comparison_sort_order\": 1}, {\"comparison_name\": \"last_name_12\", \"sql_condition\": \"ELSE\", \"label_for_charts\": \"All other comparisons\", \"m_probability\": 0.025000000000000022, \"u_probability\": 0.9979963036048747, \"m_probability_description\": \"Amongst matching record comparisons, 2.50% of records are in the all other comparisons comparison level\", \"u_probability_description\": \"Amongst non-matching record comparisons, 99.80% of records are in the all other comparisons comparison level\", \"has_tf_adjustments\": false, \"tf_adjustment_column\": null, \"tf_adjustment_weight\": 1.0, \"is_null_level\": false, \"bayes_factor\": 0.025050192981373995, \"log2_bayes_factor\": -5.319034472094807, \"comparison_vector_value\": 0, \"max_comparison_vector_value\": 2, \"bayes_factor_description\": \"If comparison level is `all other comparisons` then comparison is  39.92 times less likely to be a match\", \"probability_two_random_records_match\": 1.4115990816180642e-05, \"comparison_sort_order\": 1}, {\"comparison_name\": \"middle_initial\", \"sql_condition\": \"\\\"middle_initial_l\\\" = \\\"middle_initial_r\\\"\", \"label_for_charts\": \"Exact match\", \"m_probability\": 0.95, \"u_probability\": 0.07356305686300955, \"m_probability_description\": \"Amongst matching record comparisons, 95.00% of records are in the exact match comparison level\", \"u_probability_description\": \"Amongst non-matching record comparisons, 7.36% of records are in the exact match comparison level\", \"has_tf_adjustments\": false, \"tf_adjustment_column\": null, \"tf_adjustment_weight\": 1.0, \"is_null_level\": false, \"bayes_factor\": 12.914090856353441, \"log2_bayes_factor\": 3.6908741771200653, \"comparison_vector_value\": 1, \"max_comparison_vector_value\": 1, \"bayes_factor_description\": \"If comparison level is `exact match` then comparison is 12.91 times more likely to be a match\", \"probability_two_random_records_match\": 1.4115990816180642e-05, \"comparison_sort_order\": 2}, {\"comparison_name\": \"middle_initial\", \"sql_condition\": \"ELSE\", \"label_for_charts\": \"All other comparisons\", \"m_probability\": 0.050000000000000044, \"u_probability\": 0.9264369431369904, \"m_probability_description\": \"Amongst matching record comparisons, 5.00% of records are in the all other comparisons comparison level\", \"u_probability_description\": \"Amongst non-matching record comparisons, 92.64% of records are in the all other comparisons comparison level\", \"has_tf_adjustments\": false, \"tf_adjustment_column\": null, \"tf_adjustment_weight\": 1.0, \"is_null_level\": false, \"bayes_factor\": 0.05397021391514894, \"log2_bayes_factor\": -4.211692784218612, \"comparison_vector_value\": 0, \"max_comparison_vector_value\": 1, \"bayes_factor_description\": \"If comparison level is `all other comparisons` then comparison is  18.53 times less likely to be a match\", \"probability_two_random_records_match\": 1.4115990816180642e-05, \"comparison_sort_order\": 2}, {\"comparison_name\": \"day_of_birth\", \"sql_condition\": \"\\\"day_of_birth_l\\\" = \\\"day_of_birth_r\\\"\", \"label_for_charts\": \"Exact match\", \"m_probability\": 0.95, \"u_probability\": 0.032464174125328385, \"m_probability_description\": \"Amongst matching record comparisons, 95.00% of records are in the exact match comparison level\", \"u_probability_description\": \"Amongst non-matching record comparisons, 3.25% of records are in the exact match comparison level\", \"has_tf_adjustments\": false, \"tf_adjustment_column\": null, \"tf_adjustment_weight\": 1.0, \"is_null_level\": false, \"bayes_factor\": 29.263026877952047, \"log2_bayes_factor\": 4.871007100042354, \"comparison_vector_value\": 2, \"max_comparison_vector_value\": 2, \"bayes_factor_description\": \"If comparison level is `exact match` then comparison is 29.26 times more likely to be a match\", \"probability_two_random_records_match\": 1.4115990816180642e-05, \"comparison_sort_order\": 3}, {\"comparison_name\": \"day_of_birth\", \"sql_condition\": \"abs(day_of_birth_l - day_of_birth_r) <= 5\", \"label_for_charts\": \"Inexact match\", \"m_probability\": 0.025000000000000022, \"u_probability\": 0.2965057730184639, \"m_probability_description\": \"Amongst matching record comparisons, 2.50% of records are in the inexact match comparison level\", \"u_probability_description\": \"Amongst non-matching record comparisons, 29.65% of records are in the inexact match comparison level\", \"has_tf_adjustments\": false, \"tf_adjustment_column\": null, \"tf_adjustment_weight\": 1.0, \"is_null_level\": false, \"bayes_factor\": 0.08431539037333761, \"log2_bayes_factor\": -3.5680601945656374, \"comparison_vector_value\": 1, \"max_comparison_vector_value\": 2, \"bayes_factor_description\": \"If comparison level is `inexact match` then comparison is  11.86 times less likely to be a match\", \"probability_two_random_records_match\": 1.4115990816180642e-05, \"comparison_sort_order\": 3}, {\"comparison_name\": \"day_of_birth\", \"sql_condition\": \"ELSE\", \"label_for_charts\": \"All other comparisons\", \"m_probability\": 0.025000000000000022, \"u_probability\": 0.6710300528562076, \"m_probability_description\": \"Amongst matching record comparisons, 2.50% of records are in the all other comparisons comparison level\", \"u_probability_description\": \"Amongst non-matching record comparisons, 67.10% of records are in the all other comparisons comparison level\", \"has_tf_adjustments\": false, \"tf_adjustment_column\": null, \"tf_adjustment_weight\": 1.0, \"is_null_level\": false, \"bayes_factor\": 0.03725615550836912, \"log2_bayes_factor\": -4.746377380636638, \"comparison_vector_value\": 0, \"max_comparison_vector_value\": 2, \"bayes_factor_description\": \"If comparison level is `all other comparisons` then comparison is  26.84 times less likely to be a match\", \"probability_two_random_records_match\": 1.4115990816180642e-05, \"comparison_sort_order\": 3}, {\"comparison_name\": \"month_of_birth\", \"sql_condition\": \"\\\"month_of_birth_l\\\" = \\\"month_of_birth_r\\\"\", \"label_for_charts\": \"Exact match\", \"m_probability\": 0.95, \"u_probability\": 0.08358610359130632, \"m_probability_description\": \"Amongst matching record comparisons, 95.00% of records are in the exact match comparison level\", \"u_probability_description\": \"Amongst non-matching record comparisons, 8.36% of records are in the exact match comparison level\", \"has_tf_adjustments\": false, \"tf_adjustment_column\": null, \"tf_adjustment_weight\": 1.0, \"is_null_level\": false, \"bayes_factor\": 11.365525597951287, \"log2_bayes_factor\": 3.506592497918997, \"comparison_vector_value\": 2, \"max_comparison_vector_value\": 2, \"bayes_factor_description\": \"If comparison level is `exact match` then comparison is 11.37 times more likely to be a match\", \"probability_two_random_records_match\": 1.4115990816180642e-05, \"comparison_sort_order\": 4}, {\"comparison_name\": \"month_of_birth\", \"sql_condition\": \"abs(month_of_birth_l - month_of_birth_r) <= 3\", \"label_for_charts\": \"Inexact match\", \"m_probability\": 0.025000000000000022, \"u_probability\": 0.419960264938525, \"m_probability_description\": \"Amongst matching record comparisons, 2.50% of records are in the inexact match comparison level\", \"u_probability_description\": \"Amongst non-matching record comparisons, 42.00% of records are in the inexact match comparison level\", \"has_tf_adjustments\": false, \"tf_adjustment_column\": null, \"tf_adjustment_weight\": 1.0, \"is_null_level\": false, \"bayes_factor\": 0.059529441442893634, \"log2_bayes_factor\": -4.070252831967542, \"comparison_vector_value\": 1, \"max_comparison_vector_value\": 2, \"bayes_factor_description\": \"If comparison level is `inexact match` then comparison is  16.80 times less likely to be a match\", \"probability_two_random_records_match\": 1.4115990816180642e-05, \"comparison_sort_order\": 4}, {\"comparison_name\": \"month_of_birth\", \"sql_condition\": \"ELSE\", \"label_for_charts\": \"All other comparisons\", \"m_probability\": 0.025000000000000022, \"u_probability\": 0.4964536314701687, \"m_probability_description\": \"Amongst matching record comparisons, 2.50% of records are in the all other comparisons comparison level\", \"u_probability_description\": \"Amongst non-matching record comparisons, 49.65% of records are in the all other comparisons comparison level\", \"has_tf_adjustments\": false, \"tf_adjustment_column\": null, \"tf_adjustment_weight\": 1.0, \"is_null_level\": false, \"bayes_factor\": 0.05035717016706372, \"log2_bayes_factor\": -4.311658977024636, \"comparison_vector_value\": 0, \"max_comparison_vector_value\": 2, \"bayes_factor_description\": \"If comparison level is `all other comparisons` then comparison is  19.86 times less likely to be a match\", \"probability_two_random_records_match\": 1.4115990816180642e-05, \"comparison_sort_order\": 4}, {\"comparison_name\": \"year_of_birth\", \"sql_condition\": \"\\\"year_of_birth_l\\\" = \\\"year_of_birth_r\\\"\", \"label_for_charts\": \"Exact match\", \"m_probability\": 0.95, \"u_probability\": 0.010988145230220372, \"m_probability_description\": \"Amongst matching record comparisons, 95.00% of records are in the exact match comparison level\", \"u_probability_description\": \"Amongst non-matching record comparisons, 1.10% of records are in the exact match comparison level\", \"has_tf_adjustments\": false, \"tf_adjustment_column\": null, \"tf_adjustment_weight\": 1.0, \"is_null_level\": false, \"bayes_factor\": 86.45681141774892, \"log2_bayes_factor\": 6.433907724590664, \"comparison_vector_value\": 2, \"max_comparison_vector_value\": 2, \"bayes_factor_description\": \"If comparison level is `exact match` then comparison is 86.46 times more likely to be a match\", \"probability_two_random_records_match\": 1.4115990816180642e-05, \"comparison_sort_order\": 5}, {\"comparison_name\": \"year_of_birth\", \"sql_condition\": \"abs(year_of_birth_l - year_of_birth_r) <= 5\", \"label_for_charts\": \"Inexact match\", \"m_probability\": 0.025000000000000022, \"u_probability\": 0.10851628136997345, \"m_probability_description\": \"Amongst matching record comparisons, 2.50% of records are in the inexact match comparison level\", \"u_probability_description\": \"Amongst non-matching record comparisons, 10.85% of records are in the inexact match comparison level\", \"has_tf_adjustments\": false, \"tf_adjustment_column\": null, \"tf_adjustment_weight\": 1.0, \"is_null_level\": false, \"bayes_factor\": 0.23038017599189078, \"log2_bayes_factor\": -2.117911515384292, \"comparison_vector_value\": 1, \"max_comparison_vector_value\": 2, \"bayes_factor_description\": \"If comparison level is `inexact match` then comparison is  4.34 times less likely to be a match\", \"probability_two_random_records_match\": 1.4115990816180642e-05, \"comparison_sort_order\": 5}, {\"comparison_name\": \"year_of_birth\", \"sql_condition\": \"ELSE\", \"label_for_charts\": \"All other comparisons\", \"m_probability\": 0.025000000000000022, \"u_probability\": 0.8804955733998062, \"m_probability_description\": \"Amongst matching record comparisons, 2.50% of records are in the all other comparisons comparison level\", \"u_probability_description\": \"Amongst non-matching record comparisons, 88.05% of records are in the all other comparisons comparison level\", \"has_tf_adjustments\": false, \"tf_adjustment_column\": null, \"tf_adjustment_weight\": 1.0, \"is_null_level\": false, \"bayes_factor\": 0.02839310128893548, \"log2_bayes_factor\": -5.138315751074994, \"comparison_vector_value\": 0, \"max_comparison_vector_value\": 2, \"bayes_factor_description\": \"If comparison level is `all other comparisons` then comparison is  35.22 times less likely to be a match\", \"probability_two_random_records_match\": 1.4115990816180642e-05, \"comparison_sort_order\": 5}, {\"comparison_name\": \"geokey\", \"sql_condition\": \"\\\"geokey_l\\\" = \\\"geokey_r\\\"\", \"label_for_charts\": \"Exact match\", \"m_probability\": 0.95, \"u_probability\": 0.0019196584849132347, \"m_probability_description\": \"Amongst matching record comparisons, 95.00% of records are in the exact match comparison level\", \"u_probability_description\": \"Amongst non-matching record comparisons, 0.19% of records are in the exact match comparison level\", \"has_tf_adjustments\": false, \"tf_adjustment_column\": null, \"tf_adjustment_weight\": 1.0, \"is_null_level\": false, \"bayes_factor\": 494.87969212551803, \"log2_bayes_factor\": 8.950934030785591, \"comparison_vector_value\": 2, \"max_comparison_vector_value\": 2, \"bayes_factor_description\": \"If comparison level is `exact match` then comparison is 494.88 times more likely to be a match\", \"probability_two_random_records_match\": 1.4115990816180642e-05, \"comparison_sort_order\": 6}, {\"comparison_name\": \"geokey\", \"sql_condition\": \"jaro_winkler_similarity(\\\"geokey_l\\\", \\\"geokey_r\\\") >= 0.7222222222222222\", \"label_for_charts\": \"Jaro_winkler_similarity >= 0.7222222222222222\", \"m_probability\": 0.025000000000000022, \"u_probability\": 0.3870547506148817, \"m_probability_description\": \"Amongst matching record comparisons, 2.50% of records are in the jaro_winkler_similarity >= 0.7222222222222222 comparison level\", \"u_probability_description\": \"Amongst non-matching record comparisons, 38.71% of records are in the jaro_winkler_similarity >= 0.7222222222222222 comparison level\", \"has_tf_adjustments\": false, \"tf_adjustment_column\": null, \"tf_adjustment_weight\": 1.0, \"is_null_level\": false, \"bayes_factor\": 0.06459034532009904, \"log2_bayes_factor\": -3.95253765643087, \"comparison_vector_value\": 1, \"max_comparison_vector_value\": 2, \"bayes_factor_description\": \"If comparison level is `jaro_winkler_similarity >= 0.7222222222222222` then comparison is  15.48 times less likely to be a match\", \"probability_two_random_records_match\": 1.4115990816180642e-05, \"comparison_sort_order\": 6}, {\"comparison_name\": \"geokey\", \"sql_condition\": \"ELSE\", \"label_for_charts\": \"All other comparisons\", \"m_probability\": 0.025000000000000022, \"u_probability\": 0.611025590900205, \"m_probability_description\": \"Amongst matching record comparisons, 2.50% of records are in the all other comparisons comparison level\", \"u_probability_description\": \"Amongst non-matching record comparisons, 61.10% of records are in the all other comparisons comparison level\", \"has_tf_adjustments\": false, \"tf_adjustment_column\": null, \"tf_adjustment_weight\": 1.0, \"is_null_level\": false, \"bayes_factor\": 0.04091481661703939, \"log2_bayes_factor\": -4.6112328040892905, \"comparison_vector_value\": 0, \"max_comparison_vector_value\": 2, \"bayes_factor_description\": \"If comparison level is `all other comparisons` then comparison is  24.44 times less likely to be a match\", \"probability_two_random_records_match\": 1.4115990816180642e-05, \"comparison_sort_order\": 6}]}}, {\"mode\": \"vega-lite\"});\n",
       "</script>"
      ],
      "text/plain": [
       "alt.HConcatChart(...)"
      ]
     },
     "execution_count": 50,
     "metadata": {},
     "output_type": "execute_result"
    }
   ],
   "source": [
    "# Ignore the green bars on the left, these are the m probabilities that haven't been estimated yet\n",
    "linker.m_u_parameters_chart()"
   ]
  },
  {
   "cell_type": "markdown",
   "id": "2f66f6a2-28de-41a1-8c99-e8bda2dfb3e4",
   "metadata": {
    "papermill": {
     "duration": 0.02006,
     "end_time": "2024-06-01T00:28:49.404864",
     "exception": false,
     "start_time": "2024-06-01T00:28:49.384804",
     "status": "completed"
    },
    "tags": []
   },
   "source": [
    "#### Estimate m probabilities\n",
    "\n",
    "The EM algorithm implemented in Splink can be used to estimate all the parameters at once.\n",
    "However, I've found this to be extremely unstable, and the lambda and u estimates I've made\n",
    "above much better than what happens when I allow EM to mess with them.\n",
    "\n",
    "These EM session blocking rules are the result of **lots** of trial and error.\n",
    "I consistently had problems with the EM algorithm deciding that first names\n",
    "were completely wrong (\"All other comparisons\") almost as often as they were\n",
    "right.\n",
    "I can think of two reasons this might be happening:\n",
    "- The EM algorithm is just looking for two coherent clusters, and the assumption is that these\n",
    "  clusters correspond to matches and non-matches.\n",
    "  But in real life, and in our simulated data, matches and non-matches are not homogenous.\n",
    "  In particular, people who are in the same family live together and tend to share a last name,\n",
    "  and this could have been the cluster EM was finding instead of finding the exact same person.\n",
    "- Conditional independence is grossly violated by some of our columns, especially the address parts\n",
    "  and the DOB parts. This could be causing some pathological behavior.\n",
    "\n",
    "Using the EM approach below, I have at least obtained reasonable-looking m and u probabilities."
   ]
  },
  {
   "cell_type": "code",
   "execution_count": 51,
   "id": "d117b633-fc81-4fe6-ba1d-2d9d5a6e1b32",
   "metadata": {
    "execution": {
     "iopub.execute_input": "2024-06-01T00:28:49.447252Z",
     "iopub.status.busy": "2024-06-01T00:28:49.446468Z",
     "iopub.status.idle": "2024-06-01T00:28:52.066757Z",
     "shell.execute_reply": "2024-06-01T00:28:52.066072Z"
    },
    "papermill": {
     "duration": 2.646026,
     "end_time": "2024-06-01T00:28:52.070307",
     "exception": false,
     "start_time": "2024-06-01T00:28:49.424281",
     "status": "completed"
    },
    "tags": []
   },
   "outputs": [
    {
     "name": "stderr",
     "output_type": "stream",
     "text": [
      "\n",
      "----- Starting EM training session -----\n",
      "\n"
     ]
    },
    {
     "name": "stderr",
     "output_type": "stream",
     "text": [
      "Estimating the m probabilities of the model by blocking on:\n",
      "l.first_name_15 = r.first_name_15 and l.zipcode = r.zipcode\n",
      "\n",
      "Parameter estimates will be made for the following comparison(s):\n",
      "    - last_name_12\n",
      "    - middle_initial\n",
      "    - day_of_birth\n",
      "    - month_of_birth\n",
      "    - year_of_birth\n",
      "    - geokey\n",
      "\n",
      "Parameter estimates cannot be made for the following comparison(s) since they are used in the blocking rules: \n",
      "    - first_name_15\n"
     ]
    },
    {
     "name": "stderr",
     "output_type": "stream",
     "text": [
      "\n"
     ]
    },
    {
     "name": "stderr",
     "output_type": "stream",
     "text": [
      "Iteration 1: Largest change in params was -0.483 in the m_probability of geokey, level `Exact match`\n"
     ]
    },
    {
     "name": "stderr",
     "output_type": "stream",
     "text": [
      "Iteration 2: Largest change in params was -0.0138 in the m_probability of geokey, level `Exact match`\n"
     ]
    },
    {
     "name": "stderr",
     "output_type": "stream",
     "text": [
      "Iteration 3: Largest change in params was -0.000623 in the m_probability of last_name_12, level `Exact match`\n"
     ]
    },
    {
     "name": "stderr",
     "output_type": "stream",
     "text": [
      "Iteration 4: Largest change in params was 0.000172 in the m_probability of day_of_birth, level `Exact match`\n"
     ]
    },
    {
     "name": "stderr",
     "output_type": "stream",
     "text": [
      "Iteration 5: Largest change in params was 5.1e-05 in the m_probability of day_of_birth, level `Exact match`\n"
     ]
    },
    {
     "name": "stderr",
     "output_type": "stream",
     "text": [
      "\n",
      "EM converged after 5 iterations\n"
     ]
    },
    {
     "name": "stderr",
     "output_type": "stream",
     "text": [
      "\n",
      "Your model is not yet fully trained. Missing estimates for:\n",
      "    - first_name_15 (no m values are trained).\n"
     ]
    }
   ],
   "source": [
    "blocking_rule_for_training = (\n",
    "    \"l.first_name_15 = r.first_name_15 and l.zipcode = r.zipcode\"\n",
    ")\n",
    "em_session_1 = linker.estimate_parameters_using_expectation_maximisation(\n",
    "    blocking_rule_for_training,\n",
    "    # Fix lambda; u is fixed by default\n",
    "    fix_probability_two_random_records_match=True,\n",
    ")"
   ]
  },
  {
   "cell_type": "code",
   "execution_count": 52,
   "id": "7cc3f56f-eb87-4673-bcc4-fe2269e54db3",
   "metadata": {
    "execution": {
     "iopub.execute_input": "2024-06-01T00:28:52.119109Z",
     "iopub.status.busy": "2024-06-01T00:28:52.118357Z",
     "iopub.status.idle": "2024-06-01T00:28:52.323616Z",
     "shell.execute_reply": "2024-06-01T00:28:52.322538Z"
    },
    "papermill": {
     "duration": 0.233576,
     "end_time": "2024-06-01T00:28:52.329892",
     "exception": false,
     "start_time": "2024-06-01T00:28:52.096316",
     "status": "completed"
    },
    "tags": []
   },
   "outputs": [
    {
     "data": {
      "text/html": [
       "\n",
       "<style>\n",
       "  #altair-viz-c7a19f65794e4df3bd6de48b116ce8f8.vega-embed {\n",
       "    width: 100%;\n",
       "    display: flex;\n",
       "  }\n",
       "\n",
       "  #altair-viz-c7a19f65794e4df3bd6de48b116ce8f8.vega-embed details,\n",
       "  #altair-viz-c7a19f65794e4df3bd6de48b116ce8f8.vega-embed details summary {\n",
       "    position: relative;\n",
       "  }\n",
       "</style>\n",
       "<div id=\"altair-viz-c7a19f65794e4df3bd6de48b116ce8f8\"></div>\n",
       "<script type=\"text/javascript\">\n",
       "  var VEGA_DEBUG = (typeof VEGA_DEBUG == \"undefined\") ? {} : VEGA_DEBUG;\n",
       "  (function(spec, embedOpt){\n",
       "    let outputDiv = document.currentScript.previousElementSibling;\n",
       "    if (outputDiv.id !== \"altair-viz-c7a19f65794e4df3bd6de48b116ce8f8\") {\n",
       "      outputDiv = document.getElementById(\"altair-viz-c7a19f65794e4df3bd6de48b116ce8f8\");\n",
       "    }\n",
       "    const paths = {\n",
       "      \"vega\": \"https://cdn.jsdelivr.net/npm/vega@5?noext\",\n",
       "      \"vega-lib\": \"https://cdn.jsdelivr.net/npm/vega-lib?noext\",\n",
       "      \"vega-lite\": \"https://cdn.jsdelivr.net/npm/vega-lite@5.17.0?noext\",\n",
       "      \"vega-embed\": \"https://cdn.jsdelivr.net/npm/vega-embed@6?noext\",\n",
       "    };\n",
       "\n",
       "    function maybeLoadScript(lib, version) {\n",
       "      var key = `${lib.replace(\"-\", \"\")}_version`;\n",
       "      return (VEGA_DEBUG[key] == version) ?\n",
       "        Promise.resolve(paths[lib]) :\n",
       "        new Promise(function(resolve, reject) {\n",
       "          var s = document.createElement('script');\n",
       "          document.getElementsByTagName(\"head\")[0].appendChild(s);\n",
       "          s.async = true;\n",
       "          s.onload = () => {\n",
       "            VEGA_DEBUG[key] = version;\n",
       "            return resolve(paths[lib]);\n",
       "          };\n",
       "          s.onerror = () => reject(`Error loading script: ${paths[lib]}`);\n",
       "          s.src = paths[lib];\n",
       "        });\n",
       "    }\n",
       "\n",
       "    function showError(err) {\n",
       "      outputDiv.innerHTML = `<div class=\"error\" style=\"color:red;\">${err}</div>`;\n",
       "      throw err;\n",
       "    }\n",
       "\n",
       "    function displayChart(vegaEmbed) {\n",
       "      vegaEmbed(outputDiv, spec, embedOpt)\n",
       "        .catch(err => showError(`Javascript Error: ${err.message}<br>This usually means there's a typo in your chart specification. See the javascript console for the full traceback.`));\n",
       "    }\n",
       "\n",
       "    if(typeof define === \"function\" && define.amd) {\n",
       "      requirejs.config({paths});\n",
       "      require([\"vega-embed\"], displayChart, err => showError(`Error loading script: ${err.message}`));\n",
       "    } else {\n",
       "      maybeLoadScript(\"vega\", \"5\")\n",
       "        .then(() => maybeLoadScript(\"vega-lite\", \"5.17.0\"))\n",
       "        .then(() => maybeLoadScript(\"vega-embed\", \"6\"))\n",
       "        .catch(showError)\n",
       "        .then(() => displayChart(vegaEmbed));\n",
       "    }\n",
       "  })({\"config\": {\"view\": {\"continuousWidth\": 300, \"continuousHeight\": 300, \"discreteHeight\": 300, \"discreteWidth\": 400}, \"header\": {\"title\": null}, \"title\": {\"anchor\": \"middle\", \"offset\": 10}}, \"hconcat\": [{\"mark\": \"bar\", \"encoding\": {\"color\": {\"value\": \"green\"}, \"row\": {\"field\": \"comparison_name\", \"header\": {\"labelAlign\": \"left\", \"labelAnchor\": \"middle\", \"labelAngle\": 0}, \"sort\": {\"field\": \"comparison_sort_order\"}, \"type\": \"nominal\"}, \"tooltip\": [{\"field\": \"m_probability_description\", \"title\": \"m probability description\", \"type\": \"nominal\"}, {\"field\": \"comparison_name\", \"title\": \"Comparison column name\", \"type\": \"nominal\"}, {\"field\": \"label_for_charts\", \"title\": \"Label\", \"type\": \"ordinal\"}, {\"field\": \"sql_condition\", \"title\": \"SQL condition\", \"type\": \"nominal\"}, {\"field\": \"m_probability\", \"format\": \".4p\", \"title\": \"m probability\", \"type\": \"quantitative\"}, {\"field\": \"u_probability\", \"format\": \".4p\", \"title\": \"u probability\", \"type\": \"quantitative\"}, {\"field\": \"bayes_factor\", \"format\": \",.4f\", \"title\": \"Bayes factor = m/u\", \"type\": \"quantitative\"}, {\"field\": \"log2_bayes_factor\", \"format\": \",.4f\", \"title\": \"Match weight = log2(m/u)\", \"type\": \"quantitative\"}], \"x\": {\"axis\": {\"title\": \"Proportion of record comparisons\"}, \"field\": \"m_probability\", \"type\": \"quantitative\"}, \"y\": {\"axis\": {\"title\": null}, \"field\": \"label_for_charts\", \"sort\": {\"field\": \"comparison_vector_value\", \"order\": \"descending\"}, \"type\": \"nominal\"}}, \"height\": {\"step\": 12}, \"resolve\": {\"scale\": {\"y\": \"independent\"}}, \"title\": {\"text\": \"Amongst matching record comparisons:\", \"fontSize\": 12, \"fontWeight\": \"bold\"}, \"transform\": [{\"filter\": \"(datum.bayes_factor != 'no-op filter due to vega lite issue 4680')\"}], \"width\": 150}, {\"mark\": \"bar\", \"encoding\": {\"color\": {\"value\": \"red\"}, \"row\": {\"field\": \"comparison_name\", \"header\": {\"labels\": false}, \"sort\": {\"field\": \"comparison_sort_order\"}, \"type\": \"nominal\"}, \"tooltip\": [{\"field\": \"u_probability_description\", \"title\": \"u probability description\", \"type\": \"nominal\"}, {\"field\": \"comparison_name\", \"title\": \"Comparison column name\", \"type\": \"nominal\"}, {\"field\": \"label_for_charts\", \"title\": \"Label\", \"type\": \"ordinal\"}, {\"field\": \"sql_condition\", \"title\": \"SQL condition\", \"type\": \"nominal\"}, {\"field\": \"m_probability\", \"format\": \".4p\", \"title\": \"m probability\", \"type\": \"quantitative\"}, {\"field\": \"u_probability\", \"format\": \".4p\", \"title\": \"u probability\", \"type\": \"quantitative\"}, {\"field\": \"bayes_factor\", \"format\": \",.4f\", \"title\": \"Bayes factor = m/u\", \"type\": \"quantitative\"}, {\"field\": \"log2_bayes_factor\", \"format\": \",.4f\", \"title\": \"Match weight = log2(m/u)\", \"type\": \"quantitative\"}], \"x\": {\"axis\": {\"title\": \"Proportion of record comparisons\"}, \"field\": \"u_probability\", \"type\": \"quantitative\"}, \"y\": {\"axis\": {\"title\": null}, \"field\": \"label_for_charts\", \"sort\": {\"field\": \"comparison_vector_value\", \"order\": \"descending\"}, \"type\": \"nominal\"}}, \"height\": {\"step\": 12}, \"resolve\": {\"scale\": {\"y\": \"independent\"}}, \"title\": {\"text\": \"Amongst non-matching record comparisons:\", \"fontSize\": 12, \"fontWeight\": \"bold\"}, \"transform\": [{\"filter\": \"(datum.bayes_factor != 'no-op filter2 due to vega lite issue 4680')\"}], \"width\": 150}], \"data\": {\"name\": \"data-076267d6b98ae6df3d2ac226cd1425e2\"}, \"params\": [{\"name\": \"iteration_number\", \"bind\": {\"input\": \"range\", \"max\": 5, \"min\": 0, \"step\": 1}, \"value\": 5}], \"title\": {\"text\": \"Proportion of record comparisons in each comparison level by match status\", \"subtitle\": \"(m and u probabilities)\"}, \"transform\": [{\"filter\": \"(datum.iteration == iteration_number)\"}], \"$schema\": \"https://vega.github.io/schema/vega-lite/v5.9.3.json\", \"datasets\": {\"data-076267d6b98ae6df3d2ac226cd1425e2\": [{\"comparison_name\": \"last_name_12\", \"sql_condition\": \"\\\"last_name_12_l\\\" = \\\"last_name_12_r\\\"\", \"label_for_charts\": \"Exact match\", \"m_probability\": 0.95, \"u_probability\": 0.0006599706231126029, \"m_probability_description\": \"Amongst matching record comparisons, 95.00% of records are in the exact match comparison level\", \"u_probability_description\": \"Amongst non-matching record comparisons, 0.07% of records are in the exact match comparison level\", \"has_tf_adjustments\": false, \"tf_adjustment_column\": null, \"tf_adjustment_weight\": 1.0, \"is_null_level\": false, \"bayes_factor\": 1439.4580102967898, \"log2_bayes_factor\": 10.491309990048235, \"comparison_vector_value\": 2, \"max_comparison_vector_value\": 2, \"bayes_factor_description\": \"If comparison level is `exact match` then comparison is 1,439.46 times more likely to be a match\", \"probability_two_random_records_match\": 0.006814244865146268, \"comparison_sort_order\": 0, \"iteration\": 0}, {\"comparison_name\": \"last_name_12\", \"sql_condition\": \"jaro_winkler_similarity(\\\"last_name_12_l\\\", \\\"last_name_12_r\\\") >= 0.8333333333333334\", \"label_for_charts\": \"Jaro_winkler_similarity >= 0.8333333333333334\", \"m_probability\": 0.025000000000000022, \"u_probability\": 0.0013437257720127285, \"m_probability_description\": \"Amongst matching record comparisons, 2.50% of records are in the jaro_winkler_similarity >= 0.8333333333333334 comparison level\", \"u_probability_description\": \"Amongst non-matching record comparisons, 0.13% of records are in the jaro_winkler_similarity >= 0.8333333333333334 comparison level\", \"has_tf_adjustments\": false, \"tf_adjustment_column\": null, \"tf_adjustment_weight\": 1.0, \"is_null_level\": false, \"bayes_factor\": 18.60498661311916, \"log2_bayes_factor\": 4.217617447286358, \"comparison_vector_value\": 1, \"max_comparison_vector_value\": 2, \"bayes_factor_description\": \"If comparison level is `jaro_winkler_similarity >= 0.8333333333333334` then comparison is 18.60 times more likely to be a match\", \"probability_two_random_records_match\": 0.006814244865146268, \"comparison_sort_order\": 0, \"iteration\": 0}, {\"comparison_name\": \"last_name_12\", \"sql_condition\": \"ELSE\", \"label_for_charts\": \"All other comparisons\", \"m_probability\": 0.025000000000000022, \"u_probability\": 0.9979963036048747, \"m_probability_description\": \"Amongst matching record comparisons, 2.50% of records are in the all other comparisons comparison level\", \"u_probability_description\": \"Amongst non-matching record comparisons, 99.80% of records are in the all other comparisons comparison level\", \"has_tf_adjustments\": false, \"tf_adjustment_column\": null, \"tf_adjustment_weight\": 1.0, \"is_null_level\": false, \"bayes_factor\": 0.025050192981373995, \"log2_bayes_factor\": -5.319034472094807, \"comparison_vector_value\": 0, \"max_comparison_vector_value\": 2, \"bayes_factor_description\": \"If comparison level is `all other comparisons` then comparison is  39.92 times less likely to be a match\", \"probability_two_random_records_match\": 0.006814244865146268, \"comparison_sort_order\": 0, \"iteration\": 0}, {\"comparison_name\": \"middle_initial\", \"sql_condition\": \"\\\"middle_initial_l\\\" = \\\"middle_initial_r\\\"\", \"label_for_charts\": \"Exact match\", \"m_probability\": 0.95, \"u_probability\": 0.07356305686300955, \"m_probability_description\": \"Amongst matching record comparisons, 95.00% of records are in the exact match comparison level\", \"u_probability_description\": \"Amongst non-matching record comparisons, 7.36% of records are in the exact match comparison level\", \"has_tf_adjustments\": false, \"tf_adjustment_column\": null, \"tf_adjustment_weight\": 1.0, \"is_null_level\": false, \"bayes_factor\": 12.914090856353441, \"log2_bayes_factor\": 3.6908741771200653, \"comparison_vector_value\": 1, \"max_comparison_vector_value\": 1, \"bayes_factor_description\": \"If comparison level is `exact match` then comparison is 12.91 times more likely to be a match\", \"probability_two_random_records_match\": 0.006814244865146268, \"comparison_sort_order\": 1, \"iteration\": 0}, {\"comparison_name\": \"middle_initial\", \"sql_condition\": \"ELSE\", \"label_for_charts\": \"All other comparisons\", \"m_probability\": 0.050000000000000044, \"u_probability\": 0.9264369431369904, \"m_probability_description\": \"Amongst matching record comparisons, 5.00% of records are in the all other comparisons comparison level\", \"u_probability_description\": \"Amongst non-matching record comparisons, 92.64% of records are in the all other comparisons comparison level\", \"has_tf_adjustments\": false, \"tf_adjustment_column\": null, \"tf_adjustment_weight\": 1.0, \"is_null_level\": false, \"bayes_factor\": 0.05397021391514894, \"log2_bayes_factor\": -4.211692784218612, \"comparison_vector_value\": 0, \"max_comparison_vector_value\": 1, \"bayes_factor_description\": \"If comparison level is `all other comparisons` then comparison is  18.53 times less likely to be a match\", \"probability_two_random_records_match\": 0.006814244865146268, \"comparison_sort_order\": 1, \"iteration\": 0}, {\"comparison_name\": \"day_of_birth\", \"sql_condition\": \"\\\"day_of_birth_l\\\" = \\\"day_of_birth_r\\\"\", \"label_for_charts\": \"Exact match\", \"m_probability\": 0.95, \"u_probability\": 0.032464174125328385, \"m_probability_description\": \"Amongst matching record comparisons, 95.00% of records are in the exact match comparison level\", \"u_probability_description\": \"Amongst non-matching record comparisons, 3.25% of records are in the exact match comparison level\", \"has_tf_adjustments\": false, \"tf_adjustment_column\": null, \"tf_adjustment_weight\": 1.0, \"is_null_level\": false, \"bayes_factor\": 29.263026877952047, \"log2_bayes_factor\": 4.871007100042354, \"comparison_vector_value\": 2, \"max_comparison_vector_value\": 2, \"bayes_factor_description\": \"If comparison level is `exact match` then comparison is 29.26 times more likely to be a match\", \"probability_two_random_records_match\": 0.006814244865146268, \"comparison_sort_order\": 2, \"iteration\": 0}, {\"comparison_name\": \"day_of_birth\", \"sql_condition\": \"abs(day_of_birth_l - day_of_birth_r) <= 5\", \"label_for_charts\": \"Inexact match\", \"m_probability\": 0.025000000000000022, \"u_probability\": 0.2965057730184639, \"m_probability_description\": \"Amongst matching record comparisons, 2.50% of records are in the inexact match comparison level\", \"u_probability_description\": \"Amongst non-matching record comparisons, 29.65% of records are in the inexact match comparison level\", \"has_tf_adjustments\": false, \"tf_adjustment_column\": null, \"tf_adjustment_weight\": 1.0, \"is_null_level\": false, \"bayes_factor\": 0.08431539037333761, \"log2_bayes_factor\": -3.5680601945656374, \"comparison_vector_value\": 1, \"max_comparison_vector_value\": 2, \"bayes_factor_description\": \"If comparison level is `inexact match` then comparison is  11.86 times less likely to be a match\", \"probability_two_random_records_match\": 0.006814244865146268, \"comparison_sort_order\": 2, \"iteration\": 0}, {\"comparison_name\": \"day_of_birth\", \"sql_condition\": \"ELSE\", \"label_for_charts\": \"All other comparisons\", \"m_probability\": 0.025000000000000022, \"u_probability\": 0.6710300528562076, \"m_probability_description\": \"Amongst matching record comparisons, 2.50% of records are in the all other comparisons comparison level\", \"u_probability_description\": \"Amongst non-matching record comparisons, 67.10% of records are in the all other comparisons comparison level\", \"has_tf_adjustments\": false, \"tf_adjustment_column\": null, \"tf_adjustment_weight\": 1.0, \"is_null_level\": false, \"bayes_factor\": 0.03725615550836912, \"log2_bayes_factor\": -4.746377380636638, \"comparison_vector_value\": 0, \"max_comparison_vector_value\": 2, \"bayes_factor_description\": \"If comparison level is `all other comparisons` then comparison is  26.84 times less likely to be a match\", \"probability_two_random_records_match\": 0.006814244865146268, \"comparison_sort_order\": 2, \"iteration\": 0}, {\"comparison_name\": \"month_of_birth\", \"sql_condition\": \"\\\"month_of_birth_l\\\" = \\\"month_of_birth_r\\\"\", \"label_for_charts\": \"Exact match\", \"m_probability\": 0.95, \"u_probability\": 0.08358610359130632, \"m_probability_description\": \"Amongst matching record comparisons, 95.00% of records are in the exact match comparison level\", \"u_probability_description\": \"Amongst non-matching record comparisons, 8.36% of records are in the exact match comparison level\", \"has_tf_adjustments\": false, \"tf_adjustment_column\": null, \"tf_adjustment_weight\": 1.0, \"is_null_level\": false, \"bayes_factor\": 11.365525597951287, \"log2_bayes_factor\": 3.506592497918997, \"comparison_vector_value\": 2, \"max_comparison_vector_value\": 2, \"bayes_factor_description\": \"If comparison level is `exact match` then comparison is 11.37 times more likely to be a match\", \"probability_two_random_records_match\": 0.006814244865146268, \"comparison_sort_order\": 3, \"iteration\": 0}, {\"comparison_name\": \"month_of_birth\", \"sql_condition\": \"abs(month_of_birth_l - month_of_birth_r) <= 3\", \"label_for_charts\": \"Inexact match\", \"m_probability\": 0.025000000000000022, \"u_probability\": 0.419960264938525, \"m_probability_description\": \"Amongst matching record comparisons, 2.50% of records are in the inexact match comparison level\", \"u_probability_description\": \"Amongst non-matching record comparisons, 42.00% of records are in the inexact match comparison level\", \"has_tf_adjustments\": false, \"tf_adjustment_column\": null, \"tf_adjustment_weight\": 1.0, \"is_null_level\": false, \"bayes_factor\": 0.059529441442893634, \"log2_bayes_factor\": -4.070252831967542, \"comparison_vector_value\": 1, \"max_comparison_vector_value\": 2, \"bayes_factor_description\": \"If comparison level is `inexact match` then comparison is  16.80 times less likely to be a match\", \"probability_two_random_records_match\": 0.006814244865146268, \"comparison_sort_order\": 3, \"iteration\": 0}, {\"comparison_name\": \"month_of_birth\", \"sql_condition\": \"ELSE\", \"label_for_charts\": \"All other comparisons\", \"m_probability\": 0.025000000000000022, \"u_probability\": 0.4964536314701687, \"m_probability_description\": \"Amongst matching record comparisons, 2.50% of records are in the all other comparisons comparison level\", \"u_probability_description\": \"Amongst non-matching record comparisons, 49.65% of records are in the all other comparisons comparison level\", \"has_tf_adjustments\": false, \"tf_adjustment_column\": null, \"tf_adjustment_weight\": 1.0, \"is_null_level\": false, \"bayes_factor\": 0.05035717016706372, \"log2_bayes_factor\": -4.311658977024636, \"comparison_vector_value\": 0, \"max_comparison_vector_value\": 2, \"bayes_factor_description\": \"If comparison level is `all other comparisons` then comparison is  19.86 times less likely to be a match\", \"probability_two_random_records_match\": 0.006814244865146268, \"comparison_sort_order\": 3, \"iteration\": 0}, {\"comparison_name\": \"year_of_birth\", \"sql_condition\": \"\\\"year_of_birth_l\\\" = \\\"year_of_birth_r\\\"\", \"label_for_charts\": \"Exact match\", \"m_probability\": 0.95, \"u_probability\": 0.010988145230220372, \"m_probability_description\": \"Amongst matching record comparisons, 95.00% of records are in the exact match comparison level\", \"u_probability_description\": \"Amongst non-matching record comparisons, 1.10% of records are in the exact match comparison level\", \"has_tf_adjustments\": false, \"tf_adjustment_column\": null, \"tf_adjustment_weight\": 1.0, \"is_null_level\": false, \"bayes_factor\": 86.45681141774892, \"log2_bayes_factor\": 6.433907724590664, \"comparison_vector_value\": 2, \"max_comparison_vector_value\": 2, \"bayes_factor_description\": \"If comparison level is `exact match` then comparison is 86.46 times more likely to be a match\", \"probability_two_random_records_match\": 0.006814244865146268, \"comparison_sort_order\": 4, \"iteration\": 0}, {\"comparison_name\": \"year_of_birth\", \"sql_condition\": \"abs(year_of_birth_l - year_of_birth_r) <= 5\", \"label_for_charts\": \"Inexact match\", \"m_probability\": 0.025000000000000022, \"u_probability\": 0.10851628136997345, \"m_probability_description\": \"Amongst matching record comparisons, 2.50% of records are in the inexact match comparison level\", \"u_probability_description\": \"Amongst non-matching record comparisons, 10.85% of records are in the inexact match comparison level\", \"has_tf_adjustments\": false, \"tf_adjustment_column\": null, \"tf_adjustment_weight\": 1.0, \"is_null_level\": false, \"bayes_factor\": 0.23038017599189078, \"log2_bayes_factor\": -2.117911515384292, \"comparison_vector_value\": 1, \"max_comparison_vector_value\": 2, \"bayes_factor_description\": \"If comparison level is `inexact match` then comparison is  4.34 times less likely to be a match\", \"probability_two_random_records_match\": 0.006814244865146268, \"comparison_sort_order\": 4, \"iteration\": 0}, {\"comparison_name\": \"year_of_birth\", \"sql_condition\": \"ELSE\", \"label_for_charts\": \"All other comparisons\", \"m_probability\": 0.025000000000000022, \"u_probability\": 0.8804955733998062, \"m_probability_description\": \"Amongst matching record comparisons, 2.50% of records are in the all other comparisons comparison level\", \"u_probability_description\": \"Amongst non-matching record comparisons, 88.05% of records are in the all other comparisons comparison level\", \"has_tf_adjustments\": false, \"tf_adjustment_column\": null, \"tf_adjustment_weight\": 1.0, \"is_null_level\": false, \"bayes_factor\": 0.02839310128893548, \"log2_bayes_factor\": -5.138315751074994, \"comparison_vector_value\": 0, \"max_comparison_vector_value\": 2, \"bayes_factor_description\": \"If comparison level is `all other comparisons` then comparison is  35.22 times less likely to be a match\", \"probability_two_random_records_match\": 0.006814244865146268, \"comparison_sort_order\": 4, \"iteration\": 0}, {\"comparison_name\": \"geokey\", \"sql_condition\": \"\\\"geokey_l\\\" = \\\"geokey_r\\\"\", \"label_for_charts\": \"Exact match\", \"m_probability\": 0.95, \"u_probability\": 0.0019196584849132347, \"m_probability_description\": \"Amongst matching record comparisons, 95.00% of records are in the exact match comparison level\", \"u_probability_description\": \"Amongst non-matching record comparisons, 0.19% of records are in the exact match comparison level\", \"has_tf_adjustments\": false, \"tf_adjustment_column\": null, \"tf_adjustment_weight\": 1.0, \"is_null_level\": false, \"bayes_factor\": 494.87969212551803, \"log2_bayes_factor\": 8.950934030785591, \"comparison_vector_value\": 2, \"max_comparison_vector_value\": 2, \"bayes_factor_description\": \"If comparison level is `exact match` then comparison is 494.88 times more likely to be a match\", \"probability_two_random_records_match\": 0.006814244865146268, \"comparison_sort_order\": 5, \"iteration\": 0}, {\"comparison_name\": \"geokey\", \"sql_condition\": \"jaro_winkler_similarity(\\\"geokey_l\\\", \\\"geokey_r\\\") >= 0.7222222222222222\", \"label_for_charts\": \"Jaro_winkler_similarity >= 0.7222222222222222\", \"m_probability\": 0.025000000000000022, \"u_probability\": 0.3870547506148817, \"m_probability_description\": \"Amongst matching record comparisons, 2.50% of records are in the jaro_winkler_similarity >= 0.7222222222222222 comparison level\", \"u_probability_description\": \"Amongst non-matching record comparisons, 38.71% of records are in the jaro_winkler_similarity >= 0.7222222222222222 comparison level\", \"has_tf_adjustments\": false, \"tf_adjustment_column\": null, \"tf_adjustment_weight\": 1.0, \"is_null_level\": false, \"bayes_factor\": 0.06459034532009904, \"log2_bayes_factor\": -3.95253765643087, \"comparison_vector_value\": 1, \"max_comparison_vector_value\": 2, \"bayes_factor_description\": \"If comparison level is `jaro_winkler_similarity >= 0.7222222222222222` then comparison is  15.48 times less likely to be a match\", \"probability_two_random_records_match\": 0.006814244865146268, \"comparison_sort_order\": 5, \"iteration\": 0}, {\"comparison_name\": \"geokey\", \"sql_condition\": \"ELSE\", \"label_for_charts\": \"All other comparisons\", \"m_probability\": 0.025000000000000022, \"u_probability\": 0.611025590900205, \"m_probability_description\": \"Amongst matching record comparisons, 2.50% of records are in the all other comparisons comparison level\", \"u_probability_description\": \"Amongst non-matching record comparisons, 61.10% of records are in the all other comparisons comparison level\", \"has_tf_adjustments\": false, \"tf_adjustment_column\": null, \"tf_adjustment_weight\": 1.0, \"is_null_level\": false, \"bayes_factor\": 0.04091481661703939, \"log2_bayes_factor\": -4.6112328040892905, \"comparison_vector_value\": 0, \"max_comparison_vector_value\": 2, \"bayes_factor_description\": \"If comparison level is `all other comparisons` then comparison is  24.44 times less likely to be a match\", \"probability_two_random_records_match\": 0.006814244865146268, \"comparison_sort_order\": 5, \"iteration\": 0}, {\"comparison_name\": \"last_name_12\", \"sql_condition\": \"\\\"last_name_12_l\\\" = \\\"last_name_12_r\\\"\", \"label_for_charts\": \"Exact match\", \"m_probability\": 0.8847464722524504, \"u_probability\": 0.0006599706231126029, \"m_probability_description\": \"Amongst matching record comparisons, 88.47% of records are in the exact match comparison level\", \"u_probability_description\": \"Amongst non-matching record comparisons, 0.07% of records are in the exact match comparison level\", \"has_tf_adjustments\": false, \"tf_adjustment_column\": null, \"tf_adjustment_weight\": 1.0, \"is_null_level\": false, \"bayes_factor\": 1340.5846279638065, \"log2_bayes_factor\": 10.388646580812043, \"comparison_vector_value\": 2, \"max_comparison_vector_value\": 2, \"bayes_factor_description\": \"If comparison level is `exact match` then comparison is 1,340.58 times more likely to be a match\", \"probability_two_random_records_match\": 0.006814244865146268, \"comparison_sort_order\": 0, \"iteration\": 1}, {\"comparison_name\": \"last_name_12\", \"sql_condition\": \"jaro_winkler_similarity(\\\"last_name_12_l\\\", \\\"last_name_12_r\\\") >= 0.8333333333333334\", \"label_for_charts\": \"Jaro_winkler_similarity >= 0.8333333333333334\", \"m_probability\": 0.08883480721125159, \"u_probability\": 0.0013437257720127285, \"m_probability_description\": \"Amongst matching record comparisons, 8.88% of records are in the jaro_winkler_similarity >= 0.8333333333333334 comparison level\", \"u_probability_description\": \"Amongst non-matching record comparisons, 0.13% of records are in the jaro_winkler_similarity >= 0.8333333333333334 comparison level\", \"has_tf_adjustments\": false, \"tf_adjustment_column\": null, \"tf_adjustment_weight\": 1.0, \"is_null_level\": false, \"bayes_factor\": 66.11081595777422, \"log2_bayes_factor\": 6.046814415820466, \"comparison_vector_value\": 1, \"max_comparison_vector_value\": 2, \"bayes_factor_description\": \"If comparison level is `jaro_winkler_similarity >= 0.8333333333333334` then comparison is 66.11 times more likely to be a match\", \"probability_two_random_records_match\": 0.006814244865146268, \"comparison_sort_order\": 0, \"iteration\": 1}, {\"comparison_name\": \"last_name_12\", \"sql_condition\": \"ELSE\", \"label_for_charts\": \"All other comparisons\", \"m_probability\": 0.026418720536297933, \"u_probability\": 0.9979963036048747, \"m_probability_description\": \"Amongst matching record comparisons, 2.64% of records are in the all other comparisons comparison level\", \"u_probability_description\": \"Amongst non-matching record comparisons, 99.80% of records are in the all other comparisons comparison level\", \"has_tf_adjustments\": false, \"tf_adjustment_column\": null, \"tf_adjustment_weight\": 1.0, \"is_null_level\": false, \"bayes_factor\": 0.026471761910210036, \"log2_bayes_factor\": -5.239401968703081, \"comparison_vector_value\": 0, \"max_comparison_vector_value\": 2, \"bayes_factor_description\": \"If comparison level is `all other comparisons` then comparison is  37.78 times less likely to be a match\", \"probability_two_random_records_match\": 0.006814244865146268, \"comparison_sort_order\": 0, \"iteration\": 1}, {\"comparison_name\": \"middle_initial\", \"sql_condition\": \"\\\"middle_initial_l\\\" = \\\"middle_initial_r\\\"\", \"label_for_charts\": \"Exact match\", \"m_probability\": 0.9432892108473421, \"u_probability\": 0.07356305686300955, \"m_probability_description\": \"Amongst matching record comparisons, 94.33% of records are in the exact match comparison level\", \"u_probability_description\": \"Amongst non-matching record comparisons, 7.36% of records are in the exact match comparison level\", \"has_tf_adjustments\": false, \"tf_adjustment_column\": null, \"tf_adjustment_weight\": 1.0, \"is_null_level\": false, \"bayes_factor\": 12.82286586600054, \"log2_bayes_factor\": 3.6806468302138535, \"comparison_vector_value\": 1, \"max_comparison_vector_value\": 1, \"bayes_factor_description\": \"If comparison level is `exact match` then comparison is 12.82 times more likely to be a match\", \"probability_two_random_records_match\": 0.006814244865146268, \"comparison_sort_order\": 1, \"iteration\": 1}, {\"comparison_name\": \"middle_initial\", \"sql_condition\": \"ELSE\", \"label_for_charts\": \"All other comparisons\", \"m_probability\": 0.056710789152657926, \"u_probability\": 0.9264369431369904, \"m_probability_description\": \"Amongst matching record comparisons, 5.67% of records are in the all other comparisons comparison level\", \"u_probability_description\": \"Amongst non-matching record comparisons, 92.64% of records are in the all other comparisons comparison level\", \"has_tf_adjustments\": false, \"tf_adjustment_column\": null, \"tf_adjustment_weight\": 1.0, \"is_null_level\": false, \"bayes_factor\": 0.06121386843731707, \"log2_bayes_factor\": -4.0299976470021885, \"comparison_vector_value\": 0, \"max_comparison_vector_value\": 1, \"bayes_factor_description\": \"If comparison level is `all other comparisons` then comparison is  16.34 times less likely to be a match\", \"probability_two_random_records_match\": 0.006814244865146268, \"comparison_sort_order\": 1, \"iteration\": 1}, {\"comparison_name\": \"day_of_birth\", \"sql_condition\": \"\\\"day_of_birth_l\\\" = \\\"day_of_birth_r\\\"\", \"label_for_charts\": \"Exact match\", \"m_probability\": 0.9708378444252588, \"u_probability\": 0.032464174125328385, \"m_probability_description\": \"Amongst matching record comparisons, 97.08% of records are in the exact match comparison level\", \"u_probability_description\": \"Amongst non-matching record comparisons, 3.25% of records are in the exact match comparison level\", \"has_tf_adjustments\": false, \"tf_adjustment_column\": null, \"tf_adjustment_weight\": 1.0, \"is_null_level\": false, \"bayes_factor\": 29.90489887952566, \"log2_bayes_factor\": 4.902309934169486, \"comparison_vector_value\": 2, \"max_comparison_vector_value\": 2, \"bayes_factor_description\": \"If comparison level is `exact match` then comparison is 29.90 times more likely to be a match\", \"probability_two_random_records_match\": 0.006814244865146268, \"comparison_sort_order\": 2, \"iteration\": 1}, {\"comparison_name\": \"day_of_birth\", \"sql_condition\": \"abs(day_of_birth_l - day_of_birth_r) <= 5\", \"label_for_charts\": \"Inexact match\", \"m_probability\": 0.018867163639256352, \"u_probability\": 0.2965057730184639, \"m_probability_description\": \"Amongst matching record comparisons, 1.89% of records are in the inexact match comparison level\", \"u_probability_description\": \"Amongst non-matching record comparisons, 29.65% of records are in the inexact match comparison level\", \"has_tf_adjustments\": false, \"tf_adjustment_column\": null, \"tf_adjustment_weight\": 1.0, \"is_null_level\": false, \"bayes_factor\": 0.06363169069926157, \"log2_bayes_factor\": -3.9741107351498086, \"comparison_vector_value\": 1, \"max_comparison_vector_value\": 2, \"bayes_factor_description\": \"If comparison level is `inexact match` then comparison is  15.72 times less likely to be a match\", \"probability_two_random_records_match\": 0.006814244865146268, \"comparison_sort_order\": 2, \"iteration\": 1}, {\"comparison_name\": \"day_of_birth\", \"sql_condition\": \"ELSE\", \"label_for_charts\": \"All other comparisons\", \"m_probability\": 0.010294991935484853, \"u_probability\": 0.6710300528562076, \"m_probability_description\": \"Amongst matching record comparisons, 1.03% of records are in the all other comparisons comparison level\", \"u_probability_description\": \"Amongst non-matching record comparisons, 67.10% of records are in the all other comparisons comparison level\", \"has_tf_adjustments\": false, \"tf_adjustment_column\": null, \"tf_adjustment_weight\": 1.0, \"is_null_level\": false, \"bayes_factor\": 0.015342072820233173, \"log2_bayes_factor\": -6.026362775679193, \"comparison_vector_value\": 0, \"max_comparison_vector_value\": 2, \"bayes_factor_description\": \"If comparison level is `all other comparisons` then comparison is  65.18 times less likely to be a match\", \"probability_two_random_records_match\": 0.006814244865146268, \"comparison_sort_order\": 2, \"iteration\": 1}, {\"comparison_name\": \"month_of_birth\", \"sql_condition\": \"\\\"month_of_birth_l\\\" = \\\"month_of_birth_r\\\"\", \"label_for_charts\": \"Exact match\", \"m_probability\": 0.9795394312883284, \"u_probability\": 0.08358610359130632, \"m_probability_description\": \"Amongst matching record comparisons, 97.95% of records are in the exact match comparison level\", \"u_probability_description\": \"Amongst non-matching record comparisons, 8.36% of records are in the exact match comparison level\", \"has_tf_adjustments\": false, \"tf_adjustment_column\": null, \"tf_adjustment_weight\": 1.0, \"is_null_level\": false, \"bayes_factor\": 11.718926821589625, \"log2_bayes_factor\": 3.550768553720815, \"comparison_vector_value\": 2, \"max_comparison_vector_value\": 2, \"bayes_factor_description\": \"If comparison level is `exact match` then comparison is 11.72 times more likely to be a match\", \"probability_two_random_records_match\": 0.006814244865146268, \"comparison_sort_order\": 3, \"iteration\": 1}, {\"comparison_name\": \"month_of_birth\", \"sql_condition\": \"abs(month_of_birth_l - month_of_birth_r) <= 3\", \"label_for_charts\": \"Inexact match\", \"m_probability\": 0.010736784816023881, \"u_probability\": 0.419960264938525, \"m_probability_description\": \"Amongst matching record comparisons, 1.07% of records are in the inexact match comparison level\", \"u_probability_description\": \"Amongst non-matching record comparisons, 42.00% of records are in the inexact match comparison level\", \"has_tf_adjustments\": false, \"tf_adjustment_column\": null, \"tf_adjustment_weight\": 1.0, \"is_null_level\": false, \"bayes_factor\": 0.025566192119617706, \"log2_bayes_factor\": -5.2896188911129665, \"comparison_vector_value\": 1, \"max_comparison_vector_value\": 2, \"bayes_factor_description\": \"If comparison level is `inexact match` then comparison is  39.11 times less likely to be a match\", \"probability_two_random_records_match\": 0.006814244865146268, \"comparison_sort_order\": 3, \"iteration\": 1}, {\"comparison_name\": \"month_of_birth\", \"sql_condition\": \"ELSE\", \"label_for_charts\": \"All other comparisons\", \"m_probability\": 0.00972378389564766, \"u_probability\": 0.4964536314701687, \"m_probability_description\": \"Amongst matching record comparisons, 0.97% of records are in the all other comparisons comparison level\", \"u_probability_description\": \"Amongst non-matching record comparisons, 49.65% of records are in the all other comparisons comparison level\", \"has_tf_adjustments\": false, \"tf_adjustment_column\": null, \"tf_adjustment_weight\": 1.0, \"is_null_level\": false, \"bayes_factor\": 0.0195864896120353, \"log2_bayes_factor\": -5.67399733597302, \"comparison_vector_value\": 0, \"max_comparison_vector_value\": 2, \"bayes_factor_description\": \"If comparison level is `all other comparisons` then comparison is  51.06 times less likely to be a match\", \"probability_two_random_records_match\": 0.006814244865146268, \"comparison_sort_order\": 3, \"iteration\": 1}, {\"comparison_name\": \"year_of_birth\", \"sql_condition\": \"\\\"year_of_birth_l\\\" = \\\"year_of_birth_r\\\"\", \"label_for_charts\": \"Exact match\", \"m_probability\": 0.9646433224724316, \"u_probability\": 0.010988145230220372, \"m_probability_description\": \"Amongst matching record comparisons, 96.46% of records are in the exact match comparison level\", \"u_probability_description\": \"Amongst non-matching record comparisons, 1.10% of records are in the exact match comparison level\", \"has_tf_adjustments\": false, \"tf_adjustment_column\": null, \"tf_adjustment_weight\": 1.0, \"is_null_level\": false, \"bayes_factor\": 87.7894587540945, \"log2_bayes_factor\": 6.455975814645852, \"comparison_vector_value\": 2, \"max_comparison_vector_value\": 2, \"bayes_factor_description\": \"If comparison level is `exact match` then comparison is 87.79 times more likely to be a match\", \"probability_two_random_records_match\": 0.006814244865146268, \"comparison_sort_order\": 4, \"iteration\": 1}, {\"comparison_name\": \"year_of_birth\", \"sql_condition\": \"abs(year_of_birth_l - year_of_birth_r) <= 5\", \"label_for_charts\": \"Inexact match\", \"m_probability\": 0.011112545287358893, \"u_probability\": 0.10851628136997345, \"m_probability_description\": \"Amongst matching record comparisons, 1.11% of records are in the inexact match comparison level\", \"u_probability_description\": \"Amongst non-matching record comparisons, 10.85% of records are in the inexact match comparison level\", \"has_tf_adjustments\": false, \"tf_adjustment_column\": null, \"tf_adjustment_weight\": 1.0, \"is_null_level\": false, \"bayes_factor\": 0.10240440556078384, \"log2_bayes_factor\": -3.2876503117371993, \"comparison_vector_value\": 1, \"max_comparison_vector_value\": 2, \"bayes_factor_description\": \"If comparison level is `inexact match` then comparison is  9.77 times less likely to be a match\", \"probability_two_random_records_match\": 0.006814244865146268, \"comparison_sort_order\": 4, \"iteration\": 1}, {\"comparison_name\": \"year_of_birth\", \"sql_condition\": \"ELSE\", \"label_for_charts\": \"All other comparisons\", \"m_probability\": 0.02424413224020952, \"u_probability\": 0.8804955733998062, \"m_probability_description\": \"Amongst matching record comparisons, 2.42% of records are in the all other comparisons comparison level\", \"u_probability_description\": \"Amongst non-matching record comparisons, 88.05% of records are in the all other comparisons comparison level\", \"has_tf_adjustments\": false, \"tf_adjustment_column\": null, \"tf_adjustment_weight\": 1.0, \"is_null_level\": false, \"bayes_factor\": 0.02753464409434458, \"log2_bayes_factor\": -5.182608229066668, \"comparison_vector_value\": 0, \"max_comparison_vector_value\": 2, \"bayes_factor_description\": \"If comparison level is `all other comparisons` then comparison is  36.32 times less likely to be a match\", \"probability_two_random_records_match\": 0.006814244865146268, \"comparison_sort_order\": 4, \"iteration\": 1}, {\"comparison_name\": \"geokey\", \"sql_condition\": \"\\\"geokey_l\\\" = \\\"geokey_r\\\"\", \"label_for_charts\": \"Exact match\", \"m_probability\": 0.4665546186996795, \"u_probability\": 0.0019196584849132347, \"m_probability_description\": \"Amongst matching record comparisons, 46.66% of records are in the exact match comparison level\", \"u_probability_description\": \"Amongst non-matching record comparisons, 0.19% of records are in the exact match comparison level\", \"has_tf_adjustments\": false, \"tf_adjustment_column\": null, \"tf_adjustment_weight\": 1.0, \"is_null_level\": false, \"bayes_factor\": 243.04042743351144, \"log2_bayes_factor\": 7.925052501987336, \"comparison_vector_value\": 2, \"max_comparison_vector_value\": 2, \"bayes_factor_description\": \"If comparison level is `exact match` then comparison is 243.04 times more likely to be a match\", \"probability_two_random_records_match\": 0.006814244865146268, \"comparison_sort_order\": 5, \"iteration\": 1}, {\"comparison_name\": \"geokey\", \"sql_condition\": \"jaro_winkler_similarity(\\\"geokey_l\\\", \\\"geokey_r\\\") >= 0.7222222222222222\", \"label_for_charts\": \"Jaro_winkler_similarity >= 0.7222222222222222\", \"m_probability\": 0.42862609739267465, \"u_probability\": 0.3870547506148817, \"m_probability_description\": \"Amongst matching record comparisons, 42.86% of records are in the jaro_winkler_similarity >= 0.7222222222222222 comparison level\", \"u_probability_description\": \"Amongst non-matching record comparisons, 38.71% of records are in the jaro_winkler_similarity >= 0.7222222222222222 comparison level\", \"has_tf_adjustments\": false, \"tf_adjustment_column\": null, \"tf_adjustment_weight\": 1.0, \"is_null_level\": false, \"bayes_factor\": 1.1074043057519691, \"log2_bayes_factor\": 0.14718203640386218, \"comparison_vector_value\": 1, \"max_comparison_vector_value\": 2, \"bayes_factor_description\": \"If comparison level is `jaro_winkler_similarity >= 0.7222222222222222` then comparison is 1.11 times more likely to be a match\", \"probability_two_random_records_match\": 0.006814244865146268, \"comparison_sort_order\": 5, \"iteration\": 1}, {\"comparison_name\": \"geokey\", \"sql_condition\": \"ELSE\", \"label_for_charts\": \"All other comparisons\", \"m_probability\": 0.10481928390764587, \"u_probability\": 0.611025590900205, \"m_probability_description\": \"Amongst matching record comparisons, 10.48% of records are in the all other comparisons comparison level\", \"u_probability_description\": \"Amongst non-matching record comparisons, 61.10% of records are in the all other comparisons comparison level\", \"has_tf_adjustments\": false, \"tf_adjustment_column\": null, \"tf_adjustment_weight\": 1.0, \"is_null_level\": false, \"bayes_factor\": 0.17154647116042862, \"log2_bayes_factor\": -2.543328646005567, \"comparison_vector_value\": 0, \"max_comparison_vector_value\": 2, \"bayes_factor_description\": \"If comparison level is `all other comparisons` then comparison is  5.83 times less likely to be a match\", \"probability_two_random_records_match\": 0.006814244865146268, \"comparison_sort_order\": 5, \"iteration\": 1}, {\"comparison_name\": \"last_name_12\", \"sql_condition\": \"\\\"last_name_12_l\\\" = \\\"last_name_12_r\\\"\", \"label_for_charts\": \"Exact match\", \"m_probability\": 0.8751363325572241, \"u_probability\": 0.0006599706231126029, \"m_probability_description\": \"Amongst matching record comparisons, 87.51% of records are in the exact match comparison level\", \"u_probability_description\": \"Amongst non-matching record comparisons, 0.07% of records are in the exact match comparison level\", \"has_tf_adjustments\": false, \"tf_adjustment_column\": null, \"tf_adjustment_weight\": 1.0, \"is_null_level\": false, \"bayes_factor\": 1326.0231621065807, \"log2_bayes_factor\": 10.372890260387441, \"comparison_vector_value\": 2, \"max_comparison_vector_value\": 2, \"bayes_factor_description\": \"If comparison level is `exact match` then comparison is 1,326.02 times more likely to be a match\", \"probability_two_random_records_match\": 0.006814244865146268, \"comparison_sort_order\": 0, \"iteration\": 2}, {\"comparison_name\": \"last_name_12\", \"sql_condition\": \"jaro_winkler_similarity(\\\"last_name_12_l\\\", \\\"last_name_12_r\\\") >= 0.8333333333333334\", \"label_for_charts\": \"Jaro_winkler_similarity >= 0.8333333333333334\", \"m_probability\": 0.09537904276680044, \"u_probability\": 0.0013437257720127285, \"m_probability_description\": \"Amongst matching record comparisons, 9.54% of records are in the jaro_winkler_similarity >= 0.8333333333333334 comparison level\", \"u_probability_description\": \"Amongst non-matching record comparisons, 0.13% of records are in the jaro_winkler_similarity >= 0.8333333333333334 comparison level\", \"has_tf_adjustments\": false, \"tf_adjustment_column\": null, \"tf_adjustment_weight\": 1.0, \"is_null_level\": false, \"bayes_factor\": 70.98103255393762, \"log2_bayes_factor\": 6.1493616561784465, \"comparison_vector_value\": 1, \"max_comparison_vector_value\": 2, \"bayes_factor_description\": \"If comparison level is `jaro_winkler_similarity >= 0.8333333333333334` then comparison is 70.98 times more likely to be a match\", \"probability_two_random_records_match\": 0.006814244865146268, \"comparison_sort_order\": 0, \"iteration\": 2}, {\"comparison_name\": \"last_name_12\", \"sql_condition\": \"ELSE\", \"label_for_charts\": \"All other comparisons\", \"m_probability\": 0.029484624675975495, \"u_probability\": 0.9979963036048747, \"m_probability_description\": \"Amongst matching record comparisons, 2.95% of records are in the all other comparisons comparison level\", \"u_probability_description\": \"Amongst non-matching record comparisons, 99.80% of records are in the all other comparisons comparison level\", \"has_tf_adjustments\": false, \"tf_adjustment_column\": null, \"tf_adjustment_weight\": 1.0, \"is_null_level\": false, \"bayes_factor\": 0.029543821524662686, \"log2_bayes_factor\": -5.080999737467254, \"comparison_vector_value\": 0, \"max_comparison_vector_value\": 2, \"bayes_factor_description\": \"If comparison level is `all other comparisons` then comparison is  33.85 times less likely to be a match\", \"probability_two_random_records_match\": 0.006814244865146268, \"comparison_sort_order\": 0, \"iteration\": 2}, {\"comparison_name\": \"middle_initial\", \"sql_condition\": \"\\\"middle_initial_l\\\" = \\\"middle_initial_r\\\"\", \"label_for_charts\": \"Exact match\", \"m_probability\": 0.9411748493860003, \"u_probability\": 0.07356305686300955, \"m_probability_description\": \"Amongst matching record comparisons, 94.12% of records are in the exact match comparison level\", \"u_probability_description\": \"Amongst non-matching record comparisons, 7.36% of records are in the exact match comparison level\", \"has_tf_adjustments\": false, \"tf_adjustment_column\": null, \"tf_adjustment_weight\": 1.0, \"is_null_level\": false, \"bayes_factor\": 12.794123701774287, \"log2_bayes_factor\": 3.6774094322296613, \"comparison_vector_value\": 1, \"max_comparison_vector_value\": 1, \"bayes_factor_description\": \"If comparison level is `exact match` then comparison is 12.79 times more likely to be a match\", \"probability_two_random_records_match\": 0.006814244865146268, \"comparison_sort_order\": 1, \"iteration\": 2}, {\"comparison_name\": \"middle_initial\", \"sql_condition\": \"ELSE\", \"label_for_charts\": \"All other comparisons\", \"m_probability\": 0.05882515061399973, \"u_probability\": 0.9264369431369904, \"m_probability_description\": \"Amongst matching record comparisons, 5.88% of records are in the all other comparisons comparison level\", \"u_probability_description\": \"Amongst non-matching record comparisons, 92.64% of records are in the all other comparisons comparison level\", \"has_tf_adjustments\": false, \"tf_adjustment_column\": null, \"tf_adjustment_weight\": 1.0, \"is_null_level\": false, \"bayes_factor\": 0.06349611924456836, \"log2_bayes_factor\": -3.977187769822279, \"comparison_vector_value\": 0, \"max_comparison_vector_value\": 1, \"bayes_factor_description\": \"If comparison level is `all other comparisons` then comparison is  15.75 times less likely to be a match\", \"probability_two_random_records_match\": 0.006814244865146268, \"comparison_sort_order\": 1, \"iteration\": 2}, {\"comparison_name\": \"day_of_birth\", \"sql_condition\": \"\\\"day_of_birth_l\\\" = \\\"day_of_birth_r\\\"\", \"label_for_charts\": \"Exact match\", \"m_probability\": 0.9721531997501913, \"u_probability\": 0.032464174125328385, \"m_probability_description\": \"Amongst matching record comparisons, 97.22% of records are in the exact match comparison level\", \"u_probability_description\": \"Amongst non-matching record comparisons, 3.25% of records are in the exact match comparison level\", \"has_tf_adjustments\": false, \"tf_adjustment_column\": null, \"tf_adjustment_weight\": 1.0, \"is_null_level\": false, \"bayes_factor\": 29.945416014502037, \"log2_bayes_factor\": 4.904263269878233, \"comparison_vector_value\": 2, \"max_comparison_vector_value\": 2, \"bayes_factor_description\": \"If comparison level is `exact match` then comparison is 29.95 times more likely to be a match\", \"probability_two_random_records_match\": 0.006814244865146268, \"comparison_sort_order\": 2, \"iteration\": 2}, {\"comparison_name\": \"day_of_birth\", \"sql_condition\": \"abs(day_of_birth_l - day_of_birth_r) <= 5\", \"label_for_charts\": \"Inexact match\", \"m_probability\": 0.01961702090280865, \"u_probability\": 0.2965057730184639, \"m_probability_description\": \"Amongst matching record comparisons, 1.96% of records are in the inexact match comparison level\", \"u_probability_description\": \"Amongst non-matching record comparisons, 29.65% of records are in the inexact match comparison level\", \"has_tf_adjustments\": false, \"tf_adjustment_column\": null, \"tf_adjustment_weight\": 1.0, \"is_null_level\": false, \"bayes_factor\": 0.06616067101528936, \"log2_bayes_factor\": -3.917882323078096, \"comparison_vector_value\": 1, \"max_comparison_vector_value\": 2, \"bayes_factor_description\": \"If comparison level is `inexact match` then comparison is  15.11 times less likely to be a match\", \"probability_two_random_records_match\": 0.006814244865146268, \"comparison_sort_order\": 2, \"iteration\": 2}, {\"comparison_name\": \"day_of_birth\", \"sql_condition\": \"ELSE\", \"label_for_charts\": \"All other comparisons\", \"m_probability\": 0.008229779347000102, \"u_probability\": 0.6710300528562076, \"m_probability_description\": \"Amongst matching record comparisons, 0.82% of records are in the all other comparisons comparison level\", \"u_probability_description\": \"Amongst non-matching record comparisons, 67.10% of records are in the all other comparisons comparison level\", \"has_tf_adjustments\": false, \"tf_adjustment_column\": null, \"tf_adjustment_weight\": 1.0, \"is_null_level\": false, \"bayes_factor\": 0.012264397566055999, \"log2_bayes_factor\": -6.349379820111509, \"comparison_vector_value\": 0, \"max_comparison_vector_value\": 2, \"bayes_factor_description\": \"If comparison level is `all other comparisons` then comparison is  81.54 times less likely to be a match\", \"probability_two_random_records_match\": 0.006814244865146268, \"comparison_sort_order\": 2, \"iteration\": 2}, {\"comparison_name\": \"month_of_birth\", \"sql_condition\": \"\\\"month_of_birth_l\\\" = \\\"month_of_birth_r\\\"\", \"label_for_charts\": \"Exact match\", \"m_probability\": 0.9818914898844868, \"u_probability\": 0.08358610359130632, \"m_probability_description\": \"Amongst matching record comparisons, 98.19% of records are in the exact match comparison level\", \"u_probability_description\": \"Amongst non-matching record comparisons, 8.36% of records are in the exact match comparison level\", \"has_tf_adjustments\": false, \"tf_adjustment_column\": null, \"tf_adjustment_weight\": 1.0, \"is_null_level\": false, \"bayes_factor\": 11.747066171255435, \"log2_bayes_factor\": 3.5542285837044574, \"comparison_vector_value\": 2, \"max_comparison_vector_value\": 2, \"bayes_factor_description\": \"If comparison level is `exact match` then comparison is 11.75 times more likely to be a match\", \"probability_two_random_records_match\": 0.006814244865146268, \"comparison_sort_order\": 3, \"iteration\": 2}, {\"comparison_name\": \"month_of_birth\", \"sql_condition\": \"abs(month_of_birth_l - month_of_birth_r) <= 3\", \"label_for_charts\": \"Inexact match\", \"m_probability\": 0.009415155097932911, \"u_probability\": 0.419960264938525, \"m_probability_description\": \"Amongst matching record comparisons, 0.94% of records are in the inexact match comparison level\", \"u_probability_description\": \"Amongst non-matching record comparisons, 42.00% of records are in the inexact match comparison level\", \"has_tf_adjustments\": false, \"tf_adjustment_column\": null, \"tf_adjustment_weight\": 1.0, \"is_null_level\": false, \"bayes_factor\": 0.02241915696312633, \"log2_bayes_factor\": -5.479124160872425, \"comparison_vector_value\": 1, \"max_comparison_vector_value\": 2, \"bayes_factor_description\": \"If comparison level is `inexact match` then comparison is  44.60 times less likely to be a match\", \"probability_two_random_records_match\": 0.006814244865146268, \"comparison_sort_order\": 3, \"iteration\": 2}, {\"comparison_name\": \"month_of_birth\", \"sql_condition\": \"ELSE\", \"label_for_charts\": \"All other comparisons\", \"m_probability\": 0.008693355017580312, \"u_probability\": 0.4964536314701687, \"m_probability_description\": \"Amongst matching record comparisons, 0.87% of records are in the all other comparisons comparison level\", \"u_probability_description\": \"Amongst non-matching record comparisons, 49.65% of records are in the all other comparisons comparison level\", \"has_tf_adjustments\": false, \"tf_adjustment_column\": null, \"tf_adjustment_weight\": 1.0, \"is_null_level\": false, \"bayes_factor\": 0.017510910317719543, \"log2_bayes_factor\": -5.835602104477137, \"comparison_vector_value\": 0, \"max_comparison_vector_value\": 2, \"bayes_factor_description\": \"If comparison level is `all other comparisons` then comparison is  57.11 times less likely to be a match\", \"probability_two_random_records_match\": 0.006814244865146268, \"comparison_sort_order\": 3, \"iteration\": 2}, {\"comparison_name\": \"year_of_birth\", \"sql_condition\": \"\\\"year_of_birth_l\\\" = \\\"year_of_birth_r\\\"\", \"label_for_charts\": \"Exact match\", \"m_probability\": 0.965387384381738, \"u_probability\": 0.010988145230220372, \"m_probability_description\": \"Amongst matching record comparisons, 96.54% of records are in the exact match comparison level\", \"u_probability_description\": \"Amongst non-matching record comparisons, 1.10% of records are in the exact match comparison level\", \"has_tf_adjustments\": false, \"tf_adjustment_column\": null, \"tf_adjustment_weight\": 1.0, \"is_null_level\": false, \"bayes_factor\": 87.85717372270085, \"log2_bayes_factor\": 6.4570881850097415, \"comparison_vector_value\": 2, \"max_comparison_vector_value\": 2, \"bayes_factor_description\": \"If comparison level is `exact match` then comparison is 87.86 times more likely to be a match\", \"probability_two_random_records_match\": 0.006814244865146268, \"comparison_sort_order\": 4, \"iteration\": 2}, {\"comparison_name\": \"year_of_birth\", \"sql_condition\": \"abs(year_of_birth_l - year_of_birth_r) <= 5\", \"label_for_charts\": \"Inexact match\", \"m_probability\": 0.010971834599738918, \"u_probability\": 0.10851628136997345, \"m_probability_description\": \"Amongst matching record comparisons, 1.10% of records are in the inexact match comparison level\", \"u_probability_description\": \"Amongst non-matching record comparisons, 10.85% of records are in the inexact match comparison level\", \"has_tf_adjustments\": false, \"tf_adjustment_column\": null, \"tf_adjustment_weight\": 1.0, \"is_null_level\": false, \"bayes_factor\": 0.10110772744167065, \"log2_bayes_factor\": -3.3060348314175076, \"comparison_vector_value\": 1, \"max_comparison_vector_value\": 2, \"bayes_factor_description\": \"If comparison level is `inexact match` then comparison is  9.89 times less likely to be a match\", \"probability_two_random_records_match\": 0.006814244865146268, \"comparison_sort_order\": 4, \"iteration\": 2}, {\"comparison_name\": \"year_of_birth\", \"sql_condition\": \"ELSE\", \"label_for_charts\": \"All other comparisons\", \"m_probability\": 0.023640781018523002, \"u_probability\": 0.8804955733998062, \"m_probability_description\": \"Amongst matching record comparisons, 2.36% of records are in the all other comparisons comparison level\", \"u_probability_description\": \"Amongst non-matching record comparisons, 88.05% of records are in the all other comparisons comparison level\", \"has_tf_adjustments\": false, \"tf_adjustment_column\": null, \"tf_adjustment_weight\": 1.0, \"is_null_level\": false, \"bayes_factor\": 0.02684940360033865, \"log2_bayes_factor\": -5.218966147463103, \"comparison_vector_value\": 0, \"max_comparison_vector_value\": 2, \"bayes_factor_description\": \"If comparison level is `all other comparisons` then comparison is  37.24 times less likely to be a match\", \"probability_two_random_records_match\": 0.006814244865146268, \"comparison_sort_order\": 4, \"iteration\": 2}, {\"comparison_name\": \"geokey\", \"sql_condition\": \"\\\"geokey_l\\\" = \\\"geokey_r\\\"\", \"label_for_charts\": \"Exact match\", \"m_probability\": 0.4527515125160774, \"u_probability\": 0.0019196584849132347, \"m_probability_description\": \"Amongst matching record comparisons, 45.28% of records are in the exact match comparison level\", \"u_probability_description\": \"Amongst non-matching record comparisons, 0.19% of records are in the exact match comparison level\", \"has_tf_adjustments\": false, \"tf_adjustment_column\": null, \"tf_adjustment_weight\": 1.0, \"is_null_level\": false, \"bayes_factor\": 235.85003065612528, \"log2_bayes_factor\": 7.881725978165818, \"comparison_vector_value\": 2, \"max_comparison_vector_value\": 2, \"bayes_factor_description\": \"If comparison level is `exact match` then comparison is 235.85 times more likely to be a match\", \"probability_two_random_records_match\": 0.006814244865146268, \"comparison_sort_order\": 5, \"iteration\": 2}, {\"comparison_name\": \"geokey\", \"sql_condition\": \"jaro_winkler_similarity(\\\"geokey_l\\\", \\\"geokey_r\\\") >= 0.7222222222222222\", \"label_for_charts\": \"Jaro_winkler_similarity >= 0.7222222222222222\", \"m_probability\": 0.4400779024201732, \"u_probability\": 0.3870547506148817, \"m_probability_description\": \"Amongst matching record comparisons, 44.01% of records are in the jaro_winkler_similarity >= 0.7222222222222222 comparison level\", \"u_probability_description\": \"Amongst non-matching record comparisons, 38.71% of records are in the jaro_winkler_similarity >= 0.7222222222222222 comparison level\", \"has_tf_adjustments\": false, \"tf_adjustment_column\": null, \"tf_adjustment_weight\": 1.0, \"is_null_level\": false, \"bayes_factor\": 1.1369913474025524, \"log2_bayes_factor\": 0.1852212752442972, \"comparison_vector_value\": 1, \"max_comparison_vector_value\": 2, \"bayes_factor_description\": \"If comparison level is `jaro_winkler_similarity >= 0.7222222222222222` then comparison is 1.14 times more likely to be a match\", \"probability_two_random_records_match\": 0.006814244865146268, \"comparison_sort_order\": 5, \"iteration\": 2}, {\"comparison_name\": \"geokey\", \"sql_condition\": \"ELSE\", \"label_for_charts\": \"All other comparisons\", \"m_probability\": 0.10717058506374935, \"u_probability\": 0.611025590900205, \"m_probability_description\": \"Amongst matching record comparisons, 10.72% of records are in the all other comparisons comparison level\", \"u_probability_description\": \"Amongst non-matching record comparisons, 61.10% of records are in the all other comparisons comparison level\", \"has_tf_adjustments\": false, \"tf_adjustment_column\": null, \"tf_adjustment_weight\": 1.0, \"is_null_level\": false, \"bayes_factor\": 0.17539459338496488, \"log2_bayes_factor\": -2.511323818124777, \"comparison_vector_value\": 0, \"max_comparison_vector_value\": 2, \"bayes_factor_description\": \"If comparison level is `all other comparisons` then comparison is  5.70 times less likely to be a match\", \"probability_two_random_records_match\": 0.006814244865146268, \"comparison_sort_order\": 5, \"iteration\": 2}, {\"comparison_name\": \"last_name_12\", \"sql_condition\": \"\\\"last_name_12_l\\\" = \\\"last_name_12_r\\\"\", \"label_for_charts\": \"Exact match\", \"m_probability\": 0.8745134833165706, \"u_probability\": 0.0006599706231126029, \"m_probability_description\": \"Amongst matching record comparisons, 87.45% of records are in the exact match comparison level\", \"u_probability_description\": \"Amongst non-matching record comparisons, 0.07% of records are in the exact match comparison level\", \"has_tf_adjustments\": false, \"tf_adjustment_column\": null, \"tf_adjustment_weight\": 1.0, \"is_null_level\": false, \"bayes_factor\": 1325.0794091290377, \"log2_bayes_factor\": 10.371863104506856, \"comparison_vector_value\": 2, \"max_comparison_vector_value\": 2, \"bayes_factor_description\": \"If comparison level is `exact match` then comparison is 1,325.08 times more likely to be a match\", \"probability_two_random_records_match\": 0.006814244865146268, \"comparison_sort_order\": 0, \"iteration\": 3}, {\"comparison_name\": \"last_name_12\", \"sql_condition\": \"jaro_winkler_similarity(\\\"last_name_12_l\\\", \\\"last_name_12_r\\\") >= 0.8333333333333334\", \"label_for_charts\": \"Jaro_winkler_similarity >= 0.8333333333333334\", \"m_probability\": 0.09554612180724828, \"u_probability\": 0.0013437257720127285, \"m_probability_description\": \"Amongst matching record comparisons, 9.55% of records are in the jaro_winkler_similarity >= 0.8333333333333334 comparison level\", \"u_probability_description\": \"Amongst non-matching record comparisons, 0.13% of records are in the jaro_winkler_similarity >= 0.8333333333333334 comparison level\", \"has_tf_adjustments\": false, \"tf_adjustment_column\": null, \"tf_adjustment_weight\": 1.0, \"is_null_level\": false, \"bayes_factor\": 71.1053726863722, \"log2_bayes_factor\": 6.151886668165831, \"comparison_vector_value\": 1, \"max_comparison_vector_value\": 2, \"bayes_factor_description\": \"If comparison level is `jaro_winkler_similarity >= 0.8333333333333334` then comparison is 71.11 times more likely to be a match\", \"probability_two_random_records_match\": 0.006814244865146268, \"comparison_sort_order\": 0, \"iteration\": 3}, {\"comparison_name\": \"last_name_12\", \"sql_condition\": \"ELSE\", \"label_for_charts\": \"All other comparisons\", \"m_probability\": 0.029940394876181085, \"u_probability\": 0.9979963036048747, \"m_probability_description\": \"Amongst matching record comparisons, 2.99% of records are in the all other comparisons comparison level\", \"u_probability_description\": \"Amongst non-matching record comparisons, 99.80% of records are in the all other comparisons comparison level\", \"has_tf_adjustments\": false, \"tf_adjustment_column\": null, \"tf_adjustment_weight\": 1.0, \"is_null_level\": false, \"bayes_factor\": 0.030000506783475066, \"log2_bayes_factor\": -5.058869318125872, \"comparison_vector_value\": 0, \"max_comparison_vector_value\": 2, \"bayes_factor_description\": \"If comparison level is `all other comparisons` then comparison is  33.33 times less likely to be a match\", \"probability_two_random_records_match\": 0.006814244865146268, \"comparison_sort_order\": 0, \"iteration\": 3}, {\"comparison_name\": \"middle_initial\", \"sql_condition\": \"\\\"middle_initial_l\\\" = \\\"middle_initial_r\\\"\", \"label_for_charts\": \"Exact match\", \"m_probability\": 0.9410200744141269, \"u_probability\": 0.07356305686300955, \"m_probability_description\": \"Amongst matching record comparisons, 94.10% of records are in the exact match comparison level\", \"u_probability_description\": \"Amongst non-matching record comparisons, 7.36% of records are in the exact match comparison level\", \"has_tf_adjustments\": false, \"tf_adjustment_column\": null, \"tf_adjustment_weight\": 1.0, \"is_null_level\": false, \"bayes_factor\": 12.79201972488054, \"log2_bayes_factor\": 3.6771721634090357, \"comparison_vector_value\": 1, \"max_comparison_vector_value\": 1, \"bayes_factor_description\": \"If comparison level is `exact match` then comparison is 12.79 times more likely to be a match\", \"probability_two_random_records_match\": 0.006814244865146268, \"comparison_sort_order\": 1, \"iteration\": 3}, {\"comparison_name\": \"middle_initial\", \"sql_condition\": \"ELSE\", \"label_for_charts\": \"All other comparisons\", \"m_probability\": 0.058979925585873096, \"u_probability\": 0.9264369431369904, \"m_probability_description\": \"Amongst matching record comparisons, 5.90% of records are in the all other comparisons comparison level\", \"u_probability_description\": \"Amongst non-matching record comparisons, 92.64% of records are in the all other comparisons comparison level\", \"has_tf_adjustments\": false, \"tf_adjustment_column\": null, \"tf_adjustment_weight\": 1.0, \"is_null_level\": false, \"bayes_factor\": 0.06366318401138268, \"log2_bayes_factor\": -3.9733968769328363, \"comparison_vector_value\": 0, \"max_comparison_vector_value\": 1, \"bayes_factor_description\": \"If comparison level is `all other comparisons` then comparison is  15.71 times less likely to be a match\", \"probability_two_random_records_match\": 0.006814244865146268, \"comparison_sort_order\": 1, \"iteration\": 3}, {\"comparison_name\": \"day_of_birth\", \"sql_condition\": \"\\\"day_of_birth_l\\\" = \\\"day_of_birth_r\\\"\", \"label_for_charts\": \"Exact match\", \"m_probability\": 0.9727062021404385, \"u_probability\": 0.032464174125328385, \"m_probability_description\": \"Amongst matching record comparisons, 97.27% of records are in the exact match comparison level\", \"u_probability_description\": \"Amongst non-matching record comparisons, 3.25% of records are in the exact match comparison level\", \"has_tf_adjustments\": false, \"tf_adjustment_column\": null, \"tf_adjustment_weight\": 1.0, \"is_null_level\": false, \"bayes_factor\": 29.962450250090853, \"log2_bayes_factor\": 4.9050837033005505, \"comparison_vector_value\": 2, \"max_comparison_vector_value\": 2, \"bayes_factor_description\": \"If comparison level is `exact match` then comparison is 29.96 times more likely to be a match\", \"probability_two_random_records_match\": 0.006814244865146268, \"comparison_sort_order\": 2, \"iteration\": 3}, {\"comparison_name\": \"day_of_birth\", \"sql_condition\": \"abs(day_of_birth_l - day_of_birth_r) <= 5\", \"label_for_charts\": \"Inexact match\", \"m_probability\": 0.019600424176429772, \"u_probability\": 0.2965057730184639, \"m_probability_description\": \"Amongst matching record comparisons, 1.96% of records are in the inexact match comparison level\", \"u_probability_description\": \"Amongst non-matching record comparisons, 29.65% of records are in the inexact match comparison level\", \"has_tf_adjustments\": false, \"tf_adjustment_column\": null, \"tf_adjustment_weight\": 1.0, \"is_null_level\": false, \"bayes_factor\": 0.06610469663674717, \"log2_bayes_factor\": -3.9191034131426243, \"comparison_vector_value\": 1, \"max_comparison_vector_value\": 2, \"bayes_factor_description\": \"If comparison level is `inexact match` then comparison is  15.13 times less likely to be a match\", \"probability_two_random_records_match\": 0.006814244865146268, \"comparison_sort_order\": 2, \"iteration\": 3}, {\"comparison_name\": \"day_of_birth\", \"sql_condition\": \"ELSE\", \"label_for_charts\": \"All other comparisons\", \"m_probability\": 0.007693373683131727, \"u_probability\": 0.6710300528562076, \"m_probability_description\": \"Amongst matching record comparisons, 0.77% of records are in the all other comparisons comparison level\", \"u_probability_description\": \"Amongst non-matching record comparisons, 67.10% of records are in the all other comparisons comparison level\", \"has_tf_adjustments\": false, \"tf_adjustment_column\": null, \"tf_adjustment_weight\": 1.0, \"is_null_level\": false, \"bayes_factor\": 0.011465021052909995, \"log2_bayes_factor\": -6.44661718567146, \"comparison_vector_value\": 0, \"max_comparison_vector_value\": 2, \"bayes_factor_description\": \"If comparison level is `all other comparisons` then comparison is  87.22 times less likely to be a match\", \"probability_two_random_records_match\": 0.006814244865146268, \"comparison_sort_order\": 2, \"iteration\": 3}, {\"comparison_name\": \"month_of_birth\", \"sql_condition\": \"\\\"month_of_birth_l\\\" = \\\"month_of_birth_r\\\"\", \"label_for_charts\": \"Exact match\", \"m_probability\": 0.9824273678746885, \"u_probability\": 0.08358610359130632, \"m_probability_description\": \"Amongst matching record comparisons, 98.24% of records are in the exact match comparison level\", \"u_probability_description\": \"Amongst non-matching record comparisons, 8.36% of records are in the exact match comparison level\", \"has_tf_adjustments\": false, \"tf_adjustment_column\": null, \"tf_adjustment_weight\": 1.0, \"is_null_level\": false, \"bayes_factor\": 11.753477260744924, \"log2_bayes_factor\": 3.5550157354798535, \"comparison_vector_value\": 2, \"max_comparison_vector_value\": 2, \"bayes_factor_description\": \"If comparison level is `exact match` then comparison is 11.75 times more likely to be a match\", \"probability_two_random_records_match\": 0.006814244865146268, \"comparison_sort_order\": 3, \"iteration\": 3}, {\"comparison_name\": \"month_of_birth\", \"sql_condition\": \"abs(month_of_birth_l - month_of_birth_r) <= 3\", \"label_for_charts\": \"Inexact match\", \"m_probability\": 0.00912262799681112, \"u_probability\": 0.419960264938525, \"m_probability_description\": \"Amongst matching record comparisons, 0.91% of records are in the inexact match comparison level\", \"u_probability_description\": \"Amongst non-matching record comparisons, 42.00% of records are in the inexact match comparison level\", \"has_tf_adjustments\": false, \"tf_adjustment_column\": null, \"tf_adjustment_weight\": 1.0, \"is_null_level\": false, \"bayes_factor\": 0.021722597965658764, \"log2_bayes_factor\": -5.524659533776393, \"comparison_vector_value\": 1, \"max_comparison_vector_value\": 2, \"bayes_factor_description\": \"If comparison level is `inexact match` then comparison is  46.04 times less likely to be a match\", \"probability_two_random_records_match\": 0.006814244865146268, \"comparison_sort_order\": 3, \"iteration\": 3}, {\"comparison_name\": \"month_of_birth\", \"sql_condition\": \"ELSE\", \"label_for_charts\": \"All other comparisons\", \"m_probability\": 0.00845000412850025, \"u_probability\": 0.4964536314701687, \"m_probability_description\": \"Amongst matching record comparisons, 0.85% of records are in the all other comparisons comparison level\", \"u_probability_description\": \"Amongst non-matching record comparisons, 49.65% of records are in the all other comparisons comparison level\", \"has_tf_adjustments\": false, \"tf_adjustment_column\": null, \"tf_adjustment_weight\": 1.0, \"is_null_level\": false, \"bayes_factor\": 0.017020731832451105, \"log2_bayes_factor\": -5.876563120532897, \"comparison_vector_value\": 0, \"max_comparison_vector_value\": 2, \"bayes_factor_description\": \"If comparison level is `all other comparisons` then comparison is  58.75 times less likely to be a match\", \"probability_two_random_records_match\": 0.006814244865146268, \"comparison_sort_order\": 3, \"iteration\": 3}, {\"comparison_name\": \"year_of_birth\", \"sql_condition\": \"\\\"year_of_birth_l\\\" = \\\"year_of_birth_r\\\"\", \"label_for_charts\": \"Exact match\", \"m_probability\": 0.965756823710522, \"u_probability\": 0.010988145230220372, \"m_probability_description\": \"Amongst matching record comparisons, 96.58% of records are in the exact match comparison level\", \"u_probability_description\": \"Amongst non-matching record comparisons, 1.10% of records are in the exact match comparison level\", \"has_tf_adjustments\": false, \"tf_adjustment_column\": null, \"tf_adjustment_weight\": 1.0, \"is_null_level\": false, \"bayes_factor\": 87.8907953504682, \"log2_bayes_factor\": 6.457640177234677, \"comparison_vector_value\": 2, \"max_comparison_vector_value\": 2, \"bayes_factor_description\": \"If comparison level is `exact match` then comparison is 87.89 times more likely to be a match\", \"probability_two_random_records_match\": 0.006814244865146268, \"comparison_sort_order\": 4, \"iteration\": 3}, {\"comparison_name\": \"year_of_birth\", \"sql_condition\": \"abs(year_of_birth_l - year_of_birth_r) <= 5\", \"label_for_charts\": \"Inexact match\", \"m_probability\": 0.010912340378871252, \"u_probability\": 0.10851628136997345, \"m_probability_description\": \"Amongst matching record comparisons, 1.09% of records are in the inexact match comparison level\", \"u_probability_description\": \"Amongst non-matching record comparisons, 10.85% of records are in the inexact match comparison level\", \"has_tf_adjustments\": false, \"tf_adjustment_column\": null, \"tf_adjustment_weight\": 1.0, \"is_null_level\": false, \"bayes_factor\": 0.10055947587871092, \"log2_bayes_factor\": -3.3138790593993104, \"comparison_vector_value\": 1, \"max_comparison_vector_value\": 2, \"bayes_factor_description\": \"If comparison level is `inexact match` then comparison is  9.94 times less likely to be a match\", \"probability_two_random_records_match\": 0.006814244865146268, \"comparison_sort_order\": 4, \"iteration\": 3}, {\"comparison_name\": \"year_of_birth\", \"sql_condition\": \"ELSE\", \"label_for_charts\": \"All other comparisons\", \"m_probability\": 0.023330835910606754, \"u_probability\": 0.8804955733998062, \"m_probability_description\": \"Amongst matching record comparisons, 2.33% of records are in the all other comparisons comparison level\", \"u_probability_description\": \"Amongst non-matching record comparisons, 88.05% of records are in the all other comparisons comparison level\", \"has_tf_adjustments\": false, \"tf_adjustment_column\": null, \"tf_adjustment_weight\": 1.0, \"is_null_level\": false, \"bayes_factor\": 0.026497391486615608, \"log2_bayes_factor\": -5.238005848006608, \"comparison_vector_value\": 0, \"max_comparison_vector_value\": 2, \"bayes_factor_description\": \"If comparison level is `all other comparisons` then comparison is  37.74 times less likely to be a match\", \"probability_two_random_records_match\": 0.006814244865146268, \"comparison_sort_order\": 4, \"iteration\": 3}, {\"comparison_name\": \"geokey\", \"sql_condition\": \"\\\"geokey_l\\\" = \\\"geokey_r\\\"\", \"label_for_charts\": \"Exact match\", \"m_probability\": 0.4524137784582145, \"u_probability\": 0.0019196584849132347, \"m_probability_description\": \"Amongst matching record comparisons, 45.24% of records are in the exact match comparison level\", \"u_probability_description\": \"Amongst non-matching record comparisons, 0.19% of records are in the exact match comparison level\", \"has_tf_adjustments\": false, \"tf_adjustment_column\": null, \"tf_adjustment_weight\": 1.0, \"is_null_level\": false, \"bayes_factor\": 235.67409620709844, \"log2_bayes_factor\": 7.880649385243204, \"comparison_vector_value\": 2, \"max_comparison_vector_value\": 2, \"bayes_factor_description\": \"If comparison level is `exact match` then comparison is 235.67 times more likely to be a match\", \"probability_two_random_records_match\": 0.006814244865146268, \"comparison_sort_order\": 5, \"iteration\": 3}, {\"comparison_name\": \"geokey\", \"sql_condition\": \"jaro_winkler_similarity(\\\"geokey_l\\\", \\\"geokey_r\\\") >= 0.7222222222222222\", \"label_for_charts\": \"Jaro_winkler_similarity >= 0.7222222222222222\", \"m_probability\": 0.44029322919475933, \"u_probability\": 0.3870547506148817, \"m_probability_description\": \"Amongst matching record comparisons, 44.03% of records are in the jaro_winkler_similarity >= 0.7222222222222222 comparison level\", \"u_probability_description\": \"Amongst non-matching record comparisons, 38.71% of records are in the jaro_winkler_similarity >= 0.7222222222222222 comparison level\", \"has_tf_adjustments\": false, \"tf_adjustment_column\": null, \"tf_adjustment_weight\": 1.0, \"is_null_level\": false, \"bayes_factor\": 1.1375476686316395, \"log2_bayes_factor\": 0.18592700232894327, \"comparison_vector_value\": 1, \"max_comparison_vector_value\": 2, \"bayes_factor_description\": \"If comparison level is `jaro_winkler_similarity >= 0.7222222222222222` then comparison is 1.14 times more likely to be a match\", \"probability_two_random_records_match\": 0.006814244865146268, \"comparison_sort_order\": 5, \"iteration\": 3}, {\"comparison_name\": \"geokey\", \"sql_condition\": \"ELSE\", \"label_for_charts\": \"All other comparisons\", \"m_probability\": 0.10729299234702612, \"u_probability\": 0.611025590900205, \"m_probability_description\": \"Amongst matching record comparisons, 10.73% of records are in the all other comparisons comparison level\", \"u_probability_description\": \"Amongst non-matching record comparisons, 61.10% of records are in the all other comparisons comparison level\", \"has_tf_adjustments\": false, \"tf_adjustment_column\": null, \"tf_adjustment_weight\": 1.0, \"is_null_level\": false, \"bayes_factor\": 0.17559492424687922, \"log2_bayes_factor\": -2.5096769520054987, \"comparison_vector_value\": 0, \"max_comparison_vector_value\": 2, \"bayes_factor_description\": \"If comparison level is `all other comparisons` then comparison is  5.69 times less likely to be a match\", \"probability_two_random_records_match\": 0.006814244865146268, \"comparison_sort_order\": 5, \"iteration\": 3}, {\"comparison_name\": \"last_name_12\", \"sql_condition\": \"\\\"last_name_12_l\\\" = \\\"last_name_12_r\\\"\", \"label_for_charts\": \"Exact match\", \"m_probability\": 0.8744496089534092, \"u_probability\": 0.0006599706231126029, \"m_probability_description\": \"Amongst matching record comparisons, 87.44% of records are in the exact match comparison level\", \"u_probability_description\": \"Amongst non-matching record comparisons, 0.07% of records are in the exact match comparison level\", \"has_tf_adjustments\": false, \"tf_adjustment_column\": null, \"tf_adjustment_weight\": 1.0, \"is_null_level\": false, \"bayes_factor\": 1324.9826254830318, \"log2_bayes_factor\": 10.371757726380329, \"comparison_vector_value\": 2, \"max_comparison_vector_value\": 2, \"bayes_factor_description\": \"If comparison level is `exact match` then comparison is 1,324.98 times more likely to be a match\", \"probability_two_random_records_match\": 0.006814244865146268, \"comparison_sort_order\": 0, \"iteration\": 4}, {\"comparison_name\": \"last_name_12\", \"sql_condition\": \"jaro_winkler_similarity(\\\"last_name_12_l\\\", \\\"last_name_12_r\\\") >= 0.8333333333333334\", \"label_for_charts\": \"Jaro_winkler_similarity >= 0.8333333333333334\", \"m_probability\": 0.09555201379103445, \"u_probability\": 0.0013437257720127285, \"m_probability_description\": \"Amongst matching record comparisons, 9.56% of records are in the jaro_winkler_similarity >= 0.8333333333333334 comparison level\", \"u_probability_description\": \"Amongst non-matching record comparisons, 0.13% of records are in the jaro_winkler_similarity >= 0.8333333333333334 comparison level\", \"has_tf_adjustments\": false, \"tf_adjustment_column\": null, \"tf_adjustment_weight\": 1.0, \"is_null_level\": false, \"bayes_factor\": 71.10975749755087, \"log2_bayes_factor\": 6.151975631208463, \"comparison_vector_value\": 1, \"max_comparison_vector_value\": 2, \"bayes_factor_description\": \"If comparison level is `jaro_winkler_similarity >= 0.8333333333333334` then comparison is 71.11 times more likely to be a match\", \"probability_two_random_records_match\": 0.006814244865146268, \"comparison_sort_order\": 0, \"iteration\": 4}, {\"comparison_name\": \"last_name_12\", \"sql_condition\": \"ELSE\", \"label_for_charts\": \"All other comparisons\", \"m_probability\": 0.029998377255556295, \"u_probability\": 0.9979963036048747, \"m_probability_description\": \"Amongst matching record comparisons, 3.00% of records are in the all other comparisons comparison level\", \"u_probability_description\": \"Amongst non-matching record comparisons, 99.80% of records are in the all other comparisons comparison level\", \"has_tf_adjustments\": false, \"tf_adjustment_column\": null, \"tf_adjustment_weight\": 1.0, \"is_null_level\": false, \"bayes_factor\": 0.030058605575189797, \"log2_bayes_factor\": -5.056078105883725, \"comparison_vector_value\": 0, \"max_comparison_vector_value\": 2, \"bayes_factor_description\": \"If comparison level is `all other comparisons` then comparison is  33.27 times less likely to be a match\", \"probability_two_random_records_match\": 0.006814244865146268, \"comparison_sort_order\": 0, \"iteration\": 4}, {\"comparison_name\": \"middle_initial\", \"sql_condition\": \"\\\"middle_initial_l\\\" = \\\"middle_initial_r\\\"\", \"label_for_charts\": \"Exact match\", \"m_probability\": 0.9410118511916141, \"u_probability\": 0.07356305686300955, \"m_probability_description\": \"Amongst matching record comparisons, 94.10% of records are in the exact match comparison level\", \"u_probability_description\": \"Amongst non-matching record comparisons, 7.36% of records are in the exact match comparison level\", \"has_tf_adjustments\": false, \"tf_adjustment_column\": null, \"tf_adjustment_weight\": 1.0, \"is_null_level\": false, \"bayes_factor\": 12.791907940204052, \"log2_bayes_factor\": 3.6771595561815196, \"comparison_vector_value\": 1, \"max_comparison_vector_value\": 1, \"bayes_factor_description\": \"If comparison level is `exact match` then comparison is 12.79 times more likely to be a match\", \"probability_two_random_records_match\": 0.006814244865146268, \"comparison_sort_order\": 1, \"iteration\": 4}, {\"comparison_name\": \"middle_initial\", \"sql_condition\": \"ELSE\", \"label_for_charts\": \"All other comparisons\", \"m_probability\": 0.05898814880838588, \"u_probability\": 0.9264369431369904, \"m_probability_description\": \"Amongst matching record comparisons, 5.90% of records are in the all other comparisons comparison level\", \"u_probability_description\": \"Amongst non-matching record comparisons, 92.64% of records are in the all other comparisons comparison level\", \"has_tf_adjustments\": false, \"tf_adjustment_column\": null, \"tf_adjustment_weight\": 1.0, \"is_null_level\": false, \"bayes_factor\": 0.06367206019294443, \"log2_bayes_factor\": -3.9731957445091792, \"comparison_vector_value\": 0, \"max_comparison_vector_value\": 1, \"bayes_factor_description\": \"If comparison level is `all other comparisons` then comparison is  15.71 times less likely to be a match\", \"probability_two_random_records_match\": 0.006814244865146268, \"comparison_sort_order\": 1, \"iteration\": 4}, {\"comparison_name\": \"day_of_birth\", \"sql_condition\": \"\\\"day_of_birth_l\\\" = \\\"day_of_birth_r\\\"\", \"label_for_charts\": \"Exact match\", \"m_probability\": 0.9728784619405288, \"u_probability\": 0.032464174125328385, \"m_probability_description\": \"Amongst matching record comparisons, 97.29% of records are in the exact match comparison level\", \"u_probability_description\": \"Amongst non-matching record comparisons, 3.25% of records are in the exact match comparison level\", \"has_tf_adjustments\": false, \"tf_adjustment_column\": null, \"tf_adjustment_weight\": 1.0, \"is_null_level\": false, \"bayes_factor\": 29.96775640078563, \"log2_bayes_factor\": 4.905339172378379, \"comparison_vector_value\": 2, \"max_comparison_vector_value\": 2, \"bayes_factor_description\": \"If comparison level is `exact match` then comparison is 29.97 times more likely to be a match\", \"probability_two_random_records_match\": 0.006814244865146268, \"comparison_sort_order\": 2, \"iteration\": 4}, {\"comparison_name\": \"day_of_birth\", \"sql_condition\": \"abs(day_of_birth_l - day_of_birth_r) <= 5\", \"label_for_charts\": \"Inexact match\", \"m_probability\": 0.019574615437276576, \"u_probability\": 0.2965057730184639, \"m_probability_description\": \"Amongst matching record comparisons, 1.96% of records are in the inexact match comparison level\", \"u_probability_description\": \"Amongst non-matching record comparisons, 29.65% of records are in the inexact match comparison level\", \"has_tf_adjustments\": false, \"tf_adjustment_column\": null, \"tf_adjustment_weight\": 1.0, \"is_null_level\": false, \"bayes_factor\": 0.06601765368007735, \"log2_bayes_factor\": -3.9210043248324107, \"comparison_vector_value\": 1, \"max_comparison_vector_value\": 2, \"bayes_factor_description\": \"If comparison level is `inexact match` then comparison is  15.15 times less likely to be a match\", \"probability_two_random_records_match\": 0.006814244865146268, \"comparison_sort_order\": 2, \"iteration\": 4}, {\"comparison_name\": \"day_of_birth\", \"sql_condition\": \"ELSE\", \"label_for_charts\": \"All other comparisons\", \"m_probability\": 0.0075469226221945955, \"u_probability\": 0.6710300528562076, \"m_probability_description\": \"Amongst matching record comparisons, 0.75% of records are in the all other comparisons comparison level\", \"u_probability_description\": \"Amongst non-matching record comparisons, 67.10% of records are in the all other comparisons comparison level\", \"has_tf_adjustments\": false, \"tf_adjustment_column\": null, \"tf_adjustment_weight\": 1.0, \"is_null_level\": false, \"bayes_factor\": 0.011246772912884418, \"log2_bayes_factor\": -6.474345087928423, \"comparison_vector_value\": 0, \"max_comparison_vector_value\": 2, \"bayes_factor_description\": \"If comparison level is `all other comparisons` then comparison is  88.91 times less likely to be a match\", \"probability_two_random_records_match\": 0.006814244865146268, \"comparison_sort_order\": 2, \"iteration\": 4}, {\"comparison_name\": \"month_of_birth\", \"sql_condition\": \"\\\"month_of_birth_l\\\" = \\\"month_of_birth_r\\\"\", \"label_for_charts\": \"Exact match\", \"m_probability\": 0.98257605322607, \"u_probability\": 0.08358610359130632, \"m_probability_description\": \"Amongst matching record comparisons, 98.26% of records are in the exact match comparison level\", \"u_probability_description\": \"Amongst non-matching record comparisons, 8.36% of records are in the exact match comparison level\", \"has_tf_adjustments\": false, \"tf_adjustment_column\": null, \"tf_adjustment_weight\": 1.0, \"is_null_level\": false, \"bayes_factor\": 11.755256089341943, \"log2_bayes_factor\": 3.5552340634656443, \"comparison_vector_value\": 2, \"max_comparison_vector_value\": 2, \"bayes_factor_description\": \"If comparison level is `exact match` then comparison is 11.76 times more likely to be a match\", \"probability_two_random_records_match\": 0.006814244865146268, \"comparison_sort_order\": 3, \"iteration\": 4}, {\"comparison_name\": \"month_of_birth\", \"sql_condition\": \"abs(month_of_birth_l - month_of_birth_r) <= 3\", \"label_for_charts\": \"Inexact match\", \"m_probability\": 0.009044808091788559, \"u_probability\": 0.419960264938525, \"m_probability_description\": \"Amongst matching record comparisons, 0.90% of records are in the inexact match comparison level\", \"u_probability_description\": \"Amongst non-matching record comparisons, 42.00% of records are in the inexact match comparison level\", \"has_tf_adjustments\": false, \"tf_adjustment_column\": null, \"tf_adjustment_weight\": 1.0, \"is_null_level\": false, \"bayes_factor\": 0.021537294946493483, \"log2_bayes_factor\": -5.5370191289523705, \"comparison_vector_value\": 1, \"max_comparison_vector_value\": 2, \"bayes_factor_description\": \"If comparison level is `inexact match` then comparison is  46.43 times less likely to be a match\", \"probability_two_random_records_match\": 0.006814244865146268, \"comparison_sort_order\": 3, \"iteration\": 4}, {\"comparison_name\": \"month_of_birth\", \"sql_condition\": \"ELSE\", \"label_for_charts\": \"All other comparisons\", \"m_probability\": 0.008379138682141449, \"u_probability\": 0.4964536314701687, \"m_probability_description\": \"Amongst matching record comparisons, 0.84% of records are in the all other comparisons comparison level\", \"u_probability_description\": \"Amongst non-matching record comparisons, 49.65% of records are in the all other comparisons comparison level\", \"has_tf_adjustments\": false, \"tf_adjustment_column\": null, \"tf_adjustment_weight\": 1.0, \"is_null_level\": false, \"bayes_factor\": 0.016877988498800903, \"log2_bayes_factor\": -5.888713214386349, \"comparison_vector_value\": 0, \"max_comparison_vector_value\": 2, \"bayes_factor_description\": \"If comparison level is `all other comparisons` then comparison is  59.25 times less likely to be a match\", \"probability_two_random_records_match\": 0.006814244865146268, \"comparison_sort_order\": 3, \"iteration\": 4}, {\"comparison_name\": \"year_of_birth\", \"sql_condition\": \"\\\"year_of_birth_l\\\" = \\\"year_of_birth_r\\\"\", \"label_for_charts\": \"Exact match\", \"m_probability\": 0.9658770980330909, \"u_probability\": 0.010988145230220372, \"m_probability_description\": \"Amongst matching record comparisons, 96.59% of records are in the exact match comparison level\", \"u_probability_description\": \"Amongst non-matching record comparisons, 1.10% of records are in the exact match comparison level\", \"has_tf_adjustments\": false, \"tf_adjustment_column\": null, \"tf_adjustment_weight\": 1.0, \"is_null_level\": false, \"bayes_factor\": 87.90174117617845, \"log2_bayes_factor\": 6.4578198377459035, \"comparison_vector_value\": 2, \"max_comparison_vector_value\": 2, \"bayes_factor_description\": \"If comparison level is `exact match` then comparison is 87.90 times more likely to be a match\", \"probability_two_random_records_match\": 0.006814244865146268, \"comparison_sort_order\": 4, \"iteration\": 4}, {\"comparison_name\": \"year_of_birth\", \"sql_condition\": \"abs(year_of_birth_l - year_of_birth_r) <= 5\", \"label_for_charts\": \"Inexact match\", \"m_probability\": 0.010886615879047084, \"u_probability\": 0.10851628136997345, \"m_probability_description\": \"Amongst matching record comparisons, 1.09% of records are in the inexact match comparison level\", \"u_probability_description\": \"Amongst non-matching record comparisons, 10.85% of records are in the inexact match comparison level\", \"has_tf_adjustments\": false, \"tf_adjustment_column\": null, \"tf_adjustment_weight\": 1.0, \"is_null_level\": false, \"bayes_factor\": 0.10032241928683912, \"log2_bayes_factor\": -3.317284050456139, \"comparison_vector_value\": 1, \"max_comparison_vector_value\": 2, \"bayes_factor_description\": \"If comparison level is `inexact match` then comparison is  9.97 times less likely to be a match\", \"probability_two_random_records_match\": 0.006814244865146268, \"comparison_sort_order\": 4, \"iteration\": 4}, {\"comparison_name\": \"year_of_birth\", \"sql_condition\": \"ELSE\", \"label_for_charts\": \"All other comparisons\", \"m_probability\": 0.023236286087862035, \"u_probability\": 0.8804955733998062, \"m_probability_description\": \"Amongst matching record comparisons, 2.32% of records are in the all other comparisons comparison level\", \"u_probability_description\": \"Amongst non-matching record comparisons, 88.05% of records are in the all other comparisons comparison level\", \"has_tf_adjustments\": false, \"tf_adjustment_column\": null, \"tf_adjustment_weight\": 1.0, \"is_null_level\": false, \"bayes_factor\": 0.026390008978853942, \"log2_bayes_factor\": -5.243864348252421, \"comparison_vector_value\": 0, \"max_comparison_vector_value\": 2, \"bayes_factor_description\": \"If comparison level is `all other comparisons` then comparison is  37.89 times less likely to be a match\", \"probability_two_random_records_match\": 0.006814244865146268, \"comparison_sort_order\": 4, \"iteration\": 4}, {\"comparison_name\": \"geokey\", \"sql_condition\": \"\\\"geokey_l\\\" = \\\"geokey_r\\\"\", \"label_for_charts\": \"Exact match\", \"m_probability\": 0.4523874476801769, \"u_probability\": 0.0019196584849132347, \"m_probability_description\": \"Amongst matching record comparisons, 45.24% of records are in the exact match comparison level\", \"u_probability_description\": \"Amongst non-matching record comparisons, 0.19% of records are in the exact match comparison level\", \"has_tf_adjustments\": false, \"tf_adjustment_column\": null, \"tf_adjustment_weight\": 1.0, \"is_null_level\": false, \"bayes_factor\": 235.6603798204367, \"log2_bayes_factor\": 7.880565417003969, \"comparison_vector_value\": 2, \"max_comparison_vector_value\": 2, \"bayes_factor_description\": \"If comparison level is `exact match` then comparison is 235.66 times more likely to be a match\", \"probability_two_random_records_match\": 0.006814244865146268, \"comparison_sort_order\": 5, \"iteration\": 4}, {\"comparison_name\": \"geokey\", \"sql_condition\": \"jaro_winkler_similarity(\\\"geokey_l\\\", \\\"geokey_r\\\") >= 0.7222222222222222\", \"label_for_charts\": \"Jaro_winkler_similarity >= 0.7222222222222222\", \"m_probability\": 0.4403088335398938, \"u_probability\": 0.3870547506148817, \"m_probability_description\": \"Amongst matching record comparisons, 44.03% of records are in the jaro_winkler_similarity >= 0.7222222222222222 comparison level\", \"u_probability_description\": \"Amongst non-matching record comparisons, 38.71% of records are in the jaro_winkler_similarity >= 0.7222222222222222 comparison level\", \"has_tf_adjustments\": false, \"tf_adjustment_column\": null, \"tf_adjustment_weight\": 1.0, \"is_null_level\": false, \"bayes_factor\": 1.1375879842332688, \"log2_bayes_factor\": 0.18597813169212996, \"comparison_vector_value\": 1, \"max_comparison_vector_value\": 2, \"bayes_factor_description\": \"If comparison level is `jaro_winkler_similarity >= 0.7222222222222222` then comparison is 1.14 times more likely to be a match\", \"probability_two_random_records_match\": 0.006814244865146268, \"comparison_sort_order\": 5, \"iteration\": 4}, {\"comparison_name\": \"geokey\", \"sql_condition\": \"ELSE\", \"label_for_charts\": \"All other comparisons\", \"m_probability\": 0.10730371877992934, \"u_probability\": 0.611025590900205, \"m_probability_description\": \"Amongst matching record comparisons, 10.73% of records are in the all other comparisons comparison level\", \"u_probability_description\": \"Amongst non-matching record comparisons, 61.10% of records are in the all other comparisons comparison level\", \"has_tf_adjustments\": false, \"tf_adjustment_column\": null, \"tf_adjustment_weight\": 1.0, \"is_null_level\": false, \"bayes_factor\": 0.17561247904828683, \"log2_bayes_factor\": -2.509532728252138, \"comparison_vector_value\": 0, \"max_comparison_vector_value\": 2, \"bayes_factor_description\": \"If comparison level is `all other comparisons` then comparison is  5.69 times less likely to be a match\", \"probability_two_random_records_match\": 0.006814244865146268, \"comparison_sort_order\": 5, \"iteration\": 4}, {\"comparison_name\": \"last_name_12\", \"sql_condition\": \"\\\"last_name_12_l\\\" = \\\"last_name_12_r\\\"\", \"label_for_charts\": \"Exact match\", \"m_probability\": 0.8744425068250526, \"u_probability\": 0.0006599706231126029, \"m_probability_description\": \"Amongst matching record comparisons, 87.44% of records are in the exact match comparison level\", \"u_probability_description\": \"Amongst non-matching record comparisons, 0.07% of records are in the exact match comparison level\", \"has_tf_adjustments\": false, \"tf_adjustment_column\": null, \"tf_adjustment_weight\": 1.0, \"is_null_level\": false, \"bayes_factor\": 1324.9718642035025, \"log2_bayes_factor\": 10.371746009013354, \"comparison_vector_value\": 2, \"max_comparison_vector_value\": 2, \"bayes_factor_description\": \"If comparison level is `exact match` then comparison is 1,324.97 times more likely to be a match\", \"probability_two_random_records_match\": 0.006814244865146268, \"comparison_sort_order\": 0, \"iteration\": 5}, {\"comparison_name\": \"last_name_12\", \"sql_condition\": \"jaro_winkler_similarity(\\\"last_name_12_l\\\", \\\"last_name_12_r\\\") >= 0.8333333333333334\", \"label_for_charts\": \"Jaro_winkler_similarity >= 0.8333333333333334\", \"m_probability\": 0.0955534957845705, \"u_probability\": 0.0013437257720127285, \"m_probability_description\": \"Amongst matching record comparisons, 9.56% of records are in the jaro_winkler_similarity >= 0.8333333333333334 comparison level\", \"u_probability_description\": \"Amongst non-matching record comparisons, 0.13% of records are in the jaro_winkler_similarity >= 0.8333333333333334 comparison level\", \"has_tf_adjustments\": false, \"tf_adjustment_column\": null, \"tf_adjustment_weight\": 1.0, \"is_null_level\": false, \"bayes_factor\": 71.11086039634682, \"log2_bayes_factor\": 6.151998006960264, \"comparison_vector_value\": 1, \"max_comparison_vector_value\": 2, \"bayes_factor_description\": \"If comparison level is `jaro_winkler_similarity >= 0.8333333333333334` then comparison is 71.11 times more likely to be a match\", \"probability_two_random_records_match\": 0.006814244865146268, \"comparison_sort_order\": 0, \"iteration\": 5}, {\"comparison_name\": \"last_name_12\", \"sql_condition\": \"ELSE\", \"label_for_charts\": \"All other comparisons\", \"m_probability\": 0.03000399739037679, \"u_probability\": 0.9979963036048747, \"m_probability_description\": \"Amongst matching record comparisons, 3.00% of records are in the all other comparisons comparison level\", \"u_probability_description\": \"Amongst non-matching record comparisons, 99.80% of records are in the all other comparisons comparison level\", \"has_tf_adjustments\": false, \"tf_adjustment_column\": null, \"tf_adjustment_weight\": 1.0, \"is_null_level\": false, \"bayes_factor\": 0.030064236993663188, \"log2_bayes_factor\": -5.055807845224669, \"comparison_vector_value\": 0, \"max_comparison_vector_value\": 2, \"bayes_factor_description\": \"If comparison level is `all other comparisons` then comparison is  33.26 times less likely to be a match\", \"probability_two_random_records_match\": 0.006814244865146268, \"comparison_sort_order\": 0, \"iteration\": 5}, {\"comparison_name\": \"middle_initial\", \"sql_condition\": \"\\\"middle_initial_l\\\" = \\\"middle_initial_r\\\"\", \"label_for_charts\": \"Exact match\", \"m_probability\": 0.9410121677945328, \"u_probability\": 0.07356305686300955, \"m_probability_description\": \"Amongst matching record comparisons, 94.10% of records are in the exact match comparison level\", \"u_probability_description\": \"Amongst non-matching record comparisons, 7.36% of records are in the exact match comparison level\", \"has_tf_adjustments\": false, \"tf_adjustment_column\": null, \"tf_adjustment_weight\": 1.0, \"is_null_level\": false, \"bayes_factor\": 12.791912244034428, \"log2_bayes_factor\": 3.677160041575389, \"comparison_vector_value\": 1, \"max_comparison_vector_value\": 1, \"bayes_factor_description\": \"If comparison level is `exact match` then comparison is 12.79 times more likely to be a match\", \"probability_two_random_records_match\": 0.006814244865146268, \"comparison_sort_order\": 1, \"iteration\": 5}, {\"comparison_name\": \"middle_initial\", \"sql_condition\": \"ELSE\", \"label_for_charts\": \"All other comparisons\", \"m_probability\": 0.058987832205467244, \"u_probability\": 0.9264369431369904, \"m_probability_description\": \"Amongst matching record comparisons, 5.90% of records are in the all other comparisons comparison level\", \"u_probability_description\": \"Amongst non-matching record comparisons, 92.64% of records are in the all other comparisons comparison level\", \"has_tf_adjustments\": false, \"tf_adjustment_column\": null, \"tf_adjustment_weight\": 1.0, \"is_null_level\": false, \"bayes_factor\": 0.06367171845039953, \"log2_bayes_factor\": -3.9732034878050047, \"comparison_vector_value\": 0, \"max_comparison_vector_value\": 1, \"bayes_factor_description\": \"If comparison level is `all other comparisons` then comparison is  15.71 times less likely to be a match\", \"probability_two_random_records_match\": 0.006814244865146268, \"comparison_sort_order\": 1, \"iteration\": 5}, {\"comparison_name\": \"day_of_birth\", \"sql_condition\": \"\\\"day_of_birth_l\\\" = \\\"day_of_birth_r\\\"\", \"label_for_charts\": \"Exact match\", \"m_probability\": 0.9729294383617619, \"u_probability\": 0.032464174125328385, \"m_probability_description\": \"Amongst matching record comparisons, 97.29% of records are in the exact match comparison level\", \"u_probability_description\": \"Amongst non-matching record comparisons, 3.25% of records are in the exact match comparison level\", \"has_tf_adjustments\": false, \"tf_adjustment_column\": null, \"tf_adjustment_weight\": 1.0, \"is_null_level\": false, \"bayes_factor\": 29.969326636980032, \"log2_bayes_factor\": 4.9054147640440515, \"comparison_vector_value\": 2, \"max_comparison_vector_value\": 2, \"bayes_factor_description\": \"If comparison level is `exact match` then comparison is 29.97 times more likely to be a match\", \"probability_two_random_records_match\": 0.006814244865146268, \"comparison_sort_order\": 2, \"iteration\": 5}, {\"comparison_name\": \"day_of_birth\", \"sql_condition\": \"abs(day_of_birth_l - day_of_birth_r) <= 5\", \"label_for_charts\": \"Inexact match\", \"m_probability\": 0.019565054339325493, \"u_probability\": 0.2965057730184639, \"m_probability_description\": \"Amongst matching record comparisons, 1.96% of records are in the inexact match comparison level\", \"u_probability_description\": \"Amongst non-matching record comparisons, 29.65% of records are in the inexact match comparison level\", \"has_tf_adjustments\": false, \"tf_adjustment_column\": null, \"tf_adjustment_weight\": 1.0, \"is_null_level\": false, \"bayes_factor\": 0.06598540777183162, \"log2_bayes_factor\": -3.921709172315927, \"comparison_vector_value\": 1, \"max_comparison_vector_value\": 2, \"bayes_factor_description\": \"If comparison level is `inexact match` then comparison is  15.15 times less likely to be a match\", \"probability_two_random_records_match\": 0.006814244865146268, \"comparison_sort_order\": 2, \"iteration\": 5}, {\"comparison_name\": \"day_of_birth\", \"sql_condition\": \"ELSE\", \"label_for_charts\": \"All other comparisons\", \"m_probability\": 0.0075055072989125985, \"u_probability\": 0.6710300528562076, \"m_probability_description\": \"Amongst matching record comparisons, 0.75% of records are in the all other comparisons comparison level\", \"u_probability_description\": \"Amongst non-matching record comparisons, 67.10% of records are in the all other comparisons comparison level\", \"has_tf_adjustments\": false, \"tf_adjustment_column\": null, \"tf_adjustment_weight\": 1.0, \"is_null_level\": false, \"bayes_factor\": 0.01118505388389948, \"log2_bayes_factor\": -6.4822839831901815, \"comparison_vector_value\": 0, \"max_comparison_vector_value\": 2, \"bayes_factor_description\": \"If comparison level is `all other comparisons` then comparison is  89.41 times less likely to be a match\", \"probability_two_random_records_match\": 0.006814244865146268, \"comparison_sort_order\": 2, \"iteration\": 5}, {\"comparison_name\": \"month_of_birth\", \"sql_condition\": \"\\\"month_of_birth_l\\\" = \\\"month_of_birth_r\\\"\", \"label_for_charts\": \"Exact match\", \"m_probability\": 0.9826190361038658, \"u_probability\": 0.08358610359130632, \"m_probability_description\": \"Amongst matching record comparisons, 98.26% of records are in the exact match comparison level\", \"u_probability_description\": \"Amongst non-matching record comparisons, 8.36% of records are in the exact match comparison level\", \"has_tf_adjustments\": false, \"tf_adjustment_column\": null, \"tf_adjustment_weight\": 1.0, \"is_null_level\": false, \"bayes_factor\": 11.755770324076535, \"log2_bayes_factor\": 3.5552971729095724, \"comparison_vector_value\": 2, \"max_comparison_vector_value\": 2, \"bayes_factor_description\": \"If comparison level is `exact match` then comparison is 11.76 times more likely to be a match\", \"probability_two_random_records_match\": 0.006814244865146268, \"comparison_sort_order\": 3, \"iteration\": 5}, {\"comparison_name\": \"month_of_birth\", \"sql_condition\": \"abs(month_of_birth_l - month_of_birth_r) <= 3\", \"label_for_charts\": \"Inexact match\", \"m_probability\": 0.009022720834560623, \"u_probability\": 0.419960264938525, \"m_probability_description\": \"Amongst matching record comparisons, 0.90% of records are in the inexact match comparison level\", \"u_probability_description\": \"Amongst non-matching record comparisons, 42.00% of records are in the inexact match comparison level\", \"has_tf_adjustments\": false, \"tf_adjustment_column\": null, \"tf_adjustment_weight\": 1.0, \"is_null_level\": false, \"bayes_factor\": 0.021484701263062102, \"log2_bayes_factor\": -5.5405464726719575, \"comparison_vector_value\": 1, \"max_comparison_vector_value\": 2, \"bayes_factor_description\": \"If comparison level is `inexact match` then comparison is  46.54 times less likely to be a match\", \"probability_two_random_records_match\": 0.006814244865146268, \"comparison_sort_order\": 3, \"iteration\": 5}, {\"comparison_name\": \"month_of_birth\", \"sql_condition\": \"ELSE\", \"label_for_charts\": \"All other comparisons\", \"m_probability\": 0.008358243061573659, \"u_probability\": 0.4964536314701687, \"m_probability_description\": \"Amongst matching record comparisons, 0.84% of records are in the all other comparisons comparison level\", \"u_probability_description\": \"Amongst non-matching record comparisons, 49.65% of records are in the all other comparisons comparison level\", \"has_tf_adjustments\": false, \"tf_adjustment_column\": null, \"tf_adjustment_weight\": 1.0, \"is_null_level\": false, \"bayes_factor\": 0.01683589872597376, \"log2_bayes_factor\": -5.8923154532900135, \"comparison_vector_value\": 0, \"max_comparison_vector_value\": 2, \"bayes_factor_description\": \"If comparison level is `all other comparisons` then comparison is  59.40 times less likely to be a match\", \"probability_two_random_records_match\": 0.006814244865146268, \"comparison_sort_order\": 3, \"iteration\": 5}, {\"comparison_name\": \"year_of_birth\", \"sql_condition\": \"\\\"year_of_birth_l\\\" = \\\"year_of_birth_r\\\"\", \"label_for_charts\": \"Exact match\", \"m_probability\": 0.9659136538935633, \"u_probability\": 0.010988145230220372, \"m_probability_description\": \"Amongst matching record comparisons, 96.59% of records are in the exact match comparison level\", \"u_probability_description\": \"Amongst non-matching record comparisons, 1.10% of records are in the exact match comparison level\", \"has_tf_adjustments\": false, \"tf_adjustment_column\": null, \"tf_adjustment_weight\": 1.0, \"is_null_level\": false, \"bayes_factor\": 87.9050680215838, \"log2_bayes_factor\": 6.45787443885482, \"comparison_vector_value\": 2, \"max_comparison_vector_value\": 2, \"bayes_factor_description\": \"If comparison level is `exact match` then comparison is 87.91 times more likely to be a match\", \"probability_two_random_records_match\": 0.006814244865146268, \"comparison_sort_order\": 4, \"iteration\": 5}, {\"comparison_name\": \"year_of_birth\", \"sql_condition\": \"abs(year_of_birth_l - year_of_birth_r) <= 5\", \"label_for_charts\": \"Inexact match\", \"m_probability\": 0.010877428309799745, \"u_probability\": 0.10851628136997345, \"m_probability_description\": \"Amongst matching record comparisons, 1.09% of records are in the inexact match comparison level\", \"u_probability_description\": \"Amongst non-matching record comparisons, 10.85% of records are in the inexact match comparison level\", \"has_tf_adjustments\": false, \"tf_adjustment_column\": null, \"tf_adjustment_weight\": 1.0, \"is_null_level\": false, \"bayes_factor\": 0.10023775393403353, \"log2_bayes_factor\": -3.3185021017763177, \"comparison_vector_value\": 1, \"max_comparison_vector_value\": 2, \"bayes_factor_description\": \"If comparison level is `inexact match` then comparison is  9.98 times less likely to be a match\", \"probability_two_random_records_match\": 0.006814244865146268, \"comparison_sort_order\": 4, \"iteration\": 5}, {\"comparison_name\": \"year_of_birth\", \"sql_condition\": \"ELSE\", \"label_for_charts\": \"All other comparisons\", \"m_probability\": 0.023208917796637002, \"u_probability\": 0.8804955733998062, \"m_probability_description\": \"Amongst matching record comparisons, 2.32% of records are in the all other comparisons comparison level\", \"u_probability_description\": \"Amongst non-matching record comparisons, 88.05% of records are in the all other comparisons comparison level\", \"has_tf_adjustments\": false, \"tf_adjustment_column\": null, \"tf_adjustment_weight\": 1.0, \"is_null_level\": false, \"bayes_factor\": 0.026358926152259644, \"log2_bayes_factor\": -5.245564592811413, \"comparison_vector_value\": 0, \"max_comparison_vector_value\": 2, \"bayes_factor_description\": \"If comparison level is `all other comparisons` then comparison is  37.94 times less likely to be a match\", \"probability_two_random_records_match\": 0.006814244865146268, \"comparison_sort_order\": 4, \"iteration\": 5}, {\"comparison_name\": \"geokey\", \"sql_condition\": \"\\\"geokey_l\\\" = \\\"geokey_r\\\"\", \"label_for_charts\": \"Exact match\", \"m_probability\": 0.4523829062897117, \"u_probability\": 0.0019196584849132347, \"m_probability_description\": \"Amongst matching record comparisons, 45.24% of records are in the exact match comparison level\", \"u_probability_description\": \"Amongst non-matching record comparisons, 0.19% of records are in the exact match comparison level\", \"has_tf_adjustments\": false, \"tf_adjustment_column\": null, \"tf_adjustment_weight\": 1.0, \"is_null_level\": false, \"bayes_factor\": 235.65801409210485, \"log2_bayes_factor\": 7.8805509341211595, \"comparison_vector_value\": 2, \"max_comparison_vector_value\": 2, \"bayes_factor_description\": \"If comparison level is `exact match` then comparison is 235.66 times more likely to be a match\", \"probability_two_random_records_match\": 0.006814244865146268, \"comparison_sort_order\": 5, \"iteration\": 5}, {\"comparison_name\": \"geokey\", \"sql_condition\": \"jaro_winkler_similarity(\\\"geokey_l\\\", \\\"geokey_r\\\") >= 0.7222222222222222\", \"label_for_charts\": \"Jaro_winkler_similarity >= 0.7222222222222222\", \"m_probability\": 0.44031150439850403, \"u_probability\": 0.3870547506148817, \"m_probability_description\": \"Amongst matching record comparisons, 44.03% of records are in the jaro_winkler_similarity >= 0.7222222222222222 comparison level\", \"u_probability_description\": \"Amongst non-matching record comparisons, 38.71% of records are in the jaro_winkler_similarity >= 0.7222222222222222 comparison level\", \"has_tf_adjustments\": false, \"tf_adjustment_column\": null, \"tf_adjustment_weight\": 1.0, \"is_null_level\": false, \"bayes_factor\": 1.1375948847004662, \"log2_bayes_factor\": 0.18598688287423626, \"comparison_vector_value\": 1, \"max_comparison_vector_value\": 2, \"bayes_factor_description\": \"If comparison level is `jaro_winkler_similarity >= 0.7222222222222222` then comparison is 1.14 times more likely to be a match\", \"probability_two_random_records_match\": 0.006814244865146268, \"comparison_sort_order\": 5, \"iteration\": 5}, {\"comparison_name\": \"geokey\", \"sql_condition\": \"ELSE\", \"label_for_charts\": \"All other comparisons\", \"m_probability\": 0.10730558931178416, \"u_probability\": 0.611025590900205, \"m_probability_description\": \"Amongst matching record comparisons, 10.73% of records are in the all other comparisons comparison level\", \"u_probability_description\": \"Amongst non-matching record comparisons, 61.10% of records are in the all other comparisons comparison level\", \"has_tf_adjustments\": false, \"tf_adjustment_column\": null, \"tf_adjustment_weight\": 1.0, \"is_null_level\": false, \"bayes_factor\": 0.1756155403469995, \"log2_bayes_factor\": -2.509507579230832, \"comparison_vector_value\": 0, \"max_comparison_vector_value\": 2, \"bayes_factor_description\": \"If comparison level is `all other comparisons` then comparison is  5.69 times less likely to be a match\", \"probability_two_random_records_match\": 0.006814244865146268, \"comparison_sort_order\": 5, \"iteration\": 5}]}}, {\"mode\": \"vega-lite\"});\n",
       "</script>"
      ],
      "text/plain": [
       "alt.HConcatChart(...)"
      ]
     },
     "execution_count": 52,
     "metadata": {},
     "output_type": "execute_result"
    }
   ],
   "source": [
    "em_session_1.m_u_values_interactive_history_chart()"
   ]
  },
  {
   "cell_type": "code",
   "execution_count": 53,
   "id": "13eae59d-f450-46df-99b6-79b2a8dfae6f",
   "metadata": {
    "execution": {
     "iopub.execute_input": "2024-06-01T00:28:52.382178Z",
     "iopub.status.busy": "2024-06-01T00:28:52.381373Z",
     "iopub.status.idle": "2024-06-01T00:28:52.674862Z",
     "shell.execute_reply": "2024-06-01T00:28:52.673629Z"
    },
    "papermill": {
     "duration": 0.323617,
     "end_time": "2024-06-01T00:28:52.680356",
     "exception": false,
     "start_time": "2024-06-01T00:28:52.356739",
     "status": "completed"
    },
    "tags": []
   },
   "outputs": [
    {
     "data": {
      "text/html": [
       "\n",
       "<style>\n",
       "  #altair-viz-431e9827440541f7b5e2a201f49529a7.vega-embed {\n",
       "    width: 100%;\n",
       "    display: flex;\n",
       "  }\n",
       "\n",
       "  #altair-viz-431e9827440541f7b5e2a201f49529a7.vega-embed details,\n",
       "  #altair-viz-431e9827440541f7b5e2a201f49529a7.vega-embed details summary {\n",
       "    position: relative;\n",
       "  }\n",
       "</style>\n",
       "<div id=\"altair-viz-431e9827440541f7b5e2a201f49529a7\"></div>\n",
       "<script type=\"text/javascript\">\n",
       "  var VEGA_DEBUG = (typeof VEGA_DEBUG == \"undefined\") ? {} : VEGA_DEBUG;\n",
       "  (function(spec, embedOpt){\n",
       "    let outputDiv = document.currentScript.previousElementSibling;\n",
       "    if (outputDiv.id !== \"altair-viz-431e9827440541f7b5e2a201f49529a7\") {\n",
       "      outputDiv = document.getElementById(\"altair-viz-431e9827440541f7b5e2a201f49529a7\");\n",
       "    }\n",
       "    const paths = {\n",
       "      \"vega\": \"https://cdn.jsdelivr.net/npm/vega@5?noext\",\n",
       "      \"vega-lib\": \"https://cdn.jsdelivr.net/npm/vega-lib?noext\",\n",
       "      \"vega-lite\": \"https://cdn.jsdelivr.net/npm/vega-lite@5.17.0?noext\",\n",
       "      \"vega-embed\": \"https://cdn.jsdelivr.net/npm/vega-embed@6?noext\",\n",
       "    };\n",
       "\n",
       "    function maybeLoadScript(lib, version) {\n",
       "      var key = `${lib.replace(\"-\", \"\")}_version`;\n",
       "      return (VEGA_DEBUG[key] == version) ?\n",
       "        Promise.resolve(paths[lib]) :\n",
       "        new Promise(function(resolve, reject) {\n",
       "          var s = document.createElement('script');\n",
       "          document.getElementsByTagName(\"head\")[0].appendChild(s);\n",
       "          s.async = true;\n",
       "          s.onload = () => {\n",
       "            VEGA_DEBUG[key] = version;\n",
       "            return resolve(paths[lib]);\n",
       "          };\n",
       "          s.onerror = () => reject(`Error loading script: ${paths[lib]}`);\n",
       "          s.src = paths[lib];\n",
       "        });\n",
       "    }\n",
       "\n",
       "    function showError(err) {\n",
       "      outputDiv.innerHTML = `<div class=\"error\" style=\"color:red;\">${err}</div>`;\n",
       "      throw err;\n",
       "    }\n",
       "\n",
       "    function displayChart(vegaEmbed) {\n",
       "      vegaEmbed(outputDiv, spec, embedOpt)\n",
       "        .catch(err => showError(`Javascript Error: ${err.message}<br>This usually means there's a typo in your chart specification. See the javascript console for the full traceback.`));\n",
       "    }\n",
       "\n",
       "    if(typeof define === \"function\" && define.amd) {\n",
       "      requirejs.config({paths});\n",
       "      require([\"vega-embed\"], displayChart, err => showError(`Error loading script: ${err.message}`));\n",
       "    } else {\n",
       "      maybeLoadScript(\"vega\", \"5\")\n",
       "        .then(() => maybeLoadScript(\"vega-lite\", \"5.17.0\"))\n",
       "        .then(() => maybeLoadScript(\"vega-embed\", \"6\"))\n",
       "        .catch(showError)\n",
       "        .then(() => displayChart(vegaEmbed));\n",
       "    }\n",
       "  })({\"config\": {\"view\": {\"continuousWidth\": 300, \"continuousHeight\": 300, \"discreteHeight\": 60, \"discreteWidth\": 400}, \"header\": {\"title\": null}, \"mark\": {\"tooltip\": null}, \"title\": {\"anchor\": \"middle\"}}, \"vconcat\": [{\"mark\": {\"type\": \"bar\", \"clip\": true, \"height\": 15}, \"encoding\": {\"color\": {\"field\": \"log2_bayes_factor\", \"scale\": {\"domain\": [-10, 0, 10], \"interpolate\": \"lab\", \"range\": [\"red\", \"#bbbbbb\", \"green\"]}, \"title\": \"Match weight\", \"type\": \"quantitative\"}, \"tooltip\": [{\"field\": \"comparison_name\", \"title\": \"Comparison name\", \"type\": \"nominal\"}, {\"field\": \"probability_two_random_records_match\", \"format\": \".4f\", \"title\": \"Probability two random records match\", \"type\": \"nominal\"}, {\"field\": \"log2_bayes_factor\", \"format\": \",.4f\", \"title\": \"Equivalent match weight\", \"type\": \"quantitative\"}, {\"field\": \"bayes_factor_description\", \"title\": \"Match weight description\", \"type\": \"nominal\"}], \"x\": {\"axis\": {\"domain\": false, \"gridColor\": {\"condition\": {\"test\": \"abs(datum.value / 10)  <= 1 & datum.value % 10 === 0\", \"value\": \"#aaa\"}, \"value\": \"#ddd\"}, \"gridDash\": {\"condition\": {\"test\": \"abs(datum.value / 10) == 1\", \"value\": [3]}, \"value\": null}, \"gridWidth\": {\"condition\": {\"test\": \"abs(datum.value / 10)  <= 1 & datum.value % 10 === 0\", \"value\": 2}, \"value\": 1}, \"labels\": false, \"ticks\": false, \"title\": \"\"}, \"field\": \"log2_bayes_factor\", \"scale\": {\"domain\": [-10, 10]}, \"type\": \"quantitative\"}, \"y\": {\"axis\": {\"title\": \"Prior (starting) match weight\", \"titleAlign\": \"right\", \"titleAngle\": 0, \"titleFontWeight\": \"normal\"}, \"field\": \"label_for_charts\", \"sort\": {\"field\": \"comparison_vector_value\", \"order\": \"descending\"}, \"type\": \"nominal\"}}, \"height\": 20, \"transform\": [{\"filter\": \"(datum.comparison_name == 'probability_two_random_records_match')\"}]}, {\"mark\": {\"type\": \"bar\", \"clip\": true}, \"encoding\": {\"color\": {\"field\": \"log2_bayes_factor\", \"scale\": {\"domain\": [-10, 0, 10], \"interpolate\": \"lab\", \"range\": [\"red\", \"#bbbbbb\", \"green\"]}, \"title\": \"Match weight\", \"type\": \"quantitative\"}, \"row\": {\"field\": \"comparison_name\", \"header\": {\"labelAlign\": \"left\", \"labelAnchor\": \"middle\", \"labelAngle\": 0}, \"sort\": {\"field\": \"comparison_sort_order\"}, \"type\": \"nominal\"}, \"tooltip\": [{\"field\": \"comparison_name\", \"title\": \"Comparison name\", \"type\": \"nominal\"}, {\"field\": \"label_for_charts\", \"title\": \"Label\", \"type\": \"ordinal\"}, {\"field\": \"sql_condition\", \"title\": \"SQL condition\", \"type\": \"nominal\"}, {\"field\": \"m_probability\", \"format\": \".4f\", \"title\": \"M probability\", \"type\": \"quantitative\"}, {\"field\": \"u_probability\", \"format\": \".4f\", \"title\": \"U probability\", \"type\": \"quantitative\"}, {\"field\": \"bayes_factor\", \"format\": \",.4f\", \"title\": \"Bayes factor = m/u\", \"type\": \"quantitative\"}, {\"field\": \"log2_bayes_factor\", \"format\": \",.4f\", \"title\": \"Match weight = log2(m/u)\", \"type\": \"quantitative\"}, {\"field\": \"bayes_factor_description\", \"title\": \"Match weight description\", \"type\": \"nominal\"}], \"x\": {\"axis\": {\"gridColor\": {\"condition\": {\"test\": \"abs(datum.value / 10)  <= 1 & datum.value % 10 === 0\", \"value\": \"#aaa\"}, \"value\": \"#ddd\"}, \"gridDash\": {\"condition\": {\"test\": \"abs(datum.value / 10) == 1\", \"value\": [3]}, \"value\": null}, \"gridWidth\": {\"condition\": {\"test\": \"abs(datum.value / 10)  <= 1 & datum.value % 10 === 0\", \"value\": 2}, \"value\": 1}, \"title\": \"Comparison level match weight = log2(m/u)\"}, \"field\": \"log2_bayes_factor\", \"scale\": {\"domain\": [-10, 10]}, \"type\": \"quantitative\"}, \"y\": {\"axis\": {\"title\": null}, \"field\": \"label_for_charts\", \"sort\": {\"field\": \"comparison_vector_value\", \"order\": \"descending\"}, \"type\": \"nominal\"}}, \"height\": {\"step\": 12}, \"resolve\": {\"axis\": {\"y\": \"independent\"}, \"scale\": {\"y\": \"independent\"}}, \"transform\": [{\"filter\": \"(datum.comparison_name != 'probability_two_random_records_match')\"}]}], \"data\": {\"name\": \"data-4e5370b57afdb7f2e738506267b088ac\"}, \"params\": [{\"name\": \"iteration_number\", \"bind\": {\"input\": \"range\", \"max\": 5, \"min\": 0, \"step\": 1}, \"value\": 5}, {\"name\": \"mouse_zoom\", \"select\": {\"type\": \"interval\", \"encodings\": [\"x\"]}, \"bind\": \"scales\", \"views\": []}], \"resolve\": {\"axis\": {\"y\": \"independent\"}, \"scale\": {\"y\": \"independent\"}}, \"title\": {\"text\": \"Model parameters (components of final match weight)\", \"subtitle\": \"Training session blocked on <Custom blocking rule using SQL: l.first_name_15 = r.first_name_15 and l.zipcode = r.zipcode>\"}, \"transform\": [{\"filter\": \"(datum.iteration == iteration_number)\"}], \"$schema\": \"https://vega.github.io/schema/vega-lite/v5.9.3.json\", \"datasets\": {\"data-4e5370b57afdb7f2e738506267b088ac\": [{\"comparison_name\": \"probability_two_random_records_match\", \"sql_condition\": null, \"label_for_charts\": \"\", \"m_probability\": null, \"u_probability\": null, \"m_probability_description\": null, \"u_probability_description\": null, \"has_tf_adjustments\": false, \"tf_adjustment_column\": null, \"tf_adjustment_weight\": null, \"is_null_level\": false, \"bayes_factor\": 0.006860997381321721, \"log2_bayes_factor\": -7.1873659688333635, \"comparison_vector_value\": 0, \"max_comparison_vector_value\": 0, \"bayes_factor_description\": \"The probability that two random records drawn at random match is 0.007 or one in  146.8 records.This is equivalent to a starting match weight of -7.187.\", \"probability_two_random_records_match\": 0.006814244865146268, \"comparison_sort_order\": -1, \"iteration\": 0}, {\"comparison_name\": \"last_name_12\", \"sql_condition\": \"\\\"last_name_12_l\\\" = \\\"last_name_12_r\\\"\", \"label_for_charts\": \"Exact match\", \"m_probability\": 0.95, \"u_probability\": 0.0006599706231126029, \"m_probability_description\": \"Amongst matching record comparisons, 95.00% of records are in the exact match comparison level\", \"u_probability_description\": \"Amongst non-matching record comparisons, 0.07% of records are in the exact match comparison level\", \"has_tf_adjustments\": false, \"tf_adjustment_column\": null, \"tf_adjustment_weight\": 1.0, \"is_null_level\": false, \"bayes_factor\": 1439.4580102967898, \"log2_bayes_factor\": 10.491309990048235, \"comparison_vector_value\": 2, \"max_comparison_vector_value\": 2, \"bayes_factor_description\": \"If comparison level is `exact match` then comparison is 1,439.46 times more likely to be a match\", \"probability_two_random_records_match\": 0.006814244865146268, \"comparison_sort_order\": 0, \"iteration\": 0}, {\"comparison_name\": \"last_name_12\", \"sql_condition\": \"jaro_winkler_similarity(\\\"last_name_12_l\\\", \\\"last_name_12_r\\\") >= 0.8333333333333334\", \"label_for_charts\": \"Jaro_winkler_similarity >= 0.8333333333333334\", \"m_probability\": 0.025000000000000022, \"u_probability\": 0.0013437257720127285, \"m_probability_description\": \"Amongst matching record comparisons, 2.50% of records are in the jaro_winkler_similarity >= 0.8333333333333334 comparison level\", \"u_probability_description\": \"Amongst non-matching record comparisons, 0.13% of records are in the jaro_winkler_similarity >= 0.8333333333333334 comparison level\", \"has_tf_adjustments\": false, \"tf_adjustment_column\": null, \"tf_adjustment_weight\": 1.0, \"is_null_level\": false, \"bayes_factor\": 18.60498661311916, \"log2_bayes_factor\": 4.217617447286358, \"comparison_vector_value\": 1, \"max_comparison_vector_value\": 2, \"bayes_factor_description\": \"If comparison level is `jaro_winkler_similarity >= 0.8333333333333334` then comparison is 18.60 times more likely to be a match\", \"probability_two_random_records_match\": 0.006814244865146268, \"comparison_sort_order\": 0, \"iteration\": 0}, {\"comparison_name\": \"last_name_12\", \"sql_condition\": \"ELSE\", \"label_for_charts\": \"All other comparisons\", \"m_probability\": 0.025000000000000022, \"u_probability\": 0.9979963036048747, \"m_probability_description\": \"Amongst matching record comparisons, 2.50% of records are in the all other comparisons comparison level\", \"u_probability_description\": \"Amongst non-matching record comparisons, 99.80% of records are in the all other comparisons comparison level\", \"has_tf_adjustments\": false, \"tf_adjustment_column\": null, \"tf_adjustment_weight\": 1.0, \"is_null_level\": false, \"bayes_factor\": 0.025050192981373995, \"log2_bayes_factor\": -5.319034472094807, \"comparison_vector_value\": 0, \"max_comparison_vector_value\": 2, \"bayes_factor_description\": \"If comparison level is `all other comparisons` then comparison is  39.92 times less likely to be a match\", \"probability_two_random_records_match\": 0.006814244865146268, \"comparison_sort_order\": 0, \"iteration\": 0}, {\"comparison_name\": \"middle_initial\", \"sql_condition\": \"\\\"middle_initial_l\\\" = \\\"middle_initial_r\\\"\", \"label_for_charts\": \"Exact match\", \"m_probability\": 0.95, \"u_probability\": 0.07356305686300955, \"m_probability_description\": \"Amongst matching record comparisons, 95.00% of records are in the exact match comparison level\", \"u_probability_description\": \"Amongst non-matching record comparisons, 7.36% of records are in the exact match comparison level\", \"has_tf_adjustments\": false, \"tf_adjustment_column\": null, \"tf_adjustment_weight\": 1.0, \"is_null_level\": false, \"bayes_factor\": 12.914090856353441, \"log2_bayes_factor\": 3.6908741771200653, \"comparison_vector_value\": 1, \"max_comparison_vector_value\": 1, \"bayes_factor_description\": \"If comparison level is `exact match` then comparison is 12.91 times more likely to be a match\", \"probability_two_random_records_match\": 0.006814244865146268, \"comparison_sort_order\": 1, \"iteration\": 0}, {\"comparison_name\": \"middle_initial\", \"sql_condition\": \"ELSE\", \"label_for_charts\": \"All other comparisons\", \"m_probability\": 0.050000000000000044, \"u_probability\": 0.9264369431369904, \"m_probability_description\": \"Amongst matching record comparisons, 5.00% of records are in the all other comparisons comparison level\", \"u_probability_description\": \"Amongst non-matching record comparisons, 92.64% of records are in the all other comparisons comparison level\", \"has_tf_adjustments\": false, \"tf_adjustment_column\": null, \"tf_adjustment_weight\": 1.0, \"is_null_level\": false, \"bayes_factor\": 0.05397021391514894, \"log2_bayes_factor\": -4.211692784218612, \"comparison_vector_value\": 0, \"max_comparison_vector_value\": 1, \"bayes_factor_description\": \"If comparison level is `all other comparisons` then comparison is  18.53 times less likely to be a match\", \"probability_two_random_records_match\": 0.006814244865146268, \"comparison_sort_order\": 1, \"iteration\": 0}, {\"comparison_name\": \"day_of_birth\", \"sql_condition\": \"\\\"day_of_birth_l\\\" = \\\"day_of_birth_r\\\"\", \"label_for_charts\": \"Exact match\", \"m_probability\": 0.95, \"u_probability\": 0.032464174125328385, \"m_probability_description\": \"Amongst matching record comparisons, 95.00% of records are in the exact match comparison level\", \"u_probability_description\": \"Amongst non-matching record comparisons, 3.25% of records are in the exact match comparison level\", \"has_tf_adjustments\": false, \"tf_adjustment_column\": null, \"tf_adjustment_weight\": 1.0, \"is_null_level\": false, \"bayes_factor\": 29.263026877952047, \"log2_bayes_factor\": 4.871007100042354, \"comparison_vector_value\": 2, \"max_comparison_vector_value\": 2, \"bayes_factor_description\": \"If comparison level is `exact match` then comparison is 29.26 times more likely to be a match\", \"probability_two_random_records_match\": 0.006814244865146268, \"comparison_sort_order\": 2, \"iteration\": 0}, {\"comparison_name\": \"day_of_birth\", \"sql_condition\": \"abs(day_of_birth_l - day_of_birth_r) <= 5\", \"label_for_charts\": \"Inexact match\", \"m_probability\": 0.025000000000000022, \"u_probability\": 0.2965057730184639, \"m_probability_description\": \"Amongst matching record comparisons, 2.50% of records are in the inexact match comparison level\", \"u_probability_description\": \"Amongst non-matching record comparisons, 29.65% of records are in the inexact match comparison level\", \"has_tf_adjustments\": false, \"tf_adjustment_column\": null, \"tf_adjustment_weight\": 1.0, \"is_null_level\": false, \"bayes_factor\": 0.08431539037333761, \"log2_bayes_factor\": -3.5680601945656374, \"comparison_vector_value\": 1, \"max_comparison_vector_value\": 2, \"bayes_factor_description\": \"If comparison level is `inexact match` then comparison is  11.86 times less likely to be a match\", \"probability_two_random_records_match\": 0.006814244865146268, \"comparison_sort_order\": 2, \"iteration\": 0}, {\"comparison_name\": \"day_of_birth\", \"sql_condition\": \"ELSE\", \"label_for_charts\": \"All other comparisons\", \"m_probability\": 0.025000000000000022, \"u_probability\": 0.6710300528562076, \"m_probability_description\": \"Amongst matching record comparisons, 2.50% of records are in the all other comparisons comparison level\", \"u_probability_description\": \"Amongst non-matching record comparisons, 67.10% of records are in the all other comparisons comparison level\", \"has_tf_adjustments\": false, \"tf_adjustment_column\": null, \"tf_adjustment_weight\": 1.0, \"is_null_level\": false, \"bayes_factor\": 0.03725615550836912, \"log2_bayes_factor\": -4.746377380636638, \"comparison_vector_value\": 0, \"max_comparison_vector_value\": 2, \"bayes_factor_description\": \"If comparison level is `all other comparisons` then comparison is  26.84 times less likely to be a match\", \"probability_two_random_records_match\": 0.006814244865146268, \"comparison_sort_order\": 2, \"iteration\": 0}, {\"comparison_name\": \"month_of_birth\", \"sql_condition\": \"\\\"month_of_birth_l\\\" = \\\"month_of_birth_r\\\"\", \"label_for_charts\": \"Exact match\", \"m_probability\": 0.95, \"u_probability\": 0.08358610359130632, \"m_probability_description\": \"Amongst matching record comparisons, 95.00% of records are in the exact match comparison level\", \"u_probability_description\": \"Amongst non-matching record comparisons, 8.36% of records are in the exact match comparison level\", \"has_tf_adjustments\": false, \"tf_adjustment_column\": null, \"tf_adjustment_weight\": 1.0, \"is_null_level\": false, \"bayes_factor\": 11.365525597951287, \"log2_bayes_factor\": 3.506592497918997, \"comparison_vector_value\": 2, \"max_comparison_vector_value\": 2, \"bayes_factor_description\": \"If comparison level is `exact match` then comparison is 11.37 times more likely to be a match\", \"probability_two_random_records_match\": 0.006814244865146268, \"comparison_sort_order\": 3, \"iteration\": 0}, {\"comparison_name\": \"month_of_birth\", \"sql_condition\": \"abs(month_of_birth_l - month_of_birth_r) <= 3\", \"label_for_charts\": \"Inexact match\", \"m_probability\": 0.025000000000000022, \"u_probability\": 0.419960264938525, \"m_probability_description\": \"Amongst matching record comparisons, 2.50% of records are in the inexact match comparison level\", \"u_probability_description\": \"Amongst non-matching record comparisons, 42.00% of records are in the inexact match comparison level\", \"has_tf_adjustments\": false, \"tf_adjustment_column\": null, \"tf_adjustment_weight\": 1.0, \"is_null_level\": false, \"bayes_factor\": 0.059529441442893634, \"log2_bayes_factor\": -4.070252831967542, \"comparison_vector_value\": 1, \"max_comparison_vector_value\": 2, \"bayes_factor_description\": \"If comparison level is `inexact match` then comparison is  16.80 times less likely to be a match\", \"probability_two_random_records_match\": 0.006814244865146268, \"comparison_sort_order\": 3, \"iteration\": 0}, {\"comparison_name\": \"month_of_birth\", \"sql_condition\": \"ELSE\", \"label_for_charts\": \"All other comparisons\", \"m_probability\": 0.025000000000000022, \"u_probability\": 0.4964536314701687, \"m_probability_description\": \"Amongst matching record comparisons, 2.50% of records are in the all other comparisons comparison level\", \"u_probability_description\": \"Amongst non-matching record comparisons, 49.65% of records are in the all other comparisons comparison level\", \"has_tf_adjustments\": false, \"tf_adjustment_column\": null, \"tf_adjustment_weight\": 1.0, \"is_null_level\": false, \"bayes_factor\": 0.05035717016706372, \"log2_bayes_factor\": -4.311658977024636, \"comparison_vector_value\": 0, \"max_comparison_vector_value\": 2, \"bayes_factor_description\": \"If comparison level is `all other comparisons` then comparison is  19.86 times less likely to be a match\", \"probability_two_random_records_match\": 0.006814244865146268, \"comparison_sort_order\": 3, \"iteration\": 0}, {\"comparison_name\": \"year_of_birth\", \"sql_condition\": \"\\\"year_of_birth_l\\\" = \\\"year_of_birth_r\\\"\", \"label_for_charts\": \"Exact match\", \"m_probability\": 0.95, \"u_probability\": 0.010988145230220372, \"m_probability_description\": \"Amongst matching record comparisons, 95.00% of records are in the exact match comparison level\", \"u_probability_description\": \"Amongst non-matching record comparisons, 1.10% of records are in the exact match comparison level\", \"has_tf_adjustments\": false, \"tf_adjustment_column\": null, \"tf_adjustment_weight\": 1.0, \"is_null_level\": false, \"bayes_factor\": 86.45681141774892, \"log2_bayes_factor\": 6.433907724590664, \"comparison_vector_value\": 2, \"max_comparison_vector_value\": 2, \"bayes_factor_description\": \"If comparison level is `exact match` then comparison is 86.46 times more likely to be a match\", \"probability_two_random_records_match\": 0.006814244865146268, \"comparison_sort_order\": 4, \"iteration\": 0}, {\"comparison_name\": \"year_of_birth\", \"sql_condition\": \"abs(year_of_birth_l - year_of_birth_r) <= 5\", \"label_for_charts\": \"Inexact match\", \"m_probability\": 0.025000000000000022, \"u_probability\": 0.10851628136997345, \"m_probability_description\": \"Amongst matching record comparisons, 2.50% of records are in the inexact match comparison level\", \"u_probability_description\": \"Amongst non-matching record comparisons, 10.85% of records are in the inexact match comparison level\", \"has_tf_adjustments\": false, \"tf_adjustment_column\": null, \"tf_adjustment_weight\": 1.0, \"is_null_level\": false, \"bayes_factor\": 0.23038017599189078, \"log2_bayes_factor\": -2.117911515384292, \"comparison_vector_value\": 1, \"max_comparison_vector_value\": 2, \"bayes_factor_description\": \"If comparison level is `inexact match` then comparison is  4.34 times less likely to be a match\", \"probability_two_random_records_match\": 0.006814244865146268, \"comparison_sort_order\": 4, \"iteration\": 0}, {\"comparison_name\": \"year_of_birth\", \"sql_condition\": \"ELSE\", \"label_for_charts\": \"All other comparisons\", \"m_probability\": 0.025000000000000022, \"u_probability\": 0.8804955733998062, \"m_probability_description\": \"Amongst matching record comparisons, 2.50% of records are in the all other comparisons comparison level\", \"u_probability_description\": \"Amongst non-matching record comparisons, 88.05% of records are in the all other comparisons comparison level\", \"has_tf_adjustments\": false, \"tf_adjustment_column\": null, \"tf_adjustment_weight\": 1.0, \"is_null_level\": false, \"bayes_factor\": 0.02839310128893548, \"log2_bayes_factor\": -5.138315751074994, \"comparison_vector_value\": 0, \"max_comparison_vector_value\": 2, \"bayes_factor_description\": \"If comparison level is `all other comparisons` then comparison is  35.22 times less likely to be a match\", \"probability_two_random_records_match\": 0.006814244865146268, \"comparison_sort_order\": 4, \"iteration\": 0}, {\"comparison_name\": \"geokey\", \"sql_condition\": \"\\\"geokey_l\\\" = \\\"geokey_r\\\"\", \"label_for_charts\": \"Exact match\", \"m_probability\": 0.95, \"u_probability\": 0.0019196584849132347, \"m_probability_description\": \"Amongst matching record comparisons, 95.00% of records are in the exact match comparison level\", \"u_probability_description\": \"Amongst non-matching record comparisons, 0.19% of records are in the exact match comparison level\", \"has_tf_adjustments\": false, \"tf_adjustment_column\": null, \"tf_adjustment_weight\": 1.0, \"is_null_level\": false, \"bayes_factor\": 494.87969212551803, \"log2_bayes_factor\": 8.950934030785591, \"comparison_vector_value\": 2, \"max_comparison_vector_value\": 2, \"bayes_factor_description\": \"If comparison level is `exact match` then comparison is 494.88 times more likely to be a match\", \"probability_two_random_records_match\": 0.006814244865146268, \"comparison_sort_order\": 5, \"iteration\": 0}, {\"comparison_name\": \"geokey\", \"sql_condition\": \"jaro_winkler_similarity(\\\"geokey_l\\\", \\\"geokey_r\\\") >= 0.7222222222222222\", \"label_for_charts\": \"Jaro_winkler_similarity >= 0.7222222222222222\", \"m_probability\": 0.025000000000000022, \"u_probability\": 0.3870547506148817, \"m_probability_description\": \"Amongst matching record comparisons, 2.50% of records are in the jaro_winkler_similarity >= 0.7222222222222222 comparison level\", \"u_probability_description\": \"Amongst non-matching record comparisons, 38.71% of records are in the jaro_winkler_similarity >= 0.7222222222222222 comparison level\", \"has_tf_adjustments\": false, \"tf_adjustment_column\": null, \"tf_adjustment_weight\": 1.0, \"is_null_level\": false, \"bayes_factor\": 0.06459034532009904, \"log2_bayes_factor\": -3.95253765643087, \"comparison_vector_value\": 1, \"max_comparison_vector_value\": 2, \"bayes_factor_description\": \"If comparison level is `jaro_winkler_similarity >= 0.7222222222222222` then comparison is  15.48 times less likely to be a match\", \"probability_two_random_records_match\": 0.006814244865146268, \"comparison_sort_order\": 5, \"iteration\": 0}, {\"comparison_name\": \"geokey\", \"sql_condition\": \"ELSE\", \"label_for_charts\": \"All other comparisons\", \"m_probability\": 0.025000000000000022, \"u_probability\": 0.611025590900205, \"m_probability_description\": \"Amongst matching record comparisons, 2.50% of records are in the all other comparisons comparison level\", \"u_probability_description\": \"Amongst non-matching record comparisons, 61.10% of records are in the all other comparisons comparison level\", \"has_tf_adjustments\": false, \"tf_adjustment_column\": null, \"tf_adjustment_weight\": 1.0, \"is_null_level\": false, \"bayes_factor\": 0.04091481661703939, \"log2_bayes_factor\": -4.6112328040892905, \"comparison_vector_value\": 0, \"max_comparison_vector_value\": 2, \"bayes_factor_description\": \"If comparison level is `all other comparisons` then comparison is  24.44 times less likely to be a match\", \"probability_two_random_records_match\": 0.006814244865146268, \"comparison_sort_order\": 5, \"iteration\": 0}, {\"comparison_name\": \"probability_two_random_records_match\", \"sql_condition\": null, \"label_for_charts\": \"\", \"m_probability\": null, \"u_probability\": null, \"m_probability_description\": null, \"u_probability_description\": null, \"has_tf_adjustments\": false, \"tf_adjustment_column\": null, \"tf_adjustment_weight\": null, \"is_null_level\": false, \"bayes_factor\": 0.006860997381321721, \"log2_bayes_factor\": -7.1873659688333635, \"comparison_vector_value\": 0, \"max_comparison_vector_value\": 0, \"bayes_factor_description\": \"The probability that two random records drawn at random match is 0.007 or one in  146.8 records.This is equivalent to a starting match weight of -7.187.\", \"probability_two_random_records_match\": 0.006814244865146268, \"comparison_sort_order\": -1, \"iteration\": 1}, {\"comparison_name\": \"last_name_12\", \"sql_condition\": \"\\\"last_name_12_l\\\" = \\\"last_name_12_r\\\"\", \"label_for_charts\": \"Exact match\", \"m_probability\": 0.8847464722524504, \"u_probability\": 0.0006599706231126029, \"m_probability_description\": \"Amongst matching record comparisons, 88.47% of records are in the exact match comparison level\", \"u_probability_description\": \"Amongst non-matching record comparisons, 0.07% of records are in the exact match comparison level\", \"has_tf_adjustments\": false, \"tf_adjustment_column\": null, \"tf_adjustment_weight\": 1.0, \"is_null_level\": false, \"bayes_factor\": 1340.5846279638065, \"log2_bayes_factor\": 10.388646580812043, \"comparison_vector_value\": 2, \"max_comparison_vector_value\": 2, \"bayes_factor_description\": \"If comparison level is `exact match` then comparison is 1,340.58 times more likely to be a match\", \"probability_two_random_records_match\": 0.006814244865146268, \"comparison_sort_order\": 0, \"iteration\": 1}, {\"comparison_name\": \"last_name_12\", \"sql_condition\": \"jaro_winkler_similarity(\\\"last_name_12_l\\\", \\\"last_name_12_r\\\") >= 0.8333333333333334\", \"label_for_charts\": \"Jaro_winkler_similarity >= 0.8333333333333334\", \"m_probability\": 0.08883480721125159, \"u_probability\": 0.0013437257720127285, \"m_probability_description\": \"Amongst matching record comparisons, 8.88% of records are in the jaro_winkler_similarity >= 0.8333333333333334 comparison level\", \"u_probability_description\": \"Amongst non-matching record comparisons, 0.13% of records are in the jaro_winkler_similarity >= 0.8333333333333334 comparison level\", \"has_tf_adjustments\": false, \"tf_adjustment_column\": null, \"tf_adjustment_weight\": 1.0, \"is_null_level\": false, \"bayes_factor\": 66.11081595777422, \"log2_bayes_factor\": 6.046814415820466, \"comparison_vector_value\": 1, \"max_comparison_vector_value\": 2, \"bayes_factor_description\": \"If comparison level is `jaro_winkler_similarity >= 0.8333333333333334` then comparison is 66.11 times more likely to be a match\", \"probability_two_random_records_match\": 0.006814244865146268, \"comparison_sort_order\": 0, \"iteration\": 1}, {\"comparison_name\": \"last_name_12\", \"sql_condition\": \"ELSE\", \"label_for_charts\": \"All other comparisons\", \"m_probability\": 0.026418720536297933, \"u_probability\": 0.9979963036048747, \"m_probability_description\": \"Amongst matching record comparisons, 2.64% of records are in the all other comparisons comparison level\", \"u_probability_description\": \"Amongst non-matching record comparisons, 99.80% of records are in the all other comparisons comparison level\", \"has_tf_adjustments\": false, \"tf_adjustment_column\": null, \"tf_adjustment_weight\": 1.0, \"is_null_level\": false, \"bayes_factor\": 0.026471761910210036, \"log2_bayes_factor\": -5.239401968703081, \"comparison_vector_value\": 0, \"max_comparison_vector_value\": 2, \"bayes_factor_description\": \"If comparison level is `all other comparisons` then comparison is  37.78 times less likely to be a match\", \"probability_two_random_records_match\": 0.006814244865146268, \"comparison_sort_order\": 0, \"iteration\": 1}, {\"comparison_name\": \"middle_initial\", \"sql_condition\": \"\\\"middle_initial_l\\\" = \\\"middle_initial_r\\\"\", \"label_for_charts\": \"Exact match\", \"m_probability\": 0.9432892108473421, \"u_probability\": 0.07356305686300955, \"m_probability_description\": \"Amongst matching record comparisons, 94.33% of records are in the exact match comparison level\", \"u_probability_description\": \"Amongst non-matching record comparisons, 7.36% of records are in the exact match comparison level\", \"has_tf_adjustments\": false, \"tf_adjustment_column\": null, \"tf_adjustment_weight\": 1.0, \"is_null_level\": false, \"bayes_factor\": 12.82286586600054, \"log2_bayes_factor\": 3.6806468302138535, \"comparison_vector_value\": 1, \"max_comparison_vector_value\": 1, \"bayes_factor_description\": \"If comparison level is `exact match` then comparison is 12.82 times more likely to be a match\", \"probability_two_random_records_match\": 0.006814244865146268, \"comparison_sort_order\": 1, \"iteration\": 1}, {\"comparison_name\": \"middle_initial\", \"sql_condition\": \"ELSE\", \"label_for_charts\": \"All other comparisons\", \"m_probability\": 0.056710789152657926, \"u_probability\": 0.9264369431369904, \"m_probability_description\": \"Amongst matching record comparisons, 5.67% of records are in the all other comparisons comparison level\", \"u_probability_description\": \"Amongst non-matching record comparisons, 92.64% of records are in the all other comparisons comparison level\", \"has_tf_adjustments\": false, \"tf_adjustment_column\": null, \"tf_adjustment_weight\": 1.0, \"is_null_level\": false, \"bayes_factor\": 0.06121386843731707, \"log2_bayes_factor\": -4.0299976470021885, \"comparison_vector_value\": 0, \"max_comparison_vector_value\": 1, \"bayes_factor_description\": \"If comparison level is `all other comparisons` then comparison is  16.34 times less likely to be a match\", \"probability_two_random_records_match\": 0.006814244865146268, \"comparison_sort_order\": 1, \"iteration\": 1}, {\"comparison_name\": \"day_of_birth\", \"sql_condition\": \"\\\"day_of_birth_l\\\" = \\\"day_of_birth_r\\\"\", \"label_for_charts\": \"Exact match\", \"m_probability\": 0.9708378444252588, \"u_probability\": 0.032464174125328385, \"m_probability_description\": \"Amongst matching record comparisons, 97.08% of records are in the exact match comparison level\", \"u_probability_description\": \"Amongst non-matching record comparisons, 3.25% of records are in the exact match comparison level\", \"has_tf_adjustments\": false, \"tf_adjustment_column\": null, \"tf_adjustment_weight\": 1.0, \"is_null_level\": false, \"bayes_factor\": 29.90489887952566, \"log2_bayes_factor\": 4.902309934169486, \"comparison_vector_value\": 2, \"max_comparison_vector_value\": 2, \"bayes_factor_description\": \"If comparison level is `exact match` then comparison is 29.90 times more likely to be a match\", \"probability_two_random_records_match\": 0.006814244865146268, \"comparison_sort_order\": 2, \"iteration\": 1}, {\"comparison_name\": \"day_of_birth\", \"sql_condition\": \"abs(day_of_birth_l - day_of_birth_r) <= 5\", \"label_for_charts\": \"Inexact match\", \"m_probability\": 0.018867163639256352, \"u_probability\": 0.2965057730184639, \"m_probability_description\": \"Amongst matching record comparisons, 1.89% of records are in the inexact match comparison level\", \"u_probability_description\": \"Amongst non-matching record comparisons, 29.65% of records are in the inexact match comparison level\", \"has_tf_adjustments\": false, \"tf_adjustment_column\": null, \"tf_adjustment_weight\": 1.0, \"is_null_level\": false, \"bayes_factor\": 0.06363169069926157, \"log2_bayes_factor\": -3.9741107351498086, \"comparison_vector_value\": 1, \"max_comparison_vector_value\": 2, \"bayes_factor_description\": \"If comparison level is `inexact match` then comparison is  15.72 times less likely to be a match\", \"probability_two_random_records_match\": 0.006814244865146268, \"comparison_sort_order\": 2, \"iteration\": 1}, {\"comparison_name\": \"day_of_birth\", \"sql_condition\": \"ELSE\", \"label_for_charts\": \"All other comparisons\", \"m_probability\": 0.010294991935484853, \"u_probability\": 0.6710300528562076, \"m_probability_description\": \"Amongst matching record comparisons, 1.03% of records are in the all other comparisons comparison level\", \"u_probability_description\": \"Amongst non-matching record comparisons, 67.10% of records are in the all other comparisons comparison level\", \"has_tf_adjustments\": false, \"tf_adjustment_column\": null, \"tf_adjustment_weight\": 1.0, \"is_null_level\": false, \"bayes_factor\": 0.015342072820233173, \"log2_bayes_factor\": -6.026362775679193, \"comparison_vector_value\": 0, \"max_comparison_vector_value\": 2, \"bayes_factor_description\": \"If comparison level is `all other comparisons` then comparison is  65.18 times less likely to be a match\", \"probability_two_random_records_match\": 0.006814244865146268, \"comparison_sort_order\": 2, \"iteration\": 1}, {\"comparison_name\": \"month_of_birth\", \"sql_condition\": \"\\\"month_of_birth_l\\\" = \\\"month_of_birth_r\\\"\", \"label_for_charts\": \"Exact match\", \"m_probability\": 0.9795394312883284, \"u_probability\": 0.08358610359130632, \"m_probability_description\": \"Amongst matching record comparisons, 97.95% of records are in the exact match comparison level\", \"u_probability_description\": \"Amongst non-matching record comparisons, 8.36% of records are in the exact match comparison level\", \"has_tf_adjustments\": false, \"tf_adjustment_column\": null, \"tf_adjustment_weight\": 1.0, \"is_null_level\": false, \"bayes_factor\": 11.718926821589625, \"log2_bayes_factor\": 3.550768553720815, \"comparison_vector_value\": 2, \"max_comparison_vector_value\": 2, \"bayes_factor_description\": \"If comparison level is `exact match` then comparison is 11.72 times more likely to be a match\", \"probability_two_random_records_match\": 0.006814244865146268, \"comparison_sort_order\": 3, \"iteration\": 1}, {\"comparison_name\": \"month_of_birth\", \"sql_condition\": \"abs(month_of_birth_l - month_of_birth_r) <= 3\", \"label_for_charts\": \"Inexact match\", \"m_probability\": 0.010736784816023881, \"u_probability\": 0.419960264938525, \"m_probability_description\": \"Amongst matching record comparisons, 1.07% of records are in the inexact match comparison level\", \"u_probability_description\": \"Amongst non-matching record comparisons, 42.00% of records are in the inexact match comparison level\", \"has_tf_adjustments\": false, \"tf_adjustment_column\": null, \"tf_adjustment_weight\": 1.0, \"is_null_level\": false, \"bayes_factor\": 0.025566192119617706, \"log2_bayes_factor\": -5.2896188911129665, \"comparison_vector_value\": 1, \"max_comparison_vector_value\": 2, \"bayes_factor_description\": \"If comparison level is `inexact match` then comparison is  39.11 times less likely to be a match\", \"probability_two_random_records_match\": 0.006814244865146268, \"comparison_sort_order\": 3, \"iteration\": 1}, {\"comparison_name\": \"month_of_birth\", \"sql_condition\": \"ELSE\", \"label_for_charts\": \"All other comparisons\", \"m_probability\": 0.00972378389564766, \"u_probability\": 0.4964536314701687, \"m_probability_description\": \"Amongst matching record comparisons, 0.97% of records are in the all other comparisons comparison level\", \"u_probability_description\": \"Amongst non-matching record comparisons, 49.65% of records are in the all other comparisons comparison level\", \"has_tf_adjustments\": false, \"tf_adjustment_column\": null, \"tf_adjustment_weight\": 1.0, \"is_null_level\": false, \"bayes_factor\": 0.0195864896120353, \"log2_bayes_factor\": -5.67399733597302, \"comparison_vector_value\": 0, \"max_comparison_vector_value\": 2, \"bayes_factor_description\": \"If comparison level is `all other comparisons` then comparison is  51.06 times less likely to be a match\", \"probability_two_random_records_match\": 0.006814244865146268, \"comparison_sort_order\": 3, \"iteration\": 1}, {\"comparison_name\": \"year_of_birth\", \"sql_condition\": \"\\\"year_of_birth_l\\\" = \\\"year_of_birth_r\\\"\", \"label_for_charts\": \"Exact match\", \"m_probability\": 0.9646433224724316, \"u_probability\": 0.010988145230220372, \"m_probability_description\": \"Amongst matching record comparisons, 96.46% of records are in the exact match comparison level\", \"u_probability_description\": \"Amongst non-matching record comparisons, 1.10% of records are in the exact match comparison level\", \"has_tf_adjustments\": false, \"tf_adjustment_column\": null, \"tf_adjustment_weight\": 1.0, \"is_null_level\": false, \"bayes_factor\": 87.7894587540945, \"log2_bayes_factor\": 6.455975814645852, \"comparison_vector_value\": 2, \"max_comparison_vector_value\": 2, \"bayes_factor_description\": \"If comparison level is `exact match` then comparison is 87.79 times more likely to be a match\", \"probability_two_random_records_match\": 0.006814244865146268, \"comparison_sort_order\": 4, \"iteration\": 1}, {\"comparison_name\": \"year_of_birth\", \"sql_condition\": \"abs(year_of_birth_l - year_of_birth_r) <= 5\", \"label_for_charts\": \"Inexact match\", \"m_probability\": 0.011112545287358893, \"u_probability\": 0.10851628136997345, \"m_probability_description\": \"Amongst matching record comparisons, 1.11% of records are in the inexact match comparison level\", \"u_probability_description\": \"Amongst non-matching record comparisons, 10.85% of records are in the inexact match comparison level\", \"has_tf_adjustments\": false, \"tf_adjustment_column\": null, \"tf_adjustment_weight\": 1.0, \"is_null_level\": false, \"bayes_factor\": 0.10240440556078384, \"log2_bayes_factor\": -3.2876503117371993, \"comparison_vector_value\": 1, \"max_comparison_vector_value\": 2, \"bayes_factor_description\": \"If comparison level is `inexact match` then comparison is  9.77 times less likely to be a match\", \"probability_two_random_records_match\": 0.006814244865146268, \"comparison_sort_order\": 4, \"iteration\": 1}, {\"comparison_name\": \"year_of_birth\", \"sql_condition\": \"ELSE\", \"label_for_charts\": \"All other comparisons\", \"m_probability\": 0.02424413224020952, \"u_probability\": 0.8804955733998062, \"m_probability_description\": \"Amongst matching record comparisons, 2.42% of records are in the all other comparisons comparison level\", \"u_probability_description\": \"Amongst non-matching record comparisons, 88.05% of records are in the all other comparisons comparison level\", \"has_tf_adjustments\": false, \"tf_adjustment_column\": null, \"tf_adjustment_weight\": 1.0, \"is_null_level\": false, \"bayes_factor\": 0.02753464409434458, \"log2_bayes_factor\": -5.182608229066668, \"comparison_vector_value\": 0, \"max_comparison_vector_value\": 2, \"bayes_factor_description\": \"If comparison level is `all other comparisons` then comparison is  36.32 times less likely to be a match\", \"probability_two_random_records_match\": 0.006814244865146268, \"comparison_sort_order\": 4, \"iteration\": 1}, {\"comparison_name\": \"geokey\", \"sql_condition\": \"\\\"geokey_l\\\" = \\\"geokey_r\\\"\", \"label_for_charts\": \"Exact match\", \"m_probability\": 0.4665546186996795, \"u_probability\": 0.0019196584849132347, \"m_probability_description\": \"Amongst matching record comparisons, 46.66% of records are in the exact match comparison level\", \"u_probability_description\": \"Amongst non-matching record comparisons, 0.19% of records are in the exact match comparison level\", \"has_tf_adjustments\": false, \"tf_adjustment_column\": null, \"tf_adjustment_weight\": 1.0, \"is_null_level\": false, \"bayes_factor\": 243.04042743351144, \"log2_bayes_factor\": 7.925052501987336, \"comparison_vector_value\": 2, \"max_comparison_vector_value\": 2, \"bayes_factor_description\": \"If comparison level is `exact match` then comparison is 243.04 times more likely to be a match\", \"probability_two_random_records_match\": 0.006814244865146268, \"comparison_sort_order\": 5, \"iteration\": 1}, {\"comparison_name\": \"geokey\", \"sql_condition\": \"jaro_winkler_similarity(\\\"geokey_l\\\", \\\"geokey_r\\\") >= 0.7222222222222222\", \"label_for_charts\": \"Jaro_winkler_similarity >= 0.7222222222222222\", \"m_probability\": 0.42862609739267465, \"u_probability\": 0.3870547506148817, \"m_probability_description\": \"Amongst matching record comparisons, 42.86% of records are in the jaro_winkler_similarity >= 0.7222222222222222 comparison level\", \"u_probability_description\": \"Amongst non-matching record comparisons, 38.71% of records are in the jaro_winkler_similarity >= 0.7222222222222222 comparison level\", \"has_tf_adjustments\": false, \"tf_adjustment_column\": null, \"tf_adjustment_weight\": 1.0, \"is_null_level\": false, \"bayes_factor\": 1.1074043057519691, \"log2_bayes_factor\": 0.14718203640386218, \"comparison_vector_value\": 1, \"max_comparison_vector_value\": 2, \"bayes_factor_description\": \"If comparison level is `jaro_winkler_similarity >= 0.7222222222222222` then comparison is 1.11 times more likely to be a match\", \"probability_two_random_records_match\": 0.006814244865146268, \"comparison_sort_order\": 5, \"iteration\": 1}, {\"comparison_name\": \"geokey\", \"sql_condition\": \"ELSE\", \"label_for_charts\": \"All other comparisons\", \"m_probability\": 0.10481928390764587, \"u_probability\": 0.611025590900205, \"m_probability_description\": \"Amongst matching record comparisons, 10.48% of records are in the all other comparisons comparison level\", \"u_probability_description\": \"Amongst non-matching record comparisons, 61.10% of records are in the all other comparisons comparison level\", \"has_tf_adjustments\": false, \"tf_adjustment_column\": null, \"tf_adjustment_weight\": 1.0, \"is_null_level\": false, \"bayes_factor\": 0.17154647116042862, \"log2_bayes_factor\": -2.543328646005567, \"comparison_vector_value\": 0, \"max_comparison_vector_value\": 2, \"bayes_factor_description\": \"If comparison level is `all other comparisons` then comparison is  5.83 times less likely to be a match\", \"probability_two_random_records_match\": 0.006814244865146268, \"comparison_sort_order\": 5, \"iteration\": 1}, {\"comparison_name\": \"probability_two_random_records_match\", \"sql_condition\": null, \"label_for_charts\": \"\", \"m_probability\": null, \"u_probability\": null, \"m_probability_description\": null, \"u_probability_description\": null, \"has_tf_adjustments\": false, \"tf_adjustment_column\": null, \"tf_adjustment_weight\": null, \"is_null_level\": false, \"bayes_factor\": 0.006860997381321721, \"log2_bayes_factor\": -7.1873659688333635, \"comparison_vector_value\": 0, \"max_comparison_vector_value\": 0, \"bayes_factor_description\": \"The probability that two random records drawn at random match is 0.007 or one in  146.8 records.This is equivalent to a starting match weight of -7.187.\", \"probability_two_random_records_match\": 0.006814244865146268, \"comparison_sort_order\": -1, \"iteration\": 2}, {\"comparison_name\": \"last_name_12\", \"sql_condition\": \"\\\"last_name_12_l\\\" = \\\"last_name_12_r\\\"\", \"label_for_charts\": \"Exact match\", \"m_probability\": 0.8751363325572241, \"u_probability\": 0.0006599706231126029, \"m_probability_description\": \"Amongst matching record comparisons, 87.51% of records are in the exact match comparison level\", \"u_probability_description\": \"Amongst non-matching record comparisons, 0.07% of records are in the exact match comparison level\", \"has_tf_adjustments\": false, \"tf_adjustment_column\": null, \"tf_adjustment_weight\": 1.0, \"is_null_level\": false, \"bayes_factor\": 1326.0231621065807, \"log2_bayes_factor\": 10.372890260387441, \"comparison_vector_value\": 2, \"max_comparison_vector_value\": 2, \"bayes_factor_description\": \"If comparison level is `exact match` then comparison is 1,326.02 times more likely to be a match\", \"probability_two_random_records_match\": 0.006814244865146268, \"comparison_sort_order\": 0, \"iteration\": 2}, {\"comparison_name\": \"last_name_12\", \"sql_condition\": \"jaro_winkler_similarity(\\\"last_name_12_l\\\", \\\"last_name_12_r\\\") >= 0.8333333333333334\", \"label_for_charts\": \"Jaro_winkler_similarity >= 0.8333333333333334\", \"m_probability\": 0.09537904276680044, \"u_probability\": 0.0013437257720127285, \"m_probability_description\": \"Amongst matching record comparisons, 9.54% of records are in the jaro_winkler_similarity >= 0.8333333333333334 comparison level\", \"u_probability_description\": \"Amongst non-matching record comparisons, 0.13% of records are in the jaro_winkler_similarity >= 0.8333333333333334 comparison level\", \"has_tf_adjustments\": false, \"tf_adjustment_column\": null, \"tf_adjustment_weight\": 1.0, \"is_null_level\": false, \"bayes_factor\": 70.98103255393762, \"log2_bayes_factor\": 6.1493616561784465, \"comparison_vector_value\": 1, \"max_comparison_vector_value\": 2, \"bayes_factor_description\": \"If comparison level is `jaro_winkler_similarity >= 0.8333333333333334` then comparison is 70.98 times more likely to be a match\", \"probability_two_random_records_match\": 0.006814244865146268, \"comparison_sort_order\": 0, \"iteration\": 2}, {\"comparison_name\": \"last_name_12\", \"sql_condition\": \"ELSE\", \"label_for_charts\": \"All other comparisons\", \"m_probability\": 0.029484624675975495, \"u_probability\": 0.9979963036048747, \"m_probability_description\": \"Amongst matching record comparisons, 2.95% of records are in the all other comparisons comparison level\", \"u_probability_description\": \"Amongst non-matching record comparisons, 99.80% of records are in the all other comparisons comparison level\", \"has_tf_adjustments\": false, \"tf_adjustment_column\": null, \"tf_adjustment_weight\": 1.0, \"is_null_level\": false, \"bayes_factor\": 0.029543821524662686, \"log2_bayes_factor\": -5.080999737467254, \"comparison_vector_value\": 0, \"max_comparison_vector_value\": 2, \"bayes_factor_description\": \"If comparison level is `all other comparisons` then comparison is  33.85 times less likely to be a match\", \"probability_two_random_records_match\": 0.006814244865146268, \"comparison_sort_order\": 0, \"iteration\": 2}, {\"comparison_name\": \"middle_initial\", \"sql_condition\": \"\\\"middle_initial_l\\\" = \\\"middle_initial_r\\\"\", \"label_for_charts\": \"Exact match\", \"m_probability\": 0.9411748493860003, \"u_probability\": 0.07356305686300955, \"m_probability_description\": \"Amongst matching record comparisons, 94.12% of records are in the exact match comparison level\", \"u_probability_description\": \"Amongst non-matching record comparisons, 7.36% of records are in the exact match comparison level\", \"has_tf_adjustments\": false, \"tf_adjustment_column\": null, \"tf_adjustment_weight\": 1.0, \"is_null_level\": false, \"bayes_factor\": 12.794123701774287, \"log2_bayes_factor\": 3.6774094322296613, \"comparison_vector_value\": 1, \"max_comparison_vector_value\": 1, \"bayes_factor_description\": \"If comparison level is `exact match` then comparison is 12.79 times more likely to be a match\", \"probability_two_random_records_match\": 0.006814244865146268, \"comparison_sort_order\": 1, \"iteration\": 2}, {\"comparison_name\": \"middle_initial\", \"sql_condition\": \"ELSE\", \"label_for_charts\": \"All other comparisons\", \"m_probability\": 0.05882515061399973, \"u_probability\": 0.9264369431369904, \"m_probability_description\": \"Amongst matching record comparisons, 5.88% of records are in the all other comparisons comparison level\", \"u_probability_description\": \"Amongst non-matching record comparisons, 92.64% of records are in the all other comparisons comparison level\", \"has_tf_adjustments\": false, \"tf_adjustment_column\": null, \"tf_adjustment_weight\": 1.0, \"is_null_level\": false, \"bayes_factor\": 0.06349611924456836, \"log2_bayes_factor\": -3.977187769822279, \"comparison_vector_value\": 0, \"max_comparison_vector_value\": 1, \"bayes_factor_description\": \"If comparison level is `all other comparisons` then comparison is  15.75 times less likely to be a match\", \"probability_two_random_records_match\": 0.006814244865146268, \"comparison_sort_order\": 1, \"iteration\": 2}, {\"comparison_name\": \"day_of_birth\", \"sql_condition\": \"\\\"day_of_birth_l\\\" = \\\"day_of_birth_r\\\"\", \"label_for_charts\": \"Exact match\", \"m_probability\": 0.9721531997501913, \"u_probability\": 0.032464174125328385, \"m_probability_description\": \"Amongst matching record comparisons, 97.22% of records are in the exact match comparison level\", \"u_probability_description\": \"Amongst non-matching record comparisons, 3.25% of records are in the exact match comparison level\", \"has_tf_adjustments\": false, \"tf_adjustment_column\": null, \"tf_adjustment_weight\": 1.0, \"is_null_level\": false, \"bayes_factor\": 29.945416014502037, \"log2_bayes_factor\": 4.904263269878233, \"comparison_vector_value\": 2, \"max_comparison_vector_value\": 2, \"bayes_factor_description\": \"If comparison level is `exact match` then comparison is 29.95 times more likely to be a match\", \"probability_two_random_records_match\": 0.006814244865146268, \"comparison_sort_order\": 2, \"iteration\": 2}, {\"comparison_name\": \"day_of_birth\", \"sql_condition\": \"abs(day_of_birth_l - day_of_birth_r) <= 5\", \"label_for_charts\": \"Inexact match\", \"m_probability\": 0.01961702090280865, \"u_probability\": 0.2965057730184639, \"m_probability_description\": \"Amongst matching record comparisons, 1.96% of records are in the inexact match comparison level\", \"u_probability_description\": \"Amongst non-matching record comparisons, 29.65% of records are in the inexact match comparison level\", \"has_tf_adjustments\": false, \"tf_adjustment_column\": null, \"tf_adjustment_weight\": 1.0, \"is_null_level\": false, \"bayes_factor\": 0.06616067101528936, \"log2_bayes_factor\": -3.917882323078096, \"comparison_vector_value\": 1, \"max_comparison_vector_value\": 2, \"bayes_factor_description\": \"If comparison level is `inexact match` then comparison is  15.11 times less likely to be a match\", \"probability_two_random_records_match\": 0.006814244865146268, \"comparison_sort_order\": 2, \"iteration\": 2}, {\"comparison_name\": \"day_of_birth\", \"sql_condition\": \"ELSE\", \"label_for_charts\": \"All other comparisons\", \"m_probability\": 0.008229779347000102, \"u_probability\": 0.6710300528562076, \"m_probability_description\": \"Amongst matching record comparisons, 0.82% of records are in the all other comparisons comparison level\", \"u_probability_description\": \"Amongst non-matching record comparisons, 67.10% of records are in the all other comparisons comparison level\", \"has_tf_adjustments\": false, \"tf_adjustment_column\": null, \"tf_adjustment_weight\": 1.0, \"is_null_level\": false, \"bayes_factor\": 0.012264397566055999, \"log2_bayes_factor\": -6.349379820111509, \"comparison_vector_value\": 0, \"max_comparison_vector_value\": 2, \"bayes_factor_description\": \"If comparison level is `all other comparisons` then comparison is  81.54 times less likely to be a match\", \"probability_two_random_records_match\": 0.006814244865146268, \"comparison_sort_order\": 2, \"iteration\": 2}, {\"comparison_name\": \"month_of_birth\", \"sql_condition\": \"\\\"month_of_birth_l\\\" = \\\"month_of_birth_r\\\"\", \"label_for_charts\": \"Exact match\", \"m_probability\": 0.9818914898844868, \"u_probability\": 0.08358610359130632, \"m_probability_description\": \"Amongst matching record comparisons, 98.19% of records are in the exact match comparison level\", \"u_probability_description\": \"Amongst non-matching record comparisons, 8.36% of records are in the exact match comparison level\", \"has_tf_adjustments\": false, \"tf_adjustment_column\": null, \"tf_adjustment_weight\": 1.0, \"is_null_level\": false, \"bayes_factor\": 11.747066171255435, \"log2_bayes_factor\": 3.5542285837044574, \"comparison_vector_value\": 2, \"max_comparison_vector_value\": 2, \"bayes_factor_description\": \"If comparison level is `exact match` then comparison is 11.75 times more likely to be a match\", \"probability_two_random_records_match\": 0.006814244865146268, \"comparison_sort_order\": 3, \"iteration\": 2}, {\"comparison_name\": \"month_of_birth\", \"sql_condition\": \"abs(month_of_birth_l - month_of_birth_r) <= 3\", \"label_for_charts\": \"Inexact match\", \"m_probability\": 0.009415155097932911, \"u_probability\": 0.419960264938525, \"m_probability_description\": \"Amongst matching record comparisons, 0.94% of records are in the inexact match comparison level\", \"u_probability_description\": \"Amongst non-matching record comparisons, 42.00% of records are in the inexact match comparison level\", \"has_tf_adjustments\": false, \"tf_adjustment_column\": null, \"tf_adjustment_weight\": 1.0, \"is_null_level\": false, \"bayes_factor\": 0.02241915696312633, \"log2_bayes_factor\": -5.479124160872425, \"comparison_vector_value\": 1, \"max_comparison_vector_value\": 2, \"bayes_factor_description\": \"If comparison level is `inexact match` then comparison is  44.60 times less likely to be a match\", \"probability_two_random_records_match\": 0.006814244865146268, \"comparison_sort_order\": 3, \"iteration\": 2}, {\"comparison_name\": \"month_of_birth\", \"sql_condition\": \"ELSE\", \"label_for_charts\": \"All other comparisons\", \"m_probability\": 0.008693355017580312, \"u_probability\": 0.4964536314701687, \"m_probability_description\": \"Amongst matching record comparisons, 0.87% of records are in the all other comparisons comparison level\", \"u_probability_description\": \"Amongst non-matching record comparisons, 49.65% of records are in the all other comparisons comparison level\", \"has_tf_adjustments\": false, \"tf_adjustment_column\": null, \"tf_adjustment_weight\": 1.0, \"is_null_level\": false, \"bayes_factor\": 0.017510910317719543, \"log2_bayes_factor\": -5.835602104477137, \"comparison_vector_value\": 0, \"max_comparison_vector_value\": 2, \"bayes_factor_description\": \"If comparison level is `all other comparisons` then comparison is  57.11 times less likely to be a match\", \"probability_two_random_records_match\": 0.006814244865146268, \"comparison_sort_order\": 3, \"iteration\": 2}, {\"comparison_name\": \"year_of_birth\", \"sql_condition\": \"\\\"year_of_birth_l\\\" = \\\"year_of_birth_r\\\"\", \"label_for_charts\": \"Exact match\", \"m_probability\": 0.965387384381738, \"u_probability\": 0.010988145230220372, \"m_probability_description\": \"Amongst matching record comparisons, 96.54% of records are in the exact match comparison level\", \"u_probability_description\": \"Amongst non-matching record comparisons, 1.10% of records are in the exact match comparison level\", \"has_tf_adjustments\": false, \"tf_adjustment_column\": null, \"tf_adjustment_weight\": 1.0, \"is_null_level\": false, \"bayes_factor\": 87.85717372270085, \"log2_bayes_factor\": 6.4570881850097415, \"comparison_vector_value\": 2, \"max_comparison_vector_value\": 2, \"bayes_factor_description\": \"If comparison level is `exact match` then comparison is 87.86 times more likely to be a match\", \"probability_two_random_records_match\": 0.006814244865146268, \"comparison_sort_order\": 4, \"iteration\": 2}, {\"comparison_name\": \"year_of_birth\", \"sql_condition\": \"abs(year_of_birth_l - year_of_birth_r) <= 5\", \"label_for_charts\": \"Inexact match\", \"m_probability\": 0.010971834599738918, \"u_probability\": 0.10851628136997345, \"m_probability_description\": \"Amongst matching record comparisons, 1.10% of records are in the inexact match comparison level\", \"u_probability_description\": \"Amongst non-matching record comparisons, 10.85% of records are in the inexact match comparison level\", \"has_tf_adjustments\": false, \"tf_adjustment_column\": null, \"tf_adjustment_weight\": 1.0, \"is_null_level\": false, \"bayes_factor\": 0.10110772744167065, \"log2_bayes_factor\": -3.3060348314175076, \"comparison_vector_value\": 1, \"max_comparison_vector_value\": 2, \"bayes_factor_description\": \"If comparison level is `inexact match` then comparison is  9.89 times less likely to be a match\", \"probability_two_random_records_match\": 0.006814244865146268, \"comparison_sort_order\": 4, \"iteration\": 2}, {\"comparison_name\": \"year_of_birth\", \"sql_condition\": \"ELSE\", \"label_for_charts\": \"All other comparisons\", \"m_probability\": 0.023640781018523002, \"u_probability\": 0.8804955733998062, \"m_probability_description\": \"Amongst matching record comparisons, 2.36% of records are in the all other comparisons comparison level\", \"u_probability_description\": \"Amongst non-matching record comparisons, 88.05% of records are in the all other comparisons comparison level\", \"has_tf_adjustments\": false, \"tf_adjustment_column\": null, \"tf_adjustment_weight\": 1.0, \"is_null_level\": false, \"bayes_factor\": 0.02684940360033865, \"log2_bayes_factor\": -5.218966147463103, \"comparison_vector_value\": 0, \"max_comparison_vector_value\": 2, \"bayes_factor_description\": \"If comparison level is `all other comparisons` then comparison is  37.24 times less likely to be a match\", \"probability_two_random_records_match\": 0.006814244865146268, \"comparison_sort_order\": 4, \"iteration\": 2}, {\"comparison_name\": \"geokey\", \"sql_condition\": \"\\\"geokey_l\\\" = \\\"geokey_r\\\"\", \"label_for_charts\": \"Exact match\", \"m_probability\": 0.4527515125160774, \"u_probability\": 0.0019196584849132347, \"m_probability_description\": \"Amongst matching record comparisons, 45.28% of records are in the exact match comparison level\", \"u_probability_description\": \"Amongst non-matching record comparisons, 0.19% of records are in the exact match comparison level\", \"has_tf_adjustments\": false, \"tf_adjustment_column\": null, \"tf_adjustment_weight\": 1.0, \"is_null_level\": false, \"bayes_factor\": 235.85003065612528, \"log2_bayes_factor\": 7.881725978165818, \"comparison_vector_value\": 2, \"max_comparison_vector_value\": 2, \"bayes_factor_description\": \"If comparison level is `exact match` then comparison is 235.85 times more likely to be a match\", \"probability_two_random_records_match\": 0.006814244865146268, \"comparison_sort_order\": 5, \"iteration\": 2}, {\"comparison_name\": \"geokey\", \"sql_condition\": \"jaro_winkler_similarity(\\\"geokey_l\\\", \\\"geokey_r\\\") >= 0.7222222222222222\", \"label_for_charts\": \"Jaro_winkler_similarity >= 0.7222222222222222\", \"m_probability\": 0.4400779024201732, \"u_probability\": 0.3870547506148817, \"m_probability_description\": \"Amongst matching record comparisons, 44.01% of records are in the jaro_winkler_similarity >= 0.7222222222222222 comparison level\", \"u_probability_description\": \"Amongst non-matching record comparisons, 38.71% of records are in the jaro_winkler_similarity >= 0.7222222222222222 comparison level\", \"has_tf_adjustments\": false, \"tf_adjustment_column\": null, \"tf_adjustment_weight\": 1.0, \"is_null_level\": false, \"bayes_factor\": 1.1369913474025524, \"log2_bayes_factor\": 0.1852212752442972, \"comparison_vector_value\": 1, \"max_comparison_vector_value\": 2, \"bayes_factor_description\": \"If comparison level is `jaro_winkler_similarity >= 0.7222222222222222` then comparison is 1.14 times more likely to be a match\", \"probability_two_random_records_match\": 0.006814244865146268, \"comparison_sort_order\": 5, \"iteration\": 2}, {\"comparison_name\": \"geokey\", \"sql_condition\": \"ELSE\", \"label_for_charts\": \"All other comparisons\", \"m_probability\": 0.10717058506374935, \"u_probability\": 0.611025590900205, \"m_probability_description\": \"Amongst matching record comparisons, 10.72% of records are in the all other comparisons comparison level\", \"u_probability_description\": \"Amongst non-matching record comparisons, 61.10% of records are in the all other comparisons comparison level\", \"has_tf_adjustments\": false, \"tf_adjustment_column\": null, \"tf_adjustment_weight\": 1.0, \"is_null_level\": false, \"bayes_factor\": 0.17539459338496488, \"log2_bayes_factor\": -2.511323818124777, \"comparison_vector_value\": 0, \"max_comparison_vector_value\": 2, \"bayes_factor_description\": \"If comparison level is `all other comparisons` then comparison is  5.70 times less likely to be a match\", \"probability_two_random_records_match\": 0.006814244865146268, \"comparison_sort_order\": 5, \"iteration\": 2}, {\"comparison_name\": \"probability_two_random_records_match\", \"sql_condition\": null, \"label_for_charts\": \"\", \"m_probability\": null, \"u_probability\": null, \"m_probability_description\": null, \"u_probability_description\": null, \"has_tf_adjustments\": false, \"tf_adjustment_column\": null, \"tf_adjustment_weight\": null, \"is_null_level\": false, \"bayes_factor\": 0.006860997381321721, \"log2_bayes_factor\": -7.1873659688333635, \"comparison_vector_value\": 0, \"max_comparison_vector_value\": 0, \"bayes_factor_description\": \"The probability that two random records drawn at random match is 0.007 or one in  146.8 records.This is equivalent to a starting match weight of -7.187.\", \"probability_two_random_records_match\": 0.006814244865146268, \"comparison_sort_order\": -1, \"iteration\": 3}, {\"comparison_name\": \"last_name_12\", \"sql_condition\": \"\\\"last_name_12_l\\\" = \\\"last_name_12_r\\\"\", \"label_for_charts\": \"Exact match\", \"m_probability\": 0.8745134833165706, \"u_probability\": 0.0006599706231126029, \"m_probability_description\": \"Amongst matching record comparisons, 87.45% of records are in the exact match comparison level\", \"u_probability_description\": \"Amongst non-matching record comparisons, 0.07% of records are in the exact match comparison level\", \"has_tf_adjustments\": false, \"tf_adjustment_column\": null, \"tf_adjustment_weight\": 1.0, \"is_null_level\": false, \"bayes_factor\": 1325.0794091290377, \"log2_bayes_factor\": 10.371863104506856, \"comparison_vector_value\": 2, \"max_comparison_vector_value\": 2, \"bayes_factor_description\": \"If comparison level is `exact match` then comparison is 1,325.08 times more likely to be a match\", \"probability_two_random_records_match\": 0.006814244865146268, \"comparison_sort_order\": 0, \"iteration\": 3}, {\"comparison_name\": \"last_name_12\", \"sql_condition\": \"jaro_winkler_similarity(\\\"last_name_12_l\\\", \\\"last_name_12_r\\\") >= 0.8333333333333334\", \"label_for_charts\": \"Jaro_winkler_similarity >= 0.8333333333333334\", \"m_probability\": 0.09554612180724828, \"u_probability\": 0.0013437257720127285, \"m_probability_description\": \"Amongst matching record comparisons, 9.55% of records are in the jaro_winkler_similarity >= 0.8333333333333334 comparison level\", \"u_probability_description\": \"Amongst non-matching record comparisons, 0.13% of records are in the jaro_winkler_similarity >= 0.8333333333333334 comparison level\", \"has_tf_adjustments\": false, \"tf_adjustment_column\": null, \"tf_adjustment_weight\": 1.0, \"is_null_level\": false, \"bayes_factor\": 71.1053726863722, \"log2_bayes_factor\": 6.151886668165831, \"comparison_vector_value\": 1, \"max_comparison_vector_value\": 2, \"bayes_factor_description\": \"If comparison level is `jaro_winkler_similarity >= 0.8333333333333334` then comparison is 71.11 times more likely to be a match\", \"probability_two_random_records_match\": 0.006814244865146268, \"comparison_sort_order\": 0, \"iteration\": 3}, {\"comparison_name\": \"last_name_12\", \"sql_condition\": \"ELSE\", \"label_for_charts\": \"All other comparisons\", \"m_probability\": 0.029940394876181085, \"u_probability\": 0.9979963036048747, \"m_probability_description\": \"Amongst matching record comparisons, 2.99% of records are in the all other comparisons comparison level\", \"u_probability_description\": \"Amongst non-matching record comparisons, 99.80% of records are in the all other comparisons comparison level\", \"has_tf_adjustments\": false, \"tf_adjustment_column\": null, \"tf_adjustment_weight\": 1.0, \"is_null_level\": false, \"bayes_factor\": 0.030000506783475066, \"log2_bayes_factor\": -5.058869318125872, \"comparison_vector_value\": 0, \"max_comparison_vector_value\": 2, \"bayes_factor_description\": \"If comparison level is `all other comparisons` then comparison is  33.33 times less likely to be a match\", \"probability_two_random_records_match\": 0.006814244865146268, \"comparison_sort_order\": 0, \"iteration\": 3}, {\"comparison_name\": \"middle_initial\", \"sql_condition\": \"\\\"middle_initial_l\\\" = \\\"middle_initial_r\\\"\", \"label_for_charts\": \"Exact match\", \"m_probability\": 0.9410200744141269, \"u_probability\": 0.07356305686300955, \"m_probability_description\": \"Amongst matching record comparisons, 94.10% of records are in the exact match comparison level\", \"u_probability_description\": \"Amongst non-matching record comparisons, 7.36% of records are in the exact match comparison level\", \"has_tf_adjustments\": false, \"tf_adjustment_column\": null, \"tf_adjustment_weight\": 1.0, \"is_null_level\": false, \"bayes_factor\": 12.79201972488054, \"log2_bayes_factor\": 3.6771721634090357, \"comparison_vector_value\": 1, \"max_comparison_vector_value\": 1, \"bayes_factor_description\": \"If comparison level is `exact match` then comparison is 12.79 times more likely to be a match\", \"probability_two_random_records_match\": 0.006814244865146268, \"comparison_sort_order\": 1, \"iteration\": 3}, {\"comparison_name\": \"middle_initial\", \"sql_condition\": \"ELSE\", \"label_for_charts\": \"All other comparisons\", \"m_probability\": 0.058979925585873096, \"u_probability\": 0.9264369431369904, \"m_probability_description\": \"Amongst matching record comparisons, 5.90% of records are in the all other comparisons comparison level\", \"u_probability_description\": \"Amongst non-matching record comparisons, 92.64% of records are in the all other comparisons comparison level\", \"has_tf_adjustments\": false, \"tf_adjustment_column\": null, \"tf_adjustment_weight\": 1.0, \"is_null_level\": false, \"bayes_factor\": 0.06366318401138268, \"log2_bayes_factor\": -3.9733968769328363, \"comparison_vector_value\": 0, \"max_comparison_vector_value\": 1, \"bayes_factor_description\": \"If comparison level is `all other comparisons` then comparison is  15.71 times less likely to be a match\", \"probability_two_random_records_match\": 0.006814244865146268, \"comparison_sort_order\": 1, \"iteration\": 3}, {\"comparison_name\": \"day_of_birth\", \"sql_condition\": \"\\\"day_of_birth_l\\\" = \\\"day_of_birth_r\\\"\", \"label_for_charts\": \"Exact match\", \"m_probability\": 0.9727062021404385, \"u_probability\": 0.032464174125328385, \"m_probability_description\": \"Amongst matching record comparisons, 97.27% of records are in the exact match comparison level\", \"u_probability_description\": \"Amongst non-matching record comparisons, 3.25% of records are in the exact match comparison level\", \"has_tf_adjustments\": false, \"tf_adjustment_column\": null, \"tf_adjustment_weight\": 1.0, \"is_null_level\": false, \"bayes_factor\": 29.962450250090853, \"log2_bayes_factor\": 4.9050837033005505, \"comparison_vector_value\": 2, \"max_comparison_vector_value\": 2, \"bayes_factor_description\": \"If comparison level is `exact match` then comparison is 29.96 times more likely to be a match\", \"probability_two_random_records_match\": 0.006814244865146268, \"comparison_sort_order\": 2, \"iteration\": 3}, {\"comparison_name\": \"day_of_birth\", \"sql_condition\": \"abs(day_of_birth_l - day_of_birth_r) <= 5\", \"label_for_charts\": \"Inexact match\", \"m_probability\": 0.019600424176429772, \"u_probability\": 0.2965057730184639, \"m_probability_description\": \"Amongst matching record comparisons, 1.96% of records are in the inexact match comparison level\", \"u_probability_description\": \"Amongst non-matching record comparisons, 29.65% of records are in the inexact match comparison level\", \"has_tf_adjustments\": false, \"tf_adjustment_column\": null, \"tf_adjustment_weight\": 1.0, \"is_null_level\": false, \"bayes_factor\": 0.06610469663674717, \"log2_bayes_factor\": -3.9191034131426243, \"comparison_vector_value\": 1, \"max_comparison_vector_value\": 2, \"bayes_factor_description\": \"If comparison level is `inexact match` then comparison is  15.13 times less likely to be a match\", \"probability_two_random_records_match\": 0.006814244865146268, \"comparison_sort_order\": 2, \"iteration\": 3}, {\"comparison_name\": \"day_of_birth\", \"sql_condition\": \"ELSE\", \"label_for_charts\": \"All other comparisons\", \"m_probability\": 0.007693373683131727, \"u_probability\": 0.6710300528562076, \"m_probability_description\": \"Amongst matching record comparisons, 0.77% of records are in the all other comparisons comparison level\", \"u_probability_description\": \"Amongst non-matching record comparisons, 67.10% of records are in the all other comparisons comparison level\", \"has_tf_adjustments\": false, \"tf_adjustment_column\": null, \"tf_adjustment_weight\": 1.0, \"is_null_level\": false, \"bayes_factor\": 0.011465021052909995, \"log2_bayes_factor\": -6.44661718567146, \"comparison_vector_value\": 0, \"max_comparison_vector_value\": 2, \"bayes_factor_description\": \"If comparison level is `all other comparisons` then comparison is  87.22 times less likely to be a match\", \"probability_two_random_records_match\": 0.006814244865146268, \"comparison_sort_order\": 2, \"iteration\": 3}, {\"comparison_name\": \"month_of_birth\", \"sql_condition\": \"\\\"month_of_birth_l\\\" = \\\"month_of_birth_r\\\"\", \"label_for_charts\": \"Exact match\", \"m_probability\": 0.9824273678746885, \"u_probability\": 0.08358610359130632, \"m_probability_description\": \"Amongst matching record comparisons, 98.24% of records are in the exact match comparison level\", \"u_probability_description\": \"Amongst non-matching record comparisons, 8.36% of records are in the exact match comparison level\", \"has_tf_adjustments\": false, \"tf_adjustment_column\": null, \"tf_adjustment_weight\": 1.0, \"is_null_level\": false, \"bayes_factor\": 11.753477260744924, \"log2_bayes_factor\": 3.5550157354798535, \"comparison_vector_value\": 2, \"max_comparison_vector_value\": 2, \"bayes_factor_description\": \"If comparison level is `exact match` then comparison is 11.75 times more likely to be a match\", \"probability_two_random_records_match\": 0.006814244865146268, \"comparison_sort_order\": 3, \"iteration\": 3}, {\"comparison_name\": \"month_of_birth\", \"sql_condition\": \"abs(month_of_birth_l - month_of_birth_r) <= 3\", \"label_for_charts\": \"Inexact match\", \"m_probability\": 0.00912262799681112, \"u_probability\": 0.419960264938525, \"m_probability_description\": \"Amongst matching record comparisons, 0.91% of records are in the inexact match comparison level\", \"u_probability_description\": \"Amongst non-matching record comparisons, 42.00% of records are in the inexact match comparison level\", \"has_tf_adjustments\": false, \"tf_adjustment_column\": null, \"tf_adjustment_weight\": 1.0, \"is_null_level\": false, \"bayes_factor\": 0.021722597965658764, \"log2_bayes_factor\": -5.524659533776393, \"comparison_vector_value\": 1, \"max_comparison_vector_value\": 2, \"bayes_factor_description\": \"If comparison level is `inexact match` then comparison is  46.04 times less likely to be a match\", \"probability_two_random_records_match\": 0.006814244865146268, \"comparison_sort_order\": 3, \"iteration\": 3}, {\"comparison_name\": \"month_of_birth\", \"sql_condition\": \"ELSE\", \"label_for_charts\": \"All other comparisons\", \"m_probability\": 0.00845000412850025, \"u_probability\": 0.4964536314701687, \"m_probability_description\": \"Amongst matching record comparisons, 0.85% of records are in the all other comparisons comparison level\", \"u_probability_description\": \"Amongst non-matching record comparisons, 49.65% of records are in the all other comparisons comparison level\", \"has_tf_adjustments\": false, \"tf_adjustment_column\": null, \"tf_adjustment_weight\": 1.0, \"is_null_level\": false, \"bayes_factor\": 0.017020731832451105, \"log2_bayes_factor\": -5.876563120532897, \"comparison_vector_value\": 0, \"max_comparison_vector_value\": 2, \"bayes_factor_description\": \"If comparison level is `all other comparisons` then comparison is  58.75 times less likely to be a match\", \"probability_two_random_records_match\": 0.006814244865146268, \"comparison_sort_order\": 3, \"iteration\": 3}, {\"comparison_name\": \"year_of_birth\", \"sql_condition\": \"\\\"year_of_birth_l\\\" = \\\"year_of_birth_r\\\"\", \"label_for_charts\": \"Exact match\", \"m_probability\": 0.965756823710522, \"u_probability\": 0.010988145230220372, \"m_probability_description\": \"Amongst matching record comparisons, 96.58% of records are in the exact match comparison level\", \"u_probability_description\": \"Amongst non-matching record comparisons, 1.10% of records are in the exact match comparison level\", \"has_tf_adjustments\": false, \"tf_adjustment_column\": null, \"tf_adjustment_weight\": 1.0, \"is_null_level\": false, \"bayes_factor\": 87.8907953504682, \"log2_bayes_factor\": 6.457640177234677, \"comparison_vector_value\": 2, \"max_comparison_vector_value\": 2, \"bayes_factor_description\": \"If comparison level is `exact match` then comparison is 87.89 times more likely to be a match\", \"probability_two_random_records_match\": 0.006814244865146268, \"comparison_sort_order\": 4, \"iteration\": 3}, {\"comparison_name\": \"year_of_birth\", \"sql_condition\": \"abs(year_of_birth_l - year_of_birth_r) <= 5\", \"label_for_charts\": \"Inexact match\", \"m_probability\": 0.010912340378871252, \"u_probability\": 0.10851628136997345, \"m_probability_description\": \"Amongst matching record comparisons, 1.09% of records are in the inexact match comparison level\", \"u_probability_description\": \"Amongst non-matching record comparisons, 10.85% of records are in the inexact match comparison level\", \"has_tf_adjustments\": false, \"tf_adjustment_column\": null, \"tf_adjustment_weight\": 1.0, \"is_null_level\": false, \"bayes_factor\": 0.10055947587871092, \"log2_bayes_factor\": -3.3138790593993104, \"comparison_vector_value\": 1, \"max_comparison_vector_value\": 2, \"bayes_factor_description\": \"If comparison level is `inexact match` then comparison is  9.94 times less likely to be a match\", \"probability_two_random_records_match\": 0.006814244865146268, \"comparison_sort_order\": 4, \"iteration\": 3}, {\"comparison_name\": \"year_of_birth\", \"sql_condition\": \"ELSE\", \"label_for_charts\": \"All other comparisons\", \"m_probability\": 0.023330835910606754, \"u_probability\": 0.8804955733998062, \"m_probability_description\": \"Amongst matching record comparisons, 2.33% of records are in the all other comparisons comparison level\", \"u_probability_description\": \"Amongst non-matching record comparisons, 88.05% of records are in the all other comparisons comparison level\", \"has_tf_adjustments\": false, \"tf_adjustment_column\": null, \"tf_adjustment_weight\": 1.0, \"is_null_level\": false, \"bayes_factor\": 0.026497391486615608, \"log2_bayes_factor\": -5.238005848006608, \"comparison_vector_value\": 0, \"max_comparison_vector_value\": 2, \"bayes_factor_description\": \"If comparison level is `all other comparisons` then comparison is  37.74 times less likely to be a match\", \"probability_two_random_records_match\": 0.006814244865146268, \"comparison_sort_order\": 4, \"iteration\": 3}, {\"comparison_name\": \"geokey\", \"sql_condition\": \"\\\"geokey_l\\\" = \\\"geokey_r\\\"\", \"label_for_charts\": \"Exact match\", \"m_probability\": 0.4524137784582145, \"u_probability\": 0.0019196584849132347, \"m_probability_description\": \"Amongst matching record comparisons, 45.24% of records are in the exact match comparison level\", \"u_probability_description\": \"Amongst non-matching record comparisons, 0.19% of records are in the exact match comparison level\", \"has_tf_adjustments\": false, \"tf_adjustment_column\": null, \"tf_adjustment_weight\": 1.0, \"is_null_level\": false, \"bayes_factor\": 235.67409620709844, \"log2_bayes_factor\": 7.880649385243204, \"comparison_vector_value\": 2, \"max_comparison_vector_value\": 2, \"bayes_factor_description\": \"If comparison level is `exact match` then comparison is 235.67 times more likely to be a match\", \"probability_two_random_records_match\": 0.006814244865146268, \"comparison_sort_order\": 5, \"iteration\": 3}, {\"comparison_name\": \"geokey\", \"sql_condition\": \"jaro_winkler_similarity(\\\"geokey_l\\\", \\\"geokey_r\\\") >= 0.7222222222222222\", \"label_for_charts\": \"Jaro_winkler_similarity >= 0.7222222222222222\", \"m_probability\": 0.44029322919475933, \"u_probability\": 0.3870547506148817, \"m_probability_description\": \"Amongst matching record comparisons, 44.03% of records are in the jaro_winkler_similarity >= 0.7222222222222222 comparison level\", \"u_probability_description\": \"Amongst non-matching record comparisons, 38.71% of records are in the jaro_winkler_similarity >= 0.7222222222222222 comparison level\", \"has_tf_adjustments\": false, \"tf_adjustment_column\": null, \"tf_adjustment_weight\": 1.0, \"is_null_level\": false, \"bayes_factor\": 1.1375476686316395, \"log2_bayes_factor\": 0.18592700232894327, \"comparison_vector_value\": 1, \"max_comparison_vector_value\": 2, \"bayes_factor_description\": \"If comparison level is `jaro_winkler_similarity >= 0.7222222222222222` then comparison is 1.14 times more likely to be a match\", \"probability_two_random_records_match\": 0.006814244865146268, \"comparison_sort_order\": 5, \"iteration\": 3}, {\"comparison_name\": \"geokey\", \"sql_condition\": \"ELSE\", \"label_for_charts\": \"All other comparisons\", \"m_probability\": 0.10729299234702612, \"u_probability\": 0.611025590900205, \"m_probability_description\": \"Amongst matching record comparisons, 10.73% of records are in the all other comparisons comparison level\", \"u_probability_description\": \"Amongst non-matching record comparisons, 61.10% of records are in the all other comparisons comparison level\", \"has_tf_adjustments\": false, \"tf_adjustment_column\": null, \"tf_adjustment_weight\": 1.0, \"is_null_level\": false, \"bayes_factor\": 0.17559492424687922, \"log2_bayes_factor\": -2.5096769520054987, \"comparison_vector_value\": 0, \"max_comparison_vector_value\": 2, \"bayes_factor_description\": \"If comparison level is `all other comparisons` then comparison is  5.69 times less likely to be a match\", \"probability_two_random_records_match\": 0.006814244865146268, \"comparison_sort_order\": 5, \"iteration\": 3}, {\"comparison_name\": \"probability_two_random_records_match\", \"sql_condition\": null, \"label_for_charts\": \"\", \"m_probability\": null, \"u_probability\": null, \"m_probability_description\": null, \"u_probability_description\": null, \"has_tf_adjustments\": false, \"tf_adjustment_column\": null, \"tf_adjustment_weight\": null, \"is_null_level\": false, \"bayes_factor\": 0.006860997381321721, \"log2_bayes_factor\": -7.1873659688333635, \"comparison_vector_value\": 0, \"max_comparison_vector_value\": 0, \"bayes_factor_description\": \"The probability that two random records drawn at random match is 0.007 or one in  146.8 records.This is equivalent to a starting match weight of -7.187.\", \"probability_two_random_records_match\": 0.006814244865146268, \"comparison_sort_order\": -1, \"iteration\": 4}, {\"comparison_name\": \"last_name_12\", \"sql_condition\": \"\\\"last_name_12_l\\\" = \\\"last_name_12_r\\\"\", \"label_for_charts\": \"Exact match\", \"m_probability\": 0.8744496089534092, \"u_probability\": 0.0006599706231126029, \"m_probability_description\": \"Amongst matching record comparisons, 87.44% of records are in the exact match comparison level\", \"u_probability_description\": \"Amongst non-matching record comparisons, 0.07% of records are in the exact match comparison level\", \"has_tf_adjustments\": false, \"tf_adjustment_column\": null, \"tf_adjustment_weight\": 1.0, \"is_null_level\": false, \"bayes_factor\": 1324.9826254830318, \"log2_bayes_factor\": 10.371757726380329, \"comparison_vector_value\": 2, \"max_comparison_vector_value\": 2, \"bayes_factor_description\": \"If comparison level is `exact match` then comparison is 1,324.98 times more likely to be a match\", \"probability_two_random_records_match\": 0.006814244865146268, \"comparison_sort_order\": 0, \"iteration\": 4}, {\"comparison_name\": \"last_name_12\", \"sql_condition\": \"jaro_winkler_similarity(\\\"last_name_12_l\\\", \\\"last_name_12_r\\\") >= 0.8333333333333334\", \"label_for_charts\": \"Jaro_winkler_similarity >= 0.8333333333333334\", \"m_probability\": 0.09555201379103445, \"u_probability\": 0.0013437257720127285, \"m_probability_description\": \"Amongst matching record comparisons, 9.56% of records are in the jaro_winkler_similarity >= 0.8333333333333334 comparison level\", \"u_probability_description\": \"Amongst non-matching record comparisons, 0.13% of records are in the jaro_winkler_similarity >= 0.8333333333333334 comparison level\", \"has_tf_adjustments\": false, \"tf_adjustment_column\": null, \"tf_adjustment_weight\": 1.0, \"is_null_level\": false, \"bayes_factor\": 71.10975749755087, \"log2_bayes_factor\": 6.151975631208463, \"comparison_vector_value\": 1, \"max_comparison_vector_value\": 2, \"bayes_factor_description\": \"If comparison level is `jaro_winkler_similarity >= 0.8333333333333334` then comparison is 71.11 times more likely to be a match\", \"probability_two_random_records_match\": 0.006814244865146268, \"comparison_sort_order\": 0, \"iteration\": 4}, {\"comparison_name\": \"last_name_12\", \"sql_condition\": \"ELSE\", \"label_for_charts\": \"All other comparisons\", \"m_probability\": 0.029998377255556295, \"u_probability\": 0.9979963036048747, \"m_probability_description\": \"Amongst matching record comparisons, 3.00% of records are in the all other comparisons comparison level\", \"u_probability_description\": \"Amongst non-matching record comparisons, 99.80% of records are in the all other comparisons comparison level\", \"has_tf_adjustments\": false, \"tf_adjustment_column\": null, \"tf_adjustment_weight\": 1.0, \"is_null_level\": false, \"bayes_factor\": 0.030058605575189797, \"log2_bayes_factor\": -5.056078105883725, \"comparison_vector_value\": 0, \"max_comparison_vector_value\": 2, \"bayes_factor_description\": \"If comparison level is `all other comparisons` then comparison is  33.27 times less likely to be a match\", \"probability_two_random_records_match\": 0.006814244865146268, \"comparison_sort_order\": 0, \"iteration\": 4}, {\"comparison_name\": \"middle_initial\", \"sql_condition\": \"\\\"middle_initial_l\\\" = \\\"middle_initial_r\\\"\", \"label_for_charts\": \"Exact match\", \"m_probability\": 0.9410118511916141, \"u_probability\": 0.07356305686300955, \"m_probability_description\": \"Amongst matching record comparisons, 94.10% of records are in the exact match comparison level\", \"u_probability_description\": \"Amongst non-matching record comparisons, 7.36% of records are in the exact match comparison level\", \"has_tf_adjustments\": false, \"tf_adjustment_column\": null, \"tf_adjustment_weight\": 1.0, \"is_null_level\": false, \"bayes_factor\": 12.791907940204052, \"log2_bayes_factor\": 3.6771595561815196, \"comparison_vector_value\": 1, \"max_comparison_vector_value\": 1, \"bayes_factor_description\": \"If comparison level is `exact match` then comparison is 12.79 times more likely to be a match\", \"probability_two_random_records_match\": 0.006814244865146268, \"comparison_sort_order\": 1, \"iteration\": 4}, {\"comparison_name\": \"middle_initial\", \"sql_condition\": \"ELSE\", \"label_for_charts\": \"All other comparisons\", \"m_probability\": 0.05898814880838588, \"u_probability\": 0.9264369431369904, \"m_probability_description\": \"Amongst matching record comparisons, 5.90% of records are in the all other comparisons comparison level\", \"u_probability_description\": \"Amongst non-matching record comparisons, 92.64% of records are in the all other comparisons comparison level\", \"has_tf_adjustments\": false, \"tf_adjustment_column\": null, \"tf_adjustment_weight\": 1.0, \"is_null_level\": false, \"bayes_factor\": 0.06367206019294443, \"log2_bayes_factor\": -3.9731957445091792, \"comparison_vector_value\": 0, \"max_comparison_vector_value\": 1, \"bayes_factor_description\": \"If comparison level is `all other comparisons` then comparison is  15.71 times less likely to be a match\", \"probability_two_random_records_match\": 0.006814244865146268, \"comparison_sort_order\": 1, \"iteration\": 4}, {\"comparison_name\": \"day_of_birth\", \"sql_condition\": \"\\\"day_of_birth_l\\\" = \\\"day_of_birth_r\\\"\", \"label_for_charts\": \"Exact match\", \"m_probability\": 0.9728784619405288, \"u_probability\": 0.032464174125328385, \"m_probability_description\": \"Amongst matching record comparisons, 97.29% of records are in the exact match comparison level\", \"u_probability_description\": \"Amongst non-matching record comparisons, 3.25% of records are in the exact match comparison level\", \"has_tf_adjustments\": false, \"tf_adjustment_column\": null, \"tf_adjustment_weight\": 1.0, \"is_null_level\": false, \"bayes_factor\": 29.96775640078563, \"log2_bayes_factor\": 4.905339172378379, \"comparison_vector_value\": 2, \"max_comparison_vector_value\": 2, \"bayes_factor_description\": \"If comparison level is `exact match` then comparison is 29.97 times more likely to be a match\", \"probability_two_random_records_match\": 0.006814244865146268, \"comparison_sort_order\": 2, \"iteration\": 4}, {\"comparison_name\": \"day_of_birth\", \"sql_condition\": \"abs(day_of_birth_l - day_of_birth_r) <= 5\", \"label_for_charts\": \"Inexact match\", \"m_probability\": 0.019574615437276576, \"u_probability\": 0.2965057730184639, \"m_probability_description\": \"Amongst matching record comparisons, 1.96% of records are in the inexact match comparison level\", \"u_probability_description\": \"Amongst non-matching record comparisons, 29.65% of records are in the inexact match comparison level\", \"has_tf_adjustments\": false, \"tf_adjustment_column\": null, \"tf_adjustment_weight\": 1.0, \"is_null_level\": false, \"bayes_factor\": 0.06601765368007735, \"log2_bayes_factor\": -3.9210043248324107, \"comparison_vector_value\": 1, \"max_comparison_vector_value\": 2, \"bayes_factor_description\": \"If comparison level is `inexact match` then comparison is  15.15 times less likely to be a match\", \"probability_two_random_records_match\": 0.006814244865146268, \"comparison_sort_order\": 2, \"iteration\": 4}, {\"comparison_name\": \"day_of_birth\", \"sql_condition\": \"ELSE\", \"label_for_charts\": \"All other comparisons\", \"m_probability\": 0.0075469226221945955, \"u_probability\": 0.6710300528562076, \"m_probability_description\": \"Amongst matching record comparisons, 0.75% of records are in the all other comparisons comparison level\", \"u_probability_description\": \"Amongst non-matching record comparisons, 67.10% of records are in the all other comparisons comparison level\", \"has_tf_adjustments\": false, \"tf_adjustment_column\": null, \"tf_adjustment_weight\": 1.0, \"is_null_level\": false, \"bayes_factor\": 0.011246772912884418, \"log2_bayes_factor\": -6.474345087928423, \"comparison_vector_value\": 0, \"max_comparison_vector_value\": 2, \"bayes_factor_description\": \"If comparison level is `all other comparisons` then comparison is  88.91 times less likely to be a match\", \"probability_two_random_records_match\": 0.006814244865146268, \"comparison_sort_order\": 2, \"iteration\": 4}, {\"comparison_name\": \"month_of_birth\", \"sql_condition\": \"\\\"month_of_birth_l\\\" = \\\"month_of_birth_r\\\"\", \"label_for_charts\": \"Exact match\", \"m_probability\": 0.98257605322607, \"u_probability\": 0.08358610359130632, \"m_probability_description\": \"Amongst matching record comparisons, 98.26% of records are in the exact match comparison level\", \"u_probability_description\": \"Amongst non-matching record comparisons, 8.36% of records are in the exact match comparison level\", \"has_tf_adjustments\": false, \"tf_adjustment_column\": null, \"tf_adjustment_weight\": 1.0, \"is_null_level\": false, \"bayes_factor\": 11.755256089341943, \"log2_bayes_factor\": 3.5552340634656443, \"comparison_vector_value\": 2, \"max_comparison_vector_value\": 2, \"bayes_factor_description\": \"If comparison level is `exact match` then comparison is 11.76 times more likely to be a match\", \"probability_two_random_records_match\": 0.006814244865146268, \"comparison_sort_order\": 3, \"iteration\": 4}, {\"comparison_name\": \"month_of_birth\", \"sql_condition\": \"abs(month_of_birth_l - month_of_birth_r) <= 3\", \"label_for_charts\": \"Inexact match\", \"m_probability\": 0.009044808091788559, \"u_probability\": 0.419960264938525, \"m_probability_description\": \"Amongst matching record comparisons, 0.90% of records are in the inexact match comparison level\", \"u_probability_description\": \"Amongst non-matching record comparisons, 42.00% of records are in the inexact match comparison level\", \"has_tf_adjustments\": false, \"tf_adjustment_column\": null, \"tf_adjustment_weight\": 1.0, \"is_null_level\": false, \"bayes_factor\": 0.021537294946493483, \"log2_bayes_factor\": -5.5370191289523705, \"comparison_vector_value\": 1, \"max_comparison_vector_value\": 2, \"bayes_factor_description\": \"If comparison level is `inexact match` then comparison is  46.43 times less likely to be a match\", \"probability_two_random_records_match\": 0.006814244865146268, \"comparison_sort_order\": 3, \"iteration\": 4}, {\"comparison_name\": \"month_of_birth\", \"sql_condition\": \"ELSE\", \"label_for_charts\": \"All other comparisons\", \"m_probability\": 0.008379138682141449, \"u_probability\": 0.4964536314701687, \"m_probability_description\": \"Amongst matching record comparisons, 0.84% of records are in the all other comparisons comparison level\", \"u_probability_description\": \"Amongst non-matching record comparisons, 49.65% of records are in the all other comparisons comparison level\", \"has_tf_adjustments\": false, \"tf_adjustment_column\": null, \"tf_adjustment_weight\": 1.0, \"is_null_level\": false, \"bayes_factor\": 0.016877988498800903, \"log2_bayes_factor\": -5.888713214386349, \"comparison_vector_value\": 0, \"max_comparison_vector_value\": 2, \"bayes_factor_description\": \"If comparison level is `all other comparisons` then comparison is  59.25 times less likely to be a match\", \"probability_two_random_records_match\": 0.006814244865146268, \"comparison_sort_order\": 3, \"iteration\": 4}, {\"comparison_name\": \"year_of_birth\", \"sql_condition\": \"\\\"year_of_birth_l\\\" = \\\"year_of_birth_r\\\"\", \"label_for_charts\": \"Exact match\", \"m_probability\": 0.9658770980330909, \"u_probability\": 0.010988145230220372, \"m_probability_description\": \"Amongst matching record comparisons, 96.59% of records are in the exact match comparison level\", \"u_probability_description\": \"Amongst non-matching record comparisons, 1.10% of records are in the exact match comparison level\", \"has_tf_adjustments\": false, \"tf_adjustment_column\": null, \"tf_adjustment_weight\": 1.0, \"is_null_level\": false, \"bayes_factor\": 87.90174117617845, \"log2_bayes_factor\": 6.4578198377459035, \"comparison_vector_value\": 2, \"max_comparison_vector_value\": 2, \"bayes_factor_description\": \"If comparison level is `exact match` then comparison is 87.90 times more likely to be a match\", \"probability_two_random_records_match\": 0.006814244865146268, \"comparison_sort_order\": 4, \"iteration\": 4}, {\"comparison_name\": \"year_of_birth\", \"sql_condition\": \"abs(year_of_birth_l - year_of_birth_r) <= 5\", \"label_for_charts\": \"Inexact match\", \"m_probability\": 0.010886615879047084, \"u_probability\": 0.10851628136997345, \"m_probability_description\": \"Amongst matching record comparisons, 1.09% of records are in the inexact match comparison level\", \"u_probability_description\": \"Amongst non-matching record comparisons, 10.85% of records are in the inexact match comparison level\", \"has_tf_adjustments\": false, \"tf_adjustment_column\": null, \"tf_adjustment_weight\": 1.0, \"is_null_level\": false, \"bayes_factor\": 0.10032241928683912, \"log2_bayes_factor\": -3.317284050456139, \"comparison_vector_value\": 1, \"max_comparison_vector_value\": 2, \"bayes_factor_description\": \"If comparison level is `inexact match` then comparison is  9.97 times less likely to be a match\", \"probability_two_random_records_match\": 0.006814244865146268, \"comparison_sort_order\": 4, \"iteration\": 4}, {\"comparison_name\": \"year_of_birth\", \"sql_condition\": \"ELSE\", \"label_for_charts\": \"All other comparisons\", \"m_probability\": 0.023236286087862035, \"u_probability\": 0.8804955733998062, \"m_probability_description\": \"Amongst matching record comparisons, 2.32% of records are in the all other comparisons comparison level\", \"u_probability_description\": \"Amongst non-matching record comparisons, 88.05% of records are in the all other comparisons comparison level\", \"has_tf_adjustments\": false, \"tf_adjustment_column\": null, \"tf_adjustment_weight\": 1.0, \"is_null_level\": false, \"bayes_factor\": 0.026390008978853942, \"log2_bayes_factor\": -5.243864348252421, \"comparison_vector_value\": 0, \"max_comparison_vector_value\": 2, \"bayes_factor_description\": \"If comparison level is `all other comparisons` then comparison is  37.89 times less likely to be a match\", \"probability_two_random_records_match\": 0.006814244865146268, \"comparison_sort_order\": 4, \"iteration\": 4}, {\"comparison_name\": \"geokey\", \"sql_condition\": \"\\\"geokey_l\\\" = \\\"geokey_r\\\"\", \"label_for_charts\": \"Exact match\", \"m_probability\": 0.4523874476801769, \"u_probability\": 0.0019196584849132347, \"m_probability_description\": \"Amongst matching record comparisons, 45.24% of records are in the exact match comparison level\", \"u_probability_description\": \"Amongst non-matching record comparisons, 0.19% of records are in the exact match comparison level\", \"has_tf_adjustments\": false, \"tf_adjustment_column\": null, \"tf_adjustment_weight\": 1.0, \"is_null_level\": false, \"bayes_factor\": 235.6603798204367, \"log2_bayes_factor\": 7.880565417003969, \"comparison_vector_value\": 2, \"max_comparison_vector_value\": 2, \"bayes_factor_description\": \"If comparison level is `exact match` then comparison is 235.66 times more likely to be a match\", \"probability_two_random_records_match\": 0.006814244865146268, \"comparison_sort_order\": 5, \"iteration\": 4}, {\"comparison_name\": \"geokey\", \"sql_condition\": \"jaro_winkler_similarity(\\\"geokey_l\\\", \\\"geokey_r\\\") >= 0.7222222222222222\", \"label_for_charts\": \"Jaro_winkler_similarity >= 0.7222222222222222\", \"m_probability\": 0.4403088335398938, \"u_probability\": 0.3870547506148817, \"m_probability_description\": \"Amongst matching record comparisons, 44.03% of records are in the jaro_winkler_similarity >= 0.7222222222222222 comparison level\", \"u_probability_description\": \"Amongst non-matching record comparisons, 38.71% of records are in the jaro_winkler_similarity >= 0.7222222222222222 comparison level\", \"has_tf_adjustments\": false, \"tf_adjustment_column\": null, \"tf_adjustment_weight\": 1.0, \"is_null_level\": false, \"bayes_factor\": 1.1375879842332688, \"log2_bayes_factor\": 0.18597813169212996, \"comparison_vector_value\": 1, \"max_comparison_vector_value\": 2, \"bayes_factor_description\": \"If comparison level is `jaro_winkler_similarity >= 0.7222222222222222` then comparison is 1.14 times more likely to be a match\", \"probability_two_random_records_match\": 0.006814244865146268, \"comparison_sort_order\": 5, \"iteration\": 4}, {\"comparison_name\": \"geokey\", \"sql_condition\": \"ELSE\", \"label_for_charts\": \"All other comparisons\", \"m_probability\": 0.10730371877992934, \"u_probability\": 0.611025590900205, \"m_probability_description\": \"Amongst matching record comparisons, 10.73% of records are in the all other comparisons comparison level\", \"u_probability_description\": \"Amongst non-matching record comparisons, 61.10% of records are in the all other comparisons comparison level\", \"has_tf_adjustments\": false, \"tf_adjustment_column\": null, \"tf_adjustment_weight\": 1.0, \"is_null_level\": false, \"bayes_factor\": 0.17561247904828683, \"log2_bayes_factor\": -2.509532728252138, \"comparison_vector_value\": 0, \"max_comparison_vector_value\": 2, \"bayes_factor_description\": \"If comparison level is `all other comparisons` then comparison is  5.69 times less likely to be a match\", \"probability_two_random_records_match\": 0.006814244865146268, \"comparison_sort_order\": 5, \"iteration\": 4}, {\"comparison_name\": \"probability_two_random_records_match\", \"sql_condition\": null, \"label_for_charts\": \"\", \"m_probability\": null, \"u_probability\": null, \"m_probability_description\": null, \"u_probability_description\": null, \"has_tf_adjustments\": false, \"tf_adjustment_column\": null, \"tf_adjustment_weight\": null, \"is_null_level\": false, \"bayes_factor\": 0.006860997381321721, \"log2_bayes_factor\": -7.1873659688333635, \"comparison_vector_value\": 0, \"max_comparison_vector_value\": 0, \"bayes_factor_description\": \"The probability that two random records drawn at random match is 0.007 or one in  146.8 records.This is equivalent to a starting match weight of -7.187.\", \"probability_two_random_records_match\": 0.006814244865146268, \"comparison_sort_order\": -1, \"iteration\": 5}, {\"comparison_name\": \"last_name_12\", \"sql_condition\": \"\\\"last_name_12_l\\\" = \\\"last_name_12_r\\\"\", \"label_for_charts\": \"Exact match\", \"m_probability\": 0.8744425068250526, \"u_probability\": 0.0006599706231126029, \"m_probability_description\": \"Amongst matching record comparisons, 87.44% of records are in the exact match comparison level\", \"u_probability_description\": \"Amongst non-matching record comparisons, 0.07% of records are in the exact match comparison level\", \"has_tf_adjustments\": false, \"tf_adjustment_column\": null, \"tf_adjustment_weight\": 1.0, \"is_null_level\": false, \"bayes_factor\": 1324.9718642035025, \"log2_bayes_factor\": 10.371746009013354, \"comparison_vector_value\": 2, \"max_comparison_vector_value\": 2, \"bayes_factor_description\": \"If comparison level is `exact match` then comparison is 1,324.97 times more likely to be a match\", \"probability_two_random_records_match\": 0.006814244865146268, \"comparison_sort_order\": 0, \"iteration\": 5}, {\"comparison_name\": \"last_name_12\", \"sql_condition\": \"jaro_winkler_similarity(\\\"last_name_12_l\\\", \\\"last_name_12_r\\\") >= 0.8333333333333334\", \"label_for_charts\": \"Jaro_winkler_similarity >= 0.8333333333333334\", \"m_probability\": 0.0955534957845705, \"u_probability\": 0.0013437257720127285, \"m_probability_description\": \"Amongst matching record comparisons, 9.56% of records are in the jaro_winkler_similarity >= 0.8333333333333334 comparison level\", \"u_probability_description\": \"Amongst non-matching record comparisons, 0.13% of records are in the jaro_winkler_similarity >= 0.8333333333333334 comparison level\", \"has_tf_adjustments\": false, \"tf_adjustment_column\": null, \"tf_adjustment_weight\": 1.0, \"is_null_level\": false, \"bayes_factor\": 71.11086039634682, \"log2_bayes_factor\": 6.151998006960264, \"comparison_vector_value\": 1, \"max_comparison_vector_value\": 2, \"bayes_factor_description\": \"If comparison level is `jaro_winkler_similarity >= 0.8333333333333334` then comparison is 71.11 times more likely to be a match\", \"probability_two_random_records_match\": 0.006814244865146268, \"comparison_sort_order\": 0, \"iteration\": 5}, {\"comparison_name\": \"last_name_12\", \"sql_condition\": \"ELSE\", \"label_for_charts\": \"All other comparisons\", \"m_probability\": 0.03000399739037679, \"u_probability\": 0.9979963036048747, \"m_probability_description\": \"Amongst matching record comparisons, 3.00% of records are in the all other comparisons comparison level\", \"u_probability_description\": \"Amongst non-matching record comparisons, 99.80% of records are in the all other comparisons comparison level\", \"has_tf_adjustments\": false, \"tf_adjustment_column\": null, \"tf_adjustment_weight\": 1.0, \"is_null_level\": false, \"bayes_factor\": 0.030064236993663188, \"log2_bayes_factor\": -5.055807845224669, \"comparison_vector_value\": 0, \"max_comparison_vector_value\": 2, \"bayes_factor_description\": \"If comparison level is `all other comparisons` then comparison is  33.26 times less likely to be a match\", \"probability_two_random_records_match\": 0.006814244865146268, \"comparison_sort_order\": 0, \"iteration\": 5}, {\"comparison_name\": \"middle_initial\", \"sql_condition\": \"\\\"middle_initial_l\\\" = \\\"middle_initial_r\\\"\", \"label_for_charts\": \"Exact match\", \"m_probability\": 0.9410121677945328, \"u_probability\": 0.07356305686300955, \"m_probability_description\": \"Amongst matching record comparisons, 94.10% of records are in the exact match comparison level\", \"u_probability_description\": \"Amongst non-matching record comparisons, 7.36% of records are in the exact match comparison level\", \"has_tf_adjustments\": false, \"tf_adjustment_column\": null, \"tf_adjustment_weight\": 1.0, \"is_null_level\": false, \"bayes_factor\": 12.791912244034428, \"log2_bayes_factor\": 3.677160041575389, \"comparison_vector_value\": 1, \"max_comparison_vector_value\": 1, \"bayes_factor_description\": \"If comparison level is `exact match` then comparison is 12.79 times more likely to be a match\", \"probability_two_random_records_match\": 0.006814244865146268, \"comparison_sort_order\": 1, \"iteration\": 5}, {\"comparison_name\": \"middle_initial\", \"sql_condition\": \"ELSE\", \"label_for_charts\": \"All other comparisons\", \"m_probability\": 0.058987832205467244, \"u_probability\": 0.9264369431369904, \"m_probability_description\": \"Amongst matching record comparisons, 5.90% of records are in the all other comparisons comparison level\", \"u_probability_description\": \"Amongst non-matching record comparisons, 92.64% of records are in the all other comparisons comparison level\", \"has_tf_adjustments\": false, \"tf_adjustment_column\": null, \"tf_adjustment_weight\": 1.0, \"is_null_level\": false, \"bayes_factor\": 0.06367171845039953, \"log2_bayes_factor\": -3.9732034878050047, \"comparison_vector_value\": 0, \"max_comparison_vector_value\": 1, \"bayes_factor_description\": \"If comparison level is `all other comparisons` then comparison is  15.71 times less likely to be a match\", \"probability_two_random_records_match\": 0.006814244865146268, \"comparison_sort_order\": 1, \"iteration\": 5}, {\"comparison_name\": \"day_of_birth\", \"sql_condition\": \"\\\"day_of_birth_l\\\" = \\\"day_of_birth_r\\\"\", \"label_for_charts\": \"Exact match\", \"m_probability\": 0.9729294383617619, \"u_probability\": 0.032464174125328385, \"m_probability_description\": \"Amongst matching record comparisons, 97.29% of records are in the exact match comparison level\", \"u_probability_description\": \"Amongst non-matching record comparisons, 3.25% of records are in the exact match comparison level\", \"has_tf_adjustments\": false, \"tf_adjustment_column\": null, \"tf_adjustment_weight\": 1.0, \"is_null_level\": false, \"bayes_factor\": 29.969326636980032, \"log2_bayes_factor\": 4.9054147640440515, \"comparison_vector_value\": 2, \"max_comparison_vector_value\": 2, \"bayes_factor_description\": \"If comparison level is `exact match` then comparison is 29.97 times more likely to be a match\", \"probability_two_random_records_match\": 0.006814244865146268, \"comparison_sort_order\": 2, \"iteration\": 5}, {\"comparison_name\": \"day_of_birth\", \"sql_condition\": \"abs(day_of_birth_l - day_of_birth_r) <= 5\", \"label_for_charts\": \"Inexact match\", \"m_probability\": 0.019565054339325493, \"u_probability\": 0.2965057730184639, \"m_probability_description\": \"Amongst matching record comparisons, 1.96% of records are in the inexact match comparison level\", \"u_probability_description\": \"Amongst non-matching record comparisons, 29.65% of records are in the inexact match comparison level\", \"has_tf_adjustments\": false, \"tf_adjustment_column\": null, \"tf_adjustment_weight\": 1.0, \"is_null_level\": false, \"bayes_factor\": 0.06598540777183162, \"log2_bayes_factor\": -3.921709172315927, \"comparison_vector_value\": 1, \"max_comparison_vector_value\": 2, \"bayes_factor_description\": \"If comparison level is `inexact match` then comparison is  15.15 times less likely to be a match\", \"probability_two_random_records_match\": 0.006814244865146268, \"comparison_sort_order\": 2, \"iteration\": 5}, {\"comparison_name\": \"day_of_birth\", \"sql_condition\": \"ELSE\", \"label_for_charts\": \"All other comparisons\", \"m_probability\": 0.0075055072989125985, \"u_probability\": 0.6710300528562076, \"m_probability_description\": \"Amongst matching record comparisons, 0.75% of records are in the all other comparisons comparison level\", \"u_probability_description\": \"Amongst non-matching record comparisons, 67.10% of records are in the all other comparisons comparison level\", \"has_tf_adjustments\": false, \"tf_adjustment_column\": null, \"tf_adjustment_weight\": 1.0, \"is_null_level\": false, \"bayes_factor\": 0.01118505388389948, \"log2_bayes_factor\": -6.4822839831901815, \"comparison_vector_value\": 0, \"max_comparison_vector_value\": 2, \"bayes_factor_description\": \"If comparison level is `all other comparisons` then comparison is  89.41 times less likely to be a match\", \"probability_two_random_records_match\": 0.006814244865146268, \"comparison_sort_order\": 2, \"iteration\": 5}, {\"comparison_name\": \"month_of_birth\", \"sql_condition\": \"\\\"month_of_birth_l\\\" = \\\"month_of_birth_r\\\"\", \"label_for_charts\": \"Exact match\", \"m_probability\": 0.9826190361038658, \"u_probability\": 0.08358610359130632, \"m_probability_description\": \"Amongst matching record comparisons, 98.26% of records are in the exact match comparison level\", \"u_probability_description\": \"Amongst non-matching record comparisons, 8.36% of records are in the exact match comparison level\", \"has_tf_adjustments\": false, \"tf_adjustment_column\": null, \"tf_adjustment_weight\": 1.0, \"is_null_level\": false, \"bayes_factor\": 11.755770324076535, \"log2_bayes_factor\": 3.5552971729095724, \"comparison_vector_value\": 2, \"max_comparison_vector_value\": 2, \"bayes_factor_description\": \"If comparison level is `exact match` then comparison is 11.76 times more likely to be a match\", \"probability_two_random_records_match\": 0.006814244865146268, \"comparison_sort_order\": 3, \"iteration\": 5}, {\"comparison_name\": \"month_of_birth\", \"sql_condition\": \"abs(month_of_birth_l - month_of_birth_r) <= 3\", \"label_for_charts\": \"Inexact match\", \"m_probability\": 0.009022720834560623, \"u_probability\": 0.419960264938525, \"m_probability_description\": \"Amongst matching record comparisons, 0.90% of records are in the inexact match comparison level\", \"u_probability_description\": \"Amongst non-matching record comparisons, 42.00% of records are in the inexact match comparison level\", \"has_tf_adjustments\": false, \"tf_adjustment_column\": null, \"tf_adjustment_weight\": 1.0, \"is_null_level\": false, \"bayes_factor\": 0.021484701263062102, \"log2_bayes_factor\": -5.5405464726719575, \"comparison_vector_value\": 1, \"max_comparison_vector_value\": 2, \"bayes_factor_description\": \"If comparison level is `inexact match` then comparison is  46.54 times less likely to be a match\", \"probability_two_random_records_match\": 0.006814244865146268, \"comparison_sort_order\": 3, \"iteration\": 5}, {\"comparison_name\": \"month_of_birth\", \"sql_condition\": \"ELSE\", \"label_for_charts\": \"All other comparisons\", \"m_probability\": 0.008358243061573659, \"u_probability\": 0.4964536314701687, \"m_probability_description\": \"Amongst matching record comparisons, 0.84% of records are in the all other comparisons comparison level\", \"u_probability_description\": \"Amongst non-matching record comparisons, 49.65% of records are in the all other comparisons comparison level\", \"has_tf_adjustments\": false, \"tf_adjustment_column\": null, \"tf_adjustment_weight\": 1.0, \"is_null_level\": false, \"bayes_factor\": 0.01683589872597376, \"log2_bayes_factor\": -5.8923154532900135, \"comparison_vector_value\": 0, \"max_comparison_vector_value\": 2, \"bayes_factor_description\": \"If comparison level is `all other comparisons` then comparison is  59.40 times less likely to be a match\", \"probability_two_random_records_match\": 0.006814244865146268, \"comparison_sort_order\": 3, \"iteration\": 5}, {\"comparison_name\": \"year_of_birth\", \"sql_condition\": \"\\\"year_of_birth_l\\\" = \\\"year_of_birth_r\\\"\", \"label_for_charts\": \"Exact match\", \"m_probability\": 0.9659136538935633, \"u_probability\": 0.010988145230220372, \"m_probability_description\": \"Amongst matching record comparisons, 96.59% of records are in the exact match comparison level\", \"u_probability_description\": \"Amongst non-matching record comparisons, 1.10% of records are in the exact match comparison level\", \"has_tf_adjustments\": false, \"tf_adjustment_column\": null, \"tf_adjustment_weight\": 1.0, \"is_null_level\": false, \"bayes_factor\": 87.9050680215838, \"log2_bayes_factor\": 6.45787443885482, \"comparison_vector_value\": 2, \"max_comparison_vector_value\": 2, \"bayes_factor_description\": \"If comparison level is `exact match` then comparison is 87.91 times more likely to be a match\", \"probability_two_random_records_match\": 0.006814244865146268, \"comparison_sort_order\": 4, \"iteration\": 5}, {\"comparison_name\": \"year_of_birth\", \"sql_condition\": \"abs(year_of_birth_l - year_of_birth_r) <= 5\", \"label_for_charts\": \"Inexact match\", \"m_probability\": 0.010877428309799745, \"u_probability\": 0.10851628136997345, \"m_probability_description\": \"Amongst matching record comparisons, 1.09% of records are in the inexact match comparison level\", \"u_probability_description\": \"Amongst non-matching record comparisons, 10.85% of records are in the inexact match comparison level\", \"has_tf_adjustments\": false, \"tf_adjustment_column\": null, \"tf_adjustment_weight\": 1.0, \"is_null_level\": false, \"bayes_factor\": 0.10023775393403353, \"log2_bayes_factor\": -3.3185021017763177, \"comparison_vector_value\": 1, \"max_comparison_vector_value\": 2, \"bayes_factor_description\": \"If comparison level is `inexact match` then comparison is  9.98 times less likely to be a match\", \"probability_two_random_records_match\": 0.006814244865146268, \"comparison_sort_order\": 4, \"iteration\": 5}, {\"comparison_name\": \"year_of_birth\", \"sql_condition\": \"ELSE\", \"label_for_charts\": \"All other comparisons\", \"m_probability\": 0.023208917796637002, \"u_probability\": 0.8804955733998062, \"m_probability_description\": \"Amongst matching record comparisons, 2.32% of records are in the all other comparisons comparison level\", \"u_probability_description\": \"Amongst non-matching record comparisons, 88.05% of records are in the all other comparisons comparison level\", \"has_tf_adjustments\": false, \"tf_adjustment_column\": null, \"tf_adjustment_weight\": 1.0, \"is_null_level\": false, \"bayes_factor\": 0.026358926152259644, \"log2_bayes_factor\": -5.245564592811413, \"comparison_vector_value\": 0, \"max_comparison_vector_value\": 2, \"bayes_factor_description\": \"If comparison level is `all other comparisons` then comparison is  37.94 times less likely to be a match\", \"probability_two_random_records_match\": 0.006814244865146268, \"comparison_sort_order\": 4, \"iteration\": 5}, {\"comparison_name\": \"geokey\", \"sql_condition\": \"\\\"geokey_l\\\" = \\\"geokey_r\\\"\", \"label_for_charts\": \"Exact match\", \"m_probability\": 0.4523829062897117, \"u_probability\": 0.0019196584849132347, \"m_probability_description\": \"Amongst matching record comparisons, 45.24% of records are in the exact match comparison level\", \"u_probability_description\": \"Amongst non-matching record comparisons, 0.19% of records are in the exact match comparison level\", \"has_tf_adjustments\": false, \"tf_adjustment_column\": null, \"tf_adjustment_weight\": 1.0, \"is_null_level\": false, \"bayes_factor\": 235.65801409210485, \"log2_bayes_factor\": 7.8805509341211595, \"comparison_vector_value\": 2, \"max_comparison_vector_value\": 2, \"bayes_factor_description\": \"If comparison level is `exact match` then comparison is 235.66 times more likely to be a match\", \"probability_two_random_records_match\": 0.006814244865146268, \"comparison_sort_order\": 5, \"iteration\": 5}, {\"comparison_name\": \"geokey\", \"sql_condition\": \"jaro_winkler_similarity(\\\"geokey_l\\\", \\\"geokey_r\\\") >= 0.7222222222222222\", \"label_for_charts\": \"Jaro_winkler_similarity >= 0.7222222222222222\", \"m_probability\": 0.44031150439850403, \"u_probability\": 0.3870547506148817, \"m_probability_description\": \"Amongst matching record comparisons, 44.03% of records are in the jaro_winkler_similarity >= 0.7222222222222222 comparison level\", \"u_probability_description\": \"Amongst non-matching record comparisons, 38.71% of records are in the jaro_winkler_similarity >= 0.7222222222222222 comparison level\", \"has_tf_adjustments\": false, \"tf_adjustment_column\": null, \"tf_adjustment_weight\": 1.0, \"is_null_level\": false, \"bayes_factor\": 1.1375948847004662, \"log2_bayes_factor\": 0.18598688287423626, \"comparison_vector_value\": 1, \"max_comparison_vector_value\": 2, \"bayes_factor_description\": \"If comparison level is `jaro_winkler_similarity >= 0.7222222222222222` then comparison is 1.14 times more likely to be a match\", \"probability_two_random_records_match\": 0.006814244865146268, \"comparison_sort_order\": 5, \"iteration\": 5}, {\"comparison_name\": \"geokey\", \"sql_condition\": \"ELSE\", \"label_for_charts\": \"All other comparisons\", \"m_probability\": 0.10730558931178416, \"u_probability\": 0.611025590900205, \"m_probability_description\": \"Amongst matching record comparisons, 10.73% of records are in the all other comparisons comparison level\", \"u_probability_description\": \"Amongst non-matching record comparisons, 61.10% of records are in the all other comparisons comparison level\", \"has_tf_adjustments\": false, \"tf_adjustment_column\": null, \"tf_adjustment_weight\": 1.0, \"is_null_level\": false, \"bayes_factor\": 0.1756155403469995, \"log2_bayes_factor\": -2.509507579230832, \"comparison_vector_value\": 0, \"max_comparison_vector_value\": 2, \"bayes_factor_description\": \"If comparison level is `all other comparisons` then comparison is  5.69 times less likely to be a match\", \"probability_two_random_records_match\": 0.006814244865146268, \"comparison_sort_order\": 5, \"iteration\": 5}]}}, {\"mode\": \"vega-lite\"});\n",
       "</script>"
      ],
      "text/plain": [
       "alt.VConcatChart(...)"
      ]
     },
     "execution_count": 53,
     "metadata": {},
     "output_type": "execute_result"
    }
   ],
   "source": [
    "em_session_1.match_weights_interactive_history_chart()"
   ]
  },
  {
   "cell_type": "code",
   "execution_count": 54,
   "id": "71478531-8837-48f4-8748-a65c5d8fa7cd",
   "metadata": {
    "execution": {
     "iopub.execute_input": "2024-06-01T00:28:52.735562Z",
     "iopub.status.busy": "2024-06-01T00:28:52.734780Z",
     "iopub.status.idle": "2024-06-01T00:28:55.894949Z",
     "shell.execute_reply": "2024-06-01T00:28:55.893500Z"
    },
    "papermill": {
     "duration": 3.187843,
     "end_time": "2024-06-01T00:28:55.897354",
     "exception": false,
     "start_time": "2024-06-01T00:28:52.709511",
     "status": "completed"
    },
    "tags": []
   },
   "outputs": [
    {
     "name": "stderr",
     "output_type": "stream",
     "text": [
      "\n",
      "----- Starting EM training session -----\n",
      "\n"
     ]
    },
    {
     "name": "stderr",
     "output_type": "stream",
     "text": [
      "Estimating the m probabilities of the model by blocking on:\n",
      "l.geokey = r.geokey\n",
      "\n",
      "Parameter estimates will be made for the following comparison(s):\n",
      "    - first_name_15\n",
      "    - last_name_12\n",
      "    - middle_initial\n",
      "    - day_of_birth\n",
      "    - month_of_birth\n",
      "    - year_of_birth\n",
      "\n",
      "Parameter estimates cannot be made for the following comparison(s) since they are used in the blocking rules: \n",
      "    - geokey\n"
     ]
    },
    {
     "name": "stderr",
     "output_type": "stream",
     "text": [
      "\n"
     ]
    },
    {
     "name": "stderr",
     "output_type": "stream",
     "text": [
      "Iteration 1: Largest change in params was -0.103 in the m_probability of first_name_15, level `Exact match`\n"
     ]
    },
    {
     "name": "stderr",
     "output_type": "stream",
     "text": [
      "Iteration 2: Largest change in params was -0.00836 in the m_probability of first_name_15, level `Exact match`\n"
     ]
    },
    {
     "name": "stderr",
     "output_type": "stream",
     "text": [
      "Iteration 3: Largest change in params was 0.0015 in the m_probability of first_name_15, level `All other comparisons`\n"
     ]
    },
    {
     "name": "stderr",
     "output_type": "stream",
     "text": [
      "Iteration 4: Largest change in params was -0.000338 in the m_probability of day_of_birth, level `Exact match`\n"
     ]
    },
    {
     "name": "stderr",
     "output_type": "stream",
     "text": [
      "Iteration 5: Largest change in params was -0.000133 in the m_probability of day_of_birth, level `Exact match`\n"
     ]
    },
    {
     "name": "stderr",
     "output_type": "stream",
     "text": [
      "Iteration 6: Largest change in params was -5.27e-05 in the m_probability of day_of_birth, level `Exact match`\n"
     ]
    },
    {
     "name": "stderr",
     "output_type": "stream",
     "text": [
      "\n",
      "EM converged after 6 iterations\n"
     ]
    },
    {
     "name": "stderr",
     "output_type": "stream",
     "text": [
      "\n",
      "Your model is fully trained. All comparisons have at least one estimate for their m and u values\n"
     ]
    }
   ],
   "source": [
    "blocking_rule_for_training = \"l.geokey = r.geokey\"\n",
    "em_session_2 = linker.estimate_parameters_using_expectation_maximisation(\n",
    "    blocking_rule_for_training,\n",
    "    # Fix lambda; u is fixed by default\n",
    "    fix_probability_two_random_records_match=True,\n",
    ")"
   ]
  },
  {
   "cell_type": "code",
   "execution_count": 55,
   "id": "750d48f3-7f15-40de-aa1a-78d4ed42371f",
   "metadata": {
    "execution": {
     "iopub.execute_input": "2024-06-01T00:28:55.951793Z",
     "iopub.status.busy": "2024-06-01T00:28:55.951162Z",
     "iopub.status.idle": "2024-06-01T00:28:56.162219Z",
     "shell.execute_reply": "2024-06-01T00:28:56.160547Z"
    },
    "papermill": {
     "duration": 0.243051,
     "end_time": "2024-06-01T00:28:56.168073",
     "exception": false,
     "start_time": "2024-06-01T00:28:55.925022",
     "status": "completed"
    },
    "tags": []
   },
   "outputs": [
    {
     "data": {
      "text/html": [
       "\n",
       "<style>\n",
       "  #altair-viz-9ac2e9901879474483f2ad80840f0921.vega-embed {\n",
       "    width: 100%;\n",
       "    display: flex;\n",
       "  }\n",
       "\n",
       "  #altair-viz-9ac2e9901879474483f2ad80840f0921.vega-embed details,\n",
       "  #altair-viz-9ac2e9901879474483f2ad80840f0921.vega-embed details summary {\n",
       "    position: relative;\n",
       "  }\n",
       "</style>\n",
       "<div id=\"altair-viz-9ac2e9901879474483f2ad80840f0921\"></div>\n",
       "<script type=\"text/javascript\">\n",
       "  var VEGA_DEBUG = (typeof VEGA_DEBUG == \"undefined\") ? {} : VEGA_DEBUG;\n",
       "  (function(spec, embedOpt){\n",
       "    let outputDiv = document.currentScript.previousElementSibling;\n",
       "    if (outputDiv.id !== \"altair-viz-9ac2e9901879474483f2ad80840f0921\") {\n",
       "      outputDiv = document.getElementById(\"altair-viz-9ac2e9901879474483f2ad80840f0921\");\n",
       "    }\n",
       "    const paths = {\n",
       "      \"vega\": \"https://cdn.jsdelivr.net/npm/vega@5?noext\",\n",
       "      \"vega-lib\": \"https://cdn.jsdelivr.net/npm/vega-lib?noext\",\n",
       "      \"vega-lite\": \"https://cdn.jsdelivr.net/npm/vega-lite@5.17.0?noext\",\n",
       "      \"vega-embed\": \"https://cdn.jsdelivr.net/npm/vega-embed@6?noext\",\n",
       "    };\n",
       "\n",
       "    function maybeLoadScript(lib, version) {\n",
       "      var key = `${lib.replace(\"-\", \"\")}_version`;\n",
       "      return (VEGA_DEBUG[key] == version) ?\n",
       "        Promise.resolve(paths[lib]) :\n",
       "        new Promise(function(resolve, reject) {\n",
       "          var s = document.createElement('script');\n",
       "          document.getElementsByTagName(\"head\")[0].appendChild(s);\n",
       "          s.async = true;\n",
       "          s.onload = () => {\n",
       "            VEGA_DEBUG[key] = version;\n",
       "            return resolve(paths[lib]);\n",
       "          };\n",
       "          s.onerror = () => reject(`Error loading script: ${paths[lib]}`);\n",
       "          s.src = paths[lib];\n",
       "        });\n",
       "    }\n",
       "\n",
       "    function showError(err) {\n",
       "      outputDiv.innerHTML = `<div class=\"error\" style=\"color:red;\">${err}</div>`;\n",
       "      throw err;\n",
       "    }\n",
       "\n",
       "    function displayChart(vegaEmbed) {\n",
       "      vegaEmbed(outputDiv, spec, embedOpt)\n",
       "        .catch(err => showError(`Javascript Error: ${err.message}<br>This usually means there's a typo in your chart specification. See the javascript console for the full traceback.`));\n",
       "    }\n",
       "\n",
       "    if(typeof define === \"function\" && define.amd) {\n",
       "      requirejs.config({paths});\n",
       "      require([\"vega-embed\"], displayChart, err => showError(`Error loading script: ${err.message}`));\n",
       "    } else {\n",
       "      maybeLoadScript(\"vega\", \"5\")\n",
       "        .then(() => maybeLoadScript(\"vega-lite\", \"5.17.0\"))\n",
       "        .then(() => maybeLoadScript(\"vega-embed\", \"6\"))\n",
       "        .catch(showError)\n",
       "        .then(() => displayChart(vegaEmbed));\n",
       "    }\n",
       "  })({\"config\": {\"view\": {\"continuousWidth\": 300, \"continuousHeight\": 300, \"discreteHeight\": 300, \"discreteWidth\": 400}, \"header\": {\"title\": null}, \"title\": {\"anchor\": \"middle\", \"offset\": 10}}, \"hconcat\": [{\"mark\": \"bar\", \"encoding\": {\"color\": {\"value\": \"green\"}, \"row\": {\"field\": \"comparison_name\", \"header\": {\"labelAlign\": \"left\", \"labelAnchor\": \"middle\", \"labelAngle\": 0}, \"sort\": {\"field\": \"comparison_sort_order\"}, \"type\": \"nominal\"}, \"tooltip\": [{\"field\": \"m_probability_description\", \"title\": \"m probability description\", \"type\": \"nominal\"}, {\"field\": \"comparison_name\", \"title\": \"Comparison column name\", \"type\": \"nominal\"}, {\"field\": \"label_for_charts\", \"title\": \"Label\", \"type\": \"ordinal\"}, {\"field\": \"sql_condition\", \"title\": \"SQL condition\", \"type\": \"nominal\"}, {\"field\": \"m_probability\", \"format\": \".4p\", \"title\": \"m probability\", \"type\": \"quantitative\"}, {\"field\": \"u_probability\", \"format\": \".4p\", \"title\": \"u probability\", \"type\": \"quantitative\"}, {\"field\": \"bayes_factor\", \"format\": \",.4f\", \"title\": \"Bayes factor = m/u\", \"type\": \"quantitative\"}, {\"field\": \"log2_bayes_factor\", \"format\": \",.4f\", \"title\": \"Match weight = log2(m/u)\", \"type\": \"quantitative\"}], \"x\": {\"axis\": {\"title\": \"Proportion of record comparisons\"}, \"field\": \"m_probability\", \"type\": \"quantitative\"}, \"y\": {\"axis\": {\"title\": null}, \"field\": \"label_for_charts\", \"sort\": {\"field\": \"comparison_vector_value\", \"order\": \"descending\"}, \"type\": \"nominal\"}}, \"height\": {\"step\": 12}, \"resolve\": {\"scale\": {\"y\": \"independent\"}}, \"title\": {\"text\": \"Amongst matching record comparisons:\", \"fontSize\": 12, \"fontWeight\": \"bold\"}, \"transform\": [{\"filter\": \"(datum.bayes_factor != 'no-op filter due to vega lite issue 4680')\"}], \"width\": 150}, {\"mark\": \"bar\", \"encoding\": {\"color\": {\"value\": \"red\"}, \"row\": {\"field\": \"comparison_name\", \"header\": {\"labels\": false}, \"sort\": {\"field\": \"comparison_sort_order\"}, \"type\": \"nominal\"}, \"tooltip\": [{\"field\": \"u_probability_description\", \"title\": \"u probability description\", \"type\": \"nominal\"}, {\"field\": \"comparison_name\", \"title\": \"Comparison column name\", \"type\": \"nominal\"}, {\"field\": \"label_for_charts\", \"title\": \"Label\", \"type\": \"ordinal\"}, {\"field\": \"sql_condition\", \"title\": \"SQL condition\", \"type\": \"nominal\"}, {\"field\": \"m_probability\", \"format\": \".4p\", \"title\": \"m probability\", \"type\": \"quantitative\"}, {\"field\": \"u_probability\", \"format\": \".4p\", \"title\": \"u probability\", \"type\": \"quantitative\"}, {\"field\": \"bayes_factor\", \"format\": \",.4f\", \"title\": \"Bayes factor = m/u\", \"type\": \"quantitative\"}, {\"field\": \"log2_bayes_factor\", \"format\": \",.4f\", \"title\": \"Match weight = log2(m/u)\", \"type\": \"quantitative\"}], \"x\": {\"axis\": {\"title\": \"Proportion of record comparisons\"}, \"field\": \"u_probability\", \"type\": \"quantitative\"}, \"y\": {\"axis\": {\"title\": null}, \"field\": \"label_for_charts\", \"sort\": {\"field\": \"comparison_vector_value\", \"order\": \"descending\"}, \"type\": \"nominal\"}}, \"height\": {\"step\": 12}, \"resolve\": {\"scale\": {\"y\": \"independent\"}}, \"title\": {\"text\": \"Amongst non-matching record comparisons:\", \"fontSize\": 12, \"fontWeight\": \"bold\"}, \"transform\": [{\"filter\": \"(datum.bayes_factor != 'no-op filter2 due to vega lite issue 4680')\"}], \"width\": 150}], \"data\": {\"name\": \"data-adb39e12e04546e20c403a66aa3622e0\"}, \"params\": [{\"name\": \"iteration_number\", \"bind\": {\"input\": \"range\", \"max\": 6, \"min\": 0, \"step\": 1}, \"value\": 6}], \"title\": {\"text\": \"Proportion of record comparisons in each comparison level by match status\", \"subtitle\": \"(m and u probabilities)\"}, \"transform\": [{\"filter\": \"(datum.iteration == iteration_number)\"}], \"$schema\": \"https://vega.github.io/schema/vega-lite/v5.9.3.json\", \"datasets\": {\"data-adb39e12e04546e20c403a66aa3622e0\": [{\"comparison_name\": \"first_name_15\", \"sql_condition\": \"\\\"first_name_15_l\\\" = \\\"first_name_15_r\\\"\", \"label_for_charts\": \"Exact match\", \"m_probability\": 0.95, \"u_probability\": 0.0019545817948697793, \"m_probability_description\": \"Amongst matching record comparisons, 95.00% of records are in the exact match comparison level\", \"u_probability_description\": \"Amongst non-matching record comparisons, 0.20% of records are in the exact match comparison level\", \"has_tf_adjustments\": false, \"tf_adjustment_column\": null, \"tf_adjustment_weight\": 1.0, \"is_null_level\": false, \"bayes_factor\": 486.03747486724757, \"log2_bayes_factor\": 8.924923743772052, \"comparison_vector_value\": 2, \"max_comparison_vector_value\": 2, \"bayes_factor_description\": \"If comparison level is `exact match` then comparison is 486.04 times more likely to be a match\", \"probability_two_random_records_match\": 0.00331556378849066, \"comparison_sort_order\": 0, \"iteration\": 0}, {\"comparison_name\": \"first_name_15\", \"sql_condition\": \"jaro_winkler_similarity(\\\"first_name_15_l\\\", \\\"first_name_15_r\\\") >= 0.8333333333333334\", \"label_for_charts\": \"Jaro_winkler_similarity >= 0.8333333333333334\", \"m_probability\": 0.025000000000000022, \"u_probability\": 0.00346135405752317, \"m_probability_description\": \"Amongst matching record comparisons, 2.50% of records are in the jaro_winkler_similarity >= 0.8333333333333334 comparison level\", \"u_probability_description\": \"Amongst non-matching record comparisons, 0.35% of records are in the jaro_winkler_similarity >= 0.8333333333333334 comparison level\", \"has_tf_adjustments\": false, \"tf_adjustment_column\": null, \"tf_adjustment_weight\": 1.0, \"is_null_level\": false, \"bayes_factor\": 7.222606986899569, \"log2_bayes_factor\": 2.8525196692746633, \"comparison_vector_value\": 1, \"max_comparison_vector_value\": 2, \"bayes_factor_description\": \"If comparison level is `jaro_winkler_similarity >= 0.8333333333333334` then comparison is 7.22 times more likely to be a match\", \"probability_two_random_records_match\": 0.00331556378849066, \"comparison_sort_order\": 0, \"iteration\": 0}, {\"comparison_name\": \"first_name_15\", \"sql_condition\": \"ELSE\", \"label_for_charts\": \"All other comparisons\", \"m_probability\": 0.025000000000000022, \"u_probability\": 0.994584064147607, \"m_probability_description\": \"Amongst matching record comparisons, 2.50% of records are in the all other comparisons comparison level\", \"u_probability_description\": \"Amongst non-matching record comparisons, 99.46% of records are in the all other comparisons comparison level\", \"has_tf_adjustments\": false, \"tf_adjustment_column\": null, \"tf_adjustment_weight\": 1.0, \"is_null_level\": false, \"bayes_factor\": 0.025136135698520252, \"log2_bayes_factor\": -5.314093315557119, \"comparison_vector_value\": 0, \"max_comparison_vector_value\": 2, \"bayes_factor_description\": \"If comparison level is `all other comparisons` then comparison is  39.78 times less likely to be a match\", \"probability_two_random_records_match\": 0.00331556378849066, \"comparison_sort_order\": 0, \"iteration\": 0}, {\"comparison_name\": \"last_name_12\", \"sql_condition\": \"\\\"last_name_12_l\\\" = \\\"last_name_12_r\\\"\", \"label_for_charts\": \"Exact match\", \"m_probability\": 0.8744425068250526, \"u_probability\": 0.0006599706231126029, \"m_probability_description\": \"Amongst matching record comparisons, 87.44% of records are in the exact match comparison level\", \"u_probability_description\": \"Amongst non-matching record comparisons, 0.07% of records are in the exact match comparison level\", \"has_tf_adjustments\": false, \"tf_adjustment_column\": null, \"tf_adjustment_weight\": 1.0, \"is_null_level\": false, \"bayes_factor\": 1324.9718642035025, \"log2_bayes_factor\": 10.371746009013354, \"comparison_vector_value\": 2, \"max_comparison_vector_value\": 2, \"bayes_factor_description\": \"If comparison level is `exact match` then comparison is 1,324.97 times more likely to be a match\", \"probability_two_random_records_match\": 0.00331556378849066, \"comparison_sort_order\": 1, \"iteration\": 0}, {\"comparison_name\": \"last_name_12\", \"sql_condition\": \"jaro_winkler_similarity(\\\"last_name_12_l\\\", \\\"last_name_12_r\\\") >= 0.8333333333333334\", \"label_for_charts\": \"Jaro_winkler_similarity >= 0.8333333333333334\", \"m_probability\": 0.0955534957845705, \"u_probability\": 0.0013437257720127285, \"m_probability_description\": \"Amongst matching record comparisons, 9.56% of records are in the jaro_winkler_similarity >= 0.8333333333333334 comparison level\", \"u_probability_description\": \"Amongst non-matching record comparisons, 0.13% of records are in the jaro_winkler_similarity >= 0.8333333333333334 comparison level\", \"has_tf_adjustments\": false, \"tf_adjustment_column\": null, \"tf_adjustment_weight\": 1.0, \"is_null_level\": false, \"bayes_factor\": 71.11086039634682, \"log2_bayes_factor\": 6.151998006960264, \"comparison_vector_value\": 1, \"max_comparison_vector_value\": 2, \"bayes_factor_description\": \"If comparison level is `jaro_winkler_similarity >= 0.8333333333333334` then comparison is 71.11 times more likely to be a match\", \"probability_two_random_records_match\": 0.00331556378849066, \"comparison_sort_order\": 1, \"iteration\": 0}, {\"comparison_name\": \"last_name_12\", \"sql_condition\": \"ELSE\", \"label_for_charts\": \"All other comparisons\", \"m_probability\": 0.03000399739037679, \"u_probability\": 0.9979963036048747, \"m_probability_description\": \"Amongst matching record comparisons, 3.00% of records are in the all other comparisons comparison level\", \"u_probability_description\": \"Amongst non-matching record comparisons, 99.80% of records are in the all other comparisons comparison level\", \"has_tf_adjustments\": false, \"tf_adjustment_column\": null, \"tf_adjustment_weight\": 1.0, \"is_null_level\": false, \"bayes_factor\": 0.030064236993663188, \"log2_bayes_factor\": -5.055807845224669, \"comparison_vector_value\": 0, \"max_comparison_vector_value\": 2, \"bayes_factor_description\": \"If comparison level is `all other comparisons` then comparison is  33.26 times less likely to be a match\", \"probability_two_random_records_match\": 0.00331556378849066, \"comparison_sort_order\": 1, \"iteration\": 0}, {\"comparison_name\": \"middle_initial\", \"sql_condition\": \"\\\"middle_initial_l\\\" = \\\"middle_initial_r\\\"\", \"label_for_charts\": \"Exact match\", \"m_probability\": 0.9410121677945328, \"u_probability\": 0.07356305686300955, \"m_probability_description\": \"Amongst matching record comparisons, 94.10% of records are in the exact match comparison level\", \"u_probability_description\": \"Amongst non-matching record comparisons, 7.36% of records are in the exact match comparison level\", \"has_tf_adjustments\": false, \"tf_adjustment_column\": null, \"tf_adjustment_weight\": 1.0, \"is_null_level\": false, \"bayes_factor\": 12.791912244034428, \"log2_bayes_factor\": 3.677160041575389, \"comparison_vector_value\": 1, \"max_comparison_vector_value\": 1, \"bayes_factor_description\": \"If comparison level is `exact match` then comparison is 12.79 times more likely to be a match\", \"probability_two_random_records_match\": 0.00331556378849066, \"comparison_sort_order\": 2, \"iteration\": 0}, {\"comparison_name\": \"middle_initial\", \"sql_condition\": \"ELSE\", \"label_for_charts\": \"All other comparisons\", \"m_probability\": 0.058987832205467244, \"u_probability\": 0.9264369431369904, \"m_probability_description\": \"Amongst matching record comparisons, 5.90% of records are in the all other comparisons comparison level\", \"u_probability_description\": \"Amongst non-matching record comparisons, 92.64% of records are in the all other comparisons comparison level\", \"has_tf_adjustments\": false, \"tf_adjustment_column\": null, \"tf_adjustment_weight\": 1.0, \"is_null_level\": false, \"bayes_factor\": 0.06367171845039953, \"log2_bayes_factor\": -3.9732034878050047, \"comparison_vector_value\": 0, \"max_comparison_vector_value\": 1, \"bayes_factor_description\": \"If comparison level is `all other comparisons` then comparison is  15.71 times less likely to be a match\", \"probability_two_random_records_match\": 0.00331556378849066, \"comparison_sort_order\": 2, \"iteration\": 0}, {\"comparison_name\": \"day_of_birth\", \"sql_condition\": \"\\\"day_of_birth_l\\\" = \\\"day_of_birth_r\\\"\", \"label_for_charts\": \"Exact match\", \"m_probability\": 0.9729294383617619, \"u_probability\": 0.032464174125328385, \"m_probability_description\": \"Amongst matching record comparisons, 97.29% of records are in the exact match comparison level\", \"u_probability_description\": \"Amongst non-matching record comparisons, 3.25% of records are in the exact match comparison level\", \"has_tf_adjustments\": false, \"tf_adjustment_column\": null, \"tf_adjustment_weight\": 1.0, \"is_null_level\": false, \"bayes_factor\": 29.969326636980032, \"log2_bayes_factor\": 4.9054147640440515, \"comparison_vector_value\": 2, \"max_comparison_vector_value\": 2, \"bayes_factor_description\": \"If comparison level is `exact match` then comparison is 29.97 times more likely to be a match\", \"probability_two_random_records_match\": 0.00331556378849066, \"comparison_sort_order\": 3, \"iteration\": 0}, {\"comparison_name\": \"day_of_birth\", \"sql_condition\": \"abs(day_of_birth_l - day_of_birth_r) <= 5\", \"label_for_charts\": \"Inexact match\", \"m_probability\": 0.019565054339325493, \"u_probability\": 0.2965057730184639, \"m_probability_description\": \"Amongst matching record comparisons, 1.96% of records are in the inexact match comparison level\", \"u_probability_description\": \"Amongst non-matching record comparisons, 29.65% of records are in the inexact match comparison level\", \"has_tf_adjustments\": false, \"tf_adjustment_column\": null, \"tf_adjustment_weight\": 1.0, \"is_null_level\": false, \"bayes_factor\": 0.06598540777183162, \"log2_bayes_factor\": -3.921709172315927, \"comparison_vector_value\": 1, \"max_comparison_vector_value\": 2, \"bayes_factor_description\": \"If comparison level is `inexact match` then comparison is  15.15 times less likely to be a match\", \"probability_two_random_records_match\": 0.00331556378849066, \"comparison_sort_order\": 3, \"iteration\": 0}, {\"comparison_name\": \"day_of_birth\", \"sql_condition\": \"ELSE\", \"label_for_charts\": \"All other comparisons\", \"m_probability\": 0.0075055072989125985, \"u_probability\": 0.6710300528562076, \"m_probability_description\": \"Amongst matching record comparisons, 0.75% of records are in the all other comparisons comparison level\", \"u_probability_description\": \"Amongst non-matching record comparisons, 67.10% of records are in the all other comparisons comparison level\", \"has_tf_adjustments\": false, \"tf_adjustment_column\": null, \"tf_adjustment_weight\": 1.0, \"is_null_level\": false, \"bayes_factor\": 0.01118505388389948, \"log2_bayes_factor\": -6.4822839831901815, \"comparison_vector_value\": 0, \"max_comparison_vector_value\": 2, \"bayes_factor_description\": \"If comparison level is `all other comparisons` then comparison is  89.41 times less likely to be a match\", \"probability_two_random_records_match\": 0.00331556378849066, \"comparison_sort_order\": 3, \"iteration\": 0}, {\"comparison_name\": \"month_of_birth\", \"sql_condition\": \"\\\"month_of_birth_l\\\" = \\\"month_of_birth_r\\\"\", \"label_for_charts\": \"Exact match\", \"m_probability\": 0.9826190361038658, \"u_probability\": 0.08358610359130632, \"m_probability_description\": \"Amongst matching record comparisons, 98.26% of records are in the exact match comparison level\", \"u_probability_description\": \"Amongst non-matching record comparisons, 8.36% of records are in the exact match comparison level\", \"has_tf_adjustments\": false, \"tf_adjustment_column\": null, \"tf_adjustment_weight\": 1.0, \"is_null_level\": false, \"bayes_factor\": 11.755770324076535, \"log2_bayes_factor\": 3.5552971729095724, \"comparison_vector_value\": 2, \"max_comparison_vector_value\": 2, \"bayes_factor_description\": \"If comparison level is `exact match` then comparison is 11.76 times more likely to be a match\", \"probability_two_random_records_match\": 0.00331556378849066, \"comparison_sort_order\": 4, \"iteration\": 0}, {\"comparison_name\": \"month_of_birth\", \"sql_condition\": \"abs(month_of_birth_l - month_of_birth_r) <= 3\", \"label_for_charts\": \"Inexact match\", \"m_probability\": 0.009022720834560623, \"u_probability\": 0.419960264938525, \"m_probability_description\": \"Amongst matching record comparisons, 0.90% of records are in the inexact match comparison level\", \"u_probability_description\": \"Amongst non-matching record comparisons, 42.00% of records are in the inexact match comparison level\", \"has_tf_adjustments\": false, \"tf_adjustment_column\": null, \"tf_adjustment_weight\": 1.0, \"is_null_level\": false, \"bayes_factor\": 0.021484701263062102, \"log2_bayes_factor\": -5.5405464726719575, \"comparison_vector_value\": 1, \"max_comparison_vector_value\": 2, \"bayes_factor_description\": \"If comparison level is `inexact match` then comparison is  46.54 times less likely to be a match\", \"probability_two_random_records_match\": 0.00331556378849066, \"comparison_sort_order\": 4, \"iteration\": 0}, {\"comparison_name\": \"month_of_birth\", \"sql_condition\": \"ELSE\", \"label_for_charts\": \"All other comparisons\", \"m_probability\": 0.008358243061573659, \"u_probability\": 0.4964536314701687, \"m_probability_description\": \"Amongst matching record comparisons, 0.84% of records are in the all other comparisons comparison level\", \"u_probability_description\": \"Amongst non-matching record comparisons, 49.65% of records are in the all other comparisons comparison level\", \"has_tf_adjustments\": false, \"tf_adjustment_column\": null, \"tf_adjustment_weight\": 1.0, \"is_null_level\": false, \"bayes_factor\": 0.01683589872597376, \"log2_bayes_factor\": -5.8923154532900135, \"comparison_vector_value\": 0, \"max_comparison_vector_value\": 2, \"bayes_factor_description\": \"If comparison level is `all other comparisons` then comparison is  59.40 times less likely to be a match\", \"probability_two_random_records_match\": 0.00331556378849066, \"comparison_sort_order\": 4, \"iteration\": 0}, {\"comparison_name\": \"year_of_birth\", \"sql_condition\": \"\\\"year_of_birth_l\\\" = \\\"year_of_birth_r\\\"\", \"label_for_charts\": \"Exact match\", \"m_probability\": 0.9659136538935633, \"u_probability\": 0.010988145230220372, \"m_probability_description\": \"Amongst matching record comparisons, 96.59% of records are in the exact match comparison level\", \"u_probability_description\": \"Amongst non-matching record comparisons, 1.10% of records are in the exact match comparison level\", \"has_tf_adjustments\": false, \"tf_adjustment_column\": null, \"tf_adjustment_weight\": 1.0, \"is_null_level\": false, \"bayes_factor\": 87.9050680215838, \"log2_bayes_factor\": 6.45787443885482, \"comparison_vector_value\": 2, \"max_comparison_vector_value\": 2, \"bayes_factor_description\": \"If comparison level is `exact match` then comparison is 87.91 times more likely to be a match\", \"probability_two_random_records_match\": 0.00331556378849066, \"comparison_sort_order\": 5, \"iteration\": 0}, {\"comparison_name\": \"year_of_birth\", \"sql_condition\": \"abs(year_of_birth_l - year_of_birth_r) <= 5\", \"label_for_charts\": \"Inexact match\", \"m_probability\": 0.010877428309799745, \"u_probability\": 0.10851628136997345, \"m_probability_description\": \"Amongst matching record comparisons, 1.09% of records are in the inexact match comparison level\", \"u_probability_description\": \"Amongst non-matching record comparisons, 10.85% of records are in the inexact match comparison level\", \"has_tf_adjustments\": false, \"tf_adjustment_column\": null, \"tf_adjustment_weight\": 1.0, \"is_null_level\": false, \"bayes_factor\": 0.10023775393403353, \"log2_bayes_factor\": -3.3185021017763177, \"comparison_vector_value\": 1, \"max_comparison_vector_value\": 2, \"bayes_factor_description\": \"If comparison level is `inexact match` then comparison is  9.98 times less likely to be a match\", \"probability_two_random_records_match\": 0.00331556378849066, \"comparison_sort_order\": 5, \"iteration\": 0}, {\"comparison_name\": \"year_of_birth\", \"sql_condition\": \"ELSE\", \"label_for_charts\": \"All other comparisons\", \"m_probability\": 0.023208917796637002, \"u_probability\": 0.8804955733998062, \"m_probability_description\": \"Amongst matching record comparisons, 2.32% of records are in the all other comparisons comparison level\", \"u_probability_description\": \"Amongst non-matching record comparisons, 88.05% of records are in the all other comparisons comparison level\", \"has_tf_adjustments\": false, \"tf_adjustment_column\": null, \"tf_adjustment_weight\": 1.0, \"is_null_level\": false, \"bayes_factor\": 0.026358926152259644, \"log2_bayes_factor\": -5.245564592811413, \"comparison_vector_value\": 0, \"max_comparison_vector_value\": 2, \"bayes_factor_description\": \"If comparison level is `all other comparisons` then comparison is  37.94 times less likely to be a match\", \"probability_two_random_records_match\": 0.00331556378849066, \"comparison_sort_order\": 5, \"iteration\": 0}, {\"comparison_name\": \"first_name_15\", \"sql_condition\": \"\\\"first_name_15_l\\\" = \\\"first_name_15_r\\\"\", \"label_for_charts\": \"Exact match\", \"m_probability\": 0.8473255410983956, \"u_probability\": 0.0019545817948697793, \"m_probability_description\": \"Amongst matching record comparisons, 84.73% of records are in the exact match comparison level\", \"u_probability_description\": \"Amongst non-matching record comparisons, 0.20% of records are in the exact match comparison level\", \"has_tf_adjustments\": false, \"tf_adjustment_column\": null, \"tf_adjustment_weight\": 1.0, \"is_null_level\": false, \"bayes_factor\": 433.5073330378825, \"log2_bayes_factor\": 8.759912587484601, \"comparison_vector_value\": 2, \"max_comparison_vector_value\": 2, \"bayes_factor_description\": \"If comparison level is `exact match` then comparison is 433.51 times more likely to be a match\", \"probability_two_random_records_match\": 0.00331556378849066, \"comparison_sort_order\": 0, \"iteration\": 1}, {\"comparison_name\": \"first_name_15\", \"sql_condition\": \"jaro_winkler_similarity(\\\"first_name_15_l\\\", \\\"first_name_15_r\\\") >= 0.8333333333333334\", \"label_for_charts\": \"Jaro_winkler_similarity >= 0.8333333333333334\", \"m_probability\": 0.09234852400869653, \"u_probability\": 0.00346135405752317, \"m_probability_description\": \"Amongst matching record comparisons, 9.23% of records are in the jaro_winkler_similarity >= 0.8333333333333334 comparison level\", \"u_probability_description\": \"Amongst non-matching record comparisons, 0.35% of records are in the jaro_winkler_similarity >= 0.8333333333333334 comparison level\", \"has_tf_adjustments\": false, \"tf_adjustment_column\": null, \"tf_adjustment_weight\": 1.0, \"is_null_level\": false, \"bayes_factor\": 26.679883789402943, \"log2_bayes_factor\": 4.737680477421209, \"comparison_vector_value\": 1, \"max_comparison_vector_value\": 2, \"bayes_factor_description\": \"If comparison level is `jaro_winkler_similarity >= 0.8333333333333334` then comparison is 26.68 times more likely to be a match\", \"probability_two_random_records_match\": 0.00331556378849066, \"comparison_sort_order\": 0, \"iteration\": 1}, {\"comparison_name\": \"first_name_15\", \"sql_condition\": \"ELSE\", \"label_for_charts\": \"All other comparisons\", \"m_probability\": 0.060325934892907926, \"u_probability\": 0.994584064147607, \"m_probability_description\": \"Amongst matching record comparisons, 6.03% of records are in the all other comparisons comparison level\", \"u_probability_description\": \"Amongst non-matching record comparisons, 99.46% of records are in the all other comparisons comparison level\", \"has_tf_adjustments\": false, \"tf_adjustment_column\": null, \"tf_adjustment_weight\": 1.0, \"is_null_level\": false, \"bayes_factor\": 0.0606544354243292, \"log2_bayes_factor\": -4.043243041861544, \"comparison_vector_value\": 0, \"max_comparison_vector_value\": 2, \"bayes_factor_description\": \"If comparison level is `all other comparisons` then comparison is  16.49 times less likely to be a match\", \"probability_two_random_records_match\": 0.00331556378849066, \"comparison_sort_order\": 0, \"iteration\": 1}, {\"comparison_name\": \"last_name_12\", \"sql_condition\": \"\\\"last_name_12_l\\\" = \\\"last_name_12_r\\\"\", \"label_for_charts\": \"Exact match\", \"m_probability\": 0.8687130457279361, \"u_probability\": 0.0006599706231126029, \"m_probability_description\": \"Amongst matching record comparisons, 86.87% of records are in the exact match comparison level\", \"u_probability_description\": \"Amongst non-matching record comparisons, 0.07% of records are in the exact match comparison level\", \"has_tf_adjustments\": false, \"tf_adjustment_column\": null, \"tf_adjustment_weight\": 1.0, \"is_null_level\": false, \"bayes_factor\": 1316.2904761288412, \"log2_bayes_factor\": 10.362262179683276, \"comparison_vector_value\": 2, \"max_comparison_vector_value\": 2, \"bayes_factor_description\": \"If comparison level is `exact match` then comparison is 1,316.29 times more likely to be a match\", \"probability_two_random_records_match\": 0.00331556378849066, \"comparison_sort_order\": 1, \"iteration\": 1}, {\"comparison_name\": \"last_name_12\", \"sql_condition\": \"jaro_winkler_similarity(\\\"last_name_12_l\\\", \\\"last_name_12_r\\\") >= 0.8333333333333334\", \"label_for_charts\": \"Jaro_winkler_similarity >= 0.8333333333333334\", \"m_probability\": 0.10022451050545392, \"u_probability\": 0.0013437257720127285, \"m_probability_description\": \"Amongst matching record comparisons, 10.02% of records are in the jaro_winkler_similarity >= 0.8333333333333334 comparison level\", \"u_probability_description\": \"Amongst non-matching record comparisons, 0.13% of records are in the jaro_winkler_similarity >= 0.8333333333333334 comparison level\", \"has_tf_adjustments\": false, \"tf_adjustment_column\": null, \"tf_adjustment_weight\": 1.0, \"is_null_level\": false, \"bayes_factor\": 74.58702705041556, \"log2_bayes_factor\": 6.220852818697927, \"comparison_vector_value\": 1, \"max_comparison_vector_value\": 2, \"bayes_factor_description\": \"If comparison level is `jaro_winkler_similarity >= 0.8333333333333334` then comparison is 74.59 times more likely to be a match\", \"probability_two_random_records_match\": 0.00331556378849066, \"comparison_sort_order\": 1, \"iteration\": 1}, {\"comparison_name\": \"last_name_12\", \"sql_condition\": \"ELSE\", \"label_for_charts\": \"All other comparisons\", \"m_probability\": 0.031062443766609937, \"u_probability\": 0.9979963036048747, \"m_probability_description\": \"Amongst matching record comparisons, 3.11% of records are in the all other comparisons comparison level\", \"u_probability_description\": \"Amongst non-matching record comparisons, 99.80% of records are in the all other comparisons comparison level\", \"has_tf_adjustments\": false, \"tf_adjustment_column\": null, \"tf_adjustment_weight\": 1.0, \"is_null_level\": false, \"bayes_factor\": 0.03112480843306624, \"log2_bayes_factor\": -5.005791232064395, \"comparison_vector_value\": 0, \"max_comparison_vector_value\": 2, \"bayes_factor_description\": \"If comparison level is `all other comparisons` then comparison is  32.13 times less likely to be a match\", \"probability_two_random_records_match\": 0.00331556378849066, \"comparison_sort_order\": 1, \"iteration\": 1}, {\"comparison_name\": \"middle_initial\", \"sql_condition\": \"\\\"middle_initial_l\\\" = \\\"middle_initial_r\\\"\", \"label_for_charts\": \"Exact match\", \"m_probability\": 0.9209832331551129, \"u_probability\": 0.07356305686300955, \"m_probability_description\": \"Amongst matching record comparisons, 92.10% of records are in the exact match comparison level\", \"u_probability_description\": \"Amongst non-matching record comparisons, 7.36% of records are in the exact match comparison level\", \"has_tf_adjustments\": false, \"tf_adjustment_column\": null, \"tf_adjustment_weight\": 1.0, \"is_null_level\": false, \"bayes_factor\": 12.519643315940288, \"log2_bayes_factor\": 3.646121555428316, \"comparison_vector_value\": 1, \"max_comparison_vector_value\": 1, \"bayes_factor_description\": \"If comparison level is `exact match` then comparison is 12.52 times more likely to be a match\", \"probability_two_random_records_match\": 0.00331556378849066, \"comparison_sort_order\": 2, \"iteration\": 1}, {\"comparison_name\": \"middle_initial\", \"sql_condition\": \"ELSE\", \"label_for_charts\": \"All other comparisons\", \"m_probability\": 0.07901676684488698, \"u_probability\": 0.9264369431369904, \"m_probability_description\": \"Amongst matching record comparisons, 7.90% of records are in the all other comparisons comparison level\", \"u_probability_description\": \"Amongst non-matching record comparisons, 92.64% of records are in the all other comparisons comparison level\", \"has_tf_adjustments\": false, \"tf_adjustment_column\": null, \"tf_adjustment_weight\": 1.0, \"is_null_level\": false, \"bayes_factor\": 0.08529103619003989, \"log2_bayes_factor\": -3.5514620628115927, \"comparison_vector_value\": 0, \"max_comparison_vector_value\": 1, \"bayes_factor_description\": \"If comparison level is `all other comparisons` then comparison is  11.72 times less likely to be a match\", \"probability_two_random_records_match\": 0.00331556378849066, \"comparison_sort_order\": 2, \"iteration\": 1}, {\"comparison_name\": \"day_of_birth\", \"sql_condition\": \"\\\"day_of_birth_l\\\" = \\\"day_of_birth_r\\\"\", \"label_for_charts\": \"Exact match\", \"m_probability\": 0.9690079451886031, \"u_probability\": 0.032464174125328385, \"m_probability_description\": \"Amongst matching record comparisons, 96.90% of records are in the exact match comparison level\", \"u_probability_description\": \"Amongst non-matching record comparisons, 3.25% of records are in the exact match comparison level\", \"has_tf_adjustments\": false, \"tf_adjustment_column\": null, \"tf_adjustment_weight\": 1.0, \"is_null_level\": false, \"bayes_factor\": 29.848532152634927, \"log2_bayes_factor\": 4.899588081379687, \"comparison_vector_value\": 2, \"max_comparison_vector_value\": 2, \"bayes_factor_description\": \"If comparison level is `exact match` then comparison is 29.85 times more likely to be a match\", \"probability_two_random_records_match\": 0.00331556378849066, \"comparison_sort_order\": 3, \"iteration\": 1}, {\"comparison_name\": \"day_of_birth\", \"sql_condition\": \"abs(day_of_birth_l - day_of_birth_r) <= 5\", \"label_for_charts\": \"Inexact match\", \"m_probability\": 0.021323816991100638, \"u_probability\": 0.2965057730184639, \"m_probability_description\": \"Amongst matching record comparisons, 2.13% of records are in the inexact match comparison level\", \"u_probability_description\": \"Amongst non-matching record comparisons, 29.65% of records are in the inexact match comparison level\", \"has_tf_adjustments\": false, \"tf_adjustment_column\": null, \"tf_adjustment_weight\": 1.0, \"is_null_level\": false, \"bayes_factor\": 0.07191703815417033, \"log2_bayes_factor\": -3.797522583942943, \"comparison_vector_value\": 1, \"max_comparison_vector_value\": 2, \"bayes_factor_description\": \"If comparison level is `inexact match` then comparison is  13.90 times less likely to be a match\", \"probability_two_random_records_match\": 0.00331556378849066, \"comparison_sort_order\": 3, \"iteration\": 1}, {\"comparison_name\": \"day_of_birth\", \"sql_condition\": \"ELSE\", \"label_for_charts\": \"All other comparisons\", \"m_probability\": 0.009668237820296273, \"u_probability\": 0.6710300528562076, \"m_probability_description\": \"Amongst matching record comparisons, 0.97% of records are in the all other comparisons comparison level\", \"u_probability_description\": \"Amongst non-matching record comparisons, 67.10% of records are in the all other comparisons comparison level\", \"has_tf_adjustments\": false, \"tf_adjustment_column\": null, \"tf_adjustment_weight\": 1.0, \"is_null_level\": false, \"bayes_factor\": 0.014408054868994134, \"log2_bayes_factor\": -6.116980609312193, \"comparison_vector_value\": 0, \"max_comparison_vector_value\": 2, \"bayes_factor_description\": \"If comparison level is `all other comparisons` then comparison is  69.41 times less likely to be a match\", \"probability_two_random_records_match\": 0.00331556378849066, \"comparison_sort_order\": 3, \"iteration\": 1}, {\"comparison_name\": \"month_of_birth\", \"sql_condition\": \"\\\"month_of_birth_l\\\" = \\\"month_of_birth_r\\\"\", \"label_for_charts\": \"Exact match\", \"m_probability\": 0.9783952468998757, \"u_probability\": 0.08358610359130632, \"m_probability_description\": \"Amongst matching record comparisons, 97.84% of records are in the exact match comparison level\", \"u_probability_description\": \"Amongst non-matching record comparisons, 8.36% of records are in the exact match comparison level\", \"has_tf_adjustments\": false, \"tf_adjustment_column\": null, \"tf_adjustment_weight\": 1.0, \"is_null_level\": false, \"bayes_factor\": 11.705238130057271, \"log2_bayes_factor\": 3.54908237966263, \"comparison_vector_value\": 2, \"max_comparison_vector_value\": 2, \"bayes_factor_description\": \"If comparison level is `exact match` then comparison is 11.71 times more likely to be a match\", \"probability_two_random_records_match\": 0.00331556378849066, \"comparison_sort_order\": 4, \"iteration\": 1}, {\"comparison_name\": \"month_of_birth\", \"sql_condition\": \"abs(month_of_birth_l - month_of_birth_r) <= 3\", \"label_for_charts\": \"Inexact match\", \"m_probability\": 0.01051926476801941, \"u_probability\": 0.419960264938525, \"m_probability_description\": \"Amongst matching record comparisons, 1.05% of records are in the inexact match comparison level\", \"u_probability_description\": \"Amongst non-matching record comparisons, 42.00% of records are in the inexact match comparison level\", \"has_tf_adjustments\": false, \"tf_adjustment_column\": null, \"tf_adjustment_weight\": 1.0, \"is_null_level\": false, \"bayes_factor\": 0.025048238241204203, \"log2_bayes_factor\": -5.319147054220905, \"comparison_vector_value\": 1, \"max_comparison_vector_value\": 2, \"bayes_factor_description\": \"If comparison level is `inexact match` then comparison is  39.92 times less likely to be a match\", \"probability_two_random_records_match\": 0.00331556378849066, \"comparison_sort_order\": 4, \"iteration\": 1}, {\"comparison_name\": \"month_of_birth\", \"sql_condition\": \"ELSE\", \"label_for_charts\": \"All other comparisons\", \"m_probability\": 0.011085488332104968, \"u_probability\": 0.4964536314701687, \"m_probability_description\": \"Amongst matching record comparisons, 1.11% of records are in the all other comparisons comparison level\", \"u_probability_description\": \"Amongst non-matching record comparisons, 49.65% of records are in the all other comparisons comparison level\", \"has_tf_adjustments\": false, \"tf_adjustment_column\": null, \"tf_adjustment_weight\": 1.0, \"is_null_level\": false, \"bayes_factor\": 0.022329352892992347, \"log2_bayes_factor\": -5.484914747463345, \"comparison_vector_value\": 0, \"max_comparison_vector_value\": 2, \"bayes_factor_description\": \"If comparison level is `all other comparisons` then comparison is  44.78 times less likely to be a match\", \"probability_two_random_records_match\": 0.00331556378849066, \"comparison_sort_order\": 4, \"iteration\": 1}, {\"comparison_name\": \"year_of_birth\", \"sql_condition\": \"\\\"year_of_birth_l\\\" = \\\"year_of_birth_r\\\"\", \"label_for_charts\": \"Exact match\", \"m_probability\": 0.9633322987110478, \"u_probability\": 0.010988145230220372, \"m_probability_description\": \"Amongst matching record comparisons, 96.33% of records are in the exact match comparison level\", \"u_probability_description\": \"Amongst non-matching record comparisons, 1.10% of records are in the exact match comparison level\", \"has_tf_adjustments\": false, \"tf_adjustment_column\": null, \"tf_adjustment_weight\": 1.0, \"is_null_level\": false, \"bayes_factor\": 87.67014619188171, \"log2_bayes_factor\": 6.45401374858051, \"comparison_vector_value\": 2, \"max_comparison_vector_value\": 2, \"bayes_factor_description\": \"If comparison level is `exact match` then comparison is 87.67 times more likely to be a match\", \"probability_two_random_records_match\": 0.00331556378849066, \"comparison_sort_order\": 5, \"iteration\": 1}, {\"comparison_name\": \"year_of_birth\", \"sql_condition\": \"abs(year_of_birth_l - year_of_birth_r) <= 5\", \"label_for_charts\": \"Inexact match\", \"m_probability\": 0.010959708400838092, \"u_probability\": 0.10851628136997345, \"m_probability_description\": \"Amongst matching record comparisons, 1.10% of records are in the inexact match comparison level\", \"u_probability_description\": \"Amongst non-matching record comparisons, 10.85% of records are in the inexact match comparison level\", \"has_tf_adjustments\": false, \"tf_adjustment_column\": null, \"tf_adjustment_weight\": 1.0, \"is_null_level\": false, \"bayes_factor\": 0.10099598200819526, \"log2_bayes_factor\": -3.3076301964861066, \"comparison_vector_value\": 1, \"max_comparison_vector_value\": 2, \"bayes_factor_description\": \"If comparison level is `inexact match` then comparison is  9.90 times less likely to be a match\", \"probability_two_random_records_match\": 0.00331556378849066, \"comparison_sort_order\": 5, \"iteration\": 1}, {\"comparison_name\": \"year_of_birth\", \"sql_condition\": \"ELSE\", \"label_for_charts\": \"All other comparisons\", \"m_probability\": 0.025707992888114137, \"u_probability\": 0.8804955733998062, \"m_probability_description\": \"Amongst matching record comparisons, 2.57% of records are in the all other comparisons comparison level\", \"u_probability_description\": \"Amongst non-matching record comparisons, 88.05% of records are in the all other comparisons comparison level\", \"has_tf_adjustments\": false, \"tf_adjustment_column\": null, \"tf_adjustment_weight\": 1.0, \"is_null_level\": false, \"bayes_factor\": 0.02919718584029828, \"log2_bayes_factor\": -5.098026867583788, \"comparison_vector_value\": 0, \"max_comparison_vector_value\": 2, \"bayes_factor_description\": \"If comparison level is `all other comparisons` then comparison is  34.25 times less likely to be a match\", \"probability_two_random_records_match\": 0.00331556378849066, \"comparison_sort_order\": 5, \"iteration\": 1}, {\"comparison_name\": \"first_name_15\", \"sql_condition\": \"\\\"first_name_15_l\\\" = \\\"first_name_15_r\\\"\", \"label_for_charts\": \"Exact match\", \"m_probability\": 0.8389702368588462, \"u_probability\": 0.0019545817948697793, \"m_probability_description\": \"Amongst matching record comparisons, 83.90% of records are in the exact match comparison level\", \"u_probability_description\": \"Amongst non-matching record comparisons, 0.20% of records are in the exact match comparison level\", \"has_tf_adjustments\": false, \"tf_adjustment_column\": null, \"tf_adjustment_weight\": 1.0, \"is_null_level\": false, \"bayes_factor\": 429.2326056964739, \"log2_bayes_factor\": 8.745615861139232, \"comparison_vector_value\": 2, \"max_comparison_vector_value\": 2, \"bayes_factor_description\": \"If comparison level is `exact match` then comparison is 429.23 times more likely to be a match\", \"probability_two_random_records_match\": 0.00331556378849066, \"comparison_sort_order\": 0, \"iteration\": 2}, {\"comparison_name\": \"first_name_15\", \"sql_condition\": \"jaro_winkler_similarity(\\\"first_name_15_l\\\", \\\"first_name_15_r\\\") >= 0.8333333333333334\", \"label_for_charts\": \"Jaro_winkler_similarity >= 0.8333333333333334\", \"m_probability\": 0.09291225105636339, \"u_probability\": 0.00346135405752317, \"m_probability_description\": \"Amongst matching record comparisons, 9.29% of records are in the jaro_winkler_similarity >= 0.8333333333333334 comparison level\", \"u_probability_description\": \"Amongst non-matching record comparisons, 0.35% of records are in the jaro_winkler_similarity >= 0.8333333333333334 comparison level\", \"has_tf_adjustments\": false, \"tf_adjustment_column\": null, \"tf_adjustment_weight\": 1.0, \"is_null_level\": false, \"bayes_factor\": 26.84274694593026, \"log2_bayes_factor\": 4.746460411823658, \"comparison_vector_value\": 1, \"max_comparison_vector_value\": 2, \"bayes_factor_description\": \"If comparison level is `jaro_winkler_similarity >= 0.8333333333333334` then comparison is 26.84 times more likely to be a match\", \"probability_two_random_records_match\": 0.00331556378849066, \"comparison_sort_order\": 0, \"iteration\": 2}, {\"comparison_name\": \"first_name_15\", \"sql_condition\": \"ELSE\", \"label_for_charts\": \"All other comparisons\", \"m_probability\": 0.06811751208479039, \"u_probability\": 0.994584064147607, \"m_probability_description\": \"Amongst matching record comparisons, 6.81% of records are in the all other comparisons comparison level\", \"u_probability_description\": \"Amongst non-matching record comparisons, 99.46% of records are in the all other comparisons comparison level\", \"has_tf_adjustments\": false, \"tf_adjustment_column\": null, \"tf_adjustment_weight\": 1.0, \"is_null_level\": false, \"bayes_factor\": 0.06848844108835532, \"log2_bayes_factor\": -3.867995667273034, \"comparison_vector_value\": 0, \"max_comparison_vector_value\": 2, \"bayes_factor_description\": \"If comparison level is `all other comparisons` then comparison is  14.60 times less likely to be a match\", \"probability_two_random_records_match\": 0.00331556378849066, \"comparison_sort_order\": 0, \"iteration\": 2}, {\"comparison_name\": \"last_name_12\", \"sql_condition\": \"\\\"last_name_12_l\\\" = \\\"last_name_12_r\\\"\", \"label_for_charts\": \"Exact match\", \"m_probability\": 0.8676642686141103, \"u_probability\": 0.0006599706231126029, \"m_probability_description\": \"Amongst matching record comparisons, 86.77% of records are in the exact match comparison level\", \"u_probability_description\": \"Amongst non-matching record comparisons, 0.07% of records are in the exact match comparison level\", \"has_tf_adjustments\": false, \"tf_adjustment_column\": null, \"tf_adjustment_weight\": 1.0, \"is_null_level\": false, \"bayes_factor\": 1314.7013491630385, \"log2_bayes_factor\": 10.360519395194427, \"comparison_vector_value\": 2, \"max_comparison_vector_value\": 2, \"bayes_factor_description\": \"If comparison level is `exact match` then comparison is 1,314.70 times more likely to be a match\", \"probability_two_random_records_match\": 0.00331556378849066, \"comparison_sort_order\": 1, \"iteration\": 2}, {\"comparison_name\": \"last_name_12\", \"sql_condition\": \"jaro_winkler_similarity(\\\"last_name_12_l\\\", \\\"last_name_12_r\\\") >= 0.8333333333333334\", \"label_for_charts\": \"Jaro_winkler_similarity >= 0.8333333333333334\", \"m_probability\": 0.10025194698242344, \"u_probability\": 0.0013437257720127285, \"m_probability_description\": \"Amongst matching record comparisons, 10.03% of records are in the jaro_winkler_similarity >= 0.8333333333333334 comparison level\", \"u_probability_description\": \"Amongst non-matching record comparisons, 0.13% of records are in the jaro_winkler_similarity >= 0.8333333333333334 comparison level\", \"has_tf_adjustments\": false, \"tf_adjustment_column\": null, \"tf_adjustment_weight\": 1.0, \"is_null_level\": false, \"bayes_factor\": 74.60744526188473, \"log2_bayes_factor\": 6.221247702665916, \"comparison_vector_value\": 1, \"max_comparison_vector_value\": 2, \"bayes_factor_description\": \"If comparison level is `jaro_winkler_similarity >= 0.8333333333333334` then comparison is 74.61 times more likely to be a match\", \"probability_two_random_records_match\": 0.00331556378849066, \"comparison_sort_order\": 1, \"iteration\": 2}, {\"comparison_name\": \"last_name_12\", \"sql_condition\": \"ELSE\", \"label_for_charts\": \"All other comparisons\", \"m_probability\": 0.032083784403466334, \"u_probability\": 0.9979963036048747, \"m_probability_description\": \"Amongst matching record comparisons, 3.21% of records are in the all other comparisons comparison level\", \"u_probability_description\": \"Amongst non-matching record comparisons, 99.80% of records are in the all other comparisons comparison level\", \"has_tf_adjustments\": false, \"tf_adjustment_column\": null, \"tf_adjustment_weight\": 1.0, \"is_null_level\": false, \"bayes_factor\": 0.03214819963518512, \"log2_bayes_factor\": -4.959118243827041, \"comparison_vector_value\": 0, \"max_comparison_vector_value\": 2, \"bayes_factor_description\": \"If comparison level is `all other comparisons` then comparison is  31.11 times less likely to be a match\", \"probability_two_random_records_match\": 0.00331556378849066, \"comparison_sort_order\": 1, \"iteration\": 2}, {\"comparison_name\": \"middle_initial\", \"sql_condition\": \"\\\"middle_initial_l\\\" = \\\"middle_initial_r\\\"\", \"label_for_charts\": \"Exact match\", \"m_probability\": 0.9170567817110868, \"u_probability\": 0.07356305686300955, \"m_probability_description\": \"Amongst matching record comparisons, 91.71% of records are in the exact match comparison level\", \"u_probability_description\": \"Amongst non-matching record comparisons, 7.36% of records are in the exact match comparison level\", \"has_tf_adjustments\": false, \"tf_adjustment_column\": null, \"tf_adjustment_weight\": 1.0, \"is_null_level\": false, \"bayes_factor\": 12.466267999423222, \"log2_bayes_factor\": 3.639957728093159, \"comparison_vector_value\": 1, \"max_comparison_vector_value\": 1, \"bayes_factor_description\": \"If comparison level is `exact match` then comparison is 12.47 times more likely to be a match\", \"probability_two_random_records_match\": 0.00331556378849066, \"comparison_sort_order\": 2, \"iteration\": 2}, {\"comparison_name\": \"middle_initial\", \"sql_condition\": \"ELSE\", \"label_for_charts\": \"All other comparisons\", \"m_probability\": 0.08294321828891309, \"u_probability\": 0.9264369431369904, \"m_probability_description\": \"Amongst matching record comparisons, 8.29% of records are in the all other comparisons comparison level\", \"u_probability_description\": \"Amongst non-matching record comparisons, 92.64% of records are in the all other comparisons comparison level\", \"has_tf_adjustments\": false, \"tf_adjustment_column\": null, \"tf_adjustment_weight\": 1.0, \"is_null_level\": false, \"bayes_factor\": 0.08952926467727057, \"log2_bayes_factor\": -3.4814968526074965, \"comparison_vector_value\": 0, \"max_comparison_vector_value\": 1, \"bayes_factor_description\": \"If comparison level is `all other comparisons` then comparison is  11.17 times less likely to be a match\", \"probability_two_random_records_match\": 0.00331556378849066, \"comparison_sort_order\": 2, \"iteration\": 2}, {\"comparison_name\": \"day_of_birth\", \"sql_condition\": \"\\\"day_of_birth_l\\\" = \\\"day_of_birth_r\\\"\", \"label_for_charts\": \"Exact match\", \"m_probability\": 0.9669264204944922, \"u_probability\": 0.032464174125328385, \"m_probability_description\": \"Amongst matching record comparisons, 96.69% of records are in the exact match comparison level\", \"u_probability_description\": \"Amongst non-matching record comparisons, 3.25% of records are in the exact match comparison level\", \"has_tf_adjustments\": false, \"tf_adjustment_column\": null, \"tf_adjustment_weight\": 1.0, \"is_null_level\": false, \"bayes_factor\": 29.784414559928727, \"log2_bayes_factor\": 4.896485696749157, \"comparison_vector_value\": 2, \"max_comparison_vector_value\": 2, \"bayes_factor_description\": \"If comparison level is `exact match` then comparison is 29.78 times more likely to be a match\", \"probability_two_random_records_match\": 0.00331556378849066, \"comparison_sort_order\": 3, \"iteration\": 2}, {\"comparison_name\": \"day_of_birth\", \"sql_condition\": \"abs(day_of_birth_l - day_of_birth_r) <= 5\", \"label_for_charts\": \"Inexact match\", \"m_probability\": 0.02219601870928888, \"u_probability\": 0.2965057730184639, \"m_probability_description\": \"Amongst matching record comparisons, 2.22% of records are in the inexact match comparison level\", \"u_probability_description\": \"Amongst non-matching record comparisons, 29.65% of records are in the inexact match comparison level\", \"has_tf_adjustments\": false, \"tf_adjustment_column\": null, \"tf_adjustment_weight\": 1.0, \"is_null_level\": false, \"bayes_factor\": 0.07485863928830382, \"log2_bayes_factor\": -3.739687365285951, \"comparison_vector_value\": 1, \"max_comparison_vector_value\": 2, \"bayes_factor_description\": \"If comparison level is `inexact match` then comparison is  13.36 times less likely to be a match\", \"probability_two_random_records_match\": 0.00331556378849066, \"comparison_sort_order\": 3, \"iteration\": 2}, {\"comparison_name\": \"day_of_birth\", \"sql_condition\": \"ELSE\", \"label_for_charts\": \"All other comparisons\", \"m_probability\": 0.010877560796219004, \"u_probability\": 0.6710300528562076, \"m_probability_description\": \"Amongst matching record comparisons, 1.09% of records are in the all other comparisons comparison level\", \"u_probability_description\": \"Amongst non-matching record comparisons, 67.10% of records are in the all other comparisons comparison level\", \"has_tf_adjustments\": false, \"tf_adjustment_column\": null, \"tf_adjustment_weight\": 1.0, \"is_null_level\": false, \"bayes_factor\": 0.016210243863026972, \"log2_bayes_factor\": -5.946950395197289, \"comparison_vector_value\": 0, \"max_comparison_vector_value\": 2, \"bayes_factor_description\": \"If comparison level is `all other comparisons` then comparison is  61.69 times less likely to be a match\", \"probability_two_random_records_match\": 0.00331556378849066, \"comparison_sort_order\": 3, \"iteration\": 2}, {\"comparison_name\": \"month_of_birth\", \"sql_condition\": \"\\\"month_of_birth_l\\\" = \\\"month_of_birth_r\\\"\", \"label_for_charts\": \"Exact match\", \"m_probability\": 0.9766790623487133, \"u_probability\": 0.08358610359130632, \"m_probability_description\": \"Amongst matching record comparisons, 97.67% of records are in the exact match comparison level\", \"u_probability_description\": \"Amongst non-matching record comparisons, 8.36% of records are in the exact match comparison level\", \"has_tf_adjustments\": false, \"tf_adjustment_column\": null, \"tf_adjustment_weight\": 1.0, \"is_null_level\": false, \"bayes_factor\": 11.684706193797224, \"log2_bayes_factor\": 3.546549553605386, \"comparison_vector_value\": 2, \"max_comparison_vector_value\": 2, \"bayes_factor_description\": \"If comparison level is `exact match` then comparison is 11.68 times more likely to be a match\", \"probability_two_random_records_match\": 0.00331556378849066, \"comparison_sort_order\": 4, \"iteration\": 2}, {\"comparison_name\": \"month_of_birth\", \"sql_condition\": \"abs(month_of_birth_l - month_of_birth_r) <= 3\", \"label_for_charts\": \"Inexact match\", \"m_probability\": 0.011278324030403313, \"u_probability\": 0.419960264938525, \"m_probability_description\": \"Amongst matching record comparisons, 1.13% of records are in the inexact match comparison level\", \"u_probability_description\": \"Amongst non-matching record comparisons, 42.00% of records are in the inexact match comparison level\", \"has_tf_adjustments\": false, \"tf_adjustment_column\": null, \"tf_adjustment_weight\": 1.0, \"is_null_level\": false, \"bayes_factor\": 0.026855693197674942, \"log2_bayes_factor\": -5.218628229035663, \"comparison_vector_value\": 1, \"max_comparison_vector_value\": 2, \"bayes_factor_description\": \"If comparison level is `inexact match` then comparison is  37.24 times less likely to be a match\", \"probability_two_random_records_match\": 0.00331556378849066, \"comparison_sort_order\": 4, \"iteration\": 2}, {\"comparison_name\": \"month_of_birth\", \"sql_condition\": \"ELSE\", \"label_for_charts\": \"All other comparisons\", \"m_probability\": 0.012042613620883406, \"u_probability\": 0.4964536314701687, \"m_probability_description\": \"Amongst matching record comparisons, 1.20% of records are in the all other comparisons comparison level\", \"u_probability_description\": \"Amongst non-matching record comparisons, 49.65% of records are in the all other comparisons comparison level\", \"has_tf_adjustments\": false, \"tf_adjustment_column\": null, \"tf_adjustment_weight\": 1.0, \"is_null_level\": false, \"bayes_factor\": 0.02425727773452098, \"log2_bayes_factor\": -5.365438536236082, \"comparison_vector_value\": 0, \"max_comparison_vector_value\": 2, \"bayes_factor_description\": \"If comparison level is `all other comparisons` then comparison is  41.22 times less likely to be a match\", \"probability_two_random_records_match\": 0.00331556378849066, \"comparison_sort_order\": 4, \"iteration\": 2}, {\"comparison_name\": \"year_of_birth\", \"sql_condition\": \"\\\"year_of_birth_l\\\" = \\\"year_of_birth_r\\\"\", \"label_for_charts\": \"Exact match\", \"m_probability\": 0.9614967106550463, \"u_probability\": 0.010988145230220372, \"m_probability_description\": \"Amongst matching record comparisons, 96.15% of records are in the exact match comparison level\", \"u_probability_description\": \"Amongst non-matching record comparisons, 1.10% of records are in the exact match comparison level\", \"has_tf_adjustments\": false, \"tf_adjustment_column\": null, \"tf_adjustment_weight\": 1.0, \"is_null_level\": false, \"bayes_factor\": 87.50309451777814, \"log2_bayes_factor\": 6.451262133163868, \"comparison_vector_value\": 2, \"max_comparison_vector_value\": 2, \"bayes_factor_description\": \"If comparison level is `exact match` then comparison is 87.50 times more likely to be a match\", \"probability_two_random_records_match\": 0.00331556378849066, \"comparison_sort_order\": 5, \"iteration\": 2}, {\"comparison_name\": \"year_of_birth\", \"sql_condition\": \"abs(year_of_birth_l - year_of_birth_r) <= 5\", \"label_for_charts\": \"Inexact match\", \"m_probability\": 0.011384437777294155, \"u_probability\": 0.10851628136997345, \"m_probability_description\": \"Amongst matching record comparisons, 1.14% of records are in the inexact match comparison level\", \"u_probability_description\": \"Amongst non-matching record comparisons, 10.85% of records are in the inexact match comparison level\", \"has_tf_adjustments\": false, \"tf_adjustment_column\": null, \"tf_adjustment_weight\": 1.0, \"is_null_level\": false, \"bayes_factor\": 0.10490995114807021, \"log2_bayes_factor\": -3.2527765648171316, \"comparison_vector_value\": 1, \"max_comparison_vector_value\": 2, \"bayes_factor_description\": \"If comparison level is `inexact match` then comparison is  9.53 times less likely to be a match\", \"probability_two_random_records_match\": 0.00331556378849066, \"comparison_sort_order\": 5, \"iteration\": 2}, {\"comparison_name\": \"year_of_birth\", \"sql_condition\": \"ELSE\", \"label_for_charts\": \"All other comparisons\", \"m_probability\": 0.027118851567659523, \"u_probability\": 0.8804955733998062, \"m_probability_description\": \"Amongst matching record comparisons, 2.71% of records are in the all other comparisons comparison level\", \"u_probability_description\": \"Amongst non-matching record comparisons, 88.05% of records are in the all other comparisons comparison level\", \"has_tf_adjustments\": false, \"tf_adjustment_column\": null, \"tf_adjustment_weight\": 1.0, \"is_null_level\": false, \"bayes_factor\": 0.030799531976006513, \"log2_bayes_factor\": -5.020947761615088, \"comparison_vector_value\": 0, \"max_comparison_vector_value\": 2, \"bayes_factor_description\": \"If comparison level is `all other comparisons` then comparison is  32.47 times less likely to be a match\", \"probability_two_random_records_match\": 0.00331556378849066, \"comparison_sort_order\": 5, \"iteration\": 2}, {\"comparison_name\": \"first_name_15\", \"sql_condition\": \"\\\"first_name_15_l\\\" = \\\"first_name_15_r\\\"\", \"label_for_charts\": \"Exact match\", \"m_probability\": 0.8376186409268731, \"u_probability\": 0.0019545817948697793, \"m_probability_description\": \"Amongst matching record comparisons, 83.76% of records are in the exact match comparison level\", \"u_probability_description\": \"Amongst non-matching record comparisons, 0.20% of records are in the exact match comparison level\", \"has_tf_adjustments\": false, \"tf_adjustment_column\": null, \"tf_adjustment_weight\": 1.0, \"is_null_level\": false, \"bayes_factor\": 428.54110435561387, \"log2_bayes_factor\": 8.743289779657248, \"comparison_vector_value\": 2, \"max_comparison_vector_value\": 2, \"bayes_factor_description\": \"If comparison level is `exact match` then comparison is 428.54 times more likely to be a match\", \"probability_two_random_records_match\": 0.00331556378849066, \"comparison_sort_order\": 0, \"iteration\": 3}, {\"comparison_name\": \"first_name_15\", \"sql_condition\": \"jaro_winkler_similarity(\\\"first_name_15_l\\\", \\\"first_name_15_r\\\") >= 0.8333333333333334\", \"label_for_charts\": \"Jaro_winkler_similarity >= 0.8333333333333334\", \"m_probability\": 0.09276638973131388, \"u_probability\": 0.00346135405752317, \"m_probability_description\": \"Amongst matching record comparisons, 9.28% of records are in the jaro_winkler_similarity >= 0.8333333333333334 comparison level\", \"u_probability_description\": \"Amongst non-matching record comparisons, 0.35% of records are in the jaro_winkler_similarity >= 0.8333333333333334 comparison level\", \"has_tf_adjustments\": false, \"tf_adjustment_column\": null, \"tf_adjustment_weight\": 1.0, \"is_null_level\": false, \"bayes_factor\": 26.80060698491342, \"log2_bayes_factor\": 4.74419377035429, \"comparison_vector_value\": 1, \"max_comparison_vector_value\": 2, \"bayes_factor_description\": \"If comparison level is `jaro_winkler_similarity >= 0.8333333333333334` then comparison is 26.80 times more likely to be a match\", \"probability_two_random_records_match\": 0.00331556378849066, \"comparison_sort_order\": 0, \"iteration\": 3}, {\"comparison_name\": \"first_name_15\", \"sql_condition\": \"ELSE\", \"label_for_charts\": \"All other comparisons\", \"m_probability\": 0.06961496934181295, \"u_probability\": 0.994584064147607, \"m_probability_description\": \"Amongst matching record comparisons, 6.96% of records are in the all other comparisons comparison level\", \"u_probability_description\": \"Amongst non-matching record comparisons, 99.46% of records are in the all other comparisons comparison level\", \"has_tf_adjustments\": false, \"tf_adjustment_column\": null, \"tf_adjustment_weight\": 1.0, \"is_null_level\": false, \"bayes_factor\": 0.06999405264096543, \"log2_bayes_factor\": -3.836623847572891, \"comparison_vector_value\": 0, \"max_comparison_vector_value\": 2, \"bayes_factor_description\": \"If comparison level is `all other comparisons` then comparison is  14.29 times less likely to be a match\", \"probability_two_random_records_match\": 0.00331556378849066, \"comparison_sort_order\": 0, \"iteration\": 3}, {\"comparison_name\": \"last_name_12\", \"sql_condition\": \"\\\"last_name_12_l\\\" = \\\"last_name_12_r\\\"\", \"label_for_charts\": \"Exact match\", \"m_probability\": 0.8674982273966231, \"u_probability\": 0.0006599706231126029, \"m_probability_description\": \"Amongst matching record comparisons, 86.75% of records are in the exact match comparison level\", \"u_probability_description\": \"Amongst non-matching record comparisons, 0.07% of records are in the exact match comparison level\", \"has_tf_adjustments\": false, \"tf_adjustment_column\": null, \"tf_adjustment_weight\": 1.0, \"is_null_level\": false, \"bayes_factor\": 1314.4497603624582, \"log2_bayes_factor\": 10.360243286366194, \"comparison_vector_value\": 2, \"max_comparison_vector_value\": 2, \"bayes_factor_description\": \"If comparison level is `exact match` then comparison is 1,314.45 times more likely to be a match\", \"probability_two_random_records_match\": 0.00331556378849066, \"comparison_sort_order\": 1, \"iteration\": 3}, {\"comparison_name\": \"last_name_12\", \"sql_condition\": \"jaro_winkler_similarity(\\\"last_name_12_l\\\", \\\"last_name_12_r\\\") >= 0.8333333333333334\", \"label_for_charts\": \"Jaro_winkler_similarity >= 0.8333333333333334\", \"m_probability\": 0.10019260627448803, \"u_probability\": 0.0013437257720127285, \"m_probability_description\": \"Amongst matching record comparisons, 10.02% of records are in the jaro_winkler_similarity >= 0.8333333333333334 comparison level\", \"u_probability_description\": \"Amongst non-matching record comparisons, 0.13% of records are in the jaro_winkler_similarity >= 0.8333333333333334 comparison level\", \"has_tf_adjustments\": false, \"tf_adjustment_column\": null, \"tf_adjustment_weight\": 1.0, \"is_null_level\": false, \"bayes_factor\": 74.56328393881468, \"log2_bayes_factor\": 6.220393495892309, \"comparison_vector_value\": 1, \"max_comparison_vector_value\": 2, \"bayes_factor_description\": \"If comparison level is `jaro_winkler_similarity >= 0.8333333333333334` then comparison is 74.56 times more likely to be a match\", \"probability_two_random_records_match\": 0.00331556378849066, \"comparison_sort_order\": 1, \"iteration\": 3}, {\"comparison_name\": \"last_name_12\", \"sql_condition\": \"ELSE\", \"label_for_charts\": \"All other comparisons\", \"m_probability\": 0.03230916632888878, \"u_probability\": 0.9979963036048747, \"m_probability_description\": \"Amongst matching record comparisons, 3.23% of records are in the all other comparisons comparison level\", \"u_probability_description\": \"Amongst non-matching record comparisons, 99.80% of records are in the all other comparisons comparison level\", \"has_tf_adjustments\": false, \"tf_adjustment_column\": null, \"tf_adjustment_weight\": 1.0, \"is_null_level\": false, \"bayes_factor\": 0.03237403406423896, \"log2_bayes_factor\": -4.9490190416557365, \"comparison_vector_value\": 0, \"max_comparison_vector_value\": 2, \"bayes_factor_description\": \"If comparison level is `all other comparisons` then comparison is  30.89 times less likely to be a match\", \"probability_two_random_records_match\": 0.00331556378849066, \"comparison_sort_order\": 1, \"iteration\": 3}, {\"comparison_name\": \"middle_initial\", \"sql_condition\": \"\\\"middle_initial_l\\\" = \\\"middle_initial_r\\\"\", \"label_for_charts\": \"Exact match\", \"m_probability\": 0.9162363428632128, \"u_probability\": 0.07356305686300955, \"m_probability_description\": \"Amongst matching record comparisons, 91.62% of records are in the exact match comparison level\", \"u_probability_description\": \"Amongst non-matching record comparisons, 7.36% of records are in the exact match comparison level\", \"has_tf_adjustments\": false, \"tf_adjustment_column\": null, \"tf_adjustment_weight\": 1.0, \"is_null_level\": false, \"bayes_factor\": 12.455115134345824, \"log2_bayes_factor\": 3.638666452715171, \"comparison_vector_value\": 1, \"max_comparison_vector_value\": 1, \"bayes_factor_description\": \"If comparison level is `exact match` then comparison is 12.46 times more likely to be a match\", \"probability_two_random_records_match\": 0.00331556378849066, \"comparison_sort_order\": 2, \"iteration\": 3}, {\"comparison_name\": \"middle_initial\", \"sql_condition\": \"ELSE\", \"label_for_charts\": \"All other comparisons\", \"m_probability\": 0.08376365713678732, \"u_probability\": 0.9264369431369904, \"m_probability_description\": \"Amongst matching record comparisons, 8.38% of records are in the all other comparisons comparison level\", \"u_probability_description\": \"Amongst non-matching record comparisons, 92.64% of records are in the all other comparisons comparison level\", \"has_tf_adjustments\": false, \"tf_adjustment_column\": null, \"tf_adjustment_weight\": 1.0, \"is_null_level\": false, \"bayes_factor\": 0.090414849879752, \"log2_bayes_factor\": -3.467296447129437, \"comparison_vector_value\": 0, \"max_comparison_vector_value\": 1, \"bayes_factor_description\": \"If comparison level is `all other comparisons` then comparison is  11.06 times less likely to be a match\", \"probability_two_random_records_match\": 0.00331556378849066, \"comparison_sort_order\": 2, \"iteration\": 3}, {\"comparison_name\": \"day_of_birth\", \"sql_condition\": \"\\\"day_of_birth_l\\\" = \\\"day_of_birth_r\\\"\", \"label_for_charts\": \"Exact match\", \"m_probability\": 0.9660738188517773, \"u_probability\": 0.032464174125328385, \"m_probability_description\": \"Amongst matching record comparisons, 96.61% of records are in the exact match comparison level\", \"u_probability_description\": \"Amongst non-matching record comparisons, 3.25% of records are in the exact match comparison level\", \"has_tf_adjustments\": false, \"tf_adjustment_column\": null, \"tf_adjustment_weight\": 1.0, \"is_null_level\": false, \"bayes_factor\": 29.758151712784567, \"log2_bayes_factor\": 4.8952130179190885, \"comparison_vector_value\": 2, \"max_comparison_vector_value\": 2, \"bayes_factor_description\": \"If comparison level is `exact match` then comparison is 29.76 times more likely to be a match\", \"probability_two_random_records_match\": 0.00331556378849066, \"comparison_sort_order\": 3, \"iteration\": 3}, {\"comparison_name\": \"day_of_birth\", \"sql_condition\": \"abs(day_of_birth_l - day_of_birth_r) <= 5\", \"label_for_charts\": \"Inexact match\", \"m_probability\": 0.022469360151486532, \"u_probability\": 0.2965057730184639, \"m_probability_description\": \"Amongst matching record comparisons, 2.25% of records are in the inexact match comparison level\", \"u_probability_description\": \"Amongst non-matching record comparisons, 29.65% of records are in the inexact match comparison level\", \"has_tf_adjustments\": false, \"tf_adjustment_column\": null, \"tf_adjustment_weight\": 1.0, \"is_null_level\": false, \"bayes_factor\": 0.07578051490446808, \"log2_bayes_factor\": -3.722029247241393, \"comparison_vector_value\": 1, \"max_comparison_vector_value\": 2, \"bayes_factor_description\": \"If comparison level is `inexact match` then comparison is  13.20 times less likely to be a match\", \"probability_two_random_records_match\": 0.00331556378849066, \"comparison_sort_order\": 3, \"iteration\": 3}, {\"comparison_name\": \"day_of_birth\", \"sql_condition\": \"ELSE\", \"label_for_charts\": \"All other comparisons\", \"m_probability\": 0.011456820996736138, \"u_probability\": 0.6710300528562076, \"m_probability_description\": \"Amongst matching record comparisons, 1.15% of records are in the all other comparisons comparison level\", \"u_probability_description\": \"Amongst non-matching record comparisons, 67.10% of records are in the all other comparisons comparison level\", \"has_tf_adjustments\": false, \"tf_adjustment_column\": null, \"tf_adjustment_weight\": 1.0, \"is_null_level\": false, \"bayes_factor\": 0.017073484187437985, \"log2_bayes_factor\": -5.872098690459335, \"comparison_vector_value\": 0, \"max_comparison_vector_value\": 2, \"bayes_factor_description\": \"If comparison level is `all other comparisons` then comparison is  58.57 times less likely to be a match\", \"probability_two_random_records_match\": 0.00331556378849066, \"comparison_sort_order\": 3, \"iteration\": 3}, {\"comparison_name\": \"month_of_birth\", \"sql_condition\": \"\\\"month_of_birth_l\\\" = \\\"month_of_birth_r\\\"\", \"label_for_charts\": \"Exact match\", \"m_probability\": 0.9759603997153822, \"u_probability\": 0.08358610359130632, \"m_probability_description\": \"Amongst matching record comparisons, 97.60% of records are in the exact match comparison level\", \"u_probability_description\": \"Amongst non-matching record comparisons, 8.36% of records are in the exact match comparison level\", \"has_tf_adjustments\": false, \"tf_adjustment_column\": null, \"tf_adjustment_weight\": 1.0, \"is_null_level\": false, \"bayes_factor\": 11.676108321633627, \"log2_bayes_factor\": 3.5454875950778266, \"comparison_vector_value\": 2, \"max_comparison_vector_value\": 2, \"bayes_factor_description\": \"If comparison level is `exact match` then comparison is 11.68 times more likely to be a match\", \"probability_two_random_records_match\": 0.00331556378849066, \"comparison_sort_order\": 4, \"iteration\": 3}, {\"comparison_name\": \"month_of_birth\", \"sql_condition\": \"abs(month_of_birth_l - month_of_birth_r) <= 3\", \"label_for_charts\": \"Inexact match\", \"m_probability\": 0.011661672542426517, \"u_probability\": 0.419960264938525, \"m_probability_description\": \"Amongst matching record comparisons, 1.17% of records are in the inexact match comparison level\", \"u_probability_description\": \"Amongst non-matching record comparisons, 42.00% of records are in the inexact match comparison level\", \"has_tf_adjustments\": false, \"tf_adjustment_column\": null, \"tf_adjustment_weight\": 1.0, \"is_null_level\": false, \"bayes_factor\": 0.02776851410962317, \"log2_bayes_factor\": -5.17040620901808, \"comparison_vector_value\": 1, \"max_comparison_vector_value\": 2, \"bayes_factor_description\": \"If comparison level is `inexact match` then comparison is  36.01 times less likely to be a match\", \"probability_two_random_records_match\": 0.00331556378849066, \"comparison_sort_order\": 4, \"iteration\": 3}, {\"comparison_name\": \"month_of_birth\", \"sql_condition\": \"ELSE\", \"label_for_charts\": \"All other comparisons\", \"m_probability\": 0.01237792774219121, \"u_probability\": 0.4964536314701687, \"m_probability_description\": \"Amongst matching record comparisons, 1.24% of records are in the all other comparisons comparison level\", \"u_probability_description\": \"Amongst non-matching record comparisons, 49.65% of records are in the all other comparisons comparison level\", \"has_tf_adjustments\": false, \"tf_adjustment_column\": null, \"tf_adjustment_weight\": 1.0, \"is_null_level\": false, \"bayes_factor\": 0.02493269654516564, \"log2_bayes_factor\": -5.325817266754494, \"comparison_vector_value\": 0, \"max_comparison_vector_value\": 2, \"bayes_factor_description\": \"If comparison level is `all other comparisons` then comparison is  40.11 times less likely to be a match\", \"probability_two_random_records_match\": 0.00331556378849066, \"comparison_sort_order\": 4, \"iteration\": 3}, {\"comparison_name\": \"year_of_birth\", \"sql_condition\": \"\\\"year_of_birth_l\\\" = \\\"year_of_birth_r\\\"\", \"label_for_charts\": \"Exact match\", \"m_probability\": 0.9607160515892172, \"u_probability\": 0.010988145230220372, \"m_probability_description\": \"Amongst matching record comparisons, 96.07% of records are in the exact match comparison level\", \"u_probability_description\": \"Amongst non-matching record comparisons, 1.10% of records are in the exact match comparison level\", \"has_tf_adjustments\": false, \"tf_adjustment_column\": null, \"tf_adjustment_weight\": 1.0, \"is_null_level\": false, \"bayes_factor\": 87.43204894552979, \"log2_bayes_factor\": 6.450090303440397, \"comparison_vector_value\": 2, \"max_comparison_vector_value\": 2, \"bayes_factor_description\": \"If comparison level is `exact match` then comparison is 87.43 times more likely to be a match\", \"probability_two_random_records_match\": 0.00331556378849066, \"comparison_sort_order\": 5, \"iteration\": 3}, {\"comparison_name\": \"year_of_birth\", \"sql_condition\": \"abs(year_of_birth_l - year_of_birth_r) <= 5\", \"label_for_charts\": \"Inexact match\", \"m_probability\": 0.011585080236199587, \"u_probability\": 0.10851628136997345, \"m_probability_description\": \"Amongst matching record comparisons, 1.16% of records are in the inexact match comparison level\", \"u_probability_description\": \"Amongst non-matching record comparisons, 10.85% of records are in the inexact match comparison level\", \"has_tf_adjustments\": false, \"tf_adjustment_column\": null, \"tf_adjustment_weight\": 1.0, \"is_null_level\": false, \"bayes_factor\": 0.10675891294783336, \"log2_bayes_factor\": -3.2275715741857627, \"comparison_vector_value\": 1, \"max_comparison_vector_value\": 2, \"bayes_factor_description\": \"If comparison level is `inexact match` then comparison is  9.37 times less likely to be a match\", \"probability_two_random_records_match\": 0.00331556378849066, \"comparison_sort_order\": 5, \"iteration\": 3}, {\"comparison_name\": \"year_of_birth\", \"sql_condition\": \"ELSE\", \"label_for_charts\": \"All other comparisons\", \"m_probability\": 0.027698868174583093, \"u_probability\": 0.8804955733998062, \"m_probability_description\": \"Amongst matching record comparisons, 2.77% of records are in the all other comparisons comparison level\", \"u_probability_description\": \"Amongst non-matching record comparisons, 88.05% of records are in the all other comparisons comparison level\", \"has_tf_adjustments\": false, \"tf_adjustment_column\": null, \"tf_adjustment_weight\": 1.0, \"is_null_level\": false, \"bayes_factor\": 0.031458270786792336, \"log2_bayes_factor\": -4.990416819589585, \"comparison_vector_value\": 0, \"max_comparison_vector_value\": 2, \"bayes_factor_description\": \"If comparison level is `all other comparisons` then comparison is  31.79 times less likely to be a match\", \"probability_two_random_records_match\": 0.00331556378849066, \"comparison_sort_order\": 5, \"iteration\": 3}, {\"comparison_name\": \"first_name_15\", \"sql_condition\": \"\\\"first_name_15_l\\\" = \\\"first_name_15_r\\\"\", \"label_for_charts\": \"Exact match\", \"m_probability\": 0.8373388605860531, \"u_probability\": 0.0019545817948697793, \"m_probability_description\": \"Amongst matching record comparisons, 83.73% of records are in the exact match comparison level\", \"u_probability_description\": \"Amongst non-matching record comparisons, 0.20% of records are in the exact match comparison level\", \"has_tf_adjustments\": false, \"tf_adjustment_column\": null, \"tf_adjustment_weight\": 1.0, \"is_null_level\": false, \"bayes_factor\": 428.3979635868037, \"log2_bayes_factor\": 8.742807811949255, \"comparison_vector_value\": 2, \"max_comparison_vector_value\": 2, \"bayes_factor_description\": \"If comparison level is `exact match` then comparison is 428.40 times more likely to be a match\", \"probability_two_random_records_match\": 0.00331556378849066, \"comparison_sort_order\": 0, \"iteration\": 4}, {\"comparison_name\": \"first_name_15\", \"sql_condition\": \"jaro_winkler_similarity(\\\"first_name_15_l\\\", \\\"first_name_15_r\\\") >= 0.8333333333333334\", \"label_for_charts\": \"Jaro_winkler_similarity >= 0.8333333333333334\", \"m_probability\": 0.09272706946799497, \"u_probability\": 0.00346135405752317, \"m_probability_description\": \"Amongst matching record comparisons, 9.27% of records are in the jaro_winkler_similarity >= 0.8333333333333334 comparison level\", \"u_probability_description\": \"Amongst non-matching record comparisons, 0.35% of records are in the jaro_winkler_similarity >= 0.8333333333333334 comparison level\", \"has_tf_adjustments\": false, \"tf_adjustment_column\": null, \"tf_adjustment_weight\": 1.0, \"is_null_level\": false, \"bayes_factor\": 26.789247192570464, \"log2_bayes_factor\": 4.743582135313451, \"comparison_vector_value\": 1, \"max_comparison_vector_value\": 2, \"bayes_factor_description\": \"If comparison level is `jaro_winkler_similarity >= 0.8333333333333334` then comparison is 26.79 times more likely to be a match\", \"probability_two_random_records_match\": 0.00331556378849066, \"comparison_sort_order\": 0, \"iteration\": 4}, {\"comparison_name\": \"first_name_15\", \"sql_condition\": \"ELSE\", \"label_for_charts\": \"All other comparisons\", \"m_probability\": 0.06993406994595189, \"u_probability\": 0.994584064147607, \"m_probability_description\": \"Amongst matching record comparisons, 6.99% of records are in the all other comparisons comparison level\", \"u_probability_description\": \"Amongst non-matching record comparisons, 99.46% of records are in the all other comparisons comparison level\", \"has_tf_adjustments\": false, \"tf_adjustment_column\": null, \"tf_adjustment_weight\": 1.0, \"is_null_level\": false, \"bayes_factor\": 0.07031489088445009, \"log2_bayes_factor\": -3.830025942436855, \"comparison_vector_value\": 0, \"max_comparison_vector_value\": 2, \"bayes_factor_description\": \"If comparison level is `all other comparisons` then comparison is  14.22 times less likely to be a match\", \"probability_two_random_records_match\": 0.00331556378849066, \"comparison_sort_order\": 0, \"iteration\": 4}, {\"comparison_name\": \"last_name_12\", \"sql_condition\": \"\\\"last_name_12_l\\\" = \\\"last_name_12_r\\\"\", \"label_for_charts\": \"Exact match\", \"m_probability\": 0.8674773296678465, \"u_probability\": 0.0006599706231126029, \"m_probability_description\": \"Amongst matching record comparisons, 86.75% of records are in the exact match comparison level\", \"u_probability_description\": \"Amongst non-matching record comparisons, 0.07% of records are in the exact match comparison level\", \"has_tf_adjustments\": false, \"tf_adjustment_column\": null, \"tf_adjustment_weight\": 1.0, \"is_null_level\": false, \"bayes_factor\": 1314.4180957276324, \"log2_bayes_factor\": 10.360208531928818, \"comparison_vector_value\": 2, \"max_comparison_vector_value\": 2, \"bayes_factor_description\": \"If comparison level is `exact match` then comparison is 1,314.42 times more likely to be a match\", \"probability_two_random_records_match\": 0.00331556378849066, \"comparison_sort_order\": 1, \"iteration\": 4}, {\"comparison_name\": \"last_name_12\", \"sql_condition\": \"jaro_winkler_similarity(\\\"last_name_12_l\\\", \\\"last_name_12_r\\\") >= 0.8333333333333334\", \"label_for_charts\": \"Jaro_winkler_similarity >= 0.8333333333333334\", \"m_probability\": 0.10016923371801535, \"u_probability\": 0.0013437257720127285, \"m_probability_description\": \"Amongst matching record comparisons, 10.02% of records are in the jaro_winkler_similarity >= 0.8333333333333334 comparison level\", \"u_probability_description\": \"Amongst non-matching record comparisons, 0.13% of records are in the jaro_winkler_similarity >= 0.8333333333333334 comparison level\", \"has_tf_adjustments\": false, \"tf_adjustment_column\": null, \"tf_adjustment_weight\": 1.0, \"is_null_level\": false, \"bayes_factor\": 74.54589009480313, \"log2_bayes_factor\": 6.22005691012857, \"comparison_vector_value\": 1, \"max_comparison_vector_value\": 2, \"bayes_factor_description\": \"If comparison level is `jaro_winkler_similarity >= 0.8333333333333334` then comparison is 74.55 times more likely to be a match\", \"probability_two_random_records_match\": 0.00331556378849066, \"comparison_sort_order\": 1, \"iteration\": 4}, {\"comparison_name\": \"last_name_12\", \"sql_condition\": \"ELSE\", \"label_for_charts\": \"All other comparisons\", \"m_probability\": 0.03235343661413804, \"u_probability\": 0.9979963036048747, \"m_probability_description\": \"Amongst matching record comparisons, 3.24% of records are in the all other comparisons comparison level\", \"u_probability_description\": \"Amongst non-matching record comparisons, 99.80% of records are in the all other comparisons comparison level\", \"has_tf_adjustments\": false, \"tf_adjustment_column\": null, \"tf_adjustment_weight\": 1.0, \"is_null_level\": false, \"bayes_factor\": 0.03241839323179234, \"log2_bayes_factor\": -4.947043602126243, \"comparison_vector_value\": 0, \"max_comparison_vector_value\": 2, \"bayes_factor_description\": \"If comparison level is `all other comparisons` then comparison is  30.85 times less likely to be a match\", \"probability_two_random_records_match\": 0.00331556378849066, \"comparison_sort_order\": 1, \"iteration\": 4}, {\"comparison_name\": \"middle_initial\", \"sql_condition\": \"\\\"middle_initial_l\\\" = \\\"middle_initial_r\\\"\", \"label_for_charts\": \"Exact match\", \"m_probability\": 0.9160596162541339, \"u_probability\": 0.07356305686300955, \"m_probability_description\": \"Amongst matching record comparisons, 91.61% of records are in the exact match comparison level\", \"u_probability_description\": \"Amongst non-matching record comparisons, 7.36% of records are in the exact match comparison level\", \"has_tf_adjustments\": false, \"tf_adjustment_column\": null, \"tf_adjustment_weight\": 1.0, \"is_null_level\": false, \"bayes_factor\": 12.452712751728583, \"log2_bayes_factor\": 3.638388154220833, \"comparison_vector_value\": 1, \"max_comparison_vector_value\": 1, \"bayes_factor_description\": \"If comparison level is `exact match` then comparison is 12.45 times more likely to be a match\", \"probability_two_random_records_match\": 0.00331556378849066, \"comparison_sort_order\": 2, \"iteration\": 4}, {\"comparison_name\": \"middle_initial\", \"sql_condition\": \"ELSE\", \"label_for_charts\": \"All other comparisons\", \"m_probability\": 0.08394038374586608, \"u_probability\": 0.9264369431369904, \"m_probability_description\": \"Amongst matching record comparisons, 8.39% of records are in the all other comparisons comparison level\", \"u_probability_description\": \"Amongst non-matching record comparisons, 92.64% of records are in the all other comparisons comparison level\", \"has_tf_adjustments\": false, \"tf_adjustment_column\": null, \"tf_adjustment_weight\": 1.0, \"is_null_level\": false, \"bayes_factor\": 0.09060560933768158, \"log2_bayes_factor\": -3.4642558203735465, \"comparison_vector_value\": 0, \"max_comparison_vector_value\": 1, \"bayes_factor_description\": \"If comparison level is `all other comparisons` then comparison is  11.04 times less likely to be a match\", \"probability_two_random_records_match\": 0.00331556378849066, \"comparison_sort_order\": 2, \"iteration\": 4}, {\"comparison_name\": \"day_of_birth\", \"sql_condition\": \"\\\"day_of_birth_l\\\" = \\\"day_of_birth_r\\\"\", \"label_for_charts\": \"Exact match\", \"m_probability\": 0.9657359022510021, \"u_probability\": 0.032464174125328385, \"m_probability_description\": \"Amongst matching record comparisons, 96.57% of records are in the exact match comparison level\", \"u_probability_description\": \"Amongst non-matching record comparisons, 3.25% of records are in the exact match comparison level\", \"has_tf_adjustments\": false, \"tf_adjustment_column\": null, \"tf_adjustment_weight\": 1.0, \"is_null_level\": false, \"bayes_factor\": 29.747742804815104, \"log2_bayes_factor\": 4.894708298842651, \"comparison_vector_value\": 2, \"max_comparison_vector_value\": 2, \"bayes_factor_description\": \"If comparison level is `exact match` then comparison is 29.75 times more likely to be a match\", \"probability_two_random_records_match\": 0.00331556378849066, \"comparison_sort_order\": 3, \"iteration\": 4}, {\"comparison_name\": \"day_of_birth\", \"sql_condition\": \"abs(day_of_birth_l - day_of_birth_r) <= 5\", \"label_for_charts\": \"Inexact match\", \"m_probability\": 0.022555984632540976, \"u_probability\": 0.2965057730184639, \"m_probability_description\": \"Amongst matching record comparisons, 2.26% of records are in the inexact match comparison level\", \"u_probability_description\": \"Amongst non-matching record comparisons, 29.65% of records are in the inexact match comparison level\", \"has_tf_adjustments\": false, \"tf_adjustment_column\": null, \"tf_adjustment_weight\": 1.0, \"is_null_level\": false, \"bayes_factor\": 0.0760726659819078, \"log2_bayes_factor\": -3.7164780243011415, \"comparison_vector_value\": 1, \"max_comparison_vector_value\": 2, \"bayes_factor_description\": \"If comparison level is `inexact match` then comparison is  13.15 times less likely to be a match\", \"probability_two_random_records_match\": 0.00331556378849066, \"comparison_sort_order\": 3, \"iteration\": 4}, {\"comparison_name\": \"day_of_birth\", \"sql_condition\": \"ELSE\", \"label_for_charts\": \"All other comparisons\", \"m_probability\": 0.011708113116456881, \"u_probability\": 0.6710300528562076, \"m_probability_description\": \"Amongst matching record comparisons, 1.17% of records are in the all other comparisons comparison level\", \"u_probability_description\": \"Amongst non-matching record comparisons, 67.10% of records are in the all other comparisons comparison level\", \"has_tf_adjustments\": false, \"tf_adjustment_column\": null, \"tf_adjustment_weight\": 1.0, \"is_null_level\": false, \"bayes_factor\": 0.017447971319051736, \"log2_bayes_factor\": -5.840796886181351, \"comparison_vector_value\": 0, \"max_comparison_vector_value\": 2, \"bayes_factor_description\": \"If comparison level is `all other comparisons` then comparison is  57.31 times less likely to be a match\", \"probability_two_random_records_match\": 0.00331556378849066, \"comparison_sort_order\": 3, \"iteration\": 4}, {\"comparison_name\": \"month_of_birth\", \"sql_condition\": \"\\\"month_of_birth_l\\\" = \\\"month_of_birth_r\\\"\", \"label_for_charts\": \"Exact match\", \"m_probability\": 0.9756664508301034, \"u_probability\": 0.08358610359130632, \"m_probability_description\": \"Amongst matching record comparisons, 97.57% of records are in the exact match comparison level\", \"u_probability_description\": \"Amongst non-matching record comparisons, 8.36% of records are in the exact match comparison level\", \"has_tf_adjustments\": false, \"tf_adjustment_column\": null, \"tf_adjustment_weight\": 1.0, \"is_null_level\": false, \"bayes_factor\": 11.6725916020756, \"log2_bayes_factor\": 3.545053005235865, \"comparison_vector_value\": 2, \"max_comparison_vector_value\": 2, \"bayes_factor_description\": \"If comparison level is `exact match` then comparison is 11.67 times more likely to be a match\", \"probability_two_random_records_match\": 0.00331556378849066, \"comparison_sort_order\": 4, \"iteration\": 4}, {\"comparison_name\": \"month_of_birth\", \"sql_condition\": \"abs(month_of_birth_l - month_of_birth_r) <= 3\", \"label_for_charts\": \"Inexact match\", \"m_probability\": 0.011831461936411884, \"u_probability\": 0.419960264938525, \"m_probability_description\": \"Amongst matching record comparisons, 1.18% of records are in the inexact match comparison level\", \"u_probability_description\": \"Amongst non-matching record comparisons, 42.00% of records are in the inexact match comparison level\", \"has_tf_adjustments\": false, \"tf_adjustment_column\": null, \"tf_adjustment_weight\": 1.0, \"is_null_level\": false, \"bayes_factor\": 0.028172812821098223, \"log2_bayes_factor\": -5.149552577767183, \"comparison_vector_value\": 1, \"max_comparison_vector_value\": 2, \"bayes_factor_description\": \"If comparison level is `inexact match` then comparison is  35.50 times less likely to be a match\", \"probability_two_random_records_match\": 0.00331556378849066, \"comparison_sort_order\": 4, \"iteration\": 4}, {\"comparison_name\": \"month_of_birth\", \"sql_condition\": \"ELSE\", \"label_for_charts\": \"All other comparisons\", \"m_probability\": 0.012502087233484789, \"u_probability\": 0.4964536314701687, \"m_probability_description\": \"Amongst matching record comparisons, 1.25% of records are in the all other comparisons comparison level\", \"u_probability_description\": \"Amongst non-matching record comparisons, 49.65% of records are in the all other comparisons comparison level\", \"has_tf_adjustments\": false, \"tf_adjustment_column\": null, \"tf_adjustment_weight\": 1.0, \"is_null_level\": false, \"bayes_factor\": 0.025182789370402713, \"log2_bayes_factor\": -5.3114180978231085, \"comparison_vector_value\": 0, \"max_comparison_vector_value\": 2, \"bayes_factor_description\": \"If comparison level is `all other comparisons` then comparison is  39.71 times less likely to be a match\", \"probability_two_random_records_match\": 0.00331556378849066, \"comparison_sort_order\": 4, \"iteration\": 4}, {\"comparison_name\": \"year_of_birth\", \"sql_condition\": \"\\\"year_of_birth_l\\\" = \\\"year_of_birth_r\\\"\", \"label_for_charts\": \"Exact match\", \"m_probability\": 0.9604051498184399, \"u_probability\": 0.010988145230220372, \"m_probability_description\": \"Amongst matching record comparisons, 96.04% of records are in the exact match comparison level\", \"u_probability_description\": \"Amongst non-matching record comparisons, 1.10% of records are in the exact match comparison level\", \"has_tf_adjustments\": false, \"tf_adjustment_column\": null, \"tf_adjustment_weight\": 1.0, \"is_null_level\": false, \"bayes_factor\": 87.40375465525028, \"log2_bayes_factor\": 6.449623350656272, \"comparison_vector_value\": 2, \"max_comparison_vector_value\": 2, \"bayes_factor_description\": \"If comparison level is `exact match` then comparison is 87.40 times more likely to be a match\", \"probability_two_random_records_match\": 0.00331556378849066, \"comparison_sort_order\": 5, \"iteration\": 4}, {\"comparison_name\": \"year_of_birth\", \"sql_condition\": \"abs(year_of_birth_l - year_of_birth_r) <= 5\", \"label_for_charts\": \"Inexact match\", \"m_probability\": 0.011663522028940587, \"u_probability\": 0.10851628136997345, \"m_probability_description\": \"Amongst matching record comparisons, 1.17% of records are in the inexact match comparison level\", \"u_probability_description\": \"Amongst non-matching record comparisons, 10.85% of records are in the inexact match comparison level\", \"has_tf_adjustments\": false, \"tf_adjustment_column\": null, \"tf_adjustment_weight\": 1.0, \"is_null_level\": false, \"bayes_factor\": 0.107481770308505, \"log2_bayes_factor\": -3.217836105916504, \"comparison_vector_value\": 1, \"max_comparison_vector_value\": 2, \"bayes_factor_description\": \"If comparison level is `inexact match` then comparison is  9.30 times less likely to be a match\", \"probability_two_random_records_match\": 0.00331556378849066, \"comparison_sort_order\": 5, \"iteration\": 4}, {\"comparison_name\": \"year_of_birth\", \"sql_condition\": \"ELSE\", \"label_for_charts\": \"All other comparisons\", \"m_probability\": 0.027931328152619485, \"u_probability\": 0.8804955733998062, \"m_probability_description\": \"Amongst matching record comparisons, 2.79% of records are in the all other comparisons comparison level\", \"u_probability_description\": \"Amongst non-matching record comparisons, 88.05% of records are in the all other comparisons comparison level\", \"has_tf_adjustments\": false, \"tf_adjustment_column\": null, \"tf_adjustment_weight\": 1.0, \"is_null_level\": false, \"bayes_factor\": 0.03172228117487278, \"log2_bayes_factor\": -4.978359669636274, \"comparison_vector_value\": 0, \"max_comparison_vector_value\": 2, \"bayes_factor_description\": \"If comparison level is `all other comparisons` then comparison is  31.52 times less likely to be a match\", \"probability_two_random_records_match\": 0.00331556378849066, \"comparison_sort_order\": 5, \"iteration\": 4}, {\"comparison_name\": \"first_name_15\", \"sql_condition\": \"\\\"first_name_15_l\\\" = \\\"first_name_15_r\\\"\", \"label_for_charts\": \"Exact match\", \"m_probability\": 0.8372714157959069, \"u_probability\": 0.0019545817948697793, \"m_probability_description\": \"Amongst matching record comparisons, 83.73% of records are in the exact match comparison level\", \"u_probability_description\": \"Amongst non-matching record comparisons, 0.20% of records are in the exact match comparison level\", \"has_tf_adjustments\": false, \"tf_adjustment_column\": null, \"tf_adjustment_weight\": 1.0, \"is_null_level\": false, \"bayes_factor\": 428.36345759154517, \"log2_bayes_factor\": 8.742691603102694, \"comparison_vector_value\": 2, \"max_comparison_vector_value\": 2, \"bayes_factor_description\": \"If comparison level is `exact match` then comparison is 428.36 times more likely to be a match\", \"probability_two_random_records_match\": 0.00331556378849066, \"comparison_sort_order\": 0, \"iteration\": 5}, {\"comparison_name\": \"first_name_15\", \"sql_condition\": \"jaro_winkler_similarity(\\\"first_name_15_l\\\", \\\"first_name_15_r\\\") >= 0.8333333333333334\", \"label_for_charts\": \"Jaro_winkler_similarity >= 0.8333333333333334\", \"m_probability\": 0.0927154274520385, \"u_probability\": 0.00346135405752317, \"m_probability_description\": \"Amongst matching record comparisons, 9.27% of records are in the jaro_winkler_similarity >= 0.8333333333333334 comparison level\", \"u_probability_description\": \"Amongst non-matching record comparisons, 0.35% of records are in the jaro_winkler_similarity >= 0.8333333333333334 comparison level\", \"has_tf_adjustments\": false, \"tf_adjustment_column\": null, \"tf_adjustment_weight\": 1.0, \"is_null_level\": false, \"bayes_factor\": 26.785883764338916, \"log2_bayes_factor\": 4.74340099151969, \"comparison_vector_value\": 1, \"max_comparison_vector_value\": 2, \"bayes_factor_description\": \"If comparison level is `jaro_winkler_similarity >= 0.8333333333333334` then comparison is 26.79 times more likely to be a match\", \"probability_two_random_records_match\": 0.00331556378849066, \"comparison_sort_order\": 0, \"iteration\": 5}, {\"comparison_name\": \"first_name_15\", \"sql_condition\": \"ELSE\", \"label_for_charts\": \"All other comparisons\", \"m_probability\": 0.07001315675205473, \"u_probability\": 0.994584064147607, \"m_probability_description\": \"Amongst matching record comparisons, 7.00% of records are in the all other comparisons comparison level\", \"u_probability_description\": \"Amongst non-matching record comparisons, 99.46% of records are in the all other comparisons comparison level\", \"has_tf_adjustments\": false, \"tf_adjustment_column\": null, \"tf_adjustment_weight\": 1.0, \"is_null_level\": false, \"bayes_factor\": 0.07039440835205663, \"log2_bayes_factor\": -3.828395354138644, \"comparison_vector_value\": 0, \"max_comparison_vector_value\": 2, \"bayes_factor_description\": \"If comparison level is `all other comparisons` then comparison is  14.21 times less likely to be a match\", \"probability_two_random_records_match\": 0.00331556378849066, \"comparison_sort_order\": 0, \"iteration\": 5}, {\"comparison_name\": \"last_name_12\", \"sql_condition\": \"\\\"last_name_12_l\\\" = \\\"last_name_12_r\\\"\", \"label_for_charts\": \"Exact match\", \"m_probability\": 0.8674776719314992, \"u_probability\": 0.0006599706231126029, \"m_probability_description\": \"Amongst matching record comparisons, 86.75% of records are in the exact match comparison level\", \"u_probability_description\": \"Amongst non-matching record comparisons, 0.07% of records are in the exact match comparison level\", \"has_tf_adjustments\": false, \"tf_adjustment_column\": null, \"tf_adjustment_weight\": 1.0, \"is_null_level\": false, \"bayes_factor\": 1314.4186143320076, \"log2_bayes_factor\": 10.36020910114482, \"comparison_vector_value\": 2, \"max_comparison_vector_value\": 2, \"bayes_factor_description\": \"If comparison level is `exact match` then comparison is 1,314.42 times more likely to be a match\", \"probability_two_random_records_match\": 0.00331556378849066, \"comparison_sort_order\": 1, \"iteration\": 5}, {\"comparison_name\": \"last_name_12\", \"sql_condition\": \"jaro_winkler_similarity(\\\"last_name_12_l\\\", \\\"last_name_12_r\\\") >= 0.8333333333333334\", \"label_for_charts\": \"Jaro_winkler_similarity >= 0.8333333333333334\", \"m_probability\": 0.10016053558011556, \"u_probability\": 0.0013437257720127285, \"m_probability_description\": \"Amongst matching record comparisons, 10.02% of records are in the jaro_winkler_similarity >= 0.8333333333333334 comparison level\", \"u_probability_description\": \"Amongst non-matching record comparisons, 0.13% of records are in the jaro_winkler_similarity >= 0.8333333333333334 comparison level\", \"has_tf_adjustments\": false, \"tf_adjustment_column\": null, \"tf_adjustment_weight\": 1.0, \"is_null_level\": false, \"bayes_factor\": 74.53941694523574, \"log2_bayes_factor\": 6.219931629093556, \"comparison_vector_value\": 1, \"max_comparison_vector_value\": 2, \"bayes_factor_description\": \"If comparison level is `jaro_winkler_similarity >= 0.8333333333333334` then comparison is 74.54 times more likely to be a match\", \"probability_two_random_records_match\": 0.00331556378849066, \"comparison_sort_order\": 1, \"iteration\": 5}, {\"comparison_name\": \"last_name_12\", \"sql_condition\": \"ELSE\", \"label_for_charts\": \"All other comparisons\", \"m_probability\": 0.03236179248838535, \"u_probability\": 0.9979963036048747, \"m_probability_description\": \"Amongst matching record comparisons, 3.24% of records are in the all other comparisons comparison level\", \"u_probability_description\": \"Amongst non-matching record comparisons, 99.80% of records are in the all other comparisons comparison level\", \"has_tf_adjustments\": false, \"tf_adjustment_column\": null, \"tf_adjustment_weight\": 1.0, \"is_null_level\": false, \"bayes_factor\": 0.032426765882289266, \"log2_bayes_factor\": -4.9466710475182145, \"comparison_vector_value\": 0, \"max_comparison_vector_value\": 2, \"bayes_factor_description\": \"If comparison level is `all other comparisons` then comparison is  30.84 times less likely to be a match\", \"probability_two_random_records_match\": 0.00331556378849066, \"comparison_sort_order\": 1, \"iteration\": 5}, {\"comparison_name\": \"middle_initial\", \"sql_condition\": \"\\\"middle_initial_l\\\" = \\\"middle_initial_r\\\"\", \"label_for_charts\": \"Exact match\", \"m_probability\": 0.916017709448319, \"u_probability\": 0.07356305686300955, \"m_probability_description\": \"Amongst matching record comparisons, 91.60% of records are in the exact match comparison level\", \"u_probability_description\": \"Amongst non-matching record comparisons, 7.36% of records are in the exact match comparison level\", \"has_tf_adjustments\": false, \"tf_adjustment_column\": null, \"tf_adjustment_weight\": 1.0, \"is_null_level\": false, \"bayes_factor\": 12.452143079836167, \"log2_bayes_factor\": 3.638322154014301, \"comparison_vector_value\": 1, \"max_comparison_vector_value\": 1, \"bayes_factor_description\": \"If comparison level is `exact match` then comparison is 12.45 times more likely to be a match\", \"probability_two_random_records_match\": 0.00331556378849066, \"comparison_sort_order\": 2, \"iteration\": 5}, {\"comparison_name\": \"middle_initial\", \"sql_condition\": \"ELSE\", \"label_for_charts\": \"All other comparisons\", \"m_probability\": 0.08398229055168108, \"u_probability\": 0.9264369431369904, \"m_probability_description\": \"Amongst matching record comparisons, 8.40% of records are in the all other comparisons comparison level\", \"u_probability_description\": \"Amongst non-matching record comparisons, 92.64% of records are in the all other comparisons comparison level\", \"has_tf_adjustments\": false, \"tf_adjustment_column\": null, \"tf_adjustment_weight\": 1.0, \"is_null_level\": false, \"bayes_factor\": 0.0906508437231683, \"log2_bayes_factor\": -3.46353574201085, \"comparison_vector_value\": 0, \"max_comparison_vector_value\": 1, \"bayes_factor_description\": \"If comparison level is `all other comparisons` then comparison is  11.03 times less likely to be a match\", \"probability_two_random_records_match\": 0.00331556378849066, \"comparison_sort_order\": 2, \"iteration\": 5}, {\"comparison_name\": \"day_of_birth\", \"sql_condition\": \"\\\"day_of_birth_l\\\" = \\\"day_of_birth_r\\\"\", \"label_for_charts\": \"Exact match\", \"m_probability\": 0.9656024350827099, \"u_probability\": 0.032464174125328385, \"m_probability_description\": \"Amongst matching record comparisons, 96.56% of records are in the exact match comparison level\", \"u_probability_description\": \"Amongst non-matching record comparisons, 3.25% of records are in the exact match comparison level\", \"has_tf_adjustments\": false, \"tf_adjustment_column\": null, \"tf_adjustment_weight\": 1.0, \"is_null_level\": false, \"bayes_factor\": 29.743631590780303, \"log2_bayes_factor\": 4.8945089009242215, \"comparison_vector_value\": 2, \"max_comparison_vector_value\": 2, \"bayes_factor_description\": \"If comparison level is `exact match` then comparison is 29.74 times more likely to be a match\", \"probability_two_random_records_match\": 0.00331556378849066, \"comparison_sort_order\": 3, \"iteration\": 5}, {\"comparison_name\": \"day_of_birth\", \"sql_condition\": \"abs(day_of_birth_l - day_of_birth_r) <= 5\", \"label_for_charts\": \"Inexact match\", \"m_probability\": 0.022585745024488593, \"u_probability\": 0.2965057730184639, \"m_probability_description\": \"Amongst matching record comparisons, 2.26% of records are in the inexact match comparison level\", \"u_probability_description\": \"Amongst non-matching record comparisons, 29.65% of records are in the inexact match comparison level\", \"has_tf_adjustments\": false, \"tf_adjustment_column\": null, \"tf_adjustment_weight\": 1.0, \"is_null_level\": false, \"bayes_factor\": 0.07617303634449687, \"log2_bayes_factor\": -3.714575785444799, \"comparison_vector_value\": 1, \"max_comparison_vector_value\": 2, \"bayes_factor_description\": \"If comparison level is `inexact match` then comparison is  13.13 times less likely to be a match\", \"probability_two_random_records_match\": 0.00331556378849066, \"comparison_sort_order\": 3, \"iteration\": 5}, {\"comparison_name\": \"day_of_birth\", \"sql_condition\": \"ELSE\", \"label_for_charts\": \"All other comparisons\", \"m_probability\": 0.011811819892801438, \"u_probability\": 0.6710300528562076, \"m_probability_description\": \"Amongst matching record comparisons, 1.18% of records are in the all other comparisons comparison level\", \"u_probability_description\": \"Amongst non-matching record comparisons, 67.10% of records are in the all other comparisons comparison level\", \"has_tf_adjustments\": false, \"tf_adjustment_column\": null, \"tf_adjustment_weight\": 1.0, \"is_null_level\": false, \"bayes_factor\": 0.017602519950522314, \"log2_bayes_factor\": -5.828074212055244, \"comparison_vector_value\": 0, \"max_comparison_vector_value\": 2, \"bayes_factor_description\": \"If comparison level is `all other comparisons` then comparison is  56.81 times less likely to be a match\", \"probability_two_random_records_match\": 0.00331556378849066, \"comparison_sort_order\": 3, \"iteration\": 5}, {\"comparison_name\": \"month_of_birth\", \"sql_condition\": \"\\\"month_of_birth_l\\\" = \\\"month_of_birth_r\\\"\", \"label_for_charts\": \"Exact match\", \"m_probability\": 0.9755483193606873, \"u_probability\": 0.08358610359130632, \"m_probability_description\": \"Amongst matching record comparisons, 97.55% of records are in the exact match comparison level\", \"u_probability_description\": \"Amongst non-matching record comparisons, 8.36% of records are in the exact match comparison level\", \"has_tf_adjustments\": false, \"tf_adjustment_column\": null, \"tf_adjustment_weight\": 1.0, \"is_null_level\": false, \"bayes_factor\": 11.671178311297105, \"log2_bayes_factor\": 3.5448783164338824, \"comparison_vector_value\": 2, \"max_comparison_vector_value\": 2, \"bayes_factor_description\": \"If comparison level is `exact match` then comparison is 11.67 times more likely to be a match\", \"probability_two_random_records_match\": 0.00331556378849066, \"comparison_sort_order\": 4, \"iteration\": 5}, {\"comparison_name\": \"month_of_birth\", \"sql_condition\": \"abs(month_of_birth_l - month_of_birth_r) <= 3\", \"label_for_charts\": \"Inexact match\", \"m_probability\": 0.011902118983525816, \"u_probability\": 0.419960264938525, \"m_probability_description\": \"Amongst matching record comparisons, 1.19% of records are in the inexact match comparison level\", \"u_probability_description\": \"Amongst non-matching record comparisons, 42.00% of records are in the inexact match comparison level\", \"has_tf_adjustments\": false, \"tf_adjustment_column\": null, \"tf_adjustment_weight\": 1.0, \"is_null_level\": false, \"bayes_factor\": 0.028341059803046086, \"log2_bayes_factor\": -5.140962481483124, \"comparison_vector_value\": 1, \"max_comparison_vector_value\": 2, \"bayes_factor_description\": \"If comparison level is `inexact match` then comparison is  35.28 times less likely to be a match\", \"probability_two_random_records_match\": 0.00331556378849066, \"comparison_sort_order\": 4, \"iteration\": 5}, {\"comparison_name\": \"month_of_birth\", \"sql_condition\": \"ELSE\", \"label_for_charts\": \"All other comparisons\", \"m_probability\": 0.012549561655786799, \"u_probability\": 0.4964536314701687, \"m_probability_description\": \"Amongst matching record comparisons, 1.25% of records are in the all other comparisons comparison level\", \"u_probability_description\": \"Amongst non-matching record comparisons, 49.65% of records are in the all other comparisons comparison level\", \"has_tf_adjustments\": false, \"tf_adjustment_column\": null, \"tf_adjustment_weight\": 1.0, \"is_null_level\": false, \"bayes_factor\": 0.025278416472900526, \"log2_bayes_factor\": -5.305950098816986, \"comparison_vector_value\": 0, \"max_comparison_vector_value\": 2, \"bayes_factor_description\": \"If comparison level is `all other comparisons` then comparison is  39.56 times less likely to be a match\", \"probability_two_random_records_match\": 0.00331556378849066, \"comparison_sort_order\": 4, \"iteration\": 5}, {\"comparison_name\": \"year_of_birth\", \"sql_condition\": \"\\\"year_of_birth_l\\\" = \\\"year_of_birth_r\\\"\", \"label_for_charts\": \"Exact match\", \"m_probability\": 0.9602824055517458, \"u_probability\": 0.010988145230220372, \"m_probability_description\": \"Amongst matching record comparisons, 96.03% of records are in the exact match comparison level\", \"u_probability_description\": \"Amongst non-matching record comparisons, 1.10% of records are in the exact match comparison level\", \"has_tf_adjustments\": false, \"tf_adjustment_column\": null, \"tf_adjustment_weight\": 1.0, \"is_null_level\": false, \"bayes_factor\": 87.39258404691535, \"log2_bayes_factor\": 6.44943895570395, \"comparison_vector_value\": 2, \"max_comparison_vector_value\": 2, \"bayes_factor_description\": \"If comparison level is `exact match` then comparison is 87.39 times more likely to be a match\", \"probability_two_random_records_match\": 0.00331556378849066, \"comparison_sort_order\": 5, \"iteration\": 5}, {\"comparison_name\": \"year_of_birth\", \"sql_condition\": \"abs(year_of_birth_l - year_of_birth_r) <= 5\", \"label_for_charts\": \"Inexact match\", \"m_probability\": 0.011693648953771464, \"u_probability\": 0.10851628136997345, \"m_probability_description\": \"Amongst matching record comparisons, 1.17% of records are in the inexact match comparison level\", \"u_probability_description\": \"Amongst non-matching record comparisons, 10.85% of records are in the inexact match comparison level\", \"has_tf_adjustments\": false, \"tf_adjustment_column\": null, \"tf_adjustment_weight\": 1.0, \"is_null_level\": false, \"bayes_factor\": 0.10775939615829028, \"log2_bayes_factor\": -3.214114423253285, \"comparison_vector_value\": 1, \"max_comparison_vector_value\": 2, \"bayes_factor_description\": \"If comparison level is `inexact match` then comparison is  9.28 times less likely to be a match\", \"probability_two_random_records_match\": 0.00331556378849066, \"comparison_sort_order\": 5, \"iteration\": 5}, {\"comparison_name\": \"year_of_birth\", \"sql_condition\": \"ELSE\", \"label_for_charts\": \"All other comparisons\", \"m_probability\": 0.028023945494482793, \"u_probability\": 0.8804955733998062, \"m_probability_description\": \"Amongst matching record comparisons, 2.80% of records are in the all other comparisons comparison level\", \"u_probability_description\": \"Amongst non-matching record comparisons, 88.05% of records are in the all other comparisons comparison level\", \"has_tf_adjustments\": false, \"tf_adjustment_column\": null, \"tf_adjustment_weight\": 1.0, \"is_null_level\": false, \"bayes_factor\": 0.03182746891761825, \"log2_bayes_factor\": -4.973583758694466, \"comparison_vector_value\": 0, \"max_comparison_vector_value\": 2, \"bayes_factor_description\": \"If comparison level is `all other comparisons` then comparison is  31.42 times less likely to be a match\", \"probability_two_random_records_match\": 0.00331556378849066, \"comparison_sort_order\": 5, \"iteration\": 5}, {\"comparison_name\": \"first_name_15\", \"sql_condition\": \"\\\"first_name_15_l\\\" = \\\"first_name_15_r\\\"\", \"label_for_charts\": \"Exact match\", \"m_probability\": 0.8372523321187576, \"u_probability\": 0.0019545817948697793, \"m_probability_description\": \"Amongst matching record comparisons, 83.73% of records are in the exact match comparison level\", \"u_probability_description\": \"Amongst non-matching record comparisons, 0.20% of records are in the exact match comparison level\", \"has_tf_adjustments\": false, \"tf_adjustment_column\": null, \"tf_adjustment_weight\": 1.0, \"is_null_level\": false, \"bayes_factor\": 428.353694031279, \"log2_bayes_factor\": 8.742658719811047, \"comparison_vector_value\": 2, \"max_comparison_vector_value\": 2, \"bayes_factor_description\": \"If comparison level is `exact match` then comparison is 428.35 times more likely to be a match\", \"probability_two_random_records_match\": 0.00331556378849066, \"comparison_sort_order\": 0, \"iteration\": 6}, {\"comparison_name\": \"first_name_15\", \"sql_condition\": \"jaro_winkler_similarity(\\\"first_name_15_l\\\", \\\"first_name_15_r\\\") >= 0.8333333333333334\", \"label_for_charts\": \"Jaro_winkler_similarity >= 0.8333333333333334\", \"m_probability\": 0.09271151034822836, \"u_probability\": 0.00346135405752317, \"m_probability_description\": \"Amongst matching record comparisons, 9.27% of records are in the jaro_winkler_similarity >= 0.8333333333333334 comparison level\", \"u_probability_description\": \"Amongst non-matching record comparisons, 0.35% of records are in the jaro_winkler_similarity >= 0.8333333333333334 comparison level\", \"has_tf_adjustments\": false, \"tf_adjustment_column\": null, \"tf_adjustment_weight\": 1.0, \"is_null_level\": false, \"bayes_factor\": 26.78475209628501, \"log2_bayes_factor\": 4.743340038280539, \"comparison_vector_value\": 1, \"max_comparison_vector_value\": 2, \"bayes_factor_description\": \"If comparison level is `jaro_winkler_similarity >= 0.8333333333333334` then comparison is 26.78 times more likely to be a match\", \"probability_two_random_records_match\": 0.00331556378849066, \"comparison_sort_order\": 0, \"iteration\": 6}, {\"comparison_name\": \"first_name_15\", \"sql_condition\": \"ELSE\", \"label_for_charts\": \"All other comparisons\", \"m_probability\": 0.07003615753301401, \"u_probability\": 0.994584064147607, \"m_probability_description\": \"Amongst matching record comparisons, 7.00% of records are in the all other comparisons comparison level\", \"u_probability_description\": \"Amongst non-matching record comparisons, 99.46% of records are in the all other comparisons comparison level\", \"has_tf_adjustments\": false, \"tf_adjustment_column\": null, \"tf_adjustment_weight\": 1.0, \"is_null_level\": false, \"bayes_factor\": 0.0704175343821112, \"log2_bayes_factor\": -3.827921476589236, \"comparison_vector_value\": 0, \"max_comparison_vector_value\": 2, \"bayes_factor_description\": \"If comparison level is `all other comparisons` then comparison is  14.20 times less likely to be a match\", \"probability_two_random_records_match\": 0.00331556378849066, \"comparison_sort_order\": 0, \"iteration\": 6}, {\"comparison_name\": \"last_name_12\", \"sql_condition\": \"\\\"last_name_12_l\\\" = \\\"last_name_12_r\\\"\", \"label_for_charts\": \"Exact match\", \"m_probability\": 0.8674794422791565, \"u_probability\": 0.0006599706231126029, \"m_probability_description\": \"Amongst matching record comparisons, 86.75% of records are in the exact match comparison level\", \"u_probability_description\": \"Amongst non-matching record comparisons, 0.07% of records are in the exact match comparison level\", \"has_tf_adjustments\": false, \"tf_adjustment_column\": null, \"tf_adjustment_weight\": 1.0, \"is_null_level\": false, \"bayes_factor\": 1314.4212967963406, \"log2_bayes_factor\": 10.360212045392565, \"comparison_vector_value\": 2, \"max_comparison_vector_value\": 2, \"bayes_factor_description\": \"If comparison level is `exact match` then comparison is 1,314.42 times more likely to be a match\", \"probability_two_random_records_match\": 0.00331556378849066, \"comparison_sort_order\": 1, \"iteration\": 6}, {\"comparison_name\": \"last_name_12\", \"sql_condition\": \"jaro_winkler_similarity(\\\"last_name_12_l\\\", \\\"last_name_12_r\\\") >= 0.8333333333333334\", \"label_for_charts\": \"Jaro_winkler_similarity >= 0.8333333333333334\", \"m_probability\": 0.10015722267965466, \"u_probability\": 0.0013437257720127285, \"m_probability_description\": \"Amongst matching record comparisons, 10.02% of records are in the jaro_winkler_similarity >= 0.8333333333333334 comparison level\", \"u_probability_description\": \"Amongst non-matching record comparisons, 0.13% of records are in the jaro_winkler_similarity >= 0.8333333333333334 comparison level\", \"has_tf_adjustments\": false, \"tf_adjustment_column\": null, \"tf_adjustment_weight\": 1.0, \"is_null_level\": false, \"bayes_factor\": 74.53695148648671, \"log2_bayes_factor\": 6.2198839098587975, \"comparison_vector_value\": 1, \"max_comparison_vector_value\": 2, \"bayes_factor_description\": \"If comparison level is `jaro_winkler_similarity >= 0.8333333333333334` then comparison is 74.54 times more likely to be a match\", \"probability_two_random_records_match\": 0.00331556378849066, \"comparison_sort_order\": 1, \"iteration\": 6}, {\"comparison_name\": \"last_name_12\", \"sql_condition\": \"ELSE\", \"label_for_charts\": \"All other comparisons\", \"m_probability\": 0.03236333504118876, \"u_probability\": 0.9979963036048747, \"m_probability_description\": \"Amongst matching record comparisons, 3.24% of records are in the all other comparisons comparison level\", \"u_probability_description\": \"Amongst non-matching record comparisons, 99.80% of records are in the all other comparisons comparison level\", \"has_tf_adjustments\": false, \"tf_adjustment_column\": null, \"tf_adjustment_weight\": 1.0, \"is_null_level\": false, \"bayes_factor\": 0.03242831153210564, \"log2_bayes_factor\": -4.9466022818513045, \"comparison_vector_value\": 0, \"max_comparison_vector_value\": 2, \"bayes_factor_description\": \"If comparison level is `all other comparisons` then comparison is  30.84 times less likely to be a match\", \"probability_two_random_records_match\": 0.00331556378849066, \"comparison_sort_order\": 1, \"iteration\": 6}, {\"comparison_name\": \"middle_initial\", \"sql_condition\": \"\\\"middle_initial_l\\\" = \\\"middle_initial_r\\\"\", \"label_for_charts\": \"Exact match\", \"m_probability\": 0.9160062079646051, \"u_probability\": 0.07356305686300955, \"m_probability_description\": \"Amongst matching record comparisons, 91.60% of records are in the exact match comparison level\", \"u_probability_description\": \"Amongst non-matching record comparisons, 7.36% of records are in the exact match comparison level\", \"has_tf_adjustments\": false, \"tf_adjustment_column\": null, \"tf_adjustment_weight\": 1.0, \"is_null_level\": false, \"bayes_factor\": 12.451986731198627, \"log2_bayes_factor\": 3.638304039476211, \"comparison_vector_value\": 1, \"max_comparison_vector_value\": 1, \"bayes_factor_description\": \"If comparison level is `exact match` then comparison is 12.45 times more likely to be a match\", \"probability_two_random_records_match\": 0.00331556378849066, \"comparison_sort_order\": 2, \"iteration\": 6}, {\"comparison_name\": \"middle_initial\", \"sql_condition\": \"ELSE\", \"label_for_charts\": \"All other comparisons\", \"m_probability\": 0.08399379203539493, \"u_probability\": 0.9264369431369904, \"m_probability_description\": \"Amongst matching record comparisons, 8.40% of records are in the all other comparisons comparison level\", \"u_probability_description\": \"Amongst non-matching record comparisons, 92.64% of records are in the all other comparisons comparison level\", \"has_tf_adjustments\": false, \"tf_adjustment_column\": null, \"tf_adjustment_weight\": 1.0, \"is_null_level\": false, \"bayes_factor\": 0.09066325847389588, \"log2_bayes_factor\": -3.4633381765802573, \"comparison_vector_value\": 0, \"max_comparison_vector_value\": 1, \"bayes_factor_description\": \"If comparison level is `all other comparisons` then comparison is  11.03 times less likely to be a match\", \"probability_two_random_records_match\": 0.00331556378849066, \"comparison_sort_order\": 2, \"iteration\": 6}, {\"comparison_name\": \"day_of_birth\", \"sql_condition\": \"\\\"day_of_birth_l\\\" = \\\"day_of_birth_r\\\"\", \"label_for_charts\": \"Exact match\", \"m_probability\": 0.9655496913180399, \"u_probability\": 0.032464174125328385, \"m_probability_description\": \"Amongst matching record comparisons, 96.55% of records are in the exact match comparison level\", \"u_probability_description\": \"Amongst non-matching record comparisons, 3.25% of records are in the exact match comparison level\", \"has_tf_adjustments\": false, \"tf_adjustment_column\": null, \"tf_adjustment_weight\": 1.0, \"is_null_level\": false, \"bayes_factor\": 29.742006914776955, \"log2_bayes_factor\": 4.894430094944407, \"comparison_vector_value\": 2, \"max_comparison_vector_value\": 2, \"bayes_factor_description\": \"If comparison level is `exact match` then comparison is 29.74 times more likely to be a match\", \"probability_two_random_records_match\": 0.00331556378849066, \"comparison_sort_order\": 3, \"iteration\": 6}, {\"comparison_name\": \"day_of_birth\", \"sql_condition\": \"abs(day_of_birth_l - day_of_birth_r) <= 5\", \"label_for_charts\": \"Inexact match\", \"m_probability\": 0.022596663726275338, \"u_probability\": 0.2965057730184639, \"m_probability_description\": \"Amongst matching record comparisons, 2.26% of records are in the inexact match comparison level\", \"u_probability_description\": \"Amongst non-matching record comparisons, 29.65% of records are in the inexact match comparison level\", \"has_tf_adjustments\": false, \"tf_adjustment_column\": null, \"tf_adjustment_weight\": 1.0, \"is_null_level\": false, \"bayes_factor\": 0.07620986092863766, \"log2_bayes_factor\": -3.7138785071162257, \"comparison_vector_value\": 1, \"max_comparison_vector_value\": 2, \"bayes_factor_description\": \"If comparison level is `inexact match` then comparison is  13.12 times less likely to be a match\", \"probability_two_random_records_match\": 0.00331556378849066, \"comparison_sort_order\": 3, \"iteration\": 6}, {\"comparison_name\": \"day_of_birth\", \"sql_condition\": \"ELSE\", \"label_for_charts\": \"All other comparisons\", \"m_probability\": 0.011853644955684764, \"u_probability\": 0.6710300528562076, \"m_probability_description\": \"Amongst matching record comparisons, 1.19% of records are in the all other comparisons comparison level\", \"u_probability_description\": \"Amongst non-matching record comparisons, 67.10% of records are in the all other comparisons comparison level\", \"has_tf_adjustments\": false, \"tf_adjustment_column\": null, \"tf_adjustment_weight\": 1.0, \"is_null_level\": false, \"bayes_factor\": 0.017664849592399456, \"log2_bayes_factor\": -5.822974724340284, \"comparison_vector_value\": 0, \"max_comparison_vector_value\": 2, \"bayes_factor_description\": \"If comparison level is `all other comparisons` then comparison is  56.61 times less likely to be a match\", \"probability_two_random_records_match\": 0.00331556378849066, \"comparison_sort_order\": 3, \"iteration\": 6}, {\"comparison_name\": \"month_of_birth\", \"sql_condition\": \"\\\"month_of_birth_l\\\" = \\\"month_of_birth_r\\\"\", \"label_for_charts\": \"Exact match\", \"m_probability\": 0.9755012422185522, \"u_probability\": 0.08358610359130632, \"m_probability_description\": \"Amongst matching record comparisons, 97.55% of records are in the exact match comparison level\", \"u_probability_description\": \"Amongst non-matching record comparisons, 8.36% of records are in the exact match comparison level\", \"has_tf_adjustments\": false, \"tf_adjustment_column\": null, \"tf_adjustment_weight\": 1.0, \"is_null_level\": false, \"bayes_factor\": 11.670615093966562, \"log2_bayes_factor\": 3.5448086944613317, \"comparison_vector_value\": 2, \"max_comparison_vector_value\": 2, \"bayes_factor_description\": \"If comparison level is `exact match` then comparison is 11.67 times more likely to be a match\", \"probability_two_random_records_match\": 0.00331556378849066, \"comparison_sort_order\": 4, \"iteration\": 6}, {\"comparison_name\": \"month_of_birth\", \"sql_condition\": \"abs(month_of_birth_l - month_of_birth_r) <= 3\", \"label_for_charts\": \"Inexact match\", \"m_probability\": 0.011930722664949819, \"u_probability\": 0.419960264938525, \"m_probability_description\": \"Amongst matching record comparisons, 1.19% of records are in the inexact match comparison level\", \"u_probability_description\": \"Amongst non-matching record comparisons, 42.00% of records are in the inexact match comparison level\", \"has_tf_adjustments\": false, \"tf_adjustment_column\": null, \"tf_adjustment_weight\": 1.0, \"is_null_level\": false, \"bayes_factor\": 0.028409170250181342, \"log2_bayes_factor\": -5.137499494587642, \"comparison_vector_value\": 1, \"max_comparison_vector_value\": 2, \"bayes_factor_description\": \"If comparison level is `inexact match` then comparison is  35.20 times less likely to be a match\", \"probability_two_random_records_match\": 0.00331556378849066, \"comparison_sort_order\": 4, \"iteration\": 6}, {\"comparison_name\": \"month_of_birth\", \"sql_condition\": \"ELSE\", \"label_for_charts\": \"All other comparisons\", \"m_probability\": 0.012568035116498042, \"u_probability\": 0.4964536314701687, \"m_probability_description\": \"Amongst matching record comparisons, 1.26% of records are in the all other comparisons comparison level\", \"u_probability_description\": \"Amongst non-matching record comparisons, 49.65% of records are in the all other comparisons comparison level\", \"has_tf_adjustments\": false, \"tf_adjustment_column\": null, \"tf_adjustment_weight\": 1.0, \"is_null_level\": false, \"bayes_factor\": 0.02531562732108495, \"log2_bayes_factor\": -5.3038279551100596, \"comparison_vector_value\": 0, \"max_comparison_vector_value\": 2, \"bayes_factor_description\": \"If comparison level is `all other comparisons` then comparison is  39.50 times less likely to be a match\", \"probability_two_random_records_match\": 0.00331556378849066, \"comparison_sort_order\": 4, \"iteration\": 6}, {\"comparison_name\": \"year_of_birth\", \"sql_condition\": \"\\\"year_of_birth_l\\\" = \\\"year_of_birth_r\\\"\", \"label_for_charts\": \"Exact match\", \"m_probability\": 0.9602339286484203, \"u_probability\": 0.010988145230220372, \"m_probability_description\": \"Amongst matching record comparisons, 96.02% of records are in the exact match comparison level\", \"u_probability_description\": \"Amongst non-matching record comparisons, 1.10% of records are in the exact match comparison level\", \"has_tf_adjustments\": false, \"tf_adjustment_column\": null, \"tf_adjustment_weight\": 1.0, \"is_null_level\": false, \"bayes_factor\": 87.38817230113752, \"log2_bayes_factor\": 6.449366123844315, \"comparison_vector_value\": 2, \"max_comparison_vector_value\": 2, \"bayes_factor_description\": \"If comparison level is `exact match` then comparison is 87.39 times more likely to be a match\", \"probability_two_random_records_match\": 0.00331556378849066, \"comparison_sort_order\": 5, \"iteration\": 6}, {\"comparison_name\": \"year_of_birth\", \"sql_condition\": \"abs(year_of_birth_l - year_of_birth_r) <= 5\", \"label_for_charts\": \"Inexact match\", \"m_probability\": 0.01170533607403398, \"u_probability\": 0.10851628136997345, \"m_probability_description\": \"Amongst matching record comparisons, 1.17% of records are in the inexact match comparison level\", \"u_probability_description\": \"Amongst non-matching record comparisons, 10.85% of records are in the inexact match comparison level\", \"has_tf_adjustments\": false, \"tf_adjustment_column\": null, \"tf_adjustment_weight\": 1.0, \"is_null_level\": false, \"bayes_factor\": 0.10786709539120697, \"log2_bayes_factor\": -3.21267325374725, \"comparison_vector_value\": 1, \"max_comparison_vector_value\": 2, \"bayes_factor_description\": \"If comparison level is `inexact match` then comparison is  9.27 times less likely to be a match\", \"probability_two_random_records_match\": 0.00331556378849066, \"comparison_sort_order\": 5, \"iteration\": 6}, {\"comparison_name\": \"year_of_birth\", \"sql_condition\": \"ELSE\", \"label_for_charts\": \"All other comparisons\", \"m_probability\": 0.028060735277545643, \"u_probability\": 0.8804955733998062, \"m_probability_description\": \"Amongst matching record comparisons, 2.81% of records are in the all other comparisons comparison level\", \"u_probability_description\": \"Amongst non-matching record comparisons, 88.05% of records are in the all other comparisons comparison level\", \"has_tf_adjustments\": false, \"tf_adjustment_column\": null, \"tf_adjustment_weight\": 1.0, \"is_null_level\": false, \"bayes_factor\": 0.03186925195909431, \"log2_bayes_factor\": -4.971691033463177, \"comparison_vector_value\": 0, \"max_comparison_vector_value\": 2, \"bayes_factor_description\": \"If comparison level is `all other comparisons` then comparison is  31.38 times less likely to be a match\", \"probability_two_random_records_match\": 0.00331556378849066, \"comparison_sort_order\": 5, \"iteration\": 6}]}}, {\"mode\": \"vega-lite\"});\n",
       "</script>"
      ],
      "text/plain": [
       "alt.HConcatChart(...)"
      ]
     },
     "execution_count": 55,
     "metadata": {},
     "output_type": "execute_result"
    }
   ],
   "source": [
    "em_session_2.m_u_values_interactive_history_chart()"
   ]
  },
  {
   "cell_type": "code",
   "execution_count": 56,
   "id": "c2226bd7-8baa-4be1-bb4d-f43ac0783ec3",
   "metadata": {
    "execution": {
     "iopub.execute_input": "2024-06-01T00:28:56.227185Z",
     "iopub.status.busy": "2024-06-01T00:28:56.226525Z",
     "iopub.status.idle": "2024-06-01T00:28:56.440221Z",
     "shell.execute_reply": "2024-06-01T00:28:56.438556Z"
    },
    "papermill": {
     "duration": 0.245602,
     "end_time": "2024-06-01T00:28:56.443581",
     "exception": false,
     "start_time": "2024-06-01T00:28:56.197979",
     "status": "completed"
    },
    "tags": []
   },
   "outputs": [
    {
     "data": {
      "text/html": [
       "\n",
       "<style>\n",
       "  #altair-viz-22a81e5aa85944ea8671c4f7cff81670.vega-embed {\n",
       "    width: 100%;\n",
       "    display: flex;\n",
       "  }\n",
       "\n",
       "  #altair-viz-22a81e5aa85944ea8671c4f7cff81670.vega-embed details,\n",
       "  #altair-viz-22a81e5aa85944ea8671c4f7cff81670.vega-embed details summary {\n",
       "    position: relative;\n",
       "  }\n",
       "</style>\n",
       "<div id=\"altair-viz-22a81e5aa85944ea8671c4f7cff81670\"></div>\n",
       "<script type=\"text/javascript\">\n",
       "  var VEGA_DEBUG = (typeof VEGA_DEBUG == \"undefined\") ? {} : VEGA_DEBUG;\n",
       "  (function(spec, embedOpt){\n",
       "    let outputDiv = document.currentScript.previousElementSibling;\n",
       "    if (outputDiv.id !== \"altair-viz-22a81e5aa85944ea8671c4f7cff81670\") {\n",
       "      outputDiv = document.getElementById(\"altair-viz-22a81e5aa85944ea8671c4f7cff81670\");\n",
       "    }\n",
       "    const paths = {\n",
       "      \"vega\": \"https://cdn.jsdelivr.net/npm/vega@5?noext\",\n",
       "      \"vega-lib\": \"https://cdn.jsdelivr.net/npm/vega-lib?noext\",\n",
       "      \"vega-lite\": \"https://cdn.jsdelivr.net/npm/vega-lite@5.17.0?noext\",\n",
       "      \"vega-embed\": \"https://cdn.jsdelivr.net/npm/vega-embed@6?noext\",\n",
       "    };\n",
       "\n",
       "    function maybeLoadScript(lib, version) {\n",
       "      var key = `${lib.replace(\"-\", \"\")}_version`;\n",
       "      return (VEGA_DEBUG[key] == version) ?\n",
       "        Promise.resolve(paths[lib]) :\n",
       "        new Promise(function(resolve, reject) {\n",
       "          var s = document.createElement('script');\n",
       "          document.getElementsByTagName(\"head\")[0].appendChild(s);\n",
       "          s.async = true;\n",
       "          s.onload = () => {\n",
       "            VEGA_DEBUG[key] = version;\n",
       "            return resolve(paths[lib]);\n",
       "          };\n",
       "          s.onerror = () => reject(`Error loading script: ${paths[lib]}`);\n",
       "          s.src = paths[lib];\n",
       "        });\n",
       "    }\n",
       "\n",
       "    function showError(err) {\n",
       "      outputDiv.innerHTML = `<div class=\"error\" style=\"color:red;\">${err}</div>`;\n",
       "      throw err;\n",
       "    }\n",
       "\n",
       "    function displayChart(vegaEmbed) {\n",
       "      vegaEmbed(outputDiv, spec, embedOpt)\n",
       "        .catch(err => showError(`Javascript Error: ${err.message}<br>This usually means there's a typo in your chart specification. See the javascript console for the full traceback.`));\n",
       "    }\n",
       "\n",
       "    if(typeof define === \"function\" && define.amd) {\n",
       "      requirejs.config({paths});\n",
       "      require([\"vega-embed\"], displayChart, err => showError(`Error loading script: ${err.message}`));\n",
       "    } else {\n",
       "      maybeLoadScript(\"vega\", \"5\")\n",
       "        .then(() => maybeLoadScript(\"vega-lite\", \"5.17.0\"))\n",
       "        .then(() => maybeLoadScript(\"vega-embed\", \"6\"))\n",
       "        .catch(showError)\n",
       "        .then(() => displayChart(vegaEmbed));\n",
       "    }\n",
       "  })({\"config\": {\"view\": {\"continuousWidth\": 300, \"continuousHeight\": 300, \"discreteHeight\": 60, \"discreteWidth\": 400}, \"header\": {\"title\": null}, \"mark\": {\"tooltip\": null}, \"title\": {\"anchor\": \"middle\"}}, \"vconcat\": [{\"mark\": {\"type\": \"bar\", \"clip\": true, \"height\": 15}, \"encoding\": {\"color\": {\"field\": \"log2_bayes_factor\", \"scale\": {\"domain\": [-10, 0, 10], \"interpolate\": \"lab\", \"range\": [\"red\", \"#bbbbbb\", \"green\"]}, \"title\": \"Match weight\", \"type\": \"quantitative\"}, \"tooltip\": [{\"field\": \"comparison_name\", \"title\": \"Comparison name\", \"type\": \"nominal\"}, {\"field\": \"probability_two_random_records_match\", \"format\": \".4f\", \"title\": \"Probability two random records match\", \"type\": \"nominal\"}, {\"field\": \"log2_bayes_factor\", \"format\": \",.4f\", \"title\": \"Equivalent match weight\", \"type\": \"quantitative\"}, {\"field\": \"bayes_factor_description\", \"title\": \"Match weight description\", \"type\": \"nominal\"}], \"x\": {\"axis\": {\"domain\": false, \"gridColor\": {\"condition\": {\"test\": \"abs(datum.value / 10)  <= 1 & datum.value % 10 === 0\", \"value\": \"#aaa\"}, \"value\": \"#ddd\"}, \"gridDash\": {\"condition\": {\"test\": \"abs(datum.value / 10) == 1\", \"value\": [3]}, \"value\": null}, \"gridWidth\": {\"condition\": {\"test\": \"abs(datum.value / 10)  <= 1 & datum.value % 10 === 0\", \"value\": 2}, \"value\": 1}, \"labels\": false, \"ticks\": false, \"title\": \"\"}, \"field\": \"log2_bayes_factor\", \"scale\": {\"domain\": [-17, 17]}, \"type\": \"quantitative\"}, \"y\": {\"axis\": {\"title\": \"Prior (starting) match weight\", \"titleAlign\": \"right\", \"titleAngle\": 0, \"titleFontWeight\": \"normal\"}, \"field\": \"label_for_charts\", \"sort\": {\"field\": \"comparison_vector_value\", \"order\": \"descending\"}, \"type\": \"nominal\"}}, \"height\": 20, \"transform\": [{\"filter\": \"(datum.comparison_name == 'probability_two_random_records_match')\"}]}, {\"mark\": {\"type\": \"bar\", \"clip\": true}, \"encoding\": {\"color\": {\"field\": \"log2_bayes_factor\", \"scale\": {\"domain\": [-10, 0, 10], \"interpolate\": \"lab\", \"range\": [\"red\", \"#bbbbbb\", \"green\"]}, \"title\": \"Match weight\", \"type\": \"quantitative\"}, \"row\": {\"field\": \"comparison_name\", \"header\": {\"labelAlign\": \"left\", \"labelAnchor\": \"middle\", \"labelAngle\": 0}, \"sort\": {\"field\": \"comparison_sort_order\"}, \"type\": \"nominal\"}, \"tooltip\": [{\"field\": \"comparison_name\", \"title\": \"Comparison name\", \"type\": \"nominal\"}, {\"field\": \"label_for_charts\", \"title\": \"Label\", \"type\": \"ordinal\"}, {\"field\": \"sql_condition\", \"title\": \"SQL condition\", \"type\": \"nominal\"}, {\"field\": \"m_probability\", \"format\": \".4f\", \"title\": \"M probability\", \"type\": \"quantitative\"}, {\"field\": \"u_probability\", \"format\": \".4f\", \"title\": \"U probability\", \"type\": \"quantitative\"}, {\"field\": \"bayes_factor\", \"format\": \",.4f\", \"title\": \"Bayes factor = m/u\", \"type\": \"quantitative\"}, {\"field\": \"log2_bayes_factor\", \"format\": \",.4f\", \"title\": \"Match weight = log2(m/u)\", \"type\": \"quantitative\"}, {\"field\": \"bayes_factor_description\", \"title\": \"Match weight description\", \"type\": \"nominal\"}], \"x\": {\"axis\": {\"gridColor\": {\"condition\": {\"test\": \"abs(datum.value / 10)  <= 1 & datum.value % 10 === 0\", \"value\": \"#aaa\"}, \"value\": \"#ddd\"}, \"gridDash\": {\"condition\": {\"test\": \"abs(datum.value / 10) == 1\", \"value\": [3]}, \"value\": null}, \"gridWidth\": {\"condition\": {\"test\": \"abs(datum.value / 10)  <= 1 & datum.value % 10 === 0\", \"value\": 2}, \"value\": 1}, \"title\": \"Comparison level match weight = log2(m/u)\"}, \"field\": \"log2_bayes_factor\", \"scale\": {\"domain\": [-17, 17]}, \"type\": \"quantitative\"}, \"y\": {\"axis\": {\"title\": null}, \"field\": \"label_for_charts\", \"sort\": {\"field\": \"comparison_vector_value\", \"order\": \"descending\"}, \"type\": \"nominal\"}}, \"height\": {\"step\": 12}, \"resolve\": {\"axis\": {\"y\": \"independent\"}, \"scale\": {\"y\": \"independent\"}}, \"transform\": [{\"filter\": \"(datum.comparison_name != 'probability_two_random_records_match')\"}]}], \"data\": {\"name\": \"data-96cde37e01a5cabf8934e4861f9d5e17\"}, \"params\": [{\"name\": \"mouse_zoom\", \"select\": {\"type\": \"interval\", \"encodings\": [\"x\"]}, \"bind\": \"scales\", \"views\": []}], \"resolve\": {\"axis\": {\"y\": \"independent\"}, \"scale\": {\"y\": \"independent\"}}, \"title\": {\"text\": \"Model parameters (components of final match weight)\", \"subtitle\": \"Use mousewheel to zoom\"}, \"$schema\": \"https://vega.github.io/schema/vega-lite/v5.9.3.json\", \"datasets\": {\"data-96cde37e01a5cabf8934e4861f9d5e17\": [{\"comparison_name\": \"probability_two_random_records_match\", \"sql_condition\": null, \"label_for_charts\": \"\", \"m_probability\": null, \"u_probability\": null, \"m_probability_description\": null, \"u_probability_description\": null, \"has_tf_adjustments\": false, \"tf_adjustment_column\": null, \"tf_adjustment_weight\": null, \"is_null_level\": false, \"bayes_factor\": 1.4116190080190173e-05, \"log2_bayes_factor\": -16.112289712605417, \"comparison_vector_value\": 0, \"max_comparison_vector_value\": 0, \"bayes_factor_description\": \"The probability that two random records drawn at random match is 0.000 or one in  70,841.6 records.This is equivalent to a starting match weight of -16.112.\", \"probability_two_random_records_match\": 1.4115990816180642e-05, \"comparison_sort_order\": -1}, {\"comparison_name\": \"first_name_15\", \"sql_condition\": \"\\\"first_name_15_l\\\" = \\\"first_name_15_r\\\"\", \"label_for_charts\": \"Exact match\", \"m_probability\": 0.8372523321187576, \"u_probability\": 0.0019545817948697793, \"m_probability_description\": \"Amongst matching record comparisons, 83.73% of records are in the exact match comparison level\", \"u_probability_description\": \"Amongst non-matching record comparisons, 0.20% of records are in the exact match comparison level\", \"has_tf_adjustments\": false, \"tf_adjustment_column\": null, \"tf_adjustment_weight\": 1.0, \"is_null_level\": false, \"bayes_factor\": 428.353694031279, \"log2_bayes_factor\": 8.742658719811047, \"comparison_vector_value\": 2, \"max_comparison_vector_value\": 2, \"bayes_factor_description\": \"If comparison level is `exact match` then comparison is 428.35 times more likely to be a match\", \"probability_two_random_records_match\": 1.4115990816180642e-05, \"comparison_sort_order\": 0}, {\"comparison_name\": \"first_name_15\", \"sql_condition\": \"jaro_winkler_similarity(\\\"first_name_15_l\\\", \\\"first_name_15_r\\\") >= 0.8333333333333334\", \"label_for_charts\": \"Jaro_winkler_similarity >= 0.8333333333333334\", \"m_probability\": 0.09271151034822836, \"u_probability\": 0.00346135405752317, \"m_probability_description\": \"Amongst matching record comparisons, 9.27% of records are in the jaro_winkler_similarity >= 0.8333333333333334 comparison level\", \"u_probability_description\": \"Amongst non-matching record comparisons, 0.35% of records are in the jaro_winkler_similarity >= 0.8333333333333334 comparison level\", \"has_tf_adjustments\": false, \"tf_adjustment_column\": null, \"tf_adjustment_weight\": 1.0, \"is_null_level\": false, \"bayes_factor\": 26.78475209628501, \"log2_bayes_factor\": 4.743340038280539, \"comparison_vector_value\": 1, \"max_comparison_vector_value\": 2, \"bayes_factor_description\": \"If comparison level is `jaro_winkler_similarity >= 0.8333333333333334` then comparison is 26.78 times more likely to be a match\", \"probability_two_random_records_match\": 1.4115990816180642e-05, \"comparison_sort_order\": 0}, {\"comparison_name\": \"first_name_15\", \"sql_condition\": \"ELSE\", \"label_for_charts\": \"All other comparisons\", \"m_probability\": 0.07003615753301401, \"u_probability\": 0.994584064147607, \"m_probability_description\": \"Amongst matching record comparisons, 7.00% of records are in the all other comparisons comparison level\", \"u_probability_description\": \"Amongst non-matching record comparisons, 99.46% of records are in the all other comparisons comparison level\", \"has_tf_adjustments\": false, \"tf_adjustment_column\": null, \"tf_adjustment_weight\": 1.0, \"is_null_level\": false, \"bayes_factor\": 0.0704175343821112, \"log2_bayes_factor\": -3.827921476589236, \"comparison_vector_value\": 0, \"max_comparison_vector_value\": 2, \"bayes_factor_description\": \"If comparison level is `all other comparisons` then comparison is  14.20 times less likely to be a match\", \"probability_two_random_records_match\": 1.4115990816180642e-05, \"comparison_sort_order\": 0}, {\"comparison_name\": \"last_name_12\", \"sql_condition\": \"\\\"last_name_12_l\\\" = \\\"last_name_12_r\\\"\", \"label_for_charts\": \"Exact match\", \"m_probability\": 0.8709609745521045, \"u_probability\": 0.0006599706231126029, \"m_probability_description\": \"Amongst matching record comparisons, 87.10% of records are in the exact match comparison level\", \"u_probability_description\": \"Amongst non-matching record comparisons, 0.07% of records are in the exact match comparison level\", \"has_tf_adjustments\": false, \"tf_adjustment_column\": null, \"tf_adjustment_weight\": 1.0, \"is_null_level\": false, \"bayes_factor\": 1319.6965804999215, \"log2_bayes_factor\": 10.365990553544178, \"comparison_vector_value\": 2, \"max_comparison_vector_value\": 2, \"bayes_factor_description\": \"If comparison level is `exact match` then comparison is 1,319.70 times more likely to be a match\", \"probability_two_random_records_match\": 1.4115990816180642e-05, \"comparison_sort_order\": 1}, {\"comparison_name\": \"last_name_12\", \"sql_condition\": \"jaro_winkler_similarity(\\\"last_name_12_l\\\", \\\"last_name_12_r\\\") >= 0.8333333333333334\", \"label_for_charts\": \"Jaro_winkler_similarity >= 0.8333333333333334\", \"m_probability\": 0.09785535923211258, \"u_probability\": 0.0013437257720127285, \"m_probability_description\": \"Amongst matching record comparisons, 9.79% of records are in the jaro_winkler_similarity >= 0.8333333333333334 comparison level\", \"u_probability_description\": \"Amongst non-matching record comparisons, 0.13% of records are in the jaro_winkler_similarity >= 0.8333333333333334 comparison level\", \"has_tf_adjustments\": false, \"tf_adjustment_column\": null, \"tf_adjustment_weight\": 1.0, \"is_null_level\": false, \"bayes_factor\": 72.82390594141677, \"log2_bayes_factor\": 6.186340217312049, \"comparison_vector_value\": 1, \"max_comparison_vector_value\": 2, \"bayes_factor_description\": \"If comparison level is `jaro_winkler_similarity >= 0.8333333333333334` then comparison is 72.82 times more likely to be a match\", \"probability_two_random_records_match\": 1.4115990816180642e-05, \"comparison_sort_order\": 1}, {\"comparison_name\": \"last_name_12\", \"sql_condition\": \"ELSE\", \"label_for_charts\": \"All other comparisons\", \"m_probability\": 0.031183666215782776, \"u_probability\": 0.9979963036048747, \"m_probability_description\": \"Amongst matching record comparisons, 3.12% of records are in the all other comparisons comparison level\", \"u_probability_description\": \"Amongst non-matching record comparisons, 99.80% of records are in the all other comparisons comparison level\", \"has_tf_adjustments\": false, \"tf_adjustment_column\": null, \"tf_adjustment_weight\": 1.0, \"is_null_level\": false, \"bayes_factor\": 0.031246274262884413, \"log2_bayes_factor\": -5.0001720135329695, \"comparison_vector_value\": 0, \"max_comparison_vector_value\": 2, \"bayes_factor_description\": \"If comparison level is `all other comparisons` then comparison is  32.00 times less likely to be a match\", \"probability_two_random_records_match\": 1.4115990816180642e-05, \"comparison_sort_order\": 1}, {\"comparison_name\": \"middle_initial\", \"sql_condition\": \"\\\"middle_initial_l\\\" = \\\"middle_initial_r\\\"\", \"label_for_charts\": \"Exact match\", \"m_probability\": 0.9285091878795689, \"u_probability\": 0.07356305686300955, \"m_probability_description\": \"Amongst matching record comparisons, 92.85% of records are in the exact match comparison level\", \"u_probability_description\": \"Amongst non-matching record comparisons, 7.36% of records are in the exact match comparison level\", \"has_tf_adjustments\": false, \"tf_adjustment_column\": null, \"tf_adjustment_weight\": 1.0, \"is_null_level\": false, \"bayes_factor\": 12.621949487616527, \"log2_bayes_factor\": 3.6578628498120898, \"comparison_vector_value\": 1, \"max_comparison_vector_value\": 1, \"bayes_factor_description\": \"If comparison level is `exact match` then comparison is 12.62 times more likely to be a match\", \"probability_two_random_records_match\": 1.4115990816180642e-05, \"comparison_sort_order\": 2}, {\"comparison_name\": \"middle_initial\", \"sql_condition\": \"ELSE\", \"label_for_charts\": \"All other comparisons\", \"m_probability\": 0.0714908121204311, \"u_probability\": 0.9264369431369904, \"m_probability_description\": \"Amongst matching record comparisons, 7.15% of records are in the all other comparisons comparison level\", \"u_probability_description\": \"Amongst non-matching record comparisons, 92.64% of records are in the all other comparisons comparison level\", \"has_tf_adjustments\": false, \"tf_adjustment_column\": null, \"tf_adjustment_weight\": 1.0, \"is_null_level\": false, \"bayes_factor\": 0.0771674884621477, \"log2_bayes_factor\": -3.6958630380545134, \"comparison_vector_value\": 0, \"max_comparison_vector_value\": 1, \"bayes_factor_description\": \"If comparison level is `all other comparisons` then comparison is  12.96 times less likely to be a match\", \"probability_two_random_records_match\": 1.4115990816180642e-05, \"comparison_sort_order\": 2}, {\"comparison_name\": \"day_of_birth\", \"sql_condition\": \"\\\"day_of_birth_l\\\" = \\\"day_of_birth_r\\\"\", \"label_for_charts\": \"Exact match\", \"m_probability\": 0.9692395648399009, \"u_probability\": 0.032464174125328385, \"m_probability_description\": \"Amongst matching record comparisons, 96.92% of records are in the exact match comparison level\", \"u_probability_description\": \"Amongst non-matching record comparisons, 3.25% of records are in the exact match comparison level\", \"has_tf_adjustments\": false, \"tf_adjustment_column\": null, \"tf_adjustment_weight\": 1.0, \"is_null_level\": false, \"bayes_factor\": 29.855666775878493, \"log2_bayes_factor\": 4.899932884117378, \"comparison_vector_value\": 2, \"max_comparison_vector_value\": 2, \"bayes_factor_description\": \"If comparison level is `exact match` then comparison is 29.86 times more likely to be a match\", \"probability_two_random_records_match\": 1.4115990816180642e-05, \"comparison_sort_order\": 3}, {\"comparison_name\": \"day_of_birth\", \"sql_condition\": \"abs(day_of_birth_l - day_of_birth_r) <= 5\", \"label_for_charts\": \"Inexact match\", \"m_probability\": 0.021080859032800416, \"u_probability\": 0.2965057730184639, \"m_probability_description\": \"Amongst matching record comparisons, 2.11% of records are in the inexact match comparison level\", \"u_probability_description\": \"Amongst non-matching record comparisons, 29.65% of records are in the inexact match comparison level\", \"has_tf_adjustments\": false, \"tf_adjustment_column\": null, \"tf_adjustment_weight\": 1.0, \"is_null_level\": false, \"bayes_factor\": 0.07109763435023464, \"log2_bayes_factor\": -3.8140546322923923, \"comparison_vector_value\": 1, \"max_comparison_vector_value\": 2, \"bayes_factor_description\": \"If comparison level is `inexact match` then comparison is  14.07 times less likely to be a match\", \"probability_two_random_records_match\": 1.4115990816180642e-05, \"comparison_sort_order\": 3}, {\"comparison_name\": \"day_of_birth\", \"sql_condition\": \"ELSE\", \"label_for_charts\": \"All other comparisons\", \"m_probability\": 0.00967957612729868, \"u_probability\": 0.6710300528562076, \"m_probability_description\": \"Amongst matching record comparisons, 0.97% of records are in the all other comparisons comparison level\", \"u_probability_description\": \"Amongst non-matching record comparisons, 67.10% of records are in the all other comparisons comparison level\", \"has_tf_adjustments\": false, \"tf_adjustment_column\": null, \"tf_adjustment_weight\": 1.0, \"is_null_level\": false, \"bayes_factor\": 0.014424951738149467, \"log2_bayes_factor\": -6.1152896977496445, \"comparison_vector_value\": 0, \"max_comparison_vector_value\": 2, \"bayes_factor_description\": \"If comparison level is `all other comparisons` then comparison is  69.32 times less likely to be a match\", \"probability_two_random_records_match\": 1.4115990816180642e-05, \"comparison_sort_order\": 3}, {\"comparison_name\": \"month_of_birth\", \"sql_condition\": \"\\\"month_of_birth_l\\\" = \\\"month_of_birth_r\\\"\", \"label_for_charts\": \"Exact match\", \"m_probability\": 0.979060139161209, \"u_probability\": 0.08358610359130632, \"m_probability_description\": \"Amongst matching record comparisons, 97.91% of records are in the exact match comparison level\", \"u_probability_description\": \"Amongst non-matching record comparisons, 8.36% of records are in the exact match comparison level\", \"has_tf_adjustments\": false, \"tf_adjustment_column\": null, \"tf_adjustment_weight\": 1.0, \"is_null_level\": false, \"bayes_factor\": 11.713192709021548, \"log2_bayes_factor\": 3.550062465146951, \"comparison_vector_value\": 2, \"max_comparison_vector_value\": 2, \"bayes_factor_description\": \"If comparison level is `exact match` then comparison is 11.71 times more likely to be a match\", \"probability_two_random_records_match\": 1.4115990816180642e-05, \"comparison_sort_order\": 4}, {\"comparison_name\": \"month_of_birth\", \"sql_condition\": \"abs(month_of_birth_l - month_of_birth_r) <= 3\", \"label_for_charts\": \"Inexact match\", \"m_probability\": 0.010476721749755221, \"u_probability\": 0.419960264938525, \"m_probability_description\": \"Amongst matching record comparisons, 1.05% of records are in the inexact match comparison level\", \"u_probability_description\": \"Amongst non-matching record comparisons, 42.00% of records are in the inexact match comparison level\", \"has_tf_adjustments\": false, \"tf_adjustment_column\": null, \"tf_adjustment_weight\": 1.0, \"is_null_level\": false, \"bayes_factor\": 0.02494693575662172, \"log2_bayes_factor\": -5.324993570212883, \"comparison_vector_value\": 1, \"max_comparison_vector_value\": 2, \"bayes_factor_description\": \"If comparison level is `inexact match` then comparison is  40.09 times less likely to be a match\", \"probability_two_random_records_match\": 1.4115990816180642e-05, \"comparison_sort_order\": 4}, {\"comparison_name\": \"month_of_birth\", \"sql_condition\": \"ELSE\", \"label_for_charts\": \"All other comparisons\", \"m_probability\": 0.010463139089035851, \"u_probability\": 0.4964536314701687, \"m_probability_description\": \"Amongst matching record comparisons, 1.05% of records are in the all other comparisons comparison level\", \"u_probability_description\": \"Amongst non-matching record comparisons, 49.65% of records are in the all other comparisons comparison level\", \"has_tf_adjustments\": false, \"tf_adjustment_column\": null, \"tf_adjustment_weight\": 1.0, \"is_null_level\": false, \"bayes_factor\": 0.021075763023529356, \"log2_bayes_factor\": -5.568271326563008, \"comparison_vector_value\": 0, \"max_comparison_vector_value\": 2, \"bayes_factor_description\": \"If comparison level is `all other comparisons` then comparison is  47.45 times less likely to be a match\", \"probability_two_random_records_match\": 1.4115990816180642e-05, \"comparison_sort_order\": 4}, {\"comparison_name\": \"year_of_birth\", \"sql_condition\": \"\\\"year_of_birth_l\\\" = \\\"year_of_birth_r\\\"\", \"label_for_charts\": \"Exact match\", \"m_probability\": 0.9630737912709918, \"u_probability\": 0.010988145230220372, \"m_probability_description\": \"Amongst matching record comparisons, 96.31% of records are in the exact match comparison level\", \"u_probability_description\": \"Amongst non-matching record comparisons, 1.10% of records are in the exact match comparison level\", \"has_tf_adjustments\": false, \"tf_adjustment_column\": null, \"tf_adjustment_weight\": 1.0, \"is_null_level\": false, \"bayes_factor\": 87.64662016136066, \"log2_bayes_factor\": 6.4536265535794355, \"comparison_vector_value\": 2, \"max_comparison_vector_value\": 2, \"bayes_factor_description\": \"If comparison level is `exact match` then comparison is 87.65 times more likely to be a match\", \"probability_two_random_records_match\": 1.4115990816180642e-05, \"comparison_sort_order\": 5}, {\"comparison_name\": \"year_of_birth\", \"sql_condition\": \"abs(year_of_birth_l - year_of_birth_r) <= 5\", \"label_for_charts\": \"Inexact match\", \"m_probability\": 0.011291382191916863, \"u_probability\": 0.10851628136997345, \"m_probability_description\": \"Amongst matching record comparisons, 1.13% of records are in the inexact match comparison level\", \"u_probability_description\": \"Amongst non-matching record comparisons, 10.85% of records are in the inexact match comparison level\", \"has_tf_adjustments\": false, \"tf_adjustment_column\": null, \"tf_adjustment_weight\": 1.0, \"is_null_level\": false, \"bayes_factor\": 0.10405242466262025, \"log2_bayes_factor\": -3.26461751128474, \"comparison_vector_value\": 1, \"max_comparison_vector_value\": 2, \"bayes_factor_description\": \"If comparison level is `inexact match` then comparison is  9.61 times less likely to be a match\", \"probability_two_random_records_match\": 1.4115990816180642e-05, \"comparison_sort_order\": 5}, {\"comparison_name\": \"year_of_birth\", \"sql_condition\": \"ELSE\", \"label_for_charts\": \"All other comparisons\", \"m_probability\": 0.025634826537091322, \"u_probability\": 0.8804955733998062, \"m_probability_description\": \"Amongst matching record comparisons, 2.56% of records are in the all other comparisons comparison level\", \"u_probability_description\": \"Amongst non-matching record comparisons, 88.05% of records are in the all other comparisons comparison level\", \"has_tf_adjustments\": false, \"tf_adjustment_column\": null, \"tf_adjustment_weight\": 1.0, \"is_null_level\": false, \"bayes_factor\": 0.029114089055676976, \"log2_bayes_factor\": -5.102138710463342, \"comparison_vector_value\": 0, \"max_comparison_vector_value\": 2, \"bayes_factor_description\": \"If comparison level is `all other comparisons` then comparison is  34.35 times less likely to be a match\", \"probability_two_random_records_match\": 1.4115990816180642e-05, \"comparison_sort_order\": 5}, {\"comparison_name\": \"geokey\", \"sql_condition\": \"\\\"geokey_l\\\" = \\\"geokey_r\\\"\", \"label_for_charts\": \"Exact match\", \"m_probability\": 0.4523829062897117, \"u_probability\": 0.0019196584849132347, \"m_probability_description\": \"Amongst matching record comparisons, 45.24% of records are in the exact match comparison level\", \"u_probability_description\": \"Amongst non-matching record comparisons, 0.19% of records are in the exact match comparison level\", \"has_tf_adjustments\": false, \"tf_adjustment_column\": null, \"tf_adjustment_weight\": 1.0, \"is_null_level\": false, \"bayes_factor\": 235.65801409210485, \"log2_bayes_factor\": 7.8805509341211595, \"comparison_vector_value\": 2, \"max_comparison_vector_value\": 2, \"bayes_factor_description\": \"If comparison level is `exact match` then comparison is 235.66 times more likely to be a match\", \"probability_two_random_records_match\": 1.4115990816180642e-05, \"comparison_sort_order\": 6}, {\"comparison_name\": \"geokey\", \"sql_condition\": \"jaro_winkler_similarity(\\\"geokey_l\\\", \\\"geokey_r\\\") >= 0.7222222222222222\", \"label_for_charts\": \"Jaro_winkler_similarity >= 0.7222222222222222\", \"m_probability\": 0.44031150439850403, \"u_probability\": 0.3870547506148817, \"m_probability_description\": \"Amongst matching record comparisons, 44.03% of records are in the jaro_winkler_similarity >= 0.7222222222222222 comparison level\", \"u_probability_description\": \"Amongst non-matching record comparisons, 38.71% of records are in the jaro_winkler_similarity >= 0.7222222222222222 comparison level\", \"has_tf_adjustments\": false, \"tf_adjustment_column\": null, \"tf_adjustment_weight\": 1.0, \"is_null_level\": false, \"bayes_factor\": 1.1375948847004662, \"log2_bayes_factor\": 0.18598688287423626, \"comparison_vector_value\": 1, \"max_comparison_vector_value\": 2, \"bayes_factor_description\": \"If comparison level is `jaro_winkler_similarity >= 0.7222222222222222` then comparison is 1.14 times more likely to be a match\", \"probability_two_random_records_match\": 1.4115990816180642e-05, \"comparison_sort_order\": 6}, {\"comparison_name\": \"geokey\", \"sql_condition\": \"ELSE\", \"label_for_charts\": \"All other comparisons\", \"m_probability\": 0.10730558931178416, \"u_probability\": 0.611025590900205, \"m_probability_description\": \"Amongst matching record comparisons, 10.73% of records are in the all other comparisons comparison level\", \"u_probability_description\": \"Amongst non-matching record comparisons, 61.10% of records are in the all other comparisons comparison level\", \"has_tf_adjustments\": false, \"tf_adjustment_column\": null, \"tf_adjustment_weight\": 1.0, \"is_null_level\": false, \"bayes_factor\": 0.1756155403469995, \"log2_bayes_factor\": -2.509507579230832, \"comparison_vector_value\": 0, \"max_comparison_vector_value\": 2, \"bayes_factor_description\": \"If comparison level is `all other comparisons` then comparison is  5.69 times less likely to be a match\", \"probability_two_random_records_match\": 1.4115990816180642e-05, \"comparison_sort_order\": 6}]}}, {\"mode\": \"vega-lite\"});\n",
       "</script>"
      ],
      "text/plain": [
       "alt.VConcatChart(...)"
      ]
     },
     "execution_count": 56,
     "metadata": {},
     "output_type": "execute_result"
    }
   ],
   "source": [
    "linker.match_weights_chart()"
   ]
  },
  {
   "cell_type": "code",
   "execution_count": 57,
   "id": "0227e7b1-d573-496a-bd6f-0eb81e75e44e",
   "metadata": {
    "execution": {
     "iopub.execute_input": "2024-06-01T00:28:56.504789Z",
     "iopub.status.busy": "2024-06-01T00:28:56.504088Z",
     "iopub.status.idle": "2024-06-01T00:28:56.627714Z",
     "shell.execute_reply": "2024-06-01T00:28:56.626682Z"
    },
    "papermill": {
     "duration": 0.156322,
     "end_time": "2024-06-01T00:28:56.631907",
     "exception": false,
     "start_time": "2024-06-01T00:28:56.475585",
     "status": "completed"
    },
    "tags": []
   },
   "outputs": [
    {
     "data": {
      "text/html": [
       "\n",
       "<style>\n",
       "  #altair-viz-c9eb5c43e30441588cb9851f82c75ec4.vega-embed {\n",
       "    width: 100%;\n",
       "    display: flex;\n",
       "  }\n",
       "\n",
       "  #altair-viz-c9eb5c43e30441588cb9851f82c75ec4.vega-embed details,\n",
       "  #altair-viz-c9eb5c43e30441588cb9851f82c75ec4.vega-embed details summary {\n",
       "    position: relative;\n",
       "  }\n",
       "</style>\n",
       "<div id=\"altair-viz-c9eb5c43e30441588cb9851f82c75ec4\"></div>\n",
       "<script type=\"text/javascript\">\n",
       "  var VEGA_DEBUG = (typeof VEGA_DEBUG == \"undefined\") ? {} : VEGA_DEBUG;\n",
       "  (function(spec, embedOpt){\n",
       "    let outputDiv = document.currentScript.previousElementSibling;\n",
       "    if (outputDiv.id !== \"altair-viz-c9eb5c43e30441588cb9851f82c75ec4\") {\n",
       "      outputDiv = document.getElementById(\"altair-viz-c9eb5c43e30441588cb9851f82c75ec4\");\n",
       "    }\n",
       "    const paths = {\n",
       "      \"vega\": \"https://cdn.jsdelivr.net/npm/vega@5?noext\",\n",
       "      \"vega-lib\": \"https://cdn.jsdelivr.net/npm/vega-lib?noext\",\n",
       "      \"vega-lite\": \"https://cdn.jsdelivr.net/npm/vega-lite@5.17.0?noext\",\n",
       "      \"vega-embed\": \"https://cdn.jsdelivr.net/npm/vega-embed@6?noext\",\n",
       "    };\n",
       "\n",
       "    function maybeLoadScript(lib, version) {\n",
       "      var key = `${lib.replace(\"-\", \"\")}_version`;\n",
       "      return (VEGA_DEBUG[key] == version) ?\n",
       "        Promise.resolve(paths[lib]) :\n",
       "        new Promise(function(resolve, reject) {\n",
       "          var s = document.createElement('script');\n",
       "          document.getElementsByTagName(\"head\")[0].appendChild(s);\n",
       "          s.async = true;\n",
       "          s.onload = () => {\n",
       "            VEGA_DEBUG[key] = version;\n",
       "            return resolve(paths[lib]);\n",
       "          };\n",
       "          s.onerror = () => reject(`Error loading script: ${paths[lib]}`);\n",
       "          s.src = paths[lib];\n",
       "        });\n",
       "    }\n",
       "\n",
       "    function showError(err) {\n",
       "      outputDiv.innerHTML = `<div class=\"error\" style=\"color:red;\">${err}</div>`;\n",
       "      throw err;\n",
       "    }\n",
       "\n",
       "    function displayChart(vegaEmbed) {\n",
       "      vegaEmbed(outputDiv, spec, embedOpt)\n",
       "        .catch(err => showError(`Javascript Error: ${err.message}<br>This usually means there's a typo in your chart specification. See the javascript console for the full traceback.`));\n",
       "    }\n",
       "\n",
       "    if(typeof define === \"function\" && define.amd) {\n",
       "      requirejs.config({paths});\n",
       "      require([\"vega-embed\"], displayChart, err => showError(`Error loading script: ${err.message}`));\n",
       "    } else {\n",
       "      maybeLoadScript(\"vega\", \"5\")\n",
       "        .then(() => maybeLoadScript(\"vega-lite\", \"5.17.0\"))\n",
       "        .then(() => maybeLoadScript(\"vega-embed\", \"6\"))\n",
       "        .catch(showError)\n",
       "        .then(() => displayChart(vegaEmbed));\n",
       "    }\n",
       "  })({\"config\": {\"view\": {\"continuousWidth\": 300, \"continuousHeight\": 300, \"discreteHeight\": 300, \"discreteWidth\": 400}, \"header\": {\"title\": null}, \"title\": {\"anchor\": \"middle\", \"offset\": 10}}, \"hconcat\": [{\"mark\": \"bar\", \"encoding\": {\"color\": {\"value\": \"green\"}, \"row\": {\"field\": \"comparison_name\", \"header\": {\"labelAlign\": \"left\", \"labelAnchor\": \"middle\", \"labelAngle\": 0}, \"sort\": {\"field\": \"comparison_sort_order\"}, \"type\": \"nominal\"}, \"tooltip\": [{\"field\": \"m_probability_description\", \"title\": \"m probability description\", \"type\": \"nominal\"}, {\"field\": \"comparison_name\", \"title\": \"Comparison column name\", \"type\": \"nominal\"}, {\"field\": \"label_for_charts\", \"title\": \"Label\", \"type\": \"ordinal\"}, {\"field\": \"sql_condition\", \"title\": \"SQL condition\", \"type\": \"nominal\"}, {\"field\": \"m_probability\", \"format\": \".4p\", \"title\": \"m probability\", \"type\": \"quantitative\"}, {\"field\": \"u_probability\", \"format\": \".4p\", \"title\": \"u probability\", \"type\": \"quantitative\"}, {\"field\": \"bayes_factor\", \"format\": \",.4f\", \"title\": \"Bayes factor = m/u\", \"type\": \"quantitative\"}, {\"field\": \"log2_bayes_factor\", \"format\": \",.4f\", \"title\": \"Match weight = log2(m/u)\", \"type\": \"quantitative\"}], \"x\": {\"axis\": {\"title\": \"Proportion of record comparisons\"}, \"field\": \"m_probability\", \"type\": \"quantitative\"}, \"y\": {\"axis\": {\"title\": null}, \"field\": \"label_for_charts\", \"sort\": {\"field\": \"comparison_vector_value\", \"order\": \"descending\"}, \"type\": \"nominal\"}}, \"height\": {\"step\": 12}, \"resolve\": {\"scale\": {\"y\": \"independent\"}}, \"title\": {\"text\": \"Amongst matching record comparisons:\", \"fontSize\": 12, \"fontWeight\": \"bold\"}, \"transform\": [{\"filter\": \"(datum.bayes_factor != 'no-op filter due to vega lite issue 4680')\"}], \"width\": 150}, {\"mark\": \"bar\", \"encoding\": {\"color\": {\"value\": \"red\"}, \"row\": {\"field\": \"comparison_name\", \"header\": {\"labels\": false}, \"sort\": {\"field\": \"comparison_sort_order\"}, \"type\": \"nominal\"}, \"tooltip\": [{\"field\": \"u_probability_description\", \"title\": \"u probability description\", \"type\": \"nominal\"}, {\"field\": \"comparison_name\", \"title\": \"Comparison column name\", \"type\": \"nominal\"}, {\"field\": \"label_for_charts\", \"title\": \"Label\", \"type\": \"ordinal\"}, {\"field\": \"sql_condition\", \"title\": \"SQL condition\", \"type\": \"nominal\"}, {\"field\": \"m_probability\", \"format\": \".4p\", \"title\": \"m probability\", \"type\": \"quantitative\"}, {\"field\": \"u_probability\", \"format\": \".4p\", \"title\": \"u probability\", \"type\": \"quantitative\"}, {\"field\": \"bayes_factor\", \"format\": \",.4f\", \"title\": \"Bayes factor = m/u\", \"type\": \"quantitative\"}, {\"field\": \"log2_bayes_factor\", \"format\": \",.4f\", \"title\": \"Match weight = log2(m/u)\", \"type\": \"quantitative\"}], \"x\": {\"axis\": {\"title\": \"Proportion of record comparisons\"}, \"field\": \"u_probability\", \"type\": \"quantitative\"}, \"y\": {\"axis\": {\"title\": null}, \"field\": \"label_for_charts\", \"sort\": {\"field\": \"comparison_vector_value\", \"order\": \"descending\"}, \"type\": \"nominal\"}}, \"height\": {\"step\": 12}, \"resolve\": {\"scale\": {\"y\": \"independent\"}}, \"title\": {\"text\": \"Amongst non-matching record comparisons:\", \"fontSize\": 12, \"fontWeight\": \"bold\"}, \"transform\": [{\"filter\": \"(datum.bayes_factor != 'no-op filter2 due to vega lite issue 4680')\"}], \"width\": 150}], \"data\": {\"name\": \"data-e6638f74d29ff3ec99fccd10c13f56dc\"}, \"title\": {\"text\": \"Proportion of record comparisons in each comparison level by match status\", \"subtitle\": \"(m and u probabilities)\"}, \"$schema\": \"https://vega.github.io/schema/vega-lite/v5.9.3.json\", \"datasets\": {\"data-e6638f74d29ff3ec99fccd10c13f56dc\": [{\"comparison_name\": \"first_name_15\", \"sql_condition\": \"\\\"first_name_15_l\\\" = \\\"first_name_15_r\\\"\", \"label_for_charts\": \"Exact match\", \"m_probability\": 0.8372523321187576, \"u_probability\": 0.0019545817948697793, \"m_probability_description\": \"Amongst matching record comparisons, 83.73% of records are in the exact match comparison level\", \"u_probability_description\": \"Amongst non-matching record comparisons, 0.20% of records are in the exact match comparison level\", \"has_tf_adjustments\": false, \"tf_adjustment_column\": null, \"tf_adjustment_weight\": 1.0, \"is_null_level\": false, \"bayes_factor\": 428.353694031279, \"log2_bayes_factor\": 8.742658719811047, \"comparison_vector_value\": 2, \"max_comparison_vector_value\": 2, \"bayes_factor_description\": \"If comparison level is `exact match` then comparison is 428.35 times more likely to be a match\", \"probability_two_random_records_match\": 1.4115990816180642e-05, \"comparison_sort_order\": 0}, {\"comparison_name\": \"first_name_15\", \"sql_condition\": \"jaro_winkler_similarity(\\\"first_name_15_l\\\", \\\"first_name_15_r\\\") >= 0.8333333333333334\", \"label_for_charts\": \"Jaro_winkler_similarity >= 0.8333333333333334\", \"m_probability\": 0.09271151034822836, \"u_probability\": 0.00346135405752317, \"m_probability_description\": \"Amongst matching record comparisons, 9.27% of records are in the jaro_winkler_similarity >= 0.8333333333333334 comparison level\", \"u_probability_description\": \"Amongst non-matching record comparisons, 0.35% of records are in the jaro_winkler_similarity >= 0.8333333333333334 comparison level\", \"has_tf_adjustments\": false, \"tf_adjustment_column\": null, \"tf_adjustment_weight\": 1.0, \"is_null_level\": false, \"bayes_factor\": 26.78475209628501, \"log2_bayes_factor\": 4.743340038280539, \"comparison_vector_value\": 1, \"max_comparison_vector_value\": 2, \"bayes_factor_description\": \"If comparison level is `jaro_winkler_similarity >= 0.8333333333333334` then comparison is 26.78 times more likely to be a match\", \"probability_two_random_records_match\": 1.4115990816180642e-05, \"comparison_sort_order\": 0}, {\"comparison_name\": \"first_name_15\", \"sql_condition\": \"ELSE\", \"label_for_charts\": \"All other comparisons\", \"m_probability\": 0.07003615753301401, \"u_probability\": 0.994584064147607, \"m_probability_description\": \"Amongst matching record comparisons, 7.00% of records are in the all other comparisons comparison level\", \"u_probability_description\": \"Amongst non-matching record comparisons, 99.46% of records are in the all other comparisons comparison level\", \"has_tf_adjustments\": false, \"tf_adjustment_column\": null, \"tf_adjustment_weight\": 1.0, \"is_null_level\": false, \"bayes_factor\": 0.0704175343821112, \"log2_bayes_factor\": -3.827921476589236, \"comparison_vector_value\": 0, \"max_comparison_vector_value\": 2, \"bayes_factor_description\": \"If comparison level is `all other comparisons` then comparison is  14.20 times less likely to be a match\", \"probability_two_random_records_match\": 1.4115990816180642e-05, \"comparison_sort_order\": 0}, {\"comparison_name\": \"last_name_12\", \"sql_condition\": \"\\\"last_name_12_l\\\" = \\\"last_name_12_r\\\"\", \"label_for_charts\": \"Exact match\", \"m_probability\": 0.8709609745521045, \"u_probability\": 0.0006599706231126029, \"m_probability_description\": \"Amongst matching record comparisons, 87.10% of records are in the exact match comparison level\", \"u_probability_description\": \"Amongst non-matching record comparisons, 0.07% of records are in the exact match comparison level\", \"has_tf_adjustments\": false, \"tf_adjustment_column\": null, \"tf_adjustment_weight\": 1.0, \"is_null_level\": false, \"bayes_factor\": 1319.6965804999215, \"log2_bayes_factor\": 10.365990553544178, \"comparison_vector_value\": 2, \"max_comparison_vector_value\": 2, \"bayes_factor_description\": \"If comparison level is `exact match` then comparison is 1,319.70 times more likely to be a match\", \"probability_two_random_records_match\": 1.4115990816180642e-05, \"comparison_sort_order\": 1}, {\"comparison_name\": \"last_name_12\", \"sql_condition\": \"jaro_winkler_similarity(\\\"last_name_12_l\\\", \\\"last_name_12_r\\\") >= 0.8333333333333334\", \"label_for_charts\": \"Jaro_winkler_similarity >= 0.8333333333333334\", \"m_probability\": 0.09785535923211258, \"u_probability\": 0.0013437257720127285, \"m_probability_description\": \"Amongst matching record comparisons, 9.79% of records are in the jaro_winkler_similarity >= 0.8333333333333334 comparison level\", \"u_probability_description\": \"Amongst non-matching record comparisons, 0.13% of records are in the jaro_winkler_similarity >= 0.8333333333333334 comparison level\", \"has_tf_adjustments\": false, \"tf_adjustment_column\": null, \"tf_adjustment_weight\": 1.0, \"is_null_level\": false, \"bayes_factor\": 72.82390594141677, \"log2_bayes_factor\": 6.186340217312049, \"comparison_vector_value\": 1, \"max_comparison_vector_value\": 2, \"bayes_factor_description\": \"If comparison level is `jaro_winkler_similarity >= 0.8333333333333334` then comparison is 72.82 times more likely to be a match\", \"probability_two_random_records_match\": 1.4115990816180642e-05, \"comparison_sort_order\": 1}, {\"comparison_name\": \"last_name_12\", \"sql_condition\": \"ELSE\", \"label_for_charts\": \"All other comparisons\", \"m_probability\": 0.031183666215782776, \"u_probability\": 0.9979963036048747, \"m_probability_description\": \"Amongst matching record comparisons, 3.12% of records are in the all other comparisons comparison level\", \"u_probability_description\": \"Amongst non-matching record comparisons, 99.80% of records are in the all other comparisons comparison level\", \"has_tf_adjustments\": false, \"tf_adjustment_column\": null, \"tf_adjustment_weight\": 1.0, \"is_null_level\": false, \"bayes_factor\": 0.031246274262884413, \"log2_bayes_factor\": -5.0001720135329695, \"comparison_vector_value\": 0, \"max_comparison_vector_value\": 2, \"bayes_factor_description\": \"If comparison level is `all other comparisons` then comparison is  32.00 times less likely to be a match\", \"probability_two_random_records_match\": 1.4115990816180642e-05, \"comparison_sort_order\": 1}, {\"comparison_name\": \"middle_initial\", \"sql_condition\": \"\\\"middle_initial_l\\\" = \\\"middle_initial_r\\\"\", \"label_for_charts\": \"Exact match\", \"m_probability\": 0.9285091878795689, \"u_probability\": 0.07356305686300955, \"m_probability_description\": \"Amongst matching record comparisons, 92.85% of records are in the exact match comparison level\", \"u_probability_description\": \"Amongst non-matching record comparisons, 7.36% of records are in the exact match comparison level\", \"has_tf_adjustments\": false, \"tf_adjustment_column\": null, \"tf_adjustment_weight\": 1.0, \"is_null_level\": false, \"bayes_factor\": 12.621949487616527, \"log2_bayes_factor\": 3.6578628498120898, \"comparison_vector_value\": 1, \"max_comparison_vector_value\": 1, \"bayes_factor_description\": \"If comparison level is `exact match` then comparison is 12.62 times more likely to be a match\", \"probability_two_random_records_match\": 1.4115990816180642e-05, \"comparison_sort_order\": 2}, {\"comparison_name\": \"middle_initial\", \"sql_condition\": \"ELSE\", \"label_for_charts\": \"All other comparisons\", \"m_probability\": 0.0714908121204311, \"u_probability\": 0.9264369431369904, \"m_probability_description\": \"Amongst matching record comparisons, 7.15% of records are in the all other comparisons comparison level\", \"u_probability_description\": \"Amongst non-matching record comparisons, 92.64% of records are in the all other comparisons comparison level\", \"has_tf_adjustments\": false, \"tf_adjustment_column\": null, \"tf_adjustment_weight\": 1.0, \"is_null_level\": false, \"bayes_factor\": 0.0771674884621477, \"log2_bayes_factor\": -3.6958630380545134, \"comparison_vector_value\": 0, \"max_comparison_vector_value\": 1, \"bayes_factor_description\": \"If comparison level is `all other comparisons` then comparison is  12.96 times less likely to be a match\", \"probability_two_random_records_match\": 1.4115990816180642e-05, \"comparison_sort_order\": 2}, {\"comparison_name\": \"day_of_birth\", \"sql_condition\": \"\\\"day_of_birth_l\\\" = \\\"day_of_birth_r\\\"\", \"label_for_charts\": \"Exact match\", \"m_probability\": 0.9692395648399009, \"u_probability\": 0.032464174125328385, \"m_probability_description\": \"Amongst matching record comparisons, 96.92% of records are in the exact match comparison level\", \"u_probability_description\": \"Amongst non-matching record comparisons, 3.25% of records are in the exact match comparison level\", \"has_tf_adjustments\": false, \"tf_adjustment_column\": null, \"tf_adjustment_weight\": 1.0, \"is_null_level\": false, \"bayes_factor\": 29.855666775878493, \"log2_bayes_factor\": 4.899932884117378, \"comparison_vector_value\": 2, \"max_comparison_vector_value\": 2, \"bayes_factor_description\": \"If comparison level is `exact match` then comparison is 29.86 times more likely to be a match\", \"probability_two_random_records_match\": 1.4115990816180642e-05, \"comparison_sort_order\": 3}, {\"comparison_name\": \"day_of_birth\", \"sql_condition\": \"abs(day_of_birth_l - day_of_birth_r) <= 5\", \"label_for_charts\": \"Inexact match\", \"m_probability\": 0.021080859032800416, \"u_probability\": 0.2965057730184639, \"m_probability_description\": \"Amongst matching record comparisons, 2.11% of records are in the inexact match comparison level\", \"u_probability_description\": \"Amongst non-matching record comparisons, 29.65% of records are in the inexact match comparison level\", \"has_tf_adjustments\": false, \"tf_adjustment_column\": null, \"tf_adjustment_weight\": 1.0, \"is_null_level\": false, \"bayes_factor\": 0.07109763435023464, \"log2_bayes_factor\": -3.8140546322923923, \"comparison_vector_value\": 1, \"max_comparison_vector_value\": 2, \"bayes_factor_description\": \"If comparison level is `inexact match` then comparison is  14.07 times less likely to be a match\", \"probability_two_random_records_match\": 1.4115990816180642e-05, \"comparison_sort_order\": 3}, {\"comparison_name\": \"day_of_birth\", \"sql_condition\": \"ELSE\", \"label_for_charts\": \"All other comparisons\", \"m_probability\": 0.00967957612729868, \"u_probability\": 0.6710300528562076, \"m_probability_description\": \"Amongst matching record comparisons, 0.97% of records are in the all other comparisons comparison level\", \"u_probability_description\": \"Amongst non-matching record comparisons, 67.10% of records are in the all other comparisons comparison level\", \"has_tf_adjustments\": false, \"tf_adjustment_column\": null, \"tf_adjustment_weight\": 1.0, \"is_null_level\": false, \"bayes_factor\": 0.014424951738149467, \"log2_bayes_factor\": -6.1152896977496445, \"comparison_vector_value\": 0, \"max_comparison_vector_value\": 2, \"bayes_factor_description\": \"If comparison level is `all other comparisons` then comparison is  69.32 times less likely to be a match\", \"probability_two_random_records_match\": 1.4115990816180642e-05, \"comparison_sort_order\": 3}, {\"comparison_name\": \"month_of_birth\", \"sql_condition\": \"\\\"month_of_birth_l\\\" = \\\"month_of_birth_r\\\"\", \"label_for_charts\": \"Exact match\", \"m_probability\": 0.979060139161209, \"u_probability\": 0.08358610359130632, \"m_probability_description\": \"Amongst matching record comparisons, 97.91% of records are in the exact match comparison level\", \"u_probability_description\": \"Amongst non-matching record comparisons, 8.36% of records are in the exact match comparison level\", \"has_tf_adjustments\": false, \"tf_adjustment_column\": null, \"tf_adjustment_weight\": 1.0, \"is_null_level\": false, \"bayes_factor\": 11.713192709021548, \"log2_bayes_factor\": 3.550062465146951, \"comparison_vector_value\": 2, \"max_comparison_vector_value\": 2, \"bayes_factor_description\": \"If comparison level is `exact match` then comparison is 11.71 times more likely to be a match\", \"probability_two_random_records_match\": 1.4115990816180642e-05, \"comparison_sort_order\": 4}, {\"comparison_name\": \"month_of_birth\", \"sql_condition\": \"abs(month_of_birth_l - month_of_birth_r) <= 3\", \"label_for_charts\": \"Inexact match\", \"m_probability\": 0.010476721749755221, \"u_probability\": 0.419960264938525, \"m_probability_description\": \"Amongst matching record comparisons, 1.05% of records are in the inexact match comparison level\", \"u_probability_description\": \"Amongst non-matching record comparisons, 42.00% of records are in the inexact match comparison level\", \"has_tf_adjustments\": false, \"tf_adjustment_column\": null, \"tf_adjustment_weight\": 1.0, \"is_null_level\": false, \"bayes_factor\": 0.02494693575662172, \"log2_bayes_factor\": -5.324993570212883, \"comparison_vector_value\": 1, \"max_comparison_vector_value\": 2, \"bayes_factor_description\": \"If comparison level is `inexact match` then comparison is  40.09 times less likely to be a match\", \"probability_two_random_records_match\": 1.4115990816180642e-05, \"comparison_sort_order\": 4}, {\"comparison_name\": \"month_of_birth\", \"sql_condition\": \"ELSE\", \"label_for_charts\": \"All other comparisons\", \"m_probability\": 0.010463139089035851, \"u_probability\": 0.4964536314701687, \"m_probability_description\": \"Amongst matching record comparisons, 1.05% of records are in the all other comparisons comparison level\", \"u_probability_description\": \"Amongst non-matching record comparisons, 49.65% of records are in the all other comparisons comparison level\", \"has_tf_adjustments\": false, \"tf_adjustment_column\": null, \"tf_adjustment_weight\": 1.0, \"is_null_level\": false, \"bayes_factor\": 0.021075763023529356, \"log2_bayes_factor\": -5.568271326563008, \"comparison_vector_value\": 0, \"max_comparison_vector_value\": 2, \"bayes_factor_description\": \"If comparison level is `all other comparisons` then comparison is  47.45 times less likely to be a match\", \"probability_two_random_records_match\": 1.4115990816180642e-05, \"comparison_sort_order\": 4}, {\"comparison_name\": \"year_of_birth\", \"sql_condition\": \"\\\"year_of_birth_l\\\" = \\\"year_of_birth_r\\\"\", \"label_for_charts\": \"Exact match\", \"m_probability\": 0.9630737912709918, \"u_probability\": 0.010988145230220372, \"m_probability_description\": \"Amongst matching record comparisons, 96.31% of records are in the exact match comparison level\", \"u_probability_description\": \"Amongst non-matching record comparisons, 1.10% of records are in the exact match comparison level\", \"has_tf_adjustments\": false, \"tf_adjustment_column\": null, \"tf_adjustment_weight\": 1.0, \"is_null_level\": false, \"bayes_factor\": 87.64662016136066, \"log2_bayes_factor\": 6.4536265535794355, \"comparison_vector_value\": 2, \"max_comparison_vector_value\": 2, \"bayes_factor_description\": \"If comparison level is `exact match` then comparison is 87.65 times more likely to be a match\", \"probability_two_random_records_match\": 1.4115990816180642e-05, \"comparison_sort_order\": 5}, {\"comparison_name\": \"year_of_birth\", \"sql_condition\": \"abs(year_of_birth_l - year_of_birth_r) <= 5\", \"label_for_charts\": \"Inexact match\", \"m_probability\": 0.011291382191916863, \"u_probability\": 0.10851628136997345, \"m_probability_description\": \"Amongst matching record comparisons, 1.13% of records are in the inexact match comparison level\", \"u_probability_description\": \"Amongst non-matching record comparisons, 10.85% of records are in the inexact match comparison level\", \"has_tf_adjustments\": false, \"tf_adjustment_column\": null, \"tf_adjustment_weight\": 1.0, \"is_null_level\": false, \"bayes_factor\": 0.10405242466262025, \"log2_bayes_factor\": -3.26461751128474, \"comparison_vector_value\": 1, \"max_comparison_vector_value\": 2, \"bayes_factor_description\": \"If comparison level is `inexact match` then comparison is  9.61 times less likely to be a match\", \"probability_two_random_records_match\": 1.4115990816180642e-05, \"comparison_sort_order\": 5}, {\"comparison_name\": \"year_of_birth\", \"sql_condition\": \"ELSE\", \"label_for_charts\": \"All other comparisons\", \"m_probability\": 0.025634826537091322, \"u_probability\": 0.8804955733998062, \"m_probability_description\": \"Amongst matching record comparisons, 2.56% of records are in the all other comparisons comparison level\", \"u_probability_description\": \"Amongst non-matching record comparisons, 88.05% of records are in the all other comparisons comparison level\", \"has_tf_adjustments\": false, \"tf_adjustment_column\": null, \"tf_adjustment_weight\": 1.0, \"is_null_level\": false, \"bayes_factor\": 0.029114089055676976, \"log2_bayes_factor\": -5.102138710463342, \"comparison_vector_value\": 0, \"max_comparison_vector_value\": 2, \"bayes_factor_description\": \"If comparison level is `all other comparisons` then comparison is  34.35 times less likely to be a match\", \"probability_two_random_records_match\": 1.4115990816180642e-05, \"comparison_sort_order\": 5}, {\"comparison_name\": \"geokey\", \"sql_condition\": \"\\\"geokey_l\\\" = \\\"geokey_r\\\"\", \"label_for_charts\": \"Exact match\", \"m_probability\": 0.4523829062897117, \"u_probability\": 0.0019196584849132347, \"m_probability_description\": \"Amongst matching record comparisons, 45.24% of records are in the exact match comparison level\", \"u_probability_description\": \"Amongst non-matching record comparisons, 0.19% of records are in the exact match comparison level\", \"has_tf_adjustments\": false, \"tf_adjustment_column\": null, \"tf_adjustment_weight\": 1.0, \"is_null_level\": false, \"bayes_factor\": 235.65801409210485, \"log2_bayes_factor\": 7.8805509341211595, \"comparison_vector_value\": 2, \"max_comparison_vector_value\": 2, \"bayes_factor_description\": \"If comparison level is `exact match` then comparison is 235.66 times more likely to be a match\", \"probability_two_random_records_match\": 1.4115990816180642e-05, \"comparison_sort_order\": 6}, {\"comparison_name\": \"geokey\", \"sql_condition\": \"jaro_winkler_similarity(\\\"geokey_l\\\", \\\"geokey_r\\\") >= 0.7222222222222222\", \"label_for_charts\": \"Jaro_winkler_similarity >= 0.7222222222222222\", \"m_probability\": 0.44031150439850403, \"u_probability\": 0.3870547506148817, \"m_probability_description\": \"Amongst matching record comparisons, 44.03% of records are in the jaro_winkler_similarity >= 0.7222222222222222 comparison level\", \"u_probability_description\": \"Amongst non-matching record comparisons, 38.71% of records are in the jaro_winkler_similarity >= 0.7222222222222222 comparison level\", \"has_tf_adjustments\": false, \"tf_adjustment_column\": null, \"tf_adjustment_weight\": 1.0, \"is_null_level\": false, \"bayes_factor\": 1.1375948847004662, \"log2_bayes_factor\": 0.18598688287423626, \"comparison_vector_value\": 1, \"max_comparison_vector_value\": 2, \"bayes_factor_description\": \"If comparison level is `jaro_winkler_similarity >= 0.7222222222222222` then comparison is 1.14 times more likely to be a match\", \"probability_two_random_records_match\": 1.4115990816180642e-05, \"comparison_sort_order\": 6}, {\"comparison_name\": \"geokey\", \"sql_condition\": \"ELSE\", \"label_for_charts\": \"All other comparisons\", \"m_probability\": 0.10730558931178416, \"u_probability\": 0.611025590900205, \"m_probability_description\": \"Amongst matching record comparisons, 10.73% of records are in the all other comparisons comparison level\", \"u_probability_description\": \"Amongst non-matching record comparisons, 61.10% of records are in the all other comparisons comparison level\", \"has_tf_adjustments\": false, \"tf_adjustment_column\": null, \"tf_adjustment_weight\": 1.0, \"is_null_level\": false, \"bayes_factor\": 0.1756155403469995, \"log2_bayes_factor\": -2.509507579230832, \"comparison_vector_value\": 0, \"max_comparison_vector_value\": 2, \"bayes_factor_description\": \"If comparison level is `all other comparisons` then comparison is  5.69 times less likely to be a match\", \"probability_two_random_records_match\": 1.4115990816180642e-05, \"comparison_sort_order\": 6}]}}, {\"mode\": \"vega-lite\"});\n",
       "</script>"
      ],
      "text/plain": [
       "alt.HConcatChart(...)"
      ]
     },
     "execution_count": 57,
     "metadata": {},
     "output_type": "execute_result"
    }
   ],
   "source": [
    "linker.m_u_parameters_chart()"
   ]
  },
  {
   "cell_type": "code",
   "execution_count": 58,
   "id": "57bc79f6-2c8b-4e65-88f9-b91d94d19f77",
   "metadata": {
    "execution": {
     "iopub.execute_input": "2024-06-01T00:28:56.692834Z",
     "iopub.status.busy": "2024-06-01T00:28:56.692152Z",
     "iopub.status.idle": "2024-06-01T00:28:56.794058Z",
     "shell.execute_reply": "2024-06-01T00:28:56.792390Z"
    },
    "papermill": {
     "duration": 0.133819,
     "end_time": "2024-06-01T00:28:56.797055",
     "exception": false,
     "start_time": "2024-06-01T00:28:56.663236",
     "status": "completed"
    },
    "tags": []
   },
   "outputs": [
    {
     "data": {
      "text/html": [
       "\n",
       "<style>\n",
       "  #altair-viz-6a219fa26329459ab4043581ea882d02.vega-embed {\n",
       "    width: 100%;\n",
       "    display: flex;\n",
       "  }\n",
       "\n",
       "  #altair-viz-6a219fa26329459ab4043581ea882d02.vega-embed details,\n",
       "  #altair-viz-6a219fa26329459ab4043581ea882d02.vega-embed details summary {\n",
       "    position: relative;\n",
       "  }\n",
       "</style>\n",
       "<div id=\"altair-viz-6a219fa26329459ab4043581ea882d02\"></div>\n",
       "<script type=\"text/javascript\">\n",
       "  var VEGA_DEBUG = (typeof VEGA_DEBUG == \"undefined\") ? {} : VEGA_DEBUG;\n",
       "  (function(spec, embedOpt){\n",
       "    let outputDiv = document.currentScript.previousElementSibling;\n",
       "    if (outputDiv.id !== \"altair-viz-6a219fa26329459ab4043581ea882d02\") {\n",
       "      outputDiv = document.getElementById(\"altair-viz-6a219fa26329459ab4043581ea882d02\");\n",
       "    }\n",
       "    const paths = {\n",
       "      \"vega\": \"https://cdn.jsdelivr.net/npm/vega@5?noext\",\n",
       "      \"vega-lib\": \"https://cdn.jsdelivr.net/npm/vega-lib?noext\",\n",
       "      \"vega-lite\": \"https://cdn.jsdelivr.net/npm/vega-lite@5.17.0?noext\",\n",
       "      \"vega-embed\": \"https://cdn.jsdelivr.net/npm/vega-embed@6?noext\",\n",
       "    };\n",
       "\n",
       "    function maybeLoadScript(lib, version) {\n",
       "      var key = `${lib.replace(\"-\", \"\")}_version`;\n",
       "      return (VEGA_DEBUG[key] == version) ?\n",
       "        Promise.resolve(paths[lib]) :\n",
       "        new Promise(function(resolve, reject) {\n",
       "          var s = document.createElement('script');\n",
       "          document.getElementsByTagName(\"head\")[0].appendChild(s);\n",
       "          s.async = true;\n",
       "          s.onload = () => {\n",
       "            VEGA_DEBUG[key] = version;\n",
       "            return resolve(paths[lib]);\n",
       "          };\n",
       "          s.onerror = () => reject(`Error loading script: ${paths[lib]}`);\n",
       "          s.src = paths[lib];\n",
       "        });\n",
       "    }\n",
       "\n",
       "    function showError(err) {\n",
       "      outputDiv.innerHTML = `<div class=\"error\" style=\"color:red;\">${err}</div>`;\n",
       "      throw err;\n",
       "    }\n",
       "\n",
       "    function displayChart(vegaEmbed) {\n",
       "      vegaEmbed(outputDiv, spec, embedOpt)\n",
       "        .catch(err => showError(`Javascript Error: ${err.message}<br>This usually means there's a typo in your chart specification. See the javascript console for the full traceback.`));\n",
       "    }\n",
       "\n",
       "    if(typeof define === \"function\" && define.amd) {\n",
       "      requirejs.config({paths});\n",
       "      require([\"vega-embed\"], displayChart, err => showError(`Error loading script: ${err.message}`));\n",
       "    } else {\n",
       "      maybeLoadScript(\"vega\", \"5\")\n",
       "        .then(() => maybeLoadScript(\"vega-lite\", \"5.17.0\"))\n",
       "        .then(() => maybeLoadScript(\"vega-embed\", \"6\"))\n",
       "        .catch(showError)\n",
       "        .then(() => displayChart(vegaEmbed));\n",
       "    }\n",
       "  })({\"config\": {\"view\": {\"continuousWidth\": 400, \"continuousHeight\": 300}, \"title\": {\"anchor\": \"middle\", \"fontSize\": 18, \"subtitleFontSize\": 14}}, \"data\": {\"name\": \"data-38a33e3772469ff023021b1090310b59\"}, \"mark\": {\"type\": \"point\", \"filled\": false, \"opacity\": 0.7, \"size\": 100}, \"encoding\": {\"color\": {\"field\": \"estimate_description\", \"type\": \"nominal\"}, \"column\": {\"align\": \"each\", \"field\": \"col_header\", \"header\": {\"labelFontSize\": 14, \"labelFontWeight\": \"bold\"}, \"title\": null, \"type\": \"nominal\"}, \"row\": {\"align\": \"each\", \"field\": \"comparison_name\", \"header\": {\"labelAlign\": \"left\", \"labelAnchor\": \"middle\", \"labelAngle\": 0, \"labelFontSize\": 12, \"labelFontWeight\": \"bold\"}, \"sort\": {\"field\": \"comparison_sort_order\"}, \"title\": null, \"type\": \"nominal\"}, \"shape\": {\"field\": \"estimate_description\", \"scale\": {\"range\": [\"circle\", \"square\", \"triangle\", \"diamond\"]}, \"type\": \"nominal\"}, \"tooltip\": [{\"field\": \"comparison_name\", \"type\": \"nominal\"}, {\"field\": \"estimate_description\", \"type\": \"nominal\"}, {\"field\": \"estimated_probability\", \"type\": \"quantitative\"}], \"x\": {\"axis\": {\"gridColor\": {\"condition\": {\"test\": \"abs(datum.value / 10)  <= 1 & datum.value % 10 === 0\", \"value\": \"#aaa\"}, \"value\": \"#ddd\"}, \"gridDash\": {\"condition\": {\"test\": \"abs(datum.value / 10) == 1\", \"value\": [3]}, \"value\": null}, \"gridWidth\": {\"condition\": {\"test\": \"abs(datum.value / 10)  <= 1 & datum.value % 10 === 0\", \"value\": 2}, \"value\": 1}}, \"field\": \"estimated_probability_as_log_odds\", \"title\": \"Estimated probability as log odds\", \"type\": \"quantitative\"}, \"y\": {\"axis\": {\"grid\": true, \"title\": null}, \"field\": \"comparison_level_label\", \"sort\": {\"field\": \"comparison_vector_value\", \"order\": \"descending\"}, \"type\": \"nominal\"}}, \"params\": [{\"name\": \"mouse_zoom\", \"select\": {\"type\": \"interval\", \"encodings\": [\"x\"]}, \"bind\": \"scales\"}], \"resolve\": {\"scale\": {\"y\": \"independent\"}}, \"title\": {\"text\": \"Comparison of parameter estimates across training sessions\", \"subtitle\": \"Use mousewheel to zoom\"}, \"transform\": [{\"calculate\": \"datum.m_or_u + '-probability (as log odds)'\", \"as\": \"col_header\"}], \"$schema\": \"https://vega.github.io/schema/vega-lite/v5.9.3.json\", \"datasets\": {\"data-38a33e3772469ff023021b1090310b59\": [{\"m_or_u\": \"m\", \"estimated_probability\": 0.8372523321187576, \"estimate_description\": \"EM, blocked on: l.geokey = r.geokey\", \"estimated_probability_as_log_odds\": 2.3630256192730674, \"sql_condition\": \"\\\"first_name_15_l\\\" = \\\"first_name_15_r\\\"\", \"comparison_level_label\": \"Exact match\", \"comparison_vector_value\": 2, \"comparison_name\": \"first_name_15\", \"comparison_sort_order\": 0}, {\"m_or_u\": \"m\", \"estimated_probability\": 0.09271151034822836, \"estimate_description\": \"EM, blocked on: l.geokey = r.geokey\", \"estimated_probability_as_log_odds\": -3.2907409870546194, \"sql_condition\": \"jaro_winkler_similarity(\\\"first_name_15_l\\\", \\\"first_name_15_r\\\") >= 0.8333333333333334\", \"comparison_level_label\": \"Jaro_winkler_similarity >= 0.8333333333333334\", \"comparison_vector_value\": 1, \"comparison_name\": \"first_name_15\", \"comparison_sort_order\": 0}, {\"m_or_u\": \"m\", \"estimated_probability\": 0.07003615753301401, \"estimate_description\": \"EM, blocked on: l.geokey = r.geokey\", \"estimated_probability_as_log_odds\": -3.731002785524133, \"sql_condition\": \"ELSE\", \"comparison_level_label\": \"All other comparisons\", \"comparison_vector_value\": 0, \"comparison_name\": \"first_name_15\", \"comparison_sort_order\": 0}, {\"m_or_u\": \"m\", \"estimated_probability\": 0.8744425068250526, \"estimate_description\": \"EM, blocked on: l.first_name_15 = r.first_name_15 and l.zipcode = r.zipcode\", \"estimated_probability_as_log_odds\": 2.8000154022958803, \"sql_condition\": \"\\\"last_name_12_l\\\" = \\\"last_name_12_r\\\"\", \"comparison_level_label\": \"Exact match\", \"comparison_vector_value\": 2, \"comparison_name\": \"last_name_12\", \"comparison_sort_order\": 1}, {\"m_or_u\": \"m\", \"estimated_probability\": 0.8674794422791565, \"estimate_description\": \"EM, blocked on: l.geokey = r.geokey\", \"estimated_probability_as_log_odds\": 2.7106133885735715, \"sql_condition\": \"\\\"last_name_12_l\\\" = \\\"last_name_12_r\\\"\", \"comparison_level_label\": \"Exact match\", \"comparison_vector_value\": 2, \"comparison_name\": \"last_name_12\", \"comparison_sort_order\": 1}, {\"m_or_u\": \"m\", \"estimated_probability\": 0.0955534957845705, \"estimate_description\": \"EM, blocked on: l.first_name_15 = r.first_name_15 and l.zipcode = r.zipcode\", \"estimated_probability_as_log_odds\": -3.242654613835394, \"sql_condition\": \"jaro_winkler_similarity(\\\"last_name_12_l\\\", \\\"last_name_12_r\\\") >= 0.8333333333333334\", \"comparison_level_label\": \"Jaro_winkler_similarity >= 0.8333333333333334\", \"comparison_vector_value\": 1, \"comparison_name\": \"last_name_12\", \"comparison_sort_order\": 1}, {\"m_or_u\": \"m\", \"estimated_probability\": 0.10015722267965466, \"estimate_description\": \"EM, blocked on: l.geokey = r.geokey\", \"estimated_probability_as_log_odds\": -3.167406489764596, \"sql_condition\": \"jaro_winkler_similarity(\\\"last_name_12_l\\\", \\\"last_name_12_r\\\") >= 0.8333333333333334\", \"comparison_level_label\": \"Jaro_winkler_similarity >= 0.8333333333333334\", \"comparison_vector_value\": 1, \"comparison_name\": \"last_name_12\", \"comparison_sort_order\": 1}, {\"m_or_u\": \"m\", \"estimated_probability\": 0.03000399739037679, \"estimate_description\": \"EM, blocked on: l.first_name_15 = r.first_name_15 and l.zipcode = r.zipcode\", \"estimated_probability_as_log_odds\": -5.0147521750408055, \"sql_condition\": \"ELSE\", \"comparison_level_label\": \"All other comparisons\", \"comparison_vector_value\": 0, \"comparison_name\": \"last_name_12\", \"comparison_sort_order\": 1}, {\"m_or_u\": \"m\", \"estimated_probability\": 0.03236333504118876, \"estimate_description\": \"EM, blocked on: l.geokey = r.geokey\", \"estimated_probability_as_log_odds\": -4.902033245622582, \"sql_condition\": \"ELSE\", \"comparison_level_label\": \"All other comparisons\", \"comparison_vector_value\": 0, \"comparison_name\": \"last_name_12\", \"comparison_sort_order\": 1}, {\"m_or_u\": \"m\", \"estimated_probability\": 0.9410121677945328, \"estimate_description\": \"EM, blocked on: l.first_name_15 = r.first_name_15 and l.zipcode = r.zipcode\", \"estimated_probability_as_log_odds\": 3.9957240814853012, \"sql_condition\": \"\\\"middle_initial_l\\\" = \\\"middle_initial_r\\\"\", \"comparison_level_label\": \"Exact match\", \"comparison_vector_value\": 1, \"comparison_name\": \"middle_initial\", \"comparison_sort_order\": 2}, {\"m_or_u\": \"m\", \"estimated_probability\": 0.9160062079646051, \"estimate_description\": \"EM, blocked on: l.geokey = r.geokey\", \"estimated_probability_as_log_odds\": 3.447002768161375, \"sql_condition\": \"\\\"middle_initial_l\\\" = \\\"middle_initial_r\\\"\", \"comparison_level_label\": \"Exact match\", \"comparison_vector_value\": 1, \"comparison_name\": \"middle_initial\", \"comparison_sort_order\": 2}, {\"m_or_u\": \"m\", \"estimated_probability\": 0.058987832205467244, \"estimate_description\": \"EM, blocked on: l.first_name_15 = r.first_name_15 and l.zipcode = r.zipcode\", \"estimated_probability_as_log_odds\": -3.995724081485301, \"sql_condition\": \"ELSE\", \"comparison_level_label\": \"All other comparisons\", \"comparison_vector_value\": 0, \"comparison_name\": \"middle_initial\", \"comparison_sort_order\": 2}, {\"m_or_u\": \"m\", \"estimated_probability\": 0.08399379203539493, \"estimate_description\": \"EM, blocked on: l.geokey = r.geokey\", \"estimated_probability_as_log_odds\": -3.447002768161375, \"sql_condition\": \"ELSE\", \"comparison_level_label\": \"All other comparisons\", \"comparison_vector_value\": 0, \"comparison_name\": \"middle_initial\", \"comparison_sort_order\": 2}, {\"m_or_u\": \"m\", \"estimated_probability\": 0.9729294383617619, \"estimate_description\": \"EM, blocked on: l.first_name_15 = r.first_name_15 and l.zipcode = r.zipcode\", \"estimated_probability_as_log_odds\": 5.167538452593019, \"sql_condition\": \"\\\"day_of_birth_l\\\" = \\\"day_of_birth_r\\\"\", \"comparison_level_label\": \"Exact match\", \"comparison_vector_value\": 2, \"comparison_name\": \"day_of_birth\", \"comparison_sort_order\": 3}, {\"m_or_u\": \"m\", \"estimated_probability\": 0.9655496913180399, \"estimate_description\": \"EM, blocked on: l.geokey = r.geokey\", \"estimated_probability_as_log_odds\": 4.808761693396674, \"sql_condition\": \"\\\"day_of_birth_l\\\" = \\\"day_of_birth_r\\\"\", \"comparison_level_label\": \"Exact match\", \"comparison_vector_value\": 2, \"comparison_name\": \"day_of_birth\", \"comparison_sort_order\": 3}, {\"m_or_u\": \"m\", \"estimated_probability\": 0.019565054339325493, \"estimate_description\": \"EM, blocked on: l.first_name_15 = r.first_name_15 and l.zipcode = r.zipcode\", \"estimated_probability_as_log_odds\": -5.647070884877172, \"sql_condition\": \"abs(day_of_birth_l - day_of_birth_r) <= 5\", \"comparison_level_label\": \"Inexact match\", \"comparison_vector_value\": 1, \"comparison_name\": \"day_of_birth\", \"comparison_sort_order\": 3}, {\"m_or_u\": \"m\", \"estimated_probability\": 0.022596663726275338, \"estimate_description\": \"EM, blocked on: l.geokey = r.geokey\", \"estimated_probability_as_log_odds\": -5.434772341646472, \"sql_condition\": \"abs(day_of_birth_l - day_of_birth_r) <= 5\", \"comparison_level_label\": \"Inexact match\", \"comparison_vector_value\": 1, \"comparison_name\": \"day_of_birth\", \"comparison_sort_order\": 3}, {\"m_or_u\": \"m\", \"estimated_probability\": 0.0075055072989125985, \"estimate_description\": \"EM, blocked on: l.first_name_15 = r.first_name_15 and l.zipcode = r.zipcode\", \"estimated_probability_as_log_odds\": -7.046965699393648, \"sql_condition\": \"ELSE\", \"comparison_level_label\": \"All other comparisons\", \"comparison_vector_value\": 0, \"comparison_name\": \"day_of_birth\", \"comparison_sort_order\": 3}, {\"m_or_u\": \"m\", \"estimated_probability\": 0.011853644955684764, \"estimate_description\": \"EM, blocked on: l.geokey = r.geokey\", \"estimated_probability_as_log_odds\": -6.381322079905706, \"sql_condition\": \"ELSE\", \"comparison_level_label\": \"All other comparisons\", \"comparison_vector_value\": 0, \"comparison_name\": \"day_of_birth\", \"comparison_sort_order\": 3}, {\"m_or_u\": \"m\", \"estimated_probability\": 0.9826190361038658, \"estimate_description\": \"EM, blocked on: l.first_name_15 = r.first_name_15 and l.zipcode = r.zipcode\", \"estimated_probability_as_log_odds\": 5.821052191410145, \"sql_condition\": \"\\\"month_of_birth_l\\\" = \\\"month_of_birth_r\\\"\", \"comparison_level_label\": \"Exact match\", \"comparison_vector_value\": 2, \"comparison_name\": \"month_of_birth\", \"comparison_sort_order\": 4}, {\"m_or_u\": \"m\", \"estimated_probability\": 0.9755012422185522, \"estimate_description\": \"EM, blocked on: l.geokey = r.geokey\", \"estimated_probability_as_log_odds\": 5.315363206175223, \"sql_condition\": \"\\\"month_of_birth_l\\\" = \\\"month_of_birth_r\\\"\", \"comparison_level_label\": \"Exact match\", \"comparison_vector_value\": 2, \"comparison_name\": \"month_of_birth\", \"comparison_sort_order\": 4}, {\"m_or_u\": \"m\", \"estimated_probability\": 0.009022720834560623, \"estimate_description\": \"EM, blocked on: l.first_name_15 = r.first_name_15 and l.zipcode = r.zipcode\", \"estimated_probability_as_log_odds\": -6.779145620809297, \"sql_condition\": \"abs(month_of_birth_l - month_of_birth_r) <= 3\", \"comparison_level_label\": \"Inexact match\", \"comparison_vector_value\": 1, \"comparison_name\": \"month_of_birth\", \"comparison_sort_order\": 4}, {\"m_or_u\": \"m\", \"estimated_probability\": 0.011930722664949819, \"estimate_description\": \"EM, blocked on: l.geokey = r.geokey\", \"estimated_probability_as_log_odds\": -6.3718588608711855, \"sql_condition\": \"abs(month_of_birth_l - month_of_birth_r) <= 3\", \"comparison_level_label\": \"Inexact match\", \"comparison_vector_value\": 1, \"comparison_name\": \"month_of_birth\", \"comparison_sort_order\": 4}, {\"m_or_u\": \"m\", \"estimated_probability\": 0.008358243061573659, \"estimate_description\": \"EM, blocked on: l.first_name_15 = r.first_name_15 and l.zipcode = r.zipcode\", \"estimated_probability_as_log_odds\": -6.890475499262822, \"sql_condition\": \"ELSE\", \"comparison_level_label\": \"All other comparisons\", \"comparison_vector_value\": 0, \"comparison_name\": \"month_of_birth\", \"comparison_sort_order\": 4}, {\"m_or_u\": \"m\", \"estimated_probability\": 0.012568035116498042, \"estimate_description\": \"EM, blocked on: l.geokey = r.geokey\", \"estimated_probability_as_log_odds\": -6.295850326458418, \"sql_condition\": \"ELSE\", \"comparison_level_label\": \"All other comparisons\", \"comparison_vector_value\": 0, \"comparison_name\": \"month_of_birth\", \"comparison_sort_order\": 4}, {\"m_or_u\": \"m\", \"estimated_probability\": 0.9659136538935633, \"estimate_description\": \"EM, blocked on: l.first_name_15 = r.first_name_15 and l.zipcode = r.zipcode\", \"estimated_probability_as_log_odds\": 4.8246283648494535, \"sql_condition\": \"\\\"year_of_birth_l\\\" = \\\"year_of_birth_r\\\"\", \"comparison_level_label\": \"Exact match\", \"comparison_vector_value\": 2, \"comparison_name\": \"year_of_birth\", \"comparison_sort_order\": 5}, {\"m_or_u\": \"m\", \"estimated_probability\": 0.9602339286484203, \"estimate_description\": \"EM, blocked on: l.geokey = r.geokey\", \"estimated_probability_as_log_odds\": 4.59377596798506, \"sql_condition\": \"\\\"year_of_birth_l\\\" = \\\"year_of_birth_r\\\"\", \"comparison_level_label\": \"Exact match\", \"comparison_vector_value\": 2, \"comparison_name\": \"year_of_birth\", \"comparison_sort_order\": 5}, {\"m_or_u\": \"m\", \"estimated_probability\": 0.010877428309799745, \"estimate_description\": \"EM, blocked on: l.first_name_15 = r.first_name_15 and l.zipcode = r.zipcode\", \"estimated_probability_as_log_odds\": -6.506739896671232, \"sql_condition\": \"abs(year_of_birth_l - year_of_birth_r) <= 5\", \"comparison_level_label\": \"Inexact match\", \"comparison_vector_value\": 1, \"comparison_name\": \"year_of_birth\", \"comparison_sort_order\": 5}, {\"m_or_u\": \"m\", \"estimated_probability\": 0.01170533607403398, \"estimate_description\": \"EM, blocked on: l.geokey = r.geokey\", \"estimated_probability_as_log_odds\": -6.39970298948899, \"sql_condition\": \"abs(year_of_birth_l - year_of_birth_r) <= 5\", \"comparison_level_label\": \"Inexact match\", \"comparison_vector_value\": 1, \"comparison_name\": \"year_of_birth\", \"comparison_sort_order\": 5}, {\"m_or_u\": \"m\", \"estimated_probability\": 0.023208917796637002, \"estimate_description\": \"EM, blocked on: l.first_name_15 = r.first_name_15 and l.zipcode = r.zipcode\", \"estimated_probability_as_log_odds\": -5.395298870768006, \"sql_condition\": \"ELSE\", \"comparison_level_label\": \"All other comparisons\", \"comparison_vector_value\": 0, \"comparison_name\": \"year_of_birth\", \"comparison_sort_order\": 5}, {\"m_or_u\": \"m\", \"estimated_probability\": 0.028060735277545643, \"estimate_description\": \"EM, blocked on: l.geokey = r.geokey\", \"estimated_probability_as_log_odds\": -5.114241446814532, \"sql_condition\": \"ELSE\", \"comparison_level_label\": \"All other comparisons\", \"comparison_vector_value\": 0, \"comparison_name\": \"year_of_birth\", \"comparison_sort_order\": 5}, {\"m_or_u\": \"m\", \"estimated_probability\": 0.4523829062897117, \"estimate_description\": \"EM, blocked on: l.first_name_15 = r.first_name_15 and l.zipcode = r.zipcode\", \"estimated_probability_as_log_odds\": -0.2756230638308404, \"sql_condition\": \"\\\"geokey_l\\\" = \\\"geokey_r\\\"\", \"comparison_level_label\": \"Exact match\", \"comparison_vector_value\": 2, \"comparison_name\": \"geokey\", \"comparison_sort_order\": 6}, {\"m_or_u\": \"m\", \"estimated_probability\": 0.44031150439850403, \"estimate_description\": \"EM, blocked on: l.first_name_15 = r.first_name_15 and l.zipcode = r.zipcode\", \"estimated_probability_as_log_odds\": -0.34609955413285637, \"sql_condition\": \"jaro_winkler_similarity(\\\"geokey_l\\\", \\\"geokey_r\\\") >= 0.7222222222222222\", \"comparison_level_label\": \"Jaro_winkler_similarity >= 0.7222222222222222\", \"comparison_vector_value\": 1, \"comparison_name\": \"geokey\", \"comparison_sort_order\": 6}, {\"m_or_u\": \"m\", \"estimated_probability\": 0.10730558931178416, \"estimate_description\": \"EM, blocked on: l.first_name_15 = r.first_name_15 and l.zipcode = r.zipcode\", \"estimated_probability_as_log_odds\": -3.0564411681405943, \"sql_condition\": \"ELSE\", \"comparison_level_label\": \"All other comparisons\", \"comparison_vector_value\": 0, \"comparison_name\": \"geokey\", \"comparison_sort_order\": 6}]}}, {\"mode\": \"vega-lite\"});\n",
       "</script>"
      ],
      "text/plain": [
       "alt.Chart(...)"
      ]
     },
     "execution_count": 58,
     "metadata": {},
     "output_type": "execute_result"
    }
   ],
   "source": [
    "linker.parameter_estimate_comparisons_chart()"
   ]
  },
  {
   "cell_type": "code",
   "execution_count": 59,
   "id": "10a026ed-761b-45ee-b44b-9259423e518e",
   "metadata": {
    "execution": {
     "iopub.execute_input": "2024-06-01T00:28:56.857396Z",
     "iopub.status.busy": "2024-06-01T00:28:56.856744Z",
     "iopub.status.idle": "2024-06-01T00:28:56.863102Z",
     "shell.execute_reply": "2024-06-01T00:28:56.862100Z"
    },
    "papermill": {
     "duration": 0.038364,
     "end_time": "2024-06-01T00:28:56.866483",
     "exception": false,
     "start_time": "2024-06-01T00:28:56.828119",
     "status": "completed"
    },
    "tags": []
   },
   "outputs": [],
   "source": [
    "splink_settings = linker._settings_obj.as_dict()"
   ]
  },
  {
   "cell_type": "code",
   "execution_count": 60,
   "id": "92188bbf-e12e-42f2-8a32-b007ea05e0cf",
   "metadata": {
    "execution": {
     "iopub.execute_input": "2024-06-01T00:28:56.930532Z",
     "iopub.status.busy": "2024-06-01T00:28:56.929723Z",
     "iopub.status.idle": "2024-06-01T00:28:56.941489Z",
     "shell.execute_reply": "2024-06-01T00:28:56.940269Z"
    },
    "papermill": {
     "duration": 0.043842,
     "end_time": "2024-06-01T00:28:56.944103",
     "exception": false,
     "start_time": "2024-06-01T00:28:56.900261",
     "status": "completed"
    },
    "tags": []
   },
   "outputs": [],
   "source": [
    "import pickle\n",
    "\n",
    "with open(f\"{intermediate_data_dir}/splink_settings.pkl\", \"wb\") as f:\n",
    "    pickle.dump(splink_settings, f, protocol=-1)"
   ]
  },
  {
   "cell_type": "code",
   "execution_count": 61,
   "id": "0626e377-c1b5-444e-b380-a99ae5156b4e",
   "metadata": {
    "execution": {
     "iopub.execute_input": "2024-06-01T00:28:57.003737Z",
     "iopub.status.busy": "2024-06-01T00:28:57.002949Z",
     "iopub.status.idle": "2024-06-01T00:28:57.010555Z",
     "shell.execute_reply": "2024-06-01T00:28:57.009260Z"
    },
    "papermill": {
     "duration": 0.037584,
     "end_time": "2024-06-01T00:28:57.012408",
     "exception": false,
     "start_time": "2024-06-01T00:28:56.974824",
     "status": "completed"
    },
    "tags": []
   },
   "outputs": [],
   "source": [
    "with open(f\"{intermediate_data_dir}/splink_settings.pkl\", \"rb\") as f:\n",
    "    splink_settings = pickle.load(f)"
   ]
  },
  {
   "cell_type": "markdown",
   "id": "f1b9963e-73da-4b51-837d-d79deca7fecf",
   "metadata": {
    "papermill": {
     "duration": 0.026153,
     "end_time": "2024-06-01T00:28:57.066033",
     "exception": false,
     "start_time": "2024-06-01T00:28:57.039880",
     "status": "completed"
    },
    "tags": []
   },
   "source": [
    "## Implement matching passes"
   ]
  },
  {
   "cell_type": "code",
   "execution_count": 62,
   "id": "f437d4c7-b848-4c19-b29d-5f48d10ce911",
   "metadata": {
    "editable": true,
    "execution": {
     "iopub.execute_input": "2024-06-01T00:28:57.122901Z",
     "iopub.status.busy": "2024-06-01T00:28:57.122117Z",
     "iopub.status.idle": "2024-06-01T00:28:57.198845Z",
     "shell.execute_reply": "2024-06-01T00:28:57.197594Z"
    },
    "papermill": {
     "duration": 0.109765,
     "end_time": "2024-06-01T00:28:57.202522",
     "exception": false,
     "start_time": "2024-06-01T00:28:57.092757",
     "status": "completed"
    },
    "slideshow": {
     "slide_type": ""
    },
    "tags": []
   },
   "outputs": [],
   "source": [
    "from dataclasses import dataclass\n",
    "import pathlib\n",
    "\n",
    "# Calculate this once to save time -- mapping from record_id to record_id_raw_input_file\n",
    "# There can be multiple records (with different record_id) for the same input file record\n",
    "# (record_id_raw_input_file) because of the handling of nicknames by creating extra records.\n",
    "record_id_raw_input_file_by_record_id = census_2030[\n",
    "    [\"record_id\", \"record_id_raw_input_file\"]\n",
    "]\n",
    "\n",
    "all_piks = df_ops.persist(\n",
    "    df_ops.concat(\n",
    "        [\n",
    "            name_dob_reference_file[[\"record_id\", \"pik\"]],\n",
    "            geobase_reference_file[[\"record_id\", \"pik\"]],\n",
    "        ],\n",
    "        ignore_index=True,\n",
    "    )\n",
    ")\n",
    "\n",
    "dates_of_death = df_ops.persist(\n",
    "    df_ops.read_parquet(f\"{input_dir}/{data_to_use}/simulated_census_numident.parquet\")[\n",
    "        [\"pik\", \"date_of_death\"]\n",
    "    ].assign(\n",
    "        date_of_death=lambda s: pd.to_datetime(\n",
    "            s.date_of_death, format=\"%Y%m%d\", errors=\"coerce\"\n",
    "        )\n",
    "    )\n",
    ")\n",
    "\n",
    "\n",
    "class PersonLinkageCascade:\n",
    "    def __init__(self):\n",
    "        # This dataframe will accumulate the PIKs to attach to the input file\n",
    "        self.confirmed_piks = df_ops.empty_dataframe(\n",
    "            columns=[\"record_id_raw_input_file\", \"pik\"], dtype=str\n",
    "        )\n",
    "        self.current_module = None\n",
    "\n",
    "    def start_module(self, *args, **kwargs):\n",
    "        assert self.current_module is None or self.current_module.confirmed\n",
    "        self.current_module = PersonLinkageModule(\n",
    "            *args, already_confirmed_piks=self.confirmed_piks, **kwargs\n",
    "        )\n",
    "\n",
    "    def run_matching_pass(self, *args, **kwargs):\n",
    "        self.current_module.run_matching_pass(*args, **kwargs)\n",
    "\n",
    "    def confirm_piks(self, *args, **kwargs):\n",
    "        # Make sure we are not about to confirm PIKs for any of the same files we have\n",
    "        # already PIKed\n",
    "        assert (\n",
    "            len(\n",
    "                self.current_module.provisional_links.merge(\n",
    "                    self.confirmed_piks, on=\"record_id_raw_input_file\", how=\"inner\"\n",
    "                )\n",
    "            )\n",
    "            == 0\n",
    "        )\n",
    "\n",
    "        newly_confirmed_piks = self.current_module.confirm_piks_from_provisional_links()\n",
    "        if compute_engine.startswith(\"dask\"):\n",
    "            # An implementation of \"checkpointing\" in Dask, so we can safely delete the source files\n",
    "            # without risking permanent loss of data we will need\n",
    "            dir_path = f\"{output_dir}/intermediate_data/newly_confirmed_piks/newly_confirmed_piks_{self.current_module.name}\"\n",
    "            utils.ensure_empty(dir_path)\n",
    "            file_path = f\"{dir_path}/newly_confirmed_piks_{self.current_module.name}_{int(time.time())}.parquet\"\n",
    "            df_ops.to_parquet(newly_confirmed_piks, file_path, wait=True)\n",
    "            newly_confirmed_piks = df_ops.read_parquet(file_path)\n",
    "\n",
    "        # We are now done with the intermediate data inside this module\n",
    "        dir_path = f\"{output_dir}/intermediate_data/{self.current_module.name}/\"\n",
    "        utils.remove_path(dir_path)\n",
    "\n",
    "        self.confirmed_piks = df_ops.persist(\n",
    "            df_ops.concat(\n",
    "                [\n",
    "                    self.confirmed_piks,\n",
    "                    newly_confirmed_piks,\n",
    "                ],\n",
    "                ignore_index=True,\n",
    "            )\n",
    "        )\n",
    "\n",
    "\n",
    "@dataclass\n",
    "class PersonLinkageModule:\n",
    "    name: str\n",
    "    reference_file: pd.DataFrame\n",
    "    reference_file_name: str\n",
    "    already_confirmed_piks: pd.DataFrame\n",
    "    cut_columns: list[str]\n",
    "    matching_columns: list[str]\n",
    "    bayes_factor_cut_columns: float = 1\n",
    "\n",
    "    def __post_init__(self):\n",
    "        self.provisional_links = df_ops.empty_dataframe(\n",
    "            columns=[\"record_id_census_2030\"], dtype=str\n",
    "        )\n",
    "        self.confirmed = False\n",
    "        utils.ensure_empty(f\"{intermediate_data_dir}/for_splink/\")\n",
    "        self.reference_file_for_splink = prep_table_for_splink(\n",
    "            self.reference_file,\n",
    "            self.reference_file_name,\n",
    "            self.reference_file.columns,\n",
    "            df_ops,\n",
    "        )\n",
    "        if clear_intermediate:\n",
    "            utils.ensure_empty(f\"{output_dir}/intermediate_data/{self.name}/\")\n",
    "        self.census_to_match = df_ops.persist(\n",
    "            census_2030\n",
    "            # Only look for matches among records that have not received a confirmed PIK\n",
    "            .merge(\n",
    "                self.already_confirmed_piks[[\"record_id_raw_input_file\"]].assign(\n",
    "                    already_confirmed_dummy=1\n",
    "                ),\n",
    "                on=\"record_id_raw_input_file\",\n",
    "                how=\"left\",\n",
    "            )\n",
    "            .pipe(lambda df: df[df.already_confirmed_dummy.isna()])\n",
    "            .drop(columns=[\"already_confirmed_dummy\"])\n",
    "            .pipe(df_ops.rebalance)\n",
    "        )\n",
    "\n",
    "    def run_matching_pass(\n",
    "        self,\n",
    "        pass_name,\n",
    "        blocking_columns,\n",
    "        probability_threshold=0.97,\n",
    "        input_data_transformation=lambda x: x,\n",
    "    ):\n",
    "        assert self.confirmed == False\n",
    "\n",
    "        print(f\"Running {pass_name} of {self.name}\")\n",
    "\n",
    "        columns_needed = utils.dedupe_list(\n",
    "            [\"record_id\"] + self.cut_columns + blocking_columns + self.matching_columns\n",
    "        )\n",
    "        print(\n",
    "            f\"Files to link are {len(self.reference_file):,.0f} and {len(self.census_to_match):,.0f} records\"\n",
    "        )\n",
    "        if splink_engine == \"spark\":\n",
    "            import pyspark\n",
    "\n",
    "            spark_df = pyspark.sql.DataFrame\n",
    "        else:\n",
    "            spark_df = None\n",
    "        if splink_engine == \"spark\" and isinstance(\n",
    "            self.reference_file_for_splink, spark_df\n",
    "        ):\n",
    "            reference_file_for_splink = self.reference_file_for_splink.select(\n",
    "                columns_needed\n",
    "            )\n",
    "        else:\n",
    "            reference_file_for_splink = self.reference_file_for_splink[columns_needed]\n",
    "\n",
    "        tables_for_splink = [\n",
    "            reference_file_for_splink,\n",
    "            prep_table_for_splink(\n",
    "                self.census_to_match.pipe(input_data_transformation),\n",
    "                \"census_2030\",\n",
    "                columns_needed,\n",
    "                df_ops,\n",
    "            ),\n",
    "        ]\n",
    "\n",
    "        blocking_rule_parts = [\n",
    "            f\"l.{col} = r.{col}\" for col in self.cut_columns + blocking_columns\n",
    "        ]\n",
    "        blocking_rule = \" and \".join(blocking_rule_parts)\n",
    "\n",
    "        if splink_engine == \"spark\":\n",
    "            blocking_rule = {\n",
    "                \"blocking_rule\": blocking_rule,\n",
    "                \"salting_partitions\": 10,\n",
    "            }\n",
    "\n",
    "        # We base our Splink linker for this pass on the one we trained above,\n",
    "        # but limiting it to the relevant column comparisons and updating the pass-specific\n",
    "        # settings\n",
    "        pass_splink_settings = copy.deepcopy(splink_settings)\n",
    "        pass_splink_settings[\"comparisons\"] = [\n",
    "            c\n",
    "            for c in pass_splink_settings[\"comparisons\"]\n",
    "            if c[\"output_column_name\"] in self.matching_columns\n",
    "        ]\n",
    "        prior_two_random_records_match = probability_two_random_records_match(\n",
    "            census_2030,\n",
    "            self.reference_file,\n",
    "        )\n",
    "        prior_odds_two_random_records_match = prior_two_random_records_match / (\n",
    "            1 - prior_two_random_records_match\n",
    "        )\n",
    "        # If cut columns are not used for matching, need to adjust our prior for the fact\n",
    "        # that all pairs compared will have the same values in the cut columns\n",
    "        odds_two_random_records_match = (\n",
    "            prior_odds_two_random_records_match * self.bayes_factor_cut_columns\n",
    "        )\n",
    "        pass_splink_settings[\"probability_two_random_records_match\"] = (\n",
    "            odds_two_random_records_match / (1 + odds_two_random_records_match)\n",
    "        )\n",
    "        pass_splink_settings[\"blocking_rules_to_generate_predictions\"] = [blocking_rule]\n",
    "\n",
    "        if splink_engine == \"duckdb\":\n",
    "            linker = DuckDBLinker(\n",
    "                tables_for_splink,\n",
    "                pass_splink_settings,\n",
    "                # Must match order of tables_for_splink\n",
    "                input_table_aliases=[\"reference_file\", \"census_2030\"],\n",
    "            )\n",
    "        else:\n",
    "            linker = SparkLinker(\n",
    "                tables_for_splink,\n",
    "                pass_splink_settings,\n",
    "                # Must match order of tables_for_splink\n",
    "                input_table_aliases=[\"reference_file\", \"census_2030\"],\n",
    "                spark=spark,\n",
    "            )\n",
    "\n",
    "        num_comparisons = linker.count_num_comparisons_from_blocking_rule(blocking_rule)\n",
    "        print(f\"Number of pairs that will be compared: {num_comparisons:,.0f}\")\n",
    "\n",
    "        # https://moj-analytical-services.github.io/splink/demos/06_Visualising_predictions.html#comparison-viewer-dashboard\n",
    "        # We also include some pairs below the threshold, for additional context.\n",
    "        pairs_worth_inspecting = linker.predict(\n",
    "            threshold_match_probability=probability_threshold - 0.2\n",
    "        )\n",
    "\n",
    "        if (\n",
    "            linker.query_sql(\n",
    "                f\"select count(*) as num from {pairs_worth_inspecting.physical_name}\"\n",
    "            ).num.iloc[0]\n",
    "            > 0\n",
    "        ):\n",
    "            dashboard_file_name = f\"diagnostics/splink_reports/{data_to_use}/{self.name.replace(' ', '_')}__{pass_name.replace(' ', '_')}.html\"\n",
    "            pathlib.Path(dashboard_file_name).parent.mkdir(parents=True, exist_ok=True)\n",
    "            linker.comparison_viewer_dashboard(\n",
    "                pairs_worth_inspecting, dashboard_file_name, overwrite=True\n",
    "            )\n",
    "            from IPython.display import IFrame, display\n",
    "\n",
    "            display(IFrame(src=f\"./{dashboard_file_name}\", width=\"100%\", height=1200))\n",
    "\n",
    "        if compute_engine == \"pandas\":\n",
    "            new_provisional_links = pairs_worth_inspecting.as_pandas_dataframe()\n",
    "            new_provisional_links = new_provisional_links[\n",
    "                new_provisional_links.match_probability >= probability_threshold\n",
    "            ]\n",
    "        elif splink_engine == \"spark\":\n",
    "            # We do a tiny bit of computation in Spark directly to avoid writing more to disk than we need to\n",
    "            pairs_worth_inspecting = pairs_worth_inspecting.as_spark_dataframe()\n",
    "            new_provisional_links = pairs_worth_inspecting.filter(\n",
    "                pairs_worth_inspecting.match_probability >= probability_threshold\n",
    "            )\n",
    "            if (\n",
    "                pairs_worth_inspecting.rdd.getNumPartitions()\n",
    "                < compute_engine_num_workers * 5\n",
    "            ):\n",
    "                new_provisional_links = new_provisional_links.repartition(\n",
    "                    compute_engine_num_workers * 5\n",
    "                )\n",
    "            # NOTE: We do *not* utils.ensure_empty across passes here, because we need the provisional links from all passes\n",
    "            # to stick around\n",
    "            dir_path = f\"{output_dir}/intermediate_data/{self.name}/{pass_name}/new_provisional_links/\"\n",
    "            utils.ensure_empty(dir_path)\n",
    "            file_path = f\"{dir_path}/new_provisional_links_{int(time.time())}.parquet\"\n",
    "            new_provisional_links.write.mode(\"overwrite\").parquet(file_path)\n",
    "            utils.ensure_empty(\n",
    "                spark_checkpoints_dir\n",
    "            )  # We no longer need these checkpoints\n",
    "            new_provisional_links = df_ops.persist(df_ops.read_parquet(file_path))\n",
    "        else:\n",
    "            dir_path = f\"{output_dir}/intermediate_data/{self.name}/{pass_name}/pairs_worth_inspecting/\"\n",
    "            utils.ensure_empty(dir_path)\n",
    "            file_path = f\"{dir_path}/pairs_worth_inspecting_{int(time.time())}.parquet\"\n",
    "            pairs_worth_inspecting.to_parquet(file_path, overwrite=True)\n",
    "            pairs_worth_inspecting = df_ops.persist(df_ops.read_parquet(file_path))\n",
    "            new_provisional_links = pairs_worth_inspecting[\n",
    "                pairs_worth_inspecting.match_probability >= probability_threshold\n",
    "            ]\n",
    "            del pairs_worth_inspecting\n",
    "\n",
    "        if splink_engine == \"spark\":\n",
    "            utils.ensure_empty(\n",
    "                spark_checkpoints_dir\n",
    "            )  # We are done with this Spark linker\n",
    "\n",
    "        if len(new_provisional_links) > 0:\n",
    "            new_provisional_links = df_ops.persist(\n",
    "                label_pairs_with_dataset(new_provisional_links)\n",
    "                .merge(\n",
    "                    record_id_raw_input_file_by_record_id,\n",
    "                    left_on=\"record_id_census_2030\",\n",
    "                    right_on=\"record_id\",\n",
    "                    how=\"left\",\n",
    "                )\n",
    "                .drop(columns=[\"record_id\"])\n",
    "            )\n",
    "            self.provisional_links = df_ops.persist(\n",
    "                df_ops.concat(\n",
    "                    [\n",
    "                        self.provisional_links,\n",
    "                        new_provisional_links.assign(\n",
    "                            module_name=self.name, pass_name=pass_name\n",
    "                        ).pipe(df_ops.ensure_large_string_capacity),\n",
    "                    ],\n",
    "                    ignore_index=True,\n",
    "                )\n",
    "            )\n",
    "\n",
    "            self.census_to_match = df_ops.persist(\n",
    "                self.census_to_match\n",
    "                # Only look for matches among records that have not received a provisional link\n",
    "                # NOTE: \"records\" here does not mean input file records -- a nickname record having\n",
    "                # a provisional link does not prevent a canonical name record from the same input record\n",
    "                # from continuing to match\n",
    "                .merge(\n",
    "                    df_ops.drop_duplicates(\n",
    "                        new_provisional_links[[\"record_id_census_2030\"]]\n",
    "                    ),\n",
    "                    left_on=\"record_id\",\n",
    "                    right_on=\"record_id_census_2030\",\n",
    "                    how=\"left\",\n",
    "                )\n",
    "                .pipe(lambda df: df[df.record_id_census_2030.isna()])\n",
    "                .drop(columns=[\"record_id_census_2030\"])\n",
    "            )\n",
    "\n",
    "        print(\n",
    "            f\"Found {len(new_provisional_links):,.0f} matches; {len(self.census_to_match) / len(census_2030):.2%} still eligible to match\"\n",
    "        )\n",
    "\n",
    "    def confirm_piks_from_provisional_links(self):\n",
    "        assert not self.confirmed\n",
    "\n",
    "        provisional_links = self.provisional_links.merge(\n",
    "            all_piks,\n",
    "            left_on=\"record_id_reference_file\",\n",
    "            right_on=\"record_id\",\n",
    "            how=\"left\",\n",
    "        ).drop(columns=\"record_id\")\n",
    "\n",
    "        # \"After the initial set of links is created in GeoSearch, a post-search program is run to determine\n",
    "        # which of the links are retained. A series of checks are performed: First the date of death\n",
    "        # information from the Numident is checked and links to deceased persons are dropped. Next a\n",
    "        # check is made for more than one SSN assigned to a source record. If more than one SSN is\n",
    "        # assigned, the best link is selected based on match weights. If no best SSN is determined, all SSNs\n",
    "        # assigned in the GeoSearch module are dropped and the input record cascades to the next\n",
    "        # module. A similar post-search program is run at the end of all search modules.\"\n",
    "        # - Layne et al. p. 5\n",
    "\n",
    "        # Drop links to deceased people\n",
    "        # NOTE: On p. 38 of Brown et al. (2023) it discusses at length the number of PVS matches to deceased\n",
    "        # people, which should not be possible based on this process.\n",
    "        # Even though this is more recent, I can't think of a reason why this check would have\n",
    "        # been *removed* from PVS -- can we chalk this up to something experimental they were doing for\n",
    "        # the AR Census in the 2023 report?\n",
    "        provisional_links = df_ops.persist(\n",
    "            provisional_links.merge(dates_of_death, on=\"pik\", how=\"left\")\n",
    "        )\n",
    "        # Census day 2030\n",
    "        deceased_links = df_ops.persist(\n",
    "            provisional_links.date_of_death.notnull()\n",
    "            & (provisional_links.date_of_death <= pandas.to_datetime(\"2030-04-01\"))\n",
    "        )\n",
    "        print(\n",
    "            f\"{df_ops.compute(deceased_links.sum()):,.0f} input records linked to deceased people, dropping links\"\n",
    "        )\n",
    "        provisional_links = df_ops.persist(provisional_links[~deceased_links])\n",
    "\n",
    "        # Check for multiple linkage to a single input file record\n",
    "        max_probability = df_ops.groupby_agg_small_groups(\n",
    "            provisional_links,\n",
    "            by=\"record_id_raw_input_file\",\n",
    "            agg_func=lambda x: x.match_probability.max(),\n",
    "        ).reset_index()\n",
    "        piks_per_input_file = (\n",
    "            provisional_links.merge(\n",
    "                max_probability, on=[\"record_id_raw_input_file\", \"match_probability\"]\n",
    "            )\n",
    "            .pipe(\n",
    "                df_ops.groupby_agg_small_groups,\n",
    "                by=\"record_id_raw_input_file\",\n",
    "                agg_func=lambda x: x.pik.nunique(),\n",
    "            )\n",
    "            .rename(\"num_unique_piks\")\n",
    "            .reset_index()\n",
    "        )\n",
    "\n",
    "        multiple_piks = df_ops.persist(\n",
    "            piks_per_input_file[piks_per_input_file.num_unique_piks > 1]\n",
    "        )\n",
    "        print(\n",
    "            f\"{len(multiple_piks):,.0f} input records linked to multiple PIKs, dropping links\"\n",
    "        )\n",
    "        provisional_links = df_ops.persist(\n",
    "            provisional_links.merge(\n",
    "                multiple_piks, on=\"record_id_raw_input_file\", how=\"left\"\n",
    "            )\n",
    "            .pipe(\n",
    "                lambda df: df[df.num_unique_piks.isnull() | (df.num_unique_piks <= 1)]\n",
    "            )\n",
    "            .pipe(\n",
    "                df_ops.drop_duplicates,\n",
    "                subset=\"record_id_raw_input_file\",\n",
    "                sort_col=\"match_probability\",\n",
    "                keep=\"last\",\n",
    "            )\n",
    "        )\n",
    "\n",
    "        assert df_ops.compute(\n",
    "            (\n",
    "                df_ops.groupby_agg_small_groups(\n",
    "                    provisional_links,\n",
    "                    by=\"record_id_raw_input_file\",\n",
    "                    agg_func=lambda x: x.pik.nunique(),\n",
    "                )\n",
    "                == 1\n",
    "            ).all()\n",
    "        )\n",
    "\n",
    "        self.confirmed = True\n",
    "        self.provisional_links = None\n",
    "\n",
    "        return provisional_links[\n",
    "            [\n",
    "                \"record_id_raw_input_file\",\n",
    "                \"record_id_census_2030\",\n",
    "                \"record_id_reference_file\",\n",
    "                \"pik\",\n",
    "                \"module_name\",\n",
    "                \"pass_name\",\n",
    "                \"match_probability\",\n",
    "            ]\n",
    "        ]\n",
    "\n",
    "\n",
    "def label_pairs_with_dataset(pairs):\n",
    "    pairs = df_ops.persist(pairs)\n",
    "    if len(pairs) == 0:\n",
    "        return pairs\n",
    "\n",
    "    # Name the columns according to the datasets, not \"r\" (right) and \"l\" (left)\n",
    "    for suffix in [\"r\", \"l\"]:\n",
    "        # NOTE: In practice, splink always has \"r\" correspond to one dataset and \"l\" correspond to the other.\n",
    "        # It is unclear to me if this is a documented guarantee, so I double check.\n",
    "        # NOTE: Do not use drop_duplicates here, since the groups should be enormous (the entire dataframe)\n",
    "        assert df_ops.compute(pairs[f\"source_dataset_{suffix}\"].nunique()) == 1\n",
    "        source_dataset_name = df_ops.head(pairs, n=1)[f\"source_dataset_{suffix}\"].iloc[\n",
    "            0\n",
    "        ]\n",
    "        pairs = pairs.rename(\n",
    "            columns={\n",
    "                c: re.sub(f\"_{suffix}$\", f\"_{source_dataset_name}\", c)\n",
    "                for c in pairs.columns\n",
    "                if c.endswith(f\"_{suffix}\")\n",
    "            }\n",
    "        )\n",
    "\n",
    "    return pairs"
   ]
  },
  {
   "cell_type": "code",
   "execution_count": 63,
   "id": "c8b7236a-ef52-4151-acab-ba1f0a186042",
   "metadata": {
    "execution": {
     "iopub.execute_input": "2024-06-01T00:28:57.264934Z",
     "iopub.status.busy": "2024-06-01T00:28:57.264136Z",
     "iopub.status.idle": "2024-06-01T00:28:57.271283Z",
     "shell.execute_reply": "2024-06-01T00:28:57.269979Z"
    },
    "papermill": {
     "duration": 0.036334,
     "end_time": "2024-06-01T00:28:57.273254",
     "exception": false,
     "start_time": "2024-06-01T00:28:57.236920",
     "status": "completed"
    },
    "tags": []
   },
   "outputs": [],
   "source": [
    "person_linkage_cascade = PersonLinkageCascade()"
   ]
  },
  {
   "cell_type": "markdown",
   "id": "96dc1b23-3bbf-4571-a89d-9bf8db4c0dbe",
   "metadata": {
    "papermill": {
     "duration": 0.025588,
     "end_time": "2024-06-01T00:28:57.329043",
     "exception": false,
     "start_time": "2024-06-01T00:28:57.303455",
     "status": "completed"
    },
    "tags": []
   },
   "source": [
    "# Verification Module\n",
    "\n",
    "Wagner and Layne, p.14:\n",
    "\n",
    "> If the input file has a SSN data field, it first goes through the verification process.\n",
    "\n",
    "This module of PVS only runs on input records with an SSN.\n",
    "No records in the CUF have an SSN (SSN is not collected on the decennial)\n",
    "so this module is skipped."
   ]
  },
  {
   "cell_type": "markdown",
   "id": "b0203571-b01f-477b-879d-c1c7587020d7",
   "metadata": {
    "papermill": {
     "duration": 0.025315,
     "end_time": "2024-06-01T00:28:57.380178",
     "exception": false,
     "start_time": "2024-06-01T00:28:57.354863",
     "status": "completed"
    },
    "tags": []
   },
   "source": [
    "# GeoSearch\n",
    "\n",
    "Brown et al. p. 29:\n",
    "\n",
    "> the GeoSearch module blocks records at\n",
    "different levels of geography, starting with the housing unit level, then broadening geography\n",
    "up to the three-digit ZIP Code level. The typical matching variables are name, DOB, sex, and\n",
    "various address fields.\n",
    "\n",
    "Wagner and Layne p. 14:\n",
    "\n",
    "> The typical GeoSearch blocking strategy starts with blocking records at the\n",
    "household level, then broadens the geography for each successive pass and ends at\n",
    "blocking by the first three digits of the zip code. The typical match variables are first,\n",
    "middle, and last names; generational suffix; date of birth; gender and various address\n",
    "fields.\n",
    "> \n",
    "> The data for the GeoSearch module are split into 1,000 cuts based on the first three\n",
    "digits of the zip code (zip3) for record. The GeoSearch program works on one zip3 cut\n",
    "at a time, with shell scripts submitting multiple streams of cuts to the system. This\n",
    "allows for parallel processing and restart capability.\n",
    "\n",
    "Layne, Wagner, and Rothhaas list an exact series of passes with blocking and matching variables\n",
    "for each (Appendix A on p. 25).\n",
    "This was the series of passes they used in running PVS on the Medicare Enrollment\n",
    "Database, the Indian Health Service Patient Registration File, and on two commercial\n",
    "data sources.\n",
    "All of these data sources are rather different than a CUF, and this paper is from 2014,\n",
    "but it is the only place I know of where an entire set of passes is described,\n",
    "so I have used the exact same passes here."
   ]
  },
  {
   "cell_type": "code",
   "execution_count": 64,
   "id": "2560948a-c9ca-4b96-9fa9-4c4b942689e7",
   "metadata": {
    "execution": {
     "iopub.execute_input": "2024-06-01T00:28:57.434401Z",
     "iopub.status.busy": "2024-06-01T00:28:57.433650Z",
     "iopub.status.idle": "2024-06-01T00:28:57.481666Z",
     "shell.execute_reply": "2024-06-01T00:28:57.480768Z"
    },
    "papermill": {
     "duration": 0.079956,
     "end_time": "2024-06-01T00:28:57.485392",
     "exception": false,
     "start_time": "2024-06-01T00:28:57.405436",
     "status": "completed"
    },
    "tags": []
   },
   "outputs": [],
   "source": [
    "person_linkage_cascade.start_module(\n",
    "    name=\"geosearch\",\n",
    "    reference_file=geobase_reference_file,\n",
    "    reference_file_name=\"geobase_reference_file\",\n",
    "    cut_columns=[\"zip3\"],\n",
    "    matching_columns=[\n",
    "        \"first_name_15\",\n",
    "        \"last_name_12\",\n",
    "        \"middle_initial\",\n",
    "        \"day_of_birth\",\n",
    "        \"month_of_birth\",\n",
    "        \"year_of_birth\",\n",
    "        \"geokey\",\n",
    "    ],\n",
    ")"
   ]
  },
  {
   "cell_type": "markdown",
   "id": "0398ac85-1ff3-4103-979c-ff00936ced02",
   "metadata": {
    "papermill": {
     "duration": 0.026202,
     "end_time": "2024-06-01T00:28:57.544156",
     "exception": false,
     "start_time": "2024-06-01T00:28:57.517954",
     "status": "completed"
    },
    "tags": []
   },
   "source": [
    "## Pass 1: Block on geokey (entire address)"
   ]
  },
  {
   "cell_type": "code",
   "execution_count": 65,
   "id": "c13afeba-9198-4546-9092-6ee563cc51e7",
   "metadata": {
    "execution": {
     "iopub.execute_input": "2024-06-01T00:28:57.601395Z",
     "iopub.status.busy": "2024-06-01T00:28:57.600593Z",
     "iopub.status.idle": "2024-06-01T00:28:58.738406Z",
     "shell.execute_reply": "2024-06-01T00:28:58.736859Z"
    },
    "papermill": {
     "duration": 1.16978,
     "end_time": "2024-06-01T00:28:58.742114",
     "exception": false,
     "start_time": "2024-06-01T00:28:57.572334",
     "status": "completed"
    },
    "tags": []
   },
   "outputs": [
    {
     "name": "stdout",
     "output_type": "stream",
     "text": [
      "Running geokey of geosearch\n",
      "Files to link are 32,951 and 11,043 records\n"
     ]
    },
    {
     "name": "stdout",
     "output_type": "stream",
     "text": [
      "Number of pairs that will be compared: 27,542\n"
     ]
    },
    {
     "data": {
      "text/html": [
       "\n",
       "        <iframe\n",
       "            width=\"100%\"\n",
       "            height=\"1200\"\n",
       "            src=\"./diagnostics/splink_reports/small_sample/geosearch__geokey.html\"\n",
       "            frameborder=\"0\"\n",
       "            allowfullscreen\n",
       "            \n",
       "        ></iframe>\n",
       "        "
      ],
      "text/plain": [
       "<IPython.lib.display.IFrame at 0x7fc14e8d4190>"
      ]
     },
     "metadata": {},
     "output_type": "display_data"
    },
    {
     "name": "stdout",
     "output_type": "stream",
     "text": [
      "Found 6,950 matches; 38.67% still eligible to match\n"
     ]
    }
   ],
   "source": [
    "person_linkage_cascade.run_matching_pass(\n",
    "    pass_name=\"geokey\",\n",
    "    blocking_columns=[\"geokey_for_blocking\"],\n",
    ")"
   ]
  },
  {
   "cell_type": "markdown",
   "id": "ef782163-425e-4745-a8a4-f352032ee9d4",
   "metadata": {
    "papermill": {
     "duration": 0.027047,
     "end_time": "2024-06-01T00:28:58.802981",
     "exception": false,
     "start_time": "2024-06-01T00:28:58.775934",
     "status": "completed"
    },
    "tags": []
   },
   "source": [
    "## Pass 2: Block on geokey (entire address), switching first and last names"
   ]
  },
  {
   "cell_type": "code",
   "execution_count": 66,
   "id": "83383f23-807c-49bb-88b7-7ef69d9a6031",
   "metadata": {
    "execution": {
     "iopub.execute_input": "2024-06-01T00:28:58.858944Z",
     "iopub.status.busy": "2024-06-01T00:28:58.858119Z",
     "iopub.status.idle": "2024-06-01T00:28:58.865265Z",
     "shell.execute_reply": "2024-06-01T00:28:58.864441Z"
    },
    "papermill": {
     "duration": 0.037104,
     "end_time": "2024-06-01T00:28:58.866772",
     "exception": false,
     "start_time": "2024-06-01T00:28:58.829668",
     "status": "completed"
    },
    "tags": []
   },
   "outputs": [],
   "source": [
    "def switch_first_and_last_names(df):\n",
    "    return (\n",
    "        df.rename(columns={\"first_name\": \"last_name\", \"last_name\": \"first_name\"})\n",
    "        # Re-calculate the truncated versions of first and last.\n",
    "        # NOTE: It is not necessary to re-calculate the phonetic versions, because\n",
    "        # those are never used in any pass that has a name switch.\n",
    "        .pipe(add_truncated_name_cols)\n",
    "    )"
   ]
  },
  {
   "cell_type": "code",
   "execution_count": 67,
   "id": "f1a30656-2fad-43f2-8712-6e52fb8c94ef",
   "metadata": {
    "execution": {
     "iopub.execute_input": "2024-06-01T00:28:58.926263Z",
     "iopub.status.busy": "2024-06-01T00:28:58.925485Z",
     "iopub.status.idle": "2024-06-01T00:28:59.907576Z",
     "shell.execute_reply": "2024-06-01T00:28:59.906248Z"
    },
    "papermill": {
     "duration": 1.014932,
     "end_time": "2024-06-01T00:28:59.911428",
     "exception": false,
     "start_time": "2024-06-01T00:28:58.896496",
     "status": "completed"
    },
    "tags": []
   },
   "outputs": [
    {
     "name": "stdout",
     "output_type": "stream",
     "text": [
      "Running geokey name switch of geosearch\n",
      "Files to link are 32,951 and 4,270 records\n"
     ]
    },
    {
     "name": "stdout",
     "output_type": "stream",
     "text": [
      "Number of pairs that will be compared: 5,403\n"
     ]
    },
    {
     "data": {
      "text/html": [
       "\n",
       "        <iframe\n",
       "            width=\"100%\"\n",
       "            height=\"1200\"\n",
       "            src=\"./diagnostics/splink_reports/small_sample/geosearch__geokey_name_switch.html\"\n",
       "            frameborder=\"0\"\n",
       "            allowfullscreen\n",
       "            \n",
       "        ></iframe>\n",
       "        "
      ],
      "text/plain": [
       "<IPython.lib.display.IFrame at 0x7fc14dbfab90>"
      ]
     },
     "metadata": {},
     "output_type": "display_data"
    },
    {
     "name": "stdout",
     "output_type": "stream",
     "text": [
      "Found 46 matches; 38.26% still eligible to match\n"
     ]
    }
   ],
   "source": [
    "# We don't actually have any swapping of first and last names in pseudopeople\n",
    "person_linkage_cascade.run_matching_pass(\n",
    "    pass_name=\"geokey name switch\",\n",
    "    blocking_columns=[\"geokey_for_blocking\"],\n",
    "    input_data_transformation=switch_first_and_last_names,\n",
    ")"
   ]
  },
  {
   "cell_type": "markdown",
   "id": "7f1abcb7-8577-428a-a531-5fac5f3ea6dc",
   "metadata": {
    "papermill": {
     "duration": 0.02778,
     "end_time": "2024-06-01T00:28:59.972117",
     "exception": false,
     "start_time": "2024-06-01T00:28:59.944337",
     "status": "completed"
    },
    "tags": []
   },
   "source": [
    "## Pass 3: Block on house number and street name Soundex"
   ]
  },
  {
   "cell_type": "code",
   "execution_count": 68,
   "id": "e7c841a9-09af-4708-a094-2ddc19526648",
   "metadata": {
    "execution": {
     "iopub.execute_input": "2024-06-01T00:29:00.028762Z",
     "iopub.status.busy": "2024-06-01T00:29:00.028063Z",
     "iopub.status.idle": "2024-06-01T00:29:01.169694Z",
     "shell.execute_reply": "2024-06-01T00:29:01.169056Z"
    },
    "papermill": {
     "duration": 1.174721,
     "end_time": "2024-06-01T00:29:01.174033",
     "exception": false,
     "start_time": "2024-06-01T00:28:59.999312",
     "status": "completed"
    },
    "tags": []
   },
   "outputs": [
    {
     "name": "stdout",
     "output_type": "stream",
     "text": [
      "Running house number and street name Soundex of geosearch\n",
      "Files to link are 32,951 and 4,225 records\n"
     ]
    },
    {
     "name": "stdout",
     "output_type": "stream",
     "text": [
      "Number of pairs that will be compared: 15,253\n"
     ]
    },
    {
     "data": {
      "text/html": [
       "\n",
       "        <iframe\n",
       "            width=\"100%\"\n",
       "            height=\"1200\"\n",
       "            src=\"./diagnostics/splink_reports/small_sample/geosearch__house_number_and_street_name_Soundex.html\"\n",
       "            frameborder=\"0\"\n",
       "            allowfullscreen\n",
       "            \n",
       "        ></iframe>\n",
       "        "
      ],
      "text/plain": [
       "<IPython.lib.display.IFrame at 0x7fc14dc15690>"
      ]
     },
     "metadata": {},
     "output_type": "display_data"
    },
    {
     "name": "stdout",
     "output_type": "stream",
     "text": [
      "Found 756 matches; 32.96% still eligible to match\n"
     ]
    }
   ],
   "source": [
    "person_linkage_cascade.run_matching_pass(\n",
    "    pass_name=\"house number and street name Soundex\",\n",
    "    blocking_columns=[\"street_number_for_blocking\", \"street_name_for_blocking_soundex\"],\n",
    ")"
   ]
  },
  {
   "cell_type": "markdown",
   "id": "f5b68b0c-f33b-42bb-a80f-22afae888216",
   "metadata": {
    "papermill": {
     "duration": 0.028423,
     "end_time": "2024-06-01T00:29:01.236644",
     "exception": false,
     "start_time": "2024-06-01T00:29:01.208221",
     "status": "completed"
    },
    "tags": []
   },
   "source": [
    "## Pass 4: Block on house number and street name Soundex, switching first and last names"
   ]
  },
  {
   "cell_type": "code",
   "execution_count": 69,
   "id": "d7665776-b592-4762-b4ca-f399ce9a95ec",
   "metadata": {
    "execution": {
     "iopub.execute_input": "2024-06-01T00:29:01.292470Z",
     "iopub.status.busy": "2024-06-01T00:29:01.291656Z",
     "iopub.status.idle": "2024-06-01T00:29:02.368676Z",
     "shell.execute_reply": "2024-06-01T00:29:02.367339Z"
    },
    "papermill": {
     "duration": 1.108209,
     "end_time": "2024-06-01T00:29:02.371761",
     "exception": false,
     "start_time": "2024-06-01T00:29:01.263552",
     "status": "completed"
    },
    "tags": []
   },
   "outputs": [
    {
     "name": "stdout",
     "output_type": "stream",
     "text": [
      "Running house number and street name Soundex name switch of geosearch\n",
      "Files to link are 32,951 and 3,640 records\n"
     ]
    },
    {
     "name": "stdout",
     "output_type": "stream",
     "text": [
      "Number of pairs that will be compared: 11,250\n"
     ]
    },
    {
     "data": {
      "text/html": [
       "\n",
       "        <iframe\n",
       "            width=\"100%\"\n",
       "            height=\"1200\"\n",
       "            src=\"./diagnostics/splink_reports/small_sample/geosearch__house_number_and_street_name_Soundex_name_switch.html\"\n",
       "            frameborder=\"0\"\n",
       "            allowfullscreen\n",
       "            \n",
       "        ></iframe>\n",
       "        "
      ],
      "text/plain": [
       "<IPython.lib.display.IFrame at 0x7fc15103e260>"
      ]
     },
     "metadata": {},
     "output_type": "display_data"
    },
    {
     "name": "stdout",
     "output_type": "stream",
     "text": [
      "Found 2 matches; 32.94% still eligible to match\n"
     ]
    }
   ],
   "source": [
    "person_linkage_cascade.run_matching_pass(\n",
    "    pass_name=\"house number and street name Soundex name switch\",\n",
    "    blocking_columns=[\"street_number_for_blocking\", \"street_name_for_blocking_soundex\"],\n",
    "    input_data_transformation=switch_first_and_last_names,\n",
    ")"
   ]
  },
  {
   "cell_type": "markdown",
   "id": "c4753574-d776-4b83-9ca8-762a2d665ddc",
   "metadata": {
    "papermill": {
     "duration": 0.027276,
     "end_time": "2024-06-01T00:29:02.432906",
     "exception": false,
     "start_time": "2024-06-01T00:29:02.405630",
     "status": "completed"
    },
    "tags": []
   },
   "source": [
    "## Pass 5: Block on some name and DOB information"
   ]
  },
  {
   "cell_type": "code",
   "execution_count": 70,
   "id": "1924438b-d5ec-4bc7-a083-46d0165c9682",
   "metadata": {
    "execution": {
     "iopub.execute_input": "2024-06-01T00:29:02.491015Z",
     "iopub.status.busy": "2024-06-01T00:29:02.490192Z",
     "iopub.status.idle": "2024-06-01T00:29:03.631233Z",
     "shell.execute_reply": "2024-06-01T00:29:03.629460Z"
    },
    "papermill": {
     "duration": 1.174059,
     "end_time": "2024-06-01T00:29:03.635000",
     "exception": false,
     "start_time": "2024-06-01T00:29:02.460941",
     "status": "completed"
    },
    "tags": []
   },
   "outputs": [
    {
     "name": "stdout",
     "output_type": "stream",
     "text": [
      "Running some name and DOB information of geosearch\n",
      "Files to link are 32,951 and 3,638 records\n"
     ]
    },
    {
     "name": "stdout",
     "output_type": "stream",
     "text": [
      "Number of pairs that will be compared: 3,879\n"
     ]
    },
    {
     "data": {
      "text/html": [
       "\n",
       "        <iframe\n",
       "            width=\"100%\"\n",
       "            height=\"1200\"\n",
       "            src=\"./diagnostics/splink_reports/small_sample/geosearch__some_name_and_DOB_information.html\"\n",
       "            frameborder=\"0\"\n",
       "            allowfullscreen\n",
       "            \n",
       "        ></iframe>\n",
       "        "
      ],
      "text/plain": [
       "<IPython.lib.display.IFrame at 0x7fc151088880>"
      ]
     },
     "metadata": {},
     "output_type": "display_data"
    },
    {
     "name": "stdout",
     "output_type": "stream",
     "text": [
      "Found 3,596 matches; 15.14% still eligible to match\n"
     ]
    }
   ],
   "source": [
    "person_linkage_cascade.run_matching_pass(\n",
    "    pass_name=\"some name and DOB information\",\n",
    "    blocking_columns=[\"first_name_2\", \"last_name_2\", \"year_of_birth\"],\n",
    ")"
   ]
  },
  {
   "cell_type": "markdown",
   "id": "3f507b1e-61e6-448f-bc2e-afccc3020356",
   "metadata": {
    "papermill": {
     "duration": 0.02767,
     "end_time": "2024-06-01T00:29:03.697574",
     "exception": false,
     "start_time": "2024-06-01T00:29:03.669904",
     "status": "completed"
    },
    "tags": []
   },
   "source": [
    "## Post-process and confirm PIKs"
   ]
  },
  {
   "cell_type": "code",
   "execution_count": 71,
   "id": "30899aeb-e35f-4246-979c-af9f8235c3ab",
   "metadata": {
    "execution": {
     "iopub.execute_input": "2024-06-01T00:29:03.755342Z",
     "iopub.status.busy": "2024-06-01T00:29:03.754642Z",
     "iopub.status.idle": "2024-06-01T00:29:03.928320Z",
     "shell.execute_reply": "2024-06-01T00:29:03.926589Z"
    },
    "papermill": {
     "duration": 0.206887,
     "end_time": "2024-06-01T00:29:03.932011",
     "exception": false,
     "start_time": "2024-06-01T00:29:03.725124",
     "status": "completed"
    },
    "tags": []
   },
   "outputs": [
    {
     "name": "stdout",
     "output_type": "stream",
     "text": [
      "115 input records linked to deceased people, dropping links\n"
     ]
    },
    {
     "name": "stdout",
     "output_type": "stream",
     "text": [
      "4 input records linked to multiple PIKs, dropping links\n"
     ]
    }
   ],
   "source": [
    "person_linkage_cascade.confirm_piks()"
   ]
  },
  {
   "cell_type": "code",
   "execution_count": 72,
   "id": "0eea4fa2-588b-4555-a78e-8747da8db6fb",
   "metadata": {
    "execution": {
     "iopub.execute_input": "2024-06-01T00:29:03.998261Z",
     "iopub.status.busy": "2024-06-01T00:29:03.997569Z",
     "iopub.status.idle": "2024-06-01T00:29:04.015594Z",
     "shell.execute_reply": "2024-06-01T00:29:04.013914Z"
    },
    "papermill": {
     "duration": 0.049461,
     "end_time": "2024-06-01T00:29:04.017568",
     "exception": false,
     "start_time": "2024-06-01T00:29:03.968107",
     "status": "completed"
    },
    "tags": []
   },
   "outputs": [
    {
     "data": {
      "text/plain": [
       "module_name  pass_name                                       \n",
       "geosearch    geokey                                              6708\n",
       "             some name and DOB information                       1948\n",
       "             house number and street name Soundex                 574\n",
       "             geokey name switch                                    45\n",
       "             house number and street name Soundex name switch       2\n",
       "dtype: int64"
      ]
     },
     "execution_count": 72,
     "metadata": {},
     "output_type": "execute_result"
    }
   ],
   "source": [
    "df_ops.compute(\n",
    "    person_linkage_cascade.confirmed_piks.groupby([\"module_name\", \"pass_name\"]).size()\n",
    ").sort_values(ascending=False)"
   ]
  },
  {
   "cell_type": "markdown",
   "id": "d64ae657-5248-4a78-b836-3a04e8732140",
   "metadata": {
    "papermill": {
     "duration": 0.02942,
     "end_time": "2024-06-01T00:29:04.136875",
     "exception": false,
     "start_time": "2024-06-01T00:29:04.107455",
     "status": "completed"
    },
    "tags": []
   },
   "source": [
    "# ZIP3 Adjacency Search\n",
    "\n",
    "Layne, Wagner, and Rothhaas (p. 6) refers to ZIP3 adjacency as a module and even provides\n",
    "a list of two passes within it in Appendix A.\n",
    "\n",
    "Alexander et al. (p. 6) refers to it the same way, as a module.\n",
    "\n",
    "However, Wagner and Layne (p. 14) says:\n",
    "\n",
    "> The GeoSearch module also incorporates the adjacency of neighboring areas with\n",
    "different zip3 values\n",
    "\n",
    "which implies this logic is a pass or passes *within* GeoSearch (and due to how cascading works,\n",
    "this is not just an academic distinction).\n",
    "\n",
    "There is no mention at all of ZIP3 adjacency in the Brown et al. paper from 2023.\n",
    "\n",
    "**TODO**: Determine whether this still exists, how it works if so, and implement it.\n",
    "Doesn't really make sense with the sample data since there is only one ZIP."
   ]
  },
  {
   "cell_type": "markdown",
   "id": "ca19c7f2-e129-4c96-b22e-a2983c40a15c",
   "metadata": {
    "papermill": {
     "duration": 0.028007,
     "end_time": "2024-06-01T00:29:04.192801",
     "exception": false,
     "start_time": "2024-06-01T00:29:04.164794",
     "status": "completed"
    },
    "tags": []
   },
   "source": [
    "# Movers\n",
    "\n",
    "The Movers module is not mentioned in Brown et al, nor in Wagner and Layne.\n",
    "\n",
    "In Layne, Wagner, and Rothhaas (p. 7), published in 2014, it is described as \"Prototyped only – not implemented in PVS\":\n",
    "\n",
    "> The Movers module is appropriate for input files that combine individuals together into\n",
    "> households.\n",
    "> The module seeks multiple members of an input household in one address that\n",
    "> may have moved together to another address.\n",
    "> To be eligible for this module the household size must be greater than one.\n",
    "> This module is being tested and was not used in the analysis for this paper.\n",
    "\n",
    "Alexander et al. (p. 6) a year later makes no note of it being experimental:\n",
    "\n",
    "> To be eligible for the Movers Module, no member of the household can have a\n",
    "> PIK and the household must consist of more than one member.\n",
    "> This module considers persons living at the same address as a unit and\n",
    "> searches for matching units living together in the reference file (without regard for address).\n",
    "\n",
    "Essentially the same text is included in Massey et al., published in 2018.\n",
    "\n",
    "Though it doesn't provide much information, [this document](https://gunnisonconsulting.com/docs/pdf/Record%20Linkage%20Slicksheet_FINAL.pdf)\n",
    "([archive](https://web.archive.org/web/20230705010237/https://gunnisonconsulting.com/docs/pdf/Record%20Linkage%20Slicksheet_FINAL.pdf))\n",
    "from the Gunnison consulting group states that they worked with Census and\n",
    "\"pioneered the transition from a record-by-record matching approach to an\n",
    "approach that better uses groups of records, such as full households, to make more\n",
    "and better links.\"\n",
    "Specifically, they claim that 16% of previously unlinked records were linked using\n",
    "the household-level approach.\n",
    "\n",
    "**TODO**: Haven't figured out if this is still in use, nor how it works.\n",
    "This module seems of particular interest, because it sounds like it is quite different\n",
    "from other modules."
   ]
  },
  {
   "cell_type": "markdown",
   "id": "b7412843-d6c2-4064-ab38-ab9335b9d71e",
   "metadata": {
    "papermill": {
     "duration": 0.027382,
     "end_time": "2024-06-01T00:29:04.248446",
     "exception": false,
     "start_time": "2024-06-01T00:29:04.221064",
     "status": "completed"
    },
    "tags": []
   },
   "source": [
    "# NameSearch\n",
    "\n",
    "Brown et al., p. 29:\n",
    "\n",
    "> ... the NameSearch module, which uses only name and DOB fields, comparing all combinations of\n",
    "alternate names and dates of birth.\n",
    "\n",
    "Wagner and Layne, p. 15:\n",
    "\n",
    "> The NameSearch module searches the reference files for records failing the\n",
    "Verification and GeoSearch Modules. Only name and date of birth data are used in this\n",
    "search process. NameSearch consists of multiple passes against the Numident Name\n",
    "Reference file, which contains all possible combinations of alternate names and\n",
    "alternate dates of birth for each SSN in the Census Numident file, and includes data for\n",
    "ITINs.\n",
    "> \n",
    "> The typical NameSearch blocking strategy starts with a strict first pass, blocking\n",
    "records by exact date of birth and parts of names. Successive passes block on parts of\n",
    "the name and date of birth fields to allow for some name and date of birth variation.\n",
    "The typical match variables are first, middle and last names, generational suffix, date of\n",
    "birth, and gender.\n",
    "\n",
    "As in GeoSearch, the only full listing I could find of passes with blocking and matching variables\n",
    "was in Layne, Wagner, and Rothhaas.\n",
    "This is probably somewhat out of date and is not what would be used on a CUF, but I have\n",
    "copied it exactly here."
   ]
  },
  {
   "cell_type": "code",
   "execution_count": 73,
   "id": "fdf41a6a-8c72-4c9a-bb8c-410d7877414f",
   "metadata": {
    "execution": {
     "iopub.execute_input": "2024-06-01T00:29:04.306396Z",
     "iopub.status.busy": "2024-06-01T00:29:04.305698Z",
     "iopub.status.idle": "2024-06-01T00:29:04.364455Z",
     "shell.execute_reply": "2024-06-01T00:29:04.362400Z"
    },
    "papermill": {
     "duration": 0.093254,
     "end_time": "2024-06-01T00:29:04.368690",
     "exception": false,
     "start_time": "2024-06-01T00:29:04.275436",
     "status": "completed"
    },
    "tags": []
   },
   "outputs": [],
   "source": [
    "person_linkage_cascade.start_module(\n",
    "    name=\"namesearch\",\n",
    "    reference_file=name_dob_reference_file,\n",
    "    reference_file_name=\"name_dob_reference_file\",\n",
    "    cut_columns=[\"first_initial_cut\", \"last_initial_cut\"],\n",
    "    matching_columns=[\n",
    "        \"first_name_15\",\n",
    "        \"last_name_12\",\n",
    "        \"middle_initial\",\n",
    "        \"day_of_birth\",\n",
    "        \"month_of_birth\",\n",
    "        \"year_of_birth\",\n",
    "    ],\n",
    ")"
   ]
  },
  {
   "cell_type": "markdown",
   "id": "bf43e928-be1c-4f2a-a747-e624c19d40d6",
   "metadata": {
    "papermill": {
     "duration": 0.027713,
     "end_time": "2024-06-01T00:29:04.431658",
     "exception": false,
     "start_time": "2024-06-01T00:29:04.403945",
     "status": "completed"
    },
    "tags": []
   },
   "source": [
    "## Pass 1: Block on DOB and NYSIIS of name"
   ]
  },
  {
   "cell_type": "code",
   "execution_count": 74,
   "id": "01e5baab-1b94-4359-9398-c829ebb2a920",
   "metadata": {
    "execution": {
     "iopub.execute_input": "2024-06-01T00:29:04.491127Z",
     "iopub.status.busy": "2024-06-01T00:29:04.490432Z",
     "iopub.status.idle": "2024-06-01T00:29:05.494243Z",
     "shell.execute_reply": "2024-06-01T00:29:05.492453Z"
    },
    "papermill": {
     "duration": 1.038699,
     "end_time": "2024-06-01T00:29:05.498143",
     "exception": false,
     "start_time": "2024-06-01T00:29:04.459444",
     "status": "completed"
    },
    "tags": []
   },
   "outputs": [
    {
     "name": "stdout",
     "output_type": "stream",
     "text": [
      "Running DOB and NYSIIS of name of namesearch\n",
      "Files to link are 20,110 and 1,763 records\n"
     ]
    },
    {
     "name": "stdout",
     "output_type": "stream",
     "text": [
      "Number of pairs that will be compared: 281\n"
     ]
    },
    {
     "data": {
      "text/html": [
       "\n",
       "        <iframe\n",
       "            width=\"100%\"\n",
       "            height=\"1200\"\n",
       "            src=\"./diagnostics/splink_reports/small_sample/namesearch__DOB_and_NYSIIS_of_name.html\"\n",
       "            frameborder=\"0\"\n",
       "            allowfullscreen\n",
       "            \n",
       "        ></iframe>\n",
       "        "
      ],
      "text/plain": [
       "<IPython.lib.display.IFrame at 0x7fc14e934fd0>"
      ]
     },
     "metadata": {},
     "output_type": "display_data"
    },
    {
     "name": "stdout",
     "output_type": "stream",
     "text": [
      "Found 281 matches; 13.42% still eligible to match\n"
     ]
    }
   ],
   "source": [
    "person_linkage_cascade.run_matching_pass(\n",
    "    pass_name=\"DOB and NYSIIS of name\",\n",
    "    blocking_columns=[\n",
    "        \"day_of_birth\",\n",
    "        \"month_of_birth\",\n",
    "        \"year_of_birth\",\n",
    "        \"first_name_nysiis\",\n",
    "        \"last_name_nysiis\",\n",
    "    ],\n",
    ")"
   ]
  },
  {
   "cell_type": "markdown",
   "id": "bedbec09-ed90-4d7d-9fe3-4a934b6d8bce",
   "metadata": {
    "papermill": {
     "duration": 0.028728,
     "end_time": "2024-06-01T00:29:05.560537",
     "exception": false,
     "start_time": "2024-06-01T00:29:05.531809",
     "status": "completed"
    },
    "tags": []
   },
   "source": [
    "## Pass 2: Block on DOB and initials"
   ]
  },
  {
   "cell_type": "code",
   "execution_count": 75,
   "id": "7011e74c-b87e-436c-9c75-5fe23fafdd8e",
   "metadata": {
    "execution": {
     "iopub.execute_input": "2024-06-01T00:29:05.620245Z",
     "iopub.status.busy": "2024-06-01T00:29:05.619546Z",
     "iopub.status.idle": "2024-06-01T00:29:06.949019Z",
     "shell.execute_reply": "2024-06-01T00:29:06.947299Z"
    },
    "papermill": {
     "duration": 1.364129,
     "end_time": "2024-06-01T00:29:06.952701",
     "exception": false,
     "start_time": "2024-06-01T00:29:05.588572",
     "status": "completed"
    },
    "tags": []
   },
   "outputs": [
    {
     "name": "stdout",
     "output_type": "stream",
     "text": [
      "Running DOB and initials of namesearch\n",
      "Files to link are 20,110 and 1,482 records\n"
     ]
    },
    {
     "name": "stdout",
     "output_type": "stream",
     "text": [
      "Number of pairs that will be compared: 122\n"
     ]
    },
    {
     "data": {
      "text/html": [
       "\n",
       "        <iframe\n",
       "            width=\"100%\"\n",
       "            height=\"1200\"\n",
       "            src=\"./diagnostics/splink_reports/small_sample/namesearch__DOB_and_initials.html\"\n",
       "            frameborder=\"0\"\n",
       "            allowfullscreen\n",
       "            \n",
       "        ></iframe>\n",
       "        "
      ],
      "text/plain": [
       "<IPython.lib.display.IFrame at 0x7fc14e8d6200>"
      ]
     },
     "metadata": {},
     "output_type": "display_data"
    },
    {
     "name": "stdout",
     "output_type": "stream",
     "text": [
      "Found 106 matches; 12.46% still eligible to match\n"
     ]
    }
   ],
   "source": [
    "person_linkage_cascade.run_matching_pass(\n",
    "    pass_name=\"DOB and initials\",\n",
    "    blocking_columns=[\n",
    "        \"day_of_birth\",\n",
    "        \"month_of_birth\",\n",
    "        \"year_of_birth\",\n",
    "        \"first_name_1\",\n",
    "        \"last_name_1\",\n",
    "    ],\n",
    ")"
   ]
  },
  {
   "cell_type": "markdown",
   "id": "1d3e5dad-fbb8-4e7f-9b31-8ef079623b71",
   "metadata": {
    "papermill": {
     "duration": 0.02827,
     "end_time": "2024-06-01T00:29:07.015706",
     "exception": false,
     "start_time": "2024-06-01T00:29:06.987436",
     "status": "completed"
    },
    "tags": []
   },
   "source": [
    "## Pass 3: Block on year of birth and first two characters of name"
   ]
  },
  {
   "cell_type": "code",
   "execution_count": 76,
   "id": "afdc57ab-bf73-4524-a82a-4242a7e37be3",
   "metadata": {
    "execution": {
     "iopub.execute_input": "2024-06-01T00:29:07.074264Z",
     "iopub.status.busy": "2024-06-01T00:29:07.073275Z",
     "iopub.status.idle": "2024-06-01T00:29:08.096222Z",
     "shell.execute_reply": "2024-06-01T00:29:08.094544Z"
    },
    "papermill": {
     "duration": 1.057078,
     "end_time": "2024-06-01T00:29:08.100062",
     "exception": false,
     "start_time": "2024-06-01T00:29:07.042984",
     "status": "completed"
    },
    "tags": []
   },
   "outputs": [
    {
     "name": "stdout",
     "output_type": "stream",
     "text": [
      "Running year of birth and first two characters of name of namesearch\n",
      "Files to link are 20,110 and 1,376 records\n"
     ]
    },
    {
     "name": "stdout",
     "output_type": "stream",
     "text": [
      "Number of pairs that will be compared: 72\n"
     ]
    },
    {
     "data": {
      "text/html": [
       "\n",
       "        <iframe\n",
       "            width=\"100%\"\n",
       "            height=\"1200\"\n",
       "            src=\"./diagnostics/splink_reports/small_sample/namesearch__year_of_birth_and_first_two_characters_of_name.html\"\n",
       "            frameborder=\"0\"\n",
       "            allowfullscreen\n",
       "            \n",
       "        ></iframe>\n",
       "        "
      ],
      "text/plain": [
       "<IPython.lib.display.IFrame at 0x7fc15badb3d0>"
      ]
     },
     "metadata": {},
     "output_type": "display_data"
    },
    {
     "name": "stdout",
     "output_type": "stream",
     "text": [
      "Found 13 matches; 12.34% still eligible to match\n"
     ]
    }
   ],
   "source": [
    "person_linkage_cascade.run_matching_pass(\n",
    "    pass_name=\"year of birth and first two characters of name\",\n",
    "    blocking_columns=[\"year_of_birth\", \"first_name_2\", \"last_name_2\"],\n",
    ")"
   ]
  },
  {
   "cell_type": "markdown",
   "id": "980962d2-3da2-4ca1-82b6-6452e6fce0f8",
   "metadata": {
    "papermill": {
     "duration": 0.029847,
     "end_time": "2024-06-01T00:29:08.165687",
     "exception": false,
     "start_time": "2024-06-01T00:29:08.135840",
     "status": "completed"
    },
    "tags": []
   },
   "source": [
    "## Pass 4: Block on birthday and first two characters of name"
   ]
  },
  {
   "cell_type": "code",
   "execution_count": 77,
   "id": "9ea04745-1b41-4e13-8975-bb2e015c3fa2",
   "metadata": {
    "execution": {
     "iopub.execute_input": "2024-06-01T00:29:08.225616Z",
     "iopub.status.busy": "2024-06-01T00:29:08.224224Z",
     "iopub.status.idle": "2024-06-01T00:29:09.257984Z",
     "shell.execute_reply": "2024-06-01T00:29:09.257365Z"
    },
    "papermill": {
     "duration": 1.068138,
     "end_time": "2024-06-01T00:29:09.262082",
     "exception": false,
     "start_time": "2024-06-01T00:29:08.193944",
     "status": "completed"
    },
    "tags": []
   },
   "outputs": [
    {
     "name": "stdout",
     "output_type": "stream",
     "text": [
      "Running birthday and first two characters of name of namesearch\n",
      "Files to link are 20,110 and 1,363 records\n"
     ]
    },
    {
     "name": "stdout",
     "output_type": "stream",
     "text": [
      "Number of pairs that will be compared: 75\n"
     ]
    },
    {
     "data": {
      "text/html": [
       "\n",
       "        <iframe\n",
       "            width=\"100%\"\n",
       "            height=\"1200\"\n",
       "            src=\"./diagnostics/splink_reports/small_sample/namesearch__birthday_and_first_two_characters_of_name.html\"\n",
       "            frameborder=\"0\"\n",
       "            allowfullscreen\n",
       "            \n",
       "        ></iframe>\n",
       "        "
      ],
      "text/plain": [
       "<IPython.lib.display.IFrame at 0x7fc1fc4bb9d0>"
      ]
     },
     "metadata": {},
     "output_type": "display_data"
    },
    {
     "name": "stdout",
     "output_type": "stream",
     "text": [
      "Found 63 matches; 11.77% still eligible to match\n"
     ]
    }
   ],
   "source": [
    "person_linkage_cascade.run_matching_pass(\n",
    "    pass_name=\"birthday and first two characters of name\",\n",
    "    blocking_columns=[\"day_of_birth\", \"month_of_birth\", \"first_name_2\", \"last_name_2\"],\n",
    ")"
   ]
  },
  {
   "cell_type": "markdown",
   "id": "368e0d7c-54d8-4ce5-9723-0650a2a58924",
   "metadata": {
    "papermill": {
     "duration": 0.02864,
     "end_time": "2024-06-01T00:29:09.325297",
     "exception": false,
     "start_time": "2024-06-01T00:29:09.296657",
     "status": "completed"
    },
    "tags": []
   },
   "source": [
    "## Post-process and confirm PIKs"
   ]
  },
  {
   "cell_type": "code",
   "execution_count": 78,
   "id": "76a7588d-85c3-4087-b6db-17dc31859cd7",
   "metadata": {
    "execution": {
     "iopub.execute_input": "2024-06-01T00:29:09.385761Z",
     "iopub.status.busy": "2024-06-01T00:29:09.385041Z",
     "iopub.status.idle": "2024-06-01T00:29:09.439469Z",
     "shell.execute_reply": "2024-06-01T00:29:09.438920Z"
    },
    "papermill": {
     "duration": 0.089863,
     "end_time": "2024-06-01T00:29:09.443866",
     "exception": false,
     "start_time": "2024-06-01T00:29:09.354003",
     "status": "completed"
    },
    "tags": []
   },
   "outputs": [
    {
     "name": "stdout",
     "output_type": "stream",
     "text": [
      "75 input records linked to deceased people, dropping links\n",
      "0 input records linked to multiple PIKs, dropping links\n"
     ]
    }
   ],
   "source": [
    "person_linkage_cascade.confirm_piks()"
   ]
  },
  {
   "cell_type": "code",
   "execution_count": 79,
   "id": "7892c48c-c5d5-44c6-9439-2f59ebc053b5",
   "metadata": {
    "execution": {
     "iopub.execute_input": "2024-06-01T00:29:09.511627Z",
     "iopub.status.busy": "2024-06-01T00:29:09.510921Z",
     "iopub.status.idle": "2024-06-01T00:29:09.525478Z",
     "shell.execute_reply": "2024-06-01T00:29:09.524900Z"
    },
    "papermill": {
     "duration": 0.047502,
     "end_time": "2024-06-01T00:29:09.527412",
     "exception": false,
     "start_time": "2024-06-01T00:29:09.479910",
     "status": "completed"
    },
    "tags": []
   },
   "outputs": [
    {
     "data": {
      "text/plain": [
       "module_name  pass_name                                       \n",
       "geosearch    geokey                                              6708\n",
       "             some name and DOB information                       1948\n",
       "             house number and street name Soundex                 574\n",
       "namesearch   DOB and NYSIIS of name                               219\n",
       "             DOB and initials                                      97\n",
       "             birthday and first two characters of name             61\n",
       "geosearch    geokey name switch                                    45\n",
       "namesearch   year of birth and first two characters of name        11\n",
       "geosearch    house number and street name Soundex name switch       2\n",
       "dtype: int64"
      ]
     },
     "execution_count": 79,
     "metadata": {},
     "output_type": "execute_result"
    }
   ],
   "source": [
    "df_ops.compute(\n",
    "    person_linkage_cascade.confirmed_piks.groupby([\"module_name\", \"pass_name\"]).size()\n",
    ").sort_values(ascending=False)"
   ]
  },
  {
   "cell_type": "markdown",
   "id": "5cf67411-44e7-4ae8-926c-9b1f56d4522f",
   "metadata": {
    "papermill": {
     "duration": 0.029648,
     "end_time": "2024-06-01T00:29:09.587590",
     "exception": false,
     "start_time": "2024-06-01T00:29:09.557942",
     "status": "completed"
    },
    "tags": []
   },
   "source": [
    "# DOBSearch\n",
    "\n",
    "Brown et al., p. 29:\n",
    "\n",
    "> ... the DOBSearch module, which blocks on\n",
    "month and day of birth, then compares name, sex, and DOB.\n",
    "\n",
    "Wagner and Layne, p. 15:\n",
    "\n",
    "> The DOBSearch module searches the reference files for the records that fail the\n",
    "> NameSearch, using name and date of birth data. The module matches against a re-split\n",
    "> version of the Numident Name Reference file, splitting the data based on month and day\n",
    "> of birth.\n",
    "> \n",
    "> There are typically four blocking passes in the DOBSearch module. The first pass\n",
    "> blocks records by first name in the incoming file to last name in the DOB Reference file\n",
    "> and last name in incoming file to first name in the DOB Reference file. This strategy\n",
    "> accounts for switching of first and last name in the incoming file.\n",
    "\n",
    "Again, I have used the exact passes listed for this module in Layne, Wagner, and Rothhaas.\n",
    "This is somewhat corroborated to be \"typical\" given that it is consistent with Wagner and Layne\n",
    "above, but both papers are old."
   ]
  },
  {
   "cell_type": "code",
   "execution_count": 80,
   "id": "38bbc963-25e2-4f17-9721-f855589dd28a",
   "metadata": {
    "execution": {
     "iopub.execute_input": "2024-06-01T00:29:09.647674Z",
     "iopub.status.busy": "2024-06-01T00:29:09.647010Z",
     "iopub.status.idle": "2024-06-01T00:29:09.699678Z",
     "shell.execute_reply": "2024-06-01T00:29:09.698914Z"
    },
    "papermill": {
     "duration": 0.087366,
     "end_time": "2024-06-01T00:29:09.703532",
     "exception": false,
     "start_time": "2024-06-01T00:29:09.616166",
     "status": "completed"
    },
    "tags": []
   },
   "outputs": [],
   "source": [
    "person_linkage_cascade.start_module(\n",
    "    name=\"dobsearch\",\n",
    "    reference_file=name_dob_reference_file,\n",
    "    reference_file_name=\"name_dob_reference_file\",\n",
    "    cut_columns=[\"day_of_birth\", \"month_of_birth\"],\n",
    "    matching_columns=[\n",
    "        \"first_name_15\",\n",
    "        \"last_name_12\",\n",
    "        \"middle_initial\",\n",
    "        \"day_of_birth\",\n",
    "        \"month_of_birth\",\n",
    "        \"year_of_birth\",\n",
    "    ],\n",
    ")"
   ]
  },
  {
   "cell_type": "markdown",
   "id": "1ec6013e-ea45-463d-8095-ef3e4c8abf20",
   "metadata": {
    "papermill": {
     "duration": 0.028436,
     "end_time": "2024-06-01T00:29:09.767960",
     "exception": false,
     "start_time": "2024-06-01T00:29:09.739524",
     "status": "completed"
    },
    "tags": []
   },
   "source": [
    "## Pass 1: Block on initials, switching first and last names"
   ]
  },
  {
   "cell_type": "code",
   "execution_count": 81,
   "id": "b9fa73d4-ee01-4a35-94f9-ab0eb6b09132",
   "metadata": {
    "execution": {
     "iopub.execute_input": "2024-06-01T00:29:09.827484Z",
     "iopub.status.busy": "2024-06-01T00:29:09.826791Z",
     "iopub.status.idle": "2024-06-01T00:29:10.623105Z",
     "shell.execute_reply": "2024-06-01T00:29:10.621319Z"
    },
    "papermill": {
     "duration": 0.830293,
     "end_time": "2024-06-01T00:29:10.626556",
     "exception": false,
     "start_time": "2024-06-01T00:29:09.796263",
     "status": "completed"
    },
    "tags": []
   },
   "outputs": [
    {
     "name": "stdout",
     "output_type": "stream",
     "text": [
      "Running initials name switch of dobsearch\n",
      "Files to link are 20,110 and 1,375 records\n"
     ]
    },
    {
     "name": "stdout",
     "output_type": "stream",
     "text": [
      "Number of pairs that will be compared: 136\n"
     ]
    },
    {
     "data": {
      "text/html": [
       "\n",
       "        <iframe\n",
       "            width=\"100%\"\n",
       "            height=\"1200\"\n",
       "            src=\"./diagnostics/splink_reports/small_sample/dobsearch__initials_name_switch.html\"\n",
       "            frameborder=\"0\"\n",
       "            allowfullscreen\n",
       "            \n",
       "        ></iframe>\n",
       "        "
      ],
      "text/plain": [
       "<IPython.lib.display.IFrame at 0x7fc1fc45db40>"
      ]
     },
     "metadata": {},
     "output_type": "display_data"
    },
    {
     "name": "stdout",
     "output_type": "stream",
     "text": [
      "Found 5 matches; 12.41% still eligible to match\n"
     ]
    }
   ],
   "source": [
    "person_linkage_cascade.run_matching_pass(\n",
    "    pass_name=\"initials name switch\",\n",
    "    blocking_columns=[\"first_name_1\", \"last_name_1\"],\n",
    "    input_data_transformation=switch_first_and_last_names,\n",
    ")"
   ]
  },
  {
   "cell_type": "markdown",
   "id": "8fa68a9b-6f38-4f7c-8246-65a3bd780f54",
   "metadata": {
    "papermill": {
     "duration": 0.029476,
     "end_time": "2024-06-01T00:29:10.690541",
     "exception": false,
     "start_time": "2024-06-01T00:29:10.661065",
     "status": "completed"
    },
    "tags": []
   },
   "source": [
    "## Pass 2: Block on first three characters of name"
   ]
  },
  {
   "cell_type": "code",
   "execution_count": 82,
   "id": "75d3d033-96ae-43bf-8f90-c73036c39d0f",
   "metadata": {
    "execution": {
     "iopub.execute_input": "2024-06-01T00:29:10.751957Z",
     "iopub.status.busy": "2024-06-01T00:29:10.751261Z",
     "iopub.status.idle": "2024-06-01T00:29:11.538707Z",
     "shell.execute_reply": "2024-06-01T00:29:11.536869Z"
    },
    "papermill": {
     "duration": 0.820959,
     "end_time": "2024-06-01T00:29:11.540728",
     "exception": false,
     "start_time": "2024-06-01T00:29:10.719769",
     "status": "completed"
    },
    "tags": []
   },
   "outputs": [
    {
     "name": "stdout",
     "output_type": "stream",
     "text": [
      "Running first three characters of name of dobsearch\n",
      "Files to link are 20,110 and 1,370 records\n"
     ]
    },
    {
     "name": "stdout",
     "output_type": "stream",
     "text": [
      "Number of pairs that will be compared: 74\n"
     ]
    },
    {
     "data": {
      "text/html": [
       "\n",
       "        <iframe\n",
       "            width=\"100%\"\n",
       "            height=\"1200\"\n",
       "            src=\"./diagnostics/splink_reports/small_sample/dobsearch__first_three_characters_of_name.html\"\n",
       "            frameborder=\"0\"\n",
       "            allowfullscreen\n",
       "            \n",
       "        ></iframe>\n",
       "        "
      ],
      "text/plain": [
       "<IPython.lib.display.IFrame at 0x7fc15bae9fc0>"
      ]
     },
     "metadata": {},
     "output_type": "display_data"
    },
    {
     "name": "stdout",
     "output_type": "stream",
     "text": [
      "Found 68 matches; 11.79% still eligible to match\n"
     ]
    }
   ],
   "source": [
    "person_linkage_cascade.run_matching_pass(\n",
    "    pass_name=\"first three characters of name\",\n",
    "    blocking_columns=[\"first_name_3\", \"last_name_3\"],\n",
    ")"
   ]
  },
  {
   "cell_type": "markdown",
   "id": "10d06a88-895a-469b-a830-57c46c58ae45",
   "metadata": {
    "papermill": {
     "duration": 0.029897,
     "end_time": "2024-06-01T00:29:11.608844",
     "exception": false,
     "start_time": "2024-06-01T00:29:11.578947",
     "status": "completed"
    },
    "tags": []
   },
   "source": [
    "## Pass 3: Block on reverse Soundex of name"
   ]
  },
  {
   "cell_type": "code",
   "execution_count": 83,
   "id": "a05e24ef-2ae2-4ca7-8d92-05630a1d61d1",
   "metadata": {
    "execution": {
     "iopub.execute_input": "2024-06-01T00:29:11.668608Z",
     "iopub.status.busy": "2024-06-01T00:29:11.668275Z",
     "iopub.status.idle": "2024-06-01T00:29:12.510188Z",
     "shell.execute_reply": "2024-06-01T00:29:12.508447Z"
    },
    "papermill": {
     "duration": 0.876607,
     "end_time": "2024-06-01T00:29:12.514201",
     "exception": false,
     "start_time": "2024-06-01T00:29:11.637594",
     "status": "completed"
    },
    "tags": []
   },
   "outputs": [
    {
     "name": "stdout",
     "output_type": "stream",
     "text": [
      "Running reverse Soundex of name of dobsearch\n",
      "Files to link are 20,110 and 1,302 records\n"
     ]
    },
    {
     "name": "stdout",
     "output_type": "stream",
     "text": [
      "Number of pairs that will be compared: 53\n"
     ]
    },
    {
     "data": {
      "text/html": [
       "\n",
       "        <iframe\n",
       "            width=\"100%\"\n",
       "            height=\"1200\"\n",
       "            src=\"./diagnostics/splink_reports/small_sample/dobsearch__reverse_Soundex_of_name.html\"\n",
       "            frameborder=\"0\"\n",
       "            allowfullscreen\n",
       "            \n",
       "        ></iframe>\n",
       "        "
      ],
      "text/plain": [
       "<IPython.lib.display.IFrame at 0x7fc299e17790>"
      ]
     },
     "metadata": {},
     "output_type": "display_data"
    },
    {
     "name": "stdout",
     "output_type": "stream",
     "text": [
      "Found 43 matches; 11.40% still eligible to match\n"
     ]
    }
   ],
   "source": [
    "person_linkage_cascade.run_matching_pass(\n",
    "    pass_name=\"reverse Soundex of name\",\n",
    "    blocking_columns=[\"first_name_reverse_soundex\", \"last_name_reverse_soundex\"],\n",
    ")"
   ]
  },
  {
   "cell_type": "markdown",
   "id": "f5a4da3d-c9c7-4c50-b409-0bf76920828f",
   "metadata": {
    "papermill": {
     "duration": 0.030052,
     "end_time": "2024-06-01T00:29:12.581336",
     "exception": false,
     "start_time": "2024-06-01T00:29:12.551284",
     "status": "completed"
    },
    "tags": []
   },
   "source": [
    "## Pass 4: Block on first two characters of first name and year of birth"
   ]
  },
  {
   "cell_type": "code",
   "execution_count": 84,
   "id": "19e39510-cabb-46a6-99f8-e1969a8eb364",
   "metadata": {
    "execution": {
     "iopub.execute_input": "2024-06-01T00:29:12.649815Z",
     "iopub.status.busy": "2024-06-01T00:29:12.649507Z",
     "iopub.status.idle": "2024-06-01T00:29:13.389122Z",
     "shell.execute_reply": "2024-06-01T00:29:13.387413Z"
    },
    "papermill": {
     "duration": 0.773999,
     "end_time": "2024-06-01T00:29:13.392984",
     "exception": false,
     "start_time": "2024-06-01T00:29:12.618985",
     "status": "completed"
    },
    "tags": []
   },
   "outputs": [
    {
     "name": "stdout",
     "output_type": "stream",
     "text": [
      "Running first two characters of first name and year of birth of dobsearch\n",
      "Files to link are 20,110 and 1,259 records\n"
     ]
    },
    {
     "name": "stdout",
     "output_type": "stream",
     "text": [
      "Number of pairs that will be compared: 180\n"
     ]
    },
    {
     "data": {
      "text/html": [
       "\n",
       "        <iframe\n",
       "            width=\"100%\"\n",
       "            height=\"1200\"\n",
       "            src=\"./diagnostics/splink_reports/small_sample/dobsearch__first_two_characters_of_first_name_and_year_of_birth.html\"\n",
       "            frameborder=\"0\"\n",
       "            allowfullscreen\n",
       "            \n",
       "        ></iframe>\n",
       "        "
      ],
      "text/plain": [
       "<IPython.lib.display.IFrame at 0x7fc28684b5b0>"
      ]
     },
     "metadata": {},
     "output_type": "display_data"
    },
    {
     "name": "stdout",
     "output_type": "stream",
     "text": [
      "Found 129 matches; 10.23% still eligible to match\n"
     ]
    }
   ],
   "source": [
    "person_linkage_cascade.run_matching_pass(\n",
    "    pass_name=\"first two characters of first name and year of birth\",\n",
    "    blocking_columns=[\"first_name_2\", \"year_of_birth\"],\n",
    ")"
   ]
  },
  {
   "cell_type": "markdown",
   "id": "466e3db4-998e-40cd-9e33-ef6cf6e99b9b",
   "metadata": {
    "papermill": {
     "duration": 0.02894,
     "end_time": "2024-06-01T00:29:13.457511",
     "exception": false,
     "start_time": "2024-06-01T00:29:13.428571",
     "status": "completed"
    },
    "tags": []
   },
   "source": [
    "## Post-process and confirm PIKs"
   ]
  },
  {
   "cell_type": "code",
   "execution_count": 85,
   "id": "9581f811-9d21-449d-8682-97eb0ef0e493",
   "metadata": {
    "execution": {
     "iopub.execute_input": "2024-06-01T00:29:13.519197Z",
     "iopub.status.busy": "2024-06-01T00:29:13.518500Z",
     "iopub.status.idle": "2024-06-01T00:29:13.570344Z",
     "shell.execute_reply": "2024-06-01T00:29:13.568575Z"
    },
    "papermill": {
     "duration": 0.086368,
     "end_time": "2024-06-01T00:29:13.573502",
     "exception": false,
     "start_time": "2024-06-01T00:29:13.487134",
     "status": "completed"
    },
    "tags": []
   },
   "outputs": [
    {
     "name": "stdout",
     "output_type": "stream",
     "text": [
      "79 input records linked to deceased people, dropping links\n",
      "0 input records linked to multiple PIKs, dropping links\n"
     ]
    }
   ],
   "source": [
    "person_linkage_cascade.confirm_piks()"
   ]
  },
  {
   "cell_type": "code",
   "execution_count": 86,
   "id": "853bb87d-ac28-41b1-a661-63d38169615b",
   "metadata": {
    "execution": {
     "iopub.execute_input": "2024-06-01T00:29:13.641416Z",
     "iopub.status.busy": "2024-06-01T00:29:13.640741Z",
     "iopub.status.idle": "2024-06-01T00:29:13.656080Z",
     "shell.execute_reply": "2024-06-01T00:29:13.654967Z"
    },
    "papermill": {
     "duration": 0.049482,
     "end_time": "2024-06-01T00:29:13.658348",
     "exception": false,
     "start_time": "2024-06-01T00:29:13.608866",
     "status": "completed"
    },
    "tags": []
   },
   "outputs": [
    {
     "data": {
      "text/plain": [
       "module_name  pass_name                                           \n",
       "geosearch    geokey                                                  6708\n",
       "             some name and DOB information                           1948\n",
       "             house number and street name Soundex                     574\n",
       "namesearch   DOB and NYSIIS of name                                   219\n",
       "dobsearch    first two characters of first name and year of birth     120\n",
       "namesearch   DOB and initials                                          97\n",
       "             birthday and first two characters of name                 61\n",
       "geosearch    geokey name switch                                        45\n",
       "dobsearch    reverse Soundex of name                                   41\n",
       "namesearch   year of birth and first two characters of name            11\n",
       "dobsearch    initials name switch                                       5\n",
       "geosearch    house number and street name Soundex name switch           2\n",
       "dtype: int64"
      ]
     },
     "execution_count": 86,
     "metadata": {},
     "output_type": "execute_result"
    }
   ],
   "source": [
    "df_ops.compute(\n",
    "    person_linkage_cascade.confirmed_piks.groupby([\"module_name\", \"pass_name\"]).size()\n",
    ").sort_values(ascending=False)"
   ]
  },
  {
   "cell_type": "markdown",
   "id": "58ab65b7-a7ff-46e9-bc54-397bdeb8f6e5",
   "metadata": {
    "papermill": {
     "duration": 0.030442,
     "end_time": "2024-06-01T00:29:13.722077",
     "exception": false,
     "start_time": "2024-06-01T00:29:13.691635",
     "status": "completed"
    },
    "tags": []
   },
   "source": [
    "# HHCompSearch\n",
    "\n",
    "Brown et al., p. 29:\n",
    "\n",
    "> ... the Household Composition search module, which requires at least one\n",
    "> person in the household of the unmatched person to have received a PIK.\n",
    "> The full set of unmatched records with historical name, DOB, sex, and address data from\n",
    "> households whose members with PIKs were observed in the past is created. The module\n",
    "> attempts to find a match to this universe based on name and DOB information.\n",
    "\n",
    "Wagner and Layne, p. 16:\n",
    "\n",
    "> For persons with a PIK in the eligible household, all of the geokeys from the PVS\n",
    "> GeoBase are extracted for each of these PIKs. The geokeys are unduplicated and all\n",
    "> persons are selected from the PVS GeoBase with these geokeys. Next, the program\n",
    "> removes all household members with a PIK, leaving the unPIKed persons in the\n",
    "> household. This becomes the reference file to search against. There are typically two\n",
    "> passes in this module. Records are blocked by MAFID, name, date of birth, and gender.\n",
    "\n",
    "I don't know of any list of passes in this module.\n",
    "Blocking on \"MAFID, name, date of birth, and gender\" seems like a lot for only\n",
    "two passes, especially given that we are only matching people within each eligible\n",
    "household.\n",
    "I'm actually a bit surprised there is any blocking at all, given how restrictive this\n",
    "module inherently is.\n",
    "I've split the difference here by creating two passes that are very permissive."
   ]
  },
  {
   "cell_type": "markdown",
   "id": "cdd285ed-2445-42d2-8942-3bb9d241dd16",
   "metadata": {
    "papermill": {
     "duration": 0.028811,
     "end_time": "2024-06-01T00:29:13.780298",
     "exception": false,
     "start_time": "2024-06-01T00:29:13.751487",
     "status": "completed"
    },
    "tags": []
   },
   "source": [
    "## Create the reference file"
   ]
  },
  {
   "cell_type": "code",
   "execution_count": 87,
   "id": "9793c25f-96a7-406f-b53b-ac15cc804b55",
   "metadata": {
    "execution": {
     "iopub.execute_input": "2024-06-01T00:29:13.843283Z",
     "iopub.status.busy": "2024-06-01T00:29:13.842337Z",
     "iopub.status.idle": "2024-06-01T00:29:13.867780Z",
     "shell.execute_reply": "2024-06-01T00:29:13.866405Z"
    },
    "papermill": {
     "duration": 0.061773,
     "end_time": "2024-06-01T00:29:13.871674",
     "exception": false,
     "start_time": "2024-06-01T00:29:13.809901",
     "status": "completed"
    },
    "tags": []
   },
   "outputs": [],
   "source": [
    "# TODO: As of now in pseudopeople, our only indicator in the Census data of household\n",
    "# is noiseless (ground truth).\n",
    "# Instead, we use geokey to approximate the household clustering information that would be\n",
    "# present in the real dataset.\n",
    "# We should switch to using a (presumably low-noise) household indicator when we have that.\n",
    "# NOTE: We use geokey_for_blocking instead of geokey to intentionally exclude the very\n",
    "# large households currently created by GQ in pseudopeople.\n",
    "pseudo_household_id = df_ops.drop_duplicates(\n",
    "    census_2030[census_2030.geokey_for_blocking.notnull()][[\"geokey_for_blocking\"]]\n",
    ").pipe(df_ops.add_unique_id_col, col_name=\"pseudo_household_id\")"
   ]
  },
  {
   "cell_type": "code",
   "execution_count": 88,
   "id": "fb318684-15c2-4e12-857a-39cd92df6d03",
   "metadata": {
    "execution": {
     "iopub.execute_input": "2024-06-01T00:29:13.943105Z",
     "iopub.status.busy": "2024-06-01T00:29:13.942418Z",
     "iopub.status.idle": "2024-06-01T00:29:13.971624Z",
     "shell.execute_reply": "2024-06-01T00:29:13.969569Z"
    },
    "papermill": {
     "duration": 0.064987,
     "end_time": "2024-06-01T00:29:13.974838",
     "exception": false,
     "start_time": "2024-06-01T00:29:13.909851",
     "status": "completed"
    },
    "tags": []
   },
   "outputs": [],
   "source": [
    "census_2030 = df_ops.persist(\n",
    "    census_2030.merge(pseudo_household_id, on=\"geokey_for_blocking\", how=\"left\")\n",
    ")"
   ]
  },
  {
   "cell_type": "code",
   "execution_count": 89,
   "id": "cb5088f0-7139-44a0-b701-6b50b103dbcf",
   "metadata": {
    "execution": {
     "iopub.execute_input": "2024-06-01T00:29:14.047384Z",
     "iopub.status.busy": "2024-06-01T00:29:14.046534Z",
     "iopub.status.idle": "2024-06-01T00:29:14.070445Z",
     "shell.execute_reply": "2024-06-01T00:29:14.068724Z"
    },
    "papermill": {
     "duration": 0.059785,
     "end_time": "2024-06-01T00:29:14.073651",
     "exception": false,
     "start_time": "2024-06-01T00:29:14.013866",
     "status": "completed"
    },
    "tags": []
   },
   "outputs": [],
   "source": [
    "piks_with_household = df_ops.persist(\n",
    "    census_2030[[\"pseudo_household_id\", \"record_id_raw_input_file\"]].merge(\n",
    "        person_linkage_cascade.confirmed_piks, on=\"record_id_raw_input_file\", how=\"left\"\n",
    "    )\n",
    ")"
   ]
  },
  {
   "cell_type": "code",
   "execution_count": 90,
   "id": "b97d11a0-6ecd-4a41-9b94-606bbc45831a",
   "metadata": {
    "execution": {
     "iopub.execute_input": "2024-06-01T00:29:14.143670Z",
     "iopub.status.busy": "2024-06-01T00:29:14.142840Z",
     "iopub.status.idle": "2024-06-01T00:29:14.164322Z",
     "shell.execute_reply": "2024-06-01T00:29:14.162576Z"
    },
    "papermill": {
     "duration": 0.057528,
     "end_time": "2024-06-01T00:29:14.167275",
     "exception": false,
     "start_time": "2024-06-01T00:29:14.109747",
     "status": "completed"
    },
    "tags": []
   },
   "outputs": [],
   "source": [
    "piked_by_household = (\n",
    "    df_ops.groupby_agg_small_groups(\n",
    "        piks_with_household,\n",
    "        by=\"pseudo_household_id\",\n",
    "        agg_func=lambda x: x.pik.agg([\"count\", \"size\"]),\n",
    "    )\n",
    "    .reset_index()\n",
    "    .rename(columns={\"count\": \"piked\"})\n",
    "    .assign(unpiked=lambda x: x[\"size\"] - x[\"piked\"])\n",
    ")"
   ]
  },
  {
   "cell_type": "code",
   "execution_count": 91,
   "id": "02350ff8-890c-4d4f-a7c4-dd666e0af152",
   "metadata": {
    "execution": {
     "iopub.execute_input": "2024-06-01T00:29:14.238100Z",
     "iopub.status.busy": "2024-06-01T00:29:14.237275Z",
     "iopub.status.idle": "2024-06-01T00:29:14.255337Z",
     "shell.execute_reply": "2024-06-01T00:29:14.253656Z"
    },
    "papermill": {
     "duration": 0.054246,
     "end_time": "2024-06-01T00:29:14.257990",
     "exception": false,
     "start_time": "2024-06-01T00:29:14.203744",
     "status": "completed"
    },
    "tags": []
   },
   "outputs": [
    {
     "data": {
      "text/html": [
       "<div>\n",
       "<style scoped>\n",
       "    .dataframe tbody tr th:only-of-type {\n",
       "        vertical-align: middle;\n",
       "    }\n",
       "\n",
       "    .dataframe tbody tr th {\n",
       "        vertical-align: top;\n",
       "    }\n",
       "\n",
       "    .dataframe thead th {\n",
       "        text-align: right;\n",
       "    }\n",
       "</style>\n",
       "<table border=\"1\" class=\"dataframe\">\n",
       "  <thead>\n",
       "    <tr style=\"text-align: right;\">\n",
       "      <th></th>\n",
       "      <th>pseudo_household_id</th>\n",
       "    </tr>\n",
       "  </thead>\n",
       "  <tbody>\n",
       "    <tr>\n",
       "      <th>11</th>\n",
       "      <td>1012</td>\n",
       "    </tr>\n",
       "    <tr>\n",
       "      <th>34</th>\n",
       "      <td>1046</td>\n",
       "    </tr>\n",
       "    <tr>\n",
       "      <th>36</th>\n",
       "      <td>1049</td>\n",
       "    </tr>\n",
       "    <tr>\n",
       "      <th>46</th>\n",
       "      <td>1062</td>\n",
       "    </tr>\n",
       "    <tr>\n",
       "      <th>58</th>\n",
       "      <td>1083</td>\n",
       "    </tr>\n",
       "    <tr>\n",
       "      <th>...</th>\n",
       "      <td>...</td>\n",
       "    </tr>\n",
       "    <tr>\n",
       "      <th>6140</th>\n",
       "      <td>9536</td>\n",
       "    </tr>\n",
       "    <tr>\n",
       "      <th>6151</th>\n",
       "      <td>9546</td>\n",
       "    </tr>\n",
       "    <tr>\n",
       "      <th>6162</th>\n",
       "      <td>9556</td>\n",
       "    </tr>\n",
       "    <tr>\n",
       "      <th>6163</th>\n",
       "      <td>9557</td>\n",
       "    </tr>\n",
       "    <tr>\n",
       "      <th>6167</th>\n",
       "      <td>962</td>\n",
       "    </tr>\n",
       "  </tbody>\n",
       "</table>\n",
       "<p>318 rows × 1 columns</p>\n",
       "</div>"
      ],
      "text/plain": [
       "     pseudo_household_id\n",
       "11                  1012\n",
       "34                  1046\n",
       "36                  1049\n",
       "46                  1062\n",
       "58                  1083\n",
       "...                  ...\n",
       "6140                9536\n",
       "6151                9546\n",
       "6162                9556\n",
       "6163                9557\n",
       "6167                 962\n",
       "\n",
       "[318 rows x 1 columns]"
      ]
     },
     "execution_count": 91,
     "metadata": {},
     "output_type": "execute_result"
    }
   ],
   "source": [
    "eligible_households = piked_by_household[\n",
    "    (piked_by_household.piked > 0) & (piked_by_household.unpiked > 0)\n",
    "][[\"pseudo_household_id\"]]\n",
    "eligible_households"
   ]
  },
  {
   "cell_type": "code",
   "execution_count": 92,
   "id": "a671a0b0-8713-4e29-8db4-bd3a40162c10",
   "metadata": {
    "execution": {
     "iopub.execute_input": "2024-06-01T00:29:14.325951Z",
     "iopub.status.busy": "2024-06-01T00:29:14.325159Z",
     "iopub.status.idle": "2024-06-01T00:29:14.349945Z",
     "shell.execute_reply": "2024-06-01T00:29:14.348301Z"
    },
    "papermill": {
     "duration": 0.060977,
     "end_time": "2024-06-01T00:29:14.353004",
     "exception": false,
     "start_time": "2024-06-01T00:29:14.292027",
     "status": "completed"
    },
    "tags": []
   },
   "outputs": [
    {
     "data": {
      "text/html": [
       "<div>\n",
       "<style scoped>\n",
       "    .dataframe tbody tr th:only-of-type {\n",
       "        vertical-align: middle;\n",
       "    }\n",
       "\n",
       "    .dataframe tbody tr th {\n",
       "        vertical-align: top;\n",
       "    }\n",
       "\n",
       "    .dataframe thead th {\n",
       "        text-align: right;\n",
       "    }\n",
       "</style>\n",
       "<table border=\"1\" class=\"dataframe\">\n",
       "  <thead>\n",
       "    <tr style=\"text-align: right;\">\n",
       "      <th></th>\n",
       "      <th>pseudo_household_id</th>\n",
       "      <th>pik</th>\n",
       "    </tr>\n",
       "  </thead>\n",
       "  <tbody>\n",
       "    <tr>\n",
       "      <th>0</th>\n",
       "      <td>1012</td>\n",
       "      <td>102441</td>\n",
       "    </tr>\n",
       "    <tr>\n",
       "      <th>1</th>\n",
       "      <td>1046</td>\n",
       "      <td>102813</td>\n",
       "    </tr>\n",
       "    <tr>\n",
       "      <th>2</th>\n",
       "      <td>1046</td>\n",
       "      <td>105363</td>\n",
       "    </tr>\n",
       "    <tr>\n",
       "      <th>3</th>\n",
       "      <td>1046</td>\n",
       "      <td>106201</td>\n",
       "    </tr>\n",
       "    <tr>\n",
       "      <th>4</th>\n",
       "      <td>1049</td>\n",
       "      <td>95323</td>\n",
       "    </tr>\n",
       "    <tr>\n",
       "      <th>...</th>\n",
       "      <td>...</td>\n",
       "      <td>...</td>\n",
       "    </tr>\n",
       "    <tr>\n",
       "      <th>635</th>\n",
       "      <td>9556</td>\n",
       "      <td>104909</td>\n",
       "    </tr>\n",
       "    <tr>\n",
       "      <th>636</th>\n",
       "      <td>9557</td>\n",
       "      <td>96417</td>\n",
       "    </tr>\n",
       "    <tr>\n",
       "      <th>637</th>\n",
       "      <td>962</td>\n",
       "      <td>105810</td>\n",
       "    </tr>\n",
       "    <tr>\n",
       "      <th>638</th>\n",
       "      <td>962</td>\n",
       "      <td>107309</td>\n",
       "    </tr>\n",
       "    <tr>\n",
       "      <th>639</th>\n",
       "      <td>962</td>\n",
       "      <td>107969</td>\n",
       "    </tr>\n",
       "  </tbody>\n",
       "</table>\n",
       "<p>639 rows × 2 columns</p>\n",
       "</div>"
      ],
      "text/plain": [
       "    pseudo_household_id     pik\n",
       "0                  1012  102441\n",
       "1                  1046  102813\n",
       "2                  1046  105363\n",
       "3                  1046  106201\n",
       "4                  1049   95323\n",
       "..                  ...     ...\n",
       "635                9556  104909\n",
       "636                9557   96417\n",
       "637                 962  105810\n",
       "638                 962  107309\n",
       "639                 962  107969\n",
       "\n",
       "[639 rows x 2 columns]"
      ]
     },
     "execution_count": 92,
     "metadata": {},
     "output_type": "execute_result"
    }
   ],
   "source": [
    "piks_by_eligible_household = df_ops.drop_duplicates(\n",
    "    eligible_households.merge(\n",
    "        piks_with_household[[\"pseudo_household_id\", \"pik\"]].dropna(subset=\"pik\"),\n",
    "        on=\"pseudo_household_id\",\n",
    "        how=\"inner\",\n",
    "    )\n",
    ")\n",
    "piks_by_eligible_household"
   ]
  },
  {
   "cell_type": "code",
   "execution_count": 93,
   "id": "0386f872-93a4-48b1-88bd-82db34a6df76",
   "metadata": {
    "execution": {
     "iopub.execute_input": "2024-06-01T00:29:14.422061Z",
     "iopub.status.busy": "2024-06-01T00:29:14.421254Z",
     "iopub.status.idle": "2024-06-01T00:29:14.456441Z",
     "shell.execute_reply": "2024-06-01T00:29:14.454589Z"
    },
    "papermill": {
     "duration": 0.0708,
     "end_time": "2024-06-01T00:29:14.459790",
     "exception": false,
     "start_time": "2024-06-01T00:29:14.388990",
     "status": "completed"
    },
    "tags": []
   },
   "outputs": [
    {
     "data": {
      "text/html": [
       "<div>\n",
       "<style scoped>\n",
       "    .dataframe tbody tr th:only-of-type {\n",
       "        vertical-align: middle;\n",
       "    }\n",
       "\n",
       "    .dataframe tbody tr th {\n",
       "        vertical-align: top;\n",
       "    }\n",
       "\n",
       "    .dataframe thead th {\n",
       "        text-align: right;\n",
       "    }\n",
       "</style>\n",
       "<table border=\"1\" class=\"dataframe\">\n",
       "  <thead>\n",
       "    <tr style=\"text-align: right;\">\n",
       "      <th></th>\n",
       "      <th>pseudo_household_id</th>\n",
       "      <th>geokey_for_blocking</th>\n",
       "    </tr>\n",
       "  </thead>\n",
       "  <tbody>\n",
       "    <tr>\n",
       "      <th>0</th>\n",
       "      <td>1012</td>\n",
       "      <td>3506 STAGECOACH RD ANYTOWN WA 00000</td>\n",
       "    </tr>\n",
       "    <tr>\n",
       "      <th>1</th>\n",
       "      <td>1012</td>\n",
       "      <td>ANYTOWN WA 00000</td>\n",
       "    </tr>\n",
       "    <tr>\n",
       "      <th>2</th>\n",
       "      <td>1046</td>\n",
       "      <td>417 S FERRIS AVE ANYTOWN WA 00000</td>\n",
       "    </tr>\n",
       "    <tr>\n",
       "      <th>4</th>\n",
       "      <td>1046</td>\n",
       "      <td>417 S FETRRIS AVE ANYTOWN WA 00000</td>\n",
       "    </tr>\n",
       "    <tr>\n",
       "      <th>5</th>\n",
       "      <td>1046</td>\n",
       "      <td>7730 S WATER ST ANYTOWN WA 00000</td>\n",
       "    </tr>\n",
       "    <tr>\n",
       "      <th>...</th>\n",
       "      <td>...</td>\n",
       "      <td>...</td>\n",
       "    </tr>\n",
       "    <tr>\n",
       "      <th>1176</th>\n",
       "      <td>9556</td>\n",
       "      <td>N11302 185TH ST NW ANYTOWN WA 00000</td>\n",
       "    </tr>\n",
       "    <tr>\n",
       "      <th>1177</th>\n",
       "      <td>9557</td>\n",
       "      <td>W14066 E VALENCIA RD ANYTOWN WA 00000</td>\n",
       "    </tr>\n",
       "    <tr>\n",
       "      <th>1179</th>\n",
       "      <td>962</td>\n",
       "      <td>OLDFIELD CIR ANYTOWN WA</td>\n",
       "    </tr>\n",
       "    <tr>\n",
       "      <th>1181</th>\n",
       "      <td>962</td>\n",
       "      <td>3 OLDFIELD CIR ANYTOWN WA 00000</td>\n",
       "    </tr>\n",
       "    <tr>\n",
       "      <th>1182</th>\n",
       "      <td>962</td>\n",
       "      <td>OLDFIELD CIR ANYTOWN WA 00000</td>\n",
       "    </tr>\n",
       "  </tbody>\n",
       "</table>\n",
       "<p>837 rows × 2 columns</p>\n",
       "</div>"
      ],
      "text/plain": [
       "     pseudo_household_id                    geokey_for_blocking\n",
       "0                   1012    3506 STAGECOACH RD ANYTOWN WA 00000\n",
       "1                   1012                       ANYTOWN WA 00000\n",
       "2                   1046      417 S FERRIS AVE ANYTOWN WA 00000\n",
       "4                   1046     417 S FETRRIS AVE ANYTOWN WA 00000\n",
       "5                   1046       7730 S WATER ST ANYTOWN WA 00000\n",
       "...                  ...                                    ...\n",
       "1176                9556    N11302 185TH ST NW ANYTOWN WA 00000\n",
       "1177                9557  W14066 E VALENCIA RD ANYTOWN WA 00000\n",
       "1179                 962                OLDFIELD CIR ANYTOWN WA\n",
       "1181                 962        3 OLDFIELD CIR ANYTOWN WA 00000\n",
       "1182                 962          OLDFIELD CIR ANYTOWN WA 00000\n",
       "\n",
       "[837 rows x 2 columns]"
      ]
     },
     "execution_count": 93,
     "metadata": {},
     "output_type": "execute_result"
    }
   ],
   "source": [
    "geokeys_by_eligible_household = (\n",
    "    piks_by_eligible_household.merge(\n",
    "        df_ops.drop_duplicates(\n",
    "            geobase_reference_file[[\"pik\", \"geokey_for_blocking\"]].dropna(\n",
    "                subset=\"geokey_for_blocking\"\n",
    "            )\n",
    "        ),\n",
    "        on=\"pik\",\n",
    "    )\n",
    "    .drop(columns=[\"pik\"])\n",
    "    .pipe(df_ops.drop_duplicates)\n",
    ")\n",
    "geokeys_by_eligible_household"
   ]
  },
  {
   "cell_type": "code",
   "execution_count": 94,
   "id": "2034b8a2-a959-41a6-bce5-b31b3f7bad62",
   "metadata": {
    "execution": {
     "iopub.execute_input": "2024-06-01T00:29:14.529641Z",
     "iopub.status.busy": "2024-06-01T00:29:14.528819Z",
     "iopub.status.idle": "2024-06-01T00:29:14.599125Z",
     "shell.execute_reply": "2024-06-01T00:29:14.597031Z"
    },
    "papermill": {
     "duration": 0.107345,
     "end_time": "2024-06-01T00:29:14.603424",
     "exception": false,
     "start_time": "2024-06-01T00:29:14.496079",
     "status": "completed"
    },
    "tags": []
   },
   "outputs": [],
   "source": [
    "# Apparently, we exclude from the reference file all *reference file* records with a PIK that\n",
    "# has already been assigned to an input file row.\n",
    "# Doing this goes against the normal assumption, which is that reference file records can match\n",
    "# to multiple input file records.\n",
    "# This is really surprising to me, but it seems clear from \"the program\n",
    "# removes all household members with a PIK, leaving the unPIKed persons in the\n",
    "# household. This becomes the reference file to search against.\" (Wagner and Layne, p. 16)\n",
    "eligible_geobase_reference_file_records = (\n",
    "    geobase_reference_file[geobase_reference_file.geokey_for_blocking.notnull()]\n",
    "    .merge(\n",
    "        df_ops.drop_duplicates(person_linkage_cascade.confirmed_piks[[\"pik\"]]).assign(\n",
    "            confirmed_pik_dummy=1\n",
    "        ),\n",
    "        on=\"pik\",\n",
    "        how=\"left\",\n",
    "    )\n",
    "    .pipe(lambda df: df[df.confirmed_pik_dummy.isnull()])\n",
    "    .drop(columns=[\"confirmed_pik_dummy\"])\n",
    ")"
   ]
  },
  {
   "cell_type": "code",
   "execution_count": 95,
   "id": "60c5a0f4-6220-4d29-a604-52b930c3198b",
   "metadata": {
    "execution": {
     "iopub.execute_input": "2024-06-01T00:29:14.676860Z",
     "iopub.status.busy": "2024-06-01T00:29:14.675944Z",
     "iopub.status.idle": "2024-06-01T00:29:14.721329Z",
     "shell.execute_reply": "2024-06-01T00:29:14.719535Z"
    },
    "papermill": {
     "duration": 0.082446,
     "end_time": "2024-06-01T00:29:14.724980",
     "exception": false,
     "start_time": "2024-06-01T00:29:14.642534",
     "status": "completed"
    },
    "tags": []
   },
   "outputs": [
    {
     "data": {
      "text/html": [
       "<div>\n",
       "<style scoped>\n",
       "    .dataframe tbody tr th:only-of-type {\n",
       "        vertical-align: middle;\n",
       "    }\n",
       "\n",
       "    .dataframe tbody tr th {\n",
       "        vertical-align: top;\n",
       "    }\n",
       "\n",
       "    .dataframe thead th {\n",
       "        text-align: right;\n",
       "    }\n",
       "</style>\n",
       "<table border=\"1\" class=\"dataframe\">\n",
       "  <thead>\n",
       "    <tr style=\"text-align: right;\">\n",
       "      <th></th>\n",
       "      <th>pseudo_household_id</th>\n",
       "      <th>geokey_for_blocking</th>\n",
       "      <th>record_id</th>\n",
       "      <th>ssn</th>\n",
       "      <th>first_name</th>\n",
       "      <th>middle_name</th>\n",
       "      <th>last_name</th>\n",
       "      <th>street_number</th>\n",
       "      <th>street_name</th>\n",
       "      <th>unit_number</th>\n",
       "      <th>...</th>\n",
       "      <th>last_name_12</th>\n",
       "      <th>middle_initial</th>\n",
       "      <th>first_name_1</th>\n",
       "      <th>last_name_1</th>\n",
       "      <th>first_name_2</th>\n",
       "      <th>last_name_2</th>\n",
       "      <th>first_name_3</th>\n",
       "      <th>last_name_3</th>\n",
       "      <th>street_name_for_blocking_soundex</th>\n",
       "      <th>zip3</th>\n",
       "    </tr>\n",
       "  </thead>\n",
       "  <tbody>\n",
       "    <tr>\n",
       "      <th>0</th>\n",
       "      <td>1012</td>\n",
       "      <td>3506 STAGECOACH RD ANYTOWN WA 00000</td>\n",
       "      <td>simulated_geobase_reference_file_9207</td>\n",
       "      <td>829-89-4446</td>\n",
       "      <td>Michelle</td>\n",
       "      <td>Sarah</td>\n",
       "      <td>Jese</td>\n",
       "      <td>3506</td>\n",
       "      <td>STAGECOACH RD</td>\n",
       "      <td>None</td>\n",
       "      <td>...</td>\n",
       "      <td>Jese</td>\n",
       "      <td>S</td>\n",
       "      <td>M</td>\n",
       "      <td>J</td>\n",
       "      <td>Mi</td>\n",
       "      <td>Je</td>\n",
       "      <td>Mic</td>\n",
       "      <td>Jes</td>\n",
       "      <td>S322</td>\n",
       "      <td>000</td>\n",
       "    </tr>\n",
       "    <tr>\n",
       "      <th>1</th>\n",
       "      <td>1012</td>\n",
       "      <td>ANYTOWN WA 00000</td>\n",
       "      <td>simulated_geobase_reference_file_70</td>\n",
       "      <td>352-23-6006</td>\n",
       "      <td>Elsa</td>\n",
       "      <td>Nettie</td>\n",
       "      <td>Corbitt</td>\n",
       "      <td>None</td>\n",
       "      <td>None</td>\n",
       "      <td>None</td>\n",
       "      <td>...</td>\n",
       "      <td>Corbitt</td>\n",
       "      <td>N</td>\n",
       "      <td>E</td>\n",
       "      <td>C</td>\n",
       "      <td>El</td>\n",
       "      <td>Co</td>\n",
       "      <td>Els</td>\n",
       "      <td>Cor</td>\n",
       "      <td>&lt;NA&gt;</td>\n",
       "      <td>000</td>\n",
       "    </tr>\n",
       "    <tr>\n",
       "      <th>2</th>\n",
       "      <td>1012</td>\n",
       "      <td>ANYTOWN WA 00000</td>\n",
       "      <td>simulated_geobase_reference_file_71</td>\n",
       "      <td>352-23-6006</td>\n",
       "      <td>Elsa</td>\n",
       "      <td>Nettie</td>\n",
       "      <td>Corbitt</td>\n",
       "      <td>None</td>\n",
       "      <td>None</td>\n",
       "      <td>None</td>\n",
       "      <td>...</td>\n",
       "      <td>Corbitt</td>\n",
       "      <td>N</td>\n",
       "      <td>E</td>\n",
       "      <td>C</td>\n",
       "      <td>El</td>\n",
       "      <td>Co</td>\n",
       "      <td>Els</td>\n",
       "      <td>Cor</td>\n",
       "      <td>&lt;NA&gt;</td>\n",
       "      <td>000</td>\n",
       "    </tr>\n",
       "    <tr>\n",
       "      <th>3</th>\n",
       "      <td>1012</td>\n",
       "      <td>ANYTOWN WA 00000</td>\n",
       "      <td>simulated_geobase_reference_file_133</td>\n",
       "      <td>026-33-0492</td>\n",
       "      <td>Mary</td>\n",
       "      <td>Ava</td>\n",
       "      <td>Leong</td>\n",
       "      <td>None</td>\n",
       "      <td>None</td>\n",
       "      <td>None</td>\n",
       "      <td>...</td>\n",
       "      <td>Leong</td>\n",
       "      <td>A</td>\n",
       "      <td>M</td>\n",
       "      <td>L</td>\n",
       "      <td>Ma</td>\n",
       "      <td>Le</td>\n",
       "      <td>Mar</td>\n",
       "      <td>Leo</td>\n",
       "      <td>&lt;NA&gt;</td>\n",
       "      <td>000</td>\n",
       "    </tr>\n",
       "    <tr>\n",
       "      <th>4</th>\n",
       "      <td>1012</td>\n",
       "      <td>ANYTOWN WA 00000</td>\n",
       "      <td>simulated_geobase_reference_file_175</td>\n",
       "      <td>334-83-8774</td>\n",
       "      <td>Phyllis</td>\n",
       "      <td>Ruth</td>\n",
       "      <td>Fudge</td>\n",
       "      <td>None</td>\n",
       "      <td>None</td>\n",
       "      <td>None</td>\n",
       "      <td>...</td>\n",
       "      <td>Fudge</td>\n",
       "      <td>R</td>\n",
       "      <td>P</td>\n",
       "      <td>F</td>\n",
       "      <td>Ph</td>\n",
       "      <td>Fu</td>\n",
       "      <td>Phy</td>\n",
       "      <td>Fud</td>\n",
       "      <td>&lt;NA&gt;</td>\n",
       "      <td>000</td>\n",
       "    </tr>\n",
       "    <tr>\n",
       "      <th>...</th>\n",
       "      <td>...</td>\n",
       "      <td>...</td>\n",
       "      <td>...</td>\n",
       "      <td>...</td>\n",
       "      <td>...</td>\n",
       "      <td>...</td>\n",
       "      <td>...</td>\n",
       "      <td>...</td>\n",
       "      <td>...</td>\n",
       "      <td>...</td>\n",
       "      <td>...</td>\n",
       "      <td>...</td>\n",
       "      <td>...</td>\n",
       "      <td>...</td>\n",
       "      <td>...</td>\n",
       "      <td>...</td>\n",
       "      <td>...</td>\n",
       "      <td>...</td>\n",
       "      <td>...</td>\n",
       "      <td>...</td>\n",
       "      <td>...</td>\n",
       "    </tr>\n",
       "    <tr>\n",
       "      <th>10561</th>\n",
       "      <td>9556</td>\n",
       "      <td>2865 IRON SQUIRE DR ANYTOWN WA 00000</td>\n",
       "      <td>simulated_geobase_reference_file_1694</td>\n",
       "      <td>275-29-5773</td>\n",
       "      <td>Sandra</td>\n",
       "      <td>Rebecca</td>\n",
       "      <td>Parent</td>\n",
       "      <td>2865</td>\n",
       "      <td>IRON SQUIRE DR</td>\n",
       "      <td>None</td>\n",
       "      <td>...</td>\n",
       "      <td>Parent</td>\n",
       "      <td>R</td>\n",
       "      <td>S</td>\n",
       "      <td>P</td>\n",
       "      <td>Sa</td>\n",
       "      <td>Pa</td>\n",
       "      <td>San</td>\n",
       "      <td>Par</td>\n",
       "      <td>I652</td>\n",
       "      <td>000</td>\n",
       "    </tr>\n",
       "    <tr>\n",
       "      <th>10562</th>\n",
       "      <td>9556</td>\n",
       "      <td>N11302 185TH ST NW ANYTOWN WA 00000</td>\n",
       "      <td>simulated_geobase_reference_file_1695</td>\n",
       "      <td>275-29-5773</td>\n",
       "      <td>Sandra</td>\n",
       "      <td>Rebecca</td>\n",
       "      <td>Parent</td>\n",
       "      <td>N11302</td>\n",
       "      <td>185TH ST NW</td>\n",
       "      <td>None</td>\n",
       "      <td>...</td>\n",
       "      <td>Parent</td>\n",
       "      <td>R</td>\n",
       "      <td>S</td>\n",
       "      <td>P</td>\n",
       "      <td>Sa</td>\n",
       "      <td>Pa</td>\n",
       "      <td>San</td>\n",
       "      <td>Par</td>\n",
       "      <td>1323</td>\n",
       "      <td>000</td>\n",
       "    </tr>\n",
       "    <tr>\n",
       "      <th>10563</th>\n",
       "      <td>9557</td>\n",
       "      <td>W14066 E VALENCIA RD ANYTOWN WA 00000</td>\n",
       "      <td>simulated_geobase_reference_file_32948</td>\n",
       "      <td>939-53-1702</td>\n",
       "      <td>Josiah</td>\n",
       "      <td>L</td>\n",
       "      <td>Andersen</td>\n",
       "      <td>W14066</td>\n",
       "      <td>E VALENCIA RD</td>\n",
       "      <td>None</td>\n",
       "      <td>...</td>\n",
       "      <td>Andersen</td>\n",
       "      <td>L</td>\n",
       "      <td>J</td>\n",
       "      <td>A</td>\n",
       "      <td>Jo</td>\n",
       "      <td>An</td>\n",
       "      <td>Jos</td>\n",
       "      <td>And</td>\n",
       "      <td>E145</td>\n",
       "      <td>000</td>\n",
       "    </tr>\n",
       "    <tr>\n",
       "      <th>10564</th>\n",
       "      <td>962</td>\n",
       "      <td>3 OLDFIELD CIR ANYTOWN WA 00000</td>\n",
       "      <td>simulated_geobase_reference_file_31877</td>\n",
       "      <td>945-86-9754</td>\n",
       "      <td>Josue</td>\n",
       "      <td>S</td>\n",
       "      <td>Gittens</td>\n",
       "      <td>3</td>\n",
       "      <td>OLDFIELD CIR</td>\n",
       "      <td>None</td>\n",
       "      <td>...</td>\n",
       "      <td>Gittens</td>\n",
       "      <td>S</td>\n",
       "      <td>J</td>\n",
       "      <td>G</td>\n",
       "      <td>Jo</td>\n",
       "      <td>Gi</td>\n",
       "      <td>Jos</td>\n",
       "      <td>Git</td>\n",
       "      <td>O431</td>\n",
       "      <td>000</td>\n",
       "    </tr>\n",
       "    <tr>\n",
       "      <th>10565</th>\n",
       "      <td>962</td>\n",
       "      <td>3 OLDFIELD CIR ANYTOWN WA 00000</td>\n",
       "      <td>simulated_geobase_reference_file_32445</td>\n",
       "      <td>945-86-9754</td>\n",
       "      <td>Josue</td>\n",
       "      <td>S</td>\n",
       "      <td>Gitt</td>\n",
       "      <td>3</td>\n",
       "      <td>OLDFIELD CIR</td>\n",
       "      <td>None</td>\n",
       "      <td>...</td>\n",
       "      <td>Gitt</td>\n",
       "      <td>S</td>\n",
       "      <td>J</td>\n",
       "      <td>G</td>\n",
       "      <td>Jo</td>\n",
       "      <td>Gi</td>\n",
       "      <td>Jos</td>\n",
       "      <td>Git</td>\n",
       "      <td>O431</td>\n",
       "      <td>000</td>\n",
       "    </tr>\n",
       "  </tbody>\n",
       "</table>\n",
       "<p>10566 rows × 32 columns</p>\n",
       "</div>"
      ],
      "text/plain": [
       "      pseudo_household_id                    geokey_for_blocking  \\\n",
       "0                    1012    3506 STAGECOACH RD ANYTOWN WA 00000   \n",
       "1                    1012                       ANYTOWN WA 00000   \n",
       "2                    1012                       ANYTOWN WA 00000   \n",
       "3                    1012                       ANYTOWN WA 00000   \n",
       "4                    1012                       ANYTOWN WA 00000   \n",
       "...                   ...                                    ...   \n",
       "10561                9556   2865 IRON SQUIRE DR ANYTOWN WA 00000   \n",
       "10562                9556    N11302 185TH ST NW ANYTOWN WA 00000   \n",
       "10563                9557  W14066 E VALENCIA RD ANYTOWN WA 00000   \n",
       "10564                 962        3 OLDFIELD CIR ANYTOWN WA 00000   \n",
       "10565                 962        3 OLDFIELD CIR ANYTOWN WA 00000   \n",
       "\n",
       "                                    record_id          ssn first_name  \\\n",
       "0       simulated_geobase_reference_file_9207  829-89-4446   Michelle   \n",
       "1         simulated_geobase_reference_file_70  352-23-6006       Elsa   \n",
       "2         simulated_geobase_reference_file_71  352-23-6006       Elsa   \n",
       "3        simulated_geobase_reference_file_133  026-33-0492       Mary   \n",
       "4        simulated_geobase_reference_file_175  334-83-8774    Phyllis   \n",
       "...                                       ...          ...        ...   \n",
       "10561   simulated_geobase_reference_file_1694  275-29-5773     Sandra   \n",
       "10562   simulated_geobase_reference_file_1695  275-29-5773     Sandra   \n",
       "10563  simulated_geobase_reference_file_32948  939-53-1702     Josiah   \n",
       "10564  simulated_geobase_reference_file_31877  945-86-9754      Josue   \n",
       "10565  simulated_geobase_reference_file_32445  945-86-9754      Josue   \n",
       "\n",
       "      middle_name last_name street_number     street_name unit_number  ...  \\\n",
       "0           Sarah      Jese          3506   STAGECOACH RD        None  ...   \n",
       "1          Nettie   Corbitt          None            None        None  ...   \n",
       "2          Nettie   Corbitt          None            None        None  ...   \n",
       "3             Ava     Leong          None            None        None  ...   \n",
       "4            Ruth     Fudge          None            None        None  ...   \n",
       "...           ...       ...           ...             ...         ...  ...   \n",
       "10561     Rebecca    Parent          2865  IRON SQUIRE DR        None  ...   \n",
       "10562     Rebecca    Parent        N11302     185TH ST NW        None  ...   \n",
       "10563           L  Andersen        W14066   E VALENCIA RD        None  ...   \n",
       "10564           S   Gittens             3    OLDFIELD CIR        None  ...   \n",
       "10565           S      Gitt             3    OLDFIELD CIR        None  ...   \n",
       "\n",
       "      last_name_12 middle_initial first_name_1 last_name_1 first_name_2  \\\n",
       "0             Jese              S            M           J           Mi   \n",
       "1          Corbitt              N            E           C           El   \n",
       "2          Corbitt              N            E           C           El   \n",
       "3            Leong              A            M           L           Ma   \n",
       "4            Fudge              R            P           F           Ph   \n",
       "...            ...            ...          ...         ...          ...   \n",
       "10561       Parent              R            S           P           Sa   \n",
       "10562       Parent              R            S           P           Sa   \n",
       "10563     Andersen              L            J           A           Jo   \n",
       "10564      Gittens              S            J           G           Jo   \n",
       "10565         Gitt              S            J           G           Jo   \n",
       "\n",
       "       last_name_2  first_name_3  last_name_3  \\\n",
       "0               Je           Mic          Jes   \n",
       "1               Co           Els          Cor   \n",
       "2               Co           Els          Cor   \n",
       "3               Le           Mar          Leo   \n",
       "4               Fu           Phy          Fud   \n",
       "...            ...           ...          ...   \n",
       "10561           Pa           San          Par   \n",
       "10562           Pa           San          Par   \n",
       "10563           An           Jos          And   \n",
       "10564           Gi           Jos          Git   \n",
       "10565           Gi           Jos          Git   \n",
       "\n",
       "      street_name_for_blocking_soundex zip3  \n",
       "0                                 S322  000  \n",
       "1                                 <NA>  000  \n",
       "2                                 <NA>  000  \n",
       "3                                 <NA>  000  \n",
       "4                                 <NA>  000  \n",
       "...                                ...  ...  \n",
       "10561                             I652  000  \n",
       "10562                             1323  000  \n",
       "10563                             E145  000  \n",
       "10564                             O431  000  \n",
       "10565                             O431  000  \n",
       "\n",
       "[10566 rows x 32 columns]"
      ]
     },
     "execution_count": 95,
     "metadata": {},
     "output_type": "execute_result"
    }
   ],
   "source": [
    "hhcomp_reference_file = df_ops.persist(\n",
    "    geokeys_by_eligible_household.merge(\n",
    "        eligible_geobase_reference_file_records,\n",
    "        on=\"geokey_for_blocking\",\n",
    "    )\n",
    ")\n",
    "hhcomp_reference_file"
   ]
  },
  {
   "cell_type": "code",
   "execution_count": 96,
   "id": "ce26ecbb-d8ff-4ac5-bffa-6d21e8dc3cf9",
   "metadata": {
    "execution": {
     "iopub.execute_input": "2024-06-01T00:29:14.794840Z",
     "iopub.status.busy": "2024-06-01T00:29:14.794150Z",
     "iopub.status.idle": "2024-06-01T00:29:14.805850Z",
     "shell.execute_reply": "2024-06-01T00:29:14.803740Z"
    },
    "papermill": {
     "duration": 0.047924,
     "end_time": "2024-06-01T00:29:14.808157",
     "exception": false,
     "start_time": "2024-06-01T00:29:14.760233",
     "status": "completed"
    },
    "tags": []
   },
   "outputs": [
    {
     "data": {
      "text/plain": [
       "10566"
      ]
     },
     "execution_count": 96,
     "metadata": {},
     "output_type": "execute_result"
    }
   ],
   "source": [
    "len(hhcomp_reference_file)"
   ]
  },
  {
   "cell_type": "code",
   "execution_count": 97,
   "id": "fa0a1a66-1c18-48ad-a76f-11150f71a0bb",
   "metadata": {
    "execution": {
     "iopub.execute_input": "2024-06-01T00:29:14.879667Z",
     "iopub.status.busy": "2024-06-01T00:29:14.879028Z",
     "iopub.status.idle": "2024-06-01T00:29:14.933717Z",
     "shell.execute_reply": "2024-06-01T00:29:14.931840Z"
    },
    "papermill": {
     "duration": 0.092572,
     "end_time": "2024-06-01T00:29:14.938137",
     "exception": false,
     "start_time": "2024-06-01T00:29:14.845565",
     "status": "completed"
    },
    "tags": []
   },
   "outputs": [],
   "source": [
    "person_linkage_cascade.start_module(\n",
    "    name=\"hhcompsearch\",\n",
    "    reference_file=hhcomp_reference_file,\n",
    "    reference_file_name=\"hhcomp_reference_file\",\n",
    "    cut_columns=[\"pseudo_household_id\"],\n",
    "    # HACK: How else do we deal with the fact that pseudo_household_id\n",
    "    # isn't used for matching?\n",
    "    bayes_factor_cut_columns=1_000,\n",
    "    matching_columns=[\n",
    "        \"first_name_15\",\n",
    "        \"last_name_12\",\n",
    "        \"middle_initial\",\n",
    "        \"day_of_birth\",\n",
    "        \"month_of_birth\",\n",
    "        \"year_of_birth\",\n",
    "    ],\n",
    ")"
   ]
  },
  {
   "cell_type": "markdown",
   "id": "a86727cf-b024-4caf-a610-6f7950faec2d",
   "metadata": {
    "papermill": {
     "duration": 0.030968,
     "end_time": "2024-06-01T00:29:15.007899",
     "exception": false,
     "start_time": "2024-06-01T00:29:14.976931",
     "status": "completed"
    },
    "tags": []
   },
   "source": [
    "## Pass 1: Block on initials"
   ]
  },
  {
   "cell_type": "code",
   "execution_count": 98,
   "id": "83fbf88d-044e-4764-a049-ad6c4520bd7f",
   "metadata": {
    "execution": {
     "iopub.execute_input": "2024-06-01T00:29:15.072010Z",
     "iopub.status.busy": "2024-06-01T00:29:15.071323Z",
     "iopub.status.idle": "2024-06-01T00:29:15.936631Z",
     "shell.execute_reply": "2024-06-01T00:29:15.935035Z"
    },
    "papermill": {
     "duration": 0.902121,
     "end_time": "2024-06-01T00:29:15.940654",
     "exception": false,
     "start_time": "2024-06-01T00:29:15.038533",
     "status": "completed"
    },
    "tags": []
   },
   "outputs": [
    {
     "name": "stdout",
     "output_type": "stream",
     "text": [
      "Running initials of hhcompsearch\n",
      "Files to link are 10,566 and 1,208 records\n"
     ]
    },
    {
     "name": "stdout",
     "output_type": "stream",
     "text": [
      "Number of pairs that will be compared: 240\n"
     ]
    },
    {
     "data": {
      "text/html": [
       "\n",
       "        <iframe\n",
       "            width=\"100%\"\n",
       "            height=\"1200\"\n",
       "            src=\"./diagnostics/splink_reports/small_sample/hhcompsearch__initials.html\"\n",
       "            frameborder=\"0\"\n",
       "            allowfullscreen\n",
       "            \n",
       "        ></iframe>\n",
       "        "
      ],
      "text/plain": [
       "<IPython.lib.display.IFrame at 0x7fc15103f070>"
      ]
     },
     "metadata": {},
     "output_type": "display_data"
    },
    {
     "name": "stdout",
     "output_type": "stream",
     "text": [
      "Found 80 matches; 10.36% still eligible to match\n"
     ]
    }
   ],
   "source": [
    "person_linkage_cascade.run_matching_pass(\n",
    "    pass_name=\"initials\",\n",
    "    blocking_columns=[\"first_name_1\", \"last_name_1\"],\n",
    ")"
   ]
  },
  {
   "cell_type": "markdown",
   "id": "ca08637b-760c-4633-b0c4-23a6d4c01dd1",
   "metadata": {
    "papermill": {
     "duration": 0.030907,
     "end_time": "2024-06-01T00:29:16.010429",
     "exception": false,
     "start_time": "2024-06-01T00:29:15.979522",
     "status": "completed"
    },
    "tags": []
   },
   "source": [
    "## Pass 2: Block on year of birth"
   ]
  },
  {
   "cell_type": "code",
   "execution_count": 99,
   "id": "fccbc8e1-230c-4b59-95b4-e8ba97d566a3",
   "metadata": {
    "execution": {
     "iopub.execute_input": "2024-06-01T00:29:16.074971Z",
     "iopub.status.busy": "2024-06-01T00:29:16.074277Z",
     "iopub.status.idle": "2024-06-01T00:29:16.801192Z",
     "shell.execute_reply": "2024-06-01T00:29:16.799387Z"
    },
    "papermill": {
     "duration": 0.764471,
     "end_time": "2024-06-01T00:29:16.805119",
     "exception": false,
     "start_time": "2024-06-01T00:29:16.040648",
     "status": "completed"
    },
    "tags": []
   },
   "outputs": [
    {
     "name": "stdout",
     "output_type": "stream",
     "text": [
      "Running year of birth of hhcompsearch\n",
      "Files to link are 10,566 and 1,144 records\n"
     ]
    },
    {
     "name": "stdout",
     "output_type": "stream",
     "text": [
      "Number of pairs that will be compared: 70\n"
     ]
    },
    {
     "data": {
      "text/html": [
       "\n",
       "        <iframe\n",
       "            width=\"100%\"\n",
       "            height=\"1200\"\n",
       "            src=\"./diagnostics/splink_reports/small_sample/hhcompsearch__year_of_birth.html\"\n",
       "            frameborder=\"0\"\n",
       "            allowfullscreen\n",
       "            \n",
       "        ></iframe>\n",
       "        "
      ],
      "text/plain": [
       "<IPython.lib.display.IFrame at 0x7fc14e935270>"
      ]
     },
     "metadata": {},
     "output_type": "display_data"
    },
    {
     "name": "stdout",
     "output_type": "stream",
     "text": [
      "Found 13 matches; 10.25% still eligible to match\n"
     ]
    }
   ],
   "source": [
    "person_linkage_cascade.run_matching_pass(\n",
    "    pass_name=\"year of birth\",\n",
    "    blocking_columns=[\"year_of_birth\"],\n",
    ")"
   ]
  },
  {
   "cell_type": "markdown",
   "id": "d9bd99a1-3174-435f-bd22-49ffa06ec1d6",
   "metadata": {
    "papermill": {
     "duration": 0.031776,
     "end_time": "2024-06-01T00:29:16.878316",
     "exception": false,
     "start_time": "2024-06-01T00:29:16.846540",
     "status": "completed"
    },
    "tags": []
   },
   "source": [
    "## Post-process and confirm PIKs"
   ]
  },
  {
   "cell_type": "code",
   "execution_count": 100,
   "id": "9d61a681-a87d-4a4a-a89e-146b044fd22e",
   "metadata": {
    "execution": {
     "iopub.execute_input": "2024-06-01T00:29:16.944196Z",
     "iopub.status.busy": "2024-06-01T00:29:16.943513Z",
     "iopub.status.idle": "2024-06-01T00:29:16.994260Z",
     "shell.execute_reply": "2024-06-01T00:29:16.992415Z"
    },
    "papermill": {
     "duration": 0.087959,
     "end_time": "2024-06-01T00:29:16.997996",
     "exception": false,
     "start_time": "2024-06-01T00:29:16.910037",
     "status": "completed"
    },
    "tags": []
   },
   "outputs": [
    {
     "name": "stdout",
     "output_type": "stream",
     "text": [
      "41 input records linked to deceased people, dropping links\n",
      "2 input records linked to multiple PIKs, dropping links\n"
     ]
    }
   ],
   "source": [
    "person_linkage_cascade.confirm_piks()"
   ]
  },
  {
   "cell_type": "code",
   "execution_count": 101,
   "id": "8f147e2d-7510-4aad-bc30-1bbda2b4091f",
   "metadata": {
    "execution": {
     "iopub.execute_input": "2024-06-01T00:29:17.068686Z",
     "iopub.status.busy": "2024-06-01T00:29:17.067974Z",
     "iopub.status.idle": "2024-06-01T00:29:17.083610Z",
     "shell.execute_reply": "2024-06-01T00:29:17.082346Z"
    },
    "papermill": {
     "duration": 0.050868,
     "end_time": "2024-06-01T00:29:17.085681",
     "exception": false,
     "start_time": "2024-06-01T00:29:17.034813",
     "status": "completed"
    },
    "tags": []
   },
   "outputs": [
    {
     "data": {
      "text/plain": [
       "module_name   pass_name                                           \n",
       "geosearch     geokey                                                  6708\n",
       "              some name and DOB information                           1948\n",
       "              house number and street name Soundex                     574\n",
       "namesearch    DOB and NYSIIS of name                                   219\n",
       "dobsearch     first two characters of first name and year of birth     120\n",
       "namesearch    DOB and initials                                          97\n",
       "              birthday and first two characters of name                 61\n",
       "geosearch     geokey name switch                                        45\n",
       "dobsearch     reverse Soundex of name                                   41\n",
       "hhcompsearch  initials                                                  31\n",
       "namesearch    year of birth and first two characters of name            11\n",
       "hhcompsearch  year of birth                                              8\n",
       "dobsearch     initials name switch                                       5\n",
       "geosearch     house number and street name Soundex name switch           2\n",
       "dtype: int64"
      ]
     },
     "execution_count": 101,
     "metadata": {},
     "output_type": "execute_result"
    }
   ],
   "source": [
    "df_ops.compute(\n",
    "    person_linkage_cascade.confirmed_piks.groupby([\"module_name\", \"pass_name\"]).size()\n",
    ").sort_values(ascending=False)"
   ]
  },
  {
   "cell_type": "markdown",
   "id": "fc0ba651-913d-4eb4-9d3a-e391b9efc8d8",
   "metadata": {
    "papermill": {
     "duration": 0.032153,
     "end_time": "2024-06-01T00:29:17.152161",
     "exception": false,
     "start_time": "2024-06-01T00:29:17.120008",
     "status": "completed"
    },
    "tags": []
   },
   "source": [
    "# Resulting PIKs"
   ]
  },
  {
   "cell_type": "code",
   "execution_count": 102,
   "id": "c7a239d1-e1d8-435d-9af5-7c71ba3d64d1",
   "metadata": {
    "execution": {
     "iopub.execute_input": "2024-06-01T00:29:17.249177Z",
     "iopub.status.busy": "2024-06-01T00:29:17.248483Z",
     "iopub.status.idle": "2024-06-01T00:29:17.268852Z",
     "shell.execute_reply": "2024-06-01T00:29:17.267433Z"
    },
    "papermill": {
     "duration": 0.076154,
     "end_time": "2024-06-01T00:29:17.270646",
     "exception": false,
     "start_time": "2024-06-01T00:29:17.194492",
     "status": "completed"
    },
    "tags": []
   },
   "outputs": [],
   "source": [
    "pik_values = df_ops.drop_duplicates(\n",
    "    person_linkage_cascade.confirmed_piks.rename(\n",
    "        columns={\"record_id_raw_input_file\": \"record_id\"}\n",
    "    )[[\"record_id\", \"pik\"]]\n",
    ")"
   ]
  },
  {
   "cell_type": "code",
   "execution_count": 103,
   "id": "e9271823-d2b3-4f41-9d77-9ad5bb117397",
   "metadata": {
    "execution": {
     "iopub.execute_input": "2024-06-01T00:29:17.360613Z",
     "iopub.status.busy": "2024-06-01T00:29:17.359915Z",
     "iopub.status.idle": "2024-06-01T00:29:17.405484Z",
     "shell.execute_reply": "2024-06-01T00:29:17.403656Z"
    },
    "papermill": {
     "duration": 0.081517,
     "end_time": "2024-06-01T00:29:17.408697",
     "exception": false,
     "start_time": "2024-06-01T00:29:17.327180",
     "status": "completed"
    },
    "tags": []
   },
   "outputs": [
    {
     "data": {
      "text/html": [
       "<div>\n",
       "<style scoped>\n",
       "    .dataframe tbody tr th:only-of-type {\n",
       "        vertical-align: middle;\n",
       "    }\n",
       "\n",
       "    .dataframe tbody tr th {\n",
       "        vertical-align: top;\n",
       "    }\n",
       "\n",
       "    .dataframe thead th {\n",
       "        text-align: right;\n",
       "    }\n",
       "</style>\n",
       "<table border=\"1\" class=\"dataframe\">\n",
       "  <thead>\n",
       "    <tr style=\"text-align: right;\">\n",
       "      <th></th>\n",
       "      <th>record_id</th>\n",
       "      <th>household_id</th>\n",
       "      <th>first_name</th>\n",
       "      <th>middle_initial</th>\n",
       "      <th>last_name</th>\n",
       "      <th>age</th>\n",
       "      <th>date_of_birth</th>\n",
       "      <th>street_number</th>\n",
       "      <th>street_name</th>\n",
       "      <th>unit_number</th>\n",
       "      <th>city</th>\n",
       "      <th>state</th>\n",
       "      <th>zipcode</th>\n",
       "      <th>housing_type</th>\n",
       "      <th>relationship_to_reference_person</th>\n",
       "      <th>sex</th>\n",
       "      <th>race_ethnicity</th>\n",
       "      <th>year</th>\n",
       "      <th>pik</th>\n",
       "    </tr>\n",
       "  </thead>\n",
       "  <tbody>\n",
       "    <tr>\n",
       "      <th>0</th>\n",
       "      <td>simulated_census_2030_0</td>\n",
       "      <td>0_8033</td>\n",
       "      <td>Gerald</td>\n",
       "      <td>R</td>\n",
       "      <td>Butler</td>\n",
       "      <td>86</td>\n",
       "      <td>11/03/1943</td>\n",
       "      <td>1130</td>\n",
       "      <td>mallory ln</td>\n",
       "      <td>None</td>\n",
       "      <td>Anytown</td>\n",
       "      <td>WA</td>\n",
       "      <td>00000</td>\n",
       "      <td>Household</td>\n",
       "      <td>Reference person</td>\n",
       "      <td>Male</td>\n",
       "      <td>Black</td>\n",
       "      <td>2030</td>\n",
       "      <td>89638</td>\n",
       "    </tr>\n",
       "    <tr>\n",
       "      <th>1</th>\n",
       "      <td>simulated_census_2030_1</td>\n",
       "      <td>0_1066</td>\n",
       "      <td>April</td>\n",
       "      <td>S</td>\n",
       "      <td>Morino</td>\n",
       "      <td>33</td>\n",
       "      <td>10/23/1996</td>\n",
       "      <td>32597</td>\n",
       "      <td>delacorte dr</td>\n",
       "      <td>None</td>\n",
       "      <td>Anytown</td>\n",
       "      <td>WA</td>\n",
       "      <td>00000</td>\n",
       "      <td>Household</td>\n",
       "      <td>Other nonrelative</td>\n",
       "      <td>Female</td>\n",
       "      <td>Black</td>\n",
       "      <td>2030</td>\n",
       "      <td>98895</td>\n",
       "    </tr>\n",
       "    <tr>\n",
       "      <th>2</th>\n",
       "      <td>simulated_census_2030_2</td>\n",
       "      <td>0_1066</td>\n",
       "      <td>Loretta</td>\n",
       "      <td>T</td>\n",
       "      <td>Carley</td>\n",
       "      <td>71</td>\n",
       "      <td>06/01/1958</td>\n",
       "      <td>32597</td>\n",
       "      <td>delacorte dr</td>\n",
       "      <td>None</td>\n",
       "      <td>Anytown</td>\n",
       "      <td>WA</td>\n",
       "      <td>00000</td>\n",
       "      <td>Household</td>\n",
       "      <td>Reference person</td>\n",
       "      <td>Female</td>\n",
       "      <td>White</td>\n",
       "      <td>2030</td>\n",
       "      <td>91413</td>\n",
       "    </tr>\n",
       "    <tr>\n",
       "      <th>3</th>\n",
       "      <td>simulated_census_2030_3</td>\n",
       "      <td>0_2514</td>\n",
       "      <td>Sandra</td>\n",
       "      <td>Q</td>\n",
       "      <td>Runnalls</td>\n",
       "      <td>75</td>\n",
       "      <td>03/18/1954</td>\n",
       "      <td>4458</td>\n",
       "      <td>windsog pl</td>\n",
       "      <td>None</td>\n",
       "      <td>Anytown</td>\n",
       "      <td>WA</td>\n",
       "      <td>00000</td>\n",
       "      <td>Household</td>\n",
       "      <td>Reference person</td>\n",
       "      <td>Female</td>\n",
       "      <td>Multiracial or Other</td>\n",
       "      <td>2030</td>\n",
       "      <td>90774</td>\n",
       "    </tr>\n",
       "    <tr>\n",
       "      <th>4</th>\n",
       "      <td>simulated_census_2030_4</td>\n",
       "      <td>0_5627</td>\n",
       "      <td>Bobby</td>\n",
       "      <td>S</td>\n",
       "      <td>Rhimpson</td>\n",
       "      <td>48</td>\n",
       "      <td>05/30/1985</td>\n",
       "      <td>None</td>\n",
       "      <td>winding trail rd</td>\n",
       "      <td>None</td>\n",
       "      <td>Anytown</td>\n",
       "      <td>WA</td>\n",
       "      <td>00000</td>\n",
       "      <td>Household</td>\n",
       "      <td>Other nonrelative</td>\n",
       "      <td>Male</td>\n",
       "      <td>White</td>\n",
       "      <td>2030</td>\n",
       "      <td>NaN</td>\n",
       "    </tr>\n",
       "    <tr>\n",
       "      <th>...</th>\n",
       "      <td>...</td>\n",
       "      <td>...</td>\n",
       "      <td>...</td>\n",
       "      <td>...</td>\n",
       "      <td>...</td>\n",
       "      <td>...</td>\n",
       "      <td>...</td>\n",
       "      <td>...</td>\n",
       "      <td>...</td>\n",
       "      <td>...</td>\n",
       "      <td>...</td>\n",
       "      <td>...</td>\n",
       "      <td>...</td>\n",
       "      <td>...</td>\n",
       "      <td>...</td>\n",
       "      <td>...</td>\n",
       "      <td>...</td>\n",
       "      <td>...</td>\n",
       "      <td>...</td>\n",
       "    </tr>\n",
       "    <tr>\n",
       "      <th>11038</th>\n",
       "      <td>simulated_census_2030_11038</td>\n",
       "      <td>0_5</td>\n",
       "      <td>Benjamin</td>\n",
       "      <td>W</td>\n",
       "      <td>Chung</td>\n",
       "      <td>15</td>\n",
       "      <td>11/26/2014</td>\n",
       "      <td>4000</td>\n",
       "      <td>nw skydrwst pkwj</td>\n",
       "      <td>None</td>\n",
       "      <td>Anytown</td>\n",
       "      <td>WA</td>\n",
       "      <td>00000</td>\n",
       "      <td>Other noninstitutional</td>\n",
       "      <td>Noninstitutionalized group quarters population</td>\n",
       "      <td>Male</td>\n",
       "      <td>NHOPI</td>\n",
       "      <td>2030</td>\n",
       "      <td>103204</td>\n",
       "    </tr>\n",
       "    <tr>\n",
       "      <th>11039</th>\n",
       "      <td>simulated_census_2030_11039</td>\n",
       "      <td>0_3761</td>\n",
       "      <td>Jesse</td>\n",
       "      <td>V</td>\n",
       "      <td>Costanzo</td>\n",
       "      <td>15</td>\n",
       "      <td>04/24/2014</td>\n",
       "      <td>278</td>\n",
       "      <td>n dillon ave</td>\n",
       "      <td>None</td>\n",
       "      <td>Anytown</td>\n",
       "      <td>WA</td>\n",
       "      <td>00000</td>\n",
       "      <td>Household</td>\n",
       "      <td>Other relative</td>\n",
       "      <td>Male</td>\n",
       "      <td>White</td>\n",
       "      <td>2030</td>\n",
       "      <td>NaN</td>\n",
       "    </tr>\n",
       "    <tr>\n",
       "      <th>11040</th>\n",
       "      <td>simulated_census_2030_11040</td>\n",
       "      <td>0_10678</td>\n",
       "      <td>Alexis</td>\n",
       "      <td>R</td>\n",
       "      <td>Wolverton</td>\n",
       "      <td>21</td>\n",
       "      <td>08/20/2008</td>\n",
       "      <td>1439</td>\n",
       "      <td>highway 201 north</td>\n",
       "      <td>None</td>\n",
       "      <td>Anytown</td>\n",
       "      <td>WA</td>\n",
       "      <td>00000</td>\n",
       "      <td>Household</td>\n",
       "      <td>Other relative</td>\n",
       "      <td>Female</td>\n",
       "      <td>White</td>\n",
       "      <td>2030</td>\n",
       "      <td>101827</td>\n",
       "    </tr>\n",
       "    <tr>\n",
       "      <th>11041</th>\n",
       "      <td>simulated_census_2030_11041</td>\n",
       "      <td>0_4</td>\n",
       "      <td>Ella</td>\n",
       "      <td>N</td>\n",
       "      <td>Garland</td>\n",
       "      <td>23</td>\n",
       "      <td>08/23/2006</td>\n",
       "      <td>69</td>\n",
       "      <td>s hwy 701</td>\n",
       "      <td>None</td>\n",
       "      <td>Anytown</td>\n",
       "      <td>WA</td>\n",
       "      <td>00000</td>\n",
       "      <td>Military</td>\n",
       "      <td>Noninstitutionalized group quarters population</td>\n",
       "      <td>Female</td>\n",
       "      <td>Multiracial or Other</td>\n",
       "      <td>2030</td>\n",
       "      <td>105983</td>\n",
       "    </tr>\n",
       "    <tr>\n",
       "      <th>11042</th>\n",
       "      <td>simulated_census_2030_11042</td>\n",
       "      <td>0_7600</td>\n",
       "      <td>Valerie</td>\n",
       "      <td>M</td>\n",
       "      <td>Tsai</td>\n",
       "      <td>23</td>\n",
       "      <td>03/18/2006</td>\n",
       "      <td>7437</td>\n",
       "      <td>n cedar crest blvd</td>\n",
       "      <td>None</td>\n",
       "      <td>Anytown</td>\n",
       "      <td>WA</td>\n",
       "      <td>00000</td>\n",
       "      <td>Household</td>\n",
       "      <td>Other relative</td>\n",
       "      <td>Female</td>\n",
       "      <td>Asian</td>\n",
       "      <td>2030</td>\n",
       "      <td>101216</td>\n",
       "    </tr>\n",
       "  </tbody>\n",
       "</table>\n",
       "<p>11043 rows × 19 columns</p>\n",
       "</div>"
      ],
      "text/plain": [
       "                         record_id household_id first_name middle_initial  \\\n",
       "0          simulated_census_2030_0       0_8033     Gerald              R   \n",
       "1          simulated_census_2030_1       0_1066      April              S   \n",
       "2          simulated_census_2030_2       0_1066    Loretta              T   \n",
       "3          simulated_census_2030_3       0_2514     Sandra              Q   \n",
       "4          simulated_census_2030_4       0_5627      Bobby              S   \n",
       "...                            ...          ...        ...            ...   \n",
       "11038  simulated_census_2030_11038          0_5   Benjamin              W   \n",
       "11039  simulated_census_2030_11039       0_3761      Jesse              V   \n",
       "11040  simulated_census_2030_11040      0_10678     Alexis              R   \n",
       "11041  simulated_census_2030_11041          0_4       Ella              N   \n",
       "11042  simulated_census_2030_11042       0_7600    Valerie              M   \n",
       "\n",
       "       last_name age date_of_birth street_number         street_name  \\\n",
       "0         Butler  86    11/03/1943          1130          mallory ln   \n",
       "1         Morino  33    10/23/1996         32597        delacorte dr   \n",
       "2         Carley  71    06/01/1958         32597        delacorte dr   \n",
       "3       Runnalls  75    03/18/1954          4458          windsog pl   \n",
       "4       Rhimpson  48    05/30/1985          None    winding trail rd   \n",
       "...          ...  ..           ...           ...                 ...   \n",
       "11038      Chung  15    11/26/2014          4000    nw skydrwst pkwj   \n",
       "11039   Costanzo  15    04/24/2014           278        n dillon ave   \n",
       "11040  Wolverton  21    08/20/2008          1439   highway 201 north   \n",
       "11041    Garland  23    08/23/2006            69           s hwy 701   \n",
       "11042       Tsai  23    03/18/2006          7437  n cedar crest blvd   \n",
       "\n",
       "      unit_number     city state zipcode            housing_type  \\\n",
       "0            None  Anytown    WA   00000               Household   \n",
       "1            None  Anytown    WA   00000               Household   \n",
       "2            None  Anytown    WA   00000               Household   \n",
       "3            None  Anytown    WA   00000               Household   \n",
       "4            None  Anytown    WA   00000               Household   \n",
       "...           ...      ...   ...     ...                     ...   \n",
       "11038        None  Anytown    WA   00000  Other noninstitutional   \n",
       "11039        None  Anytown    WA   00000               Household   \n",
       "11040        None  Anytown    WA   00000               Household   \n",
       "11041        None  Anytown    WA   00000                Military   \n",
       "11042        None  Anytown    WA   00000               Household   \n",
       "\n",
       "                     relationship_to_reference_person     sex  \\\n",
       "0                                    Reference person    Male   \n",
       "1                                   Other nonrelative  Female   \n",
       "2                                    Reference person  Female   \n",
       "3                                    Reference person  Female   \n",
       "4                                   Other nonrelative    Male   \n",
       "...                                               ...     ...   \n",
       "11038  Noninstitutionalized group quarters population    Male   \n",
       "11039                                  Other relative    Male   \n",
       "11040                                  Other relative  Female   \n",
       "11041  Noninstitutionalized group quarters population  Female   \n",
       "11042                                  Other relative  Female   \n",
       "\n",
       "             race_ethnicity  year     pik  \n",
       "0                     Black  2030   89638  \n",
       "1                     Black  2030   98895  \n",
       "2                     White  2030   91413  \n",
       "3      Multiracial or Other  2030   90774  \n",
       "4                     White  2030     NaN  \n",
       "...                     ...   ...     ...  \n",
       "11038                 NHOPI  2030  103204  \n",
       "11039                 White  2030     NaN  \n",
       "11040                 White  2030  101827  \n",
       "11041  Multiracial or Other  2030  105983  \n",
       "11042                 Asian  2030  101216  \n",
       "\n",
       "[11043 rows x 19 columns]"
      ]
     },
     "execution_count": 103,
     "metadata": {},
     "output_type": "execute_result"
    }
   ],
   "source": [
    "census_2030_piked = census_2030_raw_input.copy()\n",
    "kwargs = {}\n",
    "if not compute_engine.startswith(\"dask\"):\n",
    "    kwargs[\"validate\"] = \"1:1\"\n",
    "census_2030_piked = df_ops.persist(\n",
    "    census_2030_piked.merge(\n",
    "        pik_values,\n",
    "        how=\"left\",\n",
    "        on=\"record_id\",\n",
    "        **kwargs,\n",
    "    )\n",
    ")\n",
    "census_2030_piked"
   ]
  },
  {
   "cell_type": "code",
   "execution_count": 104,
   "id": "5e6566f0-e77b-4b21-968c-05a7ef08eff6",
   "metadata": {
    "editable": true,
    "execution": {
     "iopub.execute_input": "2024-06-01T00:29:17.483035Z",
     "iopub.status.busy": "2024-06-01T00:29:17.482356Z",
     "iopub.status.idle": "2024-06-01T00:29:17.493854Z",
     "shell.execute_reply": "2024-06-01T00:29:17.492507Z"
    },
    "papermill": {
     "duration": 0.049007,
     "end_time": "2024-06-01T00:29:17.495680",
     "exception": false,
     "start_time": "2024-06-01T00:29:17.446673",
     "status": "completed"
    },
    "slideshow": {
     "slide_type": ""
    },
    "tags": []
   },
   "outputs": [
    {
     "name": "stdout",
     "output_type": "stream",
     "text": [
      "89.38% of the input records were PIKed\n"
     ]
    }
   ],
   "source": [
    "piked_proportion = census_2030_piked.pik.notnull().mean()\n",
    "# Compare with 90.28% of input records PIKed in the 2010 CUF,\n",
    "# as reported in Wagner and Layne, Table 2, p. 18\n",
    "print(f\"{df_ops.compute(piked_proportion):.2%} of the input records were PIKed\")"
   ]
  },
  {
   "cell_type": "code",
   "execution_count": 105,
   "id": "ffc185e2-1d4e-4d8c-98a0-3c0c3d1641cb",
   "metadata": {
    "editable": true,
    "execution": {
     "iopub.execute_input": "2024-06-01T00:29:17.564728Z",
     "iopub.status.busy": "2024-06-01T00:29:17.564037Z",
     "iopub.status.idle": "2024-06-01T00:29:18.209768Z",
     "shell.execute_reply": "2024-06-01T00:29:18.207737Z"
    },
    "papermill": {
     "duration": 0.683652,
     "end_time": "2024-06-01T00:29:18.213538",
     "exception": false,
     "start_time": "2024-06-01T00:29:17.529886",
     "status": "completed"
    },
    "slideshow": {
     "slide_type": ""
    },
    "tags": []
   },
   "outputs": [],
   "source": [
    "df_ops.to_parquet(census_2030_piked, f\"{output_dir}/census_2030_piked.parquet\")"
   ]
  },
  {
   "cell_type": "code",
   "execution_count": 106,
   "id": "822eb452-ca69-48fc-b1d6-c3425fd5f39e",
   "metadata": {
    "execution": {
     "iopub.execute_input": "2024-06-01T00:29:18.287552Z",
     "iopub.status.busy": "2024-06-01T00:29:18.286884Z",
     "iopub.status.idle": "2024-06-01T00:29:18.694944Z",
     "shell.execute_reply": "2024-06-01T00:29:18.692955Z"
    },
    "papermill": {
     "duration": 0.446459,
     "end_time": "2024-06-01T00:29:18.698997",
     "exception": false,
     "start_time": "2024-06-01T00:29:18.252538",
     "status": "completed"
    },
    "tags": []
   },
   "outputs": [],
   "source": [
    "df_ops.to_parquet(\n",
    "    person_linkage_cascade.confirmed_piks, f\"{output_dir}/confirmed_piks.parquet\"\n",
    ")"
   ]
  },
  {
   "cell_type": "code",
   "execution_count": 107,
   "id": "e5ee7cdb-bac3-4245-b1e1-0cdcb6652a27",
   "metadata": {
    "editable": true,
    "execution": {
     "iopub.execute_input": "2024-06-01T00:29:18.773505Z",
     "iopub.status.busy": "2024-06-01T00:29:18.772824Z",
     "iopub.status.idle": "2024-06-01T00:29:18.780812Z",
     "shell.execute_reply": "2024-06-01T00:29:18.779144Z"
    },
    "papermill": {
     "duration": 0.04394,
     "end_time": "2024-06-01T00:29:18.782934",
     "exception": false,
     "start_time": "2024-06-01T00:29:18.738994",
     "status": "completed"
    },
    "slideshow": {
     "slide_type": ""
    },
    "tags": []
   },
   "outputs": [
    {
     "name": "stdout",
     "output_type": "stream",
     "text": [
      "2024-05-31 17:29:18.775552\n"
     ]
    }
   ],
   "source": [
    "# NOTE: Can't use the magic ! date here for reasons I don't really understand having\n",
    "# to do with the number of open file handles. This works fine.\n",
    "print(datetime.datetime.now())"
   ]
  },
  {
   "cell_type": "code",
   "execution_count": 108,
   "id": "eb7b5f77",
   "metadata": {
    "execution": {
     "iopub.execute_input": "2024-06-01T00:29:18.851707Z",
     "iopub.status.busy": "2024-06-01T00:29:18.850391Z",
     "iopub.status.idle": "2024-06-01T00:29:18.858951Z",
     "shell.execute_reply": "2024-06-01T00:29:18.857017Z"
    },
    "papermill": {
     "duration": 0.043757,
     "end_time": "2024-06-01T00:29:18.860613",
     "exception": false,
     "start_time": "2024-06-01T00:29:18.816856",
     "status": "completed"
    },
    "tags": []
   },
   "outputs": [],
   "source": [
    "if splink_engine == \"spark\":\n",
    "    teardown_spark()"
   ]
  }
 ],
 "metadata": {
  "kernelspec": {
   "display_name": "Python 3 (ipykernel)",
   "language": "python",
   "name": "python3"
  },
  "language_info": {
   "codemirror_mode": {
    "name": "ipython",
    "version": 3
   },
   "file_extension": ".py",
   "mimetype": "text/x-python",
   "name": "python",
   "nbconvert_exporter": "python",
   "pygments_lexer": "ipython3",
   "version": "3.10.14"
  },
  "papermill": {
   "default_parameters": {},
   "duration": 48.152848,
   "end_time": "2024-06-01T00:29:19.621407",
   "environment_variables": {},
   "exception": null,
   "input_path": "03_link_datasets.ipynb",
   "output_path": "diagnostics/executed_notebooks/small_sample/03_link_datasets.ipynb",
   "parameters": {
    "compute_engine": "pandas",
    "conda_env": "person_linkage_case_study_3",
    "conda_path": "/mnt/share/homes/zmbc/mambaforge/condabin/conda",
    "data_to_use": "small_sample",
    "input_dir": "output/02_generate_case_study_files/",
    "output_dir": "output/03_link_datasets/",
    "splink_engine": "duckdb"
   },
   "start_time": "2024-06-01T00:28:31.468559",
   "version": "2.5.0"
  },
  "toc-autonumbering": false,
  "toc-showcode": false,
  "toc-showtags": false
 },
 "nbformat": 4,
 "nbformat_minor": 5
}