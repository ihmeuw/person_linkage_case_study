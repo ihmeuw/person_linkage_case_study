{
 "cells": [
  {
   "cell_type": "markdown",
   "id": "6f802687-416a-4b38-82d3-ab387dc16c38",
   "metadata": {
    "papermill": {
     "duration": 0.013496,
     "end_time": "2024-06-01T00:27:34.675719",
     "exception": false,
     "start_time": "2024-06-01T00:27:34.662223",
     "status": "completed"
    },
    "tags": []
   },
   "source": [
    "# Generate pseudopeople simulated datasets\n",
    "\n",
    "The very first step is generating pseudopeople data that will be used to create the files for the case study."
   ]
  },
  {
   "cell_type": "code",
   "execution_count": 1,
   "id": "6a821e3e-9ae1-466d-b24f-66d1b0703a92",
   "metadata": {
    "execution": {
     "iopub.execute_input": "2024-06-01T00:27:34.694759Z",
     "iopub.status.busy": "2024-06-01T00:27:34.693319Z",
     "iopub.status.idle": "2024-06-01T00:27:42.800750Z",
     "shell.execute_reply": "2024-06-01T00:27:42.798699Z"
    },
    "papermill": {
     "duration": 8.120856,
     "end_time": "2024-06-01T00:27:42.805186",
     "exception": false,
     "start_time": "2024-06-01T00:27:34.684330",
     "status": "completed"
    },
    "tags": []
   },
   "outputs": [],
   "source": [
    "import warnings\n",
    "import pseudopeople as psp\n",
    "import os, time\n",
    "import logging\n",
    "from pathlib import Path\n",
    "\n",
    "# Importing pandas for access, regardless of whether we are using it as the compute engine\n",
    "import pandas"
   ]
  },
  {
   "cell_type": "code",
   "execution_count": 2,
   "id": "57d8bb5e-1f72-4db1-9d64-a7758e7ba087",
   "metadata": {
    "execution": {
     "iopub.execute_input": "2024-06-01T00:27:42.828009Z",
     "iopub.status.busy": "2024-06-01T00:27:42.827157Z",
     "iopub.status.idle": "2024-06-01T00:27:42.869148Z",
     "shell.execute_reply": "2024-06-01T00:27:42.867442Z"
    },
    "papermill": {
     "duration": 0.055322,
     "end_time": "2024-06-01T00:27:42.873158",
     "exception": false,
     "start_time": "2024-06-01T00:27:42.817836",
     "status": "completed"
    },
    "tags": []
   },
   "outputs": [],
   "source": [
    "%load_ext autoreload\n",
    "%autoreload 1"
   ]
  },
  {
   "cell_type": "code",
   "execution_count": 3,
   "id": "fdf1e371-a255-4ed0-86d0-fde6cabbc49f",
   "metadata": {
    "execution": {
     "iopub.execute_input": "2024-06-01T00:27:42.896225Z",
     "iopub.status.busy": "2024-06-01T00:27:42.895833Z",
     "iopub.status.idle": "2024-06-01T00:27:43.039523Z",
     "shell.execute_reply": "2024-06-01T00:27:43.037481Z"
    },
    "papermill": {
     "duration": 0.157347,
     "end_time": "2024-06-01T00:27:43.043602",
     "exception": false,
     "start_time": "2024-06-01T00:27:42.886255",
     "status": "completed"
    },
    "tags": []
   },
   "outputs": [],
   "source": [
    "from person_linkage_case_study import distributed_compute, utils"
   ]
  },
  {
   "cell_type": "code",
   "execution_count": 4,
   "id": "cc4546dc-f329-48b7-9988-5d25991939f0",
   "metadata": {
    "execution": {
     "iopub.execute_input": "2024-06-01T00:27:43.066831Z",
     "iopub.status.busy": "2024-06-01T00:27:43.066182Z",
     "iopub.status.idle": "2024-06-01T00:27:43.073538Z",
     "shell.execute_reply": "2024-06-01T00:27:43.072322Z"
    },
    "papermill": {
     "duration": 0.019164,
     "end_time": "2024-06-01T00:27:43.075478",
     "exception": false,
     "start_time": "2024-06-01T00:27:43.056314",
     "status": "completed"
    },
    "tags": []
   },
   "outputs": [],
   "source": [
    "warnings.simplefilter(action=\"ignore\", category=FutureWarning)"
   ]
  },
  {
   "cell_type": "code",
   "execution_count": 5,
   "id": "7ac996f3-1270-4211-a829-728e3b2ba6f7",
   "metadata": {
    "editable": true,
    "execution": {
     "iopub.execute_input": "2024-06-01T00:27:43.092817Z",
     "iopub.status.busy": "2024-06-01T00:27:43.092155Z",
     "iopub.status.idle": "2024-06-01T00:27:43.101963Z",
     "shell.execute_reply": "2024-06-01T00:27:43.100712Z"
    },
    "papermill": {
     "duration": 0.021022,
     "end_time": "2024-06-01T00:27:43.104028",
     "exception": false,
     "start_time": "2024-06-01T00:27:43.083006",
     "status": "completed"
    },
    "slideshow": {
     "slide_type": ""
    },
    "tags": [
     "parameters"
    ]
   },
   "outputs": [],
   "source": [
    "# DO NOT EDIT if this notebook is not called 01_generate_pseudopeople_simulated_datasets.ipynb!\n",
    "# This notebook is designed to be run with papermill; this cell is tagged 'parameters'\n",
    "# When you run this, save it to another filename.\n",
    "data_to_use = \"small_sample\"\n",
    "output_dir = \"output/01_generate_pseudopeople_simulated_datasets\"\n",
    "compute_engine = \"pandas\"\n",
    "# Only matter if distributing\n",
    "compute_engine_num_workers = 5\n",
    "compute_engine_cpus_per_worker = 2\n",
    "compute_engine_threads_per_worker = 1\n",
    "compute_engine_memory_per_worker = \"10GB\"\n",
    "queue = None\n",
    "account = None\n",
    "# NOTE: This is, as Dask requests, a directory local to the compute node.\n",
    "# But IHME's cluster doesn't support this very well -- it can be small-ish,\n",
    "# full of stuff from other users, etc.\n",
    "compute_engine_local_directory = (\n",
    "    f\"/tmp/{os.environ['USER']}_{int(time.time())}_person_linkage_case_study\"\n",
    ")\n",
    "walltime = None\n",
    "compute_engine_memory_constrained = True\n",
    "compute_engine_scheduler = \"slurm\"\n",
    "\n",
    "very_noisy = True\n",
    "pseudopeople_seed = 0\n",
    "\n",
    "ri_simulated_population = None\n",
    "usa_simulated_population = None\n",
    "\n",
    "log_directory = f\"{output_dir}/{data_to_use}/logs\""
   ]
  },
  {
   "cell_type": "code",
   "execution_count": 6,
   "id": "b5d6fd5c",
   "metadata": {
    "execution": {
     "iopub.execute_input": "2024-06-01T00:27:43.121055Z",
     "iopub.status.busy": "2024-06-01T00:27:43.120621Z",
     "iopub.status.idle": "2024-06-01T00:27:43.126458Z",
     "shell.execute_reply": "2024-06-01T00:27:43.125337Z"
    },
    "papermill": {
     "duration": 0.016255,
     "end_time": "2024-06-01T00:27:43.128210",
     "exception": false,
     "start_time": "2024-06-01T00:27:43.111955",
     "status": "completed"
    },
    "tags": [
     "injected-parameters"
    ]
   },
   "outputs": [],
   "source": [
    "# Parameters\n",
    "data_to_use = \"small_sample\"\n",
    "output_dir = \"output/01_generate_pseudopeople_simulated_datasets/\"\n",
    "very_noisy = True\n",
    "compute_engine = \"pandas\"\n"
   ]
  },
  {
   "cell_type": "code",
   "execution_count": 7,
   "id": "73c05dea-d01e-4ca6-bb3c-b3ddea03eb68",
   "metadata": {
    "execution": {
     "iopub.execute_input": "2024-06-01T00:27:43.146047Z",
     "iopub.status.busy": "2024-06-01T00:27:43.145409Z",
     "iopub.status.idle": "2024-06-01T00:27:43.152174Z",
     "shell.execute_reply": "2024-06-01T00:27:43.151090Z"
    },
    "papermill": {
     "duration": 0.018337,
     "end_time": "2024-06-01T00:27:43.154286",
     "exception": false,
     "start_time": "2024-06-01T00:27:43.135949",
     "status": "completed"
    },
    "tags": []
   },
   "outputs": [],
   "source": [
    "if compute_engine != \"pandas\":\n",
    "    utils.ensure_empty(compute_engine_local_directory)"
   ]
  },
  {
   "cell_type": "code",
   "execution_count": 8,
   "id": "d23e90be-2f7f-46db-ae17-a3dae23b7a4a",
   "metadata": {
    "execution": {
     "iopub.execute_input": "2024-06-01T00:27:43.173444Z",
     "iopub.status.busy": "2024-06-01T00:27:43.172799Z",
     "iopub.status.idle": "2024-06-01T00:27:43.320964Z",
     "shell.execute_reply": "2024-06-01T00:27:43.318893Z"
    },
    "papermill": {
     "duration": 0.161179,
     "end_time": "2024-06-01T00:27:43.325200",
     "exception": false,
     "start_time": "2024-06-01T00:27:43.164021",
     "status": "completed"
    },
    "tags": []
   },
   "outputs": [],
   "source": [
    "output_dir = str(Path(output_dir) / data_to_use)\n",
    "utils.ensure_empty(output_dir)"
   ]
  },
  {
   "cell_type": "code",
   "execution_count": 9,
   "id": "7c907a06-99bc-4d30-a46c-bd25e3318c01",
   "metadata": {
    "execution": {
     "iopub.execute_input": "2024-06-01T00:27:43.349353Z",
     "iopub.status.busy": "2024-06-01T00:27:43.348702Z",
     "iopub.status.idle": "2024-06-01T00:27:43.357625Z",
     "shell.execute_reply": "2024-06-01T00:27:43.356546Z"
    },
    "papermill": {
     "duration": 0.020521,
     "end_time": "2024-06-01T00:27:43.359407",
     "exception": false,
     "start_time": "2024-06-01T00:27:43.338886",
     "status": "completed"
    },
    "tags": []
   },
   "outputs": [],
   "source": [
    "df_ops, pd = distributed_compute.start_compute_engine(\n",
    "    compute_engine,\n",
    "    num_workers=compute_engine_num_workers,\n",
    "    cpus_per_worker=compute_engine_cpus_per_worker,\n",
    "    threads_per_worker=compute_engine_threads_per_worker,\n",
    "    memory_per_worker=compute_engine_memory_per_worker,\n",
    "    worker_walltime=walltime,\n",
    "    local_directory=compute_engine_local_directory,\n",
    "    log_directory=log_directory,\n",
    "    memory_constrained=compute_engine_memory_constrained,\n",
    "    scheduler=compute_engine_scheduler,\n",
    "    queue=queue,\n",
    "    account=account,\n",
    ")"
   ]
  },
  {
   "cell_type": "code",
   "execution_count": 10,
   "id": "79ff29f5-473d-4dab-9e7f-453f284ad8d8",
   "metadata": {
    "execution": {
     "iopub.execute_input": "2024-06-01T00:27:43.377648Z",
     "iopub.status.busy": "2024-06-01T00:27:43.377012Z",
     "iopub.status.idle": "2024-06-01T00:27:43.600164Z",
     "shell.execute_reply": "2024-06-01T00:27:43.598009Z"
    },
    "papermill": {
     "duration": 0.236767,
     "end_time": "2024-06-01T00:27:43.604329",
     "exception": false,
     "start_time": "2024-06-01T00:27:43.367562",
     "status": "completed"
    },
    "tags": []
   },
   "outputs": [
    {
     "name": "stdout",
     "output_type": "stream",
     "text": [
      "Fri 31 May 2024 05:27:43 PM PDT\r\n"
     ]
    }
   ],
   "source": [
    "! date"
   ]
  },
  {
   "cell_type": "code",
   "execution_count": 11,
   "id": "41e6be4e-a9b4-47c3-ae1a-f6e7d2c9dc6c",
   "metadata": {
    "execution": {
     "iopub.execute_input": "2024-06-01T00:27:43.627307Z",
     "iopub.status.busy": "2024-06-01T00:27:43.626630Z",
     "iopub.status.idle": "2024-06-01T00:27:43.640693Z",
     "shell.execute_reply": "2024-06-01T00:27:43.639556Z"
    },
    "papermill": {
     "duration": 0.02617,
     "end_time": "2024-06-01T00:27:43.642817",
     "exception": false,
     "start_time": "2024-06-01T00:27:43.616647",
     "status": "completed"
    },
    "tags": []
   },
   "outputs": [
    {
     "data": {
      "text/plain": [
       "'1.0.1.dev17+gb1d872c'"
      ]
     },
     "execution_count": 11,
     "metadata": {},
     "output_type": "execute_result"
    }
   ],
   "source": [
    "psp.__version__"
   ]
  },
  {
   "cell_type": "markdown",
   "id": "8a08bfa0-f644-4faa-b303-ef24d9a32b86",
   "metadata": {
    "papermill": {
     "duration": 0.007178,
     "end_time": "2024-06-01T00:27:43.658601",
     "exception": false,
     "start_time": "2024-06-01T00:27:43.651423",
     "status": "completed"
    },
    "tags": []
   },
   "source": [
    "## Load simulated data"
   ]
  },
  {
   "cell_type": "code",
   "execution_count": 12,
   "id": "8abfcc66-502c-45f1-a269-d0c60fa5f0c9",
   "metadata": {
    "execution": {
     "iopub.execute_input": "2024-06-01T00:27:43.676420Z",
     "iopub.status.busy": "2024-06-01T00:27:43.675777Z",
     "iopub.status.idle": "2024-06-01T00:27:43.684360Z",
     "shell.execute_reply": "2024-06-01T00:27:43.683139Z"
    },
    "papermill": {
     "duration": 0.021627,
     "end_time": "2024-06-01T00:27:43.687425",
     "exception": false,
     "start_time": "2024-06-01T00:27:43.665798",
     "status": "completed"
    },
    "tags": []
   },
   "outputs": [],
   "source": [
    "if data_to_use == \"small_sample\":\n",
    "    pseudopeople_input_dir = None\n",
    "elif data_to_use == \"ri\":\n",
    "    assert ri_simulated_population is not None\n",
    "    pseudopeople_input_dir = ri_simulated_population\n",
    "elif data_to_use == \"usa\":\n",
    "    assert usa_simulated_population is not None\n",
    "    pseudopeople_input_dir = usa_simulated_population\n",
    "else:\n",
    "    raise ValueError()"
   ]
  },
  {
   "cell_type": "code",
   "execution_count": 13,
   "id": "cc05826f-98d7-4dac-adf9-8d9f80809811",
   "metadata": {
    "execution": {
     "iopub.execute_input": "2024-06-01T00:27:43.706441Z",
     "iopub.status.busy": "2024-06-01T00:27:43.705835Z",
     "iopub.status.idle": "2024-06-01T00:27:43.713695Z",
     "shell.execute_reply": "2024-06-01T00:27:43.712293Z"
    },
    "papermill": {
     "duration": 0.019393,
     "end_time": "2024-06-01T00:27:43.715494",
     "exception": false,
     "start_time": "2024-06-01T00:27:43.696101",
     "status": "completed"
    },
    "tags": []
   },
   "outputs": [],
   "source": [
    "psp_kwargs = {\n",
    "    \"source\": pseudopeople_input_dir,\n",
    "    \"seed\": pseudopeople_seed,\n",
    "}\n",
    "if compute_engine.startswith(\"dask\"):\n",
    "    psp_kwargs[\"engine\"] = \"dask\""
   ]
  },
  {
   "cell_type": "markdown",
   "id": "02bd7b4d-645d-4dca-94ae-ee1780048aa0",
   "metadata": {
    "papermill": {
     "duration": 0.00722,
     "end_time": "2024-06-01T00:27:43.730642",
     "exception": false,
     "start_time": "2024-06-01T00:27:43.723422",
     "status": "completed"
    },
    "tags": []
   },
   "source": [
    "### Noise configuration\n",
    "\n",
    "In order to give ourselves more of a challenge, we significantly increase the amount of noise\n",
    "from the pseudopeople defaults."
   ]
  },
  {
   "cell_type": "code",
   "execution_count": 14,
   "id": "9dbb002e-8468-4885-a4b5-52fdb75ce7c0",
   "metadata": {
    "execution": {
     "iopub.execute_input": "2024-06-01T00:27:43.748330Z",
     "iopub.status.busy": "2024-06-01T00:27:43.747688Z",
     "iopub.status.idle": "2024-06-01T00:27:43.764144Z",
     "shell.execute_reply": "2024-06-01T00:27:43.763085Z"
    },
    "papermill": {
     "duration": 0.028289,
     "end_time": "2024-06-01T00:27:43.766259",
     "exception": false,
     "start_time": "2024-06-01T00:27:43.737970",
     "status": "completed"
    },
    "tags": []
   },
   "outputs": [],
   "source": [
    "default_configuration = psp.get_config()"
   ]
  },
  {
   "cell_type": "code",
   "execution_count": 15,
   "id": "a42207b2-5f2b-40c1-82d8-4d6ca36fe4c4",
   "metadata": {
    "execution": {
     "iopub.execute_input": "2024-06-01T00:27:43.786056Z",
     "iopub.status.busy": "2024-06-01T00:27:43.785764Z",
     "iopub.status.idle": "2024-06-01T00:27:43.793061Z",
     "shell.execute_reply": "2024-06-01T00:27:43.792032Z"
    },
    "papermill": {
     "duration": 0.01814,
     "end_time": "2024-06-01T00:27:43.795070",
     "exception": false,
     "start_time": "2024-06-01T00:27:43.776930",
     "status": "completed"
    },
    "tags": []
   },
   "outputs": [],
   "source": [
    "# Helper functions for changing the default configuration according to a pattern\n",
    "def column_noise_value(dataset, column, noise_type, default_value):\n",
    "    if very_noisy and dataset in (\n",
    "        \"decennial_census\",\n",
    "        \"taxes_w2_and_1099\",\n",
    "        \"social_security\",\n",
    "    ):\n",
    "        if noise_type == \"make_typos\":\n",
    "            if column == \"middle_initial\":\n",
    "                # 5% of middle initials (which are all a single token anyway) are wrong.\n",
    "                return {\"cell_probability\": 0.05, \"token_probability\": 1}\n",
    "            elif column in (\"first_name\", \"last_name\", \"street_name\"):\n",
    "                # 10% of these text columns were entered carelessly, at a rate of 1 error\n",
    "                # per 10 characters.\n",
    "                # The pseudopeople default is 1% careless.\n",
    "                return {\"cell_probability\": 0.1, \"token_probability\": 0.1}\n",
    "        elif noise_type == \"write_wrong_digits\" and (\n",
    "            dataset != \"social_security\" or column != \"ssn\"\n",
    "        ):\n",
    "            # 10% of number columns were written carelessly, at a rate of 1 error\n",
    "            # per 10 characters.\n",
    "            # The pseudopeople default is 1% careless.\n",
    "            # Note that this is applied on top of (the default lower levels of) typos,\n",
    "            # since typos also apply to numeric characters.\n",
    "            # We never introduce error on the SSN in the SSA dataset\n",
    "            return {\"cell_probability\": 0.1, \"token_probability\": 0.1}\n",
    "\n",
    "    return default_value\n",
    "\n",
    "\n",
    "def row_noise_value(dataset, noise_type, default_value):\n",
    "    return default_value"
   ]
  },
  {
   "cell_type": "code",
   "execution_count": 16,
   "id": "e7c9dd19-eac0-455f-9af3-7bc7bc3029e0",
   "metadata": {
    "execution": {
     "iopub.execute_input": "2024-06-01T00:27:43.813673Z",
     "iopub.status.busy": "2024-06-01T00:27:43.813255Z",
     "iopub.status.idle": "2024-06-01T00:27:43.821875Z",
     "shell.execute_reply": "2024-06-01T00:27:43.820602Z"
    },
    "papermill": {
     "duration": 0.020132,
     "end_time": "2024-06-01T00:27:43.824145",
     "exception": false,
     "start_time": "2024-06-01T00:27:43.804013",
     "status": "completed"
    },
    "tags": []
   },
   "outputs": [],
   "source": [
    "custom_configuration = {\n",
    "    dataset: {\n",
    "        noise_category: (\n",
    "            (\n",
    "                {\n",
    "                    column: {\n",
    "                        noise_type: column_noise_value(\n",
    "                            dataset, column, noise_type, noise_type_config\n",
    "                        )\n",
    "                        for noise_type, noise_type_config in column_config.items()\n",
    "                    }\n",
    "                    for column, column_config in noise_category_config.items()\n",
    "                }\n",
    "                if noise_category == \"column_noise\"\n",
    "                else {\n",
    "                    noise_type: row_noise_value(dataset, noise_type, noise_type_config)\n",
    "                    for noise_type, noise_type_config in noise_category_config.items()\n",
    "                }\n",
    "            )\n",
    "        )\n",
    "        for noise_category, noise_category_config in dataset_config.items()\n",
    "    }\n",
    "    for dataset, dataset_config in default_configuration.items()\n",
    "}"
   ]
  },
  {
   "cell_type": "code",
   "execution_count": 17,
   "id": "e8056884-bb09-475b-9499-56ba79b96c6a",
   "metadata": {
    "execution": {
     "iopub.execute_input": "2024-06-01T00:27:43.842500Z",
     "iopub.status.busy": "2024-06-01T00:27:43.841857Z",
     "iopub.status.idle": "2024-06-01T00:27:43.849459Z",
     "shell.execute_reply": "2024-06-01T00:27:43.847963Z"
    },
    "papermill": {
     "duration": 0.020696,
     "end_time": "2024-06-01T00:27:43.853410",
     "exception": false,
     "start_time": "2024-06-01T00:27:43.832714",
     "status": "completed"
    },
    "tags": []
   },
   "outputs": [],
   "source": [
    "psp_kwargs[\"config\"] = custom_configuration"
   ]
  },
  {
   "cell_type": "markdown",
   "id": "5fe8e46b-f936-4704-b120-9bbcbce6c3e9",
   "metadata": {
    "papermill": {
     "duration": 0.007226,
     "end_time": "2024-06-01T00:27:43.872874",
     "exception": false,
     "start_time": "2024-06-01T00:27:43.865648",
     "status": "completed"
    },
    "tags": []
   },
   "source": [
    "### Simulated 1040 tax filings\n",
    "\n",
    "We assume that the last 5 years of taxes would be available and used in the construction of the reference files -- see section about reference files below.\n",
    "\n",
    "Note that these are retrieved by *tax* year, so the 2029 taxes would be available in early 2030\n",
    "(around when our hypothetical case study is taking place)."
   ]
  },
  {
   "cell_type": "code",
   "execution_count": 18,
   "id": "8157a22b-45f3-4fc1-803e-4670a554b23f",
   "metadata": {
    "execution": {
     "iopub.execute_input": "2024-06-01T00:27:43.891094Z",
     "iopub.status.busy": "2024-06-01T00:27:43.889548Z",
     "iopub.status.idle": "2024-06-01T00:27:43.901415Z",
     "shell.execute_reply": "2024-06-01T00:27:43.899737Z"
    },
    "papermill": {
     "duration": 0.023491,
     "end_time": "2024-06-01T00:27:43.903745",
     "exception": false,
     "start_time": "2024-06-01T00:27:43.880254",
     "status": "completed"
    },
    "tags": []
   },
   "outputs": [
    {
     "data": {
      "text/plain": [
       "[2025, 2026, 2027, 2028, 2029]"
      ]
     },
     "execution_count": 18,
     "metadata": {},
     "output_type": "execute_result"
    }
   ],
   "source": [
    "tax_years = list(range(2025, 2030))\n",
    "tax_years"
   ]
  },
  {
   "cell_type": "code",
   "execution_count": 19,
   "id": "5b600fee-3aeb-474a-b4e2-9099aec164be",
   "metadata": {
    "execution": {
     "iopub.execute_input": "2024-06-01T00:27:43.923156Z",
     "iopub.status.busy": "2024-06-01T00:27:43.922677Z",
     "iopub.status.idle": "2024-06-01T00:27:43.956053Z",
     "shell.execute_reply": "2024-06-01T00:27:43.954470Z"
    },
    "papermill": {
     "duration": 0.045712,
     "end_time": "2024-06-01T00:27:43.959043",
     "exception": false,
     "start_time": "2024-06-01T00:27:43.913331",
     "status": "completed"
    },
    "tags": []
   },
   "outputs": [
    {
     "data": {
      "text/plain": [
       "{'source': None,\n",
       " 'seed': 0,\n",
       " 'config': {'decennial_census': {'row_noise': {'do_not_respond': {'row_probability': 0.0145},\n",
       "    'omit_row': {'row_probability': 0.0},\n",
       "    'duplicate_with_guardian': {'row_probability_in_households_under_18': 0.02,\n",
       "     'row_probability_in_college_group_quarters_under_24': 0.05}},\n",
       "   'column_noise': {'first_name': {'leave_blank': {'cell_probability': 0.01},\n",
       "     'use_nickname': {'cell_probability': 0.01},\n",
       "     'use_fake_name': {'cell_probability': 0.01},\n",
       "     'make_phonetic_errors': {'cell_probability': 0.01,\n",
       "      'token_probability': 0.1},\n",
       "     'make_ocr_errors': {'cell_probability': 0.01, 'token_probability': 0.1},\n",
       "     'make_typos': {'cell_probability': 0.1, 'token_probability': 0.1}},\n",
       "    'middle_initial': {'leave_blank': {'cell_probability': 0.01},\n",
       "     'make_phonetic_errors': {'cell_probability': 0.01,\n",
       "      'token_probability': 0.1},\n",
       "     'make_ocr_errors': {'cell_probability': 0.01, 'token_probability': 0.1},\n",
       "     'make_typos': {'cell_probability': 0.05, 'token_probability': 1}},\n",
       "    'last_name': {'leave_blank': {'cell_probability': 0.01},\n",
       "     'use_fake_name': {'cell_probability': 0.01},\n",
       "     'make_phonetic_errors': {'cell_probability': 0.01,\n",
       "      'token_probability': 0.1},\n",
       "     'make_ocr_errors': {'cell_probability': 0.01, 'token_probability': 0.1},\n",
       "     'make_typos': {'cell_probability': 0.1, 'token_probability': 0.1}},\n",
       "    'age': {'leave_blank': {'cell_probability': 0.01},\n",
       "     'copy_from_household_member': {'cell_probability': 0.01},\n",
       "     'misreport_age': {'cell_probability': 0.01,\n",
       "      'possible_age_differences': {-2: 0.1, -1: 0.4, 1: 0.4, 2: 0.1}},\n",
       "     'make_ocr_errors': {'cell_probability': 0.01, 'token_probability': 0.1},\n",
       "     'make_typos': {'cell_probability': 0.01, 'token_probability': 0.1},\n",
       "     'write_wrong_digits': {'cell_probability': 0.1,\n",
       "      'token_probability': 0.1}},\n",
       "    'date_of_birth': {'leave_blank': {'cell_probability': 0.01},\n",
       "     'copy_from_household_member': {'cell_probability': 0.01},\n",
       "     'swap_month_and_day': {'cell_probability': 0.01},\n",
       "     'write_wrong_digits': {'cell_probability': 0.1, 'token_probability': 0.1},\n",
       "     'make_ocr_errors': {'cell_probability': 0.01, 'token_probability': 0.1},\n",
       "     'make_typos': {'cell_probability': 0.01, 'token_probability': 0.1}},\n",
       "    'street_number': {'leave_blank': {'cell_probability': 0.01},\n",
       "     'write_wrong_digits': {'cell_probability': 0.1, 'token_probability': 0.1},\n",
       "     'make_ocr_errors': {'cell_probability': 0.01, 'token_probability': 0.1},\n",
       "     'make_typos': {'cell_probability': 0.01, 'token_probability': 0.1}},\n",
       "    'street_name': {'leave_blank': {'cell_probability': 0.01},\n",
       "     'make_phonetic_errors': {'cell_probability': 0.01,\n",
       "      'token_probability': 0.1},\n",
       "     'make_ocr_errors': {'cell_probability': 0.01, 'token_probability': 0.1},\n",
       "     'make_typos': {'cell_probability': 0.1, 'token_probability': 0.1}},\n",
       "    'unit_number': {'leave_blank': {'cell_probability': 0.01},\n",
       "     'write_wrong_digits': {'cell_probability': 0.1, 'token_probability': 0.1},\n",
       "     'make_ocr_errors': {'cell_probability': 0.01, 'token_probability': 0.1},\n",
       "     'make_typos': {'cell_probability': 0.01, 'token_probability': 0.1}},\n",
       "    'city': {'leave_blank': {'cell_probability': 0.01},\n",
       "     'make_phonetic_errors': {'cell_probability': 0.01,\n",
       "      'token_probability': 0.1},\n",
       "     'make_ocr_errors': {'cell_probability': 0.01, 'token_probability': 0.1},\n",
       "     'make_typos': {'cell_probability': 0.01, 'token_probability': 0.1}},\n",
       "    'state': {'leave_blank': {'cell_probability': 0.01},\n",
       "     'choose_wrong_option': {'cell_probability': 0.01}},\n",
       "    'zipcode': {'leave_blank': {'cell_probability': 0.01},\n",
       "     'write_wrong_zipcode_digits': {'cell_probability': 0.01,\n",
       "      'digit_probabilities': [0.04, 0.04, 0.2, 0.36, 0.36]},\n",
       "     'make_ocr_errors': {'cell_probability': 0.01, 'token_probability': 0.1},\n",
       "     'make_typos': {'cell_probability': 0.01, 'token_probability': 0.1}},\n",
       "    'housing_type': {'leave_blank': {'cell_probability': 0.01},\n",
       "     'choose_wrong_option': {'cell_probability': 0.01}},\n",
       "    'relationship_to_reference_person': {'leave_blank': {'cell_probability': 0.01},\n",
       "     'choose_wrong_option': {'cell_probability': 0.01}},\n",
       "    'sex': {'leave_blank': {'cell_probability': 0.01},\n",
       "     'choose_wrong_option': {'cell_probability': 0.01}},\n",
       "    'race_ethnicity': {'leave_blank': {'cell_probability': 0.01},\n",
       "     'choose_wrong_option': {'cell_probability': 0.01}}}},\n",
       "  'american_community_survey': {'row_noise': {'do_not_respond': {'row_probability': 0.0145},\n",
       "    'omit_row': {'row_probability': 0.0}},\n",
       "   'column_noise': {'first_name': {'leave_blank': {'cell_probability': 0.01},\n",
       "     'use_nickname': {'cell_probability': 0.01},\n",
       "     'use_fake_name': {'cell_probability': 0.01},\n",
       "     'make_phonetic_errors': {'cell_probability': 0.01,\n",
       "      'token_probability': 0.1},\n",
       "     'make_ocr_errors': {'cell_probability': 0.01, 'token_probability': 0.1},\n",
       "     'make_typos': {'cell_probability': 0.01, 'token_probability': 0.1}},\n",
       "    'middle_initial': {'leave_blank': {'cell_probability': 0.01},\n",
       "     'make_phonetic_errors': {'cell_probability': 0.01,\n",
       "      'token_probability': 0.1},\n",
       "     'make_ocr_errors': {'cell_probability': 0.01, 'token_probability': 0.1},\n",
       "     'make_typos': {'cell_probability': 0.01, 'token_probability': 0.1}},\n",
       "    'last_name': {'leave_blank': {'cell_probability': 0.01},\n",
       "     'use_fake_name': {'cell_probability': 0.01},\n",
       "     'make_phonetic_errors': {'cell_probability': 0.01,\n",
       "      'token_probability': 0.1},\n",
       "     'make_ocr_errors': {'cell_probability': 0.01, 'token_probability': 0.1},\n",
       "     'make_typos': {'cell_probability': 0.01, 'token_probability': 0.1}},\n",
       "    'age': {'leave_blank': {'cell_probability': 0.01},\n",
       "     'copy_from_household_member': {'cell_probability': 0.01},\n",
       "     'misreport_age': {'cell_probability': 0.01,\n",
       "      'possible_age_differences': {-2: 0.1, -1: 0.4, 1: 0.4, 2: 0.1}},\n",
       "     'make_ocr_errors': {'cell_probability': 0.01, 'token_probability': 0.1},\n",
       "     'make_typos': {'cell_probability': 0.01, 'token_probability': 0.1},\n",
       "     'write_wrong_digits': {'cell_probability': 0.01,\n",
       "      'token_probability': 0.1}},\n",
       "    'date_of_birth': {'leave_blank': {'cell_probability': 0.01},\n",
       "     'copy_from_household_member': {'cell_probability': 0.01},\n",
       "     'swap_month_and_day': {'cell_probability': 0.01},\n",
       "     'write_wrong_digits': {'cell_probability': 0.01,\n",
       "      'token_probability': 0.1},\n",
       "     'make_ocr_errors': {'cell_probability': 0.01, 'token_probability': 0.1},\n",
       "     'make_typos': {'cell_probability': 0.01, 'token_probability': 0.1}},\n",
       "    'street_number': {'leave_blank': {'cell_probability': 0.01},\n",
       "     'write_wrong_digits': {'cell_probability': 0.01,\n",
       "      'token_probability': 0.1},\n",
       "     'make_ocr_errors': {'cell_probability': 0.01, 'token_probability': 0.1},\n",
       "     'make_typos': {'cell_probability': 0.01, 'token_probability': 0.1}},\n",
       "    'street_name': {'leave_blank': {'cell_probability': 0.01},\n",
       "     'make_phonetic_errors': {'cell_probability': 0.01,\n",
       "      'token_probability': 0.1},\n",
       "     'make_ocr_errors': {'cell_probability': 0.01, 'token_probability': 0.1},\n",
       "     'make_typos': {'cell_probability': 0.01, 'token_probability': 0.1}},\n",
       "    'unit_number': {'leave_blank': {'cell_probability': 0.01},\n",
       "     'write_wrong_digits': {'cell_probability': 0.01,\n",
       "      'token_probability': 0.1},\n",
       "     'make_ocr_errors': {'cell_probability': 0.01, 'token_probability': 0.1},\n",
       "     'make_typos': {'cell_probability': 0.01, 'token_probability': 0.1}},\n",
       "    'city': {'leave_blank': {'cell_probability': 0.01},\n",
       "     'make_phonetic_errors': {'cell_probability': 0.01,\n",
       "      'token_probability': 0.1},\n",
       "     'make_ocr_errors': {'cell_probability': 0.01, 'token_probability': 0.1},\n",
       "     'make_typos': {'cell_probability': 0.01, 'token_probability': 0.1}},\n",
       "    'state': {'leave_blank': {'cell_probability': 0.01},\n",
       "     'choose_wrong_option': {'cell_probability': 0.01}},\n",
       "    'zipcode': {'leave_blank': {'cell_probability': 0.01},\n",
       "     'write_wrong_zipcode_digits': {'cell_probability': 0.01,\n",
       "      'digit_probabilities': [0.04, 0.04, 0.2, 0.36, 0.36]},\n",
       "     'make_ocr_errors': {'cell_probability': 0.01, 'token_probability': 0.1},\n",
       "     'make_typos': {'cell_probability': 0.01, 'token_probability': 0.1}},\n",
       "    'housing_type': {'leave_blank': {'cell_probability': 0.01},\n",
       "     'choose_wrong_option': {'cell_probability': 0.01}},\n",
       "    'relationship_to_reference_person': {'leave_blank': {'cell_probability': 0.01},\n",
       "     'choose_wrong_option': {'cell_probability': 0.01}},\n",
       "    'sex': {'leave_blank': {'cell_probability': 0.01},\n",
       "     'choose_wrong_option': {'cell_probability': 0.01}},\n",
       "    'race_ethnicity': {'leave_blank': {'cell_probability': 0.01},\n",
       "     'choose_wrong_option': {'cell_probability': 0.01}}}},\n",
       "  'current_population_survey': {'row_noise': {'do_not_respond': {'row_probability': 0.2905},\n",
       "    'omit_row': {'row_probability': 0.0}},\n",
       "   'column_noise': {'first_name': {'leave_blank': {'cell_probability': 0.01},\n",
       "     'use_nickname': {'cell_probability': 0.01},\n",
       "     'use_fake_name': {'cell_probability': 0.01},\n",
       "     'make_phonetic_errors': {'cell_probability': 0.01,\n",
       "      'token_probability': 0.1},\n",
       "     'make_ocr_errors': {'cell_probability': 0.01, 'token_probability': 0.1},\n",
       "     'make_typos': {'cell_probability': 0.01, 'token_probability': 0.1}},\n",
       "    'middle_initial': {'leave_blank': {'cell_probability': 0.01},\n",
       "     'make_phonetic_errors': {'cell_probability': 0.01,\n",
       "      'token_probability': 0.1},\n",
       "     'make_ocr_errors': {'cell_probability': 0.01, 'token_probability': 0.1},\n",
       "     'make_typos': {'cell_probability': 0.01, 'token_probability': 0.1}},\n",
       "    'last_name': {'leave_blank': {'cell_probability': 0.01},\n",
       "     'use_fake_name': {'cell_probability': 0.01},\n",
       "     'make_phonetic_errors': {'cell_probability': 0.01,\n",
       "      'token_probability': 0.1},\n",
       "     'make_ocr_errors': {'cell_probability': 0.01, 'token_probability': 0.1},\n",
       "     'make_typos': {'cell_probability': 0.01, 'token_probability': 0.1}},\n",
       "    'age': {'leave_blank': {'cell_probability': 0.01},\n",
       "     'copy_from_household_member': {'cell_probability': 0.01},\n",
       "     'misreport_age': {'cell_probability': 0.01,\n",
       "      'possible_age_differences': {-2: 0.1, -1: 0.4, 1: 0.4, 2: 0.1}},\n",
       "     'make_ocr_errors': {'cell_probability': 0.01, 'token_probability': 0.1},\n",
       "     'make_typos': {'cell_probability': 0.01, 'token_probability': 0.1},\n",
       "     'write_wrong_digits': {'cell_probability': 0.01,\n",
       "      'token_probability': 0.1}},\n",
       "    'date_of_birth': {'leave_blank': {'cell_probability': 0.01},\n",
       "     'copy_from_household_member': {'cell_probability': 0.01},\n",
       "     'swap_month_and_day': {'cell_probability': 0.01},\n",
       "     'write_wrong_digits': {'cell_probability': 0.01,\n",
       "      'token_probability': 0.1},\n",
       "     'make_ocr_errors': {'cell_probability': 0.01, 'token_probability': 0.1},\n",
       "     'make_typos': {'cell_probability': 0.01, 'token_probability': 0.1}},\n",
       "    'street_number': {'leave_blank': {'cell_probability': 0.01},\n",
       "     'write_wrong_digits': {'cell_probability': 0.01,\n",
       "      'token_probability': 0.1},\n",
       "     'make_ocr_errors': {'cell_probability': 0.01, 'token_probability': 0.1},\n",
       "     'make_typos': {'cell_probability': 0.01, 'token_probability': 0.1}},\n",
       "    'street_name': {'leave_blank': {'cell_probability': 0.01},\n",
       "     'make_phonetic_errors': {'cell_probability': 0.01,\n",
       "      'token_probability': 0.1},\n",
       "     'make_ocr_errors': {'cell_probability': 0.01, 'token_probability': 0.1},\n",
       "     'make_typos': {'cell_probability': 0.01, 'token_probability': 0.1}},\n",
       "    'unit_number': {'leave_blank': {'cell_probability': 0.01},\n",
       "     'write_wrong_digits': {'cell_probability': 0.01,\n",
       "      'token_probability': 0.1},\n",
       "     'make_ocr_errors': {'cell_probability': 0.01, 'token_probability': 0.1},\n",
       "     'make_typos': {'cell_probability': 0.01, 'token_probability': 0.1}},\n",
       "    'city': {'leave_blank': {'cell_probability': 0.01},\n",
       "     'make_phonetic_errors': {'cell_probability': 0.01,\n",
       "      'token_probability': 0.1},\n",
       "     'make_ocr_errors': {'cell_probability': 0.01, 'token_probability': 0.1},\n",
       "     'make_typos': {'cell_probability': 0.01, 'token_probability': 0.1}},\n",
       "    'state': {'leave_blank': {'cell_probability': 0.01},\n",
       "     'choose_wrong_option': {'cell_probability': 0.01}},\n",
       "    'zipcode': {'leave_blank': {'cell_probability': 0.01},\n",
       "     'write_wrong_zipcode_digits': {'cell_probability': 0.01,\n",
       "      'digit_probabilities': [0.04, 0.04, 0.2, 0.36, 0.36]},\n",
       "     'make_ocr_errors': {'cell_probability': 0.01, 'token_probability': 0.1},\n",
       "     'make_typos': {'cell_probability': 0.01, 'token_probability': 0.1}},\n",
       "    'sex': {'leave_blank': {'cell_probability': 0.01},\n",
       "     'choose_wrong_option': {'cell_probability': 0.01}},\n",
       "    'race_ethnicity': {'leave_blank': {'cell_probability': 0.01},\n",
       "     'choose_wrong_option': {'cell_probability': 0.01}}}},\n",
       "  'women_infants_and_children': {'row_noise': {'omit_row': {'row_probability': 0.005}},\n",
       "   'column_noise': {'first_name': {'leave_blank': {'cell_probability': 0.01},\n",
       "     'use_nickname': {'cell_probability': 0.01},\n",
       "     'use_fake_name': {'cell_probability': 0.01},\n",
       "     'make_phonetic_errors': {'cell_probability': 0.01,\n",
       "      'token_probability': 0.1},\n",
       "     'make_ocr_errors': {'cell_probability': 0.01, 'token_probability': 0.1},\n",
       "     'make_typos': {'cell_probability': 0.01, 'token_probability': 0.1}},\n",
       "    'middle_initial': {'leave_blank': {'cell_probability': 0.01},\n",
       "     'make_phonetic_errors': {'cell_probability': 0.01,\n",
       "      'token_probability': 0.1},\n",
       "     'make_ocr_errors': {'cell_probability': 0.01, 'token_probability': 0.1},\n",
       "     'make_typos': {'cell_probability': 0.01, 'token_probability': 0.1}},\n",
       "    'last_name': {'leave_blank': {'cell_probability': 0.01},\n",
       "     'use_fake_name': {'cell_probability': 0.01},\n",
       "     'make_phonetic_errors': {'cell_probability': 0.01,\n",
       "      'token_probability': 0.1},\n",
       "     'make_ocr_errors': {'cell_probability': 0.01, 'token_probability': 0.1},\n",
       "     'make_typos': {'cell_probability': 0.01, 'token_probability': 0.1}},\n",
       "    'date_of_birth': {'leave_blank': {'cell_probability': 0.01},\n",
       "     'copy_from_household_member': {'cell_probability': 0.01},\n",
       "     'swap_month_and_day': {'cell_probability': 0.01},\n",
       "     'write_wrong_digits': {'cell_probability': 0.01,\n",
       "      'token_probability': 0.1},\n",
       "     'make_ocr_errors': {'cell_probability': 0.01, 'token_probability': 0.1},\n",
       "     'make_typos': {'cell_probability': 0.01, 'token_probability': 0.1}},\n",
       "    'street_number': {'leave_blank': {'cell_probability': 0.01},\n",
       "     'write_wrong_digits': {'cell_probability': 0.01,\n",
       "      'token_probability': 0.1},\n",
       "     'make_ocr_errors': {'cell_probability': 0.01, 'token_probability': 0.1},\n",
       "     'make_typos': {'cell_probability': 0.01, 'token_probability': 0.1}},\n",
       "    'street_name': {'leave_blank': {'cell_probability': 0.01},\n",
       "     'make_phonetic_errors': {'cell_probability': 0.01,\n",
       "      'token_probability': 0.1},\n",
       "     'make_ocr_errors': {'cell_probability': 0.01, 'token_probability': 0.1},\n",
       "     'make_typos': {'cell_probability': 0.01, 'token_probability': 0.1}},\n",
       "    'unit_number': {'leave_blank': {'cell_probability': 0.01},\n",
       "     'write_wrong_digits': {'cell_probability': 0.01,\n",
       "      'token_probability': 0.1},\n",
       "     'make_ocr_errors': {'cell_probability': 0.01, 'token_probability': 0.1},\n",
       "     'make_typos': {'cell_probability': 0.01, 'token_probability': 0.1}},\n",
       "    'city': {'leave_blank': {'cell_probability': 0.01},\n",
       "     'make_phonetic_errors': {'cell_probability': 0.01,\n",
       "      'token_probability': 0.1},\n",
       "     'make_ocr_errors': {'cell_probability': 0.01, 'token_probability': 0.1},\n",
       "     'make_typos': {'cell_probability': 0.01, 'token_probability': 0.1}},\n",
       "    'state': {'leave_blank': {'cell_probability': 0.01},\n",
       "     'choose_wrong_option': {'cell_probability': 0.01}},\n",
       "    'zipcode': {'leave_blank': {'cell_probability': 0.01},\n",
       "     'write_wrong_zipcode_digits': {'cell_probability': 0.01,\n",
       "      'digit_probabilities': [0.04, 0.04, 0.2, 0.36, 0.36]},\n",
       "     'make_ocr_errors': {'cell_probability': 0.01, 'token_probability': 0.1},\n",
       "     'make_typos': {'cell_probability': 0.01, 'token_probability': 0.1}},\n",
       "    'sex': {'leave_blank': {'cell_probability': 0.01},\n",
       "     'choose_wrong_option': {'cell_probability': 0.01}},\n",
       "    'race_ethnicity': {'leave_blank': {'cell_probability': 0.01},\n",
       "     'choose_wrong_option': {'cell_probability': 0.01}}}},\n",
       "  'social_security': {'row_noise': {'omit_row': {'row_probability': 0.0}},\n",
       "   'column_noise': {'ssn': {'leave_blank': {'cell_probability': 0.0},\n",
       "     'copy_from_household_member': {'cell_probability': 0.0},\n",
       "     'write_wrong_digits': {'cell_probability': 0.0, 'token_probability': 0.1},\n",
       "     'make_ocr_errors': {'cell_probability': 0.0, 'token_probability': 0.1},\n",
       "     'make_typos': {'cell_probability': 0.0, 'token_probability': 0.1}},\n",
       "    'first_name': {'leave_blank': {'cell_probability': 0.01},\n",
       "     'use_nickname': {'cell_probability': 0.01},\n",
       "     'use_fake_name': {'cell_probability': 0.01},\n",
       "     'make_phonetic_errors': {'cell_probability': 0.01,\n",
       "      'token_probability': 0.1},\n",
       "     'make_ocr_errors': {'cell_probability': 0.01, 'token_probability': 0.1},\n",
       "     'make_typos': {'cell_probability': 0.1, 'token_probability': 0.1}},\n",
       "    'middle_name': {'leave_blank': {'cell_probability': 0.01},\n",
       "     'use_nickname': {'cell_probability': 0.01},\n",
       "     'use_fake_name': {'cell_probability': 0.01},\n",
       "     'make_phonetic_errors': {'cell_probability': 0.01,\n",
       "      'token_probability': 0.1},\n",
       "     'make_ocr_errors': {'cell_probability': 0.01, 'token_probability': 0.1},\n",
       "     'make_typos': {'cell_probability': 0.01, 'token_probability': 0.1}},\n",
       "    'last_name': {'leave_blank': {'cell_probability': 0.01},\n",
       "     'use_fake_name': {'cell_probability': 0.01},\n",
       "     'make_phonetic_errors': {'cell_probability': 0.01,\n",
       "      'token_probability': 0.1},\n",
       "     'make_ocr_errors': {'cell_probability': 0.01, 'token_probability': 0.1},\n",
       "     'make_typos': {'cell_probability': 0.1, 'token_probability': 0.1}},\n",
       "    'date_of_birth': {'leave_blank': {'cell_probability': 0.01},\n",
       "     'copy_from_household_member': {'cell_probability': 0.01},\n",
       "     'swap_month_and_day': {'cell_probability': 0.01},\n",
       "     'write_wrong_digits': {'cell_probability': 0.1, 'token_probability': 0.1},\n",
       "     'make_ocr_errors': {'cell_probability': 0.01, 'token_probability': 0.1},\n",
       "     'make_typos': {'cell_probability': 0.01, 'token_probability': 0.1}},\n",
       "    'sex': {'leave_blank': {'cell_probability': 0.01},\n",
       "     'choose_wrong_option': {'cell_probability': 0.01}},\n",
       "    'event_type': {'leave_blank': {'cell_probability': 0.01},\n",
       "     'choose_wrong_option': {'cell_probability': 0.01}},\n",
       "    'event_date': {'leave_blank': {'cell_probability': 0.01},\n",
       "     'swap_month_and_day': {'cell_probability': 0.01},\n",
       "     'write_wrong_digits': {'cell_probability': 0.1, 'token_probability': 0.1},\n",
       "     'make_ocr_errors': {'cell_probability': 0.01, 'token_probability': 0.1},\n",
       "     'make_typos': {'cell_probability': 0.01, 'token_probability': 0.1}}}},\n",
       "  'taxes_w2_and_1099': {'row_noise': {'omit_row': {'row_probability': 0.005}},\n",
       "   'column_noise': {'ssn': {'leave_blank': {'cell_probability': 0.01},\n",
       "     'copy_from_household_member': {'cell_probability': 0.0},\n",
       "     'write_wrong_digits': {'cell_probability': 0.1, 'token_probability': 0.1},\n",
       "     'make_ocr_errors': {'cell_probability': 0.01, 'token_probability': 0.1},\n",
       "     'make_typos': {'cell_probability': 0.01, 'token_probability': 0.1}},\n",
       "    'wages': {'leave_blank': {'cell_probability': 0.01},\n",
       "     'write_wrong_digits': {'cell_probability': 0.1, 'token_probability': 0.1},\n",
       "     'make_ocr_errors': {'cell_probability': 0.01, 'token_probability': 0.1},\n",
       "     'make_typos': {'cell_probability': 0.01, 'token_probability': 0.1}},\n",
       "    'employer_name': {'leave_blank': {'cell_probability': 0.01},\n",
       "     'make_ocr_errors': {'cell_probability': 0.01, 'token_probability': 0.1},\n",
       "     'make_typos': {'cell_probability': 0.01, 'token_probability': 0.1}},\n",
       "    'employer_street_number': {'leave_blank': {'cell_probability': 0.01},\n",
       "     'write_wrong_digits': {'cell_probability': 0.1, 'token_probability': 0.1},\n",
       "     'make_ocr_errors': {'cell_probability': 0.01, 'token_probability': 0.1},\n",
       "     'make_typos': {'cell_probability': 0.01, 'token_probability': 0.1}},\n",
       "    'employer_street_name': {'leave_blank': {'cell_probability': 0.01},\n",
       "     'make_phonetic_errors': {'cell_probability': 0.01,\n",
       "      'token_probability': 0.1},\n",
       "     'make_ocr_errors': {'cell_probability': 0.01, 'token_probability': 0.1},\n",
       "     'make_typos': {'cell_probability': 0.01, 'token_probability': 0.1}},\n",
       "    'employer_unit_number': {'leave_blank': {'cell_probability': 0.01},\n",
       "     'write_wrong_digits': {'cell_probability': 0.1, 'token_probability': 0.1},\n",
       "     'make_ocr_errors': {'cell_probability': 0.01, 'token_probability': 0.1},\n",
       "     'make_typos': {'cell_probability': 0.01, 'token_probability': 0.1}},\n",
       "    'employer_city': {'leave_blank': {'cell_probability': 0.01},\n",
       "     'make_phonetic_errors': {'cell_probability': 0.01,\n",
       "      'token_probability': 0.1},\n",
       "     'make_ocr_errors': {'cell_probability': 0.01, 'token_probability': 0.1},\n",
       "     'make_typos': {'cell_probability': 0.01, 'token_probability': 0.1}},\n",
       "    'employer_state': {'leave_blank': {'cell_probability': 0.01},\n",
       "     'choose_wrong_option': {'cell_probability': 0.01}},\n",
       "    'employer_zipcode': {'leave_blank': {'cell_probability': 0.01},\n",
       "     'write_wrong_zipcode_digits': {'cell_probability': 0.01,\n",
       "      'digit_probabilities': [0.04, 0.04, 0.2, 0.36, 0.36]},\n",
       "     'make_ocr_errors': {'cell_probability': 0.01, 'token_probability': 0.1},\n",
       "     'make_typos': {'cell_probability': 0.01, 'token_probability': 0.1}},\n",
       "    'first_name': {'leave_blank': {'cell_probability': 0.01},\n",
       "     'use_nickname': {'cell_probability': 0.01},\n",
       "     'use_fake_name': {'cell_probability': 0.01},\n",
       "     'make_phonetic_errors': {'cell_probability': 0.01,\n",
       "      'token_probability': 0.1},\n",
       "     'make_ocr_errors': {'cell_probability': 0.01, 'token_probability': 0.1},\n",
       "     'make_typos': {'cell_probability': 0.1, 'token_probability': 0.1}},\n",
       "    'middle_initial': {'leave_blank': {'cell_probability': 0.01},\n",
       "     'make_phonetic_errors': {'cell_probability': 0.01,\n",
       "      'token_probability': 0.1},\n",
       "     'make_ocr_errors': {'cell_probability': 0.01, 'token_probability': 0.1},\n",
       "     'make_typos': {'cell_probability': 0.05, 'token_probability': 1}},\n",
       "    'last_name': {'leave_blank': {'cell_probability': 0.01},\n",
       "     'use_fake_name': {'cell_probability': 0.01},\n",
       "     'make_phonetic_errors': {'cell_probability': 0.01,\n",
       "      'token_probability': 0.1},\n",
       "     'make_ocr_errors': {'cell_probability': 0.01, 'token_probability': 0.1},\n",
       "     'make_typos': {'cell_probability': 0.1, 'token_probability': 0.1}},\n",
       "    'mailing_address_street_number': {'leave_blank': {'cell_probability': 0.01},\n",
       "     'write_wrong_digits': {'cell_probability': 0.1, 'token_probability': 0.1},\n",
       "     'make_ocr_errors': {'cell_probability': 0.01, 'token_probability': 0.1},\n",
       "     'make_typos': {'cell_probability': 0.01, 'token_probability': 0.1}},\n",
       "    'mailing_address_street_name': {'leave_blank': {'cell_probability': 0.01},\n",
       "     'make_phonetic_errors': {'cell_probability': 0.01,\n",
       "      'token_probability': 0.1},\n",
       "     'make_ocr_errors': {'cell_probability': 0.01, 'token_probability': 0.1},\n",
       "     'make_typos': {'cell_probability': 0.01, 'token_probability': 0.1}},\n",
       "    'mailing_address_unit_number': {'leave_blank': {'cell_probability': 0.01},\n",
       "     'write_wrong_digits': {'cell_probability': 0.1, 'token_probability': 0.1},\n",
       "     'make_ocr_errors': {'cell_probability': 0.01, 'token_probability': 0.1},\n",
       "     'make_typos': {'cell_probability': 0.01, 'token_probability': 0.1}},\n",
       "    'mailing_address_po_box': {'leave_blank': {'cell_probability': 0.01},\n",
       "     'write_wrong_digits': {'cell_probability': 0.1, 'token_probability': 0.1},\n",
       "     'make_ocr_errors': {'cell_probability': 0.01, 'token_probability': 0.1},\n",
       "     'make_typos': {'cell_probability': 0.01, 'token_probability': 0.1}},\n",
       "    'mailing_address_city': {'leave_blank': {'cell_probability': 0.01},\n",
       "     'make_phonetic_errors': {'cell_probability': 0.01,\n",
       "      'token_probability': 0.1},\n",
       "     'make_ocr_errors': {'cell_probability': 0.01, 'token_probability': 0.1},\n",
       "     'make_typos': {'cell_probability': 0.01, 'token_probability': 0.1}},\n",
       "    'mailing_address_state': {'leave_blank': {'cell_probability': 0.01},\n",
       "     'choose_wrong_option': {'cell_probability': 0.01}},\n",
       "    'mailing_address_zipcode': {'leave_blank': {'cell_probability': 0.01},\n",
       "     'write_wrong_zipcode_digits': {'cell_probability': 0.01,\n",
       "      'digit_probabilities': [0.04, 0.04, 0.2, 0.36, 0.36]},\n",
       "     'make_ocr_errors': {'cell_probability': 0.01, 'token_probability': 0.1},\n",
       "     'make_typos': {'cell_probability': 0.01, 'token_probability': 0.1}},\n",
       "    'tax_form': {'leave_blank': {'cell_probability': 0.01},\n",
       "     'choose_wrong_option': {'cell_probability': 0.01}}}},\n",
       "  'taxes_1040': {'row_noise': {'omit_row': {'row_probability': 0.0}},\n",
       "   'column_noise': {'first_name': {'leave_blank': {'cell_probability': 0.01},\n",
       "     'use_nickname': {'cell_probability': 0.01},\n",
       "     'use_fake_name': {'cell_probability': 0.01},\n",
       "     'make_phonetic_errors': {'cell_probability': 0.01,\n",
       "      'token_probability': 0.1},\n",
       "     'make_ocr_errors': {'cell_probability': 0.01, 'token_probability': 0.1},\n",
       "     'make_typos': {'cell_probability': 0.01, 'token_probability': 0.1}},\n",
       "    'middle_initial': {'leave_blank': {'cell_probability': 0.01},\n",
       "     'make_phonetic_errors': {'cell_probability': 0.01,\n",
       "      'token_probability': 0.1},\n",
       "     'make_ocr_errors': {'cell_probability': 0.01, 'token_probability': 0.1},\n",
       "     'make_typos': {'cell_probability': 0.01, 'token_probability': 0.1}},\n",
       "    'last_name': {'leave_blank': {'cell_probability': 0.01},\n",
       "     'use_fake_name': {'cell_probability': 0.01},\n",
       "     'make_phonetic_errors': {'cell_probability': 0.01,\n",
       "      'token_probability': 0.1},\n",
       "     'make_ocr_errors': {'cell_probability': 0.01, 'token_probability': 0.1},\n",
       "     'make_typos': {'cell_probability': 0.01, 'token_probability': 0.1}},\n",
       "    'ssn': {'leave_blank': {'cell_probability': 0.01},\n",
       "     'copy_from_household_member': {'cell_probability': 0.01},\n",
       "     'write_wrong_digits': {'cell_probability': 0.01,\n",
       "      'token_probability': 0.1},\n",
       "     'make_ocr_errors': {'cell_probability': 0.01, 'token_probability': 0.1},\n",
       "     'make_typos': {'cell_probability': 0.01, 'token_probability': 0.1}},\n",
       "    'mailing_address_street_number': {'leave_blank': {'cell_probability': 0.01},\n",
       "     'write_wrong_digits': {'cell_probability': 0.01,\n",
       "      'token_probability': 0.1},\n",
       "     'make_ocr_errors': {'cell_probability': 0.01, 'token_probability': 0.1},\n",
       "     'make_typos': {'cell_probability': 0.01, 'token_probability': 0.1}},\n",
       "    'mailing_address_street_name': {'leave_blank': {'cell_probability': 0.01},\n",
       "     'make_phonetic_errors': {'cell_probability': 0.01,\n",
       "      'token_probability': 0.1},\n",
       "     'make_ocr_errors': {'cell_probability': 0.01, 'token_probability': 0.1},\n",
       "     'make_typos': {'cell_probability': 0.01, 'token_probability': 0.1}},\n",
       "    'mailing_address_unit_number': {'leave_blank': {'cell_probability': 0.01},\n",
       "     'write_wrong_digits': {'cell_probability': 0.01,\n",
       "      'token_probability': 0.1},\n",
       "     'make_ocr_errors': {'cell_probability': 0.01, 'token_probability': 0.1},\n",
       "     'make_typos': {'cell_probability': 0.01, 'token_probability': 0.1}},\n",
       "    'mailing_address_po_box': {'leave_blank': {'cell_probability': 0.01},\n",
       "     'write_wrong_digits': {'cell_probability': 0.01,\n",
       "      'token_probability': 0.1},\n",
       "     'make_ocr_errors': {'cell_probability': 0.01, 'token_probability': 0.1},\n",
       "     'make_typos': {'cell_probability': 0.01, 'token_probability': 0.1}},\n",
       "    'mailing_address_city': {'leave_blank': {'cell_probability': 0.01},\n",
       "     'make_phonetic_errors': {'cell_probability': 0.01,\n",
       "      'token_probability': 0.1},\n",
       "     'make_ocr_errors': {'cell_probability': 0.01, 'token_probability': 0.1},\n",
       "     'make_typos': {'cell_probability': 0.01, 'token_probability': 0.1}},\n",
       "    'mailing_address_state': {'leave_blank': {'cell_probability': 0.01},\n",
       "     'choose_wrong_option': {'cell_probability': 0.01}},\n",
       "    'mailing_address_zipcode': {'leave_blank': {'cell_probability': 0.01},\n",
       "     'write_wrong_zipcode_digits': {'cell_probability': 0.01,\n",
       "      'digit_probabilities': [0.04, 0.04, 0.2, 0.36, 0.36]},\n",
       "     'make_ocr_errors': {'cell_probability': 0.01, 'token_probability': 0.1},\n",
       "     'make_typos': {'cell_probability': 0.01, 'token_probability': 0.1}},\n",
       "    'spouse_first_name': {'leave_blank': {'cell_probability': 0.01},\n",
       "     'use_nickname': {'cell_probability': 0.01},\n",
       "     'use_fake_name': {'cell_probability': 0.01},\n",
       "     'make_phonetic_errors': {'cell_probability': 0.01,\n",
       "      'token_probability': 0.1},\n",
       "     'make_ocr_errors': {'cell_probability': 0.01, 'token_probability': 0.1},\n",
       "     'make_typos': {'cell_probability': 0.01, 'token_probability': 0.1}},\n",
       "    'spouse_middle_initial': {'leave_blank': {'cell_probability': 0.01},\n",
       "     'make_phonetic_errors': {'cell_probability': 0.01,\n",
       "      'token_probability': 0.1},\n",
       "     'make_ocr_errors': {'cell_probability': 0.01, 'token_probability': 0.1},\n",
       "     'make_typos': {'cell_probability': 0.01, 'token_probability': 0.1}},\n",
       "    'spouse_last_name': {'leave_blank': {'cell_probability': 0.01},\n",
       "     'use_fake_name': {'cell_probability': 0.01},\n",
       "     'make_phonetic_errors': {'cell_probability': 0.01,\n",
       "      'token_probability': 0.1},\n",
       "     'make_ocr_errors': {'cell_probability': 0.01, 'token_probability': 0.1},\n",
       "     'make_typos': {'cell_probability': 0.01, 'token_probability': 0.1}},\n",
       "    'spouse_ssn': {'leave_blank': {'cell_probability': 0.01},\n",
       "     'copy_from_household_member': {'cell_probability': 0.01},\n",
       "     'write_wrong_digits': {'cell_probability': 0.01,\n",
       "      'token_probability': 0.1},\n",
       "     'make_ocr_errors': {'cell_probability': 0.01, 'token_probability': 0.1},\n",
       "     'make_typos': {'cell_probability': 0.01, 'token_probability': 0.1}},\n",
       "    'dependent_1_first_name': {'leave_blank': {'cell_probability': 0.01},\n",
       "     'use_nickname': {'cell_probability': 0.01},\n",
       "     'use_fake_name': {'cell_probability': 0.01},\n",
       "     'make_phonetic_errors': {'cell_probability': 0.01,\n",
       "      'token_probability': 0.1},\n",
       "     'make_ocr_errors': {'cell_probability': 0.01, 'token_probability': 0.1},\n",
       "     'make_typos': {'cell_probability': 0.01, 'token_probability': 0.1}},\n",
       "    'dependent_1_last_name': {'leave_blank': {'cell_probability': 0.01},\n",
       "     'use_fake_name': {'cell_probability': 0.01},\n",
       "     'make_phonetic_errors': {'cell_probability': 0.01,\n",
       "      'token_probability': 0.1},\n",
       "     'make_ocr_errors': {'cell_probability': 0.01, 'token_probability': 0.1},\n",
       "     'make_typos': {'cell_probability': 0.01, 'token_probability': 0.1}},\n",
       "    'dependent_1_ssn': {'leave_blank': {'cell_probability': 0.01},\n",
       "     'copy_from_household_member': {'cell_probability': 0.01},\n",
       "     'write_wrong_digits': {'cell_probability': 0.01,\n",
       "      'token_probability': 0.1},\n",
       "     'make_ocr_errors': {'cell_probability': 0.01, 'token_probability': 0.1},\n",
       "     'make_typos': {'cell_probability': 0.01, 'token_probability': 0.1}},\n",
       "    'dependent_2_first_name': {'leave_blank': {'cell_probability': 0.01},\n",
       "     'use_nickname': {'cell_probability': 0.01},\n",
       "     'use_fake_name': {'cell_probability': 0.01},\n",
       "     'make_phonetic_errors': {'cell_probability': 0.01,\n",
       "      'token_probability': 0.1},\n",
       "     'make_ocr_errors': {'cell_probability': 0.01, 'token_probability': 0.1},\n",
       "     'make_typos': {'cell_probability': 0.01, 'token_probability': 0.1}},\n",
       "    'dependent_2_last_name': {'leave_blank': {'cell_probability': 0.01},\n",
       "     'use_fake_name': {'cell_probability': 0.01},\n",
       "     'make_phonetic_errors': {'cell_probability': 0.01,\n",
       "      'token_probability': 0.1},\n",
       "     'make_ocr_errors': {'cell_probability': 0.01, 'token_probability': 0.1},\n",
       "     'make_typos': {'cell_probability': 0.01, 'token_probability': 0.1}},\n",
       "    'dependent_2_ssn': {'leave_blank': {'cell_probability': 0.01},\n",
       "     'copy_from_household_member': {'cell_probability': 0.01},\n",
       "     'write_wrong_digits': {'cell_probability': 0.01,\n",
       "      'token_probability': 0.1},\n",
       "     'make_ocr_errors': {'cell_probability': 0.01, 'token_probability': 0.1},\n",
       "     'make_typos': {'cell_probability': 0.01, 'token_probability': 0.1}},\n",
       "    'dependent_3_first_name': {'leave_blank': {'cell_probability': 0.01},\n",
       "     'use_nickname': {'cell_probability': 0.01},\n",
       "     'use_fake_name': {'cell_probability': 0.01},\n",
       "     'make_phonetic_errors': {'cell_probability': 0.01,\n",
       "      'token_probability': 0.1},\n",
       "     'make_ocr_errors': {'cell_probability': 0.01, 'token_probability': 0.1},\n",
       "     'make_typos': {'cell_probability': 0.01, 'token_probability': 0.1}},\n",
       "    'dependent_3_last_name': {'leave_blank': {'cell_probability': 0.01},\n",
       "     'use_fake_name': {'cell_probability': 0.01},\n",
       "     'make_phonetic_errors': {'cell_probability': 0.01,\n",
       "      'token_probability': 0.1},\n",
       "     'make_ocr_errors': {'cell_probability': 0.01, 'token_probability': 0.1},\n",
       "     'make_typos': {'cell_probability': 0.01, 'token_probability': 0.1}},\n",
       "    'dependent_3_ssn': {'leave_blank': {'cell_probability': 0.01},\n",
       "     'copy_from_household_member': {'cell_probability': 0.01},\n",
       "     'write_wrong_digits': {'cell_probability': 0.01,\n",
       "      'token_probability': 0.1},\n",
       "     'make_ocr_errors': {'cell_probability': 0.01, 'token_probability': 0.1},\n",
       "     'make_typos': {'cell_probability': 0.01, 'token_probability': 0.1}},\n",
       "    'dependent_4_first_name': {'leave_blank': {'cell_probability': 0.01},\n",
       "     'use_nickname': {'cell_probability': 0.01},\n",
       "     'use_fake_name': {'cell_probability': 0.01},\n",
       "     'make_phonetic_errors': {'cell_probability': 0.01,\n",
       "      'token_probability': 0.1},\n",
       "     'make_ocr_errors': {'cell_probability': 0.01, 'token_probability': 0.1},\n",
       "     'make_typos': {'cell_probability': 0.01, 'token_probability': 0.1}},\n",
       "    'dependent_4_last_name': {'leave_blank': {'cell_probability': 0.01},\n",
       "     'use_fake_name': {'cell_probability': 0.01},\n",
       "     'make_phonetic_errors': {'cell_probability': 0.01,\n",
       "      'token_probability': 0.1},\n",
       "     'make_ocr_errors': {'cell_probability': 0.01, 'token_probability': 0.1},\n",
       "     'make_typos': {'cell_probability': 0.01, 'token_probability': 0.1}},\n",
       "    'dependent_4_ssn': {'leave_blank': {'cell_probability': 0.01},\n",
       "     'copy_from_household_member': {'cell_probability': 0.01},\n",
       "     'write_wrong_digits': {'cell_probability': 0.01,\n",
       "      'token_probability': 0.1},\n",
       "     'make_ocr_errors': {'cell_probability': 0.01, 'token_probability': 0.1},\n",
       "     'make_typos': {'cell_probability': 0.01, 'token_probability': 0.1}}}}}}"
      ]
     },
     "execution_count": 19,
     "metadata": {},
     "output_type": "execute_result"
    }
   ],
   "source": [
    "psp_kwargs"
   ]
  },
  {
   "cell_type": "code",
   "execution_count": 20,
   "id": "1b9a92b7-bdaf-454d-8ad4-97db95d6b461",
   "metadata": {
    "execution": {
     "iopub.execute_input": "2024-06-01T00:27:43.981512Z",
     "iopub.status.busy": "2024-06-01T00:27:43.980360Z",
     "iopub.status.idle": "2024-06-01T00:27:51.887576Z",
     "shell.execute_reply": "2024-06-01T00:27:51.886435Z"
    },
    "papermill": {
     "duration": 7.920541,
     "end_time": "2024-06-01T00:27:51.891516",
     "exception": false,
     "start_time": "2024-06-01T00:27:43.970975",
     "status": "completed"
    },
    "tags": []
   },
   "outputs": [
    {
     "name": "stdout",
     "output_type": "stream",
     "text": [
      "2025\n",
      "\u001b[32m2024-05-31 17:27:44.042\u001b[0m | \u001b[36mpseudopeople.configuration.validator\u001b[0m:\u001b[36mvalidate_noise_level_proportions\u001b[0m:\u001b[36m335\u001b[0m - \u001b[33m\u001b[1mThe configured 'use_nickname' noise level for column_noise 'dependent_4_first_name' is 0.01, which is higher than the maximum possible value based on the provided data for 'taxes_1040'. Noising as many rows as possible. \u001b[0m\n"
     ]
    },
    {
     "name": "stderr",
     "output_type": "stream",
     "text": [
      "\r",
      "Applying noise:   0%|                                                                                                                                                                                                       | 0/15 [00:00<?, ?type/s]"
     ]
    },
    {
     "name": "stderr",
     "output_type": "stream",
     "text": [
      "\r",
      "Applying noise:  27%|██████████████████████████████████████████████████▉                                                                                                                                            | 4/15 [00:00<00:00, 27.42type/s]"
     ]
    },
    {
     "name": "stderr",
     "output_type": "stream",
     "text": [
      "\r",
      "Applying noise:  67%|██████████████████████████████████████████████████████████████████████████████████████████████████████████████████████████████▋                                                               | 10/15 [00:00<00:00, 40.73type/s]"
     ]
    },
    {
     "name": "stderr",
     "output_type": "stream",
     "text": [
      "\r",
      "Applying noise: 100%|██████████████████████████████████████████████████████████████████████████████████████████████████████████████████████████████████████████████████████████████████████████████████████████████| 15/15 [00:01<00:00,  9.50type/s]"
     ]
    },
    {
     "name": "stderr",
     "output_type": "stream",
     "text": [
      "\r",
      "                                                                                                                                                                                                                                                     "
     ]
    },
    {
     "name": "stdout",
     "output_type": "stream",
     "text": [
      "2026\n",
      "\u001b[32m2024-05-31 17:27:45.778\u001b[0m | \u001b[36mpseudopeople.configuration.validator\u001b[0m:\u001b[36mvalidate_noise_level_proportions\u001b[0m:\u001b[36m335\u001b[0m - \u001b[33m\u001b[1mThe configured 'use_nickname' noise level for column_noise 'dependent_4_first_name' is 0.01, which is higher than the maximum possible value based on the provided data for 'taxes_1040'. Noising as many rows as possible. \u001b[0m\n"
     ]
    },
    {
     "name": "stderr",
     "output_type": "stream",
     "text": [
      "\r"
     ]
    },
    {
     "name": "stderr",
     "output_type": "stream",
     "text": [
      "\r",
      "Applying noise:   0%|                                                                                                                                                                                                       | 0/15 [00:00<?, ?type/s]"
     ]
    },
    {
     "name": "stderr",
     "output_type": "stream",
     "text": [
      "\r",
      "Applying noise:  27%|██████████████████████████████████████████████████▉                                                                                                                                            | 4/15 [00:00<00:00, 27.21type/s]"
     ]
    },
    {
     "name": "stderr",
     "output_type": "stream",
     "text": [
      "\r",
      "Applying noise:  67%|██████████████████████████████████████████████████████████████████████████████████████████████████████████████████████████████▋                                                               | 10/15 [00:00<00:00, 40.91type/s]"
     ]
    },
    {
     "name": "stderr",
     "output_type": "stream",
     "text": [
      "\r",
      "Applying noise: 100%|██████████████████████████████████████████████████████████████████████████████████████████████████████████████████████████████████████████████████████████████████████████████████████████████| 15/15 [00:01<00:00, 10.48type/s]"
     ]
    },
    {
     "name": "stderr",
     "output_type": "stream",
     "text": [
      "\r",
      "                                                                                                                                                                                                                                                     "
     ]
    },
    {
     "name": "stdout",
     "output_type": "stream",
     "text": [
      "2027\n",
      "\u001b[32m2024-05-31 17:27:47.393\u001b[0m | \u001b[36mpseudopeople.configuration.validator\u001b[0m:\u001b[36mvalidate_noise_level_proportions\u001b[0m:\u001b[36m335\u001b[0m - \u001b[33m\u001b[1mThe configured 'use_nickname' noise level for column_noise 'dependent_4_first_name' is 0.01, which is higher than the maximum possible value based on the provided data for 'taxes_1040'. Noising as many rows as possible. \u001b[0m\n"
     ]
    },
    {
     "name": "stdout",
     "output_type": "stream",
     "text": [
      "\u001b[32m2024-05-31 17:27:47.396\u001b[0m | \u001b[36mpseudopeople.configuration.validator\u001b[0m:\u001b[36mvalidate_noise_level_proportions\u001b[0m:\u001b[36m335\u001b[0m - \u001b[33m\u001b[1mThe configured 'copy_from_household_member' noise level for column_noise 'dependent_4_ssn' is 0.01, which is higher than the maximum possible value based on the provided data for 'taxes_1040'. Noising as many rows as possible. \u001b[0m\n"
     ]
    },
    {
     "name": "stderr",
     "output_type": "stream",
     "text": [
      "\r"
     ]
    },
    {
     "name": "stderr",
     "output_type": "stream",
     "text": [
      "\r",
      "Applying noise:   0%|                                                                                                                                                                                                       | 0/15 [00:00<?, ?type/s]"
     ]
    },
    {
     "name": "stderr",
     "output_type": "stream",
     "text": [
      "\r",
      "Applying noise:  27%|██████████████████████████████████████████████████▉                                                                                                                                            | 4/15 [00:00<00:00, 26.59type/s]"
     ]
    },
    {
     "name": "stderr",
     "output_type": "stream",
     "text": [
      "\r",
      "Applying noise:  67%|██████████████████████████████████████████████████████████████████████████████████████████████████████████████████████████████▋                                                               | 10/15 [00:00<00:00, 40.23type/s]"
     ]
    },
    {
     "name": "stderr",
     "output_type": "stream",
     "text": [
      "\r",
      "Applying noise: 100%|██████████████████████████████████████████████████████████████████████████████████████████████████████████████████████████████████████████████████████████████████████████████████████████████| 15/15 [00:01<00:00, 10.56type/s]"
     ]
    },
    {
     "name": "stderr",
     "output_type": "stream",
     "text": [
      "\r",
      "                                                                                                                                                                                                                                                     "
     ]
    },
    {
     "name": "stdout",
     "output_type": "stream",
     "text": [
      "2028\n",
      "\u001b[32m2024-05-31 17:27:49.005\u001b[0m | \u001b[36mpseudopeople.configuration.validator\u001b[0m:\u001b[36mvalidate_noise_level_proportions\u001b[0m:\u001b[36m335\u001b[0m - \u001b[33m\u001b[1mThe configured 'use_nickname' noise level for column_noise 'dependent_4_first_name' is 0.01, which is higher than the maximum possible value based on the provided data for 'taxes_1040'. Noising as many rows as possible. \u001b[0m\n"
     ]
    },
    {
     "name": "stdout",
     "output_type": "stream",
     "text": [
      "\u001b[32m2024-05-31 17:27:49.006\u001b[0m | \u001b[36mpseudopeople.configuration.validator\u001b[0m:\u001b[36mvalidate_noise_level_proportions\u001b[0m:\u001b[36m335\u001b[0m - \u001b[33m\u001b[1mThe configured 'copy_from_household_member' noise level for column_noise 'dependent_4_ssn' is 0.01, which is higher than the maximum possible value based on the provided data for 'taxes_1040'. Noising as many rows as possible. \u001b[0m\n"
     ]
    },
    {
     "name": "stderr",
     "output_type": "stream",
     "text": [
      "\r"
     ]
    },
    {
     "name": "stderr",
     "output_type": "stream",
     "text": [
      "\r",
      "Applying noise:   0%|                                                                                                                                                                                                       | 0/15 [00:00<?, ?type/s]"
     ]
    },
    {
     "name": "stderr",
     "output_type": "stream",
     "text": [
      "\r",
      "Applying noise:  27%|██████████████████████████████████████████████████▉                                                                                                                                            | 4/15 [00:00<00:00, 19.73type/s]"
     ]
    },
    {
     "name": "stderr",
     "output_type": "stream",
     "text": [
      "\r",
      "Applying noise:  67%|██████████████████████████████████████████████████████████████████████████████████████████████████████████████████████████████▋                                                               | 10/15 [00:00<00:00, 36.30type/s]"
     ]
    },
    {
     "name": "stderr",
     "output_type": "stream",
     "text": [
      "\r",
      "Applying noise: 100%|██████████████████████████████████████████████████████████████████████████████████████████████████████████████████████████████████████████████████████████████████████████████████████████████| 15/15 [00:01<00:00, 11.55type/s]"
     ]
    },
    {
     "name": "stderr",
     "output_type": "stream",
     "text": [
      "\r",
      "                                                                                                                                                                                                                                                     "
     ]
    },
    {
     "name": "stdout",
     "output_type": "stream",
     "text": [
      "2029\n",
      "\u001b[32m2024-05-31 17:27:50.494\u001b[0m | \u001b[36mpseudopeople.configuration.validator\u001b[0m:\u001b[36mvalidate_noise_level_proportions\u001b[0m:\u001b[36m335\u001b[0m - \u001b[33m\u001b[1mThe configured 'use_nickname' noise level for column_noise 'dependent_3_first_name' is 0.01, which is higher than the maximum possible value based on the provided data for 'taxes_1040'. Noising as many rows as possible. \u001b[0m\n"
     ]
    },
    {
     "name": "stdout",
     "output_type": "stream",
     "text": [
      "\u001b[32m2024-05-31 17:27:50.496\u001b[0m | \u001b[36mpseudopeople.configuration.validator\u001b[0m:\u001b[36mvalidate_noise_level_proportions\u001b[0m:\u001b[36m335\u001b[0m - \u001b[33m\u001b[1mThe configured 'use_nickname' noise level for column_noise 'dependent_4_first_name' is 0.01, which is higher than the maximum possible value based on the provided data for 'taxes_1040'. Noising as many rows as possible. \u001b[0m\n"
     ]
    },
    {
     "name": "stdout",
     "output_type": "stream",
     "text": [
      "\u001b[32m2024-05-31 17:27:50.497\u001b[0m | \u001b[36mpseudopeople.configuration.validator\u001b[0m:\u001b[36mvalidate_noise_level_proportions\u001b[0m:\u001b[36m335\u001b[0m - \u001b[33m\u001b[1mThe configured 'copy_from_household_member' noise level for column_noise 'dependent_4_ssn' is 0.01, which is higher than the maximum possible value based on the provided data for 'taxes_1040'. Noising as many rows as possible. \u001b[0m\n"
     ]
    },
    {
     "name": "stderr",
     "output_type": "stream",
     "text": [
      "\r"
     ]
    },
    {
     "name": "stderr",
     "output_type": "stream",
     "text": [
      "\r",
      "Applying noise:   0%|                                                                                                                                                                                                       | 0/15 [00:00<?, ?type/s]"
     ]
    },
    {
     "name": "stderr",
     "output_type": "stream",
     "text": [
      "\r",
      "Applying noise:  27%|██████████████████████████████████████████████████▉                                                                                                                                            | 4/15 [00:00<00:00, 29.37type/s]"
     ]
    },
    {
     "name": "stderr",
     "output_type": "stream",
     "text": [
      "\r",
      "Applying noise:  67%|██████████████████████████████████████████████████████████████████████████████████████████████████████████████████████████████▋                                                               | 10/15 [00:00<00:00, 44.89type/s]"
     ]
    },
    {
     "name": "stderr",
     "output_type": "stream",
     "text": [
      "\r",
      "Applying noise: 100%|██████████████████████████████████████████████████████████████████████████████████████████████████████████████████████████████████████████████████████████████████████████████████████████████| 15/15 [00:01<00:00, 11.93type/s]"
     ]
    },
    {
     "name": "stderr",
     "output_type": "stream",
     "text": [
      "\r",
      "                                                                                                                                                                                                                                                     "
     ]
    },
    {
     "name": "stdout",
     "output_type": "stream",
     "text": [
      "CPU times: user 7.63 s, sys: 337 ms, total: 7.97 s\n",
      "Wall time: 7.9 s\n"
     ]
    },
    {
     "name": "stderr",
     "output_type": "stream",
     "text": [
      "\r"
     ]
    }
   ],
   "source": [
    "%%time\n",
    "\n",
    "for year in tax_years:\n",
    "    print(year)\n",
    "    df = psp.generate_taxes_1040(\n",
    "        year=year,\n",
    "        **psp_kwargs,\n",
    "    )\n",
    "    df_ops.to_parquet(\n",
    "        df, str(Path(output_dir) / f\"simulated_taxes_1040_{year}.parquet\")\n",
    "    )"
   ]
  },
  {
   "cell_type": "markdown",
   "id": "d8bad94f-c803-41e0-bf17-9ecfdb56cdbd",
   "metadata": {
    "papermill": {
     "duration": 0.009159,
     "end_time": "2024-06-01T00:27:51.914084",
     "exception": false,
     "start_time": "2024-06-01T00:27:51.904925",
     "status": "completed"
    },
    "tags": []
   },
   "source": [
    "### Simulated W2/1099 tax filings\n",
    "\n",
    "We assume that the last 5 years of taxes would be available and used in the construction of the reference files.\n",
    "\n",
    "Note that these are retrieved by *tax* year, so the 2029 taxes would be available in early 2030\n",
    "(around when our hypothetical case study is taking place)."
   ]
  },
  {
   "cell_type": "code",
   "execution_count": 21,
   "id": "2c072c69-f7c7-4bf1-b99e-48c3257063ba",
   "metadata": {
    "execution": {
     "iopub.execute_input": "2024-06-01T00:27:51.937665Z",
     "iopub.status.busy": "2024-06-01T00:27:51.936200Z",
     "iopub.status.idle": "2024-06-01T00:27:57.410738Z",
     "shell.execute_reply": "2024-06-01T00:27:57.409805Z"
    },
    "papermill": {
     "duration": 5.491773,
     "end_time": "2024-06-01T00:27:57.415467",
     "exception": false,
     "start_time": "2024-06-01T00:27:51.923694",
     "status": "completed"
    },
    "tags": []
   },
   "outputs": [
    {
     "name": "stdout",
     "output_type": "stream",
     "text": [
      "2025\n"
     ]
    },
    {
     "name": "stderr",
     "output_type": "stream",
     "text": [
      "\r",
      "Applying noise:   0%|                                                                                                                                                                                                       | 0/15 [00:00<?, ?type/s]"
     ]
    },
    {
     "name": "stderr",
     "output_type": "stream",
     "text": [
      "\r",
      "Applying noise:  33%|███████████████████████████████████████████████████████████████▋                                                                                                                               | 5/15 [00:00<00:00, 42.99type/s]"
     ]
    },
    {
     "name": "stderr",
     "output_type": "stream",
     "text": [
      "\r",
      "Applying noise:  80%|████████████████████████████████████████████████████████████████████████████████████████████████████████████████████████████████████████████████████████                                      | 12/15 [00:00<00:00, 52.77type/s]"
     ]
    },
    {
     "name": "stderr",
     "output_type": "stream",
     "text": [
      "\r",
      "                                                                                                                                                                                                                                                     "
     ]
    },
    {
     "name": "stderr",
     "output_type": "stream",
     "text": [
      "\r"
     ]
    },
    {
     "name": "stdout",
     "output_type": "stream",
     "text": [
      "2026\n"
     ]
    },
    {
     "name": "stderr",
     "output_type": "stream",
     "text": [
      "\r",
      "Applying noise:   0%|                                                                                                                                                                                                       | 0/15 [00:00<?, ?type/s]"
     ]
    },
    {
     "name": "stderr",
     "output_type": "stream",
     "text": [
      "\r",
      "Applying noise:  33%|███████████████████████████████████████████████████████████████▋                                                                                                                               | 5/15 [00:00<00:00, 43.21type/s]"
     ]
    },
    {
     "name": "stderr",
     "output_type": "stream",
     "text": [
      "\r",
      "Applying noise:  80%|████████████████████████████████████████████████████████████████████████████████████████████████████████████████████████████████████████████████████████                                      | 12/15 [00:00<00:00, 52.16type/s]"
     ]
    },
    {
     "name": "stderr",
     "output_type": "stream",
     "text": [
      "\r",
      "                                                                                                                                                                                                                                                     "
     ]
    },
    {
     "name": "stderr",
     "output_type": "stream",
     "text": [
      "\r"
     ]
    },
    {
     "name": "stdout",
     "output_type": "stream",
     "text": [
      "2027\n"
     ]
    },
    {
     "name": "stderr",
     "output_type": "stream",
     "text": [
      "\r",
      "Applying noise:   0%|                                                                                                                                                                                                       | 0/15 [00:00<?, ?type/s]"
     ]
    },
    {
     "name": "stderr",
     "output_type": "stream",
     "text": [
      "\r",
      "Applying noise:  33%|███████████████████████████████████████████████████████████████▋                                                                                                                               | 5/15 [00:00<00:00, 42.49type/s]"
     ]
    },
    {
     "name": "stderr",
     "output_type": "stream",
     "text": [
      "\r",
      "Applying noise:  67%|██████████████████████████████████████████████████████████████████████████████████████████████████████████████████████████████▋                                                               | 10/15 [00:00<00:00, 36.04type/s]"
     ]
    },
    {
     "name": "stderr",
     "output_type": "stream",
     "text": [
      "\r",
      "Applying noise:  93%|█████████████████████████████████████████████████████████████████████████████████████████████████████████████████████████████████████████████████████████████████████████████████▎            | 14/15 [00:00<00:00, 16.93type/s]"
     ]
    },
    {
     "name": "stderr",
     "output_type": "stream",
     "text": [
      "\r",
      "                                                                                                                                                                                                                                                     "
     ]
    },
    {
     "name": "stderr",
     "output_type": "stream",
     "text": [
      "\r"
     ]
    },
    {
     "name": "stdout",
     "output_type": "stream",
     "text": [
      "2028\n"
     ]
    },
    {
     "name": "stderr",
     "output_type": "stream",
     "text": [
      "\r",
      "Applying noise:   0%|                                                                                                                                                                                                       | 0/15 [00:00<?, ?type/s]"
     ]
    },
    {
     "name": "stderr",
     "output_type": "stream",
     "text": [
      "\r",
      "Applying noise:  33%|███████████████████████████████████████████████████████████████▋                                                                                                                               | 5/15 [00:00<00:00, 42.70type/s]"
     ]
    },
    {
     "name": "stderr",
     "output_type": "stream",
     "text": [
      "\r",
      "Applying noise:  80%|████████████████████████████████████████████████████████████████████████████████████████████████████████████████████████████████████████████████████████                                      | 12/15 [00:00<00:00, 52.34type/s]"
     ]
    },
    {
     "name": "stderr",
     "output_type": "stream",
     "text": [
      "\r",
      "                                                                                                                                                                                                                                                     "
     ]
    },
    {
     "name": "stderr",
     "output_type": "stream",
     "text": [
      "\r"
     ]
    },
    {
     "name": "stdout",
     "output_type": "stream",
     "text": [
      "2029\n"
     ]
    },
    {
     "name": "stderr",
     "output_type": "stream",
     "text": [
      "\r",
      "Applying noise:   0%|                                                                                                                                                                                                       | 0/15 [00:00<?, ?type/s]"
     ]
    },
    {
     "name": "stderr",
     "output_type": "stream",
     "text": [
      "\r",
      "Applying noise:  33%|███████████████████████████████████████████████████████████████▋                                                                                                                               | 5/15 [00:00<00:00, 42.31type/s]"
     ]
    },
    {
     "name": "stderr",
     "output_type": "stream",
     "text": [
      "\r",
      "Applying noise:  80%|████████████████████████████████████████████████████████████████████████████████████████████████████████████████████████████████████████████████████████                                      | 12/15 [00:00<00:00, 51.92type/s]"
     ]
    },
    {
     "name": "stderr",
     "output_type": "stream",
     "text": [
      "\r",
      "                                                                                                                                                                                                                                                     "
     ]
    },
    {
     "name": "stdout",
     "output_type": "stream",
     "text": [
      "CPU times: user 5.31 s, sys: 191 ms, total: 5.5 s\n",
      "Wall time: 5.46 s\n"
     ]
    },
    {
     "name": "stderr",
     "output_type": "stream",
     "text": [
      "\r"
     ]
    }
   ],
   "source": [
    "%%time\n",
    "\n",
    "for year in tax_years:\n",
    "    print(year)\n",
    "    df = psp.generate_taxes_w2_and_1099(\n",
    "        year=year,\n",
    "        **psp_kwargs,\n",
    "    )\n",
    "    df_ops.to_parquet(\n",
    "        df, str(Path(output_dir) / f\"simulated_taxes_w2_and_1099_{year}.parquet\")\n",
    "    )"
   ]
  },
  {
   "cell_type": "markdown",
   "id": "ed6967cb-dfa6-4b43-98b9-e590d266f55f",
   "metadata": {
    "papermill": {
     "duration": 0.010757,
     "end_time": "2024-06-01T00:27:57.440638",
     "exception": false,
     "start_time": "2024-06-01T00:27:57.429881",
     "status": "completed"
    },
    "tags": []
   },
   "source": [
    "### Simulated 2030 Census Unedited File (CUF)\n",
    "\n",
    "For now, we gloss over the data schema for addresses.\n",
    "We don't know how addresses would be formatted in the CUF (and it's hard to guess, because\n",
    "address is not part of the Census form), but it likely would have some of these fields\n",
    "(street number, street name, etc) combined.\n",
    "\n",
    "While PVS input files do not in general have names split into first, middle, and last,\n",
    "I am guessing the CUF **would** have first name, middle initial, last name (which is how pseudopeople\n",
    "generates it), because that [matches the Census questionnaire](https://www2.census.gov/programs-surveys/decennial/2020/technical-documentation/questionnaires-and-instructions/questionnaires/2020-informational-questionnaire-english_DI-Q1.pdf)."
   ]
  },
  {
   "cell_type": "code",
   "execution_count": 22,
   "id": "670c2201-c8a3-43d8-8f3a-f98bf576666a",
   "metadata": {
    "execution": {
     "iopub.execute_input": "2024-06-01T00:27:57.464629Z",
     "iopub.status.busy": "2024-06-01T00:27:57.463952Z",
     "iopub.status.idle": "2024-06-01T00:27:58.314948Z",
     "shell.execute_reply": "2024-06-01T00:27:58.314069Z"
    },
    "papermill": {
     "duration": 0.868886,
     "end_time": "2024-06-01T00:27:58.320287",
     "exception": false,
     "start_time": "2024-06-01T00:27:57.451401",
     "status": "completed"
    },
    "tags": []
   },
   "outputs": [
    {
     "name": "stderr",
     "output_type": "stream",
     "text": [
      "\r",
      "Applying noise:   0%|                                                                                                                                                                                                       | 0/15 [00:00<?, ?type/s]"
     ]
    },
    {
     "name": "stderr",
     "output_type": "stream",
     "text": [
      "\r",
      "Applying noise:  27%|██████████████████████████████████████████████████▉                                                                                                                                            | 4/15 [00:00<00:00, 25.51type/s]"
     ]
    },
    {
     "name": "stderr",
     "output_type": "stream",
     "text": [
      "\r",
      "Applying noise:  67%|██████████████████████████████████████████████████████████████████████████████████████████████████████████████████████████████▋                                                               | 10/15 [00:00<00:00, 38.72type/s]"
     ]
    },
    {
     "name": "stderr",
     "output_type": "stream",
     "text": [
      "\r",
      "Applying noise: 100%|██████████████████████████████████████████████████████████████████████████████████████████████████████████████████████████████████████████████████████████████████████████████████████████████| 15/15 [00:00<00:00, 21.98type/s]"
     ]
    },
    {
     "name": "stderr",
     "output_type": "stream",
     "text": [
      "\r",
      "                                                                                                                                                                                                                                                     "
     ]
    },
    {
     "name": "stdout",
     "output_type": "stream",
     "text": [
      "CPU times: user 826 ms, sys: 16.3 ms, total: 842 ms\n",
      "Wall time: 843 ms\n"
     ]
    },
    {
     "name": "stderr",
     "output_type": "stream",
     "text": [
      "\r"
     ]
    }
   ],
   "source": [
    "%%time\n",
    "\n",
    "simulated_census_2030 = psp.generate_decennial_census(\n",
    "    year=2030,\n",
    "    **psp_kwargs,\n",
    ")\n",
    "df_ops.to_parquet(\n",
    "    simulated_census_2030, str(Path(output_dir) / f\"simulated_census_2030.parquet\")\n",
    ")"
   ]
  },
  {
   "cell_type": "markdown",
   "id": "480d3767-1895-4c4f-91d8-72d13a19b5ec",
   "metadata": {
    "papermill": {
     "duration": 0.011158,
     "end_time": "2024-06-01T00:27:58.347146",
     "exception": false,
     "start_time": "2024-06-01T00:27:58.335988",
     "status": "completed"
    },
    "tags": []
   },
   "source": [
    "### Simulated SSA Numident\n",
    "\n",
    "Wagner and Layne, p.4:\n",
    "\n",
    "> The reference files are derived from the Social Security Administration\n",
    "    (SSA) Numerical Identification file (SSA Numident). The Numident contains all\n",
    "    transactions recorded against one Social Security Number (SSN)...\n",
    "\n",
    "Based on the [SSA Numident through 2007 which is publicly available from NARA](https://aad.archives.gov/aad/series-description.jsp?s=5057),\n",
    "we know there are three kinds of transactions: SSN applications, deaths, and claiming benefits.\n",
    "SSN holders may change their information (e.g. changing name or sex) by submitting another application,\n",
    "which generates an additional application transaction.\n",
    "(The policies about this are found [on the SSA website](https://secure.ssa.gov/poms.nsf/lnx/0110212200).)\n",
    "\n",
    "The paper [\"Likely Transgender Individuals in U.S. Federal Administrative Records and the 2010 Census\" by Benjamin Cerf Harris](https://www.census.gov/content/dam/Census/library/working-papers/2015/adrm/carra-wp-2015-03.pdf)\n",
    "includes some helpful statistics (Table 2).\n",
    "The average person in the SSA Numident has 2.2 transactions (called \"claims\" in that paper, but with the same definition\n",
    "as our term \"transaction\": \"Any time an SSN is created or information associated with an existing SSN is changed, that event is registered\n",
    "as a claim.\").\n",
    "\n",
    "pseudopeople does not currently include correction, name change, or benefits claim transactions.\n",
    "It only includes SSN creation and death of the SSN holder.\n",
    "\n",
    "I've figured that there would be some delay in getting the Numident -- so by Census processing time\n",
    "for the 2030 Census, only the SSA transactions by the end of 2029 would be available.\n",
    "Note that with pseudopeople's current design it is only possible to set this cutoff at the end of a calendar year.\n",
    "The NORC report says that \"the Census NUMIDENT is recreated each year, to reflect\n",
    "Social Security transaction records through **March** of each year\" (p. 105),\n",
    "though it isn't clear when in the year the Census Numident is actually re-created."
   ]
  },
  {
   "cell_type": "code",
   "execution_count": 23,
   "id": "3da0de7b-2e91-4d23-96bd-d331a820d7e7",
   "metadata": {
    "execution": {
     "iopub.execute_input": "2024-06-01T00:27:58.372434Z",
     "iopub.status.busy": "2024-06-01T00:27:58.371805Z",
     "iopub.status.idle": "2024-06-01T00:27:58.973427Z",
     "shell.execute_reply": "2024-06-01T00:27:58.972553Z"
    },
    "papermill": {
     "duration": 0.619621,
     "end_time": "2024-06-01T00:27:58.977513",
     "exception": false,
     "start_time": "2024-06-01T00:27:58.357892",
     "status": "completed"
    },
    "tags": []
   },
   "outputs": [
    {
     "name": "stderr",
     "output_type": "stream",
     "text": [
      "\r",
      "Applying noise:   0%|                                                                                                                                                                                                       | 0/15 [00:00<?, ?type/s]"
     ]
    },
    {
     "name": "stderr",
     "output_type": "stream",
     "text": [
      "\r",
      "Applying noise:  67%|██████████████████████████████████████████████████████████████████████████████████████████████████████████████████████████████▋                                                               | 10/15 [00:00<00:00, 93.91type/s]"
     ]
    },
    {
     "name": "stderr",
     "output_type": "stream",
     "text": [
      "\r",
      "                                                                                                                                                                                                                                                     "
     ]
    },
    {
     "name": "stdout",
     "output_type": "stream",
     "text": [
      "CPU times: user 580 ms, sys: 15.8 ms, total: 596 ms\n",
      "Wall time: 594 ms\n"
     ]
    },
    {
     "name": "stderr",
     "output_type": "stream",
     "text": [
      "\r"
     ]
    }
   ],
   "source": [
    "%%time\n",
    "\n",
    "simulated_ssa_numident = psp.generate_social_security(\n",
    "    year=2029,\n",
    "    **psp_kwargs,\n",
    ")"
   ]
  },
  {
   "cell_type": "code",
   "execution_count": 24,
   "id": "122a7f79-8054-4664-b916-f023585bf398",
   "metadata": {
    "execution": {
     "iopub.execute_input": "2024-06-01T00:27:59.006266Z",
     "iopub.status.busy": "2024-06-01T00:27:59.005696Z",
     "iopub.status.idle": "2024-06-01T00:27:59.044114Z",
     "shell.execute_reply": "2024-06-01T00:27:59.043263Z"
    },
    "papermill": {
     "duration": 0.054452,
     "end_time": "2024-06-01T00:27:59.047087",
     "exception": false,
     "start_time": "2024-06-01T00:27:58.992635",
     "status": "completed"
    },
    "tags": []
   },
   "outputs": [
    {
     "name": "stdout",
     "output_type": "stream",
     "text": [
      "CPU times: user 20.5 ms, sys: 4.06 ms, total: 24.6 ms\n",
      "Wall time: 31.6 ms\n"
     ]
    }
   ],
   "source": [
    "%%time\n",
    "\n",
    "df_ops.to_parquet(\n",
    "    simulated_ssa_numident, str(Path(output_dir) / \"simulated_ssa_numident.parquet\")\n",
    ")"
   ]
  },
  {
   "cell_type": "code",
   "execution_count": 25,
   "id": "ac19c70b-36c9-486f-9e65-6a32ca876ad7",
   "metadata": {
    "execution": {
     "iopub.execute_input": "2024-06-01T00:27:59.077937Z",
     "iopub.status.busy": "2024-06-01T00:27:59.077383Z",
     "iopub.status.idle": "2024-06-01T00:27:59.247739Z",
     "shell.execute_reply": "2024-06-01T00:27:59.246101Z"
    },
    "papermill": {
     "duration": 0.187129,
     "end_time": "2024-06-01T00:27:59.251839",
     "exception": false,
     "start_time": "2024-06-01T00:27:59.064710",
     "status": "completed"
    },
    "tags": []
   },
   "outputs": [
    {
     "name": "stdout",
     "output_type": "stream",
     "text": [
      "Fri 31 May 2024 05:27:59 PM PDT\r\n"
     ]
    }
   ],
   "source": [
    "! date"
   ]
  }
 ],
 "metadata": {
  "kernelspec": {
   "display_name": "person_linkage_case_study_20240423",
   "language": "python",
   "name": "python3"
  },
  "language_info": {
   "codemirror_mode": {
    "name": "ipython",
    "version": 3
   },
   "file_extension": ".py",
   "mimetype": "text/x-python",
   "name": "python",
   "nbconvert_exporter": "python",
   "pygments_lexer": "ipython3",
   "version": "3.10.14"
  },
  "papermill": {
   "default_parameters": {},
   "duration": 27.262355,
   "end_time": "2024-06-01T00:27:59.798013",
   "environment_variables": {},
   "exception": null,
   "input_path": "01_generate_pseudopeople_simulated_datasets.ipynb",
   "output_path": "diagnostics/executed_notebooks/small_sample/01_generate_pseudopeople_simulated_datasets.ipynb",
   "parameters": {
    "compute_engine": "pandas",
    "data_to_use": "small_sample",
    "output_dir": "output/01_generate_pseudopeople_simulated_datasets/",
    "very_noisy": true
   },
   "start_time": "2024-06-01T00:27:32.535658",
   "version": "2.5.0"
  }
 },
 "nbformat": 4,
 "nbformat_minor": 5
}