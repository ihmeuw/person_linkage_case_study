{
 "cells": [
  {
   "cell_type": "markdown",
   "id": "6f802687-416a-4b38-82d3-ab387dc16c38",
   "metadata": {
    "papermill": {
     "duration": 0.023324,
     "end_time": "2024-05-30T04:00:58.496469",
     "exception": false,
     "start_time": "2024-05-30T04:00:58.473145",
     "status": "completed"
    },
    "tags": []
   },
   "source": [
    "# Generate simulated data to link\n",
    "\n",
    "In this case study, we imagine running a person linkage on a simulated 2030 Census Unedited File (CUF) --\n",
    "see the main notebook for more details, including references used throughout this notebook.\n",
    "This notebook creates simulated input (CUF) and reference files approximating what would be used in such a process,\n",
    "emulating the methods found in publicly available descriptions of the Census Bureau's primary person linkage system, PVS."
   ]
  },
  {
   "cell_type": "code",
   "execution_count": 1,
   "id": "1c4407b8-a1d5-4d38-a2a1-820fd078487f",
   "metadata": {
    "execution": {
     "iopub.execute_input": "2024-05-30T04:00:58.524468Z",
     "iopub.status.busy": "2024-05-30T04:00:58.523721Z",
     "iopub.status.idle": "2024-05-30T04:00:58.643773Z",
     "shell.execute_reply": "2024-05-30T04:00:58.643006Z"
    },
    "papermill": {
     "duration": 0.138225,
     "end_time": "2024-05-30T04:00:58.647486",
     "exception": false,
     "start_time": "2024-05-30T04:00:58.509261",
     "status": "completed"
    },
    "tags": []
   },
   "outputs": [
    {
     "data": {
      "text/plain": [
       "<dask.config.set at 0x7f5de2cb7eb0>"
      ]
     },
     "execution_count": 1,
     "metadata": {},
     "output_type": "execute_result"
    }
   ],
   "source": [
    "# Query planning is now on by default, but it has some rough edges.\n",
    "# See https://github.com/dask/dask/issues/10995 for general discussion\n",
    "# and https://github.com/dask/dask-expr/issues/1060 for the particular\n",
    "# issue I ran into.\n",
    "import dask\n",
    "dask.config.set({\"dataframe.query-planning\": False})"
   ]
  },
  {
   "cell_type": "code",
   "execution_count": 2,
   "id": "737efe65-8d84-4276-b39f-83b2c2cd4cff",
   "metadata": {
    "execution": {
     "iopub.execute_input": "2024-05-30T04:00:58.680792Z",
     "iopub.status.busy": "2024-05-30T04:00:58.679927Z",
     "iopub.status.idle": "2024-05-30T04:00:59.127432Z",
     "shell.execute_reply": "2024-05-30T04:00:59.126275Z"
    },
    "papermill": {
     "duration": 0.466231,
     "end_time": "2024-05-30T04:00:59.131850",
     "exception": false,
     "start_time": "2024-05-30T04:00:58.665619",
     "status": "completed"
    },
    "tags": []
   },
   "outputs": [],
   "source": [
    "import os, time\n",
    "import warnings\n",
    "import datetime\n",
    "# Importing pandas for access, regardless of whether we are using it as the compute engine\n",
    "import pandas\n",
    "import numpy\n",
    "from IPython.display import display"
   ]
  },
  {
   "cell_type": "code",
   "execution_count": 3,
   "id": "f4b26e57-7bf4-458a-bb14-2da532d4361b",
   "metadata": {
    "execution": {
     "iopub.execute_input": "2024-05-30T04:00:59.167587Z",
     "iopub.status.busy": "2024-05-30T04:00:59.166634Z",
     "iopub.status.idle": "2024-05-30T04:00:59.188734Z",
     "shell.execute_reply": "2024-05-30T04:00:59.187901Z"
    },
    "papermill": {
     "duration": 0.038943,
     "end_time": "2024-05-30T04:00:59.190736",
     "exception": false,
     "start_time": "2024-05-30T04:00:59.151793",
     "status": "completed"
    },
    "tags": []
   },
   "outputs": [],
   "source": [
    "%load_ext autoreload\n",
    "%autoreload 1"
   ]
  },
  {
   "cell_type": "code",
   "execution_count": 4,
   "id": "114fdbee-8c21-40f1-a5b2-4a1d2c2743b2",
   "metadata": {
    "execution": {
     "iopub.execute_input": "2024-05-30T04:00:59.226440Z",
     "iopub.status.busy": "2024-05-30T04:00:59.225830Z",
     "iopub.status.idle": "2024-05-30T04:00:59.290928Z",
     "shell.execute_reply": "2024-05-30T04:00:59.290161Z"
    },
    "papermill": {
     "duration": 0.083532,
     "end_time": "2024-05-30T04:00:59.294631",
     "exception": false,
     "start_time": "2024-05-30T04:00:59.211099",
     "status": "completed"
    },
    "tags": []
   },
   "outputs": [],
   "source": [
    "%aimport vivarium_research_prl\n",
    "from vivarium_research_prl import distributed_compute, utils"
   ]
  },
  {
   "cell_type": "code",
   "execution_count": 5,
   "id": "028e3f70-dce9-46ef-9610-722c895e4a78",
   "metadata": {
    "execution": {
     "iopub.execute_input": "2024-05-30T04:00:59.329943Z",
     "iopub.status.busy": "2024-05-30T04:00:59.329202Z",
     "iopub.status.idle": "2024-05-30T04:00:59.336510Z",
     "shell.execute_reply": "2024-05-30T04:00:59.335211Z"
    },
    "papermill": {
     "duration": 0.022897,
     "end_time": "2024-05-30T04:00:59.338040",
     "exception": false,
     "start_time": "2024-05-30T04:00:59.315143",
     "status": "completed"
    },
    "tags": []
   },
   "outputs": [],
   "source": [
    "warnings.simplefilter(action='ignore', category=FutureWarning)"
   ]
  },
  {
   "cell_type": "code",
   "execution_count": 6,
   "id": "7ac996f3-1270-4211-a829-728e3b2ba6f7",
   "metadata": {
    "editable": true,
    "execution": {
     "iopub.execute_input": "2024-05-30T04:00:59.366698Z",
     "iopub.status.busy": "2024-05-30T04:00:59.365994Z",
     "iopub.status.idle": "2024-05-30T04:00:59.374748Z",
     "shell.execute_reply": "2024-05-30T04:00:59.373831Z"
    },
    "papermill": {
     "duration": 0.0247,
     "end_time": "2024-05-30T04:00:59.376615",
     "exception": false,
     "start_time": "2024-05-30T04:00:59.351915",
     "status": "completed"
    },
    "slideshow": {
     "slide_type": ""
    },
    "tags": [
     "parameters"
    ]
   },
   "outputs": [],
   "source": [
    "# DO NOT EDIT if this notebook is not called generate_simulated_data.ipynb!\n",
    "# This notebook is designed to be run with papermill; this cell is tagged 'parameters'\n",
    "data_to_use = 'small_sample'\n",
    "output_dir = '../output/generate_simulated_data'\n",
    "compute_engine = 'pandas'\n",
    "compute_engine_num_workers = 10\n",
    "compute_engine_cpus_per_worker = 2\n",
    "compute_engine_threads_per_worker = 1\n",
    "compute_engine_memory_per_worker = \"10GB\"\n",
    "queue = None\n",
    "account = None\n",
    "# NOTE: This is, as Dask requests, a directory local to the compute node.\n",
    "# But IHME's cluster doesn't support this very well -- it can be small-ish,\n",
    "# full of stuff from other users, etc.\n",
    "compute_engine_local_directory = f\"/tmp/{os.environ['USER']}_{int(time.time())}_person_linkage_case_study\"\n",
    "compute_engine_log_directory = f'{output_dir}/{data_to_use}/logs'\n",
    "walltime = None\n",
    "compute_engine_memory_constrained = True\n",
    "compute_engine_scheduler = \"slurm\""
   ]
  },
  {
   "cell_type": "code",
   "execution_count": 7,
   "id": "b07c6af3",
   "metadata": {
    "execution": {
     "iopub.execute_input": "2024-05-30T04:00:59.406257Z",
     "iopub.status.busy": "2024-05-30T04:00:59.405508Z",
     "iopub.status.idle": "2024-05-30T04:00:59.412219Z",
     "shell.execute_reply": "2024-05-30T04:00:59.411154Z"
    },
    "papermill": {
     "duration": 0.023281,
     "end_time": "2024-05-30T04:00:59.414006",
     "exception": false,
     "start_time": "2024-05-30T04:00:59.390725",
     "status": "completed"
    },
    "tags": [
     "injected-parameters"
    ]
   },
   "outputs": [],
   "source": [
    "# Parameters\n",
    "data_to_use = \"small_sample\"\n",
    "output_dir = \"output/generate_simulated_data/\"\n",
    "queue = \"long.q\"\n",
    "account = \"proj_simscience\"\n",
    "walltime = \"16-00:00:00\"\n",
    "compute_engine = \"dask\"\n"
   ]
  },
  {
   "cell_type": "code",
   "execution_count": 8,
   "id": "65653e90-5589-4ae9-917e-b1082cf475b9",
   "metadata": {
    "execution": {
     "iopub.execute_input": "2024-05-30T04:00:59.459715Z",
     "iopub.status.busy": "2024-05-30T04:00:59.458842Z",
     "iopub.status.idle": "2024-05-30T04:00:59.465596Z",
     "shell.execute_reply": "2024-05-30T04:00:59.464683Z"
    },
    "papermill": {
     "duration": 0.0295,
     "end_time": "2024-05-30T04:00:59.466726",
     "exception": false,
     "start_time": "2024-05-30T04:00:59.437226",
     "status": "completed"
    },
    "tags": []
   },
   "outputs": [],
   "source": [
    "if compute_engine != 'pandas':\n",
    "    utils.ensure_empty(compute_engine_local_directory)"
   ]
  },
  {
   "cell_type": "code",
   "execution_count": 9,
   "id": "79ff29f5-473d-4dab-9e7f-453f284ad8d8",
   "metadata": {
    "execution": {
     "iopub.execute_input": "2024-05-30T04:00:59.494902Z",
     "iopub.status.busy": "2024-05-30T04:00:59.494194Z",
     "iopub.status.idle": "2024-05-30T04:00:59.502213Z",
     "shell.execute_reply": "2024-05-30T04:00:59.500908Z"
    },
    "papermill": {
     "duration": 0.023811,
     "end_time": "2024-05-30T04:00:59.503567",
     "exception": false,
     "start_time": "2024-05-30T04:00:59.479756",
     "status": "completed"
    },
    "tags": []
   },
   "outputs": [
    {
     "name": "stdout",
     "output_type": "stream",
     "text": [
      "2024-05-29 21:00:59.497273\n"
     ]
    }
   ],
   "source": [
    "print(datetime.datetime.now())"
   ]
  },
  {
   "cell_type": "code",
   "execution_count": 10,
   "id": "d3bb7031-36f0-4567-842b-3ad15c8dd274",
   "metadata": {
    "execution": {
     "iopub.execute_input": "2024-05-30T04:00:59.535097Z",
     "iopub.status.busy": "2024-05-30T04:00:59.534084Z",
     "iopub.status.idle": "2024-05-30T04:01:11.053291Z",
     "shell.execute_reply": "2024-05-30T04:01:11.051845Z"
    },
    "papermill": {
     "duration": 11.537947,
     "end_time": "2024-05-30T04:01:11.057247",
     "exception": false,
     "start_time": "2024-05-30T04:00:59.519300",
     "status": "completed"
    },
    "tags": []
   },
   "outputs": [
    {
     "name": "stderr",
     "output_type": "stream",
     "text": [
      "/mnt/share/homes/zmbc/mambaforge/envs/person_linkage_case_study/lib/python3.10/site-packages/distributed/node.py:182: UserWarning: Port 8787 is already in use.\n",
      "Perhaps you already have a cluster running?\n",
      "Hosting the HTTP server on port 44151 instead\n",
      "  warnings.warn(\n"
     ]
    },
    {
     "data": {
      "text/html": [
       "<div>\n",
       "    <div style=\"width: 24px; height: 24px; background-color: #e1e1e1; border: 3px solid #9D9D9D; border-radius: 5px; position: absolute;\"> </div>\n",
       "    <div style=\"margin-left: 48px;\">\n",
       "        <h3 style=\"margin-bottom: 0px;\">Client</h3>\n",
       "        <p style=\"color: #9D9D9D; margin-bottom: 0px;\">Client-3fcf35b1-1e39-11ef-867c-22abeb8aca95</p>\n",
       "        <table style=\"width: 100%; text-align: left;\">\n",
       "\n",
       "        <tr>\n",
       "        \n",
       "            <td style=\"text-align: left;\"><strong>Connection method:</strong> Cluster object</td>\n",
       "            <td style=\"text-align: left;\"><strong>Cluster type:</strong> dask_jobqueue.SLURMCluster</td>\n",
       "        \n",
       "        </tr>\n",
       "\n",
       "        \n",
       "            <tr>\n",
       "                <td style=\"text-align: left;\">\n",
       "                    <strong>Dashboard: </strong> <a href=\"http://10.158.96.40:44151/status\" target=\"_blank\">http://10.158.96.40:44151/status</a>\n",
       "                </td>\n",
       "                <td style=\"text-align: left;\"></td>\n",
       "            </tr>\n",
       "        \n",
       "\n",
       "        </table>\n",
       "\n",
       "        \n",
       "\n",
       "        \n",
       "            <details>\n",
       "            <summary style=\"margin-bottom: 20px;\"><h3 style=\"display: inline;\">Cluster Info</h3></summary>\n",
       "            <div class=\"jp-RenderedHTMLCommon jp-RenderedHTML jp-mod-trusted jp-OutputArea-output\">\n",
       "    <div style=\"width: 24px; height: 24px; background-color: #e1e1e1; border: 3px solid #9D9D9D; border-radius: 5px; position: absolute;\">\n",
       "    </div>\n",
       "    <div style=\"margin-left: 48px;\">\n",
       "        <h3 style=\"margin-bottom: 0px; margin-top: 0px;\">SLURMCluster</h3>\n",
       "        <p style=\"color: #9D9D9D; margin-bottom: 0px;\">abfa8bb4</p>\n",
       "        <table style=\"width: 100%; text-align: left;\">\n",
       "            <tr>\n",
       "                <td style=\"text-align: left;\">\n",
       "                    <strong>Dashboard:</strong> <a href=\"http://10.158.96.40:44151/status\" target=\"_blank\">http://10.158.96.40:44151/status</a>\n",
       "                </td>\n",
       "                <td style=\"text-align: left;\">\n",
       "                    <strong>Workers:</strong> 10\n",
       "                </td>\n",
       "            </tr>\n",
       "            <tr>\n",
       "                <td style=\"text-align: left;\">\n",
       "                    <strong>Total threads:</strong> 10\n",
       "                </td>\n",
       "                <td style=\"text-align: left;\">\n",
       "                    <strong>Total memory:</strong> 93.10 GiB\n",
       "                </td>\n",
       "            </tr>\n",
       "            \n",
       "        </table>\n",
       "\n",
       "        <details>\n",
       "            <summary style=\"margin-bottom: 20px;\">\n",
       "                <h3 style=\"display: inline;\">Scheduler Info</h3>\n",
       "            </summary>\n",
       "\n",
       "            <div style=\"\">\n",
       "    <div>\n",
       "        <div style=\"width: 24px; height: 24px; background-color: #FFF7E5; border: 3px solid #FF6132; border-radius: 5px; position: absolute;\"> </div>\n",
       "        <div style=\"margin-left: 48px;\">\n",
       "            <h3 style=\"margin-bottom: 0px;\">Scheduler</h3>\n",
       "            <p style=\"color: #9D9D9D; margin-bottom: 0px;\">Scheduler-c6c7b034-c3a2-476c-a99c-fb04805f4411</p>\n",
       "            <table style=\"width: 100%; text-align: left;\">\n",
       "                <tr>\n",
       "                    <td style=\"text-align: left;\">\n",
       "                        <strong>Comm:</strong> tcp://10.158.96.40:40081\n",
       "                    </td>\n",
       "                    <td style=\"text-align: left;\">\n",
       "                        <strong>Workers:</strong> 10\n",
       "                    </td>\n",
       "                </tr>\n",
       "                <tr>\n",
       "                    <td style=\"text-align: left;\">\n",
       "                        <strong>Dashboard:</strong> <a href=\"http://10.158.96.40:44151/status\" target=\"_blank\">http://10.158.96.40:44151/status</a>\n",
       "                    </td>\n",
       "                    <td style=\"text-align: left;\">\n",
       "                        <strong>Total threads:</strong> 10\n",
       "                    </td>\n",
       "                </tr>\n",
       "                <tr>\n",
       "                    <td style=\"text-align: left;\">\n",
       "                        <strong>Started:</strong> Just now\n",
       "                    </td>\n",
       "                    <td style=\"text-align: left;\">\n",
       "                        <strong>Total memory:</strong> 93.10 GiB\n",
       "                    </td>\n",
       "                </tr>\n",
       "            </table>\n",
       "        </div>\n",
       "    </div>\n",
       "\n",
       "    <details style=\"margin-left: 48px;\">\n",
       "        <summary style=\"margin-bottom: 20px;\">\n",
       "            <h3 style=\"display: inline;\">Workers</h3>\n",
       "        </summary>\n",
       "\n",
       "        \n",
       "        <div style=\"margin-bottom: 20px;\">\n",
       "            <div style=\"width: 24px; height: 24px; background-color: #DBF5FF; border: 3px solid #4CC9FF; border-radius: 5px; position: absolute;\"> </div>\n",
       "            <div style=\"margin-left: 48px;\">\n",
       "            <details>\n",
       "                <summary>\n",
       "                    <h4 style=\"margin-bottom: 0px; display: inline;\">Worker: SLURMCluster-0</h4>\n",
       "                </summary>\n",
       "                <table style=\"width: 100%; text-align: left;\">\n",
       "                    <tr>\n",
       "                        <td style=\"text-align: left;\">\n",
       "                            <strong>Comm: </strong> tcp://10.158.100.147:35939\n",
       "                        </td>\n",
       "                        <td style=\"text-align: left;\">\n",
       "                            <strong>Total threads: </strong> 1\n",
       "                        </td>\n",
       "                    </tr>\n",
       "                    <tr>\n",
       "                        <td style=\"text-align: left;\">\n",
       "                            <strong>Dashboard: </strong> <a href=\"http://10.158.100.147:46599/status\" target=\"_blank\">http://10.158.100.147:46599/status</a>\n",
       "                        </td>\n",
       "                        <td style=\"text-align: left;\">\n",
       "                            <strong>Memory: </strong> 9.31 GiB\n",
       "                        </td>\n",
       "                    </tr>\n",
       "                    <tr>\n",
       "                        <td style=\"text-align: left;\">\n",
       "                            <strong>Nanny: </strong> tcp://10.158.100.147:37715\n",
       "                        </td>\n",
       "                        <td style=\"text-align: left;\"></td>\n",
       "                    </tr>\n",
       "                    <tr>\n",
       "                        <td colspan=\"2\" style=\"text-align: left;\">\n",
       "                            <strong>Local directory: </strong> /tmp/zmbc_1717041659_person_linkage_case_study/dask-scratch-space/worker-aad1zoaa\n",
       "                        </td>\n",
       "                    </tr>\n",
       "\n",
       "                    \n",
       "\n",
       "                    \n",
       "\n",
       "                </table>\n",
       "            </details>\n",
       "            </div>\n",
       "        </div>\n",
       "        \n",
       "        <div style=\"margin-bottom: 20px;\">\n",
       "            <div style=\"width: 24px; height: 24px; background-color: #DBF5FF; border: 3px solid #4CC9FF; border-radius: 5px; position: absolute;\"> </div>\n",
       "            <div style=\"margin-left: 48px;\">\n",
       "            <details>\n",
       "                <summary>\n",
       "                    <h4 style=\"margin-bottom: 0px; display: inline;\">Worker: SLURMCluster-1</h4>\n",
       "                </summary>\n",
       "                <table style=\"width: 100%; text-align: left;\">\n",
       "                    <tr>\n",
       "                        <td style=\"text-align: left;\">\n",
       "                            <strong>Comm: </strong> tcp://10.158.106.7:45179\n",
       "                        </td>\n",
       "                        <td style=\"text-align: left;\">\n",
       "                            <strong>Total threads: </strong> 1\n",
       "                        </td>\n",
       "                    </tr>\n",
       "                    <tr>\n",
       "                        <td style=\"text-align: left;\">\n",
       "                            <strong>Dashboard: </strong> <a href=\"http://10.158.106.7:33281/status\" target=\"_blank\">http://10.158.106.7:33281/status</a>\n",
       "                        </td>\n",
       "                        <td style=\"text-align: left;\">\n",
       "                            <strong>Memory: </strong> 9.31 GiB\n",
       "                        </td>\n",
       "                    </tr>\n",
       "                    <tr>\n",
       "                        <td style=\"text-align: left;\">\n",
       "                            <strong>Nanny: </strong> tcp://10.158.106.7:35041\n",
       "                        </td>\n",
       "                        <td style=\"text-align: left;\"></td>\n",
       "                    </tr>\n",
       "                    <tr>\n",
       "                        <td colspan=\"2\" style=\"text-align: left;\">\n",
       "                            <strong>Local directory: </strong> /tmp/zmbc_1717041659_person_linkage_case_study/dask-scratch-space/worker-tksvdxkn\n",
       "                        </td>\n",
       "                    </tr>\n",
       "\n",
       "                    \n",
       "\n",
       "                    \n",
       "\n",
       "                </table>\n",
       "            </details>\n",
       "            </div>\n",
       "        </div>\n",
       "        \n",
       "        <div style=\"margin-bottom: 20px;\">\n",
       "            <div style=\"width: 24px; height: 24px; background-color: #DBF5FF; border: 3px solid #4CC9FF; border-radius: 5px; position: absolute;\"> </div>\n",
       "            <div style=\"margin-left: 48px;\">\n",
       "            <details>\n",
       "                <summary>\n",
       "                    <h4 style=\"margin-bottom: 0px; display: inline;\">Worker: SLURMCluster-2</h4>\n",
       "                </summary>\n",
       "                <table style=\"width: 100%; text-align: left;\">\n",
       "                    <tr>\n",
       "                        <td style=\"text-align: left;\">\n",
       "                            <strong>Comm: </strong> tcp://10.158.100.144:43415\n",
       "                        </td>\n",
       "                        <td style=\"text-align: left;\">\n",
       "                            <strong>Total threads: </strong> 1\n",
       "                        </td>\n",
       "                    </tr>\n",
       "                    <tr>\n",
       "                        <td style=\"text-align: left;\">\n",
       "                            <strong>Dashboard: </strong> <a href=\"http://10.158.100.144:39721/status\" target=\"_blank\">http://10.158.100.144:39721/status</a>\n",
       "                        </td>\n",
       "                        <td style=\"text-align: left;\">\n",
       "                            <strong>Memory: </strong> 9.31 GiB\n",
       "                        </td>\n",
       "                    </tr>\n",
       "                    <tr>\n",
       "                        <td style=\"text-align: left;\">\n",
       "                            <strong>Nanny: </strong> tcp://10.158.100.144:35109\n",
       "                        </td>\n",
       "                        <td style=\"text-align: left;\"></td>\n",
       "                    </tr>\n",
       "                    <tr>\n",
       "                        <td colspan=\"2\" style=\"text-align: left;\">\n",
       "                            <strong>Local directory: </strong> /tmp/zmbc_1717041659_person_linkage_case_study/dask-scratch-space/worker-deh74w73\n",
       "                        </td>\n",
       "                    </tr>\n",
       "\n",
       "                    \n",
       "\n",
       "                    \n",
       "\n",
       "                </table>\n",
       "            </details>\n",
       "            </div>\n",
       "        </div>\n",
       "        \n",
       "        <div style=\"margin-bottom: 20px;\">\n",
       "            <div style=\"width: 24px; height: 24px; background-color: #DBF5FF; border: 3px solid #4CC9FF; border-radius: 5px; position: absolute;\"> </div>\n",
       "            <div style=\"margin-left: 48px;\">\n",
       "            <details>\n",
       "                <summary>\n",
       "                    <h4 style=\"margin-bottom: 0px; display: inline;\">Worker: SLURMCluster-3</h4>\n",
       "                </summary>\n",
       "                <table style=\"width: 100%; text-align: left;\">\n",
       "                    <tr>\n",
       "                        <td style=\"text-align: left;\">\n",
       "                            <strong>Comm: </strong> tcp://10.158.100.144:34515\n",
       "                        </td>\n",
       "                        <td style=\"text-align: left;\">\n",
       "                            <strong>Total threads: </strong> 1\n",
       "                        </td>\n",
       "                    </tr>\n",
       "                    <tr>\n",
       "                        <td style=\"text-align: left;\">\n",
       "                            <strong>Dashboard: </strong> <a href=\"http://10.158.100.144:37037/status\" target=\"_blank\">http://10.158.100.144:37037/status</a>\n",
       "                        </td>\n",
       "                        <td style=\"text-align: left;\">\n",
       "                            <strong>Memory: </strong> 9.31 GiB\n",
       "                        </td>\n",
       "                    </tr>\n",
       "                    <tr>\n",
       "                        <td style=\"text-align: left;\">\n",
       "                            <strong>Nanny: </strong> tcp://10.158.100.144:44861\n",
       "                        </td>\n",
       "                        <td style=\"text-align: left;\"></td>\n",
       "                    </tr>\n",
       "                    <tr>\n",
       "                        <td colspan=\"2\" style=\"text-align: left;\">\n",
       "                            <strong>Local directory: </strong> /tmp/zmbc_1717041659_person_linkage_case_study/dask-scratch-space/worker-vtt7_yyf\n",
       "                        </td>\n",
       "                    </tr>\n",
       "\n",
       "                    \n",
       "\n",
       "                    \n",
       "\n",
       "                </table>\n",
       "            </details>\n",
       "            </div>\n",
       "        </div>\n",
       "        \n",
       "        <div style=\"margin-bottom: 20px;\">\n",
       "            <div style=\"width: 24px; height: 24px; background-color: #DBF5FF; border: 3px solid #4CC9FF; border-radius: 5px; position: absolute;\"> </div>\n",
       "            <div style=\"margin-left: 48px;\">\n",
       "            <details>\n",
       "                <summary>\n",
       "                    <h4 style=\"margin-bottom: 0px; display: inline;\">Worker: SLURMCluster-4</h4>\n",
       "                </summary>\n",
       "                <table style=\"width: 100%; text-align: left;\">\n",
       "                    <tr>\n",
       "                        <td style=\"text-align: left;\">\n",
       "                            <strong>Comm: </strong> tcp://10.158.100.147:43973\n",
       "                        </td>\n",
       "                        <td style=\"text-align: left;\">\n",
       "                            <strong>Total threads: </strong> 1\n",
       "                        </td>\n",
       "                    </tr>\n",
       "                    <tr>\n",
       "                        <td style=\"text-align: left;\">\n",
       "                            <strong>Dashboard: </strong> <a href=\"http://10.158.100.147:36161/status\" target=\"_blank\">http://10.158.100.147:36161/status</a>\n",
       "                        </td>\n",
       "                        <td style=\"text-align: left;\">\n",
       "                            <strong>Memory: </strong> 9.31 GiB\n",
       "                        </td>\n",
       "                    </tr>\n",
       "                    <tr>\n",
       "                        <td style=\"text-align: left;\">\n",
       "                            <strong>Nanny: </strong> tcp://10.158.100.147:43245\n",
       "                        </td>\n",
       "                        <td style=\"text-align: left;\"></td>\n",
       "                    </tr>\n",
       "                    <tr>\n",
       "                        <td colspan=\"2\" style=\"text-align: left;\">\n",
       "                            <strong>Local directory: </strong> /tmp/zmbc_1717041659_person_linkage_case_study/dask-scratch-space/worker-mzayd5sg\n",
       "                        </td>\n",
       "                    </tr>\n",
       "\n",
       "                    \n",
       "\n",
       "                    \n",
       "\n",
       "                </table>\n",
       "            </details>\n",
       "            </div>\n",
       "        </div>\n",
       "        \n",
       "        <div style=\"margin-bottom: 20px;\">\n",
       "            <div style=\"width: 24px; height: 24px; background-color: #DBF5FF; border: 3px solid #4CC9FF; border-radius: 5px; position: absolute;\"> </div>\n",
       "            <div style=\"margin-left: 48px;\">\n",
       "            <details>\n",
       "                <summary>\n",
       "                    <h4 style=\"margin-bottom: 0px; display: inline;\">Worker: SLURMCluster-5</h4>\n",
       "                </summary>\n",
       "                <table style=\"width: 100%; text-align: left;\">\n",
       "                    <tr>\n",
       "                        <td style=\"text-align: left;\">\n",
       "                            <strong>Comm: </strong> tcp://10.158.100.144:36059\n",
       "                        </td>\n",
       "                        <td style=\"text-align: left;\">\n",
       "                            <strong>Total threads: </strong> 1\n",
       "                        </td>\n",
       "                    </tr>\n",
       "                    <tr>\n",
       "                        <td style=\"text-align: left;\">\n",
       "                            <strong>Dashboard: </strong> <a href=\"http://10.158.100.144:46055/status\" target=\"_blank\">http://10.158.100.144:46055/status</a>\n",
       "                        </td>\n",
       "                        <td style=\"text-align: left;\">\n",
       "                            <strong>Memory: </strong> 9.31 GiB\n",
       "                        </td>\n",
       "                    </tr>\n",
       "                    <tr>\n",
       "                        <td style=\"text-align: left;\">\n",
       "                            <strong>Nanny: </strong> tcp://10.158.100.144:43999\n",
       "                        </td>\n",
       "                        <td style=\"text-align: left;\"></td>\n",
       "                    </tr>\n",
       "                    <tr>\n",
       "                        <td colspan=\"2\" style=\"text-align: left;\">\n",
       "                            <strong>Local directory: </strong> /tmp/zmbc_1717041659_person_linkage_case_study/dask-scratch-space/worker-0tmyd7wm\n",
       "                        </td>\n",
       "                    </tr>\n",
       "\n",
       "                    \n",
       "\n",
       "                    \n",
       "\n",
       "                </table>\n",
       "            </details>\n",
       "            </div>\n",
       "        </div>\n",
       "        \n",
       "        <div style=\"margin-bottom: 20px;\">\n",
       "            <div style=\"width: 24px; height: 24px; background-color: #DBF5FF; border: 3px solid #4CC9FF; border-radius: 5px; position: absolute;\"> </div>\n",
       "            <div style=\"margin-left: 48px;\">\n",
       "            <details>\n",
       "                <summary>\n",
       "                    <h4 style=\"margin-bottom: 0px; display: inline;\">Worker: SLURMCluster-6</h4>\n",
       "                </summary>\n",
       "                <table style=\"width: 100%; text-align: left;\">\n",
       "                    <tr>\n",
       "                        <td style=\"text-align: left;\">\n",
       "                            <strong>Comm: </strong> tcp://10.158.106.7:39117\n",
       "                        </td>\n",
       "                        <td style=\"text-align: left;\">\n",
       "                            <strong>Total threads: </strong> 1\n",
       "                        </td>\n",
       "                    </tr>\n",
       "                    <tr>\n",
       "                        <td style=\"text-align: left;\">\n",
       "                            <strong>Dashboard: </strong> <a href=\"http://10.158.106.7:38091/status\" target=\"_blank\">http://10.158.106.7:38091/status</a>\n",
       "                        </td>\n",
       "                        <td style=\"text-align: left;\">\n",
       "                            <strong>Memory: </strong> 9.31 GiB\n",
       "                        </td>\n",
       "                    </tr>\n",
       "                    <tr>\n",
       "                        <td style=\"text-align: left;\">\n",
       "                            <strong>Nanny: </strong> tcp://10.158.106.7:40801\n",
       "                        </td>\n",
       "                        <td style=\"text-align: left;\"></td>\n",
       "                    </tr>\n",
       "                    <tr>\n",
       "                        <td colspan=\"2\" style=\"text-align: left;\">\n",
       "                            <strong>Local directory: </strong> /tmp/zmbc_1717041659_person_linkage_case_study/dask-scratch-space/worker-gqu95gn6\n",
       "                        </td>\n",
       "                    </tr>\n",
       "\n",
       "                    \n",
       "\n",
       "                    \n",
       "\n",
       "                </table>\n",
       "            </details>\n",
       "            </div>\n",
       "        </div>\n",
       "        \n",
       "        <div style=\"margin-bottom: 20px;\">\n",
       "            <div style=\"width: 24px; height: 24px; background-color: #DBF5FF; border: 3px solid #4CC9FF; border-radius: 5px; position: absolute;\"> </div>\n",
       "            <div style=\"margin-left: 48px;\">\n",
       "            <details>\n",
       "                <summary>\n",
       "                    <h4 style=\"margin-bottom: 0px; display: inline;\">Worker: SLURMCluster-7</h4>\n",
       "                </summary>\n",
       "                <table style=\"width: 100%; text-align: left;\">\n",
       "                    <tr>\n",
       "                        <td style=\"text-align: left;\">\n",
       "                            <strong>Comm: </strong> tcp://10.158.100.147:43557\n",
       "                        </td>\n",
       "                        <td style=\"text-align: left;\">\n",
       "                            <strong>Total threads: </strong> 1\n",
       "                        </td>\n",
       "                    </tr>\n",
       "                    <tr>\n",
       "                        <td style=\"text-align: left;\">\n",
       "                            <strong>Dashboard: </strong> <a href=\"http://10.158.100.147:38969/status\" target=\"_blank\">http://10.158.100.147:38969/status</a>\n",
       "                        </td>\n",
       "                        <td style=\"text-align: left;\">\n",
       "                            <strong>Memory: </strong> 9.31 GiB\n",
       "                        </td>\n",
       "                    </tr>\n",
       "                    <tr>\n",
       "                        <td style=\"text-align: left;\">\n",
       "                            <strong>Nanny: </strong> tcp://10.158.100.147:42493\n",
       "                        </td>\n",
       "                        <td style=\"text-align: left;\"></td>\n",
       "                    </tr>\n",
       "                    <tr>\n",
       "                        <td colspan=\"2\" style=\"text-align: left;\">\n",
       "                            <strong>Local directory: </strong> /tmp/zmbc_1717041659_person_linkage_case_study/dask-scratch-space/worker-4i5t_ilr\n",
       "                        </td>\n",
       "                    </tr>\n",
       "\n",
       "                    \n",
       "\n",
       "                    \n",
       "\n",
       "                </table>\n",
       "            </details>\n",
       "            </div>\n",
       "        </div>\n",
       "        \n",
       "        <div style=\"margin-bottom: 20px;\">\n",
       "            <div style=\"width: 24px; height: 24px; background-color: #DBF5FF; border: 3px solid #4CC9FF; border-radius: 5px; position: absolute;\"> </div>\n",
       "            <div style=\"margin-left: 48px;\">\n",
       "            <details>\n",
       "                <summary>\n",
       "                    <h4 style=\"margin-bottom: 0px; display: inline;\">Worker: SLURMCluster-8</h4>\n",
       "                </summary>\n",
       "                <table style=\"width: 100%; text-align: left;\">\n",
       "                    <tr>\n",
       "                        <td style=\"text-align: left;\">\n",
       "                            <strong>Comm: </strong> tcp://10.158.100.147:38159\n",
       "                        </td>\n",
       "                        <td style=\"text-align: left;\">\n",
       "                            <strong>Total threads: </strong> 1\n",
       "                        </td>\n",
       "                    </tr>\n",
       "                    <tr>\n",
       "                        <td style=\"text-align: left;\">\n",
       "                            <strong>Dashboard: </strong> <a href=\"http://10.158.100.147:33947/status\" target=\"_blank\">http://10.158.100.147:33947/status</a>\n",
       "                        </td>\n",
       "                        <td style=\"text-align: left;\">\n",
       "                            <strong>Memory: </strong> 9.31 GiB\n",
       "                        </td>\n",
       "                    </tr>\n",
       "                    <tr>\n",
       "                        <td style=\"text-align: left;\">\n",
       "                            <strong>Nanny: </strong> tcp://10.158.100.147:41493\n",
       "                        </td>\n",
       "                        <td style=\"text-align: left;\"></td>\n",
       "                    </tr>\n",
       "                    <tr>\n",
       "                        <td colspan=\"2\" style=\"text-align: left;\">\n",
       "                            <strong>Local directory: </strong> /tmp/zmbc_1717041659_person_linkage_case_study/dask-scratch-space/worker-mrkawe2f\n",
       "                        </td>\n",
       "                    </tr>\n",
       "\n",
       "                    \n",
       "\n",
       "                    \n",
       "\n",
       "                </table>\n",
       "            </details>\n",
       "            </div>\n",
       "        </div>\n",
       "        \n",
       "        <div style=\"margin-bottom: 20px;\">\n",
       "            <div style=\"width: 24px; height: 24px; background-color: #DBF5FF; border: 3px solid #4CC9FF; border-radius: 5px; position: absolute;\"> </div>\n",
       "            <div style=\"margin-left: 48px;\">\n",
       "            <details>\n",
       "                <summary>\n",
       "                    <h4 style=\"margin-bottom: 0px; display: inline;\">Worker: SLURMCluster-9</h4>\n",
       "                </summary>\n",
       "                <table style=\"width: 100%; text-align: left;\">\n",
       "                    <tr>\n",
       "                        <td style=\"text-align: left;\">\n",
       "                            <strong>Comm: </strong> tcp://10.158.100.147:38541\n",
       "                        </td>\n",
       "                        <td style=\"text-align: left;\">\n",
       "                            <strong>Total threads: </strong> 1\n",
       "                        </td>\n",
       "                    </tr>\n",
       "                    <tr>\n",
       "                        <td style=\"text-align: left;\">\n",
       "                            <strong>Dashboard: </strong> <a href=\"http://10.158.100.147:38899/status\" target=\"_blank\">http://10.158.100.147:38899/status</a>\n",
       "                        </td>\n",
       "                        <td style=\"text-align: left;\">\n",
       "                            <strong>Memory: </strong> 9.31 GiB\n",
       "                        </td>\n",
       "                    </tr>\n",
       "                    <tr>\n",
       "                        <td style=\"text-align: left;\">\n",
       "                            <strong>Nanny: </strong> tcp://10.158.100.147:39803\n",
       "                        </td>\n",
       "                        <td style=\"text-align: left;\"></td>\n",
       "                    </tr>\n",
       "                    <tr>\n",
       "                        <td colspan=\"2\" style=\"text-align: left;\">\n",
       "                            <strong>Local directory: </strong> /tmp/zmbc_1717041659_person_linkage_case_study/dask-scratch-space/worker-jh9cj9zq\n",
       "                        </td>\n",
       "                    </tr>\n",
       "\n",
       "                    \n",
       "\n",
       "                    \n",
       "\n",
       "                </table>\n",
       "            </details>\n",
       "            </div>\n",
       "        </div>\n",
       "        \n",
       "\n",
       "    </details>\n",
       "</div>\n",
       "\n",
       "        </details>\n",
       "    </div>\n",
       "</div>\n",
       "            </details>\n",
       "        \n",
       "\n",
       "    </div>\n",
       "</div>"
      ],
      "text/plain": [
       "<Client: 'tcp://10.158.96.40:40081' processes=10 threads=10, memory=93.10 GiB>"
      ]
     },
     "metadata": {},
     "output_type": "display_data"
    }
   ],
   "source": [
    "df_ops, pd = distributed_compute.start_compute_engine(\n",
    "    compute_engine,\n",
    "    num_workers=compute_engine_num_workers,\n",
    "    cpus_per_worker=compute_engine_cpus_per_worker,\n",
    "    threads_per_worker=compute_engine_threads_per_worker,\n",
    "    memory_per_worker=compute_engine_memory_per_worker,\n",
    "    worker_walltime=walltime,\n",
    "    local_directory=compute_engine_local_directory,\n",
    "    log_directory=compute_engine_log_directory,\n",
    "    memory_constrained=compute_engine_memory_constrained,\n",
    "    scheduler=compute_engine_scheduler,\n",
    "    queue=queue,\n",
    "    account=account,\n",
    ")"
   ]
  },
  {
   "cell_type": "code",
   "execution_count": 11,
   "id": "3d617fe6-f34e-4d10-a3c3-96c7e37cdb8a",
   "metadata": {
    "execution": {
     "iopub.execute_input": "2024-05-30T04:01:11.095587Z",
     "iopub.status.busy": "2024-05-30T04:01:11.094207Z",
     "iopub.status.idle": "2024-05-30T04:01:11.107173Z",
     "shell.execute_reply": "2024-05-30T04:01:11.104916Z"
    },
    "papermill": {
     "duration": 0.030245,
     "end_time": "2024-05-30T04:01:11.108999",
     "exception": false,
     "start_time": "2024-05-30T04:01:11.078754",
     "status": "completed"
    },
    "tags": []
   },
   "outputs": [],
   "source": [
    "def save_file_with_ground_truth(file_name, file, ground_truth):\n",
    "    # Check that file and ground truth have the same records\n",
    "    assert (\n",
    "        # record_id is unique\n",
    "        len(file) ==\n",
    "        len(df_ops.drop_duplicates(file[['record_id']]))\n",
    "    )\n",
    "    assert (\n",
    "        len(ground_truth) ==\n",
    "        len(file[['record_id']].merge(ground_truth[['record_id']], on='record_id', how='inner'))\n",
    "    )\n",
    "\n",
    "    file_path = f'{output_dir}/{data_to_use}/{file_name}.parquet'\n",
    "    utils.remove_path(file_path)\n",
    "    file.to_parquet(file_path)\n",
    "\n",
    "    ground_truth_path = f'{output_dir}/{data_to_use}/{file_name}_ground_truth.parquet'\n",
    "    utils.remove_path(ground_truth_path)\n",
    "    ground_truth.to_parquet(ground_truth_path)"
   ]
  },
  {
   "cell_type": "markdown",
   "id": "8a08bfa0-f644-4faa-b303-ef24d9a32b86",
   "metadata": {
    "papermill": {
     "duration": 0.013223,
     "end_time": "2024-05-30T04:01:11.137930",
     "exception": false,
     "start_time": "2024-05-30T04:01:11.124707",
     "status": "completed"
    },
    "tags": []
   },
   "source": [
    "## Load pseudopeople simulated datasets"
   ]
  },
  {
   "cell_type": "markdown",
   "id": "e91d26b9-b129-453b-84d0-51d2e366003f",
   "metadata": {
    "papermill": {
     "duration": 0.013469,
     "end_time": "2024-05-30T04:01:11.164863",
     "exception": false,
     "start_time": "2024-05-30T04:01:11.151394",
     "status": "completed"
    },
    "tags": []
   },
   "source": [
    "### Record ID tracking (data lineage)"
   ]
  },
  {
   "cell_type": "markdown",
   "id": "87aab756-5f18-4c62-a014-a4ff88e4f342",
   "metadata": {
    "papermill": {
     "duration": 0.014313,
     "end_time": "2024-05-30T04:01:11.192850",
     "exception": false,
     "start_time": "2024-05-30T04:01:11.178537",
     "status": "completed"
    },
    "tags": []
   },
   "source": [
    "We do a little bit of work here to enable tracking the \"ground truth\" (the simulant IDs from\n",
    "pseudopeople).\n",
    "We give each pseudopeople record/row a unique identifier for tracking, and then we immediately\n",
    "separate the ground truth information (which we would not have if we were using real data)\n",
    "from the rest of the columns (which we would have).\n",
    "The ground truth is only used in the specific \"ground truth\" section of this notebook,\n",
    "to help avoid accidentally leaking information into the case study.\n",
    "\n",
    "Since we also combine/aggregate pseudopeople records as part of the process of generating the\n",
    "simulated reference files, ground truth is a bit more complicated than you might imagine.\n",
    "For example, the ground truth may tell us that a single row in a reference file is actually\n",
    "a composite of several individuals, because even the deterministic linkage (by SSN) we use\n",
    "here is not without error.\n",
    "\n",
    "We handle this by tracking *all* source records used in the construction of each record in\n",
    "our reference files.\n",
    "This is achieved by having a table mapping composite record IDs to the \"source record IDs\"\n",
    "(IDs of records that were directly generated by pseudopeople).\n",
    "When we aggregate records, this is combined accordingly."
   ]
  },
  {
   "cell_type": "code",
   "execution_count": 12,
   "id": "090283e4-4e2f-453c-8896-154689ed5d8f",
   "metadata": {
    "execution": {
     "iopub.execute_input": "2024-05-30T04:01:11.222836Z",
     "iopub.status.busy": "2024-05-30T04:01:11.221803Z",
     "iopub.status.idle": "2024-05-30T04:01:11.235675Z",
     "shell.execute_reply": "2024-05-30T04:01:11.234854Z"
    },
    "papermill": {
     "duration": 0.030926,
     "end_time": "2024-05-30T04:01:11.237247",
     "exception": false,
     "start_time": "2024-05-30T04:01:11.206321",
     "status": "completed"
    },
    "tags": []
   },
   "outputs": [],
   "source": [
    "def add_unique_id_col(df, col_name='unique_id', value_prefix=''):\n",
    "    if compute_engine == 'pandas' or compute_engine.startswith('modin'):\n",
    "        return df.reset_index().rename(columns={'index': col_name}).assign(**{col_name: lambda df: value_prefix + df[col_name].astype(str)})\n",
    "    elif compute_engine.startswith('dask'):\n",
    "        # Can use cumsum as in https://stackoverflow.com/a/60852409/ if it needs\n",
    "        # to be incrementing, but we just need uniqueness\n",
    "\n",
    "        def add_id_to_partition(df_part, partition_info=None):\n",
    "            return (\n",
    "                df_part\n",
    "                    .assign(**{col_name: range(len(df_part))})\n",
    "                    .assign(**{col_name: lambda x: (\n",
    "                            value_prefix +\n",
    "                            str(partition_info['number'] if partition_info is not None else 0) +\n",
    "                            '_' +\n",
    "                            x[col_name].astype(str)\n",
    "                        ).astype('large_string[pyarrow]')}\n",
    "                    )\n",
    "            )\n",
    "\n",
    "        df = df.map_partitions(add_id_to_partition)\n",
    "\n",
    "        return df_ops.ensure_large_string_capacity(df)\n",
    "    else:\n",
    "        raise ValueError()\n",
    "\n",
    "def add_unique_record_id(df, dataset_name):\n",
    "    return add_unique_id_col(df, col_name='record_id', value_prefix=f'{dataset_name}_')\n",
    "\n",
    "# Initializes a table listing the pairs between record_ids and source record_ids.\n",
    "# Should only be called on \"source records\"; that is, records that\n",
    "# come directly out of pseudopeople.\n",
    "def record_id_to_single_source_record_pairs(df, source_col='record_id'):\n",
    "    if source_col == 'record_id':\n",
    "        # We can't have duplicate column names, so we make a new column\n",
    "        # literally called 'source_col'\n",
    "        df = df.assign(source_col=lambda df: df[source_col])\n",
    "        source_col = 'source_col'\n",
    "\n",
    "    return df[['record_id', source_col]].rename(columns={source_col: 'source_record_id'})"
   ]
  },
  {
   "cell_type": "code",
   "execution_count": 13,
   "id": "8cb6694d-1ee4-4826-9064-e8354e00bded",
   "metadata": {
    "execution": {
     "iopub.execute_input": "2024-05-30T04:01:11.310268Z",
     "iopub.status.busy": "2024-05-30T04:01:11.309606Z",
     "iopub.status.idle": "2024-05-30T04:01:11.328390Z",
     "shell.execute_reply": "2024-05-30T04:01:11.327511Z"
    },
    "papermill": {
     "duration": 0.075958,
     "end_time": "2024-05-30T04:01:11.329827",
     "exception": false,
     "start_time": "2024-05-30T04:01:11.253869",
     "status": "completed"
    },
    "tags": []
   },
   "outputs": [],
   "source": [
    "# Operations that aggregate records, combining the source record pairs\n",
    "# between all records that are aggregated\n",
    "\n",
    "def merge_preserving_source_records(dfs, source_record_pairings, new_record_id_prefix, *args, **kwargs):\n",
    "    assert len(dfs) == len(source_record_pairings)\n",
    "    for df in dfs:\n",
    "        assert 'record_id' in df.columns\n",
    "\n",
    "    on = kwargs.get('on', None)\n",
    "    if on is not None:\n",
    "        # If there are nulls in any of the merge columns, they can't match to anything\n",
    "        dfs = [df.dropna(subset=on, how='any') for df in dfs]\n",
    "\n",
    "    result = dfs[0]\n",
    "    source_record_pairs = source_record_pairings[0]\n",
    "    dfs_and_source_record_pairs_to_combine = list(zip(dfs[1:], source_record_pairings[1:]))\n",
    "    for index, (df_to_merge, source_record_pairs_to_merge) in enumerate(dfs_and_source_record_pairs_to_combine):\n",
    "        result = (\n",
    "            result.merge(df_to_merge, *args, **kwargs)\n",
    "        )\n",
    "        if index == len(dfs_and_source_record_pairs_to_combine) - 1:\n",
    "            # Since this is the last step, these are the record_ids that will actually be returned\n",
    "            accumulate_step_record_id_prefix = new_record_id_prefix\n",
    "        else:\n",
    "            # A dummy intermediate -- this shouldn't be exposed to the user\n",
    "            accumulate_step_record_id_prefix = f'merge_iter_{index}'\n",
    "\n",
    "        result = df_ops.rebalance(add_unique_record_id(result, accumulate_step_record_id_prefix))\n",
    "        source_record_pairs = df_ops.concat([\n",
    "            # The pairs that were already in result\n",
    "            source_record_pairs\n",
    "                .rename(columns={'record_id': 'record_id_x'})\n",
    "                .merge(result[['record_id', 'record_id_x']].dropna(how='any'), on='record_id_x')\n",
    "                .drop(columns=['record_id_x']),\n",
    "            # The new ones\n",
    "            source_record_pairs_to_merge\n",
    "                .rename(columns={'record_id': 'record_id_y'})\n",
    "                .merge(result[['record_id', 'record_id_y']].dropna(how='any'), on='record_id_y')\n",
    "                .drop(columns=['record_id_y']),\n",
    "        ])\n",
    "        result = result.drop(columns=['record_id_x', 'record_id_y'])\n",
    "\n",
    "    return result, source_record_pairs\n",
    "\n",
    "\n",
    "def dedupe_preserving_source_records(df, source_record_pairs, columns_to_dedupe, new_record_id_prefix):\n",
    "    result = df_ops.drop_duplicates(df[columns_to_dedupe])\n",
    "    result = add_unique_record_id(result, new_record_id_prefix)\n",
    "    df_to_result_mapping = (\n",
    "        df[['record_id'] + columns_to_dedupe]\n",
    "            .rename(columns={'record_id': 'record_id_pre_dedupe'})\n",
    "            .merge(result, on=columns_to_dedupe)\n",
    "            [['record_id', 'record_id_pre_dedupe']]\n",
    "    )\n",
    "    result_source_record_pairs = (\n",
    "        source_record_pairs\n",
    "            .rename(columns={'record_id': 'record_id_pre_dedupe'})\n",
    "            .merge(df_to_result_mapping, on='record_id_pre_dedupe')\n",
    "            .drop(columns=['record_id_pre_dedupe'])\n",
    "    )\n",
    "    return result, result_source_record_pairs\n",
    "\n",
    "\n",
    "def concat_preserving_source_records(dfs, source_record_pairings, new_record_id_prefix):\n",
    "    dfs = [df.rename(columns={'record_id': 'record_id_pre_concat'}) for df in dfs]\n",
    "    result = df_ops.concat(dfs, ignore_index=True)\n",
    "    result = add_unique_record_id(result, new_record_id_prefix)\n",
    "\n",
    "    record_id_mapping = (\n",
    "        result[['record_id', 'record_id_pre_concat']]\n",
    "    )\n",
    "    validate_kwarg = {\n",
    "        'validate': 'm:1',\n",
    "    } if not compute_engine.startswith('dask') else {} # Dask doesn't support validate\n",
    "\n",
    "    all_source_record_pairings = df_ops.persist(df_ops.concat(source_record_pairings, ignore_index=False))\n",
    "    result_source_record_pairs = df_ops.persist(\n",
    "        all_source_record_pairings\n",
    "            .rename(columns={'record_id': 'record_id_pre_concat'})\n",
    "            .merge(record_id_mapping, on='record_id_pre_concat', **validate_kwarg)\n",
    "            .drop(columns=['record_id_pre_concat'])\n",
    "    )\n",
    "\n",
    "    if compute_engine.startswith('dask'):\n",
    "        # Manual alternative to the 'validate' kwarg\n",
    "        assert len(result_source_record_pairs) == len(all_source_record_pairings)\n",
    "\n",
    "    return result.drop(columns=['record_id_pre_concat']), result_source_record_pairs"
   ]
  },
  {
   "cell_type": "markdown",
   "id": "ebe6d46d-4188-492a-a586-dda76a5e546b",
   "metadata": {
    "papermill": {
     "duration": 0.013601,
     "end_time": "2024-05-30T04:01:11.362152",
     "exception": false,
     "start_time": "2024-05-30T04:01:11.348551",
     "status": "completed"
    },
    "tags": []
   },
   "source": [
    "### Custom noise types\n",
    "\n",
    "A few noise types are really important here, but not implemented in pseudopeople, so we implement them as \"add-ons.\""
   ]
  },
  {
   "cell_type": "code",
   "execution_count": 14,
   "id": "96eacdf9-c72b-4b38-8882-76cd238555c2",
   "metadata": {
    "execution": {
     "iopub.execute_input": "2024-05-30T04:01:11.391837Z",
     "iopub.status.busy": "2024-05-30T04:01:11.391203Z",
     "iopub.status.idle": "2024-05-30T04:01:11.408777Z",
     "shell.execute_reply": "2024-05-30T04:01:11.407972Z"
    },
    "papermill": {
     "duration": 0.034828,
     "end_time": "2024-05-30T04:01:11.410610",
     "exception": false,
     "start_time": "2024-05-30T04:01:11.375782",
     "status": "completed"
    },
    "tags": []
   },
   "outputs": [],
   "source": [
    "def split_columns_incorrectly(df: pandas.DataFrame, columns: list[str], row_probability: float, seed: int = 1234):\n",
    "    rng = numpy.random.default_rng(seed)\n",
    "\n",
    "    to_split_incorrectly = pandas.Series(rng.random(len(df)) < row_probability, index=df.index)\n",
    "    full_name = df.loc[to_split_incorrectly, columns].fillna('').agg(' '.join, axis=1).str.strip()\n",
    "\n",
    "    num_spaces_or_hyphens = full_name.str.count('[ -]')\n",
    "    split_name = full_name.str.split('[ -]', regex=True, expand=True).fillna('').values\n",
    "\n",
    "    split_points = numpy.ceil(\n",
    "        numpy.sort(rng.random((len(full_name), len(columns) - 1)), axis=1) * num_spaces_or_hyphens.values.reshape((len(full_name), 1))\n",
    "    ).astype(int)\n",
    "    string_start_points_1d = numpy.arange(split_name.shape[0], dtype=int) * split_name.shape[1]\n",
    "    string_end_points_1d = numpy.append(string_start_points_1d[1:], [split_name.shape[0] * split_name.shape[1]])\n",
    "    last_split_points_1d = None\n",
    "\n",
    "    for split_index, column_name in enumerate(columns):\n",
    "        # Map into 1D space\n",
    "        new_column = split_name.copy().reshape(-1)\n",
    "\n",
    "        if last_split_points_1d is not None:\n",
    "            erase_before_slices = tuple(\n",
    "                slice(string_start_point, last_split_point)\n",
    "                for string_start_point, last_split_point in zip(string_start_points_1d, last_split_points_1d)\n",
    "            )\n",
    "        else:\n",
    "            erase_before_slices = tuple()\n",
    "\n",
    "        if split_index < split_points.shape[1]:\n",
    "            split_points_1d = numpy.arange(split_name.shape[0], dtype=int) * split_name.shape[1] + split_points[:, split_index]\n",
    "            erase_after_slices = tuple(\n",
    "                slice(split_point, string_end_point)\n",
    "                for split_point, string_end_point in zip(split_points_1d, string_end_points_1d)\n",
    "            )\n",
    "        else:\n",
    "            erase_after_slices = tuple()\n",
    "\n",
    "        new_column[numpy.r_[erase_before_slices + erase_after_slices]] = ''\n",
    "        new_column[new_column != ''] += ' '\n",
    "        df.loc[to_split_incorrectly, column_name] = (new_column.reshape(split_name.shape)).sum(axis=1)\n",
    "        df.loc[to_split_incorrectly, column_name] = df.loc[to_split_incorrectly, column_name].str.strip()\n",
    "\n",
    "        last_split_points_1d = split_points_1d\n",
    "\n",
    "    return df"
   ]
  },
  {
   "cell_type": "code",
   "execution_count": 15,
   "id": "8dbb8945-e5c7-4dc3-8387-023dbaef3fa0",
   "metadata": {
    "execution": {
     "iopub.execute_input": "2024-05-30T04:01:11.445315Z",
     "iopub.status.busy": "2024-05-30T04:01:11.444564Z",
     "iopub.status.idle": "2024-05-30T04:01:11.453457Z",
     "shell.execute_reply": "2024-05-30T04:01:11.452490Z"
    },
    "papermill": {
     "duration": 0.025824,
     "end_time": "2024-05-30T04:01:11.454620",
     "exception": false,
     "start_time": "2024-05-30T04:01:11.428796",
     "status": "completed"
    },
    "tags": []
   },
   "outputs": [],
   "source": [
    "def shuffle_columns(df: pandas.DataFrame, columns: list[str], row_probability: float, seed: int = 1234):\n",
    "    rng = numpy.random.default_rng(seed)\n",
    "\n",
    "    to_shuffle = pandas.Series(rng.random(len(df)) < row_probability, index=df.index)\n",
    "    original_values = df.loc[to_shuffle, columns].values\n",
    "    random_ordering = numpy.argsort(rng.random(original_values.shape), axis=1)\n",
    "    df.loc[to_shuffle, columns] = numpy.take_along_axis(original_values, random_ordering, axis=1)\n",
    "    \n",
    "    return df"
   ]
  },
  {
   "cell_type": "code",
   "execution_count": 16,
   "id": "c87d4bd4-95fa-4931-a8a9-4887dcf03d55",
   "metadata": {
    "execution": {
     "iopub.execute_input": "2024-05-30T04:01:11.487830Z",
     "iopub.status.busy": "2024-05-30T04:01:11.487138Z",
     "iopub.status.idle": "2024-05-30T04:01:11.495490Z",
     "shell.execute_reply": "2024-05-30T04:01:11.494440Z"
    },
    "papermill": {
     "duration": 0.026346,
     "end_time": "2024-05-30T04:01:11.496734",
     "exception": false,
     "start_time": "2024-05-30T04:01:11.470388",
     "status": "completed"
    },
    "tags": []
   },
   "outputs": [],
   "source": [
    "def truncate_column(df: pandas.DataFrame, column: str, cell_probability: float, truncation_length: int, seed: int = 1234):\n",
    "    rng = numpy.random.default_rng(seed)\n",
    "    to_truncate = pandas.Series(rng.random(len(df)) < cell_probability, index=df.index)\n",
    "    df.loc[to_truncate, 'last_name'] = df.loc[to_truncate, 'last_name'].str[:truncation_length]\n",
    "    return df"
   ]
  },
  {
   "cell_type": "code",
   "execution_count": 17,
   "id": "14c682ac-0533-4418-a9b8-2753aa42727b",
   "metadata": {
    "execution": {
     "iopub.execute_input": "2024-05-30T04:01:11.527855Z",
     "iopub.status.busy": "2024-05-30T04:01:11.527105Z",
     "iopub.status.idle": "2024-05-30T04:01:11.536772Z",
     "shell.execute_reply": "2024-05-30T04:01:11.535881Z"
    },
    "papermill": {
     "duration": 0.026111,
     "end_time": "2024-05-30T04:01:11.537897",
     "exception": false,
     "start_time": "2024-05-30T04:01:11.511786",
     "status": "completed"
    },
    "tags": []
   },
   "outputs": [],
   "source": [
    "def apply_custom_noise_type(df, noise_type, *args, seed: int = 1234, **kwargs):\n",
    "    if compute_engine.startswith('dask'):\n",
    "        return df.map_partitions(lambda partition, partition_info=None: noise_type(\n",
    "            partition,\n",
    "            *args,\n",
    "            seed=(seed + (partition_info['number'] if partition_info is not None else 1) * 10_000),\n",
    "            **kwargs,\n",
    "        ), meta=df)\n",
    "    else:\n",
    "        return noise_type(\n",
    "            df,\n",
    "            *args,\n",
    "            seed=seed,\n",
    "            **kwargs,\n",
    "        )"
   ]
  },
  {
   "cell_type": "markdown",
   "id": "5fe8e46b-f936-4704-b120-9bbcbce6c3e9",
   "metadata": {
    "papermill": {
     "duration": 0.013695,
     "end_time": "2024-05-30T04:01:11.565874",
     "exception": false,
     "start_time": "2024-05-30T04:01:11.552179",
     "status": "completed"
    },
    "tags": []
   },
   "source": [
    "### 1040 tax filings\n",
    "\n",
    "We assume that the last 5 years of taxes would be available and used in the construction of the reference files -- see section about reference files below.\n",
    "\n",
    "Note that these are retrieved by *tax* year, so the 2029 taxes would be available in early 2030\n",
    "(around when our hypothetical case study is taking place)."
   ]
  },
  {
   "cell_type": "code",
   "execution_count": 18,
   "id": "8157a22b-45f3-4fc1-803e-4670a554b23f",
   "metadata": {
    "execution": {
     "iopub.execute_input": "2024-05-30T04:01:11.596253Z",
     "iopub.status.busy": "2024-05-30T04:01:11.595312Z",
     "iopub.status.idle": "2024-05-30T04:01:11.610006Z",
     "shell.execute_reply": "2024-05-30T04:01:11.607733Z"
    },
    "papermill": {
     "duration": 0.031681,
     "end_time": "2024-05-30T04:01:11.611694",
     "exception": false,
     "start_time": "2024-05-30T04:01:11.580013",
     "status": "completed"
    },
    "tags": []
   },
   "outputs": [
    {
     "data": {
      "text/plain": [
       "[2025, 2026, 2027, 2028, 2029]"
      ]
     },
     "execution_count": 18,
     "metadata": {},
     "output_type": "execute_result"
    }
   ],
   "source": [
    "tax_years = list(range(2025, 2030))\n",
    "tax_years"
   ]
  },
  {
   "cell_type": "code",
   "execution_count": 19,
   "id": "c8df3663-c547-48c1-b8e1-669ebfbdaeec",
   "metadata": {
    "execution": {
     "iopub.execute_input": "2024-05-30T04:01:11.645858Z",
     "iopub.status.busy": "2024-05-30T04:01:11.645102Z",
     "iopub.status.idle": "2024-05-30T04:01:18.586828Z",
     "shell.execute_reply": "2024-05-30T04:01:18.585588Z"
    },
    "papermill": {
     "duration": 6.959295,
     "end_time": "2024-05-30T04:01:18.588916",
     "exception": false,
     "start_time": "2024-05-30T04:01:11.629621",
     "status": "completed"
    },
    "tags": []
   },
   "outputs": [
    {
     "name": "stdout",
     "output_type": "stream",
     "text": [
      "Imbalanced dataframe: too_few=True, too_many=False, too_large=False\n",
      "count          1.0\n",
      "mean     1181818.0\n",
      "std            NaN\n",
      "min      1181818.0\n",
      "25%      1181818.0\n",
      "50%      1181818.0\n",
      "75%      1181818.0\n",
      "max      1181818.0\n",
      "dtype: float64\n",
      "Leaving as a single partition\n"
     ]
    },
    {
     "name": "stdout",
     "output_type": "stream",
     "text": [
      "Imbalanced dataframe: too_few=True, too_many=False, too_large=False\n",
      "count          1.0\n",
      "mean     1204455.0\n",
      "std            NaN\n",
      "min      1204455.0\n",
      "25%      1204455.0\n",
      "50%      1204455.0\n",
      "75%      1204455.0\n",
      "max      1204455.0\n",
      "dtype: float64\n",
      "Leaving as a single partition\n"
     ]
    },
    {
     "name": "stdout",
     "output_type": "stream",
     "text": [
      "Imbalanced dataframe: too_few=True, too_many=False, too_large=False\n",
      "count          1.0\n",
      "mean     1242447.0\n",
      "std            NaN\n",
      "min      1242447.0\n",
      "25%      1242447.0\n",
      "50%      1242447.0\n",
      "75%      1242447.0\n",
      "max      1242447.0\n",
      "dtype: float64\n",
      "Leaving as a single partition\n"
     ]
    },
    {
     "name": "stdout",
     "output_type": "stream",
     "text": [
      "Imbalanced dataframe: too_few=True, too_many=False, too_large=False\n",
      "count          1.0\n",
      "mean     1258832.0\n",
      "std            NaN\n",
      "min      1258832.0\n",
      "25%      1258832.0\n",
      "50%      1258832.0\n",
      "75%      1258832.0\n",
      "max      1258832.0\n",
      "dtype: float64\n",
      "Leaving as a single partition\n"
     ]
    },
    {
     "name": "stdout",
     "output_type": "stream",
     "text": [
      "Imbalanced dataframe: too_few=True, too_many=False, too_large=False\n",
      "count          1.0\n",
      "mean     1273999.0\n",
      "std            NaN\n",
      "min      1273999.0\n",
      "25%      1273999.0\n",
      "50%      1273999.0\n",
      "75%      1273999.0\n",
      "max      1273999.0\n",
      "dtype: float64\n",
      "Leaving as a single partition\n",
      "CPU times: user 747 ms, sys: 85.2 ms, total: 832 ms\n",
      "Wall time: 6.93 s\n"
     ]
    }
   ],
   "source": [
    "%%time\n",
    "\n",
    "# Combine 1040 for all years.\n",
    "simulated_taxes_1040 = df_ops.concat([\n",
    "    df_ops.read_parquet(\n",
    "        f'{output_dir}/{data_to_use}/pseudopeople_simulated_datasets/simulated_taxes_1040_{year}.parquet',\n",
    "        columns=[\n",
    "            'simulant_id',\n",
    "            'ssn',\n",
    "            'first_name',\n",
    "            'middle_initial',\n",
    "            'last_name',\n",
    "            'mailing_address_street_number',\n",
    "            'mailing_address_street_name',\n",
    "            'mailing_address_unit_number',\n",
    "            'mailing_address_po_box',\n",
    "            'mailing_address_city',\n",
    "            'mailing_address_state',\n",
    "            'mailing_address_zipcode',\n",
    "        ],\n",
    "    )\n",
    "    for year in tax_years\n",
    "], ignore_index=True)"
   ]
  },
  {
   "cell_type": "code",
   "execution_count": 20,
   "id": "4f72c1ac-dbf4-40dc-acdc-10d406938d19",
   "metadata": {
    "execution": {
     "iopub.execute_input": "2024-05-30T04:01:18.630145Z",
     "iopub.status.busy": "2024-05-30T04:01:18.629352Z",
     "iopub.status.idle": "2024-05-30T04:01:18.643936Z",
     "shell.execute_reply": "2024-05-30T04:01:18.643192Z"
    },
    "papermill": {
     "duration": 0.032514,
     "end_time": "2024-05-30T04:01:18.645533",
     "exception": false,
     "start_time": "2024-05-30T04:01:18.613019",
     "status": "completed"
    },
    "tags": []
   },
   "outputs": [],
   "source": [
    "simulated_taxes_1040 = apply_custom_noise_type(\n",
    "    simulated_taxes_1040,\n",
    "    split_columns_incorrectly,\n",
    "    ['first_name', 'middle_initial', 'last_name'],\n",
    "    row_probability=0.01,\n",
    "    seed=1,\n",
    ")"
   ]
  },
  {
   "cell_type": "code",
   "execution_count": 21,
   "id": "25a0dfbe-f3be-4847-9f26-c3f9f68e508b",
   "metadata": {
    "execution": {
     "iopub.execute_input": "2024-05-30T04:01:18.679701Z",
     "iopub.status.busy": "2024-05-30T04:01:18.678966Z",
     "iopub.status.idle": "2024-05-30T04:01:18.692115Z",
     "shell.execute_reply": "2024-05-30T04:01:18.691331Z"
    },
    "papermill": {
     "duration": 0.030721,
     "end_time": "2024-05-30T04:01:18.693617",
     "exception": false,
     "start_time": "2024-05-30T04:01:18.662896",
     "status": "completed"
    },
    "tags": []
   },
   "outputs": [],
   "source": [
    "# \"... many of the [IRS] records contain only the first four letters of the last name.\"\n",
    "# (Brown et al. 2023, p.30, footnote 19)\n",
    "# Note that this truncation only matters for ITIN PIKing since for SSNs that are present in SSA we use name from SSA.\n",
    "PROPORTION_OF_IRS_RECORDS_WITH_TRUNCATION = 0.4 # is this a good guess at \"many\" in the quote above?\n",
    "simulated_taxes_1040 = apply_custom_noise_type(\n",
    "    simulated_taxes_1040,\n",
    "    truncate_column,\n",
    "    'last_name',\n",
    "    cell_probability=PROPORTION_OF_IRS_RECORDS_WITH_TRUNCATION,\n",
    "    truncation_length=4,\n",
    "    seed=2,\n",
    ")"
   ]
  },
  {
   "cell_type": "code",
   "execution_count": 22,
   "id": "de591252-0bce-4e65-9269-708c02028a52",
   "metadata": {
    "execution": {
     "iopub.execute_input": "2024-05-30T04:01:18.726841Z",
     "iopub.status.busy": "2024-05-30T04:01:18.726092Z",
     "iopub.status.idle": "2024-05-30T04:01:18.738751Z",
     "shell.execute_reply": "2024-05-30T04:01:18.737799Z"
    },
    "papermill": {
     "duration": 0.029985,
     "end_time": "2024-05-30T04:01:18.740432",
     "exception": false,
     "start_time": "2024-05-30T04:01:18.710447",
     "status": "completed"
    },
    "tags": []
   },
   "outputs": [],
   "source": [
    "simulated_taxes_1040 = apply_custom_noise_type(\n",
    "    simulated_taxes_1040,\n",
    "    shuffle_columns,\n",
    "    ['first_name', 'middle_initial', 'last_name'],\n",
    "    row_probability=0.01,\n",
    "    seed=3,\n",
    ")"
   ]
  },
  {
   "cell_type": "code",
   "execution_count": 23,
   "id": "d8dd6b79-ee7a-4942-b6fd-bfa0804c1880",
   "metadata": {
    "execution": {
     "iopub.execute_input": "2024-05-30T04:01:18.772425Z",
     "iopub.status.busy": "2024-05-30T04:01:18.771830Z",
     "iopub.status.idle": "2024-05-30T04:01:18.858924Z",
     "shell.execute_reply": "2024-05-30T04:01:18.855581Z"
    },
    "papermill": {
     "duration": 0.107226,
     "end_time": "2024-05-30T04:01:18.864172",
     "exception": false,
     "start_time": "2024-05-30T04:01:18.756946",
     "status": "completed"
    },
    "tags": []
   },
   "outputs": [],
   "source": [
    "simulated_taxes_1040 = df_ops.persist(add_unique_record_id(simulated_taxes_1040, 'simulated_1040'))\n",
    "simulated_taxes_1040_source_record_pairs = df_ops.persist(record_id_to_single_source_record_pairs(simulated_taxes_1040))"
   ]
  },
  {
   "cell_type": "code",
   "execution_count": 24,
   "id": "76c53fed-1cf8-4ec1-ae97-10c39d12d92e",
   "metadata": {
    "execution": {
     "iopub.execute_input": "2024-05-30T04:01:18.918995Z",
     "iopub.status.busy": "2024-05-30T04:01:18.918247Z",
     "iopub.status.idle": "2024-05-30T04:01:19.037323Z",
     "shell.execute_reply": "2024-05-30T04:01:19.036638Z"
    },
    "papermill": {
     "duration": 0.149266,
     "end_time": "2024-05-30T04:01:19.041634",
     "exception": false,
     "start_time": "2024-05-30T04:01:18.892368",
     "status": "completed"
    },
    "tags": []
   },
   "outputs": [
    {
     "data": {
      "text/html": [
       "<div><strong>Dask DataFrame Structure:</strong></div>\n",
       "<div>\n",
       "<style scoped>\n",
       "    .dataframe tbody tr th:only-of-type {\n",
       "        vertical-align: middle;\n",
       "    }\n",
       "\n",
       "    .dataframe tbody tr th {\n",
       "        vertical-align: top;\n",
       "    }\n",
       "\n",
       "    .dataframe thead th {\n",
       "        text-align: right;\n",
       "    }\n",
       "</style>\n",
       "<table border=\"1\" class=\"dataframe\">\n",
       "  <thead>\n",
       "    <tr style=\"text-align: right;\">\n",
       "      <th></th>\n",
       "      <th>ssn</th>\n",
       "      <th>first_name</th>\n",
       "      <th>middle_initial</th>\n",
       "      <th>last_name</th>\n",
       "      <th>mailing_address_street_number</th>\n",
       "      <th>mailing_address_street_name</th>\n",
       "      <th>mailing_address_unit_number</th>\n",
       "      <th>mailing_address_po_box</th>\n",
       "      <th>mailing_address_city</th>\n",
       "      <th>mailing_address_state</th>\n",
       "      <th>mailing_address_zipcode</th>\n",
       "      <th>record_id</th>\n",
       "    </tr>\n",
       "    <tr>\n",
       "      <th>npartitions=5</th>\n",
       "      <th></th>\n",
       "      <th></th>\n",
       "      <th></th>\n",
       "      <th></th>\n",
       "      <th></th>\n",
       "      <th></th>\n",
       "      <th></th>\n",
       "      <th></th>\n",
       "      <th></th>\n",
       "      <th></th>\n",
       "      <th></th>\n",
       "      <th></th>\n",
       "    </tr>\n",
       "  </thead>\n",
       "  <tbody>\n",
       "    <tr>\n",
       "      <th></th>\n",
       "      <td>string</td>\n",
       "      <td>string</td>\n",
       "      <td>string</td>\n",
       "      <td>string</td>\n",
       "      <td>string</td>\n",
       "      <td>string</td>\n",
       "      <td>string</td>\n",
       "      <td>string</td>\n",
       "      <td>string</td>\n",
       "      <td>category[unknown]</td>\n",
       "      <td>string</td>\n",
       "      <td>string</td>\n",
       "    </tr>\n",
       "    <tr>\n",
       "      <th></th>\n",
       "      <td>...</td>\n",
       "      <td>...</td>\n",
       "      <td>...</td>\n",
       "      <td>...</td>\n",
       "      <td>...</td>\n",
       "      <td>...</td>\n",
       "      <td>...</td>\n",
       "      <td>...</td>\n",
       "      <td>...</td>\n",
       "      <td>...</td>\n",
       "      <td>...</td>\n",
       "      <td>...</td>\n",
       "    </tr>\n",
       "    <tr>\n",
       "      <th>...</th>\n",
       "      <td>...</td>\n",
       "      <td>...</td>\n",
       "      <td>...</td>\n",
       "      <td>...</td>\n",
       "      <td>...</td>\n",
       "      <td>...</td>\n",
       "      <td>...</td>\n",
       "      <td>...</td>\n",
       "      <td>...</td>\n",
       "      <td>...</td>\n",
       "      <td>...</td>\n",
       "      <td>...</td>\n",
       "    </tr>\n",
       "    <tr>\n",
       "      <th></th>\n",
       "      <td>...</td>\n",
       "      <td>...</td>\n",
       "      <td>...</td>\n",
       "      <td>...</td>\n",
       "      <td>...</td>\n",
       "      <td>...</td>\n",
       "      <td>...</td>\n",
       "      <td>...</td>\n",
       "      <td>...</td>\n",
       "      <td>...</td>\n",
       "      <td>...</td>\n",
       "      <td>...</td>\n",
       "    </tr>\n",
       "    <tr>\n",
       "      <th></th>\n",
       "      <td>...</td>\n",
       "      <td>...</td>\n",
       "      <td>...</td>\n",
       "      <td>...</td>\n",
       "      <td>...</td>\n",
       "      <td>...</td>\n",
       "      <td>...</td>\n",
       "      <td>...</td>\n",
       "      <td>...</td>\n",
       "      <td>...</td>\n",
       "      <td>...</td>\n",
       "      <td>...</td>\n",
       "    </tr>\n",
       "  </tbody>\n",
       "</table>\n",
       "</div>\n",
       "<div>Dask Name: drop_by_shallow_copy, 1 graph layer</div>"
      ],
      "text/plain": [
       "Dask DataFrame Structure:\n",
       "                  ssn first_name middle_initial last_name mailing_address_street_number mailing_address_street_name mailing_address_unit_number mailing_address_po_box mailing_address_city mailing_address_state mailing_address_zipcode record_id\n",
       "npartitions=5                                                                                                                                                                                                                                      \n",
       "               string     string         string    string                        string                      string                      string                 string               string     category[unknown]                  string    string\n",
       "                  ...        ...            ...       ...                           ...                         ...                         ...                    ...                  ...                   ...                     ...       ...\n",
       "...               ...        ...            ...       ...                           ...                         ...                         ...                    ...                  ...                   ...                     ...       ...\n",
       "                  ...        ...            ...       ...                           ...                         ...                         ...                    ...                  ...                   ...                     ...       ...\n",
       "                  ...        ...            ...       ...                           ...                         ...                         ...                    ...                  ...                   ...                     ...       ...\n",
       "Dask Name: drop_by_shallow_copy, 1 graph layer"
      ]
     },
     "execution_count": 24,
     "metadata": {},
     "output_type": "execute_result"
    }
   ],
   "source": [
    "simulated_taxes_1040_ground_truth = simulated_taxes_1040[['record_id', 'simulant_id']]\n",
    "simulated_taxes_1040 = simulated_taxes_1040.drop(columns=['simulant_id'])\n",
    "simulated_taxes_1040, simulated_taxes_1040_ground_truth = df_ops.persist(simulated_taxes_1040, simulated_taxes_1040_ground_truth)\n",
    "simulated_taxes_1040"
   ]
  },
  {
   "cell_type": "markdown",
   "id": "d8bad94f-c803-41e0-bf17-9ecfdb56cdbd",
   "metadata": {
    "papermill": {
     "duration": 0.014638,
     "end_time": "2024-05-30T04:01:19.075784",
     "exception": false,
     "start_time": "2024-05-30T04:01:19.061146",
     "status": "completed"
    },
    "tags": []
   },
   "source": [
    "### W2/1099 tax filings\n",
    "\n",
    "We assume that the last 5 years of taxes would be available and used in the construction of the reference files --\n",
    "see section about reference files below.\n",
    "\n",
    "Note that these are retrieved by *tax* year, so the 2029 taxes would be available in early 2030\n",
    "(around when our hypothetical case study is taking place)."
   ]
  },
  {
   "cell_type": "code",
   "execution_count": 25,
   "id": "2c072c69-f7c7-4bf1-b99e-48c3257063ba",
   "metadata": {
    "execution": {
     "iopub.execute_input": "2024-05-30T04:01:19.106027Z",
     "iopub.status.busy": "2024-05-30T04:01:19.105506Z",
     "iopub.status.idle": "2024-05-30T04:01:19.859906Z",
     "shell.execute_reply": "2024-05-30T04:01:19.857353Z"
    },
    "papermill": {
     "duration": 0.773488,
     "end_time": "2024-05-30T04:01:19.863397",
     "exception": false,
     "start_time": "2024-05-30T04:01:19.089909",
     "status": "completed"
    },
    "tags": []
   },
   "outputs": [
    {
     "name": "stdout",
     "output_type": "stream",
     "text": [
      "Imbalanced dataframe: too_few=True, too_many=False, too_large=False\n",
      "count          1.0\n",
      "mean     1673327.0\n",
      "std            NaN\n",
      "min      1673327.0\n",
      "25%      1673327.0\n",
      "50%      1673327.0\n",
      "75%      1673327.0\n",
      "max      1673327.0\n",
      "dtype: float64\n",
      "Leaving as a single partition\n",
      "Imbalanced dataframe: too_few=True, too_many=False, too_large=False\n",
      "count          1.0\n",
      "mean     1650460.0\n",
      "std            NaN\n",
      "min      1650460.0\n",
      "25%      1650460.0\n",
      "50%      1650460.0\n",
      "75%      1650460.0\n",
      "max      1650460.0\n",
      "dtype: float64\n",
      "Leaving as a single partition\n"
     ]
    },
    {
     "name": "stdout",
     "output_type": "stream",
     "text": [
      "Imbalanced dataframe: too_few=True, too_many=False, too_large=False\n",
      "count          1.0\n",
      "mean     1707592.0\n",
      "std            NaN\n",
      "min      1707592.0\n",
      "25%      1707592.0\n",
      "50%      1707592.0\n",
      "75%      1707592.0\n",
      "max      1707592.0\n",
      "dtype: float64\n",
      "Leaving as a single partition\n",
      "Imbalanced dataframe: too_few=True, too_many=False, too_large=False\n",
      "count          1.0\n",
      "mean     1695902.0\n",
      "std            NaN\n",
      "min      1695902.0\n",
      "25%      1695902.0\n",
      "50%      1695902.0\n",
      "75%      1695902.0\n",
      "max      1695902.0\n",
      "dtype: float64\n",
      "Leaving as a single partition\n"
     ]
    },
    {
     "name": "stdout",
     "output_type": "stream",
     "text": [
      "Imbalanced dataframe: too_few=True, too_many=False, too_large=False\n",
      "count          1.0\n",
      "mean     1709385.0\n",
      "std            NaN\n",
      "min      1709385.0\n",
      "25%      1709385.0\n",
      "50%      1709385.0\n",
      "75%      1709385.0\n",
      "max      1709385.0\n",
      "dtype: float64\n",
      "Leaving as a single partition\n",
      "CPU times: user 417 ms, sys: 19 ms, total: 436 ms\n",
      "Wall time: 743 ms\n"
     ]
    }
   ],
   "source": [
    "%%time\n",
    "\n",
    "# Combine W2/1099 for all years.\n",
    "simulated_w2_1099 = df_ops.concat([\n",
    "    df_ops.read_parquet(\n",
    "        f'{output_dir}/{data_to_use}/pseudopeople_simulated_datasets/simulated_taxes_w2_and_1099_{year}.parquet',\n",
    "        columns=[\n",
    "            'simulant_id',\n",
    "            'ssn',\n",
    "            'first_name',\n",
    "            'middle_initial',\n",
    "            'last_name',\n",
    "            'mailing_address_street_number',\n",
    "            'mailing_address_street_name',\n",
    "            'mailing_address_unit_number',\n",
    "            'mailing_address_po_box',\n",
    "            'mailing_address_city',\n",
    "            'mailing_address_state',\n",
    "            'mailing_address_zipcode',\n",
    "        ],\n",
    "    )\n",
    "    for year in tax_years\n",
    "], ignore_index=True)"
   ]
  },
  {
   "cell_type": "code",
   "execution_count": 26,
   "id": "0b1e35ee-d2dd-4fa0-ac4c-abc3cac65cfc",
   "metadata": {
    "execution": {
     "iopub.execute_input": "2024-05-30T04:01:19.901217Z",
     "iopub.status.busy": "2024-05-30T04:01:19.900424Z",
     "iopub.status.idle": "2024-05-30T04:01:19.913929Z",
     "shell.execute_reply": "2024-05-30T04:01:19.912991Z"
    },
    "papermill": {
     "duration": 0.030846,
     "end_time": "2024-05-30T04:01:19.915248",
     "exception": false,
     "start_time": "2024-05-30T04:01:19.884402",
     "status": "completed"
    },
    "tags": []
   },
   "outputs": [],
   "source": [
    "simulated_w2_1099 = apply_custom_noise_type(\n",
    "    simulated_w2_1099,\n",
    "    split_columns_incorrectly,\n",
    "    ['first_name', 'middle_initial', 'last_name'],\n",
    "    row_probability=0.01,\n",
    "    seed=4,\n",
    ")"
   ]
  },
  {
   "cell_type": "code",
   "execution_count": 27,
   "id": "5e66f562-b58f-4f6f-821a-6260e00737db",
   "metadata": {
    "execution": {
     "iopub.execute_input": "2024-05-30T04:01:19.949973Z",
     "iopub.status.busy": "2024-05-30T04:01:19.949238Z",
     "iopub.status.idle": "2024-05-30T04:01:19.962955Z",
     "shell.execute_reply": "2024-05-30T04:01:19.962036Z"
    },
    "papermill": {
     "duration": 0.031306,
     "end_time": "2024-05-30T04:01:19.964354",
     "exception": false,
     "start_time": "2024-05-30T04:01:19.933048",
     "status": "completed"
    },
    "tags": []
   },
   "outputs": [],
   "source": [
    "simulated_w2_1099 = apply_custom_noise_type(\n",
    "    simulated_w2_1099,\n",
    "    truncate_column,\n",
    "    'last_name',\n",
    "    cell_probability=PROPORTION_OF_IRS_RECORDS_WITH_TRUNCATION,\n",
    "    truncation_length=4,\n",
    "    seed=5,\n",
    ")"
   ]
  },
  {
   "cell_type": "code",
   "execution_count": 28,
   "id": "fb6310e4-65ac-40f5-b060-791b58d42676",
   "metadata": {
    "execution": {
     "iopub.execute_input": "2024-05-30T04:01:19.999815Z",
     "iopub.status.busy": "2024-05-30T04:01:19.999096Z",
     "iopub.status.idle": "2024-05-30T04:01:20.011986Z",
     "shell.execute_reply": "2024-05-30T04:01:20.011072Z"
    },
    "papermill": {
     "duration": 0.031125,
     "end_time": "2024-05-30T04:01:20.013357",
     "exception": false,
     "start_time": "2024-05-30T04:01:19.982232",
     "status": "completed"
    },
    "tags": []
   },
   "outputs": [],
   "source": [
    "simulated_w2_1099 = apply_custom_noise_type(\n",
    "    simulated_w2_1099,\n",
    "    shuffle_columns,\n",
    "    ['first_name', 'middle_initial', 'last_name'],\n",
    "    row_probability=0.01,\n",
    "    seed=6\n",
    ")"
   ]
  },
  {
   "cell_type": "code",
   "execution_count": 29,
   "id": "9d63dfd5-3cca-4bf0-8683-6b9382acfe56",
   "metadata": {
    "execution": {
     "iopub.execute_input": "2024-05-30T04:01:20.047807Z",
     "iopub.status.busy": "2024-05-30T04:01:20.047055Z",
     "iopub.status.idle": "2024-05-30T04:01:20.141176Z",
     "shell.execute_reply": "2024-05-30T04:01:20.137221Z"
    },
    "papermill": {
     "duration": 0.113806,
     "end_time": "2024-05-30T04:01:20.144787",
     "exception": false,
     "start_time": "2024-05-30T04:01:20.030981",
     "status": "completed"
    },
    "tags": []
   },
   "outputs": [],
   "source": [
    "simulated_w2_1099 = df_ops.persist(add_unique_record_id(simulated_w2_1099, 'simulated_w2_1099'))\n",
    "simulated_w2_1099_source_record_pairs = df_ops.persist(record_id_to_single_source_record_pairs(simulated_w2_1099))"
   ]
  },
  {
   "cell_type": "code",
   "execution_count": 30,
   "id": "82f54aee-ad8f-45db-abfa-25e4d027f236",
   "metadata": {
    "execution": {
     "iopub.execute_input": "2024-05-30T04:01:20.186841Z",
     "iopub.status.busy": "2024-05-30T04:01:20.185662Z",
     "iopub.status.idle": "2024-05-30T04:01:20.224116Z",
     "shell.execute_reply": "2024-05-30T04:01:20.222879Z"
    },
    "papermill": {
     "duration": 0.059805,
     "end_time": "2024-05-30T04:01:20.227603",
     "exception": false,
     "start_time": "2024-05-30T04:01:20.167798",
     "status": "completed"
    },
    "tags": []
   },
   "outputs": [
    {
     "data": {
      "text/html": [
       "<div><strong>Dask DataFrame Structure:</strong></div>\n",
       "<div>\n",
       "<style scoped>\n",
       "    .dataframe tbody tr th:only-of-type {\n",
       "        vertical-align: middle;\n",
       "    }\n",
       "\n",
       "    .dataframe tbody tr th {\n",
       "        vertical-align: top;\n",
       "    }\n",
       "\n",
       "    .dataframe thead th {\n",
       "        text-align: right;\n",
       "    }\n",
       "</style>\n",
       "<table border=\"1\" class=\"dataframe\">\n",
       "  <thead>\n",
       "    <tr style=\"text-align: right;\">\n",
       "      <th></th>\n",
       "      <th>ssn</th>\n",
       "      <th>first_name</th>\n",
       "      <th>middle_initial</th>\n",
       "      <th>last_name</th>\n",
       "      <th>mailing_address_street_number</th>\n",
       "      <th>mailing_address_street_name</th>\n",
       "      <th>mailing_address_unit_number</th>\n",
       "      <th>mailing_address_po_box</th>\n",
       "      <th>mailing_address_city</th>\n",
       "      <th>mailing_address_state</th>\n",
       "      <th>mailing_address_zipcode</th>\n",
       "      <th>record_id</th>\n",
       "    </tr>\n",
       "    <tr>\n",
       "      <th>npartitions=5</th>\n",
       "      <th></th>\n",
       "      <th></th>\n",
       "      <th></th>\n",
       "      <th></th>\n",
       "      <th></th>\n",
       "      <th></th>\n",
       "      <th></th>\n",
       "      <th></th>\n",
       "      <th></th>\n",
       "      <th></th>\n",
       "      <th></th>\n",
       "      <th></th>\n",
       "    </tr>\n",
       "  </thead>\n",
       "  <tbody>\n",
       "    <tr>\n",
       "      <th></th>\n",
       "      <td>string</td>\n",
       "      <td>string</td>\n",
       "      <td>string</td>\n",
       "      <td>string</td>\n",
       "      <td>string</td>\n",
       "      <td>string</td>\n",
       "      <td>string</td>\n",
       "      <td>string</td>\n",
       "      <td>string</td>\n",
       "      <td>category[unknown]</td>\n",
       "      <td>string</td>\n",
       "      <td>string</td>\n",
       "    </tr>\n",
       "    <tr>\n",
       "      <th></th>\n",
       "      <td>...</td>\n",
       "      <td>...</td>\n",
       "      <td>...</td>\n",
       "      <td>...</td>\n",
       "      <td>...</td>\n",
       "      <td>...</td>\n",
       "      <td>...</td>\n",
       "      <td>...</td>\n",
       "      <td>...</td>\n",
       "      <td>...</td>\n",
       "      <td>...</td>\n",
       "      <td>...</td>\n",
       "    </tr>\n",
       "    <tr>\n",
       "      <th>...</th>\n",
       "      <td>...</td>\n",
       "      <td>...</td>\n",
       "      <td>...</td>\n",
       "      <td>...</td>\n",
       "      <td>...</td>\n",
       "      <td>...</td>\n",
       "      <td>...</td>\n",
       "      <td>...</td>\n",
       "      <td>...</td>\n",
       "      <td>...</td>\n",
       "      <td>...</td>\n",
       "      <td>...</td>\n",
       "    </tr>\n",
       "    <tr>\n",
       "      <th></th>\n",
       "      <td>...</td>\n",
       "      <td>...</td>\n",
       "      <td>...</td>\n",
       "      <td>...</td>\n",
       "      <td>...</td>\n",
       "      <td>...</td>\n",
       "      <td>...</td>\n",
       "      <td>...</td>\n",
       "      <td>...</td>\n",
       "      <td>...</td>\n",
       "      <td>...</td>\n",
       "      <td>...</td>\n",
       "    </tr>\n",
       "    <tr>\n",
       "      <th></th>\n",
       "      <td>...</td>\n",
       "      <td>...</td>\n",
       "      <td>...</td>\n",
       "      <td>...</td>\n",
       "      <td>...</td>\n",
       "      <td>...</td>\n",
       "      <td>...</td>\n",
       "      <td>...</td>\n",
       "      <td>...</td>\n",
       "      <td>...</td>\n",
       "      <td>...</td>\n",
       "      <td>...</td>\n",
       "    </tr>\n",
       "  </tbody>\n",
       "</table>\n",
       "</div>\n",
       "<div>Dask Name: drop_by_shallow_copy, 1 graph layer</div>"
      ],
      "text/plain": [
       "Dask DataFrame Structure:\n",
       "                  ssn first_name middle_initial last_name mailing_address_street_number mailing_address_street_name mailing_address_unit_number mailing_address_po_box mailing_address_city mailing_address_state mailing_address_zipcode record_id\n",
       "npartitions=5                                                                                                                                                                                                                                      \n",
       "               string     string         string    string                        string                      string                      string                 string               string     category[unknown]                  string    string\n",
       "                  ...        ...            ...       ...                           ...                         ...                         ...                    ...                  ...                   ...                     ...       ...\n",
       "...               ...        ...            ...       ...                           ...                         ...                         ...                    ...                  ...                   ...                     ...       ...\n",
       "                  ...        ...            ...       ...                           ...                         ...                         ...                    ...                  ...                   ...                     ...       ...\n",
       "                  ...        ...            ...       ...                           ...                         ...                         ...                    ...                  ...                   ...                     ...       ...\n",
       "Dask Name: drop_by_shallow_copy, 1 graph layer"
      ]
     },
     "execution_count": 30,
     "metadata": {},
     "output_type": "execute_result"
    }
   ],
   "source": [
    "simulated_w2_1099_ground_truth = simulated_w2_1099[['record_id', 'simulant_id']]\n",
    "simulated_w2_1099 = simulated_w2_1099.drop(columns=['simulant_id'])\n",
    "simulated_w2_1099, simulated_w2_1099_ground_truth = df_ops.persist(simulated_w2_1099, simulated_w2_1099_ground_truth)\n",
    "simulated_w2_1099"
   ]
  },
  {
   "cell_type": "code",
   "execution_count": 31,
   "id": "32e84952-9adb-4fcd-8a43-0ec0b76bbd5f",
   "metadata": {
    "execution": {
     "iopub.execute_input": "2024-05-30T04:01:20.263006Z",
     "iopub.status.busy": "2024-05-30T04:01:20.262575Z",
     "iopub.status.idle": "2024-05-30T04:01:23.496245Z",
     "shell.execute_reply": "2024-05-30T04:01:23.495147Z"
    },
    "papermill": {
     "duration": 3.253599,
     "end_time": "2024-05-30T04:01:23.500006",
     "exception": false,
     "start_time": "2024-05-30T04:01:20.246407",
     "status": "completed"
    },
    "tags": []
   },
   "outputs": [],
   "source": [
    "simulated_taxes, simulated_taxes_source_record_pairs = concat_preserving_source_records(\n",
    "    [simulated_taxes_1040, simulated_w2_1099],\n",
    "    [simulated_taxes_1040_source_record_pairs, simulated_w2_1099_source_record_pairs],\n",
    "    new_record_id_prefix='simulated_taxes',\n",
    ")"
   ]
  },
  {
   "cell_type": "code",
   "execution_count": 32,
   "id": "f7977c68-f5ce-4aa6-b641-fb4e724a57df",
   "metadata": {
    "execution": {
     "iopub.execute_input": "2024-05-30T04:01:23.542109Z",
     "iopub.status.busy": "2024-05-30T04:01:23.541362Z",
     "iopub.status.idle": "2024-05-30T04:01:23.597090Z",
     "shell.execute_reply": "2024-05-30T04:01:23.582278Z"
    },
    "papermill": {
     "duration": 0.078997,
     "end_time": "2024-05-30T04:01:23.603109",
     "exception": false,
     "start_time": "2024-05-30T04:01:23.524112",
     "status": "completed"
    },
    "tags": []
   },
   "outputs": [],
   "source": [
    "simulated_taxes_1040_with_itins = simulated_taxes_1040[simulated_taxes_1040.ssn.notnull() & simulated_taxes_1040.ssn.str.startswith('9')]\n",
    "simulated_taxes_1040_with_itins_source_record_pairs = simulated_taxes_1040_source_record_pairs.merge(simulated_taxes_1040_with_itins[['record_id']], on='record_id', how='inner')\n",
    "simulated_taxes_1040_with_itins, simulated_taxes_1040_with_itins_source_record_pairs = df_ops.persist(simulated_taxes_1040_with_itins, simulated_taxes_1040_with_itins_source_record_pairs)\n",
    "\n",
    "%xdel simulated_taxes_1040\n",
    "%xdel simulated_taxes_1040_source_record_pairs"
   ]
  },
  {
   "cell_type": "code",
   "execution_count": 33,
   "id": "38e94242-ff62-4d3c-ba5b-a94e3ba0a6e5",
   "metadata": {
    "execution": {
     "iopub.execute_input": "2024-05-30T04:01:23.645169Z",
     "iopub.status.busy": "2024-05-30T04:01:23.644179Z",
     "iopub.status.idle": "2024-05-30T04:01:23.656465Z",
     "shell.execute_reply": "2024-05-30T04:01:23.654642Z"
    },
    "papermill": {
     "duration": 0.031061,
     "end_time": "2024-05-30T04:01:23.658196",
     "exception": false,
     "start_time": "2024-05-30T04:01:23.627135",
     "status": "completed"
    },
    "tags": []
   },
   "outputs": [],
   "source": [
    "%xdel simulated_w2_1099\n",
    "%xdel simulated_w2_1099_source_record_pairs"
   ]
  },
  {
   "cell_type": "code",
   "execution_count": 34,
   "id": "201d14e0-53e3-4e1c-99f2-9cfaec0d852e",
   "metadata": {
    "execution": {
     "iopub.execute_input": "2024-05-30T04:01:23.696555Z",
     "iopub.status.busy": "2024-05-30T04:01:23.695450Z",
     "iopub.status.idle": "2024-05-30T04:01:23.719619Z",
     "shell.execute_reply": "2024-05-30T04:01:23.716505Z"
    },
    "papermill": {
     "duration": 0.044839,
     "end_time": "2024-05-30T04:01:23.722570",
     "exception": false,
     "start_time": "2024-05-30T04:01:23.677731",
     "status": "completed"
    },
    "tags": []
   },
   "outputs": [],
   "source": [
    "simulated_taxes, simulated_taxes_source_record_pairs = df_ops.persist(simulated_taxes, simulated_taxes_source_record_pairs)"
   ]
  },
  {
   "cell_type": "markdown",
   "id": "ed6967cb-dfa6-4b43-98b9-e590d266f55f",
   "metadata": {
    "papermill": {
     "duration": 0.015223,
     "end_time": "2024-05-30T04:01:23.759479",
     "exception": false,
     "start_time": "2024-05-30T04:01:23.744256",
     "status": "completed"
    },
    "tags": []
   },
   "source": [
    "### 2030 Census Unedited File (CUF)\n",
    "\n",
    "For now, we gloss over the data schema for addresses.\n",
    "We don't know how addresses would be formatted in the CUF (and it's hard to guess, because\n",
    "address is not part of the Census form), but it likely would have some of these fields\n",
    "(street number, street name, etc) combined.\n",
    "\n",
    "While PVS input files do not in general have names split into first, middle, and last,\n",
    "I am guessing the CUF **would** have first name, middle initial, last name (which is how pseudopeople\n",
    "generates it), because that [matches the Census questionnaire](https://www2.census.gov/programs-surveys/decennial/2020/technical-documentation/questionnaires-and-instructions/questionnaires/2020-informational-questionnaire-english_DI-Q1.pdf)."
   ]
  },
  {
   "cell_type": "code",
   "execution_count": 35,
   "id": "4e98619b-2ae6-4c89-a82e-9f975cdc9caf",
   "metadata": {
    "execution": {
     "iopub.execute_input": "2024-05-30T04:01:23.791497Z",
     "iopub.status.busy": "2024-05-30T04:01:23.790699Z",
     "iopub.status.idle": "2024-05-30T04:01:24.085799Z",
     "shell.execute_reply": "2024-05-30T04:01:24.084257Z"
    },
    "papermill": {
     "duration": 0.315124,
     "end_time": "2024-05-30T04:01:24.089347",
     "exception": false,
     "start_time": "2024-05-30T04:01:23.774223",
     "status": "completed"
    },
    "tags": []
   },
   "outputs": [
    {
     "name": "stdout",
     "output_type": "stream",
     "text": [
      "Imbalanced dataframe: too_few=True, too_many=False, too_large=False\n",
      "count          1.0\n",
      "mean     2219337.0\n",
      "std            NaN\n",
      "min      2219337.0\n",
      "25%      2219337.0\n",
      "50%      2219337.0\n",
      "75%      2219337.0\n",
      "max      2219337.0\n",
      "dtype: float64\n",
      "Leaving as a single partition\n",
      "CPU times: user 115 ms, sys: 14.5 ms, total: 130 ms\n",
      "Wall time: 285 ms\n"
     ]
    }
   ],
   "source": [
    "%%time\n",
    "\n",
    "simulated_census_2030 = df_ops.read_parquet(f'{output_dir}/{data_to_use}/pseudopeople_simulated_datasets/simulated_census_2030.parquet')"
   ]
  },
  {
   "cell_type": "code",
   "execution_count": 36,
   "id": "606c2fc7-553e-445f-b295-3f33dc584f8e",
   "metadata": {
    "execution": {
     "iopub.execute_input": "2024-05-30T04:01:24.129670Z",
     "iopub.status.busy": "2024-05-30T04:01:24.128032Z",
     "iopub.status.idle": "2024-05-30T04:01:24.143947Z",
     "shell.execute_reply": "2024-05-30T04:01:24.142849Z"
    },
    "papermill": {
     "duration": 0.035937,
     "end_time": "2024-05-30T04:01:24.145616",
     "exception": false,
     "start_time": "2024-05-30T04:01:24.109679",
     "status": "completed"
    },
    "tags": []
   },
   "outputs": [],
   "source": [
    "simulated_census_2030 = apply_custom_noise_type(\n",
    "    simulated_census_2030,\n",
    "    split_columns_incorrectly,\n",
    "    ['first_name', 'middle_initial', 'last_name'],\n",
    "    row_probability=0.01,\n",
    "    seed=7,\n",
    ")"
   ]
  },
  {
   "cell_type": "code",
   "execution_count": 37,
   "id": "1907e12c-f19b-4805-b571-f2855d971d3b",
   "metadata": {
    "execution": {
     "iopub.execute_input": "2024-05-30T04:01:24.183284Z",
     "iopub.status.busy": "2024-05-30T04:01:24.182559Z",
     "iopub.status.idle": "2024-05-30T04:01:24.195086Z",
     "shell.execute_reply": "2024-05-30T04:01:24.194593Z"
    },
    "papermill": {
     "duration": 0.03094,
     "end_time": "2024-05-30T04:01:24.196642",
     "exception": false,
     "start_time": "2024-05-30T04:01:24.165702",
     "status": "completed"
    },
    "tags": []
   },
   "outputs": [],
   "source": [
    "simulated_census_2030 = apply_custom_noise_type(\n",
    "    simulated_census_2030,\n",
    "    shuffle_columns,\n",
    "    ['first_name', 'middle_initial', 'last_name'],\n",
    "    row_probability=0.01,\n",
    "    seed=8,\n",
    ")"
   ]
  },
  {
   "cell_type": "code",
   "execution_count": 38,
   "id": "164bbda6-29a1-4add-b5dd-5c666d552ed8",
   "metadata": {
    "execution": {
     "iopub.execute_input": "2024-05-30T04:01:24.232595Z",
     "iopub.status.busy": "2024-05-30T04:01:24.231875Z",
     "iopub.status.idle": "2024-05-30T04:01:24.282390Z",
     "shell.execute_reply": "2024-05-30T04:01:24.279931Z"
    },
    "papermill": {
     "duration": 0.070575,
     "end_time": "2024-05-30T04:01:24.285707",
     "exception": false,
     "start_time": "2024-05-30T04:01:24.215132",
     "status": "completed"
    },
    "tags": []
   },
   "outputs": [],
   "source": [
    "simulated_census_2030 = df_ops.persist(add_unique_record_id(simulated_census_2030, 'simulated_census_2030'))"
   ]
  },
  {
   "cell_type": "code",
   "execution_count": 39,
   "id": "89e992c8-d7e1-4b63-8f44-be6dd89808ed",
   "metadata": {
    "execution": {
     "iopub.execute_input": "2024-05-30T04:01:24.326745Z",
     "iopub.status.busy": "2024-05-30T04:01:24.326121Z",
     "iopub.status.idle": "2024-05-30T04:01:24.360905Z",
     "shell.execute_reply": "2024-05-30T04:01:24.359924Z"
    },
    "papermill": {
     "duration": 0.054757,
     "end_time": "2024-05-30T04:01:24.363984",
     "exception": false,
     "start_time": "2024-05-30T04:01:24.309227",
     "status": "completed"
    },
    "tags": []
   },
   "outputs": [
    {
     "data": {
      "text/html": [
       "<div><strong>Dask DataFrame Structure:</strong></div>\n",
       "<div>\n",
       "<style scoped>\n",
       "    .dataframe tbody tr th:only-of-type {\n",
       "        vertical-align: middle;\n",
       "    }\n",
       "\n",
       "    .dataframe tbody tr th {\n",
       "        vertical-align: top;\n",
       "    }\n",
       "\n",
       "    .dataframe thead th {\n",
       "        text-align: right;\n",
       "    }\n",
       "</style>\n",
       "<table border=\"1\" class=\"dataframe\">\n",
       "  <thead>\n",
       "    <tr style=\"text-align: right;\">\n",
       "      <th></th>\n",
       "      <th>household_id</th>\n",
       "      <th>first_name</th>\n",
       "      <th>middle_initial</th>\n",
       "      <th>last_name</th>\n",
       "      <th>age</th>\n",
       "      <th>date_of_birth</th>\n",
       "      <th>street_number</th>\n",
       "      <th>street_name</th>\n",
       "      <th>unit_number</th>\n",
       "      <th>city</th>\n",
       "      <th>state</th>\n",
       "      <th>zipcode</th>\n",
       "      <th>housing_type</th>\n",
       "      <th>relationship_to_reference_person</th>\n",
       "      <th>sex</th>\n",
       "      <th>race_ethnicity</th>\n",
       "      <th>year</th>\n",
       "      <th>record_id</th>\n",
       "    </tr>\n",
       "    <tr>\n",
       "      <th>npartitions=1</th>\n",
       "      <th></th>\n",
       "      <th></th>\n",
       "      <th></th>\n",
       "      <th></th>\n",
       "      <th></th>\n",
       "      <th></th>\n",
       "      <th></th>\n",
       "      <th></th>\n",
       "      <th></th>\n",
       "      <th></th>\n",
       "      <th></th>\n",
       "      <th></th>\n",
       "      <th></th>\n",
       "      <th></th>\n",
       "      <th></th>\n",
       "      <th></th>\n",
       "      <th></th>\n",
       "      <th></th>\n",
       "    </tr>\n",
       "  </thead>\n",
       "  <tbody>\n",
       "    <tr>\n",
       "      <th></th>\n",
       "      <td>string</td>\n",
       "      <td>string</td>\n",
       "      <td>string</td>\n",
       "      <td>string</td>\n",
       "      <td>string</td>\n",
       "      <td>string</td>\n",
       "      <td>string</td>\n",
       "      <td>string</td>\n",
       "      <td>string</td>\n",
       "      <td>string</td>\n",
       "      <td>category[unknown]</td>\n",
       "      <td>string</td>\n",
       "      <td>string</td>\n",
       "      <td>category[unknown]</td>\n",
       "      <td>category[unknown]</td>\n",
       "      <td>category[unknown]</td>\n",
       "      <td>int64</td>\n",
       "      <td>string</td>\n",
       "    </tr>\n",
       "    <tr>\n",
       "      <th></th>\n",
       "      <td>...</td>\n",
       "      <td>...</td>\n",
       "      <td>...</td>\n",
       "      <td>...</td>\n",
       "      <td>...</td>\n",
       "      <td>...</td>\n",
       "      <td>...</td>\n",
       "      <td>...</td>\n",
       "      <td>...</td>\n",
       "      <td>...</td>\n",
       "      <td>...</td>\n",
       "      <td>...</td>\n",
       "      <td>...</td>\n",
       "      <td>...</td>\n",
       "      <td>...</td>\n",
       "      <td>...</td>\n",
       "      <td>...</td>\n",
       "      <td>...</td>\n",
       "    </tr>\n",
       "  </tbody>\n",
       "</table>\n",
       "</div>\n",
       "<div>Dask Name: drop_by_shallow_copy, 1 graph layer</div>"
      ],
      "text/plain": [
       "Dask DataFrame Structure:\n",
       "              household_id first_name middle_initial last_name     age date_of_birth street_number street_name unit_number    city              state zipcode housing_type relationship_to_reference_person                sex     race_ethnicity   year record_id\n",
       "npartitions=1                                                                                                                                                                                                                                                     \n",
       "                    string     string         string    string  string        string        string      string      string  string  category[unknown]  string       string                category[unknown]  category[unknown]  category[unknown]  int64    string\n",
       "                       ...        ...            ...       ...     ...           ...           ...         ...         ...     ...                ...     ...          ...                              ...                ...                ...    ...       ...\n",
       "Dask Name: drop_by_shallow_copy, 1 graph layer"
      ]
     },
     "execution_count": 39,
     "metadata": {},
     "output_type": "execute_result"
    }
   ],
   "source": [
    "simulated_census_2030_ground_truth = simulated_census_2030[['record_id', 'simulant_id']]\n",
    "simulated_census_2030 = simulated_census_2030.drop(columns=['simulant_id'])\n",
    "simulated_census_2030, simulated_census_2030_ground_truth = df_ops.persist(simulated_census_2030, simulated_census_2030_ground_truth)\n",
    "simulated_census_2030"
   ]
  },
  {
   "cell_type": "code",
   "execution_count": 40,
   "id": "0e361daa-1ff6-4bd1-a5a8-21d0cc191e36",
   "metadata": {
    "execution": {
     "iopub.execute_input": "2024-05-30T04:01:24.403728Z",
     "iopub.status.busy": "2024-05-30T04:01:24.402969Z",
     "iopub.status.idle": "2024-05-30T04:01:24.998719Z",
     "shell.execute_reply": "2024-05-30T04:01:24.997346Z"
    },
    "papermill": {
     "duration": 0.616444,
     "end_time": "2024-05-30T04:01:25.002562",
     "exception": false,
     "start_time": "2024-05-30T04:01:24.386118",
     "status": "completed"
    },
    "tags": []
   },
   "outputs": [
    {
     "name": "stdout",
     "output_type": "stream",
     "text": [
      "Imbalanced dataframe: too_few=True, too_many=False, too_large=False\n",
      "count         2.000000\n",
      "mean     198804.500000\n",
      "std      281152.020161\n",
      "min           0.000000\n",
      "25%       99402.250000\n",
      "50%      198804.500000\n",
      "75%      298206.750000\n",
      "max      397609.000000\n",
      "dtype: float64\n"
     ]
    }
   ],
   "source": [
    "save_file_with_ground_truth('simulated_census_2030', simulated_census_2030, simulated_census_2030_ground_truth)"
   ]
  },
  {
   "cell_type": "code",
   "execution_count": 41,
   "id": "580c2493-25a6-4a47-a82b-cc78c5d3b5d4",
   "metadata": {
    "execution": {
     "iopub.execute_input": "2024-05-30T04:01:25.042803Z",
     "iopub.status.busy": "2024-05-30T04:01:25.042017Z",
     "iopub.status.idle": "2024-05-30T04:01:25.053262Z",
     "shell.execute_reply": "2024-05-30T04:01:25.052110Z"
    },
    "papermill": {
     "duration": 0.029578,
     "end_time": "2024-05-30T04:01:25.054820",
     "exception": false,
     "start_time": "2024-05-30T04:01:25.025242",
     "status": "completed"
    },
    "tags": []
   },
   "outputs": [],
   "source": [
    "%xdel simulated_census_2030"
   ]
  },
  {
   "cell_type": "markdown",
   "id": "62aee3f5-01ab-4e55-af67-f0cf656d9af0",
   "metadata": {
    "papermill": {
     "duration": 0.015388,
     "end_time": "2024-05-30T04:01:25.088955",
     "exception": false,
     "start_time": "2024-05-30T04:01:25.073567",
     "status": "completed"
    },
    "tags": []
   },
   "source": [
    "### Simulated SSA Numident"
   ]
  },
  {
   "cell_type": "code",
   "execution_count": 42,
   "id": "1d6496b3-0c2c-4739-acad-2c3c81056001",
   "metadata": {
    "execution": {
     "iopub.execute_input": "2024-05-30T04:01:25.126438Z",
     "iopub.status.busy": "2024-05-30T04:01:25.125012Z",
     "iopub.status.idle": "2024-05-30T04:01:25.394429Z",
     "shell.execute_reply": "2024-05-30T04:01:25.393410Z"
    },
    "papermill": {
     "duration": 0.289824,
     "end_time": "2024-05-30T04:01:25.397543",
     "exception": false,
     "start_time": "2024-05-30T04:01:25.107719",
     "status": "completed"
    },
    "tags": []
   },
   "outputs": [
    {
     "name": "stdout",
     "output_type": "stream",
     "text": [
      "Imbalanced dataframe: too_few=True, too_many=False, too_large=False\n",
      "count          1.0\n",
      "mean     2350365.0\n",
      "std            NaN\n",
      "min      2350365.0\n",
      "25%      2350365.0\n",
      "50%      2350365.0\n",
      "75%      2350365.0\n",
      "max      2350365.0\n",
      "dtype: float64\n",
      "Leaving as a single partition\n",
      "CPU times: user 68.6 ms, sys: 4.8 ms, total: 73.4 ms\n",
      "Wall time: 258 ms\n"
     ]
    }
   ],
   "source": [
    "%%time\n",
    "\n",
    "simulated_ssa_numident = df_ops.read_parquet(f'{output_dir}/{data_to_use}/pseudopeople_simulated_datasets/simulated_ssa_numident.parquet')"
   ]
  },
  {
   "cell_type": "code",
   "execution_count": 43,
   "id": "224d38c5-89f0-44cb-96b5-452799f363de",
   "metadata": {
    "execution": {
     "iopub.execute_input": "2024-05-30T04:01:25.436783Z",
     "iopub.status.busy": "2024-05-30T04:01:25.436020Z",
     "iopub.status.idle": "2024-05-30T04:01:25.450427Z",
     "shell.execute_reply": "2024-05-30T04:01:25.449639Z"
    },
    "papermill": {
     "duration": 0.032846,
     "end_time": "2024-05-30T04:01:25.451932",
     "exception": false,
     "start_time": "2024-05-30T04:01:25.419086",
     "status": "completed"
    },
    "tags": []
   },
   "outputs": [],
   "source": [
    "simulated_ssa_numident = apply_custom_noise_type(\n",
    "    simulated_ssa_numident,\n",
    "    split_columns_incorrectly,\n",
    "    ['first_name', 'middle_name', 'last_name'],\n",
    "    row_probability=0.01,\n",
    "    seed=9,\n",
    ")"
   ]
  },
  {
   "cell_type": "code",
   "execution_count": 44,
   "id": "842af49f-cd65-4963-ba27-e7de57638a81",
   "metadata": {
    "execution": {
     "iopub.execute_input": "2024-05-30T04:01:25.488088Z",
     "iopub.status.busy": "2024-05-30T04:01:25.487356Z",
     "iopub.status.idle": "2024-05-30T04:01:25.501251Z",
     "shell.execute_reply": "2024-05-30T04:01:25.500336Z"
    },
    "papermill": {
     "duration": 0.032524,
     "end_time": "2024-05-30T04:01:25.502669",
     "exception": false,
     "start_time": "2024-05-30T04:01:25.470145",
     "status": "completed"
    },
    "tags": []
   },
   "outputs": [],
   "source": [
    "simulated_ssa_numident = apply_custom_noise_type(\n",
    "    simulated_ssa_numident,\n",
    "    shuffle_columns,\n",
    "    ['first_name', 'middle_name', 'last_name'],\n",
    "    row_probability=0.01,\n",
    "    seed=10,\n",
    ")"
   ]
  },
  {
   "cell_type": "code",
   "execution_count": 45,
   "id": "828c67a3-23f9-4fb7-8737-6ce29f9f80bd",
   "metadata": {
    "execution": {
     "iopub.execute_input": "2024-05-30T04:01:25.540023Z",
     "iopub.status.busy": "2024-05-30T04:01:25.538781Z",
     "iopub.status.idle": "2024-05-30T04:01:25.549948Z",
     "shell.execute_reply": "2024-05-30T04:01:25.548976Z"
    },
    "papermill": {
     "duration": 0.02974,
     "end_time": "2024-05-30T04:01:25.551517",
     "exception": false,
     "start_time": "2024-05-30T04:01:25.521777",
     "status": "completed"
    },
    "tags": []
   },
   "outputs": [],
   "source": [
    "if data_to_use == 'ri':\n",
    "    # Remove simulants who were never observed in Rhode Island -- this is unrealistic to real life!\n",
    "    # We only do this to create a medium-sized set of reference files for computational testing.\n",
    "    simulated_ssa_numident = (\n",
    "        simulated_ssa_numident\n",
    "            .merge(\n",
    "                df_ops.drop_duplicates(simulated_taxes_1040_ground_truth[['simulant_id']]).assign(observed_in_taxes_1040=1),\n",
    "                on='simulant_id',\n",
    "                how='left',\n",
    "            )\n",
    "            .merge(\n",
    "                df_ops.drop_duplicates(simulated_w2_1099_ground_truth[['simulant_id']]).assign(observed_in_taxes_w2_1099=1),\n",
    "                on='simulant_id',\n",
    "                how='left',\n",
    "            )\n",
    "            .merge(\n",
    "                df_ops.drop_duplicates(simulated_census_2030_ground_truth[['simulant_id']]).assign(observed_in_census_2030=1),\n",
    "                on='simulant_id',\n",
    "                how='left',\n",
    "            )\n",
    "            .assign(observed_ever=lambda df: (df.observed_in_taxes_1040 == 1) | (df.observed_in_taxes_w2_1099 == 1) | (df.observed_in_census_2030 == 1))\n",
    "            .pipe(lambda df: df[df.observed_ever])\n",
    "            .drop(columns=[\"observed_in_taxes_1040\", \"observed_in_taxes_w2_1099\", \"observed_in_census_2030\", \"observed_ever\"])\n",
    "    )"
   ]
  },
  {
   "cell_type": "code",
   "execution_count": 46,
   "id": "37933d8a-b708-4061-a246-866c2a1ef55e",
   "metadata": {
    "execution": {
     "iopub.execute_input": "2024-05-30T04:01:25.586755Z",
     "iopub.status.busy": "2024-05-30T04:01:25.586045Z",
     "iopub.status.idle": "2024-05-30T04:01:25.597741Z",
     "shell.execute_reply": "2024-05-30T04:01:25.594991Z"
    },
    "papermill": {
     "duration": 0.030334,
     "end_time": "2024-05-30T04:01:25.599719",
     "exception": false,
     "start_time": "2024-05-30T04:01:25.569385",
     "status": "completed"
    },
    "tags": []
   },
   "outputs": [],
   "source": [
    "%xdel simulated_census_2030_ground_truth"
   ]
  },
  {
   "cell_type": "code",
   "execution_count": 47,
   "id": "1516962f-1527-4f51-b5e6-16eefdcbaf26",
   "metadata": {
    "execution": {
     "iopub.execute_input": "2024-05-30T04:01:25.634879Z",
     "iopub.status.busy": "2024-05-30T04:01:25.634156Z",
     "iopub.status.idle": "2024-05-30T04:01:25.720215Z",
     "shell.execute_reply": "2024-05-30T04:01:25.713594Z"
    },
    "papermill": {
     "duration": 0.110077,
     "end_time": "2024-05-30T04:01:25.727753",
     "exception": false,
     "start_time": "2024-05-30T04:01:25.617676",
     "status": "completed"
    },
    "tags": []
   },
   "outputs": [],
   "source": [
    "simulated_ssa_numident = df_ops.persist(add_unique_record_id(simulated_ssa_numident, 'simulated_ssa_numident'))\n",
    "simulated_ssa_numident_source_record_pairs = df_ops.persist(record_id_to_single_source_record_pairs(simulated_ssa_numident))"
   ]
  },
  {
   "cell_type": "code",
   "execution_count": 48,
   "id": "07b4e12e-21c7-4f2c-bfa8-cb78a0e595d0",
   "metadata": {
    "execution": {
     "iopub.execute_input": "2024-05-30T04:01:25.769070Z",
     "iopub.status.busy": "2024-05-30T04:01:25.768266Z",
     "iopub.status.idle": "2024-05-30T04:01:25.799012Z",
     "shell.execute_reply": "2024-05-30T04:01:25.798276Z"
    },
    "papermill": {
     "duration": 0.050821,
     "end_time": "2024-05-30T04:01:25.802046",
     "exception": false,
     "start_time": "2024-05-30T04:01:25.751225",
     "status": "completed"
    },
    "tags": []
   },
   "outputs": [
    {
     "data": {
      "text/html": [
       "<div><strong>Dask DataFrame Structure:</strong></div>\n",
       "<div>\n",
       "<style scoped>\n",
       "    .dataframe tbody tr th:only-of-type {\n",
       "        vertical-align: middle;\n",
       "    }\n",
       "\n",
       "    .dataframe tbody tr th {\n",
       "        vertical-align: top;\n",
       "    }\n",
       "\n",
       "    .dataframe thead th {\n",
       "        text-align: right;\n",
       "    }\n",
       "</style>\n",
       "<table border=\"1\" class=\"dataframe\">\n",
       "  <thead>\n",
       "    <tr style=\"text-align: right;\">\n",
       "      <th></th>\n",
       "      <th>ssn</th>\n",
       "      <th>first_name</th>\n",
       "      <th>middle_name</th>\n",
       "      <th>last_name</th>\n",
       "      <th>date_of_birth</th>\n",
       "      <th>sex</th>\n",
       "      <th>event_type</th>\n",
       "      <th>event_date</th>\n",
       "      <th>record_id</th>\n",
       "    </tr>\n",
       "    <tr>\n",
       "      <th>npartitions=1</th>\n",
       "      <th></th>\n",
       "      <th></th>\n",
       "      <th></th>\n",
       "      <th></th>\n",
       "      <th></th>\n",
       "      <th></th>\n",
       "      <th></th>\n",
       "      <th></th>\n",
       "      <th></th>\n",
       "    </tr>\n",
       "  </thead>\n",
       "  <tbody>\n",
       "    <tr>\n",
       "      <th></th>\n",
       "      <td>string</td>\n",
       "      <td>string</td>\n",
       "      <td>string</td>\n",
       "      <td>string</td>\n",
       "      <td>string</td>\n",
       "      <td>category[unknown]</td>\n",
       "      <td>category[unknown]</td>\n",
       "      <td>string</td>\n",
       "      <td>string</td>\n",
       "    </tr>\n",
       "    <tr>\n",
       "      <th></th>\n",
       "      <td>...</td>\n",
       "      <td>...</td>\n",
       "      <td>...</td>\n",
       "      <td>...</td>\n",
       "      <td>...</td>\n",
       "      <td>...</td>\n",
       "      <td>...</td>\n",
       "      <td>...</td>\n",
       "      <td>...</td>\n",
       "    </tr>\n",
       "  </tbody>\n",
       "</table>\n",
       "</div>\n",
       "<div>Dask Name: drop_by_shallow_copy, 1 graph layer</div>"
      ],
      "text/plain": [
       "Dask DataFrame Structure:\n",
       "                  ssn first_name middle_name last_name date_of_birth                sex         event_type event_date record_id\n",
       "npartitions=1                                                                                                                  \n",
       "               string     string      string    string        string  category[unknown]  category[unknown]     string    string\n",
       "                  ...        ...         ...       ...           ...                ...                ...        ...       ...\n",
       "Dask Name: drop_by_shallow_copy, 1 graph layer"
      ]
     },
     "execution_count": 48,
     "metadata": {},
     "output_type": "execute_result"
    }
   ],
   "source": [
    "simulated_ssa_numident_ground_truth = simulated_ssa_numident[['record_id', 'simulant_id']]\n",
    "simulated_ssa_numident = simulated_ssa_numident.drop(columns=['simulant_id'])\n",
    "simulated_ssa_numident, simulated_ssa_numident_ground_truth = df_ops.persist(simulated_ssa_numident, simulated_ssa_numident_ground_truth)\n",
    "simulated_ssa_numident"
   ]
  },
  {
   "cell_type": "code",
   "execution_count": 49,
   "id": "383bcc71-4e12-4626-9e4f-b232d6571c06",
   "metadata": {
    "execution": {
     "iopub.execute_input": "2024-05-30T04:01:25.842232Z",
     "iopub.status.busy": "2024-05-30T04:01:25.841515Z",
     "iopub.status.idle": "2024-05-30T04:01:26.045626Z",
     "shell.execute_reply": "2024-05-30T04:01:26.043579Z"
    },
    "papermill": {
     "duration": 0.225765,
     "end_time": "2024-05-30T04:01:26.049907",
     "exception": false,
     "start_time": "2024-05-30T04:01:25.824142",
     "status": "completed"
    },
    "tags": []
   },
   "outputs": [
    {
     "data": {
      "text/html": [
       "<div><strong>Dask DataFrame Structure:</strong></div>\n",
       "<div>\n",
       "<style scoped>\n",
       "    .dataframe tbody tr th:only-of-type {\n",
       "        vertical-align: middle;\n",
       "    }\n",
       "\n",
       "    .dataframe tbody tr th {\n",
       "        vertical-align: top;\n",
       "    }\n",
       "\n",
       "    .dataframe thead th {\n",
       "        text-align: right;\n",
       "    }\n",
       "</style>\n",
       "<table border=\"1\" class=\"dataframe\">\n",
       "  <thead>\n",
       "    <tr style=\"text-align: right;\">\n",
       "      <th></th>\n",
       "      <th>source_record_id</th>\n",
       "      <th>simulant_id</th>\n",
       "    </tr>\n",
       "    <tr>\n",
       "      <th>npartitions=11</th>\n",
       "      <th></th>\n",
       "      <th></th>\n",
       "    </tr>\n",
       "  </thead>\n",
       "  <tbody>\n",
       "    <tr>\n",
       "      <th></th>\n",
       "      <td>string</td>\n",
       "      <td>string</td>\n",
       "    </tr>\n",
       "    <tr>\n",
       "      <th></th>\n",
       "      <td>...</td>\n",
       "      <td>...</td>\n",
       "    </tr>\n",
       "    <tr>\n",
       "      <th>...</th>\n",
       "      <td>...</td>\n",
       "      <td>...</td>\n",
       "    </tr>\n",
       "    <tr>\n",
       "      <th></th>\n",
       "      <td>...</td>\n",
       "      <td>...</td>\n",
       "    </tr>\n",
       "    <tr>\n",
       "      <th></th>\n",
       "      <td>...</td>\n",
       "      <td>...</td>\n",
       "    </tr>\n",
       "  </tbody>\n",
       "</table>\n",
       "</div>\n",
       "<div>Dask Name: rename, 1 graph layer</div>"
      ],
      "text/plain": [
       "Dask DataFrame Structure:\n",
       "               source_record_id simulant_id\n",
       "npartitions=11                             \n",
       "                         string      string\n",
       "                            ...         ...\n",
       "...                         ...         ...\n",
       "                            ...         ...\n",
       "                            ...         ...\n",
       "Dask Name: rename, 1 graph layer"
      ]
     },
     "execution_count": 49,
     "metadata": {},
     "output_type": "execute_result"
    }
   ],
   "source": [
    "source_record_ground_truth = df_ops.persist(df_ops.concat([\n",
    "    simulated_ssa_numident_ground_truth,\n",
    "    simulated_taxes_1040_ground_truth,\n",
    "    simulated_w2_1099_ground_truth,\n",
    "]).rename(columns={'record_id': 'source_record_id'}))\n",
    "source_record_ground_truth"
   ]
  },
  {
   "cell_type": "code",
   "execution_count": 50,
   "id": "31af5d87-1cd6-41dd-b46d-79cea5a3e99e",
   "metadata": {
    "execution": {
     "iopub.execute_input": "2024-05-30T04:01:26.091666Z",
     "iopub.status.busy": "2024-05-30T04:01:26.090910Z",
     "iopub.status.idle": "2024-05-30T04:01:26.106133Z",
     "shell.execute_reply": "2024-05-30T04:01:26.102422Z"
    },
    "papermill": {
     "duration": 0.035297,
     "end_time": "2024-05-30T04:01:26.108799",
     "exception": false,
     "start_time": "2024-05-30T04:01:26.073502",
     "status": "completed"
    },
    "tags": []
   },
   "outputs": [],
   "source": [
    "%xdel simulated_taxes_1040_ground_truth\n",
    "%xdel simulated_w2_1099_ground_truth"
   ]
  },
  {
   "cell_type": "markdown",
   "id": "d891f010-d434-46f9-bfd4-b17efc4eeac7",
   "metadata": {
    "papermill": {
     "duration": 0.015997,
     "end_time": "2024-05-30T04:01:26.144403",
     "exception": false,
     "start_time": "2024-05-30T04:01:26.128406",
     "status": "completed"
    },
    "tags": []
   },
   "source": [
    "## Create reference files\n",
    "\n",
    "> The Census Numident – all Social Security Administration (SSA) Numident SSN records are\n",
    "  edited (collapsed) to produce a Census Numident file that contains “one best-data record” for\n",
    "  each SSN. All variants of name information for each SSN are retained in the Alternate Name\n",
    "  Numident file, while all variants of date of birth data are retained in the Alternate DOB\n",
    "  Numident. The SSN-PIK crosswalk file is used to attach a corresponding unique PIK value for\n",
    "  each SSN value in the Census Numident file."
   ]
  },
  {
   "cell_type": "markdown",
   "id": "fa4fa52d-580f-4557-92a9-6f237d8b45f5",
   "metadata": {
    "papermill": {
     "duration": 0.015712,
     "end_time": "2024-05-30T04:01:26.175766",
     "exception": false,
     "start_time": "2024-05-30T04:01:26.160054",
     "status": "completed"
    },
    "tags": []
   },
   "source": [
    "### Census Numident\n",
    "\n",
    "Luque and Wagner, p. 4:\n",
    "  \n",
    "> The SSA Numident file contains all transactions ever recorded against any single SSN - with each entry\n",
    "representing an addition or change (such as name changes) to the SSN record. This file is edited to\n",
    "create the **Census Numident**, which contains one record for each SSN. Each SSN record in the Census\n",
    "Numident contains name, DOB, sex, race, place of birth, parents’ name, citizenship status and date of death information.\n",
    "\n",
    "and in footnote 5:\n",
    "\n",
    "> Name edits, DOB reconciliation, and race identifiers are some of the edits conducted to produce this Numident\n",
    "file. **The resulting Numident file contains the most recent name and DOB data.**\n",
    "\n",
    "We are missing quite a few columns, since they are missing in pseudopeople's SSA Numident: race, place of birth, parents' name,\n",
    "citizenship status.\n",
    "However, I'm pretty sure none of these are used in linking."
   ]
  },
  {
   "cell_type": "code",
   "execution_count": 51,
   "id": "2bde9378-288c-47ae-a739-6af8e81a5eef",
   "metadata": {
    "execution": {
     "iopub.execute_input": "2024-05-30T04:01:26.211178Z",
     "iopub.status.busy": "2024-05-30T04:01:26.210151Z",
     "iopub.status.idle": "2024-05-30T04:01:29.030466Z",
     "shell.execute_reply": "2024-05-30T04:01:29.029360Z"
    },
    "papermill": {
     "duration": 2.841881,
     "end_time": "2024-05-30T04:01:29.033692",
     "exception": false,
     "start_time": "2024-05-30T04:01:26.191811",
     "status": "completed"
    },
    "tags": []
   },
   "outputs": [
    {
     "data": {
      "text/html": [
       "<div><strong>Dask DataFrame Structure:</strong></div>\n",
       "<div>\n",
       "<style scoped>\n",
       "    .dataframe tbody tr th:only-of-type {\n",
       "        vertical-align: middle;\n",
       "    }\n",
       "\n",
       "    .dataframe tbody tr th {\n",
       "        vertical-align: top;\n",
       "    }\n",
       "\n",
       "    .dataframe thead th {\n",
       "        text-align: right;\n",
       "    }\n",
       "</style>\n",
       "<table border=\"1\" class=\"dataframe\">\n",
       "  <thead>\n",
       "    <tr style=\"text-align: right;\">\n",
       "      <th></th>\n",
       "      <th>ssn</th>\n",
       "      <th>first_name</th>\n",
       "      <th>middle_name</th>\n",
       "      <th>last_name</th>\n",
       "      <th>date_of_birth</th>\n",
       "      <th>date_of_death</th>\n",
       "      <th>record_id</th>\n",
       "    </tr>\n",
       "    <tr>\n",
       "      <th>npartitions=2</th>\n",
       "      <th></th>\n",
       "      <th></th>\n",
       "      <th></th>\n",
       "      <th></th>\n",
       "      <th></th>\n",
       "      <th></th>\n",
       "      <th></th>\n",
       "    </tr>\n",
       "  </thead>\n",
       "  <tbody>\n",
       "    <tr>\n",
       "      <th></th>\n",
       "      <td>string</td>\n",
       "      <td>string</td>\n",
       "      <td>string</td>\n",
       "      <td>string</td>\n",
       "      <td>string</td>\n",
       "      <td>string</td>\n",
       "      <td>string</td>\n",
       "    </tr>\n",
       "    <tr>\n",
       "      <th></th>\n",
       "      <td>...</td>\n",
       "      <td>...</td>\n",
       "      <td>...</td>\n",
       "      <td>...</td>\n",
       "      <td>...</td>\n",
       "      <td>...</td>\n",
       "      <td>...</td>\n",
       "    </tr>\n",
       "    <tr>\n",
       "      <th></th>\n",
       "      <td>...</td>\n",
       "      <td>...</td>\n",
       "      <td>...</td>\n",
       "      <td>...</td>\n",
       "      <td>...</td>\n",
       "      <td>...</td>\n",
       "      <td>...</td>\n",
       "    </tr>\n",
       "  </tbody>\n",
       "</table>\n",
       "</div>\n",
       "<div>Dask Name: drop_by_shallow_copy, 1 graph layer</div>"
      ],
      "text/plain": [
       "Dask DataFrame Structure:\n",
       "                  ssn first_name middle_name last_name date_of_birth date_of_death record_id\n",
       "npartitions=2                                                                               \n",
       "               string     string      string    string        string        string    string\n",
       "                  ...        ...         ...       ...           ...           ...       ...\n",
       "                  ...        ...         ...       ...           ...           ...       ...\n",
       "Dask Name: drop_by_shallow_copy, 1 graph layer"
      ]
     },
     "execution_count": 51,
     "metadata": {},
     "output_type": "execute_result"
    }
   ],
   "source": [
    "def fill_dates(df, fill_with):\n",
    "    return (\n",
    "        # Replace invalid dates with nans\n",
    "        pd.to_datetime(df.event_date, format='%Y%m%d', errors='coerce')\n",
    "            .fillna(pandas.to_datetime('2100-01-01' if fill_with == 'latest' else '1900-01-01'))\n",
    "    )\n",
    "\n",
    "def best_data_from_columns(df, columns, best_is_latest=True):\n",
    "    # We don't want to throw out events with a missing/invalid date, so we'll fill them with the value *least* likely to be chosen\n",
    "    # (earlier than all values if taking the latest, later than all values if taking the earliest).\n",
    "    fill_with = 'earliest' if best_is_latest else 'latest'\n",
    "\n",
    "    result = (\n",
    "        df\n",
    "            # Without mutating the existing date column, get one that is actually\n",
    "            # a date type and can be used for sorting.\n",
    "            # Note: we actually convert this to an integer for sorting purposes, because Modin was having trouble\n",
    "            # sorting by it as an actual datetime\n",
    "            .assign(event_date_for_sort=lambda df: fill_dates(df, fill_with=fill_with).astype(numpy.int64) // 10 ** 9)\n",
    "            .dropna(subset=columns, how='all')\n",
    "            .pipe(lambda df: df_ops.drop_duplicates(df, subset='ssn', sort_col='event_date_for_sort', keep=('last' if best_is_latest else 'first')))\n",
    "            [['record_id', 'ssn'] + columns]\n",
    "    )\n",
    "\n",
    "    return result, record_id_to_single_source_record_pairs(result)\n",
    "\n",
    "best_name, best_name_source_record_pairs = best_data_from_columns(\n",
    "    simulated_ssa_numident,\n",
    "    columns=['first_name', 'middle_name', 'last_name'],\n",
    ")\n",
    "\n",
    "best_date_of_birth, best_date_of_birth_source_record_pairs = best_data_from_columns(\n",
    "    simulated_ssa_numident,\n",
    "    columns=['date_of_birth'],\n",
    ")\n",
    "\n",
    "best_date_of_death, best_date_of_death_source_record_pairs = best_data_from_columns(\n",
    "    simulated_ssa_numident[simulated_ssa_numident.event_type == 'death'],\n",
    "    columns=['event_date'],\n",
    ")\n",
    "best_date_of_death = best_date_of_death.rename(columns={'event_date': 'date_of_death'})\n",
    "\n",
    "simulated_census_numident, simulated_census_numident_source_record_pairs = df_ops.persist(merge_preserving_source_records(\n",
    "    [best_name, best_date_of_birth, best_date_of_death],\n",
    "    [best_name_source_record_pairs, best_date_of_birth_source_record_pairs, best_date_of_death_source_record_pairs],\n",
    "    new_record_id_prefix='simulated_census_numident',\n",
    "    on=['ssn'],\n",
    "    how='left',\n",
    "))\n",
    "simulated_census_numident"
   ]
  },
  {
   "cell_type": "markdown",
   "id": "fd465ebe-e5e2-47ab-a9e0-ae9d21d476da",
   "metadata": {
    "papermill": {
     "duration": 0.016133,
     "end_time": "2024-05-30T04:01:29.072117",
     "exception": false,
     "start_time": "2024-05-30T04:01:29.055984",
     "status": "completed"
    },
    "tags": []
   },
   "source": [
    "### Alternate Name Numident\n",
    "\n",
    "Wagner and Layne, p. 9:\n",
    "\n",
    ">  All variants of name information for each SSN are retained in the Alternate Name\n",
    "Numident file..."
   ]
  },
  {
   "cell_type": "code",
   "execution_count": 52,
   "id": "573250ce-0525-45de-9df9-33d8ea757161",
   "metadata": {
    "execution": {
     "iopub.execute_input": "2024-05-30T04:01:29.108363Z",
     "iopub.status.busy": "2024-05-30T04:01:29.107578Z",
     "iopub.status.idle": "2024-05-30T04:01:29.419047Z",
     "shell.execute_reply": "2024-05-30T04:01:29.417107Z"
    },
    "papermill": {
     "duration": 0.334239,
     "end_time": "2024-05-30T04:01:29.422127",
     "exception": false,
     "start_time": "2024-05-30T04:01:29.087888",
     "status": "completed"
    },
    "tags": []
   },
   "outputs": [
    {
     "name": "stdout",
     "output_type": "stream",
     "text": [
      "Imbalanced dataframe: too_few=True, too_many=False, too_large=False\n",
      "count    2.000000e+00\n",
      "mean     5.841660e+05\n",
      "std      8.261355e+05\n",
      "min      0.000000e+00\n",
      "25%      2.920830e+05\n",
      "50%      5.841660e+05\n",
      "75%      8.762490e+05\n",
      "max      1.168332e+06\n",
      "dtype: float64\n"
     ]
    },
    {
     "data": {
      "text/html": [
       "<div><strong>Dask DataFrame Structure:</strong></div>\n",
       "<div>\n",
       "<style scoped>\n",
       "    .dataframe tbody tr th:only-of-type {\n",
       "        vertical-align: middle;\n",
       "    }\n",
       "\n",
       "    .dataframe tbody tr th {\n",
       "        vertical-align: top;\n",
       "    }\n",
       "\n",
       "    .dataframe thead th {\n",
       "        text-align: right;\n",
       "    }\n",
       "</style>\n",
       "<table border=\"1\" class=\"dataframe\">\n",
       "  <thead>\n",
       "    <tr style=\"text-align: right;\">\n",
       "      <th></th>\n",
       "      <th>ssn</th>\n",
       "      <th>first_name</th>\n",
       "      <th>middle_name</th>\n",
       "      <th>last_name</th>\n",
       "      <th>record_id</th>\n",
       "    </tr>\n",
       "    <tr>\n",
       "      <th>npartitions=2</th>\n",
       "      <th></th>\n",
       "      <th></th>\n",
       "      <th></th>\n",
       "      <th></th>\n",
       "      <th></th>\n",
       "    </tr>\n",
       "  </thead>\n",
       "  <tbody>\n",
       "    <tr>\n",
       "      <th></th>\n",
       "      <td>string</td>\n",
       "      <td>string</td>\n",
       "      <td>string</td>\n",
       "      <td>string</td>\n",
       "      <td>string</td>\n",
       "    </tr>\n",
       "    <tr>\n",
       "      <th></th>\n",
       "      <td>...</td>\n",
       "      <td>...</td>\n",
       "      <td>...</td>\n",
       "      <td>...</td>\n",
       "      <td>...</td>\n",
       "    </tr>\n",
       "    <tr>\n",
       "      <th></th>\n",
       "      <td>...</td>\n",
       "      <td>...</td>\n",
       "      <td>...</td>\n",
       "      <td>...</td>\n",
       "      <td>...</td>\n",
       "    </tr>\n",
       "  </tbody>\n",
       "</table>\n",
       "</div>\n",
       "<div>Dask Name: to_pyarrow_string, 1 graph layer</div>"
      ],
      "text/plain": [
       "Dask DataFrame Structure:\n",
       "                  ssn first_name middle_name last_name record_id\n",
       "npartitions=2                                                   \n",
       "               string     string      string    string    string\n",
       "                  ...        ...         ...       ...       ...\n",
       "                  ...        ...         ...       ...       ...\n",
       "Dask Name: to_pyarrow_string, 1 graph layer"
      ]
     },
     "execution_count": 52,
     "metadata": {},
     "output_type": "execute_result"
    }
   ],
   "source": [
    "simulated_alternate_name_numident, simulated_alternate_name_numident_source_record_pairs = df_ops.persist(dedupe_preserving_source_records(\n",
    "    simulated_ssa_numident,\n",
    "    simulated_ssa_numident_source_record_pairs,\n",
    "    columns_to_dedupe=['ssn', 'first_name', 'middle_name', 'last_name'],\n",
    "    new_record_id_prefix='simulated_alternate_name_numident',\n",
    "))\n",
    "simulated_alternate_name_numident"
   ]
  },
  {
   "cell_type": "code",
   "execution_count": 53,
   "id": "739b9b20-dde1-4079-ae90-9c5608d7a683",
   "metadata": {
    "execution": {
     "iopub.execute_input": "2024-05-30T04:01:29.462342Z",
     "iopub.status.busy": "2024-05-30T04:01:29.461589Z",
     "iopub.status.idle": "2024-05-30T04:01:30.056694Z",
     "shell.execute_reply": "2024-05-30T04:01:30.055248Z"
    },
    "papermill": {
     "duration": 0.614773,
     "end_time": "2024-05-30T04:01:30.058722",
     "exception": false,
     "start_time": "2024-05-30T04:01:29.443949",
     "status": "completed"
    },
    "tags": []
   },
   "outputs": [
    {
     "data": {
      "text/plain": [
       "count    18469.000000\n",
       "mean         1.025610\n",
       "std          0.157974\n",
       "min          1.000000\n",
       "25%          1.000000\n",
       "50%          1.000000\n",
       "75%          1.000000\n",
       "max          2.000000\n",
       "dtype: float64"
      ]
     },
     "execution_count": 53,
     "metadata": {},
     "output_type": "execute_result"
    }
   ],
   "source": [
    "df_ops.compute(df_ops.groupby_agg_small_groups(simulated_alternate_name_numident, by='ssn', agg_func=lambda x: x.size()).describe())"
   ]
  },
  {
   "cell_type": "code",
   "execution_count": 54,
   "id": "d67dd34f-2edf-4dcd-a2d2-80f421c24884",
   "metadata": {
    "execution": {
     "iopub.execute_input": "2024-05-30T04:01:30.097064Z",
     "iopub.status.busy": "2024-05-30T04:01:30.096174Z",
     "iopub.status.idle": "2024-05-30T04:01:31.059195Z",
     "shell.execute_reply": "2024-05-30T04:01:31.058430Z"
    },
    "papermill": {
     "duration": 0.985343,
     "end_time": "2024-05-30T04:01:31.063364",
     "exception": false,
     "start_time": "2024-05-30T04:01:30.078021",
     "status": "completed"
    },
    "tags": []
   },
   "outputs": [
    {
     "data": {
      "text/html": [
       "<div>\n",
       "<style scoped>\n",
       "    .dataframe tbody tr th:only-of-type {\n",
       "        vertical-align: middle;\n",
       "    }\n",
       "\n",
       "    .dataframe tbody tr th {\n",
       "        vertical-align: top;\n",
       "    }\n",
       "\n",
       "    .dataframe thead th {\n",
       "        text-align: right;\n",
       "    }\n",
       "</style>\n",
       "<table border=\"1\" class=\"dataframe\">\n",
       "  <thead>\n",
       "    <tr style=\"text-align: right;\">\n",
       "      <th></th>\n",
       "      <th>ssn</th>\n",
       "      <th>first_name</th>\n",
       "      <th>middle_name</th>\n",
       "      <th>last_name</th>\n",
       "      <th>record_id</th>\n",
       "    </tr>\n",
       "  </thead>\n",
       "  <tbody>\n",
       "    <tr>\n",
       "      <th>428</th>\n",
       "      <td>791-62-7882</td>\n",
       "      <td>Eric</td>\n",
       "      <td>Douglas</td>\n",
       "      <td>Upshur</td>\n",
       "      <td>simulated_alternate_name_numident_1_16666</td>\n",
       "    </tr>\n",
       "    <tr>\n",
       "      <th>429</th>\n",
       "      <td>791-62-7882</td>\n",
       "      <td>Rick</td>\n",
       "      <td>Douglas</td>\n",
       "      <td>Upshur</td>\n",
       "      <td>simulated_alternate_name_numident_1_16667</td>\n",
       "    </tr>\n",
       "    <tr>\n",
       "      <th>418</th>\n",
       "      <td>793-06-7496</td>\n",
       "      <td>&lt;NA&gt;</td>\n",
       "      <td>Mary</td>\n",
       "      <td>Muskett</td>\n",
       "      <td>simulated_alternate_name_numident_1_16691</td>\n",
       "    </tr>\n",
       "    <tr>\n",
       "      <th>419</th>\n",
       "      <td>793-06-7496</td>\n",
       "      <td>Nancy</td>\n",
       "      <td>Mary</td>\n",
       "      <td>Muskett</td>\n",
       "      <td>simulated_alternate_name_numident_1_16692</td>\n",
       "    </tr>\n",
       "    <tr>\n",
       "      <th>430</th>\n",
       "      <td>794-71-6508</td>\n",
       "      <td>Shaarn</td>\n",
       "      <td>Mildred</td>\n",
       "      <td>Zellers</td>\n",
       "      <td>simulated_alternate_name_numident_1_16723</td>\n",
       "    </tr>\n",
       "    <tr>\n",
       "      <th>...</th>\n",
       "      <td>...</td>\n",
       "      <td>...</td>\n",
       "      <td>...</td>\n",
       "      <td>...</td>\n",
       "      <td>...</td>\n",
       "    </tr>\n",
       "    <tr>\n",
       "      <th>473</th>\n",
       "      <td>898-71-7849</td>\n",
       "      <td>Fay</td>\n",
       "      <td>Jean</td>\n",
       "      <td>Gallipo</td>\n",
       "      <td>simulated_alternate_name_numident_1_18909</td>\n",
       "    </tr>\n",
       "    <tr>\n",
       "      <th>468</th>\n",
       "      <td>899-07-0109</td>\n",
       "      <td>Jeffrey</td>\n",
       "      <td>Glenn</td>\n",
       "      <td>Williams</td>\n",
       "      <td>simulated_alternate_name_numident_1_18918</td>\n",
       "    </tr>\n",
       "    <tr>\n",
       "      <th>469</th>\n",
       "      <td>899-07-0109</td>\n",
       "      <td>Jeffrey</td>\n",
       "      <td>Glenn</td>\n",
       "      <td>Wkloishs</td>\n",
       "      <td>simulated_alternate_name_numident_1_18919</td>\n",
       "    </tr>\n",
       "    <tr>\n",
       "      <th>474</th>\n",
       "      <td>899-24-9400</td>\n",
       "      <td>Willie</td>\n",
       "      <td>David</td>\n",
       "      <td>&lt;NA&gt;</td>\n",
       "      <td>simulated_alternate_name_numident_1_18923</td>\n",
       "    </tr>\n",
       "    <tr>\n",
       "      <th>475</th>\n",
       "      <td>899-24-9400</td>\n",
       "      <td>Willie</td>\n",
       "      <td>David</td>\n",
       "      <td>Wagner</td>\n",
       "      <td>simulated_alternate_name_numident_1_18924</td>\n",
       "    </tr>\n",
       "  </tbody>\n",
       "</table>\n",
       "<p>100 rows × 5 columns</p>\n",
       "</div>"
      ],
      "text/plain": [
       "             ssn first_name middle_name last_name  \\\n",
       "428  791-62-7882       Eric     Douglas    Upshur   \n",
       "429  791-62-7882       Rick     Douglas    Upshur   \n",
       "418  793-06-7496       <NA>        Mary   Muskett   \n",
       "419  793-06-7496      Nancy        Mary   Muskett   \n",
       "430  794-71-6508     Shaarn     Mildred   Zellers   \n",
       "..           ...        ...         ...       ...   \n",
       "473  898-71-7849        Fay        Jean   Gallipo   \n",
       "468  899-07-0109    Jeffrey       Glenn  Williams   \n",
       "469  899-07-0109    Jeffrey       Glenn  Wkloishs   \n",
       "474  899-24-9400     Willie       David      <NA>   \n",
       "475  899-24-9400     Willie       David    Wagner   \n",
       "\n",
       "                                     record_id  \n",
       "428  simulated_alternate_name_numident_1_16666  \n",
       "429  simulated_alternate_name_numident_1_16667  \n",
       "418  simulated_alternate_name_numident_1_16691  \n",
       "419  simulated_alternate_name_numident_1_16692  \n",
       "430  simulated_alternate_name_numident_1_16723  \n",
       "..                                         ...  \n",
       "473  simulated_alternate_name_numident_1_18909  \n",
       "468  simulated_alternate_name_numident_1_18918  \n",
       "469  simulated_alternate_name_numident_1_18919  \n",
       "474  simulated_alternate_name_numident_1_18923  \n",
       "475  simulated_alternate_name_numident_1_18924  \n",
       "\n",
       "[100 rows x 5 columns]"
      ]
     },
     "execution_count": 54,
     "metadata": {},
     "output_type": "execute_result"
    }
   ],
   "source": [
    "# Show alternate names for the same simulated SSN\n",
    "simulated_alternate_name_numident.merge(\n",
    "    df_ops.groupby_agg_small_groups(simulated_alternate_name_numident[[\"ssn\"]], by=\"ssn\", agg_func=lambda x: x.size()).pipe(lambda x: x[x > 1]).reset_index()[['ssn']],\n",
    "    on='ssn',\n",
    "    how='inner'\n",
    ").sort_values('ssn').tail(100)"
   ]
  },
  {
   "cell_type": "markdown",
   "id": "b44f0a25-79c3-47c2-8474-f6afd205f7e2",
   "metadata": {
    "papermill": {
     "duration": 0.016659,
     "end_time": "2024-05-30T04:01:31.101529",
     "exception": false,
     "start_time": "2024-05-30T04:01:31.084870",
     "status": "completed"
    },
    "tags": []
   },
   "source": [
    "### Alternate DOB Numident\n",
    "\n",
    "Wagner and Layne, p. 9:\n",
    "\n",
    "> ... while all variants of date of birth data are retained in the Alternate DOB\n",
    "Numident."
   ]
  },
  {
   "cell_type": "code",
   "execution_count": 55,
   "id": "128fe5fb-57b6-4ccb-9096-e6aafd5452ee",
   "metadata": {
    "execution": {
     "iopub.execute_input": "2024-05-30T04:01:31.139626Z",
     "iopub.status.busy": "2024-05-30T04:01:31.138856Z",
     "iopub.status.idle": "2024-05-30T04:01:31.438039Z",
     "shell.execute_reply": "2024-05-30T04:01:31.436978Z"
    },
    "papermill": {
     "duration": 0.323561,
     "end_time": "2024-05-30T04:01:31.441621",
     "exception": false,
     "start_time": "2024-05-30T04:01:31.118060",
     "status": "completed"
    },
    "tags": []
   },
   "outputs": [
    {
     "name": "stdout",
     "output_type": "stream",
     "text": [
      "Imbalanced dataframe: too_few=True, too_many=False, too_large=False\n",
      "count         2.000000\n",
      "mean     328069.000000\n",
      "std      463959.629194\n",
      "min           0.000000\n",
      "25%      164034.500000\n",
      "50%      328069.000000\n",
      "75%      492103.500000\n",
      "max      656138.000000\n",
      "dtype: float64\n"
     ]
    },
    {
     "data": {
      "text/html": [
       "<div><strong>Dask DataFrame Structure:</strong></div>\n",
       "<div>\n",
       "<style scoped>\n",
       "    .dataframe tbody tr th:only-of-type {\n",
       "        vertical-align: middle;\n",
       "    }\n",
       "\n",
       "    .dataframe tbody tr th {\n",
       "        vertical-align: top;\n",
       "    }\n",
       "\n",
       "    .dataframe thead th {\n",
       "        text-align: right;\n",
       "    }\n",
       "</style>\n",
       "<table border=\"1\" class=\"dataframe\">\n",
       "  <thead>\n",
       "    <tr style=\"text-align: right;\">\n",
       "      <th></th>\n",
       "      <th>ssn</th>\n",
       "      <th>date_of_birth</th>\n",
       "      <th>record_id</th>\n",
       "    </tr>\n",
       "    <tr>\n",
       "      <th>npartitions=2</th>\n",
       "      <th></th>\n",
       "      <th></th>\n",
       "      <th></th>\n",
       "    </tr>\n",
       "  </thead>\n",
       "  <tbody>\n",
       "    <tr>\n",
       "      <th></th>\n",
       "      <td>string</td>\n",
       "      <td>string</td>\n",
       "      <td>string</td>\n",
       "    </tr>\n",
       "    <tr>\n",
       "      <th></th>\n",
       "      <td>...</td>\n",
       "      <td>...</td>\n",
       "      <td>...</td>\n",
       "    </tr>\n",
       "    <tr>\n",
       "      <th></th>\n",
       "      <td>...</td>\n",
       "      <td>...</td>\n",
       "      <td>...</td>\n",
       "    </tr>\n",
       "  </tbody>\n",
       "</table>\n",
       "</div>\n",
       "<div>Dask Name: to_pyarrow_string, 1 graph layer</div>"
      ],
      "text/plain": [
       "Dask DataFrame Structure:\n",
       "                  ssn date_of_birth record_id\n",
       "npartitions=2                                \n",
       "               string        string    string\n",
       "                  ...           ...       ...\n",
       "                  ...           ...       ...\n",
       "Dask Name: to_pyarrow_string, 1 graph layer"
      ]
     },
     "execution_count": 55,
     "metadata": {},
     "output_type": "execute_result"
    }
   ],
   "source": [
    "simulated_alternate_dob_numident, simulated_alternate_dob_numident_source_record_pairs = df_ops.persist(dedupe_preserving_source_records(\n",
    "    simulated_ssa_numident,\n",
    "    simulated_ssa_numident_source_record_pairs,\n",
    "    columns_to_dedupe=['ssn', 'date_of_birth'],\n",
    "    new_record_id_prefix='simulated_alternate_dob_numident',\n",
    "))\n",
    "simulated_alternate_dob_numident"
   ]
  },
  {
   "cell_type": "code",
   "execution_count": 56,
   "id": "85796613-6206-4587-b13f-f13cfab9fb89",
   "metadata": {
    "execution": {
     "iopub.execute_input": "2024-05-30T04:01:31.483508Z",
     "iopub.status.busy": "2024-05-30T04:01:31.482768Z",
     "iopub.status.idle": "2024-05-30T04:01:31.889398Z",
     "shell.execute_reply": "2024-05-30T04:01:31.888255Z"
    },
    "papermill": {
     "duration": 0.428198,
     "end_time": "2024-05-30T04:01:31.892681",
     "exception": false,
     "start_time": "2024-05-30T04:01:31.464483",
     "status": "completed"
    },
    "tags": []
   },
   "outputs": [
    {
     "data": {
      "text/plain": [
       "count    18469.000000\n",
       "mean         1.013915\n",
       "std          0.117142\n",
       "min          1.000000\n",
       "25%          1.000000\n",
       "50%          1.000000\n",
       "75%          1.000000\n",
       "max          2.000000\n",
       "dtype: float64"
      ]
     },
     "execution_count": 56,
     "metadata": {},
     "output_type": "execute_result"
    }
   ],
   "source": [
    "df_ops.compute(df_ops.groupby_agg_small_groups(simulated_alternate_dob_numident, by='ssn', agg_func=lambda x: x.size()).describe())"
   ]
  },
  {
   "cell_type": "code",
   "execution_count": 57,
   "id": "eb4537c0-d04c-42a3-8a66-8d12e56af33e",
   "metadata": {
    "execution": {
     "iopub.execute_input": "2024-05-30T04:01:31.935845Z",
     "iopub.status.busy": "2024-05-30T04:01:31.935222Z",
     "iopub.status.idle": "2024-05-30T04:01:32.943913Z",
     "shell.execute_reply": "2024-05-30T04:01:32.943078Z"
    },
    "papermill": {
     "duration": 1.030726,
     "end_time": "2024-05-30T04:01:32.947477",
     "exception": false,
     "start_time": "2024-05-30T04:01:31.916751",
     "status": "completed"
    },
    "tags": []
   },
   "outputs": [
    {
     "data": {
      "text/html": [
       "<div>\n",
       "<style scoped>\n",
       "    .dataframe tbody tr th:only-of-type {\n",
       "        vertical-align: middle;\n",
       "    }\n",
       "\n",
       "    .dataframe tbody tr th {\n",
       "        vertical-align: top;\n",
       "    }\n",
       "\n",
       "    .dataframe thead th {\n",
       "        text-align: right;\n",
       "    }\n",
       "</style>\n",
       "<table border=\"1\" class=\"dataframe\">\n",
       "  <thead>\n",
       "    <tr style=\"text-align: right;\">\n",
       "      <th></th>\n",
       "      <th>ssn</th>\n",
       "      <th>date_of_birth</th>\n",
       "      <th>record_id</th>\n",
       "    </tr>\n",
       "  </thead>\n",
       "  <tbody>\n",
       "    <tr>\n",
       "      <th>202</th>\n",
       "      <td>752-57-7892</td>\n",
       "      <td>19621210</td>\n",
       "      <td>simulated_alternate_dob_numident_1_15628</td>\n",
       "    </tr>\n",
       "    <tr>\n",
       "      <th>203</th>\n",
       "      <td>752-57-7892</td>\n",
       "      <td>19611210</td>\n",
       "      <td>simulated_alternate_dob_numident_1_15629</td>\n",
       "    </tr>\n",
       "    <tr>\n",
       "      <th>204</th>\n",
       "      <td>752-86-2170</td>\n",
       "      <td>20010521</td>\n",
       "      <td>simulated_alternate_dob_numident_1_15638</td>\n",
       "    </tr>\n",
       "    <tr>\n",
       "      <th>205</th>\n",
       "      <td>752-86-2170</td>\n",
       "      <td>20010511</td>\n",
       "      <td>simulated_alternate_dob_numident_1_15639</td>\n",
       "    </tr>\n",
       "    <tr>\n",
       "      <th>206</th>\n",
       "      <td>758-56-9805</td>\n",
       "      <td>19330714</td>\n",
       "      <td>simulated_alternate_dob_numident_1_15762</td>\n",
       "    </tr>\n",
       "    <tr>\n",
       "      <th>...</th>\n",
       "      <td>...</td>\n",
       "      <td>...</td>\n",
       "      <td>...</td>\n",
       "    </tr>\n",
       "    <tr>\n",
       "      <th>239</th>\n",
       "      <td>898-02-5861</td>\n",
       "      <td>19420724</td>\n",
       "      <td>simulated_alternate_dob_numident_1_18678</td>\n",
       "    </tr>\n",
       "    <tr>\n",
       "      <th>270</th>\n",
       "      <td>898-71-7849</td>\n",
       "      <td>17320809</td>\n",
       "      <td>simulated_alternate_dob_numident_1_18693</td>\n",
       "    </tr>\n",
       "    <tr>\n",
       "      <th>271</th>\n",
       "      <td>898-71-7849</td>\n",
       "      <td>19320809</td>\n",
       "      <td>simulated_alternate_dob_numident_1_18694</td>\n",
       "    </tr>\n",
       "    <tr>\n",
       "      <th>240</th>\n",
       "      <td>899-07-0109</td>\n",
       "      <td>19650509</td>\n",
       "      <td>simulated_alternate_dob_numident_1_18703</td>\n",
       "    </tr>\n",
       "    <tr>\n",
       "      <th>241</th>\n",
       "      <td>899-07-0109</td>\n",
       "      <td>19580911</td>\n",
       "      <td>simulated_alternate_dob_numident_1_18704</td>\n",
       "    </tr>\n",
       "  </tbody>\n",
       "</table>\n",
       "<p>100 rows × 3 columns</p>\n",
       "</div>"
      ],
      "text/plain": [
       "             ssn date_of_birth                                 record_id\n",
       "202  752-57-7892      19621210  simulated_alternate_dob_numident_1_15628\n",
       "203  752-57-7892      19611210  simulated_alternate_dob_numident_1_15629\n",
       "204  752-86-2170      20010521  simulated_alternate_dob_numident_1_15638\n",
       "205  752-86-2170      20010511  simulated_alternate_dob_numident_1_15639\n",
       "206  758-56-9805      19330714  simulated_alternate_dob_numident_1_15762\n",
       "..           ...           ...                                       ...\n",
       "239  898-02-5861      19420724  simulated_alternate_dob_numident_1_18678\n",
       "270  898-71-7849      17320809  simulated_alternate_dob_numident_1_18693\n",
       "271  898-71-7849      19320809  simulated_alternate_dob_numident_1_18694\n",
       "240  899-07-0109      19650509  simulated_alternate_dob_numident_1_18703\n",
       "241  899-07-0109      19580911  simulated_alternate_dob_numident_1_18704\n",
       "\n",
       "[100 rows x 3 columns]"
      ]
     },
     "execution_count": 57,
     "metadata": {},
     "output_type": "execute_result"
    }
   ],
   "source": [
    "simulated_alternate_dob_numident.merge(\n",
    "    df_ops.groupby_agg_small_groups(simulated_alternate_dob_numident[[\"ssn\"]], by=\"ssn\", agg_func=lambda x: x.size()).pipe(lambda x: x[x > 1]).reset_index()[['ssn']],\n",
    "    on='ssn',\n",
    "    how='inner'\n",
    ").sort_values('ssn').tail(100)"
   ]
  },
  {
   "cell_type": "markdown",
   "id": "9040aaad-1228-4921-bc95-ad3011f1bdf3",
   "metadata": {
    "papermill": {
     "duration": 0.017399,
     "end_time": "2024-05-30T04:01:32.988194",
     "exception": false,
     "start_time": "2024-05-30T04:01:32.970795",
     "status": "completed"
    },
    "tags": []
   },
   "source": [
    "### Name/DOB Reference File\n",
    "\n",
    "Wagner and Layne, p. 9:\n",
    "\n",
    "> The Name and DOB Reference files are reformatted versions of the Census Numident\n",
    "and includes **all possible combinations of alternate names and dates of birth, as well as\n",
    "ITIN data**. All of the reference files contain SSN/ITIN and the corresponding PIK. When\n",
    "an input record is linked to a reference file, the corresponding PIK is assigned. Table 1\n",
    "presents the number of observations in each of the reference files.\n",
    "\n",
    "A slightly confusing point: sometimes the Name and DOB reference files are described\n",
    "as one and the same thing, and sometimes as separate.\n",
    "I believe this is because **they differ only in how they are \"cut\" for the PVS process:**\n",
    "the name reference file is cut by first and last initial,\n",
    "while the DOB reference file is cut by month and day of birth.\n",
    "\n",
    "This is described in Wagner and Layne, p.15:\n",
    "\n",
    "> The [DOBSearch] module matches against a re-split\n",
    "version of the Numident Name Reference file, splitting the data based on month and day\n",
    "of birth.\n",
    "\n",
    "Since we handle the logic of \"cutting\" in the linkage process itself, we generate\n",
    "a single reference file here.\n",
    "\n",
    "Note that unlike for addresses, and unlike for the pre-processing of *input* files\n",
    "(as opposed to reference files), there is no explicit nickname processing/correction here.\n",
    "I am fairly sure that is accurate to the PVS, which I believe assumes that nicknames\n",
    "would not be present in SSA/tax records (or at least, that the real name would appear\n",
    "at least once in these records)."
   ]
  },
  {
   "cell_type": "code",
   "execution_count": 58,
   "id": "29cc9e45-d862-484a-b5ff-4c12ff6b00c9",
   "metadata": {
    "execution": {
     "iopub.execute_input": "2024-05-30T04:01:33.025141Z",
     "iopub.status.busy": "2024-05-30T04:01:33.023611Z",
     "iopub.status.idle": "2024-05-30T04:01:33.880353Z",
     "shell.execute_reply": "2024-05-30T04:01:33.879557Z"
    },
    "papermill": {
     "duration": 0.879052,
     "end_time": "2024-05-30T04:01:33.884087",
     "exception": false,
     "start_time": "2024-05-30T04:01:33.005035",
     "status": "completed"
    },
    "tags": []
   },
   "outputs": [
    {
     "data": {
      "text/html": [
       "<div><strong>Dask DataFrame Structure:</strong></div>\n",
       "<div>\n",
       "<style scoped>\n",
       "    .dataframe tbody tr th:only-of-type {\n",
       "        vertical-align: middle;\n",
       "    }\n",
       "\n",
       "    .dataframe tbody tr th {\n",
       "        vertical-align: top;\n",
       "    }\n",
       "\n",
       "    .dataframe thead th {\n",
       "        text-align: right;\n",
       "    }\n",
       "</style>\n",
       "<table border=\"1\" class=\"dataframe\">\n",
       "  <thead>\n",
       "    <tr style=\"text-align: right;\">\n",
       "      <th></th>\n",
       "      <th>ssn</th>\n",
       "      <th>first_name</th>\n",
       "      <th>middle_name</th>\n",
       "      <th>last_name</th>\n",
       "      <th>date_of_birth</th>\n",
       "      <th>record_id</th>\n",
       "    </tr>\n",
       "    <tr>\n",
       "      <th>npartitions=2</th>\n",
       "      <th></th>\n",
       "      <th></th>\n",
       "      <th></th>\n",
       "      <th></th>\n",
       "      <th></th>\n",
       "      <th></th>\n",
       "    </tr>\n",
       "  </thead>\n",
       "  <tbody>\n",
       "    <tr>\n",
       "      <th></th>\n",
       "      <td>string</td>\n",
       "      <td>string</td>\n",
       "      <td>string</td>\n",
       "      <td>string</td>\n",
       "      <td>string</td>\n",
       "      <td>string</td>\n",
       "    </tr>\n",
       "    <tr>\n",
       "      <th></th>\n",
       "      <td>...</td>\n",
       "      <td>...</td>\n",
       "      <td>...</td>\n",
       "      <td>...</td>\n",
       "      <td>...</td>\n",
       "      <td>...</td>\n",
       "    </tr>\n",
       "    <tr>\n",
       "      <th></th>\n",
       "      <td>...</td>\n",
       "      <td>...</td>\n",
       "      <td>...</td>\n",
       "      <td>...</td>\n",
       "      <td>...</td>\n",
       "      <td>...</td>\n",
       "    </tr>\n",
       "  </tbody>\n",
       "</table>\n",
       "</div>\n",
       "<div>Dask Name: drop_by_shallow_copy, 1 graph layer</div>"
      ],
      "text/plain": [
       "Dask DataFrame Structure:\n",
       "                  ssn first_name middle_name last_name date_of_birth record_id\n",
       "npartitions=2                                                                 \n",
       "               string     string      string    string        string    string\n",
       "                  ...        ...         ...       ...           ...       ...\n",
       "                  ...        ...         ...       ...           ...       ...\n",
       "Dask Name: drop_by_shallow_copy, 1 graph layer"
      ]
     },
     "execution_count": 58,
     "metadata": {},
     "output_type": "execute_result"
    }
   ],
   "source": [
    "simulated_name_dob_numident_records, simulated_name_dob_numident_records_source_record_pairs = df_ops.persist(merge_preserving_source_records(\n",
    "    [simulated_alternate_name_numident, simulated_alternate_dob_numident],\n",
    "    [simulated_alternate_name_numident_source_record_pairs, simulated_alternate_dob_numident_source_record_pairs],\n",
    "    on=['ssn'],\n",
    "    how='left',\n",
    "    new_record_id_prefix='name_dob_numident_records',\n",
    "))\n",
    "simulated_name_dob_numident_records"
   ]
  },
  {
   "cell_type": "code",
   "execution_count": 59,
   "id": "2eb4add5-6f0b-4d43-ac31-6e085a678e06",
   "metadata": {
    "execution": {
     "iopub.execute_input": "2024-05-30T04:01:33.928361Z",
     "iopub.status.busy": "2024-05-30T04:01:33.927523Z",
     "iopub.status.idle": "2024-05-30T04:01:34.822150Z",
     "shell.execute_reply": "2024-05-30T04:01:34.821432Z"
    },
    "papermill": {
     "duration": 0.914911,
     "end_time": "2024-05-30T04:01:34.823436",
     "exception": false,
     "start_time": "2024-05-30T04:01:33.908525",
     "status": "completed"
    },
    "tags": []
   },
   "outputs": [
    {
     "data": {
      "text/html": [
       "<div>\n",
       "<style scoped>\n",
       "    .dataframe tbody tr th:only-of-type {\n",
       "        vertical-align: middle;\n",
       "    }\n",
       "\n",
       "    .dataframe tbody tr th {\n",
       "        vertical-align: top;\n",
       "    }\n",
       "\n",
       "    .dataframe thead th {\n",
       "        text-align: right;\n",
       "    }\n",
       "</style>\n",
       "<table border=\"1\" class=\"dataframe\">\n",
       "  <thead>\n",
       "    <tr style=\"text-align: right;\">\n",
       "      <th></th>\n",
       "      <th>ssn</th>\n",
       "      <th>first_name</th>\n",
       "      <th>middle_name</th>\n",
       "      <th>last_name</th>\n",
       "      <th>date_of_birth</th>\n",
       "      <th>record_id</th>\n",
       "    </tr>\n",
       "  </thead>\n",
       "  <tbody>\n",
       "    <tr>\n",
       "      <th>662</th>\n",
       "      <td>839-37-3165</td>\n",
       "      <td>Linda</td>\n",
       "      <td>Caryn</td>\n",
       "      <td>&lt;NA&gt;</td>\n",
       "      <td>&lt;NA&gt;</td>\n",
       "      <td>name_dob_numident_records_1_9092</td>\n",
       "    </tr>\n",
       "    <tr>\n",
       "      <th>663</th>\n",
       "      <td>839-37-3165</td>\n",
       "      <td>Linda</td>\n",
       "      <td>Caryn</td>\n",
       "      <td>&lt;NA&gt;</td>\n",
       "      <td>19490818</td>\n",
       "      <td>name_dob_numident_records_1_9093</td>\n",
       "    </tr>\n",
       "    <tr>\n",
       "      <th>664</th>\n",
       "      <td>839-37-3165</td>\n",
       "      <td>Linda</td>\n",
       "      <td>Caryn</td>\n",
       "      <td>Rollins</td>\n",
       "      <td>&lt;NA&gt;</td>\n",
       "      <td>name_dob_numident_records_1_9094</td>\n",
       "    </tr>\n",
       "    <tr>\n",
       "      <th>665</th>\n",
       "      <td>839-37-3165</td>\n",
       "      <td>Linda</td>\n",
       "      <td>Caryn</td>\n",
       "      <td>Rollins</td>\n",
       "      <td>19490818</td>\n",
       "      <td>name_dob_numident_records_1_9095</td>\n",
       "    </tr>\n",
       "    <tr>\n",
       "      <th>666</th>\n",
       "      <td>839-60-1199</td>\n",
       "      <td>Betty</td>\n",
       "      <td>&lt;NA&gt;</td>\n",
       "      <td>Ausmus</td>\n",
       "      <td>19351116</td>\n",
       "      <td>name_dob_numident_records_1_9097</td>\n",
       "    </tr>\n",
       "    <tr>\n",
       "      <th>...</th>\n",
       "      <td>...</td>\n",
       "      <td>...</td>\n",
       "      <td>...</td>\n",
       "      <td>...</td>\n",
       "      <td>...</td>\n",
       "      <td>...</td>\n",
       "    </tr>\n",
       "    <tr>\n",
       "      <th>709</th>\n",
       "      <td>899-07-0109</td>\n",
       "      <td>Jeffrey</td>\n",
       "      <td>Glenn</td>\n",
       "      <td>Williams</td>\n",
       "      <td>19580911</td>\n",
       "      <td>name_dob_numident_records_1_9726</td>\n",
       "    </tr>\n",
       "    <tr>\n",
       "      <th>710</th>\n",
       "      <td>899-07-0109</td>\n",
       "      <td>Jeffrey</td>\n",
       "      <td>Glenn</td>\n",
       "      <td>Wkloishs</td>\n",
       "      <td>19650509</td>\n",
       "      <td>name_dob_numident_records_1_9727</td>\n",
       "    </tr>\n",
       "    <tr>\n",
       "      <th>711</th>\n",
       "      <td>899-07-0109</td>\n",
       "      <td>Jeffrey</td>\n",
       "      <td>Glenn</td>\n",
       "      <td>Wkloishs</td>\n",
       "      <td>19580911</td>\n",
       "      <td>name_dob_numident_records_1_9728</td>\n",
       "    </tr>\n",
       "    <tr>\n",
       "      <th>746</th>\n",
       "      <td>899-24-9400</td>\n",
       "      <td>Willie</td>\n",
       "      <td>David</td>\n",
       "      <td>&lt;NA&gt;</td>\n",
       "      <td>19530914</td>\n",
       "      <td>name_dob_numident_records_0_9536</td>\n",
       "    </tr>\n",
       "    <tr>\n",
       "      <th>747</th>\n",
       "      <td>899-24-9400</td>\n",
       "      <td>Willie</td>\n",
       "      <td>David</td>\n",
       "      <td>Wagner</td>\n",
       "      <td>19530914</td>\n",
       "      <td>name_dob_numident_records_0_9537</td>\n",
       "    </tr>\n",
       "  </tbody>\n",
       "</table>\n",
       "<p>100 rows × 6 columns</p>\n",
       "</div>"
      ],
      "text/plain": [
       "             ssn first_name middle_name last_name date_of_birth  \\\n",
       "662  839-37-3165      Linda       Caryn      <NA>          <NA>   \n",
       "663  839-37-3165      Linda       Caryn      <NA>      19490818   \n",
       "664  839-37-3165      Linda       Caryn   Rollins          <NA>   \n",
       "665  839-37-3165      Linda       Caryn   Rollins      19490818   \n",
       "666  839-60-1199      Betty        <NA>    Ausmus      19351116   \n",
       "..           ...        ...         ...       ...           ...   \n",
       "709  899-07-0109    Jeffrey       Glenn  Williams      19580911   \n",
       "710  899-07-0109    Jeffrey       Glenn  Wkloishs      19650509   \n",
       "711  899-07-0109    Jeffrey       Glenn  Wkloishs      19580911   \n",
       "746  899-24-9400     Willie       David      <NA>      19530914   \n",
       "747  899-24-9400     Willie       David    Wagner      19530914   \n",
       "\n",
       "                            record_id  \n",
       "662  name_dob_numident_records_1_9092  \n",
       "663  name_dob_numident_records_1_9093  \n",
       "664  name_dob_numident_records_1_9094  \n",
       "665  name_dob_numident_records_1_9095  \n",
       "666  name_dob_numident_records_1_9097  \n",
       "..                                ...  \n",
       "709  name_dob_numident_records_1_9726  \n",
       "710  name_dob_numident_records_1_9727  \n",
       "711  name_dob_numident_records_1_9728  \n",
       "746  name_dob_numident_records_0_9536  \n",
       "747  name_dob_numident_records_0_9537  \n",
       "\n",
       "[100 rows x 6 columns]"
      ]
     },
     "execution_count": 59,
     "metadata": {},
     "output_type": "execute_result"
    }
   ],
   "source": [
    "# Show alternate name/DOB for the same simulated SSN\n",
    "simulated_name_dob_numident_records.merge(\n",
    "    df_ops.groupby_agg_small_groups(simulated_name_dob_numident_records[[\"ssn\"]], by=\"ssn\", agg_func=lambda x: x.size()).pipe(lambda x: x[x > 1]).reset_index()[['ssn']],\n",
    "    on='ssn',\n",
    "    how='inner',\n",
    ").sort_values('ssn').tail(100)"
   ]
  },
  {
   "cell_type": "markdown",
   "id": "06083d51-f83c-4cd0-92cf-e1364220456b",
   "metadata": {
    "papermill": {
     "duration": 0.018102,
     "end_time": "2024-05-30T04:01:34.860400",
     "exception": false,
     "start_time": "2024-05-30T04:01:34.842298",
     "status": "completed"
    },
    "tags": []
   },
   "source": [
    "#### Incorporating people with ITINs\n",
    "\n",
    "Individual Taxpayer Identification Numbers (ITINs) can be issued to people who are required to file\n",
    "federal taxes but are not eligible for a Social Security Number.\n",
    "The most common reason for this is being an undocumented immigrant and therefore not being authorized\n",
    "to work in the United States.\n",
    "\n",
    "People without SSNs used to be impossible to assign PIKs to.\n",
    "In 2011 the NORC report stated (p. 38, footnote 19):\n",
    "\n",
    "> NORC understands that the Census Bureau has undertaken an effort to enhance the PVS reference files with IRS\n",
    "files that include Individual Taxpayer Identification Numbers (ITIN). For those people who are required to file a tax\n",
    "return but do not have, and may not want an SSN—such as a non-U.S. citizen—the IRS issues the taxpayer an ITIN.\n",
    "This enhancement to the PVS reference file may help to match more non-U.S citizens.\n",
    "\n",
    "By 2014 (Wagner and Layne, p. 5):\n",
    "\n",
    "> One of the key enhancements [made in recent years] increased the coverage of the reference files by\n",
    "including records for persons with Individual Taxpayer Identification Numbers assigned\n",
    "by the Internal Revenue Service (ITINs) to [along with?] the SSN-based Numident data. \n",
    "\n",
    "I have not found a specific description of how ITIN records are constructed in any of the\n",
    "publicly-available sources.\n",
    "This may be because it is straightforward, or because the tax data schema is confidential.\n",
    "I assume that only IRS data is used, since no other data source that I am aware of would\n",
    "report ITIN.\n",
    "\n",
    "It is stated that the ITIN records are created directly from tax filings and not\n",
    "from ITIN applications (Brown et al. p. 29, footnote 16), which is convenient\n",
    "because the tax filing data is what we can simulate with\n",
    "pseudopeople:\n",
    "\n",
    "> The NUMIDENT provides the PII on the SSN-holder from the issuing agency (SSA), and that PII is used in SSN\n",
    "verification. **For ITINs, the Census Bureau does not have access to the ITIN applications** to the issuing agency (IRS),\n",
    "so name and DOB verification of ITINs is less reliable.\n",
    "\n",
    "\"Less reliable\" is a bit confusing here, because as stated above when generating\n",
    "the simulated tax data, IRS data should not contain date of birth at all.\n",
    "Here, we have stayed true to this by omitting it entirely.\n",
    "\n",
    "We assume that only 1040 filings would be used for this purpose; we wouldn't expect ITINs to\n",
    "show up on employer-filed W-2/1099 forms."
   ]
  },
  {
   "cell_type": "code",
   "execution_count": 60,
   "id": "a580a0a7-3a43-4cd9-b427-1f72920fbcd6",
   "metadata": {
    "execution": {
     "iopub.execute_input": "2024-05-30T04:01:34.897665Z",
     "iopub.status.busy": "2024-05-30T04:01:34.896599Z",
     "iopub.status.idle": "2024-05-30T04:01:35.462374Z",
     "shell.execute_reply": "2024-05-30T04:01:35.457399Z"
    },
    "papermill": {
     "duration": 0.589363,
     "end_time": "2024-05-30T04:01:35.467145",
     "exception": false,
     "start_time": "2024-05-30T04:01:34.877782",
     "status": "completed"
    },
    "tags": []
   },
   "outputs": [
    {
     "data": {
      "text/html": [
       "<div><strong>Dask DataFrame Structure:</strong></div>\n",
       "<div>\n",
       "<style scoped>\n",
       "    .dataframe tbody tr th:only-of-type {\n",
       "        vertical-align: middle;\n",
       "    }\n",
       "\n",
       "    .dataframe tbody tr th {\n",
       "        vertical-align: top;\n",
       "    }\n",
       "\n",
       "    .dataframe thead th {\n",
       "        text-align: right;\n",
       "    }\n",
       "</style>\n",
       "<table border=\"1\" class=\"dataframe\">\n",
       "  <thead>\n",
       "    <tr style=\"text-align: right;\">\n",
       "      <th></th>\n",
       "      <th>ssn</th>\n",
       "      <th>first_name</th>\n",
       "      <th>middle_name</th>\n",
       "      <th>last_name</th>\n",
       "      <th>record_id</th>\n",
       "    </tr>\n",
       "    <tr>\n",
       "      <th>npartitions=10</th>\n",
       "      <th></th>\n",
       "      <th></th>\n",
       "      <th></th>\n",
       "      <th></th>\n",
       "      <th></th>\n",
       "    </tr>\n",
       "  </thead>\n",
       "  <tbody>\n",
       "    <tr>\n",
       "      <th></th>\n",
       "      <td>string</td>\n",
       "      <td>string</td>\n",
       "      <td>string</td>\n",
       "      <td>string</td>\n",
       "      <td>string</td>\n",
       "    </tr>\n",
       "    <tr>\n",
       "      <th></th>\n",
       "      <td>...</td>\n",
       "      <td>...</td>\n",
       "      <td>...</td>\n",
       "      <td>...</td>\n",
       "      <td>...</td>\n",
       "    </tr>\n",
       "    <tr>\n",
       "      <th>...</th>\n",
       "      <td>...</td>\n",
       "      <td>...</td>\n",
       "      <td>...</td>\n",
       "      <td>...</td>\n",
       "      <td>...</td>\n",
       "    </tr>\n",
       "    <tr>\n",
       "      <th></th>\n",
       "      <td>...</td>\n",
       "      <td>...</td>\n",
       "      <td>...</td>\n",
       "      <td>...</td>\n",
       "      <td>...</td>\n",
       "    </tr>\n",
       "    <tr>\n",
       "      <th></th>\n",
       "      <td>...</td>\n",
       "      <td>...</td>\n",
       "      <td>...</td>\n",
       "      <td>...</td>\n",
       "      <td>...</td>\n",
       "    </tr>\n",
       "  </tbody>\n",
       "</table>\n",
       "</div>\n",
       "<div>Dask Name: to_pyarrow_string, 1 graph layer</div>"
      ],
      "text/plain": [
       "Dask DataFrame Structure:\n",
       "                   ssn first_name middle_name last_name record_id\n",
       "npartitions=10                                                   \n",
       "                string     string      string    string    string\n",
       "                   ...        ...         ...       ...       ...\n",
       "...                ...        ...         ...       ...       ...\n",
       "                   ...        ...         ...       ...       ...\n",
       "                   ...        ...         ...       ...       ...\n",
       "Dask Name: to_pyarrow_string, 1 graph layer"
      ]
     },
     "execution_count": 60,
     "metadata": {},
     "output_type": "execute_result"
    }
   ],
   "source": [
    "# Analogous to the process of getting alternate names and dates of birth\n",
    "# from SSA, we retain all versions of the name from taxes.\n",
    "simulated_name_for_itins, simulated_name_for_itins_source_record_pairs = df_ops.persist(dedupe_preserving_source_records(\n",
    "    simulated_taxes_1040_with_itins.rename(columns={'middle_initial': 'middle_name'}),\n",
    "    simulated_taxes_1040_with_itins_source_record_pairs,\n",
    "    columns_to_dedupe=['ssn', 'first_name', 'middle_name', 'last_name'],\n",
    "    new_record_id_prefix='simulated_name_for_itins',\n",
    "))\n",
    "simulated_name_for_itins"
   ]
  },
  {
   "cell_type": "code",
   "execution_count": 61,
   "id": "77482b40-4980-4e30-8ebf-bdcaea5023ad",
   "metadata": {
    "execution": {
     "iopub.execute_input": "2024-05-30T04:01:35.513741Z",
     "iopub.status.busy": "2024-05-30T04:01:35.513053Z",
     "iopub.status.idle": "2024-05-30T04:01:36.162926Z",
     "shell.execute_reply": "2024-05-30T04:01:36.161623Z"
    },
    "papermill": {
     "duration": 0.671836,
     "end_time": "2024-05-30T04:01:36.164411",
     "exception": false,
     "start_time": "2024-05-30T04:01:35.492575",
     "status": "completed"
    },
    "tags": []
   },
   "outputs": [
    {
     "data": {
      "text/plain": [
       "count    509.000000\n",
       "mean       1.612967\n",
       "std        0.644105\n",
       "min        1.000000\n",
       "25%        1.000000\n",
       "50%        2.000000\n",
       "75%        2.000000\n",
       "max        4.000000\n",
       "dtype: float64"
      ]
     },
     "execution_count": 61,
     "metadata": {},
     "output_type": "execute_result"
    }
   ],
   "source": [
    "df_ops.compute(df_ops.groupby_agg_small_groups(simulated_name_for_itins, by='ssn', agg_func=lambda x: x.size()).describe())"
   ]
  },
  {
   "cell_type": "code",
   "execution_count": 62,
   "id": "5ff43555-25ea-4f23-aa31-46f82f3405e6",
   "metadata": {
    "execution": {
     "iopub.execute_input": "2024-05-30T04:01:36.209065Z",
     "iopub.status.busy": "2024-05-30T04:01:36.208213Z",
     "iopub.status.idle": "2024-05-30T04:01:36.257595Z",
     "shell.execute_reply": "2024-05-30T04:01:36.256162Z"
    },
    "papermill": {
     "duration": 0.070996,
     "end_time": "2024-05-30T04:01:36.259894",
     "exception": false,
     "start_time": "2024-05-30T04:01:36.188898",
     "status": "completed"
    },
    "tags": []
   },
   "outputs": [
    {
     "data": {
      "text/plain": [
       "0"
      ]
     },
     "execution_count": 62,
     "metadata": {},
     "output_type": "execute_result"
    }
   ],
   "source": [
    "# How many records in the simulated name/DOB numident are in the ITIN range?\n",
    "# With normal pseudopeople settings, this shouldn't happen, because SSN in SSA is noiseless.\n",
    "# If this number is >0, we may be adding ITIN records as more alternates to existing records.\n",
    "df_ops.compute(simulated_name_dob_numident_records.ssn.str.startswith('9').sum())"
   ]
  },
  {
   "cell_type": "code",
   "execution_count": 63,
   "id": "ed5e69b5-1d43-4ea3-8fc2-b88eae1a2d92",
   "metadata": {
    "execution": {
     "iopub.execute_input": "2024-05-30T04:01:36.304439Z",
     "iopub.status.busy": "2024-05-30T04:01:36.303590Z",
     "iopub.status.idle": "2024-05-30T04:01:37.199738Z",
     "shell.execute_reply": "2024-05-30T04:01:37.197874Z"
    },
    "papermill": {
     "duration": 0.918226,
     "end_time": "2024-05-30T04:01:37.202458",
     "exception": false,
     "start_time": "2024-05-30T04:01:36.284232",
     "status": "completed"
    },
    "tags": []
   },
   "outputs": [
    {
     "data": {
      "text/html": [
       "<div><strong>Dask DataFrame Structure:</strong></div>\n",
       "<div>\n",
       "<style scoped>\n",
       "    .dataframe tbody tr th:only-of-type {\n",
       "        vertical-align: middle;\n",
       "    }\n",
       "\n",
       "    .dataframe tbody tr th {\n",
       "        vertical-align: top;\n",
       "    }\n",
       "\n",
       "    .dataframe thead th {\n",
       "        text-align: right;\n",
       "    }\n",
       "</style>\n",
       "<table border=\"1\" class=\"dataframe\">\n",
       "  <thead>\n",
       "    <tr style=\"text-align: right;\">\n",
       "      <th></th>\n",
       "      <th>ssn</th>\n",
       "      <th>first_name</th>\n",
       "      <th>middle_name</th>\n",
       "      <th>last_name</th>\n",
       "      <th>date_of_birth</th>\n",
       "      <th>record_id</th>\n",
       "    </tr>\n",
       "    <tr>\n",
       "      <th>npartitions=12</th>\n",
       "      <th></th>\n",
       "      <th></th>\n",
       "      <th></th>\n",
       "      <th></th>\n",
       "      <th></th>\n",
       "      <th></th>\n",
       "    </tr>\n",
       "  </thead>\n",
       "  <tbody>\n",
       "    <tr>\n",
       "      <th></th>\n",
       "      <td>string</td>\n",
       "      <td>string</td>\n",
       "      <td>string</td>\n",
       "      <td>string</td>\n",
       "      <td>string</td>\n",
       "      <td>string</td>\n",
       "    </tr>\n",
       "    <tr>\n",
       "      <th></th>\n",
       "      <td>...</td>\n",
       "      <td>...</td>\n",
       "      <td>...</td>\n",
       "      <td>...</td>\n",
       "      <td>...</td>\n",
       "      <td>...</td>\n",
       "    </tr>\n",
       "    <tr>\n",
       "      <th>...</th>\n",
       "      <td>...</td>\n",
       "      <td>...</td>\n",
       "      <td>...</td>\n",
       "      <td>...</td>\n",
       "      <td>...</td>\n",
       "      <td>...</td>\n",
       "    </tr>\n",
       "    <tr>\n",
       "      <th></th>\n",
       "      <td>...</td>\n",
       "      <td>...</td>\n",
       "      <td>...</td>\n",
       "      <td>...</td>\n",
       "      <td>...</td>\n",
       "      <td>...</td>\n",
       "    </tr>\n",
       "    <tr>\n",
       "      <th></th>\n",
       "      <td>...</td>\n",
       "      <td>...</td>\n",
       "      <td>...</td>\n",
       "      <td>...</td>\n",
       "      <td>...</td>\n",
       "      <td>...</td>\n",
       "    </tr>\n",
       "  </tbody>\n",
       "</table>\n",
       "</div>\n",
       "<div>Dask Name: drop_by_shallow_copy, 1 graph layer</div>"
      ],
      "text/plain": [
       "Dask DataFrame Structure:\n",
       "                   ssn first_name middle_name last_name date_of_birth record_id\n",
       "npartitions=12                                                                 \n",
       "                string     string      string    string        string    string\n",
       "                   ...        ...         ...       ...           ...       ...\n",
       "...                ...        ...         ...       ...           ...       ...\n",
       "                   ...        ...         ...       ...           ...       ...\n",
       "                   ...        ...         ...       ...           ...       ...\n",
       "Dask Name: drop_by_shallow_copy, 1 graph layer"
      ]
     },
     "execution_count": 63,
     "metadata": {},
     "output_type": "execute_result"
    }
   ],
   "source": [
    "simulated_name_dob_reference_file, simulated_name_dob_reference_file_source_record_pairs = df_ops.persist(concat_preserving_source_records(\n",
    "    [simulated_name_dob_numident_records, simulated_name_for_itins],\n",
    "    [simulated_name_dob_numident_records_source_record_pairs, simulated_name_for_itins_source_record_pairs],\n",
    "    new_record_id_prefix='simulated_name_dob_reference_file',\n",
    "))\n",
    "simulated_name_dob_reference_file"
   ]
  },
  {
   "cell_type": "markdown",
   "id": "e9816d72-0a20-45d2-be2a-eb47872008da",
   "metadata": {
    "papermill": {
     "duration": 0.021509,
     "end_time": "2024-05-30T04:01:37.262119",
     "exception": false,
     "start_time": "2024-05-30T04:01:37.240610",
     "status": "completed"
    },
    "tags": []
   },
   "source": [
    "### GeoBase Reference File\n",
    "\n",
    "Wagner and Layne, p. 9:\n",
    "\n",
    "> PVS creates three other sets of reference\n",
    "files containing Numident data: the **GeoBase Reference File**, the Name Reference File,\n",
    "and the DOB Reference file.\n",
    "The GeoBase Reference File appends addresses from administrative records attached\n",
    "to Numident data, including all possible combinations of alternate names and dates of\n",
    "birth for SSN. Addresses from administrative records are edited and processed through\n",
    "commercial software product to clean and standardize address data. ITIN data is also\n",
    "incorporated into the Geobase.\n",
    "\n",
    "Luque and Wagner, p. 5:\n",
    "\n",
    "> Reference files contain data from the Numident file enhanced with address\n",
    "data obtained from federal AR [administrative records] files.<sup>8</sup>\n",
    "The reference files, thus, contain all variants of a person’s name, DOB,\n",
    "and sex, as well as current and recent addresses. These reference files are\n",
    "referred to as the (PVS) Geobase reference file since addresses (a geographic component)\n",
    "are appended to each person record.<sup>9</sup> It is important to note that there are\n",
    "multiple Geobase reference files that are created depending on the vintage of the\n",
    "incoming file to be processed through PVS.\n",
    "\n",
    "> <sup>8</sup> Namely, data from the IRS, Department of Housing and Urban Development,\n",
    "several files from the Department of Health and Human Services, and Selective Service.\n",
    "\n",
    "> <sup>9</sup> In particular, the address data is cleaned and standardized and used\n",
    "to construct a variable called GEOKEY. The GEOKEY variable is constructed as a subset\n",
    "of the full address, and then is appended to the Numident data to create the\n",
    "PVS Geobase Reference file.\n",
    "\n",
    "We only have IRS data to use for addresses, and specifically only W-2/1099 data,\n",
    "which is a limitation of this case study.\n",
    "I can't find a concrete definition of \"recent\" -- as noted above, we use 5 years\n",
    "of IRS data.\n",
    "This may be longer than the true window, but this may end up making up for\n",
    "the lack of non-IRS data sources, and get us closer to a realistic number of\n",
    "alternate addresses.\n",
    "\n",
    "Also, our address data comes out of pseudopeople already parsed into address parts\n",
    "like street name, etc.\n",
    "For more realism, pseudopeople should output a single string that we have to (imperfectly) parse apart.\n",
    "\n",
    "I haven't been able to find out more about what kind of \"subset\" the geokey is.\n",
    "It is unclear to me why geokey is \"interesting\" since it is just derived from the\n",
    "address parts."
   ]
  },
  {
   "cell_type": "code",
   "execution_count": 64,
   "id": "59bc80de-7ef0-4826-aed0-6289c12dfcb4",
   "metadata": {
    "execution": {
     "iopub.execute_input": "2024-05-30T04:01:37.303790Z",
     "iopub.status.busy": "2024-05-30T04:01:37.303030Z",
     "iopub.status.idle": "2024-05-30T04:01:37.311861Z",
     "shell.execute_reply": "2024-05-30T04:01:37.310893Z"
    },
    "papermill": {
     "duration": 0.033843,
     "end_time": "2024-05-30T04:01:37.313441",
     "exception": false,
     "start_time": "2024-05-30T04:01:37.279598",
     "status": "completed"
    },
    "tags": []
   },
   "outputs": [],
   "source": [
    "address_cols = [c for c in simulated_taxes.columns if 'mailing_address' in c]\n",
    "\n",
    "def standardize_address_part(column):\n",
    "    return (\n",
    "        column\n",
    "            # Remove leading or trailing whitespace\n",
    "            .str.strip()\n",
    "            # Turn any strings of consecutive whitespace into a single space\n",
    "            .str.replace('\\s+', ' ', regex=True)\n",
    "            # Normalize case\n",
    "            .str.upper()\n",
    "            # Normalize the word street as described in the example quoted above\n",
    "            # In reality, there would be many rules like this\n",
    "            .str.replace('\\b(STREET|STR)\\b', 'ST', regex=True)\n",
    "            # Make sure missingness is represented consistently\n",
    "            .replace('', numpy.nan)\n",
    "    )"
   ]
  },
  {
   "cell_type": "code",
   "execution_count": 65,
   "id": "d17a30e9-307b-42bb-95be-60d54f96b092",
   "metadata": {
    "execution": {
     "iopub.execute_input": "2024-05-30T04:01:37.354659Z",
     "iopub.status.busy": "2024-05-30T04:01:37.353901Z",
     "iopub.status.idle": "2024-05-30T04:01:37.453751Z",
     "shell.execute_reply": "2024-05-30T04:01:37.452919Z"
    },
    "papermill": {
     "duration": 0.122636,
     "end_time": "2024-05-30T04:01:37.457260",
     "exception": false,
     "start_time": "2024-05-30T04:01:37.334624",
     "status": "completed"
    },
    "tags": []
   },
   "outputs": [],
   "source": [
    "simulated_tax_addresses = (\n",
    "    simulated_taxes\n",
    "        # Can only link these to the other files if they have an SSN\n",
    "        .dropna(subset=['ssn'])\n",
    "        [['record_id', 'ssn'] + address_cols]\n",
    "        .assign(**{c: lambda df, c=c: standardize_address_part(df[c]) for c in address_cols})\n",
    "        .pipe(df_ops.ensure_large_string_capacity)\n",
    ")"
   ]
  },
  {
   "cell_type": "code",
   "execution_count": 66,
   "id": "edb08490-9c5d-4952-b12c-fb63b8fd3856",
   "metadata": {
    "execution": {
     "iopub.execute_input": "2024-05-30T04:01:37.503997Z",
     "iopub.status.busy": "2024-05-30T04:01:37.503107Z",
     "iopub.status.idle": "2024-05-30T04:01:39.504765Z",
     "shell.execute_reply": "2024-05-30T04:01:39.502417Z"
    },
    "papermill": {
     "duration": 2.024709,
     "end_time": "2024-05-30T04:01:39.508138",
     "exception": false,
     "start_time": "2024-05-30T04:01:37.483429",
     "status": "completed"
    },
    "tags": []
   },
   "outputs": [
    {
     "data": {
      "text/html": [
       "<div><strong>Dask DataFrame Structure:</strong></div>\n",
       "<div>\n",
       "<style scoped>\n",
       "    .dataframe tbody tr th:only-of-type {\n",
       "        vertical-align: middle;\n",
       "    }\n",
       "\n",
       "    .dataframe tbody tr th {\n",
       "        vertical-align: top;\n",
       "    }\n",
       "\n",
       "    .dataframe thead th {\n",
       "        text-align: right;\n",
       "    }\n",
       "</style>\n",
       "<table border=\"1\" class=\"dataframe\">\n",
       "  <thead>\n",
       "    <tr style=\"text-align: right;\">\n",
       "      <th></th>\n",
       "      <th>ssn</th>\n",
       "      <th>mailing_address_street_number</th>\n",
       "      <th>mailing_address_street_name</th>\n",
       "      <th>mailing_address_unit_number</th>\n",
       "      <th>mailing_address_po_box</th>\n",
       "      <th>mailing_address_city</th>\n",
       "      <th>mailing_address_state</th>\n",
       "      <th>mailing_address_zipcode</th>\n",
       "      <th>record_id</th>\n",
       "    </tr>\n",
       "    <tr>\n",
       "      <th>npartitions=20</th>\n",
       "      <th></th>\n",
       "      <th></th>\n",
       "      <th></th>\n",
       "      <th></th>\n",
       "      <th></th>\n",
       "      <th></th>\n",
       "      <th></th>\n",
       "      <th></th>\n",
       "      <th></th>\n",
       "    </tr>\n",
       "  </thead>\n",
       "  <tbody>\n",
       "    <tr>\n",
       "      <th></th>\n",
       "      <td>string</td>\n",
       "      <td>string</td>\n",
       "      <td>string</td>\n",
       "      <td>string</td>\n",
       "      <td>string</td>\n",
       "      <td>string</td>\n",
       "      <td>string</td>\n",
       "      <td>string</td>\n",
       "      <td>string</td>\n",
       "    </tr>\n",
       "    <tr>\n",
       "      <th></th>\n",
       "      <td>...</td>\n",
       "      <td>...</td>\n",
       "      <td>...</td>\n",
       "      <td>...</td>\n",
       "      <td>...</td>\n",
       "      <td>...</td>\n",
       "      <td>...</td>\n",
       "      <td>...</td>\n",
       "      <td>...</td>\n",
       "    </tr>\n",
       "    <tr>\n",
       "      <th>...</th>\n",
       "      <td>...</td>\n",
       "      <td>...</td>\n",
       "      <td>...</td>\n",
       "      <td>...</td>\n",
       "      <td>...</td>\n",
       "      <td>...</td>\n",
       "      <td>...</td>\n",
       "      <td>...</td>\n",
       "      <td>...</td>\n",
       "    </tr>\n",
       "    <tr>\n",
       "      <th></th>\n",
       "      <td>...</td>\n",
       "      <td>...</td>\n",
       "      <td>...</td>\n",
       "      <td>...</td>\n",
       "      <td>...</td>\n",
       "      <td>...</td>\n",
       "      <td>...</td>\n",
       "      <td>...</td>\n",
       "      <td>...</td>\n",
       "    </tr>\n",
       "    <tr>\n",
       "      <th></th>\n",
       "      <td>...</td>\n",
       "      <td>...</td>\n",
       "      <td>...</td>\n",
       "      <td>...</td>\n",
       "      <td>...</td>\n",
       "      <td>...</td>\n",
       "      <td>...</td>\n",
       "      <td>...</td>\n",
       "      <td>...</td>\n",
       "    </tr>\n",
       "  </tbody>\n",
       "</table>\n",
       "</div>\n",
       "<div>Dask Name: to_pyarrow_string, 1 graph layer</div>"
      ],
      "text/plain": [
       "Dask DataFrame Structure:\n",
       "                   ssn mailing_address_street_number mailing_address_street_name mailing_address_unit_number mailing_address_po_box mailing_address_city mailing_address_state mailing_address_zipcode record_id\n",
       "npartitions=20                                                                                                                                                                                                  \n",
       "                string                        string                      string                      string                 string               string                string                  string    string\n",
       "                   ...                           ...                         ...                         ...                    ...                  ...                   ...                     ...       ...\n",
       "...                ...                           ...                         ...                         ...                    ...                  ...                   ...                     ...       ...\n",
       "                   ...                           ...                         ...                         ...                    ...                  ...                   ...                     ...       ...\n",
       "                   ...                           ...                         ...                         ...                    ...                  ...                   ...                     ...       ...\n",
       "Dask Name: to_pyarrow_string, 1 graph layer"
      ]
     },
     "execution_count": 66,
     "metadata": {},
     "output_type": "execute_result"
    }
   ],
   "source": [
    "simulated_addresses_by_ssn, simulated_addresses_by_ssn_source_record_pairs = df_ops.persist(dedupe_preserving_source_records(\n",
    "    simulated_tax_addresses,\n",
    "    simulated_taxes_source_record_pairs,\n",
    "    columns_to_dedupe=['ssn'] + address_cols,\n",
    "    new_record_id_prefix='addresses_by_ssn',\n",
    "))\n",
    "simulated_addresses_by_ssn"
   ]
  },
  {
   "cell_type": "code",
   "execution_count": 67,
   "id": "77f18f0f-35a7-46d3-98e6-3f029d758b0d",
   "metadata": {
    "execution": {
     "iopub.execute_input": "2024-05-30T04:01:39.552721Z",
     "iopub.status.busy": "2024-05-30T04:01:39.550948Z",
     "iopub.status.idle": "2024-05-30T04:01:41.417643Z",
     "shell.execute_reply": "2024-05-30T04:01:41.416729Z"
    },
    "papermill": {
     "duration": 1.886968,
     "end_time": "2024-05-30T04:01:41.418885",
     "exception": false,
     "start_time": "2024-05-30T04:01:39.531917",
     "status": "completed"
    },
    "tags": []
   },
   "outputs": [
    {
     "data": {
      "text/html": [
       "<div><strong>Dask DataFrame Structure:</strong></div>\n",
       "<div>\n",
       "<style scoped>\n",
       "    .dataframe tbody tr th:only-of-type {\n",
       "        vertical-align: middle;\n",
       "    }\n",
       "\n",
       "    .dataframe tbody tr th {\n",
       "        vertical-align: top;\n",
       "    }\n",
       "\n",
       "    .dataframe thead th {\n",
       "        text-align: right;\n",
       "    }\n",
       "</style>\n",
       "<table border=\"1\" class=\"dataframe\">\n",
       "  <thead>\n",
       "    <tr style=\"text-align: right;\">\n",
       "      <th></th>\n",
       "      <th>ssn</th>\n",
       "      <th>size</th>\n",
       "    </tr>\n",
       "    <tr>\n",
       "      <th>npartitions=4</th>\n",
       "      <th></th>\n",
       "      <th></th>\n",
       "    </tr>\n",
       "  </thead>\n",
       "  <tbody>\n",
       "    <tr>\n",
       "      <th></th>\n",
       "      <td>string</td>\n",
       "      <td>int64</td>\n",
       "    </tr>\n",
       "    <tr>\n",
       "      <th></th>\n",
       "      <td>...</td>\n",
       "      <td>...</td>\n",
       "    </tr>\n",
       "    <tr>\n",
       "      <th></th>\n",
       "      <td>...</td>\n",
       "      <td>...</td>\n",
       "    </tr>\n",
       "    <tr>\n",
       "      <th></th>\n",
       "      <td>...</td>\n",
       "      <td>...</td>\n",
       "    </tr>\n",
       "    <tr>\n",
       "      <th></th>\n",
       "      <td>...</td>\n",
       "      <td>...</td>\n",
       "    </tr>\n",
       "  </tbody>\n",
       "</table>\n",
       "</div>\n",
       "<div>Dask Name: sort_values, 19 graph layers</div>"
      ],
      "text/plain": [
       "Dask DataFrame Structure:\n",
       "                  ssn   size\n",
       "npartitions=4               \n",
       "               string  int64\n",
       "                  ...    ...\n",
       "                  ...    ...\n",
       "                  ...    ...\n",
       "                  ...    ...\n",
       "Dask Name: sort_values, 19 graph layers"
      ]
     },
     "execution_count": 67,
     "metadata": {},
     "output_type": "execute_result"
    }
   ],
   "source": [
    "num_addresses = df_ops.groupby_agg_small_groups(simulated_addresses_by_ssn, by='ssn', agg_func=lambda x: x.size()).rename('size').reset_index().sort_values('size')\n",
    "num_addresses"
   ]
  },
  {
   "cell_type": "code",
   "execution_count": 68,
   "id": "0289de32-9d4c-4c4f-a7c0-b85ed743c7ce",
   "metadata": {
    "execution": {
     "iopub.execute_input": "2024-05-30T04:01:41.460267Z",
     "iopub.status.busy": "2024-05-30T04:01:41.460038Z",
     "iopub.status.idle": "2024-05-30T04:01:42.645177Z",
     "shell.execute_reply": "2024-05-30T04:01:42.644316Z"
    },
    "papermill": {
     "duration": 1.205287,
     "end_time": "2024-05-30T04:01:42.646495",
     "exception": false,
     "start_time": "2024-05-30T04:01:41.441208",
     "status": "completed"
    },
    "tags": []
   },
   "outputs": [
    {
     "data": {
      "text/html": [
       "<div>\n",
       "<style scoped>\n",
       "    .dataframe tbody tr th:only-of-type {\n",
       "        vertical-align: middle;\n",
       "    }\n",
       "\n",
       "    .dataframe tbody tr th {\n",
       "        vertical-align: top;\n",
       "    }\n",
       "\n",
       "    .dataframe thead th {\n",
       "        text-align: right;\n",
       "    }\n",
       "</style>\n",
       "<table border=\"1\" class=\"dataframe\">\n",
       "  <thead>\n",
       "    <tr style=\"text-align: right;\">\n",
       "      <th></th>\n",
       "      <th>ssn</th>\n",
       "      <th>size</th>\n",
       "      <th>mailing_address_street_number</th>\n",
       "      <th>mailing_address_street_name</th>\n",
       "      <th>mailing_address_unit_number</th>\n",
       "      <th>mailing_address_po_box</th>\n",
       "      <th>mailing_address_city</th>\n",
       "      <th>mailing_address_state</th>\n",
       "      <th>mailing_address_zipcode</th>\n",
       "      <th>record_id</th>\n",
       "    </tr>\n",
       "  </thead>\n",
       "  <tbody>\n",
       "    <tr>\n",
       "      <th>0</th>\n",
       "      <td>144-18-4623</td>\n",
       "      <td>7</td>\n",
       "      <td>128</td>\n",
       "      <td>&lt;NA&gt;</td>\n",
       "      <td>APT # 37</td>\n",
       "      <td>&lt;NA&gt;</td>\n",
       "      <td>ANYTOWN</td>\n",
       "      <td>WA</td>\n",
       "      <td>00000</td>\n",
       "      <td>addresses_by_ssn_11_2611</td>\n",
       "    </tr>\n",
       "    <tr>\n",
       "      <th>1</th>\n",
       "      <td>144-18-4623</td>\n",
       "      <td>7</td>\n",
       "      <td>1257</td>\n",
       "      <td>E PRK DR</td>\n",
       "      <td>&lt;NA&gt;</td>\n",
       "      <td>&lt;NA&gt;</td>\n",
       "      <td>ANYTOWN</td>\n",
       "      <td>WA</td>\n",
       "      <td>00000</td>\n",
       "      <td>addresses_by_ssn_11_2612</td>\n",
       "    </tr>\n",
       "    <tr>\n",
       "      <th>2</th>\n",
       "      <td>144-18-4623</td>\n",
       "      <td>7</td>\n",
       "      <td>1231</td>\n",
       "      <td>RIVERSIDE DR</td>\n",
       "      <td>&lt;NA&gt;</td>\n",
       "      <td>&lt;NA&gt;</td>\n",
       "      <td>ANYTOWN</td>\n",
       "      <td>WA</td>\n",
       "      <td>00000</td>\n",
       "      <td>addresses_by_ssn_11_2613</td>\n",
       "    </tr>\n",
       "    <tr>\n",
       "      <th>3</th>\n",
       "      <td>144-18-4623</td>\n",
       "      <td>7</td>\n",
       "      <td>29</td>\n",
       "      <td>TIMES SQ BLVD</td>\n",
       "      <td>&lt;NA&gt;</td>\n",
       "      <td>&lt;NA&gt;</td>\n",
       "      <td>ANYTOWN</td>\n",
       "      <td>WA</td>\n",
       "      <td>00000</td>\n",
       "      <td>addresses_by_ssn_11_2614</td>\n",
       "    </tr>\n",
       "    <tr>\n",
       "      <th>4</th>\n",
       "      <td>144-18-4623</td>\n",
       "      <td>7</td>\n",
       "      <td>128</td>\n",
       "      <td>HWY 306 W</td>\n",
       "      <td>&lt;NA&gt;</td>\n",
       "      <td>&lt;NA&gt;</td>\n",
       "      <td>ANYTOWN</td>\n",
       "      <td>WA</td>\n",
       "      <td>00000</td>\n",
       "      <td>addresses_by_ssn_11_2615</td>\n",
       "    </tr>\n",
       "    <tr>\n",
       "      <th>...</th>\n",
       "      <td>...</td>\n",
       "      <td>...</td>\n",
       "      <td>...</td>\n",
       "      <td>...</td>\n",
       "      <td>...</td>\n",
       "      <td>...</td>\n",
       "      <td>...</td>\n",
       "      <td>...</td>\n",
       "      <td>...</td>\n",
       "      <td>...</td>\n",
       "    </tr>\n",
       "    <tr>\n",
       "      <th>2</th>\n",
       "      <td>838-29-8962</td>\n",
       "      <td>7</td>\n",
       "      <td>4341</td>\n",
       "      <td>NORTH CARISSA LANE</td>\n",
       "      <td>&lt;NA&gt;</td>\n",
       "      <td>&lt;NA&gt;</td>\n",
       "      <td>ANYTOWN</td>\n",
       "      <td>MD</td>\n",
       "      <td>00000</td>\n",
       "      <td>addresses_by_ssn_19_681</td>\n",
       "    </tr>\n",
       "    <tr>\n",
       "      <th>3</th>\n",
       "      <td>838-29-8962</td>\n",
       "      <td>7</td>\n",
       "      <td>4341</td>\n",
       "      <td>NORTH CARISSA LANE</td>\n",
       "      <td>&lt;NA&gt;</td>\n",
       "      <td>&lt;NA&gt;</td>\n",
       "      <td>ANYTOWN</td>\n",
       "      <td>WA</td>\n",
       "      <td>00000</td>\n",
       "      <td>addresses_by_ssn_19_682</td>\n",
       "    </tr>\n",
       "    <tr>\n",
       "      <th>4</th>\n",
       "      <td>838-29-8962</td>\n",
       "      <td>7</td>\n",
       "      <td>4641</td>\n",
       "      <td>NORTH CARISSA LANE</td>\n",
       "      <td>&lt;NA&gt;</td>\n",
       "      <td>&lt;NA&gt;</td>\n",
       "      <td>ANYTOWN</td>\n",
       "      <td>WA</td>\n",
       "      <td>00000</td>\n",
       "      <td>addresses_by_ssn_19_683</td>\n",
       "    </tr>\n",
       "    <tr>\n",
       "      <th>5</th>\n",
       "      <td>838-29-8962</td>\n",
       "      <td>7</td>\n",
       "      <td>4341</td>\n",
       "      <td>NORTH CARISSA LANE</td>\n",
       "      <td>&lt;NA&gt;</td>\n",
       "      <td>&lt;NA&gt;</td>\n",
       "      <td>ANYTOWN</td>\n",
       "      <td>WA</td>\n",
       "      <td>&lt;NA&gt;</td>\n",
       "      <td>addresses_by_ssn_19_684</td>\n",
       "    </tr>\n",
       "    <tr>\n",
       "      <th>6</th>\n",
       "      <td>838-29-8962</td>\n",
       "      <td>7</td>\n",
       "      <td>4341</td>\n",
       "      <td>NIRTH CARISSA LAND</td>\n",
       "      <td>&lt;NA&gt;</td>\n",
       "      <td>&lt;NA&gt;</td>\n",
       "      <td>ANYTOWN</td>\n",
       "      <td>WA</td>\n",
       "      <td>00000</td>\n",
       "      <td>addresses_by_ssn_19_685</td>\n",
       "    </tr>\n",
       "  </tbody>\n",
       "</table>\n",
       "<p>73 rows × 10 columns</p>\n",
       "</div>"
      ],
      "text/plain": [
       "            ssn  size mailing_address_street_number  \\\n",
       "0   144-18-4623     7                           128   \n",
       "1   144-18-4623     7                          1257   \n",
       "2   144-18-4623     7                          1231   \n",
       "3   144-18-4623     7                            29   \n",
       "4   144-18-4623     7                           128   \n",
       "..          ...   ...                           ...   \n",
       "2   838-29-8962     7                          4341   \n",
       "3   838-29-8962     7                          4341   \n",
       "4   838-29-8962     7                          4641   \n",
       "5   838-29-8962     7                          4341   \n",
       "6   838-29-8962     7                          4341   \n",
       "\n",
       "   mailing_address_street_name mailing_address_unit_number  \\\n",
       "0                         <NA>                    APT # 37   \n",
       "1                     E PRK DR                        <NA>   \n",
       "2                 RIVERSIDE DR                        <NA>   \n",
       "3                TIMES SQ BLVD                        <NA>   \n",
       "4                    HWY 306 W                        <NA>   \n",
       "..                         ...                         ...   \n",
       "2           NORTH CARISSA LANE                        <NA>   \n",
       "3           NORTH CARISSA LANE                        <NA>   \n",
       "4           NORTH CARISSA LANE                        <NA>   \n",
       "5           NORTH CARISSA LANE                        <NA>   \n",
       "6           NIRTH CARISSA LAND                        <NA>   \n",
       "\n",
       "   mailing_address_po_box mailing_address_city mailing_address_state  \\\n",
       "0                    <NA>              ANYTOWN                    WA   \n",
       "1                    <NA>              ANYTOWN                    WA   \n",
       "2                    <NA>              ANYTOWN                    WA   \n",
       "3                    <NA>              ANYTOWN                    WA   \n",
       "4                    <NA>              ANYTOWN                    WA   \n",
       "..                    ...                  ...                   ...   \n",
       "2                    <NA>              ANYTOWN                    MD   \n",
       "3                    <NA>              ANYTOWN                    WA   \n",
       "4                    <NA>              ANYTOWN                    WA   \n",
       "5                    <NA>              ANYTOWN                    WA   \n",
       "6                    <NA>              ANYTOWN                    WA   \n",
       "\n",
       "   mailing_address_zipcode                 record_id  \n",
       "0                    00000  addresses_by_ssn_11_2611  \n",
       "1                    00000  addresses_by_ssn_11_2612  \n",
       "2                    00000  addresses_by_ssn_11_2613  \n",
       "3                    00000  addresses_by_ssn_11_2614  \n",
       "4                    00000  addresses_by_ssn_11_2615  \n",
       "..                     ...                       ...  \n",
       "2                    00000   addresses_by_ssn_19_681  \n",
       "3                    00000   addresses_by_ssn_19_682  \n",
       "4                    00000   addresses_by_ssn_19_683  \n",
       "5                     <NA>   addresses_by_ssn_19_684  \n",
       "6                    00000   addresses_by_ssn_19_685  \n",
       "\n",
       "[73 rows x 10 columns]"
      ]
     },
     "execution_count": 68,
     "metadata": {},
     "output_type": "execute_result"
    }
   ],
   "source": [
    "# Show some SSNs with a lot of address variation\n",
    "df_ops.compute(pd.merge(num_addresses.tail(10), simulated_addresses_by_ssn, on='ssn', how='inner').sort_values('ssn'))"
   ]
  },
  {
   "cell_type": "code",
   "execution_count": 69,
   "id": "8d859fee-278c-4f8e-b959-527de4f13c48",
   "metadata": {
    "execution": {
     "iopub.execute_input": "2024-05-30T04:01:42.688412Z",
     "iopub.status.busy": "2024-05-30T04:01:42.688173Z",
     "iopub.status.idle": "2024-05-30T04:01:43.241195Z",
     "shell.execute_reply": "2024-05-30T04:01:43.239565Z"
    },
    "papermill": {
     "duration": 0.575959,
     "end_time": "2024-05-30T04:01:43.244913",
     "exception": false,
     "start_time": "2024-05-30T04:01:42.668954",
     "status": "completed"
    },
    "tags": []
   },
   "outputs": [
    {
     "data": {
      "text/plain": [
       "32966.10591835676"
      ]
     },
     "execution_count": 69,
     "metadata": {},
     "output_type": "execute_result"
    }
   ],
   "source": [
    "# Rough estimate of how many rows we should have in our reference file, once we do this Cartesian product\n",
    "df_ops.compute(\n",
    "    len(simulated_name_dob_reference_file) *\n",
    "    df_ops.groupby_agg_small_groups(simulated_addresses_by_ssn, by='ssn', agg_func=lambda x: x.size()).mean()\n",
    ")"
   ]
  },
  {
   "cell_type": "code",
   "execution_count": 70,
   "id": "c7f8d3f4-eeda-468d-adf1-e6c6cf9aad8a",
   "metadata": {
    "execution": {
     "iopub.execute_input": "2024-05-30T04:01:43.288143Z",
     "iopub.status.busy": "2024-05-30T04:01:43.287914Z",
     "iopub.status.idle": "2024-05-30T04:01:44.966496Z",
     "shell.execute_reply": "2024-05-30T04:01:44.965104Z"
    },
    "papermill": {
     "duration": 1.700048,
     "end_time": "2024-05-30T04:01:44.968818",
     "exception": false,
     "start_time": "2024-05-30T04:01:43.268770",
     "status": "completed"
    },
    "tags": []
   },
   "outputs": [
    {
     "data": {
      "text/html": [
       "<div><strong>Dask DataFrame Structure:</strong></div>\n",
       "<div>\n",
       "<style scoped>\n",
       "    .dataframe tbody tr th:only-of-type {\n",
       "        vertical-align: middle;\n",
       "    }\n",
       "\n",
       "    .dataframe tbody tr th {\n",
       "        vertical-align: top;\n",
       "    }\n",
       "\n",
       "    .dataframe thead th {\n",
       "        text-align: right;\n",
       "    }\n",
       "</style>\n",
       "<table border=\"1\" class=\"dataframe\">\n",
       "  <thead>\n",
       "    <tr style=\"text-align: right;\">\n",
       "      <th></th>\n",
       "      <th>ssn</th>\n",
       "      <th>first_name</th>\n",
       "      <th>middle_name</th>\n",
       "      <th>last_name</th>\n",
       "      <th>date_of_birth</th>\n",
       "      <th>mailing_address_street_number</th>\n",
       "      <th>mailing_address_street_name</th>\n",
       "      <th>mailing_address_unit_number</th>\n",
       "      <th>mailing_address_po_box</th>\n",
       "      <th>mailing_address_city</th>\n",
       "      <th>mailing_address_state</th>\n",
       "      <th>mailing_address_zipcode</th>\n",
       "      <th>record_id</th>\n",
       "    </tr>\n",
       "    <tr>\n",
       "      <th>npartitions=20</th>\n",
       "      <th></th>\n",
       "      <th></th>\n",
       "      <th></th>\n",
       "      <th></th>\n",
       "      <th></th>\n",
       "      <th></th>\n",
       "      <th></th>\n",
       "      <th></th>\n",
       "      <th></th>\n",
       "      <th></th>\n",
       "      <th></th>\n",
       "      <th></th>\n",
       "      <th></th>\n",
       "    </tr>\n",
       "  </thead>\n",
       "  <tbody>\n",
       "    <tr>\n",
       "      <th></th>\n",
       "      <td>string</td>\n",
       "      <td>string</td>\n",
       "      <td>string</td>\n",
       "      <td>string</td>\n",
       "      <td>string</td>\n",
       "      <td>string</td>\n",
       "      <td>string</td>\n",
       "      <td>string</td>\n",
       "      <td>string</td>\n",
       "      <td>string</td>\n",
       "      <td>string</td>\n",
       "      <td>string</td>\n",
       "      <td>string</td>\n",
       "    </tr>\n",
       "    <tr>\n",
       "      <th></th>\n",
       "      <td>...</td>\n",
       "      <td>...</td>\n",
       "      <td>...</td>\n",
       "      <td>...</td>\n",
       "      <td>...</td>\n",
       "      <td>...</td>\n",
       "      <td>...</td>\n",
       "      <td>...</td>\n",
       "      <td>...</td>\n",
       "      <td>...</td>\n",
       "      <td>...</td>\n",
       "      <td>...</td>\n",
       "      <td>...</td>\n",
       "    </tr>\n",
       "    <tr>\n",
       "      <th>...</th>\n",
       "      <td>...</td>\n",
       "      <td>...</td>\n",
       "      <td>...</td>\n",
       "      <td>...</td>\n",
       "      <td>...</td>\n",
       "      <td>...</td>\n",
       "      <td>...</td>\n",
       "      <td>...</td>\n",
       "      <td>...</td>\n",
       "      <td>...</td>\n",
       "      <td>...</td>\n",
       "      <td>...</td>\n",
       "      <td>...</td>\n",
       "    </tr>\n",
       "    <tr>\n",
       "      <th></th>\n",
       "      <td>...</td>\n",
       "      <td>...</td>\n",
       "      <td>...</td>\n",
       "      <td>...</td>\n",
       "      <td>...</td>\n",
       "      <td>...</td>\n",
       "      <td>...</td>\n",
       "      <td>...</td>\n",
       "      <td>...</td>\n",
       "      <td>...</td>\n",
       "      <td>...</td>\n",
       "      <td>...</td>\n",
       "      <td>...</td>\n",
       "    </tr>\n",
       "    <tr>\n",
       "      <th></th>\n",
       "      <td>...</td>\n",
       "      <td>...</td>\n",
       "      <td>...</td>\n",
       "      <td>...</td>\n",
       "      <td>...</td>\n",
       "      <td>...</td>\n",
       "      <td>...</td>\n",
       "      <td>...</td>\n",
       "      <td>...</td>\n",
       "      <td>...</td>\n",
       "      <td>...</td>\n",
       "      <td>...</td>\n",
       "      <td>...</td>\n",
       "    </tr>\n",
       "  </tbody>\n",
       "</table>\n",
       "</div>\n",
       "<div>Dask Name: drop_by_shallow_copy, 1 graph layer</div>"
      ],
      "text/plain": [
       "Dask DataFrame Structure:\n",
       "                   ssn first_name middle_name last_name date_of_birth mailing_address_street_number mailing_address_street_name mailing_address_unit_number mailing_address_po_box mailing_address_city mailing_address_state mailing_address_zipcode record_id\n",
       "npartitions=20                                                                                                                                                                                                                                                 \n",
       "                string     string      string    string        string                        string                      string                      string                 string               string                string                  string    string\n",
       "                   ...        ...         ...       ...           ...                           ...                         ...                         ...                    ...                  ...                   ...                     ...       ...\n",
       "...                ...        ...         ...       ...           ...                           ...                         ...                         ...                    ...                  ...                   ...                     ...       ...\n",
       "                   ...        ...         ...       ...           ...                           ...                         ...                         ...                    ...                  ...                   ...                     ...       ...\n",
       "                   ...        ...         ...       ...           ...                           ...                         ...                         ...                    ...                  ...                   ...                     ...       ...\n",
       "Dask Name: drop_by_shallow_copy, 1 graph layer"
      ]
     },
     "execution_count": 70,
     "metadata": {},
     "output_type": "execute_result"
    }
   ],
   "source": [
    "simulated_geobase_reference_file, simulated_geobase_reference_file_source_record_pairs = df_ops.persist(merge_preserving_source_records(\n",
    "    [simulated_name_dob_reference_file, simulated_addresses_by_ssn],\n",
    "    [simulated_name_dob_reference_file_source_record_pairs, simulated_addresses_by_ssn_source_record_pairs],\n",
    "    on=['ssn'],\n",
    "    how='left',\n",
    "    new_record_id_prefix='simulated_geobase_reference_file',\n",
    "))\n",
    "simulated_geobase_reference_file"
   ]
  },
  {
   "cell_type": "code",
   "execution_count": 71,
   "id": "3c15c50c-7301-43cf-940d-6aff2814c0c0",
   "metadata": {
    "execution": {
     "iopub.execute_input": "2024-05-30T04:01:45.017008Z",
     "iopub.status.busy": "2024-05-30T04:01:45.016775Z",
     "iopub.status.idle": "2024-05-30T04:01:45.070517Z",
     "shell.execute_reply": "2024-05-30T04:01:45.068883Z"
    },
    "papermill": {
     "duration": 0.07649,
     "end_time": "2024-05-30T04:01:45.074046",
     "exception": false,
     "start_time": "2024-05-30T04:01:44.997556",
     "status": "completed"
    },
    "tags": []
   },
   "outputs": [
    {
     "data": {
      "text/plain": [
       "32951"
      ]
     },
     "execution_count": 71,
     "metadata": {},
     "output_type": "execute_result"
    }
   ],
   "source": [
    "# Actual number of rows\n",
    "len(simulated_geobase_reference_file)"
   ]
  },
  {
   "cell_type": "markdown",
   "id": "f9115e73-135d-46fe-8e09-a7526d688d05",
   "metadata": {
    "papermill": {
     "duration": 0.018944,
     "end_time": "2024-05-30T04:01:45.116880",
     "exception": false,
     "start_time": "2024-05-30T04:01:45.097936",
     "status": "completed"
    },
    "tags": []
   },
   "source": [
    "## Track ground truth for reference files"
   ]
  },
  {
   "cell_type": "code",
   "execution_count": 72,
   "id": "b98c0689-1241-41c7-a429-1f9f9ab03ebd",
   "metadata": {
    "execution": {
     "iopub.execute_input": "2024-05-30T04:01:45.155381Z",
     "iopub.status.busy": "2024-05-30T04:01:45.155153Z",
     "iopub.status.idle": "2024-05-30T04:01:45.168644Z",
     "shell.execute_reply": "2024-05-30T04:01:45.167743Z"
    },
    "papermill": {
     "duration": 0.034317,
     "end_time": "2024-05-30T04:01:45.170176",
     "exception": false,
     "start_time": "2024-05-30T04:01:45.135859",
     "status": "completed"
    },
    "tags": []
   },
   "outputs": [],
   "source": [
    "def get_simulants_of_source_records(source_record_pairs, filter_record_ids=None):\n",
    "    if filter_record_ids is not None:\n",
    "        source_record_pairs = source_record_pairs.pipe(filter_record_ids)\n",
    "\n",
    "    result = (\n",
    "        df_ops.drop_duplicates(source_record_pairs)\n",
    "            .merge(source_record_ground_truth, on='source_record_id')\n",
    "            [['record_id', 'simulant_id']]\n",
    "            .pipe(df_ops.drop_duplicates)\n",
    "    )\n",
    "    result = result.merge(\n",
    "        df_ops.groupby_agg_small_groups(result, by='record_id', agg_func=lambda x: x.simulant_id.nunique().rename('n_unique_simulants')).reset_index(),\n",
    "        on='record_id',\n",
    "        how='left',\n",
    "    )\n",
    "    return result\n",
    "\n",
    "def get_ground_truth_for_records(source_record_pairs):\n",
    "    result = df_ops.persist(get_simulants_of_source_records(source_record_pairs))\n",
    "\n",
    "    result_nunique_describe = df_ops.compute(result['n_unique_simulants'].describe())\n",
    "\n",
    "    if numpy.isclose(result_nunique_describe.loc['max'], 1):\n",
    "        print('No collisions')\n",
    "        return result\n",
    "\n",
    "    print('Collisions:')\n",
    "    display(result_nunique_describe)\n",
    "\n",
    "    print('Simulated tax records with the most collisions:')\n",
    "    most_collisions_record_id = result.sort_values('n_unique_simulants', ascending=False).head(1).record_id.iloc[0]\n",
    "    most_collisions_source_record_ids = df_ops.compute(\n",
    "        df_ops.drop_duplicates(source_record_pairs[source_record_pairs.record_id == most_collisions_record_id][['source_record_id']])\n",
    "    )\n",
    "    tax_record_ids = (\n",
    "        most_collisions_source_record_ids\n",
    "            .merge(\n",
    "                df_ops.compute(df_ops.drop_duplicates(\n",
    "                    simulated_taxes_source_record_pairs[\n",
    "                        simulated_taxes_source_record_pairs.source_record_id.isin(most_collisions_source_record_ids.source_record_id)\n",
    "                    ][['record_id', 'source_record_id']]\n",
    "                )),\n",
    "                on='source_record_id',\n",
    "                how='inner',\n",
    "            )\n",
    "    )\n",
    "    most_collisions_ground_truth = df_ops.compute(\n",
    "        source_record_ground_truth[source_record_ground_truth.source_record_id.isin(most_collisions_source_record_ids.source_record_id)]\n",
    "    )\n",
    "\n",
    "    most_collisions_tax_filings = (\n",
    "        tax_record_ids\n",
    "            .merge(\n",
    "                df_ops.compute(\n",
    "                    simulated_taxes[simulated_taxes.record_id.isin(tax_record_ids.record_id)],\n",
    "                ),\n",
    "                on='record_id',\n",
    "                how='left',\n",
    "            )\n",
    "            .merge(\n",
    "                most_collisions_ground_truth,\n",
    "                on='source_record_id',\n",
    "                how='left',\n",
    "            )\n",
    "    )\n",
    "    display(most_collisions_tax_filings)\n",
    "\n",
    "    print('Simulated SSA records with the most collisions:')\n",
    "    display(\n",
    "        df_ops.compute(\n",
    "            most_collisions_source_record_ids\n",
    "                .merge(\n",
    "                    df_ops.compute(\n",
    "                        simulated_ssa_numident[simulated_ssa_numident.record_id.isin(most_collisions_source_record_ids.source_record_id)]\n",
    "                            .rename(columns={'record_id': 'source_record_id'})\n",
    "                    ),\n",
    "                    on='source_record_id',\n",
    "                    how='inner'\n",
    "                )\n",
    "                .merge(most_collisions_ground_truth, on='source_record_id', how='left')\n",
    "        )\n",
    "    )\n",
    "\n",
    "    return result"
   ]
  },
  {
   "cell_type": "markdown",
   "id": "3cbe7a99-116e-4626-b423-fd0d0f87cdda",
   "metadata": {
    "papermill": {
     "duration": 0.018923,
     "end_time": "2024-05-30T04:01:45.210139",
     "exception": false,
     "start_time": "2024-05-30T04:01:45.191216",
     "status": "completed"
    },
    "tags": []
   },
   "source": [
    "### Simulated Census Numident"
   ]
  },
  {
   "cell_type": "code",
   "execution_count": 73,
   "id": "86e6be4b-238d-4aa5-876c-0a72b38ff2c7",
   "metadata": {
    "execution": {
     "iopub.execute_input": "2024-05-30T04:01:45.248576Z",
     "iopub.status.busy": "2024-05-30T04:01:45.248225Z",
     "iopub.status.idle": "2024-05-30T04:01:45.295736Z",
     "shell.execute_reply": "2024-05-30T04:01:45.294033Z"
    },
    "papermill": {
     "duration": 0.069996,
     "end_time": "2024-05-30T04:01:45.299055",
     "exception": false,
     "start_time": "2024-05-30T04:01:45.229059",
     "status": "completed"
    },
    "tags": []
   },
   "outputs": [
    {
     "data": {
      "text/plain": [
       "38271"
      ]
     },
     "execution_count": 73,
     "metadata": {},
     "output_type": "execute_result"
    }
   ],
   "source": [
    "len(simulated_census_numident_source_record_pairs)"
   ]
  },
  {
   "cell_type": "code",
   "execution_count": 74,
   "id": "43eb7b26-6eda-4b87-b63e-3550c84fb473",
   "metadata": {
    "execution": {
     "iopub.execute_input": "2024-05-30T04:01:45.344626Z",
     "iopub.status.busy": "2024-05-30T04:01:45.344409Z",
     "iopub.status.idle": "2024-05-30T04:01:48.438658Z",
     "shell.execute_reply": "2024-05-30T04:01:48.437288Z"
    },
    "papermill": {
     "duration": 3.117069,
     "end_time": "2024-05-30T04:01:48.441944",
     "exception": false,
     "start_time": "2024-05-30T04:01:45.324875",
     "status": "completed"
    },
    "tags": []
   },
   "outputs": [
    {
     "name": "stdout",
     "output_type": "stream",
     "text": [
      "No collisions\n"
     ]
    }
   ],
   "source": [
    "simulated_census_numident_ground_truth = get_ground_truth_for_records(simulated_census_numident_source_record_pairs)"
   ]
  },
  {
   "cell_type": "code",
   "execution_count": 75,
   "id": "4a7888b4-6e0b-4f76-9160-bdbf4334576f",
   "metadata": {
    "execution": {
     "iopub.execute_input": "2024-05-30T04:01:48.490075Z",
     "iopub.status.busy": "2024-05-30T04:01:48.489271Z",
     "iopub.status.idle": "2024-05-30T04:01:48.507054Z",
     "shell.execute_reply": "2024-05-30T04:01:48.506301Z"
    },
    "papermill": {
     "duration": 0.040835,
     "end_time": "2024-05-30T04:01:48.508992",
     "exception": false,
     "start_time": "2024-05-30T04:01:48.468157",
     "status": "completed"
    },
    "tags": []
   },
   "outputs": [
    {
     "data": {
      "text/html": [
       "<div><strong>Dask DataFrame Structure:</strong></div>\n",
       "<div>\n",
       "<style scoped>\n",
       "    .dataframe tbody tr th:only-of-type {\n",
       "        vertical-align: middle;\n",
       "    }\n",
       "\n",
       "    .dataframe tbody tr th {\n",
       "        vertical-align: top;\n",
       "    }\n",
       "\n",
       "    .dataframe thead th {\n",
       "        text-align: right;\n",
       "    }\n",
       "</style>\n",
       "<table border=\"1\" class=\"dataframe\">\n",
       "  <thead>\n",
       "    <tr style=\"text-align: right;\">\n",
       "      <th></th>\n",
       "      <th>record_id</th>\n",
       "      <th>simulant_id</th>\n",
       "      <th>n_unique_simulants</th>\n",
       "    </tr>\n",
       "    <tr>\n",
       "      <th>npartitions=24</th>\n",
       "      <th></th>\n",
       "      <th></th>\n",
       "      <th></th>\n",
       "    </tr>\n",
       "  </thead>\n",
       "  <tbody>\n",
       "    <tr>\n",
       "      <th></th>\n",
       "      <td>string</td>\n",
       "      <td>string</td>\n",
       "      <td>int64</td>\n",
       "    </tr>\n",
       "    <tr>\n",
       "      <th></th>\n",
       "      <td>...</td>\n",
       "      <td>...</td>\n",
       "      <td>...</td>\n",
       "    </tr>\n",
       "    <tr>\n",
       "      <th>...</th>\n",
       "      <td>...</td>\n",
       "      <td>...</td>\n",
       "      <td>...</td>\n",
       "    </tr>\n",
       "    <tr>\n",
       "      <th></th>\n",
       "      <td>...</td>\n",
       "      <td>...</td>\n",
       "      <td>...</td>\n",
       "    </tr>\n",
       "    <tr>\n",
       "      <th></th>\n",
       "      <td>...</td>\n",
       "      <td>...</td>\n",
       "      <td>...</td>\n",
       "    </tr>\n",
       "  </tbody>\n",
       "</table>\n",
       "</div>\n",
       "<div>Dask Name: hash-join, 1 graph layer</div>"
      ],
      "text/plain": [
       "Dask DataFrame Structure:\n",
       "               record_id simulant_id n_unique_simulants\n",
       "npartitions=24                                         \n",
       "                  string      string              int64\n",
       "                     ...         ...                ...\n",
       "...                  ...         ...                ...\n",
       "                     ...         ...                ...\n",
       "                     ...         ...                ...\n",
       "Dask Name: hash-join, 1 graph layer"
      ]
     },
     "execution_count": 75,
     "metadata": {},
     "output_type": "execute_result"
    }
   ],
   "source": [
    "simulated_census_numident_ground_truth"
   ]
  },
  {
   "cell_type": "markdown",
   "id": "14e1fa1c-6d37-43cf-b612-e869925e391c",
   "metadata": {
    "papermill": {
     "duration": 0.019086,
     "end_time": "2024-05-30T04:01:48.550190",
     "exception": false,
     "start_time": "2024-05-30T04:01:48.531104",
     "status": "completed"
    },
    "tags": []
   },
   "source": [
    "### Simulated Alternate Name Numident"
   ]
  },
  {
   "cell_type": "code",
   "execution_count": 76,
   "id": "8cd90ac4-dc11-4b89-9772-16816d21dee7",
   "metadata": {
    "execution": {
     "iopub.execute_input": "2024-05-30T04:01:48.590664Z",
     "iopub.status.busy": "2024-05-30T04:01:48.589897Z",
     "iopub.status.idle": "2024-05-30T04:01:48.635345Z",
     "shell.execute_reply": "2024-05-30T04:01:48.633614Z"
    },
    "papermill": {
     "duration": 0.069544,
     "end_time": "2024-05-30T04:01:48.638940",
     "exception": false,
     "start_time": "2024-05-30T04:01:48.569396",
     "status": "completed"
    },
    "tags": []
   },
   "outputs": [
    {
     "data": {
      "text/plain": [
       "19871"
      ]
     },
     "execution_count": 76,
     "metadata": {},
     "output_type": "execute_result"
    }
   ],
   "source": [
    "len(simulated_alternate_name_numident_source_record_pairs)"
   ]
  },
  {
   "cell_type": "code",
   "execution_count": 77,
   "id": "da850e46-ba56-4eba-bbd1-de58b4bf307f",
   "metadata": {
    "execution": {
     "iopub.execute_input": "2024-05-30T04:01:48.684287Z",
     "iopub.status.busy": "2024-05-30T04:01:48.683974Z",
     "iopub.status.idle": "2024-05-30T04:01:50.923970Z",
     "shell.execute_reply": "2024-05-30T04:01:50.922448Z"
    },
    "papermill": {
     "duration": 2.263055,
     "end_time": "2024-05-30T04:01:50.927239",
     "exception": false,
     "start_time": "2024-05-30T04:01:48.664184",
     "status": "completed"
    },
    "tags": []
   },
   "outputs": [
    {
     "name": "stdout",
     "output_type": "stream",
     "text": [
      "No collisions\n"
     ]
    }
   ],
   "source": [
    "simulated_alternate_name_numident_ground_truth = get_ground_truth_for_records(simulated_alternate_name_numident_source_record_pairs)"
   ]
  },
  {
   "cell_type": "code",
   "execution_count": 78,
   "id": "82a182bc-af0e-4ea4-a5b6-8eeb4c907f6d",
   "metadata": {
    "execution": {
     "iopub.execute_input": "2024-05-30T04:01:50.974902Z",
     "iopub.status.busy": "2024-05-30T04:01:50.974121Z",
     "iopub.status.idle": "2024-05-30T04:01:50.991332Z",
     "shell.execute_reply": "2024-05-30T04:01:50.990557Z"
    },
    "papermill": {
     "duration": 0.039679,
     "end_time": "2024-05-30T04:01:50.992723",
     "exception": false,
     "start_time": "2024-05-30T04:01:50.953044",
     "status": "completed"
    },
    "tags": []
   },
   "outputs": [
    {
     "data": {
      "text/html": [
       "<div><strong>Dask DataFrame Structure:</strong></div>\n",
       "<div>\n",
       "<style scoped>\n",
       "    .dataframe tbody tr th:only-of-type {\n",
       "        vertical-align: middle;\n",
       "    }\n",
       "\n",
       "    .dataframe tbody tr th {\n",
       "        vertical-align: top;\n",
       "    }\n",
       "\n",
       "    .dataframe thead th {\n",
       "        text-align: right;\n",
       "    }\n",
       "</style>\n",
       "<table border=\"1\" class=\"dataframe\">\n",
       "  <thead>\n",
       "    <tr style=\"text-align: right;\">\n",
       "      <th></th>\n",
       "      <th>record_id</th>\n",
       "      <th>simulant_id</th>\n",
       "      <th>n_unique_simulants</th>\n",
       "    </tr>\n",
       "    <tr>\n",
       "      <th>npartitions=22</th>\n",
       "      <th></th>\n",
       "      <th></th>\n",
       "      <th></th>\n",
       "    </tr>\n",
       "  </thead>\n",
       "  <tbody>\n",
       "    <tr>\n",
       "      <th></th>\n",
       "      <td>string</td>\n",
       "      <td>string</td>\n",
       "      <td>int64</td>\n",
       "    </tr>\n",
       "    <tr>\n",
       "      <th></th>\n",
       "      <td>...</td>\n",
       "      <td>...</td>\n",
       "      <td>...</td>\n",
       "    </tr>\n",
       "    <tr>\n",
       "      <th>...</th>\n",
       "      <td>...</td>\n",
       "      <td>...</td>\n",
       "      <td>...</td>\n",
       "    </tr>\n",
       "    <tr>\n",
       "      <th></th>\n",
       "      <td>...</td>\n",
       "      <td>...</td>\n",
       "      <td>...</td>\n",
       "    </tr>\n",
       "    <tr>\n",
       "      <th></th>\n",
       "      <td>...</td>\n",
       "      <td>...</td>\n",
       "      <td>...</td>\n",
       "    </tr>\n",
       "  </tbody>\n",
       "</table>\n",
       "</div>\n",
       "<div>Dask Name: hash-join, 1 graph layer</div>"
      ],
      "text/plain": [
       "Dask DataFrame Structure:\n",
       "               record_id simulant_id n_unique_simulants\n",
       "npartitions=22                                         \n",
       "                  string      string              int64\n",
       "                     ...         ...                ...\n",
       "...                  ...         ...                ...\n",
       "                     ...         ...                ...\n",
       "                     ...         ...                ...\n",
       "Dask Name: hash-join, 1 graph layer"
      ]
     },
     "execution_count": 78,
     "metadata": {},
     "output_type": "execute_result"
    }
   ],
   "source": [
    "simulated_alternate_name_numident_ground_truth"
   ]
  },
  {
   "cell_type": "markdown",
   "id": "ed608b32-c590-40a8-b12a-93bc22b74ae2",
   "metadata": {
    "papermill": {
     "duration": 0.018883,
     "end_time": "2024-05-30T04:01:51.033730",
     "exception": false,
     "start_time": "2024-05-30T04:01:51.014847",
     "status": "completed"
    },
    "tags": []
   },
   "source": [
    "### Alternate DOB Numident"
   ]
  },
  {
   "cell_type": "code",
   "execution_count": 79,
   "id": "49f2c07a-29d3-42c2-a5cb-27d087a62cff",
   "metadata": {
    "execution": {
     "iopub.execute_input": "2024-05-30T04:01:51.074852Z",
     "iopub.status.busy": "2024-05-30T04:01:51.073856Z",
     "iopub.status.idle": "2024-05-30T04:01:51.117944Z",
     "shell.execute_reply": "2024-05-30T04:01:51.116654Z"
    },
    "papermill": {
     "duration": 0.067943,
     "end_time": "2024-05-30T04:01:51.121156",
     "exception": false,
     "start_time": "2024-05-30T04:01:51.053213",
     "status": "completed"
    },
    "tags": []
   },
   "outputs": [
    {
     "data": {
      "text/plain": [
       "19871"
      ]
     },
     "execution_count": 79,
     "metadata": {},
     "output_type": "execute_result"
    }
   ],
   "source": [
    "len(simulated_alternate_dob_numident_source_record_pairs)"
   ]
  },
  {
   "cell_type": "code",
   "execution_count": 80,
   "id": "11bea745-7445-4725-80e5-a7452ea924a1",
   "metadata": {
    "execution": {
     "iopub.execute_input": "2024-05-30T04:01:51.169127Z",
     "iopub.status.busy": "2024-05-30T04:01:51.168362Z",
     "iopub.status.idle": "2024-05-30T04:01:53.844932Z",
     "shell.execute_reply": "2024-05-30T04:01:53.843955Z"
    },
    "papermill": {
     "duration": 2.700777,
     "end_time": "2024-05-30T04:01:53.848142",
     "exception": false,
     "start_time": "2024-05-30T04:01:51.147365",
     "status": "completed"
    },
    "tags": []
   },
   "outputs": [
    {
     "name": "stdout",
     "output_type": "stream",
     "text": [
      "No collisions\n"
     ]
    }
   ],
   "source": [
    "simulated_alternate_dob_numident_ground_truth = get_ground_truth_for_records(simulated_alternate_dob_numident_source_record_pairs)"
   ]
  },
  {
   "cell_type": "code",
   "execution_count": 81,
   "id": "b1f40e9e-5d42-4b73-b731-bafcb826d471",
   "metadata": {
    "execution": {
     "iopub.execute_input": "2024-05-30T04:01:53.897305Z",
     "iopub.status.busy": "2024-05-30T04:01:53.896504Z",
     "iopub.status.idle": "2024-05-30T04:01:53.914857Z",
     "shell.execute_reply": "2024-05-30T04:01:53.914058Z"
    },
    "papermill": {
     "duration": 0.041654,
     "end_time": "2024-05-30T04:01:53.916401",
     "exception": false,
     "start_time": "2024-05-30T04:01:53.874747",
     "status": "completed"
    },
    "tags": []
   },
   "outputs": [
    {
     "data": {
      "text/html": [
       "<div><strong>Dask DataFrame Structure:</strong></div>\n",
       "<div>\n",
       "<style scoped>\n",
       "    .dataframe tbody tr th:only-of-type {\n",
       "        vertical-align: middle;\n",
       "    }\n",
       "\n",
       "    .dataframe tbody tr th {\n",
       "        vertical-align: top;\n",
       "    }\n",
       "\n",
       "    .dataframe thead th {\n",
       "        text-align: right;\n",
       "    }\n",
       "</style>\n",
       "<table border=\"1\" class=\"dataframe\">\n",
       "  <thead>\n",
       "    <tr style=\"text-align: right;\">\n",
       "      <th></th>\n",
       "      <th>record_id</th>\n",
       "      <th>simulant_id</th>\n",
       "      <th>n_unique_simulants</th>\n",
       "    </tr>\n",
       "    <tr>\n",
       "      <th>npartitions=22</th>\n",
       "      <th></th>\n",
       "      <th></th>\n",
       "      <th></th>\n",
       "    </tr>\n",
       "  </thead>\n",
       "  <tbody>\n",
       "    <tr>\n",
       "      <th></th>\n",
       "      <td>string</td>\n",
       "      <td>string</td>\n",
       "      <td>int64</td>\n",
       "    </tr>\n",
       "    <tr>\n",
       "      <th></th>\n",
       "      <td>...</td>\n",
       "      <td>...</td>\n",
       "      <td>...</td>\n",
       "    </tr>\n",
       "    <tr>\n",
       "      <th>...</th>\n",
       "      <td>...</td>\n",
       "      <td>...</td>\n",
       "      <td>...</td>\n",
       "    </tr>\n",
       "    <tr>\n",
       "      <th></th>\n",
       "      <td>...</td>\n",
       "      <td>...</td>\n",
       "      <td>...</td>\n",
       "    </tr>\n",
       "    <tr>\n",
       "      <th></th>\n",
       "      <td>...</td>\n",
       "      <td>...</td>\n",
       "      <td>...</td>\n",
       "    </tr>\n",
       "  </tbody>\n",
       "</table>\n",
       "</div>\n",
       "<div>Dask Name: hash-join, 1 graph layer</div>"
      ],
      "text/plain": [
       "Dask DataFrame Structure:\n",
       "               record_id simulant_id n_unique_simulants\n",
       "npartitions=22                                         \n",
       "                  string      string              int64\n",
       "                     ...         ...                ...\n",
       "...                  ...         ...                ...\n",
       "                     ...         ...                ...\n",
       "                     ...         ...                ...\n",
       "Dask Name: hash-join, 1 graph layer"
      ]
     },
     "execution_count": 81,
     "metadata": {},
     "output_type": "execute_result"
    }
   ],
   "source": [
    "simulated_alternate_dob_numident_ground_truth"
   ]
  },
  {
   "cell_type": "markdown",
   "id": "2a72beb7-0bf0-4531-bccc-9a89219322a7",
   "metadata": {
    "papermill": {
     "duration": 0.019799,
     "end_time": "2024-05-30T04:01:53.958831",
     "exception": false,
     "start_time": "2024-05-30T04:01:53.939032",
     "status": "completed"
    },
    "tags": []
   },
   "source": [
    "### Simulated Name/DOB Reference File"
   ]
  },
  {
   "cell_type": "code",
   "execution_count": 82,
   "id": "64ea878b-1b7e-4714-b9ad-f0192d3c1e1a",
   "metadata": {
    "execution": {
     "iopub.execute_input": "2024-05-30T04:01:54.000477Z",
     "iopub.status.busy": "2024-05-30T04:01:53.999752Z",
     "iopub.status.idle": "2024-05-30T04:01:54.058535Z",
     "shell.execute_reply": "2024-05-30T04:01:54.057590Z"
    },
    "papermill": {
     "duration": 0.082691,
     "end_time": "2024-05-30T04:01:54.061649",
     "exception": false,
     "start_time": "2024-05-30T04:01:53.978958",
     "status": "completed"
    },
    "tags": []
   },
   "outputs": [
    {
     "data": {
      "text/plain": [
       "42568"
      ]
     },
     "execution_count": 82,
     "metadata": {},
     "output_type": "execute_result"
    }
   ],
   "source": [
    "len(simulated_name_dob_reference_file_source_record_pairs)"
   ]
  },
  {
   "cell_type": "code",
   "execution_count": 83,
   "id": "538109c5-a088-4f33-a907-cfd6d1bd6368",
   "metadata": {
    "execution": {
     "iopub.execute_input": "2024-05-30T04:01:54.109583Z",
     "iopub.status.busy": "2024-05-30T04:01:54.108823Z",
     "iopub.status.idle": "2024-05-30T04:01:58.576385Z",
     "shell.execute_reply": "2024-05-30T04:01:58.571584Z"
    },
    "papermill": {
     "duration": 4.490184,
     "end_time": "2024-05-30T04:01:58.578002",
     "exception": false,
     "start_time": "2024-05-30T04:01:54.087818",
     "status": "completed"
    },
    "tags": []
   },
   "outputs": [
    {
     "name": "stdout",
     "output_type": "stream",
     "text": [
      "No collisions\n"
     ]
    }
   ],
   "source": [
    "simulated_name_dob_reference_file_ground_truth = get_ground_truth_for_records(simulated_name_dob_reference_file_source_record_pairs)"
   ]
  },
  {
   "cell_type": "code",
   "execution_count": 84,
   "id": "997af054-23dc-4ea4-90fa-1a8777712f2e",
   "metadata": {
    "execution": {
     "iopub.execute_input": "2024-05-30T04:01:58.624580Z",
     "iopub.status.busy": "2024-05-30T04:01:58.623205Z",
     "iopub.status.idle": "2024-05-30T04:01:58.646052Z",
     "shell.execute_reply": "2024-05-30T04:01:58.645254Z"
    },
    "papermill": {
     "duration": 0.046263,
     "end_time": "2024-05-30T04:01:58.648283",
     "exception": false,
     "start_time": "2024-05-30T04:01:58.602020",
     "status": "completed"
    },
    "tags": []
   },
   "outputs": [
    {
     "data": {
      "text/html": [
       "<div><strong>Dask DataFrame Structure:</strong></div>\n",
       "<div>\n",
       "<style scoped>\n",
       "    .dataframe tbody tr th:only-of-type {\n",
       "        vertical-align: middle;\n",
       "    }\n",
       "\n",
       "    .dataframe tbody tr th {\n",
       "        vertical-align: top;\n",
       "    }\n",
       "\n",
       "    .dataframe thead th {\n",
       "        text-align: right;\n",
       "    }\n",
       "</style>\n",
       "<table border=\"1\" class=\"dataframe\">\n",
       "  <thead>\n",
       "    <tr style=\"text-align: right;\">\n",
       "      <th></th>\n",
       "      <th>record_id</th>\n",
       "      <th>simulant_id</th>\n",
       "      <th>n_unique_simulants</th>\n",
       "    </tr>\n",
       "    <tr>\n",
       "      <th>npartitions=56</th>\n",
       "      <th></th>\n",
       "      <th></th>\n",
       "      <th></th>\n",
       "    </tr>\n",
       "  </thead>\n",
       "  <tbody>\n",
       "    <tr>\n",
       "      <th></th>\n",
       "      <td>string</td>\n",
       "      <td>string</td>\n",
       "      <td>int64</td>\n",
       "    </tr>\n",
       "    <tr>\n",
       "      <th></th>\n",
       "      <td>...</td>\n",
       "      <td>...</td>\n",
       "      <td>...</td>\n",
       "    </tr>\n",
       "    <tr>\n",
       "      <th>...</th>\n",
       "      <td>...</td>\n",
       "      <td>...</td>\n",
       "      <td>...</td>\n",
       "    </tr>\n",
       "    <tr>\n",
       "      <th></th>\n",
       "      <td>...</td>\n",
       "      <td>...</td>\n",
       "      <td>...</td>\n",
       "    </tr>\n",
       "    <tr>\n",
       "      <th></th>\n",
       "      <td>...</td>\n",
       "      <td>...</td>\n",
       "      <td>...</td>\n",
       "    </tr>\n",
       "  </tbody>\n",
       "</table>\n",
       "</div>\n",
       "<div>Dask Name: hash-join, 1 graph layer</div>"
      ],
      "text/plain": [
       "Dask DataFrame Structure:\n",
       "               record_id simulant_id n_unique_simulants\n",
       "npartitions=56                                         \n",
       "                  string      string              int64\n",
       "                     ...         ...                ...\n",
       "...                  ...         ...                ...\n",
       "                     ...         ...                ...\n",
       "                     ...         ...                ...\n",
       "Dask Name: hash-join, 1 graph layer"
      ]
     },
     "execution_count": 84,
     "metadata": {},
     "output_type": "execute_result"
    }
   ],
   "source": [
    "simulated_name_dob_reference_file_ground_truth"
   ]
  },
  {
   "cell_type": "markdown",
   "id": "ec1a0a88-b046-48a1-a230-d12a576c9be3",
   "metadata": {
    "papermill": {
     "duration": 0.019602,
     "end_time": "2024-05-30T04:01:58.692645",
     "exception": false,
     "start_time": "2024-05-30T04:01:58.673043",
     "status": "completed"
    },
    "tags": []
   },
   "source": [
    "### Simulated GeoBase Reference File"
   ]
  },
  {
   "cell_type": "code",
   "execution_count": 85,
   "id": "3c016c8c-3130-4b7a-a024-df4c003ebf44",
   "metadata": {
    "execution": {
     "iopub.execute_input": "2024-05-30T04:01:58.734603Z",
     "iopub.status.busy": "2024-05-30T04:01:58.733840Z",
     "iopub.status.idle": "2024-05-30T04:01:58.808314Z",
     "shell.execute_reply": "2024-05-30T04:01:58.807456Z"
    },
    "papermill": {
     "duration": 0.09965,
     "end_time": "2024-05-30T04:01:58.811780",
     "exception": false,
     "start_time": "2024-05-30T04:01:58.712130",
     "status": "completed"
    },
    "tags": []
   },
   "outputs": [
    {
     "data": {
      "text/plain": [
       "160516"
      ]
     },
     "execution_count": 85,
     "metadata": {},
     "output_type": "execute_result"
    }
   ],
   "source": [
    "len(simulated_geobase_reference_file_source_record_pairs)"
   ]
  },
  {
   "cell_type": "code",
   "execution_count": 86,
   "id": "6bffe19a-e2a8-4624-9d16-79296a7d0481",
   "metadata": {
    "execution": {
     "iopub.execute_input": "2024-05-30T04:01:58.859928Z",
     "iopub.status.busy": "2024-05-30T04:01:58.859135Z",
     "iopub.status.idle": "2024-05-30T04:02:12.861255Z",
     "shell.execute_reply": "2024-05-30T04:02:12.860461Z"
    },
    "papermill": {
     "duration": 14.02783,
     "end_time": "2024-05-30T04:02:12.864605",
     "exception": false,
     "start_time": "2024-05-30T04:01:58.836775",
     "status": "completed"
    },
    "tags": []
   },
   "outputs": [
    {
     "name": "stdout",
     "output_type": "stream",
     "text": [
      "Collisions:\n"
     ]
    },
    {
     "data": {
      "text/plain": [
       "count    34327.000000\n",
       "mean         1.082559\n",
       "std          0.287944\n",
       "min          1.000000\n",
       "25%          1.000000\n",
       "50%          1.000000\n",
       "75%          1.000000\n",
       "max          3.000000\n",
       "Name: n_unique_simulants, dtype: float64"
      ]
     },
     "metadata": {},
     "output_type": "display_data"
    },
    {
     "name": "stdout",
     "output_type": "stream",
     "text": [
      "Simulated tax records with the most collisions:\n"
     ]
    },
    {
     "data": {
      "text/html": [
       "<div>\n",
       "<style scoped>\n",
       "    .dataframe tbody tr th:only-of-type {\n",
       "        vertical-align: middle;\n",
       "    }\n",
       "\n",
       "    .dataframe tbody tr th {\n",
       "        vertical-align: top;\n",
       "    }\n",
       "\n",
       "    .dataframe thead th {\n",
       "        text-align: right;\n",
       "    }\n",
       "</style>\n",
       "<table border=\"1\" class=\"dataframe\">\n",
       "  <thead>\n",
       "    <tr style=\"text-align: right;\">\n",
       "      <th></th>\n",
       "      <th>source_record_id</th>\n",
       "      <th>record_id</th>\n",
       "      <th>ssn</th>\n",
       "      <th>first_name</th>\n",
       "      <th>middle_initial</th>\n",
       "      <th>last_name</th>\n",
       "      <th>mailing_address_street_number</th>\n",
       "      <th>mailing_address_street_name</th>\n",
       "      <th>mailing_address_unit_number</th>\n",
       "      <th>mailing_address_po_box</th>\n",
       "      <th>mailing_address_city</th>\n",
       "      <th>mailing_address_state</th>\n",
       "      <th>mailing_address_zipcode</th>\n",
       "      <th>simulant_id</th>\n",
       "    </tr>\n",
       "  </thead>\n",
       "  <tbody>\n",
       "    <tr>\n",
       "      <th>0</th>\n",
       "      <td>simulated_1040_0_5137</td>\n",
       "      <td>simulated_taxes_0_5137</td>\n",
       "      <td>074-87-4109</td>\n",
       "      <td>Logan</td>\n",
       "      <td>O</td>\n",
       "      <td>Garcia Rodriguez</td>\n",
       "      <td>3210</td>\n",
       "      <td>n stony creek</td>\n",
       "      <td>unit 1</td>\n",
       "      <td>&lt;NA&gt;</td>\n",
       "      <td>Anytown</td>\n",
       "      <td>WA</td>\n",
       "      <td>00000</td>\n",
       "      <td>0_4432</td>\n",
       "    </tr>\n",
       "    <tr>\n",
       "      <th>1</th>\n",
       "      <td>simulated_1040_1_5329</td>\n",
       "      <td>simulated_taxes_1_5329</td>\n",
       "      <td>074-87-4109</td>\n",
       "      <td>Logan</td>\n",
       "      <td>O</td>\n",
       "      <td>Garcia Rodriguez</td>\n",
       "      <td>3210</td>\n",
       "      <td>n stony creek</td>\n",
       "      <td>unit 1</td>\n",
       "      <td>&lt;NA&gt;</td>\n",
       "      <td>Anytown</td>\n",
       "      <td>WA</td>\n",
       "      <td>00000</td>\n",
       "      <td>0_4432</td>\n",
       "    </tr>\n",
       "    <tr>\n",
       "      <th>2</th>\n",
       "      <td>simulated_1040_2_5464</td>\n",
       "      <td>simulated_taxes_2_5464</td>\n",
       "      <td>074-87-4109</td>\n",
       "      <td>Logan</td>\n",
       "      <td>O</td>\n",
       "      <td>Garcia Rodriguez</td>\n",
       "      <td>3210</td>\n",
       "      <td>n stony creek</td>\n",
       "      <td>unit 1</td>\n",
       "      <td>&lt;NA&gt;</td>\n",
       "      <td>Anytown</td>\n",
       "      <td>WA</td>\n",
       "      <td>00000</td>\n",
       "      <td>0_4432</td>\n",
       "    </tr>\n",
       "    <tr>\n",
       "      <th>3</th>\n",
       "      <td>simulated_1040_3_5596</td>\n",
       "      <td>simulated_taxes_3_5596</td>\n",
       "      <td>074-87-4109</td>\n",
       "      <td>Logan</td>\n",
       "      <td>O</td>\n",
       "      <td>Garcia Rodriguez</td>\n",
       "      <td>3210</td>\n",
       "      <td>n stony creek</td>\n",
       "      <td>unit 1</td>\n",
       "      <td>&lt;NA&gt;</td>\n",
       "      <td>Anytown</td>\n",
       "      <td>WA</td>\n",
       "      <td>00000</td>\n",
       "      <td>0_4432</td>\n",
       "    </tr>\n",
       "    <tr>\n",
       "      <th>4</th>\n",
       "      <td>simulated_w2_1099_1_4957</td>\n",
       "      <td>simulated_taxes_6_4957</td>\n",
       "      <td>074-87-4109</td>\n",
       "      <td>Nancy</td>\n",
       "      <td>B</td>\n",
       "      <td>Garc</td>\n",
       "      <td>3210</td>\n",
       "      <td>n stony creek</td>\n",
       "      <td>unit 1</td>\n",
       "      <td>&lt;NA&gt;</td>\n",
       "      <td>Anytown</td>\n",
       "      <td>WA</td>\n",
       "      <td>00000</td>\n",
       "      <td>0_4433</td>\n",
       "    </tr>\n",
       "    <tr>\n",
       "      <th>5</th>\n",
       "      <td>simulated_w2_1099_1_4958</td>\n",
       "      <td>simulated_taxes_6_4958</td>\n",
       "      <td>074-87-4109</td>\n",
       "      <td>Nancy</td>\n",
       "      <td>B</td>\n",
       "      <td>Garcia Rodriguez</td>\n",
       "      <td>3210</td>\n",
       "      <td>n stony creek</td>\n",
       "      <td>unit 1</td>\n",
       "      <td>&lt;NA&gt;</td>\n",
       "      <td>Anytown</td>\n",
       "      <td>WA</td>\n",
       "      <td>00000</td>\n",
       "      <td>0_4433</td>\n",
       "    </tr>\n",
       "    <tr>\n",
       "      <th>6</th>\n",
       "      <td>simulated_w2_1099_2_5075</td>\n",
       "      <td>simulated_taxes_7_5075</td>\n",
       "      <td>074-87-4109</td>\n",
       "      <td>Nancy</td>\n",
       "      <td>B</td>\n",
       "      <td>Garc</td>\n",
       "      <td>3210</td>\n",
       "      <td>n stony creek</td>\n",
       "      <td>unit 1</td>\n",
       "      <td>&lt;NA&gt;</td>\n",
       "      <td>Anytown</td>\n",
       "      <td>WA</td>\n",
       "      <td>00000</td>\n",
       "      <td>0_4433</td>\n",
       "    </tr>\n",
       "    <tr>\n",
       "      <th>7</th>\n",
       "      <td>simulated_w2_1099_2_5081</td>\n",
       "      <td>simulated_taxes_7_5081</td>\n",
       "      <td>074-87-4109</td>\n",
       "      <td>Cameron</td>\n",
       "      <td>J</td>\n",
       "      <td>Fong</td>\n",
       "      <td>3210</td>\n",
       "      <td>n stony creek</td>\n",
       "      <td>unit 1</td>\n",
       "      <td>&lt;NA&gt;</td>\n",
       "      <td>Anytown</td>\n",
       "      <td>WA</td>\n",
       "      <td>00000</td>\n",
       "      <td>0_12843</td>\n",
       "    </tr>\n",
       "    <tr>\n",
       "      <th>8</th>\n",
       "      <td>simulated_w2_1099_3_4948</td>\n",
       "      <td>simulated_taxes_8_4948</td>\n",
       "      <td>074-87-4109</td>\n",
       "      <td>Logan</td>\n",
       "      <td>O</td>\n",
       "      <td>Garc</td>\n",
       "      <td>3210</td>\n",
       "      <td>n stony creek</td>\n",
       "      <td>unit 1</td>\n",
       "      <td>&lt;NA&gt;</td>\n",
       "      <td>Anytown</td>\n",
       "      <td>WA</td>\n",
       "      <td>00000</td>\n",
       "      <td>0_4432</td>\n",
       "    </tr>\n",
       "    <tr>\n",
       "      <th>9</th>\n",
       "      <td>simulated_w2_1099_4_4948</td>\n",
       "      <td>simulated_taxes_9_4948</td>\n",
       "      <td>074-87-4109</td>\n",
       "      <td>Logan</td>\n",
       "      <td>O</td>\n",
       "      <td>Garc</td>\n",
       "      <td>3210</td>\n",
       "      <td>n stony creek</td>\n",
       "      <td>unit 1</td>\n",
       "      <td>&lt;NA&gt;</td>\n",
       "      <td>Anytown</td>\n",
       "      <td>WA</td>\n",
       "      <td>00000</td>\n",
       "      <td>0_4432</td>\n",
       "    </tr>\n",
       "    <tr>\n",
       "      <th>10</th>\n",
       "      <td>simulated_w2_1099_4_4949</td>\n",
       "      <td>simulated_taxes_9_4949</td>\n",
       "      <td>074-87-4109</td>\n",
       "      <td>Logan</td>\n",
       "      <td>O</td>\n",
       "      <td>Garc</td>\n",
       "      <td>3210</td>\n",
       "      <td>n stony creek</td>\n",
       "      <td>unit 1</td>\n",
       "      <td>&lt;NA&gt;</td>\n",
       "      <td>Anytown</td>\n",
       "      <td>WA</td>\n",
       "      <td>00000</td>\n",
       "      <td>0_4432</td>\n",
       "    </tr>\n",
       "  </tbody>\n",
       "</table>\n",
       "</div>"
      ],
      "text/plain": [
       "            source_record_id               record_id          ssn first_name  \\\n",
       "0      simulated_1040_0_5137  simulated_taxes_0_5137  074-87-4109      Logan   \n",
       "1      simulated_1040_1_5329  simulated_taxes_1_5329  074-87-4109      Logan   \n",
       "2      simulated_1040_2_5464  simulated_taxes_2_5464  074-87-4109      Logan   \n",
       "3      simulated_1040_3_5596  simulated_taxes_3_5596  074-87-4109      Logan   \n",
       "4   simulated_w2_1099_1_4957  simulated_taxes_6_4957  074-87-4109      Nancy   \n",
       "5   simulated_w2_1099_1_4958  simulated_taxes_6_4958  074-87-4109      Nancy   \n",
       "6   simulated_w2_1099_2_5075  simulated_taxes_7_5075  074-87-4109      Nancy   \n",
       "7   simulated_w2_1099_2_5081  simulated_taxes_7_5081  074-87-4109    Cameron   \n",
       "8   simulated_w2_1099_3_4948  simulated_taxes_8_4948  074-87-4109      Logan   \n",
       "9   simulated_w2_1099_4_4948  simulated_taxes_9_4948  074-87-4109      Logan   \n",
       "10  simulated_w2_1099_4_4949  simulated_taxes_9_4949  074-87-4109      Logan   \n",
       "\n",
       "   middle_initial         last_name mailing_address_street_number  \\\n",
       "0               O  Garcia Rodriguez                          3210   \n",
       "1               O  Garcia Rodriguez                          3210   \n",
       "2               O  Garcia Rodriguez                          3210   \n",
       "3               O  Garcia Rodriguez                          3210   \n",
       "4               B              Garc                          3210   \n",
       "5               B  Garcia Rodriguez                          3210   \n",
       "6               B              Garc                          3210   \n",
       "7               J              Fong                          3210   \n",
       "8               O              Garc                          3210   \n",
       "9               O              Garc                          3210   \n",
       "10              O              Garc                          3210   \n",
       "\n",
       "   mailing_address_street_name mailing_address_unit_number  \\\n",
       "0                n stony creek                      unit 1   \n",
       "1                n stony creek                      unit 1   \n",
       "2                n stony creek                      unit 1   \n",
       "3                n stony creek                      unit 1   \n",
       "4                n stony creek                      unit 1   \n",
       "5                n stony creek                      unit 1   \n",
       "6                n stony creek                      unit 1   \n",
       "7                n stony creek                      unit 1   \n",
       "8                n stony creek                      unit 1   \n",
       "9                n stony creek                      unit 1   \n",
       "10               n stony creek                      unit 1   \n",
       "\n",
       "   mailing_address_po_box mailing_address_city mailing_address_state  \\\n",
       "0                    <NA>              Anytown                    WA   \n",
       "1                    <NA>              Anytown                    WA   \n",
       "2                    <NA>              Anytown                    WA   \n",
       "3                    <NA>              Anytown                    WA   \n",
       "4                    <NA>              Anytown                    WA   \n",
       "5                    <NA>              Anytown                    WA   \n",
       "6                    <NA>              Anytown                    WA   \n",
       "7                    <NA>              Anytown                    WA   \n",
       "8                    <NA>              Anytown                    WA   \n",
       "9                    <NA>              Anytown                    WA   \n",
       "10                   <NA>              Anytown                    WA   \n",
       "\n",
       "   mailing_address_zipcode simulant_id  \n",
       "0                    00000      0_4432  \n",
       "1                    00000      0_4432  \n",
       "2                    00000      0_4432  \n",
       "3                    00000      0_4432  \n",
       "4                    00000      0_4433  \n",
       "5                    00000      0_4433  \n",
       "6                    00000      0_4433  \n",
       "7                    00000     0_12843  \n",
       "8                    00000      0_4432  \n",
       "9                    00000      0_4432  \n",
       "10                   00000      0_4432  "
      ]
     },
     "metadata": {},
     "output_type": "display_data"
    },
    {
     "name": "stdout",
     "output_type": "stream",
     "text": [
      "Simulated SSA records with the most collisions:\n"
     ]
    },
    {
     "data": {
      "text/html": [
       "<div>\n",
       "<style scoped>\n",
       "    .dataframe tbody tr th:only-of-type {\n",
       "        vertical-align: middle;\n",
       "    }\n",
       "\n",
       "    .dataframe tbody tr th {\n",
       "        vertical-align: top;\n",
       "    }\n",
       "\n",
       "    .dataframe thead th {\n",
       "        text-align: right;\n",
       "    }\n",
       "</style>\n",
       "<table border=\"1\" class=\"dataframe\">\n",
       "  <thead>\n",
       "    <tr style=\"text-align: right;\">\n",
       "      <th></th>\n",
       "      <th>source_record_id</th>\n",
       "      <th>ssn</th>\n",
       "      <th>first_name</th>\n",
       "      <th>middle_name</th>\n",
       "      <th>last_name</th>\n",
       "      <th>date_of_birth</th>\n",
       "      <th>sex</th>\n",
       "      <th>event_type</th>\n",
       "      <th>event_date</th>\n",
       "      <th>simulant_id</th>\n",
       "    </tr>\n",
       "  </thead>\n",
       "  <tbody>\n",
       "    <tr>\n",
       "      <th>0</th>\n",
       "      <td>simulated_ssa_numident_0_14041</td>\n",
       "      <td>074-87-4109</td>\n",
       "      <td>Pogah</td>\n",
       "      <td>Omar</td>\n",
       "      <td>Garcia Rodriguez</td>\n",
       "      <td>20101004</td>\n",
       "      <td>Male</td>\n",
       "      <td>creation</td>\n",
       "      <td>20101004</td>\n",
       "      <td>0_4432</td>\n",
       "    </tr>\n",
       "  </tbody>\n",
       "</table>\n",
       "</div>"
      ],
      "text/plain": [
       "                 source_record_id          ssn first_name middle_name  \\\n",
       "0  simulated_ssa_numident_0_14041  074-87-4109      Pogah        Omar   \n",
       "\n",
       "          last_name date_of_birth   sex event_type event_date simulant_id  \n",
       "0  Garcia Rodriguez      20101004  Male   creation   20101004      0_4432  "
      ]
     },
     "metadata": {},
     "output_type": "display_data"
    }
   ],
   "source": [
    "simulated_geobase_reference_file_ground_truth = get_ground_truth_for_records(simulated_geobase_reference_file_source_record_pairs)"
   ]
  },
  {
   "cell_type": "code",
   "execution_count": 87,
   "id": "95cb8c5d-c919-4a93-9f6f-60c8df385e91",
   "metadata": {
    "execution": {
     "iopub.execute_input": "2024-05-30T04:02:12.915161Z",
     "iopub.status.busy": "2024-05-30T04:02:12.914369Z",
     "iopub.status.idle": "2024-05-30T04:02:12.932651Z",
     "shell.execute_reply": "2024-05-30T04:02:12.931879Z"
    },
    "papermill": {
     "duration": 0.042572,
     "end_time": "2024-05-30T04:02:12.934522",
     "exception": false,
     "start_time": "2024-05-30T04:02:12.891950",
     "status": "completed"
    },
    "tags": []
   },
   "outputs": [
    {
     "data": {
      "text/html": [
       "<div><strong>Dask DataFrame Structure:</strong></div>\n",
       "<div>\n",
       "<style scoped>\n",
       "    .dataframe tbody tr th:only-of-type {\n",
       "        vertical-align: middle;\n",
       "    }\n",
       "\n",
       "    .dataframe tbody tr th {\n",
       "        vertical-align: top;\n",
       "    }\n",
       "\n",
       "    .dataframe thead th {\n",
       "        text-align: right;\n",
       "    }\n",
       "</style>\n",
       "<table border=\"1\" class=\"dataframe\">\n",
       "  <thead>\n",
       "    <tr style=\"text-align: right;\">\n",
       "      <th></th>\n",
       "      <th>record_id</th>\n",
       "      <th>simulant_id</th>\n",
       "      <th>n_unique_simulants</th>\n",
       "    </tr>\n",
       "    <tr>\n",
       "      <th>npartitions=160</th>\n",
       "      <th></th>\n",
       "      <th></th>\n",
       "      <th></th>\n",
       "    </tr>\n",
       "  </thead>\n",
       "  <tbody>\n",
       "    <tr>\n",
       "      <th></th>\n",
       "      <td>string</td>\n",
       "      <td>string</td>\n",
       "      <td>int64</td>\n",
       "    </tr>\n",
       "    <tr>\n",
       "      <th></th>\n",
       "      <td>...</td>\n",
       "      <td>...</td>\n",
       "      <td>...</td>\n",
       "    </tr>\n",
       "    <tr>\n",
       "      <th>...</th>\n",
       "      <td>...</td>\n",
       "      <td>...</td>\n",
       "      <td>...</td>\n",
       "    </tr>\n",
       "    <tr>\n",
       "      <th></th>\n",
       "      <td>...</td>\n",
       "      <td>...</td>\n",
       "      <td>...</td>\n",
       "    </tr>\n",
       "    <tr>\n",
       "      <th></th>\n",
       "      <td>...</td>\n",
       "      <td>...</td>\n",
       "      <td>...</td>\n",
       "    </tr>\n",
       "  </tbody>\n",
       "</table>\n",
       "</div>\n",
       "<div>Dask Name: hash-join, 1 graph layer</div>"
      ],
      "text/plain": [
       "Dask DataFrame Structure:\n",
       "                record_id simulant_id n_unique_simulants\n",
       "npartitions=160                                         \n",
       "                   string      string              int64\n",
       "                      ...         ...                ...\n",
       "...                   ...         ...                ...\n",
       "                      ...         ...                ...\n",
       "                      ...         ...                ...\n",
       "Dask Name: hash-join, 1 graph layer"
      ]
     },
     "execution_count": 87,
     "metadata": {},
     "output_type": "execute_result"
    }
   ],
   "source": [
    "simulated_geobase_reference_file_ground_truth"
   ]
  },
  {
   "cell_type": "code",
   "execution_count": 88,
   "id": "794b921e-85b2-4107-b528-c00b0cbd703c",
   "metadata": {
    "execution": {
     "iopub.execute_input": "2024-05-30T04:02:12.981664Z",
     "iopub.status.busy": "2024-05-30T04:02:12.980933Z",
     "iopub.status.idle": "2024-05-30T04:02:12.992874Z",
     "shell.execute_reply": "2024-05-30T04:02:12.991885Z"
    },
    "papermill": {
     "duration": 0.035648,
     "end_time": "2024-05-30T04:02:12.994452",
     "exception": false,
     "start_time": "2024-05-30T04:02:12.958804",
     "status": "completed"
    },
    "tags": []
   },
   "outputs": [],
   "source": [
    "%xdel simulated_taxes\n",
    "%xdel simulated_taxes_source_record_pairs"
   ]
  },
  {
   "cell_type": "markdown",
   "id": "26dbbbf8-ddc6-4ecb-9743-9036bd03c79e",
   "metadata": {
    "papermill": {
     "duration": 0.020511,
     "end_time": "2024-05-30T04:02:13.038464",
     "exception": false,
     "start_time": "2024-05-30T04:02:13.017953",
     "status": "completed"
    },
    "tags": []
   },
   "source": [
    "### Get ground truth by SSN"
   ]
  },
  {
   "cell_type": "code",
   "execution_count": 89,
   "id": "19ad9a6e-df82-4482-8d49-2128a07a2a41",
   "metadata": {
    "execution": {
     "iopub.execute_input": "2024-05-30T04:02:13.081528Z",
     "iopub.status.busy": "2024-05-30T04:02:13.080745Z",
     "iopub.status.idle": "2024-05-30T04:02:16.915241Z",
     "shell.execute_reply": "2024-05-30T04:02:16.914609Z"
    },
    "papermill": {
     "duration": 3.860115,
     "end_time": "2024-05-30T04:02:16.918568",
     "exception": false,
     "start_time": "2024-05-30T04:02:13.058453",
     "status": "completed"
    },
    "tags": []
   },
   "outputs": [
    {
     "name": "stdout",
     "output_type": "stream",
     "text": [
      "Imbalanced dataframe: too_few=False, too_many=True, too_large=False\n",
      "count      284.000000\n",
      "mean     34943.295775\n",
      "std      22783.958044\n",
      "min      15483.000000\n",
      "25%      18911.000000\n",
      "50%      20679.000000\n",
      "75%      34792.500000\n",
      "max      82858.000000\n",
      "dtype: float64\n",
      "Creating partitions of 100MB\n"
     ]
    },
    {
     "name": "stdout",
     "output_type": "stream",
     "text": [
      "Imbalanced dataframe: too_few=True, too_many=False, too_large=False\n",
      "count         2.000000\n",
      "mean     337437.000000\n",
      "std      477207.981846\n",
      "min           0.000000\n",
      "25%      168718.500000\n",
      "50%      337437.000000\n",
      "75%      506155.500000\n",
      "max      674874.000000\n",
      "dtype: float64\n"
     ]
    },
    {
     "data": {
      "text/html": [
       "<div><strong>Dask DataFrame Structure:</strong></div>\n",
       "<div>\n",
       "<style scoped>\n",
       "    .dataframe tbody tr th:only-of-type {\n",
       "        vertical-align: middle;\n",
       "    }\n",
       "\n",
       "    .dataframe tbody tr th {\n",
       "        vertical-align: top;\n",
       "    }\n",
       "\n",
       "    .dataframe thead th {\n",
       "        text-align: right;\n",
       "    }\n",
       "</style>\n",
       "<table border=\"1\" class=\"dataframe\">\n",
       "  <thead>\n",
       "    <tr style=\"text-align: right;\">\n",
       "      <th></th>\n",
       "      <th>ssn</th>\n",
       "      <th>simulant_id</th>\n",
       "    </tr>\n",
       "    <tr>\n",
       "      <th>npartitions=2</th>\n",
       "      <th></th>\n",
       "      <th></th>\n",
       "    </tr>\n",
       "  </thead>\n",
       "  <tbody>\n",
       "    <tr>\n",
       "      <th></th>\n",
       "      <td>string</td>\n",
       "      <td>string</td>\n",
       "    </tr>\n",
       "    <tr>\n",
       "      <th></th>\n",
       "      <td>...</td>\n",
       "      <td>...</td>\n",
       "    </tr>\n",
       "    <tr>\n",
       "      <th></th>\n",
       "      <td>...</td>\n",
       "      <td>...</td>\n",
       "    </tr>\n",
       "  </tbody>\n",
       "</table>\n",
       "</div>\n",
       "<div>Dask Name: concat, 1 graph layer</div>"
      ],
      "text/plain": [
       "Dask DataFrame Structure:\n",
       "                  ssn simulant_id\n",
       "npartitions=2                    \n",
       "               string      string\n",
       "                  ...         ...\n",
       "                  ...         ...\n",
       "Dask Name: concat, 1 graph layer"
      ]
     },
     "execution_count": 89,
     "metadata": {},
     "output_type": "execute_result"
    }
   ],
   "source": [
    "simulated_ssn_simulant_pairs = df_ops.persist(\n",
    "    df_ops.concat([\n",
    "        simulated_census_numident[[\"record_id\", \"ssn\"]].merge(simulated_census_numident_ground_truth, on=\"record_id\"),\n",
    "        simulated_alternate_name_numident[[\"record_id\", \"ssn\"]].merge(simulated_alternate_name_numident_ground_truth, on=\"record_id\"),\n",
    "        simulated_alternate_dob_numident[[\"record_id\", \"ssn\"]].merge(simulated_alternate_dob_numident_ground_truth, on=\"record_id\"),\n",
    "        simulated_name_dob_reference_file[[\"record_id\", \"ssn\"]].merge(simulated_name_dob_reference_file_ground_truth, on=\"record_id\"),\n",
    "        simulated_geobase_reference_file[[\"record_id\", \"ssn\"]].merge(simulated_geobase_reference_file_ground_truth, on=\"record_id\"),\n",
    "    ])\n",
    "        [['ssn', 'simulant_id']]\n",
    "        .pipe(df_ops.drop_duplicates)\n",
    ")\n",
    "simulated_ssn_simulant_pairs"
   ]
  },
  {
   "cell_type": "code",
   "execution_count": 90,
   "id": "a75ebbe1-f0a6-402f-8833-b7bdbeff591a",
   "metadata": {
    "execution": {
     "iopub.execute_input": "2024-05-30T04:02:16.970503Z",
     "iopub.status.busy": "2024-05-30T04:02:16.969687Z",
     "iopub.status.idle": "2024-05-30T04:02:17.499584Z",
     "shell.execute_reply": "2024-05-30T04:02:17.498690Z"
    },
    "papermill": {
     "duration": 0.557936,
     "end_time": "2024-05-30T04:02:17.503127",
     "exception": false,
     "start_time": "2024-05-30T04:02:16.945191",
     "status": "completed"
    },
    "tags": []
   },
   "outputs": [
    {
     "data": {
      "text/plain": [
       "1093"
      ]
     },
     "execution_count": 90,
     "metadata": {},
     "output_type": "execute_result"
    }
   ],
   "source": [
    "# How many simulated SSNs have different simulant IDs\n",
    "# contributing to them?\n",
    "df_ops.compute((df_ops.groupby_agg_small_groups(simulated_ssn_simulant_pairs, by='ssn', agg_func=lambda x: x.simulant_id.nunique()) > 1).sum())"
   ]
  },
  {
   "cell_type": "markdown",
   "id": "fbaef894-d1e4-4425-8fac-58c96ef7708d",
   "metadata": {
    "papermill": {
     "duration": 0.020981,
     "end_time": "2024-05-30T04:02:17.550896",
     "exception": false,
     "start_time": "2024-05-30T04:02:17.529915",
     "status": "completed"
    },
    "tags": []
   },
   "source": [
    "## Save results"
   ]
  },
  {
   "cell_type": "code",
   "execution_count": 91,
   "id": "e55ff1f7-9332-419b-8a5b-306572d4cad5",
   "metadata": {
    "execution": {
     "iopub.execute_input": "2024-05-30T04:02:17.594984Z",
     "iopub.status.busy": "2024-05-30T04:02:17.594176Z",
     "iopub.status.idle": "2024-05-30T04:02:17.604789Z",
     "shell.execute_reply": "2024-05-30T04:02:17.603318Z"
    },
    "papermill": {
     "duration": 0.037719,
     "end_time": "2024-05-30T04:02:17.609480",
     "exception": false,
     "start_time": "2024-05-30T04:02:17.571761",
     "status": "completed"
    },
    "tags": []
   },
   "outputs": [],
   "source": [
    "files = {\n",
    "    'simulated_census_numident': (simulated_census_numident, simulated_census_numident_ground_truth),\n",
    "    'simulated_alternate_name_numident': (simulated_alternate_name_numident, simulated_alternate_name_numident_ground_truth),\n",
    "    'simulated_alternate_dob_numident': (simulated_alternate_dob_numident, simulated_alternate_dob_numident_ground_truth),\n",
    "    'simulated_geobase_reference_file': (simulated_geobase_reference_file, simulated_geobase_reference_file_ground_truth),\n",
    "    'simulated_name_dob_reference_file': (simulated_name_dob_reference_file, simulated_name_dob_reference_file_ground_truth),\n",
    "}"
   ]
  },
  {
   "cell_type": "code",
   "execution_count": 92,
   "id": "9ca11cf1-963c-448e-8961-261f9ddc2143",
   "metadata": {
    "execution": {
     "iopub.execute_input": "2024-05-30T04:02:17.662072Z",
     "iopub.status.busy": "2024-05-30T04:02:17.661302Z",
     "iopub.status.idle": "2024-05-30T04:02:18.833285Z",
     "shell.execute_reply": "2024-05-30T04:02:18.832423Z"
    },
    "papermill": {
     "duration": 1.19872,
     "end_time": "2024-05-30T04:02:18.837056",
     "exception": false,
     "start_time": "2024-05-30T04:02:17.638336",
     "status": "completed"
    },
    "tags": []
   },
   "outputs": [
    {
     "data": {
      "text/html": [
       "<div><strong>Dask DataFrame Structure:</strong></div>\n",
       "<div>\n",
       "<style scoped>\n",
       "    .dataframe tbody tr th:only-of-type {\n",
       "        vertical-align: middle;\n",
       "    }\n",
       "\n",
       "    .dataframe tbody tr th {\n",
       "        vertical-align: top;\n",
       "    }\n",
       "\n",
       "    .dataframe thead th {\n",
       "        text-align: right;\n",
       "    }\n",
       "</style>\n",
       "<table border=\"1\" class=\"dataframe\">\n",
       "  <thead>\n",
       "    <tr style=\"text-align: right;\">\n",
       "      <th></th>\n",
       "      <th>ssn</th>\n",
       "      <th>pik</th>\n",
       "    </tr>\n",
       "    <tr>\n",
       "      <th>npartitions=76</th>\n",
       "      <th></th>\n",
       "      <th></th>\n",
       "    </tr>\n",
       "  </thead>\n",
       "  <tbody>\n",
       "    <tr>\n",
       "      <th></th>\n",
       "      <td>string</td>\n",
       "      <td>string</td>\n",
       "    </tr>\n",
       "    <tr>\n",
       "      <th></th>\n",
       "      <td>...</td>\n",
       "      <td>...</td>\n",
       "    </tr>\n",
       "    <tr>\n",
       "      <th>...</th>\n",
       "      <td>...</td>\n",
       "      <td>...</td>\n",
       "    </tr>\n",
       "    <tr>\n",
       "      <th></th>\n",
       "      <td>...</td>\n",
       "      <td>...</td>\n",
       "    </tr>\n",
       "    <tr>\n",
       "      <th></th>\n",
       "      <td>...</td>\n",
       "      <td>...</td>\n",
       "    </tr>\n",
       "  </tbody>\n",
       "</table>\n",
       "</div>\n",
       "<div>Dask Name: getitem, 6 graph layers</div>"
      ],
      "text/plain": [
       "Dask DataFrame Structure:\n",
       "                   ssn     pik\n",
       "npartitions=76                \n",
       "                string  string\n",
       "                   ...     ...\n",
       "...                ...     ...\n",
       "                   ...     ...\n",
       "                   ...     ...\n",
       "Dask Name: getitem, 6 graph layers"
      ]
     },
     "execution_count": 92,
     "metadata": {},
     "output_type": "execute_result"
    }
   ],
   "source": [
    "simulated_reference_files = [\n",
    "    simulated_census_numident,\n",
    "    simulated_alternate_name_numident,\n",
    "    simulated_alternate_dob_numident,\n",
    "    simulated_geobase_reference_file,\n",
    "    simulated_name_dob_reference_file,\n",
    "]\n",
    "# TODO: Rename the ssn column to explicitly include itins, since this is confusing\n",
    "simulated_all_ssns_itins_in_reference_files = df_ops.concat([df[[\"ssn\"]] for df in simulated_reference_files], ignore_index=True)\n",
    "simulated_ssn_to_pik = (\n",
    "    simulated_all_ssns_itins_in_reference_files\n",
    "        .pipe(df_ops.drop_duplicates)\n",
    "        .pipe(add_unique_id_col, col_name='pik')\n",
    "        [['ssn', 'pik']]\n",
    ")\n",
    "simulated_ssn_to_pik"
   ]
  },
  {
   "cell_type": "code",
   "execution_count": 93,
   "id": "be53e5b9-2820-4d74-b6c0-0c6cd696a8c4",
   "metadata": {
    "execution": {
     "iopub.execute_input": "2024-05-30T04:02:18.888206Z",
     "iopub.status.busy": "2024-05-30T04:02:18.887478Z",
     "iopub.status.idle": "2024-05-30T04:02:18.912975Z",
     "shell.execute_reply": "2024-05-30T04:02:18.912196Z"
    },
    "papermill": {
     "duration": 0.050627,
     "end_time": "2024-05-30T04:02:18.915113",
     "exception": false,
     "start_time": "2024-05-30T04:02:18.864486",
     "status": "completed"
    },
    "tags": []
   },
   "outputs": [
    {
     "data": {
      "text/html": [
       "<div><strong>Dask DataFrame Structure:</strong></div>\n",
       "<div>\n",
       "<style scoped>\n",
       "    .dataframe tbody tr th:only-of-type {\n",
       "        vertical-align: middle;\n",
       "    }\n",
       "\n",
       "    .dataframe tbody tr th {\n",
       "        vertical-align: top;\n",
       "    }\n",
       "\n",
       "    .dataframe thead th {\n",
       "        text-align: right;\n",
       "    }\n",
       "</style>\n",
       "<table border=\"1\" class=\"dataframe\">\n",
       "  <thead>\n",
       "    <tr style=\"text-align: right;\">\n",
       "      <th></th>\n",
       "      <th>pik</th>\n",
       "      <th>simulant_id</th>\n",
       "    </tr>\n",
       "    <tr>\n",
       "      <th>npartitions=76</th>\n",
       "      <th></th>\n",
       "      <th></th>\n",
       "    </tr>\n",
       "  </thead>\n",
       "  <tbody>\n",
       "    <tr>\n",
       "      <th></th>\n",
       "      <td>string</td>\n",
       "      <td>string</td>\n",
       "    </tr>\n",
       "    <tr>\n",
       "      <th></th>\n",
       "      <td>...</td>\n",
       "      <td>...</td>\n",
       "    </tr>\n",
       "    <tr>\n",
       "      <th>...</th>\n",
       "      <td>...</td>\n",
       "      <td>...</td>\n",
       "    </tr>\n",
       "    <tr>\n",
       "      <th></th>\n",
       "      <td>...</td>\n",
       "      <td>...</td>\n",
       "    </tr>\n",
       "    <tr>\n",
       "      <th></th>\n",
       "      <td>...</td>\n",
       "      <td>...</td>\n",
       "    </tr>\n",
       "  </tbody>\n",
       "</table>\n",
       "</div>\n",
       "<div>Dask Name: getitem, 9 graph layers</div>"
      ],
      "text/plain": [
       "Dask DataFrame Structure:\n",
       "                   pik simulant_id\n",
       "npartitions=76                    \n",
       "                string      string\n",
       "                   ...         ...\n",
       "...                ...         ...\n",
       "                   ...         ...\n",
       "                   ...         ...\n",
       "Dask Name: getitem, 9 graph layers"
      ]
     },
     "execution_count": 93,
     "metadata": {},
     "output_type": "execute_result"
    }
   ],
   "source": [
    "simulated_pik_simulant_pairs = (\n",
    "    simulated_ssn_simulant_pairs\n",
    "        .merge(simulated_ssn_to_pik, on=\"ssn\", how=\"inner\")\n",
    "        [['pik', 'simulant_id']]\n",
    ")\n",
    "simulated_pik_simulant_pairs"
   ]
  },
  {
   "cell_type": "code",
   "execution_count": 94,
   "id": "977d392f-b0af-4e8e-b644-e58949768e35",
   "metadata": {
    "execution": {
     "iopub.execute_input": "2024-05-30T04:02:18.965034Z",
     "iopub.status.busy": "2024-05-30T04:02:18.963805Z",
     "iopub.status.idle": "2024-05-30T04:02:18.972577Z",
     "shell.execute_reply": "2024-05-30T04:02:18.971449Z"
    },
    "papermill": {
     "duration": 0.033855,
     "end_time": "2024-05-30T04:02:18.974260",
     "exception": false,
     "start_time": "2024-05-30T04:02:18.940405",
     "status": "completed"
    },
    "tags": []
   },
   "outputs": [],
   "source": [
    "%xdel simulated_ssn_simulant_pairs"
   ]
  },
  {
   "cell_type": "code",
   "execution_count": 95,
   "id": "64cbf611-0ac1-48fa-bd91-efe3cd8a23a1",
   "metadata": {
    "execution": {
     "iopub.execute_input": "2024-05-30T04:02:19.021693Z",
     "iopub.status.busy": "2024-05-30T04:02:19.020969Z",
     "iopub.status.idle": "2024-05-30T04:02:46.458057Z",
     "shell.execute_reply": "2024-05-30T04:02:46.456142Z"
    },
    "papermill": {
     "duration": 27.46398,
     "end_time": "2024-05-30T04:02:46.461802",
     "exception": false,
     "start_time": "2024-05-30T04:02:18.997822",
     "status": "completed"
    },
    "tags": []
   },
   "outputs": [],
   "source": [
    "for file_name, (file, ground_truth) in files.items():\n",
    "    file = df_ops.persist(file.merge(simulated_ssn_to_pik, on='ssn', how='left'))\n",
    "    assert df_ops.compute(file.pik.notnull().all())\n",
    "\n",
    "    save_file_with_ground_truth(file_name, file, ground_truth)"
   ]
  },
  {
   "cell_type": "code",
   "execution_count": 96,
   "id": "834b4cdb-3b83-4f83-b53a-3a67b23e9ff6",
   "metadata": {
    "execution": {
     "iopub.execute_input": "2024-05-30T04:02:46.514692Z",
     "iopub.status.busy": "2024-05-30T04:02:46.513915Z",
     "iopub.status.idle": "2024-05-30T04:02:47.166915Z",
     "shell.execute_reply": "2024-05-30T04:02:47.166017Z"
    },
    "papermill": {
     "duration": 0.680472,
     "end_time": "2024-05-30T04:02:47.171261",
     "exception": false,
     "start_time": "2024-05-30T04:02:46.490789",
     "status": "completed"
    },
    "tags": []
   },
   "outputs": [],
   "source": [
    "simulated_pik_simulant_pairs_path = f'{output_dir}/{data_to_use}/simulated_pik_simulant_pairs.parquet'\n",
    "utils.remove_path(simulated_pik_simulant_pairs_path)\n",
    "simulated_pik_simulant_pairs.to_parquet(simulated_pik_simulant_pairs_path)"
   ]
  },
  {
   "cell_type": "code",
   "execution_count": 97,
   "id": "7aa94833-9286-427e-9d9a-257ba17bf678",
   "metadata": {
    "execution": {
     "iopub.execute_input": "2024-05-30T04:02:47.224608Z",
     "iopub.status.busy": "2024-05-30T04:02:47.223117Z",
     "iopub.status.idle": "2024-05-30T04:02:47.232288Z",
     "shell.execute_reply": "2024-05-30T04:02:47.231390Z"
    },
    "papermill": {
     "duration": 0.034164,
     "end_time": "2024-05-30T04:02:47.234165",
     "exception": false,
     "start_time": "2024-05-30T04:02:47.200001",
     "status": "completed"
    },
    "tags": []
   },
   "outputs": [
    {
     "name": "stdout",
     "output_type": "stream",
     "text": [
      "2024-05-29 21:02:47.227847\n"
     ]
    }
   ],
   "source": [
    "print(datetime.datetime.now())"
   ]
  }
 ],
 "metadata": {
  "kernelspec": {
   "display_name": "Python 3 (ipykernel)",
   "language": "python",
   "name": "python3"
  },
  "language_info": {
   "codemirror_mode": {
    "name": "ipython",
    "version": 3
   },
   "file_extension": ".py",
   "mimetype": "text/x-python",
   "name": "python",
   "nbconvert_exporter": "python",
   "pygments_lexer": "ipython3",
   "version": "3.10.14"
  },
  "nbdime-conflicts": {
   "local_diff": [
    {
     "diff": [
      {
       "diff": [
        {
         "diff": [
          {
           "key": 24,
           "op": "addrange",
           "valuelist": "3"
          },
          {
           "key": 24,
           "length": 7,
           "op": "removerange"
          }
         ],
         "key": 0,
         "op": "patch"
        }
       ],
       "key": "display_name",
       "op": "patch"
      },
      {
       "diff": [
        {
         "diff": [
          {
           "key": 24,
           "op": "addrange",
           "valuelist": "3"
          },
          {
           "key": 24,
           "length": 7,
           "op": "removerange"
          }
         ],
         "key": 0,
         "op": "patch"
        }
       ],
       "key": "name",
       "op": "patch"
      }
     ],
     "key": "kernelspec",
     "op": "patch"
    }
   ],
   "remote_diff": [
    {
     "diff": [
      {
       "diff": [
        {
         "diff": [
          {
           "key": 24,
           "length": 6,
           "op": "removerange"
          }
         ],
         "key": 0,
         "op": "patch"
        }
       ],
       "key": "display_name",
       "op": "patch"
      },
      {
       "diff": [
        {
         "diff": [
          {
           "key": 24,
           "length": 6,
           "op": "removerange"
          }
         ],
         "key": 0,
         "op": "patch"
        }
       ],
       "key": "name",
       "op": "patch"
      }
     ],
     "key": "kernelspec",
     "op": "patch"
    }
   ]
  },
  "papermill": {
   "default_parameters": {},
   "duration": 111.014339,
   "end_time": "2024-05-30T04:02:48.581645",
   "environment_variables": {},
   "exception": null,
   "input_path": "generate_simulated_data/generate_simulated_data.ipynb",
   "output_path": "generate_simulated_data/generate_simulated_data_small_sample.ipynb",
   "parameters": {
    "account": "proj_simscience",
    "compute_engine": "dask",
    "data_to_use": "small_sample",
    "output_dir": "output/generate_simulated_data/",
    "queue": "long.q",
    "walltime": "16-00:00:00"
   },
   "start_time": "2024-05-30T04:00:57.567306",
   "version": "2.5.0"
  }
 },
 "nbformat": 4,
 "nbformat_minor": 5
}