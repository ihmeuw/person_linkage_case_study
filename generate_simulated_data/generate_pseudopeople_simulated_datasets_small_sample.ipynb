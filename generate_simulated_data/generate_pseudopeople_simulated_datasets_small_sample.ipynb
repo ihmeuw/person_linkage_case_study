{
 "cells": [
  {
   "cell_type": "markdown",
   "id": "6f802687-416a-4b38-82d3-ab387dc16c38",
   "metadata": {
    "papermill": {
     "duration": 0.013888,
     "end_time": "2024-05-16T20:59:04.461082",
     "exception": false,
     "start_time": "2024-05-16T20:59:04.447194",
     "status": "completed"
    },
    "tags": []
   },
   "source": [
    "# Generate pseudopeople simulated datasets\n",
    "\n",
    "The very first step is generating pseudopeople data that will be used both directly in the case study, and to create the reference files.\n",
    "Since this is an intensive operation and currently can only be distributed with Modin, we do only this step in this notebook, then\n",
    "save the results."
   ]
  },
  {
   "cell_type": "code",
   "execution_count": 1,
   "id": "6a821e3e-9ae1-466d-b24f-66d1b0703a92",
   "metadata": {
    "execution": {
     "iopub.execute_input": "2024-05-16T20:59:04.476830Z",
     "iopub.status.busy": "2024-05-16T20:59:04.476012Z",
     "iopub.status.idle": "2024-05-16T20:59:09.922095Z",
     "shell.execute_reply": "2024-05-16T20:59:09.921498Z"
    },
    "papermill": {
     "duration": 5.45724,
     "end_time": "2024-05-16T20:59:09.925829",
     "exception": false,
     "start_time": "2024-05-16T20:59:04.468589",
     "status": "completed"
    },
    "tags": []
   },
   "outputs": [],
   "source": [
    "import warnings\n",
    "import pseudopeople as psp\n",
    "import os, time\n",
    "import logging\n",
    "from pathlib import Path\n",
    "# Importing pandas for access, regardless of whether we are using it as the compute engine\n",
    "import pandas"
   ]
  },
  {
   "cell_type": "code",
   "execution_count": 2,
   "id": "57d8bb5e-1f72-4db1-9d64-a7758e7ba087",
   "metadata": {
    "execution": {
     "iopub.execute_input": "2024-05-16T20:59:09.945673Z",
     "iopub.status.busy": "2024-05-16T20:59:09.944858Z",
     "iopub.status.idle": "2024-05-16T20:59:09.976253Z",
     "shell.execute_reply": "2024-05-16T20:59:09.975238Z"
    },
    "papermill": {
     "duration": 0.042218,
     "end_time": "2024-05-16T20:59:09.979748",
     "exception": false,
     "start_time": "2024-05-16T20:59:09.937530",
     "status": "completed"
    },
    "tags": []
   },
   "outputs": [],
   "source": [
    "%load_ext autoreload\n",
    "%autoreload 1"
   ]
  },
  {
   "cell_type": "code",
   "execution_count": 3,
   "id": "fdf1e371-a255-4ed0-86d0-fde6cabbc49f",
   "metadata": {
    "execution": {
     "iopub.execute_input": "2024-05-16T20:59:09.998962Z",
     "iopub.status.busy": "2024-05-16T20:59:09.998537Z",
     "iopub.status.idle": "2024-05-16T20:59:10.011697Z",
     "shell.execute_reply": "2024-05-16T20:59:10.010603Z"
    },
    "papermill": {
     "duration": 0.022461,
     "end_time": "2024-05-16T20:59:10.013205",
     "exception": false,
     "start_time": "2024-05-16T20:59:09.990744",
     "status": "completed"
    },
    "tags": []
   },
   "outputs": [],
   "source": [
    "from vivarium_research_prl import distributed_compute, utils"
   ]
  },
  {
   "cell_type": "code",
   "execution_count": 4,
   "id": "cc4546dc-f329-48b7-9988-5d25991939f0",
   "metadata": {
    "execution": {
     "iopub.execute_input": "2024-05-16T20:59:10.029743Z",
     "iopub.status.busy": "2024-05-16T20:59:10.028986Z",
     "iopub.status.idle": "2024-05-16T20:59:10.036379Z",
     "shell.execute_reply": "2024-05-16T20:59:10.035036Z"
    },
    "papermill": {
     "duration": 0.01668,
     "end_time": "2024-05-16T20:59:10.037918",
     "exception": false,
     "start_time": "2024-05-16T20:59:10.021238",
     "status": "completed"
    },
    "tags": []
   },
   "outputs": [],
   "source": [
    "warnings.simplefilter(action='ignore', category=FutureWarning)"
   ]
  },
  {
   "cell_type": "code",
   "execution_count": 5,
   "id": "7ac996f3-1270-4211-a829-728e3b2ba6f7",
   "metadata": {
    "editable": true,
    "execution": {
     "iopub.execute_input": "2024-05-16T20:59:10.052958Z",
     "iopub.status.busy": "2024-05-16T20:59:10.052246Z",
     "iopub.status.idle": "2024-05-16T20:59:10.061766Z",
     "shell.execute_reply": "2024-05-16T20:59:10.060814Z"
    },
    "papermill": {
     "duration": 0.018419,
     "end_time": "2024-05-16T20:59:10.063358",
     "exception": false,
     "start_time": "2024-05-16T20:59:10.044939",
     "status": "completed"
    },
    "slideshow": {
     "slide_type": ""
    },
    "tags": [
     "parameters"
    ]
   },
   "outputs": [],
   "source": [
    "# DO NOT EDIT if this notebook is not called generate_pseudopeople_simulated_datasets.ipynb!\n",
    "# This notebook is designed to be run with papermill; this cell is tagged 'parameters'\n",
    "# When you run this, save it to another filename.\n",
    "data_to_use = 'small_sample'\n",
    "output_dir = '../output/generate_simulated_data'\n",
    "compute_engine = 'pandas'\n",
    "# Only matter if distributing\n",
    "num_jobs = 5\n",
    "cpus_per_job = 2\n",
    "threads_per_job = 1\n",
    "memory_per_job = \"10GB\"\n",
    "very_noisy = True\n",
    "pseudopeople_seed = 0\n",
    "local_directory = f\"/tmp/{os.environ['USER']}_{int(time.time())}_dask\"\n",
    "\n",
    "ri_simulated_population = '/mnt/team/simulation_science/pub/models/vivarium_census_prl_synth_pop/results/release_02_yellow/full_data/united_states_of_america/2023_08_21_16_35_27/final_results/2023_08_31_15_58_01/states/pseudopeople_simulated_population_rhode_island_2_0_0/'\n",
    "usa_simulated_population = '/mnt/team/simulation_science/pub/models/vivarium_census_prl_synth_pop/results/release_02_yellow/full_data/united_states_of_america/2023_08_21_16_35_27/final_results/2023_08_31_15_58_01/pseudopeople_simulated_population_usa_2_0_0/'"
   ]
  },
  {
   "cell_type": "code",
   "execution_count": 6,
   "id": "bb6edab3",
   "metadata": {
    "execution": {
     "iopub.execute_input": "2024-05-16T20:59:10.079571Z",
     "iopub.status.busy": "2024-05-16T20:59:10.079023Z",
     "iopub.status.idle": "2024-05-16T20:59:10.085735Z",
     "shell.execute_reply": "2024-05-16T20:59:10.084508Z"
    },
    "papermill": {
     "duration": 0.015755,
     "end_time": "2024-05-16T20:59:10.087463",
     "exception": false,
     "start_time": "2024-05-16T20:59:10.071708",
     "status": "completed"
    },
    "tags": [
     "injected-parameters"
    ]
   },
   "outputs": [],
   "source": [
    "# Parameters\n",
    "data_to_use = \"small_sample\"\n",
    "output_dir = \"output/generate_simulated_data/\"\n",
    "very_noisy = True\n",
    "compute_engine = \"pandas\"\n"
   ]
  },
  {
   "cell_type": "code",
   "execution_count": 7,
   "id": "73c05dea-d01e-4ca6-bb3c-b3ddea03eb68",
   "metadata": {
    "execution": {
     "iopub.execute_input": "2024-05-16T20:59:10.103629Z",
     "iopub.status.busy": "2024-05-16T20:59:10.102296Z",
     "iopub.status.idle": "2024-05-16T20:59:10.110818Z",
     "shell.execute_reply": "2024-05-16T20:59:10.109673Z"
    },
    "papermill": {
     "duration": 0.017867,
     "end_time": "2024-05-16T20:59:10.112523",
     "exception": false,
     "start_time": "2024-05-16T20:59:10.094656",
     "status": "completed"
    },
    "tags": []
   },
   "outputs": [],
   "source": [
    "if compute_engine == 'dask':\n",
    "    utils.ensure_empty(local_directory)"
   ]
  },
  {
   "cell_type": "code",
   "execution_count": 8,
   "id": "d23e90be-2f7f-46db-ae17-a3dae23b7a4a",
   "metadata": {
    "execution": {
     "iopub.execute_input": "2024-05-16T20:59:10.127879Z",
     "iopub.status.busy": "2024-05-16T20:59:10.127311Z",
     "iopub.status.idle": "2024-05-16T20:59:10.139014Z",
     "shell.execute_reply": "2024-05-16T20:59:10.137647Z"
    },
    "papermill": {
     "duration": 0.021234,
     "end_time": "2024-05-16T20:59:10.140900",
     "exception": false,
     "start_time": "2024-05-16T20:59:10.119666",
     "status": "completed"
    },
    "tags": []
   },
   "outputs": [],
   "source": [
    "output_dir = str(Path(output_dir) / data_to_use / \"pseudopeople_simulated_datasets\")\n",
    "utils.ensure_empty(output_dir)"
   ]
  },
  {
   "cell_type": "code",
   "execution_count": 9,
   "id": "7c907a06-99bc-4d30-a46c-bd25e3318c01",
   "metadata": {
    "execution": {
     "iopub.execute_input": "2024-05-16T20:59:10.157426Z",
     "iopub.status.busy": "2024-05-16T20:59:10.156635Z",
     "iopub.status.idle": "2024-05-16T20:59:10.164799Z",
     "shell.execute_reply": "2024-05-16T20:59:10.163049Z"
    },
    "papermill": {
     "duration": 0.017739,
     "end_time": "2024-05-16T20:59:10.166815",
     "exception": false,
     "start_time": "2024-05-16T20:59:10.149076",
     "status": "completed"
    },
    "tags": []
   },
   "outputs": [],
   "source": [
    "df_ops, pd = distributed_compute.start_compute_engine(\n",
    "    compute_engine,\n",
    "    num_jobs=num_jobs,\n",
    "    cpus_per_job=cpus_per_job,\n",
    "    threads_per_job=threads_per_job,\n",
    "    memory_per_job=memory_per_job,\n",
    "    local_directory=local_directory,\n",
    ")"
   ]
  },
  {
   "cell_type": "code",
   "execution_count": 10,
   "id": "79ff29f5-473d-4dab-9e7f-453f284ad8d8",
   "metadata": {
    "execution": {
     "iopub.execute_input": "2024-05-16T20:59:10.182915Z",
     "iopub.status.busy": "2024-05-16T20:59:10.182160Z",
     "iopub.status.idle": "2024-05-16T20:59:10.384306Z",
     "shell.execute_reply": "2024-05-16T20:59:10.382537Z"
    },
    "papermill": {
     "duration": 0.214059,
     "end_time": "2024-05-16T20:59:10.387953",
     "exception": false,
     "start_time": "2024-05-16T20:59:10.173894",
     "status": "completed"
    },
    "tags": []
   },
   "outputs": [
    {
     "name": "stdout",
     "output_type": "stream",
     "text": [
      "Thu 16 May 2024 01:59:10 PM PDT\r\n"
     ]
    }
   ],
   "source": [
    "! date"
   ]
  },
  {
   "cell_type": "code",
   "execution_count": 11,
   "id": "41e6be4e-a9b4-47c3-ae1a-f6e7d2c9dc6c",
   "metadata": {
    "execution": {
     "iopub.execute_input": "2024-05-16T20:59:10.409212Z",
     "iopub.status.busy": "2024-05-16T20:59:10.408374Z",
     "iopub.status.idle": "2024-05-16T20:59:10.422911Z",
     "shell.execute_reply": "2024-05-16T20:59:10.422064Z"
    },
    "papermill": {
     "duration": 0.024796,
     "end_time": "2024-05-16T20:59:10.424377",
     "exception": false,
     "start_time": "2024-05-16T20:59:10.399581",
     "status": "completed"
    },
    "tags": []
   },
   "outputs": [
    {
     "data": {
      "text/plain": [
       "'1.0.1.dev20+g07b85e8'"
      ]
     },
     "execution_count": 11,
     "metadata": {},
     "output_type": "execute_result"
    }
   ],
   "source": [
    "psp.__version__"
   ]
  },
  {
   "cell_type": "markdown",
   "id": "8a08bfa0-f644-4faa-b303-ef24d9a32b86",
   "metadata": {
    "papermill": {
     "duration": 0.006087,
     "end_time": "2024-05-16T20:59:10.438128",
     "exception": false,
     "start_time": "2024-05-16T20:59:10.432041",
     "status": "completed"
    },
    "tags": []
   },
   "source": [
    "## Load simulated data"
   ]
  },
  {
   "cell_type": "code",
   "execution_count": 12,
   "id": "8abfcc66-502c-45f1-a269-d0c60fa5f0c9",
   "metadata": {
    "execution": {
     "iopub.execute_input": "2024-05-16T20:59:10.452795Z",
     "iopub.status.busy": "2024-05-16T20:59:10.452039Z",
     "iopub.status.idle": "2024-05-16T20:59:10.459986Z",
     "shell.execute_reply": "2024-05-16T20:59:10.458771Z"
    },
    "papermill": {
     "duration": 0.017444,
     "end_time": "2024-05-16T20:59:10.461613",
     "exception": false,
     "start_time": "2024-05-16T20:59:10.444169",
     "status": "completed"
    },
    "tags": []
   },
   "outputs": [],
   "source": [
    "if data_to_use == 'small_sample':\n",
    "    pseudopeople_input_dir = None\n",
    "elif data_to_use == 'ri':\n",
    "    pseudopeople_input_dir = ri_simulated_population\n",
    "elif data_to_use == 'usa':\n",
    "    pseudopeople_input_dir = usa_simulated_population\n",
    "else:\n",
    "    raise ValueError()"
   ]
  },
  {
   "cell_type": "code",
   "execution_count": 13,
   "id": "cc05826f-98d7-4dac-adf9-8d9f80809811",
   "metadata": {
    "execution": {
     "iopub.execute_input": "2024-05-16T20:59:10.478565Z",
     "iopub.status.busy": "2024-05-16T20:59:10.477920Z",
     "iopub.status.idle": "2024-05-16T20:59:10.485640Z",
     "shell.execute_reply": "2024-05-16T20:59:10.484678Z"
    },
    "papermill": {
     "duration": 0.016724,
     "end_time": "2024-05-16T20:59:10.487031",
     "exception": false,
     "start_time": "2024-05-16T20:59:10.470307",
     "status": "completed"
    },
    "tags": []
   },
   "outputs": [],
   "source": [
    "psp_kwargs = {\n",
    "    'source': pseudopeople_input_dir,\n",
    "    'seed': pseudopeople_seed,\n",
    "}\n",
    "if compute_engine.startswith('modin'):\n",
    "    psp_kwargs['engine'] = 'modin'\n",
    "if compute_engine.startswith('dask'):\n",
    "    psp_kwargs['engine'] = 'dask'"
   ]
  },
  {
   "cell_type": "markdown",
   "id": "02bd7b4d-645d-4dca-94ae-ee1780048aa0",
   "metadata": {
    "papermill": {
     "duration": 0.006009,
     "end_time": "2024-05-16T20:59:10.500177",
     "exception": false,
     "start_time": "2024-05-16T20:59:10.494168",
     "status": "completed"
    },
    "tags": []
   },
   "source": [
    "### Noise configuration\n",
    "\n",
    "In order to give ourselves more of a challenge, we significantly increase the amount of noise\n",
    "from the pseudopeople defaults."
   ]
  },
  {
   "cell_type": "code",
   "execution_count": 14,
   "id": "9dbb002e-8468-4885-a4b5-52fdb75ce7c0",
   "metadata": {
    "execution": {
     "iopub.execute_input": "2024-05-16T20:59:10.515598Z",
     "iopub.status.busy": "2024-05-16T20:59:10.514782Z",
     "iopub.status.idle": "2024-05-16T20:59:10.530305Z",
     "shell.execute_reply": "2024-05-16T20:59:10.529378Z"
    },
    "papermill": {
     "duration": 0.025367,
     "end_time": "2024-05-16T20:59:10.531783",
     "exception": false,
     "start_time": "2024-05-16T20:59:10.506416",
     "status": "completed"
    },
    "tags": []
   },
   "outputs": [],
   "source": [
    "default_configuration = psp.get_config()"
   ]
  },
  {
   "cell_type": "code",
   "execution_count": 15,
   "id": "a42207b2-5f2b-40c1-82d8-4d6ca36fe4c4",
   "metadata": {
    "execution": {
     "iopub.execute_input": "2024-05-16T20:59:10.548426Z",
     "iopub.status.busy": "2024-05-16T20:59:10.548036Z",
     "iopub.status.idle": "2024-05-16T20:59:10.555756Z",
     "shell.execute_reply": "2024-05-16T20:59:10.554858Z"
    },
    "papermill": {
     "duration": 0.01664,
     "end_time": "2024-05-16T20:59:10.557126",
     "exception": false,
     "start_time": "2024-05-16T20:59:10.540486",
     "status": "completed"
    },
    "tags": []
   },
   "outputs": [],
   "source": [
    "# Helper functions for changing the default configuration according to a pattern\n",
    "def column_noise_value(dataset, column, noise_type, default_value):\n",
    "    if very_noisy and dataset in ('decennial_census', 'taxes_w2_and_1099', 'social_security'):\n",
    "        if noise_type == \"make_typos\":\n",
    "            if column == \"middle_initial\":\n",
    "                # 5% of middle initials (which are all a single token anyway) are wrong.\n",
    "                return {\"cell_probability\": 0.05, \"token_probability\": 1}\n",
    "            elif column in (\"first_name\", \"last_name\", \"street_name\"):\n",
    "                # 10% of these text columns were entered carelessly, at a rate of 1 error\n",
    "                # per 10 characters.\n",
    "                # The pseudopeople default is 1% careless.\n",
    "                return {\"cell_probability\": 0.1, \"token_probability\": 0.1}\n",
    "        elif noise_type == \"write_wrong_digits\" and (dataset != \"social_security\" or column != \"ssn\"):\n",
    "            # 10% of number columns were written carelessly, at a rate of 1 error\n",
    "            # per 10 characters.\n",
    "            # The pseudopeople default is 1% careless.\n",
    "            # Note that this is applied on top of (the default lower levels of) typos,\n",
    "            # since typos also apply to numeric characters.\n",
    "            # We never introduce error on the SSN in the SSA dataset\n",
    "            return {\"cell_probability\": 0.1, \"token_probability\": 0.1}\n",
    "\n",
    "    return default_value\n",
    "\n",
    "\n",
    "def row_noise_value(dataset, noise_type, default_value):\n",
    "    return default_value"
   ]
  },
  {
   "cell_type": "code",
   "execution_count": 16,
   "id": "e7c9dd19-eac0-455f-9af3-7bc7bc3029e0",
   "metadata": {
    "execution": {
     "iopub.execute_input": "2024-05-16T20:59:10.573073Z",
     "iopub.status.busy": "2024-05-16T20:59:10.572690Z",
     "iopub.status.idle": "2024-05-16T20:59:10.579550Z",
     "shell.execute_reply": "2024-05-16T20:59:10.578610Z"
    },
    "papermill": {
     "duration": 0.01608,
     "end_time": "2024-05-16T20:59:10.580923",
     "exception": false,
     "start_time": "2024-05-16T20:59:10.564843",
     "status": "completed"
    },
    "tags": []
   },
   "outputs": [],
   "source": [
    "custom_configuration = {\n",
    "    dataset: {\n",
    "        noise_category: (\n",
    "            ({\n",
    "                column: {\n",
    "                    noise_type: column_noise_value(dataset, column, noise_type, noise_type_config)\n",
    "                    for noise_type, noise_type_config in column_config.items()\n",
    "                }\n",
    "                for column, column_config in noise_category_config.items()\n",
    "            }\n",
    "            if noise_category == \"column_noise\" else\n",
    "            {\n",
    "                noise_type: row_noise_value(dataset, noise_type, noise_type_config)\n",
    "                for noise_type, noise_type_config in noise_category_config.items()\n",
    "            })\n",
    "        )\n",
    "        for noise_category, noise_category_config in dataset_config.items()\n",
    "    }\n",
    "    for dataset, dataset_config in default_configuration.items()\n",
    "}"
   ]
  },
  {
   "cell_type": "code",
   "execution_count": 17,
   "id": "e8056884-bb09-475b-9499-56ba79b96c6a",
   "metadata": {
    "execution": {
     "iopub.execute_input": "2024-05-16T20:59:10.595959Z",
     "iopub.status.busy": "2024-05-16T20:59:10.595497Z",
     "iopub.status.idle": "2024-05-16T20:59:10.601150Z",
     "shell.execute_reply": "2024-05-16T20:59:10.600057Z"
    },
    "papermill": {
     "duration": 0.014662,
     "end_time": "2024-05-16T20:59:10.602741",
     "exception": false,
     "start_time": "2024-05-16T20:59:10.588079",
     "status": "completed"
    },
    "tags": []
   },
   "outputs": [],
   "source": [
    "psp_kwargs['config'] = custom_configuration"
   ]
  },
  {
   "cell_type": "markdown",
   "id": "5fe8e46b-f936-4704-b120-9bbcbce6c3e9",
   "metadata": {
    "papermill": {
     "duration": 0.006215,
     "end_time": "2024-05-16T20:59:10.615571",
     "exception": false,
     "start_time": "2024-05-16T20:59:10.609356",
     "status": "completed"
    },
    "tags": []
   },
   "source": [
    "### Simulated 1040 tax filings\n",
    "\n",
    "We assume that the last 5 years of taxes would be available and used in the construction of the reference files -- see section about reference files below.\n",
    "\n",
    "Note that these are retrieved by *tax* year, so the 2029 taxes would be available in early 2030\n",
    "(around when our hypothetical case study is taking place)."
   ]
  },
  {
   "cell_type": "code",
   "execution_count": 18,
   "id": "8157a22b-45f3-4fc1-803e-4670a554b23f",
   "metadata": {
    "execution": {
     "iopub.execute_input": "2024-05-16T20:59:10.629989Z",
     "iopub.status.busy": "2024-05-16T20:59:10.629280Z",
     "iopub.status.idle": "2024-05-16T20:59:10.638487Z",
     "shell.execute_reply": "2024-05-16T20:59:10.637462Z"
    },
    "papermill": {
     "duration": 0.018287,
     "end_time": "2024-05-16T20:59:10.639957",
     "exception": false,
     "start_time": "2024-05-16T20:59:10.621670",
     "status": "completed"
    },
    "tags": []
   },
   "outputs": [
    {
     "data": {
      "text/plain": [
       "[2025, 2026, 2027, 2028, 2029]"
      ]
     },
     "execution_count": 18,
     "metadata": {},
     "output_type": "execute_result"
    }
   ],
   "source": [
    "tax_years = list(range(2025, 2030))\n",
    "tax_years"
   ]
  },
  {
   "cell_type": "code",
   "execution_count": 19,
   "id": "5b600fee-3aeb-474a-b4e2-9099aec164be",
   "metadata": {
    "execution": {
     "iopub.execute_input": "2024-05-16T20:59:10.655184Z",
     "iopub.status.busy": "2024-05-16T20:59:10.654606Z",
     "iopub.status.idle": "2024-05-16T20:59:10.693983Z",
     "shell.execute_reply": "2024-05-16T20:59:10.693221Z"
    },
    "papermill": {
     "duration": 0.048951,
     "end_time": "2024-05-16T20:59:10.696095",
     "exception": false,
     "start_time": "2024-05-16T20:59:10.647144",
     "status": "completed"
    },
    "tags": []
   },
   "outputs": [
    {
     "data": {
      "text/plain": [
       "{'source': None,\n",
       " 'seed': 0,\n",
       " 'config': {'decennial_census': {'row_noise': {'do_not_respond': {'row_probability': 0.0145},\n",
       "    'omit_row': {'row_probability': 0.0},\n",
       "    'duplicate_with_guardian': {'row_probability_in_households_under_18': 0.02,\n",
       "     'row_probability_in_college_group_quarters_under_24': 0.05}},\n",
       "   'column_noise': {'first_name': {'leave_blank': {'cell_probability': 0.01},\n",
       "     'use_nickname': {'cell_probability': 0.01},\n",
       "     'use_fake_name': {'cell_probability': 0.01},\n",
       "     'make_phonetic_errors': {'cell_probability': 0.01,\n",
       "      'token_probability': 0.1},\n",
       "     'make_ocr_errors': {'cell_probability': 0.01, 'token_probability': 0.1},\n",
       "     'make_typos': {'cell_probability': 0.1, 'token_probability': 0.1}},\n",
       "    'middle_initial': {'leave_blank': {'cell_probability': 0.01},\n",
       "     'make_phonetic_errors': {'cell_probability': 0.01,\n",
       "      'token_probability': 0.1},\n",
       "     'make_ocr_errors': {'cell_probability': 0.01, 'token_probability': 0.1},\n",
       "     'make_typos': {'cell_probability': 0.05, 'token_probability': 1}},\n",
       "    'last_name': {'leave_blank': {'cell_probability': 0.01},\n",
       "     'use_fake_name': {'cell_probability': 0.01},\n",
       "     'make_phonetic_errors': {'cell_probability': 0.01,\n",
       "      'token_probability': 0.1},\n",
       "     'make_ocr_errors': {'cell_probability': 0.01, 'token_probability': 0.1},\n",
       "     'make_typos': {'cell_probability': 0.1, 'token_probability': 0.1}},\n",
       "    'age': {'leave_blank': {'cell_probability': 0.01},\n",
       "     'copy_from_household_member': {'cell_probability': 0.01},\n",
       "     'misreport_age': {'cell_probability': 0.01,\n",
       "      'possible_age_differences': {-2: 0.1, -1: 0.4, 1: 0.4, 2: 0.1}},\n",
       "     'make_ocr_errors': {'cell_probability': 0.01, 'token_probability': 0.1},\n",
       "     'make_typos': {'cell_probability': 0.01, 'token_probability': 0.1},\n",
       "     'write_wrong_digits': {'cell_probability': 0.1,\n",
       "      'token_probability': 0.1}},\n",
       "    'date_of_birth': {'leave_blank': {'cell_probability': 0.01},\n",
       "     'copy_from_household_member': {'cell_probability': 0.01},\n",
       "     'swap_month_and_day': {'cell_probability': 0.01},\n",
       "     'write_wrong_digits': {'cell_probability': 0.1, 'token_probability': 0.1},\n",
       "     'make_ocr_errors': {'cell_probability': 0.01, 'token_probability': 0.1},\n",
       "     'make_typos': {'cell_probability': 0.01, 'token_probability': 0.1}},\n",
       "    'street_number': {'leave_blank': {'cell_probability': 0.01},\n",
       "     'write_wrong_digits': {'cell_probability': 0.1, 'token_probability': 0.1},\n",
       "     'make_ocr_errors': {'cell_probability': 0.01, 'token_probability': 0.1},\n",
       "     'make_typos': {'cell_probability': 0.01, 'token_probability': 0.1}},\n",
       "    'street_name': {'leave_blank': {'cell_probability': 0.01},\n",
       "     'make_phonetic_errors': {'cell_probability': 0.01,\n",
       "      'token_probability': 0.1},\n",
       "     'make_ocr_errors': {'cell_probability': 0.01, 'token_probability': 0.1},\n",
       "     'make_typos': {'cell_probability': 0.1, 'token_probability': 0.1}},\n",
       "    'unit_number': {'leave_blank': {'cell_probability': 0.01},\n",
       "     'write_wrong_digits': {'cell_probability': 0.1, 'token_probability': 0.1},\n",
       "     'make_ocr_errors': {'cell_probability': 0.01, 'token_probability': 0.1},\n",
       "     'make_typos': {'cell_probability': 0.01, 'token_probability': 0.1}},\n",
       "    'city': {'leave_blank': {'cell_probability': 0.01},\n",
       "     'make_phonetic_errors': {'cell_probability': 0.01,\n",
       "      'token_probability': 0.1},\n",
       "     'make_ocr_errors': {'cell_probability': 0.01, 'token_probability': 0.1},\n",
       "     'make_typos': {'cell_probability': 0.01, 'token_probability': 0.1}},\n",
       "    'state': {'leave_blank': {'cell_probability': 0.01},\n",
       "     'choose_wrong_option': {'cell_probability': 0.01}},\n",
       "    'zipcode': {'leave_blank': {'cell_probability': 0.01},\n",
       "     'write_wrong_zipcode_digits': {'cell_probability': 0.01,\n",
       "      'digit_probabilities': [0.04, 0.04, 0.2, 0.36, 0.36]},\n",
       "     'make_ocr_errors': {'cell_probability': 0.01, 'token_probability': 0.1},\n",
       "     'make_typos': {'cell_probability': 0.01, 'token_probability': 0.1}},\n",
       "    'housing_type': {'leave_blank': {'cell_probability': 0.01},\n",
       "     'choose_wrong_option': {'cell_probability': 0.01}},\n",
       "    'relationship_to_reference_person': {'leave_blank': {'cell_probability': 0.01},\n",
       "     'choose_wrong_option': {'cell_probability': 0.01}},\n",
       "    'sex': {'leave_blank': {'cell_probability': 0.01},\n",
       "     'choose_wrong_option': {'cell_probability': 0.01}},\n",
       "    'race_ethnicity': {'leave_blank': {'cell_probability': 0.01},\n",
       "     'choose_wrong_option': {'cell_probability': 0.01}}}},\n",
       "  'american_community_survey': {'row_noise': {'do_not_respond': {'row_probability': 0.0145},\n",
       "    'omit_row': {'row_probability': 0.0}},\n",
       "   'column_noise': {'first_name': {'leave_blank': {'cell_probability': 0.01},\n",
       "     'use_nickname': {'cell_probability': 0.01},\n",
       "     'use_fake_name': {'cell_probability': 0.01},\n",
       "     'make_phonetic_errors': {'cell_probability': 0.01,\n",
       "      'token_probability': 0.1},\n",
       "     'make_ocr_errors': {'cell_probability': 0.01, 'token_probability': 0.1},\n",
       "     'make_typos': {'cell_probability': 0.01, 'token_probability': 0.1}},\n",
       "    'middle_initial': {'leave_blank': {'cell_probability': 0.01},\n",
       "     'make_phonetic_errors': {'cell_probability': 0.01,\n",
       "      'token_probability': 0.1},\n",
       "     'make_ocr_errors': {'cell_probability': 0.01, 'token_probability': 0.1},\n",
       "     'make_typos': {'cell_probability': 0.01, 'token_probability': 0.1}},\n",
       "    'last_name': {'leave_blank': {'cell_probability': 0.01},\n",
       "     'use_fake_name': {'cell_probability': 0.01},\n",
       "     'make_phonetic_errors': {'cell_probability': 0.01,\n",
       "      'token_probability': 0.1},\n",
       "     'make_ocr_errors': {'cell_probability': 0.01, 'token_probability': 0.1},\n",
       "     'make_typos': {'cell_probability': 0.01, 'token_probability': 0.1}},\n",
       "    'age': {'leave_blank': {'cell_probability': 0.01},\n",
       "     'copy_from_household_member': {'cell_probability': 0.01},\n",
       "     'misreport_age': {'cell_probability': 0.01,\n",
       "      'possible_age_differences': {-2: 0.1, -1: 0.4, 1: 0.4, 2: 0.1}},\n",
       "     'make_ocr_errors': {'cell_probability': 0.01, 'token_probability': 0.1},\n",
       "     'make_typos': {'cell_probability': 0.01, 'token_probability': 0.1},\n",
       "     'write_wrong_digits': {'cell_probability': 0.01,\n",
       "      'token_probability': 0.1}},\n",
       "    'date_of_birth': {'leave_blank': {'cell_probability': 0.01},\n",
       "     'copy_from_household_member': {'cell_probability': 0.01},\n",
       "     'swap_month_and_day': {'cell_probability': 0.01},\n",
       "     'write_wrong_digits': {'cell_probability': 0.01,\n",
       "      'token_probability': 0.1},\n",
       "     'make_ocr_errors': {'cell_probability': 0.01, 'token_probability': 0.1},\n",
       "     'make_typos': {'cell_probability': 0.01, 'token_probability': 0.1}},\n",
       "    'street_number': {'leave_blank': {'cell_probability': 0.01},\n",
       "     'write_wrong_digits': {'cell_probability': 0.01,\n",
       "      'token_probability': 0.1},\n",
       "     'make_ocr_errors': {'cell_probability': 0.01, 'token_probability': 0.1},\n",
       "     'make_typos': {'cell_probability': 0.01, 'token_probability': 0.1}},\n",
       "    'street_name': {'leave_blank': {'cell_probability': 0.01},\n",
       "     'make_phonetic_errors': {'cell_probability': 0.01,\n",
       "      'token_probability': 0.1},\n",
       "     'make_ocr_errors': {'cell_probability': 0.01, 'token_probability': 0.1},\n",
       "     'make_typos': {'cell_probability': 0.01, 'token_probability': 0.1}},\n",
       "    'unit_number': {'leave_blank': {'cell_probability': 0.01},\n",
       "     'write_wrong_digits': {'cell_probability': 0.01,\n",
       "      'token_probability': 0.1},\n",
       "     'make_ocr_errors': {'cell_probability': 0.01, 'token_probability': 0.1},\n",
       "     'make_typos': {'cell_probability': 0.01, 'token_probability': 0.1}},\n",
       "    'city': {'leave_blank': {'cell_probability': 0.01},\n",
       "     'make_phonetic_errors': {'cell_probability': 0.01,\n",
       "      'token_probability': 0.1},\n",
       "     'make_ocr_errors': {'cell_probability': 0.01, 'token_probability': 0.1},\n",
       "     'make_typos': {'cell_probability': 0.01, 'token_probability': 0.1}},\n",
       "    'state': {'leave_blank': {'cell_probability': 0.01},\n",
       "     'choose_wrong_option': {'cell_probability': 0.01}},\n",
       "    'zipcode': {'leave_blank': {'cell_probability': 0.01},\n",
       "     'write_wrong_zipcode_digits': {'cell_probability': 0.01,\n",
       "      'digit_probabilities': [0.04, 0.04, 0.2, 0.36, 0.36]},\n",
       "     'make_ocr_errors': {'cell_probability': 0.01, 'token_probability': 0.1},\n",
       "     'make_typos': {'cell_probability': 0.01, 'token_probability': 0.1}},\n",
       "    'housing_type': {'leave_blank': {'cell_probability': 0.01},\n",
       "     'choose_wrong_option': {'cell_probability': 0.01}},\n",
       "    'relationship_to_reference_person': {'leave_blank': {'cell_probability': 0.01},\n",
       "     'choose_wrong_option': {'cell_probability': 0.01}},\n",
       "    'sex': {'leave_blank': {'cell_probability': 0.01},\n",
       "     'choose_wrong_option': {'cell_probability': 0.01}},\n",
       "    'race_ethnicity': {'leave_blank': {'cell_probability': 0.01},\n",
       "     'choose_wrong_option': {'cell_probability': 0.01}}}},\n",
       "  'current_population_survey': {'row_noise': {'do_not_respond': {'row_probability': 0.2905},\n",
       "    'omit_row': {'row_probability': 0.0}},\n",
       "   'column_noise': {'first_name': {'leave_blank': {'cell_probability': 0.01},\n",
       "     'use_nickname': {'cell_probability': 0.01},\n",
       "     'use_fake_name': {'cell_probability': 0.01},\n",
       "     'make_phonetic_errors': {'cell_probability': 0.01,\n",
       "      'token_probability': 0.1},\n",
       "     'make_ocr_errors': {'cell_probability': 0.01, 'token_probability': 0.1},\n",
       "     'make_typos': {'cell_probability': 0.01, 'token_probability': 0.1}},\n",
       "    'middle_initial': {'leave_blank': {'cell_probability': 0.01},\n",
       "     'make_phonetic_errors': {'cell_probability': 0.01,\n",
       "      'token_probability': 0.1},\n",
       "     'make_ocr_errors': {'cell_probability': 0.01, 'token_probability': 0.1},\n",
       "     'make_typos': {'cell_probability': 0.01, 'token_probability': 0.1}},\n",
       "    'last_name': {'leave_blank': {'cell_probability': 0.01},\n",
       "     'use_fake_name': {'cell_probability': 0.01},\n",
       "     'make_phonetic_errors': {'cell_probability': 0.01,\n",
       "      'token_probability': 0.1},\n",
       "     'make_ocr_errors': {'cell_probability': 0.01, 'token_probability': 0.1},\n",
       "     'make_typos': {'cell_probability': 0.01, 'token_probability': 0.1}},\n",
       "    'age': {'leave_blank': {'cell_probability': 0.01},\n",
       "     'copy_from_household_member': {'cell_probability': 0.01},\n",
       "     'misreport_age': {'cell_probability': 0.01,\n",
       "      'possible_age_differences': {-2: 0.1, -1: 0.4, 1: 0.4, 2: 0.1}},\n",
       "     'make_ocr_errors': {'cell_probability': 0.01, 'token_probability': 0.1},\n",
       "     'make_typos': {'cell_probability': 0.01, 'token_probability': 0.1},\n",
       "     'write_wrong_digits': {'cell_probability': 0.01,\n",
       "      'token_probability': 0.1}},\n",
       "    'date_of_birth': {'leave_blank': {'cell_probability': 0.01},\n",
       "     'copy_from_household_member': {'cell_probability': 0.01},\n",
       "     'swap_month_and_day': {'cell_probability': 0.01},\n",
       "     'write_wrong_digits': {'cell_probability': 0.01,\n",
       "      'token_probability': 0.1},\n",
       "     'make_ocr_errors': {'cell_probability': 0.01, 'token_probability': 0.1},\n",
       "     'make_typos': {'cell_probability': 0.01, 'token_probability': 0.1}},\n",
       "    'street_number': {'leave_blank': {'cell_probability': 0.01},\n",
       "     'write_wrong_digits': {'cell_probability': 0.01,\n",
       "      'token_probability': 0.1},\n",
       "     'make_ocr_errors': {'cell_probability': 0.01, 'token_probability': 0.1},\n",
       "     'make_typos': {'cell_probability': 0.01, 'token_probability': 0.1}},\n",
       "    'street_name': {'leave_blank': {'cell_probability': 0.01},\n",
       "     'make_phonetic_errors': {'cell_probability': 0.01,\n",
       "      'token_probability': 0.1},\n",
       "     'make_ocr_errors': {'cell_probability': 0.01, 'token_probability': 0.1},\n",
       "     'make_typos': {'cell_probability': 0.01, 'token_probability': 0.1}},\n",
       "    'unit_number': {'leave_blank': {'cell_probability': 0.01},\n",
       "     'write_wrong_digits': {'cell_probability': 0.01,\n",
       "      'token_probability': 0.1},\n",
       "     'make_ocr_errors': {'cell_probability': 0.01, 'token_probability': 0.1},\n",
       "     'make_typos': {'cell_probability': 0.01, 'token_probability': 0.1}},\n",
       "    'city': {'leave_blank': {'cell_probability': 0.01},\n",
       "     'make_phonetic_errors': {'cell_probability': 0.01,\n",
       "      'token_probability': 0.1},\n",
       "     'make_ocr_errors': {'cell_probability': 0.01, 'token_probability': 0.1},\n",
       "     'make_typos': {'cell_probability': 0.01, 'token_probability': 0.1}},\n",
       "    'state': {'leave_blank': {'cell_probability': 0.01},\n",
       "     'choose_wrong_option': {'cell_probability': 0.01}},\n",
       "    'zipcode': {'leave_blank': {'cell_probability': 0.01},\n",
       "     'write_wrong_zipcode_digits': {'cell_probability': 0.01,\n",
       "      'digit_probabilities': [0.04, 0.04, 0.2, 0.36, 0.36]},\n",
       "     'make_ocr_errors': {'cell_probability': 0.01, 'token_probability': 0.1},\n",
       "     'make_typos': {'cell_probability': 0.01, 'token_probability': 0.1}},\n",
       "    'sex': {'leave_blank': {'cell_probability': 0.01},\n",
       "     'choose_wrong_option': {'cell_probability': 0.01}},\n",
       "    'race_ethnicity': {'leave_blank': {'cell_probability': 0.01},\n",
       "     'choose_wrong_option': {'cell_probability': 0.01}}}},\n",
       "  'women_infants_and_children': {'row_noise': {'omit_row': {'row_probability': 0.005}},\n",
       "   'column_noise': {'first_name': {'leave_blank': {'cell_probability': 0.01},\n",
       "     'use_nickname': {'cell_probability': 0.01},\n",
       "     'use_fake_name': {'cell_probability': 0.01},\n",
       "     'make_phonetic_errors': {'cell_probability': 0.01,\n",
       "      'token_probability': 0.1},\n",
       "     'make_ocr_errors': {'cell_probability': 0.01, 'token_probability': 0.1},\n",
       "     'make_typos': {'cell_probability': 0.01, 'token_probability': 0.1}},\n",
       "    'middle_initial': {'leave_blank': {'cell_probability': 0.01},\n",
       "     'make_phonetic_errors': {'cell_probability': 0.01,\n",
       "      'token_probability': 0.1},\n",
       "     'make_ocr_errors': {'cell_probability': 0.01, 'token_probability': 0.1},\n",
       "     'make_typos': {'cell_probability': 0.01, 'token_probability': 0.1}},\n",
       "    'last_name': {'leave_blank': {'cell_probability': 0.01},\n",
       "     'use_fake_name': {'cell_probability': 0.01},\n",
       "     'make_phonetic_errors': {'cell_probability': 0.01,\n",
       "      'token_probability': 0.1},\n",
       "     'make_ocr_errors': {'cell_probability': 0.01, 'token_probability': 0.1},\n",
       "     'make_typos': {'cell_probability': 0.01, 'token_probability': 0.1}},\n",
       "    'date_of_birth': {'leave_blank': {'cell_probability': 0.01},\n",
       "     'copy_from_household_member': {'cell_probability': 0.01},\n",
       "     'swap_month_and_day': {'cell_probability': 0.01},\n",
       "     'write_wrong_digits': {'cell_probability': 0.01,\n",
       "      'token_probability': 0.1},\n",
       "     'make_ocr_errors': {'cell_probability': 0.01, 'token_probability': 0.1},\n",
       "     'make_typos': {'cell_probability': 0.01, 'token_probability': 0.1}},\n",
       "    'street_number': {'leave_blank': {'cell_probability': 0.01},\n",
       "     'write_wrong_digits': {'cell_probability': 0.01,\n",
       "      'token_probability': 0.1},\n",
       "     'make_ocr_errors': {'cell_probability': 0.01, 'token_probability': 0.1},\n",
       "     'make_typos': {'cell_probability': 0.01, 'token_probability': 0.1}},\n",
       "    'street_name': {'leave_blank': {'cell_probability': 0.01},\n",
       "     'make_phonetic_errors': {'cell_probability': 0.01,\n",
       "      'token_probability': 0.1},\n",
       "     'make_ocr_errors': {'cell_probability': 0.01, 'token_probability': 0.1},\n",
       "     'make_typos': {'cell_probability': 0.01, 'token_probability': 0.1}},\n",
       "    'unit_number': {'leave_blank': {'cell_probability': 0.01},\n",
       "     'write_wrong_digits': {'cell_probability': 0.01,\n",
       "      'token_probability': 0.1},\n",
       "     'make_ocr_errors': {'cell_probability': 0.01, 'token_probability': 0.1},\n",
       "     'make_typos': {'cell_probability': 0.01, 'token_probability': 0.1}},\n",
       "    'city': {'leave_blank': {'cell_probability': 0.01},\n",
       "     'make_phonetic_errors': {'cell_probability': 0.01,\n",
       "      'token_probability': 0.1},\n",
       "     'make_ocr_errors': {'cell_probability': 0.01, 'token_probability': 0.1},\n",
       "     'make_typos': {'cell_probability': 0.01, 'token_probability': 0.1}},\n",
       "    'state': {'leave_blank': {'cell_probability': 0.01},\n",
       "     'choose_wrong_option': {'cell_probability': 0.01}},\n",
       "    'zipcode': {'leave_blank': {'cell_probability': 0.01},\n",
       "     'write_wrong_zipcode_digits': {'cell_probability': 0.01,\n",
       "      'digit_probabilities': [0.04, 0.04, 0.2, 0.36, 0.36]},\n",
       "     'make_ocr_errors': {'cell_probability': 0.01, 'token_probability': 0.1},\n",
       "     'make_typos': {'cell_probability': 0.01, 'token_probability': 0.1}},\n",
       "    'sex': {'leave_blank': {'cell_probability': 0.01},\n",
       "     'choose_wrong_option': {'cell_probability': 0.01}},\n",
       "    'race_ethnicity': {'leave_blank': {'cell_probability': 0.01},\n",
       "     'choose_wrong_option': {'cell_probability': 0.01}}}},\n",
       "  'social_security': {'row_noise': {'omit_row': {'row_probability': 0.0}},\n",
       "   'column_noise': {'ssn': {'leave_blank': {'cell_probability': 0.0},\n",
       "     'copy_from_household_member': {'cell_probability': 0.0},\n",
       "     'write_wrong_digits': {'cell_probability': 0.0, 'token_probability': 0.1},\n",
       "     'make_ocr_errors': {'cell_probability': 0.0, 'token_probability': 0.1},\n",
       "     'make_typos': {'cell_probability': 0.0, 'token_probability': 0.1}},\n",
       "    'first_name': {'leave_blank': {'cell_probability': 0.01},\n",
       "     'use_nickname': {'cell_probability': 0.01},\n",
       "     'use_fake_name': {'cell_probability': 0.01},\n",
       "     'make_phonetic_errors': {'cell_probability': 0.01,\n",
       "      'token_probability': 0.1},\n",
       "     'make_ocr_errors': {'cell_probability': 0.01, 'token_probability': 0.1},\n",
       "     'make_typos': {'cell_probability': 0.1, 'token_probability': 0.1}},\n",
       "    'middle_name': {'leave_blank': {'cell_probability': 0.01},\n",
       "     'use_nickname': {'cell_probability': 0.01},\n",
       "     'use_fake_name': {'cell_probability': 0.01},\n",
       "     'make_phonetic_errors': {'cell_probability': 0.01,\n",
       "      'token_probability': 0.1},\n",
       "     'make_ocr_errors': {'cell_probability': 0.01, 'token_probability': 0.1},\n",
       "     'make_typos': {'cell_probability': 0.01, 'token_probability': 0.1}},\n",
       "    'last_name': {'leave_blank': {'cell_probability': 0.01},\n",
       "     'use_fake_name': {'cell_probability': 0.01},\n",
       "     'make_phonetic_errors': {'cell_probability': 0.01,\n",
       "      'token_probability': 0.1},\n",
       "     'make_ocr_errors': {'cell_probability': 0.01, 'token_probability': 0.1},\n",
       "     'make_typos': {'cell_probability': 0.1, 'token_probability': 0.1}},\n",
       "    'date_of_birth': {'leave_blank': {'cell_probability': 0.01},\n",
       "     'copy_from_household_member': {'cell_probability': 0.01},\n",
       "     'swap_month_and_day': {'cell_probability': 0.01},\n",
       "     'write_wrong_digits': {'cell_probability': 0.1, 'token_probability': 0.1},\n",
       "     'make_ocr_errors': {'cell_probability': 0.01, 'token_probability': 0.1},\n",
       "     'make_typos': {'cell_probability': 0.01, 'token_probability': 0.1}},\n",
       "    'sex': {'leave_blank': {'cell_probability': 0.01},\n",
       "     'choose_wrong_option': {'cell_probability': 0.01}},\n",
       "    'event_type': {'leave_blank': {'cell_probability': 0.01},\n",
       "     'choose_wrong_option': {'cell_probability': 0.01}},\n",
       "    'event_date': {'leave_blank': {'cell_probability': 0.01},\n",
       "     'swap_month_and_day': {'cell_probability': 0.01},\n",
       "     'write_wrong_digits': {'cell_probability': 0.1, 'token_probability': 0.1},\n",
       "     'make_ocr_errors': {'cell_probability': 0.01, 'token_probability': 0.1},\n",
       "     'make_typos': {'cell_probability': 0.01, 'token_probability': 0.1}}}},\n",
       "  'taxes_w2_and_1099': {'row_noise': {'omit_row': {'row_probability': 0.005}},\n",
       "   'column_noise': {'ssn': {'leave_blank': {'cell_probability': 0.01},\n",
       "     'copy_from_household_member': {'cell_probability': 0.0},\n",
       "     'write_wrong_digits': {'cell_probability': 0.1, 'token_probability': 0.1},\n",
       "     'make_ocr_errors': {'cell_probability': 0.01, 'token_probability': 0.1},\n",
       "     'make_typos': {'cell_probability': 0.01, 'token_probability': 0.1}},\n",
       "    'wages': {'leave_blank': {'cell_probability': 0.01},\n",
       "     'write_wrong_digits': {'cell_probability': 0.1, 'token_probability': 0.1},\n",
       "     'make_ocr_errors': {'cell_probability': 0.01, 'token_probability': 0.1},\n",
       "     'make_typos': {'cell_probability': 0.01, 'token_probability': 0.1}},\n",
       "    'employer_name': {'leave_blank': {'cell_probability': 0.01},\n",
       "     'make_ocr_errors': {'cell_probability': 0.01, 'token_probability': 0.1},\n",
       "     'make_typos': {'cell_probability': 0.01, 'token_probability': 0.1}},\n",
       "    'employer_street_number': {'leave_blank': {'cell_probability': 0.01},\n",
       "     'write_wrong_digits': {'cell_probability': 0.1, 'token_probability': 0.1},\n",
       "     'make_ocr_errors': {'cell_probability': 0.01, 'token_probability': 0.1},\n",
       "     'make_typos': {'cell_probability': 0.01, 'token_probability': 0.1}},\n",
       "    'employer_street_name': {'leave_blank': {'cell_probability': 0.01},\n",
       "     'make_phonetic_errors': {'cell_probability': 0.01,\n",
       "      'token_probability': 0.1},\n",
       "     'make_ocr_errors': {'cell_probability': 0.01, 'token_probability': 0.1},\n",
       "     'make_typos': {'cell_probability': 0.01, 'token_probability': 0.1}},\n",
       "    'employer_unit_number': {'leave_blank': {'cell_probability': 0.01},\n",
       "     'write_wrong_digits': {'cell_probability': 0.1, 'token_probability': 0.1},\n",
       "     'make_ocr_errors': {'cell_probability': 0.01, 'token_probability': 0.1},\n",
       "     'make_typos': {'cell_probability': 0.01, 'token_probability': 0.1}},\n",
       "    'employer_city': {'leave_blank': {'cell_probability': 0.01},\n",
       "     'make_phonetic_errors': {'cell_probability': 0.01,\n",
       "      'token_probability': 0.1},\n",
       "     'make_ocr_errors': {'cell_probability': 0.01, 'token_probability': 0.1},\n",
       "     'make_typos': {'cell_probability': 0.01, 'token_probability': 0.1}},\n",
       "    'employer_state': {'leave_blank': {'cell_probability': 0.01},\n",
       "     'choose_wrong_option': {'cell_probability': 0.01}},\n",
       "    'employer_zipcode': {'leave_blank': {'cell_probability': 0.01},\n",
       "     'write_wrong_zipcode_digits': {'cell_probability': 0.01,\n",
       "      'digit_probabilities': [0.04, 0.04, 0.2, 0.36, 0.36]},\n",
       "     'make_ocr_errors': {'cell_probability': 0.01, 'token_probability': 0.1},\n",
       "     'make_typos': {'cell_probability': 0.01, 'token_probability': 0.1}},\n",
       "    'first_name': {'leave_blank': {'cell_probability': 0.01},\n",
       "     'use_nickname': {'cell_probability': 0.01},\n",
       "     'use_fake_name': {'cell_probability': 0.01},\n",
       "     'make_phonetic_errors': {'cell_probability': 0.01,\n",
       "      'token_probability': 0.1},\n",
       "     'make_ocr_errors': {'cell_probability': 0.01, 'token_probability': 0.1},\n",
       "     'make_typos': {'cell_probability': 0.1, 'token_probability': 0.1}},\n",
       "    'middle_initial': {'leave_blank': {'cell_probability': 0.01},\n",
       "     'make_phonetic_errors': {'cell_probability': 0.01,\n",
       "      'token_probability': 0.1},\n",
       "     'make_ocr_errors': {'cell_probability': 0.01, 'token_probability': 0.1},\n",
       "     'make_typos': {'cell_probability': 0.05, 'token_probability': 1}},\n",
       "    'last_name': {'leave_blank': {'cell_probability': 0.01},\n",
       "     'use_fake_name': {'cell_probability': 0.01},\n",
       "     'make_phonetic_errors': {'cell_probability': 0.01,\n",
       "      'token_probability': 0.1},\n",
       "     'make_ocr_errors': {'cell_probability': 0.01, 'token_probability': 0.1},\n",
       "     'make_typos': {'cell_probability': 0.1, 'token_probability': 0.1}},\n",
       "    'mailing_address_street_number': {'leave_blank': {'cell_probability': 0.01},\n",
       "     'write_wrong_digits': {'cell_probability': 0.1, 'token_probability': 0.1},\n",
       "     'make_ocr_errors': {'cell_probability': 0.01, 'token_probability': 0.1},\n",
       "     'make_typos': {'cell_probability': 0.01, 'token_probability': 0.1}},\n",
       "    'mailing_address_street_name': {'leave_blank': {'cell_probability': 0.01},\n",
       "     'make_phonetic_errors': {'cell_probability': 0.01,\n",
       "      'token_probability': 0.1},\n",
       "     'make_ocr_errors': {'cell_probability': 0.01, 'token_probability': 0.1},\n",
       "     'make_typos': {'cell_probability': 0.01, 'token_probability': 0.1}},\n",
       "    'mailing_address_unit_number': {'leave_blank': {'cell_probability': 0.01},\n",
       "     'write_wrong_digits': {'cell_probability': 0.1, 'token_probability': 0.1},\n",
       "     'make_ocr_errors': {'cell_probability': 0.01, 'token_probability': 0.1},\n",
       "     'make_typos': {'cell_probability': 0.01, 'token_probability': 0.1}},\n",
       "    'mailing_address_po_box': {'leave_blank': {'cell_probability': 0.01},\n",
       "     'write_wrong_digits': {'cell_probability': 0.1, 'token_probability': 0.1},\n",
       "     'make_ocr_errors': {'cell_probability': 0.01, 'token_probability': 0.1},\n",
       "     'make_typos': {'cell_probability': 0.01, 'token_probability': 0.1}},\n",
       "    'mailing_address_city': {'leave_blank': {'cell_probability': 0.01},\n",
       "     'make_phonetic_errors': {'cell_probability': 0.01,\n",
       "      'token_probability': 0.1},\n",
       "     'make_ocr_errors': {'cell_probability': 0.01, 'token_probability': 0.1},\n",
       "     'make_typos': {'cell_probability': 0.01, 'token_probability': 0.1}},\n",
       "    'mailing_address_state': {'leave_blank': {'cell_probability': 0.01},\n",
       "     'choose_wrong_option': {'cell_probability': 0.01}},\n",
       "    'mailing_address_zipcode': {'leave_blank': {'cell_probability': 0.01},\n",
       "     'write_wrong_zipcode_digits': {'cell_probability': 0.01,\n",
       "      'digit_probabilities': [0.04, 0.04, 0.2, 0.36, 0.36]},\n",
       "     'make_ocr_errors': {'cell_probability': 0.01, 'token_probability': 0.1},\n",
       "     'make_typos': {'cell_probability': 0.01, 'token_probability': 0.1}},\n",
       "    'tax_form': {'leave_blank': {'cell_probability': 0.01},\n",
       "     'choose_wrong_option': {'cell_probability': 0.01}}}},\n",
       "  'taxes_1040': {'row_noise': {'omit_row': {'row_probability': 0.0}},\n",
       "   'column_noise': {'first_name': {'leave_blank': {'cell_probability': 0.01},\n",
       "     'use_nickname': {'cell_probability': 0.01},\n",
       "     'use_fake_name': {'cell_probability': 0.01},\n",
       "     'make_phonetic_errors': {'cell_probability': 0.01,\n",
       "      'token_probability': 0.1},\n",
       "     'make_ocr_errors': {'cell_probability': 0.01, 'token_probability': 0.1},\n",
       "     'make_typos': {'cell_probability': 0.01, 'token_probability': 0.1}},\n",
       "    'middle_initial': {'leave_blank': {'cell_probability': 0.01},\n",
       "     'make_phonetic_errors': {'cell_probability': 0.01,\n",
       "      'token_probability': 0.1},\n",
       "     'make_ocr_errors': {'cell_probability': 0.01, 'token_probability': 0.1},\n",
       "     'make_typos': {'cell_probability': 0.01, 'token_probability': 0.1}},\n",
       "    'last_name': {'leave_blank': {'cell_probability': 0.01},\n",
       "     'use_fake_name': {'cell_probability': 0.01},\n",
       "     'make_phonetic_errors': {'cell_probability': 0.01,\n",
       "      'token_probability': 0.1},\n",
       "     'make_ocr_errors': {'cell_probability': 0.01, 'token_probability': 0.1},\n",
       "     'make_typos': {'cell_probability': 0.01, 'token_probability': 0.1}},\n",
       "    'ssn': {'leave_blank': {'cell_probability': 0.01},\n",
       "     'copy_from_household_member': {'cell_probability': 0.01},\n",
       "     'write_wrong_digits': {'cell_probability': 0.01,\n",
       "      'token_probability': 0.1},\n",
       "     'make_ocr_errors': {'cell_probability': 0.01, 'token_probability': 0.1},\n",
       "     'make_typos': {'cell_probability': 0.01, 'token_probability': 0.1}},\n",
       "    'mailing_address_street_number': {'leave_blank': {'cell_probability': 0.01},\n",
       "     'write_wrong_digits': {'cell_probability': 0.01,\n",
       "      'token_probability': 0.1},\n",
       "     'make_ocr_errors': {'cell_probability': 0.01, 'token_probability': 0.1},\n",
       "     'make_typos': {'cell_probability': 0.01, 'token_probability': 0.1}},\n",
       "    'mailing_address_street_name': {'leave_blank': {'cell_probability': 0.01},\n",
       "     'make_phonetic_errors': {'cell_probability': 0.01,\n",
       "      'token_probability': 0.1},\n",
       "     'make_ocr_errors': {'cell_probability': 0.01, 'token_probability': 0.1},\n",
       "     'make_typos': {'cell_probability': 0.01, 'token_probability': 0.1}},\n",
       "    'mailing_address_unit_number': {'leave_blank': {'cell_probability': 0.01},\n",
       "     'write_wrong_digits': {'cell_probability': 0.01,\n",
       "      'token_probability': 0.1},\n",
       "     'make_ocr_errors': {'cell_probability': 0.01, 'token_probability': 0.1},\n",
       "     'make_typos': {'cell_probability': 0.01, 'token_probability': 0.1}},\n",
       "    'mailing_address_po_box': {'leave_blank': {'cell_probability': 0.01},\n",
       "     'write_wrong_digits': {'cell_probability': 0.01,\n",
       "      'token_probability': 0.1},\n",
       "     'make_ocr_errors': {'cell_probability': 0.01, 'token_probability': 0.1},\n",
       "     'make_typos': {'cell_probability': 0.01, 'token_probability': 0.1}},\n",
       "    'mailing_address_city': {'leave_blank': {'cell_probability': 0.01},\n",
       "     'make_phonetic_errors': {'cell_probability': 0.01,\n",
       "      'token_probability': 0.1},\n",
       "     'make_ocr_errors': {'cell_probability': 0.01, 'token_probability': 0.1},\n",
       "     'make_typos': {'cell_probability': 0.01, 'token_probability': 0.1}},\n",
       "    'mailing_address_state': {'leave_blank': {'cell_probability': 0.01},\n",
       "     'choose_wrong_option': {'cell_probability': 0.01}},\n",
       "    'mailing_address_zipcode': {'leave_blank': {'cell_probability': 0.01},\n",
       "     'write_wrong_zipcode_digits': {'cell_probability': 0.01,\n",
       "      'digit_probabilities': [0.04, 0.04, 0.2, 0.36, 0.36]},\n",
       "     'make_ocr_errors': {'cell_probability': 0.01, 'token_probability': 0.1},\n",
       "     'make_typos': {'cell_probability': 0.01, 'token_probability': 0.1}},\n",
       "    'spouse_first_name': {'leave_blank': {'cell_probability': 0.01},\n",
       "     'use_nickname': {'cell_probability': 0.01},\n",
       "     'use_fake_name': {'cell_probability': 0.01},\n",
       "     'make_phonetic_errors': {'cell_probability': 0.01,\n",
       "      'token_probability': 0.1},\n",
       "     'make_ocr_errors': {'cell_probability': 0.01, 'token_probability': 0.1},\n",
       "     'make_typos': {'cell_probability': 0.01, 'token_probability': 0.1}},\n",
       "    'spouse_middle_initial': {'leave_blank': {'cell_probability': 0.01},\n",
       "     'make_phonetic_errors': {'cell_probability': 0.01,\n",
       "      'token_probability': 0.1},\n",
       "     'make_ocr_errors': {'cell_probability': 0.01, 'token_probability': 0.1},\n",
       "     'make_typos': {'cell_probability': 0.01, 'token_probability': 0.1}},\n",
       "    'spouse_last_name': {'leave_blank': {'cell_probability': 0.01},\n",
       "     'use_fake_name': {'cell_probability': 0.01},\n",
       "     'make_phonetic_errors': {'cell_probability': 0.01,\n",
       "      'token_probability': 0.1},\n",
       "     'make_ocr_errors': {'cell_probability': 0.01, 'token_probability': 0.1},\n",
       "     'make_typos': {'cell_probability': 0.01, 'token_probability': 0.1}},\n",
       "    'spouse_ssn': {'leave_blank': {'cell_probability': 0.01},\n",
       "     'copy_from_household_member': {'cell_probability': 0.01},\n",
       "     'write_wrong_digits': {'cell_probability': 0.01,\n",
       "      'token_probability': 0.1},\n",
       "     'make_ocr_errors': {'cell_probability': 0.01, 'token_probability': 0.1},\n",
       "     'make_typos': {'cell_probability': 0.01, 'token_probability': 0.1}},\n",
       "    'dependent_1_first_name': {'leave_blank': {'cell_probability': 0.01},\n",
       "     'use_nickname': {'cell_probability': 0.01},\n",
       "     'use_fake_name': {'cell_probability': 0.01},\n",
       "     'make_phonetic_errors': {'cell_probability': 0.01,\n",
       "      'token_probability': 0.1},\n",
       "     'make_ocr_errors': {'cell_probability': 0.01, 'token_probability': 0.1},\n",
       "     'make_typos': {'cell_probability': 0.01, 'token_probability': 0.1}},\n",
       "    'dependent_1_last_name': {'leave_blank': {'cell_probability': 0.01},\n",
       "     'use_fake_name': {'cell_probability': 0.01},\n",
       "     'make_phonetic_errors': {'cell_probability': 0.01,\n",
       "      'token_probability': 0.1},\n",
       "     'make_ocr_errors': {'cell_probability': 0.01, 'token_probability': 0.1},\n",
       "     'make_typos': {'cell_probability': 0.01, 'token_probability': 0.1}},\n",
       "    'dependent_1_ssn': {'leave_blank': {'cell_probability': 0.01},\n",
       "     'copy_from_household_member': {'cell_probability': 0.01},\n",
       "     'write_wrong_digits': {'cell_probability': 0.01,\n",
       "      'token_probability': 0.1},\n",
       "     'make_ocr_errors': {'cell_probability': 0.01, 'token_probability': 0.1},\n",
       "     'make_typos': {'cell_probability': 0.01, 'token_probability': 0.1}},\n",
       "    'dependent_2_first_name': {'leave_blank': {'cell_probability': 0.01},\n",
       "     'use_nickname': {'cell_probability': 0.01},\n",
       "     'use_fake_name': {'cell_probability': 0.01},\n",
       "     'make_phonetic_errors': {'cell_probability': 0.01,\n",
       "      'token_probability': 0.1},\n",
       "     'make_ocr_errors': {'cell_probability': 0.01, 'token_probability': 0.1},\n",
       "     'make_typos': {'cell_probability': 0.01, 'token_probability': 0.1}},\n",
       "    'dependent_2_last_name': {'leave_blank': {'cell_probability': 0.01},\n",
       "     'use_fake_name': {'cell_probability': 0.01},\n",
       "     'make_phonetic_errors': {'cell_probability': 0.01,\n",
       "      'token_probability': 0.1},\n",
       "     'make_ocr_errors': {'cell_probability': 0.01, 'token_probability': 0.1},\n",
       "     'make_typos': {'cell_probability': 0.01, 'token_probability': 0.1}},\n",
       "    'dependent_2_ssn': {'leave_blank': {'cell_probability': 0.01},\n",
       "     'copy_from_household_member': {'cell_probability': 0.01},\n",
       "     'write_wrong_digits': {'cell_probability': 0.01,\n",
       "      'token_probability': 0.1},\n",
       "     'make_ocr_errors': {'cell_probability': 0.01, 'token_probability': 0.1},\n",
       "     'make_typos': {'cell_probability': 0.01, 'token_probability': 0.1}},\n",
       "    'dependent_3_first_name': {'leave_blank': {'cell_probability': 0.01},\n",
       "     'use_nickname': {'cell_probability': 0.01},\n",
       "     'use_fake_name': {'cell_probability': 0.01},\n",
       "     'make_phonetic_errors': {'cell_probability': 0.01,\n",
       "      'token_probability': 0.1},\n",
       "     'make_ocr_errors': {'cell_probability': 0.01, 'token_probability': 0.1},\n",
       "     'make_typos': {'cell_probability': 0.01, 'token_probability': 0.1}},\n",
       "    'dependent_3_last_name': {'leave_blank': {'cell_probability': 0.01},\n",
       "     'use_fake_name': {'cell_probability': 0.01},\n",
       "     'make_phonetic_errors': {'cell_probability': 0.01,\n",
       "      'token_probability': 0.1},\n",
       "     'make_ocr_errors': {'cell_probability': 0.01, 'token_probability': 0.1},\n",
       "     'make_typos': {'cell_probability': 0.01, 'token_probability': 0.1}},\n",
       "    'dependent_3_ssn': {'leave_blank': {'cell_probability': 0.01},\n",
       "     'copy_from_household_member': {'cell_probability': 0.01},\n",
       "     'write_wrong_digits': {'cell_probability': 0.01,\n",
       "      'token_probability': 0.1},\n",
       "     'make_ocr_errors': {'cell_probability': 0.01, 'token_probability': 0.1},\n",
       "     'make_typos': {'cell_probability': 0.01, 'token_probability': 0.1}},\n",
       "    'dependent_4_first_name': {'leave_blank': {'cell_probability': 0.01},\n",
       "     'use_nickname': {'cell_probability': 0.01},\n",
       "     'use_fake_name': {'cell_probability': 0.01},\n",
       "     'make_phonetic_errors': {'cell_probability': 0.01,\n",
       "      'token_probability': 0.1},\n",
       "     'make_ocr_errors': {'cell_probability': 0.01, 'token_probability': 0.1},\n",
       "     'make_typos': {'cell_probability': 0.01, 'token_probability': 0.1}},\n",
       "    'dependent_4_last_name': {'leave_blank': {'cell_probability': 0.01},\n",
       "     'use_fake_name': {'cell_probability': 0.01},\n",
       "     'make_phonetic_errors': {'cell_probability': 0.01,\n",
       "      'token_probability': 0.1},\n",
       "     'make_ocr_errors': {'cell_probability': 0.01, 'token_probability': 0.1},\n",
       "     'make_typos': {'cell_probability': 0.01, 'token_probability': 0.1}},\n",
       "    'dependent_4_ssn': {'leave_blank': {'cell_probability': 0.01},\n",
       "     'copy_from_household_member': {'cell_probability': 0.01},\n",
       "     'write_wrong_digits': {'cell_probability': 0.01,\n",
       "      'token_probability': 0.1},\n",
       "     'make_ocr_errors': {'cell_probability': 0.01, 'token_probability': 0.1},\n",
       "     'make_typos': {'cell_probability': 0.01, 'token_probability': 0.1}}}}}}"
      ]
     },
     "execution_count": 19,
     "metadata": {},
     "output_type": "execute_result"
    }
   ],
   "source": [
    "psp_kwargs"
   ]
  },
  {
   "cell_type": "code",
   "execution_count": 20,
   "id": "1b9a92b7-bdaf-454d-8ad4-97db95d6b461",
   "metadata": {
    "execution": {
     "iopub.execute_input": "2024-05-16T20:59:10.716973Z",
     "iopub.status.busy": "2024-05-16T20:59:10.716491Z",
     "iopub.status.idle": "2024-05-16T20:59:18.989738Z",
     "shell.execute_reply": "2024-05-16T20:59:18.988574Z"
    },
    "papermill": {
     "duration": 8.288116,
     "end_time": "2024-05-16T20:59:18.994063",
     "exception": false,
     "start_time": "2024-05-16T20:59:10.705947",
     "status": "completed"
    },
    "tags": []
   },
   "outputs": [
    {
     "name": "stdout",
     "output_type": "stream",
     "text": [
      "2025\n",
      "\u001b[32m2024-05-16 13:59:10.779\u001b[0m | \u001b[36mpseudopeople.configuration.validator\u001b[0m:\u001b[36mvalidate_noise_level_proportions\u001b[0m:\u001b[36m335\u001b[0m - \u001b[33m\u001b[1mThe configured 'use_nickname' noise level for column_noise 'dependent_4_first_name' is 0.01, which is higher than the maximum possible value based on the provided data for 'taxes_1040'. Noising as many rows as possible. \u001b[0m\n"
     ]
    },
    {
     "name": "stderr",
     "output_type": "stream",
     "text": [
      "\r",
      "Applying noise:   0%|                                                                                                                                                                                   | 0/15 [00:00<?, ?type/s]"
     ]
    },
    {
     "name": "stderr",
     "output_type": "stream",
     "text": [
      "\r",
      "Applying noise:  27%|█████████████████████████████████████████████▌                                                                                                                             | 4/15 [00:00<00:00, 29.56type/s]"
     ]
    },
    {
     "name": "stderr",
     "output_type": "stream",
     "text": [
      "\r",
      "Applying noise:  67%|█████████████████████████████████████████████████████████████████████████████████████████████████████████████████▎                                                        | 10/15 [00:00<00:00, 42.77type/s]"
     ]
    },
    {
     "name": "stderr",
     "output_type": "stream",
     "text": [
      "\r",
      "Applying noise: 100%|██████████████████████████████████████████████████████████████████████████████████████████████████████████████████████████████████████████████████████████████████████████| 15/15 [00:01<00:00,  9.28type/s]"
     ]
    },
    {
     "name": "stderr",
     "output_type": "stream",
     "text": [
      "\r",
      "                                                                                                                                                                                                                                 "
     ]
    },
    {
     "name": "stdout",
     "output_type": "stream",
     "text": [
      "2026\n",
      "\u001b[32m2024-05-16 13:59:12.555\u001b[0m | \u001b[36mpseudopeople.configuration.validator\u001b[0m:\u001b[36mvalidate_noise_level_proportions\u001b[0m:\u001b[36m335\u001b[0m - \u001b[33m\u001b[1mThe configured 'use_nickname' noise level for column_noise 'dependent_4_first_name' is 0.01, which is higher than the maximum possible value based on the provided data for 'taxes_1040'. Noising as many rows as possible. \u001b[0m\n"
     ]
    },
    {
     "name": "stderr",
     "output_type": "stream",
     "text": [
      "\r"
     ]
    },
    {
     "name": "stderr",
     "output_type": "stream",
     "text": [
      "\r",
      "Applying noise:   0%|                                                                                                                                                                                   | 0/15 [00:00<?, ?type/s]"
     ]
    },
    {
     "name": "stderr",
     "output_type": "stream",
     "text": [
      "\r",
      "Applying noise:  27%|█████████████████████████████████████████████▌                                                                                                                             | 4/15 [00:00<00:00, 29.07type/s]"
     ]
    },
    {
     "name": "stderr",
     "output_type": "stream",
     "text": [
      "\r",
      "Applying noise:  67%|█████████████████████████████████████████████████████████████████████████████████████████████████████████████████▎                                                        | 10/15 [00:00<00:00, 44.41type/s]"
     ]
    },
    {
     "name": "stderr",
     "output_type": "stream",
     "text": [
      "\r",
      "Applying noise: 100%|██████████████████████████████████████████████████████████████████████████████████████████████████████████████████████████████████████████████████████████████████████████| 15/15 [00:01<00:00, 11.00type/s]"
     ]
    },
    {
     "name": "stderr",
     "output_type": "stream",
     "text": [
      "\r",
      "                                                                                                                                                                                                                                 "
     ]
    },
    {
     "name": "stdout",
     "output_type": "stream",
     "text": [
      "2027\n",
      "\u001b[32m2024-05-16 13:59:14.142\u001b[0m | \u001b[36mpseudopeople.configuration.validator\u001b[0m:\u001b[36mvalidate_noise_level_proportions\u001b[0m:\u001b[36m335\u001b[0m - \u001b[33m\u001b[1mThe configured 'use_nickname' noise level for column_noise 'dependent_4_first_name' is 0.01, which is higher than the maximum possible value based on the provided data for 'taxes_1040'. Noising as many rows as possible. \u001b[0m\n"
     ]
    },
    {
     "name": "stdout",
     "output_type": "stream",
     "text": [
      "\u001b[32m2024-05-16 13:59:14.144\u001b[0m | \u001b[36mpseudopeople.configuration.validator\u001b[0m:\u001b[36mvalidate_noise_level_proportions\u001b[0m:\u001b[36m335\u001b[0m - \u001b[33m\u001b[1mThe configured 'copy_from_household_member' noise level for column_noise 'dependent_4_ssn' is 0.01, which is higher than the maximum possible value based on the provided data for 'taxes_1040'. Noising as many rows as possible. \u001b[0m\n"
     ]
    },
    {
     "name": "stderr",
     "output_type": "stream",
     "text": [
      "\r"
     ]
    },
    {
     "name": "stderr",
     "output_type": "stream",
     "text": [
      "\r",
      "Applying noise:   0%|                                                                                                                                                                                   | 0/15 [00:00<?, ?type/s]"
     ]
    },
    {
     "name": "stderr",
     "output_type": "stream",
     "text": [
      "\r",
      "Applying noise:  27%|█████████████████████████████████████████████▌                                                                                                                             | 4/15 [00:00<00:00, 26.92type/s]"
     ]
    },
    {
     "name": "stderr",
     "output_type": "stream",
     "text": [
      "\r",
      "Applying noise:  67%|█████████████████████████████████████████████████████████████████████████████████████████████████████████████████▎                                                        | 10/15 [00:00<00:00, 40.58type/s]"
     ]
    },
    {
     "name": "stderr",
     "output_type": "stream",
     "text": [
      "\r",
      "Applying noise: 100%|██████████████████████████████████████████████████████████████████████████████████████████████████████████████████████████████████████████████████████████████████████████| 15/15 [00:01<00:00, 10.51type/s]"
     ]
    },
    {
     "name": "stderr",
     "output_type": "stream",
     "text": [
      "\r",
      "                                                                                                                                                                                                                                 "
     ]
    },
    {
     "name": "stdout",
     "output_type": "stream",
     "text": [
      "2028\n",
      "\u001b[32m2024-05-16 13:59:15.750\u001b[0m | \u001b[36mpseudopeople.configuration.validator\u001b[0m:\u001b[36mvalidate_noise_level_proportions\u001b[0m:\u001b[36m335\u001b[0m - \u001b[33m\u001b[1mThe configured 'use_nickname' noise level for column_noise 'dependent_4_first_name' is 0.01, which is higher than the maximum possible value based on the provided data for 'taxes_1040'. Noising as many rows as possible. \u001b[0m\n"
     ]
    },
    {
     "name": "stdout",
     "output_type": "stream",
     "text": [
      "\u001b[32m2024-05-16 13:59:15.752\u001b[0m | \u001b[36mpseudopeople.configuration.validator\u001b[0m:\u001b[36mvalidate_noise_level_proportions\u001b[0m:\u001b[36m335\u001b[0m - \u001b[33m\u001b[1mThe configured 'copy_from_household_member' noise level for column_noise 'dependent_4_ssn' is 0.01, which is higher than the maximum possible value based on the provided data for 'taxes_1040'. Noising as many rows as possible. \u001b[0m\n"
     ]
    },
    {
     "name": "stderr",
     "output_type": "stream",
     "text": [
      "\r"
     ]
    },
    {
     "name": "stderr",
     "output_type": "stream",
     "text": [
      "\r",
      "Applying noise:   0%|                                                                                                                                                                                   | 0/15 [00:00<?, ?type/s]"
     ]
    },
    {
     "name": "stderr",
     "output_type": "stream",
     "text": [
      "\r",
      "Applying noise:  27%|█████████████████████████████████████████████▌                                                                                                                             | 4/15 [00:00<00:00, 29.19type/s]"
     ]
    },
    {
     "name": "stderr",
     "output_type": "stream",
     "text": [
      "\r",
      "Applying noise:  67%|█████████████████████████████████████████████████████████████████████████████████████████████████████████████████▎                                                        | 10/15 [00:00<00:00, 42.34type/s]"
     ]
    },
    {
     "name": "stderr",
     "output_type": "stream",
     "text": [
      "\r",
      "Applying noise: 100%|██████████████████████████████████████████████████████████████████████████████████████████████████████████████████████████████████████████████████████████████████████████| 15/15 [00:01<00:00, 10.70type/s]"
     ]
    },
    {
     "name": "stderr",
     "output_type": "stream",
     "text": [
      "\r",
      "                                                                                                                                                                                                                                 "
     ]
    },
    {
     "name": "stdout",
     "output_type": "stream",
     "text": [
      "2029\n",
      "\u001b[32m2024-05-16 13:59:17.421\u001b[0m | \u001b[36mpseudopeople.configuration.validator\u001b[0m:\u001b[36mvalidate_noise_level_proportions\u001b[0m:\u001b[36m335\u001b[0m - \u001b[33m\u001b[1mThe configured 'use_nickname' noise level for column_noise 'dependent_3_first_name' is 0.01, which is higher than the maximum possible value based on the provided data for 'taxes_1040'. Noising as many rows as possible. \u001b[0m\n"
     ]
    },
    {
     "name": "stdout",
     "output_type": "stream",
     "text": [
      "\u001b[32m2024-05-16 13:59:17.422\u001b[0m | \u001b[36mpseudopeople.configuration.validator\u001b[0m:\u001b[36mvalidate_noise_level_proportions\u001b[0m:\u001b[36m335\u001b[0m - \u001b[33m\u001b[1mThe configured 'use_nickname' noise level for column_noise 'dependent_4_first_name' is 0.01, which is higher than the maximum possible value based on the provided data for 'taxes_1040'. Noising as many rows as possible. \u001b[0m\n"
     ]
    },
    {
     "name": "stdout",
     "output_type": "stream",
     "text": [
      "\u001b[32m2024-05-16 13:59:17.422\u001b[0m | \u001b[36mpseudopeople.configuration.validator\u001b[0m:\u001b[36mvalidate_noise_level_proportions\u001b[0m:\u001b[36m335\u001b[0m - \u001b[33m\u001b[1mThe configured 'copy_from_household_member' noise level for column_noise 'dependent_4_ssn' is 0.01, which is higher than the maximum possible value based on the provided data for 'taxes_1040'. Noising as many rows as possible. \u001b[0m\n"
     ]
    },
    {
     "name": "stderr",
     "output_type": "stream",
     "text": [
      "\r"
     ]
    },
    {
     "name": "stderr",
     "output_type": "stream",
     "text": [
      "\r",
      "Applying noise:   0%|                                                                                                                                                                                   | 0/15 [00:00<?, ?type/s]"
     ]
    },
    {
     "name": "stderr",
     "output_type": "stream",
     "text": [
      "\r",
      "Applying noise:  27%|█████████████████████████████████████████████▌                                                                                                                             | 4/15 [00:00<00:00, 27.61type/s]"
     ]
    },
    {
     "name": "stderr",
     "output_type": "stream",
     "text": [
      "\r",
      "Applying noise:  67%|█████████████████████████████████████████████████████████████████████████████████████████████████████████████████▎                                                        | 10/15 [00:00<00:00, 40.39type/s]"
     ]
    },
    {
     "name": "stderr",
     "output_type": "stream",
     "text": [
      "\r",
      "Applying noise: 100%|██████████████████████████████████████████████████████████████████████████████████████████████████████████████████████████████████████████████████████████████████████████| 15/15 [00:01<00:00, 10.64type/s]"
     ]
    },
    {
     "name": "stderr",
     "output_type": "stream",
     "text": [
      "\r",
      "                                                                                                                                                                                                                                 "
     ]
    },
    {
     "name": "stdout",
     "output_type": "stream",
     "text": [
      "CPU times: user 7.9 s, sys: 337 ms, total: 8.23 s\n",
      "Wall time: 8.26 s\n"
     ]
    },
    {
     "name": "stderr",
     "output_type": "stream",
     "text": [
      "\r"
     ]
    }
   ],
   "source": [
    "%%time\n",
    "\n",
    "for year in tax_years:\n",
    "    print(year)\n",
    "    df = psp.generate_taxes_1040(\n",
    "        year=year,\n",
    "        **psp_kwargs,\n",
    "    )\n",
    "    utils.remove_path(str(Path(output_dir) / f\"simulated_taxes_1040_{year}.parquet\"))\n",
    "    df.to_parquet(str(Path(output_dir) / f\"simulated_taxes_1040_{year}.parquet\"))"
   ]
  },
  {
   "cell_type": "markdown",
   "id": "d8bad94f-c803-41e0-bf17-9ecfdb56cdbd",
   "metadata": {
    "papermill": {
     "duration": 0.00897,
     "end_time": "2024-05-16T20:59:19.017869",
     "exception": false,
     "start_time": "2024-05-16T20:59:19.008899",
     "status": "completed"
    },
    "tags": []
   },
   "source": [
    "### Simulated W2/1099 tax filings\n",
    "\n",
    "We assume that the last 5 years of taxes would be available and used in the construction of the reference files.\n",
    "\n",
    "Note that these are retrieved by *tax* year, so the 2029 taxes would be available in early 2030\n",
    "(around when our hypothetical case study is taking place)."
   ]
  },
  {
   "cell_type": "code",
   "execution_count": 21,
   "id": "2c072c69-f7c7-4bf1-b99e-48c3257063ba",
   "metadata": {
    "execution": {
     "iopub.execute_input": "2024-05-16T20:59:19.043842Z",
     "iopub.status.busy": "2024-05-16T20:59:19.042948Z",
     "iopub.status.idle": "2024-05-16T20:59:25.173015Z",
     "shell.execute_reply": "2024-05-16T20:59:25.172013Z"
    },
    "papermill": {
     "duration": 6.148088,
     "end_time": "2024-05-16T20:59:25.177722",
     "exception": false,
     "start_time": "2024-05-16T20:59:19.029634",
     "status": "completed"
    },
    "tags": []
   },
   "outputs": [
    {
     "name": "stdout",
     "output_type": "stream",
     "text": [
      "2025\n"
     ]
    },
    {
     "name": "stderr",
     "output_type": "stream",
     "text": [
      "\r",
      "Applying noise:   0%|                                                                                                                                                                                   | 0/15 [00:00<?, ?type/s]"
     ]
    },
    {
     "name": "stderr",
     "output_type": "stream",
     "text": [
      "\r",
      "Applying noise:  27%|█████████████████████████████████████████████▌                                                                                                                             | 4/15 [00:00<00:00, 39.15type/s]"
     ]
    },
    {
     "name": "stderr",
     "output_type": "stream",
     "text": [
      "\r",
      "Applying noise:  67%|█████████████████████████████████████████████████████████████████████████████████████████████████████████████████▎                                                        | 10/15 [00:00<00:00, 47.71type/s]"
     ]
    },
    {
     "name": "stderr",
     "output_type": "stream",
     "text": [
      "\r",
      "Applying noise: 100%|██████████████████████████████████████████████████████████████████████████████████████████████████████████████████████████████████████████████████████████████████████████| 15/15 [00:00<00:00, 14.78type/s]"
     ]
    },
    {
     "name": "stderr",
     "output_type": "stream",
     "text": [
      "\r",
      "                                                                                                                                                                                                                                 "
     ]
    },
    {
     "name": "stderr",
     "output_type": "stream",
     "text": [
      "\r"
     ]
    },
    {
     "name": "stdout",
     "output_type": "stream",
     "text": [
      "2026\n"
     ]
    },
    {
     "name": "stderr",
     "output_type": "stream",
     "text": [
      "\r",
      "Applying noise:   0%|                                                                                                                                                                                   | 0/15 [00:00<?, ?type/s]"
     ]
    },
    {
     "name": "stderr",
     "output_type": "stream",
     "text": [
      "\r",
      "Applying noise:  27%|█████████████████████████████████████████████▌                                                                                                                             | 4/15 [00:00<00:00, 38.98type/s]"
     ]
    },
    {
     "name": "stderr",
     "output_type": "stream",
     "text": [
      "\r",
      "Applying noise:  67%|█████████████████████████████████████████████████████████████████████████████████████████████████████████████████▎                                                        | 10/15 [00:00<00:00, 47.61type/s]"
     ]
    },
    {
     "name": "stderr",
     "output_type": "stream",
     "text": [
      "\r",
      "Applying noise: 100%|██████████████████████████████████████████████████████████████████████████████████████████████████████████████████████████████████████████████████████████████████████████| 15/15 [00:00<00:00, 14.93type/s]"
     ]
    },
    {
     "name": "stderr",
     "output_type": "stream",
     "text": [
      "\r",
      "                                                                                                                                                                                                                                 "
     ]
    },
    {
     "name": "stderr",
     "output_type": "stream",
     "text": [
      "\r"
     ]
    },
    {
     "name": "stdout",
     "output_type": "stream",
     "text": [
      "2027\n"
     ]
    },
    {
     "name": "stderr",
     "output_type": "stream",
     "text": [
      "\r",
      "Applying noise:   0%|                                                                                                                                                                                   | 0/15 [00:00<?, ?type/s]"
     ]
    },
    {
     "name": "stderr",
     "output_type": "stream",
     "text": [
      "\r",
      "Applying noise:  27%|█████████████████████████████████████████████▌                                                                                                                             | 4/15 [00:00<00:00, 38.13type/s]"
     ]
    },
    {
     "name": "stderr",
     "output_type": "stream",
     "text": [
      "\r",
      "Applying noise:  67%|█████████████████████████████████████████████████████████████████████████████████████████████████████████████████▎                                                        | 10/15 [00:00<00:00, 30.85type/s]"
     ]
    },
    {
     "name": "stderr",
     "output_type": "stream",
     "text": [
      "\r",
      "Applying noise:  93%|██████████████████████████████████████████████████████████████████████████████████████████████████████████████████████████████████████████████████████████████▋           | 14/15 [00:00<00:00, 14.96type/s]"
     ]
    },
    {
     "name": "stderr",
     "output_type": "stream",
     "text": [
      "\r",
      "                                                                                                                                                                                                                                 "
     ]
    },
    {
     "name": "stderr",
     "output_type": "stream",
     "text": [
      "\r"
     ]
    },
    {
     "name": "stdout",
     "output_type": "stream",
     "text": [
      "2028\n"
     ]
    },
    {
     "name": "stderr",
     "output_type": "stream",
     "text": [
      "\r",
      "Applying noise:   0%|                                                                                                                                                                                   | 0/15 [00:00<?, ?type/s]"
     ]
    },
    {
     "name": "stderr",
     "output_type": "stream",
     "text": [
      "\r",
      "Applying noise:  27%|█████████████████████████████████████████████▌                                                                                                                             | 4/15 [00:00<00:00, 39.59type/s]"
     ]
    },
    {
     "name": "stderr",
     "output_type": "stream",
     "text": [
      "\r",
      "Applying noise:  67%|█████████████████████████████████████████████████████████████████████████████████████████████████████████████████▎                                                        | 10/15 [00:00<00:00, 47.51type/s]"
     ]
    },
    {
     "name": "stderr",
     "output_type": "stream",
     "text": [
      "\r",
      "Applying noise: 100%|██████████████████████████████████████████████████████████████████████████████████████████████████████████████████████████████████████████████████████████████████████████| 15/15 [00:00<00:00, 14.74type/s]"
     ]
    },
    {
     "name": "stderr",
     "output_type": "stream",
     "text": [
      "\r",
      "                                                                                                                                                                                                                                 "
     ]
    },
    {
     "name": "stderr",
     "output_type": "stream",
     "text": [
      "\r"
     ]
    },
    {
     "name": "stdout",
     "output_type": "stream",
     "text": [
      "2029\n"
     ]
    },
    {
     "name": "stderr",
     "output_type": "stream",
     "text": [
      "\r",
      "Applying noise:   0%|                                                                                                                                                                                   | 0/15 [00:00<?, ?type/s]"
     ]
    },
    {
     "name": "stderr",
     "output_type": "stream",
     "text": [
      "\r",
      "Applying noise:  27%|█████████████████████████████████████████████▌                                                                                                                             | 4/15 [00:00<00:00, 38.79type/s]"
     ]
    },
    {
     "name": "stderr",
     "output_type": "stream",
     "text": [
      "\r",
      "Applying noise:  67%|█████████████████████████████████████████████████████████████████████████████████████████████████████████████████▎                                                        | 10/15 [00:00<00:00, 46.81type/s]"
     ]
    },
    {
     "name": "stderr",
     "output_type": "stream",
     "text": [
      "\r",
      "Applying noise: 100%|██████████████████████████████████████████████████████████████████████████████████████████████████████████████████████████████████████████████████████████████████████████| 15/15 [00:00<00:00, 15.05type/s]"
     ]
    },
    {
     "name": "stderr",
     "output_type": "stream",
     "text": [
      "\r",
      "                                                                                                                                                                                                                                 "
     ]
    },
    {
     "name": "stdout",
     "output_type": "stream",
     "text": [
      "CPU times: user 5.8 s, sys: 271 ms, total: 6.07 s\n",
      "Wall time: 6.12 s\n"
     ]
    },
    {
     "name": "stderr",
     "output_type": "stream",
     "text": [
      "\r"
     ]
    }
   ],
   "source": [
    "%%time\n",
    "\n",
    "for year in tax_years:\n",
    "    print(year)\n",
    "    df = psp.generate_taxes_w2_and_1099(\n",
    "        year=year,\n",
    "        **psp_kwargs,\n",
    "    )\n",
    "    utils.remove_path(str(Path(output_dir) / f\"simulated_taxes_w2_and_1099_{year}.parquet\"))\n",
    "    df.to_parquet(str(Path(output_dir) / f\"simulated_taxes_w2_and_1099_{year}.parquet\"))"
   ]
  },
  {
   "cell_type": "markdown",
   "id": "ed6967cb-dfa6-4b43-98b9-e590d266f55f",
   "metadata": {
    "papermill": {
     "duration": 0.009977,
     "end_time": "2024-05-16T20:59:25.203932",
     "exception": false,
     "start_time": "2024-05-16T20:59:25.193955",
     "status": "completed"
    },
    "tags": []
   },
   "source": [
    "### Simulated 2030 Census Unedited File (CUF)\n",
    "\n",
    "For now, we gloss over the data schema for addresses.\n",
    "We don't know how addresses would be formatted in the CUF (and it's hard to guess, because\n",
    "address is not part of the Census form), but it likely would have some of these fields\n",
    "(street number, street name, etc) combined.\n",
    "\n",
    "While PVS input files do not in general have names split into first, middle, and last,\n",
    "I am guessing the CUF **would** have first name, middle initial, last name (which is how pseudopeople\n",
    "generates it), because that [matches the Census questionnaire](https://www2.census.gov/programs-surveys/decennial/2020/technical-documentation/questionnaires-and-instructions/questionnaires/2020-informational-questionnaire-english_DI-Q1.pdf)."
   ]
  },
  {
   "cell_type": "code",
   "execution_count": 22,
   "id": "670c2201-c8a3-43d8-8f3a-f98bf576666a",
   "metadata": {
    "execution": {
     "iopub.execute_input": "2024-05-16T20:59:25.227595Z",
     "iopub.status.busy": "2024-05-16T20:59:25.226720Z",
     "iopub.status.idle": "2024-05-16T20:59:26.209121Z",
     "shell.execute_reply": "2024-05-16T20:59:26.208568Z"
    },
    "papermill": {
     "duration": 1.000522,
     "end_time": "2024-05-16T20:59:26.214536",
     "exception": false,
     "start_time": "2024-05-16T20:59:25.214014",
     "status": "completed"
    },
    "tags": []
   },
   "outputs": [
    {
     "name": "stderr",
     "output_type": "stream",
     "text": [
      "\r",
      "Applying noise:   0%|                                                                                                                                                                                   | 0/15 [00:00<?, ?type/s]"
     ]
    },
    {
     "name": "stderr",
     "output_type": "stream",
     "text": [
      "\r",
      "Applying noise:  13%|██████████████████████▊                                                                                                                                                    | 2/15 [00:00<00:00, 19.55type/s]"
     ]
    },
    {
     "name": "stderr",
     "output_type": "stream",
     "text": [
      "\r",
      "Applying noise:  33%|█████████████████████████████████████████████████████████                                                                                                                  | 5/15 [00:00<00:00, 21.69type/s]"
     ]
    },
    {
     "name": "stderr",
     "output_type": "stream",
     "text": [
      "\r",
      "Applying noise:  80%|████████████████████████████████████████████████████████████████████████████████████████████████████████████████████████████████████████                                  | 12/15 [00:00<00:00, 38.42type/s]"
     ]
    },
    {
     "name": "stderr",
     "output_type": "stream",
     "text": [
      "\r",
      "                                                                                                                                                                                                                                 "
     ]
    },
    {
     "name": "stdout",
     "output_type": "stream",
     "text": [
      "CPU times: user 944 ms, sys: 12.2 ms, total: 957 ms\n",
      "Wall time: 975 ms\n"
     ]
    },
    {
     "name": "stderr",
     "output_type": "stream",
     "text": [
      "\r"
     ]
    }
   ],
   "source": [
    "%%time\n",
    "\n",
    "simulated_census_2030 = psp.generate_decennial_census(\n",
    "    year=2030,\n",
    "    **psp_kwargs,\n",
    ")\n",
    "utils.remove_path(str(Path(output_dir) / f\"simulated_census_2030.parquet\"))\n",
    "simulated_census_2030.to_parquet(str(Path(output_dir) / f\"simulated_census_2030.parquet\"))"
   ]
  },
  {
   "cell_type": "markdown",
   "id": "480d3767-1895-4c4f-91d8-72d13a19b5ec",
   "metadata": {
    "papermill": {
     "duration": 0.010521,
     "end_time": "2024-05-16T20:59:26.239575",
     "exception": false,
     "start_time": "2024-05-16T20:59:26.229054",
     "status": "completed"
    },
    "tags": []
   },
   "source": [
    "### Simulated SSA Numident\n",
    "\n",
    "Wagner and Layne, p.4:\n",
    "\n",
    "> The reference files are derived from the Social Security Administration\n",
    "    (SSA) Numerical Identification file (SSA Numident). The Numident contains all\n",
    "    transactions recorded against one Social Security Number (SSN)...\n",
    "\n",
    "Based on the [SSA Numident through 2007 which is publicly available from NARA](https://aad.archives.gov/aad/series-description.jsp?s=5057),\n",
    "we know there are three kinds of transactions: SSN applications, deaths, and claiming benefits.\n",
    "SSN holders may change their information (e.g. changing name or sex) by submitting another application,\n",
    "which generates an additional application transaction.\n",
    "(The policies about this are found [on the SSA website](https://secure.ssa.gov/poms.nsf/lnx/0110212200).)\n",
    "\n",
    "The paper [\"Likely Transgender Individuals in U.S. Federal Administrative Records and the 2010 Census\" by Benjamin Cerf Harris](https://www.census.gov/content/dam/Census/library/working-papers/2015/adrm/carra-wp-2015-03.pdf)\n",
    "includes some helpful statistics (Table 2).\n",
    "The average person in the SSA Numident has 2.2 transactions (called \"claims\" in that paper, but with the same definition\n",
    "as our term \"transaction\": \"Any time an SSN is created or information associated with an existing SSN is changed, that event is registered\n",
    "as a claim.\").\n",
    "\n",
    "pseudopeople does not currently include correction, name change, or benefits claim transactions.\n",
    "It only includes SSN creation and death of the SSN holder.\n",
    "\n",
    "I've figured that there would be some delay in getting the Numident -- so by Census processing time\n",
    "for the 2030 Census, only the SSA transactions by the end of 2029 would be available.\n",
    "Note that with pseudopeople's current design it is only possible to set this cutoff at the end of a calendar year.\n",
    "The NORC report says that \"the Census NUMIDENT is recreated each year, to reflect\n",
    "Social Security transaction records through **March** of each year\" (p. 105),\n",
    "though it isn't clear when in the year the Census Numident is actually re-created."
   ]
  },
  {
   "cell_type": "code",
   "execution_count": 23,
   "id": "3da0de7b-2e91-4d23-96bd-d331a820d7e7",
   "metadata": {
    "execution": {
     "iopub.execute_input": "2024-05-16T20:59:26.262957Z",
     "iopub.status.busy": "2024-05-16T20:59:26.262231Z",
     "iopub.status.idle": "2024-05-16T20:59:26.943534Z",
     "shell.execute_reply": "2024-05-16T20:59:26.942545Z"
    },
    "papermill": {
     "duration": 0.694816,
     "end_time": "2024-05-16T20:59:26.944841",
     "exception": false,
     "start_time": "2024-05-16T20:59:26.250025",
     "status": "completed"
    },
    "tags": []
   },
   "outputs": [
    {
     "name": "stderr",
     "output_type": "stream",
     "text": [
      "\r",
      "Applying noise:   0%|                                                                                                                                                                                   | 0/15 [00:00<?, ?type/s]"
     ]
    },
    {
     "name": "stderr",
     "output_type": "stream",
     "text": [
      "\r",
      "Applying noise:  67%|█████████████████████████████████████████████████████████████████████████████████████████████████████████████████▎                                                        | 10/15 [00:00<00:00, 86.21type/s]"
     ]
    },
    {
     "name": "stderr",
     "output_type": "stream",
     "text": [
      "\r",
      "                                                                                                                                                                                                                                 "
     ]
    },
    {
     "name": "stdout",
     "output_type": "stream",
     "text": [
      "CPU times: user 661 ms, sys: 20.2 ms, total: 681 ms\n",
      "Wall time: 673 ms\n"
     ]
    },
    {
     "name": "stderr",
     "output_type": "stream",
     "text": [
      "\r"
     ]
    }
   ],
   "source": [
    "%%time\n",
    "\n",
    "simulated_ssa_numident = psp.generate_social_security(\n",
    "    year=2029,\n",
    "    **psp_kwargs,\n",
    ")"
   ]
  },
  {
   "cell_type": "code",
   "execution_count": 24,
   "id": "122a7f79-8054-4664-b916-f023585bf398",
   "metadata": {
    "execution": {
     "iopub.execute_input": "2024-05-16T20:59:26.969321Z",
     "iopub.status.busy": "2024-05-16T20:59:26.968981Z",
     "iopub.status.idle": "2024-05-16T20:59:27.012014Z",
     "shell.execute_reply": "2024-05-16T20:59:27.011097Z"
    },
    "papermill": {
     "duration": 0.055649,
     "end_time": "2024-05-16T20:59:27.013229",
     "exception": false,
     "start_time": "2024-05-16T20:59:26.957580",
     "status": "completed"
    },
    "tags": []
   },
   "outputs": [
    {
     "name": "stdout",
     "output_type": "stream",
     "text": [
      "CPU times: user 19.4 ms, sys: 7.99 ms, total: 27.4 ms\n",
      "Wall time: 37 ms\n"
     ]
    }
   ],
   "source": [
    "%%time\n",
    "\n",
    "utils.remove_path(str(Path(output_dir) / \"simulated_ssa_numident.parquet\"))\n",
    "simulated_ssa_numident.to_parquet(str(Path(output_dir) / \"simulated_ssa_numident.parquet\"))"
   ]
  },
  {
   "cell_type": "code",
   "execution_count": 25,
   "id": "ac19c70b-36c9-486f-9e65-6a32ca876ad7",
   "metadata": {
    "execution": {
     "iopub.execute_input": "2024-05-16T20:59:27.039758Z",
     "iopub.status.busy": "2024-05-16T20:59:27.039338Z",
     "iopub.status.idle": "2024-05-16T20:59:27.209551Z",
     "shell.execute_reply": "2024-05-16T20:59:27.207672Z"
    },
    "papermill": {
     "duration": 0.187132,
     "end_time": "2024-05-16T20:59:27.212247",
     "exception": false,
     "start_time": "2024-05-16T20:59:27.025115",
     "status": "completed"
    },
    "tags": []
   },
   "outputs": [
    {
     "name": "stdout",
     "output_type": "stream",
     "text": [
      "Thu 16 May 2024 01:59:27 PM PDT\r\n"
     ]
    }
   ],
   "source": [
    "! date"
   ]
  }
 ],
 "metadata": {
  "kernelspec": {
   "display_name": "person_linkage_case_study_20240423",
   "language": "python",
   "name": "python3"
  },
  "language_info": {
   "codemirror_mode": {
    "name": "ipython",
    "version": 3
   },
   "file_extension": ".py",
   "mimetype": "text/x-python",
   "name": "python",
   "nbconvert_exporter": "python",
   "pygments_lexer": "ipython3",
   "version": "3.10.14"
  },
  "papermill": {
   "default_parameters": {},
   "duration": 24.383797,
   "end_time": "2024-05-16T20:59:27.650016",
   "environment_variables": {},
   "exception": null,
   "input_path": "generate_simulated_data/generate_pseudopeople_simulated_datasets.ipynb",
   "output_path": "generate_simulated_data/generate_pseudopeople_simulated_datasets_small_sample.ipynb",
   "parameters": {
    "compute_engine": "pandas",
    "data_to_use": "small_sample",
    "output_dir": "output/generate_simulated_data/",
    "very_noisy": true
   },
   "start_time": "2024-05-16T20:59:03.266219",
   "version": "2.5.0"
  }
 },
 "nbformat": 4,
 "nbformat_minor": 5
}