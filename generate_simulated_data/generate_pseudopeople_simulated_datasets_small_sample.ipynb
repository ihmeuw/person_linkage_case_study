{
 "cells": [
  {
   "cell_type": "markdown",
   "id": "6f802687-416a-4b38-82d3-ab387dc16c38",
   "metadata": {
    "papermill": {
     "duration": 0.01112,
     "end_time": "2023-11-21T22:43:19.024566",
     "exception": false,
     "start_time": "2023-11-21T22:43:19.013446",
     "status": "completed"
    },
    "tags": []
   },
   "source": [
    "# Generate pseudopeople simulated datasets\n",
    "\n",
    "The very first step is generating pseudopeople data that will be used both directly in the case study, and to create the reference files.\n",
    "Since this is an intensive operation and currently can only be distributed with Modin, we do only this step in this notebook, then\n",
    "save the results."
   ]
  },
  {
   "cell_type": "code",
   "execution_count": 1,
   "id": "6a821e3e-9ae1-466d-b24f-66d1b0703a92",
   "metadata": {
    "execution": {
     "iopub.execute_input": "2023-11-21T22:43:19.050735Z",
     "iopub.status.busy": "2023-11-21T22:43:19.050336Z",
     "iopub.status.idle": "2023-11-21T22:43:22.595191Z",
     "shell.execute_reply": "2023-11-21T22:43:22.594444Z"
    },
    "papermill": {
     "duration": 3.55898,
     "end_time": "2023-11-21T22:43:22.597178",
     "exception": false,
     "start_time": "2023-11-21T22:43:19.038198",
     "status": "completed"
    },
    "tags": []
   },
   "outputs": [],
   "source": [
    "import warnings\n",
    "import pseudopeople as psp\n",
    "import numpy as np\n",
    "import os, shutil\n",
    "import logging\n",
    "from pathlib import Path\n",
    "# Importing pandas for access, regardless of whether we are using it as the compute engine\n",
    "import pandas"
   ]
  },
  {
   "cell_type": "code",
   "execution_count": 2,
   "id": "cc4546dc-f329-48b7-9988-5d25991939f0",
   "metadata": {
    "execution": {
     "iopub.execute_input": "2023-11-21T22:43:22.615177Z",
     "iopub.status.busy": "2023-11-21T22:43:22.614642Z",
     "iopub.status.idle": "2023-11-21T22:43:22.618854Z",
     "shell.execute_reply": "2023-11-21T22:43:22.618043Z"
    },
    "papermill": {
     "duration": 0.014075,
     "end_time": "2023-11-21T22:43:22.620395",
     "exception": false,
     "start_time": "2023-11-21T22:43:22.606320",
     "status": "completed"
    },
    "tags": []
   },
   "outputs": [],
   "source": [
    "warnings.simplefilter(action='ignore', category=FutureWarning)"
   ]
  },
  {
   "cell_type": "code",
   "execution_count": 3,
   "id": "7ac996f3-1270-4211-a829-728e3b2ba6f7",
   "metadata": {
    "editable": true,
    "execution": {
     "iopub.execute_input": "2023-11-21T22:43:22.635837Z",
     "iopub.status.busy": "2023-11-21T22:43:22.635463Z",
     "iopub.status.idle": "2023-11-21T22:43:22.639748Z",
     "shell.execute_reply": "2023-11-21T22:43:22.638892Z"
    },
    "papermill": {
     "duration": 0.013821,
     "end_time": "2023-11-21T22:43:22.641317",
     "exception": false,
     "start_time": "2023-11-21T22:43:22.627496",
     "status": "completed"
    },
    "slideshow": {
     "slide_type": ""
    },
    "tags": [
     "parameters"
    ]
   },
   "outputs": [],
   "source": [
    "# DO NOT EDIT if this notebook is not called generate_pseudopeople_simulated_datasets.ipynb!\n",
    "# This notebook is designed to be run with papermill; this cell is tagged 'parameters'\n",
    "# When you run this, save it to another filename.\n",
    "data_to_use = 'small_sample'\n",
    "output_dir = 'output'\n",
    "compute_engine = 'pandas'\n",
    "# Only matter if distributing\n",
    "num_jobs = 5\n",
    "cpus_per_job = 2\n",
    "memory_per_job = \"10GB\"\n",
    "very_noisy = True\n",
    "pseudopeople_seed = 0"
   ]
  },
  {
   "cell_type": "code",
   "execution_count": 4,
   "id": "df615340",
   "metadata": {
    "execution": {
     "iopub.execute_input": "2023-11-21T22:43:22.657266Z",
     "iopub.status.busy": "2023-11-21T22:43:22.656708Z",
     "iopub.status.idle": "2023-11-21T22:43:22.660458Z",
     "shell.execute_reply": "2023-11-21T22:43:22.659725Z"
    },
    "papermill": {
     "duration": 0.013084,
     "end_time": "2023-11-21T22:43:22.662032",
     "exception": false,
     "start_time": "2023-11-21T22:43:22.648948",
     "status": "completed"
    },
    "tags": [
     "injected-parameters"
    ]
   },
   "outputs": [],
   "source": [
    "# Parameters\n",
    "data_to_use = \"small_sample\"\n"
   ]
  },
  {
   "cell_type": "code",
   "execution_count": 5,
   "id": "70deb862-827d-4744-babd-1ee857ebfaa2",
   "metadata": {
    "execution": {
     "iopub.execute_input": "2023-11-21T22:43:22.677726Z",
     "iopub.status.busy": "2023-11-21T22:43:22.677192Z",
     "iopub.status.idle": "2023-11-21T22:43:22.681704Z",
     "shell.execute_reply": "2023-11-21T22:43:22.680914Z"
    },
    "papermill": {
     "duration": 0.014307,
     "end_time": "2023-11-21T22:43:22.683273",
     "exception": false,
     "start_time": "2023-11-21T22:43:22.668966",
     "status": "completed"
    },
    "tags": []
   },
   "outputs": [],
   "source": [
    "def remove_path(path):\n",
    "    path = Path(path)\n",
    "    if path.is_file():\n",
    "        os.remove(path)\n",
    "    elif path.exists():\n",
    "        shutil.rmtree(path)"
   ]
  },
  {
   "cell_type": "code",
   "execution_count": 6,
   "id": "d23e90be-2f7f-46db-ae17-a3dae23b7a4a",
   "metadata": {
    "execution": {
     "iopub.execute_input": "2023-11-21T22:43:22.698952Z",
     "iopub.status.busy": "2023-11-21T22:43:22.698432Z",
     "iopub.status.idle": "2023-11-21T22:43:22.702449Z",
     "shell.execute_reply": "2023-11-21T22:43:22.701718Z"
    },
    "papermill": {
     "duration": 0.013788,
     "end_time": "2023-11-21T22:43:22.703993",
     "exception": false,
     "start_time": "2023-11-21T22:43:22.690205",
     "status": "completed"
    },
    "tags": []
   },
   "outputs": [],
   "source": [
    "output_dir = str(Path(output_dir) / data_to_use / \"pseudopeople_simulated_datasets\")"
   ]
  },
  {
   "cell_type": "code",
   "execution_count": 7,
   "id": "79ff29f5-473d-4dab-9e7f-453f284ad8d8",
   "metadata": {
    "execution": {
     "iopub.execute_input": "2023-11-21T22:43:22.720558Z",
     "iopub.status.busy": "2023-11-21T22:43:22.720031Z",
     "iopub.status.idle": "2023-11-21T22:43:22.852997Z",
     "shell.execute_reply": "2023-11-21T22:43:22.850718Z"
    },
    "papermill": {
     "duration": 0.146444,
     "end_time": "2023-11-21T22:43:22.857743",
     "exception": false,
     "start_time": "2023-11-21T22:43:22.711299",
     "status": "completed"
    },
    "tags": []
   },
   "outputs": [
    {
     "name": "stdout",
     "output_type": "stream",
     "text": [
      "Tue Nov 21 14:43:22 PST 2023\r\n"
     ]
    }
   ],
   "source": [
    "! date"
   ]
  },
  {
   "cell_type": "code",
   "execution_count": 8,
   "id": "41e6be4e-a9b4-47c3-ae1a-f6e7d2c9dc6c",
   "metadata": {
    "execution": {
     "iopub.execute_input": "2023-11-21T22:43:22.880447Z",
     "iopub.status.busy": "2023-11-21T22:43:22.880052Z",
     "iopub.status.idle": "2023-11-21T22:43:22.888179Z",
     "shell.execute_reply": "2023-11-21T22:43:22.887338Z"
    },
    "papermill": {
     "duration": 0.019148,
     "end_time": "2023-11-21T22:43:22.889875",
     "exception": false,
     "start_time": "2023-11-21T22:43:22.870727",
     "status": "completed"
    },
    "tags": []
   },
   "outputs": [
    {
     "data": {
      "text/plain": [
       "'0.8.3.dev6+g31db93a'"
      ]
     },
     "execution_count": 8,
     "metadata": {},
     "output_type": "execute_result"
    }
   ],
   "source": [
    "psp.__version__"
   ]
  },
  {
   "cell_type": "code",
   "execution_count": 9,
   "id": "e5f1b1c7-e425-4fdb-a0fc-389e422d94d8",
   "metadata": {
    "execution": {
     "iopub.execute_input": "2023-11-21T22:43:22.906742Z",
     "iopub.status.busy": "2023-11-21T22:43:22.906065Z",
     "iopub.status.idle": "2023-11-21T22:43:22.915869Z",
     "shell.execute_reply": "2023-11-21T22:43:22.915192Z"
    },
    "papermill": {
     "duration": 0.020212,
     "end_time": "2023-11-21T22:43:22.917663",
     "exception": false,
     "start_time": "2023-11-21T22:43:22.897451",
     "status": "completed"
    },
    "tags": []
   },
   "outputs": [],
   "source": [
    "if compute_engine == 'pandas':\n",
    "    import pandas as pd\n",
    "elif compute_engine.startswith('modin'):\n",
    "    if compute_engine.startswith('modin_dask_'):\n",
    "        import modin.config as modin_cfg\n",
    "        modin_cfg.Engine.put(\"dask\") # Use dask instead of ray (which is the default)\n",
    "\n",
    "        import dask\n",
    "\n",
    "        if compute_engine == 'modin_dask_distributed':\n",
    "            from dask_jobqueue import SLURMCluster\n",
    "\n",
    "            cluster = SLURMCluster(\n",
    "                queue='long.q',\n",
    "                account=\"proj_simscience\",\n",
    "                # If you give dask workers more than one core, they will use it to\n",
    "                # run more tasks at once, which can use more memory than is available.\n",
    "                # To have more than one thread per worker but use them all for\n",
    "                # multi-threading code in one task\n",
    "                # at a time, you have to set cores=1, processes=1 and job_cpu > 1.\n",
    "                cores=1,\n",
    "                processes=1,\n",
    "                memory=memory_per_job,\n",
    "                walltime=\"10-00:00:00\",\n",
    "                # Dask distributed looks at OS-reported memory to decide whether a worker is running out.\n",
    "                # If the memory allocator is not returning the memory to the OS promptly (even when holding onto it\n",
    "                # is smart), it will lead Dask to make bad decisions.\n",
    "                # By default, pyarrow uses jemalloc, but I could not get that to release memory quickly.\n",
    "                # Even this doesn't seem to be completely working, but in combination with small-ish partitions\n",
    "                # it seems to do okay -- unmanaged memory does seem to shrink from time to time, which it wasn't\n",
    "                # previously doing.\n",
    "                job_script_prologue=\"export ARROW_DEFAULT_MEMORY_POOL=system\\nexport MALLOC_TRIM_THRESHOLD_=0\",\n",
    "                job_cpu=cpus_per_job,\n",
    "                # NOTE: This is, as Dask requests, a directory local to the compute node.\n",
    "                # But IHME's cluster doesn't support this very well -- it can be small-ish,\n",
    "                # full of stuff from other users, etc.\n",
    "                local_directory=f\"/tmp/{os.environ['USER']}_dask_generate_pseudopeople_simulated_datasets\",\n",
    "                # NOTE: Network file system -- probably slow and doing a lot of unnecessary I/O!\n",
    "                # local_directory=f\"/ihme/scratch/users/{os.environ['USER']}/dask_work_dir/dask_generate_simulated_data\",\n",
    "                # HACK: Avoid nodes with /tmp too full (as of 11/17/2023)\n",
    "                job_extra_directives=[\"-x long-slurm-sarchive-p00[53-59]\"],\n",
    "                log_directory=f\"/ihme/temp/slurmoutput/{os.environ['USER']}\",\n",
    "            )\n",
    "\n",
    "            cluster.scale(n=num_jobs)\n",
    "            # Supposedly, this will start new jobs if the existing\n",
    "            # ones fail for some reason.\n",
    "            # https://stackoverflow.com/a/61295019\n",
    "            cluster.adapt(minimum_jobs=num_jobs, maximum_jobs=num_jobs)\n",
    "\n",
    "            from distributed import Client\n",
    "            client = Client(cluster)\n",
    "        else:\n",
    "            from distributed import Client\n",
    "            cpus_available = int(os.environ['SLURM_CPUS_ON_NODE'])\n",
    "            client = Client(n_workers=int(cpus_available / 2), threads_per_worker=2)\n",
    "\n",
    "        # Why is this necessary?!\n",
    "        # For some reason, if I don't set NPartitions, it seems to default to 0?!\n",
    "        num_row_groups = 1 if data_to_use == 'small_sample' else 334\n",
    "        modin_cfg.NPartitions.put(min(num_jobs * 3, num_row_groups))\n",
    "        modin_cfg.MinPartitionSize.put(1_000) # ensure no column-axis partitions -- they'll need to be joined up right away anyway by our row-wise noising\n",
    "\n",
    "        display(client)\n",
    "    elif compute_engine == 'modin_ray':\n",
    "        # Haven't worked on distributing this across multiple nodes\n",
    "        import ray\n",
    "        ray.init(runtime_env={'env_vars': {'__MODIN_AUTOIMPORT_PANDAS__': '1'}}, num_cpus=int(os.environ['SLURM_CPUS_ON_NODE']))\n",
    "    else:\n",
    "        # Use serial Python backend (good for debugging errors)\n",
    "        import modin.config as modin_cfg\n",
    "        modin_cfg.IsDebug.put(True)\n",
    "\n",
    "    import modin.pandas as pd\n",
    "\n",
    "    # https://modin.readthedocs.io/en/stable/usage_guide/advanced_usage/progress_bar.html\n",
    "    from modin.config import ProgressBar\n",
    "    ProgressBar.enable()"
   ]
  },
  {
   "cell_type": "markdown",
   "id": "8a08bfa0-f644-4faa-b303-ef24d9a32b86",
   "metadata": {
    "papermill": {
     "duration": 0.007746,
     "end_time": "2023-11-21T22:43:22.932823",
     "exception": false,
     "start_time": "2023-11-21T22:43:22.925077",
     "status": "completed"
    },
    "tags": []
   },
   "source": [
    "## Load simulated data"
   ]
  },
  {
   "cell_type": "code",
   "execution_count": 10,
   "id": "8abfcc66-502c-45f1-a269-d0c60fa5f0c9",
   "metadata": {
    "execution": {
     "iopub.execute_input": "2023-11-21T22:43:22.949006Z",
     "iopub.status.busy": "2023-11-21T22:43:22.948453Z",
     "iopub.status.idle": "2023-11-21T22:43:22.952594Z",
     "shell.execute_reply": "2023-11-21T22:43:22.951837Z"
    },
    "papermill": {
     "duration": 0.014293,
     "end_time": "2023-11-21T22:43:22.954206",
     "exception": false,
     "start_time": "2023-11-21T22:43:22.939913",
     "status": "completed"
    },
    "tags": []
   },
   "outputs": [],
   "source": [
    "assert data_to_use in ('small_sample', 'usa')\n",
    "pseudopeople_input_dir = None if data_to_use == 'small_sample' else '/mnt/team/simulation_science/priv/engineering/vivarium_census_prl_synth_pop/results/release_02_yellow/full_data/united_states_of_america/2023_07_28_08_33_09/final_results/2023_08_16_09_58_54/pseudopeople_input_data_usa/'"
   ]
  },
  {
   "cell_type": "code",
   "execution_count": 11,
   "id": "cc05826f-98d7-4dac-adf9-8d9f80809811",
   "metadata": {
    "execution": {
     "iopub.execute_input": "2023-11-21T22:43:22.970427Z",
     "iopub.status.busy": "2023-11-21T22:43:22.969905Z",
     "iopub.status.idle": "2023-11-21T22:43:22.973996Z",
     "shell.execute_reply": "2023-11-21T22:43:22.973186Z"
    },
    "papermill": {
     "duration": 0.014004,
     "end_time": "2023-11-21T22:43:22.975552",
     "exception": false,
     "start_time": "2023-11-21T22:43:22.961548",
     "status": "completed"
    },
    "tags": []
   },
   "outputs": [],
   "source": [
    "psp_kwargs = {\n",
    "    'source': pseudopeople_input_dir,\n",
    "    'seed': pseudopeople_seed,\n",
    "}\n",
    "if 'modin' in compute_engine:\n",
    "    psp_kwargs['engine'] = 'modin'"
   ]
  },
  {
   "cell_type": "markdown",
   "id": "02bd7b4d-645d-4dca-94ae-ee1780048aa0",
   "metadata": {
    "papermill": {
     "duration": 0.007814,
     "end_time": "2023-11-21T22:43:22.990613",
     "exception": false,
     "start_time": "2023-11-21T22:43:22.982799",
     "status": "completed"
    },
    "tags": []
   },
   "source": [
    "### Noise configuration\n",
    "\n",
    "In order to give ourselves more of a challenge, we significantly increase the amount of noise\n",
    "from the pseudopeople defaults."
   ]
  },
  {
   "cell_type": "code",
   "execution_count": 12,
   "id": "9dbb002e-8468-4885-a4b5-52fdb75ce7c0",
   "metadata": {
    "execution": {
     "iopub.execute_input": "2023-11-21T22:43:23.006770Z",
     "iopub.status.busy": "2023-11-21T22:43:23.006221Z",
     "iopub.status.idle": "2023-11-21T22:43:23.016351Z",
     "shell.execute_reply": "2023-11-21T22:43:23.015494Z"
    },
    "papermill": {
     "duration": 0.020208,
     "end_time": "2023-11-21T22:43:23.017980",
     "exception": false,
     "start_time": "2023-11-21T22:43:22.997772",
     "status": "completed"
    },
    "tags": []
   },
   "outputs": [],
   "source": [
    "default_configuration = psp.get_config()"
   ]
  },
  {
   "cell_type": "code",
   "execution_count": 13,
   "id": "a42207b2-5f2b-40c1-82d8-4d6ca36fe4c4",
   "metadata": {
    "execution": {
     "iopub.execute_input": "2023-11-21T22:43:23.035069Z",
     "iopub.status.busy": "2023-11-21T22:43:23.034541Z",
     "iopub.status.idle": "2023-11-21T22:43:23.040349Z",
     "shell.execute_reply": "2023-11-21T22:43:23.039459Z"
    },
    "papermill": {
     "duration": 0.016219,
     "end_time": "2023-11-21T22:43:23.041919",
     "exception": false,
     "start_time": "2023-11-21T22:43:23.025700",
     "status": "completed"
    },
    "tags": []
   },
   "outputs": [],
   "source": [
    "# Helper functions for changing the default configuration according to a pattern\n",
    "def column_noise_value(dataset, column, noise_type, default_value):\n",
    "    if very_noisy and dataset in ('decennial_census', 'taxes_w2_and_1099', 'social_security'):\n",
    "        if noise_type == \"make_typos\":\n",
    "            if column == \"middle_initial\":\n",
    "                # 5% of middle initials (which are all a single token anyway) are wrong.\n",
    "                return {\"cell_probability\": 0.05, \"token_probability\": 1}\n",
    "            elif column in (\"first_name\", \"last_name\", \"street_name\"):\n",
    "                # 10% of these text columns were entered carelessly, at a rate of 1 error\n",
    "                # per 10 characters.\n",
    "                # The pseudopeople default is 1% careless.\n",
    "                return {\"cell_probability\": 0.1, \"token_probability\": 0.1}\n",
    "        elif noise_type == \"write_wrong_digits\" and (dataset != \"social_security\" or column != \"ssn\"):\n",
    "            # 10% of number columns were written carelessly, at a rate of 1 error\n",
    "            # per 10 characters.\n",
    "            # The pseudopeople default is 1% careless.\n",
    "            # Note that this is applied on top of (the default lower levels of) typos,\n",
    "            # since typos also apply to numeric characters.\n",
    "            # We never introduce error on the SSN in the SSA dataset\n",
    "            return {\"cell_probability\": 0.1, \"token_probability\": 0.1}\n",
    "\n",
    "    return default_value\n",
    "\n",
    "\n",
    "def row_noise_value(dataset, noise_type, default_value):\n",
    "    return default_value"
   ]
  },
  {
   "cell_type": "code",
   "execution_count": 14,
   "id": "e7c9dd19-eac0-455f-9af3-7bc7bc3029e0",
   "metadata": {
    "execution": {
     "iopub.execute_input": "2023-11-21T22:43:23.058832Z",
     "iopub.status.busy": "2023-11-21T22:43:23.058302Z",
     "iopub.status.idle": "2023-11-21T22:43:23.063759Z",
     "shell.execute_reply": "2023-11-21T22:43:23.062992Z"
    },
    "papermill": {
     "duration": 0.015678,
     "end_time": "2023-11-21T22:43:23.065326",
     "exception": false,
     "start_time": "2023-11-21T22:43:23.049648",
     "status": "completed"
    },
    "tags": []
   },
   "outputs": [],
   "source": [
    "custom_configuration = {\n",
    "    dataset: {\n",
    "        noise_category: (\n",
    "            ({\n",
    "                column: {\n",
    "                    noise_type: column_noise_value(dataset, column, noise_type, noise_type_config)\n",
    "                    for noise_type, noise_type_config in column_config.items()\n",
    "                }\n",
    "                for column, column_config in noise_category_config.items()\n",
    "            }\n",
    "            if noise_category == \"column_noise\" else\n",
    "            {\n",
    "                noise_type: row_noise_value(dataset, noise_type, noise_type_config)\n",
    "                for noise_type, noise_type_config in noise_category_config.items()\n",
    "            })\n",
    "        )\n",
    "        for noise_category, noise_category_config in dataset_config.items()\n",
    "    }\n",
    "    for dataset, dataset_config in default_configuration.items()\n",
    "}"
   ]
  },
  {
   "cell_type": "code",
   "execution_count": 15,
   "id": "e8056884-bb09-475b-9499-56ba79b96c6a",
   "metadata": {
    "execution": {
     "iopub.execute_input": "2023-11-21T22:43:23.082652Z",
     "iopub.status.busy": "2023-11-21T22:43:23.082120Z",
     "iopub.status.idle": "2023-11-21T22:43:23.085961Z",
     "shell.execute_reply": "2023-11-21T22:43:23.085158Z"
    },
    "papermill": {
     "duration": 0.01435,
     "end_time": "2023-11-21T22:43:23.087489",
     "exception": false,
     "start_time": "2023-11-21T22:43:23.073139",
     "status": "completed"
    },
    "tags": []
   },
   "outputs": [],
   "source": [
    "psp_kwargs['config'] = custom_configuration"
   ]
  },
  {
   "cell_type": "markdown",
   "id": "480d3767-1895-4c4f-91d8-72d13a19b5ec",
   "metadata": {
    "papermill": {
     "duration": 0.007547,
     "end_time": "2023-11-21T22:43:23.102276",
     "exception": false,
     "start_time": "2023-11-21T22:43:23.094729",
     "status": "completed"
    },
    "tags": []
   },
   "source": [
    "### Simulated SSA Numident\n",
    "\n",
    "Wagner and Layne, p.4:\n",
    "\n",
    "> The reference files are derived from the Social Security Administration\n",
    "    (SSA) Numerical Identification file (SSA Numident). The Numident contains all\n",
    "    transactions recorded against one Social Security Number (SSN)...\n",
    "\n",
    "Based on the [SSA Numident through 2007 which is publicly available from NARA](https://aad.archives.gov/aad/series-description.jsp?s=5057),\n",
    "we know there are three kinds of transactions: SSN applications, deaths, and claiming benefits.\n",
    "SSN holders may change their information (e.g. changing name or sex) by submitting another application,\n",
    "which generates an additional application transaction.\n",
    "(The policies about this are found [on the SSA website](https://secure.ssa.gov/poms.nsf/lnx/0110212200).)\n",
    "\n",
    "The paper [\"Likely Transgender Individuals in U.S. Federal Administrative Records and the 2010 Census\" by Benjamin Cerf Harris](https://www.census.gov/content/dam/Census/library/working-papers/2015/adrm/carra-wp-2015-03.pdf)\n",
    "includes some helpful statistics (Table 2).\n",
    "The average person in the SSA Numident has 2.2 transactions (called \"claims\" in that paper, but with the same definition\n",
    "as our term \"transaction\": \"Any time an SSN is created or information associated with an existing SSN is changed, that event is registered\n",
    "as a claim.\").\n",
    "\n",
    "pseudopeople does not currently include correction, name change, or benefits claim transactions.\n",
    "It only includes SSN creation and death of the SSN holder.\n",
    "\n",
    "I've figured that there would be some delay in getting the Numident -- so by Census processing time\n",
    "for the 2030 Census, only the SSA transactions by the end of 2029 would be available.\n",
    "Note that with pseudopeople's current design it is only possible to set this cutoff at the end of a calendar year.\n",
    "The NORC report says that \"the Census NUMIDENT is recreated each year, to reflect\n",
    "Social Security transaction records through **March** of each year\" (p. 105),\n",
    "though it isn't clear when in the year the Census Numident is actually re-created."
   ]
  },
  {
   "cell_type": "code",
   "execution_count": 16,
   "id": "3da0de7b-2e91-4d23-96bd-d331a820d7e7",
   "metadata": {
    "execution": {
     "iopub.execute_input": "2023-11-21T22:43:23.118539Z",
     "iopub.status.busy": "2023-11-21T22:43:23.118016Z",
     "iopub.status.idle": "2023-11-21T22:43:23.869611Z",
     "shell.execute_reply": "2023-11-21T22:43:23.868764Z"
    },
    "papermill": {
     "duration": 0.762391,
     "end_time": "2023-11-21T22:43:23.871754",
     "exception": false,
     "start_time": "2023-11-21T22:43:23.109363",
     "status": "completed"
    },
    "tags": []
   },
   "outputs": [
    {
     "name": "stderr",
     "output_type": "stream",
     "text": [
      "\r",
      "Applying noise:   0%|                                                                                                                                                                                                                                | 0/14 [00:00<?, ?type/s]"
     ]
    },
    {
     "name": "stderr",
     "output_type": "stream",
     "text": [
      "\r",
      "Applying noise:  64%|██████████████████████████████████████████████████████████████████████████████████████████████████████████████████████████████████████████▊                                                                             | 9/14 [00:00<00:00, 78.13type/s]"
     ]
    },
    {
     "name": "stderr",
     "output_type": "stream",
     "text": [
      "\r",
      "                                                                                                                                                                                                                                                                              "
     ]
    },
    {
     "name": "stdout",
     "output_type": "stream",
     "text": [
      "CPU times: user 721 ms, sys: 23.3 ms, total: 744 ms\n",
      "Wall time: 747 ms\n"
     ]
    },
    {
     "name": "stderr",
     "output_type": "stream",
     "text": [
      "\r"
     ]
    }
   ],
   "source": [
    "%%time\n",
    "\n",
    "simulated_ssa_numident = psp.generate_social_security(\n",
    "    year=2029,\n",
    "    **psp_kwargs,\n",
    ")"
   ]
  },
  {
   "cell_type": "code",
   "execution_count": 17,
   "id": "122a7f79-8054-4664-b916-f023585bf398",
   "metadata": {
    "execution": {
     "iopub.execute_input": "2023-11-21T22:43:23.889982Z",
     "iopub.status.busy": "2023-11-21T22:43:23.889424Z",
     "iopub.status.idle": "2023-11-21T22:43:23.954109Z",
     "shell.execute_reply": "2023-11-21T22:43:23.953176Z"
    },
    "papermill": {
     "duration": 0.075956,
     "end_time": "2023-11-21T22:43:23.955758",
     "exception": false,
     "start_time": "2023-11-21T22:43:23.879802",
     "status": "completed"
    },
    "tags": []
   },
   "outputs": [
    {
     "name": "stdout",
     "output_type": "stream",
     "text": [
      "CPU times: user 36.2 ms, sys: 368 µs, total: 36.6 ms\n",
      "Wall time: 59.7 ms\n"
     ]
    }
   ],
   "source": [
    "%%time\n",
    "\n",
    "remove_path(str(Path(output_dir) / \"simulated_ssa_numident.parquet\"))\n",
    "simulated_ssa_numident.to_parquet(str(Path(output_dir) / \"simulated_ssa_numident.parquet\"))"
   ]
  },
  {
   "cell_type": "markdown",
   "id": "5fe8e46b-f936-4704-b120-9bbcbce6c3e9",
   "metadata": {
    "papermill": {
     "duration": 0.007939,
     "end_time": "2023-11-21T22:43:23.971879",
     "exception": false,
     "start_time": "2023-11-21T22:43:23.963940",
     "status": "completed"
    },
    "tags": []
   },
   "source": [
    "### Simulated 1040 tax filings\n",
    "\n",
    "We assume that the last 5 years of taxes would be available and used in the construction of the reference files -- see section about reference files below.\n",
    "\n",
    "Note that these are retrieved by *tax* year, so the 2029 taxes would be available in early 2030\n",
    "(around when our hypothetical case study is taking place)."
   ]
  },
  {
   "cell_type": "code",
   "execution_count": 18,
   "id": "8157a22b-45f3-4fc1-803e-4670a554b23f",
   "metadata": {
    "execution": {
     "iopub.execute_input": "2023-11-21T22:43:23.989665Z",
     "iopub.status.busy": "2023-11-21T22:43:23.989125Z",
     "iopub.status.idle": "2023-11-21T22:43:23.994762Z",
     "shell.execute_reply": "2023-11-21T22:43:23.993941Z"
    },
    "papermill": {
     "duration": 0.016608,
     "end_time": "2023-11-21T22:43:23.996310",
     "exception": false,
     "start_time": "2023-11-21T22:43:23.979702",
     "status": "completed"
    },
    "tags": []
   },
   "outputs": [
    {
     "data": {
      "text/plain": [
       "[2025, 2026, 2027, 2028, 2029]"
      ]
     },
     "execution_count": 18,
     "metadata": {},
     "output_type": "execute_result"
    }
   ],
   "source": [
    "tax_years = list(range(2025, 2030))\n",
    "tax_years"
   ]
  },
  {
   "cell_type": "code",
   "execution_count": 19,
   "id": "1b9a92b7-bdaf-454d-8ad4-97db95d6b461",
   "metadata": {
    "execution": {
     "iopub.execute_input": "2023-11-21T22:43:24.014962Z",
     "iopub.status.busy": "2023-11-21T22:43:24.014437Z",
     "iopub.status.idle": "2023-11-21T22:43:29.545830Z",
     "shell.execute_reply": "2023-11-21T22:43:29.543529Z"
    },
    "papermill": {
     "duration": 5.542714,
     "end_time": "2023-11-21T22:43:29.547470",
     "exception": false,
     "start_time": "2023-11-21T22:43:24.004756",
     "status": "completed"
    },
    "tags": []
   },
   "outputs": [
    {
     "name": "stdout",
     "output_type": "stream",
     "text": [
      "2025\n"
     ]
    },
    {
     "name": "stderr",
     "output_type": "stream",
     "text": [
      "\r",
      "Applying noise:   0%|                                                                                                                                                                                                                                | 0/14 [00:00<?, ?type/s]"
     ]
    },
    {
     "name": "stderr",
     "output_type": "stream",
     "text": [
      "\r",
      "Applying noise:  36%|█████████████████████████████████████████████████████████████████████████████▏                                                                                                                                          | 5/14 [00:00<00:00, 40.01type/s]"
     ]
    },
    {
     "name": "stderr",
     "output_type": "stream",
     "text": [
      "\r",
      "Applying noise:  71%|█████████████████████████████████████████████████████████████████████████████████████████████████████████████████████████████████████████████████████████▌                                                             | 10/14 [00:00<00:00, 33.08type/s]"
     ]
    },
    {
     "name": "stderr",
     "output_type": "stream",
     "text": [
      "\r",
      "Applying noise: 100%|███████████████████████████████████████████████████████████████████████████████████████████████████████████████████████████████████████████████████████████████████████████████████████████████████████████████████████| 14/14 [00:00<00:00, 15.79type/s]"
     ]
    },
    {
     "name": "stderr",
     "output_type": "stream",
     "text": [
      "\r",
      "                                                                                                                                                                                                                                                                              "
     ]
    },
    {
     "name": "stderr",
     "output_type": "stream",
     "text": [
      "\r"
     ]
    },
    {
     "name": "stdout",
     "output_type": "stream",
     "text": [
      "2026\n"
     ]
    },
    {
     "name": "stderr",
     "output_type": "stream",
     "text": [
      "\r",
      "Applying noise:   0%|                                                                                                                                                                                                                                | 0/14 [00:00<?, ?type/s]"
     ]
    },
    {
     "name": "stderr",
     "output_type": "stream",
     "text": [
      "\r",
      "Applying noise:  36%|█████████████████████████████████████████████████████████████████████████████▏                                                                                                                                          | 5/14 [00:00<00:00, 40.25type/s]"
     ]
    },
    {
     "name": "stderr",
     "output_type": "stream",
     "text": [
      "\r",
      "Applying noise:  71%|█████████████████████████████████████████████████████████████████████████████████████████████████████████████████████████████████████████████████████████▌                                                             | 10/14 [00:00<00:00, 34.48type/s]"
     ]
    },
    {
     "name": "stderr",
     "output_type": "stream",
     "text": [
      "\r",
      "Applying noise: 100%|███████████████████████████████████████████████████████████████████████████████████████████████████████████████████████████████████████████████████████████████████████████████████████████████████████████████████████| 14/14 [00:00<00:00, 16.75type/s]"
     ]
    },
    {
     "name": "stderr",
     "output_type": "stream",
     "text": [
      "\r",
      "                                                                                                                                                                                                                                                                              "
     ]
    },
    {
     "name": "stderr",
     "output_type": "stream",
     "text": [
      "\r"
     ]
    },
    {
     "name": "stdout",
     "output_type": "stream",
     "text": [
      "2027\n"
     ]
    },
    {
     "name": "stderr",
     "output_type": "stream",
     "text": [
      "\r",
      "Applying noise:   0%|                                                                                                                                                                                                                                | 0/14 [00:00<?, ?type/s]"
     ]
    },
    {
     "name": "stderr",
     "output_type": "stream",
     "text": [
      "\r",
      "Applying noise:  36%|█████████████████████████████████████████████████████████████████████████████▏                                                                                                                                          | 5/14 [00:00<00:00, 40.42type/s]"
     ]
    },
    {
     "name": "stderr",
     "output_type": "stream",
     "text": [
      "\r",
      "Applying noise:  71%|█████████████████████████████████████████████████████████████████████████████████████████████████████████████████████████████████████████████████████████▌                                                             | 10/14 [00:00<00:00, 33.39type/s]"
     ]
    },
    {
     "name": "stderr",
     "output_type": "stream",
     "text": [
      "\r",
      "Applying noise: 100%|███████████████████████████████████████████████████████████████████████████████████████████████████████████████████████████████████████████████████████████████████████████████████████████████████████████████████████| 14/14 [00:00<00:00, 16.80type/s]"
     ]
    },
    {
     "name": "stderr",
     "output_type": "stream",
     "text": [
      "\r",
      "                                                                                                                                                                                                                                                                              "
     ]
    },
    {
     "name": "stderr",
     "output_type": "stream",
     "text": [
      "\r"
     ]
    },
    {
     "name": "stdout",
     "output_type": "stream",
     "text": [
      "2028\n"
     ]
    },
    {
     "name": "stderr",
     "output_type": "stream",
     "text": [
      "\r",
      "Applying noise:   0%|                                                                                                                                                                                                                                | 0/14 [00:00<?, ?type/s]"
     ]
    },
    {
     "name": "stderr",
     "output_type": "stream",
     "text": [
      "\r",
      "Applying noise:  36%|█████████████████████████████████████████████████████████████████████████████▏                                                                                                                                          | 5/14 [00:00<00:00, 40.25type/s]"
     ]
    },
    {
     "name": "stderr",
     "output_type": "stream",
     "text": [
      "\r",
      "Applying noise:  71%|█████████████████████████████████████████████████████████████████████████████████████████████████████████████████████████████████████████████████████████▌                                                             | 10/14 [00:00<00:00, 34.12type/s]"
     ]
    },
    {
     "name": "stderr",
     "output_type": "stream",
     "text": [
      "\r",
      "Applying noise: 100%|███████████████████████████████████████████████████████████████████████████████████████████████████████████████████████████████████████████████████████████████████████████████████████████████████████████████████████| 14/14 [00:00<00:00, 16.44type/s]"
     ]
    },
    {
     "name": "stderr",
     "output_type": "stream",
     "text": [
      "\r",
      "                                                                                                                                                                                                                                                                              "
     ]
    },
    {
     "name": "stderr",
     "output_type": "stream",
     "text": [
      "\r"
     ]
    },
    {
     "name": "stdout",
     "output_type": "stream",
     "text": [
      "2029\n"
     ]
    },
    {
     "name": "stderr",
     "output_type": "stream",
     "text": [
      "\r",
      "Applying noise:   0%|                                                                                                                                                                                                                                | 0/14 [00:00<?, ?type/s]"
     ]
    },
    {
     "name": "stderr",
     "output_type": "stream",
     "text": [
      "\r",
      "Applying noise:  36%|█████████████████████████████████████████████████████████████████████████████▏                                                                                                                                          | 5/14 [00:00<00:00, 40.12type/s]"
     ]
    },
    {
     "name": "stderr",
     "output_type": "stream",
     "text": [
      "\r",
      "Applying noise:  71%|█████████████████████████████████████████████████████████████████████████████████████████████████████████████████████████████████████████████████████████▌                                                             | 10/14 [00:00<00:00, 34.51type/s]"
     ]
    },
    {
     "name": "stderr",
     "output_type": "stream",
     "text": [
      "\r",
      "Applying noise: 100%|███████████████████████████████████████████████████████████████████████████████████████████████████████████████████████████████████████████████████████████████████████████████████████████████████████████████████████| 14/14 [00:00<00:00, 13.95type/s]"
     ]
    },
    {
     "name": "stderr",
     "output_type": "stream",
     "text": [
      "\r",
      "                                                                                                                                                                                                                                                                              "
     ]
    },
    {
     "name": "stdout",
     "output_type": "stream",
     "text": [
      "CPU times: user 5.79 s, sys: 281 ms, total: 6.07 s\n",
      "Wall time: 5.52 s\n"
     ]
    },
    {
     "name": "stderr",
     "output_type": "stream",
     "text": [
      "\r"
     ]
    }
   ],
   "source": [
    "%%time\n",
    "\n",
    "for year in tax_years:\n",
    "    print(year)\n",
    "    df = psp.generate_taxes_1040(\n",
    "        year=year,\n",
    "        **psp_kwargs,\n",
    "    )\n",
    "    remove_path(str(Path(output_dir) / f\"simulated_taxes_1040_{year}.parquet\"))\n",
    "    df.to_parquet(str(Path(output_dir) / f\"simulated_taxes_1040_{year}.parquet\"))"
   ]
  },
  {
   "cell_type": "markdown",
   "id": "d8bad94f-c803-41e0-bf17-9ecfdb56cdbd",
   "metadata": {
    "papermill": {
     "duration": 0.009612,
     "end_time": "2023-11-21T22:43:29.620181",
     "exception": false,
     "start_time": "2023-11-21T22:43:29.610569",
     "status": "completed"
    },
    "tags": []
   },
   "source": [
    "### Simulated W2/1099 tax filings\n",
    "\n",
    "We assume that the last 5 years of taxes would be available and used in the construction of the reference files.\n",
    "\n",
    "Note that these are retrieved by *tax* year, so the 2029 taxes would be available in early 2030\n",
    "(around when our hypothetical case study is taking place)."
   ]
  },
  {
   "cell_type": "code",
   "execution_count": 20,
   "id": "2c072c69-f7c7-4bf1-b99e-48c3257063ba",
   "metadata": {
    "execution": {
     "iopub.execute_input": "2023-11-21T22:43:29.641271Z",
     "iopub.status.busy": "2023-11-21T22:43:29.640706Z",
     "iopub.status.idle": "2023-11-21T22:43:33.629553Z",
     "shell.execute_reply": "2023-11-21T22:43:33.628811Z"
    },
    "papermill": {
     "duration": 4.001418,
     "end_time": "2023-11-21T22:43:33.631193",
     "exception": false,
     "start_time": "2023-11-21T22:43:29.629775",
     "status": "completed"
    },
    "tags": []
   },
   "outputs": [
    {
     "name": "stdout",
     "output_type": "stream",
     "text": [
      "2025\n"
     ]
    },
    {
     "name": "stderr",
     "output_type": "stream",
     "text": [
      "\r",
      "Applying noise:   0%|                                                                                                                                                                                                                                | 0/14 [00:00<?, ?type/s]"
     ]
    },
    {
     "name": "stderr",
     "output_type": "stream",
     "text": [
      "\r",
      "Applying noise:  29%|█████████████████████████████████████████████████████████████▋                                                                                                                                                          | 4/14 [00:00<00:00, 36.40type/s]"
     ]
    },
    {
     "name": "stderr",
     "output_type": "stream",
     "text": [
      "\r",
      "Applying noise:  86%|████████████████████████████████████████████████████████████████████████████████████████████████████████████████████████████████████████████████████████████████████████████████████████▎                              | 12/14 [00:00<00:00, 49.03type/s]"
     ]
    },
    {
     "name": "stderr",
     "output_type": "stream",
     "text": [
      "\r",
      "                                                                                                                                                                                                                                                                              "
     ]
    },
    {
     "name": "stderr",
     "output_type": "stream",
     "text": [
      "\r"
     ]
    },
    {
     "name": "stdout",
     "output_type": "stream",
     "text": [
      "2026\n"
     ]
    },
    {
     "name": "stderr",
     "output_type": "stream",
     "text": [
      "\r",
      "Applying noise:   0%|                                                                                                                                                                                                                                | 0/14 [00:00<?, ?type/s]"
     ]
    },
    {
     "name": "stderr",
     "output_type": "stream",
     "text": [
      "\r",
      "Applying noise:  29%|█████████████████████████████████████████████████████████████▋                                                                                                                                                          | 4/14 [00:00<00:00, 36.65type/s]"
     ]
    },
    {
     "name": "stderr",
     "output_type": "stream",
     "text": [
      "\r",
      "Applying noise:  86%|████████████████████████████████████████████████████████████████████████████████████████████████████████████████████████████████████████████████████████████████████████████████████████▎                              | 12/14 [00:00<00:00, 49.90type/s]"
     ]
    },
    {
     "name": "stderr",
     "output_type": "stream",
     "text": [
      "\r",
      "                                                                                                                                                                                                                                                                              "
     ]
    },
    {
     "name": "stderr",
     "output_type": "stream",
     "text": [
      "\r"
     ]
    },
    {
     "name": "stdout",
     "output_type": "stream",
     "text": [
      "2027\n"
     ]
    },
    {
     "name": "stderr",
     "output_type": "stream",
     "text": [
      "\r",
      "Applying noise:   0%|                                                                                                                                                                                                                                | 0/14 [00:00<?, ?type/s]"
     ]
    },
    {
     "name": "stderr",
     "output_type": "stream",
     "text": [
      "\r",
      "Applying noise:  29%|█████████████████████████████████████████████████████████████▋                                                                                                                                                          | 4/14 [00:00<00:00, 36.76type/s]"
     ]
    },
    {
     "name": "stderr",
     "output_type": "stream",
     "text": [
      "\r",
      "Applying noise:  86%|████████████████████████████████████████████████████████████████████████████████████████████████████████████████████████████████████████████████████████████████████████████████████████▎                              | 12/14 [00:00<00:00, 49.68type/s]"
     ]
    },
    {
     "name": "stderr",
     "output_type": "stream",
     "text": [
      "\r",
      "                                                                                                                                                                                                                                                                              "
     ]
    },
    {
     "name": "stderr",
     "output_type": "stream",
     "text": [
      "\r"
     ]
    },
    {
     "name": "stdout",
     "output_type": "stream",
     "text": [
      "2028\n"
     ]
    },
    {
     "name": "stderr",
     "output_type": "stream",
     "text": [
      "\r",
      "Applying noise:   0%|                                                                                                                                                                                                                                | 0/14 [00:00<?, ?type/s]"
     ]
    },
    {
     "name": "stderr",
     "output_type": "stream",
     "text": [
      "\r",
      "Applying noise:  29%|█████████████████████████████████████████████████████████████▋                                                                                                                                                          | 4/14 [00:00<00:00, 34.91type/s]"
     ]
    },
    {
     "name": "stderr",
     "output_type": "stream",
     "text": [
      "\r",
      "Applying noise:  86%|████████████████████████████████████████████████████████████████████████████████████████████████████████████████████████████████████████████████████████████████████████████████████████▎                              | 12/14 [00:00<00:00, 48.57type/s]"
     ]
    },
    {
     "name": "stderr",
     "output_type": "stream",
     "text": [
      "\r",
      "                                                                                                                                                                                                                                                                              "
     ]
    },
    {
     "name": "stderr",
     "output_type": "stream",
     "text": [
      "\r"
     ]
    },
    {
     "name": "stdout",
     "output_type": "stream",
     "text": [
      "2029\n"
     ]
    },
    {
     "name": "stderr",
     "output_type": "stream",
     "text": [
      "\r",
      "Applying noise:   0%|                                                                                                                                                                                                                                | 0/14 [00:00<?, ?type/s]"
     ]
    },
    {
     "name": "stderr",
     "output_type": "stream",
     "text": [
      "\r",
      "Applying noise:  29%|█████████████████████████████████████████████████████████████▋                                                                                                                                                          | 4/14 [00:00<00:00, 36.65type/s]"
     ]
    },
    {
     "name": "stderr",
     "output_type": "stream",
     "text": [
      "\r",
      "Applying noise:  86%|████████████████████████████████████████████████████████████████████████████████████████████████████████████████████████████████████████████████████████████████████████████████████████▎                              | 12/14 [00:00<00:00, 49.20type/s]"
     ]
    },
    {
     "name": "stderr",
     "output_type": "stream",
     "text": [
      "\r",
      "                                                                                                                                                                                                                                                                              "
     ]
    },
    {
     "name": "stdout",
     "output_type": "stream",
     "text": [
      "CPU times: user 4.08 s, sys: 191 ms, total: 4.27 s\n",
      "Wall time: 3.98 s\n"
     ]
    },
    {
     "name": "stderr",
     "output_type": "stream",
     "text": [
      "\r"
     ]
    }
   ],
   "source": [
    "%%time\n",
    "\n",
    "for year in tax_years:\n",
    "    print(year)\n",
    "    df = psp.generate_taxes_w2_and_1099(\n",
    "        year=year,\n",
    "        **psp_kwargs,\n",
    "    )\n",
    "    remove_path(str(Path(output_dir) / f\"simulated_taxes_w2_and_1099_{year}.parquet\"))\n",
    "    df.to_parquet(str(Path(output_dir) / f\"simulated_taxes_w2_and_1099_{year}.parquet\"))"
   ]
  },
  {
   "cell_type": "markdown",
   "id": "ed6967cb-dfa6-4b43-98b9-e590d266f55f",
   "metadata": {
    "papermill": {
     "duration": 0.0114,
     "end_time": "2023-11-21T22:43:33.654312",
     "exception": false,
     "start_time": "2023-11-21T22:43:33.642912",
     "status": "completed"
    },
    "tags": []
   },
   "source": [
    "### Simulated 2030 Census Unedited File (CUF)\n",
    "\n",
    "For now, we gloss over the data schema for addresses.\n",
    "We don't know how addresses would be formatted in the CUF (and it's hard to guess, because\n",
    "address is not part of the Census form), but it likely would have some of these fields\n",
    "(street number, street name, etc) combined.\n",
    "\n",
    "While PVS input files do not in general have names split into first, middle, and last,\n",
    "I am guessing the CUF **would** have first name, middle initial, last name (which is how pseudopeople\n",
    "generates it), because that [matches the Census questionnaire](https://www2.census.gov/programs-surveys/decennial/2020/technical-documentation/questionnaires-and-instructions/questionnaires/2020-informational-questionnaire-english_DI-Q1.pdf)."
   ]
  },
  {
   "cell_type": "code",
   "execution_count": 21,
   "id": "670c2201-c8a3-43d8-8f3a-f98bf576666a",
   "metadata": {
    "execution": {
     "iopub.execute_input": "2023-11-21T22:43:33.679085Z",
     "iopub.status.busy": "2023-11-21T22:43:33.678524Z",
     "iopub.status.idle": "2023-11-21T22:43:34.321419Z",
     "shell.execute_reply": "2023-11-21T22:43:34.320456Z"
    },
    "papermill": {
     "duration": 0.657262,
     "end_time": "2023-11-21T22:43:34.323065",
     "exception": false,
     "start_time": "2023-11-21T22:43:33.665803",
     "status": "completed"
    },
    "tags": []
   },
   "outputs": [
    {
     "name": "stderr",
     "output_type": "stream",
     "text": [
      "\r",
      "Applying noise:   0%|                                                                                                                                                                                                                                | 0/14 [00:00<?, ?type/s]"
     ]
    },
    {
     "name": "stderr",
     "output_type": "stream",
     "text": [
      "\r",
      "Applying noise:  29%|█████████████████████████████████████████████████████████████▋                                                                                                                                                          | 4/14 [00:00<00:00, 27.33type/s]"
     ]
    },
    {
     "name": "stderr",
     "output_type": "stream",
     "text": [
      "\r",
      "Applying noise:  86%|████████████████████████████████████████████████████████████████████████████████████████████████████████████████████████████████████████████████████████████████████████████████████████▎                              | 12/14 [00:00<00:00, 46.16type/s]"
     ]
    },
    {
     "name": "stderr",
     "output_type": "stream",
     "text": [
      "\r",
      "                                                                                                                                                                                                                                                                              "
     ]
    },
    {
     "name": "stderr",
     "output_type": "stream",
     "text": [
      "\r"
     ]
    },
    {
     "name": "stdout",
     "output_type": "stream",
     "text": [
      "CPU times: user 619 ms, sys: 16 ms, total: 636 ms\n",
      "Wall time: 638 ms\n"
     ]
    }
   ],
   "source": [
    "%%time\n",
    "\n",
    "simulated_census_2030 = psp.generate_decennial_census(\n",
    "    year=2030,\n",
    "    **psp_kwargs,\n",
    ")\n",
    "remove_path(str(Path(output_dir) / f\"simulated_census_2030.parquet\"))\n",
    "simulated_census_2030.to_parquet(str(Path(output_dir) / f\"simulated_census_2030.parquet\"))"
   ]
  },
  {
   "cell_type": "code",
   "execution_count": 22,
   "id": "43c6bfe1-d95c-4774-8a1b-e477f258fca6",
   "metadata": {
    "execution": {
     "iopub.execute_input": "2023-11-21T22:43:34.348626Z",
     "iopub.status.busy": "2023-11-21T22:43:34.348245Z",
     "iopub.status.idle": "2023-11-21T22:43:34.486742Z",
     "shell.execute_reply": "2023-11-21T22:43:34.484374Z"
    },
    "papermill": {
     "duration": 0.156698,
     "end_time": "2023-11-21T22:43:34.492021",
     "exception": false,
     "start_time": "2023-11-21T22:43:34.335323",
     "status": "completed"
    },
    "tags": []
   },
   "outputs": [
    {
     "name": "stdout",
     "output_type": "stream",
     "text": [
      "Tue Nov 21 14:43:34 PST 2023\r\n"
     ]
    }
   ],
   "source": [
    "! date"
   ]
  },
  {
   "cell_type": "code",
   "execution_count": null,
   "id": "ac19c70b-36c9-486f-9e65-6a32ca876ad7",
   "metadata": {
    "papermill": {
     "duration": 0.012084,
     "end_time": "2023-11-21T22:43:34.521996",
     "exception": false,
     "start_time": "2023-11-21T22:43:34.509912",
     "status": "completed"
    },
    "tags": []
   },
   "outputs": [],
   "source": []
  }
 ],
 "metadata": {
  "kernelspec": {
   "display_name": "generate_simulated_data_3",
   "language": "python",
   "name": "generate_simulated_data_3"
  },
  "language_info": {
   "codemirror_mode": {
    "name": "ipython",
    "version": 3
   },
   "file_extension": ".py",
   "mimetype": "text/x-python",
   "name": "python",
   "nbconvert_exporter": "python",
   "pygments_lexer": "ipython3",
   "version": "3.10.13"
  },
  "papermill": {
   "default_parameters": {},
   "duration": 18.143119,
   "end_time": "2023-11-21T22:43:35.155865",
   "environment_variables": {},
   "exception": null,
   "input_path": "generate_pseudopeople_simulated_datasets.ipynb",
   "output_path": "generate_pseudopeople_simulated_datasets_small_sample.ipynb",
   "parameters": {
    "data_to_use": "small_sample"
   },
   "start_time": "2023-11-21T22:43:17.012746",
   "version": "2.5.0"
  }
 },
 "nbformat": 4,
 "nbformat_minor": 5
}