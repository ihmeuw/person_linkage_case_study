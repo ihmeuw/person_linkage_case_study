{
 "cells": [
  {
   "cell_type": "markdown",
   "id": "6f802687-416a-4b38-82d3-ab387dc16c38",
   "metadata": {
    "papermill": {
     "duration": 0.014114,
     "end_time": "2024-05-13T22:47:52.556002",
     "exception": false,
     "start_time": "2024-05-13T22:47:52.541888",
     "status": "completed"
    },
    "tags": []
   },
   "source": [
    "# Generate pseudopeople simulated datasets\n",
    "\n",
    "The very first step is generating pseudopeople data that will be used both directly in the case study, and to create the reference files.\n",
    "Since this is an intensive operation and currently can only be distributed with Modin, we do only this step in this notebook, then\n",
    "save the results."
   ]
  },
  {
   "cell_type": "code",
   "execution_count": 1,
   "id": "6a821e3e-9ae1-466d-b24f-66d1b0703a92",
   "metadata": {
    "execution": {
     "iopub.execute_input": "2024-05-13T22:47:52.576568Z",
     "iopub.status.busy": "2024-05-13T22:47:52.575888Z",
     "iopub.status.idle": "2024-05-13T22:48:04.257681Z",
     "shell.execute_reply": "2024-05-13T22:48:04.255641Z"
    },
    "papermill": {
     "duration": 11.696406,
     "end_time": "2024-05-13T22:48:04.262288",
     "exception": false,
     "start_time": "2024-05-13T22:47:52.565882",
     "status": "completed"
    },
    "tags": []
   },
   "outputs": [],
   "source": [
    "import warnings\n",
    "import pseudopeople as psp\n",
    "import numpy as np\n",
    "import os, shutil\n",
    "import logging\n",
    "from pathlib import Path\n",
    "# Importing pandas for access, regardless of whether we are using it as the compute engine\n",
    "import pandas"
   ]
  },
  {
   "cell_type": "code",
   "execution_count": 2,
   "id": "57d8bb5e-1f72-4db1-9d64-a7758e7ba087",
   "metadata": {
    "execution": {
     "iopub.execute_input": "2024-05-13T22:48:04.289660Z",
     "iopub.status.busy": "2024-05-13T22:48:04.288754Z",
     "iopub.status.idle": "2024-05-13T22:48:05.790924Z",
     "shell.execute_reply": "2024-05-13T22:48:05.788833Z"
    },
    "papermill": {
     "duration": 1.517832,
     "end_time": "2024-05-13T22:48:05.795109",
     "exception": false,
     "start_time": "2024-05-13T22:48:04.277277",
     "status": "completed"
    },
    "tags": []
   },
   "outputs": [],
   "source": [
    "%load_ext autoreload\n",
    "%autoreload 1"
   ]
  },
  {
   "cell_type": "code",
   "execution_count": 3,
   "id": "fdf1e371-a255-4ed0-86d0-fde6cabbc49f",
   "metadata": {
    "execution": {
     "iopub.execute_input": "2024-05-13T22:48:05.819746Z",
     "iopub.status.busy": "2024-05-13T22:48:05.819068Z",
     "iopub.status.idle": "2024-05-13T22:48:06.018278Z",
     "shell.execute_reply": "2024-05-13T22:48:06.016179Z"
    },
    "papermill": {
     "duration": 0.213955,
     "end_time": "2024-05-13T22:48:06.022369",
     "exception": false,
     "start_time": "2024-05-13T22:48:05.808414",
     "status": "completed"
    },
    "tags": []
   },
   "outputs": [],
   "source": [
    "from vivarium_research_prl import distributed_compute, utils"
   ]
  },
  {
   "cell_type": "code",
   "execution_count": 4,
   "id": "cc4546dc-f329-48b7-9988-5d25991939f0",
   "metadata": {
    "execution": {
     "iopub.execute_input": "2024-05-13T22:48:06.046492Z",
     "iopub.status.busy": "2024-05-13T22:48:06.046069Z",
     "iopub.status.idle": "2024-05-13T22:48:06.053852Z",
     "shell.execute_reply": "2024-05-13T22:48:06.051843Z"
    },
    "papermill": {
     "duration": 0.020064,
     "end_time": "2024-05-13T22:48:06.056069",
     "exception": false,
     "start_time": "2024-05-13T22:48:06.036005",
     "status": "completed"
    },
    "tags": []
   },
   "outputs": [],
   "source": [
    "warnings.simplefilter(action='ignore', category=FutureWarning)"
   ]
  },
  {
   "cell_type": "code",
   "execution_count": 5,
   "id": "7ac996f3-1270-4211-a829-728e3b2ba6f7",
   "metadata": {
    "editable": true,
    "execution": {
     "iopub.execute_input": "2024-05-13T22:48:06.074375Z",
     "iopub.status.busy": "2024-05-13T22:48:06.073730Z",
     "iopub.status.idle": "2024-05-13T22:48:06.084523Z",
     "shell.execute_reply": "2024-05-13T22:48:06.082343Z"
    },
    "papermill": {
     "duration": 0.022712,
     "end_time": "2024-05-13T22:48:06.087026",
     "exception": false,
     "start_time": "2024-05-13T22:48:06.064314",
     "status": "completed"
    },
    "slideshow": {
     "slide_type": ""
    },
    "tags": [
     "parameters"
    ]
   },
   "outputs": [],
   "source": [
    "# DO NOT EDIT if this notebook is not called generate_pseudopeople_simulated_datasets.ipynb!\n",
    "# This notebook is designed to be run with papermill; this cell is tagged 'parameters'\n",
    "# When you run this, save it to another filename.\n",
    "data_to_use = 'small_sample'\n",
    "output_dir = '../output/generate_simulated_data'\n",
    "compute_engine = 'pandas'\n",
    "# Only matter if distributing\n",
    "num_jobs = 5\n",
    "cpus_per_job = 2\n",
    "threads_per_job = 1\n",
    "memory_per_job = \"10GB\"\n",
    "very_noisy = True\n",
    "pseudopeople_seed = 0\n",
    "local_directory = f\"/tmp/{os.environ['USER']}_dask\""
   ]
  },
  {
   "cell_type": "code",
   "execution_count": 6,
   "id": "73c05dea-d01e-4ca6-bb3c-b3ddea03eb68",
   "metadata": {
    "execution": {
     "iopub.execute_input": "2024-05-13T22:48:06.106443Z",
     "iopub.status.busy": "2024-05-13T22:48:06.105806Z",
     "iopub.status.idle": "2024-05-13T22:48:06.115033Z",
     "shell.execute_reply": "2024-05-13T22:48:06.113134Z"
    },
    "papermill": {
     "duration": 0.021396,
     "end_time": "2024-05-13T22:48:06.117606",
     "exception": false,
     "start_time": "2024-05-13T22:48:06.096210",
     "status": "completed"
    },
    "tags": []
   },
   "outputs": [],
   "source": [
    "utils.ensure_empty(local_directory)"
   ]
  },
  {
   "cell_type": "code",
   "execution_count": 7,
   "id": "d23e90be-2f7f-46db-ae17-a3dae23b7a4a",
   "metadata": {
    "execution": {
     "iopub.execute_input": "2024-05-13T22:48:06.136709Z",
     "iopub.status.busy": "2024-05-13T22:48:06.136034Z",
     "iopub.status.idle": "2024-05-13T22:48:06.213468Z",
     "shell.execute_reply": "2024-05-13T22:48:06.211205Z"
    },
    "papermill": {
     "duration": 0.092064,
     "end_time": "2024-05-13T22:48:06.217574",
     "exception": false,
     "start_time": "2024-05-13T22:48:06.125510",
     "status": "completed"
    },
    "tags": []
   },
   "outputs": [],
   "source": [
    "output_dir = str(Path(output_dir) / data_to_use / \"pseudopeople_simulated_datasets\")\n",
    "utils.ensure_empty(output_dir)"
   ]
  },
  {
   "cell_type": "code",
   "execution_count": 8,
   "id": "7c907a06-99bc-4d30-a46c-bd25e3318c01",
   "metadata": {
    "execution": {
     "iopub.execute_input": "2024-05-13T22:48:06.242106Z",
     "iopub.status.busy": "2024-05-13T22:48:06.241455Z",
     "iopub.status.idle": "2024-05-13T22:48:06.251164Z",
     "shell.execute_reply": "2024-05-13T22:48:06.248924Z"
    },
    "papermill": {
     "duration": 0.022164,
     "end_time": "2024-05-13T22:48:06.253451",
     "exception": false,
     "start_time": "2024-05-13T22:48:06.231287",
     "status": "completed"
    },
    "tags": []
   },
   "outputs": [],
   "source": [
    "df_ops, pd = distributed_compute.start_compute_engine(\n",
    "    compute_engine,\n",
    "    num_jobs=num_jobs,\n",
    "    cpus_per_job=cpus_per_job,\n",
    "    threads_per_job=threads_per_job,\n",
    "    memory_per_job=memory_per_job,\n",
    "    local_directory=local_directory,\n",
    ")"
   ]
  },
  {
   "cell_type": "code",
   "execution_count": 9,
   "id": "79ff29f5-473d-4dab-9e7f-453f284ad8d8",
   "metadata": {
    "execution": {
     "iopub.execute_input": "2024-05-13T22:48:06.273632Z",
     "iopub.status.busy": "2024-05-13T22:48:06.272989Z",
     "iopub.status.idle": "2024-05-13T22:48:06.494409Z",
     "shell.execute_reply": "2024-05-13T22:48:06.492048Z"
    },
    "papermill": {
     "duration": 0.235736,
     "end_time": "2024-05-13T22:48:06.498441",
     "exception": false,
     "start_time": "2024-05-13T22:48:06.262705",
     "status": "completed"
    },
    "tags": []
   },
   "outputs": [
    {
     "name": "stdout",
     "output_type": "stream",
     "text": [
      "Mon May 13 15:48:06 PDT 2024\r\n"
     ]
    }
   ],
   "source": [
    "! date"
   ]
  },
  {
   "cell_type": "code",
   "execution_count": 10,
   "id": "41e6be4e-a9b4-47c3-ae1a-f6e7d2c9dc6c",
   "metadata": {
    "execution": {
     "iopub.execute_input": "2024-05-13T22:48:06.523742Z",
     "iopub.status.busy": "2024-05-13T22:48:06.523066Z",
     "iopub.status.idle": "2024-05-13T22:48:06.540191Z",
     "shell.execute_reply": "2024-05-13T22:48:06.538314Z"
    },
    "papermill": {
     "duration": 0.030353,
     "end_time": "2024-05-13T22:48:06.542829",
     "exception": false,
     "start_time": "2024-05-13T22:48:06.512476",
     "status": "completed"
    },
    "tags": []
   },
   "outputs": [
    {
     "data": {
      "text/plain": [
       "'1.0.1.dev20+g07b85e8'"
      ]
     },
     "execution_count": 10,
     "metadata": {},
     "output_type": "execute_result"
    }
   ],
   "source": [
    "psp.__version__"
   ]
  },
  {
   "cell_type": "markdown",
   "id": "8a08bfa0-f644-4faa-b303-ef24d9a32b86",
   "metadata": {
    "papermill": {
     "duration": 0.008142,
     "end_time": "2024-05-13T22:48:06.561824",
     "exception": false,
     "start_time": "2024-05-13T22:48:06.553682",
     "status": "completed"
    },
    "tags": []
   },
   "source": [
    "## Load simulated data"
   ]
  },
  {
   "cell_type": "code",
   "execution_count": 11,
   "id": "8abfcc66-502c-45f1-a269-d0c60fa5f0c9",
   "metadata": {
    "execution": {
     "iopub.execute_input": "2024-05-13T22:48:06.580565Z",
     "iopub.status.busy": "2024-05-13T22:48:06.579883Z",
     "iopub.status.idle": "2024-05-13T22:48:06.590035Z",
     "shell.execute_reply": "2024-05-13T22:48:06.587935Z"
    },
    "papermill": {
     "duration": 0.023121,
     "end_time": "2024-05-13T22:48:06.592662",
     "exception": false,
     "start_time": "2024-05-13T22:48:06.569541",
     "status": "completed"
    },
    "tags": []
   },
   "outputs": [],
   "source": [
    "if data_to_use == 'small_sample':\n",
    "    pseudopeople_input_dir = None\n",
    "elif data_to_use == 'ri':\n",
    "    pseudopeople_input_dir = '/mnt/team/simulation_science/pub/models/vivarium_census_prl_synth_pop/results/release_02_yellow/full_data/united_states_of_america/2023_08_21_16_35_27/final_results/2023_08_31_15_58_01/states/pseudopeople_simulated_population_rhode_island_2_0_0/'\n",
    "elif data_to_use == 'usa':\n",
    "    pseudopeople_input_dir = '/mnt/team/simulation_science/pub/models/vivarium_census_prl_synth_pop/results/release_02_yellow/full_data/united_states_of_america/2023_08_21_16_35_27/final_results/2023_08_31_15_58_01/pseudopeople_simulated_population_usa_2_0_0/'\n",
    "else:\n",
    "    raise ValueError()"
   ]
  },
  {
   "cell_type": "code",
   "execution_count": 12,
   "id": "cc05826f-98d7-4dac-adf9-8d9f80809811",
   "metadata": {
    "execution": {
     "iopub.execute_input": "2024-05-13T22:48:06.613680Z",
     "iopub.status.busy": "2024-05-13T22:48:06.613019Z",
     "iopub.status.idle": "2024-05-13T22:48:06.623093Z",
     "shell.execute_reply": "2024-05-13T22:48:06.621225Z"
    },
    "papermill": {
     "duration": 0.022779,
     "end_time": "2024-05-13T22:48:06.625531",
     "exception": false,
     "start_time": "2024-05-13T22:48:06.602752",
     "status": "completed"
    },
    "tags": []
   },
   "outputs": [],
   "source": [
    "psp_kwargs = {\n",
    "    'source': pseudopeople_input_dir,\n",
    "    'seed': pseudopeople_seed,\n",
    "}\n",
    "if compute_engine.startswith('modin'):\n",
    "    psp_kwargs['engine'] = 'modin'\n",
    "if compute_engine.startswith('dask'):\n",
    "    psp_kwargs['engine'] = 'dask'"
   ]
  },
  {
   "cell_type": "markdown",
   "id": "02bd7b4d-645d-4dca-94ae-ee1780048aa0",
   "metadata": {
    "papermill": {
     "duration": 0.007897,
     "end_time": "2024-05-13T22:48:06.643878",
     "exception": false,
     "start_time": "2024-05-13T22:48:06.635981",
     "status": "completed"
    },
    "tags": []
   },
   "source": [
    "### Noise configuration\n",
    "\n",
    "In order to give ourselves more of a challenge, we significantly increase the amount of noise\n",
    "from the pseudopeople defaults."
   ]
  },
  {
   "cell_type": "code",
   "execution_count": 13,
   "id": "9dbb002e-8468-4885-a4b5-52fdb75ce7c0",
   "metadata": {
    "execution": {
     "iopub.execute_input": "2024-05-13T22:48:06.662661Z",
     "iopub.status.busy": "2024-05-13T22:48:06.662019Z",
     "iopub.status.idle": "2024-05-13T22:48:06.680485Z",
     "shell.execute_reply": "2024-05-13T22:48:06.678518Z"
    },
    "papermill": {
     "duration": 0.030645,
     "end_time": "2024-05-13T22:48:06.682804",
     "exception": false,
     "start_time": "2024-05-13T22:48:06.652159",
     "status": "completed"
    },
    "tags": []
   },
   "outputs": [],
   "source": [
    "default_configuration = psp.get_config()"
   ]
  },
  {
   "cell_type": "code",
   "execution_count": 14,
   "id": "a42207b2-5f2b-40c1-82d8-4d6ca36fe4c4",
   "metadata": {
    "execution": {
     "iopub.execute_input": "2024-05-13T22:48:06.704673Z",
     "iopub.status.busy": "2024-05-13T22:48:06.704215Z",
     "iopub.status.idle": "2024-05-13T22:48:06.715917Z",
     "shell.execute_reply": "2024-05-13T22:48:06.713730Z"
    },
    "papermill": {
     "duration": 0.024111,
     "end_time": "2024-05-13T22:48:06.718038",
     "exception": false,
     "start_time": "2024-05-13T22:48:06.693927",
     "status": "completed"
    },
    "tags": []
   },
   "outputs": [],
   "source": [
    "# Helper functions for changing the default configuration according to a pattern\n",
    "def column_noise_value(dataset, column, noise_type, default_value):\n",
    "    if very_noisy and dataset in ('decennial_census', 'taxes_w2_and_1099', 'social_security'):\n",
    "        if noise_type == \"make_typos\":\n",
    "            if column == \"middle_initial\":\n",
    "                # 5% of middle initials (which are all a single token anyway) are wrong.\n",
    "                return {\"cell_probability\": 0.05, \"token_probability\": 1}\n",
    "            elif column in (\"first_name\", \"last_name\", \"street_name\"):\n",
    "                # 10% of these text columns were entered carelessly, at a rate of 1 error\n",
    "                # per 10 characters.\n",
    "                # The pseudopeople default is 1% careless.\n",
    "                return {\"cell_probability\": 0.1, \"token_probability\": 0.1}\n",
    "        elif noise_type == \"write_wrong_digits\" and (dataset != \"social_security\" or column != \"ssn\"):\n",
    "            # 10% of number columns were written carelessly, at a rate of 1 error\n",
    "            # per 10 characters.\n",
    "            # The pseudopeople default is 1% careless.\n",
    "            # Note that this is applied on top of (the default lower levels of) typos,\n",
    "            # since typos also apply to numeric characters.\n",
    "            # We never introduce error on the SSN in the SSA dataset\n",
    "            return {\"cell_probability\": 0.1, \"token_probability\": 0.1}\n",
    "\n",
    "    return default_value\n",
    "\n",
    "\n",
    "def row_noise_value(dataset, noise_type, default_value):\n",
    "    return default_value"
   ]
  },
  {
   "cell_type": "code",
   "execution_count": 15,
   "id": "e7c9dd19-eac0-455f-9af3-7bc7bc3029e0",
   "metadata": {
    "execution": {
     "iopub.execute_input": "2024-05-13T22:48:06.737199Z",
     "iopub.status.busy": "2024-05-13T22:48:06.736822Z",
     "iopub.status.idle": "2024-05-13T22:48:06.747996Z",
     "shell.execute_reply": "2024-05-13T22:48:06.746264Z"
    },
    "papermill": {
     "duration": 0.022242,
     "end_time": "2024-05-13T22:48:06.750044",
     "exception": false,
     "start_time": "2024-05-13T22:48:06.727802",
     "status": "completed"
    },
    "tags": []
   },
   "outputs": [],
   "source": [
    "custom_configuration = {\n",
    "    dataset: {\n",
    "        noise_category: (\n",
    "            ({\n",
    "                column: {\n",
    "                    noise_type: column_noise_value(dataset, column, noise_type, noise_type_config)\n",
    "                    for noise_type, noise_type_config in column_config.items()\n",
    "                }\n",
    "                for column, column_config in noise_category_config.items()\n",
    "            }\n",
    "            if noise_category == \"column_noise\" else\n",
    "            {\n",
    "                noise_type: row_noise_value(dataset, noise_type, noise_type_config)\n",
    "                for noise_type, noise_type_config in noise_category_config.items()\n",
    "            })\n",
    "        )\n",
    "        for noise_category, noise_category_config in dataset_config.items()\n",
    "    }\n",
    "    for dataset, dataset_config in default_configuration.items()\n",
    "}"
   ]
  },
  {
   "cell_type": "code",
   "execution_count": 16,
   "id": "e8056884-bb09-475b-9499-56ba79b96c6a",
   "metadata": {
    "execution": {
     "iopub.execute_input": "2024-05-13T22:48:06.769308Z",
     "iopub.status.busy": "2024-05-13T22:48:06.768768Z",
     "iopub.status.idle": "2024-05-13T22:48:06.776804Z",
     "shell.execute_reply": "2024-05-13T22:48:06.774936Z"
    },
    "papermill": {
     "duration": 0.020294,
     "end_time": "2024-05-13T22:48:06.778875",
     "exception": false,
     "start_time": "2024-05-13T22:48:06.758581",
     "status": "completed"
    },
    "tags": []
   },
   "outputs": [],
   "source": [
    "psp_kwargs['config'] = custom_configuration"
   ]
  },
  {
   "cell_type": "markdown",
   "id": "5fe8e46b-f936-4704-b120-9bbcbce6c3e9",
   "metadata": {
    "papermill": {
     "duration": 0.008289,
     "end_time": "2024-05-13T22:48:06.795760",
     "exception": false,
     "start_time": "2024-05-13T22:48:06.787471",
     "status": "completed"
    },
    "tags": []
   },
   "source": [
    "### Simulated 1040 tax filings\n",
    "\n",
    "We assume that the last 5 years of taxes would be available and used in the construction of the reference files -- see section about reference files below.\n",
    "\n",
    "Note that these are retrieved by *tax* year, so the 2029 taxes would be available in early 2030\n",
    "(around when our hypothetical case study is taking place)."
   ]
  },
  {
   "cell_type": "code",
   "execution_count": 17,
   "id": "8157a22b-45f3-4fc1-803e-4670a554b23f",
   "metadata": {
    "execution": {
     "iopub.execute_input": "2024-05-13T22:48:06.814589Z",
     "iopub.status.busy": "2024-05-13T22:48:06.813940Z",
     "iopub.status.idle": "2024-05-13T22:48:06.826342Z",
     "shell.execute_reply": "2024-05-13T22:48:06.824315Z"
    },
    "papermill": {
     "duration": 0.024787,
     "end_time": "2024-05-13T22:48:06.828623",
     "exception": false,
     "start_time": "2024-05-13T22:48:06.803836",
     "status": "completed"
    },
    "tags": []
   },
   "outputs": [
    {
     "data": {
      "text/plain": [
       "[2025, 2026, 2027, 2028, 2029]"
      ]
     },
     "execution_count": 17,
     "metadata": {},
     "output_type": "execute_result"
    }
   ],
   "source": [
    "tax_years = list(range(2025, 2030))\n",
    "tax_years"
   ]
  },
  {
   "cell_type": "code",
   "execution_count": 18,
   "id": "5b600fee-3aeb-474a-b4e2-9099aec164be",
   "metadata": {
    "execution": {
     "iopub.execute_input": "2024-05-13T22:48:06.850795Z",
     "iopub.status.busy": "2024-05-13T22:48:06.850159Z",
     "iopub.status.idle": "2024-05-13T22:48:06.884482Z",
     "shell.execute_reply": "2024-05-13T22:48:06.882703Z"
    },
    "papermill": {
     "duration": 0.048957,
     "end_time": "2024-05-13T22:48:06.888320",
     "exception": false,
     "start_time": "2024-05-13T22:48:06.839363",
     "status": "completed"
    },
    "tags": []
   },
   "outputs": [
    {
     "data": {
      "text/plain": [
       "{'source': None,\n",
       " 'seed': 0,\n",
       " 'config': {'decennial_census': {'row_noise': {'do_not_respond': {'row_probability': 0.0145},\n",
       "    'omit_row': {'row_probability': 0.0},\n",
       "    'duplicate_with_guardian': {'row_probability_in_households_under_18': 0.02,\n",
       "     'row_probability_in_college_group_quarters_under_24': 0.05}},\n",
       "   'column_noise': {'first_name': {'leave_blank': {'cell_probability': 0.01},\n",
       "     'use_nickname': {'cell_probability': 0.01},\n",
       "     'use_fake_name': {'cell_probability': 0.01},\n",
       "     'make_phonetic_errors': {'cell_probability': 0.01,\n",
       "      'token_probability': 0.1},\n",
       "     'make_ocr_errors': {'cell_probability': 0.01, 'token_probability': 0.1},\n",
       "     'make_typos': {'cell_probability': 0.1, 'token_probability': 0.1}},\n",
       "    'middle_initial': {'leave_blank': {'cell_probability': 0.01},\n",
       "     'make_phonetic_errors': {'cell_probability': 0.01,\n",
       "      'token_probability': 0.1},\n",
       "     'make_ocr_errors': {'cell_probability': 0.01, 'token_probability': 0.1},\n",
       "     'make_typos': {'cell_probability': 0.05, 'token_probability': 1}},\n",
       "    'last_name': {'leave_blank': {'cell_probability': 0.01},\n",
       "     'use_fake_name': {'cell_probability': 0.01},\n",
       "     'make_phonetic_errors': {'cell_probability': 0.01,\n",
       "      'token_probability': 0.1},\n",
       "     'make_ocr_errors': {'cell_probability': 0.01, 'token_probability': 0.1},\n",
       "     'make_typos': {'cell_probability': 0.1, 'token_probability': 0.1}},\n",
       "    'age': {'leave_blank': {'cell_probability': 0.01},\n",
       "     'copy_from_household_member': {'cell_probability': 0.01},\n",
       "     'misreport_age': {'cell_probability': 0.01,\n",
       "      'possible_age_differences': {-2: 0.1, -1: 0.4, 1: 0.4, 2: 0.1}},\n",
       "     'make_ocr_errors': {'cell_probability': 0.01, 'token_probability': 0.1},\n",
       "     'make_typos': {'cell_probability': 0.01, 'token_probability': 0.1},\n",
       "     'write_wrong_digits': {'cell_probability': 0.1,\n",
       "      'token_probability': 0.1}},\n",
       "    'date_of_birth': {'leave_blank': {'cell_probability': 0.01},\n",
       "     'copy_from_household_member': {'cell_probability': 0.01},\n",
       "     'swap_month_and_day': {'cell_probability': 0.01},\n",
       "     'write_wrong_digits': {'cell_probability': 0.1, 'token_probability': 0.1},\n",
       "     'make_ocr_errors': {'cell_probability': 0.01, 'token_probability': 0.1},\n",
       "     'make_typos': {'cell_probability': 0.01, 'token_probability': 0.1}},\n",
       "    'street_number': {'leave_blank': {'cell_probability': 0.01},\n",
       "     'write_wrong_digits': {'cell_probability': 0.1, 'token_probability': 0.1},\n",
       "     'make_ocr_errors': {'cell_probability': 0.01, 'token_probability': 0.1},\n",
       "     'make_typos': {'cell_probability': 0.01, 'token_probability': 0.1}},\n",
       "    'street_name': {'leave_blank': {'cell_probability': 0.01},\n",
       "     'make_phonetic_errors': {'cell_probability': 0.01,\n",
       "      'token_probability': 0.1},\n",
       "     'make_ocr_errors': {'cell_probability': 0.01, 'token_probability': 0.1},\n",
       "     'make_typos': {'cell_probability': 0.1, 'token_probability': 0.1}},\n",
       "    'unit_number': {'leave_blank': {'cell_probability': 0.01},\n",
       "     'write_wrong_digits': {'cell_probability': 0.1, 'token_probability': 0.1},\n",
       "     'make_ocr_errors': {'cell_probability': 0.01, 'token_probability': 0.1},\n",
       "     'make_typos': {'cell_probability': 0.01, 'token_probability': 0.1}},\n",
       "    'city': {'leave_blank': {'cell_probability': 0.01},\n",
       "     'make_phonetic_errors': {'cell_probability': 0.01,\n",
       "      'token_probability': 0.1},\n",
       "     'make_ocr_errors': {'cell_probability': 0.01, 'token_probability': 0.1},\n",
       "     'make_typos': {'cell_probability': 0.01, 'token_probability': 0.1}},\n",
       "    'state': {'leave_blank': {'cell_probability': 0.01},\n",
       "     'choose_wrong_option': {'cell_probability': 0.01}},\n",
       "    'zipcode': {'leave_blank': {'cell_probability': 0.01},\n",
       "     'write_wrong_zipcode_digits': {'cell_probability': 0.01,\n",
       "      'digit_probabilities': [0.04, 0.04, 0.2, 0.36, 0.36]},\n",
       "     'make_ocr_errors': {'cell_probability': 0.01, 'token_probability': 0.1},\n",
       "     'make_typos': {'cell_probability': 0.01, 'token_probability': 0.1}},\n",
       "    'housing_type': {'leave_blank': {'cell_probability': 0.01},\n",
       "     'choose_wrong_option': {'cell_probability': 0.01}},\n",
       "    'relationship_to_reference_person': {'leave_blank': {'cell_probability': 0.01},\n",
       "     'choose_wrong_option': {'cell_probability': 0.01}},\n",
       "    'sex': {'leave_blank': {'cell_probability': 0.01},\n",
       "     'choose_wrong_option': {'cell_probability': 0.01}},\n",
       "    'race_ethnicity': {'leave_blank': {'cell_probability': 0.01},\n",
       "     'choose_wrong_option': {'cell_probability': 0.01}}}},\n",
       "  'american_community_survey': {'row_noise': {'do_not_respond': {'row_probability': 0.0145},\n",
       "    'omit_row': {'row_probability': 0.0}},\n",
       "   'column_noise': {'first_name': {'leave_blank': {'cell_probability': 0.01},\n",
       "     'use_nickname': {'cell_probability': 0.01},\n",
       "     'use_fake_name': {'cell_probability': 0.01},\n",
       "     'make_phonetic_errors': {'cell_probability': 0.01,\n",
       "      'token_probability': 0.1},\n",
       "     'make_ocr_errors': {'cell_probability': 0.01, 'token_probability': 0.1},\n",
       "     'make_typos': {'cell_probability': 0.01, 'token_probability': 0.1}},\n",
       "    'middle_initial': {'leave_blank': {'cell_probability': 0.01},\n",
       "     'make_phonetic_errors': {'cell_probability': 0.01,\n",
       "      'token_probability': 0.1},\n",
       "     'make_ocr_errors': {'cell_probability': 0.01, 'token_probability': 0.1},\n",
       "     'make_typos': {'cell_probability': 0.01, 'token_probability': 0.1}},\n",
       "    'last_name': {'leave_blank': {'cell_probability': 0.01},\n",
       "     'use_fake_name': {'cell_probability': 0.01},\n",
       "     'make_phonetic_errors': {'cell_probability': 0.01,\n",
       "      'token_probability': 0.1},\n",
       "     'make_ocr_errors': {'cell_probability': 0.01, 'token_probability': 0.1},\n",
       "     'make_typos': {'cell_probability': 0.01, 'token_probability': 0.1}},\n",
       "    'age': {'leave_blank': {'cell_probability': 0.01},\n",
       "     'copy_from_household_member': {'cell_probability': 0.01},\n",
       "     'misreport_age': {'cell_probability': 0.01,\n",
       "      'possible_age_differences': {-2: 0.1, -1: 0.4, 1: 0.4, 2: 0.1}},\n",
       "     'make_ocr_errors': {'cell_probability': 0.01, 'token_probability': 0.1},\n",
       "     'make_typos': {'cell_probability': 0.01, 'token_probability': 0.1},\n",
       "     'write_wrong_digits': {'cell_probability': 0.01,\n",
       "      'token_probability': 0.1}},\n",
       "    'date_of_birth': {'leave_blank': {'cell_probability': 0.01},\n",
       "     'copy_from_household_member': {'cell_probability': 0.01},\n",
       "     'swap_month_and_day': {'cell_probability': 0.01},\n",
       "     'write_wrong_digits': {'cell_probability': 0.01,\n",
       "      'token_probability': 0.1},\n",
       "     'make_ocr_errors': {'cell_probability': 0.01, 'token_probability': 0.1},\n",
       "     'make_typos': {'cell_probability': 0.01, 'token_probability': 0.1}},\n",
       "    'street_number': {'leave_blank': {'cell_probability': 0.01},\n",
       "     'write_wrong_digits': {'cell_probability': 0.01,\n",
       "      'token_probability': 0.1},\n",
       "     'make_ocr_errors': {'cell_probability': 0.01, 'token_probability': 0.1},\n",
       "     'make_typos': {'cell_probability': 0.01, 'token_probability': 0.1}},\n",
       "    'street_name': {'leave_blank': {'cell_probability': 0.01},\n",
       "     'make_phonetic_errors': {'cell_probability': 0.01,\n",
       "      'token_probability': 0.1},\n",
       "     'make_ocr_errors': {'cell_probability': 0.01, 'token_probability': 0.1},\n",
       "     'make_typos': {'cell_probability': 0.01, 'token_probability': 0.1}},\n",
       "    'unit_number': {'leave_blank': {'cell_probability': 0.01},\n",
       "     'write_wrong_digits': {'cell_probability': 0.01,\n",
       "      'token_probability': 0.1},\n",
       "     'make_ocr_errors': {'cell_probability': 0.01, 'token_probability': 0.1},\n",
       "     'make_typos': {'cell_probability': 0.01, 'token_probability': 0.1}},\n",
       "    'city': {'leave_blank': {'cell_probability': 0.01},\n",
       "     'make_phonetic_errors': {'cell_probability': 0.01,\n",
       "      'token_probability': 0.1},\n",
       "     'make_ocr_errors': {'cell_probability': 0.01, 'token_probability': 0.1},\n",
       "     'make_typos': {'cell_probability': 0.01, 'token_probability': 0.1}},\n",
       "    'state': {'leave_blank': {'cell_probability': 0.01},\n",
       "     'choose_wrong_option': {'cell_probability': 0.01}},\n",
       "    'zipcode': {'leave_blank': {'cell_probability': 0.01},\n",
       "     'write_wrong_zipcode_digits': {'cell_probability': 0.01,\n",
       "      'digit_probabilities': [0.04, 0.04, 0.2, 0.36, 0.36]},\n",
       "     'make_ocr_errors': {'cell_probability': 0.01, 'token_probability': 0.1},\n",
       "     'make_typos': {'cell_probability': 0.01, 'token_probability': 0.1}},\n",
       "    'housing_type': {'leave_blank': {'cell_probability': 0.01},\n",
       "     'choose_wrong_option': {'cell_probability': 0.01}},\n",
       "    'relationship_to_reference_person': {'leave_blank': {'cell_probability': 0.01},\n",
       "     'choose_wrong_option': {'cell_probability': 0.01}},\n",
       "    'sex': {'leave_blank': {'cell_probability': 0.01},\n",
       "     'choose_wrong_option': {'cell_probability': 0.01}},\n",
       "    'race_ethnicity': {'leave_blank': {'cell_probability': 0.01},\n",
       "     'choose_wrong_option': {'cell_probability': 0.01}}}},\n",
       "  'current_population_survey': {'row_noise': {'do_not_respond': {'row_probability': 0.2905},\n",
       "    'omit_row': {'row_probability': 0.0}},\n",
       "   'column_noise': {'first_name': {'leave_blank': {'cell_probability': 0.01},\n",
       "     'use_nickname': {'cell_probability': 0.01},\n",
       "     'use_fake_name': {'cell_probability': 0.01},\n",
       "     'make_phonetic_errors': {'cell_probability': 0.01,\n",
       "      'token_probability': 0.1},\n",
       "     'make_ocr_errors': {'cell_probability': 0.01, 'token_probability': 0.1},\n",
       "     'make_typos': {'cell_probability': 0.01, 'token_probability': 0.1}},\n",
       "    'middle_initial': {'leave_blank': {'cell_probability': 0.01},\n",
       "     'make_phonetic_errors': {'cell_probability': 0.01,\n",
       "      'token_probability': 0.1},\n",
       "     'make_ocr_errors': {'cell_probability': 0.01, 'token_probability': 0.1},\n",
       "     'make_typos': {'cell_probability': 0.01, 'token_probability': 0.1}},\n",
       "    'last_name': {'leave_blank': {'cell_probability': 0.01},\n",
       "     'use_fake_name': {'cell_probability': 0.01},\n",
       "     'make_phonetic_errors': {'cell_probability': 0.01,\n",
       "      'token_probability': 0.1},\n",
       "     'make_ocr_errors': {'cell_probability': 0.01, 'token_probability': 0.1},\n",
       "     'make_typos': {'cell_probability': 0.01, 'token_probability': 0.1}},\n",
       "    'age': {'leave_blank': {'cell_probability': 0.01},\n",
       "     'copy_from_household_member': {'cell_probability': 0.01},\n",
       "     'misreport_age': {'cell_probability': 0.01,\n",
       "      'possible_age_differences': {-2: 0.1, -1: 0.4, 1: 0.4, 2: 0.1}},\n",
       "     'make_ocr_errors': {'cell_probability': 0.01, 'token_probability': 0.1},\n",
       "     'make_typos': {'cell_probability': 0.01, 'token_probability': 0.1},\n",
       "     'write_wrong_digits': {'cell_probability': 0.01,\n",
       "      'token_probability': 0.1}},\n",
       "    'date_of_birth': {'leave_blank': {'cell_probability': 0.01},\n",
       "     'copy_from_household_member': {'cell_probability': 0.01},\n",
       "     'swap_month_and_day': {'cell_probability': 0.01},\n",
       "     'write_wrong_digits': {'cell_probability': 0.01,\n",
       "      'token_probability': 0.1},\n",
       "     'make_ocr_errors': {'cell_probability': 0.01, 'token_probability': 0.1},\n",
       "     'make_typos': {'cell_probability': 0.01, 'token_probability': 0.1}},\n",
       "    'street_number': {'leave_blank': {'cell_probability': 0.01},\n",
       "     'write_wrong_digits': {'cell_probability': 0.01,\n",
       "      'token_probability': 0.1},\n",
       "     'make_ocr_errors': {'cell_probability': 0.01, 'token_probability': 0.1},\n",
       "     'make_typos': {'cell_probability': 0.01, 'token_probability': 0.1}},\n",
       "    'street_name': {'leave_blank': {'cell_probability': 0.01},\n",
       "     'make_phonetic_errors': {'cell_probability': 0.01,\n",
       "      'token_probability': 0.1},\n",
       "     'make_ocr_errors': {'cell_probability': 0.01, 'token_probability': 0.1},\n",
       "     'make_typos': {'cell_probability': 0.01, 'token_probability': 0.1}},\n",
       "    'unit_number': {'leave_blank': {'cell_probability': 0.01},\n",
       "     'write_wrong_digits': {'cell_probability': 0.01,\n",
       "      'token_probability': 0.1},\n",
       "     'make_ocr_errors': {'cell_probability': 0.01, 'token_probability': 0.1},\n",
       "     'make_typos': {'cell_probability': 0.01, 'token_probability': 0.1}},\n",
       "    'city': {'leave_blank': {'cell_probability': 0.01},\n",
       "     'make_phonetic_errors': {'cell_probability': 0.01,\n",
       "      'token_probability': 0.1},\n",
       "     'make_ocr_errors': {'cell_probability': 0.01, 'token_probability': 0.1},\n",
       "     'make_typos': {'cell_probability': 0.01, 'token_probability': 0.1}},\n",
       "    'state': {'leave_blank': {'cell_probability': 0.01},\n",
       "     'choose_wrong_option': {'cell_probability': 0.01}},\n",
       "    'zipcode': {'leave_blank': {'cell_probability': 0.01},\n",
       "     'write_wrong_zipcode_digits': {'cell_probability': 0.01,\n",
       "      'digit_probabilities': [0.04, 0.04, 0.2, 0.36, 0.36]},\n",
       "     'make_ocr_errors': {'cell_probability': 0.01, 'token_probability': 0.1},\n",
       "     'make_typos': {'cell_probability': 0.01, 'token_probability': 0.1}},\n",
       "    'sex': {'leave_blank': {'cell_probability': 0.01},\n",
       "     'choose_wrong_option': {'cell_probability': 0.01}},\n",
       "    'race_ethnicity': {'leave_blank': {'cell_probability': 0.01},\n",
       "     'choose_wrong_option': {'cell_probability': 0.01}}}},\n",
       "  'women_infants_and_children': {'row_noise': {'omit_row': {'row_probability': 0.005}},\n",
       "   'column_noise': {'first_name': {'leave_blank': {'cell_probability': 0.01},\n",
       "     'use_nickname': {'cell_probability': 0.01},\n",
       "     'use_fake_name': {'cell_probability': 0.01},\n",
       "     'make_phonetic_errors': {'cell_probability': 0.01,\n",
       "      'token_probability': 0.1},\n",
       "     'make_ocr_errors': {'cell_probability': 0.01, 'token_probability': 0.1},\n",
       "     'make_typos': {'cell_probability': 0.01, 'token_probability': 0.1}},\n",
       "    'middle_initial': {'leave_blank': {'cell_probability': 0.01},\n",
       "     'make_phonetic_errors': {'cell_probability': 0.01,\n",
       "      'token_probability': 0.1},\n",
       "     'make_ocr_errors': {'cell_probability': 0.01, 'token_probability': 0.1},\n",
       "     'make_typos': {'cell_probability': 0.01, 'token_probability': 0.1}},\n",
       "    'last_name': {'leave_blank': {'cell_probability': 0.01},\n",
       "     'use_fake_name': {'cell_probability': 0.01},\n",
       "     'make_phonetic_errors': {'cell_probability': 0.01,\n",
       "      'token_probability': 0.1},\n",
       "     'make_ocr_errors': {'cell_probability': 0.01, 'token_probability': 0.1},\n",
       "     'make_typos': {'cell_probability': 0.01, 'token_probability': 0.1}},\n",
       "    'date_of_birth': {'leave_blank': {'cell_probability': 0.01},\n",
       "     'copy_from_household_member': {'cell_probability': 0.01},\n",
       "     'swap_month_and_day': {'cell_probability': 0.01},\n",
       "     'write_wrong_digits': {'cell_probability': 0.01,\n",
       "      'token_probability': 0.1},\n",
       "     'make_ocr_errors': {'cell_probability': 0.01, 'token_probability': 0.1},\n",
       "     'make_typos': {'cell_probability': 0.01, 'token_probability': 0.1}},\n",
       "    'street_number': {'leave_blank': {'cell_probability': 0.01},\n",
       "     'write_wrong_digits': {'cell_probability': 0.01,\n",
       "      'token_probability': 0.1},\n",
       "     'make_ocr_errors': {'cell_probability': 0.01, 'token_probability': 0.1},\n",
       "     'make_typos': {'cell_probability': 0.01, 'token_probability': 0.1}},\n",
       "    'street_name': {'leave_blank': {'cell_probability': 0.01},\n",
       "     'make_phonetic_errors': {'cell_probability': 0.01,\n",
       "      'token_probability': 0.1},\n",
       "     'make_ocr_errors': {'cell_probability': 0.01, 'token_probability': 0.1},\n",
       "     'make_typos': {'cell_probability': 0.01, 'token_probability': 0.1}},\n",
       "    'unit_number': {'leave_blank': {'cell_probability': 0.01},\n",
       "     'write_wrong_digits': {'cell_probability': 0.01,\n",
       "      'token_probability': 0.1},\n",
       "     'make_ocr_errors': {'cell_probability': 0.01, 'token_probability': 0.1},\n",
       "     'make_typos': {'cell_probability': 0.01, 'token_probability': 0.1}},\n",
       "    'city': {'leave_blank': {'cell_probability': 0.01},\n",
       "     'make_phonetic_errors': {'cell_probability': 0.01,\n",
       "      'token_probability': 0.1},\n",
       "     'make_ocr_errors': {'cell_probability': 0.01, 'token_probability': 0.1},\n",
       "     'make_typos': {'cell_probability': 0.01, 'token_probability': 0.1}},\n",
       "    'state': {'leave_blank': {'cell_probability': 0.01},\n",
       "     'choose_wrong_option': {'cell_probability': 0.01}},\n",
       "    'zipcode': {'leave_blank': {'cell_probability': 0.01},\n",
       "     'write_wrong_zipcode_digits': {'cell_probability': 0.01,\n",
       "      'digit_probabilities': [0.04, 0.04, 0.2, 0.36, 0.36]},\n",
       "     'make_ocr_errors': {'cell_probability': 0.01, 'token_probability': 0.1},\n",
       "     'make_typos': {'cell_probability': 0.01, 'token_probability': 0.1}},\n",
       "    'sex': {'leave_blank': {'cell_probability': 0.01},\n",
       "     'choose_wrong_option': {'cell_probability': 0.01}},\n",
       "    'race_ethnicity': {'leave_blank': {'cell_probability': 0.01},\n",
       "     'choose_wrong_option': {'cell_probability': 0.01}}}},\n",
       "  'social_security': {'row_noise': {'omit_row': {'row_probability': 0.0}},\n",
       "   'column_noise': {'ssn': {'leave_blank': {'cell_probability': 0.0},\n",
       "     'copy_from_household_member': {'cell_probability': 0.0},\n",
       "     'write_wrong_digits': {'cell_probability': 0.0, 'token_probability': 0.1},\n",
       "     'make_ocr_errors': {'cell_probability': 0.0, 'token_probability': 0.1},\n",
       "     'make_typos': {'cell_probability': 0.0, 'token_probability': 0.1}},\n",
       "    'first_name': {'leave_blank': {'cell_probability': 0.01},\n",
       "     'use_nickname': {'cell_probability': 0.01},\n",
       "     'use_fake_name': {'cell_probability': 0.01},\n",
       "     'make_phonetic_errors': {'cell_probability': 0.01,\n",
       "      'token_probability': 0.1},\n",
       "     'make_ocr_errors': {'cell_probability': 0.01, 'token_probability': 0.1},\n",
       "     'make_typos': {'cell_probability': 0.1, 'token_probability': 0.1}},\n",
       "    'middle_name': {'leave_blank': {'cell_probability': 0.01},\n",
       "     'use_nickname': {'cell_probability': 0.01},\n",
       "     'use_fake_name': {'cell_probability': 0.01},\n",
       "     'make_phonetic_errors': {'cell_probability': 0.01,\n",
       "      'token_probability': 0.1},\n",
       "     'make_ocr_errors': {'cell_probability': 0.01, 'token_probability': 0.1},\n",
       "     'make_typos': {'cell_probability': 0.01, 'token_probability': 0.1}},\n",
       "    'last_name': {'leave_blank': {'cell_probability': 0.01},\n",
       "     'use_fake_name': {'cell_probability': 0.01},\n",
       "     'make_phonetic_errors': {'cell_probability': 0.01,\n",
       "      'token_probability': 0.1},\n",
       "     'make_ocr_errors': {'cell_probability': 0.01, 'token_probability': 0.1},\n",
       "     'make_typos': {'cell_probability': 0.1, 'token_probability': 0.1}},\n",
       "    'date_of_birth': {'leave_blank': {'cell_probability': 0.01},\n",
       "     'copy_from_household_member': {'cell_probability': 0.01},\n",
       "     'swap_month_and_day': {'cell_probability': 0.01},\n",
       "     'write_wrong_digits': {'cell_probability': 0.1, 'token_probability': 0.1},\n",
       "     'make_ocr_errors': {'cell_probability': 0.01, 'token_probability': 0.1},\n",
       "     'make_typos': {'cell_probability': 0.01, 'token_probability': 0.1}},\n",
       "    'sex': {'leave_blank': {'cell_probability': 0.01},\n",
       "     'choose_wrong_option': {'cell_probability': 0.01}},\n",
       "    'event_type': {'leave_blank': {'cell_probability': 0.01},\n",
       "     'choose_wrong_option': {'cell_probability': 0.01}},\n",
       "    'event_date': {'leave_blank': {'cell_probability': 0.01},\n",
       "     'swap_month_and_day': {'cell_probability': 0.01},\n",
       "     'write_wrong_digits': {'cell_probability': 0.1, 'token_probability': 0.1},\n",
       "     'make_ocr_errors': {'cell_probability': 0.01, 'token_probability': 0.1},\n",
       "     'make_typos': {'cell_probability': 0.01, 'token_probability': 0.1}}}},\n",
       "  'taxes_w2_and_1099': {'row_noise': {'omit_row': {'row_probability': 0.005}},\n",
       "   'column_noise': {'ssn': {'leave_blank': {'cell_probability': 0.01},\n",
       "     'copy_from_household_member': {'cell_probability': 0.0},\n",
       "     'write_wrong_digits': {'cell_probability': 0.1, 'token_probability': 0.1},\n",
       "     'make_ocr_errors': {'cell_probability': 0.01, 'token_probability': 0.1},\n",
       "     'make_typos': {'cell_probability': 0.01, 'token_probability': 0.1}},\n",
       "    'wages': {'leave_blank': {'cell_probability': 0.01},\n",
       "     'write_wrong_digits': {'cell_probability': 0.1, 'token_probability': 0.1},\n",
       "     'make_ocr_errors': {'cell_probability': 0.01, 'token_probability': 0.1},\n",
       "     'make_typos': {'cell_probability': 0.01, 'token_probability': 0.1}},\n",
       "    'employer_name': {'leave_blank': {'cell_probability': 0.01},\n",
       "     'make_ocr_errors': {'cell_probability': 0.01, 'token_probability': 0.1},\n",
       "     'make_typos': {'cell_probability': 0.01, 'token_probability': 0.1}},\n",
       "    'employer_street_number': {'leave_blank': {'cell_probability': 0.01},\n",
       "     'write_wrong_digits': {'cell_probability': 0.1, 'token_probability': 0.1},\n",
       "     'make_ocr_errors': {'cell_probability': 0.01, 'token_probability': 0.1},\n",
       "     'make_typos': {'cell_probability': 0.01, 'token_probability': 0.1}},\n",
       "    'employer_street_name': {'leave_blank': {'cell_probability': 0.01},\n",
       "     'make_phonetic_errors': {'cell_probability': 0.01,\n",
       "      'token_probability': 0.1},\n",
       "     'make_ocr_errors': {'cell_probability': 0.01, 'token_probability': 0.1},\n",
       "     'make_typos': {'cell_probability': 0.01, 'token_probability': 0.1}},\n",
       "    'employer_unit_number': {'leave_blank': {'cell_probability': 0.01},\n",
       "     'write_wrong_digits': {'cell_probability': 0.1, 'token_probability': 0.1},\n",
       "     'make_ocr_errors': {'cell_probability': 0.01, 'token_probability': 0.1},\n",
       "     'make_typos': {'cell_probability': 0.01, 'token_probability': 0.1}},\n",
       "    'employer_city': {'leave_blank': {'cell_probability': 0.01},\n",
       "     'make_phonetic_errors': {'cell_probability': 0.01,\n",
       "      'token_probability': 0.1},\n",
       "     'make_ocr_errors': {'cell_probability': 0.01, 'token_probability': 0.1},\n",
       "     'make_typos': {'cell_probability': 0.01, 'token_probability': 0.1}},\n",
       "    'employer_state': {'leave_blank': {'cell_probability': 0.01},\n",
       "     'choose_wrong_option': {'cell_probability': 0.01}},\n",
       "    'employer_zipcode': {'leave_blank': {'cell_probability': 0.01},\n",
       "     'write_wrong_zipcode_digits': {'cell_probability': 0.01,\n",
       "      'digit_probabilities': [0.04, 0.04, 0.2, 0.36, 0.36]},\n",
       "     'make_ocr_errors': {'cell_probability': 0.01, 'token_probability': 0.1},\n",
       "     'make_typos': {'cell_probability': 0.01, 'token_probability': 0.1}},\n",
       "    'first_name': {'leave_blank': {'cell_probability': 0.01},\n",
       "     'use_nickname': {'cell_probability': 0.01},\n",
       "     'use_fake_name': {'cell_probability': 0.01},\n",
       "     'make_phonetic_errors': {'cell_probability': 0.01,\n",
       "      'token_probability': 0.1},\n",
       "     'make_ocr_errors': {'cell_probability': 0.01, 'token_probability': 0.1},\n",
       "     'make_typos': {'cell_probability': 0.1, 'token_probability': 0.1}},\n",
       "    'middle_initial': {'leave_blank': {'cell_probability': 0.01},\n",
       "     'make_phonetic_errors': {'cell_probability': 0.01,\n",
       "      'token_probability': 0.1},\n",
       "     'make_ocr_errors': {'cell_probability': 0.01, 'token_probability': 0.1},\n",
       "     'make_typos': {'cell_probability': 0.05, 'token_probability': 1}},\n",
       "    'last_name': {'leave_blank': {'cell_probability': 0.01},\n",
       "     'use_fake_name': {'cell_probability': 0.01},\n",
       "     'make_phonetic_errors': {'cell_probability': 0.01,\n",
       "      'token_probability': 0.1},\n",
       "     'make_ocr_errors': {'cell_probability': 0.01, 'token_probability': 0.1},\n",
       "     'make_typos': {'cell_probability': 0.1, 'token_probability': 0.1}},\n",
       "    'mailing_address_street_number': {'leave_blank': {'cell_probability': 0.01},\n",
       "     'write_wrong_digits': {'cell_probability': 0.1, 'token_probability': 0.1},\n",
       "     'make_ocr_errors': {'cell_probability': 0.01, 'token_probability': 0.1},\n",
       "     'make_typos': {'cell_probability': 0.01, 'token_probability': 0.1}},\n",
       "    'mailing_address_street_name': {'leave_blank': {'cell_probability': 0.01},\n",
       "     'make_phonetic_errors': {'cell_probability': 0.01,\n",
       "      'token_probability': 0.1},\n",
       "     'make_ocr_errors': {'cell_probability': 0.01, 'token_probability': 0.1},\n",
       "     'make_typos': {'cell_probability': 0.01, 'token_probability': 0.1}},\n",
       "    'mailing_address_unit_number': {'leave_blank': {'cell_probability': 0.01},\n",
       "     'write_wrong_digits': {'cell_probability': 0.1, 'token_probability': 0.1},\n",
       "     'make_ocr_errors': {'cell_probability': 0.01, 'token_probability': 0.1},\n",
       "     'make_typos': {'cell_probability': 0.01, 'token_probability': 0.1}},\n",
       "    'mailing_address_po_box': {'leave_blank': {'cell_probability': 0.01},\n",
       "     'write_wrong_digits': {'cell_probability': 0.1, 'token_probability': 0.1},\n",
       "     'make_ocr_errors': {'cell_probability': 0.01, 'token_probability': 0.1},\n",
       "     'make_typos': {'cell_probability': 0.01, 'token_probability': 0.1}},\n",
       "    'mailing_address_city': {'leave_blank': {'cell_probability': 0.01},\n",
       "     'make_phonetic_errors': {'cell_probability': 0.01,\n",
       "      'token_probability': 0.1},\n",
       "     'make_ocr_errors': {'cell_probability': 0.01, 'token_probability': 0.1},\n",
       "     'make_typos': {'cell_probability': 0.01, 'token_probability': 0.1}},\n",
       "    'mailing_address_state': {'leave_blank': {'cell_probability': 0.01},\n",
       "     'choose_wrong_option': {'cell_probability': 0.01}},\n",
       "    'mailing_address_zipcode': {'leave_blank': {'cell_probability': 0.01},\n",
       "     'write_wrong_zipcode_digits': {'cell_probability': 0.01,\n",
       "      'digit_probabilities': [0.04, 0.04, 0.2, 0.36, 0.36]},\n",
       "     'make_ocr_errors': {'cell_probability': 0.01, 'token_probability': 0.1},\n",
       "     'make_typos': {'cell_probability': 0.01, 'token_probability': 0.1}},\n",
       "    'tax_form': {'leave_blank': {'cell_probability': 0.01},\n",
       "     'choose_wrong_option': {'cell_probability': 0.01}}}},\n",
       "  'taxes_1040': {'row_noise': {'omit_row': {'row_probability': 0.0}},\n",
       "   'column_noise': {'first_name': {'leave_blank': {'cell_probability': 0.01},\n",
       "     'use_nickname': {'cell_probability': 0.01},\n",
       "     'use_fake_name': {'cell_probability': 0.01},\n",
       "     'make_phonetic_errors': {'cell_probability': 0.01,\n",
       "      'token_probability': 0.1},\n",
       "     'make_ocr_errors': {'cell_probability': 0.01, 'token_probability': 0.1},\n",
       "     'make_typos': {'cell_probability': 0.01, 'token_probability': 0.1}},\n",
       "    'middle_initial': {'leave_blank': {'cell_probability': 0.01},\n",
       "     'make_phonetic_errors': {'cell_probability': 0.01,\n",
       "      'token_probability': 0.1},\n",
       "     'make_ocr_errors': {'cell_probability': 0.01, 'token_probability': 0.1},\n",
       "     'make_typos': {'cell_probability': 0.01, 'token_probability': 0.1}},\n",
       "    'last_name': {'leave_blank': {'cell_probability': 0.01},\n",
       "     'use_fake_name': {'cell_probability': 0.01},\n",
       "     'make_phonetic_errors': {'cell_probability': 0.01,\n",
       "      'token_probability': 0.1},\n",
       "     'make_ocr_errors': {'cell_probability': 0.01, 'token_probability': 0.1},\n",
       "     'make_typos': {'cell_probability': 0.01, 'token_probability': 0.1}},\n",
       "    'ssn': {'leave_blank': {'cell_probability': 0.01},\n",
       "     'copy_from_household_member': {'cell_probability': 0.01},\n",
       "     'write_wrong_digits': {'cell_probability': 0.01,\n",
       "      'token_probability': 0.1},\n",
       "     'make_ocr_errors': {'cell_probability': 0.01, 'token_probability': 0.1},\n",
       "     'make_typos': {'cell_probability': 0.01, 'token_probability': 0.1}},\n",
       "    'mailing_address_street_number': {'leave_blank': {'cell_probability': 0.01},\n",
       "     'write_wrong_digits': {'cell_probability': 0.01,\n",
       "      'token_probability': 0.1},\n",
       "     'make_ocr_errors': {'cell_probability': 0.01, 'token_probability': 0.1},\n",
       "     'make_typos': {'cell_probability': 0.01, 'token_probability': 0.1}},\n",
       "    'mailing_address_street_name': {'leave_blank': {'cell_probability': 0.01},\n",
       "     'make_phonetic_errors': {'cell_probability': 0.01,\n",
       "      'token_probability': 0.1},\n",
       "     'make_ocr_errors': {'cell_probability': 0.01, 'token_probability': 0.1},\n",
       "     'make_typos': {'cell_probability': 0.01, 'token_probability': 0.1}},\n",
       "    'mailing_address_unit_number': {'leave_blank': {'cell_probability': 0.01},\n",
       "     'write_wrong_digits': {'cell_probability': 0.01,\n",
       "      'token_probability': 0.1},\n",
       "     'make_ocr_errors': {'cell_probability': 0.01, 'token_probability': 0.1},\n",
       "     'make_typos': {'cell_probability': 0.01, 'token_probability': 0.1}},\n",
       "    'mailing_address_po_box': {'leave_blank': {'cell_probability': 0.01},\n",
       "     'write_wrong_digits': {'cell_probability': 0.01,\n",
       "      'token_probability': 0.1},\n",
       "     'make_ocr_errors': {'cell_probability': 0.01, 'token_probability': 0.1},\n",
       "     'make_typos': {'cell_probability': 0.01, 'token_probability': 0.1}},\n",
       "    'mailing_address_city': {'leave_blank': {'cell_probability': 0.01},\n",
       "     'make_phonetic_errors': {'cell_probability': 0.01,\n",
       "      'token_probability': 0.1},\n",
       "     'make_ocr_errors': {'cell_probability': 0.01, 'token_probability': 0.1},\n",
       "     'make_typos': {'cell_probability': 0.01, 'token_probability': 0.1}},\n",
       "    'mailing_address_state': {'leave_blank': {'cell_probability': 0.01},\n",
       "     'choose_wrong_option': {'cell_probability': 0.01}},\n",
       "    'mailing_address_zipcode': {'leave_blank': {'cell_probability': 0.01},\n",
       "     'write_wrong_zipcode_digits': {'cell_probability': 0.01,\n",
       "      'digit_probabilities': [0.04, 0.04, 0.2, 0.36, 0.36]},\n",
       "     'make_ocr_errors': {'cell_probability': 0.01, 'token_probability': 0.1},\n",
       "     'make_typos': {'cell_probability': 0.01, 'token_probability': 0.1}},\n",
       "    'spouse_first_name': {'leave_blank': {'cell_probability': 0.01},\n",
       "     'use_nickname': {'cell_probability': 0.01},\n",
       "     'use_fake_name': {'cell_probability': 0.01},\n",
       "     'make_phonetic_errors': {'cell_probability': 0.01,\n",
       "      'token_probability': 0.1},\n",
       "     'make_ocr_errors': {'cell_probability': 0.01, 'token_probability': 0.1},\n",
       "     'make_typos': {'cell_probability': 0.01, 'token_probability': 0.1}},\n",
       "    'spouse_middle_initial': {'leave_blank': {'cell_probability': 0.01},\n",
       "     'make_phonetic_errors': {'cell_probability': 0.01,\n",
       "      'token_probability': 0.1},\n",
       "     'make_ocr_errors': {'cell_probability': 0.01, 'token_probability': 0.1},\n",
       "     'make_typos': {'cell_probability': 0.01, 'token_probability': 0.1}},\n",
       "    'spouse_last_name': {'leave_blank': {'cell_probability': 0.01},\n",
       "     'use_fake_name': {'cell_probability': 0.01},\n",
       "     'make_phonetic_errors': {'cell_probability': 0.01,\n",
       "      'token_probability': 0.1},\n",
       "     'make_ocr_errors': {'cell_probability': 0.01, 'token_probability': 0.1},\n",
       "     'make_typos': {'cell_probability': 0.01, 'token_probability': 0.1}},\n",
       "    'spouse_ssn': {'leave_blank': {'cell_probability': 0.01},\n",
       "     'copy_from_household_member': {'cell_probability': 0.01},\n",
       "     'write_wrong_digits': {'cell_probability': 0.01,\n",
       "      'token_probability': 0.1},\n",
       "     'make_ocr_errors': {'cell_probability': 0.01, 'token_probability': 0.1},\n",
       "     'make_typos': {'cell_probability': 0.01, 'token_probability': 0.1}},\n",
       "    'dependent_1_first_name': {'leave_blank': {'cell_probability': 0.01},\n",
       "     'use_nickname': {'cell_probability': 0.01},\n",
       "     'use_fake_name': {'cell_probability': 0.01},\n",
       "     'make_phonetic_errors': {'cell_probability': 0.01,\n",
       "      'token_probability': 0.1},\n",
       "     'make_ocr_errors': {'cell_probability': 0.01, 'token_probability': 0.1},\n",
       "     'make_typos': {'cell_probability': 0.01, 'token_probability': 0.1}},\n",
       "    'dependent_1_last_name': {'leave_blank': {'cell_probability': 0.01},\n",
       "     'use_fake_name': {'cell_probability': 0.01},\n",
       "     'make_phonetic_errors': {'cell_probability': 0.01,\n",
       "      'token_probability': 0.1},\n",
       "     'make_ocr_errors': {'cell_probability': 0.01, 'token_probability': 0.1},\n",
       "     'make_typos': {'cell_probability': 0.01, 'token_probability': 0.1}},\n",
       "    'dependent_1_ssn': {'leave_blank': {'cell_probability': 0.01},\n",
       "     'copy_from_household_member': {'cell_probability': 0.01},\n",
       "     'write_wrong_digits': {'cell_probability': 0.01,\n",
       "      'token_probability': 0.1},\n",
       "     'make_ocr_errors': {'cell_probability': 0.01, 'token_probability': 0.1},\n",
       "     'make_typos': {'cell_probability': 0.01, 'token_probability': 0.1}},\n",
       "    'dependent_2_first_name': {'leave_blank': {'cell_probability': 0.01},\n",
       "     'use_nickname': {'cell_probability': 0.01},\n",
       "     'use_fake_name': {'cell_probability': 0.01},\n",
       "     'make_phonetic_errors': {'cell_probability': 0.01,\n",
       "      'token_probability': 0.1},\n",
       "     'make_ocr_errors': {'cell_probability': 0.01, 'token_probability': 0.1},\n",
       "     'make_typos': {'cell_probability': 0.01, 'token_probability': 0.1}},\n",
       "    'dependent_2_last_name': {'leave_blank': {'cell_probability': 0.01},\n",
       "     'use_fake_name': {'cell_probability': 0.01},\n",
       "     'make_phonetic_errors': {'cell_probability': 0.01,\n",
       "      'token_probability': 0.1},\n",
       "     'make_ocr_errors': {'cell_probability': 0.01, 'token_probability': 0.1},\n",
       "     'make_typos': {'cell_probability': 0.01, 'token_probability': 0.1}},\n",
       "    'dependent_2_ssn': {'leave_blank': {'cell_probability': 0.01},\n",
       "     'copy_from_household_member': {'cell_probability': 0.01},\n",
       "     'write_wrong_digits': {'cell_probability': 0.01,\n",
       "      'token_probability': 0.1},\n",
       "     'make_ocr_errors': {'cell_probability': 0.01, 'token_probability': 0.1},\n",
       "     'make_typos': {'cell_probability': 0.01, 'token_probability': 0.1}},\n",
       "    'dependent_3_first_name': {'leave_blank': {'cell_probability': 0.01},\n",
       "     'use_nickname': {'cell_probability': 0.01},\n",
       "     'use_fake_name': {'cell_probability': 0.01},\n",
       "     'make_phonetic_errors': {'cell_probability': 0.01,\n",
       "      'token_probability': 0.1},\n",
       "     'make_ocr_errors': {'cell_probability': 0.01, 'token_probability': 0.1},\n",
       "     'make_typos': {'cell_probability': 0.01, 'token_probability': 0.1}},\n",
       "    'dependent_3_last_name': {'leave_blank': {'cell_probability': 0.01},\n",
       "     'use_fake_name': {'cell_probability': 0.01},\n",
       "     'make_phonetic_errors': {'cell_probability': 0.01,\n",
       "      'token_probability': 0.1},\n",
       "     'make_ocr_errors': {'cell_probability': 0.01, 'token_probability': 0.1},\n",
       "     'make_typos': {'cell_probability': 0.01, 'token_probability': 0.1}},\n",
       "    'dependent_3_ssn': {'leave_blank': {'cell_probability': 0.01},\n",
       "     'copy_from_household_member': {'cell_probability': 0.01},\n",
       "     'write_wrong_digits': {'cell_probability': 0.01,\n",
       "      'token_probability': 0.1},\n",
       "     'make_ocr_errors': {'cell_probability': 0.01, 'token_probability': 0.1},\n",
       "     'make_typos': {'cell_probability': 0.01, 'token_probability': 0.1}},\n",
       "    'dependent_4_first_name': {'leave_blank': {'cell_probability': 0.01},\n",
       "     'use_nickname': {'cell_probability': 0.01},\n",
       "     'use_fake_name': {'cell_probability': 0.01},\n",
       "     'make_phonetic_errors': {'cell_probability': 0.01,\n",
       "      'token_probability': 0.1},\n",
       "     'make_ocr_errors': {'cell_probability': 0.01, 'token_probability': 0.1},\n",
       "     'make_typos': {'cell_probability': 0.01, 'token_probability': 0.1}},\n",
       "    'dependent_4_last_name': {'leave_blank': {'cell_probability': 0.01},\n",
       "     'use_fake_name': {'cell_probability': 0.01},\n",
       "     'make_phonetic_errors': {'cell_probability': 0.01,\n",
       "      'token_probability': 0.1},\n",
       "     'make_ocr_errors': {'cell_probability': 0.01, 'token_probability': 0.1},\n",
       "     'make_typos': {'cell_probability': 0.01, 'token_probability': 0.1}},\n",
       "    'dependent_4_ssn': {'leave_blank': {'cell_probability': 0.01},\n",
       "     'copy_from_household_member': {'cell_probability': 0.01},\n",
       "     'write_wrong_digits': {'cell_probability': 0.01,\n",
       "      'token_probability': 0.1},\n",
       "     'make_ocr_errors': {'cell_probability': 0.01, 'token_probability': 0.1},\n",
       "     'make_typos': {'cell_probability': 0.01, 'token_probability': 0.1}}}}}}"
      ]
     },
     "execution_count": 18,
     "metadata": {},
     "output_type": "execute_result"
    }
   ],
   "source": [
    "psp_kwargs"
   ]
  },
  {
   "cell_type": "code",
   "execution_count": 19,
   "id": "1b9a92b7-bdaf-454d-8ad4-97db95d6b461",
   "metadata": {
    "execution": {
     "iopub.execute_input": "2024-05-13T22:48:06.913072Z",
     "iopub.status.busy": "2024-05-13T22:48:06.912545Z",
     "iopub.status.idle": "2024-05-13T22:48:15.526359Z",
     "shell.execute_reply": "2024-05-13T22:48:15.524287Z"
    },
    "papermill": {
     "duration": 8.627156,
     "end_time": "2024-05-13T22:48:15.528704",
     "exception": false,
     "start_time": "2024-05-13T22:48:06.901548",
     "status": "completed"
    },
    "tags": []
   },
   "outputs": [
    {
     "name": "stdout",
     "output_type": "stream",
     "text": [
      "2025\n",
      "\u001b[32m2024-05-13 15:48:07.016\u001b[0m | \u001b[36mpseudopeople.configuration.validator\u001b[0m:\u001b[36mvalidate_noise_level_proportions\u001b[0m:\u001b[36m335\u001b[0m - \u001b[33m\u001b[1mThe configured 'use_nickname' noise level for column_noise 'dependent_4_first_name' is 0.01, which is higher than the maximum possible value based on the provided data for 'taxes_1040'. Noising as many rows as possible. \u001b[0m\n"
     ]
    },
    {
     "name": "stderr",
     "output_type": "stream",
     "text": [
      "\r",
      "Applying noise:   0%|          | 0/15 [00:00<?, ?type/s]"
     ]
    },
    {
     "name": "stderr",
     "output_type": "stream",
     "text": [
      "\r",
      "Applying noise:  27%|██▋       | 4/15 [00:00<00:00, 23.78type/s]"
     ]
    },
    {
     "name": "stderr",
     "output_type": "stream",
     "text": [
      "\r",
      "Applying noise:  67%|██████▋   | 10/15 [00:00<00:00, 36.55type/s]"
     ]
    },
    {
     "name": "stderr",
     "output_type": "stream",
     "text": [
      "\r",
      "Applying noise:  93%|█████████▎| 14/15 [00:01<00:00,  9.43type/s]"
     ]
    },
    {
     "name": "stderr",
     "output_type": "stream",
     "text": [
      "\r",
      "                                                                 "
     ]
    },
    {
     "name": "stdout",
     "output_type": "stream",
     "text": [
      "2026\n",
      "\u001b[32m2024-05-13 15:48:09.018\u001b[0m | \u001b[36mpseudopeople.configuration.validator\u001b[0m:\u001b[36mvalidate_noise_level_proportions\u001b[0m:\u001b[36m335\u001b[0m - \u001b[33m\u001b[1mThe configured 'use_nickname' noise level for column_noise 'dependent_4_first_name' is 0.01, which is higher than the maximum possible value based on the provided data for 'taxes_1040'. Noising as many rows as possible. \u001b[0m\n"
     ]
    },
    {
     "name": "stderr",
     "output_type": "stream",
     "text": [
      "\r"
     ]
    },
    {
     "name": "stderr",
     "output_type": "stream",
     "text": [
      "\r",
      "Applying noise:   0%|          | 0/15 [00:00<?, ?type/s]"
     ]
    },
    {
     "name": "stderr",
     "output_type": "stream",
     "text": [
      "\r",
      "Applying noise:  27%|██▋       | 4/15 [00:00<00:00, 24.12type/s]"
     ]
    },
    {
     "name": "stderr",
     "output_type": "stream",
     "text": [
      "\r",
      "Applying noise:  67%|██████▋   | 10/15 [00:00<00:00, 37.77type/s]"
     ]
    },
    {
     "name": "stderr",
     "output_type": "stream",
     "text": [
      "\r",
      "Applying noise: 100%|██████████| 15/15 [00:01<00:00,  9.58type/s]"
     ]
    },
    {
     "name": "stderr",
     "output_type": "stream",
     "text": [
      "\r",
      "                                                                 "
     ]
    },
    {
     "name": "stdout",
     "output_type": "stream",
     "text": [
      "2027\n",
      "\u001b[32m2024-05-13 15:48:10.709\u001b[0m | \u001b[36mpseudopeople.configuration.validator\u001b[0m:\u001b[36mvalidate_noise_level_proportions\u001b[0m:\u001b[36m335\u001b[0m - \u001b[33m\u001b[1mThe configured 'use_nickname' noise level for column_noise 'dependent_4_first_name' is 0.01, which is higher than the maximum possible value based on the provided data for 'taxes_1040'. Noising as many rows as possible. \u001b[0m\n"
     ]
    },
    {
     "name": "stdout",
     "output_type": "stream",
     "text": [
      "\u001b[32m2024-05-13 15:48:10.711\u001b[0m | \u001b[36mpseudopeople.configuration.validator\u001b[0m:\u001b[36mvalidate_noise_level_proportions\u001b[0m:\u001b[36m335\u001b[0m - \u001b[33m\u001b[1mThe configured 'copy_from_household_member' noise level for column_noise 'dependent_4_ssn' is 0.01, which is higher than the maximum possible value based on the provided data for 'taxes_1040'. Noising as many rows as possible. \u001b[0m\n"
     ]
    },
    {
     "name": "stderr",
     "output_type": "stream",
     "text": [
      "\r"
     ]
    },
    {
     "name": "stderr",
     "output_type": "stream",
     "text": [
      "\r",
      "Applying noise:   0%|          | 0/15 [00:00<?, ?type/s]"
     ]
    },
    {
     "name": "stderr",
     "output_type": "stream",
     "text": [
      "\r",
      "Applying noise:  27%|██▋       | 4/15 [00:00<00:00, 26.59type/s]"
     ]
    },
    {
     "name": "stderr",
     "output_type": "stream",
     "text": [
      "\r",
      "Applying noise:  67%|██████▋   | 10/15 [00:00<00:00, 41.58type/s]"
     ]
    },
    {
     "name": "stderr",
     "output_type": "stream",
     "text": [
      "\r",
      "Applying noise: 100%|██████████| 15/15 [00:01<00:00, 10.27type/s]"
     ]
    },
    {
     "name": "stderr",
     "output_type": "stream",
     "text": [
      "\r",
      "                                                                 "
     ]
    },
    {
     "name": "stdout",
     "output_type": "stream",
     "text": [
      "2028\n",
      "\u001b[32m2024-05-13 15:48:12.273\u001b[0m | \u001b[36mpseudopeople.configuration.validator\u001b[0m:\u001b[36mvalidate_noise_level_proportions\u001b[0m:\u001b[36m335\u001b[0m - \u001b[33m\u001b[1mThe configured 'use_nickname' noise level for column_noise 'dependent_4_first_name' is 0.01, which is higher than the maximum possible value based on the provided data for 'taxes_1040'. Noising as many rows as possible. \u001b[0m\n"
     ]
    },
    {
     "name": "stdout",
     "output_type": "stream",
     "text": [
      "\u001b[32m2024-05-13 15:48:12.274\u001b[0m | \u001b[36mpseudopeople.configuration.validator\u001b[0m:\u001b[36mvalidate_noise_level_proportions\u001b[0m:\u001b[36m335\u001b[0m - \u001b[33m\u001b[1mThe configured 'copy_from_household_member' noise level for column_noise 'dependent_4_ssn' is 0.01, which is higher than the maximum possible value based on the provided data for 'taxes_1040'. Noising as many rows as possible. \u001b[0m\n"
     ]
    },
    {
     "name": "stderr",
     "output_type": "stream",
     "text": [
      "\r"
     ]
    },
    {
     "name": "stderr",
     "output_type": "stream",
     "text": [
      "\r",
      "Applying noise:   0%|          | 0/15 [00:00<?, ?type/s]"
     ]
    },
    {
     "name": "stderr",
     "output_type": "stream",
     "text": [
      "\r",
      "Applying noise:  27%|██▋       | 4/15 [00:00<00:00, 26.70type/s]"
     ]
    },
    {
     "name": "stderr",
     "output_type": "stream",
     "text": [
      "\r",
      "Applying noise:  67%|██████▋   | 10/15 [00:00<00:00, 40.54type/s]"
     ]
    },
    {
     "name": "stderr",
     "output_type": "stream",
     "text": [
      "\r",
      "Applying noise: 100%|██████████| 15/15 [00:01<00:00, 10.49type/s]"
     ]
    },
    {
     "name": "stderr",
     "output_type": "stream",
     "text": [
      "\r",
      "                                                                 "
     ]
    },
    {
     "name": "stdout",
     "output_type": "stream",
     "text": [
      "2029\n",
      "\u001b[32m2024-05-13 15:48:13.890\u001b[0m | \u001b[36mpseudopeople.configuration.validator\u001b[0m:\u001b[36mvalidate_noise_level_proportions\u001b[0m:\u001b[36m335\u001b[0m - \u001b[33m\u001b[1mThe configured 'use_nickname' noise level for column_noise 'dependent_3_first_name' is 0.01, which is higher than the maximum possible value based on the provided data for 'taxes_1040'. Noising as many rows as possible. \u001b[0m\n"
     ]
    },
    {
     "name": "stdout",
     "output_type": "stream",
     "text": [
      "\u001b[32m2024-05-13 15:48:13.891\u001b[0m | \u001b[36mpseudopeople.configuration.validator\u001b[0m:\u001b[36mvalidate_noise_level_proportions\u001b[0m:\u001b[36m335\u001b[0m - \u001b[33m\u001b[1mThe configured 'use_nickname' noise level for column_noise 'dependent_4_first_name' is 0.01, which is higher than the maximum possible value based on the provided data for 'taxes_1040'. Noising as many rows as possible. \u001b[0m\n"
     ]
    },
    {
     "name": "stdout",
     "output_type": "stream",
     "text": [
      "\u001b[32m2024-05-13 15:48:13.893\u001b[0m | \u001b[36mpseudopeople.configuration.validator\u001b[0m:\u001b[36mvalidate_noise_level_proportions\u001b[0m:\u001b[36m335\u001b[0m - \u001b[33m\u001b[1mThe configured 'copy_from_household_member' noise level for column_noise 'dependent_4_ssn' is 0.01, which is higher than the maximum possible value based on the provided data for 'taxes_1040'. Noising as many rows as possible. \u001b[0m\n"
     ]
    },
    {
     "name": "stderr",
     "output_type": "stream",
     "text": [
      "\r"
     ]
    },
    {
     "name": "stderr",
     "output_type": "stream",
     "text": [
      "\r",
      "Applying noise:   0%|          | 0/15 [00:00<?, ?type/s]"
     ]
    },
    {
     "name": "stderr",
     "output_type": "stream",
     "text": [
      "\r",
      "Applying noise:  27%|██▋       | 4/15 [00:00<00:00, 23.14type/s]"
     ]
    },
    {
     "name": "stderr",
     "output_type": "stream",
     "text": [
      "\r",
      "Applying noise:  67%|██████▋   | 10/15 [00:00<00:00, 35.85type/s]"
     ]
    },
    {
     "name": "stderr",
     "output_type": "stream",
     "text": [
      "\r",
      "Applying noise:  93%|█████████▎| 14/15 [00:01<00:00, 10.79type/s]"
     ]
    },
    {
     "name": "stderr",
     "output_type": "stream",
     "text": [
      "\r",
      "                                                                 "
     ]
    },
    {
     "name": "stdout",
     "output_type": "stream",
     "text": [
      "CPU times: user 9.26 s, sys: 619 ms, total: 9.88 s\n",
      "Wall time: 8.6 s\n"
     ]
    },
    {
     "name": "stderr",
     "output_type": "stream",
     "text": [
      "\r"
     ]
    }
   ],
   "source": [
    "%%time\n",
    "\n",
    "for year in tax_years:\n",
    "    print(year)\n",
    "    df = psp.generate_taxes_1040(\n",
    "        year=year,\n",
    "        **psp_kwargs,\n",
    "    )\n",
    "    utils.remove_path(str(Path(output_dir) / f\"simulated_taxes_1040_{year}.parquet\"))\n",
    "    df.to_parquet(str(Path(output_dir) / f\"simulated_taxes_1040_{year}.parquet\"))"
   ]
  },
  {
   "cell_type": "markdown",
   "id": "d8bad94f-c803-41e0-bf17-9ecfdb56cdbd",
   "metadata": {
    "papermill": {
     "duration": 0.012317,
     "end_time": "2024-05-13T22:48:15.556950",
     "exception": false,
     "start_time": "2024-05-13T22:48:15.544633",
     "status": "completed"
    },
    "tags": []
   },
   "source": [
    "### Simulated W2/1099 tax filings\n",
    "\n",
    "We assume that the last 5 years of taxes would be available and used in the construction of the reference files.\n",
    "\n",
    "Note that these are retrieved by *tax* year, so the 2029 taxes would be available in early 2030\n",
    "(around when our hypothetical case study is taking place)."
   ]
  },
  {
   "cell_type": "code",
   "execution_count": 20,
   "id": "2c072c69-f7c7-4bf1-b99e-48c3257063ba",
   "metadata": {
    "execution": {
     "iopub.execute_input": "2024-05-13T22:48:15.580909Z",
     "iopub.status.busy": "2024-05-13T22:48:15.580403Z",
     "iopub.status.idle": "2024-05-13T22:48:22.402533Z",
     "shell.execute_reply": "2024-05-13T22:48:22.401367Z"
    },
    "papermill": {
     "duration": 6.838248,
     "end_time": "2024-05-13T22:48:22.405896",
     "exception": false,
     "start_time": "2024-05-13T22:48:15.567648",
     "status": "completed"
    },
    "tags": []
   },
   "outputs": [
    {
     "name": "stdout",
     "output_type": "stream",
     "text": [
      "2025\n"
     ]
    },
    {
     "name": "stderr",
     "output_type": "stream",
     "text": [
      "\r",
      "Applying noise:   0%|          | 0/15 [00:00<?, ?type/s]"
     ]
    },
    {
     "name": "stderr",
     "output_type": "stream",
     "text": [
      "\r",
      "Applying noise:  27%|██▋       | 4/15 [00:00<00:00, 29.67type/s]"
     ]
    },
    {
     "name": "stderr",
     "output_type": "stream",
     "text": [
      "\r",
      "Applying noise:  67%|██████▋   | 10/15 [00:00<00:00, 37.92type/s]"
     ]
    },
    {
     "name": "stderr",
     "output_type": "stream",
     "text": [
      "\r",
      "Applying noise:  93%|█████████▎| 14/15 [00:00<00:00, 14.13type/s]"
     ]
    },
    {
     "name": "stderr",
     "output_type": "stream",
     "text": [
      "\r",
      "                                                                 "
     ]
    },
    {
     "name": "stderr",
     "output_type": "stream",
     "text": [
      "\r"
     ]
    },
    {
     "name": "stdout",
     "output_type": "stream",
     "text": [
      "2026\n"
     ]
    },
    {
     "name": "stderr",
     "output_type": "stream",
     "text": [
      "\r",
      "Applying noise:   0%|          | 0/15 [00:00<?, ?type/s]"
     ]
    },
    {
     "name": "stderr",
     "output_type": "stream",
     "text": [
      "\r",
      "Applying noise:  27%|██▋       | 4/15 [00:00<00:00, 32.41type/s]"
     ]
    },
    {
     "name": "stderr",
     "output_type": "stream",
     "text": [
      "\r",
      "Applying noise:  67%|██████▋   | 10/15 [00:00<00:00, 40.78type/s]"
     ]
    },
    {
     "name": "stderr",
     "output_type": "stream",
     "text": [
      "\r",
      "Applying noise: 100%|██████████| 15/15 [00:00<00:00, 12.96type/s]"
     ]
    },
    {
     "name": "stderr",
     "output_type": "stream",
     "text": [
      "\r",
      "                                                                 "
     ]
    },
    {
     "name": "stderr",
     "output_type": "stream",
     "text": [
      "\r"
     ]
    },
    {
     "name": "stdout",
     "output_type": "stream",
     "text": [
      "2027\n"
     ]
    },
    {
     "name": "stderr",
     "output_type": "stream",
     "text": [
      "\r",
      "Applying noise:   0%|          | 0/15 [00:00<?, ?type/s]"
     ]
    },
    {
     "name": "stderr",
     "output_type": "stream",
     "text": [
      "\r",
      "Applying noise:  27%|██▋       | 4/15 [00:00<00:00, 36.88type/s]"
     ]
    },
    {
     "name": "stderr",
     "output_type": "stream",
     "text": [
      "\r",
      "Applying noise:  67%|██████▋   | 10/15 [00:00<00:00, 33.24type/s]"
     ]
    },
    {
     "name": "stderr",
     "output_type": "stream",
     "text": [
      "\r",
      "Applying noise:  93%|█████████▎| 14/15 [00:00<00:00, 15.15type/s]"
     ]
    },
    {
     "name": "stderr",
     "output_type": "stream",
     "text": [
      "\r",
      "                                                                 "
     ]
    },
    {
     "name": "stderr",
     "output_type": "stream",
     "text": [
      "\r"
     ]
    },
    {
     "name": "stdout",
     "output_type": "stream",
     "text": [
      "2028\n"
     ]
    },
    {
     "name": "stderr",
     "output_type": "stream",
     "text": [
      "\r",
      "Applying noise:   0%|          | 0/15 [00:00<?, ?type/s]"
     ]
    },
    {
     "name": "stderr",
     "output_type": "stream",
     "text": [
      "\r",
      "Applying noise:  27%|██▋       | 4/15 [00:00<00:00, 31.68type/s]"
     ]
    },
    {
     "name": "stderr",
     "output_type": "stream",
     "text": [
      "\r",
      "Applying noise:  67%|██████▋   | 10/15 [00:00<00:00, 40.32type/s]"
     ]
    },
    {
     "name": "stderr",
     "output_type": "stream",
     "text": [
      "\r",
      "Applying noise: 100%|██████████| 15/15 [00:00<00:00, 12.55type/s]"
     ]
    },
    {
     "name": "stderr",
     "output_type": "stream",
     "text": [
      "\r",
      "                                                                 "
     ]
    },
    {
     "name": "stderr",
     "output_type": "stream",
     "text": [
      "\r"
     ]
    },
    {
     "name": "stdout",
     "output_type": "stream",
     "text": [
      "2029\n"
     ]
    },
    {
     "name": "stderr",
     "output_type": "stream",
     "text": [
      "\r",
      "Applying noise:   0%|          | 0/15 [00:00<?, ?type/s]"
     ]
    },
    {
     "name": "stderr",
     "output_type": "stream",
     "text": [
      "\r",
      "Applying noise:  27%|██▋       | 4/15 [00:00<00:00, 32.03type/s]"
     ]
    },
    {
     "name": "stderr",
     "output_type": "stream",
     "text": [
      "\r",
      "Applying noise:  67%|██████▋   | 10/15 [00:00<00:00, 40.04type/s]"
     ]
    },
    {
     "name": "stderr",
     "output_type": "stream",
     "text": [
      "\r",
      "Applying noise:  93%|█████████▎| 14/15 [00:00<00:00, 15.17type/s]"
     ]
    },
    {
     "name": "stderr",
     "output_type": "stream",
     "text": [
      "\r",
      "                                                                 "
     ]
    },
    {
     "name": "stderr",
     "output_type": "stream",
     "text": [
      "\r"
     ]
    },
    {
     "name": "stdout",
     "output_type": "stream",
     "text": [
      "CPU times: user 7.27 s, sys: 521 ms, total: 7.79 s\n",
      "Wall time: 6.81 s\n"
     ]
    }
   ],
   "source": [
    "%%time\n",
    "\n",
    "for year in tax_years:\n",
    "    print(year)\n",
    "    df = psp.generate_taxes_w2_and_1099(\n",
    "        year=year,\n",
    "        **psp_kwargs,\n",
    "    )\n",
    "    utils.remove_path(str(Path(output_dir) / f\"simulated_taxes_w2_and_1099_{year}.parquet\"))\n",
    "    df.to_parquet(str(Path(output_dir) / f\"simulated_taxes_w2_and_1099_{year}.parquet\"))"
   ]
  },
  {
   "cell_type": "markdown",
   "id": "ed6967cb-dfa6-4b43-98b9-e590d266f55f",
   "metadata": {
    "papermill": {
     "duration": 0.011617,
     "end_time": "2024-05-13T22:48:22.436659",
     "exception": false,
     "start_time": "2024-05-13T22:48:22.425042",
     "status": "completed"
    },
    "tags": []
   },
   "source": [
    "### Simulated 2030 Census Unedited File (CUF)\n",
    "\n",
    "For now, we gloss over the data schema for addresses.\n",
    "We don't know how addresses would be formatted in the CUF (and it's hard to guess, because\n",
    "address is not part of the Census form), but it likely would have some of these fields\n",
    "(street number, street name, etc) combined.\n",
    "\n",
    "While PVS input files do not in general have names split into first, middle, and last,\n",
    "I am guessing the CUF **would** have first name, middle initial, last name (which is how pseudopeople\n",
    "generates it), because that [matches the Census questionnaire](https://www2.census.gov/programs-surveys/decennial/2020/technical-documentation/questionnaires-and-instructions/questionnaires/2020-informational-questionnaire-english_DI-Q1.pdf)."
   ]
  },
  {
   "cell_type": "code",
   "execution_count": 21,
   "id": "670c2201-c8a3-43d8-8f3a-f98bf576666a",
   "metadata": {
    "execution": {
     "iopub.execute_input": "2024-05-13T22:48:22.463719Z",
     "iopub.status.busy": "2024-05-13T22:48:22.463046Z",
     "iopub.status.idle": "2024-05-13T22:48:23.464269Z",
     "shell.execute_reply": "2024-05-13T22:48:23.463303Z"
    },
    "papermill": {
     "duration": 1.019986,
     "end_time": "2024-05-13T22:48:23.468415",
     "exception": false,
     "start_time": "2024-05-13T22:48:22.448429",
     "status": "completed"
    },
    "tags": []
   },
   "outputs": [
    {
     "name": "stderr",
     "output_type": "stream",
     "text": [
      "\r",
      "Applying noise:   0%|          | 0/15 [00:00<?, ?type/s]"
     ]
    },
    {
     "name": "stderr",
     "output_type": "stream",
     "text": [
      "\r",
      "Applying noise:  13%|█▎        | 2/15 [00:00<00:00, 19.78type/s]"
     ]
    },
    {
     "name": "stderr",
     "output_type": "stream",
     "text": [
      "\r",
      "Applying noise:  33%|███▎      | 5/15 [00:00<00:00, 21.57type/s]"
     ]
    },
    {
     "name": "stderr",
     "output_type": "stream",
     "text": [
      "\r",
      "Applying noise:  80%|████████  | 12/15 [00:00<00:00, 38.51type/s]"
     ]
    },
    {
     "name": "stderr",
     "output_type": "stream",
     "text": [
      "\r",
      "                                                                 "
     ]
    },
    {
     "name": "stdout",
     "output_type": "stream",
     "text": [
      "CPU times: user 995 ms, sys: 46.1 ms, total: 1.04 s\n",
      "Wall time: 992 ms\n"
     ]
    },
    {
     "name": "stderr",
     "output_type": "stream",
     "text": [
      "\r"
     ]
    }
   ],
   "source": [
    "%%time\n",
    "\n",
    "simulated_census_2030 = psp.generate_decennial_census(\n",
    "    year=2030,\n",
    "    **psp_kwargs,\n",
    ")\n",
    "utils.remove_path(str(Path(output_dir) / f\"simulated_census_2030.parquet\"))\n",
    "simulated_census_2030.to_parquet(str(Path(output_dir) / f\"simulated_census_2030.parquet\"))"
   ]
  },
  {
   "cell_type": "markdown",
   "id": "480d3767-1895-4c4f-91d8-72d13a19b5ec",
   "metadata": {
    "papermill": {
     "duration": 0.011961,
     "end_time": "2024-05-13T22:48:23.496367",
     "exception": false,
     "start_time": "2024-05-13T22:48:23.484406",
     "status": "completed"
    },
    "tags": []
   },
   "source": [
    "### Simulated SSA Numident\n",
    "\n",
    "Wagner and Layne, p.4:\n",
    "\n",
    "> The reference files are derived from the Social Security Administration\n",
    "    (SSA) Numerical Identification file (SSA Numident). The Numident contains all\n",
    "    transactions recorded against one Social Security Number (SSN)...\n",
    "\n",
    "Based on the [SSA Numident through 2007 which is publicly available from NARA](https://aad.archives.gov/aad/series-description.jsp?s=5057),\n",
    "we know there are three kinds of transactions: SSN applications, deaths, and claiming benefits.\n",
    "SSN holders may change their information (e.g. changing name or sex) by submitting another application,\n",
    "which generates an additional application transaction.\n",
    "(The policies about this are found [on the SSA website](https://secure.ssa.gov/poms.nsf/lnx/0110212200).)\n",
    "\n",
    "The paper [\"Likely Transgender Individuals in U.S. Federal Administrative Records and the 2010 Census\" by Benjamin Cerf Harris](https://www.census.gov/content/dam/Census/library/working-papers/2015/adrm/carra-wp-2015-03.pdf)\n",
    "includes some helpful statistics (Table 2).\n",
    "The average person in the SSA Numident has 2.2 transactions (called \"claims\" in that paper, but with the same definition\n",
    "as our term \"transaction\": \"Any time an SSN is created or information associated with an existing SSN is changed, that event is registered\n",
    "as a claim.\").\n",
    "\n",
    "pseudopeople does not currently include correction, name change, or benefits claim transactions.\n",
    "It only includes SSN creation and death of the SSN holder.\n",
    "\n",
    "I've figured that there would be some delay in getting the Numident -- so by Census processing time\n",
    "for the 2030 Census, only the SSA transactions by the end of 2029 would be available.\n",
    "Note that with pseudopeople's current design it is only possible to set this cutoff at the end of a calendar year.\n",
    "The NORC report says that \"the Census NUMIDENT is recreated each year, to reflect\n",
    "Social Security transaction records through **March** of each year\" (p. 105),\n",
    "though it isn't clear when in the year the Census Numident is actually re-created."
   ]
  },
  {
   "cell_type": "code",
   "execution_count": 22,
   "id": "3da0de7b-2e91-4d23-96bd-d331a820d7e7",
   "metadata": {
    "execution": {
     "iopub.execute_input": "2024-05-13T22:48:23.523535Z",
     "iopub.status.busy": "2024-05-13T22:48:23.522158Z",
     "iopub.status.idle": "2024-05-13T22:48:24.349485Z",
     "shell.execute_reply": "2024-05-13T22:48:24.347479Z"
    },
    "papermill": {
     "duration": 0.844774,
     "end_time": "2024-05-13T22:48:24.352883",
     "exception": false,
     "start_time": "2024-05-13T22:48:23.508109",
     "status": "completed"
    },
    "tags": []
   },
   "outputs": [
    {
     "name": "stderr",
     "output_type": "stream",
     "text": [
      "\r",
      "Applying noise:   0%|          | 0/15 [00:00<?, ?type/s]"
     ]
    },
    {
     "name": "stderr",
     "output_type": "stream",
     "text": [
      "\r",
      "Applying noise:  40%|████      | 6/15 [00:00<00:00, 59.34type/s]"
     ]
    },
    {
     "name": "stderr",
     "output_type": "stream",
     "text": [
      "\r",
      "Applying noise:  80%|████████  | 12/15 [00:00<00:00, 45.73type/s]"
     ]
    },
    {
     "name": "stderr",
     "output_type": "stream",
     "text": [
      "\r",
      "                                                                 "
     ]
    },
    {
     "name": "stdout",
     "output_type": "stream",
     "text": [
      "CPU times: user 806 ms, sys: 54.4 ms, total: 860 ms\n",
      "Wall time: 816 ms\n"
     ]
    },
    {
     "name": "stderr",
     "output_type": "stream",
     "text": [
      "\r"
     ]
    }
   ],
   "source": [
    "%%time\n",
    "\n",
    "simulated_ssa_numident = psp.generate_social_security(\n",
    "    year=2029,\n",
    "    **psp_kwargs,\n",
    ")"
   ]
  },
  {
   "cell_type": "code",
   "execution_count": 23,
   "id": "122a7f79-8054-4664-b916-f023585bf398",
   "metadata": {
    "execution": {
     "iopub.execute_input": "2024-05-13T22:48:24.385178Z",
     "iopub.status.busy": "2024-05-13T22:48:24.384622Z",
     "iopub.status.idle": "2024-05-13T22:48:24.454635Z",
     "shell.execute_reply": "2024-05-13T22:48:24.452703Z"
    },
    "papermill": {
     "duration": 0.088331,
     "end_time": "2024-05-13T22:48:24.458165",
     "exception": false,
     "start_time": "2024-05-13T22:48:24.369834",
     "status": "completed"
    },
    "tags": []
   },
   "outputs": [
    {
     "name": "stdout",
     "output_type": "stream",
     "text": [
      "CPU times: user 53.4 ms, sys: 4.11 ms, total: 57.5 ms\n",
      "Wall time: 61.3 ms\n"
     ]
    }
   ],
   "source": [
    "%%time\n",
    "\n",
    "utils.remove_path(str(Path(output_dir) / \"simulated_ssa_numident.parquet\"))\n",
    "simulated_ssa_numident.to_parquet(str(Path(output_dir) / \"simulated_ssa_numident.parquet\"))"
   ]
  },
  {
   "cell_type": "code",
   "execution_count": 24,
   "id": "ac19c70b-36c9-486f-9e65-6a32ca876ad7",
   "metadata": {
    "execution": {
     "iopub.execute_input": "2024-05-13T22:48:24.491451Z",
     "iopub.status.busy": "2024-05-13T22:48:24.490810Z",
     "iopub.status.idle": "2024-05-13T22:48:24.647772Z",
     "shell.execute_reply": "2024-05-13T22:48:24.645244Z"
    },
    "papermill": {
     "duration": 0.175598,
     "end_time": "2024-05-13T22:48:24.651938",
     "exception": false,
     "start_time": "2024-05-13T22:48:24.476340",
     "status": "completed"
    },
    "tags": []
   },
   "outputs": [
    {
     "name": "stdout",
     "output_type": "stream",
     "text": [
      "Mon May 13 15:48:24 PDT 2024\r\n"
     ]
    }
   ],
   "source": [
    "! date"
   ]
  }
 ],
 "metadata": {
  "kernelspec": {
   "display_name": "person_linkage_case_study_20240423",
   "language": "python",
   "name": "person_linkage_case_study_20240423"
  },
  "language_info": {
   "codemirror_mode": {
    "name": "ipython",
    "version": 3
   },
   "file_extension": ".py",
   "mimetype": "text/x-python",
   "name": "python",
   "nbconvert_exporter": "python",
   "pygments_lexer": "ipython3",
   "version": "3.10.14"
  },
  "papermill": {
   "default_parameters": {},
   "duration": 35.952288,
   "end_time": "2024-05-13T22:48:25.303108",
   "environment_variables": {},
   "exception": null,
   "input_path": "generate_pseudopeople_simulated_datasets.ipynb",
   "output_path": "generate_pseudopeople_simulated_datasets_small_sample.ipynb",
   "parameters": {},
   "start_time": "2024-05-13T22:47:49.350820",
   "version": "2.5.0"
  }
 },
 "nbformat": 4,
 "nbformat_minor": 5
}