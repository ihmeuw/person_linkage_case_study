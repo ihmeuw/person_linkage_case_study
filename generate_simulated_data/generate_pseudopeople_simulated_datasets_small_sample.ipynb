{
 "cells": [
  {
   "cell_type": "markdown",
   "id": "6f802687-416a-4b38-82d3-ab387dc16c38",
   "metadata": {
    "papermill": {
     "duration": 0.013935,
     "end_time": "2024-01-04T19:37:42.602099",
     "exception": false,
     "start_time": "2024-01-04T19:37:42.588164",
     "status": "completed"
    },
    "tags": []
   },
   "source": [
    "# Generate pseudopeople simulated datasets\n",
    "\n",
    "The very first step is generating pseudopeople data that will be used both directly in the case study, and to create the reference files.\n",
    "Since this is an intensive operation and currently can only be distributed with Modin, we do only this step in this notebook, then\n",
    "save the results."
   ]
  },
  {
   "cell_type": "code",
   "execution_count": 1,
   "id": "6a821e3e-9ae1-466d-b24f-66d1b0703a92",
   "metadata": {
    "papermill": {
     "duration": 4.392207,
     "end_time": "2024-01-04T19:37:47.002276",
     "exception": false,
     "start_time": "2024-01-04T19:37:42.610069",
     "status": "completed"
    },
    "tags": []
   },
   "outputs": [],
   "source": [
    "import warnings\n",
    "import pseudopeople as psp\n",
    "import numpy as np\n",
    "import os, shutil\n",
    "import logging\n",
    "from pathlib import Path\n",
    "# Importing pandas for access, regardless of whether we are using it as the compute engine\n",
    "import pandas"
   ]
  },
  {
   "cell_type": "code",
   "execution_count": 2,
   "id": "57d8bb5e-1f72-4db1-9d64-a7758e7ba087",
   "metadata": {
    "papermill": {
     "duration": 0.038124,
     "end_time": "2024-01-04T19:37:47.053935",
     "exception": false,
     "start_time": "2024-01-04T19:37:47.015811",
     "status": "completed"
    },
    "tags": []
   },
   "outputs": [],
   "source": [
    "%load_ext autoreload\n",
    "%autoreload 1"
   ]
  },
  {
   "cell_type": "code",
   "execution_count": 3,
   "id": "fdf1e371-a255-4ed0-86d0-fde6cabbc49f",
   "metadata": {
    "papermill": {
     "duration": 0.024336,
     "end_time": "2024-01-04T19:37:47.088602",
     "exception": false,
     "start_time": "2024-01-04T19:37:47.064266",
     "status": "completed"
    },
    "tags": []
   },
   "outputs": [],
   "source": [
    "%aimport vivarium_research_prl\n",
    "from vivarium_research_prl import distributed_compute, utils"
   ]
  },
  {
   "cell_type": "code",
   "execution_count": 4,
   "id": "cc4546dc-f329-48b7-9988-5d25991939f0",
   "metadata": {
    "papermill": {
     "duration": 0.018426,
     "end_time": "2024-01-04T19:37:47.115425",
     "exception": false,
     "start_time": "2024-01-04T19:37:47.096999",
     "status": "completed"
    },
    "tags": []
   },
   "outputs": [],
   "source": [
    "warnings.simplefilter(action='ignore', category=FutureWarning)"
   ]
  },
  {
   "cell_type": "code",
   "execution_count": 5,
   "id": "7ac996f3-1270-4211-a829-728e3b2ba6f7",
   "metadata": {
    "editable": true,
    "papermill": {
     "duration": 0.019563,
     "end_time": "2024-01-04T19:37:47.142193",
     "exception": false,
     "start_time": "2024-01-04T19:37:47.122630",
     "status": "completed"
    },
    "slideshow": {
     "slide_type": ""
    },
    "tags": [
     "parameters"
    ]
   },
   "outputs": [],
   "source": [
    "# DO NOT EDIT if this notebook is not called generate_pseudopeople_simulated_datasets.ipynb!\n",
    "# This notebook is designed to be run with papermill; this cell is tagged 'parameters'\n",
    "# When you run this, save it to another filename.\n",
    "data_to_use = 'small_sample'\n",
    "output_dir = 'output'\n",
    "compute_engine = 'pandas'\n",
    "# Only matter if distributing\n",
    "num_jobs = 5\n",
    "cpus_per_job = 2\n",
    "memory_per_job = \"10GB\"\n",
    "very_noisy = True\n",
    "pseudopeople_seed = 0"
   ]
  },
  {
   "cell_type": "code",
   "execution_count": 6,
   "id": "d23e90be-2f7f-46db-ae17-a3dae23b7a4a",
   "metadata": {
    "papermill": {
     "duration": 0.01892,
     "end_time": "2024-01-04T19:37:47.169057",
     "exception": false,
     "start_time": "2024-01-04T19:37:47.150137",
     "status": "completed"
    },
    "tags": []
   },
   "outputs": [],
   "source": [
    "output_dir = str(Path(output_dir) / data_to_use / \"pseudopeople_simulated_datasets\")"
   ]
  },
  {
   "cell_type": "code",
   "execution_count": 7,
   "id": "7c907a06-99bc-4d30-a46c-bd25e3318c01",
   "metadata": {
    "papermill": {
     "duration": 0.018853,
     "end_time": "2024-01-04T19:37:47.195667",
     "exception": false,
     "start_time": "2024-01-04T19:37:47.176814",
     "status": "completed"
    },
    "tags": []
   },
   "outputs": [],
   "source": [
    "df_ops, pd = distributed_compute.start_compute_engine(\n",
    "    compute_engine,\n",
    "    num_jobs=num_jobs,\n",
    "    cpus_per_job=cpus_per_job,\n",
    "    memory_per_job=memory_per_job,\n",
    ")"
   ]
  },
  {
   "cell_type": "code",
   "execution_count": 8,
   "id": "79ff29f5-473d-4dab-9e7f-453f284ad8d8",
   "metadata": {
    "papermill": {
     "duration": 0.161668,
     "end_time": "2024-01-04T19:37:47.365936",
     "exception": false,
     "start_time": "2024-01-04T19:37:47.204268",
     "status": "completed"
    },
    "tags": []
   },
   "outputs": [
    {
     "name": "stdout",
     "output_type": "stream",
     "text": [
      "Thu 08 Feb 2024 08:49:15 AM PST\n"
     ]
    }
   ],
   "source": [
    "! date"
   ]
  },
  {
   "cell_type": "code",
   "execution_count": 9,
   "id": "41e6be4e-a9b4-47c3-ae1a-f6e7d2c9dc6c",
   "metadata": {
    "papermill": {
     "duration": 0.026029,
     "end_time": "2024-01-04T19:37:47.403954",
     "exception": false,
     "start_time": "2024-01-04T19:37:47.377925",
     "status": "completed"
    },
    "tags": []
   },
   "outputs": [
    {
     "data": {
      "text/plain": [
       "'0.8.3.dev6+g31db93a'"
      ]
     },
     "execution_count": 9,
     "metadata": {},
     "output_type": "execute_result"
    }
   ],
   "source": [
    "psp.__version__"
   ]
  },
  {
   "cell_type": "markdown",
   "id": "8a08bfa0-f644-4faa-b303-ef24d9a32b86",
   "metadata": {
    "papermill": {
     "duration": 0.006576,
     "end_time": "2024-01-04T19:37:47.418544",
     "exception": false,
     "start_time": "2024-01-04T19:37:47.411968",
     "status": "completed"
    },
    "tags": []
   },
   "source": [
    "## Load simulated data"
   ]
  },
  {
   "cell_type": "code",
   "execution_count": 10,
   "id": "8abfcc66-502c-45f1-a269-d0c60fa5f0c9",
   "metadata": {
    "papermill": {
     "duration": 0.018928,
     "end_time": "2024-01-04T19:37:47.444281",
     "exception": false,
     "start_time": "2024-01-04T19:37:47.425353",
     "status": "completed"
    },
    "tags": []
   },
   "outputs": [],
   "source": [
    "if data_to_use == 'small_sample':\n",
    "    pseudopeople_input_dir = None\n",
    "elif data_to_use == 'ri':\n",
    "    pseudopeople_input_dir = '/mnt/team/simulation_science/priv/engineering/vivarium_census_prl_synth_pop/results/release_02_yellow/full_data/united_states_of_america/2023_07_28_08_33_09/final_results/2023_08_16_09_58_54/states/pseudopeople_input_data_rhode_island/'\n",
    "elif data_to_use == 'usa':\n",
    "    pseudopeople_input_dir = '/mnt/team/simulation_science/priv/engineering/vivarium_census_prl_synth_pop/results/release_02_yellow/full_data/united_states_of_america/2023_07_28_08_33_09/final_results/2023_08_16_09_58_54/pseudopeople_input_data_usa/'\n",
    "else:\n",
    "    raise ValueError()"
   ]
  },
  {
   "cell_type": "code",
   "execution_count": 11,
   "id": "cc05826f-98d7-4dac-adf9-8d9f80809811",
   "metadata": {
    "papermill": {
     "duration": 0.017531,
     "end_time": "2024-01-04T19:37:47.469323",
     "exception": false,
     "start_time": "2024-01-04T19:37:47.451792",
     "status": "completed"
    },
    "tags": []
   },
   "outputs": [],
   "source": [
    "psp_kwargs = {\n",
    "    'source': pseudopeople_input_dir,\n",
    "    'seed': pseudopeople_seed,\n",
    "}\n",
    "if 'modin' in compute_engine:\n",
    "    psp_kwargs['engine'] = 'modin'"
   ]
  },
  {
   "cell_type": "markdown",
   "id": "02bd7b4d-645d-4dca-94ae-ee1780048aa0",
   "metadata": {
    "papermill": {
     "duration": 0.006116,
     "end_time": "2024-01-04T19:37:47.482760",
     "exception": false,
     "start_time": "2024-01-04T19:37:47.476644",
     "status": "completed"
    },
    "tags": []
   },
   "source": [
    "### Noise configuration\n",
    "\n",
    "In order to give ourselves more of a challenge, we significantly increase the amount of noise\n",
    "from the pseudopeople defaults."
   ]
  },
  {
   "cell_type": "code",
   "execution_count": 12,
   "id": "9dbb002e-8468-4885-a4b5-52fdb75ce7c0",
   "metadata": {
    "papermill": {
     "duration": 0.026006,
     "end_time": "2024-01-04T19:37:47.515125",
     "exception": false,
     "start_time": "2024-01-04T19:37:47.489119",
     "status": "completed"
    },
    "tags": []
   },
   "outputs": [],
   "source": [
    "default_configuration = psp.get_config()"
   ]
  },
  {
   "cell_type": "code",
   "execution_count": 13,
   "id": "a42207b2-5f2b-40c1-82d8-4d6ca36fe4c4",
   "metadata": {
    "papermill": {
     "duration": 0.015815,
     "end_time": "2024-01-04T19:37:47.540729",
     "exception": false,
     "start_time": "2024-01-04T19:37:47.524914",
     "status": "completed"
    },
    "tags": []
   },
   "outputs": [],
   "source": [
    "# Helper functions for changing the default configuration according to a pattern\n",
    "def column_noise_value(dataset, column, noise_type, default_value):\n",
    "    if very_noisy and dataset in ('decennial_census', 'taxes_w2_and_1099', 'social_security'):\n",
    "        if noise_type == \"make_typos\":\n",
    "            if column == \"middle_initial\":\n",
    "                # 5% of middle initials (which are all a single token anyway) are wrong.\n",
    "                return {\"cell_probability\": 0.05, \"token_probability\": 1}\n",
    "            elif column in (\"first_name\", \"last_name\", \"street_name\"):\n",
    "                # 10% of these text columns were entered carelessly, at a rate of 1 error\n",
    "                # per 10 characters.\n",
    "                # The pseudopeople default is 1% careless.\n",
    "                return {\"cell_probability\": 0.1, \"token_probability\": 0.1}\n",
    "        elif noise_type == \"write_wrong_digits\" and (dataset != \"social_security\" or column != \"ssn\"):\n",
    "            # 10% of number columns were written carelessly, at a rate of 1 error\n",
    "            # per 10 characters.\n",
    "            # The pseudopeople default is 1% careless.\n",
    "            # Note that this is applied on top of (the default lower levels of) typos,\n",
    "            # since typos also apply to numeric characters.\n",
    "            # We never introduce error on the SSN in the SSA dataset\n",
    "            return {\"cell_probability\": 0.1, \"token_probability\": 0.1}\n",
    "\n",
    "    return default_value\n",
    "\n",
    "\n",
    "def row_noise_value(dataset, noise_type, default_value):\n",
    "    return default_value"
   ]
  },
  {
   "cell_type": "code",
   "execution_count": 14,
   "id": "e7c9dd19-eac0-455f-9af3-7bc7bc3029e0",
   "metadata": {
    "papermill": {
     "duration": 0.016001,
     "end_time": "2024-01-04T19:37:47.564549",
     "exception": false,
     "start_time": "2024-01-04T19:37:47.548548",
     "status": "completed"
    },
    "tags": []
   },
   "outputs": [],
   "source": [
    "custom_configuration = {\n",
    "    dataset: {\n",
    "        noise_category: (\n",
    "            ({\n",
    "                column: {\n",
    "                    noise_type: column_noise_value(dataset, column, noise_type, noise_type_config)\n",
    "                    for noise_type, noise_type_config in column_config.items()\n",
    "                }\n",
    "                for column, column_config in noise_category_config.items()\n",
    "            }\n",
    "            if noise_category == \"column_noise\" else\n",
    "            {\n",
    "                noise_type: row_noise_value(dataset, noise_type, noise_type_config)\n",
    "                for noise_type, noise_type_config in noise_category_config.items()\n",
    "            })\n",
    "        )\n",
    "        for noise_category, noise_category_config in dataset_config.items()\n",
    "    }\n",
    "    for dataset, dataset_config in default_configuration.items()\n",
    "}"
   ]
  },
  {
   "cell_type": "code",
   "execution_count": 15,
   "id": "e8056884-bb09-475b-9499-56ba79b96c6a",
   "metadata": {
    "papermill": {
     "duration": 0.014931,
     "end_time": "2024-01-04T19:37:47.587277",
     "exception": false,
     "start_time": "2024-01-04T19:37:47.572346",
     "status": "completed"
    },
    "tags": []
   },
   "outputs": [],
   "source": [
    "psp_kwargs['config'] = custom_configuration"
   ]
  },
  {
   "cell_type": "code",
   "execution_count": 16,
   "id": "c1c60a44-8860-4c6a-b416-43666532bda8",
   "metadata": {
    "papermill": {
     "duration": 0.017334,
     "end_time": "2024-01-04T19:37:47.612304",
     "exception": false,
     "start_time": "2024-01-04T19:37:47.594970",
     "status": "completed"
    },
    "tags": []
   },
   "outputs": [],
   "source": [
    "if data_to_use == 'ri':\n",
    "    # TODO: Test whether this works on Modin.\n",
    "    simulants_ever_observed = df_ops.empty_dataframe(columns=['simulant_id'], dtype=str)"
   ]
  },
  {
   "cell_type": "markdown",
   "id": "5fe8e46b-f936-4704-b120-9bbcbce6c3e9",
   "metadata": {
    "papermill": {
     "duration": 0.006452,
     "end_time": "2024-01-04T19:37:47.627168",
     "exception": false,
     "start_time": "2024-01-04T19:37:47.620716",
     "status": "completed"
    },
    "tags": []
   },
   "source": [
    "### Simulated 1040 tax filings\n",
    "\n",
    "We assume that the last 5 years of taxes would be available and used in the construction of the reference files -- see section about reference files below.\n",
    "\n",
    "Note that these are retrieved by *tax* year, so the 2029 taxes would be available in early 2030\n",
    "(around when our hypothetical case study is taking place)."
   ]
  },
  {
   "cell_type": "code",
   "execution_count": 17,
   "id": "8157a22b-45f3-4fc1-803e-4670a554b23f",
   "metadata": {
    "papermill": {
     "duration": 0.018687,
     "end_time": "2024-01-04T19:37:47.652340",
     "exception": false,
     "start_time": "2024-01-04T19:37:47.633653",
     "status": "completed"
    },
    "tags": []
   },
   "outputs": [
    {
     "data": {
      "text/plain": [
       "[2025, 2026, 2027, 2028, 2029]"
      ]
     },
     "execution_count": 17,
     "metadata": {},
     "output_type": "execute_result"
    }
   ],
   "source": [
    "tax_years = list(range(2025, 2030))\n",
    "tax_years"
   ]
  },
  {
   "cell_type": "code",
   "execution_count": 18,
   "id": "1b9a92b7-bdaf-454d-8ad4-97db95d6b461",
   "metadata": {
    "papermill": {
     "duration": 3.59899,
     "end_time": "2024-01-04T19:37:51.258772",
     "exception": false,
     "start_time": "2024-01-04T19:37:47.659782",
     "status": "completed"
    },
    "tags": []
   },
   "outputs": [
    {
     "name": "stdout",
     "output_type": "stream",
     "text": [
      "2025\n"
     ]
    },
    {
     "name": "stderr",
     "output_type": "stream",
     "text": [
      "                                                                \r"
     ]
    },
    {
     "name": "stdout",
     "output_type": "stream",
     "text": [
      "2026\n"
     ]
    },
    {
     "name": "stderr",
     "output_type": "stream",
     "text": [
      "                                                                 \r"
     ]
    },
    {
     "name": "stdout",
     "output_type": "stream",
     "text": [
      "2027\n"
     ]
    },
    {
     "name": "stderr",
     "output_type": "stream",
     "text": [
      "                                                                 \r"
     ]
    },
    {
     "name": "stdout",
     "output_type": "stream",
     "text": [
      "2028\n"
     ]
    },
    {
     "name": "stderr",
     "output_type": "stream",
     "text": [
      "                                                                \r"
     ]
    },
    {
     "name": "stdout",
     "output_type": "stream",
     "text": [
      "2029\n"
     ]
    },
    {
     "name": "stderr",
     "output_type": "stream",
     "text": [
      "                                                                "
     ]
    },
    {
     "name": "stdout",
     "output_type": "stream",
     "text": [
      "CPU times: user 4.86 s, sys: 409 ms, total: 5.27 s\n",
      "Wall time: 4.19 s\n"
     ]
    },
    {
     "name": "stderr",
     "output_type": "stream",
     "text": []
    },
    {
     "name": "stdout",
     "output_type": "stream",
     "text": [
      "2029\n"
     ]
    },
    {
     "name": "stderr",
     "output_type": "stream",
     "text": [
      "                                                                 "
     ]
    },
    {
     "name": "stdout",
     "output_type": "stream",
     "text": [
      "CPU times: user 4.27 s, sys: 315 ms, total: 4.58 s\n",
      "Wall time: 3.58 s\n"
     ]
    },
    {
     "name": "stderr",
     "output_type": "stream",
     "text": [
      "\r"
     ]
    }
   ],
   "source": [
    "%%time\n",
    "\n",
    "for year in tax_years:\n",
    "    print(year)\n",
    "    df = psp.generate_taxes_1040(\n",
    "        year=year,\n",
    "        **psp_kwargs,\n",
    "    )\n",
    "    if data_to_use == 'ri':\n",
    "        simulants_ever_observed = df_ops.persist(df_ops.drop_duplicates(df_ops.concat([\n",
    "            simulants_ever_observed,\n",
    "            df[['simulant_id']]\n",
    "        ], ignore_index=True)))\n",
    "    utils.remove_path(str(Path(output_dir) / f\"simulated_taxes_1040_{year}.parquet\"))\n",
    "    df.to_parquet(str(Path(output_dir) / f\"simulated_taxes_1040_{year}.parquet\"))"
   ]
  },
  {
   "cell_type": "markdown",
   "id": "d8bad94f-c803-41e0-bf17-9ecfdb56cdbd",
   "metadata": {
    "papermill": {
     "duration": 0.007512,
     "end_time": "2024-01-04T19:37:51.277611",
     "exception": false,
     "start_time": "2024-01-04T19:37:51.270099",
     "status": "completed"
    },
    "tags": []
   },
   "source": [
    "### Simulated W2/1099 tax filings\n",
    "\n",
    "We assume that the last 5 years of taxes would be available and used in the construction of the reference files.\n",
    "\n",
    "Note that these are retrieved by *tax* year, so the 2029 taxes would be available in early 2030\n",
    "(around when our hypothetical case study is taking place)."
   ]
  },
  {
   "cell_type": "code",
   "execution_count": 19,
   "id": "2c072c69-f7c7-4bf1-b99e-48c3257063ba",
   "metadata": {
    "papermill": {
     "duration": 2.616559,
     "end_time": "2024-01-04T19:37:53.901508",
     "exception": false,
     "start_time": "2024-01-04T19:37:51.284949",
     "status": "completed"
    },
    "tags": []
   },
   "outputs": [
    {
     "name": "stdout",
     "output_type": "stream",
     "text": [
      "2025\n"
     ]
    },
    {
     "name": "stderr",
     "output_type": "stream",
     "text": [
      "                                                                \r"
     ]
    },
    {
     "name": "stdout",
     "output_type": "stream",
     "text": [
      "2026\n"
     ]
    },
    {
     "name": "stderr",
     "output_type": "stream",
     "text": [
      "                                                                \r"
     ]
    },
    {
     "name": "stdout",
     "output_type": "stream",
     "text": [
      "2027\n"
     ]
    },
    {
     "name": "stderr",
     "output_type": "stream",
     "text": [
      "                                                                \r"
     ]
    },
    {
     "name": "stdout",
     "output_type": "stream",
     "text": [
      "2028\n"
     ]
    },
    {
     "name": "stderr",
     "output_type": "stream",
     "text": [
      "                                                                \r"
     ]
    },
    {
     "name": "stdout",
     "output_type": "stream",
     "text": [
      "2029\n"
     ]
    },
    {
     "name": "stderr",
     "output_type": "stream",
     "text": [
      "                                                                "
     ]
    },
    {
     "name": "stdout",
     "output_type": "stream",
     "text": [
      "CPU times: user 3.43 s, sys: 356 ms, total: 3.78 s\n",
      "Wall time: 3.03 s\n"
     ]
    },
    {
     "name": "stderr",
     "output_type": "stream",
     "text": [
      "                                                                 \r"
     ]
    },
    {
     "name": "stdout",
     "output_type": "stream",
     "text": [
      "2029\n"
     ]
    },
    {
     "name": "stderr",
     "output_type": "stream",
     "text": [
      "                                                                 \r"
     ]
    },
    {
     "name": "stdout",
     "output_type": "stream",
     "text": [
      "CPU times: user 3.06 s, sys: 212 ms, total: 3.27 s\n",
      "Wall time: 2.57 s\n"
     ]
    }
   ],
   "source": [
    "%%time\n",
    "\n",
    "for year in tax_years:\n",
    "    print(year)\n",
    "    df = psp.generate_taxes_w2_and_1099(\n",
    "        year=year,\n",
    "        **psp_kwargs,\n",
    "    )\n",
    "    if data_to_use == 'ri':\n",
    "        simulants_ever_observed = df_ops.persist(df_ops.drop_duplicates(df_ops.concat([\n",
    "            simulants_ever_observed,\n",
    "            df[['simulant_id']]\n",
    "        ], ignore_index=True)))\n",
    "    utils.remove_path(str(Path(output_dir) / f\"simulated_taxes_w2_and_1099_{year}.parquet\"))\n",
    "    df.to_parquet(str(Path(output_dir) / f\"simulated_taxes_w2_and_1099_{year}.parquet\"))"
   ]
  },
  {
   "cell_type": "markdown",
   "id": "ed6967cb-dfa6-4b43-98b9-e590d266f55f",
   "metadata": {
    "papermill": {
     "duration": 0.008198,
     "end_time": "2024-01-04T19:37:53.922952",
     "exception": false,
     "start_time": "2024-01-04T19:37:53.914754",
     "status": "completed"
    },
    "tags": []
   },
   "source": [
    "### Simulated 2030 Census Unedited File (CUF)\n",
    "\n",
    "For now, we gloss over the data schema for addresses.\n",
    "We don't know how addresses would be formatted in the CUF (and it's hard to guess, because\n",
    "address is not part of the Census form), but it likely would have some of these fields\n",
    "(street number, street name, etc) combined.\n",
    "\n",
    "While PVS input files do not in general have names split into first, middle, and last,\n",
    "I am guessing the CUF **would** have first name, middle initial, last name (which is how pseudopeople\n",
    "generates it), because that [matches the Census questionnaire](https://www2.census.gov/programs-surveys/decennial/2020/technical-documentation/questionnaires-and-instructions/questionnaires/2020-informational-questionnaire-english_DI-Q1.pdf)."
   ]
  },
  {
   "cell_type": "code",
   "execution_count": 20,
   "id": "670c2201-c8a3-43d8-8f3a-f98bf576666a",
   "metadata": {
    "papermill": {
     "duration": 0.455519,
     "end_time": "2024-01-04T19:37:54.387859",
     "exception": false,
     "start_time": "2024-01-04T19:37:53.932340",
     "status": "completed"
    },
    "tags": []
   },
   "outputs": [
    {
     "name": "stderr",
     "output_type": "stream",
     "text": [
      "                                                                 \r"
     ]
    },
    {
     "name": "stdout",
     "output_type": "stream",
     "text": [
      "CPU times: user 559 ms, sys: 19.9 ms, total: 579 ms\n",
      "Wall time: 533 ms\n",
      "CPU times: user 430 ms, sys: 35.2 ms, total: 465 ms\n",
      "Wall time: 434 ms\n"
     ]
    }
   ],
   "source": [
    "%%time\n",
    "\n",
    "simulated_census_2030 = psp.generate_decennial_census(\n",
    "    year=2030,\n",
    "    **psp_kwargs,\n",
    ")\n",
    "if data_to_use == 'ri':\n",
    "    simulants_ever_observed = df_ops.persist(df_ops.drop_duplicates(df_ops.concat([\n",
    "        simulants_ever_observed,\n",
    "        simulated_census_2030[['simulant_id']]\n",
    "    ], ignore_index=True)))\n",
    "utils.remove_path(str(Path(output_dir) / f\"simulated_census_2030.parquet\"))\n",
    "simulated_census_2030.to_parquet(str(Path(output_dir) / f\"simulated_census_2030.parquet\"))"
   ]
  },
  {
   "cell_type": "markdown",
   "id": "480d3767-1895-4c4f-91d8-72d13a19b5ec",
   "metadata": {
    "papermill": {
     "duration": 0.008674,
     "end_time": "2024-01-04T19:37:54.410106",
     "exception": false,
     "start_time": "2024-01-04T19:37:54.401432",
     "status": "completed"
    },
    "tags": []
   },
   "source": [
    "### Simulated SSA Numident\n",
    "\n",
    "Wagner and Layne, p.4:\n",
    "\n",
    "> The reference files are derived from the Social Security Administration\n",
    "    (SSA) Numerical Identification file (SSA Numident). The Numident contains all\n",
    "    transactions recorded against one Social Security Number (SSN)...\n",
    "\n",
    "Based on the [SSA Numident through 2007 which is publicly available from NARA](https://aad.archives.gov/aad/series-description.jsp?s=5057),\n",
    "we know there are three kinds of transactions: SSN applications, deaths, and claiming benefits.\n",
    "SSN holders may change their information (e.g. changing name or sex) by submitting another application,\n",
    "which generates an additional application transaction.\n",
    "(The policies about this are found [on the SSA website](https://secure.ssa.gov/poms.nsf/lnx/0110212200).)\n",
    "\n",
    "The paper [\"Likely Transgender Individuals in U.S. Federal Administrative Records and the 2010 Census\" by Benjamin Cerf Harris](https://www.census.gov/content/dam/Census/library/working-papers/2015/adrm/carra-wp-2015-03.pdf)\n",
    "includes some helpful statistics (Table 2).\n",
    "The average person in the SSA Numident has 2.2 transactions (called \"claims\" in that paper, but with the same definition\n",
    "as our term \"transaction\": \"Any time an SSN is created or information associated with an existing SSN is changed, that event is registered\n",
    "as a claim.\").\n",
    "\n",
    "pseudopeople does not currently include correction, name change, or benefits claim transactions.\n",
    "It only includes SSN creation and death of the SSN holder.\n",
    "\n",
    "I've figured that there would be some delay in getting the Numident -- so by Census processing time\n",
    "for the 2030 Census, only the SSA transactions by the end of 2029 would be available.\n",
    "Note that with pseudopeople's current design it is only possible to set this cutoff at the end of a calendar year.\n",
    "The NORC report says that \"the Census NUMIDENT is recreated each year, to reflect\n",
    "Social Security transaction records through **March** of each year\" (p. 105),\n",
    "though it isn't clear when in the year the Census Numident is actually re-created."
   ]
  },
  {
   "cell_type": "code",
   "execution_count": 21,
   "id": "3da0de7b-2e91-4d23-96bd-d331a820d7e7",
   "metadata": {
    "papermill": {
     "duration": 0.376951,
     "end_time": "2024-01-04T19:37:54.795867",
     "exception": false,
     "start_time": "2024-01-04T19:37:54.418916",
     "status": "completed"
    },
    "tags": []
   },
   "outputs": [
    {
     "name": "stderr",
     "output_type": "stream",
     "text": [
      "                                                                 "
     ]
    },
    {
     "name": "stdout",
     "output_type": "stream",
     "text": [
      "CPU times: user 399 ms, sys: 41.2 ms, total: 440 ms\n",
      "Wall time: 412 ms\n"
     ]
    },
    {
     "name": "stderr",
     "output_type": "stream",
     "text": [
      "\r"
     ]
    }
   ],
   "source": [
    "%%time\n",
    "\n",
    "simulated_ssa_numident = psp.generate_social_security(\n",
    "    year=2029,\n",
    "    **psp_kwargs,\n",
    ")"
   ]
  },
  {
   "cell_type": "code",
   "execution_count": 22,
   "id": "bae9454f-d6b5-4a67-9301-5614182db8af",
   "metadata": {
    "papermill": {
     "duration": 0.019262,
     "end_time": "2024-01-04T19:37:54.829313",
     "exception": false,
     "start_time": "2024-01-04T19:37:54.810051",
     "status": "completed"
    },
    "tags": []
   },
   "outputs": [
    {
     "name": "stdout",
     "output_type": "stream",
     "text": [
      "CPU times: user 2 µs, sys: 0 ns, total: 2 µs\n",
      "Wall time: 4.77 µs\n"
     ]
    }
   ],
   "source": [
    "%%time\n",
    "\n",
    "# This isn't a file that would really exist, but we just want a medium-sized SSA-like file.\n",
    "# Subset SSA to only the simulants that ever filed taxes or were observed in the Census in\n",
    "# Rhode Island.\n",
    "if data_to_use == 'ri':\n",
    "    simulated_ssa_numident = (\n",
    "        simulated_ssa_numident\n",
    "            .merge(simulants_ever_observed.assign(ever_observed_dummy=1), how=\"left\", on=\"simulant_id\")\n",
    "            .pipe(lambda df: df[df.ever_observed_dummy == 1])\n",
    "            .drop(columns=[\"ever_observed_dummy\"])\n",
    "    )"
   ]
  },
  {
   "cell_type": "code",
   "execution_count": 23,
   "id": "122a7f79-8054-4664-b916-f023585bf398",
   "metadata": {
    "papermill": {
     "duration": 0.07314,
     "end_time": "2024-01-04T19:37:54.912370",
     "exception": false,
     "start_time": "2024-01-04T19:37:54.839230",
     "status": "completed"
    },
    "tags": []
   },
   "outputs": [
    {
     "name": "stdout",
     "output_type": "stream",
     "text": [
      "CPU times: user 53.6 ms, sys: 4.27 ms, total: 57.9 ms\n",
      "Wall time: 66.6 ms\n"
     ]
    }
   ],
   "source": [
    "%%time\n",
    "\n",
    "utils.remove_path(str(Path(output_dir) / \"simulated_ssa_numident.parquet\"))\n",
    "simulated_ssa_numident.to_parquet(str(Path(output_dir) / \"simulated_ssa_numident.parquet\"))"
   ]
  },
  {
   "cell_type": "code",
   "execution_count": 24,
   "id": "ac19c70b-36c9-486f-9e65-6a32ca876ad7",
   "metadata": {
    "papermill": {
     "duration": 0.161188,
     "end_time": "2024-01-04T19:37:55.088777",
     "exception": false,
     "start_time": "2024-01-04T19:37:54.927589",
     "status": "completed"
    },
    "tags": []
   },
   "outputs": [
    {
     "name": "stdout",
     "output_type": "stream",
     "text": [
      "Thu 08 Feb 2024 08:49:24 AM PST\n"
     ]
    }
   ],
   "source": [
    "! date"
   ]
  }
 ],
 "metadata": {
  "kernelspec": {
   "display_name": "Python 3 (ipykernel)",
   "language": "python",
   "name": "python3"
  },
  "language_info": {
   "codemirror_mode": {
    "name": "ipython",
    "version": 3
   },
   "file_extension": ".py",
   "mimetype": "text/x-python",
   "name": "python",
   "nbconvert_exporter": "python",
   "pygments_lexer": "ipython3",
   "version": "3.10.6"
  },
  "papermill": {
   "default_parameters": {},
   "duration": 15.552588,
   "end_time": "2024-01-04T19:37:55.526396",
   "environment_variables": {},
   "exception": null,
   "input_path": "generate_pseudopeople_simulated_datasets.ipynb",
   "output_path": "generate_pseudopeople_simulated_datasets_small_sample.ipynb",
   "parameters": {},
   "start_time": "2024-01-04T19:37:39.973808",
   "version": "2.5.0"
  }
 },
 "nbformat": 4,
 "nbformat_minor": 5
}
