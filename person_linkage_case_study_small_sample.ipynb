{
 "cells": [
  {
   "cell_type": "markdown",
   "id": "ed9e49e5-db4e-4665-9892-0a679dcc22c5",
   "metadata": {
    "papermill": {
     "duration": 0.027071,
     "end_time": "2024-05-16T17:20:42.655344",
     "exception": false,
     "start_time": "2024-05-16T17:20:42.628273",
     "status": "completed"
    },
    "tags": []
   },
   "source": [
    "# **Person linkage case study**\n",
    "\n",
    "In this case study, we imagine running a person linkage to add unique identifiers to a simulated 2030 Census Unedited File (CUF).\n",
    "We emulate the methods of the Census Bureau's Person Identification Validation System (PVS) using publicly available descriptions.\n",
    "The PVS aims to give people in the input file (the CUF, in this case) unique identifiers that can be used to link them to other administrative records.\n",
    "\n",
    "We approximate the (highly confidential) input data to PVS by using simulated data from our pseudopeople package.\n",
    "See the `generate_simulated_data` notebook for details about this.\n",
    "\n",
    "## Sources\n",
    "\n",
    "These papers describe PVS as their main subject:\n",
    "\n",
    "* Wagner and Layne. The Person Identification Validation System (PVS): Applying the Center for Administrative Records Research and Applications’ (CARRA) Record Linkage Software. 2014. https://www.census.gov/content/dam/Census/library/working-papers/2014/adrm/carra-wp-2014-01.pdf ([archived](https://web.archive.org/web/20230216043235/https://www.census.gov/content/dam/Census/library/working-papers/2014/adrm/carra-wp-2014-01.pdf))\n",
    "* Layne, Wagner, and Rothhaas. Estimating Record Linkage False Match Rate for the Person Identification Validation System. 2014. https://www.census.gov/content/dam/Census/library/working-papers/2014/adrm/carra-wp-2014-02.pdf ([archived](https://web.archive.org/web/20220121051156/https://www.census.gov/content/dam/Census/library/working-papers/2014/adrm/carra-wp-2014-02.pdf))\n",
    "* Alexander et al. Creating a Longitudinal Data Infrastructure at the Census Bureau. 2015. https://www.census.gov/content/dam/Census/library/working-papers/2015/adrm/2015-alexander.pdf ([archived](https://web.archive.org/web/20170723192315/http://www.census.gov/content/dam/Census/library/working-papers/2015/adrm/2015-alexander.pdf))\n",
    "* Massey and O'Hara. Person Matching in Historical Files using the Census Bureau’s Person Validation System. 2014. https://www.census.gov/content/dam/Census/library/working-papers/2014/adrm/carra-wp-2014-11.pdf ([archived](https://web.archive.org/web/20221018074814/http://www.census.gov/content/dam/Census/library/working-papers/2014/adrm/carra-wp-2014-11.pdf))\n",
    "* NORC. Assessment of the U.S. Census Bureau’s Person Identification Validation System. 2011. https://www.norc.org/content/dam/norc-org/pdfs/PVS%20Assessment%20Report%20FINAL%20JULY%202011.pdf ([archived](https://web.archive.org/web/20230705005935/https://www.norc.org/content/dam/norc-org/pdfs/PVS%20Assessment%20Report%20FINAL%20JULY%202011.pdf))\n",
    "\n",
    "These apply PVS to some linking task, and in doing so describe it in some detail:\n",
    "\n",
    "* Brown et al. Real-Time 2020 Administrative Record Census Simulation. 2023. https://www2.census.gov/programs-surveys/decennial/2020/program-management/evaluate-docs/EAE-2020-admin-records-experiment.pdf ([archived](https://web.archive.org/web/20230521191811/https://www2.census.gov/programs-surveys/decennial/2020/program-management/evaluate-docs/EAE-2020-admin-records-experiment.pdf))\n",
    "* Massey et al. Linking the 1940 U.S. Census with Modern Data. 2018. https://www.ncbi.nlm.nih.gov/pmc/articles/PMC6530596/ ([DOI](https://doi.org/10.1080%2F01615440.2018.1507772))\n",
    "* Luque and Wagner. Assessing Coverage and Quality of the 2007 Prototype Census Kidlink Database. 2015. https://www.census.gov/content/dam/Census/library/working-papers/2015/adrm/carra-wp-2015-07.pdf ([archived](https://web.archive.org/web/20220808205231/http://www.census.gov/content/dam/Census/library/working-papers/2015/adrm/carra-wp-2015-07.pdf))\n",
    "* Bond et al. The Nature of the Bias When Studying Only Linkable Person Records: Evidence from the American Community Survey. 2014. https://www.census.gov/content/dam/Census/library/working-papers/2014/adrm/carra-wp-2014-08.pdf ([archived](https://web.archive.org/web/20220803083857/http://www.census.gov/content/dam/Census/library/working-papers/2014/adrm/carra-wp-2014-08.pdf))\n",
    "\n",
    "Finally, this paper is about the address matching process (MAF Match) which acts as part of PVS:\n",
    "\n",
    "* Brummet. Comparison of Survey, Federal, and Commercial Address Data Quality. 2014. https://www.census.gov/content/dam/Census/library/working-papers/2014/adrm/carra-wp-2014-06.pdf ([archived](https://web.archive.org/web/20220121213358/https://www.census.gov/content/dam/Census/library/working-papers/2014/adrm/carra-wp-2014-06.pdf))\n",
    "\n",
    "All of these papers are referenced throughout this notebook (and other notebooks) by the authors' names, along with additional information like page numbers.\n",
    "All page numbers represent those of the PDF files themselves, *not* page numbers printed in the documents.\n",
    "\n",
    "## PVS overview\n",
    "\n",
    "Brown et al., p. 28:\n",
    "\n",
    "> The PVS uses probabilistic record linkage (Fellegi and Sunter, 1969) to match data from an\n",
    "    incoming file (e.g., a survey or administrative record file) to reference files containing data on\n",
    "    SSN applications from the NUMIDENT enhanced with address data obtained from other federal\n",
    "    administrative records.\n",
    "\n",
    "## Setup"
   ]
  },
  {
   "cell_type": "code",
   "execution_count": 1,
   "id": "a12f9d0e",
   "metadata": {
    "execution": {
     "iopub.execute_input": "2024-05-16T17:20:42.693671Z",
     "iopub.status.busy": "2024-05-16T17:20:42.693062Z",
     "iopub.status.idle": "2024-05-16T17:20:42.860955Z",
     "shell.execute_reply": "2024-05-16T17:20:42.859431Z"
    },
    "papermill": {
     "duration": 0.191388,
     "end_time": "2024-05-16T17:20:42.864803",
     "exception": false,
     "start_time": "2024-05-16T17:20:42.673415",
     "status": "completed"
    },
    "tags": []
   },
   "outputs": [
    {
     "data": {
      "text/plain": [
       "<dask.config.set at 0x7f51e5776830>"
      ]
     },
     "execution_count": 1,
     "metadata": {},
     "output_type": "execute_result"
    }
   ],
   "source": [
    "# Query planning is now on by default, but it has some rough edges.\n",
    "# See https://github.com/dask/dask/issues/10995 for general discussion\n",
    "# and https://github.com/dask/dask-expr/issues/1066 for the particular\n",
    "# issue I ran into.\n",
    "import dask\n",
    "dask.config.set({\"dataframe.query-planning\": False})"
   ]
  },
  {
   "cell_type": "code",
   "execution_count": 2,
   "id": "f0af1f28-7e30-4860-992e-15da22f9b55f",
   "metadata": {
    "execution": {
     "iopub.execute_input": "2024-05-16T17:20:42.906984Z",
     "iopub.status.busy": "2024-05-16T17:20:42.906292Z",
     "iopub.status.idle": "2024-05-16T17:20:43.573896Z",
     "shell.execute_reply": "2024-05-16T17:20:43.572248Z"
    },
    "papermill": {
     "duration": 0.689573,
     "end_time": "2024-05-16T17:20:43.576114",
     "exception": false,
     "start_time": "2024-05-16T17:20:42.886541",
     "status": "completed"
    },
    "tags": []
   },
   "outputs": [],
   "source": [
    "import re, copy, os, time, datetime\n",
    "import pandas, numpy\n",
    "import jellyfish"
   ]
  },
  {
   "cell_type": "code",
   "execution_count": 3,
   "id": "39ce58b3-0901-420f-b6c2-2dfd85e56f78",
   "metadata": {
    "execution": {
     "iopub.execute_input": "2024-05-16T17:20:43.624636Z",
     "iopub.status.busy": "2024-05-16T17:20:43.623796Z",
     "iopub.status.idle": "2024-05-16T17:20:43.633304Z",
     "shell.execute_reply": "2024-05-16T17:20:43.631527Z"
    },
    "papermill": {
     "duration": 0.036378,
     "end_time": "2024-05-16T17:20:43.637493",
     "exception": false,
     "start_time": "2024-05-16T17:20:43.601115",
     "status": "completed"
    },
    "tags": []
   },
   "outputs": [
    {
     "name": "stdout",
     "output_type": "stream",
     "text": [
      "2024-05-16 10:20:43.626875\n"
     ]
    }
   ],
   "source": [
    "print(datetime.datetime.now())"
   ]
  },
  {
   "cell_type": "code",
   "execution_count": 4,
   "id": "10473b3a-f016-4afd-9e0e-cbaa968555e0",
   "metadata": {
    "execution": {
     "iopub.execute_input": "2024-05-16T17:20:43.688085Z",
     "iopub.status.busy": "2024-05-16T17:20:43.687183Z",
     "iopub.status.idle": "2024-05-16T17:20:43.711075Z",
     "shell.execute_reply": "2024-05-16T17:20:43.710640Z"
    },
    "papermill": {
     "duration": 0.045369,
     "end_time": "2024-05-16T17:20:43.713548",
     "exception": false,
     "start_time": "2024-05-16T17:20:43.668179",
     "status": "completed"
    },
    "tags": []
   },
   "outputs": [],
   "source": [
    "%load_ext autoreload\n",
    "%autoreload 1"
   ]
  },
  {
   "cell_type": "code",
   "execution_count": 5,
   "id": "fbae5f8b-f5b0-43db-907b-bdbc83a2d9c6",
   "metadata": {
    "execution": {
     "iopub.execute_input": "2024-05-16T17:20:43.756054Z",
     "iopub.status.busy": "2024-05-16T17:20:43.755432Z",
     "iopub.status.idle": "2024-05-16T17:20:43.769046Z",
     "shell.execute_reply": "2024-05-16T17:20:43.767148Z"
    },
    "papermill": {
     "duration": 0.034758,
     "end_time": "2024-05-16T17:20:43.770843",
     "exception": false,
     "start_time": "2024-05-16T17:20:43.736085",
     "status": "completed"
    },
    "tags": []
   },
   "outputs": [],
   "source": [
    "%aimport vivarium_research_prl\n",
    "from vivarium_research_prl import distributed_compute, utils"
   ]
  },
  {
   "cell_type": "code",
   "execution_count": 6,
   "id": "47bc4e2e-93cb-47f1-b4ab-fedac26382b8",
   "metadata": {
    "editable": true,
    "execution": {
     "iopub.execute_input": "2024-05-16T17:20:43.814563Z",
     "iopub.status.busy": "2024-05-16T17:20:43.813939Z",
     "iopub.status.idle": "2024-05-16T17:20:43.823316Z",
     "shell.execute_reply": "2024-05-16T17:20:43.822623Z"
    },
    "papermill": {
     "duration": 0.033323,
     "end_time": "2024-05-16T17:20:43.825085",
     "exception": false,
     "start_time": "2024-05-16T17:20:43.791762",
     "status": "completed"
    },
    "slideshow": {
     "slide_type": ""
    },
    "tags": [
     "parameters"
    ]
   },
   "outputs": [],
   "source": [
    "# DO NOT EDIT if this notebook is not called person_linkage_case_study.ipynb!\n",
    "# This notebook is designed to be run with papermill; this cell is tagged 'parameters'\n",
    "data_to_use = 'small_sample'\n",
    "input_dir = 'output/generate_simulated_data'\n",
    "output_dir = 'output'\n",
    "\n",
    "# The \"compute engine\" is what we use on the Python side\n",
    "# for our case-study-specific operations,\n",
    "# as opposed to the Splink engine\n",
    "compute_engine = 'pandas'\n",
    "# Only matter if using a distributed compute engine\n",
    "compute_engine_num_jobs = 3\n",
    "compute_engine_cpus_per_job = 2\n",
    "compute_engine_memory_per_job = \"1GB\"\n",
    "\n",
    "splink_engine = 'duckdb'\n",
    "# Only matter if using Spark\n",
    "spark_local = False\n",
    "# Only matter if using distributed (non-local) Spark\n",
    "spark_cpus_master = 2\n",
    "spark_memory_master = \"5GB\"\n",
    "spark_num_workers = 15\n",
    "spark_cpus_per_worker = 2\n",
    "spark_memory_per_worker = \"4GB\"\n",
    "spark_worker_memory_overhead_mb = 500\n",
    "\n",
    "clear_intermediate = True"
   ]
  },
  {
   "cell_type": "code",
   "execution_count": 7,
   "id": "708d22f8",
   "metadata": {
    "execution": {
     "iopub.execute_input": "2024-05-16T17:20:43.865337Z",
     "iopub.status.busy": "2024-05-16T17:20:43.864717Z",
     "iopub.status.idle": "2024-05-16T17:20:43.872515Z",
     "shell.execute_reply": "2024-05-16T17:20:43.870986Z"
    },
    "papermill": {
     "duration": 0.029784,
     "end_time": "2024-05-16T17:20:43.874362",
     "exception": false,
     "start_time": "2024-05-16T17:20:43.844578",
     "status": "completed"
    },
    "tags": [
     "injected-parameters"
    ]
   },
   "outputs": [],
   "source": [
    "# Parameters\n",
    "data_to_use = \"small_sample\"\n",
    "input_dir = \"output/generate_simulated_data/\"\n",
    "output_dir = \"output/results/\"\n",
    "compute_engine = \"pandas\"\n",
    "splink_engine = \"duckdb\"\n"
   ]
  },
  {
   "cell_type": "code",
   "execution_count": 8,
   "id": "cd911b83-9295-46a4-957f-7de919ce451b",
   "metadata": {
    "execution": {
     "iopub.execute_input": "2024-05-16T17:20:43.918217Z",
     "iopub.status.busy": "2024-05-16T17:20:43.914371Z",
     "iopub.status.idle": "2024-05-16T17:20:43.927638Z",
     "shell.execute_reply": "2024-05-16T17:20:43.925957Z"
    },
    "papermill": {
     "duration": 0.034396,
     "end_time": "2024-05-16T17:20:43.929667",
     "exception": false,
     "start_time": "2024-05-16T17:20:43.895271",
     "status": "completed"
    },
    "tags": []
   },
   "outputs": [],
   "source": [
    "# # Parameters (WIP) for an RI run\n",
    "# data_to_use = \"usa\"\n",
    "# input_dir = \"/ihme/scratch/users/zmbc/person_linkage_case_study/generate_simulated_data\"\n",
    "# output_dir = \"/ihme/scratch/users/zmbc/person_linkage_case_study/person_linkage_case_study\"\n",
    "\n",
    "# compute_engine = 'dask'\n",
    "# compute_engine_num_jobs = 10\n",
    "# compute_engine_memory_per_job = \"5GB\"\n",
    "# compute_engine_cpus_per_job = 2\n",
    "\n",
    "# splink_engine = 'spark'\n",
    "# spark_num_workers = 50\n",
    "# spark_cpus_per_worker = 2\n",
    "# spark_memory_per_worker = \"30GB\"\n",
    "# spark_worker_memory_overhead_mb = 5_000"
   ]
  },
  {
   "cell_type": "code",
   "execution_count": 9,
   "id": "94d42219-f60e-4547-8c98-2bf1b73af392",
   "metadata": {
    "execution": {
     "iopub.execute_input": "2024-05-16T17:20:43.971922Z",
     "iopub.status.busy": "2024-05-16T17:20:43.971479Z",
     "iopub.status.idle": "2024-05-16T17:20:43.977202Z",
     "shell.execute_reply": "2024-05-16T17:20:43.975667Z"
    },
    "papermill": {
     "duration": 0.028014,
     "end_time": "2024-05-16T17:20:43.978927",
     "exception": false,
     "start_time": "2024-05-16T17:20:43.950913",
     "status": "completed"
    },
    "tags": []
   },
   "outputs": [],
   "source": [
    "# # Parameters (WIP) for a full USA run\n",
    "# data_to_use = \"usa\"\n",
    "# input_dir = \"/ihme/scratch/users/zmbc/person_linkage_case_study/generate_simulated_data\"\n",
    "# output_dir = \"/ihme/scratch/users/zmbc/person_linkage_case_study/person_linkage_case_study\"\n",
    "\n",
    "# compute_engine = 'dask'\n",
    "# compute_engine_num_jobs = 50\n",
    "# compute_engine_memory_per_job = \"120GB\"\n",
    "# compute_engine_cpus_per_job = 2\n",
    "\n",
    "# splink_engine = 'spark'\n",
    "# spark_cpus_master = 10\n",
    "# spark_memory_master = \"40GB\"\n",
    "# spark_num_workers = 50\n",
    "# spark_cpus_per_worker = 2\n",
    "# spark_memory_per_worker = \"120GB\"\n",
    "# spark_worker_memory_overhead_mb = 5_000"
   ]
  },
  {
   "cell_type": "code",
   "execution_count": 10,
   "id": "5a0ba030-3ce6-489a-9659-296048287a75",
   "metadata": {
    "execution": {
     "iopub.execute_input": "2024-05-16T17:20:44.016439Z",
     "iopub.status.busy": "2024-05-16T17:20:44.016263Z",
     "iopub.status.idle": "2024-05-16T17:20:44.021757Z",
     "shell.execute_reply": "2024-05-16T17:20:44.020140Z"
    },
    "papermill": {
     "duration": 0.02642,
     "end_time": "2024-05-16T17:20:44.023463",
     "exception": false,
     "start_time": "2024-05-16T17:20:43.997043",
     "status": "completed"
    },
    "tags": []
   },
   "outputs": [],
   "source": [
    "output_dir = f'{output_dir}/{data_to_use}'"
   ]
  },
  {
   "cell_type": "code",
   "execution_count": 11,
   "id": "da04a59b-ed5b-43b9-a7b0-7e763e20be11",
   "metadata": {
    "execution": {
     "iopub.execute_input": "2024-05-16T17:20:44.107309Z",
     "iopub.status.busy": "2024-05-16T17:20:44.106965Z",
     "iopub.status.idle": "2024-05-16T17:20:44.112991Z",
     "shell.execute_reply": "2024-05-16T17:20:44.111349Z"
    },
    "papermill": {
     "duration": 0.02715,
     "end_time": "2024-05-16T17:20:44.115035",
     "exception": false,
     "start_time": "2024-05-16T17:20:44.087885",
     "status": "completed"
    },
    "tags": []
   },
   "outputs": [],
   "source": [
    "df_ops, pd = distributed_compute.start_compute_engine(\n",
    "    compute_engine,\n",
    "    num_jobs=compute_engine_num_jobs,\n",
    "    cpus_per_job=compute_engine_cpus_per_job,\n",
    "    memory_per_job=compute_engine_memory_per_job,\n",
    ")"
   ]
  },
  {
   "cell_type": "code",
   "execution_count": null,
   "id": "65ab2072-f46d-49eb-a4d1-a89a30f1de36",
   "metadata": {
    "papermill": {
     "duration": 0.017103,
     "end_time": "2024-05-16T17:20:44.151572",
     "exception": false,
     "start_time": "2024-05-16T17:20:44.134469",
     "status": "completed"
    },
    "tags": []
   },
   "outputs": [],
   "source": []
  },
  {
   "cell_type": "code",
   "execution_count": 12,
   "id": "4efdd565-6ae1-4bf9-b124-8e3d05d90143",
   "metadata": {
    "execution": {
     "iopub.execute_input": "2024-05-16T17:20:44.189106Z",
     "iopub.status.busy": "2024-05-16T17:20:44.188815Z",
     "iopub.status.idle": "2024-05-16T17:20:44.200543Z",
     "shell.execute_reply": "2024-05-16T17:20:44.198907Z"
    },
    "papermill": {
     "duration": 0.032859,
     "end_time": "2024-05-16T17:20:44.202521",
     "exception": false,
     "start_time": "2024-05-16T17:20:44.169662",
     "status": "completed"
    },
    "tags": []
   },
   "outputs": [],
   "source": [
    "import pathlib\n",
    "pwd = os.getcwd()\n",
    "slurm_output_dir = f\"{output_dir}/slurm_output\"\n",
    "if clear_intermediate:\n",
    "    utils.ensure_empty(slurm_output_dir)"
   ]
  },
  {
   "cell_type": "code",
   "execution_count": 13,
   "id": "152189c1-e987-4000-b386-684d0938737c",
   "metadata": {
    "execution": {
     "iopub.execute_input": "2024-05-16T17:20:44.242894Z",
     "iopub.status.busy": "2024-05-16T17:20:44.242593Z",
     "iopub.status.idle": "2024-05-16T17:20:44.318983Z",
     "shell.execute_reply": "2024-05-16T17:20:44.317881Z"
    },
    "papermill": {
     "duration": 0.09728,
     "end_time": "2024-05-16T17:20:44.320433",
     "exception": false,
     "start_time": "2024-05-16T17:20:44.223153",
     "status": "completed"
    },
    "tags": []
   },
   "outputs": [],
   "source": [
    "import requests"
   ]
  },
  {
   "cell_type": "code",
   "execution_count": 14,
   "id": "7eccb943-b21f-46ed-a22f-2c200cd83a36",
   "metadata": {
    "execution": {
     "iopub.execute_input": "2024-05-16T17:20:44.362281Z",
     "iopub.status.busy": "2024-05-16T17:20:44.362106Z",
     "iopub.status.idle": "2024-05-16T17:20:44.368318Z",
     "shell.execute_reply": "2024-05-16T17:20:44.366826Z"
    },
    "papermill": {
     "duration": 0.027541,
     "end_time": "2024-05-16T17:20:44.369931",
     "exception": false,
     "start_time": "2024-05-16T17:20:44.342390",
     "status": "completed"
    },
    "tags": []
   },
   "outputs": [],
   "source": [
    "if spark_memory_per_worker.endswith('G') or spark_memory_per_worker.endswith('GB'):\n",
    "    spark_memory_per_worker = int(re.search(r'(\\d+)GB?', spark_memory_per_worker).group(1)) * 1_000\n",
    "elif spark_memory_per_worker.endswith('M') or spark_memory_per_worker.endswith('MB'):\n",
    "    spark_memory_per_worker = int(re.search(r'(\\d+)MB?', spark_memory_per_worker).group(1))\n",
    "else:\n",
    "    raise ValueError()"
   ]
  },
  {
   "cell_type": "code",
   "execution_count": 15,
   "id": "3c6ca817-6be3-49ff-89fb-6fc6647f9500",
   "metadata": {
    "editable": true,
    "execution": {
     "iopub.execute_input": "2024-05-16T17:20:44.407661Z",
     "iopub.status.busy": "2024-05-16T17:20:44.407485Z",
     "iopub.status.idle": "2024-05-16T17:20:44.425556Z",
     "shell.execute_reply": "2024-05-16T17:20:44.423834Z"
    },
    "papermill": {
     "duration": 0.038231,
     "end_time": "2024-05-16T17:20:44.426974",
     "exception": false,
     "start_time": "2024-05-16T17:20:44.388743",
     "status": "completed"
    },
    "slideshow": {
     "slide_type": ""
    },
    "tags": []
   },
   "outputs": [],
   "source": [
    "if splink_engine == 'spark':\n",
    "    if spark_local:\n",
    "        spark_master_url = \"local[2]\"\n",
    "    else:\n",
    "        log_path = f\"{slurm_output_dir}/spark-master-%j.out\"\n",
    "        array_job_log_path = f\"{slurm_output_dir}/spark-worker-%A_%a.out\"\n",
    "        print(\"Starting Spark master\")\n",
    "        spark_start_master_output = os.popen(\n",
    "            f\"sbatch --output {log_path} --error {log_path} \"\n",
    "            f\"--cpus-per-task {spark_cpus_master} --mem {spark_memory_master} \"\n",
    "            f\"-A proj_simscience -p long.q {pwd}/start_spark_master.sh\"\n",
    "        ).read()\n",
    "        spark_master_job_id = re.match('Submitted batch job (\\d+)', spark_start_master_output)[1]\n",
    "\n",
    "        # TODO: This cleanup is not actually working\n",
    "        import atexit\n",
    "        \n",
    "        def kill_spark_master():\n",
    "            os.popen(f\"scancel {spark_master_job_id}\").read()\n",
    "        \n",
    "        atexit.register(kill_spark_master)\n",
    "\n",
    "        while True:\n",
    "            logs = os.popen(f\"cat {log_path.replace('%j', spark_master_job_id)} 2>&1\").read()\n",
    "            starting_lines = [l for l in logs.split('\\n') if 'Starting Spark master at' in l]\n",
    "            webui_starting_lines = [l for l in logs.split('\\n') if 'Bound MasterWebUI to' in l]\n",
    "            if len(starting_lines) > 0 and len(webui_starting_lines) > 0:\n",
    "                break\n",
    "            else:\n",
    "                time.sleep(5)\n",
    "\n",
    "        spark_master_url = re.match('.*Starting Spark master at (spark:.+)$', starting_lines[0])[1]\n",
    "        spark_master_webui_url = re.match('.*Bound MasterWebUI to .*, and started at (http:.+)$', webui_starting_lines[0])[1]\n",
    "        print(f'Got Spark master URL: {spark_master_url}')\n",
    "        print('\\n'.join([l for l in logs.split('\\n') if 'Bound MasterWebUI' in l]))\n",
    "\n",
    "        spark_worker_job_ids = []\n",
    "\n",
    "        def start_spark_workers(n_workers):\n",
    "            spark_start_workers_output = os.popen(\n",
    "                f\"sbatch --output {array_job_log_path} --error {array_job_log_path} \"\n",
    "                f\"--array=1-{n_workers} --cpus-per-task {spark_cpus_per_worker} --mem {spark_memory_per_worker} \"\n",
    "                f\"-A proj_simscience -p long.q {pwd}/start_spark_workers.sh {spark_master_url} {spark_worker_memory_overhead_mb}\"\n",
    "            ).read()\n",
    "            job_id = re.match('Submitted batch job (\\d+)', spark_start_workers_output)[1]\n",
    "            spark_worker_job_ids.append(job_id)\n",
    "\n",
    "            while True:\n",
    "                logs = os.popen(f\"cat {array_job_log_path.replace('%A', job_id).replace('%a', '*')} 2>&1\").read()\n",
    "                starting_lines = [l for l in logs.split('\\n') if 'Starting Spark worker' in l]\n",
    "                if len(starting_lines) == n_workers:\n",
    "                    print('\\n'.join([l for l in logs.split('\\n') if 'Starting Spark worker' in l or 'Bound WorkerWebUI' in l]))\n",
    "                    break\n",
    "                else:\n",
    "                    time.sleep(5)\n",
    "\n",
    "            return job_id\n",
    "\n",
    "        print('Starting Spark workers')\n",
    "        spark_workers_job_id = start_spark_workers(spark_num_workers)\n",
    "\n",
    "        def kill_spark_workers():\n",
    "            for job_id in spark_worker_job_ids:\n",
    "                os.popen(f\"scancel {job_id}\").read()\n",
    "\n",
    "        atexit.register(kill_spark_workers)\n",
    "\n",
    "        import asyncio\n",
    "        import requests\n",
    "\n",
    "        def maintain_spark_worker_count():\n",
    "            while True:\n",
    "                alive_workers = requests.get(f'{spark_master_webui_url}/json/').json()['aliveworkers']\n",
    "                if alive_workers < spark_num_workers:\n",
    "                    num_to_start = spark_num_workers - alive_workers\n",
    "                    print(f\"Starting {num_to_start} more Spark worker(s)\")\n",
    "                    start_spark_workers(num_to_start)\n",
    "                time.sleep(20)\n",
    "\n",
    "        def stop():\n",
    "            task.cancel()\n",
    "\n",
    "        atexit.register(stop)\n",
    "\n",
    "        loop = asyncio.get_event_loop()\n",
    "        task = loop.run_in_executor(None, maintain_spark_worker_count)"
   ]
  },
  {
   "cell_type": "markdown",
   "id": "86e8c9a9-d691-4110-baed-683004701894",
   "metadata": {
    "papermill": {
     "duration": 0.018025,
     "end_time": "2024-05-16T17:20:44.467042",
     "exception": false,
     "start_time": "2024-05-16T17:20:44.449017",
     "status": "completed"
    },
    "tags": []
   },
   "source": [
    "# Load data\n",
    "\n",
    "See code in `generate_simulated_data` directory for how we generated the files to link"
   ]
  },
  {
   "cell_type": "code",
   "execution_count": 16,
   "id": "cdf1086b-639c-4421-95ef-dc4108b7fd9a",
   "metadata": {
    "execution": {
     "iopub.execute_input": "2024-05-16T17:20:44.503541Z",
     "iopub.status.busy": "2024-05-16T17:20:44.503230Z",
     "iopub.status.idle": "2024-05-16T17:20:44.630748Z",
     "shell.execute_reply": "2024-05-16T17:20:44.628686Z"
    },
    "papermill": {
     "duration": 0.150624,
     "end_time": "2024-05-16T17:20:44.635124",
     "exception": false,
     "start_time": "2024-05-16T17:20:44.484500",
     "status": "completed"
    },
    "tags": []
   },
   "outputs": [],
   "source": [
    "census_2030 = df_ops.persist(df_ops.read_parquet(f'{input_dir}/{data_to_use}/simulated_census_2030.parquet'))\n",
    "geobase_reference_file = df_ops.persist(df_ops.read_parquet(f'{input_dir}/{data_to_use}/simulated_geobase_reference_file.parquet'))\n",
    "name_dob_reference_file = df_ops.persist(df_ops.read_parquet(f'{input_dir}/{data_to_use}/simulated_name_dob_reference_file.parquet'))"
   ]
  },
  {
   "cell_type": "markdown",
   "id": "5bc6d16d-f4c9-4c1a-b969-baee5ac539ad",
   "metadata": {
    "papermill": {
     "duration": 0.017803,
     "end_time": "2024-05-16T17:20:44.679540",
     "exception": false,
     "start_time": "2024-05-16T17:20:44.661737",
     "status": "completed"
    },
    "tags": []
   },
   "source": [
    "# Pre-process input file\n",
    "\n",
    "Wagner and Layne, p. 9:\n",
    "\n",
    "> The first step of the PVS process is to edit data fields to make them homogenous for\n",
    "comparisons between incoming and reference files."
   ]
  },
  {
   "cell_type": "code",
   "execution_count": 17,
   "id": "ee0111f6-d8e0-4758-a242-70027d67b313",
   "metadata": {
    "execution": {
     "iopub.execute_input": "2024-05-16T17:20:44.716646Z",
     "iopub.status.busy": "2024-05-16T17:20:44.716298Z",
     "iopub.status.idle": "2024-05-16T17:20:44.722226Z",
     "shell.execute_reply": "2024-05-16T17:20:44.720872Z"
    },
    "papermill": {
     "duration": 0.026515,
     "end_time": "2024-05-16T17:20:44.724308",
     "exception": false,
     "start_time": "2024-05-16T17:20:44.697793",
     "status": "completed"
    },
    "tags": []
   },
   "outputs": [],
   "source": [
    "# Input file before any processing; the final result will be this with the PIK column added\n",
    "census_2030_raw_input = census_2030.copy()"
   ]
  },
  {
   "cell_type": "markdown",
   "id": "829cf59a-804c-4372-bcbf-740ec724b3ee",
   "metadata": {
    "papermill": {
     "duration": 0.018718,
     "end_time": "2024-05-16T17:20:44.761578",
     "exception": false,
     "start_time": "2024-05-16T17:20:44.742860",
     "status": "completed"
    },
    "tags": []
   },
   "source": [
    "## Name parsing and standardizing\n",
    "\n",
    "Wagner and Layne, p. 9:\n",
    "\n",
    "> The first edits are parsing and standardizing - parsing separates fields into\n",
    "component parts, while standardizing guarantees key data elements are consistent (e.g.,\n",
    "STREET, STR are both converted to ST). Name and address fields are parsed and\n",
    "standardized as they are key linkage comparators. \n",
    "\n",
    "As noted in the data generation notebook, there is no parsing to be done here:\n",
    "because the Census questionnnaire asks for first name, middle initial, and last name as\n",
    "separate fields on the form, the name would be already parsed when running PVS on the CUF.\n",
    "\n",
    "The real PVS name parser generates fields like prefix (e.g. Mr.) and suffix (e.g. Jr.)\n",
    "but we never have these in names from pseudopeople.\n",
    "\n",
    "More details about the name parser and standardizer (Wagner and Layne, p. 10):\n",
    "\n",
    "> The PVS system incorporates a name\n",
    "standardizer (McGaughey, 1994), which is a C language subroutine called as a function\n",
    "within SAS. It performs name parsing and includes a nickname lookup table and outputs\n",
    "name variants (standardized variations of first and last names). For example, Bill\n",
    "becomes William, Chuck and Charlie becomes Charles, etc. The PVS keeps both the\n",
    "original name (Bill) and the converted name (William) for matching. PVS also has a fake\n",
    "name table to blank names such as “Queen of the House” or “Baby Girl.” The name data\n",
    "are parsed, checked for nicknames, and standardized.\n",
    "\n",
    "The key thing that wasn't clear to me from this description was what it meant to\n",
    "\"keep both original name and the converted name for matching.\"\n",
    "I found this in Massey et al.:\n",
    "\n",
    "> The Name Search Module also accounts for instances where census records contain a nickname.\n",
    "> For these records, the preprocessing step of the Name Search module outputs two records for\n",
    "> these observations, one record for the nickname and one record for the formal name.\n",
    "> For example, if the input record has the name “Bill Smith,” the formatting program will add\n",
    "> a formal name “William” to that record. This record will then output to both the B-S cut and to the W-S cut.\n",
    "\n",
    "From this, I gather that nicknames work similar to alternate names in the reference file:\n",
    "entire duplicate records are made with each name (nickname and formal).\n",
    "However, I am still confused by calling this \"the preprocessing step **of the Name Search module**.\"\n",
    "In Wagner and Layne it does not seem like this is module-specific, and I don't see any\n",
    "reason that would be desirable, so I have done this multi-record approach across all modules."
   ]
  },
  {
   "cell_type": "code",
   "execution_count": 18,
   "id": "7b449705-cd3f-4a14-9520-b4dfb1fa481b",
   "metadata": {
    "execution": {
     "iopub.execute_input": "2024-05-16T17:20:44.798275Z",
     "iopub.status.busy": "2024-05-16T17:20:44.797864Z",
     "iopub.status.idle": "2024-05-16T17:20:44.807752Z",
     "shell.execute_reply": "2024-05-16T17:20:44.806780Z"
    },
    "papermill": {
     "duration": 0.03022,
     "end_time": "2024-05-16T17:20:44.809307",
     "exception": false,
     "start_time": "2024-05-16T17:20:44.779087",
     "status": "completed"
    },
    "tags": []
   },
   "outputs": [
    {
     "name": "stdout",
     "output_type": "stream",
     "text": [
      "4 nicknames in the Census\n"
     ]
    }
   ],
   "source": [
    "# Nickname processing\n",
    "# Have not yet found a nickname list in PVS docs,\n",
    "# so we do a minimal version for now -- could use\n",
    "# another list such as the one in pseudopeople\n",
    "# These examples all come directly from examples in the descriptions of PVS\n",
    "nickname_standardizations = {\n",
    "    \"Bill\": \"William\",\n",
    "    \"Chuck\": \"Charles\",\n",
    "    \"Charlie\": \"Charles\",\n",
    "    \"Cathy\": \"Catherine\",\n",
    "    \"Matt\": \"Matthew\",\n",
    "}\n",
    "has_nickname = df_ops.persist(census_2030.first_name.isin(nickname_standardizations.keys()))\n",
    "print(f'{df_ops.compute(has_nickname.sum()):,.0f} nicknames in the Census')"
   ]
  },
  {
   "cell_type": "code",
   "execution_count": 19,
   "id": "8b119152-d5db-4d78-bab9-b15feae95f98",
   "metadata": {
    "execution": {
     "iopub.execute_input": "2024-05-16T17:20:44.846843Z",
     "iopub.status.busy": "2024-05-16T17:20:44.846530Z",
     "iopub.status.idle": "2024-05-16T17:20:44.857502Z",
     "shell.execute_reply": "2024-05-16T17:20:44.856648Z"
    },
    "papermill": {
     "duration": 0.03135,
     "end_time": "2024-05-16T17:20:44.859446",
     "exception": false,
     "start_time": "2024-05-16T17:20:44.828096",
     "status": "completed"
    },
    "tags": []
   },
   "outputs": [],
   "source": [
    "# Add extra rows for the normalized names\n",
    "census_2030 = df_ops.concat([\n",
    "    census_2030,\n",
    "    census_2030[has_nickname].assign(first_name=lambda df: df.first_name.replace(nickname_standardizations))\n",
    "], ignore_index=True)"
   ]
  },
  {
   "cell_type": "code",
   "execution_count": 20,
   "id": "bb25cd47-aab9-42ee-98a5-3bdc3d66c2af",
   "metadata": {
    "execution": {
     "iopub.execute_input": "2024-05-16T17:20:44.897548Z",
     "iopub.status.busy": "2024-05-16T17:20:44.897237Z",
     "iopub.status.idle": "2024-05-16T17:20:44.916574Z",
     "shell.execute_reply": "2024-05-16T17:20:44.915790Z"
    },
    "papermill": {
     "duration": 0.03912,
     "end_time": "2024-05-16T17:20:44.917821",
     "exception": false,
     "start_time": "2024-05-16T17:20:44.878701",
     "status": "completed"
    },
    "tags": []
   },
   "outputs": [],
   "source": [
    "# Note: The above will introduce duplicates on record_id, so we redefine\n",
    "# record_id to be unique (without getting rid of the original, input file record ID)\n",
    "census_2030 = df_ops.add_unique_record_id(\n",
    "    census_2030.rename(columns={'record_id': 'record_id_raw_input_file'}),\n",
    "    \"census_2030_preprocessed\",\n",
    ")"
   ]
  },
  {
   "cell_type": "code",
   "execution_count": 21,
   "id": "a086540a-d9d0-4068-8ee8-539314aa91e6",
   "metadata": {
    "execution": {
     "iopub.execute_input": "2024-05-16T17:20:44.956830Z",
     "iopub.status.busy": "2024-05-16T17:20:44.956477Z",
     "iopub.status.idle": "2024-05-16T17:20:44.975464Z",
     "shell.execute_reply": "2024-05-16T17:20:44.974934Z"
    },
    "papermill": {
     "duration": 0.039161,
     "end_time": "2024-05-16T17:20:44.976595",
     "exception": false,
     "start_time": "2024-05-16T17:20:44.937434",
     "status": "completed"
    },
    "tags": []
   },
   "outputs": [
    {
     "data": {
      "text/html": [
       "<div>\n",
       "<style scoped>\n",
       "    .dataframe tbody tr th:only-of-type {\n",
       "        vertical-align: middle;\n",
       "    }\n",
       "\n",
       "    .dataframe tbody tr th {\n",
       "        vertical-align: top;\n",
       "    }\n",
       "\n",
       "    .dataframe thead th {\n",
       "        text-align: right;\n",
       "    }\n",
       "</style>\n",
       "<table border=\"1\" class=\"dataframe\">\n",
       "  <thead>\n",
       "    <tr style=\"text-align: right;\">\n",
       "      <th></th>\n",
       "      <th>fake_name</th>\n",
       "    </tr>\n",
       "  </thead>\n",
       "  <tbody>\n",
       "    <tr>\n",
       "      <th>0</th>\n",
       "      <td>(CONFIDENTIAL)</td>\n",
       "    </tr>\n",
       "    <tr>\n",
       "      <th>1</th>\n",
       "      <td>(NO MIDDLE NAME)</td>\n",
       "    </tr>\n",
       "    <tr>\n",
       "      <th>2</th>\n",
       "      <td>A RELUCTANT</td>\n",
       "    </tr>\n",
       "    <tr>\n",
       "      <th>3</th>\n",
       "      <td>ADULT</td>\n",
       "    </tr>\n",
       "    <tr>\n",
       "      <th>4</th>\n",
       "      <td>ADULT F</td>\n",
       "    </tr>\n",
       "    <tr>\n",
       "      <th>...</th>\n",
       "      <td>...</td>\n",
       "    </tr>\n",
       "    <tr>\n",
       "      <th>766</th>\n",
       "      <td>YOUNGEST DAUG</td>\n",
       "    </tr>\n",
       "    <tr>\n",
       "      <th>767</th>\n",
       "      <td>YOUNGEST GIRL</td>\n",
       "    </tr>\n",
       "    <tr>\n",
       "      <th>768</th>\n",
       "      <td>YR BOY</td>\n",
       "    </tr>\n",
       "    <tr>\n",
       "      <th>769</th>\n",
       "      <td>YR GIRL</td>\n",
       "    </tr>\n",
       "    <tr>\n",
       "      <th>770</th>\n",
       "      <td>YR OLD</td>\n",
       "    </tr>\n",
       "  </tbody>\n",
       "</table>\n",
       "<p>768 rows × 1 columns</p>\n",
       "</div>"
      ],
      "text/plain": [
       "            fake_name\n",
       "0      (CONFIDENTIAL)\n",
       "1    (NO MIDDLE NAME)\n",
       "2         A RELUCTANT\n",
       "3               ADULT\n",
       "4             ADULT F\n",
       "..                ...\n",
       "766     YOUNGEST DAUG\n",
       "767     YOUNGEST GIRL\n",
       "768            YR BOY\n",
       "769           YR GIRL\n",
       "770            YR OLD\n",
       "\n",
       "[768 rows x 1 columns]"
      ]
     },
     "execution_count": 21,
     "metadata": {},
     "output_type": "execute_result"
    }
   ],
   "source": [
    "# This list of fake names comes from the NORC report, p. 100-101\n",
    "# It is what was used in PVS as of 2011\n",
    "fake_names = pd.read_csv('fake-names.txt', header=None).rename(columns={0: 'fake_name'})\n",
    "fake_names = df_ops.persist(\n",
    "    fake_names\n",
    "        .assign(fake_name=fake_names.fake_name.str.strip().str.upper())\n",
    "        .dropna(subset='fake_name')\n",
    "        .pipe(df_ops.drop_duplicates)\n",
    "        .pipe(df_ops.ensure_large_string_capacity)\n",
    ")\n",
    "\n",
    "assert df_ops.compute((fake_names.fake_name == fake_names.fake_name.str.upper()).all())\n",
    "fake_names"
   ]
  },
  {
   "cell_type": "code",
   "execution_count": 22,
   "id": "f234ee61-5d2a-490e-97ad-eff72df732ad",
   "metadata": {
    "execution": {
     "iopub.execute_input": "2024-05-16T17:20:45.013734Z",
     "iopub.status.busy": "2024-05-16T17:20:45.013398Z",
     "iopub.status.idle": "2024-05-16T17:20:45.062074Z",
     "shell.execute_reply": "2024-05-16T17:20:45.061225Z"
    },
    "papermill": {
     "duration": 0.06867,
     "end_time": "2024-05-16T17:20:45.063290",
     "exception": false,
     "start_time": "2024-05-16T17:20:44.994620",
     "status": "completed"
    },
    "tags": []
   },
   "outputs": [
    {
     "name": "stdout",
     "output_type": "stream",
     "text": [
      "Found 61 fake names in first_name\n",
      "Found 57 fake names in last_name\n"
     ]
    }
   ],
   "source": [
    "for col in [\"first_name\", \"last_name\"]:\n",
    "    census_2030 = census_2030.assign(**{f'{col}_upper': census_2030[col].str.upper()}).merge(fake_names, left_on=f'{col}_upper', right_on='fake_name', how='left')\n",
    "    has_fake_name = df_ops.persist(census_2030.fake_name.notnull())\n",
    "    print(f'Found {df_ops.compute(has_fake_name.sum()):,.0f} fake names in {col}')\n",
    "    census_2030 = df_ops.concat([\n",
    "        census_2030[~has_fake_name].drop(columns=['fake_name', f'{col}_upper']),\n",
    "        # NOTE: For reasons I don't really understand, assigning pandas.NA reverts it to a normal string instead of a large_string\n",
    "        census_2030[has_fake_name].assign(**{col: pandas.NA}).drop(columns=['fake_name', f'{col}_upper']).pipe(df_ops.ensure_large_string_capacity),\n",
    "    ], ignore_index=True)"
   ]
  },
  {
   "cell_type": "markdown",
   "id": "26659727-027b-4daf-8921-1fdb4b5e4d54",
   "metadata": {
    "papermill": {
     "duration": 0.018452,
     "end_time": "2024-05-16T17:20:45.101726",
     "exception": false,
     "start_time": "2024-05-16T17:20:45.083274",
     "status": "completed"
    },
    "tags": []
   },
   "source": [
    "## Address parsing and standardizing\n",
    "\n",
    "Wagner and Layne, p. 11:\n",
    "\n",
    "> The PVS editing process also incorporates an address parser and standardizer,\n",
    "written in the C language and called as a function within SAS (U.S. Census Bureau\n",
    "Geography Division, 1995). It performs parsing of address strings into individual output\n",
    "fields (see Figure 2), and standardizes the spelling of key components of the address\n",
    "such as street type. The PVS also incorporates use of a commercial product to update\n",
    "zip codes, and correct misspellings of address elements.\n",
    "\n",
    "As noted in the data generation notebook, for now we haven't combined the address parts\n",
    "into a single string that would need to be parsed.\n",
    "We plan to add this in a future version of pseudopeople.\n",
    "\n",
    "For now, we do some simple standardization in each of the address parts (street number,\n",
    "street name, etc)."
   ]
  },
  {
   "cell_type": "code",
   "execution_count": 23,
   "id": "9435bc12-0002-44bc-91e3-26083d95c498",
   "metadata": {
    "execution": {
     "iopub.execute_input": "2024-05-16T17:20:45.139405Z",
     "iopub.status.busy": "2024-05-16T17:20:45.139064Z",
     "iopub.status.idle": "2024-05-16T17:20:45.237617Z",
     "shell.execute_reply": "2024-05-16T17:20:45.236808Z"
    },
    "papermill": {
     "duration": 0.119068,
     "end_time": "2024-05-16T17:20:45.238889",
     "exception": false,
     "start_time": "2024-05-16T17:20:45.119821",
     "status": "completed"
    },
    "tags": []
   },
   "outputs": [],
   "source": [
    "def standardize_address_part(column):\n",
    "    return (\n",
    "        column\n",
    "            # Remove leading or trailing whitespace\n",
    "            .str.strip()\n",
    "            # Turn any strings of consecutive whitespace into a single space\n",
    "            .str.replace('\\s+', ' ', regex=True)\n",
    "            # Normalize case\n",
    "            .str.upper()\n",
    "            # Normalize the word street as described in the example quoted above\n",
    "            # In reality, there would be many rules like this\n",
    "            .str.replace('\\b(STREET|STR)\\b', 'ST', regex=True)\n",
    "            # Make sure missingness is represented consistently\n",
    "            .replace('', pandas.NA)\n",
    "    )\n",
    "\n",
    "address_cols = ['street_number', 'street_name', 'unit_number', 'city', 'state', 'zipcode']\n",
    "for address_col in address_cols:\n",
    "    census_2030 = census_2030.assign(**{address_col: census_2030[address_col].pipe(standardize_address_part)})\n",
    "\n",
    "census_2030 = df_ops.ensure_large_string_capacity(census_2030)"
   ]
  },
  {
   "cell_type": "markdown",
   "id": "95b55b52-c3ad-41da-9351-05ef56927dbf",
   "metadata": {
    "papermill": {
     "duration": 0.018102,
     "end_time": "2024-05-16T17:20:45.277448",
     "exception": false,
     "start_time": "2024-05-16T17:20:45.259346",
     "status": "completed"
    },
    "tags": []
   },
   "source": [
    "## MAFMatch\n",
    "\n",
    "**General information about MAFMatch**\n",
    "\n",
    "Wagner and Layne, p. 11:\n",
    "\n",
    "> The PVS provides an additional address enhancement by matching records in the\n",
    "incoming file to Census Bureau’s Master Address File (MAF) in order to assign a unique\n",
    "address identifier, the MAF Identifier (MAFID), and other Census geographical codes\n",
    "(e.g., Census tract and block). The MAFID is used in the PVS for search purposes and as a\n",
    "linkage key for administrative files. Then, addresses are matched to the Census Bureau’s\n",
    "Topologically Integrated Geographic Encoding and Referencing Database (TIGER) to\n",
    "obtain Census geographical codes.\n",
    "\n",
    "My understanding is that this step is useful for two reasons:\n",
    "- Potentially adds an alternate version/way of formatting the same address\n",
    "  (the way it is in the MAF, instead of the way it is in the input file).\n",
    "  However, instead of using this alternate to match directly, it is boiled down\n",
    "  to a MAFID, so it is only useful when an input file address and a reference file\n",
    "  address (different to one another) both match to the same MAF address.\n",
    "  (Presumably, the whole MAFMatch process described here needs to run on the reference files?)\n",
    "- Adds Census geographies which could be used in blocking (but are they?)\n",
    "\n",
    "I don't understand the TIGER part of this.\n",
    "In particular, p. 12 describes a probabilistic/fuzzy match to TIGER, but I thought TIGER\n",
    "would contain exactly the same addresses as the MAF.\n",
    "I also don't understand what geocodes would be present in TIGER that wouldn't also be\n",
    "present in the MAF.\n",
    "Maybe these things are more out-of-sync with each other than I understood.\n",
    "\n",
    "**MAFMatch in this case study**\n",
    "\n",
    "In the decennial Census, the sampling frame is a subset of the MAF (Brown et al., p. 15, footnote 4).\n",
    "That is, in the CUF, the address field (which is not supplied by the respondent)\n",
    "would be the MAF address the questionnaire/NRFU was sent to.\n",
    "\n",
    "Therefore, I don't believe it makes sense to do MAFMatch for the CUF, because all the addresses\n",
    "are already the same.\n",
    "I haven't fully confirmed this, but p. 14 of Wagner and Layne says\n",
    "\n",
    "> The 2010 Census Unedited File (CUF), had 350 million records and processed through every PVS\n",
    "module, excluding MAF match and SSN verification\n",
    "\n",
    "which suggests that (like SSN verification) MAFMatch is not applicable to the CUF.\n",
    "\n",
    "Given this, we skip MAFMatch here.\n",
    "Also, if we wanted to add it, we would need to generate something like a MAF from pseudopeople."
   ]
  },
  {
   "cell_type": "markdown",
   "id": "2e7ec2c6-a028-4f36-a041-63627fb60fd6",
   "metadata": {
    "papermill": {
     "duration": 0.017936,
     "end_time": "2024-05-16T17:20:45.313794",
     "exception": false,
     "start_time": "2024-05-16T17:20:45.295858",
     "status": "completed"
    },
    "tags": []
   },
   "source": [
    "## Drop records with insufficient information\n",
    "\n",
    "In 2011 (NORC, p. 25):\n",
    "\n",
    "> The initial edit process, described in the Introduction: PVS Background section, removes from consideration\n",
    "incoming records that have no name data. Therefore, no record that is processed in PVS has blank first and last\n",
    "names.\n",
    "\n",
    "In 2014 it appears to be the same/similar, because in Table 2 of Wagner and Layne there is a row \"NO SEARCH: Blank Name\" (p. 18).\n",
    "\n",
    "In 2023 (Brown et al., p. 28):\n",
    "\n",
    "> Records containing sufficient PII to be linkable with some confidence, for example those\n",
    "containing name and age, are sent through the linkage process.<sup>15</sup>\n",
    "\n",
    "> <sup>15</sup> Records with names on the PVS invalid name list (e.g., “Mickey Mouse,” “householder,” or “son”) are excluded\n",
    "from PVS search.\n",
    "\n",
    "I'd prefer to use the 2023 information, but it is too vague:\n",
    "\"for example\" means this is just an approximation, and it doesn't specify\n",
    "parts of \"name.\"\n",
    "The footnote also seems to contradict earlier reports, which said fake names were simply\n",
    "blanked out, which seems preferable.\n",
    "Since the fake name step comes before this one, a fake first **and** last name would lead\n",
    "to exclusion here, which is perhaps what the footnote was intending?\n",
    "\n",
    "Here, we follow the blank-name approach."
   ]
  },
  {
   "cell_type": "code",
   "execution_count": 24,
   "id": "277c1379-c46b-4a0f-8011-596efae84778",
   "metadata": {
    "execution": {
     "iopub.execute_input": "2024-05-16T17:20:45.351162Z",
     "iopub.status.busy": "2024-05-16T17:20:45.350824Z",
     "iopub.status.idle": "2024-05-16T17:20:45.358178Z",
     "shell.execute_reply": "2024-05-16T17:20:45.357284Z"
    },
    "papermill": {
     "duration": 0.028274,
     "end_time": "2024-05-16T17:20:45.360111",
     "exception": false,
     "start_time": "2024-05-16T17:20:45.331837",
     "status": "completed"
    },
    "tags": []
   },
   "outputs": [],
   "source": [
    "census_2030 = census_2030[\n",
    "    census_2030.first_name.notnull() |\n",
    "    census_2030.last_name.notnull()\n",
    "]"
   ]
  },
  {
   "cell_type": "markdown",
   "id": "e51a91f7-e733-4a3d-bd56-7e23b0c8d138",
   "metadata": {
    "papermill": {
     "duration": 0.018191,
     "end_time": "2024-05-16T17:20:45.398536",
     "exception": false,
     "start_time": "2024-05-16T17:20:45.380345",
     "status": "completed"
    },
    "tags": []
   },
   "source": [
    "# Create derived variables for use in linkage\n",
    "\n",
    "Here we create variables to be used as matching variables and blocking keys,\n",
    "when those matching variables/blocking keys are defined in a way that is not already\n",
    "present in the data at this point.\n",
    "\n",
    "The variables needed here depend on the modules and passes described below -- see those\n",
    "sections for more citations."
   ]
  },
  {
   "cell_type": "code",
   "execution_count": 25,
   "id": "edb97b21-8ca1-4ad3-bae1-dbf7dc0bee00",
   "metadata": {
    "execution": {
     "iopub.execute_input": "2024-05-16T17:20:45.435897Z",
     "iopub.status.busy": "2024-05-16T17:20:45.435579Z",
     "iopub.status.idle": "2024-05-16T17:20:45.450902Z",
     "shell.execute_reply": "2024-05-16T17:20:45.450048Z"
    },
    "papermill": {
     "duration": 0.035362,
     "end_time": "2024-05-16T17:20:45.452232",
     "exception": false,
     "start_time": "2024-05-16T17:20:45.416870",
     "status": "completed"
    },
    "tags": []
   },
   "outputs": [],
   "source": [
    "# We want to compare mailing address with physical address\n",
    "geobase_reference_file = geobase_reference_file.rename(columns=lambda c: c.replace('mailing_address_', ''))"
   ]
  },
  {
   "cell_type": "code",
   "execution_count": 26,
   "id": "c61c2257-a840-498a-9aa5-0788f9763634",
   "metadata": {
    "execution": {
     "iopub.execute_input": "2024-05-16T17:20:45.492320Z",
     "iopub.status.busy": "2024-05-16T17:20:45.492003Z",
     "iopub.status.idle": "2024-05-16T17:20:45.560805Z",
     "shell.execute_reply": "2024-05-16T17:20:45.559954Z"
    },
    "papermill": {
     "duration": 0.0896,
     "end_time": "2024-05-16T17:20:45.562474",
     "exception": false,
     "start_time": "2024-05-16T17:20:45.472874",
     "status": "completed"
    },
    "tags": []
   },
   "outputs": [],
   "source": [
    "# PVS uses DOB as separate fields for day, month, and year\n",
    "def split_dob(df, date_format='%Y%m%d'):\n",
    "    # Have to be floats because we want to treat as numeric for assessing similarity\n",
    "    # Note that as of now, none of our pseudopeople noise types would change the punctuation (\"/\") in the date, but\n",
    "    # they can insert non-numeric characters here or otherwise create invalid dates, in which case we fail to parse the date\n",
    "    # and treat it as missing.\n",
    "    dob = pd.to_datetime(df.date_of_birth, format=date_format, errors='coerce')\n",
    "    df = df.assign(\n",
    "        month_of_birth=dob.dt.month,\n",
    "        year_of_birth=dob.dt.year,\n",
    "        day_of_birth=dob.dt.day,\n",
    "    )\n",
    "    df = df.assign(\n",
    "        month_of_birth=df.month_of_birth.fillna(pandas.NA),\n",
    "        year_of_birth=df.year_of_birth.fillna(pandas.NA),\n",
    "        day_of_birth=df.day_of_birth.fillna(pandas.NA),\n",
    "    )\n",
    "    return df.drop(columns=['date_of_birth'])\n",
    "\n",
    "census_2030 = split_dob(census_2030, date_format='%m/%d/%Y')\n",
    "geobase_reference_file = split_dob(geobase_reference_file)\n",
    "name_dob_reference_file = split_dob(name_dob_reference_file)"
   ]
  },
  {
   "cell_type": "code",
   "execution_count": 27,
   "id": "55126ed5-94e3-4713-badd-9861f5c6ab68",
   "metadata": {
    "execution": {
     "iopub.execute_input": "2024-05-16T17:20:45.605419Z",
     "iopub.status.busy": "2024-05-16T17:20:45.605078Z",
     "iopub.status.idle": "2024-05-16T17:20:45.661144Z",
     "shell.execute_reply": "2024-05-16T17:20:45.660418Z"
    },
    "papermill": {
     "duration": 0.076555,
     "end_time": "2024-05-16T17:20:45.662555",
     "exception": false,
     "start_time": "2024-05-16T17:20:45.586000",
     "status": "completed"
    },
    "tags": []
   },
   "outputs": [],
   "source": [
    "# I don't fully understand the purpose of blocking on the geokey,\n",
    "# as opposed to just blocking on its constituent columns.\n",
    "# Maybe it is a way of dealing with missingness in those constituent\n",
    "# columns (e.g. so an address with no unit number can still be blocked on geokey)?\n",
    "def add_geokey(df):\n",
    "    return (\n",
    "        df.assign(\n",
    "            geokey=distributed_compute.add_strings(\n",
    "                compute_engine,\n",
    "                [\n",
    "                    df.street_number, ' ',\n",
    "                    df.street_name, ' ',\n",
    "                    df.unit_number, ' ',\n",
    "                    df.city, ' ',\n",
    "                    df.state, ' ',\n",
    "                    df.zipcode,\n",
    "                ]\n",
    "                # Normalize the whitespace\n",
    "            ).str.replace('\\s+', ' ', regex=True).str.strip().replace('', pandas.NA)\n",
    "        )\n",
    "        .pipe(df_ops.ensure_large_string_capacity)\n",
    "    )\n",
    "\n",
    "geobase_reference_file = add_geokey(geobase_reference_file)\n",
    "census_2030 = df_ops.persist(add_geokey(census_2030))"
   ]
  },
  {
   "cell_type": "code",
   "execution_count": 28,
   "id": "6d51e08a-8e28-4c0f-9a62-d6207a560f46",
   "metadata": {
    "execution": {
     "iopub.execute_input": "2024-05-16T17:20:45.703520Z",
     "iopub.status.busy": "2024-05-16T17:20:45.703064Z",
     "iopub.status.idle": "2024-05-16T17:20:45.723716Z",
     "shell.execute_reply": "2024-05-16T17:20:45.722831Z"
    },
    "papermill": {
     "duration": 0.041188,
     "end_time": "2024-05-16T17:20:45.724941",
     "exception": false,
     "start_time": "2024-05-16T17:20:45.683753",
     "status": "completed"
    },
    "tags": []
   },
   "outputs": [
    {
     "name": "stdout",
     "output_type": "stream",
     "text": [
      "0 probable GQ geokeys\n"
     ]
    }
   ],
   "source": [
    "# HACK: Remove address information from GQ, so it isn't used for blocking\n",
    "# nor for HHCompSearch.\n",
    "# Currently we have massive GQ \"households.\"\n",
    "# NOTE: This will miss people who are actually in GQ who have had their address noised,\n",
    "# but that doesn't create huge \"households\" anyway so it's not a big deal\n",
    "# NOTE: We can't just throw out any household where anyone has a GQ housing_type\n",
    "# since the housing_type column itself can be noised. We set a threshold (data size dependent)\n",
    "# of how many people in a household need to have a GQ housing_type.\n",
    "unlikely_due_to_noise_threshold = {\n",
    "    'usa': 250,\n",
    "    'ri': 250,\n",
    "    'small_sample': 2,\n",
    "}[data_to_use]\n",
    "probable_gq_geokeys = df_ops.persist(\n",
    "    census_2030[census_2030.housing_type.notnull()].assign(reported_gq=lambda df: df.housing_type != 'Household')\n",
    "        .pipe(df_ops.groupby_agg_small_groups, by=\"geokey\", agg_func=lambda x: x.reported_gq.agg([\"sum\", \"mean\"]))\n",
    "        .pipe(lambda df: df[(df['sum'] >= unlikely_due_to_noise_threshold) & (df['mean'] >= 0.70)])\n",
    "        .reset_index()\n",
    "        .assign(is_gq_geokey=True)\n",
    ")\n",
    "\n",
    "if data_to_use in ('usa', 'ri'):\n",
    "    num_shards = 334\n",
    "    num_gq_types = 6\n",
    "    if data_to_use == 'usa':\n",
    "        # Should be exact\n",
    "        assert num_shards * num_gq_types == len(probable_gq_geokeys)\n",
    "    else:\n",
    "        # Should be close to 1/334 (1 million population)\n",
    "        print(f'{len(probable_gq_geokeys):,.0f} probable GQ geokeys')\n",
    "        assert (num_shards * num_gq_types * 0.5) / 334 <= len(probable_gq_geokeys) <= (num_shards * num_gq_types * 2) / 334\n",
    "else:\n",
    "    print(f'{len(probable_gq_geokeys):,.0f} probable GQ geokeys')"
   ]
  },
  {
   "cell_type": "code",
   "execution_count": 29,
   "id": "a3f92cd7-9a57-4ea1-a97a-c091ea335a00",
   "metadata": {
    "execution": {
     "iopub.execute_input": "2024-05-16T17:20:45.764064Z",
     "iopub.status.busy": "2024-05-16T17:20:45.763697Z",
     "iopub.status.idle": "2024-05-16T17:20:45.793763Z",
     "shell.execute_reply": "2024-05-16T17:20:45.792821Z"
    },
    "papermill": {
     "duration": 0.050598,
     "end_time": "2024-05-16T17:20:45.794999",
     "exception": false,
     "start_time": "2024-05-16T17:20:45.744401",
     "status": "completed"
    },
    "tags": []
   },
   "outputs": [
    {
     "name": "stderr",
     "output_type": "stream",
     "text": [
      "/ihme/homes/zmbc/src/vivarium_research_prl/linkage/person_linkage_case_study/ipykernel_3217531/3030278745.py:1: FutureWarning: Downcasting object dtype arrays on .fillna, .ffill, .bfill is deprecated and will change in a future version. Call result.infer_objects(copy=False) instead. To opt-in to the future behavior, set `pd.set_option('future.no_silent_downcasting', True)`\n",
      "  census_2030 = census_2030.merge(probable_gq_geokeys[['geokey', 'is_gq_geokey']], on=\"geokey\", how=\"left\").assign(is_gq_geokey=lambda df: df.is_gq_geokey.fillna(False))\n"
     ]
    }
   ],
   "source": [
    "census_2030 = census_2030.merge(probable_gq_geokeys[['geokey', 'is_gq_geokey']], on=\"geokey\", how=\"left\").assign(is_gq_geokey=lambda df: df.is_gq_geokey.fillna(False))\n",
    "\n",
    "census_2030 = df_ops.ensure_large_string_capacity(df_ops.concat([\n",
    "    census_2030[~census_2030.is_gq_geokey].assign(\n",
    "        geokey_for_blocking=lambda df: df.geokey,\n",
    "        street_number_for_blocking=lambda df: df.street_number,\n",
    "        street_name_for_blocking=lambda df: df.street_name,\n",
    "    ).drop(columns=[\"is_gq_geokey\"]),\n",
    "    census_2030[census_2030.is_gq_geokey].assign(\n",
    "        geokey_for_blocking=pandas.NA,\n",
    "        street_number_for_blocking=pandas.NA,\n",
    "        street_name_for_blocking=pandas.NA,\n",
    "    ).drop(columns=[\"is_gq_geokey\"]),\n",
    "], ignore_index=True))"
   ]
  },
  {
   "cell_type": "code",
   "execution_count": 30,
   "id": "d10958fd-adad-4bb2-b4c2-641f6ad242e5",
   "metadata": {
    "execution": {
     "iopub.execute_input": "2024-05-16T17:20:45.838003Z",
     "iopub.status.busy": "2024-05-16T17:20:45.837623Z",
     "iopub.status.idle": "2024-05-16T17:20:45.891968Z",
     "shell.execute_reply": "2024-05-16T17:20:45.890973Z"
    },
    "papermill": {
     "duration": 0.074777,
     "end_time": "2024-05-16T17:20:45.893156",
     "exception": false,
     "start_time": "2024-05-16T17:20:45.818379",
     "status": "completed"
    },
    "tags": []
   },
   "outputs": [
    {
     "name": "stderr",
     "output_type": "stream",
     "text": [
      "/ihme/homes/zmbc/src/vivarium_research_prl/linkage/person_linkage_case_study/ipykernel_3217531/3805402172.py:1: FutureWarning: Downcasting object dtype arrays on .fillna, .ffill, .bfill is deprecated and will change in a future version. Call result.infer_objects(copy=False) instead. To opt-in to the future behavior, set `pd.set_option('future.no_silent_downcasting', True)`\n",
      "  geobase_reference_file = geobase_reference_file.merge(probable_gq_geokeys[['geokey', 'is_gq_geokey']], on=\"geokey\", how=\"left\").assign(is_gq_geokey=lambda df: df.is_gq_geokey.fillna(False))\n"
     ]
    }
   ],
   "source": [
    "geobase_reference_file = geobase_reference_file.merge(probable_gq_geokeys[['geokey', 'is_gq_geokey']], on=\"geokey\", how=\"left\").assign(is_gq_geokey=lambda df: df.is_gq_geokey.fillna(False))\n",
    "\n",
    "geobase_reference_file = df_ops.ensure_large_string_capacity(df_ops.concat([\n",
    "    geobase_reference_file[~geobase_reference_file.is_gq_geokey].assign(\n",
    "        geokey_for_blocking=lambda df: df.geokey,\n",
    "        street_number_for_blocking=lambda df: df.street_number,\n",
    "        street_name_for_blocking=lambda df: df.street_name,\n",
    "    ).drop(columns=[\"is_gq_geokey\"]),\n",
    "    geobase_reference_file[geobase_reference_file.is_gq_geokey].assign(\n",
    "        geokey_for_blocking=pandas.NA,\n",
    "        street_number_for_blocking=pandas.NA,\n",
    "        street_name_for_blocking=pandas.NA,\n",
    "    ).drop(columns=[\"is_gq_geokey\"]),\n",
    "], ignore_index=True))"
   ]
  },
  {
   "cell_type": "code",
   "execution_count": 31,
   "id": "2a686489-f265-4647-ad1d-7b6b93f8578e",
   "metadata": {
    "execution": {
     "iopub.execute_input": "2024-05-16T17:20:45.936244Z",
     "iopub.status.busy": "2024-05-16T17:20:45.935920Z",
     "iopub.status.idle": "2024-05-16T17:20:45.942466Z",
     "shell.execute_reply": "2024-05-16T17:20:45.941591Z"
    },
    "papermill": {
     "duration": 0.027732,
     "end_time": "2024-05-16T17:20:45.943937",
     "exception": false,
     "start_time": "2024-05-16T17:20:45.916205",
     "status": "completed"
    },
    "tags": []
   },
   "outputs": [],
   "source": [
    "%xdel probable_gq_geokeys"
   ]
  },
  {
   "cell_type": "code",
   "execution_count": 32,
   "id": "6894cbdd-fef2-417d-a69f-3e15433c1c72",
   "metadata": {
    "execution": {
     "iopub.execute_input": "2024-05-16T17:20:45.983457Z",
     "iopub.status.busy": "2024-05-16T17:20:45.982841Z",
     "iopub.status.idle": "2024-05-16T17:20:46.176763Z",
     "shell.execute_reply": "2024-05-16T17:20:46.175784Z"
    },
    "papermill": {
     "duration": 0.215322,
     "end_time": "2024-05-16T17:20:46.178553",
     "exception": false,
     "start_time": "2024-05-16T17:20:45.963231",
     "status": "completed"
    },
    "tags": []
   },
   "outputs": [],
   "source": [
    "# Layne, Wagner, and Rothhaas p. 26: the name matching variables are\n",
    "# First 15 characters First Name, First 15 characters Middle Name, First 12 characters Last Name\n",
    "# Additionally, there are blocking columns for all of 1-3 initial characters of First/Last.\n",
    "# We don't have a full middle name in pseudopeople (nor would that be present in a real CUF)\n",
    "# so we have to stick to the first initial for middle.\n",
    "def add_truncated_name_cols(df):\n",
    "    df = df.assign(\n",
    "        first_name_15=df.first_name.str[:15],\n",
    "        last_name_12=df.last_name.str[:12]\n",
    "    )\n",
    "\n",
    "    if 'middle_name' in df.columns and 'middle_initial' not in df.columns:\n",
    "        df = df.assign(middle_initial=df.middle_name.str[:1])\n",
    "\n",
    "    for num_chars in [1, 2, 3]:\n",
    "        df = df.assign(**{\n",
    "            f'first_name_{num_chars}': df.first_name.str[:num_chars],\n",
    "            f'last_name_{num_chars}': df.last_name.str[:num_chars],\n",
    "        })\n",
    "\n",
    "    return df\n",
    "\n",
    "census_2030 = add_truncated_name_cols(census_2030)\n",
    "geobase_reference_file = add_truncated_name_cols(geobase_reference_file)\n",
    "name_dob_reference_file = add_truncated_name_cols(name_dob_reference_file)"
   ]
  },
  {
   "cell_type": "code",
   "execution_count": 33,
   "id": "c29dcc81-9056-459b-80f6-fd32125913bc",
   "metadata": {
    "execution": {
     "iopub.execute_input": "2024-05-16T17:20:46.224145Z",
     "iopub.status.busy": "2024-05-16T17:20:46.223783Z",
     "iopub.status.idle": "2024-05-16T17:20:46.541796Z",
     "shell.execute_reply": "2024-05-16T17:20:46.540832Z"
    },
    "papermill": {
     "duration": 0.339759,
     "end_time": "2024-05-16T17:20:46.543613",
     "exception": false,
     "start_time": "2024-05-16T17:20:46.203854",
     "status": "completed"
    },
    "tags": []
   },
   "outputs": [],
   "source": [
    "# Layne, Wagner, and Rothhaas p. 26: phonetics are used in blocking (not matching)\n",
    "# - Soundex for Street Name\n",
    "# - NYSIIS code for First Name\n",
    "# - NYSIIS code for Last Name\n",
    "# - Reverse Soundex for First Name\n",
    "# - Reverse Soundex for Last Name\n",
    "\n",
    "def nysiis(input_string):\n",
    "    if pandas.isna(input_string):\n",
    "        return pandas.NA\n",
    "    result = jellyfish.nysiis(input_string)\n",
    "    if pandas.isna(result):\n",
    "        return pandas.NA\n",
    "\n",
    "    return result\n",
    "\n",
    "def soundex(input_string):\n",
    "    if pandas.isna(input_string):\n",
    "        return pandas.NA\n",
    "    result = jellyfish.soundex(input_string)\n",
    "    if pandas.isna(result):\n",
    "        return pandas.NA\n",
    "\n",
    "    return result\n",
    "\n",
    "def reverse_soundex(input_string):\n",
    "    if pandas.isna(input_string):\n",
    "        return pandas.NA\n",
    "\n",
    "    return soundex(input_string[::-1])\n",
    "\n",
    "def add_name_phonetics(df):\n",
    "    for col in ['first_name', 'last_name']:\n",
    "        kwargs = {}\n",
    "        if compute_engine == 'dask':\n",
    "            kwargs['meta'] = (col, 'object')\n",
    "        df = df.assign(**{f'{col}_nysiis': df[col].apply(nysiis, **kwargs)})\n",
    "        df = df.assign(**{f'{col}_reverse_soundex': df[col].apply(reverse_soundex, **kwargs)})\n",
    "\n",
    "    return df_ops.ensure_large_string_capacity(df)\n",
    "\n",
    "def add_address_phonetics(df):\n",
    "    kwargs = {}\n",
    "    if compute_engine == 'dask':\n",
    "        kwargs['meta'] = (col, 'object')\n",
    "    df = df.assign(street_name_for_blocking_soundex=df.street_name_for_blocking.apply(soundex, **kwargs))\n",
    "    return df_ops.ensure_large_string_capacity(df)\n",
    "\n",
    "census_2030 = add_name_phonetics(census_2030)\n",
    "census_2030 = add_address_phonetics(census_2030)\n",
    "\n",
    "geobase_reference_file = add_address_phonetics(geobase_reference_file)\n",
    "\n",
    "name_dob_reference_file = add_name_phonetics(name_dob_reference_file)"
   ]
  },
  {
   "cell_type": "code",
   "execution_count": 34,
   "id": "f1fe537d-10f4-4bf4-97e9-ee64fe5fcb8c",
   "metadata": {
    "execution": {
     "iopub.execute_input": "2024-05-16T17:20:46.587139Z",
     "iopub.status.busy": "2024-05-16T17:20:46.586238Z",
     "iopub.status.idle": "2024-05-16T17:20:46.595074Z",
     "shell.execute_reply": "2024-05-16T17:20:46.594192Z"
    },
    "papermill": {
     "duration": 0.030027,
     "end_time": "2024-05-16T17:20:46.596741",
     "exception": false,
     "start_time": "2024-05-16T17:20:46.566714",
     "status": "completed"
    },
    "tags": []
   },
   "outputs": [],
   "source": [
    "# Columns used to \"cut the database\": ZIP3 and a grouping of first and last initial\n",
    "def add_zip3(df):\n",
    "    return df.assign(zip3=lambda x: x.zipcode.str[:3])\n",
    "\n",
    "def add_first_last_initial_categories(df):\n",
    "    # Page 20 of the NORC report: \"Name-cuts are defined by combinations of the first characters of the first and last names. The twenty letter groupings\n",
    "    # for the first character are: A-or-blank, B, C, D, E, F, G, H, I, J, K, L, M, N, O, P, Q, R, S, T, and U-Z.\"\n",
    "    initial_cut = lambda x: x.fillna('A').str[0].replace('A', 'A-or-blank').replace(['U', 'V', 'W', 'X', 'Y', 'Z'], 'U-Z')\n",
    "    return df.assign(first_initial_cut=initial_cut(df.first_name), last_initial_cut=initial_cut(df.last_name))"
   ]
  },
  {
   "cell_type": "code",
   "execution_count": 35,
   "id": "d5e00367-d022-4ab2-942b-87a2b1abdfc8",
   "metadata": {
    "execution": {
     "iopub.execute_input": "2024-05-16T17:20:46.636969Z",
     "iopub.status.busy": "2024-05-16T17:20:46.636765Z",
     "iopub.status.idle": "2024-05-16T17:20:46.735289Z",
     "shell.execute_reply": "2024-05-16T17:20:46.734304Z"
    },
    "papermill": {
     "duration": 0.120343,
     "end_time": "2024-05-16T17:20:46.736999",
     "exception": false,
     "start_time": "2024-05-16T17:20:46.616656",
     "status": "completed"
    },
    "tags": []
   },
   "outputs": [],
   "source": [
    "census_2030 = add_zip3(census_2030)\n",
    "census_2030 = add_first_last_initial_categories(census_2030)\n",
    "\n",
    "geobase_reference_file = add_zip3(geobase_reference_file)\n",
    "\n",
    "name_dob_reference_file = add_first_last_initial_categories(name_dob_reference_file)"
   ]
  },
  {
   "cell_type": "code",
   "execution_count": null,
   "id": "0596bc8d-8f36-41bd-a6e2-a3f55c9ba66b",
   "metadata": {
    "papermill": {
     "duration": 0.018457,
     "end_time": "2024-05-16T17:20:46.779185",
     "exception": false,
     "start_time": "2024-05-16T17:20:46.760728",
     "status": "completed"
    },
    "tags": []
   },
   "outputs": [],
   "source": []
  },
  {
   "cell_type": "code",
   "execution_count": 36,
   "id": "e30f2911-72ad-4749-b4aa-18918335e0d0",
   "metadata": {
    "execution": {
     "iopub.execute_input": "2024-05-16T17:20:46.818536Z",
     "iopub.status.busy": "2024-05-16T17:20:46.818256Z",
     "iopub.status.idle": "2024-05-16T17:20:46.824373Z",
     "shell.execute_reply": "2024-05-16T17:20:46.823179Z"
    },
    "papermill": {
     "duration": 0.027813,
     "end_time": "2024-05-16T17:20:46.826071",
     "exception": false,
     "start_time": "2024-05-16T17:20:46.798258",
     "status": "completed"
    },
    "tags": []
   },
   "outputs": [],
   "source": [
    "census_2030, geobase_reference_file, name_dob_reference_file = df_ops.persist(census_2030, geobase_reference_file, name_dob_reference_file)"
   ]
  },
  {
   "cell_type": "markdown",
   "id": "5e413173-dde2-4bdb-a2cf-f0c5ef38e9a5",
   "metadata": {
    "papermill": {
     "duration": 0.019731,
     "end_time": "2024-05-16T17:20:46.866060",
     "exception": false,
     "start_time": "2024-05-16T17:20:46.846329",
     "status": "completed"
    },
    "tags": []
   },
   "source": [
    "# Data, ready to link"
   ]
  },
  {
   "cell_type": "code",
   "execution_count": 37,
   "id": "b6014eaa-3548-4d23-b7b9-f8e9f0f477f8",
   "metadata": {
    "execution": {
     "iopub.execute_input": "2024-05-16T17:20:46.905789Z",
     "iopub.status.busy": "2024-05-16T17:20:46.905611Z",
     "iopub.status.idle": "2024-05-16T17:20:46.912618Z",
     "shell.execute_reply": "2024-05-16T17:20:46.910489Z"
    },
    "papermill": {
     "duration": 0.029349,
     "end_time": "2024-05-16T17:20:46.914287",
     "exception": false,
     "start_time": "2024-05-16T17:20:46.884938",
     "status": "completed"
    },
    "tags": []
   },
   "outputs": [
    {
     "name": "stdout",
     "output_type": "stream",
     "text": [
      "11,043\n"
     ]
    }
   ],
   "source": [
    "print(f'{len(census_2030):,.0f}')"
   ]
  },
  {
   "cell_type": "code",
   "execution_count": 38,
   "id": "4306cf4f-d636-4d0c-9b07-7b73627982d3",
   "metadata": {
    "execution": {
     "iopub.execute_input": "2024-05-16T17:20:46.954916Z",
     "iopub.status.busy": "2024-05-16T17:20:46.954647Z",
     "iopub.status.idle": "2024-05-16T17:20:46.979552Z",
     "shell.execute_reply": "2024-05-16T17:20:46.978423Z"
    },
    "papermill": {
     "duration": 0.047681,
     "end_time": "2024-05-16T17:20:46.980874",
     "exception": false,
     "start_time": "2024-05-16T17:20:46.933193",
     "status": "completed"
    },
    "tags": []
   },
   "outputs": [
    {
     "data": {
      "text/html": [
       "<div>\n",
       "<style scoped>\n",
       "    .dataframe tbody tr th:only-of-type {\n",
       "        vertical-align: middle;\n",
       "    }\n",
       "\n",
       "    .dataframe tbody tr th {\n",
       "        vertical-align: top;\n",
       "    }\n",
       "\n",
       "    .dataframe thead th {\n",
       "        text-align: right;\n",
       "    }\n",
       "</style>\n",
       "<table border=\"1\" class=\"dataframe\">\n",
       "  <thead>\n",
       "    <tr style=\"text-align: right;\">\n",
       "      <th></th>\n",
       "      <th>record_id</th>\n",
       "      <th>record_id_raw_input_file</th>\n",
       "      <th>household_id</th>\n",
       "      <th>first_name</th>\n",
       "      <th>middle_initial</th>\n",
       "      <th>last_name</th>\n",
       "      <th>age</th>\n",
       "      <th>street_number</th>\n",
       "      <th>street_name</th>\n",
       "      <th>unit_number</th>\n",
       "      <th>...</th>\n",
       "      <th>first_name_3</th>\n",
       "      <th>last_name_3</th>\n",
       "      <th>first_name_nysiis</th>\n",
       "      <th>first_name_reverse_soundex</th>\n",
       "      <th>last_name_nysiis</th>\n",
       "      <th>last_name_reverse_soundex</th>\n",
       "      <th>street_name_for_blocking_soundex</th>\n",
       "      <th>zip3</th>\n",
       "      <th>first_initial_cut</th>\n",
       "      <th>last_initial_cut</th>\n",
       "    </tr>\n",
       "  </thead>\n",
       "  <tbody>\n",
       "    <tr>\n",
       "      <th>0</th>\n",
       "      <td>census_2030_preprocessed_0</td>\n",
       "      <td>simulated_census_2030_0</td>\n",
       "      <td>0_8033</td>\n",
       "      <td>Gerald</td>\n",
       "      <td>R</td>\n",
       "      <td>Butler</td>\n",
       "      <td>86</td>\n",
       "      <td>1130</td>\n",
       "      <td>MALLORY LN</td>\n",
       "      <td>None</td>\n",
       "      <td>...</td>\n",
       "      <td>Ger</td>\n",
       "      <td>But</td>\n",
       "      <td>GARALD</td>\n",
       "      <td>D462</td>\n",
       "      <td>BATLAR</td>\n",
       "      <td>R431</td>\n",
       "      <td>M464</td>\n",
       "      <td>000</td>\n",
       "      <td>G</td>\n",
       "      <td>B</td>\n",
       "    </tr>\n",
       "    <tr>\n",
       "      <th>1</th>\n",
       "      <td>census_2030_preprocessed_1</td>\n",
       "      <td>simulated_census_2030_1</td>\n",
       "      <td>0_1066</td>\n",
       "      <td>April</td>\n",
       "      <td>S</td>\n",
       "      <td>Morino</td>\n",
       "      <td>33</td>\n",
       "      <td>32597</td>\n",
       "      <td>DELACORTE DR</td>\n",
       "      <td>None</td>\n",
       "      <td>...</td>\n",
       "      <td>Apr</td>\n",
       "      <td>Mor</td>\n",
       "      <td>APRAL</td>\n",
       "      <td>L610</td>\n",
       "      <td>MARAN</td>\n",
       "      <td>O565</td>\n",
       "      <td>D426</td>\n",
       "      <td>000</td>\n",
       "      <td>A-or-blank</td>\n",
       "      <td>M</td>\n",
       "    </tr>\n",
       "    <tr>\n",
       "      <th>2</th>\n",
       "      <td>census_2030_preprocessed_2</td>\n",
       "      <td>simulated_census_2030_2</td>\n",
       "      <td>0_1066</td>\n",
       "      <td>Loretta</td>\n",
       "      <td>T</td>\n",
       "      <td>Carley</td>\n",
       "      <td>71</td>\n",
       "      <td>32597</td>\n",
       "      <td>DELACORTE DR</td>\n",
       "      <td>None</td>\n",
       "      <td>...</td>\n",
       "      <td>Lor</td>\n",
       "      <td>Car</td>\n",
       "      <td>LARAT</td>\n",
       "      <td>A364</td>\n",
       "      <td>CARLY</td>\n",
       "      <td>Y462</td>\n",
       "      <td>D426</td>\n",
       "      <td>000</td>\n",
       "      <td>L</td>\n",
       "      <td>C</td>\n",
       "    </tr>\n",
       "    <tr>\n",
       "      <th>3</th>\n",
       "      <td>census_2030_preprocessed_3</td>\n",
       "      <td>simulated_census_2030_3</td>\n",
       "      <td>0_2514</td>\n",
       "      <td>Sandra</td>\n",
       "      <td>Q</td>\n",
       "      <td>Runnalls</td>\n",
       "      <td>75</td>\n",
       "      <td>4458</td>\n",
       "      <td>WINDSOG PL</td>\n",
       "      <td>None</td>\n",
       "      <td>...</td>\n",
       "      <td>San</td>\n",
       "      <td>Run</td>\n",
       "      <td>SANDR</td>\n",
       "      <td>A635</td>\n",
       "      <td>RANAL</td>\n",
       "      <td>S456</td>\n",
       "      <td>W532</td>\n",
       "      <td>000</td>\n",
       "      <td>S</td>\n",
       "      <td>R</td>\n",
       "    </tr>\n",
       "    <tr>\n",
       "      <th>4</th>\n",
       "      <td>census_2030_preprocessed_4</td>\n",
       "      <td>simulated_census_2030_4</td>\n",
       "      <td>0_5627</td>\n",
       "      <td>Bobby</td>\n",
       "      <td>S</td>\n",
       "      <td>Rhimpson</td>\n",
       "      <td>48</td>\n",
       "      <td>None</td>\n",
       "      <td>WINDING TRAIL RD</td>\n",
       "      <td>None</td>\n",
       "      <td>...</td>\n",
       "      <td>Bob</td>\n",
       "      <td>Rhi</td>\n",
       "      <td>BABY</td>\n",
       "      <td>Y110</td>\n",
       "      <td>RANPSAN</td>\n",
       "      <td>N215</td>\n",
       "      <td>W535</td>\n",
       "      <td>000</td>\n",
       "      <td>B</td>\n",
       "      <td>R</td>\n",
       "    </tr>\n",
       "    <tr>\n",
       "      <th>...</th>\n",
       "      <td>...</td>\n",
       "      <td>...</td>\n",
       "      <td>...</td>\n",
       "      <td>...</td>\n",
       "      <td>...</td>\n",
       "      <td>...</td>\n",
       "      <td>...</td>\n",
       "      <td>...</td>\n",
       "      <td>...</td>\n",
       "      <td>...</td>\n",
       "      <td>...</td>\n",
       "      <td>...</td>\n",
       "      <td>...</td>\n",
       "      <td>...</td>\n",
       "      <td>...</td>\n",
       "      <td>...</td>\n",
       "      <td>...</td>\n",
       "      <td>...</td>\n",
       "      <td>...</td>\n",
       "      <td>...</td>\n",
       "      <td>...</td>\n",
       "    </tr>\n",
       "    <tr>\n",
       "      <th>95</th>\n",
       "      <td>census_2030_preprocessed_96</td>\n",
       "      <td>simulated_census_2030_96</td>\n",
       "      <td>0_57</td>\n",
       "      <td>Holly</td>\n",
       "      <td>S</td>\n",
       "      <td>Crane</td>\n",
       "      <td>60</td>\n",
       "      <td>107</td>\n",
       "      <td>ROBINHOOD CR</td>\n",
       "      <td>None</td>\n",
       "      <td>...</td>\n",
       "      <td>Hol</td>\n",
       "      <td>Cra</td>\n",
       "      <td>HALY</td>\n",
       "      <td>Y400</td>\n",
       "      <td>CRAN</td>\n",
       "      <td>E562</td>\n",
       "      <td>R153</td>\n",
       "      <td>000</td>\n",
       "      <td>H</td>\n",
       "      <td>C</td>\n",
       "    </tr>\n",
       "    <tr>\n",
       "      <th>96</th>\n",
       "      <td>census_2030_preprocessed_97</td>\n",
       "      <td>simulated_census_2030_97</td>\n",
       "      <td>0_2237</td>\n",
       "      <td>Dylan</td>\n",
       "      <td>A</td>\n",
       "      <td>Dewyer</td>\n",
       "      <td>13</td>\n",
       "      <td>2055</td>\n",
       "      <td>BRIDLEWOOD DR</td>\n",
       "      <td>None</td>\n",
       "      <td>...</td>\n",
       "      <td>Dyl</td>\n",
       "      <td>Dew</td>\n",
       "      <td>DYLAN</td>\n",
       "      <td>N430</td>\n",
       "      <td>DAEYAR</td>\n",
       "      <td>R300</td>\n",
       "      <td>B634</td>\n",
       "      <td>000</td>\n",
       "      <td>D</td>\n",
       "      <td>D</td>\n",
       "    </tr>\n",
       "    <tr>\n",
       "      <th>97</th>\n",
       "      <td>census_2030_preprocessed_98</td>\n",
       "      <td>simulated_census_2030_98</td>\n",
       "      <td>0_4558</td>\n",
       "      <td>Ronald</td>\n",
       "      <td>N</td>\n",
       "      <td>Donohue</td>\n",
       "      <td>60</td>\n",
       "      <td>9808</td>\n",
       "      <td>111 AVENUE</td>\n",
       "      <td>None</td>\n",
       "      <td>...</td>\n",
       "      <td>Ron</td>\n",
       "      <td>Don</td>\n",
       "      <td>RANALD</td>\n",
       "      <td>D456</td>\n",
       "      <td>DANAH</td>\n",
       "      <td>E530</td>\n",
       "      <td>1150</td>\n",
       "      <td>000</td>\n",
       "      <td>R</td>\n",
       "      <td>D</td>\n",
       "    </tr>\n",
       "    <tr>\n",
       "      <th>98</th>\n",
       "      <td>census_2030_preprocessed_99</td>\n",
       "      <td>simulated_census_2030_99</td>\n",
       "      <td>0_2237</td>\n",
       "      <td>Priscilla</td>\n",
       "      <td>P</td>\n",
       "      <td>Harrington</td>\n",
       "      <td>62</td>\n",
       "      <td>2055</td>\n",
       "      <td>BRIDLEWOOD DR</td>\n",
       "      <td>None</td>\n",
       "      <td>...</td>\n",
       "      <td>Pri</td>\n",
       "      <td>Har</td>\n",
       "      <td>PRASCAL</td>\n",
       "      <td>A426</td>\n",
       "      <td>HARANGTAN</td>\n",
       "      <td>N325</td>\n",
       "      <td>B634</td>\n",
       "      <td>000</td>\n",
       "      <td>P</td>\n",
       "      <td>H</td>\n",
       "    </tr>\n",
       "    <tr>\n",
       "      <th>99</th>\n",
       "      <td>census_2030_preprocessed_100</td>\n",
       "      <td>simulated_census_2030_100</td>\n",
       "      <td>0_5226</td>\n",
       "      <td>Emilio</td>\n",
       "      <td>P</td>\n",
       "      <td>Krall</td>\n",
       "      <td>24</td>\n",
       "      <td>657 1 2</td>\n",
       "      <td>LAUREL DR</td>\n",
       "      <td>None</td>\n",
       "      <td>...</td>\n",
       "      <td>Emi</td>\n",
       "      <td>Kra</td>\n",
       "      <td>ENAL</td>\n",
       "      <td>O450</td>\n",
       "      <td>CRAL</td>\n",
       "      <td>L620</td>\n",
       "      <td>L643</td>\n",
       "      <td>000</td>\n",
       "      <td>E</td>\n",
       "      <td>K</td>\n",
       "    </tr>\n",
       "  </tbody>\n",
       "</table>\n",
       "<p>100 rows × 41 columns</p>\n",
       "</div>"
      ],
      "text/plain": [
       "                       record_id   record_id_raw_input_file household_id  \\\n",
       "0     census_2030_preprocessed_0    simulated_census_2030_0       0_8033   \n",
       "1     census_2030_preprocessed_1    simulated_census_2030_1       0_1066   \n",
       "2     census_2030_preprocessed_2    simulated_census_2030_2       0_1066   \n",
       "3     census_2030_preprocessed_3    simulated_census_2030_3       0_2514   \n",
       "4     census_2030_preprocessed_4    simulated_census_2030_4       0_5627   \n",
       "..                           ...                        ...          ...   \n",
       "95   census_2030_preprocessed_96   simulated_census_2030_96         0_57   \n",
       "96   census_2030_preprocessed_97   simulated_census_2030_97       0_2237   \n",
       "97   census_2030_preprocessed_98   simulated_census_2030_98       0_4558   \n",
       "98   census_2030_preprocessed_99   simulated_census_2030_99       0_2237   \n",
       "99  census_2030_preprocessed_100  simulated_census_2030_100       0_5226   \n",
       "\n",
       "   first_name middle_initial   last_name age street_number       street_name  \\\n",
       "0      Gerald              R      Butler  86          1130        MALLORY LN   \n",
       "1       April              S      Morino  33         32597      DELACORTE DR   \n",
       "2     Loretta              T      Carley  71         32597      DELACORTE DR   \n",
       "3      Sandra              Q    Runnalls  75          4458        WINDSOG PL   \n",
       "4       Bobby              S    Rhimpson  48          None  WINDING TRAIL RD   \n",
       "..        ...            ...         ...  ..           ...               ...   \n",
       "95      Holly              S       Crane  60           107      ROBINHOOD CR   \n",
       "96      Dylan              A      Dewyer  13          2055     BRIDLEWOOD DR   \n",
       "97     Ronald              N     Donohue  60          9808        111 AVENUE   \n",
       "98  Priscilla              P  Harrington  62          2055     BRIDLEWOOD DR   \n",
       "99     Emilio              P       Krall  24       657 1 2         LAUREL DR   \n",
       "\n",
       "   unit_number  ... first_name_3 last_name_3 first_name_nysiis  \\\n",
       "0         None  ...          Ger         But            GARALD   \n",
       "1         None  ...          Apr         Mor             APRAL   \n",
       "2         None  ...          Lor         Car             LARAT   \n",
       "3         None  ...          San         Run             SANDR   \n",
       "4         None  ...          Bob         Rhi              BABY   \n",
       "..         ...  ...          ...         ...               ...   \n",
       "95        None  ...          Hol         Cra              HALY   \n",
       "96        None  ...          Dyl         Dew             DYLAN   \n",
       "97        None  ...          Ron         Don            RANALD   \n",
       "98        None  ...          Pri         Har           PRASCAL   \n",
       "99        None  ...          Emi         Kra              ENAL   \n",
       "\n",
       "   first_name_reverse_soundex last_name_nysiis last_name_reverse_soundex  \\\n",
       "0                        D462           BATLAR                      R431   \n",
       "1                        L610            MARAN                      O565   \n",
       "2                        A364            CARLY                      Y462   \n",
       "3                        A635            RANAL                      S456   \n",
       "4                        Y110          RANPSAN                      N215   \n",
       "..                        ...              ...                       ...   \n",
       "95                       Y400             CRAN                      E562   \n",
       "96                       N430           DAEYAR                      R300   \n",
       "97                       D456            DANAH                      E530   \n",
       "98                       A426        HARANGTAN                      N325   \n",
       "99                       O450             CRAL                      L620   \n",
       "\n",
       "   street_name_for_blocking_soundex  zip3  first_initial_cut  last_initial_cut  \n",
       "0                              M464   000                  G                 B  \n",
       "1                              D426   000         A-or-blank                 M  \n",
       "2                              D426   000                  L                 C  \n",
       "3                              W532   000                  S                 R  \n",
       "4                              W535   000                  B                 R  \n",
       "..                              ...   ...                ...               ...  \n",
       "95                             R153   000                  H                 C  \n",
       "96                             B634   000                  D                 D  \n",
       "97                             1150   000                  R                 D  \n",
       "98                             B634   000                  P                 H  \n",
       "99                             L643   000                  E                 K  \n",
       "\n",
       "[100 rows x 41 columns]"
      ]
     },
     "execution_count": 38,
     "metadata": {},
     "output_type": "execute_result"
    }
   ],
   "source": [
    "df_ops.head(census_2030, n=100)"
   ]
  },
  {
   "cell_type": "code",
   "execution_count": 39,
   "id": "bc33f5b6-36b4-48d5-9ea5-e0ae11d14dab",
   "metadata": {
    "execution": {
     "iopub.execute_input": "2024-05-16T17:20:47.024984Z",
     "iopub.status.busy": "2024-05-16T17:20:47.024808Z",
     "iopub.status.idle": "2024-05-16T17:20:47.041121Z",
     "shell.execute_reply": "2024-05-16T17:20:47.039435Z"
    },
    "papermill": {
     "duration": 0.038891,
     "end_time": "2024-05-16T17:20:47.043509",
     "exception": false,
     "start_time": "2024-05-16T17:20:47.004618",
     "status": "completed"
    },
    "tags": []
   },
   "outputs": [],
   "source": [
    "intermediate_data_dir = f\"{output_dir}/intermediate_data\"\n",
    "if clear_intermediate:\n",
    "    utils.ensure_empty(intermediate_data_dir)"
   ]
  },
  {
   "cell_type": "code",
   "execution_count": 40,
   "id": "632c5d5f-34b6-49ec-83be-737ed625d47e",
   "metadata": {
    "execution": {
     "iopub.execute_input": "2024-05-16T17:20:47.088406Z",
     "iopub.status.busy": "2024-05-16T17:20:47.087307Z",
     "iopub.status.idle": "2024-05-16T17:20:47.092912Z",
     "shell.execute_reply": "2024-05-16T17:20:47.091334Z"
    },
    "papermill": {
     "duration": 0.027611,
     "end_time": "2024-05-16T17:20:47.094302",
     "exception": false,
     "start_time": "2024-05-16T17:20:47.066691",
     "status": "completed"
    },
    "tags": []
   },
   "outputs": [],
   "source": [
    "# Can save a checkpoint here for resuming without re-running the prep\n",
    "# df_ops.to_parquet(census_2030, f'{intermediate_data_dir}/census_2030_prepped.parquet')"
   ]
  },
  {
   "cell_type": "code",
   "execution_count": 41,
   "id": "b4fc55f9-32dd-40e9-ba3b-0f67556ddbc3",
   "metadata": {
    "execution": {
     "iopub.execute_input": "2024-05-16T17:20:47.136755Z",
     "iopub.status.busy": "2024-05-16T17:20:47.136287Z",
     "iopub.status.idle": "2024-05-16T17:20:47.144844Z",
     "shell.execute_reply": "2024-05-16T17:20:47.143168Z"
    },
    "papermill": {
     "duration": 0.031686,
     "end_time": "2024-05-16T17:20:47.146567",
     "exception": false,
     "start_time": "2024-05-16T17:20:47.114881",
     "status": "completed"
    },
    "tags": []
   },
   "outputs": [
    {
     "name": "stdout",
     "output_type": "stream",
     "text": [
      "32,951\n"
     ]
    }
   ],
   "source": [
    "print(f'{len(geobase_reference_file):,.0f}')"
   ]
  },
  {
   "cell_type": "code",
   "execution_count": 42,
   "id": "2361fef9-e338-4c81-934d-075dafdbd432",
   "metadata": {
    "execution": {
     "iopub.execute_input": "2024-05-16T17:20:47.188565Z",
     "iopub.status.busy": "2024-05-16T17:20:47.188372Z",
     "iopub.status.idle": "2024-05-16T17:20:47.216291Z",
     "shell.execute_reply": "2024-05-16T17:20:47.214615Z"
    },
    "papermill": {
     "duration": 0.050398,
     "end_time": "2024-05-16T17:20:47.217963",
     "exception": false,
     "start_time": "2024-05-16T17:20:47.167565",
     "status": "completed"
    },
    "tags": []
   },
   "outputs": [
    {
     "data": {
      "text/html": [
       "<div>\n",
       "<style scoped>\n",
       "    .dataframe tbody tr th:only-of-type {\n",
       "        vertical-align: middle;\n",
       "    }\n",
       "\n",
       "    .dataframe tbody tr th {\n",
       "        vertical-align: top;\n",
       "    }\n",
       "\n",
       "    .dataframe thead th {\n",
       "        text-align: right;\n",
       "    }\n",
       "</style>\n",
       "<table border=\"1\" class=\"dataframe\">\n",
       "  <thead>\n",
       "    <tr style=\"text-align: right;\">\n",
       "      <th></th>\n",
       "      <th>record_id</th>\n",
       "      <th>ssn</th>\n",
       "      <th>first_name</th>\n",
       "      <th>middle_name</th>\n",
       "      <th>last_name</th>\n",
       "      <th>street_number</th>\n",
       "      <th>street_name</th>\n",
       "      <th>unit_number</th>\n",
       "      <th>po_box</th>\n",
       "      <th>city</th>\n",
       "      <th>...</th>\n",
       "      <th>last_name_12</th>\n",
       "      <th>middle_initial</th>\n",
       "      <th>first_name_1</th>\n",
       "      <th>last_name_1</th>\n",
       "      <th>first_name_2</th>\n",
       "      <th>last_name_2</th>\n",
       "      <th>first_name_3</th>\n",
       "      <th>last_name_3</th>\n",
       "      <th>street_name_for_blocking_soundex</th>\n",
       "      <th>zip3</th>\n",
       "    </tr>\n",
       "  </thead>\n",
       "  <tbody>\n",
       "    <tr>\n",
       "      <th>0</th>\n",
       "      <td>simulated_geobase_reference_file_0</td>\n",
       "      <td>685-77-0916</td>\n",
       "      <td>Betty</td>\n",
       "      <td>Audrey</td>\n",
       "      <td>Fairbrother</td>\n",
       "      <td>47461</td>\n",
       "      <td>W ROXBURY DR</td>\n",
       "      <td>None</td>\n",
       "      <td>None</td>\n",
       "      <td>ANYTOWN</td>\n",
       "      <td>...</td>\n",
       "      <td>Fairbrother</td>\n",
       "      <td>A</td>\n",
       "      <td>B</td>\n",
       "      <td>F</td>\n",
       "      <td>Be</td>\n",
       "      <td>Fa</td>\n",
       "      <td>Bet</td>\n",
       "      <td>Fai</td>\n",
       "      <td>W621</td>\n",
       "      <td>000</td>\n",
       "    </tr>\n",
       "    <tr>\n",
       "      <th>1</th>\n",
       "      <td>simulated_geobase_reference_file_1</td>\n",
       "      <td>047-34-5906</td>\n",
       "      <td>Elaine</td>\n",
       "      <td></td>\n",
       "      <td>Laurel Sherman</td>\n",
       "      <td>None</td>\n",
       "      <td>None</td>\n",
       "      <td>None</td>\n",
       "      <td>None</td>\n",
       "      <td>None</td>\n",
       "      <td>...</td>\n",
       "      <td>Laurel Sherm</td>\n",
       "      <td></td>\n",
       "      <td>E</td>\n",
       "      <td>L</td>\n",
       "      <td>El</td>\n",
       "      <td>La</td>\n",
       "      <td>Ela</td>\n",
       "      <td>Lau</td>\n",
       "      <td>&lt;NA&gt;</td>\n",
       "      <td>None</td>\n",
       "    </tr>\n",
       "    <tr>\n",
       "      <th>2</th>\n",
       "      <td>simulated_geobase_reference_file_2</td>\n",
       "      <td>136-85-7371</td>\n",
       "      <td>Betty</td>\n",
       "      <td>Avis</td>\n",
       "      <td>Atterberry</td>\n",
       "      <td>None</td>\n",
       "      <td>None</td>\n",
       "      <td>None</td>\n",
       "      <td>None</td>\n",
       "      <td>None</td>\n",
       "      <td>...</td>\n",
       "      <td>Atterberry</td>\n",
       "      <td>A</td>\n",
       "      <td>B</td>\n",
       "      <td>A</td>\n",
       "      <td>Be</td>\n",
       "      <td>At</td>\n",
       "      <td>Bet</td>\n",
       "      <td>Att</td>\n",
       "      <td>&lt;NA&gt;</td>\n",
       "      <td>None</td>\n",
       "    </tr>\n",
       "    <tr>\n",
       "      <th>3</th>\n",
       "      <td>simulated_geobase_reference_file_3</td>\n",
       "      <td>017-47-7973</td>\n",
       "      <td>George</td>\n",
       "      <td>Robert</td>\n",
       "      <td>Rwareon</td>\n",
       "      <td>6812</td>\n",
       "      <td>WASHINGTON ST</td>\n",
       "      <td>None</td>\n",
       "      <td>None</td>\n",
       "      <td>ANYTOWN</td>\n",
       "      <td>...</td>\n",
       "      <td>Rwareon</td>\n",
       "      <td>R</td>\n",
       "      <td>G</td>\n",
       "      <td>R</td>\n",
       "      <td>Ge</td>\n",
       "      <td>Rw</td>\n",
       "      <td>Geo</td>\n",
       "      <td>Rwa</td>\n",
       "      <td>W252</td>\n",
       "      <td>000</td>\n",
       "    </tr>\n",
       "    <tr>\n",
       "      <th>4</th>\n",
       "      <td>simulated_geobase_reference_file_4</td>\n",
       "      <td>726-57-2168</td>\n",
       "      <td>Josephine</td>\n",
       "      <td>Margaret</td>\n",
       "      <td>Mulhall</td>\n",
       "      <td>3743</td>\n",
       "      <td>MESA VERDE ST</td>\n",
       "      <td>None</td>\n",
       "      <td>None</td>\n",
       "      <td>ANYTOWN</td>\n",
       "      <td>...</td>\n",
       "      <td>Mulhall</td>\n",
       "      <td>M</td>\n",
       "      <td>J</td>\n",
       "      <td>M</td>\n",
       "      <td>Jo</td>\n",
       "      <td>Mu</td>\n",
       "      <td>Jos</td>\n",
       "      <td>Mul</td>\n",
       "      <td>M216</td>\n",
       "      <td>000</td>\n",
       "    </tr>\n",
       "    <tr>\n",
       "      <th>...</th>\n",
       "      <td>...</td>\n",
       "      <td>...</td>\n",
       "      <td>...</td>\n",
       "      <td>...</td>\n",
       "      <td>...</td>\n",
       "      <td>...</td>\n",
       "      <td>...</td>\n",
       "      <td>...</td>\n",
       "      <td>...</td>\n",
       "      <td>...</td>\n",
       "      <td>...</td>\n",
       "      <td>...</td>\n",
       "      <td>...</td>\n",
       "      <td>...</td>\n",
       "      <td>...</td>\n",
       "      <td>...</td>\n",
       "      <td>...</td>\n",
       "      <td>...</td>\n",
       "      <td>...</td>\n",
       "      <td>...</td>\n",
       "      <td>...</td>\n",
       "    </tr>\n",
       "    <tr>\n",
       "      <th>95</th>\n",
       "      <td>simulated_geobase_reference_file_95</td>\n",
       "      <td>517-88-7498</td>\n",
       "      <td>Peggy</td>\n",
       "      <td>Shirley</td>\n",
       "      <td>Blanton</td>\n",
       "      <td>4371</td>\n",
       "      <td>MOUNT KILIMANJARO LA</td>\n",
       "      <td>None</td>\n",
       "      <td>None</td>\n",
       "      <td>ANYTOWN</td>\n",
       "      <td>...</td>\n",
       "      <td>Blanton</td>\n",
       "      <td>S</td>\n",
       "      <td>P</td>\n",
       "      <td>B</td>\n",
       "      <td>Pe</td>\n",
       "      <td>Bl</td>\n",
       "      <td>Peg</td>\n",
       "      <td>Bla</td>\n",
       "      <td>M532</td>\n",
       "      <td>000</td>\n",
       "    </tr>\n",
       "    <tr>\n",
       "      <th>96</th>\n",
       "      <td>simulated_geobase_reference_file_96</td>\n",
       "      <td>381-71-4308</td>\n",
       "      <td>Mary</td>\n",
       "      <td>Child</td>\n",
       "      <td>Jones</td>\n",
       "      <td>2333</td>\n",
       "      <td>WESTMINSTER PLACE</td>\n",
       "      <td>None</td>\n",
       "      <td>None</td>\n",
       "      <td>ANYTOWN</td>\n",
       "      <td>...</td>\n",
       "      <td>Jones</td>\n",
       "      <td>C</td>\n",
       "      <td>M</td>\n",
       "      <td>J</td>\n",
       "      <td>Ma</td>\n",
       "      <td>Jo</td>\n",
       "      <td>Mar</td>\n",
       "      <td>Jon</td>\n",
       "      <td>W235</td>\n",
       "      <td>000</td>\n",
       "    </tr>\n",
       "    <tr>\n",
       "      <th>97</th>\n",
       "      <td>simulated_geobase_reference_file_97</td>\n",
       "      <td>854-18-9101</td>\n",
       "      <td>Juanita</td>\n",
       "      <td>Betty</td>\n",
       "      <td>Bingham</td>\n",
       "      <td>11100</td>\n",
       "      <td>PINE VALLEY DR</td>\n",
       "      <td>None</td>\n",
       "      <td>None</td>\n",
       "      <td>ANYTOWN</td>\n",
       "      <td>...</td>\n",
       "      <td>Bingham</td>\n",
       "      <td>B</td>\n",
       "      <td>J</td>\n",
       "      <td>B</td>\n",
       "      <td>Ju</td>\n",
       "      <td>Bi</td>\n",
       "      <td>Jua</td>\n",
       "      <td>Bin</td>\n",
       "      <td>P514</td>\n",
       "      <td>None</td>\n",
       "    </tr>\n",
       "    <tr>\n",
       "      <th>98</th>\n",
       "      <td>simulated_geobase_reference_file_98</td>\n",
       "      <td>854-18-9101</td>\n",
       "      <td>Juanita</td>\n",
       "      <td>Betty</td>\n",
       "      <td>Bingham</td>\n",
       "      <td>111OO</td>\n",
       "      <td>PINE VALLEY DR</td>\n",
       "      <td>None</td>\n",
       "      <td>None</td>\n",
       "      <td>ANYTOWN</td>\n",
       "      <td>...</td>\n",
       "      <td>Bingham</td>\n",
       "      <td>B</td>\n",
       "      <td>J</td>\n",
       "      <td>B</td>\n",
       "      <td>Ju</td>\n",
       "      <td>Bi</td>\n",
       "      <td>Jua</td>\n",
       "      <td>Bin</td>\n",
       "      <td>P514</td>\n",
       "      <td>000</td>\n",
       "    </tr>\n",
       "    <tr>\n",
       "      <th>99</th>\n",
       "      <td>simulated_geobase_reference_file_99</td>\n",
       "      <td>854-18-9101</td>\n",
       "      <td>Juanita</td>\n",
       "      <td>Betty</td>\n",
       "      <td>Bingham</td>\n",
       "      <td>11100</td>\n",
       "      <td>PINE VALLEY DR</td>\n",
       "      <td>None</td>\n",
       "      <td>None</td>\n",
       "      <td>ANYTOWN</td>\n",
       "      <td>...</td>\n",
       "      <td>Bingham</td>\n",
       "      <td>B</td>\n",
       "      <td>J</td>\n",
       "      <td>B</td>\n",
       "      <td>Ju</td>\n",
       "      <td>Bi</td>\n",
       "      <td>Jua</td>\n",
       "      <td>Bin</td>\n",
       "      <td>P514</td>\n",
       "      <td>000</td>\n",
       "    </tr>\n",
       "  </tbody>\n",
       "</table>\n",
       "<p>100 rows × 31 columns</p>\n",
       "</div>"
      ],
      "text/plain": [
       "                              record_id          ssn first_name middle_name  \\\n",
       "0    simulated_geobase_reference_file_0  685-77-0916      Betty      Audrey   \n",
       "1    simulated_geobase_reference_file_1  047-34-5906     Elaine               \n",
       "2    simulated_geobase_reference_file_2  136-85-7371      Betty        Avis   \n",
       "3    simulated_geobase_reference_file_3  017-47-7973     George      Robert   \n",
       "4    simulated_geobase_reference_file_4  726-57-2168  Josephine    Margaret   \n",
       "..                                  ...          ...        ...         ...   \n",
       "95  simulated_geobase_reference_file_95  517-88-7498      Peggy     Shirley   \n",
       "96  simulated_geobase_reference_file_96  381-71-4308       Mary       Child   \n",
       "97  simulated_geobase_reference_file_97  854-18-9101    Juanita       Betty   \n",
       "98  simulated_geobase_reference_file_98  854-18-9101    Juanita       Betty   \n",
       "99  simulated_geobase_reference_file_99  854-18-9101    Juanita       Betty   \n",
       "\n",
       "         last_name street_number           street_name unit_number po_box  \\\n",
       "0      Fairbrother         47461          W ROXBURY DR        None   None   \n",
       "1   Laurel Sherman          None                  None        None   None   \n",
       "2       Atterberry          None                  None        None   None   \n",
       "3          Rwareon          6812         WASHINGTON ST        None   None   \n",
       "4          Mulhall          3743         MESA VERDE ST        None   None   \n",
       "..             ...           ...                   ...         ...    ...   \n",
       "95         Blanton          4371  MOUNT KILIMANJARO LA        None   None   \n",
       "96           Jones          2333     WESTMINSTER PLACE        None   None   \n",
       "97         Bingham         11100        PINE VALLEY DR        None   None   \n",
       "98         Bingham         111OO        PINE VALLEY DR        None   None   \n",
       "99         Bingham         11100        PINE VALLEY DR        None   None   \n",
       "\n",
       "       city  ...  last_name_12 middle_initial first_name_1  last_name_1  \\\n",
       "0   ANYTOWN  ...   Fairbrother              A            B            F   \n",
       "1      None  ...  Laurel Sherm                           E            L   \n",
       "2      None  ...    Atterberry              A            B            A   \n",
       "3   ANYTOWN  ...       Rwareon              R            G            R   \n",
       "4   ANYTOWN  ...       Mulhall              M            J            M   \n",
       "..      ...  ...           ...            ...          ...          ...   \n",
       "95  ANYTOWN  ...       Blanton              S            P            B   \n",
       "96  ANYTOWN  ...         Jones              C            M            J   \n",
       "97  ANYTOWN  ...       Bingham              B            J            B   \n",
       "98  ANYTOWN  ...       Bingham              B            J            B   \n",
       "99  ANYTOWN  ...       Bingham              B            J            B   \n",
       "\n",
       "    first_name_2  last_name_2 first_name_3 last_name_3  \\\n",
       "0             Be           Fa          Bet         Fai   \n",
       "1             El           La          Ela         Lau   \n",
       "2             Be           At          Bet         Att   \n",
       "3             Ge           Rw          Geo         Rwa   \n",
       "4             Jo           Mu          Jos         Mul   \n",
       "..           ...          ...          ...         ...   \n",
       "95            Pe           Bl          Peg         Bla   \n",
       "96            Ma           Jo          Mar         Jon   \n",
       "97            Ju           Bi          Jua         Bin   \n",
       "98            Ju           Bi          Jua         Bin   \n",
       "99            Ju           Bi          Jua         Bin   \n",
       "\n",
       "   street_name_for_blocking_soundex  zip3  \n",
       "0                              W621   000  \n",
       "1                              <NA>  None  \n",
       "2                              <NA>  None  \n",
       "3                              W252   000  \n",
       "4                              M216   000  \n",
       "..                              ...   ...  \n",
       "95                             M532   000  \n",
       "96                             W235   000  \n",
       "97                             P514  None  \n",
       "98                             P514   000  \n",
       "99                             P514   000  \n",
       "\n",
       "[100 rows x 31 columns]"
      ]
     },
     "execution_count": 42,
     "metadata": {},
     "output_type": "execute_result"
    }
   ],
   "source": [
    "df_ops.head(geobase_reference_file, n=100)"
   ]
  },
  {
   "cell_type": "code",
   "execution_count": 43,
   "id": "96ad6959-51a8-4972-8262-81383e5a895a",
   "metadata": {
    "execution": {
     "iopub.execute_input": "2024-05-16T17:20:47.266986Z",
     "iopub.status.busy": "2024-05-16T17:20:47.266361Z",
     "iopub.status.idle": "2024-05-16T17:20:47.277284Z",
     "shell.execute_reply": "2024-05-16T17:20:47.275486Z"
    },
    "papermill": {
     "duration": 0.034122,
     "end_time": "2024-05-16T17:20:47.279074",
     "exception": false,
     "start_time": "2024-05-16T17:20:47.244952",
     "status": "completed"
    },
    "tags": []
   },
   "outputs": [
    {
     "data": {
      "text/plain": [
       "0.09274377105398926"
      ]
     },
     "execution_count": 43,
     "metadata": {},
     "output_type": "execute_result"
    }
   ],
   "source": [
    "df_ops.compute(geobase_reference_file.year_of_birth.isna().mean())"
   ]
  },
  {
   "cell_type": "code",
   "execution_count": 44,
   "id": "41f87268-5fc5-43cf-b2ee-debb8b6535b3",
   "metadata": {
    "execution": {
     "iopub.execute_input": "2024-05-16T17:20:47.325958Z",
     "iopub.status.busy": "2024-05-16T17:20:47.325449Z",
     "iopub.status.idle": "2024-05-16T17:20:47.332284Z",
     "shell.execute_reply": "2024-05-16T17:20:47.330702Z"
    },
    "papermill": {
     "duration": 0.033663,
     "end_time": "2024-05-16T17:20:47.333870",
     "exception": false,
     "start_time": "2024-05-16T17:20:47.300207",
     "status": "completed"
    },
    "tags": []
   },
   "outputs": [],
   "source": [
    "# df_ops.to_parquet(geobase_reference_file, f'{intermediate_data_dir}/geobase_reference_file_prepped.parquet')"
   ]
  },
  {
   "cell_type": "code",
   "execution_count": 45,
   "id": "c749e6f5-75aa-45a8-8007-7051d12019b8",
   "metadata": {
    "execution": {
     "iopub.execute_input": "2024-05-16T17:20:47.375779Z",
     "iopub.status.busy": "2024-05-16T17:20:47.375477Z",
     "iopub.status.idle": "2024-05-16T17:20:47.383769Z",
     "shell.execute_reply": "2024-05-16T17:20:47.382025Z"
    },
    "papermill": {
     "duration": 0.031148,
     "end_time": "2024-05-16T17:20:47.385453",
     "exception": false,
     "start_time": "2024-05-16T17:20:47.354305",
     "status": "completed"
    },
    "tags": []
   },
   "outputs": [
    {
     "name": "stdout",
     "output_type": "stream",
     "text": [
      "20,110\n"
     ]
    }
   ],
   "source": [
    "print(f'{len(name_dob_reference_file):,.0f}')"
   ]
  },
  {
   "cell_type": "code",
   "execution_count": 46,
   "id": "cebf9174-67d5-47e7-a072-5b2998faf57c",
   "metadata": {
    "execution": {
     "iopub.execute_input": "2024-05-16T17:20:47.427153Z",
     "iopub.status.busy": "2024-05-16T17:20:47.426923Z",
     "iopub.status.idle": "2024-05-16T17:20:47.451506Z",
     "shell.execute_reply": "2024-05-16T17:20:47.450606Z"
    },
    "papermill": {
     "duration": 0.047218,
     "end_time": "2024-05-16T17:20:47.452787",
     "exception": false,
     "start_time": "2024-05-16T17:20:47.405569",
     "status": "completed"
    },
    "tags": []
   },
   "outputs": [
    {
     "data": {
      "text/html": [
       "<div>\n",
       "<style scoped>\n",
       "    .dataframe tbody tr th:only-of-type {\n",
       "        vertical-align: middle;\n",
       "    }\n",
       "\n",
       "    .dataframe tbody tr th {\n",
       "        vertical-align: top;\n",
       "    }\n",
       "\n",
       "    .dataframe thead th {\n",
       "        text-align: right;\n",
       "    }\n",
       "</style>\n",
       "<table border=\"1\" class=\"dataframe\">\n",
       "  <thead>\n",
       "    <tr style=\"text-align: right;\">\n",
       "      <th></th>\n",
       "      <th>record_id</th>\n",
       "      <th>ssn</th>\n",
       "      <th>first_name</th>\n",
       "      <th>middle_name</th>\n",
       "      <th>last_name</th>\n",
       "      <th>pik</th>\n",
       "      <th>month_of_birth</th>\n",
       "      <th>year_of_birth</th>\n",
       "      <th>day_of_birth</th>\n",
       "      <th>first_name_15</th>\n",
       "      <th>...</th>\n",
       "      <th>first_name_2</th>\n",
       "      <th>last_name_2</th>\n",
       "      <th>first_name_3</th>\n",
       "      <th>last_name_3</th>\n",
       "      <th>first_name_nysiis</th>\n",
       "      <th>first_name_reverse_soundex</th>\n",
       "      <th>last_name_nysiis</th>\n",
       "      <th>last_name_reverse_soundex</th>\n",
       "      <th>first_initial_cut</th>\n",
       "      <th>last_initial_cut</th>\n",
       "    </tr>\n",
       "  </thead>\n",
       "  <tbody>\n",
       "    <tr>\n",
       "      <th>0</th>\n",
       "      <td>simulated_name_dob_reference_file_0</td>\n",
       "      <td>685-77-0916</td>\n",
       "      <td>Betty</td>\n",
       "      <td>Audrey</td>\n",
       "      <td>Fairbrother</td>\n",
       "      <td>106067</td>\n",
       "      <td>12.0</td>\n",
       "      <td>1922.0</td>\n",
       "      <td>5.0</td>\n",
       "      <td>Betty</td>\n",
       "      <td>...</td>\n",
       "      <td>Be</td>\n",
       "      <td>Fa</td>\n",
       "      <td>Bet</td>\n",
       "      <td>Fai</td>\n",
       "      <td>BATY</td>\n",
       "      <td>Y310</td>\n",
       "      <td>FARBRATAR</td>\n",
       "      <td>R361</td>\n",
       "      <td>B</td>\n",
       "      <td>F</td>\n",
       "    </tr>\n",
       "    <tr>\n",
       "      <th>1</th>\n",
       "      <td>simulated_name_dob_reference_file_1</td>\n",
       "      <td>047-34-5906</td>\n",
       "      <td>Elaine</td>\n",
       "      <td></td>\n",
       "      <td>Laurel Sherman</td>\n",
       "      <td>104228</td>\n",
       "      <td>1.0</td>\n",
       "      <td>1923.0</td>\n",
       "      <td>3.0</td>\n",
       "      <td>Elaine</td>\n",
       "      <td>...</td>\n",
       "      <td>El</td>\n",
       "      <td>La</td>\n",
       "      <td>Ela</td>\n",
       "      <td>Lau</td>\n",
       "      <td>ELAN</td>\n",
       "      <td>E540</td>\n",
       "      <td>LARAL SARNAN</td>\n",
       "      <td>N562</td>\n",
       "      <td>E</td>\n",
       "      <td>L</td>\n",
       "    </tr>\n",
       "    <tr>\n",
       "      <th>2</th>\n",
       "      <td>simulated_name_dob_reference_file_2</td>\n",
       "      <td>136-85-7371</td>\n",
       "      <td>Betty</td>\n",
       "      <td>Avis</td>\n",
       "      <td>Atterberry</td>\n",
       "      <td>106714</td>\n",
       "      <td>3.0</td>\n",
       "      <td>1923.0</td>\n",
       "      <td>13.0</td>\n",
       "      <td>Betty</td>\n",
       "      <td>...</td>\n",
       "      <td>Be</td>\n",
       "      <td>At</td>\n",
       "      <td>Bet</td>\n",
       "      <td>Att</td>\n",
       "      <td>BATY</td>\n",
       "      <td>Y310</td>\n",
       "      <td>ATARBARY</td>\n",
       "      <td>Y616</td>\n",
       "      <td>B</td>\n",
       "      <td>A-or-blank</td>\n",
       "    </tr>\n",
       "    <tr>\n",
       "      <th>3</th>\n",
       "      <td>simulated_name_dob_reference_file_3</td>\n",
       "      <td>017-47-7973</td>\n",
       "      <td>George</td>\n",
       "      <td>Robert</td>\n",
       "      <td>Rwareon</td>\n",
       "      <td>105169</td>\n",
       "      <td>6.0</td>\n",
       "      <td>1923.0</td>\n",
       "      <td>9.0</td>\n",
       "      <td>George</td>\n",
       "      <td>...</td>\n",
       "      <td>Ge</td>\n",
       "      <td>Rw</td>\n",
       "      <td>Geo</td>\n",
       "      <td>Rwa</td>\n",
       "      <td>GARG</td>\n",
       "      <td>E262</td>\n",
       "      <td>RWARAN</td>\n",
       "      <td>N660</td>\n",
       "      <td>G</td>\n",
       "      <td>R</td>\n",
       "    </tr>\n",
       "    <tr>\n",
       "      <th>4</th>\n",
       "      <td>simulated_name_dob_reference_file_4</td>\n",
       "      <td>726-57-2168</td>\n",
       "      <td>Josephine</td>\n",
       "      <td>Margaret</td>\n",
       "      <td>Mulhall</td>\n",
       "      <td>106386</td>\n",
       "      <td>7.0</td>\n",
       "      <td>1923.0</td>\n",
       "      <td>28.0</td>\n",
       "      <td>Josephine</td>\n",
       "      <td>...</td>\n",
       "      <td>Jo</td>\n",
       "      <td>Mu</td>\n",
       "      <td>Jos</td>\n",
       "      <td>Mul</td>\n",
       "      <td>JASAFAN</td>\n",
       "      <td>E512</td>\n",
       "      <td>MALAL</td>\n",
       "      <td>L450</td>\n",
       "      <td>J</td>\n",
       "      <td>M</td>\n",
       "    </tr>\n",
       "    <tr>\n",
       "      <th>...</th>\n",
       "      <td>...</td>\n",
       "      <td>...</td>\n",
       "      <td>...</td>\n",
       "      <td>...</td>\n",
       "      <td>...</td>\n",
       "      <td>...</td>\n",
       "      <td>...</td>\n",
       "      <td>...</td>\n",
       "      <td>...</td>\n",
       "      <td>...</td>\n",
       "      <td>...</td>\n",
       "      <td>...</td>\n",
       "      <td>...</td>\n",
       "      <td>...</td>\n",
       "      <td>...</td>\n",
       "      <td>...</td>\n",
       "      <td>...</td>\n",
       "      <td>...</td>\n",
       "      <td>...</td>\n",
       "      <td>...</td>\n",
       "      <td>...</td>\n",
       "    </tr>\n",
       "    <tr>\n",
       "      <th>95</th>\n",
       "      <td>simulated_name_dob_reference_file_95</td>\n",
       "      <td>075-37-9591</td>\n",
       "      <td>Fetty</td>\n",
       "      <td>Phyllis</td>\n",
       "      <td>Todd</td>\n",
       "      <td>89183</td>\n",
       "      <td>NaN</td>\n",
       "      <td>NaN</td>\n",
       "      <td>NaN</td>\n",
       "      <td>Fetty</td>\n",
       "      <td>...</td>\n",
       "      <td>Fe</td>\n",
       "      <td>To</td>\n",
       "      <td>Fet</td>\n",
       "      <td>Tod</td>\n",
       "      <td>FATY</td>\n",
       "      <td>Y310</td>\n",
       "      <td>TAD</td>\n",
       "      <td>D300</td>\n",
       "      <td>F</td>\n",
       "      <td>T</td>\n",
       "    </tr>\n",
       "    <tr>\n",
       "      <th>96</th>\n",
       "      <td>simulated_name_dob_reference_file_96</td>\n",
       "      <td>587-89-3227</td>\n",
       "      <td>Betty</td>\n",
       "      <td>Barbara</td>\n",
       "      <td>Strand</td>\n",
       "      <td>89184</td>\n",
       "      <td>9.0</td>\n",
       "      <td>1932.0</td>\n",
       "      <td>21.0</td>\n",
       "      <td>Betty</td>\n",
       "      <td>...</td>\n",
       "      <td>Be</td>\n",
       "      <td>St</td>\n",
       "      <td>Bet</td>\n",
       "      <td>Str</td>\n",
       "      <td>BATY</td>\n",
       "      <td>Y310</td>\n",
       "      <td>STRAD</td>\n",
       "      <td>D563</td>\n",
       "      <td>B</td>\n",
       "      <td>S</td>\n",
       "    </tr>\n",
       "    <tr>\n",
       "      <th>97</th>\n",
       "      <td>simulated_name_dob_reference_file_97</td>\n",
       "      <td>210-02-1121</td>\n",
       "      <td>Mary</td>\n",
       "      <td>Mary</td>\n",
       "      <td>Foster</td>\n",
       "      <td>89185</td>\n",
       "      <td>NaN</td>\n",
       "      <td>NaN</td>\n",
       "      <td>NaN</td>\n",
       "      <td>Mary</td>\n",
       "      <td>...</td>\n",
       "      <td>Ma</td>\n",
       "      <td>Fo</td>\n",
       "      <td>Mar</td>\n",
       "      <td>Fos</td>\n",
       "      <td>MARY</td>\n",
       "      <td>Y650</td>\n",
       "      <td>FASTAR</td>\n",
       "      <td>R321</td>\n",
       "      <td>M</td>\n",
       "      <td>F</td>\n",
       "    </tr>\n",
       "    <tr>\n",
       "      <th>98</th>\n",
       "      <td>simulated_name_dob_reference_file_98</td>\n",
       "      <td>108-44-4043</td>\n",
       "      <td>Norman</td>\n",
       "      <td>Russell</td>\n",
       "      <td>Unk</td>\n",
       "      <td>89186</td>\n",
       "      <td>11.0</td>\n",
       "      <td>1932.0</td>\n",
       "      <td>8.0</td>\n",
       "      <td>Norman</td>\n",
       "      <td>...</td>\n",
       "      <td>No</td>\n",
       "      <td>Un</td>\n",
       "      <td>Nor</td>\n",
       "      <td>Unk</td>\n",
       "      <td>NARNAN</td>\n",
       "      <td>N565</td>\n",
       "      <td>UNC</td>\n",
       "      <td>K500</td>\n",
       "      <td>N</td>\n",
       "      <td>U-Z</td>\n",
       "    </tr>\n",
       "    <tr>\n",
       "      <th>99</th>\n",
       "      <td>simulated_name_dob_reference_file_99</td>\n",
       "      <td>044-33-2995</td>\n",
       "      <td>Garnett</td>\n",
       "      <td>Robert</td>\n",
       "      <td>Vieira</td>\n",
       "      <td>89187</td>\n",
       "      <td>12.0</td>\n",
       "      <td>1932.0</td>\n",
       "      <td>20.0</td>\n",
       "      <td>Garnett</td>\n",
       "      <td>...</td>\n",
       "      <td>Ga</td>\n",
       "      <td>Vi</td>\n",
       "      <td>Gar</td>\n",
       "      <td>Vie</td>\n",
       "      <td>GARNAT</td>\n",
       "      <td>T562</td>\n",
       "      <td>VAR</td>\n",
       "      <td>A610</td>\n",
       "      <td>G</td>\n",
       "      <td>U-Z</td>\n",
       "    </tr>\n",
       "  </tbody>\n",
       "</table>\n",
       "<p>100 rows × 24 columns</p>\n",
       "</div>"
      ],
      "text/plain": [
       "                               record_id          ssn first_name middle_name  \\\n",
       "0    simulated_name_dob_reference_file_0  685-77-0916      Betty      Audrey   \n",
       "1    simulated_name_dob_reference_file_1  047-34-5906     Elaine               \n",
       "2    simulated_name_dob_reference_file_2  136-85-7371      Betty        Avis   \n",
       "3    simulated_name_dob_reference_file_3  017-47-7973     George      Robert   \n",
       "4    simulated_name_dob_reference_file_4  726-57-2168  Josephine    Margaret   \n",
       "..                                   ...          ...        ...         ...   \n",
       "95  simulated_name_dob_reference_file_95  075-37-9591      Fetty     Phyllis   \n",
       "96  simulated_name_dob_reference_file_96  587-89-3227      Betty     Barbara   \n",
       "97  simulated_name_dob_reference_file_97  210-02-1121       Mary        Mary   \n",
       "98  simulated_name_dob_reference_file_98  108-44-4043     Norman     Russell   \n",
       "99  simulated_name_dob_reference_file_99  044-33-2995    Garnett      Robert   \n",
       "\n",
       "         last_name     pik  month_of_birth  year_of_birth  day_of_birth  \\\n",
       "0      Fairbrother  106067            12.0         1922.0           5.0   \n",
       "1   Laurel Sherman  104228             1.0         1923.0           3.0   \n",
       "2       Atterberry  106714             3.0         1923.0          13.0   \n",
       "3          Rwareon  105169             6.0         1923.0           9.0   \n",
       "4          Mulhall  106386             7.0         1923.0          28.0   \n",
       "..             ...     ...             ...            ...           ...   \n",
       "95            Todd   89183             NaN            NaN           NaN   \n",
       "96          Strand   89184             9.0         1932.0          21.0   \n",
       "97          Foster   89185             NaN            NaN           NaN   \n",
       "98             Unk   89186            11.0         1932.0           8.0   \n",
       "99          Vieira   89187            12.0         1932.0          20.0   \n",
       "\n",
       "   first_name_15  ... first_name_2 last_name_2 first_name_3 last_name_3  \\\n",
       "0          Betty  ...           Be          Fa          Bet         Fai   \n",
       "1         Elaine  ...           El          La          Ela         Lau   \n",
       "2          Betty  ...           Be          At          Bet         Att   \n",
       "3         George  ...           Ge          Rw          Geo         Rwa   \n",
       "4      Josephine  ...           Jo          Mu          Jos         Mul   \n",
       "..           ...  ...          ...         ...          ...         ...   \n",
       "95         Fetty  ...           Fe          To          Fet         Tod   \n",
       "96         Betty  ...           Be          St          Bet         Str   \n",
       "97          Mary  ...           Ma          Fo          Mar         Fos   \n",
       "98        Norman  ...           No          Un          Nor         Unk   \n",
       "99       Garnett  ...           Ga          Vi          Gar         Vie   \n",
       "\n",
       "   first_name_nysiis first_name_reverse_soundex last_name_nysiis  \\\n",
       "0               BATY                       Y310        FARBRATAR   \n",
       "1               ELAN                       E540     LARAL SARNAN   \n",
       "2               BATY                       Y310         ATARBARY   \n",
       "3               GARG                       E262           RWARAN   \n",
       "4            JASAFAN                       E512            MALAL   \n",
       "..               ...                        ...              ...   \n",
       "95              FATY                       Y310              TAD   \n",
       "96              BATY                       Y310            STRAD   \n",
       "97              MARY                       Y650           FASTAR   \n",
       "98            NARNAN                       N565              UNC   \n",
       "99            GARNAT                       T562              VAR   \n",
       "\n",
       "   last_name_reverse_soundex first_initial_cut last_initial_cut  \n",
       "0                       R361                 B                F  \n",
       "1                       N562                 E                L  \n",
       "2                       Y616                 B       A-or-blank  \n",
       "3                       N660                 G                R  \n",
       "4                       L450                 J                M  \n",
       "..                       ...               ...              ...  \n",
       "95                      D300                 F                T  \n",
       "96                      D563                 B                S  \n",
       "97                      R321                 M                F  \n",
       "98                      K500                 N              U-Z  \n",
       "99                      A610                 G              U-Z  \n",
       "\n",
       "[100 rows x 24 columns]"
      ]
     },
     "execution_count": 46,
     "metadata": {},
     "output_type": "execute_result"
    }
   ],
   "source": [
    "df_ops.head(name_dob_reference_file, n=100)"
   ]
  },
  {
   "cell_type": "code",
   "execution_count": 47,
   "id": "c3d4ebae-cf4c-45be-a7d7-db4062407e68",
   "metadata": {
    "execution": {
     "iopub.execute_input": "2024-05-16T17:20:47.497563Z",
     "iopub.status.busy": "2024-05-16T17:20:47.497241Z",
     "iopub.status.idle": "2024-05-16T17:20:47.504627Z",
     "shell.execute_reply": "2024-05-16T17:20:47.503829Z"
    },
    "papermill": {
     "duration": 0.030147,
     "end_time": "2024-05-16T17:20:47.506173",
     "exception": false,
     "start_time": "2024-05-16T17:20:47.476026",
     "status": "completed"
    },
    "tags": []
   },
   "outputs": [
    {
     "data": {
      "text/plain": [
       "0.09975136747886623"
      ]
     },
     "execution_count": 47,
     "metadata": {},
     "output_type": "execute_result"
    }
   ],
   "source": [
    "df_ops.compute(name_dob_reference_file.year_of_birth.isna().mean())"
   ]
  },
  {
   "cell_type": "code",
   "execution_count": 48,
   "id": "73a64260-0815-456a-9166-10b7be194d02",
   "metadata": {
    "execution": {
     "iopub.execute_input": "2024-05-16T17:20:47.547934Z",
     "iopub.status.busy": "2024-05-16T17:20:47.547626Z",
     "iopub.status.idle": "2024-05-16T17:20:47.551619Z",
     "shell.execute_reply": "2024-05-16T17:20:47.550794Z"
    },
    "papermill": {
     "duration": 0.026537,
     "end_time": "2024-05-16T17:20:47.552855",
     "exception": false,
     "start_time": "2024-05-16T17:20:47.526318",
     "status": "completed"
    },
    "tags": []
   },
   "outputs": [],
   "source": [
    "# df_ops.to_parquet(name_dob_reference_file, f'{intermediate_data_dir}/name_dob_reference_file_prepped.parquet')"
   ]
  },
  {
   "cell_type": "markdown",
   "id": "57a115b7-6215-4bcf-8444-ef2223040a02",
   "metadata": {
    "papermill": {
     "duration": 0.021184,
     "end_time": "2024-05-16T17:20:47.594581",
     "exception": false,
     "start_time": "2024-05-16T17:20:47.573397",
     "status": "completed"
    },
    "tags": []
   },
   "source": [
    "# Emulate Multi-Match with splink\n",
    "\n",
    "Wagner and Layne, p. 8:\n",
    "\n",
    "> The PVS employs its probabilistic record linkage software, Multi-Match (Wagner\n",
    "2012), as an integral part of the PVS.\n",
    "\n",
    "Wagner and Layne, p. 12:\n",
    "\n",
    "> PVS uses the same Multi-Match engine for each probabilistic search type. For each\n",
    "search module the analyst defines a parameter file, which is passed to Multi-Match. The\n",
    "parameter file includes threshold value(s) for the number of passes, blocking keys, and\n",
    "within each pass, the match variables, match comparison type, and matching weights...\n",
    ">\n",
    "> Records must first match exactly on the blocking keys before any comparisons\n",
    "between the match variables are attempted. Each match variable is given an\n",
    "m and\n",
    "u\n",
    "probability, which is translated by MultiMatch as agreement and disagreement weights.\n",
    "The sum of all match variable comparison weights for a record pair is the composite\n",
    "weight. All record pairs with a composite weight greater than or equal to the threshold\n",
    "set in the parameter file are linked, and the records from the incoming file for these\n",
    "linked cases are excluded from all remaining passes. All Numident records are always\n",
    "available for linking in every pass. Any record missing data for any of the blocking fields\n",
    "for a pass skips that pass and moves to the next pass.\n",
    "\n",
    "[splink](https://github.com/moj-analytical-services/splink) is similar to Multi-Match\n",
    "(both are based on the Fellegi-Sunter approach to record linkage).\n",
    "It also implements:\n",
    "- Exact blocking on specified keys\n",
    "- Determining overall match probability based on conditional independence of individual field comparisons\n",
    "  (it is equivalent to multiply the probability ratios, or sum the logarithmic \"weights\" as Multi-Match describes it),\n",
    "  which each have m and u probabilities\n",
    "- Setting a match threshold\n",
    "\n",
    "However, splink does not include some additional logic built into Multi-Match,\n",
    "specifically the ability to run multiple \"passes,\" removing linked records from\n",
    "subsequent passes.\n",
    "We have to implement that ourselves, calling splink again in each pass."
   ]
  },
  {
   "cell_type": "markdown",
   "id": "3a52fa1a-85ca-4a5a-a978-08e43c5b9eb0",
   "metadata": {
    "papermill": {
     "duration": 0.020641,
     "end_time": "2024-05-16T17:20:47.637255",
     "exception": false,
     "start_time": "2024-05-16T17:20:47.616614",
     "status": "completed"
    },
    "tags": []
   },
   "source": [
    "## Estimate parameters (lambda, m, u) once for all modules\n",
    "\n",
    "In Multi-Match, there is no lambda (prior probability of a link, before any comparisons are observed).\n",
    "This is because Multi-Match works entirely in weight space, and sets different weight thresholds\n",
    "in different modules/passes instead of changing the prior probability.\n",
    "\n",
    "In Multi-Match parameters are not directly estimated from the data.\n",
    "They are primarily set manually by analysts, with a different set of parameter files\n",
    "maintained for each type of input file (e.g. survey, administrative).\n",
    "\n",
    "All parameters except lambda are column-level parameters.\n",
    "We estimate the column-level parameters using the GeoBase Reference File,\n",
    "since it has all columns that are used for matching with any reference file.\n",
    "\n",
    "We estimate lambda (manually, see below) separately by reference file,\n",
    "since the number of records is different between the reference files but\n",
    "the size of the underlying population (people we are trying to match) is constant."
   ]
  },
  {
   "cell_type": "markdown",
   "id": "0f5283ef-c44f-4a19-9f58-a0d091697f1a",
   "metadata": {
    "papermill": {
     "duration": 0.022572,
     "end_time": "2024-05-16T17:20:47.680677",
     "exception": false,
     "start_time": "2024-05-16T17:20:47.658105",
     "status": "completed"
    },
    "tags": []
   },
   "source": [
    "### lambda (prior probability of a match)\n",
    "\n",
    "Splink has a built-in method (estimate_probability_two_random_records_match)\n",
    "for estimating this, but it did not seem to give me reasonable estimates.\n",
    "\n",
    "We just make an informed guess here based on how much overlap we expect\n",
    "in the files, how much unintentional duplication we expect in the files (e.g. someone\n",
    "being enumerated twice), how much *intentional* duplication we have in the\n",
    "files (e.g. a record for each nickname variant), and some simplifying assumptions.\n",
    "\n",
    "Our assumptions:\n",
    "- 5% of the enumerations in the CUF are unintentional duplicates\n",
    "- 0.5% of the PIKs in the reference file are unintentional duplicates\n",
    "  (that same person is also represented with a different PIK)\n",
    "- 90% of the people in the CUF are represented in the reference files\n",
    "- Being represented in both files is independent of being unintentionally\n",
    "  or intentionally duplicated\n",
    "- Being intentionally duplicated in one file is independent of being intentionally\n",
    "  duplicated in the other (likely not true since having a name with lots of variants\n",
    "  would cause intentional duplicates in both)\n",
    "\n",
    "We do this first (before m and u probabilities) because having lambda estimated is\n",
    "useful to the EM algorithm for estimating m and u."
   ]
  },
  {
   "cell_type": "code",
   "execution_count": 49,
   "id": "9e179c13-03b3-4100-81d7-5db54c05c371",
   "metadata": {
    "execution": {
     "iopub.execute_input": "2024-05-16T17:20:47.725289Z",
     "iopub.status.busy": "2024-05-16T17:20:47.724478Z",
     "iopub.status.idle": "2024-05-16T17:20:47.746051Z",
     "shell.execute_reply": "2024-05-16T17:20:47.744418Z"
    },
    "papermill": {
     "duration": 0.047404,
     "end_time": "2024-05-16T17:20:47.748606",
     "exception": false,
     "start_time": "2024-05-16T17:20:47.701202",
     "status": "completed"
    },
    "tags": []
   },
   "outputs": [
    {
     "data": {
      "text/plain": [
       "1.4115990816180642e-05"
      ]
     },
     "execution_count": 49,
     "metadata": {},
     "output_type": "execute_result"
    }
   ],
   "source": [
    "def estimate_number_true_matches(input_file, reference_file):\n",
    "    people_represented_in_input_file = (\n",
    "        len(df_ops.drop_duplicates(input_file[['record_id_raw_input_file']])) * 0.95\n",
    "    )\n",
    "    people_represented_in_reference_file = (\n",
    "        len(df_ops.drop_duplicates(reference_file[['pik']])) * 0.995\n",
    "    )\n",
    "    people_represented_in_both = people_represented_in_input_file * 0.9\n",
    "\n",
    "    # Assuming independence conditions as noted above, the number of true\n",
    "    # matches that should be found for *each* true person is the expected number\n",
    "    # of records in one file times the expected number of records in the other\n",
    "    input_file_records_per_person = people_represented_in_input_file / len(input_file)\n",
    "    reference_file_records_per_person = people_represented_in_reference_file / len(reference_file)\n",
    "    record_matches_per_person = input_file_records_per_person * reference_file_records_per_person\n",
    "\n",
    "    return people_represented_in_both * record_matches_per_person\n",
    "\n",
    "def probability_two_random_records_match(input_file, reference_file):\n",
    "    cartesian_product = len(input_file) * len(reference_file)\n",
    "    if cartesian_product == 0:\n",
    "        # Does not matter\n",
    "        return 0.5\n",
    "\n",
    "    return (\n",
    "        estimate_number_true_matches(input_file, reference_file) /\n",
    "        cartesian_product\n",
    "    )\n",
    "\n",
    "probability_two_random_records_match(census_2030, geobase_reference_file)"
   ]
  },
  {
   "cell_type": "markdown",
   "id": "2d798575-22de-4515-942c-60ecc0dbe3a0",
   "metadata": {
    "papermill": {
     "duration": 0.021028,
     "end_time": "2024-05-16T17:20:47.796009",
     "exception": false,
     "start_time": "2024-05-16T17:20:47.774981",
     "status": "completed"
    },
    "tags": []
   },
   "source": [
    "### m and u probabilities"
   ]
  },
  {
   "cell_type": "code",
   "execution_count": 50,
   "id": "07e5cd59-59c0-4ef5-bcba-f7168f7492fd",
   "metadata": {
    "execution": {
     "iopub.execute_input": "2024-05-16T17:20:47.839166Z",
     "iopub.status.busy": "2024-05-16T17:20:47.838418Z",
     "iopub.status.idle": "2024-05-16T17:20:47.852438Z",
     "shell.execute_reply": "2024-05-16T17:20:47.851070Z"
    },
    "papermill": {
     "duration": 0.037839,
     "end_time": "2024-05-16T17:20:47.854287",
     "exception": false,
     "start_time": "2024-05-16T17:20:47.816448",
     "status": "completed"
    },
    "tags": []
   },
   "outputs": [],
   "source": [
    "if splink_engine == 'spark':\n",
    "    # https://moj-analytical-services.github.io/splink/demos/examples/spark/deduplicate_1k_synthetic.html\n",
    "    from splink.spark.jar_location import similarity_jar_location\n",
    "\n",
    "    from pyspark import SparkContext, SparkConf\n",
    "    from pyspark.sql import SparkSession\n",
    "    from pyspark.sql import types\n",
    "\n",
    "    conf = SparkConf()\n",
    "    conf.setMaster(os.getenv(\"LINKER_SPARK_MASTER_URL\", spark_master_url))\n",
    "    conf.set(\"spark.driver.memory\", \"8g\")\n",
    "    conf.set(\"spark.executor.instances\", spark_num_workers)\n",
    "    conf.set(\"spark.executor.cores\", 1)\n",
    "    conf.set(\"spark.executor.memory\", f\"{spark_memory_per_worker - spark_worker_memory_overhead_mb}m\")\n",
    "\n",
    "    conf.set(\"spark.sql.shuffle.partitions\", spark_num_workers * 5)\n",
    "    conf.set(\"spark.default.parallelism\", spark_num_workers * 5)\n",
    "\n",
    "    # Add custom similarity functions, which are bundled with Splink\n",
    "    # documented here: https://github.com/moj-analytical-services/splink_scalaudfs\n",
    "    path = similarity_jar_location()\n",
    "    conf.set(\"spark.jars\", path)\n",
    "\n",
    "    sc = SparkContext.getOrCreate(conf=conf)\n",
    "\n",
    "    spark = SparkSession(sc)\n",
    "    checkpoints_dir = f\"{output_dir}/tmpCheckpoints\"\n",
    "    utils.ensure_empty(checkpoints_dir)\n",
    "    spark.sparkContext.setCheckpointDir(checkpoints_dir)"
   ]
  },
  {
   "cell_type": "code",
   "execution_count": 51,
   "id": "0b42b5e3-d681-48c0-9a85-4aa695017c20",
   "metadata": {
    "execution": {
     "iopub.execute_input": "2024-05-16T17:20:47.899720Z",
     "iopub.status.busy": "2024-05-16T17:20:47.898946Z",
     "iopub.status.idle": "2024-05-16T17:20:47.909636Z",
     "shell.execute_reply": "2024-05-16T17:20:47.908685Z"
    },
    "papermill": {
     "duration": 0.034157,
     "end_time": "2024-05-16T17:20:47.911212",
     "exception": false,
     "start_time": "2024-05-16T17:20:47.877055",
     "status": "completed"
    },
    "tags": []
   },
   "outputs": [
    {
     "data": {
      "text/plain": [
       "['record_id',\n",
       " 'first_name',\n",
       " 'middle_initial',\n",
       " 'last_name',\n",
       " 'street_number',\n",
       " 'street_name',\n",
       " 'unit_number',\n",
       " 'city',\n",
       " 'state',\n",
       " 'zipcode',\n",
       " 'month_of_birth',\n",
       " 'year_of_birth',\n",
       " 'day_of_birth',\n",
       " 'geokey',\n",
       " 'geokey_for_blocking',\n",
       " 'street_number_for_blocking',\n",
       " 'street_name_for_blocking',\n",
       " 'first_name_15',\n",
       " 'last_name_12',\n",
       " 'first_name_1',\n",
       " 'last_name_1',\n",
       " 'first_name_2',\n",
       " 'last_name_2',\n",
       " 'first_name_3',\n",
       " 'last_name_3',\n",
       " 'street_name_for_blocking_soundex',\n",
       " 'zip3']"
      ]
     },
     "execution_count": 51,
     "metadata": {},
     "output_type": "execute_result"
    }
   ],
   "source": [
    "common_cols = [c for c in census_2030.columns if c in geobase_reference_file.columns]\n",
    "common_cols"
   ]
  },
  {
   "cell_type": "code",
   "execution_count": 52,
   "id": "c39465e9-edee-4a73-ac63-c4f060013a00",
   "metadata": {
    "execution": {
     "iopub.execute_input": "2024-05-16T17:20:47.956167Z",
     "iopub.status.busy": "2024-05-16T17:20:47.955427Z",
     "iopub.status.idle": "2024-05-16T17:20:47.980794Z",
     "shell.execute_reply": "2024-05-16T17:20:47.979064Z"
    },
    "papermill": {
     "duration": 0.050517,
     "end_time": "2024-05-16T17:20:47.983921",
     "exception": false,
     "start_time": "2024-05-16T17:20:47.933404",
     "status": "completed"
    },
    "tags": []
   },
   "outputs": [],
   "source": [
    "def prep_table_for_splink(df, dataset_name, columns):\n",
    "    result = (\n",
    "        df[[c for c in df.columns if c in columns]]\n",
    "    )\n",
    "    if compute_engine == 'pandas' or splink_engine == 'duckdb':\n",
    "        # Needs to all be in one process anyway\n",
    "        return df_ops.compute(result)\n",
    "    else:\n",
    "        utils.ensure_empty(f'{intermediate_data_dir}/for_splink/{dataset_name}')\n",
    "        file_path = f'{intermediate_data_dir}/for_splink/{dataset_name}/{dataset_name}_{int(time.time())}.parquet'\n",
    "        df_ops.to_parquet(result, file_path, wait=True, write_index=False)\n",
    "        assert splink_engine == 'spark'\n",
    "        return spark.read.parquet(file_path)\n",
    "\n",
    "if len(geobase_reference_file) > 1_000_000:\n",
    "    geobase_reference_file_for_training = geobase_reference_file.sample(frac=(1_000_000/len(geobase_reference_file)), random_state=1234)\n",
    "else:\n",
    "    geobase_reference_file_for_training = geobase_reference_file\n",
    "\n",
    "if len(census_2030) > 1_000_000:\n",
    "    census_2030_for_training = census_2030.sample(frac=(1_000_000/len(census_2030)), random_state=1234)\n",
    "else:\n",
    "    census_2030_for_training = census_2030\n",
    "\n",
    "utils.ensure_empty(f'{intermediate_data_dir}/for_splink/')\n",
    "tables_for_splink = [\n",
    "    prep_table_for_splink(geobase_reference_file_for_training, \"geobase_reference_file\", common_cols),\n",
    "    prep_table_for_splink(census_2030_for_training, \"census_2030\", common_cols)\n",
    "]"
   ]
  },
  {
   "cell_type": "markdown",
   "id": "df02a447-eed8-470d-8487-1954c046bebd",
   "metadata": {
    "papermill": {
     "duration": 0.020778,
     "end_time": "2024-05-16T17:20:48.030544",
     "exception": false,
     "start_time": "2024-05-16T17:20:48.009766",
     "status": "completed"
    },
    "tags": []
   },
   "source": [
    "#### Define comparison variables and levels\n",
    "\n",
    "**Variables**\n",
    "\n",
    "The most recent report, from 2023 (Brown et al., p. 29), says:\n",
    "\n",
    "> [In] GeoSearch... The typical matching variables are name, DOB, sex, and\n",
    "  various address fields...\n",
    ">\n",
    "> NameSearch... uses only name and DOB fields...\n",
    "> \n",
    "> DOBSearch... compares name, sex, and DOB...\n",
    "> \n",
    "> the Household Composition search module... attempts to find a match... based on name and DOB information\n",
    "\n",
    "So, the total list: name, DOB, sex, and \"various address fields.\"\n",
    "These address fields are listed in the PVS report (p. 34) which is admittedly from 2011:\n",
    "\n",
    "> variables used directly in matching the input file with the reference files [include]...\n",
    "> street name, street name prefix and suffix, house number, rural route and box, and ZIP code\n",
    "\n",
    "**Comparisons**\n",
    "\n",
    "Massey et al. footnote 2: \n",
    "> The PVS string comparator was developed by Winkler (1995) and measures the distance\n",
    "  between two strings on a scale from 0 to 900, where a distance score of 0 is given if\n",
    "  there is no similarity between two text strings and a score of 900 is given for an exact match.\n",
    "  The cutoff value for the string distance is set to 750 in the Name Search module.\n",
    "\n",
    "Massey and O'Hara, p. 6 footnote 7:\n",
    "> For the comparison of text strings, a prorated value\n",
    "  between the chosen agreement score and chosen disagreement score is given depending on the Jaro-Winkler\n",
    "  distance between the string in the input file and reference file.\n",
    "\n",
    "Massey et al.:\n",
    "> For numeric variables, such as year of birth, a maximum acceptable difference\n",
    "> between the variable value in the input and reference record is set. This also\n",
    "> allows for creation of an interval, or band, around year of birth to permit\n",
    "> inexact matches. Within this band, prorated agreement and disagreement weights\n",
    "> are assigned depending on the similarity of year of birth.\n",
    "\n",
    "The \"maximum acceptable distance\" implies that the m probability beyond that distance is\n",
    "zero; such pairs should never be linked.\n",
    "\n",
    "Note that this continuous \"prorated value,\" as opposed to categorizing comparison levels,\n",
    "is not possible in splink and goes outside the traditional F-S framing of m and u probabilities!\n",
    "We omit it for now."
   ]
  },
  {
   "cell_type": "code",
   "execution_count": 53,
   "id": "367d9ac2-eba6-48b9-a10c-7f3515adcf7f",
   "metadata": {
    "execution": {
     "iopub.execute_input": "2024-05-16T17:20:48.075090Z",
     "iopub.status.busy": "2024-05-16T17:20:48.073894Z",
     "iopub.status.idle": "2024-05-16T17:20:48.857747Z",
     "shell.execute_reply": "2024-05-16T17:20:48.857164Z"
    },
    "papermill": {
     "duration": 0.810352,
     "end_time": "2024-05-16T17:20:48.861320",
     "exception": false,
     "start_time": "2024-05-16T17:20:48.050968",
     "status": "completed"
    },
    "tags": []
   },
   "outputs": [],
   "source": [
    "if splink_engine == 'duckdb':\n",
    "    from splink.duckdb.comparison_library import (\n",
    "        exact_match,\n",
    "        jaro_winkler_at_thresholds,\n",
    "    )\n",
    "    import splink.duckdb.comparison_level_library as cll\n",
    "elif splink_engine == 'spark':\n",
    "    from splink.spark.comparison_library import (\n",
    "        exact_match,\n",
    "        jaro_winkler_at_thresholds,\n",
    "    )\n",
    "    import splink.spark.comparison_level_library as cll\n",
    "\n",
    "def numeric_column_comparison(col_name, human_name, maximum_inexact_match_difference):\n",
    "    return {\n",
    "        \"output_column_name\": col_name,\n",
    "        \"comparison_description\": human_name,\n",
    "        \"comparison_levels\": [\n",
    "            cll.null_level(col_name),\n",
    "            cll.exact_match_level(col_name),\n",
    "            {\n",
    "                \"sql_condition\": f\"abs({col_name}_l - {col_name}_r) <= {maximum_inexact_match_difference}\",\n",
    "                \"label_for_charts\": \"Inexact match\",\n",
    "            },\n",
    "            cll.else_level(),\n",
    "        ],\n",
    "    }\n",
    "\n",
    "numeric_columns = [\"day_of_birth\", \"month_of_birth\", \"year_of_birth\"]\n",
    "\n",
    "settings = {\n",
    "    \"link_type\": \"link_only\",\n",
    "    \"comparisons\": [\n",
    "        jaro_winkler_at_thresholds(\"first_name_15\", 750 / 900),\n",
    "        jaro_winkler_at_thresholds(\"last_name_12\", 750 / 900),\n",
    "        exact_match(\"middle_initial\"),\n",
    "        # NOTE: Three separate comparisons here can strongly violate conditional independence.\n",
    "        # However, it seems to be well-attested in the PVS descriptions.\n",
    "        numeric_column_comparison(\"day_of_birth\", \"Day of birth\", maximum_inexact_match_difference=5),\n",
    "        numeric_column_comparison(\"month_of_birth\", \"Month of birth\", maximum_inexact_match_difference=3),\n",
    "        numeric_column_comparison(\"year_of_birth\", \"Year of birth\", maximum_inexact_match_difference=5),\n",
    "        # NOTE: There are some places where PVS seems to claim to compare individual parts\n",
    "        # of the address.\n",
    "        # Address matching is not mentioned at all in the one source we have listing exact variables.\n",
    "        # Comparing parts of the address separately strongly breaks conditional independence.\n",
    "        # So we compare the entire geokey at once.\n",
    "        jaro_winkler_at_thresholds(\"geokey\", 650 / 900),\n",
    "    ],\n",
    "    \"probability_two_random_records_match\": probability_two_random_records_match(census_2030, geobase_reference_file),\n",
    "    \"unique_id_column_name\": \"record_id\",\n",
    "    # Not sure exactly what this does, but it is necessary for some of the fancier graphs below\n",
    "    \"retain_intermediate_calculation_columns\": True,\n",
    "}\n",
    "\n",
    "if splink_engine == 'duckdb':\n",
    "    from splink.duckdb.linker import DuckDBLinker\n",
    "\n",
    "    linker = DuckDBLinker(\n",
    "        tables_for_splink,\n",
    "        settings,\n",
    "        input_table_aliases=[\"reference_file\", \"census_2030\"]\n",
    "    )\n",
    "elif splink_engine == 'spark':\n",
    "    from splink.spark.linker import SparkLinker\n",
    "    linker = SparkLinker(\n",
    "        tables_for_splink,\n",
    "        settings,\n",
    "        input_table_aliases=[\"reference_file\", \"census_2030\"],\n",
    "        spark=spark,\n",
    "    )\n",
    "\n",
    "    import warnings\n",
    "    # PySpark triggers a lot of Pandas warnings\n",
    "    warnings.filterwarnings(\"ignore\", category=DeprecationWarning)\n",
    "    warnings.filterwarnings(\"ignore\", category=FutureWarning)"
   ]
  },
  {
   "cell_type": "markdown",
   "id": "8248795b-29ae-4f70-b0c8-1b466112c56e",
   "metadata": {
    "papermill": {
     "duration": 0.020635,
     "end_time": "2024-05-16T17:20:48.910670",
     "exception": false,
     "start_time": "2024-05-16T17:20:48.890035",
     "status": "completed"
    },
    "tags": []
   },
   "source": [
    "#### Estimate u probabilities\n",
    "\n",
    "This method seems to work well:\n",
    "- For almost all of the columns, an exact or even inexact match is relatively rare\n",
    "- Exact matches are common on ZIP code (makes sense, given our sample data is all in one ZIP)\n",
    "- Inexact matches are more common where you would expect (day and month of birth have highly constrained values)\n",
    "\n",
    "I have tested that this estimation is reproducible when run multiple times (with the same seed)."
   ]
  },
  {
   "cell_type": "code",
   "execution_count": 54,
   "id": "fbc1d82b-02d2-45df-b450-614623c41f5e",
   "metadata": {
    "execution": {
     "iopub.execute_input": "2024-05-16T17:20:48.954745Z",
     "iopub.status.busy": "2024-05-16T17:20:48.954085Z",
     "iopub.status.idle": "2024-05-16T17:21:06.369021Z",
     "shell.execute_reply": "2024-05-16T17:21:06.367849Z"
    },
    "papermill": {
     "duration": 17.439299,
     "end_time": "2024-05-16T17:21:06.370259",
     "exception": false,
     "start_time": "2024-05-16T17:20:48.930960",
     "status": "completed"
    },
    "tags": []
   },
   "outputs": [
    {
     "name": "stderr",
     "output_type": "stream",
     "text": [
      "----- Estimating u probabilities using random sampling -----\n"
     ]
    },
    {
     "data": {
      "application/vnd.jupyter.widget-view+json": {
       "model_id": "3bf427e341a5431c85abd82f29d96067",
       "version_major": 2,
       "version_minor": 0
      },
      "text/plain": [
       "FloatProgress(value=0.0, layout=Layout(width='auto'), style=ProgressStyle(bar_color='black'))"
      ]
     },
     "metadata": {},
     "output_type": "display_data"
    },
    {
     "name": "stderr",
     "output_type": "stream",
     "text": [
      "\n",
      "Estimated u probabilities using random sampling\n"
     ]
    },
    {
     "name": "stderr",
     "output_type": "stream",
     "text": [
      "\n",
      "Your model is not yet fully trained. Missing estimates for:\n",
      "    - first_name_15 (no m values are trained).\n",
      "    - last_name_12 (no m values are trained).\n",
      "    - middle_initial (no m values are trained).\n",
      "    - day_of_birth (no m values are trained).\n",
      "    - month_of_birth (no m values are trained).\n",
      "    - year_of_birth (no m values are trained).\n",
      "    - geokey (no m values are trained).\n"
     ]
    },
    {
     "name": "stdout",
     "output_type": "stream",
     "text": [
      "CPU times: user 23.5 s, sys: 6.16 s, total: 29.6 s\n",
      "Wall time: 17.4 s\n"
     ]
    }
   ],
   "source": [
    "%%time\n",
    "\n",
    "linker.estimate_u_using_random_sampling(max_pairs=1e7, seed=1234)"
   ]
  },
  {
   "cell_type": "code",
   "execution_count": 55,
   "id": "a393ab32-1308-47c8-bab0-39d2b0cf6256",
   "metadata": {
    "execution": {
     "iopub.execute_input": "2024-05-16T17:21:06.420119Z",
     "iopub.status.busy": "2024-05-16T17:21:06.418626Z",
     "iopub.status.idle": "2024-05-16T17:21:06.550648Z",
     "shell.execute_reply": "2024-05-16T17:21:06.549802Z"
    },
    "papermill": {
     "duration": 0.160307,
     "end_time": "2024-05-16T17:21:06.554848",
     "exception": false,
     "start_time": "2024-05-16T17:21:06.394541",
     "status": "completed"
    },
    "tags": []
   },
   "outputs": [
    {
     "data": {
      "text/html": [
       "\n",
       "<style>\n",
       "  #altair-viz-cf2aab26c90c4733aa7613430eb003e1.vega-embed {\n",
       "    width: 100%;\n",
       "    display: flex;\n",
       "  }\n",
       "\n",
       "  #altair-viz-cf2aab26c90c4733aa7613430eb003e1.vega-embed details,\n",
       "  #altair-viz-cf2aab26c90c4733aa7613430eb003e1.vega-embed details summary {\n",
       "    position: relative;\n",
       "  }\n",
       "</style>\n",
       "<div id=\"altair-viz-cf2aab26c90c4733aa7613430eb003e1\"></div>\n",
       "<script type=\"text/javascript\">\n",
       "  var VEGA_DEBUG = (typeof VEGA_DEBUG == \"undefined\") ? {} : VEGA_DEBUG;\n",
       "  (function(spec, embedOpt){\n",
       "    let outputDiv = document.currentScript.previousElementSibling;\n",
       "    if (outputDiv.id !== \"altair-viz-cf2aab26c90c4733aa7613430eb003e1\") {\n",
       "      outputDiv = document.getElementById(\"altair-viz-cf2aab26c90c4733aa7613430eb003e1\");\n",
       "    }\n",
       "    const paths = {\n",
       "      \"vega\": \"https://cdn.jsdelivr.net/npm/vega@5?noext\",\n",
       "      \"vega-lib\": \"https://cdn.jsdelivr.net/npm/vega-lib?noext\",\n",
       "      \"vega-lite\": \"https://cdn.jsdelivr.net/npm/vega-lite@5.17.0?noext\",\n",
       "      \"vega-embed\": \"https://cdn.jsdelivr.net/npm/vega-embed@6?noext\",\n",
       "    };\n",
       "\n",
       "    function maybeLoadScript(lib, version) {\n",
       "      var key = `${lib.replace(\"-\", \"\")}_version`;\n",
       "      return (VEGA_DEBUG[key] == version) ?\n",
       "        Promise.resolve(paths[lib]) :\n",
       "        new Promise(function(resolve, reject) {\n",
       "          var s = document.createElement('script');\n",
       "          document.getElementsByTagName(\"head\")[0].appendChild(s);\n",
       "          s.async = true;\n",
       "          s.onload = () => {\n",
       "            VEGA_DEBUG[key] = version;\n",
       "            return resolve(paths[lib]);\n",
       "          };\n",
       "          s.onerror = () => reject(`Error loading script: ${paths[lib]}`);\n",
       "          s.src = paths[lib];\n",
       "        });\n",
       "    }\n",
       "\n",
       "    function showError(err) {\n",
       "      outputDiv.innerHTML = `<div class=\"error\" style=\"color:red;\">${err}</div>`;\n",
       "      throw err;\n",
       "    }\n",
       "\n",
       "    function displayChart(vegaEmbed) {\n",
       "      vegaEmbed(outputDiv, spec, embedOpt)\n",
       "        .catch(err => showError(`Javascript Error: ${err.message}<br>This usually means there's a typo in your chart specification. See the javascript console for the full traceback.`));\n",
       "    }\n",
       "\n",
       "    if(typeof define === \"function\" && define.amd) {\n",
       "      requirejs.config({paths});\n",
       "      require([\"vega-embed\"], displayChart, err => showError(`Error loading script: ${err.message}`));\n",
       "    } else {\n",
       "      maybeLoadScript(\"vega\", \"5\")\n",
       "        .then(() => maybeLoadScript(\"vega-lite\", \"5.17.0\"))\n",
       "        .then(() => maybeLoadScript(\"vega-embed\", \"6\"))\n",
       "        .catch(showError)\n",
       "        .then(() => displayChart(vegaEmbed));\n",
       "    }\n",
       "  })({\"config\": {\"view\": {\"continuousWidth\": 300, \"continuousHeight\": 300, \"discreteHeight\": 300, \"discreteWidth\": 400}, \"header\": {\"title\": null}, \"title\": {\"anchor\": \"middle\", \"offset\": 10}}, \"hconcat\": [{\"mark\": \"bar\", \"encoding\": {\"color\": {\"value\": \"green\"}, \"row\": {\"field\": \"comparison_name\", \"header\": {\"labelAlign\": \"left\", \"labelAnchor\": \"middle\", \"labelAngle\": 0}, \"sort\": {\"field\": \"comparison_sort_order\"}, \"type\": \"nominal\"}, \"tooltip\": [{\"field\": \"m_probability_description\", \"title\": \"m probability description\", \"type\": \"nominal\"}, {\"field\": \"comparison_name\", \"title\": \"Comparison column name\", \"type\": \"nominal\"}, {\"field\": \"label_for_charts\", \"title\": \"Label\", \"type\": \"ordinal\"}, {\"field\": \"sql_condition\", \"title\": \"SQL condition\", \"type\": \"nominal\"}, {\"field\": \"m_probability\", \"format\": \".4p\", \"title\": \"m probability\", \"type\": \"quantitative\"}, {\"field\": \"u_probability\", \"format\": \".4p\", \"title\": \"u probability\", \"type\": \"quantitative\"}, {\"field\": \"bayes_factor\", \"format\": \",.4f\", \"title\": \"Bayes factor = m/u\", \"type\": \"quantitative\"}, {\"field\": \"log2_bayes_factor\", \"format\": \",.4f\", \"title\": \"Match weight = log2(m/u)\", \"type\": \"quantitative\"}], \"x\": {\"axis\": {\"title\": \"Proportion of record comparisons\"}, \"field\": \"m_probability\", \"type\": \"quantitative\"}, \"y\": {\"axis\": {\"title\": null}, \"field\": \"label_for_charts\", \"sort\": {\"field\": \"comparison_vector_value\", \"order\": \"descending\"}, \"type\": \"nominal\"}}, \"height\": {\"step\": 12}, \"resolve\": {\"scale\": {\"y\": \"independent\"}}, \"title\": {\"text\": \"Amongst matching record comparisons:\", \"fontSize\": 12, \"fontWeight\": \"bold\"}, \"transform\": [{\"filter\": \"(datum.bayes_factor != 'no-op filter due to vega lite issue 4680')\"}], \"width\": 150}, {\"mark\": \"bar\", \"encoding\": {\"color\": {\"value\": \"red\"}, \"row\": {\"field\": \"comparison_name\", \"header\": {\"labels\": false}, \"sort\": {\"field\": \"comparison_sort_order\"}, \"type\": \"nominal\"}, \"tooltip\": [{\"field\": \"u_probability_description\", \"title\": \"u probability description\", \"type\": \"nominal\"}, {\"field\": \"comparison_name\", \"title\": \"Comparison column name\", \"type\": \"nominal\"}, {\"field\": \"label_for_charts\", \"title\": \"Label\", \"type\": \"ordinal\"}, {\"field\": \"sql_condition\", \"title\": \"SQL condition\", \"type\": \"nominal\"}, {\"field\": \"m_probability\", \"format\": \".4p\", \"title\": \"m probability\", \"type\": \"quantitative\"}, {\"field\": \"u_probability\", \"format\": \".4p\", \"title\": \"u probability\", \"type\": \"quantitative\"}, {\"field\": \"bayes_factor\", \"format\": \",.4f\", \"title\": \"Bayes factor = m/u\", \"type\": \"quantitative\"}, {\"field\": \"log2_bayes_factor\", \"format\": \",.4f\", \"title\": \"Match weight = log2(m/u)\", \"type\": \"quantitative\"}], \"x\": {\"axis\": {\"title\": \"Proportion of record comparisons\"}, \"field\": \"u_probability\", \"type\": \"quantitative\"}, \"y\": {\"axis\": {\"title\": null}, \"field\": \"label_for_charts\", \"sort\": {\"field\": \"comparison_vector_value\", \"order\": \"descending\"}, \"type\": \"nominal\"}}, \"height\": {\"step\": 12}, \"resolve\": {\"scale\": {\"y\": \"independent\"}}, \"title\": {\"text\": \"Amongst non-matching record comparisons:\", \"fontSize\": 12, \"fontWeight\": \"bold\"}, \"transform\": [{\"filter\": \"(datum.bayes_factor != 'no-op filter2 due to vega lite issue 4680')\"}], \"width\": 150}], \"data\": {\"name\": \"data-9e1e1e42788880854e483a9de8aebc98\"}, \"title\": {\"text\": \"Proportion of record comparisons in each comparison level by match status\", \"subtitle\": \"(m and u probabilities)\"}, \"$schema\": \"https://vega.github.io/schema/vega-lite/v5.9.3.json\", \"datasets\": {\"data-9e1e1e42788880854e483a9de8aebc98\": [{\"comparison_name\": \"first_name_15\", \"sql_condition\": \"\\\"first_name_15_l\\\" = \\\"first_name_15_r\\\"\", \"label_for_charts\": \"Exact match\", \"m_probability\": 0.95, \"u_probability\": 0.0020297990270034772, \"m_probability_description\": \"Amongst matching record comparisons, 95.00% of records are in the exact match comparison level\", \"u_probability_description\": \"Amongst non-matching record comparisons, 0.20% of records are in the exact match comparison level\", \"has_tf_adjustments\": false, \"tf_adjustment_column\": null, \"tf_adjustment_weight\": 1.0, \"is_null_level\": false, \"bayes_factor\": 468.02663089382423, \"log2_bayes_factor\": 8.870446811817102, \"comparison_vector_value\": 2, \"max_comparison_vector_value\": 2, \"bayes_factor_description\": \"If comparison level is `exact match` then comparison is 468.03 times more likely to be a match\", \"probability_two_random_records_match\": 1.4115990816180642e-05, \"comparison_sort_order\": 0}, {\"comparison_name\": \"first_name_15\", \"sql_condition\": \"jaro_winkler_similarity(\\\"first_name_15_l\\\", \\\"first_name_15_r\\\") >= 0.8333333333333334\", \"label_for_charts\": \"Jaro_winkler_similarity >= 0.8333333333333334\", \"m_probability\": 0.025000000000000022, \"u_probability\": 0.0034682162537213487, \"m_probability_description\": \"Amongst matching record comparisons, 2.50% of records are in the jaro_winkler_similarity >= 0.8333333333333334 comparison level\", \"u_probability_description\": \"Amongst non-matching record comparisons, 0.35% of records are in the jaro_winkler_similarity >= 0.8333333333333334 comparison level\", \"has_tf_adjustments\": false, \"tf_adjustment_column\": null, \"tf_adjustment_weight\": 1.0, \"is_null_level\": false, \"bayes_factor\": 7.208316371038099, \"log2_bayes_factor\": 2.8496623320326075, \"comparison_vector_value\": 1, \"max_comparison_vector_value\": 2, \"bayes_factor_description\": \"If comparison level is `jaro_winkler_similarity >= 0.8333333333333334` then comparison is 7.21 times more likely to be a match\", \"probability_two_random_records_match\": 1.4115990816180642e-05, \"comparison_sort_order\": 0}, {\"comparison_name\": \"first_name_15\", \"sql_condition\": \"ELSE\", \"label_for_charts\": \"All other comparisons\", \"m_probability\": 0.025000000000000022, \"u_probability\": 0.9945019847192752, \"m_probability_description\": \"Amongst matching record comparisons, 2.50% of records are in the all other comparisons comparison level\", \"u_probability_description\": \"Amongst non-matching record comparisons, 99.45% of records are in the all other comparisons comparison level\", \"has_tf_adjustments\": false, \"tf_adjustment_column\": null, \"tf_adjustment_weight\": 1.0, \"is_null_level\": false, \"bayes_factor\": 0.02513821026416246, \"log2_bayes_factor\": -5.313974250236292, \"comparison_vector_value\": 0, \"max_comparison_vector_value\": 2, \"bayes_factor_description\": \"If comparison level is `all other comparisons` then comparison is  39.78 times less likely to be a match\", \"probability_two_random_records_match\": 1.4115990816180642e-05, \"comparison_sort_order\": 0}, {\"comparison_name\": \"last_name_12\", \"sql_condition\": \"\\\"last_name_12_l\\\" = \\\"last_name_12_r\\\"\", \"label_for_charts\": \"Exact match\", \"m_probability\": 0.95, \"u_probability\": 0.0006842173986881611, \"m_probability_description\": \"Amongst matching record comparisons, 95.00% of records are in the exact match comparison level\", \"u_probability_description\": \"Amongst non-matching record comparisons, 0.07% of records are in the exact match comparison level\", \"has_tf_adjustments\": false, \"tf_adjustment_column\": null, \"tf_adjustment_weight\": 1.0, \"is_null_level\": false, \"bayes_factor\": 1388.4475925654908, \"log2_bayes_factor\": 10.439257007823327, \"comparison_vector_value\": 2, \"max_comparison_vector_value\": 2, \"bayes_factor_description\": \"If comparison level is `exact match` then comparison is 1,388.45 times more likely to be a match\", \"probability_two_random_records_match\": 1.4115990816180642e-05, \"comparison_sort_order\": 1}, {\"comparison_name\": \"last_name_12\", \"sql_condition\": \"jaro_winkler_similarity(\\\"last_name_12_l\\\", \\\"last_name_12_r\\\") >= 0.8333333333333334\", \"label_for_charts\": \"Jaro_winkler_similarity >= 0.8333333333333334\", \"m_probability\": 0.025000000000000022, \"u_probability\": 0.0013675335890361796, \"m_probability_description\": \"Amongst matching record comparisons, 2.50% of records are in the jaro_winkler_similarity >= 0.8333333333333334 comparison level\", \"u_probability_description\": \"Amongst non-matching record comparisons, 0.14% of records are in the jaro_winkler_similarity >= 0.8333333333333334 comparison level\", \"has_tf_adjustments\": false, \"tf_adjustment_column\": null, \"tf_adjustment_weight\": 1.0, \"is_null_level\": false, \"bayes_factor\": 18.28108662224502, \"log2_bayes_factor\": 4.192279921187751, \"comparison_vector_value\": 1, \"max_comparison_vector_value\": 2, \"bayes_factor_description\": \"If comparison level is `jaro_winkler_similarity >= 0.8333333333333334` then comparison is 18.28 times more likely to be a match\", \"probability_two_random_records_match\": 1.4115990816180642e-05, \"comparison_sort_order\": 1}, {\"comparison_name\": \"last_name_12\", \"sql_condition\": \"ELSE\", \"label_for_charts\": \"All other comparisons\", \"m_probability\": 0.025000000000000022, \"u_probability\": 0.9979482490122756, \"m_probability_description\": \"Amongst matching record comparisons, 2.50% of records are in the all other comparisons comparison level\", \"u_probability_description\": \"Amongst non-matching record comparisons, 99.79% of records are in the all other comparisons comparison level\", \"has_tf_adjustments\": false, \"tf_adjustment_column\": null, \"tf_adjustment_weight\": 1.0, \"is_null_level\": false, \"bayes_factor\": 0.025051399233120455, \"log2_bayes_factor\": -5.318965003108449, \"comparison_vector_value\": 0, \"max_comparison_vector_value\": 2, \"bayes_factor_description\": \"If comparison level is `all other comparisons` then comparison is  39.92 times less likely to be a match\", \"probability_two_random_records_match\": 1.4115990816180642e-05, \"comparison_sort_order\": 1}, {\"comparison_name\": \"middle_initial\", \"sql_condition\": \"\\\"middle_initial_l\\\" = \\\"middle_initial_r\\\"\", \"label_for_charts\": \"Exact match\", \"m_probability\": 0.95, \"u_probability\": 0.07300510353598076, \"m_probability_description\": \"Amongst matching record comparisons, 95.00% of records are in the exact match comparison level\", \"u_probability_description\": \"Amongst non-matching record comparisons, 7.30% of records are in the exact match comparison level\", \"has_tf_adjustments\": false, \"tf_adjustment_column\": null, \"tf_adjustment_weight\": 1.0, \"is_null_level\": false, \"bayes_factor\": 13.01278888717403, \"log2_bayes_factor\": 3.701858286958994, \"comparison_vector_value\": 1, \"max_comparison_vector_value\": 1, \"bayes_factor_description\": \"If comparison level is `exact match` then comparison is 13.01 times more likely to be a match\", \"probability_two_random_records_match\": 1.4115990816180642e-05, \"comparison_sort_order\": 2}, {\"comparison_name\": \"middle_initial\", \"sql_condition\": \"ELSE\", \"label_for_charts\": \"All other comparisons\", \"m_probability\": 0.050000000000000044, \"u_probability\": 0.9269948964640192, \"m_probability_description\": \"Amongst matching record comparisons, 5.00% of records are in the all other comparisons comparison level\", \"u_probability_description\": \"Amongst non-matching record comparisons, 92.70% of records are in the all other comparisons comparison level\", \"has_tf_adjustments\": false, \"tf_adjustment_column\": null, \"tf_adjustment_weight\": 1.0, \"is_null_level\": false, \"bayes_factor\": 0.05393772952874155, \"log2_bayes_factor\": -4.2125613961686925, \"comparison_vector_value\": 0, \"max_comparison_vector_value\": 1, \"bayes_factor_description\": \"If comparison level is `all other comparisons` then comparison is  18.54 times less likely to be a match\", \"probability_two_random_records_match\": 1.4115990816180642e-05, \"comparison_sort_order\": 2}, {\"comparison_name\": \"day_of_birth\", \"sql_condition\": \"\\\"day_of_birth_l\\\" = \\\"day_of_birth_r\\\"\", \"label_for_charts\": \"Exact match\", \"m_probability\": 0.95, \"u_probability\": 0.03251748092886318, \"m_probability_description\": \"Amongst matching record comparisons, 95.00% of records are in the exact match comparison level\", \"u_probability_description\": \"Amongst non-matching record comparisons, 3.25% of records are in the exact match comparison level\", \"has_tf_adjustments\": false, \"tf_adjustment_column\": null, \"tf_adjustment_weight\": 1.0, \"is_null_level\": false, \"bayes_factor\": 29.21505519072237, \"log2_bayes_factor\": 4.868640109595823, \"comparison_vector_value\": 2, \"max_comparison_vector_value\": 2, \"bayes_factor_description\": \"If comparison level is `exact match` then comparison is 29.22 times more likely to be a match\", \"probability_two_random_records_match\": 1.4115990816180642e-05, \"comparison_sort_order\": 3}, {\"comparison_name\": \"day_of_birth\", \"sql_condition\": \"abs(day_of_birth_l - day_of_birth_r) <= 5\", \"label_for_charts\": \"Inexact match\", \"m_probability\": 0.025000000000000022, \"u_probability\": 0.29545734380750305, \"m_probability_description\": \"Amongst matching record comparisons, 2.50% of records are in the inexact match comparison level\", \"u_probability_description\": \"Amongst non-matching record comparisons, 29.55% of records are in the inexact match comparison level\", \"has_tf_adjustments\": false, \"tf_adjustment_column\": null, \"tf_adjustment_weight\": 1.0, \"is_null_level\": false, \"bayes_factor\": 0.0846145832011814, \"log2_bayes_factor\": -3.5629498585939174, \"comparison_vector_value\": 1, \"max_comparison_vector_value\": 2, \"bayes_factor_description\": \"If comparison level is `inexact match` then comparison is  11.82 times less likely to be a match\", \"probability_two_random_records_match\": 1.4115990816180642e-05, \"comparison_sort_order\": 3}, {\"comparison_name\": \"day_of_birth\", \"sql_condition\": \"ELSE\", \"label_for_charts\": \"All other comparisons\", \"m_probability\": 0.025000000000000022, \"u_probability\": 0.6720251752636338, \"m_probability_description\": \"Amongst matching record comparisons, 2.50% of records are in the all other comparisons comparison level\", \"u_probability_description\": \"Amongst non-matching record comparisons, 67.20% of records are in the all other comparisons comparison level\", \"has_tf_adjustments\": false, \"tf_adjustment_column\": null, \"tf_adjustment_weight\": 1.0, \"is_null_level\": false, \"bayes_factor\": 0.037200987284728704, \"log2_bayes_factor\": -4.748515279949985, \"comparison_vector_value\": 0, \"max_comparison_vector_value\": 2, \"bayes_factor_description\": \"If comparison level is `all other comparisons` then comparison is  26.88 times less likely to be a match\", \"probability_two_random_records_match\": 1.4115990816180642e-05, \"comparison_sort_order\": 3}, {\"comparison_name\": \"month_of_birth\", \"sql_condition\": \"\\\"month_of_birth_l\\\" = \\\"month_of_birth_r\\\"\", \"label_for_charts\": \"Exact match\", \"m_probability\": 0.95, \"u_probability\": 0.08324454672258141, \"m_probability_description\": \"Amongst matching record comparisons, 95.00% of records are in the exact match comparison level\", \"u_probability_description\": \"Amongst non-matching record comparisons, 8.32% of records are in the exact match comparison level\", \"has_tf_adjustments\": false, \"tf_adjustment_column\": null, \"tf_adjustment_weight\": 1.0, \"is_null_level\": false, \"bayes_factor\": 11.41215896298823, \"log2_bayes_factor\": 3.5124998427413607, \"comparison_vector_value\": 2, \"max_comparison_vector_value\": 2, \"bayes_factor_description\": \"If comparison level is `exact match` then comparison is 11.41 times more likely to be a match\", \"probability_two_random_records_match\": 1.4115990816180642e-05, \"comparison_sort_order\": 4}, {\"comparison_name\": \"month_of_birth\", \"sql_condition\": \"abs(month_of_birth_l - month_of_birth_r) <= 3\", \"label_for_charts\": \"Inexact match\", \"m_probability\": 0.025000000000000022, \"u_probability\": 0.41693832719210167, \"m_probability_description\": \"Amongst matching record comparisons, 2.50% of records are in the inexact match comparison level\", \"u_probability_description\": \"Amongst non-matching record comparisons, 41.69% of records are in the inexact match comparison level\", \"has_tf_adjustments\": false, \"tf_adjustment_column\": null, \"tf_adjustment_weight\": 1.0, \"is_null_level\": false, \"bayes_factor\": 0.05996090637280614, \"log2_bayes_factor\": -4.059833998455771, \"comparison_vector_value\": 1, \"max_comparison_vector_value\": 2, \"bayes_factor_description\": \"If comparison level is `inexact match` then comparison is  16.68 times less likely to be a match\", \"probability_two_random_records_match\": 1.4115990816180642e-05, \"comparison_sort_order\": 4}, {\"comparison_name\": \"month_of_birth\", \"sql_condition\": \"ELSE\", \"label_for_charts\": \"All other comparisons\", \"m_probability\": 0.025000000000000022, \"u_probability\": 0.4998171260853169, \"m_probability_description\": \"Amongst matching record comparisons, 2.50% of records are in the all other comparisons comparison level\", \"u_probability_description\": \"Amongst non-matching record comparisons, 49.98% of records are in the all other comparisons comparison level\", \"has_tf_adjustments\": false, \"tf_adjustment_column\": null, \"tf_adjustment_weight\": 1.0, \"is_null_level\": false, \"bayes_factor\": 0.05001829408248931, \"log2_bayes_factor\": -4.321400335788462, \"comparison_vector_value\": 0, \"max_comparison_vector_value\": 2, \"bayes_factor_description\": \"If comparison level is `all other comparisons` then comparison is  19.99 times less likely to be a match\", \"probability_two_random_records_match\": 1.4115990816180642e-05, \"comparison_sort_order\": 4}, {\"comparison_name\": \"year_of_birth\", \"sql_condition\": \"\\\"year_of_birth_l\\\" = \\\"year_of_birth_r\\\"\", \"label_for_charts\": \"Exact match\", \"m_probability\": 0.95, \"u_probability\": 0.011085112473136845, \"m_probability_description\": \"Amongst matching record comparisons, 95.00% of records are in the exact match comparison level\", \"u_probability_description\": \"Amongst non-matching record comparisons, 1.11% of records are in the exact match comparison level\", \"has_tf_adjustments\": false, \"tf_adjustment_column\": null, \"tf_adjustment_weight\": 1.0, \"is_null_level\": false, \"bayes_factor\": 85.70052873186326, \"log2_bayes_factor\": 6.421232200000913, \"comparison_vector_value\": 2, \"max_comparison_vector_value\": 2, \"bayes_factor_description\": \"If comparison level is `exact match` then comparison is 85.70 times more likely to be a match\", \"probability_two_random_records_match\": 1.4115990816180642e-05, \"comparison_sort_order\": 5}, {\"comparison_name\": \"year_of_birth\", \"sql_condition\": \"abs(year_of_birth_l - year_of_birth_r) <= 5\", \"label_for_charts\": \"Inexact match\", \"m_probability\": 0.025000000000000022, \"u_probability\": 0.10968379850702191, \"m_probability_description\": \"Amongst matching record comparisons, 2.50% of records are in the inexact match comparison level\", \"u_probability_description\": \"Amongst non-matching record comparisons, 10.97% of records are in the inexact match comparison level\", \"has_tf_adjustments\": false, \"tf_adjustment_column\": null, \"tf_adjustment_weight\": 1.0, \"is_null_level\": false, \"bayes_factor\": 0.22792791953133837, \"log2_bayes_factor\": -2.133350439690302, \"comparison_vector_value\": 1, \"max_comparison_vector_value\": 2, \"bayes_factor_description\": \"If comparison level is `inexact match` then comparison is  4.39 times less likely to be a match\", \"probability_two_random_records_match\": 1.4115990816180642e-05, \"comparison_sort_order\": 5}, {\"comparison_name\": \"year_of_birth\", \"sql_condition\": \"ELSE\", \"label_for_charts\": \"All other comparisons\", \"m_probability\": 0.025000000000000022, \"u_probability\": 0.8792310890198413, \"m_probability_description\": \"Amongst matching record comparisons, 2.50% of records are in the all other comparisons comparison level\", \"u_probability_description\": \"Amongst non-matching record comparisons, 87.92% of records are in the all other comparisons comparison level\", \"has_tf_adjustments\": false, \"tf_adjustment_column\": null, \"tf_adjustment_weight\": 1.0, \"is_null_level\": false, \"bayes_factor\": 0.028433935414942837, \"log2_bayes_factor\": -5.136242399915184, \"comparison_vector_value\": 0, \"max_comparison_vector_value\": 2, \"bayes_factor_description\": \"If comparison level is `all other comparisons` then comparison is  35.17 times less likely to be a match\", \"probability_two_random_records_match\": 1.4115990816180642e-05, \"comparison_sort_order\": 5}, {\"comparison_name\": \"geokey\", \"sql_condition\": \"\\\"geokey_l\\\" = \\\"geokey_r\\\"\", \"label_for_charts\": \"Exact match\", \"m_probability\": 0.95, \"u_probability\": 0.0024275211541129145, \"m_probability_description\": \"Amongst matching record comparisons, 95.00% of records are in the exact match comparison level\", \"u_probability_description\": \"Amongst non-matching record comparisons, 0.24% of records are in the exact match comparison level\", \"has_tf_adjustments\": false, \"tf_adjustment_column\": null, \"tf_adjustment_weight\": 1.0, \"is_null_level\": false, \"bayes_factor\": 391.3457142857143, \"log2_bayes_factor\": 8.612299835462279, \"comparison_vector_value\": 2, \"max_comparison_vector_value\": 2, \"bayes_factor_description\": \"If comparison level is `exact match` then comparison is 391.35 times more likely to be a match\", \"probability_two_random_records_match\": 1.4115990816180642e-05, \"comparison_sort_order\": 6}, {\"comparison_name\": \"geokey\", \"sql_condition\": \"jaro_winkler_similarity(\\\"geokey_l\\\", \\\"geokey_r\\\") >= 0.7222222222222222\", \"label_for_charts\": \"Jaro_winkler_similarity >= 0.7222222222222222\", \"m_probability\": 0.025000000000000022, \"u_probability\": 0.2569010958524067, \"m_probability_description\": \"Amongst matching record comparisons, 2.50% of records are in the jaro_winkler_similarity >= 0.7222222222222222 comparison level\", \"u_probability_description\": \"Amongst non-matching record comparisons, 25.69% of records are in the jaro_winkler_similarity >= 0.7222222222222222 comparison level\", \"has_tf_adjustments\": false, \"tf_adjustment_column\": null, \"tf_adjustment_weight\": 1.0, \"is_null_level\": false, \"bayes_factor\": 0.09731371490280785, \"log2_bayes_factor\": -3.361213044296575, \"comparison_vector_value\": 1, \"max_comparison_vector_value\": 2, \"bayes_factor_description\": \"If comparison level is `jaro_winkler_similarity >= 0.7222222222222222` then comparison is  10.28 times less likely to be a match\", \"probability_two_random_records_match\": 1.4115990816180642e-05, \"comparison_sort_order\": 6}, {\"comparison_name\": \"geokey\", \"sql_condition\": \"ELSE\", \"label_for_charts\": \"All other comparisons\", \"m_probability\": 0.025000000000000022, \"u_probability\": 0.7406713829934803, \"m_probability_description\": \"Amongst matching record comparisons, 2.50% of records are in the all other comparisons comparison level\", \"u_probability_description\": \"Amongst non-matching record comparisons, 74.07% of records are in the all other comparisons comparison level\", \"has_tf_adjustments\": false, \"tf_adjustment_column\": null, \"tf_adjustment_weight\": 1.0, \"is_null_level\": false, \"bayes_factor\": 0.03375316040827796, \"log2_bayes_factor\": -4.888833597481385, \"comparison_vector_value\": 0, \"max_comparison_vector_value\": 2, \"bayes_factor_description\": \"If comparison level is `all other comparisons` then comparison is  29.63 times less likely to be a match\", \"probability_two_random_records_match\": 1.4115990816180642e-05, \"comparison_sort_order\": 6}]}}, {\"mode\": \"vega-lite\"});\n",
       "</script>"
      ],
      "text/plain": [
       "alt.HConcatChart(...)"
      ]
     },
     "execution_count": 55,
     "metadata": {},
     "output_type": "execute_result"
    }
   ],
   "source": [
    "# Ignore the green bars on the left, these are the m probabilities that haven't been estimated yet\n",
    "linker.m_u_parameters_chart()"
   ]
  },
  {
   "cell_type": "markdown",
   "id": "2f66f6a2-28de-41a1-8c99-e8bda2dfb3e4",
   "metadata": {
    "papermill": {
     "duration": 0.021698,
     "end_time": "2024-05-16T17:21:06.604465",
     "exception": false,
     "start_time": "2024-05-16T17:21:06.582767",
     "status": "completed"
    },
    "tags": []
   },
   "source": [
    "#### Estimate m probabilities\n",
    "\n",
    "The EM algorithm implemented in Splink can be used to estimate all the parameters at once.\n",
    "However, I've found this to be extremely unstable, and the lambda and u estimates I've made\n",
    "above much better than what happens when I allow EM to mess with them.\n",
    "\n",
    "These EM session blocking rules are the result of **lots** of trial and error.\n",
    "I consistently had problems with the EM algorithm deciding that first names\n",
    "were completely wrong (\"All other comparisons\") almost as often as they were\n",
    "right.\n",
    "I can think of two reasons this might be happening:\n",
    "- The EM algorithm is just looking for two coherent clusters, and the assumption is that these\n",
    "  clusters correspond to matches and non-matches.\n",
    "  But in real life, and in our simulated data, matches and non-matches are not homogenous.\n",
    "  In particular, people who are in the same family live together and tend to share a last name,\n",
    "  and this could have been the cluster EM was finding instead of finding the exact same person.\n",
    "- Conditional independence is grossly violated by some of our columns, especially the address parts\n",
    "  and the DOB parts. This could be causing some pathological behavior.\n",
    "\n",
    "Using the EM approach below, I have at least obtained reasonable-looking m and u probabilities."
   ]
  },
  {
   "cell_type": "code",
   "execution_count": 56,
   "id": "d117b633-fc81-4fe6-ba1d-2d9d5a6e1b32",
   "metadata": {
    "execution": {
     "iopub.execute_input": "2024-05-16T17:21:06.652703Z",
     "iopub.status.busy": "2024-05-16T17:21:06.651351Z",
     "iopub.status.idle": "2024-05-16T17:21:09.388326Z",
     "shell.execute_reply": "2024-05-16T17:21:09.386883Z"
    },
    "papermill": {
     "duration": 2.762879,
     "end_time": "2024-05-16T17:21:09.390184",
     "exception": false,
     "start_time": "2024-05-16T17:21:06.627305",
     "status": "completed"
    },
    "tags": []
   },
   "outputs": [
    {
     "name": "stderr",
     "output_type": "stream",
     "text": [
      "\n",
      "----- Starting EM training session -----\n",
      "\n"
     ]
    },
    {
     "name": "stderr",
     "output_type": "stream",
     "text": [
      "Estimating the m probabilities of the model by blocking on:\n",
      "l.first_name_15 = r.first_name_15 and l.zipcode = r.zipcode\n",
      "\n",
      "Parameter estimates will be made for the following comparison(s):\n",
      "    - last_name_12\n",
      "    - middle_initial\n",
      "    - day_of_birth\n",
      "    - month_of_birth\n",
      "    - year_of_birth\n",
      "    - geokey\n",
      "\n",
      "Parameter estimates cannot be made for the following comparison(s) since they are used in the blocking rules: \n",
      "    - first_name_15\n"
     ]
    },
    {
     "name": "stderr",
     "output_type": "stream",
     "text": [
      "\n"
     ]
    },
    {
     "name": "stderr",
     "output_type": "stream",
     "text": [
      "Iteration 1: Largest change in params was 0.349 in the m_probability of geokey, level `Jaro_winkler_similarity >= 0.7222222222222222`\n"
     ]
    },
    {
     "name": "stderr",
     "output_type": "stream",
     "text": [
      "Iteration 2: Largest change in params was 0.0111 in the m_probability of geokey, level `Jaro_winkler_similarity >= 0.7222222222222222`\n"
     ]
    },
    {
     "name": "stderr",
     "output_type": "stream",
     "text": [
      "Iteration 3: Largest change in params was 0.000721 in the m_probability of day_of_birth, level `Exact match`\n"
     ]
    },
    {
     "name": "stderr",
     "output_type": "stream",
     "text": [
      "Iteration 4: Largest change in params was 0.000208 in the m_probability of day_of_birth, level `Exact match`\n"
     ]
    },
    {
     "name": "stderr",
     "output_type": "stream",
     "text": [
      "Iteration 5: Largest change in params was 6.36e-05 in the m_probability of day_of_birth, level `Exact match`\n"
     ]
    },
    {
     "name": "stderr",
     "output_type": "stream",
     "text": [
      "\n",
      "EM converged after 5 iterations\n"
     ]
    },
    {
     "name": "stderr",
     "output_type": "stream",
     "text": [
      "\n",
      "Your model is not yet fully trained. Missing estimates for:\n",
      "    - first_name_15 (no m values are trained).\n"
     ]
    }
   ],
   "source": [
    "blocking_rule_for_training = \"l.first_name_15 = r.first_name_15 and l.zipcode = r.zipcode\"\n",
    "em_session_1 = linker.estimate_parameters_using_expectation_maximisation(\n",
    "    blocking_rule_for_training,\n",
    "    # Fix lambda; u is fixed by default\n",
    "    fix_probability_two_random_records_match=True,\n",
    ")"
   ]
  },
  {
   "cell_type": "code",
   "execution_count": 57,
   "id": "7cc3f56f-eb87-4673-bcc4-fe2269e54db3",
   "metadata": {
    "execution": {
     "iopub.execute_input": "2024-05-16T17:21:09.440159Z",
     "iopub.status.busy": "2024-05-16T17:21:09.439394Z",
     "iopub.status.idle": "2024-05-16T17:21:09.652896Z",
     "shell.execute_reply": "2024-05-16T17:21:09.651454Z"
    },
    "papermill": {
     "duration": 0.243107,
     "end_time": "2024-05-16T17:21:09.658562",
     "exception": false,
     "start_time": "2024-05-16T17:21:09.415455",
     "status": "completed"
    },
    "tags": []
   },
   "outputs": [
    {
     "data": {
      "text/html": [
       "\n",
       "<style>\n",
       "  #altair-viz-21301b559397463987295635f1700808.vega-embed {\n",
       "    width: 100%;\n",
       "    display: flex;\n",
       "  }\n",
       "\n",
       "  #altair-viz-21301b559397463987295635f1700808.vega-embed details,\n",
       "  #altair-viz-21301b559397463987295635f1700808.vega-embed details summary {\n",
       "    position: relative;\n",
       "  }\n",
       "</style>\n",
       "<div id=\"altair-viz-21301b559397463987295635f1700808\"></div>\n",
       "<script type=\"text/javascript\">\n",
       "  var VEGA_DEBUG = (typeof VEGA_DEBUG == \"undefined\") ? {} : VEGA_DEBUG;\n",
       "  (function(spec, embedOpt){\n",
       "    let outputDiv = document.currentScript.previousElementSibling;\n",
       "    if (outputDiv.id !== \"altair-viz-21301b559397463987295635f1700808\") {\n",
       "      outputDiv = document.getElementById(\"altair-viz-21301b559397463987295635f1700808\");\n",
       "    }\n",
       "    const paths = {\n",
       "      \"vega\": \"https://cdn.jsdelivr.net/npm/vega@5?noext\",\n",
       "      \"vega-lib\": \"https://cdn.jsdelivr.net/npm/vega-lib?noext\",\n",
       "      \"vega-lite\": \"https://cdn.jsdelivr.net/npm/vega-lite@5.17.0?noext\",\n",
       "      \"vega-embed\": \"https://cdn.jsdelivr.net/npm/vega-embed@6?noext\",\n",
       "    };\n",
       "\n",
       "    function maybeLoadScript(lib, version) {\n",
       "      var key = `${lib.replace(\"-\", \"\")}_version`;\n",
       "      return (VEGA_DEBUG[key] == version) ?\n",
       "        Promise.resolve(paths[lib]) :\n",
       "        new Promise(function(resolve, reject) {\n",
       "          var s = document.createElement('script');\n",
       "          document.getElementsByTagName(\"head\")[0].appendChild(s);\n",
       "          s.async = true;\n",
       "          s.onload = () => {\n",
       "            VEGA_DEBUG[key] = version;\n",
       "            return resolve(paths[lib]);\n",
       "          };\n",
       "          s.onerror = () => reject(`Error loading script: ${paths[lib]}`);\n",
       "          s.src = paths[lib];\n",
       "        });\n",
       "    }\n",
       "\n",
       "    function showError(err) {\n",
       "      outputDiv.innerHTML = `<div class=\"error\" style=\"color:red;\">${err}</div>`;\n",
       "      throw err;\n",
       "    }\n",
       "\n",
       "    function displayChart(vegaEmbed) {\n",
       "      vegaEmbed(outputDiv, spec, embedOpt)\n",
       "        .catch(err => showError(`Javascript Error: ${err.message}<br>This usually means there's a typo in your chart specification. See the javascript console for the full traceback.`));\n",
       "    }\n",
       "\n",
       "    if(typeof define === \"function\" && define.amd) {\n",
       "      requirejs.config({paths});\n",
       "      require([\"vega-embed\"], displayChart, err => showError(`Error loading script: ${err.message}`));\n",
       "    } else {\n",
       "      maybeLoadScript(\"vega\", \"5\")\n",
       "        .then(() => maybeLoadScript(\"vega-lite\", \"5.17.0\"))\n",
       "        .then(() => maybeLoadScript(\"vega-embed\", \"6\"))\n",
       "        .catch(showError)\n",
       "        .then(() => displayChart(vegaEmbed));\n",
       "    }\n",
       "  })({\"config\": {\"view\": {\"continuousWidth\": 300, \"continuousHeight\": 300, \"discreteHeight\": 300, \"discreteWidth\": 400}, \"header\": {\"title\": null}, \"title\": {\"anchor\": \"middle\", \"offset\": 10}}, \"hconcat\": [{\"mark\": \"bar\", \"encoding\": {\"color\": {\"value\": \"green\"}, \"row\": {\"field\": \"comparison_name\", \"header\": {\"labelAlign\": \"left\", \"labelAnchor\": \"middle\", \"labelAngle\": 0}, \"sort\": {\"field\": \"comparison_sort_order\"}, \"type\": \"nominal\"}, \"tooltip\": [{\"field\": \"m_probability_description\", \"title\": \"m probability description\", \"type\": \"nominal\"}, {\"field\": \"comparison_name\", \"title\": \"Comparison column name\", \"type\": \"nominal\"}, {\"field\": \"label_for_charts\", \"title\": \"Label\", \"type\": \"ordinal\"}, {\"field\": \"sql_condition\", \"title\": \"SQL condition\", \"type\": \"nominal\"}, {\"field\": \"m_probability\", \"format\": \".4p\", \"title\": \"m probability\", \"type\": \"quantitative\"}, {\"field\": \"u_probability\", \"format\": \".4p\", \"title\": \"u probability\", \"type\": \"quantitative\"}, {\"field\": \"bayes_factor\", \"format\": \",.4f\", \"title\": \"Bayes factor = m/u\", \"type\": \"quantitative\"}, {\"field\": \"log2_bayes_factor\", \"format\": \",.4f\", \"title\": \"Match weight = log2(m/u)\", \"type\": \"quantitative\"}], \"x\": {\"axis\": {\"title\": \"Proportion of record comparisons\"}, \"field\": \"m_probability\", \"type\": \"quantitative\"}, \"y\": {\"axis\": {\"title\": null}, \"field\": \"label_for_charts\", \"sort\": {\"field\": \"comparison_vector_value\", \"order\": \"descending\"}, \"type\": \"nominal\"}}, \"height\": {\"step\": 12}, \"resolve\": {\"scale\": {\"y\": \"independent\"}}, \"title\": {\"text\": \"Amongst matching record comparisons:\", \"fontSize\": 12, \"fontWeight\": \"bold\"}, \"transform\": [{\"filter\": \"(datum.bayes_factor != 'no-op filter due to vega lite issue 4680')\"}], \"width\": 150}, {\"mark\": \"bar\", \"encoding\": {\"color\": {\"value\": \"red\"}, \"row\": {\"field\": \"comparison_name\", \"header\": {\"labels\": false}, \"sort\": {\"field\": \"comparison_sort_order\"}, \"type\": \"nominal\"}, \"tooltip\": [{\"field\": \"u_probability_description\", \"title\": \"u probability description\", \"type\": \"nominal\"}, {\"field\": \"comparison_name\", \"title\": \"Comparison column name\", \"type\": \"nominal\"}, {\"field\": \"label_for_charts\", \"title\": \"Label\", \"type\": \"ordinal\"}, {\"field\": \"sql_condition\", \"title\": \"SQL condition\", \"type\": \"nominal\"}, {\"field\": \"m_probability\", \"format\": \".4p\", \"title\": \"m probability\", \"type\": \"quantitative\"}, {\"field\": \"u_probability\", \"format\": \".4p\", \"title\": \"u probability\", \"type\": \"quantitative\"}, {\"field\": \"bayes_factor\", \"format\": \",.4f\", \"title\": \"Bayes factor = m/u\", \"type\": \"quantitative\"}, {\"field\": \"log2_bayes_factor\", \"format\": \",.4f\", \"title\": \"Match weight = log2(m/u)\", \"type\": \"quantitative\"}], \"x\": {\"axis\": {\"title\": \"Proportion of record comparisons\"}, \"field\": \"u_probability\", \"type\": \"quantitative\"}, \"y\": {\"axis\": {\"title\": null}, \"field\": \"label_for_charts\", \"sort\": {\"field\": \"comparison_vector_value\", \"order\": \"descending\"}, \"type\": \"nominal\"}}, \"height\": {\"step\": 12}, \"resolve\": {\"scale\": {\"y\": \"independent\"}}, \"title\": {\"text\": \"Amongst non-matching record comparisons:\", \"fontSize\": 12, \"fontWeight\": \"bold\"}, \"transform\": [{\"filter\": \"(datum.bayes_factor != 'no-op filter2 due to vega lite issue 4680')\"}], \"width\": 150}], \"data\": {\"name\": \"data-ab73b37d2b1728ea37f2540d966569af\"}, \"params\": [{\"name\": \"iteration_number\", \"bind\": {\"input\": \"range\", \"max\": 5, \"min\": 0, \"step\": 1}, \"value\": 5}], \"title\": {\"text\": \"Proportion of record comparisons in each comparison level by match status\", \"subtitle\": \"(m and u probabilities)\"}, \"transform\": [{\"filter\": \"(datum.iteration == iteration_number)\"}], \"$schema\": \"https://vega.github.io/schema/vega-lite/v5.9.3.json\", \"datasets\": {\"data-ab73b37d2b1728ea37f2540d966569af\": [{\"comparison_name\": \"last_name_12\", \"sql_condition\": \"\\\"last_name_12_l\\\" = \\\"last_name_12_r\\\"\", \"label_for_charts\": \"Exact match\", \"m_probability\": 0.95, \"u_probability\": 0.0006842173986881611, \"m_probability_description\": \"Amongst matching record comparisons, 95.00% of records are in the exact match comparison level\", \"u_probability_description\": \"Amongst non-matching record comparisons, 0.07% of records are in the exact match comparison level\", \"has_tf_adjustments\": false, \"tf_adjustment_column\": null, \"tf_adjustment_weight\": 1.0, \"is_null_level\": false, \"bayes_factor\": 1388.4475925654908, \"log2_bayes_factor\": 10.439257007823327, \"comparison_vector_value\": 2, \"max_comparison_vector_value\": 2, \"bayes_factor_description\": \"If comparison level is `exact match` then comparison is 1,388.45 times more likely to be a match\", \"probability_two_random_records_match\": 0.006563390187237986, \"comparison_sort_order\": 0, \"iteration\": 0}, {\"comparison_name\": \"last_name_12\", \"sql_condition\": \"jaro_winkler_similarity(\\\"last_name_12_l\\\", \\\"last_name_12_r\\\") >= 0.8333333333333334\", \"label_for_charts\": \"Jaro_winkler_similarity >= 0.8333333333333334\", \"m_probability\": 0.025000000000000022, \"u_probability\": 0.0013675335890361796, \"m_probability_description\": \"Amongst matching record comparisons, 2.50% of records are in the jaro_winkler_similarity >= 0.8333333333333334 comparison level\", \"u_probability_description\": \"Amongst non-matching record comparisons, 0.14% of records are in the jaro_winkler_similarity >= 0.8333333333333334 comparison level\", \"has_tf_adjustments\": false, \"tf_adjustment_column\": null, \"tf_adjustment_weight\": 1.0, \"is_null_level\": false, \"bayes_factor\": 18.28108662224502, \"log2_bayes_factor\": 4.192279921187751, \"comparison_vector_value\": 1, \"max_comparison_vector_value\": 2, \"bayes_factor_description\": \"If comparison level is `jaro_winkler_similarity >= 0.8333333333333334` then comparison is 18.28 times more likely to be a match\", \"probability_two_random_records_match\": 0.006563390187237986, \"comparison_sort_order\": 0, \"iteration\": 0}, {\"comparison_name\": \"last_name_12\", \"sql_condition\": \"ELSE\", \"label_for_charts\": \"All other comparisons\", \"m_probability\": 0.025000000000000022, \"u_probability\": 0.9979482490122756, \"m_probability_description\": \"Amongst matching record comparisons, 2.50% of records are in the all other comparisons comparison level\", \"u_probability_description\": \"Amongst non-matching record comparisons, 99.79% of records are in the all other comparisons comparison level\", \"has_tf_adjustments\": false, \"tf_adjustment_column\": null, \"tf_adjustment_weight\": 1.0, \"is_null_level\": false, \"bayes_factor\": 0.025051399233120455, \"log2_bayes_factor\": -5.318965003108449, \"comparison_vector_value\": 0, \"max_comparison_vector_value\": 2, \"bayes_factor_description\": \"If comparison level is `all other comparisons` then comparison is  39.92 times less likely to be a match\", \"probability_two_random_records_match\": 0.006563390187237986, \"comparison_sort_order\": 0, \"iteration\": 0}, {\"comparison_name\": \"middle_initial\", \"sql_condition\": \"\\\"middle_initial_l\\\" = \\\"middle_initial_r\\\"\", \"label_for_charts\": \"Exact match\", \"m_probability\": 0.95, \"u_probability\": 0.07300510353598076, \"m_probability_description\": \"Amongst matching record comparisons, 95.00% of records are in the exact match comparison level\", \"u_probability_description\": \"Amongst non-matching record comparisons, 7.30% of records are in the exact match comparison level\", \"has_tf_adjustments\": false, \"tf_adjustment_column\": null, \"tf_adjustment_weight\": 1.0, \"is_null_level\": false, \"bayes_factor\": 13.01278888717403, \"log2_bayes_factor\": 3.701858286958994, \"comparison_vector_value\": 1, \"max_comparison_vector_value\": 1, \"bayes_factor_description\": \"If comparison level is `exact match` then comparison is 13.01 times more likely to be a match\", \"probability_two_random_records_match\": 0.006563390187237986, \"comparison_sort_order\": 1, \"iteration\": 0}, {\"comparison_name\": \"middle_initial\", \"sql_condition\": \"ELSE\", \"label_for_charts\": \"All other comparisons\", \"m_probability\": 0.050000000000000044, \"u_probability\": 0.9269948964640192, \"m_probability_description\": \"Amongst matching record comparisons, 5.00% of records are in the all other comparisons comparison level\", \"u_probability_description\": \"Amongst non-matching record comparisons, 92.70% of records are in the all other comparisons comparison level\", \"has_tf_adjustments\": false, \"tf_adjustment_column\": null, \"tf_adjustment_weight\": 1.0, \"is_null_level\": false, \"bayes_factor\": 0.05393772952874155, \"log2_bayes_factor\": -4.2125613961686925, \"comparison_vector_value\": 0, \"max_comparison_vector_value\": 1, \"bayes_factor_description\": \"If comparison level is `all other comparisons` then comparison is  18.54 times less likely to be a match\", \"probability_two_random_records_match\": 0.006563390187237986, \"comparison_sort_order\": 1, \"iteration\": 0}, {\"comparison_name\": \"day_of_birth\", \"sql_condition\": \"\\\"day_of_birth_l\\\" = \\\"day_of_birth_r\\\"\", \"label_for_charts\": \"Exact match\", \"m_probability\": 0.95, \"u_probability\": 0.03251748092886318, \"m_probability_description\": \"Amongst matching record comparisons, 95.00% of records are in the exact match comparison level\", \"u_probability_description\": \"Amongst non-matching record comparisons, 3.25% of records are in the exact match comparison level\", \"has_tf_adjustments\": false, \"tf_adjustment_column\": null, \"tf_adjustment_weight\": 1.0, \"is_null_level\": false, \"bayes_factor\": 29.21505519072237, \"log2_bayes_factor\": 4.868640109595823, \"comparison_vector_value\": 2, \"max_comparison_vector_value\": 2, \"bayes_factor_description\": \"If comparison level is `exact match` then comparison is 29.22 times more likely to be a match\", \"probability_two_random_records_match\": 0.006563390187237986, \"comparison_sort_order\": 2, \"iteration\": 0}, {\"comparison_name\": \"day_of_birth\", \"sql_condition\": \"abs(day_of_birth_l - day_of_birth_r) <= 5\", \"label_for_charts\": \"Inexact match\", \"m_probability\": 0.025000000000000022, \"u_probability\": 0.29545734380750305, \"m_probability_description\": \"Amongst matching record comparisons, 2.50% of records are in the inexact match comparison level\", \"u_probability_description\": \"Amongst non-matching record comparisons, 29.55% of records are in the inexact match comparison level\", \"has_tf_adjustments\": false, \"tf_adjustment_column\": null, \"tf_adjustment_weight\": 1.0, \"is_null_level\": false, \"bayes_factor\": 0.0846145832011814, \"log2_bayes_factor\": -3.5629498585939174, \"comparison_vector_value\": 1, \"max_comparison_vector_value\": 2, \"bayes_factor_description\": \"If comparison level is `inexact match` then comparison is  11.82 times less likely to be a match\", \"probability_two_random_records_match\": 0.006563390187237986, \"comparison_sort_order\": 2, \"iteration\": 0}, {\"comparison_name\": \"day_of_birth\", \"sql_condition\": \"ELSE\", \"label_for_charts\": \"All other comparisons\", \"m_probability\": 0.025000000000000022, \"u_probability\": 0.6720251752636338, \"m_probability_description\": \"Amongst matching record comparisons, 2.50% of records are in the all other comparisons comparison level\", \"u_probability_description\": \"Amongst non-matching record comparisons, 67.20% of records are in the all other comparisons comparison level\", \"has_tf_adjustments\": false, \"tf_adjustment_column\": null, \"tf_adjustment_weight\": 1.0, \"is_null_level\": false, \"bayes_factor\": 0.037200987284728704, \"log2_bayes_factor\": -4.748515279949985, \"comparison_vector_value\": 0, \"max_comparison_vector_value\": 2, \"bayes_factor_description\": \"If comparison level is `all other comparisons` then comparison is  26.88 times less likely to be a match\", \"probability_two_random_records_match\": 0.006563390187237986, \"comparison_sort_order\": 2, \"iteration\": 0}, {\"comparison_name\": \"month_of_birth\", \"sql_condition\": \"\\\"month_of_birth_l\\\" = \\\"month_of_birth_r\\\"\", \"label_for_charts\": \"Exact match\", \"m_probability\": 0.95, \"u_probability\": 0.08324454672258141, \"m_probability_description\": \"Amongst matching record comparisons, 95.00% of records are in the exact match comparison level\", \"u_probability_description\": \"Amongst non-matching record comparisons, 8.32% of records are in the exact match comparison level\", \"has_tf_adjustments\": false, \"tf_adjustment_column\": null, \"tf_adjustment_weight\": 1.0, \"is_null_level\": false, \"bayes_factor\": 11.41215896298823, \"log2_bayes_factor\": 3.5124998427413607, \"comparison_vector_value\": 2, \"max_comparison_vector_value\": 2, \"bayes_factor_description\": \"If comparison level is `exact match` then comparison is 11.41 times more likely to be a match\", \"probability_two_random_records_match\": 0.006563390187237986, \"comparison_sort_order\": 3, \"iteration\": 0}, {\"comparison_name\": \"month_of_birth\", \"sql_condition\": \"abs(month_of_birth_l - month_of_birth_r) <= 3\", \"label_for_charts\": \"Inexact match\", \"m_probability\": 0.025000000000000022, \"u_probability\": 0.41693832719210167, \"m_probability_description\": \"Amongst matching record comparisons, 2.50% of records are in the inexact match comparison level\", \"u_probability_description\": \"Amongst non-matching record comparisons, 41.69% of records are in the inexact match comparison level\", \"has_tf_adjustments\": false, \"tf_adjustment_column\": null, \"tf_adjustment_weight\": 1.0, \"is_null_level\": false, \"bayes_factor\": 0.05996090637280614, \"log2_bayes_factor\": -4.059833998455771, \"comparison_vector_value\": 1, \"max_comparison_vector_value\": 2, \"bayes_factor_description\": \"If comparison level is `inexact match` then comparison is  16.68 times less likely to be a match\", \"probability_two_random_records_match\": 0.006563390187237986, \"comparison_sort_order\": 3, \"iteration\": 0}, {\"comparison_name\": \"month_of_birth\", \"sql_condition\": \"ELSE\", \"label_for_charts\": \"All other comparisons\", \"m_probability\": 0.025000000000000022, \"u_probability\": 0.4998171260853169, \"m_probability_description\": \"Amongst matching record comparisons, 2.50% of records are in the all other comparisons comparison level\", \"u_probability_description\": \"Amongst non-matching record comparisons, 49.98% of records are in the all other comparisons comparison level\", \"has_tf_adjustments\": false, \"tf_adjustment_column\": null, \"tf_adjustment_weight\": 1.0, \"is_null_level\": false, \"bayes_factor\": 0.05001829408248931, \"log2_bayes_factor\": -4.321400335788462, \"comparison_vector_value\": 0, \"max_comparison_vector_value\": 2, \"bayes_factor_description\": \"If comparison level is `all other comparisons` then comparison is  19.99 times less likely to be a match\", \"probability_two_random_records_match\": 0.006563390187237986, \"comparison_sort_order\": 3, \"iteration\": 0}, {\"comparison_name\": \"year_of_birth\", \"sql_condition\": \"\\\"year_of_birth_l\\\" = \\\"year_of_birth_r\\\"\", \"label_for_charts\": \"Exact match\", \"m_probability\": 0.95, \"u_probability\": 0.011085112473136845, \"m_probability_description\": \"Amongst matching record comparisons, 95.00% of records are in the exact match comparison level\", \"u_probability_description\": \"Amongst non-matching record comparisons, 1.11% of records are in the exact match comparison level\", \"has_tf_adjustments\": false, \"tf_adjustment_column\": null, \"tf_adjustment_weight\": 1.0, \"is_null_level\": false, \"bayes_factor\": 85.70052873186326, \"log2_bayes_factor\": 6.421232200000913, \"comparison_vector_value\": 2, \"max_comparison_vector_value\": 2, \"bayes_factor_description\": \"If comparison level is `exact match` then comparison is 85.70 times more likely to be a match\", \"probability_two_random_records_match\": 0.006563390187237986, \"comparison_sort_order\": 4, \"iteration\": 0}, {\"comparison_name\": \"year_of_birth\", \"sql_condition\": \"abs(year_of_birth_l - year_of_birth_r) <= 5\", \"label_for_charts\": \"Inexact match\", \"m_probability\": 0.025000000000000022, \"u_probability\": 0.10968379850702191, \"m_probability_description\": \"Amongst matching record comparisons, 2.50% of records are in the inexact match comparison level\", \"u_probability_description\": \"Amongst non-matching record comparisons, 10.97% of records are in the inexact match comparison level\", \"has_tf_adjustments\": false, \"tf_adjustment_column\": null, \"tf_adjustment_weight\": 1.0, \"is_null_level\": false, \"bayes_factor\": 0.22792791953133837, \"log2_bayes_factor\": -2.133350439690302, \"comparison_vector_value\": 1, \"max_comparison_vector_value\": 2, \"bayes_factor_description\": \"If comparison level is `inexact match` then comparison is  4.39 times less likely to be a match\", \"probability_two_random_records_match\": 0.006563390187237986, \"comparison_sort_order\": 4, \"iteration\": 0}, {\"comparison_name\": \"year_of_birth\", \"sql_condition\": \"ELSE\", \"label_for_charts\": \"All other comparisons\", \"m_probability\": 0.025000000000000022, \"u_probability\": 0.8792310890198413, \"m_probability_description\": \"Amongst matching record comparisons, 2.50% of records are in the all other comparisons comparison level\", \"u_probability_description\": \"Amongst non-matching record comparisons, 87.92% of records are in the all other comparisons comparison level\", \"has_tf_adjustments\": false, \"tf_adjustment_column\": null, \"tf_adjustment_weight\": 1.0, \"is_null_level\": false, \"bayes_factor\": 0.028433935414942837, \"log2_bayes_factor\": -5.136242399915184, \"comparison_vector_value\": 0, \"max_comparison_vector_value\": 2, \"bayes_factor_description\": \"If comparison level is `all other comparisons` then comparison is  35.17 times less likely to be a match\", \"probability_two_random_records_match\": 0.006563390187237986, \"comparison_sort_order\": 4, \"iteration\": 0}, {\"comparison_name\": \"geokey\", \"sql_condition\": \"\\\"geokey_l\\\" = \\\"geokey_r\\\"\", \"label_for_charts\": \"Exact match\", \"m_probability\": 0.95, \"u_probability\": 0.0024275211541129145, \"m_probability_description\": \"Amongst matching record comparisons, 95.00% of records are in the exact match comparison level\", \"u_probability_description\": \"Amongst non-matching record comparisons, 0.24% of records are in the exact match comparison level\", \"has_tf_adjustments\": false, \"tf_adjustment_column\": null, \"tf_adjustment_weight\": 1.0, \"is_null_level\": false, \"bayes_factor\": 391.3457142857143, \"log2_bayes_factor\": 8.612299835462279, \"comparison_vector_value\": 2, \"max_comparison_vector_value\": 2, \"bayes_factor_description\": \"If comparison level is `exact match` then comparison is 391.35 times more likely to be a match\", \"probability_two_random_records_match\": 0.006563390187237986, \"comparison_sort_order\": 5, \"iteration\": 0}, {\"comparison_name\": \"geokey\", \"sql_condition\": \"jaro_winkler_similarity(\\\"geokey_l\\\", \\\"geokey_r\\\") >= 0.7222222222222222\", \"label_for_charts\": \"Jaro_winkler_similarity >= 0.7222222222222222\", \"m_probability\": 0.025000000000000022, \"u_probability\": 0.2569010958524067, \"m_probability_description\": \"Amongst matching record comparisons, 2.50% of records are in the jaro_winkler_similarity >= 0.7222222222222222 comparison level\", \"u_probability_description\": \"Amongst non-matching record comparisons, 25.69% of records are in the jaro_winkler_similarity >= 0.7222222222222222 comparison level\", \"has_tf_adjustments\": false, \"tf_adjustment_column\": null, \"tf_adjustment_weight\": 1.0, \"is_null_level\": false, \"bayes_factor\": 0.09731371490280785, \"log2_bayes_factor\": -3.361213044296575, \"comparison_vector_value\": 1, \"max_comparison_vector_value\": 2, \"bayes_factor_description\": \"If comparison level is `jaro_winkler_similarity >= 0.7222222222222222` then comparison is  10.28 times less likely to be a match\", \"probability_two_random_records_match\": 0.006563390187237986, \"comparison_sort_order\": 5, \"iteration\": 0}, {\"comparison_name\": \"geokey\", \"sql_condition\": \"ELSE\", \"label_for_charts\": \"All other comparisons\", \"m_probability\": 0.025000000000000022, \"u_probability\": 0.7406713829934803, \"m_probability_description\": \"Amongst matching record comparisons, 2.50% of records are in the all other comparisons comparison level\", \"u_probability_description\": \"Amongst non-matching record comparisons, 74.07% of records are in the all other comparisons comparison level\", \"has_tf_adjustments\": false, \"tf_adjustment_column\": null, \"tf_adjustment_weight\": 1.0, \"is_null_level\": false, \"bayes_factor\": 0.03375316040827796, \"log2_bayes_factor\": -4.888833597481385, \"comparison_vector_value\": 0, \"max_comparison_vector_value\": 2, \"bayes_factor_description\": \"If comparison level is `all other comparisons` then comparison is  29.63 times less likely to be a match\", \"probability_two_random_records_match\": 0.006563390187237986, \"comparison_sort_order\": 5, \"iteration\": 0}, {\"comparison_name\": \"last_name_12\", \"sql_condition\": \"\\\"last_name_12_l\\\" = \\\"last_name_12_r\\\"\", \"label_for_charts\": \"Exact match\", \"m_probability\": 0.8842196151507775, \"u_probability\": 0.0006842173986881611, \"m_probability_description\": \"Amongst matching record comparisons, 88.42% of records are in the exact match comparison level\", \"u_probability_description\": \"Amongst non-matching record comparisons, 0.07% of records are in the exact match comparison level\", \"has_tf_adjustments\": false, \"tf_adjustment_column\": null, \"tf_adjustment_weight\": 1.0, \"is_null_level\": false, \"bayes_factor\": 1292.307995742402, \"log2_bayes_factor\": 10.335734233158112, \"comparison_vector_value\": 2, \"max_comparison_vector_value\": 2, \"bayes_factor_description\": \"If comparison level is `exact match` then comparison is 1,292.31 times more likely to be a match\", \"probability_two_random_records_match\": 0.006563390187237986, \"comparison_sort_order\": 0, \"iteration\": 1}, {\"comparison_name\": \"last_name_12\", \"sql_condition\": \"jaro_winkler_similarity(\\\"last_name_12_l\\\", \\\"last_name_12_r\\\") >= 0.8333333333333334\", \"label_for_charts\": \"Jaro_winkler_similarity >= 0.8333333333333334\", \"m_probability\": 0.08820854441894811, \"u_probability\": 0.0013675335890361796, \"m_probability_description\": \"Amongst matching record comparisons, 8.82% of records are in the jaro_winkler_similarity >= 0.8333333333333334 comparison level\", \"u_probability_description\": \"Amongst non-matching record comparisons, 0.14% of records are in the jaro_winkler_similarity >= 0.8333333333333334 comparison level\", \"has_tf_adjustments\": false, \"tf_adjustment_column\": null, \"tf_adjustment_weight\": 1.0, \"is_null_level\": false, \"bayes_factor\": 64.50192165379747, \"log2_bayes_factor\": 6.011270237114823, \"comparison_vector_value\": 1, \"max_comparison_vector_value\": 2, \"bayes_factor_description\": \"If comparison level is `jaro_winkler_similarity >= 0.8333333333333334` then comparison is 64.50 times more likely to be a match\", \"probability_two_random_records_match\": 0.006563390187237986, \"comparison_sort_order\": 0, \"iteration\": 1}, {\"comparison_name\": \"last_name_12\", \"sql_condition\": \"ELSE\", \"label_for_charts\": \"All other comparisons\", \"m_probability\": 0.027571840430274257, \"u_probability\": 0.9979482490122756, \"m_probability_description\": \"Amongst matching record comparisons, 2.76% of records are in the all other comparisons comparison level\", \"u_probability_description\": \"Amongst non-matching record comparisons, 99.79% of records are in the all other comparisons comparison level\", \"has_tf_adjustments\": false, \"tf_adjustment_column\": null, \"tf_adjustment_weight\": 1.0, \"is_null_level\": false, \"bayes_factor\": 0.02762852728842766, \"log2_bayes_factor\": -5.17769752702019, \"comparison_vector_value\": 0, \"max_comparison_vector_value\": 2, \"bayes_factor_description\": \"If comparison level is `all other comparisons` then comparison is  36.19 times less likely to be a match\", \"probability_two_random_records_match\": 0.006563390187237986, \"comparison_sort_order\": 0, \"iteration\": 1}, {\"comparison_name\": \"middle_initial\", \"sql_condition\": \"\\\"middle_initial_l\\\" = \\\"middle_initial_r\\\"\", \"label_for_charts\": \"Exact match\", \"m_probability\": 0.9448211832119278, \"u_probability\": 0.07300510353598076, \"m_probability_description\": \"Amongst matching record comparisons, 94.48% of records are in the exact match comparison level\", \"u_probability_description\": \"Amongst non-matching record comparisons, 7.30% of records are in the exact match comparison level\", \"has_tf_adjustments\": false, \"tf_adjustment_column\": null, \"tf_adjustment_weight\": 1.0, \"is_null_level\": false, \"bayes_factor\": 12.94185115080715, \"log2_bayes_factor\": 3.6939720843260533, \"comparison_vector_value\": 1, \"max_comparison_vector_value\": 1, \"bayes_factor_description\": \"If comparison level is `exact match` then comparison is 12.94 times more likely to be a match\", \"probability_two_random_records_match\": 0.006563390187237986, \"comparison_sort_order\": 1, \"iteration\": 1}, {\"comparison_name\": \"middle_initial\", \"sql_condition\": \"ELSE\", \"label_for_charts\": \"All other comparisons\", \"m_probability\": 0.05517881678807223, \"u_probability\": 0.9269948964640192, \"m_probability_description\": \"Amongst matching record comparisons, 5.52% of records are in the all other comparisons comparison level\", \"u_probability_description\": \"Amongst non-matching record comparisons, 92.70% of records are in the all other comparisons comparison level\", \"has_tf_adjustments\": false, \"tf_adjustment_column\": null, \"tf_adjustment_weight\": 1.0, \"is_null_level\": false, \"bayes_factor\": 0.059524401912620414, \"log2_bayes_factor\": -4.070374970071327, \"comparison_vector_value\": 0, \"max_comparison_vector_value\": 1, \"bayes_factor_description\": \"If comparison level is `all other comparisons` then comparison is  16.80 times less likely to be a match\", \"probability_two_random_records_match\": 0.006563390187237986, \"comparison_sort_order\": 1, \"iteration\": 1}, {\"comparison_name\": \"day_of_birth\", \"sql_condition\": \"\\\"day_of_birth_l\\\" = \\\"day_of_birth_r\\\"\", \"label_for_charts\": \"Exact match\", \"m_probability\": 0.9744167777901683, \"u_probability\": 0.03251748092886318, \"m_probability_description\": \"Amongst matching record comparisons, 97.44% of records are in the exact match comparison level\", \"u_probability_description\": \"Amongst non-matching record comparisons, 3.25% of records are in the exact match comparison level\", \"has_tf_adjustments\": false, \"tf_adjustment_column\": null, \"tf_adjustment_weight\": 1.0, \"is_null_level\": false, \"bayes_factor\": 29.96593678095329, \"log2_bayes_factor\": 4.90525157035121, \"comparison_vector_value\": 2, \"max_comparison_vector_value\": 2, \"bayes_factor_description\": \"If comparison level is `exact match` then comparison is 29.97 times more likely to be a match\", \"probability_two_random_records_match\": 0.006563390187237986, \"comparison_sort_order\": 2, \"iteration\": 1}, {\"comparison_name\": \"day_of_birth\", \"sql_condition\": \"abs(day_of_birth_l - day_of_birth_r) <= 5\", \"label_for_charts\": \"Inexact match\", \"m_probability\": 0.01814812076290893, \"u_probability\": 0.29545734380750305, \"m_probability_description\": \"Amongst matching record comparisons, 1.81% of records are in the inexact match comparison level\", \"u_probability_description\": \"Amongst non-matching record comparisons, 29.55% of records are in the inexact match comparison level\", \"has_tf_adjustments\": false, \"tf_adjustment_column\": null, \"tf_adjustment_weight\": 1.0, \"is_null_level\": false, \"bayes_factor\": 0.061423826969529756, \"log2_bayes_factor\": -4.025057788532854, \"comparison_vector_value\": 1, \"max_comparison_vector_value\": 2, \"bayes_factor_description\": \"If comparison level is `inexact match` then comparison is  16.28 times less likely to be a match\", \"probability_two_random_records_match\": 0.006563390187237986, \"comparison_sort_order\": 2, \"iteration\": 1}, {\"comparison_name\": \"day_of_birth\", \"sql_condition\": \"ELSE\", \"label_for_charts\": \"All other comparisons\", \"m_probability\": 0.0074351014469227076, \"u_probability\": 0.6720251752636338, \"m_probability_description\": \"Amongst matching record comparisons, 0.74% of records are in the all other comparisons comparison level\", \"u_probability_description\": \"Amongst non-matching record comparisons, 67.20% of records are in the all other comparisons comparison level\", \"has_tf_adjustments\": false, \"tf_adjustment_column\": null, \"tf_adjustment_weight\": 1.0, \"is_null_level\": false, \"bayes_factor\": 0.011063724575505576, \"log2_bayes_factor\": -6.498019042716172, \"comparison_vector_value\": 0, \"max_comparison_vector_value\": 2, \"bayes_factor_description\": \"If comparison level is `all other comparisons` then comparison is  90.39 times less likely to be a match\", \"probability_two_random_records_match\": 0.006563390187237986, \"comparison_sort_order\": 2, \"iteration\": 1}, {\"comparison_name\": \"month_of_birth\", \"sql_condition\": \"\\\"month_of_birth_l\\\" = \\\"month_of_birth_r\\\"\", \"label_for_charts\": \"Exact match\", \"m_probability\": 0.983551031092942, \"u_probability\": 0.08324454672258141, \"m_probability_description\": \"Amongst matching record comparisons, 98.36% of records are in the exact match comparison level\", \"u_probability_description\": \"Amongst non-matching record comparisons, 8.32% of records are in the exact match comparison level\", \"has_tf_adjustments\": false, \"tf_adjustment_column\": null, \"tf_adjustment_weight\": 1.0, \"is_null_level\": false, \"bayes_factor\": 11.815200752677509, \"log2_bayes_factor\": 3.562572237312263, \"comparison_vector_value\": 2, \"max_comparison_vector_value\": 2, \"bayes_factor_description\": \"If comparison level is `exact match` then comparison is 11.82 times more likely to be a match\", \"probability_two_random_records_match\": 0.006563390187237986, \"comparison_sort_order\": 3, \"iteration\": 1}, {\"comparison_name\": \"month_of_birth\", \"sql_condition\": \"abs(month_of_birth_l - month_of_birth_r) <= 3\", \"label_for_charts\": \"Inexact match\", \"m_probability\": 0.008688515222723741, \"u_probability\": 0.41693832719210167, \"m_probability_description\": \"Amongst matching record comparisons, 0.87% of records are in the inexact match comparison level\", \"u_probability_description\": \"Amongst non-matching record comparisons, 41.69% of records are in the inexact match comparison level\", \"has_tf_adjustments\": false, \"tf_adjustment_column\": null, \"tf_adjustment_weight\": 1.0, \"is_null_level\": false, \"bayes_factor\": 0.02083884991153755, \"log2_bayes_factor\": -5.5845805317699435, \"comparison_vector_value\": 1, \"max_comparison_vector_value\": 2, \"bayes_factor_description\": \"If comparison level is `inexact match` then comparison is  47.99 times less likely to be a match\", \"probability_two_random_records_match\": 0.006563390187237986, \"comparison_sort_order\": 3, \"iteration\": 1}, {\"comparison_name\": \"month_of_birth\", \"sql_condition\": \"ELSE\", \"label_for_charts\": \"All other comparisons\", \"m_probability\": 0.007760453684334317, \"u_probability\": 0.4998171260853169, \"m_probability_description\": \"Amongst matching record comparisons, 0.78% of records are in the all other comparisons comparison level\", \"u_probability_description\": \"Amongst non-matching record comparisons, 49.98% of records are in the all other comparisons comparison level\", \"has_tf_adjustments\": false, \"tf_adjustment_column\": null, \"tf_adjustment_weight\": 1.0, \"is_null_level\": false, \"bayes_factor\": 0.015526586183862849, \"log2_bayes_factor\": -6.0091155292066265, \"comparison_vector_value\": 0, \"max_comparison_vector_value\": 2, \"bayes_factor_description\": \"If comparison level is `all other comparisons` then comparison is  64.41 times less likely to be a match\", \"probability_two_random_records_match\": 0.006563390187237986, \"comparison_sort_order\": 3, \"iteration\": 1}, {\"comparison_name\": \"year_of_birth\", \"sql_condition\": \"\\\"year_of_birth_l\\\" = \\\"year_of_birth_r\\\"\", \"label_for_charts\": \"Exact match\", \"m_probability\": 0.9667480287828506, \"u_probability\": 0.011085112473136845, \"m_probability_description\": \"Amongst matching record comparisons, 96.67% of records are in the exact match comparison level\", \"u_probability_description\": \"Amongst non-matching record comparisons, 1.11% of records are in the exact match comparison level\", \"has_tf_adjustments\": false, \"tf_adjustment_column\": null, \"tf_adjustment_weight\": 1.0, \"is_null_level\": false, \"bayes_factor\": 87.21138654439669, \"log2_bayes_factor\": 6.446444604186481, \"comparison_vector_value\": 2, \"max_comparison_vector_value\": 2, \"bayes_factor_description\": \"If comparison level is `exact match` then comparison is 87.21 times more likely to be a match\", \"probability_two_random_records_match\": 0.006563390187237986, \"comparison_sort_order\": 4, \"iteration\": 1}, {\"comparison_name\": \"year_of_birth\", \"sql_condition\": \"abs(year_of_birth_l - year_of_birth_r) <= 5\", \"label_for_charts\": \"Inexact match\", \"m_probability\": 0.011472081373236999, \"u_probability\": 0.10968379850702191, \"m_probability_description\": \"Amongst matching record comparisons, 1.15% of records are in the inexact match comparison level\", \"u_probability_description\": \"Amongst non-matching record comparisons, 10.97% of records are in the inexact match comparison level\", \"has_tf_adjustments\": false, \"tf_adjustment_column\": null, \"tf_adjustment_weight\": 1.0, \"is_null_level\": false, \"bayes_factor\": 0.10459230560384505, \"log2_bayes_factor\": -3.257151372131179, \"comparison_vector_value\": 1, \"max_comparison_vector_value\": 2, \"bayes_factor_description\": \"If comparison level is `inexact match` then comparison is  9.56 times less likely to be a match\", \"probability_two_random_records_match\": 0.006563390187237986, \"comparison_sort_order\": 4, \"iteration\": 1}, {\"comparison_name\": \"year_of_birth\", \"sql_condition\": \"ELSE\", \"label_for_charts\": \"All other comparisons\", \"m_probability\": 0.021779889843912385, \"u_probability\": 0.8792310890198413, \"m_probability_description\": \"Amongst matching record comparisons, 2.18% of records are in the all other comparisons comparison level\", \"u_probability_description\": \"Amongst non-matching record comparisons, 87.92% of records are in the all other comparisons comparison level\", \"has_tf_adjustments\": false, \"tf_adjustment_column\": null, \"tf_adjustment_weight\": 1.0, \"is_null_level\": false, \"bayes_factor\": 0.024771519246654945, \"log2_bayes_factor\": -5.335173837443927, \"comparison_vector_value\": 0, \"max_comparison_vector_value\": 2, \"bayes_factor_description\": \"If comparison level is `all other comparisons` then comparison is  40.37 times less likely to be a match\", \"probability_two_random_records_match\": 0.006563390187237986, \"comparison_sort_order\": 4, \"iteration\": 1}, {\"comparison_name\": \"geokey\", \"sql_condition\": \"\\\"geokey_l\\\" = \\\"geokey_r\\\"\", \"label_for_charts\": \"Exact match\", \"m_probability\": 0.6195419409131858, \"u_probability\": 0.0024275211541129145, \"m_probability_description\": \"Amongst matching record comparisons, 61.95% of records are in the exact match comparison level\", \"u_probability_description\": \"Amongst non-matching record comparisons, 0.24% of records are in the exact match comparison level\", \"has_tf_adjustments\": false, \"tf_adjustment_column\": null, \"tf_adjustment_weight\": 1.0, \"is_null_level\": false, \"bayes_factor\": 255.21587725960893, \"log2_bayes_factor\": 7.995574273310034, \"comparison_vector_value\": 2, \"max_comparison_vector_value\": 2, \"bayes_factor_description\": \"If comparison level is `exact match` then comparison is 255.22 times more likely to be a match\", \"probability_two_random_records_match\": 0.006563390187237986, \"comparison_sort_order\": 5, \"iteration\": 1}, {\"comparison_name\": \"geokey\", \"sql_condition\": \"jaro_winkler_similarity(\\\"geokey_l\\\", \\\"geokey_r\\\") >= 0.7222222222222222\", \"label_for_charts\": \"Jaro_winkler_similarity >= 0.7222222222222222\", \"m_probability\": 0.3744667944101549, \"u_probability\": 0.2569010958524067, \"m_probability_description\": \"Amongst matching record comparisons, 37.45% of records are in the jaro_winkler_similarity >= 0.7222222222222222 comparison level\", \"u_probability_description\": \"Amongst non-matching record comparisons, 25.69% of records are in the jaro_winkler_similarity >= 0.7222222222222222 comparison level\", \"has_tf_adjustments\": false, \"tf_adjustment_column\": null, \"tf_adjustment_weight\": 1.0, \"is_null_level\": false, \"bayes_factor\": 1.4576301948719257, \"log2_bayes_factor\": 0.5436247500517164, \"comparison_vector_value\": 1, \"max_comparison_vector_value\": 2, \"bayes_factor_description\": \"If comparison level is `jaro_winkler_similarity >= 0.7222222222222222` then comparison is 1.46 times more likely to be a match\", \"probability_two_random_records_match\": 0.006563390187237986, \"comparison_sort_order\": 5, \"iteration\": 1}, {\"comparison_name\": \"geokey\", \"sql_condition\": \"ELSE\", \"label_for_charts\": \"All other comparisons\", \"m_probability\": 0.005991264676659295, \"u_probability\": 0.7406713829934803, \"m_probability_description\": \"Amongst matching record comparisons, 0.60% of records are in the all other comparisons comparison level\", \"u_probability_description\": \"Amongst non-matching record comparisons, 74.07% of records are in the all other comparisons comparison level\", \"has_tf_adjustments\": false, \"tf_adjustment_column\": null, \"tf_adjustment_weight\": 1.0, \"is_null_level\": false, \"bayes_factor\": 0.008088964707189224, \"log2_bayes_factor\": -6.949829218271644, \"comparison_vector_value\": 0, \"max_comparison_vector_value\": 2, \"bayes_factor_description\": \"If comparison level is `all other comparisons` then comparison is  123.63 times less likely to be a match\", \"probability_two_random_records_match\": 0.006563390187237986, \"comparison_sort_order\": 5, \"iteration\": 1}, {\"comparison_name\": \"last_name_12\", \"sql_condition\": \"\\\"last_name_12_l\\\" = \\\"last_name_12_r\\\"\", \"label_for_charts\": \"Exact match\", \"m_probability\": 0.8790558905705612, \"u_probability\": 0.0006842173986881611, \"m_probability_description\": \"Amongst matching record comparisons, 87.91% of records are in the exact match comparison level\", \"u_probability_description\": \"Amongst non-matching record comparisons, 0.07% of records are in the exact match comparison level\", \"has_tf_adjustments\": false, \"tf_adjustment_column\": null, \"tf_adjustment_weight\": 1.0, \"is_null_level\": false, \"bayes_factor\": 1284.761089466536, \"log2_bayes_factor\": 10.32728438953863, \"comparison_vector_value\": 2, \"max_comparison_vector_value\": 2, \"bayes_factor_description\": \"If comparison level is `exact match` then comparison is 1,284.76 times more likely to be a match\", \"probability_two_random_records_match\": 0.006563390187237986, \"comparison_sort_order\": 0, \"iteration\": 2}, {\"comparison_name\": \"last_name_12\", \"sql_condition\": \"jaro_winkler_similarity(\\\"last_name_12_l\\\", \\\"last_name_12_r\\\") >= 0.8333333333333334\", \"label_for_charts\": \"Jaro_winkler_similarity >= 0.8333333333333334\", \"m_probability\": 0.0938744998937615, \"u_probability\": 0.0013675335890361796, \"m_probability_description\": \"Amongst matching record comparisons, 9.39% of records are in the jaro_winkler_similarity >= 0.8333333333333334 comparison level\", \"u_probability_description\": \"Amongst non-matching record comparisons, 0.14% of records are in the jaro_winkler_similarity >= 0.8333333333333334 comparison level\", \"has_tf_adjustments\": false, \"tf_adjustment_column\": null, \"tf_adjustment_weight\": 1.0, \"is_null_level\": false, \"bayes_factor\": 68.64511456711134, \"log2_bayes_factor\": 6.101085143146076, \"comparison_vector_value\": 1, \"max_comparison_vector_value\": 2, \"bayes_factor_description\": \"If comparison level is `jaro_winkler_similarity >= 0.8333333333333334` then comparison is 68.65 times more likely to be a match\", \"probability_two_random_records_match\": 0.006563390187237986, \"comparison_sort_order\": 0, \"iteration\": 2}, {\"comparison_name\": \"last_name_12\", \"sql_condition\": \"ELSE\", \"label_for_charts\": \"All other comparisons\", \"m_probability\": 0.02706960953567721, \"u_probability\": 0.9979482490122756, \"m_probability_description\": \"Amongst matching record comparisons, 2.71% of records are in the all other comparisons comparison level\", \"u_probability_description\": \"Amongst non-matching record comparisons, 99.79% of records are in the all other comparisons comparison level\", \"has_tf_adjustments\": false, \"tf_adjustment_column\": null, \"tf_adjustment_weight\": 1.0, \"is_null_level\": false, \"bayes_factor\": 0.027125263822517343, \"log2_bayes_factor\": -5.204219020380318, \"comparison_vector_value\": 0, \"max_comparison_vector_value\": 2, \"bayes_factor_description\": \"If comparison level is `all other comparisons` then comparison is  36.87 times less likely to be a match\", \"probability_two_random_records_match\": 0.006563390187237986, \"comparison_sort_order\": 0, \"iteration\": 2}, {\"comparison_name\": \"middle_initial\", \"sql_condition\": \"\\\"middle_initial_l\\\" = \\\"middle_initial_r\\\"\", \"label_for_charts\": \"Exact match\", \"m_probability\": 0.9445979367403631, \"u_probability\": 0.07300510353598076, \"m_probability_description\": \"Amongst matching record comparisons, 94.46% of records are in the exact match comparison level\", \"u_probability_description\": \"Amongst non-matching record comparisons, 7.30% of records are in the exact match comparison level\", \"has_tf_adjustments\": false, \"tf_adjustment_column\": null, \"tf_adjustment_weight\": 1.0, \"is_null_level\": false, \"bayes_factor\": 12.938793193750016, \"log2_bayes_factor\": 3.6936311577677055, \"comparison_vector_value\": 1, \"max_comparison_vector_value\": 1, \"bayes_factor_description\": \"If comparison level is `exact match` then comparison is 12.94 times more likely to be a match\", \"probability_two_random_records_match\": 0.006563390187237986, \"comparison_sort_order\": 1, \"iteration\": 2}, {\"comparison_name\": \"middle_initial\", \"sql_condition\": \"ELSE\", \"label_for_charts\": \"All other comparisons\", \"m_probability\": 0.055402063259636855, \"u_probability\": 0.9269948964640192, \"m_probability_description\": \"Amongst matching record comparisons, 5.54% of records are in the all other comparisons comparison level\", \"u_probability_description\": \"Amongst non-matching record comparisons, 92.70% of records are in the all other comparisons comparison level\", \"has_tf_adjustments\": false, \"tf_adjustment_column\": null, \"tf_adjustment_weight\": 1.0, \"is_null_level\": false, \"bayes_factor\": 0.059765230068650387, \"log2_bayes_factor\": -4.0645497855574435, \"comparison_vector_value\": 0, \"max_comparison_vector_value\": 1, \"bayes_factor_description\": \"If comparison level is `all other comparisons` then comparison is  16.73 times less likely to be a match\", \"probability_two_random_records_match\": 0.006563390187237986, \"comparison_sort_order\": 1, \"iteration\": 2}, {\"comparison_name\": \"day_of_birth\", \"sql_condition\": \"\\\"day_of_birth_l\\\" = \\\"day_of_birth_r\\\"\", \"label_for_charts\": \"Exact match\", \"m_probability\": 0.9772924277617403, \"u_probability\": 0.03251748092886318, \"m_probability_description\": \"Amongst matching record comparisons, 97.73% of records are in the exact match comparison level\", \"u_probability_description\": \"Amongst non-matching record comparisons, 3.25% of records are in the exact match comparison level\", \"has_tf_adjustments\": false, \"tf_adjustment_column\": null, \"tf_adjustment_weight\": 1.0, \"is_null_level\": false, \"bayes_factor\": 30.054370752141367, \"log2_bayes_factor\": 4.909502909581114, \"comparison_vector_value\": 2, \"max_comparison_vector_value\": 2, \"bayes_factor_description\": \"If comparison level is `exact match` then comparison is 30.05 times more likely to be a match\", \"probability_two_random_records_match\": 0.006563390187237986, \"comparison_sort_order\": 2, \"iteration\": 2}, {\"comparison_name\": \"day_of_birth\", \"sql_condition\": \"abs(day_of_birth_l - day_of_birth_r) <= 5\", \"label_for_charts\": \"Inexact match\", \"m_probability\": 0.01740968075963621, \"u_probability\": 0.29545734380750305, \"m_probability_description\": \"Amongst matching record comparisons, 1.74% of records are in the inexact match comparison level\", \"u_probability_description\": \"Amongst non-matching record comparisons, 29.55% of records are in the inexact match comparison level\", \"has_tf_adjustments\": false, \"tf_adjustment_column\": null, \"tf_adjustment_weight\": 1.0, \"is_null_level\": false, \"bayes_factor\": 0.05892451524568974, \"log2_bayes_factor\": -4.084988204869772, \"comparison_vector_value\": 1, \"max_comparison_vector_value\": 2, \"bayes_factor_description\": \"If comparison level is `inexact match` then comparison is  16.97 times less likely to be a match\", \"probability_two_random_records_match\": 0.006563390187237986, \"comparison_sort_order\": 2, \"iteration\": 2}, {\"comparison_name\": \"day_of_birth\", \"sql_condition\": \"ELSE\", \"label_for_charts\": \"All other comparisons\", \"m_probability\": 0.0052978914786234454, \"u_probability\": 0.6720251752636338, \"m_probability_description\": \"Amongst matching record comparisons, 0.53% of records are in the all other comparisons comparison level\", \"u_probability_description\": \"Amongst non-matching record comparisons, 67.20% of records are in the all other comparisons comparison level\", \"has_tf_adjustments\": false, \"tf_adjustment_column\": null, \"tf_adjustment_weight\": 1.0, \"is_null_level\": false, \"bayes_factor\": 0.007883471741285727, \"log2_bayes_factor\": -6.98695317770749, \"comparison_vector_value\": 0, \"max_comparison_vector_value\": 2, \"bayes_factor_description\": \"If comparison level is `all other comparisons` then comparison is  126.85 times less likely to be a match\", \"probability_two_random_records_match\": 0.006563390187237986, \"comparison_sort_order\": 2, \"iteration\": 2}, {\"comparison_name\": \"month_of_birth\", \"sql_condition\": \"\\\"month_of_birth_l\\\" = \\\"month_of_birth_r\\\"\", \"label_for_charts\": \"Exact match\", \"m_probability\": 0.9859183394041526, \"u_probability\": 0.08324454672258141, \"m_probability_description\": \"Amongst matching record comparisons, 98.59% of records are in the exact match comparison level\", \"u_probability_description\": \"Amongst non-matching record comparisons, 8.32% of records are in the exact match comparison level\", \"has_tf_adjustments\": false, \"tf_adjustment_column\": null, \"tf_adjustment_weight\": 1.0, \"is_null_level\": false, \"bayes_factor\": 11.843638751374288, \"log2_bayes_factor\": 3.5660404868385824, \"comparison_vector_value\": 2, \"max_comparison_vector_value\": 2, \"bayes_factor_description\": \"If comparison level is `exact match` then comparison is 11.84 times more likely to be a match\", \"probability_two_random_records_match\": 0.006563390187237986, \"comparison_sort_order\": 3, \"iteration\": 2}, {\"comparison_name\": \"month_of_birth\", \"sql_condition\": \"abs(month_of_birth_l - month_of_birth_r) <= 3\", \"label_for_charts\": \"Inexact match\", \"m_probability\": 0.007605673658970424, \"u_probability\": 0.41693832719210167, \"m_probability_description\": \"Amongst matching record comparisons, 0.76% of records are in the inexact match comparison level\", \"u_probability_description\": \"Amongst non-matching record comparisons, 41.69% of records are in the inexact match comparison level\", \"has_tf_adjustments\": false, \"tf_adjustment_column\": null, \"tf_adjustment_weight\": 1.0, \"is_null_level\": false, \"bayes_factor\": 0.018241723446705722, \"log2_bayes_factor\": -5.77661415048281, \"comparison_vector_value\": 1, \"max_comparison_vector_value\": 2, \"bayes_factor_description\": \"If comparison level is `inexact match` then comparison is  54.82 times less likely to be a match\", \"probability_two_random_records_match\": 0.006563390187237986, \"comparison_sort_order\": 3, \"iteration\": 2}, {\"comparison_name\": \"month_of_birth\", \"sql_condition\": \"ELSE\", \"label_for_charts\": \"All other comparisons\", \"m_probability\": 0.006475986936877004, \"u_probability\": 0.4998171260853169, \"m_probability_description\": \"Amongst matching record comparisons, 0.65% of records are in the all other comparisons comparison level\", \"u_probability_description\": \"Amongst non-matching record comparisons, 49.98% of records are in the all other comparisons comparison level\", \"has_tf_adjustments\": false, \"tf_adjustment_column\": null, \"tf_adjustment_weight\": 1.0, \"is_null_level\": false, \"bayes_factor\": 0.012956712763322914, \"log2_bayes_factor\": -6.270156450071222, \"comparison_vector_value\": 0, \"max_comparison_vector_value\": 2, \"bayes_factor_description\": \"If comparison level is `all other comparisons` then comparison is  77.18 times less likely to be a match\", \"probability_two_random_records_match\": 0.006563390187237986, \"comparison_sort_order\": 3, \"iteration\": 2}, {\"comparison_name\": \"year_of_birth\", \"sql_condition\": \"\\\"year_of_birth_l\\\" = \\\"year_of_birth_r\\\"\", \"label_for_charts\": \"Exact match\", \"m_probability\": 0.9690109828035962, \"u_probability\": 0.011085112473136845, \"m_probability_description\": \"Amongst matching record comparisons, 96.90% of records are in the exact match comparison level\", \"u_probability_description\": \"Amongst non-matching record comparisons, 1.11% of records are in the exact match comparison level\", \"has_tf_adjustments\": false, \"tf_adjustment_column\": null, \"tf_adjustment_weight\": 1.0, \"is_null_level\": false, \"bayes_factor\": 87.41553007710596, \"log2_bayes_factor\": 6.449817703845249, \"comparison_vector_value\": 2, \"max_comparison_vector_value\": 2, \"bayes_factor_description\": \"If comparison level is `exact match` then comparison is 87.42 times more likely to be a match\", \"probability_two_random_records_match\": 0.006563390187237986, \"comparison_sort_order\": 4, \"iteration\": 2}, {\"comparison_name\": \"year_of_birth\", \"sql_condition\": \"abs(year_of_birth_l - year_of_birth_r) <= 5\", \"label_for_charts\": \"Inexact match\", \"m_probability\": 0.010173833893428368, \"u_probability\": 0.10968379850702191, \"m_probability_description\": \"Amongst matching record comparisons, 1.02% of records are in the inexact match comparison level\", \"u_probability_description\": \"Amongst non-matching record comparisons, 10.97% of records are in the inexact match comparison level\", \"has_tf_adjustments\": false, \"tf_adjustment_column\": null, \"tf_adjustment_weight\": 1.0, \"is_null_level\": false, \"bayes_factor\": 0.09275603171946167, \"log2_bayes_factor\": -3.430415089725213, \"comparison_vector_value\": 1, \"max_comparison_vector_value\": 2, \"bayes_factor_description\": \"If comparison level is `inexact match` then comparison is  10.78 times less likely to be a match\", \"probability_two_random_records_match\": 0.006563390187237986, \"comparison_sort_order\": 4, \"iteration\": 2}, {\"comparison_name\": \"year_of_birth\", \"sql_condition\": \"ELSE\", \"label_for_charts\": \"All other comparisons\", \"m_probability\": 0.020815183302975448, \"u_probability\": 0.8792310890198413, \"m_probability_description\": \"Amongst matching record comparisons, 2.08% of records are in the all other comparisons comparison level\", \"u_probability_description\": \"Amongst non-matching record comparisons, 87.92% of records are in the all other comparisons comparison level\", \"has_tf_adjustments\": false, \"tf_adjustment_column\": null, \"tf_adjustment_weight\": 1.0, \"is_null_level\": false, \"bayes_factor\": 0.023674303107479994, \"log2_bayes_factor\": -5.400534231586042, \"comparison_vector_value\": 0, \"max_comparison_vector_value\": 2, \"bayes_factor_description\": \"If comparison level is `all other comparisons` then comparison is  42.24 times less likely to be a match\", \"probability_two_random_records_match\": 0.006563390187237986, \"comparison_sort_order\": 4, \"iteration\": 2}, {\"comparison_name\": \"geokey\", \"sql_condition\": \"\\\"geokey_l\\\" = \\\"geokey_r\\\"\", \"label_for_charts\": \"Exact match\", \"m_probability\": 0.6085752153985658, \"u_probability\": 0.0024275211541129145, \"m_probability_description\": \"Amongst matching record comparisons, 60.86% of records are in the exact match comparison level\", \"u_probability_description\": \"Amongst non-matching record comparisons, 0.24% of records are in the exact match comparison level\", \"has_tf_adjustments\": false, \"tf_adjustment_column\": null, \"tf_adjustment_weight\": 1.0, \"is_null_level\": false, \"bayes_factor\": 250.69821301761493, \"log2_bayes_factor\": 7.969807902421195, \"comparison_vector_value\": 2, \"max_comparison_vector_value\": 2, \"bayes_factor_description\": \"If comparison level is `exact match` then comparison is 250.70 times more likely to be a match\", \"probability_two_random_records_match\": 0.006563390187237986, \"comparison_sort_order\": 5, \"iteration\": 2}, {\"comparison_name\": \"geokey\", \"sql_condition\": \"jaro_winkler_similarity(\\\"geokey_l\\\", \\\"geokey_r\\\") >= 0.7222222222222222\", \"label_for_charts\": \"Jaro_winkler_similarity >= 0.7222222222222222\", \"m_probability\": 0.38554548768714464, \"u_probability\": 0.2569010958524067, \"m_probability_description\": \"Amongst matching record comparisons, 38.55% of records are in the jaro_winkler_similarity >= 0.7222222222222222 comparison level\", \"u_probability_description\": \"Amongst non-matching record comparisons, 25.69% of records are in the jaro_winkler_similarity >= 0.7222222222222222 comparison level\", \"has_tf_adjustments\": false, \"tf_adjustment_column\": null, \"tf_adjustment_weight\": 1.0, \"is_null_level\": false, \"bayes_factor\": 1.500754546834031, \"log2_bayes_factor\": 0.5856880389026556, \"comparison_vector_value\": 1, \"max_comparison_vector_value\": 2, \"bayes_factor_description\": \"If comparison level is `jaro_winkler_similarity >= 0.7222222222222222` then comparison is 1.50 times more likely to be a match\", \"probability_two_random_records_match\": 0.006563390187237986, \"comparison_sort_order\": 5, \"iteration\": 2}, {\"comparison_name\": \"geokey\", \"sql_condition\": \"ELSE\", \"label_for_charts\": \"All other comparisons\", \"m_probability\": 0.005879296914289554, \"u_probability\": 0.7406713829934803, \"m_probability_description\": \"Amongst matching record comparisons, 0.59% of records are in the all other comparisons comparison level\", \"u_probability_description\": \"Amongst non-matching record comparisons, 74.07% of records are in the all other comparisons comparison level\", \"has_tf_adjustments\": false, \"tf_adjustment_column\": null, \"tf_adjustment_weight\": 1.0, \"is_null_level\": false, \"bayes_factor\": 0.00793779407343635, \"log2_bayes_factor\": -6.977046149016928, \"comparison_vector_value\": 0, \"max_comparison_vector_value\": 2, \"bayes_factor_description\": \"If comparison level is `all other comparisons` then comparison is  125.98 times less likely to be a match\", \"probability_two_random_records_match\": 0.006563390187237986, \"comparison_sort_order\": 5, \"iteration\": 2}, {\"comparison_name\": \"last_name_12\", \"sql_condition\": \"\\\"last_name_12_l\\\" = \\\"last_name_12_r\\\"\", \"label_for_charts\": \"Exact match\", \"m_probability\": 0.8789976245796706, \"u_probability\": 0.0006842173986881611, \"m_probability_description\": \"Amongst matching record comparisons, 87.90% of records are in the exact match comparison level\", \"u_probability_description\": \"Amongst non-matching record comparisons, 0.07% of records are in the exact match comparison level\", \"has_tf_adjustments\": false, \"tf_adjustment_column\": null, \"tf_adjustment_weight\": 1.0, \"is_null_level\": false, \"bayes_factor\": 1284.6759323351882, \"log2_bayes_factor\": 10.327188760986465, \"comparison_vector_value\": 2, \"max_comparison_vector_value\": 2, \"bayes_factor_description\": \"If comparison level is `exact match` then comparison is 1,284.68 times more likely to be a match\", \"probability_two_random_records_match\": 0.006563390187237986, \"comparison_sort_order\": 0, \"iteration\": 3}, {\"comparison_name\": \"last_name_12\", \"sql_condition\": \"jaro_winkler_similarity(\\\"last_name_12_l\\\", \\\"last_name_12_r\\\") >= 0.8333333333333334\", \"label_for_charts\": \"Jaro_winkler_similarity >= 0.8333333333333334\", \"m_probability\": 0.09411356436497753, \"u_probability\": 0.0013675335890361796, \"m_probability_description\": \"Amongst matching record comparisons, 9.41% of records are in the jaro_winkler_similarity >= 0.8333333333333334 comparison level\", \"u_probability_description\": \"Amongst non-matching record comparisons, 0.14% of records are in the jaro_winkler_similarity >= 0.8333333333333334 comparison level\", \"has_tf_adjustments\": false, \"tf_adjustment_column\": null, \"tf_adjustment_weight\": 1.0, \"is_null_level\": false, \"bayes_factor\": 68.8199288993754, \"log2_bayes_factor\": 6.104754496457003, \"comparison_vector_value\": 1, \"max_comparison_vector_value\": 2, \"bayes_factor_description\": \"If comparison level is `jaro_winkler_similarity >= 0.8333333333333334` then comparison is 68.82 times more likely to be a match\", \"probability_two_random_records_match\": 0.006563390187237986, \"comparison_sort_order\": 0, \"iteration\": 3}, {\"comparison_name\": \"last_name_12\", \"sql_condition\": \"ELSE\", \"label_for_charts\": \"All other comparisons\", \"m_probability\": 0.026888811055351815, \"u_probability\": 0.9979482490122756, \"m_probability_description\": \"Amongst matching record comparisons, 2.69% of records are in the all other comparisons comparison level\", \"u_probability_description\": \"Amongst non-matching record comparisons, 99.79% of records are in the all other comparisons comparison level\", \"has_tf_adjustments\": false, \"tf_adjustment_column\": null, \"tf_adjustment_weight\": 1.0, \"is_null_level\": false, \"bayes_factor\": 0.026944093626062426, \"log2_bayes_factor\": -5.213887133133473, \"comparison_vector_value\": 0, \"max_comparison_vector_value\": 2, \"bayes_factor_description\": \"If comparison level is `all other comparisons` then comparison is  37.11 times less likely to be a match\", \"probability_two_random_records_match\": 0.006563390187237986, \"comparison_sort_order\": 0, \"iteration\": 3}, {\"comparison_name\": \"middle_initial\", \"sql_condition\": \"\\\"middle_initial_l\\\" = \\\"middle_initial_r\\\"\", \"label_for_charts\": \"Exact match\", \"m_probability\": 0.944597652897622, \"u_probability\": 0.07300510353598076, \"m_probability_description\": \"Amongst matching record comparisons, 94.46% of records are in the exact match comparison level\", \"u_probability_description\": \"Amongst non-matching record comparisons, 7.30% of records are in the exact match comparison level\", \"has_tf_adjustments\": false, \"tf_adjustment_column\": null, \"tf_adjustment_weight\": 1.0, \"is_null_level\": false, \"bayes_factor\": 12.938789305765104, \"log2_bayes_factor\": 3.693630724251433, \"comparison_vector_value\": 1, \"max_comparison_vector_value\": 1, \"bayes_factor_description\": \"If comparison level is `exact match` then comparison is 12.94 times more likely to be a match\", \"probability_two_random_records_match\": 0.006563390187237986, \"comparison_sort_order\": 1, \"iteration\": 3}, {\"comparison_name\": \"middle_initial\", \"sql_condition\": \"ELSE\", \"label_for_charts\": \"All other comparisons\", \"m_probability\": 0.05540234710237797, \"u_probability\": 0.9269948964640192, \"m_probability_description\": \"Amongst matching record comparisons, 5.54% of records are in the all other comparisons comparison level\", \"u_probability_description\": \"Amongst non-matching record comparisons, 92.70% of records are in the all other comparisons comparison level\", \"has_tf_adjustments\": false, \"tf_adjustment_column\": null, \"tf_adjustment_weight\": 1.0, \"is_null_level\": false, \"bayes_factor\": 0.05976553626531037, \"log2_bayes_factor\": -4.064542394181709, \"comparison_vector_value\": 0, \"max_comparison_vector_value\": 1, \"bayes_factor_description\": \"If comparison level is `all other comparisons` then comparison is  16.73 times less likely to be a match\", \"probability_two_random_records_match\": 0.006563390187237986, \"comparison_sort_order\": 1, \"iteration\": 3}, {\"comparison_name\": \"day_of_birth\", \"sql_condition\": \"\\\"day_of_birth_l\\\" = \\\"day_of_birth_r\\\"\", \"label_for_charts\": \"Exact match\", \"m_probability\": 0.9780135399999315, \"u_probability\": 0.03251748092886318, \"m_probability_description\": \"Amongst matching record comparisons, 97.80% of records are in the exact match comparison level\", \"u_probability_description\": \"Amongst non-matching record comparisons, 3.25% of records are in the exact match comparison level\", \"has_tf_adjustments\": false, \"tf_adjustment_column\": null, \"tf_adjustment_weight\": 1.0, \"is_null_level\": false, \"bayes_factor\": 30.076546893022904, \"log2_bayes_factor\": 4.910567034699415, \"comparison_vector_value\": 2, \"max_comparison_vector_value\": 2, \"bayes_factor_description\": \"If comparison level is `exact match` then comparison is 30.08 times more likely to be a match\", \"probability_two_random_records_match\": 0.006563390187237986, \"comparison_sort_order\": 2, \"iteration\": 3}, {\"comparison_name\": \"day_of_birth\", \"sql_condition\": \"abs(day_of_birth_l - day_of_birth_r) <= 5\", \"label_for_charts\": \"Inexact match\", \"m_probability\": 0.017247769247475307, \"u_probability\": 0.29545734380750305, \"m_probability_description\": \"Amongst matching record comparisons, 1.72% of records are in the inexact match comparison level\", \"u_probability_description\": \"Amongst non-matching record comparisons, 29.55% of records are in the inexact match comparison level\", \"has_tf_adjustments\": false, \"tf_adjustment_column\": null, \"tf_adjustment_weight\": 1.0, \"is_null_level\": false, \"bayes_factor\": 0.058376512241011036, \"log2_bayes_factor\": -4.098468171516047, \"comparison_vector_value\": 1, \"max_comparison_vector_value\": 2, \"bayes_factor_description\": \"If comparison level is `inexact match` then comparison is  17.13 times less likely to be a match\", \"probability_two_random_records_match\": 0.006563390187237986, \"comparison_sort_order\": 2, \"iteration\": 3}, {\"comparison_name\": \"day_of_birth\", \"sql_condition\": \"ELSE\", \"label_for_charts\": \"All other comparisons\", \"m_probability\": 0.004738690752593221, \"u_probability\": 0.6720251752636338, \"m_probability_description\": \"Amongst matching record comparisons, 0.47% of records are in the all other comparisons comparison level\", \"u_probability_description\": \"Amongst non-matching record comparisons, 67.20% of records are in the all other comparisons comparison level\", \"has_tf_adjustments\": false, \"tf_adjustment_column\": null, \"tf_adjustment_weight\": 1.0, \"is_null_level\": false, \"bayes_factor\": 0.00705135897733927, \"log2_bayes_factor\": -7.147882956097041, \"comparison_vector_value\": 0, \"max_comparison_vector_value\": 2, \"bayes_factor_description\": \"If comparison level is `all other comparisons` then comparison is  141.82 times less likely to be a match\", \"probability_two_random_records_match\": 0.006563390187237986, \"comparison_sort_order\": 2, \"iteration\": 3}, {\"comparison_name\": \"month_of_birth\", \"sql_condition\": \"\\\"month_of_birth_l\\\" = \\\"month_of_birth_r\\\"\", \"label_for_charts\": \"Exact match\", \"m_probability\": 0.9864580979230655, \"u_probability\": 0.08324454672258141, \"m_probability_description\": \"Amongst matching record comparisons, 98.65% of records are in the exact match comparison level\", \"u_probability_description\": \"Amongst non-matching record comparisons, 8.32% of records are in the exact match comparison level\", \"has_tf_adjustments\": false, \"tf_adjustment_column\": null, \"tf_adjustment_weight\": 1.0, \"is_null_level\": false, \"bayes_factor\": 11.850122761921087, \"log2_bayes_factor\": 3.566830099757511, \"comparison_vector_value\": 2, \"max_comparison_vector_value\": 2, \"bayes_factor_description\": \"If comparison level is `exact match` then comparison is 11.85 times more likely to be a match\", \"probability_two_random_records_match\": 0.006563390187237986, \"comparison_sort_order\": 3, \"iteration\": 3}, {\"comparison_name\": \"month_of_birth\", \"sql_condition\": \"abs(month_of_birth_l - month_of_birth_r) <= 3\", \"label_for_charts\": \"Inexact match\", \"m_probability\": 0.007413401460552521, \"u_probability\": 0.41693832719210167, \"m_probability_description\": \"Amongst matching record comparisons, 0.74% of records are in the inexact match comparison level\", \"u_probability_description\": \"Amongst non-matching record comparisons, 41.69% of records are in the inexact match comparison level\", \"has_tf_adjustments\": false, \"tf_adjustment_column\": null, \"tf_adjustment_weight\": 1.0, \"is_null_level\": false, \"bayes_factor\": 0.017780570835208544, \"log2_bayes_factor\": -5.813554547952108, \"comparison_vector_value\": 1, \"max_comparison_vector_value\": 2, \"bayes_factor_description\": \"If comparison level is `inexact match` then comparison is  56.24 times less likely to be a match\", \"probability_two_random_records_match\": 0.006563390187237986, \"comparison_sort_order\": 3, \"iteration\": 3}, {\"comparison_name\": \"month_of_birth\", \"sql_condition\": \"ELSE\", \"label_for_charts\": \"All other comparisons\", \"m_probability\": 0.0061285006163819674, \"u_probability\": 0.4998171260853169, \"m_probability_description\": \"Amongst matching record comparisons, 0.61% of records are in the all other comparisons comparison level\", \"u_probability_description\": \"Amongst non-matching record comparisons, 49.98% of records are in the all other comparisons comparison level\", \"has_tf_adjustments\": false, \"tf_adjustment_column\": null, \"tf_adjustment_weight\": 1.0, \"is_null_level\": false, \"bayes_factor\": 0.0122614858445964, \"log2_bayes_factor\": -6.349722374633164, \"comparison_vector_value\": 0, \"max_comparison_vector_value\": 2, \"bayes_factor_description\": \"If comparison level is `all other comparisons` then comparison is  81.56 times less likely to be a match\", \"probability_two_random_records_match\": 0.006563390187237986, \"comparison_sort_order\": 3, \"iteration\": 3}, {\"comparison_name\": \"year_of_birth\", \"sql_condition\": \"\\\"year_of_birth_l\\\" = \\\"year_of_birth_r\\\"\", \"label_for_charts\": \"Exact match\", \"m_probability\": 0.9694152387266874, \"u_probability\": 0.011085112473136845, \"m_probability_description\": \"Amongst matching record comparisons, 96.94% of records are in the exact match comparison level\", \"u_probability_description\": \"Amongst non-matching record comparisons, 1.11% of records are in the exact match comparison level\", \"has_tf_adjustments\": false, \"tf_adjustment_column\": null, \"tf_adjustment_weight\": 1.0, \"is_null_level\": false, \"bayes_factor\": 87.45199844168691, \"log2_bayes_factor\": 6.450419447690304, \"comparison_vector_value\": 2, \"max_comparison_vector_value\": 2, \"bayes_factor_description\": \"If comparison level is `exact match` then comparison is 87.45 times more likely to be a match\", \"probability_two_random_records_match\": 0.006563390187237986, \"comparison_sort_order\": 4, \"iteration\": 3}, {\"comparison_name\": \"year_of_birth\", \"sql_condition\": \"abs(year_of_birth_l - year_of_birth_r) <= 5\", \"label_for_charts\": \"Inexact match\", \"m_probability\": 0.009994527742028353, \"u_probability\": 0.10968379850702191, \"m_probability_description\": \"Amongst matching record comparisons, 1.00% of records are in the inexact match comparison level\", \"u_probability_description\": \"Amongst non-matching record comparisons, 10.97% of records are in the inexact match comparison level\", \"has_tf_adjustments\": false, \"tf_adjustment_column\": null, \"tf_adjustment_weight\": 1.0, \"is_null_level\": false, \"bayes_factor\": 0.09112127659755062, \"log2_bayes_factor\": -3.4560682306122144, \"comparison_vector_value\": 1, \"max_comparison_vector_value\": 2, \"bayes_factor_description\": \"If comparison level is `inexact match` then comparison is  10.97 times less likely to be a match\", \"probability_two_random_records_match\": 0.006563390187237986, \"comparison_sort_order\": 4, \"iteration\": 3}, {\"comparison_name\": \"year_of_birth\", \"sql_condition\": \"ELSE\", \"label_for_charts\": \"All other comparisons\", \"m_probability\": 0.020590233531284207, \"u_probability\": 0.8792310890198413, \"m_probability_description\": \"Amongst matching record comparisons, 2.06% of records are in the all other comparisons comparison level\", \"u_probability_description\": \"Amongst non-matching record comparisons, 87.92% of records are in the all other comparisons comparison level\", \"has_tf_adjustments\": false, \"tf_adjustment_column\": null, \"tf_adjustment_weight\": 1.0, \"is_null_level\": false, \"bayes_factor\": 0.023418454816285, \"log2_bayes_factor\": -5.41621030191276, \"comparison_vector_value\": 0, \"max_comparison_vector_value\": 2, \"bayes_factor_description\": \"If comparison level is `all other comparisons` then comparison is  42.70 times less likely to be a match\", \"probability_two_random_records_match\": 0.006563390187237986, \"comparison_sort_order\": 4, \"iteration\": 3}, {\"comparison_name\": \"geokey\", \"sql_condition\": \"\\\"geokey_l\\\" = \\\"geokey_r\\\"\", \"label_for_charts\": \"Exact match\", \"m_probability\": 0.6084144461537855, \"u_probability\": 0.0024275211541129145, \"m_probability_description\": \"Amongst matching record comparisons, 60.84% of records are in the exact match comparison level\", \"u_probability_description\": \"Amongst non-matching record comparisons, 0.24% of records are in the exact match comparison level\", \"has_tf_adjustments\": false, \"tf_adjustment_column\": null, \"tf_adjustment_weight\": 1.0, \"is_null_level\": false, \"bayes_factor\": 250.6319852755794, \"log2_bayes_factor\": 7.969426730746777, \"comparison_vector_value\": 2, \"max_comparison_vector_value\": 2, \"bayes_factor_description\": \"If comparison level is `exact match` then comparison is 250.63 times more likely to be a match\", \"probability_two_random_records_match\": 0.006563390187237986, \"comparison_sort_order\": 5, \"iteration\": 3}, {\"comparison_name\": \"geokey\", \"sql_condition\": \"jaro_winkler_similarity(\\\"geokey_l\\\", \\\"geokey_r\\\") >= 0.7222222222222222\", \"label_for_charts\": \"Jaro_winkler_similarity >= 0.7222222222222222\", \"m_probability\": 0.38570222225937545, \"u_probability\": 0.2569010958524067, \"m_probability_description\": \"Amongst matching record comparisons, 38.57% of records are in the jaro_winkler_similarity >= 0.7222222222222222 comparison level\", \"u_probability_description\": \"Amongst non-matching record comparisons, 25.69% of records are in the jaro_winkler_similarity >= 0.7222222222222222 comparison level\", \"has_tf_adjustments\": false, \"tf_adjustment_column\": null, \"tf_adjustment_weight\": 1.0, \"is_null_level\": false, \"bayes_factor\": 1.5013646437731305, \"log2_bayes_factor\": 0.5862744139162601, \"comparison_vector_value\": 1, \"max_comparison_vector_value\": 2, \"bayes_factor_description\": \"If comparison level is `jaro_winkler_similarity >= 0.7222222222222222` then comparison is 1.50 times more likely to be a match\", \"probability_two_random_records_match\": 0.006563390187237986, \"comparison_sort_order\": 5, \"iteration\": 3}, {\"comparison_name\": \"geokey\", \"sql_condition\": \"ELSE\", \"label_for_charts\": \"All other comparisons\", \"m_probability\": 0.005883331586839125, \"u_probability\": 0.7406713829934803, \"m_probability_description\": \"Amongst matching record comparisons, 0.59% of records are in the all other comparisons comparison level\", \"u_probability_description\": \"Amongst non-matching record comparisons, 74.07% of records are in the all other comparisons comparison level\", \"has_tf_adjustments\": false, \"tf_adjustment_column\": null, \"tf_adjustment_weight\": 1.0, \"is_null_level\": false, \"bayes_factor\": 0.007943241391426773, \"log2_bayes_factor\": -6.976056437864085, \"comparison_vector_value\": 0, \"max_comparison_vector_value\": 2, \"bayes_factor_description\": \"If comparison level is `all other comparisons` then comparison is  125.89 times less likely to be a match\", \"probability_two_random_records_match\": 0.006563390187237986, \"comparison_sort_order\": 5, \"iteration\": 3}, {\"comparison_name\": \"last_name_12\", \"sql_condition\": \"\\\"last_name_12_l\\\" = \\\"last_name_12_r\\\"\", \"label_for_charts\": \"Exact match\", \"m_probability\": 0.8790241055050958, \"u_probability\": 0.0006842173986881611, \"m_probability_description\": \"Amongst matching record comparisons, 87.90% of records are in the exact match comparison level\", \"u_probability_description\": \"Amongst non-matching record comparisons, 0.07% of records are in the exact match comparison level\", \"has_tf_adjustments\": false, \"tf_adjustment_column\": null, \"tf_adjustment_weight\": 1.0, \"is_null_level\": false, \"bayes_factor\": 1284.7146348374572, \"log2_bayes_factor\": 10.327232223361403, \"comparison_vector_value\": 2, \"max_comparison_vector_value\": 2, \"bayes_factor_description\": \"If comparison level is `exact match` then comparison is 1,284.71 times more likely to be a match\", \"probability_two_random_records_match\": 0.006563390187237986, \"comparison_sort_order\": 0, \"iteration\": 4}, {\"comparison_name\": \"last_name_12\", \"sql_condition\": \"jaro_winkler_similarity(\\\"last_name_12_l\\\", \\\"last_name_12_r\\\") >= 0.8333333333333334\", \"label_for_charts\": \"Jaro_winkler_similarity >= 0.8333333333333334\", \"m_probability\": 0.09413132590237665, \"u_probability\": 0.0013675335890361796, \"m_probability_description\": \"Amongst matching record comparisons, 9.41% of records are in the jaro_winkler_similarity >= 0.8333333333333334 comparison level\", \"u_probability_description\": \"Amongst non-matching record comparisons, 0.14% of records are in the jaro_winkler_similarity >= 0.8333333333333334 comparison level\", \"has_tf_adjustments\": false, \"tf_adjustment_column\": null, \"tf_adjustment_weight\": 1.0, \"is_null_level\": false, \"bayes_factor\": 68.83291690752489, \"log2_bayes_factor\": 6.105026742699267, \"comparison_vector_value\": 1, \"max_comparison_vector_value\": 2, \"bayes_factor_description\": \"If comparison level is `jaro_winkler_similarity >= 0.8333333333333334` then comparison is 68.83 times more likely to be a match\", \"probability_two_random_records_match\": 0.006563390187237986, \"comparison_sort_order\": 0, \"iteration\": 4}, {\"comparison_name\": \"last_name_12\", \"sql_condition\": \"ELSE\", \"label_for_charts\": \"All other comparisons\", \"m_probability\": 0.026844568592527557, \"u_probability\": 0.9979482490122756, \"m_probability_description\": \"Amongst matching record comparisons, 2.68% of records are in the all other comparisons comparison level\", \"u_probability_description\": \"Amongst non-matching record comparisons, 99.79% of records are in the all other comparisons comparison level\", \"has_tf_adjustments\": false, \"tf_adjustment_column\": null, \"tf_adjustment_weight\": 1.0, \"is_null_level\": false, \"bayes_factor\": 0.026899760202091748, \"log2_bayes_factor\": -5.216262877840225, \"comparison_vector_value\": 0, \"max_comparison_vector_value\": 2, \"bayes_factor_description\": \"If comparison level is `all other comparisons` then comparison is  37.18 times less likely to be a match\", \"probability_two_random_records_match\": 0.006563390187237986, \"comparison_sort_order\": 0, \"iteration\": 4}, {\"comparison_name\": \"middle_initial\", \"sql_condition\": \"\\\"middle_initial_l\\\" = \\\"middle_initial_r\\\"\", \"label_for_charts\": \"Exact match\", \"m_probability\": 0.9446025413357925, \"u_probability\": 0.07300510353598076, \"m_probability_description\": \"Amongst matching record comparisons, 94.46% of records are in the exact match comparison level\", \"u_probability_description\": \"Amongst non-matching record comparisons, 7.30% of records are in the exact match comparison level\", \"has_tf_adjustments\": false, \"tf_adjustment_column\": null, \"tf_adjustment_weight\": 1.0, \"is_null_level\": false, \"bayes_factor\": 12.938856265990262, \"log2_bayes_factor\": 3.693638190400894, \"comparison_vector_value\": 1, \"max_comparison_vector_value\": 1, \"bayes_factor_description\": \"If comparison level is `exact match` then comparison is 12.94 times more likely to be a match\", \"probability_two_random_records_match\": 0.006563390187237986, \"comparison_sort_order\": 1, \"iteration\": 4}, {\"comparison_name\": \"middle_initial\", \"sql_condition\": \"ELSE\", \"label_for_charts\": \"All other comparisons\", \"m_probability\": 0.055397458664207554, \"u_probability\": 0.9269948964640192, \"m_probability_description\": \"Amongst matching record comparisons, 5.54% of records are in the all other comparisons comparison level\", \"u_probability_description\": \"Amongst non-matching record comparisons, 92.70% of records are in the all other comparisons comparison level\", \"has_tf_adjustments\": false, \"tf_adjustment_column\": null, \"tf_adjustment_weight\": 1.0, \"is_null_level\": false, \"bayes_factor\": 0.05976026284019329, \"log2_bayes_factor\": -4.064669696309397, \"comparison_vector_value\": 0, \"max_comparison_vector_value\": 1, \"bayes_factor_description\": \"If comparison level is `all other comparisons` then comparison is  16.73 times less likely to be a match\", \"probability_two_random_records_match\": 0.006563390187237986, \"comparison_sort_order\": 1, \"iteration\": 4}, {\"comparison_name\": \"day_of_birth\", \"sql_condition\": \"\\\"day_of_birth_l\\\" = \\\"day_of_birth_r\\\"\", \"label_for_charts\": \"Exact match\", \"m_probability\": 0.9782215001026503, \"u_probability\": 0.03251748092886318, \"m_probability_description\": \"Amongst matching record comparisons, 97.82% of records are in the exact match comparison level\", \"u_probability_description\": \"Amongst non-matching record comparisons, 3.25% of records are in the exact match comparison level\", \"has_tf_adjustments\": false, \"tf_adjustment_column\": null, \"tf_adjustment_weight\": 1.0, \"is_null_level\": false, \"bayes_factor\": 30.08294222552648, \"log2_bayes_factor\": 4.910873769834891, \"comparison_vector_value\": 2, \"max_comparison_vector_value\": 2, \"bayes_factor_description\": \"If comparison level is `exact match` then comparison is 30.08 times more likely to be a match\", \"probability_two_random_records_match\": 0.006563390187237986, \"comparison_sort_order\": 2, \"iteration\": 4}, {\"comparison_name\": \"day_of_birth\", \"sql_condition\": \"abs(day_of_birth_l - day_of_birth_r) <= 5\", \"label_for_charts\": \"Inexact match\", \"m_probability\": 0.017208780888625447, \"u_probability\": 0.29545734380750305, \"m_probability_description\": \"Amongst matching record comparisons, 1.72% of records are in the inexact match comparison level\", \"u_probability_description\": \"Amongst non-matching record comparisons, 29.55% of records are in the inexact match comparison level\", \"has_tf_adjustments\": false, \"tf_adjustment_column\": null, \"tf_adjustment_weight\": 1.0, \"is_null_level\": false, \"bayes_factor\": 0.058244552891659876, \"log2_bayes_factor\": -4.1017330564652745, \"comparison_vector_value\": 1, \"max_comparison_vector_value\": 2, \"bayes_factor_description\": \"If comparison level is `inexact match` then comparison is  17.17 times less likely to be a match\", \"probability_two_random_records_match\": 0.006563390187237986, \"comparison_sort_order\": 2, \"iteration\": 4}, {\"comparison_name\": \"day_of_birth\", \"sql_condition\": \"ELSE\", \"label_for_charts\": \"All other comparisons\", \"m_probability\": 0.004569719008724317, \"u_probability\": 0.6720251752636338, \"m_probability_description\": \"Amongst matching record comparisons, 0.46% of records are in the all other comparisons comparison level\", \"u_probability_description\": \"Amongst non-matching record comparisons, 67.20% of records are in the all other comparisons comparison level\", \"has_tf_adjustments\": false, \"tf_adjustment_column\": null, \"tf_adjustment_weight\": 1.0, \"is_null_level\": false, \"bayes_factor\": 0.00679992234953345, \"log2_bayes_factor\": -7.200266012796558, \"comparison_vector_value\": 0, \"max_comparison_vector_value\": 2, \"bayes_factor_description\": \"If comparison level is `all other comparisons` then comparison is  147.06 times less likely to be a match\", \"probability_two_random_records_match\": 0.006563390187237986, \"comparison_sort_order\": 2, \"iteration\": 4}, {\"comparison_name\": \"month_of_birth\", \"sql_condition\": \"\\\"month_of_birth_l\\\" = \\\"month_of_birth_r\\\"\", \"label_for_charts\": \"Exact match\", \"m_probability\": 0.9866135444208861, \"u_probability\": 0.08324454672258141, \"m_probability_description\": \"Amongst matching record comparisons, 98.66% of records are in the exact match comparison level\", \"u_probability_description\": \"Amongst non-matching record comparisons, 8.32% of records are in the exact match comparison level\", \"has_tf_adjustments\": false, \"tf_adjustment_column\": null, \"tf_adjustment_weight\": 1.0, \"is_null_level\": false, \"bayes_factor\": 11.851990109440424, \"log2_bayes_factor\": 3.567057422361699, \"comparison_vector_value\": 2, \"max_comparison_vector_value\": 2, \"bayes_factor_description\": \"If comparison level is `exact match` then comparison is 11.85 times more likely to be a match\", \"probability_two_random_records_match\": 0.006563390187237986, \"comparison_sort_order\": 3, \"iteration\": 4}, {\"comparison_name\": \"month_of_birth\", \"sql_condition\": \"abs(month_of_birth_l - month_of_birth_r) <= 3\", \"label_for_charts\": \"Inexact match\", \"m_probability\": 0.007367634656851819, \"u_probability\": 0.41693832719210167, \"m_probability_description\": \"Amongst matching record comparisons, 0.74% of records are in the inexact match comparison level\", \"u_probability_description\": \"Amongst non-matching record comparisons, 41.69% of records are in the inexact match comparison level\", \"has_tf_adjustments\": false, \"tf_adjustment_column\": null, \"tf_adjustment_weight\": 1.0, \"is_null_level\": false, \"bayes_factor\": 0.01767080207394133, \"log2_bayes_factor\": -5.8224886647784695, \"comparison_vector_value\": 1, \"max_comparison_vector_value\": 2, \"bayes_factor_description\": \"If comparison level is `inexact match` then comparison is  56.59 times less likely to be a match\", \"probability_two_random_records_match\": 0.006563390187237986, \"comparison_sort_order\": 3, \"iteration\": 4}, {\"comparison_name\": \"month_of_birth\", \"sql_condition\": \"ELSE\", \"label_for_charts\": \"All other comparisons\", \"m_probability\": 0.006018820922262039, \"u_probability\": 0.4998171260853169, \"m_probability_description\": \"Amongst matching record comparisons, 0.60% of records are in the all other comparisons comparison level\", \"u_probability_description\": \"Amongst non-matching record comparisons, 49.98% of records are in the all other comparisons comparison level\", \"has_tf_adjustments\": false, \"tf_adjustment_column\": null, \"tf_adjustment_weight\": 1.0, \"is_null_level\": false, \"bayes_factor\": 0.012042046196781677, \"log2_bayes_factor\": -6.375775632633194, \"comparison_vector_value\": 0, \"max_comparison_vector_value\": 2, \"bayes_factor_description\": \"If comparison level is `all other comparisons` then comparison is  83.04 times less likely to be a match\", \"probability_two_random_records_match\": 0.006563390187237986, \"comparison_sort_order\": 3, \"iteration\": 4}, {\"comparison_name\": \"year_of_birth\", \"sql_condition\": \"\\\"year_of_birth_l\\\" = \\\"year_of_birth_r\\\"\", \"label_for_charts\": \"Exact match\", \"m_probability\": 0.9695054879885268, \"u_probability\": 0.011085112473136845, \"m_probability_description\": \"Amongst matching record comparisons, 96.95% of records are in the exact match comparison level\", \"u_probability_description\": \"Amongst non-matching record comparisons, 1.11% of records are in the exact match comparison level\", \"has_tf_adjustments\": false, \"tf_adjustment_column\": null, \"tf_adjustment_weight\": 1.0, \"is_null_level\": false, \"bayes_factor\": 87.46013992532616, \"log2_bayes_factor\": 6.450553751440632, \"comparison_vector_value\": 2, \"max_comparison_vector_value\": 2, \"bayes_factor_description\": \"If comparison level is `exact match` then comparison is 87.46 times more likely to be a match\", \"probability_two_random_records_match\": 0.006563390187237986, \"comparison_sort_order\": 4, \"iteration\": 4}, {\"comparison_name\": \"year_of_birth\", \"sql_condition\": \"abs(year_of_birth_l - year_of_birth_r) <= 5\", \"label_for_charts\": \"Inexact match\", \"m_probability\": 0.009961668048786636, \"u_probability\": 0.10968379850702191, \"m_probability_description\": \"Amongst matching record comparisons, 1.00% of records are in the inexact match comparison level\", \"u_probability_description\": \"Amongst non-matching record comparisons, 10.97% of records are in the inexact match comparison level\", \"has_tf_adjustments\": false, \"tf_adjustment_column\": null, \"tf_adjustment_weight\": 1.0, \"is_null_level\": false, \"bayes_factor\": 0.09082169093686972, \"log2_bayes_factor\": -3.4608192923702554, \"comparison_vector_value\": 1, \"max_comparison_vector_value\": 2, \"bayes_factor_description\": \"If comparison level is `inexact match` then comparison is  11.01 times less likely to be a match\", \"probability_two_random_records_match\": 0.006563390187237986, \"comparison_sort_order\": 4, \"iteration\": 4}, {\"comparison_name\": \"year_of_birth\", \"sql_condition\": \"ELSE\", \"label_for_charts\": \"All other comparisons\", \"m_probability\": 0.020532843962686585, \"u_probability\": 0.8792310890198413, \"m_probability_description\": \"Amongst matching record comparisons, 2.05% of records are in the all other comparisons comparison level\", \"u_probability_description\": \"Amongst non-matching record comparisons, 87.92% of records are in the all other comparisons comparison level\", \"has_tf_adjustments\": false, \"tf_adjustment_column\": null, \"tf_adjustment_weight\": 1.0, \"is_null_level\": false, \"bayes_factor\": 0.02335318236480515, \"log2_bayes_factor\": -5.420237028744041, \"comparison_vector_value\": 0, \"max_comparison_vector_value\": 2, \"bayes_factor_description\": \"If comparison level is `all other comparisons` then comparison is  42.82 times less likely to be a match\", \"probability_two_random_records_match\": 0.006563390187237986, \"comparison_sort_order\": 4, \"iteration\": 4}, {\"comparison_name\": \"geokey\", \"sql_condition\": \"\\\"geokey_l\\\" = \\\"geokey_r\\\"\", \"label_for_charts\": \"Exact match\", \"m_probability\": 0.608417574840648, \"u_probability\": 0.0024275211541129145, \"m_probability_description\": \"Amongst matching record comparisons, 60.84% of records are in the exact match comparison level\", \"u_probability_description\": \"Amongst non-matching record comparisons, 0.24% of records are in the exact match comparison level\", \"has_tf_adjustments\": false, \"tf_adjustment_column\": null, \"tf_adjustment_weight\": 1.0, \"is_null_level\": false, \"bayes_factor\": 250.63327411578464, \"log2_bayes_factor\": 7.969434149586753, \"comparison_vector_value\": 2, \"max_comparison_vector_value\": 2, \"bayes_factor_description\": \"If comparison level is `exact match` then comparison is 250.63 times more likely to be a match\", \"probability_two_random_records_match\": 0.006563390187237986, \"comparison_sort_order\": 5, \"iteration\": 4}, {\"comparison_name\": \"geokey\", \"sql_condition\": \"jaro_winkler_similarity(\\\"geokey_l\\\", \\\"geokey_r\\\") >= 0.7222222222222222\", \"label_for_charts\": \"Jaro_winkler_similarity >= 0.7222222222222222\", \"m_probability\": 0.3856977420754189, \"u_probability\": 0.2569010958524067, \"m_probability_description\": \"Amongst matching record comparisons, 38.57% of records are in the jaro_winkler_similarity >= 0.7222222222222222 comparison level\", \"u_probability_description\": \"Amongst non-matching record comparisons, 25.69% of records are in the jaro_winkler_similarity >= 0.7222222222222222 comparison level\", \"has_tf_adjustments\": false, \"tf_adjustment_column\": null, \"tf_adjustment_weight\": 1.0, \"is_null_level\": false, \"bayes_factor\": 1.50134720443936, \"log2_bayes_factor\": 0.5862576559710299, \"comparison_vector_value\": 1, \"max_comparison_vector_value\": 2, \"bayes_factor_description\": \"If comparison level is `jaro_winkler_similarity >= 0.7222222222222222` then comparison is 1.50 times more likely to be a match\", \"probability_two_random_records_match\": 0.006563390187237986, \"comparison_sort_order\": 5, \"iteration\": 4}, {\"comparison_name\": \"geokey\", \"sql_condition\": \"ELSE\", \"label_for_charts\": \"All other comparisons\", \"m_probability\": 0.005884683083933155, \"u_probability\": 0.7406713829934803, \"m_probability_description\": \"Amongst matching record comparisons, 0.59% of records are in the all other comparisons comparison level\", \"u_probability_description\": \"Amongst non-matching record comparisons, 74.07% of records are in the all other comparisons comparison level\", \"has_tf_adjustments\": false, \"tf_adjustment_column\": null, \"tf_adjustment_weight\": 1.0, \"is_null_level\": false, \"bayes_factor\": 0.007945066083355016, \"log2_bayes_factor\": -6.975725065373745, \"comparison_vector_value\": 0, \"max_comparison_vector_value\": 2, \"bayes_factor_description\": \"If comparison level is `all other comparisons` then comparison is  125.86 times less likely to be a match\", \"probability_two_random_records_match\": 0.006563390187237986, \"comparison_sort_order\": 5, \"iteration\": 4}, {\"comparison_name\": \"last_name_12\", \"sql_condition\": \"\\\"last_name_12_l\\\" = \\\"last_name_12_r\\\"\", \"label_for_charts\": \"Exact match\", \"m_probability\": 0.8790310132490157, \"u_probability\": 0.0006842173986881611, \"m_probability_description\": \"Amongst matching record comparisons, 87.90% of records are in the exact match comparison level\", \"u_probability_description\": \"Amongst non-matching record comparisons, 0.07% of records are in the exact match comparison level\", \"has_tf_adjustments\": false, \"tf_adjustment_column\": null, \"tf_adjustment_weight\": 1.0, \"is_null_level\": false, \"bayes_factor\": 1284.7247306694737, \"log2_bayes_factor\": 10.32724356062585, \"comparison_vector_value\": 2, \"max_comparison_vector_value\": 2, \"bayes_factor_description\": \"If comparison level is `exact match` then comparison is 1,284.72 times more likely to be a match\", \"probability_two_random_records_match\": 0.006563390187237986, \"comparison_sort_order\": 0, \"iteration\": 5}, {\"comparison_name\": \"last_name_12\", \"sql_condition\": \"jaro_winkler_similarity(\\\"last_name_12_l\\\", \\\"last_name_12_r\\\") >= 0.8333333333333334\", \"label_for_charts\": \"Jaro_winkler_similarity >= 0.8333333333333334\", \"m_probability\": 0.09413474811499295, \"u_probability\": 0.0013675335890361796, \"m_probability_description\": \"Amongst matching record comparisons, 9.41% of records are in the jaro_winkler_similarity >= 0.8333333333333334 comparison level\", \"u_probability_description\": \"Amongst non-matching record comparisons, 0.14% of records are in the jaro_winkler_similarity >= 0.8333333333333334 comparison level\", \"has_tf_adjustments\": false, \"tf_adjustment_column\": null, \"tf_adjustment_weight\": 1.0, \"is_null_level\": false, \"bayes_factor\": 68.83541937813602, \"log2_bayes_factor\": 6.105079191970297, \"comparison_vector_value\": 1, \"max_comparison_vector_value\": 2, \"bayes_factor_description\": \"If comparison level is `jaro_winkler_similarity >= 0.8333333333333334` then comparison is 68.84 times more likely to be a match\", \"probability_two_random_records_match\": 0.006563390187237986, \"comparison_sort_order\": 0, \"iteration\": 5}, {\"comparison_name\": \"last_name_12\", \"sql_condition\": \"ELSE\", \"label_for_charts\": \"All other comparisons\", \"m_probability\": 0.026834238635991325, \"u_probability\": 0.9979482490122756, \"m_probability_description\": \"Amongst matching record comparisons, 2.68% of records are in the all other comparisons comparison level\", \"u_probability_description\": \"Amongst non-matching record comparisons, 99.79% of records are in the all other comparisons comparison level\", \"has_tf_adjustments\": false, \"tf_adjustment_column\": null, \"tf_adjustment_weight\": 1.0, \"is_null_level\": false, \"bayes_factor\": 0.02688940900748175, \"log2_bayes_factor\": -5.21681814268387, \"comparison_vector_value\": 0, \"max_comparison_vector_value\": 2, \"bayes_factor_description\": \"If comparison level is `all other comparisons` then comparison is  37.19 times less likely to be a match\", \"probability_two_random_records_match\": 0.006563390187237986, \"comparison_sort_order\": 0, \"iteration\": 5}, {\"comparison_name\": \"middle_initial\", \"sql_condition\": \"\\\"middle_initial_l\\\" = \\\"middle_initial_r\\\"\", \"label_for_charts\": \"Exact match\", \"m_probability\": 0.9446040958650342, \"u_probability\": 0.07300510353598076, \"m_probability_description\": \"Amongst matching record comparisons, 94.46% of records are in the exact match comparison level\", \"u_probability_description\": \"Amongst non-matching record comparisons, 7.30% of records are in the exact match comparison level\", \"has_tf_adjustments\": false, \"tf_adjustment_column\": null, \"tf_adjustment_weight\": 1.0, \"is_null_level\": false, \"bayes_factor\": 12.938877559422727, \"log2_bayes_factor\": 3.693640564637342, \"comparison_vector_value\": 1, \"max_comparison_vector_value\": 1, \"bayes_factor_description\": \"If comparison level is `exact match` then comparison is 12.94 times more likely to be a match\", \"probability_two_random_records_match\": 0.006563390187237986, \"comparison_sort_order\": 1, \"iteration\": 5}, {\"comparison_name\": \"middle_initial\", \"sql_condition\": \"ELSE\", \"label_for_charts\": \"All other comparisons\", \"m_probability\": 0.0553959041349657, \"u_probability\": 0.9269948964640192, \"m_probability_description\": \"Amongst matching record comparisons, 5.54% of records are in the all other comparisons comparison level\", \"u_probability_description\": \"Amongst non-matching record comparisons, 92.70% of records are in the all other comparisons comparison level\", \"has_tf_adjustments\": false, \"tf_adjustment_column\": null, \"tf_adjustment_weight\": 1.0, \"is_null_level\": false, \"bayes_factor\": 0.059758585884637457, \"log2_bayes_factor\": -4.064710180893882, \"comparison_vector_value\": 0, \"max_comparison_vector_value\": 1, \"bayes_factor_description\": \"If comparison level is `all other comparisons` then comparison is  16.73 times less likely to be a match\", \"probability_two_random_records_match\": 0.006563390187237986, \"comparison_sort_order\": 1, \"iteration\": 5}, {\"comparison_name\": \"day_of_birth\", \"sql_condition\": \"\\\"day_of_birth_l\\\" = \\\"day_of_birth_r\\\"\", \"label_for_charts\": \"Exact match\", \"m_probability\": 0.9782850863565768, \"u_probability\": 0.03251748092886318, \"m_probability_description\": \"Amongst matching record comparisons, 97.83% of records are in the exact match comparison level\", \"u_probability_description\": \"Amongst non-matching record comparisons, 3.25% of records are in the exact match comparison level\", \"has_tf_adjustments\": false, \"tf_adjustment_column\": null, \"tf_adjustment_weight\": 1.0, \"is_null_level\": false, \"bayes_factor\": 30.084897673861047, \"log2_bayes_factor\": 4.910967544702685, \"comparison_vector_value\": 2, \"max_comparison_vector_value\": 2, \"bayes_factor_description\": \"If comparison level is `exact match` then comparison is 30.08 times more likely to be a match\", \"probability_two_random_records_match\": 0.006563390187237986, \"comparison_sort_order\": 2, \"iteration\": 5}, {\"comparison_name\": \"day_of_birth\", \"sql_condition\": \"abs(day_of_birth_l - day_of_birth_r) <= 5\", \"label_for_charts\": \"Inexact match\", \"m_probability\": 0.01719854940983155, \"u_probability\": 0.29545734380750305, \"m_probability_description\": \"Amongst matching record comparisons, 1.72% of records are in the inexact match comparison level\", \"u_probability_description\": \"Amongst non-matching record comparisons, 29.55% of records are in the inexact match comparison level\", \"has_tf_adjustments\": false, \"tf_adjustment_column\": null, \"tf_adjustment_weight\": 1.0, \"is_null_level\": false, \"bayes_factor\": 0.058209923599112784, \"log2_bayes_factor\": -4.102591065733878, \"comparison_vector_value\": 1, \"max_comparison_vector_value\": 2, \"bayes_factor_description\": \"If comparison level is `inexact match` then comparison is  17.18 times less likely to be a match\", \"probability_two_random_records_match\": 0.006563390187237986, \"comparison_sort_order\": 2, \"iteration\": 5}, {\"comparison_name\": \"day_of_birth\", \"sql_condition\": \"ELSE\", \"label_for_charts\": \"All other comparisons\", \"m_probability\": 0.004516364233591675, \"u_probability\": 0.6720251752636338, \"m_probability_description\": \"Amongst matching record comparisons, 0.45% of records are in the all other comparisons comparison level\", \"u_probability_description\": \"Amongst non-matching record comparisons, 67.20% of records are in the all other comparisons comparison level\", \"has_tf_adjustments\": false, \"tf_adjustment_column\": null, \"tf_adjustment_weight\": 1.0, \"is_null_level\": false, \"bayes_factor\": 0.00672052833708189, \"log2_bayes_factor\": -7.217209629139347, \"comparison_vector_value\": 0, \"max_comparison_vector_value\": 2, \"bayes_factor_description\": \"If comparison level is `all other comparisons` then comparison is  148.80 times less likely to be a match\", \"probability_two_random_records_match\": 0.006563390187237986, \"comparison_sort_order\": 2, \"iteration\": 5}, {\"comparison_name\": \"month_of_birth\", \"sql_condition\": \"\\\"month_of_birth_l\\\" = \\\"month_of_birth_r\\\"\", \"label_for_charts\": \"Exact match\", \"m_probability\": 0.9866613211352474, \"u_probability\": 0.08324454672258141, \"m_probability_description\": \"Amongst matching record comparisons, 98.67% of records are in the exact match comparison level\", \"u_probability_description\": \"Amongst non-matching record comparisons, 8.32% of records are in the exact match comparison level\", \"has_tf_adjustments\": false, \"tf_adjustment_column\": null, \"tf_adjustment_weight\": 1.0, \"is_null_level\": false, \"bayes_factor\": 11.85256404150255, \"log2_bayes_factor\": 3.5671272831095306, \"comparison_vector_value\": 2, \"max_comparison_vector_value\": 2, \"bayes_factor_description\": \"If comparison level is `exact match` then comparison is 11.85 times more likely to be a match\", \"probability_two_random_records_match\": 0.006563390187237986, \"comparison_sort_order\": 3, \"iteration\": 5}, {\"comparison_name\": \"month_of_birth\", \"sql_condition\": \"abs(month_of_birth_l - month_of_birth_r) <= 3\", \"label_for_charts\": \"Inexact match\", \"m_probability\": 0.0073550956205266724, \"u_probability\": 0.41693832719210167, \"m_probability_description\": \"Amongst matching record comparisons, 0.74% of records are in the inexact match comparison level\", \"u_probability_description\": \"Amongst non-matching record comparisons, 41.69% of records are in the inexact match comparison level\", \"has_tf_adjustments\": false, \"tf_adjustment_column\": null, \"tf_adjustment_weight\": 1.0, \"is_null_level\": false, \"bayes_factor\": 0.017640727994617435, \"log2_bayes_factor\": -5.824946090752715, \"comparison_vector_value\": 1, \"max_comparison_vector_value\": 2, \"bayes_factor_description\": \"If comparison level is `inexact match` then comparison is  56.69 times less likely to be a match\", \"probability_two_random_records_match\": 0.006563390187237986, \"comparison_sort_order\": 3, \"iteration\": 5}, {\"comparison_name\": \"month_of_birth\", \"sql_condition\": \"ELSE\", \"label_for_charts\": \"All other comparisons\", \"m_probability\": 0.005983583244225981, \"u_probability\": 0.4998171260853169, \"m_probability_description\": \"Amongst matching record comparisons, 0.60% of records are in the all other comparisons comparison level\", \"u_probability_description\": \"Amongst non-matching record comparisons, 49.98% of records are in the all other comparisons comparison level\", \"has_tf_adjustments\": false, \"tf_adjustment_column\": null, \"tf_adjustment_weight\": 1.0, \"is_null_level\": false, \"bayes_factor\": 0.011971545055070013, \"log2_bayes_factor\": -6.384246830355435, \"comparison_vector_value\": 0, \"max_comparison_vector_value\": 2, \"bayes_factor_description\": \"If comparison level is `all other comparisons` then comparison is  83.53 times less likely to be a match\", \"probability_two_random_records_match\": 0.006563390187237986, \"comparison_sort_order\": 3, \"iteration\": 5}, {\"comparison_name\": \"year_of_birth\", \"sql_condition\": \"\\\"year_of_birth_l\\\" = \\\"year_of_birth_r\\\"\", \"label_for_charts\": \"Exact match\", \"m_probability\": 0.9695291663467879, \"u_probability\": 0.011085112473136845, \"m_probability_description\": \"Amongst matching record comparisons, 96.95% of records are in the exact match comparison level\", \"u_probability_description\": \"Amongst non-matching record comparisons, 1.11% of records are in the exact match comparison level\", \"has_tf_adjustments\": false, \"tf_adjustment_column\": null, \"tf_adjustment_weight\": 1.0, \"is_null_level\": false, \"bayes_factor\": 87.4622759756656, \"log2_bayes_factor\": 6.450588986138439, \"comparison_vector_value\": 2, \"max_comparison_vector_value\": 2, \"bayes_factor_description\": \"If comparison level is `exact match` then comparison is 87.46 times more likely to be a match\", \"probability_two_random_records_match\": 0.006563390187237986, \"comparison_sort_order\": 4, \"iteration\": 5}, {\"comparison_name\": \"year_of_birth\", \"sql_condition\": \"abs(year_of_birth_l - year_of_birth_r) <= 5\", \"label_for_charts\": \"Inexact match\", \"m_probability\": 0.0099541842917677, \"u_probability\": 0.10968379850702191, \"m_probability_description\": \"Amongst matching record comparisons, 1.00% of records are in the inexact match comparison level\", \"u_probability_description\": \"Amongst non-matching record comparisons, 10.97% of records are in the inexact match comparison level\", \"has_tf_adjustments\": false, \"tf_adjustment_column\": null, \"tf_adjustment_weight\": 1.0, \"is_null_level\": false, \"bayes_factor\": 0.09075346065016555, \"log2_bayes_factor\": -3.4619035321468905, \"comparison_vector_value\": 1, \"max_comparison_vector_value\": 2, \"bayes_factor_description\": \"If comparison level is `inexact match` then comparison is  11.02 times less likely to be a match\", \"probability_two_random_records_match\": 0.006563390187237986, \"comparison_sort_order\": 4, \"iteration\": 5}, {\"comparison_name\": \"year_of_birth\", \"sql_condition\": \"ELSE\", \"label_for_charts\": \"All other comparisons\", \"m_probability\": 0.02051664936144439, \"u_probability\": 0.8792310890198413, \"m_probability_description\": \"Amongst matching record comparisons, 2.05% of records are in the all other comparisons comparison level\", \"u_probability_description\": \"Amongst non-matching record comparisons, 87.92% of records are in the all other comparisons comparison level\", \"has_tf_adjustments\": false, \"tf_adjustment_column\": null, \"tf_adjustment_weight\": 1.0, \"is_null_level\": false, \"bayes_factor\": 0.023334763314973497, \"log2_bayes_factor\": -5.421375355686541, \"comparison_vector_value\": 0, \"max_comparison_vector_value\": 2, \"bayes_factor_description\": \"If comparison level is `all other comparisons` then comparison is  42.85 times less likely to be a match\", \"probability_two_random_records_match\": 0.006563390187237986, \"comparison_sort_order\": 4, \"iteration\": 5}, {\"comparison_name\": \"geokey\", \"sql_condition\": \"\\\"geokey_l\\\" = \\\"geokey_r\\\"\", \"label_for_charts\": \"Exact match\", \"m_probability\": 0.6084207962592272, \"u_probability\": 0.0024275211541129145, \"m_probability_description\": \"Amongst matching record comparisons, 60.84% of records are in the exact match comparison level\", \"u_probability_description\": \"Amongst non-matching record comparisons, 0.24% of records are in the exact match comparison level\", \"has_tf_adjustments\": false, \"tf_adjustment_column\": null, \"tf_adjustment_weight\": 1.0, \"is_null_level\": false, \"bayes_factor\": 250.6346011561582, \"log2_bayes_factor\": 7.969441788275209, \"comparison_vector_value\": 2, \"max_comparison_vector_value\": 2, \"bayes_factor_description\": \"If comparison level is `exact match` then comparison is 250.63 times more likely to be a match\", \"probability_two_random_records_match\": 0.006563390187237986, \"comparison_sort_order\": 5, \"iteration\": 5}, {\"comparison_name\": \"geokey\", \"sql_condition\": \"jaro_winkler_similarity(\\\"geokey_l\\\", \\\"geokey_r\\\") >= 0.7222222222222222\", \"label_for_charts\": \"Jaro_winkler_similarity >= 0.7222222222222222\", \"m_probability\": 0.3856941113786568, \"u_probability\": 0.2569010958524067, \"m_probability_description\": \"Amongst matching record comparisons, 38.57% of records are in the jaro_winkler_similarity >= 0.7222222222222222 comparison level\", \"u_probability_description\": \"Amongst non-matching record comparisons, 25.69% of records are in the jaro_winkler_similarity >= 0.7222222222222222 comparison level\", \"has_tf_adjustments\": false, \"tf_adjustment_column\": null, \"tf_adjustment_weight\": 1.0, \"is_null_level\": false, \"bayes_factor\": 1.5013330717757758, \"log2_bayes_factor\": 0.5862440753551853, \"comparison_vector_value\": 1, \"max_comparison_vector_value\": 2, \"bayes_factor_description\": \"If comparison level is `jaro_winkler_similarity >= 0.7222222222222222` then comparison is 1.50 times more likely to be a match\", \"probability_two_random_records_match\": 0.006563390187237986, \"comparison_sort_order\": 5, \"iteration\": 5}, {\"comparison_name\": \"geokey\", \"sql_condition\": \"ELSE\", \"label_for_charts\": \"All other comparisons\", \"m_probability\": 0.005885092362116106, \"u_probability\": 0.7406713829934803, \"m_probability_description\": \"Amongst matching record comparisons, 0.59% of records are in the all other comparisons comparison level\", \"u_probability_description\": \"Amongst non-matching record comparisons, 74.07% of records are in the all other comparisons comparison level\", \"has_tf_adjustments\": false, \"tf_adjustment_column\": null, \"tf_adjustment_weight\": 1.0, \"is_null_level\": false, \"bayes_factor\": 0.007945618660641448, \"log2_bayes_factor\": -6.9756247297967695, \"comparison_vector_value\": 0, \"max_comparison_vector_value\": 2, \"bayes_factor_description\": \"If comparison level is `all other comparisons` then comparison is  125.86 times less likely to be a match\", \"probability_two_random_records_match\": 0.006563390187237986, \"comparison_sort_order\": 5, \"iteration\": 5}]}}, {\"mode\": \"vega-lite\"});\n",
       "</script>"
      ],
      "text/plain": [
       "alt.HConcatChart(...)"
      ]
     },
     "execution_count": 57,
     "metadata": {},
     "output_type": "execute_result"
    }
   ],
   "source": [
    "em_session_1.m_u_values_interactive_history_chart()"
   ]
  },
  {
   "cell_type": "code",
   "execution_count": 58,
   "id": "13eae59d-f450-46df-99b6-79b2a8dfae6f",
   "metadata": {
    "execution": {
     "iopub.execute_input": "2024-05-16T17:21:09.714421Z",
     "iopub.status.busy": "2024-05-16T17:21:09.713812Z",
     "iopub.status.idle": "2024-05-16T17:21:10.030135Z",
     "shell.execute_reply": "2024-05-16T17:21:10.029295Z"
    },
    "papermill": {
     "duration": 0.34971,
     "end_time": "2024-05-16T17:21:10.036842",
     "exception": false,
     "start_time": "2024-05-16T17:21:09.687132",
     "status": "completed"
    },
    "tags": []
   },
   "outputs": [
    {
     "data": {
      "text/html": [
       "\n",
       "<style>\n",
       "  #altair-viz-281f6b76b6b1416289453e42e2db8524.vega-embed {\n",
       "    width: 100%;\n",
       "    display: flex;\n",
       "  }\n",
       "\n",
       "  #altair-viz-281f6b76b6b1416289453e42e2db8524.vega-embed details,\n",
       "  #altair-viz-281f6b76b6b1416289453e42e2db8524.vega-embed details summary {\n",
       "    position: relative;\n",
       "  }\n",
       "</style>\n",
       "<div id=\"altair-viz-281f6b76b6b1416289453e42e2db8524\"></div>\n",
       "<script type=\"text/javascript\">\n",
       "  var VEGA_DEBUG = (typeof VEGA_DEBUG == \"undefined\") ? {} : VEGA_DEBUG;\n",
       "  (function(spec, embedOpt){\n",
       "    let outputDiv = document.currentScript.previousElementSibling;\n",
       "    if (outputDiv.id !== \"altair-viz-281f6b76b6b1416289453e42e2db8524\") {\n",
       "      outputDiv = document.getElementById(\"altair-viz-281f6b76b6b1416289453e42e2db8524\");\n",
       "    }\n",
       "    const paths = {\n",
       "      \"vega\": \"https://cdn.jsdelivr.net/npm/vega@5?noext\",\n",
       "      \"vega-lib\": \"https://cdn.jsdelivr.net/npm/vega-lib?noext\",\n",
       "      \"vega-lite\": \"https://cdn.jsdelivr.net/npm/vega-lite@5.17.0?noext\",\n",
       "      \"vega-embed\": \"https://cdn.jsdelivr.net/npm/vega-embed@6?noext\",\n",
       "    };\n",
       "\n",
       "    function maybeLoadScript(lib, version) {\n",
       "      var key = `${lib.replace(\"-\", \"\")}_version`;\n",
       "      return (VEGA_DEBUG[key] == version) ?\n",
       "        Promise.resolve(paths[lib]) :\n",
       "        new Promise(function(resolve, reject) {\n",
       "          var s = document.createElement('script');\n",
       "          document.getElementsByTagName(\"head\")[0].appendChild(s);\n",
       "          s.async = true;\n",
       "          s.onload = () => {\n",
       "            VEGA_DEBUG[key] = version;\n",
       "            return resolve(paths[lib]);\n",
       "          };\n",
       "          s.onerror = () => reject(`Error loading script: ${paths[lib]}`);\n",
       "          s.src = paths[lib];\n",
       "        });\n",
       "    }\n",
       "\n",
       "    function showError(err) {\n",
       "      outputDiv.innerHTML = `<div class=\"error\" style=\"color:red;\">${err}</div>`;\n",
       "      throw err;\n",
       "    }\n",
       "\n",
       "    function displayChart(vegaEmbed) {\n",
       "      vegaEmbed(outputDiv, spec, embedOpt)\n",
       "        .catch(err => showError(`Javascript Error: ${err.message}<br>This usually means there's a typo in your chart specification. See the javascript console for the full traceback.`));\n",
       "    }\n",
       "\n",
       "    if(typeof define === \"function\" && define.amd) {\n",
       "      requirejs.config({paths});\n",
       "      require([\"vega-embed\"], displayChart, err => showError(`Error loading script: ${err.message}`));\n",
       "    } else {\n",
       "      maybeLoadScript(\"vega\", \"5\")\n",
       "        .then(() => maybeLoadScript(\"vega-lite\", \"5.17.0\"))\n",
       "        .then(() => maybeLoadScript(\"vega-embed\", \"6\"))\n",
       "        .catch(showError)\n",
       "        .then(() => displayChart(vegaEmbed));\n",
       "    }\n",
       "  })({\"config\": {\"view\": {\"continuousWidth\": 300, \"continuousHeight\": 300, \"discreteHeight\": 60, \"discreteWidth\": 400}, \"header\": {\"title\": null}, \"mark\": {\"tooltip\": null}, \"title\": {\"anchor\": \"middle\"}}, \"vconcat\": [{\"mark\": {\"type\": \"bar\", \"clip\": true, \"height\": 15}, \"encoding\": {\"color\": {\"field\": \"log2_bayes_factor\", \"scale\": {\"domain\": [-10, 0, 10], \"interpolate\": \"lab\", \"range\": [\"red\", \"#bbbbbb\", \"green\"]}, \"title\": \"Match weight\", \"type\": \"quantitative\"}, \"tooltip\": [{\"field\": \"comparison_name\", \"title\": \"Comparison name\", \"type\": \"nominal\"}, {\"field\": \"probability_two_random_records_match\", \"format\": \".4f\", \"title\": \"Probability two random records match\", \"type\": \"nominal\"}, {\"field\": \"log2_bayes_factor\", \"format\": \",.4f\", \"title\": \"Equivalent match weight\", \"type\": \"quantitative\"}, {\"field\": \"bayes_factor_description\", \"title\": \"Match weight description\", \"type\": \"nominal\"}], \"x\": {\"axis\": {\"domain\": false, \"gridColor\": {\"condition\": {\"test\": \"abs(datum.value / 10)  <= 1 & datum.value % 10 === 0\", \"value\": \"#aaa\"}, \"value\": \"#ddd\"}, \"gridDash\": {\"condition\": {\"test\": \"abs(datum.value / 10) == 1\", \"value\": [3]}, \"value\": null}, \"gridWidth\": {\"condition\": {\"test\": \"abs(datum.value / 10)  <= 1 & datum.value % 10 === 0\", \"value\": 2}, \"value\": 1}, \"labels\": false, \"ticks\": false, \"title\": \"\"}, \"field\": \"log2_bayes_factor\", \"scale\": {\"domain\": [-10, 10]}, \"type\": \"quantitative\"}, \"y\": {\"axis\": {\"title\": \"Prior (starting) match weight\", \"titleAlign\": \"right\", \"titleAngle\": 0, \"titleFontWeight\": \"normal\"}, \"field\": \"label_for_charts\", \"sort\": {\"field\": \"comparison_vector_value\", \"order\": \"descending\"}, \"type\": \"nominal\"}}, \"height\": 20, \"transform\": [{\"filter\": \"(datum.comparison_name == 'probability_two_random_records_match')\"}]}, {\"mark\": {\"type\": \"bar\", \"clip\": true}, \"encoding\": {\"color\": {\"field\": \"log2_bayes_factor\", \"scale\": {\"domain\": [-10, 0, 10], \"interpolate\": \"lab\", \"range\": [\"red\", \"#bbbbbb\", \"green\"]}, \"title\": \"Match weight\", \"type\": \"quantitative\"}, \"row\": {\"field\": \"comparison_name\", \"header\": {\"labelAlign\": \"left\", \"labelAnchor\": \"middle\", \"labelAngle\": 0}, \"sort\": {\"field\": \"comparison_sort_order\"}, \"type\": \"nominal\"}, \"tooltip\": [{\"field\": \"comparison_name\", \"title\": \"Comparison name\", \"type\": \"nominal\"}, {\"field\": \"label_for_charts\", \"title\": \"Label\", \"type\": \"ordinal\"}, {\"field\": \"sql_condition\", \"title\": \"SQL condition\", \"type\": \"nominal\"}, {\"field\": \"m_probability\", \"format\": \".4f\", \"title\": \"M probability\", \"type\": \"quantitative\"}, {\"field\": \"u_probability\", \"format\": \".4f\", \"title\": \"U probability\", \"type\": \"quantitative\"}, {\"field\": \"bayes_factor\", \"format\": \",.4f\", \"title\": \"Bayes factor = m/u\", \"type\": \"quantitative\"}, {\"field\": \"log2_bayes_factor\", \"format\": \",.4f\", \"title\": \"Match weight = log2(m/u)\", \"type\": \"quantitative\"}, {\"field\": \"bayes_factor_description\", \"title\": \"Match weight description\", \"type\": \"nominal\"}], \"x\": {\"axis\": {\"gridColor\": {\"condition\": {\"test\": \"abs(datum.value / 10)  <= 1 & datum.value % 10 === 0\", \"value\": \"#aaa\"}, \"value\": \"#ddd\"}, \"gridDash\": {\"condition\": {\"test\": \"abs(datum.value / 10) == 1\", \"value\": [3]}, \"value\": null}, \"gridWidth\": {\"condition\": {\"test\": \"abs(datum.value / 10)  <= 1 & datum.value % 10 === 0\", \"value\": 2}, \"value\": 1}, \"title\": \"Comparison level match weight = log2(m/u)\"}, \"field\": \"log2_bayes_factor\", \"scale\": {\"domain\": [-10, 10]}, \"type\": \"quantitative\"}, \"y\": {\"axis\": {\"title\": null}, \"field\": \"label_for_charts\", \"sort\": {\"field\": \"comparison_vector_value\", \"order\": \"descending\"}, \"type\": \"nominal\"}}, \"height\": {\"step\": 12}, \"resolve\": {\"axis\": {\"y\": \"independent\"}, \"scale\": {\"y\": \"independent\"}}, \"transform\": [{\"filter\": \"(datum.comparison_name != 'probability_two_random_records_match')\"}]}], \"data\": {\"name\": \"data-22cf4f274beed3d669244d938c6e1ab5\"}, \"params\": [{\"name\": \"iteration_number\", \"bind\": {\"input\": \"range\", \"max\": 5, \"min\": 0, \"step\": 1}, \"value\": 5}, {\"name\": \"mouse_zoom\", \"select\": {\"type\": \"interval\", \"encodings\": [\"x\"]}, \"bind\": \"scales\", \"views\": []}], \"resolve\": {\"axis\": {\"y\": \"independent\"}, \"scale\": {\"y\": \"independent\"}}, \"title\": {\"text\": \"Model parameters (components of final match weight)\", \"subtitle\": \"Training session blocked on <Custom blocking rule using SQL: l.first_name_15 = r.first_name_15 and l.zipcode = r.zipcode>\"}, \"transform\": [{\"filter\": \"(datum.iteration == iteration_number)\"}], \"$schema\": \"https://vega.github.io/schema/vega-lite/v5.9.3.json\", \"datasets\": {\"data-22cf4f274beed3d669244d938c6e1ab5\": [{\"comparison_name\": \"probability_two_random_records_match\", \"sql_condition\": null, \"label_for_charts\": \"\", \"m_probability\": null, \"u_probability\": null, \"m_probability_description\": null, \"u_probability_description\": null, \"has_tf_adjustments\": false, \"tf_adjustment_column\": null, \"tf_adjustment_weight\": null, \"is_null_level\": false, \"bayes_factor\": 0.006606752884288229, \"log2_bayes_factor\": -7.241842900788313, \"comparison_vector_value\": 0, \"max_comparison_vector_value\": 0, \"bayes_factor_description\": \"The probability that two random records drawn at random match is 0.007 or one in  152.4 records.This is equivalent to a starting match weight of -7.242.\", \"probability_two_random_records_match\": 0.006563390187237986, \"comparison_sort_order\": -1, \"iteration\": 0}, {\"comparison_name\": \"last_name_12\", \"sql_condition\": \"\\\"last_name_12_l\\\" = \\\"last_name_12_r\\\"\", \"label_for_charts\": \"Exact match\", \"m_probability\": 0.95, \"u_probability\": 0.0006842173986881611, \"m_probability_description\": \"Amongst matching record comparisons, 95.00% of records are in the exact match comparison level\", \"u_probability_description\": \"Amongst non-matching record comparisons, 0.07% of records are in the exact match comparison level\", \"has_tf_adjustments\": false, \"tf_adjustment_column\": null, \"tf_adjustment_weight\": 1.0, \"is_null_level\": false, \"bayes_factor\": 1388.4475925654908, \"log2_bayes_factor\": 10.439257007823327, \"comparison_vector_value\": 2, \"max_comparison_vector_value\": 2, \"bayes_factor_description\": \"If comparison level is `exact match` then comparison is 1,388.45 times more likely to be a match\", \"probability_two_random_records_match\": 0.006563390187237986, \"comparison_sort_order\": 0, \"iteration\": 0}, {\"comparison_name\": \"last_name_12\", \"sql_condition\": \"jaro_winkler_similarity(\\\"last_name_12_l\\\", \\\"last_name_12_r\\\") >= 0.8333333333333334\", \"label_for_charts\": \"Jaro_winkler_similarity >= 0.8333333333333334\", \"m_probability\": 0.025000000000000022, \"u_probability\": 0.0013675335890361796, \"m_probability_description\": \"Amongst matching record comparisons, 2.50% of records are in the jaro_winkler_similarity >= 0.8333333333333334 comparison level\", \"u_probability_description\": \"Amongst non-matching record comparisons, 0.14% of records are in the jaro_winkler_similarity >= 0.8333333333333334 comparison level\", \"has_tf_adjustments\": false, \"tf_adjustment_column\": null, \"tf_adjustment_weight\": 1.0, \"is_null_level\": false, \"bayes_factor\": 18.28108662224502, \"log2_bayes_factor\": 4.192279921187751, \"comparison_vector_value\": 1, \"max_comparison_vector_value\": 2, \"bayes_factor_description\": \"If comparison level is `jaro_winkler_similarity >= 0.8333333333333334` then comparison is 18.28 times more likely to be a match\", \"probability_two_random_records_match\": 0.006563390187237986, \"comparison_sort_order\": 0, \"iteration\": 0}, {\"comparison_name\": \"last_name_12\", \"sql_condition\": \"ELSE\", \"label_for_charts\": \"All other comparisons\", \"m_probability\": 0.025000000000000022, \"u_probability\": 0.9979482490122756, \"m_probability_description\": \"Amongst matching record comparisons, 2.50% of records are in the all other comparisons comparison level\", \"u_probability_description\": \"Amongst non-matching record comparisons, 99.79% of records are in the all other comparisons comparison level\", \"has_tf_adjustments\": false, \"tf_adjustment_column\": null, \"tf_adjustment_weight\": 1.0, \"is_null_level\": false, \"bayes_factor\": 0.025051399233120455, \"log2_bayes_factor\": -5.318965003108449, \"comparison_vector_value\": 0, \"max_comparison_vector_value\": 2, \"bayes_factor_description\": \"If comparison level is `all other comparisons` then comparison is  39.92 times less likely to be a match\", \"probability_two_random_records_match\": 0.006563390187237986, \"comparison_sort_order\": 0, \"iteration\": 0}, {\"comparison_name\": \"middle_initial\", \"sql_condition\": \"\\\"middle_initial_l\\\" = \\\"middle_initial_r\\\"\", \"label_for_charts\": \"Exact match\", \"m_probability\": 0.95, \"u_probability\": 0.07300510353598076, \"m_probability_description\": \"Amongst matching record comparisons, 95.00% of records are in the exact match comparison level\", \"u_probability_description\": \"Amongst non-matching record comparisons, 7.30% of records are in the exact match comparison level\", \"has_tf_adjustments\": false, \"tf_adjustment_column\": null, \"tf_adjustment_weight\": 1.0, \"is_null_level\": false, \"bayes_factor\": 13.01278888717403, \"log2_bayes_factor\": 3.701858286958994, \"comparison_vector_value\": 1, \"max_comparison_vector_value\": 1, \"bayes_factor_description\": \"If comparison level is `exact match` then comparison is 13.01 times more likely to be a match\", \"probability_two_random_records_match\": 0.006563390187237986, \"comparison_sort_order\": 1, \"iteration\": 0}, {\"comparison_name\": \"middle_initial\", \"sql_condition\": \"ELSE\", \"label_for_charts\": \"All other comparisons\", \"m_probability\": 0.050000000000000044, \"u_probability\": 0.9269948964640192, \"m_probability_description\": \"Amongst matching record comparisons, 5.00% of records are in the all other comparisons comparison level\", \"u_probability_description\": \"Amongst non-matching record comparisons, 92.70% of records are in the all other comparisons comparison level\", \"has_tf_adjustments\": false, \"tf_adjustment_column\": null, \"tf_adjustment_weight\": 1.0, \"is_null_level\": false, \"bayes_factor\": 0.05393772952874155, \"log2_bayes_factor\": -4.2125613961686925, \"comparison_vector_value\": 0, \"max_comparison_vector_value\": 1, \"bayes_factor_description\": \"If comparison level is `all other comparisons` then comparison is  18.54 times less likely to be a match\", \"probability_two_random_records_match\": 0.006563390187237986, \"comparison_sort_order\": 1, \"iteration\": 0}, {\"comparison_name\": \"day_of_birth\", \"sql_condition\": \"\\\"day_of_birth_l\\\" = \\\"day_of_birth_r\\\"\", \"label_for_charts\": \"Exact match\", \"m_probability\": 0.95, \"u_probability\": 0.03251748092886318, \"m_probability_description\": \"Amongst matching record comparisons, 95.00% of records are in the exact match comparison level\", \"u_probability_description\": \"Amongst non-matching record comparisons, 3.25% of records are in the exact match comparison level\", \"has_tf_adjustments\": false, \"tf_adjustment_column\": null, \"tf_adjustment_weight\": 1.0, \"is_null_level\": false, \"bayes_factor\": 29.21505519072237, \"log2_bayes_factor\": 4.868640109595823, \"comparison_vector_value\": 2, \"max_comparison_vector_value\": 2, \"bayes_factor_description\": \"If comparison level is `exact match` then comparison is 29.22 times more likely to be a match\", \"probability_two_random_records_match\": 0.006563390187237986, \"comparison_sort_order\": 2, \"iteration\": 0}, {\"comparison_name\": \"day_of_birth\", \"sql_condition\": \"abs(day_of_birth_l - day_of_birth_r) <= 5\", \"label_for_charts\": \"Inexact match\", \"m_probability\": 0.025000000000000022, \"u_probability\": 0.29545734380750305, \"m_probability_description\": \"Amongst matching record comparisons, 2.50% of records are in the inexact match comparison level\", \"u_probability_description\": \"Amongst non-matching record comparisons, 29.55% of records are in the inexact match comparison level\", \"has_tf_adjustments\": false, \"tf_adjustment_column\": null, \"tf_adjustment_weight\": 1.0, \"is_null_level\": false, \"bayes_factor\": 0.0846145832011814, \"log2_bayes_factor\": -3.5629498585939174, \"comparison_vector_value\": 1, \"max_comparison_vector_value\": 2, \"bayes_factor_description\": \"If comparison level is `inexact match` then comparison is  11.82 times less likely to be a match\", \"probability_two_random_records_match\": 0.006563390187237986, \"comparison_sort_order\": 2, \"iteration\": 0}, {\"comparison_name\": \"day_of_birth\", \"sql_condition\": \"ELSE\", \"label_for_charts\": \"All other comparisons\", \"m_probability\": 0.025000000000000022, \"u_probability\": 0.6720251752636338, \"m_probability_description\": \"Amongst matching record comparisons, 2.50% of records are in the all other comparisons comparison level\", \"u_probability_description\": \"Amongst non-matching record comparisons, 67.20% of records are in the all other comparisons comparison level\", \"has_tf_adjustments\": false, \"tf_adjustment_column\": null, \"tf_adjustment_weight\": 1.0, \"is_null_level\": false, \"bayes_factor\": 0.037200987284728704, \"log2_bayes_factor\": -4.748515279949985, \"comparison_vector_value\": 0, \"max_comparison_vector_value\": 2, \"bayes_factor_description\": \"If comparison level is `all other comparisons` then comparison is  26.88 times less likely to be a match\", \"probability_two_random_records_match\": 0.006563390187237986, \"comparison_sort_order\": 2, \"iteration\": 0}, {\"comparison_name\": \"month_of_birth\", \"sql_condition\": \"\\\"month_of_birth_l\\\" = \\\"month_of_birth_r\\\"\", \"label_for_charts\": \"Exact match\", \"m_probability\": 0.95, \"u_probability\": 0.08324454672258141, \"m_probability_description\": \"Amongst matching record comparisons, 95.00% of records are in the exact match comparison level\", \"u_probability_description\": \"Amongst non-matching record comparisons, 8.32% of records are in the exact match comparison level\", \"has_tf_adjustments\": false, \"tf_adjustment_column\": null, \"tf_adjustment_weight\": 1.0, \"is_null_level\": false, \"bayes_factor\": 11.41215896298823, \"log2_bayes_factor\": 3.5124998427413607, \"comparison_vector_value\": 2, \"max_comparison_vector_value\": 2, \"bayes_factor_description\": \"If comparison level is `exact match` then comparison is 11.41 times more likely to be a match\", \"probability_two_random_records_match\": 0.006563390187237986, \"comparison_sort_order\": 3, \"iteration\": 0}, {\"comparison_name\": \"month_of_birth\", \"sql_condition\": \"abs(month_of_birth_l - month_of_birth_r) <= 3\", \"label_for_charts\": \"Inexact match\", \"m_probability\": 0.025000000000000022, \"u_probability\": 0.41693832719210167, \"m_probability_description\": \"Amongst matching record comparisons, 2.50% of records are in the inexact match comparison level\", \"u_probability_description\": \"Amongst non-matching record comparisons, 41.69% of records are in the inexact match comparison level\", \"has_tf_adjustments\": false, \"tf_adjustment_column\": null, \"tf_adjustment_weight\": 1.0, \"is_null_level\": false, \"bayes_factor\": 0.05996090637280614, \"log2_bayes_factor\": -4.059833998455771, \"comparison_vector_value\": 1, \"max_comparison_vector_value\": 2, \"bayes_factor_description\": \"If comparison level is `inexact match` then comparison is  16.68 times less likely to be a match\", \"probability_two_random_records_match\": 0.006563390187237986, \"comparison_sort_order\": 3, \"iteration\": 0}, {\"comparison_name\": \"month_of_birth\", \"sql_condition\": \"ELSE\", \"label_for_charts\": \"All other comparisons\", \"m_probability\": 0.025000000000000022, \"u_probability\": 0.4998171260853169, \"m_probability_description\": \"Amongst matching record comparisons, 2.50% of records are in the all other comparisons comparison level\", \"u_probability_description\": \"Amongst non-matching record comparisons, 49.98% of records are in the all other comparisons comparison level\", \"has_tf_adjustments\": false, \"tf_adjustment_column\": null, \"tf_adjustment_weight\": 1.0, \"is_null_level\": false, \"bayes_factor\": 0.05001829408248931, \"log2_bayes_factor\": -4.321400335788462, \"comparison_vector_value\": 0, \"max_comparison_vector_value\": 2, \"bayes_factor_description\": \"If comparison level is `all other comparisons` then comparison is  19.99 times less likely to be a match\", \"probability_two_random_records_match\": 0.006563390187237986, \"comparison_sort_order\": 3, \"iteration\": 0}, {\"comparison_name\": \"year_of_birth\", \"sql_condition\": \"\\\"year_of_birth_l\\\" = \\\"year_of_birth_r\\\"\", \"label_for_charts\": \"Exact match\", \"m_probability\": 0.95, \"u_probability\": 0.011085112473136845, \"m_probability_description\": \"Amongst matching record comparisons, 95.00% of records are in the exact match comparison level\", \"u_probability_description\": \"Amongst non-matching record comparisons, 1.11% of records are in the exact match comparison level\", \"has_tf_adjustments\": false, \"tf_adjustment_column\": null, \"tf_adjustment_weight\": 1.0, \"is_null_level\": false, \"bayes_factor\": 85.70052873186326, \"log2_bayes_factor\": 6.421232200000913, \"comparison_vector_value\": 2, \"max_comparison_vector_value\": 2, \"bayes_factor_description\": \"If comparison level is `exact match` then comparison is 85.70 times more likely to be a match\", \"probability_two_random_records_match\": 0.006563390187237986, \"comparison_sort_order\": 4, \"iteration\": 0}, {\"comparison_name\": \"year_of_birth\", \"sql_condition\": \"abs(year_of_birth_l - year_of_birth_r) <= 5\", \"label_for_charts\": \"Inexact match\", \"m_probability\": 0.025000000000000022, \"u_probability\": 0.10968379850702191, \"m_probability_description\": \"Amongst matching record comparisons, 2.50% of records are in the inexact match comparison level\", \"u_probability_description\": \"Amongst non-matching record comparisons, 10.97% of records are in the inexact match comparison level\", \"has_tf_adjustments\": false, \"tf_adjustment_column\": null, \"tf_adjustment_weight\": 1.0, \"is_null_level\": false, \"bayes_factor\": 0.22792791953133837, \"log2_bayes_factor\": -2.133350439690302, \"comparison_vector_value\": 1, \"max_comparison_vector_value\": 2, \"bayes_factor_description\": \"If comparison level is `inexact match` then comparison is  4.39 times less likely to be a match\", \"probability_two_random_records_match\": 0.006563390187237986, \"comparison_sort_order\": 4, \"iteration\": 0}, {\"comparison_name\": \"year_of_birth\", \"sql_condition\": \"ELSE\", \"label_for_charts\": \"All other comparisons\", \"m_probability\": 0.025000000000000022, \"u_probability\": 0.8792310890198413, \"m_probability_description\": \"Amongst matching record comparisons, 2.50% of records are in the all other comparisons comparison level\", \"u_probability_description\": \"Amongst non-matching record comparisons, 87.92% of records are in the all other comparisons comparison level\", \"has_tf_adjustments\": false, \"tf_adjustment_column\": null, \"tf_adjustment_weight\": 1.0, \"is_null_level\": false, \"bayes_factor\": 0.028433935414942837, \"log2_bayes_factor\": -5.136242399915184, \"comparison_vector_value\": 0, \"max_comparison_vector_value\": 2, \"bayes_factor_description\": \"If comparison level is `all other comparisons` then comparison is  35.17 times less likely to be a match\", \"probability_two_random_records_match\": 0.006563390187237986, \"comparison_sort_order\": 4, \"iteration\": 0}, {\"comparison_name\": \"geokey\", \"sql_condition\": \"\\\"geokey_l\\\" = \\\"geokey_r\\\"\", \"label_for_charts\": \"Exact match\", \"m_probability\": 0.95, \"u_probability\": 0.0024275211541129145, \"m_probability_description\": \"Amongst matching record comparisons, 95.00% of records are in the exact match comparison level\", \"u_probability_description\": \"Amongst non-matching record comparisons, 0.24% of records are in the exact match comparison level\", \"has_tf_adjustments\": false, \"tf_adjustment_column\": null, \"tf_adjustment_weight\": 1.0, \"is_null_level\": false, \"bayes_factor\": 391.3457142857143, \"log2_bayes_factor\": 8.612299835462279, \"comparison_vector_value\": 2, \"max_comparison_vector_value\": 2, \"bayes_factor_description\": \"If comparison level is `exact match` then comparison is 391.35 times more likely to be a match\", \"probability_two_random_records_match\": 0.006563390187237986, \"comparison_sort_order\": 5, \"iteration\": 0}, {\"comparison_name\": \"geokey\", \"sql_condition\": \"jaro_winkler_similarity(\\\"geokey_l\\\", \\\"geokey_r\\\") >= 0.7222222222222222\", \"label_for_charts\": \"Jaro_winkler_similarity >= 0.7222222222222222\", \"m_probability\": 0.025000000000000022, \"u_probability\": 0.2569010958524067, \"m_probability_description\": \"Amongst matching record comparisons, 2.50% of records are in the jaro_winkler_similarity >= 0.7222222222222222 comparison level\", \"u_probability_description\": \"Amongst non-matching record comparisons, 25.69% of records are in the jaro_winkler_similarity >= 0.7222222222222222 comparison level\", \"has_tf_adjustments\": false, \"tf_adjustment_column\": null, \"tf_adjustment_weight\": 1.0, \"is_null_level\": false, \"bayes_factor\": 0.09731371490280785, \"log2_bayes_factor\": -3.361213044296575, \"comparison_vector_value\": 1, \"max_comparison_vector_value\": 2, \"bayes_factor_description\": \"If comparison level is `jaro_winkler_similarity >= 0.7222222222222222` then comparison is  10.28 times less likely to be a match\", \"probability_two_random_records_match\": 0.006563390187237986, \"comparison_sort_order\": 5, \"iteration\": 0}, {\"comparison_name\": \"geokey\", \"sql_condition\": \"ELSE\", \"label_for_charts\": \"All other comparisons\", \"m_probability\": 0.025000000000000022, \"u_probability\": 0.7406713829934803, \"m_probability_description\": \"Amongst matching record comparisons, 2.50% of records are in the all other comparisons comparison level\", \"u_probability_description\": \"Amongst non-matching record comparisons, 74.07% of records are in the all other comparisons comparison level\", \"has_tf_adjustments\": false, \"tf_adjustment_column\": null, \"tf_adjustment_weight\": 1.0, \"is_null_level\": false, \"bayes_factor\": 0.03375316040827796, \"log2_bayes_factor\": -4.888833597481385, \"comparison_vector_value\": 0, \"max_comparison_vector_value\": 2, \"bayes_factor_description\": \"If comparison level is `all other comparisons` then comparison is  29.63 times less likely to be a match\", \"probability_two_random_records_match\": 0.006563390187237986, \"comparison_sort_order\": 5, \"iteration\": 0}, {\"comparison_name\": \"probability_two_random_records_match\", \"sql_condition\": null, \"label_for_charts\": \"\", \"m_probability\": null, \"u_probability\": null, \"m_probability_description\": null, \"u_probability_description\": null, \"has_tf_adjustments\": false, \"tf_adjustment_column\": null, \"tf_adjustment_weight\": null, \"is_null_level\": false, \"bayes_factor\": 0.006606752884288229, \"log2_bayes_factor\": -7.241842900788313, \"comparison_vector_value\": 0, \"max_comparison_vector_value\": 0, \"bayes_factor_description\": \"The probability that two random records drawn at random match is 0.007 or one in  152.4 records.This is equivalent to a starting match weight of -7.242.\", \"probability_two_random_records_match\": 0.006563390187237986, \"comparison_sort_order\": -1, \"iteration\": 1}, {\"comparison_name\": \"last_name_12\", \"sql_condition\": \"\\\"last_name_12_l\\\" = \\\"last_name_12_r\\\"\", \"label_for_charts\": \"Exact match\", \"m_probability\": 0.8842196151507775, \"u_probability\": 0.0006842173986881611, \"m_probability_description\": \"Amongst matching record comparisons, 88.42% of records are in the exact match comparison level\", \"u_probability_description\": \"Amongst non-matching record comparisons, 0.07% of records are in the exact match comparison level\", \"has_tf_adjustments\": false, \"tf_adjustment_column\": null, \"tf_adjustment_weight\": 1.0, \"is_null_level\": false, \"bayes_factor\": 1292.307995742402, \"log2_bayes_factor\": 10.335734233158112, \"comparison_vector_value\": 2, \"max_comparison_vector_value\": 2, \"bayes_factor_description\": \"If comparison level is `exact match` then comparison is 1,292.31 times more likely to be a match\", \"probability_two_random_records_match\": 0.006563390187237986, \"comparison_sort_order\": 0, \"iteration\": 1}, {\"comparison_name\": \"last_name_12\", \"sql_condition\": \"jaro_winkler_similarity(\\\"last_name_12_l\\\", \\\"last_name_12_r\\\") >= 0.8333333333333334\", \"label_for_charts\": \"Jaro_winkler_similarity >= 0.8333333333333334\", \"m_probability\": 0.08820854441894811, \"u_probability\": 0.0013675335890361796, \"m_probability_description\": \"Amongst matching record comparisons, 8.82% of records are in the jaro_winkler_similarity >= 0.8333333333333334 comparison level\", \"u_probability_description\": \"Amongst non-matching record comparisons, 0.14% of records are in the jaro_winkler_similarity >= 0.8333333333333334 comparison level\", \"has_tf_adjustments\": false, \"tf_adjustment_column\": null, \"tf_adjustment_weight\": 1.0, \"is_null_level\": false, \"bayes_factor\": 64.50192165379747, \"log2_bayes_factor\": 6.011270237114823, \"comparison_vector_value\": 1, \"max_comparison_vector_value\": 2, \"bayes_factor_description\": \"If comparison level is `jaro_winkler_similarity >= 0.8333333333333334` then comparison is 64.50 times more likely to be a match\", \"probability_two_random_records_match\": 0.006563390187237986, \"comparison_sort_order\": 0, \"iteration\": 1}, {\"comparison_name\": \"last_name_12\", \"sql_condition\": \"ELSE\", \"label_for_charts\": \"All other comparisons\", \"m_probability\": 0.027571840430274257, \"u_probability\": 0.9979482490122756, \"m_probability_description\": \"Amongst matching record comparisons, 2.76% of records are in the all other comparisons comparison level\", \"u_probability_description\": \"Amongst non-matching record comparisons, 99.79% of records are in the all other comparisons comparison level\", \"has_tf_adjustments\": false, \"tf_adjustment_column\": null, \"tf_adjustment_weight\": 1.0, \"is_null_level\": false, \"bayes_factor\": 0.02762852728842766, \"log2_bayes_factor\": -5.17769752702019, \"comparison_vector_value\": 0, \"max_comparison_vector_value\": 2, \"bayes_factor_description\": \"If comparison level is `all other comparisons` then comparison is  36.19 times less likely to be a match\", \"probability_two_random_records_match\": 0.006563390187237986, \"comparison_sort_order\": 0, \"iteration\": 1}, {\"comparison_name\": \"middle_initial\", \"sql_condition\": \"\\\"middle_initial_l\\\" = \\\"middle_initial_r\\\"\", \"label_for_charts\": \"Exact match\", \"m_probability\": 0.9448211832119278, \"u_probability\": 0.07300510353598076, \"m_probability_description\": \"Amongst matching record comparisons, 94.48% of records are in the exact match comparison level\", \"u_probability_description\": \"Amongst non-matching record comparisons, 7.30% of records are in the exact match comparison level\", \"has_tf_adjustments\": false, \"tf_adjustment_column\": null, \"tf_adjustment_weight\": 1.0, \"is_null_level\": false, \"bayes_factor\": 12.94185115080715, \"log2_bayes_factor\": 3.6939720843260533, \"comparison_vector_value\": 1, \"max_comparison_vector_value\": 1, \"bayes_factor_description\": \"If comparison level is `exact match` then comparison is 12.94 times more likely to be a match\", \"probability_two_random_records_match\": 0.006563390187237986, \"comparison_sort_order\": 1, \"iteration\": 1}, {\"comparison_name\": \"middle_initial\", \"sql_condition\": \"ELSE\", \"label_for_charts\": \"All other comparisons\", \"m_probability\": 0.05517881678807223, \"u_probability\": 0.9269948964640192, \"m_probability_description\": \"Amongst matching record comparisons, 5.52% of records are in the all other comparisons comparison level\", \"u_probability_description\": \"Amongst non-matching record comparisons, 92.70% of records are in the all other comparisons comparison level\", \"has_tf_adjustments\": false, \"tf_adjustment_column\": null, \"tf_adjustment_weight\": 1.0, \"is_null_level\": false, \"bayes_factor\": 0.059524401912620414, \"log2_bayes_factor\": -4.070374970071327, \"comparison_vector_value\": 0, \"max_comparison_vector_value\": 1, \"bayes_factor_description\": \"If comparison level is `all other comparisons` then comparison is  16.80 times less likely to be a match\", \"probability_two_random_records_match\": 0.006563390187237986, \"comparison_sort_order\": 1, \"iteration\": 1}, {\"comparison_name\": \"day_of_birth\", \"sql_condition\": \"\\\"day_of_birth_l\\\" = \\\"day_of_birth_r\\\"\", \"label_for_charts\": \"Exact match\", \"m_probability\": 0.9744167777901683, \"u_probability\": 0.03251748092886318, \"m_probability_description\": \"Amongst matching record comparisons, 97.44% of records are in the exact match comparison level\", \"u_probability_description\": \"Amongst non-matching record comparisons, 3.25% of records are in the exact match comparison level\", \"has_tf_adjustments\": false, \"tf_adjustment_column\": null, \"tf_adjustment_weight\": 1.0, \"is_null_level\": false, \"bayes_factor\": 29.96593678095329, \"log2_bayes_factor\": 4.90525157035121, \"comparison_vector_value\": 2, \"max_comparison_vector_value\": 2, \"bayes_factor_description\": \"If comparison level is `exact match` then comparison is 29.97 times more likely to be a match\", \"probability_two_random_records_match\": 0.006563390187237986, \"comparison_sort_order\": 2, \"iteration\": 1}, {\"comparison_name\": \"day_of_birth\", \"sql_condition\": \"abs(day_of_birth_l - day_of_birth_r) <= 5\", \"label_for_charts\": \"Inexact match\", \"m_probability\": 0.01814812076290893, \"u_probability\": 0.29545734380750305, \"m_probability_description\": \"Amongst matching record comparisons, 1.81% of records are in the inexact match comparison level\", \"u_probability_description\": \"Amongst non-matching record comparisons, 29.55% of records are in the inexact match comparison level\", \"has_tf_adjustments\": false, \"tf_adjustment_column\": null, \"tf_adjustment_weight\": 1.0, \"is_null_level\": false, \"bayes_factor\": 0.061423826969529756, \"log2_bayes_factor\": -4.025057788532854, \"comparison_vector_value\": 1, \"max_comparison_vector_value\": 2, \"bayes_factor_description\": \"If comparison level is `inexact match` then comparison is  16.28 times less likely to be a match\", \"probability_two_random_records_match\": 0.006563390187237986, \"comparison_sort_order\": 2, \"iteration\": 1}, {\"comparison_name\": \"day_of_birth\", \"sql_condition\": \"ELSE\", \"label_for_charts\": \"All other comparisons\", \"m_probability\": 0.0074351014469227076, \"u_probability\": 0.6720251752636338, \"m_probability_description\": \"Amongst matching record comparisons, 0.74% of records are in the all other comparisons comparison level\", \"u_probability_description\": \"Amongst non-matching record comparisons, 67.20% of records are in the all other comparisons comparison level\", \"has_tf_adjustments\": false, \"tf_adjustment_column\": null, \"tf_adjustment_weight\": 1.0, \"is_null_level\": false, \"bayes_factor\": 0.011063724575505576, \"log2_bayes_factor\": -6.498019042716172, \"comparison_vector_value\": 0, \"max_comparison_vector_value\": 2, \"bayes_factor_description\": \"If comparison level is `all other comparisons` then comparison is  90.39 times less likely to be a match\", \"probability_two_random_records_match\": 0.006563390187237986, \"comparison_sort_order\": 2, \"iteration\": 1}, {\"comparison_name\": \"month_of_birth\", \"sql_condition\": \"\\\"month_of_birth_l\\\" = \\\"month_of_birth_r\\\"\", \"label_for_charts\": \"Exact match\", \"m_probability\": 0.983551031092942, \"u_probability\": 0.08324454672258141, \"m_probability_description\": \"Amongst matching record comparisons, 98.36% of records are in the exact match comparison level\", \"u_probability_description\": \"Amongst non-matching record comparisons, 8.32% of records are in the exact match comparison level\", \"has_tf_adjustments\": false, \"tf_adjustment_column\": null, \"tf_adjustment_weight\": 1.0, \"is_null_level\": false, \"bayes_factor\": 11.815200752677509, \"log2_bayes_factor\": 3.562572237312263, \"comparison_vector_value\": 2, \"max_comparison_vector_value\": 2, \"bayes_factor_description\": \"If comparison level is `exact match` then comparison is 11.82 times more likely to be a match\", \"probability_two_random_records_match\": 0.006563390187237986, \"comparison_sort_order\": 3, \"iteration\": 1}, {\"comparison_name\": \"month_of_birth\", \"sql_condition\": \"abs(month_of_birth_l - month_of_birth_r) <= 3\", \"label_for_charts\": \"Inexact match\", \"m_probability\": 0.008688515222723741, \"u_probability\": 0.41693832719210167, \"m_probability_description\": \"Amongst matching record comparisons, 0.87% of records are in the inexact match comparison level\", \"u_probability_description\": \"Amongst non-matching record comparisons, 41.69% of records are in the inexact match comparison level\", \"has_tf_adjustments\": false, \"tf_adjustment_column\": null, \"tf_adjustment_weight\": 1.0, \"is_null_level\": false, \"bayes_factor\": 0.02083884991153755, \"log2_bayes_factor\": -5.5845805317699435, \"comparison_vector_value\": 1, \"max_comparison_vector_value\": 2, \"bayes_factor_description\": \"If comparison level is `inexact match` then comparison is  47.99 times less likely to be a match\", \"probability_two_random_records_match\": 0.006563390187237986, \"comparison_sort_order\": 3, \"iteration\": 1}, {\"comparison_name\": \"month_of_birth\", \"sql_condition\": \"ELSE\", \"label_for_charts\": \"All other comparisons\", \"m_probability\": 0.007760453684334317, \"u_probability\": 0.4998171260853169, \"m_probability_description\": \"Amongst matching record comparisons, 0.78% of records are in the all other comparisons comparison level\", \"u_probability_description\": \"Amongst non-matching record comparisons, 49.98% of records are in the all other comparisons comparison level\", \"has_tf_adjustments\": false, \"tf_adjustment_column\": null, \"tf_adjustment_weight\": 1.0, \"is_null_level\": false, \"bayes_factor\": 0.015526586183862849, \"log2_bayes_factor\": -6.0091155292066265, \"comparison_vector_value\": 0, \"max_comparison_vector_value\": 2, \"bayes_factor_description\": \"If comparison level is `all other comparisons` then comparison is  64.41 times less likely to be a match\", \"probability_two_random_records_match\": 0.006563390187237986, \"comparison_sort_order\": 3, \"iteration\": 1}, {\"comparison_name\": \"year_of_birth\", \"sql_condition\": \"\\\"year_of_birth_l\\\" = \\\"year_of_birth_r\\\"\", \"label_for_charts\": \"Exact match\", \"m_probability\": 0.9667480287828506, \"u_probability\": 0.011085112473136845, \"m_probability_description\": \"Amongst matching record comparisons, 96.67% of records are in the exact match comparison level\", \"u_probability_description\": \"Amongst non-matching record comparisons, 1.11% of records are in the exact match comparison level\", \"has_tf_adjustments\": false, \"tf_adjustment_column\": null, \"tf_adjustment_weight\": 1.0, \"is_null_level\": false, \"bayes_factor\": 87.21138654439669, \"log2_bayes_factor\": 6.446444604186481, \"comparison_vector_value\": 2, \"max_comparison_vector_value\": 2, \"bayes_factor_description\": \"If comparison level is `exact match` then comparison is 87.21 times more likely to be a match\", \"probability_two_random_records_match\": 0.006563390187237986, \"comparison_sort_order\": 4, \"iteration\": 1}, {\"comparison_name\": \"year_of_birth\", \"sql_condition\": \"abs(year_of_birth_l - year_of_birth_r) <= 5\", \"label_for_charts\": \"Inexact match\", \"m_probability\": 0.011472081373236999, \"u_probability\": 0.10968379850702191, \"m_probability_description\": \"Amongst matching record comparisons, 1.15% of records are in the inexact match comparison level\", \"u_probability_description\": \"Amongst non-matching record comparisons, 10.97% of records are in the inexact match comparison level\", \"has_tf_adjustments\": false, \"tf_adjustment_column\": null, \"tf_adjustment_weight\": 1.0, \"is_null_level\": false, \"bayes_factor\": 0.10459230560384505, \"log2_bayes_factor\": -3.257151372131179, \"comparison_vector_value\": 1, \"max_comparison_vector_value\": 2, \"bayes_factor_description\": \"If comparison level is `inexact match` then comparison is  9.56 times less likely to be a match\", \"probability_two_random_records_match\": 0.006563390187237986, \"comparison_sort_order\": 4, \"iteration\": 1}, {\"comparison_name\": \"year_of_birth\", \"sql_condition\": \"ELSE\", \"label_for_charts\": \"All other comparisons\", \"m_probability\": 0.021779889843912385, \"u_probability\": 0.8792310890198413, \"m_probability_description\": \"Amongst matching record comparisons, 2.18% of records are in the all other comparisons comparison level\", \"u_probability_description\": \"Amongst non-matching record comparisons, 87.92% of records are in the all other comparisons comparison level\", \"has_tf_adjustments\": false, \"tf_adjustment_column\": null, \"tf_adjustment_weight\": 1.0, \"is_null_level\": false, \"bayes_factor\": 0.024771519246654945, \"log2_bayes_factor\": -5.335173837443927, \"comparison_vector_value\": 0, \"max_comparison_vector_value\": 2, \"bayes_factor_description\": \"If comparison level is `all other comparisons` then comparison is  40.37 times less likely to be a match\", \"probability_two_random_records_match\": 0.006563390187237986, \"comparison_sort_order\": 4, \"iteration\": 1}, {\"comparison_name\": \"geokey\", \"sql_condition\": \"\\\"geokey_l\\\" = \\\"geokey_r\\\"\", \"label_for_charts\": \"Exact match\", \"m_probability\": 0.6195419409131858, \"u_probability\": 0.0024275211541129145, \"m_probability_description\": \"Amongst matching record comparisons, 61.95% of records are in the exact match comparison level\", \"u_probability_description\": \"Amongst non-matching record comparisons, 0.24% of records are in the exact match comparison level\", \"has_tf_adjustments\": false, \"tf_adjustment_column\": null, \"tf_adjustment_weight\": 1.0, \"is_null_level\": false, \"bayes_factor\": 255.21587725960893, \"log2_bayes_factor\": 7.995574273310034, \"comparison_vector_value\": 2, \"max_comparison_vector_value\": 2, \"bayes_factor_description\": \"If comparison level is `exact match` then comparison is 255.22 times more likely to be a match\", \"probability_two_random_records_match\": 0.006563390187237986, \"comparison_sort_order\": 5, \"iteration\": 1}, {\"comparison_name\": \"geokey\", \"sql_condition\": \"jaro_winkler_similarity(\\\"geokey_l\\\", \\\"geokey_r\\\") >= 0.7222222222222222\", \"label_for_charts\": \"Jaro_winkler_similarity >= 0.7222222222222222\", \"m_probability\": 0.3744667944101549, \"u_probability\": 0.2569010958524067, \"m_probability_description\": \"Amongst matching record comparisons, 37.45% of records are in the jaro_winkler_similarity >= 0.7222222222222222 comparison level\", \"u_probability_description\": \"Amongst non-matching record comparisons, 25.69% of records are in the jaro_winkler_similarity >= 0.7222222222222222 comparison level\", \"has_tf_adjustments\": false, \"tf_adjustment_column\": null, \"tf_adjustment_weight\": 1.0, \"is_null_level\": false, \"bayes_factor\": 1.4576301948719257, \"log2_bayes_factor\": 0.5436247500517164, \"comparison_vector_value\": 1, \"max_comparison_vector_value\": 2, \"bayes_factor_description\": \"If comparison level is `jaro_winkler_similarity >= 0.7222222222222222` then comparison is 1.46 times more likely to be a match\", \"probability_two_random_records_match\": 0.006563390187237986, \"comparison_sort_order\": 5, \"iteration\": 1}, {\"comparison_name\": \"geokey\", \"sql_condition\": \"ELSE\", \"label_for_charts\": \"All other comparisons\", \"m_probability\": 0.005991264676659295, \"u_probability\": 0.7406713829934803, \"m_probability_description\": \"Amongst matching record comparisons, 0.60% of records are in the all other comparisons comparison level\", \"u_probability_description\": \"Amongst non-matching record comparisons, 74.07% of records are in the all other comparisons comparison level\", \"has_tf_adjustments\": false, \"tf_adjustment_column\": null, \"tf_adjustment_weight\": 1.0, \"is_null_level\": false, \"bayes_factor\": 0.008088964707189224, \"log2_bayes_factor\": -6.949829218271644, \"comparison_vector_value\": 0, \"max_comparison_vector_value\": 2, \"bayes_factor_description\": \"If comparison level is `all other comparisons` then comparison is  123.63 times less likely to be a match\", \"probability_two_random_records_match\": 0.006563390187237986, \"comparison_sort_order\": 5, \"iteration\": 1}, {\"comparison_name\": \"probability_two_random_records_match\", \"sql_condition\": null, \"label_for_charts\": \"\", \"m_probability\": null, \"u_probability\": null, \"m_probability_description\": null, \"u_probability_description\": null, \"has_tf_adjustments\": false, \"tf_adjustment_column\": null, \"tf_adjustment_weight\": null, \"is_null_level\": false, \"bayes_factor\": 0.006606752884288229, \"log2_bayes_factor\": -7.241842900788313, \"comparison_vector_value\": 0, \"max_comparison_vector_value\": 0, \"bayes_factor_description\": \"The probability that two random records drawn at random match is 0.007 or one in  152.4 records.This is equivalent to a starting match weight of -7.242.\", \"probability_two_random_records_match\": 0.006563390187237986, \"comparison_sort_order\": -1, \"iteration\": 2}, {\"comparison_name\": \"last_name_12\", \"sql_condition\": \"\\\"last_name_12_l\\\" = \\\"last_name_12_r\\\"\", \"label_for_charts\": \"Exact match\", \"m_probability\": 0.8790558905705612, \"u_probability\": 0.0006842173986881611, \"m_probability_description\": \"Amongst matching record comparisons, 87.91% of records are in the exact match comparison level\", \"u_probability_description\": \"Amongst non-matching record comparisons, 0.07% of records are in the exact match comparison level\", \"has_tf_adjustments\": false, \"tf_adjustment_column\": null, \"tf_adjustment_weight\": 1.0, \"is_null_level\": false, \"bayes_factor\": 1284.761089466536, \"log2_bayes_factor\": 10.32728438953863, \"comparison_vector_value\": 2, \"max_comparison_vector_value\": 2, \"bayes_factor_description\": \"If comparison level is `exact match` then comparison is 1,284.76 times more likely to be a match\", \"probability_two_random_records_match\": 0.006563390187237986, \"comparison_sort_order\": 0, \"iteration\": 2}, {\"comparison_name\": \"last_name_12\", \"sql_condition\": \"jaro_winkler_similarity(\\\"last_name_12_l\\\", \\\"last_name_12_r\\\") >= 0.8333333333333334\", \"label_for_charts\": \"Jaro_winkler_similarity >= 0.8333333333333334\", \"m_probability\": 0.0938744998937615, \"u_probability\": 0.0013675335890361796, \"m_probability_description\": \"Amongst matching record comparisons, 9.39% of records are in the jaro_winkler_similarity >= 0.8333333333333334 comparison level\", \"u_probability_description\": \"Amongst non-matching record comparisons, 0.14% of records are in the jaro_winkler_similarity >= 0.8333333333333334 comparison level\", \"has_tf_adjustments\": false, \"tf_adjustment_column\": null, \"tf_adjustment_weight\": 1.0, \"is_null_level\": false, \"bayes_factor\": 68.64511456711134, \"log2_bayes_factor\": 6.101085143146076, \"comparison_vector_value\": 1, \"max_comparison_vector_value\": 2, \"bayes_factor_description\": \"If comparison level is `jaro_winkler_similarity >= 0.8333333333333334` then comparison is 68.65 times more likely to be a match\", \"probability_two_random_records_match\": 0.006563390187237986, \"comparison_sort_order\": 0, \"iteration\": 2}, {\"comparison_name\": \"last_name_12\", \"sql_condition\": \"ELSE\", \"label_for_charts\": \"All other comparisons\", \"m_probability\": 0.02706960953567721, \"u_probability\": 0.9979482490122756, \"m_probability_description\": \"Amongst matching record comparisons, 2.71% of records are in the all other comparisons comparison level\", \"u_probability_description\": \"Amongst non-matching record comparisons, 99.79% of records are in the all other comparisons comparison level\", \"has_tf_adjustments\": false, \"tf_adjustment_column\": null, \"tf_adjustment_weight\": 1.0, \"is_null_level\": false, \"bayes_factor\": 0.027125263822517343, \"log2_bayes_factor\": -5.204219020380318, \"comparison_vector_value\": 0, \"max_comparison_vector_value\": 2, \"bayes_factor_description\": \"If comparison level is `all other comparisons` then comparison is  36.87 times less likely to be a match\", \"probability_two_random_records_match\": 0.006563390187237986, \"comparison_sort_order\": 0, \"iteration\": 2}, {\"comparison_name\": \"middle_initial\", \"sql_condition\": \"\\\"middle_initial_l\\\" = \\\"middle_initial_r\\\"\", \"label_for_charts\": \"Exact match\", \"m_probability\": 0.9445979367403631, \"u_probability\": 0.07300510353598076, \"m_probability_description\": \"Amongst matching record comparisons, 94.46% of records are in the exact match comparison level\", \"u_probability_description\": \"Amongst non-matching record comparisons, 7.30% of records are in the exact match comparison level\", \"has_tf_adjustments\": false, \"tf_adjustment_column\": null, \"tf_adjustment_weight\": 1.0, \"is_null_level\": false, \"bayes_factor\": 12.938793193750016, \"log2_bayes_factor\": 3.6936311577677055, \"comparison_vector_value\": 1, \"max_comparison_vector_value\": 1, \"bayes_factor_description\": \"If comparison level is `exact match` then comparison is 12.94 times more likely to be a match\", \"probability_two_random_records_match\": 0.006563390187237986, \"comparison_sort_order\": 1, \"iteration\": 2}, {\"comparison_name\": \"middle_initial\", \"sql_condition\": \"ELSE\", \"label_for_charts\": \"All other comparisons\", \"m_probability\": 0.055402063259636855, \"u_probability\": 0.9269948964640192, \"m_probability_description\": \"Amongst matching record comparisons, 5.54% of records are in the all other comparisons comparison level\", \"u_probability_description\": \"Amongst non-matching record comparisons, 92.70% of records are in the all other comparisons comparison level\", \"has_tf_adjustments\": false, \"tf_adjustment_column\": null, \"tf_adjustment_weight\": 1.0, \"is_null_level\": false, \"bayes_factor\": 0.059765230068650387, \"log2_bayes_factor\": -4.0645497855574435, \"comparison_vector_value\": 0, \"max_comparison_vector_value\": 1, \"bayes_factor_description\": \"If comparison level is `all other comparisons` then comparison is  16.73 times less likely to be a match\", \"probability_two_random_records_match\": 0.006563390187237986, \"comparison_sort_order\": 1, \"iteration\": 2}, {\"comparison_name\": \"day_of_birth\", \"sql_condition\": \"\\\"day_of_birth_l\\\" = \\\"day_of_birth_r\\\"\", \"label_for_charts\": \"Exact match\", \"m_probability\": 0.9772924277617403, \"u_probability\": 0.03251748092886318, \"m_probability_description\": \"Amongst matching record comparisons, 97.73% of records are in the exact match comparison level\", \"u_probability_description\": \"Amongst non-matching record comparisons, 3.25% of records are in the exact match comparison level\", \"has_tf_adjustments\": false, \"tf_adjustment_column\": null, \"tf_adjustment_weight\": 1.0, \"is_null_level\": false, \"bayes_factor\": 30.054370752141367, \"log2_bayes_factor\": 4.909502909581114, \"comparison_vector_value\": 2, \"max_comparison_vector_value\": 2, \"bayes_factor_description\": \"If comparison level is `exact match` then comparison is 30.05 times more likely to be a match\", \"probability_two_random_records_match\": 0.006563390187237986, \"comparison_sort_order\": 2, \"iteration\": 2}, {\"comparison_name\": \"day_of_birth\", \"sql_condition\": \"abs(day_of_birth_l - day_of_birth_r) <= 5\", \"label_for_charts\": \"Inexact match\", \"m_probability\": 0.01740968075963621, \"u_probability\": 0.29545734380750305, \"m_probability_description\": \"Amongst matching record comparisons, 1.74% of records are in the inexact match comparison level\", \"u_probability_description\": \"Amongst non-matching record comparisons, 29.55% of records are in the inexact match comparison level\", \"has_tf_adjustments\": false, \"tf_adjustment_column\": null, \"tf_adjustment_weight\": 1.0, \"is_null_level\": false, \"bayes_factor\": 0.05892451524568974, \"log2_bayes_factor\": -4.084988204869772, \"comparison_vector_value\": 1, \"max_comparison_vector_value\": 2, \"bayes_factor_description\": \"If comparison level is `inexact match` then comparison is  16.97 times less likely to be a match\", \"probability_two_random_records_match\": 0.006563390187237986, \"comparison_sort_order\": 2, \"iteration\": 2}, {\"comparison_name\": \"day_of_birth\", \"sql_condition\": \"ELSE\", \"label_for_charts\": \"All other comparisons\", \"m_probability\": 0.0052978914786234454, \"u_probability\": 0.6720251752636338, \"m_probability_description\": \"Amongst matching record comparisons, 0.53% of records are in the all other comparisons comparison level\", \"u_probability_description\": \"Amongst non-matching record comparisons, 67.20% of records are in the all other comparisons comparison level\", \"has_tf_adjustments\": false, \"tf_adjustment_column\": null, \"tf_adjustment_weight\": 1.0, \"is_null_level\": false, \"bayes_factor\": 0.007883471741285727, \"log2_bayes_factor\": -6.98695317770749, \"comparison_vector_value\": 0, \"max_comparison_vector_value\": 2, \"bayes_factor_description\": \"If comparison level is `all other comparisons` then comparison is  126.85 times less likely to be a match\", \"probability_two_random_records_match\": 0.006563390187237986, \"comparison_sort_order\": 2, \"iteration\": 2}, {\"comparison_name\": \"month_of_birth\", \"sql_condition\": \"\\\"month_of_birth_l\\\" = \\\"month_of_birth_r\\\"\", \"label_for_charts\": \"Exact match\", \"m_probability\": 0.9859183394041526, \"u_probability\": 0.08324454672258141, \"m_probability_description\": \"Amongst matching record comparisons, 98.59% of records are in the exact match comparison level\", \"u_probability_description\": \"Amongst non-matching record comparisons, 8.32% of records are in the exact match comparison level\", \"has_tf_adjustments\": false, \"tf_adjustment_column\": null, \"tf_adjustment_weight\": 1.0, \"is_null_level\": false, \"bayes_factor\": 11.843638751374288, \"log2_bayes_factor\": 3.5660404868385824, \"comparison_vector_value\": 2, \"max_comparison_vector_value\": 2, \"bayes_factor_description\": \"If comparison level is `exact match` then comparison is 11.84 times more likely to be a match\", \"probability_two_random_records_match\": 0.006563390187237986, \"comparison_sort_order\": 3, \"iteration\": 2}, {\"comparison_name\": \"month_of_birth\", \"sql_condition\": \"abs(month_of_birth_l - month_of_birth_r) <= 3\", \"label_for_charts\": \"Inexact match\", \"m_probability\": 0.007605673658970424, \"u_probability\": 0.41693832719210167, \"m_probability_description\": \"Amongst matching record comparisons, 0.76% of records are in the inexact match comparison level\", \"u_probability_description\": \"Amongst non-matching record comparisons, 41.69% of records are in the inexact match comparison level\", \"has_tf_adjustments\": false, \"tf_adjustment_column\": null, \"tf_adjustment_weight\": 1.0, \"is_null_level\": false, \"bayes_factor\": 0.018241723446705722, \"log2_bayes_factor\": -5.77661415048281, \"comparison_vector_value\": 1, \"max_comparison_vector_value\": 2, \"bayes_factor_description\": \"If comparison level is `inexact match` then comparison is  54.82 times less likely to be a match\", \"probability_two_random_records_match\": 0.006563390187237986, \"comparison_sort_order\": 3, \"iteration\": 2}, {\"comparison_name\": \"month_of_birth\", \"sql_condition\": \"ELSE\", \"label_for_charts\": \"All other comparisons\", \"m_probability\": 0.006475986936877004, \"u_probability\": 0.4998171260853169, \"m_probability_description\": \"Amongst matching record comparisons, 0.65% of records are in the all other comparisons comparison level\", \"u_probability_description\": \"Amongst non-matching record comparisons, 49.98% of records are in the all other comparisons comparison level\", \"has_tf_adjustments\": false, \"tf_adjustment_column\": null, \"tf_adjustment_weight\": 1.0, \"is_null_level\": false, \"bayes_factor\": 0.012956712763322914, \"log2_bayes_factor\": -6.270156450071222, \"comparison_vector_value\": 0, \"max_comparison_vector_value\": 2, \"bayes_factor_description\": \"If comparison level is `all other comparisons` then comparison is  77.18 times less likely to be a match\", \"probability_two_random_records_match\": 0.006563390187237986, \"comparison_sort_order\": 3, \"iteration\": 2}, {\"comparison_name\": \"year_of_birth\", \"sql_condition\": \"\\\"year_of_birth_l\\\" = \\\"year_of_birth_r\\\"\", \"label_for_charts\": \"Exact match\", \"m_probability\": 0.9690109828035962, \"u_probability\": 0.011085112473136845, \"m_probability_description\": \"Amongst matching record comparisons, 96.90% of records are in the exact match comparison level\", \"u_probability_description\": \"Amongst non-matching record comparisons, 1.11% of records are in the exact match comparison level\", \"has_tf_adjustments\": false, \"tf_adjustment_column\": null, \"tf_adjustment_weight\": 1.0, \"is_null_level\": false, \"bayes_factor\": 87.41553007710596, \"log2_bayes_factor\": 6.449817703845249, \"comparison_vector_value\": 2, \"max_comparison_vector_value\": 2, \"bayes_factor_description\": \"If comparison level is `exact match` then comparison is 87.42 times more likely to be a match\", \"probability_two_random_records_match\": 0.006563390187237986, \"comparison_sort_order\": 4, \"iteration\": 2}, {\"comparison_name\": \"year_of_birth\", \"sql_condition\": \"abs(year_of_birth_l - year_of_birth_r) <= 5\", \"label_for_charts\": \"Inexact match\", \"m_probability\": 0.010173833893428368, \"u_probability\": 0.10968379850702191, \"m_probability_description\": \"Amongst matching record comparisons, 1.02% of records are in the inexact match comparison level\", \"u_probability_description\": \"Amongst non-matching record comparisons, 10.97% of records are in the inexact match comparison level\", \"has_tf_adjustments\": false, \"tf_adjustment_column\": null, \"tf_adjustment_weight\": 1.0, \"is_null_level\": false, \"bayes_factor\": 0.09275603171946167, \"log2_bayes_factor\": -3.430415089725213, \"comparison_vector_value\": 1, \"max_comparison_vector_value\": 2, \"bayes_factor_description\": \"If comparison level is `inexact match` then comparison is  10.78 times less likely to be a match\", \"probability_two_random_records_match\": 0.006563390187237986, \"comparison_sort_order\": 4, \"iteration\": 2}, {\"comparison_name\": \"year_of_birth\", \"sql_condition\": \"ELSE\", \"label_for_charts\": \"All other comparisons\", \"m_probability\": 0.020815183302975448, \"u_probability\": 0.8792310890198413, \"m_probability_description\": \"Amongst matching record comparisons, 2.08% of records are in the all other comparisons comparison level\", \"u_probability_description\": \"Amongst non-matching record comparisons, 87.92% of records are in the all other comparisons comparison level\", \"has_tf_adjustments\": false, \"tf_adjustment_column\": null, \"tf_adjustment_weight\": 1.0, \"is_null_level\": false, \"bayes_factor\": 0.023674303107479994, \"log2_bayes_factor\": -5.400534231586042, \"comparison_vector_value\": 0, \"max_comparison_vector_value\": 2, \"bayes_factor_description\": \"If comparison level is `all other comparisons` then comparison is  42.24 times less likely to be a match\", \"probability_two_random_records_match\": 0.006563390187237986, \"comparison_sort_order\": 4, \"iteration\": 2}, {\"comparison_name\": \"geokey\", \"sql_condition\": \"\\\"geokey_l\\\" = \\\"geokey_r\\\"\", \"label_for_charts\": \"Exact match\", \"m_probability\": 0.6085752153985658, \"u_probability\": 0.0024275211541129145, \"m_probability_description\": \"Amongst matching record comparisons, 60.86% of records are in the exact match comparison level\", \"u_probability_description\": \"Amongst non-matching record comparisons, 0.24% of records are in the exact match comparison level\", \"has_tf_adjustments\": false, \"tf_adjustment_column\": null, \"tf_adjustment_weight\": 1.0, \"is_null_level\": false, \"bayes_factor\": 250.69821301761493, \"log2_bayes_factor\": 7.969807902421195, \"comparison_vector_value\": 2, \"max_comparison_vector_value\": 2, \"bayes_factor_description\": \"If comparison level is `exact match` then comparison is 250.70 times more likely to be a match\", \"probability_two_random_records_match\": 0.006563390187237986, \"comparison_sort_order\": 5, \"iteration\": 2}, {\"comparison_name\": \"geokey\", \"sql_condition\": \"jaro_winkler_similarity(\\\"geokey_l\\\", \\\"geokey_r\\\") >= 0.7222222222222222\", \"label_for_charts\": \"Jaro_winkler_similarity >= 0.7222222222222222\", \"m_probability\": 0.38554548768714464, \"u_probability\": 0.2569010958524067, \"m_probability_description\": \"Amongst matching record comparisons, 38.55% of records are in the jaro_winkler_similarity >= 0.7222222222222222 comparison level\", \"u_probability_description\": \"Amongst non-matching record comparisons, 25.69% of records are in the jaro_winkler_similarity >= 0.7222222222222222 comparison level\", \"has_tf_adjustments\": false, \"tf_adjustment_column\": null, \"tf_adjustment_weight\": 1.0, \"is_null_level\": false, \"bayes_factor\": 1.500754546834031, \"log2_bayes_factor\": 0.5856880389026556, \"comparison_vector_value\": 1, \"max_comparison_vector_value\": 2, \"bayes_factor_description\": \"If comparison level is `jaro_winkler_similarity >= 0.7222222222222222` then comparison is 1.50 times more likely to be a match\", \"probability_two_random_records_match\": 0.006563390187237986, \"comparison_sort_order\": 5, \"iteration\": 2}, {\"comparison_name\": \"geokey\", \"sql_condition\": \"ELSE\", \"label_for_charts\": \"All other comparisons\", \"m_probability\": 0.005879296914289554, \"u_probability\": 0.7406713829934803, \"m_probability_description\": \"Amongst matching record comparisons, 0.59% of records are in the all other comparisons comparison level\", \"u_probability_description\": \"Amongst non-matching record comparisons, 74.07% of records are in the all other comparisons comparison level\", \"has_tf_adjustments\": false, \"tf_adjustment_column\": null, \"tf_adjustment_weight\": 1.0, \"is_null_level\": false, \"bayes_factor\": 0.00793779407343635, \"log2_bayes_factor\": -6.977046149016928, \"comparison_vector_value\": 0, \"max_comparison_vector_value\": 2, \"bayes_factor_description\": \"If comparison level is `all other comparisons` then comparison is  125.98 times less likely to be a match\", \"probability_two_random_records_match\": 0.006563390187237986, \"comparison_sort_order\": 5, \"iteration\": 2}, {\"comparison_name\": \"probability_two_random_records_match\", \"sql_condition\": null, \"label_for_charts\": \"\", \"m_probability\": null, \"u_probability\": null, \"m_probability_description\": null, \"u_probability_description\": null, \"has_tf_adjustments\": false, \"tf_adjustment_column\": null, \"tf_adjustment_weight\": null, \"is_null_level\": false, \"bayes_factor\": 0.006606752884288229, \"log2_bayes_factor\": -7.241842900788313, \"comparison_vector_value\": 0, \"max_comparison_vector_value\": 0, \"bayes_factor_description\": \"The probability that two random records drawn at random match is 0.007 or one in  152.4 records.This is equivalent to a starting match weight of -7.242.\", \"probability_two_random_records_match\": 0.006563390187237986, \"comparison_sort_order\": -1, \"iteration\": 3}, {\"comparison_name\": \"last_name_12\", \"sql_condition\": \"\\\"last_name_12_l\\\" = \\\"last_name_12_r\\\"\", \"label_for_charts\": \"Exact match\", \"m_probability\": 0.8789976245796706, \"u_probability\": 0.0006842173986881611, \"m_probability_description\": \"Amongst matching record comparisons, 87.90% of records are in the exact match comparison level\", \"u_probability_description\": \"Amongst non-matching record comparisons, 0.07% of records are in the exact match comparison level\", \"has_tf_adjustments\": false, \"tf_adjustment_column\": null, \"tf_adjustment_weight\": 1.0, \"is_null_level\": false, \"bayes_factor\": 1284.6759323351882, \"log2_bayes_factor\": 10.327188760986465, \"comparison_vector_value\": 2, \"max_comparison_vector_value\": 2, \"bayes_factor_description\": \"If comparison level is `exact match` then comparison is 1,284.68 times more likely to be a match\", \"probability_two_random_records_match\": 0.006563390187237986, \"comparison_sort_order\": 0, \"iteration\": 3}, {\"comparison_name\": \"last_name_12\", \"sql_condition\": \"jaro_winkler_similarity(\\\"last_name_12_l\\\", \\\"last_name_12_r\\\") >= 0.8333333333333334\", \"label_for_charts\": \"Jaro_winkler_similarity >= 0.8333333333333334\", \"m_probability\": 0.09411356436497753, \"u_probability\": 0.0013675335890361796, \"m_probability_description\": \"Amongst matching record comparisons, 9.41% of records are in the jaro_winkler_similarity >= 0.8333333333333334 comparison level\", \"u_probability_description\": \"Amongst non-matching record comparisons, 0.14% of records are in the jaro_winkler_similarity >= 0.8333333333333334 comparison level\", \"has_tf_adjustments\": false, \"tf_adjustment_column\": null, \"tf_adjustment_weight\": 1.0, \"is_null_level\": false, \"bayes_factor\": 68.8199288993754, \"log2_bayes_factor\": 6.104754496457003, \"comparison_vector_value\": 1, \"max_comparison_vector_value\": 2, \"bayes_factor_description\": \"If comparison level is `jaro_winkler_similarity >= 0.8333333333333334` then comparison is 68.82 times more likely to be a match\", \"probability_two_random_records_match\": 0.006563390187237986, \"comparison_sort_order\": 0, \"iteration\": 3}, {\"comparison_name\": \"last_name_12\", \"sql_condition\": \"ELSE\", \"label_for_charts\": \"All other comparisons\", \"m_probability\": 0.026888811055351815, \"u_probability\": 0.9979482490122756, \"m_probability_description\": \"Amongst matching record comparisons, 2.69% of records are in the all other comparisons comparison level\", \"u_probability_description\": \"Amongst non-matching record comparisons, 99.79% of records are in the all other comparisons comparison level\", \"has_tf_adjustments\": false, \"tf_adjustment_column\": null, \"tf_adjustment_weight\": 1.0, \"is_null_level\": false, \"bayes_factor\": 0.026944093626062426, \"log2_bayes_factor\": -5.213887133133473, \"comparison_vector_value\": 0, \"max_comparison_vector_value\": 2, \"bayes_factor_description\": \"If comparison level is `all other comparisons` then comparison is  37.11 times less likely to be a match\", \"probability_two_random_records_match\": 0.006563390187237986, \"comparison_sort_order\": 0, \"iteration\": 3}, {\"comparison_name\": \"middle_initial\", \"sql_condition\": \"\\\"middle_initial_l\\\" = \\\"middle_initial_r\\\"\", \"label_for_charts\": \"Exact match\", \"m_probability\": 0.944597652897622, \"u_probability\": 0.07300510353598076, \"m_probability_description\": \"Amongst matching record comparisons, 94.46% of records are in the exact match comparison level\", \"u_probability_description\": \"Amongst non-matching record comparisons, 7.30% of records are in the exact match comparison level\", \"has_tf_adjustments\": false, \"tf_adjustment_column\": null, \"tf_adjustment_weight\": 1.0, \"is_null_level\": false, \"bayes_factor\": 12.938789305765104, \"log2_bayes_factor\": 3.693630724251433, \"comparison_vector_value\": 1, \"max_comparison_vector_value\": 1, \"bayes_factor_description\": \"If comparison level is `exact match` then comparison is 12.94 times more likely to be a match\", \"probability_two_random_records_match\": 0.006563390187237986, \"comparison_sort_order\": 1, \"iteration\": 3}, {\"comparison_name\": \"middle_initial\", \"sql_condition\": \"ELSE\", \"label_for_charts\": \"All other comparisons\", \"m_probability\": 0.05540234710237797, \"u_probability\": 0.9269948964640192, \"m_probability_description\": \"Amongst matching record comparisons, 5.54% of records are in the all other comparisons comparison level\", \"u_probability_description\": \"Amongst non-matching record comparisons, 92.70% of records are in the all other comparisons comparison level\", \"has_tf_adjustments\": false, \"tf_adjustment_column\": null, \"tf_adjustment_weight\": 1.0, \"is_null_level\": false, \"bayes_factor\": 0.05976553626531037, \"log2_bayes_factor\": -4.064542394181709, \"comparison_vector_value\": 0, \"max_comparison_vector_value\": 1, \"bayes_factor_description\": \"If comparison level is `all other comparisons` then comparison is  16.73 times less likely to be a match\", \"probability_two_random_records_match\": 0.006563390187237986, \"comparison_sort_order\": 1, \"iteration\": 3}, {\"comparison_name\": \"day_of_birth\", \"sql_condition\": \"\\\"day_of_birth_l\\\" = \\\"day_of_birth_r\\\"\", \"label_for_charts\": \"Exact match\", \"m_probability\": 0.9780135399999315, \"u_probability\": 0.03251748092886318, \"m_probability_description\": \"Amongst matching record comparisons, 97.80% of records are in the exact match comparison level\", \"u_probability_description\": \"Amongst non-matching record comparisons, 3.25% of records are in the exact match comparison level\", \"has_tf_adjustments\": false, \"tf_adjustment_column\": null, \"tf_adjustment_weight\": 1.0, \"is_null_level\": false, \"bayes_factor\": 30.076546893022904, \"log2_bayes_factor\": 4.910567034699415, \"comparison_vector_value\": 2, \"max_comparison_vector_value\": 2, \"bayes_factor_description\": \"If comparison level is `exact match` then comparison is 30.08 times more likely to be a match\", \"probability_two_random_records_match\": 0.006563390187237986, \"comparison_sort_order\": 2, \"iteration\": 3}, {\"comparison_name\": \"day_of_birth\", \"sql_condition\": \"abs(day_of_birth_l - day_of_birth_r) <= 5\", \"label_for_charts\": \"Inexact match\", \"m_probability\": 0.017247769247475307, \"u_probability\": 0.29545734380750305, \"m_probability_description\": \"Amongst matching record comparisons, 1.72% of records are in the inexact match comparison level\", \"u_probability_description\": \"Amongst non-matching record comparisons, 29.55% of records are in the inexact match comparison level\", \"has_tf_adjustments\": false, \"tf_adjustment_column\": null, \"tf_adjustment_weight\": 1.0, \"is_null_level\": false, \"bayes_factor\": 0.058376512241011036, \"log2_bayes_factor\": -4.098468171516047, \"comparison_vector_value\": 1, \"max_comparison_vector_value\": 2, \"bayes_factor_description\": \"If comparison level is `inexact match` then comparison is  17.13 times less likely to be a match\", \"probability_two_random_records_match\": 0.006563390187237986, \"comparison_sort_order\": 2, \"iteration\": 3}, {\"comparison_name\": \"day_of_birth\", \"sql_condition\": \"ELSE\", \"label_for_charts\": \"All other comparisons\", \"m_probability\": 0.004738690752593221, \"u_probability\": 0.6720251752636338, \"m_probability_description\": \"Amongst matching record comparisons, 0.47% of records are in the all other comparisons comparison level\", \"u_probability_description\": \"Amongst non-matching record comparisons, 67.20% of records are in the all other comparisons comparison level\", \"has_tf_adjustments\": false, \"tf_adjustment_column\": null, \"tf_adjustment_weight\": 1.0, \"is_null_level\": false, \"bayes_factor\": 0.00705135897733927, \"log2_bayes_factor\": -7.147882956097041, \"comparison_vector_value\": 0, \"max_comparison_vector_value\": 2, \"bayes_factor_description\": \"If comparison level is `all other comparisons` then comparison is  141.82 times less likely to be a match\", \"probability_two_random_records_match\": 0.006563390187237986, \"comparison_sort_order\": 2, \"iteration\": 3}, {\"comparison_name\": \"month_of_birth\", \"sql_condition\": \"\\\"month_of_birth_l\\\" = \\\"month_of_birth_r\\\"\", \"label_for_charts\": \"Exact match\", \"m_probability\": 0.9864580979230655, \"u_probability\": 0.08324454672258141, \"m_probability_description\": \"Amongst matching record comparisons, 98.65% of records are in the exact match comparison level\", \"u_probability_description\": \"Amongst non-matching record comparisons, 8.32% of records are in the exact match comparison level\", \"has_tf_adjustments\": false, \"tf_adjustment_column\": null, \"tf_adjustment_weight\": 1.0, \"is_null_level\": false, \"bayes_factor\": 11.850122761921087, \"log2_bayes_factor\": 3.566830099757511, \"comparison_vector_value\": 2, \"max_comparison_vector_value\": 2, \"bayes_factor_description\": \"If comparison level is `exact match` then comparison is 11.85 times more likely to be a match\", \"probability_two_random_records_match\": 0.006563390187237986, \"comparison_sort_order\": 3, \"iteration\": 3}, {\"comparison_name\": \"month_of_birth\", \"sql_condition\": \"abs(month_of_birth_l - month_of_birth_r) <= 3\", \"label_for_charts\": \"Inexact match\", \"m_probability\": 0.007413401460552521, \"u_probability\": 0.41693832719210167, \"m_probability_description\": \"Amongst matching record comparisons, 0.74% of records are in the inexact match comparison level\", \"u_probability_description\": \"Amongst non-matching record comparisons, 41.69% of records are in the inexact match comparison level\", \"has_tf_adjustments\": false, \"tf_adjustment_column\": null, \"tf_adjustment_weight\": 1.0, \"is_null_level\": false, \"bayes_factor\": 0.017780570835208544, \"log2_bayes_factor\": -5.813554547952108, \"comparison_vector_value\": 1, \"max_comparison_vector_value\": 2, \"bayes_factor_description\": \"If comparison level is `inexact match` then comparison is  56.24 times less likely to be a match\", \"probability_two_random_records_match\": 0.006563390187237986, \"comparison_sort_order\": 3, \"iteration\": 3}, {\"comparison_name\": \"month_of_birth\", \"sql_condition\": \"ELSE\", \"label_for_charts\": \"All other comparisons\", \"m_probability\": 0.0061285006163819674, \"u_probability\": 0.4998171260853169, \"m_probability_description\": \"Amongst matching record comparisons, 0.61% of records are in the all other comparisons comparison level\", \"u_probability_description\": \"Amongst non-matching record comparisons, 49.98% of records are in the all other comparisons comparison level\", \"has_tf_adjustments\": false, \"tf_adjustment_column\": null, \"tf_adjustment_weight\": 1.0, \"is_null_level\": false, \"bayes_factor\": 0.0122614858445964, \"log2_bayes_factor\": -6.349722374633164, \"comparison_vector_value\": 0, \"max_comparison_vector_value\": 2, \"bayes_factor_description\": \"If comparison level is `all other comparisons` then comparison is  81.56 times less likely to be a match\", \"probability_two_random_records_match\": 0.006563390187237986, \"comparison_sort_order\": 3, \"iteration\": 3}, {\"comparison_name\": \"year_of_birth\", \"sql_condition\": \"\\\"year_of_birth_l\\\" = \\\"year_of_birth_r\\\"\", \"label_for_charts\": \"Exact match\", \"m_probability\": 0.9694152387266874, \"u_probability\": 0.011085112473136845, \"m_probability_description\": \"Amongst matching record comparisons, 96.94% of records are in the exact match comparison level\", \"u_probability_description\": \"Amongst non-matching record comparisons, 1.11% of records are in the exact match comparison level\", \"has_tf_adjustments\": false, \"tf_adjustment_column\": null, \"tf_adjustment_weight\": 1.0, \"is_null_level\": false, \"bayes_factor\": 87.45199844168691, \"log2_bayes_factor\": 6.450419447690304, \"comparison_vector_value\": 2, \"max_comparison_vector_value\": 2, \"bayes_factor_description\": \"If comparison level is `exact match` then comparison is 87.45 times more likely to be a match\", \"probability_two_random_records_match\": 0.006563390187237986, \"comparison_sort_order\": 4, \"iteration\": 3}, {\"comparison_name\": \"year_of_birth\", \"sql_condition\": \"abs(year_of_birth_l - year_of_birth_r) <= 5\", \"label_for_charts\": \"Inexact match\", \"m_probability\": 0.009994527742028353, \"u_probability\": 0.10968379850702191, \"m_probability_description\": \"Amongst matching record comparisons, 1.00% of records are in the inexact match comparison level\", \"u_probability_description\": \"Amongst non-matching record comparisons, 10.97% of records are in the inexact match comparison level\", \"has_tf_adjustments\": false, \"tf_adjustment_column\": null, \"tf_adjustment_weight\": 1.0, \"is_null_level\": false, \"bayes_factor\": 0.09112127659755062, \"log2_bayes_factor\": -3.4560682306122144, \"comparison_vector_value\": 1, \"max_comparison_vector_value\": 2, \"bayes_factor_description\": \"If comparison level is `inexact match` then comparison is  10.97 times less likely to be a match\", \"probability_two_random_records_match\": 0.006563390187237986, \"comparison_sort_order\": 4, \"iteration\": 3}, {\"comparison_name\": \"year_of_birth\", \"sql_condition\": \"ELSE\", \"label_for_charts\": \"All other comparisons\", \"m_probability\": 0.020590233531284207, \"u_probability\": 0.8792310890198413, \"m_probability_description\": \"Amongst matching record comparisons, 2.06% of records are in the all other comparisons comparison level\", \"u_probability_description\": \"Amongst non-matching record comparisons, 87.92% of records are in the all other comparisons comparison level\", \"has_tf_adjustments\": false, \"tf_adjustment_column\": null, \"tf_adjustment_weight\": 1.0, \"is_null_level\": false, \"bayes_factor\": 0.023418454816285, \"log2_bayes_factor\": -5.41621030191276, \"comparison_vector_value\": 0, \"max_comparison_vector_value\": 2, \"bayes_factor_description\": \"If comparison level is `all other comparisons` then comparison is  42.70 times less likely to be a match\", \"probability_two_random_records_match\": 0.006563390187237986, \"comparison_sort_order\": 4, \"iteration\": 3}, {\"comparison_name\": \"geokey\", \"sql_condition\": \"\\\"geokey_l\\\" = \\\"geokey_r\\\"\", \"label_for_charts\": \"Exact match\", \"m_probability\": 0.6084144461537855, \"u_probability\": 0.0024275211541129145, \"m_probability_description\": \"Amongst matching record comparisons, 60.84% of records are in the exact match comparison level\", \"u_probability_description\": \"Amongst non-matching record comparisons, 0.24% of records are in the exact match comparison level\", \"has_tf_adjustments\": false, \"tf_adjustment_column\": null, \"tf_adjustment_weight\": 1.0, \"is_null_level\": false, \"bayes_factor\": 250.6319852755794, \"log2_bayes_factor\": 7.969426730746777, \"comparison_vector_value\": 2, \"max_comparison_vector_value\": 2, \"bayes_factor_description\": \"If comparison level is `exact match` then comparison is 250.63 times more likely to be a match\", \"probability_two_random_records_match\": 0.006563390187237986, \"comparison_sort_order\": 5, \"iteration\": 3}, {\"comparison_name\": \"geokey\", \"sql_condition\": \"jaro_winkler_similarity(\\\"geokey_l\\\", \\\"geokey_r\\\") >= 0.7222222222222222\", \"label_for_charts\": \"Jaro_winkler_similarity >= 0.7222222222222222\", \"m_probability\": 0.38570222225937545, \"u_probability\": 0.2569010958524067, \"m_probability_description\": \"Amongst matching record comparisons, 38.57% of records are in the jaro_winkler_similarity >= 0.7222222222222222 comparison level\", \"u_probability_description\": \"Amongst non-matching record comparisons, 25.69% of records are in the jaro_winkler_similarity >= 0.7222222222222222 comparison level\", \"has_tf_adjustments\": false, \"tf_adjustment_column\": null, \"tf_adjustment_weight\": 1.0, \"is_null_level\": false, \"bayes_factor\": 1.5013646437731305, \"log2_bayes_factor\": 0.5862744139162601, \"comparison_vector_value\": 1, \"max_comparison_vector_value\": 2, \"bayes_factor_description\": \"If comparison level is `jaro_winkler_similarity >= 0.7222222222222222` then comparison is 1.50 times more likely to be a match\", \"probability_two_random_records_match\": 0.006563390187237986, \"comparison_sort_order\": 5, \"iteration\": 3}, {\"comparison_name\": \"geokey\", \"sql_condition\": \"ELSE\", \"label_for_charts\": \"All other comparisons\", \"m_probability\": 0.005883331586839125, \"u_probability\": 0.7406713829934803, \"m_probability_description\": \"Amongst matching record comparisons, 0.59% of records are in the all other comparisons comparison level\", \"u_probability_description\": \"Amongst non-matching record comparisons, 74.07% of records are in the all other comparisons comparison level\", \"has_tf_adjustments\": false, \"tf_adjustment_column\": null, \"tf_adjustment_weight\": 1.0, \"is_null_level\": false, \"bayes_factor\": 0.007943241391426773, \"log2_bayes_factor\": -6.976056437864085, \"comparison_vector_value\": 0, \"max_comparison_vector_value\": 2, \"bayes_factor_description\": \"If comparison level is `all other comparisons` then comparison is  125.89 times less likely to be a match\", \"probability_two_random_records_match\": 0.006563390187237986, \"comparison_sort_order\": 5, \"iteration\": 3}, {\"comparison_name\": \"probability_two_random_records_match\", \"sql_condition\": null, \"label_for_charts\": \"\", \"m_probability\": null, \"u_probability\": null, \"m_probability_description\": null, \"u_probability_description\": null, \"has_tf_adjustments\": false, \"tf_adjustment_column\": null, \"tf_adjustment_weight\": null, \"is_null_level\": false, \"bayes_factor\": 0.006606752884288229, \"log2_bayes_factor\": -7.241842900788313, \"comparison_vector_value\": 0, \"max_comparison_vector_value\": 0, \"bayes_factor_description\": \"The probability that two random records drawn at random match is 0.007 or one in  152.4 records.This is equivalent to a starting match weight of -7.242.\", \"probability_two_random_records_match\": 0.006563390187237986, \"comparison_sort_order\": -1, \"iteration\": 4}, {\"comparison_name\": \"last_name_12\", \"sql_condition\": \"\\\"last_name_12_l\\\" = \\\"last_name_12_r\\\"\", \"label_for_charts\": \"Exact match\", \"m_probability\": 0.8790241055050958, \"u_probability\": 0.0006842173986881611, \"m_probability_description\": \"Amongst matching record comparisons, 87.90% of records are in the exact match comparison level\", \"u_probability_description\": \"Amongst non-matching record comparisons, 0.07% of records are in the exact match comparison level\", \"has_tf_adjustments\": false, \"tf_adjustment_column\": null, \"tf_adjustment_weight\": 1.0, \"is_null_level\": false, \"bayes_factor\": 1284.7146348374572, \"log2_bayes_factor\": 10.327232223361403, \"comparison_vector_value\": 2, \"max_comparison_vector_value\": 2, \"bayes_factor_description\": \"If comparison level is `exact match` then comparison is 1,284.71 times more likely to be a match\", \"probability_two_random_records_match\": 0.006563390187237986, \"comparison_sort_order\": 0, \"iteration\": 4}, {\"comparison_name\": \"last_name_12\", \"sql_condition\": \"jaro_winkler_similarity(\\\"last_name_12_l\\\", \\\"last_name_12_r\\\") >= 0.8333333333333334\", \"label_for_charts\": \"Jaro_winkler_similarity >= 0.8333333333333334\", \"m_probability\": 0.09413132590237665, \"u_probability\": 0.0013675335890361796, \"m_probability_description\": \"Amongst matching record comparisons, 9.41% of records are in the jaro_winkler_similarity >= 0.8333333333333334 comparison level\", \"u_probability_description\": \"Amongst non-matching record comparisons, 0.14% of records are in the jaro_winkler_similarity >= 0.8333333333333334 comparison level\", \"has_tf_adjustments\": false, \"tf_adjustment_column\": null, \"tf_adjustment_weight\": 1.0, \"is_null_level\": false, \"bayes_factor\": 68.83291690752489, \"log2_bayes_factor\": 6.105026742699267, \"comparison_vector_value\": 1, \"max_comparison_vector_value\": 2, \"bayes_factor_description\": \"If comparison level is `jaro_winkler_similarity >= 0.8333333333333334` then comparison is 68.83 times more likely to be a match\", \"probability_two_random_records_match\": 0.006563390187237986, \"comparison_sort_order\": 0, \"iteration\": 4}, {\"comparison_name\": \"last_name_12\", \"sql_condition\": \"ELSE\", \"label_for_charts\": \"All other comparisons\", \"m_probability\": 0.026844568592527557, \"u_probability\": 0.9979482490122756, \"m_probability_description\": \"Amongst matching record comparisons, 2.68% of records are in the all other comparisons comparison level\", \"u_probability_description\": \"Amongst non-matching record comparisons, 99.79% of records are in the all other comparisons comparison level\", \"has_tf_adjustments\": false, \"tf_adjustment_column\": null, \"tf_adjustment_weight\": 1.0, \"is_null_level\": false, \"bayes_factor\": 0.026899760202091748, \"log2_bayes_factor\": -5.216262877840225, \"comparison_vector_value\": 0, \"max_comparison_vector_value\": 2, \"bayes_factor_description\": \"If comparison level is `all other comparisons` then comparison is  37.18 times less likely to be a match\", \"probability_two_random_records_match\": 0.006563390187237986, \"comparison_sort_order\": 0, \"iteration\": 4}, {\"comparison_name\": \"middle_initial\", \"sql_condition\": \"\\\"middle_initial_l\\\" = \\\"middle_initial_r\\\"\", \"label_for_charts\": \"Exact match\", \"m_probability\": 0.9446025413357925, \"u_probability\": 0.07300510353598076, \"m_probability_description\": \"Amongst matching record comparisons, 94.46% of records are in the exact match comparison level\", \"u_probability_description\": \"Amongst non-matching record comparisons, 7.30% of records are in the exact match comparison level\", \"has_tf_adjustments\": false, \"tf_adjustment_column\": null, \"tf_adjustment_weight\": 1.0, \"is_null_level\": false, \"bayes_factor\": 12.938856265990262, \"log2_bayes_factor\": 3.693638190400894, \"comparison_vector_value\": 1, \"max_comparison_vector_value\": 1, \"bayes_factor_description\": \"If comparison level is `exact match` then comparison is 12.94 times more likely to be a match\", \"probability_two_random_records_match\": 0.006563390187237986, \"comparison_sort_order\": 1, \"iteration\": 4}, {\"comparison_name\": \"middle_initial\", \"sql_condition\": \"ELSE\", \"label_for_charts\": \"All other comparisons\", \"m_probability\": 0.055397458664207554, \"u_probability\": 0.9269948964640192, \"m_probability_description\": \"Amongst matching record comparisons, 5.54% of records are in the all other comparisons comparison level\", \"u_probability_description\": \"Amongst non-matching record comparisons, 92.70% of records are in the all other comparisons comparison level\", \"has_tf_adjustments\": false, \"tf_adjustment_column\": null, \"tf_adjustment_weight\": 1.0, \"is_null_level\": false, \"bayes_factor\": 0.05976026284019329, \"log2_bayes_factor\": -4.064669696309397, \"comparison_vector_value\": 0, \"max_comparison_vector_value\": 1, \"bayes_factor_description\": \"If comparison level is `all other comparisons` then comparison is  16.73 times less likely to be a match\", \"probability_two_random_records_match\": 0.006563390187237986, \"comparison_sort_order\": 1, \"iteration\": 4}, {\"comparison_name\": \"day_of_birth\", \"sql_condition\": \"\\\"day_of_birth_l\\\" = \\\"day_of_birth_r\\\"\", \"label_for_charts\": \"Exact match\", \"m_probability\": 0.9782215001026503, \"u_probability\": 0.03251748092886318, \"m_probability_description\": \"Amongst matching record comparisons, 97.82% of records are in the exact match comparison level\", \"u_probability_description\": \"Amongst non-matching record comparisons, 3.25% of records are in the exact match comparison level\", \"has_tf_adjustments\": false, \"tf_adjustment_column\": null, \"tf_adjustment_weight\": 1.0, \"is_null_level\": false, \"bayes_factor\": 30.08294222552648, \"log2_bayes_factor\": 4.910873769834891, \"comparison_vector_value\": 2, \"max_comparison_vector_value\": 2, \"bayes_factor_description\": \"If comparison level is `exact match` then comparison is 30.08 times more likely to be a match\", \"probability_two_random_records_match\": 0.006563390187237986, \"comparison_sort_order\": 2, \"iteration\": 4}, {\"comparison_name\": \"day_of_birth\", \"sql_condition\": \"abs(day_of_birth_l - day_of_birth_r) <= 5\", \"label_for_charts\": \"Inexact match\", \"m_probability\": 0.017208780888625447, \"u_probability\": 0.29545734380750305, \"m_probability_description\": \"Amongst matching record comparisons, 1.72% of records are in the inexact match comparison level\", \"u_probability_description\": \"Amongst non-matching record comparisons, 29.55% of records are in the inexact match comparison level\", \"has_tf_adjustments\": false, \"tf_adjustment_column\": null, \"tf_adjustment_weight\": 1.0, \"is_null_level\": false, \"bayes_factor\": 0.058244552891659876, \"log2_bayes_factor\": -4.1017330564652745, \"comparison_vector_value\": 1, \"max_comparison_vector_value\": 2, \"bayes_factor_description\": \"If comparison level is `inexact match` then comparison is  17.17 times less likely to be a match\", \"probability_two_random_records_match\": 0.006563390187237986, \"comparison_sort_order\": 2, \"iteration\": 4}, {\"comparison_name\": \"day_of_birth\", \"sql_condition\": \"ELSE\", \"label_for_charts\": \"All other comparisons\", \"m_probability\": 0.004569719008724317, \"u_probability\": 0.6720251752636338, \"m_probability_description\": \"Amongst matching record comparisons, 0.46% of records are in the all other comparisons comparison level\", \"u_probability_description\": \"Amongst non-matching record comparisons, 67.20% of records are in the all other comparisons comparison level\", \"has_tf_adjustments\": false, \"tf_adjustment_column\": null, \"tf_adjustment_weight\": 1.0, \"is_null_level\": false, \"bayes_factor\": 0.00679992234953345, \"log2_bayes_factor\": -7.200266012796558, \"comparison_vector_value\": 0, \"max_comparison_vector_value\": 2, \"bayes_factor_description\": \"If comparison level is `all other comparisons` then comparison is  147.06 times less likely to be a match\", \"probability_two_random_records_match\": 0.006563390187237986, \"comparison_sort_order\": 2, \"iteration\": 4}, {\"comparison_name\": \"month_of_birth\", \"sql_condition\": \"\\\"month_of_birth_l\\\" = \\\"month_of_birth_r\\\"\", \"label_for_charts\": \"Exact match\", \"m_probability\": 0.9866135444208861, \"u_probability\": 0.08324454672258141, \"m_probability_description\": \"Amongst matching record comparisons, 98.66% of records are in the exact match comparison level\", \"u_probability_description\": \"Amongst non-matching record comparisons, 8.32% of records are in the exact match comparison level\", \"has_tf_adjustments\": false, \"tf_adjustment_column\": null, \"tf_adjustment_weight\": 1.0, \"is_null_level\": false, \"bayes_factor\": 11.851990109440424, \"log2_bayes_factor\": 3.567057422361699, \"comparison_vector_value\": 2, \"max_comparison_vector_value\": 2, \"bayes_factor_description\": \"If comparison level is `exact match` then comparison is 11.85 times more likely to be a match\", \"probability_two_random_records_match\": 0.006563390187237986, \"comparison_sort_order\": 3, \"iteration\": 4}, {\"comparison_name\": \"month_of_birth\", \"sql_condition\": \"abs(month_of_birth_l - month_of_birth_r) <= 3\", \"label_for_charts\": \"Inexact match\", \"m_probability\": 0.007367634656851819, \"u_probability\": 0.41693832719210167, \"m_probability_description\": \"Amongst matching record comparisons, 0.74% of records are in the inexact match comparison level\", \"u_probability_description\": \"Amongst non-matching record comparisons, 41.69% of records are in the inexact match comparison level\", \"has_tf_adjustments\": false, \"tf_adjustment_column\": null, \"tf_adjustment_weight\": 1.0, \"is_null_level\": false, \"bayes_factor\": 0.01767080207394133, \"log2_bayes_factor\": -5.8224886647784695, \"comparison_vector_value\": 1, \"max_comparison_vector_value\": 2, \"bayes_factor_description\": \"If comparison level is `inexact match` then comparison is  56.59 times less likely to be a match\", \"probability_two_random_records_match\": 0.006563390187237986, \"comparison_sort_order\": 3, \"iteration\": 4}, {\"comparison_name\": \"month_of_birth\", \"sql_condition\": \"ELSE\", \"label_for_charts\": \"All other comparisons\", \"m_probability\": 0.006018820922262039, \"u_probability\": 0.4998171260853169, \"m_probability_description\": \"Amongst matching record comparisons, 0.60% of records are in the all other comparisons comparison level\", \"u_probability_description\": \"Amongst non-matching record comparisons, 49.98% of records are in the all other comparisons comparison level\", \"has_tf_adjustments\": false, \"tf_adjustment_column\": null, \"tf_adjustment_weight\": 1.0, \"is_null_level\": false, \"bayes_factor\": 0.012042046196781677, \"log2_bayes_factor\": -6.375775632633194, \"comparison_vector_value\": 0, \"max_comparison_vector_value\": 2, \"bayes_factor_description\": \"If comparison level is `all other comparisons` then comparison is  83.04 times less likely to be a match\", \"probability_two_random_records_match\": 0.006563390187237986, \"comparison_sort_order\": 3, \"iteration\": 4}, {\"comparison_name\": \"year_of_birth\", \"sql_condition\": \"\\\"year_of_birth_l\\\" = \\\"year_of_birth_r\\\"\", \"label_for_charts\": \"Exact match\", \"m_probability\": 0.9695054879885268, \"u_probability\": 0.011085112473136845, \"m_probability_description\": \"Amongst matching record comparisons, 96.95% of records are in the exact match comparison level\", \"u_probability_description\": \"Amongst non-matching record comparisons, 1.11% of records are in the exact match comparison level\", \"has_tf_adjustments\": false, \"tf_adjustment_column\": null, \"tf_adjustment_weight\": 1.0, \"is_null_level\": false, \"bayes_factor\": 87.46013992532616, \"log2_bayes_factor\": 6.450553751440632, \"comparison_vector_value\": 2, \"max_comparison_vector_value\": 2, \"bayes_factor_description\": \"If comparison level is `exact match` then comparison is 87.46 times more likely to be a match\", \"probability_two_random_records_match\": 0.006563390187237986, \"comparison_sort_order\": 4, \"iteration\": 4}, {\"comparison_name\": \"year_of_birth\", \"sql_condition\": \"abs(year_of_birth_l - year_of_birth_r) <= 5\", \"label_for_charts\": \"Inexact match\", \"m_probability\": 0.009961668048786636, \"u_probability\": 0.10968379850702191, \"m_probability_description\": \"Amongst matching record comparisons, 1.00% of records are in the inexact match comparison level\", \"u_probability_description\": \"Amongst non-matching record comparisons, 10.97% of records are in the inexact match comparison level\", \"has_tf_adjustments\": false, \"tf_adjustment_column\": null, \"tf_adjustment_weight\": 1.0, \"is_null_level\": false, \"bayes_factor\": 0.09082169093686972, \"log2_bayes_factor\": -3.4608192923702554, \"comparison_vector_value\": 1, \"max_comparison_vector_value\": 2, \"bayes_factor_description\": \"If comparison level is `inexact match` then comparison is  11.01 times less likely to be a match\", \"probability_two_random_records_match\": 0.006563390187237986, \"comparison_sort_order\": 4, \"iteration\": 4}, {\"comparison_name\": \"year_of_birth\", \"sql_condition\": \"ELSE\", \"label_for_charts\": \"All other comparisons\", \"m_probability\": 0.020532843962686585, \"u_probability\": 0.8792310890198413, \"m_probability_description\": \"Amongst matching record comparisons, 2.05% of records are in the all other comparisons comparison level\", \"u_probability_description\": \"Amongst non-matching record comparisons, 87.92% of records are in the all other comparisons comparison level\", \"has_tf_adjustments\": false, \"tf_adjustment_column\": null, \"tf_adjustment_weight\": 1.0, \"is_null_level\": false, \"bayes_factor\": 0.02335318236480515, \"log2_bayes_factor\": -5.420237028744041, \"comparison_vector_value\": 0, \"max_comparison_vector_value\": 2, \"bayes_factor_description\": \"If comparison level is `all other comparisons` then comparison is  42.82 times less likely to be a match\", \"probability_two_random_records_match\": 0.006563390187237986, \"comparison_sort_order\": 4, \"iteration\": 4}, {\"comparison_name\": \"geokey\", \"sql_condition\": \"\\\"geokey_l\\\" = \\\"geokey_r\\\"\", \"label_for_charts\": \"Exact match\", \"m_probability\": 0.608417574840648, \"u_probability\": 0.0024275211541129145, \"m_probability_description\": \"Amongst matching record comparisons, 60.84% of records are in the exact match comparison level\", \"u_probability_description\": \"Amongst non-matching record comparisons, 0.24% of records are in the exact match comparison level\", \"has_tf_adjustments\": false, \"tf_adjustment_column\": null, \"tf_adjustment_weight\": 1.0, \"is_null_level\": false, \"bayes_factor\": 250.63327411578464, \"log2_bayes_factor\": 7.969434149586753, \"comparison_vector_value\": 2, \"max_comparison_vector_value\": 2, \"bayes_factor_description\": \"If comparison level is `exact match` then comparison is 250.63 times more likely to be a match\", \"probability_two_random_records_match\": 0.006563390187237986, \"comparison_sort_order\": 5, \"iteration\": 4}, {\"comparison_name\": \"geokey\", \"sql_condition\": \"jaro_winkler_similarity(\\\"geokey_l\\\", \\\"geokey_r\\\") >= 0.7222222222222222\", \"label_for_charts\": \"Jaro_winkler_similarity >= 0.7222222222222222\", \"m_probability\": 0.3856977420754189, \"u_probability\": 0.2569010958524067, \"m_probability_description\": \"Amongst matching record comparisons, 38.57% of records are in the jaro_winkler_similarity >= 0.7222222222222222 comparison level\", \"u_probability_description\": \"Amongst non-matching record comparisons, 25.69% of records are in the jaro_winkler_similarity >= 0.7222222222222222 comparison level\", \"has_tf_adjustments\": false, \"tf_adjustment_column\": null, \"tf_adjustment_weight\": 1.0, \"is_null_level\": false, \"bayes_factor\": 1.50134720443936, \"log2_bayes_factor\": 0.5862576559710299, \"comparison_vector_value\": 1, \"max_comparison_vector_value\": 2, \"bayes_factor_description\": \"If comparison level is `jaro_winkler_similarity >= 0.7222222222222222` then comparison is 1.50 times more likely to be a match\", \"probability_two_random_records_match\": 0.006563390187237986, \"comparison_sort_order\": 5, \"iteration\": 4}, {\"comparison_name\": \"geokey\", \"sql_condition\": \"ELSE\", \"label_for_charts\": \"All other comparisons\", \"m_probability\": 0.005884683083933155, \"u_probability\": 0.7406713829934803, \"m_probability_description\": \"Amongst matching record comparisons, 0.59% of records are in the all other comparisons comparison level\", \"u_probability_description\": \"Amongst non-matching record comparisons, 74.07% of records are in the all other comparisons comparison level\", \"has_tf_adjustments\": false, \"tf_adjustment_column\": null, \"tf_adjustment_weight\": 1.0, \"is_null_level\": false, \"bayes_factor\": 0.007945066083355016, \"log2_bayes_factor\": -6.975725065373745, \"comparison_vector_value\": 0, \"max_comparison_vector_value\": 2, \"bayes_factor_description\": \"If comparison level is `all other comparisons` then comparison is  125.86 times less likely to be a match\", \"probability_two_random_records_match\": 0.006563390187237986, \"comparison_sort_order\": 5, \"iteration\": 4}, {\"comparison_name\": \"probability_two_random_records_match\", \"sql_condition\": null, \"label_for_charts\": \"\", \"m_probability\": null, \"u_probability\": null, \"m_probability_description\": null, \"u_probability_description\": null, \"has_tf_adjustments\": false, \"tf_adjustment_column\": null, \"tf_adjustment_weight\": null, \"is_null_level\": false, \"bayes_factor\": 0.006606752884288229, \"log2_bayes_factor\": -7.241842900788313, \"comparison_vector_value\": 0, \"max_comparison_vector_value\": 0, \"bayes_factor_description\": \"The probability that two random records drawn at random match is 0.007 or one in  152.4 records.This is equivalent to a starting match weight of -7.242.\", \"probability_two_random_records_match\": 0.006563390187237986, \"comparison_sort_order\": -1, \"iteration\": 5}, {\"comparison_name\": \"last_name_12\", \"sql_condition\": \"\\\"last_name_12_l\\\" = \\\"last_name_12_r\\\"\", \"label_for_charts\": \"Exact match\", \"m_probability\": 0.8790310132490157, \"u_probability\": 0.0006842173986881611, \"m_probability_description\": \"Amongst matching record comparisons, 87.90% of records are in the exact match comparison level\", \"u_probability_description\": \"Amongst non-matching record comparisons, 0.07% of records are in the exact match comparison level\", \"has_tf_adjustments\": false, \"tf_adjustment_column\": null, \"tf_adjustment_weight\": 1.0, \"is_null_level\": false, \"bayes_factor\": 1284.7247306694737, \"log2_bayes_factor\": 10.32724356062585, \"comparison_vector_value\": 2, \"max_comparison_vector_value\": 2, \"bayes_factor_description\": \"If comparison level is `exact match` then comparison is 1,284.72 times more likely to be a match\", \"probability_two_random_records_match\": 0.006563390187237986, \"comparison_sort_order\": 0, \"iteration\": 5}, {\"comparison_name\": \"last_name_12\", \"sql_condition\": \"jaro_winkler_similarity(\\\"last_name_12_l\\\", \\\"last_name_12_r\\\") >= 0.8333333333333334\", \"label_for_charts\": \"Jaro_winkler_similarity >= 0.8333333333333334\", \"m_probability\": 0.09413474811499295, \"u_probability\": 0.0013675335890361796, \"m_probability_description\": \"Amongst matching record comparisons, 9.41% of records are in the jaro_winkler_similarity >= 0.8333333333333334 comparison level\", \"u_probability_description\": \"Amongst non-matching record comparisons, 0.14% of records are in the jaro_winkler_similarity >= 0.8333333333333334 comparison level\", \"has_tf_adjustments\": false, \"tf_adjustment_column\": null, \"tf_adjustment_weight\": 1.0, \"is_null_level\": false, \"bayes_factor\": 68.83541937813602, \"log2_bayes_factor\": 6.105079191970297, \"comparison_vector_value\": 1, \"max_comparison_vector_value\": 2, \"bayes_factor_description\": \"If comparison level is `jaro_winkler_similarity >= 0.8333333333333334` then comparison is 68.84 times more likely to be a match\", \"probability_two_random_records_match\": 0.006563390187237986, \"comparison_sort_order\": 0, \"iteration\": 5}, {\"comparison_name\": \"last_name_12\", \"sql_condition\": \"ELSE\", \"label_for_charts\": \"All other comparisons\", \"m_probability\": 0.026834238635991325, \"u_probability\": 0.9979482490122756, \"m_probability_description\": \"Amongst matching record comparisons, 2.68% of records are in the all other comparisons comparison level\", \"u_probability_description\": \"Amongst non-matching record comparisons, 99.79% of records are in the all other comparisons comparison level\", \"has_tf_adjustments\": false, \"tf_adjustment_column\": null, \"tf_adjustment_weight\": 1.0, \"is_null_level\": false, \"bayes_factor\": 0.02688940900748175, \"log2_bayes_factor\": -5.21681814268387, \"comparison_vector_value\": 0, \"max_comparison_vector_value\": 2, \"bayes_factor_description\": \"If comparison level is `all other comparisons` then comparison is  37.19 times less likely to be a match\", \"probability_two_random_records_match\": 0.006563390187237986, \"comparison_sort_order\": 0, \"iteration\": 5}, {\"comparison_name\": \"middle_initial\", \"sql_condition\": \"\\\"middle_initial_l\\\" = \\\"middle_initial_r\\\"\", \"label_for_charts\": \"Exact match\", \"m_probability\": 0.9446040958650342, \"u_probability\": 0.07300510353598076, \"m_probability_description\": \"Amongst matching record comparisons, 94.46% of records are in the exact match comparison level\", \"u_probability_description\": \"Amongst non-matching record comparisons, 7.30% of records are in the exact match comparison level\", \"has_tf_adjustments\": false, \"tf_adjustment_column\": null, \"tf_adjustment_weight\": 1.0, \"is_null_level\": false, \"bayes_factor\": 12.938877559422727, \"log2_bayes_factor\": 3.693640564637342, \"comparison_vector_value\": 1, \"max_comparison_vector_value\": 1, \"bayes_factor_description\": \"If comparison level is `exact match` then comparison is 12.94 times more likely to be a match\", \"probability_two_random_records_match\": 0.006563390187237986, \"comparison_sort_order\": 1, \"iteration\": 5}, {\"comparison_name\": \"middle_initial\", \"sql_condition\": \"ELSE\", \"label_for_charts\": \"All other comparisons\", \"m_probability\": 0.0553959041349657, \"u_probability\": 0.9269948964640192, \"m_probability_description\": \"Amongst matching record comparisons, 5.54% of records are in the all other comparisons comparison level\", \"u_probability_description\": \"Amongst non-matching record comparisons, 92.70% of records are in the all other comparisons comparison level\", \"has_tf_adjustments\": false, \"tf_adjustment_column\": null, \"tf_adjustment_weight\": 1.0, \"is_null_level\": false, \"bayes_factor\": 0.059758585884637457, \"log2_bayes_factor\": -4.064710180893882, \"comparison_vector_value\": 0, \"max_comparison_vector_value\": 1, \"bayes_factor_description\": \"If comparison level is `all other comparisons` then comparison is  16.73 times less likely to be a match\", \"probability_two_random_records_match\": 0.006563390187237986, \"comparison_sort_order\": 1, \"iteration\": 5}, {\"comparison_name\": \"day_of_birth\", \"sql_condition\": \"\\\"day_of_birth_l\\\" = \\\"day_of_birth_r\\\"\", \"label_for_charts\": \"Exact match\", \"m_probability\": 0.9782850863565768, \"u_probability\": 0.03251748092886318, \"m_probability_description\": \"Amongst matching record comparisons, 97.83% of records are in the exact match comparison level\", \"u_probability_description\": \"Amongst non-matching record comparisons, 3.25% of records are in the exact match comparison level\", \"has_tf_adjustments\": false, \"tf_adjustment_column\": null, \"tf_adjustment_weight\": 1.0, \"is_null_level\": false, \"bayes_factor\": 30.084897673861047, \"log2_bayes_factor\": 4.910967544702685, \"comparison_vector_value\": 2, \"max_comparison_vector_value\": 2, \"bayes_factor_description\": \"If comparison level is `exact match` then comparison is 30.08 times more likely to be a match\", \"probability_two_random_records_match\": 0.006563390187237986, \"comparison_sort_order\": 2, \"iteration\": 5}, {\"comparison_name\": \"day_of_birth\", \"sql_condition\": \"abs(day_of_birth_l - day_of_birth_r) <= 5\", \"label_for_charts\": \"Inexact match\", \"m_probability\": 0.01719854940983155, \"u_probability\": 0.29545734380750305, \"m_probability_description\": \"Amongst matching record comparisons, 1.72% of records are in the inexact match comparison level\", \"u_probability_description\": \"Amongst non-matching record comparisons, 29.55% of records are in the inexact match comparison level\", \"has_tf_adjustments\": false, \"tf_adjustment_column\": null, \"tf_adjustment_weight\": 1.0, \"is_null_level\": false, \"bayes_factor\": 0.058209923599112784, \"log2_bayes_factor\": -4.102591065733878, \"comparison_vector_value\": 1, \"max_comparison_vector_value\": 2, \"bayes_factor_description\": \"If comparison level is `inexact match` then comparison is  17.18 times less likely to be a match\", \"probability_two_random_records_match\": 0.006563390187237986, \"comparison_sort_order\": 2, \"iteration\": 5}, {\"comparison_name\": \"day_of_birth\", \"sql_condition\": \"ELSE\", \"label_for_charts\": \"All other comparisons\", \"m_probability\": 0.004516364233591675, \"u_probability\": 0.6720251752636338, \"m_probability_description\": \"Amongst matching record comparisons, 0.45% of records are in the all other comparisons comparison level\", \"u_probability_description\": \"Amongst non-matching record comparisons, 67.20% of records are in the all other comparisons comparison level\", \"has_tf_adjustments\": false, \"tf_adjustment_column\": null, \"tf_adjustment_weight\": 1.0, \"is_null_level\": false, \"bayes_factor\": 0.00672052833708189, \"log2_bayes_factor\": -7.217209629139347, \"comparison_vector_value\": 0, \"max_comparison_vector_value\": 2, \"bayes_factor_description\": \"If comparison level is `all other comparisons` then comparison is  148.80 times less likely to be a match\", \"probability_two_random_records_match\": 0.006563390187237986, \"comparison_sort_order\": 2, \"iteration\": 5}, {\"comparison_name\": \"month_of_birth\", \"sql_condition\": \"\\\"month_of_birth_l\\\" = \\\"month_of_birth_r\\\"\", \"label_for_charts\": \"Exact match\", \"m_probability\": 0.9866613211352474, \"u_probability\": 0.08324454672258141, \"m_probability_description\": \"Amongst matching record comparisons, 98.67% of records are in the exact match comparison level\", \"u_probability_description\": \"Amongst non-matching record comparisons, 8.32% of records are in the exact match comparison level\", \"has_tf_adjustments\": false, \"tf_adjustment_column\": null, \"tf_adjustment_weight\": 1.0, \"is_null_level\": false, \"bayes_factor\": 11.85256404150255, \"log2_bayes_factor\": 3.5671272831095306, \"comparison_vector_value\": 2, \"max_comparison_vector_value\": 2, \"bayes_factor_description\": \"If comparison level is `exact match` then comparison is 11.85 times more likely to be a match\", \"probability_two_random_records_match\": 0.006563390187237986, \"comparison_sort_order\": 3, \"iteration\": 5}, {\"comparison_name\": \"month_of_birth\", \"sql_condition\": \"abs(month_of_birth_l - month_of_birth_r) <= 3\", \"label_for_charts\": \"Inexact match\", \"m_probability\": 0.0073550956205266724, \"u_probability\": 0.41693832719210167, \"m_probability_description\": \"Amongst matching record comparisons, 0.74% of records are in the inexact match comparison level\", \"u_probability_description\": \"Amongst non-matching record comparisons, 41.69% of records are in the inexact match comparison level\", \"has_tf_adjustments\": false, \"tf_adjustment_column\": null, \"tf_adjustment_weight\": 1.0, \"is_null_level\": false, \"bayes_factor\": 0.017640727994617435, \"log2_bayes_factor\": -5.824946090752715, \"comparison_vector_value\": 1, \"max_comparison_vector_value\": 2, \"bayes_factor_description\": \"If comparison level is `inexact match` then comparison is  56.69 times less likely to be a match\", \"probability_two_random_records_match\": 0.006563390187237986, \"comparison_sort_order\": 3, \"iteration\": 5}, {\"comparison_name\": \"month_of_birth\", \"sql_condition\": \"ELSE\", \"label_for_charts\": \"All other comparisons\", \"m_probability\": 0.005983583244225981, \"u_probability\": 0.4998171260853169, \"m_probability_description\": \"Amongst matching record comparisons, 0.60% of records are in the all other comparisons comparison level\", \"u_probability_description\": \"Amongst non-matching record comparisons, 49.98% of records are in the all other comparisons comparison level\", \"has_tf_adjustments\": false, \"tf_adjustment_column\": null, \"tf_adjustment_weight\": 1.0, \"is_null_level\": false, \"bayes_factor\": 0.011971545055070013, \"log2_bayes_factor\": -6.384246830355435, \"comparison_vector_value\": 0, \"max_comparison_vector_value\": 2, \"bayes_factor_description\": \"If comparison level is `all other comparisons` then comparison is  83.53 times less likely to be a match\", \"probability_two_random_records_match\": 0.006563390187237986, \"comparison_sort_order\": 3, \"iteration\": 5}, {\"comparison_name\": \"year_of_birth\", \"sql_condition\": \"\\\"year_of_birth_l\\\" = \\\"year_of_birth_r\\\"\", \"label_for_charts\": \"Exact match\", \"m_probability\": 0.9695291663467879, \"u_probability\": 0.011085112473136845, \"m_probability_description\": \"Amongst matching record comparisons, 96.95% of records are in the exact match comparison level\", \"u_probability_description\": \"Amongst non-matching record comparisons, 1.11% of records are in the exact match comparison level\", \"has_tf_adjustments\": false, \"tf_adjustment_column\": null, \"tf_adjustment_weight\": 1.0, \"is_null_level\": false, \"bayes_factor\": 87.4622759756656, \"log2_bayes_factor\": 6.450588986138439, \"comparison_vector_value\": 2, \"max_comparison_vector_value\": 2, \"bayes_factor_description\": \"If comparison level is `exact match` then comparison is 87.46 times more likely to be a match\", \"probability_two_random_records_match\": 0.006563390187237986, \"comparison_sort_order\": 4, \"iteration\": 5}, {\"comparison_name\": \"year_of_birth\", \"sql_condition\": \"abs(year_of_birth_l - year_of_birth_r) <= 5\", \"label_for_charts\": \"Inexact match\", \"m_probability\": 0.0099541842917677, \"u_probability\": 0.10968379850702191, \"m_probability_description\": \"Amongst matching record comparisons, 1.00% of records are in the inexact match comparison level\", \"u_probability_description\": \"Amongst non-matching record comparisons, 10.97% of records are in the inexact match comparison level\", \"has_tf_adjustments\": false, \"tf_adjustment_column\": null, \"tf_adjustment_weight\": 1.0, \"is_null_level\": false, \"bayes_factor\": 0.09075346065016555, \"log2_bayes_factor\": -3.4619035321468905, \"comparison_vector_value\": 1, \"max_comparison_vector_value\": 2, \"bayes_factor_description\": \"If comparison level is `inexact match` then comparison is  11.02 times less likely to be a match\", \"probability_two_random_records_match\": 0.006563390187237986, \"comparison_sort_order\": 4, \"iteration\": 5}, {\"comparison_name\": \"year_of_birth\", \"sql_condition\": \"ELSE\", \"label_for_charts\": \"All other comparisons\", \"m_probability\": 0.02051664936144439, \"u_probability\": 0.8792310890198413, \"m_probability_description\": \"Amongst matching record comparisons, 2.05% of records are in the all other comparisons comparison level\", \"u_probability_description\": \"Amongst non-matching record comparisons, 87.92% of records are in the all other comparisons comparison level\", \"has_tf_adjustments\": false, \"tf_adjustment_column\": null, \"tf_adjustment_weight\": 1.0, \"is_null_level\": false, \"bayes_factor\": 0.023334763314973497, \"log2_bayes_factor\": -5.421375355686541, \"comparison_vector_value\": 0, \"max_comparison_vector_value\": 2, \"bayes_factor_description\": \"If comparison level is `all other comparisons` then comparison is  42.85 times less likely to be a match\", \"probability_two_random_records_match\": 0.006563390187237986, \"comparison_sort_order\": 4, \"iteration\": 5}, {\"comparison_name\": \"geokey\", \"sql_condition\": \"\\\"geokey_l\\\" = \\\"geokey_r\\\"\", \"label_for_charts\": \"Exact match\", \"m_probability\": 0.6084207962592272, \"u_probability\": 0.0024275211541129145, \"m_probability_description\": \"Amongst matching record comparisons, 60.84% of records are in the exact match comparison level\", \"u_probability_description\": \"Amongst non-matching record comparisons, 0.24% of records are in the exact match comparison level\", \"has_tf_adjustments\": false, \"tf_adjustment_column\": null, \"tf_adjustment_weight\": 1.0, \"is_null_level\": false, \"bayes_factor\": 250.6346011561582, \"log2_bayes_factor\": 7.969441788275209, \"comparison_vector_value\": 2, \"max_comparison_vector_value\": 2, \"bayes_factor_description\": \"If comparison level is `exact match` then comparison is 250.63 times more likely to be a match\", \"probability_two_random_records_match\": 0.006563390187237986, \"comparison_sort_order\": 5, \"iteration\": 5}, {\"comparison_name\": \"geokey\", \"sql_condition\": \"jaro_winkler_similarity(\\\"geokey_l\\\", \\\"geokey_r\\\") >= 0.7222222222222222\", \"label_for_charts\": \"Jaro_winkler_similarity >= 0.7222222222222222\", \"m_probability\": 0.3856941113786568, \"u_probability\": 0.2569010958524067, \"m_probability_description\": \"Amongst matching record comparisons, 38.57% of records are in the jaro_winkler_similarity >= 0.7222222222222222 comparison level\", \"u_probability_description\": \"Amongst non-matching record comparisons, 25.69% of records are in the jaro_winkler_similarity >= 0.7222222222222222 comparison level\", \"has_tf_adjustments\": false, \"tf_adjustment_column\": null, \"tf_adjustment_weight\": 1.0, \"is_null_level\": false, \"bayes_factor\": 1.5013330717757758, \"log2_bayes_factor\": 0.5862440753551853, \"comparison_vector_value\": 1, \"max_comparison_vector_value\": 2, \"bayes_factor_description\": \"If comparison level is `jaro_winkler_similarity >= 0.7222222222222222` then comparison is 1.50 times more likely to be a match\", \"probability_two_random_records_match\": 0.006563390187237986, \"comparison_sort_order\": 5, \"iteration\": 5}, {\"comparison_name\": \"geokey\", \"sql_condition\": \"ELSE\", \"label_for_charts\": \"All other comparisons\", \"m_probability\": 0.005885092362116106, \"u_probability\": 0.7406713829934803, \"m_probability_description\": \"Amongst matching record comparisons, 0.59% of records are in the all other comparisons comparison level\", \"u_probability_description\": \"Amongst non-matching record comparisons, 74.07% of records are in the all other comparisons comparison level\", \"has_tf_adjustments\": false, \"tf_adjustment_column\": null, \"tf_adjustment_weight\": 1.0, \"is_null_level\": false, \"bayes_factor\": 0.007945618660641448, \"log2_bayes_factor\": -6.9756247297967695, \"comparison_vector_value\": 0, \"max_comparison_vector_value\": 2, \"bayes_factor_description\": \"If comparison level is `all other comparisons` then comparison is  125.86 times less likely to be a match\", \"probability_two_random_records_match\": 0.006563390187237986, \"comparison_sort_order\": 5, \"iteration\": 5}]}}, {\"mode\": \"vega-lite\"});\n",
       "</script>"
      ],
      "text/plain": [
       "alt.VConcatChart(...)"
      ]
     },
     "execution_count": 58,
     "metadata": {},
     "output_type": "execute_result"
    }
   ],
   "source": [
    "em_session_1.match_weights_interactive_history_chart()"
   ]
  },
  {
   "cell_type": "code",
   "execution_count": 59,
   "id": "71478531-8837-48f4-8748-a65c5d8fa7cd",
   "metadata": {
    "execution": {
     "iopub.execute_input": "2024-05-16T17:21:10.092556Z",
     "iopub.status.busy": "2024-05-16T17:21:10.091802Z",
     "iopub.status.idle": "2024-05-16T17:21:10.921648Z",
     "shell.execute_reply": "2024-05-16T17:21:10.921208Z"
    },
    "papermill": {
     "duration": 0.861152,
     "end_time": "2024-05-16T17:21:10.927131",
     "exception": false,
     "start_time": "2024-05-16T17:21:10.065979",
     "status": "completed"
    },
    "tags": []
   },
   "outputs": [
    {
     "name": "stderr",
     "output_type": "stream",
     "text": [
      "\n",
      "----- Starting EM training session -----\n",
      "\n"
     ]
    },
    {
     "name": "stderr",
     "output_type": "stream",
     "text": [
      "Estimating the m probabilities of the model by blocking on:\n",
      "l.geokey = r.geokey\n",
      "\n",
      "Parameter estimates will be made for the following comparison(s):\n",
      "    - first_name_15\n",
      "    - last_name_12\n",
      "    - middle_initial\n",
      "    - day_of_birth\n",
      "    - month_of_birth\n",
      "    - year_of_birth\n",
      "\n",
      "Parameter estimates cannot be made for the following comparison(s) since they are used in the blocking rules: \n",
      "    - geokey\n"
     ]
    },
    {
     "name": "stderr",
     "output_type": "stream",
     "text": [
      "\n"
     ]
    },
    {
     "name": "stderr",
     "output_type": "stream",
     "text": [
      "Iteration 1: Largest change in params was -0.0838 in the m_probability of first_name_15, level `Exact match`\n"
     ]
    },
    {
     "name": "stderr",
     "output_type": "stream",
     "text": [
      "Iteration 2: Largest change in params was -0.00662 in the m_probability of first_name_15, level `Exact match`\n"
     ]
    },
    {
     "name": "stderr",
     "output_type": "stream",
     "text": [
      "Iteration 3: Largest change in params was 0.000968 in the m_probability of first_name_15, level `All other comparisons`\n"
     ]
    },
    {
     "name": "stderr",
     "output_type": "stream",
     "text": [
      "Iteration 4: Largest change in params was 0.00016 in the m_probability of first_name_15, level `All other comparisons`\n"
     ]
    },
    {
     "name": "stderr",
     "output_type": "stream",
     "text": [
      "Iteration 5: Largest change in params was 2.69e-05 in the m_probability of year_of_birth, level `All other comparisons`\n"
     ]
    },
    {
     "name": "stderr",
     "output_type": "stream",
     "text": [
      "\n",
      "EM converged after 5 iterations\n"
     ]
    },
    {
     "name": "stderr",
     "output_type": "stream",
     "text": [
      "\n",
      "Your model is fully trained. All comparisons have at least one estimate for their m and u values\n"
     ]
    }
   ],
   "source": [
    "blocking_rule_for_training = \"l.geokey = r.geokey\"\n",
    "em_session_2 = linker.estimate_parameters_using_expectation_maximisation(\n",
    "    blocking_rule_for_training,\n",
    "    # Fix lambda; u is fixed by default\n",
    "    fix_probability_two_random_records_match=True,\n",
    ")"
   ]
  },
  {
   "cell_type": "code",
   "execution_count": 60,
   "id": "750d48f3-7f15-40de-aa1a-78d4ed42371f",
   "metadata": {
    "execution": {
     "iopub.execute_input": "2024-05-16T17:21:10.988401Z",
     "iopub.status.busy": "2024-05-16T17:21:10.987303Z",
     "iopub.status.idle": "2024-05-16T17:21:11.191848Z",
     "shell.execute_reply": "2024-05-16T17:21:11.191370Z"
    },
    "papermill": {
     "duration": 0.24046,
     "end_time": "2024-05-16T17:21:11.199309",
     "exception": false,
     "start_time": "2024-05-16T17:21:10.958849",
     "status": "completed"
    },
    "tags": []
   },
   "outputs": [
    {
     "data": {
      "text/html": [
       "\n",
       "<style>\n",
       "  #altair-viz-0433f7aae7b14f6ca17972f6e1a07e2c.vega-embed {\n",
       "    width: 100%;\n",
       "    display: flex;\n",
       "  }\n",
       "\n",
       "  #altair-viz-0433f7aae7b14f6ca17972f6e1a07e2c.vega-embed details,\n",
       "  #altair-viz-0433f7aae7b14f6ca17972f6e1a07e2c.vega-embed details summary {\n",
       "    position: relative;\n",
       "  }\n",
       "</style>\n",
       "<div id=\"altair-viz-0433f7aae7b14f6ca17972f6e1a07e2c\"></div>\n",
       "<script type=\"text/javascript\">\n",
       "  var VEGA_DEBUG = (typeof VEGA_DEBUG == \"undefined\") ? {} : VEGA_DEBUG;\n",
       "  (function(spec, embedOpt){\n",
       "    let outputDiv = document.currentScript.previousElementSibling;\n",
       "    if (outputDiv.id !== \"altair-viz-0433f7aae7b14f6ca17972f6e1a07e2c\") {\n",
       "      outputDiv = document.getElementById(\"altair-viz-0433f7aae7b14f6ca17972f6e1a07e2c\");\n",
       "    }\n",
       "    const paths = {\n",
       "      \"vega\": \"https://cdn.jsdelivr.net/npm/vega@5?noext\",\n",
       "      \"vega-lib\": \"https://cdn.jsdelivr.net/npm/vega-lib?noext\",\n",
       "      \"vega-lite\": \"https://cdn.jsdelivr.net/npm/vega-lite@5.17.0?noext\",\n",
       "      \"vega-embed\": \"https://cdn.jsdelivr.net/npm/vega-embed@6?noext\",\n",
       "    };\n",
       "\n",
       "    function maybeLoadScript(lib, version) {\n",
       "      var key = `${lib.replace(\"-\", \"\")}_version`;\n",
       "      return (VEGA_DEBUG[key] == version) ?\n",
       "        Promise.resolve(paths[lib]) :\n",
       "        new Promise(function(resolve, reject) {\n",
       "          var s = document.createElement('script');\n",
       "          document.getElementsByTagName(\"head\")[0].appendChild(s);\n",
       "          s.async = true;\n",
       "          s.onload = () => {\n",
       "            VEGA_DEBUG[key] = version;\n",
       "            return resolve(paths[lib]);\n",
       "          };\n",
       "          s.onerror = () => reject(`Error loading script: ${paths[lib]}`);\n",
       "          s.src = paths[lib];\n",
       "        });\n",
       "    }\n",
       "\n",
       "    function showError(err) {\n",
       "      outputDiv.innerHTML = `<div class=\"error\" style=\"color:red;\">${err}</div>`;\n",
       "      throw err;\n",
       "    }\n",
       "\n",
       "    function displayChart(vegaEmbed) {\n",
       "      vegaEmbed(outputDiv, spec, embedOpt)\n",
       "        .catch(err => showError(`Javascript Error: ${err.message}<br>This usually means there's a typo in your chart specification. See the javascript console for the full traceback.`));\n",
       "    }\n",
       "\n",
       "    if(typeof define === \"function\" && define.amd) {\n",
       "      requirejs.config({paths});\n",
       "      require([\"vega-embed\"], displayChart, err => showError(`Error loading script: ${err.message}`));\n",
       "    } else {\n",
       "      maybeLoadScript(\"vega\", \"5\")\n",
       "        .then(() => maybeLoadScript(\"vega-lite\", \"5.17.0\"))\n",
       "        .then(() => maybeLoadScript(\"vega-embed\", \"6\"))\n",
       "        .catch(showError)\n",
       "        .then(() => displayChart(vegaEmbed));\n",
       "    }\n",
       "  })({\"config\": {\"view\": {\"continuousWidth\": 300, \"continuousHeight\": 300, \"discreteHeight\": 300, \"discreteWidth\": 400}, \"header\": {\"title\": null}, \"title\": {\"anchor\": \"middle\", \"offset\": 10}}, \"hconcat\": [{\"mark\": \"bar\", \"encoding\": {\"color\": {\"value\": \"green\"}, \"row\": {\"field\": \"comparison_name\", \"header\": {\"labelAlign\": \"left\", \"labelAnchor\": \"middle\", \"labelAngle\": 0}, \"sort\": {\"field\": \"comparison_sort_order\"}, \"type\": \"nominal\"}, \"tooltip\": [{\"field\": \"m_probability_description\", \"title\": \"m probability description\", \"type\": \"nominal\"}, {\"field\": \"comparison_name\", \"title\": \"Comparison column name\", \"type\": \"nominal\"}, {\"field\": \"label_for_charts\", \"title\": \"Label\", \"type\": \"ordinal\"}, {\"field\": \"sql_condition\", \"title\": \"SQL condition\", \"type\": \"nominal\"}, {\"field\": \"m_probability\", \"format\": \".4p\", \"title\": \"m probability\", \"type\": \"quantitative\"}, {\"field\": \"u_probability\", \"format\": \".4p\", \"title\": \"u probability\", \"type\": \"quantitative\"}, {\"field\": \"bayes_factor\", \"format\": \",.4f\", \"title\": \"Bayes factor = m/u\", \"type\": \"quantitative\"}, {\"field\": \"log2_bayes_factor\", \"format\": \",.4f\", \"title\": \"Match weight = log2(m/u)\", \"type\": \"quantitative\"}], \"x\": {\"axis\": {\"title\": \"Proportion of record comparisons\"}, \"field\": \"m_probability\", \"type\": \"quantitative\"}, \"y\": {\"axis\": {\"title\": null}, \"field\": \"label_for_charts\", \"sort\": {\"field\": \"comparison_vector_value\", \"order\": \"descending\"}, \"type\": \"nominal\"}}, \"height\": {\"step\": 12}, \"resolve\": {\"scale\": {\"y\": \"independent\"}}, \"title\": {\"text\": \"Amongst matching record comparisons:\", \"fontSize\": 12, \"fontWeight\": \"bold\"}, \"transform\": [{\"filter\": \"(datum.bayes_factor != 'no-op filter due to vega lite issue 4680')\"}], \"width\": 150}, {\"mark\": \"bar\", \"encoding\": {\"color\": {\"value\": \"red\"}, \"row\": {\"field\": \"comparison_name\", \"header\": {\"labels\": false}, \"sort\": {\"field\": \"comparison_sort_order\"}, \"type\": \"nominal\"}, \"tooltip\": [{\"field\": \"u_probability_description\", \"title\": \"u probability description\", \"type\": \"nominal\"}, {\"field\": \"comparison_name\", \"title\": \"Comparison column name\", \"type\": \"nominal\"}, {\"field\": \"label_for_charts\", \"title\": \"Label\", \"type\": \"ordinal\"}, {\"field\": \"sql_condition\", \"title\": \"SQL condition\", \"type\": \"nominal\"}, {\"field\": \"m_probability\", \"format\": \".4p\", \"title\": \"m probability\", \"type\": \"quantitative\"}, {\"field\": \"u_probability\", \"format\": \".4p\", \"title\": \"u probability\", \"type\": \"quantitative\"}, {\"field\": \"bayes_factor\", \"format\": \",.4f\", \"title\": \"Bayes factor = m/u\", \"type\": \"quantitative\"}, {\"field\": \"log2_bayes_factor\", \"format\": \",.4f\", \"title\": \"Match weight = log2(m/u)\", \"type\": \"quantitative\"}], \"x\": {\"axis\": {\"title\": \"Proportion of record comparisons\"}, \"field\": \"u_probability\", \"type\": \"quantitative\"}, \"y\": {\"axis\": {\"title\": null}, \"field\": \"label_for_charts\", \"sort\": {\"field\": \"comparison_vector_value\", \"order\": \"descending\"}, \"type\": \"nominal\"}}, \"height\": {\"step\": 12}, \"resolve\": {\"scale\": {\"y\": \"independent\"}}, \"title\": {\"text\": \"Amongst non-matching record comparisons:\", \"fontSize\": 12, \"fontWeight\": \"bold\"}, \"transform\": [{\"filter\": \"(datum.bayes_factor != 'no-op filter2 due to vega lite issue 4680')\"}], \"width\": 150}], \"data\": {\"name\": \"data-7226b137bb4076fc6c0d60c9f6a0c084\"}, \"params\": [{\"name\": \"iteration_number\", \"bind\": {\"input\": \"range\", \"max\": 5, \"min\": 0, \"step\": 1}, \"value\": 5}], \"title\": {\"text\": \"Proportion of record comparisons in each comparison level by match status\", \"subtitle\": \"(m and u probabilities)\"}, \"transform\": [{\"filter\": \"(datum.iteration == iteration_number)\"}], \"$schema\": \"https://vega.github.io/schema/vega-lite/v5.9.3.json\", \"datasets\": {\"data-7226b137bb4076fc6c0d60c9f6a0c084\": [{\"comparison_name\": \"first_name_15\", \"sql_condition\": \"\\\"first_name_15_l\\\" = \\\"first_name_15_r\\\"\", \"label_for_charts\": \"Exact match\", \"m_probability\": 0.95, \"u_probability\": 0.0020297990270034772, \"m_probability_description\": \"Amongst matching record comparisons, 95.00% of records are in the exact match comparison level\", \"u_probability_description\": \"Amongst non-matching record comparisons, 0.20% of records are in the exact match comparison level\", \"has_tf_adjustments\": false, \"tf_adjustment_column\": null, \"tf_adjustment_weight\": 1.0, \"is_null_level\": false, \"bayes_factor\": 468.02663089382423, \"log2_bayes_factor\": 8.870446811817102, \"comparison_vector_value\": 2, \"max_comparison_vector_value\": 2, \"bayes_factor_description\": \"If comparison level is `exact match` then comparison is 468.03 times more likely to be a match\", \"probability_two_random_records_match\": 0.0035255323172626468, \"comparison_sort_order\": 0, \"iteration\": 0}, {\"comparison_name\": \"first_name_15\", \"sql_condition\": \"jaro_winkler_similarity(\\\"first_name_15_l\\\", \\\"first_name_15_r\\\") >= 0.8333333333333334\", \"label_for_charts\": \"Jaro_winkler_similarity >= 0.8333333333333334\", \"m_probability\": 0.025000000000000022, \"u_probability\": 0.0034682162537213487, \"m_probability_description\": \"Amongst matching record comparisons, 2.50% of records are in the jaro_winkler_similarity >= 0.8333333333333334 comparison level\", \"u_probability_description\": \"Amongst non-matching record comparisons, 0.35% of records are in the jaro_winkler_similarity >= 0.8333333333333334 comparison level\", \"has_tf_adjustments\": false, \"tf_adjustment_column\": null, \"tf_adjustment_weight\": 1.0, \"is_null_level\": false, \"bayes_factor\": 7.208316371038099, \"log2_bayes_factor\": 2.8496623320326075, \"comparison_vector_value\": 1, \"max_comparison_vector_value\": 2, \"bayes_factor_description\": \"If comparison level is `jaro_winkler_similarity >= 0.8333333333333334` then comparison is 7.21 times more likely to be a match\", \"probability_two_random_records_match\": 0.0035255323172626468, \"comparison_sort_order\": 0, \"iteration\": 0}, {\"comparison_name\": \"first_name_15\", \"sql_condition\": \"ELSE\", \"label_for_charts\": \"All other comparisons\", \"m_probability\": 0.025000000000000022, \"u_probability\": 0.9945019847192752, \"m_probability_description\": \"Amongst matching record comparisons, 2.50% of records are in the all other comparisons comparison level\", \"u_probability_description\": \"Amongst non-matching record comparisons, 99.45% of records are in the all other comparisons comparison level\", \"has_tf_adjustments\": false, \"tf_adjustment_column\": null, \"tf_adjustment_weight\": 1.0, \"is_null_level\": false, \"bayes_factor\": 0.02513821026416246, \"log2_bayes_factor\": -5.313974250236292, \"comparison_vector_value\": 0, \"max_comparison_vector_value\": 2, \"bayes_factor_description\": \"If comparison level is `all other comparisons` then comparison is  39.78 times less likely to be a match\", \"probability_two_random_records_match\": 0.0035255323172626468, \"comparison_sort_order\": 0, \"iteration\": 0}, {\"comparison_name\": \"last_name_12\", \"sql_condition\": \"\\\"last_name_12_l\\\" = \\\"last_name_12_r\\\"\", \"label_for_charts\": \"Exact match\", \"m_probability\": 0.8790310132490157, \"u_probability\": 0.0006842173986881611, \"m_probability_description\": \"Amongst matching record comparisons, 87.90% of records are in the exact match comparison level\", \"u_probability_description\": \"Amongst non-matching record comparisons, 0.07% of records are in the exact match comparison level\", \"has_tf_adjustments\": false, \"tf_adjustment_column\": null, \"tf_adjustment_weight\": 1.0, \"is_null_level\": false, \"bayes_factor\": 1284.7247306694737, \"log2_bayes_factor\": 10.32724356062585, \"comparison_vector_value\": 2, \"max_comparison_vector_value\": 2, \"bayes_factor_description\": \"If comparison level is `exact match` then comparison is 1,284.72 times more likely to be a match\", \"probability_two_random_records_match\": 0.0035255323172626468, \"comparison_sort_order\": 1, \"iteration\": 0}, {\"comparison_name\": \"last_name_12\", \"sql_condition\": \"jaro_winkler_similarity(\\\"last_name_12_l\\\", \\\"last_name_12_r\\\") >= 0.8333333333333334\", \"label_for_charts\": \"Jaro_winkler_similarity >= 0.8333333333333334\", \"m_probability\": 0.09413474811499295, \"u_probability\": 0.0013675335890361796, \"m_probability_description\": \"Amongst matching record comparisons, 9.41% of records are in the jaro_winkler_similarity >= 0.8333333333333334 comparison level\", \"u_probability_description\": \"Amongst non-matching record comparisons, 0.14% of records are in the jaro_winkler_similarity >= 0.8333333333333334 comparison level\", \"has_tf_adjustments\": false, \"tf_adjustment_column\": null, \"tf_adjustment_weight\": 1.0, \"is_null_level\": false, \"bayes_factor\": 68.83541937813602, \"log2_bayes_factor\": 6.105079191970297, \"comparison_vector_value\": 1, \"max_comparison_vector_value\": 2, \"bayes_factor_description\": \"If comparison level is `jaro_winkler_similarity >= 0.8333333333333334` then comparison is 68.84 times more likely to be a match\", \"probability_two_random_records_match\": 0.0035255323172626468, \"comparison_sort_order\": 1, \"iteration\": 0}, {\"comparison_name\": \"last_name_12\", \"sql_condition\": \"ELSE\", \"label_for_charts\": \"All other comparisons\", \"m_probability\": 0.026834238635991325, \"u_probability\": 0.9979482490122756, \"m_probability_description\": \"Amongst matching record comparisons, 2.68% of records are in the all other comparisons comparison level\", \"u_probability_description\": \"Amongst non-matching record comparisons, 99.79% of records are in the all other comparisons comparison level\", \"has_tf_adjustments\": false, \"tf_adjustment_column\": null, \"tf_adjustment_weight\": 1.0, \"is_null_level\": false, \"bayes_factor\": 0.02688940900748175, \"log2_bayes_factor\": -5.21681814268387, \"comparison_vector_value\": 0, \"max_comparison_vector_value\": 2, \"bayes_factor_description\": \"If comparison level is `all other comparisons` then comparison is  37.19 times less likely to be a match\", \"probability_two_random_records_match\": 0.0035255323172626468, \"comparison_sort_order\": 1, \"iteration\": 0}, {\"comparison_name\": \"middle_initial\", \"sql_condition\": \"\\\"middle_initial_l\\\" = \\\"middle_initial_r\\\"\", \"label_for_charts\": \"Exact match\", \"m_probability\": 0.9446040958650342, \"u_probability\": 0.07300510353598076, \"m_probability_description\": \"Amongst matching record comparisons, 94.46% of records are in the exact match comparison level\", \"u_probability_description\": \"Amongst non-matching record comparisons, 7.30% of records are in the exact match comparison level\", \"has_tf_adjustments\": false, \"tf_adjustment_column\": null, \"tf_adjustment_weight\": 1.0, \"is_null_level\": false, \"bayes_factor\": 12.938877559422727, \"log2_bayes_factor\": 3.693640564637342, \"comparison_vector_value\": 1, \"max_comparison_vector_value\": 1, \"bayes_factor_description\": \"If comparison level is `exact match` then comparison is 12.94 times more likely to be a match\", \"probability_two_random_records_match\": 0.0035255323172626468, \"comparison_sort_order\": 2, \"iteration\": 0}, {\"comparison_name\": \"middle_initial\", \"sql_condition\": \"ELSE\", \"label_for_charts\": \"All other comparisons\", \"m_probability\": 0.0553959041349657, \"u_probability\": 0.9269948964640192, \"m_probability_description\": \"Amongst matching record comparisons, 5.54% of records are in the all other comparisons comparison level\", \"u_probability_description\": \"Amongst non-matching record comparisons, 92.70% of records are in the all other comparisons comparison level\", \"has_tf_adjustments\": false, \"tf_adjustment_column\": null, \"tf_adjustment_weight\": 1.0, \"is_null_level\": false, \"bayes_factor\": 0.059758585884637457, \"log2_bayes_factor\": -4.064710180893882, \"comparison_vector_value\": 0, \"max_comparison_vector_value\": 1, \"bayes_factor_description\": \"If comparison level is `all other comparisons` then comparison is  16.73 times less likely to be a match\", \"probability_two_random_records_match\": 0.0035255323172626468, \"comparison_sort_order\": 2, \"iteration\": 0}, {\"comparison_name\": \"day_of_birth\", \"sql_condition\": \"\\\"day_of_birth_l\\\" = \\\"day_of_birth_r\\\"\", \"label_for_charts\": \"Exact match\", \"m_probability\": 0.9782850863565768, \"u_probability\": 0.03251748092886318, \"m_probability_description\": \"Amongst matching record comparisons, 97.83% of records are in the exact match comparison level\", \"u_probability_description\": \"Amongst non-matching record comparisons, 3.25% of records are in the exact match comparison level\", \"has_tf_adjustments\": false, \"tf_adjustment_column\": null, \"tf_adjustment_weight\": 1.0, \"is_null_level\": false, \"bayes_factor\": 30.084897673861047, \"log2_bayes_factor\": 4.910967544702685, \"comparison_vector_value\": 2, \"max_comparison_vector_value\": 2, \"bayes_factor_description\": \"If comparison level is `exact match` then comparison is 30.08 times more likely to be a match\", \"probability_two_random_records_match\": 0.0035255323172626468, \"comparison_sort_order\": 3, \"iteration\": 0}, {\"comparison_name\": \"day_of_birth\", \"sql_condition\": \"abs(day_of_birth_l - day_of_birth_r) <= 5\", \"label_for_charts\": \"Inexact match\", \"m_probability\": 0.01719854940983155, \"u_probability\": 0.29545734380750305, \"m_probability_description\": \"Amongst matching record comparisons, 1.72% of records are in the inexact match comparison level\", \"u_probability_description\": \"Amongst non-matching record comparisons, 29.55% of records are in the inexact match comparison level\", \"has_tf_adjustments\": false, \"tf_adjustment_column\": null, \"tf_adjustment_weight\": 1.0, \"is_null_level\": false, \"bayes_factor\": 0.058209923599112784, \"log2_bayes_factor\": -4.102591065733878, \"comparison_vector_value\": 1, \"max_comparison_vector_value\": 2, \"bayes_factor_description\": \"If comparison level is `inexact match` then comparison is  17.18 times less likely to be a match\", \"probability_two_random_records_match\": 0.0035255323172626468, \"comparison_sort_order\": 3, \"iteration\": 0}, {\"comparison_name\": \"day_of_birth\", \"sql_condition\": \"ELSE\", \"label_for_charts\": \"All other comparisons\", \"m_probability\": 0.004516364233591675, \"u_probability\": 0.6720251752636338, \"m_probability_description\": \"Amongst matching record comparisons, 0.45% of records are in the all other comparisons comparison level\", \"u_probability_description\": \"Amongst non-matching record comparisons, 67.20% of records are in the all other comparisons comparison level\", \"has_tf_adjustments\": false, \"tf_adjustment_column\": null, \"tf_adjustment_weight\": 1.0, \"is_null_level\": false, \"bayes_factor\": 0.00672052833708189, \"log2_bayes_factor\": -7.217209629139347, \"comparison_vector_value\": 0, \"max_comparison_vector_value\": 2, \"bayes_factor_description\": \"If comparison level is `all other comparisons` then comparison is  148.80 times less likely to be a match\", \"probability_two_random_records_match\": 0.0035255323172626468, \"comparison_sort_order\": 3, \"iteration\": 0}, {\"comparison_name\": \"month_of_birth\", \"sql_condition\": \"\\\"month_of_birth_l\\\" = \\\"month_of_birth_r\\\"\", \"label_for_charts\": \"Exact match\", \"m_probability\": 0.9866613211352474, \"u_probability\": 0.08324454672258141, \"m_probability_description\": \"Amongst matching record comparisons, 98.67% of records are in the exact match comparison level\", \"u_probability_description\": \"Amongst non-matching record comparisons, 8.32% of records are in the exact match comparison level\", \"has_tf_adjustments\": false, \"tf_adjustment_column\": null, \"tf_adjustment_weight\": 1.0, \"is_null_level\": false, \"bayes_factor\": 11.85256404150255, \"log2_bayes_factor\": 3.5671272831095306, \"comparison_vector_value\": 2, \"max_comparison_vector_value\": 2, \"bayes_factor_description\": \"If comparison level is `exact match` then comparison is 11.85 times more likely to be a match\", \"probability_two_random_records_match\": 0.0035255323172626468, \"comparison_sort_order\": 4, \"iteration\": 0}, {\"comparison_name\": \"month_of_birth\", \"sql_condition\": \"abs(month_of_birth_l - month_of_birth_r) <= 3\", \"label_for_charts\": \"Inexact match\", \"m_probability\": 0.0073550956205266724, \"u_probability\": 0.41693832719210167, \"m_probability_description\": \"Amongst matching record comparisons, 0.74% of records are in the inexact match comparison level\", \"u_probability_description\": \"Amongst non-matching record comparisons, 41.69% of records are in the inexact match comparison level\", \"has_tf_adjustments\": false, \"tf_adjustment_column\": null, \"tf_adjustment_weight\": 1.0, \"is_null_level\": false, \"bayes_factor\": 0.017640727994617435, \"log2_bayes_factor\": -5.824946090752715, \"comparison_vector_value\": 1, \"max_comparison_vector_value\": 2, \"bayes_factor_description\": \"If comparison level is `inexact match` then comparison is  56.69 times less likely to be a match\", \"probability_two_random_records_match\": 0.0035255323172626468, \"comparison_sort_order\": 4, \"iteration\": 0}, {\"comparison_name\": \"month_of_birth\", \"sql_condition\": \"ELSE\", \"label_for_charts\": \"All other comparisons\", \"m_probability\": 0.005983583244225981, \"u_probability\": 0.4998171260853169, \"m_probability_description\": \"Amongst matching record comparisons, 0.60% of records are in the all other comparisons comparison level\", \"u_probability_description\": \"Amongst non-matching record comparisons, 49.98% of records are in the all other comparisons comparison level\", \"has_tf_adjustments\": false, \"tf_adjustment_column\": null, \"tf_adjustment_weight\": 1.0, \"is_null_level\": false, \"bayes_factor\": 0.011971545055070013, \"log2_bayes_factor\": -6.384246830355435, \"comparison_vector_value\": 0, \"max_comparison_vector_value\": 2, \"bayes_factor_description\": \"If comparison level is `all other comparisons` then comparison is  83.53 times less likely to be a match\", \"probability_two_random_records_match\": 0.0035255323172626468, \"comparison_sort_order\": 4, \"iteration\": 0}, {\"comparison_name\": \"year_of_birth\", \"sql_condition\": \"\\\"year_of_birth_l\\\" = \\\"year_of_birth_r\\\"\", \"label_for_charts\": \"Exact match\", \"m_probability\": 0.9695291663467879, \"u_probability\": 0.011085112473136845, \"m_probability_description\": \"Amongst matching record comparisons, 96.95% of records are in the exact match comparison level\", \"u_probability_description\": \"Amongst non-matching record comparisons, 1.11% of records are in the exact match comparison level\", \"has_tf_adjustments\": false, \"tf_adjustment_column\": null, \"tf_adjustment_weight\": 1.0, \"is_null_level\": false, \"bayes_factor\": 87.4622759756656, \"log2_bayes_factor\": 6.450588986138439, \"comparison_vector_value\": 2, \"max_comparison_vector_value\": 2, \"bayes_factor_description\": \"If comparison level is `exact match` then comparison is 87.46 times more likely to be a match\", \"probability_two_random_records_match\": 0.0035255323172626468, \"comparison_sort_order\": 5, \"iteration\": 0}, {\"comparison_name\": \"year_of_birth\", \"sql_condition\": \"abs(year_of_birth_l - year_of_birth_r) <= 5\", \"label_for_charts\": \"Inexact match\", \"m_probability\": 0.0099541842917677, \"u_probability\": 0.10968379850702191, \"m_probability_description\": \"Amongst matching record comparisons, 1.00% of records are in the inexact match comparison level\", \"u_probability_description\": \"Amongst non-matching record comparisons, 10.97% of records are in the inexact match comparison level\", \"has_tf_adjustments\": false, \"tf_adjustment_column\": null, \"tf_adjustment_weight\": 1.0, \"is_null_level\": false, \"bayes_factor\": 0.09075346065016555, \"log2_bayes_factor\": -3.4619035321468905, \"comparison_vector_value\": 1, \"max_comparison_vector_value\": 2, \"bayes_factor_description\": \"If comparison level is `inexact match` then comparison is  11.02 times less likely to be a match\", \"probability_two_random_records_match\": 0.0035255323172626468, \"comparison_sort_order\": 5, \"iteration\": 0}, {\"comparison_name\": \"year_of_birth\", \"sql_condition\": \"ELSE\", \"label_for_charts\": \"All other comparisons\", \"m_probability\": 0.02051664936144439, \"u_probability\": 0.8792310890198413, \"m_probability_description\": \"Amongst matching record comparisons, 2.05% of records are in the all other comparisons comparison level\", \"u_probability_description\": \"Amongst non-matching record comparisons, 87.92% of records are in the all other comparisons comparison level\", \"has_tf_adjustments\": false, \"tf_adjustment_column\": null, \"tf_adjustment_weight\": 1.0, \"is_null_level\": false, \"bayes_factor\": 0.023334763314973497, \"log2_bayes_factor\": -5.421375355686541, \"comparison_vector_value\": 0, \"max_comparison_vector_value\": 2, \"bayes_factor_description\": \"If comparison level is `all other comparisons` then comparison is  42.85 times less likely to be a match\", \"probability_two_random_records_match\": 0.0035255323172626468, \"comparison_sort_order\": 5, \"iteration\": 0}, {\"comparison_name\": \"first_name_15\", \"sql_condition\": \"\\\"first_name_15_l\\\" = \\\"first_name_15_r\\\"\", \"label_for_charts\": \"Exact match\", \"m_probability\": 0.8661854688190516, \"u_probability\": 0.0020297990270034772, \"m_probability_description\": \"Amongst matching record comparisons, 86.62% of records are in the exact match comparison level\", \"u_probability_description\": \"Amongst non-matching record comparisons, 0.20% of records are in the exact match comparison level\", \"has_tf_adjustments\": false, \"tf_adjustment_column\": null, \"tf_adjustment_weight\": 1.0, \"is_null_level\": false, \"bayes_factor\": 426.73459652691406, \"log2_bayes_factor\": 8.737195268240855, \"comparison_vector_value\": 2, \"max_comparison_vector_value\": 2, \"bayes_factor_description\": \"If comparison level is `exact match` then comparison is 426.73 times more likely to be a match\", \"probability_two_random_records_match\": 0.0035255323172626468, \"comparison_sort_order\": 0, \"iteration\": 1}, {\"comparison_name\": \"first_name_15\", \"sql_condition\": \"jaro_winkler_similarity(\\\"first_name_15_l\\\", \\\"first_name_15_r\\\") >= 0.8333333333333334\", \"label_for_charts\": \"Jaro_winkler_similarity >= 0.8333333333333334\", \"m_probability\": 0.07303693209354067, \"u_probability\": 0.0034682162537213487, \"m_probability_description\": \"Amongst matching record comparisons, 7.30% of records are in the jaro_winkler_similarity >= 0.8333333333333334 comparison level\", \"u_probability_description\": \"Amongst non-matching record comparisons, 0.35% of records are in the jaro_winkler_similarity >= 0.8333333333333334 comparison level\", \"has_tf_adjustments\": false, \"tf_adjustment_column\": null, \"tf_adjustment_weight\": 1.0, \"is_null_level\": false, \"bayes_factor\": 21.05893253201067, \"log2_bayes_factor\": 4.396360403529929, \"comparison_vector_value\": 1, \"max_comparison_vector_value\": 2, \"bayes_factor_description\": \"If comparison level is `jaro_winkler_similarity >= 0.8333333333333334` then comparison is 21.06 times more likely to be a match\", \"probability_two_random_records_match\": 0.0035255323172626468, \"comparison_sort_order\": 0, \"iteration\": 1}, {\"comparison_name\": \"first_name_15\", \"sql_condition\": \"ELSE\", \"label_for_charts\": \"All other comparisons\", \"m_probability\": 0.06077759908740771, \"u_probability\": 0.9945019847192752, \"m_probability_description\": \"Amongst matching record comparisons, 6.08% of records are in the all other comparisons comparison level\", \"u_probability_description\": \"Amongst non-matching record comparisons, 99.45% of records are in the all other comparisons comparison level\", \"has_tf_adjustments\": false, \"tf_adjustment_column\": null, \"tf_adjustment_weight\": 1.0, \"is_null_level\": false, \"bayes_factor\": 0.06111360260840888, \"log2_bayes_factor\": -4.032362660278338, \"comparison_vector_value\": 0, \"max_comparison_vector_value\": 2, \"bayes_factor_description\": \"If comparison level is `all other comparisons` then comparison is  16.36 times less likely to be a match\", \"probability_two_random_records_match\": 0.0035255323172626468, \"comparison_sort_order\": 0, \"iteration\": 1}, {\"comparison_name\": \"last_name_12\", \"sql_condition\": \"\\\"last_name_12_l\\\" = \\\"last_name_12_r\\\"\", \"label_for_charts\": \"Exact match\", \"m_probability\": 0.8657788866059536, \"u_probability\": 0.0006842173986881611, \"m_probability_description\": \"Amongst matching record comparisons, 86.58% of records are in the exact match comparison level\", \"u_probability_description\": \"Amongst non-matching record comparisons, 0.07% of records are in the exact match comparison level\", \"has_tf_adjustments\": false, \"tf_adjustment_column\": null, \"tf_adjustment_weight\": 1.0, \"is_null_level\": false, \"bayes_factor\": 1265.3564324232289, \"log2_bayes_factor\": 10.305328112947688, \"comparison_vector_value\": 2, \"max_comparison_vector_value\": 2, \"bayes_factor_description\": \"If comparison level is `exact match` then comparison is 1,265.36 times more likely to be a match\", \"probability_two_random_records_match\": 0.0035255323172626468, \"comparison_sort_order\": 1, \"iteration\": 1}, {\"comparison_name\": \"last_name_12\", \"sql_condition\": \"jaro_winkler_similarity(\\\"last_name_12_l\\\", \\\"last_name_12_r\\\") >= 0.8333333333333334\", \"label_for_charts\": \"Jaro_winkler_similarity >= 0.8333333333333334\", \"m_probability\": 0.10098055461133396, \"u_probability\": 0.0013675335890361796, \"m_probability_description\": \"Amongst matching record comparisons, 10.10% of records are in the jaro_winkler_similarity >= 0.8333333333333334 comparison level\", \"u_probability_description\": \"Amongst non-matching record comparisons, 0.14% of records are in the jaro_winkler_similarity >= 0.8333333333333334 comparison level\", \"has_tf_adjustments\": false, \"tf_adjustment_column\": null, \"tf_adjustment_weight\": 1.0, \"is_null_level\": false, \"bayes_factor\": 73.84137064048552, \"log2_bayes_factor\": 6.206357427365616, \"comparison_vector_value\": 1, \"max_comparison_vector_value\": 2, \"bayes_factor_description\": \"If comparison level is `jaro_winkler_similarity >= 0.8333333333333334` then comparison is 73.84 times more likely to be a match\", \"probability_two_random_records_match\": 0.0035255323172626468, \"comparison_sort_order\": 1, \"iteration\": 1}, {\"comparison_name\": \"last_name_12\", \"sql_condition\": \"ELSE\", \"label_for_charts\": \"All other comparisons\", \"m_probability\": 0.033240558782712495, \"u_probability\": 0.9979482490122756, \"m_probability_description\": \"Amongst matching record comparisons, 3.32% of records are in the all other comparisons comparison level\", \"u_probability_description\": \"Amongst non-matching record comparisons, 99.79% of records are in the all other comparisons comparison level\", \"has_tf_adjustments\": false, \"tf_adjustment_column\": null, \"tf_adjustment_weight\": 1.0, \"is_null_level\": false, \"bayes_factor\": 0.03330890035190954, \"log2_bayes_factor\": -4.907948463592959, \"comparison_vector_value\": 0, \"max_comparison_vector_value\": 2, \"bayes_factor_description\": \"If comparison level is `all other comparisons` then comparison is  30.02 times less likely to be a match\", \"probability_two_random_records_match\": 0.0035255323172626468, \"comparison_sort_order\": 1, \"iteration\": 1}, {\"comparison_name\": \"middle_initial\", \"sql_condition\": \"\\\"middle_initial_l\\\" = \\\"middle_initial_r\\\"\", \"label_for_charts\": \"Exact match\", \"m_probability\": 0.9317051524945533, \"u_probability\": 0.07300510353598076, \"m_probability_description\": \"Amongst matching record comparisons, 93.17% of records are in the exact match comparison level\", \"u_probability_description\": \"Amongst non-matching record comparisons, 7.30% of records are in the exact match comparison level\", \"has_tf_adjustments\": false, \"tf_adjustment_column\": null, \"tf_adjustment_weight\": 1.0, \"is_null_level\": false, \"bayes_factor\": 12.762192057372536, \"log2_bayes_factor\": 3.673804245204041, \"comparison_vector_value\": 1, \"max_comparison_vector_value\": 1, \"bayes_factor_description\": \"If comparison level is `exact match` then comparison is 12.76 times more likely to be a match\", \"probability_two_random_records_match\": 0.0035255323172626468, \"comparison_sort_order\": 2, \"iteration\": 1}, {\"comparison_name\": \"middle_initial\", \"sql_condition\": \"ELSE\", \"label_for_charts\": \"All other comparisons\", \"m_probability\": 0.06829484750544655, \"u_probability\": 0.9269948964640192, \"m_probability_description\": \"Amongst matching record comparisons, 6.83% of records are in the all other comparisons comparison level\", \"u_probability_description\": \"Amongst non-matching record comparisons, 92.70% of records are in the all other comparisons comparison level\", \"has_tf_adjustments\": false, \"tf_adjustment_column\": null, \"tf_adjustment_weight\": 1.0, \"is_null_level\": false, \"bayes_factor\": 0.07367338025910844, \"log2_bayes_factor\": -3.7627127523465798, \"comparison_vector_value\": 0, \"max_comparison_vector_value\": 1, \"bayes_factor_description\": \"If comparison level is `all other comparisons` then comparison is  13.57 times less likely to be a match\", \"probability_two_random_records_match\": 0.0035255323172626468, \"comparison_sort_order\": 2, \"iteration\": 1}, {\"comparison_name\": \"day_of_birth\", \"sql_condition\": \"\\\"day_of_birth_l\\\" = \\\"day_of_birth_r\\\"\", \"label_for_charts\": \"Exact match\", \"m_probability\": 0.9785430976733267, \"u_probability\": 0.03251748092886318, \"m_probability_description\": \"Amongst matching record comparisons, 97.85% of records are in the exact match comparison level\", \"u_probability_description\": \"Amongst non-matching record comparisons, 3.25% of records are in the exact match comparison level\", \"has_tf_adjustments\": false, \"tf_adjustment_column\": null, \"tf_adjustment_weight\": 1.0, \"is_null_level\": false, \"bayes_factor\": 30.09283221581755, \"log2_bayes_factor\": 4.911347988578507, \"comparison_vector_value\": 2, \"max_comparison_vector_value\": 2, \"bayes_factor_description\": \"If comparison level is `exact match` then comparison is 30.09 times more likely to be a match\", \"probability_two_random_records_match\": 0.0035255323172626468, \"comparison_sort_order\": 3, \"iteration\": 1}, {\"comparison_name\": \"day_of_birth\", \"sql_condition\": \"abs(day_of_birth_l - day_of_birth_r) <= 5\", \"label_for_charts\": \"Inexact match\", \"m_probability\": 0.013903997437081983, \"u_probability\": 0.29545734380750305, \"m_probability_description\": \"Amongst matching record comparisons, 1.39% of records are in the inexact match comparison level\", \"u_probability_description\": \"Amongst non-matching record comparisons, 29.55% of records are in the inexact match comparison level\", \"has_tf_adjustments\": false, \"tf_adjustment_column\": null, \"tf_adjustment_weight\": 1.0, \"is_null_level\": false, \"bayes_factor\": 0.04705923791875941, \"log2_bayes_factor\": -4.409378232147678, \"comparison_vector_value\": 1, \"max_comparison_vector_value\": 2, \"bayes_factor_description\": \"If comparison level is `inexact match` then comparison is  21.25 times less likely to be a match\", \"probability_two_random_records_match\": 0.0035255323172626468, \"comparison_sort_order\": 3, \"iteration\": 1}, {\"comparison_name\": \"day_of_birth\", \"sql_condition\": \"ELSE\", \"label_for_charts\": \"All other comparisons\", \"m_probability\": 0.007552904889591377, \"u_probability\": 0.6720251752636338, \"m_probability_description\": \"Amongst matching record comparisons, 0.76% of records are in the all other comparisons comparison level\", \"u_probability_description\": \"Amongst non-matching record comparisons, 67.20% of records are in the all other comparisons comparison level\", \"has_tf_adjustments\": false, \"tf_adjustment_column\": null, \"tf_adjustment_weight\": 1.0, \"is_null_level\": false, \"bayes_factor\": 0.011239020750418154, \"log2_bayes_factor\": -6.4753398499507755, \"comparison_vector_value\": 0, \"max_comparison_vector_value\": 2, \"bayes_factor_description\": \"If comparison level is `all other comparisons` then comparison is  88.98 times less likely to be a match\", \"probability_two_random_records_match\": 0.0035255323172626468, \"comparison_sort_order\": 3, \"iteration\": 1}, {\"comparison_name\": \"month_of_birth\", \"sql_condition\": \"\\\"month_of_birth_l\\\" = \\\"month_of_birth_r\\\"\", \"label_for_charts\": \"Exact match\", \"m_probability\": 0.988251899586664, \"u_probability\": 0.08324454672258141, \"m_probability_description\": \"Amongst matching record comparisons, 98.83% of records are in the exact match comparison level\", \"u_probability_description\": \"Amongst non-matching record comparisons, 8.32% of records are in the exact match comparison level\", \"has_tf_adjustments\": false, \"tf_adjustment_column\": null, \"tf_adjustment_weight\": 1.0, \"is_null_level\": false, \"bayes_factor\": 11.871671340587467, \"log2_bayes_factor\": 3.5694511524482815, \"comparison_vector_value\": 2, \"max_comparison_vector_value\": 2, \"bayes_factor_description\": \"If comparison level is `exact match` then comparison is 11.87 times more likely to be a match\", \"probability_two_random_records_match\": 0.0035255323172626468, \"comparison_sort_order\": 4, \"iteration\": 1}, {\"comparison_name\": \"month_of_birth\", \"sql_condition\": \"abs(month_of_birth_l - month_of_birth_r) <= 3\", \"label_for_charts\": \"Inexact match\", \"m_probability\": 0.0007717238449981416, \"u_probability\": 0.41693832719210167, \"m_probability_description\": \"Amongst matching record comparisons, 0.08% of records are in the inexact match comparison level\", \"u_probability_description\": \"Amongst non-matching record comparisons, 41.69% of records are in the inexact match comparison level\", \"has_tf_adjustments\": false, \"tf_adjustment_column\": null, \"tf_adjustment_weight\": 1.0, \"is_null_level\": false, \"bayes_factor\": 0.0018509304486238197, \"log2_bayes_factor\": -9.077533599778135, \"comparison_vector_value\": 1, \"max_comparison_vector_value\": 2, \"bayes_factor_description\": \"If comparison level is `inexact match` then comparison is  540.27 times less likely to be a match\", \"probability_two_random_records_match\": 0.0035255323172626468, \"comparison_sort_order\": 4, \"iteration\": 1}, {\"comparison_name\": \"month_of_birth\", \"sql_condition\": \"ELSE\", \"label_for_charts\": \"All other comparisons\", \"m_probability\": 0.010976376568337737, \"u_probability\": 0.4998171260853169, \"m_probability_description\": \"Amongst matching record comparisons, 1.10% of records are in the all other comparisons comparison level\", \"u_probability_description\": \"Amongst non-matching record comparisons, 49.98% of records are in the all other comparisons comparison level\", \"has_tf_adjustments\": false, \"tf_adjustment_column\": null, \"tf_adjustment_weight\": 1.0, \"is_null_level\": false, \"bayes_factor\": 0.02196078524621045, \"log2_bayes_factor\": -5.5089265484298116, \"comparison_vector_value\": 0, \"max_comparison_vector_value\": 2, \"bayes_factor_description\": \"If comparison level is `all other comparisons` then comparison is  45.54 times less likely to be a match\", \"probability_two_random_records_match\": 0.0035255323172626468, \"comparison_sort_order\": 4, \"iteration\": 1}, {\"comparison_name\": \"year_of_birth\", \"sql_condition\": \"\\\"year_of_birth_l\\\" = \\\"year_of_birth_r\\\"\", \"label_for_charts\": \"Exact match\", \"m_probability\": 0.9526385143490216, \"u_probability\": 0.011085112473136845, \"m_probability_description\": \"Amongst matching record comparisons, 95.26% of records are in the exact match comparison level\", \"u_probability_description\": \"Amongst non-matching record comparisons, 1.11% of records are in the exact match comparison level\", \"has_tf_adjustments\": false, \"tf_adjustment_column\": null, \"tf_adjustment_weight\": 1.0, \"is_null_level\": false, \"bayes_factor\": 85.93855196847143, \"log2_bayes_factor\": 6.425233563347769, \"comparison_vector_value\": 2, \"max_comparison_vector_value\": 2, \"bayes_factor_description\": \"If comparison level is `exact match` then comparison is 85.94 times more likely to be a match\", \"probability_two_random_records_match\": 0.0035255323172626468, \"comparison_sort_order\": 5, \"iteration\": 1}, {\"comparison_name\": \"year_of_birth\", \"sql_condition\": \"abs(year_of_birth_l - year_of_birth_r) <= 5\", \"label_for_charts\": \"Inexact match\", \"m_probability\": 0.016899919163077586, \"u_probability\": 0.10968379850702191, \"m_probability_description\": \"Amongst matching record comparisons, 1.69% of records are in the inexact match comparison level\", \"u_probability_description\": \"Amongst non-matching record comparisons, 10.97% of records are in the inexact match comparison level\", \"has_tf_adjustments\": false, \"tf_adjustment_column\": null, \"tf_adjustment_weight\": 1.0, \"is_null_level\": false, \"bayes_factor\": 0.15407853660352272, \"log2_bayes_factor\": -2.6982621888575435, \"comparison_vector_value\": 1, \"max_comparison_vector_value\": 2, \"bayes_factor_description\": \"If comparison level is `inexact match` then comparison is  6.49 times less likely to be a match\", \"probability_two_random_records_match\": 0.0035255323172626468, \"comparison_sort_order\": 5, \"iteration\": 1}, {\"comparison_name\": \"year_of_birth\", \"sql_condition\": \"ELSE\", \"label_for_charts\": \"All other comparisons\", \"m_probability\": 0.030461566487900788, \"u_probability\": 0.8792310890198413, \"m_probability_description\": \"Amongst matching record comparisons, 3.05% of records are in the all other comparisons comparison level\", \"u_probability_description\": \"Amongst non-matching record comparisons, 87.92% of records are in the all other comparisons comparison level\", \"has_tf_adjustments\": false, \"tf_adjustment_column\": null, \"tf_adjustment_weight\": 1.0, \"is_null_level\": false, \"bayes_factor\": 0.03464568856619829, \"log2_bayes_factor\": -4.8511803603898285, \"comparison_vector_value\": 0, \"max_comparison_vector_value\": 2, \"bayes_factor_description\": \"If comparison level is `all other comparisons` then comparison is  28.86 times less likely to be a match\", \"probability_two_random_records_match\": 0.0035255323172626468, \"comparison_sort_order\": 5, \"iteration\": 1}, {\"comparison_name\": \"first_name_15\", \"sql_condition\": \"\\\"first_name_15_l\\\" = \\\"first_name_15_r\\\"\", \"label_for_charts\": \"Exact match\", \"m_probability\": 0.8595691931598689, \"u_probability\": 0.0020297990270034772, \"m_probability_description\": \"Amongst matching record comparisons, 85.96% of records are in the exact match comparison level\", \"u_probability_description\": \"Amongst non-matching record comparisons, 0.20% of records are in the exact match comparison level\", \"has_tf_adjustments\": false, \"tf_adjustment_column\": null, \"tf_adjustment_weight\": 1.0, \"is_null_level\": false, \"bayes_factor\": 423.47502473130135, \"log2_bayes_factor\": 8.726133076076483, \"comparison_vector_value\": 2, \"max_comparison_vector_value\": 2, \"bayes_factor_description\": \"If comparison level is `exact match` then comparison is 423.48 times more likely to be a match\", \"probability_two_random_records_match\": 0.0035255323172626468, \"comparison_sort_order\": 0, \"iteration\": 2}, {\"comparison_name\": \"first_name_15\", \"sql_condition\": \"jaro_winkler_similarity(\\\"first_name_15_l\\\", \\\"first_name_15_r\\\") >= 0.8333333333333334\", \"label_for_charts\": \"Jaro_winkler_similarity >= 0.8333333333333334\", \"m_probability\": 0.07380769958604493, \"u_probability\": 0.0034682162537213487, \"m_probability_description\": \"Amongst matching record comparisons, 7.38% of records are in the jaro_winkler_similarity >= 0.8333333333333334 comparison level\", \"u_probability_description\": \"Amongst non-matching record comparisons, 0.35% of records are in the jaro_winkler_similarity >= 0.8333333333333334 comparison level\", \"has_tf_adjustments\": false, \"tf_adjustment_column\": null, \"tf_adjustment_weight\": 1.0, \"is_null_level\": false, \"bayes_factor\": 21.281169969389964, \"log2_bayes_factor\": 4.411505562579762, \"comparison_vector_value\": 1, \"max_comparison_vector_value\": 2, \"bayes_factor_description\": \"If comparison level is `jaro_winkler_similarity >= 0.8333333333333334` then comparison is 21.28 times more likely to be a match\", \"probability_two_random_records_match\": 0.0035255323172626468, \"comparison_sort_order\": 0, \"iteration\": 2}, {\"comparison_name\": \"first_name_15\", \"sql_condition\": \"ELSE\", \"label_for_charts\": \"All other comparisons\", \"m_probability\": 0.06662310725408628, \"u_probability\": 0.9945019847192752, \"m_probability_description\": \"Amongst matching record comparisons, 6.66% of records are in the all other comparisons comparison level\", \"u_probability_description\": \"Amongst non-matching record comparisons, 99.45% of records are in the all other comparisons comparison level\", \"has_tf_adjustments\": false, \"tf_adjustment_column\": null, \"tf_adjustment_weight\": 1.0, \"is_null_level\": false, \"bayes_factor\": 0.06699142714420267, \"log2_bayes_factor\": -3.899879703277082, \"comparison_vector_value\": 0, \"max_comparison_vector_value\": 2, \"bayes_factor_description\": \"If comparison level is `all other comparisons` then comparison is  14.93 times less likely to be a match\", \"probability_two_random_records_match\": 0.0035255323172626468, \"comparison_sort_order\": 0, \"iteration\": 2}, {\"comparison_name\": \"last_name_12\", \"sql_condition\": \"\\\"last_name_12_l\\\" = \\\"last_name_12_r\\\"\", \"label_for_charts\": \"Exact match\", \"m_probability\": 0.8633876158743973, \"u_probability\": 0.0006842173986881611, \"m_probability_description\": \"Amongst matching record comparisons, 86.34% of records are in the exact match comparison level\", \"u_probability_description\": \"Amongst non-matching record comparisons, 0.07% of records are in the exact match comparison level\", \"has_tf_adjustments\": false, \"tf_adjustment_column\": null, \"tf_adjustment_weight\": 1.0, \"is_null_level\": false, \"bayes_factor\": 1261.8615333807008, \"log2_bayes_factor\": 10.301337893821769, \"comparison_vector_value\": 2, \"max_comparison_vector_value\": 2, \"bayes_factor_description\": \"If comparison level is `exact match` then comparison is 1,261.86 times more likely to be a match\", \"probability_two_random_records_match\": 0.0035255323172626468, \"comparison_sort_order\": 1, \"iteration\": 2}, {\"comparison_name\": \"last_name_12\", \"sql_condition\": \"jaro_winkler_similarity(\\\"last_name_12_l\\\", \\\"last_name_12_r\\\") >= 0.8333333333333334\", \"label_for_charts\": \"Jaro_winkler_similarity >= 0.8333333333333334\", \"m_probability\": 0.10111858833440575, \"u_probability\": 0.0013675335890361796, \"m_probability_description\": \"Amongst matching record comparisons, 10.11% of records are in the jaro_winkler_similarity >= 0.8333333333333334 comparison level\", \"u_probability_description\": \"Amongst non-matching record comparisons, 0.14% of records are in the jaro_winkler_similarity >= 0.8333333333333334 comparison level\", \"has_tf_adjustments\": false, \"tf_adjustment_column\": null, \"tf_adjustment_weight\": 1.0, \"is_null_level\": false, \"bayes_factor\": 73.94230689841619, \"log2_bayes_factor\": 6.208328149218408, \"comparison_vector_value\": 1, \"max_comparison_vector_value\": 2, \"bayes_factor_description\": \"If comparison level is `jaro_winkler_similarity >= 0.8333333333333334` then comparison is 73.94 times more likely to be a match\", \"probability_two_random_records_match\": 0.0035255323172626468, \"comparison_sort_order\": 1, \"iteration\": 2}, {\"comparison_name\": \"last_name_12\", \"sql_condition\": \"ELSE\", \"label_for_charts\": \"All other comparisons\", \"m_probability\": 0.035493795791196915, \"u_probability\": 0.9979482490122756, \"m_probability_description\": \"Amongst matching record comparisons, 3.55% of records are in the all other comparisons comparison level\", \"u_probability_description\": \"Amongst non-matching record comparisons, 99.79% of records are in the all other comparisons comparison level\", \"has_tf_adjustments\": false, \"tf_adjustment_column\": null, \"tf_adjustment_weight\": 1.0, \"is_null_level\": false, \"bayes_factor\": 0.03556676994656494, \"log2_bayes_factor\": -4.813326230097144, \"comparison_vector_value\": 0, \"max_comparison_vector_value\": 2, \"bayes_factor_description\": \"If comparison level is `all other comparisons` then comparison is  28.12 times less likely to be a match\", \"probability_two_random_records_match\": 0.0035255323172626468, \"comparison_sort_order\": 1, \"iteration\": 2}, {\"comparison_name\": \"middle_initial\", \"sql_condition\": \"\\\"middle_initial_l\\\" = \\\"middle_initial_r\\\"\", \"label_for_charts\": \"Exact match\", \"m_probability\": 0.9280376313931742, \"u_probability\": 0.07300510353598076, \"m_probability_description\": \"Amongst matching record comparisons, 92.80% of records are in the exact match comparison level\", \"u_probability_description\": \"Amongst non-matching record comparisons, 7.30% of records are in the exact match comparison level\", \"has_tf_adjustments\": false, \"tf_adjustment_column\": null, \"tf_adjustment_weight\": 1.0, \"is_null_level\": false, \"bayes_factor\": 12.711955554392008, \"log2_bayes_factor\": 3.668114080510037, \"comparison_vector_value\": 1, \"max_comparison_vector_value\": 1, \"bayes_factor_description\": \"If comparison level is `exact match` then comparison is 12.71 times more likely to be a match\", \"probability_two_random_records_match\": 0.0035255323172626468, \"comparison_sort_order\": 2, \"iteration\": 2}, {\"comparison_name\": \"middle_initial\", \"sql_condition\": \"ELSE\", \"label_for_charts\": \"All other comparisons\", \"m_probability\": 0.07196236860682576, \"u_probability\": 0.9269948964640192, \"m_probability_description\": \"Amongst matching record comparisons, 7.20% of records are in the all other comparisons comparison level\", \"u_probability_description\": \"Amongst non-matching record comparisons, 92.70% of records are in the all other comparisons comparison level\", \"has_tf_adjustments\": false, \"tf_adjustment_column\": null, \"tf_adjustment_weight\": 1.0, \"is_null_level\": false, \"bayes_factor\": 0.07762973548325132, \"log2_bayes_factor\": -3.687246818070283, \"comparison_vector_value\": 0, \"max_comparison_vector_value\": 1, \"bayes_factor_description\": \"If comparison level is `all other comparisons` then comparison is  12.88 times less likely to be a match\", \"probability_two_random_records_match\": 0.0035255323172626468, \"comparison_sort_order\": 2, \"iteration\": 2}, {\"comparison_name\": \"day_of_birth\", \"sql_condition\": \"\\\"day_of_birth_l\\\" = \\\"day_of_birth_r\\\"\", \"label_for_charts\": \"Exact match\", \"m_probability\": 0.9774291211914811, \"u_probability\": 0.03251748092886318, \"m_probability_description\": \"Amongst matching record comparisons, 97.74% of records are in the exact match comparison level\", \"u_probability_description\": \"Amongst non-matching record comparisons, 3.25% of records are in the exact match comparison level\", \"has_tf_adjustments\": false, \"tf_adjustment_column\": null, \"tf_adjustment_weight\": 1.0, \"is_null_level\": false, \"bayes_factor\": 30.05857444276672, \"log2_bayes_factor\": 4.909704684543524, \"comparison_vector_value\": 2, \"max_comparison_vector_value\": 2, \"bayes_factor_description\": \"If comparison level is `exact match` then comparison is 30.06 times more likely to be a match\", \"probability_two_random_records_match\": 0.0035255323172626468, \"comparison_sort_order\": 3, \"iteration\": 2}, {\"comparison_name\": \"day_of_birth\", \"sql_condition\": \"abs(day_of_birth_l - day_of_birth_r) <= 5\", \"label_for_charts\": \"Inexact match\", \"m_probability\": 0.014483152177189842, \"u_probability\": 0.29545734380750305, \"m_probability_description\": \"Amongst matching record comparisons, 1.45% of records are in the inexact match comparison level\", \"u_probability_description\": \"Amongst non-matching record comparisons, 29.55% of records are in the inexact match comparison level\", \"has_tf_adjustments\": false, \"tf_adjustment_column\": null, \"tf_adjustment_weight\": 1.0, \"is_null_level\": false, \"bayes_factor\": 0.04901943539648801, \"log2_bayes_factor\": -4.3505023223667445, \"comparison_vector_value\": 1, \"max_comparison_vector_value\": 2, \"bayes_factor_description\": \"If comparison level is `inexact match` then comparison is  20.40 times less likely to be a match\", \"probability_two_random_records_match\": 0.0035255323172626468, \"comparison_sort_order\": 3, \"iteration\": 2}, {\"comparison_name\": \"day_of_birth\", \"sql_condition\": \"ELSE\", \"label_for_charts\": \"All other comparisons\", \"m_probability\": 0.008087726631329117, \"u_probability\": 0.6720251752636338, \"m_probability_description\": \"Amongst matching record comparisons, 0.81% of records are in the all other comparisons comparison level\", \"u_probability_description\": \"Amongst non-matching record comparisons, 67.20% of records are in the all other comparisons comparison level\", \"has_tf_adjustments\": false, \"tf_adjustment_column\": null, \"tf_adjustment_weight\": 1.0, \"is_null_level\": false, \"bayes_factor\": 0.012034856622977439, \"log2_bayes_factor\": -6.376637235378316, \"comparison_vector_value\": 0, \"max_comparison_vector_value\": 2, \"bayes_factor_description\": \"If comparison level is `all other comparisons` then comparison is  83.09 times less likely to be a match\", \"probability_two_random_records_match\": 0.0035255323172626468, \"comparison_sort_order\": 3, \"iteration\": 2}, {\"comparison_name\": \"month_of_birth\", \"sql_condition\": \"\\\"month_of_birth_l\\\" = \\\"month_of_birth_r\\\"\", \"label_for_charts\": \"Exact match\", \"m_probability\": 0.9874866916252243, \"u_probability\": 0.08324454672258141, \"m_probability_description\": \"Amongst matching record comparisons, 98.75% of records are in the exact match comparison level\", \"u_probability_description\": \"Amongst non-matching record comparisons, 8.32% of records are in the exact match comparison level\", \"has_tf_adjustments\": false, \"tf_adjustment_column\": null, \"tf_adjustment_weight\": 1.0, \"is_null_level\": false, \"bayes_factor\": 11.862479051223577, \"log2_bayes_factor\": 3.5683336343805294, \"comparison_vector_value\": 2, \"max_comparison_vector_value\": 2, \"bayes_factor_description\": \"If comparison level is `exact match` then comparison is 11.86 times more likely to be a match\", \"probability_two_random_records_match\": 0.0035255323172626468, \"comparison_sort_order\": 4, \"iteration\": 2}, {\"comparison_name\": \"month_of_birth\", \"sql_condition\": \"abs(month_of_birth_l - month_of_birth_r) <= 3\", \"label_for_charts\": \"Inexact match\", \"m_probability\": 0.00023970903972238196, \"u_probability\": 0.41693832719210167, \"m_probability_description\": \"Amongst matching record comparisons, 0.02% of records are in the inexact match comparison level\", \"u_probability_description\": \"Amongst non-matching record comparisons, 41.69% of records are in the inexact match comparison level\", \"has_tf_adjustments\": false, \"tf_adjustment_column\": null, \"tf_adjustment_weight\": 1.0, \"is_null_level\": false, \"bayes_factor\": 0.00057492685150036, \"log2_bayes_factor\": -10.764333967302521, \"comparison_vector_value\": 1, \"max_comparison_vector_value\": 2, \"bayes_factor_description\": \"If comparison level is `inexact match` then comparison is  1,739.35 times less likely to be a match\", \"probability_two_random_records_match\": 0.0035255323172626468, \"comparison_sort_order\": 4, \"iteration\": 2}, {\"comparison_name\": \"month_of_birth\", \"sql_condition\": \"ELSE\", \"label_for_charts\": \"All other comparisons\", \"m_probability\": 0.012273599335053287, \"u_probability\": 0.4998171260853169, \"m_probability_description\": \"Amongst matching record comparisons, 1.23% of records are in the all other comparisons comparison level\", \"u_probability_description\": \"Amongst non-matching record comparisons, 49.98% of records are in the all other comparisons comparison level\", \"has_tf_adjustments\": false, \"tf_adjustment_column\": null, \"tf_adjustment_weight\": 1.0, \"is_null_level\": false, \"bayes_factor\": 0.0245561800396536, \"log2_bayes_factor\": -5.34777003731071, \"comparison_vector_value\": 0, \"max_comparison_vector_value\": 2, \"bayes_factor_description\": \"If comparison level is `all other comparisons` then comparison is  40.72 times less likely to be a match\", \"probability_two_random_records_match\": 0.0035255323172626468, \"comparison_sort_order\": 4, \"iteration\": 2}, {\"comparison_name\": \"year_of_birth\", \"sql_condition\": \"\\\"year_of_birth_l\\\" = \\\"year_of_birth_r\\\"\", \"label_for_charts\": \"Exact match\", \"m_probability\": 0.9516301543081167, \"u_probability\": 0.011085112473136845, \"m_probability_description\": \"Amongst matching record comparisons, 95.16% of records are in the exact match comparison level\", \"u_probability_description\": \"Amongst non-matching record comparisons, 1.11% of records are in the exact match comparison level\", \"has_tf_adjustments\": false, \"tf_adjustment_column\": null, \"tf_adjustment_weight\": 1.0, \"is_null_level\": false, \"bayes_factor\": 85.84758671725287, \"log2_bayes_factor\": 6.423705673727613, \"comparison_vector_value\": 2, \"max_comparison_vector_value\": 2, \"bayes_factor_description\": \"If comparison level is `exact match` then comparison is 85.85 times more likely to be a match\", \"probability_two_random_records_match\": 0.0035255323172626468, \"comparison_sort_order\": 5, \"iteration\": 2}, {\"comparison_name\": \"year_of_birth\", \"sql_condition\": \"abs(year_of_birth_l - year_of_birth_r) <= 5\", \"label_for_charts\": \"Inexact match\", \"m_probability\": 0.016523010894764878, \"u_probability\": 0.10968379850702191, \"m_probability_description\": \"Amongst matching record comparisons, 1.65% of records are in the inexact match comparison level\", \"u_probability_description\": \"Amongst non-matching record comparisons, 10.97% of records are in the inexact match comparison level\", \"has_tf_adjustments\": false, \"tf_adjustment_column\": null, \"tf_adjustment_weight\": 1.0, \"is_null_level\": false, \"bayes_factor\": 0.15064221990549573, \"log2_bayes_factor\": -2.73080192971204, \"comparison_vector_value\": 1, \"max_comparison_vector_value\": 2, \"bayes_factor_description\": \"If comparison level is `inexact match` then comparison is  6.64 times less likely to be a match\", \"probability_two_random_records_match\": 0.0035255323172626468, \"comparison_sort_order\": 5, \"iteration\": 2}, {\"comparison_name\": \"year_of_birth\", \"sql_condition\": \"ELSE\", \"label_for_charts\": \"All other comparisons\", \"m_probability\": 0.031846834797118424, \"u_probability\": 0.8792310890198413, \"m_probability_description\": \"Amongst matching record comparisons, 3.18% of records are in the all other comparisons comparison level\", \"u_probability_description\": \"Amongst non-matching record comparisons, 87.92% of records are in the all other comparisons comparison level\", \"has_tf_adjustments\": false, \"tf_adjustment_column\": null, \"tf_adjustment_weight\": 1.0, \"is_null_level\": false, \"bayes_factor\": 0.03622123375166474, \"log2_bayes_factor\": -4.787020502208496, \"comparison_vector_value\": 0, \"max_comparison_vector_value\": 2, \"bayes_factor_description\": \"If comparison level is `all other comparisons` then comparison is  27.61 times less likely to be a match\", \"probability_two_random_records_match\": 0.0035255323172626468, \"comparison_sort_order\": 5, \"iteration\": 2}, {\"comparison_name\": \"first_name_15\", \"sql_condition\": \"\\\"first_name_15_l\\\" = \\\"first_name_15_r\\\"\", \"label_for_charts\": \"Exact match\", \"m_probability\": 0.8586390502313129, \"u_probability\": 0.0020297990270034772, \"m_probability_description\": \"Amongst matching record comparisons, 85.86% of records are in the exact match comparison level\", \"u_probability_description\": \"Amongst non-matching record comparisons, 0.20% of records are in the exact match comparison level\", \"has_tf_adjustments\": false, \"tf_adjustment_column\": null, \"tf_adjustment_weight\": 1.0, \"is_null_level\": false, \"bayes_factor\": 423.01678087751, \"log2_bayes_factor\": 8.7245710852915, \"comparison_vector_value\": 2, \"max_comparison_vector_value\": 2, \"bayes_factor_description\": \"If comparison level is `exact match` then comparison is 423.02 times more likely to be a match\", \"probability_two_random_records_match\": 0.0035255323172626468, \"comparison_sort_order\": 0, \"iteration\": 3}, {\"comparison_name\": \"first_name_15\", \"sql_condition\": \"jaro_winkler_similarity(\\\"first_name_15_l\\\", \\\"first_name_15_r\\\") >= 0.8333333333333334\", \"label_for_charts\": \"Jaro_winkler_similarity >= 0.8333333333333334\", \"m_probability\": 0.07377005948233897, \"u_probability\": 0.0034682162537213487, \"m_probability_description\": \"Amongst matching record comparisons, 7.38% of records are in the jaro_winkler_similarity >= 0.8333333333333334 comparison level\", \"u_probability_description\": \"Amongst non-matching record comparisons, 0.35% of records are in the jaro_winkler_similarity >= 0.8333333333333334 comparison level\", \"has_tf_adjustments\": false, \"tf_adjustment_column\": null, \"tf_adjustment_weight\": 1.0, \"is_null_level\": false, \"bayes_factor\": 21.270317098359914, \"log2_bayes_factor\": 4.410769636075993, \"comparison_vector_value\": 1, \"max_comparison_vector_value\": 2, \"bayes_factor_description\": \"If comparison level is `jaro_winkler_similarity >= 0.8333333333333334` then comparison is 21.27 times more likely to be a match\", \"probability_two_random_records_match\": 0.0035255323172626468, \"comparison_sort_order\": 0, \"iteration\": 3}, {\"comparison_name\": \"first_name_15\", \"sql_condition\": \"ELSE\", \"label_for_charts\": \"All other comparisons\", \"m_probability\": 0.06759089028634807, \"u_probability\": 0.9945019847192752, \"m_probability_description\": \"Amongst matching record comparisons, 6.76% of records are in the all other comparisons comparison level\", \"u_probability_description\": \"Amongst non-matching record comparisons, 99.45% of records are in the all other comparisons comparison level\", \"has_tf_adjustments\": false, \"tf_adjustment_column\": null, \"tf_adjustment_weight\": 1.0, \"is_null_level\": false, \"bayes_factor\": 0.06796456047840609, \"log2_bayes_factor\": -3.8790735279701503, \"comparison_vector_value\": 0, \"max_comparison_vector_value\": 2, \"bayes_factor_description\": \"If comparison level is `all other comparisons` then comparison is  14.71 times less likely to be a match\", \"probability_two_random_records_match\": 0.0035255323172626468, \"comparison_sort_order\": 0, \"iteration\": 3}, {\"comparison_name\": \"last_name_12\", \"sql_condition\": \"\\\"last_name_12_l\\\" = \\\"last_name_12_r\\\"\", \"label_for_charts\": \"Exact match\", \"m_probability\": 0.8631045502290369, \"u_probability\": 0.0006842173986881611, \"m_probability_description\": \"Amongst matching record comparisons, 86.31% of records are in the exact match comparison level\", \"u_probability_description\": \"Amongst non-matching record comparisons, 0.07% of records are in the exact match comparison level\", \"has_tf_adjustments\": false, \"tf_adjustment_column\": null, \"tf_adjustment_weight\": 1.0, \"is_null_level\": false, \"bayes_factor\": 1261.4478262082391, \"log2_bayes_factor\": 10.3008648219892, \"comparison_vector_value\": 2, \"max_comparison_vector_value\": 2, \"bayes_factor_description\": \"If comparison level is `exact match` then comparison is 1,261.45 times more likely to be a match\", \"probability_two_random_records_match\": 0.0035255323172626468, \"comparison_sort_order\": 1, \"iteration\": 3}, {\"comparison_name\": \"last_name_12\", \"sql_condition\": \"jaro_winkler_similarity(\\\"last_name_12_l\\\", \\\"last_name_12_r\\\") >= 0.8333333333333334\", \"label_for_charts\": \"Jaro_winkler_similarity >= 0.8333333333333334\", \"m_probability\": 0.10111243334561729, \"u_probability\": 0.0013675335890361796, \"m_probability_description\": \"Amongst matching record comparisons, 10.11% of records are in the jaro_winkler_similarity >= 0.8333333333333334 comparison level\", \"u_probability_description\": \"Amongst non-matching record comparisons, 0.14% of records are in the jaro_winkler_similarity >= 0.8333333333333334 comparison level\", \"has_tf_adjustments\": false, \"tf_adjustment_column\": null, \"tf_adjustment_weight\": 1.0, \"is_null_level\": false, \"bayes_factor\": 73.93780610308815, \"log2_bayes_factor\": 6.208240331120761, \"comparison_vector_value\": 1, \"max_comparison_vector_value\": 2, \"bayes_factor_description\": \"If comparison level is `jaro_winkler_similarity >= 0.8333333333333334` then comparison is 73.94 times more likely to be a match\", \"probability_two_random_records_match\": 0.0035255323172626468, \"comparison_sort_order\": 1, \"iteration\": 3}, {\"comparison_name\": \"last_name_12\", \"sql_condition\": \"ELSE\", \"label_for_charts\": \"All other comparisons\", \"m_probability\": 0.03578301642534585, \"u_probability\": 0.9979482490122756, \"m_probability_description\": \"Amongst matching record comparisons, 3.58% of records are in the all other comparisons comparison level\", \"u_probability_description\": \"Amongst non-matching record comparisons, 99.79% of records are in the all other comparisons comparison level\", \"has_tf_adjustments\": false, \"tf_adjustment_column\": null, \"tf_adjustment_weight\": 1.0, \"is_null_level\": false, \"bayes_factor\": 0.035856585209465795, \"log2_bayes_factor\": -4.801618089631706, \"comparison_vector_value\": 0, \"max_comparison_vector_value\": 2, \"bayes_factor_description\": \"If comparison level is `all other comparisons` then comparison is  27.89 times less likely to be a match\", \"probability_two_random_records_match\": 0.0035255323172626468, \"comparison_sort_order\": 1, \"iteration\": 3}, {\"comparison_name\": \"middle_initial\", \"sql_condition\": \"\\\"middle_initial_l\\\" = \\\"middle_initial_r\\\"\", \"label_for_charts\": \"Exact match\", \"m_probability\": 0.9274240144173497, \"u_probability\": 0.07300510353598076, \"m_probability_description\": \"Amongst matching record comparisons, 92.74% of records are in the exact match comparison level\", \"u_probability_description\": \"Amongst non-matching record comparisons, 7.30% of records are in the exact match comparison level\", \"has_tf_adjustments\": false, \"tf_adjustment_column\": null, \"tf_adjustment_weight\": 1.0, \"is_null_level\": false, \"bayes_factor\": 12.703550430008859, \"log2_bayes_factor\": 3.667159857390093, \"comparison_vector_value\": 1, \"max_comparison_vector_value\": 1, \"bayes_factor_description\": \"If comparison level is `exact match` then comparison is 12.70 times more likely to be a match\", \"probability_two_random_records_match\": 0.0035255323172626468, \"comparison_sort_order\": 2, \"iteration\": 3}, {\"comparison_name\": \"middle_initial\", \"sql_condition\": \"ELSE\", \"label_for_charts\": \"All other comparisons\", \"m_probability\": 0.07257598558265031, \"u_probability\": 0.9269948964640192, \"m_probability_description\": \"Amongst matching record comparisons, 7.26% of records are in the all other comparisons comparison level\", \"u_probability_description\": \"Amongst non-matching record comparisons, 92.70% of records are in the all other comparisons comparison level\", \"has_tf_adjustments\": false, \"tf_adjustment_column\": null, \"tf_adjustment_weight\": 1.0, \"is_null_level\": false, \"bayes_factor\": 0.07829167761277671, \"log2_bayes_factor\": -3.674997232257205, \"comparison_vector_value\": 0, \"max_comparison_vector_value\": 1, \"bayes_factor_description\": \"If comparison level is `all other comparisons` then comparison is  12.77 times less likely to be a match\", \"probability_two_random_records_match\": 0.0035255323172626468, \"comparison_sort_order\": 2, \"iteration\": 3}, {\"comparison_name\": \"day_of_birth\", \"sql_condition\": \"\\\"day_of_birth_l\\\" = \\\"day_of_birth_r\\\"\", \"label_for_charts\": \"Exact match\", \"m_probability\": 0.9771413488444152, \"u_probability\": 0.03251748092886318, \"m_probability_description\": \"Amongst matching record comparisons, 97.71% of records are in the exact match comparison level\", \"u_probability_description\": \"Amongst non-matching record comparisons, 3.25% of records are in the exact match comparison level\", \"has_tf_adjustments\": false, \"tf_adjustment_column\": null, \"tf_adjustment_weight\": 1.0, \"is_null_level\": false, \"bayes_factor\": 30.049724669080515, \"log2_bayes_factor\": 4.90927986717584, \"comparison_vector_value\": 2, \"max_comparison_vector_value\": 2, \"bayes_factor_description\": \"If comparison level is `exact match` then comparison is 30.05 times more likely to be a match\", \"probability_two_random_records_match\": 0.0035255323172626468, \"comparison_sort_order\": 3, \"iteration\": 3}, {\"comparison_name\": \"day_of_birth\", \"sql_condition\": \"abs(day_of_birth_l - day_of_birth_r) <= 5\", \"label_for_charts\": \"Inexact match\", \"m_probability\": 0.014672842025826962, \"u_probability\": 0.29545734380750305, \"m_probability_description\": \"Amongst matching record comparisons, 1.47% of records are in the inexact match comparison level\", \"u_probability_description\": \"Amongst non-matching record comparisons, 29.55% of records are in the inexact match comparison level\", \"has_tf_adjustments\": false, \"tf_adjustment_column\": null, \"tf_adjustment_weight\": 1.0, \"is_null_level\": false, \"bayes_factor\": 0.049661456495685014, \"log2_bayes_factor\": -4.331729615567907, \"comparison_vector_value\": 1, \"max_comparison_vector_value\": 2, \"bayes_factor_description\": \"If comparison level is `inexact match` then comparison is  20.14 times less likely to be a match\", \"probability_two_random_records_match\": 0.0035255323172626468, \"comparison_sort_order\": 3, \"iteration\": 3}, {\"comparison_name\": \"day_of_birth\", \"sql_condition\": \"ELSE\", \"label_for_charts\": \"All other comparisons\", \"m_probability\": 0.008185809129757908, \"u_probability\": 0.6720251752636338, \"m_probability_description\": \"Amongst matching record comparisons, 0.82% of records are in the all other comparisons comparison level\", \"u_probability_description\": \"Amongst non-matching record comparisons, 67.20% of records are in the all other comparisons comparison level\", \"has_tf_adjustments\": false, \"tf_adjustment_column\": null, \"tf_adjustment_weight\": 1.0, \"is_null_level\": false, \"bayes_factor\": 0.012180807254053592, \"log2_bayes_factor\": -6.359246442176806, \"comparison_vector_value\": 0, \"max_comparison_vector_value\": 2, \"bayes_factor_description\": \"If comparison level is `all other comparisons` then comparison is  82.10 times less likely to be a match\", \"probability_two_random_records_match\": 0.0035255323172626468, \"comparison_sort_order\": 3, \"iteration\": 3}, {\"comparison_name\": \"month_of_birth\", \"sql_condition\": \"\\\"month_of_birth_l\\\" = \\\"month_of_birth_r\\\"\", \"label_for_charts\": \"Exact match\", \"m_probability\": 0.9872872348048769, \"u_probability\": 0.08324454672258141, \"m_probability_description\": \"Amongst matching record comparisons, 98.73% of records are in the exact match comparison level\", \"u_probability_description\": \"Amongst non-matching record comparisons, 8.32% of records are in the exact match comparison level\", \"has_tf_adjustments\": false, \"tf_adjustment_column\": null, \"tf_adjustment_weight\": 1.0, \"is_null_level\": false, \"bayes_factor\": 11.860083016549833, \"log2_bayes_factor\": 3.568042203181531, \"comparison_vector_value\": 2, \"max_comparison_vector_value\": 2, \"bayes_factor_description\": \"If comparison level is `exact match` then comparison is 11.86 times more likely to be a match\", \"probability_two_random_records_match\": 0.0035255323172626468, \"comparison_sort_order\": 4, \"iteration\": 3}, {\"comparison_name\": \"month_of_birth\", \"sql_condition\": \"abs(month_of_birth_l - month_of_birth_r) <= 3\", \"label_for_charts\": \"Inexact match\", \"m_probability\": 8.084763989815464e-05, \"u_probability\": 0.41693832719210167, \"m_probability_description\": \"Amongst matching record comparisons, 0.01% of records are in the inexact match comparison level\", \"u_probability_description\": \"Amongst non-matching record comparisons, 41.69% of records are in the inexact match comparison level\", \"has_tf_adjustments\": false, \"tf_adjustment_column\": null, \"tf_adjustment_weight\": 1.0, \"is_null_level\": false, \"bayes_factor\": 0.0001939079106558237, \"log2_bayes_factor\": -12.332340718801348, \"comparison_vector_value\": 1, \"max_comparison_vector_value\": 2, \"bayes_factor_description\": \"If comparison level is `inexact match` then comparison is  5,157.09 times less likely to be a match\", \"probability_two_random_records_match\": 0.0035255323172626468, \"comparison_sort_order\": 4, \"iteration\": 3}, {\"comparison_name\": \"month_of_birth\", \"sql_condition\": \"ELSE\", \"label_for_charts\": \"All other comparisons\", \"m_probability\": 0.012631917555224992, \"u_probability\": 0.4998171260853169, \"m_probability_description\": \"Amongst matching record comparisons, 1.26% of records are in the all other comparisons comparison level\", \"u_probability_description\": \"Amongst non-matching record comparisons, 49.98% of records are in the all other comparisons comparison level\", \"has_tf_adjustments\": false, \"tf_adjustment_column\": null, \"tf_adjustment_weight\": 1.0, \"is_null_level\": false, \"bayes_factor\": 0.025273078684120102, \"log2_bayes_factor\": -5.306254770376453, \"comparison_vector_value\": 0, \"max_comparison_vector_value\": 2, \"bayes_factor_description\": \"If comparison level is `all other comparisons` then comparison is  39.57 times less likely to be a match\", \"probability_two_random_records_match\": 0.0035255323172626468, \"comparison_sort_order\": 4, \"iteration\": 3}, {\"comparison_name\": \"year_of_birth\", \"sql_condition\": \"\\\"year_of_birth_l\\\" = \\\"year_of_birth_r\\\"\", \"label_for_charts\": \"Exact match\", \"m_probability\": 0.951369551499765, \"u_probability\": 0.011085112473136845, \"m_probability_description\": \"Amongst matching record comparisons, 95.14% of records are in the exact match comparison level\", \"u_probability_description\": \"Amongst non-matching record comparisons, 1.11% of records are in the exact match comparison level\", \"has_tf_adjustments\": false, \"tf_adjustment_column\": null, \"tf_adjustment_weight\": 1.0, \"is_null_level\": false, \"bayes_factor\": 85.82407745571102, \"log2_bayes_factor\": 6.423310539266526, \"comparison_vector_value\": 2, \"max_comparison_vector_value\": 2, \"bayes_factor_description\": \"If comparison level is `exact match` then comparison is 85.82 times more likely to be a match\", \"probability_two_random_records_match\": 0.0035255323172626468, \"comparison_sort_order\": 5, \"iteration\": 3}, {\"comparison_name\": \"year_of_birth\", \"sql_condition\": \"abs(year_of_birth_l - year_of_birth_r) <= 5\", \"label_for_charts\": \"Inexact match\", \"m_probability\": 0.016389056063925583, \"u_probability\": 0.10968379850702191, \"m_probability_description\": \"Amongst matching record comparisons, 1.64% of records are in the inexact match comparison level\", \"u_probability_description\": \"Amongst non-matching record comparisons, 10.97% of records are in the inexact match comparison level\", \"has_tf_adjustments\": false, \"tf_adjustment_column\": null, \"tf_adjustment_weight\": 1.0, \"is_null_level\": false, \"bayes_factor\": 0.1494209380693208, \"log2_bayes_factor\": -2.742545770506972, \"comparison_vector_value\": 1, \"max_comparison_vector_value\": 2, \"bayes_factor_description\": \"If comparison level is `inexact match` then comparison is  6.69 times less likely to be a match\", \"probability_two_random_records_match\": 0.0035255323172626468, \"comparison_sort_order\": 5, \"iteration\": 3}, {\"comparison_name\": \"year_of_birth\", \"sql_condition\": \"ELSE\", \"label_for_charts\": \"All other comparisons\", \"m_probability\": 0.03224139243630932, \"u_probability\": 0.8792310890198413, \"m_probability_description\": \"Amongst matching record comparisons, 3.22% of records are in the all other comparisons comparison level\", \"u_probability_description\": \"Amongst non-matching record comparisons, 87.92% of records are in the all other comparisons comparison level\", \"has_tf_adjustments\": false, \"tf_adjustment_column\": null, \"tf_adjustment_weight\": 1.0, \"is_null_level\": false, \"bayes_factor\": 0.036669986808873796, \"log2_bayes_factor\": -4.769256442699124, \"comparison_vector_value\": 0, \"max_comparison_vector_value\": 2, \"bayes_factor_description\": \"If comparison level is `all other comparisons` then comparison is  27.27 times less likely to be a match\", \"probability_two_random_records_match\": 0.0035255323172626468, \"comparison_sort_order\": 5, \"iteration\": 3}, {\"comparison_name\": \"first_name_15\", \"sql_condition\": \"\\\"first_name_15_l\\\" = \\\"first_name_15_r\\\"\", \"label_for_charts\": \"Exact match\", \"m_probability\": 0.8584886363160775, \"u_probability\": 0.0020297990270034772, \"m_probability_description\": \"Amongst matching record comparisons, 85.85% of records are in the exact match comparison level\", \"u_probability_description\": \"Amongst non-matching record comparisons, 0.20% of records are in the exact match comparison level\", \"has_tf_adjustments\": false, \"tf_adjustment_column\": null, \"tf_adjustment_weight\": 1.0, \"is_null_level\": false, \"bayes_factor\": 422.94267801647084, \"log2_bayes_factor\": 8.724318335991788, \"comparison_vector_value\": 2, \"max_comparison_vector_value\": 2, \"bayes_factor_description\": \"If comparison level is `exact match` then comparison is 422.94 times more likely to be a match\", \"probability_two_random_records_match\": 0.0035255323172626468, \"comparison_sort_order\": 0, \"iteration\": 4}, {\"comparison_name\": \"first_name_15\", \"sql_condition\": \"jaro_winkler_similarity(\\\"first_name_15_l\\\", \\\"first_name_15_r\\\") >= 0.8333333333333334\", \"label_for_charts\": \"Jaro_winkler_similarity >= 0.8333333333333334\", \"m_probability\": 0.07376066068371512, \"u_probability\": 0.0034682162537213487, \"m_probability_description\": \"Amongst matching record comparisons, 7.38% of records are in the jaro_winkler_similarity >= 0.8333333333333334 comparison level\", \"u_probability_description\": \"Amongst non-matching record comparisons, 0.35% of records are in the jaro_winkler_similarity >= 0.8333333333333334 comparison level\", \"has_tf_adjustments\": false, \"tf_adjustment_column\": null, \"tf_adjustment_weight\": 1.0, \"is_null_level\": false, \"bayes_factor\": 21.267607117800377, \"log2_bayes_factor\": 4.410585815375219, \"comparison_vector_value\": 1, \"max_comparison_vector_value\": 2, \"bayes_factor_description\": \"If comparison level is `jaro_winkler_similarity >= 0.8333333333333334` then comparison is 21.27 times more likely to be a match\", \"probability_two_random_records_match\": 0.0035255323172626468, \"comparison_sort_order\": 0, \"iteration\": 4}, {\"comparison_name\": \"first_name_15\", \"sql_condition\": \"ELSE\", \"label_for_charts\": \"All other comparisons\", \"m_probability\": 0.06775070300020736, \"u_probability\": 0.9945019847192752, \"m_probability_description\": \"Amongst matching record comparisons, 6.78% of records are in the all other comparisons comparison level\", \"u_probability_description\": \"Amongst non-matching record comparisons, 99.45% of records are in the all other comparisons comparison level\", \"has_tf_adjustments\": false, \"tf_adjustment_column\": null, \"tf_adjustment_weight\": 1.0, \"is_null_level\": false, \"bayes_factor\": 0.06812525670256134, \"log2_bayes_factor\": -3.8756664287729987, \"comparison_vector_value\": 0, \"max_comparison_vector_value\": 2, \"bayes_factor_description\": \"If comparison level is `all other comparisons` then comparison is  14.68 times less likely to be a match\", \"probability_two_random_records_match\": 0.0035255323172626468, \"comparison_sort_order\": 0, \"iteration\": 4}, {\"comparison_name\": \"last_name_12\", \"sql_condition\": \"\\\"last_name_12_l\\\" = \\\"last_name_12_r\\\"\", \"label_for_charts\": \"Exact match\", \"m_probability\": 0.8630683936421343, \"u_probability\": 0.0006842173986881611, \"m_probability_description\": \"Amongst matching record comparisons, 86.31% of records are in the exact match comparison level\", \"u_probability_description\": \"Amongst non-matching record comparisons, 0.07% of records are in the exact match comparison level\", \"has_tf_adjustments\": false, \"tf_adjustment_column\": null, \"tf_adjustment_weight\": 1.0, \"is_null_level\": false, \"bayes_factor\": 1261.3949824966176, \"log2_bayes_factor\": 10.300804384327014, \"comparison_vector_value\": 2, \"max_comparison_vector_value\": 2, \"bayes_factor_description\": \"If comparison level is `exact match` then comparison is 1,261.39 times more likely to be a match\", \"probability_two_random_records_match\": 0.0035255323172626468, \"comparison_sort_order\": 1, \"iteration\": 4}, {\"comparison_name\": \"last_name_12\", \"sql_condition\": \"jaro_winkler_similarity(\\\"last_name_12_l\\\", \\\"last_name_12_r\\\") >= 0.8333333333333334\", \"label_for_charts\": \"Jaro_winkler_similarity >= 0.8333333333333334\", \"m_probability\": 0.10110978656768256, \"u_probability\": 0.0013675335890361796, \"m_probability_description\": \"Amongst matching record comparisons, 10.11% of records are in the jaro_winkler_similarity >= 0.8333333333333334 comparison level\", \"u_probability_description\": \"Amongst non-matching record comparisons, 0.14% of records are in the jaro_winkler_similarity >= 0.8333333333333334 comparison level\", \"has_tf_adjustments\": false, \"tf_adjustment_column\": null, \"tf_adjustment_weight\": 1.0, \"is_null_level\": false, \"bayes_factor\": 73.93587066402037, \"log2_bayes_factor\": 6.208202565800979, \"comparison_vector_value\": 1, \"max_comparison_vector_value\": 2, \"bayes_factor_description\": \"If comparison level is `jaro_winkler_similarity >= 0.8333333333333334` then comparison is 73.94 times more likely to be a match\", \"probability_two_random_records_match\": 0.0035255323172626468, \"comparison_sort_order\": 1, \"iteration\": 4}, {\"comparison_name\": \"last_name_12\", \"sql_condition\": \"ELSE\", \"label_for_charts\": \"All other comparisons\", \"m_probability\": 0.03582181979018322, \"u_probability\": 0.9979482490122756, \"m_probability_description\": \"Amongst matching record comparisons, 3.58% of records are in the all other comparisons comparison level\", \"u_probability_description\": \"Amongst non-matching record comparisons, 99.79% of records are in the all other comparisons comparison level\", \"has_tf_adjustments\": false, \"tf_adjustment_column\": null, \"tf_adjustment_weight\": 1.0, \"is_null_level\": false, \"bayes_factor\": 0.03589546835283097, \"log2_bayes_factor\": -4.800054468221215, \"comparison_vector_value\": 0, \"max_comparison_vector_value\": 2, \"bayes_factor_description\": \"If comparison level is `all other comparisons` then comparison is  27.86 times less likely to be a match\", \"probability_two_random_records_match\": 0.0035255323172626468, \"comparison_sort_order\": 1, \"iteration\": 4}, {\"comparison_name\": \"middle_initial\", \"sql_condition\": \"\\\"middle_initial_l\\\" = \\\"middle_initial_r\\\"\", \"label_for_charts\": \"Exact match\", \"m_probability\": 0.9273219609709059, \"u_probability\": 0.07300510353598076, \"m_probability_description\": \"Amongst matching record comparisons, 92.73% of records are in the exact match comparison level\", \"u_probability_description\": \"Amongst non-matching record comparisons, 7.30% of records are in the exact match comparison level\", \"has_tf_adjustments\": false, \"tf_adjustment_column\": null, \"tf_adjustment_weight\": 1.0, \"is_null_level\": false, \"bayes_factor\": 12.702152535320668, \"log2_bayes_factor\": 3.6670010949469423, \"comparison_vector_value\": 1, \"max_comparison_vector_value\": 1, \"bayes_factor_description\": \"If comparison level is `exact match` then comparison is 12.70 times more likely to be a match\", \"probability_two_random_records_match\": 0.0035255323172626468, \"comparison_sort_order\": 2, \"iteration\": 4}, {\"comparison_name\": \"middle_initial\", \"sql_condition\": \"ELSE\", \"label_for_charts\": \"All other comparisons\", \"m_probability\": 0.0726780390290941, \"u_probability\": 0.9269948964640192, \"m_probability_description\": \"Amongst matching record comparisons, 7.27% of records are in the all other comparisons comparison level\", \"u_probability_description\": \"Amongst non-matching record comparisons, 92.70% of records are in the all other comparisons comparison level\", \"has_tf_adjustments\": false, \"tf_adjustment_column\": null, \"tf_adjustment_weight\": 1.0, \"is_null_level\": false, \"bayes_factor\": 0.07840176823661192, \"log2_bayes_factor\": -3.6729699972017973, \"comparison_vector_value\": 0, \"max_comparison_vector_value\": 1, \"bayes_factor_description\": \"If comparison level is `all other comparisons` then comparison is  12.75 times less likely to be a match\", \"probability_two_random_records_match\": 0.0035255323172626468, \"comparison_sort_order\": 2, \"iteration\": 4}, {\"comparison_name\": \"day_of_birth\", \"sql_condition\": \"\\\"day_of_birth_l\\\" = \\\"day_of_birth_r\\\"\", \"label_for_charts\": \"Exact match\", \"m_probability\": 0.977078558802159, \"u_probability\": 0.03251748092886318, \"m_probability_description\": \"Amongst matching record comparisons, 97.71% of records are in the exact match comparison level\", \"u_probability_description\": \"Amongst non-matching record comparisons, 3.25% of records are in the exact match comparison level\", \"has_tf_adjustments\": false, \"tf_adjustment_column\": null, \"tf_adjustment_weight\": 1.0, \"is_null_level\": false, \"bayes_factor\": 30.047793706396366, \"log2_bayes_factor\": 4.909187158180034, \"comparison_vector_value\": 2, \"max_comparison_vector_value\": 2, \"bayes_factor_description\": \"If comparison level is `exact match` then comparison is 30.05 times more likely to be a match\", \"probability_two_random_records_match\": 0.0035255323172626468, \"comparison_sort_order\": 3, \"iteration\": 4}, {\"comparison_name\": \"day_of_birth\", \"sql_condition\": \"abs(day_of_birth_l - day_of_birth_r) <= 5\", \"label_for_charts\": \"Inexact match\", \"m_probability\": 0.014725211607362874, \"u_probability\": 0.29545734380750305, \"m_probability_description\": \"Amongst matching record comparisons, 1.47% of records are in the inexact match comparison level\", \"u_probability_description\": \"Amongst non-matching record comparisons, 29.55% of records are in the inexact match comparison level\", \"has_tf_adjustments\": false, \"tf_adjustment_column\": null, \"tf_adjustment_weight\": 1.0, \"is_null_level\": false, \"bayes_factor\": 0.04983870570824827, \"log2_bayes_factor\": -4.326589587153933, \"comparison_vector_value\": 1, \"max_comparison_vector_value\": 2, \"bayes_factor_description\": \"If comparison level is `inexact match` then comparison is  20.06 times less likely to be a match\", \"probability_two_random_records_match\": 0.0035255323172626468, \"comparison_sort_order\": 3, \"iteration\": 4}, {\"comparison_name\": \"day_of_birth\", \"sql_condition\": \"ELSE\", \"label_for_charts\": \"All other comparisons\", \"m_probability\": 0.008196229590478124, \"u_probability\": 0.6720251752636338, \"m_probability_description\": \"Amongst matching record comparisons, 0.82% of records are in the all other comparisons comparison level\", \"u_probability_description\": \"Amongst non-matching record comparisons, 67.20% of records are in the all other comparisons comparison level\", \"has_tf_adjustments\": false, \"tf_adjustment_column\": null, \"tf_adjustment_weight\": 1.0, \"is_null_level\": false, \"bayes_factor\": 0.012196313311123743, \"log2_bayes_factor\": -6.357411072441799, \"comparison_vector_value\": 0, \"max_comparison_vector_value\": 2, \"bayes_factor_description\": \"If comparison level is `all other comparisons` then comparison is  81.99 times less likely to be a match\", \"probability_two_random_records_match\": 0.0035255323172626468, \"comparison_sort_order\": 3, \"iteration\": 4}, {\"comparison_name\": \"month_of_birth\", \"sql_condition\": \"\\\"month_of_birth_l\\\" = \\\"month_of_birth_r\\\"\", \"label_for_charts\": \"Exact match\", \"m_probability\": 0.987242347523384, \"u_probability\": 0.08324454672258141, \"m_probability_description\": \"Amongst matching record comparisons, 98.72% of records are in the exact match comparison level\", \"u_probability_description\": \"Amongst non-matching record comparisons, 8.32% of records are in the exact match comparison level\", \"has_tf_adjustments\": false, \"tf_adjustment_column\": null, \"tf_adjustment_weight\": 1.0, \"is_null_level\": false, \"bayes_factor\": 11.859543794663715, \"log2_bayes_factor\": 3.567976609169672, \"comparison_vector_value\": 2, \"max_comparison_vector_value\": 2, \"bayes_factor_description\": \"If comparison level is `exact match` then comparison is 11.86 times more likely to be a match\", \"probability_two_random_records_match\": 0.0035255323172626468, \"comparison_sort_order\": 4, \"iteration\": 4}, {\"comparison_name\": \"month_of_birth\", \"sql_condition\": \"abs(month_of_birth_l - month_of_birth_r) <= 3\", \"label_for_charts\": \"Inexact match\", \"m_probability\": 2.7771005482405835e-05, \"u_probability\": 0.41693832719210167, \"m_probability_description\": \"Amongst matching record comparisons, 0.00% of records are in the inexact match comparison level\", \"u_probability_description\": \"Amongst non-matching record comparisons, 41.69% of records are in the inexact match comparison level\", \"has_tf_adjustments\": false, \"tf_adjustment_column\": null, \"tf_adjustment_weight\": 1.0, \"is_null_level\": false, \"bayes_factor\": 6.660698638436884e-05, \"log2_bayes_factor\": -13.873966965406625, \"comparison_vector_value\": 1, \"max_comparison_vector_value\": 2, \"bayes_factor_description\": \"If comparison level is `inexact match` then comparison is  15,013.44 times less likely to be a match\", \"probability_two_random_records_match\": 0.0035255323172626468, \"comparison_sort_order\": 4, \"iteration\": 4}, {\"comparison_name\": \"month_of_birth\", \"sql_condition\": \"ELSE\", \"label_for_charts\": \"All other comparisons\", \"m_probability\": 0.012729881471133532, \"u_probability\": 0.4998171260853169, \"m_probability_description\": \"Amongst matching record comparisons, 1.27% of records are in the all other comparisons comparison level\", \"u_probability_description\": \"Amongst non-matching record comparisons, 49.98% of records are in the all other comparisons comparison level\", \"has_tf_adjustments\": false, \"tf_adjustment_column\": null, \"tf_adjustment_weight\": 1.0, \"is_null_level\": false, \"bayes_factor\": 0.025469078202335526, \"log2_bayes_factor\": -5.295109444414084, \"comparison_vector_value\": 0, \"max_comparison_vector_value\": 2, \"bayes_factor_description\": \"If comparison level is `all other comparisons` then comparison is  39.26 times less likely to be a match\", \"probability_two_random_records_match\": 0.0035255323172626468, \"comparison_sort_order\": 4, \"iteration\": 4}, {\"comparison_name\": \"year_of_birth\", \"sql_condition\": \"\\\"year_of_birth_l\\\" = \\\"year_of_birth_r\\\"\", \"label_for_charts\": \"Exact match\", \"m_probability\": 0.9513116987889023, \"u_probability\": 0.011085112473136845, \"m_probability_description\": \"Amongst matching record comparisons, 95.13% of records are in the exact match comparison level\", \"u_probability_description\": \"Amongst non-matching record comparisons, 1.11% of records are in the exact match comparison level\", \"has_tf_adjustments\": false, \"tf_adjustment_column\": null, \"tf_adjustment_weight\": 1.0, \"is_null_level\": false, \"bayes_factor\": 85.81885850001682, \"log2_bayes_factor\": 6.423222806422072, \"comparison_vector_value\": 2, \"max_comparison_vector_value\": 2, \"bayes_factor_description\": \"If comparison level is `exact match` then comparison is 85.82 times more likely to be a match\", \"probability_two_random_records_match\": 0.0035255323172626468, \"comparison_sort_order\": 5, \"iteration\": 4}, {\"comparison_name\": \"year_of_birth\", \"sql_condition\": \"abs(year_of_birth_l - year_of_birth_r) <= 5\", \"label_for_charts\": \"Inexact match\", \"m_probability\": 0.016340185783453448, \"u_probability\": 0.10968379850702191, \"m_probability_description\": \"Amongst matching record comparisons, 1.63% of records are in the inexact match comparison level\", \"u_probability_description\": \"Amongst non-matching record comparisons, 10.97% of records are in the inexact match comparison level\", \"has_tf_adjustments\": false, \"tf_adjustment_column\": null, \"tf_adjustment_weight\": 1.0, \"is_null_level\": false, \"bayes_factor\": 0.14897538201512375, \"log2_bayes_factor\": -2.746854147951887, \"comparison_vector_value\": 1, \"max_comparison_vector_value\": 2, \"bayes_factor_description\": \"If comparison level is `inexact match` then comparison is  6.71 times less likely to be a match\", \"probability_two_random_records_match\": 0.0035255323172626468, \"comparison_sort_order\": 5, \"iteration\": 4}, {\"comparison_name\": \"year_of_birth\", \"sql_condition\": \"ELSE\", \"label_for_charts\": \"All other comparisons\", \"m_probability\": 0.03234811542764425, \"u_probability\": 0.8792310890198413, \"m_probability_description\": \"Amongst matching record comparisons, 3.23% of records are in the all other comparisons comparison level\", \"u_probability_description\": \"Amongst non-matching record comparisons, 87.92% of records are in the all other comparisons comparison level\", \"has_tf_adjustments\": false, \"tf_adjustment_column\": null, \"tf_adjustment_weight\": 1.0, \"is_null_level\": false, \"bayes_factor\": 0.03679136899459007, \"log2_bayes_factor\": -4.764488830262959, \"comparison_vector_value\": 0, \"max_comparison_vector_value\": 2, \"bayes_factor_description\": \"If comparison level is `all other comparisons` then comparison is  27.18 times less likely to be a match\", \"probability_two_random_records_match\": 0.0035255323172626468, \"comparison_sort_order\": 5, \"iteration\": 4}, {\"comparison_name\": \"first_name_15\", \"sql_condition\": \"\\\"first_name_15_l\\\" = \\\"first_name_15_r\\\"\", \"label_for_charts\": \"Exact match\", \"m_probability\": 0.8584638485447691, \"u_probability\": 0.0020297990270034772, \"m_probability_description\": \"Amongst matching record comparisons, 85.85% of records are in the exact match comparison level\", \"u_probability_description\": \"Amongst non-matching record comparisons, 0.20% of records are in the exact match comparison level\", \"has_tf_adjustments\": false, \"tf_adjustment_column\": null, \"tf_adjustment_weight\": 1.0, \"is_null_level\": false, \"bayes_factor\": 422.9304660826889, \"log2_bayes_factor\": 8.724276679399587, \"comparison_vector_value\": 2, \"max_comparison_vector_value\": 2, \"bayes_factor_description\": \"If comparison level is `exact match` then comparison is 422.93 times more likely to be a match\", \"probability_two_random_records_match\": 0.0035255323172626468, \"comparison_sort_order\": 0, \"iteration\": 5}, {\"comparison_name\": \"first_name_15\", \"sql_condition\": \"jaro_winkler_similarity(\\\"first_name_15_l\\\", \\\"first_name_15_r\\\") >= 0.8333333333333334\", \"label_for_charts\": \"Jaro_winkler_similarity >= 0.8333333333333334\", \"m_probability\": 0.07375907121337148, \"u_probability\": 0.0034682162537213487, \"m_probability_description\": \"Amongst matching record comparisons, 7.38% of records are in the jaro_winkler_similarity >= 0.8333333333333334 comparison level\", \"u_probability_description\": \"Amongst non-matching record comparisons, 0.35% of records are in the jaro_winkler_similarity >= 0.8333333333333334 comparison level\", \"has_tf_adjustments\": false, \"tf_adjustment_column\": null, \"tf_adjustment_weight\": 1.0, \"is_null_level\": false, \"bayes_factor\": 21.267148821596408, \"log2_bayes_factor\": 4.410554726368305, \"comparison_vector_value\": 1, \"max_comparison_vector_value\": 2, \"bayes_factor_description\": \"If comparison level is `jaro_winkler_similarity >= 0.8333333333333334` then comparison is 21.27 times more likely to be a match\", \"probability_two_random_records_match\": 0.0035255323172626468, \"comparison_sort_order\": 0, \"iteration\": 5}, {\"comparison_name\": \"first_name_15\", \"sql_condition\": \"ELSE\", \"label_for_charts\": \"All other comparisons\", \"m_probability\": 0.0677770802418595, \"u_probability\": 0.9945019847192752, \"m_probability_description\": \"Amongst matching record comparisons, 6.78% of records are in the all other comparisons comparison level\", \"u_probability_description\": \"Amongst non-matching record comparisons, 99.45% of records are in the all other comparisons comparison level\", \"has_tf_adjustments\": false, \"tf_adjustment_column\": null, \"tf_adjustment_weight\": 1.0, \"is_null_level\": false, \"bayes_factor\": 0.06815177976843494, \"log2_bayes_factor\": -3.8751048565950432, \"comparison_vector_value\": 0, \"max_comparison_vector_value\": 2, \"bayes_factor_description\": \"If comparison level is `all other comparisons` then comparison is  14.67 times less likely to be a match\", \"probability_two_random_records_match\": 0.0035255323172626468, \"comparison_sort_order\": 0, \"iteration\": 5}, {\"comparison_name\": \"last_name_12\", \"sql_condition\": \"\\\"last_name_12_l\\\" = \\\"last_name_12_r\\\"\", \"label_for_charts\": \"Exact match\", \"m_probability\": 0.8630630839117638, \"u_probability\": 0.0006842173986881611, \"m_probability_description\": \"Amongst matching record comparisons, 86.31% of records are in the exact match comparison level\", \"u_probability_description\": \"Amongst non-matching record comparisons, 0.07% of records are in the exact match comparison level\", \"has_tf_adjustments\": false, \"tf_adjustment_column\": null, \"tf_adjustment_weight\": 1.0, \"is_null_level\": false, \"bayes_factor\": 1261.387222199407, \"log2_bayes_factor\": 10.300795508616474, \"comparison_vector_value\": 2, \"max_comparison_vector_value\": 2, \"bayes_factor_description\": \"If comparison level is `exact match` then comparison is 1,261.39 times more likely to be a match\", \"probability_two_random_records_match\": 0.0035255323172626468, \"comparison_sort_order\": 1, \"iteration\": 5}, {\"comparison_name\": \"last_name_12\", \"sql_condition\": \"jaro_winkler_similarity(\\\"last_name_12_l\\\", \\\"last_name_12_r\\\") >= 0.8333333333333334\", \"label_for_charts\": \"Jaro_winkler_similarity >= 0.8333333333333334\", \"m_probability\": 0.10110932506458761, \"u_probability\": 0.0013675335890361796, \"m_probability_description\": \"Amongst matching record comparisons, 10.11% of records are in the jaro_winkler_similarity >= 0.8333333333333334 comparison level\", \"u_probability_description\": \"Amongst non-matching record comparisons, 0.14% of records are in the jaro_winkler_similarity >= 0.8333333333333334 comparison level\", \"has_tf_adjustments\": false, \"tf_adjustment_column\": null, \"tf_adjustment_weight\": 1.0, \"is_null_level\": false, \"bayes_factor\": 73.93553319289816, \"log2_bayes_factor\": 6.208195980783163, \"comparison_vector_value\": 1, \"max_comparison_vector_value\": 2, \"bayes_factor_description\": \"If comparison level is `jaro_winkler_similarity >= 0.8333333333333334` then comparison is 73.94 times more likely to be a match\", \"probability_two_random_records_match\": 0.0035255323172626468, \"comparison_sort_order\": 1, \"iteration\": 5}, {\"comparison_name\": \"last_name_12\", \"sql_condition\": \"ELSE\", \"label_for_charts\": \"All other comparisons\", \"m_probability\": 0.035827591023648526, \"u_probability\": 0.9979482490122756, \"m_probability_description\": \"Amongst matching record comparisons, 3.58% of records are in the all other comparisons comparison level\", \"u_probability_description\": \"Amongst non-matching record comparisons, 99.79% of records are in the all other comparisons comparison level\", \"has_tf_adjustments\": false, \"tf_adjustment_column\": null, \"tf_adjustment_weight\": 1.0, \"is_null_level\": false, \"bayes_factor\": 0.035901251451775244, \"log2_bayes_factor\": -4.799822055146952, \"comparison_vector_value\": 0, \"max_comparison_vector_value\": 2, \"bayes_factor_description\": \"If comparison level is `all other comparisons` then comparison is  27.85 times less likely to be a match\", \"probability_two_random_records_match\": 0.0035255323172626468, \"comparison_sort_order\": 1, \"iteration\": 5}, {\"comparison_name\": \"middle_initial\", \"sql_condition\": \"\\\"middle_initial_l\\\" = \\\"middle_initial_r\\\"\", \"label_for_charts\": \"Exact match\", \"m_probability\": 0.9273050385456796, \"u_probability\": 0.07300510353598076, \"m_probability_description\": \"Amongst matching record comparisons, 92.73% of records are in the exact match comparison level\", \"u_probability_description\": \"Amongst non-matching record comparisons, 7.30% of records are in the exact match comparison level\", \"has_tf_adjustments\": false, \"tf_adjustment_column\": null, \"tf_adjustment_weight\": 1.0, \"is_null_level\": false, \"bayes_factor\": 12.701920737481796, \"log2_bayes_factor\": 3.666974767390015, \"comparison_vector_value\": 1, \"max_comparison_vector_value\": 1, \"bayes_factor_description\": \"If comparison level is `exact match` then comparison is 12.70 times more likely to be a match\", \"probability_two_random_records_match\": 0.0035255323172626468, \"comparison_sort_order\": 2, \"iteration\": 5}, {\"comparison_name\": \"middle_initial\", \"sql_condition\": \"ELSE\", \"label_for_charts\": \"All other comparisons\", \"m_probability\": 0.07269496145432036, \"u_probability\": 0.9269948964640192, \"m_probability_description\": \"Amongst matching record comparisons, 7.27% of records are in the all other comparisons comparison level\", \"u_probability_description\": \"Amongst non-matching record comparisons, 92.70% of records are in the all other comparisons comparison level\", \"has_tf_adjustments\": false, \"tf_adjustment_column\": null, \"tf_adjustment_weight\": 1.0, \"is_null_level\": false, \"bayes_factor\": 0.07842002338050841, \"log2_bayes_factor\": -3.6726341177883874, \"comparison_vector_value\": 0, \"max_comparison_vector_value\": 1, \"bayes_factor_description\": \"If comparison level is `all other comparisons` then comparison is  12.75 times less likely to be a match\", \"probability_two_random_records_match\": 0.0035255323172626468, \"comparison_sort_order\": 2, \"iteration\": 5}, {\"comparison_name\": \"day_of_birth\", \"sql_condition\": \"\\\"day_of_birth_l\\\" = \\\"day_of_birth_r\\\"\", \"label_for_charts\": \"Exact match\", \"m_probability\": 0.9770685741731355, \"u_probability\": 0.03251748092886318, \"m_probability_description\": \"Amongst matching record comparisons, 97.71% of records are in the exact match comparison level\", \"u_probability_description\": \"Amongst non-matching record comparisons, 3.25% of records are in the exact match comparison level\", \"has_tf_adjustments\": false, \"tf_adjustment_column\": null, \"tf_adjustment_weight\": 1.0, \"is_null_level\": false, \"bayes_factor\": 30.047486652198494, \"log2_bayes_factor\": 4.909172415406028, \"comparison_vector_value\": 2, \"max_comparison_vector_value\": 2, \"bayes_factor_description\": \"If comparison level is `exact match` then comparison is 30.05 times more likely to be a match\", \"probability_two_random_records_match\": 0.0035255323172626468, \"comparison_sort_order\": 3, \"iteration\": 5}, {\"comparison_name\": \"day_of_birth\", \"sql_condition\": \"abs(day_of_birth_l - day_of_birth_r) <= 5\", \"label_for_charts\": \"Inexact match\", \"m_probability\": 0.014739188072724094, \"u_probability\": 0.29545734380750305, \"m_probability_description\": \"Amongst matching record comparisons, 1.47% of records are in the inexact match comparison level\", \"u_probability_description\": \"Amongst non-matching record comparisons, 29.55% of records are in the inexact match comparison level\", \"has_tf_adjustments\": false, \"tf_adjustment_column\": null, \"tf_adjustment_weight\": 1.0, \"is_null_level\": false, \"bayes_factor\": 0.04988601021989489, \"log2_bayes_factor\": -4.325220899585406, \"comparison_vector_value\": 1, \"max_comparison_vector_value\": 2, \"bayes_factor_description\": \"If comparison level is `inexact match` then comparison is  20.05 times less likely to be a match\", \"probability_two_random_records_match\": 0.0035255323172626468, \"comparison_sort_order\": 3, \"iteration\": 5}, {\"comparison_name\": \"day_of_birth\", \"sql_condition\": \"ELSE\", \"label_for_charts\": \"All other comparisons\", \"m_probability\": 0.008192237754140401, \"u_probability\": 0.6720251752636338, \"m_probability_description\": \"Amongst matching record comparisons, 0.82% of records are in the all other comparisons comparison level\", \"u_probability_description\": \"Amongst non-matching record comparisons, 67.20% of records are in the all other comparisons comparison level\", \"has_tf_adjustments\": false, \"tf_adjustment_column\": null, \"tf_adjustment_weight\": 1.0, \"is_null_level\": false, \"bayes_factor\": 0.01219037330101005, \"log2_bayes_factor\": -6.358113884056975, \"comparison_vector_value\": 0, \"max_comparison_vector_value\": 2, \"bayes_factor_description\": \"If comparison level is `all other comparisons` then comparison is  82.03 times less likely to be a match\", \"probability_two_random_records_match\": 0.0035255323172626468, \"comparison_sort_order\": 3, \"iteration\": 5}, {\"comparison_name\": \"month_of_birth\", \"sql_condition\": \"\\\"month_of_birth_l\\\" = \\\"month_of_birth_r\\\"\", \"label_for_charts\": \"Exact match\", \"m_probability\": 0.9872355584017825, \"u_probability\": 0.08324454672258141, \"m_probability_description\": \"Amongst matching record comparisons, 98.72% of records are in the exact match comparison level\", \"u_probability_description\": \"Amongst non-matching record comparisons, 8.32% of records are in the exact match comparison level\", \"has_tf_adjustments\": false, \"tf_adjustment_column\": null, \"tf_adjustment_weight\": 1.0, \"is_null_level\": false, \"bayes_factor\": 11.85946223831115, \"log2_bayes_factor\": 3.5679666879322274, \"comparison_vector_value\": 2, \"max_comparison_vector_value\": 2, \"bayes_factor_description\": \"If comparison level is `exact match` then comparison is 11.86 times more likely to be a match\", \"probability_two_random_records_match\": 0.0035255323172626468, \"comparison_sort_order\": 4, \"iteration\": 5}, {\"comparison_name\": \"month_of_birth\", \"sql_condition\": \"abs(month_of_birth_l - month_of_birth_r) <= 3\", \"label_for_charts\": \"Inexact match\", \"m_probability\": 9.57308443585244e-06, \"u_probability\": 0.41693832719210167, \"m_probability_description\": \"Amongst matching record comparisons, 0.00% of records are in the inexact match comparison level\", \"u_probability_description\": \"Amongst non-matching record comparisons, 41.69% of records are in the inexact match comparison level\", \"has_tf_adjustments\": false, \"tf_adjustment_column\": null, \"tf_adjustment_weight\": 1.0, \"is_null_level\": false, \"bayes_factor\": 2.2960432782284616e-05, \"log2_bayes_factor\": -15.41049063873979, \"comparison_vector_value\": 1, \"max_comparison_vector_value\": 2, \"bayes_factor_description\": \"If comparison level is `inexact match` then comparison is  43,553.19 times less likely to be a match\", \"probability_two_random_records_match\": 0.0035255323172626468, \"comparison_sort_order\": 4, \"iteration\": 5}, {\"comparison_name\": \"month_of_birth\", \"sql_condition\": \"ELSE\", \"label_for_charts\": \"All other comparisons\", \"m_probability\": 0.01275486851378167, \"u_probability\": 0.4998171260853169, \"m_probability_description\": \"Amongst matching record comparisons, 1.28% of records are in the all other comparisons comparison level\", \"u_probability_description\": \"Amongst non-matching record comparisons, 49.98% of records are in the all other comparisons comparison level\", \"has_tf_adjustments\": false, \"tf_adjustment_column\": null, \"tf_adjustment_weight\": 1.0, \"is_null_level\": false, \"bayes_factor\": 0.02551907057223258, \"log2_bayes_factor\": -5.29228040398106, \"comparison_vector_value\": 0, \"max_comparison_vector_value\": 2, \"bayes_factor_description\": \"If comparison level is `all other comparisons` then comparison is  39.19 times less likely to be a match\", \"probability_two_random_records_match\": 0.0035255323172626468, \"comparison_sort_order\": 4, \"iteration\": 5}, {\"comparison_name\": \"year_of_birth\", \"sql_condition\": \"\\\"year_of_birth_l\\\" = \\\"year_of_birth_r\\\"\", \"label_for_charts\": \"Exact match\", \"m_probability\": 0.9513025902531693, \"u_probability\": 0.011085112473136845, \"m_probability_description\": \"Amongst matching record comparisons, 95.13% of records are in the exact match comparison level\", \"u_probability_description\": \"Amongst non-matching record comparisons, 1.11% of records are in the exact match comparison level\", \"has_tf_adjustments\": false, \"tf_adjustment_column\": null, \"tf_adjustment_weight\": 1.0, \"is_null_level\": false, \"bayes_factor\": 85.81803680914493, \"log2_bayes_factor\": 6.423208992966126, \"comparison_vector_value\": 2, \"max_comparison_vector_value\": 2, \"bayes_factor_description\": \"If comparison level is `exact match` then comparison is 85.82 times more likely to be a match\", \"probability_two_random_records_match\": 0.0035255323172626468, \"comparison_sort_order\": 5, \"iteration\": 5}, {\"comparison_name\": \"year_of_birth\", \"sql_condition\": \"abs(year_of_birth_l - year_of_birth_r) <= 5\", \"label_for_charts\": \"Inexact match\", \"m_probability\": 0.016322432394759313, \"u_probability\": 0.10968379850702191, \"m_probability_description\": \"Amongst matching record comparisons, 1.63% of records are in the inexact match comparison level\", \"u_probability_description\": \"Amongst non-matching record comparisons, 10.97% of records are in the inexact match comparison level\", \"has_tf_adjustments\": false, \"tf_adjustment_column\": null, \"tf_adjustment_weight\": 1.0, \"is_null_level\": false, \"bayes_factor\": 0.14881352229713632, \"log2_bayes_factor\": -2.748422468544593, \"comparison_vector_value\": 1, \"max_comparison_vector_value\": 2, \"bayes_factor_description\": \"If comparison level is `inexact match` then comparison is  6.72 times less likely to be a match\", \"probability_two_random_records_match\": 0.0035255323172626468, \"comparison_sort_order\": 5, \"iteration\": 5}, {\"comparison_name\": \"year_of_birth\", \"sql_condition\": \"ELSE\", \"label_for_charts\": \"All other comparisons\", \"m_probability\": 0.03237497735207139, \"u_probability\": 0.8792310890198413, \"m_probability_description\": \"Amongst matching record comparisons, 3.24% of records are in the all other comparisons comparison level\", \"u_probability_description\": \"Amongst non-matching record comparisons, 87.92% of records are in the all other comparisons comparison level\", \"has_tf_adjustments\": false, \"tf_adjustment_column\": null, \"tf_adjustment_weight\": 1.0, \"is_null_level\": false, \"bayes_factor\": 0.03682192060356137, \"log2_bayes_factor\": -4.763291311240907, \"comparison_vector_value\": 0, \"max_comparison_vector_value\": 2, \"bayes_factor_description\": \"If comparison level is `all other comparisons` then comparison is  27.16 times less likely to be a match\", \"probability_two_random_records_match\": 0.0035255323172626468, \"comparison_sort_order\": 5, \"iteration\": 5}]}}, {\"mode\": \"vega-lite\"});\n",
       "</script>"
      ],
      "text/plain": [
       "alt.HConcatChart(...)"
      ]
     },
     "execution_count": 60,
     "metadata": {},
     "output_type": "execute_result"
    }
   ],
   "source": [
    "em_session_2.m_u_values_interactive_history_chart()"
   ]
  },
  {
   "cell_type": "code",
   "execution_count": 61,
   "id": "c2226bd7-8baa-4be1-bb4d-f43ac0783ec3",
   "metadata": {
    "execution": {
     "iopub.execute_input": "2024-05-16T17:21:11.259196Z",
     "iopub.status.busy": "2024-05-16T17:21:11.257943Z",
     "iopub.status.idle": "2024-05-16T17:21:11.480762Z",
     "shell.execute_reply": "2024-05-16T17:21:11.479619Z"
    },
    "papermill": {
     "duration": 0.25443,
     "end_time": "2024-05-16T17:21:11.484104",
     "exception": false,
     "start_time": "2024-05-16T17:21:11.229674",
     "status": "completed"
    },
    "tags": []
   },
   "outputs": [
    {
     "data": {
      "text/html": [
       "\n",
       "<style>\n",
       "  #altair-viz-4b7879a98a104b7d8418f700f0bdebc5.vega-embed {\n",
       "    width: 100%;\n",
       "    display: flex;\n",
       "  }\n",
       "\n",
       "  #altair-viz-4b7879a98a104b7d8418f700f0bdebc5.vega-embed details,\n",
       "  #altair-viz-4b7879a98a104b7d8418f700f0bdebc5.vega-embed details summary {\n",
       "    position: relative;\n",
       "  }\n",
       "</style>\n",
       "<div id=\"altair-viz-4b7879a98a104b7d8418f700f0bdebc5\"></div>\n",
       "<script type=\"text/javascript\">\n",
       "  var VEGA_DEBUG = (typeof VEGA_DEBUG == \"undefined\") ? {} : VEGA_DEBUG;\n",
       "  (function(spec, embedOpt){\n",
       "    let outputDiv = document.currentScript.previousElementSibling;\n",
       "    if (outputDiv.id !== \"altair-viz-4b7879a98a104b7d8418f700f0bdebc5\") {\n",
       "      outputDiv = document.getElementById(\"altair-viz-4b7879a98a104b7d8418f700f0bdebc5\");\n",
       "    }\n",
       "    const paths = {\n",
       "      \"vega\": \"https://cdn.jsdelivr.net/npm/vega@5?noext\",\n",
       "      \"vega-lib\": \"https://cdn.jsdelivr.net/npm/vega-lib?noext\",\n",
       "      \"vega-lite\": \"https://cdn.jsdelivr.net/npm/vega-lite@5.17.0?noext\",\n",
       "      \"vega-embed\": \"https://cdn.jsdelivr.net/npm/vega-embed@6?noext\",\n",
       "    };\n",
       "\n",
       "    function maybeLoadScript(lib, version) {\n",
       "      var key = `${lib.replace(\"-\", \"\")}_version`;\n",
       "      return (VEGA_DEBUG[key] == version) ?\n",
       "        Promise.resolve(paths[lib]) :\n",
       "        new Promise(function(resolve, reject) {\n",
       "          var s = document.createElement('script');\n",
       "          document.getElementsByTagName(\"head\")[0].appendChild(s);\n",
       "          s.async = true;\n",
       "          s.onload = () => {\n",
       "            VEGA_DEBUG[key] = version;\n",
       "            return resolve(paths[lib]);\n",
       "          };\n",
       "          s.onerror = () => reject(`Error loading script: ${paths[lib]}`);\n",
       "          s.src = paths[lib];\n",
       "        });\n",
       "    }\n",
       "\n",
       "    function showError(err) {\n",
       "      outputDiv.innerHTML = `<div class=\"error\" style=\"color:red;\">${err}</div>`;\n",
       "      throw err;\n",
       "    }\n",
       "\n",
       "    function displayChart(vegaEmbed) {\n",
       "      vegaEmbed(outputDiv, spec, embedOpt)\n",
       "        .catch(err => showError(`Javascript Error: ${err.message}<br>This usually means there's a typo in your chart specification. See the javascript console for the full traceback.`));\n",
       "    }\n",
       "\n",
       "    if(typeof define === \"function\" && define.amd) {\n",
       "      requirejs.config({paths});\n",
       "      require([\"vega-embed\"], displayChart, err => showError(`Error loading script: ${err.message}`));\n",
       "    } else {\n",
       "      maybeLoadScript(\"vega\", \"5\")\n",
       "        .then(() => maybeLoadScript(\"vega-lite\", \"5.17.0\"))\n",
       "        .then(() => maybeLoadScript(\"vega-embed\", \"6\"))\n",
       "        .catch(showError)\n",
       "        .then(() => displayChart(vegaEmbed));\n",
       "    }\n",
       "  })({\"config\": {\"view\": {\"continuousWidth\": 300, \"continuousHeight\": 300, \"discreteHeight\": 60, \"discreteWidth\": 400}, \"header\": {\"title\": null}, \"mark\": {\"tooltip\": null}, \"title\": {\"anchor\": \"middle\"}}, \"vconcat\": [{\"mark\": {\"type\": \"bar\", \"clip\": true, \"height\": 15}, \"encoding\": {\"color\": {\"field\": \"log2_bayes_factor\", \"scale\": {\"domain\": [-10, 0, 10], \"interpolate\": \"lab\", \"range\": [\"red\", \"#bbbbbb\", \"green\"]}, \"title\": \"Match weight\", \"type\": \"quantitative\"}, \"tooltip\": [{\"field\": \"comparison_name\", \"title\": \"Comparison name\", \"type\": \"nominal\"}, {\"field\": \"probability_two_random_records_match\", \"format\": \".4f\", \"title\": \"Probability two random records match\", \"type\": \"nominal\"}, {\"field\": \"log2_bayes_factor\", \"format\": \",.4f\", \"title\": \"Equivalent match weight\", \"type\": \"quantitative\"}, {\"field\": \"bayes_factor_description\", \"title\": \"Match weight description\", \"type\": \"nominal\"}], \"x\": {\"axis\": {\"domain\": false, \"gridColor\": {\"condition\": {\"test\": \"abs(datum.value / 10)  <= 1 & datum.value % 10 === 0\", \"value\": \"#aaa\"}, \"value\": \"#ddd\"}, \"gridDash\": {\"condition\": {\"test\": \"abs(datum.value / 10) == 1\", \"value\": [3]}, \"value\": null}, \"gridWidth\": {\"condition\": {\"test\": \"abs(datum.value / 10)  <= 1 & datum.value % 10 === 0\", \"value\": 2}, \"value\": 1}, \"labels\": false, \"ticks\": false, \"title\": \"\"}, \"field\": \"log2_bayes_factor\", \"scale\": {\"domain\": [-17, 17]}, \"type\": \"quantitative\"}, \"y\": {\"axis\": {\"title\": \"Prior (starting) match weight\", \"titleAlign\": \"right\", \"titleAngle\": 0, \"titleFontWeight\": \"normal\"}, \"field\": \"label_for_charts\", \"sort\": {\"field\": \"comparison_vector_value\", \"order\": \"descending\"}, \"type\": \"nominal\"}}, \"height\": 20, \"transform\": [{\"filter\": \"(datum.comparison_name == 'probability_two_random_records_match')\"}]}, {\"mark\": {\"type\": \"bar\", \"clip\": true}, \"encoding\": {\"color\": {\"field\": \"log2_bayes_factor\", \"scale\": {\"domain\": [-10, 0, 10], \"interpolate\": \"lab\", \"range\": [\"red\", \"#bbbbbb\", \"green\"]}, \"title\": \"Match weight\", \"type\": \"quantitative\"}, \"row\": {\"field\": \"comparison_name\", \"header\": {\"labelAlign\": \"left\", \"labelAnchor\": \"middle\", \"labelAngle\": 0}, \"sort\": {\"field\": \"comparison_sort_order\"}, \"type\": \"nominal\"}, \"tooltip\": [{\"field\": \"comparison_name\", \"title\": \"Comparison name\", \"type\": \"nominal\"}, {\"field\": \"label_for_charts\", \"title\": \"Label\", \"type\": \"ordinal\"}, {\"field\": \"sql_condition\", \"title\": \"SQL condition\", \"type\": \"nominal\"}, {\"field\": \"m_probability\", \"format\": \".4f\", \"title\": \"M probability\", \"type\": \"quantitative\"}, {\"field\": \"u_probability\", \"format\": \".4f\", \"title\": \"U probability\", \"type\": \"quantitative\"}, {\"field\": \"bayes_factor\", \"format\": \",.4f\", \"title\": \"Bayes factor = m/u\", \"type\": \"quantitative\"}, {\"field\": \"log2_bayes_factor\", \"format\": \",.4f\", \"title\": \"Match weight = log2(m/u)\", \"type\": \"quantitative\"}, {\"field\": \"bayes_factor_description\", \"title\": \"Match weight description\", \"type\": \"nominal\"}], \"x\": {\"axis\": {\"gridColor\": {\"condition\": {\"test\": \"abs(datum.value / 10)  <= 1 & datum.value % 10 === 0\", \"value\": \"#aaa\"}, \"value\": \"#ddd\"}, \"gridDash\": {\"condition\": {\"test\": \"abs(datum.value / 10) == 1\", \"value\": [3]}, \"value\": null}, \"gridWidth\": {\"condition\": {\"test\": \"abs(datum.value / 10)  <= 1 & datum.value % 10 === 0\", \"value\": 2}, \"value\": 1}, \"title\": \"Comparison level match weight = log2(m/u)\"}, \"field\": \"log2_bayes_factor\", \"scale\": {\"domain\": [-17, 17]}, \"type\": \"quantitative\"}, \"y\": {\"axis\": {\"title\": null}, \"field\": \"label_for_charts\", \"sort\": {\"field\": \"comparison_vector_value\", \"order\": \"descending\"}, \"type\": \"nominal\"}}, \"height\": {\"step\": 12}, \"resolve\": {\"axis\": {\"y\": \"independent\"}, \"scale\": {\"y\": \"independent\"}}, \"transform\": [{\"filter\": \"(datum.comparison_name != 'probability_two_random_records_match')\"}]}], \"data\": {\"name\": \"data-ac7ec56ff74a13ac2e7119d19a1c3b9b\"}, \"params\": [{\"name\": \"mouse_zoom\", \"select\": {\"type\": \"interval\", \"encodings\": [\"x\"]}, \"bind\": \"scales\", \"views\": []}], \"resolve\": {\"axis\": {\"y\": \"independent\"}, \"scale\": {\"y\": \"independent\"}}, \"title\": {\"text\": \"Model parameters (components of final match weight)\", \"subtitle\": \"Use mousewheel to zoom\"}, \"$schema\": \"https://vega.github.io/schema/vega-lite/v5.9.3.json\", \"datasets\": {\"data-ac7ec56ff74a13ac2e7119d19a1c3b9b\": [{\"comparison_name\": \"probability_two_random_records_match\", \"sql_condition\": null, \"label_for_charts\": \"\", \"m_probability\": null, \"u_probability\": null, \"m_probability_description\": null, \"u_probability_description\": null, \"has_tf_adjustments\": false, \"tf_adjustment_column\": null, \"tf_adjustment_weight\": null, \"is_null_level\": false, \"bayes_factor\": 1.4116190080190173e-05, \"log2_bayes_factor\": -16.112289712605417, \"comparison_vector_value\": 0, \"max_comparison_vector_value\": 0, \"bayes_factor_description\": \"The probability that two random records drawn at random match is 0.000 or one in  70,841.6 records.This is equivalent to a starting match weight of -16.112.\", \"probability_two_random_records_match\": 1.4115990816180642e-05, \"comparison_sort_order\": -1}, {\"comparison_name\": \"first_name_15\", \"sql_condition\": \"\\\"first_name_15_l\\\" = \\\"first_name_15_r\\\"\", \"label_for_charts\": \"Exact match\", \"m_probability\": 0.8584638485447691, \"u_probability\": 0.0020297990270034772, \"m_probability_description\": \"Amongst matching record comparisons, 85.85% of records are in the exact match comparison level\", \"u_probability_description\": \"Amongst non-matching record comparisons, 0.20% of records are in the exact match comparison level\", \"has_tf_adjustments\": false, \"tf_adjustment_column\": null, \"tf_adjustment_weight\": 1.0, \"is_null_level\": false, \"bayes_factor\": 422.9304660826889, \"log2_bayes_factor\": 8.724276679399587, \"comparison_vector_value\": 2, \"max_comparison_vector_value\": 2, \"bayes_factor_description\": \"If comparison level is `exact match` then comparison is 422.93 times more likely to be a match\", \"probability_two_random_records_match\": 1.4115990816180642e-05, \"comparison_sort_order\": 0}, {\"comparison_name\": \"first_name_15\", \"sql_condition\": \"jaro_winkler_similarity(\\\"first_name_15_l\\\", \\\"first_name_15_r\\\") >= 0.8333333333333334\", \"label_for_charts\": \"Jaro_winkler_similarity >= 0.8333333333333334\", \"m_probability\": 0.07375907121337148, \"u_probability\": 0.0034682162537213487, \"m_probability_description\": \"Amongst matching record comparisons, 7.38% of records are in the jaro_winkler_similarity >= 0.8333333333333334 comparison level\", \"u_probability_description\": \"Amongst non-matching record comparisons, 0.35% of records are in the jaro_winkler_similarity >= 0.8333333333333334 comparison level\", \"has_tf_adjustments\": false, \"tf_adjustment_column\": null, \"tf_adjustment_weight\": 1.0, \"is_null_level\": false, \"bayes_factor\": 21.267148821596408, \"log2_bayes_factor\": 4.410554726368305, \"comparison_vector_value\": 1, \"max_comparison_vector_value\": 2, \"bayes_factor_description\": \"If comparison level is `jaro_winkler_similarity >= 0.8333333333333334` then comparison is 21.27 times more likely to be a match\", \"probability_two_random_records_match\": 1.4115990816180642e-05, \"comparison_sort_order\": 0}, {\"comparison_name\": \"first_name_15\", \"sql_condition\": \"ELSE\", \"label_for_charts\": \"All other comparisons\", \"m_probability\": 0.0677770802418595, \"u_probability\": 0.9945019847192752, \"m_probability_description\": \"Amongst matching record comparisons, 6.78% of records are in the all other comparisons comparison level\", \"u_probability_description\": \"Amongst non-matching record comparisons, 99.45% of records are in the all other comparisons comparison level\", \"has_tf_adjustments\": false, \"tf_adjustment_column\": null, \"tf_adjustment_weight\": 1.0, \"is_null_level\": false, \"bayes_factor\": 0.06815177976843494, \"log2_bayes_factor\": -3.8751048565950432, \"comparison_vector_value\": 0, \"max_comparison_vector_value\": 2, \"bayes_factor_description\": \"If comparison level is `all other comparisons` then comparison is  14.67 times less likely to be a match\", \"probability_two_random_records_match\": 1.4115990816180642e-05, \"comparison_sort_order\": 0}, {\"comparison_name\": \"last_name_12\", \"sql_condition\": \"\\\"last_name_12_l\\\" = \\\"last_name_12_r\\\"\", \"label_for_charts\": \"Exact match\", \"m_probability\": 0.8710470485803897, \"u_probability\": 0.0006842173986881611, \"m_probability_description\": \"Amongst matching record comparisons, 87.10% of records are in the exact match comparison level\", \"u_probability_description\": \"Amongst non-matching record comparisons, 0.07% of records are in the exact match comparison level\", \"has_tf_adjustments\": false, \"tf_adjustment_column\": null, \"tf_adjustment_weight\": 1.0, \"is_null_level\": false, \"bayes_factor\": 1273.0559764344403, \"log2_bayes_factor\": 10.314080140781877, \"comparison_vector_value\": 2, \"max_comparison_vector_value\": 2, \"bayes_factor_description\": \"If comparison level is `exact match` then comparison is 1,273.06 times more likely to be a match\", \"probability_two_random_records_match\": 1.4115990816180642e-05, \"comparison_sort_order\": 1}, {\"comparison_name\": \"last_name_12\", \"sql_condition\": \"jaro_winkler_similarity(\\\"last_name_12_l\\\", \\\"last_name_12_r\\\") >= 0.8333333333333334\", \"label_for_charts\": \"Jaro_winkler_similarity >= 0.8333333333333334\", \"m_probability\": 0.09762203658979028, \"u_probability\": 0.0013675335890361796, \"m_probability_description\": \"Amongst matching record comparisons, 9.76% of records are in the jaro_winkler_similarity >= 0.8333333333333334 comparison level\", \"u_probability_description\": \"Amongst non-matching record comparisons, 0.14% of records are in the jaro_winkler_similarity >= 0.8333333333333334 comparison level\", \"has_tf_adjustments\": false, \"tf_adjustment_column\": null, \"tf_adjustment_weight\": 1.0, \"is_null_level\": false, \"bayes_factor\": 71.3854762855171, \"log2_bayes_factor\": 6.157558675833075, \"comparison_vector_value\": 1, \"max_comparison_vector_value\": 2, \"bayes_factor_description\": \"If comparison level is `jaro_winkler_similarity >= 0.8333333333333334` then comparison is 71.39 times more likely to be a match\", \"probability_two_random_records_match\": 1.4115990816180642e-05, \"comparison_sort_order\": 1}, {\"comparison_name\": \"last_name_12\", \"sql_condition\": \"ELSE\", \"label_for_charts\": \"All other comparisons\", \"m_probability\": 0.03133091482981992, \"u_probability\": 0.9979482490122756, \"m_probability_description\": \"Amongst matching record comparisons, 3.13% of records are in the all other comparisons comparison level\", \"u_probability_description\": \"Amongst non-matching record comparisons, 99.79% of records are in the all other comparisons comparison level\", \"has_tf_adjustments\": false, \"tf_adjustment_column\": null, \"tf_adjustment_weight\": 1.0, \"is_null_level\": false, \"bayes_factor\": 0.031395330229628496, \"log2_bayes_factor\": -4.993306202491264, \"comparison_vector_value\": 0, \"max_comparison_vector_value\": 2, \"bayes_factor_description\": \"If comparison level is `all other comparisons` then comparison is  31.85 times less likely to be a match\", \"probability_two_random_records_match\": 1.4115990816180642e-05, \"comparison_sort_order\": 1}, {\"comparison_name\": \"middle_initial\", \"sql_condition\": \"\\\"middle_initial_l\\\" = \\\"middle_initial_r\\\"\", \"label_for_charts\": \"Exact match\", \"m_probability\": 0.9359545672053569, \"u_probability\": 0.07300510353598076, \"m_probability_description\": \"Amongst matching record comparisons, 93.60% of records are in the exact match comparison level\", \"u_probability_description\": \"Amongst non-matching record comparisons, 7.30% of records are in the exact match comparison level\", \"has_tf_adjustments\": false, \"tf_adjustment_column\": null, \"tf_adjustment_weight\": 1.0, \"is_null_level\": false, \"bayes_factor\": 12.82039914845226, \"log2_bayes_factor\": 3.6803692742019223, \"comparison_vector_value\": 1, \"max_comparison_vector_value\": 1, \"bayes_factor_description\": \"If comparison level is `exact match` then comparison is 12.82 times more likely to be a match\", \"probability_two_random_records_match\": 1.4115990816180642e-05, \"comparison_sort_order\": 2}, {\"comparison_name\": \"middle_initial\", \"sql_condition\": \"ELSE\", \"label_for_charts\": \"All other comparisons\", \"m_probability\": 0.06404543279464303, \"u_probability\": 0.9269948964640192, \"m_probability_description\": \"Amongst matching record comparisons, 6.40% of records are in the all other comparisons comparison level\", \"u_probability_description\": \"Amongst non-matching record comparisons, 92.70% of records are in the all other comparisons comparison level\", \"has_tf_adjustments\": false, \"tf_adjustment_column\": null, \"tf_adjustment_weight\": 1.0, \"is_null_level\": false, \"bayes_factor\": 0.06908930463257293, \"log2_bayes_factor\": -3.8553937982323645, \"comparison_vector_value\": 0, \"max_comparison_vector_value\": 1, \"bayes_factor_description\": \"If comparison level is `all other comparisons` then comparison is  14.47 times less likely to be a match\", \"probability_two_random_records_match\": 1.4115990816180642e-05, \"comparison_sort_order\": 2}, {\"comparison_name\": \"day_of_birth\", \"sql_condition\": \"\\\"day_of_birth_l\\\" = \\\"day_of_birth_r\\\"\", \"label_for_charts\": \"Exact match\", \"m_probability\": 0.9776768302648562, \"u_probability\": 0.03251748092886318, \"m_probability_description\": \"Amongst matching record comparisons, 97.77% of records are in the exact match comparison level\", \"u_probability_description\": \"Amongst non-matching record comparisons, 3.25% of records are in the exact match comparison level\", \"has_tf_adjustments\": false, \"tf_adjustment_column\": null, \"tf_adjustment_weight\": 1.0, \"is_null_level\": false, \"bayes_factor\": 30.06619216302977, \"log2_bayes_factor\": 4.910070259261751, \"comparison_vector_value\": 2, \"max_comparison_vector_value\": 2, \"bayes_factor_description\": \"If comparison level is `exact match` then comparison is 30.07 times more likely to be a match\", \"probability_two_random_records_match\": 1.4115990816180642e-05, \"comparison_sort_order\": 3}, {\"comparison_name\": \"day_of_birth\", \"sql_condition\": \"abs(day_of_birth_l - day_of_birth_r) <= 5\", \"label_for_charts\": \"Inexact match\", \"m_probability\": 0.01596886874127782, \"u_probability\": 0.29545734380750305, \"m_probability_description\": \"Amongst matching record comparisons, 1.60% of records are in the inexact match comparison level\", \"u_probability_description\": \"Amongst non-matching record comparisons, 29.55% of records are in the inexact match comparison level\", \"has_tf_adjustments\": false, \"tf_adjustment_column\": null, \"tf_adjustment_weight\": 1.0, \"is_null_level\": false, \"bayes_factor\": 0.05404796690950383, \"log2_bayes_factor\": -4.209615839802638, \"comparison_vector_value\": 1, \"max_comparison_vector_value\": 2, \"bayes_factor_description\": \"If comparison level is `inexact match` then comparison is  18.50 times less likely to be a match\", \"probability_two_random_records_match\": 1.4115990816180642e-05, \"comparison_sort_order\": 3}, {\"comparison_name\": \"day_of_birth\", \"sql_condition\": \"ELSE\", \"label_for_charts\": \"All other comparisons\", \"m_probability\": 0.006354300993866038, \"u_probability\": 0.6720251752636338, \"m_probability_description\": \"Amongst matching record comparisons, 0.64% of records are in the all other comparisons comparison level\", \"u_probability_description\": \"Amongst non-matching record comparisons, 67.20% of records are in the all other comparisons comparison level\", \"has_tf_adjustments\": false, \"tf_adjustment_column\": null, \"tf_adjustment_weight\": 1.0, \"is_null_level\": false, \"bayes_factor\": 0.00945545081904597, \"log2_bayes_factor\": -6.7246380397184735, \"comparison_vector_value\": 0, \"max_comparison_vector_value\": 2, \"bayes_factor_description\": \"If comparison level is `all other comparisons` then comparison is  105.76 times less likely to be a match\", \"probability_two_random_records_match\": 1.4115990816180642e-05, \"comparison_sort_order\": 3}, {\"comparison_name\": \"month_of_birth\", \"sql_condition\": \"\\\"month_of_birth_l\\\" = \\\"month_of_birth_r\\\"\", \"label_for_charts\": \"Exact match\", \"m_probability\": 0.9869484397685149, \"u_probability\": 0.08324454672258141, \"m_probability_description\": \"Amongst matching record comparisons, 98.69% of records are in the exact match comparison level\", \"u_probability_description\": \"Amongst non-matching record comparisons, 8.32% of records are in the exact match comparison level\", \"has_tf_adjustments\": false, \"tf_adjustment_column\": null, \"tf_adjustment_weight\": 1.0, \"is_null_level\": false, \"bayes_factor\": 11.85601313990685, \"log2_bayes_factor\": 3.5675470465698553, \"comparison_vector_value\": 2, \"max_comparison_vector_value\": 2, \"bayes_factor_description\": \"If comparison level is `exact match` then comparison is 11.86 times more likely to be a match\", \"probability_two_random_records_match\": 1.4115990816180642e-05, \"comparison_sort_order\": 4}, {\"comparison_name\": \"month_of_birth\", \"sql_condition\": \"abs(month_of_birth_l - month_of_birth_r) <= 3\", \"label_for_charts\": \"Inexact match\", \"m_probability\": 0.0036823343524812623, \"u_probability\": 0.41693832719210167, \"m_probability_description\": \"Amongst matching record comparisons, 0.37% of records are in the inexact match comparison level\", \"u_probability_description\": \"Amongst non-matching record comparisons, 41.69% of records are in the inexact match comparison level\", \"has_tf_adjustments\": false, \"tf_adjustment_column\": null, \"tf_adjustment_weight\": 1.0, \"is_null_level\": false, \"bayes_factor\": 0.00883184421369986, \"log2_bayes_factor\": -6.823069560248095, \"comparison_vector_value\": 1, \"max_comparison_vector_value\": 2, \"bayes_factor_description\": \"If comparison level is `inexact match` then comparison is  113.23 times less likely to be a match\", \"probability_two_random_records_match\": 1.4115990816180642e-05, \"comparison_sort_order\": 4}, {\"comparison_name\": \"month_of_birth\", \"sql_condition\": \"ELSE\", \"label_for_charts\": \"All other comparisons\", \"m_probability\": 0.009369225879003826, \"u_probability\": 0.4998171260853169, \"m_probability_description\": \"Amongst matching record comparisons, 0.94% of records are in the all other comparisons comparison level\", \"u_probability_description\": \"Amongst non-matching record comparisons, 49.98% of records are in the all other comparisons comparison level\", \"has_tf_adjustments\": false, \"tf_adjustment_column\": null, \"tf_adjustment_weight\": 1.0, \"is_null_level\": false, \"bayes_factor\": 0.018745307813651295, \"log2_bayes_factor\": -5.737326673693553, \"comparison_vector_value\": 0, \"max_comparison_vector_value\": 2, \"bayes_factor_description\": \"If comparison level is `all other comparisons` then comparison is  53.35 times less likely to be a match\", \"probability_two_random_records_match\": 1.4115990816180642e-05, \"comparison_sort_order\": 4}, {\"comparison_name\": \"year_of_birth\", \"sql_condition\": \"\\\"year_of_birth_l\\\" = \\\"year_of_birth_r\\\"\", \"label_for_charts\": \"Exact match\", \"m_probability\": 0.9604158782999785, \"u_probability\": 0.011085112473136845, \"m_probability_description\": \"Amongst matching record comparisons, 96.04% of records are in the exact match comparison level\", \"u_probability_description\": \"Amongst non-matching record comparisons, 1.11% of records are in the exact match comparison level\", \"has_tf_adjustments\": false, \"tf_adjustment_column\": null, \"tf_adjustment_weight\": 1.0, \"is_null_level\": false, \"bayes_factor\": 86.64015639240526, \"log2_bayes_factor\": 6.43696394201578, \"comparison_vector_value\": 2, \"max_comparison_vector_value\": 2, \"bayes_factor_description\": \"If comparison level is `exact match` then comparison is 86.64 times more likely to be a match\", \"probability_two_random_records_match\": 1.4115990816180642e-05, \"comparison_sort_order\": 5}, {\"comparison_name\": \"year_of_birth\", \"sql_condition\": \"abs(year_of_birth_l - year_of_birth_r) <= 5\", \"label_for_charts\": \"Inexact match\", \"m_probability\": 0.013138308343263506, \"u_probability\": 0.10968379850702191, \"m_probability_description\": \"Amongst matching record comparisons, 1.31% of records are in the inexact match comparison level\", \"u_probability_description\": \"Amongst non-matching record comparisons, 10.97% of records are in the inexact match comparison level\", \"has_tf_adjustments\": false, \"tf_adjustment_column\": null, \"tf_adjustment_weight\": 1.0, \"is_null_level\": false, \"bayes_factor\": 0.11978349147365093, \"log2_bayes_factor\": -3.0614990048761137, \"comparison_vector_value\": 1, \"max_comparison_vector_value\": 2, \"bayes_factor_description\": \"If comparison level is `inexact match` then comparison is  8.35 times less likely to be a match\", \"probability_two_random_records_match\": 1.4115990816180642e-05, \"comparison_sort_order\": 5}, {\"comparison_name\": \"year_of_birth\", \"sql_condition\": \"ELSE\", \"label_for_charts\": \"All other comparisons\", \"m_probability\": 0.026445813356757893, \"u_probability\": 0.8792310890198413, \"m_probability_description\": \"Amongst matching record comparisons, 2.64% of records are in the all other comparisons comparison level\", \"u_probability_description\": \"Amongst non-matching record comparisons, 87.92% of records are in the all other comparisons comparison level\", \"has_tf_adjustments\": false, \"tf_adjustment_column\": null, \"tf_adjustment_weight\": 1.0, \"is_null_level\": false, \"bayes_factor\": 0.030078341959267434, \"log2_bayes_factor\": -5.055131147794778, \"comparison_vector_value\": 0, \"max_comparison_vector_value\": 2, \"bayes_factor_description\": \"If comparison level is `all other comparisons` then comparison is  33.25 times less likely to be a match\", \"probability_two_random_records_match\": 1.4115990816180642e-05, \"comparison_sort_order\": 5}, {\"comparison_name\": \"geokey\", \"sql_condition\": \"\\\"geokey_l\\\" = \\\"geokey_r\\\"\", \"label_for_charts\": \"Exact match\", \"m_probability\": 0.6084207962592272, \"u_probability\": 0.0024275211541129145, \"m_probability_description\": \"Amongst matching record comparisons, 60.84% of records are in the exact match comparison level\", \"u_probability_description\": \"Amongst non-matching record comparisons, 0.24% of records are in the exact match comparison level\", \"has_tf_adjustments\": false, \"tf_adjustment_column\": null, \"tf_adjustment_weight\": 1.0, \"is_null_level\": false, \"bayes_factor\": 250.6346011561582, \"log2_bayes_factor\": 7.969441788275209, \"comparison_vector_value\": 2, \"max_comparison_vector_value\": 2, \"bayes_factor_description\": \"If comparison level is `exact match` then comparison is 250.63 times more likely to be a match\", \"probability_two_random_records_match\": 1.4115990816180642e-05, \"comparison_sort_order\": 6}, {\"comparison_name\": \"geokey\", \"sql_condition\": \"jaro_winkler_similarity(\\\"geokey_l\\\", \\\"geokey_r\\\") >= 0.7222222222222222\", \"label_for_charts\": \"Jaro_winkler_similarity >= 0.7222222222222222\", \"m_probability\": 0.3856941113786568, \"u_probability\": 0.2569010958524067, \"m_probability_description\": \"Amongst matching record comparisons, 38.57% of records are in the jaro_winkler_similarity >= 0.7222222222222222 comparison level\", \"u_probability_description\": \"Amongst non-matching record comparisons, 25.69% of records are in the jaro_winkler_similarity >= 0.7222222222222222 comparison level\", \"has_tf_adjustments\": false, \"tf_adjustment_column\": null, \"tf_adjustment_weight\": 1.0, \"is_null_level\": false, \"bayes_factor\": 1.5013330717757758, \"log2_bayes_factor\": 0.5862440753551853, \"comparison_vector_value\": 1, \"max_comparison_vector_value\": 2, \"bayes_factor_description\": \"If comparison level is `jaro_winkler_similarity >= 0.7222222222222222` then comparison is 1.50 times more likely to be a match\", \"probability_two_random_records_match\": 1.4115990816180642e-05, \"comparison_sort_order\": 6}, {\"comparison_name\": \"geokey\", \"sql_condition\": \"ELSE\", \"label_for_charts\": \"All other comparisons\", \"m_probability\": 0.005885092362116106, \"u_probability\": 0.7406713829934803, \"m_probability_description\": \"Amongst matching record comparisons, 0.59% of records are in the all other comparisons comparison level\", \"u_probability_description\": \"Amongst non-matching record comparisons, 74.07% of records are in the all other comparisons comparison level\", \"has_tf_adjustments\": false, \"tf_adjustment_column\": null, \"tf_adjustment_weight\": 1.0, \"is_null_level\": false, \"bayes_factor\": 0.007945618660641448, \"log2_bayes_factor\": -6.9756247297967695, \"comparison_vector_value\": 0, \"max_comparison_vector_value\": 2, \"bayes_factor_description\": \"If comparison level is `all other comparisons` then comparison is  125.86 times less likely to be a match\", \"probability_two_random_records_match\": 1.4115990816180642e-05, \"comparison_sort_order\": 6}]}}, {\"mode\": \"vega-lite\"});\n",
       "</script>"
      ],
      "text/plain": [
       "alt.VConcatChart(...)"
      ]
     },
     "execution_count": 61,
     "metadata": {},
     "output_type": "execute_result"
    }
   ],
   "source": [
    "linker.match_weights_chart()"
   ]
  },
  {
   "cell_type": "code",
   "execution_count": 62,
   "id": "0227e7b1-d573-496a-bd6f-0eb81e75e44e",
   "metadata": {
    "execution": {
     "iopub.execute_input": "2024-05-16T17:21:11.546235Z",
     "iopub.status.busy": "2024-05-16T17:21:11.545219Z",
     "iopub.status.idle": "2024-05-16T17:21:11.675369Z",
     "shell.execute_reply": "2024-05-16T17:21:11.674000Z"
    },
    "papermill": {
     "duration": 0.161895,
     "end_time": "2024-05-16T17:21:11.678857",
     "exception": false,
     "start_time": "2024-05-16T17:21:11.516962",
     "status": "completed"
    },
    "tags": []
   },
   "outputs": [
    {
     "data": {
      "text/html": [
       "\n",
       "<style>\n",
       "  #altair-viz-593e5b1ac8c341fd8d832a24477e9daa.vega-embed {\n",
       "    width: 100%;\n",
       "    display: flex;\n",
       "  }\n",
       "\n",
       "  #altair-viz-593e5b1ac8c341fd8d832a24477e9daa.vega-embed details,\n",
       "  #altair-viz-593e5b1ac8c341fd8d832a24477e9daa.vega-embed details summary {\n",
       "    position: relative;\n",
       "  }\n",
       "</style>\n",
       "<div id=\"altair-viz-593e5b1ac8c341fd8d832a24477e9daa\"></div>\n",
       "<script type=\"text/javascript\">\n",
       "  var VEGA_DEBUG = (typeof VEGA_DEBUG == \"undefined\") ? {} : VEGA_DEBUG;\n",
       "  (function(spec, embedOpt){\n",
       "    let outputDiv = document.currentScript.previousElementSibling;\n",
       "    if (outputDiv.id !== \"altair-viz-593e5b1ac8c341fd8d832a24477e9daa\") {\n",
       "      outputDiv = document.getElementById(\"altair-viz-593e5b1ac8c341fd8d832a24477e9daa\");\n",
       "    }\n",
       "    const paths = {\n",
       "      \"vega\": \"https://cdn.jsdelivr.net/npm/vega@5?noext\",\n",
       "      \"vega-lib\": \"https://cdn.jsdelivr.net/npm/vega-lib?noext\",\n",
       "      \"vega-lite\": \"https://cdn.jsdelivr.net/npm/vega-lite@5.17.0?noext\",\n",
       "      \"vega-embed\": \"https://cdn.jsdelivr.net/npm/vega-embed@6?noext\",\n",
       "    };\n",
       "\n",
       "    function maybeLoadScript(lib, version) {\n",
       "      var key = `${lib.replace(\"-\", \"\")}_version`;\n",
       "      return (VEGA_DEBUG[key] == version) ?\n",
       "        Promise.resolve(paths[lib]) :\n",
       "        new Promise(function(resolve, reject) {\n",
       "          var s = document.createElement('script');\n",
       "          document.getElementsByTagName(\"head\")[0].appendChild(s);\n",
       "          s.async = true;\n",
       "          s.onload = () => {\n",
       "            VEGA_DEBUG[key] = version;\n",
       "            return resolve(paths[lib]);\n",
       "          };\n",
       "          s.onerror = () => reject(`Error loading script: ${paths[lib]}`);\n",
       "          s.src = paths[lib];\n",
       "        });\n",
       "    }\n",
       "\n",
       "    function showError(err) {\n",
       "      outputDiv.innerHTML = `<div class=\"error\" style=\"color:red;\">${err}</div>`;\n",
       "      throw err;\n",
       "    }\n",
       "\n",
       "    function displayChart(vegaEmbed) {\n",
       "      vegaEmbed(outputDiv, spec, embedOpt)\n",
       "        .catch(err => showError(`Javascript Error: ${err.message}<br>This usually means there's a typo in your chart specification. See the javascript console for the full traceback.`));\n",
       "    }\n",
       "\n",
       "    if(typeof define === \"function\" && define.amd) {\n",
       "      requirejs.config({paths});\n",
       "      require([\"vega-embed\"], displayChart, err => showError(`Error loading script: ${err.message}`));\n",
       "    } else {\n",
       "      maybeLoadScript(\"vega\", \"5\")\n",
       "        .then(() => maybeLoadScript(\"vega-lite\", \"5.17.0\"))\n",
       "        .then(() => maybeLoadScript(\"vega-embed\", \"6\"))\n",
       "        .catch(showError)\n",
       "        .then(() => displayChart(vegaEmbed));\n",
       "    }\n",
       "  })({\"config\": {\"view\": {\"continuousWidth\": 300, \"continuousHeight\": 300, \"discreteHeight\": 300, \"discreteWidth\": 400}, \"header\": {\"title\": null}, \"title\": {\"anchor\": \"middle\", \"offset\": 10}}, \"hconcat\": [{\"mark\": \"bar\", \"encoding\": {\"color\": {\"value\": \"green\"}, \"row\": {\"field\": \"comparison_name\", \"header\": {\"labelAlign\": \"left\", \"labelAnchor\": \"middle\", \"labelAngle\": 0}, \"sort\": {\"field\": \"comparison_sort_order\"}, \"type\": \"nominal\"}, \"tooltip\": [{\"field\": \"m_probability_description\", \"title\": \"m probability description\", \"type\": \"nominal\"}, {\"field\": \"comparison_name\", \"title\": \"Comparison column name\", \"type\": \"nominal\"}, {\"field\": \"label_for_charts\", \"title\": \"Label\", \"type\": \"ordinal\"}, {\"field\": \"sql_condition\", \"title\": \"SQL condition\", \"type\": \"nominal\"}, {\"field\": \"m_probability\", \"format\": \".4p\", \"title\": \"m probability\", \"type\": \"quantitative\"}, {\"field\": \"u_probability\", \"format\": \".4p\", \"title\": \"u probability\", \"type\": \"quantitative\"}, {\"field\": \"bayes_factor\", \"format\": \",.4f\", \"title\": \"Bayes factor = m/u\", \"type\": \"quantitative\"}, {\"field\": \"log2_bayes_factor\", \"format\": \",.4f\", \"title\": \"Match weight = log2(m/u)\", \"type\": \"quantitative\"}], \"x\": {\"axis\": {\"title\": \"Proportion of record comparisons\"}, \"field\": \"m_probability\", \"type\": \"quantitative\"}, \"y\": {\"axis\": {\"title\": null}, \"field\": \"label_for_charts\", \"sort\": {\"field\": \"comparison_vector_value\", \"order\": \"descending\"}, \"type\": \"nominal\"}}, \"height\": {\"step\": 12}, \"resolve\": {\"scale\": {\"y\": \"independent\"}}, \"title\": {\"text\": \"Amongst matching record comparisons:\", \"fontSize\": 12, \"fontWeight\": \"bold\"}, \"transform\": [{\"filter\": \"(datum.bayes_factor != 'no-op filter due to vega lite issue 4680')\"}], \"width\": 150}, {\"mark\": \"bar\", \"encoding\": {\"color\": {\"value\": \"red\"}, \"row\": {\"field\": \"comparison_name\", \"header\": {\"labels\": false}, \"sort\": {\"field\": \"comparison_sort_order\"}, \"type\": \"nominal\"}, \"tooltip\": [{\"field\": \"u_probability_description\", \"title\": \"u probability description\", \"type\": \"nominal\"}, {\"field\": \"comparison_name\", \"title\": \"Comparison column name\", \"type\": \"nominal\"}, {\"field\": \"label_for_charts\", \"title\": \"Label\", \"type\": \"ordinal\"}, {\"field\": \"sql_condition\", \"title\": \"SQL condition\", \"type\": \"nominal\"}, {\"field\": \"m_probability\", \"format\": \".4p\", \"title\": \"m probability\", \"type\": \"quantitative\"}, {\"field\": \"u_probability\", \"format\": \".4p\", \"title\": \"u probability\", \"type\": \"quantitative\"}, {\"field\": \"bayes_factor\", \"format\": \",.4f\", \"title\": \"Bayes factor = m/u\", \"type\": \"quantitative\"}, {\"field\": \"log2_bayes_factor\", \"format\": \",.4f\", \"title\": \"Match weight = log2(m/u)\", \"type\": \"quantitative\"}], \"x\": {\"axis\": {\"title\": \"Proportion of record comparisons\"}, \"field\": \"u_probability\", \"type\": \"quantitative\"}, \"y\": {\"axis\": {\"title\": null}, \"field\": \"label_for_charts\", \"sort\": {\"field\": \"comparison_vector_value\", \"order\": \"descending\"}, \"type\": \"nominal\"}}, \"height\": {\"step\": 12}, \"resolve\": {\"scale\": {\"y\": \"independent\"}}, \"title\": {\"text\": \"Amongst non-matching record comparisons:\", \"fontSize\": 12, \"fontWeight\": \"bold\"}, \"transform\": [{\"filter\": \"(datum.bayes_factor != 'no-op filter2 due to vega lite issue 4680')\"}], \"width\": 150}], \"data\": {\"name\": \"data-73da2c5bdd73cac783afbfd523fe8ed5\"}, \"title\": {\"text\": \"Proportion of record comparisons in each comparison level by match status\", \"subtitle\": \"(m and u probabilities)\"}, \"$schema\": \"https://vega.github.io/schema/vega-lite/v5.9.3.json\", \"datasets\": {\"data-73da2c5bdd73cac783afbfd523fe8ed5\": [{\"comparison_name\": \"first_name_15\", \"sql_condition\": \"\\\"first_name_15_l\\\" = \\\"first_name_15_r\\\"\", \"label_for_charts\": \"Exact match\", \"m_probability\": 0.8584638485447691, \"u_probability\": 0.0020297990270034772, \"m_probability_description\": \"Amongst matching record comparisons, 85.85% of records are in the exact match comparison level\", \"u_probability_description\": \"Amongst non-matching record comparisons, 0.20% of records are in the exact match comparison level\", \"has_tf_adjustments\": false, \"tf_adjustment_column\": null, \"tf_adjustment_weight\": 1.0, \"is_null_level\": false, \"bayes_factor\": 422.9304660826889, \"log2_bayes_factor\": 8.724276679399587, \"comparison_vector_value\": 2, \"max_comparison_vector_value\": 2, \"bayes_factor_description\": \"If comparison level is `exact match` then comparison is 422.93 times more likely to be a match\", \"probability_two_random_records_match\": 1.4115990816180642e-05, \"comparison_sort_order\": 0}, {\"comparison_name\": \"first_name_15\", \"sql_condition\": \"jaro_winkler_similarity(\\\"first_name_15_l\\\", \\\"first_name_15_r\\\") >= 0.8333333333333334\", \"label_for_charts\": \"Jaro_winkler_similarity >= 0.8333333333333334\", \"m_probability\": 0.07375907121337148, \"u_probability\": 0.0034682162537213487, \"m_probability_description\": \"Amongst matching record comparisons, 7.38% of records are in the jaro_winkler_similarity >= 0.8333333333333334 comparison level\", \"u_probability_description\": \"Amongst non-matching record comparisons, 0.35% of records are in the jaro_winkler_similarity >= 0.8333333333333334 comparison level\", \"has_tf_adjustments\": false, \"tf_adjustment_column\": null, \"tf_adjustment_weight\": 1.0, \"is_null_level\": false, \"bayes_factor\": 21.267148821596408, \"log2_bayes_factor\": 4.410554726368305, \"comparison_vector_value\": 1, \"max_comparison_vector_value\": 2, \"bayes_factor_description\": \"If comparison level is `jaro_winkler_similarity >= 0.8333333333333334` then comparison is 21.27 times more likely to be a match\", \"probability_two_random_records_match\": 1.4115990816180642e-05, \"comparison_sort_order\": 0}, {\"comparison_name\": \"first_name_15\", \"sql_condition\": \"ELSE\", \"label_for_charts\": \"All other comparisons\", \"m_probability\": 0.0677770802418595, \"u_probability\": 0.9945019847192752, \"m_probability_description\": \"Amongst matching record comparisons, 6.78% of records are in the all other comparisons comparison level\", \"u_probability_description\": \"Amongst non-matching record comparisons, 99.45% of records are in the all other comparisons comparison level\", \"has_tf_adjustments\": false, \"tf_adjustment_column\": null, \"tf_adjustment_weight\": 1.0, \"is_null_level\": false, \"bayes_factor\": 0.06815177976843494, \"log2_bayes_factor\": -3.8751048565950432, \"comparison_vector_value\": 0, \"max_comparison_vector_value\": 2, \"bayes_factor_description\": \"If comparison level is `all other comparisons` then comparison is  14.67 times less likely to be a match\", \"probability_two_random_records_match\": 1.4115990816180642e-05, \"comparison_sort_order\": 0}, {\"comparison_name\": \"last_name_12\", \"sql_condition\": \"\\\"last_name_12_l\\\" = \\\"last_name_12_r\\\"\", \"label_for_charts\": \"Exact match\", \"m_probability\": 0.8710470485803897, \"u_probability\": 0.0006842173986881611, \"m_probability_description\": \"Amongst matching record comparisons, 87.10% of records are in the exact match comparison level\", \"u_probability_description\": \"Amongst non-matching record comparisons, 0.07% of records are in the exact match comparison level\", \"has_tf_adjustments\": false, \"tf_adjustment_column\": null, \"tf_adjustment_weight\": 1.0, \"is_null_level\": false, \"bayes_factor\": 1273.0559764344403, \"log2_bayes_factor\": 10.314080140781877, \"comparison_vector_value\": 2, \"max_comparison_vector_value\": 2, \"bayes_factor_description\": \"If comparison level is `exact match` then comparison is 1,273.06 times more likely to be a match\", \"probability_two_random_records_match\": 1.4115990816180642e-05, \"comparison_sort_order\": 1}, {\"comparison_name\": \"last_name_12\", \"sql_condition\": \"jaro_winkler_similarity(\\\"last_name_12_l\\\", \\\"last_name_12_r\\\") >= 0.8333333333333334\", \"label_for_charts\": \"Jaro_winkler_similarity >= 0.8333333333333334\", \"m_probability\": 0.09762203658979028, \"u_probability\": 0.0013675335890361796, \"m_probability_description\": \"Amongst matching record comparisons, 9.76% of records are in the jaro_winkler_similarity >= 0.8333333333333334 comparison level\", \"u_probability_description\": \"Amongst non-matching record comparisons, 0.14% of records are in the jaro_winkler_similarity >= 0.8333333333333334 comparison level\", \"has_tf_adjustments\": false, \"tf_adjustment_column\": null, \"tf_adjustment_weight\": 1.0, \"is_null_level\": false, \"bayes_factor\": 71.3854762855171, \"log2_bayes_factor\": 6.157558675833075, \"comparison_vector_value\": 1, \"max_comparison_vector_value\": 2, \"bayes_factor_description\": \"If comparison level is `jaro_winkler_similarity >= 0.8333333333333334` then comparison is 71.39 times more likely to be a match\", \"probability_two_random_records_match\": 1.4115990816180642e-05, \"comparison_sort_order\": 1}, {\"comparison_name\": \"last_name_12\", \"sql_condition\": \"ELSE\", \"label_for_charts\": \"All other comparisons\", \"m_probability\": 0.03133091482981992, \"u_probability\": 0.9979482490122756, \"m_probability_description\": \"Amongst matching record comparisons, 3.13% of records are in the all other comparisons comparison level\", \"u_probability_description\": \"Amongst non-matching record comparisons, 99.79% of records are in the all other comparisons comparison level\", \"has_tf_adjustments\": false, \"tf_adjustment_column\": null, \"tf_adjustment_weight\": 1.0, \"is_null_level\": false, \"bayes_factor\": 0.031395330229628496, \"log2_bayes_factor\": -4.993306202491264, \"comparison_vector_value\": 0, \"max_comparison_vector_value\": 2, \"bayes_factor_description\": \"If comparison level is `all other comparisons` then comparison is  31.85 times less likely to be a match\", \"probability_two_random_records_match\": 1.4115990816180642e-05, \"comparison_sort_order\": 1}, {\"comparison_name\": \"middle_initial\", \"sql_condition\": \"\\\"middle_initial_l\\\" = \\\"middle_initial_r\\\"\", \"label_for_charts\": \"Exact match\", \"m_probability\": 0.9359545672053569, \"u_probability\": 0.07300510353598076, \"m_probability_description\": \"Amongst matching record comparisons, 93.60% of records are in the exact match comparison level\", \"u_probability_description\": \"Amongst non-matching record comparisons, 7.30% of records are in the exact match comparison level\", \"has_tf_adjustments\": false, \"tf_adjustment_column\": null, \"tf_adjustment_weight\": 1.0, \"is_null_level\": false, \"bayes_factor\": 12.82039914845226, \"log2_bayes_factor\": 3.6803692742019223, \"comparison_vector_value\": 1, \"max_comparison_vector_value\": 1, \"bayes_factor_description\": \"If comparison level is `exact match` then comparison is 12.82 times more likely to be a match\", \"probability_two_random_records_match\": 1.4115990816180642e-05, \"comparison_sort_order\": 2}, {\"comparison_name\": \"middle_initial\", \"sql_condition\": \"ELSE\", \"label_for_charts\": \"All other comparisons\", \"m_probability\": 0.06404543279464303, \"u_probability\": 0.9269948964640192, \"m_probability_description\": \"Amongst matching record comparisons, 6.40% of records are in the all other comparisons comparison level\", \"u_probability_description\": \"Amongst non-matching record comparisons, 92.70% of records are in the all other comparisons comparison level\", \"has_tf_adjustments\": false, \"tf_adjustment_column\": null, \"tf_adjustment_weight\": 1.0, \"is_null_level\": false, \"bayes_factor\": 0.06908930463257293, \"log2_bayes_factor\": -3.8553937982323645, \"comparison_vector_value\": 0, \"max_comparison_vector_value\": 1, \"bayes_factor_description\": \"If comparison level is `all other comparisons` then comparison is  14.47 times less likely to be a match\", \"probability_two_random_records_match\": 1.4115990816180642e-05, \"comparison_sort_order\": 2}, {\"comparison_name\": \"day_of_birth\", \"sql_condition\": \"\\\"day_of_birth_l\\\" = \\\"day_of_birth_r\\\"\", \"label_for_charts\": \"Exact match\", \"m_probability\": 0.9776768302648562, \"u_probability\": 0.03251748092886318, \"m_probability_description\": \"Amongst matching record comparisons, 97.77% of records are in the exact match comparison level\", \"u_probability_description\": \"Amongst non-matching record comparisons, 3.25% of records are in the exact match comparison level\", \"has_tf_adjustments\": false, \"tf_adjustment_column\": null, \"tf_adjustment_weight\": 1.0, \"is_null_level\": false, \"bayes_factor\": 30.06619216302977, \"log2_bayes_factor\": 4.910070259261751, \"comparison_vector_value\": 2, \"max_comparison_vector_value\": 2, \"bayes_factor_description\": \"If comparison level is `exact match` then comparison is 30.07 times more likely to be a match\", \"probability_two_random_records_match\": 1.4115990816180642e-05, \"comparison_sort_order\": 3}, {\"comparison_name\": \"day_of_birth\", \"sql_condition\": \"abs(day_of_birth_l - day_of_birth_r) <= 5\", \"label_for_charts\": \"Inexact match\", \"m_probability\": 0.01596886874127782, \"u_probability\": 0.29545734380750305, \"m_probability_description\": \"Amongst matching record comparisons, 1.60% of records are in the inexact match comparison level\", \"u_probability_description\": \"Amongst non-matching record comparisons, 29.55% of records are in the inexact match comparison level\", \"has_tf_adjustments\": false, \"tf_adjustment_column\": null, \"tf_adjustment_weight\": 1.0, \"is_null_level\": false, \"bayes_factor\": 0.05404796690950383, \"log2_bayes_factor\": -4.209615839802638, \"comparison_vector_value\": 1, \"max_comparison_vector_value\": 2, \"bayes_factor_description\": \"If comparison level is `inexact match` then comparison is  18.50 times less likely to be a match\", \"probability_two_random_records_match\": 1.4115990816180642e-05, \"comparison_sort_order\": 3}, {\"comparison_name\": \"day_of_birth\", \"sql_condition\": \"ELSE\", \"label_for_charts\": \"All other comparisons\", \"m_probability\": 0.006354300993866038, \"u_probability\": 0.6720251752636338, \"m_probability_description\": \"Amongst matching record comparisons, 0.64% of records are in the all other comparisons comparison level\", \"u_probability_description\": \"Amongst non-matching record comparisons, 67.20% of records are in the all other comparisons comparison level\", \"has_tf_adjustments\": false, \"tf_adjustment_column\": null, \"tf_adjustment_weight\": 1.0, \"is_null_level\": false, \"bayes_factor\": 0.00945545081904597, \"log2_bayes_factor\": -6.7246380397184735, \"comparison_vector_value\": 0, \"max_comparison_vector_value\": 2, \"bayes_factor_description\": \"If comparison level is `all other comparisons` then comparison is  105.76 times less likely to be a match\", \"probability_two_random_records_match\": 1.4115990816180642e-05, \"comparison_sort_order\": 3}, {\"comparison_name\": \"month_of_birth\", \"sql_condition\": \"\\\"month_of_birth_l\\\" = \\\"month_of_birth_r\\\"\", \"label_for_charts\": \"Exact match\", \"m_probability\": 0.9869484397685149, \"u_probability\": 0.08324454672258141, \"m_probability_description\": \"Amongst matching record comparisons, 98.69% of records are in the exact match comparison level\", \"u_probability_description\": \"Amongst non-matching record comparisons, 8.32% of records are in the exact match comparison level\", \"has_tf_adjustments\": false, \"tf_adjustment_column\": null, \"tf_adjustment_weight\": 1.0, \"is_null_level\": false, \"bayes_factor\": 11.85601313990685, \"log2_bayes_factor\": 3.5675470465698553, \"comparison_vector_value\": 2, \"max_comparison_vector_value\": 2, \"bayes_factor_description\": \"If comparison level is `exact match` then comparison is 11.86 times more likely to be a match\", \"probability_two_random_records_match\": 1.4115990816180642e-05, \"comparison_sort_order\": 4}, {\"comparison_name\": \"month_of_birth\", \"sql_condition\": \"abs(month_of_birth_l - month_of_birth_r) <= 3\", \"label_for_charts\": \"Inexact match\", \"m_probability\": 0.0036823343524812623, \"u_probability\": 0.41693832719210167, \"m_probability_description\": \"Amongst matching record comparisons, 0.37% of records are in the inexact match comparison level\", \"u_probability_description\": \"Amongst non-matching record comparisons, 41.69% of records are in the inexact match comparison level\", \"has_tf_adjustments\": false, \"tf_adjustment_column\": null, \"tf_adjustment_weight\": 1.0, \"is_null_level\": false, \"bayes_factor\": 0.00883184421369986, \"log2_bayes_factor\": -6.823069560248095, \"comparison_vector_value\": 1, \"max_comparison_vector_value\": 2, \"bayes_factor_description\": \"If comparison level is `inexact match` then comparison is  113.23 times less likely to be a match\", \"probability_two_random_records_match\": 1.4115990816180642e-05, \"comparison_sort_order\": 4}, {\"comparison_name\": \"month_of_birth\", \"sql_condition\": \"ELSE\", \"label_for_charts\": \"All other comparisons\", \"m_probability\": 0.009369225879003826, \"u_probability\": 0.4998171260853169, \"m_probability_description\": \"Amongst matching record comparisons, 0.94% of records are in the all other comparisons comparison level\", \"u_probability_description\": \"Amongst non-matching record comparisons, 49.98% of records are in the all other comparisons comparison level\", \"has_tf_adjustments\": false, \"tf_adjustment_column\": null, \"tf_adjustment_weight\": 1.0, \"is_null_level\": false, \"bayes_factor\": 0.018745307813651295, \"log2_bayes_factor\": -5.737326673693553, \"comparison_vector_value\": 0, \"max_comparison_vector_value\": 2, \"bayes_factor_description\": \"If comparison level is `all other comparisons` then comparison is  53.35 times less likely to be a match\", \"probability_two_random_records_match\": 1.4115990816180642e-05, \"comparison_sort_order\": 4}, {\"comparison_name\": \"year_of_birth\", \"sql_condition\": \"\\\"year_of_birth_l\\\" = \\\"year_of_birth_r\\\"\", \"label_for_charts\": \"Exact match\", \"m_probability\": 0.9604158782999785, \"u_probability\": 0.011085112473136845, \"m_probability_description\": \"Amongst matching record comparisons, 96.04% of records are in the exact match comparison level\", \"u_probability_description\": \"Amongst non-matching record comparisons, 1.11% of records are in the exact match comparison level\", \"has_tf_adjustments\": false, \"tf_adjustment_column\": null, \"tf_adjustment_weight\": 1.0, \"is_null_level\": false, \"bayes_factor\": 86.64015639240526, \"log2_bayes_factor\": 6.43696394201578, \"comparison_vector_value\": 2, \"max_comparison_vector_value\": 2, \"bayes_factor_description\": \"If comparison level is `exact match` then comparison is 86.64 times more likely to be a match\", \"probability_two_random_records_match\": 1.4115990816180642e-05, \"comparison_sort_order\": 5}, {\"comparison_name\": \"year_of_birth\", \"sql_condition\": \"abs(year_of_birth_l - year_of_birth_r) <= 5\", \"label_for_charts\": \"Inexact match\", \"m_probability\": 0.013138308343263506, \"u_probability\": 0.10968379850702191, \"m_probability_description\": \"Amongst matching record comparisons, 1.31% of records are in the inexact match comparison level\", \"u_probability_description\": \"Amongst non-matching record comparisons, 10.97% of records are in the inexact match comparison level\", \"has_tf_adjustments\": false, \"tf_adjustment_column\": null, \"tf_adjustment_weight\": 1.0, \"is_null_level\": false, \"bayes_factor\": 0.11978349147365093, \"log2_bayes_factor\": -3.0614990048761137, \"comparison_vector_value\": 1, \"max_comparison_vector_value\": 2, \"bayes_factor_description\": \"If comparison level is `inexact match` then comparison is  8.35 times less likely to be a match\", \"probability_two_random_records_match\": 1.4115990816180642e-05, \"comparison_sort_order\": 5}, {\"comparison_name\": \"year_of_birth\", \"sql_condition\": \"ELSE\", \"label_for_charts\": \"All other comparisons\", \"m_probability\": 0.026445813356757893, \"u_probability\": 0.8792310890198413, \"m_probability_description\": \"Amongst matching record comparisons, 2.64% of records are in the all other comparisons comparison level\", \"u_probability_description\": \"Amongst non-matching record comparisons, 87.92% of records are in the all other comparisons comparison level\", \"has_tf_adjustments\": false, \"tf_adjustment_column\": null, \"tf_adjustment_weight\": 1.0, \"is_null_level\": false, \"bayes_factor\": 0.030078341959267434, \"log2_bayes_factor\": -5.055131147794778, \"comparison_vector_value\": 0, \"max_comparison_vector_value\": 2, \"bayes_factor_description\": \"If comparison level is `all other comparisons` then comparison is  33.25 times less likely to be a match\", \"probability_two_random_records_match\": 1.4115990816180642e-05, \"comparison_sort_order\": 5}, {\"comparison_name\": \"geokey\", \"sql_condition\": \"\\\"geokey_l\\\" = \\\"geokey_r\\\"\", \"label_for_charts\": \"Exact match\", \"m_probability\": 0.6084207962592272, \"u_probability\": 0.0024275211541129145, \"m_probability_description\": \"Amongst matching record comparisons, 60.84% of records are in the exact match comparison level\", \"u_probability_description\": \"Amongst non-matching record comparisons, 0.24% of records are in the exact match comparison level\", \"has_tf_adjustments\": false, \"tf_adjustment_column\": null, \"tf_adjustment_weight\": 1.0, \"is_null_level\": false, \"bayes_factor\": 250.6346011561582, \"log2_bayes_factor\": 7.969441788275209, \"comparison_vector_value\": 2, \"max_comparison_vector_value\": 2, \"bayes_factor_description\": \"If comparison level is `exact match` then comparison is 250.63 times more likely to be a match\", \"probability_two_random_records_match\": 1.4115990816180642e-05, \"comparison_sort_order\": 6}, {\"comparison_name\": \"geokey\", \"sql_condition\": \"jaro_winkler_similarity(\\\"geokey_l\\\", \\\"geokey_r\\\") >= 0.7222222222222222\", \"label_for_charts\": \"Jaro_winkler_similarity >= 0.7222222222222222\", \"m_probability\": 0.3856941113786568, \"u_probability\": 0.2569010958524067, \"m_probability_description\": \"Amongst matching record comparisons, 38.57% of records are in the jaro_winkler_similarity >= 0.7222222222222222 comparison level\", \"u_probability_description\": \"Amongst non-matching record comparisons, 25.69% of records are in the jaro_winkler_similarity >= 0.7222222222222222 comparison level\", \"has_tf_adjustments\": false, \"tf_adjustment_column\": null, \"tf_adjustment_weight\": 1.0, \"is_null_level\": false, \"bayes_factor\": 1.5013330717757758, \"log2_bayes_factor\": 0.5862440753551853, \"comparison_vector_value\": 1, \"max_comparison_vector_value\": 2, \"bayes_factor_description\": \"If comparison level is `jaro_winkler_similarity >= 0.7222222222222222` then comparison is 1.50 times more likely to be a match\", \"probability_two_random_records_match\": 1.4115990816180642e-05, \"comparison_sort_order\": 6}, {\"comparison_name\": \"geokey\", \"sql_condition\": \"ELSE\", \"label_for_charts\": \"All other comparisons\", \"m_probability\": 0.005885092362116106, \"u_probability\": 0.7406713829934803, \"m_probability_description\": \"Amongst matching record comparisons, 0.59% of records are in the all other comparisons comparison level\", \"u_probability_description\": \"Amongst non-matching record comparisons, 74.07% of records are in the all other comparisons comparison level\", \"has_tf_adjustments\": false, \"tf_adjustment_column\": null, \"tf_adjustment_weight\": 1.0, \"is_null_level\": false, \"bayes_factor\": 0.007945618660641448, \"log2_bayes_factor\": -6.9756247297967695, \"comparison_vector_value\": 0, \"max_comparison_vector_value\": 2, \"bayes_factor_description\": \"If comparison level is `all other comparisons` then comparison is  125.86 times less likely to be a match\", \"probability_two_random_records_match\": 1.4115990816180642e-05, \"comparison_sort_order\": 6}]}}, {\"mode\": \"vega-lite\"});\n",
       "</script>"
      ],
      "text/plain": [
       "alt.HConcatChart(...)"
      ]
     },
     "execution_count": 62,
     "metadata": {},
     "output_type": "execute_result"
    }
   ],
   "source": [
    "linker.m_u_parameters_chart()"
   ]
  },
  {
   "cell_type": "code",
   "execution_count": 63,
   "id": "57bc79f6-2c8b-4e65-88f9-b91d94d19f77",
   "metadata": {
    "execution": {
     "iopub.execute_input": "2024-05-16T17:21:11.740731Z",
     "iopub.status.busy": "2024-05-16T17:21:11.739993Z",
     "iopub.status.idle": "2024-05-16T17:21:11.841180Z",
     "shell.execute_reply": "2024-05-16T17:21:11.840349Z"
    },
    "papermill": {
     "duration": 0.133825,
     "end_time": "2024-05-16T17:21:11.845349",
     "exception": false,
     "start_time": "2024-05-16T17:21:11.711524",
     "status": "completed"
    },
    "tags": []
   },
   "outputs": [
    {
     "data": {
      "text/html": [
       "\n",
       "<style>\n",
       "  #altair-viz-fca36ec95d9c4dff861617c3ae9c4f96.vega-embed {\n",
       "    width: 100%;\n",
       "    display: flex;\n",
       "  }\n",
       "\n",
       "  #altair-viz-fca36ec95d9c4dff861617c3ae9c4f96.vega-embed details,\n",
       "  #altair-viz-fca36ec95d9c4dff861617c3ae9c4f96.vega-embed details summary {\n",
       "    position: relative;\n",
       "  }\n",
       "</style>\n",
       "<div id=\"altair-viz-fca36ec95d9c4dff861617c3ae9c4f96\"></div>\n",
       "<script type=\"text/javascript\">\n",
       "  var VEGA_DEBUG = (typeof VEGA_DEBUG == \"undefined\") ? {} : VEGA_DEBUG;\n",
       "  (function(spec, embedOpt){\n",
       "    let outputDiv = document.currentScript.previousElementSibling;\n",
       "    if (outputDiv.id !== \"altair-viz-fca36ec95d9c4dff861617c3ae9c4f96\") {\n",
       "      outputDiv = document.getElementById(\"altair-viz-fca36ec95d9c4dff861617c3ae9c4f96\");\n",
       "    }\n",
       "    const paths = {\n",
       "      \"vega\": \"https://cdn.jsdelivr.net/npm/vega@5?noext\",\n",
       "      \"vega-lib\": \"https://cdn.jsdelivr.net/npm/vega-lib?noext\",\n",
       "      \"vega-lite\": \"https://cdn.jsdelivr.net/npm/vega-lite@5.17.0?noext\",\n",
       "      \"vega-embed\": \"https://cdn.jsdelivr.net/npm/vega-embed@6?noext\",\n",
       "    };\n",
       "\n",
       "    function maybeLoadScript(lib, version) {\n",
       "      var key = `${lib.replace(\"-\", \"\")}_version`;\n",
       "      return (VEGA_DEBUG[key] == version) ?\n",
       "        Promise.resolve(paths[lib]) :\n",
       "        new Promise(function(resolve, reject) {\n",
       "          var s = document.createElement('script');\n",
       "          document.getElementsByTagName(\"head\")[0].appendChild(s);\n",
       "          s.async = true;\n",
       "          s.onload = () => {\n",
       "            VEGA_DEBUG[key] = version;\n",
       "            return resolve(paths[lib]);\n",
       "          };\n",
       "          s.onerror = () => reject(`Error loading script: ${paths[lib]}`);\n",
       "          s.src = paths[lib];\n",
       "        });\n",
       "    }\n",
       "\n",
       "    function showError(err) {\n",
       "      outputDiv.innerHTML = `<div class=\"error\" style=\"color:red;\">${err}</div>`;\n",
       "      throw err;\n",
       "    }\n",
       "\n",
       "    function displayChart(vegaEmbed) {\n",
       "      vegaEmbed(outputDiv, spec, embedOpt)\n",
       "        .catch(err => showError(`Javascript Error: ${err.message}<br>This usually means there's a typo in your chart specification. See the javascript console for the full traceback.`));\n",
       "    }\n",
       "\n",
       "    if(typeof define === \"function\" && define.amd) {\n",
       "      requirejs.config({paths});\n",
       "      require([\"vega-embed\"], displayChart, err => showError(`Error loading script: ${err.message}`));\n",
       "    } else {\n",
       "      maybeLoadScript(\"vega\", \"5\")\n",
       "        .then(() => maybeLoadScript(\"vega-lite\", \"5.17.0\"))\n",
       "        .then(() => maybeLoadScript(\"vega-embed\", \"6\"))\n",
       "        .catch(showError)\n",
       "        .then(() => displayChart(vegaEmbed));\n",
       "    }\n",
       "  })({\"config\": {\"view\": {\"continuousWidth\": 400, \"continuousHeight\": 300}, \"title\": {\"anchor\": \"middle\", \"fontSize\": 18, \"subtitleFontSize\": 14}}, \"data\": {\"name\": \"data-deaa7a7d3b29ccbdadadb194956b2930\"}, \"mark\": {\"type\": \"point\", \"filled\": false, \"opacity\": 0.7, \"size\": 100}, \"encoding\": {\"color\": {\"field\": \"estimate_description\", \"type\": \"nominal\"}, \"column\": {\"align\": \"each\", \"field\": \"col_header\", \"header\": {\"labelFontSize\": 14, \"labelFontWeight\": \"bold\"}, \"title\": null, \"type\": \"nominal\"}, \"row\": {\"align\": \"each\", \"field\": \"comparison_name\", \"header\": {\"labelAlign\": \"left\", \"labelAnchor\": \"middle\", \"labelAngle\": 0, \"labelFontSize\": 12, \"labelFontWeight\": \"bold\"}, \"sort\": {\"field\": \"comparison_sort_order\"}, \"title\": null, \"type\": \"nominal\"}, \"shape\": {\"field\": \"estimate_description\", \"scale\": {\"range\": [\"circle\", \"square\", \"triangle\", \"diamond\"]}, \"type\": \"nominal\"}, \"tooltip\": [{\"field\": \"comparison_name\", \"type\": \"nominal\"}, {\"field\": \"estimate_description\", \"type\": \"nominal\"}, {\"field\": \"estimated_probability\", \"type\": \"quantitative\"}], \"x\": {\"axis\": {\"gridColor\": {\"condition\": {\"test\": \"abs(datum.value / 10)  <= 1 & datum.value % 10 === 0\", \"value\": \"#aaa\"}, \"value\": \"#ddd\"}, \"gridDash\": {\"condition\": {\"test\": \"abs(datum.value / 10) == 1\", \"value\": [3]}, \"value\": null}, \"gridWidth\": {\"condition\": {\"test\": \"abs(datum.value / 10)  <= 1 & datum.value % 10 === 0\", \"value\": 2}, \"value\": 1}}, \"field\": \"estimated_probability_as_log_odds\", \"title\": \"Estimated probability as log odds\", \"type\": \"quantitative\"}, \"y\": {\"axis\": {\"grid\": true, \"title\": null}, \"field\": \"comparison_level_label\", \"sort\": {\"field\": \"comparison_vector_value\", \"order\": \"descending\"}, \"type\": \"nominal\"}}, \"params\": [{\"name\": \"mouse_zoom\", \"select\": {\"type\": \"interval\", \"encodings\": [\"x\"]}, \"bind\": \"scales\"}], \"resolve\": {\"scale\": {\"y\": \"independent\"}}, \"title\": {\"text\": \"Comparison of parameter estimates across training sessions\", \"subtitle\": \"Use mousewheel to zoom\"}, \"transform\": [{\"calculate\": \"datum.m_or_u + '-probability (as log odds)'\", \"as\": \"col_header\"}], \"$schema\": \"https://vega.github.io/schema/vega-lite/v5.9.3.json\", \"datasets\": {\"data-deaa7a7d3b29ccbdadadb194956b2930\": [{\"m_or_u\": \"m\", \"estimated_probability\": 0.8584638485447691, \"estimate_description\": \"EM, blocked on: l.geokey = r.geokey\", \"estimated_probability_as_log_odds\": 2.6005867847619912, \"sql_condition\": \"\\\"first_name_15_l\\\" = \\\"first_name_15_r\\\"\", \"comparison_level_label\": \"Exact match\", \"comparison_vector_value\": 2, \"comparison_name\": \"first_name_15\", \"comparison_sort_order\": 0}, {\"m_or_u\": \"m\", \"estimated_probability\": 0.07375907121337148, \"estimate_description\": \"EM, blocked on: l.geokey = r.geokey\", \"estimated_probability_as_log_odds\": -3.65049511400463, \"sql_condition\": \"jaro_winkler_similarity(\\\"first_name_15_l\\\", \\\"first_name_15_r\\\") >= 0.8333333333333334\", \"comparison_level_label\": \"Jaro_winkler_similarity >= 0.8333333333333334\", \"comparison_vector_value\": 1, \"comparison_name\": \"first_name_15\", \"comparison_sort_order\": 0}, {\"m_or_u\": \"m\", \"estimated_probability\": 0.0677770802418595, \"estimate_description\": \"EM, blocked on: l.geokey = r.geokey\", \"estimated_probability_as_log_odds\": -3.7818055899660505, \"sql_condition\": \"ELSE\", \"comparison_level_label\": \"All other comparisons\", \"comparison_vector_value\": 0, \"comparison_name\": \"first_name_15\", \"comparison_sort_order\": 0}, {\"m_or_u\": \"m\", \"estimated_probability\": 0.8790310132490157, \"estimate_description\": \"EM, blocked on: l.first_name_15 = r.first_name_15 and l.zipcode = r.zipcode\", \"estimated_probability_as_log_odds\": 2.8612768401965214, \"sql_condition\": \"\\\"last_name_12_l\\\" = \\\"last_name_12_r\\\"\", \"comparison_level_label\": \"Exact match\", \"comparison_vector_value\": 2, \"comparison_name\": \"last_name_12\", \"comparison_sort_order\": 1}, {\"m_or_u\": \"m\", \"estimated_probability\": 0.8630630839117638, \"estimate_description\": \"EM, blocked on: l.geokey = r.geokey\", \"estimated_probability_as_log_odds\": 2.6559545867941394, \"sql_condition\": \"\\\"last_name_12_l\\\" = \\\"last_name_12_r\\\"\", \"comparison_level_label\": \"Exact match\", \"comparison_vector_value\": 2, \"comparison_name\": \"last_name_12\", \"comparison_sort_order\": 1}, {\"m_or_u\": \"m\", \"estimated_probability\": 0.09413474811499295, \"estimate_description\": \"EM, blocked on: l.first_name_15 = r.first_name_15 and l.zipcode = r.zipcode\", \"estimated_probability_as_log_odds\": -3.2664971935119693, \"sql_condition\": \"jaro_winkler_similarity(\\\"last_name_12_l\\\", \\\"last_name_12_r\\\") >= 0.8333333333333334\", \"comparison_level_label\": \"Jaro_winkler_similarity >= 0.8333333333333334\", \"comparison_vector_value\": 1, \"comparison_name\": \"last_name_12\", \"comparison_sort_order\": 1}, {\"m_or_u\": \"m\", \"estimated_probability\": 0.10110932506458761, \"estimate_description\": \"EM, blocked on: l.geokey = r.geokey\", \"estimated_probability_as_log_odds\": -3.1522296030637422, \"sql_condition\": \"jaro_winkler_similarity(\\\"last_name_12_l\\\", \\\"last_name_12_r\\\") >= 0.8333333333333334\", \"comparison_level_label\": \"Jaro_winkler_similarity >= 0.8333333333333334\", \"comparison_vector_value\": 1, \"comparison_name\": \"last_name_12\", \"comparison_sort_order\": 1}, {\"m_or_u\": \"m\", \"estimated_probability\": 0.026834238635991325, \"estimate_description\": \"EM, blocked on: l.first_name_15 = r.first_name_15 and l.zipcode = r.zipcode\", \"estimated_probability_as_log_odds\": -5.1805387027830365, \"sql_condition\": \"ELSE\", \"comparison_level_label\": \"All other comparisons\", \"comparison_vector_value\": 0, \"comparison_name\": \"last_name_12\", \"comparison_sort_order\": 1}, {\"m_or_u\": \"m\", \"estimated_probability\": 0.035827591023648526, \"estimate_description\": \"EM, blocked on: l.geokey = r.geokey\", \"estimated_probability_as_log_odds\": -4.7501481978040605, \"sql_condition\": \"ELSE\", \"comparison_level_label\": \"All other comparisons\", \"comparison_vector_value\": 0, \"comparison_name\": \"last_name_12\", \"comparison_sort_order\": 1}, {\"m_or_u\": \"m\", \"estimated_probability\": 0.9446040958650342, \"estimate_description\": \"EM, blocked on: l.first_name_15 = r.first_name_15 and l.zipcode = r.zipcode\", \"estimated_probability_as_log_odds\": 4.09185857584712, \"sql_condition\": \"\\\"middle_initial_l\\\" = \\\"middle_initial_r\\\"\", \"comparison_level_label\": \"Exact match\", \"comparison_vector_value\": 1, \"comparison_name\": \"middle_initial\", \"comparison_sort_order\": 2}, {\"m_or_u\": \"m\", \"estimated_probability\": 0.9273050385456796, \"estimate_description\": \"EM, blocked on: l.geokey = r.geokey\", \"estimated_probability_as_log_odds\": 3.6731167154942987, \"sql_condition\": \"\\\"middle_initial_l\\\" = \\\"middle_initial_r\\\"\", \"comparison_level_label\": \"Exact match\", \"comparison_vector_value\": 1, \"comparison_name\": \"middle_initial\", \"comparison_sort_order\": 2}, {\"m_or_u\": \"m\", \"estimated_probability\": 0.0553959041349657, \"estimate_description\": \"EM, blocked on: l.first_name_15 = r.first_name_15 and l.zipcode = r.zipcode\", \"estimated_probability_as_log_odds\": -4.091858575847121, \"sql_condition\": \"ELSE\", \"comparison_level_label\": \"All other comparisons\", \"comparison_vector_value\": 0, \"comparison_name\": \"middle_initial\", \"comparison_sort_order\": 2}, {\"m_or_u\": \"m\", \"estimated_probability\": 0.07269496145432036, \"estimate_description\": \"EM, blocked on: l.geokey = r.geokey\", \"estimated_probability_as_log_odds\": -3.6731167154942996, \"sql_condition\": \"ELSE\", \"comparison_level_label\": \"All other comparisons\", \"comparison_vector_value\": 0, \"comparison_name\": \"middle_initial\", \"comparison_sort_order\": 2}, {\"m_or_u\": \"m\", \"estimated_probability\": 0.9782850863565768, \"estimate_description\": \"EM, blocked on: l.first_name_15 = r.first_name_15 and l.zipcode = r.zipcode\", \"estimated_probability_as_log_odds\": 5.493496827991291, \"sql_condition\": \"\\\"day_of_birth_l\\\" = \\\"day_of_birth_r\\\"\", \"comparison_level_label\": \"Exact match\", \"comparison_vector_value\": 2, \"comparison_name\": \"day_of_birth\", \"comparison_sort_order\": 3}, {\"m_or_u\": \"m\", \"estimated_probability\": 0.9770685741731355, \"estimate_description\": \"EM, blocked on: l.geokey = r.geokey\", \"estimated_probability_as_log_odds\": 5.413061852750825, \"sql_condition\": \"\\\"day_of_birth_l\\\" = \\\"day_of_birth_r\\\"\", \"comparison_level_label\": \"Exact match\", \"comparison_vector_value\": 2, \"comparison_name\": \"day_of_birth\", \"comparison_sort_order\": 3}, {\"m_or_u\": \"m\", \"estimated_probability\": 0.01719854940983155, \"estimate_description\": \"EM, blocked on: l.first_name_15 = r.first_name_15 and l.zipcode = r.zipcode\", \"estimated_probability_as_log_odds\": -5.836541194223124, \"sql_condition\": \"abs(day_of_birth_l - day_of_birth_r) <= 5\", \"comparison_level_label\": \"Inexact match\", \"comparison_vector_value\": 1, \"comparison_name\": \"day_of_birth\", \"comparison_sort_order\": 3}, {\"m_or_u\": \"m\", \"estimated_probability\": 0.014739188072724094, \"estimate_description\": \"EM, blocked on: l.geokey = r.geokey\", \"estimated_probability_as_log_odds\": -6.062776717101134, \"sql_condition\": \"abs(day_of_birth_l - day_of_birth_r) <= 5\", \"comparison_level_label\": \"Inexact match\", \"comparison_vector_value\": 1, \"comparison_name\": \"day_of_birth\", \"comparison_sort_order\": 3}, {\"m_or_u\": \"m\", \"estimated_probability\": 0.004516364233591675, \"estimate_description\": \"EM, blocked on: l.first_name_15 = r.first_name_15 and l.zipcode = r.zipcode\", \"estimated_probability_as_log_odds\": -7.784091949622638, \"sql_condition\": \"ELSE\", \"comparison_level_label\": \"All other comparisons\", \"comparison_vector_value\": 0, \"comparison_name\": \"day_of_birth\", \"comparison_sort_order\": 3}, {\"m_or_u\": \"m\", \"estimated_probability\": 0.008192237754140401, \"estimate_description\": \"EM, blocked on: l.geokey = r.geokey\", \"estimated_probability_as_log_odds\": -6.919659120555151, \"sql_condition\": \"ELSE\", \"comparison_level_label\": \"All other comparisons\", \"comparison_vector_value\": 0, \"comparison_name\": \"day_of_birth\", \"comparison_sort_order\": 3}, {\"m_or_u\": \"m\", \"estimated_probability\": 0.9866613211352474, \"estimate_description\": \"EM, blocked on: l.first_name_15 = r.first_name_15 and l.zipcode = r.zipcode\", \"estimated_probability_as_log_odds\": 6.208867267458233, \"sql_condition\": \"\\\"month_of_birth_l\\\" = \\\"month_of_birth_r\\\"\", \"comparison_level_label\": \"Exact match\", \"comparison_vector_value\": 2, \"comparison_name\": \"month_of_birth\", \"comparison_sort_order\": 4}, {\"m_or_u\": \"m\", \"estimated_probability\": 0.9872355584017825, \"estimate_description\": \"EM, blocked on: l.geokey = r.geokey\", \"estimated_probability_as_log_odds\": 6.273192027496591, \"sql_condition\": \"\\\"month_of_birth_l\\\" = \\\"month_of_birth_r\\\"\", \"comparison_level_label\": \"Exact match\", \"comparison_vector_value\": 2, \"comparison_name\": \"month_of_birth\", \"comparison_sort_order\": 4}, {\"m_or_u\": \"m\", \"estimated_probability\": 0.0073550956205266724, \"estimate_description\": \"EM, blocked on: l.first_name_15 = r.first_name_15 and l.zipcode = r.zipcode\", \"estimated_probability_as_log_odds\": -7.076389811751897, \"sql_condition\": \"abs(month_of_birth_l - month_of_birth_r) <= 3\", \"comparison_level_label\": \"Inexact match\", \"comparison_vector_value\": 1, \"comparison_name\": \"month_of_birth\", \"comparison_sort_order\": 4}, {\"m_or_u\": \"m\", \"estimated_probability\": 9.57308443585244e-06, \"estimate_description\": \"EM, blocked on: l.geokey = r.geokey\", \"estimated_probability_as_log_odds\": -16.67257092406383, \"sql_condition\": \"abs(month_of_birth_l - month_of_birth_r) <= 3\", \"comparison_level_label\": \"Inexact match\", \"comparison_vector_value\": 1, \"comparison_name\": \"month_of_birth\", \"comparison_sort_order\": 4}, {\"m_or_u\": \"m\", \"estimated_probability\": 0.005983583244225981, \"estimate_description\": \"EM, blocked on: l.first_name_15 = r.first_name_15 and l.zipcode = r.zipcode\", \"estimated_probability_as_log_odds\": -7.376116173493931, \"sql_condition\": \"ELSE\", \"comparison_level_label\": \"All other comparisons\", \"comparison_vector_value\": 0, \"comparison_name\": \"month_of_birth\", \"comparison_sort_order\": 4}, {\"m_or_u\": \"m\", \"estimated_probability\": 0.01275486851378167, \"estimate_description\": \"EM, blocked on: l.geokey = r.geokey\", \"estimated_probability_as_log_odds\": -6.2742884163702355, \"sql_condition\": \"ELSE\", \"comparison_level_label\": \"All other comparisons\", \"comparison_vector_value\": 0, \"comparison_name\": \"month_of_birth\", \"comparison_sort_order\": 4}, {\"m_or_u\": \"m\", \"estimated_probability\": 0.9695291663467879, \"estimate_description\": \"EM, blocked on: l.first_name_15 = r.first_name_15 and l.zipcode = r.zipcode\", \"estimated_probability_as_log_odds\": 4.991783423131231, \"sql_condition\": \"\\\"year_of_birth_l\\\" = \\\"year_of_birth_r\\\"\", \"comparison_level_label\": \"Exact match\", \"comparison_vector_value\": 2, \"comparison_name\": \"year_of_birth\", \"comparison_sort_order\": 5}, {\"m_or_u\": \"m\", \"estimated_probability\": 0.9513025902531693, \"estimate_description\": \"EM, blocked on: l.geokey = r.geokey\", \"estimated_probability_as_log_odds\": 4.287987365021105, \"sql_condition\": \"\\\"year_of_birth_l\\\" = \\\"year_of_birth_r\\\"\", \"comparison_level_label\": \"Exact match\", \"comparison_vector_value\": 2, \"comparison_name\": \"year_of_birth\", \"comparison_sort_order\": 5}, {\"m_or_u\": \"m\", \"estimated_probability\": 0.0099541842917677, \"estimate_description\": \"EM, blocked on: l.first_name_15 = r.first_name_15 and l.zipcode = r.zipcode\", \"estimated_probability_as_log_odds\": -6.63604838185656, \"sql_condition\": \"abs(year_of_birth_l - year_of_birth_r) <= 5\", \"comparison_level_label\": \"Inexact match\", \"comparison_vector_value\": 1, \"comparison_name\": \"year_of_birth\", \"comparison_sort_order\": 5}, {\"m_or_u\": \"m\", \"estimated_probability\": 0.016322432394759313, \"estimate_description\": \"EM, blocked on: l.geokey = r.geokey\", \"estimated_probability_as_log_odds\": -5.913257531566981, \"sql_condition\": \"abs(year_of_birth_l - year_of_birth_r) <= 5\", \"comparison_level_label\": \"Inexact match\", \"comparison_vector_value\": 1, \"comparison_name\": \"year_of_birth\", \"comparison_sort_order\": 5}, {\"m_or_u\": \"m\", \"estimated_probability\": 0.02051664936144439, \"estimate_description\": \"EM, blocked on: l.first_name_15 = r.first_name_15 and l.zipcode = r.zipcode\", \"estimated_probability_as_log_odds\": -5.57715392538996, \"sql_condition\": \"ELSE\", \"comparison_level_label\": \"All other comparisons\", \"comparison_vector_value\": 0, \"comparison_name\": \"year_of_birth\", \"comparison_sort_order\": 5}, {\"m_or_u\": \"m\", \"estimated_probability\": 0.03237497735207139, \"estimate_description\": \"EM, blocked on: l.geokey = r.geokey\", \"estimated_probability_as_log_odds\": -4.9014969890182, \"sql_condition\": \"ELSE\", \"comparison_level_label\": \"All other comparisons\", \"comparison_vector_value\": 0, \"comparison_name\": \"year_of_birth\", \"comparison_sort_order\": 5}, {\"m_or_u\": \"m\", \"estimated_probability\": 0.6084207962592272, \"estimate_description\": \"EM, blocked on: l.first_name_15 = r.first_name_15 and l.zipcode = r.zipcode\", \"estimated_probability_as_log_odds\": 0.6357653189266109, \"sql_condition\": \"\\\"geokey_l\\\" = \\\"geokey_r\\\"\", \"comparison_level_label\": \"Exact match\", \"comparison_vector_value\": 2, \"comparison_name\": \"geokey\", \"comparison_sort_order\": 6}, {\"m_or_u\": \"m\", \"estimated_probability\": 0.3856941113786568, \"estimate_description\": \"EM, blocked on: l.first_name_15 = r.first_name_15 and l.zipcode = r.zipcode\", \"estimated_probability_as_log_odds\": -0.671500093121164, \"sql_condition\": \"jaro_winkler_similarity(\\\"geokey_l\\\", \\\"geokey_r\\\") >= 0.7222222222222222\", \"comparison_level_label\": \"Jaro_winkler_similarity >= 0.7222222222222222\", \"comparison_vector_value\": 1, \"comparison_name\": \"geokey\", \"comparison_sort_order\": 6}, {\"m_or_u\": \"m\", \"estimated_probability\": 0.005885092362116106, \"estimate_description\": \"EM, blocked on: l.first_name_15 = r.first_name_15 and l.zipcode = r.zipcode\", \"estimated_probability_as_log_odds\": -7.400203751807249, \"sql_condition\": \"ELSE\", \"comparison_level_label\": \"All other comparisons\", \"comparison_vector_value\": 0, \"comparison_name\": \"geokey\", \"comparison_sort_order\": 6}]}}, {\"mode\": \"vega-lite\"});\n",
       "</script>"
      ],
      "text/plain": [
       "alt.Chart(...)"
      ]
     },
     "execution_count": 63,
     "metadata": {},
     "output_type": "execute_result"
    }
   ],
   "source": [
    "linker.parameter_estimate_comparisons_chart()"
   ]
  },
  {
   "cell_type": "code",
   "execution_count": 64,
   "id": "10a026ed-761b-45ee-b44b-9259423e518e",
   "metadata": {
    "execution": {
     "iopub.execute_input": "2024-05-16T17:21:11.908464Z",
     "iopub.status.busy": "2024-05-16T17:21:11.907452Z",
     "iopub.status.idle": "2024-05-16T17:21:11.914254Z",
     "shell.execute_reply": "2024-05-16T17:21:11.913165Z"
    },
    "papermill": {
     "duration": 0.037675,
     "end_time": "2024-05-16T17:21:11.915670",
     "exception": false,
     "start_time": "2024-05-16T17:21:11.877995",
     "status": "completed"
    },
    "tags": []
   },
   "outputs": [],
   "source": [
    "splink_settings = linker._settings_obj.as_dict()"
   ]
  },
  {
   "cell_type": "code",
   "execution_count": 65,
   "id": "92188bbf-e12e-42f2-8a32-b007ea05e0cf",
   "metadata": {
    "execution": {
     "iopub.execute_input": "2024-05-16T17:21:11.974534Z",
     "iopub.status.busy": "2024-05-16T17:21:11.973673Z",
     "iopub.status.idle": "2024-05-16T17:21:11.985950Z",
     "shell.execute_reply": "2024-05-16T17:21:11.984606Z"
    },
    "papermill": {
     "duration": 0.043579,
     "end_time": "2024-05-16T17:21:11.988147",
     "exception": false,
     "start_time": "2024-05-16T17:21:11.944568",
     "status": "completed"
    },
    "tags": []
   },
   "outputs": [],
   "source": [
    "import pickle\n",
    "\n",
    "with open(f'{intermediate_data_dir}/splink_settings.pkl', 'wb') as f:\n",
    "    pickle.dump(splink_settings, f, protocol=-1)"
   ]
  },
  {
   "cell_type": "code",
   "execution_count": 66,
   "id": "0626e377-c1b5-444e-b380-a99ae5156b4e",
   "metadata": {
    "execution": {
     "iopub.execute_input": "2024-05-16T17:21:12.050285Z",
     "iopub.status.busy": "2024-05-16T17:21:12.049152Z",
     "iopub.status.idle": "2024-05-16T17:21:12.057102Z",
     "shell.execute_reply": "2024-05-16T17:21:12.055878Z"
    },
    "papermill": {
     "duration": 0.038937,
     "end_time": "2024-05-16T17:21:12.058633",
     "exception": false,
     "start_time": "2024-05-16T17:21:12.019696",
     "status": "completed"
    },
    "tags": []
   },
   "outputs": [],
   "source": [
    "with open(f'{intermediate_data_dir}/splink_settings.pkl', 'rb') as f:\n",
    "    splink_settings = pickle.load(f)"
   ]
  },
  {
   "cell_type": "markdown",
   "id": "f1b9963e-73da-4b51-837d-d79deca7fecf",
   "metadata": {
    "papermill": {
     "duration": 0.027566,
     "end_time": "2024-05-16T17:21:12.116426",
     "exception": false,
     "start_time": "2024-05-16T17:21:12.088860",
     "status": "completed"
    },
    "tags": []
   },
   "source": [
    "## Implement matching passes"
   ]
  },
  {
   "cell_type": "code",
   "execution_count": 67,
   "id": "f437d4c7-b848-4c19-b29d-5f48d10ce911",
   "metadata": {
    "editable": true,
    "execution": {
     "iopub.execute_input": "2024-05-16T17:21:12.174797Z",
     "iopub.status.busy": "2024-05-16T17:21:12.174199Z",
     "iopub.status.idle": "2024-05-16T17:21:12.258037Z",
     "shell.execute_reply": "2024-05-16T17:21:12.256686Z"
    },
    "papermill": {
     "duration": 0.118053,
     "end_time": "2024-05-16T17:21:12.261820",
     "exception": false,
     "start_time": "2024-05-16T17:21:12.143767",
     "status": "completed"
    },
    "slideshow": {
     "slide_type": ""
    },
    "tags": []
   },
   "outputs": [],
   "source": [
    "from dataclasses import dataclass\n",
    "\n",
    "# Calculate this once to save time -- mapping from record_id to record_id_raw_input_file\n",
    "# There can be multiple records (with different record_id) for the same input file record\n",
    "# (record_id_raw_input_file) because of the handling of nicknames by creating extra records.\n",
    "record_id_raw_input_file_by_record_id = census_2030[['record_id', 'record_id_raw_input_file']]\n",
    "\n",
    "all_piks = df_ops.persist(df_ops.concat([\n",
    "    name_dob_reference_file[[\"record_id\", \"pik\"]],\n",
    "    geobase_reference_file[[\"record_id\", \"pik\"]]\n",
    "], ignore_index=True))\n",
    "\n",
    "dates_of_death = df_ops.persist(\n",
    "    df_ops.read_parquet(f'{input_dir}/{data_to_use}/simulated_census_numident.parquet')\n",
    "        [['pik', 'date_of_death']]\n",
    "        .assign(date_of_death=lambda s: pd.to_datetime(s.date_of_death, format='%Y%m%d', errors='coerce'))\n",
    ")\n",
    "\n",
    "class PersonLinkageCascade:\n",
    "    def __init__(self):\n",
    "        # This dataframe will accumulate the PIKs to attach to the input file\n",
    "        self.confirmed_piks = df_ops.empty_dataframe(columns=[\"record_id_raw_input_file\", \"pik\"], dtype=str)\n",
    "        self.current_module = None\n",
    "\n",
    "    def start_module(self, *args, **kwargs):\n",
    "        assert self.current_module is None or self.current_module.confirmed\n",
    "        self.current_module = PersonLinkageModule(*args, already_confirmed_piks=self.confirmed_piks, **kwargs)\n",
    "\n",
    "    def run_matching_pass(self, *args, **kwargs):\n",
    "        self.current_module.run_matching_pass(*args, **kwargs)\n",
    "\n",
    "    def confirm_piks(self, *args, **kwargs):\n",
    "        # Make sure we are not about to confirm PIKs for any of the same files we have\n",
    "        # already PIKed\n",
    "        assert len(\n",
    "            self.current_module.provisional_links.merge(self.confirmed_piks, on='record_id_raw_input_file', how='inner')\n",
    "        ) == 0\n",
    "\n",
    "        newly_confirmed_piks = self.current_module.confirm_piks_from_provisional_links()\n",
    "        if compute_engine == 'dask':\n",
    "            # An implementation of \"checkpointing\" in Dask, so we can safely delete the source files\n",
    "            # without risking permanent loss of data we will need\n",
    "            dir_path = f'{output_dir}/intermediate_data/newly_confirmed_piks/newly_confirmed_piks_{self.current_module.name}'\n",
    "            utils.ensure_empty(dir_path)\n",
    "            file_path = f'{dir_path}/newly_confirmed_piks_{self.current_module.name}_{int(time.time())}.parquet'\n",
    "            df_ops.to_parquet(newly_confirmed_piks, file_path, wait=True)\n",
    "            newly_confirmed_piks = df_ops.read_parquet(file_path)\n",
    "\n",
    "        # We are now done with the intermediate data inside this module\n",
    "        dir_path = f'{output_dir}/intermediate_data/{self.current_module.name}/'\n",
    "        utils.remove_path(dir_path)\n",
    "\n",
    "        self.confirmed_piks = df_ops.persist(df_ops.concat([\n",
    "            self.confirmed_piks,\n",
    "            newly_confirmed_piks,\n",
    "        ], ignore_index=True))\n",
    "\n",
    "@dataclass\n",
    "class PersonLinkageModule:\n",
    "    name: str\n",
    "    reference_file: pd.DataFrame\n",
    "    reference_file_name: str\n",
    "    already_confirmed_piks: pd.DataFrame\n",
    "    cut_columns: list[str]\n",
    "    matching_columns: list[str]\n",
    "    bayes_factor_cut_columns: float = 1\n",
    "\n",
    "    def __post_init__(self):\n",
    "        self.provisional_links = df_ops.empty_dataframe(columns=[\"record_id_census_2030\"], dtype=str)\n",
    "        self.confirmed = False\n",
    "        utils.ensure_empty(f'{intermediate_data_dir}/for_splink/')\n",
    "        self.reference_file_for_splink = prep_table_for_splink(self.reference_file, self.reference_file_name, self.reference_file.columns)\n",
    "        if clear_intermediate:\n",
    "            utils.ensure_empty(f'{output_dir}/intermediate_data/{self.name}/')\n",
    "        self.census_to_match = df_ops.persist(\n",
    "            census_2030\n",
    "                # Only look for matches among records that have not received a confirmed PIK\n",
    "                .merge(self.already_confirmed_piks[['record_id_raw_input_file']].assign(already_confirmed_dummy=1), on='record_id_raw_input_file', how='left')\n",
    "                .pipe(lambda df: df[df.already_confirmed_dummy.isna()])\n",
    "                .drop(columns=[\"already_confirmed_dummy\"])\n",
    "                .pipe(df_ops.rebalance)\n",
    "        )\n",
    "\n",
    "    def run_matching_pass(\n",
    "        self,\n",
    "        pass_name,\n",
    "        blocking_columns,\n",
    "        probability_threshold=0.99,\n",
    "        input_data_transformation=lambda x: x,\n",
    "    ):\n",
    "        assert self.confirmed == False\n",
    "\n",
    "        print(f\"Running {pass_name} of {self.name}\")\n",
    "\n",
    "        columns_needed = utils.dedupe_list([\"record_id\"] + self.cut_columns + blocking_columns + self.matching_columns)\n",
    "        print(f\"Files to link are {len(self.reference_file):,.0f} and {len(self.census_to_match):,.0f} records\")\n",
    "        if splink_engine == 'spark':\n",
    "            reference_file_for_splink = self.reference_file_for_splink.select(columns_needed)\n",
    "        else:\n",
    "            reference_file_for_splink = self.reference_file_for_splink[columns_needed]\n",
    "\n",
    "        tables_for_splink = [\n",
    "            reference_file_for_splink,\n",
    "            prep_table_for_splink(\n",
    "                self.census_to_match.pipe(input_data_transformation),\n",
    "                \"census_2030\",\n",
    "                columns_needed,\n",
    "            )\n",
    "        ]\n",
    "\n",
    "        blocking_rule_parts = [f\"l.{col} = r.{col}\" for col in self.cut_columns + blocking_columns]\n",
    "        blocking_rule = \" and \".join(blocking_rule_parts)\n",
    "\n",
    "        if splink_engine == 'spark':\n",
    "            blocking_rule = {\n",
    "                \"blocking_rule\": blocking_rule,\n",
    "                \"salting_partitions\": 10,\n",
    "            }\n",
    "\n",
    "        # We base our Splink linker for this pass on the one we trained above,\n",
    "        # but limiting it to the relevant column comparisons and updating the pass-specific\n",
    "        # settings\n",
    "        pass_splink_settings = copy.deepcopy(splink_settings)\n",
    "        pass_splink_settings[\"comparisons\"] = [\n",
    "            c for c in pass_splink_settings[\"comparisons\"] if c[\"output_column_name\"] in self.matching_columns\n",
    "        ]\n",
    "        prior_two_random_records_match = probability_two_random_records_match(\n",
    "            census_2030,\n",
    "            self.reference_file,\n",
    "        )\n",
    "        prior_odds_two_random_records_match = prior_two_random_records_match / (1 - prior_two_random_records_match)\n",
    "        # If cut columns are not used for matching, need to adjust our prior for the fact\n",
    "        # that all pairs compared will have the same values in the cut columns\n",
    "        odds_two_random_records_match = prior_odds_two_random_records_match * self.bayes_factor_cut_columns\n",
    "        pass_splink_settings[\"probability_two_random_records_match\"] = odds_two_random_records_match / (1 + odds_two_random_records_match)\n",
    "        pass_splink_settings[\"blocking_rules_to_generate_predictions\"] = [blocking_rule]\n",
    "\n",
    "        if splink_engine == 'duckdb':\n",
    "            linker = DuckDBLinker(\n",
    "                tables_for_splink,\n",
    "                pass_splink_settings,\n",
    "                # Must match order of tables_for_splink\n",
    "                input_table_aliases=[\"reference_file\", \"census_2030\"]\n",
    "            )\n",
    "        else:\n",
    "            linker = SparkLinker(\n",
    "                tables_for_splink,\n",
    "                pass_splink_settings,\n",
    "                # Must match order of tables_for_splink\n",
    "                input_table_aliases=[\"reference_file\", \"census_2030\"],\n",
    "                spark=spark,\n",
    "            )\n",
    "\n",
    "        num_comparisons = linker.count_num_comparisons_from_blocking_rule(blocking_rule)\n",
    "        print(f\"Number of pairs that will be compared: {num_comparisons:,.0f}\")\n",
    "    \n",
    "        # https://moj-analytical-services.github.io/splink/demos/06_Visualising_predictions.html#comparison-viewer-dashboard\n",
    "        # We also include some pairs below the threshold, for additional context.\n",
    "        pairs_worth_inspecting = linker.predict(threshold_match_probability=probability_threshold - 0.2)\n",
    "\n",
    "        if linker.query_sql(f'select count(*) as num from {pairs_worth_inspecting.physical_name}').num.iloc[0] > 0:\n",
    "            dashboard_file_name = f\"splink_reports/{data_to_use}/{self.name.replace(' ', '_')}__{pass_name.replace(' ', '_')}.html\"\n",
    "            pathlib.Path(dashboard_file_name).parent.mkdir(parents=True, exist_ok=True)\n",
    "            linker.comparison_viewer_dashboard(pairs_worth_inspecting, dashboard_file_name, overwrite=True)\n",
    "            from IPython.display import IFrame, display\n",
    "            display(IFrame(\n",
    "                src=f\"./{dashboard_file_name}\", width=\"100%\", height=1200\n",
    "            ))\n",
    "\n",
    "        if compute_engine == 'pandas':\n",
    "            new_provisional_links = pairs_worth_inspecting.as_pandas_dataframe()\n",
    "            new_provisional_links = new_provisional_links[new_provisional_links.match_probability >= probability_threshold]\n",
    "        elif splink_engine == 'spark':\n",
    "            # We do a tiny bit of computation in Spark directly to avoid writing more to disk than we need to\n",
    "            pairs_worth_inspecting = pairs_worth_inspecting.as_spark_dataframe()\n",
    "            new_provisional_links = pairs_worth_inspecting.filter(pairs_worth_inspecting.match_probability >= probability_threshold)\n",
    "            if pairs_worth_inspecting.rdd.getNumPartitions() < compute_engine_num_jobs * 5:\n",
    "                new_provisional_links = new_provisional_links.repartition(compute_engine_num_jobs * 5)\n",
    "            # NOTE: We do *not* utils.ensure_empty across passes here, because we need the provisional links from all passes\n",
    "            # to stick around\n",
    "            dir_path = f'{output_dir}/intermediate_data/{self.name}/{pass_name}/new_provisional_links/'\n",
    "            utils.ensure_empty(dir_path)\n",
    "            file_path = f'{dir_path}/new_provisional_links_{int(time.time())}.parquet'\n",
    "            new_provisional_links.write.mode('overwrite').parquet(file_path)\n",
    "            utils.ensure_empty(checkpoints_dir) # We no longer need these checkpoints\n",
    "            new_provisional_links = df_ops.persist(df_ops.read_parquet(file_path))\n",
    "        else:\n",
    "            dir_path = f'{output_dir}/intermediate_data/{self.name}/{pass_name}/pairs_worth_inspecting/'\n",
    "            utils.ensure_empty(dir_path)\n",
    "            file_path = f'{dir_path}/pairs_worth_inspecting_{int(time.time())}.parquet'\n",
    "            pairs_worth_inspecting.to_parquet(file_path, overwrite=True)\n",
    "            pairs_worth_inspecting = df_ops.persist(df_ops.read_parquet(file_path))\n",
    "            new_provisional_links = pairs_worth_inspecting[pairs_worth_inspecting.match_probability >= probability_threshold]\n",
    "            del pairs_worth_inspecting\n",
    "\n",
    "        if splink_engine == 'spark':\n",
    "            utils.ensure_empty(checkpoints_dir) # We are done with this Spark linker\n",
    "\n",
    "        if len(new_provisional_links) > 0:\n",
    "            new_provisional_links = df_ops.persist(\n",
    "                label_pairs_with_dataset(new_provisional_links)\n",
    "                    .merge(record_id_raw_input_file_by_record_id, left_on=\"record_id_census_2030\", right_on=\"record_id\", how=\"left\")\n",
    "                    .drop(columns=[\"record_id\"])\n",
    "            )\n",
    "            self.provisional_links = df_ops.persist(df_ops.concat([\n",
    "                self.provisional_links,\n",
    "                new_provisional_links.assign(module_name=self.name, pass_name=pass_name).pipe(df_ops.ensure_large_string_capacity)\n",
    "            ], ignore_index=True))\n",
    "\n",
    "            self.census_to_match = df_ops.persist(\n",
    "                self.census_to_match\n",
    "                    # Only look for matches among records that have not received a provisional link\n",
    "                    # NOTE: \"records\" here does not mean input file records -- a nickname record having\n",
    "                    # a provisional link does not prevent a canonical name record from the same input record\n",
    "                    # from continuing to match\n",
    "                    .merge(df_ops.drop_duplicates(new_provisional_links[['record_id_census_2030']]), left_on='record_id', right_on='record_id_census_2030', how='left')\n",
    "                    .pipe(lambda df: df[df.record_id_census_2030.isna()])\n",
    "                    .drop(columns=[\"record_id_census_2030\"])\n",
    "            )\n",
    "\n",
    "        print(f'Found {len(new_provisional_links):,.0f} matches; {len(self.census_to_match) / len(census_2030):.2%} still eligible to match')\n",
    "\n",
    "    def confirm_piks_from_provisional_links(self):\n",
    "        assert not self.confirmed\n",
    "\n",
    "        provisional_links = (\n",
    "            self.provisional_links\n",
    "                .merge(all_piks, left_on=\"record_id_reference_file\", right_on=\"record_id\", how=\"left\")\n",
    "                .drop(columns=\"record_id\")\n",
    "        )\n",
    "\n",
    "        # \"After the initial set of links is created in GeoSearch, a post-search program is run to determine\n",
    "        # which of the links are retained. A series of checks are performed: First the date of death\n",
    "        # information from the Numident is checked and links to deceased persons are dropped. Next a\n",
    "        # check is made for more than one SSN assigned to a source record. If more than one SSN is\n",
    "        # assigned, the best link is selected based on match weights. If no best SSN is determined, all SSNs\n",
    "        # assigned in the GeoSearch module are dropped and the input record cascades to the next\n",
    "        # module. A similar post-search program is run at the end of all search modules.\"\n",
    "        # - Layne et al. p. 5\n",
    "\n",
    "        # Drop links to deceased people\n",
    "        # NOTE: On p. 38 of Brown et al. (2023) it discusses at length the number of PVS matches to deceased\n",
    "        # people, which should not be possible based on this process.\n",
    "        # Even though this is more recent, I can't think of a reason why this check would have\n",
    "        # been *removed* from PVS -- can we chalk this up to something experimental they were doing for\n",
    "        # the AR Census in the 2023 report?\n",
    "        provisional_links = df_ops.persist(\n",
    "            provisional_links.merge(dates_of_death, on=\"pik\", how=\"left\")\n",
    "        )\n",
    "        # Census day 2030\n",
    "        deceased_links = df_ops.persist(provisional_links.date_of_death.notnull() & (provisional_links.date_of_death <= pandas.to_datetime(\"2030-04-01\")))\n",
    "        print(f'{df_ops.compute(deceased_links.sum()):,.0f} input records linked to deceased people, dropping links')\n",
    "        provisional_links = df_ops.persist(provisional_links[~deceased_links])\n",
    "\n",
    "        # Check for multiple linkage to a single input file record\n",
    "        max_probability = df_ops.groupby_agg_small_groups(provisional_links, by=\"record_id_raw_input_file\", agg_func=lambda x: x.match_probability.max()).reset_index()\n",
    "        piks_per_input_file = (\n",
    "            provisional_links\n",
    "                .merge(max_probability, on=[\"record_id_raw_input_file\", \"match_probability\"])\n",
    "                .pipe(df_ops.groupby_agg_small_groups, by=\"record_id_raw_input_file\", agg_func=lambda x: x.pik.nunique())\n",
    "                .rename('num_unique_piks')\n",
    "                .reset_index()\n",
    "        )\n",
    "\n",
    "        multiple_piks = df_ops.persist(piks_per_input_file[piks_per_input_file.num_unique_piks > 1])\n",
    "        print(f'{len(multiple_piks):,.0f} input records linked to multiple PIKs, dropping links')\n",
    "        provisional_links = df_ops.persist(\n",
    "            provisional_links\n",
    "                .merge(multiple_piks, on=\"record_id_raw_input_file\", how=\"left\")\n",
    "                .pipe(lambda df: df[df.num_unique_piks.isnull() | (df.num_unique_piks <= 1)])\n",
    "                .pipe(df_ops.drop_duplicates, subset=\"record_id_raw_input_file\", sort_col=\"match_probability\", keep=\"last\")\n",
    "        )\n",
    "\n",
    "        assert df_ops.compute((df_ops.groupby_agg_small_groups(provisional_links, by=\"record_id_raw_input_file\", agg_func=lambda x: x.pik.nunique()) == 1).all())\n",
    "\n",
    "        self.confirmed = True\n",
    "        self.provisional_links = None\n",
    "        \n",
    "        return (\n",
    "            provisional_links[[\n",
    "                \"record_id_raw_input_file\",\n",
    "                \"record_id_census_2030\",\n",
    "                \"record_id_reference_file\",\n",
    "                \"pik\",\n",
    "                \"module_name\",\n",
    "                \"pass_name\",\n",
    "                \"match_probability\",\n",
    "            ]]\n",
    "        )\n",
    "\n",
    "def label_pairs_with_dataset(pairs):\n",
    "    pairs = df_ops.persist(pairs)\n",
    "    if len(pairs) == 0:\n",
    "        return pairs\n",
    "\n",
    "    # Name the columns according to the datasets, not \"r\" (right) and \"l\" (left)\n",
    "    for suffix in [\"r\", \"l\"]:\n",
    "        # NOTE: In practice, splink always has \"r\" correspond to one dataset and \"l\" correspond to the other.\n",
    "        # It is unclear to me if this is a documented guarantee, so I double check.\n",
    "        # NOTE: Do not use drop_duplicates here, since the groups should be enormous (the entire dataframe)\n",
    "        assert df_ops.compute(pairs[f'source_dataset_{suffix}'].nunique()) == 1\n",
    "        source_dataset_name = df_ops.head(pairs, n=1)[f'source_dataset_{suffix}'].iloc[0]\n",
    "        pairs = pairs.rename(columns={c: re.sub(f'_{suffix}$', f'_{source_dataset_name}', c) for c in pairs.columns if c.endswith(f'_{suffix}')})\n",
    "\n",
    "    return pairs"
   ]
  },
  {
   "cell_type": "code",
   "execution_count": 68,
   "id": "c8b7236a-ef52-4151-acab-ba1f0a186042",
   "metadata": {
    "execution": {
     "iopub.execute_input": "2024-05-16T17:21:12.327426Z",
     "iopub.status.busy": "2024-05-16T17:21:12.326329Z",
     "iopub.status.idle": "2024-05-16T17:21:12.333586Z",
     "shell.execute_reply": "2024-05-16T17:21:12.332404Z"
    },
    "papermill": {
     "duration": 0.038804,
     "end_time": "2024-05-16T17:21:12.335283",
     "exception": false,
     "start_time": "2024-05-16T17:21:12.296479",
     "status": "completed"
    },
    "tags": []
   },
   "outputs": [],
   "source": [
    "person_linkage_cascade = PersonLinkageCascade()"
   ]
  },
  {
   "cell_type": "markdown",
   "id": "96dc1b23-3bbf-4571-a89d-9bf8db4c0dbe",
   "metadata": {
    "papermill": {
     "duration": 0.02767,
     "end_time": "2024-05-16T17:21:12.394172",
     "exception": false,
     "start_time": "2024-05-16T17:21:12.366502",
     "status": "completed"
    },
    "tags": []
   },
   "source": [
    "# Verification Module\n",
    "\n",
    "Wagner and Layne, p.14:\n",
    "\n",
    "> If the input file has a SSN data field, it first goes through the verification process.\n",
    "\n",
    "This module of PVS only runs on input records with an SSN.\n",
    "No records in the CUF have an SSN (SSN is not collected on the decennial)\n",
    "so this module is skipped."
   ]
  },
  {
   "cell_type": "markdown",
   "id": "b0203571-b01f-477b-879d-c1c7587020d7",
   "metadata": {
    "papermill": {
     "duration": 0.027497,
     "end_time": "2024-05-16T17:21:12.449251",
     "exception": false,
     "start_time": "2024-05-16T17:21:12.421754",
     "status": "completed"
    },
    "tags": []
   },
   "source": [
    "# GeoSearch\n",
    "\n",
    "Brown et al. p. 29:\n",
    "\n",
    "> the GeoSearch module blocks records at\n",
    "different levels of geography, starting with the housing unit level, then broadening geography\n",
    "up to the three-digit ZIP Code level. The typical matching variables are name, DOB, sex, and\n",
    "various address fields.\n",
    "\n",
    "Wagner and Layne p. 14:\n",
    "\n",
    "> The typical GeoSearch blocking strategy starts with blocking records at the\n",
    "household level, then broadens the geography for each successive pass and ends at\n",
    "blocking by the first three digits of the zip code. The typical match variables are first,\n",
    "middle, and last names; generational suffix; date of birth; gender and various address\n",
    "fields.\n",
    "> \n",
    "> The data for the GeoSearch module are split into 1,000 cuts based on the first three\n",
    "digits of the zip code (zip3) for record. The GeoSearch program works on one zip3 cut\n",
    "at a time, with shell scripts submitting multiple streams of cuts to the system. This\n",
    "allows for parallel processing and restart capability.\n",
    "\n",
    "Layne, Wagner, and Rothhaas list an exact series of passes with blocking and matching variables\n",
    "for each (Appendix A on p. 25).\n",
    "This was the series of passes they used in running PVS on the Medicare Enrollment\n",
    "Database, the Indian Health Service Patient Registration File, and on two commercial\n",
    "data sources.\n",
    "All of these data sources are rather different than a CUF, and this paper is from 2014,\n",
    "but it is the only place I know of where an entire set of passes is described,\n",
    "so I have used the exact same passes here."
   ]
  },
  {
   "cell_type": "code",
   "execution_count": 69,
   "id": "2560948a-c9ca-4b96-9fa9-4c4b942689e7",
   "metadata": {
    "execution": {
     "iopub.execute_input": "2024-05-16T17:21:12.505999Z",
     "iopub.status.busy": "2024-05-16T17:21:12.505244Z",
     "iopub.status.idle": "2024-05-16T17:21:12.560640Z",
     "shell.execute_reply": "2024-05-16T17:21:12.559850Z"
    },
    "papermill": {
     "duration": 0.087706,
     "end_time": "2024-05-16T17:21:12.564204",
     "exception": false,
     "start_time": "2024-05-16T17:21:12.476498",
     "status": "completed"
    },
    "tags": []
   },
   "outputs": [],
   "source": [
    "person_linkage_cascade.start_module(\n",
    "    name=\"geosearch\",\n",
    "    reference_file=geobase_reference_file,\n",
    "    reference_file_name=\"geobase_reference_file\",\n",
    "    cut_columns=[\"zip3\"],\n",
    "    matching_columns=[\n",
    "        \"first_name_15\",\n",
    "        \"last_name_12\",\n",
    "        \"middle_initial\",\n",
    "        \"day_of_birth\",\n",
    "        \"month_of_birth\",\n",
    "        \"year_of_birth\",\n",
    "        \"geokey\",\n",
    "    ],\n",
    ")"
   ]
  },
  {
   "cell_type": "markdown",
   "id": "0398ac85-1ff3-4103-979c-ff00936ced02",
   "metadata": {
    "papermill": {
     "duration": 0.026425,
     "end_time": "2024-05-16T17:21:12.624506",
     "exception": false,
     "start_time": "2024-05-16T17:21:12.598081",
     "status": "completed"
    },
    "tags": []
   },
   "source": [
    "## Pass 1: Block on geokey (entire address)"
   ]
  },
  {
   "cell_type": "code",
   "execution_count": 70,
   "id": "c13afeba-9198-4546-9092-6ee563cc51e7",
   "metadata": {
    "execution": {
     "iopub.execute_input": "2024-05-16T17:21:12.683047Z",
     "iopub.status.busy": "2024-05-16T17:21:12.682272Z",
     "iopub.status.idle": "2024-05-16T17:21:13.640596Z",
     "shell.execute_reply": "2024-05-16T17:21:13.639588Z"
    },
    "papermill": {
     "duration": 0.991866,
     "end_time": "2024-05-16T17:21:13.644240",
     "exception": false,
     "start_time": "2024-05-16T17:21:12.652374",
     "status": "completed"
    },
    "tags": []
   },
   "outputs": [
    {
     "name": "stdout",
     "output_type": "stream",
     "text": [
      "Running geokey of geosearch\n",
      "Files to link are 32,951 and 11,043 records\n"
     ]
    },
    {
     "name": "stdout",
     "output_type": "stream",
     "text": [
      "Number of pairs that will be compared: 1,130\n"
     ]
    },
    {
     "data": {
      "text/html": [
       "\n",
       "        <iframe\n",
       "            width=\"100%\"\n",
       "            height=\"1200\"\n",
       "            src=\"./splink_reports/small_sample/geosearch__geokey.html\"\n",
       "            frameborder=\"0\"\n",
       "            allowfullscreen\n",
       "            \n",
       "        ></iframe>\n",
       "        "
      ],
      "text/plain": [
       "<IPython.lib.display.IFrame at 0x7f4f22004190>"
      ]
     },
     "metadata": {},
     "output_type": "display_data"
    },
    {
     "name": "stdout",
     "output_type": "stream",
     "text": [
      "Found 360 matches; 96.84% still eligible to match\n"
     ]
    }
   ],
   "source": [
    "person_linkage_cascade.run_matching_pass(\n",
    "    pass_name=\"geokey\",\n",
    "    blocking_columns=[\"geokey_for_blocking\"],\n",
    ")"
   ]
  },
  {
   "cell_type": "markdown",
   "id": "ef782163-425e-4745-a8a4-f352032ee9d4",
   "metadata": {
    "papermill": {
     "duration": 0.028429,
     "end_time": "2024-05-16T17:21:13.706082",
     "exception": false,
     "start_time": "2024-05-16T17:21:13.677653",
     "status": "completed"
    },
    "tags": []
   },
   "source": [
    "## Pass 2: Block on geokey (entire address), switching first and last names"
   ]
  },
  {
   "cell_type": "code",
   "execution_count": 71,
   "id": "83383f23-807c-49bb-88b7-7ef69d9a6031",
   "metadata": {
    "execution": {
     "iopub.execute_input": "2024-05-16T17:21:13.763026Z",
     "iopub.status.busy": "2024-05-16T17:21:13.762378Z",
     "iopub.status.idle": "2024-05-16T17:21:13.771335Z",
     "shell.execute_reply": "2024-05-16T17:21:13.769916Z"
    },
    "papermill": {
     "duration": 0.040158,
     "end_time": "2024-05-16T17:21:13.772923",
     "exception": false,
     "start_time": "2024-05-16T17:21:13.732765",
     "status": "completed"
    },
    "tags": []
   },
   "outputs": [],
   "source": [
    "def switch_first_and_last_names(df):\n",
    "    return (\n",
    "        df.rename(columns={\"first_name\": \"last_name\", \"last_name\": \"first_name\"})\n",
    "            # Re-calculate the truncated versions of first and last.\n",
    "            # NOTE: It is not necessary to re-calculate the phonetic versions, because\n",
    "            # those are never used in any pass that has a name switch.\n",
    "            .pipe(add_truncated_name_cols)\n",
    "    )"
   ]
  },
  {
   "cell_type": "code",
   "execution_count": 72,
   "id": "f1a30656-2fad-43f2-8712-6e52fb8c94ef",
   "metadata": {
    "execution": {
     "iopub.execute_input": "2024-05-16T17:21:13.832983Z",
     "iopub.status.busy": "2024-05-16T17:21:13.831622Z",
     "iopub.status.idle": "2024-05-16T17:21:14.815650Z",
     "shell.execute_reply": "2024-05-16T17:21:14.814100Z"
    },
    "papermill": {
     "duration": 1.016431,
     "end_time": "2024-05-16T17:21:14.819091",
     "exception": false,
     "start_time": "2024-05-16T17:21:13.802660",
     "status": "completed"
    },
    "tags": []
   },
   "outputs": [
    {
     "name": "stdout",
     "output_type": "stream",
     "text": [
      "Running geokey name switch of geosearch\n",
      "Files to link are 32,951 and 10,694 records\n"
     ]
    },
    {
     "name": "stdout",
     "output_type": "stream",
     "text": [
      "Number of pairs that will be compared: 78\n"
     ]
    },
    {
     "data": {
      "text/html": [
       "\n",
       "        <iframe\n",
       "            width=\"100%\"\n",
       "            height=\"1200\"\n",
       "            src=\"./splink_reports/small_sample/geosearch__geokey_name_switch.html\"\n",
       "            frameborder=\"0\"\n",
       "            allowfullscreen\n",
       "            \n",
       "        ></iframe>\n",
       "        "
      ],
      "text/plain": [
       "<IPython.lib.display.IFrame at 0x7f4f1c11d540>"
      ]
     },
     "metadata": {},
     "output_type": "display_data"
    },
    {
     "name": "stdout",
     "output_type": "stream",
     "text": [
      "Found 4 matches; 96.80% still eligible to match\n"
     ]
    }
   ],
   "source": [
    "# We don't actually have any swapping of first and last names in pseudopeople\n",
    "person_linkage_cascade.run_matching_pass(\n",
    "    pass_name=\"geokey name switch\",\n",
    "    blocking_columns=[\"geokey_for_blocking\"],\n",
    "    input_data_transformation=switch_first_and_last_names,\n",
    ")"
   ]
  },
  {
   "cell_type": "markdown",
   "id": "7f1abcb7-8577-428a-a531-5fac5f3ea6dc",
   "metadata": {
    "papermill": {
     "duration": 0.027935,
     "end_time": "2024-05-16T17:21:14.882684",
     "exception": false,
     "start_time": "2024-05-16T17:21:14.854749",
     "status": "completed"
    },
    "tags": []
   },
   "source": [
    "## Pass 3: Block on house number and street name Soundex"
   ]
  },
  {
   "cell_type": "code",
   "execution_count": 73,
   "id": "e7c841a9-09af-4708-a094-2ddc19526648",
   "metadata": {
    "execution": {
     "iopub.execute_input": "2024-05-16T17:21:14.940756Z",
     "iopub.status.busy": "2024-05-16T17:21:14.940087Z",
     "iopub.status.idle": "2024-05-16T17:21:17.805921Z",
     "shell.execute_reply": "2024-05-16T17:21:17.804219Z"
    },
    "papermill": {
     "duration": 2.897391,
     "end_time": "2024-05-16T17:21:17.807493",
     "exception": false,
     "start_time": "2024-05-16T17:21:14.910102",
     "status": "completed"
    },
    "tags": []
   },
   "outputs": [
    {
     "name": "stdout",
     "output_type": "stream",
     "text": [
      "Running house number and street name Soundex of geosearch\n",
      "Files to link are 32,951 and 10,690 records\n"
     ]
    },
    {
     "name": "stdout",
     "output_type": "stream",
     "text": [
      "Number of pairs that will be compared: 915,441\n"
     ]
    },
    {
     "data": {
      "text/html": [
       "\n",
       "        <iframe\n",
       "            width=\"100%\"\n",
       "            height=\"1200\"\n",
       "            src=\"./splink_reports/small_sample/geosearch__house_number_and_street_name_Soundex.html\"\n",
       "            frameborder=\"0\"\n",
       "            allowfullscreen\n",
       "            \n",
       "        ></iframe>\n",
       "        "
      ],
      "text/plain": [
       "<IPython.lib.display.IFrame at 0x7f4f1df080d0>"
      ]
     },
     "metadata": {},
     "output_type": "display_data"
    },
    {
     "name": "stdout",
     "output_type": "stream",
     "text": [
      "Found 8,689 matches; 36.67% still eligible to match\n"
     ]
    }
   ],
   "source": [
    "person_linkage_cascade.run_matching_pass(\n",
    "    pass_name=\"house number and street name Soundex\",\n",
    "    blocking_columns=[\"street_number_for_blocking\", \"street_name_for_blocking_soundex\"],\n",
    ")"
   ]
  },
  {
   "cell_type": "markdown",
   "id": "f5b68b0c-f33b-42bb-a80f-22afae888216",
   "metadata": {
    "papermill": {
     "duration": 0.027742,
     "end_time": "2024-05-16T17:21:17.872883",
     "exception": false,
     "start_time": "2024-05-16T17:21:17.845141",
     "status": "completed"
    },
    "tags": []
   },
   "source": [
    "## Pass 4: Block on house number and street name Soundex, switching first and last names"
   ]
  },
  {
   "cell_type": "code",
   "execution_count": 74,
   "id": "d7665776-b592-4762-b4ca-f399ce9a95ec",
   "metadata": {
    "execution": {
     "iopub.execute_input": "2024-05-16T17:21:17.930320Z",
     "iopub.status.busy": "2024-05-16T17:21:17.929986Z",
     "iopub.status.idle": "2024-05-16T17:21:19.479708Z",
     "shell.execute_reply": "2024-05-16T17:21:19.477938Z"
    },
    "papermill": {
     "duration": 1.583025,
     "end_time": "2024-05-16T17:21:19.483295",
     "exception": false,
     "start_time": "2024-05-16T17:21:17.900270",
     "status": "completed"
    },
    "tags": []
   },
   "outputs": [
    {
     "name": "stdout",
     "output_type": "stream",
     "text": [
      "Running house number and street name Soundex name switch of geosearch\n",
      "Files to link are 32,951 and 4,050 records\n"
     ]
    },
    {
     "name": "stdout",
     "output_type": "stream",
     "text": [
      "Number of pairs that will be compared: 207,910\n"
     ]
    },
    {
     "data": {
      "text/html": [
       "\n",
       "        <iframe\n",
       "            width=\"100%\"\n",
       "            height=\"1200\"\n",
       "            src=\"./splink_reports/small_sample/geosearch__house_number_and_street_name_Soundex_name_switch.html\"\n",
       "            frameborder=\"0\"\n",
       "            allowfullscreen\n",
       "            \n",
       "        ></iframe>\n",
       "        "
      ],
      "text/plain": [
       "<IPython.lib.display.IFrame at 0x7f4f1e5080d0>"
      ]
     },
     "metadata": {},
     "output_type": "display_data"
    },
    {
     "name": "stdout",
     "output_type": "stream",
     "text": [
      "Found 30 matches; 36.45% still eligible to match\n"
     ]
    }
   ],
   "source": [
    "person_linkage_cascade.run_matching_pass(\n",
    "    pass_name=\"house number and street name Soundex name switch\",\n",
    "    blocking_columns=[\"street_number_for_blocking\", \"street_name_for_blocking_soundex\"],\n",
    "    input_data_transformation=switch_first_and_last_names,\n",
    ")"
   ]
  },
  {
   "cell_type": "markdown",
   "id": "c4753574-d776-4b83-9ca8-762a2d665ddc",
   "metadata": {
    "papermill": {
     "duration": 0.028547,
     "end_time": "2024-05-16T17:21:19.546644",
     "exception": false,
     "start_time": "2024-05-16T17:21:19.518097",
     "status": "completed"
    },
    "tags": []
   },
   "source": [
    "## Pass 5: Block on some name and DOB information"
   ]
  },
  {
   "cell_type": "code",
   "execution_count": 75,
   "id": "1924438b-d5ec-4bc7-a083-46d0165c9682",
   "metadata": {
    "execution": {
     "iopub.execute_input": "2024-05-16T17:21:19.606796Z",
     "iopub.status.busy": "2024-05-16T17:21:19.606151Z",
     "iopub.status.idle": "2024-05-16T17:21:20.906421Z",
     "shell.execute_reply": "2024-05-16T17:21:20.904697Z"
    },
    "papermill": {
     "duration": 1.334561,
     "end_time": "2024-05-16T17:21:20.909787",
     "exception": false,
     "start_time": "2024-05-16T17:21:19.575226",
     "status": "completed"
    },
    "tags": []
   },
   "outputs": [
    {
     "name": "stdout",
     "output_type": "stream",
     "text": [
      "Running some name and DOB information of geosearch\n",
      "Files to link are 32,951 and 4,025 records\n"
     ]
    },
    {
     "name": "stdout",
     "output_type": "stream",
     "text": [
      "Number of pairs that will be compared: 2,491\n"
     ]
    },
    {
     "data": {
      "text/html": [
       "\n",
       "        <iframe\n",
       "            width=\"100%\"\n",
       "            height=\"1200\"\n",
       "            src=\"./splink_reports/small_sample/geosearch__some_name_and_DOB_information.html\"\n",
       "            frameborder=\"0\"\n",
       "            allowfullscreen\n",
       "            \n",
       "        ></iframe>\n",
       "        "
      ],
      "text/plain": [
       "<IPython.lib.display.IFrame at 0x7f4eea31a8f0>"
      ]
     },
     "metadata": {},
     "output_type": "display_data"
    },
    {
     "name": "stdout",
     "output_type": "stream",
     "text": [
      "Found 2,089 matches; 25.93% still eligible to match\n"
     ]
    }
   ],
   "source": [
    "person_linkage_cascade.run_matching_pass(\n",
    "    pass_name=\"some name and DOB information\",\n",
    "    blocking_columns=[\"first_name_2\", \"last_name_2\", \"year_of_birth\"],\n",
    ")"
   ]
  },
  {
   "cell_type": "markdown",
   "id": "3f507b1e-61e6-448f-bc2e-afccc3020356",
   "metadata": {
    "papermill": {
     "duration": 0.027977,
     "end_time": "2024-05-16T17:21:20.972510",
     "exception": false,
     "start_time": "2024-05-16T17:21:20.944533",
     "status": "completed"
    },
    "tags": []
   },
   "source": [
    "## Post-process and confirm PIKs"
   ]
  },
  {
   "cell_type": "code",
   "execution_count": 76,
   "id": "30899aeb-e35f-4246-979c-af9f8235c3ab",
   "metadata": {
    "execution": {
     "iopub.execute_input": "2024-05-16T17:21:21.033292Z",
     "iopub.status.busy": "2024-05-16T17:21:21.032620Z",
     "iopub.status.idle": "2024-05-16T17:21:21.144626Z",
     "shell.execute_reply": "2024-05-16T17:21:21.142715Z"
    },
    "papermill": {
     "duration": 0.146709,
     "end_time": "2024-05-16T17:21:21.148072",
     "exception": false,
     "start_time": "2024-05-16T17:21:21.001363",
     "status": "completed"
    },
    "tags": []
   },
   "outputs": [
    {
     "name": "stdout",
     "output_type": "stream",
     "text": [
      "114 input records linked to deceased people, dropping links\n"
     ]
    },
    {
     "name": "stdout",
     "output_type": "stream",
     "text": [
      "1 input records linked to multiple PIKs, dropping links\n"
     ]
    }
   ],
   "source": [
    "person_linkage_cascade.confirm_piks()"
   ]
  },
  {
   "cell_type": "code",
   "execution_count": 77,
   "id": "0eea4fa2-588b-4555-a78e-8747da8db6fb",
   "metadata": {
    "execution": {
     "iopub.execute_input": "2024-05-16T17:21:21.219328Z",
     "iopub.status.busy": "2024-05-16T17:21:21.218649Z",
     "iopub.status.idle": "2024-05-16T17:21:21.236453Z",
     "shell.execute_reply": "2024-05-16T17:21:21.234718Z"
    },
    "papermill": {
     "duration": 0.054474,
     "end_time": "2024-05-16T17:21:21.238292",
     "exception": false,
     "start_time": "2024-05-16T17:21:21.183818",
     "status": "completed"
    },
    "tags": []
   },
   "outputs": [
    {
     "data": {
      "text/plain": [
       "module_name  pass_name                                       \n",
       "geosearch    house number and street name Soundex                6569\n",
       "             some name and DOB information                       1152\n",
       "             geokey                                               343\n",
       "             house number and street name Soundex name switch      25\n",
       "             geokey name switch                                     4\n",
       "dtype: int64"
      ]
     },
     "execution_count": 77,
     "metadata": {},
     "output_type": "execute_result"
    }
   ],
   "source": [
    "df_ops.compute(person_linkage_cascade.confirmed_piks.groupby([\"module_name\", \"pass_name\"]).size()).sort_values(ascending=False)"
   ]
  },
  {
   "cell_type": "markdown",
   "id": "d64ae657-5248-4a78-b836-3a04e8732140",
   "metadata": {
    "papermill": {
     "duration": 0.028414,
     "end_time": "2024-05-16T17:21:21.299277",
     "exception": false,
     "start_time": "2024-05-16T17:21:21.270863",
     "status": "completed"
    },
    "tags": []
   },
   "source": [
    "# ZIP3 Adjacency Search\n",
    "\n",
    "Layne, Wagner, and Rothhaas (p. 6) refers to ZIP3 adjacency as a module and even provides\n",
    "a list of two passes within it in Appendix A.\n",
    "\n",
    "Alexander et al. (p. 6) refers to it the same way, as a module.\n",
    "\n",
    "However, Wagner and Layne (p. 14) says:\n",
    "\n",
    "> The GeoSearch module also incorporates the adjacency of neighboring areas with\n",
    "different zip3 values\n",
    "\n",
    "which implies this logic is a pass or passes *within* GeoSearch (and due to how cascading works,\n",
    "this is not just an academic distinction).\n",
    "\n",
    "There is no mention at all of ZIP3 adjacency in the Brown et al. paper from 2023.\n",
    "\n",
    "**TODO**: Determine whether this still exists, how it works if so, and implement it.\n",
    "Doesn't really make sense with the sample data since there is only one ZIP."
   ]
  },
  {
   "cell_type": "markdown",
   "id": "ca19c7f2-e129-4c96-b22e-a2983c40a15c",
   "metadata": {
    "papermill": {
     "duration": 0.028412,
     "end_time": "2024-05-16T17:21:21.356525",
     "exception": false,
     "start_time": "2024-05-16T17:21:21.328113",
     "status": "completed"
    },
    "tags": []
   },
   "source": [
    "# Movers\n",
    "\n",
    "The Movers module is not mentioned in Brown et al, nor in Wagner and Layne.\n",
    "\n",
    "In Layne, Wagner, and Rothhaas (p. 7), published in 2014, it is described as \"Prototyped only – not implemented in PVS\":\n",
    "\n",
    "> The Movers module is appropriate for input files that combine individuals together into\n",
    "> households.\n",
    "> The module seeks multiple members of an input household in one address that\n",
    "> may have moved together to another address.\n",
    "> To be eligible for this module the household size must be greater than one.\n",
    "> This module is being tested and was not used in the analysis for this paper.\n",
    "\n",
    "Alexander et al. (p. 6) a year later makes no note of it being experimental:\n",
    "\n",
    "> To be eligible for the Movers Module, no member of the household can have a\n",
    "> PIK and the household must consist of more than one member.\n",
    "> This module considers persons living at the same address as a unit and\n",
    "> searches for matching units living together in the reference file (without regard for address).\n",
    "\n",
    "Essentially the same text is included in Massey et al., published in 2018.\n",
    "\n",
    "Though it doesn't provide much information, [this document](https://gunnisonconsulting.com/docs/pdf/Record%20Linkage%20Slicksheet_FINAL.pdf)\n",
    "([archive](https://web.archive.org/web/20230705010237/https://gunnisonconsulting.com/docs/pdf/Record%20Linkage%20Slicksheet_FINAL.pdf))\n",
    "from the Gunnison consulting group states that they worked with Census and\n",
    "\"pioneered the transition from a record-by-record matching approach to an\n",
    "approach that better uses groups of records, such as full households, to make more\n",
    "and better links.\"\n",
    "Specifically, they claim that 16% of previously unlinked records were linked using\n",
    "the household-level approach.\n",
    "\n",
    "**TODO**: Haven't figured out if this is still in use, nor how it works.\n",
    "This module seems of particular interest, because it sounds like it is quite different\n",
    "from other modules."
   ]
  },
  {
   "cell_type": "markdown",
   "id": "b7412843-d6c2-4064-ab38-ab9335b9d71e",
   "metadata": {
    "papermill": {
     "duration": 0.029003,
     "end_time": "2024-05-16T17:21:21.413985",
     "exception": false,
     "start_time": "2024-05-16T17:21:21.384982",
     "status": "completed"
    },
    "tags": []
   },
   "source": [
    "# NameSearch\n",
    "\n",
    "Brown et al., p. 29:\n",
    "\n",
    "> ... the NameSearch module, which uses only name and DOB fields, comparing all combinations of\n",
    "alternate names and dates of birth.\n",
    "\n",
    "Wagner and Layne, p. 15:\n",
    "\n",
    "> The NameSearch module searches the reference files for records failing the\n",
    "Verification and GeoSearch Modules. Only name and date of birth data are used in this\n",
    "search process. NameSearch consists of multiple passes against the Numident Name\n",
    "Reference file, which contains all possible combinations of alternate names and\n",
    "alternate dates of birth for each SSN in the Census Numident file, and includes data for\n",
    "ITINs.\n",
    "> \n",
    "> The typical NameSearch blocking strategy starts with a strict first pass, blocking\n",
    "records by exact date of birth and parts of names. Successive passes block on parts of\n",
    "the name and date of birth fields to allow for some name and date of birth variation.\n",
    "The typical match variables are first, middle and last names, generational suffix, date of\n",
    "birth, and gender.\n",
    "\n",
    "As in GeoSearch, the only full listing I could find of passes with blocking and matching variables\n",
    "was in Layne, Wagner, and Rothhaas.\n",
    "This is probably somewhat out of date and is not what would be used on a CUF, but I have\n",
    "copied it exactly here."
   ]
  },
  {
   "cell_type": "code",
   "execution_count": 78,
   "id": "fdf41a6a-8c72-4c9a-bb8c-410d7877414f",
   "metadata": {
    "execution": {
     "iopub.execute_input": "2024-05-16T17:21:21.472828Z",
     "iopub.status.busy": "2024-05-16T17:21:21.472168Z",
     "iopub.status.idle": "2024-05-16T17:21:21.523150Z",
     "shell.execute_reply": "2024-05-16T17:21:21.521541Z"
    },
    "papermill": {
     "duration": 0.084709,
     "end_time": "2024-05-16T17:21:21.526877",
     "exception": false,
     "start_time": "2024-05-16T17:21:21.442168",
     "status": "completed"
    },
    "tags": []
   },
   "outputs": [],
   "source": [
    "person_linkage_cascade.start_module(\n",
    "    name=\"namesearch\",\n",
    "    reference_file=name_dob_reference_file,\n",
    "    reference_file_name=\"name_dob_reference_file\",\n",
    "    cut_columns=[\"first_initial_cut\", \"last_initial_cut\"],\n",
    "    matching_columns=[\n",
    "        \"first_name_15\",\n",
    "        \"last_name_12\",\n",
    "        \"middle_initial\",\n",
    "        \"day_of_birth\",\n",
    "        \"month_of_birth\",\n",
    "        \"year_of_birth\",\n",
    "    ],\n",
    ")"
   ]
  },
  {
   "cell_type": "markdown",
   "id": "bf43e928-be1c-4f2a-a747-e624c19d40d6",
   "metadata": {
    "papermill": {
     "duration": 0.027656,
     "end_time": "2024-05-16T17:21:21.590490",
     "exception": false,
     "start_time": "2024-05-16T17:21:21.562834",
     "status": "completed"
    },
    "tags": []
   },
   "source": [
    "## Pass 1: Block on DOB and NYSIIS of name"
   ]
  },
  {
   "cell_type": "code",
   "execution_count": 79,
   "id": "01e5baab-1b94-4359-9398-c829ebb2a920",
   "metadata": {
    "execution": {
     "iopub.execute_input": "2024-05-16T17:21:21.649938Z",
     "iopub.status.busy": "2024-05-16T17:21:21.649282Z",
     "iopub.status.idle": "2024-05-16T17:21:22.718060Z",
     "shell.execute_reply": "2024-05-16T17:21:22.716226Z"
    },
    "papermill": {
     "duration": 1.102565,
     "end_time": "2024-05-16T17:21:22.721489",
     "exception": false,
     "start_time": "2024-05-16T17:21:21.618924",
     "status": "completed"
    },
    "tags": []
   },
   "outputs": [
    {
     "name": "stdout",
     "output_type": "stream",
     "text": [
      "Running DOB and NYSIIS of name of namesearch\n",
      "Files to link are 20,110 and 2,947 records\n"
     ]
    },
    {
     "name": "stdout",
     "output_type": "stream",
     "text": [
      "Number of pairs that will be compared: 280\n"
     ]
    },
    {
     "data": {
      "text/html": [
       "\n",
       "        <iframe\n",
       "            width=\"100%\"\n",
       "            height=\"1200\"\n",
       "            src=\"./splink_reports/small_sample/namesearch__DOB_and_NYSIIS_of_name.html\"\n",
       "            frameborder=\"0\"\n",
       "            allowfullscreen\n",
       "            \n",
       "        ></iframe>\n",
       "        "
      ],
      "text/plain": [
       "<IPython.lib.display.IFrame at 0x7f4f1c0b4eb0>"
      ]
     },
     "metadata": {},
     "output_type": "display_data"
    },
    {
     "name": "stdout",
     "output_type": "stream",
     "text": [
      "Found 280 matches; 24.15% still eligible to match\n"
     ]
    }
   ],
   "source": [
    "person_linkage_cascade.run_matching_pass(\n",
    "    pass_name=\"DOB and NYSIIS of name\",\n",
    "    blocking_columns=[\"day_of_birth\", \"month_of_birth\", \"year_of_birth\", \"first_name_nysiis\", \"last_name_nysiis\"],\n",
    ")"
   ]
  },
  {
   "cell_type": "markdown",
   "id": "bedbec09-ed90-4d7d-9fe3-4a934b6d8bce",
   "metadata": {
    "papermill": {
     "duration": 0.028994,
     "end_time": "2024-05-16T17:21:22.784393",
     "exception": false,
     "start_time": "2024-05-16T17:21:22.755399",
     "status": "completed"
    },
    "tags": []
   },
   "source": [
    "## Pass 2: Block on DOB and initials"
   ]
  },
  {
   "cell_type": "code",
   "execution_count": 80,
   "id": "7011e74c-b87e-436c-9c75-5fe23fafdd8e",
   "metadata": {
    "execution": {
     "iopub.execute_input": "2024-05-16T17:21:22.846394Z",
     "iopub.status.busy": "2024-05-16T17:21:22.845725Z",
     "iopub.status.idle": "2024-05-16T17:21:23.947102Z",
     "shell.execute_reply": "2024-05-16T17:21:23.946427Z"
    },
    "papermill": {
     "duration": 1.136429,
     "end_time": "2024-05-16T17:21:23.950924",
     "exception": false,
     "start_time": "2024-05-16T17:21:22.814495",
     "status": "completed"
    },
    "tags": []
   },
   "outputs": [
    {
     "name": "stdout",
     "output_type": "stream",
     "text": [
      "Running DOB and initials of namesearch\n",
      "Files to link are 20,110 and 2,667 records\n"
     ]
    },
    {
     "name": "stdout",
     "output_type": "stream",
     "text": [
      "Number of pairs that will be compared: 174\n"
     ]
    },
    {
     "data": {
      "text/html": [
       "\n",
       "        <iframe\n",
       "            width=\"100%\"\n",
       "            height=\"1200\"\n",
       "            src=\"./splink_reports/small_sample/namesearch__DOB_and_initials.html\"\n",
       "            frameborder=\"0\"\n",
       "            allowfullscreen\n",
       "            \n",
       "        ></iframe>\n",
       "        "
      ],
      "text/plain": [
       "<IPython.lib.display.IFrame at 0x7f4f0c9225f0>"
      ]
     },
     "metadata": {},
     "output_type": "display_data"
    },
    {
     "name": "stdout",
     "output_type": "stream",
     "text": [
      "Found 125 matches; 23.02% still eligible to match\n"
     ]
    }
   ],
   "source": [
    "person_linkage_cascade.run_matching_pass(\n",
    "    pass_name=\"DOB and initials\",\n",
    "    blocking_columns=[\"day_of_birth\", \"month_of_birth\", \"year_of_birth\", \"first_name_1\", \"last_name_1\"],\n",
    ")"
   ]
  },
  {
   "cell_type": "markdown",
   "id": "1d3e5dad-fbb8-4e7f-9b31-8ef079623b71",
   "metadata": {
    "papermill": {
     "duration": 0.029387,
     "end_time": "2024-05-16T17:21:24.014683",
     "exception": false,
     "start_time": "2024-05-16T17:21:23.985296",
     "status": "completed"
    },
    "tags": []
   },
   "source": [
    "## Pass 3: Block on year of birth and first two characters of name"
   ]
  },
  {
   "cell_type": "code",
   "execution_count": 81,
   "id": "afdc57ab-bf73-4524-a82a-4242a7e37be3",
   "metadata": {
    "execution": {
     "iopub.execute_input": "2024-05-16T17:21:24.074932Z",
     "iopub.status.busy": "2024-05-16T17:21:24.074249Z",
     "iopub.status.idle": "2024-05-16T17:21:25.345737Z",
     "shell.execute_reply": "2024-05-16T17:21:25.344360Z"
    },
    "papermill": {
     "duration": 1.306128,
     "end_time": "2024-05-16T17:21:25.349344",
     "exception": false,
     "start_time": "2024-05-16T17:21:24.043216",
     "status": "completed"
    },
    "tags": []
   },
   "outputs": [
    {
     "name": "stdout",
     "output_type": "stream",
     "text": [
      "Running year of birth and first two characters of name of namesearch\n",
      "Files to link are 20,110 and 2,542 records\n"
     ]
    },
    {
     "name": "stdout",
     "output_type": "stream",
     "text": [
      "Number of pairs that will be compared: 175\n"
     ]
    },
    {
     "data": {
      "text/html": [
       "\n",
       "        <iframe\n",
       "            width=\"100%\"\n",
       "            height=\"1200\"\n",
       "            src=\"./splink_reports/small_sample/namesearch__year_of_birth_and_first_two_characters_of_name.html\"\n",
       "            frameborder=\"0\"\n",
       "            allowfullscreen\n",
       "            \n",
       "        ></iframe>\n",
       "        "
      ],
      "text/plain": [
       "<IPython.lib.display.IFrame at 0x7f4f21fbde70>"
      ]
     },
     "metadata": {},
     "output_type": "display_data"
    },
    {
     "name": "stdout",
     "output_type": "stream",
     "text": [
      "Found 12 matches; 22.91% still eligible to match\n"
     ]
    }
   ],
   "source": [
    "person_linkage_cascade.run_matching_pass(\n",
    "    pass_name=\"year of birth and first two characters of name\",\n",
    "    blocking_columns=[\"year_of_birth\", \"first_name_2\", \"last_name_2\"],\n",
    ")"
   ]
  },
  {
   "cell_type": "markdown",
   "id": "980962d2-3da2-4ca1-82b6-6452e6fce0f8",
   "metadata": {
    "papermill": {
     "duration": 0.02932,
     "end_time": "2024-05-16T17:21:25.413223",
     "exception": false,
     "start_time": "2024-05-16T17:21:25.383903",
     "status": "completed"
    },
    "tags": []
   },
   "source": [
    "## Pass 4: Block on birthday and first two characters of name"
   ]
  },
  {
   "cell_type": "code",
   "execution_count": 82,
   "id": "9ea04745-1b41-4e13-8975-bb2e015c3fa2",
   "metadata": {
    "execution": {
     "iopub.execute_input": "2024-05-16T17:21:25.475754Z",
     "iopub.status.busy": "2024-05-16T17:21:25.475084Z",
     "iopub.status.idle": "2024-05-16T17:21:26.665857Z",
     "shell.execute_reply": "2024-05-16T17:21:26.664671Z"
    },
    "papermill": {
     "duration": 1.227192,
     "end_time": "2024-05-16T17:21:26.669287",
     "exception": false,
     "start_time": "2024-05-16T17:21:25.442095",
     "status": "completed"
    },
    "tags": []
   },
   "outputs": [
    {
     "name": "stdout",
     "output_type": "stream",
     "text": [
      "Running birthday and first two characters of name of namesearch\n",
      "Files to link are 20,110 and 2,530 records\n"
     ]
    },
    {
     "name": "stdout",
     "output_type": "stream",
     "text": [
      "Number of pairs that will be compared: 98\n"
     ]
    },
    {
     "data": {
      "text/html": [
       "\n",
       "        <iframe\n",
       "            width=\"100%\"\n",
       "            height=\"1200\"\n",
       "            src=\"./splink_reports/small_sample/namesearch__birthday_and_first_two_characters_of_name.html\"\n",
       "            frameborder=\"0\"\n",
       "            allowfullscreen\n",
       "            \n",
       "        ></iframe>\n",
       "        "
      ],
      "text/plain": [
       "<IPython.lib.display.IFrame at 0x7f4f21fd7220>"
      ]
     },
     "metadata": {},
     "output_type": "display_data"
    },
    {
     "name": "stdout",
     "output_type": "stream",
     "text": [
      "Found 52 matches; 22.44% still eligible to match\n"
     ]
    }
   ],
   "source": [
    "person_linkage_cascade.run_matching_pass(\n",
    "    pass_name=\"birthday and first two characters of name\",\n",
    "    blocking_columns=[\"day_of_birth\", \"month_of_birth\", \"first_name_2\", \"last_name_2\"],\n",
    ")"
   ]
  },
  {
   "cell_type": "markdown",
   "id": "368e0d7c-54d8-4ce5-9723-0650a2a58924",
   "metadata": {
    "papermill": {
     "duration": 0.036381,
     "end_time": "2024-05-16T17:21:26.766073",
     "exception": false,
     "start_time": "2024-05-16T17:21:26.729692",
     "status": "completed"
    },
    "tags": []
   },
   "source": [
    "## Post-process and confirm PIKs"
   ]
  },
  {
   "cell_type": "code",
   "execution_count": 83,
   "id": "76a7588d-85c3-4087-b6db-17dc31859cd7",
   "metadata": {
    "execution": {
     "iopub.execute_input": "2024-05-16T17:21:26.827468Z",
     "iopub.status.busy": "2024-05-16T17:21:26.827031Z",
     "iopub.status.idle": "2024-05-16T17:21:26.883955Z",
     "shell.execute_reply": "2024-05-16T17:21:26.882882Z"
    },
    "papermill": {
     "duration": 0.090526,
     "end_time": "2024-05-16T17:21:26.887202",
     "exception": false,
     "start_time": "2024-05-16T17:21:26.796676",
     "status": "completed"
    },
    "tags": []
   },
   "outputs": [
    {
     "name": "stdout",
     "output_type": "stream",
     "text": [
      "76 input records linked to deceased people, dropping links"
     ]
    },
    {
     "name": "stdout",
     "output_type": "stream",
     "text": [
      "\n",
      "0 input records linked to multiple PIKs, dropping links\n"
     ]
    }
   ],
   "source": [
    "person_linkage_cascade.confirm_piks()"
   ]
  },
  {
   "cell_type": "code",
   "execution_count": 84,
   "id": "7892c48c-c5d5-44c6-9439-2f59ebc053b5",
   "metadata": {
    "execution": {
     "iopub.execute_input": "2024-05-16T17:21:26.952803Z",
     "iopub.status.busy": "2024-05-16T17:21:26.952413Z",
     "iopub.status.idle": "2024-05-16T17:21:26.964288Z",
     "shell.execute_reply": "2024-05-16T17:21:26.963333Z"
    },
    "papermill": {
     "duration": 0.043935,
     "end_time": "2024-05-16T17:21:26.965827",
     "exception": false,
     "start_time": "2024-05-16T17:21:26.921892",
     "status": "completed"
    },
    "tags": []
   },
   "outputs": [
    {
     "data": {
      "text/plain": [
       "module_name  pass_name                                       \n",
       "geosearch    house number and street name Soundex                6569\n",
       "             some name and DOB information                       1152\n",
       "             geokey                                               343\n",
       "namesearch   DOB and NYSIIS of name                               217\n",
       "             DOB and initials                                     116\n",
       "             birthday and first two characters of name             50\n",
       "geosearch    house number and street name Soundex name switch      25\n",
       "namesearch   year of birth and first two characters of name        10\n",
       "geosearch    geokey name switch                                     4\n",
       "dtype: int64"
      ]
     },
     "execution_count": 84,
     "metadata": {},
     "output_type": "execute_result"
    }
   ],
   "source": [
    "df_ops.compute(person_linkage_cascade.confirmed_piks.groupby([\"module_name\", \"pass_name\"]).size()).sort_values(ascending=False)"
   ]
  },
  {
   "cell_type": "markdown",
   "id": "5cf67411-44e7-4ae8-926c-9b1f56d4522f",
   "metadata": {
    "papermill": {
     "duration": 0.029788,
     "end_time": "2024-05-16T17:21:27.028546",
     "exception": false,
     "start_time": "2024-05-16T17:21:26.998758",
     "status": "completed"
    },
    "tags": []
   },
   "source": [
    "# DOBSearch\n",
    "\n",
    "Brown et al., p. 29:\n",
    "\n",
    "> ... the DOBSearch module, which blocks on\n",
    "month and day of birth, then compares name, sex, and DOB.\n",
    "\n",
    "Wagner and Layne, p. 15:\n",
    "\n",
    "> The DOBSearch module searches the reference files for the records that fail the\n",
    "> NameSearch, using name and date of birth data. The module matches against a re-split\n",
    "> version of the Numident Name Reference file, splitting the data based on month and day\n",
    "> of birth.\n",
    "> \n",
    "> There are typically four blocking passes in the DOBSearch module. The first pass\n",
    "> blocks records by first name in the incoming file to last name in the DOB Reference file\n",
    "> and last name in incoming file to first name in the DOB Reference file. This strategy\n",
    "> accounts for switching of first and last name in the incoming file.\n",
    "\n",
    "Again, I have used the exact passes listed for this module in Layne, Wagner, and Rothhaas.\n",
    "This is somewhat corroborated to be \"typical\" given that it is consistent with Wagner and Layne\n",
    "above, but both papers are old."
   ]
  },
  {
   "cell_type": "code",
   "execution_count": 85,
   "id": "38bbc963-25e2-4f17-9721-f855589dd28a",
   "metadata": {
    "execution": {
     "iopub.execute_input": "2024-05-16T17:21:27.089586Z",
     "iopub.status.busy": "2024-05-16T17:21:27.088929Z",
     "iopub.status.idle": "2024-05-16T17:21:27.134580Z",
     "shell.execute_reply": "2024-05-16T17:21:27.133486Z"
    },
    "papermill": {
     "duration": 0.079778,
     "end_time": "2024-05-16T17:21:27.138239",
     "exception": false,
     "start_time": "2024-05-16T17:21:27.058461",
     "status": "completed"
    },
    "tags": []
   },
   "outputs": [],
   "source": [
    "person_linkage_cascade.start_module(\n",
    "    name=\"dobsearch\",\n",
    "    reference_file=name_dob_reference_file,\n",
    "    reference_file_name=\"name_dob_reference_file\",\n",
    "    cut_columns=[\"day_of_birth\", \"month_of_birth\"],\n",
    "    matching_columns=[\n",
    "        \"first_name_15\",\n",
    "        \"last_name_12\",\n",
    "        \"middle_initial\",\n",
    "        \"day_of_birth\",\n",
    "        \"month_of_birth\",\n",
    "        \"year_of_birth\",\n",
    "    ],\n",
    ")"
   ]
  },
  {
   "cell_type": "markdown",
   "id": "1ec6013e-ea45-463d-8095-ef3e4c8abf20",
   "metadata": {
    "papermill": {
     "duration": 0.031394,
     "end_time": "2024-05-16T17:21:27.206647",
     "exception": false,
     "start_time": "2024-05-16T17:21:27.175253",
     "status": "completed"
    },
    "tags": []
   },
   "source": [
    "## Pass 1: Block on initials, switching first and last names"
   ]
  },
  {
   "cell_type": "code",
   "execution_count": 86,
   "id": "b9fa73d4-ee01-4a35-94f9-ab0eb6b09132",
   "metadata": {
    "execution": {
     "iopub.execute_input": "2024-05-16T17:21:27.267048Z",
     "iopub.status.busy": "2024-05-16T17:21:27.266641Z",
     "iopub.status.idle": "2024-05-16T17:21:28.200485Z",
     "shell.execute_reply": "2024-05-16T17:21:28.199530Z"
    },
    "papermill": {
     "duration": 0.967734,
     "end_time": "2024-05-16T17:21:28.203632",
     "exception": false,
     "start_time": "2024-05-16T17:21:27.235898",
     "status": "completed"
    },
    "tags": []
   },
   "outputs": [
    {
     "name": "stdout",
     "output_type": "stream",
     "text": [
      "Running initials name switch of dobsearch\n",
      "Files to link are 20,110 and 2,554 records\n"
     ]
    },
    {
     "name": "stdout",
     "output_type": "stream",
     "text": [
      "Number of pairs that will be compared: 255\n"
     ]
    },
    {
     "data": {
      "text/html": [
       "\n",
       "        <iframe\n",
       "            width=\"100%\"\n",
       "            height=\"1200\"\n",
       "            src=\"./splink_reports/small_sample/dobsearch__initials_name_switch.html\"\n",
       "            frameborder=\"0\"\n",
       "            allowfullscreen\n",
       "            \n",
       "        ></iframe>\n",
       "        "
      ],
      "text/plain": [
       "<IPython.lib.display.IFrame at 0x7f51b850f520>"
      ]
     },
     "metadata": {},
     "output_type": "display_data"
    },
    {
     "name": "stdout",
     "output_type": "stream",
     "text": [
      "Found 5 matches; 23.08% still eligible to match\n"
     ]
    }
   ],
   "source": [
    "person_linkage_cascade.run_matching_pass(\n",
    "    pass_name=\"initials name switch\",\n",
    "    blocking_columns=[\"first_name_1\", \"last_name_1\"],\n",
    "    input_data_transformation=switch_first_and_last_names,\n",
    ")"
   ]
  },
  {
   "cell_type": "markdown",
   "id": "8fa68a9b-6f38-4f7c-8246-65a3bd780f54",
   "metadata": {
    "papermill": {
     "duration": 0.02987,
     "end_time": "2024-05-16T17:21:28.269427",
     "exception": false,
     "start_time": "2024-05-16T17:21:28.239557",
     "status": "completed"
    },
    "tags": []
   },
   "source": [
    "## Pass 2: Block on first three characters of name"
   ]
  },
  {
   "cell_type": "code",
   "execution_count": 87,
   "id": "75d3d033-96ae-43bf-8f90-c73036c39d0f",
   "metadata": {
    "execution": {
     "iopub.execute_input": "2024-05-16T17:21:28.331623Z",
     "iopub.status.busy": "2024-05-16T17:21:28.330804Z",
     "iopub.status.idle": "2024-05-16T17:21:29.147949Z",
     "shell.execute_reply": "2024-05-16T17:21:29.146880Z"
    },
    "papermill": {
     "duration": 0.851507,
     "end_time": "2024-05-16T17:21:29.150650",
     "exception": false,
     "start_time": "2024-05-16T17:21:28.299143",
     "status": "completed"
    },
    "tags": []
   },
   "outputs": [
    {
     "name": "stdout",
     "output_type": "stream",
     "text": [
      "Running first three characters of name of dobsearch\n",
      "Files to link are 20,110 and 2,549 records\n"
     ]
    },
    {
     "name": "stdout",
     "output_type": "stream",
     "text": [
      "Number of pairs that will be compared: 88\n"
     ]
    },
    {
     "data": {
      "text/html": [
       "\n",
       "        <iframe\n",
       "            width=\"100%\"\n",
       "            height=\"1200\"\n",
       "            src=\"./splink_reports/small_sample/dobsearch__first_three_characters_of_name.html\"\n",
       "            frameborder=\"0\"\n",
       "            allowfullscreen\n",
       "            \n",
       "        ></iframe>\n",
       "        "
      ],
      "text/plain": [
       "<IPython.lib.display.IFrame at 0x7f5129488670>"
      ]
     },
     "metadata": {},
     "output_type": "display_data"
    },
    {
     "name": "stdout",
     "output_type": "stream",
     "text": [
      "Found 69 matches; 22.46% still eligible to match\n"
     ]
    }
   ],
   "source": [
    "person_linkage_cascade.run_matching_pass(\n",
    "    pass_name=\"first three characters of name\",\n",
    "    blocking_columns=[\"first_name_3\", \"last_name_3\"],\n",
    ")"
   ]
  },
  {
   "cell_type": "markdown",
   "id": "10d06a88-895a-469b-a830-57c46c58ae45",
   "metadata": {
    "papermill": {
     "duration": 0.029887,
     "end_time": "2024-05-16T17:21:29.217134",
     "exception": false,
     "start_time": "2024-05-16T17:21:29.187247",
     "status": "completed"
    },
    "tags": []
   },
   "source": [
    "## Pass 3: Block on reverse Soundex of name"
   ]
  },
  {
   "cell_type": "code",
   "execution_count": 88,
   "id": "a05e24ef-2ae2-4ca7-8d92-05630a1d61d1",
   "metadata": {
    "execution": {
     "iopub.execute_input": "2024-05-16T17:21:29.278853Z",
     "iopub.status.busy": "2024-05-16T17:21:29.278207Z",
     "iopub.status.idle": "2024-05-16T17:21:30.216340Z",
     "shell.execute_reply": "2024-05-16T17:21:30.215322Z"
    },
    "papermill": {
     "duration": 0.97278,
     "end_time": "2024-05-16T17:21:30.219566",
     "exception": false,
     "start_time": "2024-05-16T17:21:29.246786",
     "status": "completed"
    },
    "tags": []
   },
   "outputs": [
    {
     "name": "stdout",
     "output_type": "stream",
     "text": [
      "Running reverse Soundex of name of dobsearch\n",
      "Files to link are 20,110 and 2,480 records\n"
     ]
    },
    {
     "name": "stdout",
     "output_type": "stream",
     "text": [
      "Number of pairs that will be compared: 51\n"
     ]
    },
    {
     "data": {
      "text/html": [
       "\n",
       "        <iframe\n",
       "            width=\"100%\"\n",
       "            height=\"1200\"\n",
       "            src=\"./splink_reports/small_sample/dobsearch__reverse_Soundex_of_name.html\"\n",
       "            frameborder=\"0\"\n",
       "            allowfullscreen\n",
       "            \n",
       "        ></iframe>\n",
       "        "
      ],
      "text/plain": [
       "<IPython.lib.display.IFrame at 0x7f51b95ede40>"
      ]
     },
     "metadata": {},
     "output_type": "display_data"
    },
    {
     "name": "stdout",
     "output_type": "stream",
     "text": [
      "Found 29 matches; 22.20% still eligible to match\n"
     ]
    }
   ],
   "source": [
    "person_linkage_cascade.run_matching_pass(\n",
    "    pass_name=\"reverse Soundex of name\",\n",
    "    blocking_columns=[\"first_name_reverse_soundex\", \"last_name_reverse_soundex\"],\n",
    ")"
   ]
  },
  {
   "cell_type": "markdown",
   "id": "f5a4da3d-c9c7-4c50-b409-0bf76920828f",
   "metadata": {
    "papermill": {
     "duration": 0.030235,
     "end_time": "2024-05-16T17:21:30.286455",
     "exception": false,
     "start_time": "2024-05-16T17:21:30.256220",
     "status": "completed"
    },
    "tags": []
   },
   "source": [
    "## Pass 4: Block on first two characters of first name and year of birth"
   ]
  },
  {
   "cell_type": "code",
   "execution_count": 89,
   "id": "19e39510-cabb-46a6-99f8-e1969a8eb364",
   "metadata": {
    "execution": {
     "iopub.execute_input": "2024-05-16T17:21:30.348935Z",
     "iopub.status.busy": "2024-05-16T17:21:30.348289Z",
     "iopub.status.idle": "2024-05-16T17:21:31.184838Z",
     "shell.execute_reply": "2024-05-16T17:21:31.183152Z"
    },
    "papermill": {
     "duration": 0.872569,
     "end_time": "2024-05-16T17:21:31.188820",
     "exception": false,
     "start_time": "2024-05-16T17:21:30.316251",
     "status": "completed"
    },
    "tags": []
   },
   "outputs": [
    {
     "name": "stdout",
     "output_type": "stream",
     "text": [
      "Running first two characters of first name and year of birth of dobsearch\n",
      "Files to link are 20,110 and 2,451 records\n"
     ]
    },
    {
     "name": "stdout",
     "output_type": "stream",
     "text": [
      "Number of pairs that will be compared: 305\n"
     ]
    },
    {
     "data": {
      "text/html": [
       "\n",
       "        <iframe\n",
       "            width=\"100%\"\n",
       "            height=\"1200\"\n",
       "            src=\"./splink_reports/small_sample/dobsearch__first_two_characters_of_first_name_and_year_of_birth.html\"\n",
       "            frameborder=\"0\"\n",
       "            allowfullscreen\n",
       "            \n",
       "        ></iframe>\n",
       "        "
      ],
      "text/plain": [
       "<IPython.lib.display.IFrame at 0x7f4f1c0c5840>"
      ]
     },
     "metadata": {},
     "output_type": "display_data"
    },
    {
     "name": "stdout",
     "output_type": "stream",
     "text": [
      "Found 177 matches; 20.59% still eligible to match\n"
     ]
    }
   ],
   "source": [
    "person_linkage_cascade.run_matching_pass(\n",
    "    pass_name=\"first two characters of first name and year of birth\",\n",
    "    blocking_columns=[\"first_name_2\", \"year_of_birth\"],\n",
    ")"
   ]
  },
  {
   "cell_type": "markdown",
   "id": "466e3db4-998e-40cd-9e33-ef6cf6e99b9b",
   "metadata": {
    "papermill": {
     "duration": 0.030034,
     "end_time": "2024-05-16T17:21:31.257107",
     "exception": false,
     "start_time": "2024-05-16T17:21:31.227073",
     "status": "completed"
    },
    "tags": []
   },
   "source": [
    "## Post-process and confirm PIKs"
   ]
  },
  {
   "cell_type": "code",
   "execution_count": 90,
   "id": "9581f811-9d21-449d-8682-97eb0ef0e493",
   "metadata": {
    "execution": {
     "iopub.execute_input": "2024-05-16T17:21:31.322485Z",
     "iopub.status.busy": "2024-05-16T17:21:31.321700Z",
     "iopub.status.idle": "2024-05-16T17:21:31.362421Z",
     "shell.execute_reply": "2024-05-16T17:21:31.361415Z"
    },
    "papermill": {
     "duration": 0.076955,
     "end_time": "2024-05-16T17:21:31.365570",
     "exception": false,
     "start_time": "2024-05-16T17:21:31.288615",
     "status": "completed"
    },
    "tags": []
   },
   "outputs": [
    {
     "name": "stdout",
     "output_type": "stream",
     "text": [
      "80 input records linked to deceased people, dropping links\n",
      "0 input records linked to multiple PIKs, dropping links\n"
     ]
    }
   ],
   "source": [
    "person_linkage_cascade.confirm_piks()"
   ]
  },
  {
   "cell_type": "code",
   "execution_count": 91,
   "id": "853bb87d-ac28-41b1-a661-63d38169615b",
   "metadata": {
    "execution": {
     "iopub.execute_input": "2024-05-16T17:21:31.435489Z",
     "iopub.status.busy": "2024-05-16T17:21:31.434845Z",
     "iopub.status.idle": "2024-05-16T17:21:31.453298Z",
     "shell.execute_reply": "2024-05-16T17:21:31.451318Z"
    },
    "papermill": {
     "duration": 0.052093,
     "end_time": "2024-05-16T17:21:31.455253",
     "exception": false,
     "start_time": "2024-05-16T17:21:31.403160",
     "status": "completed"
    },
    "tags": []
   },
   "outputs": [
    {
     "data": {
      "text/plain": [
       "module_name  pass_name                                           \n",
       "geosearch    house number and street name Soundex                    6569\n",
       "             some name and DOB information                           1152\n",
       "             geokey                                                   343\n",
       "namesearch   DOB and NYSIIS of name                                   217\n",
       "dobsearch    first two characters of first name and year of birth     168\n",
       "namesearch   DOB and initials                                         116\n",
       "             birthday and first two characters of name                 50\n",
       "dobsearch    reverse Soundex of name                                   27\n",
       "geosearch    house number and street name Soundex name switch          25\n",
       "namesearch   year of birth and first two characters of name            10\n",
       "dobsearch    initials name switch                                       5\n",
       "geosearch    geokey name switch                                         4\n",
       "dtype: int64"
      ]
     },
     "execution_count": 91,
     "metadata": {},
     "output_type": "execute_result"
    }
   ],
   "source": [
    "df_ops.compute(person_linkage_cascade.confirmed_piks.groupby([\"module_name\", \"pass_name\"]).size()).sort_values(ascending=False)"
   ]
  },
  {
   "cell_type": "markdown",
   "id": "58ab65b7-a7ff-46e9-bc54-397bdeb8f6e5",
   "metadata": {
    "papermill": {
     "duration": 0.030944,
     "end_time": "2024-05-16T17:21:31.520827",
     "exception": false,
     "start_time": "2024-05-16T17:21:31.489883",
     "status": "completed"
    },
    "tags": []
   },
   "source": [
    "# HHCompSearch\n",
    "\n",
    "Brown et al., p. 29:\n",
    "\n",
    "> ... the Household Composition search module, which requires at least one\n",
    "> person in the household of the unmatched person to have received a PIK.\n",
    "> The full set of unmatched records with historical name, DOB, sex, and address data from\n",
    "> households whose members with PIKs were observed in the past is created. The module\n",
    "> attempts to find a match to this universe based on name and DOB information.\n",
    "\n",
    "Wagner and Layne, p. 16:\n",
    "\n",
    "> For persons with a PIK in the eligible household, all of the geokeys from the PVS\n",
    "> GeoBase are extracted for each of these PIKs. The geokeys are unduplicated and all\n",
    "> persons are selected from the PVS GeoBase with these geokeys. Next, the program\n",
    "> removes all household members with a PIK, leaving the unPIKed persons in the\n",
    "> household. This becomes the reference file to search against. There are typically two\n",
    "> passes in this module. Records are blocked by MAFID, name, date of birth, and gender.\n",
    "\n",
    "I don't know of any list of passes in this module.\n",
    "Blocking on \"MAFID, name, date of birth, and gender\" seems like a lot for only\n",
    "two passes, especially given that we are only matching people within each eligible\n",
    "household.\n",
    "I'm actually a bit surprised there is any blocking at all, given how restrictive this\n",
    "module inherently is.\n",
    "I've split the difference here by creating two passes that are very permissive."
   ]
  },
  {
   "cell_type": "markdown",
   "id": "cdd285ed-2445-42d2-8942-3bb9d241dd16",
   "metadata": {
    "papermill": {
     "duration": 0.030714,
     "end_time": "2024-05-16T17:21:31.582718",
     "exception": false,
     "start_time": "2024-05-16T17:21:31.552004",
     "status": "completed"
    },
    "tags": []
   },
   "source": [
    "## Create the reference file"
   ]
  },
  {
   "cell_type": "code",
   "execution_count": 92,
   "id": "9793c25f-96a7-406f-b53b-ac15cc804b55",
   "metadata": {
    "execution": {
     "iopub.execute_input": "2024-05-16T17:21:31.647634Z",
     "iopub.status.busy": "2024-05-16T17:21:31.646784Z",
     "iopub.status.idle": "2024-05-16T17:21:31.660944Z",
     "shell.execute_reply": "2024-05-16T17:21:31.659316Z"
    },
    "papermill": {
     "duration": 0.049273,
     "end_time": "2024-05-16T17:21:31.662874",
     "exception": false,
     "start_time": "2024-05-16T17:21:31.613601",
     "status": "completed"
    },
    "tags": []
   },
   "outputs": [],
   "source": [
    "# TODO: As of now in pseudopeople, our only indicator in the Census data of household\n",
    "# is noiseless (ground truth).\n",
    "# Instead, we use geokey to approximate the household clustering information that would be\n",
    "# present in the real dataset.\n",
    "# We should switch to using a (presumably low-noise) household indicator when we have that.\n",
    "# NOTE: We use geokey_for_blocking instead of geokey to intentionally exclude the very\n",
    "# large households currently created by GQ in pseudopeople.\n",
    "pseudo_household_id = (\n",
    "    df_ops.drop_duplicates(census_2030[census_2030.geokey_for_blocking.notnull()][[\"geokey_for_blocking\"]])\n",
    "        .pipe(df_ops.add_unique_id_col, col_name=\"pseudo_household_id\")\n",
    ")"
   ]
  },
  {
   "cell_type": "code",
   "execution_count": 93,
   "id": "fb318684-15c2-4e12-857a-39cd92df6d03",
   "metadata": {
    "execution": {
     "iopub.execute_input": "2024-05-16T17:21:31.730829Z",
     "iopub.status.busy": "2024-05-16T17:21:31.730210Z",
     "iopub.status.idle": "2024-05-16T17:21:31.753799Z",
     "shell.execute_reply": "2024-05-16T17:21:31.752132Z"
    },
    "papermill": {
     "duration": 0.059959,
     "end_time": "2024-05-16T17:21:31.757044",
     "exception": false,
     "start_time": "2024-05-16T17:21:31.697085",
     "status": "completed"
    },
    "tags": []
   },
   "outputs": [],
   "source": [
    "census_2030 = df_ops.persist(census_2030.merge(pseudo_household_id, on=\"geokey_for_blocking\", how=\"left\"))"
   ]
  },
  {
   "cell_type": "code",
   "execution_count": 94,
   "id": "cb5088f0-7139-44a0-b701-6b50b103dbcf",
   "metadata": {
    "execution": {
     "iopub.execute_input": "2024-05-16T17:21:31.826555Z",
     "iopub.status.busy": "2024-05-16T17:21:31.825895Z",
     "iopub.status.idle": "2024-05-16T17:21:31.847163Z",
     "shell.execute_reply": "2024-05-16T17:21:31.845614Z"
    },
    "papermill": {
     "duration": 0.056409,
     "end_time": "2024-05-16T17:21:31.849741",
     "exception": false,
     "start_time": "2024-05-16T17:21:31.793332",
     "status": "completed"
    },
    "tags": []
   },
   "outputs": [],
   "source": [
    "piks_with_household = df_ops.persist(\n",
    "    census_2030[[\"pseudo_household_id\", \"record_id_raw_input_file\"]]\n",
    "        .merge(person_linkage_cascade.confirmed_piks, on=\"record_id_raw_input_file\", how=\"left\")\n",
    ")"
   ]
  },
  {
   "cell_type": "code",
   "execution_count": 95,
   "id": "b97d11a0-6ecd-4a41-9b94-606bbc45831a",
   "metadata": {
    "execution": {
     "iopub.execute_input": "2024-05-16T17:21:31.921039Z",
     "iopub.status.busy": "2024-05-16T17:21:31.919624Z",
     "iopub.status.idle": "2024-05-16T17:21:31.935010Z",
     "shell.execute_reply": "2024-05-16T17:21:31.933241Z"
    },
    "papermill": {
     "duration": 0.049629,
     "end_time": "2024-05-16T17:21:31.937109",
     "exception": false,
     "start_time": "2024-05-16T17:21:31.887480",
     "status": "completed"
    },
    "tags": []
   },
   "outputs": [],
   "source": [
    "piked_by_household = df_ops.groupby_agg_small_groups(\n",
    "    piks_with_household,\n",
    "    by=\"pseudo_household_id\",\n",
    "    agg_func=lambda x: x.pik.agg(['count', 'size'])\n",
    ").reset_index().rename(columns={'count': 'piked'}).assign(unpiked=lambda x: x['size'] - x['piked'])"
   ]
  },
  {
   "cell_type": "code",
   "execution_count": 96,
   "id": "02350ff8-890c-4d4f-a7c4-dd666e0af152",
   "metadata": {
    "execution": {
     "iopub.execute_input": "2024-05-16T17:21:32.005346Z",
     "iopub.status.busy": "2024-05-16T17:21:32.004603Z",
     "iopub.status.idle": "2024-05-16T17:21:32.020723Z",
     "shell.execute_reply": "2024-05-16T17:21:32.019492Z"
    },
    "papermill": {
     "duration": 0.050908,
     "end_time": "2024-05-16T17:21:32.022795",
     "exception": false,
     "start_time": "2024-05-16T17:21:31.971887",
     "status": "completed"
    },
    "tags": []
   },
   "outputs": [
    {
     "data": {
      "text/html": [
       "<div>\n",
       "<style scoped>\n",
       "    .dataframe tbody tr th:only-of-type {\n",
       "        vertical-align: middle;\n",
       "    }\n",
       "\n",
       "    .dataframe tbody tr th {\n",
       "        vertical-align: top;\n",
       "    }\n",
       "\n",
       "    .dataframe thead th {\n",
       "        text-align: right;\n",
       "    }\n",
       "</style>\n",
       "<table border=\"1\" class=\"dataframe\">\n",
       "  <thead>\n",
       "    <tr style=\"text-align: right;\">\n",
       "      <th></th>\n",
       "      <th>pseudo_household_id</th>\n",
       "    </tr>\n",
       "  </thead>\n",
       "  <tbody>\n",
       "    <tr>\n",
       "      <th>11</th>\n",
       "      <td>10382</td>\n",
       "    </tr>\n",
       "    <tr>\n",
       "      <th>21</th>\n",
       "      <td>10628</td>\n",
       "    </tr>\n",
       "    <tr>\n",
       "      <th>36</th>\n",
       "      <td>11010</td>\n",
       "    </tr>\n",
       "    <tr>\n",
       "      <th>44</th>\n",
       "      <td>1312</td>\n",
       "    </tr>\n",
       "    <tr>\n",
       "      <th>85</th>\n",
       "      <td>3559</td>\n",
       "    </tr>\n",
       "    <tr>\n",
       "      <th>90</th>\n",
       "      <td>3708</td>\n",
       "    </tr>\n",
       "    <tr>\n",
       "      <th>97</th>\n",
       "      <td>3972</td>\n",
       "    </tr>\n",
       "    <tr>\n",
       "      <th>100</th>\n",
       "      <td>4061</td>\n",
       "    </tr>\n",
       "    <tr>\n",
       "      <th>108</th>\n",
       "      <td>4660</td>\n",
       "    </tr>\n",
       "    <tr>\n",
       "      <th>113</th>\n",
       "      <td>4987</td>\n",
       "    </tr>\n",
       "    <tr>\n",
       "      <th>114</th>\n",
       "      <td>5011</td>\n",
       "    </tr>\n",
       "    <tr>\n",
       "      <th>118</th>\n",
       "      <td>5045</td>\n",
       "    </tr>\n",
       "    <tr>\n",
       "      <th>119</th>\n",
       "      <td>5051</td>\n",
       "    </tr>\n",
       "    <tr>\n",
       "      <th>165</th>\n",
       "      <td>6562</td>\n",
       "    </tr>\n",
       "    <tr>\n",
       "      <th>167</th>\n",
       "      <td>6601</td>\n",
       "    </tr>\n",
       "    <tr>\n",
       "      <th>177</th>\n",
       "      <td>699</td>\n",
       "    </tr>\n",
       "    <tr>\n",
       "      <th>200</th>\n",
       "      <td>7499</td>\n",
       "    </tr>\n",
       "    <tr>\n",
       "      <th>201</th>\n",
       "      <td>7517</td>\n",
       "    </tr>\n",
       "    <tr>\n",
       "      <th>206</th>\n",
       "      <td>7731</td>\n",
       "    </tr>\n",
       "    <tr>\n",
       "      <th>217</th>\n",
       "      <td>7930</td>\n",
       "    </tr>\n",
       "    <tr>\n",
       "      <th>229</th>\n",
       "      <td>8362</td>\n",
       "    </tr>\n",
       "    <tr>\n",
       "      <th>235</th>\n",
       "      <td>8460</td>\n",
       "    </tr>\n",
       "    <tr>\n",
       "      <th>247</th>\n",
       "      <td>8652</td>\n",
       "    </tr>\n",
       "    <tr>\n",
       "      <th>272</th>\n",
       "      <td>9540</td>\n",
       "    </tr>\n",
       "    <tr>\n",
       "      <th>280</th>\n",
       "      <td>9778</td>\n",
       "    </tr>\n",
       "  </tbody>\n",
       "</table>\n",
       "</div>"
      ],
      "text/plain": [
       "    pseudo_household_id\n",
       "11                10382\n",
       "21                10628\n",
       "36                11010\n",
       "44                 1312\n",
       "85                 3559\n",
       "90                 3708\n",
       "97                 3972\n",
       "100                4061\n",
       "108                4660\n",
       "113                4987\n",
       "114                5011\n",
       "118                5045\n",
       "119                5051\n",
       "165                6562\n",
       "167                6601\n",
       "177                 699\n",
       "200                7499\n",
       "201                7517\n",
       "206                7731\n",
       "217                7930\n",
       "229                8362\n",
       "235                8460\n",
       "247                8652\n",
       "272                9540\n",
       "280                9778"
      ]
     },
     "execution_count": 96,
     "metadata": {},
     "output_type": "execute_result"
    }
   ],
   "source": [
    "eligible_households = piked_by_household[(piked_by_household.piked > 0) & (piked_by_household.unpiked > 0)][['pseudo_household_id']]\n",
    "eligible_households"
   ]
  },
  {
   "cell_type": "code",
   "execution_count": 97,
   "id": "a671a0b0-8713-4e29-8db4-bd3a40162c10",
   "metadata": {
    "execution": {
     "iopub.execute_input": "2024-05-16T17:21:32.089517Z",
     "iopub.status.busy": "2024-05-16T17:21:32.088776Z",
     "iopub.status.idle": "2024-05-16T17:21:32.112060Z",
     "shell.execute_reply": "2024-05-16T17:21:32.110740Z"
    },
    "papermill": {
     "duration": 0.058887,
     "end_time": "2024-05-16T17:21:32.114609",
     "exception": false,
     "start_time": "2024-05-16T17:21:32.055722",
     "status": "completed"
    },
    "tags": []
   },
   "outputs": [
    {
     "data": {
      "text/html": [
       "<div>\n",
       "<style scoped>\n",
       "    .dataframe tbody tr th:only-of-type {\n",
       "        vertical-align: middle;\n",
       "    }\n",
       "\n",
       "    .dataframe tbody tr th {\n",
       "        vertical-align: top;\n",
       "    }\n",
       "\n",
       "    .dataframe thead th {\n",
       "        text-align: right;\n",
       "    }\n",
       "</style>\n",
       "<table border=\"1\" class=\"dataframe\">\n",
       "  <thead>\n",
       "    <tr style=\"text-align: right;\">\n",
       "      <th></th>\n",
       "      <th>pseudo_household_id</th>\n",
       "      <th>pik</th>\n",
       "    </tr>\n",
       "  </thead>\n",
       "  <tbody>\n",
       "    <tr>\n",
       "      <th>0</th>\n",
       "      <td>10382</td>\n",
       "      <td>97971</td>\n",
       "    </tr>\n",
       "    <tr>\n",
       "      <th>1</th>\n",
       "      <td>10382</td>\n",
       "      <td>99937</td>\n",
       "    </tr>\n",
       "    <tr>\n",
       "      <th>2</th>\n",
       "      <td>10382</td>\n",
       "      <td>105407</td>\n",
       "    </tr>\n",
       "    <tr>\n",
       "      <th>3</th>\n",
       "      <td>10628</td>\n",
       "      <td>101935</td>\n",
       "    </tr>\n",
       "    <tr>\n",
       "      <th>4</th>\n",
       "      <td>10628</td>\n",
       "      <td>107863</td>\n",
       "    </tr>\n",
       "    <tr>\n",
       "      <th>5</th>\n",
       "      <td>11010</td>\n",
       "      <td>92041</td>\n",
       "    </tr>\n",
       "    <tr>\n",
       "      <th>6</th>\n",
       "      <td>11010</td>\n",
       "      <td>103240</td>\n",
       "    </tr>\n",
       "    <tr>\n",
       "      <th>7</th>\n",
       "      <td>1312</td>\n",
       "      <td>102755</td>\n",
       "    </tr>\n",
       "    <tr>\n",
       "      <th>8</th>\n",
       "      <td>1312</td>\n",
       "      <td>98116</td>\n",
       "    </tr>\n",
       "    <tr>\n",
       "      <th>9</th>\n",
       "      <td>3559</td>\n",
       "      <td>94184</td>\n",
       "    </tr>\n",
       "    <tr>\n",
       "      <th>10</th>\n",
       "      <td>3559</td>\n",
       "      <td>100314</td>\n",
       "    </tr>\n",
       "    <tr>\n",
       "      <th>11</th>\n",
       "      <td>3708</td>\n",
       "      <td>95060</td>\n",
       "    </tr>\n",
       "    <tr>\n",
       "      <th>12</th>\n",
       "      <td>3708</td>\n",
       "      <td>95497</td>\n",
       "    </tr>\n",
       "    <tr>\n",
       "      <th>13</th>\n",
       "      <td>3972</td>\n",
       "      <td>94739</td>\n",
       "    </tr>\n",
       "    <tr>\n",
       "      <th>14</th>\n",
       "      <td>3972</td>\n",
       "      <td>90131</td>\n",
       "    </tr>\n",
       "    <tr>\n",
       "      <th>15</th>\n",
       "      <td>4061</td>\n",
       "      <td>90497</td>\n",
       "    </tr>\n",
       "    <tr>\n",
       "      <th>16</th>\n",
       "      <td>4061</td>\n",
       "      <td>96408</td>\n",
       "    </tr>\n",
       "    <tr>\n",
       "      <th>17</th>\n",
       "      <td>4660</td>\n",
       "      <td>90073</td>\n",
       "    </tr>\n",
       "    <tr>\n",
       "      <th>18</th>\n",
       "      <td>4660</td>\n",
       "      <td>90630</td>\n",
       "    </tr>\n",
       "    <tr>\n",
       "      <th>19</th>\n",
       "      <td>4987</td>\n",
       "      <td>104487</td>\n",
       "    </tr>\n",
       "    <tr>\n",
       "      <th>20</th>\n",
       "      <td>4987</td>\n",
       "      <td>104484</td>\n",
       "    </tr>\n",
       "    <tr>\n",
       "      <th>21</th>\n",
       "      <td>5011</td>\n",
       "      <td>93715</td>\n",
       "    </tr>\n",
       "    <tr>\n",
       "      <th>22</th>\n",
       "      <td>5045</td>\n",
       "      <td>98464</td>\n",
       "    </tr>\n",
       "    <tr>\n",
       "      <th>23</th>\n",
       "      <td>5051</td>\n",
       "      <td>90596</td>\n",
       "    </tr>\n",
       "    <tr>\n",
       "      <th>24</th>\n",
       "      <td>5051</td>\n",
       "      <td>90201</td>\n",
       "    </tr>\n",
       "    <tr>\n",
       "      <th>25</th>\n",
       "      <td>6562</td>\n",
       "      <td>89185</td>\n",
       "    </tr>\n",
       "    <tr>\n",
       "      <th>26</th>\n",
       "      <td>6562</td>\n",
       "      <td>95612</td>\n",
       "    </tr>\n",
       "    <tr>\n",
       "      <th>27</th>\n",
       "      <td>6601</td>\n",
       "      <td>95472</td>\n",
       "    </tr>\n",
       "    <tr>\n",
       "      <th>28</th>\n",
       "      <td>6601</td>\n",
       "      <td>101536</td>\n",
       "    </tr>\n",
       "    <tr>\n",
       "      <th>29</th>\n",
       "      <td>6601</td>\n",
       "      <td>103495</td>\n",
       "    </tr>\n",
       "    <tr>\n",
       "      <th>30</th>\n",
       "      <td>6601</td>\n",
       "      <td>103602</td>\n",
       "    </tr>\n",
       "    <tr>\n",
       "      <th>31</th>\n",
       "      <td>699</td>\n",
       "      <td>101265</td>\n",
       "    </tr>\n",
       "    <tr>\n",
       "      <th>32</th>\n",
       "      <td>7499</td>\n",
       "      <td>92996</td>\n",
       "    </tr>\n",
       "    <tr>\n",
       "      <th>33</th>\n",
       "      <td>7517</td>\n",
       "      <td>97615</td>\n",
       "    </tr>\n",
       "    <tr>\n",
       "      <th>34</th>\n",
       "      <td>7517</td>\n",
       "      <td>98950</td>\n",
       "    </tr>\n",
       "    <tr>\n",
       "      <th>35</th>\n",
       "      <td>7517</td>\n",
       "      <td>104786</td>\n",
       "    </tr>\n",
       "    <tr>\n",
       "      <th>36</th>\n",
       "      <td>7731</td>\n",
       "      <td>97923</td>\n",
       "    </tr>\n",
       "    <tr>\n",
       "      <th>37</th>\n",
       "      <td>7930</td>\n",
       "      <td>97924</td>\n",
       "    </tr>\n",
       "    <tr>\n",
       "      <th>38</th>\n",
       "      <td>7930</td>\n",
       "      <td>102236</td>\n",
       "    </tr>\n",
       "    <tr>\n",
       "      <th>39</th>\n",
       "      <td>8362</td>\n",
       "      <td>104704</td>\n",
       "    </tr>\n",
       "    <tr>\n",
       "      <th>40</th>\n",
       "      <td>8460</td>\n",
       "      <td>98870</td>\n",
       "    </tr>\n",
       "    <tr>\n",
       "      <th>41</th>\n",
       "      <td>8460</td>\n",
       "      <td>100487</td>\n",
       "    </tr>\n",
       "    <tr>\n",
       "      <th>42</th>\n",
       "      <td>8460</td>\n",
       "      <td>102782</td>\n",
       "    </tr>\n",
       "    <tr>\n",
       "      <th>43</th>\n",
       "      <td>8652</td>\n",
       "      <td>92722</td>\n",
       "    </tr>\n",
       "    <tr>\n",
       "      <th>44</th>\n",
       "      <td>9540</td>\n",
       "      <td>97499</td>\n",
       "    </tr>\n",
       "    <tr>\n",
       "      <th>45</th>\n",
       "      <td>9540</td>\n",
       "      <td>105785</td>\n",
       "    </tr>\n",
       "    <tr>\n",
       "      <th>46</th>\n",
       "      <td>9778</td>\n",
       "      <td>96952</td>\n",
       "    </tr>\n",
       "  </tbody>\n",
       "</table>\n",
       "</div>"
      ],
      "text/plain": [
       "   pseudo_household_id     pik\n",
       "0                10382   97971\n",
       "1                10382   99937\n",
       "2                10382  105407\n",
       "3                10628  101935\n",
       "4                10628  107863\n",
       "5                11010   92041\n",
       "6                11010  103240\n",
       "7                 1312  102755\n",
       "8                 1312   98116\n",
       "9                 3559   94184\n",
       "10                3559  100314\n",
       "11                3708   95060\n",
       "12                3708   95497\n",
       "13                3972   94739\n",
       "14                3972   90131\n",
       "15                4061   90497\n",
       "16                4061   96408\n",
       "17                4660   90073\n",
       "18                4660   90630\n",
       "19                4987  104487\n",
       "20                4987  104484\n",
       "21                5011   93715\n",
       "22                5045   98464\n",
       "23                5051   90596\n",
       "24                5051   90201\n",
       "25                6562   89185\n",
       "26                6562   95612\n",
       "27                6601   95472\n",
       "28                6601  101536\n",
       "29                6601  103495\n",
       "30                6601  103602\n",
       "31                 699  101265\n",
       "32                7499   92996\n",
       "33                7517   97615\n",
       "34                7517   98950\n",
       "35                7517  104786\n",
       "36                7731   97923\n",
       "37                7930   97924\n",
       "38                7930  102236\n",
       "39                8362  104704\n",
       "40                8460   98870\n",
       "41                8460  100487\n",
       "42                8460  102782\n",
       "43                8652   92722\n",
       "44                9540   97499\n",
       "45                9540  105785\n",
       "46                9778   96952"
      ]
     },
     "execution_count": 97,
     "metadata": {},
     "output_type": "execute_result"
    }
   ],
   "source": [
    "piks_by_eligible_household = df_ops.drop_duplicates(\n",
    "    eligible_households\n",
    "        .merge(piks_with_household[[\"pseudo_household_id\", \"pik\"]].dropna(subset=\"pik\"), on=\"pseudo_household_id\", how=\"inner\")\n",
    ")\n",
    "piks_by_eligible_household"
   ]
  },
  {
   "cell_type": "code",
   "execution_count": 98,
   "id": "0386f872-93a4-48b1-88bd-82db34a6df76",
   "metadata": {
    "execution": {
     "iopub.execute_input": "2024-05-16T17:21:32.186005Z",
     "iopub.status.busy": "2024-05-16T17:21:32.184449Z",
     "iopub.status.idle": "2024-05-16T17:21:32.209485Z",
     "shell.execute_reply": "2024-05-16T17:21:32.208340Z"
    },
    "papermill": {
     "duration": 0.061328,
     "end_time": "2024-05-16T17:21:32.212159",
     "exception": false,
     "start_time": "2024-05-16T17:21:32.150831",
     "status": "completed"
    },
    "tags": []
   },
   "outputs": [
    {
     "data": {
      "text/html": [
       "<div>\n",
       "<style scoped>\n",
       "    .dataframe tbody tr th:only-of-type {\n",
       "        vertical-align: middle;\n",
       "    }\n",
       "\n",
       "    .dataframe tbody tr th {\n",
       "        vertical-align: top;\n",
       "    }\n",
       "\n",
       "    .dataframe thead th {\n",
       "        text-align: right;\n",
       "    }\n",
       "</style>\n",
       "<table border=\"1\" class=\"dataframe\">\n",
       "  <thead>\n",
       "    <tr style=\"text-align: right;\">\n",
       "      <th></th>\n",
       "      <th>pseudo_household_id</th>\n",
       "      <th>geokey_for_blocking</th>\n",
       "    </tr>\n",
       "  </thead>\n",
       "  <tbody>\n",
       "    <tr>\n",
       "      <th>1</th>\n",
       "      <td>10628</td>\n",
       "      <td>2579 PINE GLEN CIRCLE UNIT 4 ANYTOWN WA 00000</td>\n",
       "    </tr>\n",
       "    <tr>\n",
       "      <th>3</th>\n",
       "      <td>11010</td>\n",
       "      <td>58-94 ATLANTA INYL AIRPLDT 3RD STORY ANYTON WA...</td>\n",
       "    </tr>\n",
       "    <tr>\n",
       "      <th>4</th>\n",
       "      <td>11010</td>\n",
       "      <td>58-94 ATLANTA INTL AIRPORT 3RD STORY ANYTOWN W...</td>\n",
       "    </tr>\n",
       "    <tr>\n",
       "      <th>5</th>\n",
       "      <td>1312</td>\n",
       "      <td>734 US HWY 27 APARTMENT 1 ANYTOWN WA 00000</td>\n",
       "    </tr>\n",
       "    <tr>\n",
       "      <th>7</th>\n",
       "      <td>3972</td>\n",
       "      <td>1706 BUDWIN LN # 901 ANYTOWN WA 00000</td>\n",
       "    </tr>\n",
       "    <tr>\n",
       "      <th>8</th>\n",
       "      <td>3972</td>\n",
       "      <td>1706 BUDWIN LN # 301 ANYTOWN WA 00000</td>\n",
       "    </tr>\n",
       "    <tr>\n",
       "      <th>10</th>\n",
       "      <td>4061</td>\n",
       "      <td>1512 ICHABOD CRANE CIRCEL APARTAMENTO 201 ANYT...</td>\n",
       "    </tr>\n",
       "    <tr>\n",
       "      <th>11</th>\n",
       "      <td>4061</td>\n",
       "      <td>7512 ICHABOD CRANE CIRCEL APARTAMENTO 201 ANYT...</td>\n",
       "    </tr>\n",
       "    <tr>\n",
       "      <th>12</th>\n",
       "      <td>4660</td>\n",
       "      <td>22948 CHESTNUT ST UNT # 3 ANYTKWN WA 00000</td>\n",
       "    </tr>\n",
       "    <tr>\n",
       "      <th>14</th>\n",
       "      <td>4660</td>\n",
       "      <td>22948 CHESTNUT ST UHT # 5 ANYTOWN WA 00000</td>\n",
       "    </tr>\n",
       "    <tr>\n",
       "      <th>15</th>\n",
       "      <td>4660</td>\n",
       "      <td>22948 CHESTNUT ST UNT # 3 ANYTOWN WA 00000</td>\n",
       "    </tr>\n",
       "    <tr>\n",
       "      <th>16</th>\n",
       "      <td>4660</td>\n",
       "      <td>22908 CHESTNUT ST UNT # 3 ANYTOWN WA 00000</td>\n",
       "    </tr>\n",
       "    <tr>\n",
       "      <th>17</th>\n",
       "      <td>4987</td>\n",
       "      <td>5020 ANNE AVE APT 387 ANYTOWN WA 00000</td>\n",
       "    </tr>\n",
       "    <tr>\n",
       "      <th>18</th>\n",
       "      <td>4987</td>\n",
       "      <td>1020 ANNE AVE APT 387 ANYTOWN NM 00000</td>\n",
       "    </tr>\n",
       "    <tr>\n",
       "      <th>20</th>\n",
       "      <td>4987</td>\n",
       "      <td>1020 ANNE AVE APT 387 ANYTOWN WV 00000</td>\n",
       "    </tr>\n",
       "    <tr>\n",
       "      <th>21</th>\n",
       "      <td>4987</td>\n",
       "      <td>1023 ANNE AVE APT 387 ANYTOWN WA 00000</td>\n",
       "    </tr>\n",
       "    <tr>\n",
       "      <th>22</th>\n",
       "      <td>4987</td>\n",
       "      <td>1520 ANNE AVE APT 387 ANYTOWN WA 00000</td>\n",
       "    </tr>\n",
       "    <tr>\n",
       "      <th>23</th>\n",
       "      <td>4987</td>\n",
       "      <td>1020 ANNE AVE APT 387 ANYTOWN WA 00000</td>\n",
       "    </tr>\n",
       "    <tr>\n",
       "      <th>24</th>\n",
       "      <td>5011</td>\n",
       "      <td>255 WOODFIELD BOULEVARD APT A ANYTOWN WA 00000</td>\n",
       "    </tr>\n",
       "    <tr>\n",
       "      <th>25</th>\n",
       "      <td>5045</td>\n",
       "      <td>717 MORRIS STREET APTMNT 97R ANYTOWN WA 00000</td>\n",
       "    </tr>\n",
       "    <tr>\n",
       "      <th>27</th>\n",
       "      <td>5051</td>\n",
       "      <td>1110 MOETA DR APT 42 ANYTOWN WA 00000</td>\n",
       "    </tr>\n",
       "    <tr>\n",
       "      <th>28</th>\n",
       "      <td>5051</td>\n",
       "      <td>1111 MOETA DR APT 42 ANYTOWN WA 00000</td>\n",
       "    </tr>\n",
       "    <tr>\n",
       "      <th>29</th>\n",
       "      <td>6562</td>\n",
       "      <td>4702 OXMOOR COURT APT 3 QMGTOWN WA 00000</td>\n",
       "    </tr>\n",
       "    <tr>\n",
       "      <th>31</th>\n",
       "      <td>6562</td>\n",
       "      <td>4702 OXMOOR COURT APT 3 ANYTOWN WA 00000</td>\n",
       "    </tr>\n",
       "    <tr>\n",
       "      <th>32</th>\n",
       "      <td>6562</td>\n",
       "      <td>4722 OXMOOR COURT APT 3 ANYTOWN WA 00000</td>\n",
       "    </tr>\n",
       "    <tr>\n",
       "      <th>36</th>\n",
       "      <td>6601</td>\n",
       "      <td>7 ACADEMY LN APT A ANYTOWN WA 00000</td>\n",
       "    </tr>\n",
       "    <tr>\n",
       "      <th>37</th>\n",
       "      <td>699</td>\n",
       "      <td>4727 SAINT JAMES PLACE UNIT 2008 ANYTOWN WA 00000</td>\n",
       "    </tr>\n",
       "    <tr>\n",
       "      <th>38</th>\n",
       "      <td>699</td>\n",
       "      <td>4727 SAINT JAMES PLACE UNIT 2008 ANITOWN WA 00000</td>\n",
       "    </tr>\n",
       "    <tr>\n",
       "      <th>39</th>\n",
       "      <td>699</td>\n",
       "      <td>2223 EFFIE RD NO G 88 ANYTOWN WA 00000</td>\n",
       "    </tr>\n",
       "    <tr>\n",
       "      <th>40</th>\n",
       "      <td>7499</td>\n",
       "      <td>637 PETUNIA LANE BASEMENT APTMNT R ANYTOWN WA ...</td>\n",
       "    </tr>\n",
       "    <tr>\n",
       "      <th>41</th>\n",
       "      <td>7517</td>\n",
       "      <td>29537 E BURTON AVE # 2 FLR ANYTOWN WA 202000</td>\n",
       "    </tr>\n",
       "    <tr>\n",
       "      <th>42</th>\n",
       "      <td>7517</td>\n",
       "      <td>29537 E BURTON AVE # 1 FLR ANYTOWN WA 00000</td>\n",
       "    </tr>\n",
       "    <tr>\n",
       "      <th>44</th>\n",
       "      <td>7517</td>\n",
       "      <td>29537 E BURTON AVE # 2 FLR ANYTOWN WA 00002</td>\n",
       "    </tr>\n",
       "    <tr>\n",
       "      <th>46</th>\n",
       "      <td>7517</td>\n",
       "      <td>29537 E BURTON AVE # 2 FLR ANYTOWN WA 00000</td>\n",
       "    </tr>\n",
       "    <tr>\n",
       "      <th>47</th>\n",
       "      <td>7731</td>\n",
       "      <td>11731 PENN AVE APT NO 202 ANYTOWN WA 00000</td>\n",
       "    </tr>\n",
       "    <tr>\n",
       "      <th>48</th>\n",
       "      <td>7731</td>\n",
       "      <td>11731 PENN AVE APT NO 502 ANYTOWN WA 00000</td>\n",
       "    </tr>\n",
       "    <tr>\n",
       "      <th>50</th>\n",
       "      <td>7930</td>\n",
       "      <td>1709 W 85TH PL APARTMENT 1 A ANYTOWN WA 00000</td>\n",
       "    </tr>\n",
       "    <tr>\n",
       "      <th>51</th>\n",
       "      <td>8362</td>\n",
       "      <td>9818 MEADOW WOOD DRIVE APTMNT # 205R ANYTOWN W...</td>\n",
       "    </tr>\n",
       "    <tr>\n",
       "      <th>54</th>\n",
       "      <td>8460</td>\n",
       "      <td>173 LOMBARD STREET APT NUMBER 566 ANYTOWN AZ 0...</td>\n",
       "    </tr>\n",
       "    <tr>\n",
       "      <th>55</th>\n",
       "      <td>8460</td>\n",
       "      <td>173 LOMBARD STREET APT NUMBER 566 ANYTOWN WA 0...</td>\n",
       "    </tr>\n",
       "    <tr>\n",
       "      <th>57</th>\n",
       "      <td>9540</td>\n",
       "      <td>1380 KODAK ST UNIT NO 110 ANYTOWN NJ 00000</td>\n",
       "    </tr>\n",
       "    <tr>\n",
       "      <th>58</th>\n",
       "      <td>9540</td>\n",
       "      <td>1380 KODAK ST UNIT NO 110 ANYTOWN WA 00000</td>\n",
       "    </tr>\n",
       "    <tr>\n",
       "      <th>59</th>\n",
       "      <td>9778</td>\n",
       "      <td>98908 NORTH HURSTBOURNE PKW APT # 14 B ANYTOWN...</td>\n",
       "    </tr>\n",
       "    <tr>\n",
       "      <th>60</th>\n",
       "      <td>9778</td>\n",
       "      <td>98908 NORTH HURSTBOURNE PKW APT # 14 B ANYTOWN...</td>\n",
       "    </tr>\n",
       "    <tr>\n",
       "      <th>61</th>\n",
       "      <td>9778</td>\n",
       "      <td>98908 NORTH HURSTBOURNE PKW APT # |4 B ANYTOWN...</td>\n",
       "    </tr>\n",
       "    <tr>\n",
       "      <th>62</th>\n",
       "      <td>9778</td>\n",
       "      <td>98908 NORTH HURSTBOURNE PKW APT # 14 B ANYTOWN...</td>\n",
       "    </tr>\n",
       "  </tbody>\n",
       "</table>\n",
       "</div>"
      ],
      "text/plain": [
       "   pseudo_household_id                                geokey_for_blocking\n",
       "1                10628      2579 PINE GLEN CIRCLE UNIT 4 ANYTOWN WA 00000\n",
       "3                11010  58-94 ATLANTA INYL AIRPLDT 3RD STORY ANYTON WA...\n",
       "4                11010  58-94 ATLANTA INTL AIRPORT 3RD STORY ANYTOWN W...\n",
       "5                 1312         734 US HWY 27 APARTMENT 1 ANYTOWN WA 00000\n",
       "7                 3972              1706 BUDWIN LN # 901 ANYTOWN WA 00000\n",
       "8                 3972              1706 BUDWIN LN # 301 ANYTOWN WA 00000\n",
       "10                4061  1512 ICHABOD CRANE CIRCEL APARTAMENTO 201 ANYT...\n",
       "11                4061  7512 ICHABOD CRANE CIRCEL APARTAMENTO 201 ANYT...\n",
       "12                4660         22948 CHESTNUT ST UNT # 3 ANYTKWN WA 00000\n",
       "14                4660         22948 CHESTNUT ST UHT # 5 ANYTOWN WA 00000\n",
       "15                4660         22948 CHESTNUT ST UNT # 3 ANYTOWN WA 00000\n",
       "16                4660         22908 CHESTNUT ST UNT # 3 ANYTOWN WA 00000\n",
       "17                4987             5020 ANNE AVE APT 387 ANYTOWN WA 00000\n",
       "18                4987             1020 ANNE AVE APT 387 ANYTOWN NM 00000\n",
       "20                4987             1020 ANNE AVE APT 387 ANYTOWN WV 00000\n",
       "21                4987             1023 ANNE AVE APT 387 ANYTOWN WA 00000\n",
       "22                4987             1520 ANNE AVE APT 387 ANYTOWN WA 00000\n",
       "23                4987             1020 ANNE AVE APT 387 ANYTOWN WA 00000\n",
       "24                5011     255 WOODFIELD BOULEVARD APT A ANYTOWN WA 00000\n",
       "25                5045      717 MORRIS STREET APTMNT 97R ANYTOWN WA 00000\n",
       "27                5051              1110 MOETA DR APT 42 ANYTOWN WA 00000\n",
       "28                5051              1111 MOETA DR APT 42 ANYTOWN WA 00000\n",
       "29                6562           4702 OXMOOR COURT APT 3 QMGTOWN WA 00000\n",
       "31                6562           4702 OXMOOR COURT APT 3 ANYTOWN WA 00000\n",
       "32                6562           4722 OXMOOR COURT APT 3 ANYTOWN WA 00000\n",
       "36                6601                7 ACADEMY LN APT A ANYTOWN WA 00000\n",
       "37                 699  4727 SAINT JAMES PLACE UNIT 2008 ANYTOWN WA 00000\n",
       "38                 699  4727 SAINT JAMES PLACE UNIT 2008 ANITOWN WA 00000\n",
       "39                 699             2223 EFFIE RD NO G 88 ANYTOWN WA 00000\n",
       "40                7499  637 PETUNIA LANE BASEMENT APTMNT R ANYTOWN WA ...\n",
       "41                7517       29537 E BURTON AVE # 2 FLR ANYTOWN WA 202000\n",
       "42                7517        29537 E BURTON AVE # 1 FLR ANYTOWN WA 00000\n",
       "44                7517        29537 E BURTON AVE # 2 FLR ANYTOWN WA 00002\n",
       "46                7517        29537 E BURTON AVE # 2 FLR ANYTOWN WA 00000\n",
       "47                7731         11731 PENN AVE APT NO 202 ANYTOWN WA 00000\n",
       "48                7731         11731 PENN AVE APT NO 502 ANYTOWN WA 00000\n",
       "50                7930      1709 W 85TH PL APARTMENT 1 A ANYTOWN WA 00000\n",
       "51                8362  9818 MEADOW WOOD DRIVE APTMNT # 205R ANYTOWN W...\n",
       "54                8460  173 LOMBARD STREET APT NUMBER 566 ANYTOWN AZ 0...\n",
       "55                8460  173 LOMBARD STREET APT NUMBER 566 ANYTOWN WA 0...\n",
       "57                9540         1380 KODAK ST UNIT NO 110 ANYTOWN NJ 00000\n",
       "58                9540         1380 KODAK ST UNIT NO 110 ANYTOWN WA 00000\n",
       "59                9778  98908 NORTH HURSTBOURNE PKW APT # 14 B ANYTOWN...\n",
       "60                9778  98908 NORTH HURSTBOURNE PKW APT # 14 B ANYTOWN...\n",
       "61                9778  98908 NORTH HURSTBOURNE PKW APT # |4 B ANYTOWN...\n",
       "62                9778  98908 NORTH HURSTBOURNE PKW APT # 14 B ANYTOWN..."
      ]
     },
     "execution_count": 98,
     "metadata": {},
     "output_type": "execute_result"
    }
   ],
   "source": [
    "geokeys_by_eligible_household = (\n",
    "    piks_by_eligible_household\n",
    "        .merge(df_ops.drop_duplicates(geobase_reference_file[[\"pik\", \"geokey_for_blocking\"]].dropna(subset=\"geokey_for_blocking\")), on=\"pik\")\n",
    "        .drop(columns=[\"pik\"])\n",
    "        .pipe(df_ops.drop_duplicates)\n",
    ")\n",
    "geokeys_by_eligible_household"
   ]
  },
  {
   "cell_type": "code",
   "execution_count": 99,
   "id": "2034b8a2-a959-41a6-bce5-b31b3f7bad62",
   "metadata": {
    "execution": {
     "iopub.execute_input": "2024-05-16T17:21:32.282336Z",
     "iopub.status.busy": "2024-05-16T17:21:32.281576Z",
     "iopub.status.idle": "2024-05-16T17:21:32.302046Z",
     "shell.execute_reply": "2024-05-16T17:21:32.300513Z"
    },
    "papermill": {
     "duration": 0.055711,
     "end_time": "2024-05-16T17:21:32.304418",
     "exception": false,
     "start_time": "2024-05-16T17:21:32.248707",
     "status": "completed"
    },
    "tags": []
   },
   "outputs": [],
   "source": [
    "# Apparently, we exclude from the reference file all *reference file* records with a PIK that\n",
    "# has already been assigned to an input file row.\n",
    "# Doing this goes against the normal assumption, which is that reference file records can match\n",
    "# to multiple input file records.\n",
    "# This is really surprising to me, but it seems clear from \"the program\n",
    "# removes all household members with a PIK, leaving the unPIKed persons in the\n",
    "# household. This becomes the reference file to search against.\" (Wagner and Layne, p. 16)\n",
    "eligible_geobase_reference_file_records = (\n",
    "    geobase_reference_file[geobase_reference_file.geokey_for_blocking.notnull()]\n",
    "        .merge(df_ops.drop_duplicates(person_linkage_cascade.confirmed_piks[['pik']]).assign(confirmed_pik_dummy=1), on='pik', how='left')\n",
    "        .pipe(lambda df: df[df.confirmed_pik_dummy.isnull()])\n",
    "        .drop(columns=['confirmed_pik_dummy'])\n",
    ")"
   ]
  },
  {
   "cell_type": "code",
   "execution_count": 100,
   "id": "60c5a0f4-6220-4d29-a604-52b930c3198b",
   "metadata": {
    "execution": {
     "iopub.execute_input": "2024-05-16T17:21:32.374544Z",
     "iopub.status.busy": "2024-05-16T17:21:32.373932Z",
     "iopub.status.idle": "2024-05-16T17:21:32.404159Z",
     "shell.execute_reply": "2024-05-16T17:21:32.402451Z"
    },
    "papermill": {
     "duration": 0.066956,
     "end_time": "2024-05-16T17:21:32.407061",
     "exception": false,
     "start_time": "2024-05-16T17:21:32.340105",
     "status": "completed"
    },
    "tags": []
   },
   "outputs": [
    {
     "data": {
      "text/html": [
       "<div>\n",
       "<style scoped>\n",
       "    .dataframe tbody tr th:only-of-type {\n",
       "        vertical-align: middle;\n",
       "    }\n",
       "\n",
       "    .dataframe tbody tr th {\n",
       "        vertical-align: top;\n",
       "    }\n",
       "\n",
       "    .dataframe thead th {\n",
       "        text-align: right;\n",
       "    }\n",
       "</style>\n",
       "<table border=\"1\" class=\"dataframe\">\n",
       "  <thead>\n",
       "    <tr style=\"text-align: right;\">\n",
       "      <th></th>\n",
       "      <th>pseudo_household_id</th>\n",
       "      <th>geokey_for_blocking</th>\n",
       "      <th>record_id</th>\n",
       "      <th>ssn</th>\n",
       "      <th>first_name</th>\n",
       "      <th>middle_name</th>\n",
       "      <th>last_name</th>\n",
       "      <th>street_number</th>\n",
       "      <th>street_name</th>\n",
       "      <th>unit_number</th>\n",
       "      <th>...</th>\n",
       "      <th>last_name_12</th>\n",
       "      <th>middle_initial</th>\n",
       "      <th>first_name_1</th>\n",
       "      <th>last_name_1</th>\n",
       "      <th>first_name_2</th>\n",
       "      <th>last_name_2</th>\n",
       "      <th>first_name_3</th>\n",
       "      <th>last_name_3</th>\n",
       "      <th>street_name_for_blocking_soundex</th>\n",
       "      <th>zip3</th>\n",
       "    </tr>\n",
       "  </thead>\n",
       "  <tbody>\n",
       "    <tr>\n",
       "      <th>0</th>\n",
       "      <td>10628</td>\n",
       "      <td>2579 PINE GLEN CIRCLE UNIT 4 ANYTOWN WA 00000</td>\n",
       "      <td>simulated_geobase_reference_file_13697</td>\n",
       "      <td>669-52-0079</td>\n",
       "      <td>Carlos</td>\n",
       "      <td>Keith</td>\n",
       "      <td>Sterman</td>\n",
       "      <td>2579</td>\n",
       "      <td>PINE GLEN CIRCLE</td>\n",
       "      <td>UNIT 4</td>\n",
       "      <td>...</td>\n",
       "      <td>Sterman</td>\n",
       "      <td>K</td>\n",
       "      <td>C</td>\n",
       "      <td>S</td>\n",
       "      <td>Ca</td>\n",
       "      <td>St</td>\n",
       "      <td>Car</td>\n",
       "      <td>Ste</td>\n",
       "      <td>P524</td>\n",
       "      <td>000</td>\n",
       "    </tr>\n",
       "    <tr>\n",
       "      <th>1</th>\n",
       "      <td>10628</td>\n",
       "      <td>2579 PINE GLEN CIRCLE UNIT 4 ANYTOWN WA 00000</td>\n",
       "      <td>simulated_geobase_reference_file_26770</td>\n",
       "      <td>161-06-9252</td>\n",
       "      <td>Efrain</td>\n",
       "      <td>Paul</td>\n",
       "      <td>Mcdonald</td>\n",
       "      <td>2579</td>\n",
       "      <td>PINE GLEN CIRCLE</td>\n",
       "      <td>UNIT 4</td>\n",
       "      <td>...</td>\n",
       "      <td>Mcdonald</td>\n",
       "      <td>P</td>\n",
       "      <td>E</td>\n",
       "      <td>M</td>\n",
       "      <td>Ef</td>\n",
       "      <td>Mc</td>\n",
       "      <td>Efr</td>\n",
       "      <td>Mcd</td>\n",
       "      <td>P524</td>\n",
       "      <td>000</td>\n",
       "    </tr>\n",
       "    <tr>\n",
       "      <th>2</th>\n",
       "      <td>10628</td>\n",
       "      <td>2579 PINE GLEN CIRCLE UNIT 4 ANYTOWN WA 00000</td>\n",
       "      <td>simulated_geobase_reference_file_29546</td>\n",
       "      <td>397-26-1628</td>\n",
       "      <td>Frederick</td>\n",
       "      <td>Roger</td>\n",
       "      <td>Sterman</td>\n",
       "      <td>2579</td>\n",
       "      <td>PINE GLEN CIRCLE</td>\n",
       "      <td>UNIT 4</td>\n",
       "      <td>...</td>\n",
       "      <td>Sterman</td>\n",
       "      <td>R</td>\n",
       "      <td>F</td>\n",
       "      <td>S</td>\n",
       "      <td>Fr</td>\n",
       "      <td>St</td>\n",
       "      <td>Fre</td>\n",
       "      <td>Ste</td>\n",
       "      <td>P524</td>\n",
       "      <td>000</td>\n",
       "    </tr>\n",
       "    <tr>\n",
       "      <th>3</th>\n",
       "      <td>11010</td>\n",
       "      <td>58-94 ATLANTA INTL AIRPORT 3RD STORY ANYTOWN W...</td>\n",
       "      <td>simulated_geobase_reference_file_26701</td>\n",
       "      <td>186-33-8877</td>\n",
       "      <td>Elliana</td>\n",
       "      <td>Sarai</td>\n",
       "      <td>Vitanza</td>\n",
       "      <td>58-94</td>\n",
       "      <td>ATLANTA INTL AIRPORT</td>\n",
       "      <td>3RD STORY</td>\n",
       "      <td>...</td>\n",
       "      <td>Vitanza</td>\n",
       "      <td>S</td>\n",
       "      <td>E</td>\n",
       "      <td>V</td>\n",
       "      <td>El</td>\n",
       "      <td>Vi</td>\n",
       "      <td>Ell</td>\n",
       "      <td>Vit</td>\n",
       "      <td>A345</td>\n",
       "      <td>000</td>\n",
       "    </tr>\n",
       "    <tr>\n",
       "      <th>4</th>\n",
       "      <td>3972</td>\n",
       "      <td>1706 BUDWIN LN # 301 ANYTOWN WA 00000</td>\n",
       "      <td>simulated_geobase_reference_file_8525</td>\n",
       "      <td>422-94-4065</td>\n",
       "      <td>Christopher</td>\n",
       "      <td>John</td>\n",
       "      <td>Anonymous</td>\n",
       "      <td>1706</td>\n",
       "      <td>BUDWIN LN</td>\n",
       "      <td># 301</td>\n",
       "      <td>...</td>\n",
       "      <td>Anonymous</td>\n",
       "      <td>J</td>\n",
       "      <td>C</td>\n",
       "      <td>A</td>\n",
       "      <td>Ch</td>\n",
       "      <td>An</td>\n",
       "      <td>Chr</td>\n",
       "      <td>Ano</td>\n",
       "      <td>B354</td>\n",
       "      <td>000</td>\n",
       "    </tr>\n",
       "    <tr>\n",
       "      <th>5</th>\n",
       "      <td>4061</td>\n",
       "      <td>7512 ICHABOD CRANE CIRCEL APARTAMENTO 201 ANYT...</td>\n",
       "      <td>simulated_geobase_reference_file_2274</td>\n",
       "      <td>325-01-2475</td>\n",
       "      <td>Elizabeth</td>\n",
       "      <td>Millie</td>\n",
       "      <td>Jarrett</td>\n",
       "      <td>7512</td>\n",
       "      <td>ICHABOD CRANE CIRCEL</td>\n",
       "      <td>APARTAMENTO 201</td>\n",
       "      <td>...</td>\n",
       "      <td>Jarrett</td>\n",
       "      <td>M</td>\n",
       "      <td>E</td>\n",
       "      <td>J</td>\n",
       "      <td>El</td>\n",
       "      <td>Ja</td>\n",
       "      <td>Eli</td>\n",
       "      <td>Jar</td>\n",
       "      <td>I213</td>\n",
       "      <td>000</td>\n",
       "    </tr>\n",
       "    <tr>\n",
       "      <th>6</th>\n",
       "      <td>4660</td>\n",
       "      <td>22948 CHESTNUT ST UNT # 3 ANYTOWN WA 00000</td>\n",
       "      <td>simulated_geobase_reference_file_32028</td>\n",
       "      <td>920-92-2810</td>\n",
       "      <td>Jeffery</td>\n",
       "      <td>D</td>\n",
       "      <td>Armstrong</td>\n",
       "      <td>22948</td>\n",
       "      <td>CHESTNUT ST</td>\n",
       "      <td>UNT # 3</td>\n",
       "      <td>...</td>\n",
       "      <td>Armstrong</td>\n",
       "      <td>D</td>\n",
       "      <td>J</td>\n",
       "      <td>A</td>\n",
       "      <td>Je</td>\n",
       "      <td>Ar</td>\n",
       "      <td>Jef</td>\n",
       "      <td>Arm</td>\n",
       "      <td>C235</td>\n",
       "      <td>000</td>\n",
       "    </tr>\n",
       "    <tr>\n",
       "      <th>7</th>\n",
       "      <td>4660</td>\n",
       "      <td>22948 CHESTNUT ST UNT # 3 ANYTOWN WA 00000</td>\n",
       "      <td>simulated_geobase_reference_file_32221</td>\n",
       "      <td>920-92-2810</td>\n",
       "      <td>Jeffery</td>\n",
       "      <td>D</td>\n",
       "      <td>Arms</td>\n",
       "      <td>22948</td>\n",
       "      <td>CHESTNUT ST</td>\n",
       "      <td>UNT # 3</td>\n",
       "      <td>...</td>\n",
       "      <td>Arms</td>\n",
       "      <td>D</td>\n",
       "      <td>J</td>\n",
       "      <td>A</td>\n",
       "      <td>Je</td>\n",
       "      <td>Ar</td>\n",
       "      <td>Jef</td>\n",
       "      <td>Arm</td>\n",
       "      <td>C235</td>\n",
       "      <td>000</td>\n",
       "    </tr>\n",
       "    <tr>\n",
       "      <th>8</th>\n",
       "      <td>4660</td>\n",
       "      <td>22948 CHESTNUT ST UNT # 3 ANYTOWN WA 00000</td>\n",
       "      <td>simulated_geobase_reference_file_32476</td>\n",
       "      <td>920-92-2810</td>\n",
       "      <td>Gentleman Of</td>\n",
       "      <td>D</td>\n",
       "      <td>Armstrong</td>\n",
       "      <td>22948</td>\n",
       "      <td>CHESTNUT ST</td>\n",
       "      <td>UNT # 3</td>\n",
       "      <td>...</td>\n",
       "      <td>Armstrong</td>\n",
       "      <td>D</td>\n",
       "      <td>G</td>\n",
       "      <td>A</td>\n",
       "      <td>Ge</td>\n",
       "      <td>Ar</td>\n",
       "      <td>Gen</td>\n",
       "      <td>Arm</td>\n",
       "      <td>C235</td>\n",
       "      <td>000</td>\n",
       "    </tr>\n",
       "    <tr>\n",
       "      <th>9</th>\n",
       "      <td>4660</td>\n",
       "      <td>22948 CHESTNUT ST UNT # 3 ANYTOWN WA 00000</td>\n",
       "      <td>simulated_geobase_reference_file_32840</td>\n",
       "      <td>920-95-2810</td>\n",
       "      <td>Jeffery</td>\n",
       "      <td>D</td>\n",
       "      <td>Armstrong</td>\n",
       "      <td>22948</td>\n",
       "      <td>CHESTNUT ST</td>\n",
       "      <td>UNT # 3</td>\n",
       "      <td>...</td>\n",
       "      <td>Armstrong</td>\n",
       "      <td>D</td>\n",
       "      <td>J</td>\n",
       "      <td>A</td>\n",
       "      <td>Je</td>\n",
       "      <td>Ar</td>\n",
       "      <td>Jef</td>\n",
       "      <td>Arm</td>\n",
       "      <td>C235</td>\n",
       "      <td>000</td>\n",
       "    </tr>\n",
       "    <tr>\n",
       "      <th>10</th>\n",
       "      <td>4987</td>\n",
       "      <td>1020 ANNE AVE APT 387 ANYTOWN WA 00000</td>\n",
       "      <td>simulated_geobase_reference_file_26365</td>\n",
       "      <td>737-19-5287</td>\n",
       "      <td>Tessa</td>\n",
       "      <td>Nathalie</td>\n",
       "      <td>Valenzuela</td>\n",
       "      <td>1020</td>\n",
       "      <td>ANNE AVE</td>\n",
       "      <td>APT 387</td>\n",
       "      <td>...</td>\n",
       "      <td>Valenzuela</td>\n",
       "      <td>N</td>\n",
       "      <td>T</td>\n",
       "      <td>V</td>\n",
       "      <td>Te</td>\n",
       "      <td>Va</td>\n",
       "      <td>Tes</td>\n",
       "      <td>Val</td>\n",
       "      <td>A510</td>\n",
       "      <td>000</td>\n",
       "    </tr>\n",
       "    <tr>\n",
       "      <th>11</th>\n",
       "      <td>5011</td>\n",
       "      <td>255 WOODFIELD BOULEVARD APT A ANYTOWN WA 00000</td>\n",
       "      <td>simulated_geobase_reference_file_4050</td>\n",
       "      <td>881-07-0500</td>\n",
       "      <td>Diana</td>\n",
       "      <td>Roxanne</td>\n",
       "      <td>Richter</td>\n",
       "      <td>255</td>\n",
       "      <td>WOODFIELD BOULEVARD</td>\n",
       "      <td>APT A</td>\n",
       "      <td>...</td>\n",
       "      <td>Richter</td>\n",
       "      <td>R</td>\n",
       "      <td>D</td>\n",
       "      <td>R</td>\n",
       "      <td>Di</td>\n",
       "      <td>Ri</td>\n",
       "      <td>Dia</td>\n",
       "      <td>Ric</td>\n",
       "      <td>W314</td>\n",
       "      <td>000</td>\n",
       "    </tr>\n",
       "    <tr>\n",
       "      <th>12</th>\n",
       "      <td>5011</td>\n",
       "      <td>255 WOODFIELD BOULEVARD APT A ANYTOWN WA 00000</td>\n",
       "      <td>simulated_geobase_reference_file_23523</td>\n",
       "      <td>226-76-8851</td>\n",
       "      <td>Omar</td>\n",
       "      <td>Logan</td>\n",
       "      <td>Freeman</td>\n",
       "      <td>255</td>\n",
       "      <td>WOODFIELD BOULEVARD</td>\n",
       "      <td>APT A</td>\n",
       "      <td>...</td>\n",
       "      <td>Freeman</td>\n",
       "      <td>L</td>\n",
       "      <td>O</td>\n",
       "      <td>F</td>\n",
       "      <td>Om</td>\n",
       "      <td>Fr</td>\n",
       "      <td>Oma</td>\n",
       "      <td>Fre</td>\n",
       "      <td>W314</td>\n",
       "      <td>000</td>\n",
       "    </tr>\n",
       "    <tr>\n",
       "      <th>13</th>\n",
       "      <td>6562</td>\n",
       "      <td>4702 OXMOOR COURT APT 3 ANYTOWN WA 00000</td>\n",
       "      <td>simulated_geobase_reference_file_15082</td>\n",
       "      <td>847-23-0318</td>\n",
       "      <td>Derick</td>\n",
       "      <td>Justin</td>\n",
       "      <td>Almeida</td>\n",
       "      <td>4702</td>\n",
       "      <td>OXMOOR COURT</td>\n",
       "      <td>APT 3</td>\n",
       "      <td>...</td>\n",
       "      <td>Almeida</td>\n",
       "      <td>J</td>\n",
       "      <td>D</td>\n",
       "      <td>A</td>\n",
       "      <td>De</td>\n",
       "      <td>Al</td>\n",
       "      <td>Der</td>\n",
       "      <td>Alm</td>\n",
       "      <td>O256</td>\n",
       "      <td>000</td>\n",
       "    </tr>\n",
       "    <tr>\n",
       "      <th>14</th>\n",
       "      <td>6601</td>\n",
       "      <td>7 ACADEMY LN APT A ANYTOWN WA 00000</td>\n",
       "      <td>simulated_geobase_reference_file_6900</td>\n",
       "      <td>759-16-2441</td>\n",
       "      <td>Francisco</td>\n",
       "      <td>Albert</td>\n",
       "      <td>Wise</td>\n",
       "      <td>7</td>\n",
       "      <td>ACADEMY LN</td>\n",
       "      <td>APT A</td>\n",
       "      <td>...</td>\n",
       "      <td>Wise</td>\n",
       "      <td>A</td>\n",
       "      <td>F</td>\n",
       "      <td>W</td>\n",
       "      <td>Fr</td>\n",
       "      <td>Wi</td>\n",
       "      <td>Fra</td>\n",
       "      <td>Wis</td>\n",
       "      <td>A235</td>\n",
       "      <td>000</td>\n",
       "    </tr>\n",
       "    <tr>\n",
       "      <th>15</th>\n",
       "      <td>699</td>\n",
       "      <td>2223 EFFIE RD NO G 88 ANYTOWN WA 00000</td>\n",
       "      <td>simulated_geobase_reference_file_1025</td>\n",
       "      <td>546-75-1847</td>\n",
       "      <td>Joseph</td>\n",
       "      <td>Christopher</td>\n",
       "      <td>Gleeson</td>\n",
       "      <td>2223</td>\n",
       "      <td>EFFIE RD</td>\n",
       "      <td>NO G 88</td>\n",
       "      <td>...</td>\n",
       "      <td>Gleeson</td>\n",
       "      <td>C</td>\n",
       "      <td>J</td>\n",
       "      <td>G</td>\n",
       "      <td>Jo</td>\n",
       "      <td>Gl</td>\n",
       "      <td>Jos</td>\n",
       "      <td>Gle</td>\n",
       "      <td>E163</td>\n",
       "      <td>000</td>\n",
       "    </tr>\n",
       "    <tr>\n",
       "      <th>16</th>\n",
       "      <td>7499</td>\n",
       "      <td>637 PETUNIA LANE BASEMENT APTMNT R ANYTOWN WA ...</td>\n",
       "      <td>simulated_geobase_reference_file_5979</td>\n",
       "      <td>225-13-5809</td>\n",
       "      <td>Richard</td>\n",
       "      <td>Richard</td>\n",
       "      <td>Nelson</td>\n",
       "      <td>637</td>\n",
       "      <td>PETUNIA LANE</td>\n",
       "      <td>BASEMENT APTMNT R</td>\n",
       "      <td>...</td>\n",
       "      <td>Nelson</td>\n",
       "      <td>R</td>\n",
       "      <td>R</td>\n",
       "      <td>N</td>\n",
       "      <td>Ri</td>\n",
       "      <td>Ne</td>\n",
       "      <td>Ric</td>\n",
       "      <td>Nel</td>\n",
       "      <td>P354</td>\n",
       "      <td>000</td>\n",
       "    </tr>\n",
       "    <tr>\n",
       "      <th>17</th>\n",
       "      <td>7517</td>\n",
       "      <td>29537 E BURTON AVE # 2 FLR ANYTOWN WA 00000</td>\n",
       "      <td>simulated_geobase_reference_file_23553</td>\n",
       "      <td>204-34-0803</td>\n",
       "      <td>Daniel</td>\n",
       "      <td>Dylan</td>\n",
       "      <td>Warrick</td>\n",
       "      <td>29537</td>\n",
       "      <td>E BURTON AVE</td>\n",
       "      <td># 2 FLR</td>\n",
       "      <td>...</td>\n",
       "      <td>Warrick</td>\n",
       "      <td>D</td>\n",
       "      <td>D</td>\n",
       "      <td>W</td>\n",
       "      <td>Da</td>\n",
       "      <td>Wa</td>\n",
       "      <td>Dan</td>\n",
       "      <td>War</td>\n",
       "      <td>E163</td>\n",
       "      <td>000</td>\n",
       "    </tr>\n",
       "    <tr>\n",
       "      <th>18</th>\n",
       "      <td>7731</td>\n",
       "      <td>11731 PENN AVE APT NO 502 ANYTOWN WA 00000</td>\n",
       "      <td>simulated_geobase_reference_file_6523</td>\n",
       "      <td>405-80-3706</td>\n",
       "      <td>Stacey</td>\n",
       "      <td>Sharon</td>\n",
       "      <td>Hvll</td>\n",
       "      <td>11731</td>\n",
       "      <td>PENN AVE</td>\n",
       "      <td>APT NO 502</td>\n",
       "      <td>...</td>\n",
       "      <td>Hvll</td>\n",
       "      <td>S</td>\n",
       "      <td>S</td>\n",
       "      <td>H</td>\n",
       "      <td>St</td>\n",
       "      <td>Hv</td>\n",
       "      <td>Sta</td>\n",
       "      <td>Hvl</td>\n",
       "      <td>P510</td>\n",
       "      <td>000</td>\n",
       "    </tr>\n",
       "    <tr>\n",
       "      <th>19</th>\n",
       "      <td>7731</td>\n",
       "      <td>11731 PENN AVE APT NO 502 ANYTOWN WA 00000</td>\n",
       "      <td>simulated_geobase_reference_file_14986</td>\n",
       "      <td>360-15-2906</td>\n",
       "      <td>Benjamin</td>\n",
       "      <td>Stefan</td>\n",
       "      <td>Mcdonough</td>\n",
       "      <td>11731</td>\n",
       "      <td>PENN AVE</td>\n",
       "      <td>APT NO 502</td>\n",
       "      <td>...</td>\n",
       "      <td>Mcdonough</td>\n",
       "      <td>S</td>\n",
       "      <td>B</td>\n",
       "      <td>M</td>\n",
       "      <td>Be</td>\n",
       "      <td>Mc</td>\n",
       "      <td>Ben</td>\n",
       "      <td>Mcd</td>\n",
       "      <td>P510</td>\n",
       "      <td>000</td>\n",
       "    </tr>\n",
       "    <tr>\n",
       "      <th>20</th>\n",
       "      <td>8362</td>\n",
       "      <td>9818 MEADOW WOOD DRIVE APTMNT # 205R ANYTOWN W...</td>\n",
       "      <td>simulated_geobase_reference_file_32151</td>\n",
       "      <td>936-96-6135</td>\n",
       "      <td>Lindsey</td>\n",
       "      <td>M</td>\n",
       "      <td>Uddi</td>\n",
       "      <td>9818</td>\n",
       "      <td>MEADOW WOOD DRIVE</td>\n",
       "      <td>APTMNT # 205R</td>\n",
       "      <td>...</td>\n",
       "      <td>Uddi</td>\n",
       "      <td>M</td>\n",
       "      <td>L</td>\n",
       "      <td>U</td>\n",
       "      <td>Li</td>\n",
       "      <td>Ud</td>\n",
       "      <td>Lin</td>\n",
       "      <td>Udd</td>\n",
       "      <td>M333</td>\n",
       "      <td>000</td>\n",
       "    </tr>\n",
       "    <tr>\n",
       "      <th>21</th>\n",
       "      <td>8362</td>\n",
       "      <td>9818 MEADOW WOOD DRIVE APTMNT # 205R ANYTOWN W...</td>\n",
       "      <td>simulated_geobase_reference_file_32377</td>\n",
       "      <td>936-96-6135</td>\n",
       "      <td>Lindsey</td>\n",
       "      <td>M</td>\n",
       "      <td>Uddin</td>\n",
       "      <td>9818</td>\n",
       "      <td>MEADOW WOOD DRIVE</td>\n",
       "      <td>APTMNT # 205R</td>\n",
       "      <td>...</td>\n",
       "      <td>Uddin</td>\n",
       "      <td>M</td>\n",
       "      <td>L</td>\n",
       "      <td>U</td>\n",
       "      <td>Li</td>\n",
       "      <td>Ud</td>\n",
       "      <td>Lin</td>\n",
       "      <td>Udd</td>\n",
       "      <td>M333</td>\n",
       "      <td>000</td>\n",
       "    </tr>\n",
       "    <tr>\n",
       "      <th>22</th>\n",
       "      <td>8460</td>\n",
       "      <td>173 LOMBARD STREET APT NUMBER 566 ANYTOWN WA 0...</td>\n",
       "      <td>simulated_geobase_reference_file_25870</td>\n",
       "      <td>663-59-6175</td>\n",
       "      <td>Kit</td>\n",
       "      <td>Theodore</td>\n",
       "      <td>Flores</td>\n",
       "      <td>173</td>\n",
       "      <td>LOMBARD STREET</td>\n",
       "      <td>APT NUMBER 566</td>\n",
       "      <td>...</td>\n",
       "      <td>Flores</td>\n",
       "      <td>T</td>\n",
       "      <td>K</td>\n",
       "      <td>F</td>\n",
       "      <td>Ki</td>\n",
       "      <td>Fl</td>\n",
       "      <td>Kit</td>\n",
       "      <td>Flo</td>\n",
       "      <td>L516</td>\n",
       "      <td>000</td>\n",
       "    </tr>\n",
       "    <tr>\n",
       "      <th>23</th>\n",
       "      <td>9778</td>\n",
       "      <td>98908 NORTH HURSTBOURNE PKW APT # 14 B ANYTOWN...</td>\n",
       "      <td>simulated_geobase_reference_file_5401</td>\n",
       "      <td>333-93-3305</td>\n",
       "      <td>Patty</td>\n",
       "      <td>Norma</td>\n",
       "      <td>Bow</td>\n",
       "      <td>98908</td>\n",
       "      <td>NORTH HURSTBOURNE PKW</td>\n",
       "      <td>APT # 14 B</td>\n",
       "      <td>...</td>\n",
       "      <td>Bow</td>\n",
       "      <td>N</td>\n",
       "      <td>P</td>\n",
       "      <td>B</td>\n",
       "      <td>Pa</td>\n",
       "      <td>Bo</td>\n",
       "      <td>Pat</td>\n",
       "      <td>Bow</td>\n",
       "      <td>N636</td>\n",
       "      <td>000</td>\n",
       "    </tr>\n",
       "  </tbody>\n",
       "</table>\n",
       "<p>24 rows × 32 columns</p>\n",
       "</div>"
      ],
      "text/plain": [
       "   pseudo_household_id                                geokey_for_blocking  \\\n",
       "0                10628      2579 PINE GLEN CIRCLE UNIT 4 ANYTOWN WA 00000   \n",
       "1                10628      2579 PINE GLEN CIRCLE UNIT 4 ANYTOWN WA 00000   \n",
       "2                10628      2579 PINE GLEN CIRCLE UNIT 4 ANYTOWN WA 00000   \n",
       "3                11010  58-94 ATLANTA INTL AIRPORT 3RD STORY ANYTOWN W...   \n",
       "4                 3972              1706 BUDWIN LN # 301 ANYTOWN WA 00000   \n",
       "5                 4061  7512 ICHABOD CRANE CIRCEL APARTAMENTO 201 ANYT...   \n",
       "6                 4660         22948 CHESTNUT ST UNT # 3 ANYTOWN WA 00000   \n",
       "7                 4660         22948 CHESTNUT ST UNT # 3 ANYTOWN WA 00000   \n",
       "8                 4660         22948 CHESTNUT ST UNT # 3 ANYTOWN WA 00000   \n",
       "9                 4660         22948 CHESTNUT ST UNT # 3 ANYTOWN WA 00000   \n",
       "10                4987             1020 ANNE AVE APT 387 ANYTOWN WA 00000   \n",
       "11                5011     255 WOODFIELD BOULEVARD APT A ANYTOWN WA 00000   \n",
       "12                5011     255 WOODFIELD BOULEVARD APT A ANYTOWN WA 00000   \n",
       "13                6562           4702 OXMOOR COURT APT 3 ANYTOWN WA 00000   \n",
       "14                6601                7 ACADEMY LN APT A ANYTOWN WA 00000   \n",
       "15                 699             2223 EFFIE RD NO G 88 ANYTOWN WA 00000   \n",
       "16                7499  637 PETUNIA LANE BASEMENT APTMNT R ANYTOWN WA ...   \n",
       "17                7517        29537 E BURTON AVE # 2 FLR ANYTOWN WA 00000   \n",
       "18                7731         11731 PENN AVE APT NO 502 ANYTOWN WA 00000   \n",
       "19                7731         11731 PENN AVE APT NO 502 ANYTOWN WA 00000   \n",
       "20                8362  9818 MEADOW WOOD DRIVE APTMNT # 205R ANYTOWN W...   \n",
       "21                8362  9818 MEADOW WOOD DRIVE APTMNT # 205R ANYTOWN W...   \n",
       "22                8460  173 LOMBARD STREET APT NUMBER 566 ANYTOWN WA 0...   \n",
       "23                9778  98908 NORTH HURSTBOURNE PKW APT # 14 B ANYTOWN...   \n",
       "\n",
       "                                 record_id          ssn    first_name  \\\n",
       "0   simulated_geobase_reference_file_13697  669-52-0079        Carlos   \n",
       "1   simulated_geobase_reference_file_26770  161-06-9252        Efrain   \n",
       "2   simulated_geobase_reference_file_29546  397-26-1628     Frederick   \n",
       "3   simulated_geobase_reference_file_26701  186-33-8877       Elliana   \n",
       "4    simulated_geobase_reference_file_8525  422-94-4065   Christopher   \n",
       "5    simulated_geobase_reference_file_2274  325-01-2475     Elizabeth   \n",
       "6   simulated_geobase_reference_file_32028  920-92-2810       Jeffery   \n",
       "7   simulated_geobase_reference_file_32221  920-92-2810       Jeffery   \n",
       "8   simulated_geobase_reference_file_32476  920-92-2810  Gentleman Of   \n",
       "9   simulated_geobase_reference_file_32840  920-95-2810       Jeffery   \n",
       "10  simulated_geobase_reference_file_26365  737-19-5287         Tessa   \n",
       "11   simulated_geobase_reference_file_4050  881-07-0500         Diana   \n",
       "12  simulated_geobase_reference_file_23523  226-76-8851          Omar   \n",
       "13  simulated_geobase_reference_file_15082  847-23-0318        Derick   \n",
       "14   simulated_geobase_reference_file_6900  759-16-2441     Francisco   \n",
       "15   simulated_geobase_reference_file_1025  546-75-1847        Joseph   \n",
       "16   simulated_geobase_reference_file_5979  225-13-5809       Richard   \n",
       "17  simulated_geobase_reference_file_23553  204-34-0803        Daniel   \n",
       "18   simulated_geobase_reference_file_6523  405-80-3706        Stacey   \n",
       "19  simulated_geobase_reference_file_14986  360-15-2906      Benjamin   \n",
       "20  simulated_geobase_reference_file_32151  936-96-6135       Lindsey   \n",
       "21  simulated_geobase_reference_file_32377  936-96-6135       Lindsey   \n",
       "22  simulated_geobase_reference_file_25870  663-59-6175           Kit   \n",
       "23   simulated_geobase_reference_file_5401  333-93-3305         Patty   \n",
       "\n",
       "    middle_name   last_name street_number            street_name  \\\n",
       "0         Keith     Sterman          2579       PINE GLEN CIRCLE   \n",
       "1          Paul    Mcdonald          2579       PINE GLEN CIRCLE   \n",
       "2         Roger     Sterman          2579       PINE GLEN CIRCLE   \n",
       "3         Sarai     Vitanza         58-94   ATLANTA INTL AIRPORT   \n",
       "4          John   Anonymous          1706              BUDWIN LN   \n",
       "5        Millie     Jarrett          7512   ICHABOD CRANE CIRCEL   \n",
       "6             D   Armstrong         22948            CHESTNUT ST   \n",
       "7             D        Arms         22948            CHESTNUT ST   \n",
       "8             D   Armstrong         22948            CHESTNUT ST   \n",
       "9             D   Armstrong         22948            CHESTNUT ST   \n",
       "10     Nathalie  Valenzuela          1020               ANNE AVE   \n",
       "11      Roxanne     Richter           255    WOODFIELD BOULEVARD   \n",
       "12        Logan     Freeman           255    WOODFIELD BOULEVARD   \n",
       "13       Justin     Almeida          4702           OXMOOR COURT   \n",
       "14       Albert        Wise             7             ACADEMY LN   \n",
       "15  Christopher     Gleeson          2223               EFFIE RD   \n",
       "16      Richard      Nelson           637           PETUNIA LANE   \n",
       "17        Dylan     Warrick         29537           E BURTON AVE   \n",
       "18       Sharon        Hvll         11731               PENN AVE   \n",
       "19       Stefan   Mcdonough         11731               PENN AVE   \n",
       "20            M        Uddi          9818      MEADOW WOOD DRIVE   \n",
       "21            M       Uddin          9818      MEADOW WOOD DRIVE   \n",
       "22     Theodore      Flores           173         LOMBARD STREET   \n",
       "23        Norma         Bow         98908  NORTH HURSTBOURNE PKW   \n",
       "\n",
       "          unit_number  ... last_name_12 middle_initial first_name_1  \\\n",
       "0              UNIT 4  ...      Sterman              K            C   \n",
       "1              UNIT 4  ...     Mcdonald              P            E   \n",
       "2              UNIT 4  ...      Sterman              R            F   \n",
       "3           3RD STORY  ...      Vitanza              S            E   \n",
       "4               # 301  ...    Anonymous              J            C   \n",
       "5     APARTAMENTO 201  ...      Jarrett              M            E   \n",
       "6             UNT # 3  ...    Armstrong              D            J   \n",
       "7             UNT # 3  ...         Arms              D            J   \n",
       "8             UNT # 3  ...    Armstrong              D            G   \n",
       "9             UNT # 3  ...    Armstrong              D            J   \n",
       "10            APT 387  ...   Valenzuela              N            T   \n",
       "11              APT A  ...      Richter              R            D   \n",
       "12              APT A  ...      Freeman              L            O   \n",
       "13              APT 3  ...      Almeida              J            D   \n",
       "14              APT A  ...         Wise              A            F   \n",
       "15            NO G 88  ...      Gleeson              C            J   \n",
       "16  BASEMENT APTMNT R  ...       Nelson              R            R   \n",
       "17            # 2 FLR  ...      Warrick              D            D   \n",
       "18         APT NO 502  ...         Hvll              S            S   \n",
       "19         APT NO 502  ...    Mcdonough              S            B   \n",
       "20      APTMNT # 205R  ...         Uddi              M            L   \n",
       "21      APTMNT # 205R  ...        Uddin              M            L   \n",
       "22     APT NUMBER 566  ...       Flores              T            K   \n",
       "23         APT # 14 B  ...          Bow              N            P   \n",
       "\n",
       "   last_name_1 first_name_2  last_name_2  first_name_3  last_name_3  \\\n",
       "0            S           Ca           St           Car          Ste   \n",
       "1            M           Ef           Mc           Efr          Mcd   \n",
       "2            S           Fr           St           Fre          Ste   \n",
       "3            V           El           Vi           Ell          Vit   \n",
       "4            A           Ch           An           Chr          Ano   \n",
       "5            J           El           Ja           Eli          Jar   \n",
       "6            A           Je           Ar           Jef          Arm   \n",
       "7            A           Je           Ar           Jef          Arm   \n",
       "8            A           Ge           Ar           Gen          Arm   \n",
       "9            A           Je           Ar           Jef          Arm   \n",
       "10           V           Te           Va           Tes          Val   \n",
       "11           R           Di           Ri           Dia          Ric   \n",
       "12           F           Om           Fr           Oma          Fre   \n",
       "13           A           De           Al           Der          Alm   \n",
       "14           W           Fr           Wi           Fra          Wis   \n",
       "15           G           Jo           Gl           Jos          Gle   \n",
       "16           N           Ri           Ne           Ric          Nel   \n",
       "17           W           Da           Wa           Dan          War   \n",
       "18           H           St           Hv           Sta          Hvl   \n",
       "19           M           Be           Mc           Ben          Mcd   \n",
       "20           U           Li           Ud           Lin          Udd   \n",
       "21           U           Li           Ud           Lin          Udd   \n",
       "22           F           Ki           Fl           Kit          Flo   \n",
       "23           B           Pa           Bo           Pat          Bow   \n",
       "\n",
       "   street_name_for_blocking_soundex zip3  \n",
       "0                              P524  000  \n",
       "1                              P524  000  \n",
       "2                              P524  000  \n",
       "3                              A345  000  \n",
       "4                              B354  000  \n",
       "5                              I213  000  \n",
       "6                              C235  000  \n",
       "7                              C235  000  \n",
       "8                              C235  000  \n",
       "9                              C235  000  \n",
       "10                             A510  000  \n",
       "11                             W314  000  \n",
       "12                             W314  000  \n",
       "13                             O256  000  \n",
       "14                             A235  000  \n",
       "15                             E163  000  \n",
       "16                             P354  000  \n",
       "17                             E163  000  \n",
       "18                             P510  000  \n",
       "19                             P510  000  \n",
       "20                             M333  000  \n",
       "21                             M333  000  \n",
       "22                             L516  000  \n",
       "23                             N636  000  \n",
       "\n",
       "[24 rows x 32 columns]"
      ]
     },
     "execution_count": 100,
     "metadata": {},
     "output_type": "execute_result"
    }
   ],
   "source": [
    "hhcomp_reference_file = df_ops.persist(geokeys_by_eligible_household.merge(\n",
    "    eligible_geobase_reference_file_records,\n",
    "    on=\"geokey_for_blocking\",\n",
    "))\n",
    "hhcomp_reference_file"
   ]
  },
  {
   "cell_type": "code",
   "execution_count": 101,
   "id": "ce26ecbb-d8ff-4ac5-bffa-6d21e8dc3cf9",
   "metadata": {
    "execution": {
     "iopub.execute_input": "2024-05-16T17:21:32.479035Z",
     "iopub.status.busy": "2024-05-16T17:21:32.477950Z",
     "iopub.status.idle": "2024-05-16T17:21:32.489842Z",
     "shell.execute_reply": "2024-05-16T17:21:32.487771Z"
    },
    "papermill": {
     "duration": 0.049049,
     "end_time": "2024-05-16T17:21:32.492438",
     "exception": false,
     "start_time": "2024-05-16T17:21:32.443389",
     "status": "completed"
    },
    "tags": []
   },
   "outputs": [
    {
     "data": {
      "text/plain": [
       "24"
      ]
     },
     "execution_count": 101,
     "metadata": {},
     "output_type": "execute_result"
    }
   ],
   "source": [
    "len(hhcomp_reference_file)"
   ]
  },
  {
   "cell_type": "code",
   "execution_count": 102,
   "id": "fa0a1a66-1c18-48ad-a76f-11150f71a0bb",
   "metadata": {
    "execution": {
     "iopub.execute_input": "2024-05-16T17:21:32.564343Z",
     "iopub.status.busy": "2024-05-16T17:21:32.562591Z",
     "iopub.status.idle": "2024-05-16T17:21:32.603200Z",
     "shell.execute_reply": "2024-05-16T17:21:32.602460Z"
    },
    "papermill": {
     "duration": 0.078161,
     "end_time": "2024-05-16T17:21:32.606622",
     "exception": false,
     "start_time": "2024-05-16T17:21:32.528461",
     "status": "completed"
    },
    "tags": []
   },
   "outputs": [],
   "source": [
    "person_linkage_cascade.start_module(\n",
    "    name=\"hhcompsearch\",\n",
    "    reference_file=hhcomp_reference_file,\n",
    "    reference_file_name=\"hhcomp_reference_file\",\n",
    "    cut_columns=[\"pseudo_household_id\"],\n",
    "    # HACK: How else do we deal with the fact that pseudo_household_id\n",
    "    # isn't used for matching?\n",
    "    bayes_factor_cut_columns=1_000,\n",
    "    matching_columns=[\n",
    "        \"first_name_15\",\n",
    "        \"last_name_12\",\n",
    "        \"middle_initial\",\n",
    "        \"day_of_birth\",\n",
    "        \"month_of_birth\",\n",
    "        \"year_of_birth\",\n",
    "    ],\n",
    ")"
   ]
  },
  {
   "cell_type": "markdown",
   "id": "a86727cf-b024-4caf-a610-6f7950faec2d",
   "metadata": {
    "papermill": {
     "duration": 0.032091,
     "end_time": "2024-05-16T17:21:32.678777",
     "exception": false,
     "start_time": "2024-05-16T17:21:32.646686",
     "status": "completed"
    },
    "tags": []
   },
   "source": [
    "## Pass 1: Block on initials"
   ]
  },
  {
   "cell_type": "code",
   "execution_count": 103,
   "id": "83fbf88d-044e-4764-a049-ad6c4520bd7f",
   "metadata": {
    "execution": {
     "iopub.execute_input": "2024-05-16T17:21:32.747041Z",
     "iopub.status.busy": "2024-05-16T17:21:32.745093Z",
     "iopub.status.idle": "2024-05-16T17:21:33.688662Z",
     "shell.execute_reply": "2024-05-16T17:21:33.687861Z"
    },
    "papermill": {
     "duration": 0.981517,
     "end_time": "2024-05-16T17:21:33.692302",
     "exception": false,
     "start_time": "2024-05-16T17:21:32.710785",
     "status": "completed"
    },
    "tags": []
   },
   "outputs": [
    {
     "name": "stdout",
     "output_type": "stream",
     "text": [
      "Running initials of hhcompsearch\n",
      "Files to link are 24 and 2,353 records\n",
      "Number of pairs that will be compared: 12\n"
     ]
    },
    {
     "data": {
      "text/html": [
       "\n",
       "        <iframe\n",
       "            width=\"100%\"\n",
       "            height=\"1200\"\n",
       "            src=\"./splink_reports/small_sample/hhcompsearch__initials.html\"\n",
       "            frameborder=\"0\"\n",
       "            allowfullscreen\n",
       "            \n",
       "        ></iframe>\n",
       "        "
      ],
      "text/plain": [
       "<IPython.lib.display.IFrame at 0x7f4eea31b190>"
      ]
     },
     "metadata": {},
     "output_type": "display_data"
    },
    {
     "name": "stdout",
     "output_type": "stream",
     "text": [
      "Found 11 matches; 21.23% still eligible to match\n"
     ]
    }
   ],
   "source": [
    "person_linkage_cascade.run_matching_pass(\n",
    "    pass_name=\"initials\",\n",
    "    blocking_columns=[\"first_name_1\", \"last_name_1\"],\n",
    ")"
   ]
  },
  {
   "cell_type": "markdown",
   "id": "ca08637b-760c-4633-b0c4-23a6d4c01dd1",
   "metadata": {
    "papermill": {
     "duration": 0.033702,
     "end_time": "2024-05-16T17:21:33.766413",
     "exception": false,
     "start_time": "2024-05-16T17:21:33.732711",
     "status": "completed"
    },
    "tags": []
   },
   "source": [
    "## Pass 2: Block on year of birth"
   ]
  },
  {
   "cell_type": "code",
   "execution_count": 104,
   "id": "fccbc8e1-230c-4b59-95b4-e8ba97d566a3",
   "metadata": {
    "execution": {
     "iopub.execute_input": "2024-05-16T17:21:33.835037Z",
     "iopub.status.busy": "2024-05-16T17:21:33.833544Z",
     "iopub.status.idle": "2024-05-16T17:21:34.600584Z",
     "shell.execute_reply": "2024-05-16T17:21:34.598829Z"
    },
    "papermill": {
     "duration": 0.805461,
     "end_time": "2024-05-16T17:21:34.604198",
     "exception": false,
     "start_time": "2024-05-16T17:21:33.798737",
     "status": "completed"
    },
    "tags": []
   },
   "outputs": [
    {
     "name": "stdout",
     "output_type": "stream",
     "text": [
      "Running year of birth of hhcompsearch\n",
      "Files to link are 24 and 2,344 records\n"
     ]
    },
    {
     "name": "stdout",
     "output_type": "stream",
     "text": [
      "Number of pairs that will be compared: 3\n"
     ]
    },
    {
     "data": {
      "text/html": [
       "\n",
       "        <iframe\n",
       "            width=\"100%\"\n",
       "            height=\"1200\"\n",
       "            src=\"./splink_reports/small_sample/hhcompsearch__year_of_birth.html\"\n",
       "            frameborder=\"0\"\n",
       "            allowfullscreen\n",
       "            \n",
       "        ></iframe>\n",
       "        "
      ],
      "text/plain": [
       "<IPython.lib.display.IFrame at 0x7f4f1c0b6380>"
      ]
     },
     "metadata": {},
     "output_type": "display_data"
    },
    {
     "name": "stdout",
     "output_type": "stream",
     "text": [
      "Found 3 matches; 21.21% still eligible to match\n"
     ]
    }
   ],
   "source": [
    "person_linkage_cascade.run_matching_pass(\n",
    "    pass_name=\"year of birth\",\n",
    "    blocking_columns=[\"year_of_birth\"],\n",
    ")"
   ]
  },
  {
   "cell_type": "markdown",
   "id": "d9bd99a1-3174-435f-bd22-49ffa06ec1d6",
   "metadata": {
    "papermill": {
     "duration": 0.033188,
     "end_time": "2024-05-16T17:21:34.675535",
     "exception": false,
     "start_time": "2024-05-16T17:21:34.642347",
     "status": "completed"
    },
    "tags": []
   },
   "source": [
    "## Post-process and confirm PIKs"
   ]
  },
  {
   "cell_type": "code",
   "execution_count": 105,
   "id": "9d61a681-a87d-4a4a-a89e-146b044fd22e",
   "metadata": {
    "execution": {
     "iopub.execute_input": "2024-05-16T17:21:34.744898Z",
     "iopub.status.busy": "2024-05-16T17:21:34.743101Z",
     "iopub.status.idle": "2024-05-16T17:21:34.785105Z",
     "shell.execute_reply": "2024-05-16T17:21:34.783829Z"
    },
    "papermill": {
     "duration": 0.080149,
     "end_time": "2024-05-16T17:21:34.788211",
     "exception": false,
     "start_time": "2024-05-16T17:21:34.708062",
     "status": "completed"
    },
    "tags": []
   },
   "outputs": [
    {
     "name": "stdout",
     "output_type": "stream",
     "text": [
      "3 input records linked to deceased people, dropping links\n",
      "2 input records linked to multiple PIKs, dropping links\n"
     ]
    }
   ],
   "source": [
    "person_linkage_cascade.confirm_piks()"
   ]
  },
  {
   "cell_type": "code",
   "execution_count": 106,
   "id": "8f147e2d-7510-4aad-bc30-1bbda2b4091f",
   "metadata": {
    "execution": {
     "iopub.execute_input": "2024-05-16T17:21:34.861902Z",
     "iopub.status.busy": "2024-05-16T17:21:34.860457Z",
     "iopub.status.idle": "2024-05-16T17:21:34.877795Z",
     "shell.execute_reply": "2024-05-16T17:21:34.876191Z"
    },
    "papermill": {
     "duration": 0.053483,
     "end_time": "2024-05-16T17:21:34.879602",
     "exception": false,
     "start_time": "2024-05-16T17:21:34.826119",
     "status": "completed"
    },
    "tags": []
   },
   "outputs": [
    {
     "data": {
      "text/plain": [
       "module_name   pass_name                                           \n",
       "geosearch     house number and street name Soundex                    6569\n",
       "              some name and DOB information                           1152\n",
       "              geokey                                                   343\n",
       "namesearch    DOB and NYSIIS of name                                   217\n",
       "dobsearch     first two characters of first name and year of birth     168\n",
       "namesearch    DOB and initials                                         116\n",
       "              birthday and first two characters of name                 50\n",
       "dobsearch     reverse Soundex of name                                   27\n",
       "geosearch     house number and street name Soundex name switch          25\n",
       "namesearch    year of birth and first two characters of name            10\n",
       "hhcompsearch  initials                                                   5\n",
       "dobsearch     initials name switch                                       5\n",
       "geosearch     geokey name switch                                         4\n",
       "hhcompsearch  year of birth                                              1\n",
       "dtype: int64"
      ]
     },
     "execution_count": 106,
     "metadata": {},
     "output_type": "execute_result"
    }
   ],
   "source": [
    "df_ops.compute(person_linkage_cascade.confirmed_piks.groupby([\"module_name\", \"pass_name\"]).size()).sort_values(ascending=False)"
   ]
  },
  {
   "cell_type": "markdown",
   "id": "fc0ba651-913d-4eb4-9d3a-e391b9efc8d8",
   "metadata": {
    "papermill": {
     "duration": 0.033086,
     "end_time": "2024-05-16T17:21:35.004227",
     "exception": false,
     "start_time": "2024-05-16T17:21:34.971141",
     "status": "completed"
    },
    "tags": []
   },
   "source": [
    "# Resulting PIKs"
   ]
  },
  {
   "cell_type": "code",
   "execution_count": 107,
   "id": "c7a239d1-e1d8-435d-9af5-7c71ba3d64d1",
   "metadata": {
    "execution": {
     "iopub.execute_input": "2024-05-16T17:21:35.073374Z",
     "iopub.status.busy": "2024-05-16T17:21:35.071910Z",
     "iopub.status.idle": "2024-05-16T17:21:35.088785Z",
     "shell.execute_reply": "2024-05-16T17:21:35.087444Z"
    },
    "papermill": {
     "duration": 0.053742,
     "end_time": "2024-05-16T17:21:35.090886",
     "exception": false,
     "start_time": "2024-05-16T17:21:35.037144",
     "status": "completed"
    },
    "tags": []
   },
   "outputs": [],
   "source": [
    "pik_values = df_ops.drop_duplicates(\n",
    "    person_linkage_cascade.confirmed_piks\n",
    "        .rename(columns={\"record_id_raw_input_file\": \"record_id\"})\n",
    "        [[\"record_id\", \"pik\"]]\n",
    ")"
   ]
  },
  {
   "cell_type": "code",
   "execution_count": 108,
   "id": "e9271823-d2b3-4f41-9d77-9ad5bb117397",
   "metadata": {
    "execution": {
     "iopub.execute_input": "2024-05-16T17:21:35.164613Z",
     "iopub.status.busy": "2024-05-16T17:21:35.163987Z",
     "iopub.status.idle": "2024-05-16T17:21:35.207284Z",
     "shell.execute_reply": "2024-05-16T17:21:35.206355Z"
    },
    "papermill": {
     "duration": 0.082649,
     "end_time": "2024-05-16T17:21:35.211172",
     "exception": false,
     "start_time": "2024-05-16T17:21:35.128523",
     "status": "completed"
    },
    "tags": []
   },
   "outputs": [
    {
     "data": {
      "text/html": [
       "<div>\n",
       "<style scoped>\n",
       "    .dataframe tbody tr th:only-of-type {\n",
       "        vertical-align: middle;\n",
       "    }\n",
       "\n",
       "    .dataframe tbody tr th {\n",
       "        vertical-align: top;\n",
       "    }\n",
       "\n",
       "    .dataframe thead th {\n",
       "        text-align: right;\n",
       "    }\n",
       "</style>\n",
       "<table border=\"1\" class=\"dataframe\">\n",
       "  <thead>\n",
       "    <tr style=\"text-align: right;\">\n",
       "      <th></th>\n",
       "      <th>record_id</th>\n",
       "      <th>household_id</th>\n",
       "      <th>first_name</th>\n",
       "      <th>middle_initial</th>\n",
       "      <th>last_name</th>\n",
       "      <th>age</th>\n",
       "      <th>date_of_birth</th>\n",
       "      <th>street_number</th>\n",
       "      <th>street_name</th>\n",
       "      <th>unit_number</th>\n",
       "      <th>city</th>\n",
       "      <th>state</th>\n",
       "      <th>zipcode</th>\n",
       "      <th>housing_type</th>\n",
       "      <th>relationship_to_reference_person</th>\n",
       "      <th>sex</th>\n",
       "      <th>race_ethnicity</th>\n",
       "      <th>year</th>\n",
       "      <th>pik</th>\n",
       "    </tr>\n",
       "  </thead>\n",
       "  <tbody>\n",
       "    <tr>\n",
       "      <th>0</th>\n",
       "      <td>simulated_census_2030_0</td>\n",
       "      <td>0_8033</td>\n",
       "      <td>Gerald</td>\n",
       "      <td>R</td>\n",
       "      <td>Butler</td>\n",
       "      <td>86</td>\n",
       "      <td>11/03/1943</td>\n",
       "      <td>1130</td>\n",
       "      <td>mallory ln</td>\n",
       "      <td>None</td>\n",
       "      <td>Anytown</td>\n",
       "      <td>WA</td>\n",
       "      <td>00000</td>\n",
       "      <td>Household</td>\n",
       "      <td>Reference person</td>\n",
       "      <td>Male</td>\n",
       "      <td>Black</td>\n",
       "      <td>2030</td>\n",
       "      <td>89638</td>\n",
       "    </tr>\n",
       "    <tr>\n",
       "      <th>1</th>\n",
       "      <td>simulated_census_2030_1</td>\n",
       "      <td>0_1066</td>\n",
       "      <td>April</td>\n",
       "      <td>S</td>\n",
       "      <td>Morino</td>\n",
       "      <td>33</td>\n",
       "      <td>10/23/1996</td>\n",
       "      <td>32597</td>\n",
       "      <td>delacorte dr</td>\n",
       "      <td>None</td>\n",
       "      <td>Anytown</td>\n",
       "      <td>WA</td>\n",
       "      <td>00000</td>\n",
       "      <td>Household</td>\n",
       "      <td>Other nonrelative</td>\n",
       "      <td>Female</td>\n",
       "      <td>Black</td>\n",
       "      <td>2030</td>\n",
       "      <td>98895</td>\n",
       "    </tr>\n",
       "    <tr>\n",
       "      <th>2</th>\n",
       "      <td>simulated_census_2030_2</td>\n",
       "      <td>0_1066</td>\n",
       "      <td>Loretta</td>\n",
       "      <td>T</td>\n",
       "      <td>Carley</td>\n",
       "      <td>71</td>\n",
       "      <td>06/01/1958</td>\n",
       "      <td>32597</td>\n",
       "      <td>delacorte dr</td>\n",
       "      <td>None</td>\n",
       "      <td>Anytown</td>\n",
       "      <td>WA</td>\n",
       "      <td>00000</td>\n",
       "      <td>Household</td>\n",
       "      <td>Reference person</td>\n",
       "      <td>Female</td>\n",
       "      <td>White</td>\n",
       "      <td>2030</td>\n",
       "      <td>91413</td>\n",
       "    </tr>\n",
       "    <tr>\n",
       "      <th>3</th>\n",
       "      <td>simulated_census_2030_3</td>\n",
       "      <td>0_2514</td>\n",
       "      <td>Sandra</td>\n",
       "      <td>Q</td>\n",
       "      <td>Runnalls</td>\n",
       "      <td>75</td>\n",
       "      <td>03/18/1954</td>\n",
       "      <td>4458</td>\n",
       "      <td>windsog pl</td>\n",
       "      <td>None</td>\n",
       "      <td>Anytown</td>\n",
       "      <td>WA</td>\n",
       "      <td>00000</td>\n",
       "      <td>Household</td>\n",
       "      <td>Reference person</td>\n",
       "      <td>Female</td>\n",
       "      <td>Multiracial or Other</td>\n",
       "      <td>2030</td>\n",
       "      <td>90774</td>\n",
       "    </tr>\n",
       "    <tr>\n",
       "      <th>4</th>\n",
       "      <td>simulated_census_2030_4</td>\n",
       "      <td>0_5627</td>\n",
       "      <td>Bobby</td>\n",
       "      <td>S</td>\n",
       "      <td>Rhimpson</td>\n",
       "      <td>48</td>\n",
       "      <td>05/30/1985</td>\n",
       "      <td>None</td>\n",
       "      <td>winding trail rd</td>\n",
       "      <td>None</td>\n",
       "      <td>Anytown</td>\n",
       "      <td>WA</td>\n",
       "      <td>00000</td>\n",
       "      <td>Household</td>\n",
       "      <td>Other nonrelative</td>\n",
       "      <td>Male</td>\n",
       "      <td>White</td>\n",
       "      <td>2030</td>\n",
       "      <td>NaN</td>\n",
       "    </tr>\n",
       "    <tr>\n",
       "      <th>...</th>\n",
       "      <td>...</td>\n",
       "      <td>...</td>\n",
       "      <td>...</td>\n",
       "      <td>...</td>\n",
       "      <td>...</td>\n",
       "      <td>...</td>\n",
       "      <td>...</td>\n",
       "      <td>...</td>\n",
       "      <td>...</td>\n",
       "      <td>...</td>\n",
       "      <td>...</td>\n",
       "      <td>...</td>\n",
       "      <td>...</td>\n",
       "      <td>...</td>\n",
       "      <td>...</td>\n",
       "      <td>...</td>\n",
       "      <td>...</td>\n",
       "      <td>...</td>\n",
       "      <td>...</td>\n",
       "    </tr>\n",
       "    <tr>\n",
       "      <th>11038</th>\n",
       "      <td>simulated_census_2030_11038</td>\n",
       "      <td>0_5</td>\n",
       "      <td>Benjamin</td>\n",
       "      <td>W</td>\n",
       "      <td>Chung</td>\n",
       "      <td>15</td>\n",
       "      <td>11/26/2014</td>\n",
       "      <td>4000</td>\n",
       "      <td>nw skydrwst pkwj</td>\n",
       "      <td>None</td>\n",
       "      <td>Anytown</td>\n",
       "      <td>WA</td>\n",
       "      <td>00000</td>\n",
       "      <td>Other noninstitutional</td>\n",
       "      <td>Noninstitutionalized group quarters population</td>\n",
       "      <td>Male</td>\n",
       "      <td>NHOPI</td>\n",
       "      <td>2030</td>\n",
       "      <td>103204</td>\n",
       "    </tr>\n",
       "    <tr>\n",
       "      <th>11039</th>\n",
       "      <td>simulated_census_2030_11039</td>\n",
       "      <td>0_3761</td>\n",
       "      <td>Jesse</td>\n",
       "      <td>V</td>\n",
       "      <td>Costanzo</td>\n",
       "      <td>15</td>\n",
       "      <td>04/24/2014</td>\n",
       "      <td>278</td>\n",
       "      <td>n dillon ave</td>\n",
       "      <td>None</td>\n",
       "      <td>Anytown</td>\n",
       "      <td>WA</td>\n",
       "      <td>00000</td>\n",
       "      <td>Household</td>\n",
       "      <td>Other relative</td>\n",
       "      <td>Male</td>\n",
       "      <td>White</td>\n",
       "      <td>2030</td>\n",
       "      <td>NaN</td>\n",
       "    </tr>\n",
       "    <tr>\n",
       "      <th>11040</th>\n",
       "      <td>simulated_census_2030_11040</td>\n",
       "      <td>0_10678</td>\n",
       "      <td>Alexis</td>\n",
       "      <td>R</td>\n",
       "      <td>Wolverton</td>\n",
       "      <td>21</td>\n",
       "      <td>08/20/2008</td>\n",
       "      <td>1439</td>\n",
       "      <td>highway 201 north</td>\n",
       "      <td>None</td>\n",
       "      <td>Anytown</td>\n",
       "      <td>WA</td>\n",
       "      <td>00000</td>\n",
       "      <td>Household</td>\n",
       "      <td>Other relative</td>\n",
       "      <td>Female</td>\n",
       "      <td>White</td>\n",
       "      <td>2030</td>\n",
       "      <td>101827</td>\n",
       "    </tr>\n",
       "    <tr>\n",
       "      <th>11041</th>\n",
       "      <td>simulated_census_2030_11041</td>\n",
       "      <td>0_4</td>\n",
       "      <td>Ella</td>\n",
       "      <td>N</td>\n",
       "      <td>Garland</td>\n",
       "      <td>23</td>\n",
       "      <td>08/23/2006</td>\n",
       "      <td>69</td>\n",
       "      <td>s hwy 701</td>\n",
       "      <td>None</td>\n",
       "      <td>Anytown</td>\n",
       "      <td>WA</td>\n",
       "      <td>00000</td>\n",
       "      <td>Military</td>\n",
       "      <td>Noninstitutionalized group quarters population</td>\n",
       "      <td>Female</td>\n",
       "      <td>Multiracial or Other</td>\n",
       "      <td>2030</td>\n",
       "      <td>105983</td>\n",
       "    </tr>\n",
       "    <tr>\n",
       "      <th>11042</th>\n",
       "      <td>simulated_census_2030_11042</td>\n",
       "      <td>0_7600</td>\n",
       "      <td>Valerie</td>\n",
       "      <td>M</td>\n",
       "      <td>Tsai</td>\n",
       "      <td>23</td>\n",
       "      <td>03/18/2006</td>\n",
       "      <td>7437</td>\n",
       "      <td>n cedar crest blvd</td>\n",
       "      <td>None</td>\n",
       "      <td>Anytown</td>\n",
       "      <td>WA</td>\n",
       "      <td>00000</td>\n",
       "      <td>Household</td>\n",
       "      <td>Other relative</td>\n",
       "      <td>Female</td>\n",
       "      <td>Asian</td>\n",
       "      <td>2030</td>\n",
       "      <td>101216</td>\n",
       "    </tr>\n",
       "  </tbody>\n",
       "</table>\n",
       "<p>11043 rows × 19 columns</p>\n",
       "</div>"
      ],
      "text/plain": [
       "                         record_id household_id first_name middle_initial  \\\n",
       "0          simulated_census_2030_0       0_8033     Gerald              R   \n",
       "1          simulated_census_2030_1       0_1066      April              S   \n",
       "2          simulated_census_2030_2       0_1066    Loretta              T   \n",
       "3          simulated_census_2030_3       0_2514     Sandra              Q   \n",
       "4          simulated_census_2030_4       0_5627      Bobby              S   \n",
       "...                            ...          ...        ...            ...   \n",
       "11038  simulated_census_2030_11038          0_5   Benjamin              W   \n",
       "11039  simulated_census_2030_11039       0_3761      Jesse              V   \n",
       "11040  simulated_census_2030_11040      0_10678     Alexis              R   \n",
       "11041  simulated_census_2030_11041          0_4       Ella              N   \n",
       "11042  simulated_census_2030_11042       0_7600    Valerie              M   \n",
       "\n",
       "       last_name age date_of_birth street_number         street_name  \\\n",
       "0         Butler  86    11/03/1943          1130          mallory ln   \n",
       "1         Morino  33    10/23/1996         32597        delacorte dr   \n",
       "2         Carley  71    06/01/1958         32597        delacorte dr   \n",
       "3       Runnalls  75    03/18/1954          4458          windsog pl   \n",
       "4       Rhimpson  48    05/30/1985          None    winding trail rd   \n",
       "...          ...  ..           ...           ...                 ...   \n",
       "11038      Chung  15    11/26/2014          4000    nw skydrwst pkwj   \n",
       "11039   Costanzo  15    04/24/2014           278        n dillon ave   \n",
       "11040  Wolverton  21    08/20/2008          1439   highway 201 north   \n",
       "11041    Garland  23    08/23/2006            69           s hwy 701   \n",
       "11042       Tsai  23    03/18/2006          7437  n cedar crest blvd   \n",
       "\n",
       "      unit_number     city state zipcode            housing_type  \\\n",
       "0            None  Anytown    WA   00000               Household   \n",
       "1            None  Anytown    WA   00000               Household   \n",
       "2            None  Anytown    WA   00000               Household   \n",
       "3            None  Anytown    WA   00000               Household   \n",
       "4            None  Anytown    WA   00000               Household   \n",
       "...           ...      ...   ...     ...                     ...   \n",
       "11038        None  Anytown    WA   00000  Other noninstitutional   \n",
       "11039        None  Anytown    WA   00000               Household   \n",
       "11040        None  Anytown    WA   00000               Household   \n",
       "11041        None  Anytown    WA   00000                Military   \n",
       "11042        None  Anytown    WA   00000               Household   \n",
       "\n",
       "                     relationship_to_reference_person     sex  \\\n",
       "0                                    Reference person    Male   \n",
       "1                                   Other nonrelative  Female   \n",
       "2                                    Reference person  Female   \n",
       "3                                    Reference person  Female   \n",
       "4                                   Other nonrelative    Male   \n",
       "...                                               ...     ...   \n",
       "11038  Noninstitutionalized group quarters population    Male   \n",
       "11039                                  Other relative    Male   \n",
       "11040                                  Other relative  Female   \n",
       "11041  Noninstitutionalized group quarters population  Female   \n",
       "11042                                  Other relative  Female   \n",
       "\n",
       "             race_ethnicity  year     pik  \n",
       "0                     Black  2030   89638  \n",
       "1                     Black  2030   98895  \n",
       "2                     White  2030   91413  \n",
       "3      Multiracial or Other  2030   90774  \n",
       "4                     White  2030     NaN  \n",
       "...                     ...   ...     ...  \n",
       "11038                 NHOPI  2030  103204  \n",
       "11039                 White  2030     NaN  \n",
       "11040                 White  2030  101827  \n",
       "11041  Multiracial or Other  2030  105983  \n",
       "11042                 Asian  2030  101216  \n",
       "\n",
       "[11043 rows x 19 columns]"
      ]
     },
     "execution_count": 108,
     "metadata": {},
     "output_type": "execute_result"
    }
   ],
   "source": [
    "census_2030_piked = census_2030_raw_input.copy()\n",
    "kwargs = {}\n",
    "if compute_engine != 'dask':\n",
    "    kwargs['validate'] = '1:1'\n",
    "census_2030_piked = df_ops.persist(census_2030_piked.merge(\n",
    "    pik_values,\n",
    "    how=\"left\",\n",
    "    on=\"record_id\",\n",
    "    **kwargs,\n",
    "))\n",
    "census_2030_piked"
   ]
  },
  {
   "cell_type": "code",
   "execution_count": 109,
   "id": "5e6566f0-e77b-4b21-968c-05a7ef08eff6",
   "metadata": {
    "editable": true,
    "execution": {
     "iopub.execute_input": "2024-05-16T17:21:35.285544Z",
     "iopub.status.busy": "2024-05-16T17:21:35.284372Z",
     "iopub.status.idle": "2024-05-16T17:21:35.295906Z",
     "shell.execute_reply": "2024-05-16T17:21:35.294753Z"
    },
    "papermill": {
     "duration": 0.048186,
     "end_time": "2024-05-16T17:21:35.297583",
     "exception": false,
     "start_time": "2024-05-16T17:21:35.249397",
     "status": "completed"
    },
    "slideshow": {
     "slide_type": ""
    },
    "tags": []
   },
   "outputs": [
    {
     "name": "stdout",
     "output_type": "stream",
     "text": [
      "78.71% of the input records were PIKed\n"
     ]
    }
   ],
   "source": [
    "piked_proportion = census_2030_piked.pik.notnull().mean()\n",
    "# Compare with 90.28% of input records PIKed in the 2010 CUF,\n",
    "# as reported in Wagner and Layne, Table 2, p. 18\n",
    "print(f'{df_ops.compute(piked_proportion):.2%} of the input records were PIKed')"
   ]
  },
  {
   "cell_type": "code",
   "execution_count": 110,
   "id": "ffc185e2-1d4e-4d8c-98a0-3c0c3d1641cb",
   "metadata": {
    "editable": true,
    "execution": {
     "iopub.execute_input": "2024-05-16T17:21:35.367865Z",
     "iopub.status.busy": "2024-05-16T17:21:35.367099Z",
     "iopub.status.idle": "2024-05-16T17:21:35.459806Z",
     "shell.execute_reply": "2024-05-16T17:21:35.458183Z"
    },
    "papermill": {
     "duration": 0.130799,
     "end_time": "2024-05-16T17:21:35.463168",
     "exception": false,
     "start_time": "2024-05-16T17:21:35.332369",
     "status": "completed"
    },
    "slideshow": {
     "slide_type": ""
    },
    "tags": []
   },
   "outputs": [],
   "source": [
    "df_ops.to_parquet(census_2030_piked, f'{output_dir}/census_2030_piked.parquet')"
   ]
  },
  {
   "cell_type": "code",
   "execution_count": 111,
   "id": "822eb452-ca69-48fc-b1d6-c3425fd5f39e",
   "metadata": {
    "execution": {
     "iopub.execute_input": "2024-05-16T17:21:35.540732Z",
     "iopub.status.busy": "2024-05-16T17:21:35.540107Z",
     "iopub.status.idle": "2024-05-16T17:21:35.576887Z",
     "shell.execute_reply": "2024-05-16T17:21:35.575256Z"
    },
    "papermill": {
     "duration": 0.075352,
     "end_time": "2024-05-16T17:21:35.580195",
     "exception": false,
     "start_time": "2024-05-16T17:21:35.504843",
     "status": "completed"
    },
    "tags": []
   },
   "outputs": [],
   "source": [
    "df_ops.to_parquet(person_linkage_cascade.confirmed_piks, f'{output_dir}/confirmed_piks.parquet')"
   ]
  },
  {
   "cell_type": "code",
   "execution_count": 112,
   "id": "e5ee7cdb-bac3-4245-b1e1-0cdcb6652a27",
   "metadata": {
    "editable": true,
    "execution": {
     "iopub.execute_input": "2024-05-16T17:21:35.656658Z",
     "iopub.status.busy": "2024-05-16T17:21:35.655203Z",
     "iopub.status.idle": "2024-05-16T17:21:35.664167Z",
     "shell.execute_reply": "2024-05-16T17:21:35.662626Z"
    },
    "papermill": {
     "duration": 0.045639,
     "end_time": "2024-05-16T17:21:35.665879",
     "exception": false,
     "start_time": "2024-05-16T17:21:35.620240",
     "status": "completed"
    },
    "slideshow": {
     "slide_type": ""
    },
    "tags": []
   },
   "outputs": [
    {
     "name": "stdout",
     "output_type": "stream",
     "text": [
      "2024-05-16 10:21:35.658861\n"
     ]
    }
   ],
   "source": [
    "# NOTE: Can't use the magic ! date here for reasons I don't really understand having\n",
    "# to do with the number of open file handles. This works fine.\n",
    "print(datetime.datetime.now())"
   ]
  },
  {
   "cell_type": "code",
   "execution_count": 113,
   "id": "eb7b5f77",
   "metadata": {
    "execution": {
     "iopub.execute_input": "2024-05-16T17:21:35.737391Z",
     "iopub.status.busy": "2024-05-16T17:21:35.736560Z",
     "iopub.status.idle": "2024-05-16T17:21:35.743995Z",
     "shell.execute_reply": "2024-05-16T17:21:35.742865Z"
    },
    "papermill": {
     "duration": 0.043839,
     "end_time": "2024-05-16T17:21:35.745832",
     "exception": false,
     "start_time": "2024-05-16T17:21:35.701993",
     "status": "completed"
    },
    "tags": []
   },
   "outputs": [],
   "source": [
    "if splink_engine == 'spark':\n",
    "    stop()\n",
    "    kill_spark_workers()\n",
    "    kill_spark_master()"
   ]
  }
 ],
 "metadata": {
  "kernelspec": {
   "display_name": "Python 3 (ipykernel)",
   "language": "python",
   "name": "python3"
  },
  "language_info": {
   "codemirror_mode": {
    "name": "ipython",
    "version": 3
   },
   "file_extension": ".py",
   "mimetype": "text/x-python",
   "name": "python",
   "nbconvert_exporter": "python",
   "pygments_lexer": "ipython3",
   "version": "3.10.14"
  },
  "papermill": {
   "default_parameters": {},
   "duration": 54.88341,
   "end_time": "2024-05-16T17:21:36.405978",
   "environment_variables": {},
   "exception": null,
   "input_path": "person_linkage_case_study.ipynb",
   "output_path": "person_linkage_case_study_small_sample.ipynb",
   "parameters": {
    "compute_engine": "pandas",
    "data_to_use": "small_sample",
    "input_dir": "output/generate_simulated_data/",
    "output_dir": "output/results/",
    "splink_engine": "duckdb"
   },
   "start_time": "2024-05-16T17:20:41.522568",
   "version": "2.5.0"
  },
  "toc-autonumbering": false,
  "toc-showcode": false,
  "toc-showtags": false,
  "widgets": {
   "application/vnd.jupyter.widget-state+json": {
    "state": {
     "3bf427e341a5431c85abd82f29d96067": {
      "model_module": "@jupyter-widgets/controls",
      "model_module_version": "2.0.0",
      "model_name": "FloatProgressModel",
      "state": {
       "_dom_classes": [],
       "_model_module": "@jupyter-widgets/controls",
       "_model_module_version": "2.0.0",
       "_model_name": "FloatProgressModel",
       "_view_count": null,
       "_view_module": "@jupyter-widgets/controls",
       "_view_module_version": "2.0.0",
       "_view_name": "ProgressView",
       "bar_style": "",
       "description": "",
       "description_allow_html": false,
       "layout": "IPY_MODEL_dfb9cb55205645e8bdc0815ff54fefa1",
       "max": 100.0,
       "min": 0.0,
       "orientation": "horizontal",
       "style": "IPY_MODEL_b415fc569f0848cd892b3b64de096fde",
       "tabbable": null,
       "tooltip": null,
       "value": 100.0
      }
     },
     "b415fc569f0848cd892b3b64de096fde": {
      "model_module": "@jupyter-widgets/controls",
      "model_module_version": "2.0.0",
      "model_name": "ProgressStyleModel",
      "state": {
       "_model_module": "@jupyter-widgets/controls",
       "_model_module_version": "2.0.0",
       "_model_name": "ProgressStyleModel",
       "_view_count": null,
       "_view_module": "@jupyter-widgets/base",
       "_view_module_version": "2.0.0",
       "_view_name": "StyleView",
       "bar_color": "black",
       "description_width": ""
      }
     },
     "dfb9cb55205645e8bdc0815ff54fefa1": {
      "model_module": "@jupyter-widgets/base",
      "model_module_version": "2.0.0",
      "model_name": "LayoutModel",
      "state": {
       "_model_module": "@jupyter-widgets/base",
       "_model_module_version": "2.0.0",
       "_model_name": "LayoutModel",
       "_view_count": null,
       "_view_module": "@jupyter-widgets/base",
       "_view_module_version": "2.0.0",
       "_view_name": "LayoutView",
       "align_content": null,
       "align_items": null,
       "align_self": null,
       "border_bottom": null,
       "border_left": null,
       "border_right": null,
       "border_top": null,
       "bottom": null,
       "display": null,
       "flex": null,
       "flex_flow": null,
       "grid_area": null,
       "grid_auto_columns": null,
       "grid_auto_flow": null,
       "grid_auto_rows": null,
       "grid_column": null,
       "grid_gap": null,
       "grid_row": null,
       "grid_template_areas": null,
       "grid_template_columns": null,
       "grid_template_rows": null,
       "height": null,
       "justify_content": null,
       "justify_items": null,
       "left": null,
       "margin": null,
       "max_height": null,
       "max_width": null,
       "min_height": null,
       "min_width": null,
       "object_fit": null,
       "object_position": null,
       "order": null,
       "overflow": null,
       "padding": null,
       "right": null,
       "top": null,
       "visibility": null,
       "width": "auto"
      }
     }
    },
    "version_major": 2,
    "version_minor": 0
   }
  }
 },
 "nbformat": 4,
 "nbformat_minor": 5
}