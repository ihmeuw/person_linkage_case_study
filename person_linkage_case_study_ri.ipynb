{
 "cells": [
  {
   "cell_type": "markdown",
   "id": "ed9e49e5-db4e-4665-9892-0a679dcc22c5",
   "metadata": {
    "papermill": {
     "duration": 0.032133,
     "end_time": "2024-02-13T00:13:30.283918",
     "exception": false,
     "start_time": "2024-02-13T00:13:30.251785",
     "status": "completed"
    },
    "tags": []
   },
   "source": [
    "# **Person linkage case study**\n",
    "\n",
    "In this case study, we imagine running a person linkage to add unique identifiers to a simulated 2030 Census Unedited File (CUF).\n",
    "We emulate the methods of the Census Bureau's Person Identification Validation System (PVS) using publicly available descriptions.\n",
    "The PVS aims to give people in the input file (the CUF, in this case) unique identifiers that can be used to link them to other administrative records.\n",
    "\n",
    "We approximate the (highly confidential) input data to PVS by using simulated data from our pseudopeople package.\n",
    "See the `generate_simulated_data` notebook for details about this.\n",
    "\n",
    "## Sources\n",
    "\n",
    "These papers describe PVS as their main subject:\n",
    "\n",
    "* Wagner and Layne. The Person Identification Validation System (PVS): Applying the Center for Administrative Records Research and Applications’ (CARRA) Record Linkage Software. 2014. https://www.census.gov/content/dam/Census/library/working-papers/2014/adrm/carra-wp-2014-01.pdf ([archived](https://web.archive.org/web/20230216043235/https://www.census.gov/content/dam/Census/library/working-papers/2014/adrm/carra-wp-2014-01.pdf))\n",
    "* Layne, Wagner, and Rothhaas. Estimating Record Linkage False Match Rate for the Person Identification Validation System. 2014. https://www.census.gov/content/dam/Census/library/working-papers/2014/adrm/carra-wp-2014-02.pdf ([archived](https://web.archive.org/web/20220121051156/https://www.census.gov/content/dam/Census/library/working-papers/2014/adrm/carra-wp-2014-02.pdf))\n",
    "* Alexander et al. Creating a Longitudinal Data Infrastructure at the Census Bureau. 2015. https://www.census.gov/content/dam/Census/library/working-papers/2015/adrm/2015-alexander.pdf ([archived](https://web.archive.org/web/20170723192315/http://www.census.gov/content/dam/Census/library/working-papers/2015/adrm/2015-alexander.pdf))\n",
    "* Massey and O'Hara. Person Matching in Historical Files using the Census Bureau’s Person Validation System. 2014. https://www.census.gov/content/dam/Census/library/working-papers/2014/adrm/carra-wp-2014-11.pdf ([archived](https://web.archive.org/web/20221018074814/http://www.census.gov/content/dam/Census/library/working-papers/2014/adrm/carra-wp-2014-11.pdf))\n",
    "* NORC. Assessment of the U.S. Census Bureau’s Person Identification Validation System. 2011. https://www.norc.org/content/dam/norc-org/pdfs/PVS%20Assessment%20Report%20FINAL%20JULY%202011.pdf ([archived](https://web.archive.org/web/20230705005935/https://www.norc.org/content/dam/norc-org/pdfs/PVS%20Assessment%20Report%20FINAL%20JULY%202011.pdf))\n",
    "\n",
    "These apply PVS to some linking task, and in doing so describe it in some detail:\n",
    "\n",
    "* Brown et al. Real-Time 2020 Administrative Record Census Simulation. 2023. https://www2.census.gov/programs-surveys/decennial/2020/program-management/evaluate-docs/EAE-2020-admin-records-experiment.pdf ([archived](https://web.archive.org/web/20230521191811/https://www2.census.gov/programs-surveys/decennial/2020/program-management/evaluate-docs/EAE-2020-admin-records-experiment.pdf))\n",
    "* Massey et al. Linking the 1940 U.S. Census with Modern Data. 2018. https://www.ncbi.nlm.nih.gov/pmc/articles/PMC6530596/ ([DOI](https://doi.org/10.1080%2F01615440.2018.1507772))\n",
    "* Luque and Wagner. Assessing Coverage and Quality of the 2007 Prototype Census Kidlink Database. 2015. https://www.census.gov/content/dam/Census/library/working-papers/2015/adrm/carra-wp-2015-07.pdf ([archived](https://web.archive.org/web/20220808205231/http://www.census.gov/content/dam/Census/library/working-papers/2015/adrm/carra-wp-2015-07.pdf))\n",
    "* Bond et al. The Nature of the Bias When Studying Only Linkable Person Records: Evidence from the American Community Survey. 2014. https://www.census.gov/content/dam/Census/library/working-papers/2014/adrm/carra-wp-2014-08.pdf ([archived](https://web.archive.org/web/20220803083857/http://www.census.gov/content/dam/Census/library/working-papers/2014/adrm/carra-wp-2014-08.pdf))\n",
    "\n",
    "Finally, this paper is about the address matching process (MAF Match) which acts as part of PVS:\n",
    "\n",
    "* Brummet. Comparison of Survey, Federal, and Commercial Address Data Quality. 2014. https://www.census.gov/content/dam/Census/library/working-papers/2014/adrm/carra-wp-2014-06.pdf ([archived](https://web.archive.org/web/20220121213358/https://www.census.gov/content/dam/Census/library/working-papers/2014/adrm/carra-wp-2014-06.pdf))\n",
    "\n",
    "All of these papers are referenced throughout this notebook (and other notebooks) by the authors' names, along with additional information like page numbers.\n",
    "All page numbers represent those of the PDF files themselves, *not* page numbers printed in the documents.\n",
    "\n",
    "## PVS overview\n",
    "\n",
    "Brown et al., p. 28:\n",
    "\n",
    "> The PVS uses probabilistic record linkage (Fellegi and Sunter, 1969) to match data from an\n",
    "    incoming file (e.g., a survey or administrative record file) to reference files containing data on\n",
    "    SSN applications from the NUMIDENT enhanced with address data obtained from other federal\n",
    "    administrative records.\n",
    "\n",
    "## Setup"
   ]
  },
  {
   "cell_type": "code",
   "execution_count": 1,
   "id": "f0af1f28-7e30-4860-992e-15da22f9b55f",
   "metadata": {
    "execution": {
     "iopub.execute_input": "2024-02-13T00:13:30.336136Z",
     "iopub.status.busy": "2024-02-13T00:13:30.335573Z",
     "iopub.status.idle": "2024-02-13T00:13:30.943824Z",
     "shell.execute_reply": "2024-02-13T00:13:30.942805Z"
    },
    "papermill": {
     "duration": 0.636715,
     "end_time": "2024-02-13T00:13:30.945933",
     "exception": false,
     "start_time": "2024-02-13T00:13:30.309218",
     "status": "completed"
    },
    "tags": []
   },
   "outputs": [],
   "source": [
    "import re, copy, os, time, datetime\n",
    "import pandas, numpy\n",
    "import jellyfish"
   ]
  },
  {
   "cell_type": "code",
   "execution_count": 2,
   "id": "39ce58b3-0901-420f-b6c2-2dfd85e56f78",
   "metadata": {
    "execution": {
     "iopub.execute_input": "2024-02-13T00:13:31.034143Z",
     "iopub.status.busy": "2024-02-13T00:13:31.033366Z",
     "iopub.status.idle": "2024-02-13T00:13:31.039024Z",
     "shell.execute_reply": "2024-02-13T00:13:31.038081Z"
    },
    "papermill": {
     "duration": 0.034601,
     "end_time": "2024-02-13T00:13:31.041621",
     "exception": false,
     "start_time": "2024-02-13T00:13:31.007020",
     "status": "completed"
    },
    "tags": []
   },
   "outputs": [
    {
     "name": "stdout",
     "output_type": "stream",
     "text": [
      "2024-02-12 16:13:31.035599\n"
     ]
    }
   ],
   "source": [
    "print(datetime.datetime.now())"
   ]
  },
  {
   "cell_type": "code",
   "execution_count": 3,
   "id": "10473b3a-f016-4afd-9e0e-cbaa968555e0",
   "metadata": {
    "execution": {
     "iopub.execute_input": "2024-02-13T00:13:31.095492Z",
     "iopub.status.busy": "2024-02-13T00:13:31.094914Z",
     "iopub.status.idle": "2024-02-13T00:13:31.120282Z",
     "shell.execute_reply": "2024-02-13T00:13:31.119571Z"
    },
    "papermill": {
     "duration": 0.053726,
     "end_time": "2024-02-13T00:13:31.122343",
     "exception": false,
     "start_time": "2024-02-13T00:13:31.068617",
     "status": "completed"
    },
    "tags": []
   },
   "outputs": [],
   "source": [
    "%load_ext autoreload\n",
    "%autoreload 1"
   ]
  },
  {
   "cell_type": "code",
   "execution_count": 4,
   "id": "fbae5f8b-f5b0-43db-907b-bdbc83a2d9c6",
   "metadata": {
    "execution": {
     "iopub.execute_input": "2024-02-13T00:13:31.174077Z",
     "iopub.status.busy": "2024-02-13T00:13:31.173520Z",
     "iopub.status.idle": "2024-02-13T00:13:31.182625Z",
     "shell.execute_reply": "2024-02-13T00:13:31.181904Z"
    },
    "papermill": {
     "duration": 0.037156,
     "end_time": "2024-02-13T00:13:31.184513",
     "exception": false,
     "start_time": "2024-02-13T00:13:31.147357",
     "status": "completed"
    },
    "tags": []
   },
   "outputs": [],
   "source": [
    "%aimport vivarium_research_prl\n",
    "from vivarium_research_prl import distributed_compute, utils"
   ]
  },
  {
   "cell_type": "code",
   "execution_count": 5,
   "id": "47bc4e2e-93cb-47f1-b4ab-fedac26382b8",
   "metadata": {
    "editable": true,
    "execution": {
     "iopub.execute_input": "2024-02-13T00:13:31.236527Z",
     "iopub.status.busy": "2024-02-13T00:13:31.235970Z",
     "iopub.status.idle": "2024-02-13T00:13:31.242901Z",
     "shell.execute_reply": "2024-02-13T00:13:31.241974Z"
    },
    "papermill": {
     "duration": 0.035424,
     "end_time": "2024-02-13T00:13:31.244704",
     "exception": false,
     "start_time": "2024-02-13T00:13:31.209280",
     "status": "completed"
    },
    "slideshow": {
     "slide_type": ""
    },
    "tags": [
     "parameters"
    ]
   },
   "outputs": [],
   "source": [
    "# DO NOT EDIT if this notebook is not called person_linkage_case_study.ipynb!\n",
    "# This notebook is designed to be run with papermill; this cell is tagged 'parameters'\n",
    "data_to_use = 'small_sample'\n",
    "input_dir = 'generate_simulated_data/output'\n",
    "output_dir = 'output'\n",
    "\n",
    "# The \"compute engine\" is what we use on the Python side\n",
    "# for our case-study-specific operations,\n",
    "# as opposed to the Splink engine\n",
    "compute_engine = 'pandas'\n",
    "# Only matter if using a distributed compute engine\n",
    "compute_engine_num_jobs = 3\n",
    "compute_engine_cpus_per_job = 2\n",
    "compute_engine_memory_per_job = \"1GB\"\n",
    "\n",
    "splink_engine = 'duckdb'\n",
    "# Only matter if using Spark\n",
    "spark_local = False\n",
    "# Only matter if using distributed (non-local) Spark\n",
    "spark_cpus_master = 2\n",
    "spark_memory_master = \"5GB\"\n",
    "spark_num_workers = 15\n",
    "spark_cpus_per_worker = 2\n",
    "spark_memory_per_worker = \"4GB\"\n",
    "spark_worker_memory_overhead_mb = 500\n",
    "\n",
    "clear_intermediate = True"
   ]
  },
  {
   "cell_type": "code",
   "execution_count": 6,
   "id": "de39bacc",
   "metadata": {
    "execution": {
     "iopub.execute_input": "2024-02-13T00:13:31.296816Z",
     "iopub.status.busy": "2024-02-13T00:13:31.296263Z",
     "iopub.status.idle": "2024-02-13T00:13:31.302707Z",
     "shell.execute_reply": "2024-02-13T00:13:31.301987Z"
    },
    "papermill": {
     "duration": 0.034365,
     "end_time": "2024-02-13T00:13:31.304571",
     "exception": false,
     "start_time": "2024-02-13T00:13:31.270206",
     "status": "completed"
    },
    "tags": [
     "injected-parameters"
    ]
   },
   "outputs": [],
   "source": [
    "# Parameters\n",
    "data_to_use = \"ri\"\n",
    "input_dir = \"/ihme/scratch/users/zmbc/person_linkage_case_study/generate_simulated_data/\"\n",
    "output_dir = \"/ihme/scratch/users/zmbc/person_linkage_case_study/person_linkage_case_study/\"\n",
    "compute_engine = \"dask\"\n",
    "compute_engine_num_jobs = 10\n",
    "compute_engine_memory_per_job = \"15GB\"\n",
    "compute_engine_cpus_per_job = 2\n",
    "splink_engine = \"spark\"\n",
    "spark_num_workers = 50\n",
    "spark_memory_per_worker = \"30GB\"\n",
    "spark_cpus_per_worker = 2\n",
    "spark_worker_memory_overhead_mb = 5000\n"
   ]
  },
  {
   "cell_type": "code",
   "execution_count": 7,
   "id": "cd911b83-9295-46a4-957f-7de919ce451b",
   "metadata": {
    "execution": {
     "iopub.execute_input": "2024-02-13T00:13:31.357082Z",
     "iopub.status.busy": "2024-02-13T00:13:31.356520Z",
     "iopub.status.idle": "2024-02-13T00:13:31.361452Z",
     "shell.execute_reply": "2024-02-13T00:13:31.360531Z"
    },
    "papermill": {
     "duration": 0.033525,
     "end_time": "2024-02-13T00:13:31.363219",
     "exception": false,
     "start_time": "2024-02-13T00:13:31.329694",
     "status": "completed"
    },
    "tags": []
   },
   "outputs": [],
   "source": [
    "# # Parameters (WIP) for an RI run\n",
    "# data_to_use = \"usa\"\n",
    "# input_dir = \"/ihme/scratch/users/zmbc/person_linkage_case_study/generate_simulated_data\"\n",
    "# output_dir = \"/ihme/scratch/users/zmbc/person_linkage_case_study/person_linkage_case_study\"\n",
    "\n",
    "# compute_engine = 'dask'\n",
    "# compute_engine_num_jobs = 10\n",
    "# compute_engine_memory_per_job = \"5GB\"\n",
    "# compute_engine_cpus_per_job = 2\n",
    "\n",
    "# splink_engine = 'spark'\n",
    "# spark_num_workers = 50\n",
    "# spark_cpus_per_worker = 2\n",
    "# spark_memory_per_worker = \"30GB\"\n",
    "# spark_worker_memory_overhead_mb = 5_000"
   ]
  },
  {
   "cell_type": "code",
   "execution_count": 8,
   "id": "94d42219-f60e-4547-8c98-2bf1b73af392",
   "metadata": {
    "execution": {
     "iopub.execute_input": "2024-02-13T00:13:31.416165Z",
     "iopub.status.busy": "2024-02-13T00:13:31.415600Z",
     "iopub.status.idle": "2024-02-13T00:13:31.420259Z",
     "shell.execute_reply": "2024-02-13T00:13:31.419325Z"
    },
    "papermill": {
     "duration": 0.03336,
     "end_time": "2024-02-13T00:13:31.422051",
     "exception": false,
     "start_time": "2024-02-13T00:13:31.388691",
     "status": "completed"
    },
    "tags": []
   },
   "outputs": [],
   "source": [
    "# # Parameters (WIP) for a full USA run\n",
    "# data_to_use = \"usa\"\n",
    "# input_dir = \"/ihme/scratch/users/zmbc/person_linkage_case_study/generate_simulated_data\"\n",
    "# output_dir = \"/ihme/scratch/users/zmbc/person_linkage_case_study/person_linkage_case_study\"\n",
    "\n",
    "# compute_engine = 'dask'\n",
    "# compute_engine_num_jobs = 50\n",
    "# compute_engine_memory_per_job = \"120GB\"\n",
    "# compute_engine_cpus_per_job = 2\n",
    "\n",
    "# splink_engine = 'spark'\n",
    "# spark_cpus_master = 10\n",
    "# spark_memory_master = \"40GB\"\n",
    "# spark_num_workers = 50\n",
    "# spark_cpus_per_worker = 2\n",
    "# spark_memory_per_worker = \"120GB\"\n",
    "# spark_worker_memory_overhead_mb = 5_000"
   ]
  },
  {
   "cell_type": "code",
   "execution_count": 9,
   "id": "5a0ba030-3ce6-489a-9659-296048287a75",
   "metadata": {
    "execution": {
     "iopub.execute_input": "2024-02-13T00:13:31.474127Z",
     "iopub.status.busy": "2024-02-13T00:13:31.473569Z",
     "iopub.status.idle": "2024-02-13T00:13:31.478214Z",
     "shell.execute_reply": "2024-02-13T00:13:31.477272Z"
    },
    "papermill": {
     "duration": 0.033144,
     "end_time": "2024-02-13T00:13:31.479998",
     "exception": false,
     "start_time": "2024-02-13T00:13:31.446854",
     "status": "completed"
    },
    "tags": []
   },
   "outputs": [],
   "source": [
    "output_dir = f'{output_dir}/{data_to_use}'"
   ]
  },
  {
   "cell_type": "code",
   "execution_count": 10,
   "id": "de2cdd3c-9b84-46fc-a024-adc6b197bf50",
   "metadata": {
    "execution": {
     "iopub.execute_input": "2024-02-13T00:13:31.533032Z",
     "iopub.status.busy": "2024-02-13T00:13:31.532454Z",
     "iopub.status.idle": "2024-02-13T00:13:31.537887Z",
     "shell.execute_reply": "2024-02-13T00:13:31.537125Z"
    },
    "papermill": {
     "duration": 0.034088,
     "end_time": "2024-02-13T00:13:31.539643",
     "exception": false,
     "start_time": "2024-02-13T00:13:31.505555",
     "status": "completed"
    },
    "tags": []
   },
   "outputs": [],
   "source": [
    "import os\n",
    "from pathlib import Path\n",
    "os.environ[\"PATH\"] = f\"{Path('./slurm_within_singularity').resolve()}:{os.environ['PATH']}\""
   ]
  },
  {
   "cell_type": "code",
   "execution_count": 11,
   "id": "da04a59b-ed5b-43b9-a7b0-7e763e20be11",
   "metadata": {
    "execution": {
     "iopub.execute_input": "2024-02-13T00:13:31.591678Z",
     "iopub.status.busy": "2024-02-13T00:13:31.591198Z",
     "iopub.status.idle": "2024-02-13T00:14:37.813265Z",
     "shell.execute_reply": "2024-02-13T00:14:37.811409Z"
    },
    "papermill": {
     "duration": 66.252861,
     "end_time": "2024-02-13T00:14:37.817871",
     "exception": false,
     "start_time": "2024-02-13T00:13:31.565010",
     "status": "completed"
    },
    "tags": []
   },
   "outputs": [
    {
     "data": {
      "text/html": [
       "<div>\n",
       "    <div style=\"width: 24px; height: 24px; background-color: #e1e1e1; border: 3px solid #9D9D9D; border-radius: 5px; position: absolute;\"> </div>\n",
       "    <div style=\"margin-left: 48px;\">\n",
       "        <h3 style=\"margin-bottom: 0px;\">Client</h3>\n",
       "        <p style=\"color: #9D9D9D; margin-bottom: 0px;\">Client-df491ad4-ca04-11ee-b4f5-da2ad0b48c48</p>\n",
       "        <table style=\"width: 100%; text-align: left;\">\n",
       "\n",
       "        <tr>\n",
       "        \n",
       "            <td style=\"text-align: left;\"><strong>Connection method:</strong> Cluster object</td>\n",
       "            <td style=\"text-align: left;\"><strong>Cluster type:</strong> dask_jobqueue.SLURMCluster</td>\n",
       "        \n",
       "        </tr>\n",
       "\n",
       "        \n",
       "            <tr>\n",
       "                <td style=\"text-align: left;\">\n",
       "                    <strong>Dashboard: </strong> <a href=\"http://10.158.111.17:8787/status\" target=\"_blank\">http://10.158.111.17:8787/status</a>\n",
       "                </td>\n",
       "                <td style=\"text-align: left;\"></td>\n",
       "            </tr>\n",
       "        \n",
       "\n",
       "        </table>\n",
       "\n",
       "        \n",
       "\n",
       "        \n",
       "            <details>\n",
       "            <summary style=\"margin-bottom: 20px;\"><h3 style=\"display: inline;\">Cluster Info</h3></summary>\n",
       "            <div class=\"jp-RenderedHTMLCommon jp-RenderedHTML jp-mod-trusted jp-OutputArea-output\">\n",
       "    <div style=\"width: 24px; height: 24px; background-color: #e1e1e1; border: 3px solid #9D9D9D; border-radius: 5px; position: absolute;\">\n",
       "    </div>\n",
       "    <div style=\"margin-left: 48px;\">\n",
       "        <h3 style=\"margin-bottom: 0px; margin-top: 0px;\">SLURMCluster</h3>\n",
       "        <p style=\"color: #9D9D9D; margin-bottom: 0px;\">e3b2b066</p>\n",
       "        <table style=\"width: 100%; text-align: left;\">\n",
       "            <tr>\n",
       "                <td style=\"text-align: left;\">\n",
       "                    <strong>Dashboard:</strong> <a href=\"http://10.158.111.17:8787/status\" target=\"_blank\">http://10.158.111.17:8787/status</a>\n",
       "                </td>\n",
       "                <td style=\"text-align: left;\">\n",
       "                    <strong>Workers:</strong> 10\n",
       "                </td>\n",
       "            </tr>\n",
       "            <tr>\n",
       "                <td style=\"text-align: left;\">\n",
       "                    <strong>Total threads:</strong> 10\n",
       "                </td>\n",
       "                <td style=\"text-align: left;\">\n",
       "                    <strong>Total memory:</strong> 139.70 GiB\n",
       "                </td>\n",
       "            </tr>\n",
       "            \n",
       "        </table>\n",
       "\n",
       "        <details>\n",
       "            <summary style=\"margin-bottom: 20px;\">\n",
       "                <h3 style=\"display: inline;\">Scheduler Info</h3>\n",
       "            </summary>\n",
       "\n",
       "            <div style=\"\">\n",
       "    <div>\n",
       "        <div style=\"width: 24px; height: 24px; background-color: #FFF7E5; border: 3px solid #FF6132; border-radius: 5px; position: absolute;\"> </div>\n",
       "        <div style=\"margin-left: 48px;\">\n",
       "            <h3 style=\"margin-bottom: 0px;\">Scheduler</h3>\n",
       "            <p style=\"color: #9D9D9D; margin-bottom: 0px;\">Scheduler-2def4d7c-d12f-4fdc-ab59-4186d5a9f2aa</p>\n",
       "            <table style=\"width: 100%; text-align: left;\">\n",
       "                <tr>\n",
       "                    <td style=\"text-align: left;\">\n",
       "                        <strong>Comm:</strong> tcp://10.158.111.17:43591\n",
       "                    </td>\n",
       "                    <td style=\"text-align: left;\">\n",
       "                        <strong>Workers:</strong> 10\n",
       "                    </td>\n",
       "                </tr>\n",
       "                <tr>\n",
       "                    <td style=\"text-align: left;\">\n",
       "                        <strong>Dashboard:</strong> <a href=\"http://10.158.111.17:8787/status\" target=\"_blank\">http://10.158.111.17:8787/status</a>\n",
       "                    </td>\n",
       "                    <td style=\"text-align: left;\">\n",
       "                        <strong>Total threads:</strong> 10\n",
       "                    </td>\n",
       "                </tr>\n",
       "                <tr>\n",
       "                    <td style=\"text-align: left;\">\n",
       "                        <strong>Started:</strong> 1 minute ago\n",
       "                    </td>\n",
       "                    <td style=\"text-align: left;\">\n",
       "                        <strong>Total memory:</strong> 139.70 GiB\n",
       "                    </td>\n",
       "                </tr>\n",
       "            </table>\n",
       "        </div>\n",
       "    </div>\n",
       "\n",
       "    <details style=\"margin-left: 48px;\">\n",
       "        <summary style=\"margin-bottom: 20px;\">\n",
       "            <h3 style=\"display: inline;\">Workers</h3>\n",
       "        </summary>\n",
       "\n",
       "        \n",
       "        <div style=\"margin-bottom: 20px;\">\n",
       "            <div style=\"width: 24px; height: 24px; background-color: #DBF5FF; border: 3px solid #4CC9FF; border-radius: 5px; position: absolute;\"> </div>\n",
       "            <div style=\"margin-left: 48px;\">\n",
       "            <details>\n",
       "                <summary>\n",
       "                    <h4 style=\"margin-bottom: 0px; display: inline;\">Worker: SLURMCluster-0</h4>\n",
       "                </summary>\n",
       "                <table style=\"width: 100%; text-align: left;\">\n",
       "                    <tr>\n",
       "                        <td style=\"text-align: left;\">\n",
       "                            <strong>Comm: </strong> tcp://10.158.106.25:46019\n",
       "                        </td>\n",
       "                        <td style=\"text-align: left;\">\n",
       "                            <strong>Total threads: </strong> 1\n",
       "                        </td>\n",
       "                    </tr>\n",
       "                    <tr>\n",
       "                        <td style=\"text-align: left;\">\n",
       "                            <strong>Dashboard: </strong> <a href=\"http://10.158.106.25:40163/status\" target=\"_blank\">http://10.158.106.25:40163/status</a>\n",
       "                        </td>\n",
       "                        <td style=\"text-align: left;\">\n",
       "                            <strong>Memory: </strong> 13.97 GiB\n",
       "                        </td>\n",
       "                    </tr>\n",
       "                    <tr>\n",
       "                        <td style=\"text-align: left;\">\n",
       "                            <strong>Nanny: </strong> tcp://10.158.106.25:44881\n",
       "                        </td>\n",
       "                        <td style=\"text-align: left;\"></td>\n",
       "                    </tr>\n",
       "                    <tr>\n",
       "                        <td colspan=\"2\" style=\"text-align: left;\">\n",
       "                            <strong>Local directory: </strong> /tmp/zmbc_dask/dask-scratch-space/worker-odi1u1is\n",
       "                        </td>\n",
       "                    </tr>\n",
       "\n",
       "                    \n",
       "\n",
       "                    \n",
       "\n",
       "                </table>\n",
       "            </details>\n",
       "            </div>\n",
       "        </div>\n",
       "        \n",
       "        <div style=\"margin-bottom: 20px;\">\n",
       "            <div style=\"width: 24px; height: 24px; background-color: #DBF5FF; border: 3px solid #4CC9FF; border-radius: 5px; position: absolute;\"> </div>\n",
       "            <div style=\"margin-left: 48px;\">\n",
       "            <details>\n",
       "                <summary>\n",
       "                    <h4 style=\"margin-bottom: 0px; display: inline;\">Worker: SLURMCluster-1</h4>\n",
       "                </summary>\n",
       "                <table style=\"width: 100%; text-align: left;\">\n",
       "                    <tr>\n",
       "                        <td style=\"text-align: left;\">\n",
       "                            <strong>Comm: </strong> tcp://10.158.100.42:35123\n",
       "                        </td>\n",
       "                        <td style=\"text-align: left;\">\n",
       "                            <strong>Total threads: </strong> 1\n",
       "                        </td>\n",
       "                    </tr>\n",
       "                    <tr>\n",
       "                        <td style=\"text-align: left;\">\n",
       "                            <strong>Dashboard: </strong> <a href=\"http://10.158.100.42:40159/status\" target=\"_blank\">http://10.158.100.42:40159/status</a>\n",
       "                        </td>\n",
       "                        <td style=\"text-align: left;\">\n",
       "                            <strong>Memory: </strong> 13.97 GiB\n",
       "                        </td>\n",
       "                    </tr>\n",
       "                    <tr>\n",
       "                        <td style=\"text-align: left;\">\n",
       "                            <strong>Nanny: </strong> tcp://10.158.100.42:39457\n",
       "                        </td>\n",
       "                        <td style=\"text-align: left;\"></td>\n",
       "                    </tr>\n",
       "                    <tr>\n",
       "                        <td colspan=\"2\" style=\"text-align: left;\">\n",
       "                            <strong>Local directory: </strong> /tmp/zmbc_dask/dask-scratch-space/worker-1gnnbh3w\n",
       "                        </td>\n",
       "                    </tr>\n",
       "\n",
       "                    \n",
       "\n",
       "                    \n",
       "\n",
       "                </table>\n",
       "            </details>\n",
       "            </div>\n",
       "        </div>\n",
       "        \n",
       "        <div style=\"margin-bottom: 20px;\">\n",
       "            <div style=\"width: 24px; height: 24px; background-color: #DBF5FF; border: 3px solid #4CC9FF; border-radius: 5px; position: absolute;\"> </div>\n",
       "            <div style=\"margin-left: 48px;\">\n",
       "            <details>\n",
       "                <summary>\n",
       "                    <h4 style=\"margin-bottom: 0px; display: inline;\">Worker: SLURMCluster-2</h4>\n",
       "                </summary>\n",
       "                <table style=\"width: 100%; text-align: left;\">\n",
       "                    <tr>\n",
       "                        <td style=\"text-align: left;\">\n",
       "                            <strong>Comm: </strong> tcp://10.158.106.31:39015\n",
       "                        </td>\n",
       "                        <td style=\"text-align: left;\">\n",
       "                            <strong>Total threads: </strong> 1\n",
       "                        </td>\n",
       "                    </tr>\n",
       "                    <tr>\n",
       "                        <td style=\"text-align: left;\">\n",
       "                            <strong>Dashboard: </strong> <a href=\"http://10.158.106.31:44105/status\" target=\"_blank\">http://10.158.106.31:44105/status</a>\n",
       "                        </td>\n",
       "                        <td style=\"text-align: left;\">\n",
       "                            <strong>Memory: </strong> 13.97 GiB\n",
       "                        </td>\n",
       "                    </tr>\n",
       "                    <tr>\n",
       "                        <td style=\"text-align: left;\">\n",
       "                            <strong>Nanny: </strong> tcp://10.158.106.31:35469\n",
       "                        </td>\n",
       "                        <td style=\"text-align: left;\"></td>\n",
       "                    </tr>\n",
       "                    <tr>\n",
       "                        <td colspan=\"2\" style=\"text-align: left;\">\n",
       "                            <strong>Local directory: </strong> /tmp/zmbc_dask/dask-scratch-space/worker-1nyfjr56\n",
       "                        </td>\n",
       "                    </tr>\n",
       "\n",
       "                    \n",
       "\n",
       "                    \n",
       "\n",
       "                </table>\n",
       "            </details>\n",
       "            </div>\n",
       "        </div>\n",
       "        \n",
       "        <div style=\"margin-bottom: 20px;\">\n",
       "            <div style=\"width: 24px; height: 24px; background-color: #DBF5FF; border: 3px solid #4CC9FF; border-radius: 5px; position: absolute;\"> </div>\n",
       "            <div style=\"margin-left: 48px;\">\n",
       "            <details>\n",
       "                <summary>\n",
       "                    <h4 style=\"margin-bottom: 0px; display: inline;\">Worker: SLURMCluster-3</h4>\n",
       "                </summary>\n",
       "                <table style=\"width: 100%; text-align: left;\">\n",
       "                    <tr>\n",
       "                        <td style=\"text-align: left;\">\n",
       "                            <strong>Comm: </strong> tcp://10.158.100.42:46723\n",
       "                        </td>\n",
       "                        <td style=\"text-align: left;\">\n",
       "                            <strong>Total threads: </strong> 1\n",
       "                        </td>\n",
       "                    </tr>\n",
       "                    <tr>\n",
       "                        <td style=\"text-align: left;\">\n",
       "                            <strong>Dashboard: </strong> <a href=\"http://10.158.100.42:35595/status\" target=\"_blank\">http://10.158.100.42:35595/status</a>\n",
       "                        </td>\n",
       "                        <td style=\"text-align: left;\">\n",
       "                            <strong>Memory: </strong> 13.97 GiB\n",
       "                        </td>\n",
       "                    </tr>\n",
       "                    <tr>\n",
       "                        <td style=\"text-align: left;\">\n",
       "                            <strong>Nanny: </strong> tcp://10.158.100.42:33251\n",
       "                        </td>\n",
       "                        <td style=\"text-align: left;\"></td>\n",
       "                    </tr>\n",
       "                    <tr>\n",
       "                        <td colspan=\"2\" style=\"text-align: left;\">\n",
       "                            <strong>Local directory: </strong> /tmp/zmbc_dask/dask-scratch-space/worker-vgp3rym9\n",
       "                        </td>\n",
       "                    </tr>\n",
       "\n",
       "                    \n",
       "\n",
       "                    \n",
       "\n",
       "                </table>\n",
       "            </details>\n",
       "            </div>\n",
       "        </div>\n",
       "        \n",
       "        <div style=\"margin-bottom: 20px;\">\n",
       "            <div style=\"width: 24px; height: 24px; background-color: #DBF5FF; border: 3px solid #4CC9FF; border-radius: 5px; position: absolute;\"> </div>\n",
       "            <div style=\"margin-left: 48px;\">\n",
       "            <details>\n",
       "                <summary>\n",
       "                    <h4 style=\"margin-bottom: 0px; display: inline;\">Worker: SLURMCluster-4</h4>\n",
       "                </summary>\n",
       "                <table style=\"width: 100%; text-align: left;\">\n",
       "                    <tr>\n",
       "                        <td style=\"text-align: left;\">\n",
       "                            <strong>Comm: </strong> tcp://10.158.148.23:37041\n",
       "                        </td>\n",
       "                        <td style=\"text-align: left;\">\n",
       "                            <strong>Total threads: </strong> 1\n",
       "                        </td>\n",
       "                    </tr>\n",
       "                    <tr>\n",
       "                        <td style=\"text-align: left;\">\n",
       "                            <strong>Dashboard: </strong> <a href=\"http://10.158.148.23:38843/status\" target=\"_blank\">http://10.158.148.23:38843/status</a>\n",
       "                        </td>\n",
       "                        <td style=\"text-align: left;\">\n",
       "                            <strong>Memory: </strong> 13.97 GiB\n",
       "                        </td>\n",
       "                    </tr>\n",
       "                    <tr>\n",
       "                        <td style=\"text-align: left;\">\n",
       "                            <strong>Nanny: </strong> tcp://10.158.148.23:44935\n",
       "                        </td>\n",
       "                        <td style=\"text-align: left;\"></td>\n",
       "                    </tr>\n",
       "                    <tr>\n",
       "                        <td colspan=\"2\" style=\"text-align: left;\">\n",
       "                            <strong>Local directory: </strong> /tmp/zmbc_dask/dask-scratch-space/worker-eejgtfri\n",
       "                        </td>\n",
       "                    </tr>\n",
       "\n",
       "                    \n",
       "\n",
       "                    \n",
       "\n",
       "                </table>\n",
       "            </details>\n",
       "            </div>\n",
       "        </div>\n",
       "        \n",
       "        <div style=\"margin-bottom: 20px;\">\n",
       "            <div style=\"width: 24px; height: 24px; background-color: #DBF5FF; border: 3px solid #4CC9FF; border-radius: 5px; position: absolute;\"> </div>\n",
       "            <div style=\"margin-left: 48px;\">\n",
       "            <details>\n",
       "                <summary>\n",
       "                    <h4 style=\"margin-bottom: 0px; display: inline;\">Worker: SLURMCluster-5</h4>\n",
       "                </summary>\n",
       "                <table style=\"width: 100%; text-align: left;\">\n",
       "                    <tr>\n",
       "                        <td style=\"text-align: left;\">\n",
       "                            <strong>Comm: </strong> tcp://10.158.106.31:35027\n",
       "                        </td>\n",
       "                        <td style=\"text-align: left;\">\n",
       "                            <strong>Total threads: </strong> 1\n",
       "                        </td>\n",
       "                    </tr>\n",
       "                    <tr>\n",
       "                        <td style=\"text-align: left;\">\n",
       "                            <strong>Dashboard: </strong> <a href=\"http://10.158.106.31:41933/status\" target=\"_blank\">http://10.158.106.31:41933/status</a>\n",
       "                        </td>\n",
       "                        <td style=\"text-align: left;\">\n",
       "                            <strong>Memory: </strong> 13.97 GiB\n",
       "                        </td>\n",
       "                    </tr>\n",
       "                    <tr>\n",
       "                        <td style=\"text-align: left;\">\n",
       "                            <strong>Nanny: </strong> tcp://10.158.106.31:35755\n",
       "                        </td>\n",
       "                        <td style=\"text-align: left;\"></td>\n",
       "                    </tr>\n",
       "                    <tr>\n",
       "                        <td colspan=\"2\" style=\"text-align: left;\">\n",
       "                            <strong>Local directory: </strong> /tmp/zmbc_dask/dask-scratch-space/worker-4e5kez7i\n",
       "                        </td>\n",
       "                    </tr>\n",
       "\n",
       "                    \n",
       "\n",
       "                    \n",
       "\n",
       "                </table>\n",
       "            </details>\n",
       "            </div>\n",
       "        </div>\n",
       "        \n",
       "        <div style=\"margin-bottom: 20px;\">\n",
       "            <div style=\"width: 24px; height: 24px; background-color: #DBF5FF; border: 3px solid #4CC9FF; border-radius: 5px; position: absolute;\"> </div>\n",
       "            <div style=\"margin-left: 48px;\">\n",
       "            <details>\n",
       "                <summary>\n",
       "                    <h4 style=\"margin-bottom: 0px; display: inline;\">Worker: SLURMCluster-6</h4>\n",
       "                </summary>\n",
       "                <table style=\"width: 100%; text-align: left;\">\n",
       "                    <tr>\n",
       "                        <td style=\"text-align: left;\">\n",
       "                            <strong>Comm: </strong> tcp://10.158.147.185:45055\n",
       "                        </td>\n",
       "                        <td style=\"text-align: left;\">\n",
       "                            <strong>Total threads: </strong> 1\n",
       "                        </td>\n",
       "                    </tr>\n",
       "                    <tr>\n",
       "                        <td style=\"text-align: left;\">\n",
       "                            <strong>Dashboard: </strong> <a href=\"http://10.158.147.185:44195/status\" target=\"_blank\">http://10.158.147.185:44195/status</a>\n",
       "                        </td>\n",
       "                        <td style=\"text-align: left;\">\n",
       "                            <strong>Memory: </strong> 13.97 GiB\n",
       "                        </td>\n",
       "                    </tr>\n",
       "                    <tr>\n",
       "                        <td style=\"text-align: left;\">\n",
       "                            <strong>Nanny: </strong> tcp://10.158.147.185:42829\n",
       "                        </td>\n",
       "                        <td style=\"text-align: left;\"></td>\n",
       "                    </tr>\n",
       "                    <tr>\n",
       "                        <td colspan=\"2\" style=\"text-align: left;\">\n",
       "                            <strong>Local directory: </strong> /tmp/zmbc_dask/dask-scratch-space/worker-mmjs0576\n",
       "                        </td>\n",
       "                    </tr>\n",
       "\n",
       "                    \n",
       "\n",
       "                    \n",
       "\n",
       "                </table>\n",
       "            </details>\n",
       "            </div>\n",
       "        </div>\n",
       "        \n",
       "        <div style=\"margin-bottom: 20px;\">\n",
       "            <div style=\"width: 24px; height: 24px; background-color: #DBF5FF; border: 3px solid #4CC9FF; border-radius: 5px; position: absolute;\"> </div>\n",
       "            <div style=\"margin-left: 48px;\">\n",
       "            <details>\n",
       "                <summary>\n",
       "                    <h4 style=\"margin-bottom: 0px; display: inline;\">Worker: SLURMCluster-7</h4>\n",
       "                </summary>\n",
       "                <table style=\"width: 100%; text-align: left;\">\n",
       "                    <tr>\n",
       "                        <td style=\"text-align: left;\">\n",
       "                            <strong>Comm: </strong> tcp://10.158.148.10:35301\n",
       "                        </td>\n",
       "                        <td style=\"text-align: left;\">\n",
       "                            <strong>Total threads: </strong> 1\n",
       "                        </td>\n",
       "                    </tr>\n",
       "                    <tr>\n",
       "                        <td style=\"text-align: left;\">\n",
       "                            <strong>Dashboard: </strong> <a href=\"http://10.158.148.10:41943/status\" target=\"_blank\">http://10.158.148.10:41943/status</a>\n",
       "                        </td>\n",
       "                        <td style=\"text-align: left;\">\n",
       "                            <strong>Memory: </strong> 13.97 GiB\n",
       "                        </td>\n",
       "                    </tr>\n",
       "                    <tr>\n",
       "                        <td style=\"text-align: left;\">\n",
       "                            <strong>Nanny: </strong> tcp://10.158.148.10:39709\n",
       "                        </td>\n",
       "                        <td style=\"text-align: left;\"></td>\n",
       "                    </tr>\n",
       "                    <tr>\n",
       "                        <td colspan=\"2\" style=\"text-align: left;\">\n",
       "                            <strong>Local directory: </strong> /tmp/zmbc_dask/dask-scratch-space/worker-7gyr3bc4\n",
       "                        </td>\n",
       "                    </tr>\n",
       "\n",
       "                    \n",
       "\n",
       "                    \n",
       "\n",
       "                </table>\n",
       "            </details>\n",
       "            </div>\n",
       "        </div>\n",
       "        \n",
       "        <div style=\"margin-bottom: 20px;\">\n",
       "            <div style=\"width: 24px; height: 24px; background-color: #DBF5FF; border: 3px solid #4CC9FF; border-radius: 5px; position: absolute;\"> </div>\n",
       "            <div style=\"margin-left: 48px;\">\n",
       "            <details>\n",
       "                <summary>\n",
       "                    <h4 style=\"margin-bottom: 0px; display: inline;\">Worker: SLURMCluster-8</h4>\n",
       "                </summary>\n",
       "                <table style=\"width: 100%; text-align: left;\">\n",
       "                    <tr>\n",
       "                        <td style=\"text-align: left;\">\n",
       "                            <strong>Comm: </strong> tcp://10.158.106.31:35607\n",
       "                        </td>\n",
       "                        <td style=\"text-align: left;\">\n",
       "                            <strong>Total threads: </strong> 1\n",
       "                        </td>\n",
       "                    </tr>\n",
       "                    <tr>\n",
       "                        <td style=\"text-align: left;\">\n",
       "                            <strong>Dashboard: </strong> <a href=\"http://10.158.106.31:42755/status\" target=\"_blank\">http://10.158.106.31:42755/status</a>\n",
       "                        </td>\n",
       "                        <td style=\"text-align: left;\">\n",
       "                            <strong>Memory: </strong> 13.97 GiB\n",
       "                        </td>\n",
       "                    </tr>\n",
       "                    <tr>\n",
       "                        <td style=\"text-align: left;\">\n",
       "                            <strong>Nanny: </strong> tcp://10.158.106.31:34665\n",
       "                        </td>\n",
       "                        <td style=\"text-align: left;\"></td>\n",
       "                    </tr>\n",
       "                    <tr>\n",
       "                        <td colspan=\"2\" style=\"text-align: left;\">\n",
       "                            <strong>Local directory: </strong> /tmp/zmbc_dask/dask-scratch-space/worker-lzy51em0\n",
       "                        </td>\n",
       "                    </tr>\n",
       "\n",
       "                    \n",
       "\n",
       "                    \n",
       "\n",
       "                </table>\n",
       "            </details>\n",
       "            </div>\n",
       "        </div>\n",
       "        \n",
       "        <div style=\"margin-bottom: 20px;\">\n",
       "            <div style=\"width: 24px; height: 24px; background-color: #DBF5FF; border: 3px solid #4CC9FF; border-radius: 5px; position: absolute;\"> </div>\n",
       "            <div style=\"margin-left: 48px;\">\n",
       "            <details>\n",
       "                <summary>\n",
       "                    <h4 style=\"margin-bottom: 0px; display: inline;\">Worker: SLURMCluster-9</h4>\n",
       "                </summary>\n",
       "                <table style=\"width: 100%; text-align: left;\">\n",
       "                    <tr>\n",
       "                        <td style=\"text-align: left;\">\n",
       "                            <strong>Comm: </strong> tcp://10.158.147.185:35659\n",
       "                        </td>\n",
       "                        <td style=\"text-align: left;\">\n",
       "                            <strong>Total threads: </strong> 1\n",
       "                        </td>\n",
       "                    </tr>\n",
       "                    <tr>\n",
       "                        <td style=\"text-align: left;\">\n",
       "                            <strong>Dashboard: </strong> <a href=\"http://10.158.147.185:36733/status\" target=\"_blank\">http://10.158.147.185:36733/status</a>\n",
       "                        </td>\n",
       "                        <td style=\"text-align: left;\">\n",
       "                            <strong>Memory: </strong> 13.97 GiB\n",
       "                        </td>\n",
       "                    </tr>\n",
       "                    <tr>\n",
       "                        <td style=\"text-align: left;\">\n",
       "                            <strong>Nanny: </strong> tcp://10.158.147.185:36381\n",
       "                        </td>\n",
       "                        <td style=\"text-align: left;\"></td>\n",
       "                    </tr>\n",
       "                    <tr>\n",
       "                        <td colspan=\"2\" style=\"text-align: left;\">\n",
       "                            <strong>Local directory: </strong> /tmp/zmbc_dask/dask-scratch-space/worker-u5et7b0a\n",
       "                        </td>\n",
       "                    </tr>\n",
       "\n",
       "                    \n",
       "\n",
       "                    \n",
       "\n",
       "                </table>\n",
       "            </details>\n",
       "            </div>\n",
       "        </div>\n",
       "        \n",
       "\n",
       "    </details>\n",
       "</div>\n",
       "\n",
       "        </details>\n",
       "    </div>\n",
       "</div>\n",
       "            </details>\n",
       "        \n",
       "\n",
       "    </div>\n",
       "</div>"
      ],
      "text/plain": [
       "<Client: 'tcp://10.158.111.17:43591' processes=10 threads=10, memory=139.70 GiB>"
      ]
     },
     "metadata": {},
     "output_type": "display_data"
    }
   ],
   "source": [
    "df_ops, pd = distributed_compute.start_compute_engine(\n",
    "    compute_engine,\n",
    "    num_jobs=compute_engine_num_jobs,\n",
    "    cpus_per_job=compute_engine_cpus_per_job,\n",
    "    memory_per_job=compute_engine_memory_per_job,\n",
    ")"
   ]
  },
  {
   "cell_type": "code",
   "execution_count": null,
   "id": "65ab2072-f46d-49eb-a4d1-a89a30f1de36",
   "metadata": {
    "papermill": {
     "duration": 0.027485,
     "end_time": "2024-02-13T00:14:37.874684",
     "exception": false,
     "start_time": "2024-02-13T00:14:37.847199",
     "status": "completed"
    },
    "tags": []
   },
   "outputs": [],
   "source": []
  },
  {
   "cell_type": "code",
   "execution_count": 12,
   "id": "4efdd565-6ae1-4bf9-b124-8e3d05d90143",
   "metadata": {
    "execution": {
     "iopub.execute_input": "2024-02-13T00:14:37.930244Z",
     "iopub.status.busy": "2024-02-13T00:14:37.929633Z",
     "iopub.status.idle": "2024-02-13T00:14:37.982912Z",
     "shell.execute_reply": "2024-02-13T00:14:37.981228Z"
    },
    "papermill": {
     "duration": 0.085378,
     "end_time": "2024-02-13T00:14:37.986994",
     "exception": false,
     "start_time": "2024-02-13T00:14:37.901616",
     "status": "completed"
    },
    "tags": []
   },
   "outputs": [],
   "source": [
    "import pathlib\n",
    "pwd = os.getcwd()\n",
    "slurm_output_dir = f\"{output_dir}/slurm_output\"\n",
    "if clear_intermediate:\n",
    "    utils.ensure_empty(slurm_output_dir)"
   ]
  },
  {
   "cell_type": "code",
   "execution_count": 13,
   "id": "152189c1-e987-4000-b386-684d0938737c",
   "metadata": {
    "execution": {
     "iopub.execute_input": "2024-02-13T00:14:38.045864Z",
     "iopub.status.busy": "2024-02-13T00:14:38.045312Z",
     "iopub.status.idle": "2024-02-13T00:14:38.146099Z",
     "shell.execute_reply": "2024-02-13T00:14:38.145349Z"
    },
    "papermill": {
     "duration": 0.132143,
     "end_time": "2024-02-13T00:14:38.148291",
     "exception": false,
     "start_time": "2024-02-13T00:14:38.016148",
     "status": "completed"
    },
    "tags": []
   },
   "outputs": [],
   "source": [
    "import requests"
   ]
  },
  {
   "cell_type": "code",
   "execution_count": 14,
   "id": "7eccb943-b21f-46ed-a22f-2c200cd83a36",
   "metadata": {
    "execution": {
     "iopub.execute_input": "2024-02-13T00:14:38.203690Z",
     "iopub.status.busy": "2024-02-13T00:14:38.202996Z",
     "iopub.status.idle": "2024-02-13T00:14:38.212071Z",
     "shell.execute_reply": "2024-02-13T00:14:38.211324Z"
    },
    "papermill": {
     "duration": 0.038877,
     "end_time": "2024-02-13T00:14:38.213948",
     "exception": false,
     "start_time": "2024-02-13T00:14:38.175071",
     "status": "completed"
    },
    "tags": []
   },
   "outputs": [],
   "source": [
    "if spark_memory_per_worker.endswith('G') or spark_memory_per_worker.endswith('GB'):\n",
    "    spark_memory_per_worker = int(re.search(r'(\\d+)GB?', spark_memory_per_worker).group(1)) * 1_000\n",
    "elif spark_memory_per_worker.endswith('M') or spark_memory_per_worker.endswith('MB'):\n",
    "    spark_memory_per_worker = int(re.search(r'(\\d+)MB?', spark_memory_per_worker).group(1))\n",
    "else:\n",
    "    raise ValueError()"
   ]
  },
  {
   "cell_type": "code",
   "execution_count": 15,
   "id": "3c6ca817-6be3-49ff-89fb-6fc6647f9500",
   "metadata": {
    "editable": true,
    "execution": {
     "iopub.execute_input": "2024-02-13T00:14:38.269775Z",
     "iopub.status.busy": "2024-02-13T00:14:38.269145Z",
     "iopub.status.idle": "2024-02-13T00:17:06.621481Z",
     "shell.execute_reply": "2024-02-13T00:17:06.620425Z"
    },
    "papermill": {
     "duration": 148.404251,
     "end_time": "2024-02-13T00:17:06.645416",
     "exception": false,
     "start_time": "2024-02-13T00:14:38.241165",
     "status": "completed"
    },
    "slideshow": {
     "slide_type": ""
    },
    "tags": []
   },
   "outputs": [
    {
     "name": "stdout",
     "output_type": "stream",
     "text": [
      "Starting Spark master\n",
      "Got Spark master URL: spark://long-slurm-sarchive-p0092.cluster.ihme.washington.edu:28508\n",
      "24/02/13 00:15:29 INFO MasterWebUI: Bound MasterWebUI to 0.0.0.0, and started at http://long-slurm-sarchive-p0092.cluster.ihme.washington.edu:28509\n",
      "Starting Spark workers\n",
      "24/02/13 00:16:33 INFO Worker: Starting Spark worker 10.158.147.230:35169 with 1 cores, 29.3 GiB RAM\n",
      "24/02/13 00:16:34 INFO WorkerWebUI: Bound WorkerWebUI to 0.0.0.0, and started at http://long-slurm-sarchive-p0088.cluster.ihme.washington.edu:28510\n",
      "24/02/13 00:16:31 INFO Worker: Starting Spark worker 10.158.106.31:42917 with 1 cores, 29.3 GiB RAM\n",
      "24/02/13 00:16:32 INFO WorkerWebUI: Bound WorkerWebUI to 0.0.0.0, and started at http://long-slurm-sarchive-p0048.cluster.ihme.washington.edu:28512\n",
      "24/02/13 00:16:31 INFO Worker: Starting Spark worker 10.158.106.31:36253 with 1 cores, 29.3 GiB RAM\n",
      "24/02/13 00:16:32 INFO WorkerWebUI: Bound WorkerWebUI to 0.0.0.0, and started at http://long-slurm-sarchive-p0048.cluster.ihme.washington.edu:28511\n",
      "24/02/13 00:16:32 INFO Worker: Starting Spark worker 10.158.106.31:34223 with 1 cores, 29.3 GiB RAM\n",
      "24/02/13 00:16:32 INFO WorkerWebUI: Bound WorkerWebUI to 0.0.0.0, and started at http://long-slurm-sarchive-p0048.cluster.ihme.washington.edu:28514\n",
      "24/02/13 00:16:32 INFO Worker: Starting Spark worker 10.158.106.31:42925 with 1 cores, 29.3 GiB RAM\n",
      "24/02/13 00:16:32 INFO WorkerWebUI: Bound WorkerWebUI to 0.0.0.0, and started at http://long-slurm-sarchive-p0048.cluster.ihme.washington.edu:28513\n",
      "24/02/13 00:16:33 INFO Worker: Starting Spark worker 10.158.148.54:46663 with 1 cores, 29.3 GiB RAM\n",
      "24/02/13 00:16:33 INFO WorkerWebUI: Bound WorkerWebUI to 0.0.0.0, and started at http://long-slurm-sarchive-p0066.cluster.ihme.washington.edu:28510\n",
      "24/02/13 00:16:35 INFO Worker: Starting Spark worker 10.158.148.24:45635 with 1 cores, 29.3 GiB RAM\n",
      "24/02/13 00:16:36 INFO WorkerWebUI: Bound WorkerWebUI to 0.0.0.0, and started at http://long-slurm-sarchive-p0068.cluster.ihme.washington.edu:28510\n",
      "24/02/13 00:16:34 INFO Worker: Starting Spark worker 10.158.148.32:42741 with 1 cores, 29.3 GiB RAM\n",
      "24/02/13 00:16:35 INFO WorkerWebUI: Bound WorkerWebUI to 0.0.0.0, and started at http://long-slurm-sarchive-p0069.cluster.ihme.washington.edu:28510\n",
      "24/02/13 00:16:34 INFO Worker: Starting Spark worker 10.158.148.25:35621 with 1 cores, 29.3 GiB RAM\n",
      "24/02/13 00:16:35 INFO WorkerWebUI: Bound WorkerWebUI to 0.0.0.0, and started at http://long-slurm-sarchive-p0067.cluster.ihme.washington.edu:28510\n",
      "24/02/13 00:16:34 INFO Worker: Starting Spark worker 10.158.148.25:34375 with 1 cores, 29.3 GiB RAM\n",
      "24/02/13 00:16:35 INFO WorkerWebUI: Bound WorkerWebUI to 0.0.0.0, and started at http://long-slurm-sarchive-p0067.cluster.ihme.washington.edu:28511\n",
      "24/02/13 00:16:45 INFO Worker: Starting Spark worker 10.158.147.203:46637 with 1 cores, 29.3 GiB RAM\n",
      "24/02/13 00:16:46 INFO WorkerWebUI: Bound WorkerWebUI to 0.0.0.0, and started at http://long-slurm-sarchive-p0083.cluster.ihme.washington.edu:28510\n",
      "24/02/13 00:16:33 INFO Worker: Starting Spark worker 10.158.147.230:39955 with 1 cores, 29.3 GiB RAM\n",
      "24/02/13 00:16:34 INFO WorkerWebUI: Bound WorkerWebUI to 0.0.0.0, and started at http://long-slurm-sarchive-p0088.cluster.ihme.washington.edu:28512\n",
      "24/02/13 00:16:45 INFO Worker: Starting Spark worker 10.158.147.203:34229 with 1 cores, 29.3 GiB RAM\n",
      "24/02/13 00:16:46 INFO WorkerWebUI: Bound WorkerWebUI to 0.0.0.0, and started at http://long-slurm-sarchive-p0083.cluster.ihme.washington.edu:28512\n",
      "24/02/13 00:16:45 INFO Worker: Starting Spark worker 10.158.147.203:39283 with 1 cores, 29.3 GiB RAM\n",
      "24/02/13 00:16:46 INFO WorkerWebUI: Bound WorkerWebUI to 0.0.0.0, and started at http://long-slurm-sarchive-p0083.cluster.ihme.washington.edu:28511\n",
      "24/02/13 00:16:45 INFO Worker: Starting Spark worker 10.158.147.203:40559 with 1 cores, 29.3 GiB RAM\n",
      "24/02/13 00:16:46 INFO WorkerWebUI: Bound WorkerWebUI to 0.0.0.0, and started at http://long-slurm-sarchive-p0083.cluster.ihme.washington.edu:28513\n",
      "24/02/13 00:16:46 INFO Worker: Starting Spark worker 10.158.147.203:38047 with 1 cores, 29.3 GiB RAM\n",
      "24/02/13 00:16:47 INFO WorkerWebUI: Bound WorkerWebUI to 0.0.0.0, and started at http://long-slurm-sarchive-p0083.cluster.ihme.washington.edu:28514\n",
      "24/02/13 00:16:46 INFO Worker: Starting Spark worker 10.158.147.203:45753 with 1 cores, 29.3 GiB RAM\n",
      "24/02/13 00:16:47 INFO WorkerWebUI: Bound WorkerWebUI to 0.0.0.0, and started at http://long-slurm-sarchive-p0083.cluster.ihme.washington.edu:28515\n",
      "24/02/13 00:16:34 INFO Worker: Starting Spark worker 10.158.106.37:37453 with 1 cores, 29.3 GiB RAM\n",
      "24/02/13 00:16:35 INFO WorkerWebUI: Bound WorkerWebUI to 0.0.0.0, and started at http://long-slurm-sarchive-p0045.cluster.ihme.washington.edu:28510\n",
      "24/02/13 00:16:32 INFO Worker: Starting Spark worker 10.158.111.17:40375 with 1 cores, 29.3 GiB RAM\n",
      "24/02/13 00:16:32 INFO WorkerWebUI: Bound WorkerWebUI to 0.0.0.0, and started at http://long-slurm-sarchive-p0009.cluster.ihme.washington.edu:28510\n",
      "24/02/13 00:16:31 INFO Worker: Starting Spark worker 10.158.148.230:36139 with 1 cores, 29.3 GiB RAM\n",
      "24/02/13 00:16:31 INFO WorkerWebUI: Bound WorkerWebUI to 0.0.0.0, and started at http://long-slurm-sarchive-p0007.cluster.ihme.washington.edu:28511\n",
      "24/02/13 00:16:31 INFO Worker: Starting Spark worker 10.158.148.230:36407 with 1 cores, 29.3 GiB RAM\n",
      "24/02/13 00:16:31 INFO WorkerWebUI: Bound WorkerWebUI to 0.0.0.0, and started at http://long-slurm-sarchive-p0007.cluster.ihme.washington.edu:28510\n",
      "24/02/13 00:16:30 INFO Worker: Starting Spark worker 10.158.148.232:42683 with 1 cores, 29.3 GiB RAM\n",
      "24/02/13 00:16:31 INFO WorkerWebUI: Bound WorkerWebUI to 0.0.0.0, and started at http://long-slurm-sarchive-p0008.cluster.ihme.washington.edu:28511\n",
      "24/02/13 00:16:33 INFO Worker: Starting Spark worker 10.158.147.230:40465 with 1 cores, 29.3 GiB RAM\n",
      "24/02/13 00:16:34 INFO WorkerWebUI: Bound WorkerWebUI to 0.0.0.0, and started at http://long-slurm-sarchive-p0088.cluster.ihme.washington.edu:28511\n",
      "24/02/13 00:16:30 INFO Worker: Starting Spark worker 10.158.148.232:38653 with 1 cores, 29.3 GiB RAM\n",
      "24/02/13 00:16:30 INFO WorkerWebUI: Bound WorkerWebUI to 0.0.0.0, and started at http://long-slurm-sarchive-p0008.cluster.ihme.washington.edu:28510\n",
      "24/02/13 00:16:42 INFO Worker: Starting Spark worker 10.158.111.18:45699 with 1 cores, 29.3 GiB RAM\n",
      "24/02/13 00:16:42 INFO WorkerWebUI: Bound WorkerWebUI to 0.0.0.0, and started at http://long-slurm-sarchive-p0010.cluster.ihme.washington.edu:28511\n",
      "24/02/13 00:16:42 INFO Worker: Starting Spark worker 10.158.111.18:34107 with 1 cores, 29.3 GiB RAM\n",
      "24/02/13 00:16:42 INFO WorkerWebUI: Bound WorkerWebUI to 0.0.0.0, and started at http://long-slurm-sarchive-p0010.cluster.ihme.washington.edu:28510\n",
      "24/02/13 00:16:42 INFO Worker: Starting Spark worker 10.158.111.18:42377 with 1 cores, 29.3 GiB RAM\n",
      "24/02/13 00:16:42 INFO WorkerWebUI: Bound WorkerWebUI to 0.0.0.0, and started at http://long-slurm-sarchive-p0010.cluster.ihme.washington.edu:28512\n",
      "24/02/13 00:16:36 INFO Worker: Starting Spark worker 10.158.111.40:41943 with 1 cores, 29.3 GiB RAM\n",
      "24/02/13 00:16:36 INFO WorkerWebUI: Bound WorkerWebUI to 0.0.0.0, and started at http://long-slurm-sarchive-p0011.cluster.ihme.washington.edu:28512\n",
      "24/02/13 00:16:36 INFO Worker: Starting Spark worker 10.158.111.40:34149 with 1 cores, 29.3 GiB RAM\n",
      "24/02/13 00:16:36 INFO WorkerWebUI: Bound WorkerWebUI to 0.0.0.0, and started at http://long-slurm-sarchive-p0011.cluster.ihme.washington.edu:28510\n",
      "24/02/13 00:16:36 INFO Worker: Starting Spark worker 10.158.111.40:33593 with 1 cores, 29.3 GiB RAM\n",
      "24/02/13 00:16:36 INFO WorkerWebUI: Bound WorkerWebUI to 0.0.0.0, and started at http://long-slurm-sarchive-p0011.cluster.ihme.washington.edu:28511\n",
      "24/02/13 00:16:33 INFO Worker: Starting Spark worker 10.158.96.18:43781 with 1 cores, 29.3 GiB RAM\n",
      "24/02/13 00:16:34 INFO WorkerWebUI: Bound WorkerWebUI to 0.0.0.0, and started at http://long-slurm-sarchive-p0019.cluster.ihme.washington.edu:28511\n",
      "24/02/13 00:16:33 INFO Worker: Starting Spark worker 10.158.96.18:37731 with 1 cores, 29.3 GiB RAM\n",
      "24/02/13 00:16:34 INFO WorkerWebUI: Bound WorkerWebUI to 0.0.0.0, and started at http://long-slurm-sarchive-p0019.cluster.ihme.washington.edu:28510\n",
      "24/02/13 00:16:31 INFO Worker: Starting Spark worker 10.158.147.238:44415 with 1 cores, 29.3 GiB RAM\n",
      "24/02/13 00:16:31 INFO WorkerWebUI: Bound WorkerWebUI to 0.0.0.0, and started at http://long-slurm-sarchive-p0077.cluster.ihme.washington.edu:28510\n",
      "24/02/13 00:16:34 INFO Worker: Starting Spark worker 10.158.147.216:42469 with 1 cores, 29.3 GiB RAM\n",
      "24/02/13 00:16:35 INFO WorkerWebUI: Bound WorkerWebUI to 0.0.0.0, and started at http://long-slurm-sarchive-p0090.cluster.ihme.washington.edu:28510\n",
      "24/02/13 00:16:33 INFO Worker: Starting Spark worker 10.158.147.199:37049 with 1 cores, 29.3 GiB RAM\n",
      "24/02/13 00:16:33 INFO WorkerWebUI: Bound WorkerWebUI to 0.0.0.0, and started at http://long-slurm-sarchive-p0076.cluster.ihme.washington.edu:28514\n",
      "24/02/13 00:16:33 INFO Worker: Starting Spark worker 10.158.147.199:45601 with 1 cores, 29.3 GiB RAM\n",
      "24/02/13 00:16:33 INFO WorkerWebUI: Bound WorkerWebUI to 0.0.0.0, and started at http://long-slurm-sarchive-p0076.cluster.ihme.washington.edu:28512\n",
      "24/02/13 00:16:33 INFO Worker: Starting Spark worker 10.158.147.199:32929 with 1 cores, 29.3 GiB RAM\n",
      "24/02/13 00:16:33 INFO WorkerWebUI: Bound WorkerWebUI to 0.0.0.0, and started at http://long-slurm-sarchive-p0076.cluster.ihme.washington.edu:28513\n",
      "24/02/13 00:16:33 INFO Worker: Starting Spark worker 10.158.147.199:41985 with 1 cores, 29.3 GiB RAM\n",
      "24/02/13 00:16:33 INFO WorkerWebUI: Bound WorkerWebUI to 0.0.0.0, and started at http://long-slurm-sarchive-p0076.cluster.ihme.washington.edu:28511\n",
      "24/02/13 00:16:33 INFO Worker: Starting Spark worker 10.158.147.199:46541 with 1 cores, 29.3 GiB RAM\n",
      "24/02/13 00:16:33 INFO WorkerWebUI: Bound WorkerWebUI to 0.0.0.0, and started at http://long-slurm-sarchive-p0076.cluster.ihme.washington.edu:28510\n",
      "24/02/13 00:16:34 INFO Worker: Starting Spark worker 10.158.147.178:46079 with 1 cores, 29.3 GiB RAM\n",
      "24/02/13 00:16:34 INFO WorkerWebUI: Bound WorkerWebUI to 0.0.0.0, and started at http://long-slurm-sarchive-p0075.cluster.ihme.washington.edu:28512\n",
      "24/02/13 00:16:34 INFO Worker: Starting Spark worker 10.158.147.178:40139 with 1 cores, 29.3 GiB RAM\n",
      "24/02/13 00:16:34 INFO WorkerWebUI: Bound WorkerWebUI to 0.0.0.0, and started at http://long-slurm-sarchive-p0075.cluster.ihme.washington.edu:28510\n",
      "24/02/13 00:16:34 INFO Worker: Starting Spark worker 10.158.147.178:36145 with 1 cores, 29.3 GiB RAM\n",
      "24/02/13 00:16:34 INFO WorkerWebUI: Bound WorkerWebUI to 0.0.0.0, and started at http://long-slurm-sarchive-p0075.cluster.ihme.washington.edu:28511\n",
      "24/02/13 00:16:34 INFO Worker: Starting Spark worker 10.158.147.178:45397 with 1 cores, 29.3 GiB RAM\n",
      "24/02/13 00:16:34 INFO WorkerWebUI: Bound WorkerWebUI to 0.0.0.0, and started at http://long-slurm-sarchive-p0075.cluster.ihme.washington.edu:28514\n",
      "24/02/13 00:16:34 INFO Worker: Starting Spark worker 10.158.147.178:41063 with 1 cores, 29.3 GiB RAM\n",
      "24/02/13 00:16:34 INFO WorkerWebUI: Bound WorkerWebUI to 0.0.0.0, and started at http://long-slurm-sarchive-p0075.cluster.ihme.washington.edu:28513\n",
      "24/02/13 00:16:32 INFO Worker: Starting Spark worker 10.158.147.204:44877 with 1 cores, 29.3 GiB RAM\n",
      "24/02/13 00:16:33 INFO WorkerWebUI: Bound WorkerWebUI to 0.0.0.0, and started at http://long-slurm-sarchive-p0091.cluster.ihme.washington.edu:28512\n",
      "24/02/13 00:16:34 INFO Worker: Starting Spark worker 10.158.147.178:43403 with 1 cores, 29.3 GiB RAM\n",
      "24/02/13 00:16:34 INFO WorkerWebUI: Bound WorkerWebUI to 0.0.0.0, and started at http://long-slurm-sarchive-p0075.cluster.ihme.washington.edu:28515\n",
      "24/02/13 00:16:32 INFO Worker: Starting Spark worker 10.158.147.204:38739 with 1 cores, 29.3 GiB RAM\n",
      "24/02/13 00:16:33 INFO WorkerWebUI: Bound WorkerWebUI to 0.0.0.0, and started at http://long-slurm-sarchive-p0091.cluster.ihme.washington.edu:28511\n",
      "24/02/13 00:16:32 INFO Worker: Starting Spark worker 10.158.147.204:34899 with 1 cores, 29.3 GiB RAM\n",
      "24/02/13 00:16:33 INFO WorkerWebUI: Bound WorkerWebUI to 0.0.0.0, and started at http://long-slurm-sarchive-p0091.cluster.ihme.washington.edu:28510\n",
      "24/02/13 00:16:33 INFO Worker: Starting Spark worker 10.158.100.179:33931 with 1 cores, 29.3 GiB RAM\n",
      "24/02/13 00:16:34 INFO WorkerWebUI: Bound WorkerWebUI to 0.0.0.0, and started at http://long-slurm-sarchive-p0033.cluster.ihme.washington.edu:28510\n",
      "24/02/13 00:16:30 INFO Worker: Starting Spark worker 10.158.106.31:33615 with 1 cores, 29.3 GiB RAM\n",
      "24/02/13 00:16:31 INFO WorkerWebUI: Bound WorkerWebUI to 0.0.0.0, and started at http://long-slurm-sarchive-p0048.cluster.ihme.washington.edu:28510\n"
     ]
    }
   ],
   "source": [
    "if splink_engine == 'spark':\n",
    "    if spark_local:\n",
    "        spark_master_url = \"local[2]\"\n",
    "    else:\n",
    "        log_path = f\"{slurm_output_dir}/spark-master-%j.out\"\n",
    "        array_job_log_path = f\"{slurm_output_dir}/spark-worker-%A_%a.out\"\n",
    "        print(\"Starting Spark master\")\n",
    "        spark_start_master_output = os.popen(\n",
    "            f\"sbatch --output {log_path} --error {log_path} \"\n",
    "            f\"--cpus-per-task {spark_cpus_master} --mem {spark_memory_master} \"\n",
    "            f\"-A proj_simscience -p long.q {pwd}/start_spark_master.sh\"\n",
    "        ).read()\n",
    "        spark_master_job_id = re.match('Submitted batch job (\\d+)', spark_start_master_output)[1]\n",
    "\n",
    "        # TODO: This cleanup is not actually working\n",
    "        import atexit\n",
    "        \n",
    "        def kill_spark_master():\n",
    "            os.popen(f\"scancel {spark_master_job_id}\").read()\n",
    "        \n",
    "        atexit.register(kill_spark_master)\n",
    "\n",
    "        while True:\n",
    "            logs = os.popen(f\"ssh $(hostname) -q -t cat {log_path.replace('%j', spark_master_job_id)} 2>&1\").read()\n",
    "            starting_lines = [l for l in logs.split('\\n') if 'Starting Spark master at' in l]\n",
    "            webui_starting_lines = [l for l in logs.split('\\n') if 'Bound MasterWebUI to' in l]\n",
    "            if len(starting_lines) > 0 and len(webui_starting_lines) > 0:\n",
    "                break\n",
    "            else:\n",
    "                time.sleep(5)\n",
    "\n",
    "        spark_master_url = re.match('.*Starting Spark master at (spark:.+)$', starting_lines[0])[1]\n",
    "        spark_master_webui_url = re.match('.*Bound MasterWebUI to .*, and started at (http:.+)$', webui_starting_lines[0])[1]\n",
    "        print(f'Got Spark master URL: {spark_master_url}')\n",
    "        print('\\n'.join([l for l in logs.split('\\n') if 'Bound MasterWebUI' in l]))\n",
    "\n",
    "        spark_worker_job_ids = []\n",
    "\n",
    "        def start_spark_workers(n_workers):\n",
    "            spark_start_workers_output = os.popen(\n",
    "                f\"sbatch --output {array_job_log_path} --error {array_job_log_path} \"\n",
    "                f\"--array=1-{n_workers} --cpus-per-task {spark_cpus_per_worker} --mem {spark_memory_per_worker} \"\n",
    "                f\"-A proj_simscience -p long.q {pwd}/start_spark_workers.sh {spark_master_url} {spark_worker_memory_overhead_mb}\"\n",
    "            ).read()\n",
    "            job_id = re.match('Submitted batch job (\\d+)', spark_start_workers_output)[1]\n",
    "            spark_worker_job_ids.append(job_id)\n",
    "\n",
    "            while True:\n",
    "                logs = os.popen(f\"ssh $(hostname) -q -t cat {array_job_log_path.replace('%A', job_id).replace('%a', '*')} 2>&1\").read()\n",
    "                starting_lines = [l for l in logs.split('\\n') if 'Starting Spark worker' in l]\n",
    "                if len(starting_lines) == n_workers:\n",
    "                    print('\\n'.join([l for l in logs.split('\\n') if 'Starting Spark worker' in l or 'Bound WorkerWebUI' in l]))\n",
    "                    break\n",
    "                else:\n",
    "                    time.sleep(5)\n",
    "\n",
    "            return job_id\n",
    "\n",
    "        print('Starting Spark workers')\n",
    "        spark_workers_job_id = start_spark_workers(spark_num_workers)\n",
    "\n",
    "        def kill_spark_workers():\n",
    "            for job_id in spark_worker_job_ids:\n",
    "                os.popen(f\"scancel {job_id}\").read()\n",
    "\n",
    "        atexit.register(kill_spark_workers)\n",
    "\n",
    "        import asyncio\n",
    "        import requests\n",
    "\n",
    "        def maintain_spark_worker_count():\n",
    "            while True:\n",
    "                alive_workers = requests.get(f'{spark_master_webui_url}/json/').json()['aliveworkers']\n",
    "                if alive_workers < spark_num_workers:\n",
    "                    num_to_start = spark_num_workers - alive_workers\n",
    "                    print(f\"Starting {num_to_start} more Spark worker(s)\")\n",
    "                    start_spark_workers(num_to_start)\n",
    "                time.sleep(20)\n",
    "\n",
    "        def stop():\n",
    "            task.cancel()\n",
    "\n",
    "        atexit.register(stop)\n",
    "\n",
    "        loop = asyncio.get_event_loop()\n",
    "        task = loop.run_in_executor(None, maintain_spark_worker_count)"
   ]
  },
  {
   "cell_type": "markdown",
   "id": "86e8c9a9-d691-4110-baed-683004701894",
   "metadata": {
    "papermill": {
     "duration": 0.02689,
     "end_time": "2024-02-13T00:17:06.699350",
     "exception": false,
     "start_time": "2024-02-13T00:17:06.672460",
     "status": "completed"
    },
    "tags": []
   },
   "source": [
    "# Load data\n",
    "\n",
    "See code in `generate_simulated_data` directory for how we generated the files to link"
   ]
  },
  {
   "cell_type": "code",
   "execution_count": 16,
   "id": "cdf1086b-639c-4421-95ef-dc4108b7fd9a",
   "metadata": {
    "execution": {
     "iopub.execute_input": "2024-02-13T00:17:06.760016Z",
     "iopub.status.busy": "2024-02-13T00:17:06.759601Z",
     "iopub.status.idle": "2024-02-13T00:17:10.496369Z",
     "shell.execute_reply": "2024-02-13T00:17:10.494883Z"
    },
    "papermill": {
     "duration": 3.76999,
     "end_time": "2024-02-13T00:17:10.500548",
     "exception": false,
     "start_time": "2024-02-13T00:17:06.730558",
     "status": "completed"
    },
    "tags": []
   },
   "outputs": [],
   "source": [
    "census_2030 = df_ops.persist(df_ops.read_parquet(f'{input_dir}/{data_to_use}/simulated_census_2030.parquet'))\n",
    "geobase_reference_file = df_ops.persist(df_ops.read_parquet(f'{input_dir}/{data_to_use}/simulated_geobase_reference_file.parquet'))\n",
    "name_dob_reference_file = df_ops.persist(df_ops.read_parquet(f'{input_dir}/{data_to_use}/simulated_name_dob_reference_file.parquet'))"
   ]
  },
  {
   "cell_type": "markdown",
   "id": "5bc6d16d-f4c9-4c1a-b969-baee5ac539ad",
   "metadata": {
    "papermill": {
     "duration": 0.02987,
     "end_time": "2024-02-13T00:17:10.562878",
     "exception": false,
     "start_time": "2024-02-13T00:17:10.533008",
     "status": "completed"
    },
    "tags": []
   },
   "source": [
    "# Pre-process input file\n",
    "\n",
    "Wagner and Layne, p. 9:\n",
    "\n",
    "> The first step of the PVS process is to edit data fields to make them homogenous for\n",
    "comparisons between incoming and reference files."
   ]
  },
  {
   "cell_type": "code",
   "execution_count": 17,
   "id": "ee0111f6-d8e0-4758-a242-70027d67b313",
   "metadata": {
    "execution": {
     "iopub.execute_input": "2024-02-13T00:17:10.625978Z",
     "iopub.status.busy": "2024-02-13T00:17:10.625580Z",
     "iopub.status.idle": "2024-02-13T00:17:10.632665Z",
     "shell.execute_reply": "2024-02-13T00:17:10.631918Z"
    },
    "papermill": {
     "duration": 0.037374,
     "end_time": "2024-02-13T00:17:10.634434",
     "exception": false,
     "start_time": "2024-02-13T00:17:10.597060",
     "status": "completed"
    },
    "tags": []
   },
   "outputs": [],
   "source": [
    "# Input file before any processing; the final result will be this with the PIK column added\n",
    "census_2030_raw_input = census_2030.copy()"
   ]
  },
  {
   "cell_type": "markdown",
   "id": "829cf59a-804c-4372-bcbf-740ec724b3ee",
   "metadata": {
    "papermill": {
     "duration": 0.0326,
     "end_time": "2024-02-13T00:17:10.694390",
     "exception": false,
     "start_time": "2024-02-13T00:17:10.661790",
     "status": "completed"
    },
    "tags": []
   },
   "source": [
    "## Name parsing and standardizing\n",
    "\n",
    "Wagner and Layne, p. 9:\n",
    "\n",
    "> The first edits are parsing and standardizing - parsing separates fields into\n",
    "component parts, while standardizing guarantees key data elements are consistent (e.g.,\n",
    "STREET, STR are both converted to ST). Name and address fields are parsed and\n",
    "standardized as they are key linkage comparators. \n",
    "\n",
    "As noted in the data generation notebook, there is no parsing to be done here:\n",
    "because the Census questionnnaire asks for first name, middle initial, and last name as\n",
    "separate fields on the form, the name would be already parsed when running PVS on the CUF.\n",
    "\n",
    "The real PVS name parser generates fields like prefix (e.g. Mr.) and suffix (e.g. Jr.)\n",
    "but we never have these in names from pseudopeople.\n",
    "\n",
    "More details about the name parser and standardizer (Wagner and Layne, p. 10):\n",
    "\n",
    "> The PVS system incorporates a name\n",
    "standardizer (McGaughey, 1994), which is a C language subroutine called as a function\n",
    "within SAS. It performs name parsing and includes a nickname lookup table and outputs\n",
    "name variants (standardized variations of first and last names). For example, Bill\n",
    "becomes William, Chuck and Charlie becomes Charles, etc. The PVS keeps both the\n",
    "original name (Bill) and the converted name (William) for matching. PVS also has a fake\n",
    "name table to blank names such as “Queen of the House” or “Baby Girl.” The name data\n",
    "are parsed, checked for nicknames, and standardized.\n",
    "\n",
    "The key thing that wasn't clear to me from this description was what it meant to\n",
    "\"keep both original name and the converted name for matching.\"\n",
    "I found this in Massey et al.:\n",
    "\n",
    "> The Name Search Module also accounts for instances where census records contain a nickname.\n",
    "> For these records, the preprocessing step of the Name Search module outputs two records for\n",
    "> these observations, one record for the nickname and one record for the formal name.\n",
    "> For example, if the input record has the name “Bill Smith,” the formatting program will add\n",
    "> a formal name “William” to that record. This record will then output to both the B-S cut and to the W-S cut.\n",
    "\n",
    "From this, I gather that nicknames work similar to alternate names in the reference file:\n",
    "entire duplicate records are made with each name (nickname and formal).\n",
    "However, I am still confused by calling this \"the preprocessing step **of the Name Search module**.\"\n",
    "In Wagner and Layne it does not seem like this is module-specific, and I don't see any\n",
    "reason that would be desirable, so I have done this multi-record approach across all modules."
   ]
  },
  {
   "cell_type": "code",
   "execution_count": 18,
   "id": "7b449705-cd3f-4a14-9520-b4dfb1fa481b",
   "metadata": {
    "execution": {
     "iopub.execute_input": "2024-02-13T00:17:10.749700Z",
     "iopub.status.busy": "2024-02-13T00:17:10.749311Z",
     "iopub.status.idle": "2024-02-13T00:17:10.835050Z",
     "shell.execute_reply": "2024-02-13T00:17:10.834331Z"
    },
    "papermill": {
     "duration": 0.115651,
     "end_time": "2024-02-13T00:17:10.836928",
     "exception": false,
     "start_time": "2024-02-13T00:17:10.721277",
     "status": "completed"
    },
    "tags": []
   },
   "outputs": [
    {
     "name": "stdout",
     "output_type": "stream",
     "text": [
      "1,458 nicknames in the Census\n"
     ]
    }
   ],
   "source": [
    "# Nickname processing\n",
    "# Have not yet found a nickname list in PVS docs,\n",
    "# so we do a minimal version for now -- could use\n",
    "# another list such as the one in pseudopeople\n",
    "# These examples all come directly from examples in the descriptions of PVS\n",
    "nickname_standardizations = {\n",
    "    \"Bill\": \"William\",\n",
    "    \"Chuck\": \"Charles\",\n",
    "    \"Charlie\": \"Charles\",\n",
    "    \"Cathy\": \"Catherine\",\n",
    "    \"Matt\": \"Matthew\",\n",
    "}\n",
    "has_nickname = df_ops.persist(census_2030.first_name.isin(nickname_standardizations.keys()))\n",
    "print(f'{df_ops.compute(has_nickname.sum()):,.0f} nicknames in the Census')"
   ]
  },
  {
   "cell_type": "code",
   "execution_count": 19,
   "id": "8b119152-d5db-4d78-bab9-b15feae95f98",
   "metadata": {
    "execution": {
     "iopub.execute_input": "2024-02-13T00:17:10.902204Z",
     "iopub.status.busy": "2024-02-13T00:17:10.901826Z",
     "iopub.status.idle": "2024-02-13T00:17:11.168855Z",
     "shell.execute_reply": "2024-02-13T00:17:11.167792Z"
    },
    "papermill": {
     "duration": 0.306652,
     "end_time": "2024-02-13T00:17:11.171142",
     "exception": false,
     "start_time": "2024-02-13T00:17:10.864490",
     "status": "completed"
    },
    "tags": []
   },
   "outputs": [],
   "source": [
    "# Add extra rows for the normalized names\n",
    "census_2030 = df_ops.concat([\n",
    "    census_2030,\n",
    "    census_2030[has_nickname].assign(first_name=lambda df: df.first_name.replace(nickname_standardizations))\n",
    "], ignore_index=True)"
   ]
  },
  {
   "cell_type": "code",
   "execution_count": 20,
   "id": "bb25cd47-aab9-42ee-98a5-3bdc3d66c2af",
   "metadata": {
    "execution": {
     "iopub.execute_input": "2024-02-13T00:17:11.237936Z",
     "iopub.status.busy": "2024-02-13T00:17:11.237527Z",
     "iopub.status.idle": "2024-02-13T00:17:11.262754Z",
     "shell.execute_reply": "2024-02-13T00:17:11.262022Z"
    },
    "papermill": {
     "duration": 0.056406,
     "end_time": "2024-02-13T00:17:11.264635",
     "exception": false,
     "start_time": "2024-02-13T00:17:11.208229",
     "status": "completed"
    },
    "tags": []
   },
   "outputs": [],
   "source": [
    "# Note: The above will introduce duplicates on record_id, so we redefine\n",
    "# record_id to be unique (without getting rid of the original, input file record ID)\n",
    "census_2030 = df_ops.add_unique_record_id(\n",
    "    census_2030.rename(columns={'record_id': 'record_id_raw_input_file'}),\n",
    "    \"census_2030_preprocessed\",\n",
    ")"
   ]
  },
  {
   "cell_type": "code",
   "execution_count": 21,
   "id": "a086540a-d9d0-4068-8ee8-539314aa91e6",
   "metadata": {
    "execution": {
     "iopub.execute_input": "2024-02-13T00:17:11.325963Z",
     "iopub.status.busy": "2024-02-13T00:17:11.325574Z",
     "iopub.status.idle": "2024-02-13T00:17:11.746749Z",
     "shell.execute_reply": "2024-02-13T00:17:11.746064Z"
    },
    "papermill": {
     "duration": 0.451587,
     "end_time": "2024-02-13T00:17:11.748497",
     "exception": false,
     "start_time": "2024-02-13T00:17:11.296910",
     "status": "completed"
    },
    "tags": []
   },
   "outputs": [
    {
     "name": "stdout",
     "output_type": "stream",
     "text": [
      "Imbalanced dataframe: too_few=True, too_many=False, too_large=False\n",
      "count        1.0\n",
      "mean     11489.0\n",
      "std          NaN\n",
      "min      11489.0\n",
      "25%      11489.0\n",
      "50%      11489.0\n",
      "75%      11489.0\n",
      "max      11489.0\n",
      "dtype: float64\n",
      "Leaving as a single partition\n"
     ]
    },
    {
     "data": {
      "text/html": [
       "<div><strong>Dask DataFrame Structure:</strong></div>\n",
       "<div>\n",
       "<style scoped>\n",
       "    .dataframe tbody tr th:only-of-type {\n",
       "        vertical-align: middle;\n",
       "    }\n",
       "\n",
       "    .dataframe tbody tr th {\n",
       "        vertical-align: top;\n",
       "    }\n",
       "\n",
       "    .dataframe thead th {\n",
       "        text-align: right;\n",
       "    }\n",
       "</style>\n",
       "<table border=\"1\" class=\"dataframe\">\n",
       "  <thead>\n",
       "    <tr style=\"text-align: right;\">\n",
       "      <th></th>\n",
       "      <th>fake_name</th>\n",
       "    </tr>\n",
       "    <tr>\n",
       "      <th>npartitions=1</th>\n",
       "      <th></th>\n",
       "    </tr>\n",
       "  </thead>\n",
       "  <tbody>\n",
       "    <tr>\n",
       "      <th></th>\n",
       "      <td>large_string[pyarrow]</td>\n",
       "    </tr>\n",
       "    <tr>\n",
       "      <th></th>\n",
       "      <td>...</td>\n",
       "    </tr>\n",
       "  </tbody>\n",
       "</table>\n",
       "</div>\n",
       "<div>Dask Name: to_pyarrow_large_string, 1 graph layer</div>"
      ],
      "text/plain": [
       "Dask DataFrame Structure:\n",
       "                           fake_name\n",
       "npartitions=1                       \n",
       "               large_string[pyarrow]\n",
       "                                 ...\n",
       "Dask Name: to_pyarrow_large_string, 1 graph layer"
      ]
     },
     "execution_count": 21,
     "metadata": {},
     "output_type": "execute_result"
    }
   ],
   "source": [
    "# This list of fake names comes from the NORC report, p. 100-101\n",
    "# It is what was used in PVS as of 2011\n",
    "fake_names = pd.read_csv('fake-names.txt', header=None).rename(columns={0: 'fake_name'})\n",
    "fake_names = df_ops.persist(\n",
    "    fake_names\n",
    "        .assign(fake_name=fake_names.fake_name.str.strip().str.upper())\n",
    "        .dropna(subset='fake_name')\n",
    "        .pipe(df_ops.drop_duplicates)\n",
    "        .pipe(df_ops.ensure_large_string_capacity)\n",
    ")\n",
    "\n",
    "assert df_ops.compute((fake_names.fake_name == fake_names.fake_name.str.upper()).all())\n",
    "fake_names"
   ]
  },
  {
   "cell_type": "code",
   "execution_count": 22,
   "id": "f234ee61-5d2a-490e-97ad-eff72df732ad",
   "metadata": {
    "execution": {
     "iopub.execute_input": "2024-02-13T00:17:11.812589Z",
     "iopub.status.busy": "2024-02-13T00:17:11.812122Z",
     "iopub.status.idle": "2024-02-13T00:17:16.116976Z",
     "shell.execute_reply": "2024-02-13T00:17:16.114957Z"
    },
    "papermill": {
     "duration": 4.342847,
     "end_time": "2024-02-13T00:17:16.119069",
     "exception": false,
     "start_time": "2024-02-13T00:17:11.776222",
     "status": "completed"
    },
    "tags": []
   },
   "outputs": [
    {
     "name": "stdout",
     "output_type": "stream",
     "text": [
      "Found 6,194 fake names in first_name\n",
      "Found 5,911 fake names in last_name\n"
     ]
    }
   ],
   "source": [
    "for col in [\"first_name\", \"last_name\"]:\n",
    "    census_2030 = census_2030.assign(**{f'{col}_upper': census_2030[col].str.upper()}).merge(fake_names, left_on=f'{col}_upper', right_on='fake_name', how='left')\n",
    "    has_fake_name = df_ops.persist(census_2030.fake_name.notnull())\n",
    "    print(f'Found {df_ops.compute(has_fake_name.sum()):,.0f} fake names in {col}')\n",
    "    census_2030 = df_ops.concat([\n",
    "        census_2030[~has_fake_name].drop(columns=['fake_name', f'{col}_upper']),\n",
    "        # NOTE: For reasons I don't really understand, assigning pandas.NA reverts it to a normal string instead of a large_string\n",
    "        census_2030[has_fake_name].assign(**{col: pandas.NA}).drop(columns=['fake_name', f'{col}_upper']).pipe(df_ops.ensure_large_string_capacity),\n",
    "    ], ignore_index=True)"
   ]
  },
  {
   "cell_type": "markdown",
   "id": "26659727-027b-4daf-8921-1fdb4b5e4d54",
   "metadata": {
    "papermill": {
     "duration": 0.027862,
     "end_time": "2024-02-13T00:17:16.181972",
     "exception": false,
     "start_time": "2024-02-13T00:17:16.154110",
     "status": "completed"
    },
    "tags": []
   },
   "source": [
    "## Address parsing and standardizing\n",
    "\n",
    "Wagner and Layne, p. 11:\n",
    "\n",
    "> The PVS editing process also incorporates an address parser and standardizer,\n",
    "written in the C language and called as a function within SAS (U.S. Census Bureau\n",
    "Geography Division, 1995). It performs parsing of address strings into individual output\n",
    "fields (see Figure 2), and standardizes the spelling of key components of the address\n",
    "such as street type. The PVS also incorporates use of a commercial product to update\n",
    "zip codes, and correct misspellings of address elements.\n",
    "\n",
    "As noted in the data generation notebook, for now we haven't combined the address parts\n",
    "into a single string that would need to be parsed.\n",
    "We plan to add this in a future version of pseudopeople.\n",
    "\n",
    "For now, we do some simple standardization in each of the address parts (street number,\n",
    "street name, etc)."
   ]
  },
  {
   "cell_type": "code",
   "execution_count": 23,
   "id": "9435bc12-0002-44bc-91e3-26083d95c498",
   "metadata": {
    "execution": {
     "iopub.execute_input": "2024-02-13T00:17:16.250208Z",
     "iopub.status.busy": "2024-02-13T00:17:16.249808Z",
     "iopub.status.idle": "2024-02-13T00:17:16.392525Z",
     "shell.execute_reply": "2024-02-13T00:17:16.391813Z"
    },
    "papermill": {
     "duration": 0.17482,
     "end_time": "2024-02-13T00:17:16.394419",
     "exception": false,
     "start_time": "2024-02-13T00:17:16.219599",
     "status": "completed"
    },
    "tags": []
   },
   "outputs": [],
   "source": [
    "def standardize_address_part(column):\n",
    "    return (\n",
    "        column\n",
    "            # Remove leading or trailing whitespace\n",
    "            .str.strip()\n",
    "            # Turn any strings of consecutive whitespace into a single space\n",
    "            .str.replace('\\s+', ' ', regex=True)\n",
    "            # Normalize case\n",
    "            .str.upper()\n",
    "            # Normalize the word street as described in the example quoted above\n",
    "            # In reality, there would be many rules like this\n",
    "            .str.replace('\\b(STREET|STR)\\b', 'ST', regex=True)\n",
    "            # Make sure missingness is represented consistently\n",
    "            .replace('', pandas.NA)\n",
    "    )\n",
    "\n",
    "address_cols = ['street_number', 'street_name', 'unit_number', 'city', 'state', 'zipcode']\n",
    "for address_col in address_cols:\n",
    "    census_2030 = census_2030.assign(**{address_col: census_2030[address_col].pipe(standardize_address_part)})\n",
    "\n",
    "census_2030 = df_ops.ensure_large_string_capacity(census_2030)"
   ]
  },
  {
   "cell_type": "markdown",
   "id": "95b55b52-c3ad-41da-9351-05ef56927dbf",
   "metadata": {
    "papermill": {
     "duration": 0.028845,
     "end_time": "2024-02-13T00:17:16.458636",
     "exception": false,
     "start_time": "2024-02-13T00:17:16.429791",
     "status": "completed"
    },
    "tags": []
   },
   "source": [
    "## MAFMatch\n",
    "\n",
    "**General information about MAFMatch**\n",
    "\n",
    "Wagner and Layne, p. 11:\n",
    "\n",
    "> The PVS provides an additional address enhancement by matching records in the\n",
    "incoming file to Census Bureau’s Master Address File (MAF) in order to assign a unique\n",
    "address identifier, the MAF Identifier (MAFID), and other Census geographical codes\n",
    "(e.g., Census tract and block). The MAFID is used in the PVS for search purposes and as a\n",
    "linkage key for administrative files. Then, addresses are matched to the Census Bureau’s\n",
    "Topologically Integrated Geographic Encoding and Referencing Database (TIGER) to\n",
    "obtain Census geographical codes.\n",
    "\n",
    "My understanding is that this step is useful for two reasons:\n",
    "- Potentially adds an alternate version/way of formatting the same address\n",
    "  (the way it is in the MAF, instead of the way it is in the input file).\n",
    "  However, instead of using this alternate to match directly, it is boiled down\n",
    "  to a MAFID, so it is only useful when an input file address and a reference file\n",
    "  address (different to one another) both match to the same MAF address.\n",
    "  (Presumably, the whole MAFMatch process described here needs to run on the reference files?)\n",
    "- Adds Census geographies which could be used in blocking (but are they?)\n",
    "\n",
    "I don't understand the TIGER part of this.\n",
    "In particular, p. 12 describes a probabilistic/fuzzy match to TIGER, but I thought TIGER\n",
    "would contain exactly the same addresses as the MAF.\n",
    "I also don't understand what geocodes would be present in TIGER that wouldn't also be\n",
    "present in the MAF.\n",
    "Maybe these things are more out-of-sync with each other than I understood.\n",
    "\n",
    "**MAFMatch in this case study**\n",
    "\n",
    "In the decennial Census, the sampling frame is a subset of the MAF (Brown et al., p. 15, footnote 4).\n",
    "That is, in the CUF, the address field (which is not supplied by the respondent)\n",
    "would be the MAF address the questionnaire/NRFU was sent to.\n",
    "\n",
    "Therefore, I don't believe it makes sense to do MAFMatch for the CUF, because all the addresses\n",
    "are already the same.\n",
    "I haven't fully confirmed this, but p. 14 of Wagner and Layne says\n",
    "\n",
    "> The 2010 Census Unedited File (CUF), had 350 million records and processed through every PVS\n",
    "module, excluding MAF match and SSN verification\n",
    "\n",
    "which suggests that (like SSN verification) MAFMatch is not applicable to the CUF.\n",
    "\n",
    "Given this, we skip MAFMatch here.\n",
    "Also, if we wanted to add it, we would need to generate something like a MAF from pseudopeople."
   ]
  },
  {
   "cell_type": "markdown",
   "id": "2e7ec2c6-a028-4f36-a041-63627fb60fd6",
   "metadata": {
    "papermill": {
     "duration": 0.034064,
     "end_time": "2024-02-13T00:17:16.521544",
     "exception": false,
     "start_time": "2024-02-13T00:17:16.487480",
     "status": "completed"
    },
    "tags": []
   },
   "source": [
    "## Drop records with insufficient information\n",
    "\n",
    "In 2011 (NORC, p. 25):\n",
    "\n",
    "> The initial edit process, described in the Introduction: PVS Background section, removes from consideration\n",
    "incoming records that have no name data. Therefore, no record that is processed in PVS has blank first and last\n",
    "names.\n",
    "\n",
    "In 2014 it appears to be the same/similar, because in Table 2 of Wagner and Layne there is a row \"NO SEARCH: Blank Name\" (p. 18).\n",
    "\n",
    "In 2023 (Brown et al., p. 28):\n",
    "\n",
    "> Records containing sufficient PII to be linkable with some confidence, for example those\n",
    "containing name and age, are sent through the linkage process.<sup>15</sup>\n",
    "\n",
    "> <sup>15</sup> Records with names on the PVS invalid name list (e.g., “Mickey Mouse,” “householder,” or “son”) are excluded\n",
    "from PVS search.\n",
    "\n",
    "I'd prefer to use the 2023 information, but it is too vague:\n",
    "\"for example\" means this is just an approximation, and it doesn't specify\n",
    "parts of \"name.\"\n",
    "The footnote also seems to contradict earlier reports, which said fake names were simply\n",
    "blanked out, which seems preferable.\n",
    "Since the fake name step comes before this one, a fake first **and** last name would lead\n",
    "to exclusion here, which is perhaps what the footnote was intending?\n",
    "\n",
    "Here, we follow the blank-name approach."
   ]
  },
  {
   "cell_type": "code",
   "execution_count": 24,
   "id": "277c1379-c46b-4a0f-8011-596efae84778",
   "metadata": {
    "execution": {
     "iopub.execute_input": "2024-02-13T00:17:16.581814Z",
     "iopub.status.busy": "2024-02-13T00:17:16.581426Z",
     "iopub.status.idle": "2024-02-13T00:17:16.592526Z",
     "shell.execute_reply": "2024-02-13T00:17:16.590734Z"
    },
    "papermill": {
     "duration": 0.042003,
     "end_time": "2024-02-13T00:17:16.594728",
     "exception": false,
     "start_time": "2024-02-13T00:17:16.552725",
     "status": "completed"
    },
    "tags": []
   },
   "outputs": [],
   "source": [
    "census_2030 = census_2030[\n",
    "    census_2030.first_name.notnull() |\n",
    "    census_2030.last_name.notnull()\n",
    "]"
   ]
  },
  {
   "cell_type": "markdown",
   "id": "e51a91f7-e733-4a3d-bd56-7e23b0c8d138",
   "metadata": {
    "papermill": {
     "duration": 0.028215,
     "end_time": "2024-02-13T00:17:16.658938",
     "exception": false,
     "start_time": "2024-02-13T00:17:16.630723",
     "status": "completed"
    },
    "tags": []
   },
   "source": [
    "# Create derived variables for use in linkage\n",
    "\n",
    "Here we create variables to be used as matching variables and blocking keys,\n",
    "when those matching variables/blocking keys are defined in a way that is not already\n",
    "present in the data at this point.\n",
    "\n",
    "The variables needed here depend on the modules and passes described below -- see those\n",
    "sections for more citations."
   ]
  },
  {
   "cell_type": "code",
   "execution_count": 25,
   "id": "edb97b21-8ca1-4ad3-bae1-dbf7dc0bee00",
   "metadata": {
    "execution": {
     "iopub.execute_input": "2024-02-13T00:17:16.720484Z",
     "iopub.status.busy": "2024-02-13T00:17:16.720105Z",
     "iopub.status.idle": "2024-02-13T00:17:16.736235Z",
     "shell.execute_reply": "2024-02-13T00:17:16.735531Z"
    },
    "papermill": {
     "duration": 0.051119,
     "end_time": "2024-02-13T00:17:16.738150",
     "exception": false,
     "start_time": "2024-02-13T00:17:16.687031",
     "status": "completed"
    },
    "tags": []
   },
   "outputs": [],
   "source": [
    "# We want to compare mailing address with physical address\n",
    "geobase_reference_file = geobase_reference_file.rename(columns=lambda c: c.replace('mailing_address_', ''))"
   ]
  },
  {
   "cell_type": "code",
   "execution_count": 26,
   "id": "c61c2257-a840-498a-9aa5-0788f9763634",
   "metadata": {
    "execution": {
     "iopub.execute_input": "2024-02-13T00:17:16.795176Z",
     "iopub.status.busy": "2024-02-13T00:17:16.794857Z",
     "iopub.status.idle": "2024-02-13T00:17:17.016053Z",
     "shell.execute_reply": "2024-02-13T00:17:17.011284Z"
    },
    "papermill": {
     "duration": 0.254223,
     "end_time": "2024-02-13T00:17:17.019967",
     "exception": false,
     "start_time": "2024-02-13T00:17:16.765744",
     "status": "completed"
    },
    "tags": []
   },
   "outputs": [],
   "source": [
    "# PVS uses DOB as separate fields for day, month, and year\n",
    "def split_dob(df, date_format='%Y%m%d'):\n",
    "    # Have to be floats because we want to treat as numeric for assessing similarity\n",
    "    # Note that as of now, none of our pseudopeople noise types would change the punctuation (\"/\") in the date, but\n",
    "    # they can insert non-numeric characters here or otherwise create invalid dates, in which case we fail to parse the date\n",
    "    # and treat it as missing.\n",
    "    dob = pd.to_datetime(df.date_of_birth, format=date_format, errors='coerce')\n",
    "    df = df.assign(\n",
    "        month_of_birth=dob.dt.month,\n",
    "        year_of_birth=dob.dt.year,\n",
    "        day_of_birth=dob.dt.day,\n",
    "    )\n",
    "    df = df.assign(\n",
    "        month_of_birth=df.month_of_birth.fillna(pandas.NA),\n",
    "        year_of_birth=df.year_of_birth.fillna(pandas.NA),\n",
    "        day_of_birth=df.day_of_birth.fillna(pandas.NA),\n",
    "    )\n",
    "    return df.drop(columns=['date_of_birth'])\n",
    "\n",
    "census_2030 = split_dob(census_2030, date_format='%m/%d/%Y')\n",
    "geobase_reference_file = split_dob(geobase_reference_file)\n",
    "name_dob_reference_file = split_dob(name_dob_reference_file)"
   ]
  },
  {
   "cell_type": "code",
   "execution_count": 27,
   "id": "55126ed5-94e3-4713-badd-9861f5c6ab68",
   "metadata": {
    "execution": {
     "iopub.execute_input": "2024-02-13T00:17:17.091134Z",
     "iopub.status.busy": "2024-02-13T00:17:17.090711Z",
     "iopub.status.idle": "2024-02-13T00:17:23.387553Z",
     "shell.execute_reply": "2024-02-13T00:17:23.386365Z"
    },
    "papermill": {
     "duration": 6.331637,
     "end_time": "2024-02-13T00:17:23.390474",
     "exception": false,
     "start_time": "2024-02-13T00:17:17.058837",
     "status": "completed"
    },
    "tags": []
   },
   "outputs": [],
   "source": [
    "# I don't fully understand the purpose of blocking on the geokey,\n",
    "# as opposed to just blocking on its constituent columns.\n",
    "# Maybe it is a way of dealing with missingness in those constituent\n",
    "# columns (e.g. so an address with no unit number can still be blocked on geokey)?\n",
    "def add_geokey(df):\n",
    "    return (\n",
    "        df.assign(\n",
    "            geokey=distributed_compute.add_strings(\n",
    "                compute_engine,\n",
    "                [\n",
    "                    df.street_number, ' ',\n",
    "                    df.street_name, ' ',\n",
    "                    df.unit_number, ' ',\n",
    "                    df.city, ' ',\n",
    "                    df.state, ' ',\n",
    "                    df.zipcode,\n",
    "                ]\n",
    "                # Normalize the whitespace\n",
    "            ).str.replace('\\s+', ' ', regex=True).str.strip().replace('', pandas.NA)\n",
    "        )\n",
    "        .pipe(df_ops.ensure_large_string_capacity)\n",
    "    )\n",
    "\n",
    "geobase_reference_file = add_geokey(geobase_reference_file)\n",
    "census_2030 = df_ops.persist(add_geokey(census_2030))"
   ]
  },
  {
   "cell_type": "code",
   "execution_count": 28,
   "id": "6d51e08a-8e28-4c0f-9a62-d6207a560f46",
   "metadata": {
    "execution": {
     "iopub.execute_input": "2024-02-13T00:17:23.463311Z",
     "iopub.status.busy": "2024-02-13T00:17:23.462915Z",
     "iopub.status.idle": "2024-02-13T00:17:28.752577Z",
     "shell.execute_reply": "2024-02-13T00:17:28.751820Z"
    },
    "papermill": {
     "duration": 5.321825,
     "end_time": "2024-02-13T00:17:28.754395",
     "exception": false,
     "start_time": "2024-02-13T00:17:23.432570",
     "status": "completed"
    },
    "tags": []
   },
   "outputs": [
    {
     "name": "stdout",
     "output_type": "stream",
     "text": [
      "1,909 probable GQ geokeys\n"
     ]
    }
   ],
   "source": [
    "# HACK: Remove address information from GQ, so it isn't used for blocking\n",
    "# nor for HHCompSearch.\n",
    "# Currently we have massive GQ \"households.\"\n",
    "# NOTE: This will miss people who are actually in GQ who have had their address noised,\n",
    "# but that doesn't create huge \"households\" anyway so it's not a big deal\n",
    "# NOTE: We can't just throw out any household where anyone has a GQ housing_type\n",
    "# since the housing_type column itself can be noised. We set a threshold (data size dependent)\n",
    "# of how many people in a household need to have a GQ housing_type.\n",
    "unlikely_due_to_noise_threshold = 250 if data_to_use == 'usa' else 2\n",
    "probable_gq_geokeys = df_ops.persist(\n",
    "    census_2030[census_2030.housing_type.notnull()].assign(reported_gq=lambda df: df.housing_type != 'Household')\n",
    "        .pipe(df_ops.groupby_agg_small_groups, by=\"geokey\", agg_func=lambda x: x.reported_gq.agg([\"sum\", \"mean\"]))\n",
    "        .pipe(lambda df: df[(df['sum'] >= unlikely_due_to_noise_threshold) & (df['mean'] >= 0.70)])\n",
    "        .reset_index()\n",
    "        .assign(is_gq_geokey=True)\n",
    ")\n",
    "\n",
    "if data_to_use in ('usa', 'ri'):\n",
    "    num_shards = 334\n",
    "    num_gq_types = 6\n",
    "    if data_to_use == 'usa':\n",
    "        # Should be exact\n",
    "        assert num_shards * num_gq_types == len(probable_gq_geokeys)\n",
    "    else:\n",
    "        # Should be close\n",
    "        print(f'{len(probable_gq_geokeys):,.0f} probable GQ geokeys')\n",
    "        assert (num_shards * num_gq_types * 0.75) <= len(probable_gq_geokeys) <= (num_shards * num_gq_types * 1.25)\n",
    "else:\n",
    "    print(f'{len(probable_gq_geokeys):,.0f} probable GQ geokeys')"
   ]
  },
  {
   "cell_type": "code",
   "execution_count": 29,
   "id": "a3f92cd7-9a57-4ea1-a97a-c091ea335a00",
   "metadata": {
    "execution": {
     "iopub.execute_input": "2024-02-13T00:17:28.823185Z",
     "iopub.status.busy": "2024-02-13T00:17:28.822783Z",
     "iopub.status.idle": "2024-02-13T00:17:32.686707Z",
     "shell.execute_reply": "2024-02-13T00:17:32.684642Z"
    },
    "papermill": {
     "duration": 3.904235,
     "end_time": "2024-02-13T00:17:32.690487",
     "exception": false,
     "start_time": "2024-02-13T00:17:28.786252",
     "status": "completed"
    },
    "tags": []
   },
   "outputs": [],
   "source": [
    "census_2030 = census_2030.merge(probable_gq_geokeys[['geokey', 'is_gq_geokey']], on=\"geokey\", how=\"left\").assign(is_gq_geokey=lambda df: df.is_gq_geokey.fillna(False))\n",
    "\n",
    "census_2030 = df_ops.ensure_large_string_capacity(df_ops.concat([\n",
    "    census_2030[~census_2030.is_gq_geokey].assign(\n",
    "        geokey_for_blocking=lambda df: df.geokey,\n",
    "        street_number_for_blocking=lambda df: df.street_number,\n",
    "        street_name_for_blocking=lambda df: df.street_name,\n",
    "    ).drop(columns=[\"is_gq_geokey\"]),\n",
    "    census_2030[census_2030.is_gq_geokey].assign(\n",
    "        geokey_for_blocking=pandas.NA,\n",
    "        street_number_for_blocking=pandas.NA,\n",
    "        street_name_for_blocking=pandas.NA,\n",
    "    ).drop(columns=[\"is_gq_geokey\"]),\n",
    "], ignore_index=True))"
   ]
  },
  {
   "cell_type": "code",
   "execution_count": 30,
   "id": "d10958fd-adad-4bb2-b4c2-641f6ad242e5",
   "metadata": {
    "execution": {
     "iopub.execute_input": "2024-02-13T00:17:32.760313Z",
     "iopub.status.busy": "2024-02-13T00:17:32.759992Z",
     "iopub.status.idle": "2024-02-13T00:17:41.680907Z",
     "shell.execute_reply": "2024-02-13T00:17:41.676988Z"
    },
    "papermill": {
     "duration": 8.960502,
     "end_time": "2024-02-13T00:17:41.683754",
     "exception": false,
     "start_time": "2024-02-13T00:17:32.723252",
     "status": "completed"
    },
    "tags": []
   },
   "outputs": [
    {
     "name": "stdout",
     "output_type": "stream",
     "text": [
      "Imbalanced dataframe: too_few=False, too_many=True, too_large=False\n",
      "count    1.880000e+02\n",
      "mean     5.343919e+06\n",
      "std      4.724623e+06\n",
      "min      3.604000e+04\n",
      "25%      2.547958e+05\n",
      "50%      8.350430e+06\n",
      "75%      9.769230e+06\n",
      "max      1.729950e+07\n",
      "dtype: float64\n",
      "Creating partitions of 100MB\n"
     ]
    }
   ],
   "source": [
    "geobase_reference_file = geobase_reference_file.merge(probable_gq_geokeys[['geokey', 'is_gq_geokey']], on=\"geokey\", how=\"left\").assign(is_gq_geokey=lambda df: df.is_gq_geokey.fillna(False))\n",
    "\n",
    "geobase_reference_file = df_ops.ensure_large_string_capacity(df_ops.concat([\n",
    "    geobase_reference_file[~geobase_reference_file.is_gq_geokey].assign(\n",
    "        geokey_for_blocking=lambda df: df.geokey,\n",
    "        street_number_for_blocking=lambda df: df.street_number,\n",
    "        street_name_for_blocking=lambda df: df.street_name,\n",
    "    ).drop(columns=[\"is_gq_geokey\"]),\n",
    "    geobase_reference_file[geobase_reference_file.is_gq_geokey].assign(\n",
    "        geokey_for_blocking=pandas.NA,\n",
    "        street_number_for_blocking=pandas.NA,\n",
    "        street_name_for_blocking=pandas.NA,\n",
    "    ).drop(columns=[\"is_gq_geokey\"]),\n",
    "], ignore_index=True))"
   ]
  },
  {
   "cell_type": "code",
   "execution_count": 31,
   "id": "2a686489-f265-4647-ad1d-7b6b93f8578e",
   "metadata": {
    "execution": {
     "iopub.execute_input": "2024-02-13T00:17:41.758510Z",
     "iopub.status.busy": "2024-02-13T00:17:41.758114Z",
     "iopub.status.idle": "2024-02-13T00:17:41.763589Z",
     "shell.execute_reply": "2024-02-13T00:17:41.762597Z"
    },
    "papermill": {
     "duration": 0.043549,
     "end_time": "2024-02-13T00:17:41.765787",
     "exception": false,
     "start_time": "2024-02-13T00:17:41.722238",
     "status": "completed"
    },
    "tags": []
   },
   "outputs": [],
   "source": [
    "%xdel probable_gq_geokeys"
   ]
  },
  {
   "cell_type": "code",
   "execution_count": 32,
   "id": "6894cbdd-fef2-417d-a69f-3e15433c1c72",
   "metadata": {
    "execution": {
     "iopub.execute_input": "2024-02-13T00:17:41.834666Z",
     "iopub.status.busy": "2024-02-13T00:17:41.834276Z",
     "iopub.status.idle": "2024-02-13T00:17:42.335256Z",
     "shell.execute_reply": "2024-02-13T00:17:42.334489Z"
    },
    "papermill": {
     "duration": 0.539449,
     "end_time": "2024-02-13T00:17:42.337180",
     "exception": false,
     "start_time": "2024-02-13T00:17:41.797731",
     "status": "completed"
    },
    "tags": []
   },
   "outputs": [],
   "source": [
    "# Layne, Wagner, and Rothhaas p. 26: the name matching variables are\n",
    "# First 15 characters First Name, First 15 characters Middle Name, First 12 characters Last Name\n",
    "# Additionally, there are blocking columns for all of 1-3 initial characters of First/Last.\n",
    "# We don't have a full middle name in pseudopeople (nor would that be present in a real CUF)\n",
    "# so we have to stick to the first initial for middle.\n",
    "def add_truncated_name_cols(df):\n",
    "    df = df.assign(\n",
    "        first_name_15=df.first_name.str[:15],\n",
    "        last_name_12=df.last_name.str[:12]\n",
    "    )\n",
    "\n",
    "    if 'middle_name' in df.columns and 'middle_initial' not in df.columns:\n",
    "        df = df.assign(middle_initial=df.middle_name.str[:1])\n",
    "\n",
    "    for num_chars in [1, 2, 3]:\n",
    "        df = df.assign(**{\n",
    "            f'first_name_{num_chars}': df.first_name.str[:num_chars],\n",
    "            f'last_name_{num_chars}': df.last_name.str[:num_chars],\n",
    "        })\n",
    "\n",
    "    return df\n",
    "\n",
    "census_2030 = add_truncated_name_cols(census_2030)\n",
    "geobase_reference_file = add_truncated_name_cols(geobase_reference_file)\n",
    "name_dob_reference_file = add_truncated_name_cols(name_dob_reference_file)"
   ]
  },
  {
   "cell_type": "code",
   "execution_count": 33,
   "id": "c29dcc81-9056-459b-80f6-fd32125913bc",
   "metadata": {
    "execution": {
     "iopub.execute_input": "2024-02-13T00:17:42.397421Z",
     "iopub.status.busy": "2024-02-13T00:17:42.396844Z",
     "iopub.status.idle": "2024-02-13T00:17:42.695674Z",
     "shell.execute_reply": "2024-02-13T00:17:42.694901Z"
    },
    "papermill": {
     "duration": 0.330954,
     "end_time": "2024-02-13T00:17:42.697737",
     "exception": false,
     "start_time": "2024-02-13T00:17:42.366783",
     "status": "completed"
    },
    "tags": []
   },
   "outputs": [],
   "source": [
    "# Layne, Wagner, and Rothhaas p. 26: phonetics are used in blocking (not matching)\n",
    "# - Soundex for Street Name\n",
    "# - NYSIIS code for First Name\n",
    "# - NYSIIS code for Last Name\n",
    "# - Reverse Soundex for First Name\n",
    "# - Reverse Soundex for Last Name\n",
    "\n",
    "def nysiis(input_string):\n",
    "    if pandas.isna(input_string):\n",
    "        return pandas.NA\n",
    "    result = jellyfish.nysiis(input_string)\n",
    "    if pandas.isna(result):\n",
    "        return pandas.NA\n",
    "\n",
    "    return result\n",
    "\n",
    "def soundex(input_string):\n",
    "    if pandas.isna(input_string):\n",
    "        return pandas.NA\n",
    "    result = jellyfish.soundex(input_string)\n",
    "    if pandas.isna(result):\n",
    "        return pandas.NA\n",
    "\n",
    "    return result\n",
    "\n",
    "def reverse_soundex(input_string):\n",
    "    if pandas.isna(input_string):\n",
    "        return pandas.NA\n",
    "\n",
    "    return soundex(input_string[::-1])\n",
    "\n",
    "def add_name_phonetics(df):\n",
    "    for col in ['first_name', 'last_name']:\n",
    "        kwargs = {}\n",
    "        if compute_engine == 'dask':\n",
    "            kwargs['meta'] = (col, 'object')\n",
    "        df = df.assign(**{f'{col}_nysiis': df[col].apply(nysiis, **kwargs)})\n",
    "        df = df.assign(**{f'{col}_reverse_soundex': df[col].apply(reverse_soundex, **kwargs)})\n",
    "\n",
    "    return df_ops.ensure_large_string_capacity(df)\n",
    "\n",
    "def add_address_phonetics(df):\n",
    "    kwargs = {}\n",
    "    if compute_engine == 'dask':\n",
    "        kwargs['meta'] = (col, 'object')\n",
    "    df = df.assign(street_name_for_blocking_soundex=df.street_name_for_blocking.apply(soundex, **kwargs))\n",
    "    return df_ops.ensure_large_string_capacity(df)\n",
    "\n",
    "census_2030 = add_name_phonetics(census_2030)\n",
    "census_2030 = add_address_phonetics(census_2030)\n",
    "\n",
    "geobase_reference_file = add_address_phonetics(geobase_reference_file)\n",
    "\n",
    "name_dob_reference_file = add_name_phonetics(name_dob_reference_file)"
   ]
  },
  {
   "cell_type": "code",
   "execution_count": 34,
   "id": "f1fe537d-10f4-4bf4-97e9-ee64fe5fcb8c",
   "metadata": {
    "execution": {
     "iopub.execute_input": "2024-02-13T00:17:42.764275Z",
     "iopub.status.busy": "2024-02-13T00:17:42.763864Z",
     "iopub.status.idle": "2024-02-13T00:17:42.771723Z",
     "shell.execute_reply": "2024-02-13T00:17:42.770685Z"
    },
    "papermill": {
     "duration": 0.039749,
     "end_time": "2024-02-13T00:17:42.773572",
     "exception": false,
     "start_time": "2024-02-13T00:17:42.733823",
     "status": "completed"
    },
    "tags": []
   },
   "outputs": [],
   "source": [
    "# Columns used to \"cut the database\": ZIP3 and a grouping of first and last initial\n",
    "def add_zip3(df):\n",
    "    return df.assign(zip3=lambda x: x.zipcode.str[:3])\n",
    "\n",
    "def add_first_last_initial_categories(df):\n",
    "    # Page 20 of the NORC report: \"Name-cuts are defined by combinations of the first characters of the first and last names. The twenty letter groupings\n",
    "    # for the first character are: A-or-blank, B, C, D, E, F, G, H, I, J, K, L, M, N, O, P, Q, R, S, T, and U-Z.\"\n",
    "    initial_cut = lambda x: x.fillna('A').str[0].replace('A', 'A-or-blank').replace(['U', 'V', 'W', 'X', 'Y', 'Z'], 'U-Z')\n",
    "    return df.assign(first_initial_cut=initial_cut(df.first_name), last_initial_cut=initial_cut(df.last_name))"
   ]
  },
  {
   "cell_type": "code",
   "execution_count": 35,
   "id": "d5e00367-d022-4ab2-942b-87a2b1abdfc8",
   "metadata": {
    "execution": {
     "iopub.execute_input": "2024-02-13T00:17:42.840370Z",
     "iopub.status.busy": "2024-02-13T00:17:42.839966Z",
     "iopub.status.idle": "2024-02-13T00:17:42.973508Z",
     "shell.execute_reply": "2024-02-13T00:17:42.972738Z"
    },
    "papermill": {
     "duration": 0.173545,
     "end_time": "2024-02-13T00:17:42.975543",
     "exception": false,
     "start_time": "2024-02-13T00:17:42.801998",
     "status": "completed"
    },
    "tags": []
   },
   "outputs": [],
   "source": [
    "census_2030 = add_zip3(census_2030)\n",
    "census_2030 = add_first_last_initial_categories(census_2030)\n",
    "\n",
    "geobase_reference_file = add_zip3(geobase_reference_file)\n",
    "\n",
    "name_dob_reference_file = add_first_last_initial_categories(name_dob_reference_file)"
   ]
  },
  {
   "cell_type": "code",
   "execution_count": null,
   "id": "0596bc8d-8f36-41bd-a6e2-a3f55c9ba66b",
   "metadata": {
    "papermill": {
     "duration": 0.034859,
     "end_time": "2024-02-13T00:17:43.040630",
     "exception": false,
     "start_time": "2024-02-13T00:17:43.005771",
     "status": "completed"
    },
    "tags": []
   },
   "outputs": [],
   "source": []
  },
  {
   "cell_type": "code",
   "execution_count": 36,
   "id": "e30f2911-72ad-4749-b4aa-18918335e0d0",
   "metadata": {
    "execution": {
     "iopub.execute_input": "2024-02-13T00:17:43.104109Z",
     "iopub.status.busy": "2024-02-13T00:17:43.103702Z",
     "iopub.status.idle": "2024-02-13T00:17:50.939654Z",
     "shell.execute_reply": "2024-02-13T00:17:50.933955Z"
    },
    "papermill": {
     "duration": 7.8732,
     "end_time": "2024-02-13T00:17:50.945247",
     "exception": false,
     "start_time": "2024-02-13T00:17:43.072047",
     "status": "completed"
    },
    "tags": []
   },
   "outputs": [],
   "source": [
    "census_2030, geobase_reference_file, name_dob_reference_file = df_ops.persist(census_2030, geobase_reference_file, name_dob_reference_file)"
   ]
  },
  {
   "cell_type": "markdown",
   "id": "5e413173-dde2-4bdb-a2cf-f0c5ef38e9a5",
   "metadata": {
    "papermill": {
     "duration": 0.030669,
     "end_time": "2024-02-13T00:17:51.017710",
     "exception": false,
     "start_time": "2024-02-13T00:17:50.987041",
     "status": "completed"
    },
    "tags": []
   },
   "source": [
    "# Data, ready to link"
   ]
  },
  {
   "cell_type": "code",
   "execution_count": 37,
   "id": "b6014eaa-3548-4d23-b7b9-f8e9f0f477f8",
   "metadata": {
    "execution": {
     "iopub.execute_input": "2024-02-13T00:17:51.089252Z",
     "iopub.status.busy": "2024-02-13T00:17:51.088930Z",
     "iopub.status.idle": "2024-02-13T00:17:51.151974Z",
     "shell.execute_reply": "2024-02-13T00:17:51.151020Z"
    },
    "papermill": {
     "duration": 0.104281,
     "end_time": "2024-02-13T00:17:51.153982",
     "exception": false,
     "start_time": "2024-02-13T00:17:51.049701",
     "status": "completed"
    },
    "tags": []
   },
   "outputs": [
    {
     "name": "stdout",
     "output_type": "stream",
     "text": [
      "1,099,471\n"
     ]
    }
   ],
   "source": [
    "print(f'{len(census_2030):,.0f}')"
   ]
  },
  {
   "cell_type": "code",
   "execution_count": 38,
   "id": "4306cf4f-d636-4d0c-9b07-7b73627982d3",
   "metadata": {
    "execution": {
     "iopub.execute_input": "2024-02-13T00:17:51.228905Z",
     "iopub.status.busy": "2024-02-13T00:17:51.228563Z",
     "iopub.status.idle": "2024-02-13T00:17:51.534900Z",
     "shell.execute_reply": "2024-02-13T00:17:51.534109Z"
    },
    "papermill": {
     "duration": 0.342895,
     "end_time": "2024-02-13T00:17:51.536989",
     "exception": false,
     "start_time": "2024-02-13T00:17:51.194094",
     "status": "completed"
    },
    "tags": []
   },
   "outputs": [
    {
     "data": {
      "text/html": [
       "<div>\n",
       "<style scoped>\n",
       "    .dataframe tbody tr th:only-of-type {\n",
       "        vertical-align: middle;\n",
       "    }\n",
       "\n",
       "    .dataframe tbody tr th {\n",
       "        vertical-align: top;\n",
       "    }\n",
       "\n",
       "    .dataframe thead th {\n",
       "        text-align: right;\n",
       "    }\n",
       "</style>\n",
       "<table border=\"1\" class=\"dataframe\">\n",
       "  <thead>\n",
       "    <tr style=\"text-align: right;\">\n",
       "      <th></th>\n",
       "      <th>household_id</th>\n",
       "      <th>first_name</th>\n",
       "      <th>middle_initial</th>\n",
       "      <th>last_name</th>\n",
       "      <th>age</th>\n",
       "      <th>street_number</th>\n",
       "      <th>street_name</th>\n",
       "      <th>unit_number</th>\n",
       "      <th>city</th>\n",
       "      <th>state</th>\n",
       "      <th>...</th>\n",
       "      <th>first_name_3</th>\n",
       "      <th>last_name_3</th>\n",
       "      <th>first_name_nysiis</th>\n",
       "      <th>first_name_reverse_soundex</th>\n",
       "      <th>last_name_nysiis</th>\n",
       "      <th>last_name_reverse_soundex</th>\n",
       "      <th>street_name_for_blocking_soundex</th>\n",
       "      <th>zip3</th>\n",
       "      <th>first_initial_cut</th>\n",
       "      <th>last_initial_cut</th>\n",
       "    </tr>\n",
       "  </thead>\n",
       "  <tbody>\n",
       "    <tr>\n",
       "      <th>0</th>\n",
       "      <td>4672_364145</td>\n",
       "      <td>Charles</td>\n",
       "      <td>M</td>\n",
       "      <td>Bradrick</td>\n",
       "      <td>56</td>\n",
       "      <td>1081</td>\n",
       "      <td>S PHILLIPS AVE</td>\n",
       "      <td>&lt;NA&gt;</td>\n",
       "      <td>SO KINGSTOWN</td>\n",
       "      <td>RI</td>\n",
       "      <td>...</td>\n",
       "      <td>Cha</td>\n",
       "      <td>Bra</td>\n",
       "      <td>CARL</td>\n",
       "      <td>S462</td>\n",
       "      <td>BRADRAC</td>\n",
       "      <td>K636</td>\n",
       "      <td>S141</td>\n",
       "      <td>028</td>\n",
       "      <td>C</td>\n",
       "      <td>B</td>\n",
       "    </tr>\n",
       "    <tr>\n",
       "      <th>1</th>\n",
       "      <td>4922_184977</td>\n",
       "      <td>Charles</td>\n",
       "      <td>O</td>\n",
       "      <td>Moreno</td>\n",
       "      <td>61</td>\n",
       "      <td>1003</td>\n",
       "      <td>E TRAVOIS</td>\n",
       "      <td>&lt;NA&gt;</td>\n",
       "      <td>WARWICK</td>\n",
       "      <td>RI</td>\n",
       "      <td>...</td>\n",
       "      <td>Cha</td>\n",
       "      <td>Mor</td>\n",
       "      <td>CARL</td>\n",
       "      <td>S462</td>\n",
       "      <td>MARAN</td>\n",
       "      <td>O565</td>\n",
       "      <td>E361</td>\n",
       "      <td>028</td>\n",
       "      <td>C</td>\n",
       "      <td>M</td>\n",
       "    </tr>\n",
       "    <tr>\n",
       "      <th>2</th>\n",
       "      <td>4941_177111</td>\n",
       "      <td>William</td>\n",
       "      <td>G</td>\n",
       "      <td>Wallace</td>\n",
       "      <td>71</td>\n",
       "      <td>2135</td>\n",
       "      <td>WEKIVA RD</td>\n",
       "      <td>APRT 499R</td>\n",
       "      <td>SOUTH KINGSTOWN</td>\n",
       "      <td>RI</td>\n",
       "      <td>...</td>\n",
       "      <td>Wil</td>\n",
       "      <td>Wal</td>\n",
       "      <td>WALAN</td>\n",
       "      <td>M400</td>\n",
       "      <td>WALAC</td>\n",
       "      <td>E240</td>\n",
       "      <td>W216</td>\n",
       "      <td>029</td>\n",
       "      <td>U-Z</td>\n",
       "      <td>U-Z</td>\n",
       "    </tr>\n",
       "    <tr>\n",
       "      <th>3</th>\n",
       "      <td>496_260941</td>\n",
       "      <td>William</td>\n",
       "      <td>T</td>\n",
       "      <td>Chang</td>\n",
       "      <td>74</td>\n",
       "      <td>2901</td>\n",
       "      <td>TIMOTHY DR</td>\n",
       "      <td>&lt;NA&gt;</td>\n",
       "      <td>NRT KINGSTOWN</td>\n",
       "      <td>RI</td>\n",
       "      <td>...</td>\n",
       "      <td>Wil</td>\n",
       "      <td>Cha</td>\n",
       "      <td>WALAN</td>\n",
       "      <td>M400</td>\n",
       "      <td>CANG</td>\n",
       "      <td>G520</td>\n",
       "      <td>T533</td>\n",
       "      <td>028</td>\n",
       "      <td>U-Z</td>\n",
       "      <td>C</td>\n",
       "    </tr>\n",
       "    <tr>\n",
       "      <th>5</th>\n",
       "      <td>5159_235545</td>\n",
       "      <td>William</td>\n",
       "      <td>P</td>\n",
       "      <td>Lopez</td>\n",
       "      <td>60</td>\n",
       "      <td>413</td>\n",
       "      <td>MAX LN</td>\n",
       "      <td>&lt;NA&gt;</td>\n",
       "      <td>CUMBERLAND</td>\n",
       "      <td>RI</td>\n",
       "      <td>...</td>\n",
       "      <td>Wil</td>\n",
       "      <td>Lop</td>\n",
       "      <td>WALAN</td>\n",
       "      <td>M400</td>\n",
       "      <td>LAP</td>\n",
       "      <td>Z140</td>\n",
       "      <td>M245</td>\n",
       "      <td>029</td>\n",
       "      <td>U-Z</td>\n",
       "      <td>L</td>\n",
       "    </tr>\n",
       "    <tr>\n",
       "      <th>...</th>\n",
       "      <td>...</td>\n",
       "      <td>...</td>\n",
       "      <td>...</td>\n",
       "      <td>...</td>\n",
       "      <td>...</td>\n",
       "      <td>...</td>\n",
       "      <td>...</td>\n",
       "      <td>...</td>\n",
       "      <td>...</td>\n",
       "      <td>...</td>\n",
       "      <td>...</td>\n",
       "      <td>...</td>\n",
       "      <td>...</td>\n",
       "      <td>...</td>\n",
       "      <td>...</td>\n",
       "      <td>...</td>\n",
       "      <td>...</td>\n",
       "      <td>...</td>\n",
       "      <td>...</td>\n",
       "      <td>...</td>\n",
       "      <td>...</td>\n",
       "    </tr>\n",
       "    <tr>\n",
       "      <th>99</th>\n",
       "      <td>6701_454702</td>\n",
       "      <td>&lt;NA&gt;</td>\n",
       "      <td>K</td>\n",
       "      <td>Johnston</td>\n",
       "      <td>39</td>\n",
       "      <td>6470</td>\n",
       "      <td>MUTRTAG ROAD</td>\n",
       "      <td>&lt;NA&gt;</td>\n",
       "      <td>TIVERTON</td>\n",
       "      <td>RI</td>\n",
       "      <td>...</td>\n",
       "      <td>&lt;NA&gt;</td>\n",
       "      <td>Joh</td>\n",
       "      <td>&lt;NA&gt;</td>\n",
       "      <td>&lt;NA&gt;</td>\n",
       "      <td>JANSTAN</td>\n",
       "      <td>N325</td>\n",
       "      <td>M363</td>\n",
       "      <td>028</td>\n",
       "      <td>A-or-blank</td>\n",
       "      <td>J</td>\n",
       "    </tr>\n",
       "    <tr>\n",
       "      <th>100</th>\n",
       "      <td>6701_248810</td>\n",
       "      <td>&lt;NA&gt;</td>\n",
       "      <td>A</td>\n",
       "      <td>Moseley</td>\n",
       "      <td>17</td>\n",
       "      <td>1371</td>\n",
       "      <td>OLD STEINE RD</td>\n",
       "      <td>&lt;NA&gt;</td>\n",
       "      <td>PROVIDENCE</td>\n",
       "      <td>RI</td>\n",
       "      <td>...</td>\n",
       "      <td>&lt;NA&gt;</td>\n",
       "      <td>Mos</td>\n",
       "      <td>&lt;NA&gt;</td>\n",
       "      <td>&lt;NA&gt;</td>\n",
       "      <td>MASALY</td>\n",
       "      <td>Y425</td>\n",
       "      <td>O432</td>\n",
       "      <td>028</td>\n",
       "      <td>A-or-blank</td>\n",
       "      <td>M</td>\n",
       "    </tr>\n",
       "    <tr>\n",
       "      <th>101</th>\n",
       "      <td>6751_177271</td>\n",
       "      <td>&lt;NA&gt;</td>\n",
       "      <td>G</td>\n",
       "      <td>Curtis</td>\n",
       "      <td>60</td>\n",
       "      <td>6143</td>\n",
       "      <td>SW BARBUR BLVD</td>\n",
       "      <td>&lt;NA&gt;</td>\n",
       "      <td>PROVIDENCE</td>\n",
       "      <td>RI</td>\n",
       "      <td>...</td>\n",
       "      <td>&lt;NA&gt;</td>\n",
       "      <td>Cur</td>\n",
       "      <td>&lt;NA&gt;</td>\n",
       "      <td>&lt;NA&gt;</td>\n",
       "      <td>CART</td>\n",
       "      <td>S362</td>\n",
       "      <td>S161</td>\n",
       "      <td>029</td>\n",
       "      <td>A-or-blank</td>\n",
       "      <td>C</td>\n",
       "    </tr>\n",
       "    <tr>\n",
       "      <th>102</th>\n",
       "      <td>6751_339312</td>\n",
       "      <td>&lt;NA&gt;</td>\n",
       "      <td>W</td>\n",
       "      <td>Frederick</td>\n",
       "      <td>81</td>\n",
       "      <td>2201</td>\n",
       "      <td>DOGWOOD RD</td>\n",
       "      <td>&lt;NA&gt;</td>\n",
       "      <td>SCITUATE</td>\n",
       "      <td>RI</td>\n",
       "      <td>...</td>\n",
       "      <td>&lt;NA&gt;</td>\n",
       "      <td>Fre</td>\n",
       "      <td>&lt;NA&gt;</td>\n",
       "      <td>&lt;NA&gt;</td>\n",
       "      <td>FRADARAC</td>\n",
       "      <td>K636</td>\n",
       "      <td>D236</td>\n",
       "      <td>028</td>\n",
       "      <td>A-or-blank</td>\n",
       "      <td>F</td>\n",
       "    </tr>\n",
       "    <tr>\n",
       "      <th>103</th>\n",
       "      <td>6776_91238</td>\n",
       "      <td>&lt;NA&gt;</td>\n",
       "      <td>L</td>\n",
       "      <td>Schutz</td>\n",
       "      <td>51</td>\n",
       "      <td>3190</td>\n",
       "      <td>MOUNTAIN HIGHWAY EAST</td>\n",
       "      <td>&lt;NA&gt;</td>\n",
       "      <td>PORTSMOUTH</td>\n",
       "      <td>RI</td>\n",
       "      <td>...</td>\n",
       "      <td>&lt;NA&gt;</td>\n",
       "      <td>Sch</td>\n",
       "      <td>&lt;NA&gt;</td>\n",
       "      <td>&lt;NA&gt;</td>\n",
       "      <td>SAT</td>\n",
       "      <td>Z320</td>\n",
       "      <td>M535</td>\n",
       "      <td>028</td>\n",
       "      <td>A-or-blank</td>\n",
       "      <td>S</td>\n",
       "    </tr>\n",
       "  </tbody>\n",
       "</table>\n",
       "<p>100 rows × 41 columns</p>\n",
       "</div>"
      ],
      "text/plain": [
       "    household_id first_name middle_initial  last_name age street_number  \\\n",
       "0    4672_364145    Charles              M   Bradrick  56          1081   \n",
       "1    4922_184977    Charles              O     Moreno  61          1003   \n",
       "2    4941_177111    William              G    Wallace  71          2135   \n",
       "3     496_260941    William              T      Chang  74          2901   \n",
       "5    5159_235545    William              P      Lopez  60           413   \n",
       "..           ...        ...            ...        ...  ..           ...   \n",
       "99   6701_454702       <NA>              K   Johnston  39          6470   \n",
       "100  6701_248810       <NA>              A    Moseley  17          1371   \n",
       "101  6751_177271       <NA>              G     Curtis  60          6143   \n",
       "102  6751_339312       <NA>              W  Frederick  81          2201   \n",
       "103   6776_91238       <NA>              L     Schutz  51          3190   \n",
       "\n",
       "               street_name unit_number             city state  ...  \\\n",
       "0           S PHILLIPS AVE        <NA>     SO KINGSTOWN    RI  ...   \n",
       "1                E TRAVOIS        <NA>          WARWICK    RI  ...   \n",
       "2                WEKIVA RD   APRT 499R  SOUTH KINGSTOWN    RI  ...   \n",
       "3               TIMOTHY DR        <NA>    NRT KINGSTOWN    RI  ...   \n",
       "5                   MAX LN        <NA>       CUMBERLAND    RI  ...   \n",
       "..                     ...         ...              ...   ...  ...   \n",
       "99            MUTRTAG ROAD        <NA>         TIVERTON    RI  ...   \n",
       "100          OLD STEINE RD        <NA>       PROVIDENCE    RI  ...   \n",
       "101         SW BARBUR BLVD        <NA>       PROVIDENCE    RI  ...   \n",
       "102             DOGWOOD RD        <NA>         SCITUATE    RI  ...   \n",
       "103  MOUNTAIN HIGHWAY EAST        <NA>       PORTSMOUTH    RI  ...   \n",
       "\n",
       "    first_name_3 last_name_3 first_name_nysiis first_name_reverse_soundex  \\\n",
       "0            Cha         Bra              CARL                       S462   \n",
       "1            Cha         Mor              CARL                       S462   \n",
       "2            Wil         Wal             WALAN                       M400   \n",
       "3            Wil         Cha             WALAN                       M400   \n",
       "5            Wil         Lop             WALAN                       M400   \n",
       "..           ...         ...               ...                        ...   \n",
       "99          <NA>         Joh              <NA>                       <NA>   \n",
       "100         <NA>         Mos              <NA>                       <NA>   \n",
       "101         <NA>         Cur              <NA>                       <NA>   \n",
       "102         <NA>         Fre              <NA>                       <NA>   \n",
       "103         <NA>         Sch              <NA>                       <NA>   \n",
       "\n",
       "    last_name_nysiis  last_name_reverse_soundex  \\\n",
       "0            BRADRAC                       K636   \n",
       "1              MARAN                       O565   \n",
       "2              WALAC                       E240   \n",
       "3               CANG                       G520   \n",
       "5                LAP                       Z140   \n",
       "..               ...                        ...   \n",
       "99           JANSTAN                       N325   \n",
       "100           MASALY                       Y425   \n",
       "101             CART                       S362   \n",
       "102         FRADARAC                       K636   \n",
       "103              SAT                       Z320   \n",
       "\n",
       "    street_name_for_blocking_soundex zip3  first_initial_cut  last_initial_cut  \n",
       "0                               S141  028                  C                 B  \n",
       "1                               E361  028                  C                 M  \n",
       "2                               W216  029                U-Z               U-Z  \n",
       "3                               T533  028                U-Z                 C  \n",
       "5                               M245  029                U-Z                 L  \n",
       "..                               ...  ...                ...               ...  \n",
       "99                              M363  028         A-or-blank                 J  \n",
       "100                             O432  028         A-or-blank                 M  \n",
       "101                             S161  029         A-or-blank                 C  \n",
       "102                             D236  028         A-or-blank                 F  \n",
       "103                             M535  028         A-or-blank                 S  \n",
       "\n",
       "[100 rows x 41 columns]"
      ]
     },
     "execution_count": 38,
     "metadata": {},
     "output_type": "execute_result"
    }
   ],
   "source": [
    "df_ops.head(census_2030, n=100)"
   ]
  },
  {
   "cell_type": "code",
   "execution_count": 39,
   "id": "bc33f5b6-36b4-48d5-9ea5-e0ae11d14dab",
   "metadata": {
    "execution": {
     "iopub.execute_input": "2024-02-13T00:17:51.609930Z",
     "iopub.status.busy": "2024-02-13T00:17:51.609525Z",
     "iopub.status.idle": "2024-02-13T00:18:00.485331Z",
     "shell.execute_reply": "2024-02-13T00:18:00.483911Z"
    },
    "papermill": {
     "duration": 8.917549,
     "end_time": "2024-02-13T00:18:00.488326",
     "exception": false,
     "start_time": "2024-02-13T00:17:51.570777",
     "status": "completed"
    },
    "tags": []
   },
   "outputs": [],
   "source": [
    "intermediate_data_dir = f\"{output_dir}/intermediate_data\"\n",
    "if clear_intermediate:\n",
    "    utils.ensure_empty(intermediate_data_dir)"
   ]
  },
  {
   "cell_type": "code",
   "execution_count": 40,
   "id": "632c5d5f-34b6-49ec-83be-737ed625d47e",
   "metadata": {
    "execution": {
     "iopub.execute_input": "2024-02-13T00:18:00.556876Z",
     "iopub.status.busy": "2024-02-13T00:18:00.556168Z",
     "iopub.status.idle": "2024-02-13T00:18:00.564709Z",
     "shell.execute_reply": "2024-02-13T00:18:00.563793Z"
    },
    "papermill": {
     "duration": 0.047095,
     "end_time": "2024-02-13T00:18:00.566819",
     "exception": false,
     "start_time": "2024-02-13T00:18:00.519724",
     "status": "completed"
    },
    "tags": []
   },
   "outputs": [],
   "source": [
    "# Can save a checkpoint here for resuming without re-running the prep\n",
    "# df_ops.to_parquet(census_2030, f'{intermediate_data_dir}/census_2030_prepped.parquet')"
   ]
  },
  {
   "cell_type": "code",
   "execution_count": 41,
   "id": "b4fc55f9-32dd-40e9-ba3b-0f67556ddbc3",
   "metadata": {
    "execution": {
     "iopub.execute_input": "2024-02-13T00:18:00.628137Z",
     "iopub.status.busy": "2024-02-13T00:18:00.627739Z",
     "iopub.status.idle": "2024-02-13T00:18:00.678425Z",
     "shell.execute_reply": "2024-02-13T00:18:00.677296Z"
    },
    "papermill": {
     "duration": 0.083319,
     "end_time": "2024-02-13T00:18:00.680443",
     "exception": false,
     "start_time": "2024-02-13T00:18:00.597124",
     "status": "completed"
    },
    "tags": []
   },
   "outputs": [
    {
     "name": "stdout",
     "output_type": "stream",
     "text": [
      "2,902,602\n"
     ]
    }
   ],
   "source": [
    "print(f'{len(geobase_reference_file):,.0f}')"
   ]
  },
  {
   "cell_type": "code",
   "execution_count": 42,
   "id": "2361fef9-e338-4c81-934d-075dafdbd432",
   "metadata": {
    "execution": {
     "iopub.execute_input": "2024-02-13T00:18:00.741818Z",
     "iopub.status.busy": "2024-02-13T00:18:00.741268Z",
     "iopub.status.idle": "2024-02-13T00:18:00.908797Z",
     "shell.execute_reply": "2024-02-13T00:18:00.907775Z"
    },
    "papermill": {
     "duration": 0.200427,
     "end_time": "2024-02-13T00:18:00.910773",
     "exception": false,
     "start_time": "2024-02-13T00:18:00.710346",
     "status": "completed"
    },
    "tags": []
   },
   "outputs": [
    {
     "data": {
      "text/html": [
       "<div>\n",
       "<style scoped>\n",
       "    .dataframe tbody tr th:only-of-type {\n",
       "        vertical-align: middle;\n",
       "    }\n",
       "\n",
       "    .dataframe tbody tr th {\n",
       "        vertical-align: top;\n",
       "    }\n",
       "\n",
       "    .dataframe thead th {\n",
       "        text-align: right;\n",
       "    }\n",
       "</style>\n",
       "<table border=\"1\" class=\"dataframe\">\n",
       "  <thead>\n",
       "    <tr style=\"text-align: right;\">\n",
       "      <th></th>\n",
       "      <th>ssn</th>\n",
       "      <th>first_name</th>\n",
       "      <th>middle_name</th>\n",
       "      <th>last_name</th>\n",
       "      <th>street_number</th>\n",
       "      <th>street_name</th>\n",
       "      <th>unit_number</th>\n",
       "      <th>po_box</th>\n",
       "      <th>city</th>\n",
       "      <th>state</th>\n",
       "      <th>...</th>\n",
       "      <th>last_name_12</th>\n",
       "      <th>middle_initial</th>\n",
       "      <th>first_name_1</th>\n",
       "      <th>last_name_1</th>\n",
       "      <th>first_name_2</th>\n",
       "      <th>last_name_2</th>\n",
       "      <th>first_name_3</th>\n",
       "      <th>last_name_3</th>\n",
       "      <th>street_name_for_blocking_soundex</th>\n",
       "      <th>zip3</th>\n",
       "    </tr>\n",
       "  </thead>\n",
       "  <tbody>\n",
       "    <tr>\n",
       "      <th>0</th>\n",
       "      <td>597-20-3223</td>\n",
       "      <td>Christine</td>\n",
       "      <td>Kelly</td>\n",
       "      <td>Andrade</td>\n",
       "      <td>3214</td>\n",
       "      <td>S 8TH ST</td>\n",
       "      <td>&lt;NA&gt;</td>\n",
       "      <td>&lt;NA&gt;</td>\n",
       "      <td>CRANSTON</td>\n",
       "      <td>RI</td>\n",
       "      <td>...</td>\n",
       "      <td>Andrade</td>\n",
       "      <td>K</td>\n",
       "      <td>C</td>\n",
       "      <td>A</td>\n",
       "      <td>Ch</td>\n",
       "      <td>An</td>\n",
       "      <td>Chr</td>\n",
       "      <td>And</td>\n",
       "      <td>S323</td>\n",
       "      <td>029</td>\n",
       "    </tr>\n",
       "    <tr>\n",
       "      <th>1</th>\n",
       "      <td>462-67-8736</td>\n",
       "      <td>Briana</td>\n",
       "      <td>Celeste</td>\n",
       "      <td>Watson</td>\n",
       "      <td>30221</td>\n",
       "      <td>LAKE HARNEY RD</td>\n",
       "      <td>&lt;NA&gt;</td>\n",
       "      <td>&lt;NA&gt;</td>\n",
       "      <td>PROVIDENCE</td>\n",
       "      <td>HI</td>\n",
       "      <td>...</td>\n",
       "      <td>Watson</td>\n",
       "      <td>C</td>\n",
       "      <td>B</td>\n",
       "      <td>W</td>\n",
       "      <td>Br</td>\n",
       "      <td>Wa</td>\n",
       "      <td>Bri</td>\n",
       "      <td>Wat</td>\n",
       "      <td>L265</td>\n",
       "      <td>029</td>\n",
       "    </tr>\n",
       "    <tr>\n",
       "      <th>3</th>\n",
       "      <td>038-28-0765</td>\n",
       "      <td>Virginia</td>\n",
       "      <td>Carolyn</td>\n",
       "      <td>Webb</td>\n",
       "      <td>15417</td>\n",
       "      <td>E BRADLEY ST</td>\n",
       "      <td>&lt;NA&gt;</td>\n",
       "      <td>&lt;NA&gt;</td>\n",
       "      <td>BURRILLVILLE</td>\n",
       "      <td>RI</td>\n",
       "      <td>...</td>\n",
       "      <td>Webb</td>\n",
       "      <td>C</td>\n",
       "      <td>V</td>\n",
       "      <td>W</td>\n",
       "      <td>Vi</td>\n",
       "      <td>We</td>\n",
       "      <td>Vir</td>\n",
       "      <td>Web</td>\n",
       "      <td>E163</td>\n",
       "      <td>&lt;NA&gt;</td>\n",
       "    </tr>\n",
       "    <tr>\n",
       "      <th>4</th>\n",
       "      <td>038-28-0765</td>\n",
       "      <td>Virginia</td>\n",
       "      <td>Carolyn</td>\n",
       "      <td>Webb</td>\n",
       "      <td>15417</td>\n",
       "      <td>E BRADLEY ST</td>\n",
       "      <td>&lt;NA&gt;</td>\n",
       "      <td>&lt;NA&gt;</td>\n",
       "      <td>BURRILLVILLE</td>\n",
       "      <td>RI</td>\n",
       "      <td>...</td>\n",
       "      <td>Webb</td>\n",
       "      <td>C</td>\n",
       "      <td>V</td>\n",
       "      <td>W</td>\n",
       "      <td>Vi</td>\n",
       "      <td>We</td>\n",
       "      <td>Vir</td>\n",
       "      <td>Web</td>\n",
       "      <td>E163</td>\n",
       "      <td>&lt;NA&gt;</td>\n",
       "    </tr>\n",
       "    <tr>\n",
       "      <th>5</th>\n",
       "      <td>337-11-2341</td>\n",
       "      <td>Janet</td>\n",
       "      <td>Barbara</td>\n",
       "      <td>Bohd</td>\n",
       "      <td>1740</td>\n",
       "      <td>JEAN CT</td>\n",
       "      <td>&lt;NA&gt;</td>\n",
       "      <td>&lt;NA&gt;</td>\n",
       "      <td>CHARLESTOWN</td>\n",
       "      <td>RI</td>\n",
       "      <td>...</td>\n",
       "      <td>Bohd</td>\n",
       "      <td>B</td>\n",
       "      <td>J</td>\n",
       "      <td>B</td>\n",
       "      <td>Ja</td>\n",
       "      <td>Bo</td>\n",
       "      <td>Jan</td>\n",
       "      <td>Boh</td>\n",
       "      <td>J523</td>\n",
       "      <td>028</td>\n",
       "    </tr>\n",
       "    <tr>\n",
       "      <th>...</th>\n",
       "      <td>...</td>\n",
       "      <td>...</td>\n",
       "      <td>...</td>\n",
       "      <td>...</td>\n",
       "      <td>...</td>\n",
       "      <td>...</td>\n",
       "      <td>...</td>\n",
       "      <td>...</td>\n",
       "      <td>...</td>\n",
       "      <td>...</td>\n",
       "      <td>...</td>\n",
       "      <td>...</td>\n",
       "      <td>...</td>\n",
       "      <td>...</td>\n",
       "      <td>...</td>\n",
       "      <td>...</td>\n",
       "      <td>...</td>\n",
       "      <td>...</td>\n",
       "      <td>...</td>\n",
       "      <td>...</td>\n",
       "      <td>...</td>\n",
       "    </tr>\n",
       "    <tr>\n",
       "      <th>104</th>\n",
       "      <td>223-18-3393</td>\n",
       "      <td>Edward</td>\n",
       "      <td>Sam</td>\n",
       "      <td>Upoker</td>\n",
       "      <td>3725</td>\n",
       "      <td>PROVIDENCE DR</td>\n",
       "      <td>&lt;NA&gt;</td>\n",
       "      <td>&lt;NA&gt;</td>\n",
       "      <td>HOPKINTON</td>\n",
       "      <td>RI</td>\n",
       "      <td>...</td>\n",
       "      <td>Upoker</td>\n",
       "      <td>S</td>\n",
       "      <td>E</td>\n",
       "      <td>U</td>\n",
       "      <td>Ed</td>\n",
       "      <td>Up</td>\n",
       "      <td>Edw</td>\n",
       "      <td>Upo</td>\n",
       "      <td>P613</td>\n",
       "      <td>028</td>\n",
       "    </tr>\n",
       "    <tr>\n",
       "      <th>105</th>\n",
       "      <td>223-18-3393</td>\n",
       "      <td>Edward</td>\n",
       "      <td>Sam</td>\n",
       "      <td>Upoker</td>\n",
       "      <td>3725</td>\n",
       "      <td>PROVIDENCE DR</td>\n",
       "      <td>&lt;NA&gt;</td>\n",
       "      <td>&lt;NA&gt;</td>\n",
       "      <td>HOPKINTON</td>\n",
       "      <td>RI</td>\n",
       "      <td>...</td>\n",
       "      <td>Upoker</td>\n",
       "      <td>S</td>\n",
       "      <td>E</td>\n",
       "      <td>U</td>\n",
       "      <td>Ed</td>\n",
       "      <td>Up</td>\n",
       "      <td>Edw</td>\n",
       "      <td>Upo</td>\n",
       "      <td>P613</td>\n",
       "      <td>028</td>\n",
       "    </tr>\n",
       "    <tr>\n",
       "      <th>106</th>\n",
       "      <td>223-18-3393</td>\n",
       "      <td>Edward</td>\n",
       "      <td>Sam</td>\n",
       "      <td>Hooker</td>\n",
       "      <td>3725</td>\n",
       "      <td>PROVIDENCE DR</td>\n",
       "      <td>&lt;NA&gt;</td>\n",
       "      <td>&lt;NA&gt;</td>\n",
       "      <td>HOPKINTON</td>\n",
       "      <td>RI</td>\n",
       "      <td>...</td>\n",
       "      <td>Hooker</td>\n",
       "      <td>S</td>\n",
       "      <td>E</td>\n",
       "      <td>H</td>\n",
       "      <td>Ed</td>\n",
       "      <td>Ho</td>\n",
       "      <td>Edw</td>\n",
       "      <td>Hoo</td>\n",
       "      <td>P613</td>\n",
       "      <td>028</td>\n",
       "    </tr>\n",
       "    <tr>\n",
       "      <th>107</th>\n",
       "      <td>223-18-3393</td>\n",
       "      <td>Edward</td>\n",
       "      <td>Sam</td>\n",
       "      <td>Hooker</td>\n",
       "      <td>3725</td>\n",
       "      <td>PROVIDENCE DR</td>\n",
       "      <td>&lt;NA&gt;</td>\n",
       "      <td>&lt;NA&gt;</td>\n",
       "      <td>HOPKINTON</td>\n",
       "      <td>RI</td>\n",
       "      <td>...</td>\n",
       "      <td>Hooker</td>\n",
       "      <td>S</td>\n",
       "      <td>E</td>\n",
       "      <td>H</td>\n",
       "      <td>Ed</td>\n",
       "      <td>Ho</td>\n",
       "      <td>Edw</td>\n",
       "      <td>Hoo</td>\n",
       "      <td>P613</td>\n",
       "      <td>028</td>\n",
       "    </tr>\n",
       "    <tr>\n",
       "      <th>108</th>\n",
       "      <td>793-06-8028</td>\n",
       "      <td>Bradley</td>\n",
       "      <td>Daniel</td>\n",
       "      <td>Peppard</td>\n",
       "      <td>710</td>\n",
       "      <td>S RUBY ST</td>\n",
       "      <td>&lt;NA&gt;</td>\n",
       "      <td>&lt;NA&gt;</td>\n",
       "      <td>BUERILLCILLE</td>\n",
       "      <td>RI</td>\n",
       "      <td>...</td>\n",
       "      <td>Peppard</td>\n",
       "      <td>D</td>\n",
       "      <td>B</td>\n",
       "      <td>P</td>\n",
       "      <td>Br</td>\n",
       "      <td>Pe</td>\n",
       "      <td>Bra</td>\n",
       "      <td>Pep</td>\n",
       "      <td>S612</td>\n",
       "      <td>028</td>\n",
       "    </tr>\n",
       "  </tbody>\n",
       "</table>\n",
       "<p>100 rows × 31 columns</p>\n",
       "</div>"
      ],
      "text/plain": [
       "             ssn first_name middle_name last_name street_number  \\\n",
       "0    597-20-3223  Christine       Kelly   Andrade          3214   \n",
       "1    462-67-8736     Briana     Celeste    Watson         30221   \n",
       "3    038-28-0765   Virginia     Carolyn      Webb         15417   \n",
       "4    038-28-0765   Virginia     Carolyn      Webb         15417   \n",
       "5    337-11-2341      Janet     Barbara      Bohd          1740   \n",
       "..           ...        ...         ...       ...           ...   \n",
       "104  223-18-3393     Edward         Sam    Upoker          3725   \n",
       "105  223-18-3393     Edward         Sam    Upoker          3725   \n",
       "106  223-18-3393     Edward         Sam    Hooker          3725   \n",
       "107  223-18-3393     Edward         Sam    Hooker          3725   \n",
       "108  793-06-8028    Bradley      Daniel   Peppard           710   \n",
       "\n",
       "        street_name unit_number po_box          city state  ... last_name_12  \\\n",
       "0          S 8TH ST        <NA>   <NA>      CRANSTON    RI  ...      Andrade   \n",
       "1    LAKE HARNEY RD        <NA>   <NA>    PROVIDENCE    HI  ...       Watson   \n",
       "3      E BRADLEY ST        <NA>   <NA>  BURRILLVILLE    RI  ...         Webb   \n",
       "4      E BRADLEY ST        <NA>   <NA>  BURRILLVILLE    RI  ...         Webb   \n",
       "5           JEAN CT        <NA>   <NA>   CHARLESTOWN    RI  ...         Bohd   \n",
       "..              ...         ...    ...           ...   ...  ...          ...   \n",
       "104   PROVIDENCE DR        <NA>   <NA>     HOPKINTON    RI  ...       Upoker   \n",
       "105   PROVIDENCE DR        <NA>   <NA>     HOPKINTON    RI  ...       Upoker   \n",
       "106   PROVIDENCE DR        <NA>   <NA>     HOPKINTON    RI  ...       Hooker   \n",
       "107   PROVIDENCE DR        <NA>   <NA>     HOPKINTON    RI  ...       Hooker   \n",
       "108       S RUBY ST        <NA>   <NA>  BUERILLCILLE    RI  ...      Peppard   \n",
       "\n",
       "    middle_initial first_name_1  last_name_1  first_name_2  last_name_2  \\\n",
       "0                K            C            A            Ch           An   \n",
       "1                C            B            W            Br           Wa   \n",
       "3                C            V            W            Vi           We   \n",
       "4                C            V            W            Vi           We   \n",
       "5                B            J            B            Ja           Bo   \n",
       "..             ...          ...          ...           ...          ...   \n",
       "104              S            E            U            Ed           Up   \n",
       "105              S            E            U            Ed           Up   \n",
       "106              S            E            H            Ed           Ho   \n",
       "107              S            E            H            Ed           Ho   \n",
       "108              D            B            P            Br           Pe   \n",
       "\n",
       "    first_name_3 last_name_3 street_name_for_blocking_soundex  zip3  \n",
       "0            Chr         And                             S323   029  \n",
       "1            Bri         Wat                             L265   029  \n",
       "3            Vir         Web                             E163  <NA>  \n",
       "4            Vir         Web                             E163  <NA>  \n",
       "5            Jan         Boh                             J523   028  \n",
       "..           ...         ...                              ...   ...  \n",
       "104          Edw         Upo                             P613   028  \n",
       "105          Edw         Upo                             P613   028  \n",
       "106          Edw         Hoo                             P613   028  \n",
       "107          Edw         Hoo                             P613   028  \n",
       "108          Bra         Pep                             S612   028  \n",
       "\n",
       "[100 rows x 31 columns]"
      ]
     },
     "execution_count": 42,
     "metadata": {},
     "output_type": "execute_result"
    }
   ],
   "source": [
    "df_ops.head(geobase_reference_file, n=100)"
   ]
  },
  {
   "cell_type": "code",
   "execution_count": 43,
   "id": "96ad6959-51a8-4972-8262-81383e5a895a",
   "metadata": {
    "execution": {
     "iopub.execute_input": "2024-02-13T00:18:00.980955Z",
     "iopub.status.busy": "2024-02-13T00:18:00.980549Z",
     "iopub.status.idle": "2024-02-13T00:18:01.070842Z",
     "shell.execute_reply": "2024-02-13T00:18:01.068900Z"
    },
    "papermill": {
     "duration": 0.132985,
     "end_time": "2024-02-13T00:18:01.073971",
     "exception": false,
     "start_time": "2024-02-13T00:18:00.940986",
     "status": "completed"
    },
    "tags": []
   },
   "outputs": [
    {
     "data": {
      "text/plain": [
       "0.08839275932422012"
      ]
     },
     "execution_count": 43,
     "metadata": {},
     "output_type": "execute_result"
    }
   ],
   "source": [
    "df_ops.compute(geobase_reference_file.year_of_birth.isna().mean())"
   ]
  },
  {
   "cell_type": "code",
   "execution_count": 44,
   "id": "41f87268-5fc5-43cf-b2ee-debb8b6535b3",
   "metadata": {
    "execution": {
     "iopub.execute_input": "2024-02-13T00:18:01.143868Z",
     "iopub.status.busy": "2024-02-13T00:18:01.143459Z",
     "iopub.status.idle": "2024-02-13T00:18:01.148006Z",
     "shell.execute_reply": "2024-02-13T00:18:01.147018Z"
    },
    "papermill": {
     "duration": 0.037753,
     "end_time": "2024-02-13T00:18:01.149866",
     "exception": false,
     "start_time": "2024-02-13T00:18:01.112113",
     "status": "completed"
    },
    "tags": []
   },
   "outputs": [],
   "source": [
    "# df_ops.to_parquet(geobase_reference_file, f'{intermediate_data_dir}/geobase_reference_file_prepped.parquet')"
   ]
  },
  {
   "cell_type": "code",
   "execution_count": 45,
   "id": "c749e6f5-75aa-45a8-8007-7051d12019b8",
   "metadata": {
    "execution": {
     "iopub.execute_input": "2024-02-13T00:18:01.222972Z",
     "iopub.status.busy": "2024-02-13T00:18:01.222559Z",
     "iopub.status.idle": "2024-02-13T00:18:01.313112Z",
     "shell.execute_reply": "2024-02-13T00:18:01.311796Z"
    },
    "papermill": {
     "duration": 0.124317,
     "end_time": "2024-02-13T00:18:01.315000",
     "exception": false,
     "start_time": "2024-02-13T00:18:01.190683",
     "status": "completed"
    },
    "tags": []
   },
   "outputs": [
    {
     "name": "stdout",
     "output_type": "stream",
     "text": [
      "1,814,001\n"
     ]
    }
   ],
   "source": [
    "print(f'{len(name_dob_reference_file):,.0f}')"
   ]
  },
  {
   "cell_type": "code",
   "execution_count": 46,
   "id": "cebf9174-67d5-47e7-a072-5b2998faf57c",
   "metadata": {
    "execution": {
     "iopub.execute_input": "2024-02-13T00:18:01.386849Z",
     "iopub.status.busy": "2024-02-13T00:18:01.386533Z",
     "iopub.status.idle": "2024-02-13T00:18:02.017168Z",
     "shell.execute_reply": "2024-02-13T00:18:02.016447Z"
    },
    "papermill": {
     "duration": 0.671128,
     "end_time": "2024-02-13T00:18:02.019144",
     "exception": false,
     "start_time": "2024-02-13T00:18:01.348016",
     "status": "completed"
    },
    "tags": []
   },
   "outputs": [
    {
     "data": {
      "text/html": [
       "<div>\n",
       "<style scoped>\n",
       "    .dataframe tbody tr th:only-of-type {\n",
       "        vertical-align: middle;\n",
       "    }\n",
       "\n",
       "    .dataframe tbody tr th {\n",
       "        vertical-align: top;\n",
       "    }\n",
       "\n",
       "    .dataframe thead th {\n",
       "        text-align: right;\n",
       "    }\n",
       "</style>\n",
       "<table border=\"1\" class=\"dataframe\">\n",
       "  <thead>\n",
       "    <tr style=\"text-align: right;\">\n",
       "      <th></th>\n",
       "      <th>ssn</th>\n",
       "      <th>first_name</th>\n",
       "      <th>middle_name</th>\n",
       "      <th>last_name</th>\n",
       "      <th>record_id</th>\n",
       "      <th>pik</th>\n",
       "      <th>month_of_birth</th>\n",
       "      <th>year_of_birth</th>\n",
       "      <th>day_of_birth</th>\n",
       "      <th>first_name_15</th>\n",
       "      <th>...</th>\n",
       "      <th>first_name_2</th>\n",
       "      <th>last_name_2</th>\n",
       "      <th>first_name_3</th>\n",
       "      <th>last_name_3</th>\n",
       "      <th>first_name_nysiis</th>\n",
       "      <th>first_name_reverse_soundex</th>\n",
       "      <th>last_name_nysiis</th>\n",
       "      <th>last_name_reverse_soundex</th>\n",
       "      <th>first_initial_cut</th>\n",
       "      <th>last_initial_cut</th>\n",
       "    </tr>\n",
       "  </thead>\n",
       "  <tbody>\n",
       "    <tr>\n",
       "      <th>0</th>\n",
       "      <td>590-60-7318</td>\n",
       "      <td>Ernest</td>\n",
       "      <td>Gent</td>\n",
       "      <td>Loura</td>\n",
       "      <td>simulated_name_dob_reference_file_9_14</td>\n",
       "      <td>60_11138</td>\n",
       "      <td>2.0</td>\n",
       "      <td>2010.0</td>\n",
       "      <td>2.0</td>\n",
       "      <td>Ernest</td>\n",
       "      <td>...</td>\n",
       "      <td>Er</td>\n",
       "      <td>Lo</td>\n",
       "      <td>Ern</td>\n",
       "      <td>Lou</td>\n",
       "      <td>ERNAST</td>\n",
       "      <td>T256</td>\n",
       "      <td>LAR</td>\n",
       "      <td>A640</td>\n",
       "      <td>E</td>\n",
       "      <td>L</td>\n",
       "    </tr>\n",
       "    <tr>\n",
       "      <th>1</th>\n",
       "      <td>591-37-6008</td>\n",
       "      <td>Dennis</td>\n",
       "      <td>Ralph</td>\n",
       "      <td>Henson</td>\n",
       "      <td>simulated_name_dob_reference_file_9_156</td>\n",
       "      <td>60_12561</td>\n",
       "      <td>1.0</td>\n",
       "      <td>1941.0</td>\n",
       "      <td>29.0</td>\n",
       "      <td>Dennis</td>\n",
       "      <td>...</td>\n",
       "      <td>De</td>\n",
       "      <td>He</td>\n",
       "      <td>Den</td>\n",
       "      <td>Hen</td>\n",
       "      <td>DAN</td>\n",
       "      <td>S530</td>\n",
       "      <td>HANSAN</td>\n",
       "      <td>N250</td>\n",
       "      <td>D</td>\n",
       "      <td>H</td>\n",
       "    </tr>\n",
       "    <tr>\n",
       "      <th>2</th>\n",
       "      <td>591-37-6008</td>\n",
       "      <td>Dennis</td>\n",
       "      <td>Ralph</td>\n",
       "      <td>Henson</td>\n",
       "      <td>simulated_name_dob_reference_file_9_157</td>\n",
       "      <td>60_12561</td>\n",
       "      <td>NaN</td>\n",
       "      <td>NaN</td>\n",
       "      <td>NaN</td>\n",
       "      <td>Dennis</td>\n",
       "      <td>...</td>\n",
       "      <td>De</td>\n",
       "      <td>He</td>\n",
       "      <td>Den</td>\n",
       "      <td>Hen</td>\n",
       "      <td>DAN</td>\n",
       "      <td>S530</td>\n",
       "      <td>HANSAN</td>\n",
       "      <td>N250</td>\n",
       "      <td>D</td>\n",
       "      <td>H</td>\n",
       "    </tr>\n",
       "    <tr>\n",
       "      <th>3</th>\n",
       "      <td>591-81-6059</td>\n",
       "      <td>Genesis</td>\n",
       "      <td>Jocelyn</td>\n",
       "      <td>Sailors</td>\n",
       "      <td>simulated_name_dob_reference_file_9_232</td>\n",
       "      <td>61_374</td>\n",
       "      <td>2.0</td>\n",
       "      <td>2004.0</td>\n",
       "      <td>23.0</td>\n",
       "      <td>Genesis</td>\n",
       "      <td>...</td>\n",
       "      <td>Ge</td>\n",
       "      <td>Sa</td>\n",
       "      <td>Gen</td>\n",
       "      <td>Sai</td>\n",
       "      <td>GANAS</td>\n",
       "      <td>S252</td>\n",
       "      <td>SALAR</td>\n",
       "      <td>S642</td>\n",
       "      <td>G</td>\n",
       "      <td>S</td>\n",
       "    </tr>\n",
       "    <tr>\n",
       "      <th>4</th>\n",
       "      <td>593-75-0682</td>\n",
       "      <td>Donald</td>\n",
       "      <td>Robwrt</td>\n",
       "      <td>Ward</td>\n",
       "      <td>simulated_name_dob_reference_file_9_555</td>\n",
       "      <td>61_3984</td>\n",
       "      <td>6.0</td>\n",
       "      <td>1962.0</td>\n",
       "      <td>30.0</td>\n",
       "      <td>Donald</td>\n",
       "      <td>...</td>\n",
       "      <td>Do</td>\n",
       "      <td>Wa</td>\n",
       "      <td>Don</td>\n",
       "      <td>War</td>\n",
       "      <td>DANALD</td>\n",
       "      <td>D453</td>\n",
       "      <td>WAD</td>\n",
       "      <td>D600</td>\n",
       "      <td>D</td>\n",
       "      <td>U-Z</td>\n",
       "    </tr>\n",
       "    <tr>\n",
       "      <th>...</th>\n",
       "      <td>...</td>\n",
       "      <td>...</td>\n",
       "      <td>...</td>\n",
       "      <td>...</td>\n",
       "      <td>...</td>\n",
       "      <td>...</td>\n",
       "      <td>...</td>\n",
       "      <td>...</td>\n",
       "      <td>...</td>\n",
       "      <td>...</td>\n",
       "      <td>...</td>\n",
       "      <td>...</td>\n",
       "      <td>...</td>\n",
       "      <td>...</td>\n",
       "      <td>...</td>\n",
       "      <td>...</td>\n",
       "      <td>...</td>\n",
       "      <td>...</td>\n",
       "      <td>...</td>\n",
       "      <td>...</td>\n",
       "      <td>...</td>\n",
       "    </tr>\n",
       "    <tr>\n",
       "      <th>95</th>\n",
       "      <td>252-74-0577</td>\n",
       "      <td>Troy</td>\n",
       "      <td>Robert</td>\n",
       "      <td>Morris</td>\n",
       "      <td>simulated_name_dob_reference_file_9_7679</td>\n",
       "      <td>26_12601</td>\n",
       "      <td>12.0</td>\n",
       "      <td>1973.0</td>\n",
       "      <td>13.0</td>\n",
       "      <td>Troy</td>\n",
       "      <td>...</td>\n",
       "      <td>Tr</td>\n",
       "      <td>Mo</td>\n",
       "      <td>Tro</td>\n",
       "      <td>Mor</td>\n",
       "      <td>TRY</td>\n",
       "      <td>Y630</td>\n",
       "      <td>MAR</td>\n",
       "      <td>S650</td>\n",
       "      <td>T</td>\n",
       "      <td>M</td>\n",
       "    </tr>\n",
       "    <tr>\n",
       "      <th>96</th>\n",
       "      <td>257-24-4490</td>\n",
       "      <td>Joseph</td>\n",
       "      <td>Michael</td>\n",
       "      <td>Farris</td>\n",
       "      <td>simulated_name_dob_reference_file_9_8437</td>\n",
       "      <td>27_1432</td>\n",
       "      <td>1.0</td>\n",
       "      <td>1979.0</td>\n",
       "      <td>13.0</td>\n",
       "      <td>Joseph</td>\n",
       "      <td>...</td>\n",
       "      <td>Jo</td>\n",
       "      <td>Fa</td>\n",
       "      <td>Jos</td>\n",
       "      <td>Far</td>\n",
       "      <td>JASAF</td>\n",
       "      <td>H122</td>\n",
       "      <td>FAR</td>\n",
       "      <td>S610</td>\n",
       "      <td>J</td>\n",
       "      <td>F</td>\n",
       "    </tr>\n",
       "    <tr>\n",
       "      <th>97</th>\n",
       "      <td>257-39-5748</td>\n",
       "      <td>Joseph</td>\n",
       "      <td>&lt;NA&gt;</td>\n",
       "      <td>Jennings</td>\n",
       "      <td>simulated_name_dob_reference_file_9_8460</td>\n",
       "      <td>27_1693</td>\n",
       "      <td>1.0</td>\n",
       "      <td>1983.0</td>\n",
       "      <td>20.0</td>\n",
       "      <td>Joseph</td>\n",
       "      <td>...</td>\n",
       "      <td>Jo</td>\n",
       "      <td>Je</td>\n",
       "      <td>Jos</td>\n",
       "      <td>Jen</td>\n",
       "      <td>JASAF</td>\n",
       "      <td>H122</td>\n",
       "      <td>JANANG</td>\n",
       "      <td>S552</td>\n",
       "      <td>J</td>\n",
       "      <td>J</td>\n",
       "    </tr>\n",
       "    <tr>\n",
       "      <th>98</th>\n",
       "      <td>259-45-3352</td>\n",
       "      <td>Beverly</td>\n",
       "      <td>Patricia</td>\n",
       "      <td>Wallace-Lee</td>\n",
       "      <td>simulated_name_dob_reference_file_9_8876</td>\n",
       "      <td>27_5512</td>\n",
       "      <td>8.0</td>\n",
       "      <td>1964.0</td>\n",
       "      <td>8.0</td>\n",
       "      <td>Beverly</td>\n",
       "      <td>...</td>\n",
       "      <td>Be</td>\n",
       "      <td>Wa</td>\n",
       "      <td>Bev</td>\n",
       "      <td>Wal</td>\n",
       "      <td>BAFARLY</td>\n",
       "      <td>Y461</td>\n",
       "      <td>WALACA-LY</td>\n",
       "      <td>E424</td>\n",
       "      <td>B</td>\n",
       "      <td>U-Z</td>\n",
       "    </tr>\n",
       "    <tr>\n",
       "      <th>99</th>\n",
       "      <td>259-76-1291</td>\n",
       "      <td>Lauren</td>\n",
       "      <td>Bryana</td>\n",
       "      <td>Fiorito</td>\n",
       "      <td>simulated_name_dob_reference_file_9_8919</td>\n",
       "      <td>27_6077</td>\n",
       "      <td>5.0</td>\n",
       "      <td>1992.0</td>\n",
       "      <td>24.0</td>\n",
       "      <td>Lauren</td>\n",
       "      <td>...</td>\n",
       "      <td>La</td>\n",
       "      <td>Fi</td>\n",
       "      <td>Lau</td>\n",
       "      <td>Fio</td>\n",
       "      <td>LARAN</td>\n",
       "      <td>N640</td>\n",
       "      <td>FARAT</td>\n",
       "      <td>O361</td>\n",
       "      <td>L</td>\n",
       "      <td>F</td>\n",
       "    </tr>\n",
       "  </tbody>\n",
       "</table>\n",
       "<p>100 rows × 24 columns</p>\n",
       "</div>"
      ],
      "text/plain": [
       "            ssn first_name middle_name    last_name  \\\n",
       "0   590-60-7318     Ernest        Gent        Loura   \n",
       "1   591-37-6008     Dennis       Ralph       Henson   \n",
       "2   591-37-6008     Dennis       Ralph       Henson   \n",
       "3   591-81-6059    Genesis     Jocelyn      Sailors   \n",
       "4   593-75-0682     Donald      Robwrt         Ward   \n",
       "..          ...        ...         ...          ...   \n",
       "95  252-74-0577       Troy      Robert       Morris   \n",
       "96  257-24-4490     Joseph     Michael       Farris   \n",
       "97  257-39-5748     Joseph        <NA>     Jennings   \n",
       "98  259-45-3352    Beverly    Patricia  Wallace-Lee   \n",
       "99  259-76-1291     Lauren      Bryana      Fiorito   \n",
       "\n",
       "                                   record_id       pik  month_of_birth  \\\n",
       "0     simulated_name_dob_reference_file_9_14  60_11138             2.0   \n",
       "1    simulated_name_dob_reference_file_9_156  60_12561             1.0   \n",
       "2    simulated_name_dob_reference_file_9_157  60_12561             NaN   \n",
       "3    simulated_name_dob_reference_file_9_232    61_374             2.0   \n",
       "4    simulated_name_dob_reference_file_9_555   61_3984             6.0   \n",
       "..                                       ...       ...             ...   \n",
       "95  simulated_name_dob_reference_file_9_7679  26_12601            12.0   \n",
       "96  simulated_name_dob_reference_file_9_8437   27_1432             1.0   \n",
       "97  simulated_name_dob_reference_file_9_8460   27_1693             1.0   \n",
       "98  simulated_name_dob_reference_file_9_8876   27_5512             8.0   \n",
       "99  simulated_name_dob_reference_file_9_8919   27_6077             5.0   \n",
       "\n",
       "    year_of_birth  day_of_birth first_name_15  ... first_name_2 last_name_2  \\\n",
       "0          2010.0           2.0        Ernest  ...           Er          Lo   \n",
       "1          1941.0          29.0        Dennis  ...           De          He   \n",
       "2             NaN           NaN        Dennis  ...           De          He   \n",
       "3          2004.0          23.0       Genesis  ...           Ge          Sa   \n",
       "4          1962.0          30.0        Donald  ...           Do          Wa   \n",
       "..            ...           ...           ...  ...          ...         ...   \n",
       "95         1973.0          13.0          Troy  ...           Tr          Mo   \n",
       "96         1979.0          13.0        Joseph  ...           Jo          Fa   \n",
       "97         1983.0          20.0        Joseph  ...           Jo          Je   \n",
       "98         1964.0           8.0       Beverly  ...           Be          Wa   \n",
       "99         1992.0          24.0        Lauren  ...           La          Fi   \n",
       "\n",
       "   first_name_3 last_name_3 first_name_nysiis first_name_reverse_soundex  \\\n",
       "0           Ern         Lou            ERNAST                       T256   \n",
       "1           Den         Hen               DAN                       S530   \n",
       "2           Den         Hen               DAN                       S530   \n",
       "3           Gen         Sai             GANAS                       S252   \n",
       "4           Don         War            DANALD                       D453   \n",
       "..          ...         ...               ...                        ...   \n",
       "95          Tro         Mor               TRY                       Y630   \n",
       "96          Jos         Far             JASAF                       H122   \n",
       "97          Jos         Jen             JASAF                       H122   \n",
       "98          Bev         Wal           BAFARLY                       Y461   \n",
       "99          Lau         Fio             LARAN                       N640   \n",
       "\n",
       "   last_name_nysiis last_name_reverse_soundex first_initial_cut  \\\n",
       "0               LAR                      A640                 E   \n",
       "1            HANSAN                      N250                 D   \n",
       "2            HANSAN                      N250                 D   \n",
       "3             SALAR                      S642                 G   \n",
       "4               WAD                      D600                 D   \n",
       "..              ...                       ...               ...   \n",
       "95              MAR                      S650                 T   \n",
       "96              FAR                      S610                 J   \n",
       "97           JANANG                      S552                 J   \n",
       "98        WALACA-LY                      E424                 B   \n",
       "99            FARAT                      O361                 L   \n",
       "\n",
       "   last_initial_cut  \n",
       "0                 L  \n",
       "1                 H  \n",
       "2                 H  \n",
       "3                 S  \n",
       "4               U-Z  \n",
       "..              ...  \n",
       "95                M  \n",
       "96                F  \n",
       "97                J  \n",
       "98              U-Z  \n",
       "99                F  \n",
       "\n",
       "[100 rows x 24 columns]"
      ]
     },
     "execution_count": 46,
     "metadata": {},
     "output_type": "execute_result"
    }
   ],
   "source": [
    "df_ops.head(name_dob_reference_file, n=100)"
   ]
  },
  {
   "cell_type": "code",
   "execution_count": 47,
   "id": "c3d4ebae-cf4c-45be-a7d7-db4062407e68",
   "metadata": {
    "execution": {
     "iopub.execute_input": "2024-02-13T00:18:02.091964Z",
     "iopub.status.busy": "2024-02-13T00:18:02.091577Z",
     "iopub.status.idle": "2024-02-13T00:18:02.298294Z",
     "shell.execute_reply": "2024-02-13T00:18:02.297541Z"
    },
    "papermill": {
     "duration": 0.246366,
     "end_time": "2024-02-13T00:18:02.300657",
     "exception": false,
     "start_time": "2024-02-13T00:18:02.054291",
     "status": "completed"
    },
    "tags": []
   },
   "outputs": [
    {
     "data": {
      "text/plain": [
       "0.09659090595870674"
      ]
     },
     "execution_count": 47,
     "metadata": {},
     "output_type": "execute_result"
    }
   ],
   "source": [
    "df_ops.compute(name_dob_reference_file.year_of_birth.isna().mean())"
   ]
  },
  {
   "cell_type": "code",
   "execution_count": 48,
   "id": "73a64260-0815-456a-9166-10b7be194d02",
   "metadata": {
    "execution": {
     "iopub.execute_input": "2024-02-13T00:18:02.370818Z",
     "iopub.status.busy": "2024-02-13T00:18:02.370404Z",
     "iopub.status.idle": "2024-02-13T00:18:02.375045Z",
     "shell.execute_reply": "2024-02-13T00:18:02.374136Z"
    },
    "papermill": {
     "duration": 0.038869,
     "end_time": "2024-02-13T00:18:02.376913",
     "exception": false,
     "start_time": "2024-02-13T00:18:02.338044",
     "status": "completed"
    },
    "tags": []
   },
   "outputs": [],
   "source": [
    "# df_ops.to_parquet(name_dob_reference_file, f'{intermediate_data_dir}/name_dob_reference_file_prepped.parquet')"
   ]
  },
  {
   "cell_type": "markdown",
   "id": "57a115b7-6215-4bcf-8444-ef2223040a02",
   "metadata": {
    "papermill": {
     "duration": 0.031012,
     "end_time": "2024-02-13T00:18:02.447713",
     "exception": false,
     "start_time": "2024-02-13T00:18:02.416701",
     "status": "completed"
    },
    "tags": []
   },
   "source": [
    "# Emulate Multi-Match with splink\n",
    "\n",
    "Wagner and Layne, p. 8:\n",
    "\n",
    "> The PVS employs its probabilistic record linkage software, Multi-Match (Wagner\n",
    "2012), as an integral part of the PVS.\n",
    "\n",
    "Wagner and Layne, p. 12:\n",
    "\n",
    "> PVS uses the same Multi-Match engine for each probabilistic search type. For each\n",
    "search module the analyst defines a parameter file, which is passed to Multi-Match. The\n",
    "parameter file includes threshold value(s) for the number of passes, blocking keys, and\n",
    "within each pass, the match variables, match comparison type, and matching weights...\n",
    ">\n",
    "> Records must first match exactly on the blocking keys before any comparisons\n",
    "between the match variables are attempted. Each match variable is given an\n",
    "m and\n",
    "u\n",
    "probability, which is translated by MultiMatch as agreement and disagreement weights.\n",
    "The sum of all match variable comparison weights for a record pair is the composite\n",
    "weight. All record pairs with a composite weight greater than or equal to the threshold\n",
    "set in the parameter file are linked, and the records from the incoming file for these\n",
    "linked cases are excluded from all remaining passes. All Numident records are always\n",
    "available for linking in every pass. Any record missing data for any of the blocking fields\n",
    "for a pass skips that pass and moves to the next pass.\n",
    "\n",
    "[splink](https://github.com/moj-analytical-services/splink) is similar to Multi-Match\n",
    "(both are based on the Fellegi-Sunter approach to record linkage).\n",
    "It also implements:\n",
    "- Exact blocking on specified keys\n",
    "- Determining overall match probability based on conditional independence of individual field comparisons\n",
    "  (it is equivalent to multiply the probability ratios, or sum the logarithmic \"weights\" as Multi-Match describes it),\n",
    "  which each have m and u probabilities\n",
    "- Setting a match threshold\n",
    "\n",
    "However, splink does not include some additional logic built into Multi-Match,\n",
    "specifically the ability to run multiple \"passes,\" removing linked records from\n",
    "subsequent passes.\n",
    "We have to implement that ourselves, calling splink again in each pass."
   ]
  },
  {
   "cell_type": "markdown",
   "id": "3a52fa1a-85ca-4a5a-a978-08e43c5b9eb0",
   "metadata": {
    "papermill": {
     "duration": 0.040009,
     "end_time": "2024-02-13T00:18:02.520488",
     "exception": false,
     "start_time": "2024-02-13T00:18:02.480479",
     "status": "completed"
    },
    "tags": []
   },
   "source": [
    "## Estimate parameters (lambda, m, u) once for all modules\n",
    "\n",
    "In Multi-Match, there is no lambda (prior probability of a link, before any comparisons are observed).\n",
    "This is because Multi-Match works entirely in weight space, and sets different weight thresholds\n",
    "in different modules/passes instead of changing the prior probability.\n",
    "\n",
    "In Multi-Match parameters are not directly estimated from the data.\n",
    "They are primarily set manually by analysts, with a different set of parameter files\n",
    "maintained for each type of input file (e.g. survey, administrative).\n",
    "\n",
    "All parameters except lambda are column-level parameters.\n",
    "We estimate the column-level parameters using the GeoBase Reference File,\n",
    "since it has all columns that are used for matching with any reference file.\n",
    "\n",
    "We estimate lambda (manually, see below) separately by reference file,\n",
    "since the number of records is different between the reference files but\n",
    "the size of the underlying population (people we are trying to match) is constant."
   ]
  },
  {
   "cell_type": "markdown",
   "id": "0f5283ef-c44f-4a19-9f58-a0d091697f1a",
   "metadata": {
    "papermill": {
     "duration": 0.031607,
     "end_time": "2024-02-13T00:18:02.585815",
     "exception": false,
     "start_time": "2024-02-13T00:18:02.554208",
     "status": "completed"
    },
    "tags": []
   },
   "source": [
    "### lambda (prior probability of a match)\n",
    "\n",
    "Splink has a built-in method (estimate_probability_two_random_records_match)\n",
    "for estimating this, but it did not seem to give me reasonable estimates.\n",
    "\n",
    "We just make an informed guess here based on how much overlap we expect\n",
    "in the files, how much unintentional duplication we expect in the files (e.g. someone\n",
    "being enumerated twice), how much *intentional* duplication we have in the\n",
    "files (e.g. a record for each nickname variant), and some simplifying assumptions.\n",
    "\n",
    "Our assumptions:\n",
    "- 5% of the enumerations in the CUF are unintentional duplicates\n",
    "- 0.5% of the PIKs in the reference file are unintentional duplicates\n",
    "  (that same person is also represented with a different PIK)\n",
    "- 90% of the people in the CUF are represented in the reference files\n",
    "- Being represented in both files is independent of being unintentionally\n",
    "  or intentionally duplicated\n",
    "- Being intentionally duplicated in one file is independent of being intentionally\n",
    "  duplicated in the other (likely not true since having a name with lots of variants\n",
    "  would cause intentional duplicates in both)\n",
    "\n",
    "We do this first (before m and u probabilities) because having lambda estimated is\n",
    "useful to the EM algorithm for estimating m and u."
   ]
  },
  {
   "cell_type": "code",
   "execution_count": 49,
   "id": "9e179c13-03b3-4100-81d7-5db54c05c371",
   "metadata": {
    "execution": {
     "iopub.execute_input": "2024-02-13T00:18:02.658546Z",
     "iopub.status.busy": "2024-02-13T00:18:02.658129Z",
     "iopub.status.idle": "2024-02-13T00:18:06.454360Z",
     "shell.execute_reply": "2024-02-13T00:18:06.453614Z"
    },
    "papermill": {
     "duration": 3.830511,
     "end_time": "2024-02-13T00:18:06.456327",
     "exception": false,
     "start_time": "2024-02-13T00:18:02.625816",
     "status": "completed"
    },
    "tags": []
   },
   "outputs": [
    {
     "data": {
      "text/plain": [
       "1.6536297573864813e-07"
      ]
     },
     "execution_count": 49,
     "metadata": {},
     "output_type": "execute_result"
    }
   ],
   "source": [
    "def estimate_number_true_matches(input_file, reference_file):\n",
    "    people_represented_in_input_file = (\n",
    "        len(df_ops.drop_duplicates(input_file[['record_id_raw_input_file']])) * 0.95\n",
    "    )\n",
    "    people_represented_in_reference_file = (\n",
    "        len(df_ops.drop_duplicates(reference_file[['pik']])) * 0.995\n",
    "    )\n",
    "    people_represented_in_both = people_represented_in_input_file * 0.9\n",
    "\n",
    "    # Assuming independence conditions as noted above, the number of true\n",
    "    # matches that should be found for *each* true person is the expected number\n",
    "    # of records in one file times the expected number of records in the other\n",
    "    input_file_records_per_person = people_represented_in_input_file / len(input_file)\n",
    "    reference_file_records_per_person = people_represented_in_reference_file / len(reference_file)\n",
    "    record_matches_per_person = input_file_records_per_person * reference_file_records_per_person\n",
    "\n",
    "    return people_represented_in_both * record_matches_per_person\n",
    "\n",
    "def probability_two_random_records_match(input_file, reference_file):\n",
    "    cartesian_product = len(input_file) * len(reference_file)\n",
    "    if cartesian_product == 0:\n",
    "        # Does not matter\n",
    "        return 0.5\n",
    "\n",
    "    return (\n",
    "        estimate_number_true_matches(input_file, reference_file) /\n",
    "        cartesian_product\n",
    "    )\n",
    "\n",
    "probability_two_random_records_match(census_2030, geobase_reference_file)"
   ]
  },
  {
   "cell_type": "markdown",
   "id": "2d798575-22de-4515-942c-60ecc0dbe3a0",
   "metadata": {
    "papermill": {
     "duration": 0.037301,
     "end_time": "2024-02-13T00:18:06.535853",
     "exception": false,
     "start_time": "2024-02-13T00:18:06.498552",
     "status": "completed"
    },
    "tags": []
   },
   "source": [
    "### m and u probabilities"
   ]
  },
  {
   "cell_type": "code",
   "execution_count": 50,
   "id": "4d17327f-bf5d-48dd-91ef-602aced3b2aa",
   "metadata": {
    "execution": {
     "iopub.execute_input": "2024-02-13T00:18:06.610431Z",
     "iopub.status.busy": "2024-02-13T00:18:06.610017Z",
     "iopub.status.idle": "2024-02-13T00:18:06.620959Z",
     "shell.execute_reply": "2024-02-13T00:18:06.620030Z"
    },
    "papermill": {
     "duration": 0.053001,
     "end_time": "2024-02-13T00:18:06.623124",
     "exception": false,
     "start_time": "2024-02-13T00:18:06.570123",
     "status": "completed"
    },
    "tags": []
   },
   "outputs": [
    {
     "data": {
      "text/plain": [
       "['first_name',\n",
       " 'middle_initial',\n",
       " 'last_name',\n",
       " 'street_number',\n",
       " 'street_name',\n",
       " 'unit_number',\n",
       " 'city',\n",
       " 'state',\n",
       " 'zipcode',\n",
       " 'record_id',\n",
       " 'month_of_birth',\n",
       " 'year_of_birth',\n",
       " 'day_of_birth',\n",
       " 'geokey',\n",
       " 'geokey_for_blocking',\n",
       " 'street_number_for_blocking',\n",
       " 'street_name_for_blocking',\n",
       " 'first_name_15',\n",
       " 'last_name_12',\n",
       " 'first_name_1',\n",
       " 'last_name_1',\n",
       " 'first_name_2',\n",
       " 'last_name_2',\n",
       " 'first_name_3',\n",
       " 'last_name_3',\n",
       " 'first_name_nysiis',\n",
       " 'first_name_reverse_soundex',\n",
       " 'last_name_nysiis',\n",
       " 'last_name_reverse_soundex',\n",
       " 'street_name_for_blocking_soundex',\n",
       " 'zip3',\n",
       " 'first_initial_cut',\n",
       " 'last_initial_cut']"
      ]
     },
     "execution_count": 50,
     "metadata": {},
     "output_type": "execute_result"
    }
   ],
   "source": [
    "common_cols = [c for c in census_2030.columns if c in geobase_reference_file.columns or c in name_dob_reference_file.columns]\n",
    "common_cols"
   ]
  },
  {
   "cell_type": "code",
   "execution_count": 51,
   "id": "07e5cd59-59c0-4ef5-bcba-f7168f7492fd",
   "metadata": {
    "execution": {
     "iopub.execute_input": "2024-02-13T00:18:06.694447Z",
     "iopub.status.busy": "2024-02-13T00:18:06.694072Z",
     "iopub.status.idle": "2024-02-13T00:18:15.622148Z",
     "shell.execute_reply": "2024-02-13T00:18:15.621490Z"
    },
    "papermill": {
     "duration": 8.967443,
     "end_time": "2024-02-13T00:18:15.623505",
     "exception": false,
     "start_time": "2024-02-13T00:18:06.656062",
     "status": "completed"
    },
    "tags": []
   },
   "outputs": [
    {
     "name": "stderr",
     "output_type": "stream",
     "text": [
      "24/02/13 00:18:12 WARN NativeCodeLoader: Unable to load native-hadoop library for your platform... using builtin-java classes where applicable\n",
      "Setting default log level to \"WARN\".\n",
      "To adjust logging level use sc.setLogLevel(newLevel). For SparkR, use setLogLevel(newLevel).\n",
      "24/02/13 00:18:15 WARN SparkContext: Spark is not running in local mode, therefore the checkpoint directory must not be on the local filesystem. Directory '/ihme/scratch/users/zmbc/person_linkage_case_study/person_linkage_case_study//ri/tmpCheckpoints' appears to be on the local filesystem.\n"
     ]
    }
   ],
   "source": [
    "if splink_engine == 'spark':\n",
    "    # https://moj-analytical-services.github.io/splink/demos/examples/spark/deduplicate_1k_synthetic.html\n",
    "    from splink.spark.jar_location import similarity_jar_location\n",
    "\n",
    "    from pyspark import SparkContext, SparkConf\n",
    "    from pyspark.sql import SparkSession\n",
    "    from pyspark.sql import types\n",
    "\n",
    "    conf = SparkConf()\n",
    "    conf.setMaster(os.getenv(\"LINKER_SPARK_MASTER_URL\", spark_master_url))\n",
    "    conf.set(\"spark.driver.memory\", \"8g\")\n",
    "    conf.set(\"spark.executor.instances\", spark_num_workers)\n",
    "    conf.set(\"spark.executor.cores\", 1)\n",
    "    conf.set(\"spark.executor.memory\", f\"{spark_memory_per_worker - spark_worker_memory_overhead_mb}m\")\n",
    "\n",
    "    conf.set(\"spark.sql.shuffle.partitions\", spark_num_workers * 5)\n",
    "    conf.set(\"spark.default.parallelism\", spark_num_workers * 5)\n",
    "\n",
    "    # Add custom similarity functions, which are bundled with Splink\n",
    "    # documented here: https://github.com/moj-analytical-services/splink_scalaudfs\n",
    "    path = similarity_jar_location()\n",
    "    conf.set(\"spark.jars\", path)\n",
    "\n",
    "    sc = SparkContext.getOrCreate(conf=conf)\n",
    "\n",
    "    spark = SparkSession(sc)\n",
    "    checkpoints_dir = f\"{output_dir}/tmpCheckpoints\"\n",
    "    utils.ensure_empty(checkpoints_dir)\n",
    "    spark.sparkContext.setCheckpointDir(checkpoints_dir)"
   ]
  },
  {
   "cell_type": "code",
   "execution_count": 52,
   "id": "c39465e9-edee-4a73-ac63-c4f060013a00",
   "metadata": {
    "execution": {
     "iopub.execute_input": "2024-02-13T00:18:15.675514Z",
     "iopub.status.busy": "2024-02-13T00:18:15.674881Z",
     "iopub.status.idle": "2024-02-13T00:18:26.062257Z",
     "shell.execute_reply": "2024-02-13T00:18:26.056882Z"
    },
    "papermill": {
     "duration": 10.417869,
     "end_time": "2024-02-13T00:18:26.064750",
     "exception": false,
     "start_time": "2024-02-13T00:18:15.646881",
     "status": "completed"
    },
    "tags": []
   },
   "outputs": [
    {
     "name": "stderr",
     "output_type": "stream",
     "text": [
      "                                                                                \r"
     ]
    }
   ],
   "source": [
    "def prep_table_for_splink(df, dataset_name, columns):\n",
    "    result = (\n",
    "        df[[c for c in df.columns if c in columns]]\n",
    "            .assign(dataset_name=dataset_name)\n",
    "    )\n",
    "    if compute_engine == 'pandas' or splink_engine == 'duckdb':\n",
    "        # Needs to all be in one process anyway\n",
    "        return df_ops.compute(result)\n",
    "    else:\n",
    "        utils.ensure_empty(f'{intermediate_data_dir}/for_splink/{dataset_name}')\n",
    "        file_path = f'{intermediate_data_dir}/for_splink/{dataset_name}/{dataset_name}_{int(time.time())}.parquet'\n",
    "        df_ops.to_parquet(result, file_path, wait=True)\n",
    "        assert splink_engine == 'spark'\n",
    "        return spark.read.parquet(file_path)\n",
    "\n",
    "if len(geobase_reference_file) > 1_000_000:\n",
    "    geobase_reference_file_for_training = geobase_reference_file.sample(frac=(1_000_000/len(geobase_reference_file)), random_state=1234)\n",
    "else:\n",
    "    geobase_reference_file_for_training = geobase_reference_file\n",
    "\n",
    "if len(census_2030) > 1_000_000:\n",
    "    census_2030_for_training = census_2030.sample(frac=(1_000_000/len(census_2030)), random_state=1234)\n",
    "else:\n",
    "    census_2030_for_training = census_2030\n",
    "\n",
    "utils.ensure_empty(f'{intermediate_data_dir}/for_splink/')\n",
    "tables_for_splink = [\n",
    "    prep_table_for_splink(geobase_reference_file_for_training, \"geobase_reference_file\", common_cols),\n",
    "    prep_table_for_splink(census_2030_for_training, \"census_2030\", common_cols)\n",
    "]"
   ]
  },
  {
   "cell_type": "markdown",
   "id": "df02a447-eed8-470d-8487-1954c046bebd",
   "metadata": {
    "papermill": {
     "duration": 0.024034,
     "end_time": "2024-02-13T00:18:26.116643",
     "exception": false,
     "start_time": "2024-02-13T00:18:26.092609",
     "status": "completed"
    },
    "tags": []
   },
   "source": [
    "#### Define comparison variables and levels\n",
    "\n",
    "**Variables**\n",
    "\n",
    "The most recent report, from 2023 (Brown et al., p. 29), says:\n",
    "\n",
    "> [In] GeoSearch... The typical matching variables are name, DOB, sex, and\n",
    "  various address fields...\n",
    ">\n",
    "> NameSearch... uses only name and DOB fields...\n",
    "> \n",
    "> DOBSearch... compares name, sex, and DOB...\n",
    "> \n",
    "> the Household Composition search module... attempts to find a match... based on name and DOB information\n",
    "\n",
    "So, the total list: name, DOB, sex, and \"various address fields.\"\n",
    "These address fields are listed in the PVS report (p. 34) which is admittedly from 2011:\n",
    "\n",
    "> variables used directly in matching the input file with the reference files [include]...\n",
    "> street name, street name prefix and suffix, house number, rural route and box, and ZIP code\n",
    "\n",
    "**Comparisons**\n",
    "\n",
    "Massey et al. footnote 2: \n",
    "> The PVS string comparator was developed by Winkler (1995) and measures the distance\n",
    "  between two strings on a scale from 0 to 900, where a distance score of 0 is given if\n",
    "  there is no similarity between two text strings and a score of 900 is given for an exact match.\n",
    "  The cutoff value for the string distance is set to 750 in the Name Search module.\n",
    "\n",
    "Massey and O'Hara, p. 6 footnote 7:\n",
    "> For the comparison of text strings, a prorated value\n",
    "  between the chosen agreement score and chosen disagreement score is given depending on the Jaro-Winkler\n",
    "  distance between the string in the input file and reference file.\n",
    "\n",
    "Massey et al.:\n",
    "> For numeric variables, such as year of birth, a maximum acceptable difference\n",
    "> between the variable value in the input and reference record is set. This also\n",
    "> allows for creation of an interval, or band, around year of birth to permit\n",
    "> inexact matches. Within this band, prorated agreement and disagreement weights\n",
    "> are assigned depending on the similarity of year of birth.\n",
    "\n",
    "The \"maximum acceptable distance\" implies that the m probability beyond that distance is\n",
    "zero; such pairs should never be linked.\n",
    "\n",
    "Note that this continuous \"prorated value,\" as opposed to categorizing comparison levels,\n",
    "is not possible in splink and goes outside the traditional F-S framing of m and u probabilities!\n",
    "We omit it for now."
   ]
  },
  {
   "cell_type": "code",
   "execution_count": 53,
   "id": "367d9ac2-eba6-48b9-a10c-7f3515adcf7f",
   "metadata": {
    "execution": {
     "iopub.execute_input": "2024-02-13T00:18:26.168959Z",
     "iopub.status.busy": "2024-02-13T00:18:26.168627Z",
     "iopub.status.idle": "2024-02-13T00:18:33.633044Z",
     "shell.execute_reply": "2024-02-13T00:18:33.632254Z"
    },
    "papermill": {
     "duration": 7.493954,
     "end_time": "2024-02-13T00:18:33.635074",
     "exception": false,
     "start_time": "2024-02-13T00:18:26.141120",
     "status": "completed"
    },
    "tags": []
   },
   "outputs": [
    {
     "name": "stderr",
     "output_type": "stream",
     "text": [
      "24/02/13 00:18:33 WARN package: Truncated the string representation of a plan since it was too large. This behavior can be adjusted by setting 'spark.sql.debug.maxToStringFields'.\n"
     ]
    }
   ],
   "source": [
    "if splink_engine == 'duckdb':\n",
    "    from splink.duckdb.comparison_library import (\n",
    "        exact_match,\n",
    "        jaro_winkler_at_thresholds,\n",
    "    )\n",
    "    import splink.duckdb.comparison_level_library as cll\n",
    "elif splink_engine == 'spark':\n",
    "    from splink.spark.comparison_library import (\n",
    "        exact_match,\n",
    "        jaro_winkler_at_thresholds,\n",
    "    )\n",
    "    import splink.spark.comparison_level_library as cll\n",
    "\n",
    "def numeric_column_comparison(col_name, human_name, maximum_inexact_match_difference):\n",
    "    return {\n",
    "        \"output_column_name\": col_name,\n",
    "        \"comparison_description\": human_name,\n",
    "        \"comparison_levels\": [\n",
    "            cll.null_level(col_name),\n",
    "            cll.exact_match_level(col_name),\n",
    "            {\n",
    "                \"sql_condition\": f\"abs({col_name}_l - {col_name}_r) <= {maximum_inexact_match_difference}\",\n",
    "                \"label_for_charts\": \"Inexact match\",\n",
    "            },\n",
    "            cll.else_level(),\n",
    "        ],\n",
    "    }\n",
    "\n",
    "numeric_columns = [\"day_of_birth\", \"month_of_birth\", \"year_of_birth\"]\n",
    "\n",
    "settings = {\n",
    "    \"link_type\": \"link_only\",\n",
    "    \"comparisons\": [\n",
    "        jaro_winkler_at_thresholds(\"first_name_15\", 750 / 900),\n",
    "        jaro_winkler_at_thresholds(\"last_name_12\", 750 / 900),\n",
    "        exact_match(\"middle_initial\"),\n",
    "        numeric_column_comparison(\"day_of_birth\", \"Day of birth\", maximum_inexact_match_difference=5),\n",
    "        numeric_column_comparison(\"month_of_birth\", \"Month of birth\", maximum_inexact_match_difference=3),\n",
    "        numeric_column_comparison(\"year_of_birth\", \"Year of birth\", maximum_inexact_match_difference=5),\n",
    "        # HACK: I believe that PVS compares each part of the geokey separately (though I'm\n",
    "        # not sure what the thresholds would be).\n",
    "        # However, these columns grossly violate conditional independence, so are difficult to\n",
    "        # estimate parameters for via EM.\n",
    "        # As a workaround, we just compare the entire geokey.\n",
    "        # jaro_winkler_at_thresholds(\"street_number\", 750 / 900),\n",
    "        # jaro_winkler_at_thresholds(\"street_name\", 750 / 900),\n",
    "        # jaro_winkler_at_thresholds(\"unit_number\", 750 / 900),\n",
    "        # jaro_winkler_at_thresholds(\"zipcode\", 750 / 900),\n",
    "        jaro_winkler_at_thresholds(\"geokey\", 650 / 900),\n",
    "    ],\n",
    "    \"probability_two_random_records_match\": probability_two_random_records_match(census_2030, geobase_reference_file),\n",
    "    \"unique_id_column_name\": \"record_id\",\n",
    "    # Not sure exactly what this does, but it is necessary for some of the fancier graphs below\n",
    "    \"retain_intermediate_calculation_columns\": True,\n",
    "}\n",
    "\n",
    "if splink_engine == 'duckdb':\n",
    "    from splink.duckdb.linker import DuckDBLinker\n",
    "\n",
    "    linker = DuckDBLinker(\n",
    "        tables_for_splink,\n",
    "        settings,\n",
    "        input_table_aliases=[\"reference_file\", \"census_2030\"]\n",
    "    )\n",
    "elif splink_engine == 'spark':\n",
    "    from splink.spark.linker import SparkLinker\n",
    "    linker = SparkLinker(\n",
    "        tables_for_splink,\n",
    "        settings,\n",
    "        input_table_aliases=[\"reference_file\", \"census_2030\"],\n",
    "        spark=spark,\n",
    "    )\n",
    "\n",
    "    import warnings\n",
    "    # PySpark triggers a lot of Pandas warnings\n",
    "    warnings.filterwarnings(\"ignore\", category=DeprecationWarning)\n",
    "    warnings.filterwarnings(\"ignore\", category=FutureWarning)"
   ]
  },
  {
   "cell_type": "markdown",
   "id": "8248795b-29ae-4f70-b0c8-1b466112c56e",
   "metadata": {
    "papermill": {
     "duration": 0.032307,
     "end_time": "2024-02-13T00:18:33.708808",
     "exception": false,
     "start_time": "2024-02-13T00:18:33.676501",
     "status": "completed"
    },
    "tags": []
   },
   "source": [
    "#### Estimate u probabilities\n",
    "\n",
    "This method seems to work well:\n",
    "- For almost all of the columns, an exact or even inexact match is relatively rare\n",
    "- Exact matches are common on ZIP code (makes sense, given our sample data is all in one ZIP)\n",
    "- Inexact matches are more common where you would expect (day and month of birth have highly constrained values)\n",
    "\n",
    "I have tested that this estimation is reproducible when run multiple times (with the same seed)."
   ]
  },
  {
   "cell_type": "code",
   "execution_count": 54,
   "id": "fbc1d82b-02d2-45df-b450-614623c41f5e",
   "metadata": {
    "execution": {
     "iopub.execute_input": "2024-02-13T00:18:33.784589Z",
     "iopub.status.busy": "2024-02-13T00:18:33.783807Z",
     "iopub.status.idle": "2024-02-13T00:19:58.108144Z",
     "shell.execute_reply": "2024-02-13T00:19:58.107100Z"
    },
    "papermill": {
     "duration": 84.36469,
     "end_time": "2024-02-13T00:19:58.109984",
     "exception": false,
     "start_time": "2024-02-13T00:18:33.745294",
     "status": "completed"
    },
    "tags": []
   },
   "outputs": [
    {
     "name": "stderr",
     "output_type": "stream",
     "text": [
      "----- Estimating u probabilities using random sampling -----\n",
      "24/02/13 00:18:59 WARN DataSource: All paths were ignored:                      \n",
      "  file:/ihme/scratch/users/zmbc/person_linkage_case_study/person_linkage_case_study/ri/tmpCheckpoints/c28977bd-b2cf-4869-832b-cd0cdb995234/__splink__df_concat_with_tf_2682195c9\n",
      "                                                                                \n",
      "Estimated u probabilities using random sampling\n",
      "\n",
      "Your model is not yet fully trained. Missing estimates for:\n",
      "    - first_name_15 (no m values are trained).\n",
      "    - last_name_12 (no m values are trained).\n",
      "    - middle_initial (no m values are trained).\n",
      "    - day_of_birth (no m values are trained).\n",
      "    - month_of_birth (no m values are trained).\n",
      "    - year_of_birth (no m values are trained).\n",
      "    - geokey (no m values are trained).\n"
     ]
    },
    {
     "name": "stdout",
     "output_type": "stream",
     "text": [
      "CPU times: user 18.1 s, sys: 1.24 s, total: 19.3 s\n",
      "Wall time: 1min 24s\n"
     ]
    }
   ],
   "source": [
    "%%time\n",
    "\n",
    "linker.estimate_u_using_random_sampling(max_pairs=1e7, seed=1234)"
   ]
  },
  {
   "cell_type": "code",
   "execution_count": 55,
   "id": "a393ab32-1308-47c8-bab0-39d2b0cf6256",
   "metadata": {
    "execution": {
     "iopub.execute_input": "2024-02-13T00:19:58.187952Z",
     "iopub.status.busy": "2024-02-13T00:19:58.187530Z",
     "iopub.status.idle": "2024-02-13T00:19:59.535934Z",
     "shell.execute_reply": "2024-02-13T00:19:59.535137Z"
    },
    "papermill": {
     "duration": 1.392086,
     "end_time": "2024-02-13T00:19:59.537797",
     "exception": false,
     "start_time": "2024-02-13T00:19:58.145711",
     "status": "completed"
    },
    "tags": []
   },
   "outputs": [
    {
     "data": {
      "text/html": [
       "\n",
       "<style>\n",
       "  #altair-viz-2799b03106ca4a8f9e2530db8b1f7852.vega-embed {\n",
       "    width: 100%;\n",
       "    display: flex;\n",
       "  }\n",
       "\n",
       "  #altair-viz-2799b03106ca4a8f9e2530db8b1f7852.vega-embed details,\n",
       "  #altair-viz-2799b03106ca4a8f9e2530db8b1f7852.vega-embed details summary {\n",
       "    position: relative;\n",
       "  }\n",
       "</style>\n",
       "<div id=\"altair-viz-2799b03106ca4a8f9e2530db8b1f7852\"></div>\n",
       "<script type=\"text/javascript\">\n",
       "  var VEGA_DEBUG = (typeof VEGA_DEBUG == \"undefined\") ? {} : VEGA_DEBUG;\n",
       "  (function(spec, embedOpt){\n",
       "    let outputDiv = document.currentScript.previousElementSibling;\n",
       "    if (outputDiv.id !== \"altair-viz-2799b03106ca4a8f9e2530db8b1f7852\") {\n",
       "      outputDiv = document.getElementById(\"altair-viz-2799b03106ca4a8f9e2530db8b1f7852\");\n",
       "    }\n",
       "    const paths = {\n",
       "      \"vega\": \"https://cdn.jsdelivr.net/npm/vega@5?noext\",\n",
       "      \"vega-lib\": \"https://cdn.jsdelivr.net/npm/vega-lib?noext\",\n",
       "      \"vega-lite\": \"https://cdn.jsdelivr.net/npm/vega-lite@5.15.1?noext\",\n",
       "      \"vega-embed\": \"https://cdn.jsdelivr.net/npm/vega-embed@6?noext\",\n",
       "    };\n",
       "\n",
       "    function maybeLoadScript(lib, version) {\n",
       "      var key = `${lib.replace(\"-\", \"\")}_version`;\n",
       "      return (VEGA_DEBUG[key] == version) ?\n",
       "        Promise.resolve(paths[lib]) :\n",
       "        new Promise(function(resolve, reject) {\n",
       "          var s = document.createElement('script');\n",
       "          document.getElementsByTagName(\"head\")[0].appendChild(s);\n",
       "          s.async = true;\n",
       "          s.onload = () => {\n",
       "            VEGA_DEBUG[key] = version;\n",
       "            return resolve(paths[lib]);\n",
       "          };\n",
       "          s.onerror = () => reject(`Error loading script: ${paths[lib]}`);\n",
       "          s.src = paths[lib];\n",
       "        });\n",
       "    }\n",
       "\n",
       "    function showError(err) {\n",
       "      outputDiv.innerHTML = `<div class=\"error\" style=\"color:red;\">${err}</div>`;\n",
       "      throw err;\n",
       "    }\n",
       "\n",
       "    function displayChart(vegaEmbed) {\n",
       "      vegaEmbed(outputDiv, spec, embedOpt)\n",
       "        .catch(err => showError(`Javascript Error: ${err.message}<br>This usually means there's a typo in your chart specification. See the javascript console for the full traceback.`));\n",
       "    }\n",
       "\n",
       "    if(typeof define === \"function\" && define.amd) {\n",
       "      requirejs.config({paths});\n",
       "      require([\"vega-embed\"], displayChart, err => showError(`Error loading script: ${err.message}`));\n",
       "    } else {\n",
       "      maybeLoadScript(\"vega\", \"5\")\n",
       "        .then(() => maybeLoadScript(\"vega-lite\", \"5.15.1\"))\n",
       "        .then(() => maybeLoadScript(\"vega-embed\", \"6\"))\n",
       "        .catch(showError)\n",
       "        .then(() => displayChart(vegaEmbed));\n",
       "    }\n",
       "  })({\"config\": {\"view\": {\"continuousWidth\": 300, \"continuousHeight\": 300, \"discreteHeight\": 300, \"discreteWidth\": 400}, \"header\": {\"title\": null}, \"title\": {\"anchor\": \"middle\", \"offset\": 10}}, \"hconcat\": [{\"mark\": \"bar\", \"encoding\": {\"color\": {\"value\": \"green\"}, \"row\": {\"field\": \"comparison_name\", \"header\": {\"labelAlign\": \"left\", \"labelAnchor\": \"middle\", \"labelAngle\": 0}, \"sort\": {\"field\": \"comparison_sort_order\"}, \"type\": \"nominal\"}, \"tooltip\": [{\"field\": \"m_probability_description\", \"title\": \"m probability description\", \"type\": \"nominal\"}, {\"field\": \"comparison_name\", \"title\": \"Comparison column name\", \"type\": \"nominal\"}, {\"field\": \"label_for_charts\", \"title\": \"Label\", \"type\": \"ordinal\"}, {\"field\": \"sql_condition\", \"title\": \"SQL condition\", \"type\": \"nominal\"}, {\"field\": \"m_probability\", \"format\": \".4p\", \"title\": \"m probability\", \"type\": \"quantitative\"}, {\"field\": \"u_probability\", \"format\": \".4p\", \"title\": \"u probability\", \"type\": \"quantitative\"}, {\"field\": \"bayes_factor\", \"format\": \",.4f\", \"title\": \"Bayes factor = m/u\", \"type\": \"quantitative\"}, {\"field\": \"log2_bayes_factor\", \"format\": \",.4f\", \"title\": \"Match weight = log2(m/u)\", \"type\": \"quantitative\"}], \"x\": {\"axis\": {\"title\": \"Proportion of record comparisons\"}, \"field\": \"m_probability\", \"type\": \"quantitative\"}, \"y\": {\"axis\": {\"title\": null}, \"field\": \"label_for_charts\", \"sort\": {\"field\": \"comparison_vector_value\", \"order\": \"descending\"}, \"type\": \"nominal\"}}, \"height\": {\"step\": 12}, \"resolve\": {\"scale\": {\"y\": \"independent\"}}, \"title\": {\"text\": \"Amongst matching record comparisons:\", \"fontSize\": 12, \"fontWeight\": \"bold\"}, \"transform\": [{\"filter\": \"(datum.bayes_factor != 'no-op filter due to vega lite issue 4680')\"}], \"width\": 150}, {\"mark\": \"bar\", \"encoding\": {\"color\": {\"value\": \"red\"}, \"row\": {\"field\": \"comparison_name\", \"header\": {\"labels\": false}, \"sort\": {\"field\": \"comparison_sort_order\"}, \"type\": \"nominal\"}, \"tooltip\": [{\"field\": \"u_probability_description\", \"title\": \"u probability description\", \"type\": \"nominal\"}, {\"field\": \"comparison_name\", \"title\": \"Comparison column name\", \"type\": \"nominal\"}, {\"field\": \"label_for_charts\", \"title\": \"Label\", \"type\": \"ordinal\"}, {\"field\": \"sql_condition\", \"title\": \"SQL condition\", \"type\": \"nominal\"}, {\"field\": \"m_probability\", \"format\": \".4p\", \"title\": \"m probability\", \"type\": \"quantitative\"}, {\"field\": \"u_probability\", \"format\": \".4p\", \"title\": \"u probability\", \"type\": \"quantitative\"}, {\"field\": \"bayes_factor\", \"format\": \",.4f\", \"title\": \"Bayes factor = m/u\", \"type\": \"quantitative\"}, {\"field\": \"log2_bayes_factor\", \"format\": \",.4f\", \"title\": \"Match weight = log2(m/u)\", \"type\": \"quantitative\"}], \"x\": {\"axis\": {\"title\": \"Proportion of record comparisons\"}, \"field\": \"u_probability\", \"type\": \"quantitative\"}, \"y\": {\"axis\": {\"title\": null}, \"field\": \"label_for_charts\", \"sort\": {\"field\": \"comparison_vector_value\", \"order\": \"descending\"}, \"type\": \"nominal\"}}, \"height\": {\"step\": 12}, \"resolve\": {\"scale\": {\"y\": \"independent\"}}, \"title\": {\"text\": \"Amongst non-matching record comparisons:\", \"fontSize\": 12, \"fontWeight\": \"bold\"}, \"transform\": [{\"filter\": \"(datum.bayes_factor != 'no-op filter2 due to vega lite issue 4680')\"}], \"width\": 150}], \"data\": {\"name\": \"data-80d25e363a4202bb312416f3a3ed4101\"}, \"title\": {\"text\": \"Proportion of record comparisons in each comparison level by match status\", \"subtitle\": \"(m and u probabilities)\"}, \"$schema\": \"https://vega.github.io/schema/vega-lite/v5.9.3.json\", \"datasets\": {\"data-80d25e363a4202bb312416f3a3ed4101\": [{\"comparison_name\": \"first_name_15\", \"sql_condition\": \"`first_name_15_l` = `first_name_15_r`\", \"label_for_charts\": \"Exact match\", \"m_probability\": 0.95, \"u_probability\": 0.0017875649663137633, \"m_probability_description\": \"Amongst matching record comparisons, 95.00% of records are in the exact match comparison level\", \"u_probability_description\": \"Amongst non-matching record comparisons, 0.18% of records are in the exact match comparison level\", \"has_tf_adjustments\": false, \"tf_adjustment_column\": null, \"tf_adjustment_weight\": 1.0, \"is_null_level\": false, \"bayes_factor\": 531.449216057891, \"log2_bayes_factor\": 9.053788027830501, \"comparison_vector_value\": 2, \"max_comparison_vector_value\": 2, \"bayes_factor_description\": \"If comparison level is `exact match` then comparison is 531.45 times more likely to be a match\", \"probability_two_random_records_match\": 1.6536297573864813e-07, \"comparison_sort_order\": 0}, {\"comparison_name\": \"first_name_15\", \"sql_condition\": \"jaro_winkler(`first_name_15_l`, `first_name_15_r`) >= 0.8333333333333334\", \"label_for_charts\": \"Jaro_winkler >= 0.8333333333333334\", \"m_probability\": 0.025000000000000022, \"u_probability\": 0.0033337696503047804, \"m_probability_description\": \"Amongst matching record comparisons, 2.50% of records are in the jaro_winkler >= 0.8333333333333334 comparison level\", \"u_probability_description\": \"Amongst non-matching record comparisons, 0.33% of records are in the jaro_winkler >= 0.8333333333333334 comparison level\", \"has_tf_adjustments\": false, \"tf_adjustment_column\": null, \"tf_adjustment_weight\": 1.0, \"is_null_level\": false, \"bayes_factor\": 7.49901841529887, \"log2_bayes_factor\": 2.9067017662673784, \"comparison_vector_value\": 1, \"max_comparison_vector_value\": 2, \"bayes_factor_description\": \"If comparison level is `jaro_winkler >= 0.8333333333333334` then comparison is 7.50 times more likely to be a match\", \"probability_two_random_records_match\": 1.6536297573864813e-07, \"comparison_sort_order\": 0}, {\"comparison_name\": \"first_name_15\", \"sql_condition\": \"ELSE\", \"label_for_charts\": \"All other comparisons\", \"m_probability\": 0.025000000000000022, \"u_probability\": 0.9948786653833814, \"m_probability_description\": \"Amongst matching record comparisons, 2.50% of records are in the all other comparisons comparison level\", \"u_probability_description\": \"Amongst non-matching record comparisons, 99.49% of records are in the all other comparisons comparison level\", \"has_tf_adjustments\": false, \"tf_adjustment_column\": null, \"tf_adjustment_weight\": 1.0, \"is_null_level\": false, \"bayes_factor\": 0.025128692442476036, \"log2_bayes_factor\": -5.314520586436527, \"comparison_vector_value\": 0, \"max_comparison_vector_value\": 2, \"bayes_factor_description\": \"If comparison level is `all other comparisons` then comparison is  39.80 times less likely to be a match\", \"probability_two_random_records_match\": 1.6536297573864813e-07, \"comparison_sort_order\": 0}, {\"comparison_name\": \"last_name_12\", \"sql_condition\": \"`last_name_12_l` = `last_name_12_r`\", \"label_for_charts\": \"Exact match\", \"m_probability\": 0.95, \"u_probability\": 0.0004849346356234464, \"m_probability_description\": \"Amongst matching record comparisons, 95.00% of records are in the exact match comparison level\", \"u_probability_description\": \"Amongst non-matching record comparisons, 0.05% of records are in the exact match comparison level\", \"has_tf_adjustments\": false, \"tf_adjustment_column\": null, \"tf_adjustment_weight\": 1.0, \"is_null_level\": false, \"bayes_factor\": 1959.0269083969465, \"log2_bayes_factor\": 10.935921498676072, \"comparison_vector_value\": 2, \"max_comparison_vector_value\": 2, \"bayes_factor_description\": \"If comparison level is `exact match` then comparison is 1,959.03 times more likely to be a match\", \"probability_two_random_records_match\": 1.6536297573864813e-07, \"comparison_sort_order\": 1}, {\"comparison_name\": \"last_name_12\", \"sql_condition\": \"jaro_winkler(`last_name_12_l`, `last_name_12_r`) >= 0.8333333333333334\", \"label_for_charts\": \"Jaro_winkler >= 0.8333333333333334\", \"m_probability\": 0.025000000000000022, \"u_probability\": 0.0012152157599232165, \"m_probability_description\": \"Amongst matching record comparisons, 2.50% of records are in the jaro_winkler >= 0.8333333333333334 comparison level\", \"u_probability_description\": \"Amongst non-matching record comparisons, 0.12% of records are in the jaro_winkler >= 0.8333333333333334 comparison level\", \"has_tf_adjustments\": false, \"tf_adjustment_column\": null, \"tf_adjustment_weight\": 1.0, \"is_null_level\": false, \"bayes_factor\": 20.572478422744986, \"log2_bayes_factor\": 4.362643704638061, \"comparison_vector_value\": 1, \"max_comparison_vector_value\": 2, \"bayes_factor_description\": \"If comparison level is `jaro_winkler >= 0.8333333333333334` then comparison is 20.57 times more likely to be a match\", \"probability_two_random_records_match\": 1.6536297573864813e-07, \"comparison_sort_order\": 1}, {\"comparison_name\": \"last_name_12\", \"sql_condition\": \"ELSE\", \"label_for_charts\": \"All other comparisons\", \"m_probability\": 0.025000000000000022, \"u_probability\": 0.9982998496044533, \"m_probability_description\": \"Amongst matching record comparisons, 2.50% of records are in the all other comparisons comparison level\", \"u_probability_description\": \"Amongst non-matching record comparisons, 99.83% of records are in the all other comparisons comparison level\", \"has_tf_adjustments\": false, \"tf_adjustment_column\": null, \"tf_adjustment_weight\": 1.0, \"is_null_level\": false, \"bayes_factor\": 0.02504257614573971, \"log2_bayes_factor\": -5.3194732089134344, \"comparison_vector_value\": 0, \"max_comparison_vector_value\": 2, \"bayes_factor_description\": \"If comparison level is `all other comparisons` then comparison is  39.93 times less likely to be a match\", \"probability_two_random_records_match\": 1.6536297573864813e-07, \"comparison_sort_order\": 1}, {\"comparison_name\": \"middle_initial\", \"sql_condition\": \"`middle_initial_l` = `middle_initial_r`\", \"label_for_charts\": \"Exact match\", \"m_probability\": 0.95, \"u_probability\": 0.06649740874668783, \"m_probability_description\": \"Amongst matching record comparisons, 95.00% of records are in the exact match comparison level\", \"u_probability_description\": \"Amongst non-matching record comparisons, 6.65% of records are in the exact match comparison level\", \"has_tf_adjustments\": false, \"tf_adjustment_column\": null, \"tf_adjustment_weight\": 1.0, \"is_null_level\": false, \"bayes_factor\": 14.286270967623508, \"log2_bayes_factor\": 3.836557485177879, \"comparison_vector_value\": 1, \"max_comparison_vector_value\": 1, \"bayes_factor_description\": \"If comparison level is `exact match` then comparison is 14.29 times more likely to be a match\", \"probability_two_random_records_match\": 1.6536297573864813e-07, \"comparison_sort_order\": 2}, {\"comparison_name\": \"middle_initial\", \"sql_condition\": \"ELSE\", \"label_for_charts\": \"All other comparisons\", \"m_probability\": 0.050000000000000044, \"u_probability\": 0.9335025912533121, \"m_probability_description\": \"Amongst matching record comparisons, 5.00% of records are in the all other comparisons comparison level\", \"u_probability_description\": \"Amongst non-matching record comparisons, 93.35% of records are in the all other comparisons comparison level\", \"has_tf_adjustments\": false, \"tf_adjustment_column\": null, \"tf_adjustment_weight\": 1.0, \"is_null_level\": false, \"bayes_factor\": 0.053561715273731055, \"log2_bayes_factor\": -4.222654027146832, \"comparison_vector_value\": 0, \"max_comparison_vector_value\": 1, \"bayes_factor_description\": \"If comparison level is `all other comparisons` then comparison is  18.67 times less likely to be a match\", \"probability_two_random_records_match\": 1.6536297573864813e-07, \"comparison_sort_order\": 2}, {\"comparison_name\": \"day_of_birth\", \"sql_condition\": \"`day_of_birth_l` = `day_of_birth_r`\", \"label_for_charts\": \"Exact match\", \"m_probability\": 0.95, \"u_probability\": 0.03263074146367179, \"m_probability_description\": \"Amongst matching record comparisons, 95.00% of records are in the exact match comparison level\", \"u_probability_description\": \"Amongst non-matching record comparisons, 3.26% of records are in the exact match comparison level\", \"has_tf_adjustments\": false, \"tf_adjustment_column\": null, \"tf_adjustment_weight\": 1.0, \"is_null_level\": false, \"bayes_factor\": 29.1136504224903, \"log2_bayes_factor\": 4.863623838375617, \"comparison_vector_value\": 2, \"max_comparison_vector_value\": 2, \"bayes_factor_description\": \"If comparison level is `exact match` then comparison is 29.11 times more likely to be a match\", \"probability_two_random_records_match\": 1.6536297573864813e-07, \"comparison_sort_order\": 3}, {\"comparison_name\": \"day_of_birth\", \"sql_condition\": \"abs(day_of_birth_l - day_of_birth_r) <= 5\", \"label_for_charts\": \"Inexact match\", \"m_probability\": 0.025000000000000022, \"u_probability\": 0.29448557752556886, \"m_probability_description\": \"Amongst matching record comparisons, 2.50% of records are in the inexact match comparison level\", \"u_probability_description\": \"Amongst non-matching record comparisons, 29.45% of records are in the inexact match comparison level\", \"has_tf_adjustments\": false, \"tf_adjustment_column\": null, \"tf_adjustment_weight\": 1.0, \"is_null_level\": false, \"bayes_factor\": 0.08489380094625987, \"log2_bayes_factor\": -3.5581969795842596, \"comparison_vector_value\": 1, \"max_comparison_vector_value\": 2, \"bayes_factor_description\": \"If comparison level is `inexact match` then comparison is  11.78 times less likely to be a match\", \"probability_two_random_records_match\": 1.6536297573864813e-07, \"comparison_sort_order\": 3}, {\"comparison_name\": \"day_of_birth\", \"sql_condition\": \"ELSE\", \"label_for_charts\": \"All other comparisons\", \"m_probability\": 0.025000000000000022, \"u_probability\": 0.6728836810107593, \"m_probability_description\": \"Amongst matching record comparisons, 2.50% of records are in the all other comparisons comparison level\", \"u_probability_description\": \"Amongst non-matching record comparisons, 67.29% of records are in the all other comparisons comparison level\", \"has_tf_adjustments\": false, \"tf_adjustment_column\": null, \"tf_adjustment_weight\": 1.0, \"is_null_level\": false, \"bayes_factor\": 0.03715352401242181, \"log2_bayes_factor\": -4.7503571328702066, \"comparison_vector_value\": 0, \"max_comparison_vector_value\": 2, \"bayes_factor_description\": \"If comparison level is `all other comparisons` then comparison is  26.92 times less likely to be a match\", \"probability_two_random_records_match\": 1.6536297573864813e-07, \"comparison_sort_order\": 3}, {\"comparison_name\": \"month_of_birth\", \"sql_condition\": \"`month_of_birth_l` = `month_of_birth_r`\", \"label_for_charts\": \"Exact match\", \"m_probability\": 0.95, \"u_probability\": 0.08335009639337561, \"m_probability_description\": \"Amongst matching record comparisons, 95.00% of records are in the exact match comparison level\", \"u_probability_description\": \"Amongst non-matching record comparisons, 8.34% of records are in the exact match comparison level\", \"has_tf_adjustments\": false, \"tf_adjustment_column\": null, \"tf_adjustment_weight\": 1.0, \"is_null_level\": false, \"bayes_factor\": 11.397707274583341, \"log2_bayes_factor\": 3.510671740658973, \"comparison_vector_value\": 2, \"max_comparison_vector_value\": 2, \"bayes_factor_description\": \"If comparison level is `exact match` then comparison is 11.40 times more likely to be a match\", \"probability_two_random_records_match\": 1.6536297573864813e-07, \"comparison_sort_order\": 4}, {\"comparison_name\": \"month_of_birth\", \"sql_condition\": \"abs(month_of_birth_l - month_of_birth_r) <= 3\", \"label_for_charts\": \"Inexact match\", \"m_probability\": 0.025000000000000022, \"u_probability\": 0.42042112968689377, \"m_probability_description\": \"Amongst matching record comparisons, 2.50% of records are in the inexact match comparison level\", \"u_probability_description\": \"Amongst non-matching record comparisons, 42.04% of records are in the inexact match comparison level\", \"has_tf_adjustments\": false, \"tf_adjustment_column\": null, \"tf_adjustment_weight\": 1.0, \"is_null_level\": false, \"bayes_factor\": 0.05946418539576883, \"log2_bayes_factor\": -4.071835178644652, \"comparison_vector_value\": 1, \"max_comparison_vector_value\": 2, \"bayes_factor_description\": \"If comparison level is `inexact match` then comparison is  16.82 times less likely to be a match\", \"probability_two_random_records_match\": 1.6536297573864813e-07, \"comparison_sort_order\": 4}, {\"comparison_name\": \"month_of_birth\", \"sql_condition\": \"ELSE\", \"label_for_charts\": \"All other comparisons\", \"m_probability\": 0.025000000000000022, \"u_probability\": 0.4962287739197306, \"m_probability_description\": \"Amongst matching record comparisons, 2.50% of records are in the all other comparisons comparison level\", \"u_probability_description\": \"Amongst non-matching record comparisons, 49.62% of records are in the all other comparisons comparison level\", \"has_tf_adjustments\": false, \"tf_adjustment_column\": null, \"tf_adjustment_weight\": 1.0, \"is_null_level\": false, \"bayes_factor\": 0.05037998865427339, \"log2_bayes_factor\": -4.311005392601843, \"comparison_vector_value\": 0, \"max_comparison_vector_value\": 2, \"bayes_factor_description\": \"If comparison level is `all other comparisons` then comparison is  19.85 times less likely to be a match\", \"probability_two_random_records_match\": 1.6536297573864813e-07, \"comparison_sort_order\": 4}, {\"comparison_name\": \"year_of_birth\", \"sql_condition\": \"`year_of_birth_l` = `year_of_birth_r`\", \"label_for_charts\": \"Exact match\", \"m_probability\": 0.95, \"u_probability\": 0.010907318543921298, \"m_probability_description\": \"Amongst matching record comparisons, 95.00% of records are in the exact match comparison level\", \"u_probability_description\": \"Amongst non-matching record comparisons, 1.09% of records are in the exact match comparison level\", \"has_tf_adjustments\": false, \"tf_adjustment_column\": null, \"tf_adjustment_weight\": 1.0, \"is_null_level\": false, \"bayes_factor\": 87.09748378344003, \"log2_bayes_factor\": 6.44455913534653, \"comparison_vector_value\": 2, \"max_comparison_vector_value\": 2, \"bayes_factor_description\": \"If comparison level is `exact match` then comparison is 87.10 times more likely to be a match\", \"probability_two_random_records_match\": 1.6536297573864813e-07, \"comparison_sort_order\": 5}, {\"comparison_name\": \"year_of_birth\", \"sql_condition\": \"abs(year_of_birth_l - year_of_birth_r) <= 5\", \"label_for_charts\": \"Inexact match\", \"m_probability\": 0.025000000000000022, \"u_probability\": 0.10780150502221279, \"m_probability_description\": \"Amongst matching record comparisons, 2.50% of records are in the inexact match comparison level\", \"u_probability_description\": \"Amongst non-matching record comparisons, 10.78% of records are in the inexact match comparison level\", \"has_tf_adjustments\": false, \"tf_adjustment_column\": null, \"tf_adjustment_weight\": 1.0, \"is_null_level\": false, \"bayes_factor\": 0.23190770847632142, \"log2_bayes_factor\": -2.108377319768766, \"comparison_vector_value\": 1, \"max_comparison_vector_value\": 2, \"bayes_factor_description\": \"If comparison level is `inexact match` then comparison is  4.31 times less likely to be a match\", \"probability_two_random_records_match\": 1.6536297573864813e-07, \"comparison_sort_order\": 5}, {\"comparison_name\": \"year_of_birth\", \"sql_condition\": \"ELSE\", \"label_for_charts\": \"All other comparisons\", \"m_probability\": 0.025000000000000022, \"u_probability\": 0.8812911764338659, \"m_probability_description\": \"Amongst matching record comparisons, 2.50% of records are in the all other comparisons comparison level\", \"u_probability_description\": \"Amongst non-matching record comparisons, 88.13% of records are in the all other comparisons comparison level\", \"has_tf_adjustments\": false, \"tf_adjustment_column\": null, \"tf_adjustment_weight\": 1.0, \"is_null_level\": false, \"bayes_factor\": 0.028367468855369934, \"log2_bayes_factor\": -5.139618760794971, \"comparison_vector_value\": 0, \"max_comparison_vector_value\": 2, \"bayes_factor_description\": \"If comparison level is `all other comparisons` then comparison is  35.25 times less likely to be a match\", \"probability_two_random_records_match\": 1.6536297573864813e-07, \"comparison_sort_order\": 5}, {\"comparison_name\": \"geokey\", \"sql_condition\": \"`geokey_l` = `geokey_r`\", \"label_for_charts\": \"Exact match\", \"m_probability\": 0.95, \"u_probability\": 0.000645503792157887, \"m_probability_description\": \"Amongst matching record comparisons, 95.00% of records are in the exact match comparison level\", \"u_probability_description\": \"Amongst non-matching record comparisons, 0.06% of records are in the exact match comparison level\", \"has_tf_adjustments\": false, \"tf_adjustment_column\": null, \"tf_adjustment_weight\": 1.0, \"is_null_level\": false, \"bayes_factor\": 1471.7186971500157, \"log2_bayes_factor\": 10.523286227110297, \"comparison_vector_value\": 2, \"max_comparison_vector_value\": 2, \"bayes_factor_description\": \"If comparison level is `exact match` then comparison is 1,471.72 times more likely to be a match\", \"probability_two_random_records_match\": 1.6536297573864813e-07, \"comparison_sort_order\": 6}, {\"comparison_name\": \"geokey\", \"sql_condition\": \"jaro_winkler(`geokey_l`, `geokey_r`) >= 0.7222222222222222\", \"label_for_charts\": \"Jaro_winkler >= 0.7222222222222222\", \"m_probability\": 0.025000000000000022, \"u_probability\": 0.02044314350845159, \"m_probability_description\": \"Amongst matching record comparisons, 2.50% of records are in the jaro_winkler >= 0.7222222222222222 comparison level\", \"u_probability_description\": \"Amongst non-matching record comparisons, 2.04% of records are in the jaro_winkler >= 0.7222222222222222 comparison level\", \"has_tf_adjustments\": false, \"tf_adjustment_column\": null, \"tf_adjustment_weight\": 1.0, \"is_null_level\": false, \"bayes_factor\": 1.22290390368118, \"log2_bayes_factor\": 0.2903110407176534, \"comparison_vector_value\": 1, \"max_comparison_vector_value\": 2, \"bayes_factor_description\": \"If comparison level is `jaro_winkler >= 0.7222222222222222` then comparison is 1.22 times more likely to be a match\", \"probability_two_random_records_match\": 1.6536297573864813e-07, \"comparison_sort_order\": 6}, {\"comparison_name\": \"geokey\", \"sql_condition\": \"ELSE\", \"label_for_charts\": \"All other comparisons\", \"m_probability\": 0.025000000000000022, \"u_probability\": 0.9789113526993906, \"m_probability_description\": \"Amongst matching record comparisons, 2.50% of records are in the all other comparisons comparison level\", \"u_probability_description\": \"Amongst non-matching record comparisons, 97.89% of records are in the all other comparisons comparison level\", \"has_tf_adjustments\": false, \"tf_adjustment_column\": null, \"tf_adjustment_weight\": 1.0, \"is_null_level\": false, \"bayes_factor\": 0.025538573979208064, \"log2_bayes_factor\": -5.291178219572056, \"comparison_vector_value\": 0, \"max_comparison_vector_value\": 2, \"bayes_factor_description\": \"If comparison level is `all other comparisons` then comparison is  39.16 times less likely to be a match\", \"probability_two_random_records_match\": 1.6536297573864813e-07, \"comparison_sort_order\": 6}]}}, {\"mode\": \"vega-lite\"});\n",
       "</script>"
      ],
      "text/plain": [
       "alt.HConcatChart(...)"
      ]
     },
     "execution_count": 55,
     "metadata": {},
     "output_type": "execute_result"
    }
   ],
   "source": [
    "# Ignore the green bars on the left, these are the m probabilities that haven't been estimated yet\n",
    "linker.m_u_parameters_chart()"
   ]
  },
  {
   "cell_type": "markdown",
   "id": "2f66f6a2-28de-41a1-8c99-e8bda2dfb3e4",
   "metadata": {
    "papermill": {
     "duration": 0.041966,
     "end_time": "2024-02-13T00:19:59.620538",
     "exception": false,
     "start_time": "2024-02-13T00:19:59.578572",
     "status": "completed"
    },
    "tags": []
   },
   "source": [
    "#### Estimate m probabilities\n",
    "\n",
    "The EM algorithm implemented in Splink can be used to estimate all the parameters at once.\n",
    "However, I've found this to be extremely unstable, and the lambda and u estimates I've made\n",
    "above much better than what happens when I allow EM to mess with them.\n",
    "\n",
    "These EM session blocking rules are the result of **lots** of trial and error.\n",
    "I consistently had problems with the EM algorithm deciding that first names\n",
    "were completely wrong (\"All other comparisons\") almost as often as they were\n",
    "right.\n",
    "I can think of two reasons this might be happening:\n",
    "- The EM algorithm is just looking for two coherent clusters, and the assumption is that these\n",
    "  clusters correspond to matches and non-matches.\n",
    "  But in real life, and in our simulated data, matches and non-matches are not homogenous.\n",
    "  In particular, people who are in the same family live together and tend to share a last name,\n",
    "  and this could have been the cluster EM was finding instead of finding the exact same person.\n",
    "- Conditional independence is grossly violated by some of our columns, especially the address parts\n",
    "  and the DOB parts. This could be causing some pathological behavior.\n",
    "\n",
    "Using the EM approach below, I have at least obtained reasonable-looking m and u probabilities."
   ]
  },
  {
   "cell_type": "code",
   "execution_count": 56,
   "id": "d117b633-fc81-4fe6-ba1d-2d9d5a6e1b32",
   "metadata": {
    "execution": {
     "iopub.execute_input": "2024-02-13T00:19:59.701214Z",
     "iopub.status.busy": "2024-02-13T00:19:59.700815Z",
     "iopub.status.idle": "2024-02-13T00:20:58.404928Z",
     "shell.execute_reply": "2024-02-13T00:20:58.404165Z"
    },
    "papermill": {
     "duration": 58.749076,
     "end_time": "2024-02-13T00:20:58.406760",
     "exception": false,
     "start_time": "2024-02-13T00:19:59.657684",
     "status": "completed"
    },
    "tags": []
   },
   "outputs": [
    {
     "name": "stderr",
     "output_type": "stream",
     "text": [
      "\n",
      "----- Starting EM training session -----\n",
      "\n",
      "Estimating the m probabilities of the model by blocking on:\n",
      "l.first_name_15 = r.first_name_15 and l.zipcode = r.zipcode\n",
      "\n",
      "Parameter estimates will be made for the following comparison(s):\n",
      "    - last_name_12\n",
      "    - middle_initial\n",
      "    - day_of_birth\n",
      "    - month_of_birth\n",
      "    - year_of_birth\n",
      "    - geokey\n",
      "\n",
      "Parameter estimates cannot be made for the following comparison(s) since they are used in the blocking rules: \n",
      "    - first_name_15\n",
      "24/02/13 00:20:27 WARN DataSource: All paths were ignored:                      \n",
      "  file:/ihme/scratch/users/zmbc/person_linkage_case_study/person_linkage_case_study/ri/tmpCheckpoints/c28977bd-b2cf-4869-832b-cd0cdb995234/__splink__df_comparison_vectors_568b88705\n",
      "\n",
      "Iteration 1: Largest change in params was 0.428 in the m_probability of geokey, level `Jaro_winkler >= 0.7222222222222222`\n",
      "Iteration 2: Largest change in params was 0.0161 in the m_probability of geokey, level `Jaro_winkler >= 0.7222222222222222`\n",
      "Iteration 3: Largest change in params was -0.000328 in the m_probability of last_name_12, level `Exact match`\n",
      "Iteration 4: Largest change in params was 3.88e-05 in the m_probability of day_of_birth, level `Exact match`\n",
      "\n",
      "EM converged after 4 iterations\n",
      "\n",
      "Your model is not yet fully trained. Missing estimates for:\n",
      "    - first_name_15 (no m values are trained).\n"
     ]
    }
   ],
   "source": [
    "blocking_rule_for_training = \"l.first_name_15 = r.first_name_15 and l.zipcode = r.zipcode\"\n",
    "em_session_1 = linker.estimate_parameters_using_expectation_maximisation(\n",
    "    blocking_rule_for_training,\n",
    "    # Fix lambda; u is fixed by default\n",
    "    fix_probability_two_random_records_match=True,\n",
    ")"
   ]
  },
  {
   "cell_type": "code",
   "execution_count": 57,
   "id": "7cc3f56f-eb87-4673-bcc4-fe2269e54db3",
   "metadata": {
    "execution": {
     "iopub.execute_input": "2024-02-13T00:20:58.480522Z",
     "iopub.status.busy": "2024-02-13T00:20:58.479807Z",
     "iopub.status.idle": "2024-02-13T00:20:59.843075Z",
     "shell.execute_reply": "2024-02-13T00:20:59.842335Z"
    },
    "papermill": {
     "duration": 1.402965,
     "end_time": "2024-02-13T00:20:59.844954",
     "exception": false,
     "start_time": "2024-02-13T00:20:58.441989",
     "status": "completed"
    },
    "tags": []
   },
   "outputs": [
    {
     "data": {
      "text/html": [
       "\n",
       "<style>\n",
       "  #altair-viz-9aa96c9325ed41a5a00accc0d6faf5ea.vega-embed {\n",
       "    width: 100%;\n",
       "    display: flex;\n",
       "  }\n",
       "\n",
       "  #altair-viz-9aa96c9325ed41a5a00accc0d6faf5ea.vega-embed details,\n",
       "  #altair-viz-9aa96c9325ed41a5a00accc0d6faf5ea.vega-embed details summary {\n",
       "    position: relative;\n",
       "  }\n",
       "</style>\n",
       "<div id=\"altair-viz-9aa96c9325ed41a5a00accc0d6faf5ea\"></div>\n",
       "<script type=\"text/javascript\">\n",
       "  var VEGA_DEBUG = (typeof VEGA_DEBUG == \"undefined\") ? {} : VEGA_DEBUG;\n",
       "  (function(spec, embedOpt){\n",
       "    let outputDiv = document.currentScript.previousElementSibling;\n",
       "    if (outputDiv.id !== \"altair-viz-9aa96c9325ed41a5a00accc0d6faf5ea\") {\n",
       "      outputDiv = document.getElementById(\"altair-viz-9aa96c9325ed41a5a00accc0d6faf5ea\");\n",
       "    }\n",
       "    const paths = {\n",
       "      \"vega\": \"https://cdn.jsdelivr.net/npm/vega@5?noext\",\n",
       "      \"vega-lib\": \"https://cdn.jsdelivr.net/npm/vega-lib?noext\",\n",
       "      \"vega-lite\": \"https://cdn.jsdelivr.net/npm/vega-lite@5.15.1?noext\",\n",
       "      \"vega-embed\": \"https://cdn.jsdelivr.net/npm/vega-embed@6?noext\",\n",
       "    };\n",
       "\n",
       "    function maybeLoadScript(lib, version) {\n",
       "      var key = `${lib.replace(\"-\", \"\")}_version`;\n",
       "      return (VEGA_DEBUG[key] == version) ?\n",
       "        Promise.resolve(paths[lib]) :\n",
       "        new Promise(function(resolve, reject) {\n",
       "          var s = document.createElement('script');\n",
       "          document.getElementsByTagName(\"head\")[0].appendChild(s);\n",
       "          s.async = true;\n",
       "          s.onload = () => {\n",
       "            VEGA_DEBUG[key] = version;\n",
       "            return resolve(paths[lib]);\n",
       "          };\n",
       "          s.onerror = () => reject(`Error loading script: ${paths[lib]}`);\n",
       "          s.src = paths[lib];\n",
       "        });\n",
       "    }\n",
       "\n",
       "    function showError(err) {\n",
       "      outputDiv.innerHTML = `<div class=\"error\" style=\"color:red;\">${err}</div>`;\n",
       "      throw err;\n",
       "    }\n",
       "\n",
       "    function displayChart(vegaEmbed) {\n",
       "      vegaEmbed(outputDiv, spec, embedOpt)\n",
       "        .catch(err => showError(`Javascript Error: ${err.message}<br>This usually means there's a typo in your chart specification. See the javascript console for the full traceback.`));\n",
       "    }\n",
       "\n",
       "    if(typeof define === \"function\" && define.amd) {\n",
       "      requirejs.config({paths});\n",
       "      require([\"vega-embed\"], displayChart, err => showError(`Error loading script: ${err.message}`));\n",
       "    } else {\n",
       "      maybeLoadScript(\"vega\", \"5\")\n",
       "        .then(() => maybeLoadScript(\"vega-lite\", \"5.15.1\"))\n",
       "        .then(() => maybeLoadScript(\"vega-embed\", \"6\"))\n",
       "        .catch(showError)\n",
       "        .then(() => displayChart(vegaEmbed));\n",
       "    }\n",
       "  })({\"config\": {\"view\": {\"continuousWidth\": 300, \"continuousHeight\": 300, \"discreteHeight\": 300, \"discreteWidth\": 400}, \"header\": {\"title\": null}, \"title\": {\"anchor\": \"middle\", \"offset\": 10}}, \"hconcat\": [{\"mark\": \"bar\", \"encoding\": {\"color\": {\"value\": \"green\"}, \"row\": {\"field\": \"comparison_name\", \"header\": {\"labelAlign\": \"left\", \"labelAnchor\": \"middle\", \"labelAngle\": 0}, \"sort\": {\"field\": \"comparison_sort_order\"}, \"type\": \"nominal\"}, \"tooltip\": [{\"field\": \"m_probability_description\", \"title\": \"m probability description\", \"type\": \"nominal\"}, {\"field\": \"comparison_name\", \"title\": \"Comparison column name\", \"type\": \"nominal\"}, {\"field\": \"label_for_charts\", \"title\": \"Label\", \"type\": \"ordinal\"}, {\"field\": \"sql_condition\", \"title\": \"SQL condition\", \"type\": \"nominal\"}, {\"field\": \"m_probability\", \"format\": \".4p\", \"title\": \"m probability\", \"type\": \"quantitative\"}, {\"field\": \"u_probability\", \"format\": \".4p\", \"title\": \"u probability\", \"type\": \"quantitative\"}, {\"field\": \"bayes_factor\", \"format\": \",.4f\", \"title\": \"Bayes factor = m/u\", \"type\": \"quantitative\"}, {\"field\": \"log2_bayes_factor\", \"format\": \",.4f\", \"title\": \"Match weight = log2(m/u)\", \"type\": \"quantitative\"}], \"x\": {\"axis\": {\"title\": \"Proportion of record comparisons\"}, \"field\": \"m_probability\", \"type\": \"quantitative\"}, \"y\": {\"axis\": {\"title\": null}, \"field\": \"label_for_charts\", \"sort\": {\"field\": \"comparison_vector_value\", \"order\": \"descending\"}, \"type\": \"nominal\"}}, \"height\": {\"step\": 12}, \"resolve\": {\"scale\": {\"y\": \"independent\"}}, \"title\": {\"text\": \"Amongst matching record comparisons:\", \"fontSize\": 12, \"fontWeight\": \"bold\"}, \"transform\": [{\"filter\": \"(datum.bayes_factor != 'no-op filter due to vega lite issue 4680')\"}], \"width\": 150}, {\"mark\": \"bar\", \"encoding\": {\"color\": {\"value\": \"red\"}, \"row\": {\"field\": \"comparison_name\", \"header\": {\"labels\": false}, \"sort\": {\"field\": \"comparison_sort_order\"}, \"type\": \"nominal\"}, \"tooltip\": [{\"field\": \"u_probability_description\", \"title\": \"u probability description\", \"type\": \"nominal\"}, {\"field\": \"comparison_name\", \"title\": \"Comparison column name\", \"type\": \"nominal\"}, {\"field\": \"label_for_charts\", \"title\": \"Label\", \"type\": \"ordinal\"}, {\"field\": \"sql_condition\", \"title\": \"SQL condition\", \"type\": \"nominal\"}, {\"field\": \"m_probability\", \"format\": \".4p\", \"title\": \"m probability\", \"type\": \"quantitative\"}, {\"field\": \"u_probability\", \"format\": \".4p\", \"title\": \"u probability\", \"type\": \"quantitative\"}, {\"field\": \"bayes_factor\", \"format\": \",.4f\", \"title\": \"Bayes factor = m/u\", \"type\": \"quantitative\"}, {\"field\": \"log2_bayes_factor\", \"format\": \",.4f\", \"title\": \"Match weight = log2(m/u)\", \"type\": \"quantitative\"}], \"x\": {\"axis\": {\"title\": \"Proportion of record comparisons\"}, \"field\": \"u_probability\", \"type\": \"quantitative\"}, \"y\": {\"axis\": {\"title\": null}, \"field\": \"label_for_charts\", \"sort\": {\"field\": \"comparison_vector_value\", \"order\": \"descending\"}, \"type\": \"nominal\"}}, \"height\": {\"step\": 12}, \"resolve\": {\"scale\": {\"y\": \"independent\"}}, \"title\": {\"text\": \"Amongst non-matching record comparisons:\", \"fontSize\": 12, \"fontWeight\": \"bold\"}, \"transform\": [{\"filter\": \"(datum.bayes_factor != 'no-op filter2 due to vega lite issue 4680')\"}], \"width\": 150}], \"data\": {\"name\": \"data-333b4b10a08aed576f37a367f543e8f4\"}, \"params\": [{\"name\": \"iteration_number\", \"bind\": {\"input\": \"range\", \"max\": 4, \"min\": 0, \"step\": 1}, \"value\": 4}], \"title\": {\"text\": \"Proportion of record comparisons in each comparison level by match status\", \"subtitle\": \"(m and u probabilities)\"}, \"transform\": [{\"filter\": \"(datum.iteration == iteration_number)\"}], \"$schema\": \"https://vega.github.io/schema/vega-lite/v5.9.3.json\", \"datasets\": {\"data-333b4b10a08aed576f37a367f543e8f4\": [{\"comparison_name\": \"last_name_12\", \"sql_condition\": \"`last_name_12_l` = `last_name_12_r`\", \"label_for_charts\": \"Exact match\", \"m_probability\": 0.95, \"u_probability\": 0.0004849346356234464, \"m_probability_description\": \"Amongst matching record comparisons, 95.00% of records are in the exact match comparison level\", \"u_probability_description\": \"Amongst non-matching record comparisons, 0.05% of records are in the exact match comparison level\", \"has_tf_adjustments\": false, \"tf_adjustment_column\": null, \"tf_adjustment_weight\": 1.0, \"is_null_level\": false, \"bayes_factor\": 1959.0269083969465, \"log2_bayes_factor\": 10.935921498676072, \"comparison_vector_value\": 2, \"max_comparison_vector_value\": 2, \"bayes_factor_description\": \"If comparison level is `exact match` then comparison is 1,959.03 times more likely to be a match\", \"probability_two_random_records_match\": 8.787431577975032e-05, \"comparison_sort_order\": 0, \"iteration\": 0}, {\"comparison_name\": \"last_name_12\", \"sql_condition\": \"jaro_winkler(`last_name_12_l`, `last_name_12_r`) >= 0.8333333333333334\", \"label_for_charts\": \"Jaro_winkler >= 0.8333333333333334\", \"m_probability\": 0.025000000000000022, \"u_probability\": 0.0012152157599232165, \"m_probability_description\": \"Amongst matching record comparisons, 2.50% of records are in the jaro_winkler >= 0.8333333333333334 comparison level\", \"u_probability_description\": \"Amongst non-matching record comparisons, 0.12% of records are in the jaro_winkler >= 0.8333333333333334 comparison level\", \"has_tf_adjustments\": false, \"tf_adjustment_column\": null, \"tf_adjustment_weight\": 1.0, \"is_null_level\": false, \"bayes_factor\": 20.572478422744986, \"log2_bayes_factor\": 4.362643704638061, \"comparison_vector_value\": 1, \"max_comparison_vector_value\": 2, \"bayes_factor_description\": \"If comparison level is `jaro_winkler >= 0.8333333333333334` then comparison is 20.57 times more likely to be a match\", \"probability_two_random_records_match\": 8.787431577975032e-05, \"comparison_sort_order\": 0, \"iteration\": 0}, {\"comparison_name\": \"last_name_12\", \"sql_condition\": \"ELSE\", \"label_for_charts\": \"All other comparisons\", \"m_probability\": 0.025000000000000022, \"u_probability\": 0.9982998496044533, \"m_probability_description\": \"Amongst matching record comparisons, 2.50% of records are in the all other comparisons comparison level\", \"u_probability_description\": \"Amongst non-matching record comparisons, 99.83% of records are in the all other comparisons comparison level\", \"has_tf_adjustments\": false, \"tf_adjustment_column\": null, \"tf_adjustment_weight\": 1.0, \"is_null_level\": false, \"bayes_factor\": 0.02504257614573971, \"log2_bayes_factor\": -5.3194732089134344, \"comparison_vector_value\": 0, \"max_comparison_vector_value\": 2, \"bayes_factor_description\": \"If comparison level is `all other comparisons` then comparison is  39.93 times less likely to be a match\", \"probability_two_random_records_match\": 8.787431577975032e-05, \"comparison_sort_order\": 0, \"iteration\": 0}, {\"comparison_name\": \"middle_initial\", \"sql_condition\": \"`middle_initial_l` = `middle_initial_r`\", \"label_for_charts\": \"Exact match\", \"m_probability\": 0.95, \"u_probability\": 0.06649740874668783, \"m_probability_description\": \"Amongst matching record comparisons, 95.00% of records are in the exact match comparison level\", \"u_probability_description\": \"Amongst non-matching record comparisons, 6.65% of records are in the exact match comparison level\", \"has_tf_adjustments\": false, \"tf_adjustment_column\": null, \"tf_adjustment_weight\": 1.0, \"is_null_level\": false, \"bayes_factor\": 14.286270967623508, \"log2_bayes_factor\": 3.836557485177879, \"comparison_vector_value\": 1, \"max_comparison_vector_value\": 1, \"bayes_factor_description\": \"If comparison level is `exact match` then comparison is 14.29 times more likely to be a match\", \"probability_two_random_records_match\": 8.787431577975032e-05, \"comparison_sort_order\": 1, \"iteration\": 0}, {\"comparison_name\": \"middle_initial\", \"sql_condition\": \"ELSE\", \"label_for_charts\": \"All other comparisons\", \"m_probability\": 0.050000000000000044, \"u_probability\": 0.9335025912533121, \"m_probability_description\": \"Amongst matching record comparisons, 5.00% of records are in the all other comparisons comparison level\", \"u_probability_description\": \"Amongst non-matching record comparisons, 93.35% of records are in the all other comparisons comparison level\", \"has_tf_adjustments\": false, \"tf_adjustment_column\": null, \"tf_adjustment_weight\": 1.0, \"is_null_level\": false, \"bayes_factor\": 0.053561715273731055, \"log2_bayes_factor\": -4.222654027146832, \"comparison_vector_value\": 0, \"max_comparison_vector_value\": 1, \"bayes_factor_description\": \"If comparison level is `all other comparisons` then comparison is  18.67 times less likely to be a match\", \"probability_two_random_records_match\": 8.787431577975032e-05, \"comparison_sort_order\": 1, \"iteration\": 0}, {\"comparison_name\": \"day_of_birth\", \"sql_condition\": \"`day_of_birth_l` = `day_of_birth_r`\", \"label_for_charts\": \"Exact match\", \"m_probability\": 0.95, \"u_probability\": 0.03263074146367179, \"m_probability_description\": \"Amongst matching record comparisons, 95.00% of records are in the exact match comparison level\", \"u_probability_description\": \"Amongst non-matching record comparisons, 3.26% of records are in the exact match comparison level\", \"has_tf_adjustments\": false, \"tf_adjustment_column\": null, \"tf_adjustment_weight\": 1.0, \"is_null_level\": false, \"bayes_factor\": 29.1136504224903, \"log2_bayes_factor\": 4.863623838375617, \"comparison_vector_value\": 2, \"max_comparison_vector_value\": 2, \"bayes_factor_description\": \"If comparison level is `exact match` then comparison is 29.11 times more likely to be a match\", \"probability_two_random_records_match\": 8.787431577975032e-05, \"comparison_sort_order\": 2, \"iteration\": 0}, {\"comparison_name\": \"day_of_birth\", \"sql_condition\": \"abs(day_of_birth_l - day_of_birth_r) <= 5\", \"label_for_charts\": \"Inexact match\", \"m_probability\": 0.025000000000000022, \"u_probability\": 0.29448557752556886, \"m_probability_description\": \"Amongst matching record comparisons, 2.50% of records are in the inexact match comparison level\", \"u_probability_description\": \"Amongst non-matching record comparisons, 29.45% of records are in the inexact match comparison level\", \"has_tf_adjustments\": false, \"tf_adjustment_column\": null, \"tf_adjustment_weight\": 1.0, \"is_null_level\": false, \"bayes_factor\": 0.08489380094625987, \"log2_bayes_factor\": -3.5581969795842596, \"comparison_vector_value\": 1, \"max_comparison_vector_value\": 2, \"bayes_factor_description\": \"If comparison level is `inexact match` then comparison is  11.78 times less likely to be a match\", \"probability_two_random_records_match\": 8.787431577975032e-05, \"comparison_sort_order\": 2, \"iteration\": 0}, {\"comparison_name\": \"day_of_birth\", \"sql_condition\": \"ELSE\", \"label_for_charts\": \"All other comparisons\", \"m_probability\": 0.025000000000000022, \"u_probability\": 0.6728836810107593, \"m_probability_description\": \"Amongst matching record comparisons, 2.50% of records are in the all other comparisons comparison level\", \"u_probability_description\": \"Amongst non-matching record comparisons, 67.29% of records are in the all other comparisons comparison level\", \"has_tf_adjustments\": false, \"tf_adjustment_column\": null, \"tf_adjustment_weight\": 1.0, \"is_null_level\": false, \"bayes_factor\": 0.03715352401242181, \"log2_bayes_factor\": -4.7503571328702066, \"comparison_vector_value\": 0, \"max_comparison_vector_value\": 2, \"bayes_factor_description\": \"If comparison level is `all other comparisons` then comparison is  26.92 times less likely to be a match\", \"probability_two_random_records_match\": 8.787431577975032e-05, \"comparison_sort_order\": 2, \"iteration\": 0}, {\"comparison_name\": \"month_of_birth\", \"sql_condition\": \"`month_of_birth_l` = `month_of_birth_r`\", \"label_for_charts\": \"Exact match\", \"m_probability\": 0.95, \"u_probability\": 0.08335009639337561, \"m_probability_description\": \"Amongst matching record comparisons, 95.00% of records are in the exact match comparison level\", \"u_probability_description\": \"Amongst non-matching record comparisons, 8.34% of records are in the exact match comparison level\", \"has_tf_adjustments\": false, \"tf_adjustment_column\": null, \"tf_adjustment_weight\": 1.0, \"is_null_level\": false, \"bayes_factor\": 11.397707274583341, \"log2_bayes_factor\": 3.510671740658973, \"comparison_vector_value\": 2, \"max_comparison_vector_value\": 2, \"bayes_factor_description\": \"If comparison level is `exact match` then comparison is 11.40 times more likely to be a match\", \"probability_two_random_records_match\": 8.787431577975032e-05, \"comparison_sort_order\": 3, \"iteration\": 0}, {\"comparison_name\": \"month_of_birth\", \"sql_condition\": \"abs(month_of_birth_l - month_of_birth_r) <= 3\", \"label_for_charts\": \"Inexact match\", \"m_probability\": 0.025000000000000022, \"u_probability\": 0.42042112968689377, \"m_probability_description\": \"Amongst matching record comparisons, 2.50% of records are in the inexact match comparison level\", \"u_probability_description\": \"Amongst non-matching record comparisons, 42.04% of records are in the inexact match comparison level\", \"has_tf_adjustments\": false, \"tf_adjustment_column\": null, \"tf_adjustment_weight\": 1.0, \"is_null_level\": false, \"bayes_factor\": 0.05946418539576883, \"log2_bayes_factor\": -4.071835178644652, \"comparison_vector_value\": 1, \"max_comparison_vector_value\": 2, \"bayes_factor_description\": \"If comparison level is `inexact match` then comparison is  16.82 times less likely to be a match\", \"probability_two_random_records_match\": 8.787431577975032e-05, \"comparison_sort_order\": 3, \"iteration\": 0}, {\"comparison_name\": \"month_of_birth\", \"sql_condition\": \"ELSE\", \"label_for_charts\": \"All other comparisons\", \"m_probability\": 0.025000000000000022, \"u_probability\": 0.4962287739197306, \"m_probability_description\": \"Amongst matching record comparisons, 2.50% of records are in the all other comparisons comparison level\", \"u_probability_description\": \"Amongst non-matching record comparisons, 49.62% of records are in the all other comparisons comparison level\", \"has_tf_adjustments\": false, \"tf_adjustment_column\": null, \"tf_adjustment_weight\": 1.0, \"is_null_level\": false, \"bayes_factor\": 0.05037998865427339, \"log2_bayes_factor\": -4.311005392601843, \"comparison_vector_value\": 0, \"max_comparison_vector_value\": 2, \"bayes_factor_description\": \"If comparison level is `all other comparisons` then comparison is  19.85 times less likely to be a match\", \"probability_two_random_records_match\": 8.787431577975032e-05, \"comparison_sort_order\": 3, \"iteration\": 0}, {\"comparison_name\": \"year_of_birth\", \"sql_condition\": \"`year_of_birth_l` = `year_of_birth_r`\", \"label_for_charts\": \"Exact match\", \"m_probability\": 0.95, \"u_probability\": 0.010907318543921298, \"m_probability_description\": \"Amongst matching record comparisons, 95.00% of records are in the exact match comparison level\", \"u_probability_description\": \"Amongst non-matching record comparisons, 1.09% of records are in the exact match comparison level\", \"has_tf_adjustments\": false, \"tf_adjustment_column\": null, \"tf_adjustment_weight\": 1.0, \"is_null_level\": false, \"bayes_factor\": 87.09748378344003, \"log2_bayes_factor\": 6.44455913534653, \"comparison_vector_value\": 2, \"max_comparison_vector_value\": 2, \"bayes_factor_description\": \"If comparison level is `exact match` then comparison is 87.10 times more likely to be a match\", \"probability_two_random_records_match\": 8.787431577975032e-05, \"comparison_sort_order\": 4, \"iteration\": 0}, {\"comparison_name\": \"year_of_birth\", \"sql_condition\": \"abs(year_of_birth_l - year_of_birth_r) <= 5\", \"label_for_charts\": \"Inexact match\", \"m_probability\": 0.025000000000000022, \"u_probability\": 0.10780150502221279, \"m_probability_description\": \"Amongst matching record comparisons, 2.50% of records are in the inexact match comparison level\", \"u_probability_description\": \"Amongst non-matching record comparisons, 10.78% of records are in the inexact match comparison level\", \"has_tf_adjustments\": false, \"tf_adjustment_column\": null, \"tf_adjustment_weight\": 1.0, \"is_null_level\": false, \"bayes_factor\": 0.23190770847632142, \"log2_bayes_factor\": -2.108377319768766, \"comparison_vector_value\": 1, \"max_comparison_vector_value\": 2, \"bayes_factor_description\": \"If comparison level is `inexact match` then comparison is  4.31 times less likely to be a match\", \"probability_two_random_records_match\": 8.787431577975032e-05, \"comparison_sort_order\": 4, \"iteration\": 0}, {\"comparison_name\": \"year_of_birth\", \"sql_condition\": \"ELSE\", \"label_for_charts\": \"All other comparisons\", \"m_probability\": 0.025000000000000022, \"u_probability\": 0.8812911764338659, \"m_probability_description\": \"Amongst matching record comparisons, 2.50% of records are in the all other comparisons comparison level\", \"u_probability_description\": \"Amongst non-matching record comparisons, 88.13% of records are in the all other comparisons comparison level\", \"has_tf_adjustments\": false, \"tf_adjustment_column\": null, \"tf_adjustment_weight\": 1.0, \"is_null_level\": false, \"bayes_factor\": 0.028367468855369934, \"log2_bayes_factor\": -5.139618760794971, \"comparison_vector_value\": 0, \"max_comparison_vector_value\": 2, \"bayes_factor_description\": \"If comparison level is `all other comparisons` then comparison is  35.25 times less likely to be a match\", \"probability_two_random_records_match\": 8.787431577975032e-05, \"comparison_sort_order\": 4, \"iteration\": 0}, {\"comparison_name\": \"geokey\", \"sql_condition\": \"`geokey_l` = `geokey_r`\", \"label_for_charts\": \"Exact match\", \"m_probability\": 0.95, \"u_probability\": 0.000645503792157887, \"m_probability_description\": \"Amongst matching record comparisons, 95.00% of records are in the exact match comparison level\", \"u_probability_description\": \"Amongst non-matching record comparisons, 0.06% of records are in the exact match comparison level\", \"has_tf_adjustments\": false, \"tf_adjustment_column\": null, \"tf_adjustment_weight\": 1.0, \"is_null_level\": false, \"bayes_factor\": 1471.7186971500157, \"log2_bayes_factor\": 10.523286227110297, \"comparison_vector_value\": 2, \"max_comparison_vector_value\": 2, \"bayes_factor_description\": \"If comparison level is `exact match` then comparison is 1,471.72 times more likely to be a match\", \"probability_two_random_records_match\": 8.787431577975032e-05, \"comparison_sort_order\": 5, \"iteration\": 0}, {\"comparison_name\": \"geokey\", \"sql_condition\": \"jaro_winkler(`geokey_l`, `geokey_r`) >= 0.7222222222222222\", \"label_for_charts\": \"Jaro_winkler >= 0.7222222222222222\", \"m_probability\": 0.025000000000000022, \"u_probability\": 0.02044314350845159, \"m_probability_description\": \"Amongst matching record comparisons, 2.50% of records are in the jaro_winkler >= 0.7222222222222222 comparison level\", \"u_probability_description\": \"Amongst non-matching record comparisons, 2.04% of records are in the jaro_winkler >= 0.7222222222222222 comparison level\", \"has_tf_adjustments\": false, \"tf_adjustment_column\": null, \"tf_adjustment_weight\": 1.0, \"is_null_level\": false, \"bayes_factor\": 1.22290390368118, \"log2_bayes_factor\": 0.2903110407176534, \"comparison_vector_value\": 1, \"max_comparison_vector_value\": 2, \"bayes_factor_description\": \"If comparison level is `jaro_winkler >= 0.7222222222222222` then comparison is 1.22 times more likely to be a match\", \"probability_two_random_records_match\": 8.787431577975032e-05, \"comparison_sort_order\": 5, \"iteration\": 0}, {\"comparison_name\": \"geokey\", \"sql_condition\": \"ELSE\", \"label_for_charts\": \"All other comparisons\", \"m_probability\": 0.025000000000000022, \"u_probability\": 0.9789113526993906, \"m_probability_description\": \"Amongst matching record comparisons, 2.50% of records are in the all other comparisons comparison level\", \"u_probability_description\": \"Amongst non-matching record comparisons, 97.89% of records are in the all other comparisons comparison level\", \"has_tf_adjustments\": false, \"tf_adjustment_column\": null, \"tf_adjustment_weight\": 1.0, \"is_null_level\": false, \"bayes_factor\": 0.025538573979208064, \"log2_bayes_factor\": -5.291178219572056, \"comparison_vector_value\": 0, \"max_comparison_vector_value\": 2, \"bayes_factor_description\": \"If comparison level is `all other comparisons` then comparison is  39.16 times less likely to be a match\", \"probability_two_random_records_match\": 8.787431577975032e-05, \"comparison_sort_order\": 5, \"iteration\": 0}, {\"comparison_name\": \"last_name_12\", \"sql_condition\": \"`last_name_12_l` = `last_name_12_r`\", \"label_for_charts\": \"Exact match\", \"m_probability\": 0.8914704372046858, \"u_probability\": 0.0004849346356234464, \"m_probability_description\": \"Amongst matching record comparisons, 89.15% of records are in the exact match comparison level\", \"u_probability_description\": \"Amongst non-matching record comparisons, 0.05% of records are in the exact match comparison level\", \"has_tf_adjustments\": false, \"tf_adjustment_column\": null, \"tf_adjustment_weight\": 1.0, \"is_null_level\": false, \"bayes_factor\": 1838.331131078284, \"log2_bayes_factor\": 10.844180941461483, \"comparison_vector_value\": 2, \"max_comparison_vector_value\": 2, \"bayes_factor_description\": \"If comparison level is `exact match` then comparison is 1,838.33 times more likely to be a match\", \"probability_two_random_records_match\": 8.787431577975032e-05, \"comparison_sort_order\": 0, \"iteration\": 1}, {\"comparison_name\": \"last_name_12\", \"sql_condition\": \"jaro_winkler(`last_name_12_l`, `last_name_12_r`) >= 0.8333333333333334\", \"label_for_charts\": \"Jaro_winkler >= 0.8333333333333334\", \"m_probability\": 0.08554462137097925, \"u_probability\": 0.0012152157599232165, \"m_probability_description\": \"Amongst matching record comparisons, 8.55% of records are in the jaro_winkler >= 0.8333333333333334 comparison level\", \"u_probability_description\": \"Amongst non-matching record comparisons, 0.12% of records are in the jaro_winkler >= 0.8333333333333334 comparison level\", \"has_tf_adjustments\": false, \"tf_adjustment_column\": null, \"tf_adjustment_weight\": 1.0, \"is_null_level\": false, \"bayes_factor\": 70.39459509345434, \"log2_bayes_factor\": 6.137392757681557, \"comparison_vector_value\": 1, \"max_comparison_vector_value\": 2, \"bayes_factor_description\": \"If comparison level is `jaro_winkler >= 0.8333333333333334` then comparison is 70.39 times more likely to be a match\", \"probability_two_random_records_match\": 8.787431577975032e-05, \"comparison_sort_order\": 0, \"iteration\": 1}, {\"comparison_name\": \"last_name_12\", \"sql_condition\": \"ELSE\", \"label_for_charts\": \"All other comparisons\", \"m_probability\": 0.022984941424334954, \"u_probability\": 0.9982998496044533, \"m_probability_description\": \"Amongst matching record comparisons, 2.30% of records are in the all other comparisons comparison level\", \"u_probability_description\": \"Amongst non-matching record comparisons, 99.83% of records are in the all other comparisons comparison level\", \"has_tf_adjustments\": false, \"tf_adjustment_column\": null, \"tf_adjustment_weight\": 1.0, \"is_null_level\": false, \"bayes_factor\": 0.02302408583297098, \"log2_bayes_factor\": -5.4407123142581835, \"comparison_vector_value\": 0, \"max_comparison_vector_value\": 2, \"bayes_factor_description\": \"If comparison level is `all other comparisons` then comparison is  43.43 times less likely to be a match\", \"probability_two_random_records_match\": 8.787431577975032e-05, \"comparison_sort_order\": 0, \"iteration\": 1}, {\"comparison_name\": \"middle_initial\", \"sql_condition\": \"`middle_initial_l` = `middle_initial_r`\", \"label_for_charts\": \"Exact match\", \"m_probability\": 0.9427981805139869, \"u_probability\": 0.06649740874668783, \"m_probability_description\": \"Amongst matching record comparisons, 94.28% of records are in the exact match comparison level\", \"u_probability_description\": \"Amongst non-matching record comparisons, 6.65% of records are in the exact match comparison level\", \"has_tf_adjustments\": false, \"tf_adjustment_column\": null, \"tf_adjustment_weight\": 1.0, \"is_null_level\": false, \"bayes_factor\": 14.177968710110779, \"log2_bayes_factor\": 3.825578946098805, \"comparison_vector_value\": 1, \"max_comparison_vector_value\": 1, \"bayes_factor_description\": \"If comparison level is `exact match` then comparison is 14.18 times more likely to be a match\", \"probability_two_random_records_match\": 8.787431577975032e-05, \"comparison_sort_order\": 1, \"iteration\": 1}, {\"comparison_name\": \"middle_initial\", \"sql_condition\": \"ELSE\", \"label_for_charts\": \"All other comparisons\", \"m_probability\": 0.05720181948601319, \"u_probability\": 0.9335025912533121, \"m_probability_description\": \"Amongst matching record comparisons, 5.72% of records are in the all other comparisons comparison level\", \"u_probability_description\": \"Amongst non-matching record comparisons, 93.35% of records are in the all other comparisons comparison level\", \"has_tf_adjustments\": false, \"tf_adjustment_column\": null, \"tf_adjustment_weight\": 1.0, \"is_null_level\": false, \"bayes_factor\": 0.061276551368983925, \"log2_bayes_factor\": -4.028521084791018, \"comparison_vector_value\": 0, \"max_comparison_vector_value\": 1, \"bayes_factor_description\": \"If comparison level is `all other comparisons` then comparison is  16.32 times less likely to be a match\", \"probability_two_random_records_match\": 8.787431577975032e-05, \"comparison_sort_order\": 1, \"iteration\": 1}, {\"comparison_name\": \"day_of_birth\", \"sql_condition\": \"`day_of_birth_l` = `day_of_birth_r`\", \"label_for_charts\": \"Exact match\", \"m_probability\": 0.9769597422595675, \"u_probability\": 0.03263074146367179, \"m_probability_description\": \"Amongst matching record comparisons, 97.70% of records are in the exact match comparison level\", \"u_probability_description\": \"Amongst non-matching record comparisons, 3.26% of records are in the exact match comparison level\", \"has_tf_adjustments\": false, \"tf_adjustment_column\": null, \"tf_adjustment_weight\": 1.0, \"is_null_level\": false, \"bayes_factor\": 29.939857276832917, \"log2_bayes_factor\": 4.903995438979211, \"comparison_vector_value\": 2, \"max_comparison_vector_value\": 2, \"bayes_factor_description\": \"If comparison level is `exact match` then comparison is 29.94 times more likely to be a match\", \"probability_two_random_records_match\": 8.787431577975032e-05, \"comparison_sort_order\": 2, \"iteration\": 1}, {\"comparison_name\": \"day_of_birth\", \"sql_condition\": \"abs(day_of_birth_l - day_of_birth_r) <= 5\", \"label_for_charts\": \"Inexact match\", \"m_probability\": 0.014177270145417874, \"u_probability\": 0.29448557752556886, \"m_probability_description\": \"Amongst matching record comparisons, 1.42% of records are in the inexact match comparison level\", \"u_probability_description\": \"Amongst non-matching record comparisons, 29.45% of records are in the inexact match comparison level\", \"has_tf_adjustments\": false, \"tf_adjustment_column\": null, \"tf_adjustment_weight\": 1.0, \"is_null_level\": false, \"bayes_factor\": 0.04814249398745827, \"log2_bayes_factor\": -4.376545308241938, \"comparison_vector_value\": 1, \"max_comparison_vector_value\": 2, \"bayes_factor_description\": \"If comparison level is `inexact match` then comparison is  20.77 times less likely to be a match\", \"probability_two_random_records_match\": 8.787431577975032e-05, \"comparison_sort_order\": 2, \"iteration\": 1}, {\"comparison_name\": \"day_of_birth\", \"sql_condition\": \"ELSE\", \"label_for_charts\": \"All other comparisons\", \"m_probability\": 0.008862987595014641, \"u_probability\": 0.6728836810107593, \"m_probability_description\": \"Amongst matching record comparisons, 0.89% of records are in the all other comparisons comparison level\", \"u_probability_description\": \"Amongst non-matching record comparisons, 67.29% of records are in the all other comparisons comparison level\", \"has_tf_adjustments\": false, \"tf_adjustment_column\": null, \"tf_adjustment_weight\": 1.0, \"is_null_level\": false, \"bayes_factor\": 0.01317164889732691, \"log2_bayes_factor\": -6.246420228607684, \"comparison_vector_value\": 0, \"max_comparison_vector_value\": 2, \"bayes_factor_description\": \"If comparison level is `all other comparisons` then comparison is  75.92 times less likely to be a match\", \"probability_two_random_records_match\": 8.787431577975032e-05, \"comparison_sort_order\": 2, \"iteration\": 1}, {\"comparison_name\": \"month_of_birth\", \"sql_condition\": \"`month_of_birth_l` = `month_of_birth_r`\", \"label_for_charts\": \"Exact match\", \"m_probability\": 0.9822170357951128, \"u_probability\": 0.08335009639337561, \"m_probability_description\": \"Amongst matching record comparisons, 98.22% of records are in the exact match comparison level\", \"u_probability_description\": \"Amongst non-matching record comparisons, 8.34% of records are in the exact match comparison level\", \"has_tf_adjustments\": false, \"tf_adjustment_column\": null, \"tf_adjustment_weight\": 1.0, \"is_null_level\": false, \"bayes_factor\": 11.784233951685941, \"log2_bayes_factor\": 3.5587860723957156, \"comparison_vector_value\": 2, \"max_comparison_vector_value\": 2, \"bayes_factor_description\": \"If comparison level is `exact match` then comparison is 11.78 times more likely to be a match\", \"probability_two_random_records_match\": 8.787431577975032e-05, \"comparison_sort_order\": 3, \"iteration\": 1}, {\"comparison_name\": \"month_of_birth\", \"sql_condition\": \"abs(month_of_birth_l - month_of_birth_r) <= 3\", \"label_for_charts\": \"Inexact match\", \"m_probability\": 0.009721400409830711, \"u_probability\": 0.42042112968689377, \"m_probability_description\": \"Amongst matching record comparisons, 0.97% of records are in the inexact match comparison level\", \"u_probability_description\": \"Amongst non-matching record comparisons, 42.04% of records are in the inexact match comparison level\", \"has_tf_adjustments\": false, \"tf_adjustment_column\": null, \"tf_adjustment_weight\": 1.0, \"is_null_level\": false, \"bayes_factor\": 0.02312300625106704, \"log2_bayes_factor\": -5.434527213149034, \"comparison_vector_value\": 1, \"max_comparison_vector_value\": 2, \"bayes_factor_description\": \"If comparison level is `inexact match` then comparison is  43.25 times less likely to be a match\", \"probability_two_random_records_match\": 8.787431577975032e-05, \"comparison_sort_order\": 3, \"iteration\": 1}, {\"comparison_name\": \"month_of_birth\", \"sql_condition\": \"ELSE\", \"label_for_charts\": \"All other comparisons\", \"m_probability\": 0.008061563795056416, \"u_probability\": 0.4962287739197306, \"m_probability_description\": \"Amongst matching record comparisons, 0.81% of records are in the all other comparisons comparison level\", \"u_probability_description\": \"Amongst non-matching record comparisons, 49.62% of records are in the all other comparisons comparison level\", \"has_tf_adjustments\": false, \"tf_adjustment_column\": null, \"tf_adjustment_weight\": 1.0, \"is_null_level\": false, \"bayes_factor\": 0.01624565970122572, \"log2_bayes_factor\": -5.943801860181669, \"comparison_vector_value\": 0, \"max_comparison_vector_value\": 2, \"bayes_factor_description\": \"If comparison level is `all other comparisons` then comparison is  61.55 times less likely to be a match\", \"probability_two_random_records_match\": 8.787431577975032e-05, \"comparison_sort_order\": 3, \"iteration\": 1}, {\"comparison_name\": \"year_of_birth\", \"sql_condition\": \"`year_of_birth_l` = `year_of_birth_r`\", \"label_for_charts\": \"Exact match\", \"m_probability\": 0.9691897384519748, \"u_probability\": 0.010907318543921298, \"m_probability_description\": \"Amongst matching record comparisons, 96.92% of records are in the exact match comparison level\", \"u_probability_description\": \"Amongst non-matching record comparisons, 1.09% of records are in the exact match comparison level\", \"has_tf_adjustments\": false, \"tf_adjustment_column\": null, \"tf_adjustment_weight\": 1.0, \"is_null_level\": false, \"bayes_factor\": 88.85682897673406, \"log2_bayes_factor\": 6.473410751864698, \"comparison_vector_value\": 2, \"max_comparison_vector_value\": 2, \"bayes_factor_description\": \"If comparison level is `exact match` then comparison is 88.86 times more likely to be a match\", \"probability_two_random_records_match\": 8.787431577975032e-05, \"comparison_sort_order\": 4, \"iteration\": 1}, {\"comparison_name\": \"year_of_birth\", \"sql_condition\": \"abs(year_of_birth_l - year_of_birth_r) <= 5\", \"label_for_charts\": \"Inexact match\", \"m_probability\": 0.010205813535017752, \"u_probability\": 0.10780150502221279, \"m_probability_description\": \"Amongst matching record comparisons, 1.02% of records are in the inexact match comparison level\", \"u_probability_description\": \"Amongst non-matching record comparisons, 10.78% of records are in the inexact match comparison level\", \"has_tf_adjustments\": false, \"tf_adjustment_column\": null, \"tf_adjustment_weight\": 1.0, \"is_null_level\": false, \"bayes_factor\": 0.0946722732017036, \"log2_bayes_factor\": -3.400914226292786, \"comparison_vector_value\": 1, \"max_comparison_vector_value\": 2, \"bayes_factor_description\": \"If comparison level is `inexact match` then comparison is  10.56 times less likely to be a match\", \"probability_two_random_records_match\": 8.787431577975032e-05, \"comparison_sort_order\": 4, \"iteration\": 1}, {\"comparison_name\": \"year_of_birth\", \"sql_condition\": \"ELSE\", \"label_for_charts\": \"All other comparisons\", \"m_probability\": 0.020604448013007592, \"u_probability\": 0.8812911764338659, \"m_probability_description\": \"Amongst matching record comparisons, 2.06% of records are in the all other comparisons comparison level\", \"u_probability_description\": \"Amongst non-matching record comparisons, 88.13% of records are in the all other comparisons comparison level\", \"has_tf_adjustments\": false, \"tf_adjustment_column\": null, \"tf_adjustment_weight\": 1.0, \"is_null_level\": false, \"bayes_factor\": 0.023379841491643252, \"log2_bayes_factor\": -5.418591040914369, \"comparison_vector_value\": 0, \"max_comparison_vector_value\": 2, \"bayes_factor_description\": \"If comparison level is `all other comparisons` then comparison is  42.77 times less likely to be a match\", \"probability_two_random_records_match\": 8.787431577975032e-05, \"comparison_sort_order\": 4, \"iteration\": 1}, {\"comparison_name\": \"geokey\", \"sql_condition\": \"`geokey_l` = `geokey_r`\", \"label_for_charts\": \"Exact match\", \"m_probability\": 0.5401613654402956, \"u_probability\": 0.000645503792157887, \"m_probability_description\": \"Amongst matching record comparisons, 54.02% of records are in the exact match comparison level\", \"u_probability_description\": \"Amongst non-matching record comparisons, 0.06% of records are in the exact match comparison level\", \"has_tf_adjustments\": false, \"tf_adjustment_column\": null, \"tf_adjustment_weight\": 1.0, \"is_null_level\": false, \"bayes_factor\": 836.8058747332267, \"log2_bayes_factor\": 9.708749169728057, \"comparison_vector_value\": 2, \"max_comparison_vector_value\": 2, \"bayes_factor_description\": \"If comparison level is `exact match` then comparison is 836.81 times more likely to be a match\", \"probability_two_random_records_match\": 8.787431577975032e-05, \"comparison_sort_order\": 5, \"iteration\": 1}, {\"comparison_name\": \"geokey\", \"sql_condition\": \"jaro_winkler(`geokey_l`, `geokey_r`) >= 0.7222222222222222\", \"label_for_charts\": \"Jaro_winkler >= 0.7222222222222222\", \"m_probability\": 0.45320976905928834, \"u_probability\": 0.02044314350845159, \"m_probability_description\": \"Amongst matching record comparisons, 45.32% of records are in the jaro_winkler >= 0.7222222222222222 comparison level\", \"u_probability_description\": \"Amongst non-matching record comparisons, 2.04% of records are in the jaro_winkler >= 0.7222222222222222 comparison level\", \"has_tf_adjustments\": false, \"tf_adjustment_column\": null, \"tf_adjustment_weight\": 1.0, \"is_null_level\": false, \"bayes_factor\": 22.16927983076197, \"log2_bayes_factor\": 4.470489999893492, \"comparison_vector_value\": 1, \"max_comparison_vector_value\": 2, \"bayes_factor_description\": \"If comparison level is `jaro_winkler >= 0.7222222222222222` then comparison is 22.17 times more likely to be a match\", \"probability_two_random_records_match\": 8.787431577975032e-05, \"comparison_sort_order\": 5, \"iteration\": 1}, {\"comparison_name\": \"geokey\", \"sql_condition\": \"ELSE\", \"label_for_charts\": \"All other comparisons\", \"m_probability\": 0.006628865500416114, \"u_probability\": 0.9789113526993906, \"m_probability_description\": \"Amongst matching record comparisons, 0.66% of records are in the all other comparisons comparison level\", \"u_probability_description\": \"Amongst non-matching record comparisons, 97.89% of records are in the all other comparisons comparison level\", \"has_tf_adjustments\": false, \"tf_adjustment_column\": null, \"tf_adjustment_weight\": 1.0, \"is_null_level\": false, \"bayes_factor\": 0.006771670879223875, \"log2_bayes_factor\": -7.20627242844716, \"comparison_vector_value\": 0, \"max_comparison_vector_value\": 2, \"bayes_factor_description\": \"If comparison level is `all other comparisons` then comparison is  147.67 times less likely to be a match\", \"probability_two_random_records_match\": 8.787431577975032e-05, \"comparison_sort_order\": 5, \"iteration\": 1}, {\"comparison_name\": \"last_name_12\", \"sql_condition\": \"`last_name_12_l` = `last_name_12_r`\", \"label_for_charts\": \"Exact match\", \"m_probability\": 0.8852586066553771, \"u_probability\": 0.0004849346356234464, \"m_probability_description\": \"Amongst matching record comparisons, 88.53% of records are in the exact match comparison level\", \"u_probability_description\": \"Amongst non-matching record comparisons, 0.05% of records are in the exact match comparison level\", \"has_tf_adjustments\": false, \"tf_adjustment_column\": null, \"tf_adjustment_weight\": 1.0, \"is_null_level\": false, \"bayes_factor\": 1825.521506660918, \"log2_bayes_factor\": 10.834092950077055, \"comparison_vector_value\": 2, \"max_comparison_vector_value\": 2, \"bayes_factor_description\": \"If comparison level is `exact match` then comparison is 1,825.52 times more likely to be a match\", \"probability_two_random_records_match\": 8.787431577975032e-05, \"comparison_sort_order\": 0, \"iteration\": 2}, {\"comparison_name\": \"last_name_12\", \"sql_condition\": \"jaro_winkler(`last_name_12_l`, `last_name_12_r`) >= 0.8333333333333334\", \"label_for_charts\": \"Jaro_winkler >= 0.8333333333333334\", \"m_probability\": 0.08845664291832596, \"u_probability\": 0.0012152157599232165, \"m_probability_description\": \"Amongst matching record comparisons, 8.85% of records are in the jaro_winkler >= 0.8333333333333334 comparison level\", \"u_probability_description\": \"Amongst non-matching record comparisons, 0.12% of records are in the jaro_winkler >= 0.8333333333333334 comparison level\", \"has_tf_adjustments\": false, \"tf_adjustment_column\": null, \"tf_adjustment_weight\": 1.0, \"is_null_level\": false, \"bayes_factor\": 72.79089511142868, \"log2_bayes_factor\": 6.185686100269125, \"comparison_vector_value\": 1, \"max_comparison_vector_value\": 2, \"bayes_factor_description\": \"If comparison level is `jaro_winkler >= 0.8333333333333334` then comparison is 72.79 times more likely to be a match\", \"probability_two_random_records_match\": 8.787431577975032e-05, \"comparison_sort_order\": 0, \"iteration\": 2}, {\"comparison_name\": \"last_name_12\", \"sql_condition\": \"ELSE\", \"label_for_charts\": \"All other comparisons\", \"m_probability\": 0.026284750426296886, \"u_probability\": 0.9982998496044533, \"m_probability_description\": \"Amongst matching record comparisons, 2.63% of records are in the all other comparisons comparison level\", \"u_probability_description\": \"Amongst non-matching record comparisons, 99.83% of records are in the all other comparisons comparison level\", \"has_tf_adjustments\": false, \"tf_adjustment_column\": null, \"tf_adjustment_weight\": 1.0, \"is_null_level\": false, \"bayes_factor\": 0.02632951456089214, \"log2_bayes_factor\": -5.24717526721527, \"comparison_vector_value\": 0, \"max_comparison_vector_value\": 2, \"bayes_factor_description\": \"If comparison level is `all other comparisons` then comparison is  37.98 times less likely to be a match\", \"probability_two_random_records_match\": 8.787431577975032e-05, \"comparison_sort_order\": 0, \"iteration\": 2}, {\"comparison_name\": \"middle_initial\", \"sql_condition\": \"`middle_initial_l` = `middle_initial_r`\", \"label_for_charts\": \"Exact match\", \"m_probability\": 0.9422763825113708, \"u_probability\": 0.06649740874668783, \"m_probability_description\": \"Amongst matching record comparisons, 94.23% of records are in the exact match comparison level\", \"u_probability_description\": \"Amongst non-matching record comparisons, 6.65% of records are in the exact match comparison level\", \"has_tf_adjustments\": false, \"tf_adjustment_column\": null, \"tf_adjustment_weight\": 1.0, \"is_null_level\": false, \"bayes_factor\": 14.170121817841581, \"log2_bayes_factor\": 3.8247802557714174, \"comparison_vector_value\": 1, \"max_comparison_vector_value\": 1, \"bayes_factor_description\": \"If comparison level is `exact match` then comparison is 14.17 times more likely to be a match\", \"probability_two_random_records_match\": 8.787431577975032e-05, \"comparison_sort_order\": 1, \"iteration\": 2}, {\"comparison_name\": \"middle_initial\", \"sql_condition\": \"ELSE\", \"label_for_charts\": \"All other comparisons\", \"m_probability\": 0.05772361748862917, \"u_probability\": 0.9335025912533121, \"m_probability_description\": \"Amongst matching record comparisons, 5.77% of records are in the all other comparisons comparison level\", \"u_probability_description\": \"Amongst non-matching record comparisons, 93.35% of records are in the all other comparisons comparison level\", \"has_tf_adjustments\": false, \"tf_adjustment_column\": null, \"tf_adjustment_weight\": 1.0, \"is_null_level\": false, \"bayes_factor\": 0.061835519289914306, \"log2_bayes_factor\": -4.015420406935345, \"comparison_vector_value\": 0, \"max_comparison_vector_value\": 1, \"bayes_factor_description\": \"If comparison level is `all other comparisons` then comparison is  16.17 times less likely to be a match\", \"probability_two_random_records_match\": 8.787431577975032e-05, \"comparison_sort_order\": 1, \"iteration\": 2}, {\"comparison_name\": \"day_of_birth\", \"sql_condition\": \"`day_of_birth_l` = `day_of_birth_r`\", \"label_for_charts\": \"Exact match\", \"m_probability\": 0.978350411594729, \"u_probability\": 0.03263074146367179, \"m_probability_description\": \"Amongst matching record comparisons, 97.84% of records are in the exact match comparison level\", \"u_probability_description\": \"Amongst non-matching record comparisons, 3.26% of records are in the exact match comparison level\", \"has_tf_adjustments\": false, \"tf_adjustment_column\": null, \"tf_adjustment_weight\": 1.0, \"is_null_level\": false, \"bayes_factor\": 29.98247565670362, \"log2_bayes_factor\": 4.9060476065984435, \"comparison_vector_value\": 2, \"max_comparison_vector_value\": 2, \"bayes_factor_description\": \"If comparison level is `exact match` then comparison is 29.98 times more likely to be a match\", \"probability_two_random_records_match\": 8.787431577975032e-05, \"comparison_sort_order\": 2, \"iteration\": 2}, {\"comparison_name\": \"day_of_birth\", \"sql_condition\": \"abs(day_of_birth_l - day_of_birth_r) <= 5\", \"label_for_charts\": \"Inexact match\", \"m_probability\": 0.014108107246981074, \"u_probability\": 0.29448557752556886, \"m_probability_description\": \"Amongst matching record comparisons, 1.41% of records are in the inexact match comparison level\", \"u_probability_description\": \"Amongst non-matching record comparisons, 29.45% of records are in the inexact match comparison level\", \"has_tf_adjustments\": false, \"tf_adjustment_column\": null, \"tf_adjustment_weight\": 1.0, \"is_null_level\": false, \"bayes_factor\": 0.04790763393414786, \"log2_bayes_factor\": -4.383600626476898, \"comparison_vector_value\": 1, \"max_comparison_vector_value\": 2, \"bayes_factor_description\": \"If comparison level is `inexact match` then comparison is  20.87 times less likely to be a match\", \"probability_two_random_records_match\": 8.787431577975032e-05, \"comparison_sort_order\": 2, \"iteration\": 2}, {\"comparison_name\": \"day_of_birth\", \"sql_condition\": \"ELSE\", \"label_for_charts\": \"All other comparisons\", \"m_probability\": 0.007541481158290034, \"u_probability\": 0.6728836810107593, \"m_probability_description\": \"Amongst matching record comparisons, 0.75% of records are in the all other comparisons comparison level\", \"u_probability_description\": \"Amongst non-matching record comparisons, 67.29% of records are in the all other comparisons comparison level\", \"has_tf_adjustments\": false, \"tf_adjustment_column\": null, \"tf_adjustment_weight\": 1.0, \"is_null_level\": false, \"bayes_factor\": 0.011207704052150205, \"log2_bayes_factor\": -6.479365423837355, \"comparison_vector_value\": 0, \"max_comparison_vector_value\": 2, \"bayes_factor_description\": \"If comparison level is `all other comparisons` then comparison is  89.22 times less likely to be a match\", \"probability_two_random_records_match\": 8.787431577975032e-05, \"comparison_sort_order\": 2, \"iteration\": 2}, {\"comparison_name\": \"month_of_birth\", \"sql_condition\": \"`month_of_birth_l` = `month_of_birth_r`\", \"label_for_charts\": \"Exact match\", \"m_probability\": 0.9837356652287408, \"u_probability\": 0.08335009639337561, \"m_probability_description\": \"Amongst matching record comparisons, 98.37% of records are in the exact match comparison level\", \"u_probability_description\": \"Amongst non-matching record comparisons, 8.34% of records are in the exact match comparison level\", \"has_tf_adjustments\": false, \"tf_adjustment_column\": null, \"tf_adjustment_weight\": 1.0, \"is_null_level\": false, \"bayes_factor\": 11.802453839836529, \"log2_bayes_factor\": 3.5610149353663028, \"comparison_vector_value\": 2, \"max_comparison_vector_value\": 2, \"bayes_factor_description\": \"If comparison level is `exact match` then comparison is 11.80 times more likely to be a match\", \"probability_two_random_records_match\": 8.787431577975032e-05, \"comparison_sort_order\": 3, \"iteration\": 2}, {\"comparison_name\": \"month_of_birth\", \"sql_condition\": \"abs(month_of_birth_l - month_of_birth_r) <= 3\", \"label_for_charts\": \"Inexact match\", \"m_probability\": 0.009140171797583193, \"u_probability\": 0.42042112968689377, \"m_probability_description\": \"Amongst matching record comparisons, 0.91% of records are in the inexact match comparison level\", \"u_probability_description\": \"Amongst non-matching record comparisons, 42.04% of records are in the inexact match comparison level\", \"has_tf_adjustments\": false, \"tf_adjustment_column\": null, \"tf_adjustment_weight\": 1.0, \"is_null_level\": false, \"bayes_factor\": 0.021740514812826565, \"log2_bayes_factor\": -5.5234700861566015, \"comparison_vector_value\": 1, \"max_comparison_vector_value\": 2, \"bayes_factor_description\": \"If comparison level is `inexact match` then comparison is  46.00 times less likely to be a match\", \"probability_two_random_records_match\": 8.787431577975032e-05, \"comparison_sort_order\": 3, \"iteration\": 2}, {\"comparison_name\": \"month_of_birth\", \"sql_condition\": \"ELSE\", \"label_for_charts\": \"All other comparisons\", \"m_probability\": 0.007124162973676109, \"u_probability\": 0.4962287739197306, \"m_probability_description\": \"Amongst matching record comparisons, 0.71% of records are in the all other comparisons comparison level\", \"u_probability_description\": \"Amongst non-matching record comparisons, 49.62% of records are in the all other comparisons comparison level\", \"has_tf_adjustments\": false, \"tf_adjustment_column\": null, \"tf_adjustment_weight\": 1.0, \"is_null_level\": false, \"bayes_factor\": 0.014356609991399866, \"log2_bayes_factor\": -6.122141062199677, \"comparison_vector_value\": 0, \"max_comparison_vector_value\": 2, \"bayes_factor_description\": \"If comparison level is `all other comparisons` then comparison is  69.65 times less likely to be a match\", \"probability_two_random_records_match\": 8.787431577975032e-05, \"comparison_sort_order\": 3, \"iteration\": 2}, {\"comparison_name\": \"year_of_birth\", \"sql_condition\": \"`year_of_birth_l` = `year_of_birth_r`\", \"label_for_charts\": \"Exact match\", \"m_probability\": 0.970039118275932, \"u_probability\": 0.010907318543921298, \"m_probability_description\": \"Amongst matching record comparisons, 97.00% of records are in the exact match comparison level\", \"u_probability_description\": \"Amongst non-matching record comparisons, 1.09% of records are in the exact match comparison level\", \"has_tf_adjustments\": false, \"tf_adjustment_column\": null, \"tf_adjustment_weight\": 1.0, \"is_null_level\": false, \"bayes_factor\": 88.93470144562154, \"log2_bayes_factor\": 6.474674549207609, \"comparison_vector_value\": 2, \"max_comparison_vector_value\": 2, \"bayes_factor_description\": \"If comparison level is `exact match` then comparison is 88.93 times more likely to be a match\", \"probability_two_random_records_match\": 8.787431577975032e-05, \"comparison_sort_order\": 4, \"iteration\": 2}, {\"comparison_name\": \"year_of_birth\", \"sql_condition\": \"abs(year_of_birth_l - year_of_birth_r) <= 5\", \"label_for_charts\": \"Inexact match\", \"m_probability\": 0.009513275594578636, \"u_probability\": 0.10780150502221279, \"m_probability_description\": \"Amongst matching record comparisons, 0.95% of records are in the inexact match comparison level\", \"u_probability_description\": \"Amongst non-matching record comparisons, 10.78% of records are in the inexact match comparison level\", \"has_tf_adjustments\": false, \"tf_adjustment_column\": null, \"tf_adjustment_weight\": 1.0, \"is_null_level\": false, \"bayes_factor\": 0.08824807772969774, \"log2_bayes_factor\": -3.5022913366604405, \"comparison_vector_value\": 1, \"max_comparison_vector_value\": 2, \"bayes_factor_description\": \"If comparison level is `inexact match` then comparison is  11.33 times less likely to be a match\", \"probability_two_random_records_match\": 8.787431577975032e-05, \"comparison_sort_order\": 4, \"iteration\": 2}, {\"comparison_name\": \"year_of_birth\", \"sql_condition\": \"ELSE\", \"label_for_charts\": \"All other comparisons\", \"m_probability\": 0.02044760612948927, \"u_probability\": 0.8812911764338659, \"m_probability_description\": \"Amongst matching record comparisons, 2.04% of records are in the all other comparisons comparison level\", \"u_probability_description\": \"Amongst non-matching record comparisons, 88.13% of records are in the all other comparisons comparison level\", \"has_tf_adjustments\": false, \"tf_adjustment_column\": null, \"tf_adjustment_weight\": 1.0, \"is_null_level\": false, \"bayes_factor\": 0.02320187320180631, \"log2_bayes_factor\": -5.429614903824369, \"comparison_vector_value\": 0, \"max_comparison_vector_value\": 2, \"bayes_factor_description\": \"If comparison level is `all other comparisons` then comparison is  43.10 times less likely to be a match\", \"probability_two_random_records_match\": 8.787431577975032e-05, \"comparison_sort_order\": 4, \"iteration\": 2}, {\"comparison_name\": \"geokey\", \"sql_condition\": \"`geokey_l` = `geokey_r`\", \"label_for_charts\": \"Exact match\", \"m_probability\": 0.5245428443968823, \"u_probability\": 0.000645503792157887, \"m_probability_description\": \"Amongst matching record comparisons, 52.45% of records are in the exact match comparison level\", \"u_probability_description\": \"Amongst non-matching record comparisons, 0.06% of records are in the exact match comparison level\", \"has_tf_adjustments\": false, \"tf_adjustment_column\": null, \"tf_adjustment_weight\": 1.0, \"is_null_level\": false, \"bayes_factor\": 812.6100121633084, \"log2_bayes_factor\": 9.666419329890573, \"comparison_vector_value\": 2, \"max_comparison_vector_value\": 2, \"bayes_factor_description\": \"If comparison level is `exact match` then comparison is 812.61 times more likely to be a match\", \"probability_two_random_records_match\": 8.787431577975032e-05, \"comparison_sort_order\": 5, \"iteration\": 2}, {\"comparison_name\": \"geokey\", \"sql_condition\": \"jaro_winkler(`geokey_l`, `geokey_r`) >= 0.7222222222222222\", \"label_for_charts\": \"Jaro_winkler >= 0.7222222222222222\", \"m_probability\": 0.46926970376758936, \"u_probability\": 0.02044314350845159, \"m_probability_description\": \"Amongst matching record comparisons, 46.93% of records are in the jaro_winkler >= 0.7222222222222222 comparison level\", \"u_probability_description\": \"Amongst non-matching record comparisons, 2.04% of records are in the jaro_winkler >= 0.7222222222222222 comparison level\", \"has_tf_adjustments\": false, \"tf_adjustment_column\": null, \"tf_adjustment_weight\": 1.0, \"is_null_level\": false, \"bayes_factor\": 22.954870104667815, \"log2_bayes_factor\": 4.5207283631440545, \"comparison_vector_value\": 1, \"max_comparison_vector_value\": 2, \"bayes_factor_description\": \"If comparison level is `jaro_winkler >= 0.7222222222222222` then comparison is 22.95 times more likely to be a match\", \"probability_two_random_records_match\": 8.787431577975032e-05, \"comparison_sort_order\": 5, \"iteration\": 2}, {\"comparison_name\": \"geokey\", \"sql_condition\": \"ELSE\", \"label_for_charts\": \"All other comparisons\", \"m_probability\": 0.006187451835528332, \"u_probability\": 0.9789113526993906, \"m_probability_description\": \"Amongst matching record comparisons, 0.62% of records are in the all other comparisons comparison level\", \"u_probability_description\": \"Amongst non-matching record comparisons, 97.89% of records are in the all other comparisons comparison level\", \"has_tf_adjustments\": false, \"tf_adjustment_column\": null, \"tf_adjustment_weight\": 1.0, \"is_null_level\": false, \"bayes_factor\": 0.006320747857777076, \"log2_bayes_factor\": -7.305689019475636, \"comparison_vector_value\": 0, \"max_comparison_vector_value\": 2, \"bayes_factor_description\": \"If comparison level is `all other comparisons` then comparison is  158.21 times less likely to be a match\", \"probability_two_random_records_match\": 8.787431577975032e-05, \"comparison_sort_order\": 5, \"iteration\": 2}, {\"comparison_name\": \"last_name_12\", \"sql_condition\": \"`last_name_12_l` = `last_name_12_r`\", \"label_for_charts\": \"Exact match\", \"m_probability\": 0.884930979224685, \"u_probability\": 0.0004849346356234464, \"m_probability_description\": \"Amongst matching record comparisons, 88.49% of records are in the exact match comparison level\", \"u_probability_description\": \"Amongst non-matching record comparisons, 0.05% of records are in the exact match comparison level\", \"has_tf_adjustments\": false, \"tf_adjustment_column\": null, \"tf_adjustment_weight\": 1.0, \"is_null_level\": false, \"bayes_factor\": 1824.8458951318075, \"log2_bayes_factor\": 10.833558920864945, \"comparison_vector_value\": 2, \"max_comparison_vector_value\": 2, \"bayes_factor_description\": \"If comparison level is `exact match` then comparison is 1,824.85 times more likely to be a match\", \"probability_two_random_records_match\": 8.787431577975032e-05, \"comparison_sort_order\": 0, \"iteration\": 3}, {\"comparison_name\": \"last_name_12\", \"sql_condition\": \"jaro_winkler(`last_name_12_l`, `last_name_12_r`) >= 0.8333333333333334\", \"label_for_charts\": \"Jaro_winkler >= 0.8333333333333334\", \"m_probability\": 0.08851003793181007, \"u_probability\": 0.0012152157599232165, \"m_probability_description\": \"Amongst matching record comparisons, 8.85% of records are in the jaro_winkler >= 0.8333333333333334 comparison level\", \"u_probability_description\": \"Amongst non-matching record comparisons, 0.12% of records are in the jaro_winkler >= 0.8333333333333334 comparison level\", \"has_tf_adjustments\": false, \"tf_adjustment_column\": null, \"tf_adjustment_weight\": 1.0, \"is_null_level\": false, \"bayes_factor\": 72.83483382194005, \"log2_bayes_factor\": 6.186556690406537, \"comparison_vector_value\": 1, \"max_comparison_vector_value\": 2, \"bayes_factor_description\": \"If comparison level is `jaro_winkler >= 0.8333333333333334` then comparison is 72.83 times more likely to be a match\", \"probability_two_random_records_match\": 8.787431577975032e-05, \"comparison_sort_order\": 0, \"iteration\": 3}, {\"comparison_name\": \"last_name_12\", \"sql_condition\": \"ELSE\", \"label_for_charts\": \"All other comparisons\", \"m_probability\": 0.026558982843504882, \"u_probability\": 0.9982998496044533, \"m_probability_description\": \"Amongst matching record comparisons, 2.66% of records are in the all other comparisons comparison level\", \"u_probability_description\": \"Amongst non-matching record comparisons, 99.83% of records are in the all other comparisons comparison level\", \"has_tf_adjustments\": false, \"tf_adjustment_column\": null, \"tf_adjustment_weight\": 1.0, \"is_null_level\": false, \"bayes_factor\": 0.0266042140084746, \"log2_bayes_factor\": -5.232201408423608, \"comparison_vector_value\": 0, \"max_comparison_vector_value\": 2, \"bayes_factor_description\": \"If comparison level is `all other comparisons` then comparison is  37.59 times less likely to be a match\", \"probability_two_random_records_match\": 8.787431577975032e-05, \"comparison_sort_order\": 0, \"iteration\": 3}, {\"comparison_name\": \"middle_initial\", \"sql_condition\": \"`middle_initial_l` = `middle_initial_r`\", \"label_for_charts\": \"Exact match\", \"m_probability\": 0.9422366610798629, \"u_probability\": 0.06649740874668783, \"m_probability_description\": \"Amongst matching record comparisons, 94.22% of records are in the exact match comparison level\", \"u_probability_description\": \"Amongst non-matching record comparisons, 6.65% of records are in the exact match comparison level\", \"has_tf_adjustments\": false, \"tf_adjustment_column\": null, \"tf_adjustment_weight\": 1.0, \"is_null_level\": false, \"bayes_factor\": 14.16952447980606, \"log2_bayes_factor\": 3.824719438031305, \"comparison_vector_value\": 1, \"max_comparison_vector_value\": 1, \"bayes_factor_description\": \"If comparison level is `exact match` then comparison is 14.17 times more likely to be a match\", \"probability_two_random_records_match\": 8.787431577975032e-05, \"comparison_sort_order\": 1, \"iteration\": 3}, {\"comparison_name\": \"middle_initial\", \"sql_condition\": \"ELSE\", \"label_for_charts\": \"All other comparisons\", \"m_probability\": 0.05776333892013717, \"u_probability\": 0.9335025912533121, \"m_probability_description\": \"Amongst matching record comparisons, 5.78% of records are in the all other comparisons comparison level\", \"u_probability_description\": \"Amongst non-matching record comparisons, 93.35% of records are in the all other comparisons comparison level\", \"has_tf_adjustments\": false, \"tf_adjustment_column\": null, \"tf_adjustment_weight\": 1.0, \"is_null_level\": false, \"bayes_factor\": 0.06187807025000824, \"log2_bayes_factor\": -4.014427984651558, \"comparison_vector_value\": 0, \"max_comparison_vector_value\": 1, \"bayes_factor_description\": \"If comparison level is `all other comparisons` then comparison is  16.16 times less likely to be a match\", \"probability_two_random_records_match\": 8.787431577975032e-05, \"comparison_sort_order\": 1, \"iteration\": 3}, {\"comparison_name\": \"day_of_birth\", \"sql_condition\": \"`day_of_birth_l` = `day_of_birth_r`\", \"label_for_charts\": \"Exact match\", \"m_probability\": 0.9785749023438415, \"u_probability\": 0.03263074146367179, \"m_probability_description\": \"Amongst matching record comparisons, 97.86% of records are in the exact match comparison level\", \"u_probability_description\": \"Amongst non-matching record comparisons, 3.26% of records are in the exact match comparison level\", \"has_tf_adjustments\": false, \"tf_adjustment_column\": null, \"tf_adjustment_weight\": 1.0, \"is_null_level\": false, \"bayes_factor\": 29.989355388485457, \"log2_bayes_factor\": 4.906378607163037, \"comparison_vector_value\": 2, \"max_comparison_vector_value\": 2, \"bayes_factor_description\": \"If comparison level is `exact match` then comparison is 29.99 times more likely to be a match\", \"probability_two_random_records_match\": 8.787431577975032e-05, \"comparison_sort_order\": 2, \"iteration\": 3}, {\"comparison_name\": \"day_of_birth\", \"sql_condition\": \"abs(day_of_birth_l - day_of_birth_r) <= 5\", \"label_for_charts\": \"Inexact match\", \"m_probability\": 0.014063757840544675, \"u_probability\": 0.29448557752556886, \"m_probability_description\": \"Amongst matching record comparisons, 1.41% of records are in the inexact match comparison level\", \"u_probability_description\": \"Amongst non-matching record comparisons, 29.45% of records are in the inexact match comparison level\", \"has_tf_adjustments\": false, \"tf_adjustment_column\": null, \"tf_adjustment_weight\": 1.0, \"is_null_level\": false, \"bayes_factor\": 0.04775703434686401, \"log2_bayes_factor\": -4.3881429399792795, \"comparison_vector_value\": 1, \"max_comparison_vector_value\": 2, \"bayes_factor_description\": \"If comparison level is `inexact match` then comparison is  20.94 times less likely to be a match\", \"probability_two_random_records_match\": 8.787431577975032e-05, \"comparison_sort_order\": 2, \"iteration\": 3}, {\"comparison_name\": \"day_of_birth\", \"sql_condition\": \"ELSE\", \"label_for_charts\": \"All other comparisons\", \"m_probability\": 0.0073613398156137785, \"u_probability\": 0.6728836810107593, \"m_probability_description\": \"Amongst matching record comparisons, 0.74% of records are in the all other comparisons comparison level\", \"u_probability_description\": \"Amongst non-matching record comparisons, 67.29% of records are in the all other comparisons comparison level\", \"has_tf_adjustments\": false, \"tf_adjustment_column\": null, \"tf_adjustment_weight\": 1.0, \"is_null_level\": false, \"bayes_factor\": 0.01093998862412012, \"log2_bayes_factor\": -6.5142449518210395, \"comparison_vector_value\": 0, \"max_comparison_vector_value\": 2, \"bayes_factor_description\": \"If comparison level is `all other comparisons` then comparison is  91.41 times less likely to be a match\", \"probability_two_random_records_match\": 8.787431577975032e-05, \"comparison_sort_order\": 2, \"iteration\": 3}, {\"comparison_name\": \"month_of_birth\", \"sql_condition\": \"`month_of_birth_l` = `month_of_birth_r`\", \"label_for_charts\": \"Exact match\", \"m_probability\": 0.9839359125305039, \"u_probability\": 0.08335009639337561, \"m_probability_description\": \"Amongst matching record comparisons, 98.39% of records are in the exact match comparison level\", \"u_probability_description\": \"Amongst non-matching record comparisons, 8.34% of records are in the exact match comparison level\", \"has_tf_adjustments\": false, \"tf_adjustment_column\": null, \"tf_adjustment_weight\": 1.0, \"is_null_level\": false, \"bayes_factor\": 11.804856324181815, \"log2_bayes_factor\": 3.5613085776524116, \"comparison_vector_value\": 2, \"max_comparison_vector_value\": 2, \"bayes_factor_description\": \"If comparison level is `exact match` then comparison is 11.80 times more likely to be a match\", \"probability_two_random_records_match\": 8.787431577975032e-05, \"comparison_sort_order\": 3, \"iteration\": 3}, {\"comparison_name\": \"month_of_birth\", \"sql_condition\": \"abs(month_of_birth_l - month_of_birth_r) <= 3\", \"label_for_charts\": \"Inexact match\", \"m_probability\": 0.009082617075755979, \"u_probability\": 0.42042112968689377, \"m_probability_description\": \"Amongst matching record comparisons, 0.91% of records are in the inexact match comparison level\", \"u_probability_description\": \"Amongst non-matching record comparisons, 42.04% of records are in the inexact match comparison level\", \"has_tf_adjustments\": false, \"tf_adjustment_column\": null, \"tf_adjustment_weight\": 1.0, \"is_null_level\": false, \"bayes_factor\": 0.021603617026861154, \"log2_bayes_factor\": -5.5325833111891365, \"comparison_vector_value\": 1, \"max_comparison_vector_value\": 2, \"bayes_factor_description\": \"If comparison level is `inexact match` then comparison is  46.29 times less likely to be a match\", \"probability_two_random_records_match\": 8.787431577975032e-05, \"comparison_sort_order\": 3, \"iteration\": 3}, {\"comparison_name\": \"month_of_birth\", \"sql_condition\": \"ELSE\", \"label_for_charts\": \"All other comparisons\", \"m_probability\": 0.00698147039374018, \"u_probability\": 0.4962287739197306, \"m_probability_description\": \"Amongst matching record comparisons, 0.70% of records are in the all other comparisons comparison level\", \"u_probability_description\": \"Amongst non-matching record comparisons, 49.62% of records are in the all other comparisons comparison level\", \"has_tf_adjustments\": false, \"tf_adjustment_column\": null, \"tf_adjustment_weight\": 1.0, \"is_null_level\": false, \"bayes_factor\": 0.014069055969071022, \"log2_bayes_factor\": -6.1513306625102935, \"comparison_vector_value\": 0, \"max_comparison_vector_value\": 2, \"bayes_factor_description\": \"If comparison level is `all other comparisons` then comparison is  71.08 times less likely to be a match\", \"probability_two_random_records_match\": 8.787431577975032e-05, \"comparison_sort_order\": 3, \"iteration\": 3}, {\"comparison_name\": \"year_of_birth\", \"sql_condition\": \"`year_of_birth_l` = `year_of_birth_r`\", \"label_for_charts\": \"Exact match\", \"m_probability\": 0.9701539965896157, \"u_probability\": 0.010907318543921298, \"m_probability_description\": \"Amongst matching record comparisons, 97.02% of records are in the exact match comparison level\", \"u_probability_description\": \"Amongst non-matching record comparisons, 1.09% of records are in the exact match comparison level\", \"has_tf_adjustments\": false, \"tf_adjustment_column\": null, \"tf_adjustment_weight\": 1.0, \"is_null_level\": false, \"bayes_factor\": 88.94523366884589, \"log2_bayes_factor\": 6.474845392380262, \"comparison_vector_value\": 2, \"max_comparison_vector_value\": 2, \"bayes_factor_description\": \"If comparison level is `exact match` then comparison is 88.95 times more likely to be a match\", \"probability_two_random_records_match\": 8.787431577975032e-05, \"comparison_sort_order\": 4, \"iteration\": 3}, {\"comparison_name\": \"year_of_birth\", \"sql_condition\": \"abs(year_of_birth_l - year_of_birth_r) <= 5\", \"label_for_charts\": \"Inexact match\", \"m_probability\": 0.009455158627441868, \"u_probability\": 0.10780150502221279, \"m_probability_description\": \"Amongst matching record comparisons, 0.95% of records are in the inexact match comparison level\", \"u_probability_description\": \"Amongst non-matching record comparisons, 10.78% of records are in the inexact match comparison level\", \"has_tf_adjustments\": false, \"tf_adjustment_column\": null, \"tf_adjustment_weight\": 1.0, \"is_null_level\": false, \"bayes_factor\": 0.08770896682280648, \"log2_bayes_factor\": -3.5111318473384157, \"comparison_vector_value\": 1, \"max_comparison_vector_value\": 2, \"bayes_factor_description\": \"If comparison level is `inexact match` then comparison is  11.40 times less likely to be a match\", \"probability_two_random_records_match\": 8.787431577975032e-05, \"comparison_sort_order\": 4, \"iteration\": 3}, {\"comparison_name\": \"year_of_birth\", \"sql_condition\": \"ELSE\", \"label_for_charts\": \"All other comparisons\", \"m_probability\": 0.020390844782942546, \"u_probability\": 0.8812911764338659, \"m_probability_description\": \"Amongst matching record comparisons, 2.04% of records are in the all other comparisons comparison level\", \"u_probability_description\": \"Amongst non-matching record comparisons, 88.13% of records are in the all other comparisons comparison level\", \"has_tf_adjustments\": false, \"tf_adjustment_column\": null, \"tf_adjustment_weight\": 1.0, \"is_null_level\": false, \"bayes_factor\": 0.02313746617259219, \"log2_bayes_factor\": -5.433625308924436, \"comparison_vector_value\": 0, \"max_comparison_vector_value\": 2, \"bayes_factor_description\": \"If comparison level is `all other comparisons` then comparison is  43.22 times less likely to be a match\", \"probability_two_random_records_match\": 8.787431577975032e-05, \"comparison_sort_order\": 4, \"iteration\": 3}, {\"comparison_name\": \"geokey\", \"sql_condition\": \"`geokey_l` = `geokey_r`\", \"label_for_charts\": \"Exact match\", \"m_probability\": 0.5244626638963804, \"u_probability\": 0.000645503792157887, \"m_probability_description\": \"Amongst matching record comparisons, 52.45% of records are in the exact match comparison level\", \"u_probability_description\": \"Amongst non-matching record comparisons, 0.06% of records are in the exact match comparison level\", \"has_tf_adjustments\": false, \"tf_adjustment_column\": null, \"tf_adjustment_weight\": 1.0, \"is_null_level\": false, \"bayes_factor\": 812.4857983299028, \"log2_bayes_factor\": 9.666198785747076, \"comparison_vector_value\": 2, \"max_comparison_vector_value\": 2, \"bayes_factor_description\": \"If comparison level is `exact match` then comparison is 812.49 times more likely to be a match\", \"probability_two_random_records_match\": 8.787431577975032e-05, \"comparison_sort_order\": 5, \"iteration\": 3}, {\"comparison_name\": \"geokey\", \"sql_condition\": \"jaro_winkler(`geokey_l`, `geokey_r`) >= 0.7222222222222222\", \"label_for_charts\": \"Jaro_winkler >= 0.7222222222222222\", \"m_probability\": 0.4693661119296099, \"u_probability\": 0.02044314350845159, \"m_probability_description\": \"Amongst matching record comparisons, 46.94% of records are in the jaro_winkler >= 0.7222222222222222 comparison level\", \"u_probability_description\": \"Amongst non-matching record comparisons, 2.04% of records are in the jaro_winkler >= 0.7222222222222222 comparison level\", \"has_tf_adjustments\": false, \"tf_adjustment_column\": null, \"tf_adjustment_weight\": 1.0, \"is_null_level\": false, \"bayes_factor\": 22.959586021375085, \"log2_bayes_factor\": 4.521024724257516, \"comparison_vector_value\": 1, \"max_comparison_vector_value\": 2, \"bayes_factor_description\": \"If comparison level is `jaro_winkler >= 0.7222222222222222` then comparison is 22.96 times more likely to be a match\", \"probability_two_random_records_match\": 8.787431577975032e-05, \"comparison_sort_order\": 5, \"iteration\": 3}, {\"comparison_name\": \"geokey\", \"sql_condition\": \"ELSE\", \"label_for_charts\": \"All other comparisons\", \"m_probability\": 0.006171224174009765, \"u_probability\": 0.9789113526993906, \"m_probability_description\": \"Amongst matching record comparisons, 0.62% of records are in the all other comparisons comparison level\", \"u_probability_description\": \"Amongst non-matching record comparisons, 97.89% of records are in the all other comparisons comparison level\", \"has_tf_adjustments\": false, \"tf_adjustment_column\": null, \"tf_adjustment_weight\": 1.0, \"is_null_level\": false, \"bayes_factor\": 0.006304170604409017, \"log2_bayes_factor\": -7.309477706910246, \"comparison_vector_value\": 0, \"max_comparison_vector_value\": 2, \"bayes_factor_description\": \"If comparison level is `all other comparisons` then comparison is  158.63 times less likely to be a match\", \"probability_two_random_records_match\": 8.787431577975032e-05, \"comparison_sort_order\": 5, \"iteration\": 3}, {\"comparison_name\": \"last_name_12\", \"sql_condition\": \"`last_name_12_l` = `last_name_12_r`\", \"label_for_charts\": \"Exact match\", \"m_probability\": 0.884909896387488, \"u_probability\": 0.0004849346356234464, \"m_probability_description\": \"Amongst matching record comparisons, 88.49% of records are in the exact match comparison level\", \"u_probability_description\": \"Amongst non-matching record comparisons, 0.05% of records are in the exact match comparison level\", \"has_tf_adjustments\": false, \"tf_adjustment_column\": null, \"tf_adjustment_weight\": 1.0, \"is_null_level\": false, \"bayes_factor\": 1824.8024195050978, \"log2_bayes_factor\": 10.833524549295058, \"comparison_vector_value\": 2, \"max_comparison_vector_value\": 2, \"bayes_factor_description\": \"If comparison level is `exact match` then comparison is 1,824.80 times more likely to be a match\", \"probability_two_random_records_match\": 8.787431577975032e-05, \"comparison_sort_order\": 0, \"iteration\": 4}, {\"comparison_name\": \"last_name_12\", \"sql_condition\": \"jaro_winkler(`last_name_12_l`, `last_name_12_r`) >= 0.8333333333333334\", \"label_for_charts\": \"Jaro_winkler >= 0.8333333333333334\", \"m_probability\": 0.08850926241669425, \"u_probability\": 0.0012152157599232165, \"m_probability_description\": \"Amongst matching record comparisons, 8.85% of records are in the jaro_winkler >= 0.8333333333333334 comparison level\", \"u_probability_description\": \"Amongst non-matching record comparisons, 0.12% of records are in the jaro_winkler >= 0.8333333333333334 comparison level\", \"has_tf_adjustments\": false, \"tf_adjustment_column\": null, \"tf_adjustment_weight\": 1.0, \"is_null_level\": false, \"bayes_factor\": 72.83419565122058, \"log2_bayes_factor\": 6.1865440496175435, \"comparison_vector_value\": 1, \"max_comparison_vector_value\": 2, \"bayes_factor_description\": \"If comparison level is `jaro_winkler >= 0.8333333333333334` then comparison is 72.83 times more likely to be a match\", \"probability_two_random_records_match\": 8.787431577975032e-05, \"comparison_sort_order\": 0, \"iteration\": 4}, {\"comparison_name\": \"last_name_12\", \"sql_condition\": \"ELSE\", \"label_for_charts\": \"All other comparisons\", \"m_probability\": 0.026580841195817776, \"u_probability\": 0.9982998496044533, \"m_probability_description\": \"Amongst matching record comparisons, 2.66% of records are in the all other comparisons comparison level\", \"u_probability_description\": \"Amongst non-matching record comparisons, 99.83% of records are in the all other comparisons comparison level\", \"has_tf_adjustments\": false, \"tf_adjustment_column\": null, \"tf_adjustment_weight\": 1.0, \"is_null_level\": false, \"bayes_factor\": 0.02662610958656324, \"log2_bayes_factor\": -5.231014541931953, \"comparison_vector_value\": 0, \"max_comparison_vector_value\": 2, \"bayes_factor_description\": \"If comparison level is `all other comparisons` then comparison is  37.56 times less likely to be a match\", \"probability_two_random_records_match\": 8.787431577975032e-05, \"comparison_sort_order\": 0, \"iteration\": 4}, {\"comparison_name\": \"middle_initial\", \"sql_condition\": \"`middle_initial_l` = `middle_initial_r`\", \"label_for_charts\": \"Exact match\", \"m_probability\": 0.9422338270093014, \"u_probability\": 0.06649740874668783, \"m_probability_description\": \"Amongst matching record comparisons, 94.22% of records are in the exact match comparison level\", \"u_probability_description\": \"Amongst non-matching record comparisons, 6.65% of records are in the exact match comparison level\", \"has_tf_adjustments\": false, \"tf_adjustment_column\": null, \"tf_adjustment_weight\": 1.0, \"is_null_level\": false, \"bayes_factor\": 14.16948186054292, \"log2_bayes_factor\": 3.8247150986695897, \"comparison_vector_value\": 1, \"max_comparison_vector_value\": 1, \"bayes_factor_description\": \"If comparison level is `exact match` then comparison is 14.17 times more likely to be a match\", \"probability_two_random_records_match\": 8.787431577975032e-05, \"comparison_sort_order\": 1, \"iteration\": 4}, {\"comparison_name\": \"middle_initial\", \"sql_condition\": \"ELSE\", \"label_for_charts\": \"All other comparisons\", \"m_probability\": 0.05776617299069876, \"u_probability\": 0.9335025912533121, \"m_probability_description\": \"Amongst matching record comparisons, 5.78% of records are in the all other comparisons comparison level\", \"u_probability_description\": \"Amongst non-matching record comparisons, 93.35% of records are in the all other comparisons comparison level\", \"has_tf_adjustments\": false, \"tf_adjustment_column\": null, \"tf_adjustment_weight\": 1.0, \"is_null_level\": false, \"bayes_factor\": 0.06188110620361794, \"log2_bayes_factor\": -4.014357202745222, \"comparison_vector_value\": 0, \"max_comparison_vector_value\": 1, \"bayes_factor_description\": \"If comparison level is `all other comparisons` then comparison is  16.16 times less likely to be a match\", \"probability_two_random_records_match\": 8.787431577975032e-05, \"comparison_sort_order\": 1, \"iteration\": 4}, {\"comparison_name\": \"day_of_birth\", \"sql_condition\": \"`day_of_birth_l` = `day_of_birth_r`\", \"label_for_charts\": \"Exact match\", \"m_probability\": 0.9786136543171912, \"u_probability\": 0.03263074146367179, \"m_probability_description\": \"Amongst matching record comparisons, 97.86% of records are in the exact match comparison level\", \"u_probability_description\": \"Amongst non-matching record comparisons, 3.26% of records are in the exact match comparison level\", \"has_tf_adjustments\": false, \"tf_adjustment_column\": null, \"tf_adjustment_weight\": 1.0, \"is_null_level\": false, \"bayes_factor\": 29.990542979438388, \"log2_bayes_factor\": 4.906435737355826, \"comparison_vector_value\": 2, \"max_comparison_vector_value\": 2, \"bayes_factor_description\": \"If comparison level is `exact match` then comparison is 29.99 times more likely to be a match\", \"probability_two_random_records_match\": 8.787431577975032e-05, \"comparison_sort_order\": 2, \"iteration\": 4}, {\"comparison_name\": \"day_of_birth\", \"sql_condition\": \"abs(day_of_birth_l - day_of_birth_r) <= 5\", \"label_for_charts\": \"Inexact match\", \"m_probability\": 0.014052799400773785, \"u_probability\": 0.29448557752556886, \"m_probability_description\": \"Amongst matching record comparisons, 1.41% of records are in the inexact match comparison level\", \"u_probability_description\": \"Amongst non-matching record comparisons, 29.45% of records are in the inexact match comparison level\", \"has_tf_adjustments\": false, \"tf_adjustment_column\": null, \"tf_adjustment_weight\": 1.0, \"is_null_level\": false, \"bayes_factor\": 0.04771982220268035, \"log2_bayes_factor\": -4.389267522009589, \"comparison_vector_value\": 1, \"max_comparison_vector_value\": 2, \"bayes_factor_description\": \"If comparison level is `inexact match` then comparison is  20.96 times less likely to be a match\", \"probability_two_random_records_match\": 8.787431577975032e-05, \"comparison_sort_order\": 2, \"iteration\": 4}, {\"comparison_name\": \"day_of_birth\", \"sql_condition\": \"ELSE\", \"label_for_charts\": \"All other comparisons\", \"m_probability\": 0.007333546282035037, \"u_probability\": 0.6728836810107593, \"m_probability_description\": \"Amongst matching record comparisons, 0.73% of records are in the all other comparisons comparison level\", \"u_probability_description\": \"Amongst non-matching record comparisons, 67.29% of records are in the all other comparisons comparison level\", \"has_tf_adjustments\": false, \"tf_adjustment_column\": null, \"tf_adjustment_weight\": 1.0, \"is_null_level\": false, \"bayes_factor\": 0.010898683515431806, \"log2_bayes_factor\": -6.519702311695783, \"comparison_vector_value\": 0, \"max_comparison_vector_value\": 2, \"bayes_factor_description\": \"If comparison level is `all other comparisons` then comparison is  91.75 times less likely to be a match\", \"probability_two_random_records_match\": 8.787431577975032e-05, \"comparison_sort_order\": 2, \"iteration\": 4}, {\"comparison_name\": \"month_of_birth\", \"sql_condition\": \"`month_of_birth_l` = `month_of_birth_r`\", \"label_for_charts\": \"Exact match\", \"m_probability\": 0.9839688441771466, \"u_probability\": 0.08335009639337561, \"m_probability_description\": \"Amongst matching record comparisons, 98.40% of records are in the exact match comparison level\", \"u_probability_description\": \"Amongst non-matching record comparisons, 8.34% of records are in the exact match comparison level\", \"has_tf_adjustments\": false, \"tf_adjustment_column\": null, \"tf_adjustment_weight\": 1.0, \"is_null_level\": false, \"bayes_factor\": 11.80525142446445, \"log2_bayes_factor\": 3.5613568628381067, \"comparison_vector_value\": 2, \"max_comparison_vector_value\": 2, \"bayes_factor_description\": \"If comparison level is `exact match` then comparison is 11.81 times more likely to be a match\", \"probability_two_random_records_match\": 8.787431577975032e-05, \"comparison_sort_order\": 3, \"iteration\": 4}, {\"comparison_name\": \"month_of_birth\", \"sql_condition\": \"abs(month_of_birth_l - month_of_birth_r) <= 3\", \"label_for_charts\": \"Inexact match\", \"m_probability\": 0.009074195258977995, \"u_probability\": 0.42042112968689377, \"m_probability_description\": \"Amongst matching record comparisons, 0.91% of records are in the inexact match comparison level\", \"u_probability_description\": \"Amongst non-matching record comparisons, 42.04% of records are in the inexact match comparison level\", \"has_tf_adjustments\": false, \"tf_adjustment_column\": null, \"tf_adjustment_weight\": 1.0, \"is_null_level\": false, \"bayes_factor\": 0.021583585167890943, \"log2_bayes_factor\": -5.533921664414166, \"comparison_vector_value\": 1, \"max_comparison_vector_value\": 2, \"bayes_factor_description\": \"If comparison level is `inexact match` then comparison is  46.33 times less likely to be a match\", \"probability_two_random_records_match\": 8.787431577975032e-05, \"comparison_sort_order\": 3, \"iteration\": 4}, {\"comparison_name\": \"month_of_birth\", \"sql_condition\": \"ELSE\", \"label_for_charts\": \"All other comparisons\", \"m_probability\": 0.006956960563875438, \"u_probability\": 0.4962287739197306, \"m_probability_description\": \"Amongst matching record comparisons, 0.70% of records are in the all other comparisons comparison level\", \"u_probability_description\": \"Amongst non-matching record comparisons, 49.62% of records are in the all other comparisons comparison level\", \"has_tf_adjustments\": false, \"tf_adjustment_column\": null, \"tf_adjustment_weight\": 1.0, \"is_null_level\": false, \"bayes_factor\": 0.014019663771050867, \"log2_bayes_factor\": -6.156404439688256, \"comparison_vector_value\": 0, \"max_comparison_vector_value\": 2, \"bayes_factor_description\": \"If comparison level is `all other comparisons` then comparison is  71.33 times less likely to be a match\", \"probability_two_random_records_match\": 8.787431577975032e-05, \"comparison_sort_order\": 3, \"iteration\": 4}, {\"comparison_name\": \"year_of_birth\", \"sql_condition\": \"`year_of_birth_l` = `year_of_birth_r`\", \"label_for_charts\": \"Exact match\", \"m_probability\": 0.9701739425914105, \"u_probability\": 0.010907318543921298, \"m_probability_description\": \"Amongst matching record comparisons, 97.02% of records are in the exact match comparison level\", \"u_probability_description\": \"Amongst non-matching record comparisons, 1.09% of records are in the exact match comparison level\", \"has_tf_adjustments\": false, \"tf_adjustment_column\": null, \"tf_adjustment_weight\": 1.0, \"is_null_level\": false, \"bayes_factor\": 88.94706234944364, \"log2_bayes_factor\": 6.47487505334354, \"comparison_vector_value\": 2, \"max_comparison_vector_value\": 2, \"bayes_factor_description\": \"If comparison level is `exact match` then comparison is 88.95 times more likely to be a match\", \"probability_two_random_records_match\": 8.787431577975032e-05, \"comparison_sort_order\": 4, \"iteration\": 4}, {\"comparison_name\": \"year_of_birth\", \"sql_condition\": \"abs(year_of_birth_l - year_of_birth_r) <= 5\", \"label_for_charts\": \"Inexact match\", \"m_probability\": 0.00944796091399557, \"u_probability\": 0.10780150502221279, \"m_probability_description\": \"Amongst matching record comparisons, 0.94% of records are in the inexact match comparison level\", \"u_probability_description\": \"Amongst non-matching record comparisons, 10.78% of records are in the inexact match comparison level\", \"has_tf_adjustments\": false, \"tf_adjustment_column\": null, \"tf_adjustment_weight\": 1.0, \"is_null_level\": false, \"bayes_factor\": 0.08764219861354247, \"log2_bayes_factor\": -3.5122305131934133, \"comparison_vector_value\": 1, \"max_comparison_vector_value\": 2, \"bayes_factor_description\": \"If comparison level is `inexact match` then comparison is  11.41 times less likely to be a match\", \"probability_two_random_records_match\": 8.787431577975032e-05, \"comparison_sort_order\": 4, \"iteration\": 4}, {\"comparison_name\": \"year_of_birth\", \"sql_condition\": \"ELSE\", \"label_for_charts\": \"All other comparisons\", \"m_probability\": 0.02037809649459392, \"u_probability\": 0.8812911764338659, \"m_probability_description\": \"Amongst matching record comparisons, 2.04% of records are in the all other comparisons comparison level\", \"u_probability_description\": \"Amongst non-matching record comparisons, 88.13% of records are in the all other comparisons comparison level\", \"has_tf_adjustments\": false, \"tf_adjustment_column\": null, \"tf_adjustment_weight\": 1.0, \"is_null_level\": false, \"bayes_factor\": 0.02312300070568463, \"log2_bayes_factor\": -5.4345275591376385, \"comparison_vector_value\": 0, \"max_comparison_vector_value\": 2, \"bayes_factor_description\": \"If comparison level is `all other comparisons` then comparison is  43.25 times less likely to be a match\", \"probability_two_random_records_match\": 8.787431577975032e-05, \"comparison_sort_order\": 4, \"iteration\": 4}, {\"comparison_name\": \"geokey\", \"sql_condition\": \"`geokey_l` = `geokey_r`\", \"label_for_charts\": \"Exact match\", \"m_probability\": 0.5244709008748406, \"u_probability\": 0.000645503792157887, \"m_probability_description\": \"Amongst matching record comparisons, 52.45% of records are in the exact match comparison level\", \"u_probability_description\": \"Amongst non-matching record comparisons, 0.06% of records are in the exact match comparison level\", \"has_tf_adjustments\": false, \"tf_adjustment_column\": null, \"tf_adjustment_weight\": 1.0, \"is_null_level\": false, \"bayes_factor\": 812.4985588722268, \"log2_bayes_factor\": 9.66622144389889, \"comparison_vector_value\": 2, \"max_comparison_vector_value\": 2, \"bayes_factor_description\": \"If comparison level is `exact match` then comparison is 812.50 times more likely to be a match\", \"probability_two_random_records_match\": 8.787431577975032e-05, \"comparison_sort_order\": 5, \"iteration\": 4}, {\"comparison_name\": \"geokey\", \"sql_condition\": \"jaro_winkler(`geokey_l`, `geokey_r`) >= 0.7222222222222222\", \"label_for_charts\": \"Jaro_winkler >= 0.7222222222222222\", \"m_probability\": 0.4693584910277504, \"u_probability\": 0.02044314350845159, \"m_probability_description\": \"Amongst matching record comparisons, 46.94% of records are in the jaro_winkler >= 0.7222222222222222 comparison level\", \"u_probability_description\": \"Amongst non-matching record comparisons, 2.04% of records are in the jaro_winkler >= 0.7222222222222222 comparison level\", \"has_tf_adjustments\": false, \"tf_adjustment_column\": null, \"tf_adjustment_weight\": 1.0, \"is_null_level\": false, \"bayes_factor\": 22.95921323614974, \"log2_bayes_factor\": 4.521001299629493, \"comparison_vector_value\": 1, \"max_comparison_vector_value\": 2, \"bayes_factor_description\": \"If comparison level is `jaro_winkler >= 0.7222222222222222` then comparison is 22.96 times more likely to be a match\", \"probability_two_random_records_match\": 8.787431577975032e-05, \"comparison_sort_order\": 5, \"iteration\": 4}, {\"comparison_name\": \"geokey\", \"sql_condition\": \"ELSE\", \"label_for_charts\": \"All other comparisons\", \"m_probability\": 0.006170608097408898, \"u_probability\": 0.9789113526993906, \"m_probability_description\": \"Amongst matching record comparisons, 0.62% of records are in the all other comparisons comparison level\", \"u_probability_description\": \"Amongst non-matching record comparisons, 97.89% of records are in the all other comparisons comparison level\", \"has_tf_adjustments\": false, \"tf_adjustment_column\": null, \"tf_adjustment_weight\": 1.0, \"is_null_level\": false, \"bayes_factor\": 0.006303541255695093, \"log2_bayes_factor\": -7.309621739115201, \"comparison_vector_value\": 0, \"max_comparison_vector_value\": 2, \"bayes_factor_description\": \"If comparison level is `all other comparisons` then comparison is  158.64 times less likely to be a match\", \"probability_two_random_records_match\": 8.787431577975032e-05, \"comparison_sort_order\": 5, \"iteration\": 4}]}}, {\"mode\": \"vega-lite\"});\n",
       "</script>"
      ],
      "text/plain": [
       "alt.HConcatChart(...)"
      ]
     },
     "execution_count": 57,
     "metadata": {},
     "output_type": "execute_result"
    }
   ],
   "source": [
    "em_session_1.m_u_values_interactive_history_chart()"
   ]
  },
  {
   "cell_type": "code",
   "execution_count": 58,
   "id": "13eae59d-f450-46df-99b6-79b2a8dfae6f",
   "metadata": {
    "execution": {
     "iopub.execute_input": "2024-02-13T00:20:59.919486Z",
     "iopub.status.busy": "2024-02-13T00:20:59.919031Z",
     "iopub.status.idle": "2024-02-13T00:21:01.843811Z",
     "shell.execute_reply": "2024-02-13T00:21:01.842423Z"
    },
    "papermill": {
     "duration": 1.964816,
     "end_time": "2024-02-13T00:21:01.845396",
     "exception": false,
     "start_time": "2024-02-13T00:20:59.880580",
     "status": "completed"
    },
    "tags": []
   },
   "outputs": [
    {
     "data": {
      "text/html": [
       "\n",
       "<style>\n",
       "  #altair-viz-6bca052e7329483fb45cb41c2cbe966d.vega-embed {\n",
       "    width: 100%;\n",
       "    display: flex;\n",
       "  }\n",
       "\n",
       "  #altair-viz-6bca052e7329483fb45cb41c2cbe966d.vega-embed details,\n",
       "  #altair-viz-6bca052e7329483fb45cb41c2cbe966d.vega-embed details summary {\n",
       "    position: relative;\n",
       "  }\n",
       "</style>\n",
       "<div id=\"altair-viz-6bca052e7329483fb45cb41c2cbe966d\"></div>\n",
       "<script type=\"text/javascript\">\n",
       "  var VEGA_DEBUG = (typeof VEGA_DEBUG == \"undefined\") ? {} : VEGA_DEBUG;\n",
       "  (function(spec, embedOpt){\n",
       "    let outputDiv = document.currentScript.previousElementSibling;\n",
       "    if (outputDiv.id !== \"altair-viz-6bca052e7329483fb45cb41c2cbe966d\") {\n",
       "      outputDiv = document.getElementById(\"altair-viz-6bca052e7329483fb45cb41c2cbe966d\");\n",
       "    }\n",
       "    const paths = {\n",
       "      \"vega\": \"https://cdn.jsdelivr.net/npm/vega@5?noext\",\n",
       "      \"vega-lib\": \"https://cdn.jsdelivr.net/npm/vega-lib?noext\",\n",
       "      \"vega-lite\": \"https://cdn.jsdelivr.net/npm/vega-lite@5.15.1?noext\",\n",
       "      \"vega-embed\": \"https://cdn.jsdelivr.net/npm/vega-embed@6?noext\",\n",
       "    };\n",
       "\n",
       "    function maybeLoadScript(lib, version) {\n",
       "      var key = `${lib.replace(\"-\", \"\")}_version`;\n",
       "      return (VEGA_DEBUG[key] == version) ?\n",
       "        Promise.resolve(paths[lib]) :\n",
       "        new Promise(function(resolve, reject) {\n",
       "          var s = document.createElement('script');\n",
       "          document.getElementsByTagName(\"head\")[0].appendChild(s);\n",
       "          s.async = true;\n",
       "          s.onload = () => {\n",
       "            VEGA_DEBUG[key] = version;\n",
       "            return resolve(paths[lib]);\n",
       "          };\n",
       "          s.onerror = () => reject(`Error loading script: ${paths[lib]}`);\n",
       "          s.src = paths[lib];\n",
       "        });\n",
       "    }\n",
       "\n",
       "    function showError(err) {\n",
       "      outputDiv.innerHTML = `<div class=\"error\" style=\"color:red;\">${err}</div>`;\n",
       "      throw err;\n",
       "    }\n",
       "\n",
       "    function displayChart(vegaEmbed) {\n",
       "      vegaEmbed(outputDiv, spec, embedOpt)\n",
       "        .catch(err => showError(`Javascript Error: ${err.message}<br>This usually means there's a typo in your chart specification. See the javascript console for the full traceback.`));\n",
       "    }\n",
       "\n",
       "    if(typeof define === \"function\" && define.amd) {\n",
       "      requirejs.config({paths});\n",
       "      require([\"vega-embed\"], displayChart, err => showError(`Error loading script: ${err.message}`));\n",
       "    } else {\n",
       "      maybeLoadScript(\"vega\", \"5\")\n",
       "        .then(() => maybeLoadScript(\"vega-lite\", \"5.15.1\"))\n",
       "        .then(() => maybeLoadScript(\"vega-embed\", \"6\"))\n",
       "        .catch(showError)\n",
       "        .then(() => displayChart(vegaEmbed));\n",
       "    }\n",
       "  })({\"config\": {\"view\": {\"continuousWidth\": 300, \"continuousHeight\": 300, \"discreteHeight\": 60, \"discreteWidth\": 400}, \"header\": {\"title\": null}, \"mark\": {\"tooltip\": null}, \"title\": {\"anchor\": \"middle\"}}, \"vconcat\": [{\"mark\": {\"type\": \"bar\", \"clip\": true, \"height\": 15}, \"encoding\": {\"color\": {\"field\": \"log2_bayes_factor\", \"scale\": {\"domain\": [-10, 0, 10], \"interpolate\": \"lab\", \"range\": [\"red\", \"#bbbbbb\", \"green\"]}, \"title\": \"Match weight\", \"type\": \"quantitative\"}, \"tooltip\": [{\"field\": \"comparison_name\", \"title\": \"Comparison name\", \"type\": \"nominal\"}, {\"field\": \"probability_two_random_records_match\", \"format\": \".4f\", \"title\": \"Probability two random records match\", \"type\": \"nominal\"}, {\"field\": \"log2_bayes_factor\", \"format\": \",.4f\", \"title\": \"Equivalent match weight\", \"type\": \"quantitative\"}, {\"field\": \"bayes_factor_description\", \"title\": \"Match weight description\", \"type\": \"nominal\"}], \"x\": {\"axis\": {\"domain\": false, \"gridColor\": {\"condition\": {\"test\": \"abs(datum.value / 10)  <= 1 & datum.value % 10 === 0\", \"value\": \"#aaa\"}, \"value\": \"#ddd\"}, \"gridDash\": {\"condition\": {\"test\": \"abs(datum.value / 10) == 1\", \"value\": [3]}, \"value\": null}, \"gridWidth\": {\"condition\": {\"test\": \"abs(datum.value / 10)  <= 1 & datum.value % 10 === 0\", \"value\": 2}, \"value\": 1}, \"labels\": false, \"ticks\": false, \"title\": \"\"}, \"field\": \"log2_bayes_factor\", \"scale\": {\"domain\": [-10, 10]}, \"type\": \"quantitative\"}, \"y\": {\"axis\": {\"title\": \"Prior (starting) match weight\", \"titleAlign\": \"right\", \"titleAngle\": 0, \"titleFontWeight\": \"normal\"}, \"field\": \"label_for_charts\", \"sort\": {\"field\": \"comparison_vector_value\", \"order\": \"descending\"}, \"type\": \"nominal\"}}, \"height\": 20, \"transform\": [{\"filter\": \"(datum.comparison_name == 'probability_two_random_records_match')\"}]}, {\"mark\": {\"type\": \"bar\", \"clip\": true}, \"encoding\": {\"color\": {\"field\": \"log2_bayes_factor\", \"scale\": {\"domain\": [-10, 0, 10], \"interpolate\": \"lab\", \"range\": [\"red\", \"#bbbbbb\", \"green\"]}, \"title\": \"Match weight\", \"type\": \"quantitative\"}, \"row\": {\"field\": \"comparison_name\", \"header\": {\"labelAlign\": \"left\", \"labelAnchor\": \"middle\", \"labelAngle\": 0}, \"sort\": {\"field\": \"comparison_sort_order\"}, \"type\": \"nominal\"}, \"tooltip\": [{\"field\": \"comparison_name\", \"title\": \"Comparison name\", \"type\": \"nominal\"}, {\"field\": \"label_for_charts\", \"title\": \"Label\", \"type\": \"ordinal\"}, {\"field\": \"sql_condition\", \"title\": \"SQL condition\", \"type\": \"nominal\"}, {\"field\": \"m_probability\", \"format\": \".4f\", \"title\": \"M probability\", \"type\": \"quantitative\"}, {\"field\": \"u_probability\", \"format\": \".4f\", \"title\": \"U probability\", \"type\": \"quantitative\"}, {\"field\": \"bayes_factor\", \"format\": \",.4f\", \"title\": \"Bayes factor = m/u\", \"type\": \"quantitative\"}, {\"field\": \"log2_bayes_factor\", \"format\": \",.4f\", \"title\": \"Match weight = log2(m/u)\", \"type\": \"quantitative\"}, {\"field\": \"bayes_factor_description\", \"title\": \"Match weight description\", \"type\": \"nominal\"}], \"x\": {\"axis\": {\"gridColor\": {\"condition\": {\"test\": \"abs(datum.value / 10)  <= 1 & datum.value % 10 === 0\", \"value\": \"#aaa\"}, \"value\": \"#ddd\"}, \"gridDash\": {\"condition\": {\"test\": \"abs(datum.value / 10) == 1\", \"value\": [3]}, \"value\": null}, \"gridWidth\": {\"condition\": {\"test\": \"abs(datum.value / 10)  <= 1 & datum.value % 10 === 0\", \"value\": 2}, \"value\": 1}, \"title\": \"Comparison level match weight = log2(m/u)\"}, \"field\": \"log2_bayes_factor\", \"scale\": {\"domain\": [-10, 10]}, \"type\": \"quantitative\"}, \"y\": {\"axis\": {\"title\": null}, \"field\": \"label_for_charts\", \"sort\": {\"field\": \"comparison_vector_value\", \"order\": \"descending\"}, \"type\": \"nominal\"}}, \"height\": {\"step\": 12}, \"resolve\": {\"axis\": {\"y\": \"independent\"}, \"scale\": {\"y\": \"independent\"}}, \"transform\": [{\"filter\": \"(datum.comparison_name != 'probability_two_random_records_match')\"}]}], \"data\": {\"name\": \"data-935927f8e4f430982ea13992217be6ff\"}, \"params\": [{\"name\": \"iteration_number\", \"bind\": {\"input\": \"range\", \"max\": 4, \"min\": 0, \"step\": 1}, \"value\": 4}, {\"name\": \"mouse_zoom\", \"select\": {\"type\": \"interval\", \"encodings\": [\"x\"]}, \"bind\": \"scales\", \"views\": []}], \"resolve\": {\"axis\": {\"y\": \"independent\"}, \"scale\": {\"y\": \"independent\"}}, \"title\": {\"text\": \"Model parameters (components of final match weight)\", \"subtitle\": \"Training session blocked on <Custom blocking rule using SQL: l.first_name_15 = r.first_name_15 and l.zipcode = r.zipcode>\"}, \"transform\": [{\"filter\": \"(datum.iteration == iteration_number)\"}], \"$schema\": \"https://vega.github.io/schema/vega-lite/v5.9.3.json\", \"datasets\": {\"data-935927f8e4f430982ea13992217be6ff\": [{\"comparison_name\": \"probability_two_random_records_match\", \"sql_condition\": null, \"label_for_charts\": \"\", \"m_probability\": null, \"u_probability\": null, \"m_probability_description\": null, \"u_probability_description\": null, \"has_tf_adjustments\": false, \"tf_adjustment_column\": null, \"tf_adjustment_weight\": null, \"is_null_level\": false, \"bayes_factor\": 8.788203835373998e-05, \"log2_bayes_factor\": -13.47407214212751, \"comparison_vector_value\": 0, \"max_comparison_vector_value\": 0, \"bayes_factor_description\": \"The probability that two random records drawn at random match is 0.000 or one in  11,379.9 records.This is equivalent to a starting match weight of -13.474.\", \"probability_two_random_records_match\": 8.787431577975032e-05, \"comparison_sort_order\": -1, \"iteration\": 0}, {\"comparison_name\": \"last_name_12\", \"sql_condition\": \"`last_name_12_l` = `last_name_12_r`\", \"label_for_charts\": \"Exact match\", \"m_probability\": 0.95, \"u_probability\": 0.0004849346356234464, \"m_probability_description\": \"Amongst matching record comparisons, 95.00% of records are in the exact match comparison level\", \"u_probability_description\": \"Amongst non-matching record comparisons, 0.05% of records are in the exact match comparison level\", \"has_tf_adjustments\": false, \"tf_adjustment_column\": null, \"tf_adjustment_weight\": 1.0, \"is_null_level\": false, \"bayes_factor\": 1959.0269083969465, \"log2_bayes_factor\": 10.935921498676072, \"comparison_vector_value\": 2, \"max_comparison_vector_value\": 2, \"bayes_factor_description\": \"If comparison level is `exact match` then comparison is 1,959.03 times more likely to be a match\", \"probability_two_random_records_match\": 8.787431577975032e-05, \"comparison_sort_order\": 0, \"iteration\": 0}, {\"comparison_name\": \"last_name_12\", \"sql_condition\": \"jaro_winkler(`last_name_12_l`, `last_name_12_r`) >= 0.8333333333333334\", \"label_for_charts\": \"Jaro_winkler >= 0.8333333333333334\", \"m_probability\": 0.025000000000000022, \"u_probability\": 0.0012152157599232165, \"m_probability_description\": \"Amongst matching record comparisons, 2.50% of records are in the jaro_winkler >= 0.8333333333333334 comparison level\", \"u_probability_description\": \"Amongst non-matching record comparisons, 0.12% of records are in the jaro_winkler >= 0.8333333333333334 comparison level\", \"has_tf_adjustments\": false, \"tf_adjustment_column\": null, \"tf_adjustment_weight\": 1.0, \"is_null_level\": false, \"bayes_factor\": 20.572478422744986, \"log2_bayes_factor\": 4.362643704638061, \"comparison_vector_value\": 1, \"max_comparison_vector_value\": 2, \"bayes_factor_description\": \"If comparison level is `jaro_winkler >= 0.8333333333333334` then comparison is 20.57 times more likely to be a match\", \"probability_two_random_records_match\": 8.787431577975032e-05, \"comparison_sort_order\": 0, \"iteration\": 0}, {\"comparison_name\": \"last_name_12\", \"sql_condition\": \"ELSE\", \"label_for_charts\": \"All other comparisons\", \"m_probability\": 0.025000000000000022, \"u_probability\": 0.9982998496044533, \"m_probability_description\": \"Amongst matching record comparisons, 2.50% of records are in the all other comparisons comparison level\", \"u_probability_description\": \"Amongst non-matching record comparisons, 99.83% of records are in the all other comparisons comparison level\", \"has_tf_adjustments\": false, \"tf_adjustment_column\": null, \"tf_adjustment_weight\": 1.0, \"is_null_level\": false, \"bayes_factor\": 0.02504257614573971, \"log2_bayes_factor\": -5.3194732089134344, \"comparison_vector_value\": 0, \"max_comparison_vector_value\": 2, \"bayes_factor_description\": \"If comparison level is `all other comparisons` then comparison is  39.93 times less likely to be a match\", \"probability_two_random_records_match\": 8.787431577975032e-05, \"comparison_sort_order\": 0, \"iteration\": 0}, {\"comparison_name\": \"middle_initial\", \"sql_condition\": \"`middle_initial_l` = `middle_initial_r`\", \"label_for_charts\": \"Exact match\", \"m_probability\": 0.95, \"u_probability\": 0.06649740874668783, \"m_probability_description\": \"Amongst matching record comparisons, 95.00% of records are in the exact match comparison level\", \"u_probability_description\": \"Amongst non-matching record comparisons, 6.65% of records are in the exact match comparison level\", \"has_tf_adjustments\": false, \"tf_adjustment_column\": null, \"tf_adjustment_weight\": 1.0, \"is_null_level\": false, \"bayes_factor\": 14.286270967623508, \"log2_bayes_factor\": 3.836557485177879, \"comparison_vector_value\": 1, \"max_comparison_vector_value\": 1, \"bayes_factor_description\": \"If comparison level is `exact match` then comparison is 14.29 times more likely to be a match\", \"probability_two_random_records_match\": 8.787431577975032e-05, \"comparison_sort_order\": 1, \"iteration\": 0}, {\"comparison_name\": \"middle_initial\", \"sql_condition\": \"ELSE\", \"label_for_charts\": \"All other comparisons\", \"m_probability\": 0.050000000000000044, \"u_probability\": 0.9335025912533121, \"m_probability_description\": \"Amongst matching record comparisons, 5.00% of records are in the all other comparisons comparison level\", \"u_probability_description\": \"Amongst non-matching record comparisons, 93.35% of records are in the all other comparisons comparison level\", \"has_tf_adjustments\": false, \"tf_adjustment_column\": null, \"tf_adjustment_weight\": 1.0, \"is_null_level\": false, \"bayes_factor\": 0.053561715273731055, \"log2_bayes_factor\": -4.222654027146832, \"comparison_vector_value\": 0, \"max_comparison_vector_value\": 1, \"bayes_factor_description\": \"If comparison level is `all other comparisons` then comparison is  18.67 times less likely to be a match\", \"probability_two_random_records_match\": 8.787431577975032e-05, \"comparison_sort_order\": 1, \"iteration\": 0}, {\"comparison_name\": \"day_of_birth\", \"sql_condition\": \"`day_of_birth_l` = `day_of_birth_r`\", \"label_for_charts\": \"Exact match\", \"m_probability\": 0.95, \"u_probability\": 0.03263074146367179, \"m_probability_description\": \"Amongst matching record comparisons, 95.00% of records are in the exact match comparison level\", \"u_probability_description\": \"Amongst non-matching record comparisons, 3.26% of records are in the exact match comparison level\", \"has_tf_adjustments\": false, \"tf_adjustment_column\": null, \"tf_adjustment_weight\": 1.0, \"is_null_level\": false, \"bayes_factor\": 29.1136504224903, \"log2_bayes_factor\": 4.863623838375617, \"comparison_vector_value\": 2, \"max_comparison_vector_value\": 2, \"bayes_factor_description\": \"If comparison level is `exact match` then comparison is 29.11 times more likely to be a match\", \"probability_two_random_records_match\": 8.787431577975032e-05, \"comparison_sort_order\": 2, \"iteration\": 0}, {\"comparison_name\": \"day_of_birth\", \"sql_condition\": \"abs(day_of_birth_l - day_of_birth_r) <= 5\", \"label_for_charts\": \"Inexact match\", \"m_probability\": 0.025000000000000022, \"u_probability\": 0.29448557752556886, \"m_probability_description\": \"Amongst matching record comparisons, 2.50% of records are in the inexact match comparison level\", \"u_probability_description\": \"Amongst non-matching record comparisons, 29.45% of records are in the inexact match comparison level\", \"has_tf_adjustments\": false, \"tf_adjustment_column\": null, \"tf_adjustment_weight\": 1.0, \"is_null_level\": false, \"bayes_factor\": 0.08489380094625987, \"log2_bayes_factor\": -3.5581969795842596, \"comparison_vector_value\": 1, \"max_comparison_vector_value\": 2, \"bayes_factor_description\": \"If comparison level is `inexact match` then comparison is  11.78 times less likely to be a match\", \"probability_two_random_records_match\": 8.787431577975032e-05, \"comparison_sort_order\": 2, \"iteration\": 0}, {\"comparison_name\": \"day_of_birth\", \"sql_condition\": \"ELSE\", \"label_for_charts\": \"All other comparisons\", \"m_probability\": 0.025000000000000022, \"u_probability\": 0.6728836810107593, \"m_probability_description\": \"Amongst matching record comparisons, 2.50% of records are in the all other comparisons comparison level\", \"u_probability_description\": \"Amongst non-matching record comparisons, 67.29% of records are in the all other comparisons comparison level\", \"has_tf_adjustments\": false, \"tf_adjustment_column\": null, \"tf_adjustment_weight\": 1.0, \"is_null_level\": false, \"bayes_factor\": 0.03715352401242181, \"log2_bayes_factor\": -4.7503571328702066, \"comparison_vector_value\": 0, \"max_comparison_vector_value\": 2, \"bayes_factor_description\": \"If comparison level is `all other comparisons` then comparison is  26.92 times less likely to be a match\", \"probability_two_random_records_match\": 8.787431577975032e-05, \"comparison_sort_order\": 2, \"iteration\": 0}, {\"comparison_name\": \"month_of_birth\", \"sql_condition\": \"`month_of_birth_l` = `month_of_birth_r`\", \"label_for_charts\": \"Exact match\", \"m_probability\": 0.95, \"u_probability\": 0.08335009639337561, \"m_probability_description\": \"Amongst matching record comparisons, 95.00% of records are in the exact match comparison level\", \"u_probability_description\": \"Amongst non-matching record comparisons, 8.34% of records are in the exact match comparison level\", \"has_tf_adjustments\": false, \"tf_adjustment_column\": null, \"tf_adjustment_weight\": 1.0, \"is_null_level\": false, \"bayes_factor\": 11.397707274583341, \"log2_bayes_factor\": 3.510671740658973, \"comparison_vector_value\": 2, \"max_comparison_vector_value\": 2, \"bayes_factor_description\": \"If comparison level is `exact match` then comparison is 11.40 times more likely to be a match\", \"probability_two_random_records_match\": 8.787431577975032e-05, \"comparison_sort_order\": 3, \"iteration\": 0}, {\"comparison_name\": \"month_of_birth\", \"sql_condition\": \"abs(month_of_birth_l - month_of_birth_r) <= 3\", \"label_for_charts\": \"Inexact match\", \"m_probability\": 0.025000000000000022, \"u_probability\": 0.42042112968689377, \"m_probability_description\": \"Amongst matching record comparisons, 2.50% of records are in the inexact match comparison level\", \"u_probability_description\": \"Amongst non-matching record comparisons, 42.04% of records are in the inexact match comparison level\", \"has_tf_adjustments\": false, \"tf_adjustment_column\": null, \"tf_adjustment_weight\": 1.0, \"is_null_level\": false, \"bayes_factor\": 0.05946418539576883, \"log2_bayes_factor\": -4.071835178644652, \"comparison_vector_value\": 1, \"max_comparison_vector_value\": 2, \"bayes_factor_description\": \"If comparison level is `inexact match` then comparison is  16.82 times less likely to be a match\", \"probability_two_random_records_match\": 8.787431577975032e-05, \"comparison_sort_order\": 3, \"iteration\": 0}, {\"comparison_name\": \"month_of_birth\", \"sql_condition\": \"ELSE\", \"label_for_charts\": \"All other comparisons\", \"m_probability\": 0.025000000000000022, \"u_probability\": 0.4962287739197306, \"m_probability_description\": \"Amongst matching record comparisons, 2.50% of records are in the all other comparisons comparison level\", \"u_probability_description\": \"Amongst non-matching record comparisons, 49.62% of records are in the all other comparisons comparison level\", \"has_tf_adjustments\": false, \"tf_adjustment_column\": null, \"tf_adjustment_weight\": 1.0, \"is_null_level\": false, \"bayes_factor\": 0.05037998865427339, \"log2_bayes_factor\": -4.311005392601843, \"comparison_vector_value\": 0, \"max_comparison_vector_value\": 2, \"bayes_factor_description\": \"If comparison level is `all other comparisons` then comparison is  19.85 times less likely to be a match\", \"probability_two_random_records_match\": 8.787431577975032e-05, \"comparison_sort_order\": 3, \"iteration\": 0}, {\"comparison_name\": \"year_of_birth\", \"sql_condition\": \"`year_of_birth_l` = `year_of_birth_r`\", \"label_for_charts\": \"Exact match\", \"m_probability\": 0.95, \"u_probability\": 0.010907318543921298, \"m_probability_description\": \"Amongst matching record comparisons, 95.00% of records are in the exact match comparison level\", \"u_probability_description\": \"Amongst non-matching record comparisons, 1.09% of records are in the exact match comparison level\", \"has_tf_adjustments\": false, \"tf_adjustment_column\": null, \"tf_adjustment_weight\": 1.0, \"is_null_level\": false, \"bayes_factor\": 87.09748378344003, \"log2_bayes_factor\": 6.44455913534653, \"comparison_vector_value\": 2, \"max_comparison_vector_value\": 2, \"bayes_factor_description\": \"If comparison level is `exact match` then comparison is 87.10 times more likely to be a match\", \"probability_two_random_records_match\": 8.787431577975032e-05, \"comparison_sort_order\": 4, \"iteration\": 0}, {\"comparison_name\": \"year_of_birth\", \"sql_condition\": \"abs(year_of_birth_l - year_of_birth_r) <= 5\", \"label_for_charts\": \"Inexact match\", \"m_probability\": 0.025000000000000022, \"u_probability\": 0.10780150502221279, \"m_probability_description\": \"Amongst matching record comparisons, 2.50% of records are in the inexact match comparison level\", \"u_probability_description\": \"Amongst non-matching record comparisons, 10.78% of records are in the inexact match comparison level\", \"has_tf_adjustments\": false, \"tf_adjustment_column\": null, \"tf_adjustment_weight\": 1.0, \"is_null_level\": false, \"bayes_factor\": 0.23190770847632142, \"log2_bayes_factor\": -2.108377319768766, \"comparison_vector_value\": 1, \"max_comparison_vector_value\": 2, \"bayes_factor_description\": \"If comparison level is `inexact match` then comparison is  4.31 times less likely to be a match\", \"probability_two_random_records_match\": 8.787431577975032e-05, \"comparison_sort_order\": 4, \"iteration\": 0}, {\"comparison_name\": \"year_of_birth\", \"sql_condition\": \"ELSE\", \"label_for_charts\": \"All other comparisons\", \"m_probability\": 0.025000000000000022, \"u_probability\": 0.8812911764338659, \"m_probability_description\": \"Amongst matching record comparisons, 2.50% of records are in the all other comparisons comparison level\", \"u_probability_description\": \"Amongst non-matching record comparisons, 88.13% of records are in the all other comparisons comparison level\", \"has_tf_adjustments\": false, \"tf_adjustment_column\": null, \"tf_adjustment_weight\": 1.0, \"is_null_level\": false, \"bayes_factor\": 0.028367468855369934, \"log2_bayes_factor\": -5.139618760794971, \"comparison_vector_value\": 0, \"max_comparison_vector_value\": 2, \"bayes_factor_description\": \"If comparison level is `all other comparisons` then comparison is  35.25 times less likely to be a match\", \"probability_two_random_records_match\": 8.787431577975032e-05, \"comparison_sort_order\": 4, \"iteration\": 0}, {\"comparison_name\": \"geokey\", \"sql_condition\": \"`geokey_l` = `geokey_r`\", \"label_for_charts\": \"Exact match\", \"m_probability\": 0.95, \"u_probability\": 0.000645503792157887, \"m_probability_description\": \"Amongst matching record comparisons, 95.00% of records are in the exact match comparison level\", \"u_probability_description\": \"Amongst non-matching record comparisons, 0.06% of records are in the exact match comparison level\", \"has_tf_adjustments\": false, \"tf_adjustment_column\": null, \"tf_adjustment_weight\": 1.0, \"is_null_level\": false, \"bayes_factor\": 1471.7186971500157, \"log2_bayes_factor\": 10.523286227110297, \"comparison_vector_value\": 2, \"max_comparison_vector_value\": 2, \"bayes_factor_description\": \"If comparison level is `exact match` then comparison is 1,471.72 times more likely to be a match\", \"probability_two_random_records_match\": 8.787431577975032e-05, \"comparison_sort_order\": 5, \"iteration\": 0}, {\"comparison_name\": \"geokey\", \"sql_condition\": \"jaro_winkler(`geokey_l`, `geokey_r`) >= 0.7222222222222222\", \"label_for_charts\": \"Jaro_winkler >= 0.7222222222222222\", \"m_probability\": 0.025000000000000022, \"u_probability\": 0.02044314350845159, \"m_probability_description\": \"Amongst matching record comparisons, 2.50% of records are in the jaro_winkler >= 0.7222222222222222 comparison level\", \"u_probability_description\": \"Amongst non-matching record comparisons, 2.04% of records are in the jaro_winkler >= 0.7222222222222222 comparison level\", \"has_tf_adjustments\": false, \"tf_adjustment_column\": null, \"tf_adjustment_weight\": 1.0, \"is_null_level\": false, \"bayes_factor\": 1.22290390368118, \"log2_bayes_factor\": 0.2903110407176534, \"comparison_vector_value\": 1, \"max_comparison_vector_value\": 2, \"bayes_factor_description\": \"If comparison level is `jaro_winkler >= 0.7222222222222222` then comparison is 1.22 times more likely to be a match\", \"probability_two_random_records_match\": 8.787431577975032e-05, \"comparison_sort_order\": 5, \"iteration\": 0}, {\"comparison_name\": \"geokey\", \"sql_condition\": \"ELSE\", \"label_for_charts\": \"All other comparisons\", \"m_probability\": 0.025000000000000022, \"u_probability\": 0.9789113526993906, \"m_probability_description\": \"Amongst matching record comparisons, 2.50% of records are in the all other comparisons comparison level\", \"u_probability_description\": \"Amongst non-matching record comparisons, 97.89% of records are in the all other comparisons comparison level\", \"has_tf_adjustments\": false, \"tf_adjustment_column\": null, \"tf_adjustment_weight\": 1.0, \"is_null_level\": false, \"bayes_factor\": 0.025538573979208064, \"log2_bayes_factor\": -5.291178219572056, \"comparison_vector_value\": 0, \"max_comparison_vector_value\": 2, \"bayes_factor_description\": \"If comparison level is `all other comparisons` then comparison is  39.16 times less likely to be a match\", \"probability_two_random_records_match\": 8.787431577975032e-05, \"comparison_sort_order\": 5, \"iteration\": 0}, {\"comparison_name\": \"probability_two_random_records_match\", \"sql_condition\": null, \"label_for_charts\": \"\", \"m_probability\": null, \"u_probability\": null, \"m_probability_description\": null, \"u_probability_description\": null, \"has_tf_adjustments\": false, \"tf_adjustment_column\": null, \"tf_adjustment_weight\": null, \"is_null_level\": false, \"bayes_factor\": 8.788203835373998e-05, \"log2_bayes_factor\": -13.47407214212751, \"comparison_vector_value\": 0, \"max_comparison_vector_value\": 0, \"bayes_factor_description\": \"The probability that two random records drawn at random match is 0.000 or one in  11,379.9 records.This is equivalent to a starting match weight of -13.474.\", \"probability_two_random_records_match\": 8.787431577975032e-05, \"comparison_sort_order\": -1, \"iteration\": 1}, {\"comparison_name\": \"last_name_12\", \"sql_condition\": \"`last_name_12_l` = `last_name_12_r`\", \"label_for_charts\": \"Exact match\", \"m_probability\": 0.8914704372046858, \"u_probability\": 0.0004849346356234464, \"m_probability_description\": \"Amongst matching record comparisons, 89.15% of records are in the exact match comparison level\", \"u_probability_description\": \"Amongst non-matching record comparisons, 0.05% of records are in the exact match comparison level\", \"has_tf_adjustments\": false, \"tf_adjustment_column\": null, \"tf_adjustment_weight\": 1.0, \"is_null_level\": false, \"bayes_factor\": 1838.331131078284, \"log2_bayes_factor\": 10.844180941461483, \"comparison_vector_value\": 2, \"max_comparison_vector_value\": 2, \"bayes_factor_description\": \"If comparison level is `exact match` then comparison is 1,838.33 times more likely to be a match\", \"probability_two_random_records_match\": 8.787431577975032e-05, \"comparison_sort_order\": 0, \"iteration\": 1}, {\"comparison_name\": \"last_name_12\", \"sql_condition\": \"jaro_winkler(`last_name_12_l`, `last_name_12_r`) >= 0.8333333333333334\", \"label_for_charts\": \"Jaro_winkler >= 0.8333333333333334\", \"m_probability\": 0.08554462137097925, \"u_probability\": 0.0012152157599232165, \"m_probability_description\": \"Amongst matching record comparisons, 8.55% of records are in the jaro_winkler >= 0.8333333333333334 comparison level\", \"u_probability_description\": \"Amongst non-matching record comparisons, 0.12% of records are in the jaro_winkler >= 0.8333333333333334 comparison level\", \"has_tf_adjustments\": false, \"tf_adjustment_column\": null, \"tf_adjustment_weight\": 1.0, \"is_null_level\": false, \"bayes_factor\": 70.39459509345434, \"log2_bayes_factor\": 6.137392757681557, \"comparison_vector_value\": 1, \"max_comparison_vector_value\": 2, \"bayes_factor_description\": \"If comparison level is `jaro_winkler >= 0.8333333333333334` then comparison is 70.39 times more likely to be a match\", \"probability_two_random_records_match\": 8.787431577975032e-05, \"comparison_sort_order\": 0, \"iteration\": 1}, {\"comparison_name\": \"last_name_12\", \"sql_condition\": \"ELSE\", \"label_for_charts\": \"All other comparisons\", \"m_probability\": 0.022984941424334954, \"u_probability\": 0.9982998496044533, \"m_probability_description\": \"Amongst matching record comparisons, 2.30% of records are in the all other comparisons comparison level\", \"u_probability_description\": \"Amongst non-matching record comparisons, 99.83% of records are in the all other comparisons comparison level\", \"has_tf_adjustments\": false, \"tf_adjustment_column\": null, \"tf_adjustment_weight\": 1.0, \"is_null_level\": false, \"bayes_factor\": 0.02302408583297098, \"log2_bayes_factor\": -5.4407123142581835, \"comparison_vector_value\": 0, \"max_comparison_vector_value\": 2, \"bayes_factor_description\": \"If comparison level is `all other comparisons` then comparison is  43.43 times less likely to be a match\", \"probability_two_random_records_match\": 8.787431577975032e-05, \"comparison_sort_order\": 0, \"iteration\": 1}, {\"comparison_name\": \"middle_initial\", \"sql_condition\": \"`middle_initial_l` = `middle_initial_r`\", \"label_for_charts\": \"Exact match\", \"m_probability\": 0.9427981805139869, \"u_probability\": 0.06649740874668783, \"m_probability_description\": \"Amongst matching record comparisons, 94.28% of records are in the exact match comparison level\", \"u_probability_description\": \"Amongst non-matching record comparisons, 6.65% of records are in the exact match comparison level\", \"has_tf_adjustments\": false, \"tf_adjustment_column\": null, \"tf_adjustment_weight\": 1.0, \"is_null_level\": false, \"bayes_factor\": 14.177968710110779, \"log2_bayes_factor\": 3.825578946098805, \"comparison_vector_value\": 1, \"max_comparison_vector_value\": 1, \"bayes_factor_description\": \"If comparison level is `exact match` then comparison is 14.18 times more likely to be a match\", \"probability_two_random_records_match\": 8.787431577975032e-05, \"comparison_sort_order\": 1, \"iteration\": 1}, {\"comparison_name\": \"middle_initial\", \"sql_condition\": \"ELSE\", \"label_for_charts\": \"All other comparisons\", \"m_probability\": 0.05720181948601319, \"u_probability\": 0.9335025912533121, \"m_probability_description\": \"Amongst matching record comparisons, 5.72% of records are in the all other comparisons comparison level\", \"u_probability_description\": \"Amongst non-matching record comparisons, 93.35% of records are in the all other comparisons comparison level\", \"has_tf_adjustments\": false, \"tf_adjustment_column\": null, \"tf_adjustment_weight\": 1.0, \"is_null_level\": false, \"bayes_factor\": 0.061276551368983925, \"log2_bayes_factor\": -4.028521084791018, \"comparison_vector_value\": 0, \"max_comparison_vector_value\": 1, \"bayes_factor_description\": \"If comparison level is `all other comparisons` then comparison is  16.32 times less likely to be a match\", \"probability_two_random_records_match\": 8.787431577975032e-05, \"comparison_sort_order\": 1, \"iteration\": 1}, {\"comparison_name\": \"day_of_birth\", \"sql_condition\": \"`day_of_birth_l` = `day_of_birth_r`\", \"label_for_charts\": \"Exact match\", \"m_probability\": 0.9769597422595675, \"u_probability\": 0.03263074146367179, \"m_probability_description\": \"Amongst matching record comparisons, 97.70% of records are in the exact match comparison level\", \"u_probability_description\": \"Amongst non-matching record comparisons, 3.26% of records are in the exact match comparison level\", \"has_tf_adjustments\": false, \"tf_adjustment_column\": null, \"tf_adjustment_weight\": 1.0, \"is_null_level\": false, \"bayes_factor\": 29.939857276832917, \"log2_bayes_factor\": 4.903995438979211, \"comparison_vector_value\": 2, \"max_comparison_vector_value\": 2, \"bayes_factor_description\": \"If comparison level is `exact match` then comparison is 29.94 times more likely to be a match\", \"probability_two_random_records_match\": 8.787431577975032e-05, \"comparison_sort_order\": 2, \"iteration\": 1}, {\"comparison_name\": \"day_of_birth\", \"sql_condition\": \"abs(day_of_birth_l - day_of_birth_r) <= 5\", \"label_for_charts\": \"Inexact match\", \"m_probability\": 0.014177270145417874, \"u_probability\": 0.29448557752556886, \"m_probability_description\": \"Amongst matching record comparisons, 1.42% of records are in the inexact match comparison level\", \"u_probability_description\": \"Amongst non-matching record comparisons, 29.45% of records are in the inexact match comparison level\", \"has_tf_adjustments\": false, \"tf_adjustment_column\": null, \"tf_adjustment_weight\": 1.0, \"is_null_level\": false, \"bayes_factor\": 0.04814249398745827, \"log2_bayes_factor\": -4.376545308241938, \"comparison_vector_value\": 1, \"max_comparison_vector_value\": 2, \"bayes_factor_description\": \"If comparison level is `inexact match` then comparison is  20.77 times less likely to be a match\", \"probability_two_random_records_match\": 8.787431577975032e-05, \"comparison_sort_order\": 2, \"iteration\": 1}, {\"comparison_name\": \"day_of_birth\", \"sql_condition\": \"ELSE\", \"label_for_charts\": \"All other comparisons\", \"m_probability\": 0.008862987595014641, \"u_probability\": 0.6728836810107593, \"m_probability_description\": \"Amongst matching record comparisons, 0.89% of records are in the all other comparisons comparison level\", \"u_probability_description\": \"Amongst non-matching record comparisons, 67.29% of records are in the all other comparisons comparison level\", \"has_tf_adjustments\": false, \"tf_adjustment_column\": null, \"tf_adjustment_weight\": 1.0, \"is_null_level\": false, \"bayes_factor\": 0.01317164889732691, \"log2_bayes_factor\": -6.246420228607684, \"comparison_vector_value\": 0, \"max_comparison_vector_value\": 2, \"bayes_factor_description\": \"If comparison level is `all other comparisons` then comparison is  75.92 times less likely to be a match\", \"probability_two_random_records_match\": 8.787431577975032e-05, \"comparison_sort_order\": 2, \"iteration\": 1}, {\"comparison_name\": \"month_of_birth\", \"sql_condition\": \"`month_of_birth_l` = `month_of_birth_r`\", \"label_for_charts\": \"Exact match\", \"m_probability\": 0.9822170357951128, \"u_probability\": 0.08335009639337561, \"m_probability_description\": \"Amongst matching record comparisons, 98.22% of records are in the exact match comparison level\", \"u_probability_description\": \"Amongst non-matching record comparisons, 8.34% of records are in the exact match comparison level\", \"has_tf_adjustments\": false, \"tf_adjustment_column\": null, \"tf_adjustment_weight\": 1.0, \"is_null_level\": false, \"bayes_factor\": 11.784233951685941, \"log2_bayes_factor\": 3.5587860723957156, \"comparison_vector_value\": 2, \"max_comparison_vector_value\": 2, \"bayes_factor_description\": \"If comparison level is `exact match` then comparison is 11.78 times more likely to be a match\", \"probability_two_random_records_match\": 8.787431577975032e-05, \"comparison_sort_order\": 3, \"iteration\": 1}, {\"comparison_name\": \"month_of_birth\", \"sql_condition\": \"abs(month_of_birth_l - month_of_birth_r) <= 3\", \"label_for_charts\": \"Inexact match\", \"m_probability\": 0.009721400409830711, \"u_probability\": 0.42042112968689377, \"m_probability_description\": \"Amongst matching record comparisons, 0.97% of records are in the inexact match comparison level\", \"u_probability_description\": \"Amongst non-matching record comparisons, 42.04% of records are in the inexact match comparison level\", \"has_tf_adjustments\": false, \"tf_adjustment_column\": null, \"tf_adjustment_weight\": 1.0, \"is_null_level\": false, \"bayes_factor\": 0.02312300625106704, \"log2_bayes_factor\": -5.434527213149034, \"comparison_vector_value\": 1, \"max_comparison_vector_value\": 2, \"bayes_factor_description\": \"If comparison level is `inexact match` then comparison is  43.25 times less likely to be a match\", \"probability_two_random_records_match\": 8.787431577975032e-05, \"comparison_sort_order\": 3, \"iteration\": 1}, {\"comparison_name\": \"month_of_birth\", \"sql_condition\": \"ELSE\", \"label_for_charts\": \"All other comparisons\", \"m_probability\": 0.008061563795056416, \"u_probability\": 0.4962287739197306, \"m_probability_description\": \"Amongst matching record comparisons, 0.81% of records are in the all other comparisons comparison level\", \"u_probability_description\": \"Amongst non-matching record comparisons, 49.62% of records are in the all other comparisons comparison level\", \"has_tf_adjustments\": false, \"tf_adjustment_column\": null, \"tf_adjustment_weight\": 1.0, \"is_null_level\": false, \"bayes_factor\": 0.01624565970122572, \"log2_bayes_factor\": -5.943801860181669, \"comparison_vector_value\": 0, \"max_comparison_vector_value\": 2, \"bayes_factor_description\": \"If comparison level is `all other comparisons` then comparison is  61.55 times less likely to be a match\", \"probability_two_random_records_match\": 8.787431577975032e-05, \"comparison_sort_order\": 3, \"iteration\": 1}, {\"comparison_name\": \"year_of_birth\", \"sql_condition\": \"`year_of_birth_l` = `year_of_birth_r`\", \"label_for_charts\": \"Exact match\", \"m_probability\": 0.9691897384519748, \"u_probability\": 0.010907318543921298, \"m_probability_description\": \"Amongst matching record comparisons, 96.92% of records are in the exact match comparison level\", \"u_probability_description\": \"Amongst non-matching record comparisons, 1.09% of records are in the exact match comparison level\", \"has_tf_adjustments\": false, \"tf_adjustment_column\": null, \"tf_adjustment_weight\": 1.0, \"is_null_level\": false, \"bayes_factor\": 88.85682897673406, \"log2_bayes_factor\": 6.473410751864698, \"comparison_vector_value\": 2, \"max_comparison_vector_value\": 2, \"bayes_factor_description\": \"If comparison level is `exact match` then comparison is 88.86 times more likely to be a match\", \"probability_two_random_records_match\": 8.787431577975032e-05, \"comparison_sort_order\": 4, \"iteration\": 1}, {\"comparison_name\": \"year_of_birth\", \"sql_condition\": \"abs(year_of_birth_l - year_of_birth_r) <= 5\", \"label_for_charts\": \"Inexact match\", \"m_probability\": 0.010205813535017752, \"u_probability\": 0.10780150502221279, \"m_probability_description\": \"Amongst matching record comparisons, 1.02% of records are in the inexact match comparison level\", \"u_probability_description\": \"Amongst non-matching record comparisons, 10.78% of records are in the inexact match comparison level\", \"has_tf_adjustments\": false, \"tf_adjustment_column\": null, \"tf_adjustment_weight\": 1.0, \"is_null_level\": false, \"bayes_factor\": 0.0946722732017036, \"log2_bayes_factor\": -3.400914226292786, \"comparison_vector_value\": 1, \"max_comparison_vector_value\": 2, \"bayes_factor_description\": \"If comparison level is `inexact match` then comparison is  10.56 times less likely to be a match\", \"probability_two_random_records_match\": 8.787431577975032e-05, \"comparison_sort_order\": 4, \"iteration\": 1}, {\"comparison_name\": \"year_of_birth\", \"sql_condition\": \"ELSE\", \"label_for_charts\": \"All other comparisons\", \"m_probability\": 0.020604448013007592, \"u_probability\": 0.8812911764338659, \"m_probability_description\": \"Amongst matching record comparisons, 2.06% of records are in the all other comparisons comparison level\", \"u_probability_description\": \"Amongst non-matching record comparisons, 88.13% of records are in the all other comparisons comparison level\", \"has_tf_adjustments\": false, \"tf_adjustment_column\": null, \"tf_adjustment_weight\": 1.0, \"is_null_level\": false, \"bayes_factor\": 0.023379841491643252, \"log2_bayes_factor\": -5.418591040914369, \"comparison_vector_value\": 0, \"max_comparison_vector_value\": 2, \"bayes_factor_description\": \"If comparison level is `all other comparisons` then comparison is  42.77 times less likely to be a match\", \"probability_two_random_records_match\": 8.787431577975032e-05, \"comparison_sort_order\": 4, \"iteration\": 1}, {\"comparison_name\": \"geokey\", \"sql_condition\": \"`geokey_l` = `geokey_r`\", \"label_for_charts\": \"Exact match\", \"m_probability\": 0.5401613654402956, \"u_probability\": 0.000645503792157887, \"m_probability_description\": \"Amongst matching record comparisons, 54.02% of records are in the exact match comparison level\", \"u_probability_description\": \"Amongst non-matching record comparisons, 0.06% of records are in the exact match comparison level\", \"has_tf_adjustments\": false, \"tf_adjustment_column\": null, \"tf_adjustment_weight\": 1.0, \"is_null_level\": false, \"bayes_factor\": 836.8058747332267, \"log2_bayes_factor\": 9.708749169728057, \"comparison_vector_value\": 2, \"max_comparison_vector_value\": 2, \"bayes_factor_description\": \"If comparison level is `exact match` then comparison is 836.81 times more likely to be a match\", \"probability_two_random_records_match\": 8.787431577975032e-05, \"comparison_sort_order\": 5, \"iteration\": 1}, {\"comparison_name\": \"geokey\", \"sql_condition\": \"jaro_winkler(`geokey_l`, `geokey_r`) >= 0.7222222222222222\", \"label_for_charts\": \"Jaro_winkler >= 0.7222222222222222\", \"m_probability\": 0.45320976905928834, \"u_probability\": 0.02044314350845159, \"m_probability_description\": \"Amongst matching record comparisons, 45.32% of records are in the jaro_winkler >= 0.7222222222222222 comparison level\", \"u_probability_description\": \"Amongst non-matching record comparisons, 2.04% of records are in the jaro_winkler >= 0.7222222222222222 comparison level\", \"has_tf_adjustments\": false, \"tf_adjustment_column\": null, \"tf_adjustment_weight\": 1.0, \"is_null_level\": false, \"bayes_factor\": 22.16927983076197, \"log2_bayes_factor\": 4.470489999893492, \"comparison_vector_value\": 1, \"max_comparison_vector_value\": 2, \"bayes_factor_description\": \"If comparison level is `jaro_winkler >= 0.7222222222222222` then comparison is 22.17 times more likely to be a match\", \"probability_two_random_records_match\": 8.787431577975032e-05, \"comparison_sort_order\": 5, \"iteration\": 1}, {\"comparison_name\": \"geokey\", \"sql_condition\": \"ELSE\", \"label_for_charts\": \"All other comparisons\", \"m_probability\": 0.006628865500416114, \"u_probability\": 0.9789113526993906, \"m_probability_description\": \"Amongst matching record comparisons, 0.66% of records are in the all other comparisons comparison level\", \"u_probability_description\": \"Amongst non-matching record comparisons, 97.89% of records are in the all other comparisons comparison level\", \"has_tf_adjustments\": false, \"tf_adjustment_column\": null, \"tf_adjustment_weight\": 1.0, \"is_null_level\": false, \"bayes_factor\": 0.006771670879223875, \"log2_bayes_factor\": -7.20627242844716, \"comparison_vector_value\": 0, \"max_comparison_vector_value\": 2, \"bayes_factor_description\": \"If comparison level is `all other comparisons` then comparison is  147.67 times less likely to be a match\", \"probability_two_random_records_match\": 8.787431577975032e-05, \"comparison_sort_order\": 5, \"iteration\": 1}, {\"comparison_name\": \"probability_two_random_records_match\", \"sql_condition\": null, \"label_for_charts\": \"\", \"m_probability\": null, \"u_probability\": null, \"m_probability_description\": null, \"u_probability_description\": null, \"has_tf_adjustments\": false, \"tf_adjustment_column\": null, \"tf_adjustment_weight\": null, \"is_null_level\": false, \"bayes_factor\": 8.788203835373998e-05, \"log2_bayes_factor\": -13.47407214212751, \"comparison_vector_value\": 0, \"max_comparison_vector_value\": 0, \"bayes_factor_description\": \"The probability that two random records drawn at random match is 0.000 or one in  11,379.9 records.This is equivalent to a starting match weight of -13.474.\", \"probability_two_random_records_match\": 8.787431577975032e-05, \"comparison_sort_order\": -1, \"iteration\": 2}, {\"comparison_name\": \"last_name_12\", \"sql_condition\": \"`last_name_12_l` = `last_name_12_r`\", \"label_for_charts\": \"Exact match\", \"m_probability\": 0.8852586066553771, \"u_probability\": 0.0004849346356234464, \"m_probability_description\": \"Amongst matching record comparisons, 88.53% of records are in the exact match comparison level\", \"u_probability_description\": \"Amongst non-matching record comparisons, 0.05% of records are in the exact match comparison level\", \"has_tf_adjustments\": false, \"tf_adjustment_column\": null, \"tf_adjustment_weight\": 1.0, \"is_null_level\": false, \"bayes_factor\": 1825.521506660918, \"log2_bayes_factor\": 10.834092950077055, \"comparison_vector_value\": 2, \"max_comparison_vector_value\": 2, \"bayes_factor_description\": \"If comparison level is `exact match` then comparison is 1,825.52 times more likely to be a match\", \"probability_two_random_records_match\": 8.787431577975032e-05, \"comparison_sort_order\": 0, \"iteration\": 2}, {\"comparison_name\": \"last_name_12\", \"sql_condition\": \"jaro_winkler(`last_name_12_l`, `last_name_12_r`) >= 0.8333333333333334\", \"label_for_charts\": \"Jaro_winkler >= 0.8333333333333334\", \"m_probability\": 0.08845664291832596, \"u_probability\": 0.0012152157599232165, \"m_probability_description\": \"Amongst matching record comparisons, 8.85% of records are in the jaro_winkler >= 0.8333333333333334 comparison level\", \"u_probability_description\": \"Amongst non-matching record comparisons, 0.12% of records are in the jaro_winkler >= 0.8333333333333334 comparison level\", \"has_tf_adjustments\": false, \"tf_adjustment_column\": null, \"tf_adjustment_weight\": 1.0, \"is_null_level\": false, \"bayes_factor\": 72.79089511142868, \"log2_bayes_factor\": 6.185686100269125, \"comparison_vector_value\": 1, \"max_comparison_vector_value\": 2, \"bayes_factor_description\": \"If comparison level is `jaro_winkler >= 0.8333333333333334` then comparison is 72.79 times more likely to be a match\", \"probability_two_random_records_match\": 8.787431577975032e-05, \"comparison_sort_order\": 0, \"iteration\": 2}, {\"comparison_name\": \"last_name_12\", \"sql_condition\": \"ELSE\", \"label_for_charts\": \"All other comparisons\", \"m_probability\": 0.026284750426296886, \"u_probability\": 0.9982998496044533, \"m_probability_description\": \"Amongst matching record comparisons, 2.63% of records are in the all other comparisons comparison level\", \"u_probability_description\": \"Amongst non-matching record comparisons, 99.83% of records are in the all other comparisons comparison level\", \"has_tf_adjustments\": false, \"tf_adjustment_column\": null, \"tf_adjustment_weight\": 1.0, \"is_null_level\": false, \"bayes_factor\": 0.02632951456089214, \"log2_bayes_factor\": -5.24717526721527, \"comparison_vector_value\": 0, \"max_comparison_vector_value\": 2, \"bayes_factor_description\": \"If comparison level is `all other comparisons` then comparison is  37.98 times less likely to be a match\", \"probability_two_random_records_match\": 8.787431577975032e-05, \"comparison_sort_order\": 0, \"iteration\": 2}, {\"comparison_name\": \"middle_initial\", \"sql_condition\": \"`middle_initial_l` = `middle_initial_r`\", \"label_for_charts\": \"Exact match\", \"m_probability\": 0.9422763825113708, \"u_probability\": 0.06649740874668783, \"m_probability_description\": \"Amongst matching record comparisons, 94.23% of records are in the exact match comparison level\", \"u_probability_description\": \"Amongst non-matching record comparisons, 6.65% of records are in the exact match comparison level\", \"has_tf_adjustments\": false, \"tf_adjustment_column\": null, \"tf_adjustment_weight\": 1.0, \"is_null_level\": false, \"bayes_factor\": 14.170121817841581, \"log2_bayes_factor\": 3.8247802557714174, \"comparison_vector_value\": 1, \"max_comparison_vector_value\": 1, \"bayes_factor_description\": \"If comparison level is `exact match` then comparison is 14.17 times more likely to be a match\", \"probability_two_random_records_match\": 8.787431577975032e-05, \"comparison_sort_order\": 1, \"iteration\": 2}, {\"comparison_name\": \"middle_initial\", \"sql_condition\": \"ELSE\", \"label_for_charts\": \"All other comparisons\", \"m_probability\": 0.05772361748862917, \"u_probability\": 0.9335025912533121, \"m_probability_description\": \"Amongst matching record comparisons, 5.77% of records are in the all other comparisons comparison level\", \"u_probability_description\": \"Amongst non-matching record comparisons, 93.35% of records are in the all other comparisons comparison level\", \"has_tf_adjustments\": false, \"tf_adjustment_column\": null, \"tf_adjustment_weight\": 1.0, \"is_null_level\": false, \"bayes_factor\": 0.061835519289914306, \"log2_bayes_factor\": -4.015420406935345, \"comparison_vector_value\": 0, \"max_comparison_vector_value\": 1, \"bayes_factor_description\": \"If comparison level is `all other comparisons` then comparison is  16.17 times less likely to be a match\", \"probability_two_random_records_match\": 8.787431577975032e-05, \"comparison_sort_order\": 1, \"iteration\": 2}, {\"comparison_name\": \"day_of_birth\", \"sql_condition\": \"`day_of_birth_l` = `day_of_birth_r`\", \"label_for_charts\": \"Exact match\", \"m_probability\": 0.978350411594729, \"u_probability\": 0.03263074146367179, \"m_probability_description\": \"Amongst matching record comparisons, 97.84% of records are in the exact match comparison level\", \"u_probability_description\": \"Amongst non-matching record comparisons, 3.26% of records are in the exact match comparison level\", \"has_tf_adjustments\": false, \"tf_adjustment_column\": null, \"tf_adjustment_weight\": 1.0, \"is_null_level\": false, \"bayes_factor\": 29.98247565670362, \"log2_bayes_factor\": 4.9060476065984435, \"comparison_vector_value\": 2, \"max_comparison_vector_value\": 2, \"bayes_factor_description\": \"If comparison level is `exact match` then comparison is 29.98 times more likely to be a match\", \"probability_two_random_records_match\": 8.787431577975032e-05, \"comparison_sort_order\": 2, \"iteration\": 2}, {\"comparison_name\": \"day_of_birth\", \"sql_condition\": \"abs(day_of_birth_l - day_of_birth_r) <= 5\", \"label_for_charts\": \"Inexact match\", \"m_probability\": 0.014108107246981074, \"u_probability\": 0.29448557752556886, \"m_probability_description\": \"Amongst matching record comparisons, 1.41% of records are in the inexact match comparison level\", \"u_probability_description\": \"Amongst non-matching record comparisons, 29.45% of records are in the inexact match comparison level\", \"has_tf_adjustments\": false, \"tf_adjustment_column\": null, \"tf_adjustment_weight\": 1.0, \"is_null_level\": false, \"bayes_factor\": 0.04790763393414786, \"log2_bayes_factor\": -4.383600626476898, \"comparison_vector_value\": 1, \"max_comparison_vector_value\": 2, \"bayes_factor_description\": \"If comparison level is `inexact match` then comparison is  20.87 times less likely to be a match\", \"probability_two_random_records_match\": 8.787431577975032e-05, \"comparison_sort_order\": 2, \"iteration\": 2}, {\"comparison_name\": \"day_of_birth\", \"sql_condition\": \"ELSE\", \"label_for_charts\": \"All other comparisons\", \"m_probability\": 0.007541481158290034, \"u_probability\": 0.6728836810107593, \"m_probability_description\": \"Amongst matching record comparisons, 0.75% of records are in the all other comparisons comparison level\", \"u_probability_description\": \"Amongst non-matching record comparisons, 67.29% of records are in the all other comparisons comparison level\", \"has_tf_adjustments\": false, \"tf_adjustment_column\": null, \"tf_adjustment_weight\": 1.0, \"is_null_level\": false, \"bayes_factor\": 0.011207704052150205, \"log2_bayes_factor\": -6.479365423837355, \"comparison_vector_value\": 0, \"max_comparison_vector_value\": 2, \"bayes_factor_description\": \"If comparison level is `all other comparisons` then comparison is  89.22 times less likely to be a match\", \"probability_two_random_records_match\": 8.787431577975032e-05, \"comparison_sort_order\": 2, \"iteration\": 2}, {\"comparison_name\": \"month_of_birth\", \"sql_condition\": \"`month_of_birth_l` = `month_of_birth_r`\", \"label_for_charts\": \"Exact match\", \"m_probability\": 0.9837356652287408, \"u_probability\": 0.08335009639337561, \"m_probability_description\": \"Amongst matching record comparisons, 98.37% of records are in the exact match comparison level\", \"u_probability_description\": \"Amongst non-matching record comparisons, 8.34% of records are in the exact match comparison level\", \"has_tf_adjustments\": false, \"tf_adjustment_column\": null, \"tf_adjustment_weight\": 1.0, \"is_null_level\": false, \"bayes_factor\": 11.802453839836529, \"log2_bayes_factor\": 3.5610149353663028, \"comparison_vector_value\": 2, \"max_comparison_vector_value\": 2, \"bayes_factor_description\": \"If comparison level is `exact match` then comparison is 11.80 times more likely to be a match\", \"probability_two_random_records_match\": 8.787431577975032e-05, \"comparison_sort_order\": 3, \"iteration\": 2}, {\"comparison_name\": \"month_of_birth\", \"sql_condition\": \"abs(month_of_birth_l - month_of_birth_r) <= 3\", \"label_for_charts\": \"Inexact match\", \"m_probability\": 0.009140171797583193, \"u_probability\": 0.42042112968689377, \"m_probability_description\": \"Amongst matching record comparisons, 0.91% of records are in the inexact match comparison level\", \"u_probability_description\": \"Amongst non-matching record comparisons, 42.04% of records are in the inexact match comparison level\", \"has_tf_adjustments\": false, \"tf_adjustment_column\": null, \"tf_adjustment_weight\": 1.0, \"is_null_level\": false, \"bayes_factor\": 0.021740514812826565, \"log2_bayes_factor\": -5.5234700861566015, \"comparison_vector_value\": 1, \"max_comparison_vector_value\": 2, \"bayes_factor_description\": \"If comparison level is `inexact match` then comparison is  46.00 times less likely to be a match\", \"probability_two_random_records_match\": 8.787431577975032e-05, \"comparison_sort_order\": 3, \"iteration\": 2}, {\"comparison_name\": \"month_of_birth\", \"sql_condition\": \"ELSE\", \"label_for_charts\": \"All other comparisons\", \"m_probability\": 0.007124162973676109, \"u_probability\": 0.4962287739197306, \"m_probability_description\": \"Amongst matching record comparisons, 0.71% of records are in the all other comparisons comparison level\", \"u_probability_description\": \"Amongst non-matching record comparisons, 49.62% of records are in the all other comparisons comparison level\", \"has_tf_adjustments\": false, \"tf_adjustment_column\": null, \"tf_adjustment_weight\": 1.0, \"is_null_level\": false, \"bayes_factor\": 0.014356609991399866, \"log2_bayes_factor\": -6.122141062199677, \"comparison_vector_value\": 0, \"max_comparison_vector_value\": 2, \"bayes_factor_description\": \"If comparison level is `all other comparisons` then comparison is  69.65 times less likely to be a match\", \"probability_two_random_records_match\": 8.787431577975032e-05, \"comparison_sort_order\": 3, \"iteration\": 2}, {\"comparison_name\": \"year_of_birth\", \"sql_condition\": \"`year_of_birth_l` = `year_of_birth_r`\", \"label_for_charts\": \"Exact match\", \"m_probability\": 0.970039118275932, \"u_probability\": 0.010907318543921298, \"m_probability_description\": \"Amongst matching record comparisons, 97.00% of records are in the exact match comparison level\", \"u_probability_description\": \"Amongst non-matching record comparisons, 1.09% of records are in the exact match comparison level\", \"has_tf_adjustments\": false, \"tf_adjustment_column\": null, \"tf_adjustment_weight\": 1.0, \"is_null_level\": false, \"bayes_factor\": 88.93470144562154, \"log2_bayes_factor\": 6.474674549207609, \"comparison_vector_value\": 2, \"max_comparison_vector_value\": 2, \"bayes_factor_description\": \"If comparison level is `exact match` then comparison is 88.93 times more likely to be a match\", \"probability_two_random_records_match\": 8.787431577975032e-05, \"comparison_sort_order\": 4, \"iteration\": 2}, {\"comparison_name\": \"year_of_birth\", \"sql_condition\": \"abs(year_of_birth_l - year_of_birth_r) <= 5\", \"label_for_charts\": \"Inexact match\", \"m_probability\": 0.009513275594578636, \"u_probability\": 0.10780150502221279, \"m_probability_description\": \"Amongst matching record comparisons, 0.95% of records are in the inexact match comparison level\", \"u_probability_description\": \"Amongst non-matching record comparisons, 10.78% of records are in the inexact match comparison level\", \"has_tf_adjustments\": false, \"tf_adjustment_column\": null, \"tf_adjustment_weight\": 1.0, \"is_null_level\": false, \"bayes_factor\": 0.08824807772969774, \"log2_bayes_factor\": -3.5022913366604405, \"comparison_vector_value\": 1, \"max_comparison_vector_value\": 2, \"bayes_factor_description\": \"If comparison level is `inexact match` then comparison is  11.33 times less likely to be a match\", \"probability_two_random_records_match\": 8.787431577975032e-05, \"comparison_sort_order\": 4, \"iteration\": 2}, {\"comparison_name\": \"year_of_birth\", \"sql_condition\": \"ELSE\", \"label_for_charts\": \"All other comparisons\", \"m_probability\": 0.02044760612948927, \"u_probability\": 0.8812911764338659, \"m_probability_description\": \"Amongst matching record comparisons, 2.04% of records are in the all other comparisons comparison level\", \"u_probability_description\": \"Amongst non-matching record comparisons, 88.13% of records are in the all other comparisons comparison level\", \"has_tf_adjustments\": false, \"tf_adjustment_column\": null, \"tf_adjustment_weight\": 1.0, \"is_null_level\": false, \"bayes_factor\": 0.02320187320180631, \"log2_bayes_factor\": -5.429614903824369, \"comparison_vector_value\": 0, \"max_comparison_vector_value\": 2, \"bayes_factor_description\": \"If comparison level is `all other comparisons` then comparison is  43.10 times less likely to be a match\", \"probability_two_random_records_match\": 8.787431577975032e-05, \"comparison_sort_order\": 4, \"iteration\": 2}, {\"comparison_name\": \"geokey\", \"sql_condition\": \"`geokey_l` = `geokey_r`\", \"label_for_charts\": \"Exact match\", \"m_probability\": 0.5245428443968823, \"u_probability\": 0.000645503792157887, \"m_probability_description\": \"Amongst matching record comparisons, 52.45% of records are in the exact match comparison level\", \"u_probability_description\": \"Amongst non-matching record comparisons, 0.06% of records are in the exact match comparison level\", \"has_tf_adjustments\": false, \"tf_adjustment_column\": null, \"tf_adjustment_weight\": 1.0, \"is_null_level\": false, \"bayes_factor\": 812.6100121633084, \"log2_bayes_factor\": 9.666419329890573, \"comparison_vector_value\": 2, \"max_comparison_vector_value\": 2, \"bayes_factor_description\": \"If comparison level is `exact match` then comparison is 812.61 times more likely to be a match\", \"probability_two_random_records_match\": 8.787431577975032e-05, \"comparison_sort_order\": 5, \"iteration\": 2}, {\"comparison_name\": \"geokey\", \"sql_condition\": \"jaro_winkler(`geokey_l`, `geokey_r`) >= 0.7222222222222222\", \"label_for_charts\": \"Jaro_winkler >= 0.7222222222222222\", \"m_probability\": 0.46926970376758936, \"u_probability\": 0.02044314350845159, \"m_probability_description\": \"Amongst matching record comparisons, 46.93% of records are in the jaro_winkler >= 0.7222222222222222 comparison level\", \"u_probability_description\": \"Amongst non-matching record comparisons, 2.04% of records are in the jaro_winkler >= 0.7222222222222222 comparison level\", \"has_tf_adjustments\": false, \"tf_adjustment_column\": null, \"tf_adjustment_weight\": 1.0, \"is_null_level\": false, \"bayes_factor\": 22.954870104667815, \"log2_bayes_factor\": 4.5207283631440545, \"comparison_vector_value\": 1, \"max_comparison_vector_value\": 2, \"bayes_factor_description\": \"If comparison level is `jaro_winkler >= 0.7222222222222222` then comparison is 22.95 times more likely to be a match\", \"probability_two_random_records_match\": 8.787431577975032e-05, \"comparison_sort_order\": 5, \"iteration\": 2}, {\"comparison_name\": \"geokey\", \"sql_condition\": \"ELSE\", \"label_for_charts\": \"All other comparisons\", \"m_probability\": 0.006187451835528332, \"u_probability\": 0.9789113526993906, \"m_probability_description\": \"Amongst matching record comparisons, 0.62% of records are in the all other comparisons comparison level\", \"u_probability_description\": \"Amongst non-matching record comparisons, 97.89% of records are in the all other comparisons comparison level\", \"has_tf_adjustments\": false, \"tf_adjustment_column\": null, \"tf_adjustment_weight\": 1.0, \"is_null_level\": false, \"bayes_factor\": 0.006320747857777076, \"log2_bayes_factor\": -7.305689019475636, \"comparison_vector_value\": 0, \"max_comparison_vector_value\": 2, \"bayes_factor_description\": \"If comparison level is `all other comparisons` then comparison is  158.21 times less likely to be a match\", \"probability_two_random_records_match\": 8.787431577975032e-05, \"comparison_sort_order\": 5, \"iteration\": 2}, {\"comparison_name\": \"probability_two_random_records_match\", \"sql_condition\": null, \"label_for_charts\": \"\", \"m_probability\": null, \"u_probability\": null, \"m_probability_description\": null, \"u_probability_description\": null, \"has_tf_adjustments\": false, \"tf_adjustment_column\": null, \"tf_adjustment_weight\": null, \"is_null_level\": false, \"bayes_factor\": 8.788203835373998e-05, \"log2_bayes_factor\": -13.47407214212751, \"comparison_vector_value\": 0, \"max_comparison_vector_value\": 0, \"bayes_factor_description\": \"The probability that two random records drawn at random match is 0.000 or one in  11,379.9 records.This is equivalent to a starting match weight of -13.474.\", \"probability_two_random_records_match\": 8.787431577975032e-05, \"comparison_sort_order\": -1, \"iteration\": 3}, {\"comparison_name\": \"last_name_12\", \"sql_condition\": \"`last_name_12_l` = `last_name_12_r`\", \"label_for_charts\": \"Exact match\", \"m_probability\": 0.884930979224685, \"u_probability\": 0.0004849346356234464, \"m_probability_description\": \"Amongst matching record comparisons, 88.49% of records are in the exact match comparison level\", \"u_probability_description\": \"Amongst non-matching record comparisons, 0.05% of records are in the exact match comparison level\", \"has_tf_adjustments\": false, \"tf_adjustment_column\": null, \"tf_adjustment_weight\": 1.0, \"is_null_level\": false, \"bayes_factor\": 1824.8458951318075, \"log2_bayes_factor\": 10.833558920864945, \"comparison_vector_value\": 2, \"max_comparison_vector_value\": 2, \"bayes_factor_description\": \"If comparison level is `exact match` then comparison is 1,824.85 times more likely to be a match\", \"probability_two_random_records_match\": 8.787431577975032e-05, \"comparison_sort_order\": 0, \"iteration\": 3}, {\"comparison_name\": \"last_name_12\", \"sql_condition\": \"jaro_winkler(`last_name_12_l`, `last_name_12_r`) >= 0.8333333333333334\", \"label_for_charts\": \"Jaro_winkler >= 0.8333333333333334\", \"m_probability\": 0.08851003793181007, \"u_probability\": 0.0012152157599232165, \"m_probability_description\": \"Amongst matching record comparisons, 8.85% of records are in the jaro_winkler >= 0.8333333333333334 comparison level\", \"u_probability_description\": \"Amongst non-matching record comparisons, 0.12% of records are in the jaro_winkler >= 0.8333333333333334 comparison level\", \"has_tf_adjustments\": false, \"tf_adjustment_column\": null, \"tf_adjustment_weight\": 1.0, \"is_null_level\": false, \"bayes_factor\": 72.83483382194005, \"log2_bayes_factor\": 6.186556690406537, \"comparison_vector_value\": 1, \"max_comparison_vector_value\": 2, \"bayes_factor_description\": \"If comparison level is `jaro_winkler >= 0.8333333333333334` then comparison is 72.83 times more likely to be a match\", \"probability_two_random_records_match\": 8.787431577975032e-05, \"comparison_sort_order\": 0, \"iteration\": 3}, {\"comparison_name\": \"last_name_12\", \"sql_condition\": \"ELSE\", \"label_for_charts\": \"All other comparisons\", \"m_probability\": 0.026558982843504882, \"u_probability\": 0.9982998496044533, \"m_probability_description\": \"Amongst matching record comparisons, 2.66% of records are in the all other comparisons comparison level\", \"u_probability_description\": \"Amongst non-matching record comparisons, 99.83% of records are in the all other comparisons comparison level\", \"has_tf_adjustments\": false, \"tf_adjustment_column\": null, \"tf_adjustment_weight\": 1.0, \"is_null_level\": false, \"bayes_factor\": 0.0266042140084746, \"log2_bayes_factor\": -5.232201408423608, \"comparison_vector_value\": 0, \"max_comparison_vector_value\": 2, \"bayes_factor_description\": \"If comparison level is `all other comparisons` then comparison is  37.59 times less likely to be a match\", \"probability_two_random_records_match\": 8.787431577975032e-05, \"comparison_sort_order\": 0, \"iteration\": 3}, {\"comparison_name\": \"middle_initial\", \"sql_condition\": \"`middle_initial_l` = `middle_initial_r`\", \"label_for_charts\": \"Exact match\", \"m_probability\": 0.9422366610798629, \"u_probability\": 0.06649740874668783, \"m_probability_description\": \"Amongst matching record comparisons, 94.22% of records are in the exact match comparison level\", \"u_probability_description\": \"Amongst non-matching record comparisons, 6.65% of records are in the exact match comparison level\", \"has_tf_adjustments\": false, \"tf_adjustment_column\": null, \"tf_adjustment_weight\": 1.0, \"is_null_level\": false, \"bayes_factor\": 14.16952447980606, \"log2_bayes_factor\": 3.824719438031305, \"comparison_vector_value\": 1, \"max_comparison_vector_value\": 1, \"bayes_factor_description\": \"If comparison level is `exact match` then comparison is 14.17 times more likely to be a match\", \"probability_two_random_records_match\": 8.787431577975032e-05, \"comparison_sort_order\": 1, \"iteration\": 3}, {\"comparison_name\": \"middle_initial\", \"sql_condition\": \"ELSE\", \"label_for_charts\": \"All other comparisons\", \"m_probability\": 0.05776333892013717, \"u_probability\": 0.9335025912533121, \"m_probability_description\": \"Amongst matching record comparisons, 5.78% of records are in the all other comparisons comparison level\", \"u_probability_description\": \"Amongst non-matching record comparisons, 93.35% of records are in the all other comparisons comparison level\", \"has_tf_adjustments\": false, \"tf_adjustment_column\": null, \"tf_adjustment_weight\": 1.0, \"is_null_level\": false, \"bayes_factor\": 0.06187807025000824, \"log2_bayes_factor\": -4.014427984651558, \"comparison_vector_value\": 0, \"max_comparison_vector_value\": 1, \"bayes_factor_description\": \"If comparison level is `all other comparisons` then comparison is  16.16 times less likely to be a match\", \"probability_two_random_records_match\": 8.787431577975032e-05, \"comparison_sort_order\": 1, \"iteration\": 3}, {\"comparison_name\": \"day_of_birth\", \"sql_condition\": \"`day_of_birth_l` = `day_of_birth_r`\", \"label_for_charts\": \"Exact match\", \"m_probability\": 0.9785749023438415, \"u_probability\": 0.03263074146367179, \"m_probability_description\": \"Amongst matching record comparisons, 97.86% of records are in the exact match comparison level\", \"u_probability_description\": \"Amongst non-matching record comparisons, 3.26% of records are in the exact match comparison level\", \"has_tf_adjustments\": false, \"tf_adjustment_column\": null, \"tf_adjustment_weight\": 1.0, \"is_null_level\": false, \"bayes_factor\": 29.989355388485457, \"log2_bayes_factor\": 4.906378607163037, \"comparison_vector_value\": 2, \"max_comparison_vector_value\": 2, \"bayes_factor_description\": \"If comparison level is `exact match` then comparison is 29.99 times more likely to be a match\", \"probability_two_random_records_match\": 8.787431577975032e-05, \"comparison_sort_order\": 2, \"iteration\": 3}, {\"comparison_name\": \"day_of_birth\", \"sql_condition\": \"abs(day_of_birth_l - day_of_birth_r) <= 5\", \"label_for_charts\": \"Inexact match\", \"m_probability\": 0.014063757840544675, \"u_probability\": 0.29448557752556886, \"m_probability_description\": \"Amongst matching record comparisons, 1.41% of records are in the inexact match comparison level\", \"u_probability_description\": \"Amongst non-matching record comparisons, 29.45% of records are in the inexact match comparison level\", \"has_tf_adjustments\": false, \"tf_adjustment_column\": null, \"tf_adjustment_weight\": 1.0, \"is_null_level\": false, \"bayes_factor\": 0.04775703434686401, \"log2_bayes_factor\": -4.3881429399792795, \"comparison_vector_value\": 1, \"max_comparison_vector_value\": 2, \"bayes_factor_description\": \"If comparison level is `inexact match` then comparison is  20.94 times less likely to be a match\", \"probability_two_random_records_match\": 8.787431577975032e-05, \"comparison_sort_order\": 2, \"iteration\": 3}, {\"comparison_name\": \"day_of_birth\", \"sql_condition\": \"ELSE\", \"label_for_charts\": \"All other comparisons\", \"m_probability\": 0.0073613398156137785, \"u_probability\": 0.6728836810107593, \"m_probability_description\": \"Amongst matching record comparisons, 0.74% of records are in the all other comparisons comparison level\", \"u_probability_description\": \"Amongst non-matching record comparisons, 67.29% of records are in the all other comparisons comparison level\", \"has_tf_adjustments\": false, \"tf_adjustment_column\": null, \"tf_adjustment_weight\": 1.0, \"is_null_level\": false, \"bayes_factor\": 0.01093998862412012, \"log2_bayes_factor\": -6.5142449518210395, \"comparison_vector_value\": 0, \"max_comparison_vector_value\": 2, \"bayes_factor_description\": \"If comparison level is `all other comparisons` then comparison is  91.41 times less likely to be a match\", \"probability_two_random_records_match\": 8.787431577975032e-05, \"comparison_sort_order\": 2, \"iteration\": 3}, {\"comparison_name\": \"month_of_birth\", \"sql_condition\": \"`month_of_birth_l` = `month_of_birth_r`\", \"label_for_charts\": \"Exact match\", \"m_probability\": 0.9839359125305039, \"u_probability\": 0.08335009639337561, \"m_probability_description\": \"Amongst matching record comparisons, 98.39% of records are in the exact match comparison level\", \"u_probability_description\": \"Amongst non-matching record comparisons, 8.34% of records are in the exact match comparison level\", \"has_tf_adjustments\": false, \"tf_adjustment_column\": null, \"tf_adjustment_weight\": 1.0, \"is_null_level\": false, \"bayes_factor\": 11.804856324181815, \"log2_bayes_factor\": 3.5613085776524116, \"comparison_vector_value\": 2, \"max_comparison_vector_value\": 2, \"bayes_factor_description\": \"If comparison level is `exact match` then comparison is 11.80 times more likely to be a match\", \"probability_two_random_records_match\": 8.787431577975032e-05, \"comparison_sort_order\": 3, \"iteration\": 3}, {\"comparison_name\": \"month_of_birth\", \"sql_condition\": \"abs(month_of_birth_l - month_of_birth_r) <= 3\", \"label_for_charts\": \"Inexact match\", \"m_probability\": 0.009082617075755979, \"u_probability\": 0.42042112968689377, \"m_probability_description\": \"Amongst matching record comparisons, 0.91% of records are in the inexact match comparison level\", \"u_probability_description\": \"Amongst non-matching record comparisons, 42.04% of records are in the inexact match comparison level\", \"has_tf_adjustments\": false, \"tf_adjustment_column\": null, \"tf_adjustment_weight\": 1.0, \"is_null_level\": false, \"bayes_factor\": 0.021603617026861154, \"log2_bayes_factor\": -5.5325833111891365, \"comparison_vector_value\": 1, \"max_comparison_vector_value\": 2, \"bayes_factor_description\": \"If comparison level is `inexact match` then comparison is  46.29 times less likely to be a match\", \"probability_two_random_records_match\": 8.787431577975032e-05, \"comparison_sort_order\": 3, \"iteration\": 3}, {\"comparison_name\": \"month_of_birth\", \"sql_condition\": \"ELSE\", \"label_for_charts\": \"All other comparisons\", \"m_probability\": 0.00698147039374018, \"u_probability\": 0.4962287739197306, \"m_probability_description\": \"Amongst matching record comparisons, 0.70% of records are in the all other comparisons comparison level\", \"u_probability_description\": \"Amongst non-matching record comparisons, 49.62% of records are in the all other comparisons comparison level\", \"has_tf_adjustments\": false, \"tf_adjustment_column\": null, \"tf_adjustment_weight\": 1.0, \"is_null_level\": false, \"bayes_factor\": 0.014069055969071022, \"log2_bayes_factor\": -6.1513306625102935, \"comparison_vector_value\": 0, \"max_comparison_vector_value\": 2, \"bayes_factor_description\": \"If comparison level is `all other comparisons` then comparison is  71.08 times less likely to be a match\", \"probability_two_random_records_match\": 8.787431577975032e-05, \"comparison_sort_order\": 3, \"iteration\": 3}, {\"comparison_name\": \"year_of_birth\", \"sql_condition\": \"`year_of_birth_l` = `year_of_birth_r`\", \"label_for_charts\": \"Exact match\", \"m_probability\": 0.9701539965896157, \"u_probability\": 0.010907318543921298, \"m_probability_description\": \"Amongst matching record comparisons, 97.02% of records are in the exact match comparison level\", \"u_probability_description\": \"Amongst non-matching record comparisons, 1.09% of records are in the exact match comparison level\", \"has_tf_adjustments\": false, \"tf_adjustment_column\": null, \"tf_adjustment_weight\": 1.0, \"is_null_level\": false, \"bayes_factor\": 88.94523366884589, \"log2_bayes_factor\": 6.474845392380262, \"comparison_vector_value\": 2, \"max_comparison_vector_value\": 2, \"bayes_factor_description\": \"If comparison level is `exact match` then comparison is 88.95 times more likely to be a match\", \"probability_two_random_records_match\": 8.787431577975032e-05, \"comparison_sort_order\": 4, \"iteration\": 3}, {\"comparison_name\": \"year_of_birth\", \"sql_condition\": \"abs(year_of_birth_l - year_of_birth_r) <= 5\", \"label_for_charts\": \"Inexact match\", \"m_probability\": 0.009455158627441868, \"u_probability\": 0.10780150502221279, \"m_probability_description\": \"Amongst matching record comparisons, 0.95% of records are in the inexact match comparison level\", \"u_probability_description\": \"Amongst non-matching record comparisons, 10.78% of records are in the inexact match comparison level\", \"has_tf_adjustments\": false, \"tf_adjustment_column\": null, \"tf_adjustment_weight\": 1.0, \"is_null_level\": false, \"bayes_factor\": 0.08770896682280648, \"log2_bayes_factor\": -3.5111318473384157, \"comparison_vector_value\": 1, \"max_comparison_vector_value\": 2, \"bayes_factor_description\": \"If comparison level is `inexact match` then comparison is  11.40 times less likely to be a match\", \"probability_two_random_records_match\": 8.787431577975032e-05, \"comparison_sort_order\": 4, \"iteration\": 3}, {\"comparison_name\": \"year_of_birth\", \"sql_condition\": \"ELSE\", \"label_for_charts\": \"All other comparisons\", \"m_probability\": 0.020390844782942546, \"u_probability\": 0.8812911764338659, \"m_probability_description\": \"Amongst matching record comparisons, 2.04% of records are in the all other comparisons comparison level\", \"u_probability_description\": \"Amongst non-matching record comparisons, 88.13% of records are in the all other comparisons comparison level\", \"has_tf_adjustments\": false, \"tf_adjustment_column\": null, \"tf_adjustment_weight\": 1.0, \"is_null_level\": false, \"bayes_factor\": 0.02313746617259219, \"log2_bayes_factor\": -5.433625308924436, \"comparison_vector_value\": 0, \"max_comparison_vector_value\": 2, \"bayes_factor_description\": \"If comparison level is `all other comparisons` then comparison is  43.22 times less likely to be a match\", \"probability_two_random_records_match\": 8.787431577975032e-05, \"comparison_sort_order\": 4, \"iteration\": 3}, {\"comparison_name\": \"geokey\", \"sql_condition\": \"`geokey_l` = `geokey_r`\", \"label_for_charts\": \"Exact match\", \"m_probability\": 0.5244626638963804, \"u_probability\": 0.000645503792157887, \"m_probability_description\": \"Amongst matching record comparisons, 52.45% of records are in the exact match comparison level\", \"u_probability_description\": \"Amongst non-matching record comparisons, 0.06% of records are in the exact match comparison level\", \"has_tf_adjustments\": false, \"tf_adjustment_column\": null, \"tf_adjustment_weight\": 1.0, \"is_null_level\": false, \"bayes_factor\": 812.4857983299028, \"log2_bayes_factor\": 9.666198785747076, \"comparison_vector_value\": 2, \"max_comparison_vector_value\": 2, \"bayes_factor_description\": \"If comparison level is `exact match` then comparison is 812.49 times more likely to be a match\", \"probability_two_random_records_match\": 8.787431577975032e-05, \"comparison_sort_order\": 5, \"iteration\": 3}, {\"comparison_name\": \"geokey\", \"sql_condition\": \"jaro_winkler(`geokey_l`, `geokey_r`) >= 0.7222222222222222\", \"label_for_charts\": \"Jaro_winkler >= 0.7222222222222222\", \"m_probability\": 0.4693661119296099, \"u_probability\": 0.02044314350845159, \"m_probability_description\": \"Amongst matching record comparisons, 46.94% of records are in the jaro_winkler >= 0.7222222222222222 comparison level\", \"u_probability_description\": \"Amongst non-matching record comparisons, 2.04% of records are in the jaro_winkler >= 0.7222222222222222 comparison level\", \"has_tf_adjustments\": false, \"tf_adjustment_column\": null, \"tf_adjustment_weight\": 1.0, \"is_null_level\": false, \"bayes_factor\": 22.959586021375085, \"log2_bayes_factor\": 4.521024724257516, \"comparison_vector_value\": 1, \"max_comparison_vector_value\": 2, \"bayes_factor_description\": \"If comparison level is `jaro_winkler >= 0.7222222222222222` then comparison is 22.96 times more likely to be a match\", \"probability_two_random_records_match\": 8.787431577975032e-05, \"comparison_sort_order\": 5, \"iteration\": 3}, {\"comparison_name\": \"geokey\", \"sql_condition\": \"ELSE\", \"label_for_charts\": \"All other comparisons\", \"m_probability\": 0.006171224174009765, \"u_probability\": 0.9789113526993906, \"m_probability_description\": \"Amongst matching record comparisons, 0.62% of records are in the all other comparisons comparison level\", \"u_probability_description\": \"Amongst non-matching record comparisons, 97.89% of records are in the all other comparisons comparison level\", \"has_tf_adjustments\": false, \"tf_adjustment_column\": null, \"tf_adjustment_weight\": 1.0, \"is_null_level\": false, \"bayes_factor\": 0.006304170604409017, \"log2_bayes_factor\": -7.309477706910246, \"comparison_vector_value\": 0, \"max_comparison_vector_value\": 2, \"bayes_factor_description\": \"If comparison level is `all other comparisons` then comparison is  158.63 times less likely to be a match\", \"probability_two_random_records_match\": 8.787431577975032e-05, \"comparison_sort_order\": 5, \"iteration\": 3}, {\"comparison_name\": \"probability_two_random_records_match\", \"sql_condition\": null, \"label_for_charts\": \"\", \"m_probability\": null, \"u_probability\": null, \"m_probability_description\": null, \"u_probability_description\": null, \"has_tf_adjustments\": false, \"tf_adjustment_column\": null, \"tf_adjustment_weight\": null, \"is_null_level\": false, \"bayes_factor\": 8.788203835373998e-05, \"log2_bayes_factor\": -13.47407214212751, \"comparison_vector_value\": 0, \"max_comparison_vector_value\": 0, \"bayes_factor_description\": \"The probability that two random records drawn at random match is 0.000 or one in  11,379.9 records.This is equivalent to a starting match weight of -13.474.\", \"probability_two_random_records_match\": 8.787431577975032e-05, \"comparison_sort_order\": -1, \"iteration\": 4}, {\"comparison_name\": \"last_name_12\", \"sql_condition\": \"`last_name_12_l` = `last_name_12_r`\", \"label_for_charts\": \"Exact match\", \"m_probability\": 0.884909896387488, \"u_probability\": 0.0004849346356234464, \"m_probability_description\": \"Amongst matching record comparisons, 88.49% of records are in the exact match comparison level\", \"u_probability_description\": \"Amongst non-matching record comparisons, 0.05% of records are in the exact match comparison level\", \"has_tf_adjustments\": false, \"tf_adjustment_column\": null, \"tf_adjustment_weight\": 1.0, \"is_null_level\": false, \"bayes_factor\": 1824.8024195050978, \"log2_bayes_factor\": 10.833524549295058, \"comparison_vector_value\": 2, \"max_comparison_vector_value\": 2, \"bayes_factor_description\": \"If comparison level is `exact match` then comparison is 1,824.80 times more likely to be a match\", \"probability_two_random_records_match\": 8.787431577975032e-05, \"comparison_sort_order\": 0, \"iteration\": 4}, {\"comparison_name\": \"last_name_12\", \"sql_condition\": \"jaro_winkler(`last_name_12_l`, `last_name_12_r`) >= 0.8333333333333334\", \"label_for_charts\": \"Jaro_winkler >= 0.8333333333333334\", \"m_probability\": 0.08850926241669425, \"u_probability\": 0.0012152157599232165, \"m_probability_description\": \"Amongst matching record comparisons, 8.85% of records are in the jaro_winkler >= 0.8333333333333334 comparison level\", \"u_probability_description\": \"Amongst non-matching record comparisons, 0.12% of records are in the jaro_winkler >= 0.8333333333333334 comparison level\", \"has_tf_adjustments\": false, \"tf_adjustment_column\": null, \"tf_adjustment_weight\": 1.0, \"is_null_level\": false, \"bayes_factor\": 72.83419565122058, \"log2_bayes_factor\": 6.1865440496175435, \"comparison_vector_value\": 1, \"max_comparison_vector_value\": 2, \"bayes_factor_description\": \"If comparison level is `jaro_winkler >= 0.8333333333333334` then comparison is 72.83 times more likely to be a match\", \"probability_two_random_records_match\": 8.787431577975032e-05, \"comparison_sort_order\": 0, \"iteration\": 4}, {\"comparison_name\": \"last_name_12\", \"sql_condition\": \"ELSE\", \"label_for_charts\": \"All other comparisons\", \"m_probability\": 0.026580841195817776, \"u_probability\": 0.9982998496044533, \"m_probability_description\": \"Amongst matching record comparisons, 2.66% of records are in the all other comparisons comparison level\", \"u_probability_description\": \"Amongst non-matching record comparisons, 99.83% of records are in the all other comparisons comparison level\", \"has_tf_adjustments\": false, \"tf_adjustment_column\": null, \"tf_adjustment_weight\": 1.0, \"is_null_level\": false, \"bayes_factor\": 0.02662610958656324, \"log2_bayes_factor\": -5.231014541931953, \"comparison_vector_value\": 0, \"max_comparison_vector_value\": 2, \"bayes_factor_description\": \"If comparison level is `all other comparisons` then comparison is  37.56 times less likely to be a match\", \"probability_two_random_records_match\": 8.787431577975032e-05, \"comparison_sort_order\": 0, \"iteration\": 4}, {\"comparison_name\": \"middle_initial\", \"sql_condition\": \"`middle_initial_l` = `middle_initial_r`\", \"label_for_charts\": \"Exact match\", \"m_probability\": 0.9422338270093014, \"u_probability\": 0.06649740874668783, \"m_probability_description\": \"Amongst matching record comparisons, 94.22% of records are in the exact match comparison level\", \"u_probability_description\": \"Amongst non-matching record comparisons, 6.65% of records are in the exact match comparison level\", \"has_tf_adjustments\": false, \"tf_adjustment_column\": null, \"tf_adjustment_weight\": 1.0, \"is_null_level\": false, \"bayes_factor\": 14.16948186054292, \"log2_bayes_factor\": 3.8247150986695897, \"comparison_vector_value\": 1, \"max_comparison_vector_value\": 1, \"bayes_factor_description\": \"If comparison level is `exact match` then comparison is 14.17 times more likely to be a match\", \"probability_two_random_records_match\": 8.787431577975032e-05, \"comparison_sort_order\": 1, \"iteration\": 4}, {\"comparison_name\": \"middle_initial\", \"sql_condition\": \"ELSE\", \"label_for_charts\": \"All other comparisons\", \"m_probability\": 0.05776617299069876, \"u_probability\": 0.9335025912533121, \"m_probability_description\": \"Amongst matching record comparisons, 5.78% of records are in the all other comparisons comparison level\", \"u_probability_description\": \"Amongst non-matching record comparisons, 93.35% of records are in the all other comparisons comparison level\", \"has_tf_adjustments\": false, \"tf_adjustment_column\": null, \"tf_adjustment_weight\": 1.0, \"is_null_level\": false, \"bayes_factor\": 0.06188110620361794, \"log2_bayes_factor\": -4.014357202745222, \"comparison_vector_value\": 0, \"max_comparison_vector_value\": 1, \"bayes_factor_description\": \"If comparison level is `all other comparisons` then comparison is  16.16 times less likely to be a match\", \"probability_two_random_records_match\": 8.787431577975032e-05, \"comparison_sort_order\": 1, \"iteration\": 4}, {\"comparison_name\": \"day_of_birth\", \"sql_condition\": \"`day_of_birth_l` = `day_of_birth_r`\", \"label_for_charts\": \"Exact match\", \"m_probability\": 0.9786136543171912, \"u_probability\": 0.03263074146367179, \"m_probability_description\": \"Amongst matching record comparisons, 97.86% of records are in the exact match comparison level\", \"u_probability_description\": \"Amongst non-matching record comparisons, 3.26% of records are in the exact match comparison level\", \"has_tf_adjustments\": false, \"tf_adjustment_column\": null, \"tf_adjustment_weight\": 1.0, \"is_null_level\": false, \"bayes_factor\": 29.990542979438388, \"log2_bayes_factor\": 4.906435737355826, \"comparison_vector_value\": 2, \"max_comparison_vector_value\": 2, \"bayes_factor_description\": \"If comparison level is `exact match` then comparison is 29.99 times more likely to be a match\", \"probability_two_random_records_match\": 8.787431577975032e-05, \"comparison_sort_order\": 2, \"iteration\": 4}, {\"comparison_name\": \"day_of_birth\", \"sql_condition\": \"abs(day_of_birth_l - day_of_birth_r) <= 5\", \"label_for_charts\": \"Inexact match\", \"m_probability\": 0.014052799400773785, \"u_probability\": 0.29448557752556886, \"m_probability_description\": \"Amongst matching record comparisons, 1.41% of records are in the inexact match comparison level\", \"u_probability_description\": \"Amongst non-matching record comparisons, 29.45% of records are in the inexact match comparison level\", \"has_tf_adjustments\": false, \"tf_adjustment_column\": null, \"tf_adjustment_weight\": 1.0, \"is_null_level\": false, \"bayes_factor\": 0.04771982220268035, \"log2_bayes_factor\": -4.389267522009589, \"comparison_vector_value\": 1, \"max_comparison_vector_value\": 2, \"bayes_factor_description\": \"If comparison level is `inexact match` then comparison is  20.96 times less likely to be a match\", \"probability_two_random_records_match\": 8.787431577975032e-05, \"comparison_sort_order\": 2, \"iteration\": 4}, {\"comparison_name\": \"day_of_birth\", \"sql_condition\": \"ELSE\", \"label_for_charts\": \"All other comparisons\", \"m_probability\": 0.007333546282035037, \"u_probability\": 0.6728836810107593, \"m_probability_description\": \"Amongst matching record comparisons, 0.73% of records are in the all other comparisons comparison level\", \"u_probability_description\": \"Amongst non-matching record comparisons, 67.29% of records are in the all other comparisons comparison level\", \"has_tf_adjustments\": false, \"tf_adjustment_column\": null, \"tf_adjustment_weight\": 1.0, \"is_null_level\": false, \"bayes_factor\": 0.010898683515431806, \"log2_bayes_factor\": -6.519702311695783, \"comparison_vector_value\": 0, \"max_comparison_vector_value\": 2, \"bayes_factor_description\": \"If comparison level is `all other comparisons` then comparison is  91.75 times less likely to be a match\", \"probability_two_random_records_match\": 8.787431577975032e-05, \"comparison_sort_order\": 2, \"iteration\": 4}, {\"comparison_name\": \"month_of_birth\", \"sql_condition\": \"`month_of_birth_l` = `month_of_birth_r`\", \"label_for_charts\": \"Exact match\", \"m_probability\": 0.9839688441771466, \"u_probability\": 0.08335009639337561, \"m_probability_description\": \"Amongst matching record comparisons, 98.40% of records are in the exact match comparison level\", \"u_probability_description\": \"Amongst non-matching record comparisons, 8.34% of records are in the exact match comparison level\", \"has_tf_adjustments\": false, \"tf_adjustment_column\": null, \"tf_adjustment_weight\": 1.0, \"is_null_level\": false, \"bayes_factor\": 11.80525142446445, \"log2_bayes_factor\": 3.5613568628381067, \"comparison_vector_value\": 2, \"max_comparison_vector_value\": 2, \"bayes_factor_description\": \"If comparison level is `exact match` then comparison is 11.81 times more likely to be a match\", \"probability_two_random_records_match\": 8.787431577975032e-05, \"comparison_sort_order\": 3, \"iteration\": 4}, {\"comparison_name\": \"month_of_birth\", \"sql_condition\": \"abs(month_of_birth_l - month_of_birth_r) <= 3\", \"label_for_charts\": \"Inexact match\", \"m_probability\": 0.009074195258977995, \"u_probability\": 0.42042112968689377, \"m_probability_description\": \"Amongst matching record comparisons, 0.91% of records are in the inexact match comparison level\", \"u_probability_description\": \"Amongst non-matching record comparisons, 42.04% of records are in the inexact match comparison level\", \"has_tf_adjustments\": false, \"tf_adjustment_column\": null, \"tf_adjustment_weight\": 1.0, \"is_null_level\": false, \"bayes_factor\": 0.021583585167890943, \"log2_bayes_factor\": -5.533921664414166, \"comparison_vector_value\": 1, \"max_comparison_vector_value\": 2, \"bayes_factor_description\": \"If comparison level is `inexact match` then comparison is  46.33 times less likely to be a match\", \"probability_two_random_records_match\": 8.787431577975032e-05, \"comparison_sort_order\": 3, \"iteration\": 4}, {\"comparison_name\": \"month_of_birth\", \"sql_condition\": \"ELSE\", \"label_for_charts\": \"All other comparisons\", \"m_probability\": 0.006956960563875438, \"u_probability\": 0.4962287739197306, \"m_probability_description\": \"Amongst matching record comparisons, 0.70% of records are in the all other comparisons comparison level\", \"u_probability_description\": \"Amongst non-matching record comparisons, 49.62% of records are in the all other comparisons comparison level\", \"has_tf_adjustments\": false, \"tf_adjustment_column\": null, \"tf_adjustment_weight\": 1.0, \"is_null_level\": false, \"bayes_factor\": 0.014019663771050867, \"log2_bayes_factor\": -6.156404439688256, \"comparison_vector_value\": 0, \"max_comparison_vector_value\": 2, \"bayes_factor_description\": \"If comparison level is `all other comparisons` then comparison is  71.33 times less likely to be a match\", \"probability_two_random_records_match\": 8.787431577975032e-05, \"comparison_sort_order\": 3, \"iteration\": 4}, {\"comparison_name\": \"year_of_birth\", \"sql_condition\": \"`year_of_birth_l` = `year_of_birth_r`\", \"label_for_charts\": \"Exact match\", \"m_probability\": 0.9701739425914105, \"u_probability\": 0.010907318543921298, \"m_probability_description\": \"Amongst matching record comparisons, 97.02% of records are in the exact match comparison level\", \"u_probability_description\": \"Amongst non-matching record comparisons, 1.09% of records are in the exact match comparison level\", \"has_tf_adjustments\": false, \"tf_adjustment_column\": null, \"tf_adjustment_weight\": 1.0, \"is_null_level\": false, \"bayes_factor\": 88.94706234944364, \"log2_bayes_factor\": 6.47487505334354, \"comparison_vector_value\": 2, \"max_comparison_vector_value\": 2, \"bayes_factor_description\": \"If comparison level is `exact match` then comparison is 88.95 times more likely to be a match\", \"probability_two_random_records_match\": 8.787431577975032e-05, \"comparison_sort_order\": 4, \"iteration\": 4}, {\"comparison_name\": \"year_of_birth\", \"sql_condition\": \"abs(year_of_birth_l - year_of_birth_r) <= 5\", \"label_for_charts\": \"Inexact match\", \"m_probability\": 0.00944796091399557, \"u_probability\": 0.10780150502221279, \"m_probability_description\": \"Amongst matching record comparisons, 0.94% of records are in the inexact match comparison level\", \"u_probability_description\": \"Amongst non-matching record comparisons, 10.78% of records are in the inexact match comparison level\", \"has_tf_adjustments\": false, \"tf_adjustment_column\": null, \"tf_adjustment_weight\": 1.0, \"is_null_level\": false, \"bayes_factor\": 0.08764219861354247, \"log2_bayes_factor\": -3.5122305131934133, \"comparison_vector_value\": 1, \"max_comparison_vector_value\": 2, \"bayes_factor_description\": \"If comparison level is `inexact match` then comparison is  11.41 times less likely to be a match\", \"probability_two_random_records_match\": 8.787431577975032e-05, \"comparison_sort_order\": 4, \"iteration\": 4}, {\"comparison_name\": \"year_of_birth\", \"sql_condition\": \"ELSE\", \"label_for_charts\": \"All other comparisons\", \"m_probability\": 0.02037809649459392, \"u_probability\": 0.8812911764338659, \"m_probability_description\": \"Amongst matching record comparisons, 2.04% of records are in the all other comparisons comparison level\", \"u_probability_description\": \"Amongst non-matching record comparisons, 88.13% of records are in the all other comparisons comparison level\", \"has_tf_adjustments\": false, \"tf_adjustment_column\": null, \"tf_adjustment_weight\": 1.0, \"is_null_level\": false, \"bayes_factor\": 0.02312300070568463, \"log2_bayes_factor\": -5.4345275591376385, \"comparison_vector_value\": 0, \"max_comparison_vector_value\": 2, \"bayes_factor_description\": \"If comparison level is `all other comparisons` then comparison is  43.25 times less likely to be a match\", \"probability_two_random_records_match\": 8.787431577975032e-05, \"comparison_sort_order\": 4, \"iteration\": 4}, {\"comparison_name\": \"geokey\", \"sql_condition\": \"`geokey_l` = `geokey_r`\", \"label_for_charts\": \"Exact match\", \"m_probability\": 0.5244709008748406, \"u_probability\": 0.000645503792157887, \"m_probability_description\": \"Amongst matching record comparisons, 52.45% of records are in the exact match comparison level\", \"u_probability_description\": \"Amongst non-matching record comparisons, 0.06% of records are in the exact match comparison level\", \"has_tf_adjustments\": false, \"tf_adjustment_column\": null, \"tf_adjustment_weight\": 1.0, \"is_null_level\": false, \"bayes_factor\": 812.4985588722268, \"log2_bayes_factor\": 9.66622144389889, \"comparison_vector_value\": 2, \"max_comparison_vector_value\": 2, \"bayes_factor_description\": \"If comparison level is `exact match` then comparison is 812.50 times more likely to be a match\", \"probability_two_random_records_match\": 8.787431577975032e-05, \"comparison_sort_order\": 5, \"iteration\": 4}, {\"comparison_name\": \"geokey\", \"sql_condition\": \"jaro_winkler(`geokey_l`, `geokey_r`) >= 0.7222222222222222\", \"label_for_charts\": \"Jaro_winkler >= 0.7222222222222222\", \"m_probability\": 0.4693584910277504, \"u_probability\": 0.02044314350845159, \"m_probability_description\": \"Amongst matching record comparisons, 46.94% of records are in the jaro_winkler >= 0.7222222222222222 comparison level\", \"u_probability_description\": \"Amongst non-matching record comparisons, 2.04% of records are in the jaro_winkler >= 0.7222222222222222 comparison level\", \"has_tf_adjustments\": false, \"tf_adjustment_column\": null, \"tf_adjustment_weight\": 1.0, \"is_null_level\": false, \"bayes_factor\": 22.95921323614974, \"log2_bayes_factor\": 4.521001299629493, \"comparison_vector_value\": 1, \"max_comparison_vector_value\": 2, \"bayes_factor_description\": \"If comparison level is `jaro_winkler >= 0.7222222222222222` then comparison is 22.96 times more likely to be a match\", \"probability_two_random_records_match\": 8.787431577975032e-05, \"comparison_sort_order\": 5, \"iteration\": 4}, {\"comparison_name\": \"geokey\", \"sql_condition\": \"ELSE\", \"label_for_charts\": \"All other comparisons\", \"m_probability\": 0.006170608097408898, \"u_probability\": 0.9789113526993906, \"m_probability_description\": \"Amongst matching record comparisons, 0.62% of records are in the all other comparisons comparison level\", \"u_probability_description\": \"Amongst non-matching record comparisons, 97.89% of records are in the all other comparisons comparison level\", \"has_tf_adjustments\": false, \"tf_adjustment_column\": null, \"tf_adjustment_weight\": 1.0, \"is_null_level\": false, \"bayes_factor\": 0.006303541255695093, \"log2_bayes_factor\": -7.309621739115201, \"comparison_vector_value\": 0, \"max_comparison_vector_value\": 2, \"bayes_factor_description\": \"If comparison level is `all other comparisons` then comparison is  158.64 times less likely to be a match\", \"probability_two_random_records_match\": 8.787431577975032e-05, \"comparison_sort_order\": 5, \"iteration\": 4}]}}, {\"mode\": \"vega-lite\"});\n",
       "</script>"
      ],
      "text/plain": [
       "alt.VConcatChart(...)"
      ]
     },
     "execution_count": 58,
     "metadata": {},
     "output_type": "execute_result"
    }
   ],
   "source": [
    "em_session_1.match_weights_interactive_history_chart()"
   ]
  },
  {
   "cell_type": "code",
   "execution_count": 59,
   "id": "71478531-8837-48f4-8748-a65c5d8fa7cd",
   "metadata": {
    "execution": {
     "iopub.execute_input": "2024-02-13T00:21:01.920846Z",
     "iopub.status.busy": "2024-02-13T00:21:01.920515Z",
     "iopub.status.idle": "2024-02-13T00:34:33.728766Z",
     "shell.execute_reply": "2024-02-13T00:34:33.727942Z"
    },
    "papermill": {
     "duration": 811.849816,
     "end_time": "2024-02-13T00:34:33.730637",
     "exception": false,
     "start_time": "2024-02-13T00:21:01.880821",
     "status": "completed"
    },
    "tags": []
   },
   "outputs": [
    {
     "name": "stderr",
     "output_type": "stream",
     "text": [
      "\n",
      "----- Starting EM training session -----\n",
      "\n",
      "Estimating the m probabilities of the model by blocking on:\n",
      "l.geokey = r.geokey\n",
      "\n",
      "Parameter estimates will be made for the following comparison(s):\n",
      "    - first_name_15\n",
      "    - last_name_12\n",
      "    - middle_initial\n",
      "    - day_of_birth\n",
      "    - month_of_birth\n",
      "    - year_of_birth\n",
      "\n",
      "Parameter estimates cannot be made for the following comparison(s) since they are used in the blocking rules: \n",
      "    - geokey\n",
      "24/02/13 00:33:26 WARN DataSource: All paths were ignored:                      \n",
      "  file:/ihme/scratch/users/zmbc/person_linkage_case_study/person_linkage_case_study/ri/tmpCheckpoints/c28977bd-b2cf-4869-832b-cd0cdb995234/__splink__df_comparison_vectors_2aa0199ad\n",
      "\n",
      "Iteration 1: Largest change in params was -0.0864 in the m_probability of first_name_15, level `Exact match`\n",
      "Iteration 2: Largest change in params was -0.00516 in the m_probability of first_name_15, level `Exact match`\n",
      "Iteration 3: Largest change in params was 0.000527 in the m_probability of first_name_15, level `All other comparisons`\n",
      "Iteration 4: Largest change in params was 7.25e-05 in the m_probability of first_name_15, level `All other comparisons`\n",
      "\n",
      "EM converged after 4 iterations\n",
      "\n",
      "Your model is fully trained. All comparisons have at least one estimate for their m and u values\n"
     ]
    }
   ],
   "source": [
    "blocking_rule_for_training = \"l.geokey = r.geokey\"\n",
    "em_session_2 = linker.estimate_parameters_using_expectation_maximisation(\n",
    "    blocking_rule_for_training,\n",
    "    # Fix lambda; u is fixed by default\n",
    "    fix_probability_two_random_records_match=True,\n",
    ")"
   ]
  },
  {
   "cell_type": "code",
   "execution_count": 60,
   "id": "750d48f3-7f15-40de-aa1a-78d4ed42371f",
   "metadata": {
    "execution": {
     "iopub.execute_input": "2024-02-13T00:34:33.854098Z",
     "iopub.status.busy": "2024-02-13T00:34:33.853652Z",
     "iopub.status.idle": "2024-02-13T00:34:35.238708Z",
     "shell.execute_reply": "2024-02-13T00:34:35.237614Z"
    },
    "papermill": {
     "duration": 1.447918,
     "end_time": "2024-02-13T00:34:35.240688",
     "exception": false,
     "start_time": "2024-02-13T00:34:33.792770",
     "status": "completed"
    },
    "tags": []
   },
   "outputs": [
    {
     "data": {
      "text/html": [
       "\n",
       "<style>\n",
       "  #altair-viz-d06dc0556a654d7e9c9c46c7eabc74da.vega-embed {\n",
       "    width: 100%;\n",
       "    display: flex;\n",
       "  }\n",
       "\n",
       "  #altair-viz-d06dc0556a654d7e9c9c46c7eabc74da.vega-embed details,\n",
       "  #altair-viz-d06dc0556a654d7e9c9c46c7eabc74da.vega-embed details summary {\n",
       "    position: relative;\n",
       "  }\n",
       "</style>\n",
       "<div id=\"altair-viz-d06dc0556a654d7e9c9c46c7eabc74da\"></div>\n",
       "<script type=\"text/javascript\">\n",
       "  var VEGA_DEBUG = (typeof VEGA_DEBUG == \"undefined\") ? {} : VEGA_DEBUG;\n",
       "  (function(spec, embedOpt){\n",
       "    let outputDiv = document.currentScript.previousElementSibling;\n",
       "    if (outputDiv.id !== \"altair-viz-d06dc0556a654d7e9c9c46c7eabc74da\") {\n",
       "      outputDiv = document.getElementById(\"altair-viz-d06dc0556a654d7e9c9c46c7eabc74da\");\n",
       "    }\n",
       "    const paths = {\n",
       "      \"vega\": \"https://cdn.jsdelivr.net/npm/vega@5?noext\",\n",
       "      \"vega-lib\": \"https://cdn.jsdelivr.net/npm/vega-lib?noext\",\n",
       "      \"vega-lite\": \"https://cdn.jsdelivr.net/npm/vega-lite@5.15.1?noext\",\n",
       "      \"vega-embed\": \"https://cdn.jsdelivr.net/npm/vega-embed@6?noext\",\n",
       "    };\n",
       "\n",
       "    function maybeLoadScript(lib, version) {\n",
       "      var key = `${lib.replace(\"-\", \"\")}_version`;\n",
       "      return (VEGA_DEBUG[key] == version) ?\n",
       "        Promise.resolve(paths[lib]) :\n",
       "        new Promise(function(resolve, reject) {\n",
       "          var s = document.createElement('script');\n",
       "          document.getElementsByTagName(\"head\")[0].appendChild(s);\n",
       "          s.async = true;\n",
       "          s.onload = () => {\n",
       "            VEGA_DEBUG[key] = version;\n",
       "            return resolve(paths[lib]);\n",
       "          };\n",
       "          s.onerror = () => reject(`Error loading script: ${paths[lib]}`);\n",
       "          s.src = paths[lib];\n",
       "        });\n",
       "    }\n",
       "\n",
       "    function showError(err) {\n",
       "      outputDiv.innerHTML = `<div class=\"error\" style=\"color:red;\">${err}</div>`;\n",
       "      throw err;\n",
       "    }\n",
       "\n",
       "    function displayChart(vegaEmbed) {\n",
       "      vegaEmbed(outputDiv, spec, embedOpt)\n",
       "        .catch(err => showError(`Javascript Error: ${err.message}<br>This usually means there's a typo in your chart specification. See the javascript console for the full traceback.`));\n",
       "    }\n",
       "\n",
       "    if(typeof define === \"function\" && define.amd) {\n",
       "      requirejs.config({paths});\n",
       "      require([\"vega-embed\"], displayChart, err => showError(`Error loading script: ${err.message}`));\n",
       "    } else {\n",
       "      maybeLoadScript(\"vega\", \"5\")\n",
       "        .then(() => maybeLoadScript(\"vega-lite\", \"5.15.1\"))\n",
       "        .then(() => maybeLoadScript(\"vega-embed\", \"6\"))\n",
       "        .catch(showError)\n",
       "        .then(() => displayChart(vegaEmbed));\n",
       "    }\n",
       "  })({\"config\": {\"view\": {\"continuousWidth\": 300, \"continuousHeight\": 300, \"discreteHeight\": 300, \"discreteWidth\": 400}, \"header\": {\"title\": null}, \"title\": {\"anchor\": \"middle\", \"offset\": 10}}, \"hconcat\": [{\"mark\": \"bar\", \"encoding\": {\"color\": {\"value\": \"green\"}, \"row\": {\"field\": \"comparison_name\", \"header\": {\"labelAlign\": \"left\", \"labelAnchor\": \"middle\", \"labelAngle\": 0}, \"sort\": {\"field\": \"comparison_sort_order\"}, \"type\": \"nominal\"}, \"tooltip\": [{\"field\": \"m_probability_description\", \"title\": \"m probability description\", \"type\": \"nominal\"}, {\"field\": \"comparison_name\", \"title\": \"Comparison column name\", \"type\": \"nominal\"}, {\"field\": \"label_for_charts\", \"title\": \"Label\", \"type\": \"ordinal\"}, {\"field\": \"sql_condition\", \"title\": \"SQL condition\", \"type\": \"nominal\"}, {\"field\": \"m_probability\", \"format\": \".4p\", \"title\": \"m probability\", \"type\": \"quantitative\"}, {\"field\": \"u_probability\", \"format\": \".4p\", \"title\": \"u probability\", \"type\": \"quantitative\"}, {\"field\": \"bayes_factor\", \"format\": \",.4f\", \"title\": \"Bayes factor = m/u\", \"type\": \"quantitative\"}, {\"field\": \"log2_bayes_factor\", \"format\": \",.4f\", \"title\": \"Match weight = log2(m/u)\", \"type\": \"quantitative\"}], \"x\": {\"axis\": {\"title\": \"Proportion of record comparisons\"}, \"field\": \"m_probability\", \"type\": \"quantitative\"}, \"y\": {\"axis\": {\"title\": null}, \"field\": \"label_for_charts\", \"sort\": {\"field\": \"comparison_vector_value\", \"order\": \"descending\"}, \"type\": \"nominal\"}}, \"height\": {\"step\": 12}, \"resolve\": {\"scale\": {\"y\": \"independent\"}}, \"title\": {\"text\": \"Amongst matching record comparisons:\", \"fontSize\": 12, \"fontWeight\": \"bold\"}, \"transform\": [{\"filter\": \"(datum.bayes_factor != 'no-op filter due to vega lite issue 4680')\"}], \"width\": 150}, {\"mark\": \"bar\", \"encoding\": {\"color\": {\"value\": \"red\"}, \"row\": {\"field\": \"comparison_name\", \"header\": {\"labels\": false}, \"sort\": {\"field\": \"comparison_sort_order\"}, \"type\": \"nominal\"}, \"tooltip\": [{\"field\": \"u_probability_description\", \"title\": \"u probability description\", \"type\": \"nominal\"}, {\"field\": \"comparison_name\", \"title\": \"Comparison column name\", \"type\": \"nominal\"}, {\"field\": \"label_for_charts\", \"title\": \"Label\", \"type\": \"ordinal\"}, {\"field\": \"sql_condition\", \"title\": \"SQL condition\", \"type\": \"nominal\"}, {\"field\": \"m_probability\", \"format\": \".4p\", \"title\": \"m probability\", \"type\": \"quantitative\"}, {\"field\": \"u_probability\", \"format\": \".4p\", \"title\": \"u probability\", \"type\": \"quantitative\"}, {\"field\": \"bayes_factor\", \"format\": \",.4f\", \"title\": \"Bayes factor = m/u\", \"type\": \"quantitative\"}, {\"field\": \"log2_bayes_factor\", \"format\": \",.4f\", \"title\": \"Match weight = log2(m/u)\", \"type\": \"quantitative\"}], \"x\": {\"axis\": {\"title\": \"Proportion of record comparisons\"}, \"field\": \"u_probability\", \"type\": \"quantitative\"}, \"y\": {\"axis\": {\"title\": null}, \"field\": \"label_for_charts\", \"sort\": {\"field\": \"comparison_vector_value\", \"order\": \"descending\"}, \"type\": \"nominal\"}}, \"height\": {\"step\": 12}, \"resolve\": {\"scale\": {\"y\": \"independent\"}}, \"title\": {\"text\": \"Amongst non-matching record comparisons:\", \"fontSize\": 12, \"fontWeight\": \"bold\"}, \"transform\": [{\"filter\": \"(datum.bayes_factor != 'no-op filter2 due to vega lite issue 4680')\"}], \"width\": 150}], \"data\": {\"name\": \"data-b8e33227e21899faacc110c36c72644f\"}, \"params\": [{\"name\": \"iteration_number\", \"bind\": {\"input\": \"range\", \"max\": 4, \"min\": 0, \"step\": 1}, \"value\": 4}], \"title\": {\"text\": \"Proportion of record comparisons in each comparison level by match status\", \"subtitle\": \"(m and u probabilities)\"}, \"transform\": [{\"filter\": \"(datum.iteration == iteration_number)\"}], \"$schema\": \"https://vega.github.io/schema/vega-lite/v5.9.3.json\", \"datasets\": {\"data-b8e33227e21899faacc110c36c72644f\": [{\"comparison_name\": \"first_name_15\", \"sql_condition\": \"`first_name_15_l` = `first_name_15_r`\", \"label_for_charts\": \"Exact match\", \"m_probability\": 0.95, \"u_probability\": 0.0017875649663137633, \"m_probability_description\": \"Amongst matching record comparisons, 95.00% of records are in the exact match comparison level\", \"u_probability_description\": \"Amongst non-matching record comparisons, 0.18% of records are in the exact match comparison level\", \"has_tf_adjustments\": false, \"tf_adjustment_column\": null, \"tf_adjustment_weight\": 1.0, \"is_null_level\": false, \"bayes_factor\": 531.449216057891, \"log2_bayes_factor\": 9.053788027830501, \"comparison_vector_value\": 2, \"max_comparison_vector_value\": 2, \"bayes_factor_description\": \"If comparison level is `exact match` then comparison is 531.45 times more likely to be a match\", \"probability_two_random_records_match\": 0.0001343391522636049, \"comparison_sort_order\": 0, \"iteration\": 0}, {\"comparison_name\": \"first_name_15\", \"sql_condition\": \"jaro_winkler(`first_name_15_l`, `first_name_15_r`) >= 0.8333333333333334\", \"label_for_charts\": \"Jaro_winkler >= 0.8333333333333334\", \"m_probability\": 0.025000000000000022, \"u_probability\": 0.0033337696503047804, \"m_probability_description\": \"Amongst matching record comparisons, 2.50% of records are in the jaro_winkler >= 0.8333333333333334 comparison level\", \"u_probability_description\": \"Amongst non-matching record comparisons, 0.33% of records are in the jaro_winkler >= 0.8333333333333334 comparison level\", \"has_tf_adjustments\": false, \"tf_adjustment_column\": null, \"tf_adjustment_weight\": 1.0, \"is_null_level\": false, \"bayes_factor\": 7.49901841529887, \"log2_bayes_factor\": 2.9067017662673784, \"comparison_vector_value\": 1, \"max_comparison_vector_value\": 2, \"bayes_factor_description\": \"If comparison level is `jaro_winkler >= 0.8333333333333334` then comparison is 7.50 times more likely to be a match\", \"probability_two_random_records_match\": 0.0001343391522636049, \"comparison_sort_order\": 0, \"iteration\": 0}, {\"comparison_name\": \"first_name_15\", \"sql_condition\": \"ELSE\", \"label_for_charts\": \"All other comparisons\", \"m_probability\": 0.025000000000000022, \"u_probability\": 0.9948786653833814, \"m_probability_description\": \"Amongst matching record comparisons, 2.50% of records are in the all other comparisons comparison level\", \"u_probability_description\": \"Amongst non-matching record comparisons, 99.49% of records are in the all other comparisons comparison level\", \"has_tf_adjustments\": false, \"tf_adjustment_column\": null, \"tf_adjustment_weight\": 1.0, \"is_null_level\": false, \"bayes_factor\": 0.025128692442476036, \"log2_bayes_factor\": -5.314520586436527, \"comparison_vector_value\": 0, \"max_comparison_vector_value\": 2, \"bayes_factor_description\": \"If comparison level is `all other comparisons` then comparison is  39.80 times less likely to be a match\", \"probability_two_random_records_match\": 0.0001343391522636049, \"comparison_sort_order\": 0, \"iteration\": 0}, {\"comparison_name\": \"last_name_12\", \"sql_condition\": \"`last_name_12_l` = `last_name_12_r`\", \"label_for_charts\": \"Exact match\", \"m_probability\": 0.884909896387488, \"u_probability\": 0.0004849346356234464, \"m_probability_description\": \"Amongst matching record comparisons, 88.49% of records are in the exact match comparison level\", \"u_probability_description\": \"Amongst non-matching record comparisons, 0.05% of records are in the exact match comparison level\", \"has_tf_adjustments\": false, \"tf_adjustment_column\": null, \"tf_adjustment_weight\": 1.0, \"is_null_level\": false, \"bayes_factor\": 1824.8024195050978, \"log2_bayes_factor\": 10.833524549295058, \"comparison_vector_value\": 2, \"max_comparison_vector_value\": 2, \"bayes_factor_description\": \"If comparison level is `exact match` then comparison is 1,824.80 times more likely to be a match\", \"probability_two_random_records_match\": 0.0001343391522636049, \"comparison_sort_order\": 1, \"iteration\": 0}, {\"comparison_name\": \"last_name_12\", \"sql_condition\": \"jaro_winkler(`last_name_12_l`, `last_name_12_r`) >= 0.8333333333333334\", \"label_for_charts\": \"Jaro_winkler >= 0.8333333333333334\", \"m_probability\": 0.08850926241669425, \"u_probability\": 0.0012152157599232165, \"m_probability_description\": \"Amongst matching record comparisons, 8.85% of records are in the jaro_winkler >= 0.8333333333333334 comparison level\", \"u_probability_description\": \"Amongst non-matching record comparisons, 0.12% of records are in the jaro_winkler >= 0.8333333333333334 comparison level\", \"has_tf_adjustments\": false, \"tf_adjustment_column\": null, \"tf_adjustment_weight\": 1.0, \"is_null_level\": false, \"bayes_factor\": 72.83419565122058, \"log2_bayes_factor\": 6.1865440496175435, \"comparison_vector_value\": 1, \"max_comparison_vector_value\": 2, \"bayes_factor_description\": \"If comparison level is `jaro_winkler >= 0.8333333333333334` then comparison is 72.83 times more likely to be a match\", \"probability_two_random_records_match\": 0.0001343391522636049, \"comparison_sort_order\": 1, \"iteration\": 0}, {\"comparison_name\": \"last_name_12\", \"sql_condition\": \"ELSE\", \"label_for_charts\": \"All other comparisons\", \"m_probability\": 0.026580841195817776, \"u_probability\": 0.9982998496044533, \"m_probability_description\": \"Amongst matching record comparisons, 2.66% of records are in the all other comparisons comparison level\", \"u_probability_description\": \"Amongst non-matching record comparisons, 99.83% of records are in the all other comparisons comparison level\", \"has_tf_adjustments\": false, \"tf_adjustment_column\": null, \"tf_adjustment_weight\": 1.0, \"is_null_level\": false, \"bayes_factor\": 0.02662610958656324, \"log2_bayes_factor\": -5.231014541931953, \"comparison_vector_value\": 0, \"max_comparison_vector_value\": 2, \"bayes_factor_description\": \"If comparison level is `all other comparisons` then comparison is  37.56 times less likely to be a match\", \"probability_two_random_records_match\": 0.0001343391522636049, \"comparison_sort_order\": 1, \"iteration\": 0}, {\"comparison_name\": \"middle_initial\", \"sql_condition\": \"`middle_initial_l` = `middle_initial_r`\", \"label_for_charts\": \"Exact match\", \"m_probability\": 0.9422338270093014, \"u_probability\": 0.06649740874668783, \"m_probability_description\": \"Amongst matching record comparisons, 94.22% of records are in the exact match comparison level\", \"u_probability_description\": \"Amongst non-matching record comparisons, 6.65% of records are in the exact match comparison level\", \"has_tf_adjustments\": false, \"tf_adjustment_column\": null, \"tf_adjustment_weight\": 1.0, \"is_null_level\": false, \"bayes_factor\": 14.16948186054292, \"log2_bayes_factor\": 3.8247150986695897, \"comparison_vector_value\": 1, \"max_comparison_vector_value\": 1, \"bayes_factor_description\": \"If comparison level is `exact match` then comparison is 14.17 times more likely to be a match\", \"probability_two_random_records_match\": 0.0001343391522636049, \"comparison_sort_order\": 2, \"iteration\": 0}, {\"comparison_name\": \"middle_initial\", \"sql_condition\": \"ELSE\", \"label_for_charts\": \"All other comparisons\", \"m_probability\": 0.05776617299069876, \"u_probability\": 0.9335025912533121, \"m_probability_description\": \"Amongst matching record comparisons, 5.78% of records are in the all other comparisons comparison level\", \"u_probability_description\": \"Amongst non-matching record comparisons, 93.35% of records are in the all other comparisons comparison level\", \"has_tf_adjustments\": false, \"tf_adjustment_column\": null, \"tf_adjustment_weight\": 1.0, \"is_null_level\": false, \"bayes_factor\": 0.06188110620361794, \"log2_bayes_factor\": -4.014357202745222, \"comparison_vector_value\": 0, \"max_comparison_vector_value\": 1, \"bayes_factor_description\": \"If comparison level is `all other comparisons` then comparison is  16.16 times less likely to be a match\", \"probability_two_random_records_match\": 0.0001343391522636049, \"comparison_sort_order\": 2, \"iteration\": 0}, {\"comparison_name\": \"day_of_birth\", \"sql_condition\": \"`day_of_birth_l` = `day_of_birth_r`\", \"label_for_charts\": \"Exact match\", \"m_probability\": 0.9786136543171912, \"u_probability\": 0.03263074146367179, \"m_probability_description\": \"Amongst matching record comparisons, 97.86% of records are in the exact match comparison level\", \"u_probability_description\": \"Amongst non-matching record comparisons, 3.26% of records are in the exact match comparison level\", \"has_tf_adjustments\": false, \"tf_adjustment_column\": null, \"tf_adjustment_weight\": 1.0, \"is_null_level\": false, \"bayes_factor\": 29.990542979438388, \"log2_bayes_factor\": 4.906435737355826, \"comparison_vector_value\": 2, \"max_comparison_vector_value\": 2, \"bayes_factor_description\": \"If comparison level is `exact match` then comparison is 29.99 times more likely to be a match\", \"probability_two_random_records_match\": 0.0001343391522636049, \"comparison_sort_order\": 3, \"iteration\": 0}, {\"comparison_name\": \"day_of_birth\", \"sql_condition\": \"abs(day_of_birth_l - day_of_birth_r) <= 5\", \"label_for_charts\": \"Inexact match\", \"m_probability\": 0.014052799400773785, \"u_probability\": 0.29448557752556886, \"m_probability_description\": \"Amongst matching record comparisons, 1.41% of records are in the inexact match comparison level\", \"u_probability_description\": \"Amongst non-matching record comparisons, 29.45% of records are in the inexact match comparison level\", \"has_tf_adjustments\": false, \"tf_adjustment_column\": null, \"tf_adjustment_weight\": 1.0, \"is_null_level\": false, \"bayes_factor\": 0.04771982220268035, \"log2_bayes_factor\": -4.389267522009589, \"comparison_vector_value\": 1, \"max_comparison_vector_value\": 2, \"bayes_factor_description\": \"If comparison level is `inexact match` then comparison is  20.96 times less likely to be a match\", \"probability_two_random_records_match\": 0.0001343391522636049, \"comparison_sort_order\": 3, \"iteration\": 0}, {\"comparison_name\": \"day_of_birth\", \"sql_condition\": \"ELSE\", \"label_for_charts\": \"All other comparisons\", \"m_probability\": 0.007333546282035037, \"u_probability\": 0.6728836810107593, \"m_probability_description\": \"Amongst matching record comparisons, 0.73% of records are in the all other comparisons comparison level\", \"u_probability_description\": \"Amongst non-matching record comparisons, 67.29% of records are in the all other comparisons comparison level\", \"has_tf_adjustments\": false, \"tf_adjustment_column\": null, \"tf_adjustment_weight\": 1.0, \"is_null_level\": false, \"bayes_factor\": 0.010898683515431806, \"log2_bayes_factor\": -6.519702311695783, \"comparison_vector_value\": 0, \"max_comparison_vector_value\": 2, \"bayes_factor_description\": \"If comparison level is `all other comparisons` then comparison is  91.75 times less likely to be a match\", \"probability_two_random_records_match\": 0.0001343391522636049, \"comparison_sort_order\": 3, \"iteration\": 0}, {\"comparison_name\": \"month_of_birth\", \"sql_condition\": \"`month_of_birth_l` = `month_of_birth_r`\", \"label_for_charts\": \"Exact match\", \"m_probability\": 0.9839688441771466, \"u_probability\": 0.08335009639337561, \"m_probability_description\": \"Amongst matching record comparisons, 98.40% of records are in the exact match comparison level\", \"u_probability_description\": \"Amongst non-matching record comparisons, 8.34% of records are in the exact match comparison level\", \"has_tf_adjustments\": false, \"tf_adjustment_column\": null, \"tf_adjustment_weight\": 1.0, \"is_null_level\": false, \"bayes_factor\": 11.80525142446445, \"log2_bayes_factor\": 3.5613568628381067, \"comparison_vector_value\": 2, \"max_comparison_vector_value\": 2, \"bayes_factor_description\": \"If comparison level is `exact match` then comparison is 11.81 times more likely to be a match\", \"probability_two_random_records_match\": 0.0001343391522636049, \"comparison_sort_order\": 4, \"iteration\": 0}, {\"comparison_name\": \"month_of_birth\", \"sql_condition\": \"abs(month_of_birth_l - month_of_birth_r) <= 3\", \"label_for_charts\": \"Inexact match\", \"m_probability\": 0.009074195258977995, \"u_probability\": 0.42042112968689377, \"m_probability_description\": \"Amongst matching record comparisons, 0.91% of records are in the inexact match comparison level\", \"u_probability_description\": \"Amongst non-matching record comparisons, 42.04% of records are in the inexact match comparison level\", \"has_tf_adjustments\": false, \"tf_adjustment_column\": null, \"tf_adjustment_weight\": 1.0, \"is_null_level\": false, \"bayes_factor\": 0.021583585167890943, \"log2_bayes_factor\": -5.533921664414166, \"comparison_vector_value\": 1, \"max_comparison_vector_value\": 2, \"bayes_factor_description\": \"If comparison level is `inexact match` then comparison is  46.33 times less likely to be a match\", \"probability_two_random_records_match\": 0.0001343391522636049, \"comparison_sort_order\": 4, \"iteration\": 0}, {\"comparison_name\": \"month_of_birth\", \"sql_condition\": \"ELSE\", \"label_for_charts\": \"All other comparisons\", \"m_probability\": 0.006956960563875438, \"u_probability\": 0.4962287739197306, \"m_probability_description\": \"Amongst matching record comparisons, 0.70% of records are in the all other comparisons comparison level\", \"u_probability_description\": \"Amongst non-matching record comparisons, 49.62% of records are in the all other comparisons comparison level\", \"has_tf_adjustments\": false, \"tf_adjustment_column\": null, \"tf_adjustment_weight\": 1.0, \"is_null_level\": false, \"bayes_factor\": 0.014019663771050867, \"log2_bayes_factor\": -6.156404439688256, \"comparison_vector_value\": 0, \"max_comparison_vector_value\": 2, \"bayes_factor_description\": \"If comparison level is `all other comparisons` then comparison is  71.33 times less likely to be a match\", \"probability_two_random_records_match\": 0.0001343391522636049, \"comparison_sort_order\": 4, \"iteration\": 0}, {\"comparison_name\": \"year_of_birth\", \"sql_condition\": \"`year_of_birth_l` = `year_of_birth_r`\", \"label_for_charts\": \"Exact match\", \"m_probability\": 0.9701739425914105, \"u_probability\": 0.010907318543921298, \"m_probability_description\": \"Amongst matching record comparisons, 97.02% of records are in the exact match comparison level\", \"u_probability_description\": \"Amongst non-matching record comparisons, 1.09% of records are in the exact match comparison level\", \"has_tf_adjustments\": false, \"tf_adjustment_column\": null, \"tf_adjustment_weight\": 1.0, \"is_null_level\": false, \"bayes_factor\": 88.94706234944364, \"log2_bayes_factor\": 6.47487505334354, \"comparison_vector_value\": 2, \"max_comparison_vector_value\": 2, \"bayes_factor_description\": \"If comparison level is `exact match` then comparison is 88.95 times more likely to be a match\", \"probability_two_random_records_match\": 0.0001343391522636049, \"comparison_sort_order\": 5, \"iteration\": 0}, {\"comparison_name\": \"year_of_birth\", \"sql_condition\": \"abs(year_of_birth_l - year_of_birth_r) <= 5\", \"label_for_charts\": \"Inexact match\", \"m_probability\": 0.00944796091399557, \"u_probability\": 0.10780150502221279, \"m_probability_description\": \"Amongst matching record comparisons, 0.94% of records are in the inexact match comparison level\", \"u_probability_description\": \"Amongst non-matching record comparisons, 10.78% of records are in the inexact match comparison level\", \"has_tf_adjustments\": false, \"tf_adjustment_column\": null, \"tf_adjustment_weight\": 1.0, \"is_null_level\": false, \"bayes_factor\": 0.08764219861354247, \"log2_bayes_factor\": -3.5122305131934133, \"comparison_vector_value\": 1, \"max_comparison_vector_value\": 2, \"bayes_factor_description\": \"If comparison level is `inexact match` then comparison is  11.41 times less likely to be a match\", \"probability_two_random_records_match\": 0.0001343391522636049, \"comparison_sort_order\": 5, \"iteration\": 0}, {\"comparison_name\": \"year_of_birth\", \"sql_condition\": \"ELSE\", \"label_for_charts\": \"All other comparisons\", \"m_probability\": 0.02037809649459392, \"u_probability\": 0.8812911764338659, \"m_probability_description\": \"Amongst matching record comparisons, 2.04% of records are in the all other comparisons comparison level\", \"u_probability_description\": \"Amongst non-matching record comparisons, 88.13% of records are in the all other comparisons comparison level\", \"has_tf_adjustments\": false, \"tf_adjustment_column\": null, \"tf_adjustment_weight\": 1.0, \"is_null_level\": false, \"bayes_factor\": 0.02312300070568463, \"log2_bayes_factor\": -5.4345275591376385, \"comparison_vector_value\": 0, \"max_comparison_vector_value\": 2, \"bayes_factor_description\": \"If comparison level is `all other comparisons` then comparison is  43.25 times less likely to be a match\", \"probability_two_random_records_match\": 0.0001343391522636049, \"comparison_sort_order\": 5, \"iteration\": 0}, {\"comparison_name\": \"first_name_15\", \"sql_condition\": \"`first_name_15_l` = `first_name_15_r`\", \"label_for_charts\": \"Exact match\", \"m_probability\": 0.8636240064767338, \"u_probability\": 0.0017875649663137633, \"m_probability_description\": \"Amongst matching record comparisons, 86.36% of records are in the exact match comparison level\", \"u_probability_description\": \"Amongst non-matching record comparisons, 0.18% of records are in the exact match comparison level\", \"has_tf_adjustments\": false, \"tf_adjustment_column\": null, \"tf_adjustment_weight\": 1.0, \"is_null_level\": false, \"bayes_factor\": 483.1287381166686, \"log2_bayes_factor\": 8.916263861433718, \"comparison_vector_value\": 2, \"max_comparison_vector_value\": 2, \"bayes_factor_description\": \"If comparison level is `exact match` then comparison is 483.13 times more likely to be a match\", \"probability_two_random_records_match\": 0.0001343391522636049, \"comparison_sort_order\": 0, \"iteration\": 1}, {\"comparison_name\": \"first_name_15\", \"sql_condition\": \"jaro_winkler(`first_name_15_l`, `first_name_15_r`) >= 0.8333333333333334\", \"label_for_charts\": \"Jaro_winkler >= 0.8333333333333334\", \"m_probability\": 0.08787937934733932, \"u_probability\": 0.0033337696503047804, \"m_probability_description\": \"Amongst matching record comparisons, 8.79% of records are in the jaro_winkler >= 0.8333333333333334 comparison level\", \"u_probability_description\": \"Amongst non-matching record comparisons, 0.33% of records are in the jaro_winkler >= 0.8333333333333334 comparison level\", \"has_tf_adjustments\": false, \"tf_adjustment_column\": null, \"tf_adjustment_weight\": 1.0, \"is_null_level\": false, \"bayes_factor\": 26.360363362029286, \"log2_bayes_factor\": 4.72029835206886, \"comparison_vector_value\": 1, \"max_comparison_vector_value\": 2, \"bayes_factor_description\": \"If comparison level is `jaro_winkler >= 0.8333333333333334` then comparison is 26.36 times more likely to be a match\", \"probability_two_random_records_match\": 0.0001343391522636049, \"comparison_sort_order\": 0, \"iteration\": 1}, {\"comparison_name\": \"first_name_15\", \"sql_condition\": \"ELSE\", \"label_for_charts\": \"All other comparisons\", \"m_probability\": 0.048496614175926975, \"u_probability\": 0.9948786653833814, \"m_probability_description\": \"Amongst matching record comparisons, 4.85% of records are in the all other comparisons comparison level\", \"u_probability_description\": \"Amongst non-matching record comparisons, 99.49% of records are in the all other comparisons comparison level\", \"has_tf_adjustments\": false, \"tf_adjustment_column\": null, \"tf_adjustment_weight\": 1.0, \"is_null_level\": false, \"bayes_factor\": 0.04874626008513165, \"log2_bayes_factor\": -4.358564653242893, \"comparison_vector_value\": 0, \"max_comparison_vector_value\": 2, \"bayes_factor_description\": \"If comparison level is `all other comparisons` then comparison is  20.51 times less likely to be a match\", \"probability_two_random_records_match\": 0.0001343391522636049, \"comparison_sort_order\": 0, \"iteration\": 1}, {\"comparison_name\": \"last_name_12\", \"sql_condition\": \"`last_name_12_l` = `last_name_12_r`\", \"label_for_charts\": \"Exact match\", \"m_probability\": 0.8851816447704917, \"u_probability\": 0.0004849346356234464, \"m_probability_description\": \"Amongst matching record comparisons, 88.52% of records are in the exact match comparison level\", \"u_probability_description\": \"Amongst non-matching record comparisons, 0.05% of records are in the exact match comparison level\", \"has_tf_adjustments\": false, \"tf_adjustment_column\": null, \"tf_adjustment_weight\": 1.0, \"is_null_level\": false, \"bayes_factor\": 1825.3628009731162, \"log2_bayes_factor\": 10.83396752078946, \"comparison_vector_value\": 2, \"max_comparison_vector_value\": 2, \"bayes_factor_description\": \"If comparison level is `exact match` then comparison is 1,825.36 times more likely to be a match\", \"probability_two_random_records_match\": 0.0001343391522636049, \"comparison_sort_order\": 1, \"iteration\": 1}, {\"comparison_name\": \"last_name_12\", \"sql_condition\": \"jaro_winkler(`last_name_12_l`, `last_name_12_r`) >= 0.8333333333333334\", \"label_for_charts\": \"Jaro_winkler >= 0.8333333333333334\", \"m_probability\": 0.0877239009928037, \"u_probability\": 0.0012152157599232165, \"m_probability_description\": \"Amongst matching record comparisons, 8.77% of records are in the jaro_winkler >= 0.8333333333333334 comparison level\", \"u_probability_description\": \"Amongst non-matching record comparisons, 0.12% of records are in the jaro_winkler >= 0.8333333333333334 comparison level\", \"has_tf_adjustments\": false, \"tf_adjustment_column\": null, \"tf_adjustment_weight\": 1.0, \"is_null_level\": false, \"bayes_factor\": 72.1879224133388, \"log2_bayes_factor\": 6.173685578372283, \"comparison_vector_value\": 1, \"max_comparison_vector_value\": 2, \"bayes_factor_description\": \"If comparison level is `jaro_winkler >= 0.8333333333333334` then comparison is 72.19 times more likely to be a match\", \"probability_two_random_records_match\": 0.0001343391522636049, \"comparison_sort_order\": 1, \"iteration\": 1}, {\"comparison_name\": \"last_name_12\", \"sql_condition\": \"ELSE\", \"label_for_charts\": \"All other comparisons\", \"m_probability\": 0.027094454236704604, \"u_probability\": 0.9982998496044533, \"m_probability_description\": \"Amongst matching record comparisons, 2.71% of records are in the all other comparisons comparison level\", \"u_probability_description\": \"Amongst non-matching record comparisons, 99.83% of records are in the all other comparisons comparison level\", \"has_tf_adjustments\": false, \"tf_adjustment_column\": null, \"tf_adjustment_weight\": 1.0, \"is_null_level\": false, \"bayes_factor\": 0.027140597333997374, \"log2_bayes_factor\": -5.203403716574612, \"comparison_vector_value\": 0, \"max_comparison_vector_value\": 2, \"bayes_factor_description\": \"If comparison level is `all other comparisons` then comparison is  36.85 times less likely to be a match\", \"probability_two_random_records_match\": 0.0001343391522636049, \"comparison_sort_order\": 1, \"iteration\": 1}, {\"comparison_name\": \"middle_initial\", \"sql_condition\": \"`middle_initial_l` = `middle_initial_r`\", \"label_for_charts\": \"Exact match\", \"m_probability\": 0.9302506984822946, \"u_probability\": 0.06649740874668783, \"m_probability_description\": \"Amongst matching record comparisons, 93.03% of records are in the exact match comparison level\", \"u_probability_description\": \"Amongst non-matching record comparisons, 6.65% of records are in the exact match comparison level\", \"has_tf_adjustments\": false, \"tf_adjustment_column\": null, \"tf_adjustment_weight\": 1.0, \"is_null_level\": false, \"bayes_factor\": 13.989277417199048, \"log2_bayes_factor\": 3.8062495403388374, \"comparison_vector_value\": 1, \"max_comparison_vector_value\": 1, \"bayes_factor_description\": \"If comparison level is `exact match` then comparison is 13.99 times more likely to be a match\", \"probability_two_random_records_match\": 0.0001343391522636049, \"comparison_sort_order\": 2, \"iteration\": 1}, {\"comparison_name\": \"middle_initial\", \"sql_condition\": \"ELSE\", \"label_for_charts\": \"All other comparisons\", \"m_probability\": 0.06974930151770536, \"u_probability\": 0.9335025912533121, \"m_probability_description\": \"Amongst matching record comparisons, 6.97% of records are in the all other comparisons comparison level\", \"u_probability_description\": \"Amongst non-matching record comparisons, 93.35% of records are in the all other comparisons comparison level\", \"has_tf_adjustments\": false, \"tf_adjustment_column\": null, \"tf_adjustment_weight\": 1.0, \"is_null_level\": false, \"bayes_factor\": 0.07471784456865897, \"log2_bayes_factor\": -3.7424033524327034, \"comparison_vector_value\": 0, \"max_comparison_vector_value\": 1, \"bayes_factor_description\": \"If comparison level is `all other comparisons` then comparison is  13.38 times less likely to be a match\", \"probability_two_random_records_match\": 0.0001343391522636049, \"comparison_sort_order\": 2, \"iteration\": 1}, {\"comparison_name\": \"day_of_birth\", \"sql_condition\": \"`day_of_birth_l` = `day_of_birth_r`\", \"label_for_charts\": \"Exact match\", \"m_probability\": 0.9771204326811347, \"u_probability\": 0.03263074146367179, \"m_probability_description\": \"Amongst matching record comparisons, 97.71% of records are in the exact match comparison level\", \"u_probability_description\": \"Amongst non-matching record comparisons, 3.26% of records are in the exact match comparison level\", \"has_tf_adjustments\": false, \"tf_adjustment_column\": null, \"tf_adjustment_weight\": 1.0, \"is_null_level\": false, \"bayes_factor\": 29.944781787106336, \"log2_bayes_factor\": 4.904232714069363, \"comparison_vector_value\": 2, \"max_comparison_vector_value\": 2, \"bayes_factor_description\": \"If comparison level is `exact match` then comparison is 29.94 times more likely to be a match\", \"probability_two_random_records_match\": 0.0001343391522636049, \"comparison_sort_order\": 3, \"iteration\": 1}, {\"comparison_name\": \"day_of_birth\", \"sql_condition\": \"abs(day_of_birth_l - day_of_birth_r) <= 5\", \"label_for_charts\": \"Inexact match\", \"m_probability\": 0.014448299207524364, \"u_probability\": 0.29448557752556886, \"m_probability_description\": \"Amongst matching record comparisons, 1.44% of records are in the inexact match comparison level\", \"u_probability_description\": \"Amongst non-matching record comparisons, 29.45% of records are in the inexact match comparison level\", \"has_tf_adjustments\": false, \"tf_adjustment_column\": null, \"tf_adjustment_weight\": 1.0, \"is_null_level\": false, \"bayes_factor\": 0.049062841477423055, \"log2_bayes_factor\": -4.349225399689306, \"comparison_vector_value\": 1, \"max_comparison_vector_value\": 2, \"bayes_factor_description\": \"If comparison level is `inexact match` then comparison is  20.38 times less likely to be a match\", \"probability_two_random_records_match\": 0.0001343391522636049, \"comparison_sort_order\": 3, \"iteration\": 1}, {\"comparison_name\": \"day_of_birth\", \"sql_condition\": \"ELSE\", \"label_for_charts\": \"All other comparisons\", \"m_probability\": 0.008431268111340923, \"u_probability\": 0.6728836810107593, \"m_probability_description\": \"Amongst matching record comparisons, 0.84% of records are in the all other comparisons comparison level\", \"u_probability_description\": \"Amongst non-matching record comparisons, 67.29% of records are in the all other comparisons comparison level\", \"has_tf_adjustments\": false, \"tf_adjustment_column\": null, \"tf_adjustment_weight\": 1.0, \"is_null_level\": false, \"bayes_factor\": 0.012530052889194837, \"log2_bayes_factor\": -6.318463685504571, \"comparison_vector_value\": 0, \"max_comparison_vector_value\": 2, \"bayes_factor_description\": \"If comparison level is `all other comparisons` then comparison is  79.81 times less likely to be a match\", \"probability_two_random_records_match\": 0.0001343391522636049, \"comparison_sort_order\": 3, \"iteration\": 1}, {\"comparison_name\": \"month_of_birth\", \"sql_condition\": \"`month_of_birth_l` = `month_of_birth_r`\", \"label_for_charts\": \"Exact match\", \"m_probability\": 0.9828580932870955, \"u_probability\": 0.08335009639337561, \"m_probability_description\": \"Amongst matching record comparisons, 98.29% of records are in the exact match comparison level\", \"u_probability_description\": \"Amongst non-matching record comparisons, 8.34% of records are in the exact match comparison level\", \"has_tf_adjustments\": false, \"tf_adjustment_column\": null, \"tf_adjustment_weight\": 1.0, \"is_null_level\": false, \"bayes_factor\": 11.791925094464675, \"log2_bayes_factor\": 3.559727360068364, \"comparison_vector_value\": 2, \"max_comparison_vector_value\": 2, \"bayes_factor_description\": \"If comparison level is `exact match` then comparison is 11.79 times more likely to be a match\", \"probability_two_random_records_match\": 0.0001343391522636049, \"comparison_sort_order\": 4, \"iteration\": 1}, {\"comparison_name\": \"month_of_birth\", \"sql_condition\": \"abs(month_of_birth_l - month_of_birth_r) <= 3\", \"label_for_charts\": \"Inexact match\", \"m_probability\": 0.009476697092376916, \"u_probability\": 0.42042112968689377, \"m_probability_description\": \"Amongst matching record comparisons, 0.95% of records are in the inexact match comparison level\", \"u_probability_description\": \"Amongst non-matching record comparisons, 42.04% of records are in the inexact match comparison level\", \"has_tf_adjustments\": false, \"tf_adjustment_column\": null, \"tf_adjustment_weight\": 1.0, \"is_null_level\": false, \"bayes_factor\": 0.022540962913625753, \"log2_bayes_factor\": -5.47130704334, \"comparison_vector_value\": 1, \"max_comparison_vector_value\": 2, \"bayes_factor_description\": \"If comparison level is `inexact match` then comparison is  44.36 times less likely to be a match\", \"probability_two_random_records_match\": 0.0001343391522636049, \"comparison_sort_order\": 4, \"iteration\": 1}, {\"comparison_name\": \"month_of_birth\", \"sql_condition\": \"ELSE\", \"label_for_charts\": \"All other comparisons\", \"m_probability\": 0.007665209620527573, \"u_probability\": 0.4962287739197306, \"m_probability_description\": \"Amongst matching record comparisons, 0.77% of records are in the all other comparisons comparison level\", \"u_probability_description\": \"Amongst non-matching record comparisons, 49.62% of records are in the all other comparisons comparison level\", \"has_tf_adjustments\": false, \"tf_adjustment_column\": null, \"tf_adjustment_weight\": 1.0, \"is_null_level\": false, \"bayes_factor\": 0.015446926948592241, \"log2_bayes_factor\": -6.016536336564213, \"comparison_vector_value\": 0, \"max_comparison_vector_value\": 2, \"bayes_factor_description\": \"If comparison level is `all other comparisons` then comparison is  64.74 times less likely to be a match\", \"probability_two_random_records_match\": 0.0001343391522636049, \"comparison_sort_order\": 4, \"iteration\": 1}, {\"comparison_name\": \"year_of_birth\", \"sql_condition\": \"`year_of_birth_l` = `year_of_birth_r`\", \"label_for_charts\": \"Exact match\", \"m_probability\": 0.9690914265838808, \"u_probability\": 0.010907318543921298, \"m_probability_description\": \"Amongst matching record comparisons, 96.91% of records are in the exact match comparison level\", \"u_probability_description\": \"Amongst non-matching record comparisons, 1.09% of records are in the exact match comparison level\", \"has_tf_adjustments\": false, \"tf_adjustment_column\": null, \"tf_adjustment_weight\": 1.0, \"is_null_level\": false, \"bayes_factor\": 88.84781559111613, \"log2_bayes_factor\": 6.473264401534065, \"comparison_vector_value\": 2, \"max_comparison_vector_value\": 2, \"bayes_factor_description\": \"If comparison level is `exact match` then comparison is 88.85 times more likely to be a match\", \"probability_two_random_records_match\": 0.0001343391522636049, \"comparison_sort_order\": 5, \"iteration\": 1}, {\"comparison_name\": \"year_of_birth\", \"sql_condition\": \"abs(year_of_birth_l - year_of_birth_r) <= 5\", \"label_for_charts\": \"Inexact match\", \"m_probability\": 0.009916454231397583, \"u_probability\": 0.10780150502221279, \"m_probability_description\": \"Amongst matching record comparisons, 0.99% of records are in the inexact match comparison level\", \"u_probability_description\": \"Amongst non-matching record comparisons, 10.78% of records are in the inexact match comparison level\", \"has_tf_adjustments\": false, \"tf_adjustment_column\": null, \"tf_adjustment_weight\": 1.0, \"is_null_level\": false, \"bayes_factor\": 0.0919880870805493, \"log2_bayes_factor\": -3.4424091527642986, \"comparison_vector_value\": 1, \"max_comparison_vector_value\": 2, \"bayes_factor_description\": \"If comparison level is `inexact match` then comparison is  10.87 times less likely to be a match\", \"probability_two_random_records_match\": 0.0001343391522636049, \"comparison_sort_order\": 5, \"iteration\": 1}, {\"comparison_name\": \"year_of_birth\", \"sql_condition\": \"ELSE\", \"label_for_charts\": \"All other comparisons\", \"m_probability\": 0.020992119184721544, \"u_probability\": 0.8812911764338659, \"m_probability_description\": \"Amongst matching record comparisons, 2.10% of records are in the all other comparisons comparison level\", \"u_probability_description\": \"Amongst non-matching record comparisons, 88.13% of records are in the all other comparisons comparison level\", \"has_tf_adjustments\": false, \"tf_adjustment_column\": null, \"tf_adjustment_weight\": 1.0, \"is_null_level\": false, \"bayes_factor\": 0.023819731487232064, \"log2_bayes_factor\": -5.391699039554315, \"comparison_vector_value\": 0, \"max_comparison_vector_value\": 2, \"bayes_factor_description\": \"If comparison level is `all other comparisons` then comparison is  41.98 times less likely to be a match\", \"probability_two_random_records_match\": 0.0001343391522636049, \"comparison_sort_order\": 5, \"iteration\": 1}, {\"comparison_name\": \"first_name_15\", \"sql_condition\": \"`first_name_15_l` = `first_name_15_r`\", \"label_for_charts\": \"Exact match\", \"m_probability\": 0.858462995747195, \"u_probability\": 0.0017875649663137633, \"m_probability_description\": \"Amongst matching record comparisons, 85.85% of records are in the exact match comparison level\", \"u_probability_description\": \"Amongst non-matching record comparisons, 0.18% of records are in the exact match comparison level\", \"has_tf_adjustments\": false, \"tf_adjustment_column\": null, \"tf_adjustment_weight\": 1.0, \"is_null_level\": false, \"bayes_factor\": 480.2415643205847, \"log2_bayes_factor\": 8.907616462239718, \"comparison_vector_value\": 2, \"max_comparison_vector_value\": 2, \"bayes_factor_description\": \"If comparison level is `exact match` then comparison is 480.24 times more likely to be a match\", \"probability_two_random_records_match\": 0.0001343391522636049, \"comparison_sort_order\": 0, \"iteration\": 2}, {\"comparison_name\": \"first_name_15\", \"sql_condition\": \"jaro_winkler(`first_name_15_l`, `first_name_15_r`) >= 0.8333333333333334\", \"label_for_charts\": \"Jaro_winkler >= 0.8333333333333334\", \"m_probability\": 0.08925989939841485, \"u_probability\": 0.0033337696503047804, \"m_probability_description\": \"Amongst matching record comparisons, 8.93% of records are in the jaro_winkler >= 0.8333333333333334 comparison level\", \"u_probability_description\": \"Amongst non-matching record comparisons, 0.33% of records are in the jaro_winkler >= 0.8333333333333334 comparison level\", \"has_tf_adjustments\": false, \"tf_adjustment_column\": null, \"tf_adjustment_weight\": 1.0, \"is_null_level\": false, \"bayes_factor\": 26.774465173457475, \"log2_bayes_factor\": 4.742785851961607, \"comparison_vector_value\": 1, \"max_comparison_vector_value\": 2, \"bayes_factor_description\": \"If comparison level is `jaro_winkler >= 0.8333333333333334` then comparison is 26.77 times more likely to be a match\", \"probability_two_random_records_match\": 0.0001343391522636049, \"comparison_sort_order\": 0, \"iteration\": 2}, {\"comparison_name\": \"first_name_15\", \"sql_condition\": \"ELSE\", \"label_for_charts\": \"All other comparisons\", \"m_probability\": 0.0522771048543901, \"u_probability\": 0.9948786653833814, \"m_probability_description\": \"Amongst matching record comparisons, 5.23% of records are in the all other comparisons comparison level\", \"u_probability_description\": \"Amongst non-matching record comparisons, 99.49% of records are in the all other comparisons comparison level\", \"has_tf_adjustments\": false, \"tf_adjustment_column\": null, \"tf_adjustment_weight\": 1.0, \"is_null_level\": false, \"bayes_factor\": 0.052546211586761545, \"log2_bayes_factor\": -4.25026943552087, \"comparison_vector_value\": 0, \"max_comparison_vector_value\": 2, \"bayes_factor_description\": \"If comparison level is `all other comparisons` then comparison is  19.03 times less likely to be a match\", \"probability_two_random_records_match\": 0.0001343391522636049, \"comparison_sort_order\": 0, \"iteration\": 2}, {\"comparison_name\": \"last_name_12\", \"sql_condition\": \"`last_name_12_l` = `last_name_12_r`\", \"label_for_charts\": \"Exact match\", \"m_probability\": 0.8844240503386475, \"u_probability\": 0.0004849346356234464, \"m_probability_description\": \"Amongst matching record comparisons, 88.44% of records are in the exact match comparison level\", \"u_probability_description\": \"Amongst non-matching record comparisons, 0.05% of records are in the exact match comparison level\", \"has_tf_adjustments\": false, \"tf_adjustment_column\": null, \"tf_adjustment_weight\": 1.0, \"is_null_level\": false, \"bayes_factor\": 1823.8005400492905, \"log2_bayes_factor\": 10.832732242445115, \"comparison_vector_value\": 2, \"max_comparison_vector_value\": 2, \"bayes_factor_description\": \"If comparison level is `exact match` then comparison is 1,823.80 times more likely to be a match\", \"probability_two_random_records_match\": 0.0001343391522636049, \"comparison_sort_order\": 1, \"iteration\": 2}, {\"comparison_name\": \"last_name_12\", \"sql_condition\": \"jaro_winkler(`last_name_12_l`, `last_name_12_r`) >= 0.8333333333333334\", \"label_for_charts\": \"Jaro_winkler >= 0.8333333333333334\", \"m_probability\": 0.0880672516583418, \"u_probability\": 0.0012152157599232165, \"m_probability_description\": \"Amongst matching record comparisons, 8.81% of records are in the jaro_winkler >= 0.8333333333333334 comparison level\", \"u_probability_description\": \"Amongst non-matching record comparisons, 0.12% of records are in the jaro_winkler >= 0.8333333333333334 comparison level\", \"has_tf_adjustments\": false, \"tf_adjustment_column\": null, \"tf_adjustment_weight\": 1.0, \"is_null_level\": false, \"bayes_factor\": 72.4704653796675, \"log2_bayes_factor\": 6.17932125371647, \"comparison_vector_value\": 1, \"max_comparison_vector_value\": 2, \"bayes_factor_description\": \"If comparison level is `jaro_winkler >= 0.8333333333333334` then comparison is 72.47 times more likely to be a match\", \"probability_two_random_records_match\": 0.0001343391522636049, \"comparison_sort_order\": 1, \"iteration\": 2}, {\"comparison_name\": \"last_name_12\", \"sql_condition\": \"ELSE\", \"label_for_charts\": \"All other comparisons\", \"m_probability\": 0.02750869800301068, \"u_probability\": 0.9982998496044533, \"m_probability_description\": \"Amongst matching record comparisons, 2.75% of records are in the all other comparisons comparison level\", \"u_probability_description\": \"Amongst non-matching record comparisons, 99.83% of records are in the all other comparisons comparison level\", \"has_tf_adjustments\": false, \"tf_adjustment_column\": null, \"tf_adjustment_weight\": 1.0, \"is_null_level\": false, \"bayes_factor\": 0.02755554657642209, \"log2_bayes_factor\": -5.181513445827931, \"comparison_vector_value\": 0, \"max_comparison_vector_value\": 2, \"bayes_factor_description\": \"If comparison level is `all other comparisons` then comparison is  36.29 times less likely to be a match\", \"probability_two_random_records_match\": 0.0001343391522636049, \"comparison_sort_order\": 1, \"iteration\": 2}, {\"comparison_name\": \"middle_initial\", \"sql_condition\": \"`middle_initial_l` = `middle_initial_r`\", \"label_for_charts\": \"Exact match\", \"m_probability\": 0.928697293263816, \"u_probability\": 0.06649740874668783, \"m_probability_description\": \"Amongst matching record comparisons, 92.87% of records are in the exact match comparison level\", \"u_probability_description\": \"Amongst non-matching record comparisons, 6.65% of records are in the exact match comparison level\", \"has_tf_adjustments\": false, \"tf_adjustment_column\": null, \"tf_adjustment_weight\": 1.0, \"is_null_level\": false, \"bayes_factor\": 13.96591702996357, \"log2_bayes_factor\": 3.8038384018489135, \"comparison_vector_value\": 1, \"max_comparison_vector_value\": 1, \"bayes_factor_description\": \"If comparison level is `exact match` then comparison is 13.97 times more likely to be a match\", \"probability_two_random_records_match\": 0.0001343391522636049, \"comparison_sort_order\": 2, \"iteration\": 2}, {\"comparison_name\": \"middle_initial\", \"sql_condition\": \"ELSE\", \"label_for_charts\": \"All other comparisons\", \"m_probability\": 0.07130270673618398, \"u_probability\": 0.9335025912533121, \"m_probability_description\": \"Amongst matching record comparisons, 7.13% of records are in the all other comparisons comparison level\", \"u_probability_description\": \"Amongst non-matching record comparisons, 93.35% of records are in the all other comparisons comparison level\", \"has_tf_adjustments\": false, \"tf_adjustment_column\": null, \"tf_adjustment_weight\": 1.0, \"is_null_level\": false, \"bayes_factor\": 0.07638190552899657, \"log2_bayes_factor\": -3.710625277893089, \"comparison_vector_value\": 0, \"max_comparison_vector_value\": 1, \"bayes_factor_description\": \"If comparison level is `all other comparisons` then comparison is  13.09 times less likely to be a match\", \"probability_two_random_records_match\": 0.0001343391522636049, \"comparison_sort_order\": 2, \"iteration\": 2}, {\"comparison_name\": \"day_of_birth\", \"sql_condition\": \"`day_of_birth_l` = `day_of_birth_r`\", \"label_for_charts\": \"Exact match\", \"m_probability\": 0.9765598157142673, \"u_probability\": 0.03263074146367179, \"m_probability_description\": \"Amongst matching record comparisons, 97.66% of records are in the exact match comparison level\", \"u_probability_description\": \"Amongst non-matching record comparisons, 3.26% of records are in the exact match comparison level\", \"has_tf_adjustments\": false, \"tf_adjustment_column\": null, \"tf_adjustment_weight\": 1.0, \"is_null_level\": false, \"bayes_factor\": 29.927601148796555, \"log2_bayes_factor\": 4.903404738927779, \"comparison_vector_value\": 2, \"max_comparison_vector_value\": 2, \"bayes_factor_description\": \"If comparison level is `exact match` then comparison is 29.93 times more likely to be a match\", \"probability_two_random_records_match\": 0.0001343391522636049, \"comparison_sort_order\": 3, \"iteration\": 2}, {\"comparison_name\": \"day_of_birth\", \"sql_condition\": \"abs(day_of_birth_l - day_of_birth_r) <= 5\", \"label_for_charts\": \"Inexact match\", \"m_probability\": 0.014707183035067488, \"u_probability\": 0.29448557752556886, \"m_probability_description\": \"Amongst matching record comparisons, 1.47% of records are in the inexact match comparison level\", \"u_probability_description\": \"Amongst non-matching record comparisons, 29.45% of records are in the inexact match comparison level\", \"has_tf_adjustments\": false, \"tf_adjustment_column\": null, \"tf_adjustment_weight\": 1.0, \"is_null_level\": false, \"bayes_factor\": 0.04994194676236913, \"log2_bayes_factor\": -4.323604130429405, \"comparison_vector_value\": 1, \"max_comparison_vector_value\": 2, \"bayes_factor_description\": \"If comparison level is `inexact match` then comparison is  20.02 times less likely to be a match\", \"probability_two_random_records_match\": 0.0001343391522636049, \"comparison_sort_order\": 3, \"iteration\": 2}, {\"comparison_name\": \"day_of_birth\", \"sql_condition\": \"ELSE\", \"label_for_charts\": \"All other comparisons\", \"m_probability\": 0.00873300125066526, \"u_probability\": 0.6728836810107593, \"m_probability_description\": \"Amongst matching record comparisons, 0.87% of records are in the all other comparisons comparison level\", \"u_probability_description\": \"Amongst non-matching record comparisons, 67.29% of records are in the all other comparisons comparison level\", \"has_tf_adjustments\": false, \"tf_adjustment_column\": null, \"tf_adjustment_weight\": 1.0, \"is_null_level\": false, \"bayes_factor\": 0.012978470866684045, \"log2_bayes_factor\": -6.267735775852718, \"comparison_vector_value\": 0, \"max_comparison_vector_value\": 2, \"bayes_factor_description\": \"If comparison level is `all other comparisons` then comparison is  77.05 times less likely to be a match\", \"probability_two_random_records_match\": 0.0001343391522636049, \"comparison_sort_order\": 3, \"iteration\": 2}, {\"comparison_name\": \"month_of_birth\", \"sql_condition\": \"`month_of_birth_l` = `month_of_birth_r`\", \"label_for_charts\": \"Exact match\", \"m_probability\": 0.9824478751097683, \"u_probability\": 0.08335009639337561, \"m_probability_description\": \"Amongst matching record comparisons, 98.24% of records are in the exact match comparison level\", \"u_probability_description\": \"Amongst non-matching record comparisons, 8.34% of records are in the exact match comparison level\", \"has_tf_adjustments\": false, \"tf_adjustment_column\": null, \"tf_adjustment_weight\": 1.0, \"is_null_level\": false, \"bayes_factor\": 11.78700346635532, \"log2_bayes_factor\": 3.5591250927896567, \"comparison_vector_value\": 2, \"max_comparison_vector_value\": 2, \"bayes_factor_description\": \"If comparison level is `exact match` then comparison is 11.79 times more likely to be a match\", \"probability_two_random_records_match\": 0.0001343391522636049, \"comparison_sort_order\": 4, \"iteration\": 2}, {\"comparison_name\": \"month_of_birth\", \"sql_condition\": \"abs(month_of_birth_l - month_of_birth_r) <= 3\", \"label_for_charts\": \"Inexact match\", \"m_probability\": 0.009647747012152872, \"u_probability\": 0.42042112968689377, \"m_probability_description\": \"Amongst matching record comparisons, 0.96% of records are in the inexact match comparison level\", \"u_probability_description\": \"Amongst non-matching record comparisons, 42.04% of records are in the inexact match comparison level\", \"has_tf_adjustments\": false, \"tf_adjustment_column\": null, \"tf_adjustment_weight\": 1.0, \"is_null_level\": false, \"bayes_factor\": 0.022947816679285308, \"log2_bayes_factor\": -5.445499291726343, \"comparison_vector_value\": 1, \"max_comparison_vector_value\": 2, \"bayes_factor_description\": \"If comparison level is `inexact match` then comparison is  43.58 times less likely to be a match\", \"probability_two_random_records_match\": 0.0001343391522636049, \"comparison_sort_order\": 4, \"iteration\": 2}, {\"comparison_name\": \"month_of_birth\", \"sql_condition\": \"ELSE\", \"label_for_charts\": \"All other comparisons\", \"m_probability\": 0.007904377878078829, \"u_probability\": 0.4962287739197306, \"m_probability_description\": \"Amongst matching record comparisons, 0.79% of records are in the all other comparisons comparison level\", \"u_probability_description\": \"Amongst non-matching record comparisons, 49.62% of records are in the all other comparisons comparison level\", \"has_tf_adjustments\": false, \"tf_adjustment_column\": null, \"tf_adjustment_weight\": 1.0, \"is_null_level\": false, \"bayes_factor\": 0.015928898712668026, \"log2_bayes_factor\": -5.972209664072513, \"comparison_vector_value\": 0, \"max_comparison_vector_value\": 2, \"bayes_factor_description\": \"If comparison level is `all other comparisons` then comparison is  62.78 times less likely to be a match\", \"probability_two_random_records_match\": 0.0001343391522636049, \"comparison_sort_order\": 4, \"iteration\": 2}, {\"comparison_name\": \"year_of_birth\", \"sql_condition\": \"`year_of_birth_l` = `year_of_birth_r`\", \"label_for_charts\": \"Exact match\", \"m_probability\": 0.9685590927055835, \"u_probability\": 0.010907318543921298, \"m_probability_description\": \"Amongst matching record comparisons, 96.86% of records are in the exact match comparison level\", \"u_probability_description\": \"Amongst non-matching record comparisons, 1.09% of records are in the exact match comparison level\", \"has_tf_adjustments\": false, \"tf_adjustment_column\": null, \"tf_adjustment_weight\": 1.0, \"is_null_level\": false, \"bayes_factor\": 88.79901038971363, \"log2_bayes_factor\": 6.472471693604546, \"comparison_vector_value\": 2, \"max_comparison_vector_value\": 2, \"bayes_factor_description\": \"If comparison level is `exact match` then comparison is 88.80 times more likely to be a match\", \"probability_two_random_records_match\": 0.0001343391522636049, \"comparison_sort_order\": 5, \"iteration\": 2}, {\"comparison_name\": \"year_of_birth\", \"sql_condition\": \"abs(year_of_birth_l - year_of_birth_r) <= 5\", \"label_for_charts\": \"Inexact match\", \"m_probability\": 0.010091557183644474, \"u_probability\": 0.10780150502221279, \"m_probability_description\": \"Amongst matching record comparisons, 1.01% of records are in the inexact match comparison level\", \"u_probability_description\": \"Amongst non-matching record comparisons, 10.78% of records are in the inexact match comparison level\", \"has_tf_adjustments\": false, \"tf_adjustment_column\": null, \"tf_adjustment_weight\": 1.0, \"is_null_level\": false, \"bayes_factor\": 0.0936123960566699, \"log2_bayes_factor\": -3.4171566071310076, \"comparison_vector_value\": 1, \"max_comparison_vector_value\": 2, \"bayes_factor_description\": \"If comparison level is `inexact match` then comparison is  10.68 times less likely to be a match\", \"probability_two_random_records_match\": 0.0001343391522636049, \"comparison_sort_order\": 5, \"iteration\": 2}, {\"comparison_name\": \"year_of_birth\", \"sql_condition\": \"ELSE\", \"label_for_charts\": \"All other comparisons\", \"m_probability\": 0.02134935011077197, \"u_probability\": 0.8812911764338659, \"m_probability_description\": \"Amongst matching record comparisons, 2.13% of records are in the all other comparisons comparison level\", \"u_probability_description\": \"Amongst non-matching record comparisons, 88.13% of records are in the all other comparisons comparison level\", \"has_tf_adjustments\": false, \"tf_adjustment_column\": null, \"tf_adjustment_weight\": 1.0, \"is_null_level\": false, \"bayes_factor\": 0.024225080973988483, \"log2_bayes_factor\": -5.367354701819553, \"comparison_vector_value\": 0, \"max_comparison_vector_value\": 2, \"bayes_factor_description\": \"If comparison level is `all other comparisons` then comparison is  41.28 times less likely to be a match\", \"probability_two_random_records_match\": 0.0001343391522636049, \"comparison_sort_order\": 5, \"iteration\": 2}, {\"comparison_name\": \"first_name_15\", \"sql_condition\": \"`first_name_15_l` = `first_name_15_r`\", \"label_for_charts\": \"Exact match\", \"m_probability\": 0.8579483687595314, \"u_probability\": 0.0017875649663137633, \"m_probability_description\": \"Amongst matching record comparisons, 85.79% of records are in the exact match comparison level\", \"u_probability_description\": \"Amongst non-matching record comparisons, 0.18% of records are in the exact match comparison level\", \"has_tf_adjustments\": false, \"tf_adjustment_column\": null, \"tf_adjustment_weight\": 1.0, \"is_null_level\": false, \"bayes_factor\": 479.95367157410465, \"log2_bayes_factor\": 8.906751343491834, \"comparison_vector_value\": 2, \"max_comparison_vector_value\": 2, \"bayes_factor_description\": \"If comparison level is `exact match` then comparison is 479.95 times more likely to be a match\", \"probability_two_random_records_match\": 0.0001343391522636049, \"comparison_sort_order\": 0, \"iteration\": 3}, {\"comparison_name\": \"first_name_15\", \"sql_condition\": \"jaro_winkler(`first_name_15_l`, `first_name_15_r`) >= 0.8333333333333334\", \"label_for_charts\": \"Jaro_winkler >= 0.8333333333333334\", \"m_probability\": 0.08924799739737194, \"u_probability\": 0.0033337696503047804, \"m_probability_description\": \"Amongst matching record comparisons, 8.92% of records are in the jaro_winkler >= 0.8333333333333334 comparison level\", \"u_probability_description\": \"Amongst non-matching record comparisons, 0.33% of records are in the jaro_winkler >= 0.8333333333333334 comparison level\", \"has_tf_adjustments\": false, \"tf_adjustment_column\": null, \"tf_adjustment_weight\": 1.0, \"is_null_level\": false, \"bayes_factor\": 26.770895040457486, \"log2_bayes_factor\": 4.742593468787361, \"comparison_vector_value\": 1, \"max_comparison_vector_value\": 2, \"bayes_factor_description\": \"If comparison level is `jaro_winkler >= 0.8333333333333334` then comparison is 26.77 times more likely to be a match\", \"probability_two_random_records_match\": 0.0001343391522636049, \"comparison_sort_order\": 0, \"iteration\": 3}, {\"comparison_name\": \"first_name_15\", \"sql_condition\": \"ELSE\", \"label_for_charts\": \"All other comparisons\", \"m_probability\": 0.05280363384309668, \"u_probability\": 0.9948786653833814, \"m_probability_description\": \"Amongst matching record comparisons, 5.28% of records are in the all other comparisons comparison level\", \"u_probability_description\": \"Amongst non-matching record comparisons, 99.49% of records are in the all other comparisons comparison level\", \"has_tf_adjustments\": false, \"tf_adjustment_column\": null, \"tf_adjustment_weight\": 1.0, \"is_null_level\": false, \"bayes_factor\": 0.05307545098753177, \"log2_bayes_factor\": -4.2358114648647724, \"comparison_vector_value\": 0, \"max_comparison_vector_value\": 2, \"bayes_factor_description\": \"If comparison level is `all other comparisons` then comparison is  18.84 times less likely to be a match\", \"probability_two_random_records_match\": 0.0001343391522636049, \"comparison_sort_order\": 0, \"iteration\": 3}, {\"comparison_name\": \"last_name_12\", \"sql_condition\": \"`last_name_12_l` = `last_name_12_r`\", \"label_for_charts\": \"Exact match\", \"m_probability\": 0.8842993559202058, \"u_probability\": 0.0004849346356234464, \"m_probability_description\": \"Amongst matching record comparisons, 88.43% of records are in the exact match comparison level\", \"u_probability_description\": \"Amongst non-matching record comparisons, 0.05% of records are in the exact match comparison level\", \"has_tf_adjustments\": false, \"tf_adjustment_column\": null, \"tf_adjustment_weight\": 1.0, \"is_null_level\": false, \"bayes_factor\": 1823.5434035008125, \"log2_bayes_factor\": 10.83252882339296, \"comparison_vector_value\": 2, \"max_comparison_vector_value\": 2, \"bayes_factor_description\": \"If comparison level is `exact match` then comparison is 1,823.54 times more likely to be a match\", \"probability_two_random_records_match\": 0.0001343391522636049, \"comparison_sort_order\": 1, \"iteration\": 3}, {\"comparison_name\": \"last_name_12\", \"sql_condition\": \"jaro_winkler(`last_name_12_l`, `last_name_12_r`) >= 0.8333333333333334\", \"label_for_charts\": \"Jaro_winkler >= 0.8333333333333334\", \"m_probability\": 0.08809315039604183, \"u_probability\": 0.0012152157599232165, \"m_probability_description\": \"Amongst matching record comparisons, 8.81% of records are in the jaro_winkler >= 0.8333333333333334 comparison level\", \"u_probability_description\": \"Amongst non-matching record comparisons, 0.12% of records are in the jaro_winkler >= 0.8333333333333334 comparison level\", \"has_tf_adjustments\": false, \"tf_adjustment_column\": null, \"tf_adjustment_weight\": 1.0, \"is_null_level\": false, \"bayes_factor\": 72.49177742856791, \"log2_bayes_factor\": 6.17974545779728, \"comparison_vector_value\": 1, \"max_comparison_vector_value\": 2, \"bayes_factor_description\": \"If comparison level is `jaro_winkler >= 0.8333333333333334` then comparison is 72.49 times more likely to be a match\", \"probability_two_random_records_match\": 0.0001343391522636049, \"comparison_sort_order\": 1, \"iteration\": 3}, {\"comparison_name\": \"last_name_12\", \"sql_condition\": \"ELSE\", \"label_for_charts\": \"All other comparisons\", \"m_probability\": 0.027607493683752357, \"u_probability\": 0.9982998496044533, \"m_probability_description\": \"Amongst matching record comparisons, 2.76% of records are in the all other comparisons comparison level\", \"u_probability_description\": \"Amongst non-matching record comparisons, 99.83% of records are in the all other comparisons comparison level\", \"has_tf_adjustments\": false, \"tf_adjustment_column\": null, \"tf_adjustment_weight\": 1.0, \"is_null_level\": false, \"bayes_factor\": 0.027654510510735836, \"log2_bayes_factor\": -5.176341383428126, \"comparison_vector_value\": 0, \"max_comparison_vector_value\": 2, \"bayes_factor_description\": \"If comparison level is `all other comparisons` then comparison is  36.16 times less likely to be a match\", \"probability_two_random_records_match\": 0.0001343391522636049, \"comparison_sort_order\": 1, \"iteration\": 3}, {\"comparison_name\": \"middle_initial\", \"sql_condition\": \"`middle_initial_l` = `middle_initial_r`\", \"label_for_charts\": \"Exact match\", \"m_probability\": 0.9285386424941818, \"u_probability\": 0.06649740874668783, \"m_probability_description\": \"Amongst matching record comparisons, 92.85% of records are in the exact match comparison level\", \"u_probability_description\": \"Amongst non-matching record comparisons, 6.65% of records are in the exact match comparison level\", \"has_tf_adjustments\": false, \"tf_adjustment_column\": null, \"tf_adjustment_weight\": 1.0, \"is_null_level\": false, \"bayes_factor\": 13.96353121113808, \"log2_bayes_factor\": 3.803591923009328, \"comparison_vector_value\": 1, \"max_comparison_vector_value\": 1, \"bayes_factor_description\": \"If comparison level is `exact match` then comparison is 13.96 times more likely to be a match\", \"probability_two_random_records_match\": 0.0001343391522636049, \"comparison_sort_order\": 2, \"iteration\": 3}, {\"comparison_name\": \"middle_initial\", \"sql_condition\": \"ELSE\", \"label_for_charts\": \"All other comparisons\", \"m_probability\": 0.07146135750581811, \"u_probability\": 0.9335025912533121, \"m_probability_description\": \"Amongst matching record comparisons, 7.15% of records are in the all other comparisons comparison level\", \"u_probability_description\": \"Amongst non-matching record comparisons, 93.35% of records are in the all other comparisons comparison level\", \"has_tf_adjustments\": false, \"tf_adjustment_column\": null, \"tf_adjustment_weight\": 1.0, \"is_null_level\": false, \"bayes_factor\": 0.07655185767601859, \"log2_bayes_factor\": -3.7074188018934113, \"comparison_vector_value\": 0, \"max_comparison_vector_value\": 1, \"bayes_factor_description\": \"If comparison level is `all other comparisons` then comparison is  13.06 times less likely to be a match\", \"probability_two_random_records_match\": 0.0001343391522636049, \"comparison_sort_order\": 2, \"iteration\": 3}, {\"comparison_name\": \"day_of_birth\", \"sql_condition\": \"`day_of_birth_l` = `day_of_birth_r`\", \"label_for_charts\": \"Exact match\", \"m_probability\": 0.9764579506861782, \"u_probability\": 0.03263074146367179, \"m_probability_description\": \"Amongst matching record comparisons, 97.65% of records are in the exact match comparison level\", \"u_probability_description\": \"Amongst non-matching record comparisons, 3.26% of records are in the exact match comparison level\", \"has_tf_adjustments\": false, \"tf_adjustment_column\": null, \"tf_adjustment_weight\": 1.0, \"is_null_level\": false, \"bayes_factor\": 29.924479398461752, \"log2_bayes_factor\": 4.9032542434499335, \"comparison_vector_value\": 2, \"max_comparison_vector_value\": 2, \"bayes_factor_description\": \"If comparison level is `exact match` then comparison is 29.92 times more likely to be a match\", \"probability_two_random_records_match\": 0.0001343391522636049, \"comparison_sort_order\": 3, \"iteration\": 3}, {\"comparison_name\": \"day_of_birth\", \"sql_condition\": \"abs(day_of_birth_l - day_of_birth_r) <= 5\", \"label_for_charts\": \"Inexact match\", \"m_probability\": 0.014751455325019293, \"u_probability\": 0.29448557752556886, \"m_probability_description\": \"Amongst matching record comparisons, 1.48% of records are in the inexact match comparison level\", \"u_probability_description\": \"Amongst non-matching record comparisons, 29.45% of records are in the inexact match comparison level\", \"has_tf_adjustments\": false, \"tf_adjustment_column\": null, \"tf_adjustment_weight\": 1.0, \"is_null_level\": false, \"bayes_factor\": 0.050092284481193274, \"log2_bayes_factor\": -4.319267781921495, \"comparison_vector_value\": 1, \"max_comparison_vector_value\": 2, \"bayes_factor_description\": \"If comparison level is `inexact match` then comparison is  19.96 times less likely to be a match\", \"probability_two_random_records_match\": 0.0001343391522636049, \"comparison_sort_order\": 3, \"iteration\": 3}, {\"comparison_name\": \"day_of_birth\", \"sql_condition\": \"ELSE\", \"label_for_charts\": \"All other comparisons\", \"m_probability\": 0.0087905939888025, \"u_probability\": 0.6728836810107593, \"m_probability_description\": \"Amongst matching record comparisons, 0.88% of records are in the all other comparisons comparison level\", \"u_probability_description\": \"Amongst non-matching record comparisons, 67.29% of records are in the all other comparisons comparison level\", \"has_tf_adjustments\": false, \"tf_adjustment_column\": null, \"tf_adjustment_weight\": 1.0, \"is_null_level\": false, \"bayes_factor\": 0.013064061793856966, \"log2_bayes_factor\": -6.2582526697055165, \"comparison_vector_value\": 0, \"max_comparison_vector_value\": 2, \"bayes_factor_description\": \"If comparison level is `all other comparisons` then comparison is  76.55 times less likely to be a match\", \"probability_two_random_records_match\": 0.0001343391522636049, \"comparison_sort_order\": 3, \"iteration\": 3}, {\"comparison_name\": \"month_of_birth\", \"sql_condition\": \"`month_of_birth_l` = `month_of_birth_r`\", \"label_for_charts\": \"Exact match\", \"m_probability\": 0.9823744282002043, \"u_probability\": 0.08335009639337561, \"m_probability_description\": \"Amongst matching record comparisons, 98.24% of records are in the exact match comparison level\", \"u_probability_description\": \"Amongst non-matching record comparisons, 8.34% of records are in the exact match comparison level\", \"has_tf_adjustments\": false, \"tf_adjustment_column\": null, \"tf_adjustment_weight\": 1.0, \"is_null_level\": false, \"bayes_factor\": 11.786122280696969, \"log2_bayes_factor\": 3.559017234188838, \"comparison_vector_value\": 2, \"max_comparison_vector_value\": 2, \"bayes_factor_description\": \"If comparison level is `exact match` then comparison is 11.79 times more likely to be a match\", \"probability_two_random_records_match\": 0.0001343391522636049, \"comparison_sort_order\": 4, \"iteration\": 3}, {\"comparison_name\": \"month_of_birth\", \"sql_condition\": \"abs(month_of_birth_l - month_of_birth_r) <= 3\", \"label_for_charts\": \"Inexact match\", \"m_probability\": 0.009678739282224643, \"u_probability\": 0.42042112968689377, \"m_probability_description\": \"Amongst matching record comparisons, 0.97% of records are in the inexact match comparison level\", \"u_probability_description\": \"Amongst non-matching record comparisons, 42.04% of records are in the inexact match comparison level\", \"has_tf_adjustments\": false, \"tf_adjustment_column\": null, \"tf_adjustment_weight\": 1.0, \"is_null_level\": false, \"bayes_factor\": 0.02302153388302065, \"log2_bayes_factor\": -5.440872228949935, \"comparison_vector_value\": 1, \"max_comparison_vector_value\": 2, \"bayes_factor_description\": \"If comparison level is `inexact match` then comparison is  43.44 times less likely to be a match\", \"probability_two_random_records_match\": 0.0001343391522636049, \"comparison_sort_order\": 4, \"iteration\": 3}, {\"comparison_name\": \"month_of_birth\", \"sql_condition\": \"ELSE\", \"label_for_charts\": \"All other comparisons\", \"m_probability\": 0.007946832517571044, \"u_probability\": 0.4962287739197306, \"m_probability_description\": \"Amongst matching record comparisons, 0.79% of records are in the all other comparisons comparison level\", \"u_probability_description\": \"Amongst non-matching record comparisons, 49.62% of records are in the all other comparisons comparison level\", \"has_tf_adjustments\": false, \"tf_adjustment_column\": null, \"tf_adjustment_weight\": 1.0, \"is_null_level\": false, \"bayes_factor\": 0.01601445328290559, \"log2_bayes_factor\": -5.964481642958051, \"comparison_vector_value\": 0, \"max_comparison_vector_value\": 2, \"bayes_factor_description\": \"If comparison level is `all other comparisons` then comparison is  62.44 times less likely to be a match\", \"probability_two_random_records_match\": 0.0001343391522636049, \"comparison_sort_order\": 4, \"iteration\": 3}, {\"comparison_name\": \"year_of_birth\", \"sql_condition\": \"`year_of_birth_l` = `year_of_birth_r`\", \"label_for_charts\": \"Exact match\", \"m_probability\": 0.9684610588420174, \"u_probability\": 0.010907318543921298, \"m_probability_description\": \"Amongst matching record comparisons, 96.85% of records are in the exact match comparison level\", \"u_probability_description\": \"Amongst non-matching record comparisons, 1.09% of records are in the exact match comparison level\", \"has_tf_adjustments\": false, \"tf_adjustment_column\": null, \"tf_adjustment_weight\": 1.0, \"is_null_level\": false, \"bayes_factor\": 88.79002249198503, \"log2_bayes_factor\": 6.472325662115081, \"comparison_vector_value\": 2, \"max_comparison_vector_value\": 2, \"bayes_factor_description\": \"If comparison level is `exact match` then comparison is 88.79 times more likely to be a match\", \"probability_two_random_records_match\": 0.0001343391522636049, \"comparison_sort_order\": 5, \"iteration\": 3}, {\"comparison_name\": \"year_of_birth\", \"sql_condition\": \"abs(year_of_birth_l - year_of_birth_r) <= 5\", \"label_for_charts\": \"Inexact match\", \"m_probability\": 0.010122510001206177, \"u_probability\": 0.10780150502221279, \"m_probability_description\": \"Amongst matching record comparisons, 1.01% of records are in the inexact match comparison level\", \"u_probability_description\": \"Amongst non-matching record comparisons, 10.78% of records are in the inexact match comparison level\", \"has_tf_adjustments\": false, \"tf_adjustment_column\": null, \"tf_adjustment_weight\": 1.0, \"is_null_level\": false, \"bayes_factor\": 0.09389952393633472, \"log2_bayes_factor\": -3.4127383462346534, \"comparison_vector_value\": 1, \"max_comparison_vector_value\": 2, \"bayes_factor_description\": \"If comparison level is `inexact match` then comparison is  10.65 times less likely to be a match\", \"probability_two_random_records_match\": 0.0001343391522636049, \"comparison_sort_order\": 5, \"iteration\": 3}, {\"comparison_name\": \"year_of_birth\", \"sql_condition\": \"ELSE\", \"label_for_charts\": \"All other comparisons\", \"m_probability\": 0.021416431156776473, \"u_probability\": 0.8812911764338659, \"m_probability_description\": \"Amongst matching record comparisons, 2.14% of records are in the all other comparisons comparison level\", \"u_probability_description\": \"Amongst non-matching record comparisons, 88.13% of records are in the all other comparisons comparison level\", \"has_tf_adjustments\": false, \"tf_adjustment_column\": null, \"tf_adjustment_weight\": 1.0, \"is_null_level\": false, \"bayes_factor\": 0.024301197753321215, \"log2_bayes_factor\": -5.36282876688229, \"comparison_vector_value\": 0, \"max_comparison_vector_value\": 2, \"bayes_factor_description\": \"If comparison level is `all other comparisons` then comparison is  41.15 times less likely to be a match\", \"probability_two_random_records_match\": 0.0001343391522636049, \"comparison_sort_order\": 5, \"iteration\": 3}, {\"comparison_name\": \"first_name_15\", \"sql_condition\": \"`first_name_15_l` = `first_name_15_r`\", \"label_for_charts\": \"Exact match\", \"m_probability\": 0.8578806275878608, \"u_probability\": 0.0017875649663137633, \"m_probability_description\": \"Amongst matching record comparisons, 85.79% of records are in the exact match comparison level\", \"u_probability_description\": \"Amongst non-matching record comparisons, 0.18% of records are in the exact match comparison level\", \"has_tf_adjustments\": false, \"tf_adjustment_column\": null, \"tf_adjustment_weight\": 1.0, \"is_null_level\": false, \"bayes_factor\": 479.91577579244233, \"log2_bayes_factor\": 8.906637427882886, \"comparison_vector_value\": 2, \"max_comparison_vector_value\": 2, \"bayes_factor_description\": \"If comparison level is `exact match` then comparison is 479.92 times more likely to be a match\", \"probability_two_random_records_match\": 0.0001343391522636049, \"comparison_sort_order\": 0, \"iteration\": 4}, {\"comparison_name\": \"first_name_15\", \"sql_condition\": \"jaro_winkler(`first_name_15_l`, `first_name_15_r`) >= 0.8333333333333334\", \"label_for_charts\": \"Jaro_winkler >= 0.8333333333333334\", \"m_probability\": 0.08924322855625819, \"u_probability\": 0.0033337696503047804, \"m_probability_description\": \"Amongst matching record comparisons, 8.92% of records are in the jaro_winkler >= 0.8333333333333334 comparison level\", \"u_probability_description\": \"Amongst non-matching record comparisons, 0.33% of records are in the jaro_winkler >= 0.8333333333333334 comparison level\", \"has_tf_adjustments\": false, \"tf_adjustment_column\": null, \"tf_adjustment_weight\": 1.0, \"is_null_level\": false, \"bayes_factor\": 26.76946457536422, \"log2_bayes_factor\": 4.742516378348989, \"comparison_vector_value\": 1, \"max_comparison_vector_value\": 2, \"bayes_factor_description\": \"If comparison level is `jaro_winkler >= 0.8333333333333334` then comparison is 26.77 times more likely to be a match\", \"probability_two_random_records_match\": 0.0001343391522636049, \"comparison_sort_order\": 0, \"iteration\": 4}, {\"comparison_name\": \"first_name_15\", \"sql_condition\": \"ELSE\", \"label_for_charts\": \"All other comparisons\", \"m_probability\": 0.05287614385588095, \"u_probability\": 0.9948786653833814, \"m_probability_description\": \"Amongst matching record comparisons, 5.29% of records are in the all other comparisons comparison level\", \"u_probability_description\": \"Amongst non-matching record comparisons, 99.49% of records are in the all other comparisons comparison level\", \"has_tf_adjustments\": false, \"tf_adjustment_column\": null, \"tf_adjustment_weight\": 1.0, \"is_null_level\": false, \"bayes_factor\": 0.053148334259942004, \"log2_bayes_factor\": -4.233831713306769, \"comparison_vector_value\": 0, \"max_comparison_vector_value\": 2, \"bayes_factor_description\": \"If comparison level is `all other comparisons` then comparison is  18.82 times less likely to be a match\", \"probability_two_random_records_match\": 0.0001343391522636049, \"comparison_sort_order\": 0, \"iteration\": 4}, {\"comparison_name\": \"last_name_12\", \"sql_condition\": \"`last_name_12_l` = `last_name_12_r`\", \"label_for_charts\": \"Exact match\", \"m_probability\": 0.8842777532556686, \"u_probability\": 0.0004849346356234464, \"m_probability_description\": \"Amongst matching record comparisons, 88.43% of records are in the exact match comparison level\", \"u_probability_description\": \"Amongst non-matching record comparisons, 0.05% of records are in the exact match comparison level\", \"has_tf_adjustments\": false, \"tf_adjustment_column\": null, \"tf_adjustment_weight\": 1.0, \"is_null_level\": false, \"bayes_factor\": 1823.4988559206845, \"log2_bayes_factor\": 10.832493579176763, \"comparison_vector_value\": 2, \"max_comparison_vector_value\": 2, \"bayes_factor_description\": \"If comparison level is `exact match` then comparison is 1,823.50 times more likely to be a match\", \"probability_two_random_records_match\": 0.0001343391522636049, \"comparison_sort_order\": 1, \"iteration\": 4}, {\"comparison_name\": \"last_name_12\", \"sql_condition\": \"jaro_winkler(`last_name_12_l`, `last_name_12_r`) >= 0.8333333333333334\", \"label_for_charts\": \"Jaro_winkler >= 0.8333333333333334\", \"m_probability\": 0.08809536215404054, \"u_probability\": 0.0012152157599232165, \"m_probability_description\": \"Amongst matching record comparisons, 8.81% of records are in the jaro_winkler >= 0.8333333333333334 comparison level\", \"u_probability_description\": \"Amongst non-matching record comparisons, 0.12% of records are in the jaro_winkler >= 0.8333333333333334 comparison level\", \"has_tf_adjustments\": false, \"tf_adjustment_column\": null, \"tf_adjustment_weight\": 1.0, \"is_null_level\": false, \"bayes_factor\": 72.4935974823161, \"log2_bayes_factor\": 6.179781679140549, \"comparison_vector_value\": 1, \"max_comparison_vector_value\": 2, \"bayes_factor_description\": \"If comparison level is `jaro_winkler >= 0.8333333333333334` then comparison is 72.49 times more likely to be a match\", \"probability_two_random_records_match\": 0.0001343391522636049, \"comparison_sort_order\": 1, \"iteration\": 4}, {\"comparison_name\": \"last_name_12\", \"sql_condition\": \"ELSE\", \"label_for_charts\": \"All other comparisons\", \"m_probability\": 0.027626884590290862, \"u_probability\": 0.9982998496044533, \"m_probability_description\": \"Amongst matching record comparisons, 2.76% of records are in the all other comparisons comparison level\", \"u_probability_description\": \"Amongst non-matching record comparisons, 99.83% of records are in the all other comparisons comparison level\", \"has_tf_adjustments\": false, \"tf_adjustment_column\": null, \"tf_adjustment_weight\": 1.0, \"is_null_level\": false, \"bayes_factor\": 0.027673934440876853, \"log2_bayes_factor\": -5.175328421330067, \"comparison_vector_value\": 0, \"max_comparison_vector_value\": 2, \"bayes_factor_description\": \"If comparison level is `all other comparisons` then comparison is  36.14 times less likely to be a match\", \"probability_two_random_records_match\": 0.0001343391522636049, \"comparison_sort_order\": 1, \"iteration\": 4}, {\"comparison_name\": \"middle_initial\", \"sql_condition\": \"`middle_initial_l` = `middle_initial_r`\", \"label_for_charts\": \"Exact match\", \"m_probability\": 0.9285200305747954, \"u_probability\": 0.06649740874668783, \"m_probability_description\": \"Amongst matching record comparisons, 92.85% of records are in the exact match comparison level\", \"u_probability_description\": \"Amongst non-matching record comparisons, 6.65% of records are in the exact match comparison level\", \"has_tf_adjustments\": false, \"tf_adjustment_column\": null, \"tf_adjustment_weight\": 1.0, \"is_null_level\": false, \"bayes_factor\": 13.963251321744835, \"log2_bayes_factor\": 3.8035630048882254, \"comparison_vector_value\": 1, \"max_comparison_vector_value\": 1, \"bayes_factor_description\": \"If comparison level is `exact match` then comparison is 13.96 times more likely to be a match\", \"probability_two_random_records_match\": 0.0001343391522636049, \"comparison_sort_order\": 2, \"iteration\": 4}, {\"comparison_name\": \"middle_initial\", \"sql_condition\": \"ELSE\", \"label_for_charts\": \"All other comparisons\", \"m_probability\": 0.07147996942520465, \"u_probability\": 0.9335025912533121, \"m_probability_description\": \"Amongst matching record comparisons, 7.15% of records are in the all other comparisons comparison level\", \"u_probability_description\": \"Amongst non-matching record comparisons, 93.35% of records are in the all other comparisons comparison level\", \"has_tf_adjustments\": false, \"tf_adjustment_column\": null, \"tf_adjustment_weight\": 1.0, \"is_null_level\": false, \"bayes_factor\": 0.07657179540255618, \"log2_bayes_factor\": -3.7070431047520924, \"comparison_vector_value\": 0, \"max_comparison_vector_value\": 1, \"bayes_factor_description\": \"If comparison level is `all other comparisons` then comparison is  13.06 times less likely to be a match\", \"probability_two_random_records_match\": 0.0001343391522636049, \"comparison_sort_order\": 2, \"iteration\": 4}, {\"comparison_name\": \"day_of_birth\", \"sql_condition\": \"`day_of_birth_l` = `day_of_birth_r`\", \"label_for_charts\": \"Exact match\", \"m_probability\": 0.9764404965541282, \"u_probability\": 0.03263074146367179, \"m_probability_description\": \"Amongst matching record comparisons, 97.64% of records are in the exact match comparison level\", \"u_probability_description\": \"Amongst non-matching record comparisons, 3.26% of records are in the exact match comparison level\", \"has_tf_adjustments\": false, \"tf_adjustment_column\": null, \"tf_adjustment_weight\": 1.0, \"is_null_level\": false, \"bayes_factor\": 29.923944500041824, \"log2_bayes_factor\": 4.90322845512511, \"comparison_vector_value\": 2, \"max_comparison_vector_value\": 2, \"bayes_factor_description\": \"If comparison level is `exact match` then comparison is 29.92 times more likely to be a match\", \"probability_two_random_records_match\": 0.0001343391522636049, \"comparison_sort_order\": 3, \"iteration\": 4}, {\"comparison_name\": \"day_of_birth\", \"sql_condition\": \"abs(day_of_birth_l - day_of_birth_r) <= 5\", \"label_for_charts\": \"Inexact match\", \"m_probability\": 0.01475872869455734, \"u_probability\": 0.29448557752556886, \"m_probability_description\": \"Amongst matching record comparisons, 1.48% of records are in the inexact match comparison level\", \"u_probability_description\": \"Amongst non-matching record comparisons, 29.45% of records are in the inexact match comparison level\", \"has_tf_adjustments\": false, \"tf_adjustment_column\": null, \"tf_adjustment_weight\": 1.0, \"is_null_level\": false, \"bayes_factor\": 0.05011698304062414, \"log2_bayes_factor\": -4.318556620353094, \"comparison_vector_value\": 1, \"max_comparison_vector_value\": 2, \"bayes_factor_description\": \"If comparison level is `inexact match` then comparison is  19.95 times less likely to be a match\", \"probability_two_random_records_match\": 0.0001343391522636049, \"comparison_sort_order\": 3, \"iteration\": 4}, {\"comparison_name\": \"day_of_birth\", \"sql_condition\": \"ELSE\", \"label_for_charts\": \"All other comparisons\", \"m_probability\": 0.008800774751314416, \"u_probability\": 0.6728836810107593, \"m_probability_description\": \"Amongst matching record comparisons, 0.88% of records are in the all other comparisons comparison level\", \"u_probability_description\": \"Amongst non-matching record comparisons, 67.29% of records are in the all other comparisons comparison level\", \"has_tf_adjustments\": false, \"tf_adjustment_column\": null, \"tf_adjustment_weight\": 1.0, \"is_null_level\": false, \"bayes_factor\": 0.013079191842035017, \"log2_bayes_factor\": -6.256582789726851, \"comparison_vector_value\": 0, \"max_comparison_vector_value\": 2, \"bayes_factor_description\": \"If comparison level is `all other comparisons` then comparison is  76.46 times less likely to be a match\", \"probability_two_random_records_match\": 0.0001343391522636049, \"comparison_sort_order\": 3, \"iteration\": 4}, {\"comparison_name\": \"month_of_birth\", \"sql_condition\": \"`month_of_birth_l` = `month_of_birth_r`\", \"label_for_charts\": \"Exact match\", \"m_probability\": 0.9823618816848441, \"u_probability\": 0.08335009639337561, \"m_probability_description\": \"Amongst matching record comparisons, 98.24% of records are in the exact match comparison level\", \"u_probability_description\": \"Amongst non-matching record comparisons, 8.34% of records are in the exact match comparison level\", \"has_tf_adjustments\": false, \"tf_adjustment_column\": null, \"tf_adjustment_weight\": 1.0, \"is_null_level\": false, \"bayes_factor\": 11.785971752792346, \"log2_bayes_factor\": 3.558998808514716, \"comparison_vector_value\": 2, \"max_comparison_vector_value\": 2, \"bayes_factor_description\": \"If comparison level is `exact match` then comparison is 11.79 times more likely to be a match\", \"probability_two_random_records_match\": 0.0001343391522636049, \"comparison_sort_order\": 4, \"iteration\": 4}, {\"comparison_name\": \"month_of_birth\", \"sql_condition\": \"abs(month_of_birth_l - month_of_birth_r) <= 3\", \"label_for_charts\": \"Inexact match\", \"m_probability\": 0.009684028192092976, \"u_probability\": 0.42042112968689377, \"m_probability_description\": \"Amongst matching record comparisons, 0.97% of records are in the inexact match comparison level\", \"u_probability_description\": \"Amongst non-matching record comparisons, 42.04% of records are in the inexact match comparison level\", \"has_tf_adjustments\": false, \"tf_adjustment_column\": null, \"tf_adjustment_weight\": 1.0, \"is_null_level\": false, \"bayes_factor\": 0.023034113911698732, \"log2_bayes_factor\": -5.440084089110045, \"comparison_vector_value\": 1, \"max_comparison_vector_value\": 2, \"bayes_factor_description\": \"If comparison level is `inexact match` then comparison is  43.41 times less likely to be a match\", \"probability_two_random_records_match\": 0.0001343391522636049, \"comparison_sort_order\": 4, \"iteration\": 4}, {\"comparison_name\": \"month_of_birth\", \"sql_condition\": \"ELSE\", \"label_for_charts\": \"All other comparisons\", \"m_probability\": 0.007954090123062934, \"u_probability\": 0.4962287739197306, \"m_probability_description\": \"Amongst matching record comparisons, 0.80% of records are in the all other comparisons comparison level\", \"u_probability_description\": \"Amongst non-matching record comparisons, 49.62% of records are in the all other comparisons comparison level\", \"has_tf_adjustments\": false, \"tf_adjustment_column\": null, \"tf_adjustment_weight\": 1.0, \"is_null_level\": false, \"bayes_factor\": 0.01602907880619913, \"log2_bayes_factor\": -5.963164673821656, \"comparison_vector_value\": 0, \"max_comparison_vector_value\": 2, \"bayes_factor_description\": \"If comparison level is `all other comparisons` then comparison is  62.39 times less likely to be a match\", \"probability_two_random_records_match\": 0.0001343391522636049, \"comparison_sort_order\": 4, \"iteration\": 4}, {\"comparison_name\": \"year_of_birth\", \"sql_condition\": \"`year_of_birth_l` = `year_of_birth_r`\", \"label_for_charts\": \"Exact match\", \"m_probability\": 0.9684445163934081, \"u_probability\": 0.010907318543921298, \"m_probability_description\": \"Amongst matching record comparisons, 96.84% of records are in the exact match comparison level\", \"u_probability_description\": \"Amongst non-matching record comparisons, 1.09% of records are in the exact match comparison level\", \"has_tf_adjustments\": false, \"tf_adjustment_column\": null, \"tf_adjustment_weight\": 1.0, \"is_null_level\": false, \"bayes_factor\": 88.78850585445925, \"log2_bayes_factor\": 6.472301018984431, \"comparison_vector_value\": 2, \"max_comparison_vector_value\": 2, \"bayes_factor_description\": \"If comparison level is `exact match` then comparison is 88.79 times more likely to be a match\", \"probability_two_random_records_match\": 0.0001343391522636049, \"comparison_sort_order\": 5, \"iteration\": 4}, {\"comparison_name\": \"year_of_birth\", \"sql_condition\": \"abs(year_of_birth_l - year_of_birth_r) <= 5\", \"label_for_charts\": \"Inexact match\", \"m_probability\": 0.010127667981368547, \"u_probability\": 0.10780150502221279, \"m_probability_description\": \"Amongst matching record comparisons, 1.01% of records are in the inexact match comparison level\", \"u_probability_description\": \"Amongst non-matching record comparisons, 10.78% of records are in the inexact match comparison level\", \"has_tf_adjustments\": false, \"tf_adjustment_column\": null, \"tf_adjustment_weight\": 1.0, \"is_null_level\": false, \"bayes_factor\": 0.09394737095072758, \"log2_bayes_factor\": -3.4120034003424657, \"comparison_vector_value\": 1, \"max_comparison_vector_value\": 2, \"bayes_factor_description\": \"If comparison level is `inexact match` then comparison is  10.64 times less likely to be a match\", \"probability_two_random_records_match\": 0.0001343391522636049, \"comparison_sort_order\": 5, \"iteration\": 4}, {\"comparison_name\": \"year_of_birth\", \"sql_condition\": \"ELSE\", \"label_for_charts\": \"All other comparisons\", \"m_probability\": 0.0214278156252234, \"u_probability\": 0.8812911764338659, \"m_probability_description\": \"Amongst matching record comparisons, 2.14% of records are in the all other comparisons comparison level\", \"u_probability_description\": \"Amongst non-matching record comparisons, 88.13% of records are in the all other comparisons comparison level\", \"has_tf_adjustments\": false, \"tf_adjustment_column\": null, \"tf_adjustment_weight\": 1.0, \"is_null_level\": false, \"bayes_factor\": 0.02431411569548534, \"log2_bayes_factor\": -5.3620620680701165, \"comparison_vector_value\": 0, \"max_comparison_vector_value\": 2, \"bayes_factor_description\": \"If comparison level is `all other comparisons` then comparison is  41.13 times less likely to be a match\", \"probability_two_random_records_match\": 0.0001343391522636049, \"comparison_sort_order\": 5, \"iteration\": 4}]}}, {\"mode\": \"vega-lite\"});\n",
       "</script>"
      ],
      "text/plain": [
       "alt.HConcatChart(...)"
      ]
     },
     "execution_count": 60,
     "metadata": {},
     "output_type": "execute_result"
    }
   ],
   "source": [
    "em_session_2.m_u_values_interactive_history_chart()"
   ]
  },
  {
   "cell_type": "code",
   "execution_count": 61,
   "id": "c2226bd7-8baa-4be1-bb4d-f43ac0783ec3",
   "metadata": {
    "execution": {
     "iopub.execute_input": "2024-02-13T00:34:35.365835Z",
     "iopub.status.busy": "2024-02-13T00:34:35.365235Z",
     "iopub.status.idle": "2024-02-13T00:34:37.108563Z",
     "shell.execute_reply": "2024-02-13T00:34:37.107813Z"
    },
    "papermill": {
     "duration": 1.808101,
     "end_time": "2024-02-13T00:34:37.110448",
     "exception": false,
     "start_time": "2024-02-13T00:34:35.302347",
     "status": "completed"
    },
    "tags": []
   },
   "outputs": [
    {
     "data": {
      "text/html": [
       "\n",
       "<style>\n",
       "  #altair-viz-64901c868de646359e9cb87418b8f5e7.vega-embed {\n",
       "    width: 100%;\n",
       "    display: flex;\n",
       "  }\n",
       "\n",
       "  #altair-viz-64901c868de646359e9cb87418b8f5e7.vega-embed details,\n",
       "  #altair-viz-64901c868de646359e9cb87418b8f5e7.vega-embed details summary {\n",
       "    position: relative;\n",
       "  }\n",
       "</style>\n",
       "<div id=\"altair-viz-64901c868de646359e9cb87418b8f5e7\"></div>\n",
       "<script type=\"text/javascript\">\n",
       "  var VEGA_DEBUG = (typeof VEGA_DEBUG == \"undefined\") ? {} : VEGA_DEBUG;\n",
       "  (function(spec, embedOpt){\n",
       "    let outputDiv = document.currentScript.previousElementSibling;\n",
       "    if (outputDiv.id !== \"altair-viz-64901c868de646359e9cb87418b8f5e7\") {\n",
       "      outputDiv = document.getElementById(\"altair-viz-64901c868de646359e9cb87418b8f5e7\");\n",
       "    }\n",
       "    const paths = {\n",
       "      \"vega\": \"https://cdn.jsdelivr.net/npm/vega@5?noext\",\n",
       "      \"vega-lib\": \"https://cdn.jsdelivr.net/npm/vega-lib?noext\",\n",
       "      \"vega-lite\": \"https://cdn.jsdelivr.net/npm/vega-lite@5.15.1?noext\",\n",
       "      \"vega-embed\": \"https://cdn.jsdelivr.net/npm/vega-embed@6?noext\",\n",
       "    };\n",
       "\n",
       "    function maybeLoadScript(lib, version) {\n",
       "      var key = `${lib.replace(\"-\", \"\")}_version`;\n",
       "      return (VEGA_DEBUG[key] == version) ?\n",
       "        Promise.resolve(paths[lib]) :\n",
       "        new Promise(function(resolve, reject) {\n",
       "          var s = document.createElement('script');\n",
       "          document.getElementsByTagName(\"head\")[0].appendChild(s);\n",
       "          s.async = true;\n",
       "          s.onload = () => {\n",
       "            VEGA_DEBUG[key] = version;\n",
       "            return resolve(paths[lib]);\n",
       "          };\n",
       "          s.onerror = () => reject(`Error loading script: ${paths[lib]}`);\n",
       "          s.src = paths[lib];\n",
       "        });\n",
       "    }\n",
       "\n",
       "    function showError(err) {\n",
       "      outputDiv.innerHTML = `<div class=\"error\" style=\"color:red;\">${err}</div>`;\n",
       "      throw err;\n",
       "    }\n",
       "\n",
       "    function displayChart(vegaEmbed) {\n",
       "      vegaEmbed(outputDiv, spec, embedOpt)\n",
       "        .catch(err => showError(`Javascript Error: ${err.message}<br>This usually means there's a typo in your chart specification. See the javascript console for the full traceback.`));\n",
       "    }\n",
       "\n",
       "    if(typeof define === \"function\" && define.amd) {\n",
       "      requirejs.config({paths});\n",
       "      require([\"vega-embed\"], displayChart, err => showError(`Error loading script: ${err.message}`));\n",
       "    } else {\n",
       "      maybeLoadScript(\"vega\", \"5\")\n",
       "        .then(() => maybeLoadScript(\"vega-lite\", \"5.15.1\"))\n",
       "        .then(() => maybeLoadScript(\"vega-embed\", \"6\"))\n",
       "        .catch(showError)\n",
       "        .then(() => displayChart(vegaEmbed));\n",
       "    }\n",
       "  })({\"config\": {\"view\": {\"continuousWidth\": 300, \"continuousHeight\": 300, \"discreteHeight\": 60, \"discreteWidth\": 400}, \"header\": {\"title\": null}, \"mark\": {\"tooltip\": null}, \"title\": {\"anchor\": \"middle\"}}, \"vconcat\": [{\"mark\": {\"type\": \"bar\", \"clip\": true, \"height\": 15}, \"encoding\": {\"color\": {\"field\": \"log2_bayes_factor\", \"scale\": {\"domain\": [-10, 0, 10], \"interpolate\": \"lab\", \"range\": [\"red\", \"#bbbbbb\", \"green\"]}, \"title\": \"Match weight\", \"type\": \"quantitative\"}, \"tooltip\": [{\"field\": \"comparison_name\", \"title\": \"Comparison name\", \"type\": \"nominal\"}, {\"field\": \"probability_two_random_records_match\", \"format\": \".4f\", \"title\": \"Probability two random records match\", \"type\": \"nominal\"}, {\"field\": \"log2_bayes_factor\", \"format\": \",.4f\", \"title\": \"Equivalent match weight\", \"type\": \"quantitative\"}, {\"field\": \"bayes_factor_description\", \"title\": \"Match weight description\", \"type\": \"nominal\"}], \"x\": {\"axis\": {\"domain\": false, \"gridColor\": {\"condition\": {\"test\": \"abs(datum.value / 10)  <= 1 & datum.value % 10 === 0\", \"value\": \"#aaa\"}, \"value\": \"#ddd\"}, \"gridDash\": {\"condition\": {\"test\": \"abs(datum.value / 10) == 1\", \"value\": [3]}, \"value\": null}, \"gridWidth\": {\"condition\": {\"test\": \"abs(datum.value / 10)  <= 1 & datum.value % 10 === 0\", \"value\": 2}, \"value\": 1}, \"labels\": false, \"ticks\": false, \"title\": \"\"}, \"field\": \"log2_bayes_factor\", \"scale\": {\"domain\": [-23, 23]}, \"type\": \"quantitative\"}, \"y\": {\"axis\": {\"title\": \"Prior (starting) match weight\", \"titleAlign\": \"right\", \"titleAngle\": 0, \"titleFontWeight\": \"normal\"}, \"field\": \"label_for_charts\", \"sort\": {\"field\": \"comparison_vector_value\", \"order\": \"descending\"}, \"type\": \"nominal\"}}, \"height\": 20, \"transform\": [{\"filter\": \"(datum.comparison_name == 'probability_two_random_records_match')\"}]}, {\"mark\": {\"type\": \"bar\", \"clip\": true}, \"encoding\": {\"color\": {\"field\": \"log2_bayes_factor\", \"scale\": {\"domain\": [-10, 0, 10], \"interpolate\": \"lab\", \"range\": [\"red\", \"#bbbbbb\", \"green\"]}, \"title\": \"Match weight\", \"type\": \"quantitative\"}, \"row\": {\"field\": \"comparison_name\", \"header\": {\"labelAlign\": \"left\", \"labelAnchor\": \"middle\", \"labelAngle\": 0}, \"sort\": {\"field\": \"comparison_sort_order\"}, \"type\": \"nominal\"}, \"tooltip\": [{\"field\": \"comparison_name\", \"title\": \"Comparison name\", \"type\": \"nominal\"}, {\"field\": \"label_for_charts\", \"title\": \"Label\", \"type\": \"ordinal\"}, {\"field\": \"sql_condition\", \"title\": \"SQL condition\", \"type\": \"nominal\"}, {\"field\": \"m_probability\", \"format\": \".4f\", \"title\": \"M probability\", \"type\": \"quantitative\"}, {\"field\": \"u_probability\", \"format\": \".4f\", \"title\": \"U probability\", \"type\": \"quantitative\"}, {\"field\": \"bayes_factor\", \"format\": \",.4f\", \"title\": \"Bayes factor = m/u\", \"type\": \"quantitative\"}, {\"field\": \"log2_bayes_factor\", \"format\": \",.4f\", \"title\": \"Match weight = log2(m/u)\", \"type\": \"quantitative\"}, {\"field\": \"bayes_factor_description\", \"title\": \"Match weight description\", \"type\": \"nominal\"}], \"x\": {\"axis\": {\"gridColor\": {\"condition\": {\"test\": \"abs(datum.value / 10)  <= 1 & datum.value % 10 === 0\", \"value\": \"#aaa\"}, \"value\": \"#ddd\"}, \"gridDash\": {\"condition\": {\"test\": \"abs(datum.value / 10) == 1\", \"value\": [3]}, \"value\": null}, \"gridWidth\": {\"condition\": {\"test\": \"abs(datum.value / 10)  <= 1 & datum.value % 10 === 0\", \"value\": 2}, \"value\": 1}, \"title\": \"Comparison level match weight = log2(m/u)\"}, \"field\": \"log2_bayes_factor\", \"scale\": {\"domain\": [-23, 23]}, \"type\": \"quantitative\"}, \"y\": {\"axis\": {\"title\": null}, \"field\": \"label_for_charts\", \"sort\": {\"field\": \"comparison_vector_value\", \"order\": \"descending\"}, \"type\": \"nominal\"}}, \"height\": {\"step\": 12}, \"resolve\": {\"axis\": {\"y\": \"independent\"}, \"scale\": {\"y\": \"independent\"}}, \"transform\": [{\"filter\": \"(datum.comparison_name != 'probability_two_random_records_match')\"}]}], \"data\": {\"name\": \"data-b6835eeeeec7d284917072438d5a399b\"}, \"params\": [{\"name\": \"mouse_zoom\", \"select\": {\"type\": \"interval\", \"encodings\": [\"x\"]}, \"bind\": \"scales\", \"views\": []}], \"resolve\": {\"axis\": {\"y\": \"independent\"}, \"scale\": {\"y\": \"independent\"}}, \"title\": {\"text\": \"Model parameters (components of final match weight)\", \"subtitle\": \"Use mousewheel to zoom\"}, \"$schema\": \"https://vega.github.io/schema/vega-lite/v5.9.3.json\", \"datasets\": {\"data-b6835eeeeec7d284917072438d5a399b\": [{\"comparison_name\": \"probability_two_random_records_match\", \"sql_condition\": null, \"label_for_charts\": \"\", \"m_probability\": null, \"u_probability\": null, \"m_probability_description\": null, \"u_probability_description\": null, \"has_tf_adjustments\": false, \"tf_adjustment_column\": null, \"tf_adjustment_weight\": null, \"is_null_level\": false, \"bayes_factor\": 1.653630030835664e-07, \"log2_bayes_factor\": -22.52786016995801, \"comparison_vector_value\": 0, \"max_comparison_vector_value\": 0, \"bayes_factor_description\": \"The probability that two random records drawn at random match is 0.000 or one in  6,047,302.9 records.This is equivalent to a starting match weight of -22.528.\", \"probability_two_random_records_match\": 1.6536297573864813e-07, \"comparison_sort_order\": -1}, {\"comparison_name\": \"first_name_15\", \"sql_condition\": \"`first_name_15_l` = `first_name_15_r`\", \"label_for_charts\": \"Exact match\", \"m_probability\": 0.8578806275878608, \"u_probability\": 0.0017875649663137633, \"m_probability_description\": \"Amongst matching record comparisons, 85.79% of records are in the exact match comparison level\", \"u_probability_description\": \"Amongst non-matching record comparisons, 0.18% of records are in the exact match comparison level\", \"has_tf_adjustments\": false, \"tf_adjustment_column\": null, \"tf_adjustment_weight\": 1.0, \"is_null_level\": false, \"bayes_factor\": 479.91577579244233, \"log2_bayes_factor\": 8.906637427882886, \"comparison_vector_value\": 2, \"max_comparison_vector_value\": 2, \"bayes_factor_description\": \"If comparison level is `exact match` then comparison is 479.92 times more likely to be a match\", \"probability_two_random_records_match\": 1.6536297573864813e-07, \"comparison_sort_order\": 0}, {\"comparison_name\": \"first_name_15\", \"sql_condition\": \"jaro_winkler(`first_name_15_l`, `first_name_15_r`) >= 0.8333333333333334\", \"label_for_charts\": \"Jaro_winkler >= 0.8333333333333334\", \"m_probability\": 0.08924322855625819, \"u_probability\": 0.0033337696503047804, \"m_probability_description\": \"Amongst matching record comparisons, 8.92% of records are in the jaro_winkler >= 0.8333333333333334 comparison level\", \"u_probability_description\": \"Amongst non-matching record comparisons, 0.33% of records are in the jaro_winkler >= 0.8333333333333334 comparison level\", \"has_tf_adjustments\": false, \"tf_adjustment_column\": null, \"tf_adjustment_weight\": 1.0, \"is_null_level\": false, \"bayes_factor\": 26.76946457536422, \"log2_bayes_factor\": 4.742516378348989, \"comparison_vector_value\": 1, \"max_comparison_vector_value\": 2, \"bayes_factor_description\": \"If comparison level is `jaro_winkler >= 0.8333333333333334` then comparison is 26.77 times more likely to be a match\", \"probability_two_random_records_match\": 1.6536297573864813e-07, \"comparison_sort_order\": 0}, {\"comparison_name\": \"first_name_15\", \"sql_condition\": \"ELSE\", \"label_for_charts\": \"All other comparisons\", \"m_probability\": 0.05287614385588095, \"u_probability\": 0.9948786653833814, \"m_probability_description\": \"Amongst matching record comparisons, 5.29% of records are in the all other comparisons comparison level\", \"u_probability_description\": \"Amongst non-matching record comparisons, 99.49% of records are in the all other comparisons comparison level\", \"has_tf_adjustments\": false, \"tf_adjustment_column\": null, \"tf_adjustment_weight\": 1.0, \"is_null_level\": false, \"bayes_factor\": 0.053148334259942004, \"log2_bayes_factor\": -4.233831713306769, \"comparison_vector_value\": 0, \"max_comparison_vector_value\": 2, \"bayes_factor_description\": \"If comparison level is `all other comparisons` then comparison is  18.82 times less likely to be a match\", \"probability_two_random_records_match\": 1.6536297573864813e-07, \"comparison_sort_order\": 0}, {\"comparison_name\": \"last_name_12\", \"sql_condition\": \"`last_name_12_l` = `last_name_12_r`\", \"label_for_charts\": \"Exact match\", \"m_probability\": 0.8845938248215783, \"u_probability\": 0.0004849346356234464, \"m_probability_description\": \"Amongst matching record comparisons, 88.46% of records are in the exact match comparison level\", \"u_probability_description\": \"Amongst non-matching record comparisons, 0.05% of records are in the exact match comparison level\", \"has_tf_adjustments\": false, \"tf_adjustment_column\": null, \"tf_adjustment_weight\": 1.0, \"is_null_level\": false, \"bayes_factor\": 1824.1506377128912, \"log2_bayes_factor\": 10.833009156329123, \"comparison_vector_value\": 2, \"max_comparison_vector_value\": 2, \"bayes_factor_description\": \"If comparison level is `exact match` then comparison is 1,824.15 times more likely to be a match\", \"probability_two_random_records_match\": 1.6536297573864813e-07, \"comparison_sort_order\": 1}, {\"comparison_name\": \"last_name_12\", \"sql_condition\": \"jaro_winkler(`last_name_12_l`, `last_name_12_r`) >= 0.8333333333333334\", \"label_for_charts\": \"Jaro_winkler >= 0.8333333333333334\", \"m_probability\": 0.08830231228536739, \"u_probability\": 0.0012152157599232165, \"m_probability_description\": \"Amongst matching record comparisons, 8.83% of records are in the jaro_winkler >= 0.8333333333333334 comparison level\", \"u_probability_description\": \"Amongst non-matching record comparisons, 0.12% of records are in the jaro_winkler >= 0.8333333333333334 comparison level\", \"has_tf_adjustments\": false, \"tf_adjustment_column\": null, \"tf_adjustment_weight\": 1.0, \"is_null_level\": false, \"bayes_factor\": 72.66389656676834, \"log2_bayes_factor\": 6.183166826548052, \"comparison_vector_value\": 1, \"max_comparison_vector_value\": 2, \"bayes_factor_description\": \"If comparison level is `jaro_winkler >= 0.8333333333333334` then comparison is 72.66 times more likely to be a match\", \"probability_two_random_records_match\": 1.6536297573864813e-07, \"comparison_sort_order\": 1}, {\"comparison_name\": \"last_name_12\", \"sql_condition\": \"ELSE\", \"label_for_charts\": \"All other comparisons\", \"m_probability\": 0.027103862893054317, \"u_probability\": 0.9982998496044533, \"m_probability_description\": \"Amongst matching record comparisons, 2.71% of records are in the all other comparisons comparison level\", \"u_probability_description\": \"Amongst non-matching record comparisons, 99.83% of records are in the all other comparisons comparison level\", \"has_tf_adjustments\": false, \"tf_adjustment_column\": null, \"tf_adjustment_weight\": 1.0, \"is_null_level\": false, \"bayes_factor\": 0.027150022013720045, \"log2_bayes_factor\": -5.202902821981851, \"comparison_vector_value\": 0, \"max_comparison_vector_value\": 2, \"bayes_factor_description\": \"If comparison level is `all other comparisons` then comparison is  36.83 times less likely to be a match\", \"probability_two_random_records_match\": 1.6536297573864813e-07, \"comparison_sort_order\": 1}, {\"comparison_name\": \"middle_initial\", \"sql_condition\": \"`middle_initial_l` = `middle_initial_r`\", \"label_for_charts\": \"Exact match\", \"m_probability\": 0.9353769287920484, \"u_probability\": 0.06649740874668783, \"m_probability_description\": \"Amongst matching record comparisons, 93.54% of records are in the exact match comparison level\", \"u_probability_description\": \"Amongst non-matching record comparisons, 6.65% of records are in the exact match comparison level\", \"has_tf_adjustments\": false, \"tf_adjustment_column\": null, \"tf_adjustment_weight\": 1.0, \"is_null_level\": false, \"bayes_factor\": 14.066366591143877, \"log2_bayes_factor\": 3.814177816647036, \"comparison_vector_value\": 1, \"max_comparison_vector_value\": 1, \"bayes_factor_description\": \"If comparison level is `exact match` then comparison is 14.07 times more likely to be a match\", \"probability_two_random_records_match\": 1.6536297573864813e-07, \"comparison_sort_order\": 2}, {\"comparison_name\": \"middle_initial\", \"sql_condition\": \"ELSE\", \"label_for_charts\": \"All other comparisons\", \"m_probability\": 0.0646230712079517, \"u_probability\": 0.9335025912533121, \"m_probability_description\": \"Amongst matching record comparisons, 6.46% of records are in the all other comparisons comparison level\", \"u_probability_description\": \"Amongst non-matching record comparisons, 93.35% of records are in the all other comparisons comparison level\", \"has_tf_adjustments\": false, \"tf_adjustment_column\": null, \"tf_adjustment_weight\": 1.0, \"is_null_level\": false, \"bayes_factor\": 0.06922645080308706, \"log2_bayes_factor\": -3.8525328057981016, \"comparison_vector_value\": 0, \"max_comparison_vector_value\": 1, \"bayes_factor_description\": \"If comparison level is `all other comparisons` then comparison is  14.45 times less likely to be a match\", \"probability_two_random_records_match\": 1.6536297573864813e-07, \"comparison_sort_order\": 2}, {\"comparison_name\": \"day_of_birth\", \"sql_condition\": \"`day_of_birth_l` = `day_of_birth_r`\", \"label_for_charts\": \"Exact match\", \"m_probability\": 0.9775270754356598, \"u_probability\": 0.03263074146367179, \"m_probability_description\": \"Amongst matching record comparisons, 97.75% of records are in the exact match comparison level\", \"u_probability_description\": \"Amongst non-matching record comparisons, 3.26% of records are in the exact match comparison level\", \"has_tf_adjustments\": false, \"tf_adjustment_column\": null, \"tf_adjustment_weight\": 1.0, \"is_null_level\": false, \"bayes_factor\": 29.957243739740107, \"log2_bayes_factor\": 4.904832987511397, \"comparison_vector_value\": 2, \"max_comparison_vector_value\": 2, \"bayes_factor_description\": \"If comparison level is `exact match` then comparison is 29.96 times more likely to be a match\", \"probability_two_random_records_match\": 1.6536297573864813e-07, \"comparison_sort_order\": 3}, {\"comparison_name\": \"day_of_birth\", \"sql_condition\": \"abs(day_of_birth_l - day_of_birth_r) <= 5\", \"label_for_charts\": \"Inexact match\", \"m_probability\": 0.014405764047665562, \"u_probability\": 0.29448557752556886, \"m_probability_description\": \"Amongst matching record comparisons, 1.44% of records are in the inexact match comparison level\", \"u_probability_description\": \"Amongst non-matching record comparisons, 29.45% of records are in the inexact match comparison level\", \"has_tf_adjustments\": false, \"tf_adjustment_column\": null, \"tf_adjustment_weight\": 1.0, \"is_null_level\": false, \"bayes_factor\": 0.04891840262165224, \"log2_bayes_factor\": -4.353478894810617, \"comparison_vector_value\": 1, \"max_comparison_vector_value\": 2, \"bayes_factor_description\": \"If comparison level is `inexact match` then comparison is  20.44 times less likely to be a match\", \"probability_two_random_records_match\": 1.6536297573864813e-07, \"comparison_sort_order\": 3}, {\"comparison_name\": \"day_of_birth\", \"sql_condition\": \"ELSE\", \"label_for_charts\": \"All other comparisons\", \"m_probability\": 0.008067160516674726, \"u_probability\": 0.6728836810107593, \"m_probability_description\": \"Amongst matching record comparisons, 0.81% of records are in the all other comparisons comparison level\", \"u_probability_description\": \"Amongst non-matching record comparisons, 67.29% of records are in the all other comparisons comparison level\", \"has_tf_adjustments\": false, \"tf_adjustment_column\": null, \"tf_adjustment_weight\": 1.0, \"is_null_level\": false, \"bayes_factor\": 0.011988937678733411, \"log2_bayes_factor\": -6.382152360340523, \"comparison_vector_value\": 0, \"max_comparison_vector_value\": 2, \"bayes_factor_description\": \"If comparison level is `all other comparisons` then comparison is  83.41 times less likely to be a match\", \"probability_two_random_records_match\": 1.6536297573864813e-07, \"comparison_sort_order\": 3}, {\"comparison_name\": \"month_of_birth\", \"sql_condition\": \"`month_of_birth_l` = `month_of_birth_r`\", \"label_for_charts\": \"Exact match\", \"m_probability\": 0.9831653629309953, \"u_probability\": 0.08335009639337561, \"m_probability_description\": \"Amongst matching record comparisons, 98.32% of records are in the exact match comparison level\", \"u_probability_description\": \"Amongst non-matching record comparisons, 8.34% of records are in the exact match comparison level\", \"has_tf_adjustments\": false, \"tf_adjustment_column\": null, \"tf_adjustment_weight\": 1.0, \"is_null_level\": false, \"bayes_factor\": 11.795611588628397, \"log2_bayes_factor\": 3.560178317450055, \"comparison_vector_value\": 2, \"max_comparison_vector_value\": 2, \"bayes_factor_description\": \"If comparison level is `exact match` then comparison is 11.80 times more likely to be a match\", \"probability_two_random_records_match\": 1.6536297573864813e-07, \"comparison_sort_order\": 4}, {\"comparison_name\": \"month_of_birth\", \"sql_condition\": \"abs(month_of_birth_l - month_of_birth_r) <= 3\", \"label_for_charts\": \"Inexact match\", \"m_probability\": 0.009379111725535485, \"u_probability\": 0.42042112968689377, \"m_probability_description\": \"Amongst matching record comparisons, 0.94% of records are in the inexact match comparison level\", \"u_probability_description\": \"Amongst non-matching record comparisons, 42.04% of records are in the inexact match comparison level\", \"has_tf_adjustments\": false, \"tf_adjustment_column\": null, \"tf_adjustment_weight\": 1.0, \"is_null_level\": false, \"bayes_factor\": 0.022308849539794836, \"log2_bayes_factor\": -5.486240073594227, \"comparison_vector_value\": 1, \"max_comparison_vector_value\": 2, \"bayes_factor_description\": \"If comparison level is `inexact match` then comparison is  44.83 times less likely to be a match\", \"probability_two_random_records_match\": 1.6536297573864813e-07, \"comparison_sort_order\": 4}, {\"comparison_name\": \"month_of_birth\", \"sql_condition\": \"ELSE\", \"label_for_charts\": \"All other comparisons\", \"m_probability\": 0.007455525343469186, \"u_probability\": 0.4962287739197306, \"m_probability_description\": \"Amongst matching record comparisons, 0.75% of records are in the all other comparisons comparison level\", \"u_probability_description\": \"Amongst non-matching record comparisons, 49.62% of records are in the all other comparisons comparison level\", \"has_tf_adjustments\": false, \"tf_adjustment_column\": null, \"tf_adjustment_weight\": 1.0, \"is_null_level\": false, \"bayes_factor\": 0.015024371288625, \"log2_bayes_factor\": -6.056551568739137, \"comparison_vector_value\": 0, \"max_comparison_vector_value\": 2, \"bayes_factor_description\": \"If comparison level is `all other comparisons` then comparison is  66.56 times less likely to be a match\", \"probability_two_random_records_match\": 1.6536297573864813e-07, \"comparison_sort_order\": 4}, {\"comparison_name\": \"year_of_birth\", \"sql_condition\": \"`year_of_birth_l` = `year_of_birth_r`\", \"label_for_charts\": \"Exact match\", \"m_probability\": 0.9693092294924093, \"u_probability\": 0.010907318543921298, \"m_probability_description\": \"Amongst matching record comparisons, 96.93% of records are in the exact match comparison level\", \"u_probability_description\": \"Amongst non-matching record comparisons, 1.09% of records are in the exact match comparison level\", \"has_tf_adjustments\": false, \"tf_adjustment_column\": null, \"tf_adjustment_weight\": 1.0, \"is_null_level\": false, \"bayes_factor\": 88.86778410195144, \"log2_bayes_factor\": 6.473588610232986, \"comparison_vector_value\": 2, \"max_comparison_vector_value\": 2, \"bayes_factor_description\": \"If comparison level is `exact match` then comparison is 88.87 times more likely to be a match\", \"probability_two_random_records_match\": 1.6536297573864813e-07, \"comparison_sort_order\": 5}, {\"comparison_name\": \"year_of_birth\", \"sql_condition\": \"abs(year_of_birth_l - year_of_birth_r) <= 5\", \"label_for_charts\": \"Inexact match\", \"m_probability\": 0.009787814447682059, \"u_probability\": 0.10780150502221279, \"m_probability_description\": \"Amongst matching record comparisons, 0.98% of records are in the inexact match comparison level\", \"u_probability_description\": \"Amongst non-matching record comparisons, 10.78% of records are in the inexact match comparison level\", \"has_tf_adjustments\": false, \"tf_adjustment_column\": null, \"tf_adjustment_weight\": 1.0, \"is_null_level\": false, \"bayes_factor\": 0.09079478478213503, \"log2_bayes_factor\": -3.4612467577324746, \"comparison_vector_value\": 1, \"max_comparison_vector_value\": 2, \"bayes_factor_description\": \"If comparison level is `inexact match` then comparison is  11.01 times less likely to be a match\", \"probability_two_random_records_match\": 1.6536297573864813e-07, \"comparison_sort_order\": 5}, {\"comparison_name\": \"year_of_birth\", \"sql_condition\": \"ELSE\", \"label_for_charts\": \"All other comparisons\", \"m_probability\": 0.02090295605990866, \"u_probability\": 0.8812911764338659, \"m_probability_description\": \"Amongst matching record comparisons, 2.09% of records are in the all other comparisons comparison level\", \"u_probability_description\": \"Amongst non-matching record comparisons, 88.13% of records are in the all other comparisons comparison level\", \"has_tf_adjustments\": false, \"tf_adjustment_column\": null, \"tf_adjustment_weight\": 1.0, \"is_null_level\": false, \"bayes_factor\": 0.023718558200584987, \"log2_bayes_factor\": -5.397839875509964, \"comparison_vector_value\": 0, \"max_comparison_vector_value\": 2, \"bayes_factor_description\": \"If comparison level is `all other comparisons` then comparison is  42.16 times less likely to be a match\", \"probability_two_random_records_match\": 1.6536297573864813e-07, \"comparison_sort_order\": 5}, {\"comparison_name\": \"geokey\", \"sql_condition\": \"`geokey_l` = `geokey_r`\", \"label_for_charts\": \"Exact match\", \"m_probability\": 0.5244709008748406, \"u_probability\": 0.000645503792157887, \"m_probability_description\": \"Amongst matching record comparisons, 52.45% of records are in the exact match comparison level\", \"u_probability_description\": \"Amongst non-matching record comparisons, 0.06% of records are in the exact match comparison level\", \"has_tf_adjustments\": false, \"tf_adjustment_column\": null, \"tf_adjustment_weight\": 1.0, \"is_null_level\": false, \"bayes_factor\": 812.4985588722268, \"log2_bayes_factor\": 9.66622144389889, \"comparison_vector_value\": 2, \"max_comparison_vector_value\": 2, \"bayes_factor_description\": \"If comparison level is `exact match` then comparison is 812.50 times more likely to be a match\", \"probability_two_random_records_match\": 1.6536297573864813e-07, \"comparison_sort_order\": 6}, {\"comparison_name\": \"geokey\", \"sql_condition\": \"jaro_winkler(`geokey_l`, `geokey_r`) >= 0.7222222222222222\", \"label_for_charts\": \"Jaro_winkler >= 0.7222222222222222\", \"m_probability\": 0.4693584910277504, \"u_probability\": 0.02044314350845159, \"m_probability_description\": \"Amongst matching record comparisons, 46.94% of records are in the jaro_winkler >= 0.7222222222222222 comparison level\", \"u_probability_description\": \"Amongst non-matching record comparisons, 2.04% of records are in the jaro_winkler >= 0.7222222222222222 comparison level\", \"has_tf_adjustments\": false, \"tf_adjustment_column\": null, \"tf_adjustment_weight\": 1.0, \"is_null_level\": false, \"bayes_factor\": 22.95921323614974, \"log2_bayes_factor\": 4.521001299629493, \"comparison_vector_value\": 1, \"max_comparison_vector_value\": 2, \"bayes_factor_description\": \"If comparison level is `jaro_winkler >= 0.7222222222222222` then comparison is 22.96 times more likely to be a match\", \"probability_two_random_records_match\": 1.6536297573864813e-07, \"comparison_sort_order\": 6}, {\"comparison_name\": \"geokey\", \"sql_condition\": \"ELSE\", \"label_for_charts\": \"All other comparisons\", \"m_probability\": 0.006170608097408898, \"u_probability\": 0.9789113526993906, \"m_probability_description\": \"Amongst matching record comparisons, 0.62% of records are in the all other comparisons comparison level\", \"u_probability_description\": \"Amongst non-matching record comparisons, 97.89% of records are in the all other comparisons comparison level\", \"has_tf_adjustments\": false, \"tf_adjustment_column\": null, \"tf_adjustment_weight\": 1.0, \"is_null_level\": false, \"bayes_factor\": 0.006303541255695093, \"log2_bayes_factor\": -7.309621739115201, \"comparison_vector_value\": 0, \"max_comparison_vector_value\": 2, \"bayes_factor_description\": \"If comparison level is `all other comparisons` then comparison is  158.64 times less likely to be a match\", \"probability_two_random_records_match\": 1.6536297573864813e-07, \"comparison_sort_order\": 6}]}}, {\"mode\": \"vega-lite\"});\n",
       "</script>"
      ],
      "text/plain": [
       "alt.VConcatChart(...)"
      ]
     },
     "execution_count": 61,
     "metadata": {},
     "output_type": "execute_result"
    }
   ],
   "source": [
    "linker.match_weights_chart()"
   ]
  },
  {
   "cell_type": "code",
   "execution_count": 62,
   "id": "0227e7b1-d573-496a-bd6f-0eb81e75e44e",
   "metadata": {
    "execution": {
     "iopub.execute_input": "2024-02-13T00:34:37.236012Z",
     "iopub.status.busy": "2024-02-13T00:34:37.235676Z",
     "iopub.status.idle": "2024-02-13T00:34:38.332479Z",
     "shell.execute_reply": "2024-02-13T00:34:38.331446Z"
    },
    "papermill": {
     "duration": 1.162318,
     "end_time": "2024-02-13T00:34:38.334843",
     "exception": false,
     "start_time": "2024-02-13T00:34:37.172525",
     "status": "completed"
    },
    "tags": []
   },
   "outputs": [
    {
     "data": {
      "text/html": [
       "\n",
       "<style>\n",
       "  #altair-viz-250ac994a0914f98826db6f03d87ae8d.vega-embed {\n",
       "    width: 100%;\n",
       "    display: flex;\n",
       "  }\n",
       "\n",
       "  #altair-viz-250ac994a0914f98826db6f03d87ae8d.vega-embed details,\n",
       "  #altair-viz-250ac994a0914f98826db6f03d87ae8d.vega-embed details summary {\n",
       "    position: relative;\n",
       "  }\n",
       "</style>\n",
       "<div id=\"altair-viz-250ac994a0914f98826db6f03d87ae8d\"></div>\n",
       "<script type=\"text/javascript\">\n",
       "  var VEGA_DEBUG = (typeof VEGA_DEBUG == \"undefined\") ? {} : VEGA_DEBUG;\n",
       "  (function(spec, embedOpt){\n",
       "    let outputDiv = document.currentScript.previousElementSibling;\n",
       "    if (outputDiv.id !== \"altair-viz-250ac994a0914f98826db6f03d87ae8d\") {\n",
       "      outputDiv = document.getElementById(\"altair-viz-250ac994a0914f98826db6f03d87ae8d\");\n",
       "    }\n",
       "    const paths = {\n",
       "      \"vega\": \"https://cdn.jsdelivr.net/npm/vega@5?noext\",\n",
       "      \"vega-lib\": \"https://cdn.jsdelivr.net/npm/vega-lib?noext\",\n",
       "      \"vega-lite\": \"https://cdn.jsdelivr.net/npm/vega-lite@5.15.1?noext\",\n",
       "      \"vega-embed\": \"https://cdn.jsdelivr.net/npm/vega-embed@6?noext\",\n",
       "    };\n",
       "\n",
       "    function maybeLoadScript(lib, version) {\n",
       "      var key = `${lib.replace(\"-\", \"\")}_version`;\n",
       "      return (VEGA_DEBUG[key] == version) ?\n",
       "        Promise.resolve(paths[lib]) :\n",
       "        new Promise(function(resolve, reject) {\n",
       "          var s = document.createElement('script');\n",
       "          document.getElementsByTagName(\"head\")[0].appendChild(s);\n",
       "          s.async = true;\n",
       "          s.onload = () => {\n",
       "            VEGA_DEBUG[key] = version;\n",
       "            return resolve(paths[lib]);\n",
       "          };\n",
       "          s.onerror = () => reject(`Error loading script: ${paths[lib]}`);\n",
       "          s.src = paths[lib];\n",
       "        });\n",
       "    }\n",
       "\n",
       "    function showError(err) {\n",
       "      outputDiv.innerHTML = `<div class=\"error\" style=\"color:red;\">${err}</div>`;\n",
       "      throw err;\n",
       "    }\n",
       "\n",
       "    function displayChart(vegaEmbed) {\n",
       "      vegaEmbed(outputDiv, spec, embedOpt)\n",
       "        .catch(err => showError(`Javascript Error: ${err.message}<br>This usually means there's a typo in your chart specification. See the javascript console for the full traceback.`));\n",
       "    }\n",
       "\n",
       "    if(typeof define === \"function\" && define.amd) {\n",
       "      requirejs.config({paths});\n",
       "      require([\"vega-embed\"], displayChart, err => showError(`Error loading script: ${err.message}`));\n",
       "    } else {\n",
       "      maybeLoadScript(\"vega\", \"5\")\n",
       "        .then(() => maybeLoadScript(\"vega-lite\", \"5.15.1\"))\n",
       "        .then(() => maybeLoadScript(\"vega-embed\", \"6\"))\n",
       "        .catch(showError)\n",
       "        .then(() => displayChart(vegaEmbed));\n",
       "    }\n",
       "  })({\"config\": {\"view\": {\"continuousWidth\": 300, \"continuousHeight\": 300, \"discreteHeight\": 300, \"discreteWidth\": 400}, \"header\": {\"title\": null}, \"title\": {\"anchor\": \"middle\", \"offset\": 10}}, \"hconcat\": [{\"mark\": \"bar\", \"encoding\": {\"color\": {\"value\": \"green\"}, \"row\": {\"field\": \"comparison_name\", \"header\": {\"labelAlign\": \"left\", \"labelAnchor\": \"middle\", \"labelAngle\": 0}, \"sort\": {\"field\": \"comparison_sort_order\"}, \"type\": \"nominal\"}, \"tooltip\": [{\"field\": \"m_probability_description\", \"title\": \"m probability description\", \"type\": \"nominal\"}, {\"field\": \"comparison_name\", \"title\": \"Comparison column name\", \"type\": \"nominal\"}, {\"field\": \"label_for_charts\", \"title\": \"Label\", \"type\": \"ordinal\"}, {\"field\": \"sql_condition\", \"title\": \"SQL condition\", \"type\": \"nominal\"}, {\"field\": \"m_probability\", \"format\": \".4p\", \"title\": \"m probability\", \"type\": \"quantitative\"}, {\"field\": \"u_probability\", \"format\": \".4p\", \"title\": \"u probability\", \"type\": \"quantitative\"}, {\"field\": \"bayes_factor\", \"format\": \",.4f\", \"title\": \"Bayes factor = m/u\", \"type\": \"quantitative\"}, {\"field\": \"log2_bayes_factor\", \"format\": \",.4f\", \"title\": \"Match weight = log2(m/u)\", \"type\": \"quantitative\"}], \"x\": {\"axis\": {\"title\": \"Proportion of record comparisons\"}, \"field\": \"m_probability\", \"type\": \"quantitative\"}, \"y\": {\"axis\": {\"title\": null}, \"field\": \"label_for_charts\", \"sort\": {\"field\": \"comparison_vector_value\", \"order\": \"descending\"}, \"type\": \"nominal\"}}, \"height\": {\"step\": 12}, \"resolve\": {\"scale\": {\"y\": \"independent\"}}, \"title\": {\"text\": \"Amongst matching record comparisons:\", \"fontSize\": 12, \"fontWeight\": \"bold\"}, \"transform\": [{\"filter\": \"(datum.bayes_factor != 'no-op filter due to vega lite issue 4680')\"}], \"width\": 150}, {\"mark\": \"bar\", \"encoding\": {\"color\": {\"value\": \"red\"}, \"row\": {\"field\": \"comparison_name\", \"header\": {\"labels\": false}, \"sort\": {\"field\": \"comparison_sort_order\"}, \"type\": \"nominal\"}, \"tooltip\": [{\"field\": \"u_probability_description\", \"title\": \"u probability description\", \"type\": \"nominal\"}, {\"field\": \"comparison_name\", \"title\": \"Comparison column name\", \"type\": \"nominal\"}, {\"field\": \"label_for_charts\", \"title\": \"Label\", \"type\": \"ordinal\"}, {\"field\": \"sql_condition\", \"title\": \"SQL condition\", \"type\": \"nominal\"}, {\"field\": \"m_probability\", \"format\": \".4p\", \"title\": \"m probability\", \"type\": \"quantitative\"}, {\"field\": \"u_probability\", \"format\": \".4p\", \"title\": \"u probability\", \"type\": \"quantitative\"}, {\"field\": \"bayes_factor\", \"format\": \",.4f\", \"title\": \"Bayes factor = m/u\", \"type\": \"quantitative\"}, {\"field\": \"log2_bayes_factor\", \"format\": \",.4f\", \"title\": \"Match weight = log2(m/u)\", \"type\": \"quantitative\"}], \"x\": {\"axis\": {\"title\": \"Proportion of record comparisons\"}, \"field\": \"u_probability\", \"type\": \"quantitative\"}, \"y\": {\"axis\": {\"title\": null}, \"field\": \"label_for_charts\", \"sort\": {\"field\": \"comparison_vector_value\", \"order\": \"descending\"}, \"type\": \"nominal\"}}, \"height\": {\"step\": 12}, \"resolve\": {\"scale\": {\"y\": \"independent\"}}, \"title\": {\"text\": \"Amongst non-matching record comparisons:\", \"fontSize\": 12, \"fontWeight\": \"bold\"}, \"transform\": [{\"filter\": \"(datum.bayes_factor != 'no-op filter2 due to vega lite issue 4680')\"}], \"width\": 150}], \"data\": {\"name\": \"data-d535395cc3eef567f29e936f20120fdc\"}, \"title\": {\"text\": \"Proportion of record comparisons in each comparison level by match status\", \"subtitle\": \"(m and u probabilities)\"}, \"$schema\": \"https://vega.github.io/schema/vega-lite/v5.9.3.json\", \"datasets\": {\"data-d535395cc3eef567f29e936f20120fdc\": [{\"comparison_name\": \"first_name_15\", \"sql_condition\": \"`first_name_15_l` = `first_name_15_r`\", \"label_for_charts\": \"Exact match\", \"m_probability\": 0.8578806275878608, \"u_probability\": 0.0017875649663137633, \"m_probability_description\": \"Amongst matching record comparisons, 85.79% of records are in the exact match comparison level\", \"u_probability_description\": \"Amongst non-matching record comparisons, 0.18% of records are in the exact match comparison level\", \"has_tf_adjustments\": false, \"tf_adjustment_column\": null, \"tf_adjustment_weight\": 1.0, \"is_null_level\": false, \"bayes_factor\": 479.91577579244233, \"log2_bayes_factor\": 8.906637427882886, \"comparison_vector_value\": 2, \"max_comparison_vector_value\": 2, \"bayes_factor_description\": \"If comparison level is `exact match` then comparison is 479.92 times more likely to be a match\", \"probability_two_random_records_match\": 1.6536297573864813e-07, \"comparison_sort_order\": 0}, {\"comparison_name\": \"first_name_15\", \"sql_condition\": \"jaro_winkler(`first_name_15_l`, `first_name_15_r`) >= 0.8333333333333334\", \"label_for_charts\": \"Jaro_winkler >= 0.8333333333333334\", \"m_probability\": 0.08924322855625819, \"u_probability\": 0.0033337696503047804, \"m_probability_description\": \"Amongst matching record comparisons, 8.92% of records are in the jaro_winkler >= 0.8333333333333334 comparison level\", \"u_probability_description\": \"Amongst non-matching record comparisons, 0.33% of records are in the jaro_winkler >= 0.8333333333333334 comparison level\", \"has_tf_adjustments\": false, \"tf_adjustment_column\": null, \"tf_adjustment_weight\": 1.0, \"is_null_level\": false, \"bayes_factor\": 26.76946457536422, \"log2_bayes_factor\": 4.742516378348989, \"comparison_vector_value\": 1, \"max_comparison_vector_value\": 2, \"bayes_factor_description\": \"If comparison level is `jaro_winkler >= 0.8333333333333334` then comparison is 26.77 times more likely to be a match\", \"probability_two_random_records_match\": 1.6536297573864813e-07, \"comparison_sort_order\": 0}, {\"comparison_name\": \"first_name_15\", \"sql_condition\": \"ELSE\", \"label_for_charts\": \"All other comparisons\", \"m_probability\": 0.05287614385588095, \"u_probability\": 0.9948786653833814, \"m_probability_description\": \"Amongst matching record comparisons, 5.29% of records are in the all other comparisons comparison level\", \"u_probability_description\": \"Amongst non-matching record comparisons, 99.49% of records are in the all other comparisons comparison level\", \"has_tf_adjustments\": false, \"tf_adjustment_column\": null, \"tf_adjustment_weight\": 1.0, \"is_null_level\": false, \"bayes_factor\": 0.053148334259942004, \"log2_bayes_factor\": -4.233831713306769, \"comparison_vector_value\": 0, \"max_comparison_vector_value\": 2, \"bayes_factor_description\": \"If comparison level is `all other comparisons` then comparison is  18.82 times less likely to be a match\", \"probability_two_random_records_match\": 1.6536297573864813e-07, \"comparison_sort_order\": 0}, {\"comparison_name\": \"last_name_12\", \"sql_condition\": \"`last_name_12_l` = `last_name_12_r`\", \"label_for_charts\": \"Exact match\", \"m_probability\": 0.8845938248215783, \"u_probability\": 0.0004849346356234464, \"m_probability_description\": \"Amongst matching record comparisons, 88.46% of records are in the exact match comparison level\", \"u_probability_description\": \"Amongst non-matching record comparisons, 0.05% of records are in the exact match comparison level\", \"has_tf_adjustments\": false, \"tf_adjustment_column\": null, \"tf_adjustment_weight\": 1.0, \"is_null_level\": false, \"bayes_factor\": 1824.1506377128912, \"log2_bayes_factor\": 10.833009156329123, \"comparison_vector_value\": 2, \"max_comparison_vector_value\": 2, \"bayes_factor_description\": \"If comparison level is `exact match` then comparison is 1,824.15 times more likely to be a match\", \"probability_two_random_records_match\": 1.6536297573864813e-07, \"comparison_sort_order\": 1}, {\"comparison_name\": \"last_name_12\", \"sql_condition\": \"jaro_winkler(`last_name_12_l`, `last_name_12_r`) >= 0.8333333333333334\", \"label_for_charts\": \"Jaro_winkler >= 0.8333333333333334\", \"m_probability\": 0.08830231228536739, \"u_probability\": 0.0012152157599232165, \"m_probability_description\": \"Amongst matching record comparisons, 8.83% of records are in the jaro_winkler >= 0.8333333333333334 comparison level\", \"u_probability_description\": \"Amongst non-matching record comparisons, 0.12% of records are in the jaro_winkler >= 0.8333333333333334 comparison level\", \"has_tf_adjustments\": false, \"tf_adjustment_column\": null, \"tf_adjustment_weight\": 1.0, \"is_null_level\": false, \"bayes_factor\": 72.66389656676834, \"log2_bayes_factor\": 6.183166826548052, \"comparison_vector_value\": 1, \"max_comparison_vector_value\": 2, \"bayes_factor_description\": \"If comparison level is `jaro_winkler >= 0.8333333333333334` then comparison is 72.66 times more likely to be a match\", \"probability_two_random_records_match\": 1.6536297573864813e-07, \"comparison_sort_order\": 1}, {\"comparison_name\": \"last_name_12\", \"sql_condition\": \"ELSE\", \"label_for_charts\": \"All other comparisons\", \"m_probability\": 0.027103862893054317, \"u_probability\": 0.9982998496044533, \"m_probability_description\": \"Amongst matching record comparisons, 2.71% of records are in the all other comparisons comparison level\", \"u_probability_description\": \"Amongst non-matching record comparisons, 99.83% of records are in the all other comparisons comparison level\", \"has_tf_adjustments\": false, \"tf_adjustment_column\": null, \"tf_adjustment_weight\": 1.0, \"is_null_level\": false, \"bayes_factor\": 0.027150022013720045, \"log2_bayes_factor\": -5.202902821981851, \"comparison_vector_value\": 0, \"max_comparison_vector_value\": 2, \"bayes_factor_description\": \"If comparison level is `all other comparisons` then comparison is  36.83 times less likely to be a match\", \"probability_two_random_records_match\": 1.6536297573864813e-07, \"comparison_sort_order\": 1}, {\"comparison_name\": \"middle_initial\", \"sql_condition\": \"`middle_initial_l` = `middle_initial_r`\", \"label_for_charts\": \"Exact match\", \"m_probability\": 0.9353769287920484, \"u_probability\": 0.06649740874668783, \"m_probability_description\": \"Amongst matching record comparisons, 93.54% of records are in the exact match comparison level\", \"u_probability_description\": \"Amongst non-matching record comparisons, 6.65% of records are in the exact match comparison level\", \"has_tf_adjustments\": false, \"tf_adjustment_column\": null, \"tf_adjustment_weight\": 1.0, \"is_null_level\": false, \"bayes_factor\": 14.066366591143877, \"log2_bayes_factor\": 3.814177816647036, \"comparison_vector_value\": 1, \"max_comparison_vector_value\": 1, \"bayes_factor_description\": \"If comparison level is `exact match` then comparison is 14.07 times more likely to be a match\", \"probability_two_random_records_match\": 1.6536297573864813e-07, \"comparison_sort_order\": 2}, {\"comparison_name\": \"middle_initial\", \"sql_condition\": \"ELSE\", \"label_for_charts\": \"All other comparisons\", \"m_probability\": 0.0646230712079517, \"u_probability\": 0.9335025912533121, \"m_probability_description\": \"Amongst matching record comparisons, 6.46% of records are in the all other comparisons comparison level\", \"u_probability_description\": \"Amongst non-matching record comparisons, 93.35% of records are in the all other comparisons comparison level\", \"has_tf_adjustments\": false, \"tf_adjustment_column\": null, \"tf_adjustment_weight\": 1.0, \"is_null_level\": false, \"bayes_factor\": 0.06922645080308706, \"log2_bayes_factor\": -3.8525328057981016, \"comparison_vector_value\": 0, \"max_comparison_vector_value\": 1, \"bayes_factor_description\": \"If comparison level is `all other comparisons` then comparison is  14.45 times less likely to be a match\", \"probability_two_random_records_match\": 1.6536297573864813e-07, \"comparison_sort_order\": 2}, {\"comparison_name\": \"day_of_birth\", \"sql_condition\": \"`day_of_birth_l` = `day_of_birth_r`\", \"label_for_charts\": \"Exact match\", \"m_probability\": 0.9775270754356598, \"u_probability\": 0.03263074146367179, \"m_probability_description\": \"Amongst matching record comparisons, 97.75% of records are in the exact match comparison level\", \"u_probability_description\": \"Amongst non-matching record comparisons, 3.26% of records are in the exact match comparison level\", \"has_tf_adjustments\": false, \"tf_adjustment_column\": null, \"tf_adjustment_weight\": 1.0, \"is_null_level\": false, \"bayes_factor\": 29.957243739740107, \"log2_bayes_factor\": 4.904832987511397, \"comparison_vector_value\": 2, \"max_comparison_vector_value\": 2, \"bayes_factor_description\": \"If comparison level is `exact match` then comparison is 29.96 times more likely to be a match\", \"probability_two_random_records_match\": 1.6536297573864813e-07, \"comparison_sort_order\": 3}, {\"comparison_name\": \"day_of_birth\", \"sql_condition\": \"abs(day_of_birth_l - day_of_birth_r) <= 5\", \"label_for_charts\": \"Inexact match\", \"m_probability\": 0.014405764047665562, \"u_probability\": 0.29448557752556886, \"m_probability_description\": \"Amongst matching record comparisons, 1.44% of records are in the inexact match comparison level\", \"u_probability_description\": \"Amongst non-matching record comparisons, 29.45% of records are in the inexact match comparison level\", \"has_tf_adjustments\": false, \"tf_adjustment_column\": null, \"tf_adjustment_weight\": 1.0, \"is_null_level\": false, \"bayes_factor\": 0.04891840262165224, \"log2_bayes_factor\": -4.353478894810617, \"comparison_vector_value\": 1, \"max_comparison_vector_value\": 2, \"bayes_factor_description\": \"If comparison level is `inexact match` then comparison is  20.44 times less likely to be a match\", \"probability_two_random_records_match\": 1.6536297573864813e-07, \"comparison_sort_order\": 3}, {\"comparison_name\": \"day_of_birth\", \"sql_condition\": \"ELSE\", \"label_for_charts\": \"All other comparisons\", \"m_probability\": 0.008067160516674726, \"u_probability\": 0.6728836810107593, \"m_probability_description\": \"Amongst matching record comparisons, 0.81% of records are in the all other comparisons comparison level\", \"u_probability_description\": \"Amongst non-matching record comparisons, 67.29% of records are in the all other comparisons comparison level\", \"has_tf_adjustments\": false, \"tf_adjustment_column\": null, \"tf_adjustment_weight\": 1.0, \"is_null_level\": false, \"bayes_factor\": 0.011988937678733411, \"log2_bayes_factor\": -6.382152360340523, \"comparison_vector_value\": 0, \"max_comparison_vector_value\": 2, \"bayes_factor_description\": \"If comparison level is `all other comparisons` then comparison is  83.41 times less likely to be a match\", \"probability_two_random_records_match\": 1.6536297573864813e-07, \"comparison_sort_order\": 3}, {\"comparison_name\": \"month_of_birth\", \"sql_condition\": \"`month_of_birth_l` = `month_of_birth_r`\", \"label_for_charts\": \"Exact match\", \"m_probability\": 0.9831653629309953, \"u_probability\": 0.08335009639337561, \"m_probability_description\": \"Amongst matching record comparisons, 98.32% of records are in the exact match comparison level\", \"u_probability_description\": \"Amongst non-matching record comparisons, 8.34% of records are in the exact match comparison level\", \"has_tf_adjustments\": false, \"tf_adjustment_column\": null, \"tf_adjustment_weight\": 1.0, \"is_null_level\": false, \"bayes_factor\": 11.795611588628397, \"log2_bayes_factor\": 3.560178317450055, \"comparison_vector_value\": 2, \"max_comparison_vector_value\": 2, \"bayes_factor_description\": \"If comparison level is `exact match` then comparison is 11.80 times more likely to be a match\", \"probability_two_random_records_match\": 1.6536297573864813e-07, \"comparison_sort_order\": 4}, {\"comparison_name\": \"month_of_birth\", \"sql_condition\": \"abs(month_of_birth_l - month_of_birth_r) <= 3\", \"label_for_charts\": \"Inexact match\", \"m_probability\": 0.009379111725535485, \"u_probability\": 0.42042112968689377, \"m_probability_description\": \"Amongst matching record comparisons, 0.94% of records are in the inexact match comparison level\", \"u_probability_description\": \"Amongst non-matching record comparisons, 42.04% of records are in the inexact match comparison level\", \"has_tf_adjustments\": false, \"tf_adjustment_column\": null, \"tf_adjustment_weight\": 1.0, \"is_null_level\": false, \"bayes_factor\": 0.022308849539794836, \"log2_bayes_factor\": -5.486240073594227, \"comparison_vector_value\": 1, \"max_comparison_vector_value\": 2, \"bayes_factor_description\": \"If comparison level is `inexact match` then comparison is  44.83 times less likely to be a match\", \"probability_two_random_records_match\": 1.6536297573864813e-07, \"comparison_sort_order\": 4}, {\"comparison_name\": \"month_of_birth\", \"sql_condition\": \"ELSE\", \"label_for_charts\": \"All other comparisons\", \"m_probability\": 0.007455525343469186, \"u_probability\": 0.4962287739197306, \"m_probability_description\": \"Amongst matching record comparisons, 0.75% of records are in the all other comparisons comparison level\", \"u_probability_description\": \"Amongst non-matching record comparisons, 49.62% of records are in the all other comparisons comparison level\", \"has_tf_adjustments\": false, \"tf_adjustment_column\": null, \"tf_adjustment_weight\": 1.0, \"is_null_level\": false, \"bayes_factor\": 0.015024371288625, \"log2_bayes_factor\": -6.056551568739137, \"comparison_vector_value\": 0, \"max_comparison_vector_value\": 2, \"bayes_factor_description\": \"If comparison level is `all other comparisons` then comparison is  66.56 times less likely to be a match\", \"probability_two_random_records_match\": 1.6536297573864813e-07, \"comparison_sort_order\": 4}, {\"comparison_name\": \"year_of_birth\", \"sql_condition\": \"`year_of_birth_l` = `year_of_birth_r`\", \"label_for_charts\": \"Exact match\", \"m_probability\": 0.9693092294924093, \"u_probability\": 0.010907318543921298, \"m_probability_description\": \"Amongst matching record comparisons, 96.93% of records are in the exact match comparison level\", \"u_probability_description\": \"Amongst non-matching record comparisons, 1.09% of records are in the exact match comparison level\", \"has_tf_adjustments\": false, \"tf_adjustment_column\": null, \"tf_adjustment_weight\": 1.0, \"is_null_level\": false, \"bayes_factor\": 88.86778410195144, \"log2_bayes_factor\": 6.473588610232986, \"comparison_vector_value\": 2, \"max_comparison_vector_value\": 2, \"bayes_factor_description\": \"If comparison level is `exact match` then comparison is 88.87 times more likely to be a match\", \"probability_two_random_records_match\": 1.6536297573864813e-07, \"comparison_sort_order\": 5}, {\"comparison_name\": \"year_of_birth\", \"sql_condition\": \"abs(year_of_birth_l - year_of_birth_r) <= 5\", \"label_for_charts\": \"Inexact match\", \"m_probability\": 0.009787814447682059, \"u_probability\": 0.10780150502221279, \"m_probability_description\": \"Amongst matching record comparisons, 0.98% of records are in the inexact match comparison level\", \"u_probability_description\": \"Amongst non-matching record comparisons, 10.78% of records are in the inexact match comparison level\", \"has_tf_adjustments\": false, \"tf_adjustment_column\": null, \"tf_adjustment_weight\": 1.0, \"is_null_level\": false, \"bayes_factor\": 0.09079478478213503, \"log2_bayes_factor\": -3.4612467577324746, \"comparison_vector_value\": 1, \"max_comparison_vector_value\": 2, \"bayes_factor_description\": \"If comparison level is `inexact match` then comparison is  11.01 times less likely to be a match\", \"probability_two_random_records_match\": 1.6536297573864813e-07, \"comparison_sort_order\": 5}, {\"comparison_name\": \"year_of_birth\", \"sql_condition\": \"ELSE\", \"label_for_charts\": \"All other comparisons\", \"m_probability\": 0.02090295605990866, \"u_probability\": 0.8812911764338659, \"m_probability_description\": \"Amongst matching record comparisons, 2.09% of records are in the all other comparisons comparison level\", \"u_probability_description\": \"Amongst non-matching record comparisons, 88.13% of records are in the all other comparisons comparison level\", \"has_tf_adjustments\": false, \"tf_adjustment_column\": null, \"tf_adjustment_weight\": 1.0, \"is_null_level\": false, \"bayes_factor\": 0.023718558200584987, \"log2_bayes_factor\": -5.397839875509964, \"comparison_vector_value\": 0, \"max_comparison_vector_value\": 2, \"bayes_factor_description\": \"If comparison level is `all other comparisons` then comparison is  42.16 times less likely to be a match\", \"probability_two_random_records_match\": 1.6536297573864813e-07, \"comparison_sort_order\": 5}, {\"comparison_name\": \"geokey\", \"sql_condition\": \"`geokey_l` = `geokey_r`\", \"label_for_charts\": \"Exact match\", \"m_probability\": 0.5244709008748406, \"u_probability\": 0.000645503792157887, \"m_probability_description\": \"Amongst matching record comparisons, 52.45% of records are in the exact match comparison level\", \"u_probability_description\": \"Amongst non-matching record comparisons, 0.06% of records are in the exact match comparison level\", \"has_tf_adjustments\": false, \"tf_adjustment_column\": null, \"tf_adjustment_weight\": 1.0, \"is_null_level\": false, \"bayes_factor\": 812.4985588722268, \"log2_bayes_factor\": 9.66622144389889, \"comparison_vector_value\": 2, \"max_comparison_vector_value\": 2, \"bayes_factor_description\": \"If comparison level is `exact match` then comparison is 812.50 times more likely to be a match\", \"probability_two_random_records_match\": 1.6536297573864813e-07, \"comparison_sort_order\": 6}, {\"comparison_name\": \"geokey\", \"sql_condition\": \"jaro_winkler(`geokey_l`, `geokey_r`) >= 0.7222222222222222\", \"label_for_charts\": \"Jaro_winkler >= 0.7222222222222222\", \"m_probability\": 0.4693584910277504, \"u_probability\": 0.02044314350845159, \"m_probability_description\": \"Amongst matching record comparisons, 46.94% of records are in the jaro_winkler >= 0.7222222222222222 comparison level\", \"u_probability_description\": \"Amongst non-matching record comparisons, 2.04% of records are in the jaro_winkler >= 0.7222222222222222 comparison level\", \"has_tf_adjustments\": false, \"tf_adjustment_column\": null, \"tf_adjustment_weight\": 1.0, \"is_null_level\": false, \"bayes_factor\": 22.95921323614974, \"log2_bayes_factor\": 4.521001299629493, \"comparison_vector_value\": 1, \"max_comparison_vector_value\": 2, \"bayes_factor_description\": \"If comparison level is `jaro_winkler >= 0.7222222222222222` then comparison is 22.96 times more likely to be a match\", \"probability_two_random_records_match\": 1.6536297573864813e-07, \"comparison_sort_order\": 6}, {\"comparison_name\": \"geokey\", \"sql_condition\": \"ELSE\", \"label_for_charts\": \"All other comparisons\", \"m_probability\": 0.006170608097408898, \"u_probability\": 0.9789113526993906, \"m_probability_description\": \"Amongst matching record comparisons, 0.62% of records are in the all other comparisons comparison level\", \"u_probability_description\": \"Amongst non-matching record comparisons, 97.89% of records are in the all other comparisons comparison level\", \"has_tf_adjustments\": false, \"tf_adjustment_column\": null, \"tf_adjustment_weight\": 1.0, \"is_null_level\": false, \"bayes_factor\": 0.006303541255695093, \"log2_bayes_factor\": -7.309621739115201, \"comparison_vector_value\": 0, \"max_comparison_vector_value\": 2, \"bayes_factor_description\": \"If comparison level is `all other comparisons` then comparison is  158.64 times less likely to be a match\", \"probability_two_random_records_match\": 1.6536297573864813e-07, \"comparison_sort_order\": 6}]}}, {\"mode\": \"vega-lite\"});\n",
       "</script>"
      ],
      "text/plain": [
       "alt.HConcatChart(...)"
      ]
     },
     "execution_count": 62,
     "metadata": {},
     "output_type": "execute_result"
    }
   ],
   "source": [
    "linker.m_u_parameters_chart()"
   ]
  },
  {
   "cell_type": "code",
   "execution_count": 63,
   "id": "57bc79f6-2c8b-4e65-88f9-b91d94d19f77",
   "metadata": {
    "execution": {
     "iopub.execute_input": "2024-02-13T00:34:38.464106Z",
     "iopub.status.busy": "2024-02-13T00:34:38.463691Z",
     "iopub.status.idle": "2024-02-13T00:34:39.246736Z",
     "shell.execute_reply": "2024-02-13T00:34:39.245957Z"
    },
    "papermill": {
     "duration": 0.849569,
     "end_time": "2024-02-13T00:34:39.248644",
     "exception": false,
     "start_time": "2024-02-13T00:34:38.399075",
     "status": "completed"
    },
    "tags": []
   },
   "outputs": [
    {
     "data": {
      "text/html": [
       "\n",
       "<style>\n",
       "  #altair-viz-8bad68736e1644958048ac3cc9afb281.vega-embed {\n",
       "    width: 100%;\n",
       "    display: flex;\n",
       "  }\n",
       "\n",
       "  #altair-viz-8bad68736e1644958048ac3cc9afb281.vega-embed details,\n",
       "  #altair-viz-8bad68736e1644958048ac3cc9afb281.vega-embed details summary {\n",
       "    position: relative;\n",
       "  }\n",
       "</style>\n",
       "<div id=\"altair-viz-8bad68736e1644958048ac3cc9afb281\"></div>\n",
       "<script type=\"text/javascript\">\n",
       "  var VEGA_DEBUG = (typeof VEGA_DEBUG == \"undefined\") ? {} : VEGA_DEBUG;\n",
       "  (function(spec, embedOpt){\n",
       "    let outputDiv = document.currentScript.previousElementSibling;\n",
       "    if (outputDiv.id !== \"altair-viz-8bad68736e1644958048ac3cc9afb281\") {\n",
       "      outputDiv = document.getElementById(\"altair-viz-8bad68736e1644958048ac3cc9afb281\");\n",
       "    }\n",
       "    const paths = {\n",
       "      \"vega\": \"https://cdn.jsdelivr.net/npm/vega@5?noext\",\n",
       "      \"vega-lib\": \"https://cdn.jsdelivr.net/npm/vega-lib?noext\",\n",
       "      \"vega-lite\": \"https://cdn.jsdelivr.net/npm/vega-lite@5.15.1?noext\",\n",
       "      \"vega-embed\": \"https://cdn.jsdelivr.net/npm/vega-embed@6?noext\",\n",
       "    };\n",
       "\n",
       "    function maybeLoadScript(lib, version) {\n",
       "      var key = `${lib.replace(\"-\", \"\")}_version`;\n",
       "      return (VEGA_DEBUG[key] == version) ?\n",
       "        Promise.resolve(paths[lib]) :\n",
       "        new Promise(function(resolve, reject) {\n",
       "          var s = document.createElement('script');\n",
       "          document.getElementsByTagName(\"head\")[0].appendChild(s);\n",
       "          s.async = true;\n",
       "          s.onload = () => {\n",
       "            VEGA_DEBUG[key] = version;\n",
       "            return resolve(paths[lib]);\n",
       "          };\n",
       "          s.onerror = () => reject(`Error loading script: ${paths[lib]}`);\n",
       "          s.src = paths[lib];\n",
       "        });\n",
       "    }\n",
       "\n",
       "    function showError(err) {\n",
       "      outputDiv.innerHTML = `<div class=\"error\" style=\"color:red;\">${err}</div>`;\n",
       "      throw err;\n",
       "    }\n",
       "\n",
       "    function displayChart(vegaEmbed) {\n",
       "      vegaEmbed(outputDiv, spec, embedOpt)\n",
       "        .catch(err => showError(`Javascript Error: ${err.message}<br>This usually means there's a typo in your chart specification. See the javascript console for the full traceback.`));\n",
       "    }\n",
       "\n",
       "    if(typeof define === \"function\" && define.amd) {\n",
       "      requirejs.config({paths});\n",
       "      require([\"vega-embed\"], displayChart, err => showError(`Error loading script: ${err.message}`));\n",
       "    } else {\n",
       "      maybeLoadScript(\"vega\", \"5\")\n",
       "        .then(() => maybeLoadScript(\"vega-lite\", \"5.15.1\"))\n",
       "        .then(() => maybeLoadScript(\"vega-embed\", \"6\"))\n",
       "        .catch(showError)\n",
       "        .then(() => displayChart(vegaEmbed));\n",
       "    }\n",
       "  })({\"config\": {\"view\": {\"continuousWidth\": 400, \"continuousHeight\": 300}, \"title\": {\"anchor\": \"middle\", \"fontSize\": 18, \"subtitleFontSize\": 14}}, \"data\": {\"name\": \"data-5909a84237a34c32bdf2df50b7791546\"}, \"mark\": {\"type\": \"point\", \"filled\": false, \"opacity\": 0.7, \"size\": 100}, \"encoding\": {\"color\": {\"field\": \"estimate_description\", \"type\": \"nominal\"}, \"column\": {\"align\": \"each\", \"field\": \"col_header\", \"header\": {\"labelFontSize\": 14, \"labelFontWeight\": \"bold\"}, \"title\": null, \"type\": \"nominal\"}, \"row\": {\"align\": \"each\", \"field\": \"comparison_name\", \"header\": {\"labelAlign\": \"left\", \"labelAnchor\": \"middle\", \"labelAngle\": 0, \"labelFontSize\": 12, \"labelFontWeight\": \"bold\"}, \"sort\": {\"field\": \"comparison_sort_order\"}, \"title\": null, \"type\": \"nominal\"}, \"shape\": {\"field\": \"estimate_description\", \"scale\": {\"range\": [\"circle\", \"square\", \"triangle\", \"diamond\"]}, \"type\": \"nominal\"}, \"tooltip\": [{\"field\": \"comparison_name\", \"type\": \"nominal\"}, {\"field\": \"estimate_description\", \"type\": \"nominal\"}, {\"field\": \"estimated_probability\", \"type\": \"quantitative\"}], \"x\": {\"axis\": {\"gridColor\": {\"condition\": {\"test\": \"abs(datum.value / 10)  <= 1 & datum.value % 10 === 0\", \"value\": \"#aaa\"}, \"value\": \"#ddd\"}, \"gridDash\": {\"condition\": {\"test\": \"abs(datum.value / 10) == 1\", \"value\": [3]}, \"value\": null}, \"gridWidth\": {\"condition\": {\"test\": \"abs(datum.value / 10)  <= 1 & datum.value % 10 === 0\", \"value\": 2}, \"value\": 1}}, \"field\": \"estimated_probability_as_log_odds\", \"title\": \"Estimated probability as log odds\", \"type\": \"quantitative\"}, \"y\": {\"axis\": {\"grid\": true, \"title\": null}, \"field\": \"comparison_level_label\", \"sort\": {\"field\": \"comparison_vector_value\", \"order\": \"descending\"}, \"type\": \"nominal\"}}, \"params\": [{\"name\": \"mouse_zoom\", \"select\": {\"type\": \"interval\", \"encodings\": [\"x\"]}, \"bind\": \"scales\"}], \"resolve\": {\"scale\": {\"y\": \"independent\"}}, \"title\": {\"text\": \"Comparison of parameter estimates across training sessions\", \"subtitle\": \"Use mousewheel to zoom\"}, \"transform\": [{\"calculate\": \"datum.m_or_u + '-probability (as log odds)'\", \"as\": \"col_header\"}], \"$schema\": \"https://vega.github.io/schema/vega-lite/v5.9.3.json\", \"datasets\": {\"data-5909a84237a34c32bdf2df50b7791546\": [{\"m_or_u\": \"m\", \"estimated_probability\": 0.8578806275878608, \"estimate_description\": \"EM, blocked on: l.geokey = r.geokey\", \"estimated_probability_as_log_odds\": 2.593673690526845, \"sql_condition\": \"`first_name_15_l` = `first_name_15_r`\", \"comparison_level_label\": \"Exact match\", \"comparison_vector_value\": 2, \"comparison_name\": \"first_name_15\", \"comparison_sort_order\": 0}, {\"m_or_u\": \"m\", \"estimated_probability\": 0.08924322855625819, \"estimate_description\": \"EM, blocked on: l.geokey = r.geokey\", \"estimated_probability_as_log_odds\": -3.3512512043119074, \"sql_condition\": \"jaro_winkler(`first_name_15_l`, `first_name_15_r`) >= 0.8333333333333334\", \"comparison_level_label\": \"Jaro_winkler >= 0.8333333333333334\", \"comparison_vector_value\": 1, \"comparison_name\": \"first_name_15\", \"comparison_sort_order\": 0}, {\"m_or_u\": \"m\", \"estimated_probability\": 0.05287614385588095, \"estimate_description\": \"EM, blocked on: l.geokey = r.geokey\", \"estimated_probability_as_log_odds\": -4.162864227285017, \"sql_condition\": \"ELSE\", \"comparison_level_label\": \"All other comparisons\", \"comparison_vector_value\": 0, \"comparison_name\": \"first_name_15\", \"comparison_sort_order\": 0}, {\"m_or_u\": \"m\", \"estimated_probability\": 0.884909896387488, \"estimate_description\": \"EM, blocked on: l.first_name_15 = r.first_name_15 and l.zipcode = r.zipcode\", \"estimated_probability_as_log_odds\": 2.9427667799667185, \"sql_condition\": \"`last_name_12_l` = `last_name_12_r`\", \"comparison_level_label\": \"Exact match\", \"comparison_vector_value\": 2, \"comparison_name\": \"last_name_12\", \"comparison_sort_order\": 1}, {\"m_or_u\": \"m\", \"estimated_probability\": 0.8842777532556686, \"estimate_description\": \"EM, blocked on: l.geokey = r.geokey\", \"estimated_probability_as_log_odds\": 2.933833355406512, \"sql_condition\": \"`last_name_12_l` = `last_name_12_r`\", \"comparison_level_label\": \"Exact match\", \"comparison_vector_value\": 2, \"comparison_name\": \"last_name_12\", \"comparison_sort_order\": 1}, {\"m_or_u\": \"m\", \"estimated_probability\": 0.08850926241669425, \"estimate_description\": \"EM, blocked on: l.first_name_15 = r.first_name_15 and l.zipcode = r.zipcode\", \"estimated_probability_as_log_odds\": -3.3643276509332782, \"sql_condition\": \"jaro_winkler(`last_name_12_l`, `last_name_12_r`) >= 0.8333333333333334\", \"comparison_level_label\": \"Jaro_winkler >= 0.8333333333333334\", \"comparison_vector_value\": 1, \"comparison_name\": \"last_name_12\", \"comparison_sort_order\": 1}, {\"m_or_u\": \"m\", \"estimated_probability\": 0.08809536215404054, \"estimate_description\": \"EM, blocked on: l.geokey = r.geokey\", \"estimated_probability_as_log_odds\": -3.371744988374274, \"sql_condition\": \"jaro_winkler(`last_name_12_l`, `last_name_12_r`) >= 0.8333333333333334\", \"comparison_level_label\": \"Jaro_winkler >= 0.8333333333333334\", \"comparison_vector_value\": 1, \"comparison_name\": \"last_name_12\", \"comparison_sort_order\": 1}, {\"m_or_u\": \"m\", \"estimated_probability\": 0.026580841195817776, \"estimate_description\": \"EM, blocked on: l.first_name_15 = r.first_name_15 and l.zipcode = r.zipcode\", \"estimated_probability_as_log_odds\": -5.194602502991181, \"sql_condition\": \"ELSE\", \"comparison_level_label\": \"All other comparisons\", \"comparison_vector_value\": 0, \"comparison_name\": \"last_name_12\", \"comparison_sort_order\": 1}, {\"m_or_u\": \"m\", \"estimated_probability\": 0.027626884590290862, \"estimate_description\": \"EM, blocked on: l.geokey = r.geokey\", \"estimated_probability_as_log_odds\": -5.137365218081429, \"sql_condition\": \"ELSE\", \"comparison_level_label\": \"All other comparisons\", \"comparison_vector_value\": 0, \"comparison_name\": \"last_name_12\", \"comparison_sort_order\": 1}, {\"m_or_u\": \"m\", \"estimated_probability\": 0.9422338270093014, \"estimate_description\": \"EM, blocked on: l.first_name_15 = r.first_name_15 and l.zipcode = r.zipcode\", \"estimated_probability_as_log_odds\": 4.027788302533688, \"sql_condition\": \"`middle_initial_l` = `middle_initial_r`\", \"comparison_level_label\": \"Exact match\", \"comparison_vector_value\": 1, \"comparison_name\": \"middle_initial\", \"comparison_sort_order\": 2}, {\"m_or_u\": \"m\", \"estimated_probability\": 0.9285200305747954, \"estimate_description\": \"EM, blocked on: l.geokey = r.geokey\", \"estimated_probability_as_log_odds\": 3.699322110759191, \"sql_condition\": \"`middle_initial_l` = `middle_initial_r`\", \"comparison_level_label\": \"Exact match\", \"comparison_vector_value\": 1, \"comparison_name\": \"middle_initial\", \"comparison_sort_order\": 2}, {\"m_or_u\": \"m\", \"estimated_probability\": 0.05776617299069876, \"estimate_description\": \"EM, blocked on: l.first_name_15 = r.first_name_15 and l.zipcode = r.zipcode\", \"estimated_probability_as_log_odds\": -4.0277883025336845, \"sql_condition\": \"ELSE\", \"comparison_level_label\": \"All other comparisons\", \"comparison_vector_value\": 0, \"comparison_name\": \"middle_initial\", \"comparison_sort_order\": 2}, {\"m_or_u\": \"m\", \"estimated_probability\": 0.07147996942520465, \"estimate_description\": \"EM, blocked on: l.geokey = r.geokey\", \"estimated_probability_as_log_odds\": -3.6993221107591907, \"sql_condition\": \"ELSE\", \"comparison_level_label\": \"All other comparisons\", \"comparison_vector_value\": 0, \"comparison_name\": \"middle_initial\", \"comparison_sort_order\": 2}, {\"m_or_u\": \"m\", \"estimated_probability\": 0.9786136543171912, \"estimate_description\": \"EM, blocked on: l.first_name_15 = r.first_name_15 and l.zipcode = r.zipcode\", \"estimated_probability_as_log_odds\": 5.515977519230208, \"sql_condition\": \"`day_of_birth_l` = `day_of_birth_r`\", \"comparison_level_label\": \"Exact match\", \"comparison_vector_value\": 2, \"comparison_name\": \"day_of_birth\", \"comparison_sort_order\": 3}, {\"m_or_u\": \"m\", \"estimated_probability\": 0.9764404965541282, \"estimate_description\": \"EM, blocked on: l.geokey = r.geokey\", \"estimated_probability_as_log_odds\": 5.37315109269168, \"sql_condition\": \"`day_of_birth_l` = `day_of_birth_r`\", \"comparison_level_label\": \"Exact match\", \"comparison_vector_value\": 2, \"comparison_name\": \"day_of_birth\", \"comparison_sort_order\": 3}, {\"m_or_u\": \"m\", \"estimated_probability\": 0.014052799400773785, \"estimate_description\": \"EM, blocked on: l.first_name_15 = r.first_name_15 and l.zipcode = r.zipcode\", \"estimated_probability_as_log_odds\": -6.132580931956263, \"sql_condition\": \"abs(day_of_birth_l - day_of_birth_r) <= 5\", \"comparison_level_label\": \"Inexact match\", \"comparison_vector_value\": 1, \"comparison_name\": \"day_of_birth\", \"comparison_sort_order\": 3}, {\"m_or_u\": \"m\", \"estimated_probability\": 0.01475872869455734, \"estimate_description\": \"EM, blocked on: l.geokey = r.geokey\", \"estimated_probability_as_log_odds\": -6.060836703705772, \"sql_condition\": \"abs(day_of_birth_l - day_of_birth_r) <= 5\", \"comparison_level_label\": \"Inexact match\", \"comparison_vector_value\": 1, \"comparison_name\": \"day_of_birth\", \"comparison_sort_order\": 3}, {\"m_or_u\": \"m\", \"estimated_probability\": 0.007333546282035037, \"estimate_description\": \"EM, blocked on: l.first_name_15 = r.first_name_15 and l.zipcode = r.zipcode\", \"estimated_probability_as_log_odds\": -7.080654217422134, \"sql_condition\": \"ELSE\", \"comparison_level_label\": \"All other comparisons\", \"comparison_vector_value\": 0, \"comparison_name\": \"day_of_birth\", \"comparison_sort_order\": 3}, {\"m_or_u\": \"m\", \"estimated_probability\": 0.008800774751314416, \"estimate_description\": \"EM, blocked on: l.geokey = r.geokey\", \"estimated_probability_as_log_odds\": -6.815400716681489, \"sql_condition\": \"ELSE\", \"comparison_level_label\": \"All other comparisons\", \"comparison_vector_value\": 0, \"comparison_name\": \"day_of_birth\", \"comparison_sort_order\": 3}, {\"m_or_u\": \"m\", \"estimated_probability\": 0.9839688441771466, \"estimate_description\": \"EM, blocked on: l.first_name_15 = r.first_name_15 and l.zipcode = r.zipcode\", \"estimated_probability_as_log_odds\": 5.939662285068452, \"sql_condition\": \"`month_of_birth_l` = `month_of_birth_r`\", \"comparison_level_label\": \"Exact match\", \"comparison_vector_value\": 2, \"comparison_name\": \"month_of_birth\", \"comparison_sort_order\": 4}, {\"m_or_u\": \"m\", \"estimated_probability\": 0.9823618816848441, \"estimate_description\": \"EM, blocked on: l.geokey = r.geokey\", \"estimated_probability_as_log_odds\": 5.79948601790995, \"sql_condition\": \"`month_of_birth_l` = `month_of_birth_r`\", \"comparison_level_label\": \"Exact match\", \"comparison_vector_value\": 2, \"comparison_name\": \"month_of_birth\", \"comparison_sort_order\": 4}, {\"m_or_u\": \"m\", \"estimated_probability\": 0.009074195258977995, \"estimate_description\": \"EM, blocked on: l.first_name_15 = r.first_name_15 and l.zipcode = r.zipcode\", \"estimated_probability_as_log_odds\": -6.770863525886201, \"sql_condition\": \"abs(month_of_birth_l - month_of_birth_r) <= 3\", \"comparison_level_label\": \"Inexact match\", \"comparison_vector_value\": 1, \"comparison_name\": \"month_of_birth\", \"comparison_sort_order\": 4}, {\"m_or_u\": \"m\", \"estimated_probability\": 0.009684028192092976, \"estimate_description\": \"EM, blocked on: l.geokey = r.geokey\", \"estimated_probability_as_log_odds\": -6.67613781770847, \"sql_condition\": \"abs(month_of_birth_l - month_of_birth_r) <= 3\", \"comparison_level_label\": \"Inexact match\", \"comparison_vector_value\": 1, \"comparison_name\": \"month_of_birth\", \"comparison_sort_order\": 4}, {\"m_or_u\": \"m\", \"estimated_probability\": 0.006956960563875438, \"estimate_description\": \"EM, blocked on: l.first_name_15 = r.first_name_15 and l.zipcode = r.zipcode\", \"estimated_probability_as_log_odds\": -7.157255293979496, \"sql_condition\": \"ELSE\", \"comparison_level_label\": \"All other comparisons\", \"comparison_vector_value\": 0, \"comparison_name\": \"month_of_birth\", \"comparison_sort_order\": 4}, {\"m_or_u\": \"m\", \"estimated_probability\": 0.007954090123062934, \"estimate_description\": \"EM, blocked on: l.geokey = r.geokey\", \"estimated_probability_as_log_odds\": -6.96256616838355, \"sql_condition\": \"ELSE\", \"comparison_level_label\": \"All other comparisons\", \"comparison_vector_value\": 0, \"comparison_name\": \"month_of_birth\", \"comparison_sort_order\": 4}, {\"m_or_u\": \"m\", \"estimated_probability\": 0.9701739425914105, \"estimate_description\": \"EM, blocked on: l.first_name_15 = r.first_name_15 and l.zipcode = r.zipcode\", \"estimated_probability_as_log_odds\": 5.02359824034086, \"sql_condition\": \"`year_of_birth_l` = `year_of_birth_r`\", \"comparison_level_label\": \"Exact match\", \"comparison_vector_value\": 2, \"comparison_name\": \"year_of_birth\", \"comparison_sort_order\": 5}, {\"m_or_u\": \"m\", \"estimated_probability\": 0.9684445163934081, \"estimate_description\": \"EM, blocked on: l.geokey = r.geokey\", \"estimated_probability_as_log_odds\": 4.9397067582473015, \"sql_condition\": \"`year_of_birth_l` = `year_of_birth_r`\", \"comparison_level_label\": \"Exact match\", \"comparison_vector_value\": 2, \"comparison_name\": \"year_of_birth\", \"comparison_sort_order\": 5}, {\"m_or_u\": \"m\", \"estimated_probability\": 0.00944796091399557, \"estimate_description\": \"EM, blocked on: l.first_name_15 = r.first_name_15 and l.zipcode = r.zipcode\", \"estimated_probability_as_log_odds\": -6.712085963147371, \"sql_condition\": \"abs(year_of_birth_l - year_of_birth_r) <= 5\", \"comparison_level_label\": \"Inexact match\", \"comparison_vector_value\": 1, \"comparison_name\": \"year_of_birth\", \"comparison_sort_order\": 5}, {\"m_or_u\": \"m\", \"estimated_probability\": 0.010127667981368547, \"estimate_description\": \"EM, blocked on: l.geokey = r.geokey\", \"estimated_probability_as_log_odds\": -6.6108685473409885, \"sql_condition\": \"abs(year_of_birth_l - year_of_birth_r) <= 5\", \"comparison_level_label\": \"Inexact match\", \"comparison_vector_value\": 1, \"comparison_name\": \"year_of_birth\", \"comparison_sort_order\": 5}, {\"m_or_u\": \"m\", \"estimated_probability\": 0.02037809649459392, \"estimate_description\": \"EM, blocked on: l.first_name_15 = r.first_name_15 and l.zipcode = r.zipcode\", \"estimated_probability_as_log_odds\": -5.587133830028704, \"sql_condition\": \"ELSE\", \"comparison_level_label\": \"All other comparisons\", \"comparison_vector_value\": 0, \"comparison_name\": \"year_of_birth\", \"comparison_sort_order\": 5}, {\"m_or_u\": \"m\", \"estimated_probability\": 0.0214278156252234, \"estimate_description\": \"EM, blocked on: l.geokey = r.geokey\", \"estimated_probability_as_log_odds\": -5.513121582448615, \"sql_condition\": \"ELSE\", \"comparison_level_label\": \"All other comparisons\", \"comparison_vector_value\": 0, \"comparison_name\": \"year_of_birth\", \"comparison_sort_order\": 5}, {\"m_or_u\": \"m\", \"estimated_probability\": 0.5244709008748406, \"estimate_description\": \"EM, blocked on: l.first_name_15 = r.first_name_15 and l.zipcode = r.zipcode\", \"estimated_probability_as_log_odds\": 0.1413291033859691, \"sql_condition\": \"`geokey_l` = `geokey_r`\", \"comparison_level_label\": \"Exact match\", \"comparison_vector_value\": 2, \"comparison_name\": \"geokey\", \"comparison_sort_order\": 6}, {\"m_or_u\": \"m\", \"estimated_probability\": 0.4693584910277504, \"estimate_description\": \"EM, blocked on: l.first_name_15 = r.first_name_15 and l.zipcode = r.zipcode\", \"estimated_probability_as_log_odds\": -0.17704727463844308, \"sql_condition\": \"jaro_winkler(`geokey_l`, `geokey_r`) >= 0.7222222222222222\", \"comparison_level_label\": \"Jaro_winkler >= 0.7222222222222222\", \"comparison_vector_value\": 1, \"comparison_name\": \"geokey\", \"comparison_sort_order\": 6}, {\"m_or_u\": \"m\", \"estimated_probability\": 0.006170608097408898, \"estimate_description\": \"EM, blocked on: l.first_name_15 = r.first_name_15 and l.zipcode = r.zipcode\", \"estimated_probability_as_log_odds\": -7.3314417288945135, \"sql_condition\": \"ELSE\", \"comparison_level_label\": \"All other comparisons\", \"comparison_vector_value\": 0, \"comparison_name\": \"geokey\", \"comparison_sort_order\": 6}]}}, {\"mode\": \"vega-lite\"});\n",
       "</script>"
      ],
      "text/plain": [
       "alt.Chart(...)"
      ]
     },
     "execution_count": 63,
     "metadata": {},
     "output_type": "execute_result"
    }
   ],
   "source": [
    "linker.parameter_estimate_comparisons_chart()"
   ]
  },
  {
   "cell_type": "code",
   "execution_count": 64,
   "id": "10a026ed-761b-45ee-b44b-9259423e518e",
   "metadata": {
    "execution": {
     "iopub.execute_input": "2024-02-13T00:34:39.376425Z",
     "iopub.status.busy": "2024-02-13T00:34:39.375849Z",
     "iopub.status.idle": "2024-02-13T00:34:39.381166Z",
     "shell.execute_reply": "2024-02-13T00:34:39.380240Z"
    },
    "papermill": {
     "duration": 0.071537,
     "end_time": "2024-02-13T00:34:39.382930",
     "exception": false,
     "start_time": "2024-02-13T00:34:39.311393",
     "status": "completed"
    },
    "tags": []
   },
   "outputs": [],
   "source": [
    "splink_settings = linker._settings_obj.as_dict()"
   ]
  },
  {
   "cell_type": "code",
   "execution_count": 65,
   "id": "92188bbf-e12e-42f2-8a32-b007ea05e0cf",
   "metadata": {
    "execution": {
     "iopub.execute_input": "2024-02-13T00:34:39.513599Z",
     "iopub.status.busy": "2024-02-13T00:34:39.513032Z",
     "iopub.status.idle": "2024-02-13T00:34:39.623897Z",
     "shell.execute_reply": "2024-02-13T00:34:39.622157Z"
    },
    "papermill": {
     "duration": 0.18076,
     "end_time": "2024-02-13T00:34:39.628258",
     "exception": false,
     "start_time": "2024-02-13T00:34:39.447498",
     "status": "completed"
    },
    "tags": []
   },
   "outputs": [],
   "source": [
    "import pickle\n",
    "\n",
    "with open(f'{intermediate_data_dir}/splink_settings.pkl', 'wb') as f:\n",
    "    pickle.dump(splink_settings, f, protocol=-1)"
   ]
  },
  {
   "cell_type": "code",
   "execution_count": 66,
   "id": "0626e377-c1b5-444e-b380-a99ae5156b4e",
   "metadata": {
    "execution": {
     "iopub.execute_input": "2024-02-13T00:34:39.760223Z",
     "iopub.status.busy": "2024-02-13T00:34:39.759657Z",
     "iopub.status.idle": "2024-02-13T00:34:39.765803Z",
     "shell.execute_reply": "2024-02-13T00:34:39.765069Z"
    },
    "papermill": {
     "duration": 0.072719,
     "end_time": "2024-02-13T00:34:39.767733",
     "exception": false,
     "start_time": "2024-02-13T00:34:39.695014",
     "status": "completed"
    },
    "tags": []
   },
   "outputs": [],
   "source": [
    "with open(f'{intermediate_data_dir}/splink_settings.pkl', 'rb') as f:\n",
    "    splink_settings = pickle.load(f)"
   ]
  },
  {
   "cell_type": "markdown",
   "id": "f1b9963e-73da-4b51-837d-d79deca7fecf",
   "metadata": {
    "papermill": {
     "duration": 0.06364,
     "end_time": "2024-02-13T00:34:39.896380",
     "exception": false,
     "start_time": "2024-02-13T00:34:39.832740",
     "status": "completed"
    },
    "tags": []
   },
   "source": [
    "## Implement matching passes"
   ]
  },
  {
   "cell_type": "code",
   "execution_count": 67,
   "id": "f437d4c7-b848-4c19-b29d-5f48d10ce911",
   "metadata": {
    "editable": true,
    "execution": {
     "iopub.execute_input": "2024-02-13T00:34:40.029632Z",
     "iopub.status.busy": "2024-02-13T00:34:40.028777Z",
     "iopub.status.idle": "2024-02-13T00:34:41.665816Z",
     "shell.execute_reply": "2024-02-13T00:34:41.664842Z"
    },
    "papermill": {
     "duration": 1.707372,
     "end_time": "2024-02-13T00:34:41.668123",
     "exception": false,
     "start_time": "2024-02-13T00:34:39.960751",
     "status": "completed"
    },
    "slideshow": {
     "slide_type": ""
    },
    "tags": []
   },
   "outputs": [
    {
     "name": "stdout",
     "output_type": "stream",
     "text": [
      "Imbalanced dataframe: too_few=False, too_many=True, too_large=False\n",
      "count    1.050000e+02\n",
      "mean     3.250993e+06\n",
      "std      5.571214e+06\n",
      "min      1.377980e+06\n",
      "25%      1.396452e+06\n",
      "50%      1.405023e+06\n",
      "75%      1.414898e+06\n",
      "max      2.219429e+07\n",
      "dtype: float64\n",
      "Creating partitions of 100MB\n"
     ]
    }
   ],
   "source": [
    "from dataclasses import dataclass\n",
    "\n",
    "# Calculate this once to save time -- mapping from record_id to record_id_raw_input_file\n",
    "# There can be multiple records (with different record_id) for the same input file record\n",
    "# (record_id_raw_input_file) because of the handling of nicknames by creating extra records.\n",
    "record_id_raw_input_file_by_record_id = census_2030[['record_id', 'record_id_raw_input_file']]\n",
    "\n",
    "all_piks = df_ops.persist(df_ops.concat([\n",
    "    name_dob_reference_file[[\"record_id\", \"pik\"]],\n",
    "    geobase_reference_file[[\"record_id\", \"pik\"]]\n",
    "], ignore_index=True))\n",
    "\n",
    "dates_of_death = df_ops.persist(\n",
    "    df_ops.read_parquet(f'{input_dir}/{data_to_use}/simulated_census_numident.parquet')\n",
    "        [['pik', 'date_of_death']]\n",
    "        .assign(date_of_death=lambda s: pd.to_datetime(s.date_of_death, format='%Y%m%d', errors='coerce'))\n",
    ")\n",
    "\n",
    "class PersonLinkageCascade:\n",
    "    def __init__(self):\n",
    "        # This dataframe will accumulate the PIKs to attach to the input file\n",
    "        self.confirmed_piks = df_ops.empty_dataframe(columns=[\"record_id_raw_input_file\", \"pik\"], dtype=str)\n",
    "        self.current_module = None\n",
    "\n",
    "    def start_module(self, *args, **kwargs):\n",
    "        assert self.current_module is None or self.current_module.confirmed\n",
    "        self.current_module = PersonLinkageModule(*args, already_confirmed_piks=self.confirmed_piks, **kwargs)\n",
    "\n",
    "    def run_matching_pass(self, *args, **kwargs):\n",
    "        self.current_module.run_matching_pass(*args, **kwargs)\n",
    "\n",
    "    def confirm_piks(self, *args, **kwargs):\n",
    "        # Make sure we are not about to confirm PIKs for any of the same files we have\n",
    "        # already PIKed\n",
    "        assert len(\n",
    "            self.current_module.provisional_links.merge(self.confirmed_piks, on='record_id_raw_input_file', how='inner')\n",
    "        ) == 0\n",
    "\n",
    "        newly_confirmed_piks = self.current_module.confirm_piks_from_provisional_links()\n",
    "        if compute_engine == 'dask':\n",
    "            # An implementation of \"checkpointing\" in Dask, so we can safely delete the source files\n",
    "            # without risking permanent loss of data we will need\n",
    "            dir_path = f'{output_dir}/intermediate_data/newly_confirmed_piks/newly_confirmed_piks_{self.current_module.name}'\n",
    "            utils.ensure_empty(dir_path)\n",
    "            file_path = f'{dir_path}/newly_confirmed_piks_{self.current_module.name}_{int(time.time())}.parquet'\n",
    "            df_ops.to_parquet(newly_confirmed_piks, file_path, wait=True)\n",
    "            newly_confirmed_piks = df_ops.read_parquet(file_path)\n",
    "\n",
    "        # We are now done with the intermediate data inside this module\n",
    "        dir_path = f'{output_dir}/intermediate_data/{self.current_module.name}/'\n",
    "        utils.remove_path(dir_path)\n",
    "\n",
    "        self.confirmed_piks = df_ops.persist(df_ops.concat([\n",
    "            self.confirmed_piks,\n",
    "            newly_confirmed_piks,\n",
    "        ], ignore_index=True))\n",
    "\n",
    "@dataclass\n",
    "class PersonLinkageModule:\n",
    "    name: str\n",
    "    reference_file: pd.DataFrame\n",
    "    reference_file_name: str\n",
    "    already_confirmed_piks: pd.DataFrame\n",
    "    cut_columns: list[str]\n",
    "    matching_columns: list[str]\n",
    "    bayes_factor_cut_columns: float = 1\n",
    "\n",
    "    def __post_init__(self):\n",
    "        self.provisional_links = df_ops.empty_dataframe(columns=[\"record_id_census_2030\"], dtype=str)\n",
    "        self.confirmed = False\n",
    "        utils.ensure_empty(f'{intermediate_data_dir}/for_splink/')\n",
    "        self.reference_file_for_splink = prep_table_for_splink(self.reference_file, self.reference_file_name, self.reference_file.columns)\n",
    "        if clear_intermediate:\n",
    "            utils.ensure_empty(f'{output_dir}/intermediate_data/{self.name}/')\n",
    "        self.census_to_match = df_ops.persist(\n",
    "            census_2030\n",
    "                # Only look for matches among records that have not received a confirmed PIK\n",
    "                .merge(self.already_confirmed_piks[['record_id_raw_input_file']].assign(already_confirmed_dummy=1), on='record_id_raw_input_file', how='left')\n",
    "                .pipe(lambda df: df[df.already_confirmed_dummy.isna()])\n",
    "                .drop(columns=[\"already_confirmed_dummy\"])\n",
    "        )\n",
    "\n",
    "    def run_matching_pass(\n",
    "        self,\n",
    "        pass_name,\n",
    "        blocking_columns,\n",
    "        probability_threshold=0.99,\n",
    "        input_data_transformation=lambda x: x,\n",
    "    ):\n",
    "        assert self.confirmed == False\n",
    "\n",
    "        print(f\"Running {pass_name} of {self.name}\")\n",
    "\n",
    "        columns_needed = utils.dedupe_list([\"record_id\"] + self.cut_columns + blocking_columns + self.matching_columns)\n",
    "        print(f\"Files to link are {len(self.reference_file):,.0f} and {len(self.census_to_match):,.0f} records\")\n",
    "        if splink_engine == 'spark':\n",
    "            reference_file_for_splink = self.reference_file_for_splink.select(columns_needed)\n",
    "        else:\n",
    "            reference_file_for_splink = self.reference_file_for_splink[columns_needed]\n",
    "\n",
    "        tables_for_splink = [\n",
    "            reference_file_for_splink,\n",
    "            prep_table_for_splink(\n",
    "                self.census_to_match.pipe(input_data_transformation),\n",
    "                \"census_2030\",\n",
    "                columns_needed,\n",
    "            )\n",
    "        ]\n",
    "\n",
    "        blocking_rule_parts = [f\"l.{col} = r.{col}\" for col in self.cut_columns + blocking_columns]\n",
    "        blocking_rule = \" and \".join(blocking_rule_parts)\n",
    "\n",
    "        if splink_engine == 'spark':\n",
    "            blocking_rule = {\n",
    "                \"blocking_rule\": blocking_rule,\n",
    "                \"salting_partitions\": 10,\n",
    "            }\n",
    "\n",
    "        # We base our Splink linker for this pass on the one we trained above,\n",
    "        # but limiting it to the relevant column comparisons and updating the pass-specific\n",
    "        # settings\n",
    "        pass_splink_settings = copy.deepcopy(splink_settings)\n",
    "        pass_splink_settings[\"comparisons\"] = [\n",
    "            c for c in pass_splink_settings[\"comparisons\"] if c[\"output_column_name\"] in self.matching_columns\n",
    "        ]\n",
    "        prior_two_random_records_match = probability_two_random_records_match(\n",
    "            census_2030,\n",
    "            self.reference_file,\n",
    "        )\n",
    "        prior_odds_two_random_records_match = prior_two_random_records_match / (1 - prior_two_random_records_match)\n",
    "        # If cut columns are not used for matching, need to adjust our prior for the fact\n",
    "        # that all pairs compared will have the same values in the cut columns\n",
    "        odds_two_random_records_match = prior_odds_two_random_records_match * self.bayes_factor_cut_columns\n",
    "        pass_splink_settings[\"probability_two_random_records_match\"] = odds_two_random_records_match / (1 + odds_two_random_records_match)\n",
    "        pass_splink_settings[\"blocking_rules_to_generate_predictions\"] = [blocking_rule]\n",
    "\n",
    "        if splink_engine == 'duckdb':\n",
    "            linker = DuckDBLinker(\n",
    "                tables_for_splink,\n",
    "                pass_splink_settings,\n",
    "                # Must match order of tables_for_splink\n",
    "                input_table_aliases=[\"reference_file\", \"census_2030\"]\n",
    "            )\n",
    "        else:\n",
    "            linker = SparkLinker(\n",
    "                tables_for_splink,\n",
    "                pass_splink_settings,\n",
    "                # Must match order of tables_for_splink\n",
    "                input_table_aliases=[\"reference_file\", \"census_2030\"],\n",
    "                spark=spark,\n",
    "            )\n",
    "\n",
    "        num_comparisons = linker.count_num_comparisons_from_blocking_rule(blocking_rule)\n",
    "        print(f\"Number of pairs that will be compared: {num_comparisons:,.0f}\")\n",
    "    \n",
    "        # https://moj-analytical-services.github.io/splink/demos/06_Visualising_predictions.html#comparison-viewer-dashboard\n",
    "        # We also include some pairs below the threshold, for additional context.\n",
    "        pairs_worth_inspecting = linker.predict(threshold_match_probability=probability_threshold - 0.2)\n",
    "\n",
    "        if linker.query_sql(f'select count(*) as num from {pairs_worth_inspecting.physical_name}').num.iloc[0] > 0:\n",
    "            dashboard_file_name = f\"splink_temp/{self.name.replace(' ', '_')}__{pass_name.replace(' ', '_')}.html\"\n",
    "            linker.comparison_viewer_dashboard(pairs_worth_inspecting, dashboard_file_name, overwrite=True)\n",
    "            from IPython.display import IFrame, display\n",
    "            display(IFrame(\n",
    "                src=f\"./{dashboard_file_name}\", width=\"100%\", height=1200\n",
    "            ))\n",
    "\n",
    "        if compute_engine == 'pandas':\n",
    "            new_provisional_links = pairs_worth_inspecting.as_pandas_dataframe()\n",
    "            new_provisional_links = new_provisional_links[new_provisional_links.match_probability >= probability_threshold]\n",
    "        elif splink_engine == 'spark':\n",
    "            # We do a tiny bit of computation in Spark directly to avoid writing more to disk than we need to\n",
    "            pairs_worth_inspecting = pairs_worth_inspecting.as_spark_dataframe()\n",
    "            new_provisional_links = pairs_worth_inspecting.filter(pairs_worth_inspecting.match_probability >= probability_threshold)\n",
    "            if pairs_worth_inspecting.rdd.getNumPartitions() < compute_engine_num_jobs * 5:\n",
    "                new_provisional_links = new_provisional_links.repartition(compute_engine_num_jobs * 5)\n",
    "            # NOTE: We do *not* utils.ensure_empty across passes here, because we need the provisional links from all passes\n",
    "            # to stick around\n",
    "            dir_path = f'{output_dir}/intermediate_data/{self.name}/{pass_name}/new_provisional_links/'\n",
    "            utils.ensure_empty(dir_path)\n",
    "            file_path = f'{dir_path}/new_provisional_links_{int(time.time())}.parquet'\n",
    "            new_provisional_links.write.mode('overwrite').parquet(file_path)\n",
    "            utils.ensure_empty(checkpoints_dir) # We no longer need these checkpoints\n",
    "            new_provisional_links = df_ops.persist(df_ops.read_parquet(file_path))\n",
    "        else:\n",
    "            dir_path = f'{output_dir}/intermediate_data/{self.name}/{pass_name}/pairs_worth_inspecting/'\n",
    "            utils.ensure_empty(dir_path)\n",
    "            file_path = f'{dir_path}/pairs_worth_inspecting_{int(time.time())}.parquet'\n",
    "            pairs_worth_inspecting.to_parquet(file_path, overwrite=True)\n",
    "            pairs_worth_inspecting = df_ops.persist(df_ops.read_parquet(file_path))\n",
    "            new_provisional_links = pairs_worth_inspecting[pairs_worth_inspecting.match_probability >= probability_threshold]\n",
    "            del pairs_worth_inspecting\n",
    "\n",
    "        if splink_engine == 'spark':\n",
    "            utils.ensure_empty(checkpoints_dir) # We are done with this Spark linker\n",
    "\n",
    "        if len(new_provisional_links) > 0:\n",
    "            new_provisional_links = df_ops.persist(\n",
    "                label_pairs_with_dataset(new_provisional_links)\n",
    "                    .merge(record_id_raw_input_file_by_record_id, left_on=\"record_id_census_2030\", right_on=\"record_id\", how=\"left\")\n",
    "                    .drop(columns=[\"record_id\"])\n",
    "            )\n",
    "            self.provisional_links = df_ops.persist(df_ops.concat([\n",
    "                self.provisional_links,\n",
    "                new_provisional_links.assign(module_name=self.name, pass_name=pass_name).pipe(df_ops.ensure_large_string_capacity)\n",
    "            ], ignore_index=True))\n",
    "\n",
    "            self.census_to_match = df_ops.persist(\n",
    "                self.census_to_match\n",
    "                    # Only look for matches among records that have not received a provisional link\n",
    "                    # NOTE: \"records\" here does not mean input file records -- a nickname record having\n",
    "                    # a provisional link does not prevent a canonical name record from the same input record\n",
    "                    # from continuing to match\n",
    "                    .merge(df_ops.drop_duplicates(new_provisional_links[['record_id_census_2030']]), left_on='record_id', right_on='record_id_census_2030', how='left')\n",
    "                    .pipe(lambda df: df[df.record_id_census_2030.isna()])\n",
    "                    .drop(columns=[\"record_id_census_2030\"])\n",
    "            )\n",
    "\n",
    "        print(f'Found {len(new_provisional_links):,.0f} matches; {len(self.census_to_match) / len(census_2030):.2%} still eligible to match')\n",
    "\n",
    "    def confirm_piks_from_provisional_links(self):\n",
    "        assert not self.confirmed\n",
    "\n",
    "        provisional_links = (\n",
    "            self.provisional_links\n",
    "                .merge(all_piks, left_on=\"record_id_reference_file\", right_on=\"record_id\", how=\"left\")\n",
    "                .drop(columns=\"record_id\")\n",
    "        )\n",
    "\n",
    "        # \"After the initial set of links is created in GeoSearch, a post-search program is run to determine\n",
    "        # which of the links are retained. A series of checks are performed: First the date of death\n",
    "        # information from the Numident is checked and links to deceased persons are dropped. Next a\n",
    "        # check is made for more than one SSN assigned to a source record. If more than one SSN is\n",
    "        # assigned, the best link is selected based on match weights. If no best SSN is determined, all SSNs\n",
    "        # assigned in the GeoSearch module are dropped and the input record cascades to the next\n",
    "        # module. A similar post-search program is run at the end of all search modules.\"\n",
    "        # - Layne et al. p. 5\n",
    "\n",
    "        # Drop links to deceased people\n",
    "        # NOTE: On p. 38 of Brown et al. (2023) it discusses at length the number of PVS matches to deceased\n",
    "        # people, which should not be possible based on this process.\n",
    "        # Even though this is more recent, I can't think of a reason why this check would have\n",
    "        # been *removed* from PVS -- can we chalk this up to something experimental they were doing for\n",
    "        # the AR Census in the 2023 report?\n",
    "        provisional_links = df_ops.persist(\n",
    "            provisional_links.merge(dates_of_death, on=\"pik\", how=\"left\")\n",
    "        )\n",
    "        # Census day 2030\n",
    "        deceased_links = df_ops.persist(provisional_links.date_of_death.notnull() & (provisional_links.date_of_death <= pandas.to_datetime(\"2030-04-01\")))\n",
    "        print(f'{df_ops.compute(deceased_links.sum()):,.0f} input records linked to deceased people, dropping links')\n",
    "        provisional_links = df_ops.persist(provisional_links[~deceased_links])\n",
    "\n",
    "        # Check for multiple linkage to a single input file record\n",
    "        max_probability = df_ops.groupby_agg_small_groups(provisional_links, by=\"record_id_raw_input_file\", agg_func=lambda x: x.match_probability.max()).reset_index()\n",
    "        piks_per_input_file = (\n",
    "            provisional_links\n",
    "                .merge(max_probability, on=[\"record_id_raw_input_file\", \"match_probability\"])\n",
    "                .pipe(df_ops.groupby_agg_small_groups, by=\"record_id_raw_input_file\", agg_func=lambda x: x.pik.nunique())\n",
    "                .rename('num_unique_piks')\n",
    "                .reset_index()\n",
    "        )\n",
    "\n",
    "        multiple_piks = df_ops.persist(piks_per_input_file[piks_per_input_file.num_unique_piks > 1])\n",
    "        print(f'{len(multiple_piks):,.0f} input records linked to multiple PIKs, dropping links')\n",
    "        provisional_links = df_ops.persist(\n",
    "            provisional_links\n",
    "                .merge(multiple_piks, on=\"record_id_raw_input_file\", how=\"left\")\n",
    "                .pipe(lambda df: df[df.num_unique_piks.isnull() | (df.num_unique_piks <= 1)])\n",
    "                .pipe(df_ops.drop_duplicates, subset=\"record_id_raw_input_file\", sort_col=\"match_probability\", keep=\"last\")\n",
    "        )\n",
    "\n",
    "        assert df_ops.compute((df_ops.groupby_agg_small_groups(provisional_links, by=\"record_id_raw_input_file\", agg_func=lambda x: x.pik.nunique()) == 1).all())\n",
    "\n",
    "        self.confirmed = True\n",
    "        self.provisional_links = None\n",
    "        \n",
    "        return (\n",
    "            provisional_links[[\n",
    "                \"record_id_raw_input_file\",\n",
    "                \"record_id_census_2030\",\n",
    "                \"record_id_reference_file\",\n",
    "                \"pik\",\n",
    "                \"module_name\",\n",
    "                \"pass_name\",\n",
    "                \"match_probability\",\n",
    "            ]]\n",
    "        )\n",
    "\n",
    "def label_pairs_with_dataset(pairs):\n",
    "    pairs = df_ops.persist(pairs)\n",
    "    if len(pairs) == 0:\n",
    "        return pairs\n",
    "\n",
    "    # Name the columns according to the datasets, not \"r\" (right) and \"l\" (left)\n",
    "    for suffix in [\"r\", \"l\"]:\n",
    "        # NOTE: In practice, splink always has \"r\" correspond to one dataset and \"l\" correspond to the other.\n",
    "        # It is unclear to me if this is a documented guarantee, so I double check.\n",
    "        # NOTE: Do not use drop_duplicates here, since the groups should be enormous (the entire dataframe)\n",
    "        assert df_ops.compute(pairs[f'source_dataset_{suffix}'].nunique()) == 1\n",
    "        source_dataset_name = df_ops.head(pairs, n=1)[f'source_dataset_{suffix}'].iloc[0]\n",
    "        pairs = pairs.rename(columns={c: re.sub(f'_{suffix}$', f'_{source_dataset_name}', c) for c in pairs.columns if c.endswith(f'_{suffix}')})\n",
    "\n",
    "    return pairs"
   ]
  },
  {
   "cell_type": "code",
   "execution_count": 68,
   "id": "c8b7236a-ef52-4151-acab-ba1f0a186042",
   "metadata": {
    "execution": {
     "iopub.execute_input": "2024-02-13T00:34:41.805602Z",
     "iopub.status.busy": "2024-02-13T00:34:41.805184Z",
     "iopub.status.idle": "2024-02-13T00:34:41.822755Z",
     "shell.execute_reply": "2024-02-13T00:34:41.821966Z"
    },
    "papermill": {
     "duration": 0.085237,
     "end_time": "2024-02-13T00:34:41.824746",
     "exception": false,
     "start_time": "2024-02-13T00:34:41.739509",
     "status": "completed"
    },
    "tags": []
   },
   "outputs": [],
   "source": [
    "person_linkage_cascade = PersonLinkageCascade()"
   ]
  },
  {
   "cell_type": "markdown",
   "id": "96dc1b23-3bbf-4571-a89d-9bf8db4c0dbe",
   "metadata": {
    "papermill": {
     "duration": 0.063796,
     "end_time": "2024-02-13T00:34:41.952946",
     "exception": false,
     "start_time": "2024-02-13T00:34:41.889150",
     "status": "completed"
    },
    "tags": []
   },
   "source": [
    "# Verification Module\n",
    "\n",
    "Wagner and Layne, p.14:\n",
    "\n",
    "> If the input file has a SSN data field, it first goes through the verification process.\n",
    "\n",
    "This module of PVS only runs on input records with an SSN.\n",
    "No records in the CUF have an SSN (SSN is not collected on the decennial)\n",
    "so this module is skipped."
   ]
  },
  {
   "cell_type": "markdown",
   "id": "b0203571-b01f-477b-879d-c1c7587020d7",
   "metadata": {
    "papermill": {
     "duration": 0.066553,
     "end_time": "2024-02-13T00:34:42.085758",
     "exception": false,
     "start_time": "2024-02-13T00:34:42.019205",
     "status": "completed"
    },
    "tags": []
   },
   "source": [
    "# GeoSearch\n",
    "\n",
    "Brown et al. p. 29:\n",
    "\n",
    "> the GeoSearch module blocks records at\n",
    "different levels of geography, starting with the housing unit level, then broadening geography\n",
    "up to the three-digit ZIP Code level. The typical matching variables are name, DOB, sex, and\n",
    "various address fields.\n",
    "\n",
    "Wagner and Layne p. 14:\n",
    "\n",
    "> The typical GeoSearch blocking strategy starts with blocking records at the\n",
    "household level, then broadens the geography for each successive pass and ends at\n",
    "blocking by the first three digits of the zip code. The typical match variables are first,\n",
    "middle, and last names; generational suffix; date of birth; gender and various address\n",
    "fields.\n",
    "> \n",
    "> The data for the GeoSearch module are split into 1,000 cuts based on the first three\n",
    "digits of the zip code (zip3) for record. The GeoSearch program works on one zip3 cut\n",
    "at a time, with shell scripts submitting multiple streams of cuts to the system. This\n",
    "allows for parallel processing and restart capability.\n",
    "\n",
    "Layne, Wagner, and Rothhaas list an exact series of passes with blocking and matching variables\n",
    "for each (Appendix A on p. 25).\n",
    "This was the series of passes they used in running PVS on the Medicare Enrollment\n",
    "Database, the Indian Health Service Patient Registration File, and on two commercial\n",
    "data sources.\n",
    "All of these data sources are rather different than a CUF, and this paper is from 2014,\n",
    "but it is the only place I know of where an entire set of passes is described,\n",
    "so I have used the exact same passes here."
   ]
  },
  {
   "cell_type": "code",
   "execution_count": 69,
   "id": "2560948a-c9ca-4b96-9fa9-4c4b942689e7",
   "metadata": {
    "execution": {
     "iopub.execute_input": "2024-02-13T00:34:42.220685Z",
     "iopub.status.busy": "2024-02-13T00:34:42.220348Z",
     "iopub.status.idle": "2024-02-13T00:34:44.926018Z",
     "shell.execute_reply": "2024-02-13T00:34:44.925224Z"
    },
    "papermill": {
     "duration": 2.777833,
     "end_time": "2024-02-13T00:34:44.928301",
     "exception": false,
     "start_time": "2024-02-13T00:34:42.150468",
     "status": "completed"
    },
    "tags": []
   },
   "outputs": [],
   "source": [
    "person_linkage_cascade.start_module(\n",
    "    name=\"geosearch\",\n",
    "    reference_file=geobase_reference_file,\n",
    "    reference_file_name=\"geobase_reference_file\",\n",
    "    cut_columns=[\"zip3\"],\n",
    "    matching_columns=[\n",
    "        \"first_name_15\",\n",
    "        \"last_name_12\",\n",
    "        \"middle_initial\",\n",
    "        \"day_of_birth\",\n",
    "        \"month_of_birth\",\n",
    "        \"year_of_birth\",\n",
    "        \"geokey\",\n",
    "    ],\n",
    ")"
   ]
  },
  {
   "cell_type": "markdown",
   "id": "0398ac85-1ff3-4103-979c-ff00936ced02",
   "metadata": {
    "papermill": {
     "duration": 0.068918,
     "end_time": "2024-02-13T00:34:45.064141",
     "exception": false,
     "start_time": "2024-02-13T00:34:44.995223",
     "status": "completed"
    },
    "tags": []
   },
   "source": [
    "## Pass 1: Block on geokey (entire address)"
   ]
  },
  {
   "cell_type": "code",
   "execution_count": 70,
   "id": "c13afeba-9198-4546-9092-6ee563cc51e7",
   "metadata": {
    "execution": {
     "iopub.execute_input": "2024-02-13T00:34:45.194567Z",
     "iopub.status.busy": "2024-02-13T00:34:45.194166Z",
     "iopub.status.idle": "2024-02-13T00:35:44.829952Z",
     "shell.execute_reply": "2024-02-13T00:35:44.828960Z"
    },
    "papermill": {
     "duration": 59.702337,
     "end_time": "2024-02-13T00:35:44.831984",
     "exception": false,
     "start_time": "2024-02-13T00:34:45.129647",
     "status": "completed"
    },
    "tags": []
   },
   "outputs": [
    {
     "name": "stdout",
     "output_type": "stream",
     "text": [
      "Running geokey of geosearch\n",
      "Files to link are 2,902,602 and 1,099,471 records\n"
     ]
    },
    {
     "name": "stderr",
     "output_type": "stream",
     "text": [
      "24/02/13 00:34:50 WARN SimpleFunctionRegistry: The function jaro_sim replaced a previously registered function.\n",
      "24/02/13 00:34:50 WARN SimpleFunctionRegistry: The function jaro_winkler replaced a previously registered function.\n",
      "24/02/13 00:34:50 WARN SimpleFunctionRegistry: The function jaccard replaced a previously registered function.\n",
      "24/02/13 00:34:50 WARN SimpleFunctionRegistry: The function cosine_distance replaced a previously registered function.\n",
      "24/02/13 00:34:50 WARN SimpleFunctionRegistry: The function dmetaphone replaced a previously registered function.\n",
      "24/02/13 00:34:50 WARN SimpleFunctionRegistry: The function dmetaphonealt replaced a previously registered function.\n",
      "24/02/13 00:34:50 WARN SimpleFunctionRegistry: The function qgramtokeniser replaced a previously registered function.\n",
      "24/02/13 00:34:50 WARN SimpleFunctionRegistry: The function damerau_levenshtein replaced a previously registered function.\n",
      "                                                                                \r"
     ]
    },
    {
     "name": "stdout",
     "output_type": "stream",
     "text": [
      "Number of pairs that will be compared: 2,508,898\n"
     ]
    },
    {
     "name": "stderr",
     "output_type": "stream",
     "text": [
      "24/02/13 00:35:01 WARN DataSource: All paths were ignored:                      \n",
      "  file:/ihme/scratch/users/zmbc/person_linkage_case_study/person_linkage_case_study/ri/tmpCheckpoints/c28977bd-b2cf-4869-832b-cd0cdb995234/__splink__df_concat_with_tf_5c552a2b9\n",
      "24/02/13 00:35:10 WARN DAGScheduler: Broadcasting large task binary with size 1573.6 KiB\n",
      "24/02/13 00:35:19 WARN DataSource: All paths were ignored:                      \n",
      "  file:/ihme/scratch/users/zmbc/person_linkage_case_study/person_linkage_case_study/ri/tmpCheckpoints/c28977bd-b2cf-4869-832b-cd0cdb995234/__splink__df_predict_1154a061a\n",
      "                                                                                \r"
     ]
    },
    {
     "data": {
      "text/html": [
       "\n",
       "        <iframe\n",
       "            width=\"100%\"\n",
       "            height=\"1200\"\n",
       "            src=\"./splink_temp/geosearch__geokey.html\"\n",
       "            frameborder=\"0\"\n",
       "            allowfullscreen\n",
       "            \n",
       "        ></iframe>\n",
       "        "
      ],
      "text/plain": [
       "<IPython.lib.display.IFrame at 0x7f17031a7bb0>"
      ]
     },
     "metadata": {},
     "output_type": "display_data"
    },
    {
     "name": "stderr",
     "output_type": "stream",
     "text": [
      "                                                                                \r"
     ]
    },
    {
     "name": "stdout",
     "output_type": "stream",
     "text": [
      "Imbalanced dataframe: too_few=False, too_many=True, too_large=False\n",
      "count    1.250000e+02\n",
      "mean     3.032931e+06\n",
      "std      1.004235e+04\n",
      "min      3.005025e+06\n",
      "25%      3.026128e+06\n",
      "50%      3.032712e+06\n",
      "75%      3.040830e+06\n",
      "max      3.055930e+06\n",
      "dtype: float64\n",
      "Creating partitions of 100MB\n",
      "Found 683,018 matches; 38.05% still eligible to match\n"
     ]
    }
   ],
   "source": [
    "person_linkage_cascade.run_matching_pass(\n",
    "    pass_name=\"geokey\",\n",
    "    blocking_columns=[\"geokey_for_blocking\"],\n",
    ")"
   ]
  },
  {
   "cell_type": "markdown",
   "id": "ef782163-425e-4745-a8a4-f352032ee9d4",
   "metadata": {
    "papermill": {
     "duration": 0.068277,
     "end_time": "2024-02-13T00:35:44.973267",
     "exception": false,
     "start_time": "2024-02-13T00:35:44.904990",
     "status": "completed"
    },
    "tags": []
   },
   "source": [
    "## Pass 2: Block on geokey (entire address), switching first and last names"
   ]
  },
  {
   "cell_type": "code",
   "execution_count": 71,
   "id": "83383f23-807c-49bb-88b7-7ef69d9a6031",
   "metadata": {
    "execution": {
     "iopub.execute_input": "2024-02-13T00:35:45.114895Z",
     "iopub.status.busy": "2024-02-13T00:35:45.114473Z",
     "iopub.status.idle": "2024-02-13T00:35:45.120865Z",
     "shell.execute_reply": "2024-02-13T00:35:45.120137Z"
    },
    "papermill": {
     "duration": 0.078872,
     "end_time": "2024-02-13T00:35:45.122660",
     "exception": false,
     "start_time": "2024-02-13T00:35:45.043788",
     "status": "completed"
    },
    "tags": []
   },
   "outputs": [],
   "source": [
    "def switch_first_and_last_names(df):\n",
    "    return (\n",
    "        df.rename(columns={\"first_name\": \"last_name\", \"last_name\": \"first_name\"})\n",
    "            # Re-calculate the truncated versions of first and last.\n",
    "            # NOTE: It is not necessary to re-calculate the phonetic versions, because\n",
    "            # those are never used in any pass that has a name switch.\n",
    "            .pipe(add_truncated_name_cols)\n",
    "    )"
   ]
  },
  {
   "cell_type": "code",
   "execution_count": 72,
   "id": "f1a30656-2fad-43f2-8712-6e52fb8c94ef",
   "metadata": {
    "execution": {
     "iopub.execute_input": "2024-02-13T00:35:45.259486Z",
     "iopub.status.busy": "2024-02-13T00:35:45.259079Z",
     "iopub.status.idle": "2024-02-13T00:36:23.420878Z",
     "shell.execute_reply": "2024-02-13T00:36:23.419969Z"
    },
    "papermill": {
     "duration": 38.232291,
     "end_time": "2024-02-13T00:36:23.422982",
     "exception": false,
     "start_time": "2024-02-13T00:35:45.190691",
     "status": "completed"
    },
    "tags": []
   },
   "outputs": [
    {
     "name": "stdout",
     "output_type": "stream",
     "text": [
      "Running geokey name switch of geosearch\n",
      "Files to link are 2,902,602 and 418,385 records\n"
     ]
    },
    {
     "name": "stderr",
     "output_type": "stream",
     "text": [
      "24/02/13 00:35:50 WARN SimpleFunctionRegistry: The function jaro_sim replaced a previously registered function.\n",
      "24/02/13 00:35:50 WARN SimpleFunctionRegistry: The function jaro_winkler replaced a previously registered function.\n",
      "24/02/13 00:35:50 WARN SimpleFunctionRegistry: The function jaccard replaced a previously registered function.\n",
      "24/02/13 00:35:50 WARN SimpleFunctionRegistry: The function cosine_distance replaced a previously registered function.\n",
      "24/02/13 00:35:50 WARN SimpleFunctionRegistry: The function dmetaphone replaced a previously registered function.\n",
      "24/02/13 00:35:50 WARN SimpleFunctionRegistry: The function dmetaphonealt replaced a previously registered function.\n",
      "24/02/13 00:35:50 WARN SimpleFunctionRegistry: The function qgramtokeniser replaced a previously registered function.\n",
      "24/02/13 00:35:50 WARN SimpleFunctionRegistry: The function damerau_levenshtein replaced a previously registered function.\n",
      "                                                                                \r"
     ]
    },
    {
     "name": "stdout",
     "output_type": "stream",
     "text": [
      "Number of pairs that will be compared: 317,943\n"
     ]
    },
    {
     "name": "stderr",
     "output_type": "stream",
     "text": [
      "24/02/13 00:36:01 WARN DataSource: All paths were ignored:                      \n",
      "  file:/ihme/scratch/users/zmbc/person_linkage_case_study/person_linkage_case_study/ri/tmpCheckpoints/c28977bd-b2cf-4869-832b-cd0cdb995234/__splink__df_concat_with_tf_5c552a2b9\n",
      "24/02/13 00:36:10 WARN DAGScheduler: Broadcasting large task binary with size 1025.3 KiB\n",
      "24/02/13 00:36:14 WARN DataSource: All paths were ignored:                      \n",
      "  file:/ihme/scratch/users/zmbc/person_linkage_case_study/person_linkage_case_study/ri/tmpCheckpoints/c28977bd-b2cf-4869-832b-cd0cdb995234/__splink__df_predict_1154a061a\n"
     ]
    },
    {
     "data": {
      "text/html": [
       "\n",
       "        <iframe\n",
       "            width=\"100%\"\n",
       "            height=\"1200\"\n",
       "            src=\"./splink_temp/geosearch__geokey_name_switch.html\"\n",
       "            frameborder=\"0\"\n",
       "            allowfullscreen\n",
       "            \n",
       "        ></iframe>\n",
       "        "
      ],
      "text/plain": [
       "<IPython.lib.display.IFrame at 0x7f1711cca1a0>"
      ]
     },
     "metadata": {},
     "output_type": "display_data"
    },
    {
     "name": "stdout",
     "output_type": "stream",
     "text": [
      "Found 8 matches; 38.05% still eligible to match\n"
     ]
    }
   ],
   "source": [
    "# We don't actually have any swapping of first and last names in pseudopeople\n",
    "person_linkage_cascade.run_matching_pass(\n",
    "    pass_name=\"geokey name switch\",\n",
    "    blocking_columns=[\"geokey_for_blocking\"],\n",
    "    input_data_transformation=switch_first_and_last_names,\n",
    ")"
   ]
  },
  {
   "cell_type": "markdown",
   "id": "7f1abcb7-8577-428a-a531-5fac5f3ea6dc",
   "metadata": {
    "papermill": {
     "duration": 0.072741,
     "end_time": "2024-02-13T00:36:23.572315",
     "exception": false,
     "start_time": "2024-02-13T00:36:23.499574",
     "status": "completed"
    },
    "tags": []
   },
   "source": [
    "## Pass 3: Block on house number and street name Soundex"
   ]
  },
  {
   "cell_type": "code",
   "execution_count": 73,
   "id": "e7c841a9-09af-4708-a094-2ddc19526648",
   "metadata": {
    "execution": {
     "iopub.execute_input": "2024-02-13T00:36:23.714423Z",
     "iopub.status.busy": "2024-02-13T00:36:23.714018Z",
     "iopub.status.idle": "2024-02-13T00:37:09.233895Z",
     "shell.execute_reply": "2024-02-13T00:37:09.232765Z"
    },
    "papermill": {
     "duration": 45.592658,
     "end_time": "2024-02-13T00:37:09.235875",
     "exception": false,
     "start_time": "2024-02-13T00:36:23.643217",
     "status": "completed"
    },
    "tags": []
   },
   "outputs": [
    {
     "name": "stdout",
     "output_type": "stream",
     "text": [
      "Running house number and street name Soundex of geosearch\n",
      "Files to link are 2,902,602 and 418,377 records\n"
     ]
    },
    {
     "name": "stderr",
     "output_type": "stream",
     "text": [
      "24/02/13 00:36:28 WARN SimpleFunctionRegistry: The function jaro_sim replaced a previously registered function.\n",
      "24/02/13 00:36:28 WARN SimpleFunctionRegistry: The function jaro_winkler replaced a previously registered function.\n",
      "24/02/13 00:36:28 WARN SimpleFunctionRegistry: The function jaccard replaced a previously registered function.\n",
      "24/02/13 00:36:28 WARN SimpleFunctionRegistry: The function cosine_distance replaced a previously registered function.\n",
      "24/02/13 00:36:28 WARN SimpleFunctionRegistry: The function dmetaphone replaced a previously registered function.\n",
      "24/02/13 00:36:28 WARN SimpleFunctionRegistry: The function dmetaphonealt replaced a previously registered function.\n",
      "24/02/13 00:36:28 WARN SimpleFunctionRegistry: The function qgramtokeniser replaced a previously registered function.\n",
      "24/02/13 00:36:28 WARN SimpleFunctionRegistry: The function damerau_levenshtein replaced a previously registered function.\n",
      "                                                                                \r"
     ]
    },
    {
     "name": "stdout",
     "output_type": "stream",
     "text": [
      "Number of pairs that will be compared: 5,267,539\n"
     ]
    },
    {
     "name": "stderr",
     "output_type": "stream",
     "text": [
      "24/02/13 00:36:37 WARN DataSource: All paths were ignored:                      \n",
      "  file:/ihme/scratch/users/zmbc/person_linkage_case_study/person_linkage_case_study/ri/tmpCheckpoints/c28977bd-b2cf-4869-832b-cd0cdb995234/__splink__df_concat_with_tf_194f60a20\n",
      "24/02/13 00:36:46 WARN DAGScheduler: Broadcasting large task binary with size 1031.4 KiB\n",
      "24/02/13 00:36:54 WARN DataSource: All paths were ignored:                      \n",
      "  file:/ihme/scratch/users/zmbc/person_linkage_case_study/person_linkage_case_study/ri/tmpCheckpoints/c28977bd-b2cf-4869-832b-cd0cdb995234/__splink__df_predict_a25bc0e52\n",
      "                                                                                \r"
     ]
    },
    {
     "data": {
      "text/html": [
       "\n",
       "        <iframe\n",
       "            width=\"100%\"\n",
       "            height=\"1200\"\n",
       "            src=\"./splink_temp/geosearch__house_number_and_street_name_Soundex.html\"\n",
       "            frameborder=\"0\"\n",
       "            allowfullscreen\n",
       "            \n",
       "        ></iframe>\n",
       "        "
      ],
      "text/plain": [
       "<IPython.lib.display.IFrame at 0x7f1653006dd0>"
      ]
     },
     "metadata": {},
     "output_type": "display_data"
    },
    {
     "name": "stderr",
     "output_type": "stream",
     "text": [
      "                                                                                \r"
     ]
    },
    {
     "name": "stdout",
     "output_type": "stream",
     "text": [
      "Imbalanced dataframe: too_few=False, too_many=True, too_large=False\n",
      "count       125.00000\n",
      "mean     311162.46400\n",
      "std        7753.50163\n",
      "min      293451.00000\n",
      "25%      306558.00000\n",
      "50%      311339.00000\n",
      "75%      315733.00000\n",
      "max      334486.00000\n",
      "dtype: float64\n",
      "Creating partitions of 100MB\n",
      "Found 75,826 matches; 32.88% still eligible to match\n"
     ]
    }
   ],
   "source": [
    "person_linkage_cascade.run_matching_pass(\n",
    "    pass_name=\"house number and street name Soundex\",\n",
    "    blocking_columns=[\"street_number_for_blocking\", \"street_name_for_blocking_soundex\"],\n",
    ")"
   ]
  },
  {
   "cell_type": "markdown",
   "id": "f5b68b0c-f33b-42bb-a80f-22afae888216",
   "metadata": {
    "papermill": {
     "duration": 0.072702,
     "end_time": "2024-02-13T00:37:09.385847",
     "exception": false,
     "start_time": "2024-02-13T00:37:09.313145",
     "status": "completed"
    },
    "tags": []
   },
   "source": [
    "## Pass 4: Block on house number and street name Soundex, switching first and last names"
   ]
  },
  {
   "cell_type": "code",
   "execution_count": 74,
   "id": "d7665776-b592-4762-b4ca-f399ce9a95ec",
   "metadata": {
    "execution": {
     "iopub.execute_input": "2024-02-13T00:37:09.537638Z",
     "iopub.status.busy": "2024-02-13T00:37:09.537227Z",
     "iopub.status.idle": "2024-02-13T00:37:38.366661Z",
     "shell.execute_reply": "2024-02-13T00:37:38.365975Z"
    },
    "papermill": {
     "duration": 28.908074,
     "end_time": "2024-02-13T00:37:38.368277",
     "exception": false,
     "start_time": "2024-02-13T00:37:09.460203",
     "status": "completed"
    },
    "tags": []
   },
   "outputs": [
    {
     "name": "stdout",
     "output_type": "stream",
     "text": [
      "Running house number and street name Soundex name switch of geosearch\n",
      "Files to link are 2,902,602 and 361,471 records\n"
     ]
    },
    {
     "name": "stderr",
     "output_type": "stream",
     "text": [
      "24/02/13 00:37:14 WARN SimpleFunctionRegistry: The function jaro_sim replaced a previously registered function.\n",
      "24/02/13 00:37:14 WARN SimpleFunctionRegistry: The function jaro_winkler replaced a previously registered function.\n",
      "24/02/13 00:37:14 WARN SimpleFunctionRegistry: The function jaccard replaced a previously registered function.\n",
      "24/02/13 00:37:14 WARN SimpleFunctionRegistry: The function cosine_distance replaced a previously registered function.\n",
      "24/02/13 00:37:14 WARN SimpleFunctionRegistry: The function dmetaphone replaced a previously registered function.\n",
      "24/02/13 00:37:14 WARN SimpleFunctionRegistry: The function dmetaphonealt replaced a previously registered function.\n",
      "24/02/13 00:37:14 WARN SimpleFunctionRegistry: The function qgramtokeniser replaced a previously registered function.\n",
      "24/02/13 00:37:14 WARN SimpleFunctionRegistry: The function damerau_levenshtein replaced a previously registered function.\n",
      "                                                                                \r"
     ]
    },
    {
     "name": "stdout",
     "output_type": "stream",
     "text": [
      "Number of pairs that will be compared: 4,603,843\n"
     ]
    },
    {
     "name": "stderr",
     "output_type": "stream",
     "text": [
      "24/02/13 00:37:23 WARN DataSource: All paths were ignored:                      \n",
      "  file:/ihme/scratch/users/zmbc/person_linkage_case_study/person_linkage_case_study/ri/tmpCheckpoints/c28977bd-b2cf-4869-832b-cd0cdb995234/__splink__df_concat_with_tf_194f60a20\n",
      "24/02/13 00:37:30 WARN DAGScheduler: Broadcasting large task binary with size 1031.4 KiB\n",
      "24/02/13 00:37:35 WARN DataSource: All paths were ignored:                      \n",
      "  file:/ihme/scratch/users/zmbc/person_linkage_case_study/person_linkage_case_study/ri/tmpCheckpoints/c28977bd-b2cf-4869-832b-cd0cdb995234/__splink__df_predict_a25bc0e52\n"
     ]
    },
    {
     "data": {
      "text/html": [
       "\n",
       "        <iframe\n",
       "            width=\"100%\"\n",
       "            height=\"1200\"\n",
       "            src=\"./splink_temp/geosearch__house_number_and_street_name_Soundex_name_switch.html\"\n",
       "            frameborder=\"0\"\n",
       "            allowfullscreen\n",
       "            \n",
       "        ></iframe>\n",
       "        "
      ],
      "text/plain": [
       "<IPython.lib.display.IFrame at 0x7f16f1a03220>"
      ]
     },
     "metadata": {},
     "output_type": "display_data"
    },
    {
     "name": "stdout",
     "output_type": "stream",
     "text": [
      "Imbalanced dataframe: too_few=True, too_many=False, too_large=False\n",
      "count      1.0\n",
      "mean     124.0\n",
      "std        NaN\n",
      "min      124.0\n",
      "25%      124.0\n",
      "50%      124.0\n",
      "75%      124.0\n",
      "max      124.0\n",
      "dtype: float64\n",
      "Leaving as a single partition\n",
      "Found 0 matches; 32.88% still eligible to match\n"
     ]
    }
   ],
   "source": [
    "person_linkage_cascade.run_matching_pass(\n",
    "    pass_name=\"house number and street name Soundex name switch\",\n",
    "    blocking_columns=[\"street_number_for_blocking\", \"street_name_for_blocking_soundex\"],\n",
    "    input_data_transformation=switch_first_and_last_names,\n",
    ")"
   ]
  },
  {
   "cell_type": "markdown",
   "id": "c4753574-d776-4b83-9ca8-762a2d665ddc",
   "metadata": {
    "papermill": {
     "duration": 0.052264,
     "end_time": "2024-02-13T00:37:38.473902",
     "exception": false,
     "start_time": "2024-02-13T00:37:38.421638",
     "status": "completed"
    },
    "tags": []
   },
   "source": [
    "## Pass 5: Block on some name and DOB information"
   ]
  },
  {
   "cell_type": "code",
   "execution_count": 75,
   "id": "1924438b-d5ec-4bc7-a083-46d0165c9682",
   "metadata": {
    "execution": {
     "iopub.execute_input": "2024-02-13T00:37:38.619823Z",
     "iopub.status.busy": "2024-02-13T00:37:38.619520Z",
     "iopub.status.idle": "2024-02-13T00:38:22.239026Z",
     "shell.execute_reply": "2024-02-13T00:38:22.237617Z"
    },
    "papermill": {
     "duration": 43.67328,
     "end_time": "2024-02-13T00:38:22.241050",
     "exception": false,
     "start_time": "2024-02-13T00:37:38.567770",
     "status": "completed"
    },
    "tags": []
   },
   "outputs": [
    {
     "name": "stdout",
     "output_type": "stream",
     "text": [
      "Running some name and DOB information of geosearch\n",
      "Files to link are 2,902,602 and 361,471 records\n"
     ]
    },
    {
     "name": "stderr",
     "output_type": "stream",
     "text": [
      "24/02/13 00:37:42 WARN SimpleFunctionRegistry: The function jaro_sim replaced a previously registered function.\n",
      "24/02/13 00:37:42 WARN SimpleFunctionRegistry: The function jaro_winkler replaced a previously registered function.\n",
      "24/02/13 00:37:42 WARN SimpleFunctionRegistry: The function jaccard replaced a previously registered function.\n",
      "24/02/13 00:37:42 WARN SimpleFunctionRegistry: The function cosine_distance replaced a previously registered function.\n",
      "24/02/13 00:37:42 WARN SimpleFunctionRegistry: The function dmetaphone replaced a previously registered function.\n",
      "24/02/13 00:37:42 WARN SimpleFunctionRegistry: The function dmetaphonealt replaced a previously registered function.\n",
      "24/02/13 00:37:42 WARN SimpleFunctionRegistry: The function qgramtokeniser replaced a previously registered function.\n",
      "24/02/13 00:37:42 WARN SimpleFunctionRegistry: The function damerau_levenshtein replaced a previously registered function.\n",
      "                                                                                \r"
     ]
    },
    {
     "name": "stdout",
     "output_type": "stream",
     "text": [
      "Number of pairs that will be compared: 1,158,523\n"
     ]
    },
    {
     "name": "stderr",
     "output_type": "stream",
     "text": [
      "24/02/13 00:37:50 WARN DataSource: All paths were ignored:                      \n",
      "  file:/ihme/scratch/users/zmbc/person_linkage_case_study/person_linkage_case_study/ri/tmpCheckpoints/c28977bd-b2cf-4869-832b-cd0cdb995234/__splink__df_concat_with_tf_298373e1e\n",
      "24/02/13 00:37:58 WARN DAGScheduler: Broadcasting large task binary with size 1029.6 KiB\n",
      "24/02/13 00:38:03 WARN DataSource: All paths were ignored:                      \n",
      "  file:/ihme/scratch/users/zmbc/person_linkage_case_study/person_linkage_case_study/ri/tmpCheckpoints/c28977bd-b2cf-4869-832b-cd0cdb995234/__splink__df_predict_7b02dc61e\n",
      "                                                                                \r"
     ]
    },
    {
     "data": {
      "text/html": [
       "\n",
       "        <iframe\n",
       "            width=\"100%\"\n",
       "            height=\"1200\"\n",
       "            src=\"./splink_temp/geosearch__some_name_and_DOB_information.html\"\n",
       "            frameborder=\"0\"\n",
       "            allowfullscreen\n",
       "            \n",
       "        ></iframe>\n",
       "        "
      ],
      "text/plain": [
       "<IPython.lib.display.IFrame at 0x7f16f3ff25f0>"
      ]
     },
     "metadata": {},
     "output_type": "display_data"
    },
    {
     "name": "stderr",
     "output_type": "stream",
     "text": [
      "                                                                                \r"
     ]
    },
    {
     "name": "stdout",
     "output_type": "stream",
     "text": [
      "Imbalanced dataframe: too_few=False, too_many=True, too_large=False\n",
      "count    1.250000e+02\n",
      "mean     9.960605e+05\n",
      "std      4.943611e+03\n",
      "min      9.822210e+05\n",
      "25%      9.927590e+05\n",
      "50%      9.967020e+05\n",
      "75%      9.995800e+05\n",
      "max      1.007599e+06\n",
      "dtype: float64\n",
      "Creating partitions of 100MB\n",
      "Imbalanced dataframe: too_few=False, too_many=True, too_large=False\n",
      "count    1.160000e+02\n",
      "mean     6.174870e+06\n",
      "std      5.317446e+06\n",
      "min      7.210000e+02\n",
      "25%      1.476736e+06\n",
      "50%      4.669464e+06\n",
      "75%      1.365839e+07\n",
      "max      1.392257e+07\n",
      "dtype: float64\n",
      "Creating partitions of 100MB\n",
      "Found 248,626 matches; 19.02% still eligible to match\n"
     ]
    }
   ],
   "source": [
    "person_linkage_cascade.run_matching_pass(\n",
    "    pass_name=\"some name and DOB information\",\n",
    "    blocking_columns=[\"first_name_2\", \"last_name_2\", \"year_of_birth\"],\n",
    ")"
   ]
  },
  {
   "cell_type": "markdown",
   "id": "3f507b1e-61e6-448f-bc2e-afccc3020356",
   "metadata": {
    "papermill": {
     "duration": 0.076633,
     "end_time": "2024-02-13T00:38:22.400687",
     "exception": false,
     "start_time": "2024-02-13T00:38:22.324054",
     "status": "completed"
    },
    "tags": []
   },
   "source": [
    "## Post-process and confirm PIKs"
   ]
  },
  {
   "cell_type": "code",
   "execution_count": 76,
   "id": "30899aeb-e35f-4246-979c-af9f8235c3ab",
   "metadata": {
    "execution": {
     "iopub.execute_input": "2024-02-13T00:38:22.560768Z",
     "iopub.status.busy": "2024-02-13T00:38:22.560369Z",
     "iopub.status.idle": "2024-02-13T00:39:14.914444Z",
     "shell.execute_reply": "2024-02-13T00:39:14.913626Z"
    },
    "papermill": {
     "duration": 52.439072,
     "end_time": "2024-02-13T00:39:14.917436",
     "exception": false,
     "start_time": "2024-02-13T00:38:22.478364",
     "status": "completed"
    },
    "tags": []
   },
   "outputs": [
    {
     "name": "stdout",
     "output_type": "stream",
     "text": [
      "9,411 input records linked to deceased people, dropping links\n",
      "626 input records linked to multiple PIKs, dropping links\n"
     ]
    }
   ],
   "source": [
    "person_linkage_cascade.confirm_piks()"
   ]
  },
  {
   "cell_type": "code",
   "execution_count": 77,
   "id": "0eea4fa2-588b-4555-a78e-8747da8db6fb",
   "metadata": {
    "execution": {
     "iopub.execute_input": "2024-02-13T00:39:15.088445Z",
     "iopub.status.busy": "2024-02-13T00:39:15.088048Z",
     "iopub.status.idle": "2024-02-13T00:39:15.280238Z",
     "shell.execute_reply": "2024-02-13T00:39:15.279146Z"
    },
    "papermill": {
     "duration": 0.276472,
     "end_time": "2024-02-13T00:39:15.282169",
     "exception": false,
     "start_time": "2024-02-13T00:39:15.005697",
     "status": "completed"
    },
    "tags": []
   },
   "outputs": [
    {
     "data": {
      "text/plain": [
       "module_name  pass_name                           \n",
       "geosearch    geokey                                  673411\n",
       "             some name and DOB information           150808\n",
       "             house number and street name Soundex     56278\n",
       "             geokey name switch                           8\n",
       "dtype: int64"
      ]
     },
     "execution_count": 77,
     "metadata": {},
     "output_type": "execute_result"
    }
   ],
   "source": [
    "df_ops.compute(person_linkage_cascade.confirmed_piks.groupby([\"module_name\", \"pass_name\"]).size()).sort_values(ascending=False)"
   ]
  },
  {
   "cell_type": "markdown",
   "id": "d64ae657-5248-4a78-b836-3a04e8732140",
   "metadata": {
    "papermill": {
     "duration": 0.07788,
     "end_time": "2024-02-13T00:39:15.438511",
     "exception": false,
     "start_time": "2024-02-13T00:39:15.360631",
     "status": "completed"
    },
    "tags": []
   },
   "source": [
    "# ZIP3 Adjacency Search\n",
    "\n",
    "Layne, Wagner, and Rothhaas (p. 6) refers to ZIP3 adjacency as a module and even provides\n",
    "a list of two passes within it in Appendix A.\n",
    "\n",
    "Alexander et al. (p. 6) refers to it the same way, as a module.\n",
    "\n",
    "However, Wagner and Layne (p. 14) says:\n",
    "\n",
    "> The GeoSearch module also incorporates the adjacency of neighboring areas with\n",
    "different zip3 values\n",
    "\n",
    "which implies this logic is a pass or passes *within* GeoSearch (and due to how cascading works,\n",
    "this is not just an academic distinction).\n",
    "\n",
    "There is no mention at all of ZIP3 adjacency in the Brown et al. paper from 2023.\n",
    "\n",
    "**TODO**: Determine whether this still exists, how it works if so, and implement it.\n",
    "Doesn't really make sense with the sample data since there is only one ZIP."
   ]
  },
  {
   "cell_type": "markdown",
   "id": "ca19c7f2-e129-4c96-b22e-a2983c40a15c",
   "metadata": {
    "papermill": {
     "duration": 0.081719,
     "end_time": "2024-02-13T00:39:15.600151",
     "exception": false,
     "start_time": "2024-02-13T00:39:15.518432",
     "status": "completed"
    },
    "tags": []
   },
   "source": [
    "# Movers\n",
    "\n",
    "The Movers module is not mentioned in Brown et al, nor in Wagner and Layne.\n",
    "\n",
    "In Layne, Wagner, and Rothhaas (p. 7), published in 2014, it is described as \"Prototyped only – not implemented in PVS\":\n",
    "\n",
    "> The Movers module is appropriate for input files that combine individuals together into\n",
    "> households.\n",
    "> The module seeks multiple members of an input household in one address that\n",
    "> may have moved together to another address.\n",
    "> To be eligible for this module the household size must be greater than one.\n",
    "> This module is being tested and was not used in the analysis for this paper.\n",
    "\n",
    "Alexander et al. (p. 6) a year later makes no note of it being experimental:\n",
    "\n",
    "> To be eligible for the Movers Module, no member of the household can have a\n",
    "> PIK and the household must consist of more than one member.\n",
    "> This module considers persons living at the same address as a unit and\n",
    "> searches for matching units living together in the reference file (without regard for address).\n",
    "\n",
    "Essentially the same text is included in Massey et al., published in 2018.\n",
    "\n",
    "Though it doesn't provide much information, [this document](https://gunnisonconsulting.com/docs/pdf/Record%20Linkage%20Slicksheet_FINAL.pdf)\n",
    "([archive](https://web.archive.org/web/20230705010237/https://gunnisonconsulting.com/docs/pdf/Record%20Linkage%20Slicksheet_FINAL.pdf))\n",
    "from the Gunnison consulting group states that they worked with Census and\n",
    "\"pioneered the transition from a record-by-record matching approach to an\n",
    "approach that better uses groups of records, such as full households, to make more\n",
    "and better links.\"\n",
    "Specifically, they claim that 16% of previously unlinked records were linked using\n",
    "the household-level approach.\n",
    "\n",
    "**TODO**: Haven't figured out if this is still in use, nor how it works.\n",
    "This module seems of particular interest, because it sounds like it is quite different\n",
    "from other modules."
   ]
  },
  {
   "cell_type": "markdown",
   "id": "b7412843-d6c2-4064-ab38-ab9335b9d71e",
   "metadata": {
    "papermill": {
     "duration": 0.07732,
     "end_time": "2024-02-13T00:39:15.756600",
     "exception": false,
     "start_time": "2024-02-13T00:39:15.679280",
     "status": "completed"
    },
    "tags": []
   },
   "source": [
    "# NameSearch\n",
    "\n",
    "Brown et al., p. 29:\n",
    "\n",
    "> ... the NameSearch module, which uses only name and DOB fields, comparing all combinations of\n",
    "alternate names and dates of birth.\n",
    "\n",
    "Wagner and Layne, p. 15:\n",
    "\n",
    "> The NameSearch module searches the reference files for records failing the\n",
    "Verification and GeoSearch Modules. Only name and date of birth data are used in this\n",
    "search process. NameSearch consists of multiple passes against the Numident Name\n",
    "Reference file, which contains all possible combinations of alternate names and\n",
    "alternate dates of birth for each SSN in the Census Numident file, and includes data for\n",
    "ITINs.\n",
    "> \n",
    "> The typical NameSearch blocking strategy starts with a strict first pass, blocking\n",
    "records by exact date of birth and parts of names. Successive passes block on parts of\n",
    "the name and date of birth fields to allow for some name and date of birth variation.\n",
    "The typical match variables are first, middle and last names, generational suffix, date of\n",
    "birth, and gender.\n",
    "\n",
    "As in GeoSearch, the only full listing I could find of passes with blocking and matching variables\n",
    "was in Layne, Wagner, and Rothhaas.\n",
    "This is probably somewhat out of date and is not what would be used on a CUF, but I have\n",
    "copied it exactly here."
   ]
  },
  {
   "cell_type": "code",
   "execution_count": 78,
   "id": "fdf41a6a-8c72-4c9a-bb8c-410d7877414f",
   "metadata": {
    "execution": {
     "iopub.execute_input": "2024-02-13T00:39:15.920843Z",
     "iopub.status.busy": "2024-02-13T00:39:15.920430Z",
     "iopub.status.idle": "2024-02-13T00:39:20.883115Z",
     "shell.execute_reply": "2024-02-13T00:39:20.882082Z"
    },
    "papermill": {
     "duration": 5.047188,
     "end_time": "2024-02-13T00:39:20.885901",
     "exception": false,
     "start_time": "2024-02-13T00:39:15.838713",
     "status": "completed"
    },
    "tags": []
   },
   "outputs": [],
   "source": [
    "person_linkage_cascade.start_module(\n",
    "    name=\"namesearch\",\n",
    "    reference_file=name_dob_reference_file,\n",
    "    reference_file_name=\"name_dob_reference_file\",\n",
    "    cut_columns=[\"first_initial_cut\", \"last_initial_cut\"],\n",
    "    matching_columns=[\n",
    "        \"first_name_15\",\n",
    "        \"last_name_12\",\n",
    "        \"middle_initial\",\n",
    "        \"day_of_birth\",\n",
    "        \"month_of_birth\",\n",
    "        \"year_of_birth\",\n",
    "    ],\n",
    ")"
   ]
  },
  {
   "cell_type": "markdown",
   "id": "bf43e928-be1c-4f2a-a747-e624c19d40d6",
   "metadata": {
    "papermill": {
     "duration": 0.081783,
     "end_time": "2024-02-13T00:39:21.097609",
     "exception": false,
     "start_time": "2024-02-13T00:39:21.015826",
     "status": "completed"
    },
    "tags": []
   },
   "source": [
    "## Pass 1: Block on DOB and NYSIIS of name"
   ]
  },
  {
   "cell_type": "code",
   "execution_count": 79,
   "id": "01e5baab-1b94-4359-9398-c829ebb2a920",
   "metadata": {
    "execution": {
     "iopub.execute_input": "2024-02-13T00:39:21.253825Z",
     "iopub.status.busy": "2024-02-13T00:39:21.253411Z",
     "iopub.status.idle": "2024-02-13T00:39:59.276361Z",
     "shell.execute_reply": "2024-02-13T00:39:59.275096Z"
    },
    "papermill": {
     "duration": 38.178036,
     "end_time": "2024-02-13T00:39:59.352668",
     "exception": false,
     "start_time": "2024-02-13T00:39:21.174632",
     "status": "completed"
    },
    "tags": []
   },
   "outputs": [
    {
     "name": "stdout",
     "output_type": "stream",
     "text": [
      "Running DOB and NYSIIS of name of namesearch\n",
      "Files to link are 1,814,001 and 217,781 records\n"
     ]
    },
    {
     "name": "stderr",
     "output_type": "stream",
     "text": [
      "24/02/13 00:39:27 WARN SimpleFunctionRegistry: The function jaro_sim replaced a previously registered function.\n",
      "24/02/13 00:39:27 WARN SimpleFunctionRegistry: The function jaro_winkler replaced a previously registered function.\n",
      "24/02/13 00:39:27 WARN SimpleFunctionRegistry: The function jaccard replaced a previously registered function.\n",
      "24/02/13 00:39:27 WARN SimpleFunctionRegistry: The function cosine_distance replaced a previously registered function.\n",
      "24/02/13 00:39:27 WARN SimpleFunctionRegistry: The function dmetaphone replaced a previously registered function.\n",
      "24/02/13 00:39:27 WARN SimpleFunctionRegistry: The function dmetaphonealt replaced a previously registered function.\n",
      "24/02/13 00:39:27 WARN SimpleFunctionRegistry: The function qgramtokeniser replaced a previously registered function.\n",
      "24/02/13 00:39:27 WARN SimpleFunctionRegistry: The function damerau_levenshtein replaced a previously registered function.\n",
      "                                                                                \r"
     ]
    },
    {
     "name": "stdout",
     "output_type": "stream",
     "text": [
      "Number of pairs that will be compared: 37,723\n"
     ]
    },
    {
     "name": "stderr",
     "output_type": "stream",
     "text": [
      "24/02/13 00:39:32 WARN DataSource: All paths were ignored:                      \n",
      "  file:/ihme/scratch/users/zmbc/person_linkage_case_study/person_linkage_case_study/ri/tmpCheckpoints/c28977bd-b2cf-4869-832b-cd0cdb995234/__splink__df_concat_with_tf_3019835a6\n",
      "24/02/13 00:39:43 WARN DataSource: All paths were ignored:                      \n",
      "  file:/ihme/scratch/users/zmbc/person_linkage_case_study/person_linkage_case_study/ri/tmpCheckpoints/c28977bd-b2cf-4869-832b-cd0cdb995234/__splink__df_predict_b934dc35d\n",
      "                                                                                \r"
     ]
    },
    {
     "data": {
      "text/html": [
       "\n",
       "        <iframe\n",
       "            width=\"100%\"\n",
       "            height=\"1200\"\n",
       "            src=\"./splink_temp/namesearch__DOB_and_NYSIIS_of_name.html\"\n",
       "            frameborder=\"0\"\n",
       "            allowfullscreen\n",
       "            \n",
       "        ></iframe>\n",
       "        "
      ],
      "text/plain": [
       "<IPython.lib.display.IFrame at 0x7f16f1a1a350>"
      ]
     },
     "metadata": {},
     "output_type": "display_data"
    },
    {
     "name": "stderr",
     "output_type": "stream",
     "text": [
      "                                                                                \r"
     ]
    },
    {
     "name": "stdout",
     "output_type": "stream",
     "text": [
      "Imbalanced dataframe: too_few=False, too_many=True, too_large=False\n",
      "count       125.000000\n",
      "mean     129657.232000\n",
      "std        2590.352259\n",
      "min      124718.000000\n",
      "25%      127491.000000\n",
      "50%      129696.000000\n",
      "75%      131673.000000\n",
      "max      135168.000000\n",
      "dtype: float64\n",
      "Creating partitions of 100MB\n",
      "Found 37,384 matches; 16.41% still eligible to match\n"
     ]
    }
   ],
   "source": [
    "person_linkage_cascade.run_matching_pass(\n",
    "    pass_name=\"DOB and NYSIIS of name\",\n",
    "    blocking_columns=[\"day_of_birth\", \"month_of_birth\", \"year_of_birth\", \"first_name_nysiis\", \"last_name_nysiis\"],\n",
    ")"
   ]
  },
  {
   "cell_type": "markdown",
   "id": "bedbec09-ed90-4d7d-9fe3-4a934b6d8bce",
   "metadata": {
    "papermill": {
     "duration": 0.082331,
     "end_time": "2024-02-13T00:39:59.514793",
     "exception": false,
     "start_time": "2024-02-13T00:39:59.432462",
     "status": "completed"
    },
    "tags": []
   },
   "source": [
    "## Pass 2: Block on DOB and initials"
   ]
  },
  {
   "cell_type": "code",
   "execution_count": 80,
   "id": "7011e74c-b87e-436c-9c75-5fe23fafdd8e",
   "metadata": {
    "execution": {
     "iopub.execute_input": "2024-02-13T00:39:59.679507Z",
     "iopub.status.busy": "2024-02-13T00:39:59.679075Z",
     "iopub.status.idle": "2024-02-13T00:40:34.630258Z",
     "shell.execute_reply": "2024-02-13T00:40:34.628506Z"
    },
    "papermill": {
     "duration": 35.106642,
     "end_time": "2024-02-13T00:40:34.704581",
     "exception": false,
     "start_time": "2024-02-13T00:39:59.597939",
     "status": "completed"
    },
    "tags": []
   },
   "outputs": [
    {
     "name": "stdout",
     "output_type": "stream",
     "text": [
      "Running DOB and initials of namesearch\n",
      "Files to link are 1,814,001 and 180,402 records\n"
     ]
    },
    {
     "name": "stderr",
     "output_type": "stream",
     "text": [
      "24/02/13 00:40:06 WARN SimpleFunctionRegistry: The function jaro_sim replaced a previously registered function.\n",
      "24/02/13 00:40:06 WARN SimpleFunctionRegistry: The function jaro_winkler replaced a previously registered function.\n",
      "24/02/13 00:40:06 WARN SimpleFunctionRegistry: The function jaccard replaced a previously registered function.\n",
      "24/02/13 00:40:06 WARN SimpleFunctionRegistry: The function cosine_distance replaced a previously registered function.\n",
      "24/02/13 00:40:06 WARN SimpleFunctionRegistry: The function dmetaphone replaced a previously registered function.\n",
      "24/02/13 00:40:06 WARN SimpleFunctionRegistry: The function dmetaphonealt replaced a previously registered function.\n",
      "24/02/13 00:40:06 WARN SimpleFunctionRegistry: The function qgramtokeniser replaced a previously registered function.\n",
      "24/02/13 00:40:06 WARN SimpleFunctionRegistry: The function damerau_levenshtein replaced a previously registered function.\n",
      "                                                                                \r"
     ]
    },
    {
     "name": "stdout",
     "output_type": "stream",
     "text": [
      "Number of pairs that will be compared: 51,494\n"
     ]
    },
    {
     "name": "stderr",
     "output_type": "stream",
     "text": [
      "24/02/13 00:40:09 WARN DataSource: All paths were ignored:                      \n",
      "  file:/ihme/scratch/users/zmbc/person_linkage_case_study/person_linkage_case_study/ri/tmpCheckpoints/c28977bd-b2cf-4869-832b-cd0cdb995234/__splink__df_concat_with_tf_a53dbfbdc\n",
      "24/02/13 00:40:21 WARN DataSource: All paths were ignored:                      \n",
      "  file:/ihme/scratch/users/zmbc/person_linkage_case_study/person_linkage_case_study/ri/tmpCheckpoints/c28977bd-b2cf-4869-832b-cd0cdb995234/__splink__df_predict_a331174af\n"
     ]
    },
    {
     "data": {
      "text/html": [
       "\n",
       "        <iframe\n",
       "            width=\"100%\"\n",
       "            height=\"1200\"\n",
       "            src=\"./splink_temp/namesearch__DOB_and_initials.html\"\n",
       "            frameborder=\"0\"\n",
       "            allowfullscreen\n",
       "            \n",
       "        ></iframe>\n",
       "        "
      ],
      "text/plain": [
       "<IPython.lib.display.IFrame at 0x7f16529569e0>"
      ]
     },
     "metadata": {},
     "output_type": "display_data"
    },
    {
     "name": "stderr",
     "output_type": "stream",
     "text": [
      "                                                                                \r"
     ]
    },
    {
     "name": "stdout",
     "output_type": "stream",
     "text": [
      "Imbalanced dataframe: too_few=False, too_many=True, too_large=False\n",
      "count      125.000000\n",
      "mean     35860.064000\n",
      "std       2443.217655\n",
      "min      29043.000000\n",
      "25%      34434.000000\n",
      "50%      36108.000000\n",
      "75%      37294.000000\n",
      "max      41941.000000\n",
      "dtype: float64\n",
      "Creating partitions of 100MB\n",
      "Found 10,689 matches; 15.44% still eligible to match\n"
     ]
    }
   ],
   "source": [
    "person_linkage_cascade.run_matching_pass(\n",
    "    pass_name=\"DOB and initials\",\n",
    "    blocking_columns=[\"day_of_birth\", \"month_of_birth\", \"year_of_birth\", \"first_name_1\", \"last_name_1\"],\n",
    ")"
   ]
  },
  {
   "cell_type": "markdown",
   "id": "1d3e5dad-fbb8-4e7f-9b31-8ef079623b71",
   "metadata": {
    "papermill": {
     "duration": 0.080042,
     "end_time": "2024-02-13T00:40:34.865590",
     "exception": false,
     "start_time": "2024-02-13T00:40:34.785548",
     "status": "completed"
    },
    "tags": []
   },
   "source": [
    "## Pass 3: Block on year of birth and first two characters of name"
   ]
  },
  {
   "cell_type": "code",
   "execution_count": 81,
   "id": "afdc57ab-bf73-4524-a82a-4242a7e37be3",
   "metadata": {
    "execution": {
     "iopub.execute_input": "2024-02-13T00:40:35.032297Z",
     "iopub.status.busy": "2024-02-13T00:40:35.031890Z",
     "iopub.status.idle": "2024-02-13T00:41:11.991831Z",
     "shell.execute_reply": "2024-02-13T00:41:11.990404Z"
    },
    "papermill": {
     "duration": 37.046541,
     "end_time": "2024-02-13T00:41:11.993729",
     "exception": false,
     "start_time": "2024-02-13T00:40:34.947188",
     "status": "completed"
    },
    "tags": []
   },
   "outputs": [
    {
     "name": "stdout",
     "output_type": "stream",
     "text": [
      "Running year of birth and first two characters of name of namesearch\n",
      "Files to link are 1,814,001 and 169,714 records\n"
     ]
    },
    {
     "name": "stderr",
     "output_type": "stream",
     "text": [
      "24/02/13 00:40:41 WARN SimpleFunctionRegistry: The function jaro_sim replaced a previously registered function.\n",
      "24/02/13 00:40:41 WARN SimpleFunctionRegistry: The function jaro_winkler replaced a previously registered function.\n",
      "24/02/13 00:40:41 WARN SimpleFunctionRegistry: The function jaccard replaced a previously registered function.\n",
      "24/02/13 00:40:41 WARN SimpleFunctionRegistry: The function cosine_distance replaced a previously registered function.\n",
      "24/02/13 00:40:41 WARN SimpleFunctionRegistry: The function dmetaphone replaced a previously registered function.\n",
      "24/02/13 00:40:41 WARN SimpleFunctionRegistry: The function dmetaphonealt replaced a previously registered function.\n",
      "24/02/13 00:40:41 WARN SimpleFunctionRegistry: The function qgramtokeniser replaced a previously registered function.\n",
      "24/02/13 00:40:41 WARN SimpleFunctionRegistry: The function damerau_levenshtein replaced a previously registered function.\n",
      "                                                                                \r"
     ]
    },
    {
     "name": "stdout",
     "output_type": "stream",
     "text": [
      "Number of pairs that will be compared: 404,596\n"
     ]
    },
    {
     "name": "stderr",
     "output_type": "stream",
     "text": [
      "24/02/13 00:40:45 WARN DataSource: All paths were ignored:                      \n",
      "  file:/ihme/scratch/users/zmbc/person_linkage_case_study/person_linkage_case_study/ri/tmpCheckpoints/c28977bd-b2cf-4869-832b-cd0cdb995234/__splink__df_concat_with_tf_f5ba7d597\n",
      "24/02/13 00:40:57 WARN DataSource: All paths were ignored:                      \n",
      "  file:/ihme/scratch/users/zmbc/person_linkage_case_study/person_linkage_case_study/ri/tmpCheckpoints/c28977bd-b2cf-4869-832b-cd0cdb995234/__splink__df_predict_069c05ff9\n"
     ]
    },
    {
     "data": {
      "text/html": [
       "\n",
       "        <iframe\n",
       "            width=\"100%\"\n",
       "            height=\"1200\"\n",
       "            src=\"./splink_temp/namesearch__year_of_birth_and_first_two_characters_of_name.html\"\n",
       "            frameborder=\"0\"\n",
       "            allowfullscreen\n",
       "            \n",
       "        ></iframe>\n",
       "        "
      ],
      "text/plain": [
       "<IPython.lib.display.IFrame at 0x7f169af978b0>"
      ]
     },
     "metadata": {},
     "output_type": "display_data"
    },
    {
     "name": "stderr",
     "output_type": "stream",
     "text": [
      "                                                                                \r"
     ]
    },
    {
     "name": "stdout",
     "output_type": "stream",
     "text": [
      "Imbalanced dataframe: too_few=False, too_many=True, too_large=False\n",
      "count     125.000000\n",
      "mean     2692.256000\n",
      "std      1062.013311\n",
      "min       543.000000\n",
      "25%      1823.000000\n",
      "50%      2652.000000\n",
      "75%      3494.000000\n",
      "max      6058.000000\n",
      "dtype: float64\n",
      "Creating partitions of 100MB\n",
      "Imbalanced dataframe: too_few=False, too_many=True, too_large=False\n",
      "count       108.000000\n",
      "mean     276494.833333\n",
      "std      266835.202291\n",
      "min        8154.000000\n",
      "25%       15044.750000\n",
      "50%      178065.500000\n",
      "75%      629551.500000\n",
      "max      685447.000000\n",
      "dtype: float64\n",
      "Creating partitions of 100MB\n",
      "Found 760 matches; 15.37% still eligible to match\n"
     ]
    }
   ],
   "source": [
    "person_linkage_cascade.run_matching_pass(\n",
    "    pass_name=\"year of birth and first two characters of name\",\n",
    "    blocking_columns=[\"year_of_birth\", \"first_name_2\", \"last_name_2\"],\n",
    ")"
   ]
  },
  {
   "cell_type": "markdown",
   "id": "980962d2-3da2-4ca1-82b6-6452e6fce0f8",
   "metadata": {
    "papermill": {
     "duration": 0.082365,
     "end_time": "2024-02-13T00:41:12.170409",
     "exception": false,
     "start_time": "2024-02-13T00:41:12.088044",
     "status": "completed"
    },
    "tags": []
   },
   "source": [
    "## Pass 4: Block on birthday and first two characters of name"
   ]
  },
  {
   "cell_type": "code",
   "execution_count": 82,
   "id": "9ea04745-1b41-4e13-8975-bb2e015c3fa2",
   "metadata": {
    "execution": {
     "iopub.execute_input": "2024-02-13T00:41:12.337493Z",
     "iopub.status.busy": "2024-02-13T00:41:12.337073Z",
     "iopub.status.idle": "2024-02-13T00:41:46.949920Z",
     "shell.execute_reply": "2024-02-13T00:41:46.948787Z"
    },
    "papermill": {
     "duration": 34.782695,
     "end_time": "2024-02-13T00:41:47.035348",
     "exception": false,
     "start_time": "2024-02-13T00:41:12.252653",
     "status": "completed"
    },
    "tags": []
   },
   "outputs": [
    {
     "name": "stdout",
     "output_type": "stream",
     "text": [
      "Running birthday and first two characters of name of namesearch\n",
      "Files to link are 1,814,001 and 168,954 records\n"
     ]
    },
    {
     "name": "stderr",
     "output_type": "stream",
     "text": [
      "24/02/13 00:41:18 WARN SimpleFunctionRegistry: The function jaro_sim replaced a previously registered function.\n",
      "24/02/13 00:41:18 WARN SimpleFunctionRegistry: The function jaro_winkler replaced a previously registered function.\n",
      "24/02/13 00:41:18 WARN SimpleFunctionRegistry: The function jaccard replaced a previously registered function.\n",
      "24/02/13 00:41:18 WARN SimpleFunctionRegistry: The function cosine_distance replaced a previously registered function.\n",
      "24/02/13 00:41:18 WARN SimpleFunctionRegistry: The function dmetaphone replaced a previously registered function.\n",
      "24/02/13 00:41:18 WARN SimpleFunctionRegistry: The function dmetaphonealt replaced a previously registered function.\n",
      "24/02/13 00:41:18 WARN SimpleFunctionRegistry: The function qgramtokeniser replaced a previously registered function.\n",
      "24/02/13 00:41:18 WARN SimpleFunctionRegistry: The function damerau_levenshtein replaced a previously registered function.\n",
      "                                                                                \r"
     ]
    },
    {
     "name": "stdout",
     "output_type": "stream",
     "text": [
      "Number of pairs that will be compared: 100,593\n"
     ]
    },
    {
     "name": "stderr",
     "output_type": "stream",
     "text": [
      "24/02/13 00:41:22 WARN DataSource: All paths were ignored:                      \n",
      "  file:/ihme/scratch/users/zmbc/person_linkage_case_study/person_linkage_case_study/ri/tmpCheckpoints/c28977bd-b2cf-4869-832b-cd0cdb995234/__splink__df_concat_with_tf_bc2fa1d77\n",
      "24/02/13 00:41:33 WARN DataSource: All paths were ignored:                      \n",
      "  file:/ihme/scratch/users/zmbc/person_linkage_case_study/person_linkage_case_study/ri/tmpCheckpoints/c28977bd-b2cf-4869-832b-cd0cdb995234/__splink__df_predict_1c89708ab\n"
     ]
    },
    {
     "data": {
      "text/html": [
       "\n",
       "        <iframe\n",
       "            width=\"100%\"\n",
       "            height=\"1200\"\n",
       "            src=\"./splink_temp/namesearch__birthday_and_first_two_characters_of_name.html\"\n",
       "            frameborder=\"0\"\n",
       "            allowfullscreen\n",
       "            \n",
       "        ></iframe>\n",
       "        "
      ],
      "text/plain": [
       "<IPython.lib.display.IFrame at 0x7f1493854070>"
      ]
     },
     "metadata": {},
     "output_type": "display_data"
    },
    {
     "name": "stderr",
     "output_type": "stream",
     "text": [
      "                                                                                \r"
     ]
    },
    {
     "name": "stdout",
     "output_type": "stream",
     "text": [
      "Imbalanced dataframe: too_few=False, too_many=True, too_large=False\n",
      "count     125.000000\n",
      "mean     4480.512000\n",
      "std      1281.613925\n",
      "min      1374.000000\n",
      "25%      3883.000000\n",
      "50%      4401.000000\n",
      "75%      5551.000000\n",
      "max      7700.000000\n",
      "dtype: float64\n",
      "Creating partitions of 100MB\n",
      "Found 1,293 matches; 15.25% still eligible to match\n"
     ]
    }
   ],
   "source": [
    "person_linkage_cascade.run_matching_pass(\n",
    "    pass_name=\"birthday and first two characters of name\",\n",
    "    blocking_columns=[\"day_of_birth\", \"month_of_birth\", \"first_name_2\", \"last_name_2\"],\n",
    ")"
   ]
  },
  {
   "cell_type": "markdown",
   "id": "368e0d7c-54d8-4ce5-9723-0650a2a58924",
   "metadata": {
    "papermill": {
     "duration": 0.08328,
     "end_time": "2024-02-13T00:41:47.206411",
     "exception": false,
     "start_time": "2024-02-13T00:41:47.123131",
     "status": "completed"
    },
    "tags": []
   },
   "source": [
    "## Post-process and confirm PIKs"
   ]
  },
  {
   "cell_type": "code",
   "execution_count": 83,
   "id": "76a7588d-85c3-4087-b6db-17dc31859cd7",
   "metadata": {
    "execution": {
     "iopub.execute_input": "2024-02-13T00:41:47.376022Z",
     "iopub.status.busy": "2024-02-13T00:41:47.375608Z",
     "iopub.status.idle": "2024-02-13T00:42:30.408546Z",
     "shell.execute_reply": "2024-02-13T00:42:30.406607Z"
    },
    "papermill": {
     "duration": 43.122404,
     "end_time": "2024-02-13T00:42:30.412098",
     "exception": false,
     "start_time": "2024-02-13T00:41:47.289694",
     "status": "completed"
    },
    "tags": []
   },
   "outputs": [
    {
     "name": "stdout",
     "output_type": "stream",
     "text": [
      "7,125 input records linked to deceased people, dropping links\n",
      "2 input records linked to multiple PIKs, dropping links\n",
      "Imbalanced dataframe: too_few=False, too_many=True, too_large=False\n",
      "count    1.880000e+02\n",
      "mean     9.615293e+05\n",
      "std      1.420648e+06\n",
      "min      2.753900e+04\n",
      "25%      8.483000e+04\n",
      "50%      1.909940e+05\n",
      "75%      9.873440e+05\n",
      "max      5.854200e+06\n",
      "dtype: float64\n",
      "Creating partitions of 100MB\n"
     ]
    }
   ],
   "source": [
    "person_linkage_cascade.confirm_piks()"
   ]
  },
  {
   "cell_type": "code",
   "execution_count": 84,
   "id": "7892c48c-c5d5-44c6-9439-2f59ebc053b5",
   "metadata": {
    "execution": {
     "iopub.execute_input": "2024-02-13T00:42:30.602515Z",
     "iopub.status.busy": "2024-02-13T00:42:30.602105Z",
     "iopub.status.idle": "2024-02-13T00:42:30.735675Z",
     "shell.execute_reply": "2024-02-13T00:42:30.734682Z"
    },
    "papermill": {
     "duration": 0.225367,
     "end_time": "2024-02-13T00:42:30.737803",
     "exception": false,
     "start_time": "2024-02-13T00:42:30.512436",
     "status": "completed"
    },
    "tags": []
   },
   "outputs": [
    {
     "data": {
      "text/plain": [
       "module_name  pass_name                                     \n",
       "geosearch    geokey                                            673411\n",
       "             some name and DOB information                     150808\n",
       "             house number and street name Soundex               56278\n",
       "namesearch   DOB and NYSIIS of name                             31271\n",
       "             DOB and initials                                    9762\n",
       "             birthday and first two characters of name           1244\n",
       "             year of birth and first two characters of name       678\n",
       "geosearch    geokey name switch                                     8\n",
       "dtype: int64"
      ]
     },
     "execution_count": 84,
     "metadata": {},
     "output_type": "execute_result"
    }
   ],
   "source": [
    "df_ops.compute(person_linkage_cascade.confirmed_piks.groupby([\"module_name\", \"pass_name\"]).size()).sort_values(ascending=False)"
   ]
  },
  {
   "cell_type": "markdown",
   "id": "5cf67411-44e7-4ae8-926c-9b1f56d4522f",
   "metadata": {
    "papermill": {
     "duration": 0.084556,
     "end_time": "2024-02-13T00:42:30.906377",
     "exception": false,
     "start_time": "2024-02-13T00:42:30.821821",
     "status": "completed"
    },
    "tags": []
   },
   "source": [
    "# DOBSearch\n",
    "\n",
    "Brown et al., p. 29:\n",
    "\n",
    "> ... the DOBSearch module, which blocks on\n",
    "month and day of birth, then compares name, sex, and DOB.\n",
    "\n",
    "Wagner and Layne, p. 15:\n",
    "\n",
    "> The DOBSearch module searches the reference files for the records that fail the\n",
    "> NameSearch, using name and date of birth data. The module matches against a re-split\n",
    "> version of the Numident Name Reference file, splitting the data based on month and day\n",
    "> of birth.\n",
    "> \n",
    "> There are typically four blocking passes in the DOBSearch module. The first pass\n",
    "> blocks records by first name in the incoming file to last name in the DOB Reference file\n",
    "> and last name in incoming file to first name in the DOB Reference file. This strategy\n",
    "> accounts for switching of first and last name in the incoming file.\n",
    "\n",
    "Again, I have used the exact passes listed for this module in Layne, Wagner, and Rothhaas.\n",
    "This is somewhat corroborated to be \"typical\" given that it is consistent with Wagner and Layne\n",
    "above, but both papers are old."
   ]
  },
  {
   "cell_type": "code",
   "execution_count": 85,
   "id": "38bbc963-25e2-4f17-9721-f855589dd28a",
   "metadata": {
    "execution": {
     "iopub.execute_input": "2024-02-13T00:42:31.083823Z",
     "iopub.status.busy": "2024-02-13T00:42:31.083325Z",
     "iopub.status.idle": "2024-02-13T00:42:36.518591Z",
     "shell.execute_reply": "2024-02-13T00:42:36.513013Z"
    },
    "papermill": {
     "duration": 5.528935,
     "end_time": "2024-02-13T00:42:36.521791",
     "exception": false,
     "start_time": "2024-02-13T00:42:30.992856",
     "status": "completed"
    },
    "tags": []
   },
   "outputs": [],
   "source": [
    "person_linkage_cascade.start_module(\n",
    "    name=\"dobsearch\",\n",
    "    reference_file=name_dob_reference_file,\n",
    "    reference_file_name=\"name_dob_reference_file\",\n",
    "    cut_columns=[\"day_of_birth\", \"month_of_birth\"],\n",
    "    matching_columns=[\n",
    "        \"first_name_15\",\n",
    "        \"last_name_12\",\n",
    "        \"middle_initial\",\n",
    "        \"day_of_birth\",\n",
    "        \"month_of_birth\",\n",
    "        \"year_of_birth\",\n",
    "    ],\n",
    ")"
   ]
  },
  {
   "cell_type": "markdown",
   "id": "1ec6013e-ea45-463d-8095-ef3e4c8abf20",
   "metadata": {
    "papermill": {
     "duration": 0.08818,
     "end_time": "2024-02-13T00:42:36.765152",
     "exception": false,
     "start_time": "2024-02-13T00:42:36.676972",
     "status": "completed"
    },
    "tags": []
   },
   "source": [
    "## Pass 1: Block on initials, switching first and last names"
   ]
  },
  {
   "cell_type": "code",
   "execution_count": 86,
   "id": "b9fa73d4-ee01-4a35-94f9-ab0eb6b09132",
   "metadata": {
    "execution": {
     "iopub.execute_input": "2024-02-13T00:42:36.936194Z",
     "iopub.status.busy": "2024-02-13T00:42:36.935193Z",
     "iopub.status.idle": "2024-02-13T00:43:04.725550Z",
     "shell.execute_reply": "2024-02-13T00:43:04.724765Z"
    },
    "papermill": {
     "duration": 27.877822,
     "end_time": "2024-02-13T00:43:04.727416",
     "exception": false,
     "start_time": "2024-02-13T00:42:36.849594",
     "status": "completed"
    },
    "tags": []
   },
   "outputs": [
    {
     "name": "stdout",
     "output_type": "stream",
     "text": [
      "Running initials name switch of dobsearch\n",
      "Files to link are 1,814,001 and 174,774 records\n"
     ]
    },
    {
     "name": "stderr",
     "output_type": "stream",
     "text": [
      "24/02/13 00:42:43 WARN SimpleFunctionRegistry: The function jaro_sim replaced a previously registered function.\n",
      "24/02/13 00:42:43 WARN SimpleFunctionRegistry: The function jaro_winkler replaced a previously registered function.\n",
      "24/02/13 00:42:43 WARN SimpleFunctionRegistry: The function jaccard replaced a previously registered function.\n",
      "24/02/13 00:42:43 WARN SimpleFunctionRegistry: The function cosine_distance replaced a previously registered function.\n",
      "24/02/13 00:42:43 WARN SimpleFunctionRegistry: The function dmetaphone replaced a previously registered function.\n",
      "24/02/13 00:42:43 WARN SimpleFunctionRegistry: The function dmetaphonealt replaced a previously registered function.\n",
      "24/02/13 00:42:43 WARN SimpleFunctionRegistry: The function qgramtokeniser replaced a previously registered function.\n",
      "24/02/13 00:42:43 WARN SimpleFunctionRegistry: The function damerau_levenshtein replaced a previously registered function.\n",
      "                                                                                \r"
     ]
    },
    {
     "name": "stdout",
     "output_type": "stream",
     "text": [
      "Number of pairs that will be compared: 1,507,896\n"
     ]
    },
    {
     "name": "stderr",
     "output_type": "stream",
     "text": [
      "24/02/13 00:42:47 WARN DataSource: All paths were ignored:\n",
      "  file:/ihme/scratch/users/zmbc/person_linkage_case_study/person_linkage_case_study/ri/tmpCheckpoints/c28977bd-b2cf-4869-832b-cd0cdb995234/__splink__df_concat_with_tf_9ab746e70\n",
      "24/02/13 00:42:56 WARN DataSource: All paths were ignored:                      \n",
      "  file:/ihme/scratch/users/zmbc/person_linkage_case_study/person_linkage_case_study/ri/tmpCheckpoints/c28977bd-b2cf-4869-832b-cd0cdb995234/__splink__df_predict_9ce08d9c4\n"
     ]
    },
    {
     "data": {
      "text/html": [
       "\n",
       "        <iframe\n",
       "            width=\"100%\"\n",
       "            height=\"1200\"\n",
       "            src=\"./splink_temp/dobsearch__initials_name_switch.html\"\n",
       "            frameborder=\"0\"\n",
       "            allowfullscreen\n",
       "            \n",
       "        ></iframe>\n",
       "        "
      ],
      "text/plain": [
       "<IPython.lib.display.IFrame at 0x7f16f2f52080>"
      ]
     },
     "metadata": {},
     "output_type": "display_data"
    },
    {
     "name": "stdout",
     "output_type": "stream",
     "text": [
      "Found 9 matches; 15.90% still eligible to match\n"
     ]
    }
   ],
   "source": [
    "person_linkage_cascade.run_matching_pass(\n",
    "    pass_name=\"initials name switch\",\n",
    "    blocking_columns=[\"first_name_1\", \"last_name_1\"],\n",
    "    input_data_transformation=switch_first_and_last_names,\n",
    ")"
   ]
  },
  {
   "cell_type": "markdown",
   "id": "8fa68a9b-6f38-4f7c-8246-65a3bd780f54",
   "metadata": {
    "papermill": {
     "duration": 0.085471,
     "end_time": "2024-02-13T00:43:04.904352",
     "exception": false,
     "start_time": "2024-02-13T00:43:04.818881",
     "status": "completed"
    },
    "tags": []
   },
   "source": [
    "## Pass 2: Block on first three characters of name"
   ]
  },
  {
   "cell_type": "code",
   "execution_count": 87,
   "id": "75d3d033-96ae-43bf-8f90-c73036c39d0f",
   "metadata": {
    "execution": {
     "iopub.execute_input": "2024-02-13T00:43:05.086602Z",
     "iopub.status.busy": "2024-02-13T00:43:05.086142Z",
     "iopub.status.idle": "2024-02-13T00:43:37.290866Z",
     "shell.execute_reply": "2024-02-13T00:43:37.285234Z"
    },
    "papermill": {
     "duration": 32.386599,
     "end_time": "2024-02-13T00:43:37.379023",
     "exception": false,
     "start_time": "2024-02-13T00:43:04.992424",
     "status": "completed"
    },
    "tags": []
   },
   "outputs": [
    {
     "name": "stdout",
     "output_type": "stream",
     "text": [
      "Running first three characters of name of dobsearch\n",
      "Files to link are 1,814,001 and 174,765 records\n"
     ]
    },
    {
     "name": "stderr",
     "output_type": "stream",
     "text": [
      "24/02/13 00:43:10 WARN SimpleFunctionRegistry: The function jaro_sim replaced a previously registered function.\n",
      "24/02/13 00:43:10 WARN SimpleFunctionRegistry: The function jaro_winkler replaced a previously registered function.\n",
      "24/02/13 00:43:10 WARN SimpleFunctionRegistry: The function jaccard replaced a previously registered function.\n",
      "24/02/13 00:43:10 WARN SimpleFunctionRegistry: The function cosine_distance replaced a previously registered function.\n",
      "24/02/13 00:43:10 WARN SimpleFunctionRegistry: The function dmetaphone replaced a previously registered function.\n",
      "24/02/13 00:43:10 WARN SimpleFunctionRegistry: The function dmetaphonealt replaced a previously registered function.\n",
      "24/02/13 00:43:10 WARN SimpleFunctionRegistry: The function qgramtokeniser replaced a previously registered function.\n",
      "24/02/13 00:43:10 WARN SimpleFunctionRegistry: The function damerau_levenshtein replaced a previously registered function.\n"
     ]
    },
    {
     "name": "stdout",
     "output_type": "stream",
     "text": [
      "Number of pairs that will be compared: 17,862\n"
     ]
    },
    {
     "name": "stderr",
     "output_type": "stream",
     "text": [
      "24/02/13 00:43:13 WARN DataSource: All paths were ignored:                      \n",
      "  file:/ihme/scratch/users/zmbc/person_linkage_case_study/person_linkage_case_study/ri/tmpCheckpoints/c28977bd-b2cf-4869-832b-cd0cdb995234/__splink__df_concat_with_tf_75eebf269\n",
      "24/02/13 00:43:24 WARN DataSource: All paths were ignored:                      \n",
      "  file:/ihme/scratch/users/zmbc/person_linkage_case_study/person_linkage_case_study/ri/tmpCheckpoints/c28977bd-b2cf-4869-832b-cd0cdb995234/__splink__df_predict_57e07d71c\n"
     ]
    },
    {
     "data": {
      "text/html": [
       "\n",
       "        <iframe\n",
       "            width=\"100%\"\n",
       "            height=\"1200\"\n",
       "            src=\"./splink_temp/dobsearch__first_three_characters_of_name.html\"\n",
       "            frameborder=\"0\"\n",
       "            allowfullscreen\n",
       "            \n",
       "        ></iframe>\n",
       "        "
      ],
      "text/plain": [
       "<IPython.lib.display.IFrame at 0x7f149a807dc0>"
      ]
     },
     "metadata": {},
     "output_type": "display_data"
    },
    {
     "name": "stderr",
     "output_type": "stream",
     "text": [
      "                                                                                \r"
     ]
    },
    {
     "name": "stdout",
     "output_type": "stream",
     "text": [
      "Imbalanced dataframe: too_few=False, too_many=True, too_large=False\n",
      "count      125.000000\n",
      "mean     20707.568000\n",
      "std       2307.125213\n",
      "min      15526.000000\n",
      "25%      19064.000000\n",
      "50%      20635.000000\n",
      "75%      22158.000000\n",
      "max      26059.000000\n",
      "dtype: float64\n",
      "Creating partitions of 100MB\n",
      "Found 6,664 matches; 15.29% still eligible to match\n"
     ]
    }
   ],
   "source": [
    "person_linkage_cascade.run_matching_pass(\n",
    "    pass_name=\"first three characters of name\",\n",
    "    blocking_columns=[\"first_name_3\", \"last_name_3\"],\n",
    ")"
   ]
  },
  {
   "cell_type": "markdown",
   "id": "10d06a88-895a-469b-a830-57c46c58ae45",
   "metadata": {
    "papermill": {
     "duration": 0.092341,
     "end_time": "2024-02-13T00:43:37.558633",
     "exception": false,
     "start_time": "2024-02-13T00:43:37.466292",
     "status": "completed"
    },
    "tags": []
   },
   "source": [
    "## Pass 3: Block on reverse Soundex of name"
   ]
  },
  {
   "cell_type": "code",
   "execution_count": 88,
   "id": "a05e24ef-2ae2-4ca7-8d92-05630a1d61d1",
   "metadata": {
    "execution": {
     "iopub.execute_input": "2024-02-13T00:43:37.738935Z",
     "iopub.status.busy": "2024-02-13T00:43:37.738528Z",
     "iopub.status.idle": "2024-02-13T00:44:10.345391Z",
     "shell.execute_reply": "2024-02-13T00:44:10.340489Z"
    },
    "papermill": {
     "duration": 32.781458,
     "end_time": "2024-02-13T00:44:10.432175",
     "exception": false,
     "start_time": "2024-02-13T00:43:37.650717",
     "status": "completed"
    },
    "tags": []
   },
   "outputs": [
    {
     "name": "stdout",
     "output_type": "stream",
     "text": [
      "Running reverse Soundex of name of dobsearch\n",
      "Files to link are 1,814,001 and 168,104 records\n"
     ]
    },
    {
     "name": "stderr",
     "output_type": "stream",
     "text": [
      "24/02/13 00:43:43 WARN SimpleFunctionRegistry: The function jaro_sim replaced a previously registered function.\n",
      "24/02/13 00:43:43 WARN SimpleFunctionRegistry: The function jaro_winkler replaced a previously registered function.\n",
      "24/02/13 00:43:43 WARN SimpleFunctionRegistry: The function jaccard replaced a previously registered function.\n",
      "24/02/13 00:43:43 WARN SimpleFunctionRegistry: The function cosine_distance replaced a previously registered function.\n",
      "24/02/13 00:43:43 WARN SimpleFunctionRegistry: The function dmetaphone replaced a previously registered function.\n",
      "24/02/13 00:43:43 WARN SimpleFunctionRegistry: The function dmetaphonealt replaced a previously registered function.\n",
      "24/02/13 00:43:43 WARN SimpleFunctionRegistry: The function qgramtokeniser replaced a previously registered function.\n",
      "24/02/13 00:43:43 WARN SimpleFunctionRegistry: The function damerau_levenshtein replaced a previously registered function.\n"
     ]
    },
    {
     "name": "stdout",
     "output_type": "stream",
     "text": [
      "Number of pairs that will be compared: 10,849\n"
     ]
    },
    {
     "name": "stderr",
     "output_type": "stream",
     "text": [
      "24/02/13 00:43:46 WARN DataSource: All paths were ignored:                      \n",
      "  file:/ihme/scratch/users/zmbc/person_linkage_case_study/person_linkage_case_study/ri/tmpCheckpoints/c28977bd-b2cf-4869-832b-cd0cdb995234/__splink__df_concat_with_tf_2b9afe81d\n",
      "24/02/13 00:43:57 WARN DataSource: All paths were ignored:                      \n",
      "  file:/ihme/scratch/users/zmbc/person_linkage_case_study/person_linkage_case_study/ri/tmpCheckpoints/c28977bd-b2cf-4869-832b-cd0cdb995234/__splink__df_predict_d74969d84\n"
     ]
    },
    {
     "data": {
      "text/html": [
       "\n",
       "        <iframe\n",
       "            width=\"100%\"\n",
       "            height=\"1200\"\n",
       "            src=\"./splink_temp/dobsearch__reverse_Soundex_of_name.html\"\n",
       "            frameborder=\"0\"\n",
       "            allowfullscreen\n",
       "            \n",
       "        ></iframe>\n",
       "        "
      ],
      "text/plain": [
       "<IPython.lib.display.IFrame at 0x7f16f353fa90>"
      ]
     },
     "metadata": {},
     "output_type": "display_data"
    },
    {
     "name": "stderr",
     "output_type": "stream",
     "text": [
      "                                                                                \r"
     ]
    },
    {
     "name": "stdout",
     "output_type": "stream",
     "text": [
      "Imbalanced dataframe: too_few=False, too_many=True, too_large=False\n",
      "count      125.000000\n",
      "mean      6286.384000\n",
      "std       1349.942005\n",
      "min       3260.000000\n",
      "25%       5252.000000\n",
      "50%       6380.000000\n",
      "75%       7156.000000\n",
      "max      10702.000000\n",
      "dtype: float64\n",
      "Creating partitions of 100MB\n",
      "Found 1,966 matches; 15.11% still eligible to match\n"
     ]
    }
   ],
   "source": [
    "person_linkage_cascade.run_matching_pass(\n",
    "    pass_name=\"reverse Soundex of name\",\n",
    "    blocking_columns=[\"first_name_reverse_soundex\", \"last_name_reverse_soundex\"],\n",
    ")"
   ]
  },
  {
   "cell_type": "markdown",
   "id": "f5a4da3d-c9c7-4c50-b409-0bf76920828f",
   "metadata": {
    "papermill": {
     "duration": 0.090963,
     "end_time": "2024-02-13T00:44:10.613552",
     "exception": false,
     "start_time": "2024-02-13T00:44:10.522589",
     "status": "completed"
    },
    "tags": []
   },
   "source": [
    "## Pass 4: Block on first two characters of first name and year of birth"
   ]
  },
  {
   "cell_type": "code",
   "execution_count": 89,
   "id": "19e39510-cabb-46a6-99f8-e1969a8eb364",
   "metadata": {
    "execution": {
     "iopub.execute_input": "2024-02-13T00:44:10.790485Z",
     "iopub.status.busy": "2024-02-13T00:44:10.789847Z",
     "iopub.status.idle": "2024-02-13T00:44:45.513673Z",
     "shell.execute_reply": "2024-02-13T00:44:45.512883Z"
    },
    "papermill": {
     "duration": 34.8137,
     "end_time": "2024-02-13T00:44:45.515573",
     "exception": false,
     "start_time": "2024-02-13T00:44:10.701873",
     "status": "completed"
    },
    "tags": []
   },
   "outputs": [
    {
     "name": "stdout",
     "output_type": "stream",
     "text": [
      "Running first two characters of first name and year of birth of dobsearch\n",
      "Files to link are 1,814,001 and 166,138 records\n"
     ]
    },
    {
     "name": "stderr",
     "output_type": "stream",
     "text": [
      "24/02/13 00:44:16 WARN SimpleFunctionRegistry: The function jaro_sim replaced a previously registered function.\n",
      "24/02/13 00:44:16 WARN SimpleFunctionRegistry: The function jaro_winkler replaced a previously registered function.\n",
      "24/02/13 00:44:16 WARN SimpleFunctionRegistry: The function jaccard replaced a previously registered function.\n",
      "24/02/13 00:44:16 WARN SimpleFunctionRegistry: The function cosine_distance replaced a previously registered function.\n",
      "24/02/13 00:44:16 WARN SimpleFunctionRegistry: The function dmetaphone replaced a previously registered function.\n",
      "24/02/13 00:44:16 WARN SimpleFunctionRegistry: The function dmetaphonealt replaced a previously registered function.\n",
      "24/02/13 00:44:16 WARN SimpleFunctionRegistry: The function qgramtokeniser replaced a previously registered function.\n",
      "24/02/13 00:44:16 WARN SimpleFunctionRegistry: The function damerau_levenshtein replaced a previously registered function.\n"
     ]
    },
    {
     "name": "stdout",
     "output_type": "stream",
     "text": [
      "Number of pairs that will be compared: 156,076\n"
     ]
    },
    {
     "name": "stderr",
     "output_type": "stream",
     "text": [
      "24/02/13 00:44:19 WARN DataSource: All paths were ignored:                      \n",
      "  file:/ihme/scratch/users/zmbc/person_linkage_case_study/person_linkage_case_study/ri/tmpCheckpoints/c28977bd-b2cf-4869-832b-cd0cdb995234/__splink__df_concat_with_tf_1ee1703e3\n",
      "24/02/13 00:44:31 WARN DataSource: All paths were ignored:                      \n",
      "  file:/ihme/scratch/users/zmbc/person_linkage_case_study/person_linkage_case_study/ri/tmpCheckpoints/c28977bd-b2cf-4869-832b-cd0cdb995234/__splink__df_predict_fa052ca26\n"
     ]
    },
    {
     "data": {
      "text/html": [
       "\n",
       "        <iframe\n",
       "            width=\"100%\"\n",
       "            height=\"1200\"\n",
       "            src=\"./splink_temp/dobsearch__first_two_characters_of_first_name_and_year_of_birth.html\"\n",
       "            frameborder=\"0\"\n",
       "            allowfullscreen\n",
       "            \n",
       "        ></iframe>\n",
       "        "
      ],
      "text/plain": [
       "<IPython.lib.display.IFrame at 0x7f16f2f95360>"
      ]
     },
     "metadata": {},
     "output_type": "display_data"
    },
    {
     "name": "stderr",
     "output_type": "stream",
     "text": [
      "                                                                                \r"
     ]
    },
    {
     "name": "stdout",
     "output_type": "stream",
     "text": [
      "Imbalanced dataframe: too_few=False, too_many=True, too_large=False\n",
      "count     125.000000\n",
      "mean     4917.168000\n",
      "std      1308.525381\n",
      "min      2294.000000\n",
      "25%      4093.000000\n",
      "50%      4839.000000\n",
      "75%      5578.000000\n",
      "max      8481.000000\n",
      "dtype: float64\n",
      "Creating partitions of 100MB\n",
      "Imbalanced dataframe: too_few=False, too_many=True, too_large=False\n",
      "count       116.000000\n",
      "mean      52728.206897\n",
      "std       39412.316154\n",
      "min         579.000000\n",
      "25%       27739.500000\n",
      "50%       32286.500000\n",
      "75%      103602.500000\n",
      "max      128442.000000\n",
      "dtype: float64\n",
      "Creating partitions of 100MB\n",
      "Found 1,655 matches; 14.96% still eligible to match\n"
     ]
    }
   ],
   "source": [
    "person_linkage_cascade.run_matching_pass(\n",
    "    pass_name=\"first two characters of first name and year of birth\",\n",
    "    blocking_columns=[\"first_name_2\", \"year_of_birth\"],\n",
    ")"
   ]
  },
  {
   "cell_type": "markdown",
   "id": "466e3db4-998e-40cd-9e33-ef6cf6e99b9b",
   "metadata": {
    "papermill": {
     "duration": 0.088986,
     "end_time": "2024-02-13T00:44:45.702388",
     "exception": false,
     "start_time": "2024-02-13T00:44:45.613402",
     "status": "completed"
    },
    "tags": []
   },
   "source": [
    "## Post-process and confirm PIKs"
   ]
  },
  {
   "cell_type": "code",
   "execution_count": 90,
   "id": "9581f811-9d21-449d-8682-97eb0ef0e493",
   "metadata": {
    "execution": {
     "iopub.execute_input": "2024-02-13T00:44:45.882331Z",
     "iopub.status.busy": "2024-02-13T00:44:45.881926Z",
     "iopub.status.idle": "2024-02-13T00:45:22.544266Z",
     "shell.execute_reply": "2024-02-13T00:45:22.541939Z"
    },
    "papermill": {
     "duration": 36.756966,
     "end_time": "2024-02-13T00:45:22.548652",
     "exception": false,
     "start_time": "2024-02-13T00:44:45.791686",
     "status": "completed"
    },
    "tags": []
   },
   "outputs": [
    {
     "name": "stdout",
     "output_type": "stream",
     "text": [
      "7,096 input records linked to deceased people, dropping links\n",
      "1 input records linked to multiple PIKs, dropping links\n"
     ]
    }
   ],
   "source": [
    "person_linkage_cascade.confirm_piks()"
   ]
  },
  {
   "cell_type": "code",
   "execution_count": 91,
   "id": "853bb87d-ac28-41b1-a661-63d38169615b",
   "metadata": {
    "execution": {
     "iopub.execute_input": "2024-02-13T00:45:22.746930Z",
     "iopub.status.busy": "2024-02-13T00:45:22.746522Z",
     "iopub.status.idle": "2024-02-13T00:45:23.013705Z",
     "shell.execute_reply": "2024-02-13T00:45:23.012776Z"
    },
    "papermill": {
     "duration": 0.359432,
     "end_time": "2024-02-13T00:45:23.015616",
     "exception": false,
     "start_time": "2024-02-13T00:45:22.656184",
     "status": "completed"
    },
    "tags": []
   },
   "outputs": [
    {
     "data": {
      "text/plain": [
       "module_name  pass_name                                           \n",
       "geosearch    geokey                                                  673411\n",
       "             some name and DOB information                           150808\n",
       "             house number and street name Soundex                     56278\n",
       "namesearch   DOB and NYSIIS of name                                   31271\n",
       "             DOB and initials                                          9762\n",
       "dobsearch    reverse Soundex of name                                   1743\n",
       "             first two characters of first name and year of birth      1446\n",
       "namesearch   birthday and first two characters of name                 1244\n",
       "             year of birth and first two characters of name             678\n",
       "geosearch    geokey name switch                                           8\n",
       "dobsearch    initials name switch                                         2\n",
       "             first three characters of name                               1\n",
       "dtype: int64"
      ]
     },
     "execution_count": 91,
     "metadata": {},
     "output_type": "execute_result"
    }
   ],
   "source": [
    "df_ops.compute(person_linkage_cascade.confirmed_piks.groupby([\"module_name\", \"pass_name\"]).size()).sort_values(ascending=False)"
   ]
  },
  {
   "cell_type": "markdown",
   "id": "58ab65b7-a7ff-46e9-bc54-397bdeb8f6e5",
   "metadata": {
    "papermill": {
     "duration": 0.089559,
     "end_time": "2024-02-13T00:45:23.200392",
     "exception": false,
     "start_time": "2024-02-13T00:45:23.110833",
     "status": "completed"
    },
    "tags": []
   },
   "source": [
    "# HHCompSearch\n",
    "\n",
    "Brown et al., p. 29:\n",
    "\n",
    "> ... the Household Composition search module, which requires at least one\n",
    "> person in the household of the unmatched person to have received a PIK.\n",
    "> The full set of unmatched records with historical name, DOB, sex, and address data from\n",
    "> households whose members with PIKs were observed in the past is created. The module\n",
    "> attempts to find a match to this universe based on name and DOB information.\n",
    "\n",
    "Wagner and Layne, p. 16:\n",
    "\n",
    "> For persons with a PIK in the eligible household, all of the geokeys from the PVS\n",
    "> GeoBase are extracted for each of these PIKs. The geokeys are unduplicated and all\n",
    "> persons are selected from the PVS GeoBase with these geokeys. Next, the program\n",
    "> removes all household members with a PIK, leaving the unPIKed persons in the\n",
    "> household. This becomes the reference file to search against. There are typically two\n",
    "> passes in this module. Records are blocked by MAFID, name, date of birth, and gender.\n",
    "\n",
    "I don't know of any list of passes in this module.\n",
    "Blocking on \"MAFID, name, date of birth, and gender\" seems like a lot for only\n",
    "two passes, especially given that we are only matching people within each eligible\n",
    "household.\n",
    "I'm actually a bit surprised there is any blocking at all, given how restrictive this\n",
    "module inherently is.\n",
    "I've split the difference here by creating two passes that are very permissive."
   ]
  },
  {
   "cell_type": "markdown",
   "id": "cdd285ed-2445-42d2-8942-3bb9d241dd16",
   "metadata": {
    "papermill": {
     "duration": 0.090449,
     "end_time": "2024-02-13T00:45:23.431459",
     "exception": false,
     "start_time": "2024-02-13T00:45:23.341010",
     "status": "completed"
    },
    "tags": []
   },
   "source": [
    "## Create the reference file"
   ]
  },
  {
   "cell_type": "code",
   "execution_count": 92,
   "id": "9793c25f-96a7-406f-b53b-ac15cc804b55",
   "metadata": {
    "execution": {
     "iopub.execute_input": "2024-02-13T00:45:23.620167Z",
     "iopub.status.busy": "2024-02-13T00:45:23.619757Z",
     "iopub.status.idle": "2024-02-13T00:45:25.147883Z",
     "shell.execute_reply": "2024-02-13T00:45:25.146483Z"
    },
    "papermill": {
     "duration": 1.626464,
     "end_time": "2024-02-13T00:45:25.150919",
     "exception": false,
     "start_time": "2024-02-13T00:45:23.524455",
     "status": "completed"
    },
    "tags": []
   },
   "outputs": [],
   "source": [
    "# TODO: As of now in pseudopeople, our only indicator in the Census data of household\n",
    "# is noiseless (ground truth).\n",
    "# Instead, we use geokey to approximate the household clustering information that would be\n",
    "# present in the real dataset.\n",
    "# We should switch to using a (presumably low-noise) household indicator when we have that.\n",
    "# NOTE: We use geokey_for_blocking instead of geokey to intentionally exclude the very\n",
    "# large households currently created by GQ in pseudopeople.\n",
    "pseudo_household_id = (\n",
    "    df_ops.drop_duplicates(census_2030[census_2030.geokey_for_blocking.notnull()][[\"geokey_for_blocking\"]])\n",
    "        .pipe(df_ops.add_unique_id_col, col_name=\"pseudo_household_id\")\n",
    ")"
   ]
  },
  {
   "cell_type": "code",
   "execution_count": 93,
   "id": "fb318684-15c2-4e12-857a-39cd92df6d03",
   "metadata": {
    "execution": {
     "iopub.execute_input": "2024-02-13T00:45:25.333221Z",
     "iopub.status.busy": "2024-02-13T00:45:25.332637Z",
     "iopub.status.idle": "2024-02-13T00:45:27.542043Z",
     "shell.execute_reply": "2024-02-13T00:45:27.540987Z"
    },
    "papermill": {
     "duration": 2.303728,
     "end_time": "2024-02-13T00:45:27.545262",
     "exception": false,
     "start_time": "2024-02-13T00:45:25.241534",
     "status": "completed"
    },
    "tags": []
   },
   "outputs": [],
   "source": [
    "census_2030 = df_ops.persist(census_2030.merge(pseudo_household_id, on=\"geokey_for_blocking\", how=\"left\"))"
   ]
  },
  {
   "cell_type": "code",
   "execution_count": 94,
   "id": "cb5088f0-7139-44a0-b701-6b50b103dbcf",
   "metadata": {
    "execution": {
     "iopub.execute_input": "2024-02-13T00:45:27.727469Z",
     "iopub.status.busy": "2024-02-13T00:45:27.727041Z",
     "iopub.status.idle": "2024-02-13T00:45:30.731747Z",
     "shell.execute_reply": "2024-02-13T00:45:30.730841Z"
    },
    "papermill": {
     "duration": 3.097046,
     "end_time": "2024-02-13T00:45:30.733851",
     "exception": false,
     "start_time": "2024-02-13T00:45:27.636805",
     "status": "completed"
    },
    "tags": []
   },
   "outputs": [],
   "source": [
    "piks_with_household = df_ops.persist(\n",
    "    census_2030[[\"pseudo_household_id\", \"record_id_raw_input_file\"]]\n",
    "        .merge(person_linkage_cascade.confirmed_piks, on=\"record_id_raw_input_file\", how=\"left\")\n",
    ")"
   ]
  },
  {
   "cell_type": "code",
   "execution_count": 95,
   "id": "b97d11a0-6ecd-4a41-9b94-606bbc45831a",
   "metadata": {
    "execution": {
     "iopub.execute_input": "2024-02-13T00:45:30.918097Z",
     "iopub.status.busy": "2024-02-13T00:45:30.917682Z",
     "iopub.status.idle": "2024-02-13T00:45:31.410846Z",
     "shell.execute_reply": "2024-02-13T00:45:31.407286Z"
    },
    "papermill": {
     "duration": 0.586925,
     "end_time": "2024-02-13T00:45:31.412853",
     "exception": false,
     "start_time": "2024-02-13T00:45:30.825928",
     "status": "completed"
    },
    "tags": []
   },
   "outputs": [],
   "source": [
    "piked_by_household = df_ops.groupby_agg_small_groups(\n",
    "    piks_with_household,\n",
    "    by=\"pseudo_household_id\",\n",
    "    agg_func=lambda x: x.pik.agg(['count', 'size'])\n",
    ").reset_index().rename(columns={'count': 'piked'}).assign(unpiked=lambda x: x['size'] - x['piked'])"
   ]
  },
  {
   "cell_type": "code",
   "execution_count": 96,
   "id": "02350ff8-890c-4d4f-a7c4-dd666e0af152",
   "metadata": {
    "execution": {
     "iopub.execute_input": "2024-02-13T00:45:31.599502Z",
     "iopub.status.busy": "2024-02-13T00:45:31.599085Z",
     "iopub.status.idle": "2024-02-13T00:45:31.619516Z",
     "shell.execute_reply": "2024-02-13T00:45:31.618530Z"
    },
    "papermill": {
     "duration": 0.117203,
     "end_time": "2024-02-13T00:45:31.621355",
     "exception": false,
     "start_time": "2024-02-13T00:45:31.504152",
     "status": "completed"
    },
    "tags": []
   },
   "outputs": [
    {
     "data": {
      "text/html": [
       "<div><strong>Dask DataFrame Structure:</strong></div>\n",
       "<div>\n",
       "<style scoped>\n",
       "    .dataframe tbody tr th:only-of-type {\n",
       "        vertical-align: middle;\n",
       "    }\n",
       "\n",
       "    .dataframe tbody tr th {\n",
       "        vertical-align: top;\n",
       "    }\n",
       "\n",
       "    .dataframe thead th {\n",
       "        text-align: right;\n",
       "    }\n",
       "</style>\n",
       "<table border=\"1\" class=\"dataframe\">\n",
       "  <thead>\n",
       "    <tr style=\"text-align: right;\">\n",
       "      <th></th>\n",
       "      <th>pseudo_household_id</th>\n",
       "    </tr>\n",
       "    <tr>\n",
       "      <th>npartitions=96</th>\n",
       "      <th></th>\n",
       "    </tr>\n",
       "  </thead>\n",
       "  <tbody>\n",
       "    <tr>\n",
       "      <th></th>\n",
       "      <td>large_string[pyarrow]</td>\n",
       "    </tr>\n",
       "    <tr>\n",
       "      <th></th>\n",
       "      <td>...</td>\n",
       "    </tr>\n",
       "    <tr>\n",
       "      <th>...</th>\n",
       "      <td>...</td>\n",
       "    </tr>\n",
       "    <tr>\n",
       "      <th></th>\n",
       "      <td>...</td>\n",
       "    </tr>\n",
       "    <tr>\n",
       "      <th></th>\n",
       "      <td>...</td>\n",
       "    </tr>\n",
       "  </tbody>\n",
       "</table>\n",
       "</div>\n",
       "<div>Dask Name: getitem, 24 graph layers</div>"
      ],
      "text/plain": [
       "Dask DataFrame Structure:\n",
       "                  pseudo_household_id\n",
       "npartitions=96                       \n",
       "                large_string[pyarrow]\n",
       "                                  ...\n",
       "...                               ...\n",
       "                                  ...\n",
       "                                  ...\n",
       "Dask Name: getitem, 24 graph layers"
      ]
     },
     "execution_count": 96,
     "metadata": {},
     "output_type": "execute_result"
    }
   ],
   "source": [
    "eligible_households = piked_by_household[(piked_by_household.piked > 0) & (piked_by_household.unpiked > 0)][['pseudo_household_id']]\n",
    "eligible_households"
   ]
  },
  {
   "cell_type": "code",
   "execution_count": 97,
   "id": "a671a0b0-8713-4e29-8db4-bd3a40162c10",
   "metadata": {
    "execution": {
     "iopub.execute_input": "2024-02-13T00:45:31.801876Z",
     "iopub.status.busy": "2024-02-13T00:45:31.801299Z",
     "iopub.status.idle": "2024-02-13T00:45:42.304084Z",
     "shell.execute_reply": "2024-02-13T00:45:42.300596Z"
    },
    "papermill": {
     "duration": 10.59662,
     "end_time": "2024-02-13T00:45:42.307321",
     "exception": false,
     "start_time": "2024-02-13T00:45:31.710701",
     "status": "completed"
    },
    "tags": []
   },
   "outputs": [
    {
     "data": {
      "text/html": [
       "<div><strong>Dask DataFrame Structure:</strong></div>\n",
       "<div>\n",
       "<style scoped>\n",
       "    .dataframe tbody tr th:only-of-type {\n",
       "        vertical-align: middle;\n",
       "    }\n",
       "\n",
       "    .dataframe tbody tr th {\n",
       "        vertical-align: top;\n",
       "    }\n",
       "\n",
       "    .dataframe thead th {\n",
       "        text-align: right;\n",
       "    }\n",
       "</style>\n",
       "<table border=\"1\" class=\"dataframe\">\n",
       "  <thead>\n",
       "    <tr style=\"text-align: right;\">\n",
       "      <th></th>\n",
       "      <th>pseudo_household_id</th>\n",
       "      <th>pik</th>\n",
       "    </tr>\n",
       "    <tr>\n",
       "      <th>npartitions=96</th>\n",
       "      <th></th>\n",
       "      <th></th>\n",
       "    </tr>\n",
       "  </thead>\n",
       "  <tbody>\n",
       "    <tr>\n",
       "      <th></th>\n",
       "      <td>large_string[pyarrow]</td>\n",
       "      <td>large_string[pyarrow]</td>\n",
       "    </tr>\n",
       "    <tr>\n",
       "      <th></th>\n",
       "      <td>...</td>\n",
       "      <td>...</td>\n",
       "    </tr>\n",
       "    <tr>\n",
       "      <th>...</th>\n",
       "      <td>...</td>\n",
       "      <td>...</td>\n",
       "    </tr>\n",
       "    <tr>\n",
       "      <th></th>\n",
       "      <td>...</td>\n",
       "      <td>...</td>\n",
       "    </tr>\n",
       "    <tr>\n",
       "      <th></th>\n",
       "      <td>...</td>\n",
       "      <td>...</td>\n",
       "    </tr>\n",
       "  </tbody>\n",
       "</table>\n",
       "</div>\n",
       "<div>Dask Name: from-delayed, 2 graph layers</div>"
      ],
      "text/plain": [
       "Dask DataFrame Structure:\n",
       "                  pseudo_household_id                    pik\n",
       "npartitions=96                                              \n",
       "                large_string[pyarrow]  large_string[pyarrow]\n",
       "                                  ...                    ...\n",
       "...                               ...                    ...\n",
       "                                  ...                    ...\n",
       "                                  ...                    ...\n",
       "Dask Name: from-delayed, 2 graph layers"
      ]
     },
     "execution_count": 97,
     "metadata": {},
     "output_type": "execute_result"
    }
   ],
   "source": [
    "piks_by_eligible_household = df_ops.drop_duplicates(\n",
    "    eligible_households\n",
    "        .merge(piks_with_household[[\"pseudo_household_id\", \"pik\"]].dropna(subset=\"pik\"), on=\"pseudo_household_id\", how=\"inner\")\n",
    ")\n",
    "piks_by_eligible_household"
   ]
  },
  {
   "cell_type": "code",
   "execution_count": 98,
   "id": "0386f872-93a4-48b1-88bd-82db34a6df76",
   "metadata": {
    "execution": {
     "iopub.execute_input": "2024-02-13T00:45:42.493457Z",
     "iopub.status.busy": "2024-02-13T00:45:42.493050Z",
     "iopub.status.idle": "2024-02-13T00:45:51.800972Z",
     "shell.execute_reply": "2024-02-13T00:45:51.798284Z"
    },
    "papermill": {
     "duration": 9.403078,
     "end_time": "2024-02-13T00:45:51.803829",
     "exception": false,
     "start_time": "2024-02-13T00:45:42.400751",
     "status": "completed"
    },
    "tags": []
   },
   "outputs": [
    {
     "data": {
      "text/html": [
       "<div><strong>Dask DataFrame Structure:</strong></div>\n",
       "<div>\n",
       "<style scoped>\n",
       "    .dataframe tbody tr th:only-of-type {\n",
       "        vertical-align: middle;\n",
       "    }\n",
       "\n",
       "    .dataframe tbody tr th {\n",
       "        vertical-align: top;\n",
       "    }\n",
       "\n",
       "    .dataframe thead th {\n",
       "        text-align: right;\n",
       "    }\n",
       "</style>\n",
       "<table border=\"1\" class=\"dataframe\">\n",
       "  <thead>\n",
       "    <tr style=\"text-align: right;\">\n",
       "      <th></th>\n",
       "      <th>pseudo_household_id</th>\n",
       "      <th>geokey_for_blocking</th>\n",
       "    </tr>\n",
       "    <tr>\n",
       "      <th>npartitions=96</th>\n",
       "      <th></th>\n",
       "      <th></th>\n",
       "    </tr>\n",
       "  </thead>\n",
       "  <tbody>\n",
       "    <tr>\n",
       "      <th></th>\n",
       "      <td>large_string[pyarrow]</td>\n",
       "      <td>large_string[pyarrow]</td>\n",
       "    </tr>\n",
       "    <tr>\n",
       "      <th></th>\n",
       "      <td>...</td>\n",
       "      <td>...</td>\n",
       "    </tr>\n",
       "    <tr>\n",
       "      <th>...</th>\n",
       "      <td>...</td>\n",
       "      <td>...</td>\n",
       "    </tr>\n",
       "    <tr>\n",
       "      <th></th>\n",
       "      <td>...</td>\n",
       "      <td>...</td>\n",
       "    </tr>\n",
       "    <tr>\n",
       "      <th></th>\n",
       "      <td>...</td>\n",
       "      <td>...</td>\n",
       "    </tr>\n",
       "  </tbody>\n",
       "</table>\n",
       "</div>\n",
       "<div>Dask Name: from-delayed, 2 graph layers</div>"
      ],
      "text/plain": [
       "Dask DataFrame Structure:\n",
       "                  pseudo_household_id    geokey_for_blocking\n",
       "npartitions=96                                              \n",
       "                large_string[pyarrow]  large_string[pyarrow]\n",
       "                                  ...                    ...\n",
       "...                               ...                    ...\n",
       "                                  ...                    ...\n",
       "                                  ...                    ...\n",
       "Dask Name: from-delayed, 2 graph layers"
      ]
     },
     "execution_count": 98,
     "metadata": {},
     "output_type": "execute_result"
    }
   ],
   "source": [
    "geokeys_by_eligible_household = (\n",
    "    piks_by_eligible_household\n",
    "        .merge(df_ops.drop_duplicates(geobase_reference_file[[\"pik\", \"geokey_for_blocking\"]].dropna(subset=\"geokey_for_blocking\")), on=\"pik\")\n",
    "        .drop(columns=[\"pik\"])\n",
    "        .pipe(df_ops.drop_duplicates)\n",
    ")\n",
    "geokeys_by_eligible_household"
   ]
  },
  {
   "cell_type": "code",
   "execution_count": 99,
   "id": "2034b8a2-a959-41a6-bce5-b31b3f7bad62",
   "metadata": {
    "execution": {
     "iopub.execute_input": "2024-02-13T00:45:51.989556Z",
     "iopub.status.busy": "2024-02-13T00:45:51.989141Z",
     "iopub.status.idle": "2024-02-13T00:45:54.652257Z",
     "shell.execute_reply": "2024-02-13T00:45:54.651489Z"
    },
    "papermill": {
     "duration": 2.758381,
     "end_time": "2024-02-13T00:45:54.654227",
     "exception": false,
     "start_time": "2024-02-13T00:45:51.895846",
     "status": "completed"
    },
    "tags": []
   },
   "outputs": [],
   "source": [
    "# Apparently, we exclude from the reference file all *reference file* records with a PIK that\n",
    "# has already been assigned to an input file row.\n",
    "# Doing this goes against the normal assumption, which is that reference file records can match\n",
    "# to multiple input file records.\n",
    "# This is really surprising to me, but it seems clear from \"the program\n",
    "# removes all household members with a PIK, leaving the unPIKed persons in the\n",
    "# household. This becomes the reference file to search against.\" (Wagner and Layne, p. 16)\n",
    "eligible_geobase_reference_file_records = (\n",
    "    geobase_reference_file[geobase_reference_file.geokey_for_blocking.notnull()]\n",
    "        .merge(df_ops.drop_duplicates(person_linkage_cascade.confirmed_piks[['pik']]).assign(confirmed_pik_dummy=1), on='pik', how='left')\n",
    "        .pipe(lambda df: df[df.confirmed_pik_dummy.isnull()])\n",
    "        .drop(columns=['confirmed_pik_dummy'])\n",
    ")"
   ]
  },
  {
   "cell_type": "code",
   "execution_count": 100,
   "id": "60c5a0f4-6220-4d29-a604-52b930c3198b",
   "metadata": {
    "execution": {
     "iopub.execute_input": "2024-02-13T00:45:54.836922Z",
     "iopub.status.busy": "2024-02-13T00:45:54.836348Z",
     "iopub.status.idle": "2024-02-13T00:46:01.319477Z",
     "shell.execute_reply": "2024-02-13T00:46:01.318463Z"
    },
    "papermill": {
     "duration": 6.576348,
     "end_time": "2024-02-13T00:46:01.321315",
     "exception": false,
     "start_time": "2024-02-13T00:45:54.744967",
     "status": "completed"
    },
    "tags": []
   },
   "outputs": [
    {
     "data": {
      "text/html": [
       "<div><strong>Dask DataFrame Structure:</strong></div>\n",
       "<div>\n",
       "<style scoped>\n",
       "    .dataframe tbody tr th:only-of-type {\n",
       "        vertical-align: middle;\n",
       "    }\n",
       "\n",
       "    .dataframe tbody tr th {\n",
       "        vertical-align: top;\n",
       "    }\n",
       "\n",
       "    .dataframe thead th {\n",
       "        text-align: right;\n",
       "    }\n",
       "</style>\n",
       "<table border=\"1\" class=\"dataframe\">\n",
       "  <thead>\n",
       "    <tr style=\"text-align: right;\">\n",
       "      <th></th>\n",
       "      <th>pseudo_household_id</th>\n",
       "      <th>geokey_for_blocking</th>\n",
       "      <th>ssn</th>\n",
       "      <th>first_name</th>\n",
       "      <th>middle_name</th>\n",
       "      <th>last_name</th>\n",
       "      <th>street_number</th>\n",
       "      <th>street_name</th>\n",
       "      <th>unit_number</th>\n",
       "      <th>po_box</th>\n",
       "      <th>city</th>\n",
       "      <th>state</th>\n",
       "      <th>zipcode</th>\n",
       "      <th>record_id</th>\n",
       "      <th>pik</th>\n",
       "      <th>month_of_birth</th>\n",
       "      <th>year_of_birth</th>\n",
       "      <th>day_of_birth</th>\n",
       "      <th>geokey</th>\n",
       "      <th>street_number_for_blocking</th>\n",
       "      <th>street_name_for_blocking</th>\n",
       "      <th>first_name_15</th>\n",
       "      <th>last_name_12</th>\n",
       "      <th>middle_initial</th>\n",
       "      <th>first_name_1</th>\n",
       "      <th>last_name_1</th>\n",
       "      <th>first_name_2</th>\n",
       "      <th>last_name_2</th>\n",
       "      <th>first_name_3</th>\n",
       "      <th>last_name_3</th>\n",
       "      <th>street_name_for_blocking_soundex</th>\n",
       "      <th>zip3</th>\n",
       "    </tr>\n",
       "    <tr>\n",
       "      <th>npartitions=96</th>\n",
       "      <th></th>\n",
       "      <th></th>\n",
       "      <th></th>\n",
       "      <th></th>\n",
       "      <th></th>\n",
       "      <th></th>\n",
       "      <th></th>\n",
       "      <th></th>\n",
       "      <th></th>\n",
       "      <th></th>\n",
       "      <th></th>\n",
       "      <th></th>\n",
       "      <th></th>\n",
       "      <th></th>\n",
       "      <th></th>\n",
       "      <th></th>\n",
       "      <th></th>\n",
       "      <th></th>\n",
       "      <th></th>\n",
       "      <th></th>\n",
       "      <th></th>\n",
       "      <th></th>\n",
       "      <th></th>\n",
       "      <th></th>\n",
       "      <th></th>\n",
       "      <th></th>\n",
       "      <th></th>\n",
       "      <th></th>\n",
       "      <th></th>\n",
       "      <th></th>\n",
       "      <th></th>\n",
       "      <th></th>\n",
       "    </tr>\n",
       "  </thead>\n",
       "  <tbody>\n",
       "    <tr>\n",
       "      <th></th>\n",
       "      <td>large_string[pyarrow]</td>\n",
       "      <td>large_string[pyarrow]</td>\n",
       "      <td>large_string[pyarrow]</td>\n",
       "      <td>large_string[pyarrow]</td>\n",
       "      <td>large_string[pyarrow]</td>\n",
       "      <td>large_string[pyarrow]</td>\n",
       "      <td>large_string[pyarrow]</td>\n",
       "      <td>large_string[pyarrow]</td>\n",
       "      <td>large_string[pyarrow]</td>\n",
       "      <td>large_string[pyarrow]</td>\n",
       "      <td>large_string[pyarrow]</td>\n",
       "      <td>large_string[pyarrow]</td>\n",
       "      <td>large_string[pyarrow]</td>\n",
       "      <td>large_string[pyarrow]</td>\n",
       "      <td>large_string[pyarrow]</td>\n",
       "      <td>float64</td>\n",
       "      <td>float64</td>\n",
       "      <td>float64</td>\n",
       "      <td>large_string[pyarrow]</td>\n",
       "      <td>large_string[pyarrow]</td>\n",
       "      <td>large_string[pyarrow]</td>\n",
       "      <td>large_string[pyarrow]</td>\n",
       "      <td>large_string[pyarrow]</td>\n",
       "      <td>large_string[pyarrow]</td>\n",
       "      <td>large_string[pyarrow]</td>\n",
       "      <td>large_string[pyarrow]</td>\n",
       "      <td>large_string[pyarrow]</td>\n",
       "      <td>large_string[pyarrow]</td>\n",
       "      <td>large_string[pyarrow]</td>\n",
       "      <td>large_string[pyarrow]</td>\n",
       "      <td>large_string[pyarrow]</td>\n",
       "      <td>large_string[pyarrow]</td>\n",
       "    </tr>\n",
       "    <tr>\n",
       "      <th></th>\n",
       "      <td>...</td>\n",
       "      <td>...</td>\n",
       "      <td>...</td>\n",
       "      <td>...</td>\n",
       "      <td>...</td>\n",
       "      <td>...</td>\n",
       "      <td>...</td>\n",
       "      <td>...</td>\n",
       "      <td>...</td>\n",
       "      <td>...</td>\n",
       "      <td>...</td>\n",
       "      <td>...</td>\n",
       "      <td>...</td>\n",
       "      <td>...</td>\n",
       "      <td>...</td>\n",
       "      <td>...</td>\n",
       "      <td>...</td>\n",
       "      <td>...</td>\n",
       "      <td>...</td>\n",
       "      <td>...</td>\n",
       "      <td>...</td>\n",
       "      <td>...</td>\n",
       "      <td>...</td>\n",
       "      <td>...</td>\n",
       "      <td>...</td>\n",
       "      <td>...</td>\n",
       "      <td>...</td>\n",
       "      <td>...</td>\n",
       "      <td>...</td>\n",
       "      <td>...</td>\n",
       "      <td>...</td>\n",
       "      <td>...</td>\n",
       "    </tr>\n",
       "    <tr>\n",
       "      <th>...</th>\n",
       "      <td>...</td>\n",
       "      <td>...</td>\n",
       "      <td>...</td>\n",
       "      <td>...</td>\n",
       "      <td>...</td>\n",
       "      <td>...</td>\n",
       "      <td>...</td>\n",
       "      <td>...</td>\n",
       "      <td>...</td>\n",
       "      <td>...</td>\n",
       "      <td>...</td>\n",
       "      <td>...</td>\n",
       "      <td>...</td>\n",
       "      <td>...</td>\n",
       "      <td>...</td>\n",
       "      <td>...</td>\n",
       "      <td>...</td>\n",
       "      <td>...</td>\n",
       "      <td>...</td>\n",
       "      <td>...</td>\n",
       "      <td>...</td>\n",
       "      <td>...</td>\n",
       "      <td>...</td>\n",
       "      <td>...</td>\n",
       "      <td>...</td>\n",
       "      <td>...</td>\n",
       "      <td>...</td>\n",
       "      <td>...</td>\n",
       "      <td>...</td>\n",
       "      <td>...</td>\n",
       "      <td>...</td>\n",
       "      <td>...</td>\n",
       "    </tr>\n",
       "    <tr>\n",
       "      <th></th>\n",
       "      <td>...</td>\n",
       "      <td>...</td>\n",
       "      <td>...</td>\n",
       "      <td>...</td>\n",
       "      <td>...</td>\n",
       "      <td>...</td>\n",
       "      <td>...</td>\n",
       "      <td>...</td>\n",
       "      <td>...</td>\n",
       "      <td>...</td>\n",
       "      <td>...</td>\n",
       "      <td>...</td>\n",
       "      <td>...</td>\n",
       "      <td>...</td>\n",
       "      <td>...</td>\n",
       "      <td>...</td>\n",
       "      <td>...</td>\n",
       "      <td>...</td>\n",
       "      <td>...</td>\n",
       "      <td>...</td>\n",
       "      <td>...</td>\n",
       "      <td>...</td>\n",
       "      <td>...</td>\n",
       "      <td>...</td>\n",
       "      <td>...</td>\n",
       "      <td>...</td>\n",
       "      <td>...</td>\n",
       "      <td>...</td>\n",
       "      <td>...</td>\n",
       "      <td>...</td>\n",
       "      <td>...</td>\n",
       "      <td>...</td>\n",
       "    </tr>\n",
       "    <tr>\n",
       "      <th></th>\n",
       "      <td>...</td>\n",
       "      <td>...</td>\n",
       "      <td>...</td>\n",
       "      <td>...</td>\n",
       "      <td>...</td>\n",
       "      <td>...</td>\n",
       "      <td>...</td>\n",
       "      <td>...</td>\n",
       "      <td>...</td>\n",
       "      <td>...</td>\n",
       "      <td>...</td>\n",
       "      <td>...</td>\n",
       "      <td>...</td>\n",
       "      <td>...</td>\n",
       "      <td>...</td>\n",
       "      <td>...</td>\n",
       "      <td>...</td>\n",
       "      <td>...</td>\n",
       "      <td>...</td>\n",
       "      <td>...</td>\n",
       "      <td>...</td>\n",
       "      <td>...</td>\n",
       "      <td>...</td>\n",
       "      <td>...</td>\n",
       "      <td>...</td>\n",
       "      <td>...</td>\n",
       "      <td>...</td>\n",
       "      <td>...</td>\n",
       "      <td>...</td>\n",
       "      <td>...</td>\n",
       "      <td>...</td>\n",
       "      <td>...</td>\n",
       "    </tr>\n",
       "  </tbody>\n",
       "</table>\n",
       "</div>\n",
       "<div>Dask Name: hash-join, 1 graph layer</div>"
      ],
      "text/plain": [
       "Dask DataFrame Structure:\n",
       "                  pseudo_household_id    geokey_for_blocking                    ssn             first_name            middle_name              last_name          street_number            street_name            unit_number                 po_box                   city                  state                zipcode              record_id                    pik month_of_birth year_of_birth day_of_birth                 geokey street_number_for_blocking street_name_for_blocking          first_name_15           last_name_12         middle_initial           first_name_1            last_name_1           first_name_2            last_name_2           first_name_3            last_name_3 street_name_for_blocking_soundex                   zip3\n",
       "npartitions=96                                                                                                                                                                                                                                                                                                                                                                                                                                                                                                                                                                                                                                                                                                                                                     \n",
       "                large_string[pyarrow]  large_string[pyarrow]  large_string[pyarrow]  large_string[pyarrow]  large_string[pyarrow]  large_string[pyarrow]  large_string[pyarrow]  large_string[pyarrow]  large_string[pyarrow]  large_string[pyarrow]  large_string[pyarrow]  large_string[pyarrow]  large_string[pyarrow]  large_string[pyarrow]  large_string[pyarrow]        float64       float64      float64  large_string[pyarrow]      large_string[pyarrow]    large_string[pyarrow]  large_string[pyarrow]  large_string[pyarrow]  large_string[pyarrow]  large_string[pyarrow]  large_string[pyarrow]  large_string[pyarrow]  large_string[pyarrow]  large_string[pyarrow]  large_string[pyarrow]            large_string[pyarrow]  large_string[pyarrow]\n",
       "                                  ...                    ...                    ...                    ...                    ...                    ...                    ...                    ...                    ...                    ...                    ...                    ...                    ...                    ...                    ...            ...           ...          ...                    ...                        ...                      ...                    ...                    ...                    ...                    ...                    ...                    ...                    ...                    ...                    ...                              ...                    ...\n",
       "...                               ...                    ...                    ...                    ...                    ...                    ...                    ...                    ...                    ...                    ...                    ...                    ...                    ...                    ...                    ...            ...           ...          ...                    ...                        ...                      ...                    ...                    ...                    ...                    ...                    ...                    ...                    ...                    ...                    ...                              ...                    ...\n",
       "                                  ...                    ...                    ...                    ...                    ...                    ...                    ...                    ...                    ...                    ...                    ...                    ...                    ...                    ...                    ...            ...           ...          ...                    ...                        ...                      ...                    ...                    ...                    ...                    ...                    ...                    ...                    ...                    ...                    ...                              ...                    ...\n",
       "                                  ...                    ...                    ...                    ...                    ...                    ...                    ...                    ...                    ...                    ...                    ...                    ...                    ...                    ...                    ...            ...           ...          ...                    ...                        ...                      ...                    ...                    ...                    ...                    ...                    ...                    ...                    ...                    ...                    ...                              ...                    ...\n",
       "Dask Name: hash-join, 1 graph layer"
      ]
     },
     "execution_count": 100,
     "metadata": {},
     "output_type": "execute_result"
    }
   ],
   "source": [
    "hhcomp_reference_file = df_ops.persist(geokeys_by_eligible_household.merge(\n",
    "    eligible_geobase_reference_file_records,\n",
    "    on=\"geokey_for_blocking\",\n",
    "))\n",
    "hhcomp_reference_file"
   ]
  },
  {
   "cell_type": "code",
   "execution_count": 101,
   "id": "ce26ecbb-d8ff-4ac5-bffa-6d21e8dc3cf9",
   "metadata": {
    "execution": {
     "iopub.execute_input": "2024-02-13T00:46:01.507679Z",
     "iopub.status.busy": "2024-02-13T00:46:01.507097Z",
     "iopub.status.idle": "2024-02-13T00:46:01.605704Z",
     "shell.execute_reply": "2024-02-13T00:46:01.604408Z"
    },
    "papermill": {
     "duration": 0.193443,
     "end_time": "2024-02-13T00:46:01.607647",
     "exception": false,
     "start_time": "2024-02-13T00:46:01.414204",
     "status": "completed"
    },
    "tags": []
   },
   "outputs": [
    {
     "data": {
      "text/plain": [
       "274673"
      ]
     },
     "execution_count": 101,
     "metadata": {},
     "output_type": "execute_result"
    }
   ],
   "source": [
    "len(hhcomp_reference_file)"
   ]
  },
  {
   "cell_type": "code",
   "execution_count": 102,
   "id": "fa0a1a66-1c18-48ad-a76f-11150f71a0bb",
   "metadata": {
    "execution": {
     "iopub.execute_input": "2024-02-13T00:46:01.791267Z",
     "iopub.status.busy": "2024-02-13T00:46:01.790875Z",
     "iopub.status.idle": "2024-02-13T00:46:07.027395Z",
     "shell.execute_reply": "2024-02-13T00:46:07.025550Z"
    },
    "papermill": {
     "duration": 5.331288,
     "end_time": "2024-02-13T00:46:07.030144",
     "exception": false,
     "start_time": "2024-02-13T00:46:01.698856",
     "status": "completed"
    },
    "tags": []
   },
   "outputs": [],
   "source": [
    "person_linkage_cascade.start_module(\n",
    "    name=\"hhcompsearch\",\n",
    "    reference_file=hhcomp_reference_file,\n",
    "    reference_file_name=\"hhcomp_reference_file\",\n",
    "    cut_columns=[\"pseudo_household_id\"],\n",
    "    # HACK: How else do we deal with the fact that pseudo_household_id\n",
    "    # isn't used for matching?\n",
    "    bayes_factor_cut_columns=1_000,\n",
    "    matching_columns=[\n",
    "        \"first_name_15\",\n",
    "        \"last_name_12\",\n",
    "        \"middle_initial\",\n",
    "        \"day_of_birth\",\n",
    "        \"month_of_birth\",\n",
    "        \"year_of_birth\",\n",
    "    ],\n",
    ")"
   ]
  },
  {
   "cell_type": "markdown",
   "id": "a86727cf-b024-4caf-a610-6f7950faec2d",
   "metadata": {
    "papermill": {
     "duration": 0.09338,
     "end_time": "2024-02-13T00:46:07.272452",
     "exception": false,
     "start_time": "2024-02-13T00:46:07.179072",
     "status": "completed"
    },
    "tags": []
   },
   "source": [
    "## Pass 1: Block on initials"
   ]
  },
  {
   "cell_type": "code",
   "execution_count": 103,
   "id": "83fbf88d-044e-4764-a049-ad6c4520bd7f",
   "metadata": {
    "execution": {
     "iopub.execute_input": "2024-02-13T00:46:07.459732Z",
     "iopub.status.busy": "2024-02-13T00:46:07.459176Z",
     "iopub.status.idle": "2024-02-13T00:46:41.129885Z",
     "shell.execute_reply": "2024-02-13T00:46:41.128858Z"
    },
    "papermill": {
     "duration": 33.865636,
     "end_time": "2024-02-13T00:46:41.231015",
     "exception": false,
     "start_time": "2024-02-13T00:46:07.365379",
     "status": "completed"
    },
    "tags": []
   },
   "outputs": [
    {
     "name": "stdout",
     "output_type": "stream",
     "text": [
      "Running initials of hhcompsearch\n",
      "Files to link are 274,673 and 171,575 records\n"
     ]
    },
    {
     "name": "stderr",
     "output_type": "stream",
     "text": [
      "24/02/13 00:46:13 WARN SimpleFunctionRegistry: The function jaro_sim replaced a previously registered function.\n",
      "24/02/13 00:46:13 WARN SimpleFunctionRegistry: The function jaro_winkler replaced a previously registered function.\n",
      "24/02/13 00:46:13 WARN SimpleFunctionRegistry: The function jaccard replaced a previously registered function.\n",
      "24/02/13 00:46:13 WARN SimpleFunctionRegistry: The function cosine_distance replaced a previously registered function.\n",
      "24/02/13 00:46:13 WARN SimpleFunctionRegistry: The function dmetaphone replaced a previously registered function.\n",
      "24/02/13 00:46:13 WARN SimpleFunctionRegistry: The function dmetaphonealt replaced a previously registered function.\n",
      "24/02/13 00:46:13 WARN SimpleFunctionRegistry: The function qgramtokeniser replaced a previously registered function.\n",
      "24/02/13 00:46:13 WARN SimpleFunctionRegistry: The function damerau_levenshtein replaced a previously registered function.\n",
      "                                                                                \r"
     ]
    },
    {
     "name": "stdout",
     "output_type": "stream",
     "text": [
      "Number of pairs that will be compared: 39,208\n"
     ]
    },
    {
     "name": "stderr",
     "output_type": "stream",
     "text": [
      "24/02/13 00:46:16 WARN DataSource: All paths were ignored:\n",
      "  file:/ihme/scratch/users/zmbc/person_linkage_case_study/person_linkage_case_study/ri/tmpCheckpoints/c28977bd-b2cf-4869-832b-cd0cdb995234/__splink__df_concat_with_tf_72ab13fda\n",
      "24/02/13 00:46:25 WARN DataSource: All paths were ignored:                      \n",
      "  file:/ihme/scratch/users/zmbc/person_linkage_case_study/person_linkage_case_study/ri/tmpCheckpoints/c28977bd-b2cf-4869-832b-cd0cdb995234/__splink__df_predict_bb9e4d6bf\n",
      "                                                                                \r"
     ]
    },
    {
     "data": {
      "text/html": [
       "\n",
       "        <iframe\n",
       "            width=\"100%\"\n",
       "            height=\"1200\"\n",
       "            src=\"./splink_temp/hhcompsearch__initials.html\"\n",
       "            frameborder=\"0\"\n",
       "            allowfullscreen\n",
       "            \n",
       "        ></iframe>\n",
       "        "
      ],
      "text/plain": [
       "<IPython.lib.display.IFrame at 0x7f1499096380>"
      ]
     },
     "metadata": {},
     "output_type": "display_data"
    },
    {
     "name": "stderr",
     "output_type": "stream",
     "text": [
      "                                                                                \r"
     ]
    },
    {
     "name": "stdout",
     "output_type": "stream",
     "text": [
      "Imbalanced dataframe: too_few=False, too_many=True, too_large=False\n",
      "count      125.000000\n",
      "mean     61195.136000\n",
      "std       2968.528826\n",
      "min      52458.000000\n",
      "25%      59657.000000\n",
      "50%      60970.000000\n",
      "75%      63080.000000\n",
      "max      69149.000000\n",
      "dtype: float64\n",
      "Creating partitions of 100MB\n",
      "Found 18,702 matches; 14.03% still eligible to match\n"
     ]
    }
   ],
   "source": [
    "person_linkage_cascade.run_matching_pass(\n",
    "    pass_name=\"initials\",\n",
    "    blocking_columns=[\"first_name_1\", \"last_name_1\"],\n",
    ")"
   ]
  },
  {
   "cell_type": "markdown",
   "id": "ca08637b-760c-4633-b0c4-23a6d4c01dd1",
   "metadata": {
    "papermill": {
     "duration": 0.093139,
     "end_time": "2024-02-13T00:46:41.416580",
     "exception": false,
     "start_time": "2024-02-13T00:46:41.323441",
     "status": "completed"
    },
    "tags": []
   },
   "source": [
    "## Pass 2: Block on year of birth"
   ]
  },
  {
   "cell_type": "code",
   "execution_count": 104,
   "id": "fccbc8e1-230c-4b59-95b4-e8ba97d566a3",
   "metadata": {
    "execution": {
     "iopub.execute_input": "2024-02-13T00:46:41.610573Z",
     "iopub.status.busy": "2024-02-13T00:46:41.610163Z",
     "iopub.status.idle": "2024-02-13T00:47:11.635357Z",
     "shell.execute_reply": "2024-02-13T00:47:11.634308Z"
    },
    "papermill": {
     "duration": 30.222259,
     "end_time": "2024-02-13T00:47:11.734197",
     "exception": false,
     "start_time": "2024-02-13T00:46:41.511938",
     "status": "completed"
    },
    "tags": []
   },
   "outputs": [
    {
     "name": "stdout",
     "output_type": "stream",
     "text": [
      "Running year of birth of hhcompsearch\n",
      "Files to link are 274,673 and 154,207 records\n"
     ]
    },
    {
     "name": "stderr",
     "output_type": "stream",
     "text": [
      "24/02/13 00:46:47 WARN SimpleFunctionRegistry: The function jaro_sim replaced a previously registered function.\n",
      "24/02/13 00:46:47 WARN SimpleFunctionRegistry: The function jaro_winkler replaced a previously registered function.\n",
      "24/02/13 00:46:47 WARN SimpleFunctionRegistry: The function jaccard replaced a previously registered function.\n",
      "24/02/13 00:46:47 WARN SimpleFunctionRegistry: The function cosine_distance replaced a previously registered function.\n",
      "24/02/13 00:46:47 WARN SimpleFunctionRegistry: The function dmetaphone replaced a previously registered function.\n",
      "24/02/13 00:46:47 WARN SimpleFunctionRegistry: The function dmetaphonealt replaced a previously registered function.\n",
      "24/02/13 00:46:47 WARN SimpleFunctionRegistry: The function qgramtokeniser replaced a previously registered function.\n",
      "24/02/13 00:46:47 WARN SimpleFunctionRegistry: The function damerau_levenshtein replaced a previously registered function.\n"
     ]
    },
    {
     "name": "stdout",
     "output_type": "stream",
     "text": [
      "Number of pairs that will be compared: 9,514\n"
     ]
    },
    {
     "name": "stderr",
     "output_type": "stream",
     "text": [
      "24/02/13 00:46:50 WARN DataSource: All paths were ignored:\n",
      "  file:/ihme/scratch/users/zmbc/person_linkage_case_study/person_linkage_case_study/ri/tmpCheckpoints/c28977bd-b2cf-4869-832b-cd0cdb995234/__splink__df_concat_with_tf_142fb9c07\n",
      "24/02/13 00:46:57 WARN DataSource: All paths were ignored:                      \n",
      "  file:/ihme/scratch/users/zmbc/person_linkage_case_study/person_linkage_case_study/ri/tmpCheckpoints/c28977bd-b2cf-4869-832b-cd0cdb995234/__splink__df_predict_cec400f61\n"
     ]
    },
    {
     "data": {
      "text/html": [
       "\n",
       "        <iframe\n",
       "            width=\"100%\"\n",
       "            height=\"1200\"\n",
       "            src=\"./splink_temp/hhcompsearch__year_of_birth.html\"\n",
       "            frameborder=\"0\"\n",
       "            allowfullscreen\n",
       "            \n",
       "        ></iframe>\n",
       "        "
      ],
      "text/plain": [
       "<IPython.lib.display.IFrame at 0x7f165203ec80>"
      ]
     },
     "metadata": {},
     "output_type": "display_data"
    },
    {
     "name": "stderr",
     "output_type": "stream",
     "text": [
      "                                                                                \r"
     ]
    },
    {
     "name": "stdout",
     "output_type": "stream",
     "text": [
      "Imbalanced dataframe: too_few=False, too_many=True, too_large=False\n",
      "count      125.000000\n",
      "mean     11708.176000\n",
      "std       1967.033763\n",
      "min       6742.000000\n",
      "25%      10445.000000\n",
      "50%      11883.000000\n",
      "75%      13073.000000\n",
      "max      17114.000000\n",
      "dtype: float64\n",
      "Creating partitions of 100MB\n",
      "Found 3,919 matches; 13.70% still eligible to match\n"
     ]
    }
   ],
   "source": [
    "person_linkage_cascade.run_matching_pass(\n",
    "    pass_name=\"year of birth\",\n",
    "    blocking_columns=[\"year_of_birth\"],\n",
    ")"
   ]
  },
  {
   "cell_type": "markdown",
   "id": "d9bd99a1-3174-435f-bd22-49ffa06ec1d6",
   "metadata": {
    "papermill": {
     "duration": 0.095746,
     "end_time": "2024-02-13T00:47:11.961764",
     "exception": false,
     "start_time": "2024-02-13T00:47:11.866018",
     "status": "completed"
    },
    "tags": []
   },
   "source": [
    "## Post-process and confirm PIKs"
   ]
  },
  {
   "cell_type": "code",
   "execution_count": 105,
   "id": "9d61a681-a87d-4a4a-a89e-146b044fd22e",
   "metadata": {
    "execution": {
     "iopub.execute_input": "2024-02-13T00:47:12.163461Z",
     "iopub.status.busy": "2024-02-13T00:47:12.163023Z",
     "iopub.status.idle": "2024-02-13T00:47:52.831477Z",
     "shell.execute_reply": "2024-02-13T00:47:52.825587Z"
    },
    "papermill": {
     "duration": 40.769555,
     "end_time": "2024-02-13T00:47:52.834603",
     "exception": false,
     "start_time": "2024-02-13T00:47:12.065048",
     "status": "completed"
    },
    "tags": []
   },
   "outputs": [
    {
     "name": "stdout",
     "output_type": "stream",
     "text": [
      "4,402 input records linked to deceased people, dropping links\n",
      "423 input records linked to multiple PIKs, dropping links\n",
      "Imbalanced dataframe: too_few=False, too_many=True, too_large=False\n",
      "count    1.900000e+02\n",
      "mean     9.718174e+05\n",
      "std      9.286177e+06\n",
      "min      3.856000e+03\n",
      "25%      7.493000e+03\n",
      "50%      1.538800e+04\n",
      "75%      3.399550e+04\n",
      "max      9.871830e+07\n",
      "dtype: float64\n",
      "Creating partitions of 100MB\n"
     ]
    }
   ],
   "source": [
    "person_linkage_cascade.confirm_piks()"
   ]
  },
  {
   "cell_type": "code",
   "execution_count": 106,
   "id": "8f147e2d-7510-4aad-bc30-1bbda2b4091f",
   "metadata": {
    "execution": {
     "iopub.execute_input": "2024-02-13T00:47:53.031541Z",
     "iopub.status.busy": "2024-02-13T00:47:53.031126Z",
     "iopub.status.idle": "2024-02-13T00:47:53.163973Z",
     "shell.execute_reply": "2024-02-13T00:47:53.163051Z"
    },
    "papermill": {
     "duration": 0.233703,
     "end_time": "2024-02-13T00:47:53.166540",
     "exception": false,
     "start_time": "2024-02-13T00:47:52.932837",
     "status": "completed"
    },
    "tags": []
   },
   "outputs": [
    {
     "data": {
      "text/plain": [
       "module_name   pass_name                                           \n",
       "geosearch     geokey                                                  673411\n",
       "              some name and DOB information                           150808\n",
       "              house number and street name Soundex                     56278\n",
       "namesearch    DOB and NYSIIS of name                                   31271\n",
       "hhcompsearch  initials                                                 13094\n",
       "namesearch    DOB and initials                                          9762\n",
       "hhcompsearch  year of birth                                             3154\n",
       "dobsearch     reverse Soundex of name                                   1743\n",
       "              first two characters of first name and year of birth      1446\n",
       "namesearch    birthday and first two characters of name                 1244\n",
       "              year of birth and first two characters of name             678\n",
       "geosearch     geokey name switch                                           8\n",
       "dobsearch     initials name switch                                         2\n",
       "              first three characters of name                               1\n",
       "dtype: int64"
      ]
     },
     "execution_count": 106,
     "metadata": {},
     "output_type": "execute_result"
    }
   ],
   "source": [
    "df_ops.compute(person_linkage_cascade.confirmed_piks.groupby([\"module_name\", \"pass_name\"]).size()).sort_values(ascending=False)"
   ]
  },
  {
   "cell_type": "markdown",
   "id": "fc0ba651-913d-4eb4-9d3a-e391b9efc8d8",
   "metadata": {
    "papermill": {
     "duration": 0.094621,
     "end_time": "2024-02-13T00:47:53.357023",
     "exception": false,
     "start_time": "2024-02-13T00:47:53.262402",
     "status": "completed"
    },
    "tags": []
   },
   "source": [
    "# Resulting PIKs"
   ]
  },
  {
   "cell_type": "code",
   "execution_count": 107,
   "id": "c7a239d1-e1d8-435d-9af5-7c71ba3d64d1",
   "metadata": {
    "execution": {
     "iopub.execute_input": "2024-02-13T00:47:53.553011Z",
     "iopub.status.busy": "2024-02-13T00:47:53.552604Z",
     "iopub.status.idle": "2024-02-13T00:47:55.606855Z",
     "shell.execute_reply": "2024-02-13T00:47:55.605754Z"
    },
    "papermill": {
     "duration": 2.156351,
     "end_time": "2024-02-13T00:47:55.609059",
     "exception": false,
     "start_time": "2024-02-13T00:47:53.452708",
     "status": "completed"
    },
    "tags": []
   },
   "outputs": [],
   "source": [
    "pik_values = df_ops.drop_duplicates(\n",
    "    person_linkage_cascade.confirmed_piks\n",
    "        .rename(columns={\"record_id_raw_input_file\": \"record_id\"})\n",
    "        [[\"record_id\", \"pik\"]]\n",
    ")"
   ]
  },
  {
   "cell_type": "code",
   "execution_count": 108,
   "id": "e9271823-d2b3-4f41-9d77-9ad5bb117397",
   "metadata": {
    "execution": {
     "iopub.execute_input": "2024-02-13T00:47:55.800361Z",
     "iopub.status.busy": "2024-02-13T00:47:55.799797Z",
     "iopub.status.idle": "2024-02-13T00:47:58.684303Z",
     "shell.execute_reply": "2024-02-13T00:47:58.683261Z"
    },
    "papermill": {
     "duration": 2.981348,
     "end_time": "2024-02-13T00:47:58.686176",
     "exception": false,
     "start_time": "2024-02-13T00:47:55.704828",
     "status": "completed"
    },
    "tags": []
   },
   "outputs": [
    {
     "data": {
      "text/html": [
       "<div><strong>Dask DataFrame Structure:</strong></div>\n",
       "<div>\n",
       "<style scoped>\n",
       "    .dataframe tbody tr th:only-of-type {\n",
       "        vertical-align: middle;\n",
       "    }\n",
       "\n",
       "    .dataframe tbody tr th {\n",
       "        vertical-align: top;\n",
       "    }\n",
       "\n",
       "    .dataframe thead th {\n",
       "        text-align: right;\n",
       "    }\n",
       "</style>\n",
       "<table border=\"1\" class=\"dataframe\">\n",
       "  <thead>\n",
       "    <tr style=\"text-align: right;\">\n",
       "      <th></th>\n",
       "      <th>household_id</th>\n",
       "      <th>first_name</th>\n",
       "      <th>middle_initial</th>\n",
       "      <th>last_name</th>\n",
       "      <th>age</th>\n",
       "      <th>date_of_birth</th>\n",
       "      <th>street_number</th>\n",
       "      <th>street_name</th>\n",
       "      <th>unit_number</th>\n",
       "      <th>city</th>\n",
       "      <th>state</th>\n",
       "      <th>zipcode</th>\n",
       "      <th>housing_type</th>\n",
       "      <th>relationship_to_reference_person</th>\n",
       "      <th>sex</th>\n",
       "      <th>race_ethnicity</th>\n",
       "      <th>year</th>\n",
       "      <th>record_id</th>\n",
       "      <th>pik</th>\n",
       "    </tr>\n",
       "    <tr>\n",
       "      <th>npartitions=3</th>\n",
       "      <th></th>\n",
       "      <th></th>\n",
       "      <th></th>\n",
       "      <th></th>\n",
       "      <th></th>\n",
       "      <th></th>\n",
       "      <th></th>\n",
       "      <th></th>\n",
       "      <th></th>\n",
       "      <th></th>\n",
       "      <th></th>\n",
       "      <th></th>\n",
       "      <th></th>\n",
       "      <th></th>\n",
       "      <th></th>\n",
       "      <th></th>\n",
       "      <th></th>\n",
       "      <th></th>\n",
       "      <th></th>\n",
       "    </tr>\n",
       "  </thead>\n",
       "  <tbody>\n",
       "    <tr>\n",
       "      <th></th>\n",
       "      <td>large_string[pyarrow]</td>\n",
       "      <td>large_string[pyarrow]</td>\n",
       "      <td>large_string[pyarrow]</td>\n",
       "      <td>large_string[pyarrow]</td>\n",
       "      <td>large_string[pyarrow]</td>\n",
       "      <td>large_string[pyarrow]</td>\n",
       "      <td>large_string[pyarrow]</td>\n",
       "      <td>large_string[pyarrow]</td>\n",
       "      <td>large_string[pyarrow]</td>\n",
       "      <td>large_string[pyarrow]</td>\n",
       "      <td>category[unknown]</td>\n",
       "      <td>large_string[pyarrow]</td>\n",
       "      <td>large_string[pyarrow]</td>\n",
       "      <td>category[unknown]</td>\n",
       "      <td>category[unknown]</td>\n",
       "      <td>category[unknown]</td>\n",
       "      <td>int64</td>\n",
       "      <td>large_string[pyarrow]</td>\n",
       "      <td>large_string[pyarrow]</td>\n",
       "    </tr>\n",
       "    <tr>\n",
       "      <th></th>\n",
       "      <td>...</td>\n",
       "      <td>...</td>\n",
       "      <td>...</td>\n",
       "      <td>...</td>\n",
       "      <td>...</td>\n",
       "      <td>...</td>\n",
       "      <td>...</td>\n",
       "      <td>...</td>\n",
       "      <td>...</td>\n",
       "      <td>...</td>\n",
       "      <td>...</td>\n",
       "      <td>...</td>\n",
       "      <td>...</td>\n",
       "      <td>...</td>\n",
       "      <td>...</td>\n",
       "      <td>...</td>\n",
       "      <td>...</td>\n",
       "      <td>...</td>\n",
       "      <td>...</td>\n",
       "    </tr>\n",
       "    <tr>\n",
       "      <th></th>\n",
       "      <td>...</td>\n",
       "      <td>...</td>\n",
       "      <td>...</td>\n",
       "      <td>...</td>\n",
       "      <td>...</td>\n",
       "      <td>...</td>\n",
       "      <td>...</td>\n",
       "      <td>...</td>\n",
       "      <td>...</td>\n",
       "      <td>...</td>\n",
       "      <td>...</td>\n",
       "      <td>...</td>\n",
       "      <td>...</td>\n",
       "      <td>...</td>\n",
       "      <td>...</td>\n",
       "      <td>...</td>\n",
       "      <td>...</td>\n",
       "      <td>...</td>\n",
       "      <td>...</td>\n",
       "    </tr>\n",
       "    <tr>\n",
       "      <th></th>\n",
       "      <td>...</td>\n",
       "      <td>...</td>\n",
       "      <td>...</td>\n",
       "      <td>...</td>\n",
       "      <td>...</td>\n",
       "      <td>...</td>\n",
       "      <td>...</td>\n",
       "      <td>...</td>\n",
       "      <td>...</td>\n",
       "      <td>...</td>\n",
       "      <td>...</td>\n",
       "      <td>...</td>\n",
       "      <td>...</td>\n",
       "      <td>...</td>\n",
       "      <td>...</td>\n",
       "      <td>...</td>\n",
       "      <td>...</td>\n",
       "      <td>...</td>\n",
       "      <td>...</td>\n",
       "    </tr>\n",
       "  </tbody>\n",
       "</table>\n",
       "</div>\n",
       "<div>Dask Name: hash-join, 1 graph layer</div>"
      ],
      "text/plain": [
       "Dask DataFrame Structure:\n",
       "                        household_id             first_name         middle_initial              last_name                    age          date_of_birth          street_number            street_name            unit_number                   city              state                zipcode           housing_type relationship_to_reference_person                sex     race_ethnicity   year              record_id                    pik\n",
       "npartitions=3                                                                                                                                                                                                                                                                                                                                                                                                                                   \n",
       "               large_string[pyarrow]  large_string[pyarrow]  large_string[pyarrow]  large_string[pyarrow]  large_string[pyarrow]  large_string[pyarrow]  large_string[pyarrow]  large_string[pyarrow]  large_string[pyarrow]  large_string[pyarrow]  category[unknown]  large_string[pyarrow]  large_string[pyarrow]                category[unknown]  category[unknown]  category[unknown]  int64  large_string[pyarrow]  large_string[pyarrow]\n",
       "                                 ...                    ...                    ...                    ...                    ...                    ...                    ...                    ...                    ...                    ...                ...                    ...                    ...                              ...                ...                ...    ...                    ...                    ...\n",
       "                                 ...                    ...                    ...                    ...                    ...                    ...                    ...                    ...                    ...                    ...                ...                    ...                    ...                              ...                ...                ...    ...                    ...                    ...\n",
       "                                 ...                    ...                    ...                    ...                    ...                    ...                    ...                    ...                    ...                    ...                ...                    ...                    ...                              ...                ...                ...    ...                    ...                    ...\n",
       "Dask Name: hash-join, 1 graph layer"
      ]
     },
     "execution_count": 108,
     "metadata": {},
     "output_type": "execute_result"
    }
   ],
   "source": [
    "census_2030_piked = census_2030_raw_input.copy()\n",
    "kwargs = {}\n",
    "if compute_engine != 'dask':\n",
    "    kwargs['validate'] = '1:1'\n",
    "census_2030_piked = df_ops.persist(census_2030_piked.merge(\n",
    "    pik_values,\n",
    "    how=\"left\",\n",
    "    on=\"record_id\",\n",
    "    **kwargs,\n",
    "))\n",
    "census_2030_piked"
   ]
  },
  {
   "cell_type": "code",
   "execution_count": 109,
   "id": "5e6566f0-e77b-4b21-968c-05a7ef08eff6",
   "metadata": {
    "editable": true,
    "execution": {
     "iopub.execute_input": "2024-02-13T00:47:58.876731Z",
     "iopub.status.busy": "2024-02-13T00:47:58.876156Z",
     "iopub.status.idle": "2024-02-13T00:47:58.942546Z",
     "shell.execute_reply": "2024-02-13T00:47:58.941393Z"
    },
    "papermill": {
     "duration": 0.164191,
     "end_time": "2024-02-13T00:47:58.945115",
     "exception": false,
     "start_time": "2024-02-13T00:47:58.780924",
     "status": "completed"
    },
    "slideshow": {
     "slide_type": ""
    },
    "tags": []
   },
   "outputs": [
    {
     "name": "stdout",
     "output_type": "stream",
     "text": [
      "85.85% of the input records were PIKed\n"
     ]
    }
   ],
   "source": [
    "piked_proportion = census_2030_piked.pik.notnull().mean()\n",
    "# Compare with 90.28% of input records PIKed in the 2010 CUF,\n",
    "# as reported in Wagner and Layne, Table 2, p. 18\n",
    "print(f'{df_ops.compute(piked_proportion):.2%} of the input records were PIKed')"
   ]
  },
  {
   "cell_type": "code",
   "execution_count": 110,
   "id": "ffc185e2-1d4e-4d8c-98a0-3c0c3d1641cb",
   "metadata": {
    "editable": true,
    "execution": {
     "iopub.execute_input": "2024-02-13T00:47:59.143539Z",
     "iopub.status.busy": "2024-02-13T00:47:59.143124Z",
     "iopub.status.idle": "2024-02-13T00:48:01.069137Z",
     "shell.execute_reply": "2024-02-13T00:48:01.068087Z"
    },
    "papermill": {
     "duration": 2.025937,
     "end_time": "2024-02-13T00:48:01.071147",
     "exception": false,
     "start_time": "2024-02-13T00:47:59.045210",
     "status": "completed"
    },
    "slideshow": {
     "slide_type": ""
    },
    "tags": []
   },
   "outputs": [],
   "source": [
    "df_ops.to_parquet(census_2030_piked, f'{output_dir}/census_2030_piked.parquet')"
   ]
  },
  {
   "cell_type": "code",
   "execution_count": 111,
   "id": "822eb452-ca69-48fc-b1d6-c3425fd5f39e",
   "metadata": {
    "execution": {
     "iopub.execute_input": "2024-02-13T00:48:01.265579Z",
     "iopub.status.busy": "2024-02-13T00:48:01.264992Z",
     "iopub.status.idle": "2024-02-13T00:48:01.735763Z",
     "shell.execute_reply": "2024-02-13T00:48:01.734988Z"
    },
    "papermill": {
     "duration": 0.569235,
     "end_time": "2024-02-13T00:48:01.737916",
     "exception": false,
     "start_time": "2024-02-13T00:48:01.168681",
     "status": "completed"
    },
    "tags": []
   },
   "outputs": [],
   "source": [
    "df_ops.to_parquet(person_linkage_cascade.confirmed_piks, f'{output_dir}/confirmed_piks.parquet')"
   ]
  },
  {
   "cell_type": "code",
   "execution_count": 112,
   "id": "e5ee7cdb-bac3-4245-b1e1-0cdcb6652a27",
   "metadata": {
    "editable": true,
    "execution": {
     "iopub.execute_input": "2024-02-13T00:48:01.928883Z",
     "iopub.status.busy": "2024-02-13T00:48:01.928481Z",
     "iopub.status.idle": "2024-02-13T00:48:01.934169Z",
     "shell.execute_reply": "2024-02-13T00:48:01.933341Z"
    },
    "papermill": {
     "duration": 0.102779,
     "end_time": "2024-02-13T00:48:01.935965",
     "exception": false,
     "start_time": "2024-02-13T00:48:01.833186",
     "status": "completed"
    },
    "slideshow": {
     "slide_type": ""
    },
    "tags": []
   },
   "outputs": [
    {
     "name": "stdout",
     "output_type": "stream",
     "text": [
      "2024-02-12 16:48:01.930406\n"
     ]
    }
   ],
   "source": [
    "# NOTE: Can't use the magic ! date here for reasons I don't really understand having\n",
    "# to do with the number of open file handles. This works fine.\n",
    "print(datetime.datetime.now())"
   ]
  }
 ],
 "metadata": {
  "kernelspec": {
   "display_name": "Python 3 (ipykernel)",
   "language": "python",
   "name": "python3"
  },
  "language_info": {
   "codemirror_mode": {
    "name": "ipython",
    "version": 3
   },
   "file_extension": ".py",
   "mimetype": "text/x-python",
   "name": "python",
   "nbconvert_exporter": "python",
   "pygments_lexer": "ipython3",
   "version": "3.10.6"
  },
  "papermill": {
   "default_parameters": {},
   "duration": 2076.18093,
   "end_time": "2024-02-13T00:48:04.662804",
   "environment_variables": {},
   "exception": null,
   "input_path": "person_linkage_case_study.ipynb",
   "output_path": "person_linkage_case_study_ri.ipynb",
   "parameters": {
    "compute_engine": "dask",
    "compute_engine_cpus_per_job": 2,
    "compute_engine_memory_per_job": "15GB",
    "compute_engine_num_jobs": 10,
    "data_to_use": "ri",
    "input_dir": "/ihme/scratch/users/zmbc/person_linkage_case_study/generate_simulated_data/",
    "output_dir": "/ihme/scratch/users/zmbc/person_linkage_case_study/person_linkage_case_study/",
    "spark_cpus_per_worker": 2,
    "spark_memory_per_worker": "30GB",
    "spark_num_workers": 50,
    "spark_worker_memory_overhead_mb": 5000,
    "splink_engine": "spark"
   },
   "start_time": "2024-02-13T00:13:28.481874",
   "version": "2.5.0"
  },
  "toc-autonumbering": false,
  "toc-showcode": false,
  "toc-showtags": false
 },
 "nbformat": 4,
 "nbformat_minor": 5
}
