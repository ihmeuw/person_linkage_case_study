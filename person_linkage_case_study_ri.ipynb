{
 "cells": [
  {
   "cell_type": "markdown",
   "id": "ed9e49e5-db4e-4665-9892-0a679dcc22c5",
   "metadata": {
    "papermill": {
     "duration": 0.029089,
     "end_time": "2024-05-16T06:16:13.119038",
     "exception": false,
     "start_time": "2024-05-16T06:16:13.089949",
     "status": "completed"
    },
    "tags": []
   },
   "source": [
    "# **Person linkage case study**\n",
    "\n",
    "In this case study, we imagine running a person linkage to add unique identifiers to a simulated 2030 Census Unedited File (CUF).\n",
    "We emulate the methods of the Census Bureau's Person Identification Validation System (PVS) using publicly available descriptions.\n",
    "The PVS aims to give people in the input file (the CUF, in this case) unique identifiers that can be used to link them to other administrative records.\n",
    "\n",
    "We approximate the (highly confidential) input data to PVS by using simulated data from our pseudopeople package.\n",
    "See the `generate_simulated_data` notebook for details about this.\n",
    "\n",
    "## Sources\n",
    "\n",
    "These papers describe PVS as their main subject:\n",
    "\n",
    "* Wagner and Layne. The Person Identification Validation System (PVS): Applying the Center for Administrative Records Research and Applications’ (CARRA) Record Linkage Software. 2014. https://www.census.gov/content/dam/Census/library/working-papers/2014/adrm/carra-wp-2014-01.pdf ([archived](https://web.archive.org/web/20230216043235/https://www.census.gov/content/dam/Census/library/working-papers/2014/adrm/carra-wp-2014-01.pdf))\n",
    "* Layne, Wagner, and Rothhaas. Estimating Record Linkage False Match Rate for the Person Identification Validation System. 2014. https://www.census.gov/content/dam/Census/library/working-papers/2014/adrm/carra-wp-2014-02.pdf ([archived](https://web.archive.org/web/20220121051156/https://www.census.gov/content/dam/Census/library/working-papers/2014/adrm/carra-wp-2014-02.pdf))\n",
    "* Alexander et al. Creating a Longitudinal Data Infrastructure at the Census Bureau. 2015. https://www.census.gov/content/dam/Census/library/working-papers/2015/adrm/2015-alexander.pdf ([archived](https://web.archive.org/web/20170723192315/http://www.census.gov/content/dam/Census/library/working-papers/2015/adrm/2015-alexander.pdf))\n",
    "* Massey and O'Hara. Person Matching in Historical Files using the Census Bureau’s Person Validation System. 2014. https://www.census.gov/content/dam/Census/library/working-papers/2014/adrm/carra-wp-2014-11.pdf ([archived](https://web.archive.org/web/20221018074814/http://www.census.gov/content/dam/Census/library/working-papers/2014/adrm/carra-wp-2014-11.pdf))\n",
    "* NORC. Assessment of the U.S. Census Bureau’s Person Identification Validation System. 2011. https://www.norc.org/content/dam/norc-org/pdfs/PVS%20Assessment%20Report%20FINAL%20JULY%202011.pdf ([archived](https://web.archive.org/web/20230705005935/https://www.norc.org/content/dam/norc-org/pdfs/PVS%20Assessment%20Report%20FINAL%20JULY%202011.pdf))\n",
    "\n",
    "These apply PVS to some linking task, and in doing so describe it in some detail:\n",
    "\n",
    "* Brown et al. Real-Time 2020 Administrative Record Census Simulation. 2023. https://www2.census.gov/programs-surveys/decennial/2020/program-management/evaluate-docs/EAE-2020-admin-records-experiment.pdf ([archived](https://web.archive.org/web/20230521191811/https://www2.census.gov/programs-surveys/decennial/2020/program-management/evaluate-docs/EAE-2020-admin-records-experiment.pdf))\n",
    "* Massey et al. Linking the 1940 U.S. Census with Modern Data. 2018. https://www.ncbi.nlm.nih.gov/pmc/articles/PMC6530596/ ([DOI](https://doi.org/10.1080%2F01615440.2018.1507772))\n",
    "* Luque and Wagner. Assessing Coverage and Quality of the 2007 Prototype Census Kidlink Database. 2015. https://www.census.gov/content/dam/Census/library/working-papers/2015/adrm/carra-wp-2015-07.pdf ([archived](https://web.archive.org/web/20220808205231/http://www.census.gov/content/dam/Census/library/working-papers/2015/adrm/carra-wp-2015-07.pdf))\n",
    "* Bond et al. The Nature of the Bias When Studying Only Linkable Person Records: Evidence from the American Community Survey. 2014. https://www.census.gov/content/dam/Census/library/working-papers/2014/adrm/carra-wp-2014-08.pdf ([archived](https://web.archive.org/web/20220803083857/http://www.census.gov/content/dam/Census/library/working-papers/2014/adrm/carra-wp-2014-08.pdf))\n",
    "\n",
    "Finally, this paper is about the address matching process (MAF Match) which acts as part of PVS:\n",
    "\n",
    "* Brummet. Comparison of Survey, Federal, and Commercial Address Data Quality. 2014. https://www.census.gov/content/dam/Census/library/working-papers/2014/adrm/carra-wp-2014-06.pdf ([archived](https://web.archive.org/web/20220121213358/https://www.census.gov/content/dam/Census/library/working-papers/2014/adrm/carra-wp-2014-06.pdf))\n",
    "\n",
    "All of these papers are referenced throughout this notebook (and other notebooks) by the authors' names, along with additional information like page numbers.\n",
    "All page numbers represent those of the PDF files themselves, *not* page numbers printed in the documents.\n",
    "\n",
    "## PVS overview\n",
    "\n",
    "Brown et al., p. 28:\n",
    "\n",
    "> The PVS uses probabilistic record linkage (Fellegi and Sunter, 1969) to match data from an\n",
    "    incoming file (e.g., a survey or administrative record file) to reference files containing data on\n",
    "    SSN applications from the NUMIDENT enhanced with address data obtained from other federal\n",
    "    administrative records.\n",
    "\n",
    "## Setup"
   ]
  },
  {
   "cell_type": "code",
   "execution_count": 1,
   "id": "a12f9d0e",
   "metadata": {
    "execution": {
     "iopub.execute_input": "2024-05-16T06:16:13.158268Z",
     "iopub.status.busy": "2024-05-16T06:16:13.158084Z",
     "iopub.status.idle": "2024-05-16T06:16:13.372235Z",
     "shell.execute_reply": "2024-05-16T06:16:13.370696Z"
    },
    "papermill": {
     "duration": 0.235557,
     "end_time": "2024-05-16T06:16:13.373759",
     "exception": false,
     "start_time": "2024-05-16T06:16:13.138202",
     "status": "completed"
    },
    "tags": []
   },
   "outputs": [
    {
     "data": {
      "text/plain": [
       "<dask.config.set at 0x7fae7c11a6e0>"
      ]
     },
     "execution_count": 1,
     "metadata": {},
     "output_type": "execute_result"
    }
   ],
   "source": [
    "# Query planning is now on by default, but it has some rough edges.\n",
    "# See https://github.com/dask/dask/issues/10995 for general discussion\n",
    "# and https://github.com/dask/dask-expr/issues/1066 for the particular\n",
    "# issue I ran into.\n",
    "import dask\n",
    "dask.config.set({\"dataframe.query-planning\": False})"
   ]
  },
  {
   "cell_type": "code",
   "execution_count": 2,
   "id": "f0af1f28-7e30-4860-992e-15da22f9b55f",
   "metadata": {
    "execution": {
     "iopub.execute_input": "2024-05-16T06:16:13.418531Z",
     "iopub.status.busy": "2024-05-16T06:16:13.418329Z",
     "iopub.status.idle": "2024-05-16T06:16:14.321470Z",
     "shell.execute_reply": "2024-05-16T06:16:14.319779Z"
    },
    "papermill": {
     "duration": 0.926921,
     "end_time": "2024-05-16T06:16:14.325571",
     "exception": false,
     "start_time": "2024-05-16T06:16:13.398650",
     "status": "completed"
    },
    "tags": []
   },
   "outputs": [],
   "source": [
    "import re, copy, os, time, datetime\n",
    "import pandas, numpy\n",
    "import jellyfish"
   ]
  },
  {
   "cell_type": "code",
   "execution_count": 3,
   "id": "39ce58b3-0901-420f-b6c2-2dfd85e56f78",
   "metadata": {
    "execution": {
     "iopub.execute_input": "2024-05-16T06:16:14.371541Z",
     "iopub.status.busy": "2024-05-16T06:16:14.370714Z",
     "iopub.status.idle": "2024-05-16T06:16:14.379866Z",
     "shell.execute_reply": "2024-05-16T06:16:14.377818Z"
    },
    "papermill": {
     "duration": 0.031727,
     "end_time": "2024-05-16T06:16:14.382059",
     "exception": false,
     "start_time": "2024-05-16T06:16:14.350332",
     "status": "completed"
    },
    "tags": []
   },
   "outputs": [
    {
     "name": "stdout",
     "output_type": "stream",
     "text": [
      "2024-05-15 23:16:14.373671\n"
     ]
    }
   ],
   "source": [
    "print(datetime.datetime.now())"
   ]
  },
  {
   "cell_type": "code",
   "execution_count": 4,
   "id": "10473b3a-f016-4afd-9e0e-cbaa968555e0",
   "metadata": {
    "execution": {
     "iopub.execute_input": "2024-05-16T06:16:14.425110Z",
     "iopub.status.busy": "2024-05-16T06:16:14.423860Z",
     "iopub.status.idle": "2024-05-16T06:16:14.449359Z",
     "shell.execute_reply": "2024-05-16T06:16:14.447781Z"
    },
    "papermill": {
     "duration": 0.049704,
     "end_time": "2024-05-16T06:16:14.452303",
     "exception": false,
     "start_time": "2024-05-16T06:16:14.402599",
     "status": "completed"
    },
    "tags": []
   },
   "outputs": [],
   "source": [
    "%load_ext autoreload\n",
    "%autoreload 1"
   ]
  },
  {
   "cell_type": "code",
   "execution_count": 5,
   "id": "fbae5f8b-f5b0-43db-907b-bdbc83a2d9c6",
   "metadata": {
    "execution": {
     "iopub.execute_input": "2024-05-16T06:16:14.499539Z",
     "iopub.status.busy": "2024-05-16T06:16:14.498882Z",
     "iopub.status.idle": "2024-05-16T06:16:14.514110Z",
     "shell.execute_reply": "2024-05-16T06:16:14.512509Z"
    },
    "papermill": {
     "duration": 0.037878,
     "end_time": "2024-05-16T06:16:14.516248",
     "exception": false,
     "start_time": "2024-05-16T06:16:14.478370",
     "status": "completed"
    },
    "tags": []
   },
   "outputs": [],
   "source": [
    "%aimport vivarium_research_prl\n",
    "from vivarium_research_prl import distributed_compute, utils"
   ]
  },
  {
   "cell_type": "code",
   "execution_count": 6,
   "id": "47bc4e2e-93cb-47f1-b4ab-fedac26382b8",
   "metadata": {
    "editable": true,
    "execution": {
     "iopub.execute_input": "2024-05-16T06:16:14.558849Z",
     "iopub.status.busy": "2024-05-16T06:16:14.558233Z",
     "iopub.status.idle": "2024-05-16T06:16:14.569136Z",
     "shell.execute_reply": "2024-05-16T06:16:14.567328Z"
    },
    "papermill": {
     "duration": 0.033241,
     "end_time": "2024-05-16T06:16:14.571345",
     "exception": false,
     "start_time": "2024-05-16T06:16:14.538104",
     "status": "completed"
    },
    "slideshow": {
     "slide_type": ""
    },
    "tags": [
     "parameters"
    ]
   },
   "outputs": [],
   "source": [
    "# DO NOT EDIT if this notebook is not called person_linkage_case_study.ipynb!\n",
    "# This notebook is designed to be run with papermill; this cell is tagged 'parameters'\n",
    "data_to_use = 'small_sample'\n",
    "input_dir = 'output/generate_simulated_data'\n",
    "output_dir = 'output'\n",
    "\n",
    "# The \"compute engine\" is what we use on the Python side\n",
    "# for our case-study-specific operations,\n",
    "# as opposed to the Splink engine\n",
    "compute_engine = 'pandas'\n",
    "# Only matter if using a distributed compute engine\n",
    "compute_engine_num_jobs = 3\n",
    "compute_engine_cpus_per_job = 2\n",
    "compute_engine_memory_per_job = \"1GB\"\n",
    "\n",
    "splink_engine = 'duckdb'\n",
    "# Only matter if using Spark\n",
    "spark_local = False\n",
    "# Only matter if using distributed (non-local) Spark\n",
    "spark_cpus_master = 2\n",
    "spark_memory_master = \"5GB\"\n",
    "spark_num_workers = 15\n",
    "spark_cpus_per_worker = 2\n",
    "spark_memory_per_worker = \"4GB\"\n",
    "spark_worker_memory_overhead_mb = 500\n",
    "\n",
    "clear_intermediate = True"
   ]
  },
  {
   "cell_type": "code",
   "execution_count": 7,
   "id": "3020a54d",
   "metadata": {
    "execution": {
     "iopub.execute_input": "2024-05-16T06:16:14.612732Z",
     "iopub.status.busy": "2024-05-16T06:16:14.612125Z",
     "iopub.status.idle": "2024-05-16T06:16:14.622855Z",
     "shell.execute_reply": "2024-05-16T06:16:14.620897Z"
    },
    "papermill": {
     "duration": 0.033477,
     "end_time": "2024-05-16T06:16:14.625215",
     "exception": false,
     "start_time": "2024-05-16T06:16:14.591738",
     "status": "completed"
    },
    "tags": [
     "injected-parameters"
    ]
   },
   "outputs": [],
   "source": [
    "# Parameters\n",
    "data_to_use = \"ri\"\n",
    "input_dir = \"/ihme/scratch/users/zmbc/person_linkage_case_study/generate_simulated_data/\"\n",
    "output_dir = \"/ihme/scratch/users/zmbc/person_linkage_case_study/results/\"\n",
    "compute_engine = \"dask\"\n",
    "compute_engine_num_jobs = 10\n",
    "compute_engine_memory_per_job = \"15GB\"\n",
    "compute_engine_cpus_per_job = 2\n",
    "splink_engine = \"spark\"\n",
    "spark_cpus_master = 10\n",
    "spark_memory_master = \"30GB\"\n",
    "spark_num_workers = 50\n",
    "spark_memory_per_worker = \"30GB\"\n",
    "spark_cpus_per_worker = 2\n",
    "spark_worker_memory_overhead_mb = 5000\n"
   ]
  },
  {
   "cell_type": "code",
   "execution_count": 8,
   "id": "cd911b83-9295-46a4-957f-7de919ce451b",
   "metadata": {
    "execution": {
     "iopub.execute_input": "2024-05-16T06:16:14.667108Z",
     "iopub.status.busy": "2024-05-16T06:16:14.666493Z",
     "iopub.status.idle": "2024-05-16T06:16:14.674385Z",
     "shell.execute_reply": "2024-05-16T06:16:14.672373Z"
    },
    "papermill": {
     "duration": 0.030565,
     "end_time": "2024-05-16T06:16:14.676670",
     "exception": false,
     "start_time": "2024-05-16T06:16:14.646105",
     "status": "completed"
    },
    "tags": []
   },
   "outputs": [],
   "source": [
    "# # Parameters (WIP) for an RI run\n",
    "# data_to_use = \"usa\"\n",
    "# input_dir = \"/ihme/scratch/users/zmbc/person_linkage_case_study/generate_simulated_data\"\n",
    "# output_dir = \"/ihme/scratch/users/zmbc/person_linkage_case_study/person_linkage_case_study\"\n",
    "\n",
    "# compute_engine = 'dask'\n",
    "# compute_engine_num_jobs = 10\n",
    "# compute_engine_memory_per_job = \"5GB\"\n",
    "# compute_engine_cpus_per_job = 2\n",
    "\n",
    "# splink_engine = 'spark'\n",
    "# spark_num_workers = 50\n",
    "# spark_cpus_per_worker = 2\n",
    "# spark_memory_per_worker = \"30GB\"\n",
    "# spark_worker_memory_overhead_mb = 5_000"
   ]
  },
  {
   "cell_type": "code",
   "execution_count": 9,
   "id": "94d42219-f60e-4547-8c98-2bf1b73af392",
   "metadata": {
    "execution": {
     "iopub.execute_input": "2024-05-16T06:16:14.719998Z",
     "iopub.status.busy": "2024-05-16T06:16:14.719383Z",
     "iopub.status.idle": "2024-05-16T06:16:14.727232Z",
     "shell.execute_reply": "2024-05-16T06:16:14.725334Z"
    },
    "papermill": {
     "duration": 0.031194,
     "end_time": "2024-05-16T06:16:14.729498",
     "exception": false,
     "start_time": "2024-05-16T06:16:14.698304",
     "status": "completed"
    },
    "tags": []
   },
   "outputs": [],
   "source": [
    "# # Parameters (WIP) for a full USA run\n",
    "# data_to_use = \"usa\"\n",
    "# input_dir = \"/ihme/scratch/users/zmbc/person_linkage_case_study/generate_simulated_data\"\n",
    "# output_dir = \"/ihme/scratch/users/zmbc/person_linkage_case_study/person_linkage_case_study\"\n",
    "\n",
    "# compute_engine = 'dask'\n",
    "# compute_engine_num_jobs = 50\n",
    "# compute_engine_memory_per_job = \"120GB\"\n",
    "# compute_engine_cpus_per_job = 2\n",
    "\n",
    "# splink_engine = 'spark'\n",
    "# spark_cpus_master = 10\n",
    "# spark_memory_master = \"40GB\"\n",
    "# spark_num_workers = 50\n",
    "# spark_cpus_per_worker = 2\n",
    "# spark_memory_per_worker = \"120GB\"\n",
    "# spark_worker_memory_overhead_mb = 5_000"
   ]
  },
  {
   "cell_type": "code",
   "execution_count": 10,
   "id": "5a0ba030-3ce6-489a-9659-296048287a75",
   "metadata": {
    "execution": {
     "iopub.execute_input": "2024-05-16T06:16:14.772646Z",
     "iopub.status.busy": "2024-05-16T06:16:14.772041Z",
     "iopub.status.idle": "2024-05-16T06:16:14.779575Z",
     "shell.execute_reply": "2024-05-16T06:16:14.777944Z"
    },
    "papermill": {
     "duration": 0.031336,
     "end_time": "2024-05-16T06:16:14.781891",
     "exception": false,
     "start_time": "2024-05-16T06:16:14.750555",
     "status": "completed"
    },
    "tags": []
   },
   "outputs": [],
   "source": [
    "output_dir = f'{output_dir}/{data_to_use}'"
   ]
  },
  {
   "cell_type": "code",
   "execution_count": 11,
   "id": "da04a59b-ed5b-43b9-a7b0-7e763e20be11",
   "metadata": {
    "execution": {
     "iopub.execute_input": "2024-05-16T06:16:14.871875Z",
     "iopub.status.busy": "2024-05-16T06:16:14.871544Z",
     "iopub.status.idle": "2024-05-16T06:17:28.727534Z",
     "shell.execute_reply": "2024-05-16T06:17:28.725893Z"
    },
    "papermill": {
     "duration": 73.879328,
     "end_time": "2024-05-16T06:17:28.731423",
     "exception": false,
     "start_time": "2024-05-16T06:16:14.852095",
     "status": "completed"
    },
    "tags": []
   },
   "outputs": [
    {
     "data": {
      "text/html": [
       "<div>\n",
       "    <div style=\"width: 24px; height: 24px; background-color: #e1e1e1; border: 3px solid #9D9D9D; border-radius: 5px; position: absolute;\"> </div>\n",
       "    <div style=\"margin-left: 48px;\">\n",
       "        <h3 style=\"margin-bottom: 0px;\">Client</h3>\n",
       "        <p style=\"color: #9D9D9D; margin-bottom: 0px;\">Client-f842a526-134b-11ef-8a4d-2e739f860551</p>\n",
       "        <table style=\"width: 100%; text-align: left;\">\n",
       "\n",
       "        <tr>\n",
       "        \n",
       "            <td style=\"text-align: left;\"><strong>Connection method:</strong> Cluster object</td>\n",
       "            <td style=\"text-align: left;\"><strong>Cluster type:</strong> dask_jobqueue.SLURMCluster</td>\n",
       "        \n",
       "        </tr>\n",
       "\n",
       "        \n",
       "            <tr>\n",
       "                <td style=\"text-align: left;\">\n",
       "                    <strong>Dashboard: </strong> <a href=\"http://10.158.111.9:8787/status\" target=\"_blank\">http://10.158.111.9:8787/status</a>\n",
       "                </td>\n",
       "                <td style=\"text-align: left;\"></td>\n",
       "            </tr>\n",
       "        \n",
       "\n",
       "        </table>\n",
       "\n",
       "        \n",
       "\n",
       "        \n",
       "            <details>\n",
       "            <summary style=\"margin-bottom: 20px;\"><h3 style=\"display: inline;\">Cluster Info</h3></summary>\n",
       "            <div class=\"jp-RenderedHTMLCommon jp-RenderedHTML jp-mod-trusted jp-OutputArea-output\">\n",
       "    <div style=\"width: 24px; height: 24px; background-color: #e1e1e1; border: 3px solid #9D9D9D; border-radius: 5px; position: absolute;\">\n",
       "    </div>\n",
       "    <div style=\"margin-left: 48px;\">\n",
       "        <h3 style=\"margin-bottom: 0px; margin-top: 0px;\">SLURMCluster</h3>\n",
       "        <p style=\"color: #9D9D9D; margin-bottom: 0px;\">030b26ee</p>\n",
       "        <table style=\"width: 100%; text-align: left;\">\n",
       "            <tr>\n",
       "                <td style=\"text-align: left;\">\n",
       "                    <strong>Dashboard:</strong> <a href=\"http://10.158.111.9:8787/status\" target=\"_blank\">http://10.158.111.9:8787/status</a>\n",
       "                </td>\n",
       "                <td style=\"text-align: left;\">\n",
       "                    <strong>Workers:</strong> 10\n",
       "                </td>\n",
       "            </tr>\n",
       "            <tr>\n",
       "                <td style=\"text-align: left;\">\n",
       "                    <strong>Total threads:</strong> 10\n",
       "                </td>\n",
       "                <td style=\"text-align: left;\">\n",
       "                    <strong>Total memory:</strong> 139.70 GiB\n",
       "                </td>\n",
       "            </tr>\n",
       "            \n",
       "        </table>\n",
       "\n",
       "        <details>\n",
       "            <summary style=\"margin-bottom: 20px;\">\n",
       "                <h3 style=\"display: inline;\">Scheduler Info</h3>\n",
       "            </summary>\n",
       "\n",
       "            <div style=\"\">\n",
       "    <div>\n",
       "        <div style=\"width: 24px; height: 24px; background-color: #FFF7E5; border: 3px solid #FF6132; border-radius: 5px; position: absolute;\"> </div>\n",
       "        <div style=\"margin-left: 48px;\">\n",
       "            <h3 style=\"margin-bottom: 0px;\">Scheduler</h3>\n",
       "            <p style=\"color: #9D9D9D; margin-bottom: 0px;\">Scheduler-3d3ddeb6-e3ce-4cbd-86be-b363392994c9</p>\n",
       "            <table style=\"width: 100%; text-align: left;\">\n",
       "                <tr>\n",
       "                    <td style=\"text-align: left;\">\n",
       "                        <strong>Comm:</strong> tcp://10.158.111.9:43149\n",
       "                    </td>\n",
       "                    <td style=\"text-align: left;\">\n",
       "                        <strong>Workers:</strong> 10\n",
       "                    </td>\n",
       "                </tr>\n",
       "                <tr>\n",
       "                    <td style=\"text-align: left;\">\n",
       "                        <strong>Dashboard:</strong> <a href=\"http://10.158.111.9:8787/status\" target=\"_blank\">http://10.158.111.9:8787/status</a>\n",
       "                    </td>\n",
       "                    <td style=\"text-align: left;\">\n",
       "                        <strong>Total threads:</strong> 10\n",
       "                    </td>\n",
       "                </tr>\n",
       "                <tr>\n",
       "                    <td style=\"text-align: left;\">\n",
       "                        <strong>Started:</strong> 1 minute ago\n",
       "                    </td>\n",
       "                    <td style=\"text-align: left;\">\n",
       "                        <strong>Total memory:</strong> 139.70 GiB\n",
       "                    </td>\n",
       "                </tr>\n",
       "            </table>\n",
       "        </div>\n",
       "    </div>\n",
       "\n",
       "    <details style=\"margin-left: 48px;\">\n",
       "        <summary style=\"margin-bottom: 20px;\">\n",
       "            <h3 style=\"display: inline;\">Workers</h3>\n",
       "        </summary>\n",
       "\n",
       "        \n",
       "        <div style=\"margin-bottom: 20px;\">\n",
       "            <div style=\"width: 24px; height: 24px; background-color: #DBF5FF; border: 3px solid #4CC9FF; border-radius: 5px; position: absolute;\"> </div>\n",
       "            <div style=\"margin-left: 48px;\">\n",
       "            <details>\n",
       "                <summary>\n",
       "                    <h4 style=\"margin-bottom: 0px; display: inline;\">Worker: SLURMCluster-0</h4>\n",
       "                </summary>\n",
       "                <table style=\"width: 100%; text-align: left;\">\n",
       "                    <tr>\n",
       "                        <td style=\"text-align: left;\">\n",
       "                            <strong>Comm: </strong> tcp://10.158.148.23:45095\n",
       "                        </td>\n",
       "                        <td style=\"text-align: left;\">\n",
       "                            <strong>Total threads: </strong> 1\n",
       "                        </td>\n",
       "                    </tr>\n",
       "                    <tr>\n",
       "                        <td style=\"text-align: left;\">\n",
       "                            <strong>Dashboard: </strong> <a href=\"http://10.158.148.23:43047/status\" target=\"_blank\">http://10.158.148.23:43047/status</a>\n",
       "                        </td>\n",
       "                        <td style=\"text-align: left;\">\n",
       "                            <strong>Memory: </strong> 13.97 GiB\n",
       "                        </td>\n",
       "                    </tr>\n",
       "                    <tr>\n",
       "                        <td style=\"text-align: left;\">\n",
       "                            <strong>Nanny: </strong> tcp://10.158.148.23:46749\n",
       "                        </td>\n",
       "                        <td style=\"text-align: left;\"></td>\n",
       "                    </tr>\n",
       "                    <tr>\n",
       "                        <td colspan=\"2\" style=\"text-align: left;\">\n",
       "                            <strong>Local directory: </strong> /tmp/zmbc_dask/dask-scratch-space/worker-j8stsyzv\n",
       "                        </td>\n",
       "                    </tr>\n",
       "\n",
       "                    \n",
       "\n",
       "                    \n",
       "\n",
       "                </table>\n",
       "            </details>\n",
       "            </div>\n",
       "        </div>\n",
       "        \n",
       "        <div style=\"margin-bottom: 20px;\">\n",
       "            <div style=\"width: 24px; height: 24px; background-color: #DBF5FF; border: 3px solid #4CC9FF; border-radius: 5px; position: absolute;\"> </div>\n",
       "            <div style=\"margin-left: 48px;\">\n",
       "            <details>\n",
       "                <summary>\n",
       "                    <h4 style=\"margin-bottom: 0px; display: inline;\">Worker: SLURMCluster-1</h4>\n",
       "                </summary>\n",
       "                <table style=\"width: 100%; text-align: left;\">\n",
       "                    <tr>\n",
       "                        <td style=\"text-align: left;\">\n",
       "                            <strong>Comm: </strong> tcp://10.158.148.23:44373\n",
       "                        </td>\n",
       "                        <td style=\"text-align: left;\">\n",
       "                            <strong>Total threads: </strong> 1\n",
       "                        </td>\n",
       "                    </tr>\n",
       "                    <tr>\n",
       "                        <td style=\"text-align: left;\">\n",
       "                            <strong>Dashboard: </strong> <a href=\"http://10.158.148.23:38981/status\" target=\"_blank\">http://10.158.148.23:38981/status</a>\n",
       "                        </td>\n",
       "                        <td style=\"text-align: left;\">\n",
       "                            <strong>Memory: </strong> 13.97 GiB\n",
       "                        </td>\n",
       "                    </tr>\n",
       "                    <tr>\n",
       "                        <td style=\"text-align: left;\">\n",
       "                            <strong>Nanny: </strong> tcp://10.158.148.23:35779\n",
       "                        </td>\n",
       "                        <td style=\"text-align: left;\"></td>\n",
       "                    </tr>\n",
       "                    <tr>\n",
       "                        <td colspan=\"2\" style=\"text-align: left;\">\n",
       "                            <strong>Local directory: </strong> /tmp/zmbc_dask/dask-scratch-space/worker-0htihdrj\n",
       "                        </td>\n",
       "                    </tr>\n",
       "\n",
       "                    \n",
       "\n",
       "                    \n",
       "\n",
       "                </table>\n",
       "            </details>\n",
       "            </div>\n",
       "        </div>\n",
       "        \n",
       "        <div style=\"margin-bottom: 20px;\">\n",
       "            <div style=\"width: 24px; height: 24px; background-color: #DBF5FF; border: 3px solid #4CC9FF; border-radius: 5px; position: absolute;\"> </div>\n",
       "            <div style=\"margin-left: 48px;\">\n",
       "            <details>\n",
       "                <summary>\n",
       "                    <h4 style=\"margin-bottom: 0px; display: inline;\">Worker: SLURMCluster-2</h4>\n",
       "                </summary>\n",
       "                <table style=\"width: 100%; text-align: left;\">\n",
       "                    <tr>\n",
       "                        <td style=\"text-align: left;\">\n",
       "                            <strong>Comm: </strong> tcp://10.158.148.23:44825\n",
       "                        </td>\n",
       "                        <td style=\"text-align: left;\">\n",
       "                            <strong>Total threads: </strong> 1\n",
       "                        </td>\n",
       "                    </tr>\n",
       "                    <tr>\n",
       "                        <td style=\"text-align: left;\">\n",
       "                            <strong>Dashboard: </strong> <a href=\"http://10.158.148.23:39775/status\" target=\"_blank\">http://10.158.148.23:39775/status</a>\n",
       "                        </td>\n",
       "                        <td style=\"text-align: left;\">\n",
       "                            <strong>Memory: </strong> 13.97 GiB\n",
       "                        </td>\n",
       "                    </tr>\n",
       "                    <tr>\n",
       "                        <td style=\"text-align: left;\">\n",
       "                            <strong>Nanny: </strong> tcp://10.158.148.23:38979\n",
       "                        </td>\n",
       "                        <td style=\"text-align: left;\"></td>\n",
       "                    </tr>\n",
       "                    <tr>\n",
       "                        <td colspan=\"2\" style=\"text-align: left;\">\n",
       "                            <strong>Local directory: </strong> /tmp/zmbc_dask/dask-scratch-space/worker-m4r0uptm\n",
       "                        </td>\n",
       "                    </tr>\n",
       "\n",
       "                    \n",
       "\n",
       "                    \n",
       "\n",
       "                </table>\n",
       "            </details>\n",
       "            </div>\n",
       "        </div>\n",
       "        \n",
       "        <div style=\"margin-bottom: 20px;\">\n",
       "            <div style=\"width: 24px; height: 24px; background-color: #DBF5FF; border: 3px solid #4CC9FF; border-radius: 5px; position: absolute;\"> </div>\n",
       "            <div style=\"margin-left: 48px;\">\n",
       "            <details>\n",
       "                <summary>\n",
       "                    <h4 style=\"margin-bottom: 0px; display: inline;\">Worker: SLURMCluster-3</h4>\n",
       "                </summary>\n",
       "                <table style=\"width: 100%; text-align: left;\">\n",
       "                    <tr>\n",
       "                        <td style=\"text-align: left;\">\n",
       "                            <strong>Comm: </strong> tcp://10.158.148.23:34687\n",
       "                        </td>\n",
       "                        <td style=\"text-align: left;\">\n",
       "                            <strong>Total threads: </strong> 1\n",
       "                        </td>\n",
       "                    </tr>\n",
       "                    <tr>\n",
       "                        <td style=\"text-align: left;\">\n",
       "                            <strong>Dashboard: </strong> <a href=\"http://10.158.148.23:43331/status\" target=\"_blank\">http://10.158.148.23:43331/status</a>\n",
       "                        </td>\n",
       "                        <td style=\"text-align: left;\">\n",
       "                            <strong>Memory: </strong> 13.97 GiB\n",
       "                        </td>\n",
       "                    </tr>\n",
       "                    <tr>\n",
       "                        <td style=\"text-align: left;\">\n",
       "                            <strong>Nanny: </strong> tcp://10.158.148.23:39971\n",
       "                        </td>\n",
       "                        <td style=\"text-align: left;\"></td>\n",
       "                    </tr>\n",
       "                    <tr>\n",
       "                        <td colspan=\"2\" style=\"text-align: left;\">\n",
       "                            <strong>Local directory: </strong> /tmp/zmbc_dask/dask-scratch-space/worker-vn7na37g\n",
       "                        </td>\n",
       "                    </tr>\n",
       "\n",
       "                    \n",
       "\n",
       "                    \n",
       "\n",
       "                </table>\n",
       "            </details>\n",
       "            </div>\n",
       "        </div>\n",
       "        \n",
       "        <div style=\"margin-bottom: 20px;\">\n",
       "            <div style=\"width: 24px; height: 24px; background-color: #DBF5FF; border: 3px solid #4CC9FF; border-radius: 5px; position: absolute;\"> </div>\n",
       "            <div style=\"margin-left: 48px;\">\n",
       "            <details>\n",
       "                <summary>\n",
       "                    <h4 style=\"margin-bottom: 0px; display: inline;\">Worker: SLURMCluster-4</h4>\n",
       "                </summary>\n",
       "                <table style=\"width: 100%; text-align: left;\">\n",
       "                    <tr>\n",
       "                        <td style=\"text-align: left;\">\n",
       "                            <strong>Comm: </strong> tcp://10.158.148.23:45459\n",
       "                        </td>\n",
       "                        <td style=\"text-align: left;\">\n",
       "                            <strong>Total threads: </strong> 1\n",
       "                        </td>\n",
       "                    </tr>\n",
       "                    <tr>\n",
       "                        <td style=\"text-align: left;\">\n",
       "                            <strong>Dashboard: </strong> <a href=\"http://10.158.148.23:34025/status\" target=\"_blank\">http://10.158.148.23:34025/status</a>\n",
       "                        </td>\n",
       "                        <td style=\"text-align: left;\">\n",
       "                            <strong>Memory: </strong> 13.97 GiB\n",
       "                        </td>\n",
       "                    </tr>\n",
       "                    <tr>\n",
       "                        <td style=\"text-align: left;\">\n",
       "                            <strong>Nanny: </strong> tcp://10.158.148.23:40201\n",
       "                        </td>\n",
       "                        <td style=\"text-align: left;\"></td>\n",
       "                    </tr>\n",
       "                    <tr>\n",
       "                        <td colspan=\"2\" style=\"text-align: left;\">\n",
       "                            <strong>Local directory: </strong> /tmp/zmbc_dask/dask-scratch-space/worker-36d1tag9\n",
       "                        </td>\n",
       "                    </tr>\n",
       "\n",
       "                    \n",
       "\n",
       "                    \n",
       "\n",
       "                </table>\n",
       "            </details>\n",
       "            </div>\n",
       "        </div>\n",
       "        \n",
       "        <div style=\"margin-bottom: 20px;\">\n",
       "            <div style=\"width: 24px; height: 24px; background-color: #DBF5FF; border: 3px solid #4CC9FF; border-radius: 5px; position: absolute;\"> </div>\n",
       "            <div style=\"margin-left: 48px;\">\n",
       "            <details>\n",
       "                <summary>\n",
       "                    <h4 style=\"margin-bottom: 0px; display: inline;\">Worker: SLURMCluster-5</h4>\n",
       "                </summary>\n",
       "                <table style=\"width: 100%; text-align: left;\">\n",
       "                    <tr>\n",
       "                        <td style=\"text-align: left;\">\n",
       "                            <strong>Comm: </strong> tcp://10.158.148.23:37825\n",
       "                        </td>\n",
       "                        <td style=\"text-align: left;\">\n",
       "                            <strong>Total threads: </strong> 1\n",
       "                        </td>\n",
       "                    </tr>\n",
       "                    <tr>\n",
       "                        <td style=\"text-align: left;\">\n",
       "                            <strong>Dashboard: </strong> <a href=\"http://10.158.148.23:37411/status\" target=\"_blank\">http://10.158.148.23:37411/status</a>\n",
       "                        </td>\n",
       "                        <td style=\"text-align: left;\">\n",
       "                            <strong>Memory: </strong> 13.97 GiB\n",
       "                        </td>\n",
       "                    </tr>\n",
       "                    <tr>\n",
       "                        <td style=\"text-align: left;\">\n",
       "                            <strong>Nanny: </strong> tcp://10.158.148.23:41085\n",
       "                        </td>\n",
       "                        <td style=\"text-align: left;\"></td>\n",
       "                    </tr>\n",
       "                    <tr>\n",
       "                        <td colspan=\"2\" style=\"text-align: left;\">\n",
       "                            <strong>Local directory: </strong> /tmp/zmbc_dask/dask-scratch-space/worker-h4zjrpcm\n",
       "                        </td>\n",
       "                    </tr>\n",
       "\n",
       "                    \n",
       "\n",
       "                    \n",
       "\n",
       "                </table>\n",
       "            </details>\n",
       "            </div>\n",
       "        </div>\n",
       "        \n",
       "        <div style=\"margin-bottom: 20px;\">\n",
       "            <div style=\"width: 24px; height: 24px; background-color: #DBF5FF; border: 3px solid #4CC9FF; border-radius: 5px; position: absolute;\"> </div>\n",
       "            <div style=\"margin-left: 48px;\">\n",
       "            <details>\n",
       "                <summary>\n",
       "                    <h4 style=\"margin-bottom: 0px; display: inline;\">Worker: SLURMCluster-6</h4>\n",
       "                </summary>\n",
       "                <table style=\"width: 100%; text-align: left;\">\n",
       "                    <tr>\n",
       "                        <td style=\"text-align: left;\">\n",
       "                            <strong>Comm: </strong> tcp://10.158.148.23:36543\n",
       "                        </td>\n",
       "                        <td style=\"text-align: left;\">\n",
       "                            <strong>Total threads: </strong> 1\n",
       "                        </td>\n",
       "                    </tr>\n",
       "                    <tr>\n",
       "                        <td style=\"text-align: left;\">\n",
       "                            <strong>Dashboard: </strong> <a href=\"http://10.158.148.23:32799/status\" target=\"_blank\">http://10.158.148.23:32799/status</a>\n",
       "                        </td>\n",
       "                        <td style=\"text-align: left;\">\n",
       "                            <strong>Memory: </strong> 13.97 GiB\n",
       "                        </td>\n",
       "                    </tr>\n",
       "                    <tr>\n",
       "                        <td style=\"text-align: left;\">\n",
       "                            <strong>Nanny: </strong> tcp://10.158.148.23:45087\n",
       "                        </td>\n",
       "                        <td style=\"text-align: left;\"></td>\n",
       "                    </tr>\n",
       "                    <tr>\n",
       "                        <td colspan=\"2\" style=\"text-align: left;\">\n",
       "                            <strong>Local directory: </strong> /tmp/zmbc_dask/dask-scratch-space/worker-4gkj37bu\n",
       "                        </td>\n",
       "                    </tr>\n",
       "\n",
       "                    \n",
       "\n",
       "                    \n",
       "\n",
       "                </table>\n",
       "            </details>\n",
       "            </div>\n",
       "        </div>\n",
       "        \n",
       "        <div style=\"margin-bottom: 20px;\">\n",
       "            <div style=\"width: 24px; height: 24px; background-color: #DBF5FF; border: 3px solid #4CC9FF; border-radius: 5px; position: absolute;\"> </div>\n",
       "            <div style=\"margin-left: 48px;\">\n",
       "            <details>\n",
       "                <summary>\n",
       "                    <h4 style=\"margin-bottom: 0px; display: inline;\">Worker: SLURMCluster-7</h4>\n",
       "                </summary>\n",
       "                <table style=\"width: 100%; text-align: left;\">\n",
       "                    <tr>\n",
       "                        <td style=\"text-align: left;\">\n",
       "                            <strong>Comm: </strong> tcp://10.158.148.23:33733\n",
       "                        </td>\n",
       "                        <td style=\"text-align: left;\">\n",
       "                            <strong>Total threads: </strong> 1\n",
       "                        </td>\n",
       "                    </tr>\n",
       "                    <tr>\n",
       "                        <td style=\"text-align: left;\">\n",
       "                            <strong>Dashboard: </strong> <a href=\"http://10.158.148.23:34219/status\" target=\"_blank\">http://10.158.148.23:34219/status</a>\n",
       "                        </td>\n",
       "                        <td style=\"text-align: left;\">\n",
       "                            <strong>Memory: </strong> 13.97 GiB\n",
       "                        </td>\n",
       "                    </tr>\n",
       "                    <tr>\n",
       "                        <td style=\"text-align: left;\">\n",
       "                            <strong>Nanny: </strong> tcp://10.158.148.23:39917\n",
       "                        </td>\n",
       "                        <td style=\"text-align: left;\"></td>\n",
       "                    </tr>\n",
       "                    <tr>\n",
       "                        <td colspan=\"2\" style=\"text-align: left;\">\n",
       "                            <strong>Local directory: </strong> /tmp/zmbc_dask/dask-scratch-space/worker-6ko4mv2n\n",
       "                        </td>\n",
       "                    </tr>\n",
       "\n",
       "                    \n",
       "\n",
       "                    \n",
       "\n",
       "                </table>\n",
       "            </details>\n",
       "            </div>\n",
       "        </div>\n",
       "        \n",
       "        <div style=\"margin-bottom: 20px;\">\n",
       "            <div style=\"width: 24px; height: 24px; background-color: #DBF5FF; border: 3px solid #4CC9FF; border-radius: 5px; position: absolute;\"> </div>\n",
       "            <div style=\"margin-left: 48px;\">\n",
       "            <details>\n",
       "                <summary>\n",
       "                    <h4 style=\"margin-bottom: 0px; display: inline;\">Worker: SLURMCluster-8</h4>\n",
       "                </summary>\n",
       "                <table style=\"width: 100%; text-align: left;\">\n",
       "                    <tr>\n",
       "                        <td style=\"text-align: left;\">\n",
       "                            <strong>Comm: </strong> tcp://10.158.148.23:45461\n",
       "                        </td>\n",
       "                        <td style=\"text-align: left;\">\n",
       "                            <strong>Total threads: </strong> 1\n",
       "                        </td>\n",
       "                    </tr>\n",
       "                    <tr>\n",
       "                        <td style=\"text-align: left;\">\n",
       "                            <strong>Dashboard: </strong> <a href=\"http://10.158.148.23:34181/status\" target=\"_blank\">http://10.158.148.23:34181/status</a>\n",
       "                        </td>\n",
       "                        <td style=\"text-align: left;\">\n",
       "                            <strong>Memory: </strong> 13.97 GiB\n",
       "                        </td>\n",
       "                    </tr>\n",
       "                    <tr>\n",
       "                        <td style=\"text-align: left;\">\n",
       "                            <strong>Nanny: </strong> tcp://10.158.148.23:46117\n",
       "                        </td>\n",
       "                        <td style=\"text-align: left;\"></td>\n",
       "                    </tr>\n",
       "                    <tr>\n",
       "                        <td colspan=\"2\" style=\"text-align: left;\">\n",
       "                            <strong>Local directory: </strong> /tmp/zmbc_dask/dask-scratch-space/worker-7tqs9_11\n",
       "                        </td>\n",
       "                    </tr>\n",
       "\n",
       "                    \n",
       "\n",
       "                    \n",
       "\n",
       "                </table>\n",
       "            </details>\n",
       "            </div>\n",
       "        </div>\n",
       "        \n",
       "        <div style=\"margin-bottom: 20px;\">\n",
       "            <div style=\"width: 24px; height: 24px; background-color: #DBF5FF; border: 3px solid #4CC9FF; border-radius: 5px; position: absolute;\"> </div>\n",
       "            <div style=\"margin-left: 48px;\">\n",
       "            <details>\n",
       "                <summary>\n",
       "                    <h4 style=\"margin-bottom: 0px; display: inline;\">Worker: SLURMCluster-9</h4>\n",
       "                </summary>\n",
       "                <table style=\"width: 100%; text-align: left;\">\n",
       "                    <tr>\n",
       "                        <td style=\"text-align: left;\">\n",
       "                            <strong>Comm: </strong> tcp://10.158.148.23:38145\n",
       "                        </td>\n",
       "                        <td style=\"text-align: left;\">\n",
       "                            <strong>Total threads: </strong> 1\n",
       "                        </td>\n",
       "                    </tr>\n",
       "                    <tr>\n",
       "                        <td style=\"text-align: left;\">\n",
       "                            <strong>Dashboard: </strong> <a href=\"http://10.158.148.23:43159/status\" target=\"_blank\">http://10.158.148.23:43159/status</a>\n",
       "                        </td>\n",
       "                        <td style=\"text-align: left;\">\n",
       "                            <strong>Memory: </strong> 13.97 GiB\n",
       "                        </td>\n",
       "                    </tr>\n",
       "                    <tr>\n",
       "                        <td style=\"text-align: left;\">\n",
       "                            <strong>Nanny: </strong> tcp://10.158.148.23:39475\n",
       "                        </td>\n",
       "                        <td style=\"text-align: left;\"></td>\n",
       "                    </tr>\n",
       "                    <tr>\n",
       "                        <td colspan=\"2\" style=\"text-align: left;\">\n",
       "                            <strong>Local directory: </strong> /tmp/zmbc_dask/dask-scratch-space/worker-g30qvtts\n",
       "                        </td>\n",
       "                    </tr>\n",
       "\n",
       "                    \n",
       "\n",
       "                    \n",
       "\n",
       "                </table>\n",
       "            </details>\n",
       "            </div>\n",
       "        </div>\n",
       "        \n",
       "\n",
       "    </details>\n",
       "</div>\n",
       "\n",
       "        </details>\n",
       "    </div>\n",
       "</div>\n",
       "            </details>\n",
       "        \n",
       "\n",
       "    </div>\n",
       "</div>"
      ],
      "text/plain": [
       "<Client: 'tcp://10.158.111.9:43149' processes=10 threads=10, memory=139.70 GiB>"
      ]
     },
     "metadata": {},
     "output_type": "display_data"
    }
   ],
   "source": [
    "df_ops, pd = distributed_compute.start_compute_engine(\n",
    "    compute_engine,\n",
    "    num_jobs=compute_engine_num_jobs,\n",
    "    cpus_per_job=compute_engine_cpus_per_job,\n",
    "    memory_per_job=compute_engine_memory_per_job,\n",
    ")"
   ]
  },
  {
   "cell_type": "code",
   "execution_count": null,
   "id": "65ab2072-f46d-49eb-a4d1-a89a30f1de36",
   "metadata": {
    "papermill": {
     "duration": 0.020366,
     "end_time": "2024-05-16T06:17:28.777348",
     "exception": false,
     "start_time": "2024-05-16T06:17:28.756982",
     "status": "completed"
    },
    "tags": []
   },
   "outputs": [],
   "source": []
  },
  {
   "cell_type": "code",
   "execution_count": 12,
   "id": "4efdd565-6ae1-4bf9-b124-8e3d05d90143",
   "metadata": {
    "execution": {
     "iopub.execute_input": "2024-05-16T06:17:28.816658Z",
     "iopub.status.busy": "2024-05-16T06:17:28.815510Z",
     "iopub.status.idle": "2024-05-16T06:17:29.025429Z",
     "shell.execute_reply": "2024-05-16T06:17:29.024065Z"
    },
    "papermill": {
     "duration": 0.23372,
     "end_time": "2024-05-16T06:17:29.029219",
     "exception": false,
     "start_time": "2024-05-16T06:17:28.795499",
     "status": "completed"
    },
    "tags": []
   },
   "outputs": [],
   "source": [
    "import pathlib\n",
    "pwd = os.getcwd()\n",
    "slurm_output_dir = f\"{output_dir}/slurm_output\"\n",
    "if clear_intermediate:\n",
    "    utils.ensure_empty(slurm_output_dir)"
   ]
  },
  {
   "cell_type": "code",
   "execution_count": 13,
   "id": "152189c1-e987-4000-b386-684d0938737c",
   "metadata": {
    "execution": {
     "iopub.execute_input": "2024-05-16T06:17:29.074660Z",
     "iopub.status.busy": "2024-05-16T06:17:29.073920Z",
     "iopub.status.idle": "2024-05-16T06:17:29.163297Z",
     "shell.execute_reply": "2024-05-16T06:17:29.162873Z"
    },
    "papermill": {
     "duration": 0.112781,
     "end_time": "2024-05-16T06:17:29.166764",
     "exception": false,
     "start_time": "2024-05-16T06:17:29.053983",
     "status": "completed"
    },
    "tags": []
   },
   "outputs": [],
   "source": [
    "import requests"
   ]
  },
  {
   "cell_type": "code",
   "execution_count": 14,
   "id": "7eccb943-b21f-46ed-a22f-2c200cd83a36",
   "metadata": {
    "execution": {
     "iopub.execute_input": "2024-05-16T06:17:29.213783Z",
     "iopub.status.busy": "2024-05-16T06:17:29.213083Z",
     "iopub.status.idle": "2024-05-16T06:17:29.223206Z",
     "shell.execute_reply": "2024-05-16T06:17:29.222126Z"
    },
    "papermill": {
     "duration": 0.031436,
     "end_time": "2024-05-16T06:17:29.224819",
     "exception": false,
     "start_time": "2024-05-16T06:17:29.193383",
     "status": "completed"
    },
    "tags": []
   },
   "outputs": [],
   "source": [
    "if spark_memory_per_worker.endswith('G') or spark_memory_per_worker.endswith('GB'):\n",
    "    spark_memory_per_worker = int(re.search(r'(\\d+)GB?', spark_memory_per_worker).group(1)) * 1_000\n",
    "elif spark_memory_per_worker.endswith('M') or spark_memory_per_worker.endswith('MB'):\n",
    "    spark_memory_per_worker = int(re.search(r'(\\d+)MB?', spark_memory_per_worker).group(1))\n",
    "else:\n",
    "    raise ValueError()"
   ]
  },
  {
   "cell_type": "code",
   "execution_count": 15,
   "id": "3c6ca817-6be3-49ff-89fb-6fc6647f9500",
   "metadata": {
    "editable": true,
    "execution": {
     "iopub.execute_input": "2024-05-16T06:17:29.266005Z",
     "iopub.status.busy": "2024-05-16T06:17:29.265288Z",
     "iopub.status.idle": "2024-05-16T06:19:49.974158Z",
     "shell.execute_reply": "2024-05-16T06:19:49.966680Z"
    },
    "papermill": {
     "duration": 140.750779,
     "end_time": "2024-05-16T06:19:49.995902",
     "exception": false,
     "start_time": "2024-05-16T06:17:29.245123",
     "status": "completed"
    },
    "slideshow": {
     "slide_type": ""
    },
    "tags": []
   },
   "outputs": [
    {
     "name": "stdout",
     "output_type": "stream",
     "text": [
      "Starting Spark master\n"
     ]
    },
    {
     "name": "stdout",
     "output_type": "stream",
     "text": [
      "Got Spark master URL: spark://long-slurm-sarchive-p0072.cluster.ihme.washington.edu:28508\n",
      "24/05/16 06:18:27 INFO MasterWebUI: Bound MasterWebUI to 0.0.0.0, and started at http://long-slurm-sarchive-p0072.cluster.ihme.washington.edu:28509\n",
      "Starting Spark workers\n"
     ]
    },
    {
     "name": "stdout",
     "output_type": "stream",
     "text": [
      "24/05/16 06:19:26 INFO Worker: Starting Spark worker 10.158.148.23:34767 with 1 cores, 29.3 GiB RAM\n",
      "24/05/16 06:19:26 INFO WorkerWebUI: Bound WorkerWebUI to 0.0.0.0, and started at http://long-slurm-sarchive-p0072.cluster.ihme.washington.edu:28511\n",
      "24/05/16 06:19:24 INFO Worker: Starting Spark worker 10.158.148.142:40993 with 1 cores, 29.3 GiB RAM\n",
      "24/05/16 06:19:24 INFO WorkerWebUI: Bound WorkerWebUI to 0.0.0.0, and started at http://long-slurm-sarchive-p0003.cluster.ihme.washington.edu:28512\n",
      "24/05/16 06:19:24 INFO Worker: Starting Spark worker 10.158.148.142:37379 with 1 cores, 29.3 GiB RAM\n",
      "24/05/16 06:19:24 INFO WorkerWebUI: Bound WorkerWebUI to 0.0.0.0, and started at http://long-slurm-sarchive-p0003.cluster.ihme.washington.edu:28511\n",
      "24/05/16 06:19:24 INFO Worker: Starting Spark worker 10.158.148.142:38877 with 1 cores, 29.3 GiB RAM\n",
      "24/05/16 06:19:24 INFO WorkerWebUI: Bound WorkerWebUI to 0.0.0.0, and started at http://long-slurm-sarchive-p0003.cluster.ihme.washington.edu:28510\n",
      "24/05/16 06:19:25 INFO Worker: Starting Spark worker 10.158.148.142:44287 with 1 cores, 29.3 GiB RAM\n",
      "24/05/16 06:19:25 INFO WorkerWebUI: Bound WorkerWebUI to 0.0.0.0, and started at http://long-slurm-sarchive-p0003.cluster.ihme.washington.edu:28514\n",
      "24/05/16 06:19:25 INFO Worker: Starting Spark worker 10.158.148.142:41435 with 1 cores, 29.3 GiB RAM\n",
      "24/05/16 06:19:25 INFO WorkerWebUI: Bound WorkerWebUI to 0.0.0.0, and started at http://long-slurm-sarchive-p0003.cluster.ihme.washington.edu:28513\n",
      "24/05/16 06:19:24 INFO Worker: Starting Spark worker 10.158.148.174:43289 with 1 cores, 29.3 GiB RAM\n",
      "24/05/16 06:19:24 INFO WorkerWebUI: Bound WorkerWebUI to 0.0.0.0, and started at http://long-slurm-sarchive-p0001.cluster.ihme.washington.edu:28510\n",
      "24/05/16 06:19:24 INFO Worker: Starting Spark worker 10.158.148.174:37631 with 1 cores, 29.3 GiB RAM\n",
      "24/05/16 06:19:24 INFO WorkerWebUI: Bound WorkerWebUI to 0.0.0.0, and started at http://long-slurm-sarchive-p0001.cluster.ihme.washington.edu:28512\n",
      "24/05/16 06:19:24 INFO Worker: Starting Spark worker 10.158.148.174:37587 with 1 cores, 29.3 GiB RAM\n",
      "24/05/16 06:19:24 INFO WorkerWebUI: Bound WorkerWebUI to 0.0.0.0, and started at http://long-slurm-sarchive-p0001.cluster.ihme.washington.edu:28513\n",
      "24/05/16 06:19:24 INFO Worker: Starting Spark worker 10.158.148.174:43507 with 1 cores, 29.3 GiB RAM\n",
      "24/05/16 06:19:24 INFO WorkerWebUI: Bound WorkerWebUI to 0.0.0.0, and started at http://long-slurm-sarchive-p0001.cluster.ihme.washington.edu:28511\n",
      "24/05/16 06:19:23 INFO Worker: Starting Spark worker 10.158.148.167:36915 with 1 cores, 29.3 GiB RAM\n",
      "24/05/16 06:19:24 INFO WorkerWebUI: Bound WorkerWebUI to 0.0.0.0, and started at http://long-slurm-sarchive-p0002.cluster.ihme.washington.edu:28510\n",
      "24/05/16 06:19:26 INFO Worker: Starting Spark worker 10.158.148.23:42867 with 1 cores, 29.3 GiB RAM\n",
      "24/05/16 06:19:26 INFO WorkerWebUI: Bound WorkerWebUI to 0.0.0.0, and started at http://long-slurm-sarchive-p0072.cluster.ihme.washington.edu:28512\n",
      "24/05/16 06:19:24 INFO Worker: Starting Spark worker 10.158.148.167:38181 with 1 cores, 29.3 GiB RAM\n",
      "24/05/16 06:19:24 INFO WorkerWebUI: Bound WorkerWebUI to 0.0.0.0, and started at http://long-slurm-sarchive-p0002.cluster.ihme.washington.edu:28511\n",
      "24/05/16 06:19:24 INFO Worker: Starting Spark worker 10.158.148.167:37121 with 1 cores, 29.3 GiB RAM\n",
      "24/05/16 06:19:24 INFO WorkerWebUI: Bound WorkerWebUI to 0.0.0.0, and started at http://long-slurm-sarchive-p0002.cluster.ihme.washington.edu:28512\n",
      "24/05/16 06:19:26 INFO Worker: Starting Spark worker 10.158.148.240:41753 with 1 cores, 29.3 GiB RAM\n",
      "24/05/16 06:19:27 INFO WorkerWebUI: Bound WorkerWebUI to 0.0.0.0, and started at http://long-slurm-sarchive-p0006.cluster.ihme.washington.edu:28516\n",
      "24/05/16 06:19:26 INFO Worker: Starting Spark worker 10.158.148.240:46737 with 1 cores, 29.3 GiB RAM\n",
      "24/05/16 06:19:27 INFO WorkerWebUI: Bound WorkerWebUI to 0.0.0.0, and started at http://long-slurm-sarchive-p0006.cluster.ihme.washington.edu:28515\n",
      "24/05/16 06:19:26 INFO Worker: Starting Spark worker 10.158.148.240:40783 with 1 cores, 29.3 GiB RAM\n",
      "24/05/16 06:19:27 INFO WorkerWebUI: Bound WorkerWebUI to 0.0.0.0, and started at http://long-slurm-sarchive-p0006.cluster.ihme.washington.edu:28512\n",
      "24/05/16 06:19:26 INFO Worker: Starting Spark worker 10.158.148.240:37785 with 1 cores, 29.3 GiB RAM\n",
      "24/05/16 06:19:27 INFO WorkerWebUI: Bound WorkerWebUI to 0.0.0.0, and started at http://long-slurm-sarchive-p0006.cluster.ihme.washington.edu:28511\n",
      "24/05/16 06:19:26 INFO Worker: Starting Spark worker 10.158.148.240:39045 with 1 cores, 29.3 GiB RAM\n",
      "24/05/16 06:19:27 INFO WorkerWebUI: Bound WorkerWebUI to 0.0.0.0, and started at http://long-slurm-sarchive-p0006.cluster.ihme.washington.edu:28514\n",
      "24/05/16 06:19:26 INFO Worker: Starting Spark worker 10.158.148.240:39743 with 1 cores, 29.3 GiB RAM\n",
      "24/05/16 06:19:27 INFO WorkerWebUI: Bound WorkerWebUI to 0.0.0.0, and started at http://long-slurm-sarchive-p0006.cluster.ihme.washington.edu:28517\n",
      "24/05/16 06:19:26 INFO Worker: Starting Spark worker 10.158.148.240:39413 with 1 cores, 29.3 GiB RAM\n",
      "24/05/16 06:19:27 INFO WorkerWebUI: Bound WorkerWebUI to 0.0.0.0, and started at http://long-slurm-sarchive-p0006.cluster.ihme.washington.edu:28513\n",
      "24/05/16 06:19:26 INFO Worker: Starting Spark worker 10.158.148.240:43715 with 1 cores, 29.3 GiB RAM\n",
      "24/05/16 06:19:27 INFO WorkerWebUI: Bound WorkerWebUI to 0.0.0.0, and started at http://long-slurm-sarchive-p0006.cluster.ihme.washington.edu:28510\n",
      "24/05/16 06:19:26 INFO Worker: Starting Spark worker 10.158.148.23:42761 with 1 cores, 29.3 GiB RAM\n",
      "24/05/16 06:19:26 INFO WorkerWebUI: Bound WorkerWebUI to 0.0.0.0, and started at http://long-slurm-sarchive-p0072.cluster.ihme.washington.edu:28510\n",
      "24/05/16 06:19:24 INFO Worker: Starting Spark worker 10.158.148.235:35633 with 1 cores, 29.3 GiB RAM\n",
      "24/05/16 06:19:24 INFO WorkerWebUI: Bound WorkerWebUI to 0.0.0.0, and started at http://long-slurm-sarchive-p0005.cluster.ihme.washington.edu:28510\n",
      "24/05/16 06:19:24 INFO Worker: Starting Spark worker 10.158.148.235:44973 with 1 cores, 29.3 GiB RAM\n",
      "24/05/16 06:19:24 INFO WorkerWebUI: Bound WorkerWebUI to 0.0.0.0, and started at http://long-slurm-sarchive-p0005.cluster.ihme.washington.edu:28512\n",
      "24/05/16 06:19:24 INFO Worker: Starting Spark worker 10.158.148.235:42133 with 1 cores, 29.3 GiB RAM\n",
      "24/05/16 06:19:24 INFO WorkerWebUI: Bound WorkerWebUI to 0.0.0.0, and started at http://long-slurm-sarchive-p0005.cluster.ihme.washington.edu:28513\n",
      "24/05/16 06:19:24 INFO Worker: Starting Spark worker 10.158.148.235:44963 with 1 cores, 29.3 GiB RAM\n",
      "24/05/16 06:19:24 INFO WorkerWebUI: Bound WorkerWebUI to 0.0.0.0, and started at http://long-slurm-sarchive-p0005.cluster.ihme.washington.edu:28511\n",
      "24/05/16 06:19:25 INFO Worker: Starting Spark worker 10.158.148.230:34297 with 1 cores, 29.3 GiB RAM\n",
      "24/05/16 06:19:26 INFO WorkerWebUI: Bound WorkerWebUI to 0.0.0.0, and started at http://long-slurm-sarchive-p0007.cluster.ihme.washington.edu:28514\n",
      "24/05/16 06:19:26 INFO Worker: Starting Spark worker 10.158.148.230:46599 with 1 cores, 29.3 GiB RAM\n",
      "24/05/16 06:19:26 INFO WorkerWebUI: Bound WorkerWebUI to 0.0.0.0, and started at http://long-slurm-sarchive-p0007.cluster.ihme.washington.edu:28515\n",
      "24/05/16 06:19:25 INFO Worker: Starting Spark worker 10.158.148.230:39115 with 1 cores, 29.3 GiB RAM\n",
      "24/05/16 06:19:26 INFO WorkerWebUI: Bound WorkerWebUI to 0.0.0.0, and started at http://long-slurm-sarchive-p0007.cluster.ihme.washington.edu:28512\n",
      "24/05/16 06:19:25 INFO Worker: Starting Spark worker 10.158.148.230:40907 with 1 cores, 29.3 GiB RAM\n",
      "24/05/16 06:19:26 INFO WorkerWebUI: Bound WorkerWebUI to 0.0.0.0, and started at http://long-slurm-sarchive-p0007.cluster.ihme.washington.edu:28513\n",
      "24/05/16 06:19:25 INFO Worker: Starting Spark worker 10.158.148.230:40591 with 1 cores, 29.3 GiB RAM\n",
      "24/05/16 06:19:26 INFO WorkerWebUI: Bound WorkerWebUI to 0.0.0.0, and started at http://long-slurm-sarchive-p0007.cluster.ihme.washington.edu:28511\n",
      "24/05/16 06:19:25 INFO Worker: Starting Spark worker 10.158.148.230:41829 with 1 cores, 29.3 GiB RAM\n",
      "24/05/16 06:19:26 INFO WorkerWebUI: Bound WorkerWebUI to 0.0.0.0, and started at http://long-slurm-sarchive-p0007.cluster.ihme.washington.edu:28510\n",
      "24/05/16 06:19:24 INFO Worker: Starting Spark worker 10.158.148.223:43125 with 1 cores, 29.3 GiB RAM\n",
      "24/05/16 06:19:24 INFO WorkerWebUI: Bound WorkerWebUI to 0.0.0.0, and started at http://long-slurm-sarchive-p0004.cluster.ihme.washington.edu:28510\n",
      "24/05/16 06:19:26 INFO Worker: Starting Spark worker 10.158.148.232:35039 with 1 cores, 29.3 GiB RAM\n",
      "24/05/16 06:19:27 INFO WorkerWebUI: Bound WorkerWebUI to 0.0.0.0, and started at http://long-slurm-sarchive-p0008.cluster.ihme.washington.edu:28510\n",
      "24/05/16 06:19:26 INFO Worker: Starting Spark worker 10.158.148.232:39879 with 1 cores, 29.3 GiB RAM\n",
      "24/05/16 06:19:27 INFO WorkerWebUI: Bound WorkerWebUI to 0.0.0.0, and started at http://long-slurm-sarchive-p0008.cluster.ihme.washington.edu:28516\n",
      "24/05/16 06:19:26 INFO Worker: Starting Spark worker 10.158.148.232:33407 with 1 cores, 29.3 GiB RAM\n",
      "24/05/16 06:19:27 INFO WorkerWebUI: Bound WorkerWebUI to 0.0.0.0, and started at http://long-slurm-sarchive-p0008.cluster.ihme.washington.edu:28518\n",
      "24/05/16 06:19:26 INFO Worker: Starting Spark worker 10.158.148.232:35227 with 1 cores, 29.3 GiB RAM\n",
      "24/05/16 06:19:27 INFO WorkerWebUI: Bound WorkerWebUI to 0.0.0.0, and started at http://long-slurm-sarchive-p0008.cluster.ihme.washington.edu:28515\n",
      "24/05/16 06:19:26 INFO Worker: Starting Spark worker 10.158.148.232:36425 with 1 cores, 29.3 GiB RAM\n",
      "24/05/16 06:19:27 INFO WorkerWebUI: Bound WorkerWebUI to 0.0.0.0, and started at http://long-slurm-sarchive-p0008.cluster.ihme.washington.edu:28517\n",
      "24/05/16 06:19:26 INFO Worker: Starting Spark worker 10.158.148.232:37445 with 1 cores, 29.3 GiB RAM\n",
      "24/05/16 06:19:27 INFO WorkerWebUI: Bound WorkerWebUI to 0.0.0.0, and started at http://long-slurm-sarchive-p0008.cluster.ihme.washington.edu:28520\n",
      "24/05/16 06:19:26 INFO Worker: Starting Spark worker 10.158.148.232:41487 with 1 cores, 29.3 GiB RAM\n",
      "24/05/16 06:19:27 INFO WorkerWebUI: Bound WorkerWebUI to 0.0.0.0, and started at http://long-slurm-sarchive-p0008.cluster.ihme.washington.edu:28511\n",
      "24/05/16 06:19:26 INFO Worker: Starting Spark worker 10.158.148.232:33165 with 1 cores, 29.3 GiB RAM\n",
      "24/05/16 06:19:27 INFO WorkerWebUI: Bound WorkerWebUI to 0.0.0.0, and started at http://long-slurm-sarchive-p0008.cluster.ihme.washington.edu:28514\n",
      "24/05/16 06:19:26 INFO Worker: Starting Spark worker 10.158.148.232:36699 with 1 cores, 29.3 GiB RAM\n",
      "24/05/16 06:19:27 INFO WorkerWebUI: Bound WorkerWebUI to 0.0.0.0, and started at http://long-slurm-sarchive-p0008.cluster.ihme.washington.edu:28512\n",
      "24/05/16 06:19:26 INFO Worker: Starting Spark worker 10.158.148.232:42675 with 1 cores, 29.3 GiB RAM\n",
      "24/05/16 06:19:27 INFO WorkerWebUI: Bound WorkerWebUI to 0.0.0.0, and started at http://long-slurm-sarchive-p0008.cluster.ihme.washington.edu:28513\n",
      "24/05/16 06:19:24 INFO Worker: Starting Spark worker 10.158.148.223:33239 with 1 cores, 29.3 GiB RAM\n",
      "24/05/16 06:19:24 INFO WorkerWebUI: Bound WorkerWebUI to 0.0.0.0, and started at http://long-slurm-sarchive-p0004.cluster.ihme.washington.edu:28513\n",
      "24/05/16 06:19:26 INFO Worker: Starting Spark worker 10.158.148.232:45895 with 1 cores, 29.3 GiB RAM\n",
      "24/05/16 06:19:27 INFO WorkerWebUI: Bound WorkerWebUI to 0.0.0.0, and started at http://long-slurm-sarchive-p0008.cluster.ihme.washington.edu:28519\n",
      "24/05/16 06:19:24 INFO Worker: Starting Spark worker 10.158.148.223:38587 with 1 cores, 29.3 GiB RAM\n",
      "24/05/16 06:19:24 INFO WorkerWebUI: Bound WorkerWebUI to 0.0.0.0, and started at http://long-slurm-sarchive-p0004.cluster.ihme.washington.edu:28515\n",
      "24/05/16 06:19:24 INFO Worker: Starting Spark worker 10.158.148.223:33027 with 1 cores, 29.3 GiB RAM\n",
      "24/05/16 06:19:24 INFO WorkerWebUI: Bound WorkerWebUI to 0.0.0.0, and started at http://long-slurm-sarchive-p0004.cluster.ihme.washington.edu:28514\n",
      "24/05/16 06:19:24 INFO Worker: Starting Spark worker 10.158.148.223:37893 with 1 cores, 29.3 GiB RAM\n",
      "24/05/16 06:19:24 INFO WorkerWebUI: Bound WorkerWebUI to 0.0.0.0, and started at http://long-slurm-sarchive-p0004.cluster.ihme.washington.edu:28512\n",
      "24/05/16 06:19:24 INFO Worker: Starting Spark worker 10.158.148.223:37047 with 1 cores, 29.3 GiB RAM\n",
      "24/05/16 06:19:24 INFO WorkerWebUI: Bound WorkerWebUI to 0.0.0.0, and started at http://long-slurm-sarchive-p0004.cluster.ihme.washington.edu:28511\n"
     ]
    }
   ],
   "source": [
    "if splink_engine == 'spark':\n",
    "    if spark_local:\n",
    "        spark_master_url = \"local[2]\"\n",
    "    else:\n",
    "        log_path = f\"{slurm_output_dir}/spark-master-%j.out\"\n",
    "        array_job_log_path = f\"{slurm_output_dir}/spark-worker-%A_%a.out\"\n",
    "        print(\"Starting Spark master\")\n",
    "        spark_start_master_output = os.popen(\n",
    "            f\"sbatch --output {log_path} --error {log_path} \"\n",
    "            f\"--cpus-per-task {spark_cpus_master} --mem {spark_memory_master} \"\n",
    "            f\"-A proj_simscience -p long.q {pwd}/start_spark_master.sh\"\n",
    "        ).read()\n",
    "        spark_master_job_id = re.match('Submitted batch job (\\d+)', spark_start_master_output)[1]\n",
    "\n",
    "        # TODO: This cleanup is not actually working\n",
    "        import atexit\n",
    "        \n",
    "        def kill_spark_master():\n",
    "            os.popen(f\"scancel {spark_master_job_id}\").read()\n",
    "        \n",
    "        atexit.register(kill_spark_master)\n",
    "\n",
    "        while True:\n",
    "            logs = os.popen(f\"cat {log_path.replace('%j', spark_master_job_id)} 2>&1\").read()\n",
    "            starting_lines = [l for l in logs.split('\\n') if 'Starting Spark master at' in l]\n",
    "            webui_starting_lines = [l for l in logs.split('\\n') if 'Bound MasterWebUI to' in l]\n",
    "            if len(starting_lines) > 0 and len(webui_starting_lines) > 0:\n",
    "                break\n",
    "            else:\n",
    "                time.sleep(5)\n",
    "\n",
    "        spark_master_url = re.match('.*Starting Spark master at (spark:.+)$', starting_lines[0])[1]\n",
    "        spark_master_webui_url = re.match('.*Bound MasterWebUI to .*, and started at (http:.+)$', webui_starting_lines[0])[1]\n",
    "        print(f'Got Spark master URL: {spark_master_url}')\n",
    "        print('\\n'.join([l for l in logs.split('\\n') if 'Bound MasterWebUI' in l]))\n",
    "\n",
    "        spark_worker_job_ids = []\n",
    "\n",
    "        def start_spark_workers(n_workers):\n",
    "            spark_start_workers_output = os.popen(\n",
    "                f\"sbatch --output {array_job_log_path} --error {array_job_log_path} \"\n",
    "                f\"--array=1-{n_workers} --cpus-per-task {spark_cpus_per_worker} --mem {spark_memory_per_worker} \"\n",
    "                f\"-A proj_simscience -p long.q {pwd}/start_spark_workers.sh {spark_master_url} {spark_worker_memory_overhead_mb}\"\n",
    "            ).read()\n",
    "            job_id = re.match('Submitted batch job (\\d+)', spark_start_workers_output)[1]\n",
    "            spark_worker_job_ids.append(job_id)\n",
    "\n",
    "            while True:\n",
    "                logs = os.popen(f\"cat {array_job_log_path.replace('%A', job_id).replace('%a', '*')} 2>&1\").read()\n",
    "                starting_lines = [l for l in logs.split('\\n') if 'Starting Spark worker' in l]\n",
    "                if len(starting_lines) == n_workers:\n",
    "                    print('\\n'.join([l for l in logs.split('\\n') if 'Starting Spark worker' in l or 'Bound WorkerWebUI' in l]))\n",
    "                    break\n",
    "                else:\n",
    "                    time.sleep(5)\n",
    "\n",
    "            return job_id\n",
    "\n",
    "        print('Starting Spark workers')\n",
    "        spark_workers_job_id = start_spark_workers(spark_num_workers)\n",
    "\n",
    "        def kill_spark_workers():\n",
    "            for job_id in spark_worker_job_ids:\n",
    "                os.popen(f\"scancel {job_id}\").read()\n",
    "\n",
    "        atexit.register(kill_spark_workers)\n",
    "\n",
    "        import asyncio\n",
    "        import requests\n",
    "\n",
    "        def maintain_spark_worker_count():\n",
    "            while True:\n",
    "                alive_workers = requests.get(f'{spark_master_webui_url}/json/').json()['aliveworkers']\n",
    "                if alive_workers < spark_num_workers:\n",
    "                    num_to_start = spark_num_workers - alive_workers\n",
    "                    print(f\"Starting {num_to_start} more Spark worker(s)\")\n",
    "                    start_spark_workers(num_to_start)\n",
    "                time.sleep(20)\n",
    "\n",
    "        def stop():\n",
    "            task.cancel()\n",
    "\n",
    "        atexit.register(stop)\n",
    "\n",
    "        loop = asyncio.get_event_loop()\n",
    "        task = loop.run_in_executor(None, maintain_spark_worker_count)"
   ]
  },
  {
   "cell_type": "markdown",
   "id": "86e8c9a9-d691-4110-baed-683004701894",
   "metadata": {
    "papermill": {
     "duration": 0.01952,
     "end_time": "2024-05-16T06:19:50.035748",
     "exception": false,
     "start_time": "2024-05-16T06:19:50.016228",
     "status": "completed"
    },
    "tags": []
   },
   "source": [
    "# Load data\n",
    "\n",
    "See code in `generate_simulated_data` directory for how we generated the files to link"
   ]
  },
  {
   "cell_type": "code",
   "execution_count": 16,
   "id": "cdf1086b-639c-4421-95ef-dc4108b7fd9a",
   "metadata": {
    "execution": {
     "iopub.execute_input": "2024-05-16T06:19:50.075563Z",
     "iopub.status.busy": "2024-05-16T06:19:50.075318Z",
     "iopub.status.idle": "2024-05-16T06:19:55.940474Z",
     "shell.execute_reply": "2024-05-16T06:19:55.938635Z"
    },
    "papermill": {
     "duration": 5.890088,
     "end_time": "2024-05-16T06:19:55.944690",
     "exception": false,
     "start_time": "2024-05-16T06:19:50.054602",
     "status": "completed"
    },
    "tags": []
   },
   "outputs": [],
   "source": [
    "census_2030 = df_ops.persist(df_ops.read_parquet(f'{input_dir}/{data_to_use}/simulated_census_2030.parquet'))\n",
    "geobase_reference_file = df_ops.persist(df_ops.read_parquet(f'{input_dir}/{data_to_use}/simulated_geobase_reference_file.parquet'))\n",
    "name_dob_reference_file = df_ops.persist(df_ops.read_parquet(f'{input_dir}/{data_to_use}/simulated_name_dob_reference_file.parquet'))"
   ]
  },
  {
   "cell_type": "markdown",
   "id": "5bc6d16d-f4c9-4c1a-b969-baee5ac539ad",
   "metadata": {
    "papermill": {
     "duration": 0.018694,
     "end_time": "2024-05-16T06:19:55.989408",
     "exception": false,
     "start_time": "2024-05-16T06:19:55.970714",
     "status": "completed"
    },
    "tags": []
   },
   "source": [
    "# Pre-process input file\n",
    "\n",
    "Wagner and Layne, p. 9:\n",
    "\n",
    "> The first step of the PVS process is to edit data fields to make them homogenous for\n",
    "comparisons between incoming and reference files."
   ]
  },
  {
   "cell_type": "code",
   "execution_count": 17,
   "id": "ee0111f6-d8e0-4758-a242-70027d67b313",
   "metadata": {
    "execution": {
     "iopub.execute_input": "2024-05-16T06:19:56.029654Z",
     "iopub.status.busy": "2024-05-16T06:19:56.028840Z",
     "iopub.status.idle": "2024-05-16T06:19:56.039292Z",
     "shell.execute_reply": "2024-05-16T06:19:56.038186Z"
    },
    "papermill": {
     "duration": 0.032601,
     "end_time": "2024-05-16T06:19:56.041053",
     "exception": false,
     "start_time": "2024-05-16T06:19:56.008452",
     "status": "completed"
    },
    "tags": []
   },
   "outputs": [],
   "source": [
    "# Input file before any processing; the final result will be this with the PIK column added\n",
    "census_2030_raw_input = census_2030.copy()"
   ]
  },
  {
   "cell_type": "markdown",
   "id": "829cf59a-804c-4372-bcbf-740ec724b3ee",
   "metadata": {
    "papermill": {
     "duration": 0.018542,
     "end_time": "2024-05-16T06:19:56.082028",
     "exception": false,
     "start_time": "2024-05-16T06:19:56.063486",
     "status": "completed"
    },
    "tags": []
   },
   "source": [
    "## Name parsing and standardizing\n",
    "\n",
    "Wagner and Layne, p. 9:\n",
    "\n",
    "> The first edits are parsing and standardizing - parsing separates fields into\n",
    "component parts, while standardizing guarantees key data elements are consistent (e.g.,\n",
    "STREET, STR are both converted to ST). Name and address fields are parsed and\n",
    "standardized as they are key linkage comparators. \n",
    "\n",
    "As noted in the data generation notebook, there is no parsing to be done here:\n",
    "because the Census questionnnaire asks for first name, middle initial, and last name as\n",
    "separate fields on the form, the name would be already parsed when running PVS on the CUF.\n",
    "\n",
    "The real PVS name parser generates fields like prefix (e.g. Mr.) and suffix (e.g. Jr.)\n",
    "but we never have these in names from pseudopeople.\n",
    "\n",
    "More details about the name parser and standardizer (Wagner and Layne, p. 10):\n",
    "\n",
    "> The PVS system incorporates a name\n",
    "standardizer (McGaughey, 1994), which is a C language subroutine called as a function\n",
    "within SAS. It performs name parsing and includes a nickname lookup table and outputs\n",
    "name variants (standardized variations of first and last names). For example, Bill\n",
    "becomes William, Chuck and Charlie becomes Charles, etc. The PVS keeps both the\n",
    "original name (Bill) and the converted name (William) for matching. PVS also has a fake\n",
    "name table to blank names such as “Queen of the House” or “Baby Girl.” The name data\n",
    "are parsed, checked for nicknames, and standardized.\n",
    "\n",
    "The key thing that wasn't clear to me from this description was what it meant to\n",
    "\"keep both original name and the converted name for matching.\"\n",
    "I found this in Massey et al.:\n",
    "\n",
    "> The Name Search Module also accounts for instances where census records contain a nickname.\n",
    "> For these records, the preprocessing step of the Name Search module outputs two records for\n",
    "> these observations, one record for the nickname and one record for the formal name.\n",
    "> For example, if the input record has the name “Bill Smith,” the formatting program will add\n",
    "> a formal name “William” to that record. This record will then output to both the B-S cut and to the W-S cut.\n",
    "\n",
    "From this, I gather that nicknames work similar to alternate names in the reference file:\n",
    "entire duplicate records are made with each name (nickname and formal).\n",
    "However, I am still confused by calling this \"the preprocessing step **of the Name Search module**.\"\n",
    "In Wagner and Layne it does not seem like this is module-specific, and I don't see any\n",
    "reason that would be desirable, so I have done this multi-record approach across all modules."
   ]
  },
  {
   "cell_type": "code",
   "execution_count": 18,
   "id": "7b449705-cd3f-4a14-9520-b4dfb1fa481b",
   "metadata": {
    "execution": {
     "iopub.execute_input": "2024-05-16T06:19:56.121072Z",
     "iopub.status.busy": "2024-05-16T06:19:56.120269Z",
     "iopub.status.idle": "2024-05-16T06:19:56.199819Z",
     "shell.execute_reply": "2024-05-16T06:19:56.198437Z"
    },
    "papermill": {
     "duration": 0.10271,
     "end_time": "2024-05-16T06:19:56.203092",
     "exception": false,
     "start_time": "2024-05-16T06:19:56.100382",
     "status": "completed"
    },
    "tags": []
   },
   "outputs": [
    {
     "name": "stdout",
     "output_type": "stream",
     "text": [
      "1,522 nicknames in the Census\n"
     ]
    }
   ],
   "source": [
    "# Nickname processing\n",
    "# Have not yet found a nickname list in PVS docs,\n",
    "# so we do a minimal version for now -- could use\n",
    "# another list such as the one in pseudopeople\n",
    "# These examples all come directly from examples in the descriptions of PVS\n",
    "nickname_standardizations = {\n",
    "    \"Bill\": \"William\",\n",
    "    \"Chuck\": \"Charles\",\n",
    "    \"Charlie\": \"Charles\",\n",
    "    \"Cathy\": \"Catherine\",\n",
    "    \"Matt\": \"Matthew\",\n",
    "}\n",
    "has_nickname = df_ops.persist(census_2030.first_name.isin(nickname_standardizations.keys()))\n",
    "print(f'{df_ops.compute(has_nickname.sum()):,.0f} nicknames in the Census')"
   ]
  },
  {
   "cell_type": "code",
   "execution_count": 19,
   "id": "8b119152-d5db-4d78-bab9-b15feae95f98",
   "metadata": {
    "execution": {
     "iopub.execute_input": "2024-05-16T06:19:56.249751Z",
     "iopub.status.busy": "2024-05-16T06:19:56.249064Z",
     "iopub.status.idle": "2024-05-16T06:19:56.383078Z",
     "shell.execute_reply": "2024-05-16T06:19:56.381489Z"
    },
    "papermill": {
     "duration": 0.158201,
     "end_time": "2024-05-16T06:19:56.386918",
     "exception": false,
     "start_time": "2024-05-16T06:19:56.228717",
     "status": "completed"
    },
    "tags": []
   },
   "outputs": [],
   "source": [
    "# Add extra rows for the normalized names\n",
    "census_2030 = df_ops.concat([\n",
    "    census_2030,\n",
    "    census_2030[has_nickname].assign(first_name=lambda df: df.first_name.replace(nickname_standardizations))\n",
    "], ignore_index=True)"
   ]
  },
  {
   "cell_type": "code",
   "execution_count": 20,
   "id": "bb25cd47-aab9-42ee-98a5-3bdc3d66c2af",
   "metadata": {
    "execution": {
     "iopub.execute_input": "2024-05-16T06:19:56.433115Z",
     "iopub.status.busy": "2024-05-16T06:19:56.432316Z",
     "iopub.status.idle": "2024-05-16T06:19:56.474391Z",
     "shell.execute_reply": "2024-05-16T06:19:56.473625Z"
    },
    "papermill": {
     "duration": 0.065409,
     "end_time": "2024-05-16T06:19:56.477533",
     "exception": false,
     "start_time": "2024-05-16T06:19:56.412124",
     "status": "completed"
    },
    "tags": []
   },
   "outputs": [],
   "source": [
    "# Note: The above will introduce duplicates on record_id, so we redefine\n",
    "# record_id to be unique (without getting rid of the original, input file record ID)\n",
    "census_2030 = df_ops.add_unique_record_id(\n",
    "    census_2030.rename(columns={'record_id': 'record_id_raw_input_file'}),\n",
    "    \"census_2030_preprocessed\",\n",
    ")"
   ]
  },
  {
   "cell_type": "code",
   "execution_count": 21,
   "id": "a086540a-d9d0-4068-8ee8-539314aa91e6",
   "metadata": {
    "execution": {
     "iopub.execute_input": "2024-05-16T06:19:56.525083Z",
     "iopub.status.busy": "2024-05-16T06:19:56.524294Z",
     "iopub.status.idle": "2024-05-16T06:19:56.910343Z",
     "shell.execute_reply": "2024-05-16T06:19:56.909506Z"
    },
    "papermill": {
     "duration": 0.409176,
     "end_time": "2024-05-16T06:19:56.913266",
     "exception": false,
     "start_time": "2024-05-16T06:19:56.504090",
     "status": "completed"
    },
    "tags": []
   },
   "outputs": [
    {
     "name": "stdout",
     "output_type": "stream",
     "text": [
      "Imbalanced dataframe: too_few=True, too_many=False, too_large=False\n",
      "count        2.00000\n",
      "mean      7232.50000\n",
      "std      10228.29959\n",
      "min          0.00000\n",
      "25%       3616.25000\n",
      "50%       7232.50000\n",
      "75%      10848.75000\n",
      "max      14465.00000\n",
      "dtype: float64\n"
     ]
    },
    {
     "data": {
      "text/html": [
       "<div><strong>Dask DataFrame Structure:</strong></div>\n",
       "<div>\n",
       "<style scoped>\n",
       "    .dataframe tbody tr th:only-of-type {\n",
       "        vertical-align: middle;\n",
       "    }\n",
       "\n",
       "    .dataframe tbody tr th {\n",
       "        vertical-align: top;\n",
       "    }\n",
       "\n",
       "    .dataframe thead th {\n",
       "        text-align: right;\n",
       "    }\n",
       "</style>\n",
       "<table border=\"1\" class=\"dataframe\">\n",
       "  <thead>\n",
       "    <tr style=\"text-align: right;\">\n",
       "      <th></th>\n",
       "      <th>fake_name</th>\n",
       "    </tr>\n",
       "    <tr>\n",
       "      <th>npartitions=2</th>\n",
       "      <th></th>\n",
       "    </tr>\n",
       "  </thead>\n",
       "  <tbody>\n",
       "    <tr>\n",
       "      <th></th>\n",
       "      <td>string</td>\n",
       "    </tr>\n",
       "    <tr>\n",
       "      <th></th>\n",
       "      <td>...</td>\n",
       "    </tr>\n",
       "    <tr>\n",
       "      <th></th>\n",
       "      <td>...</td>\n",
       "    </tr>\n",
       "  </tbody>\n",
       "</table>\n",
       "</div>\n",
       "<div>Dask Name: to_pyarrow_string, 1 graph layer</div>"
      ],
      "text/plain": [
       "Dask DataFrame Structure:\n",
       "              fake_name\n",
       "npartitions=2          \n",
       "                 string\n",
       "                    ...\n",
       "                    ...\n",
       "Dask Name: to_pyarrow_string, 1 graph layer"
      ]
     },
     "execution_count": 21,
     "metadata": {},
     "output_type": "execute_result"
    }
   ],
   "source": [
    "# This list of fake names comes from the NORC report, p. 100-101\n",
    "# It is what was used in PVS as of 2011\n",
    "fake_names = pd.read_csv('fake-names.txt', header=None).rename(columns={0: 'fake_name'})\n",
    "fake_names = df_ops.persist(\n",
    "    fake_names\n",
    "        .assign(fake_name=fake_names.fake_name.str.strip().str.upper())\n",
    "        .dropna(subset='fake_name')\n",
    "        .pipe(df_ops.drop_duplicates)\n",
    "        .pipe(df_ops.ensure_large_string_capacity)\n",
    ")\n",
    "\n",
    "assert df_ops.compute((fake_names.fake_name == fake_names.fake_name.str.upper()).all())\n",
    "fake_names"
   ]
  },
  {
   "cell_type": "code",
   "execution_count": 22,
   "id": "f234ee61-5d2a-490e-97ad-eff72df732ad",
   "metadata": {
    "execution": {
     "iopub.execute_input": "2024-05-16T06:19:56.959122Z",
     "iopub.status.busy": "2024-05-16T06:19:56.958333Z",
     "iopub.status.idle": "2024-05-16T06:20:08.602861Z",
     "shell.execute_reply": "2024-05-16T06:20:08.597541Z"
    },
    "papermill": {
     "duration": 11.673853,
     "end_time": "2024-05-16T06:20:08.610325",
     "exception": false,
     "start_time": "2024-05-16T06:19:56.936472",
     "status": "completed"
    },
    "tags": []
   },
   "outputs": [
    {
     "name": "stdout",
     "output_type": "stream",
     "text": [
      "Found 6,552 fake names in first_name\n"
     ]
    },
    {
     "name": "stdout",
     "output_type": "stream",
     "text": [
      "Found 6,125 fake names in last_name\n"
     ]
    }
   ],
   "source": [
    "for col in [\"first_name\", \"last_name\"]:\n",
    "    census_2030 = census_2030.assign(**{f'{col}_upper': census_2030[col].str.upper()}).merge(fake_names, left_on=f'{col}_upper', right_on='fake_name', how='left')\n",
    "    has_fake_name = df_ops.persist(census_2030.fake_name.notnull())\n",
    "    print(f'Found {df_ops.compute(has_fake_name.sum()):,.0f} fake names in {col}')\n",
    "    census_2030 = df_ops.concat([\n",
    "        census_2030[~has_fake_name].drop(columns=['fake_name', f'{col}_upper']),\n",
    "        # NOTE: For reasons I don't really understand, assigning pandas.NA reverts it to a normal string instead of a large_string\n",
    "        census_2030[has_fake_name].assign(**{col: pandas.NA}).drop(columns=['fake_name', f'{col}_upper']).pipe(df_ops.ensure_large_string_capacity),\n",
    "    ], ignore_index=True)"
   ]
  },
  {
   "cell_type": "markdown",
   "id": "26659727-027b-4daf-8921-1fdb4b5e4d54",
   "metadata": {
    "papermill": {
     "duration": 0.019524,
     "end_time": "2024-05-16T06:20:08.657615",
     "exception": false,
     "start_time": "2024-05-16T06:20:08.638091",
     "status": "completed"
    },
    "tags": []
   },
   "source": [
    "## Address parsing and standardizing\n",
    "\n",
    "Wagner and Layne, p. 11:\n",
    "\n",
    "> The PVS editing process also incorporates an address parser and standardizer,\n",
    "written in the C language and called as a function within SAS (U.S. Census Bureau\n",
    "Geography Division, 1995). It performs parsing of address strings into individual output\n",
    "fields (see Figure 2), and standardizes the spelling of key components of the address\n",
    "such as street type. The PVS also incorporates use of a commercial product to update\n",
    "zip codes, and correct misspellings of address elements.\n",
    "\n",
    "As noted in the data generation notebook, for now we haven't combined the address parts\n",
    "into a single string that would need to be parsed.\n",
    "We plan to add this in a future version of pseudopeople.\n",
    "\n",
    "For now, we do some simple standardization in each of the address parts (street number,\n",
    "street name, etc)."
   ]
  },
  {
   "cell_type": "code",
   "execution_count": 23,
   "id": "9435bc12-0002-44bc-91e3-26083d95c498",
   "metadata": {
    "execution": {
     "iopub.execute_input": "2024-05-16T06:20:08.698089Z",
     "iopub.status.busy": "2024-05-16T06:20:08.697817Z",
     "iopub.status.idle": "2024-05-16T06:20:08.843108Z",
     "shell.execute_reply": "2024-05-16T06:20:08.841662Z"
    },
    "papermill": {
     "duration": 0.170137,
     "end_time": "2024-05-16T06:20:08.847019",
     "exception": false,
     "start_time": "2024-05-16T06:20:08.676882",
     "status": "completed"
    },
    "tags": []
   },
   "outputs": [],
   "source": [
    "def standardize_address_part(column):\n",
    "    return (\n",
    "        column\n",
    "            # Remove leading or trailing whitespace\n",
    "            .str.strip()\n",
    "            # Turn any strings of consecutive whitespace into a single space\n",
    "            .str.replace('\\s+', ' ', regex=True)\n",
    "            # Normalize case\n",
    "            .str.upper()\n",
    "            # Normalize the word street as described in the example quoted above\n",
    "            # In reality, there would be many rules like this\n",
    "            .str.replace('\\b(STREET|STR)\\b', 'ST', regex=True)\n",
    "            # Make sure missingness is represented consistently\n",
    "            .replace('', pandas.NA)\n",
    "    )\n",
    "\n",
    "address_cols = ['street_number', 'street_name', 'unit_number', 'city', 'state', 'zipcode']\n",
    "for address_col in address_cols:\n",
    "    census_2030 = census_2030.assign(**{address_col: census_2030[address_col].pipe(standardize_address_part)})\n",
    "\n",
    "census_2030 = df_ops.ensure_large_string_capacity(census_2030)"
   ]
  },
  {
   "cell_type": "markdown",
   "id": "95b55b52-c3ad-41da-9351-05ef56927dbf",
   "metadata": {
    "papermill": {
     "duration": 0.019319,
     "end_time": "2024-05-16T06:20:08.893166",
     "exception": false,
     "start_time": "2024-05-16T06:20:08.873847",
     "status": "completed"
    },
    "tags": []
   },
   "source": [
    "## MAFMatch\n",
    "\n",
    "**General information about MAFMatch**\n",
    "\n",
    "Wagner and Layne, p. 11:\n",
    "\n",
    "> The PVS provides an additional address enhancement by matching records in the\n",
    "incoming file to Census Bureau’s Master Address File (MAF) in order to assign a unique\n",
    "address identifier, the MAF Identifier (MAFID), and other Census geographical codes\n",
    "(e.g., Census tract and block). The MAFID is used in the PVS for search purposes and as a\n",
    "linkage key for administrative files. Then, addresses are matched to the Census Bureau’s\n",
    "Topologically Integrated Geographic Encoding and Referencing Database (TIGER) to\n",
    "obtain Census geographical codes.\n",
    "\n",
    "My understanding is that this step is useful for two reasons:\n",
    "- Potentially adds an alternate version/way of formatting the same address\n",
    "  (the way it is in the MAF, instead of the way it is in the input file).\n",
    "  However, instead of using this alternate to match directly, it is boiled down\n",
    "  to a MAFID, so it is only useful when an input file address and a reference file\n",
    "  address (different to one another) both match to the same MAF address.\n",
    "  (Presumably, the whole MAFMatch process described here needs to run on the reference files?)\n",
    "- Adds Census geographies which could be used in blocking (but are they?)\n",
    "\n",
    "I don't understand the TIGER part of this.\n",
    "In particular, p. 12 describes a probabilistic/fuzzy match to TIGER, but I thought TIGER\n",
    "would contain exactly the same addresses as the MAF.\n",
    "I also don't understand what geocodes would be present in TIGER that wouldn't also be\n",
    "present in the MAF.\n",
    "Maybe these things are more out-of-sync with each other than I understood.\n",
    "\n",
    "**MAFMatch in this case study**\n",
    "\n",
    "In the decennial Census, the sampling frame is a subset of the MAF (Brown et al., p. 15, footnote 4).\n",
    "That is, in the CUF, the address field (which is not supplied by the respondent)\n",
    "would be the MAF address the questionnaire/NRFU was sent to.\n",
    "\n",
    "Therefore, I don't believe it makes sense to do MAFMatch for the CUF, because all the addresses\n",
    "are already the same.\n",
    "I haven't fully confirmed this, but p. 14 of Wagner and Layne says\n",
    "\n",
    "> The 2010 Census Unedited File (CUF), had 350 million records and processed through every PVS\n",
    "module, excluding MAF match and SSN verification\n",
    "\n",
    "which suggests that (like SSN verification) MAFMatch is not applicable to the CUF.\n",
    "\n",
    "Given this, we skip MAFMatch here.\n",
    "Also, if we wanted to add it, we would need to generate something like a MAF from pseudopeople."
   ]
  },
  {
   "cell_type": "markdown",
   "id": "2e7ec2c6-a028-4f36-a041-63627fb60fd6",
   "metadata": {
    "papermill": {
     "duration": 0.019105,
     "end_time": "2024-05-16T06:20:08.931712",
     "exception": false,
     "start_time": "2024-05-16T06:20:08.912607",
     "status": "completed"
    },
    "tags": []
   },
   "source": [
    "## Drop records with insufficient information\n",
    "\n",
    "In 2011 (NORC, p. 25):\n",
    "\n",
    "> The initial edit process, described in the Introduction: PVS Background section, removes from consideration\n",
    "incoming records that have no name data. Therefore, no record that is processed in PVS has blank first and last\n",
    "names.\n",
    "\n",
    "In 2014 it appears to be the same/similar, because in Table 2 of Wagner and Layne there is a row \"NO SEARCH: Blank Name\" (p. 18).\n",
    "\n",
    "In 2023 (Brown et al., p. 28):\n",
    "\n",
    "> Records containing sufficient PII to be linkable with some confidence, for example those\n",
    "containing name and age, are sent through the linkage process.<sup>15</sup>\n",
    "\n",
    "> <sup>15</sup> Records with names on the PVS invalid name list (e.g., “Mickey Mouse,” “householder,” or “son”) are excluded\n",
    "from PVS search.\n",
    "\n",
    "I'd prefer to use the 2023 information, but it is too vague:\n",
    "\"for example\" means this is just an approximation, and it doesn't specify\n",
    "parts of \"name.\"\n",
    "The footnote also seems to contradict earlier reports, which said fake names were simply\n",
    "blanked out, which seems preferable.\n",
    "Since the fake name step comes before this one, a fake first **and** last name would lead\n",
    "to exclusion here, which is perhaps what the footnote was intending?\n",
    "\n",
    "Here, we follow the blank-name approach."
   ]
  },
  {
   "cell_type": "code",
   "execution_count": 24,
   "id": "277c1379-c46b-4a0f-8011-596efae84778",
   "metadata": {
    "execution": {
     "iopub.execute_input": "2024-05-16T06:20:08.971973Z",
     "iopub.status.busy": "2024-05-16T06:20:08.971734Z",
     "iopub.status.idle": "2024-05-16T06:20:08.981346Z",
     "shell.execute_reply": "2024-05-16T06:20:08.980413Z"
    },
    "papermill": {
     "duration": 0.03211,
     "end_time": "2024-05-16T06:20:08.983185",
     "exception": false,
     "start_time": "2024-05-16T06:20:08.951075",
     "status": "completed"
    },
    "tags": []
   },
   "outputs": [],
   "source": [
    "census_2030 = census_2030[\n",
    "    census_2030.first_name.notnull() |\n",
    "    census_2030.last_name.notnull()\n",
    "]"
   ]
  },
  {
   "cell_type": "markdown",
   "id": "e51a91f7-e733-4a3d-bd56-7e23b0c8d138",
   "metadata": {
    "papermill": {
     "duration": 0.019233,
     "end_time": "2024-05-16T06:20:09.023066",
     "exception": false,
     "start_time": "2024-05-16T06:20:09.003833",
     "status": "completed"
    },
    "tags": []
   },
   "source": [
    "# Create derived variables for use in linkage\n",
    "\n",
    "Here we create variables to be used as matching variables and blocking keys,\n",
    "when those matching variables/blocking keys are defined in a way that is not already\n",
    "present in the data at this point.\n",
    "\n",
    "The variables needed here depend on the modules and passes described below -- see those\n",
    "sections for more citations."
   ]
  },
  {
   "cell_type": "code",
   "execution_count": 25,
   "id": "edb97b21-8ca1-4ad3-bae1-dbf7dc0bee00",
   "metadata": {
    "execution": {
     "iopub.execute_input": "2024-05-16T06:20:09.064503Z",
     "iopub.status.busy": "2024-05-16T06:20:09.063863Z",
     "iopub.status.idle": "2024-05-16T06:20:09.085182Z",
     "shell.execute_reply": "2024-05-16T06:20:09.083726Z"
    },
    "papermill": {
     "duration": 0.045023,
     "end_time": "2024-05-16T06:20:09.087694",
     "exception": false,
     "start_time": "2024-05-16T06:20:09.042671",
     "status": "completed"
    },
    "tags": []
   },
   "outputs": [],
   "source": [
    "# We want to compare mailing address with physical address\n",
    "geobase_reference_file = geobase_reference_file.rename(columns=lambda c: c.replace('mailing_address_', ''))"
   ]
  },
  {
   "cell_type": "code",
   "execution_count": 26,
   "id": "c61c2257-a840-498a-9aa5-0788f9763634",
   "metadata": {
    "execution": {
     "iopub.execute_input": "2024-05-16T06:20:09.132313Z",
     "iopub.status.busy": "2024-05-16T06:20:09.132007Z",
     "iopub.status.idle": "2024-05-16T06:20:09.312973Z",
     "shell.execute_reply": "2024-05-16T06:20:09.311591Z"
    },
    "papermill": {
     "duration": 0.204094,
     "end_time": "2024-05-16T06:20:09.315654",
     "exception": false,
     "start_time": "2024-05-16T06:20:09.111560",
     "status": "completed"
    },
    "tags": []
   },
   "outputs": [],
   "source": [
    "# PVS uses DOB as separate fields for day, month, and year\n",
    "def split_dob(df, date_format='%Y%m%d'):\n",
    "    # Have to be floats because we want to treat as numeric for assessing similarity\n",
    "    # Note that as of now, none of our pseudopeople noise types would change the punctuation (\"/\") in the date, but\n",
    "    # they can insert non-numeric characters here or otherwise create invalid dates, in which case we fail to parse the date\n",
    "    # and treat it as missing.\n",
    "    dob = pd.to_datetime(df.date_of_birth, format=date_format, errors='coerce')\n",
    "    df = df.assign(\n",
    "        month_of_birth=dob.dt.month,\n",
    "        year_of_birth=dob.dt.year,\n",
    "        day_of_birth=dob.dt.day,\n",
    "    )\n",
    "    df = df.assign(\n",
    "        month_of_birth=df.month_of_birth.fillna(pandas.NA),\n",
    "        year_of_birth=df.year_of_birth.fillna(pandas.NA),\n",
    "        day_of_birth=df.day_of_birth.fillna(pandas.NA),\n",
    "    )\n",
    "    return df.drop(columns=['date_of_birth'])\n",
    "\n",
    "census_2030 = split_dob(census_2030, date_format='%m/%d/%Y')\n",
    "geobase_reference_file = split_dob(geobase_reference_file)\n",
    "name_dob_reference_file = split_dob(name_dob_reference_file)"
   ]
  },
  {
   "cell_type": "code",
   "execution_count": 27,
   "id": "55126ed5-94e3-4713-badd-9861f5c6ab68",
   "metadata": {
    "execution": {
     "iopub.execute_input": "2024-05-16T06:20:09.365005Z",
     "iopub.status.busy": "2024-05-16T06:20:09.364376Z",
     "iopub.status.idle": "2024-05-16T06:20:09.585674Z",
     "shell.execute_reply": "2024-05-16T06:20:09.565862Z"
    },
    "papermill": {
     "duration": 0.24649,
     "end_time": "2024-05-16T06:20:09.588454",
     "exception": false,
     "start_time": "2024-05-16T06:20:09.341964",
     "status": "completed"
    },
    "tags": []
   },
   "outputs": [],
   "source": [
    "# I don't fully understand the purpose of blocking on the geokey,\n",
    "# as opposed to just blocking on its constituent columns.\n",
    "# Maybe it is a way of dealing with missingness in those constituent\n",
    "# columns (e.g. so an address with no unit number can still be blocked on geokey)?\n",
    "def add_geokey(df):\n",
    "    return (\n",
    "        df.assign(\n",
    "            geokey=distributed_compute.add_strings(\n",
    "                compute_engine,\n",
    "                [\n",
    "                    df.street_number, ' ',\n",
    "                    df.street_name, ' ',\n",
    "                    df.unit_number, ' ',\n",
    "                    df.city, ' ',\n",
    "                    df.state, ' ',\n",
    "                    df.zipcode,\n",
    "                ]\n",
    "                # Normalize the whitespace\n",
    "            ).str.replace('\\s+', ' ', regex=True).str.strip().replace('', pandas.NA)\n",
    "        )\n",
    "        .pipe(df_ops.ensure_large_string_capacity)\n",
    "    )\n",
    "\n",
    "geobase_reference_file = add_geokey(geobase_reference_file)\n",
    "census_2030 = df_ops.persist(add_geokey(census_2030))"
   ]
  },
  {
   "cell_type": "code",
   "execution_count": 28,
   "id": "6d51e08a-8e28-4c0f-9a62-d6207a560f46",
   "metadata": {
    "execution": {
     "iopub.execute_input": "2024-05-16T06:20:09.733362Z",
     "iopub.status.busy": "2024-05-16T06:20:09.733034Z",
     "iopub.status.idle": "2024-05-16T06:20:16.103146Z",
     "shell.execute_reply": "2024-05-16T06:20:16.101726Z"
    },
    "papermill": {
     "duration": 6.497807,
     "end_time": "2024-05-16T06:20:16.106937",
     "exception": false,
     "start_time": "2024-05-16T06:20:09.609130",
     "status": "completed"
    },
    "tags": []
   },
   "outputs": [
    {
     "name": "stdout",
     "output_type": "stream",
     "text": [
      "8 probable GQ geokeys\n"
     ]
    }
   ],
   "source": [
    "# HACK: Remove address information from GQ, so it isn't used for blocking\n",
    "# nor for HHCompSearch.\n",
    "# Currently we have massive GQ \"households.\"\n",
    "# NOTE: This will miss people who are actually in GQ who have had their address noised,\n",
    "# but that doesn't create huge \"households\" anyway so it's not a big deal\n",
    "# NOTE: We can't just throw out any household where anyone has a GQ housing_type\n",
    "# since the housing_type column itself can be noised. We set a threshold (data size dependent)\n",
    "# of how many people in a household need to have a GQ housing_type.\n",
    "unlikely_due_to_noise_threshold = {\n",
    "    'usa': 250,\n",
    "    'ri': 250,\n",
    "    'small_sample': 2,\n",
    "}[data_to_use]\n",
    "probable_gq_geokeys = df_ops.persist(\n",
    "    census_2030[census_2030.housing_type.notnull()].assign(reported_gq=lambda df: df.housing_type != 'Household')\n",
    "        .pipe(df_ops.groupby_agg_small_groups, by=\"geokey\", agg_func=lambda x: x.reported_gq.agg([\"sum\", \"mean\"]))\n",
    "        .pipe(lambda df: df[(df['sum'] >= unlikely_due_to_noise_threshold) & (df['mean'] >= 0.70)])\n",
    "        .reset_index()\n",
    "        .assign(is_gq_geokey=True)\n",
    ")\n",
    "\n",
    "if data_to_use in ('usa', 'ri'):\n",
    "    num_shards = 334\n",
    "    num_gq_types = 6\n",
    "    if data_to_use == 'usa':\n",
    "        # Should be exact\n",
    "        assert num_shards * num_gq_types == len(probable_gq_geokeys)\n",
    "    else:\n",
    "        # Should be close to 1/334 (1 million population)\n",
    "        print(f'{len(probable_gq_geokeys):,.0f} probable GQ geokeys')\n",
    "        assert (num_shards * num_gq_types * 0.5) / 334 <= len(probable_gq_geokeys) <= (num_shards * num_gq_types * 2) / 334\n",
    "else:\n",
    "    print(f'{len(probable_gq_geokeys):,.0f} probable GQ geokeys')"
   ]
  },
  {
   "cell_type": "code",
   "execution_count": 29,
   "id": "a3f92cd7-9a57-4ea1-a97a-c091ea335a00",
   "metadata": {
    "execution": {
     "iopub.execute_input": "2024-05-16T06:20:16.154929Z",
     "iopub.status.busy": "2024-05-16T06:20:16.154294Z",
     "iopub.status.idle": "2024-05-16T06:20:18.426002Z",
     "shell.execute_reply": "2024-05-16T06:20:18.423102Z"
    },
    "papermill": {
     "duration": 2.297081,
     "end_time": "2024-05-16T06:20:18.429938",
     "exception": false,
     "start_time": "2024-05-16T06:20:16.132857",
     "status": "completed"
    },
    "tags": []
   },
   "outputs": [],
   "source": [
    "census_2030 = census_2030.merge(probable_gq_geokeys[['geokey', 'is_gq_geokey']], on=\"geokey\", how=\"left\").assign(is_gq_geokey=lambda df: df.is_gq_geokey.fillna(False))\n",
    "\n",
    "census_2030 = df_ops.ensure_large_string_capacity(df_ops.concat([\n",
    "    census_2030[~census_2030.is_gq_geokey].assign(\n",
    "        geokey_for_blocking=lambda df: df.geokey,\n",
    "        street_number_for_blocking=lambda df: df.street_number,\n",
    "        street_name_for_blocking=lambda df: df.street_name,\n",
    "    ).drop(columns=[\"is_gq_geokey\"]),\n",
    "    census_2030[census_2030.is_gq_geokey].assign(\n",
    "        geokey_for_blocking=pandas.NA,\n",
    "        street_number_for_blocking=pandas.NA,\n",
    "        street_name_for_blocking=pandas.NA,\n",
    "    ).drop(columns=[\"is_gq_geokey\"]),\n",
    "], ignore_index=True))"
   ]
  },
  {
   "cell_type": "code",
   "execution_count": 30,
   "id": "d10958fd-adad-4bb2-b4c2-641f6ad242e5",
   "metadata": {
    "execution": {
     "iopub.execute_input": "2024-05-16T06:20:18.479530Z",
     "iopub.status.busy": "2024-05-16T06:20:18.478874Z",
     "iopub.status.idle": "2024-05-16T06:20:26.024150Z",
     "shell.execute_reply": "2024-05-16T06:20:26.023328Z"
    },
    "papermill": {
     "duration": 7.570633,
     "end_time": "2024-05-16T06:20:26.027137",
     "exception": false,
     "start_time": "2024-05-16T06:20:18.456504",
     "status": "completed"
    },
    "tags": []
   },
   "outputs": [],
   "source": [
    "geobase_reference_file = geobase_reference_file.merge(probable_gq_geokeys[['geokey', 'is_gq_geokey']], on=\"geokey\", how=\"left\").assign(is_gq_geokey=lambda df: df.is_gq_geokey.fillna(False))\n",
    "\n",
    "geobase_reference_file = df_ops.ensure_large_string_capacity(df_ops.concat([\n",
    "    geobase_reference_file[~geobase_reference_file.is_gq_geokey].assign(\n",
    "        geokey_for_blocking=lambda df: df.geokey,\n",
    "        street_number_for_blocking=lambda df: df.street_number,\n",
    "        street_name_for_blocking=lambda df: df.street_name,\n",
    "    ).drop(columns=[\"is_gq_geokey\"]),\n",
    "    geobase_reference_file[geobase_reference_file.is_gq_geokey].assign(\n",
    "        geokey_for_blocking=pandas.NA,\n",
    "        street_number_for_blocking=pandas.NA,\n",
    "        street_name_for_blocking=pandas.NA,\n",
    "    ).drop(columns=[\"is_gq_geokey\"]),\n",
    "], ignore_index=True))"
   ]
  },
  {
   "cell_type": "code",
   "execution_count": 31,
   "id": "2a686489-f265-4647-ad1d-7b6b93f8578e",
   "metadata": {
    "execution": {
     "iopub.execute_input": "2024-05-16T06:20:26.075592Z",
     "iopub.status.busy": "2024-05-16T06:20:26.074801Z",
     "iopub.status.idle": "2024-05-16T06:20:26.085321Z",
     "shell.execute_reply": "2024-05-16T06:20:26.084342Z"
    },
    "papermill": {
     "duration": 0.033772,
     "end_time": "2024-05-16T06:20:26.087063",
     "exception": false,
     "start_time": "2024-05-16T06:20:26.053291",
     "status": "completed"
    },
    "tags": []
   },
   "outputs": [],
   "source": [
    "%xdel probable_gq_geokeys"
   ]
  },
  {
   "cell_type": "code",
   "execution_count": 32,
   "id": "6894cbdd-fef2-417d-a69f-3e15433c1c72",
   "metadata": {
    "execution": {
     "iopub.execute_input": "2024-05-16T06:20:26.134335Z",
     "iopub.status.busy": "2024-05-16T06:20:26.133634Z",
     "iopub.status.idle": "2024-05-16T06:20:26.355390Z",
     "shell.execute_reply": "2024-05-16T06:20:26.354589Z"
    },
    "papermill": {
     "duration": 0.247803,
     "end_time": "2024-05-16T06:20:26.358583",
     "exception": false,
     "start_time": "2024-05-16T06:20:26.110780",
     "status": "completed"
    },
    "tags": []
   },
   "outputs": [],
   "source": [
    "# Layne, Wagner, and Rothhaas p. 26: the name matching variables are\n",
    "# First 15 characters First Name, First 15 characters Middle Name, First 12 characters Last Name\n",
    "# Additionally, there are blocking columns for all of 1-3 initial characters of First/Last.\n",
    "# We don't have a full middle name in pseudopeople (nor would that be present in a real CUF)\n",
    "# so we have to stick to the first initial for middle.\n",
    "def add_truncated_name_cols(df):\n",
    "    df = df.assign(\n",
    "        first_name_15=df.first_name.str[:15],\n",
    "        last_name_12=df.last_name.str[:12]\n",
    "    )\n",
    "\n",
    "    if 'middle_name' in df.columns and 'middle_initial' not in df.columns:\n",
    "        df = df.assign(middle_initial=df.middle_name.str[:1])\n",
    "\n",
    "    for num_chars in [1, 2, 3]:\n",
    "        df = df.assign(**{\n",
    "            f'first_name_{num_chars}': df.first_name.str[:num_chars],\n",
    "            f'last_name_{num_chars}': df.last_name.str[:num_chars],\n",
    "        })\n",
    "\n",
    "    return df\n",
    "\n",
    "census_2030 = add_truncated_name_cols(census_2030)\n",
    "geobase_reference_file = add_truncated_name_cols(geobase_reference_file)\n",
    "name_dob_reference_file = add_truncated_name_cols(name_dob_reference_file)"
   ]
  },
  {
   "cell_type": "code",
   "execution_count": 33,
   "id": "c29dcc81-9056-459b-80f6-fd32125913bc",
   "metadata": {
    "execution": {
     "iopub.execute_input": "2024-05-16T06:20:26.408859Z",
     "iopub.status.busy": "2024-05-16T06:20:26.408048Z",
     "iopub.status.idle": "2024-05-16T06:20:26.633099Z",
     "shell.execute_reply": "2024-05-16T06:20:26.632289Z"
    },
    "papermill": {
     "duration": 0.250981,
     "end_time": "2024-05-16T06:20:26.636464",
     "exception": false,
     "start_time": "2024-05-16T06:20:26.385483",
     "status": "completed"
    },
    "tags": []
   },
   "outputs": [],
   "source": [
    "# Layne, Wagner, and Rothhaas p. 26: phonetics are used in blocking (not matching)\n",
    "# - Soundex for Street Name\n",
    "# - NYSIIS code for First Name\n",
    "# - NYSIIS code for Last Name\n",
    "# - Reverse Soundex for First Name\n",
    "# - Reverse Soundex for Last Name\n",
    "\n",
    "def nysiis(input_string):\n",
    "    if pandas.isna(input_string):\n",
    "        return pandas.NA\n",
    "    result = jellyfish.nysiis(input_string)\n",
    "    if pandas.isna(result):\n",
    "        return pandas.NA\n",
    "\n",
    "    return result\n",
    "\n",
    "def soundex(input_string):\n",
    "    if pandas.isna(input_string):\n",
    "        return pandas.NA\n",
    "    result = jellyfish.soundex(input_string)\n",
    "    if pandas.isna(result):\n",
    "        return pandas.NA\n",
    "\n",
    "    return result\n",
    "\n",
    "def reverse_soundex(input_string):\n",
    "    if pandas.isna(input_string):\n",
    "        return pandas.NA\n",
    "\n",
    "    return soundex(input_string[::-1])\n",
    "\n",
    "def add_name_phonetics(df):\n",
    "    for col in ['first_name', 'last_name']:\n",
    "        kwargs = {}\n",
    "        if compute_engine == 'dask':\n",
    "            kwargs['meta'] = (col, 'object')\n",
    "        df = df.assign(**{f'{col}_nysiis': df[col].apply(nysiis, **kwargs)})\n",
    "        df = df.assign(**{f'{col}_reverse_soundex': df[col].apply(reverse_soundex, **kwargs)})\n",
    "\n",
    "    return df_ops.ensure_large_string_capacity(df)\n",
    "\n",
    "def add_address_phonetics(df):\n",
    "    kwargs = {}\n",
    "    if compute_engine == 'dask':\n",
    "        kwargs['meta'] = (col, 'object')\n",
    "    df = df.assign(street_name_for_blocking_soundex=df.street_name_for_blocking.apply(soundex, **kwargs))\n",
    "    return df_ops.ensure_large_string_capacity(df)\n",
    "\n",
    "census_2030 = add_name_phonetics(census_2030)\n",
    "census_2030 = add_address_phonetics(census_2030)\n",
    "\n",
    "geobase_reference_file = add_address_phonetics(geobase_reference_file)\n",
    "\n",
    "name_dob_reference_file = add_name_phonetics(name_dob_reference_file)"
   ]
  },
  {
   "cell_type": "code",
   "execution_count": 34,
   "id": "f1fe537d-10f4-4bf4-97e9-ee64fe5fcb8c",
   "metadata": {
    "execution": {
     "iopub.execute_input": "2024-05-16T06:20:26.687751Z",
     "iopub.status.busy": "2024-05-16T06:20:26.686979Z",
     "iopub.status.idle": "2024-05-16T06:20:26.697810Z",
     "shell.execute_reply": "2024-05-16T06:20:26.696891Z"
    },
    "papermill": {
     "duration": 0.03435,
     "end_time": "2024-05-16T06:20:26.699255",
     "exception": false,
     "start_time": "2024-05-16T06:20:26.664905",
     "status": "completed"
    },
    "tags": []
   },
   "outputs": [],
   "source": [
    "# Columns used to \"cut the database\": ZIP3 and a grouping of first and last initial\n",
    "def add_zip3(df):\n",
    "    return df.assign(zip3=lambda x: x.zipcode.str[:3])\n",
    "\n",
    "def add_first_last_initial_categories(df):\n",
    "    # Page 20 of the NORC report: \"Name-cuts are defined by combinations of the first characters of the first and last names. The twenty letter groupings\n",
    "    # for the first character are: A-or-blank, B, C, D, E, F, G, H, I, J, K, L, M, N, O, P, Q, R, S, T, and U-Z.\"\n",
    "    initial_cut = lambda x: x.fillna('A').str[0].replace('A', 'A-or-blank').replace(['U', 'V', 'W', 'X', 'Y', 'Z'], 'U-Z')\n",
    "    return df.assign(first_initial_cut=initial_cut(df.first_name), last_initial_cut=initial_cut(df.last_name))"
   ]
  },
  {
   "cell_type": "code",
   "execution_count": 35,
   "id": "d5e00367-d022-4ab2-942b-87a2b1abdfc8",
   "metadata": {
    "execution": {
     "iopub.execute_input": "2024-05-16T06:20:26.742532Z",
     "iopub.status.busy": "2024-05-16T06:20:26.741864Z",
     "iopub.status.idle": "2024-05-16T06:20:26.836580Z",
     "shell.execute_reply": "2024-05-16T06:20:26.835783Z"
    },
    "papermill": {
     "duration": 0.118804,
     "end_time": "2024-05-16T06:20:26.839895",
     "exception": false,
     "start_time": "2024-05-16T06:20:26.721091",
     "status": "completed"
    },
    "tags": []
   },
   "outputs": [],
   "source": [
    "census_2030 = add_zip3(census_2030)\n",
    "census_2030 = add_first_last_initial_categories(census_2030)\n",
    "\n",
    "geobase_reference_file = add_zip3(geobase_reference_file)\n",
    "\n",
    "name_dob_reference_file = add_first_last_initial_categories(name_dob_reference_file)"
   ]
  },
  {
   "cell_type": "code",
   "execution_count": null,
   "id": "0596bc8d-8f36-41bd-a6e2-a3f55c9ba66b",
   "metadata": {
    "papermill": {
     "duration": 0.019366,
     "end_time": "2024-05-16T06:20:26.888061",
     "exception": false,
     "start_time": "2024-05-16T06:20:26.868695",
     "status": "completed"
    },
    "tags": []
   },
   "outputs": [],
   "source": []
  },
  {
   "cell_type": "code",
   "execution_count": 36,
   "id": "e30f2911-72ad-4749-b4aa-18918335e0d0",
   "metadata": {
    "execution": {
     "iopub.execute_input": "2024-05-16T06:20:26.931198Z",
     "iopub.status.busy": "2024-05-16T06:20:26.930090Z",
     "iopub.status.idle": "2024-05-16T06:20:27.019714Z",
     "shell.execute_reply": "2024-05-16T06:20:27.017890Z"
    },
    "papermill": {
     "duration": 0.117045,
     "end_time": "2024-05-16T06:20:27.025203",
     "exception": false,
     "start_time": "2024-05-16T06:20:26.908158",
     "status": "completed"
    },
    "tags": []
   },
   "outputs": [],
   "source": [
    "census_2030, geobase_reference_file, name_dob_reference_file = df_ops.persist(census_2030, geobase_reference_file, name_dob_reference_file)"
   ]
  },
  {
   "cell_type": "markdown",
   "id": "5e413173-dde2-4bdb-a2cf-f0c5ef38e9a5",
   "metadata": {
    "papermill": {
     "duration": 0.033019,
     "end_time": "2024-05-16T06:20:27.100285",
     "exception": false,
     "start_time": "2024-05-16T06:20:27.067266",
     "status": "completed"
    },
    "tags": []
   },
   "source": [
    "# Data, ready to link"
   ]
  },
  {
   "cell_type": "code",
   "execution_count": 37,
   "id": "b6014eaa-3548-4d23-b7b9-f8e9f0f477f8",
   "metadata": {
    "execution": {
     "iopub.execute_input": "2024-05-16T06:20:27.180057Z",
     "iopub.status.busy": "2024-05-16T06:20:27.175974Z",
     "iopub.status.idle": "2024-05-16T06:20:42.238057Z",
     "shell.execute_reply": "2024-05-16T06:20:42.236154Z"
    },
    "papermill": {
     "duration": 15.109315,
     "end_time": "2024-05-16T06:20:42.242378",
     "exception": false,
     "start_time": "2024-05-16T06:20:27.133063",
     "status": "completed"
    },
    "tags": []
   },
   "outputs": [
    {
     "name": "stdout",
     "output_type": "stream",
     "text": [
      "1,099,938\n"
     ]
    }
   ],
   "source": [
    "print(f'{len(census_2030):,.0f}')"
   ]
  },
  {
   "cell_type": "code",
   "execution_count": 38,
   "id": "4306cf4f-d636-4d0c-9b07-7b73627982d3",
   "metadata": {
    "execution": {
     "iopub.execute_input": "2024-05-16T06:20:42.292226Z",
     "iopub.status.busy": "2024-05-16T06:20:42.291596Z",
     "iopub.status.idle": "2024-05-16T06:20:42.923177Z",
     "shell.execute_reply": "2024-05-16T06:20:42.921627Z"
    },
    "papermill": {
     "duration": 0.65849,
     "end_time": "2024-05-16T06:20:42.926592",
     "exception": false,
     "start_time": "2024-05-16T06:20:42.268102",
     "status": "completed"
    },
    "tags": []
   },
   "outputs": [
    {
     "data": {
      "text/html": [
       "<div>\n",
       "<style scoped>\n",
       "    .dataframe tbody tr th:only-of-type {\n",
       "        vertical-align: middle;\n",
       "    }\n",
       "\n",
       "    .dataframe tbody tr th {\n",
       "        vertical-align: top;\n",
       "    }\n",
       "\n",
       "    .dataframe thead th {\n",
       "        text-align: right;\n",
       "    }\n",
       "</style>\n",
       "<table border=\"1\" class=\"dataframe\">\n",
       "  <thead>\n",
       "    <tr style=\"text-align: right;\">\n",
       "      <th></th>\n",
       "      <th>household_id</th>\n",
       "      <th>first_name</th>\n",
       "      <th>middle_initial</th>\n",
       "      <th>last_name</th>\n",
       "      <th>age</th>\n",
       "      <th>street_number</th>\n",
       "      <th>street_name</th>\n",
       "      <th>unit_number</th>\n",
       "      <th>city</th>\n",
       "      <th>state</th>\n",
       "      <th>...</th>\n",
       "      <th>first_name_3</th>\n",
       "      <th>last_name_3</th>\n",
       "      <th>first_name_nysiis</th>\n",
       "      <th>first_name_reverse_soundex</th>\n",
       "      <th>last_name_nysiis</th>\n",
       "      <th>last_name_reverse_soundex</th>\n",
       "      <th>street_name_for_blocking_soundex</th>\n",
       "      <th>zip3</th>\n",
       "      <th>first_initial_cut</th>\n",
       "      <th>last_initial_cut</th>\n",
       "    </tr>\n",
       "  </thead>\n",
       "  <tbody>\n",
       "    <tr>\n",
       "      <th>0</th>\n",
       "      <td>28_273553</td>\n",
       "      <td>Madelyn</td>\n",
       "      <td>A</td>\n",
       "      <td>Flowers</td>\n",
       "      <td>17</td>\n",
       "      <td>3260</td>\n",
       "      <td>MCCATHARN ROAD</td>\n",
       "      <td>&lt;NA&gt;</td>\n",
       "      <td>NOTTH JJNHSROWM</td>\n",
       "      <td>RI</td>\n",
       "      <td>...</td>\n",
       "      <td>Mad</td>\n",
       "      <td>Flo</td>\n",
       "      <td>MADALYN</td>\n",
       "      <td>N435</td>\n",
       "      <td>FLAOAR</td>\n",
       "      <td>S641</td>\n",
       "      <td>M236</td>\n",
       "      <td>029</td>\n",
       "      <td>M</td>\n",
       "      <td>F</td>\n",
       "    </tr>\n",
       "    <tr>\n",
       "      <th>1</th>\n",
       "      <td>40_327287</td>\n",
       "      <td>Emilia</td>\n",
       "      <td>G</td>\n",
       "      <td>Lopez</td>\n",
       "      <td>14</td>\n",
       "      <td>9202</td>\n",
       "      <td>&lt;NA&gt;</td>\n",
       "      <td>&lt;NA&gt;</td>\n",
       "      <td>STH KINGSTOWN</td>\n",
       "      <td>RI</td>\n",
       "      <td>...</td>\n",
       "      <td>Emi</td>\n",
       "      <td>Lop</td>\n",
       "      <td>ENAL</td>\n",
       "      <td>A450</td>\n",
       "      <td>LAP</td>\n",
       "      <td>Z140</td>\n",
       "      <td>&lt;NA&gt;</td>\n",
       "      <td>028</td>\n",
       "      <td>E</td>\n",
       "      <td>L</td>\n",
       "    </tr>\n",
       "    <tr>\n",
       "      <th>2</th>\n",
       "      <td>40_436969</td>\n",
       "      <td>Cristal</td>\n",
       "      <td>B</td>\n",
       "      <td>Johnson</td>\n",
       "      <td>49</td>\n",
       "      <td>2001</td>\n",
       "      <td>SHEPARD STREET</td>\n",
       "      <td>&lt;NA&gt;</td>\n",
       "      <td>PROVIDENCE</td>\n",
       "      <td>RI</td>\n",
       "      <td>...</td>\n",
       "      <td>Cri</td>\n",
       "      <td>Joh</td>\n",
       "      <td>CRASTAL</td>\n",
       "      <td>L326</td>\n",
       "      <td>JANSAN</td>\n",
       "      <td>N252</td>\n",
       "      <td>S163</td>\n",
       "      <td>029</td>\n",
       "      <td>C</td>\n",
       "      <td>J</td>\n",
       "    </tr>\n",
       "    <tr>\n",
       "      <th>3</th>\n",
       "      <td>40_316761</td>\n",
       "      <td>Lillian</td>\n",
       "      <td>L</td>\n",
       "      <td>Denton</td>\n",
       "      <td>57</td>\n",
       "      <td>585</td>\n",
       "      <td>MAINSTREET PARK DRIVE</td>\n",
       "      <td>&lt;NA&gt;</td>\n",
       "      <td>BARRINGTON</td>\n",
       "      <td>RI</td>\n",
       "      <td>...</td>\n",
       "      <td>Lil</td>\n",
       "      <td>Den</td>\n",
       "      <td>LALAN</td>\n",
       "      <td>N440</td>\n",
       "      <td>DANTAN</td>\n",
       "      <td>N353</td>\n",
       "      <td>M523</td>\n",
       "      <td>028</td>\n",
       "      <td>L</td>\n",
       "      <td>D</td>\n",
       "    </tr>\n",
       "    <tr>\n",
       "      <th>4</th>\n",
       "      <td>93_403467</td>\n",
       "      <td>Jasmine</td>\n",
       "      <td>S</td>\n",
       "      <td>Rosals</td>\n",
       "      <td>35</td>\n",
       "      <td>4301</td>\n",
       "      <td>BUTTERMILK DR</td>\n",
       "      <td>&lt;NA&gt;</td>\n",
       "      <td>SOUTH KINGSTOWN</td>\n",
       "      <td>RI</td>\n",
       "      <td>...</td>\n",
       "      <td>Jas</td>\n",
       "      <td>Ros</td>\n",
       "      <td>JASNAN</td>\n",
       "      <td>E552</td>\n",
       "      <td>RASAL</td>\n",
       "      <td>S426</td>\n",
       "      <td>B365</td>\n",
       "      <td>028</td>\n",
       "      <td>J</td>\n",
       "      <td>R</td>\n",
       "    </tr>\n",
       "    <tr>\n",
       "      <th>...</th>\n",
       "      <td>...</td>\n",
       "      <td>...</td>\n",
       "      <td>...</td>\n",
       "      <td>...</td>\n",
       "      <td>...</td>\n",
       "      <td>...</td>\n",
       "      <td>...</td>\n",
       "      <td>...</td>\n",
       "      <td>...</td>\n",
       "      <td>...</td>\n",
       "      <td>...</td>\n",
       "      <td>...</td>\n",
       "      <td>...</td>\n",
       "      <td>...</td>\n",
       "      <td>...</td>\n",
       "      <td>...</td>\n",
       "      <td>...</td>\n",
       "      <td>...</td>\n",
       "      <td>...</td>\n",
       "      <td>...</td>\n",
       "      <td>...</td>\n",
       "    </tr>\n",
       "    <tr>\n",
       "      <th>95</th>\n",
       "      <td>2054_136048</td>\n",
       "      <td>Michele</td>\n",
       "      <td>O</td>\n",
       "      <td>Hamlin</td>\n",
       "      <td>67</td>\n",
       "      <td>701</td>\n",
       "      <td>W SAGE HL RD</td>\n",
       "      <td>&lt;NA&gt;</td>\n",
       "      <td>NORTH KINGSTOWN</td>\n",
       "      <td>RI</td>\n",
       "      <td>...</td>\n",
       "      <td>Mic</td>\n",
       "      <td>Ham</td>\n",
       "      <td>MACAL</td>\n",
       "      <td>E425</td>\n",
       "      <td>HANLAN</td>\n",
       "      <td>N450</td>\n",
       "      <td>W224</td>\n",
       "      <td>029</td>\n",
       "      <td>M</td>\n",
       "      <td>H</td>\n",
       "    </tr>\n",
       "    <tr>\n",
       "      <th>96</th>\n",
       "      <td>2054_250904</td>\n",
       "      <td>Debra</td>\n",
       "      <td>K</td>\n",
       "      <td>Geist</td>\n",
       "      <td>71</td>\n",
       "      <td>5297</td>\n",
       "      <td>SALEM AVE SE</td>\n",
       "      <td>&lt;NA&gt;</td>\n",
       "      <td>CRANSTON</td>\n",
       "      <td>RI</td>\n",
       "      <td>...</td>\n",
       "      <td>Deb</td>\n",
       "      <td>Gei</td>\n",
       "      <td>DABR</td>\n",
       "      <td>A613</td>\n",
       "      <td>GAST</td>\n",
       "      <td>T220</td>\n",
       "      <td>S451</td>\n",
       "      <td>028</td>\n",
       "      <td>D</td>\n",
       "      <td>G</td>\n",
       "    </tr>\n",
       "    <tr>\n",
       "      <th>97</th>\n",
       "      <td>2054_250904</td>\n",
       "      <td>Donald</td>\n",
       "      <td>T</td>\n",
       "      <td>Geist</td>\n",
       "      <td>77</td>\n",
       "      <td>5297</td>\n",
       "      <td>SALEM AVE SE</td>\n",
       "      <td>&lt;NA&gt;</td>\n",
       "      <td>CRANSTON</td>\n",
       "      <td>RI</td>\n",
       "      <td>...</td>\n",
       "      <td>Don</td>\n",
       "      <td>Gei</td>\n",
       "      <td>DANALD</td>\n",
       "      <td>D453</td>\n",
       "      <td>GAST</td>\n",
       "      <td>T220</td>\n",
       "      <td>S451</td>\n",
       "      <td>028</td>\n",
       "      <td>D</td>\n",
       "      <td>G</td>\n",
       "    </tr>\n",
       "    <tr>\n",
       "      <th>98</th>\n",
       "      <td>2229_313066</td>\n",
       "      <td>Deirdre</td>\n",
       "      <td>S</td>\n",
       "      <td>Mims</td>\n",
       "      <td>73</td>\n",
       "      <td>111</td>\n",
       "      <td>CHURCHILL RD</td>\n",
       "      <td>&lt;NA&gt;</td>\n",
       "      <td>NORTH KINGSTOWN</td>\n",
       "      <td>RI</td>\n",
       "      <td>...</td>\n",
       "      <td>Dei</td>\n",
       "      <td>Mim</td>\n",
       "      <td>DARDR</td>\n",
       "      <td>E636</td>\n",
       "      <td>MAN</td>\n",
       "      <td>S550</td>\n",
       "      <td>C624</td>\n",
       "      <td>028</td>\n",
       "      <td>D</td>\n",
       "      <td>M</td>\n",
       "    </tr>\n",
       "    <tr>\n",
       "      <th>99</th>\n",
       "      <td>2284_17646</td>\n",
       "      <td>Vanessa</td>\n",
       "      <td>M</td>\n",
       "      <td>Meyer</td>\n",
       "      <td>50</td>\n",
       "      <td>30</td>\n",
       "      <td>CORONEL PL</td>\n",
       "      <td>&lt;NA&gt;</td>\n",
       "      <td>CUMBERLAND</td>\n",
       "      <td>RI</td>\n",
       "      <td>...</td>\n",
       "      <td>Van</td>\n",
       "      <td>Mey</td>\n",
       "      <td>VANAS</td>\n",
       "      <td>A251</td>\n",
       "      <td>MAYAR</td>\n",
       "      <td>R500</td>\n",
       "      <td>C654</td>\n",
       "      <td>028</td>\n",
       "      <td>U-Z</td>\n",
       "      <td>M</td>\n",
       "    </tr>\n",
       "  </tbody>\n",
       "</table>\n",
       "<p>100 rows × 41 columns</p>\n",
       "</div>"
      ],
      "text/plain": [
       "   household_id first_name middle_initial last_name age street_number  \\\n",
       "0     28_273553    Madelyn              A   Flowers  17          3260   \n",
       "1     40_327287     Emilia              G     Lopez  14          9202   \n",
       "2     40_436969    Cristal              B   Johnson  49          2001   \n",
       "3     40_316761    Lillian              L    Denton  57           585   \n",
       "4     93_403467    Jasmine              S    Rosals  35          4301   \n",
       "..          ...        ...            ...       ...  ..           ...   \n",
       "95  2054_136048    Michele              O    Hamlin  67           701   \n",
       "96  2054_250904      Debra              K     Geist  71          5297   \n",
       "97  2054_250904     Donald              T     Geist  77          5297   \n",
       "98  2229_313066    Deirdre              S      Mims  73           111   \n",
       "99   2284_17646    Vanessa              M     Meyer  50            30   \n",
       "\n",
       "              street_name unit_number             city state  ...  \\\n",
       "0          MCCATHARN ROAD        <NA>  NOTTH JJNHSROWM    RI  ...   \n",
       "1                    <NA>        <NA>    STH KINGSTOWN    RI  ...   \n",
       "2          SHEPARD STREET        <NA>       PROVIDENCE    RI  ...   \n",
       "3   MAINSTREET PARK DRIVE        <NA>       BARRINGTON    RI  ...   \n",
       "4           BUTTERMILK DR        <NA>  SOUTH KINGSTOWN    RI  ...   \n",
       "..                    ...         ...              ...   ...  ...   \n",
       "95           W SAGE HL RD        <NA>  NORTH KINGSTOWN    RI  ...   \n",
       "96           SALEM AVE SE        <NA>         CRANSTON    RI  ...   \n",
       "97           SALEM AVE SE        <NA>         CRANSTON    RI  ...   \n",
       "98           CHURCHILL RD        <NA>  NORTH KINGSTOWN    RI  ...   \n",
       "99             CORONEL PL        <NA>       CUMBERLAND    RI  ...   \n",
       "\n",
       "   first_name_3 last_name_3 first_name_nysiis first_name_reverse_soundex  \\\n",
       "0           Mad         Flo           MADALYN                       N435   \n",
       "1           Emi         Lop              ENAL                       A450   \n",
       "2           Cri         Joh           CRASTAL                       L326   \n",
       "3           Lil         Den             LALAN                       N440   \n",
       "4           Jas         Ros            JASNAN                       E552   \n",
       "..          ...         ...               ...                        ...   \n",
       "95          Mic         Ham             MACAL                       E425   \n",
       "96          Deb         Gei              DABR                       A613   \n",
       "97          Don         Gei            DANALD                       D453   \n",
       "98          Dei         Mim             DARDR                       E636   \n",
       "99          Van         Mey             VANAS                       A251   \n",
       "\n",
       "   last_name_nysiis  last_name_reverse_soundex  \\\n",
       "0            FLAOAR                       S641   \n",
       "1               LAP                       Z140   \n",
       "2            JANSAN                       N252   \n",
       "3            DANTAN                       N353   \n",
       "4             RASAL                       S426   \n",
       "..              ...                        ...   \n",
       "95           HANLAN                       N450   \n",
       "96             GAST                       T220   \n",
       "97             GAST                       T220   \n",
       "98              MAN                       S550   \n",
       "99            MAYAR                       R500   \n",
       "\n",
       "   street_name_for_blocking_soundex zip3  first_initial_cut  last_initial_cut  \n",
       "0                              M236  029                  M                 F  \n",
       "1                              <NA>  028                  E                 L  \n",
       "2                              S163  029                  C                 J  \n",
       "3                              M523  028                  L                 D  \n",
       "4                              B365  028                  J                 R  \n",
       "..                              ...  ...                ...               ...  \n",
       "95                             W224  029                  M                 H  \n",
       "96                             S451  028                  D                 G  \n",
       "97                             S451  028                  D                 G  \n",
       "98                             C624  028                  D                 M  \n",
       "99                             C654  028                U-Z                 M  \n",
       "\n",
       "[100 rows x 41 columns]"
      ]
     },
     "execution_count": 38,
     "metadata": {},
     "output_type": "execute_result"
    }
   ],
   "source": [
    "df_ops.head(census_2030, n=100)"
   ]
  },
  {
   "cell_type": "code",
   "execution_count": 39,
   "id": "bc33f5b6-36b4-48d5-9ea5-e0ae11d14dab",
   "metadata": {
    "execution": {
     "iopub.execute_input": "2024-05-16T06:20:42.977016Z",
     "iopub.status.busy": "2024-05-16T06:20:42.976394Z",
     "iopub.status.idle": "2024-05-16T06:20:45.896411Z",
     "shell.execute_reply": "2024-05-16T06:20:45.894253Z"
    },
    "papermill": {
     "duration": 2.947583,
     "end_time": "2024-05-16T06:20:45.900800",
     "exception": false,
     "start_time": "2024-05-16T06:20:42.953217",
     "status": "completed"
    },
    "tags": []
   },
   "outputs": [],
   "source": [
    "intermediate_data_dir = f\"{output_dir}/intermediate_data\"\n",
    "if clear_intermediate:\n",
    "    utils.ensure_empty(intermediate_data_dir)"
   ]
  },
  {
   "cell_type": "code",
   "execution_count": 40,
   "id": "632c5d5f-34b6-49ec-83be-737ed625d47e",
   "metadata": {
    "execution": {
     "iopub.execute_input": "2024-05-16T06:20:45.959120Z",
     "iopub.status.busy": "2024-05-16T06:20:45.958497Z",
     "iopub.status.idle": "2024-05-16T06:20:45.966719Z",
     "shell.execute_reply": "2024-05-16T06:20:45.964581Z"
    },
    "papermill": {
     "duration": 0.035446,
     "end_time": "2024-05-16T06:20:45.969283",
     "exception": false,
     "start_time": "2024-05-16T06:20:45.933837",
     "status": "completed"
    },
    "tags": []
   },
   "outputs": [],
   "source": [
    "# Can save a checkpoint here for resuming without re-running the prep\n",
    "# df_ops.to_parquet(census_2030, f'{intermediate_data_dir}/census_2030_prepped.parquet')"
   ]
  },
  {
   "cell_type": "code",
   "execution_count": 41,
   "id": "b4fc55f9-32dd-40e9-ba3b-0f67556ddbc3",
   "metadata": {
    "execution": {
     "iopub.execute_input": "2024-05-16T06:20:46.017100Z",
     "iopub.status.busy": "2024-05-16T06:20:46.016481Z",
     "iopub.status.idle": "2024-05-16T06:20:46.166528Z",
     "shell.execute_reply": "2024-05-16T06:20:46.164969Z"
    },
    "papermill": {
     "duration": 0.17715,
     "end_time": "2024-05-16T06:20:46.170112",
     "exception": false,
     "start_time": "2024-05-16T06:20:45.992962",
     "status": "completed"
    },
    "tags": []
   },
   "outputs": [
    {
     "name": "stdout",
     "output_type": "stream",
     "text": [
      "2,749,623\n"
     ]
    }
   ],
   "source": [
    "print(f'{len(geobase_reference_file):,.0f}')"
   ]
  },
  {
   "cell_type": "code",
   "execution_count": 42,
   "id": "2361fef9-e338-4c81-934d-075dafdbd432",
   "metadata": {
    "execution": {
     "iopub.execute_input": "2024-05-16T06:20:46.219762Z",
     "iopub.status.busy": "2024-05-16T06:20:46.219109Z",
     "iopub.status.idle": "2024-05-16T06:20:47.268719Z",
     "shell.execute_reply": "2024-05-16T06:20:47.267336Z"
    },
    "papermill": {
     "duration": 1.073826,
     "end_time": "2024-05-16T06:20:47.270277",
     "exception": false,
     "start_time": "2024-05-16T06:20:46.196451",
     "status": "completed"
    },
    "tags": []
   },
   "outputs": [
    {
     "data": {
      "text/html": [
       "<div>\n",
       "<style scoped>\n",
       "    .dataframe tbody tr th:only-of-type {\n",
       "        vertical-align: middle;\n",
       "    }\n",
       "\n",
       "    .dataframe tbody tr th {\n",
       "        vertical-align: top;\n",
       "    }\n",
       "\n",
       "    .dataframe thead th {\n",
       "        text-align: right;\n",
       "    }\n",
       "</style>\n",
       "<table border=\"1\" class=\"dataframe\">\n",
       "  <thead>\n",
       "    <tr style=\"text-align: right;\">\n",
       "      <th></th>\n",
       "      <th>ssn</th>\n",
       "      <th>first_name</th>\n",
       "      <th>middle_name</th>\n",
       "      <th>last_name</th>\n",
       "      <th>street_number</th>\n",
       "      <th>street_name</th>\n",
       "      <th>unit_number</th>\n",
       "      <th>po_box</th>\n",
       "      <th>city</th>\n",
       "      <th>state</th>\n",
       "      <th>...</th>\n",
       "      <th>last_name_12</th>\n",
       "      <th>middle_initial</th>\n",
       "      <th>first_name_1</th>\n",
       "      <th>last_name_1</th>\n",
       "      <th>first_name_2</th>\n",
       "      <th>last_name_2</th>\n",
       "      <th>first_name_3</th>\n",
       "      <th>last_name_3</th>\n",
       "      <th>street_name_for_blocking_soundex</th>\n",
       "      <th>zip3</th>\n",
       "    </tr>\n",
       "  </thead>\n",
       "  <tbody>\n",
       "    <tr>\n",
       "      <th>0</th>\n",
       "      <td>002-93-4462</td>\n",
       "      <td>Michele</td>\n",
       "      <td>Leslie</td>\n",
       "      <td>Hargrave</td>\n",
       "      <td>32</td>\n",
       "      <td>LITTLE TURTLE</td>\n",
       "      <td>&lt;NA&gt;</td>\n",
       "      <td>&lt;NA&gt;</td>\n",
       "      <td>PROVIDENCE</td>\n",
       "      <td>RI</td>\n",
       "      <td>...</td>\n",
       "      <td>Hargrave</td>\n",
       "      <td>L</td>\n",
       "      <td>M</td>\n",
       "      <td>H</td>\n",
       "      <td>Mi</td>\n",
       "      <td>Ha</td>\n",
       "      <td>Mic</td>\n",
       "      <td>Har</td>\n",
       "      <td>L343</td>\n",
       "      <td>029</td>\n",
       "    </tr>\n",
       "    <tr>\n",
       "      <th>1</th>\n",
       "      <td>004-72-7764</td>\n",
       "      <td>Chahles</td>\n",
       "      <td>Steven</td>\n",
       "      <td>Kristofferson</td>\n",
       "      <td>11402</td>\n",
       "      <td>OLD COUNTY RD</td>\n",
       "      <td>&lt;NA&gt;</td>\n",
       "      <td>&lt;NA&gt;</td>\n",
       "      <td>PORTSMOUTH</td>\n",
       "      <td>RI</td>\n",
       "      <td>...</td>\n",
       "      <td>Kristofferso</td>\n",
       "      <td>S</td>\n",
       "      <td>C</td>\n",
       "      <td>K</td>\n",
       "      <td>Ch</td>\n",
       "      <td>Kr</td>\n",
       "      <td>Cha</td>\n",
       "      <td>Kri</td>\n",
       "      <td>O432</td>\n",
       "      <td>028</td>\n",
       "    </tr>\n",
       "    <tr>\n",
       "      <th>2</th>\n",
       "      <td>014-53-3880</td>\n",
       "      <td>Christopher</td>\n",
       "      <td>Gael</td>\n",
       "      <td>Capua</td>\n",
       "      <td>24</td>\n",
       "      <td>SLEEPY CREEK WAY</td>\n",
       "      <td>&lt;NA&gt;</td>\n",
       "      <td>&lt;NA&gt;</td>\n",
       "      <td>S KINGSTOWN</td>\n",
       "      <td>RI</td>\n",
       "      <td>...</td>\n",
       "      <td>Capua</td>\n",
       "      <td>G</td>\n",
       "      <td>C</td>\n",
       "      <td>C</td>\n",
       "      <td>Ch</td>\n",
       "      <td>Ca</td>\n",
       "      <td>Chr</td>\n",
       "      <td>Cap</td>\n",
       "      <td>S412</td>\n",
       "      <td>029</td>\n",
       "    </tr>\n",
       "    <tr>\n",
       "      <th>3</th>\n",
       "      <td>023-75-5584</td>\n",
       "      <td>Mauricio</td>\n",
       "      <td>Pate</td>\n",
       "      <td>Schaefer</td>\n",
       "      <td>37211</td>\n",
       "      <td>BOILING BROOK DVE</td>\n",
       "      <td>&lt;NA&gt;</td>\n",
       "      <td>&lt;NA&gt;</td>\n",
       "      <td>PROVIDENCE</td>\n",
       "      <td>RI</td>\n",
       "      <td>...</td>\n",
       "      <td>Schaefer</td>\n",
       "      <td>P</td>\n",
       "      <td>M</td>\n",
       "      <td>S</td>\n",
       "      <td>Ma</td>\n",
       "      <td>Sc</td>\n",
       "      <td>Mau</td>\n",
       "      <td>Sch</td>\n",
       "      <td>B452</td>\n",
       "      <td>028</td>\n",
       "    </tr>\n",
       "    <tr>\n",
       "      <th>4</th>\n",
       "      <td>029-24-4378</td>\n",
       "      <td>&lt;NA&gt;</td>\n",
       "      <td>Adrian</td>\n",
       "      <td>Denny</td>\n",
       "      <td>3100</td>\n",
       "      <td>WEST IRVING PARK R</td>\n",
       "      <td>&lt;NA&gt;</td>\n",
       "      <td>&lt;NA&gt;</td>\n",
       "      <td>COVENTRY</td>\n",
       "      <td>RI</td>\n",
       "      <td>...</td>\n",
       "      <td>Denny</td>\n",
       "      <td>A</td>\n",
       "      <td>&lt;NA&gt;</td>\n",
       "      <td>D</td>\n",
       "      <td>&lt;NA&gt;</td>\n",
       "      <td>De</td>\n",
       "      <td>&lt;NA&gt;</td>\n",
       "      <td>Den</td>\n",
       "      <td>W236</td>\n",
       "      <td>028</td>\n",
       "    </tr>\n",
       "    <tr>\n",
       "      <th>...</th>\n",
       "      <td>...</td>\n",
       "      <td>...</td>\n",
       "      <td>...</td>\n",
       "      <td>...</td>\n",
       "      <td>...</td>\n",
       "      <td>...</td>\n",
       "      <td>...</td>\n",
       "      <td>...</td>\n",
       "      <td>...</td>\n",
       "      <td>...</td>\n",
       "      <td>...</td>\n",
       "      <td>...</td>\n",
       "      <td>...</td>\n",
       "      <td>...</td>\n",
       "      <td>...</td>\n",
       "      <td>...</td>\n",
       "      <td>...</td>\n",
       "      <td>...</td>\n",
       "      <td>...</td>\n",
       "      <td>...</td>\n",
       "      <td>...</td>\n",
       "    </tr>\n",
       "    <tr>\n",
       "      <th>95</th>\n",
       "      <td>298-40-5780</td>\n",
       "      <td>Patricia</td>\n",
       "      <td>Jill</td>\n",
       "      <td>Diaz-Mojica</td>\n",
       "      <td>&lt;NA&gt;</td>\n",
       "      <td>KATE LOFTON DR</td>\n",
       "      <td>&lt;NA&gt;</td>\n",
       "      <td>&lt;NA&gt;</td>\n",
       "      <td>PORTSMOUTH</td>\n",
       "      <td>RI</td>\n",
       "      <td>...</td>\n",
       "      <td>Diaz-Mojica</td>\n",
       "      <td>J</td>\n",
       "      <td>P</td>\n",
       "      <td>D</td>\n",
       "      <td>Pa</td>\n",
       "      <td>Di</td>\n",
       "      <td>Pat</td>\n",
       "      <td>Dia</td>\n",
       "      <td>K341</td>\n",
       "      <td>028</td>\n",
       "    </tr>\n",
       "    <tr>\n",
       "      <th>96</th>\n",
       "      <td>299-61-5228</td>\n",
       "      <td>Paul</td>\n",
       "      <td>Michael</td>\n",
       "      <td>Herauf</td>\n",
       "      <td>1303</td>\n",
       "      <td>SPIRIT LN</td>\n",
       "      <td>&lt;NA&gt;</td>\n",
       "      <td>&lt;NA&gt;</td>\n",
       "      <td>NORTH SMITHFIELD</td>\n",
       "      <td>RI</td>\n",
       "      <td>...</td>\n",
       "      <td>Herauf</td>\n",
       "      <td>M</td>\n",
       "      <td>P</td>\n",
       "      <td>H</td>\n",
       "      <td>Pa</td>\n",
       "      <td>He</td>\n",
       "      <td>Pau</td>\n",
       "      <td>Her</td>\n",
       "      <td>S163</td>\n",
       "      <td>029</td>\n",
       "    </tr>\n",
       "    <tr>\n",
       "      <th>97</th>\n",
       "      <td>302-29-2206</td>\n",
       "      <td>Kelly</td>\n",
       "      <td>Lynda</td>\n",
       "      <td>Crenshaw</td>\n",
       "      <td>185</td>\n",
       "      <td>UN HOPE RD</td>\n",
       "      <td>&lt;NA&gt;</td>\n",
       "      <td>&lt;NA&gt;</td>\n",
       "      <td>WOONSOCKET</td>\n",
       "      <td>RI</td>\n",
       "      <td>...</td>\n",
       "      <td>Crenshaw</td>\n",
       "      <td>L</td>\n",
       "      <td>K</td>\n",
       "      <td>C</td>\n",
       "      <td>Ke</td>\n",
       "      <td>Cr</td>\n",
       "      <td>Kel</td>\n",
       "      <td>Cre</td>\n",
       "      <td>U516</td>\n",
       "      <td>&lt;NA&gt;</td>\n",
       "    </tr>\n",
       "    <tr>\n",
       "      <th>98</th>\n",
       "      <td>305-22-9633</td>\n",
       "      <td>Grace</td>\n",
       "      <td>Judy</td>\n",
       "      <td>W</td>\n",
       "      <td>195</td>\n",
       "      <td>STHWST FLORENCE LANE</td>\n",
       "      <td>LVL # 11 APT 93L</td>\n",
       "      <td>&lt;NA&gt;</td>\n",
       "      <td>CHARLESTOWN</td>\n",
       "      <td>RI</td>\n",
       "      <td>...</td>\n",
       "      <td>W</td>\n",
       "      <td>J</td>\n",
       "      <td>G</td>\n",
       "      <td>W</td>\n",
       "      <td>Gr</td>\n",
       "      <td>W</td>\n",
       "      <td>Gra</td>\n",
       "      <td>W</td>\n",
       "      <td>S323</td>\n",
       "      <td>028</td>\n",
       "    </tr>\n",
       "    <tr>\n",
       "      <th>99</th>\n",
       "      <td>306-99-5157</td>\n",
       "      <td>Nicole</td>\n",
       "      <td>Margarita</td>\n",
       "      <td>Howard</td>\n",
       "      <td>313</td>\n",
       "      <td>WST CLAY ST</td>\n",
       "      <td>&lt;NA&gt;</td>\n",
       "      <td>&lt;NA&gt;</td>\n",
       "      <td>NORTH KINGSTOWN</td>\n",
       "      <td>RI</td>\n",
       "      <td>...</td>\n",
       "      <td>Howard</td>\n",
       "      <td>M</td>\n",
       "      <td>N</td>\n",
       "      <td>H</td>\n",
       "      <td>Ni</td>\n",
       "      <td>Ho</td>\n",
       "      <td>Nic</td>\n",
       "      <td>How</td>\n",
       "      <td>W232</td>\n",
       "      <td>028</td>\n",
       "    </tr>\n",
       "  </tbody>\n",
       "</table>\n",
       "<p>100 rows × 31 columns</p>\n",
       "</div>"
      ],
      "text/plain": [
       "            ssn   first_name middle_name      last_name street_number  \\\n",
       "0   002-93-4462      Michele      Leslie       Hargrave            32   \n",
       "1   004-72-7764      Chahles      Steven  Kristofferson         11402   \n",
       "2   014-53-3880  Christopher        Gael          Capua            24   \n",
       "3   023-75-5584     Mauricio        Pate       Schaefer         37211   \n",
       "4   029-24-4378         <NA>      Adrian          Denny          3100   \n",
       "..          ...          ...         ...            ...           ...   \n",
       "95  298-40-5780     Patricia        Jill    Diaz-Mojica          <NA>   \n",
       "96  299-61-5228         Paul     Michael         Herauf          1303   \n",
       "97  302-29-2206        Kelly       Lynda       Crenshaw           185   \n",
       "98  305-22-9633        Grace        Judy              W           195   \n",
       "99  306-99-5157       Nicole   Margarita         Howard           313   \n",
       "\n",
       "             street_name       unit_number po_box              city state  \\\n",
       "0          LITTLE TURTLE              <NA>   <NA>        PROVIDENCE    RI   \n",
       "1          OLD COUNTY RD              <NA>   <NA>        PORTSMOUTH    RI   \n",
       "2       SLEEPY CREEK WAY              <NA>   <NA>       S KINGSTOWN    RI   \n",
       "3      BOILING BROOK DVE              <NA>   <NA>        PROVIDENCE    RI   \n",
       "4     WEST IRVING PARK R              <NA>   <NA>          COVENTRY    RI   \n",
       "..                   ...               ...    ...               ...   ...   \n",
       "95        KATE LOFTON DR              <NA>   <NA>        PORTSMOUTH    RI   \n",
       "96             SPIRIT LN              <NA>   <NA>  NORTH SMITHFIELD    RI   \n",
       "97            UN HOPE RD              <NA>   <NA>        WOONSOCKET    RI   \n",
       "98  STHWST FLORENCE LANE  LVL # 11 APT 93L   <NA>       CHARLESTOWN    RI   \n",
       "99           WST CLAY ST              <NA>   <NA>   NORTH KINGSTOWN    RI   \n",
       "\n",
       "    ...  last_name_12 middle_initial first_name_1  last_name_1  first_name_2  \\\n",
       "0   ...      Hargrave              L            M            H            Mi   \n",
       "1   ...  Kristofferso              S            C            K            Ch   \n",
       "2   ...         Capua              G            C            C            Ch   \n",
       "3   ...      Schaefer              P            M            S            Ma   \n",
       "4   ...         Denny              A         <NA>            D          <NA>   \n",
       "..  ...           ...            ...          ...          ...           ...   \n",
       "95  ...   Diaz-Mojica              J            P            D            Pa   \n",
       "96  ...        Herauf              M            P            H            Pa   \n",
       "97  ...      Crenshaw              L            K            C            Ke   \n",
       "98  ...             W              J            G            W            Gr   \n",
       "99  ...        Howard              M            N            H            Ni   \n",
       "\n",
       "    last_name_2 first_name_3 last_name_3 street_name_for_blocking_soundex  \\\n",
       "0            Ha          Mic         Har                             L343   \n",
       "1            Kr          Cha         Kri                             O432   \n",
       "2            Ca          Chr         Cap                             S412   \n",
       "3            Sc          Mau         Sch                             B452   \n",
       "4            De         <NA>         Den                             W236   \n",
       "..          ...          ...         ...                              ...   \n",
       "95           Di          Pat         Dia                             K341   \n",
       "96           He          Pau         Her                             S163   \n",
       "97           Cr          Kel         Cre                             U516   \n",
       "98            W          Gra           W                             S323   \n",
       "99           Ho          Nic         How                             W232   \n",
       "\n",
       "    zip3  \n",
       "0    029  \n",
       "1    028  \n",
       "2    029  \n",
       "3    028  \n",
       "4    028  \n",
       "..   ...  \n",
       "95   028  \n",
       "96   029  \n",
       "97  <NA>  \n",
       "98   028  \n",
       "99   028  \n",
       "\n",
       "[100 rows x 31 columns]"
      ]
     },
     "execution_count": 42,
     "metadata": {},
     "output_type": "execute_result"
    }
   ],
   "source": [
    "df_ops.head(geobase_reference_file, n=100)"
   ]
  },
  {
   "cell_type": "code",
   "execution_count": 43,
   "id": "96ad6959-51a8-4972-8262-81383e5a895a",
   "metadata": {
    "execution": {
     "iopub.execute_input": "2024-05-16T06:20:47.323382Z",
     "iopub.status.busy": "2024-05-16T06:20:47.322822Z",
     "iopub.status.idle": "2024-05-16T06:20:47.582197Z",
     "shell.execute_reply": "2024-05-16T06:20:47.579837Z"
    },
    "papermill": {
     "duration": 0.285507,
     "end_time": "2024-05-16T06:20:47.585109",
     "exception": false,
     "start_time": "2024-05-16T06:20:47.299602",
     "status": "completed"
    },
    "tags": []
   },
   "outputs": [
    {
     "data": {
      "text/plain": [
       "0.06940987909978932"
      ]
     },
     "execution_count": 43,
     "metadata": {},
     "output_type": "execute_result"
    }
   ],
   "source": [
    "df_ops.compute(geobase_reference_file.year_of_birth.isna().mean())"
   ]
  },
  {
   "cell_type": "code",
   "execution_count": 44,
   "id": "41f87268-5fc5-43cf-b2ee-debb8b6535b3",
   "metadata": {
    "execution": {
     "iopub.execute_input": "2024-05-16T06:20:47.630389Z",
     "iopub.status.busy": "2024-05-16T06:20:47.629749Z",
     "iopub.status.idle": "2024-05-16T06:20:47.638252Z",
     "shell.execute_reply": "2024-05-16T06:20:47.636716Z"
    },
    "papermill": {
     "duration": 0.033117,
     "end_time": "2024-05-16T06:20:47.640159",
     "exception": false,
     "start_time": "2024-05-16T06:20:47.607042",
     "status": "completed"
    },
    "tags": []
   },
   "outputs": [],
   "source": [
    "# df_ops.to_parquet(geobase_reference_file, f'{intermediate_data_dir}/geobase_reference_file_prepped.parquet')"
   ]
  },
  {
   "cell_type": "code",
   "execution_count": 45,
   "id": "c749e6f5-75aa-45a8-8007-7051d12019b8",
   "metadata": {
    "execution": {
     "iopub.execute_input": "2024-05-16T06:20:47.688710Z",
     "iopub.status.busy": "2024-05-16T06:20:47.688082Z",
     "iopub.status.idle": "2024-05-16T06:20:47.786582Z",
     "shell.execute_reply": "2024-05-16T06:20:47.785496Z"
    },
    "papermill": {
     "duration": 0.123761,
     "end_time": "2024-05-16T06:20:47.787868",
     "exception": false,
     "start_time": "2024-05-16T06:20:47.664107",
     "status": "completed"
    },
    "tags": []
   },
   "outputs": [
    {
     "name": "stdout",
     "output_type": "stream",
     "text": [
      "1,803,208\n"
     ]
    }
   ],
   "source": [
    "print(f'{len(name_dob_reference_file):,.0f}')"
   ]
  },
  {
   "cell_type": "code",
   "execution_count": 46,
   "id": "cebf9174-67d5-47e7-a072-5b2998faf57c",
   "metadata": {
    "execution": {
     "iopub.execute_input": "2024-05-16T06:20:47.833061Z",
     "iopub.status.busy": "2024-05-16T06:20:47.832027Z",
     "iopub.status.idle": "2024-05-16T06:20:48.369135Z",
     "shell.execute_reply": "2024-05-16T06:20:48.368086Z"
    },
    "papermill": {
     "duration": 0.560348,
     "end_time": "2024-05-16T06:20:48.370646",
     "exception": false,
     "start_time": "2024-05-16T06:20:47.810298",
     "status": "completed"
    },
    "tags": []
   },
   "outputs": [
    {
     "data": {
      "text/html": [
       "<div>\n",
       "<style scoped>\n",
       "    .dataframe tbody tr th:only-of-type {\n",
       "        vertical-align: middle;\n",
       "    }\n",
       "\n",
       "    .dataframe tbody tr th {\n",
       "        vertical-align: top;\n",
       "    }\n",
       "\n",
       "    .dataframe thead th {\n",
       "        text-align: right;\n",
       "    }\n",
       "</style>\n",
       "<table border=\"1\" class=\"dataframe\">\n",
       "  <thead>\n",
       "    <tr style=\"text-align: right;\">\n",
       "      <th></th>\n",
       "      <th>ssn</th>\n",
       "      <th>first_name</th>\n",
       "      <th>middle_name</th>\n",
       "      <th>last_name</th>\n",
       "      <th>record_id</th>\n",
       "      <th>pik</th>\n",
       "      <th>month_of_birth</th>\n",
       "      <th>year_of_birth</th>\n",
       "      <th>day_of_birth</th>\n",
       "      <th>first_name_15</th>\n",
       "      <th>...</th>\n",
       "      <th>first_name_2</th>\n",
       "      <th>last_name_2</th>\n",
       "      <th>first_name_3</th>\n",
       "      <th>last_name_3</th>\n",
       "      <th>first_name_nysiis</th>\n",
       "      <th>first_name_reverse_soundex</th>\n",
       "      <th>last_name_nysiis</th>\n",
       "      <th>last_name_reverse_soundex</th>\n",
       "      <th>first_initial_cut</th>\n",
       "      <th>last_initial_cut</th>\n",
       "    </tr>\n",
       "  </thead>\n",
       "  <tbody>\n",
       "    <tr>\n",
       "      <th>0</th>\n",
       "      <td>001-04-3187</td>\n",
       "      <td>Bryson</td>\n",
       "      <td>Brayden</td>\n",
       "      <td>Hampton</td>\n",
       "      <td>simulated_name_dob_reference_file_0_0</td>\n",
       "      <td>2_46</td>\n",
       "      <td>6.0</td>\n",
       "      <td>2013.0</td>\n",
       "      <td>9.0</td>\n",
       "      <td>Bryson</td>\n",
       "      <td>...</td>\n",
       "      <td>Br</td>\n",
       "      <td>Ha</td>\n",
       "      <td>Bry</td>\n",
       "      <td>Ham</td>\n",
       "      <td>BRYSAN</td>\n",
       "      <td>N261</td>\n",
       "      <td>HANPTAN</td>\n",
       "      <td>N315</td>\n",
       "      <td>B</td>\n",
       "      <td>H</td>\n",
       "    </tr>\n",
       "    <tr>\n",
       "      <th>1</th>\n",
       "      <td>001-08-0869</td>\n",
       "      <td>Caroline</td>\n",
       "      <td>Allison</td>\n",
       "      <td>Yim</td>\n",
       "      <td>simulated_name_dob_reference_file_0_3</td>\n",
       "      <td>2_118</td>\n",
       "      <td>8.0</td>\n",
       "      <td>2026.0</td>\n",
       "      <td>24.0</td>\n",
       "      <td>Caroline</td>\n",
       "      <td>...</td>\n",
       "      <td>Ca</td>\n",
       "      <td>Yi</td>\n",
       "      <td>Car</td>\n",
       "      <td>Yim</td>\n",
       "      <td>CARALAN</td>\n",
       "      <td>E546</td>\n",
       "      <td>YAN</td>\n",
       "      <td>M000</td>\n",
       "      <td>C</td>\n",
       "      <td>U-Z</td>\n",
       "    </tr>\n",
       "    <tr>\n",
       "      <th>2</th>\n",
       "      <td>001-09-6183</td>\n",
       "      <td>Michelle</td>\n",
       "      <td>Andrea</td>\n",
       "      <td>Wilson</td>\n",
       "      <td>simulated_name_dob_reference_file_0_6</td>\n",
       "      <td>2_139</td>\n",
       "      <td>5.0</td>\n",
       "      <td>1968.0</td>\n",
       "      <td>10.0</td>\n",
       "      <td>Michelle</td>\n",
       "      <td>...</td>\n",
       "      <td>Mi</td>\n",
       "      <td>Wi</td>\n",
       "      <td>Mic</td>\n",
       "      <td>Wil</td>\n",
       "      <td>MACAL</td>\n",
       "      <td>E425</td>\n",
       "      <td>WALSAN</td>\n",
       "      <td>N240</td>\n",
       "      <td>M</td>\n",
       "      <td>U-Z</td>\n",
       "    </tr>\n",
       "    <tr>\n",
       "      <th>3</th>\n",
       "      <td>001-13-6513</td>\n",
       "      <td>Robert</td>\n",
       "      <td>George</td>\n",
       "      <td>Mcclure</td>\n",
       "      <td>simulated_name_dob_reference_file_0_7</td>\n",
       "      <td>2_205</td>\n",
       "      <td>4.0</td>\n",
       "      <td>1954.0</td>\n",
       "      <td>24.0</td>\n",
       "      <td>Robert</td>\n",
       "      <td>...</td>\n",
       "      <td>Ro</td>\n",
       "      <td>Mc</td>\n",
       "      <td>Rob</td>\n",
       "      <td>Mcc</td>\n",
       "      <td>RABAD</td>\n",
       "      <td>T616</td>\n",
       "      <td>MCLAR</td>\n",
       "      <td>E642</td>\n",
       "      <td>R</td>\n",
       "      <td>M</td>\n",
       "    </tr>\n",
       "    <tr>\n",
       "      <th>4</th>\n",
       "      <td>001-15-8708</td>\n",
       "      <td>London</td>\n",
       "      <td>Brooklynn</td>\n",
       "      <td>Fisher</td>\n",
       "      <td>simulated_name_dob_reference_file_0_9</td>\n",
       "      <td>2_251</td>\n",
       "      <td>8.0</td>\n",
       "      <td>2013.0</td>\n",
       "      <td>17.0</td>\n",
       "      <td>London</td>\n",
       "      <td>...</td>\n",
       "      <td>Lo</td>\n",
       "      <td>Fi</td>\n",
       "      <td>Lon</td>\n",
       "      <td>Fis</td>\n",
       "      <td>LANDAN</td>\n",
       "      <td>N354</td>\n",
       "      <td>FASAR</td>\n",
       "      <td>R210</td>\n",
       "      <td>L</td>\n",
       "      <td>F</td>\n",
       "    </tr>\n",
       "    <tr>\n",
       "      <th>...</th>\n",
       "      <td>...</td>\n",
       "      <td>...</td>\n",
       "      <td>...</td>\n",
       "      <td>...</td>\n",
       "      <td>...</td>\n",
       "      <td>...</td>\n",
       "      <td>...</td>\n",
       "      <td>...</td>\n",
       "      <td>...</td>\n",
       "      <td>...</td>\n",
       "      <td>...</td>\n",
       "      <td>...</td>\n",
       "      <td>...</td>\n",
       "      <td>...</td>\n",
       "      <td>...</td>\n",
       "      <td>...</td>\n",
       "      <td>...</td>\n",
       "      <td>...</td>\n",
       "      <td>...</td>\n",
       "      <td>...</td>\n",
       "      <td>...</td>\n",
       "    </tr>\n",
       "    <tr>\n",
       "      <th>95</th>\n",
       "      <td>006-84-9077</td>\n",
       "      <td>Jo</td>\n",
       "      <td>Emma</td>\n",
       "      <td>Wanous</td>\n",
       "      <td>simulated_name_dob_reference_file_0_252</td>\n",
       "      <td>2_10878</td>\n",
       "      <td>6.0</td>\n",
       "      <td>1948.0</td>\n",
       "      <td>26.0</td>\n",
       "      <td>Jo</td>\n",
       "      <td>...</td>\n",
       "      <td>Jo</td>\n",
       "      <td>Wa</td>\n",
       "      <td>Jo</td>\n",
       "      <td>Wan</td>\n",
       "      <td>J</td>\n",
       "      <td>O200</td>\n",
       "      <td>WAN</td>\n",
       "      <td>S500</td>\n",
       "      <td>J</td>\n",
       "      <td>U-Z</td>\n",
       "    </tr>\n",
       "    <tr>\n",
       "      <th>96</th>\n",
       "      <td>006-87-9713</td>\n",
       "      <td>Jalen</td>\n",
       "      <td>Michael</td>\n",
       "      <td>Lien</td>\n",
       "      <td>simulated_name_dob_reference_file_0_253</td>\n",
       "      <td>2_10939</td>\n",
       "      <td>8.0</td>\n",
       "      <td>1977.0</td>\n",
       "      <td>21.0</td>\n",
       "      <td>Jalen</td>\n",
       "      <td>...</td>\n",
       "      <td>Ja</td>\n",
       "      <td>Li</td>\n",
       "      <td>Jal</td>\n",
       "      <td>Lie</td>\n",
       "      <td>JALAN</td>\n",
       "      <td>N420</td>\n",
       "      <td>LAN</td>\n",
       "      <td>N400</td>\n",
       "      <td>J</td>\n",
       "      <td>L</td>\n",
       "    </tr>\n",
       "    <tr>\n",
       "      <th>97</th>\n",
       "      <td>006-93-8816</td>\n",
       "      <td>William</td>\n",
       "      <td>Lincoln</td>\n",
       "      <td>Kaina</td>\n",
       "      <td>simulated_name_dob_reference_file_0_256</td>\n",
       "      <td>2_11045</td>\n",
       "      <td>12.0</td>\n",
       "      <td>1964.0</td>\n",
       "      <td>15.0</td>\n",
       "      <td>William</td>\n",
       "      <td>...</td>\n",
       "      <td>Wi</td>\n",
       "      <td>Ka</td>\n",
       "      <td>Wil</td>\n",
       "      <td>Kai</td>\n",
       "      <td>WALAN</td>\n",
       "      <td>M400</td>\n",
       "      <td>CAN</td>\n",
       "      <td>A520</td>\n",
       "      <td>U-Z</td>\n",
       "      <td>K</td>\n",
       "    </tr>\n",
       "    <tr>\n",
       "      <th>98</th>\n",
       "      <td>007-02-0182</td>\n",
       "      <td>Mary</td>\n",
       "      <td>Alexis</td>\n",
       "      <td>Espinal</td>\n",
       "      <td>simulated_name_dob_reference_file_0_263</td>\n",
       "      <td>2_11182</td>\n",
       "      <td>2.0</td>\n",
       "      <td>1998.0</td>\n",
       "      <td>23.0</td>\n",
       "      <td>Mary</td>\n",
       "      <td>...</td>\n",
       "      <td>Ma</td>\n",
       "      <td>Es</td>\n",
       "      <td>Mar</td>\n",
       "      <td>Esp</td>\n",
       "      <td>MARY</td>\n",
       "      <td>Y650</td>\n",
       "      <td>ESPANAL</td>\n",
       "      <td>L512</td>\n",
       "      <td>M</td>\n",
       "      <td>E</td>\n",
       "    </tr>\n",
       "    <tr>\n",
       "      <th>99</th>\n",
       "      <td>007-23-1084</td>\n",
       "      <td>Mekhi</td>\n",
       "      <td>Alexis</td>\n",
       "      <td>Schlett</td>\n",
       "      <td>simulated_name_dob_reference_file_0_270</td>\n",
       "      <td>2_11558</td>\n",
       "      <td>8.0</td>\n",
       "      <td>2011.0</td>\n",
       "      <td>11.0</td>\n",
       "      <td>Mekhi</td>\n",
       "      <td>...</td>\n",
       "      <td>Me</td>\n",
       "      <td>Sc</td>\n",
       "      <td>Mek</td>\n",
       "      <td>Sch</td>\n",
       "      <td>MACK</td>\n",
       "      <td>I250</td>\n",
       "      <td>SLAT</td>\n",
       "      <td>T420</td>\n",
       "      <td>M</td>\n",
       "      <td>S</td>\n",
       "    </tr>\n",
       "  </tbody>\n",
       "</table>\n",
       "<p>100 rows × 24 columns</p>\n",
       "</div>"
      ],
      "text/plain": [
       "            ssn first_name middle_name last_name  \\\n",
       "0   001-04-3187     Bryson     Brayden   Hampton   \n",
       "1   001-08-0869   Caroline     Allison       Yim   \n",
       "2   001-09-6183   Michelle      Andrea    Wilson   \n",
       "3   001-13-6513     Robert      George   Mcclure   \n",
       "4   001-15-8708     London   Brooklynn    Fisher   \n",
       "..          ...        ...         ...       ...   \n",
       "95  006-84-9077         Jo        Emma    Wanous   \n",
       "96  006-87-9713      Jalen     Michael      Lien   \n",
       "97  006-93-8816    William     Lincoln     Kaina   \n",
       "98  007-02-0182       Mary      Alexis   Espinal   \n",
       "99  007-23-1084      Mekhi      Alexis   Schlett   \n",
       "\n",
       "                                  record_id      pik  month_of_birth  \\\n",
       "0     simulated_name_dob_reference_file_0_0     2_46             6.0   \n",
       "1     simulated_name_dob_reference_file_0_3    2_118             8.0   \n",
       "2     simulated_name_dob_reference_file_0_6    2_139             5.0   \n",
       "3     simulated_name_dob_reference_file_0_7    2_205             4.0   \n",
       "4     simulated_name_dob_reference_file_0_9    2_251             8.0   \n",
       "..                                      ...      ...             ...   \n",
       "95  simulated_name_dob_reference_file_0_252  2_10878             6.0   \n",
       "96  simulated_name_dob_reference_file_0_253  2_10939             8.0   \n",
       "97  simulated_name_dob_reference_file_0_256  2_11045            12.0   \n",
       "98  simulated_name_dob_reference_file_0_263  2_11182             2.0   \n",
       "99  simulated_name_dob_reference_file_0_270  2_11558             8.0   \n",
       "\n",
       "    year_of_birth  day_of_birth first_name_15  ... first_name_2 last_name_2  \\\n",
       "0          2013.0           9.0        Bryson  ...           Br          Ha   \n",
       "1          2026.0          24.0      Caroline  ...           Ca          Yi   \n",
       "2          1968.0          10.0      Michelle  ...           Mi          Wi   \n",
       "3          1954.0          24.0        Robert  ...           Ro          Mc   \n",
       "4          2013.0          17.0        London  ...           Lo          Fi   \n",
       "..            ...           ...           ...  ...          ...         ...   \n",
       "95         1948.0          26.0            Jo  ...           Jo          Wa   \n",
       "96         1977.0          21.0         Jalen  ...           Ja          Li   \n",
       "97         1964.0          15.0       William  ...           Wi          Ka   \n",
       "98         1998.0          23.0          Mary  ...           Ma          Es   \n",
       "99         2011.0          11.0         Mekhi  ...           Me          Sc   \n",
       "\n",
       "   first_name_3 last_name_3 first_name_nysiis first_name_reverse_soundex  \\\n",
       "0           Bry         Ham            BRYSAN                       N261   \n",
       "1           Car         Yim           CARALAN                       E546   \n",
       "2           Mic         Wil             MACAL                       E425   \n",
       "3           Rob         Mcc             RABAD                       T616   \n",
       "4           Lon         Fis            LANDAN                       N354   \n",
       "..          ...         ...               ...                        ...   \n",
       "95           Jo         Wan                 J                       O200   \n",
       "96          Jal         Lie             JALAN                       N420   \n",
       "97          Wil         Kai             WALAN                       M400   \n",
       "98          Mar         Esp              MARY                       Y650   \n",
       "99          Mek         Sch              MACK                       I250   \n",
       "\n",
       "   last_name_nysiis last_name_reverse_soundex first_initial_cut  \\\n",
       "0           HANPTAN                      N315                 B   \n",
       "1               YAN                      M000                 C   \n",
       "2            WALSAN                      N240                 M   \n",
       "3             MCLAR                      E642                 R   \n",
       "4             FASAR                      R210                 L   \n",
       "..              ...                       ...               ...   \n",
       "95              WAN                      S500                 J   \n",
       "96              LAN                      N400                 J   \n",
       "97              CAN                      A520               U-Z   \n",
       "98          ESPANAL                      L512                 M   \n",
       "99             SLAT                      T420                 M   \n",
       "\n",
       "   last_initial_cut  \n",
       "0                 H  \n",
       "1               U-Z  \n",
       "2               U-Z  \n",
       "3                 M  \n",
       "4                 F  \n",
       "..              ...  \n",
       "95              U-Z  \n",
       "96                L  \n",
       "97                K  \n",
       "98                E  \n",
       "99                S  \n",
       "\n",
       "[100 rows x 24 columns]"
      ]
     },
     "execution_count": 46,
     "metadata": {},
     "output_type": "execute_result"
    }
   ],
   "source": [
    "df_ops.head(name_dob_reference_file, n=100)"
   ]
  },
  {
   "cell_type": "code",
   "execution_count": 47,
   "id": "c3d4ebae-cf4c-45be-a7d7-db4062407e68",
   "metadata": {
    "execution": {
     "iopub.execute_input": "2024-05-16T06:20:48.424674Z",
     "iopub.status.busy": "2024-05-16T06:20:48.423960Z",
     "iopub.status.idle": "2024-05-16T06:20:48.591228Z",
     "shell.execute_reply": "2024-05-16T06:20:48.589928Z"
    },
    "papermill": {
     "duration": 0.194085,
     "end_time": "2024-05-16T06:20:48.594897",
     "exception": false,
     "start_time": "2024-05-16T06:20:48.400812",
     "status": "completed"
    },
    "tags": []
   },
   "outputs": [
    {
     "data": {
      "text/plain": [
       "0.07811300748443885"
      ]
     },
     "execution_count": 47,
     "metadata": {},
     "output_type": "execute_result"
    }
   ],
   "source": [
    "df_ops.compute(name_dob_reference_file.year_of_birth.isna().mean())"
   ]
  },
  {
   "cell_type": "code",
   "execution_count": 48,
   "id": "73a64260-0815-456a-9166-10b7be194d02",
   "metadata": {
    "execution": {
     "iopub.execute_input": "2024-05-16T06:20:48.647033Z",
     "iopub.status.busy": "2024-05-16T06:20:48.646412Z",
     "iopub.status.idle": "2024-05-16T06:20:48.655339Z",
     "shell.execute_reply": "2024-05-16T06:20:48.653558Z"
    },
    "papermill": {
     "duration": 0.034218,
     "end_time": "2024-05-16T06:20:48.657488",
     "exception": false,
     "start_time": "2024-05-16T06:20:48.623270",
     "status": "completed"
    },
    "tags": []
   },
   "outputs": [],
   "source": [
    "# df_ops.to_parquet(name_dob_reference_file, f'{intermediate_data_dir}/name_dob_reference_file_prepped.parquet')"
   ]
  },
  {
   "cell_type": "markdown",
   "id": "57a115b7-6215-4bcf-8444-ef2223040a02",
   "metadata": {
    "papermill": {
     "duration": 0.022353,
     "end_time": "2024-05-16T06:20:48.702718",
     "exception": false,
     "start_time": "2024-05-16T06:20:48.680365",
     "status": "completed"
    },
    "tags": []
   },
   "source": [
    "# Emulate Multi-Match with splink\n",
    "\n",
    "Wagner and Layne, p. 8:\n",
    "\n",
    "> The PVS employs its probabilistic record linkage software, Multi-Match (Wagner\n",
    "2012), as an integral part of the PVS.\n",
    "\n",
    "Wagner and Layne, p. 12:\n",
    "\n",
    "> PVS uses the same Multi-Match engine for each probabilistic search type. For each\n",
    "search module the analyst defines a parameter file, which is passed to Multi-Match. The\n",
    "parameter file includes threshold value(s) for the number of passes, blocking keys, and\n",
    "within each pass, the match variables, match comparison type, and matching weights...\n",
    ">\n",
    "> Records must first match exactly on the blocking keys before any comparisons\n",
    "between the match variables are attempted. Each match variable is given an\n",
    "m and\n",
    "u\n",
    "probability, which is translated by MultiMatch as agreement and disagreement weights.\n",
    "The sum of all match variable comparison weights for a record pair is the composite\n",
    "weight. All record pairs with a composite weight greater than or equal to the threshold\n",
    "set in the parameter file are linked, and the records from the incoming file for these\n",
    "linked cases are excluded from all remaining passes. All Numident records are always\n",
    "available for linking in every pass. Any record missing data for any of the blocking fields\n",
    "for a pass skips that pass and moves to the next pass.\n",
    "\n",
    "[splink](https://github.com/moj-analytical-services/splink) is similar to Multi-Match\n",
    "(both are based on the Fellegi-Sunter approach to record linkage).\n",
    "It also implements:\n",
    "- Exact blocking on specified keys\n",
    "- Determining overall match probability based on conditional independence of individual field comparisons\n",
    "  (it is equivalent to multiply the probability ratios, or sum the logarithmic \"weights\" as Multi-Match describes it),\n",
    "  which each have m and u probabilities\n",
    "- Setting a match threshold\n",
    "\n",
    "However, splink does not include some additional logic built into Multi-Match,\n",
    "specifically the ability to run multiple \"passes,\" removing linked records from\n",
    "subsequent passes.\n",
    "We have to implement that ourselves, calling splink again in each pass."
   ]
  },
  {
   "cell_type": "markdown",
   "id": "3a52fa1a-85ca-4a5a-a978-08e43c5b9eb0",
   "metadata": {
    "papermill": {
     "duration": 0.021554,
     "end_time": "2024-05-16T06:20:48.746031",
     "exception": false,
     "start_time": "2024-05-16T06:20:48.724477",
     "status": "completed"
    },
    "tags": []
   },
   "source": [
    "## Estimate parameters (lambda, m, u) once for all modules\n",
    "\n",
    "In Multi-Match, there is no lambda (prior probability of a link, before any comparisons are observed).\n",
    "This is because Multi-Match works entirely in weight space, and sets different weight thresholds\n",
    "in different modules/passes instead of changing the prior probability.\n",
    "\n",
    "In Multi-Match parameters are not directly estimated from the data.\n",
    "They are primarily set manually by analysts, with a different set of parameter files\n",
    "maintained for each type of input file (e.g. survey, administrative).\n",
    "\n",
    "All parameters except lambda are column-level parameters.\n",
    "We estimate the column-level parameters using the GeoBase Reference File,\n",
    "since it has all columns that are used for matching with any reference file.\n",
    "\n",
    "We estimate lambda (manually, see below) separately by reference file,\n",
    "since the number of records is different between the reference files but\n",
    "the size of the underlying population (people we are trying to match) is constant."
   ]
  },
  {
   "cell_type": "markdown",
   "id": "0f5283ef-c44f-4a19-9f58-a0d091697f1a",
   "metadata": {
    "papermill": {
     "duration": 0.021929,
     "end_time": "2024-05-16T06:20:48.789274",
     "exception": false,
     "start_time": "2024-05-16T06:20:48.767345",
     "status": "completed"
    },
    "tags": []
   },
   "source": [
    "### lambda (prior probability of a match)\n",
    "\n",
    "Splink has a built-in method (estimate_probability_two_random_records_match)\n",
    "for estimating this, but it did not seem to give me reasonable estimates.\n",
    "\n",
    "We just make an informed guess here based on how much overlap we expect\n",
    "in the files, how much unintentional duplication we expect in the files (e.g. someone\n",
    "being enumerated twice), how much *intentional* duplication we have in the\n",
    "files (e.g. a record for each nickname variant), and some simplifying assumptions.\n",
    "\n",
    "Our assumptions:\n",
    "- 5% of the enumerations in the CUF are unintentional duplicates\n",
    "- 0.5% of the PIKs in the reference file are unintentional duplicates\n",
    "  (that same person is also represented with a different PIK)\n",
    "- 90% of the people in the CUF are represented in the reference files\n",
    "- Being represented in both files is independent of being unintentionally\n",
    "  or intentionally duplicated\n",
    "- Being intentionally duplicated in one file is independent of being intentionally\n",
    "  duplicated in the other (likely not true since having a name with lots of variants\n",
    "  would cause intentional duplicates in both)\n",
    "\n",
    "We do this first (before m and u probabilities) because having lambda estimated is\n",
    "useful to the EM algorithm for estimating m and u."
   ]
  },
  {
   "cell_type": "code",
   "execution_count": 49,
   "id": "9e179c13-03b3-4100-81d7-5db54c05c371",
   "metadata": {
    "execution": {
     "iopub.execute_input": "2024-05-16T06:20:48.837874Z",
     "iopub.status.busy": "2024-05-16T06:20:48.835942Z",
     "iopub.status.idle": "2024-05-16T06:20:55.826787Z",
     "shell.execute_reply": "2024-05-16T06:20:55.824931Z"
    },
    "papermill": {
     "duration": 7.01946,
     "end_time": "2024-05-16T06:20:55.830689",
     "exception": false,
     "start_time": "2024-05-16T06:20:48.811229",
     "status": "completed"
    },
    "tags": []
   },
   "outputs": [
    {
     "name": "stdout",
     "output_type": "stream",
     "text": [
      "Imbalanced dataframe: too_few=False, too_many=True, too_large=False\n",
      "count       240.000000\n",
      "mean     114359.883333\n",
      "std      182906.599673\n",
      "min           0.000000\n",
      "25%           0.000000\n",
      "50%         467.000000\n",
      "75%      191884.500000\n",
      "max      745894.000000\n",
      "dtype: float64\n",
      "Creating partitions of 100MB\n"
     ]
    },
    {
     "data": {
      "text/plain": [
       "1.8424245002453127e-07"
      ]
     },
     "execution_count": 49,
     "metadata": {},
     "output_type": "execute_result"
    }
   ],
   "source": [
    "def estimate_number_true_matches(input_file, reference_file):\n",
    "    people_represented_in_input_file = (\n",
    "        len(df_ops.drop_duplicates(input_file[['record_id_raw_input_file']])) * 0.95\n",
    "    )\n",
    "    people_represented_in_reference_file = (\n",
    "        len(df_ops.drop_duplicates(reference_file[['pik']])) * 0.995\n",
    "    )\n",
    "    people_represented_in_both = people_represented_in_input_file * 0.9\n",
    "\n",
    "    # Assuming independence conditions as noted above, the number of true\n",
    "    # matches that should be found for *each* true person is the expected number\n",
    "    # of records in one file times the expected number of records in the other\n",
    "    input_file_records_per_person = people_represented_in_input_file / len(input_file)\n",
    "    reference_file_records_per_person = people_represented_in_reference_file / len(reference_file)\n",
    "    record_matches_per_person = input_file_records_per_person * reference_file_records_per_person\n",
    "\n",
    "    return people_represented_in_both * record_matches_per_person\n",
    "\n",
    "def probability_two_random_records_match(input_file, reference_file):\n",
    "    cartesian_product = len(input_file) * len(reference_file)\n",
    "    if cartesian_product == 0:\n",
    "        # Does not matter\n",
    "        return 0.5\n",
    "\n",
    "    return (\n",
    "        estimate_number_true_matches(input_file, reference_file) /\n",
    "        cartesian_product\n",
    "    )\n",
    "\n",
    "probability_two_random_records_match(census_2030, geobase_reference_file)"
   ]
  },
  {
   "cell_type": "markdown",
   "id": "2d798575-22de-4515-942c-60ecc0dbe3a0",
   "metadata": {
    "papermill": {
     "duration": 0.022623,
     "end_time": "2024-05-16T06:20:55.885349",
     "exception": false,
     "start_time": "2024-05-16T06:20:55.862726",
     "status": "completed"
    },
    "tags": []
   },
   "source": [
    "### m and u probabilities"
   ]
  },
  {
   "cell_type": "code",
   "execution_count": 50,
   "id": "07e5cd59-59c0-4ef5-bcba-f7168f7492fd",
   "metadata": {
    "execution": {
     "iopub.execute_input": "2024-05-16T06:20:55.932297Z",
     "iopub.status.busy": "2024-05-16T06:20:55.931527Z",
     "iopub.status.idle": "2024-05-16T06:21:00.278920Z",
     "shell.execute_reply": "2024-05-16T06:21:00.276693Z"
    },
    "papermill": {
     "duration": 4.375671,
     "end_time": "2024-05-16T06:21:00.282594",
     "exception": false,
     "start_time": "2024-05-16T06:20:55.906923",
     "status": "completed"
    },
    "tags": []
   },
   "outputs": [
    {
     "name": "stderr",
     "output_type": "stream",
     "text": [
      "24/05/16 06:20:58 WARN NativeCodeLoader: Unable to load native-hadoop library for your platform... using builtin-java classes where applicable\n",
      "Setting default log level to \"WARN\".\n",
      "To adjust logging level use sc.setLogLevel(newLevel). For SparkR, use setLogLevel(newLevel).\n"
     ]
    },
    {
     "name": "stderr",
     "output_type": "stream",
     "text": [
      "24/05/16 06:21:00 WARN SparkContext: Spark is not running in local mode, therefore the checkpoint directory must not be on the local filesystem. Directory '/ihme/scratch/users/zmbc/person_linkage_case_study/results//ri/tmpCheckpoints' appears to be on the local filesystem.\n"
     ]
    }
   ],
   "source": [
    "if splink_engine == 'spark':\n",
    "    # https://moj-analytical-services.github.io/splink/demos/examples/spark/deduplicate_1k_synthetic.html\n",
    "    from splink.spark.jar_location import similarity_jar_location\n",
    "\n",
    "    from pyspark import SparkContext, SparkConf\n",
    "    from pyspark.sql import SparkSession\n",
    "    from pyspark.sql import types\n",
    "\n",
    "    conf = SparkConf()\n",
    "    conf.setMaster(os.getenv(\"LINKER_SPARK_MASTER_URL\", spark_master_url))\n",
    "    conf.set(\"spark.driver.memory\", \"8g\")\n",
    "    conf.set(\"spark.executor.instances\", spark_num_workers)\n",
    "    conf.set(\"spark.executor.cores\", 1)\n",
    "    conf.set(\"spark.executor.memory\", f\"{spark_memory_per_worker - spark_worker_memory_overhead_mb}m\")\n",
    "\n",
    "    conf.set(\"spark.sql.shuffle.partitions\", spark_num_workers * 5)\n",
    "    conf.set(\"spark.default.parallelism\", spark_num_workers * 5)\n",
    "\n",
    "    # Add custom similarity functions, which are bundled with Splink\n",
    "    # documented here: https://github.com/moj-analytical-services/splink_scalaudfs\n",
    "    path = similarity_jar_location()\n",
    "    conf.set(\"spark.jars\", path)\n",
    "\n",
    "    sc = SparkContext.getOrCreate(conf=conf)\n",
    "\n",
    "    spark = SparkSession(sc)\n",
    "    checkpoints_dir = f\"{output_dir}/tmpCheckpoints\"\n",
    "    utils.ensure_empty(checkpoints_dir)\n",
    "    spark.sparkContext.setCheckpointDir(checkpoints_dir)"
   ]
  },
  {
   "cell_type": "code",
   "execution_count": 51,
   "id": "0b42b5e3-d681-48c0-9a85-4aa695017c20",
   "metadata": {
    "execution": {
     "iopub.execute_input": "2024-05-16T06:21:00.338384Z",
     "iopub.status.busy": "2024-05-16T06:21:00.337732Z",
     "iopub.status.idle": "2024-05-16T06:21:00.349516Z",
     "shell.execute_reply": "2024-05-16T06:21:00.348411Z"
    },
    "papermill": {
     "duration": 0.037932,
     "end_time": "2024-05-16T06:21:00.351317",
     "exception": false,
     "start_time": "2024-05-16T06:21:00.313385",
     "status": "completed"
    },
    "tags": []
   },
   "outputs": [
    {
     "data": {
      "text/plain": [
       "['first_name',\n",
       " 'middle_initial',\n",
       " 'last_name',\n",
       " 'street_number',\n",
       " 'street_name',\n",
       " 'unit_number',\n",
       " 'city',\n",
       " 'state',\n",
       " 'zipcode',\n",
       " 'record_id',\n",
       " 'month_of_birth',\n",
       " 'year_of_birth',\n",
       " 'day_of_birth',\n",
       " 'geokey',\n",
       " 'geokey_for_blocking',\n",
       " 'street_number_for_blocking',\n",
       " 'street_name_for_blocking',\n",
       " 'first_name_15',\n",
       " 'last_name_12',\n",
       " 'first_name_1',\n",
       " 'last_name_1',\n",
       " 'first_name_2',\n",
       " 'last_name_2',\n",
       " 'first_name_3',\n",
       " 'last_name_3',\n",
       " 'street_name_for_blocking_soundex',\n",
       " 'zip3']"
      ]
     },
     "execution_count": 51,
     "metadata": {},
     "output_type": "execute_result"
    }
   ],
   "source": [
    "common_cols = [c for c in census_2030.columns if c in geobase_reference_file.columns]\n",
    "common_cols"
   ]
  },
  {
   "cell_type": "code",
   "execution_count": 52,
   "id": "c39465e9-edee-4a73-ac63-c4f060013a00",
   "metadata": {
    "execution": {
     "iopub.execute_input": "2024-05-16T06:21:00.399160Z",
     "iopub.status.busy": "2024-05-16T06:21:00.398545Z",
     "iopub.status.idle": "2024-05-16T06:21:08.645401Z",
     "shell.execute_reply": "2024-05-16T06:21:08.643360Z"
    },
    "papermill": {
     "duration": 8.274006,
     "end_time": "2024-05-16T06:21:08.648998",
     "exception": false,
     "start_time": "2024-05-16T06:21:00.374992",
     "status": "completed"
    },
    "tags": []
   },
   "outputs": [
    {
     "name": "stderr",
     "output_type": "stream",
     "text": [
      "\r",
      "[Stage 0:>                                                          (0 + 1) / 1]\r"
     ]
    },
    {
     "name": "stderr",
     "output_type": "stream",
     "text": [
      "\r",
      "                                                                                \r"
     ]
    },
    {
     "name": "stderr",
     "output_type": "stream",
     "text": [
      "\r",
      "[Stage 1:>                                                          (0 + 1) / 1]\r"
     ]
    },
    {
     "name": "stderr",
     "output_type": "stream",
     "text": [
      "\r",
      "                                                                                \r"
     ]
    }
   ],
   "source": [
    "def prep_table_for_splink(df, dataset_name, columns):\n",
    "    result = (\n",
    "        df[[c for c in df.columns if c in columns]]\n",
    "    )\n",
    "    if compute_engine == 'pandas' or splink_engine == 'duckdb':\n",
    "        # Needs to all be in one process anyway\n",
    "        return df_ops.compute(result)\n",
    "    else:\n",
    "        utils.ensure_empty(f'{intermediate_data_dir}/for_splink/{dataset_name}')\n",
    "        file_path = f'{intermediate_data_dir}/for_splink/{dataset_name}/{dataset_name}_{int(time.time())}.parquet'\n",
    "        df_ops.to_parquet(result, file_path, wait=True, write_index=False)\n",
    "        assert splink_engine == 'spark'\n",
    "        return spark.read.parquet(file_path)\n",
    "\n",
    "if len(geobase_reference_file) > 1_000_000:\n",
    "    geobase_reference_file_for_training = geobase_reference_file.sample(frac=(1_000_000/len(geobase_reference_file)), random_state=1234)\n",
    "else:\n",
    "    geobase_reference_file_for_training = geobase_reference_file\n",
    "\n",
    "if len(census_2030) > 1_000_000:\n",
    "    census_2030_for_training = census_2030.sample(frac=(1_000_000/len(census_2030)), random_state=1234)\n",
    "else:\n",
    "    census_2030_for_training = census_2030\n",
    "\n",
    "utils.ensure_empty(f'{intermediate_data_dir}/for_splink/')\n",
    "tables_for_splink = [\n",
    "    prep_table_for_splink(geobase_reference_file_for_training, \"geobase_reference_file\", common_cols),\n",
    "    prep_table_for_splink(census_2030_for_training, \"census_2030\", common_cols)\n",
    "]"
   ]
  },
  {
   "cell_type": "markdown",
   "id": "df02a447-eed8-470d-8487-1954c046bebd",
   "metadata": {
    "papermill": {
     "duration": 0.022423,
     "end_time": "2024-05-16T06:21:08.700058",
     "exception": false,
     "start_time": "2024-05-16T06:21:08.677635",
     "status": "completed"
    },
    "tags": []
   },
   "source": [
    "#### Define comparison variables and levels\n",
    "\n",
    "**Variables**\n",
    "\n",
    "The most recent report, from 2023 (Brown et al., p. 29), says:\n",
    "\n",
    "> [In] GeoSearch... The typical matching variables are name, DOB, sex, and\n",
    "  various address fields...\n",
    ">\n",
    "> NameSearch... uses only name and DOB fields...\n",
    "> \n",
    "> DOBSearch... compares name, sex, and DOB...\n",
    "> \n",
    "> the Household Composition search module... attempts to find a match... based on name and DOB information\n",
    "\n",
    "So, the total list: name, DOB, sex, and \"various address fields.\"\n",
    "These address fields are listed in the PVS report (p. 34) which is admittedly from 2011:\n",
    "\n",
    "> variables used directly in matching the input file with the reference files [include]...\n",
    "> street name, street name prefix and suffix, house number, rural route and box, and ZIP code\n",
    "\n",
    "**Comparisons**\n",
    "\n",
    "Massey et al. footnote 2: \n",
    "> The PVS string comparator was developed by Winkler (1995) and measures the distance\n",
    "  between two strings on a scale from 0 to 900, where a distance score of 0 is given if\n",
    "  there is no similarity between two text strings and a score of 900 is given for an exact match.\n",
    "  The cutoff value for the string distance is set to 750 in the Name Search module.\n",
    "\n",
    "Massey and O'Hara, p. 6 footnote 7:\n",
    "> For the comparison of text strings, a prorated value\n",
    "  between the chosen agreement score and chosen disagreement score is given depending on the Jaro-Winkler\n",
    "  distance between the string in the input file and reference file.\n",
    "\n",
    "Massey et al.:\n",
    "> For numeric variables, such as year of birth, a maximum acceptable difference\n",
    "> between the variable value in the input and reference record is set. This also\n",
    "> allows for creation of an interval, or band, around year of birth to permit\n",
    "> inexact matches. Within this band, prorated agreement and disagreement weights\n",
    "> are assigned depending on the similarity of year of birth.\n",
    "\n",
    "The \"maximum acceptable distance\" implies that the m probability beyond that distance is\n",
    "zero; such pairs should never be linked.\n",
    "\n",
    "Note that this continuous \"prorated value,\" as opposed to categorizing comparison levels,\n",
    "is not possible in splink and goes outside the traditional F-S framing of m and u probabilities!\n",
    "We omit it for now."
   ]
  },
  {
   "cell_type": "code",
   "execution_count": 53,
   "id": "367d9ac2-eba6-48b9-a10c-7f3515adcf7f",
   "metadata": {
    "execution": {
     "iopub.execute_input": "2024-05-16T06:21:08.749035Z",
     "iopub.status.busy": "2024-05-16T06:21:08.748396Z",
     "iopub.status.idle": "2024-05-16T06:21:17.280595Z",
     "shell.execute_reply": "2024-05-16T06:21:17.279272Z"
    },
    "papermill": {
     "duration": 8.560317,
     "end_time": "2024-05-16T06:21:17.282585",
     "exception": false,
     "start_time": "2024-05-16T06:21:08.722268",
     "status": "completed"
    },
    "tags": []
   },
   "outputs": [
    {
     "name": "stdout",
     "output_type": "stream",
     "text": [
      "Imbalanced dataframe: too_few=False, too_many=True, too_large=False\n",
      "count       240.000000\n",
      "mean     114359.883333\n",
      "std      182906.599673\n",
      "min           0.000000\n",
      "25%           0.000000\n",
      "50%         467.000000\n",
      "75%      191884.500000\n",
      "max      745894.000000\n",
      "dtype: float64\n",
      "Creating partitions of 100MB\n"
     ]
    },
    {
     "name": "stderr",
     "output_type": "stream",
     "text": [
      "24/05/16 06:21:16 WARN package: Truncated the string representation of a plan since it was too large. This behavior can be adjusted by setting 'spark.sql.debug.maxToStringFields'.\n"
     ]
    }
   ],
   "source": [
    "if splink_engine == 'duckdb':\n",
    "    from splink.duckdb.comparison_library import (\n",
    "        exact_match,\n",
    "        jaro_winkler_at_thresholds,\n",
    "    )\n",
    "    import splink.duckdb.comparison_level_library as cll\n",
    "elif splink_engine == 'spark':\n",
    "    from splink.spark.comparison_library import (\n",
    "        exact_match,\n",
    "        jaro_winkler_at_thresholds,\n",
    "    )\n",
    "    import splink.spark.comparison_level_library as cll\n",
    "\n",
    "def numeric_column_comparison(col_name, human_name, maximum_inexact_match_difference):\n",
    "    return {\n",
    "        \"output_column_name\": col_name,\n",
    "        \"comparison_description\": human_name,\n",
    "        \"comparison_levels\": [\n",
    "            cll.null_level(col_name),\n",
    "            cll.exact_match_level(col_name),\n",
    "            {\n",
    "                \"sql_condition\": f\"abs({col_name}_l - {col_name}_r) <= {maximum_inexact_match_difference}\",\n",
    "                \"label_for_charts\": \"Inexact match\",\n",
    "            },\n",
    "            cll.else_level(),\n",
    "        ],\n",
    "    }\n",
    "\n",
    "numeric_columns = [\"day_of_birth\", \"month_of_birth\", \"year_of_birth\"]\n",
    "\n",
    "settings = {\n",
    "    \"link_type\": \"link_only\",\n",
    "    \"comparisons\": [\n",
    "        jaro_winkler_at_thresholds(\"first_name_15\", 750 / 900),\n",
    "        jaro_winkler_at_thresholds(\"last_name_12\", 750 / 900),\n",
    "        exact_match(\"middle_initial\"),\n",
    "        # NOTE: Three separate comparisons here can strongly violate conditional independence.\n",
    "        # However, it seems to be well-attested in the PVS descriptions.\n",
    "        numeric_column_comparison(\"day_of_birth\", \"Day of birth\", maximum_inexact_match_difference=5),\n",
    "        numeric_column_comparison(\"month_of_birth\", \"Month of birth\", maximum_inexact_match_difference=3),\n",
    "        numeric_column_comparison(\"year_of_birth\", \"Year of birth\", maximum_inexact_match_difference=5),\n",
    "        # NOTE: There are some places where PVS seems to claim to compare individual parts\n",
    "        # of the address.\n",
    "        # Address matching is not mentioned at all in the one source we have listing exact variables.\n",
    "        # Comparing parts of the address separately strongly breaks conditional independence.\n",
    "        # So we compare the entire geokey at once.\n",
    "        jaro_winkler_at_thresholds(\"geokey\", 650 / 900),\n",
    "    ],\n",
    "    \"probability_two_random_records_match\": probability_two_random_records_match(census_2030, geobase_reference_file),\n",
    "    \"unique_id_column_name\": \"record_id\",\n",
    "    # Not sure exactly what this does, but it is necessary for some of the fancier graphs below\n",
    "    \"retain_intermediate_calculation_columns\": True,\n",
    "}\n",
    "\n",
    "if splink_engine == 'duckdb':\n",
    "    from splink.duckdb.linker import DuckDBLinker\n",
    "\n",
    "    linker = DuckDBLinker(\n",
    "        tables_for_splink,\n",
    "        settings,\n",
    "        input_table_aliases=[\"reference_file\", \"census_2030\"]\n",
    "    )\n",
    "elif splink_engine == 'spark':\n",
    "    from splink.spark.linker import SparkLinker\n",
    "    linker = SparkLinker(\n",
    "        tables_for_splink,\n",
    "        settings,\n",
    "        input_table_aliases=[\"reference_file\", \"census_2030\"],\n",
    "        spark=spark,\n",
    "    )\n",
    "\n",
    "    import warnings\n",
    "    # PySpark triggers a lot of Pandas warnings\n",
    "    warnings.filterwarnings(\"ignore\", category=DeprecationWarning)\n",
    "    warnings.filterwarnings(\"ignore\", category=FutureWarning)"
   ]
  },
  {
   "cell_type": "markdown",
   "id": "8248795b-29ae-4f70-b0c8-1b466112c56e",
   "metadata": {
    "papermill": {
     "duration": 0.03515,
     "end_time": "2024-05-16T06:21:17.355270",
     "exception": false,
     "start_time": "2024-05-16T06:21:17.320120",
     "status": "completed"
    },
    "tags": []
   },
   "source": [
    "#### Estimate u probabilities\n",
    "\n",
    "This method seems to work well:\n",
    "- For almost all of the columns, an exact or even inexact match is relatively rare\n",
    "- Exact matches are common on ZIP code (makes sense, given our sample data is all in one ZIP)\n",
    "- Inexact matches are more common where you would expect (day and month of birth have highly constrained values)\n",
    "\n",
    "I have tested that this estimation is reproducible when run multiple times (with the same seed)."
   ]
  },
  {
   "cell_type": "code",
   "execution_count": 54,
   "id": "fbc1d82b-02d2-45df-b450-614623c41f5e",
   "metadata": {
    "execution": {
     "iopub.execute_input": "2024-05-16T06:21:17.429406Z",
     "iopub.status.busy": "2024-05-16T06:21:17.428269Z",
     "iopub.status.idle": "2024-05-16T06:22:09.529291Z",
     "shell.execute_reply": "2024-05-16T06:22:09.528286Z"
    },
    "papermill": {
     "duration": 52.161997,
     "end_time": "2024-05-16T06:22:09.552681",
     "exception": false,
     "start_time": "2024-05-16T06:21:17.390684",
     "status": "completed"
    },
    "tags": []
   },
   "outputs": [
    {
     "name": "stderr",
     "output_type": "stream",
     "text": [
      "----- Estimating u probabilities using random sampling -----\n"
     ]
    },
    {
     "name": "stderr",
     "output_type": "stream",
     "text": [
      "\r",
      "[Stage 2:>                                                       (0 + 50) / 168]\r"
     ]
    },
    {
     "name": "stderr",
     "output_type": "stream",
     "text": [
      "\r",
      "[Stage 2:>                                                       (1 + 50) / 168]\r"
     ]
    },
    {
     "name": "stderr",
     "output_type": "stream",
     "text": [
      "\r",
      "[Stage 2:>                                                       (2 + 50) / 168]\r",
      "\r",
      "[Stage 2:=>                                                      (4 + 50) / 168]\r"
     ]
    },
    {
     "name": "stderr",
     "output_type": "stream",
     "text": [
      "\r",
      "[Stage 2:==>                                                     (7 + 50) / 168]\r",
      "\r",
      "[Stage 2:===>                                                   (11 + 50) / 168]\r"
     ]
    },
    {
     "name": "stderr",
     "output_type": "stream",
     "text": [
      "\r",
      "[Stage 2:===============>                                       (46 + 50) / 168]\r",
      "\r",
      "[Stage 2:================================>                      (98 + 50) / 168]\r"
     ]
    },
    {
     "name": "stderr",
     "output_type": "stream",
     "text": [
      "\r",
      "[Stage 2:================================>                     (101 + 51) / 168]\r",
      "\r",
      "[Stage 2:====================================>                 (114 + 50) / 168]\r"
     ]
    },
    {
     "name": "stderr",
     "output_type": "stream",
     "text": [
      "\r",
      "[Stage 2:==============================================>       (145 + 23) / 168]\r",
      "\r",
      "[Stage 2:====================================================>  (161 + 7) / 168]\r"
     ]
    },
    {
     "name": "stderr",
     "output_type": "stream",
     "text": [
      "\r",
      "[Stage 2:======================================================>(165 + 3) / 168]\r",
      "\r",
      "[Stage 2:======================================================>(167 + 1) / 168]\r"
     ]
    },
    {
     "name": "stderr",
     "output_type": "stream",
     "text": [
      "\r",
      "[Stage 4:>                                                        (0 + 32) / 32]\r"
     ]
    },
    {
     "name": "stderr",
     "output_type": "stream",
     "text": [
      "\r",
      "[Stage 4:===>                                                     (2 + 30) / 32]\r",
      "\r",
      "[Stage 4:========>                                                (5 + 27) / 32]\r"
     ]
    },
    {
     "name": "stderr",
     "output_type": "stream",
     "text": [
      "\r",
      "[Stage 4:=====================>                                  (12 + 20) / 32]\r",
      "\r",
      "[Stage 4:=============================>                          (17 + 15) / 32]\r"
     ]
    },
    {
     "name": "stderr",
     "output_type": "stream",
     "text": [
      "\r",
      "[Stage 4:======================================>                 (22 + 10) / 32]\r",
      "\r",
      "[Stage 4:==============================================>          (26 + 6) / 32]\r"
     ]
    },
    {
     "name": "stderr",
     "output_type": "stream",
     "text": [
      "\r",
      "[Stage 4:================================================>        (27 + 5) / 32]\r",
      "\r",
      "[Stage 4:===================================================>     (29 + 3) / 32]\r"
     ]
    },
    {
     "name": "stderr",
     "output_type": "stream",
     "text": [
      "\r",
      "[Stage 4:=======================================================> (31 + 1) / 32]\r",
      "\r",
      "                                                                                \r"
     ]
    },
    {
     "name": "stderr",
     "output_type": "stream",
     "text": [
      "24/05/16 06:21:27 WARN DataSource: All paths were ignored:\n",
      "  file:/ihme/scratch/users/zmbc/person_linkage_case_study/results/ri/tmpCheckpoints/0bc9c889-22ec-443a-b9c5-504361150648/__splink__df_concat_with_tf_6cfa45dd9\n"
     ]
    },
    {
     "name": "stderr",
     "output_type": "stream",
     "text": [
      "\r",
      "[Stage 6:===>                                                     (4 + 50) / 64]\r",
      "\r",
      "[Stage 6:===================================>                    (40 + 24) / 64]\r"
     ]
    },
    {
     "name": "stderr",
     "output_type": "stream",
     "text": [
      "\r",
      "[Stage 6:================================================>        (55 + 9) / 64]\r",
      "\r",
      "[Stage 6:=======================================================> (62 + 2) / 64]\r"
     ]
    },
    {
     "name": "stderr",
     "output_type": "stream",
     "text": [
      "\r",
      "                                                                                \r"
     ]
    },
    {
     "name": "stderr",
     "output_type": "stream",
     "text": [
      "\r",
      "[Stage 9:===============> (60 + 4) / 64][Stage 10:===>           (14 + 46) / 64]\r",
      "\r",
      "[Stage 10:=======================================================>(63 + 1) / 64]\r"
     ]
    },
    {
     "name": "stderr",
     "output_type": "stream",
     "text": [
      "\r",
      "                                                                                \r"
     ]
    },
    {
     "name": "stderr",
     "output_type": "stream",
     "text": [
      "\r",
      "[Stage 15:===========================================>           (51 + 13) / 64]\r",
      "\r",
      "[Stage 15:=====================================================>  (61 + 3) / 64]\r"
     ]
    },
    {
     "name": "stderr",
     "output_type": "stream",
     "text": [
      "\r",
      "                                                                                \r"
     ]
    },
    {
     "name": "stderr",
     "output_type": "stream",
     "text": [
      "\r",
      "[Stage 34:>                 (0 + 1) / 1][Stage 35:>                 (0 + 1) / 1]\r",
      "\r",
      "[Stage 34:>   (0 + 1) / 1][Stage 35:>   (0 + 1) / 1][Stage 36:>   (0 + 1) / 1]\r"
     ]
    },
    {
     "name": "stderr",
     "output_type": "stream",
     "text": [
      "\r",
      "[Stage 34:>                 (0 + 1) / 1][Stage 35:>                 (0 + 1) / 1]\r",
      "\r",
      "[Stage 34:>                                                         (0 + 1) / 1]\r"
     ]
    },
    {
     "name": "stderr",
     "output_type": "stream",
     "text": [
      "\r",
      "                                                                                \r\n",
      "Estimated u probabilities using random sampling\n"
     ]
    },
    {
     "name": "stderr",
     "output_type": "stream",
     "text": [
      "\n",
      "Your model is not yet fully trained. Missing estimates for:\n",
      "    - first_name_15 (no m values are trained).\n",
      "    - last_name_12 (no m values are trained).\n",
      "    - middle_initial (no m values are trained).\n",
      "    - day_of_birth (no m values are trained).\n",
      "    - month_of_birth (no m values are trained).\n",
      "    - year_of_birth (no m values are trained).\n",
      "    - geokey (no m values are trained).\n"
     ]
    },
    {
     "name": "stdout",
     "output_type": "stream",
     "text": [
      "CPU times: user 3.37 s, sys: 701 ms, total: 4.07 s\n",
      "Wall time: 52.1 s\n"
     ]
    }
   ],
   "source": [
    "%%time\n",
    "\n",
    "linker.estimate_u_using_random_sampling(max_pairs=1e7, seed=1234)"
   ]
  },
  {
   "cell_type": "code",
   "execution_count": 55,
   "id": "a393ab32-1308-47c8-bab0-39d2b0cf6256",
   "metadata": {
    "execution": {
     "iopub.execute_input": "2024-05-16T06:22:09.603043Z",
     "iopub.status.busy": "2024-05-16T06:22:09.602237Z",
     "iopub.status.idle": "2024-05-16T06:22:09.746161Z",
     "shell.execute_reply": "2024-05-16T06:22:09.744820Z"
    },
    "papermill": {
     "duration": 0.173017,
     "end_time": "2024-05-16T06:22:09.749722",
     "exception": false,
     "start_time": "2024-05-16T06:22:09.576705",
     "status": "completed"
    },
    "tags": []
   },
   "outputs": [
    {
     "data": {
      "text/html": [
       "\n",
       "<style>\n",
       "  #altair-viz-3dce2fc9754d4c139166faaa33f04729.vega-embed {\n",
       "    width: 100%;\n",
       "    display: flex;\n",
       "  }\n",
       "\n",
       "  #altair-viz-3dce2fc9754d4c139166faaa33f04729.vega-embed details,\n",
       "  #altair-viz-3dce2fc9754d4c139166faaa33f04729.vega-embed details summary {\n",
       "    position: relative;\n",
       "  }\n",
       "</style>\n",
       "<div id=\"altair-viz-3dce2fc9754d4c139166faaa33f04729\"></div>\n",
       "<script type=\"text/javascript\">\n",
       "  var VEGA_DEBUG = (typeof VEGA_DEBUG == \"undefined\") ? {} : VEGA_DEBUG;\n",
       "  (function(spec, embedOpt){\n",
       "    let outputDiv = document.currentScript.previousElementSibling;\n",
       "    if (outputDiv.id !== \"altair-viz-3dce2fc9754d4c139166faaa33f04729\") {\n",
       "      outputDiv = document.getElementById(\"altair-viz-3dce2fc9754d4c139166faaa33f04729\");\n",
       "    }\n",
       "    const paths = {\n",
       "      \"vega\": \"https://cdn.jsdelivr.net/npm/vega@5?noext\",\n",
       "      \"vega-lib\": \"https://cdn.jsdelivr.net/npm/vega-lib?noext\",\n",
       "      \"vega-lite\": \"https://cdn.jsdelivr.net/npm/vega-lite@5.17.0?noext\",\n",
       "      \"vega-embed\": \"https://cdn.jsdelivr.net/npm/vega-embed@6?noext\",\n",
       "    };\n",
       "\n",
       "    function maybeLoadScript(lib, version) {\n",
       "      var key = `${lib.replace(\"-\", \"\")}_version`;\n",
       "      return (VEGA_DEBUG[key] == version) ?\n",
       "        Promise.resolve(paths[lib]) :\n",
       "        new Promise(function(resolve, reject) {\n",
       "          var s = document.createElement('script');\n",
       "          document.getElementsByTagName(\"head\")[0].appendChild(s);\n",
       "          s.async = true;\n",
       "          s.onload = () => {\n",
       "            VEGA_DEBUG[key] = version;\n",
       "            return resolve(paths[lib]);\n",
       "          };\n",
       "          s.onerror = () => reject(`Error loading script: ${paths[lib]}`);\n",
       "          s.src = paths[lib];\n",
       "        });\n",
       "    }\n",
       "\n",
       "    function showError(err) {\n",
       "      outputDiv.innerHTML = `<div class=\"error\" style=\"color:red;\">${err}</div>`;\n",
       "      throw err;\n",
       "    }\n",
       "\n",
       "    function displayChart(vegaEmbed) {\n",
       "      vegaEmbed(outputDiv, spec, embedOpt)\n",
       "        .catch(err => showError(`Javascript Error: ${err.message}<br>This usually means there's a typo in your chart specification. See the javascript console for the full traceback.`));\n",
       "    }\n",
       "\n",
       "    if(typeof define === \"function\" && define.amd) {\n",
       "      requirejs.config({paths});\n",
       "      require([\"vega-embed\"], displayChart, err => showError(`Error loading script: ${err.message}`));\n",
       "    } else {\n",
       "      maybeLoadScript(\"vega\", \"5\")\n",
       "        .then(() => maybeLoadScript(\"vega-lite\", \"5.17.0\"))\n",
       "        .then(() => maybeLoadScript(\"vega-embed\", \"6\"))\n",
       "        .catch(showError)\n",
       "        .then(() => displayChart(vegaEmbed));\n",
       "    }\n",
       "  })({\"config\": {\"view\": {\"continuousWidth\": 300, \"continuousHeight\": 300, \"discreteHeight\": 300, \"discreteWidth\": 400}, \"header\": {\"title\": null}, \"title\": {\"anchor\": \"middle\", \"offset\": 10}}, \"hconcat\": [{\"mark\": \"bar\", \"encoding\": {\"color\": {\"value\": \"green\"}, \"row\": {\"field\": \"comparison_name\", \"header\": {\"labelAlign\": \"left\", \"labelAnchor\": \"middle\", \"labelAngle\": 0}, \"sort\": {\"field\": \"comparison_sort_order\"}, \"type\": \"nominal\"}, \"tooltip\": [{\"field\": \"m_probability_description\", \"title\": \"m probability description\", \"type\": \"nominal\"}, {\"field\": \"comparison_name\", \"title\": \"Comparison column name\", \"type\": \"nominal\"}, {\"field\": \"label_for_charts\", \"title\": \"Label\", \"type\": \"ordinal\"}, {\"field\": \"sql_condition\", \"title\": \"SQL condition\", \"type\": \"nominal\"}, {\"field\": \"m_probability\", \"format\": \".4p\", \"title\": \"m probability\", \"type\": \"quantitative\"}, {\"field\": \"u_probability\", \"format\": \".4p\", \"title\": \"u probability\", \"type\": \"quantitative\"}, {\"field\": \"bayes_factor\", \"format\": \",.4f\", \"title\": \"Bayes factor = m/u\", \"type\": \"quantitative\"}, {\"field\": \"log2_bayes_factor\", \"format\": \",.4f\", \"title\": \"Match weight = log2(m/u)\", \"type\": \"quantitative\"}], \"x\": {\"axis\": {\"title\": \"Proportion of record comparisons\"}, \"field\": \"m_probability\", \"type\": \"quantitative\"}, \"y\": {\"axis\": {\"title\": null}, \"field\": \"label_for_charts\", \"sort\": {\"field\": \"comparison_vector_value\", \"order\": \"descending\"}, \"type\": \"nominal\"}}, \"height\": {\"step\": 12}, \"resolve\": {\"scale\": {\"y\": \"independent\"}}, \"title\": {\"text\": \"Amongst matching record comparisons:\", \"fontSize\": 12, \"fontWeight\": \"bold\"}, \"transform\": [{\"filter\": \"(datum.bayes_factor != 'no-op filter due to vega lite issue 4680')\"}], \"width\": 150}, {\"mark\": \"bar\", \"encoding\": {\"color\": {\"value\": \"red\"}, \"row\": {\"field\": \"comparison_name\", \"header\": {\"labels\": false}, \"sort\": {\"field\": \"comparison_sort_order\"}, \"type\": \"nominal\"}, \"tooltip\": [{\"field\": \"u_probability_description\", \"title\": \"u probability description\", \"type\": \"nominal\"}, {\"field\": \"comparison_name\", \"title\": \"Comparison column name\", \"type\": \"nominal\"}, {\"field\": \"label_for_charts\", \"title\": \"Label\", \"type\": \"ordinal\"}, {\"field\": \"sql_condition\", \"title\": \"SQL condition\", \"type\": \"nominal\"}, {\"field\": \"m_probability\", \"format\": \".4p\", \"title\": \"m probability\", \"type\": \"quantitative\"}, {\"field\": \"u_probability\", \"format\": \".4p\", \"title\": \"u probability\", \"type\": \"quantitative\"}, {\"field\": \"bayes_factor\", \"format\": \",.4f\", \"title\": \"Bayes factor = m/u\", \"type\": \"quantitative\"}, {\"field\": \"log2_bayes_factor\", \"format\": \",.4f\", \"title\": \"Match weight = log2(m/u)\", \"type\": \"quantitative\"}], \"x\": {\"axis\": {\"title\": \"Proportion of record comparisons\"}, \"field\": \"u_probability\", \"type\": \"quantitative\"}, \"y\": {\"axis\": {\"title\": null}, \"field\": \"label_for_charts\", \"sort\": {\"field\": \"comparison_vector_value\", \"order\": \"descending\"}, \"type\": \"nominal\"}}, \"height\": {\"step\": 12}, \"resolve\": {\"scale\": {\"y\": \"independent\"}}, \"title\": {\"text\": \"Amongst non-matching record comparisons:\", \"fontSize\": 12, \"fontWeight\": \"bold\"}, \"transform\": [{\"filter\": \"(datum.bayes_factor != 'no-op filter2 due to vega lite issue 4680')\"}], \"width\": 150}], \"data\": {\"name\": \"data-82e22d453cc0096b6dadb87dda18b45b\"}, \"title\": {\"text\": \"Proportion of record comparisons in each comparison level by match status\", \"subtitle\": \"(m and u probabilities)\"}, \"$schema\": \"https://vega.github.io/schema/vega-lite/v5.9.3.json\", \"datasets\": {\"data-82e22d453cc0096b6dadb87dda18b45b\": [{\"comparison_name\": \"first_name_15\", \"sql_condition\": \"`first_name_15_l` = `first_name_15_r`\", \"label_for_charts\": \"Exact match\", \"m_probability\": 0.95, \"u_probability\": 0.0020078037145088655, \"m_probability_description\": \"Amongst matching record comparisons, 95.00% of records are in the exact match comparison level\", \"u_probability_description\": \"Amongst non-matching record comparisons, 0.20% of records are in the exact match comparison level\", \"has_tf_adjustments\": false, \"tf_adjustment_column\": null, \"tf_adjustment_weight\": 1.0, \"is_null_level\": false, \"bayes_factor\": 473.1538213297818, \"log2_bayes_factor\": 8.886165466771375, \"comparison_vector_value\": 2, \"max_comparison_vector_value\": 2, \"bayes_factor_description\": \"If comparison level is `exact match` then comparison is 473.15 times more likely to be a match\", \"probability_two_random_records_match\": 1.8424245002453127e-07, \"comparison_sort_order\": 0}, {\"comparison_name\": \"first_name_15\", \"sql_condition\": \"jaro_winkler(`first_name_15_l`, `first_name_15_r`) >= 0.8333333333333334\", \"label_for_charts\": \"Jaro_winkler >= 0.8333333333333334\", \"m_probability\": 0.025000000000000022, \"u_probability\": 0.0031729716420609063, \"m_probability_description\": \"Amongst matching record comparisons, 2.50% of records are in the jaro_winkler >= 0.8333333333333334 comparison level\", \"u_probability_description\": \"Amongst non-matching record comparisons, 0.32% of records are in the jaro_winkler >= 0.8333333333333334 comparison level\", \"has_tf_adjustments\": false, \"tf_adjustment_column\": null, \"tf_adjustment_weight\": 1.0, \"is_null_level\": false, \"bayes_factor\": 7.87904930148132, \"log2_bayes_factor\": 2.9780215623234367, \"comparison_vector_value\": 1, \"max_comparison_vector_value\": 2, \"bayes_factor_description\": \"If comparison level is `jaro_winkler >= 0.8333333333333334` then comparison is 7.88 times more likely to be a match\", \"probability_two_random_records_match\": 1.8424245002453127e-07, \"comparison_sort_order\": 0}, {\"comparison_name\": \"first_name_15\", \"sql_condition\": \"ELSE\", \"label_for_charts\": \"All other comparisons\", \"m_probability\": 0.025000000000000022, \"u_probability\": 0.9948192246434302, \"m_probability_description\": \"Amongst matching record comparisons, 2.50% of records are in the all other comparisons comparison level\", \"u_probability_description\": \"Amongst non-matching record comparisons, 99.48% of records are in the all other comparisons comparison level\", \"has_tf_adjustments\": false, \"tf_adjustment_column\": null, \"tf_adjustment_weight\": 1.0, \"is_null_level\": false, \"bayes_factor\": 0.025130193889207047, \"log2_bayes_factor\": -5.314434387560597, \"comparison_vector_value\": 0, \"max_comparison_vector_value\": 2, \"bayes_factor_description\": \"If comparison level is `all other comparisons` then comparison is  39.79 times less likely to be a match\", \"probability_two_random_records_match\": 1.8424245002453127e-07, \"comparison_sort_order\": 0}, {\"comparison_name\": \"last_name_12\", \"sql_condition\": \"`last_name_12_l` = `last_name_12_r`\", \"label_for_charts\": \"Exact match\", \"m_probability\": 0.95, \"u_probability\": 0.0006057226012092292, \"m_probability_description\": \"Amongst matching record comparisons, 95.00% of records are in the exact match comparison level\", \"u_probability_description\": \"Amongst non-matching record comparisons, 0.06% of records are in the exact match comparison level\", \"has_tf_adjustments\": false, \"tf_adjustment_column\": null, \"tf_adjustment_weight\": 1.0, \"is_null_level\": false, \"bayes_factor\": 1568.3746951219512, \"log2_bayes_factor\": 10.615054554712254, \"comparison_vector_value\": 2, \"max_comparison_vector_value\": 2, \"bayes_factor_description\": \"If comparison level is `exact match` then comparison is 1,568.37 times more likely to be a match\", \"probability_two_random_records_match\": 1.8424245002453127e-07, \"comparison_sort_order\": 1}, {\"comparison_name\": \"last_name_12\", \"sql_condition\": \"jaro_winkler(`last_name_12_l`, `last_name_12_r`) >= 0.8333333333333334\", \"label_for_charts\": \"Jaro_winkler >= 0.8333333333333334\", \"m_probability\": 0.025000000000000022, \"u_probability\": 0.0012859293840712192, \"m_probability_description\": \"Amongst matching record comparisons, 2.50% of records are in the jaro_winkler >= 0.8333333333333334 comparison level\", \"u_probability_description\": \"Amongst non-matching record comparisons, 0.13% of records are in the jaro_winkler >= 0.8333333333333334 comparison level\", \"has_tf_adjustments\": false, \"tf_adjustment_column\": null, \"tf_adjustment_weight\": 1.0, \"is_null_level\": false, \"bayes_factor\": 19.441191957874597, \"log2_bayes_factor\": 4.2810447695408005, \"comparison_vector_value\": 1, \"max_comparison_vector_value\": 2, \"bayes_factor_description\": \"If comparison level is `jaro_winkler >= 0.8333333333333334` then comparison is 19.44 times more likely to be a match\", \"probability_two_random_records_match\": 1.8424245002453127e-07, \"comparison_sort_order\": 1}, {\"comparison_name\": \"last_name_12\", \"sql_condition\": \"ELSE\", \"label_for_charts\": \"All other comparisons\", \"m_probability\": 0.025000000000000022, \"u_probability\": 0.9981083480147196, \"m_probability_description\": \"Amongst matching record comparisons, 2.50% of records are in the all other comparisons comparison level\", \"u_probability_description\": \"Amongst non-matching record comparisons, 99.81% of records are in the all other comparisons comparison level\", \"has_tf_adjustments\": false, \"tf_adjustment_column\": null, \"tf_adjustment_weight\": 1.0, \"is_null_level\": false, \"bayes_factor\": 0.02504738092785828, \"log2_bayes_factor\": -5.3191964334573845, \"comparison_vector_value\": 0, \"max_comparison_vector_value\": 2, \"bayes_factor_description\": \"If comparison level is `all other comparisons` then comparison is  39.92 times less likely to be a match\", \"probability_two_random_records_match\": 1.8424245002453127e-07, \"comparison_sort_order\": 1}, {\"comparison_name\": \"middle_initial\", \"sql_condition\": \"`middle_initial_l` = `middle_initial_r`\", \"label_for_charts\": \"Exact match\", \"m_probability\": 0.95, \"u_probability\": 0.06625810679844002, \"m_probability_description\": \"Amongst matching record comparisons, 95.00% of records are in the exact match comparison level\", \"u_probability_description\": \"Amongst non-matching record comparisons, 6.63% of records are in the exact match comparison level\", \"has_tf_adjustments\": false, \"tf_adjustment_column\": null, \"tf_adjustment_weight\": 1.0, \"is_null_level\": false, \"bayes_factor\": 14.337868162909338, \"log2_bayes_factor\": 3.8417586266373855, \"comparison_vector_value\": 1, \"max_comparison_vector_value\": 1, \"bayes_factor_description\": \"If comparison level is `exact match` then comparison is 14.34 times more likely to be a match\", \"probability_two_random_records_match\": 1.8424245002453127e-07, \"comparison_sort_order\": 2}, {\"comparison_name\": \"middle_initial\", \"sql_condition\": \"ELSE\", \"label_for_charts\": \"All other comparisons\", \"m_probability\": 0.050000000000000044, \"u_probability\": 0.93374189320156, \"m_probability_description\": \"Amongst matching record comparisons, 5.00% of records are in the all other comparisons comparison level\", \"u_probability_description\": \"Amongst non-matching record comparisons, 93.37% of records are in the all other comparisons comparison level\", \"has_tf_adjustments\": false, \"tf_adjustment_column\": null, \"tf_adjustment_weight\": 1.0, \"is_null_level\": false, \"bayes_factor\": 0.053547988329583185, \"log2_bayes_factor\": -4.223023812398604, \"comparison_vector_value\": 0, \"max_comparison_vector_value\": 1, \"bayes_factor_description\": \"If comparison level is `all other comparisons` then comparison is  18.67 times less likely to be a match\", \"probability_two_random_records_match\": 1.8424245002453127e-07, \"comparison_sort_order\": 2}, {\"comparison_name\": \"day_of_birth\", \"sql_condition\": \"`day_of_birth_l` = `day_of_birth_r`\", \"label_for_charts\": \"Exact match\", \"m_probability\": 0.95, \"u_probability\": 0.03252879296232792, \"m_probability_description\": \"Amongst matching record comparisons, 95.00% of records are in the exact match comparison level\", \"u_probability_description\": \"Amongst non-matching record comparisons, 3.25% of records are in the exact match comparison level\", \"has_tf_adjustments\": false, \"tf_adjustment_column\": null, \"tf_adjustment_weight\": 1.0, \"is_null_level\": false, \"bayes_factor\": 29.20489552441153, \"log2_bayes_factor\": 4.868138318677753, \"comparison_vector_value\": 2, \"max_comparison_vector_value\": 2, \"bayes_factor_description\": \"If comparison level is `exact match` then comparison is 29.20 times more likely to be a match\", \"probability_two_random_records_match\": 1.8424245002453127e-07, \"comparison_sort_order\": 3}, {\"comparison_name\": \"day_of_birth\", \"sql_condition\": \"abs(day_of_birth_l - day_of_birth_r) <= 5\", \"label_for_charts\": \"Inexact match\", \"m_probability\": 0.025000000000000022, \"u_probability\": 0.29573920164687456, \"m_probability_description\": \"Amongst matching record comparisons, 2.50% of records are in the inexact match comparison level\", \"u_probability_description\": \"Amongst non-matching record comparisons, 29.57% of records are in the inexact match comparison level\", \"has_tf_adjustments\": false, \"tf_adjustment_column\": null, \"tf_adjustment_weight\": 1.0, \"is_null_level\": false, \"bayes_factor\": 0.08453394024459127, \"log2_bayes_factor\": -3.564325492267804, \"comparison_vector_value\": 1, \"max_comparison_vector_value\": 2, \"bayes_factor_description\": \"If comparison level is `inexact match` then comparison is  11.83 times less likely to be a match\", \"probability_two_random_records_match\": 1.8424245002453127e-07, \"comparison_sort_order\": 3}, {\"comparison_name\": \"day_of_birth\", \"sql_condition\": \"ELSE\", \"label_for_charts\": \"All other comparisons\", \"m_probability\": 0.025000000000000022, \"u_probability\": 0.6717320053907976, \"m_probability_description\": \"Amongst matching record comparisons, 2.50% of records are in the all other comparisons comparison level\", \"u_probability_description\": \"Amongst non-matching record comparisons, 67.17% of records are in the all other comparisons comparison level\", \"has_tf_adjustments\": false, \"tf_adjustment_column\": null, \"tf_adjustment_weight\": 1.0, \"is_null_level\": false, \"bayes_factor\": 0.03721722323690029, \"log2_bayes_factor\": -4.747885769299581, \"comparison_vector_value\": 0, \"max_comparison_vector_value\": 2, \"bayes_factor_description\": \"If comparison level is `all other comparisons` then comparison is  26.87 times less likely to be a match\", \"probability_two_random_records_match\": 1.8424245002453127e-07, \"comparison_sort_order\": 3}, {\"comparison_name\": \"month_of_birth\", \"sql_condition\": \"`month_of_birth_l` = `month_of_birth_r`\", \"label_for_charts\": \"Exact match\", \"m_probability\": 0.95, \"u_probability\": 0.08350433151288077, \"m_probability_description\": \"Amongst matching record comparisons, 95.00% of records are in the exact match comparison level\", \"u_probability_description\": \"Amongst non-matching record comparisons, 8.35% of records are in the exact match comparison level\", \"has_tf_adjustments\": false, \"tf_adjustment_column\": null, \"tf_adjustment_weight\": 1.0, \"is_null_level\": false, \"bayes_factor\": 11.376655351746153, \"log2_bayes_factor\": 3.508004573737368, \"comparison_vector_value\": 2, \"max_comparison_vector_value\": 2, \"bayes_factor_description\": \"If comparison level is `exact match` then comparison is 11.38 times more likely to be a match\", \"probability_two_random_records_match\": 1.8424245002453127e-07, \"comparison_sort_order\": 4}, {\"comparison_name\": \"month_of_birth\", \"sql_condition\": \"abs(month_of_birth_l - month_of_birth_r) <= 3\", \"label_for_charts\": \"Inexact match\", \"m_probability\": 0.025000000000000022, \"u_probability\": 0.4129544295915271, \"m_probability_description\": \"Amongst matching record comparisons, 2.50% of records are in the inexact match comparison level\", \"u_probability_description\": \"Amongst non-matching record comparisons, 41.30% of records are in the inexact match comparison level\", \"has_tf_adjustments\": false, \"tf_adjustment_column\": null, \"tf_adjustment_weight\": 1.0, \"is_null_level\": false, \"bayes_factor\": 0.060539367563459026, \"log2_bayes_factor\": -4.0459825859311875, \"comparison_vector_value\": 1, \"max_comparison_vector_value\": 2, \"bayes_factor_description\": \"If comparison level is `inexact match` then comparison is  16.52 times less likely to be a match\", \"probability_two_random_records_match\": 1.8424245002453127e-07, \"comparison_sort_order\": 4}, {\"comparison_name\": \"month_of_birth\", \"sql_condition\": \"ELSE\", \"label_for_charts\": \"All other comparisons\", \"m_probability\": 0.025000000000000022, \"u_probability\": 0.5035412388955921, \"m_probability_description\": \"Amongst matching record comparisons, 2.50% of records are in the all other comparisons comparison level\", \"u_probability_description\": \"Amongst non-matching record comparisons, 50.35% of records are in the all other comparisons comparison level\", \"has_tf_adjustments\": false, \"tf_adjustment_column\": null, \"tf_adjustment_weight\": 1.0, \"is_null_level\": false, \"bayes_factor\": 0.049648366546565424, \"log2_bayes_factor\": -4.332109936551495, \"comparison_vector_value\": 0, \"max_comparison_vector_value\": 2, \"bayes_factor_description\": \"If comparison level is `all other comparisons` then comparison is  20.14 times less likely to be a match\", \"probability_two_random_records_match\": 1.8424245002453127e-07, \"comparison_sort_order\": 4}, {\"comparison_name\": \"year_of_birth\", \"sql_condition\": \"`year_of_birth_l` = `year_of_birth_r`\", \"label_for_charts\": \"Exact match\", \"m_probability\": 0.95, \"u_probability\": 0.011084011593037122, \"m_probability_description\": \"Amongst matching record comparisons, 95.00% of records are in the exact match comparison level\", \"u_probability_description\": \"Amongst non-matching record comparisons, 1.11% of records are in the exact match comparison level\", \"has_tf_adjustments\": false, \"tf_adjustment_column\": null, \"tf_adjustment_weight\": 1.0, \"is_null_level\": false, \"bayes_factor\": 85.7090406326155, \"log2_bayes_factor\": 6.421375483448383, \"comparison_vector_value\": 2, \"max_comparison_vector_value\": 2, \"bayes_factor_description\": \"If comparison level is `exact match` then comparison is 85.71 times more likely to be a match\", \"probability_two_random_records_match\": 1.8424245002453127e-07, \"comparison_sort_order\": 5}, {\"comparison_name\": \"year_of_birth\", \"sql_condition\": \"abs(year_of_birth_l - year_of_birth_r) <= 5\", \"label_for_charts\": \"Inexact match\", \"m_probability\": 0.025000000000000022, \"u_probability\": 0.10937488974972305, \"m_probability_description\": \"Amongst matching record comparisons, 2.50% of records are in the inexact match comparison level\", \"u_probability_description\": \"Amongst non-matching record comparisons, 10.94% of records are in the inexact match comparison level\", \"has_tf_adjustments\": false, \"tf_adjustment_column\": null, \"tf_adjustment_weight\": 1.0, \"is_null_level\": false, \"bayes_factor\": 0.2285716589722398, \"log2_bayes_factor\": -2.129281562703978, \"comparison_vector_value\": 1, \"max_comparison_vector_value\": 2, \"bayes_factor_description\": \"If comparison level is `inexact match` then comparison is  4.37 times less likely to be a match\", \"probability_two_random_records_match\": 1.8424245002453127e-07, \"comparison_sort_order\": 5}, {\"comparison_name\": \"year_of_birth\", \"sql_condition\": \"ELSE\", \"label_for_charts\": \"All other comparisons\", \"m_probability\": 0.025000000000000022, \"u_probability\": 0.8795410986572398, \"m_probability_description\": \"Amongst matching record comparisons, 2.50% of records are in the all other comparisons comparison level\", \"u_probability_description\": \"Amongst non-matching record comparisons, 87.95% of records are in the all other comparisons comparison level\", \"has_tf_adjustments\": false, \"tf_adjustment_column\": null, \"tf_adjustment_weight\": 1.0, \"is_null_level\": false, \"bayes_factor\": 0.02842391337729018, \"log2_bayes_factor\": -5.13675099264171, \"comparison_vector_value\": 0, \"max_comparison_vector_value\": 2, \"bayes_factor_description\": \"If comparison level is `all other comparisons` then comparison is  35.18 times less likely to be a match\", \"probability_two_random_records_match\": 1.8424245002453127e-07, \"comparison_sort_order\": 5}, {\"comparison_name\": \"geokey\", \"sql_condition\": \"`geokey_l` = `geokey_r`\", \"label_for_charts\": \"Exact match\", \"m_probability\": 0.95, \"u_probability\": 0.0008192860645440116, \"m_probability_description\": \"Amongst matching record comparisons, 95.00% of records are in the exact match comparison level\", \"u_probability_description\": \"Amongst non-matching record comparisons, 0.08% of records are in the exact match comparison level\", \"has_tf_adjustments\": false, \"tf_adjustment_column\": null, \"tf_adjustment_weight\": 1.0, \"is_null_level\": false, \"bayes_factor\": 1159.5461476923076, \"log2_bayes_factor\": 10.179344522258772, \"comparison_vector_value\": 2, \"max_comparison_vector_value\": 2, \"bayes_factor_description\": \"If comparison level is `exact match` then comparison is 1,159.55 times more likely to be a match\", \"probability_two_random_records_match\": 1.8424245002453127e-07, \"comparison_sort_order\": 6}, {\"comparison_name\": \"geokey\", \"sql_condition\": \"jaro_winkler(`geokey_l`, `geokey_r`) >= 0.7222222222222222\", \"label_for_charts\": \"Jaro_winkler >= 0.7222222222222222\", \"m_probability\": 0.025000000000000022, \"u_probability\": 0.020822268769994993, \"m_probability_description\": \"Amongst matching record comparisons, 2.50% of records are in the jaro_winkler >= 0.7222222222222222 comparison level\", \"u_probability_description\": \"Amongst non-matching record comparisons, 2.08% of records are in the jaro_winkler >= 0.7222222222222222 comparison level\", \"has_tf_adjustments\": false, \"tf_adjustment_column\": null, \"tf_adjustment_weight\": 1.0, \"is_null_level\": false, \"bayes_factor\": 1.2006376575075797, \"log2_bayes_factor\": 0.2638008233251875, \"comparison_vector_value\": 1, \"max_comparison_vector_value\": 2, \"bayes_factor_description\": \"If comparison level is `jaro_winkler >= 0.7222222222222222` then comparison is 1.20 times more likely to be a match\", \"probability_two_random_records_match\": 1.8424245002453127e-07, \"comparison_sort_order\": 6}, {\"comparison_name\": \"geokey\", \"sql_condition\": \"ELSE\", \"label_for_charts\": \"All other comparisons\", \"m_probability\": 0.025000000000000022, \"u_probability\": 0.978358445165461, \"m_probability_description\": \"Amongst matching record comparisons, 2.50% of records are in the all other comparisons comparison level\", \"u_probability_description\": \"Amongst non-matching record comparisons, 97.84% of records are in the all other comparisons comparison level\", \"has_tf_adjustments\": false, \"tf_adjustment_column\": null, \"tf_adjustment_weight\": 1.0, \"is_null_level\": false, \"bayes_factor\": 0.025553006797802, \"log2_bayes_factor\": -5.290363128081492, \"comparison_vector_value\": 0, \"max_comparison_vector_value\": 2, \"bayes_factor_description\": \"If comparison level is `all other comparisons` then comparison is  39.13 times less likely to be a match\", \"probability_two_random_records_match\": 1.8424245002453127e-07, \"comparison_sort_order\": 6}]}}, {\"mode\": \"vega-lite\"});\n",
       "</script>"
      ],
      "text/plain": [
       "alt.HConcatChart(...)"
      ]
     },
     "execution_count": 55,
     "metadata": {},
     "output_type": "execute_result"
    }
   ],
   "source": [
    "# Ignore the green bars on the left, these are the m probabilities that haven't been estimated yet\n",
    "linker.m_u_parameters_chart()"
   ]
  },
  {
   "cell_type": "markdown",
   "id": "2f66f6a2-28de-41a1-8c99-e8bda2dfb3e4",
   "metadata": {
    "papermill": {
     "duration": 0.024307,
     "end_time": "2024-05-16T06:22:09.803393",
     "exception": false,
     "start_time": "2024-05-16T06:22:09.779086",
     "status": "completed"
    },
    "tags": []
   },
   "source": [
    "#### Estimate m probabilities\n",
    "\n",
    "The EM algorithm implemented in Splink can be used to estimate all the parameters at once.\n",
    "However, I've found this to be extremely unstable, and the lambda and u estimates I've made\n",
    "above much better than what happens when I allow EM to mess with them.\n",
    "\n",
    "These EM session blocking rules are the result of **lots** of trial and error.\n",
    "I consistently had problems with the EM algorithm deciding that first names\n",
    "were completely wrong (\"All other comparisons\") almost as often as they were\n",
    "right.\n",
    "I can think of two reasons this might be happening:\n",
    "- The EM algorithm is just looking for two coherent clusters, and the assumption is that these\n",
    "  clusters correspond to matches and non-matches.\n",
    "  But in real life, and in our simulated data, matches and non-matches are not homogenous.\n",
    "  In particular, people who are in the same family live together and tend to share a last name,\n",
    "  and this could have been the cluster EM was finding instead of finding the exact same person.\n",
    "- Conditional independence is grossly violated by some of our columns, especially the address parts\n",
    "  and the DOB parts. This could be causing some pathological behavior.\n",
    "\n",
    "Using the EM approach below, I have at least obtained reasonable-looking m and u probabilities."
   ]
  },
  {
   "cell_type": "code",
   "execution_count": 56,
   "id": "d117b633-fc81-4fe6-ba1d-2d9d5a6e1b32",
   "metadata": {
    "execution": {
     "iopub.execute_input": "2024-05-16T06:22:09.854701Z",
     "iopub.status.busy": "2024-05-16T06:22:09.853337Z",
     "iopub.status.idle": "2024-05-16T06:22:58.069684Z",
     "shell.execute_reply": "2024-05-16T06:22:58.067881Z"
    },
    "papermill": {
     "duration": 48.244591,
     "end_time": "2024-05-16T06:22:58.072773",
     "exception": false,
     "start_time": "2024-05-16T06:22:09.828182",
     "status": "completed"
    },
    "tags": []
   },
   "outputs": [
    {
     "name": "stderr",
     "output_type": "stream",
     "text": [
      "\n",
      "----- Starting EM training session -----\n",
      "\n"
     ]
    },
    {
     "name": "stderr",
     "output_type": "stream",
     "text": [
      "Estimating the m probabilities of the model by blocking on:\n",
      "l.first_name_15 = r.first_name_15 and l.zipcode = r.zipcode\n",
      "\n",
      "Parameter estimates will be made for the following comparison(s):\n",
      "    - last_name_12\n",
      "    - middle_initial\n",
      "    - day_of_birth\n",
      "    - month_of_birth\n",
      "    - year_of_birth\n",
      "    - geokey\n",
      "\n",
      "Parameter estimates cannot be made for the following comparison(s) since they are used in the blocking rules: \n",
      "    - first_name_15\n"
     ]
    },
    {
     "name": "stderr",
     "output_type": "stream",
     "text": [
      "\r",
      "[Stage 57:===========>   (51 + 13) / 64][Stage 58:>               (0 + 37) / 64]\r",
      "\r",
      "[Stage 57:===============>(60 + 4) / 64][Stage 58:==========>    (43 + 21) / 64]\r"
     ]
    },
    {
     "name": "stderr",
     "output_type": "stream",
     "text": [
      "\r",
      "[Stage 61:>                                                      (0 + 50) / 125]\r"
     ]
    },
    {
     "name": "stderr",
     "output_type": "stream",
     "text": [
      "\r",
      "[Stage 61:>                                                      (1 + 50) / 125]\r"
     ]
    },
    {
     "name": "stderr",
     "output_type": "stream",
     "text": [
      "\r",
      "[Stage 61:>                                                      (2 + 50) / 125]\r"
     ]
    },
    {
     "name": "stderr",
     "output_type": "stream",
     "text": [
      "\r",
      "[Stage 61:==>                                                    (5 + 50) / 125]\r",
      "\r",
      "[Stage 61:====>                                                 (11 + 50) / 125]\r"
     ]
    },
    {
     "name": "stderr",
     "output_type": "stream",
     "text": [
      "\r",
      "[Stage 61:=====>                                                (13 + 50) / 125]\r",
      "\r",
      "[Stage 61:======>                                               (15 + 50) / 125]\r"
     ]
    },
    {
     "name": "stderr",
     "output_type": "stream",
     "text": [
      "\r",
      "[Stage 61:=======>                                              (18 + 50) / 125]\r"
     ]
    },
    {
     "name": "stderr",
     "output_type": "stream",
     "text": [
      "\r",
      "[Stage 61:=========>                                            (22 + 50) / 125]\r",
      "\r",
      "[Stage 61:=========>                                            (23 + 50) / 125]\r"
     ]
    },
    {
     "name": "stderr",
     "output_type": "stream",
     "text": [
      "\r",
      "[Stage 61:==========>                                           (25 + 50) / 125]\r",
      "\r",
      "[Stage 61:============>                                         (28 + 50) / 125]\r"
     ]
    },
    {
     "name": "stderr",
     "output_type": "stream",
     "text": [
      "\r",
      "[Stage 61:==============>                                       (33 + 50) / 125]\r",
      "\r",
      "[Stage 61:===============>                                      (36 + 50) / 125]\r"
     ]
    },
    {
     "name": "stderr",
     "output_type": "stream",
     "text": [
      "\r",
      "[Stage 61:===============>                                      (37 + 50) / 125]\r",
      "\r",
      "[Stage 61:================>                                     (39 + 50) / 125]\r"
     ]
    },
    {
     "name": "stderr",
     "output_type": "stream",
     "text": [
      "\r",
      "[Stage 61:==================>                                   (42 + 50) / 125]\r",
      "\r",
      "[Stage 61:==================>                                   (43 + 50) / 125]\r"
     ]
    },
    {
     "name": "stderr",
     "output_type": "stream",
     "text": [
      "\r",
      "[Stage 61:===================>                                  (44 + 50) / 125]\r",
      "\r",
      "[Stage 61:====================>                                 (47 + 50) / 125]\r"
     ]
    },
    {
     "name": "stderr",
     "output_type": "stream",
     "text": [
      "\r",
      "[Stage 61:====================>                                 (47 + 51) / 125]\r",
      "\r",
      "[Stage 61:======================>                               (51 + 50) / 125]\r"
     ]
    },
    {
     "name": "stderr",
     "output_type": "stream",
     "text": [
      "\r",
      "[Stage 61:=======================>                              (55 + 50) / 125]\r",
      "\r",
      "[Stage 61:=========================>                            (59 + 51) / 125]\r"
     ]
    },
    {
     "name": "stderr",
     "output_type": "stream",
     "text": [
      "\r",
      "[Stage 61:============================>                         (66 + 50) / 125]\r",
      "\r",
      "[Stage 61:=============================>                        (69 + 50) / 125]\r"
     ]
    },
    {
     "name": "stderr",
     "output_type": "stream",
     "text": [
      "\r",
      "[Stage 61:===============================>                      (73 + 50) / 125]\r",
      "\r",
      "[Stage 61:===============================>                      (74 + 50) / 125]\r"
     ]
    },
    {
     "name": "stderr",
     "output_type": "stream",
     "text": [
      "\r",
      "[Stage 61:=================================>                    (78 + 47) / 125]\r"
     ]
    },
    {
     "name": "stderr",
     "output_type": "stream",
     "text": [
      "\r",
      "[Stage 61:==================================>                   (81 + 44) / 125]\r",
      "\r",
      "[Stage 61:===================================>                  (82 + 43) / 125]\r"
     ]
    },
    {
     "name": "stderr",
     "output_type": "stream",
     "text": [
      "\r",
      "[Stage 61:=====================================>                (87 + 38) / 125]\r",
      "\r",
      "[Stage 61:=======================================>              (92 + 33) / 125]\r"
     ]
    },
    {
     "name": "stderr",
     "output_type": "stream",
     "text": [
      "\r",
      "[Stage 61:=========================================>            (96 + 29) / 125]\r",
      "\r",
      "[Stage 61:==========================================>           (98 + 27) / 125]\r"
     ]
    },
    {
     "name": "stderr",
     "output_type": "stream",
     "text": [
      "\r",
      "[Stage 61:==========================================>          (101 + 24) / 125]\r",
      "\r",
      "[Stage 61:===========================================>         (103 + 22) / 125]\r"
     ]
    },
    {
     "name": "stderr",
     "output_type": "stream",
     "text": [
      "\r",
      "[Stage 61:=============================================>       (107 + 18) / 125]\r",
      "\r",
      "[Stage 61:===============================================>     (111 + 14) / 125]\r"
     ]
    },
    {
     "name": "stderr",
     "output_type": "stream",
     "text": [
      "\r",
      "[Stage 61:================================================>    (114 + 11) / 125]\r",
      "\r",
      "[Stage 61:==================================================>   (116 + 9) / 125]\r"
     ]
    },
    {
     "name": "stderr",
     "output_type": "stream",
     "text": [
      "\r",
      "[Stage 61:==================================================>   (117 + 8) / 125]\r"
     ]
    },
    {
     "name": "stderr",
     "output_type": "stream",
     "text": [
      "\r",
      "[Stage 61:===================================================>  (119 + 6) / 125]\r"
     ]
    },
    {
     "name": "stderr",
     "output_type": "stream",
     "text": [
      "\r",
      "[Stage 61:===================================================>  (120 + 5) / 125]\r",
      "\r",
      "[Stage 61:====================================================> (121 + 4) / 125]\r"
     ]
    },
    {
     "name": "stderr",
     "output_type": "stream",
     "text": [
      "\r",
      "[Stage 61:====================================================> (122 + 3) / 125]\r",
      "\r",
      "[Stage 61:=====================================================>(123 + 2) / 125]\r"
     ]
    },
    {
     "name": "stderr",
     "output_type": "stream",
     "text": [
      "\r",
      "[Stage 61:=====================================================>(124 + 1) / 125]\r"
     ]
    },
    {
     "name": "stderr",
     "output_type": "stream",
     "text": [
      "\r",
      "[Stage 65:>                                                      (0 + 50) / 125]\r"
     ]
    },
    {
     "name": "stderr",
     "output_type": "stream",
     "text": [
      "\r",
      "[Stage 65:====>                                                 (11 + 50) / 125]\r",
      "\r",
      "[Stage 65:=======>                                              (18 + 50) / 125]\r"
     ]
    },
    {
     "name": "stderr",
     "output_type": "stream",
     "text": [
      "\r",
      "[Stage 65:=============>                                        (32 + 50) / 125]\r",
      "\r",
      "[Stage 65:===============>                                      (37 + 50) / 125]\r"
     ]
    },
    {
     "name": "stderr",
     "output_type": "stream",
     "text": [
      "\r",
      "[Stage 65:==================>                                   (43 + 50) / 125]\r",
      "\r",
      "[Stage 65:======================>                               (51 + 50) / 125]\r"
     ]
    },
    {
     "name": "stderr",
     "output_type": "stream",
     "text": [
      "\r",
      "[Stage 65:=========================>                            (60 + 50) / 125]\r",
      "\r",
      "[Stage 65:=============================>                        (68 + 50) / 125]\r"
     ]
    },
    {
     "name": "stderr",
     "output_type": "stream",
     "text": [
      "\r",
      "[Stage 65:==================================>                   (81 + 44) / 125]\r",
      "\r",
      "[Stage 65:=======================================>              (92 + 33) / 125]\r"
     ]
    },
    {
     "name": "stderr",
     "output_type": "stream",
     "text": [
      "\r",
      "[Stage 65:==========================================>           (99 + 26) / 125]\r",
      "\r",
      "[Stage 65:===============================================>     (112 + 13) / 125]\r"
     ]
    },
    {
     "name": "stderr",
     "output_type": "stream",
     "text": [
      "\r",
      "[Stage 65:==================================================>   (118 + 7) / 125]\r",
      "\r",
      "[Stage 65:====================================================> (122 + 3) / 125]\r"
     ]
    },
    {
     "name": "stderr",
     "output_type": "stream",
     "text": [
      "\r",
      "                                                                                \r"
     ]
    },
    {
     "name": "stderr",
     "output_type": "stream",
     "text": [
      "24/05/16 06:22:31 WARN DataSource: All paths were ignored:\n",
      "  file:/ihme/scratch/users/zmbc/person_linkage_case_study/results/ri/tmpCheckpoints/0bc9c889-22ec-443a-b9c5-504361150648/__splink__df_comparison_vectors_9fd53659a\n"
     ]
    },
    {
     "name": "stderr",
     "output_type": "stream",
     "text": [
      "\n"
     ]
    },
    {
     "name": "stderr",
     "output_type": "stream",
     "text": [
      "\r",
      "[Stage 68:(48 + 50) / 250][Stage 69:> (0 + 0) / 250][Stage 70:> (0 + 0) / 250]\r",
      "\r",
      "[Stage 68:(121 + 50) / 250][Stage 69:> (0 + 0) / 250][Stage 70:> (0 + 0) / 250]\r"
     ]
    },
    {
     "name": "stderr",
     "output_type": "stream",
     "text": [
      "\r",
      "[Stage 68:(245 + 5) / 250][Stage 69:>(0 + 45) / 250][Stage 70:> (0 + 0) / 250]\r",
      "\r",
      "[Stage 69:>(1 + 50) / 250][Stage 70:> (0 + 0) / 250][Stage 71:> (0 + 0) / 250]\r"
     ]
    },
    {
     "name": "stderr",
     "output_type": "stream",
     "text": [
      "\r",
      "[Stage 69:(31 + 50) / 250][Stage 70:> (0 + 0) / 250][Stage 71:> (0 + 0) / 250]\r",
      "\r",
      "[Stage 69:(94 + 51) / 250][Stage 70:> (0 + 0) / 250][Stage 71:> (0 + 0) / 250]\r"
     ]
    },
    {
     "name": "stderr",
     "output_type": "stream",
     "text": [
      "\r",
      "[Stage 69:(246 + 4) / 250][Stage 70:>(0 + 46) / 250][Stage 71:> (0 + 0) / 250]\r",
      "\r",
      "[Stage 70:>(0 + 50) / 250][Stage 71:> (0 + 0) / 250][Stage 72:> (0 + 0) / 250]\r"
     ]
    },
    {
     "name": "stderr",
     "output_type": "stream",
     "text": [
      "\r",
      "[Stage 70:(38 + 50) / 250][Stage 71:> (0 + 0) / 250][Stage 72:> (0 + 0) / 250]\r",
      "\r",
      "[Stage 70:(118 + 51) / 250][Stage 71:> (0 + 0) / 250][Stage 72:> (0 + 0) / 250]\r"
     ]
    },
    {
     "name": "stderr",
     "output_type": "stream",
     "text": [
      "\r",
      "[Stage 70:(248 + 2) / 250][Stage 71:>(0 + 48) / 250][Stage 72:> (0 + 0) / 250]\r",
      "\r",
      "[Stage 71:>(7 + 50) / 250][Stage 72:> (0 + 0) / 250][Stage 73:> (0 + 0) / 250]\r"
     ]
    },
    {
     "name": "stderr",
     "output_type": "stream",
     "text": [
      "\r",
      "[Stage 71:(55 + 50) / 250][Stage 72:> (0 + 0) / 250][Stage 73:> (0 + 0) / 250]\r",
      "\r",
      "[Stage 71:(176 + 50) / 250][Stage 72:> (0 + 0) / 250][Stage 73:> (0 + 0) / 250]\r"
     ]
    },
    {
     "name": "stderr",
     "output_type": "stream",
     "text": [
      "\r",
      "[Stage 72:>(0 + 50) / 250][Stage 73:> (0 + 0) / 250][Stage 74:> (0 + 0) / 250]\r",
      "\r",
      "[Stage 72:(23 + 51) / 250][Stage 73:> (0 + 0) / 250][Stage 74:> (0 + 0) / 250]\r"
     ]
    },
    {
     "name": "stderr",
     "output_type": "stream",
     "text": [
      "\r",
      "[Stage 72:(73 + 50) / 250][Stage 73:> (0 + 0) / 250][Stage 74:> (0 + 0) / 250]\r",
      "\r",
      "[Stage 72:(239 + 11) / 250][Stage 73:>(0 + 39) / 250][Stage 74:> (0 + 0) / 250]\r"
     ]
    },
    {
     "name": "stderr",
     "output_type": "stream",
     "text": [
      "\r",
      "[Stage 73:>              (0 + 50) / 250][Stage 74:>               (0 + 0) / 250]\r",
      "\r",
      "[Stage 73:=>            (34 + 50) / 250][Stage 74:>               (0 + 0) / 250]\r"
     ]
    },
    {
     "name": "stderr",
     "output_type": "stream",
     "text": [
      "\r",
      "[Stage 73:=====>       (102 + 50) / 250][Stage 74:>               (0 + 0) / 250]\r",
      "\r",
      "[Stage 73:=============>(241 + 9) / 250][Stage 74:>              (0 + 41) / 250]\r"
     ]
    },
    {
     "name": "stderr",
     "output_type": "stream",
     "text": [
      "\r",
      "[Stage 74:=====>                                                (25 + 50) / 250]\r",
      "\r",
      "[Stage 74:========================>                            (115 + 51) / 250]\r"
     ]
    },
    {
     "name": "stderr",
     "output_type": "stream",
     "text": [
      "\r",
      "                                                                                \r",
      "Iteration 1: Largest change in params was 0.347 in the m_probability of geokey, level `Jaro_winkler >= 0.7222222222222222`\n"
     ]
    },
    {
     "name": "stderr",
     "output_type": "stream",
     "text": [
      "\r",
      "[Stage 83:(104 + 52) / 250][Stage 84:> (0 + 0) / 250][Stage 85:> (0 + 0) / 250]\r",
      "\r",
      "[Stage 83:(246 + 4) / 250][Stage 84:>(0 + 46) / 250][Stage 85:> (0 + 0) / 250]\r"
     ]
    },
    {
     "name": "stderr",
     "output_type": "stream",
     "text": [
      "\r",
      "[Stage 84:(13 + 50) / 250][Stage 85:> (0 + 0) / 250][Stage 86:> (0 + 0) / 250]\r",
      "\r",
      "[Stage 84:(58 + 50) / 250][Stage 85:> (0 + 0) / 250][Stage 86:> (0 + 0) / 250]\r"
     ]
    },
    {
     "name": "stderr",
     "output_type": "stream",
     "text": [
      "\r",
      "[Stage 84:(243 + 7) / 250][Stage 85:>(0 + 43) / 250][Stage 86:> (0 + 0) / 250]\r",
      "\r",
      "[Stage 84:(249 + 1) / 250][Stage 85:>(1 + 49) / 250][Stage 86:> (0 + 0) / 250]\r"
     ]
    },
    {
     "name": "stderr",
     "output_type": "stream",
     "text": [
      "\r",
      "[Stage 85:(37 + 50) / 250][Stage 86:> (0 + 0) / 250][Stage 87:> (0 + 0) / 250]\r",
      "\r",
      "[Stage 85:(130 + 50) / 250][Stage 86:> (0 + 0) / 250][Stage 87:> (0 + 0) / 250]\r"
     ]
    },
    {
     "name": "stderr",
     "output_type": "stream",
     "text": [
      "\r",
      "[Stage 85:(249 + 1) / 250][Stage 86:>(0 + 49) / 250][Stage 87:> (0 + 0) / 250]\r",
      "\r",
      "[Stage 86:(16 + 50) / 250][Stage 87:> (0 + 0) / 250][Stage 88:> (0 + 0) / 250]\r"
     ]
    },
    {
     "name": "stderr",
     "output_type": "stream",
     "text": [
      "\r",
      "[Stage 86:(69 + 50) / 250][Stage 87:> (0 + 0) / 250][Stage 88:> (0 + 0) / 250]\r",
      "\r",
      "[Stage 86:(238 + 12) / 250][Stage 87:>(0 + 38) / 250][Stage 88:> (0 + 0) / 250]\r"
     ]
    },
    {
     "name": "stderr",
     "output_type": "stream",
     "text": [
      "\r",
      "[Stage 87:>(0 + 50) / 250][Stage 88:> (0 + 0) / 250][Stage 89:> (0 + 0) / 250]\r",
      "\r",
      "[Stage 87:(39 + 50) / 250][Stage 88:> (0 + 0) / 250][Stage 89:> (0 + 0) / 250]\r"
     ]
    },
    {
     "name": "stderr",
     "output_type": "stream",
     "text": [
      "\r",
      "[Stage 87:(154 + 50) / 250][Stage 88:> (0 + 0) / 250][Stage 89:> (0 + 0) / 250]\r",
      "\r",
      "[Stage 87:(247 + 3) / 250][Stage 88:>(0 + 47) / 250][Stage 89:> (0 + 0) / 250]\r"
     ]
    },
    {
     "name": "stderr",
     "output_type": "stream",
     "text": [
      "\r",
      "[Stage 88:=>            (25 + 50) / 250][Stage 89:>               (0 + 0) / 250]\r",
      "\r",
      "[Stage 88:====>         (81 + 51) / 250][Stage 89:>               (0 + 0) / 250]\r"
     ]
    },
    {
     "name": "stderr",
     "output_type": "stream",
     "text": [
      "\r",
      "[Stage 88:=============>(243 + 7) / 250][Stage 89:>              (0 + 45) / 250]\r",
      "\r",
      "[Stage 89:====>                                                 (23 + 50) / 250]\r"
     ]
    },
    {
     "name": "stderr",
     "output_type": "stream",
     "text": [
      "\r",
      "[Stage 89:=========================>                           (122 + 51) / 250]\r"
     ]
    },
    {
     "name": "stderr",
     "output_type": "stream",
     "text": [
      "\r",
      "                                                                                \r",
      "Iteration 2: Largest change in params was 0.00966 in the m_probability of geokey, level `Jaro_winkler >= 0.7222222222222222`\n"
     ]
    },
    {
     "name": "stderr",
     "output_type": "stream",
     "text": [
      "\r",
      "[Stage 98:=====>        (92 + 52) / 250][Stage 99:>               (0 + 0) / 250]\r",
      "\r",
      "[Stage 98:(241 + 9) / 250][Stage 99:>(0 + 42) / 250][Stage 100:>(0 + 0) / 250]\r"
     ]
    },
    {
     "name": "stderr",
     "output_type": "stream",
     "text": [
      "\r",
      "[Stage 99:>(9 + 50) / 250][Stage 100:>(0 + 0) / 250][Stage 101:>(0 + 0) / 250]\r",
      "\r",
      "[Stage 99:(48 + 50) / 250][Stage 100:>(0 + 0) / 250][Stage 101:>(0 + 0) / 250]\r"
     ]
    },
    {
     "name": "stderr",
     "output_type": "stream",
     "text": [
      "\r",
      "[Stage 99:(192 + 51) / 250][Stage 100:>(0 + 0) / 250][Stage 101:>(0 + 0) / 250]\r",
      "\r",
      "[Stage 100:(0 + 50) / 250][Stage 101:>(0 + 0) / 250][Stage 102:>(0 + 0) / 250]\r"
     ]
    },
    {
     "name": "stderr",
     "output_type": "stream",
     "text": [
      "\r",
      "[Stage 100:(33 + 50) / 250][Stage 101:>(0 + 0) / 250][Stage 102:>(0 + 0) / 250]\r",
      "\r",
      "[Stage 100:(106 + 51) / 250][Stage 101:>(0 + 0) / 250][Stage 102:>(0 + 0) / 250]\r"
     ]
    },
    {
     "name": "stderr",
     "output_type": "stream",
     "text": [
      "\r",
      "[Stage 100:(249 + 1) / 250][Stage 101:(0 + 49) / 250][Stage 102:>(0 + 0) / 250]\r",
      "\r",
      "[Stage 101:(15 + 52) / 250][Stage 102:>(0 + 0) / 250][Stage 103:>(0 + 0) / 250]\r"
     ]
    },
    {
     "name": "stderr",
     "output_type": "stream",
     "text": [
      "\r",
      "[Stage 101:(80 + 50) / 250][Stage 102:>(0 + 0) / 250][Stage 103:>(0 + 0) / 250]\r",
      "\r",
      "[Stage 101:(246 + 4) / 250][Stage 102:(0 + 46) / 250][Stage 103:>(0 + 0) / 250]\r"
     ]
    },
    {
     "name": "stderr",
     "output_type": "stream",
     "text": [
      "\r",
      "[Stage 102:(14 + 50) / 250][Stage 103:>(0 + 0) / 250][Stage 104:>(0 + 0) / 250]\r",
      "\r",
      "[Stage 102:(72 + 50) / 250][Stage 103:>(0 + 0) / 250][Stage 104:>(0 + 0) / 250]\r"
     ]
    },
    {
     "name": "stderr",
     "output_type": "stream",
     "text": [
      "\r",
      "[Stage 102:(242 + 8) / 250][Stage 103:(0 + 42) / 250][Stage 104:>(0 + 0) / 250]\r",
      "\r",
      "[Stage 102:(249 + 1) / 250][Stage 103:(0 + 49) / 250][Stage 104:>(0 + 0) / 250]\r"
     ]
    },
    {
     "name": "stderr",
     "output_type": "stream",
     "text": [
      "\r",
      "[Stage 103:==>          (43 + 50) / 250][Stage 104:>              (0 + 0) / 250]\r",
      "\r",
      "[Stage 103:=======>    (158 + 50) / 250][Stage 104:>              (0 + 0) / 250]\r"
     ]
    },
    {
     "name": "stderr",
     "output_type": "stream",
     "text": [
      "\r",
      "[Stage 103:============>(249 + 1) / 250][Stage 104:>             (2 + 49) / 250]\r",
      "\r",
      "[Stage 104:===============>                                     (71 + 50) / 250]\r"
     ]
    },
    {
     "name": "stderr",
     "output_type": "stream",
     "text": [
      "\r",
      "[Stage 104:===================================================> (245 + 5) / 250]\r"
     ]
    },
    {
     "name": "stderr",
     "output_type": "stream",
     "text": [
      "\r",
      "                                                                                \r",
      "Iteration 3: Largest change in params was 0.000866 in the m_probability of day_of_birth, level `Exact match`\n"
     ]
    },
    {
     "name": "stderr",
     "output_type": "stream",
     "text": [
      "\r",
      "[Stage 113:(239 + 11) / 250][Stage 114:(0 + 39) / 250][Stage 115:>(0 + 0) / 250]\r",
      "\r",
      "[Stage 113:(249 + 1) / 250][Stage 114:(4 + 49) / 250][Stage 115:>(0 + 0) / 250]\r"
     ]
    },
    {
     "name": "stderr",
     "output_type": "stream",
     "text": [
      "\r",
      "[Stage 114:(63 + 51) / 250][Stage 115:>(0 + 0) / 250][Stage 116:>(0 + 0) / 250]\r",
      "\r",
      "[Stage 114:(244 + 6) / 250][Stage 115:(0 + 44) / 250][Stage 116:>(0 + 0) / 250]\r"
     ]
    },
    {
     "name": "stderr",
     "output_type": "stream",
     "text": [
      "\r",
      "[Stage 115:(9 + 51) / 250][Stage 116:>(0 + 0) / 250][Stage 117:>(0 + 0) / 250]\r",
      "\r",
      "[Stage 115:(63 + 51) / 250][Stage 116:>(0 + 0) / 250][Stage 117:>(0 + 0) / 250]\r"
     ]
    },
    {
     "name": "stderr",
     "output_type": "stream",
     "text": [
      "\r",
      "[Stage 115:(243 + 7) / 250][Stage 116:(0 + 43) / 250][Stage 117:>(0 + 0) / 250]\r",
      "\r",
      "[Stage 116:(17 + 50) / 250][Stage 117:>(0 + 0) / 250][Stage 118:>(0 + 0) / 250]\r"
     ]
    },
    {
     "name": "stderr",
     "output_type": "stream",
     "text": [
      "\r",
      "[Stage 116:(74 + 50) / 250][Stage 117:>(0 + 0) / 250][Stage 118:>(0 + 0) / 250]\r",
      "\r",
      "[Stage 116:(249 + 1) / 250][Stage 117:(0 + 49) / 250][Stage 118:>(0 + 0) / 250]\r"
     ]
    },
    {
     "name": "stderr",
     "output_type": "stream",
     "text": [
      "\r",
      "[Stage 117:(17 + 50) / 250][Stage 118:>(0 + 0) / 250][Stage 119:>(0 + 0) / 250]\r",
      "\r",
      "[Stage 117:(86 + 50) / 250][Stage 118:>(0 + 0) / 250][Stage 119:>(0 + 0) / 250]\r"
     ]
    },
    {
     "name": "stderr",
     "output_type": "stream",
     "text": [
      "\r",
      "[Stage 117:(248 + 2) / 250][Stage 118:(0 + 48) / 250][Stage 119:>(0 + 0) / 250]\r",
      "\r",
      "[Stage 118:=>           (22 + 50) / 250][Stage 119:>              (0 + 0) / 250]\r"
     ]
    },
    {
     "name": "stderr",
     "output_type": "stream",
     "text": [
      "\r",
      "[Stage 118:====>        (94 + 51) / 250][Stage 119:>              (0 + 0) / 250]\r",
      "\r",
      "[Stage 118:============>(245 + 5) / 250][Stage 119:>             (0 + 45) / 250]\r"
     ]
    },
    {
     "name": "stderr",
     "output_type": "stream",
     "text": [
      "\r",
      "[Stage 119:=============>                                       (65 + 50) / 250]\r"
     ]
    },
    {
     "name": "stderr",
     "output_type": "stream",
     "text": [
      "\r",
      "                                                                                \r",
      "Iteration 4: Largest change in params was 0.000254 in the m_probability of day_of_birth, level `Exact match`\n"
     ]
    },
    {
     "name": "stderr",
     "output_type": "stream",
     "text": [
      "\r",
      "[Stage 128:(248 + 2) / 250][Stage 129:(0 + 48) / 250][Stage 130:>(0 + 0) / 250]\r",
      "\r",
      "[Stage 129:(15 + 50) / 250][Stage 130:>(0 + 0) / 250][Stage 131:>(0 + 0) / 250]\r"
     ]
    },
    {
     "name": "stderr",
     "output_type": "stream",
     "text": [
      "\r",
      "[Stage 129:(82 + 50) / 250][Stage 130:>(0 + 0) / 250][Stage 131:>(0 + 0) / 250]\r",
      "\r",
      "[Stage 129:(248 + 2) / 250][Stage 130:(0 + 48) / 250][Stage 131:>(0 + 0) / 250]\r"
     ]
    },
    {
     "name": "stderr",
     "output_type": "stream",
     "text": [
      "\r",
      "[Stage 130:(29 + 51) / 250][Stage 131:>(0 + 0) / 250][Stage 132:>(0 + 0) / 250]\r",
      "\r",
      "[Stage 130:(129 + 50) / 250][Stage 131:>(0 + 0) / 250][Stage 132:>(0 + 0) / 250]\r"
     ]
    },
    {
     "name": "stderr",
     "output_type": "stream",
     "text": [
      "\r",
      "[Stage 130:(249 + 1) / 250][Stage 131:(0 + 49) / 250][Stage 132:>(0 + 0) / 250]\r",
      "\r",
      "[Stage 131:(40 + 51) / 250][Stage 132:>(0 + 0) / 250][Stage 133:>(0 + 0) / 250]\r"
     ]
    },
    {
     "name": "stderr",
     "output_type": "stream",
     "text": [
      "\r",
      "[Stage 131:(201 + 49) / 250][Stage 132:>(0 + 2) / 250][Stage 133:>(0 + 0) / 250]\r",
      "\r",
      "[Stage 132:(0 + 50) / 250][Stage 133:>(0 + 0) / 250][Stage 134:>(0 + 0) / 250]\r"
     ]
    },
    {
     "name": "stderr",
     "output_type": "stream",
     "text": [
      "\r",
      "[Stage 132:(42 + 50) / 250][Stage 133:>(0 + 0) / 250][Stage 134:>(0 + 0) / 250]\r",
      "\r",
      "[Stage 132:(239 + 11) / 250][Stage 133:(0 + 39) / 250][Stage 134:>(0 + 0) / 250]\r"
     ]
    },
    {
     "name": "stderr",
     "output_type": "stream",
     "text": [
      "\r",
      "[Stage 132:(249 + 1) / 250][Stage 133:(5 + 49) / 250][Stage 134:>(0 + 0) / 250]\r",
      "\r",
      "[Stage 133:==>          (54 + 50) / 250][Stage 134:>              (0 + 0) / 250]\r"
     ]
    },
    {
     "name": "stderr",
     "output_type": "stream",
     "text": [
      "\r",
      "[Stage 133:============>(244 + 6) / 250][Stage 134:>             (0 + 44) / 250]\r",
      "\r",
      "[Stage 134:=====>                                               (24 + 50) / 250]\r"
     ]
    },
    {
     "name": "stderr",
     "output_type": "stream",
     "text": [
      "\r",
      "[Stage 134:===================================================> (243 + 7) / 250]\r"
     ]
    },
    {
     "name": "stderr",
     "output_type": "stream",
     "text": [
      "\r",
      "                                                                                \r",
      "Iteration 5: Largest change in params was 8.34e-05 in the m_probability of day_of_birth, level `Exact match`\n"
     ]
    },
    {
     "name": "stderr",
     "output_type": "stream",
     "text": [
      "\n",
      "EM converged after 5 iterations\n"
     ]
    },
    {
     "name": "stderr",
     "output_type": "stream",
     "text": [
      "\n",
      "Your model is not yet fully trained. Missing estimates for:\n",
      "    - first_name_15 (no m values are trained).\n"
     ]
    }
   ],
   "source": [
    "blocking_rule_for_training = \"l.first_name_15 = r.first_name_15 and l.zipcode = r.zipcode\"\n",
    "em_session_1 = linker.estimate_parameters_using_expectation_maximisation(\n",
    "    blocking_rule_for_training,\n",
    "    # Fix lambda; u is fixed by default\n",
    "    fix_probability_two_random_records_match=True,\n",
    ")"
   ]
  },
  {
   "cell_type": "code",
   "execution_count": 57,
   "id": "7cc3f56f-eb87-4673-bcc4-fe2269e54db3",
   "metadata": {
    "execution": {
     "iopub.execute_input": "2024-05-16T06:22:58.137357Z",
     "iopub.status.busy": "2024-05-16T06:22:58.136707Z",
     "iopub.status.idle": "2024-05-16T06:22:58.381446Z",
     "shell.execute_reply": "2024-05-16T06:22:58.379879Z"
    },
    "papermill": {
     "duration": 0.280825,
     "end_time": "2024-05-16T06:22:58.386536",
     "exception": false,
     "start_time": "2024-05-16T06:22:58.105711",
     "status": "completed"
    },
    "tags": []
   },
   "outputs": [
    {
     "data": {
      "text/html": [
       "\n",
       "<style>\n",
       "  #altair-viz-c691d0c6c3d041debaaf62df08f46e0e.vega-embed {\n",
       "    width: 100%;\n",
       "    display: flex;\n",
       "  }\n",
       "\n",
       "  #altair-viz-c691d0c6c3d041debaaf62df08f46e0e.vega-embed details,\n",
       "  #altair-viz-c691d0c6c3d041debaaf62df08f46e0e.vega-embed details summary {\n",
       "    position: relative;\n",
       "  }\n",
       "</style>\n",
       "<div id=\"altair-viz-c691d0c6c3d041debaaf62df08f46e0e\"></div>\n",
       "<script type=\"text/javascript\">\n",
       "  var VEGA_DEBUG = (typeof VEGA_DEBUG == \"undefined\") ? {} : VEGA_DEBUG;\n",
       "  (function(spec, embedOpt){\n",
       "    let outputDiv = document.currentScript.previousElementSibling;\n",
       "    if (outputDiv.id !== \"altair-viz-c691d0c6c3d041debaaf62df08f46e0e\") {\n",
       "      outputDiv = document.getElementById(\"altair-viz-c691d0c6c3d041debaaf62df08f46e0e\");\n",
       "    }\n",
       "    const paths = {\n",
       "      \"vega\": \"https://cdn.jsdelivr.net/npm/vega@5?noext\",\n",
       "      \"vega-lib\": \"https://cdn.jsdelivr.net/npm/vega-lib?noext\",\n",
       "      \"vega-lite\": \"https://cdn.jsdelivr.net/npm/vega-lite@5.17.0?noext\",\n",
       "      \"vega-embed\": \"https://cdn.jsdelivr.net/npm/vega-embed@6?noext\",\n",
       "    };\n",
       "\n",
       "    function maybeLoadScript(lib, version) {\n",
       "      var key = `${lib.replace(\"-\", \"\")}_version`;\n",
       "      return (VEGA_DEBUG[key] == version) ?\n",
       "        Promise.resolve(paths[lib]) :\n",
       "        new Promise(function(resolve, reject) {\n",
       "          var s = document.createElement('script');\n",
       "          document.getElementsByTagName(\"head\")[0].appendChild(s);\n",
       "          s.async = true;\n",
       "          s.onload = () => {\n",
       "            VEGA_DEBUG[key] = version;\n",
       "            return resolve(paths[lib]);\n",
       "          };\n",
       "          s.onerror = () => reject(`Error loading script: ${paths[lib]}`);\n",
       "          s.src = paths[lib];\n",
       "        });\n",
       "    }\n",
       "\n",
       "    function showError(err) {\n",
       "      outputDiv.innerHTML = `<div class=\"error\" style=\"color:red;\">${err}</div>`;\n",
       "      throw err;\n",
       "    }\n",
       "\n",
       "    function displayChart(vegaEmbed) {\n",
       "      vegaEmbed(outputDiv, spec, embedOpt)\n",
       "        .catch(err => showError(`Javascript Error: ${err.message}<br>This usually means there's a typo in your chart specification. See the javascript console for the full traceback.`));\n",
       "    }\n",
       "\n",
       "    if(typeof define === \"function\" && define.amd) {\n",
       "      requirejs.config({paths});\n",
       "      require([\"vega-embed\"], displayChart, err => showError(`Error loading script: ${err.message}`));\n",
       "    } else {\n",
       "      maybeLoadScript(\"vega\", \"5\")\n",
       "        .then(() => maybeLoadScript(\"vega-lite\", \"5.17.0\"))\n",
       "        .then(() => maybeLoadScript(\"vega-embed\", \"6\"))\n",
       "        .catch(showError)\n",
       "        .then(() => displayChart(vegaEmbed));\n",
       "    }\n",
       "  })({\"config\": {\"view\": {\"continuousWidth\": 300, \"continuousHeight\": 300, \"discreteHeight\": 300, \"discreteWidth\": 400}, \"header\": {\"title\": null}, \"title\": {\"anchor\": \"middle\", \"offset\": 10}}, \"hconcat\": [{\"mark\": \"bar\", \"encoding\": {\"color\": {\"value\": \"green\"}, \"row\": {\"field\": \"comparison_name\", \"header\": {\"labelAlign\": \"left\", \"labelAnchor\": \"middle\", \"labelAngle\": 0}, \"sort\": {\"field\": \"comparison_sort_order\"}, \"type\": \"nominal\"}, \"tooltip\": [{\"field\": \"m_probability_description\", \"title\": \"m probability description\", \"type\": \"nominal\"}, {\"field\": \"comparison_name\", \"title\": \"Comparison column name\", \"type\": \"nominal\"}, {\"field\": \"label_for_charts\", \"title\": \"Label\", \"type\": \"ordinal\"}, {\"field\": \"sql_condition\", \"title\": \"SQL condition\", \"type\": \"nominal\"}, {\"field\": \"m_probability\", \"format\": \".4p\", \"title\": \"m probability\", \"type\": \"quantitative\"}, {\"field\": \"u_probability\", \"format\": \".4p\", \"title\": \"u probability\", \"type\": \"quantitative\"}, {\"field\": \"bayes_factor\", \"format\": \",.4f\", \"title\": \"Bayes factor = m/u\", \"type\": \"quantitative\"}, {\"field\": \"log2_bayes_factor\", \"format\": \",.4f\", \"title\": \"Match weight = log2(m/u)\", \"type\": \"quantitative\"}], \"x\": {\"axis\": {\"title\": \"Proportion of record comparisons\"}, \"field\": \"m_probability\", \"type\": \"quantitative\"}, \"y\": {\"axis\": {\"title\": null}, \"field\": \"label_for_charts\", \"sort\": {\"field\": \"comparison_vector_value\", \"order\": \"descending\"}, \"type\": \"nominal\"}}, \"height\": {\"step\": 12}, \"resolve\": {\"scale\": {\"y\": \"independent\"}}, \"title\": {\"text\": \"Amongst matching record comparisons:\", \"fontSize\": 12, \"fontWeight\": \"bold\"}, \"transform\": [{\"filter\": \"(datum.bayes_factor != 'no-op filter due to vega lite issue 4680')\"}], \"width\": 150}, {\"mark\": \"bar\", \"encoding\": {\"color\": {\"value\": \"red\"}, \"row\": {\"field\": \"comparison_name\", \"header\": {\"labels\": false}, \"sort\": {\"field\": \"comparison_sort_order\"}, \"type\": \"nominal\"}, \"tooltip\": [{\"field\": \"u_probability_description\", \"title\": \"u probability description\", \"type\": \"nominal\"}, {\"field\": \"comparison_name\", \"title\": \"Comparison column name\", \"type\": \"nominal\"}, {\"field\": \"label_for_charts\", \"title\": \"Label\", \"type\": \"ordinal\"}, {\"field\": \"sql_condition\", \"title\": \"SQL condition\", \"type\": \"nominal\"}, {\"field\": \"m_probability\", \"format\": \".4p\", \"title\": \"m probability\", \"type\": \"quantitative\"}, {\"field\": \"u_probability\", \"format\": \".4p\", \"title\": \"u probability\", \"type\": \"quantitative\"}, {\"field\": \"bayes_factor\", \"format\": \",.4f\", \"title\": \"Bayes factor = m/u\", \"type\": \"quantitative\"}, {\"field\": \"log2_bayes_factor\", \"format\": \",.4f\", \"title\": \"Match weight = log2(m/u)\", \"type\": \"quantitative\"}], \"x\": {\"axis\": {\"title\": \"Proportion of record comparisons\"}, \"field\": \"u_probability\", \"type\": \"quantitative\"}, \"y\": {\"axis\": {\"title\": null}, \"field\": \"label_for_charts\", \"sort\": {\"field\": \"comparison_vector_value\", \"order\": \"descending\"}, \"type\": \"nominal\"}}, \"height\": {\"step\": 12}, \"resolve\": {\"scale\": {\"y\": \"independent\"}}, \"title\": {\"text\": \"Amongst non-matching record comparisons:\", \"fontSize\": 12, \"fontWeight\": \"bold\"}, \"transform\": [{\"filter\": \"(datum.bayes_factor != 'no-op filter2 due to vega lite issue 4680')\"}], \"width\": 150}], \"data\": {\"name\": \"data-2c9b8ad3fc7dddb509421ee84d9132ad\"}, \"params\": [{\"name\": \"iteration_number\", \"bind\": {\"input\": \"range\", \"max\": 5, \"min\": 0, \"step\": 1}, \"value\": 5}], \"title\": {\"text\": \"Proportion of record comparisons in each comparison level by match status\", \"subtitle\": \"(m and u probabilities)\"}, \"transform\": [{\"filter\": \"(datum.iteration == iteration_number)\"}], \"$schema\": \"https://vega.github.io/schema/vega-lite/v5.9.3.json\", \"datasets\": {\"data-2c9b8ad3fc7dddb509421ee84d9132ad\": [{\"comparison_name\": \"last_name_12\", \"sql_condition\": \"`last_name_12_l` = `last_name_12_r`\", \"label_for_charts\": \"Exact match\", \"m_probability\": 0.95, \"u_probability\": 0.0006057226012092292, \"m_probability_description\": \"Amongst matching record comparisons, 95.00% of records are in the exact match comparison level\", \"u_probability_description\": \"Amongst non-matching record comparisons, 0.06% of records are in the exact match comparison level\", \"has_tf_adjustments\": false, \"tf_adjustment_column\": null, \"tf_adjustment_weight\": 1.0, \"is_null_level\": false, \"bayes_factor\": 1568.3746951219512, \"log2_bayes_factor\": 10.615054554712254, \"comparison_vector_value\": 2, \"max_comparison_vector_value\": 2, \"bayes_factor_description\": \"If comparison level is `exact match` then comparison is 1,568.37 times more likely to be a match\", \"probability_two_random_records_match\": 8.71674365172514e-05, \"comparison_sort_order\": 0, \"iteration\": 0}, {\"comparison_name\": \"last_name_12\", \"sql_condition\": \"jaro_winkler(`last_name_12_l`, `last_name_12_r`) >= 0.8333333333333334\", \"label_for_charts\": \"Jaro_winkler >= 0.8333333333333334\", \"m_probability\": 0.025000000000000022, \"u_probability\": 0.0012859293840712192, \"m_probability_description\": \"Amongst matching record comparisons, 2.50% of records are in the jaro_winkler >= 0.8333333333333334 comparison level\", \"u_probability_description\": \"Amongst non-matching record comparisons, 0.13% of records are in the jaro_winkler >= 0.8333333333333334 comparison level\", \"has_tf_adjustments\": false, \"tf_adjustment_column\": null, \"tf_adjustment_weight\": 1.0, \"is_null_level\": false, \"bayes_factor\": 19.441191957874597, \"log2_bayes_factor\": 4.2810447695408005, \"comparison_vector_value\": 1, \"max_comparison_vector_value\": 2, \"bayes_factor_description\": \"If comparison level is `jaro_winkler >= 0.8333333333333334` then comparison is 19.44 times more likely to be a match\", \"probability_two_random_records_match\": 8.71674365172514e-05, \"comparison_sort_order\": 0, \"iteration\": 0}, {\"comparison_name\": \"last_name_12\", \"sql_condition\": \"ELSE\", \"label_for_charts\": \"All other comparisons\", \"m_probability\": 0.025000000000000022, \"u_probability\": 0.9981083480147196, \"m_probability_description\": \"Amongst matching record comparisons, 2.50% of records are in the all other comparisons comparison level\", \"u_probability_description\": \"Amongst non-matching record comparisons, 99.81% of records are in the all other comparisons comparison level\", \"has_tf_adjustments\": false, \"tf_adjustment_column\": null, \"tf_adjustment_weight\": 1.0, \"is_null_level\": false, \"bayes_factor\": 0.02504738092785828, \"log2_bayes_factor\": -5.3191964334573845, \"comparison_vector_value\": 0, \"max_comparison_vector_value\": 2, \"bayes_factor_description\": \"If comparison level is `all other comparisons` then comparison is  39.92 times less likely to be a match\", \"probability_two_random_records_match\": 8.71674365172514e-05, \"comparison_sort_order\": 0, \"iteration\": 0}, {\"comparison_name\": \"middle_initial\", \"sql_condition\": \"`middle_initial_l` = `middle_initial_r`\", \"label_for_charts\": \"Exact match\", \"m_probability\": 0.95, \"u_probability\": 0.06625810679844002, \"m_probability_description\": \"Amongst matching record comparisons, 95.00% of records are in the exact match comparison level\", \"u_probability_description\": \"Amongst non-matching record comparisons, 6.63% of records are in the exact match comparison level\", \"has_tf_adjustments\": false, \"tf_adjustment_column\": null, \"tf_adjustment_weight\": 1.0, \"is_null_level\": false, \"bayes_factor\": 14.337868162909338, \"log2_bayes_factor\": 3.8417586266373855, \"comparison_vector_value\": 1, \"max_comparison_vector_value\": 1, \"bayes_factor_description\": \"If comparison level is `exact match` then comparison is 14.34 times more likely to be a match\", \"probability_two_random_records_match\": 8.71674365172514e-05, \"comparison_sort_order\": 1, \"iteration\": 0}, {\"comparison_name\": \"middle_initial\", \"sql_condition\": \"ELSE\", \"label_for_charts\": \"All other comparisons\", \"m_probability\": 0.050000000000000044, \"u_probability\": 0.93374189320156, \"m_probability_description\": \"Amongst matching record comparisons, 5.00% of records are in the all other comparisons comparison level\", \"u_probability_description\": \"Amongst non-matching record comparisons, 93.37% of records are in the all other comparisons comparison level\", \"has_tf_adjustments\": false, \"tf_adjustment_column\": null, \"tf_adjustment_weight\": 1.0, \"is_null_level\": false, \"bayes_factor\": 0.053547988329583185, \"log2_bayes_factor\": -4.223023812398604, \"comparison_vector_value\": 0, \"max_comparison_vector_value\": 1, \"bayes_factor_description\": \"If comparison level is `all other comparisons` then comparison is  18.67 times less likely to be a match\", \"probability_two_random_records_match\": 8.71674365172514e-05, \"comparison_sort_order\": 1, \"iteration\": 0}, {\"comparison_name\": \"day_of_birth\", \"sql_condition\": \"`day_of_birth_l` = `day_of_birth_r`\", \"label_for_charts\": \"Exact match\", \"m_probability\": 0.95, \"u_probability\": 0.03252879296232792, \"m_probability_description\": \"Amongst matching record comparisons, 95.00% of records are in the exact match comparison level\", \"u_probability_description\": \"Amongst non-matching record comparisons, 3.25% of records are in the exact match comparison level\", \"has_tf_adjustments\": false, \"tf_adjustment_column\": null, \"tf_adjustment_weight\": 1.0, \"is_null_level\": false, \"bayes_factor\": 29.20489552441153, \"log2_bayes_factor\": 4.868138318677753, \"comparison_vector_value\": 2, \"max_comparison_vector_value\": 2, \"bayes_factor_description\": \"If comparison level is `exact match` then comparison is 29.20 times more likely to be a match\", \"probability_two_random_records_match\": 8.71674365172514e-05, \"comparison_sort_order\": 2, \"iteration\": 0}, {\"comparison_name\": \"day_of_birth\", \"sql_condition\": \"abs(day_of_birth_l - day_of_birth_r) <= 5\", \"label_for_charts\": \"Inexact match\", \"m_probability\": 0.025000000000000022, \"u_probability\": 0.29573920164687456, \"m_probability_description\": \"Amongst matching record comparisons, 2.50% of records are in the inexact match comparison level\", \"u_probability_description\": \"Amongst non-matching record comparisons, 29.57% of records are in the inexact match comparison level\", \"has_tf_adjustments\": false, \"tf_adjustment_column\": null, \"tf_adjustment_weight\": 1.0, \"is_null_level\": false, \"bayes_factor\": 0.08453394024459127, \"log2_bayes_factor\": -3.564325492267804, \"comparison_vector_value\": 1, \"max_comparison_vector_value\": 2, \"bayes_factor_description\": \"If comparison level is `inexact match` then comparison is  11.83 times less likely to be a match\", \"probability_two_random_records_match\": 8.71674365172514e-05, \"comparison_sort_order\": 2, \"iteration\": 0}, {\"comparison_name\": \"day_of_birth\", \"sql_condition\": \"ELSE\", \"label_for_charts\": \"All other comparisons\", \"m_probability\": 0.025000000000000022, \"u_probability\": 0.6717320053907976, \"m_probability_description\": \"Amongst matching record comparisons, 2.50% of records are in the all other comparisons comparison level\", \"u_probability_description\": \"Amongst non-matching record comparisons, 67.17% of records are in the all other comparisons comparison level\", \"has_tf_adjustments\": false, \"tf_adjustment_column\": null, \"tf_adjustment_weight\": 1.0, \"is_null_level\": false, \"bayes_factor\": 0.03721722323690029, \"log2_bayes_factor\": -4.747885769299581, \"comparison_vector_value\": 0, \"max_comparison_vector_value\": 2, \"bayes_factor_description\": \"If comparison level is `all other comparisons` then comparison is  26.87 times less likely to be a match\", \"probability_two_random_records_match\": 8.71674365172514e-05, \"comparison_sort_order\": 2, \"iteration\": 0}, {\"comparison_name\": \"month_of_birth\", \"sql_condition\": \"`month_of_birth_l` = `month_of_birth_r`\", \"label_for_charts\": \"Exact match\", \"m_probability\": 0.95, \"u_probability\": 0.08350433151288077, \"m_probability_description\": \"Amongst matching record comparisons, 95.00% of records are in the exact match comparison level\", \"u_probability_description\": \"Amongst non-matching record comparisons, 8.35% of records are in the exact match comparison level\", \"has_tf_adjustments\": false, \"tf_adjustment_column\": null, \"tf_adjustment_weight\": 1.0, \"is_null_level\": false, \"bayes_factor\": 11.376655351746153, \"log2_bayes_factor\": 3.508004573737368, \"comparison_vector_value\": 2, \"max_comparison_vector_value\": 2, \"bayes_factor_description\": \"If comparison level is `exact match` then comparison is 11.38 times more likely to be a match\", \"probability_two_random_records_match\": 8.71674365172514e-05, \"comparison_sort_order\": 3, \"iteration\": 0}, {\"comparison_name\": \"month_of_birth\", \"sql_condition\": \"abs(month_of_birth_l - month_of_birth_r) <= 3\", \"label_for_charts\": \"Inexact match\", \"m_probability\": 0.025000000000000022, \"u_probability\": 0.4129544295915271, \"m_probability_description\": \"Amongst matching record comparisons, 2.50% of records are in the inexact match comparison level\", \"u_probability_description\": \"Amongst non-matching record comparisons, 41.30% of records are in the inexact match comparison level\", \"has_tf_adjustments\": false, \"tf_adjustment_column\": null, \"tf_adjustment_weight\": 1.0, \"is_null_level\": false, \"bayes_factor\": 0.060539367563459026, \"log2_bayes_factor\": -4.0459825859311875, \"comparison_vector_value\": 1, \"max_comparison_vector_value\": 2, \"bayes_factor_description\": \"If comparison level is `inexact match` then comparison is  16.52 times less likely to be a match\", \"probability_two_random_records_match\": 8.71674365172514e-05, \"comparison_sort_order\": 3, \"iteration\": 0}, {\"comparison_name\": \"month_of_birth\", \"sql_condition\": \"ELSE\", \"label_for_charts\": \"All other comparisons\", \"m_probability\": 0.025000000000000022, \"u_probability\": 0.5035412388955921, \"m_probability_description\": \"Amongst matching record comparisons, 2.50% of records are in the all other comparisons comparison level\", \"u_probability_description\": \"Amongst non-matching record comparisons, 50.35% of records are in the all other comparisons comparison level\", \"has_tf_adjustments\": false, \"tf_adjustment_column\": null, \"tf_adjustment_weight\": 1.0, \"is_null_level\": false, \"bayes_factor\": 0.049648366546565424, \"log2_bayes_factor\": -4.332109936551495, \"comparison_vector_value\": 0, \"max_comparison_vector_value\": 2, \"bayes_factor_description\": \"If comparison level is `all other comparisons` then comparison is  20.14 times less likely to be a match\", \"probability_two_random_records_match\": 8.71674365172514e-05, \"comparison_sort_order\": 3, \"iteration\": 0}, {\"comparison_name\": \"year_of_birth\", \"sql_condition\": \"`year_of_birth_l` = `year_of_birth_r`\", \"label_for_charts\": \"Exact match\", \"m_probability\": 0.95, \"u_probability\": 0.011084011593037122, \"m_probability_description\": \"Amongst matching record comparisons, 95.00% of records are in the exact match comparison level\", \"u_probability_description\": \"Amongst non-matching record comparisons, 1.11% of records are in the exact match comparison level\", \"has_tf_adjustments\": false, \"tf_adjustment_column\": null, \"tf_adjustment_weight\": 1.0, \"is_null_level\": false, \"bayes_factor\": 85.7090406326155, \"log2_bayes_factor\": 6.421375483448383, \"comparison_vector_value\": 2, \"max_comparison_vector_value\": 2, \"bayes_factor_description\": \"If comparison level is `exact match` then comparison is 85.71 times more likely to be a match\", \"probability_two_random_records_match\": 8.71674365172514e-05, \"comparison_sort_order\": 4, \"iteration\": 0}, {\"comparison_name\": \"year_of_birth\", \"sql_condition\": \"abs(year_of_birth_l - year_of_birth_r) <= 5\", \"label_for_charts\": \"Inexact match\", \"m_probability\": 0.025000000000000022, \"u_probability\": 0.10937488974972305, \"m_probability_description\": \"Amongst matching record comparisons, 2.50% of records are in the inexact match comparison level\", \"u_probability_description\": \"Amongst non-matching record comparisons, 10.94% of records are in the inexact match comparison level\", \"has_tf_adjustments\": false, \"tf_adjustment_column\": null, \"tf_adjustment_weight\": 1.0, \"is_null_level\": false, \"bayes_factor\": 0.2285716589722398, \"log2_bayes_factor\": -2.129281562703978, \"comparison_vector_value\": 1, \"max_comparison_vector_value\": 2, \"bayes_factor_description\": \"If comparison level is `inexact match` then comparison is  4.37 times less likely to be a match\", \"probability_two_random_records_match\": 8.71674365172514e-05, \"comparison_sort_order\": 4, \"iteration\": 0}, {\"comparison_name\": \"year_of_birth\", \"sql_condition\": \"ELSE\", \"label_for_charts\": \"All other comparisons\", \"m_probability\": 0.025000000000000022, \"u_probability\": 0.8795410986572398, \"m_probability_description\": \"Amongst matching record comparisons, 2.50% of records are in the all other comparisons comparison level\", \"u_probability_description\": \"Amongst non-matching record comparisons, 87.95% of records are in the all other comparisons comparison level\", \"has_tf_adjustments\": false, \"tf_adjustment_column\": null, \"tf_adjustment_weight\": 1.0, \"is_null_level\": false, \"bayes_factor\": 0.02842391337729018, \"log2_bayes_factor\": -5.13675099264171, \"comparison_vector_value\": 0, \"max_comparison_vector_value\": 2, \"bayes_factor_description\": \"If comparison level is `all other comparisons` then comparison is  35.18 times less likely to be a match\", \"probability_two_random_records_match\": 8.71674365172514e-05, \"comparison_sort_order\": 4, \"iteration\": 0}, {\"comparison_name\": \"geokey\", \"sql_condition\": \"`geokey_l` = `geokey_r`\", \"label_for_charts\": \"Exact match\", \"m_probability\": 0.95, \"u_probability\": 0.0008192860645440116, \"m_probability_description\": \"Amongst matching record comparisons, 95.00% of records are in the exact match comparison level\", \"u_probability_description\": \"Amongst non-matching record comparisons, 0.08% of records are in the exact match comparison level\", \"has_tf_adjustments\": false, \"tf_adjustment_column\": null, \"tf_adjustment_weight\": 1.0, \"is_null_level\": false, \"bayes_factor\": 1159.5461476923076, \"log2_bayes_factor\": 10.179344522258772, \"comparison_vector_value\": 2, \"max_comparison_vector_value\": 2, \"bayes_factor_description\": \"If comparison level is `exact match` then comparison is 1,159.55 times more likely to be a match\", \"probability_two_random_records_match\": 8.71674365172514e-05, \"comparison_sort_order\": 5, \"iteration\": 0}, {\"comparison_name\": \"geokey\", \"sql_condition\": \"jaro_winkler(`geokey_l`, `geokey_r`) >= 0.7222222222222222\", \"label_for_charts\": \"Jaro_winkler >= 0.7222222222222222\", \"m_probability\": 0.025000000000000022, \"u_probability\": 0.020822268769994993, \"m_probability_description\": \"Amongst matching record comparisons, 2.50% of records are in the jaro_winkler >= 0.7222222222222222 comparison level\", \"u_probability_description\": \"Amongst non-matching record comparisons, 2.08% of records are in the jaro_winkler >= 0.7222222222222222 comparison level\", \"has_tf_adjustments\": false, \"tf_adjustment_column\": null, \"tf_adjustment_weight\": 1.0, \"is_null_level\": false, \"bayes_factor\": 1.2006376575075797, \"log2_bayes_factor\": 0.2638008233251875, \"comparison_vector_value\": 1, \"max_comparison_vector_value\": 2, \"bayes_factor_description\": \"If comparison level is `jaro_winkler >= 0.7222222222222222` then comparison is 1.20 times more likely to be a match\", \"probability_two_random_records_match\": 8.71674365172514e-05, \"comparison_sort_order\": 5, \"iteration\": 0}, {\"comparison_name\": \"geokey\", \"sql_condition\": \"ELSE\", \"label_for_charts\": \"All other comparisons\", \"m_probability\": 0.025000000000000022, \"u_probability\": 0.978358445165461, \"m_probability_description\": \"Amongst matching record comparisons, 2.50% of records are in the all other comparisons comparison level\", \"u_probability_description\": \"Amongst non-matching record comparisons, 97.84% of records are in the all other comparisons comparison level\", \"has_tf_adjustments\": false, \"tf_adjustment_column\": null, \"tf_adjustment_weight\": 1.0, \"is_null_level\": false, \"bayes_factor\": 0.025553006797802, \"log2_bayes_factor\": -5.290363128081492, \"comparison_vector_value\": 0, \"max_comparison_vector_value\": 2, \"bayes_factor_description\": \"If comparison level is `all other comparisons` then comparison is  39.13 times less likely to be a match\", \"probability_two_random_records_match\": 8.71674365172514e-05, \"comparison_sort_order\": 5, \"iteration\": 0}, {\"comparison_name\": \"last_name_12\", \"sql_condition\": \"`last_name_12_l` = `last_name_12_r`\", \"label_for_charts\": \"Exact match\", \"m_probability\": 0.9512966547967533, \"u_probability\": 0.0006057226012092292, \"m_probability_description\": \"Amongst matching record comparisons, 95.13% of records are in the exact match comparison level\", \"u_probability_description\": \"Amongst non-matching record comparisons, 0.06% of records are in the exact match comparison level\", \"has_tf_adjustments\": false, \"tf_adjustment_column\": null, \"tf_adjustment_weight\": 1.0, \"is_null_level\": false, \"bayes_factor\": 1570.515369407779, \"log2_bayes_factor\": 10.617022346251066, \"comparison_vector_value\": 2, \"max_comparison_vector_value\": 2, \"bayes_factor_description\": \"If comparison level is `exact match` then comparison is 1,570.52 times more likely to be a match\", \"probability_two_random_records_match\": 8.71674365172514e-05, \"comparison_sort_order\": 0, \"iteration\": 1}, {\"comparison_name\": \"last_name_12\", \"sql_condition\": \"jaro_winkler(`last_name_12_l`, `last_name_12_r`) >= 0.8333333333333334\", \"label_for_charts\": \"Jaro_winkler >= 0.8333333333333334\", \"m_probability\": 0.03102074528321188, \"u_probability\": 0.0012859293840712192, \"m_probability_description\": \"Amongst matching record comparisons, 3.10% of records are in the jaro_winkler >= 0.8333333333333334 comparison level\", \"u_probability_description\": \"Amongst non-matching record comparisons, 0.13% of records are in the jaro_winkler >= 0.8333333333333334 comparison level\", \"has_tf_adjustments\": false, \"tf_adjustment_column\": null, \"tf_adjustment_weight\": 1.0, \"is_null_level\": false, \"bayes_factor\": 24.123210549090185, \"log2_bayes_factor\": 4.592350022648251, \"comparison_vector_value\": 1, \"max_comparison_vector_value\": 2, \"bayes_factor_description\": \"If comparison level is `jaro_winkler >= 0.8333333333333334` then comparison is 24.12 times more likely to be a match\", \"probability_two_random_records_match\": 8.71674365172514e-05, \"comparison_sort_order\": 0, \"iteration\": 1}, {\"comparison_name\": \"last_name_12\", \"sql_condition\": \"ELSE\", \"label_for_charts\": \"All other comparisons\", \"m_probability\": 0.017682599920034844, \"u_probability\": 0.9981083480147196, \"m_probability_description\": \"Amongst matching record comparisons, 1.77% of records are in the all other comparisons comparison level\", \"u_probability_description\": \"Amongst non-matching record comparisons, 99.81% of records are in the all other comparisons comparison level\", \"has_tf_adjustments\": false, \"tf_adjustment_column\": null, \"tf_adjustment_weight\": 1.0, \"is_null_level\": false, \"bayes_factor\": 0.017716112639681147, \"log2_bayes_factor\": -5.818794114702755, \"comparison_vector_value\": 0, \"max_comparison_vector_value\": 2, \"bayes_factor_description\": \"If comparison level is `all other comparisons` then comparison is  56.45 times less likely to be a match\", \"probability_two_random_records_match\": 8.71674365172514e-05, \"comparison_sort_order\": 0, \"iteration\": 1}, {\"comparison_name\": \"middle_initial\", \"sql_condition\": \"`middle_initial_l` = `middle_initial_r`\", \"label_for_charts\": \"Exact match\", \"m_probability\": 0.9811120949725315, \"u_probability\": 0.06625810679844002, \"m_probability_description\": \"Amongst matching record comparisons, 98.11% of records are in the exact match comparison level\", \"u_probability_description\": \"Amongst non-matching record comparisons, 6.63% of records are in the exact match comparison level\", \"has_tf_adjustments\": false, \"tf_adjustment_column\": null, \"tf_adjustment_weight\": 1.0, \"is_null_level\": false, \"bayes_factor\": 14.807427232370467, \"log2_bayes_factor\": 3.8882490912511556, \"comparison_vector_value\": 1, \"max_comparison_vector_value\": 1, \"bayes_factor_description\": \"If comparison level is `exact match` then comparison is 14.81 times more likely to be a match\", \"probability_two_random_records_match\": 8.71674365172514e-05, \"comparison_sort_order\": 1, \"iteration\": 1}, {\"comparison_name\": \"middle_initial\", \"sql_condition\": \"ELSE\", \"label_for_charts\": \"All other comparisons\", \"m_probability\": 0.01888790502746851, \"u_probability\": 0.93374189320156, \"m_probability_description\": \"Amongst matching record comparisons, 1.89% of records are in the all other comparisons comparison level\", \"u_probability_description\": \"Amongst non-matching record comparisons, 93.37% of records are in the all other comparisons comparison level\", \"has_tf_adjustments\": false, \"tf_adjustment_column\": null, \"tf_adjustment_weight\": 1.0, \"is_null_level\": false, \"bayes_factor\": 0.02022818635962317, \"log2_bayes_factor\": -5.627489214775807, \"comparison_vector_value\": 0, \"max_comparison_vector_value\": 1, \"bayes_factor_description\": \"If comparison level is `all other comparisons` then comparison is  49.44 times less likely to be a match\", \"probability_two_random_records_match\": 8.71674365172514e-05, \"comparison_sort_order\": 1, \"iteration\": 1}, {\"comparison_name\": \"day_of_birth\", \"sql_condition\": \"`day_of_birth_l` = `day_of_birth_r`\", \"label_for_charts\": \"Exact match\", \"m_probability\": 0.9877722461265437, \"u_probability\": 0.03252879296232792, \"m_probability_description\": \"Amongst matching record comparisons, 98.78% of records are in the exact match comparison level\", \"u_probability_description\": \"Amongst non-matching record comparisons, 3.25% of records are in the exact match comparison level\", \"has_tf_adjustments\": false, \"tf_adjustment_column\": null, \"tf_adjustment_weight\": 1.0, \"is_null_level\": false, \"bayes_factor\": 30.366089736883183, \"log2_bayes_factor\": 4.924389238479668, \"comparison_vector_value\": 2, \"max_comparison_vector_value\": 2, \"bayes_factor_description\": \"If comparison level is `exact match` then comparison is 30.37 times more likely to be a match\", \"probability_two_random_records_match\": 8.71674365172514e-05, \"comparison_sort_order\": 2, \"iteration\": 1}, {\"comparison_name\": \"day_of_birth\", \"sql_condition\": \"abs(day_of_birth_l - day_of_birth_r) <= 5\", \"label_for_charts\": \"Inexact match\", \"m_probability\": 0.0071643407009673475, \"u_probability\": 0.29573920164687456, \"m_probability_description\": \"Amongst matching record comparisons, 0.72% of records are in the inexact match comparison level\", \"u_probability_description\": \"Amongst non-matching record comparisons, 29.57% of records are in the inexact match comparison level\", \"has_tf_adjustments\": false, \"tf_adjustment_column\": null, \"tf_adjustment_weight\": 1.0, \"is_null_level\": false, \"bayes_factor\": 0.024225197948298655, \"log2_bayes_factor\": -5.367347735574531, \"comparison_vector_value\": 1, \"max_comparison_vector_value\": 2, \"bayes_factor_description\": \"If comparison level is `inexact match` then comparison is  41.28 times less likely to be a match\", \"probability_two_random_records_match\": 8.71674365172514e-05, \"comparison_sort_order\": 2, \"iteration\": 1}, {\"comparison_name\": \"day_of_birth\", \"sql_condition\": \"ELSE\", \"label_for_charts\": \"All other comparisons\", \"m_probability\": 0.005063413172489014, \"u_probability\": 0.6717320053907976, \"m_probability_description\": \"Amongst matching record comparisons, 0.51% of records are in the all other comparisons comparison level\", \"u_probability_description\": \"Amongst non-matching record comparisons, 67.17% of records are in the all other comparisons comparison level\", \"has_tf_adjustments\": false, \"tf_adjustment_column\": null, \"tf_adjustment_weight\": 1.0, \"is_null_level\": false, \"bayes_factor\": 0.007537847135247399, \"log2_bayes_factor\": -7.051631746685115, \"comparison_vector_value\": 0, \"max_comparison_vector_value\": 2, \"bayes_factor_description\": \"If comparison level is `all other comparisons` then comparison is  132.66 times less likely to be a match\", \"probability_two_random_records_match\": 8.71674365172514e-05, \"comparison_sort_order\": 2, \"iteration\": 1}, {\"comparison_name\": \"month_of_birth\", \"sql_condition\": \"`month_of_birth_l` = `month_of_birth_r`\", \"label_for_charts\": \"Exact match\", \"m_probability\": 0.9894413211741984, \"u_probability\": 0.08350433151288077, \"m_probability_description\": \"Amongst matching record comparisons, 98.94% of records are in the exact match comparison level\", \"u_probability_description\": \"Amongst non-matching record comparisons, 8.35% of records are in the exact match comparison level\", \"has_tf_adjustments\": false, \"tf_adjustment_column\": null, \"tf_adjustment_weight\": 1.0, \"is_null_level\": false, \"bayes_factor\": 11.848982001868663, \"log2_bayes_factor\": 3.566691211062081, \"comparison_vector_value\": 2, \"max_comparison_vector_value\": 2, \"bayes_factor_description\": \"If comparison level is `exact match` then comparison is 11.85 times more likely to be a match\", \"probability_two_random_records_match\": 8.71674365172514e-05, \"comparison_sort_order\": 3, \"iteration\": 1}, {\"comparison_name\": \"month_of_birth\", \"sql_condition\": \"abs(month_of_birth_l - month_of_birth_r) <= 3\", \"label_for_charts\": \"Inexact match\", \"m_probability\": 0.005393646355869839, \"u_probability\": 0.4129544295915271, \"m_probability_description\": \"Amongst matching record comparisons, 0.54% of records are in the inexact match comparison level\", \"u_probability_description\": \"Amongst non-matching record comparisons, 41.30% of records are in the inexact match comparison level\", \"has_tf_adjustments\": false, \"tf_adjustment_column\": null, \"tf_adjustment_weight\": 1.0, \"is_null_level\": false, \"bayes_factor\": 0.013061117569812609, \"log2_bayes_factor\": -6.258577843928202, \"comparison_vector_value\": 1, \"max_comparison_vector_value\": 2, \"bayes_factor_description\": \"If comparison level is `inexact match` then comparison is  76.56 times less likely to be a match\", \"probability_two_random_records_match\": 8.71674365172514e-05, \"comparison_sort_order\": 3, \"iteration\": 1}, {\"comparison_name\": \"month_of_birth\", \"sql_condition\": \"ELSE\", \"label_for_charts\": \"All other comparisons\", \"m_probability\": 0.005165032469931836, \"u_probability\": 0.5035412388955921, \"m_probability_description\": \"Amongst matching record comparisons, 0.52% of records are in the all other comparisons comparison level\", \"u_probability_description\": \"Amongst non-matching record comparisons, 50.35% of records are in the all other comparisons comparison level\", \"has_tf_adjustments\": false, \"tf_adjustment_column\": null, \"tf_adjustment_weight\": 1.0, \"is_null_level\": false, \"bayes_factor\": 0.010257417011683508, \"log2_bayes_factor\": -6.607188707717514, \"comparison_vector_value\": 0, \"max_comparison_vector_value\": 2, \"bayes_factor_description\": \"If comparison level is `all other comparisons` then comparison is  97.49 times less likely to be a match\", \"probability_two_random_records_match\": 8.71674365172514e-05, \"comparison_sort_order\": 3, \"iteration\": 1}, {\"comparison_name\": \"year_of_birth\", \"sql_condition\": \"`year_of_birth_l` = `year_of_birth_r`\", \"label_for_charts\": \"Exact match\", \"m_probability\": 0.9904758042949291, \"u_probability\": 0.011084011593037122, \"m_probability_description\": \"Amongst matching record comparisons, 99.05% of records are in the exact match comparison level\", \"u_probability_description\": \"Amongst non-matching record comparisons, 1.11% of records are in the exact match comparison level\", \"has_tf_adjustments\": false, \"tf_adjustment_column\": null, \"tf_adjustment_weight\": 1.0, \"is_null_level\": false, \"bayes_factor\": 89.36076942730168, \"log2_bayes_factor\": 6.4815697028680965, \"comparison_vector_value\": 2, \"max_comparison_vector_value\": 2, \"bayes_factor_description\": \"If comparison level is `exact match` then comparison is 89.36 times more likely to be a match\", \"probability_two_random_records_match\": 8.71674365172514e-05, \"comparison_sort_order\": 4, \"iteration\": 1}, {\"comparison_name\": \"year_of_birth\", \"sql_condition\": \"abs(year_of_birth_l - year_of_birth_r) <= 5\", \"label_for_charts\": \"Inexact match\", \"m_probability\": 0.003390485519108698, \"u_probability\": 0.10937488974972305, \"m_probability_description\": \"Amongst matching record comparisons, 0.34% of records are in the inexact match comparison level\", \"u_probability_description\": \"Amongst non-matching record comparisons, 10.94% of records are in the inexact match comparison level\", \"has_tf_adjustments\": false, \"tf_adjustment_column\": null, \"tf_adjustment_weight\": 1.0, \"is_null_level\": false, \"bayes_factor\": 0.0309987559929612, \"log2_bayes_factor\": -5.01164586972028, \"comparison_vector_value\": 1, \"max_comparison_vector_value\": 2, \"bayes_factor_description\": \"If comparison level is `inexact match` then comparison is  32.26 times less likely to be a match\", \"probability_two_random_records_match\": 8.71674365172514e-05, \"comparison_sort_order\": 4, \"iteration\": 1}, {\"comparison_name\": \"year_of_birth\", \"sql_condition\": \"ELSE\", \"label_for_charts\": \"All other comparisons\", \"m_probability\": 0.0061337101859622765, \"u_probability\": 0.8795410986572398, \"m_probability_description\": \"Amongst matching record comparisons, 0.61% of records are in the all other comparisons comparison level\", \"u_probability_description\": \"Amongst non-matching record comparisons, 87.95% of records are in the all other comparisons comparison level\", \"has_tf_adjustments\": false, \"tf_adjustment_column\": null, \"tf_adjustment_weight\": 1.0, \"is_null_level\": false, \"bayes_factor\": 0.006973761880287761, \"log2_bayes_factor\": -7.163847180655431, \"comparison_vector_value\": 0, \"max_comparison_vector_value\": 2, \"bayes_factor_description\": \"If comparison level is `all other comparisons` then comparison is  143.39 times less likely to be a match\", \"probability_two_random_records_match\": 8.71674365172514e-05, \"comparison_sort_order\": 4, \"iteration\": 1}, {\"comparison_name\": \"geokey\", \"sql_condition\": \"`geokey_l` = `geokey_r`\", \"label_for_charts\": \"Exact match\", \"m_probability\": 0.6211725265592536, \"u_probability\": 0.0008192860645440116, \"m_probability_description\": \"Amongst matching record comparisons, 62.12% of records are in the exact match comparison level\", \"u_probability_description\": \"Amongst non-matching record comparisons, 0.08% of records are in the exact match comparison level\", \"has_tf_adjustments\": false, \"tf_adjustment_column\": null, \"tf_adjustment_weight\": 1.0, \"is_null_level\": false, \"bayes_factor\": 758.1875897095581, \"log2_bayes_factor\": 9.566411031918989, \"comparison_vector_value\": 2, \"max_comparison_vector_value\": 2, \"bayes_factor_description\": \"If comparison level is `exact match` then comparison is 758.19 times more likely to be a match\", \"probability_two_random_records_match\": 8.71674365172514e-05, \"comparison_sort_order\": 5, \"iteration\": 1}, {\"comparison_name\": \"geokey\", \"sql_condition\": \"jaro_winkler(`geokey_l`, `geokey_r`) >= 0.7222222222222222\", \"label_for_charts\": \"Jaro_winkler >= 0.7222222222222222\", \"m_probability\": 0.37156196709020006, \"u_probability\": 0.020822268769994993, \"m_probability_description\": \"Amongst matching record comparisons, 37.16% of records are in the jaro_winkler >= 0.7222222222222222 comparison level\", \"u_probability_description\": \"Amongst non-matching record comparisons, 2.08% of records are in the jaro_winkler >= 0.7222222222222222 comparison level\", \"has_tf_adjustments\": false, \"tf_adjustment_column\": null, \"tf_adjustment_weight\": 1.0, \"is_null_level\": false, \"bayes_factor\": 17.844451591443434, \"log2_bayes_factor\": 4.15740365901106, \"comparison_vector_value\": 1, \"max_comparison_vector_value\": 2, \"bayes_factor_description\": \"If comparison level is `jaro_winkler >= 0.7222222222222222` then comparison is 17.84 times more likely to be a match\", \"probability_two_random_records_match\": 8.71674365172514e-05, \"comparison_sort_order\": 5, \"iteration\": 1}, {\"comparison_name\": \"geokey\", \"sql_condition\": \"ELSE\", \"label_for_charts\": \"All other comparisons\", \"m_probability\": 0.007265506350546276, \"u_probability\": 0.978358445165461, \"m_probability_description\": \"Amongst matching record comparisons, 0.73% of records are in the all other comparisons comparison level\", \"u_probability_description\": \"Amongst non-matching record comparisons, 97.84% of records are in the all other comparisons comparison level\", \"has_tf_adjustments\": false, \"tf_adjustment_column\": null, \"tf_adjustment_weight\": 1.0, \"is_null_level\": false, \"bayes_factor\": 0.007426221326599297, \"log2_bayes_factor\": -7.0731559716201255, \"comparison_vector_value\": 0, \"max_comparison_vector_value\": 2, \"bayes_factor_description\": \"If comparison level is `all other comparisons` then comparison is  134.66 times less likely to be a match\", \"probability_two_random_records_match\": 8.71674365172514e-05, \"comparison_sort_order\": 5, \"iteration\": 1}, {\"comparison_name\": \"last_name_12\", \"sql_condition\": \"`last_name_12_l` = `last_name_12_r`\", \"label_for_charts\": \"Exact match\", \"m_probability\": 0.9501399599302432, \"u_probability\": 0.0006057226012092292, \"m_probability_description\": \"Amongst matching record comparisons, 95.01% of records are in the exact match comparison level\", \"u_probability_description\": \"Amongst non-matching record comparisons, 0.06% of records are in the exact match comparison level\", \"has_tf_adjustments\": false, \"tf_adjustment_column\": null, \"tf_adjustment_weight\": 1.0, \"is_null_level\": false, \"bayes_factor\": 1568.605757872398, \"log2_bayes_factor\": 10.615267085896175, \"comparison_vector_value\": 2, \"max_comparison_vector_value\": 2, \"bayes_factor_description\": \"If comparison level is `exact match` then comparison is 1,568.61 times more likely to be a match\", \"probability_two_random_records_match\": 8.71674365172514e-05, \"comparison_sort_order\": 0, \"iteration\": 2}, {\"comparison_name\": \"last_name_12\", \"sql_condition\": \"jaro_winkler(`last_name_12_l`, `last_name_12_r`) >= 0.8333333333333334\", \"label_for_charts\": \"Jaro_winkler >= 0.8333333333333334\", \"m_probability\": 0.03233105689656957, \"u_probability\": 0.0012859293840712192, \"m_probability_description\": \"Amongst matching record comparisons, 3.23% of records are in the jaro_winkler >= 0.8333333333333334 comparison level\", \"u_probability_description\": \"Amongst non-matching record comparisons, 0.13% of records are in the jaro_winkler >= 0.8333333333333334 comparison level\", \"has_tf_adjustments\": false, \"tf_adjustment_column\": null, \"tf_adjustment_weight\": 1.0, \"is_null_level\": false, \"bayes_factor\": 25.142171333086957, \"log2_bayes_factor\": 4.6520373443357155, \"comparison_vector_value\": 1, \"max_comparison_vector_value\": 2, \"bayes_factor_description\": \"If comparison level is `jaro_winkler >= 0.8333333333333334` then comparison is 25.14 times more likely to be a match\", \"probability_two_random_records_match\": 8.71674365172514e-05, \"comparison_sort_order\": 0, \"iteration\": 2}, {\"comparison_name\": \"last_name_12\", \"sql_condition\": \"ELSE\", \"label_for_charts\": \"All other comparisons\", \"m_probability\": 0.017528983173187185, \"u_probability\": 0.9981083480147196, \"m_probability_description\": \"Amongst matching record comparisons, 1.75% of records are in the all other comparisons comparison level\", \"u_probability_description\": \"Amongst non-matching record comparisons, 99.81% of records are in the all other comparisons comparison level\", \"has_tf_adjustments\": false, \"tf_adjustment_column\": null, \"tf_adjustment_weight\": 1.0, \"is_null_level\": false, \"bayes_factor\": 0.01756220475267348, \"log2_bayes_factor\": -5.831382218131367, \"comparison_vector_value\": 0, \"max_comparison_vector_value\": 2, \"bayes_factor_description\": \"If comparison level is `all other comparisons` then comparison is  56.94 times less likely to be a match\", \"probability_two_random_records_match\": 8.71674365172514e-05, \"comparison_sort_order\": 0, \"iteration\": 2}, {\"comparison_name\": \"middle_initial\", \"sql_condition\": \"`middle_initial_l` = `middle_initial_r`\", \"label_for_charts\": \"Exact match\", \"m_probability\": 0.9828703965661594, \"u_probability\": 0.06625810679844002, \"m_probability_description\": \"Amongst matching record comparisons, 98.29% of records are in the exact match comparison level\", \"u_probability_description\": \"Amongst non-matching record comparisons, 6.63% of records are in the exact match comparison level\", \"has_tf_adjustments\": false, \"tf_adjustment_column\": null, \"tf_adjustment_weight\": 1.0, \"is_null_level\": false, \"bayes_factor\": 14.83396438651791, \"log2_bayes_factor\": 3.890832305386898, \"comparison_vector_value\": 1, \"max_comparison_vector_value\": 1, \"bayes_factor_description\": \"If comparison level is `exact match` then comparison is 14.83 times more likely to be a match\", \"probability_two_random_records_match\": 8.71674365172514e-05, \"comparison_sort_order\": 1, \"iteration\": 2}, {\"comparison_name\": \"middle_initial\", \"sql_condition\": \"ELSE\", \"label_for_charts\": \"All other comparisons\", \"m_probability\": 0.01712960343384061, \"u_probability\": 0.93374189320156, \"m_probability_description\": \"Amongst matching record comparisons, 1.71% of records are in the all other comparisons comparison level\", \"u_probability_description\": \"Amongst non-matching record comparisons, 93.37% of records are in the all other comparisons comparison level\", \"has_tf_adjustments\": false, \"tf_adjustment_column\": null, \"tf_adjustment_weight\": 1.0, \"is_null_level\": false, \"bayes_factor\": 0.018345116095313686, \"log2_bayes_factor\": -5.768460155201714, \"comparison_vector_value\": 0, \"max_comparison_vector_value\": 1, \"bayes_factor_description\": \"If comparison level is `all other comparisons` then comparison is  54.51 times less likely to be a match\", \"probability_two_random_records_match\": 8.71674365172514e-05, \"comparison_sort_order\": 1, \"iteration\": 2}, {\"comparison_name\": \"day_of_birth\", \"sql_condition\": \"`day_of_birth_l` = `day_of_birth_r`\", \"label_for_charts\": \"Exact match\", \"m_probability\": 0.9913604932968911, \"u_probability\": 0.03252879296232792, \"m_probability_description\": \"Amongst matching record comparisons, 99.14% of records are in the exact match comparison level\", \"u_probability_description\": \"Amongst non-matching record comparisons, 3.25% of records are in the exact match comparison level\", \"has_tf_adjustments\": false, \"tf_adjustment_column\": null, \"tf_adjustment_weight\": 1.0, \"is_null_level\": false, \"bayes_factor\": 30.476399614489246, \"log2_bayes_factor\": 4.929620572353564, \"comparison_vector_value\": 2, \"max_comparison_vector_value\": 2, \"bayes_factor_description\": \"If comparison level is `exact match` then comparison is 30.48 times more likely to be a match\", \"probability_two_random_records_match\": 8.71674365172514e-05, \"comparison_sort_order\": 2, \"iteration\": 2}, {\"comparison_name\": \"day_of_birth\", \"sql_condition\": \"abs(day_of_birth_l - day_of_birth_r) <= 5\", \"label_for_charts\": \"Inexact match\", \"m_probability\": 0.0057379506138604906, \"u_probability\": 0.29573920164687456, \"m_probability_description\": \"Amongst matching record comparisons, 0.57% of records are in the inexact match comparison level\", \"u_probability_description\": \"Amongst non-matching record comparisons, 29.57% of records are in the inexact match comparison level\", \"has_tf_adjustments\": false, \"tf_adjustment_column\": null, \"tf_adjustment_weight\": 1.0, \"is_null_level\": false, \"bayes_factor\": 0.019402062972739925, \"log2_bayes_factor\": -5.687646131057803, \"comparison_vector_value\": 1, \"max_comparison_vector_value\": 2, \"bayes_factor_description\": \"If comparison level is `inexact match` then comparison is  51.54 times less likely to be a match\", \"probability_two_random_records_match\": 8.71674365172514e-05, \"comparison_sort_order\": 2, \"iteration\": 2}, {\"comparison_name\": \"day_of_birth\", \"sql_condition\": \"ELSE\", \"label_for_charts\": \"All other comparisons\", \"m_probability\": 0.0029015560892483093, \"u_probability\": 0.6717320053907976, \"m_probability_description\": \"Amongst matching record comparisons, 0.29% of records are in the all other comparisons comparison level\", \"u_probability_description\": \"Amongst non-matching record comparisons, 67.17% of records are in the all other comparisons comparison level\", \"has_tf_adjustments\": false, \"tf_adjustment_column\": null, \"tf_adjustment_weight\": 1.0, \"is_null_level\": false, \"bayes_factor\": 0.004319514428317664, \"log2_bayes_factor\": -7.854915141539834, \"comparison_vector_value\": 0, \"max_comparison_vector_value\": 2, \"bayes_factor_description\": \"If comparison level is `all other comparisons` then comparison is  231.51 times less likely to be a match\", \"probability_two_random_records_match\": 8.71674365172514e-05, \"comparison_sort_order\": 2, \"iteration\": 2}, {\"comparison_name\": \"month_of_birth\", \"sql_condition\": \"`month_of_birth_l` = `month_of_birth_r`\", \"label_for_charts\": \"Exact match\", \"m_probability\": 0.9925462721899289, \"u_probability\": 0.08350433151288077, \"m_probability_description\": \"Amongst matching record comparisons, 99.25% of records are in the exact match comparison level\", \"u_probability_description\": \"Amongst non-matching record comparisons, 8.35% of records are in the exact match comparison level\", \"has_tf_adjustments\": false, \"tf_adjustment_column\": null, \"tf_adjustment_weight\": 1.0, \"is_null_level\": false, \"bayes_factor\": 11.886165115121315, \"log2_bayes_factor\": 3.571211422098829, \"comparison_vector_value\": 2, \"max_comparison_vector_value\": 2, \"bayes_factor_description\": \"If comparison level is `exact match` then comparison is 11.89 times more likely to be a match\", \"probability_two_random_records_match\": 8.71674365172514e-05, \"comparison_sort_order\": 3, \"iteration\": 2}, {\"comparison_name\": \"month_of_birth\", \"sql_condition\": \"abs(month_of_birth_l - month_of_birth_r) <= 3\", \"label_for_charts\": \"Inexact match\", \"m_probability\": 0.00398882281852069, \"u_probability\": 0.4129544295915271, \"m_probability_description\": \"Amongst matching record comparisons, 0.40% of records are in the inexact match comparison level\", \"u_probability_description\": \"Amongst non-matching record comparisons, 41.30% of records are in the inexact match comparison level\", \"has_tf_adjustments\": false, \"tf_adjustment_column\": null, \"tf_adjustment_weight\": 1.0, \"is_null_level\": false, \"bayes_factor\": 0.009659232430237459, \"log2_bayes_factor\": -6.693875734636987, \"comparison_vector_value\": 1, \"max_comparison_vector_value\": 2, \"bayes_factor_description\": \"If comparison level is `inexact match` then comparison is  103.53 times less likely to be a match\", \"probability_two_random_records_match\": 8.71674365172514e-05, \"comparison_sort_order\": 3, \"iteration\": 2}, {\"comparison_name\": \"month_of_birth\", \"sql_condition\": \"ELSE\", \"label_for_charts\": \"All other comparisons\", \"m_probability\": 0.0034649049915505504, \"u_probability\": 0.5035412388955921, \"m_probability_description\": \"Amongst matching record comparisons, 0.35% of records are in the all other comparisons comparison level\", \"u_probability_description\": \"Amongst non-matching record comparisons, 50.35% of records are in the all other comparisons comparison level\", \"has_tf_adjustments\": false, \"tf_adjustment_column\": null, \"tf_adjustment_weight\": 1.0, \"is_null_level\": false, \"bayes_factor\": 0.00688107492278103, \"log2_bayes_factor\": -7.183150332433593, \"comparison_vector_value\": 0, \"max_comparison_vector_value\": 2, \"bayes_factor_description\": \"If comparison level is `all other comparisons` then comparison is  145.33 times less likely to be a match\", \"probability_two_random_records_match\": 8.71674365172514e-05, \"comparison_sort_order\": 3, \"iteration\": 2}, {\"comparison_name\": \"year_of_birth\", \"sql_condition\": \"`year_of_birth_l` = `year_of_birth_r`\", \"label_for_charts\": \"Exact match\", \"m_probability\": 0.9937932576877136, \"u_probability\": 0.011084011593037122, \"m_probability_description\": \"Amongst matching record comparisons, 99.38% of records are in the exact match comparison level\", \"u_probability_description\": \"Amongst non-matching record comparisons, 1.11% of records are in the exact match comparison level\", \"has_tf_adjustments\": false, \"tf_adjustment_column\": null, \"tf_adjustment_weight\": 1.0, \"is_null_level\": false, \"bayes_factor\": 89.66007021429009, \"log2_bayes_factor\": 6.486393724074853, \"comparison_vector_value\": 2, \"max_comparison_vector_value\": 2, \"bayes_factor_description\": \"If comparison level is `exact match` then comparison is 89.66 times more likely to be a match\", \"probability_two_random_records_match\": 8.71674365172514e-05, \"comparison_sort_order\": 4, \"iteration\": 2}, {\"comparison_name\": \"year_of_birth\", \"sql_condition\": \"abs(year_of_birth_l - year_of_birth_r) <= 5\", \"label_for_charts\": \"Inexact match\", \"m_probability\": 0.002012818727178288, \"u_probability\": 0.10937488974972305, \"m_probability_description\": \"Amongst matching record comparisons, 0.20% of records are in the inexact match comparison level\", \"u_probability_description\": \"Amongst non-matching record comparisons, 10.94% of records are in the inexact match comparison level\", \"has_tf_adjustments\": false, \"tf_adjustment_column\": null, \"tf_adjustment_weight\": 1.0, \"is_null_level\": false, \"bayes_factor\": 0.01840293262726132, \"log2_bayes_factor\": -5.7639205023142255, \"comparison_vector_value\": 1, \"max_comparison_vector_value\": 2, \"bayes_factor_description\": \"If comparison level is `inexact match` then comparison is  54.34 times less likely to be a match\", \"probability_two_random_records_match\": 8.71674365172514e-05, \"comparison_sort_order\": 4, \"iteration\": 2}, {\"comparison_name\": \"year_of_birth\", \"sql_condition\": \"ELSE\", \"label_for_charts\": \"All other comparisons\", \"m_probability\": 0.0041939235851080284, \"u_probability\": 0.8795410986572398, \"m_probability_description\": \"Amongst matching record comparisons, 0.42% of records are in the all other comparisons comparison level\", \"u_probability_description\": \"Amongst non-matching record comparisons, 87.95% of records are in the all other comparisons comparison level\", \"has_tf_adjustments\": false, \"tf_adjustment_column\": null, \"tf_adjustment_weight\": 1.0, \"is_null_level\": false, \"bayes_factor\": 0.004768308827763391, \"log2_bayes_factor\": -7.71230660719796, \"comparison_vector_value\": 0, \"max_comparison_vector_value\": 2, \"bayes_factor_description\": \"If comparison level is `all other comparisons` then comparison is  209.72 times less likely to be a match\", \"probability_two_random_records_match\": 8.71674365172514e-05, \"comparison_sort_order\": 4, \"iteration\": 2}, {\"comparison_name\": \"geokey\", \"sql_condition\": \"`geokey_l` = `geokey_r`\", \"label_for_charts\": \"Exact match\", \"m_probability\": 0.6117428037452278, \"u_probability\": 0.0008192860645440116, \"m_probability_description\": \"Amongst matching record comparisons, 61.17% of records are in the exact match comparison level\", \"u_probability_description\": \"Amongst non-matching record comparisons, 0.08% of records are in the exact match comparison level\", \"has_tf_adjustments\": false, \"tf_adjustment_column\": null, \"tf_adjustment_weight\": 1.0, \"is_null_level\": false, \"bayes_factor\": 746.6779068013371, \"log2_bayes_factor\": 9.5443422340334, \"comparison_vector_value\": 2, \"max_comparison_vector_value\": 2, \"bayes_factor_description\": \"If comparison level is `exact match` then comparison is 746.68 times more likely to be a match\", \"probability_two_random_records_match\": 8.71674365172514e-05, \"comparison_sort_order\": 5, \"iteration\": 2}, {\"comparison_name\": \"geokey\", \"sql_condition\": \"jaro_winkler(`geokey_l`, `geokey_r`) >= 0.7222222222222222\", \"label_for_charts\": \"Jaro_winkler >= 0.7222222222222222\", \"m_probability\": 0.38122005585846197, \"u_probability\": 0.020822268769994993, \"m_probability_description\": \"Amongst matching record comparisons, 38.12% of records are in the jaro_winkler >= 0.7222222222222222 comparison level\", \"u_probability_description\": \"Amongst non-matching record comparisons, 2.08% of records are in the jaro_winkler >= 0.7222222222222222 comparison level\", \"has_tf_adjustments\": false, \"tf_adjustment_column\": null, \"tf_adjustment_weight\": 1.0, \"is_null_level\": false, \"bayes_factor\": 18.308286194432483, \"log2_bayes_factor\": 4.194424844268775, \"comparison_vector_value\": 1, \"max_comparison_vector_value\": 2, \"bayes_factor_description\": \"If comparison level is `jaro_winkler >= 0.7222222222222222` then comparison is 18.31 times more likely to be a match\", \"probability_two_random_records_match\": 8.71674365172514e-05, \"comparison_sort_order\": 5, \"iteration\": 2}, {\"comparison_name\": \"geokey\", \"sql_condition\": \"ELSE\", \"label_for_charts\": \"All other comparisons\", \"m_probability\": 0.0070371403963101365, \"u_probability\": 0.978358445165461, \"m_probability_description\": \"Amongst matching record comparisons, 0.70% of records are in the all other comparisons comparison level\", \"u_probability_description\": \"Amongst non-matching record comparisons, 97.84% of records are in the all other comparisons comparison level\", \"has_tf_adjustments\": false, \"tf_adjustment_column\": null, \"tf_adjustment_weight\": 1.0, \"is_null_level\": false, \"bayes_factor\": 0.007192803855359993, \"log2_bayes_factor\": -7.1192300216886215, \"comparison_vector_value\": 0, \"max_comparison_vector_value\": 2, \"bayes_factor_description\": \"If comparison level is `all other comparisons` then comparison is  139.03 times less likely to be a match\", \"probability_two_random_records_match\": 8.71674365172514e-05, \"comparison_sort_order\": 5, \"iteration\": 2}, {\"comparison_name\": \"last_name_12\", \"sql_condition\": \"`last_name_12_l` = `last_name_12_r`\", \"label_for_charts\": \"Exact match\", \"m_probability\": 0.950186877806301, \"u_probability\": 0.0006057226012092292, \"m_probability_description\": \"Amongst matching record comparisons, 95.02% of records are in the exact match comparison level\", \"u_probability_description\": \"Amongst non-matching record comparisons, 0.06% of records are in the exact match comparison level\", \"has_tf_adjustments\": false, \"tf_adjustment_column\": null, \"tf_adjustment_weight\": 1.0, \"is_null_level\": false, \"bayes_factor\": 1568.6832155666693, \"log2_bayes_factor\": 10.61533832436504, \"comparison_vector_value\": 2, \"max_comparison_vector_value\": 2, \"bayes_factor_description\": \"If comparison level is `exact match` then comparison is 1,568.68 times more likely to be a match\", \"probability_two_random_records_match\": 8.71674365172514e-05, \"comparison_sort_order\": 0, \"iteration\": 3}, {\"comparison_name\": \"last_name_12\", \"sql_condition\": \"jaro_winkler(`last_name_12_l`, `last_name_12_r`) >= 0.8333333333333334\", \"label_for_charts\": \"Jaro_winkler >= 0.8333333333333334\", \"m_probability\": 0.03243560780750483, \"u_probability\": 0.0012859293840712192, \"m_probability_description\": \"Amongst matching record comparisons, 3.24% of records are in the jaro_winkler >= 0.8333333333333334 comparison level\", \"u_probability_description\": \"Amongst non-matching record comparisons, 0.13% of records are in the jaro_winkler >= 0.8333333333333334 comparison level\", \"has_tf_adjustments\": false, \"tf_adjustment_column\": null, \"tf_adjustment_weight\": 1.0, \"is_null_level\": false, \"bayes_factor\": 25.223475106241477, \"log2_bayes_factor\": 4.656695148236377, \"comparison_vector_value\": 1, \"max_comparison_vector_value\": 2, \"bayes_factor_description\": \"If comparison level is `jaro_winkler >= 0.8333333333333334` then comparison is 25.22 times more likely to be a match\", \"probability_two_random_records_match\": 8.71674365172514e-05, \"comparison_sort_order\": 0, \"iteration\": 3}, {\"comparison_name\": \"last_name_12\", \"sql_condition\": \"ELSE\", \"label_for_charts\": \"All other comparisons\", \"m_probability\": 0.017377514386194205, \"u_probability\": 0.9981083480147196, \"m_probability_description\": \"Amongst matching record comparisons, 1.74% of records are in the all other comparisons comparison level\", \"u_probability_description\": \"Amongst non-matching record comparisons, 99.81% of records are in the all other comparisons comparison level\", \"has_tf_adjustments\": false, \"tf_adjustment_column\": null, \"tf_adjustment_weight\": 1.0, \"is_null_level\": false, \"bayes_factor\": 0.01741044889641373, \"log2_bayes_factor\": -5.843902789067099, \"comparison_vector_value\": 0, \"max_comparison_vector_value\": 2, \"bayes_factor_description\": \"If comparison level is `all other comparisons` then comparison is  57.44 times less likely to be a match\", \"probability_two_random_records_match\": 8.71674365172514e-05, \"comparison_sort_order\": 0, \"iteration\": 3}, {\"comparison_name\": \"middle_initial\", \"sql_condition\": \"`middle_initial_l` = `middle_initial_r`\", \"label_for_charts\": \"Exact match\", \"m_probability\": 0.9830050378194325, \"u_probability\": 0.06625810679844002, \"m_probability_description\": \"Amongst matching record comparisons, 98.30% of records are in the exact match comparison level\", \"u_probability_description\": \"Amongst non-matching record comparisons, 6.63% of records are in the exact match comparison level\", \"has_tf_adjustments\": false, \"tf_adjustment_column\": null, \"tf_adjustment_weight\": 1.0, \"is_null_level\": false, \"bayes_factor\": 14.835996458663928, \"log2_bayes_factor\": 3.891029923471241, \"comparison_vector_value\": 1, \"max_comparison_vector_value\": 1, \"bayes_factor_description\": \"If comparison level is `exact match` then comparison is 14.84 times more likely to be a match\", \"probability_two_random_records_match\": 8.71674365172514e-05, \"comparison_sort_order\": 1, \"iteration\": 3}, {\"comparison_name\": \"middle_initial\", \"sql_condition\": \"ELSE\", \"label_for_charts\": \"All other comparisons\", \"m_probability\": 0.016994962180567574, \"u_probability\": 0.93374189320156, \"m_probability_description\": \"Amongst matching record comparisons, 1.70% of records are in the all other comparisons comparison level\", \"u_probability_description\": \"Amongst non-matching record comparisons, 93.37% of records are in the all other comparisons comparison level\", \"has_tf_adjustments\": false, \"tf_adjustment_column\": null, \"tf_adjustment_weight\": 1.0, \"is_null_level\": false, \"bayes_factor\": 0.018200920730134785, \"log2_bayes_factor\": -5.779844755878187, \"comparison_vector_value\": 0, \"max_comparison_vector_value\": 1, \"bayes_factor_description\": \"If comparison level is `all other comparisons` then comparison is  54.94 times less likely to be a match\", \"probability_two_random_records_match\": 8.71674365172514e-05, \"comparison_sort_order\": 1, \"iteration\": 3}, {\"comparison_name\": \"day_of_birth\", \"sql_condition\": \"`day_of_birth_l` = `day_of_birth_r`\", \"label_for_charts\": \"Exact match\", \"m_probability\": 0.9922264912681196, \"u_probability\": 0.03252879296232792, \"m_probability_description\": \"Amongst matching record comparisons, 99.22% of records are in the exact match comparison level\", \"u_probability_description\": \"Amongst non-matching record comparisons, 3.25% of records are in the exact match comparison level\", \"has_tf_adjustments\": false, \"tf_adjustment_column\": null, \"tf_adjustment_weight\": 1.0, \"is_null_level\": false, \"bayes_factor\": 30.50302212004091, \"log2_bayes_factor\": 4.930880281222005, \"comparison_vector_value\": 2, \"max_comparison_vector_value\": 2, \"bayes_factor_description\": \"If comparison level is `exact match` then comparison is 30.50 times more likely to be a match\", \"probability_two_random_records_match\": 8.71674365172514e-05, \"comparison_sort_order\": 2, \"iteration\": 3}, {\"comparison_name\": \"day_of_birth\", \"sql_condition\": \"abs(day_of_birth_l - day_of_birth_r) <= 5\", \"label_for_charts\": \"Inexact match\", \"m_probability\": 0.005349297906309803, \"u_probability\": 0.29573920164687456, \"m_probability_description\": \"Amongst matching record comparisons, 0.53% of records are in the inexact match comparison level\", \"u_probability_description\": \"Amongst non-matching record comparisons, 29.57% of records are in the inexact match comparison level\", \"has_tf_adjustments\": false, \"tf_adjustment_column\": null, \"tf_adjustment_weight\": 1.0, \"is_null_level\": false, \"bayes_factor\": 0.018087889182500386, \"log2_bayes_factor\": -5.788832131379969, \"comparison_vector_value\": 1, \"max_comparison_vector_value\": 2, \"bayes_factor_description\": \"If comparison level is `inexact match` then comparison is  55.29 times less likely to be a match\", \"probability_two_random_records_match\": 8.71674365172514e-05, \"comparison_sort_order\": 2, \"iteration\": 3}, {\"comparison_name\": \"day_of_birth\", \"sql_condition\": \"ELSE\", \"label_for_charts\": \"All other comparisons\", \"m_probability\": 0.0024242108255705984, \"u_probability\": 0.6717320053907976, \"m_probability_description\": \"Amongst matching record comparisons, 0.24% of records are in the all other comparisons comparison level\", \"u_probability_description\": \"Amongst non-matching record comparisons, 67.17% of records are in the all other comparisons comparison level\", \"has_tf_adjustments\": false, \"tf_adjustment_column\": null, \"tf_adjustment_weight\": 1.0, \"is_null_level\": false, \"bayes_factor\": 0.003608895818742849, \"log2_bayes_factor\": -8.1142267884074, \"comparison_vector_value\": 0, \"max_comparison_vector_value\": 2, \"bayes_factor_description\": \"If comparison level is `all other comparisons` then comparison is  277.09 times less likely to be a match\", \"probability_two_random_records_match\": 8.71674365172514e-05, \"comparison_sort_order\": 2, \"iteration\": 3}, {\"comparison_name\": \"month_of_birth\", \"sql_condition\": \"`month_of_birth_l` = `month_of_birth_r`\", \"label_for_charts\": \"Exact match\", \"m_probability\": 0.9932459562907444, \"u_probability\": 0.08350433151288077, \"m_probability_description\": \"Amongst matching record comparisons, 99.32% of records are in the exact match comparison level\", \"u_probability_description\": \"Amongst non-matching record comparisons, 8.35% of records are in the exact match comparison level\", \"has_tf_adjustments\": false, \"tf_adjustment_column\": null, \"tf_adjustment_weight\": 1.0, \"is_null_level\": false, \"bayes_factor\": 11.894544130774026, \"log2_bayes_factor\": 3.572228075109885, \"comparison_vector_value\": 2, \"max_comparison_vector_value\": 2, \"bayes_factor_description\": \"If comparison level is `exact match` then comparison is 11.89 times more likely to be a match\", \"probability_two_random_records_match\": 8.71674365172514e-05, \"comparison_sort_order\": 3, \"iteration\": 3}, {\"comparison_name\": \"month_of_birth\", \"sql_condition\": \"abs(month_of_birth_l - month_of_birth_r) <= 3\", \"label_for_charts\": \"Inexact match\", \"m_probability\": 0.003725979283113371, \"u_probability\": 0.4129544295915271, \"m_probability_description\": \"Amongst matching record comparisons, 0.37% of records are in the inexact match comparison level\", \"u_probability_description\": \"Amongst non-matching record comparisons, 41.30% of records are in the inexact match comparison level\", \"has_tf_adjustments\": false, \"tf_adjustment_column\": null, \"tf_adjustment_weight\": 1.0, \"is_null_level\": false, \"bayes_factor\": 0.00902273717416935, \"log2_bayes_factor\": -6.79221912295956, \"comparison_vector_value\": 1, \"max_comparison_vector_value\": 2, \"bayes_factor_description\": \"If comparison level is `inexact match` then comparison is  110.83 times less likely to be a match\", \"probability_two_random_records_match\": 8.71674365172514e-05, \"comparison_sort_order\": 3, \"iteration\": 3}, {\"comparison_name\": \"month_of_birth\", \"sql_condition\": \"ELSE\", \"label_for_charts\": \"All other comparisons\", \"m_probability\": 0.0030280644261421793, \"u_probability\": 0.5035412388955921, \"m_probability_description\": \"Amongst matching record comparisons, 0.30% of records are in the all other comparisons comparison level\", \"u_probability_description\": \"Amongst non-matching record comparisons, 50.35% of records are in the all other comparisons comparison level\", \"has_tf_adjustments\": false, \"tf_adjustment_column\": null, \"tf_adjustment_weight\": 1.0, \"is_null_level\": false, \"bayes_factor\": 0.006013538102228882, \"log2_bayes_factor\": -7.377570225399198, \"comparison_vector_value\": 0, \"max_comparison_vector_value\": 2, \"bayes_factor_description\": \"If comparison level is `all other comparisons` then comparison is  166.29 times less likely to be a match\", \"probability_two_random_records_match\": 8.71674365172514e-05, \"comparison_sort_order\": 3, \"iteration\": 3}, {\"comparison_name\": \"year_of_birth\", \"sql_condition\": \"`year_of_birth_l` = `year_of_birth_r`\", \"label_for_charts\": \"Exact match\", \"m_probability\": 0.9942017012358815, \"u_probability\": 0.011084011593037122, \"m_probability_description\": \"Amongst matching record comparisons, 99.42% of records are in the exact match comparison level\", \"u_probability_description\": \"Amongst non-matching record comparisons, 1.11% of records are in the exact match comparison level\", \"has_tf_adjustments\": false, \"tf_adjustment_column\": null, \"tf_adjustment_weight\": 1.0, \"is_null_level\": false, \"bayes_factor\": 89.69692000867539, \"log2_bayes_factor\": 6.486986541966137, \"comparison_vector_value\": 2, \"max_comparison_vector_value\": 2, \"bayes_factor_description\": \"If comparison level is `exact match` then comparison is 89.70 times more likely to be a match\", \"probability_two_random_records_match\": 8.71674365172514e-05, \"comparison_sort_order\": 4, \"iteration\": 3}, {\"comparison_name\": \"year_of_birth\", \"sql_condition\": \"abs(year_of_birth_l - year_of_birth_r) <= 5\", \"label_for_charts\": \"Inexact match\", \"m_probability\": 0.0018966095432139116, \"u_probability\": 0.10937488974972305, \"m_probability_description\": \"Amongst matching record comparisons, 0.19% of records are in the inexact match comparison level\", \"u_probability_description\": \"Amongst non-matching record comparisons, 10.94% of records are in the inexact match comparison level\", \"has_tf_adjustments\": false, \"tf_adjustment_column\": null, \"tf_adjustment_weight\": 1.0, \"is_null_level\": false, \"bayes_factor\": 0.01734044758859941, \"log2_bayes_factor\": -5.849715052142377, \"comparison_vector_value\": 1, \"max_comparison_vector_value\": 2, \"bayes_factor_description\": \"If comparison level is `inexact match` then comparison is  57.67 times less likely to be a match\", \"probability_two_random_records_match\": 8.71674365172514e-05, \"comparison_sort_order\": 4, \"iteration\": 3}, {\"comparison_name\": \"year_of_birth\", \"sql_condition\": \"ELSE\", \"label_for_charts\": \"All other comparisons\", \"m_probability\": 0.0039016892209045597, \"u_probability\": 0.8795410986572398, \"m_probability_description\": \"Amongst matching record comparisons, 0.39% of records are in the all other comparisons comparison level\", \"u_probability_description\": \"Amongst non-matching record comparisons, 87.95% of records are in the all other comparisons comparison level\", \"has_tf_adjustments\": false, \"tf_adjustment_column\": null, \"tf_adjustment_weight\": 1.0, \"is_null_level\": false, \"bayes_factor\": 0.004436051057603917, \"log2_bayes_factor\": -7.816508314084, \"comparison_vector_value\": 0, \"max_comparison_vector_value\": 2, \"bayes_factor_description\": \"If comparison level is `all other comparisons` then comparison is  225.43 times less likely to be a match\", \"probability_two_random_records_match\": 8.71674365172514e-05, \"comparison_sort_order\": 4, \"iteration\": 3}, {\"comparison_name\": \"geokey\", \"sql_condition\": \"`geokey_l` = `geokey_r`\", \"label_for_charts\": \"Exact match\", \"m_probability\": 0.6116449262009331, \"u_probability\": 0.0008192860645440116, \"m_probability_description\": \"Amongst matching record comparisons, 61.16% of records are in the exact match comparison level\", \"u_probability_description\": \"Amongst non-matching record comparisons, 0.08% of records are in the exact match comparison level\", \"has_tf_adjustments\": false, \"tf_adjustment_column\": null, \"tf_adjustment_weight\": 1.0, \"is_null_level\": false, \"bayes_factor\": 746.5584399282503, \"log2_bayes_factor\": 9.54411138743487, \"comparison_vector_value\": 2, \"max_comparison_vector_value\": 2, \"bayes_factor_description\": \"If comparison level is `exact match` then comparison is 746.56 times more likely to be a match\", \"probability_two_random_records_match\": 8.71674365172514e-05, \"comparison_sort_order\": 5, \"iteration\": 3}, {\"comparison_name\": \"geokey\", \"sql_condition\": \"jaro_winkler(`geokey_l`, `geokey_r`) >= 0.7222222222222222\", \"label_for_charts\": \"Jaro_winkler >= 0.7222222222222222\", \"m_probability\": 0.38131834513171303, \"u_probability\": 0.020822268769994993, \"m_probability_description\": \"Amongst matching record comparisons, 38.13% of records are in the jaro_winkler >= 0.7222222222222222 comparison level\", \"u_probability_description\": \"Amongst non-matching record comparisons, 2.08% of records are in the jaro_winkler >= 0.7222222222222222 comparison level\", \"has_tf_adjustments\": false, \"tf_adjustment_column\": null, \"tf_adjustment_weight\": 1.0, \"is_null_level\": false, \"bayes_factor\": 18.313006586544255, \"log2_bayes_factor\": 4.194796763762123, \"comparison_vector_value\": 1, \"max_comparison_vector_value\": 2, \"bayes_factor_description\": \"If comparison level is `jaro_winkler >= 0.7222222222222222` then comparison is 18.31 times more likely to be a match\", \"probability_two_random_records_match\": 8.71674365172514e-05, \"comparison_sort_order\": 5, \"iteration\": 3}, {\"comparison_name\": \"geokey\", \"sql_condition\": \"ELSE\", \"label_for_charts\": \"All other comparisons\", \"m_probability\": 0.007036728667353909, \"u_probability\": 0.978358445165461, \"m_probability_description\": \"Amongst matching record comparisons, 0.70% of records are in the all other comparisons comparison level\", \"u_probability_description\": \"Amongst non-matching record comparisons, 97.84% of records are in the all other comparisons comparison level\", \"has_tf_adjustments\": false, \"tf_adjustment_column\": null, \"tf_adjustment_weight\": 1.0, \"is_null_level\": false, \"bayes_factor\": 0.0071923830188473, \"log2_bayes_factor\": -7.119314433348389, \"comparison_vector_value\": 0, \"max_comparison_vector_value\": 2, \"bayes_factor_description\": \"If comparison level is `all other comparisons` then comparison is  139.04 times less likely to be a match\", \"probability_two_random_records_match\": 8.71674365172514e-05, \"comparison_sort_order\": 5, \"iteration\": 3}, {\"comparison_name\": \"last_name_12\", \"sql_condition\": \"`last_name_12_l` = `last_name_12_r`\", \"label_for_charts\": \"Exact match\", \"m_probability\": 0.9502055080643345, \"u_probability\": 0.0006057226012092292, \"m_probability_description\": \"Amongst matching record comparisons, 95.02% of records are in the exact match comparison level\", \"u_probability_description\": \"Amongst non-matching record comparisons, 0.06% of records are in the exact match comparison level\", \"has_tf_adjustments\": false, \"tf_adjustment_column\": null, \"tf_adjustment_weight\": 1.0, \"is_null_level\": false, \"bayes_factor\": 1568.713972645894, \"log2_bayes_factor\": 10.615366610924253, \"comparison_vector_value\": 2, \"max_comparison_vector_value\": 2, \"bayes_factor_description\": \"If comparison level is `exact match` then comparison is 1,568.71 times more likely to be a match\", \"probability_two_random_records_match\": 8.71674365172514e-05, \"comparison_sort_order\": 0, \"iteration\": 4}, {\"comparison_name\": \"last_name_12\", \"sql_condition\": \"jaro_winkler(`last_name_12_l`, `last_name_12_r`) >= 0.8333333333333334\", \"label_for_charts\": \"Jaro_winkler >= 0.8333333333333334\", \"m_probability\": 0.032447393527985424, \"u_probability\": 0.0012859293840712192, \"m_probability_description\": \"Amongst matching record comparisons, 3.24% of records are in the jaro_winkler >= 0.8333333333333334 comparison level\", \"u_probability_description\": \"Amongst non-matching record comparisons, 0.13% of records are in the jaro_winkler >= 0.8333333333333334 comparison level\", \"has_tf_adjustments\": false, \"tf_adjustment_column\": null, \"tf_adjustment_weight\": 1.0, \"is_null_level\": false, \"bayes_factor\": 25.23264024441048, \"log2_bayes_factor\": 4.657219267044931, \"comparison_vector_value\": 1, \"max_comparison_vector_value\": 2, \"bayes_factor_description\": \"If comparison level is `jaro_winkler >= 0.8333333333333334` then comparison is 25.23 times more likely to be a match\", \"probability_two_random_records_match\": 8.71674365172514e-05, \"comparison_sort_order\": 0, \"iteration\": 4}, {\"comparison_name\": \"last_name_12\", \"sql_condition\": \"ELSE\", \"label_for_charts\": \"All other comparisons\", \"m_probability\": 0.017347098407680124, \"u_probability\": 0.9981083480147196, \"m_probability_description\": \"Amongst matching record comparisons, 1.73% of records are in the all other comparisons comparison level\", \"u_probability_description\": \"Amongst non-matching record comparisons, 99.81% of records are in the all other comparisons comparison level\", \"has_tf_adjustments\": false, \"tf_adjustment_column\": null, \"tf_adjustment_weight\": 1.0, \"is_null_level\": false, \"bayes_factor\": 0.0173799752724083, \"log2_bayes_factor\": -5.846430160234569, \"comparison_vector_value\": 0, \"max_comparison_vector_value\": 2, \"bayes_factor_description\": \"If comparison level is `all other comparisons` then comparison is  57.54 times less likely to be a match\", \"probability_two_random_records_match\": 8.71674365172514e-05, \"comparison_sort_order\": 0, \"iteration\": 4}, {\"comparison_name\": \"middle_initial\", \"sql_condition\": \"`middle_initial_l` = `middle_initial_r`\", \"label_for_charts\": \"Exact match\", \"m_probability\": 0.9830190496225366, \"u_probability\": 0.06625810679844002, \"m_probability_description\": \"Amongst matching record comparisons, 98.30% of records are in the exact match comparison level\", \"u_probability_description\": \"Amongst non-matching record comparisons, 6.63% of records are in the exact match comparison level\", \"has_tf_adjustments\": false, \"tf_adjustment_column\": null, \"tf_adjustment_weight\": 1.0, \"is_null_level\": false, \"bayes_factor\": 14.836207931701436, \"log2_bayes_factor\": 3.8910504875721403, \"comparison_vector_value\": 1, \"max_comparison_vector_value\": 1, \"bayes_factor_description\": \"If comparison level is `exact match` then comparison is 14.84 times more likely to be a match\", \"probability_two_random_records_match\": 8.71674365172514e-05, \"comparison_sort_order\": 1, \"iteration\": 4}, {\"comparison_name\": \"middle_initial\", \"sql_condition\": \"ELSE\", \"label_for_charts\": \"All other comparisons\", \"m_probability\": 0.016980950377463482, \"u_probability\": 0.93374189320156, \"m_probability_description\": \"Amongst matching record comparisons, 1.70% of records are in the all other comparisons comparison level\", \"u_probability_description\": \"Amongst non-matching record comparisons, 93.37% of records are in the all other comparisons comparison level\", \"has_tf_adjustments\": false, \"tf_adjustment_column\": null, \"tf_adjustment_weight\": 1.0, \"is_null_level\": false, \"bayes_factor\": 0.018185914652752898, \"log2_bayes_factor\": -5.781034702430097, \"comparison_vector_value\": 0, \"max_comparison_vector_value\": 1, \"bayes_factor_description\": \"If comparison level is `all other comparisons` then comparison is  54.99 times less likely to be a match\", \"probability_two_random_records_match\": 8.71674365172514e-05, \"comparison_sort_order\": 1, \"iteration\": 4}, {\"comparison_name\": \"day_of_birth\", \"sql_condition\": \"`day_of_birth_l` = `day_of_birth_r`\", \"label_for_charts\": \"Exact match\", \"m_probability\": 0.9924806797860571, \"u_probability\": 0.03252879296232792, \"m_probability_description\": \"Amongst matching record comparisons, 99.25% of records are in the exact match comparison level\", \"u_probability_description\": \"Amongst non-matching record comparisons, 3.25% of records are in the exact match comparison level\", \"has_tf_adjustments\": false, \"tf_adjustment_column\": null, \"tf_adjustment_weight\": 1.0, \"is_null_level\": false, \"bayes_factor\": 30.510836382261825, \"log2_bayes_factor\": 4.931249823411031, \"comparison_vector_value\": 2, \"max_comparison_vector_value\": 2, \"bayes_factor_description\": \"If comparison level is `exact match` then comparison is 30.51 times more likely to be a match\", \"probability_two_random_records_match\": 8.71674365172514e-05, \"comparison_sort_order\": 2, \"iteration\": 4}, {\"comparison_name\": \"day_of_birth\", \"sql_condition\": \"abs(day_of_birth_l - day_of_birth_r) <= 5\", \"label_for_charts\": \"Inexact match\", \"m_probability\": 0.005239673120413665, \"u_probability\": 0.29573920164687456, \"m_probability_description\": \"Amongst matching record comparisons, 0.52% of records are in the inexact match comparison level\", \"u_probability_description\": \"Amongst non-matching record comparisons, 29.57% of records are in the inexact match comparison level\", \"has_tf_adjustments\": false, \"tf_adjustment_column\": null, \"tf_adjustment_weight\": 1.0, \"is_null_level\": false, \"bayes_factor\": 0.017717208578489577, \"log2_bayes_factor\": -5.818704870712625, \"comparison_vector_value\": 1, \"max_comparison_vector_value\": 2, \"bayes_factor_description\": \"If comparison level is `inexact match` then comparison is  56.44 times less likely to be a match\", \"probability_two_random_records_match\": 8.71674365172514e-05, \"comparison_sort_order\": 2, \"iteration\": 4}, {\"comparison_name\": \"day_of_birth\", \"sql_condition\": \"ELSE\", \"label_for_charts\": \"All other comparisons\", \"m_probability\": 0.0022796470935292127, \"u_probability\": 0.6717320053907976, \"m_probability_description\": \"Amongst matching record comparisons, 0.23% of records are in the all other comparisons comparison level\", \"u_probability_description\": \"Amongst non-matching record comparisons, 67.17% of records are in the all other comparisons comparison level\", \"has_tf_adjustments\": false, \"tf_adjustment_column\": null, \"tf_adjustment_weight\": 1.0, \"is_null_level\": false, \"bayes_factor\": 0.0033936853912491017, \"log2_bayes_factor\": -8.202931457413385, \"comparison_vector_value\": 0, \"max_comparison_vector_value\": 2, \"bayes_factor_description\": \"If comparison level is `all other comparisons` then comparison is  294.66 times less likely to be a match\", \"probability_two_random_records_match\": 8.71674365172514e-05, \"comparison_sort_order\": 2, \"iteration\": 4}, {\"comparison_name\": \"month_of_birth\", \"sql_condition\": \"`month_of_birth_l` = `month_of_birth_r`\", \"label_for_charts\": \"Exact match\", \"m_probability\": 0.9934641376168307, \"u_probability\": 0.08350433151288077, \"m_probability_description\": \"Amongst matching record comparisons, 99.35% of records are in the exact match comparison level\", \"u_probability_description\": \"Amongst non-matching record comparisons, 8.35% of records are in the exact match comparison level\", \"has_tf_adjustments\": false, \"tf_adjustment_column\": null, \"tf_adjustment_weight\": 1.0, \"is_null_level\": false, \"bayes_factor\": 11.897156945248836, \"log2_bayes_factor\": 3.572544949846053, \"comparison_vector_value\": 2, \"max_comparison_vector_value\": 2, \"bayes_factor_description\": \"If comparison level is `exact match` then comparison is 11.90 times more likely to be a match\", \"probability_two_random_records_match\": 8.71674365172514e-05, \"comparison_sort_order\": 3, \"iteration\": 4}, {\"comparison_name\": \"month_of_birth\", \"sql_condition\": \"abs(month_of_birth_l - month_of_birth_r) <= 3\", \"label_for_charts\": \"Inexact match\", \"m_probability\": 0.0036582098320020865, \"u_probability\": 0.4129544295915271, \"m_probability_description\": \"Amongst matching record comparisons, 0.37% of records are in the inexact match comparison level\", \"u_probability_description\": \"Amongst non-matching record comparisons, 41.30% of records are in the inexact match comparison level\", \"has_tf_adjustments\": false, \"tf_adjustment_column\": null, \"tf_adjustment_weight\": 1.0, \"is_null_level\": false, \"bayes_factor\": 0.008858628385753353, \"log2_bayes_factor\": -6.8187009464075095, \"comparison_vector_value\": 1, \"max_comparison_vector_value\": 2, \"bayes_factor_description\": \"If comparison level is `inexact match` then comparison is  112.88 times less likely to be a match\", \"probability_two_random_records_match\": 8.71674365172514e-05, \"comparison_sort_order\": 3, \"iteration\": 4}, {\"comparison_name\": \"month_of_birth\", \"sql_condition\": \"ELSE\", \"label_for_charts\": \"All other comparisons\", \"m_probability\": 0.002877652551167183, \"u_probability\": 0.5035412388955921, \"m_probability_description\": \"Amongst matching record comparisons, 0.29% of records are in the all other comparisons comparison level\", \"u_probability_description\": \"Amongst non-matching record comparisons, 50.35% of records are in the all other comparisons comparison level\", \"has_tf_adjustments\": false, \"tf_adjustment_column\": null, \"tf_adjustment_weight\": 1.0, \"is_null_level\": false, \"bayes_factor\": 0.005714829946160292, \"log2_bayes_factor\": -7.451073715265443, \"comparison_vector_value\": 0, \"max_comparison_vector_value\": 2, \"bayes_factor_description\": \"If comparison level is `all other comparisons` then comparison is  174.98 times less likely to be a match\", \"probability_two_random_records_match\": 8.71674365172514e-05, \"comparison_sort_order\": 3, \"iteration\": 4}, {\"comparison_name\": \"year_of_birth\", \"sql_condition\": \"`year_of_birth_l` = `year_of_birth_r`\", \"label_for_charts\": \"Exact match\", \"m_probability\": 0.9942877911723741, \"u_probability\": 0.011084011593037122, \"m_probability_description\": \"Amongst matching record comparisons, 99.43% of records are in the exact match comparison level\", \"u_probability_description\": \"Amongst non-matching record comparisons, 1.11% of records are in the exact match comparison level\", \"has_tf_adjustments\": false, \"tf_adjustment_column\": null, \"tf_adjustment_weight\": 1.0, \"is_null_level\": false, \"bayes_factor\": 89.70468704642792, \"log2_bayes_factor\": 6.487111462439692, \"comparison_vector_value\": 2, \"max_comparison_vector_value\": 2, \"bayes_factor_description\": \"If comparison level is `exact match` then comparison is 89.70 times more likely to be a match\", \"probability_two_random_records_match\": 8.71674365172514e-05, \"comparison_sort_order\": 4, \"iteration\": 4}, {\"comparison_name\": \"year_of_birth\", \"sql_condition\": \"abs(year_of_birth_l - year_of_birth_r) <= 5\", \"label_for_charts\": \"Inexact match\", \"m_probability\": 0.00187553911796665, \"u_probability\": 0.10937488974972305, \"m_probability_description\": \"Amongst matching record comparisons, 0.19% of records are in the inexact match comparison level\", \"u_probability_description\": \"Amongst non-matching record comparisons, 10.94% of records are in the inexact match comparison level\", \"has_tf_adjustments\": false, \"tf_adjustment_column\": null, \"tf_adjustment_weight\": 1.0, \"is_null_level\": false, \"bayes_factor\": 0.017147803506438727, \"log2_bayes_factor\": -5.86583239899254, \"comparison_vector_value\": 1, \"max_comparison_vector_value\": 2, \"bayes_factor_description\": \"If comparison level is `inexact match` then comparison is  58.32 times less likely to be a match\", \"probability_two_random_records_match\": 8.71674365172514e-05, \"comparison_sort_order\": 4, \"iteration\": 4}, {\"comparison_name\": \"year_of_birth\", \"sql_condition\": \"ELSE\", \"label_for_charts\": \"All other comparisons\", \"m_probability\": 0.0038366697096592654, \"u_probability\": 0.8795410986572398, \"m_probability_description\": \"Amongst matching record comparisons, 0.38% of records are in the all other comparisons comparison level\", \"u_probability_description\": \"Amongst non-matching record comparisons, 87.95% of records are in the all other comparisons comparison level\", \"has_tf_adjustments\": false, \"tf_adjustment_column\": null, \"tf_adjustment_weight\": 1.0, \"is_null_level\": false, \"bayes_factor\": 0.0043621266993851176, \"log2_bayes_factor\": -7.840752610529368, \"comparison_vector_value\": 0, \"max_comparison_vector_value\": 2, \"bayes_factor_description\": \"If comparison level is `all other comparisons` then comparison is  229.25 times less likely to be a match\", \"probability_two_random_records_match\": 8.71674365172514e-05, \"comparison_sort_order\": 4, \"iteration\": 4}, {\"comparison_name\": \"geokey\", \"sql_condition\": \"`geokey_l` = `geokey_r`\", \"label_for_charts\": \"Exact match\", \"m_probability\": 0.6116250341496671, \"u_probability\": 0.0008192860645440116, \"m_probability_description\": \"Amongst matching record comparisons, 61.16% of records are in the exact match comparison level\", \"u_probability_description\": \"Amongst non-matching record comparisons, 0.08% of records are in the exact match comparison level\", \"has_tf_adjustments\": false, \"tf_adjustment_column\": null, \"tf_adjustment_weight\": 1.0, \"is_null_level\": false, \"bayes_factor\": 746.5341601899185, \"log2_bayes_factor\": 9.544064467025398, \"comparison_vector_value\": 2, \"max_comparison_vector_value\": 2, \"bayes_factor_description\": \"If comparison level is `exact match` then comparison is 746.53 times more likely to be a match\", \"probability_two_random_records_match\": 8.71674365172514e-05, \"comparison_sort_order\": 5, \"iteration\": 4}, {\"comparison_name\": \"geokey\", \"sql_condition\": \"jaro_winkler(`geokey_l`, `geokey_r`) >= 0.7222222222222222\", \"label_for_charts\": \"Jaro_winkler >= 0.7222222222222222\", \"m_probability\": 0.38133673015200564, \"u_probability\": 0.020822268769994993, \"m_probability_description\": \"Amongst matching record comparisons, 38.13% of records are in the jaro_winkler >= 0.7222222222222222 comparison level\", \"u_probability_description\": \"Amongst non-matching record comparisons, 2.08% of records are in the jaro_winkler >= 0.7222222222222222 comparison level\", \"has_tf_adjustments\": false, \"tf_adjustment_column\": null, \"tf_adjustment_weight\": 1.0, \"is_null_level\": false, \"bayes_factor\": 18.313889536452148, \"log2_bayes_factor\": 4.194866320704619, \"comparison_vector_value\": 1, \"max_comparison_vector_value\": 2, \"bayes_factor_description\": \"If comparison level is `jaro_winkler >= 0.7222222222222222` then comparison is 18.31 times more likely to be a match\", \"probability_two_random_records_match\": 8.71674365172514e-05, \"comparison_sort_order\": 5, \"iteration\": 4}, {\"comparison_name\": \"geokey\", \"sql_condition\": \"ELSE\", \"label_for_charts\": \"All other comparisons\", \"m_probability\": 0.007038235698327354, \"u_probability\": 0.978358445165461, \"m_probability_description\": \"Amongst matching record comparisons, 0.70% of records are in the all other comparisons comparison level\", \"u_probability_description\": \"Amongst non-matching record comparisons, 97.84% of records are in the all other comparisons comparison level\", \"has_tf_adjustments\": false, \"tf_adjustment_column\": null, \"tf_adjustment_weight\": 1.0, \"is_null_level\": false, \"bayes_factor\": 0.007193923385755657, \"log2_bayes_factor\": -7.119005489600657, \"comparison_vector_value\": 0, \"max_comparison_vector_value\": 2, \"bayes_factor_description\": \"If comparison level is `all other comparisons` then comparison is  139.01 times less likely to be a match\", \"probability_two_random_records_match\": 8.71674365172514e-05, \"comparison_sort_order\": 5, \"iteration\": 4}, {\"comparison_name\": \"last_name_12\", \"sql_condition\": \"`last_name_12_l` = `last_name_12_r`\", \"label_for_charts\": \"Exact match\", \"m_probability\": 0.9502085960060338, \"u_probability\": 0.0006057226012092292, \"m_probability_description\": \"Amongst matching record comparisons, 95.02% of records are in the exact match comparison level\", \"u_probability_description\": \"Amongst non-matching record comparisons, 0.06% of records are in the exact match comparison level\", \"has_tf_adjustments\": false, \"tf_adjustment_column\": null, \"tf_adjustment_weight\": 1.0, \"is_null_level\": false, \"bayes_factor\": 1568.7190705928638, \"log2_bayes_factor\": 10.615371299332075, \"comparison_vector_value\": 2, \"max_comparison_vector_value\": 2, \"bayes_factor_description\": \"If comparison level is `exact match` then comparison is 1,568.72 times more likely to be a match\", \"probability_two_random_records_match\": 8.71674365172514e-05, \"comparison_sort_order\": 0, \"iteration\": 5}, {\"comparison_name\": \"last_name_12\", \"sql_condition\": \"jaro_winkler(`last_name_12_l`, `last_name_12_r`) >= 0.8333333333333334\", \"label_for_charts\": \"Jaro_winkler >= 0.8333333333333334\", \"m_probability\": 0.032450078802598835, \"u_probability\": 0.0012859293840712192, \"m_probability_description\": \"Amongst matching record comparisons, 3.25% of records are in the jaro_winkler >= 0.8333333333333334 comparison level\", \"u_probability_description\": \"Amongst non-matching record comparisons, 0.13% of records are in the jaro_winkler >= 0.8333333333333334 comparison level\", \"has_tf_adjustments\": false, \"tf_adjustment_column\": null, \"tf_adjustment_weight\": 1.0, \"is_null_level\": false, \"bayes_factor\": 25.234728441979236, \"log2_bayes_factor\": 4.6573386563595305, \"comparison_vector_value\": 1, \"max_comparison_vector_value\": 2, \"bayes_factor_description\": \"If comparison level is `jaro_winkler >= 0.8333333333333334` then comparison is 25.23 times more likely to be a match\", \"probability_two_random_records_match\": 8.71674365172514e-05, \"comparison_sort_order\": 0, \"iteration\": 5}, {\"comparison_name\": \"last_name_12\", \"sql_condition\": \"ELSE\", \"label_for_charts\": \"All other comparisons\", \"m_probability\": 0.017341325191367385, \"u_probability\": 0.9981083480147196, \"m_probability_description\": \"Amongst matching record comparisons, 1.73% of records are in the all other comparisons comparison level\", \"u_probability_description\": \"Amongst non-matching record comparisons, 99.81% of records are in the all other comparisons comparison level\", \"has_tf_adjustments\": false, \"tf_adjustment_column\": null, \"tf_adjustment_weight\": 1.0, \"is_null_level\": false, \"bayes_factor\": 0.017374191114481737, \"log2_bayes_factor\": -5.846910377538044, \"comparison_vector_value\": 0, \"max_comparison_vector_value\": 2, \"bayes_factor_description\": \"If comparison level is `all other comparisons` then comparison is  57.56 times less likely to be a match\", \"probability_two_random_records_match\": 8.71674365172514e-05, \"comparison_sort_order\": 0, \"iteration\": 5}, {\"comparison_name\": \"middle_initial\", \"sql_condition\": \"`middle_initial_l` = `middle_initial_r`\", \"label_for_charts\": \"Exact match\", \"m_probability\": 0.9830203683847073, \"u_probability\": 0.06625810679844002, \"m_probability_description\": \"Amongst matching record comparisons, 98.30% of records are in the exact match comparison level\", \"u_probability_description\": \"Amongst non-matching record comparisons, 6.63% of records are in the exact match comparison level\", \"has_tf_adjustments\": false, \"tf_adjustment_column\": null, \"tf_adjustment_weight\": 1.0, \"is_null_level\": false, \"bayes_factor\": 14.836227835110005, \"log2_bayes_factor\": 3.891052423008049, \"comparison_vector_value\": 1, \"max_comparison_vector_value\": 1, \"bayes_factor_description\": \"If comparison level is `exact match` then comparison is 14.84 times more likely to be a match\", \"probability_two_random_records_match\": 8.71674365172514e-05, \"comparison_sort_order\": 1, \"iteration\": 5}, {\"comparison_name\": \"middle_initial\", \"sql_condition\": \"ELSE\", \"label_for_charts\": \"All other comparisons\", \"m_probability\": 0.01697963161529277, \"u_probability\": 0.93374189320156, \"m_probability_description\": \"Amongst matching record comparisons, 1.70% of records are in the all other comparisons comparison level\", \"u_probability_description\": \"Amongst non-matching record comparisons, 93.37% of records are in the all other comparisons comparison level\", \"has_tf_adjustments\": false, \"tf_adjustment_column\": null, \"tf_adjustment_weight\": 1.0, \"is_null_level\": false, \"bayes_factor\": 0.018184502311526362, \"log2_bayes_factor\": -5.781146748309945, \"comparison_vector_value\": 0, \"max_comparison_vector_value\": 1, \"bayes_factor_description\": \"If comparison level is `all other comparisons` then comparison is  54.99 times less likely to be a match\", \"probability_two_random_records_match\": 8.71674365172514e-05, \"comparison_sort_order\": 1, \"iteration\": 5}, {\"comparison_name\": \"day_of_birth\", \"sql_condition\": \"`day_of_birth_l` = `day_of_birth_r`\", \"label_for_charts\": \"Exact match\", \"m_probability\": 0.9925640747946262, \"u_probability\": 0.03252879296232792, \"m_probability_description\": \"Amongst matching record comparisons, 99.26% of records are in the exact match comparison level\", \"u_probability_description\": \"Amongst non-matching record comparisons, 3.25% of records are in the exact match comparison level\", \"has_tf_adjustments\": false, \"tf_adjustment_column\": null, \"tf_adjustment_weight\": 1.0, \"is_null_level\": false, \"bayes_factor\": 30.51340011122237, \"log2_bayes_factor\": 4.931371043413846, \"comparison_vector_value\": 2, \"max_comparison_vector_value\": 2, \"bayes_factor_description\": \"If comparison level is `exact match` then comparison is 30.51 times more likely to be a match\", \"probability_two_random_records_match\": 8.71674365172514e-05, \"comparison_sort_order\": 2, \"iteration\": 5}, {\"comparison_name\": \"day_of_birth\", \"sql_condition\": \"abs(day_of_birth_l - day_of_birth_r) <= 5\", \"label_for_charts\": \"Inexact match\", \"m_probability\": 0.005206633379685002, \"u_probability\": 0.29573920164687456, \"m_probability_description\": \"Amongst matching record comparisons, 0.52% of records are in the inexact match comparison level\", \"u_probability_description\": \"Amongst non-matching record comparisons, 29.57% of records are in the inexact match comparison level\", \"has_tf_adjustments\": false, \"tf_adjustment_column\": null, \"tf_adjustment_weight\": 1.0, \"is_null_level\": false, \"bayes_factor\": 0.017605489399751432, \"log2_bayes_factor\": -5.827830857786358, \"comparison_vector_value\": 1, \"max_comparison_vector_value\": 2, \"bayes_factor_description\": \"If comparison level is `inexact match` then comparison is  56.80 times less likely to be a match\", \"probability_two_random_records_match\": 8.71674365172514e-05, \"comparison_sort_order\": 2, \"iteration\": 5}, {\"comparison_name\": \"day_of_birth\", \"sql_condition\": \"ELSE\", \"label_for_charts\": \"All other comparisons\", \"m_probability\": 0.0022292918256888805, \"u_probability\": 0.6717320053907976, \"m_probability_description\": \"Amongst matching record comparisons, 0.22% of records are in the all other comparisons comparison level\", \"u_probability_description\": \"Amongst non-matching record comparisons, 67.17% of records are in the all other comparisons comparison level\", \"has_tf_adjustments\": false, \"tf_adjustment_column\": null, \"tf_adjustment_weight\": 1.0, \"is_null_level\": false, \"bayes_factor\": 0.0033187220614744, \"log2_bayes_factor\": -8.235156473963222, \"comparison_vector_value\": 0, \"max_comparison_vector_value\": 2, \"bayes_factor_description\": \"If comparison level is `all other comparisons` then comparison is  301.32 times less likely to be a match\", \"probability_two_random_records_match\": 8.71674365172514e-05, \"comparison_sort_order\": 2, \"iteration\": 5}, {\"comparison_name\": \"month_of_birth\", \"sql_condition\": \"`month_of_birth_l` = `month_of_birth_r`\", \"label_for_charts\": \"Exact match\", \"m_probability\": 0.9935377503968408, \"u_probability\": 0.08350433151288077, \"m_probability_description\": \"Amongst matching record comparisons, 99.35% of records are in the exact match comparison level\", \"u_probability_description\": \"Amongst non-matching record comparisons, 8.35% of records are in the exact match comparison level\", \"has_tf_adjustments\": false, \"tf_adjustment_column\": null, \"tf_adjustment_weight\": 1.0, \"is_null_level\": false, \"bayes_factor\": 11.898038489699003, \"log2_bayes_factor\": 3.57265184535869, \"comparison_vector_value\": 2, \"max_comparison_vector_value\": 2, \"bayes_factor_description\": \"If comparison level is `exact match` then comparison is 11.90 times more likely to be a match\", \"probability_two_random_records_match\": 8.71674365172514e-05, \"comparison_sort_order\": 3, \"iteration\": 5}, {\"comparison_name\": \"month_of_birth\", \"sql_condition\": \"abs(month_of_birth_l - month_of_birth_r) <= 3\", \"label_for_charts\": \"Inexact match\", \"m_probability\": 0.00363927525453865, \"u_probability\": 0.4129544295915271, \"m_probability_description\": \"Amongst matching record comparisons, 0.36% of records are in the inexact match comparison level\", \"u_probability_description\": \"Amongst non-matching record comparisons, 41.30% of records are in the inexact match comparison level\", \"has_tf_adjustments\": false, \"tf_adjustment_column\": null, \"tf_adjustment_weight\": 1.0, \"is_null_level\": false, \"bayes_factor\": 0.008812776891964642, \"log2_bayes_factor\": -6.826187602970967, \"comparison_vector_value\": 1, \"max_comparison_vector_value\": 2, \"bayes_factor_description\": \"If comparison level is `inexact match` then comparison is  113.47 times less likely to be a match\", \"probability_two_random_records_match\": 8.71674365172514e-05, \"comparison_sort_order\": 3, \"iteration\": 5}, {\"comparison_name\": \"month_of_birth\", \"sql_condition\": \"ELSE\", \"label_for_charts\": \"All other comparisons\", \"m_probability\": 0.002822974348620642, \"u_probability\": 0.5035412388955921, \"m_probability_description\": \"Amongst matching record comparisons, 0.28% of records are in the all other comparisons comparison level\", \"u_probability_description\": \"Amongst non-matching record comparisons, 50.35% of records are in the all other comparisons comparison level\", \"has_tf_adjustments\": false, \"tf_adjustment_column\": null, \"tf_adjustment_weight\": 1.0, \"is_null_level\": false, \"bayes_factor\": 0.005606242608474771, \"log2_bayes_factor\": -7.47875010674369, \"comparison_vector_value\": 0, \"max_comparison_vector_value\": 2, \"bayes_factor_description\": \"If comparison level is `all other comparisons` then comparison is  178.37 times less likely to be a match\", \"probability_two_random_records_match\": 8.71674365172514e-05, \"comparison_sort_order\": 3, \"iteration\": 5}, {\"comparison_name\": \"year_of_birth\", \"sql_condition\": \"`year_of_birth_l` = `year_of_birth_r`\", \"label_for_charts\": \"Exact match\", \"m_probability\": 0.9943116968695347, \"u_probability\": 0.011084011593037122, \"m_probability_description\": \"Amongst matching record comparisons, 99.43% of records are in the exact match comparison level\", \"u_probability_description\": \"Amongst non-matching record comparisons, 1.11% of records are in the exact match comparison level\", \"has_tf_adjustments\": false, \"tf_adjustment_column\": null, \"tf_adjustment_weight\": 1.0, \"is_null_level\": false, \"bayes_factor\": 89.70684381944822, \"log2_bayes_factor\": 6.487146148791521, \"comparison_vector_value\": 2, \"max_comparison_vector_value\": 2, \"bayes_factor_description\": \"If comparison level is `exact match` then comparison is 89.71 times more likely to be a match\", \"probability_two_random_records_match\": 8.71674365172514e-05, \"comparison_sort_order\": 4, \"iteration\": 5}, {\"comparison_name\": \"year_of_birth\", \"sql_condition\": \"abs(year_of_birth_l - year_of_birth_r) <= 5\", \"label_for_charts\": \"Inexact match\", \"m_probability\": 0.0018697599153210485, \"u_probability\": 0.10937488974972305, \"m_probability_description\": \"Amongst matching record comparisons, 0.19% of records are in the inexact match comparison level\", \"u_probability_description\": \"Amongst non-matching record comparisons, 10.94% of records are in the inexact match comparison level\", \"has_tf_adjustments\": false, \"tf_adjustment_column\": null, \"tf_adjustment_weight\": 1.0, \"is_null_level\": false, \"bayes_factor\": 0.01709496502898905, \"log2_bayes_factor\": -5.870284718308224, \"comparison_vector_value\": 1, \"max_comparison_vector_value\": 2, \"bayes_factor_description\": \"If comparison level is `inexact match` then comparison is  58.50 times less likely to be a match\", \"probability_two_random_records_match\": 8.71674365172514e-05, \"comparison_sort_order\": 4, \"iteration\": 5}, {\"comparison_name\": \"year_of_birth\", \"sql_condition\": \"ELSE\", \"label_for_charts\": \"All other comparisons\", \"m_probability\": 0.0038185432151441536, \"u_probability\": 0.8795410986572398, \"m_probability_description\": \"Amongst matching record comparisons, 0.38% of records are in the all other comparisons comparison level\", \"u_probability_description\": \"Amongst non-matching record comparisons, 87.95% of records are in the all other comparisons comparison level\", \"has_tf_adjustments\": false, \"tf_adjustment_column\": null, \"tf_adjustment_weight\": 1.0, \"is_null_level\": false, \"bayes_factor\": 0.004341517662987859, \"log2_bayes_factor\": -7.847584831364231, \"comparison_vector_value\": 0, \"max_comparison_vector_value\": 2, \"bayes_factor_description\": \"If comparison level is `all other comparisons` then comparison is  230.33 times less likely to be a match\", \"probability_two_random_records_match\": 8.71674365172514e-05, \"comparison_sort_order\": 4, \"iteration\": 5}, {\"comparison_name\": \"geokey\", \"sql_condition\": \"`geokey_l` = `geokey_r`\", \"label_for_charts\": \"Exact match\", \"m_probability\": 0.6116170612953316, \"u_probability\": 0.0008192860645440116, \"m_probability_description\": \"Amongst matching record comparisons, 61.16% of records are in the exact match comparison level\", \"u_probability_description\": \"Amongst non-matching record comparisons, 0.08% of records are in the exact match comparison level\", \"has_tf_adjustments\": false, \"tf_adjustment_column\": null, \"tf_adjustment_weight\": 1.0, \"is_null_level\": false, \"bayes_factor\": 746.5244287240965, \"log2_bayes_factor\": 9.544045660613397, \"comparison_vector_value\": 2, \"max_comparison_vector_value\": 2, \"bayes_factor_description\": \"If comparison level is `exact match` then comparison is 746.52 times more likely to be a match\", \"probability_two_random_records_match\": 8.71674365172514e-05, \"comparison_sort_order\": 5, \"iteration\": 5}, {\"comparison_name\": \"geokey\", \"sql_condition\": \"jaro_winkler(`geokey_l`, `geokey_r`) >= 0.7222222222222222\", \"label_for_charts\": \"Jaro_winkler >= 0.7222222222222222\", \"m_probability\": 0.38134415738767535, \"u_probability\": 0.020822268769994993, \"m_probability_description\": \"Amongst matching record comparisons, 38.13% of records are in the jaro_winkler >= 0.7222222222222222 comparison level\", \"u_probability_description\": \"Amongst non-matching record comparisons, 2.08% of records are in the jaro_winkler >= 0.7222222222222222 comparison level\", \"has_tf_adjustments\": false, \"tf_adjustment_column\": null, \"tf_adjustment_weight\": 1.0, \"is_null_level\": false, \"bayes_factor\": 18.314246233205598, \"log2_bayes_factor\": 4.194894419575965, \"comparison_vector_value\": 1, \"max_comparison_vector_value\": 2, \"bayes_factor_description\": \"If comparison level is `jaro_winkler >= 0.7222222222222222` then comparison is 18.31 times more likely to be a match\", \"probability_two_random_records_match\": 8.71674365172514e-05, \"comparison_sort_order\": 5, \"iteration\": 5}, {\"comparison_name\": \"geokey\", \"sql_condition\": \"ELSE\", \"label_for_charts\": \"All other comparisons\", \"m_probability\": 0.007038781316992969, \"u_probability\": 0.978358445165461, \"m_probability_description\": \"Amongst matching record comparisons, 0.70% of records are in the all other comparisons comparison level\", \"u_probability_description\": \"Amongst non-matching record comparisons, 97.84% of records are in the all other comparisons comparison level\", \"has_tf_adjustments\": false, \"tf_adjustment_column\": null, \"tf_adjustment_weight\": 1.0, \"is_null_level\": false, \"bayes_factor\": 0.0071944810736545165, \"log2_bayes_factor\": -7.118893653216197, \"comparison_vector_value\": 0, \"max_comparison_vector_value\": 2, \"bayes_factor_description\": \"If comparison level is `all other comparisons` then comparison is  139.00 times less likely to be a match\", \"probability_two_random_records_match\": 8.71674365172514e-05, \"comparison_sort_order\": 5, \"iteration\": 5}]}}, {\"mode\": \"vega-lite\"});\n",
       "</script>"
      ],
      "text/plain": [
       "alt.HConcatChart(...)"
      ]
     },
     "execution_count": 57,
     "metadata": {},
     "output_type": "execute_result"
    }
   ],
   "source": [
    "em_session_1.m_u_values_interactive_history_chart()"
   ]
  },
  {
   "cell_type": "code",
   "execution_count": 58,
   "id": "13eae59d-f450-46df-99b6-79b2a8dfae6f",
   "metadata": {
    "execution": {
     "iopub.execute_input": "2024-05-16T06:22:58.450186Z",
     "iopub.status.busy": "2024-05-16T06:22:58.449553Z",
     "iopub.status.idle": "2024-05-16T06:22:59.011039Z",
     "shell.execute_reply": "2024-05-16T06:22:59.008686Z"
    },
    "papermill": {
     "duration": 0.59524,
     "end_time": "2024-05-16T06:22:59.014416",
     "exception": false,
     "start_time": "2024-05-16T06:22:58.419176",
     "status": "completed"
    },
    "tags": []
   },
   "outputs": [
    {
     "data": {
      "text/html": [
       "\n",
       "<style>\n",
       "  #altair-viz-23b412fb853241feb82eda85b015d378.vega-embed {\n",
       "    width: 100%;\n",
       "    display: flex;\n",
       "  }\n",
       "\n",
       "  #altair-viz-23b412fb853241feb82eda85b015d378.vega-embed details,\n",
       "  #altair-viz-23b412fb853241feb82eda85b015d378.vega-embed details summary {\n",
       "    position: relative;\n",
       "  }\n",
       "</style>\n",
       "<div id=\"altair-viz-23b412fb853241feb82eda85b015d378\"></div>\n",
       "<script type=\"text/javascript\">\n",
       "  var VEGA_DEBUG = (typeof VEGA_DEBUG == \"undefined\") ? {} : VEGA_DEBUG;\n",
       "  (function(spec, embedOpt){\n",
       "    let outputDiv = document.currentScript.previousElementSibling;\n",
       "    if (outputDiv.id !== \"altair-viz-23b412fb853241feb82eda85b015d378\") {\n",
       "      outputDiv = document.getElementById(\"altair-viz-23b412fb853241feb82eda85b015d378\");\n",
       "    }\n",
       "    const paths = {\n",
       "      \"vega\": \"https://cdn.jsdelivr.net/npm/vega@5?noext\",\n",
       "      \"vega-lib\": \"https://cdn.jsdelivr.net/npm/vega-lib?noext\",\n",
       "      \"vega-lite\": \"https://cdn.jsdelivr.net/npm/vega-lite@5.17.0?noext\",\n",
       "      \"vega-embed\": \"https://cdn.jsdelivr.net/npm/vega-embed@6?noext\",\n",
       "    };\n",
       "\n",
       "    function maybeLoadScript(lib, version) {\n",
       "      var key = `${lib.replace(\"-\", \"\")}_version`;\n",
       "      return (VEGA_DEBUG[key] == version) ?\n",
       "        Promise.resolve(paths[lib]) :\n",
       "        new Promise(function(resolve, reject) {\n",
       "          var s = document.createElement('script');\n",
       "          document.getElementsByTagName(\"head\")[0].appendChild(s);\n",
       "          s.async = true;\n",
       "          s.onload = () => {\n",
       "            VEGA_DEBUG[key] = version;\n",
       "            return resolve(paths[lib]);\n",
       "          };\n",
       "          s.onerror = () => reject(`Error loading script: ${paths[lib]}`);\n",
       "          s.src = paths[lib];\n",
       "        });\n",
       "    }\n",
       "\n",
       "    function showError(err) {\n",
       "      outputDiv.innerHTML = `<div class=\"error\" style=\"color:red;\">${err}</div>`;\n",
       "      throw err;\n",
       "    }\n",
       "\n",
       "    function displayChart(vegaEmbed) {\n",
       "      vegaEmbed(outputDiv, spec, embedOpt)\n",
       "        .catch(err => showError(`Javascript Error: ${err.message}<br>This usually means there's a typo in your chart specification. See the javascript console for the full traceback.`));\n",
       "    }\n",
       "\n",
       "    if(typeof define === \"function\" && define.amd) {\n",
       "      requirejs.config({paths});\n",
       "      require([\"vega-embed\"], displayChart, err => showError(`Error loading script: ${err.message}`));\n",
       "    } else {\n",
       "      maybeLoadScript(\"vega\", \"5\")\n",
       "        .then(() => maybeLoadScript(\"vega-lite\", \"5.17.0\"))\n",
       "        .then(() => maybeLoadScript(\"vega-embed\", \"6\"))\n",
       "        .catch(showError)\n",
       "        .then(() => displayChart(vegaEmbed));\n",
       "    }\n",
       "  })({\"config\": {\"view\": {\"continuousWidth\": 300, \"continuousHeight\": 300, \"discreteHeight\": 60, \"discreteWidth\": 400}, \"header\": {\"title\": null}, \"mark\": {\"tooltip\": null}, \"title\": {\"anchor\": \"middle\"}}, \"vconcat\": [{\"mark\": {\"type\": \"bar\", \"clip\": true, \"height\": 15}, \"encoding\": {\"color\": {\"field\": \"log2_bayes_factor\", \"scale\": {\"domain\": [-10, 0, 10], \"interpolate\": \"lab\", \"range\": [\"red\", \"#bbbbbb\", \"green\"]}, \"title\": \"Match weight\", \"type\": \"quantitative\"}, \"tooltip\": [{\"field\": \"comparison_name\", \"title\": \"Comparison name\", \"type\": \"nominal\"}, {\"field\": \"probability_two_random_records_match\", \"format\": \".4f\", \"title\": \"Probability two random records match\", \"type\": \"nominal\"}, {\"field\": \"log2_bayes_factor\", \"format\": \",.4f\", \"title\": \"Equivalent match weight\", \"type\": \"quantitative\"}, {\"field\": \"bayes_factor_description\", \"title\": \"Match weight description\", \"type\": \"nominal\"}], \"x\": {\"axis\": {\"domain\": false, \"gridColor\": {\"condition\": {\"test\": \"abs(datum.value / 10)  <= 1 & datum.value % 10 === 0\", \"value\": \"#aaa\"}, \"value\": \"#ddd\"}, \"gridDash\": {\"condition\": {\"test\": \"abs(datum.value / 10) == 1\", \"value\": [3]}, \"value\": null}, \"gridWidth\": {\"condition\": {\"test\": \"abs(datum.value / 10)  <= 1 & datum.value % 10 === 0\", \"value\": 2}, \"value\": 1}, \"labels\": false, \"ticks\": false, \"title\": \"\"}, \"field\": \"log2_bayes_factor\", \"scale\": {\"domain\": [-10, 10]}, \"type\": \"quantitative\"}, \"y\": {\"axis\": {\"title\": \"Prior (starting) match weight\", \"titleAlign\": \"right\", \"titleAngle\": 0, \"titleFontWeight\": \"normal\"}, \"field\": \"label_for_charts\", \"sort\": {\"field\": \"comparison_vector_value\", \"order\": \"descending\"}, \"type\": \"nominal\"}}, \"height\": 20, \"transform\": [{\"filter\": \"(datum.comparison_name == 'probability_two_random_records_match')\"}]}, {\"mark\": {\"type\": \"bar\", \"clip\": true}, \"encoding\": {\"color\": {\"field\": \"log2_bayes_factor\", \"scale\": {\"domain\": [-10, 0, 10], \"interpolate\": \"lab\", \"range\": [\"red\", \"#bbbbbb\", \"green\"]}, \"title\": \"Match weight\", \"type\": \"quantitative\"}, \"row\": {\"field\": \"comparison_name\", \"header\": {\"labelAlign\": \"left\", \"labelAnchor\": \"middle\", \"labelAngle\": 0}, \"sort\": {\"field\": \"comparison_sort_order\"}, \"type\": \"nominal\"}, \"tooltip\": [{\"field\": \"comparison_name\", \"title\": \"Comparison name\", \"type\": \"nominal\"}, {\"field\": \"label_for_charts\", \"title\": \"Label\", \"type\": \"ordinal\"}, {\"field\": \"sql_condition\", \"title\": \"SQL condition\", \"type\": \"nominal\"}, {\"field\": \"m_probability\", \"format\": \".4f\", \"title\": \"M probability\", \"type\": \"quantitative\"}, {\"field\": \"u_probability\", \"format\": \".4f\", \"title\": \"U probability\", \"type\": \"quantitative\"}, {\"field\": \"bayes_factor\", \"format\": \",.4f\", \"title\": \"Bayes factor = m/u\", \"type\": \"quantitative\"}, {\"field\": \"log2_bayes_factor\", \"format\": \",.4f\", \"title\": \"Match weight = log2(m/u)\", \"type\": \"quantitative\"}, {\"field\": \"bayes_factor_description\", \"title\": \"Match weight description\", \"type\": \"nominal\"}], \"x\": {\"axis\": {\"gridColor\": {\"condition\": {\"test\": \"abs(datum.value / 10)  <= 1 & datum.value % 10 === 0\", \"value\": \"#aaa\"}, \"value\": \"#ddd\"}, \"gridDash\": {\"condition\": {\"test\": \"abs(datum.value / 10) == 1\", \"value\": [3]}, \"value\": null}, \"gridWidth\": {\"condition\": {\"test\": \"abs(datum.value / 10)  <= 1 & datum.value % 10 === 0\", \"value\": 2}, \"value\": 1}, \"title\": \"Comparison level match weight = log2(m/u)\"}, \"field\": \"log2_bayes_factor\", \"scale\": {\"domain\": [-10, 10]}, \"type\": \"quantitative\"}, \"y\": {\"axis\": {\"title\": null}, \"field\": \"label_for_charts\", \"sort\": {\"field\": \"comparison_vector_value\", \"order\": \"descending\"}, \"type\": \"nominal\"}}, \"height\": {\"step\": 12}, \"resolve\": {\"axis\": {\"y\": \"independent\"}, \"scale\": {\"y\": \"independent\"}}, \"transform\": [{\"filter\": \"(datum.comparison_name != 'probability_two_random_records_match')\"}]}], \"data\": {\"name\": \"data-5a54382e83433344cdf168ada7b0e828\"}, \"params\": [{\"name\": \"iteration_number\", \"bind\": {\"input\": \"range\", \"max\": 5, \"min\": 0, \"step\": 1}, \"value\": 5}, {\"name\": \"mouse_zoom\", \"select\": {\"type\": \"interval\", \"encodings\": [\"x\"]}, \"bind\": \"scales\", \"views\": []}], \"resolve\": {\"axis\": {\"y\": \"independent\"}, \"scale\": {\"y\": \"independent\"}}, \"title\": {\"text\": \"Model parameters (components of final match weight)\", \"subtitle\": \"Training session blocked on <Custom blocking rule using SQL: l.first_name_15 = r.first_name_15 and l.zipcode = r.zipcode>\"}, \"transform\": [{\"filter\": \"(datum.iteration == iteration_number)\"}], \"$schema\": \"https://vega.github.io/schema/vega-lite/v5.9.3.json\", \"datasets\": {\"data-5a54382e83433344cdf168ada7b0e828\": [{\"comparison_name\": \"probability_two_random_records_match\", \"sql_condition\": null, \"label_for_charts\": \"\", \"m_probability\": null, \"u_probability\": null, \"m_probability_description\": null, \"u_probability_description\": null, \"has_tf_adjustments\": false, \"tf_adjustment_column\": null, \"tf_adjustment_weight\": null, \"is_null_level\": false, \"bayes_factor\": 8.717503534161042e-05, \"log2_bayes_factor\": -13.485725430552058, \"comparison_vector_value\": 0, \"max_comparison_vector_value\": 0, \"bayes_factor_description\": \"The probability that two random records drawn at random match is 0.000 or one in  11,472.2 records.This is equivalent to a starting match weight of -13.486.\", \"probability_two_random_records_match\": 8.71674365172514e-05, \"comparison_sort_order\": -1, \"iteration\": 0}, {\"comparison_name\": \"last_name_12\", \"sql_condition\": \"`last_name_12_l` = `last_name_12_r`\", \"label_for_charts\": \"Exact match\", \"m_probability\": 0.95, \"u_probability\": 0.0006057226012092292, \"m_probability_description\": \"Amongst matching record comparisons, 95.00% of records are in the exact match comparison level\", \"u_probability_description\": \"Amongst non-matching record comparisons, 0.06% of records are in the exact match comparison level\", \"has_tf_adjustments\": false, \"tf_adjustment_column\": null, \"tf_adjustment_weight\": 1.0, \"is_null_level\": false, \"bayes_factor\": 1568.3746951219512, \"log2_bayes_factor\": 10.615054554712254, \"comparison_vector_value\": 2, \"max_comparison_vector_value\": 2, \"bayes_factor_description\": \"If comparison level is `exact match` then comparison is 1,568.37 times more likely to be a match\", \"probability_two_random_records_match\": 8.71674365172514e-05, \"comparison_sort_order\": 0, \"iteration\": 0}, {\"comparison_name\": \"last_name_12\", \"sql_condition\": \"jaro_winkler(`last_name_12_l`, `last_name_12_r`) >= 0.8333333333333334\", \"label_for_charts\": \"Jaro_winkler >= 0.8333333333333334\", \"m_probability\": 0.025000000000000022, \"u_probability\": 0.0012859293840712192, \"m_probability_description\": \"Amongst matching record comparisons, 2.50% of records are in the jaro_winkler >= 0.8333333333333334 comparison level\", \"u_probability_description\": \"Amongst non-matching record comparisons, 0.13% of records are in the jaro_winkler >= 0.8333333333333334 comparison level\", \"has_tf_adjustments\": false, \"tf_adjustment_column\": null, \"tf_adjustment_weight\": 1.0, \"is_null_level\": false, \"bayes_factor\": 19.441191957874597, \"log2_bayes_factor\": 4.2810447695408005, \"comparison_vector_value\": 1, \"max_comparison_vector_value\": 2, \"bayes_factor_description\": \"If comparison level is `jaro_winkler >= 0.8333333333333334` then comparison is 19.44 times more likely to be a match\", \"probability_two_random_records_match\": 8.71674365172514e-05, \"comparison_sort_order\": 0, \"iteration\": 0}, {\"comparison_name\": \"last_name_12\", \"sql_condition\": \"ELSE\", \"label_for_charts\": \"All other comparisons\", \"m_probability\": 0.025000000000000022, \"u_probability\": 0.9981083480147196, \"m_probability_description\": \"Amongst matching record comparisons, 2.50% of records are in the all other comparisons comparison level\", \"u_probability_description\": \"Amongst non-matching record comparisons, 99.81% of records are in the all other comparisons comparison level\", \"has_tf_adjustments\": false, \"tf_adjustment_column\": null, \"tf_adjustment_weight\": 1.0, \"is_null_level\": false, \"bayes_factor\": 0.02504738092785828, \"log2_bayes_factor\": -5.3191964334573845, \"comparison_vector_value\": 0, \"max_comparison_vector_value\": 2, \"bayes_factor_description\": \"If comparison level is `all other comparisons` then comparison is  39.92 times less likely to be a match\", \"probability_two_random_records_match\": 8.71674365172514e-05, \"comparison_sort_order\": 0, \"iteration\": 0}, {\"comparison_name\": \"middle_initial\", \"sql_condition\": \"`middle_initial_l` = `middle_initial_r`\", \"label_for_charts\": \"Exact match\", \"m_probability\": 0.95, \"u_probability\": 0.06625810679844002, \"m_probability_description\": \"Amongst matching record comparisons, 95.00% of records are in the exact match comparison level\", \"u_probability_description\": \"Amongst non-matching record comparisons, 6.63% of records are in the exact match comparison level\", \"has_tf_adjustments\": false, \"tf_adjustment_column\": null, \"tf_adjustment_weight\": 1.0, \"is_null_level\": false, \"bayes_factor\": 14.337868162909338, \"log2_bayes_factor\": 3.8417586266373855, \"comparison_vector_value\": 1, \"max_comparison_vector_value\": 1, \"bayes_factor_description\": \"If comparison level is `exact match` then comparison is 14.34 times more likely to be a match\", \"probability_two_random_records_match\": 8.71674365172514e-05, \"comparison_sort_order\": 1, \"iteration\": 0}, {\"comparison_name\": \"middle_initial\", \"sql_condition\": \"ELSE\", \"label_for_charts\": \"All other comparisons\", \"m_probability\": 0.050000000000000044, \"u_probability\": 0.93374189320156, \"m_probability_description\": \"Amongst matching record comparisons, 5.00% of records are in the all other comparisons comparison level\", \"u_probability_description\": \"Amongst non-matching record comparisons, 93.37% of records are in the all other comparisons comparison level\", \"has_tf_adjustments\": false, \"tf_adjustment_column\": null, \"tf_adjustment_weight\": 1.0, \"is_null_level\": false, \"bayes_factor\": 0.053547988329583185, \"log2_bayes_factor\": -4.223023812398604, \"comparison_vector_value\": 0, \"max_comparison_vector_value\": 1, \"bayes_factor_description\": \"If comparison level is `all other comparisons` then comparison is  18.67 times less likely to be a match\", \"probability_two_random_records_match\": 8.71674365172514e-05, \"comparison_sort_order\": 1, \"iteration\": 0}, {\"comparison_name\": \"day_of_birth\", \"sql_condition\": \"`day_of_birth_l` = `day_of_birth_r`\", \"label_for_charts\": \"Exact match\", \"m_probability\": 0.95, \"u_probability\": 0.03252879296232792, \"m_probability_description\": \"Amongst matching record comparisons, 95.00% of records are in the exact match comparison level\", \"u_probability_description\": \"Amongst non-matching record comparisons, 3.25% of records are in the exact match comparison level\", \"has_tf_adjustments\": false, \"tf_adjustment_column\": null, \"tf_adjustment_weight\": 1.0, \"is_null_level\": false, \"bayes_factor\": 29.20489552441153, \"log2_bayes_factor\": 4.868138318677753, \"comparison_vector_value\": 2, \"max_comparison_vector_value\": 2, \"bayes_factor_description\": \"If comparison level is `exact match` then comparison is 29.20 times more likely to be a match\", \"probability_two_random_records_match\": 8.71674365172514e-05, \"comparison_sort_order\": 2, \"iteration\": 0}, {\"comparison_name\": \"day_of_birth\", \"sql_condition\": \"abs(day_of_birth_l - day_of_birth_r) <= 5\", \"label_for_charts\": \"Inexact match\", \"m_probability\": 0.025000000000000022, \"u_probability\": 0.29573920164687456, \"m_probability_description\": \"Amongst matching record comparisons, 2.50% of records are in the inexact match comparison level\", \"u_probability_description\": \"Amongst non-matching record comparisons, 29.57% of records are in the inexact match comparison level\", \"has_tf_adjustments\": false, \"tf_adjustment_column\": null, \"tf_adjustment_weight\": 1.0, \"is_null_level\": false, \"bayes_factor\": 0.08453394024459127, \"log2_bayes_factor\": -3.564325492267804, \"comparison_vector_value\": 1, \"max_comparison_vector_value\": 2, \"bayes_factor_description\": \"If comparison level is `inexact match` then comparison is  11.83 times less likely to be a match\", \"probability_two_random_records_match\": 8.71674365172514e-05, \"comparison_sort_order\": 2, \"iteration\": 0}, {\"comparison_name\": \"day_of_birth\", \"sql_condition\": \"ELSE\", \"label_for_charts\": \"All other comparisons\", \"m_probability\": 0.025000000000000022, \"u_probability\": 0.6717320053907976, \"m_probability_description\": \"Amongst matching record comparisons, 2.50% of records are in the all other comparisons comparison level\", \"u_probability_description\": \"Amongst non-matching record comparisons, 67.17% of records are in the all other comparisons comparison level\", \"has_tf_adjustments\": false, \"tf_adjustment_column\": null, \"tf_adjustment_weight\": 1.0, \"is_null_level\": false, \"bayes_factor\": 0.03721722323690029, \"log2_bayes_factor\": -4.747885769299581, \"comparison_vector_value\": 0, \"max_comparison_vector_value\": 2, \"bayes_factor_description\": \"If comparison level is `all other comparisons` then comparison is  26.87 times less likely to be a match\", \"probability_two_random_records_match\": 8.71674365172514e-05, \"comparison_sort_order\": 2, \"iteration\": 0}, {\"comparison_name\": \"month_of_birth\", \"sql_condition\": \"`month_of_birth_l` = `month_of_birth_r`\", \"label_for_charts\": \"Exact match\", \"m_probability\": 0.95, \"u_probability\": 0.08350433151288077, \"m_probability_description\": \"Amongst matching record comparisons, 95.00% of records are in the exact match comparison level\", \"u_probability_description\": \"Amongst non-matching record comparisons, 8.35% of records are in the exact match comparison level\", \"has_tf_adjustments\": false, \"tf_adjustment_column\": null, \"tf_adjustment_weight\": 1.0, \"is_null_level\": false, \"bayes_factor\": 11.376655351746153, \"log2_bayes_factor\": 3.508004573737368, \"comparison_vector_value\": 2, \"max_comparison_vector_value\": 2, \"bayes_factor_description\": \"If comparison level is `exact match` then comparison is 11.38 times more likely to be a match\", \"probability_two_random_records_match\": 8.71674365172514e-05, \"comparison_sort_order\": 3, \"iteration\": 0}, {\"comparison_name\": \"month_of_birth\", \"sql_condition\": \"abs(month_of_birth_l - month_of_birth_r) <= 3\", \"label_for_charts\": \"Inexact match\", \"m_probability\": 0.025000000000000022, \"u_probability\": 0.4129544295915271, \"m_probability_description\": \"Amongst matching record comparisons, 2.50% of records are in the inexact match comparison level\", \"u_probability_description\": \"Amongst non-matching record comparisons, 41.30% of records are in the inexact match comparison level\", \"has_tf_adjustments\": false, \"tf_adjustment_column\": null, \"tf_adjustment_weight\": 1.0, \"is_null_level\": false, \"bayes_factor\": 0.060539367563459026, \"log2_bayes_factor\": -4.0459825859311875, \"comparison_vector_value\": 1, \"max_comparison_vector_value\": 2, \"bayes_factor_description\": \"If comparison level is `inexact match` then comparison is  16.52 times less likely to be a match\", \"probability_two_random_records_match\": 8.71674365172514e-05, \"comparison_sort_order\": 3, \"iteration\": 0}, {\"comparison_name\": \"month_of_birth\", \"sql_condition\": \"ELSE\", \"label_for_charts\": \"All other comparisons\", \"m_probability\": 0.025000000000000022, \"u_probability\": 0.5035412388955921, \"m_probability_description\": \"Amongst matching record comparisons, 2.50% of records are in the all other comparisons comparison level\", \"u_probability_description\": \"Amongst non-matching record comparisons, 50.35% of records are in the all other comparisons comparison level\", \"has_tf_adjustments\": false, \"tf_adjustment_column\": null, \"tf_adjustment_weight\": 1.0, \"is_null_level\": false, \"bayes_factor\": 0.049648366546565424, \"log2_bayes_factor\": -4.332109936551495, \"comparison_vector_value\": 0, \"max_comparison_vector_value\": 2, \"bayes_factor_description\": \"If comparison level is `all other comparisons` then comparison is  20.14 times less likely to be a match\", \"probability_two_random_records_match\": 8.71674365172514e-05, \"comparison_sort_order\": 3, \"iteration\": 0}, {\"comparison_name\": \"year_of_birth\", \"sql_condition\": \"`year_of_birth_l` = `year_of_birth_r`\", \"label_for_charts\": \"Exact match\", \"m_probability\": 0.95, \"u_probability\": 0.011084011593037122, \"m_probability_description\": \"Amongst matching record comparisons, 95.00% of records are in the exact match comparison level\", \"u_probability_description\": \"Amongst non-matching record comparisons, 1.11% of records are in the exact match comparison level\", \"has_tf_adjustments\": false, \"tf_adjustment_column\": null, \"tf_adjustment_weight\": 1.0, \"is_null_level\": false, \"bayes_factor\": 85.7090406326155, \"log2_bayes_factor\": 6.421375483448383, \"comparison_vector_value\": 2, \"max_comparison_vector_value\": 2, \"bayes_factor_description\": \"If comparison level is `exact match` then comparison is 85.71 times more likely to be a match\", \"probability_two_random_records_match\": 8.71674365172514e-05, \"comparison_sort_order\": 4, \"iteration\": 0}, {\"comparison_name\": \"year_of_birth\", \"sql_condition\": \"abs(year_of_birth_l - year_of_birth_r) <= 5\", \"label_for_charts\": \"Inexact match\", \"m_probability\": 0.025000000000000022, \"u_probability\": 0.10937488974972305, \"m_probability_description\": \"Amongst matching record comparisons, 2.50% of records are in the inexact match comparison level\", \"u_probability_description\": \"Amongst non-matching record comparisons, 10.94% of records are in the inexact match comparison level\", \"has_tf_adjustments\": false, \"tf_adjustment_column\": null, \"tf_adjustment_weight\": 1.0, \"is_null_level\": false, \"bayes_factor\": 0.2285716589722398, \"log2_bayes_factor\": -2.129281562703978, \"comparison_vector_value\": 1, \"max_comparison_vector_value\": 2, \"bayes_factor_description\": \"If comparison level is `inexact match` then comparison is  4.37 times less likely to be a match\", \"probability_two_random_records_match\": 8.71674365172514e-05, \"comparison_sort_order\": 4, \"iteration\": 0}, {\"comparison_name\": \"year_of_birth\", \"sql_condition\": \"ELSE\", \"label_for_charts\": \"All other comparisons\", \"m_probability\": 0.025000000000000022, \"u_probability\": 0.8795410986572398, \"m_probability_description\": \"Amongst matching record comparisons, 2.50% of records are in the all other comparisons comparison level\", \"u_probability_description\": \"Amongst non-matching record comparisons, 87.95% of records are in the all other comparisons comparison level\", \"has_tf_adjustments\": false, \"tf_adjustment_column\": null, \"tf_adjustment_weight\": 1.0, \"is_null_level\": false, \"bayes_factor\": 0.02842391337729018, \"log2_bayes_factor\": -5.13675099264171, \"comparison_vector_value\": 0, \"max_comparison_vector_value\": 2, \"bayes_factor_description\": \"If comparison level is `all other comparisons` then comparison is  35.18 times less likely to be a match\", \"probability_two_random_records_match\": 8.71674365172514e-05, \"comparison_sort_order\": 4, \"iteration\": 0}, {\"comparison_name\": \"geokey\", \"sql_condition\": \"`geokey_l` = `geokey_r`\", \"label_for_charts\": \"Exact match\", \"m_probability\": 0.95, \"u_probability\": 0.0008192860645440116, \"m_probability_description\": \"Amongst matching record comparisons, 95.00% of records are in the exact match comparison level\", \"u_probability_description\": \"Amongst non-matching record comparisons, 0.08% of records are in the exact match comparison level\", \"has_tf_adjustments\": false, \"tf_adjustment_column\": null, \"tf_adjustment_weight\": 1.0, \"is_null_level\": false, \"bayes_factor\": 1159.5461476923076, \"log2_bayes_factor\": 10.179344522258772, \"comparison_vector_value\": 2, \"max_comparison_vector_value\": 2, \"bayes_factor_description\": \"If comparison level is `exact match` then comparison is 1,159.55 times more likely to be a match\", \"probability_two_random_records_match\": 8.71674365172514e-05, \"comparison_sort_order\": 5, \"iteration\": 0}, {\"comparison_name\": \"geokey\", \"sql_condition\": \"jaro_winkler(`geokey_l`, `geokey_r`) >= 0.7222222222222222\", \"label_for_charts\": \"Jaro_winkler >= 0.7222222222222222\", \"m_probability\": 0.025000000000000022, \"u_probability\": 0.020822268769994993, \"m_probability_description\": \"Amongst matching record comparisons, 2.50% of records are in the jaro_winkler >= 0.7222222222222222 comparison level\", \"u_probability_description\": \"Amongst non-matching record comparisons, 2.08% of records are in the jaro_winkler >= 0.7222222222222222 comparison level\", \"has_tf_adjustments\": false, \"tf_adjustment_column\": null, \"tf_adjustment_weight\": 1.0, \"is_null_level\": false, \"bayes_factor\": 1.2006376575075797, \"log2_bayes_factor\": 0.2638008233251875, \"comparison_vector_value\": 1, \"max_comparison_vector_value\": 2, \"bayes_factor_description\": \"If comparison level is `jaro_winkler >= 0.7222222222222222` then comparison is 1.20 times more likely to be a match\", \"probability_two_random_records_match\": 8.71674365172514e-05, \"comparison_sort_order\": 5, \"iteration\": 0}, {\"comparison_name\": \"geokey\", \"sql_condition\": \"ELSE\", \"label_for_charts\": \"All other comparisons\", \"m_probability\": 0.025000000000000022, \"u_probability\": 0.978358445165461, \"m_probability_description\": \"Amongst matching record comparisons, 2.50% of records are in the all other comparisons comparison level\", \"u_probability_description\": \"Amongst non-matching record comparisons, 97.84% of records are in the all other comparisons comparison level\", \"has_tf_adjustments\": false, \"tf_adjustment_column\": null, \"tf_adjustment_weight\": 1.0, \"is_null_level\": false, \"bayes_factor\": 0.025553006797802, \"log2_bayes_factor\": -5.290363128081492, \"comparison_vector_value\": 0, \"max_comparison_vector_value\": 2, \"bayes_factor_description\": \"If comparison level is `all other comparisons` then comparison is  39.13 times less likely to be a match\", \"probability_two_random_records_match\": 8.71674365172514e-05, \"comparison_sort_order\": 5, \"iteration\": 0}, {\"comparison_name\": \"probability_two_random_records_match\", \"sql_condition\": null, \"label_for_charts\": \"\", \"m_probability\": null, \"u_probability\": null, \"m_probability_description\": null, \"u_probability_description\": null, \"has_tf_adjustments\": false, \"tf_adjustment_column\": null, \"tf_adjustment_weight\": null, \"is_null_level\": false, \"bayes_factor\": 8.717503534161042e-05, \"log2_bayes_factor\": -13.485725430552058, \"comparison_vector_value\": 0, \"max_comparison_vector_value\": 0, \"bayes_factor_description\": \"The probability that two random records drawn at random match is 0.000 or one in  11,472.2 records.This is equivalent to a starting match weight of -13.486.\", \"probability_two_random_records_match\": 8.71674365172514e-05, \"comparison_sort_order\": -1, \"iteration\": 1}, {\"comparison_name\": \"last_name_12\", \"sql_condition\": \"`last_name_12_l` = `last_name_12_r`\", \"label_for_charts\": \"Exact match\", \"m_probability\": 0.9512966547967533, \"u_probability\": 0.0006057226012092292, \"m_probability_description\": \"Amongst matching record comparisons, 95.13% of records are in the exact match comparison level\", \"u_probability_description\": \"Amongst non-matching record comparisons, 0.06% of records are in the exact match comparison level\", \"has_tf_adjustments\": false, \"tf_adjustment_column\": null, \"tf_adjustment_weight\": 1.0, \"is_null_level\": false, \"bayes_factor\": 1570.515369407779, \"log2_bayes_factor\": 10.617022346251066, \"comparison_vector_value\": 2, \"max_comparison_vector_value\": 2, \"bayes_factor_description\": \"If comparison level is `exact match` then comparison is 1,570.52 times more likely to be a match\", \"probability_two_random_records_match\": 8.71674365172514e-05, \"comparison_sort_order\": 0, \"iteration\": 1}, {\"comparison_name\": \"last_name_12\", \"sql_condition\": \"jaro_winkler(`last_name_12_l`, `last_name_12_r`) >= 0.8333333333333334\", \"label_for_charts\": \"Jaro_winkler >= 0.8333333333333334\", \"m_probability\": 0.03102074528321188, \"u_probability\": 0.0012859293840712192, \"m_probability_description\": \"Amongst matching record comparisons, 3.10% of records are in the jaro_winkler >= 0.8333333333333334 comparison level\", \"u_probability_description\": \"Amongst non-matching record comparisons, 0.13% of records are in the jaro_winkler >= 0.8333333333333334 comparison level\", \"has_tf_adjustments\": false, \"tf_adjustment_column\": null, \"tf_adjustment_weight\": 1.0, \"is_null_level\": false, \"bayes_factor\": 24.123210549090185, \"log2_bayes_factor\": 4.592350022648251, \"comparison_vector_value\": 1, \"max_comparison_vector_value\": 2, \"bayes_factor_description\": \"If comparison level is `jaro_winkler >= 0.8333333333333334` then comparison is 24.12 times more likely to be a match\", \"probability_two_random_records_match\": 8.71674365172514e-05, \"comparison_sort_order\": 0, \"iteration\": 1}, {\"comparison_name\": \"last_name_12\", \"sql_condition\": \"ELSE\", \"label_for_charts\": \"All other comparisons\", \"m_probability\": 0.017682599920034844, \"u_probability\": 0.9981083480147196, \"m_probability_description\": \"Amongst matching record comparisons, 1.77% of records are in the all other comparisons comparison level\", \"u_probability_description\": \"Amongst non-matching record comparisons, 99.81% of records are in the all other comparisons comparison level\", \"has_tf_adjustments\": false, \"tf_adjustment_column\": null, \"tf_adjustment_weight\": 1.0, \"is_null_level\": false, \"bayes_factor\": 0.017716112639681147, \"log2_bayes_factor\": -5.818794114702755, \"comparison_vector_value\": 0, \"max_comparison_vector_value\": 2, \"bayes_factor_description\": \"If comparison level is `all other comparisons` then comparison is  56.45 times less likely to be a match\", \"probability_two_random_records_match\": 8.71674365172514e-05, \"comparison_sort_order\": 0, \"iteration\": 1}, {\"comparison_name\": \"middle_initial\", \"sql_condition\": \"`middle_initial_l` = `middle_initial_r`\", \"label_for_charts\": \"Exact match\", \"m_probability\": 0.9811120949725315, \"u_probability\": 0.06625810679844002, \"m_probability_description\": \"Amongst matching record comparisons, 98.11% of records are in the exact match comparison level\", \"u_probability_description\": \"Amongst non-matching record comparisons, 6.63% of records are in the exact match comparison level\", \"has_tf_adjustments\": false, \"tf_adjustment_column\": null, \"tf_adjustment_weight\": 1.0, \"is_null_level\": false, \"bayes_factor\": 14.807427232370467, \"log2_bayes_factor\": 3.8882490912511556, \"comparison_vector_value\": 1, \"max_comparison_vector_value\": 1, \"bayes_factor_description\": \"If comparison level is `exact match` then comparison is 14.81 times more likely to be a match\", \"probability_two_random_records_match\": 8.71674365172514e-05, \"comparison_sort_order\": 1, \"iteration\": 1}, {\"comparison_name\": \"middle_initial\", \"sql_condition\": \"ELSE\", \"label_for_charts\": \"All other comparisons\", \"m_probability\": 0.01888790502746851, \"u_probability\": 0.93374189320156, \"m_probability_description\": \"Amongst matching record comparisons, 1.89% of records are in the all other comparisons comparison level\", \"u_probability_description\": \"Amongst non-matching record comparisons, 93.37% of records are in the all other comparisons comparison level\", \"has_tf_adjustments\": false, \"tf_adjustment_column\": null, \"tf_adjustment_weight\": 1.0, \"is_null_level\": false, \"bayes_factor\": 0.02022818635962317, \"log2_bayes_factor\": -5.627489214775807, \"comparison_vector_value\": 0, \"max_comparison_vector_value\": 1, \"bayes_factor_description\": \"If comparison level is `all other comparisons` then comparison is  49.44 times less likely to be a match\", \"probability_two_random_records_match\": 8.71674365172514e-05, \"comparison_sort_order\": 1, \"iteration\": 1}, {\"comparison_name\": \"day_of_birth\", \"sql_condition\": \"`day_of_birth_l` = `day_of_birth_r`\", \"label_for_charts\": \"Exact match\", \"m_probability\": 0.9877722461265437, \"u_probability\": 0.03252879296232792, \"m_probability_description\": \"Amongst matching record comparisons, 98.78% of records are in the exact match comparison level\", \"u_probability_description\": \"Amongst non-matching record comparisons, 3.25% of records are in the exact match comparison level\", \"has_tf_adjustments\": false, \"tf_adjustment_column\": null, \"tf_adjustment_weight\": 1.0, \"is_null_level\": false, \"bayes_factor\": 30.366089736883183, \"log2_bayes_factor\": 4.924389238479668, \"comparison_vector_value\": 2, \"max_comparison_vector_value\": 2, \"bayes_factor_description\": \"If comparison level is `exact match` then comparison is 30.37 times more likely to be a match\", \"probability_two_random_records_match\": 8.71674365172514e-05, \"comparison_sort_order\": 2, \"iteration\": 1}, {\"comparison_name\": \"day_of_birth\", \"sql_condition\": \"abs(day_of_birth_l - day_of_birth_r) <= 5\", \"label_for_charts\": \"Inexact match\", \"m_probability\": 0.0071643407009673475, \"u_probability\": 0.29573920164687456, \"m_probability_description\": \"Amongst matching record comparisons, 0.72% of records are in the inexact match comparison level\", \"u_probability_description\": \"Amongst non-matching record comparisons, 29.57% of records are in the inexact match comparison level\", \"has_tf_adjustments\": false, \"tf_adjustment_column\": null, \"tf_adjustment_weight\": 1.0, \"is_null_level\": false, \"bayes_factor\": 0.024225197948298655, \"log2_bayes_factor\": -5.367347735574531, \"comparison_vector_value\": 1, \"max_comparison_vector_value\": 2, \"bayes_factor_description\": \"If comparison level is `inexact match` then comparison is  41.28 times less likely to be a match\", \"probability_two_random_records_match\": 8.71674365172514e-05, \"comparison_sort_order\": 2, \"iteration\": 1}, {\"comparison_name\": \"day_of_birth\", \"sql_condition\": \"ELSE\", \"label_for_charts\": \"All other comparisons\", \"m_probability\": 0.005063413172489014, \"u_probability\": 0.6717320053907976, \"m_probability_description\": \"Amongst matching record comparisons, 0.51% of records are in the all other comparisons comparison level\", \"u_probability_description\": \"Amongst non-matching record comparisons, 67.17% of records are in the all other comparisons comparison level\", \"has_tf_adjustments\": false, \"tf_adjustment_column\": null, \"tf_adjustment_weight\": 1.0, \"is_null_level\": false, \"bayes_factor\": 0.007537847135247399, \"log2_bayes_factor\": -7.051631746685115, \"comparison_vector_value\": 0, \"max_comparison_vector_value\": 2, \"bayes_factor_description\": \"If comparison level is `all other comparisons` then comparison is  132.66 times less likely to be a match\", \"probability_two_random_records_match\": 8.71674365172514e-05, \"comparison_sort_order\": 2, \"iteration\": 1}, {\"comparison_name\": \"month_of_birth\", \"sql_condition\": \"`month_of_birth_l` = `month_of_birth_r`\", \"label_for_charts\": \"Exact match\", \"m_probability\": 0.9894413211741984, \"u_probability\": 0.08350433151288077, \"m_probability_description\": \"Amongst matching record comparisons, 98.94% of records are in the exact match comparison level\", \"u_probability_description\": \"Amongst non-matching record comparisons, 8.35% of records are in the exact match comparison level\", \"has_tf_adjustments\": false, \"tf_adjustment_column\": null, \"tf_adjustment_weight\": 1.0, \"is_null_level\": false, \"bayes_factor\": 11.848982001868663, \"log2_bayes_factor\": 3.566691211062081, \"comparison_vector_value\": 2, \"max_comparison_vector_value\": 2, \"bayes_factor_description\": \"If comparison level is `exact match` then comparison is 11.85 times more likely to be a match\", \"probability_two_random_records_match\": 8.71674365172514e-05, \"comparison_sort_order\": 3, \"iteration\": 1}, {\"comparison_name\": \"month_of_birth\", \"sql_condition\": \"abs(month_of_birth_l - month_of_birth_r) <= 3\", \"label_for_charts\": \"Inexact match\", \"m_probability\": 0.005393646355869839, \"u_probability\": 0.4129544295915271, \"m_probability_description\": \"Amongst matching record comparisons, 0.54% of records are in the inexact match comparison level\", \"u_probability_description\": \"Amongst non-matching record comparisons, 41.30% of records are in the inexact match comparison level\", \"has_tf_adjustments\": false, \"tf_adjustment_column\": null, \"tf_adjustment_weight\": 1.0, \"is_null_level\": false, \"bayes_factor\": 0.013061117569812609, \"log2_bayes_factor\": -6.258577843928202, \"comparison_vector_value\": 1, \"max_comparison_vector_value\": 2, \"bayes_factor_description\": \"If comparison level is `inexact match` then comparison is  76.56 times less likely to be a match\", \"probability_two_random_records_match\": 8.71674365172514e-05, \"comparison_sort_order\": 3, \"iteration\": 1}, {\"comparison_name\": \"month_of_birth\", \"sql_condition\": \"ELSE\", \"label_for_charts\": \"All other comparisons\", \"m_probability\": 0.005165032469931836, \"u_probability\": 0.5035412388955921, \"m_probability_description\": \"Amongst matching record comparisons, 0.52% of records are in the all other comparisons comparison level\", \"u_probability_description\": \"Amongst non-matching record comparisons, 50.35% of records are in the all other comparisons comparison level\", \"has_tf_adjustments\": false, \"tf_adjustment_column\": null, \"tf_adjustment_weight\": 1.0, \"is_null_level\": false, \"bayes_factor\": 0.010257417011683508, \"log2_bayes_factor\": -6.607188707717514, \"comparison_vector_value\": 0, \"max_comparison_vector_value\": 2, \"bayes_factor_description\": \"If comparison level is `all other comparisons` then comparison is  97.49 times less likely to be a match\", \"probability_two_random_records_match\": 8.71674365172514e-05, \"comparison_sort_order\": 3, \"iteration\": 1}, {\"comparison_name\": \"year_of_birth\", \"sql_condition\": \"`year_of_birth_l` = `year_of_birth_r`\", \"label_for_charts\": \"Exact match\", \"m_probability\": 0.9904758042949291, \"u_probability\": 0.011084011593037122, \"m_probability_description\": \"Amongst matching record comparisons, 99.05% of records are in the exact match comparison level\", \"u_probability_description\": \"Amongst non-matching record comparisons, 1.11% of records are in the exact match comparison level\", \"has_tf_adjustments\": false, \"tf_adjustment_column\": null, \"tf_adjustment_weight\": 1.0, \"is_null_level\": false, \"bayes_factor\": 89.36076942730168, \"log2_bayes_factor\": 6.4815697028680965, \"comparison_vector_value\": 2, \"max_comparison_vector_value\": 2, \"bayes_factor_description\": \"If comparison level is `exact match` then comparison is 89.36 times more likely to be a match\", \"probability_two_random_records_match\": 8.71674365172514e-05, \"comparison_sort_order\": 4, \"iteration\": 1}, {\"comparison_name\": \"year_of_birth\", \"sql_condition\": \"abs(year_of_birth_l - year_of_birth_r) <= 5\", \"label_for_charts\": \"Inexact match\", \"m_probability\": 0.003390485519108698, \"u_probability\": 0.10937488974972305, \"m_probability_description\": \"Amongst matching record comparisons, 0.34% of records are in the inexact match comparison level\", \"u_probability_description\": \"Amongst non-matching record comparisons, 10.94% of records are in the inexact match comparison level\", \"has_tf_adjustments\": false, \"tf_adjustment_column\": null, \"tf_adjustment_weight\": 1.0, \"is_null_level\": false, \"bayes_factor\": 0.0309987559929612, \"log2_bayes_factor\": -5.01164586972028, \"comparison_vector_value\": 1, \"max_comparison_vector_value\": 2, \"bayes_factor_description\": \"If comparison level is `inexact match` then comparison is  32.26 times less likely to be a match\", \"probability_two_random_records_match\": 8.71674365172514e-05, \"comparison_sort_order\": 4, \"iteration\": 1}, {\"comparison_name\": \"year_of_birth\", \"sql_condition\": \"ELSE\", \"label_for_charts\": \"All other comparisons\", \"m_probability\": 0.0061337101859622765, \"u_probability\": 0.8795410986572398, \"m_probability_description\": \"Amongst matching record comparisons, 0.61% of records are in the all other comparisons comparison level\", \"u_probability_description\": \"Amongst non-matching record comparisons, 87.95% of records are in the all other comparisons comparison level\", \"has_tf_adjustments\": false, \"tf_adjustment_column\": null, \"tf_adjustment_weight\": 1.0, \"is_null_level\": false, \"bayes_factor\": 0.006973761880287761, \"log2_bayes_factor\": -7.163847180655431, \"comparison_vector_value\": 0, \"max_comparison_vector_value\": 2, \"bayes_factor_description\": \"If comparison level is `all other comparisons` then comparison is  143.39 times less likely to be a match\", \"probability_two_random_records_match\": 8.71674365172514e-05, \"comparison_sort_order\": 4, \"iteration\": 1}, {\"comparison_name\": \"geokey\", \"sql_condition\": \"`geokey_l` = `geokey_r`\", \"label_for_charts\": \"Exact match\", \"m_probability\": 0.6211725265592536, \"u_probability\": 0.0008192860645440116, \"m_probability_description\": \"Amongst matching record comparisons, 62.12% of records are in the exact match comparison level\", \"u_probability_description\": \"Amongst non-matching record comparisons, 0.08% of records are in the exact match comparison level\", \"has_tf_adjustments\": false, \"tf_adjustment_column\": null, \"tf_adjustment_weight\": 1.0, \"is_null_level\": false, \"bayes_factor\": 758.1875897095581, \"log2_bayes_factor\": 9.566411031918989, \"comparison_vector_value\": 2, \"max_comparison_vector_value\": 2, \"bayes_factor_description\": \"If comparison level is `exact match` then comparison is 758.19 times more likely to be a match\", \"probability_two_random_records_match\": 8.71674365172514e-05, \"comparison_sort_order\": 5, \"iteration\": 1}, {\"comparison_name\": \"geokey\", \"sql_condition\": \"jaro_winkler(`geokey_l`, `geokey_r`) >= 0.7222222222222222\", \"label_for_charts\": \"Jaro_winkler >= 0.7222222222222222\", \"m_probability\": 0.37156196709020006, \"u_probability\": 0.020822268769994993, \"m_probability_description\": \"Amongst matching record comparisons, 37.16% of records are in the jaro_winkler >= 0.7222222222222222 comparison level\", \"u_probability_description\": \"Amongst non-matching record comparisons, 2.08% of records are in the jaro_winkler >= 0.7222222222222222 comparison level\", \"has_tf_adjustments\": false, \"tf_adjustment_column\": null, \"tf_adjustment_weight\": 1.0, \"is_null_level\": false, \"bayes_factor\": 17.844451591443434, \"log2_bayes_factor\": 4.15740365901106, \"comparison_vector_value\": 1, \"max_comparison_vector_value\": 2, \"bayes_factor_description\": \"If comparison level is `jaro_winkler >= 0.7222222222222222` then comparison is 17.84 times more likely to be a match\", \"probability_two_random_records_match\": 8.71674365172514e-05, \"comparison_sort_order\": 5, \"iteration\": 1}, {\"comparison_name\": \"geokey\", \"sql_condition\": \"ELSE\", \"label_for_charts\": \"All other comparisons\", \"m_probability\": 0.007265506350546276, \"u_probability\": 0.978358445165461, \"m_probability_description\": \"Amongst matching record comparisons, 0.73% of records are in the all other comparisons comparison level\", \"u_probability_description\": \"Amongst non-matching record comparisons, 97.84% of records are in the all other comparisons comparison level\", \"has_tf_adjustments\": false, \"tf_adjustment_column\": null, \"tf_adjustment_weight\": 1.0, \"is_null_level\": false, \"bayes_factor\": 0.007426221326599297, \"log2_bayes_factor\": -7.0731559716201255, \"comparison_vector_value\": 0, \"max_comparison_vector_value\": 2, \"bayes_factor_description\": \"If comparison level is `all other comparisons` then comparison is  134.66 times less likely to be a match\", \"probability_two_random_records_match\": 8.71674365172514e-05, \"comparison_sort_order\": 5, \"iteration\": 1}, {\"comparison_name\": \"probability_two_random_records_match\", \"sql_condition\": null, \"label_for_charts\": \"\", \"m_probability\": null, \"u_probability\": null, \"m_probability_description\": null, \"u_probability_description\": null, \"has_tf_adjustments\": false, \"tf_adjustment_column\": null, \"tf_adjustment_weight\": null, \"is_null_level\": false, \"bayes_factor\": 8.717503534161042e-05, \"log2_bayes_factor\": -13.485725430552058, \"comparison_vector_value\": 0, \"max_comparison_vector_value\": 0, \"bayes_factor_description\": \"The probability that two random records drawn at random match is 0.000 or one in  11,472.2 records.This is equivalent to a starting match weight of -13.486.\", \"probability_two_random_records_match\": 8.71674365172514e-05, \"comparison_sort_order\": -1, \"iteration\": 2}, {\"comparison_name\": \"last_name_12\", \"sql_condition\": \"`last_name_12_l` = `last_name_12_r`\", \"label_for_charts\": \"Exact match\", \"m_probability\": 0.9501399599302432, \"u_probability\": 0.0006057226012092292, \"m_probability_description\": \"Amongst matching record comparisons, 95.01% of records are in the exact match comparison level\", \"u_probability_description\": \"Amongst non-matching record comparisons, 0.06% of records are in the exact match comparison level\", \"has_tf_adjustments\": false, \"tf_adjustment_column\": null, \"tf_adjustment_weight\": 1.0, \"is_null_level\": false, \"bayes_factor\": 1568.605757872398, \"log2_bayes_factor\": 10.615267085896175, \"comparison_vector_value\": 2, \"max_comparison_vector_value\": 2, \"bayes_factor_description\": \"If comparison level is `exact match` then comparison is 1,568.61 times more likely to be a match\", \"probability_two_random_records_match\": 8.71674365172514e-05, \"comparison_sort_order\": 0, \"iteration\": 2}, {\"comparison_name\": \"last_name_12\", \"sql_condition\": \"jaro_winkler(`last_name_12_l`, `last_name_12_r`) >= 0.8333333333333334\", \"label_for_charts\": \"Jaro_winkler >= 0.8333333333333334\", \"m_probability\": 0.03233105689656957, \"u_probability\": 0.0012859293840712192, \"m_probability_description\": \"Amongst matching record comparisons, 3.23% of records are in the jaro_winkler >= 0.8333333333333334 comparison level\", \"u_probability_description\": \"Amongst non-matching record comparisons, 0.13% of records are in the jaro_winkler >= 0.8333333333333334 comparison level\", \"has_tf_adjustments\": false, \"tf_adjustment_column\": null, \"tf_adjustment_weight\": 1.0, \"is_null_level\": false, \"bayes_factor\": 25.142171333086957, \"log2_bayes_factor\": 4.6520373443357155, \"comparison_vector_value\": 1, \"max_comparison_vector_value\": 2, \"bayes_factor_description\": \"If comparison level is `jaro_winkler >= 0.8333333333333334` then comparison is 25.14 times more likely to be a match\", \"probability_two_random_records_match\": 8.71674365172514e-05, \"comparison_sort_order\": 0, \"iteration\": 2}, {\"comparison_name\": \"last_name_12\", \"sql_condition\": \"ELSE\", \"label_for_charts\": \"All other comparisons\", \"m_probability\": 0.017528983173187185, \"u_probability\": 0.9981083480147196, \"m_probability_description\": \"Amongst matching record comparisons, 1.75% of records are in the all other comparisons comparison level\", \"u_probability_description\": \"Amongst non-matching record comparisons, 99.81% of records are in the all other comparisons comparison level\", \"has_tf_adjustments\": false, \"tf_adjustment_column\": null, \"tf_adjustment_weight\": 1.0, \"is_null_level\": false, \"bayes_factor\": 0.01756220475267348, \"log2_bayes_factor\": -5.831382218131367, \"comparison_vector_value\": 0, \"max_comparison_vector_value\": 2, \"bayes_factor_description\": \"If comparison level is `all other comparisons` then comparison is  56.94 times less likely to be a match\", \"probability_two_random_records_match\": 8.71674365172514e-05, \"comparison_sort_order\": 0, \"iteration\": 2}, {\"comparison_name\": \"middle_initial\", \"sql_condition\": \"`middle_initial_l` = `middle_initial_r`\", \"label_for_charts\": \"Exact match\", \"m_probability\": 0.9828703965661594, \"u_probability\": 0.06625810679844002, \"m_probability_description\": \"Amongst matching record comparisons, 98.29% of records are in the exact match comparison level\", \"u_probability_description\": \"Amongst non-matching record comparisons, 6.63% of records are in the exact match comparison level\", \"has_tf_adjustments\": false, \"tf_adjustment_column\": null, \"tf_adjustment_weight\": 1.0, \"is_null_level\": false, \"bayes_factor\": 14.83396438651791, \"log2_bayes_factor\": 3.890832305386898, \"comparison_vector_value\": 1, \"max_comparison_vector_value\": 1, \"bayes_factor_description\": \"If comparison level is `exact match` then comparison is 14.83 times more likely to be a match\", \"probability_two_random_records_match\": 8.71674365172514e-05, \"comparison_sort_order\": 1, \"iteration\": 2}, {\"comparison_name\": \"middle_initial\", \"sql_condition\": \"ELSE\", \"label_for_charts\": \"All other comparisons\", \"m_probability\": 0.01712960343384061, \"u_probability\": 0.93374189320156, \"m_probability_description\": \"Amongst matching record comparisons, 1.71% of records are in the all other comparisons comparison level\", \"u_probability_description\": \"Amongst non-matching record comparisons, 93.37% of records are in the all other comparisons comparison level\", \"has_tf_adjustments\": false, \"tf_adjustment_column\": null, \"tf_adjustment_weight\": 1.0, \"is_null_level\": false, \"bayes_factor\": 0.018345116095313686, \"log2_bayes_factor\": -5.768460155201714, \"comparison_vector_value\": 0, \"max_comparison_vector_value\": 1, \"bayes_factor_description\": \"If comparison level is `all other comparisons` then comparison is  54.51 times less likely to be a match\", \"probability_two_random_records_match\": 8.71674365172514e-05, \"comparison_sort_order\": 1, \"iteration\": 2}, {\"comparison_name\": \"day_of_birth\", \"sql_condition\": \"`day_of_birth_l` = `day_of_birth_r`\", \"label_for_charts\": \"Exact match\", \"m_probability\": 0.9913604932968911, \"u_probability\": 0.03252879296232792, \"m_probability_description\": \"Amongst matching record comparisons, 99.14% of records are in the exact match comparison level\", \"u_probability_description\": \"Amongst non-matching record comparisons, 3.25% of records are in the exact match comparison level\", \"has_tf_adjustments\": false, \"tf_adjustment_column\": null, \"tf_adjustment_weight\": 1.0, \"is_null_level\": false, \"bayes_factor\": 30.476399614489246, \"log2_bayes_factor\": 4.929620572353564, \"comparison_vector_value\": 2, \"max_comparison_vector_value\": 2, \"bayes_factor_description\": \"If comparison level is `exact match` then comparison is 30.48 times more likely to be a match\", \"probability_two_random_records_match\": 8.71674365172514e-05, \"comparison_sort_order\": 2, \"iteration\": 2}, {\"comparison_name\": \"day_of_birth\", \"sql_condition\": \"abs(day_of_birth_l - day_of_birth_r) <= 5\", \"label_for_charts\": \"Inexact match\", \"m_probability\": 0.0057379506138604906, \"u_probability\": 0.29573920164687456, \"m_probability_description\": \"Amongst matching record comparisons, 0.57% of records are in the inexact match comparison level\", \"u_probability_description\": \"Amongst non-matching record comparisons, 29.57% of records are in the inexact match comparison level\", \"has_tf_adjustments\": false, \"tf_adjustment_column\": null, \"tf_adjustment_weight\": 1.0, \"is_null_level\": false, \"bayes_factor\": 0.019402062972739925, \"log2_bayes_factor\": -5.687646131057803, \"comparison_vector_value\": 1, \"max_comparison_vector_value\": 2, \"bayes_factor_description\": \"If comparison level is `inexact match` then comparison is  51.54 times less likely to be a match\", \"probability_two_random_records_match\": 8.71674365172514e-05, \"comparison_sort_order\": 2, \"iteration\": 2}, {\"comparison_name\": \"day_of_birth\", \"sql_condition\": \"ELSE\", \"label_for_charts\": \"All other comparisons\", \"m_probability\": 0.0029015560892483093, \"u_probability\": 0.6717320053907976, \"m_probability_description\": \"Amongst matching record comparisons, 0.29% of records are in the all other comparisons comparison level\", \"u_probability_description\": \"Amongst non-matching record comparisons, 67.17% of records are in the all other comparisons comparison level\", \"has_tf_adjustments\": false, \"tf_adjustment_column\": null, \"tf_adjustment_weight\": 1.0, \"is_null_level\": false, \"bayes_factor\": 0.004319514428317664, \"log2_bayes_factor\": -7.854915141539834, \"comparison_vector_value\": 0, \"max_comparison_vector_value\": 2, \"bayes_factor_description\": \"If comparison level is `all other comparisons` then comparison is  231.51 times less likely to be a match\", \"probability_two_random_records_match\": 8.71674365172514e-05, \"comparison_sort_order\": 2, \"iteration\": 2}, {\"comparison_name\": \"month_of_birth\", \"sql_condition\": \"`month_of_birth_l` = `month_of_birth_r`\", \"label_for_charts\": \"Exact match\", \"m_probability\": 0.9925462721899289, \"u_probability\": 0.08350433151288077, \"m_probability_description\": \"Amongst matching record comparisons, 99.25% of records are in the exact match comparison level\", \"u_probability_description\": \"Amongst non-matching record comparisons, 8.35% of records are in the exact match comparison level\", \"has_tf_adjustments\": false, \"tf_adjustment_column\": null, \"tf_adjustment_weight\": 1.0, \"is_null_level\": false, \"bayes_factor\": 11.886165115121315, \"log2_bayes_factor\": 3.571211422098829, \"comparison_vector_value\": 2, \"max_comparison_vector_value\": 2, \"bayes_factor_description\": \"If comparison level is `exact match` then comparison is 11.89 times more likely to be a match\", \"probability_two_random_records_match\": 8.71674365172514e-05, \"comparison_sort_order\": 3, \"iteration\": 2}, {\"comparison_name\": \"month_of_birth\", \"sql_condition\": \"abs(month_of_birth_l - month_of_birth_r) <= 3\", \"label_for_charts\": \"Inexact match\", \"m_probability\": 0.00398882281852069, \"u_probability\": 0.4129544295915271, \"m_probability_description\": \"Amongst matching record comparisons, 0.40% of records are in the inexact match comparison level\", \"u_probability_description\": \"Amongst non-matching record comparisons, 41.30% of records are in the inexact match comparison level\", \"has_tf_adjustments\": false, \"tf_adjustment_column\": null, \"tf_adjustment_weight\": 1.0, \"is_null_level\": false, \"bayes_factor\": 0.009659232430237459, \"log2_bayes_factor\": -6.693875734636987, \"comparison_vector_value\": 1, \"max_comparison_vector_value\": 2, \"bayes_factor_description\": \"If comparison level is `inexact match` then comparison is  103.53 times less likely to be a match\", \"probability_two_random_records_match\": 8.71674365172514e-05, \"comparison_sort_order\": 3, \"iteration\": 2}, {\"comparison_name\": \"month_of_birth\", \"sql_condition\": \"ELSE\", \"label_for_charts\": \"All other comparisons\", \"m_probability\": 0.0034649049915505504, \"u_probability\": 0.5035412388955921, \"m_probability_description\": \"Amongst matching record comparisons, 0.35% of records are in the all other comparisons comparison level\", \"u_probability_description\": \"Amongst non-matching record comparisons, 50.35% of records are in the all other comparisons comparison level\", \"has_tf_adjustments\": false, \"tf_adjustment_column\": null, \"tf_adjustment_weight\": 1.0, \"is_null_level\": false, \"bayes_factor\": 0.00688107492278103, \"log2_bayes_factor\": -7.183150332433593, \"comparison_vector_value\": 0, \"max_comparison_vector_value\": 2, \"bayes_factor_description\": \"If comparison level is `all other comparisons` then comparison is  145.33 times less likely to be a match\", \"probability_two_random_records_match\": 8.71674365172514e-05, \"comparison_sort_order\": 3, \"iteration\": 2}, {\"comparison_name\": \"year_of_birth\", \"sql_condition\": \"`year_of_birth_l` = `year_of_birth_r`\", \"label_for_charts\": \"Exact match\", \"m_probability\": 0.9937932576877136, \"u_probability\": 0.011084011593037122, \"m_probability_description\": \"Amongst matching record comparisons, 99.38% of records are in the exact match comparison level\", \"u_probability_description\": \"Amongst non-matching record comparisons, 1.11% of records are in the exact match comparison level\", \"has_tf_adjustments\": false, \"tf_adjustment_column\": null, \"tf_adjustment_weight\": 1.0, \"is_null_level\": false, \"bayes_factor\": 89.66007021429009, \"log2_bayes_factor\": 6.486393724074853, \"comparison_vector_value\": 2, \"max_comparison_vector_value\": 2, \"bayes_factor_description\": \"If comparison level is `exact match` then comparison is 89.66 times more likely to be a match\", \"probability_two_random_records_match\": 8.71674365172514e-05, \"comparison_sort_order\": 4, \"iteration\": 2}, {\"comparison_name\": \"year_of_birth\", \"sql_condition\": \"abs(year_of_birth_l - year_of_birth_r) <= 5\", \"label_for_charts\": \"Inexact match\", \"m_probability\": 0.002012818727178288, \"u_probability\": 0.10937488974972305, \"m_probability_description\": \"Amongst matching record comparisons, 0.20% of records are in the inexact match comparison level\", \"u_probability_description\": \"Amongst non-matching record comparisons, 10.94% of records are in the inexact match comparison level\", \"has_tf_adjustments\": false, \"tf_adjustment_column\": null, \"tf_adjustment_weight\": 1.0, \"is_null_level\": false, \"bayes_factor\": 0.01840293262726132, \"log2_bayes_factor\": -5.7639205023142255, \"comparison_vector_value\": 1, \"max_comparison_vector_value\": 2, \"bayes_factor_description\": \"If comparison level is `inexact match` then comparison is  54.34 times less likely to be a match\", \"probability_two_random_records_match\": 8.71674365172514e-05, \"comparison_sort_order\": 4, \"iteration\": 2}, {\"comparison_name\": \"year_of_birth\", \"sql_condition\": \"ELSE\", \"label_for_charts\": \"All other comparisons\", \"m_probability\": 0.0041939235851080284, \"u_probability\": 0.8795410986572398, \"m_probability_description\": \"Amongst matching record comparisons, 0.42% of records are in the all other comparisons comparison level\", \"u_probability_description\": \"Amongst non-matching record comparisons, 87.95% of records are in the all other comparisons comparison level\", \"has_tf_adjustments\": false, \"tf_adjustment_column\": null, \"tf_adjustment_weight\": 1.0, \"is_null_level\": false, \"bayes_factor\": 0.004768308827763391, \"log2_bayes_factor\": -7.71230660719796, \"comparison_vector_value\": 0, \"max_comparison_vector_value\": 2, \"bayes_factor_description\": \"If comparison level is `all other comparisons` then comparison is  209.72 times less likely to be a match\", \"probability_two_random_records_match\": 8.71674365172514e-05, \"comparison_sort_order\": 4, \"iteration\": 2}, {\"comparison_name\": \"geokey\", \"sql_condition\": \"`geokey_l` = `geokey_r`\", \"label_for_charts\": \"Exact match\", \"m_probability\": 0.6117428037452278, \"u_probability\": 0.0008192860645440116, \"m_probability_description\": \"Amongst matching record comparisons, 61.17% of records are in the exact match comparison level\", \"u_probability_description\": \"Amongst non-matching record comparisons, 0.08% of records are in the exact match comparison level\", \"has_tf_adjustments\": false, \"tf_adjustment_column\": null, \"tf_adjustment_weight\": 1.0, \"is_null_level\": false, \"bayes_factor\": 746.6779068013371, \"log2_bayes_factor\": 9.5443422340334, \"comparison_vector_value\": 2, \"max_comparison_vector_value\": 2, \"bayes_factor_description\": \"If comparison level is `exact match` then comparison is 746.68 times more likely to be a match\", \"probability_two_random_records_match\": 8.71674365172514e-05, \"comparison_sort_order\": 5, \"iteration\": 2}, {\"comparison_name\": \"geokey\", \"sql_condition\": \"jaro_winkler(`geokey_l`, `geokey_r`) >= 0.7222222222222222\", \"label_for_charts\": \"Jaro_winkler >= 0.7222222222222222\", \"m_probability\": 0.38122005585846197, \"u_probability\": 0.020822268769994993, \"m_probability_description\": \"Amongst matching record comparisons, 38.12% of records are in the jaro_winkler >= 0.7222222222222222 comparison level\", \"u_probability_description\": \"Amongst non-matching record comparisons, 2.08% of records are in the jaro_winkler >= 0.7222222222222222 comparison level\", \"has_tf_adjustments\": false, \"tf_adjustment_column\": null, \"tf_adjustment_weight\": 1.0, \"is_null_level\": false, \"bayes_factor\": 18.308286194432483, \"log2_bayes_factor\": 4.194424844268775, \"comparison_vector_value\": 1, \"max_comparison_vector_value\": 2, \"bayes_factor_description\": \"If comparison level is `jaro_winkler >= 0.7222222222222222` then comparison is 18.31 times more likely to be a match\", \"probability_two_random_records_match\": 8.71674365172514e-05, \"comparison_sort_order\": 5, \"iteration\": 2}, {\"comparison_name\": \"geokey\", \"sql_condition\": \"ELSE\", \"label_for_charts\": \"All other comparisons\", \"m_probability\": 0.0070371403963101365, \"u_probability\": 0.978358445165461, \"m_probability_description\": \"Amongst matching record comparisons, 0.70% of records are in the all other comparisons comparison level\", \"u_probability_description\": \"Amongst non-matching record comparisons, 97.84% of records are in the all other comparisons comparison level\", \"has_tf_adjustments\": false, \"tf_adjustment_column\": null, \"tf_adjustment_weight\": 1.0, \"is_null_level\": false, \"bayes_factor\": 0.007192803855359993, \"log2_bayes_factor\": -7.1192300216886215, \"comparison_vector_value\": 0, \"max_comparison_vector_value\": 2, \"bayes_factor_description\": \"If comparison level is `all other comparisons` then comparison is  139.03 times less likely to be a match\", \"probability_two_random_records_match\": 8.71674365172514e-05, \"comparison_sort_order\": 5, \"iteration\": 2}, {\"comparison_name\": \"probability_two_random_records_match\", \"sql_condition\": null, \"label_for_charts\": \"\", \"m_probability\": null, \"u_probability\": null, \"m_probability_description\": null, \"u_probability_description\": null, \"has_tf_adjustments\": false, \"tf_adjustment_column\": null, \"tf_adjustment_weight\": null, \"is_null_level\": false, \"bayes_factor\": 8.717503534161042e-05, \"log2_bayes_factor\": -13.485725430552058, \"comparison_vector_value\": 0, \"max_comparison_vector_value\": 0, \"bayes_factor_description\": \"The probability that two random records drawn at random match is 0.000 or one in  11,472.2 records.This is equivalent to a starting match weight of -13.486.\", \"probability_two_random_records_match\": 8.71674365172514e-05, \"comparison_sort_order\": -1, \"iteration\": 3}, {\"comparison_name\": \"last_name_12\", \"sql_condition\": \"`last_name_12_l` = `last_name_12_r`\", \"label_for_charts\": \"Exact match\", \"m_probability\": 0.950186877806301, \"u_probability\": 0.0006057226012092292, \"m_probability_description\": \"Amongst matching record comparisons, 95.02% of records are in the exact match comparison level\", \"u_probability_description\": \"Amongst non-matching record comparisons, 0.06% of records are in the exact match comparison level\", \"has_tf_adjustments\": false, \"tf_adjustment_column\": null, \"tf_adjustment_weight\": 1.0, \"is_null_level\": false, \"bayes_factor\": 1568.6832155666693, \"log2_bayes_factor\": 10.61533832436504, \"comparison_vector_value\": 2, \"max_comparison_vector_value\": 2, \"bayes_factor_description\": \"If comparison level is `exact match` then comparison is 1,568.68 times more likely to be a match\", \"probability_two_random_records_match\": 8.71674365172514e-05, \"comparison_sort_order\": 0, \"iteration\": 3}, {\"comparison_name\": \"last_name_12\", \"sql_condition\": \"jaro_winkler(`last_name_12_l`, `last_name_12_r`) >= 0.8333333333333334\", \"label_for_charts\": \"Jaro_winkler >= 0.8333333333333334\", \"m_probability\": 0.03243560780750483, \"u_probability\": 0.0012859293840712192, \"m_probability_description\": \"Amongst matching record comparisons, 3.24% of records are in the jaro_winkler >= 0.8333333333333334 comparison level\", \"u_probability_description\": \"Amongst non-matching record comparisons, 0.13% of records are in the jaro_winkler >= 0.8333333333333334 comparison level\", \"has_tf_adjustments\": false, \"tf_adjustment_column\": null, \"tf_adjustment_weight\": 1.0, \"is_null_level\": false, \"bayes_factor\": 25.223475106241477, \"log2_bayes_factor\": 4.656695148236377, \"comparison_vector_value\": 1, \"max_comparison_vector_value\": 2, \"bayes_factor_description\": \"If comparison level is `jaro_winkler >= 0.8333333333333334` then comparison is 25.22 times more likely to be a match\", \"probability_two_random_records_match\": 8.71674365172514e-05, \"comparison_sort_order\": 0, \"iteration\": 3}, {\"comparison_name\": \"last_name_12\", \"sql_condition\": \"ELSE\", \"label_for_charts\": \"All other comparisons\", \"m_probability\": 0.017377514386194205, \"u_probability\": 0.9981083480147196, \"m_probability_description\": \"Amongst matching record comparisons, 1.74% of records are in the all other comparisons comparison level\", \"u_probability_description\": \"Amongst non-matching record comparisons, 99.81% of records are in the all other comparisons comparison level\", \"has_tf_adjustments\": false, \"tf_adjustment_column\": null, \"tf_adjustment_weight\": 1.0, \"is_null_level\": false, \"bayes_factor\": 0.01741044889641373, \"log2_bayes_factor\": -5.843902789067099, \"comparison_vector_value\": 0, \"max_comparison_vector_value\": 2, \"bayes_factor_description\": \"If comparison level is `all other comparisons` then comparison is  57.44 times less likely to be a match\", \"probability_two_random_records_match\": 8.71674365172514e-05, \"comparison_sort_order\": 0, \"iteration\": 3}, {\"comparison_name\": \"middle_initial\", \"sql_condition\": \"`middle_initial_l` = `middle_initial_r`\", \"label_for_charts\": \"Exact match\", \"m_probability\": 0.9830050378194325, \"u_probability\": 0.06625810679844002, \"m_probability_description\": \"Amongst matching record comparisons, 98.30% of records are in the exact match comparison level\", \"u_probability_description\": \"Amongst non-matching record comparisons, 6.63% of records are in the exact match comparison level\", \"has_tf_adjustments\": false, \"tf_adjustment_column\": null, \"tf_adjustment_weight\": 1.0, \"is_null_level\": false, \"bayes_factor\": 14.835996458663928, \"log2_bayes_factor\": 3.891029923471241, \"comparison_vector_value\": 1, \"max_comparison_vector_value\": 1, \"bayes_factor_description\": \"If comparison level is `exact match` then comparison is 14.84 times more likely to be a match\", \"probability_two_random_records_match\": 8.71674365172514e-05, \"comparison_sort_order\": 1, \"iteration\": 3}, {\"comparison_name\": \"middle_initial\", \"sql_condition\": \"ELSE\", \"label_for_charts\": \"All other comparisons\", \"m_probability\": 0.016994962180567574, \"u_probability\": 0.93374189320156, \"m_probability_description\": \"Amongst matching record comparisons, 1.70% of records are in the all other comparisons comparison level\", \"u_probability_description\": \"Amongst non-matching record comparisons, 93.37% of records are in the all other comparisons comparison level\", \"has_tf_adjustments\": false, \"tf_adjustment_column\": null, \"tf_adjustment_weight\": 1.0, \"is_null_level\": false, \"bayes_factor\": 0.018200920730134785, \"log2_bayes_factor\": -5.779844755878187, \"comparison_vector_value\": 0, \"max_comparison_vector_value\": 1, \"bayes_factor_description\": \"If comparison level is `all other comparisons` then comparison is  54.94 times less likely to be a match\", \"probability_two_random_records_match\": 8.71674365172514e-05, \"comparison_sort_order\": 1, \"iteration\": 3}, {\"comparison_name\": \"day_of_birth\", \"sql_condition\": \"`day_of_birth_l` = `day_of_birth_r`\", \"label_for_charts\": \"Exact match\", \"m_probability\": 0.9922264912681196, \"u_probability\": 0.03252879296232792, \"m_probability_description\": \"Amongst matching record comparisons, 99.22% of records are in the exact match comparison level\", \"u_probability_description\": \"Amongst non-matching record comparisons, 3.25% of records are in the exact match comparison level\", \"has_tf_adjustments\": false, \"tf_adjustment_column\": null, \"tf_adjustment_weight\": 1.0, \"is_null_level\": false, \"bayes_factor\": 30.50302212004091, \"log2_bayes_factor\": 4.930880281222005, \"comparison_vector_value\": 2, \"max_comparison_vector_value\": 2, \"bayes_factor_description\": \"If comparison level is `exact match` then comparison is 30.50 times more likely to be a match\", \"probability_two_random_records_match\": 8.71674365172514e-05, \"comparison_sort_order\": 2, \"iteration\": 3}, {\"comparison_name\": \"day_of_birth\", \"sql_condition\": \"abs(day_of_birth_l - day_of_birth_r) <= 5\", \"label_for_charts\": \"Inexact match\", \"m_probability\": 0.005349297906309803, \"u_probability\": 0.29573920164687456, \"m_probability_description\": \"Amongst matching record comparisons, 0.53% of records are in the inexact match comparison level\", \"u_probability_description\": \"Amongst non-matching record comparisons, 29.57% of records are in the inexact match comparison level\", \"has_tf_adjustments\": false, \"tf_adjustment_column\": null, \"tf_adjustment_weight\": 1.0, \"is_null_level\": false, \"bayes_factor\": 0.018087889182500386, \"log2_bayes_factor\": -5.788832131379969, \"comparison_vector_value\": 1, \"max_comparison_vector_value\": 2, \"bayes_factor_description\": \"If comparison level is `inexact match` then comparison is  55.29 times less likely to be a match\", \"probability_two_random_records_match\": 8.71674365172514e-05, \"comparison_sort_order\": 2, \"iteration\": 3}, {\"comparison_name\": \"day_of_birth\", \"sql_condition\": \"ELSE\", \"label_for_charts\": \"All other comparisons\", \"m_probability\": 0.0024242108255705984, \"u_probability\": 0.6717320053907976, \"m_probability_description\": \"Amongst matching record comparisons, 0.24% of records are in the all other comparisons comparison level\", \"u_probability_description\": \"Amongst non-matching record comparisons, 67.17% of records are in the all other comparisons comparison level\", \"has_tf_adjustments\": false, \"tf_adjustment_column\": null, \"tf_adjustment_weight\": 1.0, \"is_null_level\": false, \"bayes_factor\": 0.003608895818742849, \"log2_bayes_factor\": -8.1142267884074, \"comparison_vector_value\": 0, \"max_comparison_vector_value\": 2, \"bayes_factor_description\": \"If comparison level is `all other comparisons` then comparison is  277.09 times less likely to be a match\", \"probability_two_random_records_match\": 8.71674365172514e-05, \"comparison_sort_order\": 2, \"iteration\": 3}, {\"comparison_name\": \"month_of_birth\", \"sql_condition\": \"`month_of_birth_l` = `month_of_birth_r`\", \"label_for_charts\": \"Exact match\", \"m_probability\": 0.9932459562907444, \"u_probability\": 0.08350433151288077, \"m_probability_description\": \"Amongst matching record comparisons, 99.32% of records are in the exact match comparison level\", \"u_probability_description\": \"Amongst non-matching record comparisons, 8.35% of records are in the exact match comparison level\", \"has_tf_adjustments\": false, \"tf_adjustment_column\": null, \"tf_adjustment_weight\": 1.0, \"is_null_level\": false, \"bayes_factor\": 11.894544130774026, \"log2_bayes_factor\": 3.572228075109885, \"comparison_vector_value\": 2, \"max_comparison_vector_value\": 2, \"bayes_factor_description\": \"If comparison level is `exact match` then comparison is 11.89 times more likely to be a match\", \"probability_two_random_records_match\": 8.71674365172514e-05, \"comparison_sort_order\": 3, \"iteration\": 3}, {\"comparison_name\": \"month_of_birth\", \"sql_condition\": \"abs(month_of_birth_l - month_of_birth_r) <= 3\", \"label_for_charts\": \"Inexact match\", \"m_probability\": 0.003725979283113371, \"u_probability\": 0.4129544295915271, \"m_probability_description\": \"Amongst matching record comparisons, 0.37% of records are in the inexact match comparison level\", \"u_probability_description\": \"Amongst non-matching record comparisons, 41.30% of records are in the inexact match comparison level\", \"has_tf_adjustments\": false, \"tf_adjustment_column\": null, \"tf_adjustment_weight\": 1.0, \"is_null_level\": false, \"bayes_factor\": 0.00902273717416935, \"log2_bayes_factor\": -6.79221912295956, \"comparison_vector_value\": 1, \"max_comparison_vector_value\": 2, \"bayes_factor_description\": \"If comparison level is `inexact match` then comparison is  110.83 times less likely to be a match\", \"probability_two_random_records_match\": 8.71674365172514e-05, \"comparison_sort_order\": 3, \"iteration\": 3}, {\"comparison_name\": \"month_of_birth\", \"sql_condition\": \"ELSE\", \"label_for_charts\": \"All other comparisons\", \"m_probability\": 0.0030280644261421793, \"u_probability\": 0.5035412388955921, \"m_probability_description\": \"Amongst matching record comparisons, 0.30% of records are in the all other comparisons comparison level\", \"u_probability_description\": \"Amongst non-matching record comparisons, 50.35% of records are in the all other comparisons comparison level\", \"has_tf_adjustments\": false, \"tf_adjustment_column\": null, \"tf_adjustment_weight\": 1.0, \"is_null_level\": false, \"bayes_factor\": 0.006013538102228882, \"log2_bayes_factor\": -7.377570225399198, \"comparison_vector_value\": 0, \"max_comparison_vector_value\": 2, \"bayes_factor_description\": \"If comparison level is `all other comparisons` then comparison is  166.29 times less likely to be a match\", \"probability_two_random_records_match\": 8.71674365172514e-05, \"comparison_sort_order\": 3, \"iteration\": 3}, {\"comparison_name\": \"year_of_birth\", \"sql_condition\": \"`year_of_birth_l` = `year_of_birth_r`\", \"label_for_charts\": \"Exact match\", \"m_probability\": 0.9942017012358815, \"u_probability\": 0.011084011593037122, \"m_probability_description\": \"Amongst matching record comparisons, 99.42% of records are in the exact match comparison level\", \"u_probability_description\": \"Amongst non-matching record comparisons, 1.11% of records are in the exact match comparison level\", \"has_tf_adjustments\": false, \"tf_adjustment_column\": null, \"tf_adjustment_weight\": 1.0, \"is_null_level\": false, \"bayes_factor\": 89.69692000867539, \"log2_bayes_factor\": 6.486986541966137, \"comparison_vector_value\": 2, \"max_comparison_vector_value\": 2, \"bayes_factor_description\": \"If comparison level is `exact match` then comparison is 89.70 times more likely to be a match\", \"probability_two_random_records_match\": 8.71674365172514e-05, \"comparison_sort_order\": 4, \"iteration\": 3}, {\"comparison_name\": \"year_of_birth\", \"sql_condition\": \"abs(year_of_birth_l - year_of_birth_r) <= 5\", \"label_for_charts\": \"Inexact match\", \"m_probability\": 0.0018966095432139116, \"u_probability\": 0.10937488974972305, \"m_probability_description\": \"Amongst matching record comparisons, 0.19% of records are in the inexact match comparison level\", \"u_probability_description\": \"Amongst non-matching record comparisons, 10.94% of records are in the inexact match comparison level\", \"has_tf_adjustments\": false, \"tf_adjustment_column\": null, \"tf_adjustment_weight\": 1.0, \"is_null_level\": false, \"bayes_factor\": 0.01734044758859941, \"log2_bayes_factor\": -5.849715052142377, \"comparison_vector_value\": 1, \"max_comparison_vector_value\": 2, \"bayes_factor_description\": \"If comparison level is `inexact match` then comparison is  57.67 times less likely to be a match\", \"probability_two_random_records_match\": 8.71674365172514e-05, \"comparison_sort_order\": 4, \"iteration\": 3}, {\"comparison_name\": \"year_of_birth\", \"sql_condition\": \"ELSE\", \"label_for_charts\": \"All other comparisons\", \"m_probability\": 0.0039016892209045597, \"u_probability\": 0.8795410986572398, \"m_probability_description\": \"Amongst matching record comparisons, 0.39% of records are in the all other comparisons comparison level\", \"u_probability_description\": \"Amongst non-matching record comparisons, 87.95% of records are in the all other comparisons comparison level\", \"has_tf_adjustments\": false, \"tf_adjustment_column\": null, \"tf_adjustment_weight\": 1.0, \"is_null_level\": false, \"bayes_factor\": 0.004436051057603917, \"log2_bayes_factor\": -7.816508314084, \"comparison_vector_value\": 0, \"max_comparison_vector_value\": 2, \"bayes_factor_description\": \"If comparison level is `all other comparisons` then comparison is  225.43 times less likely to be a match\", \"probability_two_random_records_match\": 8.71674365172514e-05, \"comparison_sort_order\": 4, \"iteration\": 3}, {\"comparison_name\": \"geokey\", \"sql_condition\": \"`geokey_l` = `geokey_r`\", \"label_for_charts\": \"Exact match\", \"m_probability\": 0.6116449262009331, \"u_probability\": 0.0008192860645440116, \"m_probability_description\": \"Amongst matching record comparisons, 61.16% of records are in the exact match comparison level\", \"u_probability_description\": \"Amongst non-matching record comparisons, 0.08% of records are in the exact match comparison level\", \"has_tf_adjustments\": false, \"tf_adjustment_column\": null, \"tf_adjustment_weight\": 1.0, \"is_null_level\": false, \"bayes_factor\": 746.5584399282503, \"log2_bayes_factor\": 9.54411138743487, \"comparison_vector_value\": 2, \"max_comparison_vector_value\": 2, \"bayes_factor_description\": \"If comparison level is `exact match` then comparison is 746.56 times more likely to be a match\", \"probability_two_random_records_match\": 8.71674365172514e-05, \"comparison_sort_order\": 5, \"iteration\": 3}, {\"comparison_name\": \"geokey\", \"sql_condition\": \"jaro_winkler(`geokey_l`, `geokey_r`) >= 0.7222222222222222\", \"label_for_charts\": \"Jaro_winkler >= 0.7222222222222222\", \"m_probability\": 0.38131834513171303, \"u_probability\": 0.020822268769994993, \"m_probability_description\": \"Amongst matching record comparisons, 38.13% of records are in the jaro_winkler >= 0.7222222222222222 comparison level\", \"u_probability_description\": \"Amongst non-matching record comparisons, 2.08% of records are in the jaro_winkler >= 0.7222222222222222 comparison level\", \"has_tf_adjustments\": false, \"tf_adjustment_column\": null, \"tf_adjustment_weight\": 1.0, \"is_null_level\": false, \"bayes_factor\": 18.313006586544255, \"log2_bayes_factor\": 4.194796763762123, \"comparison_vector_value\": 1, \"max_comparison_vector_value\": 2, \"bayes_factor_description\": \"If comparison level is `jaro_winkler >= 0.7222222222222222` then comparison is 18.31 times more likely to be a match\", \"probability_two_random_records_match\": 8.71674365172514e-05, \"comparison_sort_order\": 5, \"iteration\": 3}, {\"comparison_name\": \"geokey\", \"sql_condition\": \"ELSE\", \"label_for_charts\": \"All other comparisons\", \"m_probability\": 0.007036728667353909, \"u_probability\": 0.978358445165461, \"m_probability_description\": \"Amongst matching record comparisons, 0.70% of records are in the all other comparisons comparison level\", \"u_probability_description\": \"Amongst non-matching record comparisons, 97.84% of records are in the all other comparisons comparison level\", \"has_tf_adjustments\": false, \"tf_adjustment_column\": null, \"tf_adjustment_weight\": 1.0, \"is_null_level\": false, \"bayes_factor\": 0.0071923830188473, \"log2_bayes_factor\": -7.119314433348389, \"comparison_vector_value\": 0, \"max_comparison_vector_value\": 2, \"bayes_factor_description\": \"If comparison level is `all other comparisons` then comparison is  139.04 times less likely to be a match\", \"probability_two_random_records_match\": 8.71674365172514e-05, \"comparison_sort_order\": 5, \"iteration\": 3}, {\"comparison_name\": \"probability_two_random_records_match\", \"sql_condition\": null, \"label_for_charts\": \"\", \"m_probability\": null, \"u_probability\": null, \"m_probability_description\": null, \"u_probability_description\": null, \"has_tf_adjustments\": false, \"tf_adjustment_column\": null, \"tf_adjustment_weight\": null, \"is_null_level\": false, \"bayes_factor\": 8.717503534161042e-05, \"log2_bayes_factor\": -13.485725430552058, \"comparison_vector_value\": 0, \"max_comparison_vector_value\": 0, \"bayes_factor_description\": \"The probability that two random records drawn at random match is 0.000 or one in  11,472.2 records.This is equivalent to a starting match weight of -13.486.\", \"probability_two_random_records_match\": 8.71674365172514e-05, \"comparison_sort_order\": -1, \"iteration\": 4}, {\"comparison_name\": \"last_name_12\", \"sql_condition\": \"`last_name_12_l` = `last_name_12_r`\", \"label_for_charts\": \"Exact match\", \"m_probability\": 0.9502055080643345, \"u_probability\": 0.0006057226012092292, \"m_probability_description\": \"Amongst matching record comparisons, 95.02% of records are in the exact match comparison level\", \"u_probability_description\": \"Amongst non-matching record comparisons, 0.06% of records are in the exact match comparison level\", \"has_tf_adjustments\": false, \"tf_adjustment_column\": null, \"tf_adjustment_weight\": 1.0, \"is_null_level\": false, \"bayes_factor\": 1568.713972645894, \"log2_bayes_factor\": 10.615366610924253, \"comparison_vector_value\": 2, \"max_comparison_vector_value\": 2, \"bayes_factor_description\": \"If comparison level is `exact match` then comparison is 1,568.71 times more likely to be a match\", \"probability_two_random_records_match\": 8.71674365172514e-05, \"comparison_sort_order\": 0, \"iteration\": 4}, {\"comparison_name\": \"last_name_12\", \"sql_condition\": \"jaro_winkler(`last_name_12_l`, `last_name_12_r`) >= 0.8333333333333334\", \"label_for_charts\": \"Jaro_winkler >= 0.8333333333333334\", \"m_probability\": 0.032447393527985424, \"u_probability\": 0.0012859293840712192, \"m_probability_description\": \"Amongst matching record comparisons, 3.24% of records are in the jaro_winkler >= 0.8333333333333334 comparison level\", \"u_probability_description\": \"Amongst non-matching record comparisons, 0.13% of records are in the jaro_winkler >= 0.8333333333333334 comparison level\", \"has_tf_adjustments\": false, \"tf_adjustment_column\": null, \"tf_adjustment_weight\": 1.0, \"is_null_level\": false, \"bayes_factor\": 25.23264024441048, \"log2_bayes_factor\": 4.657219267044931, \"comparison_vector_value\": 1, \"max_comparison_vector_value\": 2, \"bayes_factor_description\": \"If comparison level is `jaro_winkler >= 0.8333333333333334` then comparison is 25.23 times more likely to be a match\", \"probability_two_random_records_match\": 8.71674365172514e-05, \"comparison_sort_order\": 0, \"iteration\": 4}, {\"comparison_name\": \"last_name_12\", \"sql_condition\": \"ELSE\", \"label_for_charts\": \"All other comparisons\", \"m_probability\": 0.017347098407680124, \"u_probability\": 0.9981083480147196, \"m_probability_description\": \"Amongst matching record comparisons, 1.73% of records are in the all other comparisons comparison level\", \"u_probability_description\": \"Amongst non-matching record comparisons, 99.81% of records are in the all other comparisons comparison level\", \"has_tf_adjustments\": false, \"tf_adjustment_column\": null, \"tf_adjustment_weight\": 1.0, \"is_null_level\": false, \"bayes_factor\": 0.0173799752724083, \"log2_bayes_factor\": -5.846430160234569, \"comparison_vector_value\": 0, \"max_comparison_vector_value\": 2, \"bayes_factor_description\": \"If comparison level is `all other comparisons` then comparison is  57.54 times less likely to be a match\", \"probability_two_random_records_match\": 8.71674365172514e-05, \"comparison_sort_order\": 0, \"iteration\": 4}, {\"comparison_name\": \"middle_initial\", \"sql_condition\": \"`middle_initial_l` = `middle_initial_r`\", \"label_for_charts\": \"Exact match\", \"m_probability\": 0.9830190496225366, \"u_probability\": 0.06625810679844002, \"m_probability_description\": \"Amongst matching record comparisons, 98.30% of records are in the exact match comparison level\", \"u_probability_description\": \"Amongst non-matching record comparisons, 6.63% of records are in the exact match comparison level\", \"has_tf_adjustments\": false, \"tf_adjustment_column\": null, \"tf_adjustment_weight\": 1.0, \"is_null_level\": false, \"bayes_factor\": 14.836207931701436, \"log2_bayes_factor\": 3.8910504875721403, \"comparison_vector_value\": 1, \"max_comparison_vector_value\": 1, \"bayes_factor_description\": \"If comparison level is `exact match` then comparison is 14.84 times more likely to be a match\", \"probability_two_random_records_match\": 8.71674365172514e-05, \"comparison_sort_order\": 1, \"iteration\": 4}, {\"comparison_name\": \"middle_initial\", \"sql_condition\": \"ELSE\", \"label_for_charts\": \"All other comparisons\", \"m_probability\": 0.016980950377463482, \"u_probability\": 0.93374189320156, \"m_probability_description\": \"Amongst matching record comparisons, 1.70% of records are in the all other comparisons comparison level\", \"u_probability_description\": \"Amongst non-matching record comparisons, 93.37% of records are in the all other comparisons comparison level\", \"has_tf_adjustments\": false, \"tf_adjustment_column\": null, \"tf_adjustment_weight\": 1.0, \"is_null_level\": false, \"bayes_factor\": 0.018185914652752898, \"log2_bayes_factor\": -5.781034702430097, \"comparison_vector_value\": 0, \"max_comparison_vector_value\": 1, \"bayes_factor_description\": \"If comparison level is `all other comparisons` then comparison is  54.99 times less likely to be a match\", \"probability_two_random_records_match\": 8.71674365172514e-05, \"comparison_sort_order\": 1, \"iteration\": 4}, {\"comparison_name\": \"day_of_birth\", \"sql_condition\": \"`day_of_birth_l` = `day_of_birth_r`\", \"label_for_charts\": \"Exact match\", \"m_probability\": 0.9924806797860571, \"u_probability\": 0.03252879296232792, \"m_probability_description\": \"Amongst matching record comparisons, 99.25% of records are in the exact match comparison level\", \"u_probability_description\": \"Amongst non-matching record comparisons, 3.25% of records are in the exact match comparison level\", \"has_tf_adjustments\": false, \"tf_adjustment_column\": null, \"tf_adjustment_weight\": 1.0, \"is_null_level\": false, \"bayes_factor\": 30.510836382261825, \"log2_bayes_factor\": 4.931249823411031, \"comparison_vector_value\": 2, \"max_comparison_vector_value\": 2, \"bayes_factor_description\": \"If comparison level is `exact match` then comparison is 30.51 times more likely to be a match\", \"probability_two_random_records_match\": 8.71674365172514e-05, \"comparison_sort_order\": 2, \"iteration\": 4}, {\"comparison_name\": \"day_of_birth\", \"sql_condition\": \"abs(day_of_birth_l - day_of_birth_r) <= 5\", \"label_for_charts\": \"Inexact match\", \"m_probability\": 0.005239673120413665, \"u_probability\": 0.29573920164687456, \"m_probability_description\": \"Amongst matching record comparisons, 0.52% of records are in the inexact match comparison level\", \"u_probability_description\": \"Amongst non-matching record comparisons, 29.57% of records are in the inexact match comparison level\", \"has_tf_adjustments\": false, \"tf_adjustment_column\": null, \"tf_adjustment_weight\": 1.0, \"is_null_level\": false, \"bayes_factor\": 0.017717208578489577, \"log2_bayes_factor\": -5.818704870712625, \"comparison_vector_value\": 1, \"max_comparison_vector_value\": 2, \"bayes_factor_description\": \"If comparison level is `inexact match` then comparison is  56.44 times less likely to be a match\", \"probability_two_random_records_match\": 8.71674365172514e-05, \"comparison_sort_order\": 2, \"iteration\": 4}, {\"comparison_name\": \"day_of_birth\", \"sql_condition\": \"ELSE\", \"label_for_charts\": \"All other comparisons\", \"m_probability\": 0.0022796470935292127, \"u_probability\": 0.6717320053907976, \"m_probability_description\": \"Amongst matching record comparisons, 0.23% of records are in the all other comparisons comparison level\", \"u_probability_description\": \"Amongst non-matching record comparisons, 67.17% of records are in the all other comparisons comparison level\", \"has_tf_adjustments\": false, \"tf_adjustment_column\": null, \"tf_adjustment_weight\": 1.0, \"is_null_level\": false, \"bayes_factor\": 0.0033936853912491017, \"log2_bayes_factor\": -8.202931457413385, \"comparison_vector_value\": 0, \"max_comparison_vector_value\": 2, \"bayes_factor_description\": \"If comparison level is `all other comparisons` then comparison is  294.66 times less likely to be a match\", \"probability_two_random_records_match\": 8.71674365172514e-05, \"comparison_sort_order\": 2, \"iteration\": 4}, {\"comparison_name\": \"month_of_birth\", \"sql_condition\": \"`month_of_birth_l` = `month_of_birth_r`\", \"label_for_charts\": \"Exact match\", \"m_probability\": 0.9934641376168307, \"u_probability\": 0.08350433151288077, \"m_probability_description\": \"Amongst matching record comparisons, 99.35% of records are in the exact match comparison level\", \"u_probability_description\": \"Amongst non-matching record comparisons, 8.35% of records are in the exact match comparison level\", \"has_tf_adjustments\": false, \"tf_adjustment_column\": null, \"tf_adjustment_weight\": 1.0, \"is_null_level\": false, \"bayes_factor\": 11.897156945248836, \"log2_bayes_factor\": 3.572544949846053, \"comparison_vector_value\": 2, \"max_comparison_vector_value\": 2, \"bayes_factor_description\": \"If comparison level is `exact match` then comparison is 11.90 times more likely to be a match\", \"probability_two_random_records_match\": 8.71674365172514e-05, \"comparison_sort_order\": 3, \"iteration\": 4}, {\"comparison_name\": \"month_of_birth\", \"sql_condition\": \"abs(month_of_birth_l - month_of_birth_r) <= 3\", \"label_for_charts\": \"Inexact match\", \"m_probability\": 0.0036582098320020865, \"u_probability\": 0.4129544295915271, \"m_probability_description\": \"Amongst matching record comparisons, 0.37% of records are in the inexact match comparison level\", \"u_probability_description\": \"Amongst non-matching record comparisons, 41.30% of records are in the inexact match comparison level\", \"has_tf_adjustments\": false, \"tf_adjustment_column\": null, \"tf_adjustment_weight\": 1.0, \"is_null_level\": false, \"bayes_factor\": 0.008858628385753353, \"log2_bayes_factor\": -6.8187009464075095, \"comparison_vector_value\": 1, \"max_comparison_vector_value\": 2, \"bayes_factor_description\": \"If comparison level is `inexact match` then comparison is  112.88 times less likely to be a match\", \"probability_two_random_records_match\": 8.71674365172514e-05, \"comparison_sort_order\": 3, \"iteration\": 4}, {\"comparison_name\": \"month_of_birth\", \"sql_condition\": \"ELSE\", \"label_for_charts\": \"All other comparisons\", \"m_probability\": 0.002877652551167183, \"u_probability\": 0.5035412388955921, \"m_probability_description\": \"Amongst matching record comparisons, 0.29% of records are in the all other comparisons comparison level\", \"u_probability_description\": \"Amongst non-matching record comparisons, 50.35% of records are in the all other comparisons comparison level\", \"has_tf_adjustments\": false, \"tf_adjustment_column\": null, \"tf_adjustment_weight\": 1.0, \"is_null_level\": false, \"bayes_factor\": 0.005714829946160292, \"log2_bayes_factor\": -7.451073715265443, \"comparison_vector_value\": 0, \"max_comparison_vector_value\": 2, \"bayes_factor_description\": \"If comparison level is `all other comparisons` then comparison is  174.98 times less likely to be a match\", \"probability_two_random_records_match\": 8.71674365172514e-05, \"comparison_sort_order\": 3, \"iteration\": 4}, {\"comparison_name\": \"year_of_birth\", \"sql_condition\": \"`year_of_birth_l` = `year_of_birth_r`\", \"label_for_charts\": \"Exact match\", \"m_probability\": 0.9942877911723741, \"u_probability\": 0.011084011593037122, \"m_probability_description\": \"Amongst matching record comparisons, 99.43% of records are in the exact match comparison level\", \"u_probability_description\": \"Amongst non-matching record comparisons, 1.11% of records are in the exact match comparison level\", \"has_tf_adjustments\": false, \"tf_adjustment_column\": null, \"tf_adjustment_weight\": 1.0, \"is_null_level\": false, \"bayes_factor\": 89.70468704642792, \"log2_bayes_factor\": 6.487111462439692, \"comparison_vector_value\": 2, \"max_comparison_vector_value\": 2, \"bayes_factor_description\": \"If comparison level is `exact match` then comparison is 89.70 times more likely to be a match\", \"probability_two_random_records_match\": 8.71674365172514e-05, \"comparison_sort_order\": 4, \"iteration\": 4}, {\"comparison_name\": \"year_of_birth\", \"sql_condition\": \"abs(year_of_birth_l - year_of_birth_r) <= 5\", \"label_for_charts\": \"Inexact match\", \"m_probability\": 0.00187553911796665, \"u_probability\": 0.10937488974972305, \"m_probability_description\": \"Amongst matching record comparisons, 0.19% of records are in the inexact match comparison level\", \"u_probability_description\": \"Amongst non-matching record comparisons, 10.94% of records are in the inexact match comparison level\", \"has_tf_adjustments\": false, \"tf_adjustment_column\": null, \"tf_adjustment_weight\": 1.0, \"is_null_level\": false, \"bayes_factor\": 0.017147803506438727, \"log2_bayes_factor\": -5.86583239899254, \"comparison_vector_value\": 1, \"max_comparison_vector_value\": 2, \"bayes_factor_description\": \"If comparison level is `inexact match` then comparison is  58.32 times less likely to be a match\", \"probability_two_random_records_match\": 8.71674365172514e-05, \"comparison_sort_order\": 4, \"iteration\": 4}, {\"comparison_name\": \"year_of_birth\", \"sql_condition\": \"ELSE\", \"label_for_charts\": \"All other comparisons\", \"m_probability\": 0.0038366697096592654, \"u_probability\": 0.8795410986572398, \"m_probability_description\": \"Amongst matching record comparisons, 0.38% of records are in the all other comparisons comparison level\", \"u_probability_description\": \"Amongst non-matching record comparisons, 87.95% of records are in the all other comparisons comparison level\", \"has_tf_adjustments\": false, \"tf_adjustment_column\": null, \"tf_adjustment_weight\": 1.0, \"is_null_level\": false, \"bayes_factor\": 0.0043621266993851176, \"log2_bayes_factor\": -7.840752610529368, \"comparison_vector_value\": 0, \"max_comparison_vector_value\": 2, \"bayes_factor_description\": \"If comparison level is `all other comparisons` then comparison is  229.25 times less likely to be a match\", \"probability_two_random_records_match\": 8.71674365172514e-05, \"comparison_sort_order\": 4, \"iteration\": 4}, {\"comparison_name\": \"geokey\", \"sql_condition\": \"`geokey_l` = `geokey_r`\", \"label_for_charts\": \"Exact match\", \"m_probability\": 0.6116250341496671, \"u_probability\": 0.0008192860645440116, \"m_probability_description\": \"Amongst matching record comparisons, 61.16% of records are in the exact match comparison level\", \"u_probability_description\": \"Amongst non-matching record comparisons, 0.08% of records are in the exact match comparison level\", \"has_tf_adjustments\": false, \"tf_adjustment_column\": null, \"tf_adjustment_weight\": 1.0, \"is_null_level\": false, \"bayes_factor\": 746.5341601899185, \"log2_bayes_factor\": 9.544064467025398, \"comparison_vector_value\": 2, \"max_comparison_vector_value\": 2, \"bayes_factor_description\": \"If comparison level is `exact match` then comparison is 746.53 times more likely to be a match\", \"probability_two_random_records_match\": 8.71674365172514e-05, \"comparison_sort_order\": 5, \"iteration\": 4}, {\"comparison_name\": \"geokey\", \"sql_condition\": \"jaro_winkler(`geokey_l`, `geokey_r`) >= 0.7222222222222222\", \"label_for_charts\": \"Jaro_winkler >= 0.7222222222222222\", \"m_probability\": 0.38133673015200564, \"u_probability\": 0.020822268769994993, \"m_probability_description\": \"Amongst matching record comparisons, 38.13% of records are in the jaro_winkler >= 0.7222222222222222 comparison level\", \"u_probability_description\": \"Amongst non-matching record comparisons, 2.08% of records are in the jaro_winkler >= 0.7222222222222222 comparison level\", \"has_tf_adjustments\": false, \"tf_adjustment_column\": null, \"tf_adjustment_weight\": 1.0, \"is_null_level\": false, \"bayes_factor\": 18.313889536452148, \"log2_bayes_factor\": 4.194866320704619, \"comparison_vector_value\": 1, \"max_comparison_vector_value\": 2, \"bayes_factor_description\": \"If comparison level is `jaro_winkler >= 0.7222222222222222` then comparison is 18.31 times more likely to be a match\", \"probability_two_random_records_match\": 8.71674365172514e-05, \"comparison_sort_order\": 5, \"iteration\": 4}, {\"comparison_name\": \"geokey\", \"sql_condition\": \"ELSE\", \"label_for_charts\": \"All other comparisons\", \"m_probability\": 0.007038235698327354, \"u_probability\": 0.978358445165461, \"m_probability_description\": \"Amongst matching record comparisons, 0.70% of records are in the all other comparisons comparison level\", \"u_probability_description\": \"Amongst non-matching record comparisons, 97.84% of records are in the all other comparisons comparison level\", \"has_tf_adjustments\": false, \"tf_adjustment_column\": null, \"tf_adjustment_weight\": 1.0, \"is_null_level\": false, \"bayes_factor\": 0.007193923385755657, \"log2_bayes_factor\": -7.119005489600657, \"comparison_vector_value\": 0, \"max_comparison_vector_value\": 2, \"bayes_factor_description\": \"If comparison level is `all other comparisons` then comparison is  139.01 times less likely to be a match\", \"probability_two_random_records_match\": 8.71674365172514e-05, \"comparison_sort_order\": 5, \"iteration\": 4}, {\"comparison_name\": \"probability_two_random_records_match\", \"sql_condition\": null, \"label_for_charts\": \"\", \"m_probability\": null, \"u_probability\": null, \"m_probability_description\": null, \"u_probability_description\": null, \"has_tf_adjustments\": false, \"tf_adjustment_column\": null, \"tf_adjustment_weight\": null, \"is_null_level\": false, \"bayes_factor\": 8.717503534161042e-05, \"log2_bayes_factor\": -13.485725430552058, \"comparison_vector_value\": 0, \"max_comparison_vector_value\": 0, \"bayes_factor_description\": \"The probability that two random records drawn at random match is 0.000 or one in  11,472.2 records.This is equivalent to a starting match weight of -13.486.\", \"probability_two_random_records_match\": 8.71674365172514e-05, \"comparison_sort_order\": -1, \"iteration\": 5}, {\"comparison_name\": \"last_name_12\", \"sql_condition\": \"`last_name_12_l` = `last_name_12_r`\", \"label_for_charts\": \"Exact match\", \"m_probability\": 0.9502085960060338, \"u_probability\": 0.0006057226012092292, \"m_probability_description\": \"Amongst matching record comparisons, 95.02% of records are in the exact match comparison level\", \"u_probability_description\": \"Amongst non-matching record comparisons, 0.06% of records are in the exact match comparison level\", \"has_tf_adjustments\": false, \"tf_adjustment_column\": null, \"tf_adjustment_weight\": 1.0, \"is_null_level\": false, \"bayes_factor\": 1568.7190705928638, \"log2_bayes_factor\": 10.615371299332075, \"comparison_vector_value\": 2, \"max_comparison_vector_value\": 2, \"bayes_factor_description\": \"If comparison level is `exact match` then comparison is 1,568.72 times more likely to be a match\", \"probability_two_random_records_match\": 8.71674365172514e-05, \"comparison_sort_order\": 0, \"iteration\": 5}, {\"comparison_name\": \"last_name_12\", \"sql_condition\": \"jaro_winkler(`last_name_12_l`, `last_name_12_r`) >= 0.8333333333333334\", \"label_for_charts\": \"Jaro_winkler >= 0.8333333333333334\", \"m_probability\": 0.032450078802598835, \"u_probability\": 0.0012859293840712192, \"m_probability_description\": \"Amongst matching record comparisons, 3.25% of records are in the jaro_winkler >= 0.8333333333333334 comparison level\", \"u_probability_description\": \"Amongst non-matching record comparisons, 0.13% of records are in the jaro_winkler >= 0.8333333333333334 comparison level\", \"has_tf_adjustments\": false, \"tf_adjustment_column\": null, \"tf_adjustment_weight\": 1.0, \"is_null_level\": false, \"bayes_factor\": 25.234728441979236, \"log2_bayes_factor\": 4.6573386563595305, \"comparison_vector_value\": 1, \"max_comparison_vector_value\": 2, \"bayes_factor_description\": \"If comparison level is `jaro_winkler >= 0.8333333333333334` then comparison is 25.23 times more likely to be a match\", \"probability_two_random_records_match\": 8.71674365172514e-05, \"comparison_sort_order\": 0, \"iteration\": 5}, {\"comparison_name\": \"last_name_12\", \"sql_condition\": \"ELSE\", \"label_for_charts\": \"All other comparisons\", \"m_probability\": 0.017341325191367385, \"u_probability\": 0.9981083480147196, \"m_probability_description\": \"Amongst matching record comparisons, 1.73% of records are in the all other comparisons comparison level\", \"u_probability_description\": \"Amongst non-matching record comparisons, 99.81% of records are in the all other comparisons comparison level\", \"has_tf_adjustments\": false, \"tf_adjustment_column\": null, \"tf_adjustment_weight\": 1.0, \"is_null_level\": false, \"bayes_factor\": 0.017374191114481737, \"log2_bayes_factor\": -5.846910377538044, \"comparison_vector_value\": 0, \"max_comparison_vector_value\": 2, \"bayes_factor_description\": \"If comparison level is `all other comparisons` then comparison is  57.56 times less likely to be a match\", \"probability_two_random_records_match\": 8.71674365172514e-05, \"comparison_sort_order\": 0, \"iteration\": 5}, {\"comparison_name\": \"middle_initial\", \"sql_condition\": \"`middle_initial_l` = `middle_initial_r`\", \"label_for_charts\": \"Exact match\", \"m_probability\": 0.9830203683847073, \"u_probability\": 0.06625810679844002, \"m_probability_description\": \"Amongst matching record comparisons, 98.30% of records are in the exact match comparison level\", \"u_probability_description\": \"Amongst non-matching record comparisons, 6.63% of records are in the exact match comparison level\", \"has_tf_adjustments\": false, \"tf_adjustment_column\": null, \"tf_adjustment_weight\": 1.0, \"is_null_level\": false, \"bayes_factor\": 14.836227835110005, \"log2_bayes_factor\": 3.891052423008049, \"comparison_vector_value\": 1, \"max_comparison_vector_value\": 1, \"bayes_factor_description\": \"If comparison level is `exact match` then comparison is 14.84 times more likely to be a match\", \"probability_two_random_records_match\": 8.71674365172514e-05, \"comparison_sort_order\": 1, \"iteration\": 5}, {\"comparison_name\": \"middle_initial\", \"sql_condition\": \"ELSE\", \"label_for_charts\": \"All other comparisons\", \"m_probability\": 0.01697963161529277, \"u_probability\": 0.93374189320156, \"m_probability_description\": \"Amongst matching record comparisons, 1.70% of records are in the all other comparisons comparison level\", \"u_probability_description\": \"Amongst non-matching record comparisons, 93.37% of records are in the all other comparisons comparison level\", \"has_tf_adjustments\": false, \"tf_adjustment_column\": null, \"tf_adjustment_weight\": 1.0, \"is_null_level\": false, \"bayes_factor\": 0.018184502311526362, \"log2_bayes_factor\": -5.781146748309945, \"comparison_vector_value\": 0, \"max_comparison_vector_value\": 1, \"bayes_factor_description\": \"If comparison level is `all other comparisons` then comparison is  54.99 times less likely to be a match\", \"probability_two_random_records_match\": 8.71674365172514e-05, \"comparison_sort_order\": 1, \"iteration\": 5}, {\"comparison_name\": \"day_of_birth\", \"sql_condition\": \"`day_of_birth_l` = `day_of_birth_r`\", \"label_for_charts\": \"Exact match\", \"m_probability\": 0.9925640747946262, \"u_probability\": 0.03252879296232792, \"m_probability_description\": \"Amongst matching record comparisons, 99.26% of records are in the exact match comparison level\", \"u_probability_description\": \"Amongst non-matching record comparisons, 3.25% of records are in the exact match comparison level\", \"has_tf_adjustments\": false, \"tf_adjustment_column\": null, \"tf_adjustment_weight\": 1.0, \"is_null_level\": false, \"bayes_factor\": 30.51340011122237, \"log2_bayes_factor\": 4.931371043413846, \"comparison_vector_value\": 2, \"max_comparison_vector_value\": 2, \"bayes_factor_description\": \"If comparison level is `exact match` then comparison is 30.51 times more likely to be a match\", \"probability_two_random_records_match\": 8.71674365172514e-05, \"comparison_sort_order\": 2, \"iteration\": 5}, {\"comparison_name\": \"day_of_birth\", \"sql_condition\": \"abs(day_of_birth_l - day_of_birth_r) <= 5\", \"label_for_charts\": \"Inexact match\", \"m_probability\": 0.005206633379685002, \"u_probability\": 0.29573920164687456, \"m_probability_description\": \"Amongst matching record comparisons, 0.52% of records are in the inexact match comparison level\", \"u_probability_description\": \"Amongst non-matching record comparisons, 29.57% of records are in the inexact match comparison level\", \"has_tf_adjustments\": false, \"tf_adjustment_column\": null, \"tf_adjustment_weight\": 1.0, \"is_null_level\": false, \"bayes_factor\": 0.017605489399751432, \"log2_bayes_factor\": -5.827830857786358, \"comparison_vector_value\": 1, \"max_comparison_vector_value\": 2, \"bayes_factor_description\": \"If comparison level is `inexact match` then comparison is  56.80 times less likely to be a match\", \"probability_two_random_records_match\": 8.71674365172514e-05, \"comparison_sort_order\": 2, \"iteration\": 5}, {\"comparison_name\": \"day_of_birth\", \"sql_condition\": \"ELSE\", \"label_for_charts\": \"All other comparisons\", \"m_probability\": 0.0022292918256888805, \"u_probability\": 0.6717320053907976, \"m_probability_description\": \"Amongst matching record comparisons, 0.22% of records are in the all other comparisons comparison level\", \"u_probability_description\": \"Amongst non-matching record comparisons, 67.17% of records are in the all other comparisons comparison level\", \"has_tf_adjustments\": false, \"tf_adjustment_column\": null, \"tf_adjustment_weight\": 1.0, \"is_null_level\": false, \"bayes_factor\": 0.0033187220614744, \"log2_bayes_factor\": -8.235156473963222, \"comparison_vector_value\": 0, \"max_comparison_vector_value\": 2, \"bayes_factor_description\": \"If comparison level is `all other comparisons` then comparison is  301.32 times less likely to be a match\", \"probability_two_random_records_match\": 8.71674365172514e-05, \"comparison_sort_order\": 2, \"iteration\": 5}, {\"comparison_name\": \"month_of_birth\", \"sql_condition\": \"`month_of_birth_l` = `month_of_birth_r`\", \"label_for_charts\": \"Exact match\", \"m_probability\": 0.9935377503968408, \"u_probability\": 0.08350433151288077, \"m_probability_description\": \"Amongst matching record comparisons, 99.35% of records are in the exact match comparison level\", \"u_probability_description\": \"Amongst non-matching record comparisons, 8.35% of records are in the exact match comparison level\", \"has_tf_adjustments\": false, \"tf_adjustment_column\": null, \"tf_adjustment_weight\": 1.0, \"is_null_level\": false, \"bayes_factor\": 11.898038489699003, \"log2_bayes_factor\": 3.57265184535869, \"comparison_vector_value\": 2, \"max_comparison_vector_value\": 2, \"bayes_factor_description\": \"If comparison level is `exact match` then comparison is 11.90 times more likely to be a match\", \"probability_two_random_records_match\": 8.71674365172514e-05, \"comparison_sort_order\": 3, \"iteration\": 5}, {\"comparison_name\": \"month_of_birth\", \"sql_condition\": \"abs(month_of_birth_l - month_of_birth_r) <= 3\", \"label_for_charts\": \"Inexact match\", \"m_probability\": 0.00363927525453865, \"u_probability\": 0.4129544295915271, \"m_probability_description\": \"Amongst matching record comparisons, 0.36% of records are in the inexact match comparison level\", \"u_probability_description\": \"Amongst non-matching record comparisons, 41.30% of records are in the inexact match comparison level\", \"has_tf_adjustments\": false, \"tf_adjustment_column\": null, \"tf_adjustment_weight\": 1.0, \"is_null_level\": false, \"bayes_factor\": 0.008812776891964642, \"log2_bayes_factor\": -6.826187602970967, \"comparison_vector_value\": 1, \"max_comparison_vector_value\": 2, \"bayes_factor_description\": \"If comparison level is `inexact match` then comparison is  113.47 times less likely to be a match\", \"probability_two_random_records_match\": 8.71674365172514e-05, \"comparison_sort_order\": 3, \"iteration\": 5}, {\"comparison_name\": \"month_of_birth\", \"sql_condition\": \"ELSE\", \"label_for_charts\": \"All other comparisons\", \"m_probability\": 0.002822974348620642, \"u_probability\": 0.5035412388955921, \"m_probability_description\": \"Amongst matching record comparisons, 0.28% of records are in the all other comparisons comparison level\", \"u_probability_description\": \"Amongst non-matching record comparisons, 50.35% of records are in the all other comparisons comparison level\", \"has_tf_adjustments\": false, \"tf_adjustment_column\": null, \"tf_adjustment_weight\": 1.0, \"is_null_level\": false, \"bayes_factor\": 0.005606242608474771, \"log2_bayes_factor\": -7.47875010674369, \"comparison_vector_value\": 0, \"max_comparison_vector_value\": 2, \"bayes_factor_description\": \"If comparison level is `all other comparisons` then comparison is  178.37 times less likely to be a match\", \"probability_two_random_records_match\": 8.71674365172514e-05, \"comparison_sort_order\": 3, \"iteration\": 5}, {\"comparison_name\": \"year_of_birth\", \"sql_condition\": \"`year_of_birth_l` = `year_of_birth_r`\", \"label_for_charts\": \"Exact match\", \"m_probability\": 0.9943116968695347, \"u_probability\": 0.011084011593037122, \"m_probability_description\": \"Amongst matching record comparisons, 99.43% of records are in the exact match comparison level\", \"u_probability_description\": \"Amongst non-matching record comparisons, 1.11% of records are in the exact match comparison level\", \"has_tf_adjustments\": false, \"tf_adjustment_column\": null, \"tf_adjustment_weight\": 1.0, \"is_null_level\": false, \"bayes_factor\": 89.70684381944822, \"log2_bayes_factor\": 6.487146148791521, \"comparison_vector_value\": 2, \"max_comparison_vector_value\": 2, \"bayes_factor_description\": \"If comparison level is `exact match` then comparison is 89.71 times more likely to be a match\", \"probability_two_random_records_match\": 8.71674365172514e-05, \"comparison_sort_order\": 4, \"iteration\": 5}, {\"comparison_name\": \"year_of_birth\", \"sql_condition\": \"abs(year_of_birth_l - year_of_birth_r) <= 5\", \"label_for_charts\": \"Inexact match\", \"m_probability\": 0.0018697599153210485, \"u_probability\": 0.10937488974972305, \"m_probability_description\": \"Amongst matching record comparisons, 0.19% of records are in the inexact match comparison level\", \"u_probability_description\": \"Amongst non-matching record comparisons, 10.94% of records are in the inexact match comparison level\", \"has_tf_adjustments\": false, \"tf_adjustment_column\": null, \"tf_adjustment_weight\": 1.0, \"is_null_level\": false, \"bayes_factor\": 0.01709496502898905, \"log2_bayes_factor\": -5.870284718308224, \"comparison_vector_value\": 1, \"max_comparison_vector_value\": 2, \"bayes_factor_description\": \"If comparison level is `inexact match` then comparison is  58.50 times less likely to be a match\", \"probability_two_random_records_match\": 8.71674365172514e-05, \"comparison_sort_order\": 4, \"iteration\": 5}, {\"comparison_name\": \"year_of_birth\", \"sql_condition\": \"ELSE\", \"label_for_charts\": \"All other comparisons\", \"m_probability\": 0.0038185432151441536, \"u_probability\": 0.8795410986572398, \"m_probability_description\": \"Amongst matching record comparisons, 0.38% of records are in the all other comparisons comparison level\", \"u_probability_description\": \"Amongst non-matching record comparisons, 87.95% of records are in the all other comparisons comparison level\", \"has_tf_adjustments\": false, \"tf_adjustment_column\": null, \"tf_adjustment_weight\": 1.0, \"is_null_level\": false, \"bayes_factor\": 0.004341517662987859, \"log2_bayes_factor\": -7.847584831364231, \"comparison_vector_value\": 0, \"max_comparison_vector_value\": 2, \"bayes_factor_description\": \"If comparison level is `all other comparisons` then comparison is  230.33 times less likely to be a match\", \"probability_two_random_records_match\": 8.71674365172514e-05, \"comparison_sort_order\": 4, \"iteration\": 5}, {\"comparison_name\": \"geokey\", \"sql_condition\": \"`geokey_l` = `geokey_r`\", \"label_for_charts\": \"Exact match\", \"m_probability\": 0.6116170612953316, \"u_probability\": 0.0008192860645440116, \"m_probability_description\": \"Amongst matching record comparisons, 61.16% of records are in the exact match comparison level\", \"u_probability_description\": \"Amongst non-matching record comparisons, 0.08% of records are in the exact match comparison level\", \"has_tf_adjustments\": false, \"tf_adjustment_column\": null, \"tf_adjustment_weight\": 1.0, \"is_null_level\": false, \"bayes_factor\": 746.5244287240965, \"log2_bayes_factor\": 9.544045660613397, \"comparison_vector_value\": 2, \"max_comparison_vector_value\": 2, \"bayes_factor_description\": \"If comparison level is `exact match` then comparison is 746.52 times more likely to be a match\", \"probability_two_random_records_match\": 8.71674365172514e-05, \"comparison_sort_order\": 5, \"iteration\": 5}, {\"comparison_name\": \"geokey\", \"sql_condition\": \"jaro_winkler(`geokey_l`, `geokey_r`) >= 0.7222222222222222\", \"label_for_charts\": \"Jaro_winkler >= 0.7222222222222222\", \"m_probability\": 0.38134415738767535, \"u_probability\": 0.020822268769994993, \"m_probability_description\": \"Amongst matching record comparisons, 38.13% of records are in the jaro_winkler >= 0.7222222222222222 comparison level\", \"u_probability_description\": \"Amongst non-matching record comparisons, 2.08% of records are in the jaro_winkler >= 0.7222222222222222 comparison level\", \"has_tf_adjustments\": false, \"tf_adjustment_column\": null, \"tf_adjustment_weight\": 1.0, \"is_null_level\": false, \"bayes_factor\": 18.314246233205598, \"log2_bayes_factor\": 4.194894419575965, \"comparison_vector_value\": 1, \"max_comparison_vector_value\": 2, \"bayes_factor_description\": \"If comparison level is `jaro_winkler >= 0.7222222222222222` then comparison is 18.31 times more likely to be a match\", \"probability_two_random_records_match\": 8.71674365172514e-05, \"comparison_sort_order\": 5, \"iteration\": 5}, {\"comparison_name\": \"geokey\", \"sql_condition\": \"ELSE\", \"label_for_charts\": \"All other comparisons\", \"m_probability\": 0.007038781316992969, \"u_probability\": 0.978358445165461, \"m_probability_description\": \"Amongst matching record comparisons, 0.70% of records are in the all other comparisons comparison level\", \"u_probability_description\": \"Amongst non-matching record comparisons, 97.84% of records are in the all other comparisons comparison level\", \"has_tf_adjustments\": false, \"tf_adjustment_column\": null, \"tf_adjustment_weight\": 1.0, \"is_null_level\": false, \"bayes_factor\": 0.0071944810736545165, \"log2_bayes_factor\": -7.118893653216197, \"comparison_vector_value\": 0, \"max_comparison_vector_value\": 2, \"bayes_factor_description\": \"If comparison level is `all other comparisons` then comparison is  139.00 times less likely to be a match\", \"probability_two_random_records_match\": 8.71674365172514e-05, \"comparison_sort_order\": 5, \"iteration\": 5}]}}, {\"mode\": \"vega-lite\"});\n",
       "</script>"
      ],
      "text/plain": [
       "alt.VConcatChart(...)"
      ]
     },
     "execution_count": 58,
     "metadata": {},
     "output_type": "execute_result"
    }
   ],
   "source": [
    "em_session_1.match_weights_interactive_history_chart()"
   ]
  },
  {
   "cell_type": "code",
   "execution_count": 59,
   "id": "71478531-8837-48f4-8748-a65c5d8fa7cd",
   "metadata": {
    "execution": {
     "iopub.execute_input": "2024-05-16T06:22:59.080266Z",
     "iopub.status.busy": "2024-05-16T06:22:59.079639Z",
     "iopub.status.idle": "2024-05-16T06:30:04.879781Z",
     "shell.execute_reply": "2024-05-16T06:30:04.878617Z"
    },
    "papermill": {
     "duration": 425.833796,
     "end_time": "2024-05-16T06:30:04.882303",
     "exception": false,
     "start_time": "2024-05-16T06:22:59.048507",
     "status": "completed"
    },
    "tags": []
   },
   "outputs": [
    {
     "name": "stderr",
     "output_type": "stream",
     "text": [
      "\n",
      "----- Starting EM training session -----\n",
      "\n"
     ]
    },
    {
     "name": "stderr",
     "output_type": "stream",
     "text": [
      "Estimating the m probabilities of the model by blocking on:\n",
      "l.geokey = r.geokey\n",
      "\n",
      "Parameter estimates will be made for the following comparison(s):\n",
      "    - first_name_15\n",
      "    - last_name_12\n",
      "    - middle_initial\n",
      "    - day_of_birth\n",
      "    - month_of_birth\n",
      "    - year_of_birth\n",
      "\n",
      "Parameter estimates cannot be made for the following comparison(s) since they are used in the blocking rules: \n",
      "    - geokey\n"
     ]
    },
    {
     "name": "stderr",
     "output_type": "stream",
     "text": [
      "\r",
      "[Stage 150:=================================>                   (80 + 47) / 127]\r",
      "\r",
      "[Stage 150:=========================================>          (102 + 25) / 127]\r"
     ]
    },
    {
     "name": "stderr",
     "output_type": "stream",
     "text": [
      "\r",
      "[Stage 150:==============================================>     (114 + 13) / 127]\r",
      "\r",
      "[Stage 150:=================================================>   (118 + 9) / 127]\r"
     ]
    },
    {
     "name": "stderr",
     "output_type": "stream",
     "text": [
      "\r",
      "[Stage 150:=================================================>   (119 + 8) / 127]\r"
     ]
    },
    {
     "name": "stderr",
     "output_type": "stream",
     "text": [
      "\r",
      "[Stage 150:=================================================>   (119 + 8) / 127]\r"
     ]
    },
    {
     "name": "stderr",
     "output_type": "stream",
     "text": [
      "\r",
      "[Stage 150:=================================================>   (119 + 8) / 127]\r"
     ]
    },
    {
     "name": "stderr",
     "output_type": "stream",
     "text": [
      "\r",
      "[Stage 150:=================================================>   (119 + 8) / 127]\r"
     ]
    },
    {
     "name": "stderr",
     "output_type": "stream",
     "text": [
      "\r",
      "[Stage 150:=================================================>   (119 + 8) / 127]\r"
     ]
    },
    {
     "name": "stderr",
     "output_type": "stream",
     "text": [
      "\r",
      "[Stage 150:==================================================>  (120 + 7) / 127]\r"
     ]
    },
    {
     "name": "stderr",
     "output_type": "stream",
     "text": [
      "\r",
      "[Stage 150:==================================================>  (121 + 6) / 127]\r"
     ]
    },
    {
     "name": "stderr",
     "output_type": "stream",
     "text": [
      "\r",
      "[Stage 150:==================================================>  (122 + 5) / 127]\r"
     ]
    },
    {
     "name": "stderr",
     "output_type": "stream",
     "text": [
      "\r",
      "[Stage 150:===================================================> (123 + 4) / 127]\r"
     ]
    },
    {
     "name": "stderr",
     "output_type": "stream",
     "text": [
      "\r",
      "[Stage 150:===================================================> (124 + 3) / 127]\r",
      "\r",
      "[Stage 150:====================================================>(125 + 2) / 127]\r"
     ]
    },
    {
     "name": "stderr",
     "output_type": "stream",
     "text": [
      "\r",
      "[Stage 150:====================================================>(126 + 1) / 127]\r"
     ]
    },
    {
     "name": "stderr",
     "output_type": "stream",
     "text": [
      "\r",
      "[Stage 154:>                                                     (0 + 50) / 125]\r"
     ]
    },
    {
     "name": "stderr",
     "output_type": "stream",
     "text": [
      "\r",
      "[Stage 154:>                                                     (1 + 50) / 125]\r"
     ]
    },
    {
     "name": "stderr",
     "output_type": "stream",
     "text": [
      "\r",
      "[Stage 154:=>                                                    (4 + 50) / 125]\r",
      "\r",
      "[Stage 154:==>                                                   (5 + 50) / 125]\r"
     ]
    },
    {
     "name": "stderr",
     "output_type": "stream",
     "text": [
      "\r",
      "[Stage 154:==>                                                   (6 + 50) / 125]\r",
      "\r",
      "[Stage 154:===>                                                  (9 + 50) / 125]\r"
     ]
    },
    {
     "name": "stderr",
     "output_type": "stream",
     "text": [
      "\r",
      "[Stage 154:======>                                              (15 + 50) / 125]\r",
      "\r",
      "[Stage 154:======>                                              (16 + 50) / 125]\r"
     ]
    },
    {
     "name": "stderr",
     "output_type": "stream",
     "text": [
      "\r",
      "[Stage 154:=======>                                             (17 + 50) / 125]\r"
     ]
    },
    {
     "name": "stderr",
     "output_type": "stream",
     "text": [
      "\r",
      "[Stage 154:========>                                            (19 + 50) / 125]\r",
      "\r",
      "[Stage 154:========>                                            (21 + 50) / 125]\r"
     ]
    },
    {
     "name": "stderr",
     "output_type": "stream",
     "text": [
      "\r",
      "[Stage 154:==========>                                          (25 + 50) / 125]\r",
      "\r",
      "[Stage 154:============>                                        (29 + 50) / 125]\r"
     ]
    },
    {
     "name": "stderr",
     "output_type": "stream",
     "text": [
      "\r",
      "[Stage 154:=============>                                       (31 + 50) / 125]\r",
      "\r",
      "[Stage 154:=============>                                       (33 + 50) / 125]\r"
     ]
    },
    {
     "name": "stderr",
     "output_type": "stream",
     "text": [
      "\r",
      "[Stage 154:==============>                                      (35 + 50) / 125]\r"
     ]
    },
    {
     "name": "stderr",
     "output_type": "stream",
     "text": [
      "\r",
      "[Stage 154:================>                                    (38 + 50) / 125]\r"
     ]
    },
    {
     "name": "stderr",
     "output_type": "stream",
     "text": [
      "\r",
      "[Stage 154:================>                                    (39 + 50) / 125]\r",
      "\r",
      "[Stage 154:=================>                                   (41 + 50) / 125]\r"
     ]
    },
    {
     "name": "stderr",
     "output_type": "stream",
     "text": [
      "\r",
      "[Stage 154:==================>                                  (43 + 50) / 125]\r"
     ]
    },
    {
     "name": "stderr",
     "output_type": "stream",
     "text": [
      "\r",
      "[Stage 154:==================>                                  (44 + 50) / 125]\r",
      "\r",
      "[Stage 154:===================>                                 (46 + 50) / 125]\r"
     ]
    },
    {
     "name": "stderr",
     "output_type": "stream",
     "text": [
      "\r",
      "[Stage 154:===================>                                 (47 + 50) / 125]\r",
      "\r",
      "[Stage 154:====================>                                (49 + 50) / 125]\r"
     ]
    },
    {
     "name": "stderr",
     "output_type": "stream",
     "text": [
      "\r",
      "[Stage 154:=====================>                               (50 + 50) / 125]\r"
     ]
    },
    {
     "name": "stderr",
     "output_type": "stream",
     "text": [
      "\r",
      "[Stage 154:=====================>                               (51 + 50) / 125]\r"
     ]
    },
    {
     "name": "stderr",
     "output_type": "stream",
     "text": [
      "\r",
      "[Stage 154:======================>                              (54 + 50) / 125]\r",
      "\r",
      "[Stage 154:=======================>                             (55 + 50) / 125]\r"
     ]
    },
    {
     "name": "stderr",
     "output_type": "stream",
     "text": [
      "\r",
      "[Stage 154:=======================>                             (56 + 50) / 125]\r",
      "\r",
      "[Stage 154:========================>                            (57 + 50) / 125]\r"
     ]
    },
    {
     "name": "stderr",
     "output_type": "stream",
     "text": [
      "\r",
      "[Stage 154:========================>                            (58 + 50) / 125]\r",
      "\r",
      "[Stage 154:=========================>                           (60 + 50) / 125]\r"
     ]
    },
    {
     "name": "stderr",
     "output_type": "stream",
     "text": [
      "\r",
      "[Stage 154:=========================>                           (61 + 50) / 125]\r",
      "\r",
      "[Stage 154:==========================>                          (63 + 50) / 125]\r"
     ]
    },
    {
     "name": "stderr",
     "output_type": "stream",
     "text": [
      "\r",
      "[Stage 154:===========================>                         (65 + 50) / 125]\r",
      "\r",
      "[Stage 154:===========================>                         (66 + 50) / 125]\r"
     ]
    },
    {
     "name": "stderr",
     "output_type": "stream",
     "text": [
      "\r",
      "[Stage 154:============================>                        (68 + 50) / 125]\r"
     ]
    },
    {
     "name": "stderr",
     "output_type": "stream",
     "text": [
      "\r",
      "[Stage 154:=============================>                       (69 + 50) / 125]\r"
     ]
    },
    {
     "name": "stderr",
     "output_type": "stream",
     "text": [
      "\r",
      "[Stage 154:=============================>                       (70 + 50) / 125]\r",
      "\r",
      "[Stage 154:==============================>                      (71 + 50) / 125]\r"
     ]
    },
    {
     "name": "stderr",
     "output_type": "stream",
     "text": [
      "\r",
      "[Stage 154:===============================>                     (74 + 50) / 125]\r",
      "\r",
      "[Stage 154:===============================>                     (75 + 50) / 125]\r"
     ]
    },
    {
     "name": "stderr",
     "output_type": "stream",
     "text": [
      "\r",
      "[Stage 154:=================================>                   (78 + 47) / 125]\r",
      "\r",
      "[Stage 154:==================================>                  (81 + 44) / 125]\r"
     ]
    },
    {
     "name": "stderr",
     "output_type": "stream",
     "text": [
      "\r",
      "[Stage 154:===================================>                 (83 + 42) / 125]\r"
     ]
    },
    {
     "name": "stderr",
     "output_type": "stream",
     "text": [
      "\r",
      "[Stage 154:===================================>                 (84 + 41) / 125]\r",
      "\r",
      "[Stage 154:====================================>                (85 + 40) / 125]\r"
     ]
    },
    {
     "name": "stderr",
     "output_type": "stream",
     "text": [
      "\r",
      "[Stage 154:====================================>                (86 + 39) / 125]\r"
     ]
    },
    {
     "name": "stderr",
     "output_type": "stream",
     "text": [
      "\r",
      "[Stage 154:====================================>                (87 + 38) / 125]\r"
     ]
    },
    {
     "name": "stderr",
     "output_type": "stream",
     "text": [
      "\r",
      "[Stage 154:======================================>              (90 + 35) / 125]\r",
      "\r",
      "[Stage 154:======================================>              (91 + 34) / 125]\r"
     ]
    },
    {
     "name": "stderr",
     "output_type": "stream",
     "text": [
      "\r",
      "[Stage 154:=======================================>             (92 + 33) / 125]\r"
     ]
    },
    {
     "name": "stderr",
     "output_type": "stream",
     "text": [
      "\r",
      "[Stage 154:=======================================>             (93 + 32) / 125]\r"
     ]
    },
    {
     "name": "stderr",
     "output_type": "stream",
     "text": [
      "\r",
      "[Stage 154:========================================>            (95 + 30) / 125]\r",
      "\r",
      "[Stage 154:=========================================>           (97 + 28) / 125]\r"
     ]
    },
    {
     "name": "stderr",
     "output_type": "stream",
     "text": [
      "\r",
      "[Stage 154:=========================================>           (98 + 27) / 125]\r",
      "\r",
      "[Stage 154:=========================================>          (100 + 25) / 125]\r"
     ]
    },
    {
     "name": "stderr",
     "output_type": "stream",
     "text": [
      "\r",
      "[Stage 154:==========================================>         (102 + 23) / 125]\r",
      "\r",
      "[Stage 154:============================================>       (106 + 19) / 125]\r"
     ]
    },
    {
     "name": "stderr",
     "output_type": "stream",
     "text": [
      "\r",
      "[Stage 154:============================================>       (107 + 18) / 125]\r"
     ]
    },
    {
     "name": "stderr",
     "output_type": "stream",
     "text": [
      "\r",
      "[Stage 154:==============================================>     (111 + 14) / 125]\r",
      "\r",
      "[Stage 154:===============================================>    (113 + 12) / 125]\r"
     ]
    },
    {
     "name": "stderr",
     "output_type": "stream",
     "text": [
      "\r",
      "[Stage 154:===============================================>    (115 + 10) / 125]\r"
     ]
    },
    {
     "name": "stderr",
     "output_type": "stream",
     "text": [
      "\r",
      "[Stage 154:=================================================>   (116 + 9) / 125]\r"
     ]
    },
    {
     "name": "stderr",
     "output_type": "stream",
     "text": [
      "\r",
      "[Stage 154:=================================================>   (117 + 8) / 125]\r",
      "\r",
      "[Stage 154:==================================================>  (119 + 6) / 125]\r"
     ]
    },
    {
     "name": "stderr",
     "output_type": "stream",
     "text": [
      "\r",
      "[Stage 154:==================================================>  (120 + 5) / 125]\r"
     ]
    },
    {
     "name": "stderr",
     "output_type": "stream",
     "text": [
      "\r",
      "[Stage 154:===================================================> (121 + 4) / 125]\r",
      "\r",
      "[Stage 154:===================================================> (122 + 3) / 125]\r"
     ]
    },
    {
     "name": "stderr",
     "output_type": "stream",
     "text": [
      "\r",
      "[Stage 154:====================================================>(123 + 2) / 125]\r",
      "\r",
      "                                                                                \r"
     ]
    },
    {
     "name": "stderr",
     "output_type": "stream",
     "text": [
      "24/05/16 06:28:58 WARN DataSource: All paths were ignored:\n",
      "  file:/ihme/scratch/users/zmbc/person_linkage_case_study/results/ri/tmpCheckpoints/0bc9c889-22ec-443a-b9c5-504361150648/__splink__df_comparison_vectors_87c2cbe31\n"
     ]
    },
    {
     "name": "stderr",
     "output_type": "stream",
     "text": [
      "\n"
     ]
    },
    {
     "name": "stderr",
     "output_type": "stream",
     "text": [
      "\r",
      "[Stage 157:===>                                                 (18 + 50) / 255]\r",
      "\r",
      "[Stage 157:(18 + 50) / 255][Stage 158:>(0 + 0) / 255][Stage 159:>(0 + 0) / 255]\r"
     ]
    },
    {
     "name": "stderr",
     "output_type": "stream",
     "text": [
      "\r",
      "[Stage 157:(20 + 50) / 255][Stage 158:>(0 + 0) / 255][Stage 159:>(0 + 0) / 255]\r",
      "\r",
      "[Stage 157:(34 + 51) / 255][Stage 158:>(0 + 0) / 255][Stage 159:>(0 + 0) / 255]\r"
     ]
    },
    {
     "name": "stderr",
     "output_type": "stream",
     "text": [
      "\r",
      "[Stage 157:(65 + 50) / 255][Stage 158:>(0 + 0) / 255][Stage 159:>(0 + 0) / 255]\r",
      "\r",
      "[Stage 157:(75 + 50) / 255][Stage 158:>(0 + 0) / 255][Stage 159:>(0 + 0) / 255]\r"
     ]
    },
    {
     "name": "stderr",
     "output_type": "stream",
     "text": [
      "\r",
      "[Stage 157:(81 + 50) / 255][Stage 158:>(0 + 0) / 255][Stage 159:>(0 + 0) / 255]\r",
      "\r",
      "[Stage 157:(94 + 50) / 255][Stage 158:>(0 + 0) / 255][Stage 159:>(0 + 0) / 255]\r"
     ]
    },
    {
     "name": "stderr",
     "output_type": "stream",
     "text": [
      "\r",
      "[Stage 157:(116 + 50) / 255][Stage 158:>(0 + 0) / 255][Stage 159:>(0 + 0) / 255]\r",
      "\r",
      "[Stage 157:(148 + 50) / 255][Stage 158:>(0 + 0) / 255][Stage 159:>(0 + 0) / 255]\r"
     ]
    },
    {
     "name": "stderr",
     "output_type": "stream",
     "text": [
      "\r",
      "[Stage 157:(224 + 31) / 255][Stage 158:(1 + 19) / 255][Stage 159:>(0 + 0) / 255]\r",
      "\r",
      "[Stage 157:(236 + 19) / 255][Stage 158:(7 + 31) / 255][Stage 159:>(0 + 0) / 255]\r"
     ]
    },
    {
     "name": "stderr",
     "output_type": "stream",
     "text": [
      "\r",
      "[Stage 157:(250 + 5) / 255][Stage 158:(11 + 45) / 255][Stage 159:>(0 + 0) / 255]\r",
      "\r",
      "[Stage 157:(253 + 2) / 255][Stage 158:(17 + 48) / 255][Stage 159:>(0 + 0) / 255]\r"
     ]
    },
    {
     "name": "stderr",
     "output_type": "stream",
     "text": [
      "\r",
      "[Stage 157:(254 + 1) / 255][Stage 158:(21 + 49) / 255][Stage 159:>(0 + 0) / 255]\r",
      "\r",
      "[Stage 158:(42 + 50) / 255][Stage 159:>(0 + 0) / 255][Stage 160:>(0 + 0) / 255]\r"
     ]
    },
    {
     "name": "stderr",
     "output_type": "stream",
     "text": [
      "\r",
      "[Stage 158:(61 + 50) / 255][Stage 159:>(0 + 0) / 255][Stage 160:>(0 + 0) / 255]\r",
      "\r",
      "[Stage 158:(76 + 50) / 255][Stage 159:>(0 + 0) / 255][Stage 160:>(0 + 0) / 255]\r"
     ]
    },
    {
     "name": "stderr",
     "output_type": "stream",
     "text": [
      "\r",
      "[Stage 158:(87 + 50) / 255][Stage 159:>(0 + 0) / 255][Stage 160:>(0 + 0) / 255]\r",
      "\r",
      "[Stage 158:(94 + 50) / 255][Stage 159:>(0 + 0) / 255][Stage 160:>(0 + 0) / 255]\r"
     ]
    },
    {
     "name": "stderr",
     "output_type": "stream",
     "text": [
      "\r",
      "[Stage 158:(115 + 50) / 255][Stage 159:>(0 + 0) / 255][Stage 160:>(0 + 0) / 255]\r",
      "\r",
      "[Stage 158:(193 + 51) / 255][Stage 159:>(0 + 0) / 255][Stage 160:>(0 + 0) / 255]\r"
     ]
    },
    {
     "name": "stderr",
     "output_type": "stream",
     "text": [
      "\r",
      "[Stage 158:(228 + 27) / 255][Stage 159:(6 + 23) / 255][Stage 160:>(0 + 0) / 255]\r",
      "\r",
      "[Stage 158:(238 + 17) / 255][Stage 159:(8 + 33) / 255][Stage 160:>(0 + 0) / 255]\r"
     ]
    },
    {
     "name": "stderr",
     "output_type": "stream",
     "text": [
      "\r",
      "[Stage 158:(251 + 4) / 255][Stage 159:(14 + 46) / 255][Stage 160:>(0 + 0) / 255]\r",
      "\r",
      "[Stage 158:(254 + 1) / 255][Stage 159:(17 + 49) / 255][Stage 160:>(0 + 0) / 255]\r"
     ]
    },
    {
     "name": "stderr",
     "output_type": "stream",
     "text": [
      "\r",
      "[Stage 159:(28 + 50) / 255][Stage 160:>(0 + 0) / 255][Stage 161:>(0 + 0) / 255]\r",
      "\r",
      "[Stage 159:(49 + 50) / 255][Stage 160:>(0 + 0) / 255][Stage 161:>(0 + 0) / 255]\r"
     ]
    },
    {
     "name": "stderr",
     "output_type": "stream",
     "text": [
      "\r",
      "[Stage 159:(58 + 50) / 255][Stage 160:>(0 + 0) / 255][Stage 161:>(0 + 0) / 255]\r",
      "\r",
      "[Stage 159:(71 + 50) / 255][Stage 160:>(0 + 0) / 255][Stage 161:>(0 + 0) / 255]\r"
     ]
    },
    {
     "name": "stderr",
     "output_type": "stream",
     "text": [
      "\r",
      "[Stage 159:(85 + 50) / 255][Stage 160:>(0 + 0) / 255][Stage 161:>(0 + 0) / 255]\r",
      "\r",
      "[Stage 159:(97 + 50) / 255][Stage 160:>(0 + 0) / 255][Stage 161:>(0 + 0) / 255]\r"
     ]
    },
    {
     "name": "stderr",
     "output_type": "stream",
     "text": [
      "\r",
      "[Stage 159:(115 + 50) / 255][Stage 160:>(0 + 0) / 255][Stage 161:>(0 + 0) / 255]\r",
      "\r",
      "[Stage 159:(154 + 50) / 255][Stage 160:>(0 + 0) / 255][Stage 161:>(0 + 0) / 255]\r"
     ]
    },
    {
     "name": "stderr",
     "output_type": "stream",
     "text": [
      "\r",
      "[Stage 159:(226 + 29) / 255][Stage 160:(2 + 21) / 255][Stage 161:>(0 + 0) / 255]\r",
      "\r",
      "[Stage 159:(242 + 13) / 255][Stage 160:(8 + 37) / 255][Stage 161:>(0 + 0) / 255]\r"
     ]
    },
    {
     "name": "stderr",
     "output_type": "stream",
     "text": [
      "\r",
      "[Stage 159:(249 + 6) / 255][Stage 160:(12 + 44) / 255][Stage 161:>(0 + 0) / 255]\r",
      "\r",
      "[Stage 160:(18 + 50) / 255][Stage 161:>(0 + 0) / 255][Stage 162:>(0 + 0) / 255]\r"
     ]
    },
    {
     "name": "stderr",
     "output_type": "stream",
     "text": [
      "\r",
      "[Stage 160:(25 + 50) / 255][Stage 161:>(0 + 0) / 255][Stage 162:>(0 + 0) / 255]\r",
      "\r",
      "[Stage 160:(47 + 50) / 255][Stage 161:>(0 + 0) / 255][Stage 162:>(0 + 0) / 255]\r"
     ]
    },
    {
     "name": "stderr",
     "output_type": "stream",
     "text": [
      "\r",
      "[Stage 160:(60 + 50) / 255][Stage 161:>(0 + 0) / 255][Stage 162:>(0 + 0) / 255]\r",
      "\r",
      "[Stage 160:(72 + 50) / 255][Stage 161:>(0 + 0) / 255][Stage 162:>(0 + 0) / 255]\r"
     ]
    },
    {
     "name": "stderr",
     "output_type": "stream",
     "text": [
      "\r",
      "[Stage 160:(88 + 50) / 255][Stage 161:>(0 + 0) / 255][Stage 162:>(0 + 0) / 255]\r",
      "\r",
      "[Stage 160:(103 + 50) / 255][Stage 161:>(0 + 0) / 255][Stage 162:>(0 + 0) / 255]\r"
     ]
    },
    {
     "name": "stderr",
     "output_type": "stream",
     "text": [
      "\r",
      "[Stage 160:(118 + 50) / 255][Stage 161:>(0 + 0) / 255][Stage 162:>(0 + 0) / 255]\r",
      "\r",
      "[Stage 160:(183 + 50) / 255][Stage 161:>(0 + 0) / 255][Stage 162:>(0 + 0) / 255]\r"
     ]
    },
    {
     "name": "stderr",
     "output_type": "stream",
     "text": [
      "\r",
      "[Stage 160:(230 + 25) / 255][Stage 161:(4 + 25) / 255][Stage 162:>(0 + 0) / 255]\r",
      "\r",
      "[Stage 160:(243 + 12) / 255][Stage 161:(10 + 38) / 255][Stage 162:>(0 + 0) / 255]\r"
     ]
    },
    {
     "name": "stderr",
     "output_type": "stream",
     "text": [
      "\r",
      "[Stage 161:(17 + 50) / 255][Stage 162:>(0 + 0) / 255][Stage 163:>(0 + 0) / 255]\r",
      "\r",
      "[Stage 161:(18 + 50) / 255][Stage 162:>(0 + 0) / 255][Stage 163:>(0 + 0) / 255]\r"
     ]
    },
    {
     "name": "stderr",
     "output_type": "stream",
     "text": [
      "\r",
      "[Stage 161:(25 + 50) / 255][Stage 162:>(0 + 0) / 255][Stage 163:>(0 + 0) / 255]\r",
      "\r",
      "[Stage 161:(51 + 50) / 255][Stage 162:>(0 + 0) / 255][Stage 163:>(0 + 0) / 255]\r"
     ]
    },
    {
     "name": "stderr",
     "output_type": "stream",
     "text": [
      "\r",
      "[Stage 161:(68 + 50) / 255][Stage 162:>(0 + 0) / 255][Stage 163:>(0 + 0) / 255]\r",
      "\r",
      "[Stage 161:(78 + 50) / 255][Stage 162:>(0 + 0) / 255][Stage 163:>(0 + 0) / 255]\r"
     ]
    },
    {
     "name": "stderr",
     "output_type": "stream",
     "text": [
      "\r",
      "[Stage 161:(90 + 50) / 255][Stage 162:>(0 + 0) / 255][Stage 163:>(0 + 0) / 255]\r",
      "\r",
      "[Stage 161:(102 + 50) / 255][Stage 162:>(0 + 0) / 255][Stage 163:>(0 + 0) / 255]\r"
     ]
    },
    {
     "name": "stderr",
     "output_type": "stream",
     "text": [
      "\r",
      "[Stage 161:(138 + 50) / 255][Stage 162:>(0 + 0) / 255][Stage 163:>(0 + 0) / 255]\r",
      "\r",
      "[Stage 161:(221 + 34) / 255][Stage 162:(2 + 16) / 255][Stage 163:>(0 + 0) / 255]\r"
     ]
    },
    {
     "name": "stderr",
     "output_type": "stream",
     "text": [
      "\r",
      "[Stage 161:(232 + 23) / 255][Stage 162:(6 + 27) / 255][Stage 163:>(0 + 0) / 255]\r",
      "\r",
      "[Stage 161:(246 + 9) / 255][Stage 162:(9 + 41) / 255][Stage 163:>(0 + 0) / 255]\r"
     ]
    },
    {
     "name": "stderr",
     "output_type": "stream",
     "text": [
      "\r",
      "[Stage 162:>            (17 + 50) / 255][Stage 163:>              (0 + 0) / 255]\r",
      "\r",
      "[Stage 162:=>           (22 + 50) / 255][Stage 163:>              (0 + 0) / 255]\r"
     ]
    },
    {
     "name": "stderr",
     "output_type": "stream",
     "text": [
      "\r",
      "[Stage 162:=>           (35 + 50) / 255][Stage 163:>              (0 + 0) / 255]\r",
      "\r",
      "[Stage 162:==>          (50 + 50) / 255][Stage 163:>              (0 + 0) / 255]\r"
     ]
    },
    {
     "name": "stderr",
     "output_type": "stream",
     "text": [
      "\r",
      "[Stage 162:===>         (66 + 50) / 255][Stage 163:>              (0 + 0) / 255]\r",
      "\r",
      "[Stage 162:===>         (76 + 50) / 255][Stage 163:>              (0 + 0) / 255]\r"
     ]
    },
    {
     "name": "stderr",
     "output_type": "stream",
     "text": [
      "\r",
      "[Stage 162:====>        (91 + 50) / 255][Stage 163:>              (0 + 0) / 255]\r",
      "\r",
      "[Stage 162:=====>      (112 + 50) / 255][Stage 163:>              (0 + 0) / 255]\r"
     ]
    },
    {
     "name": "stderr",
     "output_type": "stream",
     "text": [
      "\r",
      "[Stage 162:=======>    (153 + 50) / 255][Stage 163:>              (0 + 0) / 255]\r",
      "\r",
      "[Stage 162:==========> (223 + 32) / 255][Stage 163:>             (5 + 18) / 255]\r"
     ]
    },
    {
     "name": "stderr",
     "output_type": "stream",
     "text": [
      "\r",
      "[Stage 162:===========>(235 + 20) / 255][Stage 163:>             (7 + 30) / 255]\r",
      "\r",
      "[Stage 162:============>(251 + 4) / 255][Stage 163:>            (16 + 46) / 255]\r"
     ]
    },
    {
     "name": "stderr",
     "output_type": "stream",
     "text": [
      "\r",
      "[Stage 162:============>(254 + 1) / 255][Stage 163:>            (17 + 49) / 255]\r",
      "\r",
      "[Stage 163:=======>                                             (36 + 50) / 255]\r"
     ]
    },
    {
     "name": "stderr",
     "output_type": "stream",
     "text": [
      "\r",
      "[Stage 163:===========>                                         (53 + 50) / 255]\r",
      "\r",
      "[Stage 163:==============>                                      (71 + 50) / 255]\r"
     ]
    },
    {
     "name": "stderr",
     "output_type": "stream",
     "text": [
      "\r",
      "[Stage 163:==================>                                  (90 + 50) / 255]\r",
      "\r",
      "[Stage 163:======================>                             (112 + 50) / 255]\r"
     ]
    },
    {
     "name": "stderr",
     "output_type": "stream",
     "text": [
      "\r",
      "[Stage 163:======================================>             (190 + 51) / 255]\r",
      "\r",
      "[Stage 163:==============================================>     (227 + 28) / 255]\r"
     ]
    },
    {
     "name": "stderr",
     "output_type": "stream",
     "text": [
      "\r",
      "[Stage 163:===================================================> (246 + 9) / 255]\r",
      "\r",
      "[Stage 163:====================================================>(254 + 1) / 255]\r"
     ]
    },
    {
     "name": "stderr",
     "output_type": "stream",
     "text": [
      "\r",
      "                                                                                \r",
      "Iteration 1: Largest change in params was -0.0177 in the m_probability of first_name_15, level `Exact match`\n"
     ]
    },
    {
     "name": "stderr",
     "output_type": "stream",
     "text": [
      "\r",
      "[Stage 172:(18 + 50) / 255][Stage 173:>(0 + 0) / 255][Stage 174:>(0 + 0) / 255]\r",
      "\r",
      "[Stage 172:(34 + 50) / 255][Stage 173:>(0 + 0) / 255][Stage 174:>(0 + 0) / 255]\r"
     ]
    },
    {
     "name": "stderr",
     "output_type": "stream",
     "text": [
      "\r",
      "[Stage 172:(61 + 50) / 255][Stage 173:>(0 + 0) / 255][Stage 174:>(0 + 0) / 255]\r",
      "\r",
      "[Stage 172:(76 + 50) / 255][Stage 173:>(0 + 0) / 255][Stage 174:>(0 + 0) / 255]\r"
     ]
    },
    {
     "name": "stderr",
     "output_type": "stream",
     "text": [
      "\r",
      "[Stage 172:(83 + 50) / 255][Stage 173:>(0 + 0) / 255][Stage 174:>(0 + 0) / 255]\r",
      "\r",
      "[Stage 172:(98 + 50) / 255][Stage 173:>(0 + 0) / 255][Stage 174:>(0 + 0) / 255]\r"
     ]
    },
    {
     "name": "stderr",
     "output_type": "stream",
     "text": [
      "\r",
      "[Stage 172:(123 + 50) / 255][Stage 173:>(0 + 0) / 255][Stage 174:>(0 + 0) / 255]\r",
      "\r",
      "[Stage 172:(216 + 39) / 255][Stage 173:(0 + 11) / 255][Stage 174:>(0 + 0) / 255]\r"
     ]
    },
    {
     "name": "stderr",
     "output_type": "stream",
     "text": [
      "\r",
      "[Stage 172:(233 + 22) / 255][Stage 173:(6 + 28) / 255][Stage 174:>(0 + 0) / 255]\r",
      "\r",
      "[Stage 172:(245 + 10) / 255][Stage 173:(9 + 40) / 255][Stage 174:>(0 + 0) / 255]\r"
     ]
    },
    {
     "name": "stderr",
     "output_type": "stream",
     "text": [
      "\r",
      "[Stage 172:(252 + 3) / 255][Stage 173:(16 + 47) / 255][Stage 174:>(0 + 0) / 255]\r",
      "\r",
      "[Stage 173:(18 + 50) / 255][Stage 174:>(0 + 0) / 255][Stage 175:>(0 + 0) / 255]\r"
     ]
    },
    {
     "name": "stderr",
     "output_type": "stream",
     "text": [
      "\r",
      "[Stage 173:(34 + 50) / 255][Stage 174:>(0 + 0) / 255][Stage 175:>(0 + 0) / 255]\r",
      "\r",
      "[Stage 173:(54 + 50) / 255][Stage 174:>(0 + 0) / 255][Stage 175:>(0 + 0) / 255]\r"
     ]
    },
    {
     "name": "stderr",
     "output_type": "stream",
     "text": [
      "\r",
      "[Stage 173:(66 + 50) / 255][Stage 174:>(0 + 0) / 255][Stage 175:>(0 + 0) / 255]\r",
      "\r",
      "[Stage 173:(83 + 50) / 255][Stage 174:>(0 + 0) / 255][Stage 175:>(0 + 0) / 255]\r"
     ]
    },
    {
     "name": "stderr",
     "output_type": "stream",
     "text": [
      "\r",
      "[Stage 173:(94 + 50) / 255][Stage 174:>(0 + 0) / 255][Stage 175:>(0 + 0) / 255]\r",
      "\r",
      "[Stage 173:(114 + 50) / 255][Stage 174:>(0 + 0) / 255][Stage 175:>(0 + 0) / 255]\r"
     ]
    },
    {
     "name": "stderr",
     "output_type": "stream",
     "text": [
      "\r",
      "[Stage 173:(170 + 50) / 255][Stage 174:>(0 + 0) / 255][Stage 175:>(0 + 0) / 255]\r",
      "\r",
      "[Stage 173:(229 + 26) / 255][Stage 174:(5 + 24) / 255][Stage 175:>(0 + 0) / 255]\r"
     ]
    },
    {
     "name": "stderr",
     "output_type": "stream",
     "text": [
      "\r",
      "[Stage 173:(240 + 15) / 255][Stage 174:(9 + 35) / 255][Stage 175:>(0 + 0) / 255]\r",
      "\r",
      "[Stage 173:(253 + 2) / 255][Stage 174:(15 + 48) / 255][Stage 175:>(0 + 0) / 255]\r"
     ]
    },
    {
     "name": "stderr",
     "output_type": "stream",
     "text": [
      "\r",
      "[Stage 173:(254 + 1) / 255][Stage 174:(17 + 49) / 255][Stage 175:>(0 + 0) / 255]\r",
      "\r",
      "[Stage 174:(28 + 50) / 255][Stage 175:>(0 + 0) / 255][Stage 176:>(0 + 0) / 255]\r"
     ]
    },
    {
     "name": "stderr",
     "output_type": "stream",
     "text": [
      "\r",
      "[Stage 174:(53 + 50) / 255][Stage 175:>(0 + 0) / 255][Stage 176:>(0 + 0) / 255]\r",
      "\r",
      "[Stage 174:(64 + 50) / 255][Stage 175:>(0 + 0) / 255][Stage 176:>(0 + 0) / 255]\r"
     ]
    },
    {
     "name": "stderr",
     "output_type": "stream",
     "text": [
      "\r",
      "[Stage 174:(79 + 50) / 255][Stage 175:>(0 + 0) / 255][Stage 176:>(0 + 0) / 255]\r",
      "\r",
      "[Stage 174:(89 + 50) / 255][Stage 175:>(0 + 0) / 255][Stage 176:>(0 + 0) / 255]\r"
     ]
    },
    {
     "name": "stderr",
     "output_type": "stream",
     "text": [
      "\r",
      "[Stage 174:(108 + 50) / 255][Stage 175:>(0 + 0) / 255][Stage 176:>(0 + 0) / 255]\r",
      "\r",
      "[Stage 174:(132 + 50) / 255][Stage 175:>(0 + 0) / 255][Stage 176:>(0 + 0) / 255]\r"
     ]
    },
    {
     "name": "stderr",
     "output_type": "stream",
     "text": [
      "\r",
      "[Stage 174:(223 + 32) / 255][Stage 175:(0 + 18) / 255][Stage 176:>(0 + 0) / 255]\r",
      "\r",
      "[Stage 174:(235 + 20) / 255][Stage 175:(8 + 30) / 255][Stage 176:>(0 + 0) / 255]\r"
     ]
    },
    {
     "name": "stderr",
     "output_type": "stream",
     "text": [
      "\r",
      "[Stage 174:(252 + 3) / 255][Stage 175:(13 + 47) / 255][Stage 176:>(0 + 0) / 255]\r",
      "\r",
      "[Stage 174:(254 + 1) / 255][Stage 175:(17 + 49) / 255][Stage 176:>(0 + 0) / 255]\r"
     ]
    },
    {
     "name": "stderr",
     "output_type": "stream",
     "text": [
      "\r",
      "[Stage 175:(22 + 50) / 255][Stage 176:>(0 + 0) / 255][Stage 177:>(0 + 0) / 255]\r",
      "\r",
      "[Stage 175:(45 + 50) / 255][Stage 176:>(0 + 0) / 255][Stage 177:>(0 + 0) / 255]\r"
     ]
    },
    {
     "name": "stderr",
     "output_type": "stream",
     "text": [
      "\r",
      "[Stage 175:(68 + 50) / 255][Stage 176:>(0 + 0) / 255][Stage 177:>(0 + 0) / 255]\r",
      "\r",
      "[Stage 175:(80 + 50) / 255][Stage 176:>(0 + 0) / 255][Stage 177:>(0 + 0) / 255]\r"
     ]
    },
    {
     "name": "stderr",
     "output_type": "stream",
     "text": [
      "\r",
      "[Stage 175:(89 + 50) / 255][Stage 176:>(0 + 0) / 255][Stage 177:>(0 + 0) / 255]\r",
      "\r",
      "[Stage 175:(99 + 50) / 255][Stage 176:>(0 + 0) / 255][Stage 177:>(0 + 0) / 255]\r"
     ]
    },
    {
     "name": "stderr",
     "output_type": "stream",
     "text": [
      "\r",
      "[Stage 175:(122 + 50) / 255][Stage 176:>(0 + 0) / 255][Stage 177:>(0 + 0) / 255]\r",
      "\r",
      "[Stage 175:(220 + 35) / 255][Stage 176:(0 + 15) / 255][Stage 177:>(0 + 0) / 255]\r"
     ]
    },
    {
     "name": "stderr",
     "output_type": "stream",
     "text": [
      "\r",
      "[Stage 175:(237 + 18) / 255][Stage 176:(8 + 32) / 255][Stage 177:>(0 + 0) / 255]\r",
      "\r",
      "[Stage 175:(248 + 7) / 255][Stage 176:(12 + 43) / 255][Stage 177:>(0 + 0) / 255]\r"
     ]
    },
    {
     "name": "stderr",
     "output_type": "stream",
     "text": [
      "\r",
      "[Stage 175:(254 + 1) / 255][Stage 176:(17 + 49) / 255][Stage 177:>(0 + 0) / 255]\r",
      "\r",
      "[Stage 176:(22 + 50) / 255][Stage 177:>(0 + 0) / 255][Stage 178:>(0 + 0) / 255]\r"
     ]
    },
    {
     "name": "stderr",
     "output_type": "stream",
     "text": [
      "\r",
      "[Stage 176:(39 + 50) / 255][Stage 177:>(0 + 0) / 255][Stage 178:>(0 + 0) / 255]\r",
      "\r",
      "[Stage 176:(61 + 50) / 255][Stage 177:>(0 + 0) / 255][Stage 178:>(0 + 0) / 255]\r"
     ]
    },
    {
     "name": "stderr",
     "output_type": "stream",
     "text": [
      "\r",
      "[Stage 176:(77 + 50) / 255][Stage 177:>(0 + 0) / 255][Stage 178:>(0 + 0) / 255]\r",
      "\r",
      "[Stage 176:(86 + 50) / 255][Stage 177:>(0 + 0) / 255][Stage 178:>(0 + 0) / 255]\r"
     ]
    },
    {
     "name": "stderr",
     "output_type": "stream",
     "text": [
      "\r",
      "[Stage 176:(94 + 50) / 255][Stage 177:>(0 + 0) / 255][Stage 178:>(0 + 0) / 255]\r",
      "\r",
      "[Stage 176:(113 + 50) / 255][Stage 177:>(0 + 0) / 255][Stage 178:>(0 + 0) / 255]\r"
     ]
    },
    {
     "name": "stderr",
     "output_type": "stream",
     "text": [
      "\r",
      "[Stage 176:(203 + 50) / 255][Stage 177:>(0 + 0) / 255][Stage 178:>(0 + 0) / 255]\r",
      "\r",
      "[Stage 176:(235 + 20) / 255][Stage 177:(7 + 30) / 255][Stage 178:>(0 + 0) / 255]\r"
     ]
    },
    {
     "name": "stderr",
     "output_type": "stream",
     "text": [
      "\r",
      "[Stage 176:(243 + 12) / 255][Stage 177:(9 + 38) / 255][Stage 178:>(0 + 0) / 255]\r",
      "\r",
      "[Stage 176:(251 + 4) / 255][Stage 177:(15 + 46) / 255][Stage 178:>(0 + 0) / 255]\r"
     ]
    },
    {
     "name": "stderr",
     "output_type": "stream",
     "text": [
      "\r",
      "[Stage 176:(254 + 1) / 255][Stage 177:(17 + 49) / 255][Stage 178:>(0 + 0) / 255]\r",
      "\r",
      "[Stage 177:=>           (34 + 50) / 255][Stage 178:>              (0 + 0) / 255]\r"
     ]
    },
    {
     "name": "stderr",
     "output_type": "stream",
     "text": [
      "\r",
      "[Stage 177:==>          (53 + 50) / 255][Stage 178:>              (0 + 0) / 255]\r",
      "\r",
      "[Stage 177:===>         (69 + 50) / 255][Stage 178:>              (0 + 0) / 255]\r"
     ]
    },
    {
     "name": "stderr",
     "output_type": "stream",
     "text": [
      "\r",
      "[Stage 177:====>        (81 + 50) / 255][Stage 178:>              (0 + 0) / 255]\r",
      "\r",
      "[Stage 177:====>        (93 + 50) / 255][Stage 178:>              (0 + 0) / 255]\r"
     ]
    },
    {
     "name": "stderr",
     "output_type": "stream",
     "text": [
      "\r",
      "[Stage 177:=====>      (110 + 50) / 255][Stage 178:>              (0 + 0) / 255]\r",
      "\r",
      "[Stage 177:======>     (139 + 50) / 255][Stage 178:>              (0 + 0) / 255]\r"
     ]
    },
    {
     "name": "stderr",
     "output_type": "stream",
     "text": [
      "\r",
      "[Stage 177:==========> (226 + 29) / 255][Stage 178:>             (3 + 21) / 255]\r",
      "\r",
      "[Stage 177:===========>(239 + 16) / 255][Stage 178:>             (8 + 34) / 255]\r"
     ]
    },
    {
     "name": "stderr",
     "output_type": "stream",
     "text": [
      "\r",
      "[Stage 177:============>(246 + 9) / 255][Stage 178:>            (13 + 41) / 255]\r",
      "\r",
      "[Stage 178:===>                                                 (19 + 50) / 255]\r"
     ]
    },
    {
     "name": "stderr",
     "output_type": "stream",
     "text": [
      "\r",
      "[Stage 178:======>                                              (31 + 50) / 255]\r",
      "\r",
      "[Stage 178:===========>                                         (55 + 50) / 255]\r"
     ]
    },
    {
     "name": "stderr",
     "output_type": "stream",
     "text": [
      "\r",
      "[Stage 178:===============>                                     (76 + 50) / 255]\r",
      "\r",
      "[Stage 178:==================>                                  (90 + 50) / 255]\r"
     ]
    },
    {
     "name": "stderr",
     "output_type": "stream",
     "text": [
      "\r",
      "[Stage 178:=====================>                              (107 + 50) / 255]\r",
      "\r",
      "[Stage 178:============================>                       (139 + 51) / 255]\r"
     ]
    },
    {
     "name": "stderr",
     "output_type": "stream",
     "text": [
      "\r",
      "[Stage 178:==============================================>     (227 + 28) / 255]\r",
      "\r",
      "[Stage 178:================================================>   (239 + 16) / 255]\r"
     ]
    },
    {
     "name": "stderr",
     "output_type": "stream",
     "text": [
      "\r",
      "[Stage 178:====================================================>(252 + 3) / 255]\r"
     ]
    },
    {
     "name": "stderr",
     "output_type": "stream",
     "text": [
      "\r",
      "                                                                                \r",
      "Iteration 2: Largest change in params was -0.00348 in the m_probability of middle_initial, level `Exact match`\n"
     ]
    },
    {
     "name": "stderr",
     "output_type": "stream",
     "text": [
      "\r",
      "[Stage 187:(18 + 50) / 255][Stage 188:>(0 + 0) / 255][Stage 189:>(0 + 0) / 255]\r",
      "\r",
      "[Stage 187:(38 + 50) / 255][Stage 188:>(0 + 0) / 255][Stage 189:>(0 + 0) / 255]\r"
     ]
    },
    {
     "name": "stderr",
     "output_type": "stream",
     "text": [
      "\r",
      "[Stage 187:(69 + 50) / 255][Stage 188:>(0 + 0) / 255][Stage 189:>(0 + 0) / 255]\r",
      "\r",
      "[Stage 187:(77 + 50) / 255][Stage 188:>(0 + 0) / 255][Stage 189:>(0 + 0) / 255]\r"
     ]
    },
    {
     "name": "stderr",
     "output_type": "stream",
     "text": [
      "\r",
      "[Stage 187:(83 + 50) / 255][Stage 188:>(0 + 0) / 255][Stage 189:>(0 + 0) / 255]\r",
      "\r",
      "[Stage 187:(108 + 50) / 255][Stage 188:>(0 + 0) / 255][Stage 189:>(0 + 0) / 255]\r"
     ]
    },
    {
     "name": "stderr",
     "output_type": "stream",
     "text": [
      "\r",
      "[Stage 187:(139 + 50) / 255][Stage 188:>(0 + 0) / 255][Stage 189:>(0 + 0) / 255]\r",
      "\r",
      "[Stage 187:(223 + 32) / 255][Stage 188:(0 + 18) / 255][Stage 189:>(0 + 0) / 255]\r"
     ]
    },
    {
     "name": "stderr",
     "output_type": "stream",
     "text": [
      "\r",
      "[Stage 187:(233 + 22) / 255][Stage 188:(6 + 28) / 255][Stage 189:>(0 + 0) / 255]\r",
      "\r",
      "[Stage 187:(244 + 11) / 255][Stage 188:(10 + 39) / 255][Stage 189:>(0 + 0) / 255]\r"
     ]
    },
    {
     "name": "stderr",
     "output_type": "stream",
     "text": [
      "\r",
      "[Stage 188:(16 + 50) / 255][Stage 189:>(0 + 0) / 255][Stage 190:>(0 + 0) / 255]\r",
      "\r",
      "[Stage 188:(24 + 50) / 255][Stage 189:>(0 + 0) / 255][Stage 190:>(0 + 0) / 255]\r"
     ]
    },
    {
     "name": "stderr",
     "output_type": "stream",
     "text": [
      "\r",
      "[Stage 188:(44 + 50) / 255][Stage 189:>(0 + 0) / 255][Stage 190:>(0 + 0) / 255]\r",
      "\r",
      "[Stage 188:(61 + 50) / 255][Stage 189:>(0 + 0) / 255][Stage 190:>(0 + 0) / 255]\r"
     ]
    },
    {
     "name": "stderr",
     "output_type": "stream",
     "text": [
      "\r",
      "[Stage 188:(72 + 50) / 255][Stage 189:>(0 + 0) / 255][Stage 190:>(0 + 0) / 255]\r",
      "\r",
      "[Stage 188:(85 + 50) / 255][Stage 189:>(0 + 0) / 255][Stage 190:>(0 + 0) / 255]\r"
     ]
    },
    {
     "name": "stderr",
     "output_type": "stream",
     "text": [
      "\r",
      "[Stage 188:(100 + 50) / 255][Stage 189:>(0 + 0) / 255][Stage 190:>(0 + 0) / 255]\r",
      "\r",
      "[Stage 188:(120 + 50) / 255][Stage 189:>(0 + 0) / 255][Stage 190:>(0 + 0) / 255]\r"
     ]
    },
    {
     "name": "stderr",
     "output_type": "stream",
     "text": [
      "\r",
      "[Stage 188:(221 + 34) / 255][Stage 189:(0 + 16) / 255][Stage 190:>(0 + 0) / 255]\r",
      "\r",
      "[Stage 188:(230 + 25) / 255][Stage 189:(5 + 25) / 255][Stage 190:>(0 + 0) / 255]\r"
     ]
    },
    {
     "name": "stderr",
     "output_type": "stream",
     "text": [
      "\r",
      "[Stage 188:(244 + 11) / 255][Stage 189:(11 + 39) / 255][Stage 190:>(0 + 0) / 255]\r",
      "\r",
      "[Stage 189:(17 + 50) / 255][Stage 190:>(0 + 0) / 255][Stage 191:>(0 + 0) / 255]\r"
     ]
    },
    {
     "name": "stderr",
     "output_type": "stream",
     "text": [
      "\r",
      "[Stage 189:(27 + 50) / 255][Stage 190:>(0 + 0) / 255][Stage 191:>(0 + 0) / 255]\r",
      "\r",
      "[Stage 189:(43 + 50) / 255][Stage 190:>(0 + 0) / 255][Stage 191:>(0 + 0) / 255]\r"
     ]
    },
    {
     "name": "stderr",
     "output_type": "stream",
     "text": [
      "\r",
      "[Stage 189:(58 + 50) / 255][Stage 190:>(0 + 0) / 255][Stage 191:>(0 + 0) / 255]\r",
      "\r",
      "[Stage 189:(71 + 50) / 255][Stage 190:>(0 + 0) / 255][Stage 191:>(0 + 0) / 255]\r"
     ]
    },
    {
     "name": "stderr",
     "output_type": "stream",
     "text": [
      "\r",
      "[Stage 189:(85 + 50) / 255][Stage 190:>(0 + 0) / 255][Stage 191:>(0 + 0) / 255]\r",
      "\r",
      "[Stage 189:(100 + 50) / 255][Stage 190:>(0 + 0) / 255][Stage 191:>(0 + 0) / 255]\r"
     ]
    },
    {
     "name": "stderr",
     "output_type": "stream",
     "text": [
      "\r",
      "[Stage 189:(119 + 50) / 255][Stage 190:>(0 + 0) / 255][Stage 191:>(0 + 0) / 255]\r",
      "\r",
      "[Stage 189:(194 + 50) / 255][Stage 190:>(0 + 0) / 255][Stage 191:>(0 + 0) / 255]\r"
     ]
    },
    {
     "name": "stderr",
     "output_type": "stream",
     "text": [
      "\r",
      "[Stage 189:(229 + 26) / 255][Stage 190:(6 + 24) / 255][Stage 191:>(0 + 0) / 255]\r",
      "\r",
      "[Stage 189:(245 + 10) / 255][Stage 190:(11 + 40) / 255][Stage 191:>(0 + 0) / 255]\r"
     ]
    },
    {
     "name": "stderr",
     "output_type": "stream",
     "text": [
      "\r",
      "[Stage 189:(253 + 2) / 255][Stage 190:(16 + 48) / 255][Stage 191:>(0 + 0) / 255]\r",
      "\r",
      "[Stage 190:(18 + 50) / 255][Stage 191:>(0 + 0) / 255][Stage 192:>(0 + 0) / 255]\r"
     ]
    },
    {
     "name": "stderr",
     "output_type": "stream",
     "text": [
      "\r",
      "[Stage 190:(31 + 50) / 255][Stage 191:>(0 + 0) / 255][Stage 192:>(0 + 0) / 255]\r",
      "\r",
      "[Stage 190:(53 + 50) / 255][Stage 191:>(0 + 0) / 255][Stage 192:>(0 + 0) / 255]\r"
     ]
    },
    {
     "name": "stderr",
     "output_type": "stream",
     "text": [
      "\r",
      "[Stage 190:(66 + 50) / 255][Stage 191:>(0 + 0) / 255][Stage 192:>(0 + 0) / 255]\r",
      "\r",
      "[Stage 190:(81 + 50) / 255][Stage 191:>(0 + 0) / 255][Stage 192:>(0 + 0) / 255]\r"
     ]
    },
    {
     "name": "stderr",
     "output_type": "stream",
     "text": [
      "\r",
      "[Stage 190:(91 + 50) / 255][Stage 191:>(0 + 0) / 255][Stage 192:>(0 + 0) / 255]\r",
      "\r",
      "[Stage 190:(109 + 50) / 255][Stage 191:>(0 + 0) / 255][Stage 192:>(0 + 0) / 255]\r"
     ]
    },
    {
     "name": "stderr",
     "output_type": "stream",
     "text": [
      "\r",
      "[Stage 190:(129 + 50) / 255][Stage 191:>(0 + 0) / 255][Stage 192:>(0 + 0) / 255]\r",
      "\r",
      "[Stage 190:(222 + 33) / 255][Stage 191:(1 + 17) / 255][Stage 192:>(0 + 0) / 255]\r"
     ]
    },
    {
     "name": "stderr",
     "output_type": "stream",
     "text": [
      "\r",
      "[Stage 190:(240 + 15) / 255][Stage 191:(7 + 35) / 255][Stage 192:>(0 + 0) / 255]\r",
      "\r",
      "[Stage 190:(250 + 5) / 255][Stage 191:(15 + 45) / 255][Stage 192:>(0 + 0) / 255]\r"
     ]
    },
    {
     "name": "stderr",
     "output_type": "stream",
     "text": [
      "\r",
      "[Stage 190:(253 + 2) / 255][Stage 191:(17 + 48) / 255][Stage 192:>(0 + 0) / 255]\r",
      "\r",
      "[Stage 190:(254 + 1) / 255][Stage 191:(25 + 49) / 255][Stage 192:>(0 + 0) / 255]\r"
     ]
    },
    {
     "name": "stderr",
     "output_type": "stream",
     "text": [
      "\r",
      "[Stage 191:(39 + 50) / 255][Stage 192:>(0 + 0) / 255][Stage 193:>(0 + 0) / 255]\r",
      "\r",
      "[Stage 191:(59 + 50) / 255][Stage 192:>(0 + 0) / 255][Stage 193:>(0 + 0) / 255]\r"
     ]
    },
    {
     "name": "stderr",
     "output_type": "stream",
     "text": [
      "\r",
      "[Stage 191:(76 + 50) / 255][Stage 192:>(0 + 0) / 255][Stage 193:>(0 + 0) / 255]\r",
      "\r",
      "[Stage 191:(89 + 50) / 255][Stage 192:>(0 + 0) / 255][Stage 193:>(0 + 0) / 255]\r"
     ]
    },
    {
     "name": "stderr",
     "output_type": "stream",
     "text": [
      "\r",
      "[Stage 191:(98 + 50) / 255][Stage 192:>(0 + 0) / 255][Stage 193:>(0 + 0) / 255]\r",
      "\r",
      "[Stage 191:(113 + 50) / 255][Stage 192:>(0 + 0) / 255][Stage 193:>(0 + 0) / 255]\r"
     ]
    },
    {
     "name": "stderr",
     "output_type": "stream",
     "text": [
      "\r",
      "[Stage 191:(188 + 52) / 255][Stage 192:>(0 + 0) / 255][Stage 193:>(0 + 0) / 255]\r",
      "\r",
      "[Stage 191:(228 + 27) / 255][Stage 192:(5 + 23) / 255][Stage 193:>(0 + 0) / 255]\r"
     ]
    },
    {
     "name": "stderr",
     "output_type": "stream",
     "text": [
      "\r",
      "[Stage 191:(241 + 14) / 255][Stage 192:(7 + 36) / 255][Stage 193:>(0 + 0) / 255]\r",
      "\r",
      "[Stage 191:(251 + 4) / 255][Stage 192:(16 + 46) / 255][Stage 193:>(0 + 0) / 255]\r"
     ]
    },
    {
     "name": "stderr",
     "output_type": "stream",
     "text": [
      "\r",
      "[Stage 192:>            (18 + 50) / 255][Stage 193:>              (0 + 0) / 255]\r",
      "\r",
      "[Stage 192:=>           (39 + 50) / 255][Stage 193:>              (0 + 0) / 255]\r"
     ]
    },
    {
     "name": "stderr",
     "output_type": "stream",
     "text": [
      "\r",
      "[Stage 192:==>          (49 + 50) / 255][Stage 193:>              (0 + 0) / 255]\r",
      "\r",
      "[Stage 192:===>         (66 + 50) / 255][Stage 193:>              (0 + 0) / 255]\r"
     ]
    },
    {
     "name": "stderr",
     "output_type": "stream",
     "text": [
      "\r",
      "[Stage 192:===>         (76 + 50) / 255][Stage 193:>              (0 + 0) / 255]\r",
      "\r",
      "[Stage 192:====>       (100 + 50) / 255][Stage 193:>              (0 + 0) / 255]\r"
     ]
    },
    {
     "name": "stderr",
     "output_type": "stream",
     "text": [
      "\r",
      "[Stage 192:=====>      (113 + 50) / 255][Stage 193:>              (0 + 0) / 255]\r",
      "\r",
      "[Stage 192:=======>    (156 + 50) / 255][Stage 193:>              (0 + 0) / 255]\r"
     ]
    },
    {
     "name": "stderr",
     "output_type": "stream",
     "text": [
      "\r",
      "[Stage 192:==========> (230 + 25) / 255][Stage 193:>             (5 + 25) / 255]\r",
      "\r",
      "[Stage 192:===========>(242 + 13) / 255][Stage 193:>             (9 + 37) / 255]\r"
     ]
    },
    {
     "name": "stderr",
     "output_type": "stream",
     "text": [
      "\r",
      "[Stage 192:============>(251 + 4) / 255][Stage 193:>            (16 + 46) / 255]\r",
      "\r",
      "[Stage 193:======>                                              (30 + 50) / 255]\r"
     ]
    },
    {
     "name": "stderr",
     "output_type": "stream",
     "text": [
      "\r",
      "[Stage 193:=========>                                           (46 + 50) / 255]\r",
      "\r",
      "[Stage 193:============>                                        (60 + 50) / 255]\r"
     ]
    },
    {
     "name": "stderr",
     "output_type": "stream",
     "text": [
      "\r",
      "[Stage 193:================>                                    (81 + 50) / 255]\r",
      "\r",
      "[Stage 193:====================>                               (102 + 50) / 255]\r"
     ]
    },
    {
     "name": "stderr",
     "output_type": "stream",
     "text": [
      "\r",
      "[Stage 193:=======================>                            (117 + 50) / 255]\r",
      "\r",
      "[Stage 193:=============================================>      (222 + 33) / 255]\r"
     ]
    },
    {
     "name": "stderr",
     "output_type": "stream",
     "text": [
      "\r",
      "[Stage 193:=================================================>  (243 + 12) / 255]\r",
      "\r",
      "[Stage 193:====================================================>(252 + 3) / 255]\r"
     ]
    },
    {
     "name": "stderr",
     "output_type": "stream",
     "text": [
      "\r",
      "                                                                                \r",
      "Iteration 3: Largest change in params was 0.000477 in the m_probability of middle_initial, level `All other comparisons`\n"
     ]
    },
    {
     "name": "stderr",
     "output_type": "stream",
     "text": [
      "\r",
      "[Stage 202:(18 + 50) / 255][Stage 203:>(0 + 0) / 255][Stage 204:>(0 + 0) / 255]\r",
      "\r",
      "[Stage 202:(20 + 50) / 255][Stage 203:>(0 + 0) / 255][Stage 204:>(0 + 0) / 255]\r"
     ]
    },
    {
     "name": "stderr",
     "output_type": "stream",
     "text": [
      "\r",
      "[Stage 202:(55 + 50) / 255][Stage 203:>(0 + 0) / 255][Stage 204:>(0 + 0) / 255]\r",
      "\r",
      "[Stage 202:(71 + 50) / 255][Stage 203:>(0 + 0) / 255][Stage 204:>(0 + 0) / 255]\r"
     ]
    },
    {
     "name": "stderr",
     "output_type": "stream",
     "text": [
      "\r",
      "[Stage 202:(81 + 50) / 255][Stage 203:>(0 + 0) / 255][Stage 204:>(0 + 0) / 255]\r",
      "\r",
      "[Stage 202:(99 + 50) / 255][Stage 203:>(0 + 0) / 255][Stage 204:>(0 + 0) / 255]\r"
     ]
    },
    {
     "name": "stderr",
     "output_type": "stream",
     "text": [
      "\r",
      "[Stage 202:(117 + 50) / 255][Stage 203:>(0 + 0) / 255][Stage 204:>(0 + 0) / 255]\r",
      "\r",
      "[Stage 202:(199 + 51) / 255][Stage 203:>(0 + 0) / 255][Stage 204:>(0 + 0) / 255]\r"
     ]
    },
    {
     "name": "stderr",
     "output_type": "stream",
     "text": [
      "\r",
      "[Stage 202:(229 + 26) / 255][Stage 203:(5 + 24) / 255][Stage 204:>(0 + 0) / 255]\r",
      "\r",
      "[Stage 202:(251 + 4) / 255][Stage 203:(11 + 46) / 255][Stage 204:>(0 + 0) / 255]\r"
     ]
    },
    {
     "name": "stderr",
     "output_type": "stream",
     "text": [
      "\r",
      "[Stage 202:(253 + 2) / 255][Stage 203:(17 + 48) / 255][Stage 204:>(0 + 0) / 255]\r",
      "\r",
      "[Stage 203:(21 + 50) / 255][Stage 204:>(0 + 0) / 255][Stage 205:>(0 + 0) / 255]\r"
     ]
    },
    {
     "name": "stderr",
     "output_type": "stream",
     "text": [
      "\r",
      "[Stage 203:(33 + 50) / 255][Stage 204:>(0 + 0) / 255][Stage 205:>(0 + 0) / 255]\r",
      "\r",
      "[Stage 203:(59 + 50) / 255][Stage 204:>(0 + 0) / 255][Stage 205:>(0 + 0) / 255]\r"
     ]
    },
    {
     "name": "stderr",
     "output_type": "stream",
     "text": [
      "\r",
      "[Stage 203:(75 + 50) / 255][Stage 204:>(0 + 0) / 255][Stage 205:>(0 + 0) / 255]\r",
      "\r",
      "[Stage 203:(86 + 50) / 255][Stage 204:>(0 + 0) / 255][Stage 205:>(0 + 0) / 255]\r"
     ]
    },
    {
     "name": "stderr",
     "output_type": "stream",
     "text": [
      "\r",
      "[Stage 203:(101 + 50) / 255][Stage 204:>(0 + 0) / 255][Stage 205:>(0 + 0) / 255]\r",
      "\r",
      "[Stage 203:(123 + 50) / 255][Stage 204:>(0 + 0) / 255][Stage 205:>(0 + 0) / 255]\r"
     ]
    },
    {
     "name": "stderr",
     "output_type": "stream",
     "text": [
      "\r",
      "[Stage 203:(217 + 38) / 255][Stage 204:(0 + 12) / 255][Stage 205:>(0 + 0) / 255]\r",
      "\r",
      "[Stage 203:(237 + 18) / 255][Stage 204:(7 + 32) / 255][Stage 205:>(0 + 0) / 255]\r"
     ]
    },
    {
     "name": "stderr",
     "output_type": "stream",
     "text": [
      "\r",
      "[Stage 203:(249 + 6) / 255][Stage 204:(12 + 44) / 255][Stage 205:>(0 + 0) / 255]\r",
      "\r",
      "[Stage 203:(253 + 2) / 255][Stage 204:(16 + 48) / 255][Stage 205:>(0 + 0) / 255]\r"
     ]
    },
    {
     "name": "stderr",
     "output_type": "stream",
     "text": [
      "\r",
      "[Stage 204:(19 + 50) / 255][Stage 205:>(0 + 0) / 255][Stage 206:>(0 + 0) / 255]\r",
      "\r",
      "[Stage 204:(45 + 50) / 255][Stage 205:>(0 + 0) / 255][Stage 206:>(0 + 0) / 255]\r"
     ]
    },
    {
     "name": "stderr",
     "output_type": "stream",
     "text": [
      "\r",
      "[Stage 204:(63 + 51) / 255][Stage 205:>(0 + 0) / 255][Stage 206:>(0 + 0) / 255]\r",
      "\r",
      "[Stage 204:(80 + 50) / 255][Stage 205:>(0 + 0) / 255][Stage 206:>(0 + 0) / 255]\r"
     ]
    },
    {
     "name": "stderr",
     "output_type": "stream",
     "text": [
      "\r",
      "[Stage 204:(88 + 50) / 255][Stage 205:>(0 + 0) / 255][Stage 206:>(0 + 0) / 255]\r",
      "\r",
      "[Stage 204:(101 + 50) / 255][Stage 205:>(0 + 0) / 255][Stage 206:>(0 + 0) / 255]\r"
     ]
    },
    {
     "name": "stderr",
     "output_type": "stream",
     "text": [
      "\r",
      "[Stage 204:(125 + 50) / 255][Stage 205:>(0 + 0) / 255][Stage 206:>(0 + 0) / 255]\r",
      "\r",
      "[Stage 204:(218 + 37) / 255][Stage 205:(0 + 13) / 255][Stage 206:>(0 + 0) / 255]\r"
     ]
    },
    {
     "name": "stderr",
     "output_type": "stream",
     "text": [
      "\r",
      "[Stage 204:(234 + 21) / 255][Stage 205:(7 + 29) / 255][Stage 206:>(0 + 0) / 255]\r",
      "\r",
      "[Stage 204:(248 + 7) / 255][Stage 205:(14 + 43) / 255][Stage 206:>(0 + 0) / 255]\r"
     ]
    },
    {
     "name": "stderr",
     "output_type": "stream",
     "text": [
      "\r",
      "[Stage 204:(253 + 2) / 255][Stage 205:(16 + 48) / 255][Stage 206:>(0 + 0) / 255]\r",
      "\r",
      "[Stage 205:(20 + 50) / 255][Stage 206:>(0 + 0) / 255][Stage 207:>(0 + 0) / 255]\r"
     ]
    },
    {
     "name": "stderr",
     "output_type": "stream",
     "text": [
      "\r",
      "[Stage 205:(47 + 50) / 255][Stage 206:>(0 + 0) / 255][Stage 207:>(0 + 0) / 255]\r",
      "\r",
      "[Stage 205:(64 + 50) / 255][Stage 206:>(0 + 0) / 255][Stage 207:>(0 + 0) / 255]\r"
     ]
    },
    {
     "name": "stderr",
     "output_type": "stream",
     "text": [
      "\r",
      "[Stage 205:(73 + 50) / 255][Stage 206:>(0 + 0) / 255][Stage 207:>(0 + 0) / 255]\r",
      "\r",
      "[Stage 205:(83 + 50) / 255][Stage 206:>(0 + 0) / 255][Stage 207:>(0 + 0) / 255]\r"
     ]
    },
    {
     "name": "stderr",
     "output_type": "stream",
     "text": [
      "\r",
      "[Stage 205:(105 + 50) / 255][Stage 206:>(0 + 0) / 255][Stage 207:>(0 + 0) / 255]\r",
      "\r",
      "[Stage 205:(151 + 50) / 255][Stage 206:>(0 + 0) / 255][Stage 207:>(0 + 0) / 255]\r"
     ]
    },
    {
     "name": "stderr",
     "output_type": "stream",
     "text": [
      "\r",
      "[Stage 205:(222 + 33) / 255][Stage 206:(4 + 17) / 255][Stage 207:>(0 + 0) / 255]\r",
      "\r",
      "[Stage 205:(235 + 20) / 255][Stage 206:(7 + 30) / 255][Stage 207:>(0 + 0) / 255]\r"
     ]
    },
    {
     "name": "stderr",
     "output_type": "stream",
     "text": [
      "\r",
      "[Stage 205:(248 + 7) / 255][Stage 206:(10 + 43) / 255][Stage 207:>(0 + 0) / 255]\r",
      "\r",
      "[Stage 205:(252 + 3) / 255][Stage 206:(16 + 47) / 255][Stage 207:>(0 + 0) / 255]\r"
     ]
    },
    {
     "name": "stderr",
     "output_type": "stream",
     "text": [
      "\r",
      "[Stage 205:(254 + 1) / 255][Stage 206:(27 + 49) / 255][Stage 207:>(0 + 0) / 255]\r",
      "\r",
      "[Stage 206:(45 + 50) / 255][Stage 207:>(0 + 0) / 255][Stage 208:>(0 + 0) / 255]\r"
     ]
    },
    {
     "name": "stderr",
     "output_type": "stream",
     "text": [
      "\r",
      "[Stage 206:(60 + 50) / 255][Stage 207:>(0 + 0) / 255][Stage 208:>(0 + 0) / 255]\r",
      "\r",
      "[Stage 206:(75 + 50) / 255][Stage 207:>(0 + 0) / 255][Stage 208:>(0 + 0) / 255]\r"
     ]
    },
    {
     "name": "stderr",
     "output_type": "stream",
     "text": [
      "\r",
      "[Stage 206:(91 + 50) / 255][Stage 207:>(0 + 0) / 255][Stage 208:>(0 + 0) / 255]\r",
      "\r",
      "[Stage 206:(99 + 50) / 255][Stage 207:>(0 + 0) / 255][Stage 208:>(0 + 0) / 255]\r"
     ]
    },
    {
     "name": "stderr",
     "output_type": "stream",
     "text": [
      "\r",
      "[Stage 206:(129 + 50) / 255][Stage 207:>(0 + 0) / 255][Stage 208:>(0 + 0) / 255]\r",
      "\r",
      "[Stage 206:(223 + 32) / 255][Stage 207:(0 + 18) / 255][Stage 208:>(0 + 0) / 255]\r"
     ]
    },
    {
     "name": "stderr",
     "output_type": "stream",
     "text": [
      "\r",
      "[Stage 206:(235 + 20) / 255][Stage 207:(7 + 30) / 255][Stage 208:>(0 + 0) / 255]\r",
      "\r",
      "[Stage 206:(242 + 13) / 255][Stage 207:(10 + 37) / 255][Stage 208:>(0 + 0) / 255]\r"
     ]
    },
    {
     "name": "stderr",
     "output_type": "stream",
     "text": [
      "\r",
      "[Stage 206:(252 + 3) / 255][Stage 207:(14 + 47) / 255][Stage 208:>(0 + 0) / 255]\r",
      "\r",
      "[Stage 207:=>           (26 + 50) / 255][Stage 208:>              (0 + 0) / 255]\r"
     ]
    },
    {
     "name": "stderr",
     "output_type": "stream",
     "text": [
      "\r",
      "[Stage 207:==>          (53 + 50) / 255][Stage 208:>              (0 + 0) / 255]\r",
      "\r",
      "[Stage 207:===>         (60 + 50) / 255][Stage 208:>              (0 + 0) / 255]\r"
     ]
    },
    {
     "name": "stderr",
     "output_type": "stream",
     "text": [
      "\r",
      "[Stage 207:===>         (69 + 50) / 255][Stage 208:>              (0 + 0) / 255]\r",
      "\r",
      "[Stage 207:====>        (85 + 50) / 255][Stage 208:>              (0 + 0) / 255]\r"
     ]
    },
    {
     "name": "stderr",
     "output_type": "stream",
     "text": [
      "\r",
      "[Stage 207:====>       (106 + 50) / 255][Stage 208:>              (0 + 0) / 255]\r",
      "\r",
      "[Stage 207:======>     (141 + 50) / 255][Stage 208:>              (0 + 0) / 255]\r"
     ]
    },
    {
     "name": "stderr",
     "output_type": "stream",
     "text": [
      "\r",
      "[Stage 207:==========> (221 + 34) / 255][Stage 208:>             (4 + 16) / 255]\r",
      "\r",
      "[Stage 207:===========>(237 + 18) / 255][Stage 208:>             (8 + 32) / 255]\r"
     ]
    },
    {
     "name": "stderr",
     "output_type": "stream",
     "text": [
      "\r",
      "[Stage 207:============>(247 + 8) / 255][Stage 208:>            (10 + 42) / 255]\r",
      "\r",
      "[Stage 207:============>(254 + 1) / 255][Stage 208:=>           (21 + 49) / 255]\r"
     ]
    },
    {
     "name": "stderr",
     "output_type": "stream",
     "text": [
      "\r",
      "[Stage 208:=========>                                           (46 + 50) / 255]\r",
      "\r",
      "[Stage 208:============>                                        (60 + 50) / 255]\r"
     ]
    },
    {
     "name": "stderr",
     "output_type": "stream",
     "text": [
      "\r",
      "[Stage 208:===============>                                     (76 + 50) / 255]\r",
      "\r",
      "[Stage 208:====================>                                (98 + 50) / 255]\r"
     ]
    },
    {
     "name": "stderr",
     "output_type": "stream",
     "text": [
      "\r",
      "[Stage 208:========================>                           (121 + 50) / 255]\r",
      "\r",
      "[Stage 208:=============================================>      (222 + 33) / 255]\r"
     ]
    },
    {
     "name": "stderr",
     "output_type": "stream",
     "text": [
      "\r",
      "[Stage 208:================================================>   (236 + 19) / 255]\r",
      "\r",
      "[Stage 208:====================================================>(253 + 2) / 255]\r"
     ]
    },
    {
     "name": "stderr",
     "output_type": "stream",
     "text": [
      "\r",
      "                                                                                \r",
      "Iteration 4: Largest change in params was 7.59e-05 in the m_probability of last_name_12, level `All other comparisons`\n"
     ]
    },
    {
     "name": "stderr",
     "output_type": "stream",
     "text": [
      "\n",
      "EM converged after 4 iterations\n"
     ]
    },
    {
     "name": "stderr",
     "output_type": "stream",
     "text": [
      "\n",
      "Your model is fully trained. All comparisons have at least one estimate for their m and u values\n"
     ]
    }
   ],
   "source": [
    "blocking_rule_for_training = \"l.geokey = r.geokey\"\n",
    "em_session_2 = linker.estimate_parameters_using_expectation_maximisation(\n",
    "    blocking_rule_for_training,\n",
    "    # Fix lambda; u is fixed by default\n",
    "    fix_probability_two_random_records_match=True,\n",
    ")"
   ]
  },
  {
   "cell_type": "code",
   "execution_count": 60,
   "id": "750d48f3-7f15-40de-aa1a-78d4ed42371f",
   "metadata": {
    "execution": {
     "iopub.execute_input": "2024-05-16T06:30:04.969575Z",
     "iopub.status.busy": "2024-05-16T06:30:04.968183Z",
     "iopub.status.idle": "2024-05-16T06:30:05.180772Z",
     "shell.execute_reply": "2024-05-16T06:30:05.179188Z"
    },
    "papermill": {
     "duration": 0.257732,
     "end_time": "2024-05-16T06:30:05.184873",
     "exception": false,
     "start_time": "2024-05-16T06:30:04.927141",
     "status": "completed"
    },
    "tags": []
   },
   "outputs": [
    {
     "data": {
      "text/html": [
       "\n",
       "<style>\n",
       "  #altair-viz-a7466b80fc8748c090e4617e045117a2.vega-embed {\n",
       "    width: 100%;\n",
       "    display: flex;\n",
       "  }\n",
       "\n",
       "  #altair-viz-a7466b80fc8748c090e4617e045117a2.vega-embed details,\n",
       "  #altair-viz-a7466b80fc8748c090e4617e045117a2.vega-embed details summary {\n",
       "    position: relative;\n",
       "  }\n",
       "</style>\n",
       "<div id=\"altair-viz-a7466b80fc8748c090e4617e045117a2\"></div>\n",
       "<script type=\"text/javascript\">\n",
       "  var VEGA_DEBUG = (typeof VEGA_DEBUG == \"undefined\") ? {} : VEGA_DEBUG;\n",
       "  (function(spec, embedOpt){\n",
       "    let outputDiv = document.currentScript.previousElementSibling;\n",
       "    if (outputDiv.id !== \"altair-viz-a7466b80fc8748c090e4617e045117a2\") {\n",
       "      outputDiv = document.getElementById(\"altair-viz-a7466b80fc8748c090e4617e045117a2\");\n",
       "    }\n",
       "    const paths = {\n",
       "      \"vega\": \"https://cdn.jsdelivr.net/npm/vega@5?noext\",\n",
       "      \"vega-lib\": \"https://cdn.jsdelivr.net/npm/vega-lib?noext\",\n",
       "      \"vega-lite\": \"https://cdn.jsdelivr.net/npm/vega-lite@5.17.0?noext\",\n",
       "      \"vega-embed\": \"https://cdn.jsdelivr.net/npm/vega-embed@6?noext\",\n",
       "    };\n",
       "\n",
       "    function maybeLoadScript(lib, version) {\n",
       "      var key = `${lib.replace(\"-\", \"\")}_version`;\n",
       "      return (VEGA_DEBUG[key] == version) ?\n",
       "        Promise.resolve(paths[lib]) :\n",
       "        new Promise(function(resolve, reject) {\n",
       "          var s = document.createElement('script');\n",
       "          document.getElementsByTagName(\"head\")[0].appendChild(s);\n",
       "          s.async = true;\n",
       "          s.onload = () => {\n",
       "            VEGA_DEBUG[key] = version;\n",
       "            return resolve(paths[lib]);\n",
       "          };\n",
       "          s.onerror = () => reject(`Error loading script: ${paths[lib]}`);\n",
       "          s.src = paths[lib];\n",
       "        });\n",
       "    }\n",
       "\n",
       "    function showError(err) {\n",
       "      outputDiv.innerHTML = `<div class=\"error\" style=\"color:red;\">${err}</div>`;\n",
       "      throw err;\n",
       "    }\n",
       "\n",
       "    function displayChart(vegaEmbed) {\n",
       "      vegaEmbed(outputDiv, spec, embedOpt)\n",
       "        .catch(err => showError(`Javascript Error: ${err.message}<br>This usually means there's a typo in your chart specification. See the javascript console for the full traceback.`));\n",
       "    }\n",
       "\n",
       "    if(typeof define === \"function\" && define.amd) {\n",
       "      requirejs.config({paths});\n",
       "      require([\"vega-embed\"], displayChart, err => showError(`Error loading script: ${err.message}`));\n",
       "    } else {\n",
       "      maybeLoadScript(\"vega\", \"5\")\n",
       "        .then(() => maybeLoadScript(\"vega-lite\", \"5.17.0\"))\n",
       "        .then(() => maybeLoadScript(\"vega-embed\", \"6\"))\n",
       "        .catch(showError)\n",
       "        .then(() => displayChart(vegaEmbed));\n",
       "    }\n",
       "  })({\"config\": {\"view\": {\"continuousWidth\": 300, \"continuousHeight\": 300, \"discreteHeight\": 300, \"discreteWidth\": 400}, \"header\": {\"title\": null}, \"title\": {\"anchor\": \"middle\", \"offset\": 10}}, \"hconcat\": [{\"mark\": \"bar\", \"encoding\": {\"color\": {\"value\": \"green\"}, \"row\": {\"field\": \"comparison_name\", \"header\": {\"labelAlign\": \"left\", \"labelAnchor\": \"middle\", \"labelAngle\": 0}, \"sort\": {\"field\": \"comparison_sort_order\"}, \"type\": \"nominal\"}, \"tooltip\": [{\"field\": \"m_probability_description\", \"title\": \"m probability description\", \"type\": \"nominal\"}, {\"field\": \"comparison_name\", \"title\": \"Comparison column name\", \"type\": \"nominal\"}, {\"field\": \"label_for_charts\", \"title\": \"Label\", \"type\": \"ordinal\"}, {\"field\": \"sql_condition\", \"title\": \"SQL condition\", \"type\": \"nominal\"}, {\"field\": \"m_probability\", \"format\": \".4p\", \"title\": \"m probability\", \"type\": \"quantitative\"}, {\"field\": \"u_probability\", \"format\": \".4p\", \"title\": \"u probability\", \"type\": \"quantitative\"}, {\"field\": \"bayes_factor\", \"format\": \",.4f\", \"title\": \"Bayes factor = m/u\", \"type\": \"quantitative\"}, {\"field\": \"log2_bayes_factor\", \"format\": \",.4f\", \"title\": \"Match weight = log2(m/u)\", \"type\": \"quantitative\"}], \"x\": {\"axis\": {\"title\": \"Proportion of record comparisons\"}, \"field\": \"m_probability\", \"type\": \"quantitative\"}, \"y\": {\"axis\": {\"title\": null}, \"field\": \"label_for_charts\", \"sort\": {\"field\": \"comparison_vector_value\", \"order\": \"descending\"}, \"type\": \"nominal\"}}, \"height\": {\"step\": 12}, \"resolve\": {\"scale\": {\"y\": \"independent\"}}, \"title\": {\"text\": \"Amongst matching record comparisons:\", \"fontSize\": 12, \"fontWeight\": \"bold\"}, \"transform\": [{\"filter\": \"(datum.bayes_factor != 'no-op filter due to vega lite issue 4680')\"}], \"width\": 150}, {\"mark\": \"bar\", \"encoding\": {\"color\": {\"value\": \"red\"}, \"row\": {\"field\": \"comparison_name\", \"header\": {\"labels\": false}, \"sort\": {\"field\": \"comparison_sort_order\"}, \"type\": \"nominal\"}, \"tooltip\": [{\"field\": \"u_probability_description\", \"title\": \"u probability description\", \"type\": \"nominal\"}, {\"field\": \"comparison_name\", \"title\": \"Comparison column name\", \"type\": \"nominal\"}, {\"field\": \"label_for_charts\", \"title\": \"Label\", \"type\": \"ordinal\"}, {\"field\": \"sql_condition\", \"title\": \"SQL condition\", \"type\": \"nominal\"}, {\"field\": \"m_probability\", \"format\": \".4p\", \"title\": \"m probability\", \"type\": \"quantitative\"}, {\"field\": \"u_probability\", \"format\": \".4p\", \"title\": \"u probability\", \"type\": \"quantitative\"}, {\"field\": \"bayes_factor\", \"format\": \",.4f\", \"title\": \"Bayes factor = m/u\", \"type\": \"quantitative\"}, {\"field\": \"log2_bayes_factor\", \"format\": \",.4f\", \"title\": \"Match weight = log2(m/u)\", \"type\": \"quantitative\"}], \"x\": {\"axis\": {\"title\": \"Proportion of record comparisons\"}, \"field\": \"u_probability\", \"type\": \"quantitative\"}, \"y\": {\"axis\": {\"title\": null}, \"field\": \"label_for_charts\", \"sort\": {\"field\": \"comparison_vector_value\", \"order\": \"descending\"}, \"type\": \"nominal\"}}, \"height\": {\"step\": 12}, \"resolve\": {\"scale\": {\"y\": \"independent\"}}, \"title\": {\"text\": \"Amongst non-matching record comparisons:\", \"fontSize\": 12, \"fontWeight\": \"bold\"}, \"transform\": [{\"filter\": \"(datum.bayes_factor != 'no-op filter2 due to vega lite issue 4680')\"}], \"width\": 150}], \"data\": {\"name\": \"data-80fd34248e2ee79df37cae35504edd38\"}, \"params\": [{\"name\": \"iteration_number\", \"bind\": {\"input\": \"range\", \"max\": 4, \"min\": 0, \"step\": 1}, \"value\": 4}], \"title\": {\"text\": \"Proportion of record comparisons in each comparison level by match status\", \"subtitle\": \"(m and u probabilities)\"}, \"transform\": [{\"filter\": \"(datum.iteration == iteration_number)\"}], \"$schema\": \"https://vega.github.io/schema/vega-lite/v5.9.3.json\", \"datasets\": {\"data-80fd34248e2ee79df37cae35504edd38\": [{\"comparison_name\": \"first_name_15\", \"sql_condition\": \"`first_name_15_l` = `first_name_15_r`\", \"label_for_charts\": \"Exact match\", \"m_probability\": 0.95, \"u_probability\": 0.0020078037145088655, \"m_probability_description\": \"Amongst matching record comparisons, 95.00% of records are in the exact match comparison level\", \"u_probability_description\": \"Amongst non-matching record comparisons, 0.20% of records are in the exact match comparison level\", \"has_tf_adjustments\": false, \"tf_adjustment_column\": null, \"tf_adjustment_weight\": 1.0, \"is_null_level\": false, \"bayes_factor\": 473.1538213297818, \"log2_bayes_factor\": 8.886165466771375, \"comparison_vector_value\": 2, \"max_comparison_vector_value\": 2, \"bayes_factor_description\": \"If comparison level is `exact match` then comparison is 473.15 times more likely to be a match\", \"probability_two_random_records_match\": 0.0001375226000255099, \"comparison_sort_order\": 0, \"iteration\": 0}, {\"comparison_name\": \"first_name_15\", \"sql_condition\": \"jaro_winkler(`first_name_15_l`, `first_name_15_r`) >= 0.8333333333333334\", \"label_for_charts\": \"Jaro_winkler >= 0.8333333333333334\", \"m_probability\": 0.025000000000000022, \"u_probability\": 0.0031729716420609063, \"m_probability_description\": \"Amongst matching record comparisons, 2.50% of records are in the jaro_winkler >= 0.8333333333333334 comparison level\", \"u_probability_description\": \"Amongst non-matching record comparisons, 0.32% of records are in the jaro_winkler >= 0.8333333333333334 comparison level\", \"has_tf_adjustments\": false, \"tf_adjustment_column\": null, \"tf_adjustment_weight\": 1.0, \"is_null_level\": false, \"bayes_factor\": 7.87904930148132, \"log2_bayes_factor\": 2.9780215623234367, \"comparison_vector_value\": 1, \"max_comparison_vector_value\": 2, \"bayes_factor_description\": \"If comparison level is `jaro_winkler >= 0.8333333333333334` then comparison is 7.88 times more likely to be a match\", \"probability_two_random_records_match\": 0.0001375226000255099, \"comparison_sort_order\": 0, \"iteration\": 0}, {\"comparison_name\": \"first_name_15\", \"sql_condition\": \"ELSE\", \"label_for_charts\": \"All other comparisons\", \"m_probability\": 0.025000000000000022, \"u_probability\": 0.9948192246434302, \"m_probability_description\": \"Amongst matching record comparisons, 2.50% of records are in the all other comparisons comparison level\", \"u_probability_description\": \"Amongst non-matching record comparisons, 99.48% of records are in the all other comparisons comparison level\", \"has_tf_adjustments\": false, \"tf_adjustment_column\": null, \"tf_adjustment_weight\": 1.0, \"is_null_level\": false, \"bayes_factor\": 0.025130193889207047, \"log2_bayes_factor\": -5.314434387560597, \"comparison_vector_value\": 0, \"max_comparison_vector_value\": 2, \"bayes_factor_description\": \"If comparison level is `all other comparisons` then comparison is  39.79 times less likely to be a match\", \"probability_two_random_records_match\": 0.0001375226000255099, \"comparison_sort_order\": 0, \"iteration\": 0}, {\"comparison_name\": \"last_name_12\", \"sql_condition\": \"`last_name_12_l` = `last_name_12_r`\", \"label_for_charts\": \"Exact match\", \"m_probability\": 0.9502085960060338, \"u_probability\": 0.0006057226012092292, \"m_probability_description\": \"Amongst matching record comparisons, 95.02% of records are in the exact match comparison level\", \"u_probability_description\": \"Amongst non-matching record comparisons, 0.06% of records are in the exact match comparison level\", \"has_tf_adjustments\": false, \"tf_adjustment_column\": null, \"tf_adjustment_weight\": 1.0, \"is_null_level\": false, \"bayes_factor\": 1568.7190705928638, \"log2_bayes_factor\": 10.615371299332075, \"comparison_vector_value\": 2, \"max_comparison_vector_value\": 2, \"bayes_factor_description\": \"If comparison level is `exact match` then comparison is 1,568.72 times more likely to be a match\", \"probability_two_random_records_match\": 0.0001375226000255099, \"comparison_sort_order\": 1, \"iteration\": 0}, {\"comparison_name\": \"last_name_12\", \"sql_condition\": \"jaro_winkler(`last_name_12_l`, `last_name_12_r`) >= 0.8333333333333334\", \"label_for_charts\": \"Jaro_winkler >= 0.8333333333333334\", \"m_probability\": 0.032450078802598835, \"u_probability\": 0.0012859293840712192, \"m_probability_description\": \"Amongst matching record comparisons, 3.25% of records are in the jaro_winkler >= 0.8333333333333334 comparison level\", \"u_probability_description\": \"Amongst non-matching record comparisons, 0.13% of records are in the jaro_winkler >= 0.8333333333333334 comparison level\", \"has_tf_adjustments\": false, \"tf_adjustment_column\": null, \"tf_adjustment_weight\": 1.0, \"is_null_level\": false, \"bayes_factor\": 25.234728441979236, \"log2_bayes_factor\": 4.6573386563595305, \"comparison_vector_value\": 1, \"max_comparison_vector_value\": 2, \"bayes_factor_description\": \"If comparison level is `jaro_winkler >= 0.8333333333333334` then comparison is 25.23 times more likely to be a match\", \"probability_two_random_records_match\": 0.0001375226000255099, \"comparison_sort_order\": 1, \"iteration\": 0}, {\"comparison_name\": \"last_name_12\", \"sql_condition\": \"ELSE\", \"label_for_charts\": \"All other comparisons\", \"m_probability\": 0.017341325191367385, \"u_probability\": 0.9981083480147196, \"m_probability_description\": \"Amongst matching record comparisons, 1.73% of records are in the all other comparisons comparison level\", \"u_probability_description\": \"Amongst non-matching record comparisons, 99.81% of records are in the all other comparisons comparison level\", \"has_tf_adjustments\": false, \"tf_adjustment_column\": null, \"tf_adjustment_weight\": 1.0, \"is_null_level\": false, \"bayes_factor\": 0.017374191114481737, \"log2_bayes_factor\": -5.846910377538044, \"comparison_vector_value\": 0, \"max_comparison_vector_value\": 2, \"bayes_factor_description\": \"If comparison level is `all other comparisons` then comparison is  57.56 times less likely to be a match\", \"probability_two_random_records_match\": 0.0001375226000255099, \"comparison_sort_order\": 1, \"iteration\": 0}, {\"comparison_name\": \"middle_initial\", \"sql_condition\": \"`middle_initial_l` = `middle_initial_r`\", \"label_for_charts\": \"Exact match\", \"m_probability\": 0.9830203683847073, \"u_probability\": 0.06625810679844002, \"m_probability_description\": \"Amongst matching record comparisons, 98.30% of records are in the exact match comparison level\", \"u_probability_description\": \"Amongst non-matching record comparisons, 6.63% of records are in the exact match comparison level\", \"has_tf_adjustments\": false, \"tf_adjustment_column\": null, \"tf_adjustment_weight\": 1.0, \"is_null_level\": false, \"bayes_factor\": 14.836227835110005, \"log2_bayes_factor\": 3.891052423008049, \"comparison_vector_value\": 1, \"max_comparison_vector_value\": 1, \"bayes_factor_description\": \"If comparison level is `exact match` then comparison is 14.84 times more likely to be a match\", \"probability_two_random_records_match\": 0.0001375226000255099, \"comparison_sort_order\": 2, \"iteration\": 0}, {\"comparison_name\": \"middle_initial\", \"sql_condition\": \"ELSE\", \"label_for_charts\": \"All other comparisons\", \"m_probability\": 0.01697963161529277, \"u_probability\": 0.93374189320156, \"m_probability_description\": \"Amongst matching record comparisons, 1.70% of records are in the all other comparisons comparison level\", \"u_probability_description\": \"Amongst non-matching record comparisons, 93.37% of records are in the all other comparisons comparison level\", \"has_tf_adjustments\": false, \"tf_adjustment_column\": null, \"tf_adjustment_weight\": 1.0, \"is_null_level\": false, \"bayes_factor\": 0.018184502311526362, \"log2_bayes_factor\": -5.781146748309945, \"comparison_vector_value\": 0, \"max_comparison_vector_value\": 1, \"bayes_factor_description\": \"If comparison level is `all other comparisons` then comparison is  54.99 times less likely to be a match\", \"probability_two_random_records_match\": 0.0001375226000255099, \"comparison_sort_order\": 2, \"iteration\": 0}, {\"comparison_name\": \"day_of_birth\", \"sql_condition\": \"`day_of_birth_l` = `day_of_birth_r`\", \"label_for_charts\": \"Exact match\", \"m_probability\": 0.9925640747946262, \"u_probability\": 0.03252879296232792, \"m_probability_description\": \"Amongst matching record comparisons, 99.26% of records are in the exact match comparison level\", \"u_probability_description\": \"Amongst non-matching record comparisons, 3.25% of records are in the exact match comparison level\", \"has_tf_adjustments\": false, \"tf_adjustment_column\": null, \"tf_adjustment_weight\": 1.0, \"is_null_level\": false, \"bayes_factor\": 30.51340011122237, \"log2_bayes_factor\": 4.931371043413846, \"comparison_vector_value\": 2, \"max_comparison_vector_value\": 2, \"bayes_factor_description\": \"If comparison level is `exact match` then comparison is 30.51 times more likely to be a match\", \"probability_two_random_records_match\": 0.0001375226000255099, \"comparison_sort_order\": 3, \"iteration\": 0}, {\"comparison_name\": \"day_of_birth\", \"sql_condition\": \"abs(day_of_birth_l - day_of_birth_r) <= 5\", \"label_for_charts\": \"Inexact match\", \"m_probability\": 0.005206633379685002, \"u_probability\": 0.29573920164687456, \"m_probability_description\": \"Amongst matching record comparisons, 0.52% of records are in the inexact match comparison level\", \"u_probability_description\": \"Amongst non-matching record comparisons, 29.57% of records are in the inexact match comparison level\", \"has_tf_adjustments\": false, \"tf_adjustment_column\": null, \"tf_adjustment_weight\": 1.0, \"is_null_level\": false, \"bayes_factor\": 0.017605489399751432, \"log2_bayes_factor\": -5.827830857786358, \"comparison_vector_value\": 1, \"max_comparison_vector_value\": 2, \"bayes_factor_description\": \"If comparison level is `inexact match` then comparison is  56.80 times less likely to be a match\", \"probability_two_random_records_match\": 0.0001375226000255099, \"comparison_sort_order\": 3, \"iteration\": 0}, {\"comparison_name\": \"day_of_birth\", \"sql_condition\": \"ELSE\", \"label_for_charts\": \"All other comparisons\", \"m_probability\": 0.0022292918256888805, \"u_probability\": 0.6717320053907976, \"m_probability_description\": \"Amongst matching record comparisons, 0.22% of records are in the all other comparisons comparison level\", \"u_probability_description\": \"Amongst non-matching record comparisons, 67.17% of records are in the all other comparisons comparison level\", \"has_tf_adjustments\": false, \"tf_adjustment_column\": null, \"tf_adjustment_weight\": 1.0, \"is_null_level\": false, \"bayes_factor\": 0.0033187220614744, \"log2_bayes_factor\": -8.235156473963222, \"comparison_vector_value\": 0, \"max_comparison_vector_value\": 2, \"bayes_factor_description\": \"If comparison level is `all other comparisons` then comparison is  301.32 times less likely to be a match\", \"probability_two_random_records_match\": 0.0001375226000255099, \"comparison_sort_order\": 3, \"iteration\": 0}, {\"comparison_name\": \"month_of_birth\", \"sql_condition\": \"`month_of_birth_l` = `month_of_birth_r`\", \"label_for_charts\": \"Exact match\", \"m_probability\": 0.9935377503968408, \"u_probability\": 0.08350433151288077, \"m_probability_description\": \"Amongst matching record comparisons, 99.35% of records are in the exact match comparison level\", \"u_probability_description\": \"Amongst non-matching record comparisons, 8.35% of records are in the exact match comparison level\", \"has_tf_adjustments\": false, \"tf_adjustment_column\": null, \"tf_adjustment_weight\": 1.0, \"is_null_level\": false, \"bayes_factor\": 11.898038489699003, \"log2_bayes_factor\": 3.57265184535869, \"comparison_vector_value\": 2, \"max_comparison_vector_value\": 2, \"bayes_factor_description\": \"If comparison level is `exact match` then comparison is 11.90 times more likely to be a match\", \"probability_two_random_records_match\": 0.0001375226000255099, \"comparison_sort_order\": 4, \"iteration\": 0}, {\"comparison_name\": \"month_of_birth\", \"sql_condition\": \"abs(month_of_birth_l - month_of_birth_r) <= 3\", \"label_for_charts\": \"Inexact match\", \"m_probability\": 0.00363927525453865, \"u_probability\": 0.4129544295915271, \"m_probability_description\": \"Amongst matching record comparisons, 0.36% of records are in the inexact match comparison level\", \"u_probability_description\": \"Amongst non-matching record comparisons, 41.30% of records are in the inexact match comparison level\", \"has_tf_adjustments\": false, \"tf_adjustment_column\": null, \"tf_adjustment_weight\": 1.0, \"is_null_level\": false, \"bayes_factor\": 0.008812776891964642, \"log2_bayes_factor\": -6.826187602970967, \"comparison_vector_value\": 1, \"max_comparison_vector_value\": 2, \"bayes_factor_description\": \"If comparison level is `inexact match` then comparison is  113.47 times less likely to be a match\", \"probability_two_random_records_match\": 0.0001375226000255099, \"comparison_sort_order\": 4, \"iteration\": 0}, {\"comparison_name\": \"month_of_birth\", \"sql_condition\": \"ELSE\", \"label_for_charts\": \"All other comparisons\", \"m_probability\": 0.002822974348620642, \"u_probability\": 0.5035412388955921, \"m_probability_description\": \"Amongst matching record comparisons, 0.28% of records are in the all other comparisons comparison level\", \"u_probability_description\": \"Amongst non-matching record comparisons, 50.35% of records are in the all other comparisons comparison level\", \"has_tf_adjustments\": false, \"tf_adjustment_column\": null, \"tf_adjustment_weight\": 1.0, \"is_null_level\": false, \"bayes_factor\": 0.005606242608474771, \"log2_bayes_factor\": -7.47875010674369, \"comparison_vector_value\": 0, \"max_comparison_vector_value\": 2, \"bayes_factor_description\": \"If comparison level is `all other comparisons` then comparison is  178.37 times less likely to be a match\", \"probability_two_random_records_match\": 0.0001375226000255099, \"comparison_sort_order\": 4, \"iteration\": 0}, {\"comparison_name\": \"year_of_birth\", \"sql_condition\": \"`year_of_birth_l` = `year_of_birth_r`\", \"label_for_charts\": \"Exact match\", \"m_probability\": 0.9943116968695347, \"u_probability\": 0.011084011593037122, \"m_probability_description\": \"Amongst matching record comparisons, 99.43% of records are in the exact match comparison level\", \"u_probability_description\": \"Amongst non-matching record comparisons, 1.11% of records are in the exact match comparison level\", \"has_tf_adjustments\": false, \"tf_adjustment_column\": null, \"tf_adjustment_weight\": 1.0, \"is_null_level\": false, \"bayes_factor\": 89.70684381944822, \"log2_bayes_factor\": 6.487146148791521, \"comparison_vector_value\": 2, \"max_comparison_vector_value\": 2, \"bayes_factor_description\": \"If comparison level is `exact match` then comparison is 89.71 times more likely to be a match\", \"probability_two_random_records_match\": 0.0001375226000255099, \"comparison_sort_order\": 5, \"iteration\": 0}, {\"comparison_name\": \"year_of_birth\", \"sql_condition\": \"abs(year_of_birth_l - year_of_birth_r) <= 5\", \"label_for_charts\": \"Inexact match\", \"m_probability\": 0.0018697599153210485, \"u_probability\": 0.10937488974972305, \"m_probability_description\": \"Amongst matching record comparisons, 0.19% of records are in the inexact match comparison level\", \"u_probability_description\": \"Amongst non-matching record comparisons, 10.94% of records are in the inexact match comparison level\", \"has_tf_adjustments\": false, \"tf_adjustment_column\": null, \"tf_adjustment_weight\": 1.0, \"is_null_level\": false, \"bayes_factor\": 0.01709496502898905, \"log2_bayes_factor\": -5.870284718308224, \"comparison_vector_value\": 1, \"max_comparison_vector_value\": 2, \"bayes_factor_description\": \"If comparison level is `inexact match` then comparison is  58.50 times less likely to be a match\", \"probability_two_random_records_match\": 0.0001375226000255099, \"comparison_sort_order\": 5, \"iteration\": 0}, {\"comparison_name\": \"year_of_birth\", \"sql_condition\": \"ELSE\", \"label_for_charts\": \"All other comparisons\", \"m_probability\": 0.0038185432151441536, \"u_probability\": 0.8795410986572398, \"m_probability_description\": \"Amongst matching record comparisons, 0.38% of records are in the all other comparisons comparison level\", \"u_probability_description\": \"Amongst non-matching record comparisons, 87.95% of records are in the all other comparisons comparison level\", \"has_tf_adjustments\": false, \"tf_adjustment_column\": null, \"tf_adjustment_weight\": 1.0, \"is_null_level\": false, \"bayes_factor\": 0.004341517662987859, \"log2_bayes_factor\": -7.847584831364231, \"comparison_vector_value\": 0, \"max_comparison_vector_value\": 2, \"bayes_factor_description\": \"If comparison level is `all other comparisons` then comparison is  230.33 times less likely to be a match\", \"probability_two_random_records_match\": 0.0001375226000255099, \"comparison_sort_order\": 5, \"iteration\": 0}, {\"comparison_name\": \"first_name_15\", \"sql_condition\": \"`first_name_15_l` = `first_name_15_r`\", \"label_for_charts\": \"Exact match\", \"m_probability\": 0.9323384021467278, \"u_probability\": 0.0020078037145088655, \"m_probability_description\": \"Amongst matching record comparisons, 93.23% of records are in the exact match comparison level\", \"u_probability_description\": \"Amongst non-matching record comparisons, 0.20% of records are in the exact match comparison level\", \"has_tf_adjustments\": false, \"tf_adjustment_column\": null, \"tf_adjustment_weight\": 1.0, \"is_null_level\": false, \"bayes_factor\": 464.3573449981338, \"log2_bayes_factor\": 8.859091644781897, \"comparison_vector_value\": 2, \"max_comparison_vector_value\": 2, \"bayes_factor_description\": \"If comparison level is `exact match` then comparison is 464.36 times more likely to be a match\", \"probability_two_random_records_match\": 0.0001375226000255099, \"comparison_sort_order\": 0, \"iteration\": 1}, {\"comparison_name\": \"first_name_15\", \"sql_condition\": \"jaro_winkler(`first_name_15_l`, `first_name_15_r`) >= 0.8333333333333334\", \"label_for_charts\": \"Jaro_winkler >= 0.8333333333333334\", \"m_probability\": 0.02912079780489606, \"u_probability\": 0.0031729716420609063, \"m_probability_description\": \"Amongst matching record comparisons, 2.91% of records are in the jaro_winkler >= 0.8333333333333334 comparison level\", \"u_probability_description\": \"Amongst non-matching record comparisons, 0.32% of records are in the jaro_winkler >= 0.8333333333333334 comparison level\", \"has_tf_adjustments\": false, \"tf_adjustment_column\": null, \"tf_adjustment_weight\": 1.0, \"is_null_level\": false, \"bayes_factor\": 9.177768064129795, \"log2_bayes_factor\": 3.19814334815814, \"comparison_vector_value\": 1, \"max_comparison_vector_value\": 2, \"bayes_factor_description\": \"If comparison level is `jaro_winkler >= 0.8333333333333334` then comparison is 9.18 times more likely to be a match\", \"probability_two_random_records_match\": 0.0001375226000255099, \"comparison_sort_order\": 0, \"iteration\": 1}, {\"comparison_name\": \"first_name_15\", \"sql_condition\": \"ELSE\", \"label_for_charts\": \"All other comparisons\", \"m_probability\": 0.03854080004837599, \"u_probability\": 0.9948192246434302, \"m_probability_description\": \"Amongst matching record comparisons, 3.85% of records are in the all other comparisons comparison level\", \"u_probability_description\": \"Amongst non-matching record comparisons, 99.48% of records are in the all other comparisons comparison level\", \"has_tf_adjustments\": false, \"tf_adjustment_column\": null, \"tf_adjustment_weight\": 1.0, \"is_null_level\": false, \"bayes_factor\": 0.03874151111443393, \"log2_bayes_factor\": -4.68997596234924, \"comparison_vector_value\": 0, \"max_comparison_vector_value\": 2, \"bayes_factor_description\": \"If comparison level is `all other comparisons` then comparison is  25.81 times less likely to be a match\", \"probability_two_random_records_match\": 0.0001375226000255099, \"comparison_sort_order\": 0, \"iteration\": 1}, {\"comparison_name\": \"last_name_12\", \"sql_condition\": \"`last_name_12_l` = `last_name_12_r`\", \"label_for_charts\": \"Exact match\", \"m_probability\": 0.9452921576971569, \"u_probability\": 0.0006057226012092292, \"m_probability_description\": \"Amongst matching record comparisons, 94.53% of records are in the exact match comparison level\", \"u_probability_description\": \"Amongst non-matching record comparisons, 0.06% of records are in the exact match comparison level\", \"has_tf_adjustments\": false, \"tf_adjustment_column\": null, \"tf_adjustment_weight\": 1.0, \"is_null_level\": false, \"bayes_factor\": 1560.6024206625789, \"log2_bayes_factor\": 10.607887327554044, \"comparison_vector_value\": 2, \"max_comparison_vector_value\": 2, \"bayes_factor_description\": \"If comparison level is `exact match` then comparison is 1,560.60 times more likely to be a match\", \"probability_two_random_records_match\": 0.0001375226000255099, \"comparison_sort_order\": 1, \"iteration\": 1}, {\"comparison_name\": \"last_name_12\", \"sql_condition\": \"jaro_winkler(`last_name_12_l`, `last_name_12_r`) >= 0.8333333333333334\", \"label_for_charts\": \"Jaro_winkler >= 0.8333333333333334\", \"m_probability\": 0.036513484010057086, \"u_probability\": 0.0012859293840712192, \"m_probability_description\": \"Amongst matching record comparisons, 3.65% of records are in the jaro_winkler >= 0.8333333333333334 comparison level\", \"u_probability_description\": \"Amongst non-matching record comparisons, 0.13% of records are in the jaro_winkler >= 0.8333333333333334 comparison level\", \"has_tf_adjustments\": false, \"tf_adjustment_column\": null, \"tf_adjustment_weight\": 1.0, \"is_null_level\": false, \"bayes_factor\": 28.39462606761216, \"log2_bayes_factor\": 4.827546007743508, \"comparison_vector_value\": 1, \"max_comparison_vector_value\": 2, \"bayes_factor_description\": \"If comparison level is `jaro_winkler >= 0.8333333333333334` then comparison is 28.39 times more likely to be a match\", \"probability_two_random_records_match\": 0.0001375226000255099, \"comparison_sort_order\": 1, \"iteration\": 1}, {\"comparison_name\": \"last_name_12\", \"sql_condition\": \"ELSE\", \"label_for_charts\": \"All other comparisons\", \"m_probability\": 0.018194358292786122, \"u_probability\": 0.9981083480147196, \"m_probability_description\": \"Amongst matching record comparisons, 1.82% of records are in the all other comparisons comparison level\", \"u_probability_description\": \"Amongst non-matching record comparisons, 99.81% of records are in the all other comparisons comparison level\", \"has_tf_adjustments\": false, \"tf_adjustment_column\": null, \"tf_adjustment_weight\": 1.0, \"is_null_level\": false, \"bayes_factor\": 0.018228840915894034, \"log2_bayes_factor\": -5.777633359503231, \"comparison_vector_value\": 0, \"max_comparison_vector_value\": 2, \"bayes_factor_description\": \"If comparison level is `all other comparisons` then comparison is  54.86 times less likely to be a match\", \"probability_two_random_records_match\": 0.0001375226000255099, \"comparison_sort_order\": 1, \"iteration\": 1}, {\"comparison_name\": \"middle_initial\", \"sql_condition\": \"`middle_initial_l` = `middle_initial_r`\", \"label_for_charts\": \"Exact match\", \"m_probability\": 0.9664193709529071, \"u_probability\": 0.06625810679844002, \"m_probability_description\": \"Amongst matching record comparisons, 96.64% of records are in the exact match comparison level\", \"u_probability_description\": \"Amongst non-matching record comparisons, 6.63% of records are in the exact match comparison level\", \"has_tf_adjustments\": false, \"tf_adjustment_column\": null, \"tf_adjustment_weight\": 1.0, \"is_null_level\": false, \"bayes_factor\": 14.585677400846903, \"log2_bayes_factor\": 3.8664804855902513, \"comparison_vector_value\": 1, \"max_comparison_vector_value\": 1, \"bayes_factor_description\": \"If comparison level is `exact match` then comparison is 14.59 times more likely to be a match\", \"probability_two_random_records_match\": 0.0001375226000255099, \"comparison_sort_order\": 2, \"iteration\": 1}, {\"comparison_name\": \"middle_initial\", \"sql_condition\": \"ELSE\", \"label_for_charts\": \"All other comparisons\", \"m_probability\": 0.03358062904709292, \"u_probability\": 0.93374189320156, \"m_probability_description\": \"Amongst matching record comparisons, 3.36% of records are in the all other comparisons comparison level\", \"u_probability_description\": \"Amongst non-matching record comparisons, 93.37% of records are in the all other comparisons comparison level\", \"has_tf_adjustments\": false, \"tf_adjustment_column\": null, \"tf_adjustment_weight\": 1.0, \"is_null_level\": false, \"bayes_factor\": 0.03596350264627585, \"log2_bayes_factor\": -4.797322651560717, \"comparison_vector_value\": 0, \"max_comparison_vector_value\": 1, \"bayes_factor_description\": \"If comparison level is `all other comparisons` then comparison is  27.81 times less likely to be a match\", \"probability_two_random_records_match\": 0.0001375226000255099, \"comparison_sort_order\": 2, \"iteration\": 1}, {\"comparison_name\": \"day_of_birth\", \"sql_condition\": \"`day_of_birth_l` = `day_of_birth_r`\", \"label_for_charts\": \"Exact match\", \"m_probability\": 0.990785520154381, \"u_probability\": 0.03252879296232792, \"m_probability_description\": \"Amongst matching record comparisons, 99.08% of records are in the exact match comparison level\", \"u_probability_description\": \"Amongst non-matching record comparisons, 3.25% of records are in the exact match comparison level\", \"has_tf_adjustments\": false, \"tf_adjustment_column\": null, \"tf_adjustment_weight\": 1.0, \"is_null_level\": false, \"bayes_factor\": 30.458723792850982, \"log2_bayes_factor\": 4.928783589690349, \"comparison_vector_value\": 2, \"max_comparison_vector_value\": 2, \"bayes_factor_description\": \"If comparison level is `exact match` then comparison is 30.46 times more likely to be a match\", \"probability_two_random_records_match\": 0.0001375226000255099, \"comparison_sort_order\": 3, \"iteration\": 1}, {\"comparison_name\": \"day_of_birth\", \"sql_condition\": \"abs(day_of_birth_l - day_of_birth_r) <= 5\", \"label_for_charts\": \"Inexact match\", \"m_probability\": 0.0063338203605522204, \"u_probability\": 0.29573920164687456, \"m_probability_description\": \"Amongst matching record comparisons, 0.63% of records are in the inexact match comparison level\", \"u_probability_description\": \"Amongst non-matching record comparisons, 29.57% of records are in the inexact match comparison level\", \"has_tf_adjustments\": false, \"tf_adjustment_column\": null, \"tf_adjustment_weight\": 1.0, \"is_null_level\": false, \"bayes_factor\": 0.02141691167515586, \"log2_bayes_factor\": -5.545105731729732, \"comparison_vector_value\": 1, \"max_comparison_vector_value\": 2, \"bayes_factor_description\": \"If comparison level is `inexact match` then comparison is  46.69 times less likely to be a match\", \"probability_two_random_records_match\": 0.0001375226000255099, \"comparison_sort_order\": 3, \"iteration\": 1}, {\"comparison_name\": \"day_of_birth\", \"sql_condition\": \"ELSE\", \"label_for_charts\": \"All other comparisons\", \"m_probability\": 0.002880659485066759, \"u_probability\": 0.6717320053907976, \"m_probability_description\": \"Amongst matching record comparisons, 0.29% of records are in the all other comparisons comparison level\", \"u_probability_description\": \"Amongst non-matching record comparisons, 67.17% of records are in the all other comparisons comparison level\", \"has_tf_adjustments\": false, \"tf_adjustment_column\": null, \"tf_adjustment_weight\": 1.0, \"is_null_level\": false, \"bayes_factor\": 0.004288405885008948, \"log2_bayes_factor\": -7.86534282556007, \"comparison_vector_value\": 0, \"max_comparison_vector_value\": 2, \"bayes_factor_description\": \"If comparison level is `all other comparisons` then comparison is  233.19 times less likely to be a match\", \"probability_two_random_records_match\": 0.0001375226000255099, \"comparison_sort_order\": 3, \"iteration\": 1}, {\"comparison_name\": \"month_of_birth\", \"sql_condition\": \"`month_of_birth_l` = `month_of_birth_r`\", \"label_for_charts\": \"Exact match\", \"m_probability\": 0.9920009830591674, \"u_probability\": 0.08350433151288077, \"m_probability_description\": \"Amongst matching record comparisons, 99.20% of records are in the exact match comparison level\", \"u_probability_description\": \"Amongst non-matching record comparisons, 8.35% of records are in the exact match comparison level\", \"has_tf_adjustments\": false, \"tf_adjustment_column\": null, \"tf_adjustment_weight\": 1.0, \"is_null_level\": false, \"bayes_factor\": 11.879635045113181, \"log2_bayes_factor\": 3.5704186105973474, \"comparison_vector_value\": 2, \"max_comparison_vector_value\": 2, \"bayes_factor_description\": \"If comparison level is `exact match` then comparison is 11.88 times more likely to be a match\", \"probability_two_random_records_match\": 0.0001375226000255099, \"comparison_sort_order\": 4, \"iteration\": 1}, {\"comparison_name\": \"month_of_birth\", \"sql_condition\": \"abs(month_of_birth_l - month_of_birth_r) <= 3\", \"label_for_charts\": \"Inexact match\", \"m_probability\": 0.004408395540089129, \"u_probability\": 0.4129544295915271, \"m_probability_description\": \"Amongst matching record comparisons, 0.44% of records are in the inexact match comparison level\", \"u_probability_description\": \"Amongst non-matching record comparisons, 41.30% of records are in the inexact match comparison level\", \"has_tf_adjustments\": false, \"tf_adjustment_column\": null, \"tf_adjustment_weight\": 1.0, \"is_null_level\": false, \"bayes_factor\": 0.01067525911866276, \"log2_bayes_factor\": -6.549585101224249, \"comparison_vector_value\": 1, \"max_comparison_vector_value\": 2, \"bayes_factor_description\": \"If comparison level is `inexact match` then comparison is  93.67 times less likely to be a match\", \"probability_two_random_records_match\": 0.0001375226000255099, \"comparison_sort_order\": 4, \"iteration\": 1}, {\"comparison_name\": \"month_of_birth\", \"sql_condition\": \"ELSE\", \"label_for_charts\": \"All other comparisons\", \"m_probability\": 0.0035906214007434055, \"u_probability\": 0.5035412388955921, \"m_probability_description\": \"Amongst matching record comparisons, 0.36% of records are in the all other comparisons comparison level\", \"u_probability_description\": \"Amongst non-matching record comparisons, 50.35% of records are in the all other comparisons comparison level\", \"has_tf_adjustments\": false, \"tf_adjustment_column\": null, \"tf_adjustment_weight\": 1.0, \"is_null_level\": false, \"bayes_factor\": 0.0071307394973620245, \"log2_bayes_factor\": -7.131732584731368, \"comparison_vector_value\": 0, \"max_comparison_vector_value\": 2, \"bayes_factor_description\": \"If comparison level is `all other comparisons` then comparison is  140.24 times less likely to be a match\", \"probability_two_random_records_match\": 0.0001375226000255099, \"comparison_sort_order\": 4, \"iteration\": 1}, {\"comparison_name\": \"year_of_birth\", \"sql_condition\": \"`year_of_birth_l` = `year_of_birth_r`\", \"label_for_charts\": \"Exact match\", \"m_probability\": 0.9938971837037914, \"u_probability\": 0.011084011593037122, \"m_probability_description\": \"Amongst matching record comparisons, 99.39% of records are in the exact match comparison level\", \"u_probability_description\": \"Amongst non-matching record comparisons, 1.11% of records are in the exact match comparison level\", \"has_tf_adjustments\": false, \"tf_adjustment_column\": null, \"tf_adjustment_weight\": 1.0, \"is_null_level\": false, \"bayes_factor\": 89.66944642390565, \"log2_bayes_factor\": 6.486544586145756, \"comparison_vector_value\": 2, \"max_comparison_vector_value\": 2, \"bayes_factor_description\": \"If comparison level is `exact match` then comparison is 89.67 times more likely to be a match\", \"probability_two_random_records_match\": 0.0001375226000255099, \"comparison_sort_order\": 5, \"iteration\": 1}, {\"comparison_name\": \"year_of_birth\", \"sql_condition\": \"abs(year_of_birth_l - year_of_birth_r) <= 5\", \"label_for_charts\": \"Inexact match\", \"m_probability\": 0.002001129138073725, \"u_probability\": 0.10937488974972305, \"m_probability_description\": \"Amongst matching record comparisons, 0.20% of records are in the inexact match comparison level\", \"u_probability_description\": \"Amongst non-matching record comparisons, 10.94% of records are in the inexact match comparison level\", \"has_tf_adjustments\": false, \"tf_adjustment_column\": null, \"tf_adjustment_weight\": 1.0, \"is_null_level\": false, \"bayes_factor\": 0.01829605627628797, \"log2_bayes_factor\": -5.7723234813634905, \"comparison_vector_value\": 1, \"max_comparison_vector_value\": 2, \"bayes_factor_description\": \"If comparison level is `inexact match` then comparison is  54.66 times less likely to be a match\", \"probability_two_random_records_match\": 0.0001375226000255099, \"comparison_sort_order\": 5, \"iteration\": 1}, {\"comparison_name\": \"year_of_birth\", \"sql_condition\": \"ELSE\", \"label_for_charts\": \"All other comparisons\", \"m_probability\": 0.004101687158134794, \"u_probability\": 0.8795410986572398, \"m_probability_description\": \"Amongst matching record comparisons, 0.41% of records are in the all other comparisons comparison level\", \"u_probability_description\": \"Amongst non-matching record comparisons, 87.95% of records are in the all other comparisons comparison level\", \"has_tf_adjustments\": false, \"tf_adjustment_column\": null, \"tf_adjustment_weight\": 1.0, \"is_null_level\": false, \"bayes_factor\": 0.004663440019342673, \"log2_bayes_factor\": -7.744389722929021, \"comparison_vector_value\": 0, \"max_comparison_vector_value\": 2, \"bayes_factor_description\": \"If comparison level is `all other comparisons` then comparison is  214.43 times less likely to be a match\", \"probability_two_random_records_match\": 0.0001375226000255099, \"comparison_sort_order\": 5, \"iteration\": 1}, {\"comparison_name\": \"first_name_15\", \"sql_condition\": \"`first_name_15_l` = `first_name_15_r`\", \"label_for_charts\": \"Exact match\", \"m_probability\": 0.9291054915515828, \"u_probability\": 0.0020078037145088655, \"m_probability_description\": \"Amongst matching record comparisons, 92.91% of records are in the exact match comparison level\", \"u_probability_description\": \"Amongst non-matching record comparisons, 0.20% of records are in the exact match comparison level\", \"has_tf_adjustments\": false, \"tf_adjustment_column\": null, \"tf_adjustment_weight\": 1.0, \"is_null_level\": false, \"bayes_factor\": 462.7471723643334, \"log2_bayes_factor\": 8.854080364250008, \"comparison_vector_value\": 2, \"max_comparison_vector_value\": 2, \"bayes_factor_description\": \"If comparison level is `exact match` then comparison is 462.75 times more likely to be a match\", \"probability_two_random_records_match\": 0.0001375226000255099, \"comparison_sort_order\": 0, \"iteration\": 2}, {\"comparison_name\": \"first_name_15\", \"sql_condition\": \"jaro_winkler(`first_name_15_l`, `first_name_15_r`) >= 0.8333333333333334\", \"label_for_charts\": \"Jaro_winkler >= 0.8333333333333334\", \"m_probability\": 0.0291489137684926, \"u_probability\": 0.0031729716420609063, \"m_probability_description\": \"Amongst matching record comparisons, 2.91% of records are in the jaro_winkler >= 0.8333333333333334 comparison level\", \"u_probability_description\": \"Amongst non-matching record comparisons, 0.32% of records are in the jaro_winkler >= 0.8333333333333334 comparison level\", \"has_tf_adjustments\": false, \"tf_adjustment_column\": null, \"tf_adjustment_weight\": 1.0, \"is_null_level\": false, \"bayes_factor\": 9.186629146663227, \"log2_bayes_factor\": 3.199535589969648, \"comparison_vector_value\": 1, \"max_comparison_vector_value\": 2, \"bayes_factor_description\": \"If comparison level is `jaro_winkler >= 0.8333333333333334` then comparison is 9.19 times more likely to be a match\", \"probability_two_random_records_match\": 0.0001375226000255099, \"comparison_sort_order\": 0, \"iteration\": 2}, {\"comparison_name\": \"first_name_15\", \"sql_condition\": \"ELSE\", \"label_for_charts\": \"All other comparisons\", \"m_probability\": 0.04174559467992454, \"u_probability\": 0.9948192246434302, \"m_probability_description\": \"Amongst matching record comparisons, 4.17% of records are in the all other comparisons comparison level\", \"u_probability_description\": \"Amongst non-matching record comparisons, 99.48% of records are in the all other comparisons comparison level\", \"has_tf_adjustments\": false, \"tf_adjustment_column\": null, \"tf_adjustment_weight\": 1.0, \"is_null_level\": false, \"bayes_factor\": 0.04196299553307012, \"log2_bayes_factor\": -4.57473852123869, \"comparison_vector_value\": 0, \"max_comparison_vector_value\": 2, \"bayes_factor_description\": \"If comparison level is `all other comparisons` then comparison is  23.83 times less likely to be a match\", \"probability_two_random_records_match\": 0.0001375226000255099, \"comparison_sort_order\": 0, \"iteration\": 2}, {\"comparison_name\": \"last_name_12\", \"sql_condition\": \"`last_name_12_l` = `last_name_12_r`\", \"label_for_charts\": \"Exact match\", \"m_probability\": 0.9440958153340403, \"u_probability\": 0.0006057226012092292, \"m_probability_description\": \"Amongst matching record comparisons, 94.41% of records are in the exact match comparison level\", \"u_probability_description\": \"Amongst non-matching record comparisons, 0.06% of records are in the exact match comparison level\", \"has_tf_adjustments\": false, \"tf_adjustment_column\": null, \"tf_adjustment_weight\": 1.0, \"is_null_level\": false, \"bayes_factor\": 1558.6273542530898, \"log2_bayes_factor\": 10.606060325953766, \"comparison_vector_value\": 2, \"max_comparison_vector_value\": 2, \"bayes_factor_description\": \"If comparison level is `exact match` then comparison is 1,558.63 times more likely to be a match\", \"probability_two_random_records_match\": 0.0001375226000255099, \"comparison_sort_order\": 1, \"iteration\": 2}, {\"comparison_name\": \"last_name_12\", \"sql_condition\": \"jaro_winkler(`last_name_12_l`, `last_name_12_r`) >= 0.8333333333333334\", \"label_for_charts\": \"Jaro_winkler >= 0.8333333333333334\", \"m_probability\": 0.036583544934415714, \"u_probability\": 0.0012859293840712192, \"m_probability_description\": \"Amongst matching record comparisons, 3.66% of records are in the jaro_winkler >= 0.8333333333333334 comparison level\", \"u_probability_description\": \"Amongst non-matching record comparisons, 0.13% of records are in the jaro_winkler >= 0.8333333333333334 comparison level\", \"has_tf_adjustments\": false, \"tf_adjustment_column\": null, \"tf_adjustment_weight\": 1.0, \"is_null_level\": false, \"bayes_factor\": 28.449108782780247, \"log2_bayes_factor\": 4.830311553225816, \"comparison_vector_value\": 1, \"max_comparison_vector_value\": 2, \"bayes_factor_description\": \"If comparison level is `jaro_winkler >= 0.8333333333333334` then comparison is 28.45 times more likely to be a match\", \"probability_two_random_records_match\": 0.0001375226000255099, \"comparison_sort_order\": 1, \"iteration\": 2}, {\"comparison_name\": \"last_name_12\", \"sql_condition\": \"ELSE\", \"label_for_charts\": \"All other comparisons\", \"m_probability\": 0.019320639731544006, \"u_probability\": 0.9981083480147196, \"m_probability_description\": \"Amongst matching record comparisons, 1.93% of records are in the all other comparisons comparison level\", \"u_probability_description\": \"Amongst non-matching record comparisons, 99.81% of records are in the all other comparisons comparison level\", \"has_tf_adjustments\": false, \"tf_adjustment_column\": null, \"tf_adjustment_weight\": 1.0, \"is_null_level\": false, \"bayes_factor\": 0.019357256925035832, \"log2_bayes_factor\": -5.690981663868473, \"comparison_vector_value\": 0, \"max_comparison_vector_value\": 2, \"bayes_factor_description\": \"If comparison level is `all other comparisons` then comparison is  51.66 times less likely to be a match\", \"probability_two_random_records_match\": 0.0001375226000255099, \"comparison_sort_order\": 1, \"iteration\": 2}, {\"comparison_name\": \"middle_initial\", \"sql_condition\": \"`middle_initial_l` = `middle_initial_r`\", \"label_for_charts\": \"Exact match\", \"m_probability\": 0.9629386645930419, \"u_probability\": 0.06625810679844002, \"m_probability_description\": \"Amongst matching record comparisons, 96.29% of records are in the exact match comparison level\", \"u_probability_description\": \"Amongst non-matching record comparisons, 6.63% of records are in the exact match comparison level\", \"has_tf_adjustments\": false, \"tf_adjustment_column\": null, \"tf_adjustment_weight\": 1.0, \"is_null_level\": false, \"bayes_factor\": 14.533144865161063, \"log2_bayes_factor\": 3.861275020187179, \"comparison_vector_value\": 1, \"max_comparison_vector_value\": 1, \"bayes_factor_description\": \"If comparison level is `exact match` then comparison is 14.53 times more likely to be a match\", \"probability_two_random_records_match\": 0.0001375226000255099, \"comparison_sort_order\": 2, \"iteration\": 2}, {\"comparison_name\": \"middle_initial\", \"sql_condition\": \"ELSE\", \"label_for_charts\": \"All other comparisons\", \"m_probability\": 0.0370613354069581, \"u_probability\": 0.93374189320156, \"m_probability_description\": \"Amongst matching record comparisons, 3.71% of records are in the all other comparisons comparison level\", \"u_probability_description\": \"Amongst non-matching record comparisons, 93.37% of records are in the all other comparisons comparison level\", \"has_tf_adjustments\": false, \"tf_adjustment_column\": null, \"tf_adjustment_weight\": 1.0, \"is_null_level\": false, \"bayes_factor\": 0.039691199117011175, \"log2_bayes_factor\": -4.6550370412935385, \"comparison_vector_value\": 0, \"max_comparison_vector_value\": 1, \"bayes_factor_description\": \"If comparison level is `all other comparisons` then comparison is  25.19 times less likely to be a match\", \"probability_two_random_records_match\": 0.0001375226000255099, \"comparison_sort_order\": 2, \"iteration\": 2}, {\"comparison_name\": \"day_of_birth\", \"sql_condition\": \"`day_of_birth_l` = `day_of_birth_r`\", \"label_for_charts\": \"Exact match\", \"m_probability\": 0.990325786784877, \"u_probability\": 0.03252879296232792, \"m_probability_description\": \"Amongst matching record comparisons, 99.03% of records are in the exact match comparison level\", \"u_probability_description\": \"Amongst non-matching record comparisons, 3.25% of records are in the exact match comparison level\", \"has_tf_adjustments\": false, \"tf_adjustment_column\": null, \"tf_adjustment_weight\": 1.0, \"is_null_level\": false, \"bayes_factor\": 30.444590671771564, \"log2_bayes_factor\": 4.928114010891927, \"comparison_vector_value\": 2, \"max_comparison_vector_value\": 2, \"bayes_factor_description\": \"If comparison level is `exact match` then comparison is 30.44 times more likely to be a match\", \"probability_two_random_records_match\": 0.0001375226000255099, \"comparison_sort_order\": 3, \"iteration\": 2}, {\"comparison_name\": \"day_of_birth\", \"sql_condition\": \"abs(day_of_birth_l - day_of_birth_r) <= 5\", \"label_for_charts\": \"Inexact match\", \"m_probability\": 0.006500992680351331, \"u_probability\": 0.29573920164687456, \"m_probability_description\": \"Amongst matching record comparisons, 0.65% of records are in the inexact match comparison level\", \"u_probability_description\": \"Amongst non-matching record comparisons, 29.57% of records are in the inexact match comparison level\", \"has_tf_adjustments\": false, \"tf_adjustment_column\": null, \"tf_adjustment_weight\": 1.0, \"is_null_level\": false, \"bayes_factor\": 0.021982181070853767, \"log2_bayes_factor\": -5.507521652259389, \"comparison_vector_value\": 1, \"max_comparison_vector_value\": 2, \"bayes_factor_description\": \"If comparison level is `inexact match` then comparison is  45.49 times less likely to be a match\", \"probability_two_random_records_match\": 0.0001375226000255099, \"comparison_sort_order\": 3, \"iteration\": 2}, {\"comparison_name\": \"day_of_birth\", \"sql_condition\": \"ELSE\", \"label_for_charts\": \"All other comparisons\", \"m_probability\": 0.0031732205347716085, \"u_probability\": 0.6717320053907976, \"m_probability_description\": \"Amongst matching record comparisons, 0.32% of records are in the all other comparisons comparison level\", \"u_probability_description\": \"Amongst non-matching record comparisons, 67.17% of records are in the all other comparisons comparison level\", \"has_tf_adjustments\": false, \"tf_adjustment_column\": null, \"tf_adjustment_weight\": 1.0, \"is_null_level\": false, \"bayes_factor\": 0.004723938280900439, \"log2_bayes_factor\": -7.725794168872939, \"comparison_vector_value\": 0, \"max_comparison_vector_value\": 2, \"bayes_factor_description\": \"If comparison level is `all other comparisons` then comparison is  211.69 times less likely to be a match\", \"probability_two_random_records_match\": 0.0001375226000255099, \"comparison_sort_order\": 3, \"iteration\": 2}, {\"comparison_name\": \"month_of_birth\", \"sql_condition\": \"`month_of_birth_l` = `month_of_birth_r`\", \"label_for_charts\": \"Exact match\", \"m_probability\": 0.991642168877589, \"u_probability\": 0.08350433151288077, \"m_probability_description\": \"Amongst matching record comparisons, 99.16% of records are in the exact match comparison level\", \"u_probability_description\": \"Amongst non-matching record comparisons, 8.35% of records are in the exact match comparison level\", \"has_tf_adjustments\": false, \"tf_adjustment_column\": null, \"tf_adjustment_weight\": 1.0, \"is_null_level\": false, \"bayes_factor\": 11.875338092187775, \"log2_bayes_factor\": 3.569896682602885, \"comparison_vector_value\": 2, \"max_comparison_vector_value\": 2, \"bayes_factor_description\": \"If comparison level is `exact match` then comparison is 11.88 times more likely to be a match\", \"probability_two_random_records_match\": 0.0001375226000255099, \"comparison_sort_order\": 4, \"iteration\": 2}, {\"comparison_name\": \"month_of_birth\", \"sql_condition\": \"abs(month_of_birth_l - month_of_birth_r) <= 3\", \"label_for_charts\": \"Inexact match\", \"m_probability\": 0.004514905748513211, \"u_probability\": 0.4129544295915271, \"m_probability_description\": \"Amongst matching record comparisons, 0.45% of records are in the inexact match comparison level\", \"u_probability_description\": \"Amongst non-matching record comparisons, 41.30% of records are in the inexact match comparison level\", \"has_tf_adjustments\": false, \"tf_adjustment_column\": null, \"tf_adjustment_weight\": 1.0, \"is_null_level\": false, \"bayes_factor\": 0.010933181544944607, \"log2_bayes_factor\": -6.515142904848478, \"comparison_vector_value\": 1, \"max_comparison_vector_value\": 2, \"bayes_factor_description\": \"If comparison level is `inexact match` then comparison is  91.46 times less likely to be a match\", \"probability_two_random_records_match\": 0.0001375226000255099, \"comparison_sort_order\": 4, \"iteration\": 2}, {\"comparison_name\": \"month_of_birth\", \"sql_condition\": \"ELSE\", \"label_for_charts\": \"All other comparisons\", \"m_probability\": 0.0038429253738978025, \"u_probability\": 0.5035412388955921, \"m_probability_description\": \"Amongst matching record comparisons, 0.38% of records are in the all other comparisons comparison level\", \"u_probability_description\": \"Amongst non-matching record comparisons, 50.35% of records are in the all other comparisons comparison level\", \"has_tf_adjustments\": false, \"tf_adjustment_column\": null, \"tf_adjustment_weight\": 1.0, \"is_null_level\": false, \"bayes_factor\": 0.007631798702974996, \"log2_bayes_factor\": -7.033761165474012, \"comparison_vector_value\": 0, \"max_comparison_vector_value\": 2, \"bayes_factor_description\": \"If comparison level is `all other comparisons` then comparison is  131.03 times less likely to be a match\", \"probability_two_random_records_match\": 0.0001375226000255099, \"comparison_sort_order\": 4, \"iteration\": 2}, {\"comparison_name\": \"year_of_birth\", \"sql_condition\": \"`year_of_birth_l` = `year_of_birth_r`\", \"label_for_charts\": \"Exact match\", \"m_probability\": 0.9936990722364983, \"u_probability\": 0.011084011593037122, \"m_probability_description\": \"Amongst matching record comparisons, 99.37% of records are in the exact match comparison level\", \"u_probability_description\": \"Amongst non-matching record comparisons, 1.11% of records are in the exact match comparison level\", \"has_tf_adjustments\": false, \"tf_adjustment_column\": null, \"tf_adjustment_weight\": 1.0, \"is_null_level\": false, \"bayes_factor\": 89.65157279885301, \"log2_bayes_factor\": 6.486256988066922, \"comparison_vector_value\": 2, \"max_comparison_vector_value\": 2, \"bayes_factor_description\": \"If comparison level is `exact match` then comparison is 89.65 times more likely to be a match\", \"probability_two_random_records_match\": 0.0001375226000255099, \"comparison_sort_order\": 5, \"iteration\": 2}, {\"comparison_name\": \"year_of_birth\", \"sql_condition\": \"abs(year_of_birth_l - year_of_birth_r) <= 5\", \"label_for_charts\": \"Inexact match\", \"m_probability\": 0.002057595944037661, \"u_probability\": 0.10937488974972305, \"m_probability_description\": \"Amongst matching record comparisons, 0.21% of records are in the inexact match comparison level\", \"u_probability_description\": \"Amongst non-matching record comparisons, 10.94% of records are in the inexact match comparison level\", \"has_tf_adjustments\": false, \"tf_adjustment_column\": null, \"tf_adjustment_weight\": 1.0, \"is_null_level\": false, \"bayes_factor\": 0.018812324736929585, \"log2_bayes_factor\": -5.732178048558351, \"comparison_vector_value\": 1, \"max_comparison_vector_value\": 2, \"bayes_factor_description\": \"If comparison level is `inexact match` then comparison is  53.16 times less likely to be a match\", \"probability_two_random_records_match\": 0.0001375226000255099, \"comparison_sort_order\": 5, \"iteration\": 2}, {\"comparison_name\": \"year_of_birth\", \"sql_condition\": \"ELSE\", \"label_for_charts\": \"All other comparisons\", \"m_probability\": 0.004243331819464059, \"u_probability\": 0.8795410986572398, \"m_probability_description\": \"Amongst matching record comparisons, 0.42% of records are in the all other comparisons comparison level\", \"u_probability_description\": \"Amongst non-matching record comparisons, 87.95% of records are in the all other comparisons comparison level\", \"has_tf_adjustments\": false, \"tf_adjustment_column\": null, \"tf_adjustment_weight\": 1.0, \"is_null_level\": false, \"bayes_factor\": 0.004824483842701817, \"log2_bayes_factor\": -7.695409683712943, \"comparison_vector_value\": 0, \"max_comparison_vector_value\": 2, \"bayes_factor_description\": \"If comparison level is `all other comparisons` then comparison is  207.28 times less likely to be a match\", \"probability_two_random_records_match\": 0.0001375226000255099, \"comparison_sort_order\": 5, \"iteration\": 2}, {\"comparison_name\": \"first_name_15\", \"sql_condition\": \"`first_name_15_l` = `first_name_15_r`\", \"label_for_charts\": \"Exact match\", \"m_probability\": 0.9286379573022381, \"u_probability\": 0.0020078037145088655, \"m_probability_description\": \"Amongst matching record comparisons, 92.86% of records are in the exact match comparison level\", \"u_probability_description\": \"Amongst non-matching record comparisons, 0.20% of records are in the exact match comparison level\", \"has_tf_adjustments\": false, \"tf_adjustment_column\": null, \"tf_adjustment_weight\": 1.0, \"is_null_level\": false, \"bayes_factor\": 462.5143138204597, \"log2_bayes_factor\": 8.853354204394478, \"comparison_vector_value\": 2, \"max_comparison_vector_value\": 2, \"bayes_factor_description\": \"If comparison level is `exact match` then comparison is 462.51 times more likely to be a match\", \"probability_two_random_records_match\": 0.0001375226000255099, \"comparison_sort_order\": 0, \"iteration\": 3}, {\"comparison_name\": \"first_name_15\", \"sql_condition\": \"jaro_winkler(`first_name_15_l`, `first_name_15_r`) >= 0.8333333333333334\", \"label_for_charts\": \"Jaro_winkler >= 0.8333333333333334\", \"m_probability\": 0.029144527649772833, \"u_probability\": 0.0031729716420609063, \"m_probability_description\": \"Amongst matching record comparisons, 2.91% of records are in the jaro_winkler >= 0.8333333333333334 comparison level\", \"u_probability_description\": \"Amongst non-matching record comparisons, 0.32% of records are in the jaro_winkler >= 0.8333333333333334 comparison level\", \"has_tf_adjustments\": false, \"tf_adjustment_column\": null, \"tf_adjustment_weight\": 1.0, \"is_null_level\": false, \"bayes_factor\": 9.18524680883782, \"log2_bayes_factor\": 3.1993184872704847, \"comparison_vector_value\": 1, \"max_comparison_vector_value\": 2, \"bayes_factor_description\": \"If comparison level is `jaro_winkler >= 0.8333333333333334` then comparison is 9.19 times more likely to be a match\", \"probability_two_random_records_match\": 0.0001375226000255099, \"comparison_sort_order\": 0, \"iteration\": 3}, {\"comparison_name\": \"first_name_15\", \"sql_condition\": \"ELSE\", \"label_for_charts\": \"All other comparisons\", \"m_probability\": 0.04221751504798911, \"u_probability\": 0.9948192246434302, \"m_probability_description\": \"Amongst matching record comparisons, 4.22% of records are in the all other comparisons comparison level\", \"u_probability_description\": \"Amongst non-matching record comparisons, 99.48% of records are in the all other comparisons comparison level\", \"has_tf_adjustments\": false, \"tf_adjustment_column\": null, \"tf_adjustment_weight\": 1.0, \"is_null_level\": false, \"bayes_factor\": 0.04243737354705926, \"log2_bayes_factor\": -4.558520819287513, \"comparison_vector_value\": 0, \"max_comparison_vector_value\": 2, \"bayes_factor_description\": \"If comparison level is `all other comparisons` then comparison is  23.56 times less likely to be a match\", \"probability_two_random_records_match\": 0.0001375226000255099, \"comparison_sort_order\": 0, \"iteration\": 3}, {\"comparison_name\": \"last_name_12\", \"sql_condition\": \"`last_name_12_l` = `last_name_12_r`\", \"label_for_charts\": \"Exact match\", \"m_probability\": 0.9437641355678926, \"u_probability\": 0.0006057226012092292, \"m_probability_description\": \"Amongst matching record comparisons, 94.38% of records are in the exact match comparison level\", \"u_probability_description\": \"Amongst non-matching record comparisons, 0.06% of records are in the exact match comparison level\", \"has_tf_adjustments\": false, \"tf_adjustment_column\": null, \"tf_adjustment_weight\": 1.0, \"is_null_level\": false, \"bayes_factor\": 1558.0797772508688, \"log2_bayes_factor\": 10.605553389241136, \"comparison_vector_value\": 2, \"max_comparison_vector_value\": 2, \"bayes_factor_description\": \"If comparison level is `exact match` then comparison is 1,558.08 times more likely to be a match\", \"probability_two_random_records_match\": 0.0001375226000255099, \"comparison_sort_order\": 1, \"iteration\": 3}, {\"comparison_name\": \"last_name_12\", \"sql_condition\": \"jaro_winkler(`last_name_12_l`, `last_name_12_r`) >= 0.8333333333333334\", \"label_for_charts\": \"Jaro_winkler >= 0.8333333333333334\", \"m_probability\": 0.03657527588518481, \"u_probability\": 0.0012859293840712192, \"m_probability_description\": \"Amongst matching record comparisons, 3.66% of records are in the jaro_winkler >= 0.8333333333333334 comparison level\", \"u_probability_description\": \"Amongst non-matching record comparisons, 0.13% of records are in the jaro_winkler >= 0.8333333333333334 comparison level\", \"has_tf_adjustments\": false, \"tf_adjustment_column\": null, \"tf_adjustment_weight\": 1.0, \"is_null_level\": false, \"bayes_factor\": 28.442678375843965, \"log2_bayes_factor\": 4.829985421223265, \"comparison_vector_value\": 1, \"max_comparison_vector_value\": 2, \"bayes_factor_description\": \"If comparison level is `jaro_winkler >= 0.8333333333333334` then comparison is 28.44 times more likely to be a match\", \"probability_two_random_records_match\": 0.0001375226000255099, \"comparison_sort_order\": 1, \"iteration\": 3}, {\"comparison_name\": \"last_name_12\", \"sql_condition\": \"ELSE\", \"label_for_charts\": \"All other comparisons\", \"m_probability\": 0.019660588546922538, \"u_probability\": 0.9981083480147196, \"m_probability_description\": \"Amongst matching record comparisons, 1.97% of records are in the all other comparisons comparison level\", \"u_probability_description\": \"Amongst non-matching record comparisons, 99.81% of records are in the all other comparisons comparison level\", \"has_tf_adjustments\": false, \"tf_adjustment_column\": null, \"tf_adjustment_weight\": 1.0, \"is_null_level\": false, \"bayes_factor\": 0.019697850024026242, \"log2_bayes_factor\": -5.665818018415116, \"comparison_vector_value\": 0, \"max_comparison_vector_value\": 2, \"bayes_factor_description\": \"If comparison level is `all other comparisons` then comparison is  50.77 times less likely to be a match\", \"probability_two_random_records_match\": 0.0001375226000255099, \"comparison_sort_order\": 1, \"iteration\": 3}, {\"comparison_name\": \"middle_initial\", \"sql_condition\": \"`middle_initial_l` = `middle_initial_r`\", \"label_for_charts\": \"Exact match\", \"m_probability\": 0.9624617438362865, \"u_probability\": 0.06625810679844002, \"m_probability_description\": \"Amongst matching record comparisons, 96.25% of records are in the exact match comparison level\", \"u_probability_description\": \"Amongst non-matching record comparisons, 6.63% of records are in the exact match comparison level\", \"has_tf_adjustments\": false, \"tf_adjustment_column\": null, \"tf_adjustment_weight\": 1.0, \"is_null_level\": false, \"bayes_factor\": 14.525946942072101, \"log2_bayes_factor\": 3.860560310434623, \"comparison_vector_value\": 1, \"max_comparison_vector_value\": 1, \"bayes_factor_description\": \"If comparison level is `exact match` then comparison is 14.53 times more likely to be a match\", \"probability_two_random_records_match\": 0.0001375226000255099, \"comparison_sort_order\": 2, \"iteration\": 3}, {\"comparison_name\": \"middle_initial\", \"sql_condition\": \"ELSE\", \"label_for_charts\": \"All other comparisons\", \"m_probability\": 0.03753825616371355, \"u_probability\": 0.93374189320156, \"m_probability_description\": \"Amongst matching record comparisons, 3.75% of records are in the all other comparisons comparison level\", \"u_probability_description\": \"Amongst non-matching record comparisons, 93.37% of records are in the all other comparisons comparison level\", \"has_tf_adjustments\": false, \"tf_adjustment_column\": null, \"tf_adjustment_weight\": 1.0, \"is_null_level\": false, \"bayes_factor\": 0.04020196205934871, \"log2_bayes_factor\": -4.636590275827833, \"comparison_vector_value\": 0, \"max_comparison_vector_value\": 1, \"bayes_factor_description\": \"If comparison level is `all other comparisons` then comparison is  24.87 times less likely to be a match\", \"probability_two_random_records_match\": 0.0001375226000255099, \"comparison_sort_order\": 2, \"iteration\": 3}, {\"comparison_name\": \"day_of_birth\", \"sql_condition\": \"`day_of_birth_l` = `day_of_birth_r`\", \"label_for_charts\": \"Exact match\", \"m_probability\": 0.9901938253270615, \"u_probability\": 0.03252879296232792, \"m_probability_description\": \"Amongst matching record comparisons, 99.02% of records are in the exact match comparison level\", \"u_probability_description\": \"Amongst non-matching record comparisons, 3.25% of records are in the exact match comparison level\", \"has_tf_adjustments\": false, \"tf_adjustment_column\": null, \"tf_adjustment_weight\": 1.0, \"is_null_level\": false, \"bayes_factor\": 30.440533913257084, \"log2_bayes_factor\": 4.927921758172089, \"comparison_vector_value\": 2, \"max_comparison_vector_value\": 2, \"bayes_factor_description\": \"If comparison level is `exact match` then comparison is 30.44 times more likely to be a match\", \"probability_two_random_records_match\": 0.0001375226000255099, \"comparison_sort_order\": 3, \"iteration\": 3}, {\"comparison_name\": \"day_of_birth\", \"sql_condition\": \"abs(day_of_birth_l - day_of_birth_r) <= 5\", \"label_for_charts\": \"Inexact match\", \"m_probability\": 0.006532196810402934, \"u_probability\": 0.29573920164687456, \"m_probability_description\": \"Amongst matching record comparisons, 0.65% of records are in the inexact match comparison level\", \"u_probability_description\": \"Amongst non-matching record comparisons, 29.57% of records are in the inexact match comparison level\", \"has_tf_adjustments\": false, \"tf_adjustment_column\": null, \"tf_adjustment_weight\": 1.0, \"is_null_level\": false, \"bayes_factor\": 0.022087693393460433, \"log2_bayes_factor\": -5.500613423121665, \"comparison_vector_value\": 1, \"max_comparison_vector_value\": 2, \"bayes_factor_description\": \"If comparison level is `inexact match` then comparison is  45.27 times less likely to be a match\", \"probability_two_random_records_match\": 0.0001375226000255099, \"comparison_sort_order\": 3, \"iteration\": 3}, {\"comparison_name\": \"day_of_birth\", \"sql_condition\": \"ELSE\", \"label_for_charts\": \"All other comparisons\", \"m_probability\": 0.0032739778625357025, \"u_probability\": 0.6717320053907976, \"m_probability_description\": \"Amongst matching record comparisons, 0.33% of records are in the all other comparisons comparison level\", \"u_probability_description\": \"Amongst non-matching record comparisons, 67.17% of records are in the all other comparisons comparison level\", \"has_tf_adjustments\": false, \"tf_adjustment_column\": null, \"tf_adjustment_weight\": 1.0, \"is_null_level\": false, \"bayes_factor\": 0.004873934599306432, \"log2_bayes_factor\": -7.6806973922157935, \"comparison_vector_value\": 0, \"max_comparison_vector_value\": 2, \"bayes_factor_description\": \"If comparison level is `all other comparisons` then comparison is  205.17 times less likely to be a match\", \"probability_two_random_records_match\": 0.0001375226000255099, \"comparison_sort_order\": 3, \"iteration\": 3}, {\"comparison_name\": \"month_of_birth\", \"sql_condition\": \"`month_of_birth_l` = `month_of_birth_r`\", \"label_for_charts\": \"Exact match\", \"m_probability\": 0.9915501488506994, \"u_probability\": 0.08350433151288077, \"m_probability_description\": \"Amongst matching record comparisons, 99.16% of records are in the exact match comparison level\", \"u_probability_description\": \"Amongst non-matching record comparisons, 8.35% of records are in the exact match comparison level\", \"has_tf_adjustments\": false, \"tf_adjustment_column\": null, \"tf_adjustment_weight\": 1.0, \"is_null_level\": false, \"bayes_factor\": 11.87423611310211, \"log2_bayes_factor\": 3.569762800643617, \"comparison_vector_value\": 2, \"max_comparison_vector_value\": 2, \"bayes_factor_description\": \"If comparison level is `exact match` then comparison is 11.87 times more likely to be a match\", \"probability_two_random_records_match\": 0.0001375226000255099, \"comparison_sort_order\": 4, \"iteration\": 3}, {\"comparison_name\": \"month_of_birth\", \"sql_condition\": \"abs(month_of_birth_l - month_of_birth_r) <= 3\", \"label_for_charts\": \"Inexact match\", \"m_probability\": 0.004533347291436366, \"u_probability\": 0.4129544295915271, \"m_probability_description\": \"Amongst matching record comparisons, 0.45% of records are in the inexact match comparison level\", \"u_probability_description\": \"Amongst non-matching record comparisons, 41.30% of records are in the inexact match comparison level\", \"has_tf_adjustments\": false, \"tf_adjustment_column\": null, \"tf_adjustment_weight\": 1.0, \"is_null_level\": false, \"bayes_factor\": 0.010977839118763094, \"log2_bayes_factor\": -6.509262088022543, \"comparison_vector_value\": 1, \"max_comparison_vector_value\": 2, \"bayes_factor_description\": \"If comparison level is `inexact match` then comparison is  91.09 times less likely to be a match\", \"probability_two_random_records_match\": 0.0001375226000255099, \"comparison_sort_order\": 4, \"iteration\": 3}, {\"comparison_name\": \"month_of_birth\", \"sql_condition\": \"ELSE\", \"label_for_charts\": \"All other comparisons\", \"m_probability\": 0.0039165038578643, \"u_probability\": 0.5035412388955921, \"m_probability_description\": \"Amongst matching record comparisons, 0.39% of records are in the all other comparisons comparison level\", \"u_probability_description\": \"Amongst non-matching record comparisons, 50.35% of records are in the all other comparisons comparison level\", \"has_tf_adjustments\": false, \"tf_adjustment_column\": null, \"tf_adjustment_weight\": 1.0, \"is_null_level\": false, \"bayes_factor\": 0.007777920764651367, \"log2_bayes_factor\": -7.006399746859212, \"comparison_vector_value\": 0, \"max_comparison_vector_value\": 2, \"bayes_factor_description\": \"If comparison level is `all other comparisons` then comparison is  128.57 times less likely to be a match\", \"probability_two_random_records_match\": 0.0001375226000255099, \"comparison_sort_order\": 4, \"iteration\": 3}, {\"comparison_name\": \"year_of_birth\", \"sql_condition\": \"`year_of_birth_l` = `year_of_birth_r`\", \"label_for_charts\": \"Exact match\", \"m_probability\": 0.9936300376295734, \"u_probability\": 0.011084011593037122, \"m_probability_description\": \"Amongst matching record comparisons, 99.36% of records are in the exact match comparison level\", \"u_probability_description\": \"Amongst non-matching record comparisons, 1.11% of records are in the exact match comparison level\", \"has_tf_adjustments\": false, \"tf_adjustment_column\": null, \"tf_adjustment_weight\": 1.0, \"is_null_level\": false, \"bayes_factor\": 89.64534449366354, \"log2_bayes_factor\": 6.486156757174508, \"comparison_vector_value\": 2, \"max_comparison_vector_value\": 2, \"bayes_factor_description\": \"If comparison level is `exact match` then comparison is 89.65 times more likely to be a match\", \"probability_two_random_records_match\": 0.0001375226000255099, \"comparison_sort_order\": 5, \"iteration\": 3}, {\"comparison_name\": \"year_of_birth\", \"sql_condition\": \"abs(year_of_birth_l - year_of_birth_r) <= 5\", \"label_for_charts\": \"Inexact match\", \"m_probability\": 0.0020765676439014674, \"u_probability\": 0.10937488974972305, \"m_probability_description\": \"Amongst matching record comparisons, 0.21% of records are in the inexact match comparison level\", \"u_probability_description\": \"Amongst non-matching record comparisons, 10.94% of records are in the inexact match comparison level\", \"has_tf_adjustments\": false, \"tf_adjustment_column\": null, \"tf_adjustment_weight\": 1.0, \"is_null_level\": false, \"bayes_factor\": 0.01898578045338533, \"log2_bayes_factor\": -5.718936884360738, \"comparison_vector_value\": 1, \"max_comparison_vector_value\": 2, \"bayes_factor_description\": \"If comparison level is `inexact match` then comparison is  52.67 times less likely to be a match\", \"probability_two_random_records_match\": 0.0001375226000255099, \"comparison_sort_order\": 5, \"iteration\": 3}, {\"comparison_name\": \"year_of_birth\", \"sql_condition\": \"ELSE\", \"label_for_charts\": \"All other comparisons\", \"m_probability\": 0.004293394726525156, \"u_probability\": 0.8795410986572398, \"m_probability_description\": \"Amongst matching record comparisons, 0.43% of records are in the all other comparisons comparison level\", \"u_probability_description\": \"Amongst non-matching record comparisons, 87.95% of records are in the all other comparisons comparison level\", \"has_tf_adjustments\": false, \"tf_adjustment_column\": null, \"tf_adjustment_weight\": 1.0, \"is_null_level\": false, \"bayes_factor\": 0.004881403192050615, \"log2_bayes_factor\": -7.6784883649017095, \"comparison_vector_value\": 0, \"max_comparison_vector_value\": 2, \"bayes_factor_description\": \"If comparison level is `all other comparisons` then comparison is  204.86 times less likely to be a match\", \"probability_two_random_records_match\": 0.0001375226000255099, \"comparison_sort_order\": 5, \"iteration\": 3}, {\"comparison_name\": \"first_name_15\", \"sql_condition\": \"`first_name_15_l` = `first_name_15_r`\", \"label_for_charts\": \"Exact match\", \"m_probability\": 0.9285696785469383, \"u_probability\": 0.0020078037145088655, \"m_probability_description\": \"Amongst matching record comparisons, 92.86% of records are in the exact match comparison level\", \"u_probability_description\": \"Amongst non-matching record comparisons, 0.20% of records are in the exact match comparison level\", \"has_tf_adjustments\": false, \"tf_adjustment_column\": null, \"tf_adjustment_weight\": 1.0, \"is_null_level\": false, \"bayes_factor\": 462.48030713205367, \"log2_bayes_factor\": 8.853248125332758, \"comparison_vector_value\": 2, \"max_comparison_vector_value\": 2, \"bayes_factor_description\": \"If comparison level is `exact match` then comparison is 462.48 times more likely to be a match\", \"probability_two_random_records_match\": 0.0001375226000255099, \"comparison_sort_order\": 0, \"iteration\": 4}, {\"comparison_name\": \"first_name_15\", \"sql_condition\": \"jaro_winkler(`first_name_15_l`, `first_name_15_r`) >= 0.8333333333333334\", \"label_for_charts\": \"Jaro_winkler >= 0.8333333333333334\", \"m_probability\": 0.029143634967707912, \"u_probability\": 0.0031729716420609063, \"m_probability_description\": \"Amongst matching record comparisons, 2.91% of records are in the jaro_winkler >= 0.8333333333333334 comparison level\", \"u_probability_description\": \"Amongst non-matching record comparisons, 0.32% of records are in the jaro_winkler >= 0.8333333333333334 comparison level\", \"has_tf_adjustments\": false, \"tf_adjustment_column\": null, \"tf_adjustment_weight\": 1.0, \"is_null_level\": false, \"bayes_factor\": 9.184965469397817, \"log2_bayes_factor\": 3.1992742975780866, \"comparison_vector_value\": 1, \"max_comparison_vector_value\": 2, \"bayes_factor_description\": \"If comparison level is `jaro_winkler >= 0.8333333333333334` then comparison is 9.18 times more likely to be a match\", \"probability_two_random_records_match\": 0.0001375226000255099, \"comparison_sort_order\": 0, \"iteration\": 4}, {\"comparison_name\": \"first_name_15\", \"sql_condition\": \"ELSE\", \"label_for_charts\": \"All other comparisons\", \"m_probability\": 0.04228668648535376, \"u_probability\": 0.9948192246434302, \"m_probability_description\": \"Amongst matching record comparisons, 4.23% of records are in the all other comparisons comparison level\", \"u_probability_description\": \"Amongst non-matching record comparisons, 99.48% of records are in the all other comparisons comparison level\", \"has_tf_adjustments\": false, \"tf_adjustment_column\": null, \"tf_adjustment_weight\": 1.0, \"is_null_level\": false, \"bayes_factor\": 0.042506905212362014, \"log2_bayes_factor\": -4.556158964843954, \"comparison_vector_value\": 0, \"max_comparison_vector_value\": 2, \"bayes_factor_description\": \"If comparison level is `all other comparisons` then comparison is  23.53 times less likely to be a match\", \"probability_two_random_records_match\": 0.0001375226000255099, \"comparison_sort_order\": 0, \"iteration\": 4}, {\"comparison_name\": \"last_name_12\", \"sql_condition\": \"`last_name_12_l` = `last_name_12_r`\", \"label_for_charts\": \"Exact match\", \"m_probability\": 0.9436912235050785, \"u_probability\": 0.0006057226012092292, \"m_probability_description\": \"Amongst matching record comparisons, 94.37% of records are in the exact match comparison level\", \"u_probability_description\": \"Amongst non-matching record comparisons, 0.06% of records are in the exact match comparison level\", \"has_tf_adjustments\": false, \"tf_adjustment_column\": null, \"tf_adjustment_weight\": 1.0, \"is_null_level\": false, \"bayes_factor\": 1557.9594052147775, \"log2_bayes_factor\": 10.60544192713848, \"comparison_vector_value\": 2, \"max_comparison_vector_value\": 2, \"bayes_factor_description\": \"If comparison level is `exact match` then comparison is 1,557.96 times more likely to be a match\", \"probability_two_random_records_match\": 0.0001375226000255099, \"comparison_sort_order\": 1, \"iteration\": 4}, {\"comparison_name\": \"last_name_12\", \"sql_condition\": \"jaro_winkler(`last_name_12_l`, `last_name_12_r`) >= 0.8333333333333334\", \"label_for_charts\": \"Jaro_winkler >= 0.8333333333333334\", \"m_probability\": 0.036572288469637074, \"u_probability\": 0.0012859293840712192, \"m_probability_description\": \"Amongst matching record comparisons, 3.66% of records are in the jaro_winkler >= 0.8333333333333334 comparison level\", \"u_probability_description\": \"Amongst non-matching record comparisons, 0.13% of records are in the jaro_winkler >= 0.8333333333333334 comparison level\", \"has_tf_adjustments\": false, \"tf_adjustment_column\": null, \"tf_adjustment_weight\": 1.0, \"is_null_level\": false, \"bayes_factor\": 28.440355219079102, \"log2_bayes_factor\": 4.829867579169706, \"comparison_vector_value\": 1, \"max_comparison_vector_value\": 2, \"bayes_factor_description\": \"If comparison level is `jaro_winkler >= 0.8333333333333334` then comparison is 28.44 times more likely to be a match\", \"probability_two_random_records_match\": 0.0001375226000255099, \"comparison_sort_order\": 1, \"iteration\": 4}, {\"comparison_name\": \"last_name_12\", \"sql_condition\": \"ELSE\", \"label_for_charts\": \"All other comparisons\", \"m_probability\": 0.01973648802528449, \"u_probability\": 0.9981083480147196, \"m_probability_description\": \"Amongst matching record comparisons, 1.97% of records are in the all other comparisons comparison level\", \"u_probability_description\": \"Amongst non-matching record comparisons, 99.81% of records are in the all other comparisons comparison level\", \"has_tf_adjustments\": false, \"tf_adjustment_column\": null, \"tf_adjustment_weight\": 1.0, \"is_null_level\": false, \"bayes_factor\": 0.019773893349896543, \"log2_bayes_factor\": -5.660259233549036, \"comparison_vector_value\": 0, \"max_comparison_vector_value\": 2, \"bayes_factor_description\": \"If comparison level is `all other comparisons` then comparison is  50.57 times less likely to be a match\", \"probability_two_random_records_match\": 0.0001375226000255099, \"comparison_sort_order\": 1, \"iteration\": 4}, {\"comparison_name\": \"middle_initial\", \"sql_condition\": \"`middle_initial_l` = `middle_initial_r`\", \"label_for_charts\": \"Exact match\", \"m_probability\": 0.9623898818368449, \"u_probability\": 0.06625810679844002, \"m_probability_description\": \"Amongst matching record comparisons, 96.24% of records are in the exact match comparison level\", \"u_probability_description\": \"Amongst non-matching record comparisons, 6.63% of records are in the exact match comparison level\", \"has_tf_adjustments\": false, \"tf_adjustment_column\": null, \"tf_adjustment_weight\": 1.0, \"is_null_level\": false, \"bayes_factor\": 14.524862365362715, \"log2_bayes_factor\": 3.8604525878975835, \"comparison_vector_value\": 1, \"max_comparison_vector_value\": 1, \"bayes_factor_description\": \"If comparison level is `exact match` then comparison is 14.52 times more likely to be a match\", \"probability_two_random_records_match\": 0.0001375226000255099, \"comparison_sort_order\": 2, \"iteration\": 4}, {\"comparison_name\": \"middle_initial\", \"sql_condition\": \"ELSE\", \"label_for_charts\": \"All other comparisons\", \"m_probability\": 0.03761011816315502, \"u_probability\": 0.93374189320156, \"m_probability_description\": \"Amongst matching record comparisons, 3.76% of records are in the all other comparisons comparison level\", \"u_probability_description\": \"Amongst non-matching record comparisons, 93.37% of records are in the all other comparisons comparison level\", \"has_tf_adjustments\": false, \"tf_adjustment_column\": null, \"tf_adjustment_weight\": 1.0, \"is_null_level\": false, \"bayes_factor\": 0.04027892336949736, \"log2_bayes_factor\": -4.633831068253402, \"comparison_vector_value\": 0, \"max_comparison_vector_value\": 1, \"bayes_factor_description\": \"If comparison level is `all other comparisons` then comparison is  24.83 times less likely to be a match\", \"probability_two_random_records_match\": 0.0001375226000255099, \"comparison_sort_order\": 2, \"iteration\": 4}, {\"comparison_name\": \"day_of_birth\", \"sql_condition\": \"`day_of_birth_l` = `day_of_birth_r`\", \"label_for_charts\": \"Exact match\", \"m_probability\": 0.9901555215837141, \"u_probability\": 0.03252879296232792, \"m_probability_description\": \"Amongst matching record comparisons, 99.02% of records are in the exact match comparison level\", \"u_probability_description\": \"Amongst non-matching record comparisons, 3.25% of records are in the exact match comparison level\", \"has_tf_adjustments\": false, \"tf_adjustment_column\": null, \"tf_adjustment_weight\": 1.0, \"is_null_level\": false, \"bayes_factor\": 30.439356379759555, \"log2_bayes_factor\": 4.927865949210234, \"comparison_vector_value\": 2, \"max_comparison_vector_value\": 2, \"bayes_factor_description\": \"If comparison level is `exact match` then comparison is 30.44 times more likely to be a match\", \"probability_two_random_records_match\": 0.0001375226000255099, \"comparison_sort_order\": 3, \"iteration\": 4}, {\"comparison_name\": \"day_of_birth\", \"sql_condition\": \"abs(day_of_birth_l - day_of_birth_r) <= 5\", \"label_for_charts\": \"Inexact match\", \"m_probability\": 0.006539432624023986, \"u_probability\": 0.29573920164687456, \"m_probability_description\": \"Amongst matching record comparisons, 0.65% of records are in the inexact match comparison level\", \"u_probability_description\": \"Amongst non-matching record comparisons, 29.57% of records are in the inexact match comparison level\", \"has_tf_adjustments\": false, \"tf_adjustment_column\": null, \"tf_adjustment_weight\": 1.0, \"is_null_level\": false, \"bayes_factor\": 0.02211216026691095, \"log2_bayes_factor\": -5.499016212376594, \"comparison_vector_value\": 1, \"max_comparison_vector_value\": 2, \"bayes_factor_description\": \"If comparison level is `inexact match` then comparison is  45.22 times less likely to be a match\", \"probability_two_random_records_match\": 0.0001375226000255099, \"comparison_sort_order\": 3, \"iteration\": 4}, {\"comparison_name\": \"day_of_birth\", \"sql_condition\": \"ELSE\", \"label_for_charts\": \"All other comparisons\", \"m_probability\": 0.0033050457922619222, \"u_probability\": 0.6717320053907976, \"m_probability_description\": \"Amongst matching record comparisons, 0.33% of records are in the all other comparisons comparison level\", \"u_probability_description\": \"Amongst non-matching record comparisons, 67.17% of records are in the all other comparisons comparison level\", \"has_tf_adjustments\": false, \"tf_adjustment_column\": null, \"tf_adjustment_weight\": 1.0, \"is_null_level\": false, \"bayes_factor\": 0.004920185082351593, \"log2_bayes_factor\": -7.667071698290957, \"comparison_vector_value\": 0, \"max_comparison_vector_value\": 2, \"bayes_factor_description\": \"If comparison level is `all other comparisons` then comparison is  203.24 times less likely to be a match\", \"probability_two_random_records_match\": 0.0001375226000255099, \"comparison_sort_order\": 3, \"iteration\": 4}, {\"comparison_name\": \"month_of_birth\", \"sql_condition\": \"`month_of_birth_l` = `month_of_birth_r`\", \"label_for_charts\": \"Exact match\", \"m_probability\": 0.9915246545414689, \"u_probability\": 0.08350433151288077, \"m_probability_description\": \"Amongst matching record comparisons, 99.15% of records are in the exact match comparison level\", \"u_probability_description\": \"Amongst non-matching record comparisons, 8.35% of records are in the exact match comparison level\", \"has_tf_adjustments\": false, \"tf_adjustment_column\": null, \"tf_adjustment_weight\": 1.0, \"is_null_level\": false, \"bayes_factor\": 11.873930807871009, \"log2_bayes_factor\": 3.5697257062148675, \"comparison_vector_value\": 2, \"max_comparison_vector_value\": 2, \"bayes_factor_description\": \"If comparison level is `exact match` then comparison is 11.87 times more likely to be a match\", \"probability_two_random_records_match\": 0.0001375226000255099, \"comparison_sort_order\": 4, \"iteration\": 4}, {\"comparison_name\": \"month_of_birth\", \"sql_condition\": \"abs(month_of_birth_l - month_of_birth_r) <= 3\", \"label_for_charts\": \"Inexact match\", \"m_probability\": 0.004537459491359766, \"u_probability\": 0.4129544295915271, \"m_probability_description\": \"Amongst matching record comparisons, 0.45% of records are in the inexact match comparison level\", \"u_probability_description\": \"Amongst non-matching record comparisons, 41.30% of records are in the inexact match comparison level\", \"has_tf_adjustments\": false, \"tf_adjustment_column\": null, \"tf_adjustment_weight\": 1.0, \"is_null_level\": false, \"bayes_factor\": 0.01098779711806938, \"log2_bayes_factor\": -6.507954012349646, \"comparison_vector_value\": 1, \"max_comparison_vector_value\": 2, \"bayes_factor_description\": \"If comparison level is `inexact match` then comparison is  91.01 times less likely to be a match\", \"probability_two_random_records_match\": 0.0001375226000255099, \"comparison_sort_order\": 4, \"iteration\": 4}, {\"comparison_name\": \"month_of_birth\", \"sql_condition\": \"ELSE\", \"label_for_charts\": \"All other comparisons\", \"m_probability\": 0.0039378859671713165, \"u_probability\": 0.5035412388955921, \"m_probability_description\": \"Amongst matching record comparisons, 0.39% of records are in the all other comparisons comparison level\", \"u_probability_description\": \"Amongst non-matching record comparisons, 50.35% of records are in the all other comparisons comparison level\", \"has_tf_adjustments\": false, \"tf_adjustment_column\": null, \"tf_adjustment_weight\": 1.0, \"is_null_level\": false, \"bayes_factor\": 0.007820384236667905, \"log2_bayes_factor\": -6.998544791871522, \"comparison_vector_value\": 0, \"max_comparison_vector_value\": 2, \"bayes_factor_description\": \"If comparison level is `all other comparisons` then comparison is  127.87 times less likely to be a match\", \"probability_two_random_records_match\": 0.0001375226000255099, \"comparison_sort_order\": 4, \"iteration\": 4}, {\"comparison_name\": \"year_of_birth\", \"sql_condition\": \"`year_of_birth_l` = `year_of_birth_r`\", \"label_for_charts\": \"Exact match\", \"m_probability\": 0.9936090156758229, \"u_probability\": 0.011084011593037122, \"m_probability_description\": \"Amongst matching record comparisons, 99.36% of records are in the exact match comparison level\", \"u_probability_description\": \"Amongst non-matching record comparisons, 1.11% of records are in the exact match comparison level\", \"has_tf_adjustments\": false, \"tf_adjustment_column\": null, \"tf_adjustment_weight\": 1.0, \"is_null_level\": false, \"bayes_factor\": 89.64344789209706, \"log2_bayes_factor\": 6.486126234154768, \"comparison_vector_value\": 2, \"max_comparison_vector_value\": 2, \"bayes_factor_description\": \"If comparison level is `exact match` then comparison is 89.64 times more likely to be a match\", \"probability_two_random_records_match\": 0.0001375226000255099, \"comparison_sort_order\": 5, \"iteration\": 4}, {\"comparison_name\": \"year_of_birth\", \"sql_condition\": \"abs(year_of_birth_l - year_of_birth_r) <= 5\", \"label_for_charts\": \"Inexact match\", \"m_probability\": 0.0020819672005258807, \"u_probability\": 0.10937488974972305, \"m_probability_description\": \"Amongst matching record comparisons, 0.21% of records are in the inexact match comparison level\", \"u_probability_description\": \"Amongst non-matching record comparisons, 10.94% of records are in the inexact match comparison level\", \"has_tf_adjustments\": false, \"tf_adjustment_column\": null, \"tf_adjustment_weight\": 1.0, \"is_null_level\": false, \"bayes_factor\": 0.0190351478779996, \"log2_bayes_factor\": -5.715190411992859, \"comparison_vector_value\": 1, \"max_comparison_vector_value\": 2, \"bayes_factor_description\": \"If comparison level is `inexact match` then comparison is  52.53 times less likely to be a match\", \"probability_two_random_records_match\": 0.0001375226000255099, \"comparison_sort_order\": 5, \"iteration\": 4}, {\"comparison_name\": \"year_of_birth\", \"sql_condition\": \"ELSE\", \"label_for_charts\": \"All other comparisons\", \"m_probability\": 0.004309017123651222, \"u_probability\": 0.8795410986572398, \"m_probability_description\": \"Amongst matching record comparisons, 0.43% of records are in the all other comparisons comparison level\", \"u_probability_description\": \"Amongst non-matching record comparisons, 87.95% of records are in the all other comparisons comparison level\", \"has_tf_adjustments\": false, \"tf_adjustment_column\": null, \"tf_adjustment_weight\": 1.0, \"is_null_level\": false, \"bayes_factor\": 0.004899165178556893, \"log2_bayes_factor\": -7.673248350814831, \"comparison_vector_value\": 0, \"max_comparison_vector_value\": 2, \"bayes_factor_description\": \"If comparison level is `all other comparisons` then comparison is  204.12 times less likely to be a match\", \"probability_two_random_records_match\": 0.0001375226000255099, \"comparison_sort_order\": 5, \"iteration\": 4}]}}, {\"mode\": \"vega-lite\"});\n",
       "</script>"
      ],
      "text/plain": [
       "alt.HConcatChart(...)"
      ]
     },
     "execution_count": 60,
     "metadata": {},
     "output_type": "execute_result"
    }
   ],
   "source": [
    "em_session_2.m_u_values_interactive_history_chart()"
   ]
  },
  {
   "cell_type": "code",
   "execution_count": 61,
   "id": "c2226bd7-8baa-4be1-bb4d-f43ac0783ec3",
   "metadata": {
    "execution": {
     "iopub.execute_input": "2024-05-16T06:30:05.275600Z",
     "iopub.status.busy": "2024-05-16T06:30:05.272438Z",
     "iopub.status.idle": "2024-05-16T06:30:05.528646Z",
     "shell.execute_reply": "2024-05-16T06:30:05.524625Z"
    },
    "papermill": {
     "duration": 0.301648,
     "end_time": "2024-05-16T06:30:05.531045",
     "exception": false,
     "start_time": "2024-05-16T06:30:05.229397",
     "status": "completed"
    },
    "tags": []
   },
   "outputs": [
    {
     "data": {
      "text/html": [
       "\n",
       "<style>\n",
       "  #altair-viz-8756276868684d51bd9c91ea79776f7f.vega-embed {\n",
       "    width: 100%;\n",
       "    display: flex;\n",
       "  }\n",
       "\n",
       "  #altair-viz-8756276868684d51bd9c91ea79776f7f.vega-embed details,\n",
       "  #altair-viz-8756276868684d51bd9c91ea79776f7f.vega-embed details summary {\n",
       "    position: relative;\n",
       "  }\n",
       "</style>\n",
       "<div id=\"altair-viz-8756276868684d51bd9c91ea79776f7f\"></div>\n",
       "<script type=\"text/javascript\">\n",
       "  var VEGA_DEBUG = (typeof VEGA_DEBUG == \"undefined\") ? {} : VEGA_DEBUG;\n",
       "  (function(spec, embedOpt){\n",
       "    let outputDiv = document.currentScript.previousElementSibling;\n",
       "    if (outputDiv.id !== \"altair-viz-8756276868684d51bd9c91ea79776f7f\") {\n",
       "      outputDiv = document.getElementById(\"altair-viz-8756276868684d51bd9c91ea79776f7f\");\n",
       "    }\n",
       "    const paths = {\n",
       "      \"vega\": \"https://cdn.jsdelivr.net/npm/vega@5?noext\",\n",
       "      \"vega-lib\": \"https://cdn.jsdelivr.net/npm/vega-lib?noext\",\n",
       "      \"vega-lite\": \"https://cdn.jsdelivr.net/npm/vega-lite@5.17.0?noext\",\n",
       "      \"vega-embed\": \"https://cdn.jsdelivr.net/npm/vega-embed@6?noext\",\n",
       "    };\n",
       "\n",
       "    function maybeLoadScript(lib, version) {\n",
       "      var key = `${lib.replace(\"-\", \"\")}_version`;\n",
       "      return (VEGA_DEBUG[key] == version) ?\n",
       "        Promise.resolve(paths[lib]) :\n",
       "        new Promise(function(resolve, reject) {\n",
       "          var s = document.createElement('script');\n",
       "          document.getElementsByTagName(\"head\")[0].appendChild(s);\n",
       "          s.async = true;\n",
       "          s.onload = () => {\n",
       "            VEGA_DEBUG[key] = version;\n",
       "            return resolve(paths[lib]);\n",
       "          };\n",
       "          s.onerror = () => reject(`Error loading script: ${paths[lib]}`);\n",
       "          s.src = paths[lib];\n",
       "        });\n",
       "    }\n",
       "\n",
       "    function showError(err) {\n",
       "      outputDiv.innerHTML = `<div class=\"error\" style=\"color:red;\">${err}</div>`;\n",
       "      throw err;\n",
       "    }\n",
       "\n",
       "    function displayChart(vegaEmbed) {\n",
       "      vegaEmbed(outputDiv, spec, embedOpt)\n",
       "        .catch(err => showError(`Javascript Error: ${err.message}<br>This usually means there's a typo in your chart specification. See the javascript console for the full traceback.`));\n",
       "    }\n",
       "\n",
       "    if(typeof define === \"function\" && define.amd) {\n",
       "      requirejs.config({paths});\n",
       "      require([\"vega-embed\"], displayChart, err => showError(`Error loading script: ${err.message}`));\n",
       "    } else {\n",
       "      maybeLoadScript(\"vega\", \"5\")\n",
       "        .then(() => maybeLoadScript(\"vega-lite\", \"5.17.0\"))\n",
       "        .then(() => maybeLoadScript(\"vega-embed\", \"6\"))\n",
       "        .catch(showError)\n",
       "        .then(() => displayChart(vegaEmbed));\n",
       "    }\n",
       "  })({\"config\": {\"view\": {\"continuousWidth\": 300, \"continuousHeight\": 300, \"discreteHeight\": 60, \"discreteWidth\": 400}, \"header\": {\"title\": null}, \"mark\": {\"tooltip\": null}, \"title\": {\"anchor\": \"middle\"}}, \"vconcat\": [{\"mark\": {\"type\": \"bar\", \"clip\": true, \"height\": 15}, \"encoding\": {\"color\": {\"field\": \"log2_bayes_factor\", \"scale\": {\"domain\": [-10, 0, 10], \"interpolate\": \"lab\", \"range\": [\"red\", \"#bbbbbb\", \"green\"]}, \"title\": \"Match weight\", \"type\": \"quantitative\"}, \"tooltip\": [{\"field\": \"comparison_name\", \"title\": \"Comparison name\", \"type\": \"nominal\"}, {\"field\": \"probability_two_random_records_match\", \"format\": \".4f\", \"title\": \"Probability two random records match\", \"type\": \"nominal\"}, {\"field\": \"log2_bayes_factor\", \"format\": \",.4f\", \"title\": \"Equivalent match weight\", \"type\": \"quantitative\"}, {\"field\": \"bayes_factor_description\", \"title\": \"Match weight description\", \"type\": \"nominal\"}], \"x\": {\"axis\": {\"domain\": false, \"gridColor\": {\"condition\": {\"test\": \"abs(datum.value / 10)  <= 1 & datum.value % 10 === 0\", \"value\": \"#aaa\"}, \"value\": \"#ddd\"}, \"gridDash\": {\"condition\": {\"test\": \"abs(datum.value / 10) == 1\", \"value\": [3]}, \"value\": null}, \"gridWidth\": {\"condition\": {\"test\": \"abs(datum.value / 10)  <= 1 & datum.value % 10 === 0\", \"value\": 2}, \"value\": 1}, \"labels\": false, \"ticks\": false, \"title\": \"\"}, \"field\": \"log2_bayes_factor\", \"scale\": {\"domain\": [-23, 23]}, \"type\": \"quantitative\"}, \"y\": {\"axis\": {\"title\": \"Prior (starting) match weight\", \"titleAlign\": \"right\", \"titleAngle\": 0, \"titleFontWeight\": \"normal\"}, \"field\": \"label_for_charts\", \"sort\": {\"field\": \"comparison_vector_value\", \"order\": \"descending\"}, \"type\": \"nominal\"}}, \"height\": 20, \"transform\": [{\"filter\": \"(datum.comparison_name == 'probability_two_random_records_match')\"}]}, {\"mark\": {\"type\": \"bar\", \"clip\": true}, \"encoding\": {\"color\": {\"field\": \"log2_bayes_factor\", \"scale\": {\"domain\": [-10, 0, 10], \"interpolate\": \"lab\", \"range\": [\"red\", \"#bbbbbb\", \"green\"]}, \"title\": \"Match weight\", \"type\": \"quantitative\"}, \"row\": {\"field\": \"comparison_name\", \"header\": {\"labelAlign\": \"left\", \"labelAnchor\": \"middle\", \"labelAngle\": 0}, \"sort\": {\"field\": \"comparison_sort_order\"}, \"type\": \"nominal\"}, \"tooltip\": [{\"field\": \"comparison_name\", \"title\": \"Comparison name\", \"type\": \"nominal\"}, {\"field\": \"label_for_charts\", \"title\": \"Label\", \"type\": \"ordinal\"}, {\"field\": \"sql_condition\", \"title\": \"SQL condition\", \"type\": \"nominal\"}, {\"field\": \"m_probability\", \"format\": \".4f\", \"title\": \"M probability\", \"type\": \"quantitative\"}, {\"field\": \"u_probability\", \"format\": \".4f\", \"title\": \"U probability\", \"type\": \"quantitative\"}, {\"field\": \"bayes_factor\", \"format\": \",.4f\", \"title\": \"Bayes factor = m/u\", \"type\": \"quantitative\"}, {\"field\": \"log2_bayes_factor\", \"format\": \",.4f\", \"title\": \"Match weight = log2(m/u)\", \"type\": \"quantitative\"}, {\"field\": \"bayes_factor_description\", \"title\": \"Match weight description\", \"type\": \"nominal\"}], \"x\": {\"axis\": {\"gridColor\": {\"condition\": {\"test\": \"abs(datum.value / 10)  <= 1 & datum.value % 10 === 0\", \"value\": \"#aaa\"}, \"value\": \"#ddd\"}, \"gridDash\": {\"condition\": {\"test\": \"abs(datum.value / 10) == 1\", \"value\": [3]}, \"value\": null}, \"gridWidth\": {\"condition\": {\"test\": \"abs(datum.value / 10)  <= 1 & datum.value % 10 === 0\", \"value\": 2}, \"value\": 1}, \"title\": \"Comparison level match weight = log2(m/u)\"}, \"field\": \"log2_bayes_factor\", \"scale\": {\"domain\": [-23, 23]}, \"type\": \"quantitative\"}, \"y\": {\"axis\": {\"title\": null}, \"field\": \"label_for_charts\", \"sort\": {\"field\": \"comparison_vector_value\", \"order\": \"descending\"}, \"type\": \"nominal\"}}, \"height\": {\"step\": 12}, \"resolve\": {\"axis\": {\"y\": \"independent\"}, \"scale\": {\"y\": \"independent\"}}, \"transform\": [{\"filter\": \"(datum.comparison_name != 'probability_two_random_records_match')\"}]}], \"data\": {\"name\": \"data-e065a0eb3e7d30313351641d8d483a5c\"}, \"params\": [{\"name\": \"mouse_zoom\", \"select\": {\"type\": \"interval\", \"encodings\": [\"x\"]}, \"bind\": \"scales\", \"views\": []}], \"resolve\": {\"axis\": {\"y\": \"independent\"}, \"scale\": {\"y\": \"independent\"}}, \"title\": {\"text\": \"Model parameters (components of final match weight)\", \"subtitle\": \"Use mousewheel to zoom\"}, \"$schema\": \"https://vega.github.io/schema/vega-lite/v5.9.3.json\", \"datasets\": {\"data-e065a0eb3e7d30313351641d8d483a5c\": [{\"comparison_name\": \"probability_two_random_records_match\", \"sql_condition\": null, \"label_for_charts\": \"\", \"m_probability\": null, \"u_probability\": null, \"m_probability_description\": null, \"u_probability_description\": null, \"has_tf_adjustments\": false, \"tf_adjustment_column\": null, \"tf_adjustment_weight\": null, \"is_null_level\": false, \"bayes_factor\": 1.8424248396981794e-07, \"log2_bayes_factor\": -22.371890897323436, \"comparison_vector_value\": 0, \"max_comparison_vector_value\": 0, \"bayes_factor_description\": \"The probability that two random records drawn at random match is 0.000 or one in  5,427,630.8 records.This is equivalent to a starting match weight of -22.372.\", \"probability_two_random_records_match\": 1.8424245002453127e-07, \"comparison_sort_order\": -1}, {\"comparison_name\": \"first_name_15\", \"sql_condition\": \"`first_name_15_l` = `first_name_15_r`\", \"label_for_charts\": \"Exact match\", \"m_probability\": 0.9285696785469383, \"u_probability\": 0.0020078037145088655, \"m_probability_description\": \"Amongst matching record comparisons, 92.86% of records are in the exact match comparison level\", \"u_probability_description\": \"Amongst non-matching record comparisons, 0.20% of records are in the exact match comparison level\", \"has_tf_adjustments\": false, \"tf_adjustment_column\": null, \"tf_adjustment_weight\": 1.0, \"is_null_level\": false, \"bayes_factor\": 462.48030713205367, \"log2_bayes_factor\": 8.853248125332758, \"comparison_vector_value\": 2, \"max_comparison_vector_value\": 2, \"bayes_factor_description\": \"If comparison level is `exact match` then comparison is 462.48 times more likely to be a match\", \"probability_two_random_records_match\": 1.8424245002453127e-07, \"comparison_sort_order\": 0}, {\"comparison_name\": \"first_name_15\", \"sql_condition\": \"jaro_winkler(`first_name_15_l`, `first_name_15_r`) >= 0.8333333333333334\", \"label_for_charts\": \"Jaro_winkler >= 0.8333333333333334\", \"m_probability\": 0.029143634967707912, \"u_probability\": 0.0031729716420609063, \"m_probability_description\": \"Amongst matching record comparisons, 2.91% of records are in the jaro_winkler >= 0.8333333333333334 comparison level\", \"u_probability_description\": \"Amongst non-matching record comparisons, 0.32% of records are in the jaro_winkler >= 0.8333333333333334 comparison level\", \"has_tf_adjustments\": false, \"tf_adjustment_column\": null, \"tf_adjustment_weight\": 1.0, \"is_null_level\": false, \"bayes_factor\": 9.184965469397817, \"log2_bayes_factor\": 3.1992742975780866, \"comparison_vector_value\": 1, \"max_comparison_vector_value\": 2, \"bayes_factor_description\": \"If comparison level is `jaro_winkler >= 0.8333333333333334` then comparison is 9.18 times more likely to be a match\", \"probability_two_random_records_match\": 1.8424245002453127e-07, \"comparison_sort_order\": 0}, {\"comparison_name\": \"first_name_15\", \"sql_condition\": \"ELSE\", \"label_for_charts\": \"All other comparisons\", \"m_probability\": 0.04228668648535376, \"u_probability\": 0.9948192246434302, \"m_probability_description\": \"Amongst matching record comparisons, 4.23% of records are in the all other comparisons comparison level\", \"u_probability_description\": \"Amongst non-matching record comparisons, 99.48% of records are in the all other comparisons comparison level\", \"has_tf_adjustments\": false, \"tf_adjustment_column\": null, \"tf_adjustment_weight\": 1.0, \"is_null_level\": false, \"bayes_factor\": 0.042506905212362014, \"log2_bayes_factor\": -4.556158964843954, \"comparison_vector_value\": 0, \"max_comparison_vector_value\": 2, \"bayes_factor_description\": \"If comparison level is `all other comparisons` then comparison is  23.53 times less likely to be a match\", \"probability_two_random_records_match\": 1.8424245002453127e-07, \"comparison_sort_order\": 0}, {\"comparison_name\": \"last_name_12\", \"sql_condition\": \"`last_name_12_l` = `last_name_12_r`\", \"label_for_charts\": \"Exact match\", \"m_probability\": 0.9469499097555562, \"u_probability\": 0.0006057226012092292, \"m_probability_description\": \"Amongst matching record comparisons, 94.69% of records are in the exact match comparison level\", \"u_probability_description\": \"Amongst non-matching record comparisons, 0.06% of records are in the exact match comparison level\", \"has_tf_adjustments\": false, \"tf_adjustment_column\": null, \"tf_adjustment_weight\": 1.0, \"is_null_level\": false, \"bayes_factor\": 1563.3392379038205, \"log2_bayes_factor\": 10.610415155601714, \"comparison_vector_value\": 2, \"max_comparison_vector_value\": 2, \"bayes_factor_description\": \"If comparison level is `exact match` then comparison is 1,563.34 times more likely to be a match\", \"probability_two_random_records_match\": 1.8424245002453127e-07, \"comparison_sort_order\": 1}, {\"comparison_name\": \"last_name_12\", \"sql_condition\": \"jaro_winkler(`last_name_12_l`, `last_name_12_r`) >= 0.8333333333333334\", \"label_for_charts\": \"Jaro_winkler >= 0.8333333333333334\", \"m_probability\": 0.03451118363611795, \"u_probability\": 0.0012859293840712192, \"m_probability_description\": \"Amongst matching record comparisons, 3.45% of records are in the jaro_winkler >= 0.8333333333333334 comparison level\", \"u_probability_description\": \"Amongst non-matching record comparisons, 0.13% of records are in the jaro_winkler >= 0.8333333333333334 comparison level\", \"has_tf_adjustments\": false, \"tf_adjustment_column\": null, \"tf_adjustment_weight\": 1.0, \"is_null_level\": false, \"bayes_factor\": 26.837541830529165, \"log2_bayes_factor\": 4.746180629640249, \"comparison_vector_value\": 1, \"max_comparison_vector_value\": 2, \"bayes_factor_description\": \"If comparison level is `jaro_winkler >= 0.8333333333333334` then comparison is 26.84 times more likely to be a match\", \"probability_two_random_records_match\": 1.8424245002453127e-07, \"comparison_sort_order\": 1}, {\"comparison_name\": \"last_name_12\", \"sql_condition\": \"ELSE\", \"label_for_charts\": \"All other comparisons\", \"m_probability\": 0.01853890660832594, \"u_probability\": 0.9981083480147196, \"m_probability_description\": \"Amongst matching record comparisons, 1.85% of records are in the all other comparisons comparison level\", \"u_probability_description\": \"Amongst non-matching record comparisons, 99.81% of records are in the all other comparisons comparison level\", \"has_tf_adjustments\": false, \"tf_adjustment_column\": null, \"tf_adjustment_weight\": 1.0, \"is_null_level\": false, \"bayes_factor\": 0.018574042232189142, \"log2_bayes_factor\": -5.750568369454769, \"comparison_vector_value\": 0, \"max_comparison_vector_value\": 2, \"bayes_factor_description\": \"If comparison level is `all other comparisons` then comparison is  53.84 times less likely to be a match\", \"probability_two_random_records_match\": 1.8424245002453127e-07, \"comparison_sort_order\": 1}, {\"comparison_name\": \"middle_initial\", \"sql_condition\": \"`middle_initial_l` = `middle_initial_r`\", \"label_for_charts\": \"Exact match\", \"m_probability\": 0.9727051251107761, \"u_probability\": 0.06625810679844002, \"m_probability_description\": \"Amongst matching record comparisons, 97.27% of records are in the exact match comparison level\", \"u_probability_description\": \"Amongst non-matching record comparisons, 6.63% of records are in the exact match comparison level\", \"has_tf_adjustments\": false, \"tf_adjustment_column\": null, \"tf_adjustment_weight\": 1.0, \"is_null_level\": false, \"bayes_factor\": 14.68054510023636, \"log2_bayes_factor\": 3.8758336324695457, \"comparison_vector_value\": 1, \"max_comparison_vector_value\": 1, \"bayes_factor_description\": \"If comparison level is `exact match` then comparison is 14.68 times more likely to be a match\", \"probability_two_random_records_match\": 1.8424245002453127e-07, \"comparison_sort_order\": 2}, {\"comparison_name\": \"middle_initial\", \"sql_condition\": \"ELSE\", \"label_for_charts\": \"All other comparisons\", \"m_probability\": 0.027294874889223896, \"u_probability\": 0.93374189320156, \"m_probability_description\": \"Amongst matching record comparisons, 2.73% of records are in the all other comparisons comparison level\", \"u_probability_description\": \"Amongst non-matching record comparisons, 93.37% of records are in the all other comparisons comparison level\", \"has_tf_adjustments\": false, \"tf_adjustment_column\": null, \"tf_adjustment_weight\": 1.0, \"is_null_level\": false, \"bayes_factor\": 0.02923171284051186, \"log2_bayes_factor\": -5.096321823028525, \"comparison_vector_value\": 0, \"max_comparison_vector_value\": 1, \"bayes_factor_description\": \"If comparison level is `all other comparisons` then comparison is  34.21 times less likely to be a match\", \"probability_two_random_records_match\": 1.8424245002453127e-07, \"comparison_sort_order\": 2}, {\"comparison_name\": \"day_of_birth\", \"sql_condition\": \"`day_of_birth_l` = `day_of_birth_r`\", \"label_for_charts\": \"Exact match\", \"m_probability\": 0.9913597981891702, \"u_probability\": 0.03252879296232792, \"m_probability_description\": \"Amongst matching record comparisons, 99.14% of records are in the exact match comparison level\", \"u_probability_description\": \"Amongst non-matching record comparisons, 3.25% of records are in the exact match comparison level\", \"has_tf_adjustments\": false, \"tf_adjustment_column\": null, \"tf_adjustment_weight\": 1.0, \"is_null_level\": false, \"bayes_factor\": 30.476378245490963, \"log2_bayes_factor\": 4.929619560785301, \"comparison_vector_value\": 2, \"max_comparison_vector_value\": 2, \"bayes_factor_description\": \"If comparison level is `exact match` then comparison is 30.48 times more likely to be a match\", \"probability_two_random_records_match\": 1.8424245002453127e-07, \"comparison_sort_order\": 3}, {\"comparison_name\": \"day_of_birth\", \"sql_condition\": \"abs(day_of_birth_l - day_of_birth_r) <= 5\", \"label_for_charts\": \"Inexact match\", \"m_probability\": 0.005873033001854494, \"u_probability\": 0.29573920164687456, \"m_probability_description\": \"Amongst matching record comparisons, 0.59% of records are in the inexact match comparison level\", \"u_probability_description\": \"Amongst non-matching record comparisons, 29.57% of records are in the inexact match comparison level\", \"has_tf_adjustments\": false, \"tf_adjustment_column\": null, \"tf_adjustment_weight\": 1.0, \"is_null_level\": false, \"bayes_factor\": 0.019858824833331193, \"log2_bayes_factor\": -5.654075937366044, \"comparison_vector_value\": 1, \"max_comparison_vector_value\": 2, \"bayes_factor_description\": \"If comparison level is `inexact match` then comparison is  50.36 times less likely to be a match\", \"probability_two_random_records_match\": 1.8424245002453127e-07, \"comparison_sort_order\": 3}, {\"comparison_name\": \"day_of_birth\", \"sql_condition\": \"ELSE\", \"label_for_charts\": \"All other comparisons\", \"m_probability\": 0.0027671688089754014, \"u_probability\": 0.6717320053907976, \"m_probability_description\": \"Amongst matching record comparisons, 0.28% of records are in the all other comparisons comparison level\", \"u_probability_description\": \"Amongst non-matching record comparisons, 67.17% of records are in the all other comparisons comparison level\", \"has_tf_adjustments\": false, \"tf_adjustment_column\": null, \"tf_adjustment_weight\": 1.0, \"is_null_level\": false, \"bayes_factor\": 0.0041194535719129965, \"log2_bayes_factor\": -7.923331301955844, \"comparison_vector_value\": 0, \"max_comparison_vector_value\": 2, \"bayes_factor_description\": \"If comparison level is `all other comparisons` then comparison is  242.75 times less likely to be a match\", \"probability_two_random_records_match\": 1.8424245002453127e-07, \"comparison_sort_order\": 3}, {\"comparison_name\": \"month_of_birth\", \"sql_condition\": \"`month_of_birth_l` = `month_of_birth_r`\", \"label_for_charts\": \"Exact match\", \"m_probability\": 0.9925312024691548, \"u_probability\": 0.08350433151288077, \"m_probability_description\": \"Amongst matching record comparisons, 99.25% of records are in the exact match comparison level\", \"u_probability_description\": \"Amongst non-matching record comparisons, 8.35% of records are in the exact match comparison level\", \"has_tf_adjustments\": false, \"tf_adjustment_column\": null, \"tf_adjustment_weight\": 1.0, \"is_null_level\": false, \"bayes_factor\": 11.885984648785007, \"log2_bayes_factor\": 3.571189517652573, \"comparison_vector_value\": 2, \"max_comparison_vector_value\": 2, \"bayes_factor_description\": \"If comparison level is `exact match` then comparison is 11.89 times more likely to be a match\", \"probability_two_random_records_match\": 1.8424245002453127e-07, \"comparison_sort_order\": 4}, {\"comparison_name\": \"month_of_birth\", \"sql_condition\": \"abs(month_of_birth_l - month_of_birth_r) <= 3\", \"label_for_charts\": \"Inexact match\", \"m_probability\": 0.004088367372949208, \"u_probability\": 0.4129544295915271, \"m_probability_description\": \"Amongst matching record comparisons, 0.41% of records are in the inexact match comparison level\", \"u_probability_description\": \"Amongst non-matching record comparisons, 41.30% of records are in the inexact match comparison level\", \"has_tf_adjustments\": false, \"tf_adjustment_column\": null, \"tf_adjustment_weight\": 1.0, \"is_null_level\": false, \"bayes_factor\": 0.00990028700501701, \"log2_bayes_factor\": -6.658313935761459, \"comparison_vector_value\": 1, \"max_comparison_vector_value\": 2, \"bayes_factor_description\": \"If comparison level is `inexact match` then comparison is  101.01 times less likely to be a match\", \"probability_two_random_records_match\": 1.8424245002453127e-07, \"comparison_sort_order\": 4}, {\"comparison_name\": \"month_of_birth\", \"sql_condition\": \"ELSE\", \"label_for_charts\": \"All other comparisons\", \"m_probability\": 0.0033804301578959795, \"u_probability\": 0.5035412388955921, \"m_probability_description\": \"Amongst matching record comparisons, 0.34% of records are in the all other comparisons comparison level\", \"u_probability_description\": \"Amongst non-matching record comparisons, 50.35% of records are in the all other comparisons comparison level\", \"has_tf_adjustments\": false, \"tf_adjustment_column\": null, \"tf_adjustment_weight\": 1.0, \"is_null_level\": false, \"bayes_factor\": 0.006713313422571338, \"log2_bayes_factor\": -7.218759285979414, \"comparison_vector_value\": 0, \"max_comparison_vector_value\": 2, \"bayes_factor_description\": \"If comparison level is `all other comparisons` then comparison is  148.96 times less likely to be a match\", \"probability_two_random_records_match\": 1.8424245002453127e-07, \"comparison_sort_order\": 4}, {\"comparison_name\": \"year_of_birth\", \"sql_condition\": \"`year_of_birth_l` = `year_of_birth_r`\", \"label_for_charts\": \"Exact match\", \"m_probability\": 0.9939603562726789, \"u_probability\": 0.011084011593037122, \"m_probability_description\": \"Amongst matching record comparisons, 99.40% of records are in the exact match comparison level\", \"u_probability_description\": \"Amongst non-matching record comparisons, 1.11% of records are in the exact match comparison level\", \"has_tf_adjustments\": false, \"tf_adjustment_column\": null, \"tf_adjustment_weight\": 1.0, \"is_null_level\": false, \"bayes_factor\": 89.67514585577264, \"log2_bayes_factor\": 6.486636281601846, \"comparison_vector_value\": 2, \"max_comparison_vector_value\": 2, \"bayes_factor_description\": \"If comparison level is `exact match` then comparison is 89.68 times more likely to be a match\", \"probability_two_random_records_match\": 1.8424245002453127e-07, \"comparison_sort_order\": 5}, {\"comparison_name\": \"year_of_birth\", \"sql_condition\": \"abs(year_of_birth_l - year_of_birth_r) <= 5\", \"label_for_charts\": \"Inexact match\", \"m_probability\": 0.001975863557923465, \"u_probability\": 0.10937488974972305, \"m_probability_description\": \"Amongst matching record comparisons, 0.20% of records are in the inexact match comparison level\", \"u_probability_description\": \"Amongst non-matching record comparisons, 10.94% of records are in the inexact match comparison level\", \"has_tf_adjustments\": false, \"tf_adjustment_column\": null, \"tf_adjustment_weight\": 1.0, \"is_null_level\": false, \"bayes_factor\": 0.018065056453494325, \"log2_bayes_factor\": -5.790654426559915, \"comparison_vector_value\": 1, \"max_comparison_vector_value\": 2, \"bayes_factor_description\": \"If comparison level is `inexact match` then comparison is  55.36 times less likely to be a match\", \"probability_two_random_records_match\": 1.8424245002453127e-07, \"comparison_sort_order\": 5}, {\"comparison_name\": \"year_of_birth\", \"sql_condition\": \"ELSE\", \"label_for_charts\": \"All other comparisons\", \"m_probability\": 0.004063780169397688, \"u_probability\": 0.8795410986572398, \"m_probability_description\": \"Amongst matching record comparisons, 0.41% of records are in the all other comparisons comparison level\", \"u_probability_description\": \"Amongst non-matching record comparisons, 87.95% of records are in the all other comparisons comparison level\", \"has_tf_adjustments\": false, \"tf_adjustment_column\": null, \"tf_adjustment_weight\": 1.0, \"is_null_level\": false, \"bayes_factor\": 0.004620341420772376, \"log2_bayes_factor\": -7.757784820930798, \"comparison_vector_value\": 0, \"max_comparison_vector_value\": 2, \"bayes_factor_description\": \"If comparison level is `all other comparisons` then comparison is  216.43 times less likely to be a match\", \"probability_two_random_records_match\": 1.8424245002453127e-07, \"comparison_sort_order\": 5}, {\"comparison_name\": \"geokey\", \"sql_condition\": \"`geokey_l` = `geokey_r`\", \"label_for_charts\": \"Exact match\", \"m_probability\": 0.6116170612953316, \"u_probability\": 0.0008192860645440116, \"m_probability_description\": \"Amongst matching record comparisons, 61.16% of records are in the exact match comparison level\", \"u_probability_description\": \"Amongst non-matching record comparisons, 0.08% of records are in the exact match comparison level\", \"has_tf_adjustments\": false, \"tf_adjustment_column\": null, \"tf_adjustment_weight\": 1.0, \"is_null_level\": false, \"bayes_factor\": 746.5244287240965, \"log2_bayes_factor\": 9.544045660613397, \"comparison_vector_value\": 2, \"max_comparison_vector_value\": 2, \"bayes_factor_description\": \"If comparison level is `exact match` then comparison is 746.52 times more likely to be a match\", \"probability_two_random_records_match\": 1.8424245002453127e-07, \"comparison_sort_order\": 6}, {\"comparison_name\": \"geokey\", \"sql_condition\": \"jaro_winkler(`geokey_l`, `geokey_r`) >= 0.7222222222222222\", \"label_for_charts\": \"Jaro_winkler >= 0.7222222222222222\", \"m_probability\": 0.38134415738767535, \"u_probability\": 0.020822268769994993, \"m_probability_description\": \"Amongst matching record comparisons, 38.13% of records are in the jaro_winkler >= 0.7222222222222222 comparison level\", \"u_probability_description\": \"Amongst non-matching record comparisons, 2.08% of records are in the jaro_winkler >= 0.7222222222222222 comparison level\", \"has_tf_adjustments\": false, \"tf_adjustment_column\": null, \"tf_adjustment_weight\": 1.0, \"is_null_level\": false, \"bayes_factor\": 18.314246233205598, \"log2_bayes_factor\": 4.194894419575965, \"comparison_vector_value\": 1, \"max_comparison_vector_value\": 2, \"bayes_factor_description\": \"If comparison level is `jaro_winkler >= 0.7222222222222222` then comparison is 18.31 times more likely to be a match\", \"probability_two_random_records_match\": 1.8424245002453127e-07, \"comparison_sort_order\": 6}, {\"comparison_name\": \"geokey\", \"sql_condition\": \"ELSE\", \"label_for_charts\": \"All other comparisons\", \"m_probability\": 0.007038781316992969, \"u_probability\": 0.978358445165461, \"m_probability_description\": \"Amongst matching record comparisons, 0.70% of records are in the all other comparisons comparison level\", \"u_probability_description\": \"Amongst non-matching record comparisons, 97.84% of records are in the all other comparisons comparison level\", \"has_tf_adjustments\": false, \"tf_adjustment_column\": null, \"tf_adjustment_weight\": 1.0, \"is_null_level\": false, \"bayes_factor\": 0.0071944810736545165, \"log2_bayes_factor\": -7.118893653216197, \"comparison_vector_value\": 0, \"max_comparison_vector_value\": 2, \"bayes_factor_description\": \"If comparison level is `all other comparisons` then comparison is  139.00 times less likely to be a match\", \"probability_two_random_records_match\": 1.8424245002453127e-07, \"comparison_sort_order\": 6}]}}, {\"mode\": \"vega-lite\"});\n",
       "</script>"
      ],
      "text/plain": [
       "alt.VConcatChart(...)"
      ]
     },
     "execution_count": 61,
     "metadata": {},
     "output_type": "execute_result"
    }
   ],
   "source": [
    "linker.match_weights_chart()"
   ]
  },
  {
   "cell_type": "code",
   "execution_count": 62,
   "id": "0227e7b1-d573-496a-bd6f-0eb81e75e44e",
   "metadata": {
    "execution": {
     "iopub.execute_input": "2024-05-16T06:30:05.623201Z",
     "iopub.status.busy": "2024-05-16T06:30:05.622573Z",
     "iopub.status.idle": "2024-05-16T06:30:05.759702Z",
     "shell.execute_reply": "2024-05-16T06:30:05.758151Z"
    },
    "papermill": {
     "duration": 0.183989,
     "end_time": "2024-05-16T06:30:05.763586",
     "exception": false,
     "start_time": "2024-05-16T06:30:05.579597",
     "status": "completed"
    },
    "tags": []
   },
   "outputs": [
    {
     "data": {
      "text/html": [
       "\n",
       "<style>\n",
       "  #altair-viz-12afca612f954ed89b2782e4fcdc9cf9.vega-embed {\n",
       "    width: 100%;\n",
       "    display: flex;\n",
       "  }\n",
       "\n",
       "  #altair-viz-12afca612f954ed89b2782e4fcdc9cf9.vega-embed details,\n",
       "  #altair-viz-12afca612f954ed89b2782e4fcdc9cf9.vega-embed details summary {\n",
       "    position: relative;\n",
       "  }\n",
       "</style>\n",
       "<div id=\"altair-viz-12afca612f954ed89b2782e4fcdc9cf9\"></div>\n",
       "<script type=\"text/javascript\">\n",
       "  var VEGA_DEBUG = (typeof VEGA_DEBUG == \"undefined\") ? {} : VEGA_DEBUG;\n",
       "  (function(spec, embedOpt){\n",
       "    let outputDiv = document.currentScript.previousElementSibling;\n",
       "    if (outputDiv.id !== \"altair-viz-12afca612f954ed89b2782e4fcdc9cf9\") {\n",
       "      outputDiv = document.getElementById(\"altair-viz-12afca612f954ed89b2782e4fcdc9cf9\");\n",
       "    }\n",
       "    const paths = {\n",
       "      \"vega\": \"https://cdn.jsdelivr.net/npm/vega@5?noext\",\n",
       "      \"vega-lib\": \"https://cdn.jsdelivr.net/npm/vega-lib?noext\",\n",
       "      \"vega-lite\": \"https://cdn.jsdelivr.net/npm/vega-lite@5.17.0?noext\",\n",
       "      \"vega-embed\": \"https://cdn.jsdelivr.net/npm/vega-embed@6?noext\",\n",
       "    };\n",
       "\n",
       "    function maybeLoadScript(lib, version) {\n",
       "      var key = `${lib.replace(\"-\", \"\")}_version`;\n",
       "      return (VEGA_DEBUG[key] == version) ?\n",
       "        Promise.resolve(paths[lib]) :\n",
       "        new Promise(function(resolve, reject) {\n",
       "          var s = document.createElement('script');\n",
       "          document.getElementsByTagName(\"head\")[0].appendChild(s);\n",
       "          s.async = true;\n",
       "          s.onload = () => {\n",
       "            VEGA_DEBUG[key] = version;\n",
       "            return resolve(paths[lib]);\n",
       "          };\n",
       "          s.onerror = () => reject(`Error loading script: ${paths[lib]}`);\n",
       "          s.src = paths[lib];\n",
       "        });\n",
       "    }\n",
       "\n",
       "    function showError(err) {\n",
       "      outputDiv.innerHTML = `<div class=\"error\" style=\"color:red;\">${err}</div>`;\n",
       "      throw err;\n",
       "    }\n",
       "\n",
       "    function displayChart(vegaEmbed) {\n",
       "      vegaEmbed(outputDiv, spec, embedOpt)\n",
       "        .catch(err => showError(`Javascript Error: ${err.message}<br>This usually means there's a typo in your chart specification. See the javascript console for the full traceback.`));\n",
       "    }\n",
       "\n",
       "    if(typeof define === \"function\" && define.amd) {\n",
       "      requirejs.config({paths});\n",
       "      require([\"vega-embed\"], displayChart, err => showError(`Error loading script: ${err.message}`));\n",
       "    } else {\n",
       "      maybeLoadScript(\"vega\", \"5\")\n",
       "        .then(() => maybeLoadScript(\"vega-lite\", \"5.17.0\"))\n",
       "        .then(() => maybeLoadScript(\"vega-embed\", \"6\"))\n",
       "        .catch(showError)\n",
       "        .then(() => displayChart(vegaEmbed));\n",
       "    }\n",
       "  })({\"config\": {\"view\": {\"continuousWidth\": 300, \"continuousHeight\": 300, \"discreteHeight\": 300, \"discreteWidth\": 400}, \"header\": {\"title\": null}, \"title\": {\"anchor\": \"middle\", \"offset\": 10}}, \"hconcat\": [{\"mark\": \"bar\", \"encoding\": {\"color\": {\"value\": \"green\"}, \"row\": {\"field\": \"comparison_name\", \"header\": {\"labelAlign\": \"left\", \"labelAnchor\": \"middle\", \"labelAngle\": 0}, \"sort\": {\"field\": \"comparison_sort_order\"}, \"type\": \"nominal\"}, \"tooltip\": [{\"field\": \"m_probability_description\", \"title\": \"m probability description\", \"type\": \"nominal\"}, {\"field\": \"comparison_name\", \"title\": \"Comparison column name\", \"type\": \"nominal\"}, {\"field\": \"label_for_charts\", \"title\": \"Label\", \"type\": \"ordinal\"}, {\"field\": \"sql_condition\", \"title\": \"SQL condition\", \"type\": \"nominal\"}, {\"field\": \"m_probability\", \"format\": \".4p\", \"title\": \"m probability\", \"type\": \"quantitative\"}, {\"field\": \"u_probability\", \"format\": \".4p\", \"title\": \"u probability\", \"type\": \"quantitative\"}, {\"field\": \"bayes_factor\", \"format\": \",.4f\", \"title\": \"Bayes factor = m/u\", \"type\": \"quantitative\"}, {\"field\": \"log2_bayes_factor\", \"format\": \",.4f\", \"title\": \"Match weight = log2(m/u)\", \"type\": \"quantitative\"}], \"x\": {\"axis\": {\"title\": \"Proportion of record comparisons\"}, \"field\": \"m_probability\", \"type\": \"quantitative\"}, \"y\": {\"axis\": {\"title\": null}, \"field\": \"label_for_charts\", \"sort\": {\"field\": \"comparison_vector_value\", \"order\": \"descending\"}, \"type\": \"nominal\"}}, \"height\": {\"step\": 12}, \"resolve\": {\"scale\": {\"y\": \"independent\"}}, \"title\": {\"text\": \"Amongst matching record comparisons:\", \"fontSize\": 12, \"fontWeight\": \"bold\"}, \"transform\": [{\"filter\": \"(datum.bayes_factor != 'no-op filter due to vega lite issue 4680')\"}], \"width\": 150}, {\"mark\": \"bar\", \"encoding\": {\"color\": {\"value\": \"red\"}, \"row\": {\"field\": \"comparison_name\", \"header\": {\"labels\": false}, \"sort\": {\"field\": \"comparison_sort_order\"}, \"type\": \"nominal\"}, \"tooltip\": [{\"field\": \"u_probability_description\", \"title\": \"u probability description\", \"type\": \"nominal\"}, {\"field\": \"comparison_name\", \"title\": \"Comparison column name\", \"type\": \"nominal\"}, {\"field\": \"label_for_charts\", \"title\": \"Label\", \"type\": \"ordinal\"}, {\"field\": \"sql_condition\", \"title\": \"SQL condition\", \"type\": \"nominal\"}, {\"field\": \"m_probability\", \"format\": \".4p\", \"title\": \"m probability\", \"type\": \"quantitative\"}, {\"field\": \"u_probability\", \"format\": \".4p\", \"title\": \"u probability\", \"type\": \"quantitative\"}, {\"field\": \"bayes_factor\", \"format\": \",.4f\", \"title\": \"Bayes factor = m/u\", \"type\": \"quantitative\"}, {\"field\": \"log2_bayes_factor\", \"format\": \",.4f\", \"title\": \"Match weight = log2(m/u)\", \"type\": \"quantitative\"}], \"x\": {\"axis\": {\"title\": \"Proportion of record comparisons\"}, \"field\": \"u_probability\", \"type\": \"quantitative\"}, \"y\": {\"axis\": {\"title\": null}, \"field\": \"label_for_charts\", \"sort\": {\"field\": \"comparison_vector_value\", \"order\": \"descending\"}, \"type\": \"nominal\"}}, \"height\": {\"step\": 12}, \"resolve\": {\"scale\": {\"y\": \"independent\"}}, \"title\": {\"text\": \"Amongst non-matching record comparisons:\", \"fontSize\": 12, \"fontWeight\": \"bold\"}, \"transform\": [{\"filter\": \"(datum.bayes_factor != 'no-op filter2 due to vega lite issue 4680')\"}], \"width\": 150}], \"data\": {\"name\": \"data-4c8420cf38daf8ca291c0b8107d1f0f1\"}, \"title\": {\"text\": \"Proportion of record comparisons in each comparison level by match status\", \"subtitle\": \"(m and u probabilities)\"}, \"$schema\": \"https://vega.github.io/schema/vega-lite/v5.9.3.json\", \"datasets\": {\"data-4c8420cf38daf8ca291c0b8107d1f0f1\": [{\"comparison_name\": \"first_name_15\", \"sql_condition\": \"`first_name_15_l` = `first_name_15_r`\", \"label_for_charts\": \"Exact match\", \"m_probability\": 0.9285696785469383, \"u_probability\": 0.0020078037145088655, \"m_probability_description\": \"Amongst matching record comparisons, 92.86% of records are in the exact match comparison level\", \"u_probability_description\": \"Amongst non-matching record comparisons, 0.20% of records are in the exact match comparison level\", \"has_tf_adjustments\": false, \"tf_adjustment_column\": null, \"tf_adjustment_weight\": 1.0, \"is_null_level\": false, \"bayes_factor\": 462.48030713205367, \"log2_bayes_factor\": 8.853248125332758, \"comparison_vector_value\": 2, \"max_comparison_vector_value\": 2, \"bayes_factor_description\": \"If comparison level is `exact match` then comparison is 462.48 times more likely to be a match\", \"probability_two_random_records_match\": 1.8424245002453127e-07, \"comparison_sort_order\": 0}, {\"comparison_name\": \"first_name_15\", \"sql_condition\": \"jaro_winkler(`first_name_15_l`, `first_name_15_r`) >= 0.8333333333333334\", \"label_for_charts\": \"Jaro_winkler >= 0.8333333333333334\", \"m_probability\": 0.029143634967707912, \"u_probability\": 0.0031729716420609063, \"m_probability_description\": \"Amongst matching record comparisons, 2.91% of records are in the jaro_winkler >= 0.8333333333333334 comparison level\", \"u_probability_description\": \"Amongst non-matching record comparisons, 0.32% of records are in the jaro_winkler >= 0.8333333333333334 comparison level\", \"has_tf_adjustments\": false, \"tf_adjustment_column\": null, \"tf_adjustment_weight\": 1.0, \"is_null_level\": false, \"bayes_factor\": 9.184965469397817, \"log2_bayes_factor\": 3.1992742975780866, \"comparison_vector_value\": 1, \"max_comparison_vector_value\": 2, \"bayes_factor_description\": \"If comparison level is `jaro_winkler >= 0.8333333333333334` then comparison is 9.18 times more likely to be a match\", \"probability_two_random_records_match\": 1.8424245002453127e-07, \"comparison_sort_order\": 0}, {\"comparison_name\": \"first_name_15\", \"sql_condition\": \"ELSE\", \"label_for_charts\": \"All other comparisons\", \"m_probability\": 0.04228668648535376, \"u_probability\": 0.9948192246434302, \"m_probability_description\": \"Amongst matching record comparisons, 4.23% of records are in the all other comparisons comparison level\", \"u_probability_description\": \"Amongst non-matching record comparisons, 99.48% of records are in the all other comparisons comparison level\", \"has_tf_adjustments\": false, \"tf_adjustment_column\": null, \"tf_adjustment_weight\": 1.0, \"is_null_level\": false, \"bayes_factor\": 0.042506905212362014, \"log2_bayes_factor\": -4.556158964843954, \"comparison_vector_value\": 0, \"max_comparison_vector_value\": 2, \"bayes_factor_description\": \"If comparison level is `all other comparisons` then comparison is  23.53 times less likely to be a match\", \"probability_two_random_records_match\": 1.8424245002453127e-07, \"comparison_sort_order\": 0}, {\"comparison_name\": \"last_name_12\", \"sql_condition\": \"`last_name_12_l` = `last_name_12_r`\", \"label_for_charts\": \"Exact match\", \"m_probability\": 0.9469499097555562, \"u_probability\": 0.0006057226012092292, \"m_probability_description\": \"Amongst matching record comparisons, 94.69% of records are in the exact match comparison level\", \"u_probability_description\": \"Amongst non-matching record comparisons, 0.06% of records are in the exact match comparison level\", \"has_tf_adjustments\": false, \"tf_adjustment_column\": null, \"tf_adjustment_weight\": 1.0, \"is_null_level\": false, \"bayes_factor\": 1563.3392379038205, \"log2_bayes_factor\": 10.610415155601714, \"comparison_vector_value\": 2, \"max_comparison_vector_value\": 2, \"bayes_factor_description\": \"If comparison level is `exact match` then comparison is 1,563.34 times more likely to be a match\", \"probability_two_random_records_match\": 1.8424245002453127e-07, \"comparison_sort_order\": 1}, {\"comparison_name\": \"last_name_12\", \"sql_condition\": \"jaro_winkler(`last_name_12_l`, `last_name_12_r`) >= 0.8333333333333334\", \"label_for_charts\": \"Jaro_winkler >= 0.8333333333333334\", \"m_probability\": 0.03451118363611795, \"u_probability\": 0.0012859293840712192, \"m_probability_description\": \"Amongst matching record comparisons, 3.45% of records are in the jaro_winkler >= 0.8333333333333334 comparison level\", \"u_probability_description\": \"Amongst non-matching record comparisons, 0.13% of records are in the jaro_winkler >= 0.8333333333333334 comparison level\", \"has_tf_adjustments\": false, \"tf_adjustment_column\": null, \"tf_adjustment_weight\": 1.0, \"is_null_level\": false, \"bayes_factor\": 26.837541830529165, \"log2_bayes_factor\": 4.746180629640249, \"comparison_vector_value\": 1, \"max_comparison_vector_value\": 2, \"bayes_factor_description\": \"If comparison level is `jaro_winkler >= 0.8333333333333334` then comparison is 26.84 times more likely to be a match\", \"probability_two_random_records_match\": 1.8424245002453127e-07, \"comparison_sort_order\": 1}, {\"comparison_name\": \"last_name_12\", \"sql_condition\": \"ELSE\", \"label_for_charts\": \"All other comparisons\", \"m_probability\": 0.01853890660832594, \"u_probability\": 0.9981083480147196, \"m_probability_description\": \"Amongst matching record comparisons, 1.85% of records are in the all other comparisons comparison level\", \"u_probability_description\": \"Amongst non-matching record comparisons, 99.81% of records are in the all other comparisons comparison level\", \"has_tf_adjustments\": false, \"tf_adjustment_column\": null, \"tf_adjustment_weight\": 1.0, \"is_null_level\": false, \"bayes_factor\": 0.018574042232189142, \"log2_bayes_factor\": -5.750568369454769, \"comparison_vector_value\": 0, \"max_comparison_vector_value\": 2, \"bayes_factor_description\": \"If comparison level is `all other comparisons` then comparison is  53.84 times less likely to be a match\", \"probability_two_random_records_match\": 1.8424245002453127e-07, \"comparison_sort_order\": 1}, {\"comparison_name\": \"middle_initial\", \"sql_condition\": \"`middle_initial_l` = `middle_initial_r`\", \"label_for_charts\": \"Exact match\", \"m_probability\": 0.9727051251107761, \"u_probability\": 0.06625810679844002, \"m_probability_description\": \"Amongst matching record comparisons, 97.27% of records are in the exact match comparison level\", \"u_probability_description\": \"Amongst non-matching record comparisons, 6.63% of records are in the exact match comparison level\", \"has_tf_adjustments\": false, \"tf_adjustment_column\": null, \"tf_adjustment_weight\": 1.0, \"is_null_level\": false, \"bayes_factor\": 14.68054510023636, \"log2_bayes_factor\": 3.8758336324695457, \"comparison_vector_value\": 1, \"max_comparison_vector_value\": 1, \"bayes_factor_description\": \"If comparison level is `exact match` then comparison is 14.68 times more likely to be a match\", \"probability_two_random_records_match\": 1.8424245002453127e-07, \"comparison_sort_order\": 2}, {\"comparison_name\": \"middle_initial\", \"sql_condition\": \"ELSE\", \"label_for_charts\": \"All other comparisons\", \"m_probability\": 0.027294874889223896, \"u_probability\": 0.93374189320156, \"m_probability_description\": \"Amongst matching record comparisons, 2.73% of records are in the all other comparisons comparison level\", \"u_probability_description\": \"Amongst non-matching record comparisons, 93.37% of records are in the all other comparisons comparison level\", \"has_tf_adjustments\": false, \"tf_adjustment_column\": null, \"tf_adjustment_weight\": 1.0, \"is_null_level\": false, \"bayes_factor\": 0.02923171284051186, \"log2_bayes_factor\": -5.096321823028525, \"comparison_vector_value\": 0, \"max_comparison_vector_value\": 1, \"bayes_factor_description\": \"If comparison level is `all other comparisons` then comparison is  34.21 times less likely to be a match\", \"probability_two_random_records_match\": 1.8424245002453127e-07, \"comparison_sort_order\": 2}, {\"comparison_name\": \"day_of_birth\", \"sql_condition\": \"`day_of_birth_l` = `day_of_birth_r`\", \"label_for_charts\": \"Exact match\", \"m_probability\": 0.9913597981891702, \"u_probability\": 0.03252879296232792, \"m_probability_description\": \"Amongst matching record comparisons, 99.14% of records are in the exact match comparison level\", \"u_probability_description\": \"Amongst non-matching record comparisons, 3.25% of records are in the exact match comparison level\", \"has_tf_adjustments\": false, \"tf_adjustment_column\": null, \"tf_adjustment_weight\": 1.0, \"is_null_level\": false, \"bayes_factor\": 30.476378245490963, \"log2_bayes_factor\": 4.929619560785301, \"comparison_vector_value\": 2, \"max_comparison_vector_value\": 2, \"bayes_factor_description\": \"If comparison level is `exact match` then comparison is 30.48 times more likely to be a match\", \"probability_two_random_records_match\": 1.8424245002453127e-07, \"comparison_sort_order\": 3}, {\"comparison_name\": \"day_of_birth\", \"sql_condition\": \"abs(day_of_birth_l - day_of_birth_r) <= 5\", \"label_for_charts\": \"Inexact match\", \"m_probability\": 0.005873033001854494, \"u_probability\": 0.29573920164687456, \"m_probability_description\": \"Amongst matching record comparisons, 0.59% of records are in the inexact match comparison level\", \"u_probability_description\": \"Amongst non-matching record comparisons, 29.57% of records are in the inexact match comparison level\", \"has_tf_adjustments\": false, \"tf_adjustment_column\": null, \"tf_adjustment_weight\": 1.0, \"is_null_level\": false, \"bayes_factor\": 0.019858824833331193, \"log2_bayes_factor\": -5.654075937366044, \"comparison_vector_value\": 1, \"max_comparison_vector_value\": 2, \"bayes_factor_description\": \"If comparison level is `inexact match` then comparison is  50.36 times less likely to be a match\", \"probability_two_random_records_match\": 1.8424245002453127e-07, \"comparison_sort_order\": 3}, {\"comparison_name\": \"day_of_birth\", \"sql_condition\": \"ELSE\", \"label_for_charts\": \"All other comparisons\", \"m_probability\": 0.0027671688089754014, \"u_probability\": 0.6717320053907976, \"m_probability_description\": \"Amongst matching record comparisons, 0.28% of records are in the all other comparisons comparison level\", \"u_probability_description\": \"Amongst non-matching record comparisons, 67.17% of records are in the all other comparisons comparison level\", \"has_tf_adjustments\": false, \"tf_adjustment_column\": null, \"tf_adjustment_weight\": 1.0, \"is_null_level\": false, \"bayes_factor\": 0.0041194535719129965, \"log2_bayes_factor\": -7.923331301955844, \"comparison_vector_value\": 0, \"max_comparison_vector_value\": 2, \"bayes_factor_description\": \"If comparison level is `all other comparisons` then comparison is  242.75 times less likely to be a match\", \"probability_two_random_records_match\": 1.8424245002453127e-07, \"comparison_sort_order\": 3}, {\"comparison_name\": \"month_of_birth\", \"sql_condition\": \"`month_of_birth_l` = `month_of_birth_r`\", \"label_for_charts\": \"Exact match\", \"m_probability\": 0.9925312024691548, \"u_probability\": 0.08350433151288077, \"m_probability_description\": \"Amongst matching record comparisons, 99.25% of records are in the exact match comparison level\", \"u_probability_description\": \"Amongst non-matching record comparisons, 8.35% of records are in the exact match comparison level\", \"has_tf_adjustments\": false, \"tf_adjustment_column\": null, \"tf_adjustment_weight\": 1.0, \"is_null_level\": false, \"bayes_factor\": 11.885984648785007, \"log2_bayes_factor\": 3.571189517652573, \"comparison_vector_value\": 2, \"max_comparison_vector_value\": 2, \"bayes_factor_description\": \"If comparison level is `exact match` then comparison is 11.89 times more likely to be a match\", \"probability_two_random_records_match\": 1.8424245002453127e-07, \"comparison_sort_order\": 4}, {\"comparison_name\": \"month_of_birth\", \"sql_condition\": \"abs(month_of_birth_l - month_of_birth_r) <= 3\", \"label_for_charts\": \"Inexact match\", \"m_probability\": 0.004088367372949208, \"u_probability\": 0.4129544295915271, \"m_probability_description\": \"Amongst matching record comparisons, 0.41% of records are in the inexact match comparison level\", \"u_probability_description\": \"Amongst non-matching record comparisons, 41.30% of records are in the inexact match comparison level\", \"has_tf_adjustments\": false, \"tf_adjustment_column\": null, \"tf_adjustment_weight\": 1.0, \"is_null_level\": false, \"bayes_factor\": 0.00990028700501701, \"log2_bayes_factor\": -6.658313935761459, \"comparison_vector_value\": 1, \"max_comparison_vector_value\": 2, \"bayes_factor_description\": \"If comparison level is `inexact match` then comparison is  101.01 times less likely to be a match\", \"probability_two_random_records_match\": 1.8424245002453127e-07, \"comparison_sort_order\": 4}, {\"comparison_name\": \"month_of_birth\", \"sql_condition\": \"ELSE\", \"label_for_charts\": \"All other comparisons\", \"m_probability\": 0.0033804301578959795, \"u_probability\": 0.5035412388955921, \"m_probability_description\": \"Amongst matching record comparisons, 0.34% of records are in the all other comparisons comparison level\", \"u_probability_description\": \"Amongst non-matching record comparisons, 50.35% of records are in the all other comparisons comparison level\", \"has_tf_adjustments\": false, \"tf_adjustment_column\": null, \"tf_adjustment_weight\": 1.0, \"is_null_level\": false, \"bayes_factor\": 0.006713313422571338, \"log2_bayes_factor\": -7.218759285979414, \"comparison_vector_value\": 0, \"max_comparison_vector_value\": 2, \"bayes_factor_description\": \"If comparison level is `all other comparisons` then comparison is  148.96 times less likely to be a match\", \"probability_two_random_records_match\": 1.8424245002453127e-07, \"comparison_sort_order\": 4}, {\"comparison_name\": \"year_of_birth\", \"sql_condition\": \"`year_of_birth_l` = `year_of_birth_r`\", \"label_for_charts\": \"Exact match\", \"m_probability\": 0.9939603562726789, \"u_probability\": 0.011084011593037122, \"m_probability_description\": \"Amongst matching record comparisons, 99.40% of records are in the exact match comparison level\", \"u_probability_description\": \"Amongst non-matching record comparisons, 1.11% of records are in the exact match comparison level\", \"has_tf_adjustments\": false, \"tf_adjustment_column\": null, \"tf_adjustment_weight\": 1.0, \"is_null_level\": false, \"bayes_factor\": 89.67514585577264, \"log2_bayes_factor\": 6.486636281601846, \"comparison_vector_value\": 2, \"max_comparison_vector_value\": 2, \"bayes_factor_description\": \"If comparison level is `exact match` then comparison is 89.68 times more likely to be a match\", \"probability_two_random_records_match\": 1.8424245002453127e-07, \"comparison_sort_order\": 5}, {\"comparison_name\": \"year_of_birth\", \"sql_condition\": \"abs(year_of_birth_l - year_of_birth_r) <= 5\", \"label_for_charts\": \"Inexact match\", \"m_probability\": 0.001975863557923465, \"u_probability\": 0.10937488974972305, \"m_probability_description\": \"Amongst matching record comparisons, 0.20% of records are in the inexact match comparison level\", \"u_probability_description\": \"Amongst non-matching record comparisons, 10.94% of records are in the inexact match comparison level\", \"has_tf_adjustments\": false, \"tf_adjustment_column\": null, \"tf_adjustment_weight\": 1.0, \"is_null_level\": false, \"bayes_factor\": 0.018065056453494325, \"log2_bayes_factor\": -5.790654426559915, \"comparison_vector_value\": 1, \"max_comparison_vector_value\": 2, \"bayes_factor_description\": \"If comparison level is `inexact match` then comparison is  55.36 times less likely to be a match\", \"probability_two_random_records_match\": 1.8424245002453127e-07, \"comparison_sort_order\": 5}, {\"comparison_name\": \"year_of_birth\", \"sql_condition\": \"ELSE\", \"label_for_charts\": \"All other comparisons\", \"m_probability\": 0.004063780169397688, \"u_probability\": 0.8795410986572398, \"m_probability_description\": \"Amongst matching record comparisons, 0.41% of records are in the all other comparisons comparison level\", \"u_probability_description\": \"Amongst non-matching record comparisons, 87.95% of records are in the all other comparisons comparison level\", \"has_tf_adjustments\": false, \"tf_adjustment_column\": null, \"tf_adjustment_weight\": 1.0, \"is_null_level\": false, \"bayes_factor\": 0.004620341420772376, \"log2_bayes_factor\": -7.757784820930798, \"comparison_vector_value\": 0, \"max_comparison_vector_value\": 2, \"bayes_factor_description\": \"If comparison level is `all other comparisons` then comparison is  216.43 times less likely to be a match\", \"probability_two_random_records_match\": 1.8424245002453127e-07, \"comparison_sort_order\": 5}, {\"comparison_name\": \"geokey\", \"sql_condition\": \"`geokey_l` = `geokey_r`\", \"label_for_charts\": \"Exact match\", \"m_probability\": 0.6116170612953316, \"u_probability\": 0.0008192860645440116, \"m_probability_description\": \"Amongst matching record comparisons, 61.16% of records are in the exact match comparison level\", \"u_probability_description\": \"Amongst non-matching record comparisons, 0.08% of records are in the exact match comparison level\", \"has_tf_adjustments\": false, \"tf_adjustment_column\": null, \"tf_adjustment_weight\": 1.0, \"is_null_level\": false, \"bayes_factor\": 746.5244287240965, \"log2_bayes_factor\": 9.544045660613397, \"comparison_vector_value\": 2, \"max_comparison_vector_value\": 2, \"bayes_factor_description\": \"If comparison level is `exact match` then comparison is 746.52 times more likely to be a match\", \"probability_two_random_records_match\": 1.8424245002453127e-07, \"comparison_sort_order\": 6}, {\"comparison_name\": \"geokey\", \"sql_condition\": \"jaro_winkler(`geokey_l`, `geokey_r`) >= 0.7222222222222222\", \"label_for_charts\": \"Jaro_winkler >= 0.7222222222222222\", \"m_probability\": 0.38134415738767535, \"u_probability\": 0.020822268769994993, \"m_probability_description\": \"Amongst matching record comparisons, 38.13% of records are in the jaro_winkler >= 0.7222222222222222 comparison level\", \"u_probability_description\": \"Amongst non-matching record comparisons, 2.08% of records are in the jaro_winkler >= 0.7222222222222222 comparison level\", \"has_tf_adjustments\": false, \"tf_adjustment_column\": null, \"tf_adjustment_weight\": 1.0, \"is_null_level\": false, \"bayes_factor\": 18.314246233205598, \"log2_bayes_factor\": 4.194894419575965, \"comparison_vector_value\": 1, \"max_comparison_vector_value\": 2, \"bayes_factor_description\": \"If comparison level is `jaro_winkler >= 0.7222222222222222` then comparison is 18.31 times more likely to be a match\", \"probability_two_random_records_match\": 1.8424245002453127e-07, \"comparison_sort_order\": 6}, {\"comparison_name\": \"geokey\", \"sql_condition\": \"ELSE\", \"label_for_charts\": \"All other comparisons\", \"m_probability\": 0.007038781316992969, \"u_probability\": 0.978358445165461, \"m_probability_description\": \"Amongst matching record comparisons, 0.70% of records are in the all other comparisons comparison level\", \"u_probability_description\": \"Amongst non-matching record comparisons, 97.84% of records are in the all other comparisons comparison level\", \"has_tf_adjustments\": false, \"tf_adjustment_column\": null, \"tf_adjustment_weight\": 1.0, \"is_null_level\": false, \"bayes_factor\": 0.0071944810736545165, \"log2_bayes_factor\": -7.118893653216197, \"comparison_vector_value\": 0, \"max_comparison_vector_value\": 2, \"bayes_factor_description\": \"If comparison level is `all other comparisons` then comparison is  139.00 times less likely to be a match\", \"probability_two_random_records_match\": 1.8424245002453127e-07, \"comparison_sort_order\": 6}]}}, {\"mode\": \"vega-lite\"});\n",
       "</script>"
      ],
      "text/plain": [
       "alt.HConcatChart(...)"
      ]
     },
     "execution_count": 62,
     "metadata": {},
     "output_type": "execute_result"
    }
   ],
   "source": [
    "linker.m_u_parameters_chart()"
   ]
  },
  {
   "cell_type": "code",
   "execution_count": 63,
   "id": "57bc79f6-2c8b-4e65-88f9-b91d94d19f77",
   "metadata": {
    "execution": {
     "iopub.execute_input": "2024-05-16T06:30:05.852774Z",
     "iopub.status.busy": "2024-05-16T06:30:05.852130Z",
     "iopub.status.idle": "2024-05-16T06:30:05.973850Z",
     "shell.execute_reply": "2024-05-16T06:30:05.972338Z"
    },
    "papermill": {
     "duration": 0.168697,
     "end_time": "2024-05-16T06:30:05.977782",
     "exception": false,
     "start_time": "2024-05-16T06:30:05.809085",
     "status": "completed"
    },
    "tags": []
   },
   "outputs": [
    {
     "data": {
      "text/html": [
       "\n",
       "<style>\n",
       "  #altair-viz-a958d4e270954063a646bd3809623ec4.vega-embed {\n",
       "    width: 100%;\n",
       "    display: flex;\n",
       "  }\n",
       "\n",
       "  #altair-viz-a958d4e270954063a646bd3809623ec4.vega-embed details,\n",
       "  #altair-viz-a958d4e270954063a646bd3809623ec4.vega-embed details summary {\n",
       "    position: relative;\n",
       "  }\n",
       "</style>\n",
       "<div id=\"altair-viz-a958d4e270954063a646bd3809623ec4\"></div>\n",
       "<script type=\"text/javascript\">\n",
       "  var VEGA_DEBUG = (typeof VEGA_DEBUG == \"undefined\") ? {} : VEGA_DEBUG;\n",
       "  (function(spec, embedOpt){\n",
       "    let outputDiv = document.currentScript.previousElementSibling;\n",
       "    if (outputDiv.id !== \"altair-viz-a958d4e270954063a646bd3809623ec4\") {\n",
       "      outputDiv = document.getElementById(\"altair-viz-a958d4e270954063a646bd3809623ec4\");\n",
       "    }\n",
       "    const paths = {\n",
       "      \"vega\": \"https://cdn.jsdelivr.net/npm/vega@5?noext\",\n",
       "      \"vega-lib\": \"https://cdn.jsdelivr.net/npm/vega-lib?noext\",\n",
       "      \"vega-lite\": \"https://cdn.jsdelivr.net/npm/vega-lite@5.17.0?noext\",\n",
       "      \"vega-embed\": \"https://cdn.jsdelivr.net/npm/vega-embed@6?noext\",\n",
       "    };\n",
       "\n",
       "    function maybeLoadScript(lib, version) {\n",
       "      var key = `${lib.replace(\"-\", \"\")}_version`;\n",
       "      return (VEGA_DEBUG[key] == version) ?\n",
       "        Promise.resolve(paths[lib]) :\n",
       "        new Promise(function(resolve, reject) {\n",
       "          var s = document.createElement('script');\n",
       "          document.getElementsByTagName(\"head\")[0].appendChild(s);\n",
       "          s.async = true;\n",
       "          s.onload = () => {\n",
       "            VEGA_DEBUG[key] = version;\n",
       "            return resolve(paths[lib]);\n",
       "          };\n",
       "          s.onerror = () => reject(`Error loading script: ${paths[lib]}`);\n",
       "          s.src = paths[lib];\n",
       "        });\n",
       "    }\n",
       "\n",
       "    function showError(err) {\n",
       "      outputDiv.innerHTML = `<div class=\"error\" style=\"color:red;\">${err}</div>`;\n",
       "      throw err;\n",
       "    }\n",
       "\n",
       "    function displayChart(vegaEmbed) {\n",
       "      vegaEmbed(outputDiv, spec, embedOpt)\n",
       "        .catch(err => showError(`Javascript Error: ${err.message}<br>This usually means there's a typo in your chart specification. See the javascript console for the full traceback.`));\n",
       "    }\n",
       "\n",
       "    if(typeof define === \"function\" && define.amd) {\n",
       "      requirejs.config({paths});\n",
       "      require([\"vega-embed\"], displayChart, err => showError(`Error loading script: ${err.message}`));\n",
       "    } else {\n",
       "      maybeLoadScript(\"vega\", \"5\")\n",
       "        .then(() => maybeLoadScript(\"vega-lite\", \"5.17.0\"))\n",
       "        .then(() => maybeLoadScript(\"vega-embed\", \"6\"))\n",
       "        .catch(showError)\n",
       "        .then(() => displayChart(vegaEmbed));\n",
       "    }\n",
       "  })({\"config\": {\"view\": {\"continuousWidth\": 400, \"continuousHeight\": 300}, \"title\": {\"anchor\": \"middle\", \"fontSize\": 18, \"subtitleFontSize\": 14}}, \"data\": {\"name\": \"data-01a295d96926fb36e223b58df66c1363\"}, \"mark\": {\"type\": \"point\", \"filled\": false, \"opacity\": 0.7, \"size\": 100}, \"encoding\": {\"color\": {\"field\": \"estimate_description\", \"type\": \"nominal\"}, \"column\": {\"align\": \"each\", \"field\": \"col_header\", \"header\": {\"labelFontSize\": 14, \"labelFontWeight\": \"bold\"}, \"title\": null, \"type\": \"nominal\"}, \"row\": {\"align\": \"each\", \"field\": \"comparison_name\", \"header\": {\"labelAlign\": \"left\", \"labelAnchor\": \"middle\", \"labelAngle\": 0, \"labelFontSize\": 12, \"labelFontWeight\": \"bold\"}, \"sort\": {\"field\": \"comparison_sort_order\"}, \"title\": null, \"type\": \"nominal\"}, \"shape\": {\"field\": \"estimate_description\", \"scale\": {\"range\": [\"circle\", \"square\", \"triangle\", \"diamond\"]}, \"type\": \"nominal\"}, \"tooltip\": [{\"field\": \"comparison_name\", \"type\": \"nominal\"}, {\"field\": \"estimate_description\", \"type\": \"nominal\"}, {\"field\": \"estimated_probability\", \"type\": \"quantitative\"}], \"x\": {\"axis\": {\"gridColor\": {\"condition\": {\"test\": \"abs(datum.value / 10)  <= 1 & datum.value % 10 === 0\", \"value\": \"#aaa\"}, \"value\": \"#ddd\"}, \"gridDash\": {\"condition\": {\"test\": \"abs(datum.value / 10) == 1\", \"value\": [3]}, \"value\": null}, \"gridWidth\": {\"condition\": {\"test\": \"abs(datum.value / 10)  <= 1 & datum.value % 10 === 0\", \"value\": 2}, \"value\": 1}}, \"field\": \"estimated_probability_as_log_odds\", \"title\": \"Estimated probability as log odds\", \"type\": \"quantitative\"}, \"y\": {\"axis\": {\"grid\": true, \"title\": null}, \"field\": \"comparison_level_label\", \"sort\": {\"field\": \"comparison_vector_value\", \"order\": \"descending\"}, \"type\": \"nominal\"}}, \"params\": [{\"name\": \"mouse_zoom\", \"select\": {\"type\": \"interval\", \"encodings\": [\"x\"]}, \"bind\": \"scales\"}], \"resolve\": {\"scale\": {\"y\": \"independent\"}}, \"title\": {\"text\": \"Comparison of parameter estimates across training sessions\", \"subtitle\": \"Use mousewheel to zoom\"}, \"transform\": [{\"calculate\": \"datum.m_or_u + '-probability (as log odds)'\", \"as\": \"col_header\"}], \"$schema\": \"https://vega.github.io/schema/vega-lite/v5.9.3.json\", \"datasets\": {\"data-01a295d96926fb36e223b58df66c1363\": [{\"m_or_u\": \"m\", \"estimated_probability\": 0.9285696785469383, \"estimate_description\": \"EM, blocked on: l.geokey = r.geokey\", \"estimated_probability_as_log_odds\": 3.7004016530850548, \"sql_condition\": \"`first_name_15_l` = `first_name_15_r`\", \"comparison_level_label\": \"Exact match\", \"comparison_vector_value\": 2, \"comparison_name\": \"first_name_15\", \"comparison_sort_order\": 0}, {\"m_or_u\": \"m\", \"estimated_probability\": 0.029143634967707912, \"estimate_description\": \"EM, blocked on: l.geokey = r.geokey\", \"estimated_probability_as_log_odds\": -5.058005134247987, \"sql_condition\": \"jaro_winkler(`first_name_15_l`, `first_name_15_r`) >= 0.8333333333333334\", \"comparison_level_label\": \"Jaro_winkler >= 0.8333333333333334\", \"comparison_vector_value\": 1, \"comparison_name\": \"first_name_15\", \"comparison_sort_order\": 0}, {\"m_or_u\": \"m\", \"estimated_probability\": 0.04228668648535376, \"estimate_description\": \"EM, blocked on: l.geokey = r.geokey\", \"estimated_probability_as_log_odds\": -4.501318434633944, \"sql_condition\": \"ELSE\", \"comparison_level_label\": \"All other comparisons\", \"comparison_vector_value\": 0, \"comparison_name\": \"first_name_15\", \"comparison_sort_order\": 0}, {\"m_or_u\": \"m\", \"estimated_probability\": 0.9502085960060338, \"estimate_description\": \"EM, blocked on: l.first_name_15 = r.first_name_15 and l.zipcode = r.zipcode\", \"estimated_probability_as_log_odds\": 4.25427565655515, \"sql_condition\": \"`last_name_12_l` = `last_name_12_r`\", \"comparison_level_label\": \"Exact match\", \"comparison_vector_value\": 2, \"comparison_name\": \"last_name_12\", \"comparison_sort_order\": 1}, {\"m_or_u\": \"m\", \"estimated_probability\": 0.9436912235050785, \"estimate_description\": \"EM, blocked on: l.geokey = r.geokey\", \"estimated_probability_as_log_odds\": 4.066883177121469, \"sql_condition\": \"`last_name_12_l` = `last_name_12_r`\", \"comparison_level_label\": \"Exact match\", \"comparison_vector_value\": 2, \"comparison_name\": \"last_name_12\", \"comparison_sort_order\": 1}, {\"m_or_u\": \"m\", \"estimated_probability\": 0.032450078802598835, \"estimate_description\": \"EM, blocked on: l.first_name_15 = r.first_name_15 and l.zipcode = r.zipcode\", \"estimated_probability_as_log_odds\": -4.898042212894041, \"sql_condition\": \"jaro_winkler(`last_name_12_l`, `last_name_12_r`) >= 0.8333333333333334\", \"comparison_level_label\": \"Jaro_winkler >= 0.8333333333333334\", \"comparison_vector_value\": 1, \"comparison_name\": \"last_name_12\", \"comparison_sort_order\": 1}, {\"m_or_u\": \"m\", \"estimated_probability\": 0.036572288469637074, \"estimate_description\": \"EM, blocked on: l.geokey = r.geokey\", \"estimated_probability_as_log_odds\": -4.719353611817732, \"sql_condition\": \"jaro_winkler(`last_name_12_l`, `last_name_12_r`) >= 0.8333333333333334\", \"comparison_level_label\": \"Jaro_winkler >= 0.8333333333333334\", \"comparison_vector_value\": 1, \"comparison_name\": \"last_name_12\", \"comparison_sort_order\": 1}, {\"m_or_u\": \"m\", \"estimated_probability\": 0.017341325191367385, \"estimate_description\": \"EM, blocked on: l.first_name_15 = r.first_name_15 and l.zipcode = r.zipcode\", \"estimated_probability_as_log_odds\": -5.824404329442901, \"sql_condition\": \"ELSE\", \"comparison_level_label\": \"All other comparisons\", \"comparison_vector_value\": 0, \"comparison_name\": \"last_name_12\", \"comparison_sort_order\": 1}, {\"m_or_u\": \"m\", \"estimated_probability\": 0.01973648802528449, \"estimate_description\": \"EM, blocked on: l.geokey = r.geokey\", \"estimated_probability_as_log_odds\": -5.63423242311208, \"sql_condition\": \"ELSE\", \"comparison_level_label\": \"All other comparisons\", \"comparison_vector_value\": 0, \"comparison_name\": \"last_name_12\", \"comparison_sort_order\": 1}, {\"m_or_u\": \"m\", \"estimated_probability\": 0.9830203683847073, \"estimate_description\": \"EM, blocked on: l.first_name_15 = r.first_name_15 and l.zipcode = r.zipcode\", \"estimated_probability_as_log_odds\": 5.855344245725594, \"sql_condition\": \"`middle_initial_l` = `middle_initial_r`\", \"comparison_level_label\": \"Exact match\", \"comparison_vector_value\": 1, \"comparison_name\": \"middle_initial\", \"comparison_sort_order\": 2}, {\"m_or_u\": \"m\", \"estimated_probability\": 0.9623898818368449, \"estimate_description\": \"EM, blocked on: l.geokey = r.geokey\", \"estimated_probability_as_log_odds\": 4.677428730558578, \"sql_condition\": \"`middle_initial_l` = `middle_initial_r`\", \"comparison_level_label\": \"Exact match\", \"comparison_vector_value\": 1, \"comparison_name\": \"middle_initial\", \"comparison_sort_order\": 2}, {\"m_or_u\": \"m\", \"estimated_probability\": 0.01697963161529277, \"estimate_description\": \"EM, blocked on: l.first_name_15 = r.first_name_15 and l.zipcode = r.zipcode\", \"estimated_probability_as_log_odds\": -5.855344245725589, \"sql_condition\": \"ELSE\", \"comparison_level_label\": \"All other comparisons\", \"comparison_vector_value\": 0, \"comparison_name\": \"middle_initial\", \"comparison_sort_order\": 2}, {\"m_or_u\": \"m\", \"estimated_probability\": 0.03761011816315502, \"estimate_description\": \"EM, blocked on: l.geokey = r.geokey\", \"estimated_probability_as_log_odds\": -4.677428730558581, \"sql_condition\": \"ELSE\", \"comparison_level_label\": \"All other comparisons\", \"comparison_vector_value\": 0, \"comparison_name\": \"middle_initial\", \"comparison_sort_order\": 2}, {\"m_or_u\": \"m\", \"estimated_probability\": 0.9925640747946262, \"estimate_description\": \"EM, blocked on: l.first_name_15 = r.first_name_15 and l.zipcode = r.zipcode\", \"estimated_probability_as_log_odds\": 7.060504169044364, \"sql_condition\": \"`day_of_birth_l` = `day_of_birth_r`\", \"comparison_level_label\": \"Exact match\", \"comparison_vector_value\": 2, \"comparison_name\": \"day_of_birth\", \"comparison_sort_order\": 3}, {\"m_or_u\": \"m\", \"estimated_probability\": 0.9901555215837141, \"estimate_description\": \"EM, blocked on: l.geokey = r.geokey\", \"estimated_probability_as_log_odds\": 6.652196562989291, \"sql_condition\": \"`day_of_birth_l` = `day_of_birth_r`\", \"comparison_level_label\": \"Exact match\", \"comparison_vector_value\": 2, \"comparison_name\": \"day_of_birth\", \"comparison_sort_order\": 3}, {\"m_or_u\": \"m\", \"estimated_probability\": 0.005206633379685002, \"estimate_description\": \"EM, blocked on: l.first_name_15 = r.first_name_15 and l.zipcode = r.zipcode\", \"estimated_probability_as_log_odds\": -7.577902253073491, \"sql_condition\": \"abs(day_of_birth_l - day_of_birth_r) <= 5\", \"comparison_level_label\": \"Inexact match\", \"comparison_vector_value\": 1, \"comparison_name\": \"day_of_birth\", \"comparison_sort_order\": 3}, {\"m_or_u\": \"m\", \"estimated_probability\": 0.006539432624023986, \"estimate_description\": \"EM, blocked on: l.geokey = r.geokey\", \"estimated_probability_as_log_odds\": -7.2471534249967755, \"sql_condition\": \"abs(day_of_birth_l - day_of_birth_r) <= 5\", \"comparison_level_label\": \"Inexact match\", \"comparison_vector_value\": 1, \"comparison_name\": \"day_of_birth\", \"comparison_sort_order\": 3}, {\"m_or_u\": \"m\", \"estimated_probability\": 0.0022292918256888805, \"estimate_description\": \"EM, blocked on: l.first_name_15 = r.first_name_15 and l.zipcode = r.zipcode\", \"estimated_probability_as_log_odds\": -8.805979021041487, \"sql_condition\": \"ELSE\", \"comparison_level_label\": \"All other comparisons\", \"comparison_vector_value\": 0, \"comparison_name\": \"day_of_birth\", \"comparison_sort_order\": 3}, {\"m_or_u\": \"m\", \"estimated_probability\": 0.0033050457922619222, \"estimate_description\": \"EM, blocked on: l.geokey = r.geokey\", \"estimated_probability_as_log_odds\": -8.236337953784398, \"sql_condition\": \"ELSE\", \"comparison_level_label\": \"All other comparisons\", \"comparison_vector_value\": 0, \"comparison_name\": \"day_of_birth\", \"comparison_sort_order\": 3}, {\"m_or_u\": \"m\", \"estimated_probability\": 0.9935377503968408, \"estimate_description\": \"EM, blocked on: l.first_name_15 = r.first_name_15 and l.zipcode = r.zipcode\", \"estimated_probability_as_log_odds\": 7.26439449933919, \"sql_condition\": \"`month_of_birth_l` = `month_of_birth_r`\", \"comparison_level_label\": \"Exact match\", \"comparison_vector_value\": 2, \"comparison_name\": \"month_of_birth\", \"comparison_sort_order\": 4}, {\"m_or_u\": \"m\", \"estimated_probability\": 0.9915246545414689, \"estimate_description\": \"EM, blocked on: l.geokey = r.geokey\", \"estimated_probability_as_log_odds\": 6.870232661411166, \"sql_condition\": \"`month_of_birth_l` = `month_of_birth_r`\", \"comparison_level_label\": \"Exact match\", \"comparison_vector_value\": 2, \"comparison_name\": \"month_of_birth\", \"comparison_sort_order\": 4}, {\"m_or_u\": \"m\", \"estimated_probability\": 0.00363927525453865, \"estimate_description\": \"EM, blocked on: l.first_name_15 = r.first_name_15 and l.zipcode = r.zipcode\", \"estimated_probability_as_log_odds\": -8.09687317056181, \"sql_condition\": \"abs(month_of_birth_l - month_of_birth_r) <= 3\", \"comparison_level_label\": \"Inexact match\", \"comparison_vector_value\": 1, \"comparison_name\": \"month_of_birth\", \"comparison_sort_order\": 4}, {\"m_or_u\": \"m\", \"estimated_probability\": 0.004537459491359766, \"estimate_description\": \"EM, blocked on: l.geokey = r.geokey\", \"estimated_probability_as_log_odds\": -7.777338454429303, \"sql_condition\": \"abs(month_of_birth_l - month_of_birth_r) <= 3\", \"comparison_level_label\": \"Inexact match\", \"comparison_vector_value\": 1, \"comparison_name\": \"month_of_birth\", \"comparison_sort_order\": 4}, {\"m_or_u\": \"m\", \"estimated_probability\": 0.002822974348620642, \"estimate_description\": \"EM, blocked on: l.first_name_15 = r.first_name_15 and l.zipcode = r.zipcode\", \"estimated_probability_as_log_odds\": -8.46448981459337, \"sql_condition\": \"ELSE\", \"comparison_level_label\": \"All other comparisons\", \"comparison_vector_value\": 0, \"comparison_name\": \"month_of_birth\", \"comparison_sort_order\": 4}, {\"m_or_u\": \"m\", \"estimated_probability\": 0.0039378859671713165, \"estimate_description\": \"EM, blocked on: l.geokey = r.geokey\", \"estimated_probability_as_log_odds\": -7.982670566301135, \"sql_condition\": \"ELSE\", \"comparison_level_label\": \"All other comparisons\", \"comparison_vector_value\": 0, \"comparison_name\": \"month_of_birth\", \"comparison_sort_order\": 4}, {\"m_or_u\": \"m\", \"estimated_probability\": 0.9943116968695347, \"estimate_description\": \"EM, blocked on: l.first_name_15 = r.first_name_15 and l.zipcode = r.zipcode\", \"estimated_probability_as_log_odds\": 7.449556020136066, \"sql_condition\": \"`year_of_birth_l` = `year_of_birth_r`\", \"comparison_level_label\": \"Exact match\", \"comparison_vector_value\": 2, \"comparison_name\": \"year_of_birth\", \"comparison_sort_order\": 5}, {\"m_or_u\": \"m\", \"estimated_probability\": 0.9936090156758229, \"estimate_description\": \"EM, blocked on: l.geokey = r.geokey\", \"estimated_probability_as_log_odds\": 7.280496305186757, \"sql_condition\": \"`year_of_birth_l` = `year_of_birth_r`\", \"comparison_level_label\": \"Exact match\", \"comparison_vector_value\": 2, \"comparison_name\": \"year_of_birth\", \"comparison_sort_order\": 5}, {\"m_or_u\": \"m\", \"estimated_probability\": 0.0018697599153210485, \"estimate_description\": \"EM, blocked on: l.first_name_15 = r.first_name_15 and l.zipcode = r.zipcode\", \"estimated_probability_as_log_odds\": -9.060231232153749, \"sql_condition\": \"abs(year_of_birth_l - year_of_birth_r) <= 5\", \"comparison_level_label\": \"Inexact match\", \"comparison_vector_value\": 1, \"comparison_name\": \"year_of_birth\", \"comparison_sort_order\": 5}, {\"m_or_u\": \"m\", \"estimated_probability\": 0.0020819672005258807, \"estimate_description\": \"EM, blocked on: l.geokey = r.geokey\", \"estimated_probability_as_log_odds\": -8.90483016933022, \"sql_condition\": \"abs(year_of_birth_l - year_of_birth_r) <= 5\", \"comparison_level_label\": \"Inexact match\", \"comparison_vector_value\": 1, \"comparison_name\": \"year_of_birth\", \"comparison_sort_order\": 5}, {\"m_or_u\": \"m\", \"estimated_probability\": 0.0038185432151441536, \"estimate_description\": \"EM, blocked on: l.first_name_15 = r.first_name_15 and l.zipcode = r.zipcode\", \"estimated_probability_as_log_odds\": -8.027242395232403, \"sql_condition\": \"ELSE\", \"comparison_level_label\": \"All other comparisons\", \"comparison_vector_value\": 0, \"comparison_name\": \"year_of_birth\", \"comparison_sort_order\": 5}, {\"m_or_u\": \"m\", \"estimated_probability\": 0.004309017123651222, \"estimate_description\": \"EM, blocked on: l.geokey = r.geokey\", \"estimated_probability_as_log_odds\": -7.852195423111653, \"sql_condition\": \"ELSE\", \"comparison_level_label\": \"All other comparisons\", \"comparison_vector_value\": 0, \"comparison_name\": \"year_of_birth\", \"comparison_sort_order\": 5}, {\"m_or_u\": \"m\", \"estimated_probability\": 0.6116170612953316, \"estimate_description\": \"EM, blocked on: l.first_name_15 = r.first_name_15 and l.zipcode = r.zipcode\", \"estimated_probability_as_log_odds\": 0.6551488258783837, \"sql_condition\": \"`geokey_l` = `geokey_r`\", \"comparison_level_label\": \"Exact match\", \"comparison_vector_value\": 2, \"comparison_name\": \"geokey\", \"comparison_sort_order\": 6}, {\"m_or_u\": \"m\", \"estimated_probability\": 0.38134415738767535, \"estimate_description\": \"EM, blocked on: l.first_name_15 = r.first_name_15 and l.zipcode = r.zipcode\", \"estimated_probability_as_log_odds\": -0.6980434670886791, \"sql_condition\": \"jaro_winkler(`geokey_l`, `geokey_r`) >= 0.7222222222222222\", \"comparison_level_label\": \"Jaro_winkler >= 0.7222222222222222\", \"comparison_vector_value\": 1, \"comparison_name\": \"geokey\", \"comparison_sort_order\": 6}, {\"m_or_u\": \"m\", \"estimated_probability\": 0.007038781316992969, \"estimate_description\": \"EM, blocked on: l.first_name_15 = r.first_name_15 and l.zipcode = r.zipcode\", \"estimated_probability_as_log_odds\": -7.140267897766216, \"sql_condition\": \"ELSE\", \"comparison_level_label\": \"All other comparisons\", \"comparison_vector_value\": 0, \"comparison_name\": \"geokey\", \"comparison_sort_order\": 6}]}}, {\"mode\": \"vega-lite\"});\n",
       "</script>"
      ],
      "text/plain": [
       "alt.Chart(...)"
      ]
     },
     "execution_count": 63,
     "metadata": {},
     "output_type": "execute_result"
    }
   ],
   "source": [
    "linker.parameter_estimate_comparisons_chart()"
   ]
  },
  {
   "cell_type": "code",
   "execution_count": 64,
   "id": "10a026ed-761b-45ee-b44b-9259423e518e",
   "metadata": {
    "execution": {
     "iopub.execute_input": "2024-05-16T06:30:06.066968Z",
     "iopub.status.busy": "2024-05-16T06:30:06.066291Z",
     "iopub.status.idle": "2024-05-16T06:30:06.075956Z",
     "shell.execute_reply": "2024-05-16T06:30:06.074037Z"
    },
    "papermill": {
     "duration": 0.055576,
     "end_time": "2024-05-16T06:30:06.077949",
     "exception": false,
     "start_time": "2024-05-16T06:30:06.022373",
     "status": "completed"
    },
    "tags": []
   },
   "outputs": [],
   "source": [
    "splink_settings = linker._settings_obj.as_dict()"
   ]
  },
  {
   "cell_type": "code",
   "execution_count": 65,
   "id": "92188bbf-e12e-42f2-8a32-b007ea05e0cf",
   "metadata": {
    "execution": {
     "iopub.execute_input": "2024-05-16T06:30:06.167027Z",
     "iopub.status.busy": "2024-05-16T06:30:06.166410Z",
     "iopub.status.idle": "2024-05-16T06:30:06.214672Z",
     "shell.execute_reply": "2024-05-16T06:30:06.212614Z"
    },
    "papermill": {
     "duration": 0.095956,
     "end_time": "2024-05-16T06:30:06.218593",
     "exception": false,
     "start_time": "2024-05-16T06:30:06.122637",
     "status": "completed"
    },
    "tags": []
   },
   "outputs": [],
   "source": [
    "import pickle\n",
    "\n",
    "with open(f'{intermediate_data_dir}/splink_settings.pkl', 'wb') as f:\n",
    "    pickle.dump(splink_settings, f, protocol=-1)"
   ]
  },
  {
   "cell_type": "code",
   "execution_count": 66,
   "id": "0626e377-c1b5-444e-b380-a99ae5156b4e",
   "metadata": {
    "execution": {
     "iopub.execute_input": "2024-05-16T06:30:06.312724Z",
     "iopub.status.busy": "2024-05-16T06:30:06.312098Z",
     "iopub.status.idle": "2024-05-16T06:30:06.321498Z",
     "shell.execute_reply": "2024-05-16T06:30:06.319399Z"
    },
    "papermill": {
     "duration": 0.055865,
     "end_time": "2024-05-16T06:30:06.323881",
     "exception": false,
     "start_time": "2024-05-16T06:30:06.268016",
     "status": "completed"
    },
    "tags": []
   },
   "outputs": [],
   "source": [
    "with open(f'{intermediate_data_dir}/splink_settings.pkl', 'rb') as f:\n",
    "    splink_settings = pickle.load(f)"
   ]
  },
  {
   "cell_type": "markdown",
   "id": "f1b9963e-73da-4b51-837d-d79deca7fecf",
   "metadata": {
    "papermill": {
     "duration": 0.04053,
     "end_time": "2024-05-16T06:30:06.408675",
     "exception": false,
     "start_time": "2024-05-16T06:30:06.368145",
     "status": "completed"
    },
    "tags": []
   },
   "source": [
    "## Implement matching passes"
   ]
  },
  {
   "cell_type": "code",
   "execution_count": 67,
   "id": "f437d4c7-b848-4c19-b29d-5f48d10ce911",
   "metadata": {
    "editable": true,
    "execution": {
     "iopub.execute_input": "2024-05-16T06:30:06.493850Z",
     "iopub.status.busy": "2024-05-16T06:30:06.493220Z",
     "iopub.status.idle": "2024-05-16T06:30:07.914956Z",
     "shell.execute_reply": "2024-05-16T06:30:07.910308Z"
    },
    "papermill": {
     "duration": 1.47925,
     "end_time": "2024-05-16T06:30:07.928453",
     "exception": false,
     "start_time": "2024-05-16T06:30:06.449203",
     "status": "completed"
    },
    "slideshow": {
     "slide_type": ""
    },
    "tags": []
   },
   "outputs": [
    {
     "name": "stdout",
     "output_type": "stream",
     "text": [
      "Imbalanced dataframe: too_few=False, too_many=True, too_large=False\n",
      "count    1.800000e+02\n",
      "mean     1.742197e+06\n",
      "std      1.166327e+06\n",
      "min      0.000000e+00\n",
      "25%      0.000000e+00\n",
      "50%      2.203880e+06\n",
      "75%      2.688800e+06\n",
      "max      4.501451e+06\n",
      "dtype: float64\n",
      "Creating partitions of 100MB\n"
     ]
    }
   ],
   "source": [
    "from dataclasses import dataclass\n",
    "\n",
    "# Calculate this once to save time -- mapping from record_id to record_id_raw_input_file\n",
    "# There can be multiple records (with different record_id) for the same input file record\n",
    "# (record_id_raw_input_file) because of the handling of nicknames by creating extra records.\n",
    "record_id_raw_input_file_by_record_id = census_2030[['record_id', 'record_id_raw_input_file']]\n",
    "\n",
    "all_piks = df_ops.persist(df_ops.concat([\n",
    "    name_dob_reference_file[[\"record_id\", \"pik\"]],\n",
    "    geobase_reference_file[[\"record_id\", \"pik\"]]\n",
    "], ignore_index=True))\n",
    "\n",
    "dates_of_death = df_ops.persist(\n",
    "    df_ops.read_parquet(f'{input_dir}/{data_to_use}/simulated_census_numident.parquet')\n",
    "        [['pik', 'date_of_death']]\n",
    "        .assign(date_of_death=lambda s: pd.to_datetime(s.date_of_death, format='%Y%m%d', errors='coerce'))\n",
    ")\n",
    "\n",
    "class PersonLinkageCascade:\n",
    "    def __init__(self):\n",
    "        # This dataframe will accumulate the PIKs to attach to the input file\n",
    "        self.confirmed_piks = df_ops.empty_dataframe(columns=[\"record_id_raw_input_file\", \"pik\"], dtype=str)\n",
    "        self.current_module = None\n",
    "\n",
    "    def start_module(self, *args, **kwargs):\n",
    "        assert self.current_module is None or self.current_module.confirmed\n",
    "        self.current_module = PersonLinkageModule(*args, already_confirmed_piks=self.confirmed_piks, **kwargs)\n",
    "\n",
    "    def run_matching_pass(self, *args, **kwargs):\n",
    "        self.current_module.run_matching_pass(*args, **kwargs)\n",
    "\n",
    "    def confirm_piks(self, *args, **kwargs):\n",
    "        # Make sure we are not about to confirm PIKs for any of the same files we have\n",
    "        # already PIKed\n",
    "        assert len(\n",
    "            self.current_module.provisional_links.merge(self.confirmed_piks, on='record_id_raw_input_file', how='inner')\n",
    "        ) == 0\n",
    "\n",
    "        newly_confirmed_piks = self.current_module.confirm_piks_from_provisional_links()\n",
    "        if compute_engine == 'dask':\n",
    "            # An implementation of \"checkpointing\" in Dask, so we can safely delete the source files\n",
    "            # without risking permanent loss of data we will need\n",
    "            dir_path = f'{output_dir}/intermediate_data/newly_confirmed_piks/newly_confirmed_piks_{self.current_module.name}'\n",
    "            utils.ensure_empty(dir_path)\n",
    "            file_path = f'{dir_path}/newly_confirmed_piks_{self.current_module.name}_{int(time.time())}.parquet'\n",
    "            df_ops.to_parquet(newly_confirmed_piks, file_path, wait=True)\n",
    "            newly_confirmed_piks = df_ops.read_parquet(file_path)\n",
    "\n",
    "        # We are now done with the intermediate data inside this module\n",
    "        dir_path = f'{output_dir}/intermediate_data/{self.current_module.name}/'\n",
    "        utils.remove_path(dir_path)\n",
    "\n",
    "        self.confirmed_piks = df_ops.persist(df_ops.concat([\n",
    "            self.confirmed_piks,\n",
    "            newly_confirmed_piks,\n",
    "        ], ignore_index=True))\n",
    "\n",
    "@dataclass\n",
    "class PersonLinkageModule:\n",
    "    name: str\n",
    "    reference_file: pd.DataFrame\n",
    "    reference_file_name: str\n",
    "    already_confirmed_piks: pd.DataFrame\n",
    "    cut_columns: list[str]\n",
    "    matching_columns: list[str]\n",
    "    bayes_factor_cut_columns: float = 1\n",
    "\n",
    "    def __post_init__(self):\n",
    "        self.provisional_links = df_ops.empty_dataframe(columns=[\"record_id_census_2030\"], dtype=str)\n",
    "        self.confirmed = False\n",
    "        utils.ensure_empty(f'{intermediate_data_dir}/for_splink/')\n",
    "        self.reference_file_for_splink = prep_table_for_splink(self.reference_file, self.reference_file_name, self.reference_file.columns)\n",
    "        if clear_intermediate:\n",
    "            utils.ensure_empty(f'{output_dir}/intermediate_data/{self.name}/')\n",
    "        self.census_to_match = df_ops.persist(\n",
    "            census_2030\n",
    "                # Only look for matches among records that have not received a confirmed PIK\n",
    "                .merge(self.already_confirmed_piks[['record_id_raw_input_file']].assign(already_confirmed_dummy=1), on='record_id_raw_input_file', how='left')\n",
    "                .pipe(lambda df: df[df.already_confirmed_dummy.isna()])\n",
    "                .drop(columns=[\"already_confirmed_dummy\"])\n",
    "                .pipe(df_ops.rebalance)\n",
    "        )\n",
    "\n",
    "    def run_matching_pass(\n",
    "        self,\n",
    "        pass_name,\n",
    "        blocking_columns,\n",
    "        probability_threshold=0.99,\n",
    "        input_data_transformation=lambda x: x,\n",
    "    ):\n",
    "        assert self.confirmed == False\n",
    "\n",
    "        print(f\"Running {pass_name} of {self.name}\")\n",
    "\n",
    "        columns_needed = utils.dedupe_list([\"record_id\"] + self.cut_columns + blocking_columns + self.matching_columns)\n",
    "        print(f\"Files to link are {len(self.reference_file):,.0f} and {len(self.census_to_match):,.0f} records\")\n",
    "        if splink_engine == 'spark':\n",
    "            reference_file_for_splink = self.reference_file_for_splink.select(columns_needed)\n",
    "        else:\n",
    "            reference_file_for_splink = self.reference_file_for_splink[columns_needed]\n",
    "\n",
    "        tables_for_splink = [\n",
    "            reference_file_for_splink,\n",
    "            prep_table_for_splink(\n",
    "                self.census_to_match.pipe(input_data_transformation),\n",
    "                \"census_2030\",\n",
    "                columns_needed,\n",
    "            )\n",
    "        ]\n",
    "\n",
    "        blocking_rule_parts = [f\"l.{col} = r.{col}\" for col in self.cut_columns + blocking_columns]\n",
    "        blocking_rule = \" and \".join(blocking_rule_parts)\n",
    "\n",
    "        if splink_engine == 'spark':\n",
    "            blocking_rule = {\n",
    "                \"blocking_rule\": blocking_rule,\n",
    "                \"salting_partitions\": 10,\n",
    "            }\n",
    "\n",
    "        # We base our Splink linker for this pass on the one we trained above,\n",
    "        # but limiting it to the relevant column comparisons and updating the pass-specific\n",
    "        # settings\n",
    "        pass_splink_settings = copy.deepcopy(splink_settings)\n",
    "        pass_splink_settings[\"comparisons\"] = [\n",
    "            c for c in pass_splink_settings[\"comparisons\"] if c[\"output_column_name\"] in self.matching_columns\n",
    "        ]\n",
    "        prior_two_random_records_match = probability_two_random_records_match(\n",
    "            census_2030,\n",
    "            self.reference_file,\n",
    "        )\n",
    "        prior_odds_two_random_records_match = prior_two_random_records_match / (1 - prior_two_random_records_match)\n",
    "        # If cut columns are not used for matching, need to adjust our prior for the fact\n",
    "        # that all pairs compared will have the same values in the cut columns\n",
    "        odds_two_random_records_match = prior_odds_two_random_records_match * self.bayes_factor_cut_columns\n",
    "        pass_splink_settings[\"probability_two_random_records_match\"] = odds_two_random_records_match / (1 + odds_two_random_records_match)\n",
    "        pass_splink_settings[\"blocking_rules_to_generate_predictions\"] = [blocking_rule]\n",
    "\n",
    "        if splink_engine == 'duckdb':\n",
    "            linker = DuckDBLinker(\n",
    "                tables_for_splink,\n",
    "                pass_splink_settings,\n",
    "                # Must match order of tables_for_splink\n",
    "                input_table_aliases=[\"reference_file\", \"census_2030\"]\n",
    "            )\n",
    "        else:\n",
    "            linker = SparkLinker(\n",
    "                tables_for_splink,\n",
    "                pass_splink_settings,\n",
    "                # Must match order of tables_for_splink\n",
    "                input_table_aliases=[\"reference_file\", \"census_2030\"],\n",
    "                spark=spark,\n",
    "            )\n",
    "\n",
    "        num_comparisons = linker.count_num_comparisons_from_blocking_rule(blocking_rule)\n",
    "        print(f\"Number of pairs that will be compared: {num_comparisons:,.0f}\")\n",
    "    \n",
    "        # https://moj-analytical-services.github.io/splink/demos/06_Visualising_predictions.html#comparison-viewer-dashboard\n",
    "        # We also include some pairs below the threshold, for additional context.\n",
    "        pairs_worth_inspecting = linker.predict(threshold_match_probability=probability_threshold - 0.2)\n",
    "\n",
    "        if linker.query_sql(f'select count(*) as num from {pairs_worth_inspecting.physical_name}').num.iloc[0] > 0:\n",
    "            dashboard_file_name = f\"splink_reports/{data_to_use}/{self.name.replace(' ', '_')}__{pass_name.replace(' ', '_')}.html\"\n",
    "            pathlib.Path(dashboard_file_name).parent.mkdir(parents=True, exist_ok=True)\n",
    "            linker.comparison_viewer_dashboard(pairs_worth_inspecting, dashboard_file_name, overwrite=True)\n",
    "            from IPython.display import IFrame, display\n",
    "            display(IFrame(\n",
    "                src=f\"./{dashboard_file_name}\", width=\"100%\", height=1200\n",
    "            ))\n",
    "\n",
    "        if compute_engine == 'pandas':\n",
    "            new_provisional_links = pairs_worth_inspecting.as_pandas_dataframe()\n",
    "            new_provisional_links = new_provisional_links[new_provisional_links.match_probability >= probability_threshold]\n",
    "        elif splink_engine == 'spark':\n",
    "            # We do a tiny bit of computation in Spark directly to avoid writing more to disk than we need to\n",
    "            pairs_worth_inspecting = pairs_worth_inspecting.as_spark_dataframe()\n",
    "            new_provisional_links = pairs_worth_inspecting.filter(pairs_worth_inspecting.match_probability >= probability_threshold)\n",
    "            if pairs_worth_inspecting.rdd.getNumPartitions() < compute_engine_num_jobs * 5:\n",
    "                new_provisional_links = new_provisional_links.repartition(compute_engine_num_jobs * 5)\n",
    "            # NOTE: We do *not* utils.ensure_empty across passes here, because we need the provisional links from all passes\n",
    "            # to stick around\n",
    "            dir_path = f'{output_dir}/intermediate_data/{self.name}/{pass_name}/new_provisional_links/'\n",
    "            utils.ensure_empty(dir_path)\n",
    "            file_path = f'{dir_path}/new_provisional_links_{int(time.time())}.parquet'\n",
    "            new_provisional_links.write.mode('overwrite').parquet(file_path)\n",
    "            utils.ensure_empty(checkpoints_dir) # We no longer need these checkpoints\n",
    "            new_provisional_links = df_ops.persist(df_ops.read_parquet(file_path))\n",
    "        else:\n",
    "            dir_path = f'{output_dir}/intermediate_data/{self.name}/{pass_name}/pairs_worth_inspecting/'\n",
    "            utils.ensure_empty(dir_path)\n",
    "            file_path = f'{dir_path}/pairs_worth_inspecting_{int(time.time())}.parquet'\n",
    "            pairs_worth_inspecting.to_parquet(file_path, overwrite=True)\n",
    "            pairs_worth_inspecting = df_ops.persist(df_ops.read_parquet(file_path))\n",
    "            new_provisional_links = pairs_worth_inspecting[pairs_worth_inspecting.match_probability >= probability_threshold]\n",
    "            del pairs_worth_inspecting\n",
    "\n",
    "        if splink_engine == 'spark':\n",
    "            utils.ensure_empty(checkpoints_dir) # We are done with this Spark linker\n",
    "\n",
    "        if len(new_provisional_links) > 0:\n",
    "            new_provisional_links = df_ops.persist(\n",
    "                label_pairs_with_dataset(new_provisional_links)\n",
    "                    .merge(record_id_raw_input_file_by_record_id, left_on=\"record_id_census_2030\", right_on=\"record_id\", how=\"left\")\n",
    "                    .drop(columns=[\"record_id\"])\n",
    "            )\n",
    "            self.provisional_links = df_ops.persist(df_ops.concat([\n",
    "                self.provisional_links,\n",
    "                new_provisional_links.assign(module_name=self.name, pass_name=pass_name).pipe(df_ops.ensure_large_string_capacity)\n",
    "            ], ignore_index=True))\n",
    "\n",
    "            self.census_to_match = df_ops.persist(\n",
    "                self.census_to_match\n",
    "                    # Only look for matches among records that have not received a provisional link\n",
    "                    # NOTE: \"records\" here does not mean input file records -- a nickname record having\n",
    "                    # a provisional link does not prevent a canonical name record from the same input record\n",
    "                    # from continuing to match\n",
    "                    .merge(df_ops.drop_duplicates(new_provisional_links[['record_id_census_2030']]), left_on='record_id', right_on='record_id_census_2030', how='left')\n",
    "                    .pipe(lambda df: df[df.record_id_census_2030.isna()])\n",
    "                    .drop(columns=[\"record_id_census_2030\"])\n",
    "            )\n",
    "\n",
    "        print(f'Found {len(new_provisional_links):,.0f} matches; {len(self.census_to_match) / len(census_2030):.2%} still eligible to match')\n",
    "\n",
    "    def confirm_piks_from_provisional_links(self):\n",
    "        assert not self.confirmed\n",
    "\n",
    "        provisional_links = (\n",
    "            self.provisional_links\n",
    "                .merge(all_piks, left_on=\"record_id_reference_file\", right_on=\"record_id\", how=\"left\")\n",
    "                .drop(columns=\"record_id\")\n",
    "        )\n",
    "\n",
    "        # \"After the initial set of links is created in GeoSearch, a post-search program is run to determine\n",
    "        # which of the links are retained. A series of checks are performed: First the date of death\n",
    "        # information from the Numident is checked and links to deceased persons are dropped. Next a\n",
    "        # check is made for more than one SSN assigned to a source record. If more than one SSN is\n",
    "        # assigned, the best link is selected based on match weights. If no best SSN is determined, all SSNs\n",
    "        # assigned in the GeoSearch module are dropped and the input record cascades to the next\n",
    "        # module. A similar post-search program is run at the end of all search modules.\"\n",
    "        # - Layne et al. p. 5\n",
    "\n",
    "        # Drop links to deceased people\n",
    "        # NOTE: On p. 38 of Brown et al. (2023) it discusses at length the number of PVS matches to deceased\n",
    "        # people, which should not be possible based on this process.\n",
    "        # Even though this is more recent, I can't think of a reason why this check would have\n",
    "        # been *removed* from PVS -- can we chalk this up to something experimental they were doing for\n",
    "        # the AR Census in the 2023 report?\n",
    "        provisional_links = df_ops.persist(\n",
    "            provisional_links.merge(dates_of_death, on=\"pik\", how=\"left\")\n",
    "        )\n",
    "        # Census day 2030\n",
    "        deceased_links = df_ops.persist(provisional_links.date_of_death.notnull() & (provisional_links.date_of_death <= pandas.to_datetime(\"2030-04-01\")))\n",
    "        print(f'{df_ops.compute(deceased_links.sum()):,.0f} input records linked to deceased people, dropping links')\n",
    "        provisional_links = df_ops.persist(provisional_links[~deceased_links])\n",
    "\n",
    "        # Check for multiple linkage to a single input file record\n",
    "        max_probability = df_ops.groupby_agg_small_groups(provisional_links, by=\"record_id_raw_input_file\", agg_func=lambda x: x.match_probability.max()).reset_index()\n",
    "        piks_per_input_file = (\n",
    "            provisional_links\n",
    "                .merge(max_probability, on=[\"record_id_raw_input_file\", \"match_probability\"])\n",
    "                .pipe(df_ops.groupby_agg_small_groups, by=\"record_id_raw_input_file\", agg_func=lambda x: x.pik.nunique())\n",
    "                .rename('num_unique_piks')\n",
    "                .reset_index()\n",
    "        )\n",
    "\n",
    "        multiple_piks = df_ops.persist(piks_per_input_file[piks_per_input_file.num_unique_piks > 1])\n",
    "        print(f'{len(multiple_piks):,.0f} input records linked to multiple PIKs, dropping links')\n",
    "        provisional_links = df_ops.persist(\n",
    "            provisional_links\n",
    "                .merge(multiple_piks, on=\"record_id_raw_input_file\", how=\"left\")\n",
    "                .pipe(lambda df: df[df.num_unique_piks.isnull() | (df.num_unique_piks <= 1)])\n",
    "                .pipe(df_ops.drop_duplicates, subset=\"record_id_raw_input_file\", sort_col=\"match_probability\", keep=\"last\")\n",
    "        )\n",
    "\n",
    "        assert df_ops.compute((df_ops.groupby_agg_small_groups(provisional_links, by=\"record_id_raw_input_file\", agg_func=lambda x: x.pik.nunique()) == 1).all())\n",
    "\n",
    "        self.confirmed = True\n",
    "        self.provisional_links = None\n",
    "        \n",
    "        return (\n",
    "            provisional_links[[\n",
    "                \"record_id_raw_input_file\",\n",
    "                \"record_id_census_2030\",\n",
    "                \"record_id_reference_file\",\n",
    "                \"pik\",\n",
    "                \"module_name\",\n",
    "                \"pass_name\",\n",
    "                \"match_probability\",\n",
    "            ]]\n",
    "        )\n",
    "\n",
    "def label_pairs_with_dataset(pairs):\n",
    "    pairs = df_ops.persist(pairs)\n",
    "    if len(pairs) == 0:\n",
    "        return pairs\n",
    "\n",
    "    # Name the columns according to the datasets, not \"r\" (right) and \"l\" (left)\n",
    "    for suffix in [\"r\", \"l\"]:\n",
    "        # NOTE: In practice, splink always has \"r\" correspond to one dataset and \"l\" correspond to the other.\n",
    "        # It is unclear to me if this is a documented guarantee, so I double check.\n",
    "        # NOTE: Do not use drop_duplicates here, since the groups should be enormous (the entire dataframe)\n",
    "        assert df_ops.compute(pairs[f'source_dataset_{suffix}'].nunique()) == 1\n",
    "        source_dataset_name = df_ops.head(pairs, n=1)[f'source_dataset_{suffix}'].iloc[0]\n",
    "        pairs = pairs.rename(columns={c: re.sub(f'_{suffix}$', f'_{source_dataset_name}', c) for c in pairs.columns if c.endswith(f'_{suffix}')})\n",
    "\n",
    "    return pairs"
   ]
  },
  {
   "cell_type": "code",
   "execution_count": 68,
   "id": "c8b7236a-ef52-4151-acab-ba1f0a186042",
   "metadata": {
    "execution": {
     "iopub.execute_input": "2024-05-16T06:30:08.018571Z",
     "iopub.status.busy": "2024-05-16T06:30:08.017923Z",
     "iopub.status.idle": "2024-05-16T06:30:08.046733Z",
     "shell.execute_reply": "2024-05-16T06:30:08.045117Z"
    },
    "papermill": {
     "duration": 0.075794,
     "end_time": "2024-05-16T06:30:08.049810",
     "exception": false,
     "start_time": "2024-05-16T06:30:07.974016",
     "status": "completed"
    },
    "tags": []
   },
   "outputs": [],
   "source": [
    "person_linkage_cascade = PersonLinkageCascade()"
   ]
  },
  {
   "cell_type": "markdown",
   "id": "96dc1b23-3bbf-4571-a89d-9bf8db4c0dbe",
   "metadata": {
    "papermill": {
     "duration": 0.041487,
     "end_time": "2024-05-16T06:30:08.139938",
     "exception": false,
     "start_time": "2024-05-16T06:30:08.098451",
     "status": "completed"
    },
    "tags": []
   },
   "source": [
    "# Verification Module\n",
    "\n",
    "Wagner and Layne, p.14:\n",
    "\n",
    "> If the input file has a SSN data field, it first goes through the verification process.\n",
    "\n",
    "This module of PVS only runs on input records with an SSN.\n",
    "No records in the CUF have an SSN (SSN is not collected on the decennial)\n",
    "so this module is skipped."
   ]
  },
  {
   "cell_type": "markdown",
   "id": "b0203571-b01f-477b-879d-c1c7587020d7",
   "metadata": {
    "papermill": {
     "duration": 0.04092,
     "end_time": "2024-05-16T06:30:08.221501",
     "exception": false,
     "start_time": "2024-05-16T06:30:08.180581",
     "status": "completed"
    },
    "tags": []
   },
   "source": [
    "# GeoSearch\n",
    "\n",
    "Brown et al. p. 29:\n",
    "\n",
    "> the GeoSearch module blocks records at\n",
    "different levels of geography, starting with the housing unit level, then broadening geography\n",
    "up to the three-digit ZIP Code level. The typical matching variables are name, DOB, sex, and\n",
    "various address fields.\n",
    "\n",
    "Wagner and Layne p. 14:\n",
    "\n",
    "> The typical GeoSearch blocking strategy starts with blocking records at the\n",
    "household level, then broadens the geography for each successive pass and ends at\n",
    "blocking by the first three digits of the zip code. The typical match variables are first,\n",
    "middle, and last names; generational suffix; date of birth; gender and various address\n",
    "fields.\n",
    "> \n",
    "> The data for the GeoSearch module are split into 1,000 cuts based on the first three\n",
    "digits of the zip code (zip3) for record. The GeoSearch program works on one zip3 cut\n",
    "at a time, with shell scripts submitting multiple streams of cuts to the system. This\n",
    "allows for parallel processing and restart capability.\n",
    "\n",
    "Layne, Wagner, and Rothhaas list an exact series of passes with blocking and matching variables\n",
    "for each (Appendix A on p. 25).\n",
    "This was the series of passes they used in running PVS on the Medicare Enrollment\n",
    "Database, the Indian Health Service Patient Registration File, and on two commercial\n",
    "data sources.\n",
    "All of these data sources are rather different than a CUF, and this paper is from 2014,\n",
    "but it is the only place I know of where an entire set of passes is described,\n",
    "so I have used the exact same passes here."
   ]
  },
  {
   "cell_type": "code",
   "execution_count": 69,
   "id": "2560948a-c9ca-4b96-9fa9-4c4b942689e7",
   "metadata": {
    "execution": {
     "iopub.execute_input": "2024-05-16T06:30:08.305142Z",
     "iopub.status.busy": "2024-05-16T06:30:08.304501Z",
     "iopub.status.idle": "2024-05-16T06:30:11.687936Z",
     "shell.execute_reply": "2024-05-16T06:30:11.685043Z"
    },
    "papermill": {
     "duration": 3.429976,
     "end_time": "2024-05-16T06:30:11.692275",
     "exception": false,
     "start_time": "2024-05-16T06:30:08.262299",
     "status": "completed"
    },
    "tags": []
   },
   "outputs": [],
   "source": [
    "person_linkage_cascade.start_module(\n",
    "    name=\"geosearch\",\n",
    "    reference_file=geobase_reference_file,\n",
    "    reference_file_name=\"geobase_reference_file\",\n",
    "    cut_columns=[\"zip3\"],\n",
    "    matching_columns=[\n",
    "        \"first_name_15\",\n",
    "        \"last_name_12\",\n",
    "        \"middle_initial\",\n",
    "        \"day_of_birth\",\n",
    "        \"month_of_birth\",\n",
    "        \"year_of_birth\",\n",
    "        \"geokey\",\n",
    "    ],\n",
    ")"
   ]
  },
  {
   "cell_type": "markdown",
   "id": "0398ac85-1ff3-4103-979c-ff00936ced02",
   "metadata": {
    "papermill": {
     "duration": 0.040295,
     "end_time": "2024-05-16T06:30:11.780861",
     "exception": false,
     "start_time": "2024-05-16T06:30:11.740566",
     "status": "completed"
    },
    "tags": []
   },
   "source": [
    "## Pass 1: Block on geokey (entire address)"
   ]
  },
  {
   "cell_type": "code",
   "execution_count": 70,
   "id": "c13afeba-9198-4546-9092-6ee563cc51e7",
   "metadata": {
    "execution": {
     "iopub.execute_input": "2024-05-16T06:30:11.866998Z",
     "iopub.status.busy": "2024-05-16T06:30:11.866335Z",
     "iopub.status.idle": "2024-05-16T06:31:09.298210Z",
     "shell.execute_reply": "2024-05-16T06:31:09.296156Z"
    },
    "papermill": {
     "duration": 57.479431,
     "end_time": "2024-05-16T06:31:09.301933",
     "exception": false,
     "start_time": "2024-05-16T06:30:11.822502",
     "status": "completed"
    },
    "tags": []
   },
   "outputs": [
    {
     "name": "stdout",
     "output_type": "stream",
     "text": [
      "Running geokey of geosearch\n",
      "Files to link are 2,749,623 and 1,099,938 records\n"
     ]
    },
    {
     "name": "stdout",
     "output_type": "stream",
     "text": [
      "Imbalanced dataframe: too_few=False, too_many=True, too_large=False\n",
      "count       240.000000\n",
      "mean     114359.883333\n",
      "std      182906.599673\n",
      "min           0.000000\n",
      "25%           0.000000\n",
      "50%         467.000000\n",
      "75%      191884.500000\n",
      "max      745894.000000\n",
      "dtype: float64\n",
      "Creating partitions of 100MB\n"
     ]
    },
    {
     "name": "stderr",
     "output_type": "stream",
     "text": [
      "24/05/16 06:30:19 WARN SimpleFunctionRegistry: The function jaro_sim replaced a previously registered function.\n",
      "24/05/16 06:30:19 WARN SimpleFunctionRegistry: The function jaro_winkler replaced a previously registered function.\n",
      "24/05/16 06:30:19 WARN SimpleFunctionRegistry: The function jaccard replaced a previously registered function.\n",
      "24/05/16 06:30:19 WARN SimpleFunctionRegistry: The function cosine_distance replaced a previously registered function.\n",
      "24/05/16 06:30:19 WARN SimpleFunctionRegistry: The function dmetaphone replaced a previously registered function.\n",
      "24/05/16 06:30:19 WARN SimpleFunctionRegistry: The function dmetaphonealt replaced a previously registered function.\n",
      "24/05/16 06:30:19 WARN SimpleFunctionRegistry: The function qgramtokeniser replaced a previously registered function.\n",
      "24/05/16 06:30:19 WARN SimpleFunctionRegistry: The function damerau_levenshtein replaced a previously registered function.\n"
     ]
    },
    {
     "name": "stderr",
     "output_type": "stream",
     "text": [
      "\r",
      "[Stage 223:========================================>            (95 + 30) / 125]\r"
     ]
    },
    {
     "name": "stderr",
     "output_type": "stream",
     "text": [
      "\r",
      "[Stage 227:============>                                        (61 + 50) / 250]\r",
      "\r",
      "[Stage 227:===================>                                 (92 + 50) / 250]\r"
     ]
    },
    {
     "name": "stderr",
     "output_type": "stream",
     "text": [
      "\r",
      "[Stage 227:==========================>                         (128 + 50) / 250]\r",
      "\r",
      "[Stage 227:==================================>                 (168 + 50) / 250]\r"
     ]
    },
    {
     "name": "stderr",
     "output_type": "stream",
     "text": [
      "\r",
      "[Stage 227:===========================================>        (211 + 39) / 250]\r",
      "\r",
      "[Stage 227:===================================================> (242 + 8) / 250]\r"
     ]
    },
    {
     "name": "stderr",
     "output_type": "stream",
     "text": [
      "\r",
      "[Stage 227:====================================================>(249 + 1) / 250]\r"
     ]
    },
    {
     "name": "stderr",
     "output_type": "stream",
     "text": [
      "\r",
      "                                                                                \r"
     ]
    },
    {
     "name": "stdout",
     "output_type": "stream",
     "text": [
      "Number of pairs that will be compared: 7,559,325\n"
     ]
    },
    {
     "name": "stderr",
     "output_type": "stream",
     "text": [
      "\r",
      "[Stage 233:==============================================>     (204 + 24) / 228]\r"
     ]
    },
    {
     "name": "stderr",
     "output_type": "stream",
     "text": [
      "\r",
      "[Stage 235:>                                                      (0 + 32) / 32]\r"
     ]
    },
    {
     "name": "stderr",
     "output_type": "stream",
     "text": [
      "\r",
      "[Stage 235:===========================>                          (16 + 16) / 32]\r",
      "\r",
      "[Stage 235:==============================================>        (27 + 5) / 32]\r"
     ]
    },
    {
     "name": "stderr",
     "output_type": "stream",
     "text": [
      "\r",
      "[Stage 235:=====================================================> (31 + 1) / 32]\r",
      "\r",
      "                                                                                \r"
     ]
    },
    {
     "name": "stderr",
     "output_type": "stream",
     "text": [
      "24/05/16 06:30:26 WARN DataSource: All paths were ignored:\n",
      "  file:/ihme/scratch/users/zmbc/person_linkage_case_study/results/ri/tmpCheckpoints/0bc9c889-22ec-443a-b9c5-504361150648/__splink__df_concat_with_tf_2b28268e7\n"
     ]
    },
    {
     "name": "stderr",
     "output_type": "stream",
     "text": [
      "\r",
      "[Stage 241:(54 + 10) / 64][Stage 242:(42 + 22) / 64][Stage 243:>(0 + 18) / 64]\r",
      "\r",
      "[Stage 243:(43 + 21) / 64][Stage 244:>(0 + 29) / 64][Stage 245:> (0 + 0) / 64]\r"
     ]
    },
    {
     "name": "stderr",
     "output_type": "stream",
     "text": [
      "\r",
      "[Stage 244:>(55 + 9) / 64][Stage 245:>(0 + 41) / 64][Stage 246:> (0 + 0) / 64]\r",
      "\r",
      "[Stage 245:>(60 + 4) / 64][Stage 246:>(1 + 46) / 64][Stage 247:> (0 + 0) / 64]\r"
     ]
    },
    {
     "name": "stderr",
     "output_type": "stream",
     "text": [
      "\r",
      "[Stage 246:>(63 + 1) / 64][Stage 247:(31 + 33) / 64][Stage 248:>(0 + 17) / 64]\r",
      "\r",
      "[Stage 248:(47 + 17) / 64][Stage 249:>(0 + 33) / 64][Stage 250:> (0 + 0) / 64]\r"
     ]
    },
    {
     "name": "stderr",
     "output_type": "stream",
     "text": [
      "\r",
      "[Stage 249:=============> (58 + 6) / 64][Stage 250:>              (0 + 44) / 64]\r",
      "\r",
      "[Stage 250:======================================================>(63 + 1) / 64]\r"
     ]
    },
    {
     "name": "stderr",
     "output_type": "stream",
     "text": [
      "24/05/16 06:30:32 WARN DAGScheduler: Broadcasting large task binary with size 1611.0 KiB\n"
     ]
    },
    {
     "name": "stderr",
     "output_type": "stream",
     "text": [
      "\r",
      "[Stage 262:>                                                     (1 + 50) / 270]\r"
     ]
    },
    {
     "name": "stderr",
     "output_type": "stream",
     "text": [
      "\r",
      "[Stage 262:=>                                                    (7 + 51) / 270]\r",
      "\r",
      "[Stage 262:====>                                                (24 + 51) / 270]\r"
     ]
    },
    {
     "name": "stderr",
     "output_type": "stream",
     "text": [
      "\r",
      "[Stage 262:======>                                              (35 + 50) / 270]\r",
      "\r",
      "[Stage 262:=========>                                           (49 + 50) / 270]\r"
     ]
    },
    {
     "name": "stderr",
     "output_type": "stream",
     "text": [
      "\r",
      "[Stage 262:==========>                                          (55 + 50) / 270]\r",
      "\r",
      "[Stage 262:=============>                                       (67 + 50) / 270]\r"
     ]
    },
    {
     "name": "stderr",
     "output_type": "stream",
     "text": [
      "\r",
      "[Stage 262:=============>                                       (70 + 50) / 270]\r",
      "\r",
      "[Stage 262:================>                                    (82 + 50) / 270]\r"
     ]
    },
    {
     "name": "stderr",
     "output_type": "stream",
     "text": [
      "\r",
      "[Stage 262:===================>                                 (99 + 50) / 270]\r",
      "\r",
      "[Stage 262:=====================>                              (111 + 50) / 270]\r"
     ]
    },
    {
     "name": "stderr",
     "output_type": "stream",
     "text": [
      "\r",
      "[Stage 262:======================>                             (117 + 50) / 270]\r",
      "\r",
      "[Stage 262:========================>                           (127 + 50) / 270]\r"
     ]
    },
    {
     "name": "stderr",
     "output_type": "stream",
     "text": [
      "\r",
      "[Stage 262:==========================>                         (139 + 50) / 270]\r",
      "\r",
      "[Stage 262:=============================>                      (152 + 50) / 270]\r"
     ]
    },
    {
     "name": "stderr",
     "output_type": "stream",
     "text": [
      "\r",
      "[Stage 262:===============================>                    (162 + 50) / 270]\r",
      "\r",
      "[Stage 262:=================================>                  (172 + 50) / 270]\r"
     ]
    },
    {
     "name": "stderr",
     "output_type": "stream",
     "text": [
      "\r",
      "[Stage 262:===================================>                (183 + 50) / 270]\r",
      "\r",
      "[Stage 262:=====================================>              (195 + 50) / 270]\r"
     ]
    },
    {
     "name": "stderr",
     "output_type": "stream",
     "text": [
      "\r",
      "[Stage 262:=======================================>            (205 + 50) / 270]\r",
      "\r",
      "[Stage 262:=========================================>          (218 + 50) / 270]\r"
     ]
    },
    {
     "name": "stderr",
     "output_type": "stream",
     "text": [
      "\r",
      "[Stage 262:============================================>       (230 + 40) / 270]\r",
      "\r",
      "[Stage 262:==============================================>     (239 + 31) / 270]\r"
     ]
    },
    {
     "name": "stderr",
     "output_type": "stream",
     "text": [
      "\r",
      "[Stage 262:=================================================>  (256 + 14) / 270]\r",
      "\r",
      "[Stage 262:===================================================> (262 + 8) / 270]\r"
     ]
    },
    {
     "name": "stderr",
     "output_type": "stream",
     "text": [
      "\r",
      "[Stage 262:====================================================>(269 + 1) / 270]\r"
     ]
    },
    {
     "name": "stderr",
     "output_type": "stream",
     "text": [
      "\r",
      "[Stage 275:======>                                              (15 + 50) / 125]\r",
      "\r",
      "[Stage 275:===================>                                 (45 + 51) / 125]\r"
     ]
    },
    {
     "name": "stderr",
     "output_type": "stream",
     "text": [
      "\r",
      "[Stage 275:===========================>                         (65 + 50) / 125]\r",
      "\r",
      "[Stage 275:=====================================>               (88 + 37) / 125]\r"
     ]
    },
    {
     "name": "stderr",
     "output_type": "stream",
     "text": [
      "\r",
      "[Stage 275:=================================================>   (116 + 9) / 125]\r",
      "\r",
      "                                                                                \r"
     ]
    },
    {
     "name": "stderr",
     "output_type": "stream",
     "text": [
      "24/05/16 06:30:41 WARN DataSource: All paths were ignored:\n",
      "  file:/ihme/scratch/users/zmbc/person_linkage_case_study/results/ri/tmpCheckpoints/0bc9c889-22ec-443a-b9c5-504361150648/__splink__df_predict_bb74695c4\n"
     ]
    },
    {
     "name": "stderr",
     "output_type": "stream",
     "text": [
      "\r",
      "[Stage 280:====================================================>(123 + 2) / 125]\r",
      "\r",
      "[Stage 281:====================================================>(123 + 2) / 125]\r"
     ]
    },
    {
     "name": "stderr",
     "output_type": "stream",
     "text": [
      "\r",
      "                                                                                \r"
     ]
    },
    {
     "name": "stderr",
     "output_type": "stream",
     "text": [
      "\r",
      "[Stage 288:==============>                                        (4 + 11) / 15]\r",
      "\r",
      "[Stage 288:====================================>                  (10 + 5) / 15]\r"
     ]
    },
    {
     "name": "stderr",
     "output_type": "stream",
     "text": [
      "\r",
      "[Stage 288:========================================>              (11 + 4) / 15]\r",
      "\r",
      "[Stage 288:============================================>          (12 + 3) / 15]\r"
     ]
    },
    {
     "name": "stderr",
     "output_type": "stream",
     "text": [
      "\r",
      "[Stage 288:===============================================>       (13 + 2) / 15]\r"
     ]
    },
    {
     "name": "stderr",
     "output_type": "stream",
     "text": [
      "\r",
      "[Stage 288:===================================================>   (14 + 1) / 15]\r"
     ]
    },
    {
     "name": "stderr",
     "output_type": "stream",
     "text": [
      "\r",
      "                                                                                \r"
     ]
    },
    {
     "data": {
      "text/html": [
       "\n",
       "        <iframe\n",
       "            width=\"100%\"\n",
       "            height=\"1200\"\n",
       "            src=\"./splink_reports/ri/geosearch__geokey.html\"\n",
       "            frameborder=\"0\"\n",
       "            allowfullscreen\n",
       "            \n",
       "        ></iframe>\n",
       "        "
      ],
      "text/plain": [
       "<IPython.lib.display.IFrame at 0x7fae23794820>"
      ]
     },
     "metadata": {},
     "output_type": "display_data"
    },
    {
     "name": "stderr",
     "output_type": "stream",
     "text": [
      "\r",
      "[Stage 289:=======>                                             (18 + 50) / 125]\r",
      "\r",
      "[Stage 289:==================>                                  (43 + 51) / 125]\r"
     ]
    },
    {
     "name": "stderr",
     "output_type": "stream",
     "text": [
      "\r",
      "[Stage 289:=========================>                           (59 + 50) / 125]\r",
      "\r",
      "[Stage 289:=======================================>             (92 + 33) / 125]\r"
     ]
    },
    {
     "name": "stderr",
     "output_type": "stream",
     "text": [
      "\r",
      "[Stage 289:===============================================>    (115 + 10) / 125]\r",
      "\r",
      "                                                                                \r"
     ]
    },
    {
     "name": "stdout",
     "output_type": "stream",
     "text": [
      "Imbalanced dataframe: too_few=False, too_many=True, too_large=False\n",
      "count    1.250000e+02\n",
      "mean     3.403399e+06\n",
      "std      9.711409e+03\n",
      "min      3.377769e+06\n",
      "25%      3.396766e+06\n",
      "50%      3.403438e+06\n",
      "75%      3.410566e+06\n",
      "max      3.426288e+06\n",
      "dtype: float64\n",
      "Creating partitions of 100MB\n"
     ]
    },
    {
     "name": "stdout",
     "output_type": "stream",
     "text": [
      "Found 766,270 matches; 30.49% still eligible to match\n"
     ]
    }
   ],
   "source": [
    "person_linkage_cascade.run_matching_pass(\n",
    "    pass_name=\"geokey\",\n",
    "    blocking_columns=[\"geokey_for_blocking\"],\n",
    ")"
   ]
  },
  {
   "cell_type": "markdown",
   "id": "ef782163-425e-4745-a8a4-f352032ee9d4",
   "metadata": {
    "papermill": {
     "duration": 0.043932,
     "end_time": "2024-05-16T06:31:09.395475",
     "exception": false,
     "start_time": "2024-05-16T06:31:09.351543",
     "status": "completed"
    },
    "tags": []
   },
   "source": [
    "## Pass 2: Block on geokey (entire address), switching first and last names"
   ]
  },
  {
   "cell_type": "code",
   "execution_count": 71,
   "id": "83383f23-807c-49bb-88b7-7ef69d9a6031",
   "metadata": {
    "execution": {
     "iopub.execute_input": "2024-05-16T06:31:09.485675Z",
     "iopub.status.busy": "2024-05-16T06:31:09.485013Z",
     "iopub.status.idle": "2024-05-16T06:31:09.495921Z",
     "shell.execute_reply": "2024-05-16T06:31:09.494744Z"
    },
    "papermill": {
     "duration": 0.058979,
     "end_time": "2024-05-16T06:31:09.498115",
     "exception": false,
     "start_time": "2024-05-16T06:31:09.439136",
     "status": "completed"
    },
    "tags": []
   },
   "outputs": [],
   "source": [
    "def switch_first_and_last_names(df):\n",
    "    return (\n",
    "        df.rename(columns={\"first_name\": \"last_name\", \"last_name\": \"first_name\"})\n",
    "            # Re-calculate the truncated versions of first and last.\n",
    "            # NOTE: It is not necessary to re-calculate the phonetic versions, because\n",
    "            # those are never used in any pass that has a name switch.\n",
    "            .pipe(add_truncated_name_cols)\n",
    "    )"
   ]
  },
  {
   "cell_type": "code",
   "execution_count": 72,
   "id": "f1a30656-2fad-43f2-8712-6e52fb8c94ef",
   "metadata": {
    "execution": {
     "iopub.execute_input": "2024-05-16T06:31:09.591766Z",
     "iopub.status.busy": "2024-05-16T06:31:09.589624Z",
     "iopub.status.idle": "2024-05-16T06:31:47.959486Z",
     "shell.execute_reply": "2024-05-16T06:31:47.958543Z"
    },
    "papermill": {
     "duration": 38.419379,
     "end_time": "2024-05-16T06:31:47.963217",
     "exception": false,
     "start_time": "2024-05-16T06:31:09.543838",
     "status": "completed"
    },
    "tags": []
   },
   "outputs": [
    {
     "name": "stdout",
     "output_type": "stream",
     "text": [
      "Running geokey name switch of geosearch\n"
     ]
    },
    {
     "name": "stdout",
     "output_type": "stream",
     "text": [
      "Files to link are 2,749,623 and 335,340 records\n"
     ]
    },
    {
     "name": "stdout",
     "output_type": "stream",
     "text": [
      "Imbalanced dataframe: too_few=False, too_many=True, too_large=False\n",
      "count       240.000000\n",
      "mean     114359.883333\n",
      "std      182906.599673\n",
      "min           0.000000\n",
      "25%           0.000000\n",
      "50%         467.000000\n",
      "75%      191884.500000\n",
      "max      745894.000000\n",
      "dtype: float64\n",
      "Creating partitions of 100MB\n"
     ]
    },
    {
     "name": "stderr",
     "output_type": "stream",
     "text": [
      "24/05/16 06:31:17 WARN SimpleFunctionRegistry: The function jaro_sim replaced a previously registered function.\n",
      "24/05/16 06:31:17 WARN SimpleFunctionRegistry: The function jaro_winkler replaced a previously registered function.\n",
      "24/05/16 06:31:17 WARN SimpleFunctionRegistry: The function jaccard replaced a previously registered function.\n",
      "24/05/16 06:31:17 WARN SimpleFunctionRegistry: The function cosine_distance replaced a previously registered function.\n",
      "24/05/16 06:31:17 WARN SimpleFunctionRegistry: The function dmetaphone replaced a previously registered function.\n",
      "24/05/16 06:31:17 WARN SimpleFunctionRegistry: The function dmetaphonealt replaced a previously registered function.\n",
      "24/05/16 06:31:17 WARN SimpleFunctionRegistry: The function qgramtokeniser replaced a previously registered function.\n",
      "24/05/16 06:31:17 WARN SimpleFunctionRegistry: The function damerau_levenshtein replaced a previously registered function.\n"
     ]
    },
    {
     "name": "stderr",
     "output_type": "stream",
     "text": [
      "\r",
      "[Stage 299:=============================>                      (142 + 50) / 250]\r",
      "\r",
      "[Stage 299:=======================================>            (191 + 50) / 250]\r"
     ]
    },
    {
     "name": "stderr",
     "output_type": "stream",
     "text": [
      "\r",
      "[Stage 299:=================================================>  (239 + 11) / 250]\r",
      "\r",
      "[Stage 299:====================================================>(248 + 2) / 250]\r"
     ]
    },
    {
     "name": "stderr",
     "output_type": "stream",
     "text": [
      "\r",
      "                                                                                \r"
     ]
    },
    {
     "name": "stdout",
     "output_type": "stream",
     "text": [
      "Number of pairs that will be compared: 4,830,430\n"
     ]
    },
    {
     "name": "stderr",
     "output_type": "stream",
     "text": [
      "\r",
      "[Stage 307:=====>                                                 (3 + 29) / 32]\r",
      "\r",
      "[Stage 307:===================================================>   (30 + 2) / 32]\r"
     ]
    },
    {
     "name": "stderr",
     "output_type": "stream",
     "text": [
      "\r",
      "                                                                                \r"
     ]
    },
    {
     "name": "stderr",
     "output_type": "stream",
     "text": [
      "24/05/16 06:31:22 WARN DataSource: All paths were ignored:\n",
      "  file:/ihme/scratch/users/zmbc/person_linkage_case_study/results/ri/tmpCheckpoints/0bc9c889-22ec-443a-b9c5-504361150648/__splink__df_concat_with_tf_2b28268e7\n"
     ]
    },
    {
     "name": "stderr",
     "output_type": "stream",
     "text": [
      "\r",
      "[Stage 313:>(55 + 9) / 64][Stage 314:>(60 + 4) / 64][Stage 315:>(0 + 37) / 64]\r",
      "\r",
      "[Stage 315:>(63 + 1) / 64][Stage 316:(35 + 29) / 64][Stage 317:>(0 + 20) / 64]\r"
     ]
    },
    {
     "name": "stderr",
     "output_type": "stream",
     "text": [
      "\r",
      "[Stage 317:>(62 + 2) / 64][Stage 318:>(8 + 48) / 64][Stage 319:> (0 + 0) / 64]\r",
      "\r",
      "[Stage 319:>(55 + 9) / 64][Stage 320:>(0 + 41) / 64][Stage 321:> (0 + 0) / 64]\r"
     ]
    },
    {
     "name": "stderr",
     "output_type": "stream",
     "text": [
      "\r",
      "[Stage 319:>(63 + 1) / 64][Stage 321:(44 + 20) / 64][Stage 322:>(0 + 29) / 64]\r",
      "\r",
      "                                                                                \r"
     ]
    },
    {
     "name": "stderr",
     "output_type": "stream",
     "text": [
      "24/05/16 06:31:27 WARN DAGScheduler: Broadcasting large task binary with size 1025.4 KiB\n"
     ]
    },
    {
     "name": "stderr",
     "output_type": "stream",
     "text": [
      "\r",
      "[Stage 344:=========>                                           (47 + 50) / 270]\r",
      "\r",
      "[Stage 344:============>                                        (64 + 50) / 270]\r"
     ]
    },
    {
     "name": "stderr",
     "output_type": "stream",
     "text": [
      "\r",
      "[Stage 344:================>                                    (82 + 50) / 270]\r",
      "\r",
      "[Stage 344:====================>                               (108 + 50) / 270]\r"
     ]
    },
    {
     "name": "stderr",
     "output_type": "stream",
     "text": [
      "\r",
      "[Stage 344:=========================>                          (131 + 50) / 270]\r",
      "\r",
      "[Stage 344:=============================>                      (154 + 50) / 270]\r"
     ]
    },
    {
     "name": "stderr",
     "output_type": "stream",
     "text": [
      "\r",
      "[Stage 344:================================>                   (169 + 52) / 270]\r",
      "\r",
      "[Stage 344:======================================>             (201 + 51) / 270]\r"
     ]
    },
    {
     "name": "stderr",
     "output_type": "stream",
     "text": [
      "\r",
      "[Stage 344:==========================================>         (220 + 47) / 270]\r",
      "\r",
      "[Stage 344:=============================================>      (236 + 34) / 270]\r"
     ]
    },
    {
     "name": "stderr",
     "output_type": "stream",
     "text": [
      "\r",
      "[Stage 344:===============================================>    (247 + 23) / 270]\r",
      "\r",
      "[Stage 344:==================================================> (260 + 10) / 270]\r"
     ]
    },
    {
     "name": "stderr",
     "output_type": "stream",
     "text": [
      "\r",
      "[Stage 347:====================>                                (49 + 50) / 125]\r",
      "\r",
      "[Stage 347:=================================>                   (80 + 45) / 125]\r"
     ]
    },
    {
     "name": "stderr",
     "output_type": "stream",
     "text": [
      "\r",
      "[Stage 347:====================================================>(123 + 2) / 125]\r",
      "\r",
      "                                                                                \r"
     ]
    },
    {
     "name": "stderr",
     "output_type": "stream",
     "text": [
      "24/05/16 06:31:33 WARN DataSource: All paths were ignored:\n",
      "  file:/ihme/scratch/users/zmbc/person_linkage_case_study/results/ri/tmpCheckpoints/0bc9c889-22ec-443a-b9c5-504361150648/__splink__df_predict_bb74695c4\n"
     ]
    },
    {
     "data": {
      "text/html": [
       "\n",
       "        <iframe\n",
       "            width=\"100%\"\n",
       "            height=\"1200\"\n",
       "            src=\"./splink_reports/ri/geosearch__geokey_name_switch.html\"\n",
       "            frameborder=\"0\"\n",
       "            allowfullscreen\n",
       "            \n",
       "        ></iframe>\n",
       "        "
      ],
      "text/plain": [
       "<IPython.lib.display.IFrame at 0x7fac6f95eb90>"
      ]
     },
     "metadata": {},
     "output_type": "display_data"
    },
    {
     "name": "stderr",
     "output_type": "stream",
     "text": [
      "\r",
      "[Stage 361:================>                                    (39 + 50) / 125]\r",
      "\r",
      "[Stage 361:===========================>                         (66 + 50) / 125]\r"
     ]
    },
    {
     "name": "stderr",
     "output_type": "stream",
     "text": [
      "\r",
      "[Stage 361:==========================================>         (101 + 24) / 125]\r",
      "\r",
      "                                                                                \r"
     ]
    },
    {
     "name": "stdout",
     "output_type": "stream",
     "text": [
      "Imbalanced dataframe: too_few=False, too_many=True, too_large=False\n",
      "count      125.000000\n",
      "mean     12489.752000\n",
      "std       2061.107304\n",
      "min       6687.000000\n",
      "25%      11149.000000\n",
      "50%      12330.000000\n",
      "75%      13566.000000\n",
      "max      18140.000000\n",
      "dtype: float64\n",
      "Creating partitions of 100MB\n"
     ]
    },
    {
     "name": "stdout",
     "output_type": "stream",
     "text": [
      "Found 2,781 matches; 30.23% still eligible to match\n"
     ]
    }
   ],
   "source": [
    "# We don't actually have any swapping of first and last names in pseudopeople\n",
    "person_linkage_cascade.run_matching_pass(\n",
    "    pass_name=\"geokey name switch\",\n",
    "    blocking_columns=[\"geokey_for_blocking\"],\n",
    "    input_data_transformation=switch_first_and_last_names,\n",
    ")"
   ]
  },
  {
   "cell_type": "markdown",
   "id": "7f1abcb7-8577-428a-a531-5fac5f3ea6dc",
   "metadata": {
    "papermill": {
     "duration": 0.046655,
     "end_time": "2024-05-16T06:31:48.062706",
     "exception": false,
     "start_time": "2024-05-16T06:31:48.016051",
     "status": "completed"
    },
    "tags": []
   },
   "source": [
    "## Pass 3: Block on house number and street name Soundex"
   ]
  },
  {
   "cell_type": "code",
   "execution_count": 73,
   "id": "e7c841a9-09af-4708-a094-2ddc19526648",
   "metadata": {
    "execution": {
     "iopub.execute_input": "2024-05-16T06:31:48.156216Z",
     "iopub.status.busy": "2024-05-16T06:31:48.154939Z",
     "iopub.status.idle": "2024-05-16T06:32:49.631650Z",
     "shell.execute_reply": "2024-05-16T06:32:49.629368Z"
    },
    "papermill": {
     "duration": 61.579354,
     "end_time": "2024-05-16T06:32:49.688003",
     "exception": false,
     "start_time": "2024-05-16T06:31:48.108649",
     "status": "completed"
    },
    "tags": []
   },
   "outputs": [
    {
     "name": "stdout",
     "output_type": "stream",
     "text": [
      "Running house number and street name Soundex of geosearch\n"
     ]
    },
    {
     "name": "stdout",
     "output_type": "stream",
     "text": [
      "Files to link are 2,749,623 and 332,559 records\n"
     ]
    },
    {
     "name": "stdout",
     "output_type": "stream",
     "text": [
      "Imbalanced dataframe: too_few=False, too_many=True, too_large=False\n",
      "count       240.000000\n",
      "mean     114359.883333\n",
      "std      182906.599673\n",
      "min           0.000000\n",
      "25%           0.000000\n",
      "50%         467.000000\n",
      "75%      191884.500000\n",
      "max      745894.000000\n",
      "dtype: float64\n",
      "Creating partitions of 100MB\n"
     ]
    },
    {
     "name": "stderr",
     "output_type": "stream",
     "text": [
      "24/05/16 06:31:55 WARN SimpleFunctionRegistry: The function jaro_sim replaced a previously registered function.\n",
      "24/05/16 06:31:55 WARN SimpleFunctionRegistry: The function jaro_winkler replaced a previously registered function.\n",
      "24/05/16 06:31:55 WARN SimpleFunctionRegistry: The function jaccard replaced a previously registered function.\n",
      "24/05/16 06:31:55 WARN SimpleFunctionRegistry: The function cosine_distance replaced a previously registered function.\n",
      "24/05/16 06:31:55 WARN SimpleFunctionRegistry: The function dmetaphone replaced a previously registered function.\n",
      "24/05/16 06:31:55 WARN SimpleFunctionRegistry: The function dmetaphonealt replaced a previously registered function.\n",
      "24/05/16 06:31:55 WARN SimpleFunctionRegistry: The function qgramtokeniser replaced a previously registered function.\n",
      "24/05/16 06:31:55 WARN SimpleFunctionRegistry: The function damerau_levenshtein replaced a previously registered function.\n"
     ]
    },
    {
     "name": "stderr",
     "output_type": "stream",
     "text": [
      "\r",
      "[Stage 371:=================================>                   (80 + 45) / 125]\r",
      "\r",
      "[Stage 371:===============================================>    (113 + 12) / 125]\r"
     ]
    },
    {
     "name": "stderr",
     "output_type": "stream",
     "text": [
      "\r",
      "[Stage 371:=================================================>   (117 + 8) / 125]\r"
     ]
    },
    {
     "name": "stderr",
     "output_type": "stream",
     "text": [
      "\r",
      "[Stage 371:==================================================>  (118 + 7) / 125]\r",
      "\r",
      "[Stage 371:==================================================>  (120 + 5) / 125]\r"
     ]
    },
    {
     "name": "stderr",
     "output_type": "stream",
     "text": [
      "\r",
      "[Stage 371:===================================================> (121 + 4) / 125]\r"
     ]
    },
    {
     "name": "stderr",
     "output_type": "stream",
     "text": [
      "\r",
      "[Stage 371:===================================================> (122 + 3) / 125]\r",
      "\r",
      "[Stage 371:====================================================>(123 + 2) / 125]\r"
     ]
    },
    {
     "name": "stderr",
     "output_type": "stream",
     "text": [
      "\r",
      "[Stage 371:====================================================>(124 + 1) / 125]\r"
     ]
    },
    {
     "name": "stderr",
     "output_type": "stream",
     "text": [
      "\r",
      "                                                                                \r"
     ]
    },
    {
     "name": "stdout",
     "output_type": "stream",
     "text": [
      "Number of pairs that will be compared: 42,245,585\n"
     ]
    },
    {
     "name": "stderr",
     "output_type": "stream",
     "text": [
      "\r",
      "[Stage 379:=========================>                            (15 + 17) / 32]\r",
      "\r",
      "[Stage 379:=====================================================> (31 + 1) / 32]\r"
     ]
    },
    {
     "name": "stderr",
     "output_type": "stream",
     "text": [
      "\r",
      "                                                                                \r"
     ]
    },
    {
     "name": "stderr",
     "output_type": "stream",
     "text": [
      "24/05/16 06:32:10 WARN DataSource: All paths were ignored:\n",
      "  file:/ihme/scratch/users/zmbc/person_linkage_case_study/results/ri/tmpCheckpoints/0bc9c889-22ec-443a-b9c5-504361150648/__splink__df_concat_with_tf_6882b575f\n"
     ]
    },
    {
     "name": "stderr",
     "output_type": "stream",
     "text": [
      "\r",
      "[Stage 385:>(56 + 8) / 64][Stage 386:>(57 + 7) / 64][Stage 387:>(0 + 35) / 64]\r"
     ]
    },
    {
     "name": "stderr",
     "output_type": "stream",
     "text": [
      "\r",
      "[Stage 387:>(62 + 2) / 64][Stage 388:>(7 + 48) / 64][Stage 389:> (0 + 0) / 64]\r",
      "\r",
      "[Stage 389:>(57 + 7) / 64][Stage 390:>(0 + 43) / 64][Stage 391:> (0 + 0) / 64]\r"
     ]
    },
    {
     "name": "stderr",
     "output_type": "stream",
     "text": [
      "\r",
      "[Stage 391:(31 + 33) / 64][Stage 392:>(0 + 17) / 64][Stage 393:> (0 + 0) / 64]\r",
      "\r",
      "[Stage 393:>(2 + 50) / 64][Stage 394:> (0 + 0) / 64][Stage 396:>  (0 + 0) / 3]\r"
     ]
    },
    {
     "name": "stderr",
     "output_type": "stream",
     "text": [
      "\r",
      "                                                                                \r"
     ]
    },
    {
     "name": "stderr",
     "output_type": "stream",
     "text": [
      "24/05/16 06:32:15 WARN DAGScheduler: Broadcasting large task binary with size 1031.6 KiB\n"
     ]
    },
    {
     "name": "stderr",
     "output_type": "stream",
     "text": [
      "\r",
      "[Stage 416:===========>                                         (58 + 50) / 260]\r",
      "\r",
      "[Stage 416:==============>                                      (71 + 50) / 260]\r"
     ]
    },
    {
     "name": "stderr",
     "output_type": "stream",
     "text": [
      "\r",
      "[Stage 416:=================>                                   (84 + 50) / 260]\r"
     ]
    },
    {
     "name": "stderr",
     "output_type": "stream",
     "text": [
      "\r",
      "[Stage 416:=================>                                   (85 + 50) / 260]\r",
      "\r",
      "[Stage 416:=================>                                   (86 + 50) / 260]\r"
     ]
    },
    {
     "name": "stderr",
     "output_type": "stream",
     "text": [
      "\r",
      "[Stage 416:=================>                                   (87 + 50) / 260]\r",
      "\r",
      "[Stage 416:=================>                                   (88 + 50) / 260]\r"
     ]
    },
    {
     "name": "stderr",
     "output_type": "stream",
     "text": [
      "\r",
      "[Stage 416:==================>                                  (91 + 50) / 260]\r",
      "\r",
      "[Stage 416:===================>                                 (94 + 50) / 260]\r"
     ]
    },
    {
     "name": "stderr",
     "output_type": "stream",
     "text": [
      "\r",
      "[Stage 416:====================>                               (100 + 50) / 260]\r",
      "\r",
      "[Stage 416:=====================>                              (106 + 50) / 260]\r"
     ]
    },
    {
     "name": "stderr",
     "output_type": "stream",
     "text": [
      "\r",
      "[Stage 416:=======================>                            (115 + 50) / 260]\r",
      "\r",
      "[Stage 416:==========================>                         (131 + 50) / 260]\r"
     ]
    },
    {
     "name": "stderr",
     "output_type": "stream",
     "text": [
      "\r",
      "[Stage 416:============================>                       (140 + 50) / 260]\r",
      "\r",
      "[Stage 416:==============================>                     (154 + 50) / 260]\r"
     ]
    },
    {
     "name": "stderr",
     "output_type": "stream",
     "text": [
      "\r",
      "[Stage 416:=================================>                  (169 + 50) / 260]\r",
      "\r",
      "[Stage 416:====================================>               (183 + 46) / 260]\r"
     ]
    },
    {
     "name": "stderr",
     "output_type": "stream",
     "text": [
      "\r",
      "[Stage 416:=====================================>              (187 + 45) / 260]\r",
      "\r",
      "[Stage 416:======================================>             (192 + 43) / 260]\r"
     ]
    },
    {
     "name": "stderr",
     "output_type": "stream",
     "text": [
      "\r",
      "[Stage 416:======================================>             (193 + 43) / 260]\r"
     ]
    },
    {
     "name": "stderr",
     "output_type": "stream",
     "text": [
      "\r",
      "[Stage 416:=======================================>            (195 + 42) / 260]\r",
      "\r",
      "[Stage 416:=======================================>            (196 + 42) / 260]\r"
     ]
    },
    {
     "name": "stderr",
     "output_type": "stream",
     "text": [
      "\r",
      "[Stage 416:=======================================>            (199 + 42) / 260]\r",
      "\r",
      "[Stage 416:========================================>           (201 + 42) / 260]\r"
     ]
    },
    {
     "name": "stderr",
     "output_type": "stream",
     "text": [
      "\r",
      "[Stage 416:========================================>           (203 + 42) / 260]\r",
      "\r",
      "[Stage 416:=========================================>          (205 + 42) / 260]\r"
     ]
    },
    {
     "name": "stderr",
     "output_type": "stream",
     "text": [
      "\r",
      "[Stage 416:=========================================>          (208 + 50) / 260]\r",
      "\r",
      "[Stage 416:==========================================>         (214 + 46) / 260]\r"
     ]
    },
    {
     "name": "stderr",
     "output_type": "stream",
     "text": [
      "\r",
      "[Stage 416:===========================================>        (219 + 41) / 260]\r"
     ]
    },
    {
     "name": "stderr",
     "output_type": "stream",
     "text": [
      "\r",
      "[Stage 416:============================================>       (221 + 39) / 260]\r",
      "\r",
      "[Stage 416:============================================>       (223 + 37) / 260]\r"
     ]
    },
    {
     "name": "stderr",
     "output_type": "stream",
     "text": [
      "\r",
      "[Stage 416:=============================================>      (226 + 34) / 260]\r",
      "\r",
      "[Stage 416:==============================================>     (232 + 28) / 260]\r"
     ]
    },
    {
     "name": "stderr",
     "output_type": "stream",
     "text": [
      "\r",
      "[Stage 416:===============================================>    (235 + 25) / 260]\r",
      "\r",
      "[Stage 416:===============================================>    (236 + 24) / 260]\r"
     ]
    },
    {
     "name": "stderr",
     "output_type": "stream",
     "text": [
      "\r",
      "[Stage 416:===============================================>    (238 + 22) / 260]\r"
     ]
    },
    {
     "name": "stderr",
     "output_type": "stream",
     "text": [
      "\r",
      "[Stage 416:===============================================>    (239 + 21) / 260]\r"
     ]
    },
    {
     "name": "stderr",
     "output_type": "stream",
     "text": [
      "\r",
      "[Stage 416:================================================>   (242 + 18) / 260]\r"
     ]
    },
    {
     "name": "stderr",
     "output_type": "stream",
     "text": [
      "\r",
      "[Stage 416:================================================>   (244 + 16) / 260]\r",
      "\r",
      "[Stage 416:=================================================>  (245 + 15) / 260]\r"
     ]
    },
    {
     "name": "stderr",
     "output_type": "stream",
     "text": [
      "\r",
      "[Stage 416:=================================================>  (249 + 11) / 260]\r",
      "\r",
      "[Stage 416:===================================================> (251 + 9) / 260]\r"
     ]
    },
    {
     "name": "stderr",
     "output_type": "stream",
     "text": [
      "\r",
      "[Stage 416:===================================================> (254 + 6) / 260]\r"
     ]
    },
    {
     "name": "stderr",
     "output_type": "stream",
     "text": [
      "\r",
      "[Stage 416:====================================================>(257 + 3) / 260]\r",
      "\r",
      "[Stage 416:====================================================>(258 + 2) / 260]\r"
     ]
    },
    {
     "name": "stderr",
     "output_type": "stream",
     "text": [
      "\r",
      "[Stage 419:=====================>                               (51 + 50) / 125]\r",
      "\r",
      "[Stage 419:====================================>                (85 + 40) / 125]\r"
     ]
    },
    {
     "name": "stderr",
     "output_type": "stream",
     "text": [
      "\r",
      "                                                                                \r"
     ]
    },
    {
     "name": "stderr",
     "output_type": "stream",
     "text": [
      "24/05/16 06:32:33 WARN DataSource: All paths were ignored:\n",
      "  file:/ihme/scratch/users/zmbc/person_linkage_case_study/results/ri/tmpCheckpoints/0bc9c889-22ec-443a-b9c5-504361150648/__splink__df_predict_f6948b06a\n"
     ]
    },
    {
     "name": "stderr",
     "output_type": "stream",
     "text": [
      "\r",
      "[Stage 432:===============================================>         (5 + 1) / 6]\r"
     ]
    },
    {
     "name": "stderr",
     "output_type": "stream",
     "text": [
      "\r",
      "                                                                                \r"
     ]
    },
    {
     "data": {
      "text/html": [
       "\n",
       "        <iframe\n",
       "            width=\"100%\"\n",
       "            height=\"1200\"\n",
       "            src=\"./splink_reports/ri/geosearch__house_number_and_street_name_Soundex.html\"\n",
       "            frameborder=\"0\"\n",
       "            allowfullscreen\n",
       "            \n",
       "        ></iframe>\n",
       "        "
      ],
      "text/plain": [
       "<IPython.lib.display.IFrame at 0x7fae11cb2aa0>"
      ]
     },
     "metadata": {},
     "output_type": "display_data"
    },
    {
     "name": "stderr",
     "output_type": "stream",
     "text": [
      "\r",
      "[Stage 433:================>                                    (40 + 50) / 125]\r",
      "\r",
      "[Stage 433:==========================>                          (62 + 50) / 125]\r"
     ]
    },
    {
     "name": "stderr",
     "output_type": "stream",
     "text": [
      "\r",
      "[Stage 433:=======================================>             (93 + 32) / 125]\r",
      "\r",
      "                                                                                \r"
     ]
    },
    {
     "name": "stdout",
     "output_type": "stream",
     "text": [
      "Imbalanced dataframe: too_few=False, too_many=True, too_large=False\n",
      "count       125.000000\n",
      "mean     242366.720000\n",
      "std        5862.739914\n",
      "min      230567.000000\n",
      "25%      237764.000000\n",
      "50%      242299.000000\n",
      "75%      246137.000000\n",
      "max      258541.000000\n",
      "dtype: float64\n",
      "Creating partitions of 100MB\n"
     ]
    },
    {
     "name": "stdout",
     "output_type": "stream",
     "text": [
      "Imbalanced dataframe: too_few=False, too_many=True, too_large=False\n",
      "count    1.450000e+02\n",
      "mean     3.942854e+06\n",
      "std      5.029264e+06\n",
      "min      0.000000e+00\n",
      "25%      4.450000e+04\n",
      "50%      8.150600e+05\n",
      "75%      1.097859e+07\n",
      "max      1.127304e+07\n",
      "dtype: float64\n",
      "Creating partitions of 100MB\n"
     ]
    },
    {
     "name": "stdout",
     "output_type": "stream",
     "text": [
      "Found 59,224 matches; 26.11% still eligible to match\n"
     ]
    }
   ],
   "source": [
    "person_linkage_cascade.run_matching_pass(\n",
    "    pass_name=\"house number and street name Soundex\",\n",
    "    blocking_columns=[\"street_number_for_blocking\", \"street_name_for_blocking_soundex\"],\n",
    ")"
   ]
  },
  {
   "cell_type": "markdown",
   "id": "f5b68b0c-f33b-42bb-a80f-22afae888216",
   "metadata": {
    "papermill": {
     "duration": 0.09729,
     "end_time": "2024-05-16T06:32:49.832413",
     "exception": false,
     "start_time": "2024-05-16T06:32:49.735123",
     "status": "completed"
    },
    "tags": []
   },
   "source": [
    "## Pass 4: Block on house number and street name Soundex, switching first and last names"
   ]
  },
  {
   "cell_type": "code",
   "execution_count": 74,
   "id": "d7665776-b592-4762-b4ca-f399ce9a95ec",
   "metadata": {
    "execution": {
     "iopub.execute_input": "2024-05-16T06:32:49.926864Z",
     "iopub.status.busy": "2024-05-16T06:32:49.926546Z",
     "iopub.status.idle": "2024-05-16T06:33:47.096807Z",
     "shell.execute_reply": "2024-05-16T06:33:47.091185Z"
    },
    "papermill": {
     "duration": 57.22198,
     "end_time": "2024-05-16T06:33:47.100789",
     "exception": false,
     "start_time": "2024-05-16T06:32:49.878809",
     "status": "completed"
    },
    "tags": []
   },
   "outputs": [
    {
     "name": "stdout",
     "output_type": "stream",
     "text": [
      "Running house number and street name Soundex name switch of geosearch\n"
     ]
    },
    {
     "name": "stdout",
     "output_type": "stream",
     "text": [
      "Files to link are 2,749,623 and 287,191 records\n"
     ]
    },
    {
     "name": "stdout",
     "output_type": "stream",
     "text": [
      "Imbalanced dataframe: too_few=False, too_many=True, too_large=False\n",
      "count       240.000000\n",
      "mean     114359.883333\n",
      "std      182906.599673\n",
      "min           0.000000\n",
      "25%           0.000000\n",
      "50%         467.000000\n",
      "75%      191884.500000\n",
      "max      745894.000000\n",
      "dtype: float64\n",
      "Creating partitions of 100MB\n"
     ]
    },
    {
     "name": "stderr",
     "output_type": "stream",
     "text": [
      "24/05/16 06:32:58 WARN SimpleFunctionRegistry: The function jaro_sim replaced a previously registered function.\n",
      "24/05/16 06:32:58 WARN SimpleFunctionRegistry: The function jaro_winkler replaced a previously registered function.\n",
      "24/05/16 06:32:58 WARN SimpleFunctionRegistry: The function jaccard replaced a previously registered function.\n",
      "24/05/16 06:32:58 WARN SimpleFunctionRegistry: The function cosine_distance replaced a previously registered function.\n",
      "24/05/16 06:32:58 WARN SimpleFunctionRegistry: The function dmetaphone replaced a previously registered function.\n",
      "24/05/16 06:32:58 WARN SimpleFunctionRegistry: The function dmetaphonealt replaced a previously registered function.\n",
      "24/05/16 06:32:58 WARN SimpleFunctionRegistry: The function qgramtokeniser replaced a previously registered function.\n",
      "24/05/16 06:32:58 WARN SimpleFunctionRegistry: The function damerau_levenshtein replaced a previously registered function.\n"
     ]
    },
    {
     "name": "stderr",
     "output_type": "stream",
     "text": [
      "\r",
      "[Stage 443:=================================================>   (117 + 8) / 125]\r"
     ]
    },
    {
     "name": "stderr",
     "output_type": "stream",
     "text": [
      "\r",
      "[Stage 443:==================================================>  (118 + 7) / 125]\r"
     ]
    },
    {
     "name": "stderr",
     "output_type": "stream",
     "text": [
      "\r",
      "[Stage 443:==================================================>  (119 + 6) / 125]\r"
     ]
    },
    {
     "name": "stderr",
     "output_type": "stream",
     "text": [
      "\r",
      "[Stage 443:==================================================>  (120 + 5) / 125]\r"
     ]
    },
    {
     "name": "stderr",
     "output_type": "stream",
     "text": [
      "\r",
      "[Stage 443:===================================================> (121 + 4) / 125]\r",
      "\r",
      "[Stage 443:===================================================> (122 + 3) / 125]\r"
     ]
    },
    {
     "name": "stderr",
     "output_type": "stream",
     "text": [
      "\r",
      "[Stage 443:====================================================>(123 + 2) / 125]\r"
     ]
    },
    {
     "name": "stderr",
     "output_type": "stream",
     "text": [
      "\r",
      "[Stage 443:====================================================>(124 + 1) / 125]\r"
     ]
    },
    {
     "name": "stderr",
     "output_type": "stream",
     "text": [
      "\r",
      "                                                                                \r"
     ]
    },
    {
     "name": "stdout",
     "output_type": "stream",
     "text": [
      "Number of pairs that will be compared: 31,897,498\n"
     ]
    },
    {
     "name": "stderr",
     "output_type": "stream",
     "text": [
      "\r",
      "[Stage 451:============>                                          (7 + 25) / 32]\r",
      "\r",
      "[Stage 451:=====================================================> (31 + 1) / 32]\r"
     ]
    },
    {
     "name": "stderr",
     "output_type": "stream",
     "text": [
      "\r",
      "                                                                                \r"
     ]
    },
    {
     "name": "stderr",
     "output_type": "stream",
     "text": [
      "24/05/16 06:33:12 WARN DataSource: All paths were ignored:\n",
      "  file:/ihme/scratch/users/zmbc/person_linkage_case_study/results/ri/tmpCheckpoints/0bc9c889-22ec-443a-b9c5-504361150648/__splink__df_concat_with_tf_6882b575f\n"
     ]
    },
    {
     "name": "stderr",
     "output_type": "stream",
     "text": [
      "\r",
      "[Stage 460:(34 + 30) / 64][Stage 461:>(0 + 20) / 64][Stage 462:> (0 + 0) / 64]\r",
      "\r",
      "[Stage 461:>(63 + 1) / 64][Stage 462:(34 + 30) / 64][Stage 463:>(0 + 19) / 64]\r"
     ]
    },
    {
     "name": "stderr",
     "output_type": "stream",
     "text": [
      "\r",
      "[Stage 464:(22 + 42) / 64][Stage 465:> (0 + 8) / 64][Stage 466:> (0 + 0) / 64]\r",
      "\r",
      "[Stage 466:======>       (30 + 34) / 64][Stage 468:========>        (1 + 1) / 2]\r"
     ]
    },
    {
     "name": "stderr",
     "output_type": "stream",
     "text": [
      "\r",
      "                                                                                \r"
     ]
    },
    {
     "name": "stderr",
     "output_type": "stream",
     "text": [
      "24/05/16 06:33:17 WARN DAGScheduler: Broadcasting large task binary with size 1031.6 KiB\n"
     ]
    },
    {
     "name": "stderr",
     "output_type": "stream",
     "text": [
      "\r",
      "[Stage 488:============>                                        (61 + 50) / 260]\r",
      "\r",
      "[Stage 488:==============>                                      (69 + 50) / 260]\r"
     ]
    },
    {
     "name": "stderr",
     "output_type": "stream",
     "text": [
      "\r",
      "[Stage 488:==============>                                      (73 + 50) / 260]\r",
      "\r",
      "[Stage 488:===============>                                     (74 + 50) / 260]\r"
     ]
    },
    {
     "name": "stderr",
     "output_type": "stream",
     "text": [
      "\r",
      "[Stage 488:===============>                                     (75 + 50) / 260]\r",
      "\r",
      "[Stage 488:================>                                    (80 + 50) / 260]\r"
     ]
    },
    {
     "name": "stderr",
     "output_type": "stream",
     "text": [
      "\r",
      "[Stage 488:==================>                                  (91 + 50) / 260]\r",
      "\r",
      "[Stage 488:=====================>                              (108 + 50) / 260]\r"
     ]
    },
    {
     "name": "stderr",
     "output_type": "stream",
     "text": [
      "\r",
      "[Stage 488:=========================>                          (129 + 50) / 260]\r",
      "\r",
      "[Stage 488:=============================>                      (145 + 50) / 260]\r"
     ]
    },
    {
     "name": "stderr",
     "output_type": "stream",
     "text": [
      "\r",
      "[Stage 488:===============================>                    (159 + 50) / 260]\r",
      "\r",
      "[Stage 488:==================================>                 (174 + 50) / 260]\r"
     ]
    },
    {
     "name": "stderr",
     "output_type": "stream",
     "text": [
      "\r",
      "[Stage 488:===================================>                (177 + 50) / 260]\r"
     ]
    },
    {
     "name": "stderr",
     "output_type": "stream",
     "text": [
      "\r",
      "[Stage 488:====================================>               (183 + 50) / 260]\r",
      "\r",
      "[Stage 488:=====================================>              (189 + 48) / 260]\r"
     ]
    },
    {
     "name": "stderr",
     "output_type": "stream",
     "text": [
      "\r",
      "[Stage 488:======================================>             (190 + 48) / 260]\r",
      "\r",
      "[Stage 488:======================================>             (192 + 48) / 260]\r"
     ]
    },
    {
     "name": "stderr",
     "output_type": "stream",
     "text": [
      "\r",
      "[Stage 488:=======================================>            (197 + 48) / 260]\r",
      "\r",
      "[Stage 488:========================================>           (200 + 47) / 260]\r"
     ]
    },
    {
     "name": "stderr",
     "output_type": "stream",
     "text": [
      "\r",
      "[Stage 488:=========================================>          (205 + 46) / 260]\r",
      "\r",
      "[Stage 488:===========================================>        (217 + 41) / 260]\r"
     ]
    },
    {
     "name": "stderr",
     "output_type": "stream",
     "text": [
      "\r",
      "[Stage 488:============================================>       (224 + 35) / 260]\r",
      "\r",
      "[Stage 488:=============================================>      (227 + 32) / 260]\r"
     ]
    },
    {
     "name": "stderr",
     "output_type": "stream",
     "text": [
      "\r",
      "[Stage 488:=============================================>      (228 + 32) / 260]\r",
      "\r",
      "[Stage 488:==============================================>     (232 + 28) / 260]\r"
     ]
    },
    {
     "name": "stderr",
     "output_type": "stream",
     "text": [
      "\r",
      "[Stage 488:===============================================>    (239 + 21) / 260]\r",
      "\r",
      "[Stage 488:================================================>   (243 + 17) / 260]\r"
     ]
    },
    {
     "name": "stderr",
     "output_type": "stream",
     "text": [
      "\r",
      "[Stage 488:=================================================>  (246 + 14) / 260]\r",
      "\r",
      "[Stage 488:=================================================>  (247 + 13) / 260]\r"
     ]
    },
    {
     "name": "stderr",
     "output_type": "stream",
     "text": [
      "\r",
      "[Stage 488:=================================================>  (248 + 12) / 260]\r"
     ]
    },
    {
     "name": "stderr",
     "output_type": "stream",
     "text": [
      "\r",
      "[Stage 488:=================================================>  (249 + 11) / 260]\r"
     ]
    },
    {
     "name": "stderr",
     "output_type": "stream",
     "text": [
      "\r",
      "[Stage 488:==================================================> (250 + 10) / 260]\r",
      "\r",
      "[Stage 488:===================================================> (252 + 8) / 260]\r"
     ]
    },
    {
     "name": "stderr",
     "output_type": "stream",
     "text": [
      "\r",
      "[Stage 488:===================================================> (254 + 6) / 260]\r",
      "\r",
      "[Stage 488:====================================================>(256 + 4) / 260]\r"
     ]
    },
    {
     "name": "stderr",
     "output_type": "stream",
     "text": [
      "\r",
      "[Stage 488:====================================================>(257 + 3) / 260]\r",
      "\r",
      "[Stage 488:====================================================>(258 + 2) / 260]\r"
     ]
    },
    {
     "name": "stderr",
     "output_type": "stream",
     "text": [
      "\r",
      "[Stage 488:====================================================>(259 + 1) / 260]\r"
     ]
    },
    {
     "name": "stderr",
     "output_type": "stream",
     "text": [
      "\r",
      "[Stage 491:====>                                                (10 + 50) / 125]\r",
      "\r",
      "[Stage 491:==================>                                  (43 + 50) / 125]\r"
     ]
    },
    {
     "name": "stderr",
     "output_type": "stream",
     "text": [
      "\r",
      "[Stage 491:============================>                        (67 + 50) / 125]\r",
      "\r",
      "[Stage 491:======================================>              (91 + 34) / 125]\r"
     ]
    },
    {
     "name": "stderr",
     "output_type": "stream",
     "text": [
      "\r",
      "                                                                                \r"
     ]
    },
    {
     "name": "stderr",
     "output_type": "stream",
     "text": [
      "24/05/16 06:33:32 WARN DataSource: All paths were ignored:\n",
      "  file:/ihme/scratch/users/zmbc/person_linkage_case_study/results/ri/tmpCheckpoints/0bc9c889-22ec-443a-b9c5-504361150648/__splink__df_predict_f6948b06a\n"
     ]
    },
    {
     "data": {
      "text/html": [
       "\n",
       "        <iframe\n",
       "            width=\"100%\"\n",
       "            height=\"1200\"\n",
       "            src=\"./splink_reports/ri/geosearch__house_number_and_street_name_Soundex_name_switch.html\"\n",
       "            frameborder=\"0\"\n",
       "            allowfullscreen\n",
       "            \n",
       "        ></iframe>\n",
       "        "
      ],
      "text/plain": [
       "<IPython.lib.display.IFrame at 0x7fadc76ff7f0>"
      ]
     },
     "metadata": {},
     "output_type": "display_data"
    },
    {
     "name": "stderr",
     "output_type": "stream",
     "text": [
      "\r",
      "[Stage 505:==============================>                      (73 + 51) / 125]\r",
      "\r",
      "[Stage 505:==================================================>  (118 + 7) / 125]\r"
     ]
    },
    {
     "name": "stderr",
     "output_type": "stream",
     "text": [
      "\r",
      "                                                                                \r"
     ]
    },
    {
     "name": "stdout",
     "output_type": "stream",
     "text": [
      "Imbalanced dataframe: too_few=False, too_many=True, too_large=False\n",
      "count    196.000000\n",
      "mean     108.607143\n",
      "std       92.939814\n",
      "min        0.000000\n",
      "25%        0.000000\n",
      "50%      124.000000\n",
      "75%      169.000000\n",
      "max      291.000000\n",
      "dtype: float64\n",
      "Creating partitions of 100MB\n"
     ]
    },
    {
     "name": "stdout",
     "output_type": "stream",
     "text": [
      "Found 203 matches; 26.10% still eligible to match\n"
     ]
    }
   ],
   "source": [
    "person_linkage_cascade.run_matching_pass(\n",
    "    pass_name=\"house number and street name Soundex name switch\",\n",
    "    blocking_columns=[\"street_number_for_blocking\", \"street_name_for_blocking_soundex\"],\n",
    "    input_data_transformation=switch_first_and_last_names,\n",
    ")"
   ]
  },
  {
   "cell_type": "markdown",
   "id": "c4753574-d776-4b83-9ca8-762a2d665ddc",
   "metadata": {
    "papermill": {
     "duration": 0.050074,
     "end_time": "2024-05-16T06:33:47.208427",
     "exception": false,
     "start_time": "2024-05-16T06:33:47.158353",
     "status": "completed"
    },
    "tags": []
   },
   "source": [
    "## Pass 5: Block on some name and DOB information"
   ]
  },
  {
   "cell_type": "code",
   "execution_count": 75,
   "id": "1924438b-d5ec-4bc7-a083-46d0165c9682",
   "metadata": {
    "execution": {
     "iopub.execute_input": "2024-05-16T06:33:47.309029Z",
     "iopub.status.busy": "2024-05-16T06:33:47.308350Z",
     "iopub.status.idle": "2024-05-16T06:34:29.256783Z",
     "shell.execute_reply": "2024-05-16T06:34:29.255061Z"
    },
    "papermill": {
     "duration": 42.003034,
     "end_time": "2024-05-16T06:34:29.260378",
     "exception": false,
     "start_time": "2024-05-16T06:33:47.257344",
     "status": "completed"
    },
    "tags": []
   },
   "outputs": [
    {
     "name": "stdout",
     "output_type": "stream",
     "text": [
      "Running some name and DOB information of geosearch\n"
     ]
    },
    {
     "name": "stdout",
     "output_type": "stream",
     "text": [
      "Files to link are 2,749,623 and 287,037 records\n"
     ]
    },
    {
     "name": "stdout",
     "output_type": "stream",
     "text": [
      "Imbalanced dataframe: too_few=False, too_many=True, too_large=False\n",
      "count       240.000000\n",
      "mean     114359.883333\n",
      "std      182906.599673\n",
      "min           0.000000\n",
      "25%           0.000000\n",
      "50%         467.000000\n",
      "75%      191884.500000\n",
      "max      745894.000000\n",
      "dtype: float64\n",
      "Creating partitions of 100MB\n"
     ]
    },
    {
     "name": "stderr",
     "output_type": "stream",
     "text": [
      "24/05/16 06:33:54 WARN SimpleFunctionRegistry: The function jaro_sim replaced a previously registered function.\n",
      "24/05/16 06:33:54 WARN SimpleFunctionRegistry: The function jaro_winkler replaced a previously registered function.\n",
      "24/05/16 06:33:54 WARN SimpleFunctionRegistry: The function jaccard replaced a previously registered function.\n",
      "24/05/16 06:33:54 WARN SimpleFunctionRegistry: The function cosine_distance replaced a previously registered function.\n",
      "24/05/16 06:33:54 WARN SimpleFunctionRegistry: The function dmetaphone replaced a previously registered function.\n",
      "24/05/16 06:33:54 WARN SimpleFunctionRegistry: The function dmetaphonealt replaced a previously registered function.\n",
      "24/05/16 06:33:54 WARN SimpleFunctionRegistry: The function qgramtokeniser replaced a previously registered function.\n",
      "24/05/16 06:33:54 WARN SimpleFunctionRegistry: The function damerau_levenshtein replaced a previously registered function.\n"
     ]
    },
    {
     "name": "stderr",
     "output_type": "stream",
     "text": [
      "\r",
      "[Stage 511:======================================================>(82 + 1) / 83]\r"
     ]
    },
    {
     "name": "stderr",
     "output_type": "stream",
     "text": [
      "\r",
      "[Stage 515:===================>                                 (46 + 50) / 125]\r",
      "\r",
      "[Stage 515:====================================>                (86 + 39) / 125]\r"
     ]
    },
    {
     "name": "stderr",
     "output_type": "stream",
     "text": [
      "\r",
      "[Stage 515:===================================================> (122 + 3) / 125]\r",
      "\r",
      "                                                                                \r"
     ]
    },
    {
     "name": "stdout",
     "output_type": "stream",
     "text": [
      "Number of pairs that will be compared: 965,416\n"
     ]
    },
    {
     "name": "stderr",
     "output_type": "stream",
     "text": [
      "\r",
      "[Stage 523:====================>                                 (12 + 20) / 32]\r",
      "\r",
      "[Stage 523:==========================================>            (25 + 7) / 32]\r"
     ]
    },
    {
     "name": "stderr",
     "output_type": "stream",
     "text": [
      "\r",
      "                                                                                \r"
     ]
    },
    {
     "name": "stderr",
     "output_type": "stream",
     "text": [
      "24/05/16 06:33:59 WARN DataSource: All paths were ignored:\n",
      "  file:/ihme/scratch/users/zmbc/person_linkage_case_study/results/ri/tmpCheckpoints/0bc9c889-22ec-443a-b9c5-504361150648/__splink__df_concat_with_tf_cc97cab66\n"
     ]
    },
    {
     "name": "stderr",
     "output_type": "stream",
     "text": [
      "\r",
      "[Stage 529:======================================>               (46 + 18) / 64]\r",
      "\r",
      "[Stage 532:(14 + 50) / 64][Stage 533:> (0 + 1) / 64][Stage 534:> (0 + 0) / 64]\r"
     ]
    },
    {
     "name": "stderr",
     "output_type": "stream",
     "text": [
      "\r",
      "[Stage 533:>(58 + 6) / 64][Stage 534:>(0 + 44) / 64][Stage 535:> (0 + 0) / 64]\r",
      "\r",
      "[Stage 534:>(63 + 1) / 64][Stage 535:(38 + 26) / 64][Stage 536:>(0 + 23) / 64]\r"
     ]
    },
    {
     "name": "stderr",
     "output_type": "stream",
     "text": [
      "\r",
      "[Stage 536:>(63 + 1) / 64][Stage 537:(30 + 34) / 64][Stage 538:>(0 + 15) / 64]\r",
      "\r",
      "                                                                                \r"
     ]
    },
    {
     "name": "stderr",
     "output_type": "stream",
     "text": [
      "24/05/16 06:34:04 WARN DAGScheduler: Broadcasting large task binary with size 1029.8 KiB\n"
     ]
    },
    {
     "name": "stderr",
     "output_type": "stream",
     "text": [
      "\r",
      "[Stage 560:=============>                                       (68 + 50) / 270]\r",
      "\r",
      "[Stage 560:===================>                                 (98 + 50) / 270]\r"
     ]
    },
    {
     "name": "stderr",
     "output_type": "stream",
     "text": [
      "\r",
      "[Stage 560:=======================>                            (124 + 50) / 270]\r",
      "\r",
      "[Stage 560:=============================>                      (154 + 50) / 270]\r"
     ]
    },
    {
     "name": "stderr",
     "output_type": "stream",
     "text": [
      "\r",
      "[Stage 560:===================================>                (183 + 50) / 270]\r",
      "\r",
      "[Stage 560:========================================>           (211 + 50) / 270]\r"
     ]
    },
    {
     "name": "stderr",
     "output_type": "stream",
     "text": [
      "\r",
      "[Stage 560:==============================================>     (239 + 31) / 270]\r",
      "\r",
      "[Stage 560:================================================>   (254 + 16) / 270]\r"
     ]
    },
    {
     "name": "stderr",
     "output_type": "stream",
     "text": [
      "\r",
      "[Stage 560:====================================================>(268 + 2) / 270]\r",
      "\r",
      "[Stage 560:====================================================>(269 + 1) / 270]\r"
     ]
    },
    {
     "name": "stderr",
     "output_type": "stream",
     "text": [
      "\r",
      "[Stage 563:==========>                                          (25 + 50) / 125]\r",
      "\r",
      "[Stage 563:==================>                                  (43 + 50) / 125]\r"
     ]
    },
    {
     "name": "stderr",
     "output_type": "stream",
     "text": [
      "\r",
      "[Stage 563:===============================>                     (74 + 50) / 125]\r",
      "\r",
      "[Stage 563:=========================================>           (99 + 26) / 125]\r"
     ]
    },
    {
     "name": "stderr",
     "output_type": "stream",
     "text": [
      "\r",
      "                                                                                \r"
     ]
    },
    {
     "name": "stderr",
     "output_type": "stream",
     "text": [
      "24/05/16 06:34:10 WARN DataSource: All paths were ignored:\n",
      "  file:/ihme/scratch/users/zmbc/person_linkage_case_study/results/ri/tmpCheckpoints/0bc9c889-22ec-443a-b9c5-504361150648/__splink__df_predict_b5f50e422\n"
     ]
    },
    {
     "name": "stderr",
     "output_type": "stream",
     "text": [
      "\r",
      "[Stage 576:===================================>                     (5 + 3) / 8]\r",
      "\r",
      "[Stage 576:==========================================>              (6 + 2) / 8]\r"
     ]
    },
    {
     "name": "stderr",
     "output_type": "stream",
     "text": [
      "\r",
      "[Stage 576:=================================================>       (7 + 1) / 8]\r"
     ]
    },
    {
     "name": "stderr",
     "output_type": "stream",
     "text": [
      "\r",
      "                                                                                \r"
     ]
    },
    {
     "data": {
      "text/html": [
       "\n",
       "        <iframe\n",
       "            width=\"100%\"\n",
       "            height=\"1200\"\n",
       "            src=\"./splink_reports/ri/geosearch__some_name_and_DOB_information.html\"\n",
       "            frameborder=\"0\"\n",
       "            allowfullscreen\n",
       "            \n",
       "        ></iframe>\n",
       "        "
      ],
      "text/plain": [
       "<IPython.lib.display.IFrame at 0x7fae592e98a0>"
      ]
     },
     "metadata": {},
     "output_type": "display_data"
    },
    {
     "name": "stderr",
     "output_type": "stream",
     "text": [
      "\r",
      "[Stage 577:=====================>                               (50 + 50) / 125]\r",
      "\r",
      "[Stage 577:===================================>                 (83 + 42) / 125]\r"
     ]
    },
    {
     "name": "stderr",
     "output_type": "stream",
     "text": [
      "\r",
      "[Stage 577:=============================================>      (110 + 15) / 125]\r",
      "\r",
      "                                                                                \r"
     ]
    },
    {
     "name": "stdout",
     "output_type": "stream",
     "text": [
      "Imbalanced dataframe: too_few=False, too_many=True, too_large=False\n",
      "count       125.000000\n",
      "mean     815132.632000\n",
      "std        3758.702484\n",
      "min      807344.000000\n",
      "25%      812564.000000\n",
      "50%      814573.000000\n",
      "75%      818052.000000\n",
      "max      823370.000000\n",
      "dtype: float64\n",
      "Creating partitions of 100MB\n"
     ]
    },
    {
     "name": "stdout",
     "output_type": "stream",
     "text": [
      "Imbalanced dataframe: too_few=False, too_many=True, too_large=False\n",
      "count    1.530000e+02\n",
      "mean     4.814899e+06\n",
      "std      1.939040e+07\n",
      "min      0.000000e+00\n",
      "25%      7.330000e+02\n",
      "50%      2.136000e+03\n",
      "75%      2.846977e+06\n",
      "max      1.045093e+08\n",
      "dtype: float64\n",
      "Creating partitions of 100MB\n"
     ]
    },
    {
     "name": "stdout",
     "output_type": "stream",
     "text": [
      "Found 204,148 matches; 13.82% still eligible to match\n"
     ]
    }
   ],
   "source": [
    "person_linkage_cascade.run_matching_pass(\n",
    "    pass_name=\"some name and DOB information\",\n",
    "    blocking_columns=[\"first_name_2\", \"last_name_2\", \"year_of_birth\"],\n",
    ")"
   ]
  },
  {
   "cell_type": "markdown",
   "id": "3f507b1e-61e6-448f-bc2e-afccc3020356",
   "metadata": {
    "papermill": {
     "duration": 0.049305,
     "end_time": "2024-05-16T06:34:29.367189",
     "exception": false,
     "start_time": "2024-05-16T06:34:29.317884",
     "status": "completed"
    },
    "tags": []
   },
   "source": [
    "## Post-process and confirm PIKs"
   ]
  },
  {
   "cell_type": "code",
   "execution_count": 76,
   "id": "30899aeb-e35f-4246-979c-af9f8235c3ab",
   "metadata": {
    "execution": {
     "iopub.execute_input": "2024-05-16T06:34:29.471217Z",
     "iopub.status.busy": "2024-05-16T06:34:29.470361Z",
     "iopub.status.idle": "2024-05-16T06:35:10.742939Z",
     "shell.execute_reply": "2024-05-16T06:35:10.734695Z"
    },
    "papermill": {
     "duration": 41.329959,
     "end_time": "2024-05-16T06:35:10.749030",
     "exception": false,
     "start_time": "2024-05-16T06:34:29.419071",
     "status": "completed"
    },
    "tags": []
   },
   "outputs": [
    {
     "name": "stdout",
     "output_type": "stream",
     "text": [
      "9,735 input records linked to deceased people, dropping links\n"
     ]
    },
    {
     "name": "stdout",
     "output_type": "stream",
     "text": [
      "414 input records linked to multiple PIKs, dropping links\n"
     ]
    }
   ],
   "source": [
    "person_linkage_cascade.confirm_piks()"
   ]
  },
  {
   "cell_type": "code",
   "execution_count": 77,
   "id": "0eea4fa2-588b-4555-a78e-8747da8db6fb",
   "metadata": {
    "execution": {
     "iopub.execute_input": "2024-05-16T06:35:10.864324Z",
     "iopub.status.busy": "2024-05-16T06:35:10.863649Z",
     "iopub.status.idle": "2024-05-16T06:35:11.082198Z",
     "shell.execute_reply": "2024-05-16T06:35:11.080937Z"
    },
    "papermill": {
     "duration": 0.274929,
     "end_time": "2024-05-16T06:35:11.085798",
     "exception": false,
     "start_time": "2024-05-16T06:35:10.810869",
     "status": "completed"
    },
    "tags": []
   },
   "outputs": [
    {
     "data": {
      "text/plain": [
       "module_name  pass_name                                       \n",
       "geosearch    geokey                                              756087\n",
       "             some name and DOB information                       133570\n",
       "             house number and street name Soundex                 44851\n",
       "             geokey name switch                                    2758\n",
       "             house number and street name Soundex name switch       153\n",
       "dtype: int64"
      ]
     },
     "execution_count": 77,
     "metadata": {},
     "output_type": "execute_result"
    }
   ],
   "source": [
    "df_ops.compute(person_linkage_cascade.confirmed_piks.groupby([\"module_name\", \"pass_name\"]).size()).sort_values(ascending=False)"
   ]
  },
  {
   "cell_type": "markdown",
   "id": "d64ae657-5248-4a78-b836-3a04e8732140",
   "metadata": {
    "papermill": {
     "duration": 0.050455,
     "end_time": "2024-05-16T06:35:11.191888",
     "exception": false,
     "start_time": "2024-05-16T06:35:11.141433",
     "status": "completed"
    },
    "tags": []
   },
   "source": [
    "# ZIP3 Adjacency Search\n",
    "\n",
    "Layne, Wagner, and Rothhaas (p. 6) refers to ZIP3 adjacency as a module and even provides\n",
    "a list of two passes within it in Appendix A.\n",
    "\n",
    "Alexander et al. (p. 6) refers to it the same way, as a module.\n",
    "\n",
    "However, Wagner and Layne (p. 14) says:\n",
    "\n",
    "> The GeoSearch module also incorporates the adjacency of neighboring areas with\n",
    "different zip3 values\n",
    "\n",
    "which implies this logic is a pass or passes *within* GeoSearch (and due to how cascading works,\n",
    "this is not just an academic distinction).\n",
    "\n",
    "There is no mention at all of ZIP3 adjacency in the Brown et al. paper from 2023.\n",
    "\n",
    "**TODO**: Determine whether this still exists, how it works if so, and implement it.\n",
    "Doesn't really make sense with the sample data since there is only one ZIP."
   ]
  },
  {
   "cell_type": "markdown",
   "id": "ca19c7f2-e129-4c96-b22e-a2983c40a15c",
   "metadata": {
    "papermill": {
     "duration": 0.05027,
     "end_time": "2024-05-16T06:35:11.294225",
     "exception": false,
     "start_time": "2024-05-16T06:35:11.243955",
     "status": "completed"
    },
    "tags": []
   },
   "source": [
    "# Movers\n",
    "\n",
    "The Movers module is not mentioned in Brown et al, nor in Wagner and Layne.\n",
    "\n",
    "In Layne, Wagner, and Rothhaas (p. 7), published in 2014, it is described as \"Prototyped only – not implemented in PVS\":\n",
    "\n",
    "> The Movers module is appropriate for input files that combine individuals together into\n",
    "> households.\n",
    "> The module seeks multiple members of an input household in one address that\n",
    "> may have moved together to another address.\n",
    "> To be eligible for this module the household size must be greater than one.\n",
    "> This module is being tested and was not used in the analysis for this paper.\n",
    "\n",
    "Alexander et al. (p. 6) a year later makes no note of it being experimental:\n",
    "\n",
    "> To be eligible for the Movers Module, no member of the household can have a\n",
    "> PIK and the household must consist of more than one member.\n",
    "> This module considers persons living at the same address as a unit and\n",
    "> searches for matching units living together in the reference file (without regard for address).\n",
    "\n",
    "Essentially the same text is included in Massey et al., published in 2018.\n",
    "\n",
    "Though it doesn't provide much information, [this document](https://gunnisonconsulting.com/docs/pdf/Record%20Linkage%20Slicksheet_FINAL.pdf)\n",
    "([archive](https://web.archive.org/web/20230705010237/https://gunnisonconsulting.com/docs/pdf/Record%20Linkage%20Slicksheet_FINAL.pdf))\n",
    "from the Gunnison consulting group states that they worked with Census and\n",
    "\"pioneered the transition from a record-by-record matching approach to an\n",
    "approach that better uses groups of records, such as full households, to make more\n",
    "and better links.\"\n",
    "Specifically, they claim that 16% of previously unlinked records were linked using\n",
    "the household-level approach.\n",
    "\n",
    "**TODO**: Haven't figured out if this is still in use, nor how it works.\n",
    "This module seems of particular interest, because it sounds like it is quite different\n",
    "from other modules."
   ]
  },
  {
   "cell_type": "markdown",
   "id": "b7412843-d6c2-4064-ab38-ab9335b9d71e",
   "metadata": {
    "papermill": {
     "duration": 0.049999,
     "end_time": "2024-05-16T06:35:11.395314",
     "exception": false,
     "start_time": "2024-05-16T06:35:11.345315",
     "status": "completed"
    },
    "tags": []
   },
   "source": [
    "# NameSearch\n",
    "\n",
    "Brown et al., p. 29:\n",
    "\n",
    "> ... the NameSearch module, which uses only name and DOB fields, comparing all combinations of\n",
    "alternate names and dates of birth.\n",
    "\n",
    "Wagner and Layne, p. 15:\n",
    "\n",
    "> The NameSearch module searches the reference files for records failing the\n",
    "Verification and GeoSearch Modules. Only name and date of birth data are used in this\n",
    "search process. NameSearch consists of multiple passes against the Numident Name\n",
    "Reference file, which contains all possible combinations of alternate names and\n",
    "alternate dates of birth for each SSN in the Census Numident file, and includes data for\n",
    "ITINs.\n",
    "> \n",
    "> The typical NameSearch blocking strategy starts with a strict first pass, blocking\n",
    "records by exact date of birth and parts of names. Successive passes block on parts of\n",
    "the name and date of birth fields to allow for some name and date of birth variation.\n",
    "The typical match variables are first, middle and last names, generational suffix, date of\n",
    "birth, and gender.\n",
    "\n",
    "As in GeoSearch, the only full listing I could find of passes with blocking and matching variables\n",
    "was in Layne, Wagner, and Rothhaas.\n",
    "This is probably somewhat out of date and is not what would be used on a CUF, but I have\n",
    "copied it exactly here."
   ]
  },
  {
   "cell_type": "code",
   "execution_count": 78,
   "id": "fdf41a6a-8c72-4c9a-bb8c-410d7877414f",
   "metadata": {
    "execution": {
     "iopub.execute_input": "2024-05-16T06:35:11.499492Z",
     "iopub.status.busy": "2024-05-16T06:35:11.498816Z",
     "iopub.status.idle": "2024-05-16T06:35:17.232569Z",
     "shell.execute_reply": "2024-05-16T06:35:17.222910Z"
    },
    "papermill": {
     "duration": 5.805766,
     "end_time": "2024-05-16T06:35:17.251868",
     "exception": false,
     "start_time": "2024-05-16T06:35:11.446102",
     "status": "completed"
    },
    "tags": []
   },
   "outputs": [],
   "source": [
    "person_linkage_cascade.start_module(\n",
    "    name=\"namesearch\",\n",
    "    reference_file=name_dob_reference_file,\n",
    "    reference_file_name=\"name_dob_reference_file\",\n",
    "    cut_columns=[\"first_initial_cut\", \"last_initial_cut\"],\n",
    "    matching_columns=[\n",
    "        \"first_name_15\",\n",
    "        \"last_name_12\",\n",
    "        \"middle_initial\",\n",
    "        \"day_of_birth\",\n",
    "        \"month_of_birth\",\n",
    "        \"year_of_birth\",\n",
    "    ],\n",
    ")"
   ]
  },
  {
   "cell_type": "markdown",
   "id": "bf43e928-be1c-4f2a-a747-e624c19d40d6",
   "metadata": {
    "papermill": {
     "duration": 0.051032,
     "end_time": "2024-05-16T06:35:17.365056",
     "exception": false,
     "start_time": "2024-05-16T06:35:17.314024",
     "status": "completed"
    },
    "tags": []
   },
   "source": [
    "## Pass 1: Block on DOB and NYSIIS of name"
   ]
  },
  {
   "cell_type": "code",
   "execution_count": 79,
   "id": "01e5baab-1b94-4359-9398-c829ebb2a920",
   "metadata": {
    "execution": {
     "iopub.execute_input": "2024-05-16T06:35:17.468422Z",
     "iopub.status.busy": "2024-05-16T06:35:17.467752Z",
     "iopub.status.idle": "2024-05-16T06:35:52.412192Z",
     "shell.execute_reply": "2024-05-16T06:35:52.410559Z"
    },
    "papermill": {
     "duration": 35.060053,
     "end_time": "2024-05-16T06:35:52.475716",
     "exception": false,
     "start_time": "2024-05-16T06:35:17.415663",
     "status": "completed"
    },
    "tags": []
   },
   "outputs": [
    {
     "name": "stdout",
     "output_type": "stream",
     "text": [
      "Running DOB and NYSIIS of name of namesearch\n",
      "Files to link are 1,803,208 and 161,167 records\n"
     ]
    },
    {
     "name": "stderr",
     "output_type": "stream",
     "text": [
      "24/05/16 06:35:22 WARN SimpleFunctionRegistry: The function jaro_sim replaced a previously registered function.\n",
      "24/05/16 06:35:22 WARN SimpleFunctionRegistry: The function jaro_winkler replaced a previously registered function.\n",
      "24/05/16 06:35:22 WARN SimpleFunctionRegistry: The function jaccard replaced a previously registered function.\n",
      "24/05/16 06:35:22 WARN SimpleFunctionRegistry: The function cosine_distance replaced a previously registered function.\n",
      "24/05/16 06:35:22 WARN SimpleFunctionRegistry: The function dmetaphone replaced a previously registered function.\n",
      "24/05/16 06:35:22 WARN SimpleFunctionRegistry: The function dmetaphonealt replaced a previously registered function.\n",
      "24/05/16 06:35:22 WARN SimpleFunctionRegistry: The function qgramtokeniser replaced a previously registered function.\n",
      "24/05/16 06:35:22 WARN SimpleFunctionRegistry: The function damerau_levenshtein replaced a previously registered function.\n"
     ]
    },
    {
     "name": "stderr",
     "output_type": "stream",
     "text": [
      "\r",
      "[Stage 588:=============================================>      (109 + 16) / 125]\r",
      "\r",
      "                                                                                \r"
     ]
    },
    {
     "name": "stdout",
     "output_type": "stream",
     "text": [
      "Number of pairs that will be compared: 45,579\n"
     ]
    },
    {
     "name": "stderr",
     "output_type": "stream",
     "text": [
      "\r",
      "[Stage 596:============================>                         (17 + 15) / 32]\r",
      "\r",
      "                                                                                \r"
     ]
    },
    {
     "name": "stderr",
     "output_type": "stream",
     "text": [
      "24/05/16 06:35:26 WARN DataSource: All paths were ignored:\n",
      "  file:/ihme/scratch/users/zmbc/person_linkage_case_study/results/ri/tmpCheckpoints/0bc9c889-22ec-443a-b9c5-504361150648/__splink__df_concat_with_tf_e46d7442a\n"
     ]
    },
    {
     "name": "stderr",
     "output_type": "stream",
     "text": [
      "\r",
      "[Stage 602:==============>(31 + 1) / 32][Stage 606:========>     (20 + 12) / 32]\r",
      "\r",
      "[Stage 608:>(30 + 2) / 32][Stage 609:(13 + 19) / 32][Stage 610:>(0 + 29) / 32]\r"
     ]
    },
    {
     "name": "stderr",
     "output_type": "stream",
     "text": [
      "\r",
      "                                                                                \r"
     ]
    },
    {
     "name": "stderr",
     "output_type": "stream",
     "text": [
      "\r",
      "[Stage 633:==============>                                      (74 + 47) / 270]\r",
      "\r",
      "[Stage 633:======================>                             (116 + 47) / 270]\r"
     ]
    },
    {
     "name": "stderr",
     "output_type": "stream",
     "text": [
      "\r",
      "[Stage 633:==============================>                     (159 + 47) / 270]\r",
      "\r",
      "[Stage 633:======================================>             (199 + 34) / 270]\r"
     ]
    },
    {
     "name": "stderr",
     "output_type": "stream",
     "text": [
      "\r",
      "[Stage 633:============================================>       (232 + 28) / 270]\r",
      "\r",
      "[Stage 633:=================================================>  (257 + 13) / 270]\r"
     ]
    },
    {
     "name": "stderr",
     "output_type": "stream",
     "text": [
      "\r",
      "[Stage 633:====================================================>(269 + 1) / 270]\r"
     ]
    },
    {
     "name": "stderr",
     "output_type": "stream",
     "text": [
      "\r",
      "[Stage 636:====================>                                (49 + 50) / 125]\r",
      "\r",
      "[Stage 636:================================>                    (76 + 49) / 125]\r"
     ]
    },
    {
     "name": "stderr",
     "output_type": "stream",
     "text": [
      "\r",
      "[Stage 636:=============================================>      (110 + 15) / 125]\r",
      "\r",
      "                                                                                \r"
     ]
    },
    {
     "name": "stderr",
     "output_type": "stream",
     "text": [
      "24/05/16 06:35:35 WARN DataSource: All paths were ignored:\n",
      "  file:/ihme/scratch/users/zmbc/person_linkage_case_study/results/ri/tmpCheckpoints/0bc9c889-22ec-443a-b9c5-504361150648/__splink__df_predict_fe167a710\n"
     ]
    },
    {
     "name": "stderr",
     "output_type": "stream",
     "text": [
      "\r",
      "[Stage 649:>                                                        (0 + 1) / 1]\r",
      "\r",
      "                                                                                \r"
     ]
    },
    {
     "data": {
      "text/html": [
       "\n",
       "        <iframe\n",
       "            width=\"100%\"\n",
       "            height=\"1200\"\n",
       "            src=\"./splink_reports/ri/namesearch__DOB_and_NYSIIS_of_name.html\"\n",
       "            frameborder=\"0\"\n",
       "            allowfullscreen\n",
       "            \n",
       "        ></iframe>\n",
       "        "
      ],
      "text/plain": [
       "<IPython.lib.display.IFrame at 0x7faca4109180>"
      ]
     },
     "metadata": {},
     "output_type": "display_data"
    },
    {
     "name": "stderr",
     "output_type": "stream",
     "text": [
      "\r",
      "[Stage 650:===============>                                     (36 + 50) / 125]\r",
      "\r",
      "[Stage 650:========================>                            (58 + 50) / 125]\r"
     ]
    },
    {
     "name": "stderr",
     "output_type": "stream",
     "text": [
      "\r",
      "[Stage 650:====================================>                (87 + 38) / 125]\r",
      "\r",
      "                                                                                \r"
     ]
    },
    {
     "name": "stdout",
     "output_type": "stream",
     "text": [
      "Imbalanced dataframe: too_few=False, too_many=True, too_large=False\n",
      "count       125.000000\n",
      "mean     157765.880000\n",
      "std        1471.920348\n",
      "min      154387.000000\n",
      "25%      156692.000000\n",
      "50%      157665.000000\n",
      "75%      158801.000000\n",
      "max      161422.000000\n",
      "dtype: float64\n",
      "Creating partitions of 100MB\n"
     ]
    },
    {
     "name": "stdout",
     "output_type": "stream",
     "text": [
      "Found 45,456 matches; 10.52% still eligible to match\n"
     ]
    }
   ],
   "source": [
    "person_linkage_cascade.run_matching_pass(\n",
    "    pass_name=\"DOB and NYSIIS of name\",\n",
    "    blocking_columns=[\"day_of_birth\", \"month_of_birth\", \"year_of_birth\", \"first_name_nysiis\", \"last_name_nysiis\"],\n",
    ")"
   ]
  },
  {
   "cell_type": "markdown",
   "id": "bedbec09-ed90-4d7d-9fe3-4a934b6d8bce",
   "metadata": {
    "papermill": {
     "duration": 0.050907,
     "end_time": "2024-05-16T06:35:52.577678",
     "exception": false,
     "start_time": "2024-05-16T06:35:52.526771",
     "status": "completed"
    },
    "tags": []
   },
   "source": [
    "## Pass 2: Block on DOB and initials"
   ]
  },
  {
   "cell_type": "code",
   "execution_count": 80,
   "id": "7011e74c-b87e-436c-9c75-5fe23fafdd8e",
   "metadata": {
    "execution": {
     "iopub.execute_input": "2024-05-16T06:35:52.682997Z",
     "iopub.status.busy": "2024-05-16T06:35:52.682346Z",
     "iopub.status.idle": "2024-05-16T06:36:24.973950Z",
     "shell.execute_reply": "2024-05-16T06:36:24.965059Z"
    },
    "papermill": {
     "duration": 32.389683,
     "end_time": "2024-05-16T06:36:25.018661",
     "exception": false,
     "start_time": "2024-05-16T06:35:52.628978",
     "status": "completed"
    },
    "tags": []
   },
   "outputs": [
    {
     "name": "stdout",
     "output_type": "stream",
     "text": [
      "Running DOB and initials of namesearch\n",
      "Files to link are 1,803,208 and 115,717 records\n"
     ]
    },
    {
     "name": "stderr",
     "output_type": "stream",
     "text": [
      "24/05/16 06:35:58 WARN SimpleFunctionRegistry: The function jaro_sim replaced a previously registered function.\n",
      "24/05/16 06:35:58 WARN SimpleFunctionRegistry: The function jaro_winkler replaced a previously registered function.\n",
      "24/05/16 06:35:58 WARN SimpleFunctionRegistry: The function jaccard replaced a previously registered function.\n",
      "24/05/16 06:35:58 WARN SimpleFunctionRegistry: The function cosine_distance replaced a previously registered function.\n",
      "24/05/16 06:35:58 WARN SimpleFunctionRegistry: The function dmetaphone replaced a previously registered function.\n",
      "24/05/16 06:35:58 WARN SimpleFunctionRegistry: The function dmetaphonealt replaced a previously registered function.\n",
      "24/05/16 06:35:58 WARN SimpleFunctionRegistry: The function qgramtokeniser replaced a previously registered function.\n",
      "24/05/16 06:35:58 WARN SimpleFunctionRegistry: The function damerau_levenshtein replaced a previously registered function.\n"
     ]
    },
    {
     "name": "stdout",
     "output_type": "stream",
     "text": [
      "Number of pairs that will be compared: 30,118\n"
     ]
    },
    {
     "name": "stderr",
     "output_type": "stream",
     "text": [
      "24/05/16 06:36:01 WARN DataSource: All paths were ignored:\n",
      "  file:/ihme/scratch/users/zmbc/person_linkage_case_study/results/ri/tmpCheckpoints/0bc9c889-22ec-443a-b9c5-504361150648/__splink__df_concat_with_tf_bc1aafb5c\n"
     ]
    },
    {
     "name": "stderr",
     "output_type": "stream",
     "text": [
      "\r",
      "[Stage 680:>(31 + 1) / 32][Stage 681:>(23 + 9) / 32][Stage 682:>(2 + 30) / 32]\r",
      "\r",
      "                                                                                \r"
     ]
    },
    {
     "name": "stderr",
     "output_type": "stream",
     "text": [
      "\r",
      "[Stage 705:====================>                               (104 + 50) / 270]\r",
      "\r",
      "[Stage 705:=============================>                      (154 + 47) / 270]\r"
     ]
    },
    {
     "name": "stderr",
     "output_type": "stream",
     "text": [
      "\r",
      "[Stage 705:======================================>             (200 + 35) / 270]\r",
      "\r",
      "[Stage 705:=============================================>      (238 + 12) / 270]\r"
     ]
    },
    {
     "name": "stderr",
     "output_type": "stream",
     "text": [
      "\r",
      "[Stage 705:================================================>   (250 + 10) / 270]\r",
      "\r",
      "[Stage 705:=================================================>  (258 + 10) / 270]\r"
     ]
    },
    {
     "name": "stderr",
     "output_type": "stream",
     "text": [
      "\r",
      "[Stage 705:====================================================>(268 + 2) / 270]\r"
     ]
    },
    {
     "name": "stderr",
     "output_type": "stream",
     "text": [
      "\r",
      "[Stage 708:======================>                              (52 + 50) / 125]\r",
      "\r",
      "[Stage 708:====================================>                (85 + 40) / 125]\r"
     ]
    },
    {
     "name": "stderr",
     "output_type": "stream",
     "text": [
      "\r",
      "[Stage 708:====================================================>(124 + 1) / 125]\r",
      "\r",
      "                                                                                \r"
     ]
    },
    {
     "name": "stderr",
     "output_type": "stream",
     "text": [
      "24/05/16 06:36:10 WARN DataSource: All paths were ignored:\n",
      "  file:/ihme/scratch/users/zmbc/person_linkage_case_study/results/ri/tmpCheckpoints/0bc9c889-22ec-443a-b9c5-504361150648/__splink__df_predict_4c305df0d\n"
     ]
    },
    {
     "data": {
      "text/html": [
       "\n",
       "        <iframe\n",
       "            width=\"100%\"\n",
       "            height=\"1200\"\n",
       "            src=\"./splink_reports/ri/namesearch__DOB_and_initials.html\"\n",
       "            frameborder=\"0\"\n",
       "            allowfullscreen\n",
       "            \n",
       "        ></iframe>\n",
       "        "
      ],
      "text/plain": [
       "<IPython.lib.display.IFrame at 0x7fae12792980>"
      ]
     },
     "metadata": {},
     "output_type": "display_data"
    },
    {
     "name": "stderr",
     "output_type": "stream",
     "text": [
      "\r",
      "[Stage 722:=========================>                           (59 + 50) / 125]\r",
      "\r",
      "[Stage 722:=======================================>             (93 + 32) / 125]\r"
     ]
    },
    {
     "name": "stderr",
     "output_type": "stream",
     "text": [
      "\r",
      "[Stage 722:=============================================>      (110 + 15) / 125]\r",
      "\r",
      "                                                                                \r"
     ]
    },
    {
     "name": "stdout",
     "output_type": "stream",
     "text": [
      "Imbalanced dataframe: too_few=False, too_many=True, too_large=False\n",
      "count      125.000000\n",
      "mean      9183.624000\n",
      "std       1662.286657\n",
      "min       5105.000000\n",
      "25%       8064.000000\n",
      "50%       9282.000000\n",
      "75%      10113.000000\n",
      "max      13484.000000\n",
      "dtype: float64\n",
      "Creating partitions of 100MB\n"
     ]
    },
    {
     "name": "stdout",
     "output_type": "stream",
     "text": [
      "Found 2,710 matches; 10.27% still eligible to match\n"
     ]
    }
   ],
   "source": [
    "person_linkage_cascade.run_matching_pass(\n",
    "    pass_name=\"DOB and initials\",\n",
    "    blocking_columns=[\"day_of_birth\", \"month_of_birth\", \"year_of_birth\", \"first_name_1\", \"last_name_1\"],\n",
    ")"
   ]
  },
  {
   "cell_type": "markdown",
   "id": "1d3e5dad-fbb8-4e7f-9b31-8ef079623b71",
   "metadata": {
    "papermill": {
     "duration": 0.05194,
     "end_time": "2024-05-16T06:36:25.121918",
     "exception": false,
     "start_time": "2024-05-16T06:36:25.069978",
     "status": "completed"
    },
    "tags": []
   },
   "source": [
    "## Pass 3: Block on year of birth and first two characters of name"
   ]
  },
  {
   "cell_type": "code",
   "execution_count": 81,
   "id": "afdc57ab-bf73-4524-a82a-4242a7e37be3",
   "metadata": {
    "execution": {
     "iopub.execute_input": "2024-05-16T06:36:25.227304Z",
     "iopub.status.busy": "2024-05-16T06:36:25.226625Z",
     "iopub.status.idle": "2024-05-16T06:37:00.291784Z",
     "shell.execute_reply": "2024-05-16T06:37:00.290336Z"
    },
    "papermill": {
     "duration": 35.18034,
     "end_time": "2024-05-16T06:37:00.353911",
     "exception": false,
     "start_time": "2024-05-16T06:36:25.173571",
     "status": "completed"
    },
    "tags": []
   },
   "outputs": [
    {
     "name": "stdout",
     "output_type": "stream",
     "text": [
      "Running year of birth and first two characters of name of namesearch\n",
      "Files to link are 1,803,208 and 113,007 records\n"
     ]
    },
    {
     "name": "stderr",
     "output_type": "stream",
     "text": [
      "24/05/16 06:36:31 WARN SimpleFunctionRegistry: The function jaro_sim replaced a previously registered function.\n",
      "24/05/16 06:36:31 WARN SimpleFunctionRegistry: The function jaro_winkler replaced a previously registered function.\n",
      "24/05/16 06:36:31 WARN SimpleFunctionRegistry: The function jaccard replaced a previously registered function.\n",
      "24/05/16 06:36:31 WARN SimpleFunctionRegistry: The function cosine_distance replaced a previously registered function.\n",
      "24/05/16 06:36:31 WARN SimpleFunctionRegistry: The function dmetaphone replaced a previously registered function.\n",
      "24/05/16 06:36:31 WARN SimpleFunctionRegistry: The function dmetaphonealt replaced a previously registered function.\n",
      "24/05/16 06:36:31 WARN SimpleFunctionRegistry: The function qgramtokeniser replaced a previously registered function.\n",
      "24/05/16 06:36:31 WARN SimpleFunctionRegistry: The function damerau_levenshtein replaced a previously registered function.\n"
     ]
    },
    {
     "name": "stderr",
     "output_type": "stream",
     "text": [
      "\r",
      "[Stage 732:===============================================>    (115 + 10) / 125]\r",
      "\r",
      "                                                                                \r"
     ]
    },
    {
     "name": "stdout",
     "output_type": "stream",
     "text": [
      "Number of pairs that will be compared: 313,302\n"
     ]
    },
    {
     "name": "stderr",
     "output_type": "stream",
     "text": [
      "24/05/16 06:36:34 WARN DataSource: All paths were ignored:\n",
      "  file:/ihme/scratch/users/zmbc/person_linkage_case_study/results/ri/tmpCheckpoints/0bc9c889-22ec-443a-b9c5-504361150648/__splink__df_concat_with_tf_0dd9532a5\n"
     ]
    },
    {
     "name": "stderr",
     "output_type": "stream",
     "text": [
      "\r",
      "[Stage 752:>(28 + 4) / 32][Stage 753:>(3 + 29) / 32][Stage 754:>(0 + 17) / 32]\r",
      "\r",
      "                                                                                \r"
     ]
    },
    {
     "name": "stderr",
     "output_type": "stream",
     "text": [
      "\r",
      "[Stage 777:=======================>                            (116 + 50) / 260]\r",
      "\r",
      "[Stage 777:================================>                   (163 + 48) / 260]\r"
     ]
    },
    {
     "name": "stderr",
     "output_type": "stream",
     "text": [
      "\r",
      "[Stage 777:=========================================>          (209 + 35) / 260]\r",
      "\r",
      "[Stage 777:================================================>   (242 + 14) / 260]\r"
     ]
    },
    {
     "name": "stderr",
     "output_type": "stream",
     "text": [
      "\r",
      "[Stage 777:====================================================>(257 + 3) / 260]\r"
     ]
    },
    {
     "name": "stderr",
     "output_type": "stream",
     "text": [
      "\r",
      "[Stage 780:==================>                                  (43 + 50) / 125]\r",
      "\r",
      "[Stage 780:==========================>                          (62 + 50) / 125]\r"
     ]
    },
    {
     "name": "stderr",
     "output_type": "stream",
     "text": [
      "\r",
      "[Stage 780:=================================>                   (79 + 46) / 125]\r",
      "\r",
      "[Stage 780:===================================================> (121 + 4) / 125]\r"
     ]
    },
    {
     "name": "stderr",
     "output_type": "stream",
     "text": [
      "\r",
      "                                                                                \r"
     ]
    },
    {
     "name": "stderr",
     "output_type": "stream",
     "text": [
      "24/05/16 06:36:43 WARN DataSource: All paths were ignored:\n",
      "  file:/ihme/scratch/users/zmbc/person_linkage_case_study/results/ri/tmpCheckpoints/0bc9c889-22ec-443a-b9c5-504361150648/__splink__df_predict_b1f4f2418\n"
     ]
    },
    {
     "data": {
      "text/html": [
       "\n",
       "        <iframe\n",
       "            width=\"100%\"\n",
       "            height=\"1200\"\n",
       "            src=\"./splink_reports/ri/namesearch__year_of_birth_and_first_two_characters_of_name.html\"\n",
       "            frameborder=\"0\"\n",
       "            allowfullscreen\n",
       "            \n",
       "        ></iframe>\n",
       "        "
      ],
      "text/plain": [
       "<IPython.lib.display.IFrame at 0x7fae44587f40>"
      ]
     },
     "metadata": {},
     "output_type": "display_data"
    },
    {
     "name": "stderr",
     "output_type": "stream",
     "text": [
      "\r",
      "[Stage 794:===================================================> (121 + 4) / 125]\r",
      "\r",
      "                                                                                \r"
     ]
    },
    {
     "name": "stdout",
     "output_type": "stream",
     "text": [
      "Imbalanced dataframe: too_few=False, too_many=True, too_large=False\n",
      "count       163.000000\n",
      "mean     182081.907975\n",
      "std      260722.611488\n",
      "min           0.000000\n",
      "25%         637.500000\n",
      "50%       32074.000000\n",
      "75%      562488.500000\n",
      "max      638776.000000\n",
      "dtype: float64\n",
      "Creating partitions of 100MB\n"
     ]
    },
    {
     "name": "stdout",
     "output_type": "stream",
     "text": [
      "Found 93 matches; 10.27% still eligible to match\n"
     ]
    }
   ],
   "source": [
    "person_linkage_cascade.run_matching_pass(\n",
    "    pass_name=\"year of birth and first two characters of name\",\n",
    "    blocking_columns=[\"year_of_birth\", \"first_name_2\", \"last_name_2\"],\n",
    ")"
   ]
  },
  {
   "cell_type": "markdown",
   "id": "980962d2-3da2-4ca1-82b6-6452e6fce0f8",
   "metadata": {
    "papermill": {
     "duration": 0.052329,
     "end_time": "2024-05-16T06:37:00.458259",
     "exception": false,
     "start_time": "2024-05-16T06:37:00.405930",
     "status": "completed"
    },
    "tags": []
   },
   "source": [
    "## Pass 4: Block on birthday and first two characters of name"
   ]
  },
  {
   "cell_type": "code",
   "execution_count": 82,
   "id": "9ea04745-1b41-4e13-8975-bb2e015c3fa2",
   "metadata": {
    "execution": {
     "iopub.execute_input": "2024-05-16T06:37:00.565279Z",
     "iopub.status.busy": "2024-05-16T06:37:00.564463Z",
     "iopub.status.idle": "2024-05-16T06:37:20.886528Z",
     "shell.execute_reply": "2024-05-16T06:37:20.884111Z"
    },
    "papermill": {
     "duration": 20.380479,
     "end_time": "2024-05-16T06:37:20.890654",
     "exception": false,
     "start_time": "2024-05-16T06:37:00.510175",
     "status": "completed"
    },
    "tags": []
   },
   "outputs": [
    {
     "name": "stdout",
     "output_type": "stream",
     "text": [
      "Running birthday and first two characters of name of namesearch\n"
     ]
    },
    {
     "name": "stdout",
     "output_type": "stream",
     "text": [
      "Files to link are 1,803,208 and 112,914 records\n"
     ]
    },
    {
     "name": "stderr",
     "output_type": "stream",
     "text": [
      "24/05/16 06:37:06 WARN SimpleFunctionRegistry: The function jaro_sim replaced a previously registered function.\n",
      "24/05/16 06:37:06 WARN SimpleFunctionRegistry: The function jaro_winkler replaced a previously registered function.\n",
      "24/05/16 06:37:06 WARN SimpleFunctionRegistry: The function jaccard replaced a previously registered function.\n",
      "24/05/16 06:37:06 WARN SimpleFunctionRegistry: The function cosine_distance replaced a previously registered function.\n",
      "24/05/16 06:37:06 WARN SimpleFunctionRegistry: The function dmetaphone replaced a previously registered function.\n",
      "24/05/16 06:37:06 WARN SimpleFunctionRegistry: The function dmetaphonealt replaced a previously registered function.\n",
      "24/05/16 06:37:06 WARN SimpleFunctionRegistry: The function qgramtokeniser replaced a previously registered function.\n",
      "24/05/16 06:37:06 WARN SimpleFunctionRegistry: The function damerau_levenshtein replaced a previously registered function.\n"
     ]
    },
    {
     "name": "stdout",
     "output_type": "stream",
     "text": [
      "Number of pairs that will be compared: 72,486\n"
     ]
    },
    {
     "name": "stderr",
     "output_type": "stream",
     "text": [
      "24/05/16 06:37:09 WARN DataSource: All paths were ignored:\n",
      "  file:/ihme/scratch/users/zmbc/person_linkage_case_study/results/ri/tmpCheckpoints/0bc9c889-22ec-443a-b9c5-504361150648/__splink__df_concat_with_tf_ea08c070a\n"
     ]
    },
    {
     "name": "stderr",
     "output_type": "stream",
     "text": [
      "\r",
      "[Stage 825:>(30 + 2) / 32][Stage 826:(11 + 21) / 32][Stage 827:>(0 + 27) / 32]\r",
      "\r",
      "                                                                                \r"
     ]
    },
    {
     "name": "stderr",
     "output_type": "stream",
     "text": [
      "\r",
      "[Stage 849:=========================>                          (132 + 50) / 270]\r",
      "\r",
      "[Stage 849:==================================>                 (180 + 49) / 270]\r"
     ]
    },
    {
     "name": "stderr",
     "output_type": "stream",
     "text": [
      "\r",
      "[Stage 849:============================================>       (229 + 26) / 270]\r",
      "\r",
      "[Stage 849:=================================================>  (258 + 12) / 270]\r"
     ]
    },
    {
     "name": "stderr",
     "output_type": "stream",
     "text": [
      "\r",
      "[Stage 852:=================>                                   (42 + 50) / 125]\r",
      "\r",
      "[Stage 852:=============================>                       (69 + 50) / 125]\r"
     ]
    },
    {
     "name": "stderr",
     "output_type": "stream",
     "text": [
      "\r",
      "[Stage 852:=========================================>          (100 + 25) / 125]\r",
      "\r",
      "                                                                                \r"
     ]
    },
    {
     "name": "stderr",
     "output_type": "stream",
     "text": [
      "24/05/16 06:37:17 WARN DataSource: All paths were ignored:\n",
      "  file:/ihme/scratch/users/zmbc/person_linkage_case_study/results/ri/tmpCheckpoints/0bc9c889-22ec-443a-b9c5-504361150648/__splink__df_predict_42accac50\n"
     ]
    },
    {
     "data": {
      "text/html": [
       "\n",
       "        <iframe\n",
       "            width=\"100%\"\n",
       "            height=\"1200\"\n",
       "            src=\"./splink_reports/ri/namesearch__birthday_and_first_two_characters_of_name.html\"\n",
       "            frameborder=\"0\"\n",
       "            allowfullscreen\n",
       "            \n",
       "        ></iframe>\n",
       "        "
      ],
      "text/plain": [
       "<IPython.lib.display.IFrame at 0x7fae11d71db0>"
      ]
     },
     "metadata": {},
     "output_type": "display_data"
    },
    {
     "name": "stdout",
     "output_type": "stream",
     "text": [
      "Imbalanced dataframe: too_few=True, too_many=False, too_large=False\n",
      "count      1.0\n",
      "mean     124.0\n",
      "std        NaN\n",
      "min      124.0\n",
      "25%      124.0\n",
      "50%      124.0\n",
      "75%      124.0\n",
      "max      124.0\n",
      "dtype: float64\n",
      "Leaving as a single partition\n"
     ]
    },
    {
     "name": "stdout",
     "output_type": "stream",
     "text": [
      "Found 0 matches; 10.27% still eligible to match\n"
     ]
    }
   ],
   "source": [
    "person_linkage_cascade.run_matching_pass(\n",
    "    pass_name=\"birthday and first two characters of name\",\n",
    "    blocking_columns=[\"day_of_birth\", \"month_of_birth\", \"first_name_2\", \"last_name_2\"],\n",
    ")"
   ]
  },
  {
   "cell_type": "markdown",
   "id": "368e0d7c-54d8-4ce5-9723-0650a2a58924",
   "metadata": {
    "papermill": {
     "duration": 0.052463,
     "end_time": "2024-05-16T06:37:21.006926",
     "exception": false,
     "start_time": "2024-05-16T06:37:20.954463",
     "status": "completed"
    },
    "tags": []
   },
   "source": [
    "## Post-process and confirm PIKs"
   ]
  },
  {
   "cell_type": "code",
   "execution_count": 83,
   "id": "76a7588d-85c3-4087-b6db-17dc31859cd7",
   "metadata": {
    "execution": {
     "iopub.execute_input": "2024-05-16T06:37:21.113416Z",
     "iopub.status.busy": "2024-05-16T06:37:21.112753Z",
     "iopub.status.idle": "2024-05-16T06:37:48.133539Z",
     "shell.execute_reply": "2024-05-16T06:37:48.126886Z"
    },
    "papermill": {
     "duration": 27.076944,
     "end_time": "2024-05-16T06:37:48.136160",
     "exception": false,
     "start_time": "2024-05-16T06:37:21.059216",
     "status": "completed"
    },
    "tags": []
   },
   "outputs": [
    {
     "name": "stdout",
     "output_type": "stream",
     "text": [
      "8,199 input records linked to deceased people, dropping links\n"
     ]
    },
    {
     "name": "stdout",
     "output_type": "stream",
     "text": [
      "1 input records linked to multiple PIKs, dropping links\n"
     ]
    }
   ],
   "source": [
    "person_linkage_cascade.confirm_piks()"
   ]
  },
  {
   "cell_type": "code",
   "execution_count": 84,
   "id": "7892c48c-c5d5-44c6-9439-2f59ebc053b5",
   "metadata": {
    "execution": {
     "iopub.execute_input": "2024-05-16T06:37:48.268249Z",
     "iopub.status.busy": "2024-05-16T06:37:48.267405Z",
     "iopub.status.idle": "2024-05-16T06:37:48.638778Z",
     "shell.execute_reply": "2024-05-16T06:37:48.637409Z"
    },
    "papermill": {
     "duration": 0.433449,
     "end_time": "2024-05-16T06:37:48.642559",
     "exception": false,
     "start_time": "2024-05-16T06:37:48.209110",
     "status": "completed"
    },
    "tags": []
   },
   "outputs": [
    {
     "data": {
      "text/plain": [
       "module_name  pass_name                                       \n",
       "geosearch    geokey                                              756087\n",
       "             some name and DOB information                       133570\n",
       "             house number and street name Soundex                 44851\n",
       "namesearch   DOB and NYSIIS of name                               37520\n",
       "geosearch    geokey name switch                                    2758\n",
       "namesearch   DOB and initials                                      2420\n",
       "geosearch    house number and street name Soundex name switch       153\n",
       "namesearch   year of birth and first two characters of name          76\n",
       "dtype: int64"
      ]
     },
     "execution_count": 84,
     "metadata": {},
     "output_type": "execute_result"
    }
   ],
   "source": [
    "df_ops.compute(person_linkage_cascade.confirmed_piks.groupby([\"module_name\", \"pass_name\"]).size()).sort_values(ascending=False)"
   ]
  },
  {
   "cell_type": "markdown",
   "id": "5cf67411-44e7-4ae8-926c-9b1f56d4522f",
   "metadata": {
    "papermill": {
     "duration": 0.053171,
     "end_time": "2024-05-16T06:37:48.753705",
     "exception": false,
     "start_time": "2024-05-16T06:37:48.700534",
     "status": "completed"
    },
    "tags": []
   },
   "source": [
    "# DOBSearch\n",
    "\n",
    "Brown et al., p. 29:\n",
    "\n",
    "> ... the DOBSearch module, which blocks on\n",
    "month and day of birth, then compares name, sex, and DOB.\n",
    "\n",
    "Wagner and Layne, p. 15:\n",
    "\n",
    "> The DOBSearch module searches the reference files for the records that fail the\n",
    "> NameSearch, using name and date of birth data. The module matches against a re-split\n",
    "> version of the Numident Name Reference file, splitting the data based on month and day\n",
    "> of birth.\n",
    "> \n",
    "> There are typically four blocking passes in the DOBSearch module. The first pass\n",
    "> blocks records by first name in the incoming file to last name in the DOB Reference file\n",
    "> and last name in incoming file to first name in the DOB Reference file. This strategy\n",
    "> accounts for switching of first and last name in the incoming file.\n",
    "\n",
    "Again, I have used the exact passes listed for this module in Layne, Wagner, and Rothhaas.\n",
    "This is somewhat corroborated to be \"typical\" given that it is consistent with Wagner and Layne\n",
    "above, but both papers are old."
   ]
  },
  {
   "cell_type": "code",
   "execution_count": 85,
   "id": "38bbc963-25e2-4f17-9721-f855589dd28a",
   "metadata": {
    "execution": {
     "iopub.execute_input": "2024-05-16T06:37:48.862595Z",
     "iopub.status.busy": "2024-05-16T06:37:48.861204Z",
     "iopub.status.idle": "2024-05-16T06:37:57.277711Z",
     "shell.execute_reply": "2024-05-16T06:37:57.276211Z"
    },
    "papermill": {
     "duration": 8.474229,
     "end_time": "2024-05-16T06:37:57.280974",
     "exception": false,
     "start_time": "2024-05-16T06:37:48.806745",
     "status": "completed"
    },
    "tags": []
   },
   "outputs": [
    {
     "name": "stdout",
     "output_type": "stream",
     "text": [
      "Imbalanced dataframe: too_few=False, too_many=True, too_large=False\n",
      "count       161.000000\n",
      "mean     436849.229814\n",
      "std       16911.942144\n",
      "min      393024.000000\n",
      "25%      425883.000000\n",
      "50%      437391.000000\n",
      "75%      449918.000000\n",
      "max      474456.000000\n",
      "dtype: float64\n",
      "Creating partitions of 100MB\n"
     ]
    }
   ],
   "source": [
    "person_linkage_cascade.start_module(\n",
    "    name=\"dobsearch\",\n",
    "    reference_file=name_dob_reference_file,\n",
    "    reference_file_name=\"name_dob_reference_file\",\n",
    "    cut_columns=[\"day_of_birth\", \"month_of_birth\"],\n",
    "    matching_columns=[\n",
    "        \"first_name_15\",\n",
    "        \"last_name_12\",\n",
    "        \"middle_initial\",\n",
    "        \"day_of_birth\",\n",
    "        \"month_of_birth\",\n",
    "        \"year_of_birth\",\n",
    "    ],\n",
    ")"
   ]
  },
  {
   "cell_type": "markdown",
   "id": "1ec6013e-ea45-463d-8095-ef3e4c8abf20",
   "metadata": {
    "papermill": {
     "duration": 0.052922,
     "end_time": "2024-05-16T06:37:57.395294",
     "exception": false,
     "start_time": "2024-05-16T06:37:57.342372",
     "status": "completed"
    },
    "tags": []
   },
   "source": [
    "## Pass 1: Block on initials, switching first and last names"
   ]
  },
  {
   "cell_type": "code",
   "execution_count": 86,
   "id": "b9fa73d4-ee01-4a35-94f9-ab0eb6b09132",
   "metadata": {
    "execution": {
     "iopub.execute_input": "2024-05-16T06:37:57.554354Z",
     "iopub.status.busy": "2024-05-16T06:37:57.553676Z",
     "iopub.status.idle": "2024-05-16T06:38:29.400137Z",
     "shell.execute_reply": "2024-05-16T06:38:29.398309Z"
    },
    "papermill": {
     "duration": 31.973116,
     "end_time": "2024-05-16T06:38:29.471677",
     "exception": false,
     "start_time": "2024-05-16T06:37:57.498561",
     "status": "completed"
    },
    "tags": []
   },
   "outputs": [
    {
     "name": "stdout",
     "output_type": "stream",
     "text": [
      "Running initials name switch of dobsearch\n"
     ]
    },
    {
     "name": "stdout",
     "output_type": "stream",
     "text": [
      "Files to link are 1,803,208 and 121,094 records\n"
     ]
    },
    {
     "name": "stderr",
     "output_type": "stream",
     "text": [
      "24/05/16 06:38:04 WARN SimpleFunctionRegistry: The function jaro_sim replaced a previously registered function.\n",
      "24/05/16 06:38:04 WARN SimpleFunctionRegistry: The function jaro_winkler replaced a previously registered function.\n",
      "24/05/16 06:38:04 WARN SimpleFunctionRegistry: The function jaccard replaced a previously registered function.\n",
      "24/05/16 06:38:04 WARN SimpleFunctionRegistry: The function cosine_distance replaced a previously registered function.\n",
      "24/05/16 06:38:04 WARN SimpleFunctionRegistry: The function dmetaphone replaced a previously registered function.\n",
      "24/05/16 06:38:04 WARN SimpleFunctionRegistry: The function dmetaphonealt replaced a previously registered function.\n",
      "24/05/16 06:38:04 WARN SimpleFunctionRegistry: The function qgramtokeniser replaced a previously registered function.\n",
      "24/05/16 06:38:04 WARN SimpleFunctionRegistry: The function damerau_levenshtein replaced a previously registered function.\n"
     ]
    },
    {
     "name": "stderr",
     "output_type": "stream",
     "text": [
      "\r",
      "[Stage 877:==================================>                   (53 + 30) / 83]\r",
      "\r",
      "[Stage 877:======================================================>(82 + 1) / 83]\r"
     ]
    },
    {
     "name": "stderr",
     "output_type": "stream",
     "text": [
      "\r",
      "                                                                                \r"
     ]
    },
    {
     "name": "stdout",
     "output_type": "stream",
     "text": [
      "Number of pairs that will be compared: 1,243,309\n"
     ]
    },
    {
     "name": "stderr",
     "output_type": "stream",
     "text": [
      "\r",
      "[Stage 883:======================================================>(60 + 1) / 61]\r"
     ]
    },
    {
     "name": "stderr",
     "output_type": "stream",
     "text": [
      "\r",
      "[Stage 885:============================================>          (26 + 6) / 32]\r",
      "\r",
      "                                                                                \r"
     ]
    },
    {
     "name": "stderr",
     "output_type": "stream",
     "text": [
      "24/05/16 06:38:08 WARN DataSource: All paths were ignored:\n",
      "  file:/ihme/scratch/users/zmbc/person_linkage_case_study/results/ri/tmpCheckpoints/0bc9c889-22ec-443a-b9c5-504361150648/__splink__df_concat_with_tf_9fe95a04a\n"
     ]
    },
    {
     "name": "stderr",
     "output_type": "stream",
     "text": [
      "\r",
      "[Stage 896:==============>(31 + 1) / 32][Stage 897:=======>      (18 + 14) / 32]\r",
      "\r",
      "                                                                                \r"
     ]
    },
    {
     "name": "stderr",
     "output_type": "stream",
     "text": [
      "\r",
      "[Stage 922:===================>                                 (99 + 45) / 270]\r",
      "\r",
      "[Stage 922:===========================>                        (141 + 44) / 270]\r"
     ]
    },
    {
     "name": "stderr",
     "output_type": "stream",
     "text": [
      "\r",
      "[Stage 922:====================================>               (188 + 44) / 270]\r",
      "\r",
      "[Stage 922:===========================================>        (228 + 39) / 270]\r"
     ]
    },
    {
     "name": "stderr",
     "output_type": "stream",
     "text": [
      "\r",
      "[Stage 922:====================================================>(267 + 3) / 270]\r"
     ]
    },
    {
     "name": "stderr",
     "output_type": "stream",
     "text": [
      "\r",
      "[Stage 925:=========================>                           (60 + 50) / 125]\r",
      "\r",
      "[Stage 925:=======================================>             (94 + 31) / 125]\r"
     ]
    },
    {
     "name": "stderr",
     "output_type": "stream",
     "text": [
      "\r",
      "                                                                                \r"
     ]
    },
    {
     "name": "stderr",
     "output_type": "stream",
     "text": [
      "24/05/16 06:38:16 WARN DataSource: All paths were ignored:\n",
      "  file:/ihme/scratch/users/zmbc/person_linkage_case_study/results/ri/tmpCheckpoints/0bc9c889-22ec-443a-b9c5-504361150648/__splink__df_predict_f548ddb49\n"
     ]
    },
    {
     "data": {
      "text/html": [
       "\n",
       "        <iframe\n",
       "            width=\"100%\"\n",
       "            height=\"1200\"\n",
       "            src=\"./splink_reports/ri/dobsearch__initials_name_switch.html\"\n",
       "            frameborder=\"0\"\n",
       "            allowfullscreen\n",
       "            \n",
       "        ></iframe>\n",
       "        "
      ],
      "text/plain": [
       "<IPython.lib.display.IFrame at 0x7faca49ccf40>"
      ]
     },
     "metadata": {},
     "output_type": "display_data"
    },
    {
     "name": "stderr",
     "output_type": "stream",
     "text": [
      "\r",
      "[Stage 939:================>                                    (38 + 50) / 124]\r",
      "\r",
      "[Stage 939:===========================>                         (64 + 50) / 124]\r"
     ]
    },
    {
     "name": "stderr",
     "output_type": "stream",
     "text": [
      "\r",
      "[Stage 939:==========================================>          (99 + 25) / 124]\r",
      "\r",
      "                                                                                \r"
     ]
    },
    {
     "name": "stdout",
     "output_type": "stream",
     "text": [
      "Imbalanced dataframe: too_few=False, too_many=True, too_large=False\n",
      "count     124.000000\n",
      "mean     1937.354839\n",
      "std       877.256442\n",
      "min       502.000000\n",
      "25%      1265.750000\n",
      "50%      1650.000000\n",
      "75%      2410.500000\n",
      "max      4693.000000\n",
      "dtype: float64\n",
      "Creating partitions of 100MB\n"
     ]
    },
    {
     "name": "stdout",
     "output_type": "stream",
     "text": [
      "Found 593 matches; 10.96% still eligible to match\n"
     ]
    }
   ],
   "source": [
    "person_linkage_cascade.run_matching_pass(\n",
    "    pass_name=\"initials name switch\",\n",
    "    blocking_columns=[\"first_name_1\", \"last_name_1\"],\n",
    "    input_data_transformation=switch_first_and_last_names,\n",
    ")"
   ]
  },
  {
   "cell_type": "markdown",
   "id": "8fa68a9b-6f38-4f7c-8246-65a3bd780f54",
   "metadata": {
    "papermill": {
     "duration": 0.054699,
     "end_time": "2024-05-16T06:38:29.585980",
     "exception": false,
     "start_time": "2024-05-16T06:38:29.531281",
     "status": "completed"
    },
    "tags": []
   },
   "source": [
    "## Pass 2: Block on first three characters of name"
   ]
  },
  {
   "cell_type": "code",
   "execution_count": 87,
   "id": "75d3d033-96ae-43bf-8f90-c73036c39d0f",
   "metadata": {
    "execution": {
     "iopub.execute_input": "2024-05-16T06:38:29.694700Z",
     "iopub.status.busy": "2024-05-16T06:38:29.694254Z",
     "iopub.status.idle": "2024-05-16T06:39:01.050579Z",
     "shell.execute_reply": "2024-05-16T06:39:01.049347Z"
    },
    "papermill": {
     "duration": 31.474082,
     "end_time": "2024-05-16T06:39:01.113863",
     "exception": false,
     "start_time": "2024-05-16T06:38:29.639781",
     "status": "completed"
    },
    "tags": []
   },
   "outputs": [
    {
     "name": "stdout",
     "output_type": "stream",
     "text": [
      "Running first three characters of name of dobsearch\n"
     ]
    },
    {
     "name": "stdout",
     "output_type": "stream",
     "text": [
      "Files to link are 1,803,208 and 120,501 records\n"
     ]
    },
    {
     "name": "stderr",
     "output_type": "stream",
     "text": [
      "24/05/16 06:38:35 WARN SimpleFunctionRegistry: The function jaro_sim replaced a previously registered function.\n",
      "24/05/16 06:38:35 WARN SimpleFunctionRegistry: The function jaro_winkler replaced a previously registered function.\n",
      "24/05/16 06:38:35 WARN SimpleFunctionRegistry: The function jaccard replaced a previously registered function.\n",
      "24/05/16 06:38:35 WARN SimpleFunctionRegistry: The function cosine_distance replaced a previously registered function.\n",
      "24/05/16 06:38:35 WARN SimpleFunctionRegistry: The function dmetaphone replaced a previously registered function.\n",
      "24/05/16 06:38:35 WARN SimpleFunctionRegistry: The function dmetaphonealt replaced a previously registered function.\n",
      "24/05/16 06:38:35 WARN SimpleFunctionRegistry: The function qgramtokeniser replaced a previously registered function.\n",
      "24/05/16 06:38:35 WARN SimpleFunctionRegistry: The function damerau_levenshtein replaced a previously registered function.\n"
     ]
    },
    {
     "name": "stdout",
     "output_type": "stream",
     "text": [
      "Number of pairs that will be compared: 15,390\n"
     ]
    },
    {
     "name": "stderr",
     "output_type": "stream",
     "text": [
      "\r",
      "[Stage 957:=====>                                                 (3 + 29) / 32]\r",
      "\r",
      "[Stage 957:=================================================>     (29 + 3) / 32]\r"
     ]
    },
    {
     "name": "stderr",
     "output_type": "stream",
     "text": [
      "\r",
      "                                                                                \r"
     ]
    },
    {
     "name": "stderr",
     "output_type": "stream",
     "text": [
      "24/05/16 06:38:38 WARN DataSource: All paths were ignored:\n",
      "  file:/ihme/scratch/users/zmbc/person_linkage_case_study/results/ri/tmpCheckpoints/0bc9c889-22ec-443a-b9c5-504361150648/__splink__df_concat_with_tf_df8aaedb0\n"
     ]
    },
    {
     "name": "stderr",
     "output_type": "stream",
     "text": [
      "\r",
      "[Stage 994:=============================>                      (146 + 40) / 260]\r",
      "\r",
      "[Stage 994:======================================>             (191 + 29) / 260]\r"
     ]
    },
    {
     "name": "stderr",
     "output_type": "stream",
     "text": [
      "\r",
      "[Stage 994:=============================================>      (227 + 17) / 260]\r",
      "\r",
      "[Stage 994:=================================================>   (245 + 8) / 260]\r"
     ]
    },
    {
     "name": "stderr",
     "output_type": "stream",
     "text": [
      "\r",
      "[Stage 994:====================================================>(256 + 4) / 260]\r"
     ]
    },
    {
     "name": "stderr",
     "output_type": "stream",
     "text": [
      "\r",
      "[Stage 997:===============>                                     (37 + 50) / 125]\r",
      "\r",
      "[Stage 997:====================>                                (48 + 50) / 125]\r"
     ]
    },
    {
     "name": "stderr",
     "output_type": "stream",
     "text": [
      "\r",
      "[Stage 997:============================>                        (68 + 50) / 125]\r",
      "\r",
      "[Stage 997:==========================================>         (101 + 24) / 125]\r"
     ]
    },
    {
     "name": "stderr",
     "output_type": "stream",
     "text": [
      "\r",
      "                                                                                \r"
     ]
    },
    {
     "name": "stderr",
     "output_type": "stream",
     "text": [
      "24/05/16 06:38:46 WARN DataSource: All paths were ignored:\n",
      "  file:/ihme/scratch/users/zmbc/person_linkage_case_study/results/ri/tmpCheckpoints/0bc9c889-22ec-443a-b9c5-504361150648/__splink__df_predict_8e8afd095\n"
     ]
    },
    {
     "data": {
      "text/html": [
       "\n",
       "        <iframe\n",
       "            width=\"100%\"\n",
       "            height=\"1200\"\n",
       "            src=\"./splink_reports/ri/dobsearch__first_three_characters_of_name.html\"\n",
       "            frameborder=\"0\"\n",
       "            allowfullscreen\n",
       "            \n",
       "        ></iframe>\n",
       "        "
      ],
      "text/plain": [
       "<IPython.lib.display.IFrame at 0x7fac6d3862c0>"
      ]
     },
     "metadata": {},
     "output_type": "display_data"
    },
    {
     "name": "stderr",
     "output_type": "stream",
     "text": [
      "\r",
      "[Stage 1011:==================>                                 (44 + 50) / 125]\r",
      "\r",
      "[Stage 1011:=============================>                      (72 + 50) / 125]\r"
     ]
    },
    {
     "name": "stderr",
     "output_type": "stream",
     "text": [
      "\r",
      "[Stage 1011:============================================>      (110 + 15) / 125]\r",
      "\r",
      "                                                                                \r"
     ]
    },
    {
     "name": "stdout",
     "output_type": "stream",
     "text": [
      "Imbalanced dataframe: too_few=False, too_many=True, too_large=False\n",
      "count      125.000000\n",
      "mean     25061.416000\n",
      "std       2157.331705\n",
      "min      19489.000000\n",
      "25%      23661.000000\n",
      "50%      25214.000000\n",
      "75%      26756.000000\n",
      "max      29484.000000\n",
      "dtype: float64\n",
      "Creating partitions of 100MB\n"
     ]
    },
    {
     "name": "stdout",
     "output_type": "stream",
     "text": [
      "Found 8,073 matches; 10.22% still eligible to match\n"
     ]
    }
   ],
   "source": [
    "person_linkage_cascade.run_matching_pass(\n",
    "    pass_name=\"first three characters of name\",\n",
    "    blocking_columns=[\"first_name_3\", \"last_name_3\"],\n",
    ")"
   ]
  },
  {
   "cell_type": "markdown",
   "id": "10d06a88-895a-469b-a830-57c46c58ae45",
   "metadata": {
    "papermill": {
     "duration": 0.055484,
     "end_time": "2024-05-16T06:39:01.224097",
     "exception": false,
     "start_time": "2024-05-16T06:39:01.168613",
     "status": "completed"
    },
    "tags": []
   },
   "source": [
    "## Pass 3: Block on reverse Soundex of name"
   ]
  },
  {
   "cell_type": "code",
   "execution_count": 88,
   "id": "a05e24ef-2ae2-4ca7-8d92-05630a1d61d1",
   "metadata": {
    "execution": {
     "iopub.execute_input": "2024-05-16T06:39:01.338002Z",
     "iopub.status.busy": "2024-05-16T06:39:01.337175Z",
     "iopub.status.idle": "2024-05-16T06:39:33.205430Z",
     "shell.execute_reply": "2024-05-16T06:39:33.199543Z"
    },
    "papermill": {
     "duration": 31.987265,
     "end_time": "2024-05-16T06:39:33.266076",
     "exception": false,
     "start_time": "2024-05-16T06:39:01.278811",
     "status": "completed"
    },
    "tags": []
   },
   "outputs": [
    {
     "name": "stdout",
     "output_type": "stream",
     "text": [
      "Running reverse Soundex of name of dobsearch\n"
     ]
    },
    {
     "name": "stdout",
     "output_type": "stream",
     "text": [
      "Files to link are 1,803,208 and 112,429 records\n"
     ]
    },
    {
     "name": "stderr",
     "output_type": "stream",
     "text": [
      "24/05/16 06:39:07 WARN SimpleFunctionRegistry: The function jaro_sim replaced a previously registered function.\n",
      "24/05/16 06:39:07 WARN SimpleFunctionRegistry: The function jaro_winkler replaced a previously registered function.\n",
      "24/05/16 06:39:07 WARN SimpleFunctionRegistry: The function jaccard replaced a previously registered function.\n",
      "24/05/16 06:39:07 WARN SimpleFunctionRegistry: The function cosine_distance replaced a previously registered function.\n",
      "24/05/16 06:39:07 WARN SimpleFunctionRegistry: The function dmetaphone replaced a previously registered function.\n",
      "24/05/16 06:39:07 WARN SimpleFunctionRegistry: The function dmetaphonealt replaced a previously registered function.\n",
      "24/05/16 06:39:07 WARN SimpleFunctionRegistry: The function qgramtokeniser replaced a previously registered function.\n",
      "24/05/16 06:39:07 WARN SimpleFunctionRegistry: The function damerau_levenshtein replaced a previously registered function.\n"
     ]
    },
    {
     "name": "stdout",
     "output_type": "stream",
     "text": [
      "Number of pairs that will be compared: 5,800\n"
     ]
    },
    {
     "name": "stderr",
     "output_type": "stream",
     "text": [
      "24/05/16 06:39:10 WARN DataSource: All paths were ignored:\n",
      "  file:/ihme/scratch/users/zmbc/person_linkage_case_study/results/ri/tmpCheckpoints/0bc9c889-22ec-443a-b9c5-504361150648/__splink__df_concat_with_tf_8e096872a\n"
     ]
    },
    {
     "name": "stderr",
     "output_type": "stream",
     "text": [
      "\r",
      "[Stage 1066:================================>                  (173 + 38) / 270]\r",
      "\r",
      "[Stage 1066:=========================================>         (220 + 23) / 270]\r"
     ]
    },
    {
     "name": "stderr",
     "output_type": "stream",
     "text": [
      "\r",
      "[Stage 1066:================================================>  (255 + 15) / 270]\r",
      "\r",
      "[Stage 1066:===================================================>(268 + 2) / 270]\r"
     ]
    },
    {
     "name": "stderr",
     "output_type": "stream",
     "text": [
      "\r",
      "[Stage 1069:========================>                           (59 + 50) / 125]\r",
      "\r",
      "[Stage 1069:===================================>                (85 + 40) / 125]\r"
     ]
    },
    {
     "name": "stderr",
     "output_type": "stream",
     "text": [
      "\r",
      "                                                                                \r"
     ]
    },
    {
     "name": "stderr",
     "output_type": "stream",
     "text": [
      "24/05/16 06:39:18 WARN DataSource: All paths were ignored:\n",
      "  file:/ihme/scratch/users/zmbc/person_linkage_case_study/results/ri/tmpCheckpoints/0bc9c889-22ec-443a-b9c5-504361150648/__splink__df_predict_fb7d0e8b5\n"
     ]
    },
    {
     "data": {
      "text/html": [
       "\n",
       "        <iframe\n",
       "            width=\"100%\"\n",
       "            height=\"1200\"\n",
       "            src=\"./splink_reports/ri/dobsearch__reverse_Soundex_of_name.html\"\n",
       "            frameborder=\"0\"\n",
       "            allowfullscreen\n",
       "            \n",
       "        ></iframe>\n",
       "        "
      ],
      "text/plain": [
       "<IPython.lib.display.IFrame at 0x7fae0bfaecb0>"
      ]
     },
     "metadata": {},
     "output_type": "display_data"
    },
    {
     "name": "stderr",
     "output_type": "stream",
     "text": [
      "\r",
      "[Stage 1083:==================>                                 (44 + 50) / 125]\r",
      "\r",
      "[Stage 1083:===========================>                        (67 + 50) / 125]\r"
     ]
    },
    {
     "name": "stderr",
     "output_type": "stream",
     "text": [
      "\r",
      "[Stage 1083:==========================================>        (105 + 20) / 125]\r",
      "\r",
      "                                                                                \r"
     ]
    },
    {
     "name": "stdout",
     "output_type": "stream",
     "text": [
      "Imbalanced dataframe: too_few=False, too_many=True, too_large=False\n",
      "count     114.000000\n",
      "mean     1165.254386\n",
      "std       571.319352\n",
      "min       513.000000\n",
      "25%       623.500000\n",
      "50%       926.500000\n",
      "75%      1321.500000\n",
      "max      3298.000000\n",
      "dtype: float64\n",
      "Creating partitions of 100MB\n"
     ]
    },
    {
     "name": "stdout",
     "output_type": "stream",
     "text": [
      "Imbalanced dataframe: too_few=False, too_many=True, too_large=False\n",
      "count       145.000000\n",
      "mean      35543.289655\n",
      "std       43576.629367\n",
      "min           0.000000\n",
      "25%        4035.000000\n",
      "50%        6328.000000\n",
      "75%       91598.000000\n",
      "max      117554.000000\n",
      "dtype: float64\n",
      "Creating partitions of 100MB\n"
     ]
    },
    {
     "name": "stdout",
     "output_type": "stream",
     "text": [
      "Found 302 matches; 10.19% still eligible to match\n"
     ]
    }
   ],
   "source": [
    "person_linkage_cascade.run_matching_pass(\n",
    "    pass_name=\"reverse Soundex of name\",\n",
    "    blocking_columns=[\"first_name_reverse_soundex\", \"last_name_reverse_soundex\"],\n",
    ")"
   ]
  },
  {
   "cell_type": "markdown",
   "id": "f5a4da3d-c9c7-4c50-b409-0bf76920828f",
   "metadata": {
    "papermill": {
     "duration": 0.055504,
     "end_time": "2024-05-16T06:39:33.376375",
     "exception": false,
     "start_time": "2024-05-16T06:39:33.320871",
     "status": "completed"
    },
    "tags": []
   },
   "source": [
    "## Pass 4: Block on first two characters of first name and year of birth"
   ]
  },
  {
   "cell_type": "code",
   "execution_count": 89,
   "id": "19e39510-cabb-46a6-99f8-e1969a8eb364",
   "metadata": {
    "execution": {
     "iopub.execute_input": "2024-05-16T06:39:33.492337Z",
     "iopub.status.busy": "2024-05-16T06:39:33.489314Z",
     "iopub.status.idle": "2024-05-16T06:40:03.431905Z",
     "shell.execute_reply": "2024-05-16T06:40:03.430705Z"
    },
    "papermill": {
     "duration": 30.003092,
     "end_time": "2024-05-16T06:40:03.435237",
     "exception": false,
     "start_time": "2024-05-16T06:39:33.432145",
     "status": "completed"
    },
    "tags": []
   },
   "outputs": [
    {
     "name": "stdout",
     "output_type": "stream",
     "text": [
      "Running first two characters of first name and year of birth of dobsearch\n",
      "Files to link are 1,803,208 and 112,127 records\n"
     ]
    },
    {
     "name": "stderr",
     "output_type": "stream",
     "text": [
      "24/05/16 06:39:39 WARN SimpleFunctionRegistry: The function jaro_sim replaced a previously registered function.\n",
      "24/05/16 06:39:39 WARN SimpleFunctionRegistry: The function jaro_winkler replaced a previously registered function.\n",
      "24/05/16 06:39:39 WARN SimpleFunctionRegistry: The function jaccard replaced a previously registered function.\n",
      "24/05/16 06:39:39 WARN SimpleFunctionRegistry: The function cosine_distance replaced a previously registered function.\n",
      "24/05/16 06:39:39 WARN SimpleFunctionRegistry: The function dmetaphone replaced a previously registered function.\n",
      "24/05/16 06:39:39 WARN SimpleFunctionRegistry: The function dmetaphonealt replaced a previously registered function.\n",
      "24/05/16 06:39:39 WARN SimpleFunctionRegistry: The function qgramtokeniser replaced a previously registered function.\n",
      "24/05/16 06:39:39 WARN SimpleFunctionRegistry: The function damerau_levenshtein replaced a previously registered function.\n"
     ]
    },
    {
     "name": "stdout",
     "output_type": "stream",
     "text": [
      "Number of pairs that will be compared: 125,745\n"
     ]
    },
    {
     "name": "stderr",
     "output_type": "stream",
     "text": [
      "24/05/16 06:39:42 WARN DataSource: All paths were ignored:\n",
      "  file:/ihme/scratch/users/zmbc/person_linkage_case_study/results/ri/tmpCheckpoints/0bc9c889-22ec-443a-b9c5-504361150648/__splink__df_concat_with_tf_6738c7046\n"
     ]
    },
    {
     "name": "stderr",
     "output_type": "stream",
     "text": [
      "\r",
      "[Stage 1114:==========>   (24 + 8) / 32][Stage 1115:=>            (3 + 29) / 32]\r",
      "\r",
      "                                                                                \r"
     ]
    },
    {
     "name": "stderr",
     "output_type": "stream",
     "text": [
      "\r",
      "[Stage 1138:=======================>                           (127 + 47) / 270]\r",
      "\r",
      "[Stage 1138:==================================>                (184 + 36) / 270]\r"
     ]
    },
    {
     "name": "stderr",
     "output_type": "stream",
     "text": [
      "\r",
      "[Stage 1138:===========================================>       (229 + 25) / 270]\r",
      "\r",
      "[Stage 1138:=================================================>  (259 + 7) / 270]\r"
     ]
    },
    {
     "name": "stderr",
     "output_type": "stream",
     "text": [
      "\r",
      "[Stage 1138:===================================================>(268 + 2) / 270]\r"
     ]
    },
    {
     "name": "stderr",
     "output_type": "stream",
     "text": [
      "\r",
      "[Stage 1141:=======================>                            (56 + 50) / 125]\r",
      "\r",
      "[Stage 1141:==============================>                     (74 + 50) / 125]\r"
     ]
    },
    {
     "name": "stderr",
     "output_type": "stream",
     "text": [
      "\r",
      "[Stage 1141:===========================================>       (107 + 18) / 125]\r",
      "\r",
      "                                                                                \r"
     ]
    },
    {
     "name": "stderr",
     "output_type": "stream",
     "text": [
      "24/05/16 06:39:50 WARN DataSource: All paths were ignored:\n",
      "  file:/ihme/scratch/users/zmbc/person_linkage_case_study/results/ri/tmpCheckpoints/0bc9c889-22ec-443a-b9c5-504361150648/__splink__df_predict_1f1fb9bf7\n"
     ]
    },
    {
     "data": {
      "text/html": [
       "\n",
       "        <iframe\n",
       "            width=\"100%\"\n",
       "            height=\"1200\"\n",
       "            src=\"./splink_reports/ri/dobsearch__first_two_characters_of_first_name_and_year_of_birth.html\"\n",
       "            frameborder=\"0\"\n",
       "            allowfullscreen\n",
       "            \n",
       "        ></iframe>\n",
       "        "
      ],
      "text/plain": [
       "<IPython.lib.display.IFrame at 0x7fac6d737a60>"
      ]
     },
     "metadata": {},
     "output_type": "display_data"
    },
    {
     "name": "stderr",
     "output_type": "stream",
     "text": [
      "\r",
      "[Stage 1155:==========================>                         (63 + 50) / 125]\r"
     ]
    },
    {
     "name": "stderr",
     "output_type": "stream",
     "text": [
      "\r",
      "[Stage 1155:=================================>                  (80 + 45) / 125]\r",
      "\r",
      "[Stage 1155:=================================================>  (120 + 5) / 125]\r"
     ]
    },
    {
     "name": "stderr",
     "output_type": "stream",
     "text": [
      "\r",
      "                                                                                \r"
     ]
    },
    {
     "name": "stdout",
     "output_type": "stream",
     "text": [
      "Imbalanced dataframe: too_few=False, too_many=True, too_large=False\n",
      "count     105.000000\n",
      "mean      892.257143\n",
      "std       418.881731\n",
      "min       478.000000\n",
      "25%       492.000000\n",
      "50%       850.000000\n",
      "75%      1206.000000\n",
      "max      2660.000000\n",
      "dtype: float64\n",
      "Creating partitions of 100MB\n"
     ]
    },
    {
     "name": "stdout",
     "output_type": "stream",
     "text": [
      "Found 222 matches; 10.17% still eligible to match\n"
     ]
    }
   ],
   "source": [
    "person_linkage_cascade.run_matching_pass(\n",
    "    pass_name=\"first two characters of first name and year of birth\",\n",
    "    blocking_columns=[\"first_name_2\", \"year_of_birth\"],\n",
    ")"
   ]
  },
  {
   "cell_type": "markdown",
   "id": "466e3db4-998e-40cd-9e33-ef6cf6e99b9b",
   "metadata": {
    "papermill": {
     "duration": 0.059003,
     "end_time": "2024-05-16T06:40:03.557766",
     "exception": false,
     "start_time": "2024-05-16T06:40:03.498763",
     "status": "completed"
    },
    "tags": []
   },
   "source": [
    "## Post-process and confirm PIKs"
   ]
  },
  {
   "cell_type": "code",
   "execution_count": 90,
   "id": "9581f811-9d21-449d-8682-97eb0ef0e493",
   "metadata": {
    "execution": {
     "iopub.execute_input": "2024-05-16T06:40:03.672837Z",
     "iopub.status.busy": "2024-05-16T06:40:03.672009Z",
     "iopub.status.idle": "2024-05-16T06:40:36.609538Z",
     "shell.execute_reply": "2024-05-16T06:40:36.608115Z"
    },
    "papermill": {
     "duration": 33.015585,
     "end_time": "2024-05-16T06:40:36.629598",
     "exception": false,
     "start_time": "2024-05-16T06:40:03.614013",
     "status": "completed"
    },
    "tags": []
   },
   "outputs": [
    {
     "name": "stdout",
     "output_type": "stream",
     "text": [
      "8,206 input records linked to deceased people, dropping links\n"
     ]
    },
    {
     "name": "stdout",
     "output_type": "stream",
     "text": [
      "1 input records linked to multiple PIKs, dropping links\n"
     ]
    },
    {
     "name": "stdout",
     "output_type": "stream",
     "text": [
      "Imbalanced dataframe: too_few=False, too_many=True, too_large=False\n",
      "count    2.590000e+02\n",
      "mean     7.371840e+05\n",
      "std      2.003465e+06\n",
      "min      0.000000e+00\n",
      "25%      0.000000e+00\n",
      "50%      0.000000e+00\n",
      "75%      1.357170e+05\n",
      "max      1.094968e+07\n",
      "dtype: float64\n",
      "Creating partitions of 100MB\n"
     ]
    }
   ],
   "source": [
    "person_linkage_cascade.confirm_piks()"
   ]
  },
  {
   "cell_type": "code",
   "execution_count": 91,
   "id": "853bb87d-ac28-41b1-a661-63d38169615b",
   "metadata": {
    "execution": {
     "iopub.execute_input": "2024-05-16T06:40:36.762394Z",
     "iopub.status.busy": "2024-05-16T06:40:36.761578Z",
     "iopub.status.idle": "2024-05-16T06:40:37.299670Z",
     "shell.execute_reply": "2024-05-16T06:40:37.298617Z"
    },
    "papermill": {
     "duration": 0.609297,
     "end_time": "2024-05-16T06:40:37.303920",
     "exception": false,
     "start_time": "2024-05-16T06:40:36.694623",
     "status": "completed"
    },
    "tags": []
   },
   "outputs": [
    {
     "data": {
      "text/plain": [
       "module_name  pass_name                                           \n",
       "geosearch    geokey                                                  756087\n",
       "             some name and DOB information                           133570\n",
       "             house number and street name Soundex                     44851\n",
       "namesearch   DOB and NYSIIS of name                                   37520\n",
       "geosearch    geokey name switch                                        2758\n",
       "namesearch   DOB and initials                                          2420\n",
       "dobsearch    initials name switch                                       571\n",
       "             reverse Soundex of name                                    242\n",
       "             first two characters of first name and year of birth       169\n",
       "geosearch    house number and street name Soundex name switch           153\n",
       "namesearch   year of birth and first two characters of name              76\n",
       "dtype: int64"
      ]
     },
     "execution_count": 91,
     "metadata": {},
     "output_type": "execute_result"
    }
   ],
   "source": [
    "df_ops.compute(person_linkage_cascade.confirmed_piks.groupby([\"module_name\", \"pass_name\"]).size()).sort_values(ascending=False)"
   ]
  },
  {
   "cell_type": "markdown",
   "id": "58ab65b7-a7ff-46e9-bc54-397bdeb8f6e5",
   "metadata": {
    "papermill": {
     "duration": 0.061145,
     "end_time": "2024-05-16T06:40:37.433488",
     "exception": false,
     "start_time": "2024-05-16T06:40:37.372343",
     "status": "completed"
    },
    "tags": []
   },
   "source": [
    "# HHCompSearch\n",
    "\n",
    "Brown et al., p. 29:\n",
    "\n",
    "> ... the Household Composition search module, which requires at least one\n",
    "> person in the household of the unmatched person to have received a PIK.\n",
    "> The full set of unmatched records with historical name, DOB, sex, and address data from\n",
    "> households whose members with PIKs were observed in the past is created. The module\n",
    "> attempts to find a match to this universe based on name and DOB information.\n",
    "\n",
    "Wagner and Layne, p. 16:\n",
    "\n",
    "> For persons with a PIK in the eligible household, all of the geokeys from the PVS\n",
    "> GeoBase are extracted for each of these PIKs. The geokeys are unduplicated and all\n",
    "> persons are selected from the PVS GeoBase with these geokeys. Next, the program\n",
    "> removes all household members with a PIK, leaving the unPIKed persons in the\n",
    "> household. This becomes the reference file to search against. There are typically two\n",
    "> passes in this module. Records are blocked by MAFID, name, date of birth, and gender.\n",
    "\n",
    "I don't know of any list of passes in this module.\n",
    "Blocking on \"MAFID, name, date of birth, and gender\" seems like a lot for only\n",
    "two passes, especially given that we are only matching people within each eligible\n",
    "household.\n",
    "I'm actually a bit surprised there is any blocking at all, given how restrictive this\n",
    "module inherently is.\n",
    "I've split the difference here by creating two passes that are very permissive."
   ]
  },
  {
   "cell_type": "markdown",
   "id": "cdd285ed-2445-42d2-8942-3bb9d241dd16",
   "metadata": {
    "papermill": {
     "duration": 0.061594,
     "end_time": "2024-05-16T06:40:37.557180",
     "exception": false,
     "start_time": "2024-05-16T06:40:37.495586",
     "status": "completed"
    },
    "tags": []
   },
   "source": [
    "## Create the reference file"
   ]
  },
  {
   "cell_type": "code",
   "execution_count": 92,
   "id": "9793c25f-96a7-406f-b53b-ac15cc804b55",
   "metadata": {
    "execution": {
     "iopub.execute_input": "2024-05-16T06:40:37.684001Z",
     "iopub.status.busy": "2024-05-16T06:40:37.683034Z",
     "iopub.status.idle": "2024-05-16T06:40:39.424900Z",
     "shell.execute_reply": "2024-05-16T06:40:39.423470Z"
    },
    "papermill": {
     "duration": 1.80686,
     "end_time": "2024-05-16T06:40:39.427406",
     "exception": false,
     "start_time": "2024-05-16T06:40:37.620546",
     "status": "completed"
    },
    "tags": []
   },
   "outputs": [],
   "source": [
    "# TODO: As of now in pseudopeople, our only indicator in the Census data of household\n",
    "# is noiseless (ground truth).\n",
    "# Instead, we use geokey to approximate the household clustering information that would be\n",
    "# present in the real dataset.\n",
    "# We should switch to using a (presumably low-noise) household indicator when we have that.\n",
    "# NOTE: We use geokey_for_blocking instead of geokey to intentionally exclude the very\n",
    "# large households currently created by GQ in pseudopeople.\n",
    "pseudo_household_id = (\n",
    "    df_ops.drop_duplicates(census_2030[census_2030.geokey_for_blocking.notnull()][[\"geokey_for_blocking\"]])\n",
    "        .pipe(df_ops.add_unique_id_col, col_name=\"pseudo_household_id\")\n",
    ")"
   ]
  },
  {
   "cell_type": "code",
   "execution_count": 93,
   "id": "fb318684-15c2-4e12-857a-39cd92df6d03",
   "metadata": {
    "execution": {
     "iopub.execute_input": "2024-05-16T06:40:39.557447Z",
     "iopub.status.busy": "2024-05-16T06:40:39.556112Z",
     "iopub.status.idle": "2024-05-16T06:40:39.642103Z",
     "shell.execute_reply": "2024-05-16T06:40:39.639953Z"
    },
    "papermill": {
     "duration": 0.153203,
     "end_time": "2024-05-16T06:40:39.646164",
     "exception": false,
     "start_time": "2024-05-16T06:40:39.492961",
     "status": "completed"
    },
    "tags": []
   },
   "outputs": [],
   "source": [
    "census_2030 = df_ops.persist(census_2030.merge(pseudo_household_id, on=\"geokey_for_blocking\", how=\"left\"))"
   ]
  },
  {
   "cell_type": "code",
   "execution_count": 94,
   "id": "cb5088f0-7139-44a0-b701-6b50b103dbcf",
   "metadata": {
    "execution": {
     "iopub.execute_input": "2024-05-16T06:40:39.784961Z",
     "iopub.status.busy": "2024-05-16T06:40:39.784259Z",
     "iopub.status.idle": "2024-05-16T06:40:39.845891Z",
     "shell.execute_reply": "2024-05-16T06:40:39.841124Z"
    },
    "papermill": {
     "duration": 0.132595,
     "end_time": "2024-05-16T06:40:39.849777",
     "exception": false,
     "start_time": "2024-05-16T06:40:39.717182",
     "status": "completed"
    },
    "tags": []
   },
   "outputs": [],
   "source": [
    "piks_with_household = df_ops.persist(\n",
    "    census_2030[[\"pseudo_household_id\", \"record_id_raw_input_file\"]]\n",
    "        .merge(person_linkage_cascade.confirmed_piks, on=\"record_id_raw_input_file\", how=\"left\")\n",
    ")"
   ]
  },
  {
   "cell_type": "code",
   "execution_count": 95,
   "id": "b97d11a0-6ecd-4a41-9b94-606bbc45831a",
   "metadata": {
    "execution": {
     "iopub.execute_input": "2024-05-16T06:40:39.981375Z",
     "iopub.status.busy": "2024-05-16T06:40:39.980534Z",
     "iopub.status.idle": "2024-05-16T06:40:49.239298Z",
     "shell.execute_reply": "2024-05-16T06:40:49.238387Z"
    },
    "papermill": {
     "duration": 9.325904,
     "end_time": "2024-05-16T06:40:49.242892",
     "exception": false,
     "start_time": "2024-05-16T06:40:39.916988",
     "status": "completed"
    },
    "tags": []
   },
   "outputs": [],
   "source": [
    "piked_by_household = df_ops.groupby_agg_small_groups(\n",
    "    piks_with_household,\n",
    "    by=\"pseudo_household_id\",\n",
    "    agg_func=lambda x: x.pik.agg(['count', 'size'])\n",
    ").reset_index().rename(columns={'count': 'piked'}).assign(unpiked=lambda x: x['size'] - x['piked'])"
   ]
  },
  {
   "cell_type": "code",
   "execution_count": 96,
   "id": "02350ff8-890c-4d4f-a7c4-dd666e0af152",
   "metadata": {
    "execution": {
     "iopub.execute_input": "2024-05-16T06:40:49.369213Z",
     "iopub.status.busy": "2024-05-16T06:40:49.368385Z",
     "iopub.status.idle": "2024-05-16T06:40:49.390626Z",
     "shell.execute_reply": "2024-05-16T06:40:49.389815Z"
    },
    "papermill": {
     "duration": 0.082593,
     "end_time": "2024-05-16T06:40:49.392339",
     "exception": false,
     "start_time": "2024-05-16T06:40:49.309746",
     "status": "completed"
    },
    "tags": []
   },
   "outputs": [
    {
     "data": {
      "text/html": [
       "<div><strong>Dask DataFrame Structure:</strong></div>\n",
       "<div>\n",
       "<style scoped>\n",
       "    .dataframe tbody tr th:only-of-type {\n",
       "        vertical-align: middle;\n",
       "    }\n",
       "\n",
       "    .dataframe tbody tr th {\n",
       "        vertical-align: top;\n",
       "    }\n",
       "\n",
       "    .dataframe thead th {\n",
       "        text-align: right;\n",
       "    }\n",
       "</style>\n",
       "<table border=\"1\" class=\"dataframe\">\n",
       "  <thead>\n",
       "    <tr style=\"text-align: right;\">\n",
       "      <th></th>\n",
       "      <th>pseudo_household_id</th>\n",
       "    </tr>\n",
       "    <tr>\n",
       "      <th>npartitions=96</th>\n",
       "      <th></th>\n",
       "    </tr>\n",
       "  </thead>\n",
       "  <tbody>\n",
       "    <tr>\n",
       "      <th></th>\n",
       "      <td>string</td>\n",
       "    </tr>\n",
       "    <tr>\n",
       "      <th></th>\n",
       "      <td>...</td>\n",
       "    </tr>\n",
       "    <tr>\n",
       "      <th>...</th>\n",
       "      <td>...</td>\n",
       "    </tr>\n",
       "    <tr>\n",
       "      <th></th>\n",
       "      <td>...</td>\n",
       "    </tr>\n",
       "    <tr>\n",
       "      <th></th>\n",
       "      <td>...</td>\n",
       "    </tr>\n",
       "  </tbody>\n",
       "</table>\n",
       "</div>\n",
       "<div>Dask Name: getitem, 24 graph layers</div>"
      ],
      "text/plain": [
       "Dask DataFrame Structure:\n",
       "               pseudo_household_id\n",
       "npartitions=96                    \n",
       "                            string\n",
       "                               ...\n",
       "...                            ...\n",
       "                               ...\n",
       "                               ...\n",
       "Dask Name: getitem, 24 graph layers"
      ]
     },
     "execution_count": 96,
     "metadata": {},
     "output_type": "execute_result"
    }
   ],
   "source": [
    "eligible_households = piked_by_household[(piked_by_household.piked > 0) & (piked_by_household.unpiked > 0)][['pseudo_household_id']]\n",
    "eligible_households"
   ]
  },
  {
   "cell_type": "code",
   "execution_count": 97,
   "id": "a671a0b0-8713-4e29-8db4-bd3a40162c10",
   "metadata": {
    "execution": {
     "iopub.execute_input": "2024-05-16T06:40:49.516328Z",
     "iopub.status.busy": "2024-05-16T06:40:49.515538Z",
     "iopub.status.idle": "2024-05-16T06:40:59.919991Z",
     "shell.execute_reply": "2024-05-16T06:40:59.918215Z"
    },
    "papermill": {
     "duration": 10.467938,
     "end_time": "2024-05-16T06:40:59.921748",
     "exception": false,
     "start_time": "2024-05-16T06:40:49.453810",
     "status": "completed"
    },
    "tags": []
   },
   "outputs": [
    {
     "data": {
      "text/html": [
       "<div><strong>Dask DataFrame Structure:</strong></div>\n",
       "<div>\n",
       "<style scoped>\n",
       "    .dataframe tbody tr th:only-of-type {\n",
       "        vertical-align: middle;\n",
       "    }\n",
       "\n",
       "    .dataframe tbody tr th {\n",
       "        vertical-align: top;\n",
       "    }\n",
       "\n",
       "    .dataframe thead th {\n",
       "        text-align: right;\n",
       "    }\n",
       "</style>\n",
       "<table border=\"1\" class=\"dataframe\">\n",
       "  <thead>\n",
       "    <tr style=\"text-align: right;\">\n",
       "      <th></th>\n",
       "      <th>pseudo_household_id</th>\n",
       "      <th>pik</th>\n",
       "    </tr>\n",
       "    <tr>\n",
       "      <th>npartitions=192</th>\n",
       "      <th></th>\n",
       "      <th></th>\n",
       "    </tr>\n",
       "  </thead>\n",
       "  <tbody>\n",
       "    <tr>\n",
       "      <th></th>\n",
       "      <td>string</td>\n",
       "      <td>string</td>\n",
       "    </tr>\n",
       "    <tr>\n",
       "      <th></th>\n",
       "      <td>...</td>\n",
       "      <td>...</td>\n",
       "    </tr>\n",
       "    <tr>\n",
       "      <th>...</th>\n",
       "      <td>...</td>\n",
       "      <td>...</td>\n",
       "    </tr>\n",
       "    <tr>\n",
       "      <th></th>\n",
       "      <td>...</td>\n",
       "      <td>...</td>\n",
       "    </tr>\n",
       "    <tr>\n",
       "      <th></th>\n",
       "      <td>...</td>\n",
       "      <td>...</td>\n",
       "    </tr>\n",
       "  </tbody>\n",
       "</table>\n",
       "</div>\n",
       "<div>Dask Name: concat, 1 graph layer</div>"
      ],
      "text/plain": [
       "Dask DataFrame Structure:\n",
       "                pseudo_household_id     pik\n",
       "npartitions=192                            \n",
       "                             string  string\n",
       "                                ...     ...\n",
       "...                             ...     ...\n",
       "                                ...     ...\n",
       "                                ...     ...\n",
       "Dask Name: concat, 1 graph layer"
      ]
     },
     "execution_count": 97,
     "metadata": {},
     "output_type": "execute_result"
    }
   ],
   "source": [
    "piks_by_eligible_household = df_ops.drop_duplicates(\n",
    "    eligible_households\n",
    "        .merge(piks_with_household[[\"pseudo_household_id\", \"pik\"]].dropna(subset=\"pik\"), on=\"pseudo_household_id\", how=\"inner\")\n",
    ")\n",
    "piks_by_eligible_household"
   ]
  },
  {
   "cell_type": "code",
   "execution_count": 98,
   "id": "0386f872-93a4-48b1-88bd-82db34a6df76",
   "metadata": {
    "execution": {
     "iopub.execute_input": "2024-05-16T06:41:00.047559Z",
     "iopub.status.busy": "2024-05-16T06:41:00.046738Z",
     "iopub.status.idle": "2024-05-16T06:41:24.323884Z",
     "shell.execute_reply": "2024-05-16T06:41:24.310507Z"
    },
    "papermill": {
     "duration": 24.349708,
     "end_time": "2024-05-16T06:41:24.335305",
     "exception": false,
     "start_time": "2024-05-16T06:40:59.985597",
     "status": "completed"
    },
    "tags": []
   },
   "outputs": [
    {
     "name": "stdout",
     "output_type": "stream",
     "text": [
      "Imbalanced dataframe: too_few=False, too_many=True, too_large=False\n",
      "count    2.400000e+02\n",
      "mean     6.011462e+05\n",
      "std      9.554253e+05\n",
      "min      0.000000e+00\n",
      "25%      0.000000e+00\n",
      "50%      2.331000e+03\n",
      "75%      1.047878e+06\n",
      "max      3.478341e+06\n",
      "dtype: float64\n",
      "Creating partitions of 100MB\n"
     ]
    },
    {
     "name": "stdout",
     "output_type": "stream",
     "text": [
      "Imbalanced dataframe: too_few=False, too_many=True, too_large=False\n",
      "count      384.000000\n",
      "mean     17017.867188\n",
      "std      17129.867560\n",
      "min          0.000000\n",
      "25%         93.000000\n",
      "50%      11935.500000\n",
      "75%      34047.500000\n",
      "max      43817.000000\n",
      "dtype: float64\n",
      "Creating partitions of 100MB\n"
     ]
    },
    {
     "data": {
      "text/html": [
       "<div><strong>Dask DataFrame Structure:</strong></div>\n",
       "<div>\n",
       "<style scoped>\n",
       "    .dataframe tbody tr th:only-of-type {\n",
       "        vertical-align: middle;\n",
       "    }\n",
       "\n",
       "    .dataframe tbody tr th {\n",
       "        vertical-align: top;\n",
       "    }\n",
       "\n",
       "    .dataframe thead th {\n",
       "        text-align: right;\n",
       "    }\n",
       "</style>\n",
       "<table border=\"1\" class=\"dataframe\">\n",
       "  <thead>\n",
       "    <tr style=\"text-align: right;\">\n",
       "      <th></th>\n",
       "      <th>pseudo_household_id</th>\n",
       "      <th>geokey_for_blocking</th>\n",
       "    </tr>\n",
       "    <tr>\n",
       "      <th>npartitions=1</th>\n",
       "      <th></th>\n",
       "      <th></th>\n",
       "    </tr>\n",
       "  </thead>\n",
       "  <tbody>\n",
       "    <tr>\n",
       "      <th></th>\n",
       "      <td>string</td>\n",
       "      <td>string</td>\n",
       "    </tr>\n",
       "    <tr>\n",
       "      <th></th>\n",
       "      <td>...</td>\n",
       "      <td>...</td>\n",
       "    </tr>\n",
       "  </tbody>\n",
       "</table>\n",
       "</div>\n",
       "<div>Dask Name: repartition, 1 graph layer</div>"
      ],
      "text/plain": [
       "Dask DataFrame Structure:\n",
       "              pseudo_household_id geokey_for_blocking\n",
       "npartitions=1                                        \n",
       "                           string              string\n",
       "                              ...                 ...\n",
       "Dask Name: repartition, 1 graph layer"
      ]
     },
     "execution_count": 98,
     "metadata": {},
     "output_type": "execute_result"
    }
   ],
   "source": [
    "geokeys_by_eligible_household = (\n",
    "    piks_by_eligible_household\n",
    "        .merge(df_ops.drop_duplicates(geobase_reference_file[[\"pik\", \"geokey_for_blocking\"]].dropna(subset=\"geokey_for_blocking\")), on=\"pik\")\n",
    "        .drop(columns=[\"pik\"])\n",
    "        .pipe(df_ops.drop_duplicates)\n",
    ")\n",
    "geokeys_by_eligible_household"
   ]
  },
  {
   "cell_type": "code",
   "execution_count": 99,
   "id": "2034b8a2-a959-41a6-bce5-b31b3f7bad62",
   "metadata": {
    "execution": {
     "iopub.execute_input": "2024-05-16T06:41:24.461650Z",
     "iopub.status.busy": "2024-05-16T06:41:24.461212Z",
     "iopub.status.idle": "2024-05-16T06:41:27.176419Z",
     "shell.execute_reply": "2024-05-16T06:41:27.175427Z"
    },
    "papermill": {
     "duration": 2.778249,
     "end_time": "2024-05-16T06:41:27.178181",
     "exception": false,
     "start_time": "2024-05-16T06:41:24.399932",
     "status": "completed"
    },
    "tags": []
   },
   "outputs": [],
   "source": [
    "# Apparently, we exclude from the reference file all *reference file* records with a PIK that\n",
    "# has already been assigned to an input file row.\n",
    "# Doing this goes against the normal assumption, which is that reference file records can match\n",
    "# to multiple input file records.\n",
    "# This is really surprising to me, but it seems clear from \"the program\n",
    "# removes all household members with a PIK, leaving the unPIKed persons in the\n",
    "# household. This becomes the reference file to search against.\" (Wagner and Layne, p. 16)\n",
    "eligible_geobase_reference_file_records = (\n",
    "    geobase_reference_file[geobase_reference_file.geokey_for_blocking.notnull()]\n",
    "        .merge(df_ops.drop_duplicates(person_linkage_cascade.confirmed_piks[['pik']]).assign(confirmed_pik_dummy=1), on='pik', how='left')\n",
    "        .pipe(lambda df: df[df.confirmed_pik_dummy.isnull()])\n",
    "        .drop(columns=['confirmed_pik_dummy'])\n",
    ")"
   ]
  },
  {
   "cell_type": "code",
   "execution_count": 100,
   "id": "60c5a0f4-6220-4d29-a604-52b930c3198b",
   "metadata": {
    "execution": {
     "iopub.execute_input": "2024-05-16T06:41:27.374671Z",
     "iopub.status.busy": "2024-05-16T06:41:27.373848Z",
     "iopub.status.idle": "2024-05-16T06:41:27.457558Z",
     "shell.execute_reply": "2024-05-16T06:41:27.454806Z"
    },
    "papermill": {
     "duration": 0.167111,
     "end_time": "2024-05-16T06:41:27.468431",
     "exception": false,
     "start_time": "2024-05-16T06:41:27.301320",
     "status": "completed"
    },
    "tags": []
   },
   "outputs": [
    {
     "data": {
      "text/html": [
       "<div><strong>Dask DataFrame Structure:</strong></div>\n",
       "<div>\n",
       "<style scoped>\n",
       "    .dataframe tbody tr th:only-of-type {\n",
       "        vertical-align: middle;\n",
       "    }\n",
       "\n",
       "    .dataframe tbody tr th {\n",
       "        vertical-align: top;\n",
       "    }\n",
       "\n",
       "    .dataframe thead th {\n",
       "        text-align: right;\n",
       "    }\n",
       "</style>\n",
       "<table border=\"1\" class=\"dataframe\">\n",
       "  <thead>\n",
       "    <tr style=\"text-align: right;\">\n",
       "      <th></th>\n",
       "      <th>pseudo_household_id</th>\n",
       "      <th>geokey_for_blocking</th>\n",
       "      <th>ssn</th>\n",
       "      <th>first_name</th>\n",
       "      <th>middle_name</th>\n",
       "      <th>last_name</th>\n",
       "      <th>street_number</th>\n",
       "      <th>street_name</th>\n",
       "      <th>unit_number</th>\n",
       "      <th>po_box</th>\n",
       "      <th>city</th>\n",
       "      <th>state</th>\n",
       "      <th>zipcode</th>\n",
       "      <th>record_id</th>\n",
       "      <th>pik</th>\n",
       "      <th>month_of_birth</th>\n",
       "      <th>year_of_birth</th>\n",
       "      <th>day_of_birth</th>\n",
       "      <th>geokey</th>\n",
       "      <th>street_number_for_blocking</th>\n",
       "      <th>street_name_for_blocking</th>\n",
       "      <th>first_name_15</th>\n",
       "      <th>last_name_12</th>\n",
       "      <th>middle_initial</th>\n",
       "      <th>first_name_1</th>\n",
       "      <th>last_name_1</th>\n",
       "      <th>first_name_2</th>\n",
       "      <th>last_name_2</th>\n",
       "      <th>first_name_3</th>\n",
       "      <th>last_name_3</th>\n",
       "      <th>street_name_for_blocking_soundex</th>\n",
       "      <th>zip3</th>\n",
       "    </tr>\n",
       "    <tr>\n",
       "      <th>npartitions=120</th>\n",
       "      <th></th>\n",
       "      <th></th>\n",
       "      <th></th>\n",
       "      <th></th>\n",
       "      <th></th>\n",
       "      <th></th>\n",
       "      <th></th>\n",
       "      <th></th>\n",
       "      <th></th>\n",
       "      <th></th>\n",
       "      <th></th>\n",
       "      <th></th>\n",
       "      <th></th>\n",
       "      <th></th>\n",
       "      <th></th>\n",
       "      <th></th>\n",
       "      <th></th>\n",
       "      <th></th>\n",
       "      <th></th>\n",
       "      <th></th>\n",
       "      <th></th>\n",
       "      <th></th>\n",
       "      <th></th>\n",
       "      <th></th>\n",
       "      <th></th>\n",
       "      <th></th>\n",
       "      <th></th>\n",
       "      <th></th>\n",
       "      <th></th>\n",
       "      <th></th>\n",
       "      <th></th>\n",
       "      <th></th>\n",
       "    </tr>\n",
       "  </thead>\n",
       "  <tbody>\n",
       "    <tr>\n",
       "      <th></th>\n",
       "      <td>string</td>\n",
       "      <td>string</td>\n",
       "      <td>string</td>\n",
       "      <td>string</td>\n",
       "      <td>string</td>\n",
       "      <td>string</td>\n",
       "      <td>string</td>\n",
       "      <td>string</td>\n",
       "      <td>string</td>\n",
       "      <td>string</td>\n",
       "      <td>string</td>\n",
       "      <td>string</td>\n",
       "      <td>string</td>\n",
       "      <td>string</td>\n",
       "      <td>string</td>\n",
       "      <td>float64</td>\n",
       "      <td>float64</td>\n",
       "      <td>float64</td>\n",
       "      <td>string</td>\n",
       "      <td>string</td>\n",
       "      <td>string</td>\n",
       "      <td>string</td>\n",
       "      <td>string</td>\n",
       "      <td>string</td>\n",
       "      <td>string</td>\n",
       "      <td>string</td>\n",
       "      <td>string</td>\n",
       "      <td>string</td>\n",
       "      <td>string</td>\n",
       "      <td>string</td>\n",
       "      <td>string</td>\n",
       "      <td>string</td>\n",
       "    </tr>\n",
       "    <tr>\n",
       "      <th></th>\n",
       "      <td>...</td>\n",
       "      <td>...</td>\n",
       "      <td>...</td>\n",
       "      <td>...</td>\n",
       "      <td>...</td>\n",
       "      <td>...</td>\n",
       "      <td>...</td>\n",
       "      <td>...</td>\n",
       "      <td>...</td>\n",
       "      <td>...</td>\n",
       "      <td>...</td>\n",
       "      <td>...</td>\n",
       "      <td>...</td>\n",
       "      <td>...</td>\n",
       "      <td>...</td>\n",
       "      <td>...</td>\n",
       "      <td>...</td>\n",
       "      <td>...</td>\n",
       "      <td>...</td>\n",
       "      <td>...</td>\n",
       "      <td>...</td>\n",
       "      <td>...</td>\n",
       "      <td>...</td>\n",
       "      <td>...</td>\n",
       "      <td>...</td>\n",
       "      <td>...</td>\n",
       "      <td>...</td>\n",
       "      <td>...</td>\n",
       "      <td>...</td>\n",
       "      <td>...</td>\n",
       "      <td>...</td>\n",
       "      <td>...</td>\n",
       "    </tr>\n",
       "    <tr>\n",
       "      <th>...</th>\n",
       "      <td>...</td>\n",
       "      <td>...</td>\n",
       "      <td>...</td>\n",
       "      <td>...</td>\n",
       "      <td>...</td>\n",
       "      <td>...</td>\n",
       "      <td>...</td>\n",
       "      <td>...</td>\n",
       "      <td>...</td>\n",
       "      <td>...</td>\n",
       "      <td>...</td>\n",
       "      <td>...</td>\n",
       "      <td>...</td>\n",
       "      <td>...</td>\n",
       "      <td>...</td>\n",
       "      <td>...</td>\n",
       "      <td>...</td>\n",
       "      <td>...</td>\n",
       "      <td>...</td>\n",
       "      <td>...</td>\n",
       "      <td>...</td>\n",
       "      <td>...</td>\n",
       "      <td>...</td>\n",
       "      <td>...</td>\n",
       "      <td>...</td>\n",
       "      <td>...</td>\n",
       "      <td>...</td>\n",
       "      <td>...</td>\n",
       "      <td>...</td>\n",
       "      <td>...</td>\n",
       "      <td>...</td>\n",
       "      <td>...</td>\n",
       "    </tr>\n",
       "    <tr>\n",
       "      <th></th>\n",
       "      <td>...</td>\n",
       "      <td>...</td>\n",
       "      <td>...</td>\n",
       "      <td>...</td>\n",
       "      <td>...</td>\n",
       "      <td>...</td>\n",
       "      <td>...</td>\n",
       "      <td>...</td>\n",
       "      <td>...</td>\n",
       "      <td>...</td>\n",
       "      <td>...</td>\n",
       "      <td>...</td>\n",
       "      <td>...</td>\n",
       "      <td>...</td>\n",
       "      <td>...</td>\n",
       "      <td>...</td>\n",
       "      <td>...</td>\n",
       "      <td>...</td>\n",
       "      <td>...</td>\n",
       "      <td>...</td>\n",
       "      <td>...</td>\n",
       "      <td>...</td>\n",
       "      <td>...</td>\n",
       "      <td>...</td>\n",
       "      <td>...</td>\n",
       "      <td>...</td>\n",
       "      <td>...</td>\n",
       "      <td>...</td>\n",
       "      <td>...</td>\n",
       "      <td>...</td>\n",
       "      <td>...</td>\n",
       "      <td>...</td>\n",
       "    </tr>\n",
       "    <tr>\n",
       "      <th></th>\n",
       "      <td>...</td>\n",
       "      <td>...</td>\n",
       "      <td>...</td>\n",
       "      <td>...</td>\n",
       "      <td>...</td>\n",
       "      <td>...</td>\n",
       "      <td>...</td>\n",
       "      <td>...</td>\n",
       "      <td>...</td>\n",
       "      <td>...</td>\n",
       "      <td>...</td>\n",
       "      <td>...</td>\n",
       "      <td>...</td>\n",
       "      <td>...</td>\n",
       "      <td>...</td>\n",
       "      <td>...</td>\n",
       "      <td>...</td>\n",
       "      <td>...</td>\n",
       "      <td>...</td>\n",
       "      <td>...</td>\n",
       "      <td>...</td>\n",
       "      <td>...</td>\n",
       "      <td>...</td>\n",
       "      <td>...</td>\n",
       "      <td>...</td>\n",
       "      <td>...</td>\n",
       "      <td>...</td>\n",
       "      <td>...</td>\n",
       "      <td>...</td>\n",
       "      <td>...</td>\n",
       "      <td>...</td>\n",
       "      <td>...</td>\n",
       "    </tr>\n",
       "  </tbody>\n",
       "</table>\n",
       "</div>\n",
       "<div>Dask Name: merge_chunk, 1 graph layer</div>"
      ],
      "text/plain": [
       "Dask DataFrame Structure:\n",
       "                pseudo_household_id geokey_for_blocking     ssn first_name middle_name last_name street_number street_name unit_number  po_box    city   state zipcode record_id     pik month_of_birth year_of_birth day_of_birth  geokey street_number_for_blocking street_name_for_blocking first_name_15 last_name_12 middle_initial first_name_1 last_name_1 first_name_2 last_name_2 first_name_3 last_name_3 street_name_for_blocking_soundex    zip3\n",
       "npartitions=120                                                                                                                                                                                                                                                                                                                                                                                                                                             \n",
       "                             string              string  string     string      string    string        string      string      string  string  string  string  string    string  string        float64       float64      float64  string                     string                   string        string       string         string       string      string       string      string       string      string                           string  string\n",
       "                                ...                 ...     ...        ...         ...       ...           ...         ...         ...     ...     ...     ...     ...       ...     ...            ...           ...          ...     ...                        ...                      ...           ...          ...            ...          ...         ...          ...         ...          ...         ...                              ...     ...\n",
       "...                             ...                 ...     ...        ...         ...       ...           ...         ...         ...     ...     ...     ...     ...       ...     ...            ...           ...          ...     ...                        ...                      ...           ...          ...            ...          ...         ...          ...         ...          ...         ...                              ...     ...\n",
       "                                ...                 ...     ...        ...         ...       ...           ...         ...         ...     ...     ...     ...     ...       ...     ...            ...           ...          ...     ...                        ...                      ...           ...          ...            ...          ...         ...          ...         ...          ...         ...                              ...     ...\n",
       "                                ...                 ...     ...        ...         ...       ...           ...         ...         ...     ...     ...     ...     ...       ...     ...            ...           ...          ...     ...                        ...                      ...           ...          ...            ...          ...         ...          ...         ...          ...         ...                              ...     ...\n",
       "Dask Name: merge_chunk, 1 graph layer"
      ]
     },
     "execution_count": 100,
     "metadata": {},
     "output_type": "execute_result"
    }
   ],
   "source": [
    "hhcomp_reference_file = df_ops.persist(geokeys_by_eligible_household.merge(\n",
    "    eligible_geobase_reference_file_records,\n",
    "    on=\"geokey_for_blocking\",\n",
    "))\n",
    "hhcomp_reference_file"
   ]
  },
  {
   "cell_type": "code",
   "execution_count": 101,
   "id": "ce26ecbb-d8ff-4ac5-bffa-6d21e8dc3cf9",
   "metadata": {
    "execution": {
     "iopub.execute_input": "2024-05-16T06:41:27.606876Z",
     "iopub.status.busy": "2024-05-16T06:41:27.606417Z",
     "iopub.status.idle": "2024-05-16T06:41:34.845326Z",
     "shell.execute_reply": "2024-05-16T06:41:34.843847Z"
    },
    "papermill": {
     "duration": 7.3066,
     "end_time": "2024-05-16T06:41:34.848738",
     "exception": false,
     "start_time": "2024-05-16T06:41:27.542138",
     "status": "completed"
    },
    "tags": []
   },
   "outputs": [
    {
     "data": {
      "text/plain": [
       "549187"
      ]
     },
     "execution_count": 101,
     "metadata": {},
     "output_type": "execute_result"
    }
   ],
   "source": [
    "len(hhcomp_reference_file)"
   ]
  },
  {
   "cell_type": "code",
   "execution_count": 102,
   "id": "fa0a1a66-1c18-48ad-a76f-11150f71a0bb",
   "metadata": {
    "execution": {
     "iopub.execute_input": "2024-05-16T06:41:34.982810Z",
     "iopub.status.busy": "2024-05-16T06:41:34.981982Z",
     "iopub.status.idle": "2024-05-16T06:41:43.322325Z",
     "shell.execute_reply": "2024-05-16T06:41:43.321127Z"
    },
    "papermill": {
     "duration": 8.411168,
     "end_time": "2024-05-16T06:41:43.326347",
     "exception": false,
     "start_time": "2024-05-16T06:41:34.915179",
     "status": "completed"
    },
    "tags": []
   },
   "outputs": [],
   "source": [
    "person_linkage_cascade.start_module(\n",
    "    name=\"hhcompsearch\",\n",
    "    reference_file=hhcomp_reference_file,\n",
    "    reference_file_name=\"hhcomp_reference_file\",\n",
    "    cut_columns=[\"pseudo_household_id\"],\n",
    "    # HACK: How else do we deal with the fact that pseudo_household_id\n",
    "    # isn't used for matching?\n",
    "    bayes_factor_cut_columns=1_000,\n",
    "    matching_columns=[\n",
    "        \"first_name_15\",\n",
    "        \"last_name_12\",\n",
    "        \"middle_initial\",\n",
    "        \"day_of_birth\",\n",
    "        \"month_of_birth\",\n",
    "        \"year_of_birth\",\n",
    "    ],\n",
    ")"
   ]
  },
  {
   "cell_type": "markdown",
   "id": "a86727cf-b024-4caf-a610-6f7950faec2d",
   "metadata": {
    "papermill": {
     "duration": 0.058873,
     "end_time": "2024-05-16T06:41:43.452683",
     "exception": false,
     "start_time": "2024-05-16T06:41:43.393810",
     "status": "completed"
    },
    "tags": []
   },
   "source": [
    "## Pass 1: Block on initials"
   ]
  },
  {
   "cell_type": "code",
   "execution_count": 103,
   "id": "83fbf88d-044e-4764-a049-ad6c4520bd7f",
   "metadata": {
    "execution": {
     "iopub.execute_input": "2024-05-16T06:41:43.577198Z",
     "iopub.status.busy": "2024-05-16T06:41:43.576402Z",
     "iopub.status.idle": "2024-05-16T06:42:18.474022Z",
     "shell.execute_reply": "2024-05-16T06:42:18.470038Z"
    },
    "papermill": {
     "duration": 35.028836,
     "end_time": "2024-05-16T06:42:18.541828",
     "exception": false,
     "start_time": "2024-05-16T06:41:43.512992",
     "status": "completed"
    },
    "tags": []
   },
   "outputs": [
    {
     "name": "stdout",
     "output_type": "stream",
     "text": [
      "Running initials of hhcompsearch\n"
     ]
    },
    {
     "name": "stdout",
     "output_type": "stream",
     "text": [
      "Files to link are 549,187 and 120,110 records\n"
     ]
    },
    {
     "name": "stdout",
     "output_type": "stream",
     "text": [
      "Imbalanced dataframe: too_few=False, too_many=True, too_large=False\n",
      "count      240.000000\n",
      "mean      7620.933333\n",
      "std       8169.233199\n",
      "min          0.000000\n",
      "25%          0.000000\n",
      "50%       1142.500000\n",
      "75%      15184.250000\n",
      "max      27299.000000\n",
      "dtype: float64\n",
      "Creating partitions of 100MB\n"
     ]
    },
    {
     "name": "stderr",
     "output_type": "stream",
     "text": [
      "24/05/16 06:41:52 WARN SimpleFunctionRegistry: The function jaro_sim replaced a previously registered function.\n",
      "24/05/16 06:41:52 WARN SimpleFunctionRegistry: The function jaro_winkler replaced a previously registered function.\n",
      "24/05/16 06:41:52 WARN SimpleFunctionRegistry: The function jaccard replaced a previously registered function.\n",
      "24/05/16 06:41:52 WARN SimpleFunctionRegistry: The function cosine_distance replaced a previously registered function.\n",
      "24/05/16 06:41:52 WARN SimpleFunctionRegistry: The function dmetaphone replaced a previously registered function.\n",
      "24/05/16 06:41:52 WARN SimpleFunctionRegistry: The function dmetaphonealt replaced a previously registered function.\n",
      "24/05/16 06:41:52 WARN SimpleFunctionRegistry: The function qgramtokeniser replaced a previously registered function.\n",
      "24/05/16 06:41:52 WARN SimpleFunctionRegistry: The function damerau_levenshtein replaced a previously registered function.\n"
     ]
    },
    {
     "name": "stderr",
     "output_type": "stream",
     "text": [
      "\r",
      "[Stage 1163:====================================>                 (18 + 9) / 27]\r"
     ]
    },
    {
     "name": "stderr",
     "output_type": "stream",
     "text": [
      "\r",
      "                                                                                \r"
     ]
    },
    {
     "name": "stdout",
     "output_type": "stream",
     "text": [
      "Number of pairs that will be compared: 42,546\n"
     ]
    },
    {
     "name": "stderr",
     "output_type": "stream",
     "text": [
      "24/05/16 06:41:55 WARN DataSource: All paths were ignored:\n",
      "  file:/ihme/scratch/users/zmbc/person_linkage_case_study/results/ri/tmpCheckpoints/0bc9c889-22ec-443a-b9c5-504361150648/__splink__df_concat_with_tf_8fd4a2e0b\n"
     ]
    },
    {
     "name": "stderr",
     "output_type": "stream",
     "text": [
      "\r",
      "[Stage 1206:======================================>            (197 + 26) / 260]\r",
      "\r",
      "[Stage 1206:==============================================>    (236 + 15) / 260]\r"
     ]
    },
    {
     "name": "stderr",
     "output_type": "stream",
     "text": [
      "\r",
      "[Stage 1206:===================================================>(257 + 3) / 260]\r"
     ]
    },
    {
     "name": "stderr",
     "output_type": "stream",
     "text": [
      "\r",
      "[Stage 1209:====>                                               (12 + 50) / 125]\r",
      "\r",
      "[Stage 1209:==================>                                 (44 + 50) / 125]\r"
     ]
    },
    {
     "name": "stderr",
     "output_type": "stream",
     "text": [
      "\r",
      "[Stage 1209:==========================>                         (63 + 50) / 125]\r",
      "\r",
      "[Stage 1209:====================================>               (87 + 38) / 125]\r"
     ]
    },
    {
     "name": "stderr",
     "output_type": "stream",
     "text": [
      "\r",
      "                                                                                \r"
     ]
    },
    {
     "name": "stderr",
     "output_type": "stream",
     "text": [
      "24/05/16 06:42:03 WARN DataSource: All paths were ignored:\n",
      "  file:/ihme/scratch/users/zmbc/person_linkage_case_study/results/ri/tmpCheckpoints/0bc9c889-22ec-443a-b9c5-504361150648/__splink__df_predict_9abdf9954\n"
     ]
    },
    {
     "data": {
      "text/html": [
       "\n",
       "        <iframe\n",
       "            width=\"100%\"\n",
       "            height=\"1200\"\n",
       "            src=\"./splink_reports/ri/hhcompsearch__initials.html\"\n",
       "            frameborder=\"0\"\n",
       "            allowfullscreen\n",
       "            \n",
       "        ></iframe>\n",
       "        "
      ],
      "text/plain": [
       "<IPython.lib.display.IFrame at 0x7fae0bb02380>"
      ]
     },
     "metadata": {},
     "output_type": "display_data"
    },
    {
     "name": "stderr",
     "output_type": "stream",
     "text": [
      "\r",
      "[Stage 1223:=========>                                          (24 + 50) / 125]\r",
      "\r",
      "[Stage 1223:====================>                               (49 + 50) / 125]\r"
     ]
    },
    {
     "name": "stderr",
     "output_type": "stream",
     "text": [
      "\r",
      "[Stage 1223:================================>                   (79 + 46) / 125]\r",
      "\r",
      "[Stage 1223:==================================================> (122 + 3) / 125]\r"
     ]
    },
    {
     "name": "stderr",
     "output_type": "stream",
     "text": [
      "\r",
      "                                                                                \r"
     ]
    },
    {
     "name": "stdout",
     "output_type": "stream",
     "text": [
      "Imbalanced dataframe: too_few=False, too_many=True, too_large=False\n",
      "count      125.000000\n",
      "mean     23825.520000\n",
      "std       2896.789186\n",
      "min      17318.000000\n",
      "25%      21755.000000\n",
      "50%      23403.000000\n",
      "75%      25509.000000\n",
      "max      29941.000000\n",
      "dtype: float64\n",
      "Creating partitions of 100MB\n"
     ]
    },
    {
     "name": "stdout",
     "output_type": "stream",
     "text": [
      "Found 7,262 matches; 10.31% still eligible to match\n"
     ]
    }
   ],
   "source": [
    "person_linkage_cascade.run_matching_pass(\n",
    "    pass_name=\"initials\",\n",
    "    blocking_columns=[\"first_name_1\", \"last_name_1\"],\n",
    ")"
   ]
  },
  {
   "cell_type": "markdown",
   "id": "ca08637b-760c-4633-b0c4-23a6d4c01dd1",
   "metadata": {
    "papermill": {
     "duration": 0.061594,
     "end_time": "2024-05-16T06:42:18.665322",
     "exception": false,
     "start_time": "2024-05-16T06:42:18.603728",
     "status": "completed"
    },
    "tags": []
   },
   "source": [
    "## Pass 2: Block on year of birth"
   ]
  },
  {
   "cell_type": "code",
   "execution_count": 104,
   "id": "fccbc8e1-230c-4b59-95b4-e8ba97d566a3",
   "metadata": {
    "execution": {
     "iopub.execute_input": "2024-05-16T06:42:18.787929Z",
     "iopub.status.busy": "2024-05-16T06:42:18.787449Z",
     "iopub.status.idle": "2024-05-16T06:42:51.839735Z",
     "shell.execute_reply": "2024-05-16T06:42:51.835340Z"
    },
    "papermill": {
     "duration": 33.185728,
     "end_time": "2024-05-16T06:42:51.910444",
     "exception": false,
     "start_time": "2024-05-16T06:42:18.724716",
     "status": "completed"
    },
    "tags": []
   },
   "outputs": [
    {
     "name": "stdout",
     "output_type": "stream",
     "text": [
      "Running year of birth of hhcompsearch\n"
     ]
    },
    {
     "name": "stdout",
     "output_type": "stream",
     "text": [
      "Files to link are 549,187 and 113,423 records\n"
     ]
    },
    {
     "name": "stdout",
     "output_type": "stream",
     "text": [
      "Imbalanced dataframe: too_few=False, too_many=True, too_large=False\n",
      "count      240.000000\n",
      "mean      7620.933333\n",
      "std       8169.233199\n",
      "min          0.000000\n",
      "25%          0.000000\n",
      "50%       1142.500000\n",
      "75%      15184.250000\n",
      "max      27299.000000\n",
      "dtype: float64\n",
      "Creating partitions of 100MB\n"
     ]
    },
    {
     "name": "stderr",
     "output_type": "stream",
     "text": [
      "24/05/16 06:42:28 WARN SimpleFunctionRegistry: The function jaro_sim replaced a previously registered function.\n",
      "24/05/16 06:42:28 WARN SimpleFunctionRegistry: The function jaro_winkler replaced a previously registered function.\n",
      "24/05/16 06:42:28 WARN SimpleFunctionRegistry: The function jaccard replaced a previously registered function.\n",
      "24/05/16 06:42:28 WARN SimpleFunctionRegistry: The function cosine_distance replaced a previously registered function.\n",
      "24/05/16 06:42:28 WARN SimpleFunctionRegistry: The function dmetaphone replaced a previously registered function.\n",
      "24/05/16 06:42:28 WARN SimpleFunctionRegistry: The function dmetaphonealt replaced a previously registered function.\n",
      "24/05/16 06:42:28 WARN SimpleFunctionRegistry: The function qgramtokeniser replaced a previously registered function.\n",
      "24/05/16 06:42:28 WARN SimpleFunctionRegistry: The function damerau_levenshtein replaced a previously registered function.\n"
     ]
    },
    {
     "name": "stderr",
     "output_type": "stream",
     "text": [
      "\r",
      "[Stage 1230:====>                                                 (2 + 20) / 22]\r",
      "\r",
      "[Stage 1230:=================================================>    (20 + 2) / 22]\r"
     ]
    },
    {
     "name": "stderr",
     "output_type": "stream",
     "text": [
      "\r",
      "                                                                                \r"
     ]
    },
    {
     "name": "stdout",
     "output_type": "stream",
     "text": [
      "Number of pairs that will be compared: 51,558\n"
     ]
    },
    {
     "name": "stderr",
     "output_type": "stream",
     "text": [
      "24/05/16 06:42:31 WARN DataSource: All paths were ignored:\n",
      "  file:/ihme/scratch/users/zmbc/person_linkage_case_study/results/ri/tmpCheckpoints/0bc9c889-22ec-443a-b9c5-504361150648/__splink__df_concat_with_tf_a70942b40\n"
     ]
    },
    {
     "name": "stderr",
     "output_type": "stream",
     "text": [
      "\r",
      "[Stage 1273:======================================>            (195 + 32) / 260]\r",
      "\r",
      "[Stage 1273:================================================>   (240 + 9) / 260]\r"
     ]
    },
    {
     "name": "stderr",
     "output_type": "stream",
     "text": [
      "\r",
      "[Stage 1273:==================================================> (254 + 6) / 260]\r"
     ]
    },
    {
     "name": "stderr",
     "output_type": "stream",
     "text": [
      "\r",
      "[Stage 1276:====================>                               (49 + 50) / 125]\r",
      "\r",
      "[Stage 1276:=============================>                      (71 + 50) / 125]\r"
     ]
    },
    {
     "name": "stderr",
     "output_type": "stream",
     "text": [
      "\r",
      "[Stage 1276:===========================================>       (107 + 18) / 125]\r",
      "\r",
      "                                                                                \r"
     ]
    },
    {
     "name": "stderr",
     "output_type": "stream",
     "text": [
      "24/05/16 06:42:37 WARN DataSource: All paths were ignored:\n",
      "  file:/ihme/scratch/users/zmbc/person_linkage_case_study/results/ri/tmpCheckpoints/0bc9c889-22ec-443a-b9c5-504361150648/__splink__df_predict_2f3b0e169\n"
     ]
    },
    {
     "data": {
      "text/html": [
       "\n",
       "        <iframe\n",
       "            width=\"100%\"\n",
       "            height=\"1200\"\n",
       "            src=\"./splink_reports/ri/hhcompsearch__year_of_birth.html\"\n",
       "            frameborder=\"0\"\n",
       "            allowfullscreen\n",
       "            \n",
       "        ></iframe>\n",
       "        "
      ],
      "text/plain": [
       "<IPython.lib.display.IFrame at 0x7fac6c28a0b0>"
      ]
     },
     "metadata": {},
     "output_type": "display_data"
    },
    {
     "name": "stderr",
     "output_type": "stream",
     "text": [
      "\r",
      "[Stage 1290:==================>                                 (45 + 50) / 125]\r",
      "\r",
      "[Stage 1290:=============================>                      (71 + 50) / 125]\r"
     ]
    },
    {
     "name": "stderr",
     "output_type": "stream",
     "text": [
      "\r",
      "[Stage 1290:==========================================>        (104 + 21) / 125]\r",
      "\r",
      "                                                                                \r"
     ]
    },
    {
     "name": "stdout",
     "output_type": "stream",
     "text": [
      "Imbalanced dataframe: too_few=False, too_many=True, too_large=False\n",
      "count      125.000000\n",
      "mean      7860.672000\n",
      "std       1406.727068\n",
      "min       4877.000000\n",
      "25%       7075.000000\n",
      "50%       7817.000000\n",
      "75%       8955.000000\n",
      "max      11510.000000\n",
      "dtype: float64\n",
      "Creating partitions of 100MB\n"
     ]
    },
    {
     "name": "stdout",
     "output_type": "stream",
     "text": [
      "Found 2,629 matches; 10.09% still eligible to match\n"
     ]
    }
   ],
   "source": [
    "person_linkage_cascade.run_matching_pass(\n",
    "    pass_name=\"year of birth\",\n",
    "    blocking_columns=[\"year_of_birth\"],\n",
    ")"
   ]
  },
  {
   "cell_type": "markdown",
   "id": "d9bd99a1-3174-435f-bd22-49ffa06ec1d6",
   "metadata": {
    "papermill": {
     "duration": 0.063863,
     "end_time": "2024-05-16T06:42:52.040681",
     "exception": false,
     "start_time": "2024-05-16T06:42:51.976818",
     "status": "completed"
    },
    "tags": []
   },
   "source": [
    "## Post-process and confirm PIKs"
   ]
  },
  {
   "cell_type": "code",
   "execution_count": 105,
   "id": "9d61a681-a87d-4a4a-a89e-146b044fd22e",
   "metadata": {
    "execution": {
     "iopub.execute_input": "2024-05-16T06:42:52.170609Z",
     "iopub.status.busy": "2024-05-16T06:42:52.170113Z",
     "iopub.status.idle": "2024-05-16T06:43:36.694539Z",
     "shell.execute_reply": "2024-05-16T06:43:36.693245Z"
    },
    "papermill": {
     "duration": 44.592028,
     "end_time": "2024-05-16T06:43:36.697752",
     "exception": false,
     "start_time": "2024-05-16T06:42:52.105724",
     "status": "completed"
    },
    "tags": []
   },
   "outputs": [
    {
     "name": "stdout",
     "output_type": "stream",
     "text": [
      "5,152 input records linked to deceased people, dropping links\n"
     ]
    },
    {
     "name": "stdout",
     "output_type": "stream",
     "text": [
      "256 input records linked to multiple PIKs, dropping links\n"
     ]
    }
   ],
   "source": [
    "person_linkage_cascade.confirm_piks()"
   ]
  },
  {
   "cell_type": "code",
   "execution_count": 106,
   "id": "8f147e2d-7510-4aad-bc30-1bbda2b4091f",
   "metadata": {
    "execution": {
     "iopub.execute_input": "2024-05-16T06:43:36.854444Z",
     "iopub.status.busy": "2024-05-16T06:43:36.853159Z",
     "iopub.status.idle": "2024-05-16T06:43:37.428051Z",
     "shell.execute_reply": "2024-05-16T06:43:37.426876Z"
    },
    "papermill": {
     "duration": 0.646034,
     "end_time": "2024-05-16T06:43:37.431215",
     "exception": false,
     "start_time": "2024-05-16T06:43:36.785181",
     "status": "completed"
    },
    "tags": []
   },
   "outputs": [
    {
     "data": {
      "text/plain": [
       "module_name   pass_name                                           \n",
       "geosearch     geokey                                                  756087\n",
       "              some name and DOB information                           133570\n",
       "              house number and street name Soundex                     44851\n",
       "namesearch    DOB and NYSIIS of name                                   37520\n",
       "geosearch     geokey name switch                                        2758\n",
       "namesearch    DOB and initials                                          2420\n",
       "hhcompsearch  year of birth                                             2047\n",
       "              initials                                                  1826\n",
       "dobsearch     initials name switch                                       571\n",
       "              reverse Soundex of name                                    242\n",
       "              first two characters of first name and year of birth       169\n",
       "geosearch     house number and street name Soundex name switch           153\n",
       "namesearch    year of birth and first two characters of name              76\n",
       "dtype: int64"
      ]
     },
     "execution_count": 106,
     "metadata": {},
     "output_type": "execute_result"
    }
   ],
   "source": [
    "df_ops.compute(person_linkage_cascade.confirmed_piks.groupby([\"module_name\", \"pass_name\"]).size()).sort_values(ascending=False)"
   ]
  },
  {
   "cell_type": "markdown",
   "id": "fc0ba651-913d-4eb4-9d3a-e391b9efc8d8",
   "metadata": {
    "papermill": {
     "duration": 0.06276,
     "end_time": "2024-05-16T06:43:37.571004",
     "exception": false,
     "start_time": "2024-05-16T06:43:37.508244",
     "status": "completed"
    },
    "tags": []
   },
   "source": [
    "# Resulting PIKs"
   ]
  },
  {
   "cell_type": "code",
   "execution_count": 107,
   "id": "c7a239d1-e1d8-435d-9af5-7c71ba3d64d1",
   "metadata": {
    "execution": {
     "iopub.execute_input": "2024-05-16T06:43:37.696874Z",
     "iopub.status.busy": "2024-05-16T06:43:37.696401Z",
     "iopub.status.idle": "2024-05-16T06:43:41.869408Z",
     "shell.execute_reply": "2024-05-16T06:43:41.868376Z"
    },
    "papermill": {
     "duration": 4.238888,
     "end_time": "2024-05-16T06:43:41.873344",
     "exception": false,
     "start_time": "2024-05-16T06:43:37.634456",
     "status": "completed"
    },
    "tags": []
   },
   "outputs": [],
   "source": [
    "pik_values = df_ops.drop_duplicates(\n",
    "    person_linkage_cascade.confirmed_piks\n",
    "        .rename(columns={\"record_id_raw_input_file\": \"record_id\"})\n",
    "        [[\"record_id\", \"pik\"]]\n",
    ")"
   ]
  },
  {
   "cell_type": "code",
   "execution_count": 108,
   "id": "e9271823-d2b3-4f41-9d77-9ad5bb117397",
   "metadata": {
    "execution": {
     "iopub.execute_input": "2024-05-16T06:43:42.003405Z",
     "iopub.status.busy": "2024-05-16T06:43:42.002590Z",
     "iopub.status.idle": "2024-05-16T06:43:42.196464Z",
     "shell.execute_reply": "2024-05-16T06:43:42.139893Z"
    },
    "papermill": {
     "duration": 0.274434,
     "end_time": "2024-05-16T06:43:42.215721",
     "exception": false,
     "start_time": "2024-05-16T06:43:41.941287",
     "status": "completed"
    },
    "tags": []
   },
   "outputs": [
    {
     "data": {
      "text/html": [
       "<div><strong>Dask DataFrame Structure:</strong></div>\n",
       "<div>\n",
       "<style scoped>\n",
       "    .dataframe tbody tr th:only-of-type {\n",
       "        vertical-align: middle;\n",
       "    }\n",
       "\n",
       "    .dataframe tbody tr th {\n",
       "        vertical-align: top;\n",
       "    }\n",
       "\n",
       "    .dataframe thead th {\n",
       "        text-align: right;\n",
       "    }\n",
       "</style>\n",
       "<table border=\"1\" class=\"dataframe\">\n",
       "  <thead>\n",
       "    <tr style=\"text-align: right;\">\n",
       "      <th></th>\n",
       "      <th>household_id</th>\n",
       "      <th>first_name</th>\n",
       "      <th>middle_initial</th>\n",
       "      <th>last_name</th>\n",
       "      <th>age</th>\n",
       "      <th>date_of_birth</th>\n",
       "      <th>street_number</th>\n",
       "      <th>street_name</th>\n",
       "      <th>unit_number</th>\n",
       "      <th>city</th>\n",
       "      <th>state</th>\n",
       "      <th>zipcode</th>\n",
       "      <th>housing_type</th>\n",
       "      <th>relationship_to_reference_person</th>\n",
       "      <th>sex</th>\n",
       "      <th>race_ethnicity</th>\n",
       "      <th>year</th>\n",
       "      <th>record_id</th>\n",
       "      <th>pik</th>\n",
       "    </tr>\n",
       "    <tr>\n",
       "      <th>npartitions=291</th>\n",
       "      <th></th>\n",
       "      <th></th>\n",
       "      <th></th>\n",
       "      <th></th>\n",
       "      <th></th>\n",
       "      <th></th>\n",
       "      <th></th>\n",
       "      <th></th>\n",
       "      <th></th>\n",
       "      <th></th>\n",
       "      <th></th>\n",
       "      <th></th>\n",
       "      <th></th>\n",
       "      <th></th>\n",
       "      <th></th>\n",
       "      <th></th>\n",
       "      <th></th>\n",
       "      <th></th>\n",
       "      <th></th>\n",
       "    </tr>\n",
       "  </thead>\n",
       "  <tbody>\n",
       "    <tr>\n",
       "      <th></th>\n",
       "      <td>string</td>\n",
       "      <td>string</td>\n",
       "      <td>string</td>\n",
       "      <td>string</td>\n",
       "      <td>string</td>\n",
       "      <td>string</td>\n",
       "      <td>string</td>\n",
       "      <td>string</td>\n",
       "      <td>string</td>\n",
       "      <td>string</td>\n",
       "      <td>category[unknown]</td>\n",
       "      <td>string</td>\n",
       "      <td>string</td>\n",
       "      <td>category[unknown]</td>\n",
       "      <td>category[unknown]</td>\n",
       "      <td>category[unknown]</td>\n",
       "      <td>int64</td>\n",
       "      <td>string</td>\n",
       "      <td>string</td>\n",
       "    </tr>\n",
       "    <tr>\n",
       "      <th></th>\n",
       "      <td>...</td>\n",
       "      <td>...</td>\n",
       "      <td>...</td>\n",
       "      <td>...</td>\n",
       "      <td>...</td>\n",
       "      <td>...</td>\n",
       "      <td>...</td>\n",
       "      <td>...</td>\n",
       "      <td>...</td>\n",
       "      <td>...</td>\n",
       "      <td>...</td>\n",
       "      <td>...</td>\n",
       "      <td>...</td>\n",
       "      <td>...</td>\n",
       "      <td>...</td>\n",
       "      <td>...</td>\n",
       "      <td>...</td>\n",
       "      <td>...</td>\n",
       "      <td>...</td>\n",
       "    </tr>\n",
       "    <tr>\n",
       "      <th>...</th>\n",
       "      <td>...</td>\n",
       "      <td>...</td>\n",
       "      <td>...</td>\n",
       "      <td>...</td>\n",
       "      <td>...</td>\n",
       "      <td>...</td>\n",
       "      <td>...</td>\n",
       "      <td>...</td>\n",
       "      <td>...</td>\n",
       "      <td>...</td>\n",
       "      <td>...</td>\n",
       "      <td>...</td>\n",
       "      <td>...</td>\n",
       "      <td>...</td>\n",
       "      <td>...</td>\n",
       "      <td>...</td>\n",
       "      <td>...</td>\n",
       "      <td>...</td>\n",
       "      <td>...</td>\n",
       "    </tr>\n",
       "    <tr>\n",
       "      <th></th>\n",
       "      <td>...</td>\n",
       "      <td>...</td>\n",
       "      <td>...</td>\n",
       "      <td>...</td>\n",
       "      <td>...</td>\n",
       "      <td>...</td>\n",
       "      <td>...</td>\n",
       "      <td>...</td>\n",
       "      <td>...</td>\n",
       "      <td>...</td>\n",
       "      <td>...</td>\n",
       "      <td>...</td>\n",
       "      <td>...</td>\n",
       "      <td>...</td>\n",
       "      <td>...</td>\n",
       "      <td>...</td>\n",
       "      <td>...</td>\n",
       "      <td>...</td>\n",
       "      <td>...</td>\n",
       "    </tr>\n",
       "    <tr>\n",
       "      <th></th>\n",
       "      <td>...</td>\n",
       "      <td>...</td>\n",
       "      <td>...</td>\n",
       "      <td>...</td>\n",
       "      <td>...</td>\n",
       "      <td>...</td>\n",
       "      <td>...</td>\n",
       "      <td>...</td>\n",
       "      <td>...</td>\n",
       "      <td>...</td>\n",
       "      <td>...</td>\n",
       "      <td>...</td>\n",
       "      <td>...</td>\n",
       "      <td>...</td>\n",
       "      <td>...</td>\n",
       "      <td>...</td>\n",
       "      <td>...</td>\n",
       "      <td>...</td>\n",
       "      <td>...</td>\n",
       "    </tr>\n",
       "  </tbody>\n",
       "</table>\n",
       "</div>\n",
       "<div>Dask Name: hash-join, 1 graph layer</div>"
      ],
      "text/plain": [
       "Dask DataFrame Structure:\n",
       "                household_id first_name middle_initial last_name     age date_of_birth street_number street_name unit_number    city              state zipcode housing_type relationship_to_reference_person                sex     race_ethnicity   year record_id     pik\n",
       "npartitions=291                                                                                                                                                                                                                                                             \n",
       "                      string     string         string    string  string        string        string      string      string  string  category[unknown]  string       string                category[unknown]  category[unknown]  category[unknown]  int64    string  string\n",
       "                         ...        ...            ...       ...     ...           ...           ...         ...         ...     ...                ...     ...          ...                              ...                ...                ...    ...       ...     ...\n",
       "...                      ...        ...            ...       ...     ...           ...           ...         ...         ...     ...                ...     ...          ...                              ...                ...                ...    ...       ...     ...\n",
       "                         ...        ...            ...       ...     ...           ...           ...         ...         ...     ...                ...     ...          ...                              ...                ...                ...    ...       ...     ...\n",
       "                         ...        ...            ...       ...     ...           ...           ...         ...         ...     ...                ...     ...          ...                              ...                ...                ...    ...       ...     ...\n",
       "Dask Name: hash-join, 1 graph layer"
      ]
     },
     "execution_count": 108,
     "metadata": {},
     "output_type": "execute_result"
    }
   ],
   "source": [
    "census_2030_piked = census_2030_raw_input.copy()\n",
    "kwargs = {}\n",
    "if compute_engine != 'dask':\n",
    "    kwargs['validate'] = '1:1'\n",
    "census_2030_piked = df_ops.persist(census_2030_piked.merge(\n",
    "    pik_values,\n",
    "    how=\"left\",\n",
    "    on=\"record_id\",\n",
    "    **kwargs,\n",
    "))\n",
    "census_2030_piked"
   ]
  },
  {
   "cell_type": "code",
   "execution_count": 109,
   "id": "5e6566f0-e77b-4b21-968c-05a7ef08eff6",
   "metadata": {
    "editable": true,
    "execution": {
     "iopub.execute_input": "2024-05-16T06:43:42.352648Z",
     "iopub.status.busy": "2024-05-16T06:43:42.351785Z",
     "iopub.status.idle": "2024-05-16T06:43:48.141805Z",
     "shell.execute_reply": "2024-05-16T06:43:48.140446Z"
    },
    "papermill": {
     "duration": 5.857988,
     "end_time": "2024-05-16T06:43:48.145241",
     "exception": false,
     "start_time": "2024-05-16T06:43:42.287253",
     "status": "completed"
    },
    "slideshow": {
     "slide_type": ""
    },
    "tags": []
   },
   "outputs": [
    {
     "name": "stdout",
     "output_type": "stream",
     "text": [
      "89.41% of the input records were PIKed\n"
     ]
    }
   ],
   "source": [
    "piked_proportion = census_2030_piked.pik.notnull().mean()\n",
    "# Compare with 90.28% of input records PIKed in the 2010 CUF,\n",
    "# as reported in Wagner and Layne, Table 2, p. 18\n",
    "print(f'{df_ops.compute(piked_proportion):.2%} of the input records were PIKed')"
   ]
  },
  {
   "cell_type": "code",
   "execution_count": 110,
   "id": "ffc185e2-1d4e-4d8c-98a0-3c0c3d1641cb",
   "metadata": {
    "editable": true,
    "execution": {
     "iopub.execute_input": "2024-05-16T06:43:48.274329Z",
     "iopub.status.busy": "2024-05-16T06:43:48.272725Z",
     "iopub.status.idle": "2024-05-16T06:43:49.712957Z",
     "shell.execute_reply": "2024-05-16T06:43:49.711320Z"
    },
    "papermill": {
     "duration": 1.50659,
     "end_time": "2024-05-16T06:43:49.717043",
     "exception": false,
     "start_time": "2024-05-16T06:43:48.210453",
     "status": "completed"
    },
    "slideshow": {
     "slide_type": ""
    },
    "tags": []
   },
   "outputs": [],
   "source": [
    "df_ops.to_parquet(census_2030_piked, f'{output_dir}/census_2030_piked.parquet')"
   ]
  },
  {
   "cell_type": "code",
   "execution_count": 111,
   "id": "822eb452-ca69-48fc-b1d6-c3425fd5f39e",
   "metadata": {
    "execution": {
     "iopub.execute_input": "2024-05-16T06:43:49.850339Z",
     "iopub.status.busy": "2024-05-16T06:43:49.849437Z",
     "iopub.status.idle": "2024-05-16T06:43:50.905531Z",
     "shell.execute_reply": "2024-05-16T06:43:50.902818Z"
    },
    "papermill": {
     "duration": 1.124301,
     "end_time": "2024-05-16T06:43:50.909629",
     "exception": false,
     "start_time": "2024-05-16T06:43:49.785328",
     "status": "completed"
    },
    "tags": []
   },
   "outputs": [],
   "source": [
    "df_ops.to_parquet(person_linkage_cascade.confirmed_piks, f'{output_dir}/confirmed_piks.parquet')"
   ]
  },
  {
   "cell_type": "code",
   "execution_count": 112,
   "id": "e5ee7cdb-bac3-4245-b1e1-0cdcb6652a27",
   "metadata": {
    "editable": true,
    "execution": {
     "iopub.execute_input": "2024-05-16T06:43:51.044999Z",
     "iopub.status.busy": "2024-05-16T06:43:51.043854Z",
     "iopub.status.idle": "2024-05-16T06:43:51.053049Z",
     "shell.execute_reply": "2024-05-16T06:43:51.051252Z"
    },
    "papermill": {
     "duration": 0.074177,
     "end_time": "2024-05-16T06:43:51.054485",
     "exception": false,
     "start_time": "2024-05-16T06:43:50.980308",
     "status": "completed"
    },
    "slideshow": {
     "slide_type": ""
    },
    "tags": []
   },
   "outputs": [
    {
     "name": "stdout",
     "output_type": "stream",
     "text": [
      "2024-05-15 23:43:51.047328\n"
     ]
    }
   ],
   "source": [
    "# NOTE: Can't use the magic ! date here for reasons I don't really understand having\n",
    "# to do with the number of open file handles. This works fine.\n",
    "print(datetime.datetime.now())"
   ]
  },
  {
   "cell_type": "code",
   "execution_count": 113,
   "id": "eb7b5f77",
   "metadata": {
    "execution": {
     "iopub.execute_input": "2024-05-16T06:43:51.182792Z",
     "iopub.status.busy": "2024-05-16T06:43:51.181933Z",
     "iopub.status.idle": "2024-05-16T06:43:51.226137Z",
     "shell.execute_reply": "2024-05-16T06:43:51.224894Z"
    },
    "papermill": {
     "duration": 0.112723,
     "end_time": "2024-05-16T06:43:51.229572",
     "exception": false,
     "start_time": "2024-05-16T06:43:51.116849",
     "status": "completed"
    },
    "tags": []
   },
   "outputs": [],
   "source": [
    "if splink_engine == 'spark':\n",
    "    stop()\n",
    "    kill_spark_workers()\n",
    "    kill_spark_master()"
   ]
  }
 ],
 "metadata": {
  "kernelspec": {
   "display_name": "Python 3 (ipykernel)",
   "language": "python",
   "name": "python3"
  },
  "language_info": {
   "codemirror_mode": {
    "name": "ipython",
    "version": 3
   },
   "file_extension": ".py",
   "mimetype": "text/x-python",
   "name": "python",
   "nbconvert_exporter": "python",
   "pygments_lexer": "ipython3",
   "version": "3.10.14"
  },
  "papermill": {
   "default_parameters": {},
   "duration": 1662.380704,
   "end_time": "2024-05-16T06:43:53.929594",
   "environment_variables": {},
   "exception": null,
   "input_path": "person_linkage_case_study.ipynb",
   "output_path": "person_linkage_case_study_ri.ipynb",
   "parameters": {
    "compute_engine": "dask",
    "compute_engine_cpus_per_job": 2,
    "compute_engine_memory_per_job": "15GB",
    "compute_engine_num_jobs": 10,
    "data_to_use": "ri",
    "input_dir": "/ihme/scratch/users/zmbc/person_linkage_case_study/generate_simulated_data/",
    "output_dir": "/ihme/scratch/users/zmbc/person_linkage_case_study/results/",
    "spark_cpus_master": 10,
    "spark_cpus_per_worker": 2,
    "spark_memory_master": "30GB",
    "spark_memory_per_worker": "30GB",
    "spark_num_workers": 50,
    "spark_worker_memory_overhead_mb": 5000,
    "splink_engine": "spark"
   },
   "start_time": "2024-05-16T06:16:11.548890",
   "version": "2.5.0"
  },
  "toc-autonumbering": false,
  "toc-showcode": false,
  "toc-showtags": false
 },
 "nbformat": 4,
 "nbformat_minor": 5
}