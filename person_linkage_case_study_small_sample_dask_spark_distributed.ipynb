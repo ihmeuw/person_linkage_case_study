{
 "cells": [
  {
   "cell_type": "markdown",
   "id": "ed9e49e5-db4e-4665-9892-0a679dcc22c5",
   "metadata": {
    "papermill": {
     "duration": 0.029305,
     "end_time": "2024-02-12T19:29:23.910790",
     "exception": false,
     "start_time": "2024-02-12T19:29:23.881485",
     "status": "completed"
    },
    "tags": []
   },
   "source": [
    "# **Person linkage case study**\n",
    "\n",
    "In this case study, we imagine running a person linkage to add unique identifiers to a simulated 2030 Census Unedited File (CUF).\n",
    "We emulate the methods of the Census Bureau's Person Identification Validation System (PVS) using publicly available descriptions.\n",
    "The PVS aims to give people in the input file (the CUF, in this case) unique identifiers that can be used to link them to other administrative records.\n",
    "\n",
    "We approximate the (highly confidential) input data to PVS by using simulated data from our pseudopeople package.\n",
    "See the `generate_simulated_data` notebook for details about this.\n",
    "\n",
    "## Sources\n",
    "\n",
    "These papers describe PVS as their main subject:\n",
    "\n",
    "* Wagner and Layne. The Person Identification Validation System (PVS): Applying the Center for Administrative Records Research and Applications’ (CARRA) Record Linkage Software. 2014. https://www.census.gov/content/dam/Census/library/working-papers/2014/adrm/carra-wp-2014-01.pdf ([archived](https://web.archive.org/web/20230216043235/https://www.census.gov/content/dam/Census/library/working-papers/2014/adrm/carra-wp-2014-01.pdf))\n",
    "* Layne, Wagner, and Rothhaas. Estimating Record Linkage False Match Rate for the Person Identification Validation System. 2014. https://www.census.gov/content/dam/Census/library/working-papers/2014/adrm/carra-wp-2014-02.pdf ([archived](https://web.archive.org/web/20220121051156/https://www.census.gov/content/dam/Census/library/working-papers/2014/adrm/carra-wp-2014-02.pdf))\n",
    "* Alexander et al. Creating a Longitudinal Data Infrastructure at the Census Bureau. 2015. https://www.census.gov/content/dam/Census/library/working-papers/2015/adrm/2015-alexander.pdf ([archived](https://web.archive.org/web/20170723192315/http://www.census.gov/content/dam/Census/library/working-papers/2015/adrm/2015-alexander.pdf))\n",
    "* Massey and O'Hara. Person Matching in Historical Files using the Census Bureau’s Person Validation System. 2014. https://www.census.gov/content/dam/Census/library/working-papers/2014/adrm/carra-wp-2014-11.pdf ([archived](https://web.archive.org/web/20221018074814/http://www.census.gov/content/dam/Census/library/working-papers/2014/adrm/carra-wp-2014-11.pdf))\n",
    "* NORC. Assessment of the U.S. Census Bureau’s Person Identification Validation System. 2011. https://www.norc.org/content/dam/norc-org/pdfs/PVS%20Assessment%20Report%20FINAL%20JULY%202011.pdf ([archived](https://web.archive.org/web/20230705005935/https://www.norc.org/content/dam/norc-org/pdfs/PVS%20Assessment%20Report%20FINAL%20JULY%202011.pdf))\n",
    "\n",
    "These apply PVS to some linking task, and in doing so describe it in some detail:\n",
    "\n",
    "* Brown et al. Real-Time 2020 Administrative Record Census Simulation. 2023. https://www2.census.gov/programs-surveys/decennial/2020/program-management/evaluate-docs/EAE-2020-admin-records-experiment.pdf ([archived](https://web.archive.org/web/20230521191811/https://www2.census.gov/programs-surveys/decennial/2020/program-management/evaluate-docs/EAE-2020-admin-records-experiment.pdf))\n",
    "* Massey et al. Linking the 1940 U.S. Census with Modern Data. 2018. https://www.ncbi.nlm.nih.gov/pmc/articles/PMC6530596/ ([DOI](https://doi.org/10.1080%2F01615440.2018.1507772))\n",
    "* Luque and Wagner. Assessing Coverage and Quality of the 2007 Prototype Census Kidlink Database. 2015. https://www.census.gov/content/dam/Census/library/working-papers/2015/adrm/carra-wp-2015-07.pdf ([archived](https://web.archive.org/web/20220808205231/http://www.census.gov/content/dam/Census/library/working-papers/2015/adrm/carra-wp-2015-07.pdf))\n",
    "* Bond et al. The Nature of the Bias When Studying Only Linkable Person Records: Evidence from the American Community Survey. 2014. https://www.census.gov/content/dam/Census/library/working-papers/2014/adrm/carra-wp-2014-08.pdf ([archived](https://web.archive.org/web/20220803083857/http://www.census.gov/content/dam/Census/library/working-papers/2014/adrm/carra-wp-2014-08.pdf))\n",
    "\n",
    "Finally, this paper is about the address matching process (MAF Match) which acts as part of PVS:\n",
    "\n",
    "* Brummet. Comparison of Survey, Federal, and Commercial Address Data Quality. 2014. https://www.census.gov/content/dam/Census/library/working-papers/2014/adrm/carra-wp-2014-06.pdf ([archived](https://web.archive.org/web/20220121213358/https://www.census.gov/content/dam/Census/library/working-papers/2014/adrm/carra-wp-2014-06.pdf))\n",
    "\n",
    "All of these papers are referenced throughout this notebook (and other notebooks) by the authors' names, along with additional information like page numbers.\n",
    "All page numbers represent those of the PDF files themselves, *not* page numbers printed in the documents.\n",
    "\n",
    "## PVS overview\n",
    "\n",
    "Brown et al., p. 28:\n",
    "\n",
    "> The PVS uses probabilistic record linkage (Fellegi and Sunter, 1969) to match data from an\n",
    "    incoming file (e.g., a survey or administrative record file) to reference files containing data on\n",
    "    SSN applications from the NUMIDENT enhanced with address data obtained from other federal\n",
    "    administrative records.\n",
    "\n",
    "## Setup"
   ]
  },
  {
   "cell_type": "code",
   "execution_count": 1,
   "id": "f0af1f28-7e30-4860-992e-15da22f9b55f",
   "metadata": {
    "execution": {
     "iopub.execute_input": "2024-02-12T19:29:23.950041Z",
     "iopub.status.busy": "2024-02-12T19:29:23.949641Z",
     "iopub.status.idle": "2024-02-12T19:29:24.903350Z",
     "shell.execute_reply": "2024-02-12T19:29:24.902488Z"
    },
    "papermill": {
     "duration": 0.975206,
     "end_time": "2024-02-12T19:29:24.904806",
     "exception": false,
     "start_time": "2024-02-12T19:29:23.929600",
     "status": "completed"
    },
    "tags": []
   },
   "outputs": [],
   "source": [
    "import re, copy, os, time, datetime\n",
    "import pandas, numpy\n",
    "import jellyfish"
   ]
  },
  {
   "cell_type": "code",
   "execution_count": 2,
   "id": "39ce58b3-0901-420f-b6c2-2dfd85e56f78",
   "metadata": {
    "execution": {
     "iopub.execute_input": "2024-02-12T19:29:24.963508Z",
     "iopub.status.busy": "2024-02-12T19:29:24.963004Z",
     "iopub.status.idle": "2024-02-12T19:29:24.966896Z",
     "shell.execute_reply": "2024-02-12T19:29:24.966307Z"
    },
    "papermill": {
     "duration": 0.024574,
     "end_time": "2024-02-12T19:29:24.968010",
     "exception": false,
     "start_time": "2024-02-12T19:29:24.943436",
     "status": "completed"
    },
    "tags": []
   },
   "outputs": [
    {
     "name": "stdout",
     "output_type": "stream",
     "text": [
      "2024-02-12 11:29:24.964402\n"
     ]
    }
   ],
   "source": [
    "print(datetime.datetime.now())"
   ]
  },
  {
   "cell_type": "code",
   "execution_count": 3,
   "id": "10473b3a-f016-4afd-9e0e-cbaa968555e0",
   "metadata": {
    "execution": {
     "iopub.execute_input": "2024-02-12T19:29:25.006225Z",
     "iopub.status.busy": "2024-02-12T19:29:25.005872Z",
     "iopub.status.idle": "2024-02-12T19:29:25.027694Z",
     "shell.execute_reply": "2024-02-12T19:29:25.027274Z"
    },
    "papermill": {
     "duration": 0.042422,
     "end_time": "2024-02-12T19:29:25.028855",
     "exception": false,
     "start_time": "2024-02-12T19:29:24.986433",
     "status": "completed"
    },
    "tags": []
   },
   "outputs": [],
   "source": [
    "%load_ext autoreload\n",
    "%autoreload 1"
   ]
  },
  {
   "cell_type": "code",
   "execution_count": 4,
   "id": "fbae5f8b-f5b0-43db-907b-bdbc83a2d9c6",
   "metadata": {
    "execution": {
     "iopub.execute_input": "2024-02-12T19:29:25.068183Z",
     "iopub.status.busy": "2024-02-12T19:29:25.067777Z",
     "iopub.status.idle": "2024-02-12T19:29:25.078507Z",
     "shell.execute_reply": "2024-02-12T19:29:25.077260Z"
    },
    "papermill": {
     "duration": 0.031542,
     "end_time": "2024-02-12T19:29:25.079991",
     "exception": false,
     "start_time": "2024-02-12T19:29:25.048449",
     "status": "completed"
    },
    "tags": []
   },
   "outputs": [],
   "source": [
    "%aimport vivarium_research_prl\n",
    "from vivarium_research_prl import distributed_compute, utils"
   ]
  },
  {
   "cell_type": "code",
   "execution_count": 5,
   "id": "47bc4e2e-93cb-47f1-b4ab-fedac26382b8",
   "metadata": {
    "editable": true,
    "execution": {
     "iopub.execute_input": "2024-02-12T19:29:25.119447Z",
     "iopub.status.busy": "2024-02-12T19:29:25.119194Z",
     "iopub.status.idle": "2024-02-12T19:29:25.122792Z",
     "shell.execute_reply": "2024-02-12T19:29:25.122284Z"
    },
    "papermill": {
     "duration": 0.024439,
     "end_time": "2024-02-12T19:29:25.123902",
     "exception": false,
     "start_time": "2024-02-12T19:29:25.099463",
     "status": "completed"
    },
    "slideshow": {
     "slide_type": ""
    },
    "tags": [
     "parameters"
    ]
   },
   "outputs": [],
   "source": [
    "# DO NOT EDIT if this notebook is not called person_linkage_case_study.ipynb!\n",
    "# This notebook is designed to be run with papermill; this cell is tagged 'parameters'\n",
    "data_to_use = 'small_sample'\n",
    "input_dir = 'generate_simulated_data/output'\n",
    "output_dir = 'output'\n",
    "\n",
    "# The \"compute engine\" is what we use on the Python side\n",
    "# for our case-study-specific operations,\n",
    "# as opposed to the Splink engine\n",
    "compute_engine = 'pandas'\n",
    "# Only matter if using a distributed compute engine\n",
    "compute_engine_num_jobs = 3\n",
    "compute_engine_cpus_per_job = 2\n",
    "compute_engine_memory_per_job = \"1GB\"\n",
    "\n",
    "splink_engine = 'duckdb'\n",
    "# Only matter if using Spark\n",
    "spark_local = False\n",
    "# Only matter if using distributed (non-local) Spark\n",
    "spark_cpus_master = 2\n",
    "spark_memory_master = \"5GB\"\n",
    "spark_num_workers = 15\n",
    "spark_cpus_per_worker = 2\n",
    "spark_memory_per_worker = \"4GB\"\n",
    "spark_worker_memory_overhead_mb = 500\n",
    "\n",
    "clear_intermediate = True"
   ]
  },
  {
   "cell_type": "code",
   "execution_count": 6,
   "id": "4d32115a",
   "metadata": {
    "execution": {
     "iopub.execute_input": "2024-02-12T19:29:25.162262Z",
     "iopub.status.busy": "2024-02-12T19:29:25.161966Z",
     "iopub.status.idle": "2024-02-12T19:29:25.164627Z",
     "shell.execute_reply": "2024-02-12T19:29:25.164087Z"
    },
    "papermill": {
     "duration": 0.023376,
     "end_time": "2024-02-12T19:29:25.165743",
     "exception": false,
     "start_time": "2024-02-12T19:29:25.142367",
     "status": "completed"
    },
    "tags": [
     "injected-parameters"
    ]
   },
   "outputs": [],
   "source": [
    "# Parameters\n",
    "compute_engine = \"dask\"\n",
    "splink_engine = \"spark\"\n"
   ]
  },
  {
   "cell_type": "code",
   "execution_count": 7,
   "id": "cd911b83-9295-46a4-957f-7de919ce451b",
   "metadata": {
    "execution": {
     "iopub.execute_input": "2024-02-12T19:29:25.204035Z",
     "iopub.status.busy": "2024-02-12T19:29:25.203652Z",
     "iopub.status.idle": "2024-02-12T19:29:25.207508Z",
     "shell.execute_reply": "2024-02-12T19:29:25.206630Z"
    },
    "papermill": {
     "duration": 0.024221,
     "end_time": "2024-02-12T19:29:25.208844",
     "exception": false,
     "start_time": "2024-02-12T19:29:25.184623",
     "status": "completed"
    },
    "tags": []
   },
   "outputs": [],
   "source": [
    "# # Parameters (WIP) for an RI run\n",
    "# data_to_use = \"usa\"\n",
    "# input_dir = \"/ihme/scratch/users/zmbc/person_linkage_case_study/generate_simulated_data\"\n",
    "# output_dir = \"/ihme/scratch/users/zmbc/person_linkage_case_study/person_linkage_case_study\"\n",
    "\n",
    "# compute_engine = 'dask'\n",
    "# compute_engine_num_jobs = 10\n",
    "# compute_engine_memory_per_job = \"5GB\"\n",
    "# compute_engine_cpus_per_job = 2\n",
    "\n",
    "# splink_engine = 'spark'\n",
    "# spark_num_workers = 50\n",
    "# spark_cpus_per_worker = 2\n",
    "# spark_memory_per_worker = \"30GB\"\n",
    "# spark_worker_memory_overhead_mb = 5_000"
   ]
  },
  {
   "cell_type": "code",
   "execution_count": 8,
   "id": "94d42219-f60e-4547-8c98-2bf1b73af392",
   "metadata": {
    "execution": {
     "iopub.execute_input": "2024-02-12T19:29:25.254714Z",
     "iopub.status.busy": "2024-02-12T19:29:25.254538Z",
     "iopub.status.idle": "2024-02-12T19:29:25.257106Z",
     "shell.execute_reply": "2024-02-12T19:29:25.256644Z"
    },
    "papermill": {
     "duration": 0.022644,
     "end_time": "2024-02-12T19:29:25.258226",
     "exception": false,
     "start_time": "2024-02-12T19:29:25.235582",
     "status": "completed"
    },
    "tags": []
   },
   "outputs": [],
   "source": [
    "# # Parameters (WIP) for a full USA run\n",
    "# data_to_use = \"usa\"\n",
    "# input_dir = \"/ihme/scratch/users/zmbc/person_linkage_case_study/generate_simulated_data\"\n",
    "# output_dir = \"/ihme/scratch/users/zmbc/person_linkage_case_study/person_linkage_case_study\"\n",
    "\n",
    "# compute_engine = 'dask'\n",
    "# compute_engine_num_jobs = 50\n",
    "# compute_engine_memory_per_job = \"120GB\"\n",
    "# compute_engine_cpus_per_job = 2\n",
    "\n",
    "# splink_engine = 'spark'\n",
    "# spark_cpus_master = 10\n",
    "# spark_memory_master = \"40GB\"\n",
    "# spark_num_workers = 50\n",
    "# spark_cpus_per_worker = 2\n",
    "# spark_memory_per_worker = \"120GB\"\n",
    "# spark_worker_memory_overhead_mb = 5_000"
   ]
  },
  {
   "cell_type": "code",
   "execution_count": 9,
   "id": "5a0ba030-3ce6-489a-9659-296048287a75",
   "metadata": {
    "execution": {
     "iopub.execute_input": "2024-02-12T19:29:25.295669Z",
     "iopub.status.busy": "2024-02-12T19:29:25.295360Z",
     "iopub.status.idle": "2024-02-12T19:29:25.298039Z",
     "shell.execute_reply": "2024-02-12T19:29:25.297588Z"
    },
    "papermill": {
     "duration": 0.023358,
     "end_time": "2024-02-12T19:29:25.299142",
     "exception": false,
     "start_time": "2024-02-12T19:29:25.275784",
     "status": "completed"
    },
    "tags": []
   },
   "outputs": [],
   "source": [
    "output_dir = f'{output_dir}/{data_to_use}'"
   ]
  },
  {
   "cell_type": "code",
   "execution_count": 10,
   "id": "de2cdd3c-9b84-46fc-a024-adc6b197bf50",
   "metadata": {
    "execution": {
     "iopub.execute_input": "2024-02-12T19:29:25.339172Z",
     "iopub.status.busy": "2024-02-12T19:29:25.338930Z",
     "iopub.status.idle": "2024-02-12T19:29:25.343086Z",
     "shell.execute_reply": "2024-02-12T19:29:25.341827Z"
    },
    "papermill": {
     "duration": 0.024624,
     "end_time": "2024-02-12T19:29:25.344176",
     "exception": false,
     "start_time": "2024-02-12T19:29:25.319552",
     "status": "completed"
    },
    "tags": []
   },
   "outputs": [],
   "source": [
    "import os\n",
    "from pathlib import Path\n",
    "os.environ[\"PATH\"] = f\"{Path('./slurm_within_singularity').resolve()}:{os.environ['PATH']}\""
   ]
  },
  {
   "cell_type": "code",
   "execution_count": 11,
   "id": "da04a59b-ed5b-43b9-a7b0-7e763e20be11",
   "metadata": {
    "execution": {
     "iopub.execute_input": "2024-02-12T19:29:25.381194Z",
     "iopub.status.busy": "2024-02-12T19:29:25.380895Z",
     "iopub.status.idle": "2024-02-12T19:29:40.446599Z",
     "shell.execute_reply": "2024-02-12T19:29:40.445392Z"
    },
    "papermill": {
     "duration": 15.0867,
     "end_time": "2024-02-12T19:29:40.448695",
     "exception": false,
     "start_time": "2024-02-12T19:29:25.361995",
     "status": "completed"
    },
    "tags": []
   },
   "outputs": [
    {
     "data": {
      "text/html": [
       "<div>\n",
       "    <div style=\"width: 24px; height: 24px; background-color: #e1e1e1; border: 3px solid #9D9D9D; border-radius: 5px; position: absolute;\"> </div>\n",
       "    <div style=\"margin-left: 48px;\">\n",
       "        <h3 style=\"margin-bottom: 0px;\">Client</h3>\n",
       "        <p style=\"color: #9D9D9D; margin-bottom: 0px;\">Client-10080908-c9dd-11ee-b1b7-da2ad0b48c48</p>\n",
       "        <table style=\"width: 100%; text-align: left;\">\n",
       "\n",
       "        <tr>\n",
       "        \n",
       "            <td style=\"text-align: left;\"><strong>Connection method:</strong> Cluster object</td>\n",
       "            <td style=\"text-align: left;\"><strong>Cluster type:</strong> dask_jobqueue.SLURMCluster</td>\n",
       "        \n",
       "        </tr>\n",
       "\n",
       "        \n",
       "            <tr>\n",
       "                <td style=\"text-align: left;\">\n",
       "                    <strong>Dashboard: </strong> <a href=\"http://10.158.111.17:8787/status\" target=\"_blank\">http://10.158.111.17:8787/status</a>\n",
       "                </td>\n",
       "                <td style=\"text-align: left;\"></td>\n",
       "            </tr>\n",
       "        \n",
       "\n",
       "        </table>\n",
       "\n",
       "        \n",
       "\n",
       "        \n",
       "            <details>\n",
       "            <summary style=\"margin-bottom: 20px;\"><h3 style=\"display: inline;\">Cluster Info</h3></summary>\n",
       "            <div class=\"jp-RenderedHTMLCommon jp-RenderedHTML jp-mod-trusted jp-OutputArea-output\">\n",
       "    <div style=\"width: 24px; height: 24px; background-color: #e1e1e1; border: 3px solid #9D9D9D; border-radius: 5px; position: absolute;\">\n",
       "    </div>\n",
       "    <div style=\"margin-left: 48px;\">\n",
       "        <h3 style=\"margin-bottom: 0px; margin-top: 0px;\">SLURMCluster</h3>\n",
       "        <p style=\"color: #9D9D9D; margin-bottom: 0px;\">b9a4774f</p>\n",
       "        <table style=\"width: 100%; text-align: left;\">\n",
       "            <tr>\n",
       "                <td style=\"text-align: left;\">\n",
       "                    <strong>Dashboard:</strong> <a href=\"http://10.158.111.17:8787/status\" target=\"_blank\">http://10.158.111.17:8787/status</a>\n",
       "                </td>\n",
       "                <td style=\"text-align: left;\">\n",
       "                    <strong>Workers:</strong> 3\n",
       "                </td>\n",
       "            </tr>\n",
       "            <tr>\n",
       "                <td style=\"text-align: left;\">\n",
       "                    <strong>Total threads:</strong> 3\n",
       "                </td>\n",
       "                <td style=\"text-align: left;\">\n",
       "                    <strong>Total memory:</strong> 2.79 GiB\n",
       "                </td>\n",
       "            </tr>\n",
       "            \n",
       "        </table>\n",
       "\n",
       "        <details>\n",
       "            <summary style=\"margin-bottom: 20px;\">\n",
       "                <h3 style=\"display: inline;\">Scheduler Info</h3>\n",
       "            </summary>\n",
       "\n",
       "            <div style=\"\">\n",
       "    <div>\n",
       "        <div style=\"width: 24px; height: 24px; background-color: #FFF7E5; border: 3px solid #FF6132; border-radius: 5px; position: absolute;\"> </div>\n",
       "        <div style=\"margin-left: 48px;\">\n",
       "            <h3 style=\"margin-bottom: 0px;\">Scheduler</h3>\n",
       "            <p style=\"color: #9D9D9D; margin-bottom: 0px;\">Scheduler-a8e8df0e-c880-4ebf-83e8-80d986d92dc8</p>\n",
       "            <table style=\"width: 100%; text-align: left;\">\n",
       "                <tr>\n",
       "                    <td style=\"text-align: left;\">\n",
       "                        <strong>Comm:</strong> tcp://10.158.111.17:36149\n",
       "                    </td>\n",
       "                    <td style=\"text-align: left;\">\n",
       "                        <strong>Workers:</strong> 3\n",
       "                    </td>\n",
       "                </tr>\n",
       "                <tr>\n",
       "                    <td style=\"text-align: left;\">\n",
       "                        <strong>Dashboard:</strong> <a href=\"http://10.158.111.17:8787/status\" target=\"_blank\">http://10.158.111.17:8787/status</a>\n",
       "                    </td>\n",
       "                    <td style=\"text-align: left;\">\n",
       "                        <strong>Total threads:</strong> 3\n",
       "                    </td>\n",
       "                </tr>\n",
       "                <tr>\n",
       "                    <td style=\"text-align: left;\">\n",
       "                        <strong>Started:</strong> Just now\n",
       "                    </td>\n",
       "                    <td style=\"text-align: left;\">\n",
       "                        <strong>Total memory:</strong> 2.79 GiB\n",
       "                    </td>\n",
       "                </tr>\n",
       "            </table>\n",
       "        </div>\n",
       "    </div>\n",
       "\n",
       "    <details style=\"margin-left: 48px;\">\n",
       "        <summary style=\"margin-bottom: 20px;\">\n",
       "            <h3 style=\"display: inline;\">Workers</h3>\n",
       "        </summary>\n",
       "\n",
       "        \n",
       "        <div style=\"margin-bottom: 20px;\">\n",
       "            <div style=\"width: 24px; height: 24px; background-color: #DBF5FF; border: 3px solid #4CC9FF; border-radius: 5px; position: absolute;\"> </div>\n",
       "            <div style=\"margin-left: 48px;\">\n",
       "            <details>\n",
       "                <summary>\n",
       "                    <h4 style=\"margin-bottom: 0px; display: inline;\">Worker: SLURMCluster-0</h4>\n",
       "                </summary>\n",
       "                <table style=\"width: 100%; text-align: left;\">\n",
       "                    <tr>\n",
       "                        <td style=\"text-align: left;\">\n",
       "                            <strong>Comm: </strong> tcp://10.158.148.29:41577\n",
       "                        </td>\n",
       "                        <td style=\"text-align: left;\">\n",
       "                            <strong>Total threads: </strong> 1\n",
       "                        </td>\n",
       "                    </tr>\n",
       "                    <tr>\n",
       "                        <td style=\"text-align: left;\">\n",
       "                            <strong>Dashboard: </strong> <a href=\"http://10.158.148.29:41559/status\" target=\"_blank\">http://10.158.148.29:41559/status</a>\n",
       "                        </td>\n",
       "                        <td style=\"text-align: left;\">\n",
       "                            <strong>Memory: </strong> 0.93 GiB\n",
       "                        </td>\n",
       "                    </tr>\n",
       "                    <tr>\n",
       "                        <td style=\"text-align: left;\">\n",
       "                            <strong>Nanny: </strong> tcp://10.158.148.29:36271\n",
       "                        </td>\n",
       "                        <td style=\"text-align: left;\"></td>\n",
       "                    </tr>\n",
       "                    <tr>\n",
       "                        <td colspan=\"2\" style=\"text-align: left;\">\n",
       "                            <strong>Local directory: </strong> /tmp/zmbc_dask/dask-scratch-space/worker-qkaufw7l\n",
       "                        </td>\n",
       "                    </tr>\n",
       "\n",
       "                    \n",
       "\n",
       "                    \n",
       "\n",
       "                </table>\n",
       "            </details>\n",
       "            </div>\n",
       "        </div>\n",
       "        \n",
       "        <div style=\"margin-bottom: 20px;\">\n",
       "            <div style=\"width: 24px; height: 24px; background-color: #DBF5FF; border: 3px solid #4CC9FF; border-radius: 5px; position: absolute;\"> </div>\n",
       "            <div style=\"margin-left: 48px;\">\n",
       "            <details>\n",
       "                <summary>\n",
       "                    <h4 style=\"margin-bottom: 0px; display: inline;\">Worker: SLURMCluster-1</h4>\n",
       "                </summary>\n",
       "                <table style=\"width: 100%; text-align: left;\">\n",
       "                    <tr>\n",
       "                        <td style=\"text-align: left;\">\n",
       "                            <strong>Comm: </strong> tcp://10.158.148.29:42779\n",
       "                        </td>\n",
       "                        <td style=\"text-align: left;\">\n",
       "                            <strong>Total threads: </strong> 1\n",
       "                        </td>\n",
       "                    </tr>\n",
       "                    <tr>\n",
       "                        <td style=\"text-align: left;\">\n",
       "                            <strong>Dashboard: </strong> <a href=\"http://10.158.148.29:35533/status\" target=\"_blank\">http://10.158.148.29:35533/status</a>\n",
       "                        </td>\n",
       "                        <td style=\"text-align: left;\">\n",
       "                            <strong>Memory: </strong> 0.93 GiB\n",
       "                        </td>\n",
       "                    </tr>\n",
       "                    <tr>\n",
       "                        <td style=\"text-align: left;\">\n",
       "                            <strong>Nanny: </strong> tcp://10.158.148.29:37755\n",
       "                        </td>\n",
       "                        <td style=\"text-align: left;\"></td>\n",
       "                    </tr>\n",
       "                    <tr>\n",
       "                        <td colspan=\"2\" style=\"text-align: left;\">\n",
       "                            <strong>Local directory: </strong> /tmp/zmbc_dask/dask-scratch-space/worker-x9t58ri8\n",
       "                        </td>\n",
       "                    </tr>\n",
       "\n",
       "                    \n",
       "\n",
       "                    \n",
       "\n",
       "                </table>\n",
       "            </details>\n",
       "            </div>\n",
       "        </div>\n",
       "        \n",
       "        <div style=\"margin-bottom: 20px;\">\n",
       "            <div style=\"width: 24px; height: 24px; background-color: #DBF5FF; border: 3px solid #4CC9FF; border-radius: 5px; position: absolute;\"> </div>\n",
       "            <div style=\"margin-left: 48px;\">\n",
       "            <details>\n",
       "                <summary>\n",
       "                    <h4 style=\"margin-bottom: 0px; display: inline;\">Worker: SLURMCluster-2</h4>\n",
       "                </summary>\n",
       "                <table style=\"width: 100%; text-align: left;\">\n",
       "                    <tr>\n",
       "                        <td style=\"text-align: left;\">\n",
       "                            <strong>Comm: </strong> tcp://10.158.148.29:39245\n",
       "                        </td>\n",
       "                        <td style=\"text-align: left;\">\n",
       "                            <strong>Total threads: </strong> 1\n",
       "                        </td>\n",
       "                    </tr>\n",
       "                    <tr>\n",
       "                        <td style=\"text-align: left;\">\n",
       "                            <strong>Dashboard: </strong> <a href=\"http://10.158.148.29:33937/status\" target=\"_blank\">http://10.158.148.29:33937/status</a>\n",
       "                        </td>\n",
       "                        <td style=\"text-align: left;\">\n",
       "                            <strong>Memory: </strong> 0.93 GiB\n",
       "                        </td>\n",
       "                    </tr>\n",
       "                    <tr>\n",
       "                        <td style=\"text-align: left;\">\n",
       "                            <strong>Nanny: </strong> tcp://10.158.148.29:44775\n",
       "                        </td>\n",
       "                        <td style=\"text-align: left;\"></td>\n",
       "                    </tr>\n",
       "                    <tr>\n",
       "                        <td colspan=\"2\" style=\"text-align: left;\">\n",
       "                            <strong>Local directory: </strong> /tmp/zmbc_dask/dask-scratch-space/worker-v7zsio3k\n",
       "                        </td>\n",
       "                    </tr>\n",
       "\n",
       "                    \n",
       "\n",
       "                    \n",
       "\n",
       "                </table>\n",
       "            </details>\n",
       "            </div>\n",
       "        </div>\n",
       "        \n",
       "\n",
       "    </details>\n",
       "</div>\n",
       "\n",
       "        </details>\n",
       "    </div>\n",
       "</div>\n",
       "            </details>\n",
       "        \n",
       "\n",
       "    </div>\n",
       "</div>"
      ],
      "text/plain": [
       "<Client: 'tcp://10.158.111.17:36149' processes=3 threads=3, memory=2.79 GiB>"
      ]
     },
     "metadata": {},
     "output_type": "display_data"
    }
   ],
   "source": [
    "df_ops, pd = distributed_compute.start_compute_engine(\n",
    "    compute_engine,\n",
    "    num_jobs=compute_engine_num_jobs,\n",
    "    cpus_per_job=compute_engine_cpus_per_job,\n",
    "    memory_per_job=compute_engine_memory_per_job,\n",
    ")"
   ]
  },
  {
   "cell_type": "code",
   "execution_count": null,
   "id": "65ab2072-f46d-49eb-a4d1-a89a30f1de36",
   "metadata": {
    "papermill": {
     "duration": 0.027032,
     "end_time": "2024-02-12T19:29:40.506464",
     "exception": false,
     "start_time": "2024-02-12T19:29:40.479432",
     "status": "completed"
    },
    "tags": []
   },
   "outputs": [],
   "source": []
  },
  {
   "cell_type": "code",
   "execution_count": 12,
   "id": "4efdd565-6ae1-4bf9-b124-8e3d05d90143",
   "metadata": {
    "execution": {
     "iopub.execute_input": "2024-02-12T19:29:40.568197Z",
     "iopub.status.busy": "2024-02-12T19:29:40.567876Z",
     "iopub.status.idle": "2024-02-12T19:29:40.579751Z",
     "shell.execute_reply": "2024-02-12T19:29:40.579019Z"
    },
    "papermill": {
     "duration": 0.044018,
     "end_time": "2024-02-12T19:29:40.581717",
     "exception": false,
     "start_time": "2024-02-12T19:29:40.537699",
     "status": "completed"
    },
    "tags": []
   },
   "outputs": [],
   "source": [
    "import pathlib\n",
    "pwd = os.getcwd()\n",
    "slurm_output_dir = f\"{output_dir}/slurm_output\"\n",
    "if clear_intermediate:\n",
    "    utils.ensure_empty(slurm_output_dir)"
   ]
  },
  {
   "cell_type": "code",
   "execution_count": 13,
   "id": "152189c1-e987-4000-b386-684d0938737c",
   "metadata": {
    "execution": {
     "iopub.execute_input": "2024-02-12T19:29:40.640065Z",
     "iopub.status.busy": "2024-02-12T19:29:40.639517Z",
     "iopub.status.idle": "2024-02-12T19:29:40.764243Z",
     "shell.execute_reply": "2024-02-12T19:29:40.763533Z"
    },
    "papermill": {
     "duration": 0.155941,
     "end_time": "2024-02-12T19:29:40.766199",
     "exception": false,
     "start_time": "2024-02-12T19:29:40.610258",
     "status": "completed"
    },
    "tags": []
   },
   "outputs": [],
   "source": [
    "import requests"
   ]
  },
  {
   "cell_type": "code",
   "execution_count": 14,
   "id": "7eccb943-b21f-46ed-a22f-2c200cd83a36",
   "metadata": {
    "execution": {
     "iopub.execute_input": "2024-02-12T19:29:40.824262Z",
     "iopub.status.busy": "2024-02-12T19:29:40.823963Z",
     "iopub.status.idle": "2024-02-12T19:29:40.830286Z",
     "shell.execute_reply": "2024-02-12T19:29:40.829405Z"
    },
    "papermill": {
     "duration": 0.037985,
     "end_time": "2024-02-12T19:29:40.832255",
     "exception": false,
     "start_time": "2024-02-12T19:29:40.794270",
     "status": "completed"
    },
    "tags": []
   },
   "outputs": [],
   "source": [
    "if spark_memory_per_worker.endswith('G') or spark_memory_per_worker.endswith('GB'):\n",
    "    spark_memory_per_worker = int(re.search(r'(\\d+)GB?', spark_memory_per_worker).group(1)) * 1_000\n",
    "elif spark_memory_per_worker.endswith('M') or spark_memory_per_worker.endswith('MB'):\n",
    "    spark_memory_per_worker = int(re.search(r'(\\d+)MB?', spark_memory_per_worker).group(1))\n",
    "else:\n",
    "    raise ValueError()"
   ]
  },
  {
   "cell_type": "code",
   "execution_count": 15,
   "id": "3c6ca817-6be3-49ff-89fb-6fc6647f9500",
   "metadata": {
    "editable": true,
    "execution": {
     "iopub.execute_input": "2024-02-12T19:29:40.889166Z",
     "iopub.status.busy": "2024-02-12T19:29:40.888871Z",
     "iopub.status.idle": "2024-02-12T19:31:02.408043Z",
     "shell.execute_reply": "2024-02-12T19:31:02.394507Z"
    },
    "papermill": {
     "duration": 81.571115,
     "end_time": "2024-02-12T19:31:02.430997",
     "exception": false,
     "start_time": "2024-02-12T19:29:40.859882",
     "status": "completed"
    },
    "slideshow": {
     "slide_type": ""
    },
    "tags": []
   },
   "outputs": [
    {
     "name": "stdout",
     "output_type": "stream",
     "text": [
      "Starting Spark master\n"
     ]
    },
    {
     "name": "stdout",
     "output_type": "stream",
     "text": [
      "Got Spark master URL: spark://long-slurm-sarchive-p0008.cluster.ihme.washington.edu:28508\n",
      "24/02/12 19:29:57 INFO MasterWebUI: Bound MasterWebUI to 0.0.0.0, and started at http://long-slurm-sarchive-p0008.cluster.ihme.washington.edu:28509\n",
      "Starting Spark workers\n"
     ]
    },
    {
     "name": "stdout",
     "output_type": "stream",
     "text": [
      "24/02/12 19:30:35 INFO Worker: Starting Spark worker 10.158.148.240:45093 with 1 cores, 3.9 GiB RAM\n",
      "24/02/12 19:30:36 INFO WorkerWebUI: Bound WorkerWebUI to 0.0.0.0, and started at http://long-slurm-sarchive-p0006.cluster.ihme.washington.edu:28510\n",
      "24/02/12 19:30:41 INFO Worker: Starting Spark worker 10.158.148.230:33557 with 1 cores, 3.9 GiB RAM\n",
      "24/02/12 19:30:41 INFO WorkerWebUI: Bound WorkerWebUI to 0.0.0.0, and started at http://long-slurm-sarchive-p0007.cluster.ihme.washington.edu:28512\n",
      "24/02/12 19:30:41 INFO Worker: Starting Spark worker 10.158.148.230:45693 with 1 cores, 3.9 GiB RAM\n",
      "24/02/12 19:30:41 INFO WorkerWebUI: Bound WorkerWebUI to 0.0.0.0, and started at http://long-slurm-sarchive-p0007.cluster.ihme.washington.edu:28518\n",
      "24/02/12 19:30:41 INFO Worker: Starting Spark worker 10.158.148.230:35461 with 1 cores, 3.9 GiB RAM\n",
      "24/02/12 19:30:41 INFO WorkerWebUI: Bound WorkerWebUI to 0.0.0.0, and started at http://long-slurm-sarchive-p0007.cluster.ihme.washington.edu:28519\n",
      "24/02/12 19:30:41 INFO Worker: Starting Spark worker 10.158.148.230:44403 with 1 cores, 3.9 GiB RAM\n",
      "24/02/12 19:30:41 INFO WorkerWebUI: Bound WorkerWebUI to 0.0.0.0, and started at http://long-slurm-sarchive-p0007.cluster.ihme.washington.edu:28515\n",
      "24/02/12 19:30:41 INFO Worker: Starting Spark worker 10.158.148.230:44613 with 1 cores, 3.9 GiB RAM\n",
      "24/02/12 19:30:41 INFO WorkerWebUI: Bound WorkerWebUI to 0.0.0.0, and started at http://long-slurm-sarchive-p0007.cluster.ihme.washington.edu:28511\n",
      "24/02/12 19:30:41 INFO Worker: Starting Spark worker 10.158.148.230:44269 with 1 cores, 3.9 GiB RAM\n",
      "24/02/12 19:30:41 INFO WorkerWebUI: Bound WorkerWebUI to 0.0.0.0, and started at http://long-slurm-sarchive-p0007.cluster.ihme.washington.edu:28520\n",
      "24/02/12 19:30:35 INFO Worker: Starting Spark worker 10.158.148.240:37133 with 1 cores, 3.9 GiB RAM\n",
      "24/02/12 19:30:36 INFO WorkerWebUI: Bound WorkerWebUI to 0.0.0.0, and started at http://long-slurm-sarchive-p0006.cluster.ihme.washington.edu:28511\n",
      "24/02/12 19:30:36 INFO Worker: Starting Spark worker 10.158.148.240:43425 with 1 cores, 3.9 GiB RAM\n",
      "24/02/12 19:30:36 INFO WorkerWebUI: Bound WorkerWebUI to 0.0.0.0, and started at http://long-slurm-sarchive-p0006.cluster.ihme.washington.edu:28512\n",
      "24/02/12 19:30:36 INFO Worker: Starting Spark worker 10.158.148.240:46205 with 1 cores, 3.9 GiB RAM\n",
      "24/02/12 19:30:36 INFO WorkerWebUI: Bound WorkerWebUI to 0.0.0.0, and started at http://long-slurm-sarchive-p0006.cluster.ihme.washington.edu:28513\n",
      "24/02/12 19:30:41 INFO Worker: Starting Spark worker 10.158.148.230:39349 with 1 cores, 3.9 GiB RAM\n",
      "24/02/12 19:30:41 INFO WorkerWebUI: Bound WorkerWebUI to 0.0.0.0, and started at http://long-slurm-sarchive-p0007.cluster.ihme.washington.edu:28513\n",
      "24/02/12 19:30:41 INFO Worker: Starting Spark worker 10.158.148.230:33435 with 1 cores, 3.9 GiB RAM\n",
      "24/02/12 19:30:41 INFO WorkerWebUI: Bound WorkerWebUI to 0.0.0.0, and started at http://long-slurm-sarchive-p0007.cluster.ihme.washington.edu:28517\n",
      "24/02/12 19:30:41 INFO Worker: Starting Spark worker 10.158.148.230:44069 with 1 cores, 3.9 GiB RAM\n",
      "24/02/12 19:30:41 INFO WorkerWebUI: Bound WorkerWebUI to 0.0.0.0, and started at http://long-slurm-sarchive-p0007.cluster.ihme.washington.edu:28516\n",
      "24/02/12 19:30:41 INFO Worker: Starting Spark worker 10.158.148.230:46869 with 1 cores, 3.9 GiB RAM\n",
      "24/02/12 19:30:41 INFO WorkerWebUI: Bound WorkerWebUI to 0.0.0.0, and started at http://long-slurm-sarchive-p0007.cluster.ihme.washington.edu:28510\n",
      "24/02/12 19:30:41 INFO Worker: Starting Spark worker 10.158.148.230:39543 with 1 cores, 3.9 GiB RAM\n",
      "24/02/12 19:30:41 INFO WorkerWebUI: Bound WorkerWebUI to 0.0.0.0, and started at http://long-slurm-sarchive-p0007.cluster.ihme.washington.edu:28514\n"
     ]
    }
   ],
   "source": [
    "if splink_engine == 'spark':\n",
    "    if spark_local:\n",
    "        spark_master_url = \"local[2]\"\n",
    "    else:\n",
    "        log_path = f\"{slurm_output_dir}/spark-master-%j.out\"\n",
    "        array_job_log_path = f\"{slurm_output_dir}/spark-worker-%A_%a.out\"\n",
    "        print(\"Starting Spark master\")\n",
    "        spark_start_master_output = os.popen(\n",
    "            f\"sbatch --output {log_path} --error {log_path} \"\n",
    "            f\"--cpus-per-task {spark_cpus_master} --mem {spark_memory_master} \"\n",
    "            f\"-A proj_simscience -p long.q {pwd}/start_spark_master.sh\"\n",
    "        ).read()\n",
    "        spark_master_job_id = re.match('Submitted batch job (\\d+)', spark_start_master_output)[1]\n",
    "\n",
    "        # TODO: This cleanup is not actually working\n",
    "        import atexit\n",
    "        \n",
    "        def kill_spark_master():\n",
    "            os.popen(f\"scancel {spark_master_job_id}\").read()\n",
    "        \n",
    "        atexit.register(kill_spark_master)\n",
    "\n",
    "        while True:\n",
    "            logs = os.popen(f\"ssh $(hostname) -q -t cat {log_path.replace('%j', spark_master_job_id)} 2>&1\").read()\n",
    "            starting_lines = [l for l in logs.split('\\n') if 'Starting Spark master at' in l]\n",
    "            webui_starting_lines = [l for l in logs.split('\\n') if 'Bound MasterWebUI to' in l]\n",
    "            if len(starting_lines) > 0 and len(webui_starting_lines) > 0:\n",
    "                break\n",
    "            else:\n",
    "                time.sleep(5)\n",
    "\n",
    "        spark_master_url = re.match('.*Starting Spark master at (spark:.+)$', starting_lines[0])[1]\n",
    "        spark_master_webui_url = re.match('.*Bound MasterWebUI to .*, and started at (http:.+)$', webui_starting_lines[0])[1]\n",
    "        print(f'Got Spark master URL: {spark_master_url}')\n",
    "        print('\\n'.join([l for l in logs.split('\\n') if 'Bound MasterWebUI' in l]))\n",
    "\n",
    "        spark_worker_job_ids = []\n",
    "\n",
    "        def start_spark_workers(n_workers):\n",
    "            spark_start_workers_output = os.popen(\n",
    "                f\"sbatch --output {array_job_log_path} --error {array_job_log_path} \"\n",
    "                f\"--array=1-{n_workers} --cpus-per-task {spark_cpus_per_worker} --mem {spark_memory_per_worker} \"\n",
    "                f\"-A proj_simscience -p long.q {pwd}/start_spark_workers.sh {spark_master_url} {spark_worker_memory_overhead_mb}\"\n",
    "            ).read()\n",
    "            job_id = re.match('Submitted batch job (\\d+)', spark_start_workers_output)[1]\n",
    "            spark_worker_job_ids.append(job_id)\n",
    "\n",
    "            while True:\n",
    "                logs = os.popen(f\"ssh $(hostname) -q -t cat {array_job_log_path.replace('%A', job_id).replace('%a', '*')} 2>&1\").read()\n",
    "                starting_lines = [l for l in logs.split('\\n') if 'Starting Spark worker' in l]\n",
    "                if len(starting_lines) == n_workers:\n",
    "                    print('\\n'.join([l for l in logs.split('\\n') if 'Starting Spark worker' in l or 'Bound WorkerWebUI' in l]))\n",
    "                    break\n",
    "                else:\n",
    "                    time.sleep(5)\n",
    "\n",
    "            return job_id\n",
    "\n",
    "        print('Starting Spark workers')\n",
    "        spark_workers_job_id = start_spark_workers(spark_num_workers)\n",
    "\n",
    "        def kill_spark_workers():\n",
    "            for job_id in spark_worker_job_ids:\n",
    "                os.popen(f\"scancel {job_id}\").read()\n",
    "\n",
    "        atexit.register(kill_spark_workers)\n",
    "\n",
    "        import asyncio\n",
    "        import requests\n",
    "\n",
    "        def maintain_spark_worker_count():\n",
    "            while True:\n",
    "                alive_workers = requests.get(f'{spark_master_webui_url}/json/').json()['aliveworkers']\n",
    "                if alive_workers < spark_num_workers:\n",
    "                    num_to_start = spark_num_workers - alive_workers\n",
    "                    print(f\"Starting {num_to_start} more Spark worker(s)\")\n",
    "                    start_spark_workers(num_to_start)\n",
    "                time.sleep(20)\n",
    "\n",
    "        def stop():\n",
    "            task.cancel()\n",
    "\n",
    "        atexit.register(stop)\n",
    "\n",
    "        loop = asyncio.get_event_loop()\n",
    "        task = loop.run_in_executor(None, maintain_spark_worker_count)"
   ]
  },
  {
   "cell_type": "markdown",
   "id": "86e8c9a9-d691-4110-baed-683004701894",
   "metadata": {
    "papermill": {
     "duration": 0.028121,
     "end_time": "2024-02-12T19:31:02.487471",
     "exception": false,
     "start_time": "2024-02-12T19:31:02.459350",
     "status": "completed"
    },
    "tags": []
   },
   "source": [
    "# Load data\n",
    "\n",
    "See code in `generate_simulated_data` directory for how we generated the files to link"
   ]
  },
  {
   "cell_type": "code",
   "execution_count": 16,
   "id": "cdf1086b-639c-4421-95ef-dc4108b7fd9a",
   "metadata": {
    "execution": {
     "iopub.execute_input": "2024-02-12T19:31:02.547115Z",
     "iopub.status.busy": "2024-02-12T19:31:02.546344Z",
     "iopub.status.idle": "2024-02-12T19:31:04.715294Z",
     "shell.execute_reply": "2024-02-12T19:31:04.714290Z"
    },
    "papermill": {
     "duration": 2.201421,
     "end_time": "2024-02-12T19:31:04.718243",
     "exception": false,
     "start_time": "2024-02-12T19:31:02.516822",
     "status": "completed"
    },
    "tags": []
   },
   "outputs": [],
   "source": [
    "census_2030 = df_ops.persist(df_ops.read_parquet(f'{input_dir}/{data_to_use}/simulated_census_2030.parquet'))\n",
    "geobase_reference_file = df_ops.persist(df_ops.read_parquet(f'{input_dir}/{data_to_use}/simulated_geobase_reference_file.parquet'))\n",
    "name_dob_reference_file = df_ops.persist(df_ops.read_parquet(f'{input_dir}/{data_to_use}/simulated_name_dob_reference_file.parquet'))"
   ]
  },
  {
   "cell_type": "markdown",
   "id": "5bc6d16d-f4c9-4c1a-b969-baee5ac539ad",
   "metadata": {
    "papermill": {
     "duration": 0.028483,
     "end_time": "2024-02-12T19:31:04.778182",
     "exception": false,
     "start_time": "2024-02-12T19:31:04.749699",
     "status": "completed"
    },
    "tags": []
   },
   "source": [
    "# Pre-process input file\n",
    "\n",
    "Wagner and Layne, p. 9:\n",
    "\n",
    "> The first step of the PVS process is to edit data fields to make them homogenous for\n",
    "comparisons between incoming and reference files."
   ]
  },
  {
   "cell_type": "code",
   "execution_count": 17,
   "id": "ee0111f6-d8e0-4758-a242-70027d67b313",
   "metadata": {
    "execution": {
     "iopub.execute_input": "2024-02-12T19:31:04.836556Z",
     "iopub.status.busy": "2024-02-12T19:31:04.835938Z",
     "iopub.status.idle": "2024-02-12T19:31:04.843089Z",
     "shell.execute_reply": "2024-02-12T19:31:04.842398Z"
    },
    "papermill": {
     "duration": 0.038986,
     "end_time": "2024-02-12T19:31:04.844936",
     "exception": false,
     "start_time": "2024-02-12T19:31:04.805950",
     "status": "completed"
    },
    "tags": []
   },
   "outputs": [],
   "source": [
    "# Input file before any processing; the final result will be this with the PIK column added\n",
    "census_2030_raw_input = census_2030.copy()"
   ]
  },
  {
   "cell_type": "markdown",
   "id": "829cf59a-804c-4372-bcbf-740ec724b3ee",
   "metadata": {
    "papermill": {
     "duration": 0.028558,
     "end_time": "2024-02-12T19:31:04.901745",
     "exception": false,
     "start_time": "2024-02-12T19:31:04.873187",
     "status": "completed"
    },
    "tags": []
   },
   "source": [
    "## Name parsing and standardizing\n",
    "\n",
    "Wagner and Layne, p. 9:\n",
    "\n",
    "> The first edits are parsing and standardizing - parsing separates fields into\n",
    "component parts, while standardizing guarantees key data elements are consistent (e.g.,\n",
    "STREET, STR are both converted to ST). Name and address fields are parsed and\n",
    "standardized as they are key linkage comparators. \n",
    "\n",
    "As noted in the data generation notebook, there is no parsing to be done here:\n",
    "because the Census questionnnaire asks for first name, middle initial, and last name as\n",
    "separate fields on the form, the name would be already parsed when running PVS on the CUF.\n",
    "\n",
    "The real PVS name parser generates fields like prefix (e.g. Mr.) and suffix (e.g. Jr.)\n",
    "but we never have these in names from pseudopeople.\n",
    "\n",
    "More details about the name parser and standardizer (Wagner and Layne, p. 10):\n",
    "\n",
    "> The PVS system incorporates a name\n",
    "standardizer (McGaughey, 1994), which is a C language subroutine called as a function\n",
    "within SAS. It performs name parsing and includes a nickname lookup table and outputs\n",
    "name variants (standardized variations of first and last names). For example, Bill\n",
    "becomes William, Chuck and Charlie becomes Charles, etc. The PVS keeps both the\n",
    "original name (Bill) and the converted name (William) for matching. PVS also has a fake\n",
    "name table to blank names such as “Queen of the House” or “Baby Girl.” The name data\n",
    "are parsed, checked for nicknames, and standardized.\n",
    "\n",
    "The key thing that wasn't clear to me from this description was what it meant to\n",
    "\"keep both original name and the converted name for matching.\"\n",
    "I found this in Massey et al.:\n",
    "\n",
    "> The Name Search Module also accounts for instances where census records contain a nickname.\n",
    "> For these records, the preprocessing step of the Name Search module outputs two records for\n",
    "> these observations, one record for the nickname and one record for the formal name.\n",
    "> For example, if the input record has the name “Bill Smith,” the formatting program will add\n",
    "> a formal name “William” to that record. This record will then output to both the B-S cut and to the W-S cut.\n",
    "\n",
    "From this, I gather that nicknames work similar to alternate names in the reference file:\n",
    "entire duplicate records are made with each name (nickname and formal).\n",
    "However, I am still confused by calling this \"the preprocessing step **of the Name Search module**.\"\n",
    "In Wagner and Layne it does not seem like this is module-specific, and I don't see any\n",
    "reason that would be desirable, so I have done this multi-record approach across all modules."
   ]
  },
  {
   "cell_type": "code",
   "execution_count": 18,
   "id": "7b449705-cd3f-4a14-9520-b4dfb1fa481b",
   "metadata": {
    "execution": {
     "iopub.execute_input": "2024-02-12T19:31:04.961742Z",
     "iopub.status.busy": "2024-02-12T19:31:04.961194Z",
     "iopub.status.idle": "2024-02-12T19:31:05.016518Z",
     "shell.execute_reply": "2024-02-12T19:31:05.015175Z"
    },
    "papermill": {
     "duration": 0.087381,
     "end_time": "2024-02-12T19:31:05.019107",
     "exception": false,
     "start_time": "2024-02-12T19:31:04.931726",
     "status": "completed"
    },
    "tags": []
   },
   "outputs": [
    {
     "name": "stdout",
     "output_type": "stream",
     "text": [
      "4 nicknames in the Census\n"
     ]
    }
   ],
   "source": [
    "# Nickname processing\n",
    "# Have not yet found a nickname list in PVS docs,\n",
    "# so we do a minimal version for now -- could use\n",
    "# another list such as the one in pseudopeople\n",
    "# These examples all come directly from examples in the descriptions of PVS\n",
    "nickname_standardizations = {\n",
    "    \"Bill\": \"William\",\n",
    "    \"Chuck\": \"Charles\",\n",
    "    \"Charlie\": \"Charles\",\n",
    "    \"Cathy\": \"Catherine\",\n",
    "    \"Matt\": \"Matthew\",\n",
    "}\n",
    "has_nickname = df_ops.persist(census_2030.first_name.isin(nickname_standardizations.keys()))\n",
    "print(f'{df_ops.compute(has_nickname.sum()):,.0f} nicknames in the Census')"
   ]
  },
  {
   "cell_type": "code",
   "execution_count": 19,
   "id": "8b119152-d5db-4d78-bab9-b15feae95f98",
   "metadata": {
    "execution": {
     "iopub.execute_input": "2024-02-12T19:31:05.078145Z",
     "iopub.status.busy": "2024-02-12T19:31:05.077699Z",
     "iopub.status.idle": "2024-02-12T19:31:05.281438Z",
     "shell.execute_reply": "2024-02-12T19:31:05.280099Z"
    },
    "papermill": {
     "duration": 0.235663,
     "end_time": "2024-02-12T19:31:05.283336",
     "exception": false,
     "start_time": "2024-02-12T19:31:05.047673",
     "status": "completed"
    },
    "tags": []
   },
   "outputs": [],
   "source": [
    "# Add extra rows for the normalized names\n",
    "census_2030 = df_ops.concat([\n",
    "    census_2030,\n",
    "    census_2030[has_nickname].assign(first_name=lambda df: df.first_name.replace(nickname_standardizations))\n",
    "], ignore_index=True)"
   ]
  },
  {
   "cell_type": "code",
   "execution_count": 20,
   "id": "bb25cd47-aab9-42ee-98a5-3bdc3d66c2af",
   "metadata": {
    "execution": {
     "iopub.execute_input": "2024-02-12T19:31:05.355339Z",
     "iopub.status.busy": "2024-02-12T19:31:05.354617Z",
     "iopub.status.idle": "2024-02-12T19:31:05.378238Z",
     "shell.execute_reply": "2024-02-12T19:31:05.377531Z"
    },
    "papermill": {
     "duration": 0.059656,
     "end_time": "2024-02-12T19:31:05.380198",
     "exception": false,
     "start_time": "2024-02-12T19:31:05.320542",
     "status": "completed"
    },
    "tags": []
   },
   "outputs": [],
   "source": [
    "# Note: The above will introduce duplicates on record_id, so we redefine\n",
    "# record_id to be unique (without getting rid of the original, input file record ID)\n",
    "census_2030 = df_ops.add_unique_record_id(\n",
    "    census_2030.rename(columns={'record_id': 'record_id_raw_input_file'}),\n",
    "    \"census_2030_preprocessed\",\n",
    ")"
   ]
  },
  {
   "cell_type": "code",
   "execution_count": 21,
   "id": "a086540a-d9d0-4068-8ee8-539314aa91e6",
   "metadata": {
    "execution": {
     "iopub.execute_input": "2024-02-12T19:31:05.438905Z",
     "iopub.status.busy": "2024-02-12T19:31:05.438608Z",
     "iopub.status.idle": "2024-02-12T19:31:06.316493Z",
     "shell.execute_reply": "2024-02-12T19:31:06.315508Z"
    },
    "papermill": {
     "duration": 0.90941,
     "end_time": "2024-02-12T19:31:06.318329",
     "exception": false,
     "start_time": "2024-02-12T19:31:05.408919",
     "status": "completed"
    },
    "tags": []
   },
   "outputs": [
    {
     "data": {
      "text/html": [
       "<div><strong>Dask DataFrame Structure:</strong></div>\n",
       "<div>\n",
       "<style scoped>\n",
       "    .dataframe tbody tr th:only-of-type {\n",
       "        vertical-align: middle;\n",
       "    }\n",
       "\n",
       "    .dataframe tbody tr th {\n",
       "        vertical-align: top;\n",
       "    }\n",
       "\n",
       "    .dataframe thead th {\n",
       "        text-align: right;\n",
       "    }\n",
       "</style>\n",
       "<table border=\"1\" class=\"dataframe\">\n",
       "  <thead>\n",
       "    <tr style=\"text-align: right;\">\n",
       "      <th></th>\n",
       "      <th>fake_name</th>\n",
       "    </tr>\n",
       "    <tr>\n",
       "      <th>npartitions=1</th>\n",
       "      <th></th>\n",
       "    </tr>\n",
       "  </thead>\n",
       "  <tbody>\n",
       "    <tr>\n",
       "      <th></th>\n",
       "      <td>large_string[pyarrow]</td>\n",
       "    </tr>\n",
       "    <tr>\n",
       "      <th></th>\n",
       "      <td>...</td>\n",
       "    </tr>\n",
       "  </tbody>\n",
       "</table>\n",
       "</div>\n",
       "<div>Dask Name: to_pyarrow_large_string, 1 graph layer</div>"
      ],
      "text/plain": [
       "Dask DataFrame Structure:\n",
       "                           fake_name\n",
       "npartitions=1                       \n",
       "               large_string[pyarrow]\n",
       "                                 ...\n",
       "Dask Name: to_pyarrow_large_string, 1 graph layer"
      ]
     },
     "execution_count": 21,
     "metadata": {},
     "output_type": "execute_result"
    }
   ],
   "source": [
    "# This list of fake names comes from the NORC report, p. 100-101\n",
    "# It is what was used in PVS as of 2011\n",
    "fake_names = pd.read_csv('fake-names.txt', header=None).rename(columns={0: 'fake_name'})\n",
    "fake_names = df_ops.persist(\n",
    "    fake_names\n",
    "        .assign(fake_name=fake_names.fake_name.str.strip().str.upper())\n",
    "        .dropna(subset='fake_name')\n",
    "        .pipe(df_ops.drop_duplicates)\n",
    "        .pipe(df_ops.ensure_large_string_capacity)\n",
    ")\n",
    "\n",
    "assert df_ops.compute((fake_names.fake_name == fake_names.fake_name.str.upper()).all())\n",
    "fake_names"
   ]
  },
  {
   "cell_type": "code",
   "execution_count": 22,
   "id": "f234ee61-5d2a-490e-97ad-eff72df732ad",
   "metadata": {
    "execution": {
     "iopub.execute_input": "2024-02-12T19:31:06.377480Z",
     "iopub.status.busy": "2024-02-12T19:31:06.377034Z",
     "iopub.status.idle": "2024-02-12T19:31:07.358774Z",
     "shell.execute_reply": "2024-02-12T19:31:07.356639Z"
    },
    "papermill": {
     "duration": 1.013867,
     "end_time": "2024-02-12T19:31:07.361229",
     "exception": false,
     "start_time": "2024-02-12T19:31:06.347362",
     "status": "completed"
    },
    "tags": []
   },
   "outputs": [
    {
     "name": "stdout",
     "output_type": "stream",
     "text": [
      "Found 60 fake names in first_name\n"
     ]
    },
    {
     "name": "stdout",
     "output_type": "stream",
     "text": [
      "Found 57 fake names in last_name\n"
     ]
    }
   ],
   "source": [
    "for col in [\"first_name\", \"last_name\"]:\n",
    "    census_2030 = census_2030.assign(**{f'{col}_upper': census_2030[col].str.upper()}).merge(fake_names, left_on=f'{col}_upper', right_on='fake_name', how='left')\n",
    "    has_fake_name = df_ops.persist(census_2030.fake_name.notnull())\n",
    "    print(f'Found {df_ops.compute(has_fake_name.sum()):,.0f} fake names in {col}')\n",
    "    census_2030 = df_ops.concat([\n",
    "        census_2030[~has_fake_name].drop(columns=['fake_name', f'{col}_upper']),\n",
    "        # NOTE: For reasons I don't really understand, assigning pandas.NA reverts it to a normal string instead of a large_string\n",
    "        census_2030[has_fake_name].assign(**{col: pandas.NA}).drop(columns=['fake_name', f'{col}_upper']).pipe(df_ops.ensure_large_string_capacity),\n",
    "    ], ignore_index=True)"
   ]
  },
  {
   "cell_type": "markdown",
   "id": "26659727-027b-4daf-8921-1fdb4b5e4d54",
   "metadata": {
    "papermill": {
     "duration": 0.029057,
     "end_time": "2024-02-12T19:31:07.421092",
     "exception": false,
     "start_time": "2024-02-12T19:31:07.392035",
     "status": "completed"
    },
    "tags": []
   },
   "source": [
    "## Address parsing and standardizing\n",
    "\n",
    "Wagner and Layne, p. 11:\n",
    "\n",
    "> The PVS editing process also incorporates an address parser and standardizer,\n",
    "written in the C language and called as a function within SAS (U.S. Census Bureau\n",
    "Geography Division, 1995). It performs parsing of address strings into individual output\n",
    "fields (see Figure 2), and standardizes the spelling of key components of the address\n",
    "such as street type. The PVS also incorporates use of a commercial product to update\n",
    "zip codes, and correct misspellings of address elements.\n",
    "\n",
    "As noted in the data generation notebook, for now we haven't combined the address parts\n",
    "into a single string that would need to be parsed.\n",
    "We plan to add this in a future version of pseudopeople.\n",
    "\n",
    "For now, we do some simple standardization in each of the address parts (street number,\n",
    "street name, etc)."
   ]
  },
  {
   "cell_type": "code",
   "execution_count": 23,
   "id": "9435bc12-0002-44bc-91e3-26083d95c498",
   "metadata": {
    "execution": {
     "iopub.execute_input": "2024-02-12T19:31:07.481686Z",
     "iopub.status.busy": "2024-02-12T19:31:07.481118Z",
     "iopub.status.idle": "2024-02-12T19:31:07.621729Z",
     "shell.execute_reply": "2024-02-12T19:31:07.620720Z"
    },
    "papermill": {
     "duration": 0.173303,
     "end_time": "2024-02-12T19:31:07.623646",
     "exception": false,
     "start_time": "2024-02-12T19:31:07.450343",
     "status": "completed"
    },
    "tags": []
   },
   "outputs": [],
   "source": [
    "def standardize_address_part(column):\n",
    "    return (\n",
    "        column\n",
    "            # Remove leading or trailing whitespace\n",
    "            .str.strip()\n",
    "            # Turn any strings of consecutive whitespace into a single space\n",
    "            .str.replace('\\s+', ' ', regex=True)\n",
    "            # Normalize case\n",
    "            .str.upper()\n",
    "            # Normalize the word street as described in the example quoted above\n",
    "            # In reality, there would be many rules like this\n",
    "            .str.replace('\\b(STREET|STR)\\b', 'ST', regex=True)\n",
    "            # Make sure missingness is represented consistently\n",
    "            .replace('', pandas.NA)\n",
    "    )\n",
    "\n",
    "address_cols = ['street_number', 'street_name', 'unit_number', 'city', 'state', 'zipcode']\n",
    "for address_col in address_cols:\n",
    "    census_2030 = census_2030.assign(**{address_col: census_2030[address_col].pipe(standardize_address_part)})\n",
    "\n",
    "census_2030 = df_ops.ensure_large_string_capacity(census_2030)"
   ]
  },
  {
   "cell_type": "markdown",
   "id": "95b55b52-c3ad-41da-9351-05ef56927dbf",
   "metadata": {
    "papermill": {
     "duration": 0.028821,
     "end_time": "2024-02-12T19:31:07.681222",
     "exception": false,
     "start_time": "2024-02-12T19:31:07.652401",
     "status": "completed"
    },
    "tags": []
   },
   "source": [
    "## MAFMatch\n",
    "\n",
    "**General information about MAFMatch**\n",
    "\n",
    "Wagner and Layne, p. 11:\n",
    "\n",
    "> The PVS provides an additional address enhancement by matching records in the\n",
    "incoming file to Census Bureau’s Master Address File (MAF) in order to assign a unique\n",
    "address identifier, the MAF Identifier (MAFID), and other Census geographical codes\n",
    "(e.g., Census tract and block). The MAFID is used in the PVS for search purposes and as a\n",
    "linkage key for administrative files. Then, addresses are matched to the Census Bureau’s\n",
    "Topologically Integrated Geographic Encoding and Referencing Database (TIGER) to\n",
    "obtain Census geographical codes.\n",
    "\n",
    "My understanding is that this step is useful for two reasons:\n",
    "- Potentially adds an alternate version/way of formatting the same address\n",
    "  (the way it is in the MAF, instead of the way it is in the input file).\n",
    "  However, instead of using this alternate to match directly, it is boiled down\n",
    "  to a MAFID, so it is only useful when an input file address and a reference file\n",
    "  address (different to one another) both match to the same MAF address.\n",
    "  (Presumably, the whole MAFMatch process described here needs to run on the reference files?)\n",
    "- Adds Census geographies which could be used in blocking (but are they?)\n",
    "\n",
    "I don't understand the TIGER part of this.\n",
    "In particular, p. 12 describes a probabilistic/fuzzy match to TIGER, but I thought TIGER\n",
    "would contain exactly the same addresses as the MAF.\n",
    "I also don't understand what geocodes would be present in TIGER that wouldn't also be\n",
    "present in the MAF.\n",
    "Maybe these things are more out-of-sync with each other than I understood.\n",
    "\n",
    "**MAFMatch in this case study**\n",
    "\n",
    "In the decennial Census, the sampling frame is a subset of the MAF (Brown et al., p. 15, footnote 4).\n",
    "That is, in the CUF, the address field (which is not supplied by the respondent)\n",
    "would be the MAF address the questionnaire/NRFU was sent to.\n",
    "\n",
    "Therefore, I don't believe it makes sense to do MAFMatch for the CUF, because all the addresses\n",
    "are already the same.\n",
    "I haven't fully confirmed this, but p. 14 of Wagner and Layne says\n",
    "\n",
    "> The 2010 Census Unedited File (CUF), had 350 million records and processed through every PVS\n",
    "module, excluding MAF match and SSN verification\n",
    "\n",
    "which suggests that (like SSN verification) MAFMatch is not applicable to the CUF.\n",
    "\n",
    "Given this, we skip MAFMatch here.\n",
    "Also, if we wanted to add it, we would need to generate something like a MAF from pseudopeople."
   ]
  },
  {
   "cell_type": "markdown",
   "id": "2e7ec2c6-a028-4f36-a041-63627fb60fd6",
   "metadata": {
    "papermill": {
     "duration": 0.031548,
     "end_time": "2024-02-12T19:31:07.741756",
     "exception": false,
     "start_time": "2024-02-12T19:31:07.710208",
     "status": "completed"
    },
    "tags": []
   },
   "source": [
    "## Drop records with insufficient information\n",
    "\n",
    "In 2011 (NORC, p. 25):\n",
    "\n",
    "> The initial edit process, described in the Introduction: PVS Background section, removes from consideration\n",
    "incoming records that have no name data. Therefore, no record that is processed in PVS has blank first and last\n",
    "names.\n",
    "\n",
    "In 2014 it appears to be the same/similar, because in Table 2 of Wagner and Layne there is a row \"NO SEARCH: Blank Name\" (p. 18).\n",
    "\n",
    "In 2023 (Brown et al., p. 28):\n",
    "\n",
    "> Records containing sufficient PII to be linkable with some confidence, for example those\n",
    "containing name and age, are sent through the linkage process.<sup>15</sup>\n",
    "\n",
    "> <sup>15</sup> Records with names on the PVS invalid name list (e.g., “Mickey Mouse,” “householder,” or “son”) are excluded\n",
    "from PVS search.\n",
    "\n",
    "I'd prefer to use the 2023 information, but it is too vague:\n",
    "\"for example\" means this is just an approximation, and it doesn't specify\n",
    "parts of \"name.\"\n",
    "The footnote also seems to contradict earlier reports, which said fake names were simply\n",
    "blanked out, which seems preferable.\n",
    "Since the fake name step comes before this one, a fake first **and** last name would lead\n",
    "to exclusion here, which is perhaps what the footnote was intending?\n",
    "\n",
    "Here, we follow the blank-name approach."
   ]
  },
  {
   "cell_type": "code",
   "execution_count": 24,
   "id": "277c1379-c46b-4a0f-8011-596efae84778",
   "metadata": {
    "execution": {
     "iopub.execute_input": "2024-02-12T19:31:07.801664Z",
     "iopub.status.busy": "2024-02-12T19:31:07.801096Z",
     "iopub.status.idle": "2024-02-12T19:31:07.812337Z",
     "shell.execute_reply": "2024-02-12T19:31:07.811407Z"
    },
    "papermill": {
     "duration": 0.043552,
     "end_time": "2024-02-12T19:31:07.814220",
     "exception": false,
     "start_time": "2024-02-12T19:31:07.770668",
     "status": "completed"
    },
    "tags": []
   },
   "outputs": [],
   "source": [
    "census_2030 = census_2030[\n",
    "    census_2030.first_name.notnull() |\n",
    "    census_2030.last_name.notnull()\n",
    "]"
   ]
  },
  {
   "cell_type": "markdown",
   "id": "e51a91f7-e733-4a3d-bd56-7e23b0c8d138",
   "metadata": {
    "papermill": {
     "duration": 0.028909,
     "end_time": "2024-02-12T19:31:07.871499",
     "exception": false,
     "start_time": "2024-02-12T19:31:07.842590",
     "status": "completed"
    },
    "tags": []
   },
   "source": [
    "# Create derived variables for use in linkage\n",
    "\n",
    "Here we create variables to be used as matching variables and blocking keys,\n",
    "when those matching variables/blocking keys are defined in a way that is not already\n",
    "present in the data at this point.\n",
    "\n",
    "The variables needed here depend on the modules and passes described below -- see those\n",
    "sections for more citations."
   ]
  },
  {
   "cell_type": "code",
   "execution_count": 25,
   "id": "edb97b21-8ca1-4ad3-bae1-dbf7dc0bee00",
   "metadata": {
    "execution": {
     "iopub.execute_input": "2024-02-12T19:31:07.931292Z",
     "iopub.status.busy": "2024-02-12T19:31:07.930753Z",
     "iopub.status.idle": "2024-02-12T19:31:07.943541Z",
     "shell.execute_reply": "2024-02-12T19:31:07.942425Z"
    },
    "papermill": {
     "duration": 0.044705,
     "end_time": "2024-02-12T19:31:07.945443",
     "exception": false,
     "start_time": "2024-02-12T19:31:07.900738",
     "status": "completed"
    },
    "tags": []
   },
   "outputs": [],
   "source": [
    "# We want to compare mailing address with physical address\n",
    "geobase_reference_file = geobase_reference_file.rename(columns=lambda c: c.replace('mailing_address_', ''))"
   ]
  },
  {
   "cell_type": "code",
   "execution_count": 26,
   "id": "c61c2257-a840-498a-9aa5-0788f9763634",
   "metadata": {
    "execution": {
     "iopub.execute_input": "2024-02-12T19:31:08.004207Z",
     "iopub.status.busy": "2024-02-12T19:31:08.003766Z",
     "iopub.status.idle": "2024-02-12T19:31:08.191330Z",
     "shell.execute_reply": "2024-02-12T19:31:08.190632Z"
    },
    "papermill": {
     "duration": 0.219592,
     "end_time": "2024-02-12T19:31:08.193199",
     "exception": false,
     "start_time": "2024-02-12T19:31:07.973607",
     "status": "completed"
    },
    "tags": []
   },
   "outputs": [],
   "source": [
    "# PVS uses DOB as separate fields for day, month, and year\n",
    "def split_dob(df, date_format='%Y%m%d'):\n",
    "    # Have to be floats because we want to treat as numeric for assessing similarity\n",
    "    # Note that as of now, none of our pseudopeople noise types would change the punctuation (\"/\") in the date, but\n",
    "    # they can insert non-numeric characters here or otherwise create invalid dates, in which case we fail to parse the date\n",
    "    # and treat it as missing.\n",
    "    dob = pd.to_datetime(df.date_of_birth, format=date_format, errors='coerce')\n",
    "    df = df.assign(\n",
    "        month_of_birth=dob.dt.month,\n",
    "        year_of_birth=dob.dt.year,\n",
    "        day_of_birth=dob.dt.day,\n",
    "    )\n",
    "    df = df.assign(\n",
    "        month_of_birth=df.month_of_birth.fillna(pandas.NA),\n",
    "        year_of_birth=df.year_of_birth.fillna(pandas.NA),\n",
    "        day_of_birth=df.day_of_birth.fillna(pandas.NA),\n",
    "    )\n",
    "    return df.drop(columns=['date_of_birth'])\n",
    "\n",
    "census_2030 = split_dob(census_2030, date_format='%m/%d/%Y')\n",
    "geobase_reference_file = split_dob(geobase_reference_file)\n",
    "name_dob_reference_file = split_dob(name_dob_reference_file)"
   ]
  },
  {
   "cell_type": "code",
   "execution_count": 27,
   "id": "55126ed5-94e3-4713-badd-9861f5c6ab68",
   "metadata": {
    "execution": {
     "iopub.execute_input": "2024-02-12T19:31:08.256103Z",
     "iopub.status.busy": "2024-02-12T19:31:08.255549Z",
     "iopub.status.idle": "2024-02-12T19:31:08.782672Z",
     "shell.execute_reply": "2024-02-12T19:31:08.781009Z"
    },
    "papermill": {
     "duration": 0.561755,
     "end_time": "2024-02-12T19:31:08.786486",
     "exception": false,
     "start_time": "2024-02-12T19:31:08.224731",
     "status": "completed"
    },
    "tags": []
   },
   "outputs": [],
   "source": [
    "# I don't fully understand the purpose of blocking on the geokey,\n",
    "# as opposed to just blocking on its constituent columns.\n",
    "# Maybe it is a way of dealing with missingness in those constituent\n",
    "# columns (e.g. so an address with no unit number can still be blocked on geokey)?\n",
    "def add_geokey(df):\n",
    "    return (\n",
    "        df.assign(\n",
    "            geokey=distributed_compute.add_strings(\n",
    "                compute_engine,\n",
    "                [\n",
    "                    df.street_number, ' ',\n",
    "                    df.street_name, ' ',\n",
    "                    df.unit_number, ' ',\n",
    "                    df.city, ' ',\n",
    "                    df.state, ' ',\n",
    "                    df.zipcode,\n",
    "                ]\n",
    "                # Normalize the whitespace\n",
    "            ).str.replace('\\s+', ' ', regex=True).str.strip().replace('', pandas.NA)\n",
    "        )\n",
    "        .pipe(df_ops.ensure_large_string_capacity)\n",
    "    )\n",
    "\n",
    "geobase_reference_file = add_geokey(geobase_reference_file)\n",
    "census_2030 = df_ops.persist(add_geokey(census_2030))"
   ]
  },
  {
   "cell_type": "code",
   "execution_count": 28,
   "id": "6d51e08a-8e28-4c0f-9a62-d6207a560f46",
   "metadata": {
    "execution": {
     "iopub.execute_input": "2024-02-12T19:31:08.851690Z",
     "iopub.status.busy": "2024-02-12T19:31:08.850395Z",
     "iopub.status.idle": "2024-02-12T19:31:10.775551Z",
     "shell.execute_reply": "2024-02-12T19:31:10.774407Z"
    },
    "papermill": {
     "duration": 1.958361,
     "end_time": "2024-02-12T19:31:10.777454",
     "exception": false,
     "start_time": "2024-02-12T19:31:08.819093",
     "status": "completed"
    },
    "tags": []
   },
   "outputs": [
    {
     "name": "stdout",
     "output_type": "stream",
     "text": [
      "43 probable GQ geokeys\n"
     ]
    }
   ],
   "source": [
    "# HACK: Remove address information from GQ, so it isn't used for blocking\n",
    "# nor for HHCompSearch.\n",
    "# Currently we have massive GQ \"households.\"\n",
    "# NOTE: This will miss people who are actually in GQ who have had their address noised,\n",
    "# but that doesn't create huge \"households\" anyway so it's not a big deal\n",
    "# NOTE: We can't just throw out any household where anyone has a GQ housing_type\n",
    "# since the housing_type column itself can be noised. We set a threshold (data size dependent)\n",
    "# of how many people in a household need to have a GQ housing_type.\n",
    "unlikely_due_to_noise_threshold = 250 if data_to_use == 'usa' else 2\n",
    "probable_gq_geokeys = df_ops.persist(\n",
    "    census_2030[census_2030.housing_type.notnull()].assign(reported_gq=lambda df: df.housing_type != 'Household')\n",
    "        .pipe(df_ops.groupby_agg_small_groups, by=\"geokey\", agg_func=lambda x: x.reported_gq.agg([\"sum\", \"mean\"]))\n",
    "        .pipe(lambda df: df[(df['sum'] >= unlikely_due_to_noise_threshold) & (df['mean'] >= 0.70)])\n",
    "        .reset_index()\n",
    "        .assign(is_gq_geokey=True)\n",
    ")\n",
    "\n",
    "if data_to_use in ('usa', 'ri'):\n",
    "    num_shards = 334\n",
    "    num_gq_types = 6\n",
    "    if data_to_use == 'usa':\n",
    "        # Should be exact\n",
    "        assert num_shards * num_gq_types == len(probable_gq_geokeys)\n",
    "    else:\n",
    "        # Should be close\n",
    "        print(f'{len(probable_gq_geokeys):,.0f} probable GQ geokeys')\n",
    "        assert (num_shards * num_gq_types * 0.75) <= len(probable_gq_geokeys) <= (num_shards * num_gq_types * 1.25)\n",
    "else:\n",
    "    print(f'{len(probable_gq_geokeys):,.0f} probable GQ geokeys')"
   ]
  },
  {
   "cell_type": "code",
   "execution_count": 29,
   "id": "a3f92cd7-9a57-4ea1-a97a-c091ea335a00",
   "metadata": {
    "execution": {
     "iopub.execute_input": "2024-02-12T19:31:10.838886Z",
     "iopub.status.busy": "2024-02-12T19:31:10.838342Z",
     "iopub.status.idle": "2024-02-12T19:31:11.779232Z",
     "shell.execute_reply": "2024-02-12T19:31:11.778455Z"
    },
    "papermill": {
     "duration": 0.973519,
     "end_time": "2024-02-12T19:31:11.781421",
     "exception": false,
     "start_time": "2024-02-12T19:31:10.807902",
     "status": "completed"
    },
    "tags": []
   },
   "outputs": [],
   "source": [
    "census_2030 = census_2030.merge(probable_gq_geokeys[['geokey', 'is_gq_geokey']], on=\"geokey\", how=\"left\").assign(is_gq_geokey=lambda df: df.is_gq_geokey.fillna(False))\n",
    "\n",
    "census_2030 = df_ops.ensure_large_string_capacity(df_ops.concat([\n",
    "    census_2030[~census_2030.is_gq_geokey].assign(\n",
    "        geokey_for_blocking=lambda df: df.geokey,\n",
    "        street_number_for_blocking=lambda df: df.street_number,\n",
    "        street_name_for_blocking=lambda df: df.street_name,\n",
    "    ).drop(columns=[\"is_gq_geokey\"]),\n",
    "    census_2030[census_2030.is_gq_geokey].assign(\n",
    "        geokey_for_blocking=pandas.NA,\n",
    "        street_number_for_blocking=pandas.NA,\n",
    "        street_name_for_blocking=pandas.NA,\n",
    "    ).drop(columns=[\"is_gq_geokey\"]),\n",
    "], ignore_index=True))"
   ]
  },
  {
   "cell_type": "code",
   "execution_count": 30,
   "id": "d10958fd-adad-4bb2-b4c2-641f6ad242e5",
   "metadata": {
    "execution": {
     "iopub.execute_input": "2024-02-12T19:31:11.844478Z",
     "iopub.status.busy": "2024-02-12T19:31:11.844019Z",
     "iopub.status.idle": "2024-02-12T19:31:13.005910Z",
     "shell.execute_reply": "2024-02-12T19:31:13.003446Z"
    },
    "papermill": {
     "duration": 1.195871,
     "end_time": "2024-02-12T19:31:13.009046",
     "exception": false,
     "start_time": "2024-02-12T19:31:11.813175",
     "status": "completed"
    },
    "tags": []
   },
   "outputs": [],
   "source": [
    "geobase_reference_file = geobase_reference_file.merge(probable_gq_geokeys[['geokey', 'is_gq_geokey']], on=\"geokey\", how=\"left\").assign(is_gq_geokey=lambda df: df.is_gq_geokey.fillna(False))\n",
    "\n",
    "geobase_reference_file = df_ops.ensure_large_string_capacity(df_ops.concat([\n",
    "    geobase_reference_file[~geobase_reference_file.is_gq_geokey].assign(\n",
    "        geokey_for_blocking=lambda df: df.geokey,\n",
    "        street_number_for_blocking=lambda df: df.street_number,\n",
    "        street_name_for_blocking=lambda df: df.street_name,\n",
    "    ).drop(columns=[\"is_gq_geokey\"]),\n",
    "    geobase_reference_file[geobase_reference_file.is_gq_geokey].assign(\n",
    "        geokey_for_blocking=pandas.NA,\n",
    "        street_number_for_blocking=pandas.NA,\n",
    "        street_name_for_blocking=pandas.NA,\n",
    "    ).drop(columns=[\"is_gq_geokey\"]),\n",
    "], ignore_index=True))"
   ]
  },
  {
   "cell_type": "code",
   "execution_count": 31,
   "id": "2a686489-f265-4647-ad1d-7b6b93f8578e",
   "metadata": {
    "execution": {
     "iopub.execute_input": "2024-02-12T19:31:13.078701Z",
     "iopub.status.busy": "2024-02-12T19:31:13.077876Z",
     "iopub.status.idle": "2024-02-12T19:31:13.086130Z",
     "shell.execute_reply": "2024-02-12T19:31:13.084885Z"
    },
    "papermill": {
     "duration": 0.048641,
     "end_time": "2024-02-12T19:31:13.088614",
     "exception": false,
     "start_time": "2024-02-12T19:31:13.039973",
     "status": "completed"
    },
    "tags": []
   },
   "outputs": [],
   "source": [
    "%xdel probable_gq_geokeys"
   ]
  },
  {
   "cell_type": "code",
   "execution_count": 32,
   "id": "6894cbdd-fef2-417d-a69f-3e15433c1c72",
   "metadata": {
    "execution": {
     "iopub.execute_input": "2024-02-12T19:31:13.152981Z",
     "iopub.status.busy": "2024-02-12T19:31:13.152088Z",
     "iopub.status.idle": "2024-02-12T19:31:13.441363Z",
     "shell.execute_reply": "2024-02-12T19:31:13.440313Z"
    },
    "papermill": {
     "duration": 0.323251,
     "end_time": "2024-02-12T19:31:13.443317",
     "exception": false,
     "start_time": "2024-02-12T19:31:13.120066",
     "status": "completed"
    },
    "tags": []
   },
   "outputs": [],
   "source": [
    "# Layne, Wagner, and Rothhaas p. 26: the name matching variables are\n",
    "# First 15 characters First Name, First 15 characters Middle Name, First 12 characters Last Name\n",
    "# Additionally, there are blocking columns for all of 1-3 initial characters of First/Last.\n",
    "# We don't have a full middle name in pseudopeople (nor would that be present in a real CUF)\n",
    "# so we have to stick to the first initial for middle.\n",
    "def add_truncated_name_cols(df):\n",
    "    df = df.assign(\n",
    "        first_name_15=df.first_name.str[:15],\n",
    "        last_name_12=df.last_name.str[:12]\n",
    "    )\n",
    "\n",
    "    if 'middle_name' in df.columns and 'middle_initial' not in df.columns:\n",
    "        df = df.assign(middle_initial=df.middle_name.str[:1])\n",
    "\n",
    "    for num_chars in [1, 2, 3]:\n",
    "        df = df.assign(**{\n",
    "            f'first_name_{num_chars}': df.first_name.str[:num_chars],\n",
    "            f'last_name_{num_chars}': df.last_name.str[:num_chars],\n",
    "        })\n",
    "\n",
    "    return df\n",
    "\n",
    "census_2030 = add_truncated_name_cols(census_2030)\n",
    "geobase_reference_file = add_truncated_name_cols(geobase_reference_file)\n",
    "name_dob_reference_file = add_truncated_name_cols(name_dob_reference_file)"
   ]
  },
  {
   "cell_type": "code",
   "execution_count": 33,
   "id": "c29dcc81-9056-459b-80f6-fd32125913bc",
   "metadata": {
    "execution": {
     "iopub.execute_input": "2024-02-12T19:31:13.505537Z",
     "iopub.status.busy": "2024-02-12T19:31:13.504967Z",
     "iopub.status.idle": "2024-02-12T19:31:13.743923Z",
     "shell.execute_reply": "2024-02-12T19:31:13.742832Z"
    },
    "papermill": {
     "duration": 0.271022,
     "end_time": "2024-02-12T19:31:13.745827",
     "exception": false,
     "start_time": "2024-02-12T19:31:13.474805",
     "status": "completed"
    },
    "tags": []
   },
   "outputs": [],
   "source": [
    "# Layne, Wagner, and Rothhaas p. 26: phonetics are used in blocking (not matching)\n",
    "# - Soundex for Street Name\n",
    "# - NYSIIS code for First Name\n",
    "# - NYSIIS code for Last Name\n",
    "# - Reverse Soundex for First Name\n",
    "# - Reverse Soundex for Last Name\n",
    "\n",
    "def nysiis(input_string):\n",
    "    if pandas.isna(input_string):\n",
    "        return pandas.NA\n",
    "    result = jellyfish.nysiis(input_string)\n",
    "    if pandas.isna(result):\n",
    "        return pandas.NA\n",
    "\n",
    "    return result\n",
    "\n",
    "def soundex(input_string):\n",
    "    if pandas.isna(input_string):\n",
    "        return pandas.NA\n",
    "    result = jellyfish.soundex(input_string)\n",
    "    if pandas.isna(result):\n",
    "        return pandas.NA\n",
    "\n",
    "    return result\n",
    "\n",
    "def reverse_soundex(input_string):\n",
    "    if pandas.isna(input_string):\n",
    "        return pandas.NA\n",
    "\n",
    "    return soundex(input_string[::-1])\n",
    "\n",
    "def add_name_phonetics(df):\n",
    "    for col in ['first_name', 'last_name']:\n",
    "        kwargs = {}\n",
    "        if compute_engine == 'dask':\n",
    "            kwargs['meta'] = (col, 'object')\n",
    "        df = df.assign(**{f'{col}_nysiis': df[col].apply(nysiis, **kwargs)})\n",
    "        df = df.assign(**{f'{col}_reverse_soundex': df[col].apply(reverse_soundex, **kwargs)})\n",
    "\n",
    "    return df_ops.ensure_large_string_capacity(df)\n",
    "\n",
    "def add_address_phonetics(df):\n",
    "    kwargs = {}\n",
    "    if compute_engine == 'dask':\n",
    "        kwargs['meta'] = (col, 'object')\n",
    "    df = df.assign(street_name_for_blocking_soundex=df.street_name_for_blocking.apply(soundex, **kwargs))\n",
    "    return df_ops.ensure_large_string_capacity(df)\n",
    "\n",
    "census_2030 = add_name_phonetics(census_2030)\n",
    "census_2030 = add_address_phonetics(census_2030)\n",
    "\n",
    "geobase_reference_file = add_address_phonetics(geobase_reference_file)\n",
    "\n",
    "name_dob_reference_file = add_name_phonetics(name_dob_reference_file)"
   ]
  },
  {
   "cell_type": "code",
   "execution_count": 34,
   "id": "f1fe537d-10f4-4bf4-97e9-ee64fe5fcb8c",
   "metadata": {
    "execution": {
     "iopub.execute_input": "2024-02-12T19:31:13.806499Z",
     "iopub.status.busy": "2024-02-12T19:31:13.806200Z",
     "iopub.status.idle": "2024-02-12T19:31:13.813658Z",
     "shell.execute_reply": "2024-02-12T19:31:13.812784Z"
    },
    "papermill": {
     "duration": 0.039791,
     "end_time": "2024-02-12T19:31:13.815487",
     "exception": false,
     "start_time": "2024-02-12T19:31:13.775696",
     "status": "completed"
    },
    "tags": []
   },
   "outputs": [],
   "source": [
    "# Columns used to \"cut the database\": ZIP3 and a grouping of first and last initial\n",
    "def add_zip3(df):\n",
    "    return df.assign(zip3=lambda x: x.zipcode.str[:3])\n",
    "\n",
    "def add_first_last_initial_categories(df):\n",
    "    # Page 20 of the NORC report: \"Name-cuts are defined by combinations of the first characters of the first and last names. The twenty letter groupings\n",
    "    # for the first character are: A-or-blank, B, C, D, E, F, G, H, I, J, K, L, M, N, O, P, Q, R, S, T, and U-Z.\"\n",
    "    initial_cut = lambda x: x.fillna('A').str[0].replace('A', 'A-or-blank').replace(['U', 'V', 'W', 'X', 'Y', 'Z'], 'U-Z')\n",
    "    return df.assign(first_initial_cut=initial_cut(df.first_name), last_initial_cut=initial_cut(df.last_name))"
   ]
  },
  {
   "cell_type": "code",
   "execution_count": 35,
   "id": "d5e00367-d022-4ab2-942b-87a2b1abdfc8",
   "metadata": {
    "execution": {
     "iopub.execute_input": "2024-02-12T19:31:13.876228Z",
     "iopub.status.busy": "2024-02-12T19:31:13.875692Z",
     "iopub.status.idle": "2024-02-12T19:31:13.991359Z",
     "shell.execute_reply": "2024-02-12T19:31:13.990019Z"
    },
    "papermill": {
     "duration": 0.149151,
     "end_time": "2024-02-12T19:31:13.993652",
     "exception": false,
     "start_time": "2024-02-12T19:31:13.844501",
     "status": "completed"
    },
    "tags": []
   },
   "outputs": [],
   "source": [
    "census_2030 = add_zip3(census_2030)\n",
    "census_2030 = add_first_last_initial_categories(census_2030)\n",
    "\n",
    "geobase_reference_file = add_zip3(geobase_reference_file)\n",
    "\n",
    "name_dob_reference_file = add_first_last_initial_categories(name_dob_reference_file)"
   ]
  },
  {
   "cell_type": "code",
   "execution_count": null,
   "id": "0596bc8d-8f36-41bd-a6e2-a3f55c9ba66b",
   "metadata": {
    "papermill": {
     "duration": 0.02945,
     "end_time": "2024-02-12T19:31:14.053893",
     "exception": false,
     "start_time": "2024-02-12T19:31:14.024443",
     "status": "completed"
    },
    "tags": []
   },
   "outputs": [],
   "source": []
  },
  {
   "cell_type": "code",
   "execution_count": 36,
   "id": "e30f2911-72ad-4749-b4aa-18918335e0d0",
   "metadata": {
    "execution": {
     "iopub.execute_input": "2024-02-12T19:31:14.114580Z",
     "iopub.status.busy": "2024-02-12T19:31:14.113899Z",
     "iopub.status.idle": "2024-02-12T19:31:15.116190Z",
     "shell.execute_reply": "2024-02-12T19:31:15.115108Z"
    },
    "papermill": {
     "duration": 1.03673,
     "end_time": "2024-02-12T19:31:15.119784",
     "exception": false,
     "start_time": "2024-02-12T19:31:14.083054",
     "status": "completed"
    },
    "tags": []
   },
   "outputs": [],
   "source": [
    "census_2030, geobase_reference_file, name_dob_reference_file = df_ops.persist(census_2030, geobase_reference_file, name_dob_reference_file)"
   ]
  },
  {
   "cell_type": "markdown",
   "id": "5e413173-dde2-4bdb-a2cf-f0c5ef38e9a5",
   "metadata": {
    "papermill": {
     "duration": 0.029279,
     "end_time": "2024-02-12T19:31:15.180915",
     "exception": false,
     "start_time": "2024-02-12T19:31:15.151636",
     "status": "completed"
    },
    "tags": []
   },
   "source": [
    "# Data, ready to link"
   ]
  },
  {
   "cell_type": "code",
   "execution_count": 37,
   "id": "b6014eaa-3548-4d23-b7b9-f8e9f0f477f8",
   "metadata": {
    "execution": {
     "iopub.execute_input": "2024-02-12T19:31:15.244624Z",
     "iopub.status.busy": "2024-02-12T19:31:15.244247Z",
     "iopub.status.idle": "2024-02-12T19:31:15.285126Z",
     "shell.execute_reply": "2024-02-12T19:31:15.284106Z"
    },
    "papermill": {
     "duration": 0.077216,
     "end_time": "2024-02-12T19:31:15.287590",
     "exception": false,
     "start_time": "2024-02-12T19:31:15.210374",
     "status": "completed"
    },
    "tags": []
   },
   "outputs": [
    {
     "name": "stdout",
     "output_type": "stream",
     "text": [
      "11,030\n"
     ]
    }
   ],
   "source": [
    "print(f'{len(census_2030):,.0f}')"
   ]
  },
  {
   "cell_type": "code",
   "execution_count": 38,
   "id": "4306cf4f-d636-4d0c-9b07-7b73627982d3",
   "metadata": {
    "execution": {
     "iopub.execute_input": "2024-02-12T19:31:15.353363Z",
     "iopub.status.busy": "2024-02-12T19:31:15.352986Z",
     "iopub.status.idle": "2024-02-12T19:31:15.516690Z",
     "shell.execute_reply": "2024-02-12T19:31:15.515696Z"
    },
    "papermill": {
     "duration": 0.20092,
     "end_time": "2024-02-12T19:31:15.518699",
     "exception": false,
     "start_time": "2024-02-12T19:31:15.317779",
     "status": "completed"
    },
    "tags": []
   },
   "outputs": [
    {
     "data": {
      "text/html": [
       "<div>\n",
       "<style scoped>\n",
       "    .dataframe tbody tr th:only-of-type {\n",
       "        vertical-align: middle;\n",
       "    }\n",
       "\n",
       "    .dataframe tbody tr th {\n",
       "        vertical-align: top;\n",
       "    }\n",
       "\n",
       "    .dataframe thead th {\n",
       "        text-align: right;\n",
       "    }\n",
       "</style>\n",
       "<table border=\"1\" class=\"dataframe\">\n",
       "  <thead>\n",
       "    <tr style=\"text-align: right;\">\n",
       "      <th></th>\n",
       "      <th>record_id_raw_input_file</th>\n",
       "      <th>household_id</th>\n",
       "      <th>first_name</th>\n",
       "      <th>middle_initial</th>\n",
       "      <th>last_name</th>\n",
       "      <th>age</th>\n",
       "      <th>street_number</th>\n",
       "      <th>street_name</th>\n",
       "      <th>unit_number</th>\n",
       "      <th>city</th>\n",
       "      <th>...</th>\n",
       "      <th>first_name_3</th>\n",
       "      <th>last_name_3</th>\n",
       "      <th>first_name_nysiis</th>\n",
       "      <th>first_name_reverse_soundex</th>\n",
       "      <th>last_name_nysiis</th>\n",
       "      <th>last_name_reverse_soundex</th>\n",
       "      <th>street_name_for_blocking_soundex</th>\n",
       "      <th>zip3</th>\n",
       "      <th>first_initial_cut</th>\n",
       "      <th>last_initial_cut</th>\n",
       "    </tr>\n",
       "  </thead>\n",
       "  <tbody>\n",
       "    <tr>\n",
       "      <th>0</th>\n",
       "      <td>simulated_census_2030_3803</td>\n",
       "      <td>0_492</td>\n",
       "      <td>Charles</td>\n",
       "      <td>P</td>\n",
       "      <td>Foreman</td>\n",
       "      <td>64</td>\n",
       "      <td>224</td>\n",
       "      <td>N SANFORD ST</td>\n",
       "      <td>&lt;NA&gt;</td>\n",
       "      <td>ANYTOWN</td>\n",
       "      <td>...</td>\n",
       "      <td>Cha</td>\n",
       "      <td>For</td>\n",
       "      <td>CARL</td>\n",
       "      <td>S462</td>\n",
       "      <td>FARANAN</td>\n",
       "      <td>N561</td>\n",
       "      <td>N251</td>\n",
       "      <td>000</td>\n",
       "      <td>C</td>\n",
       "      <td>F</td>\n",
       "    </tr>\n",
       "    <tr>\n",
       "      <th>1</th>\n",
       "      <td>simulated_census_2030_7705</td>\n",
       "      <td>0_6764</td>\n",
       "      <td>Charles</td>\n",
       "      <td>P</td>\n",
       "      <td>Qusmus</td>\n",
       "      <td>63</td>\n",
       "      <td>6801</td>\n",
       "      <td>REDWOOD TERRACE</td>\n",
       "      <td>&lt;NA&gt;</td>\n",
       "      <td>ANYTOWN</td>\n",
       "      <td>...</td>\n",
       "      <td>Cha</td>\n",
       "      <td>Qus</td>\n",
       "      <td>CARL</td>\n",
       "      <td>S462</td>\n",
       "      <td>QASN</td>\n",
       "      <td>S522</td>\n",
       "      <td>R333</td>\n",
       "      <td>000</td>\n",
       "      <td>C</td>\n",
       "      <td>Q</td>\n",
       "    </tr>\n",
       "    <tr>\n",
       "      <th>2</th>\n",
       "      <td>simulated_census_2030_7</td>\n",
       "      <td>0_5627</td>\n",
       "      <td>Jerry</td>\n",
       "      <td>FE</td>\n",
       "      <td>Nocera</td>\n",
       "      <td>80</td>\n",
       "      <td>17868</td>\n",
       "      <td>WINDING TRAIL RD</td>\n",
       "      <td>&lt;NA&gt;</td>\n",
       "      <td>ANYTOWN</td>\n",
       "      <td>...</td>\n",
       "      <td>Jer</td>\n",
       "      <td>Noc</td>\n",
       "      <td>JARY</td>\n",
       "      <td>Y620</td>\n",
       "      <td>NACAR</td>\n",
       "      <td>A625</td>\n",
       "      <td>W535</td>\n",
       "      <td>000</td>\n",
       "      <td>J</td>\n",
       "      <td>N</td>\n",
       "    </tr>\n",
       "    <tr>\n",
       "      <th>3</th>\n",
       "      <td>simulated_census_2030_8</td>\n",
       "      <td>0_5627</td>\n",
       "      <td>Anita</td>\n",
       "      <td>F</td>\n",
       "      <td>Nocefa</td>\n",
       "      <td>80</td>\n",
       "      <td>17868</td>\n",
       "      <td>WINDING TRAIL RD</td>\n",
       "      <td>&lt;NA&gt;</td>\n",
       "      <td>ANYTOWN</td>\n",
       "      <td>...</td>\n",
       "      <td>Ani</td>\n",
       "      <td>Noc</td>\n",
       "      <td>ANAT</td>\n",
       "      <td>A350</td>\n",
       "      <td>NACAF</td>\n",
       "      <td>A125</td>\n",
       "      <td>W535</td>\n",
       "      <td>000</td>\n",
       "      <td>A-or-blank</td>\n",
       "      <td>N</td>\n",
       "    </tr>\n",
       "    <tr>\n",
       "      <th>4</th>\n",
       "      <td>simulated_census_2030_9</td>\n",
       "      <td>0_5627</td>\n",
       "      <td>Jada</td>\n",
       "      <td>S</td>\n",
       "      <td>Nocera</td>\n",
       "      <td>55</td>\n",
       "      <td>17868</td>\n",
       "      <td>WINDING TRAIL RD</td>\n",
       "      <td>&lt;NA&gt;</td>\n",
       "      <td>ANYTOWN</td>\n",
       "      <td>...</td>\n",
       "      <td>Jad</td>\n",
       "      <td>Noc</td>\n",
       "      <td>JAD</td>\n",
       "      <td>A320</td>\n",
       "      <td>NACAR</td>\n",
       "      <td>A625</td>\n",
       "      <td>W535</td>\n",
       "      <td>000</td>\n",
       "      <td>J</td>\n",
       "      <td>N</td>\n",
       "    </tr>\n",
       "    <tr>\n",
       "      <th>...</th>\n",
       "      <td>...</td>\n",
       "      <td>...</td>\n",
       "      <td>...</td>\n",
       "      <td>...</td>\n",
       "      <td>...</td>\n",
       "      <td>...</td>\n",
       "      <td>...</td>\n",
       "      <td>...</td>\n",
       "      <td>...</td>\n",
       "      <td>...</td>\n",
       "      <td>...</td>\n",
       "      <td>...</td>\n",
       "      <td>...</td>\n",
       "      <td>...</td>\n",
       "      <td>...</td>\n",
       "      <td>...</td>\n",
       "      <td>...</td>\n",
       "      <td>...</td>\n",
       "      <td>...</td>\n",
       "      <td>...</td>\n",
       "      <td>...</td>\n",
       "    </tr>\n",
       "    <tr>\n",
       "      <th>310</th>\n",
       "      <td>simulated_census_2030_834</td>\n",
       "      <td>0_11477</td>\n",
       "      <td>Gabriela</td>\n",
       "      <td>M</td>\n",
       "      <td>Smith</td>\n",
       "      <td>22</td>\n",
       "      <td>669</td>\n",
       "      <td>SHELBY</td>\n",
       "      <td>&lt;NA&gt;</td>\n",
       "      <td>ANYTOWN</td>\n",
       "      <td>...</td>\n",
       "      <td>Gab</td>\n",
       "      <td>Smi</td>\n",
       "      <td>GABRAL</td>\n",
       "      <td>A461</td>\n",
       "      <td>SNAT</td>\n",
       "      <td>H352</td>\n",
       "      <td>S410</td>\n",
       "      <td>000</td>\n",
       "      <td>G</td>\n",
       "      <td>S</td>\n",
       "    </tr>\n",
       "    <tr>\n",
       "      <th>311</th>\n",
       "      <td>simulated_census_2030_840</td>\n",
       "      <td>0_8278</td>\n",
       "      <td>Thomas</td>\n",
       "      <td>A</td>\n",
       "      <td>Krauter</td>\n",
       "      <td>40</td>\n",
       "      <td>4813</td>\n",
       "      <td>FALLS BRIDGE RD</td>\n",
       "      <td>&lt;NA&gt;</td>\n",
       "      <td>ANYTOWN</td>\n",
       "      <td>...</td>\n",
       "      <td>Tho</td>\n",
       "      <td>Kra</td>\n",
       "      <td>TAN</td>\n",
       "      <td>S530</td>\n",
       "      <td>CRATAR</td>\n",
       "      <td>R362</td>\n",
       "      <td>F421</td>\n",
       "      <td>000</td>\n",
       "      <td>T</td>\n",
       "      <td>K</td>\n",
       "    </tr>\n",
       "    <tr>\n",
       "      <th>312</th>\n",
       "      <td>simulated_census_2030_841</td>\n",
       "      <td>0_10599</td>\n",
       "      <td>Aniela</td>\n",
       "      <td>M</td>\n",
       "      <td>Daley</td>\n",
       "      <td>24</td>\n",
       "      <td>201</td>\n",
       "      <td>SE 14TH ST</td>\n",
       "      <td>&lt;NA&gt;</td>\n",
       "      <td>ANYTOWN</td>\n",
       "      <td>...</td>\n",
       "      <td>Ani</td>\n",
       "      <td>Dal</td>\n",
       "      <td>ANAL</td>\n",
       "      <td>A450</td>\n",
       "      <td>DALY</td>\n",
       "      <td>Y430</td>\n",
       "      <td>S323</td>\n",
       "      <td>000</td>\n",
       "      <td>A-or-blank</td>\n",
       "      <td>D</td>\n",
       "    </tr>\n",
       "    <tr>\n",
       "      <th>313</th>\n",
       "      <td>simulated_census_2030_842</td>\n",
       "      <td>0_8278</td>\n",
       "      <td>Lori</td>\n",
       "      <td>K</td>\n",
       "      <td>Neuhaus</td>\n",
       "      <td>60</td>\n",
       "      <td>4813</td>\n",
       "      <td>FALLS BRIDGE RD</td>\n",
       "      <td>&lt;NA&gt;</td>\n",
       "      <td>ANYTOWN</td>\n",
       "      <td>...</td>\n",
       "      <td>Lor</td>\n",
       "      <td>Neu</td>\n",
       "      <td>LAR</td>\n",
       "      <td>I640</td>\n",
       "      <td>NAH</td>\n",
       "      <td>S500</td>\n",
       "      <td>F421</td>\n",
       "      <td>000</td>\n",
       "      <td>L</td>\n",
       "      <td>N</td>\n",
       "    </tr>\n",
       "    <tr>\n",
       "      <th>314</th>\n",
       "      <td>simulated_census_2030_843</td>\n",
       "      <td>0_8278</td>\n",
       "      <td>Roy</td>\n",
       "      <td>K</td>\n",
       "      <td>Washington</td>\n",
       "      <td>72</td>\n",
       "      <td>4813</td>\n",
       "      <td>FALLS BRIDGE RD</td>\n",
       "      <td>&lt;NA&gt;</td>\n",
       "      <td>ANYTOWN</td>\n",
       "      <td>...</td>\n",
       "      <td>Roy</td>\n",
       "      <td>Was</td>\n",
       "      <td>RY</td>\n",
       "      <td>Y600</td>\n",
       "      <td>WASANGTAN</td>\n",
       "      <td>N325</td>\n",
       "      <td>F421</td>\n",
       "      <td>000</td>\n",
       "      <td>R</td>\n",
       "      <td>U-Z</td>\n",
       "    </tr>\n",
       "  </tbody>\n",
       "</table>\n",
       "<p>100 rows × 41 columns</p>\n",
       "</div>"
      ],
      "text/plain": [
       "       record_id_raw_input_file household_id first_name middle_initial  \\\n",
       "0    simulated_census_2030_3803        0_492    Charles              P   \n",
       "1    simulated_census_2030_7705       0_6764    Charles              P   \n",
       "2       simulated_census_2030_7       0_5627      Jerry             FE   \n",
       "3       simulated_census_2030_8       0_5627      Anita              F   \n",
       "4       simulated_census_2030_9       0_5627       Jada              S   \n",
       "..                          ...          ...        ...            ...   \n",
       "310   simulated_census_2030_834      0_11477   Gabriela              M   \n",
       "311   simulated_census_2030_840       0_8278     Thomas              A   \n",
       "312   simulated_census_2030_841      0_10599     Aniela              M   \n",
       "313   simulated_census_2030_842       0_8278       Lori              K   \n",
       "314   simulated_census_2030_843       0_8278        Roy              K   \n",
       "\n",
       "      last_name age street_number       street_name unit_number     city  ...  \\\n",
       "0       Foreman  64           224      N SANFORD ST        <NA>  ANYTOWN  ...   \n",
       "1        Qusmus  63          6801   REDWOOD TERRACE        <NA>  ANYTOWN  ...   \n",
       "2        Nocera  80         17868  WINDING TRAIL RD        <NA>  ANYTOWN  ...   \n",
       "3        Nocefa  80         17868  WINDING TRAIL RD        <NA>  ANYTOWN  ...   \n",
       "4        Nocera  55         17868  WINDING TRAIL RD        <NA>  ANYTOWN  ...   \n",
       "..          ...  ..           ...               ...         ...      ...  ...   \n",
       "310       Smith  22           669            SHELBY        <NA>  ANYTOWN  ...   \n",
       "311     Krauter  40          4813   FALLS BRIDGE RD        <NA>  ANYTOWN  ...   \n",
       "312       Daley  24           201        SE 14TH ST        <NA>  ANYTOWN  ...   \n",
       "313     Neuhaus  60          4813   FALLS BRIDGE RD        <NA>  ANYTOWN  ...   \n",
       "314  Washington  72          4813   FALLS BRIDGE RD        <NA>  ANYTOWN  ...   \n",
       "\n",
       "    first_name_3 last_name_3 first_name_nysiis first_name_reverse_soundex  \\\n",
       "0            Cha         For              CARL                       S462   \n",
       "1            Cha         Qus              CARL                       S462   \n",
       "2            Jer         Noc              JARY                       Y620   \n",
       "3            Ani         Noc              ANAT                       A350   \n",
       "4            Jad         Noc               JAD                       A320   \n",
       "..           ...         ...               ...                        ...   \n",
       "310          Gab         Smi            GABRAL                       A461   \n",
       "311          Tho         Kra               TAN                       S530   \n",
       "312          Ani         Dal              ANAL                       A450   \n",
       "313          Lor         Neu               LAR                       I640   \n",
       "314          Roy         Was                RY                       Y600   \n",
       "\n",
       "    last_name_nysiis last_name_reverse_soundex  \\\n",
       "0            FARANAN                      N561   \n",
       "1               QASN                      S522   \n",
       "2              NACAR                      A625   \n",
       "3              NACAF                      A125   \n",
       "4              NACAR                      A625   \n",
       "..               ...                       ...   \n",
       "310             SNAT                      H352   \n",
       "311           CRATAR                      R362   \n",
       "312             DALY                      Y430   \n",
       "313              NAH                      S500   \n",
       "314        WASANGTAN                      N325   \n",
       "\n",
       "     street_name_for_blocking_soundex zip3  first_initial_cut  \\\n",
       "0                                N251  000                  C   \n",
       "1                                R333  000                  C   \n",
       "2                                W535  000                  J   \n",
       "3                                W535  000         A-or-blank   \n",
       "4                                W535  000                  J   \n",
       "..                                ...  ...                ...   \n",
       "310                              S410  000                  G   \n",
       "311                              F421  000                  T   \n",
       "312                              S323  000         A-or-blank   \n",
       "313                              F421  000                  L   \n",
       "314                              F421  000                  R   \n",
       "\n",
       "     last_initial_cut  \n",
       "0                   F  \n",
       "1                   Q  \n",
       "2                   N  \n",
       "3                   N  \n",
       "4                   N  \n",
       "..                ...  \n",
       "310                 S  \n",
       "311                 K  \n",
       "312                 D  \n",
       "313                 N  \n",
       "314               U-Z  \n",
       "\n",
       "[100 rows x 41 columns]"
      ]
     },
     "execution_count": 38,
     "metadata": {},
     "output_type": "execute_result"
    }
   ],
   "source": [
    "df_ops.head(census_2030, n=100)"
   ]
  },
  {
   "cell_type": "code",
   "execution_count": 39,
   "id": "bc33f5b6-36b4-48d5-9ea5-e0ae11d14dab",
   "metadata": {
    "execution": {
     "iopub.execute_input": "2024-02-12T19:31:15.582819Z",
     "iopub.status.busy": "2024-02-12T19:31:15.582308Z",
     "iopub.status.idle": "2024-02-12T19:31:15.602146Z",
     "shell.execute_reply": "2024-02-12T19:31:15.601013Z"
    },
    "papermill": {
     "duration": 0.054134,
     "end_time": "2024-02-12T19:31:15.604475",
     "exception": false,
     "start_time": "2024-02-12T19:31:15.550341",
     "status": "completed"
    },
    "tags": []
   },
   "outputs": [],
   "source": [
    "intermediate_data_dir = f\"{output_dir}/intermediate_data\"\n",
    "if clear_intermediate:\n",
    "    utils.ensure_empty(intermediate_data_dir)"
   ]
  },
  {
   "cell_type": "code",
   "execution_count": 40,
   "id": "632c5d5f-34b6-49ec-83be-737ed625d47e",
   "metadata": {
    "execution": {
     "iopub.execute_input": "2024-02-12T19:31:15.668408Z",
     "iopub.status.busy": "2024-02-12T19:31:15.667871Z",
     "iopub.status.idle": "2024-02-12T19:31:15.672538Z",
     "shell.execute_reply": "2024-02-12T19:31:15.671555Z"
    },
    "papermill": {
     "duration": 0.037725,
     "end_time": "2024-02-12T19:31:15.674386",
     "exception": false,
     "start_time": "2024-02-12T19:31:15.636661",
     "status": "completed"
    },
    "tags": []
   },
   "outputs": [],
   "source": [
    "# Can save a checkpoint here for resuming without re-running the prep\n",
    "# df_ops.to_parquet(census_2030, f'{intermediate_data_dir}/census_2030_prepped.parquet')"
   ]
  },
  {
   "cell_type": "code",
   "execution_count": 41,
   "id": "b4fc55f9-32dd-40e9-ba3b-0f67556ddbc3",
   "metadata": {
    "execution": {
     "iopub.execute_input": "2024-02-12T19:31:15.738727Z",
     "iopub.status.busy": "2024-02-12T19:31:15.737899Z",
     "iopub.status.idle": "2024-02-12T19:31:15.778444Z",
     "shell.execute_reply": "2024-02-12T19:31:15.777404Z"
    },
    "papermill": {
     "duration": 0.07613,
     "end_time": "2024-02-12T19:31:15.780288",
     "exception": false,
     "start_time": "2024-02-12T19:31:15.704158",
     "status": "completed"
    },
    "tags": []
   },
   "outputs": [
    {
     "name": "stdout",
     "output_type": "stream",
     "text": [
      "32,825\n"
     ]
    }
   ],
   "source": [
    "print(f'{len(geobase_reference_file):,.0f}')"
   ]
  },
  {
   "cell_type": "code",
   "execution_count": 42,
   "id": "2361fef9-e338-4c81-934d-075dafdbd432",
   "metadata": {
    "execution": {
     "iopub.execute_input": "2024-02-12T19:31:15.842487Z",
     "iopub.status.busy": "2024-02-12T19:31:15.841729Z",
     "iopub.status.idle": "2024-02-12T19:31:15.971474Z",
     "shell.execute_reply": "2024-02-12T19:31:15.970063Z"
    },
    "papermill": {
     "duration": 0.163052,
     "end_time": "2024-02-12T19:31:15.973426",
     "exception": false,
     "start_time": "2024-02-12T19:31:15.810374",
     "status": "completed"
    },
    "tags": []
   },
   "outputs": [
    {
     "data": {
      "text/html": [
       "<div>\n",
       "<style scoped>\n",
       "    .dataframe tbody tr th:only-of-type {\n",
       "        vertical-align: middle;\n",
       "    }\n",
       "\n",
       "    .dataframe tbody tr th {\n",
       "        vertical-align: top;\n",
       "    }\n",
       "\n",
       "    .dataframe thead th {\n",
       "        text-align: right;\n",
       "    }\n",
       "</style>\n",
       "<table border=\"1\" class=\"dataframe\">\n",
       "  <thead>\n",
       "    <tr style=\"text-align: right;\">\n",
       "      <th></th>\n",
       "      <th>record_id</th>\n",
       "      <th>ssn</th>\n",
       "      <th>first_name</th>\n",
       "      <th>middle_name</th>\n",
       "      <th>last_name</th>\n",
       "      <th>street_number</th>\n",
       "      <th>street_name</th>\n",
       "      <th>unit_number</th>\n",
       "      <th>po_box</th>\n",
       "      <th>city</th>\n",
       "      <th>...</th>\n",
       "      <th>last_name_12</th>\n",
       "      <th>middle_initial</th>\n",
       "      <th>first_name_1</th>\n",
       "      <th>last_name_1</th>\n",
       "      <th>first_name_2</th>\n",
       "      <th>last_name_2</th>\n",
       "      <th>first_name_3</th>\n",
       "      <th>last_name_3</th>\n",
       "      <th>street_name_for_blocking_soundex</th>\n",
       "      <th>zip3</th>\n",
       "    </tr>\n",
       "  </thead>\n",
       "  <tbody>\n",
       "    <tr>\n",
       "      <th>0</th>\n",
       "      <td>simulated_geobase_reference_file_0</td>\n",
       "      <td>685-77-0916</td>\n",
       "      <td>Betty</td>\n",
       "      <td>Audrey</td>\n",
       "      <td>Keel</td>\n",
       "      <td>47461</td>\n",
       "      <td>W ROXBURY DR</td>\n",
       "      <td>&lt;NA&gt;</td>\n",
       "      <td>&lt;NA&gt;</td>\n",
       "      <td>ANYTOWN</td>\n",
       "      <td>...</td>\n",
       "      <td>Keel</td>\n",
       "      <td>A</td>\n",
       "      <td>B</td>\n",
       "      <td>K</td>\n",
       "      <td>Be</td>\n",
       "      <td>Ke</td>\n",
       "      <td>Bet</td>\n",
       "      <td>Kee</td>\n",
       "      <td>W621</td>\n",
       "      <td>000</td>\n",
       "    </tr>\n",
       "    <tr>\n",
       "      <th>1</th>\n",
       "      <td>simulated_geobase_reference_file_1</td>\n",
       "      <td>765-44-4521</td>\n",
       "      <td>Ethep</td>\n",
       "      <td>Nancy</td>\n",
       "      <td>Collier</td>\n",
       "      <td>&lt;NA&gt;</td>\n",
       "      <td>&lt;NA&gt;</td>\n",
       "      <td>&lt;NA&gt;</td>\n",
       "      <td>&lt;NA&gt;</td>\n",
       "      <td>&lt;NA&gt;</td>\n",
       "      <td>...</td>\n",
       "      <td>Collier</td>\n",
       "      <td>N</td>\n",
       "      <td>E</td>\n",
       "      <td>C</td>\n",
       "      <td>Et</td>\n",
       "      <td>Co</td>\n",
       "      <td>Eth</td>\n",
       "      <td>Col</td>\n",
       "      <td>&lt;NA&gt;</td>\n",
       "      <td>&lt;NA&gt;</td>\n",
       "    </tr>\n",
       "    <tr>\n",
       "      <th>2</th>\n",
       "      <td>simulated_geobase_reference_file_2</td>\n",
       "      <td>765-44-4521</td>\n",
       "      <td>Ethep</td>\n",
       "      <td>Nancy</td>\n",
       "      <td>Collier</td>\n",
       "      <td>&lt;NA&gt;</td>\n",
       "      <td>&lt;NA&gt;</td>\n",
       "      <td>&lt;NA&gt;</td>\n",
       "      <td>&lt;NA&gt;</td>\n",
       "      <td>&lt;NA&gt;</td>\n",
       "      <td>...</td>\n",
       "      <td>Collier</td>\n",
       "      <td>N</td>\n",
       "      <td>E</td>\n",
       "      <td>C</td>\n",
       "      <td>Et</td>\n",
       "      <td>Co</td>\n",
       "      <td>Eth</td>\n",
       "      <td>Col</td>\n",
       "      <td>&lt;NA&gt;</td>\n",
       "      <td>&lt;NA&gt;</td>\n",
       "    </tr>\n",
       "    <tr>\n",
       "      <th>3</th>\n",
       "      <td>simulated_geobase_reference_file_3</td>\n",
       "      <td>726-57-2168</td>\n",
       "      <td>Josephine</td>\n",
       "      <td>Margaret</td>\n",
       "      <td>Babbie</td>\n",
       "      <td>3743</td>\n",
       "      <td>MESA VERDE ST</td>\n",
       "      <td>&lt;NA&gt;</td>\n",
       "      <td>&lt;NA&gt;</td>\n",
       "      <td>ANYTOWN</td>\n",
       "      <td>...</td>\n",
       "      <td>Babbie</td>\n",
       "      <td>M</td>\n",
       "      <td>J</td>\n",
       "      <td>B</td>\n",
       "      <td>Jo</td>\n",
       "      <td>Ba</td>\n",
       "      <td>Jos</td>\n",
       "      <td>Bab</td>\n",
       "      <td>M216</td>\n",
       "      <td>000</td>\n",
       "    </tr>\n",
       "    <tr>\n",
       "      <th>4</th>\n",
       "      <td>simulated_geobase_reference_file_8</td>\n",
       "      <td>590-86-8079</td>\n",
       "      <td>Elizabeth</td>\n",
       "      <td>Ora</td>\n",
       "      <td>Pufveah</td>\n",
       "      <td>&lt;NA&gt;</td>\n",
       "      <td>&lt;NA&gt;</td>\n",
       "      <td>&lt;NA&gt;</td>\n",
       "      <td>&lt;NA&gt;</td>\n",
       "      <td>&lt;NA&gt;</td>\n",
       "      <td>...</td>\n",
       "      <td>Pufveah</td>\n",
       "      <td>O</td>\n",
       "      <td>E</td>\n",
       "      <td>P</td>\n",
       "      <td>El</td>\n",
       "      <td>Pu</td>\n",
       "      <td>Eli</td>\n",
       "      <td>Puf</td>\n",
       "      <td>&lt;NA&gt;</td>\n",
       "      <td>&lt;NA&gt;</td>\n",
       "    </tr>\n",
       "    <tr>\n",
       "      <th>...</th>\n",
       "      <td>...</td>\n",
       "      <td>...</td>\n",
       "      <td>...</td>\n",
       "      <td>...</td>\n",
       "      <td>...</td>\n",
       "      <td>...</td>\n",
       "      <td>...</td>\n",
       "      <td>...</td>\n",
       "      <td>...</td>\n",
       "      <td>...</td>\n",
       "      <td>...</td>\n",
       "      <td>...</td>\n",
       "      <td>...</td>\n",
       "      <td>...</td>\n",
       "      <td>...</td>\n",
       "      <td>...</td>\n",
       "      <td>...</td>\n",
       "      <td>...</td>\n",
       "      <td>...</td>\n",
       "      <td>...</td>\n",
       "      <td>...</td>\n",
       "    </tr>\n",
       "    <tr>\n",
       "      <th>107</th>\n",
       "      <td>simulated_geobase_reference_file_338</td>\n",
       "      <td>222-45-6931</td>\n",
       "      <td>Kenneth</td>\n",
       "      <td>Raymond</td>\n",
       "      <td>Peterson</td>\n",
       "      <td>&lt;NA&gt;</td>\n",
       "      <td>S DAFFODIL DR</td>\n",
       "      <td>&lt;NA&gt;</td>\n",
       "      <td>&lt;NA&gt;</td>\n",
       "      <td>ANYTOWN</td>\n",
       "      <td>...</td>\n",
       "      <td>Peterson</td>\n",
       "      <td>R</td>\n",
       "      <td>K</td>\n",
       "      <td>P</td>\n",
       "      <td>Ke</td>\n",
       "      <td>Pe</td>\n",
       "      <td>Ken</td>\n",
       "      <td>Pet</td>\n",
       "      <td>S313</td>\n",
       "      <td>000</td>\n",
       "    </tr>\n",
       "    <tr>\n",
       "      <th>109</th>\n",
       "      <td>simulated_geobase_reference_file_345</td>\n",
       "      <td>532-45-5892</td>\n",
       "      <td>Lynn</td>\n",
       "      <td>8illiewilhelm</td>\n",
       "      <td>Hanke</td>\n",
       "      <td>&lt;NA&gt;</td>\n",
       "      <td>&lt;NA&gt;</td>\n",
       "      <td>&lt;NA&gt;</td>\n",
       "      <td>&lt;NA&gt;</td>\n",
       "      <td>&lt;NA&gt;</td>\n",
       "      <td>...</td>\n",
       "      <td>Hanke</td>\n",
       "      <td>8</td>\n",
       "      <td>L</td>\n",
       "      <td>H</td>\n",
       "      <td>Ly</td>\n",
       "      <td>Ha</td>\n",
       "      <td>Lyn</td>\n",
       "      <td>Han</td>\n",
       "      <td>&lt;NA&gt;</td>\n",
       "      <td>&lt;NA&gt;</td>\n",
       "    </tr>\n",
       "    <tr>\n",
       "      <th>111</th>\n",
       "      <td>simulated_geobase_reference_file_356</td>\n",
       "      <td>628-36-1967</td>\n",
       "      <td>John</td>\n",
       "      <td>Marion</td>\n",
       "      <td>Tdrenkple</td>\n",
       "      <td>928</td>\n",
       "      <td>W 200 N</td>\n",
       "      <td>&lt;NA&gt;</td>\n",
       "      <td>&lt;NA&gt;</td>\n",
       "      <td>ANYTOWN</td>\n",
       "      <td>...</td>\n",
       "      <td>Tdrenkple</td>\n",
       "      <td>M</td>\n",
       "      <td>J</td>\n",
       "      <td>T</td>\n",
       "      <td>Jo</td>\n",
       "      <td>Td</td>\n",
       "      <td>Joh</td>\n",
       "      <td>Tdr</td>\n",
       "      <td>W500</td>\n",
       "      <td>0O0</td>\n",
       "    </tr>\n",
       "    <tr>\n",
       "      <th>112</th>\n",
       "      <td>simulated_geobase_reference_file_358</td>\n",
       "      <td>352-19-7159</td>\n",
       "      <td>Leonard</td>\n",
       "      <td>Harold</td>\n",
       "      <td>Ward</td>\n",
       "      <td>11586</td>\n",
       "      <td>THORN TREE LA</td>\n",
       "      <td>&lt;NA&gt;</td>\n",
       "      <td>&lt;NA&gt;</td>\n",
       "      <td>ANYTOWN</td>\n",
       "      <td>...</td>\n",
       "      <td>Ward</td>\n",
       "      <td>H</td>\n",
       "      <td>L</td>\n",
       "      <td>W</td>\n",
       "      <td>Le</td>\n",
       "      <td>Wa</td>\n",
       "      <td>Leo</td>\n",
       "      <td>War</td>\n",
       "      <td>T653</td>\n",
       "      <td>000</td>\n",
       "    </tr>\n",
       "    <tr>\n",
       "      <th>113</th>\n",
       "      <td>simulated_geobase_reference_file_363</td>\n",
       "      <td>776-71-0808</td>\n",
       "      <td>Robrrtx</td>\n",
       "      <td>Shirley</td>\n",
       "      <td>Fwiklsky</td>\n",
       "      <td>4010</td>\n",
       "      <td>DUMFRIES DR</td>\n",
       "      <td>&lt;NA&gt;</td>\n",
       "      <td>&lt;NA&gt;</td>\n",
       "      <td>ANYTOWN</td>\n",
       "      <td>...</td>\n",
       "      <td>Fwiklsky</td>\n",
       "      <td>S</td>\n",
       "      <td>R</td>\n",
       "      <td>F</td>\n",
       "      <td>Ro</td>\n",
       "      <td>Fw</td>\n",
       "      <td>Rob</td>\n",
       "      <td>Fwi</td>\n",
       "      <td>D516</td>\n",
       "      <td>000</td>\n",
       "    </tr>\n",
       "  </tbody>\n",
       "</table>\n",
       "<p>100 rows × 31 columns</p>\n",
       "</div>"
      ],
      "text/plain": [
       "                                record_id          ssn first_name  \\\n",
       "0      simulated_geobase_reference_file_0  685-77-0916      Betty   \n",
       "1      simulated_geobase_reference_file_1  765-44-4521      Ethep   \n",
       "2      simulated_geobase_reference_file_2  765-44-4521      Ethep   \n",
       "3      simulated_geobase_reference_file_3  726-57-2168  Josephine   \n",
       "4      simulated_geobase_reference_file_8  590-86-8079  Elizabeth   \n",
       "..                                    ...          ...        ...   \n",
       "107  simulated_geobase_reference_file_338  222-45-6931    Kenneth   \n",
       "109  simulated_geobase_reference_file_345  532-45-5892       Lynn   \n",
       "111  simulated_geobase_reference_file_356  628-36-1967       John   \n",
       "112  simulated_geobase_reference_file_358  352-19-7159    Leonard   \n",
       "113  simulated_geobase_reference_file_363  776-71-0808    Robrrtx   \n",
       "\n",
       "       middle_name  last_name street_number    street_name unit_number po_box  \\\n",
       "0           Audrey       Keel         47461   W ROXBURY DR        <NA>   <NA>   \n",
       "1            Nancy    Collier          <NA>           <NA>        <NA>   <NA>   \n",
       "2            Nancy    Collier          <NA>           <NA>        <NA>   <NA>   \n",
       "3         Margaret     Babbie          3743  MESA VERDE ST        <NA>   <NA>   \n",
       "4              Ora    Pufveah          <NA>           <NA>        <NA>   <NA>   \n",
       "..             ...        ...           ...            ...         ...    ...   \n",
       "107        Raymond   Peterson          <NA>  S DAFFODIL DR        <NA>   <NA>   \n",
       "109  8illiewilhelm      Hanke          <NA>           <NA>        <NA>   <NA>   \n",
       "111         Marion  Tdrenkple           928        W 200 N        <NA>   <NA>   \n",
       "112         Harold       Ward         11586  THORN TREE LA        <NA>   <NA>   \n",
       "113        Shirley   Fwiklsky          4010    DUMFRIES DR        <NA>   <NA>   \n",
       "\n",
       "        city  ... last_name_12 middle_initial first_name_1  last_name_1  \\\n",
       "0    ANYTOWN  ...         Keel              A            B            K   \n",
       "1       <NA>  ...      Collier              N            E            C   \n",
       "2       <NA>  ...      Collier              N            E            C   \n",
       "3    ANYTOWN  ...       Babbie              M            J            B   \n",
       "4       <NA>  ...      Pufveah              O            E            P   \n",
       "..       ...  ...          ...            ...          ...          ...   \n",
       "107  ANYTOWN  ...     Peterson              R            K            P   \n",
       "109     <NA>  ...        Hanke              8            L            H   \n",
       "111  ANYTOWN  ...    Tdrenkple              M            J            T   \n",
       "112  ANYTOWN  ...         Ward              H            L            W   \n",
       "113  ANYTOWN  ...     Fwiklsky              S            R            F   \n",
       "\n",
       "     first_name_2  last_name_2 first_name_3 last_name_3  \\\n",
       "0              Be           Ke          Bet         Kee   \n",
       "1              Et           Co          Eth         Col   \n",
       "2              Et           Co          Eth         Col   \n",
       "3              Jo           Ba          Jos         Bab   \n",
       "4              El           Pu          Eli         Puf   \n",
       "..            ...          ...          ...         ...   \n",
       "107            Ke           Pe          Ken         Pet   \n",
       "109            Ly           Ha          Lyn         Han   \n",
       "111            Jo           Td          Joh         Tdr   \n",
       "112            Le           Wa          Leo         War   \n",
       "113            Ro           Fw          Rob         Fwi   \n",
       "\n",
       "    street_name_for_blocking_soundex  zip3  \n",
       "0                               W621   000  \n",
       "1                               <NA>  <NA>  \n",
       "2                               <NA>  <NA>  \n",
       "3                               M216   000  \n",
       "4                               <NA>  <NA>  \n",
       "..                               ...   ...  \n",
       "107                             S313   000  \n",
       "109                             <NA>  <NA>  \n",
       "111                             W500   0O0  \n",
       "112                             T653   000  \n",
       "113                             D516   000  \n",
       "\n",
       "[100 rows x 31 columns]"
      ]
     },
     "execution_count": 42,
     "metadata": {},
     "output_type": "execute_result"
    }
   ],
   "source": [
    "df_ops.head(geobase_reference_file, n=100)"
   ]
  },
  {
   "cell_type": "code",
   "execution_count": 43,
   "id": "96ad6959-51a8-4972-8262-81383e5a895a",
   "metadata": {
    "execution": {
     "iopub.execute_input": "2024-02-12T19:31:16.039966Z",
     "iopub.status.busy": "2024-02-12T19:31:16.039270Z",
     "iopub.status.idle": "2024-02-12T19:31:16.114355Z",
     "shell.execute_reply": "2024-02-12T19:31:16.113065Z"
    },
    "papermill": {
     "duration": 0.109089,
     "end_time": "2024-02-12T19:31:16.116259",
     "exception": false,
     "start_time": "2024-02-12T19:31:16.007170",
     "status": "completed"
    },
    "tags": []
   },
   "outputs": [
    {
     "data": {
      "text/plain": [
       "0.08642802741812643"
      ]
     },
     "execution_count": 43,
     "metadata": {},
     "output_type": "execute_result"
    }
   ],
   "source": [
    "df_ops.compute(geobase_reference_file.year_of_birth.isna().mean())"
   ]
  },
  {
   "cell_type": "code",
   "execution_count": 44,
   "id": "41f87268-5fc5-43cf-b2ee-debb8b6535b3",
   "metadata": {
    "execution": {
     "iopub.execute_input": "2024-02-12T19:31:16.180151Z",
     "iopub.status.busy": "2024-02-12T19:31:16.179607Z",
     "iopub.status.idle": "2024-02-12T19:31:16.184214Z",
     "shell.execute_reply": "2024-02-12T19:31:16.183162Z"
    },
    "papermill": {
     "duration": 0.038635,
     "end_time": "2024-02-12T19:31:16.186066",
     "exception": false,
     "start_time": "2024-02-12T19:31:16.147431",
     "status": "completed"
    },
    "tags": []
   },
   "outputs": [],
   "source": [
    "# df_ops.to_parquet(geobase_reference_file, f'{intermediate_data_dir}/geobase_reference_file_prepped.parquet')"
   ]
  },
  {
   "cell_type": "code",
   "execution_count": 45,
   "id": "c749e6f5-75aa-45a8-8007-7051d12019b8",
   "metadata": {
    "execution": {
     "iopub.execute_input": "2024-02-12T19:31:16.250539Z",
     "iopub.status.busy": "2024-02-12T19:31:16.250000Z",
     "iopub.status.idle": "2024-02-12T19:31:16.277698Z",
     "shell.execute_reply": "2024-02-12T19:31:16.276178Z"
    },
    "papermill": {
     "duration": 0.06338,
     "end_time": "2024-02-12T19:31:16.280379",
     "exception": false,
     "start_time": "2024-02-12T19:31:16.216999",
     "status": "completed"
    },
    "tags": []
   },
   "outputs": [
    {
     "name": "stdout",
     "output_type": "stream",
     "text": [
      "19,875\n"
     ]
    }
   ],
   "source": [
    "print(f'{len(name_dob_reference_file):,.0f}')"
   ]
  },
  {
   "cell_type": "code",
   "execution_count": 46,
   "id": "cebf9174-67d5-47e7-a072-5b2998faf57c",
   "metadata": {
    "execution": {
     "iopub.execute_input": "2024-02-12T19:31:16.345038Z",
     "iopub.status.busy": "2024-02-12T19:31:16.344440Z",
     "iopub.status.idle": "2024-02-12T19:31:16.412653Z",
     "shell.execute_reply": "2024-02-12T19:31:16.411540Z"
    },
    "papermill": {
     "duration": 0.103331,
     "end_time": "2024-02-12T19:31:16.414739",
     "exception": false,
     "start_time": "2024-02-12T19:31:16.311408",
     "status": "completed"
    },
    "tags": []
   },
   "outputs": [
    {
     "data": {
      "text/html": [
       "<div>\n",
       "<style scoped>\n",
       "    .dataframe tbody tr th:only-of-type {\n",
       "        vertical-align: middle;\n",
       "    }\n",
       "\n",
       "    .dataframe tbody tr th {\n",
       "        vertical-align: top;\n",
       "    }\n",
       "\n",
       "    .dataframe thead th {\n",
       "        text-align: right;\n",
       "    }\n",
       "</style>\n",
       "<table border=\"1\" class=\"dataframe\">\n",
       "  <thead>\n",
       "    <tr style=\"text-align: right;\">\n",
       "      <th></th>\n",
       "      <th>record_id</th>\n",
       "      <th>ssn</th>\n",
       "      <th>first_name</th>\n",
       "      <th>middle_name</th>\n",
       "      <th>last_name</th>\n",
       "      <th>pik</th>\n",
       "      <th>month_of_birth</th>\n",
       "      <th>year_of_birth</th>\n",
       "      <th>day_of_birth</th>\n",
       "      <th>first_name_15</th>\n",
       "      <th>...</th>\n",
       "      <th>first_name_2</th>\n",
       "      <th>last_name_2</th>\n",
       "      <th>first_name_3</th>\n",
       "      <th>last_name_3</th>\n",
       "      <th>first_name_nysiis</th>\n",
       "      <th>first_name_reverse_soundex</th>\n",
       "      <th>last_name_nysiis</th>\n",
       "      <th>last_name_reverse_soundex</th>\n",
       "      <th>first_initial_cut</th>\n",
       "      <th>last_initial_cut</th>\n",
       "    </tr>\n",
       "  </thead>\n",
       "  <tbody>\n",
       "    <tr>\n",
       "      <th>0</th>\n",
       "      <td>simulated_name_dob_reference_file_0</td>\n",
       "      <td>685-77-0916</td>\n",
       "      <td>Betty</td>\n",
       "      <td>Audrey</td>\n",
       "      <td>Keel</td>\n",
       "      <td>105906</td>\n",
       "      <td>12.0</td>\n",
       "      <td>1922.0</td>\n",
       "      <td>5.0</td>\n",
       "      <td>Betty</td>\n",
       "      <td>...</td>\n",
       "      <td>Be</td>\n",
       "      <td>Ke</td>\n",
       "      <td>Bet</td>\n",
       "      <td>Kee</td>\n",
       "      <td>BATY</td>\n",
       "      <td>Y310</td>\n",
       "      <td>CAL</td>\n",
       "      <td>L200</td>\n",
       "      <td>B</td>\n",
       "      <td>K</td>\n",
       "    </tr>\n",
       "    <tr>\n",
       "      <th>1</th>\n",
       "      <td>simulated_name_dob_reference_file_1</td>\n",
       "      <td>765-44-4521</td>\n",
       "      <td>Ethep</td>\n",
       "      <td>Nancy</td>\n",
       "      <td>Collier</td>\n",
       "      <td>104653</td>\n",
       "      <td>NaN</td>\n",
       "      <td>NaN</td>\n",
       "      <td>NaN</td>\n",
       "      <td>Ethep</td>\n",
       "      <td>...</td>\n",
       "      <td>Et</td>\n",
       "      <td>Co</td>\n",
       "      <td>Eth</td>\n",
       "      <td>Col</td>\n",
       "      <td>ETAP</td>\n",
       "      <td>P300</td>\n",
       "      <td>CALAR</td>\n",
       "      <td>R420</td>\n",
       "      <td>E</td>\n",
       "      <td>C</td>\n",
       "    </tr>\n",
       "    <tr>\n",
       "      <th>2</th>\n",
       "      <td>simulated_name_dob_reference_file_2</td>\n",
       "      <td>765-44-4521</td>\n",
       "      <td>Ethep</td>\n",
       "      <td>Nancy</td>\n",
       "      <td>Collier</td>\n",
       "      <td>104653</td>\n",
       "      <td>2.0</td>\n",
       "      <td>1923.0</td>\n",
       "      <td>13.0</td>\n",
       "      <td>Ethep</td>\n",
       "      <td>...</td>\n",
       "      <td>Et</td>\n",
       "      <td>Co</td>\n",
       "      <td>Eth</td>\n",
       "      <td>Col</td>\n",
       "      <td>ETAP</td>\n",
       "      <td>P300</td>\n",
       "      <td>CALAR</td>\n",
       "      <td>R420</td>\n",
       "      <td>E</td>\n",
       "      <td>C</td>\n",
       "    </tr>\n",
       "    <tr>\n",
       "      <th>3</th>\n",
       "      <td>simulated_name_dob_reference_file_3</td>\n",
       "      <td>726-57-2168</td>\n",
       "      <td>Josephine</td>\n",
       "      <td>Margaret</td>\n",
       "      <td>Babbie</td>\n",
       "      <td>106223</td>\n",
       "      <td>7.0</td>\n",
       "      <td>1923.0</td>\n",
       "      <td>28.0</td>\n",
       "      <td>Josephine</td>\n",
       "      <td>...</td>\n",
       "      <td>Jo</td>\n",
       "      <td>Ba</td>\n",
       "      <td>Jos</td>\n",
       "      <td>Bab</td>\n",
       "      <td>JASAFAN</td>\n",
       "      <td>E512</td>\n",
       "      <td>BABY</td>\n",
       "      <td>E110</td>\n",
       "      <td>J</td>\n",
       "      <td>B</td>\n",
       "    </tr>\n",
       "    <tr>\n",
       "      <th>4</th>\n",
       "      <td>simulated_name_dob_reference_file_4</td>\n",
       "      <td>365-44-3027</td>\n",
       "      <td>Betty</td>\n",
       "      <td>Mary</td>\n",
       "      <td>&lt;NA&gt;</td>\n",
       "      <td>107896</td>\n",
       "      <td>8.0</td>\n",
       "      <td>1923.0</td>\n",
       "      <td>9.0</td>\n",
       "      <td>Betty</td>\n",
       "      <td>...</td>\n",
       "      <td>Be</td>\n",
       "      <td>&lt;NA&gt;</td>\n",
       "      <td>Bet</td>\n",
       "      <td>&lt;NA&gt;</td>\n",
       "      <td>BATY</td>\n",
       "      <td>Y310</td>\n",
       "      <td>&lt;NA&gt;</td>\n",
       "      <td>&lt;NA&gt;</td>\n",
       "      <td>B</td>\n",
       "      <td>A-or-blank</td>\n",
       "    </tr>\n",
       "    <tr>\n",
       "      <th>...</th>\n",
       "      <td>...</td>\n",
       "      <td>...</td>\n",
       "      <td>...</td>\n",
       "      <td>...</td>\n",
       "      <td>...</td>\n",
       "      <td>...</td>\n",
       "      <td>...</td>\n",
       "      <td>...</td>\n",
       "      <td>...</td>\n",
       "      <td>...</td>\n",
       "      <td>...</td>\n",
       "      <td>...</td>\n",
       "      <td>...</td>\n",
       "      <td>...</td>\n",
       "      <td>...</td>\n",
       "      <td>...</td>\n",
       "      <td>...</td>\n",
       "      <td>...</td>\n",
       "      <td>...</td>\n",
       "      <td>...</td>\n",
       "      <td>...</td>\n",
       "    </tr>\n",
       "    <tr>\n",
       "      <th>95</th>\n",
       "      <td>simulated_name_dob_reference_file_95</td>\n",
       "      <td>751-96-8435</td>\n",
       "      <td>Juanita</td>\n",
       "      <td>Betty</td>\n",
       "      <td>&lt;NA&gt;</td>\n",
       "      <td>105939</td>\n",
       "      <td>9.0</td>\n",
       "      <td>1932.0</td>\n",
       "      <td>5.0</td>\n",
       "      <td>Juanita</td>\n",
       "      <td>...</td>\n",
       "      <td>Ju</td>\n",
       "      <td>&lt;NA&gt;</td>\n",
       "      <td>Jua</td>\n",
       "      <td>&lt;NA&gt;</td>\n",
       "      <td>JANAT</td>\n",
       "      <td>A352</td>\n",
       "      <td>&lt;NA&gt;</td>\n",
       "      <td>&lt;NA&gt;</td>\n",
       "      <td>J</td>\n",
       "      <td>A-or-blank</td>\n",
       "    </tr>\n",
       "    <tr>\n",
       "      <th>96</th>\n",
       "      <td>simulated_name_dob_reference_file_96</td>\n",
       "      <td>026-33-0492</td>\n",
       "      <td>Mary</td>\n",
       "      <td>Ava</td>\n",
       "      <td>Kim</td>\n",
       "      <td>89042</td>\n",
       "      <td>5.0</td>\n",
       "      <td>1932.0</td>\n",
       "      <td>13.0</td>\n",
       "      <td>Mary</td>\n",
       "      <td>...</td>\n",
       "      <td>Ma</td>\n",
       "      <td>Ki</td>\n",
       "      <td>Mar</td>\n",
       "      <td>Kim</td>\n",
       "      <td>MARY</td>\n",
       "      <td>Y650</td>\n",
       "      <td>CAN</td>\n",
       "      <td>M200</td>\n",
       "      <td>M</td>\n",
       "      <td>K</td>\n",
       "    </tr>\n",
       "    <tr>\n",
       "      <th>97</th>\n",
       "      <td>simulated_name_dob_reference_file_97</td>\n",
       "      <td>241-67-8455</td>\n",
       "      <td>Leonor</td>\n",
       "      <td>Mary</td>\n",
       "      <td>Corbeil</td>\n",
       "      <td>89043</td>\n",
       "      <td>6.0</td>\n",
       "      <td>1932.0</td>\n",
       "      <td>25.0</td>\n",
       "      <td>Leonor</td>\n",
       "      <td>...</td>\n",
       "      <td>Le</td>\n",
       "      <td>Co</td>\n",
       "      <td>Leo</td>\n",
       "      <td>Cor</td>\n",
       "      <td>LANAR</td>\n",
       "      <td>R540</td>\n",
       "      <td>CARBAL</td>\n",
       "      <td>L162</td>\n",
       "      <td>L</td>\n",
       "      <td>C</td>\n",
       "    </tr>\n",
       "    <tr>\n",
       "      <th>98</th>\n",
       "      <td>simulated_name_dob_reference_file_98</td>\n",
       "      <td>155-04-8793</td>\n",
       "      <td>Roy</td>\n",
       "      <td>Thomas</td>\n",
       "      <td>Strachotz</td>\n",
       "      <td>105576</td>\n",
       "      <td>7.0</td>\n",
       "      <td>1932.0</td>\n",
       "      <td>1.0</td>\n",
       "      <td>Roy</td>\n",
       "      <td>...</td>\n",
       "      <td>Ro</td>\n",
       "      <td>St</td>\n",
       "      <td>Roy</td>\n",
       "      <td>Str</td>\n",
       "      <td>RY</td>\n",
       "      <td>Y600</td>\n",
       "      <td>STRACAT</td>\n",
       "      <td>Z326</td>\n",
       "      <td>R</td>\n",
       "      <td>S</td>\n",
       "    </tr>\n",
       "    <tr>\n",
       "      <th>99</th>\n",
       "      <td>simulated_name_dob_reference_file_99</td>\n",
       "      <td>223-57-6668</td>\n",
       "      <td>Connie</td>\n",
       "      <td>Beverly</td>\n",
       "      <td>Landry</td>\n",
       "      <td>106367</td>\n",
       "      <td>7.0</td>\n",
       "      <td>1932.0</td>\n",
       "      <td>6.0</td>\n",
       "      <td>Connie</td>\n",
       "      <td>...</td>\n",
       "      <td>Co</td>\n",
       "      <td>La</td>\n",
       "      <td>Con</td>\n",
       "      <td>Lan</td>\n",
       "      <td>CANY</td>\n",
       "      <td>E520</td>\n",
       "      <td>LANDRY</td>\n",
       "      <td>Y635</td>\n",
       "      <td>C</td>\n",
       "      <td>L</td>\n",
       "    </tr>\n",
       "  </tbody>\n",
       "</table>\n",
       "<p>100 rows × 24 columns</p>\n",
       "</div>"
      ],
      "text/plain": [
       "                               record_id          ssn first_name middle_name  \\\n",
       "0    simulated_name_dob_reference_file_0  685-77-0916      Betty      Audrey   \n",
       "1    simulated_name_dob_reference_file_1  765-44-4521      Ethep       Nancy   \n",
       "2    simulated_name_dob_reference_file_2  765-44-4521      Ethep       Nancy   \n",
       "3    simulated_name_dob_reference_file_3  726-57-2168  Josephine    Margaret   \n",
       "4    simulated_name_dob_reference_file_4  365-44-3027      Betty        Mary   \n",
       "..                                   ...          ...        ...         ...   \n",
       "95  simulated_name_dob_reference_file_95  751-96-8435    Juanita       Betty   \n",
       "96  simulated_name_dob_reference_file_96  026-33-0492       Mary         Ava   \n",
       "97  simulated_name_dob_reference_file_97  241-67-8455     Leonor        Mary   \n",
       "98  simulated_name_dob_reference_file_98  155-04-8793        Roy      Thomas   \n",
       "99  simulated_name_dob_reference_file_99  223-57-6668     Connie     Beverly   \n",
       "\n",
       "    last_name     pik  month_of_birth  year_of_birth  day_of_birth  \\\n",
       "0        Keel  105906            12.0         1922.0           5.0   \n",
       "1     Collier  104653             NaN            NaN           NaN   \n",
       "2     Collier  104653             2.0         1923.0          13.0   \n",
       "3      Babbie  106223             7.0         1923.0          28.0   \n",
       "4        <NA>  107896             8.0         1923.0           9.0   \n",
       "..        ...     ...             ...            ...           ...   \n",
       "95       <NA>  105939             9.0         1932.0           5.0   \n",
       "96        Kim   89042             5.0         1932.0          13.0   \n",
       "97    Corbeil   89043             6.0         1932.0          25.0   \n",
       "98  Strachotz  105576             7.0         1932.0           1.0   \n",
       "99     Landry  106367             7.0         1932.0           6.0   \n",
       "\n",
       "   first_name_15  ... first_name_2 last_name_2 first_name_3 last_name_3  \\\n",
       "0          Betty  ...           Be          Ke          Bet         Kee   \n",
       "1          Ethep  ...           Et          Co          Eth         Col   \n",
       "2          Ethep  ...           Et          Co          Eth         Col   \n",
       "3      Josephine  ...           Jo          Ba          Jos         Bab   \n",
       "4          Betty  ...           Be        <NA>          Bet        <NA>   \n",
       "..           ...  ...          ...         ...          ...         ...   \n",
       "95       Juanita  ...           Ju        <NA>          Jua        <NA>   \n",
       "96          Mary  ...           Ma          Ki          Mar         Kim   \n",
       "97        Leonor  ...           Le          Co          Leo         Cor   \n",
       "98           Roy  ...           Ro          St          Roy         Str   \n",
       "99        Connie  ...           Co          La          Con         Lan   \n",
       "\n",
       "   first_name_nysiis first_name_reverse_soundex last_name_nysiis  \\\n",
       "0               BATY                       Y310              CAL   \n",
       "1               ETAP                       P300            CALAR   \n",
       "2               ETAP                       P300            CALAR   \n",
       "3            JASAFAN                       E512             BABY   \n",
       "4               BATY                       Y310             <NA>   \n",
       "..               ...                        ...              ...   \n",
       "95             JANAT                       A352             <NA>   \n",
       "96              MARY                       Y650              CAN   \n",
       "97             LANAR                       R540           CARBAL   \n",
       "98                RY                       Y600          STRACAT   \n",
       "99              CANY                       E520           LANDRY   \n",
       "\n",
       "   last_name_reverse_soundex first_initial_cut last_initial_cut  \n",
       "0                       L200                 B                K  \n",
       "1                       R420                 E                C  \n",
       "2                       R420                 E                C  \n",
       "3                       E110                 J                B  \n",
       "4                       <NA>                 B       A-or-blank  \n",
       "..                       ...               ...              ...  \n",
       "95                      <NA>                 J       A-or-blank  \n",
       "96                      M200                 M                K  \n",
       "97                      L162                 L                C  \n",
       "98                      Z326                 R                S  \n",
       "99                      Y635                 C                L  \n",
       "\n",
       "[100 rows x 24 columns]"
      ]
     },
     "execution_count": 46,
     "metadata": {},
     "output_type": "execute_result"
    }
   ],
   "source": [
    "df_ops.head(name_dob_reference_file, n=100)"
   ]
  },
  {
   "cell_type": "code",
   "execution_count": 47,
   "id": "c3d4ebae-cf4c-45be-a7d7-db4062407e68",
   "metadata": {
    "execution": {
     "iopub.execute_input": "2024-02-12T19:31:16.482074Z",
     "iopub.status.busy": "2024-02-12T19:31:16.481627Z",
     "iopub.status.idle": "2024-02-12T19:31:16.532175Z",
     "shell.execute_reply": "2024-02-12T19:31:16.531021Z"
    },
    "papermill": {
     "duration": 0.086241,
     "end_time": "2024-02-12T19:31:16.534187",
     "exception": false,
     "start_time": "2024-02-12T19:31:16.447946",
     "status": "completed"
    },
    "tags": []
   },
   "outputs": [
    {
     "data": {
      "text/plain": [
       "0.09227672955974843"
      ]
     },
     "execution_count": 47,
     "metadata": {},
     "output_type": "execute_result"
    }
   ],
   "source": [
    "df_ops.compute(name_dob_reference_file.year_of_birth.isna().mean())"
   ]
  },
  {
   "cell_type": "code",
   "execution_count": 48,
   "id": "73a64260-0815-456a-9166-10b7be194d02",
   "metadata": {
    "execution": {
     "iopub.execute_input": "2024-02-12T19:31:16.602491Z",
     "iopub.status.busy": "2024-02-12T19:31:16.602192Z",
     "iopub.status.idle": "2024-02-12T19:31:16.606433Z",
     "shell.execute_reply": "2024-02-12T19:31:16.605550Z"
    },
    "papermill": {
     "duration": 0.039885,
     "end_time": "2024-02-12T19:31:16.608326",
     "exception": false,
     "start_time": "2024-02-12T19:31:16.568441",
     "status": "completed"
    },
    "tags": []
   },
   "outputs": [],
   "source": [
    "# df_ops.to_parquet(name_dob_reference_file, f'{intermediate_data_dir}/name_dob_reference_file_prepped.parquet')"
   ]
  },
  {
   "cell_type": "markdown",
   "id": "57a115b7-6215-4bcf-8444-ef2223040a02",
   "metadata": {
    "papermill": {
     "duration": 0.031602,
     "end_time": "2024-02-12T19:31:16.671020",
     "exception": false,
     "start_time": "2024-02-12T19:31:16.639418",
     "status": "completed"
    },
    "tags": []
   },
   "source": [
    "# Emulate Multi-Match with splink\n",
    "\n",
    "Wagner and Layne, p. 8:\n",
    "\n",
    "> The PVS employs its probabilistic record linkage software, Multi-Match (Wagner\n",
    "2012), as an integral part of the PVS.\n",
    "\n",
    "Wagner and Layne, p. 12:\n",
    "\n",
    "> PVS uses the same Multi-Match engine for each probabilistic search type. For each\n",
    "search module the analyst defines a parameter file, which is passed to Multi-Match. The\n",
    "parameter file includes threshold value(s) for the number of passes, blocking keys, and\n",
    "within each pass, the match variables, match comparison type, and matching weights...\n",
    ">\n",
    "> Records must first match exactly on the blocking keys before any comparisons\n",
    "between the match variables are attempted. Each match variable is given an\n",
    "m and\n",
    "u\n",
    "probability, which is translated by MultiMatch as agreement and disagreement weights.\n",
    "The sum of all match variable comparison weights for a record pair is the composite\n",
    "weight. All record pairs with a composite weight greater than or equal to the threshold\n",
    "set in the parameter file are linked, and the records from the incoming file for these\n",
    "linked cases are excluded from all remaining passes. All Numident records are always\n",
    "available for linking in every pass. Any record missing data for any of the blocking fields\n",
    "for a pass skips that pass and moves to the next pass.\n",
    "\n",
    "[splink](https://github.com/moj-analytical-services/splink) is similar to Multi-Match\n",
    "(both are based on the Fellegi-Sunter approach to record linkage).\n",
    "It also implements:\n",
    "- Exact blocking on specified keys\n",
    "- Determining overall match probability based on conditional independence of individual field comparisons\n",
    "  (it is equivalent to multiply the probability ratios, or sum the logarithmic \"weights\" as Multi-Match describes it),\n",
    "  which each have m and u probabilities\n",
    "- Setting a match threshold\n",
    "\n",
    "However, splink does not include some additional logic built into Multi-Match,\n",
    "specifically the ability to run multiple \"passes,\" removing linked records from\n",
    "subsequent passes.\n",
    "We have to implement that ourselves, calling splink again in each pass."
   ]
  },
  {
   "cell_type": "markdown",
   "id": "3a52fa1a-85ca-4a5a-a978-08e43c5b9eb0",
   "metadata": {
    "papermill": {
     "duration": 0.033695,
     "end_time": "2024-02-12T19:31:16.737201",
     "exception": false,
     "start_time": "2024-02-12T19:31:16.703506",
     "status": "completed"
    },
    "tags": []
   },
   "source": [
    "## Estimate parameters (lambda, m, u) once for all modules\n",
    "\n",
    "In Multi-Match, there is no lambda (prior probability of a link, before any comparisons are observed).\n",
    "This is because Multi-Match works entirely in weight space, and sets different weight thresholds\n",
    "in different modules/passes instead of changing the prior probability.\n",
    "\n",
    "In Multi-Match parameters are not directly estimated from the data.\n",
    "They are primarily set manually by analysts, with a different set of parameter files\n",
    "maintained for each type of input file (e.g. survey, administrative).\n",
    "\n",
    "All parameters except lambda are column-level parameters.\n",
    "We estimate the column-level parameters using the GeoBase Reference File,\n",
    "since it has all columns that are used for matching with any reference file.\n",
    "\n",
    "We estimate lambda (manually, see below) separately by reference file,\n",
    "since the number of records is different between the reference files but\n",
    "the size of the underlying population (people we are trying to match) is constant."
   ]
  },
  {
   "cell_type": "markdown",
   "id": "0f5283ef-c44f-4a19-9f58-a0d091697f1a",
   "metadata": {
    "papermill": {
     "duration": 0.03187,
     "end_time": "2024-02-12T19:31:16.800933",
     "exception": false,
     "start_time": "2024-02-12T19:31:16.769063",
     "status": "completed"
    },
    "tags": []
   },
   "source": [
    "### lambda (prior probability of a match)\n",
    "\n",
    "Splink has a built-in method (estimate_probability_two_random_records_match)\n",
    "for estimating this, but it did not seem to give me reasonable estimates.\n",
    "\n",
    "We just make an informed guess here based on how much overlap we expect\n",
    "in the files, how much unintentional duplication we expect in the files (e.g. someone\n",
    "being enumerated twice), how much *intentional* duplication we have in the\n",
    "files (e.g. a record for each nickname variant), and some simplifying assumptions.\n",
    "\n",
    "Our assumptions:\n",
    "- 5% of the enumerations in the CUF are unintentional duplicates\n",
    "- 0.5% of the PIKs in the reference file are unintentional duplicates\n",
    "  (that same person is also represented with a different PIK)\n",
    "- 90% of the people in the CUF are represented in the reference files\n",
    "- Being represented in both files is independent of being unintentionally\n",
    "  or intentionally duplicated\n",
    "- Being intentionally duplicated in one file is independent of being intentionally\n",
    "  duplicated in the other (likely not true since having a name with lots of variants\n",
    "  would cause intentional duplicates in both)\n",
    "\n",
    "We do this first (before m and u probabilities) because having lambda estimated is\n",
    "useful to the EM algorithm for estimating m and u."
   ]
  },
  {
   "cell_type": "code",
   "execution_count": 49,
   "id": "9e179c13-03b3-4100-81d7-5db54c05c371",
   "metadata": {
    "execution": {
     "iopub.execute_input": "2024-02-12T19:31:16.866110Z",
     "iopub.status.busy": "2024-02-12T19:31:16.865667Z",
     "iopub.status.idle": "2024-02-12T19:31:18.256311Z",
     "shell.execute_reply": "2024-02-12T19:31:18.255232Z"
    },
    "papermill": {
     "duration": 1.426021,
     "end_time": "2024-02-12T19:31:18.258425",
     "exception": false,
     "start_time": "2024-02-12T19:31:16.832404",
     "status": "completed"
    },
    "tags": []
   },
   "outputs": [
    {
     "data": {
      "text/plain": [
       "1.4225305711259186e-05"
      ]
     },
     "execution_count": 49,
     "metadata": {},
     "output_type": "execute_result"
    }
   ],
   "source": [
    "def estimate_number_true_matches(input_file, reference_file):\n",
    "    people_represented_in_input_file = (\n",
    "        len(df_ops.drop_duplicates(input_file[['record_id_raw_input_file']])) * 0.95\n",
    "    )\n",
    "    people_represented_in_reference_file = (\n",
    "        len(df_ops.drop_duplicates(reference_file[['pik']])) * 0.995\n",
    "    )\n",
    "    people_represented_in_both = people_represented_in_input_file * 0.9\n",
    "\n",
    "    # Assuming independence conditions as noted above, the number of true\n",
    "    # matches that should be found for *each* true person is the expected number\n",
    "    # of records in one file times the expected number of records in the other\n",
    "    input_file_records_per_person = people_represented_in_input_file / len(input_file)\n",
    "    reference_file_records_per_person = people_represented_in_reference_file / len(reference_file)\n",
    "    record_matches_per_person = input_file_records_per_person * reference_file_records_per_person\n",
    "\n",
    "    return people_represented_in_both * record_matches_per_person\n",
    "\n",
    "def probability_two_random_records_match(input_file, reference_file):\n",
    "    cartesian_product = len(input_file) * len(reference_file)\n",
    "    if cartesian_product == 0:\n",
    "        # Does not matter\n",
    "        return 0.5\n",
    "\n",
    "    return (\n",
    "        estimate_number_true_matches(input_file, reference_file) /\n",
    "        cartesian_product\n",
    "    )\n",
    "\n",
    "probability_two_random_records_match(census_2030, geobase_reference_file)"
   ]
  },
  {
   "cell_type": "markdown",
   "id": "2d798575-22de-4515-942c-60ecc0dbe3a0",
   "metadata": {
    "papermill": {
     "duration": 0.032483,
     "end_time": "2024-02-12T19:31:18.325697",
     "exception": false,
     "start_time": "2024-02-12T19:31:18.293214",
     "status": "completed"
    },
    "tags": []
   },
   "source": [
    "### m and u probabilities"
   ]
  },
  {
   "cell_type": "code",
   "execution_count": 50,
   "id": "4d17327f-bf5d-48dd-91ef-602aced3b2aa",
   "metadata": {
    "execution": {
     "iopub.execute_input": "2024-02-12T19:31:18.392479Z",
     "iopub.status.busy": "2024-02-12T19:31:18.391567Z",
     "iopub.status.idle": "2024-02-12T19:31:18.400239Z",
     "shell.execute_reply": "2024-02-12T19:31:18.399225Z"
    },
    "papermill": {
     "duration": 0.04354,
     "end_time": "2024-02-12T19:31:18.402144",
     "exception": false,
     "start_time": "2024-02-12T19:31:18.358604",
     "status": "completed"
    },
    "tags": []
   },
   "outputs": [
    {
     "data": {
      "text/plain": [
       "['first_name',\n",
       " 'middle_initial',\n",
       " 'last_name',\n",
       " 'street_number',\n",
       " 'street_name',\n",
       " 'unit_number',\n",
       " 'city',\n",
       " 'state',\n",
       " 'zipcode',\n",
       " 'record_id',\n",
       " 'month_of_birth',\n",
       " 'year_of_birth',\n",
       " 'day_of_birth',\n",
       " 'geokey',\n",
       " 'geokey_for_blocking',\n",
       " 'street_number_for_blocking',\n",
       " 'street_name_for_blocking',\n",
       " 'first_name_15',\n",
       " 'last_name_12',\n",
       " 'first_name_1',\n",
       " 'last_name_1',\n",
       " 'first_name_2',\n",
       " 'last_name_2',\n",
       " 'first_name_3',\n",
       " 'last_name_3',\n",
       " 'first_name_nysiis',\n",
       " 'first_name_reverse_soundex',\n",
       " 'last_name_nysiis',\n",
       " 'last_name_reverse_soundex',\n",
       " 'street_name_for_blocking_soundex',\n",
       " 'zip3',\n",
       " 'first_initial_cut',\n",
       " 'last_initial_cut']"
      ]
     },
     "execution_count": 50,
     "metadata": {},
     "output_type": "execute_result"
    }
   ],
   "source": [
    "common_cols = [c for c in census_2030.columns if c in geobase_reference_file.columns or c in name_dob_reference_file.columns]\n",
    "common_cols"
   ]
  },
  {
   "cell_type": "code",
   "execution_count": 51,
   "id": "07e5cd59-59c0-4ef5-bcba-f7168f7492fd",
   "metadata": {
    "execution": {
     "iopub.execute_input": "2024-02-12T19:31:18.468515Z",
     "iopub.status.busy": "2024-02-12T19:31:18.467979Z",
     "iopub.status.idle": "2024-02-12T19:31:30.436317Z",
     "shell.execute_reply": "2024-02-12T19:31:30.434319Z"
    },
    "papermill": {
     "duration": 12.005249,
     "end_time": "2024-02-12T19:31:30.439333",
     "exception": false,
     "start_time": "2024-02-12T19:31:18.434084",
     "status": "completed"
    },
    "tags": []
   },
   "outputs": [
    {
     "name": "stderr",
     "output_type": "stream",
     "text": [
      "24/02/12 19:31:26 WARN NativeCodeLoader: Unable to load native-hadoop library for your platform... using builtin-java classes where applicable\n"
     ]
    },
    {
     "name": "stderr",
     "output_type": "stream",
     "text": [
      "Setting default log level to \"WARN\".\n",
      "To adjust logging level use sc.setLogLevel(newLevel). For SparkR, use setLogLevel(newLevel).\n"
     ]
    },
    {
     "name": "stderr",
     "output_type": "stream",
     "text": [
      "24/02/12 19:31:30 WARN SparkContext: Spark is not running in local mode, therefore the checkpoint directory must not be on the local filesystem. Directory 'output/small_sample/tmpCheckpoints' appears to be on the local filesystem.\n"
     ]
    }
   ],
   "source": [
    "if splink_engine == 'spark':\n",
    "    # https://moj-analytical-services.github.io/splink/demos/examples/spark/deduplicate_1k_synthetic.html\n",
    "    from splink.spark.jar_location import similarity_jar_location\n",
    "\n",
    "    from pyspark import SparkContext, SparkConf\n",
    "    from pyspark.sql import SparkSession\n",
    "    from pyspark.sql import types\n",
    "\n",
    "    conf = SparkConf()\n",
    "    conf.setMaster(os.getenv(\"LINKER_SPARK_MASTER_URL\", spark_master_url))\n",
    "    conf.set(\"spark.driver.memory\", \"8g\")\n",
    "    conf.set(\"spark.executor.instances\", spark_num_workers)\n",
    "    conf.set(\"spark.executor.cores\", 1)\n",
    "    conf.set(\"spark.executor.memory\", f\"{spark_memory_per_worker - spark_worker_memory_overhead_mb}m\")\n",
    "\n",
    "    conf.set(\"spark.sql.shuffle.partitions\", spark_num_workers * 5)\n",
    "    conf.set(\"spark.default.parallelism\", spark_num_workers * 5)\n",
    "\n",
    "    # Add custom similarity functions, which are bundled with Splink\n",
    "    # documented here: https://github.com/moj-analytical-services/splink_scalaudfs\n",
    "    path = similarity_jar_location()\n",
    "    conf.set(\"spark.jars\", path)\n",
    "\n",
    "    sc = SparkContext.getOrCreate(conf=conf)\n",
    "\n",
    "    spark = SparkSession(sc)\n",
    "    checkpoints_dir = f\"{output_dir}/tmpCheckpoints\"\n",
    "    utils.ensure_empty(checkpoints_dir)\n",
    "    spark.sparkContext.setCheckpointDir(checkpoints_dir)"
   ]
  },
  {
   "cell_type": "code",
   "execution_count": 52,
   "id": "c39465e9-edee-4a73-ac63-c4f060013a00",
   "metadata": {
    "execution": {
     "iopub.execute_input": "2024-02-12T19:31:30.512687Z",
     "iopub.status.busy": "2024-02-12T19:31:30.511419Z",
     "iopub.status.idle": "2024-02-12T19:31:41.030812Z",
     "shell.execute_reply": "2024-02-12T19:31:41.029600Z"
    },
    "papermill": {
     "duration": 10.558238,
     "end_time": "2024-02-12T19:31:41.034020",
     "exception": false,
     "start_time": "2024-02-12T19:31:30.475782",
     "status": "completed"
    },
    "tags": []
   },
   "outputs": [
    {
     "name": "stderr",
     "output_type": "stream",
     "text": [
      "\r",
      "[Stage 0:>                                                          (0 + 1) / 1]\r"
     ]
    },
    {
     "name": "stderr",
     "output_type": "stream",
     "text": [
      "\r",
      "                                                                                \r"
     ]
    },
    {
     "name": "stderr",
     "output_type": "stream",
     "text": [
      "\r",
      "[Stage 1:>                                                          (0 + 1) / 1]\r"
     ]
    },
    {
     "name": "stderr",
     "output_type": "stream",
     "text": [
      "\r",
      "                                                                                \r"
     ]
    }
   ],
   "source": [
    "def prep_table_for_splink(df, dataset_name, columns):\n",
    "    result = (\n",
    "        df[[c for c in df.columns if c in columns]]\n",
    "            .assign(dataset_name=dataset_name)\n",
    "    )\n",
    "    if compute_engine == 'pandas' or splink_engine == 'duckdb':\n",
    "        # Needs to all be in one process anyway\n",
    "        return df_ops.compute(result)\n",
    "    else:\n",
    "        utils.ensure_empty(f'{intermediate_data_dir}/for_splink/{dataset_name}')\n",
    "        file_path = f'{intermediate_data_dir}/for_splink/{dataset_name}/{dataset_name}_{int(time.time())}.parquet'\n",
    "        df_ops.to_parquet(result, file_path, wait=True)\n",
    "        assert splink_engine == 'spark'\n",
    "        return spark.read.parquet(file_path)\n",
    "\n",
    "if len(geobase_reference_file) > 1_000_000:\n",
    "    geobase_reference_file_for_training = geobase_reference_file.sample(frac=(1_000_000/len(geobase_reference_file)), random_state=1234)\n",
    "else:\n",
    "    geobase_reference_file_for_training = geobase_reference_file\n",
    "\n",
    "if len(census_2030) > 1_000_000:\n",
    "    census_2030_for_training = census_2030.sample(frac=(1_000_000/len(census_2030)), random_state=1234)\n",
    "else:\n",
    "    census_2030_for_training = census_2030\n",
    "\n",
    "utils.ensure_empty(f'{intermediate_data_dir}/for_splink/')\n",
    "tables_for_splink = [\n",
    "    prep_table_for_splink(geobase_reference_file_for_training, \"geobase_reference_file\", common_cols),\n",
    "    prep_table_for_splink(census_2030_for_training, \"census_2030\", common_cols)\n",
    "]"
   ]
  },
  {
   "cell_type": "markdown",
   "id": "df02a447-eed8-470d-8487-1954c046bebd",
   "metadata": {
    "papermill": {
     "duration": 0.033283,
     "end_time": "2024-02-12T19:31:41.107226",
     "exception": false,
     "start_time": "2024-02-12T19:31:41.073943",
     "status": "completed"
    },
    "tags": []
   },
   "source": [
    "#### Define comparison variables and levels\n",
    "\n",
    "**Variables**\n",
    "\n",
    "The most recent report, from 2023 (Brown et al., p. 29), says:\n",
    "\n",
    "> [In] GeoSearch... The typical matching variables are name, DOB, sex, and\n",
    "  various address fields...\n",
    ">\n",
    "> NameSearch... uses only name and DOB fields...\n",
    "> \n",
    "> DOBSearch... compares name, sex, and DOB...\n",
    "> \n",
    "> the Household Composition search module... attempts to find a match... based on name and DOB information\n",
    "\n",
    "So, the total list: name, DOB, sex, and \"various address fields.\"\n",
    "These address fields are listed in the PVS report (p. 34) which is admittedly from 2011:\n",
    "\n",
    "> variables used directly in matching the input file with the reference files [include]...\n",
    "> street name, street name prefix and suffix, house number, rural route and box, and ZIP code\n",
    "\n",
    "**Comparisons**\n",
    "\n",
    "Massey et al. footnote 2: \n",
    "> The PVS string comparator was developed by Winkler (1995) and measures the distance\n",
    "  between two strings on a scale from 0 to 900, where a distance score of 0 is given if\n",
    "  there is no similarity between two text strings and a score of 900 is given for an exact match.\n",
    "  The cutoff value for the string distance is set to 750 in the Name Search module.\n",
    "\n",
    "Massey and O'Hara, p. 6 footnote 7:\n",
    "> For the comparison of text strings, a prorated value\n",
    "  between the chosen agreement score and chosen disagreement score is given depending on the Jaro-Winkler\n",
    "  distance between the string in the input file and reference file.\n",
    "\n",
    "Massey et al.:\n",
    "> For numeric variables, such as year of birth, a maximum acceptable difference\n",
    "> between the variable value in the input and reference record is set. This also\n",
    "> allows for creation of an interval, or band, around year of birth to permit\n",
    "> inexact matches. Within this band, prorated agreement and disagreement weights\n",
    "> are assigned depending on the similarity of year of birth.\n",
    "\n",
    "The \"maximum acceptable distance\" implies that the m probability beyond that distance is\n",
    "zero; such pairs should never be linked.\n",
    "\n",
    "Note that this continuous \"prorated value,\" as opposed to categorizing comparison levels,\n",
    "is not possible in splink and goes outside the traditional F-S framing of m and u probabilities!\n",
    "We omit it for now."
   ]
  },
  {
   "cell_type": "code",
   "execution_count": 53,
   "id": "367d9ac2-eba6-48b9-a10c-7f3515adcf7f",
   "metadata": {
    "execution": {
     "iopub.execute_input": "2024-02-12T19:31:41.174986Z",
     "iopub.status.busy": "2024-02-12T19:31:41.174537Z",
     "iopub.status.idle": "2024-02-12T19:31:47.077581Z",
     "shell.execute_reply": "2024-02-12T19:31:47.076344Z"
    },
    "papermill": {
     "duration": 5.940366,
     "end_time": "2024-02-12T19:31:47.080733",
     "exception": false,
     "start_time": "2024-02-12T19:31:41.140367",
     "status": "completed"
    },
    "tags": []
   },
   "outputs": [
    {
     "name": "stderr",
     "output_type": "stream",
     "text": [
      "24/02/12 19:31:46 WARN package: Truncated the string representation of a plan since it was too large. This behavior can be adjusted by setting 'spark.sql.debug.maxToStringFields'.\n"
     ]
    }
   ],
   "source": [
    "if splink_engine == 'duckdb':\n",
    "    from splink.duckdb.comparison_library import (\n",
    "        exact_match,\n",
    "        jaro_winkler_at_thresholds,\n",
    "    )\n",
    "    import splink.duckdb.comparison_level_library as cll\n",
    "elif splink_engine == 'spark':\n",
    "    from splink.spark.comparison_library import (\n",
    "        exact_match,\n",
    "        jaro_winkler_at_thresholds,\n",
    "    )\n",
    "    import splink.spark.comparison_level_library as cll\n",
    "\n",
    "def numeric_column_comparison(col_name, human_name, maximum_inexact_match_difference):\n",
    "    return {\n",
    "        \"output_column_name\": col_name,\n",
    "        \"comparison_description\": human_name,\n",
    "        \"comparison_levels\": [\n",
    "            cll.null_level(col_name),\n",
    "            cll.exact_match_level(col_name),\n",
    "            {\n",
    "                \"sql_condition\": f\"abs({col_name}_l - {col_name}_r) <= {maximum_inexact_match_difference}\",\n",
    "                \"label_for_charts\": \"Inexact match\",\n",
    "            },\n",
    "            cll.else_level(),\n",
    "        ],\n",
    "    }\n",
    "\n",
    "numeric_columns = [\"day_of_birth\", \"month_of_birth\", \"year_of_birth\"]\n",
    "\n",
    "settings = {\n",
    "    \"link_type\": \"link_only\",\n",
    "    \"comparisons\": [\n",
    "        jaro_winkler_at_thresholds(\"first_name_15\", 750 / 900),\n",
    "        jaro_winkler_at_thresholds(\"last_name_12\", 750 / 900),\n",
    "        exact_match(\"middle_initial\"),\n",
    "        numeric_column_comparison(\"day_of_birth\", \"Day of birth\", maximum_inexact_match_difference=5),\n",
    "        numeric_column_comparison(\"month_of_birth\", \"Month of birth\", maximum_inexact_match_difference=3),\n",
    "        numeric_column_comparison(\"year_of_birth\", \"Year of birth\", maximum_inexact_match_difference=5),\n",
    "        # HACK: I believe that PVS compares each part of the geokey separately (though I'm\n",
    "        # not sure what the thresholds would be).\n",
    "        # However, these columns grossly violate conditional independence, so are difficult to\n",
    "        # estimate parameters for via EM.\n",
    "        # As a workaround, we just compare the entire geokey.\n",
    "        # jaro_winkler_at_thresholds(\"street_number\", 750 / 900),\n",
    "        # jaro_winkler_at_thresholds(\"street_name\", 750 / 900),\n",
    "        # jaro_winkler_at_thresholds(\"unit_number\", 750 / 900),\n",
    "        # jaro_winkler_at_thresholds(\"zipcode\", 750 / 900),\n",
    "        jaro_winkler_at_thresholds(\"geokey\", 650 / 900),\n",
    "    ],\n",
    "    \"probability_two_random_records_match\": probability_two_random_records_match(census_2030, geobase_reference_file),\n",
    "    \"unique_id_column_name\": \"record_id\",\n",
    "    # Not sure exactly what this does, but it is necessary for some of the fancier graphs below\n",
    "    \"retain_intermediate_calculation_columns\": True,\n",
    "}\n",
    "\n",
    "if splink_engine == 'duckdb':\n",
    "    from splink.duckdb.linker import DuckDBLinker\n",
    "\n",
    "    linker = DuckDBLinker(\n",
    "        tables_for_splink,\n",
    "        settings,\n",
    "        input_table_aliases=[\"reference_file\", \"census_2030\"]\n",
    "    )\n",
    "elif splink_engine == 'spark':\n",
    "    from splink.spark.linker import SparkLinker\n",
    "    linker = SparkLinker(\n",
    "        tables_for_splink,\n",
    "        settings,\n",
    "        input_table_aliases=[\"reference_file\", \"census_2030\"],\n",
    "        spark=spark,\n",
    "    )\n",
    "\n",
    "    import warnings\n",
    "    # PySpark triggers a lot of Pandas warnings\n",
    "    warnings.filterwarnings(\"ignore\", category=DeprecationWarning)\n",
    "    warnings.filterwarnings(\"ignore\", category=FutureWarning)"
   ]
  },
  {
   "cell_type": "markdown",
   "id": "8248795b-29ae-4f70-b0c8-1b466112c56e",
   "metadata": {
    "papermill": {
     "duration": 0.054979,
     "end_time": "2024-02-12T19:31:47.194651",
     "exception": false,
     "start_time": "2024-02-12T19:31:47.139672",
     "status": "completed"
    },
    "tags": []
   },
   "source": [
    "#### Estimate u probabilities\n",
    "\n",
    "This method seems to work well:\n",
    "- For almost all of the columns, an exact or even inexact match is relatively rare\n",
    "- Exact matches are common on ZIP code (makes sense, given our sample data is all in one ZIP)\n",
    "- Inexact matches are more common where you would expect (day and month of birth have highly constrained values)\n",
    "\n",
    "I have tested that this estimation is reproducible when run multiple times (with the same seed)."
   ]
  },
  {
   "cell_type": "code",
   "execution_count": 54,
   "id": "fbc1d82b-02d2-45df-b450-614623c41f5e",
   "metadata": {
    "execution": {
     "iopub.execute_input": "2024-02-12T19:31:47.315573Z",
     "iopub.status.busy": "2024-02-12T19:31:47.314647Z",
     "iopub.status.idle": "2024-02-12T19:32:36.024593Z",
     "shell.execute_reply": "2024-02-12T19:32:36.023516Z"
    },
    "papermill": {
     "duration": 48.767701,
     "end_time": "2024-02-12T19:32:36.026515",
     "exception": false,
     "start_time": "2024-02-12T19:31:47.258814",
     "status": "completed"
    },
    "tags": []
   },
   "outputs": [
    {
     "name": "stderr",
     "output_type": "stream",
     "text": [
      "----- Estimating u probabilities using random sampling -----\n"
     ]
    },
    {
     "name": "stderr",
     "output_type": "stream",
     "text": [
      "\r",
      "[Stage 2:>                                                        (0 + 15) / 16]\r"
     ]
    },
    {
     "name": "stderr",
     "output_type": "stream",
     "text": [
      "\r",
      "[Stage 2:===>                                                     (1 + 15) / 16]\r",
      "\r",
      "[Stage 2:=======>                                                 (2 + 14) / 16]\r"
     ]
    },
    {
     "name": "stderr",
     "output_type": "stream",
     "text": [
      "\r",
      "[Stage 2:==========>                                              (3 + 13) / 16]\r"
     ]
    },
    {
     "name": "stderr",
     "output_type": "stream",
     "text": [
      "\r",
      "[Stage 2:=================>                                       (5 + 11) / 16]\r",
      "\r",
      "[Stage 2:=====================>                                   (6 + 10) / 16]\r"
     ]
    },
    {
     "name": "stderr",
     "output_type": "stream",
     "text": [
      "\r",
      "[Stage 2:================================>                         (9 + 7) / 16]\r",
      "\r",
      "[Stage 2:=================================================>       (14 + 2) / 16]\r"
     ]
    },
    {
     "name": "stderr",
     "output_type": "stream",
     "text": [
      "\r",
      "[Stage 4:>                                                        (0 + 10) / 10]\r"
     ]
    },
    {
     "name": "stderr",
     "output_type": "stream",
     "text": [
      "\r",
      "[Stage 4:====================================================>     (9 + 1) / 10]\r",
      "\r",
      "                                                                                \r"
     ]
    },
    {
     "name": "stderr",
     "output_type": "stream",
     "text": [
      "24/02/12 19:31:54 WARN DataSource: All paths were ignored:\n",
      "  file:/ihme/homes/zmbc/src/vivarium_research_prl/linkage/person_linkage_case_study/output/small_sample/tmpCheckpoints/2018ac72-63d3-463e-bac8-b54c65966a4a/__splink__df_concat_with_tf_d97141cf5\n"
     ]
    },
    {
     "name": "stderr",
     "output_type": "stream",
     "text": [
      "\r",
      "[Stage 6:==================================>                       (6 + 4) / 10]\r"
     ]
    },
    {
     "name": "stderr",
     "output_type": "stream",
     "text": [
      "\r",
      "                                                                                \r"
     ]
    },
    {
     "name": "stderr",
     "output_type": "stream",
     "text": [
      "\r",
      "[Stage 29:>   (0 + 1) / 1][Stage 30:>   (0 + 1) / 1][Stage 31:>   (0 + 1) / 1]\r"
     ]
    },
    {
     "name": "stderr",
     "output_type": "stream",
     "text": [
      "\r",
      "[Stage 29:>   (0 + 1) / 1][Stage 30:>   (0 + 1) / 1][Stage 33:>   (0 + 1) / 1]\r",
      "\r",
      "[Stage 29:>   (0 + 1) / 1][Stage 30:>   (0 + 1) / 1][Stage 35:>   (0 + 1) / 1]\r"
     ]
    },
    {
     "name": "stderr",
     "output_type": "stream",
     "text": [
      "\r",
      "[Stage 30:>                 (0 + 1) / 1][Stage 35:>                 (0 + 1) / 1]\r",
      "\r",
      "[Stage 35:>                                                         (0 + 1) / 1]\r"
     ]
    },
    {
     "name": "stderr",
     "output_type": "stream",
     "text": [
      "\r",
      "[Stage 47:=====================>                                    (3 + 5) / 8]\r",
      "\r",
      "                                                                                \r"
     ]
    },
    {
     "name": "stderr",
     "output_type": "stream",
     "text": [
      "\n",
      "Estimated u probabilities using random sampling\n"
     ]
    },
    {
     "name": "stderr",
     "output_type": "stream",
     "text": [
      "\n",
      "Your model is not yet fully trained. Missing estimates for:\n",
      "    - first_name_15 (no m values are trained).\n",
      "    - last_name_12 (no m values are trained).\n",
      "    - middle_initial (no m values are trained).\n",
      "    - day_of_birth (no m values are trained).\n",
      "    - month_of_birth (no m values are trained).\n",
      "    - year_of_birth (no m values are trained).\n",
      "    - geokey (no m values are trained).\n"
     ]
    },
    {
     "name": "stdout",
     "output_type": "stream",
     "text": [
      "CPU times: user 2.37 s, sys: 363 ms, total: 2.73 s\n",
      "Wall time: 48.7 s\n"
     ]
    }
   ],
   "source": [
    "%%time\n",
    "\n",
    "linker.estimate_u_using_random_sampling(max_pairs=1e7, seed=1234)"
   ]
  },
  {
   "cell_type": "code",
   "execution_count": 55,
   "id": "a393ab32-1308-47c8-bab0-39d2b0cf6256",
   "metadata": {
    "execution": {
     "iopub.execute_input": "2024-02-12T19:32:36.097231Z",
     "iopub.status.busy": "2024-02-12T19:32:36.096274Z",
     "iopub.status.idle": "2024-02-12T19:32:38.251013Z",
     "shell.execute_reply": "2024-02-12T19:32:38.249866Z"
    },
    "papermill": {
     "duration": 2.202584,
     "end_time": "2024-02-12T19:32:38.263796",
     "exception": false,
     "start_time": "2024-02-12T19:32:36.061212",
     "status": "completed"
    },
    "tags": []
   },
   "outputs": [
    {
     "data": {
      "text/html": [
       "\n",
       "<style>\n",
       "  #altair-viz-c0aac08c602f41779f41466a81ecc37b.vega-embed {\n",
       "    width: 100%;\n",
       "    display: flex;\n",
       "  }\n",
       "\n",
       "  #altair-viz-c0aac08c602f41779f41466a81ecc37b.vega-embed details,\n",
       "  #altair-viz-c0aac08c602f41779f41466a81ecc37b.vega-embed details summary {\n",
       "    position: relative;\n",
       "  }\n",
       "</style>\n",
       "<div id=\"altair-viz-c0aac08c602f41779f41466a81ecc37b\"></div>\n",
       "<script type=\"text/javascript\">\n",
       "  var VEGA_DEBUG = (typeof VEGA_DEBUG == \"undefined\") ? {} : VEGA_DEBUG;\n",
       "  (function(spec, embedOpt){\n",
       "    let outputDiv = document.currentScript.previousElementSibling;\n",
       "    if (outputDiv.id !== \"altair-viz-c0aac08c602f41779f41466a81ecc37b\") {\n",
       "      outputDiv = document.getElementById(\"altair-viz-c0aac08c602f41779f41466a81ecc37b\");\n",
       "    }\n",
       "    const paths = {\n",
       "      \"vega\": \"https://cdn.jsdelivr.net/npm/vega@5?noext\",\n",
       "      \"vega-lib\": \"https://cdn.jsdelivr.net/npm/vega-lib?noext\",\n",
       "      \"vega-lite\": \"https://cdn.jsdelivr.net/npm/vega-lite@5.15.1?noext\",\n",
       "      \"vega-embed\": \"https://cdn.jsdelivr.net/npm/vega-embed@6?noext\",\n",
       "    };\n",
       "\n",
       "    function maybeLoadScript(lib, version) {\n",
       "      var key = `${lib.replace(\"-\", \"\")}_version`;\n",
       "      return (VEGA_DEBUG[key] == version) ?\n",
       "        Promise.resolve(paths[lib]) :\n",
       "        new Promise(function(resolve, reject) {\n",
       "          var s = document.createElement('script');\n",
       "          document.getElementsByTagName(\"head\")[0].appendChild(s);\n",
       "          s.async = true;\n",
       "          s.onload = () => {\n",
       "            VEGA_DEBUG[key] = version;\n",
       "            return resolve(paths[lib]);\n",
       "          };\n",
       "          s.onerror = () => reject(`Error loading script: ${paths[lib]}`);\n",
       "          s.src = paths[lib];\n",
       "        });\n",
       "    }\n",
       "\n",
       "    function showError(err) {\n",
       "      outputDiv.innerHTML = `<div class=\"error\" style=\"color:red;\">${err}</div>`;\n",
       "      throw err;\n",
       "    }\n",
       "\n",
       "    function displayChart(vegaEmbed) {\n",
       "      vegaEmbed(outputDiv, spec, embedOpt)\n",
       "        .catch(err => showError(`Javascript Error: ${err.message}<br>This usually means there's a typo in your chart specification. See the javascript console for the full traceback.`));\n",
       "    }\n",
       "\n",
       "    if(typeof define === \"function\" && define.amd) {\n",
       "      requirejs.config({paths});\n",
       "      require([\"vega-embed\"], displayChart, err => showError(`Error loading script: ${err.message}`));\n",
       "    } else {\n",
       "      maybeLoadScript(\"vega\", \"5\")\n",
       "        .then(() => maybeLoadScript(\"vega-lite\", \"5.15.1\"))\n",
       "        .then(() => maybeLoadScript(\"vega-embed\", \"6\"))\n",
       "        .catch(showError)\n",
       "        .then(() => displayChart(vegaEmbed));\n",
       "    }\n",
       "  })({\"config\": {\"view\": {\"continuousWidth\": 300, \"continuousHeight\": 300, \"discreteHeight\": 300, \"discreteWidth\": 400}, \"header\": {\"title\": null}, \"title\": {\"anchor\": \"middle\", \"offset\": 10}}, \"hconcat\": [{\"mark\": \"bar\", \"encoding\": {\"color\": {\"value\": \"green\"}, \"row\": {\"field\": \"comparison_name\", \"header\": {\"labelAlign\": \"left\", \"labelAnchor\": \"middle\", \"labelAngle\": 0}, \"sort\": {\"field\": \"comparison_sort_order\"}, \"type\": \"nominal\"}, \"tooltip\": [{\"field\": \"m_probability_description\", \"title\": \"m probability description\", \"type\": \"nominal\"}, {\"field\": \"comparison_name\", \"title\": \"Comparison column name\", \"type\": \"nominal\"}, {\"field\": \"label_for_charts\", \"title\": \"Label\", \"type\": \"ordinal\"}, {\"field\": \"sql_condition\", \"title\": \"SQL condition\", \"type\": \"nominal\"}, {\"field\": \"m_probability\", \"format\": \".4p\", \"title\": \"m probability\", \"type\": \"quantitative\"}, {\"field\": \"u_probability\", \"format\": \".4p\", \"title\": \"u probability\", \"type\": \"quantitative\"}, {\"field\": \"bayes_factor\", \"format\": \",.4f\", \"title\": \"Bayes factor = m/u\", \"type\": \"quantitative\"}, {\"field\": \"log2_bayes_factor\", \"format\": \",.4f\", \"title\": \"Match weight = log2(m/u)\", \"type\": \"quantitative\"}], \"x\": {\"axis\": {\"title\": \"Proportion of record comparisons\"}, \"field\": \"m_probability\", \"type\": \"quantitative\"}, \"y\": {\"axis\": {\"title\": null}, \"field\": \"label_for_charts\", \"sort\": {\"field\": \"comparison_vector_value\", \"order\": \"descending\"}, \"type\": \"nominal\"}}, \"height\": {\"step\": 12}, \"resolve\": {\"scale\": {\"y\": \"independent\"}}, \"title\": {\"text\": \"Amongst matching record comparisons:\", \"fontSize\": 12, \"fontWeight\": \"bold\"}, \"transform\": [{\"filter\": \"(datum.bayes_factor != 'no-op filter due to vega lite issue 4680')\"}], \"width\": 150}, {\"mark\": \"bar\", \"encoding\": {\"color\": {\"value\": \"red\"}, \"row\": {\"field\": \"comparison_name\", \"header\": {\"labels\": false}, \"sort\": {\"field\": \"comparison_sort_order\"}, \"type\": \"nominal\"}, \"tooltip\": [{\"field\": \"u_probability_description\", \"title\": \"u probability description\", \"type\": \"nominal\"}, {\"field\": \"comparison_name\", \"title\": \"Comparison column name\", \"type\": \"nominal\"}, {\"field\": \"label_for_charts\", \"title\": \"Label\", \"type\": \"ordinal\"}, {\"field\": \"sql_condition\", \"title\": \"SQL condition\", \"type\": \"nominal\"}, {\"field\": \"m_probability\", \"format\": \".4p\", \"title\": \"m probability\", \"type\": \"quantitative\"}, {\"field\": \"u_probability\", \"format\": \".4p\", \"title\": \"u probability\", \"type\": \"quantitative\"}, {\"field\": \"bayes_factor\", \"format\": \",.4f\", \"title\": \"Bayes factor = m/u\", \"type\": \"quantitative\"}, {\"field\": \"log2_bayes_factor\", \"format\": \",.4f\", \"title\": \"Match weight = log2(m/u)\", \"type\": \"quantitative\"}], \"x\": {\"axis\": {\"title\": \"Proportion of record comparisons\"}, \"field\": \"u_probability\", \"type\": \"quantitative\"}, \"y\": {\"axis\": {\"title\": null}, \"field\": \"label_for_charts\", \"sort\": {\"field\": \"comparison_vector_value\", \"order\": \"descending\"}, \"type\": \"nominal\"}}, \"height\": {\"step\": 12}, \"resolve\": {\"scale\": {\"y\": \"independent\"}}, \"title\": {\"text\": \"Amongst non-matching record comparisons:\", \"fontSize\": 12, \"fontWeight\": \"bold\"}, \"transform\": [{\"filter\": \"(datum.bayes_factor != 'no-op filter2 due to vega lite issue 4680')\"}], \"width\": 150}], \"data\": {\"name\": \"data-bab062256804d745e22ab3650652b4c8\"}, \"title\": {\"text\": \"Proportion of record comparisons in each comparison level by match status\", \"subtitle\": \"(m and u probabilities)\"}, \"$schema\": \"https://vega.github.io/schema/vega-lite/v5.9.3.json\", \"datasets\": {\"data-bab062256804d745e22ab3650652b4c8\": [{\"comparison_name\": \"first_name_15\", \"sql_condition\": \"`first_name_15_l` = `first_name_15_r`\", \"label_for_charts\": \"Exact match\", \"m_probability\": 0.95, \"u_probability\": 0.0020286606846613266, \"m_probability_description\": \"Amongst matching record comparisons, 95.00% of records are in the exact match comparison level\", \"u_probability_description\": \"Amongst non-matching record comparisons, 0.20% of records are in the exact match comparison level\", \"has_tf_adjustments\": false, \"tf_adjustment_column\": null, \"tf_adjustment_weight\": 1.0, \"is_null_level\": false, \"bayes_factor\": 468.2892546707963, \"log2_bayes_factor\": 8.871256124222102, \"comparison_vector_value\": 2, \"max_comparison_vector_value\": 2, \"bayes_factor_description\": \"If comparison level is `exact match` then comparison is 468.29 times more likely to be a match\", \"probability_two_random_records_match\": 1.4225305711259186e-05, \"comparison_sort_order\": 0}, {\"comparison_name\": \"first_name_15\", \"sql_condition\": \"jaro_winkler(`first_name_15_l`, `first_name_15_r`) >= 0.8333333333333334\", \"label_for_charts\": \"Jaro_winkler >= 0.8333333333333334\", \"m_probability\": 0.025000000000000022, \"u_probability\": 0.0034715656116374467, \"m_probability_description\": \"Amongst matching record comparisons, 2.50% of records are in the jaro_winkler >= 0.8333333333333334 comparison level\", \"u_probability_description\": \"Amongst non-matching record comparisons, 0.35% of records are in the jaro_winkler >= 0.8333333333333334 comparison level\", \"has_tf_adjustments\": false, \"tf_adjustment_column\": null, \"tf_adjustment_weight\": 1.0, \"is_null_level\": false, \"bayes_factor\": 7.201361805231207, \"log2_bayes_factor\": 2.8482697515381044, \"comparison_vector_value\": 1, \"max_comparison_vector_value\": 2, \"bayes_factor_description\": \"If comparison level is `jaro_winkler >= 0.8333333333333334` then comparison is 7.20 times more likely to be a match\", \"probability_two_random_records_match\": 1.4225305711259186e-05, \"comparison_sort_order\": 0}, {\"comparison_name\": \"first_name_15\", \"sql_condition\": \"ELSE\", \"label_for_charts\": \"All other comparisons\", \"m_probability\": 0.025000000000000022, \"u_probability\": 0.9944997737037012, \"m_probability_description\": \"Amongst matching record comparisons, 2.50% of records are in the all other comparisons comparison level\", \"u_probability_description\": \"Amongst non-matching record comparisons, 99.45% of records are in the all other comparisons comparison level\", \"has_tf_adjustments\": false, \"tf_adjustment_column\": null, \"tf_adjustment_weight\": 1.0, \"is_null_level\": false, \"bayes_factor\": 0.025138266152535556, \"log2_bayes_factor\": -5.313971042776881, \"comparison_vector_value\": 0, \"max_comparison_vector_value\": 2, \"bayes_factor_description\": \"If comparison level is `all other comparisons` then comparison is  39.78 times less likely to be a match\", \"probability_two_random_records_match\": 1.4225305711259186e-05, \"comparison_sort_order\": 0}, {\"comparison_name\": \"last_name_12\", \"sql_condition\": \"`last_name_12_l` = `last_name_12_r`\", \"label_for_charts\": \"Exact match\", \"m_probability\": 0.95, \"u_probability\": 0.000677983558493214, \"m_probability_description\": \"Amongst matching record comparisons, 95.00% of records are in the exact match comparison level\", \"u_probability_description\": \"Amongst non-matching record comparisons, 0.07% of records are in the exact match comparison level\", \"has_tf_adjustments\": false, \"tf_adjustment_column\": null, \"tf_adjustment_weight\": 1.0, \"is_null_level\": false, \"bayes_factor\": 1401.2139204545454, \"log2_bayes_factor\": 10.45246151053744, \"comparison_vector_value\": 2, \"max_comparison_vector_value\": 2, \"bayes_factor_description\": \"If comparison level is `exact match` then comparison is 1,401.21 times more likely to be a match\", \"probability_two_random_records_match\": 1.4225305711259186e-05, \"comparison_sort_order\": 1}, {\"comparison_name\": \"last_name_12\", \"sql_condition\": \"jaro_winkler(`last_name_12_l`, `last_name_12_r`) >= 0.8333333333333334\", \"label_for_charts\": \"Jaro_winkler >= 0.8333333333333334\", \"m_probability\": 0.025000000000000022, \"u_probability\": 0.001280545501029647, \"m_probability_description\": \"Amongst matching record comparisons, 2.50% of records are in the jaro_winkler >= 0.8333333333333334 comparison level\", \"u_probability_description\": \"Amongst non-matching record comparisons, 0.13% of records are in the jaro_winkler >= 0.8333333333333334 comparison level\", \"has_tf_adjustments\": false, \"tf_adjustment_column\": null, \"tf_adjustment_weight\": 1.0, \"is_null_level\": false, \"bayes_factor\": 19.52292986067133, \"log2_bayes_factor\": 4.287097673314501, \"comparison_vector_value\": 1, \"max_comparison_vector_value\": 2, \"bayes_factor_description\": \"If comparison level is `jaro_winkler >= 0.8333333333333334` then comparison is 19.52 times more likely to be a match\", \"probability_two_random_records_match\": 1.4225305711259186e-05, \"comparison_sort_order\": 1}, {\"comparison_name\": \"last_name_12\", \"sql_condition\": \"ELSE\", \"label_for_charts\": \"All other comparisons\", \"m_probability\": 0.025000000000000022, \"u_probability\": 0.9980414709404771, \"m_probability_description\": \"Amongst matching record comparisons, 2.50% of records are in the all other comparisons comparison level\", \"u_probability_description\": \"Amongst non-matching record comparisons, 99.80% of records are in the all other comparisons comparison level\", \"has_tf_adjustments\": false, \"tf_adjustment_column\": null, \"tf_adjustment_weight\": 1.0, \"is_null_level\": false, \"bayes_factor\": 0.025049059310573493, \"log2_bayes_factor\": -5.319099764136797, \"comparison_vector_value\": 0, \"max_comparison_vector_value\": 2, \"bayes_factor_description\": \"If comparison level is `all other comparisons` then comparison is  39.92 times less likely to be a match\", \"probability_two_random_records_match\": 1.4225305711259186e-05, \"comparison_sort_order\": 1}, {\"comparison_name\": \"middle_initial\", \"sql_condition\": \"`middle_initial_l` = `middle_initial_r`\", \"label_for_charts\": \"Exact match\", \"m_probability\": 0.95, \"u_probability\": 0.0738281151949889, \"m_probability_description\": \"Amongst matching record comparisons, 95.00% of records are in the exact match comparison level\", \"u_probability_description\": \"Amongst non-matching record comparisons, 7.38% of records are in the exact match comparison level\", \"has_tf_adjustments\": false, \"tf_adjustment_column\": null, \"tf_adjustment_weight\": 1.0, \"is_null_level\": false, \"bayes_factor\": 12.867726576669824, \"log2_bayes_factor\": 3.685685280824857, \"comparison_vector_value\": 1, \"max_comparison_vector_value\": 1, \"bayes_factor_description\": \"If comparison level is `exact match` then comparison is 12.87 times more likely to be a match\", \"probability_two_random_records_match\": 1.4225305711259186e-05, \"comparison_sort_order\": 2}, {\"comparison_name\": \"middle_initial\", \"sql_condition\": \"ELSE\", \"label_for_charts\": \"All other comparisons\", \"m_probability\": 0.050000000000000044, \"u_probability\": 0.9261718848050111, \"m_probability_description\": \"Amongst matching record comparisons, 5.00% of records are in the all other comparisons comparison level\", \"u_probability_description\": \"Amongst non-matching record comparisons, 92.62% of records are in the all other comparisons comparison level\", \"has_tf_adjustments\": false, \"tf_adjustment_column\": null, \"tf_adjustment_weight\": 1.0, \"is_null_level\": false, \"bayes_factor\": 0.053985659487522285, \"log2_bayes_factor\": -4.211279962755242, \"comparison_vector_value\": 0, \"max_comparison_vector_value\": 1, \"bayes_factor_description\": \"If comparison level is `all other comparisons` then comparison is  18.52 times less likely to be a match\", \"probability_two_random_records_match\": 1.4225305711259186e-05, \"comparison_sort_order\": 2}, {\"comparison_name\": \"day_of_birth\", \"sql_condition\": \"`day_of_birth_l` = `day_of_birth_r`\", \"label_for_charts\": \"Exact match\", \"m_probability\": 0.95, \"u_probability\": 0.032431119048632266, \"m_probability_description\": \"Amongst matching record comparisons, 95.00% of records are in the exact match comparison level\", \"u_probability_description\": \"Amongst non-matching record comparisons, 3.24% of records are in the exact match comparison level\", \"has_tf_adjustments\": false, \"tf_adjustment_column\": null, \"tf_adjustment_weight\": 1.0, \"is_null_level\": false, \"bayes_factor\": 29.292852910052908, \"log2_bayes_factor\": 4.872476802913472, \"comparison_vector_value\": 2, \"max_comparison_vector_value\": 2, \"bayes_factor_description\": \"If comparison level is `exact match` then comparison is 29.29 times more likely to be a match\", \"probability_two_random_records_match\": 1.4225305711259186e-05, \"comparison_sort_order\": 3}, {\"comparison_name\": \"day_of_birth\", \"sql_condition\": \"abs(day_of_birth_l - day_of_birth_r) <= 5\", \"label_for_charts\": \"Inexact match\", \"m_probability\": 0.025000000000000022, \"u_probability\": 0.29408973456130016, \"m_probability_description\": \"Amongst matching record comparisons, 2.50% of records are in the inexact match comparison level\", \"u_probability_description\": \"Amongst non-matching record comparisons, 29.41% of records are in the inexact match comparison level\", \"has_tf_adjustments\": false, \"tf_adjustment_column\": null, \"tf_adjustment_weight\": 1.0, \"is_null_level\": false, \"bayes_factor\": 0.08500806747740804, \"log2_bayes_factor\": -3.5562564266731993, \"comparison_vector_value\": 1, \"max_comparison_vector_value\": 2, \"bayes_factor_description\": \"If comparison level is `inexact match` then comparison is  11.76 times less likely to be a match\", \"probability_two_random_records_match\": 1.4225305711259186e-05, \"comparison_sort_order\": 3}, {\"comparison_name\": \"day_of_birth\", \"sql_condition\": \"ELSE\", \"label_for_charts\": \"All other comparisons\", \"m_probability\": 0.025000000000000022, \"u_probability\": 0.6734791463900676, \"m_probability_description\": \"Amongst matching record comparisons, 2.50% of records are in the all other comparisons comparison level\", \"u_probability_description\": \"Amongst non-matching record comparisons, 67.35% of records are in the all other comparisons comparison level\", \"has_tf_adjustments\": false, \"tf_adjustment_column\": null, \"tf_adjustment_weight\": 1.0, \"is_null_level\": false, \"bayes_factor\": 0.03712067423914036, \"log2_bayes_factor\": -4.751633274766402, \"comparison_vector_value\": 0, \"max_comparison_vector_value\": 2, \"bayes_factor_description\": \"If comparison level is `all other comparisons` then comparison is  26.94 times less likely to be a match\", \"probability_two_random_records_match\": 1.4225305711259186e-05, \"comparison_sort_order\": 3}, {\"comparison_name\": \"month_of_birth\", \"sql_condition\": \"`month_of_birth_l` = `month_of_birth_r`\", \"label_for_charts\": \"Exact match\", \"m_probability\": 0.95, \"u_probability\": 0.08338892953741671, \"m_probability_description\": \"Amongst matching record comparisons, 95.00% of records are in the exact match comparison level\", \"u_probability_description\": \"Amongst non-matching record comparisons, 8.34% of records are in the exact match comparison level\", \"has_tf_adjustments\": false, \"tf_adjustment_column\": null, \"tf_adjustment_weight\": 1.0, \"is_null_level\": false, \"bayes_factor\": 11.392399509982123, \"log2_bayes_factor\": 3.5099997397877862, \"comparison_vector_value\": 2, \"max_comparison_vector_value\": 2, \"bayes_factor_description\": \"If comparison level is `exact match` then comparison is 11.39 times more likely to be a match\", \"probability_two_random_records_match\": 1.4225305711259186e-05, \"comparison_sort_order\": 4}, {\"comparison_name\": \"month_of_birth\", \"sql_condition\": \"abs(month_of_birth_l - month_of_birth_r) <= 3\", \"label_for_charts\": \"Inexact match\", \"m_probability\": 0.025000000000000022, \"u_probability\": 0.4136651580190546, \"m_probability_description\": \"Amongst matching record comparisons, 2.50% of records are in the inexact match comparison level\", \"u_probability_description\": \"Amongst non-matching record comparisons, 41.37% of records are in the inexact match comparison level\", \"has_tf_adjustments\": false, \"tf_adjustment_column\": null, \"tf_adjustment_weight\": 1.0, \"is_null_level\": false, \"bayes_factor\": 0.06043535336579749, \"log2_bayes_factor\": -4.048463448097656, \"comparison_vector_value\": 1, \"max_comparison_vector_value\": 2, \"bayes_factor_description\": \"If comparison level is `inexact match` then comparison is  16.55 times less likely to be a match\", \"probability_two_random_records_match\": 1.4225305711259186e-05, \"comparison_sort_order\": 4}, {\"comparison_name\": \"month_of_birth\", \"sql_condition\": \"ELSE\", \"label_for_charts\": \"All other comparisons\", \"m_probability\": 0.025000000000000022, \"u_probability\": 0.5029459124435287, \"m_probability_description\": \"Amongst matching record comparisons, 2.50% of records are in the all other comparisons comparison level\", \"u_probability_description\": \"Amongst non-matching record comparisons, 50.29% of records are in the all other comparisons comparison level\", \"has_tf_adjustments\": false, \"tf_adjustment_column\": null, \"tf_adjustment_weight\": 1.0, \"is_null_level\": false, \"bayes_factor\": 0.049707134269248186, \"log2_bayes_factor\": -4.330403258787907, \"comparison_vector_value\": 0, \"max_comparison_vector_value\": 2, \"bayes_factor_description\": \"If comparison level is `all other comparisons` then comparison is  20.12 times less likely to be a match\", \"probability_two_random_records_match\": 1.4225305711259186e-05, \"comparison_sort_order\": 4}, {\"comparison_name\": \"year_of_birth\", \"sql_condition\": \"`year_of_birth_l` = `year_of_birth_r`\", \"label_for_charts\": \"Exact match\", \"m_probability\": 0.95, \"u_probability\": 0.011194856230046568, \"m_probability_description\": \"Amongst matching record comparisons, 95.00% of records are in the exact match comparison level\", \"u_probability_description\": \"Amongst non-matching record comparisons, 1.12% of records are in the exact match comparison level\", \"has_tf_adjustments\": false, \"tf_adjustment_column\": null, \"tf_adjustment_weight\": 1.0, \"is_null_level\": false, \"bayes_factor\": 84.86040199875333, \"log2_bayes_factor\": 6.407019607834114, \"comparison_vector_value\": 2, \"max_comparison_vector_value\": 2, \"bayes_factor_description\": \"If comparison level is `exact match` then comparison is 84.86 times more likely to be a match\", \"probability_two_random_records_match\": 1.4225305711259186e-05, \"comparison_sort_order\": 5}, {\"comparison_name\": \"year_of_birth\", \"sql_condition\": \"abs(year_of_birth_l - year_of_birth_r) <= 5\", \"label_for_charts\": \"Inexact match\", \"m_probability\": 0.025000000000000022, \"u_probability\": 0.11039918989695713, \"m_probability_description\": \"Amongst matching record comparisons, 2.50% of records are in the inexact match comparison level\", \"u_probability_description\": \"Amongst non-matching record comparisons, 11.04% of records are in the inexact match comparison level\", \"has_tf_adjustments\": false, \"tf_adjustment_column\": null, \"tf_adjustment_weight\": 1.0, \"is_null_level\": false, \"bayes_factor\": 0.22645093703435848, \"log2_bayes_factor\": -2.1427295857398976, \"comparison_vector_value\": 1, \"max_comparison_vector_value\": 2, \"bayes_factor_description\": \"If comparison level is `inexact match` then comparison is  4.42 times less likely to be a match\", \"probability_two_random_records_match\": 1.4225305711259186e-05, \"comparison_sort_order\": 5}, {\"comparison_name\": \"year_of_birth\", \"sql_condition\": \"ELSE\", \"label_for_charts\": \"All other comparisons\", \"m_probability\": 0.025000000000000022, \"u_probability\": 0.8784059538729964, \"m_probability_description\": \"Amongst matching record comparisons, 2.50% of records are in the all other comparisons comparison level\", \"u_probability_description\": \"Amongst non-matching record comparisons, 87.84% of records are in the all other comparisons comparison level\", \"has_tf_adjustments\": false, \"tf_adjustment_column\": null, \"tf_adjustment_weight\": 1.0, \"is_null_level\": false, \"bayes_factor\": 0.028460644978295112, \"log2_bayes_factor\": -5.134887833024731, \"comparison_vector_value\": 0, \"max_comparison_vector_value\": 2, \"bayes_factor_description\": \"If comparison level is `all other comparisons` then comparison is  35.14 times less likely to be a match\", \"probability_two_random_records_match\": 1.4225305711259186e-05, \"comparison_sort_order\": 5}, {\"comparison_name\": \"geokey\", \"sql_condition\": \"`geokey_l` = `geokey_r`\", \"label_for_charts\": \"Exact match\", \"m_probability\": 0.95, \"u_probability\": 0.0023439137899664837, \"m_probability_description\": \"Amongst matching record comparisons, 95.00% of records are in the exact match comparison level\", \"u_probability_description\": \"Amongst non-matching record comparisons, 0.23% of records are in the exact match comparison level\", \"has_tf_adjustments\": false, \"tf_adjustment_column\": null, \"tf_adjustment_weight\": 1.0, \"is_null_level\": false, \"bayes_factor\": 405.30500911195384, \"log2_bayes_factor\": 8.662864195350247, \"comparison_vector_value\": 2, \"max_comparison_vector_value\": 2, \"bayes_factor_description\": \"If comparison level is `exact match` then comparison is 405.31 times more likely to be a match\", \"probability_two_random_records_match\": 1.4225305711259186e-05, \"comparison_sort_order\": 6}, {\"comparison_name\": \"geokey\", \"sql_condition\": \"jaro_winkler(`geokey_l`, `geokey_r`) >= 0.7222222222222222\", \"label_for_charts\": \"Jaro_winkler >= 0.7222222222222222\", \"m_probability\": 0.025000000000000022, \"u_probability\": 0.35828043566803447, \"m_probability_description\": \"Amongst matching record comparisons, 2.50% of records are in the jaro_winkler >= 0.7222222222222222 comparison level\", \"u_probability_description\": \"Amongst non-matching record comparisons, 35.83% of records are in the jaro_winkler >= 0.7222222222222222 comparison level\", \"has_tf_adjustments\": false, \"tf_adjustment_column\": null, \"tf_adjustment_weight\": 1.0, \"is_null_level\": false, \"bayes_factor\": 0.06977774254791805, \"log2_bayes_factor\": -3.841089265610242, \"comparison_vector_value\": 1, \"max_comparison_vector_value\": 2, \"bayes_factor_description\": \"If comparison level is `jaro_winkler >= 0.7222222222222222` then comparison is  14.33 times less likely to be a match\", \"probability_two_random_records_match\": 1.4225305711259186e-05, \"comparison_sort_order\": 6}, {\"comparison_name\": \"geokey\", \"sql_condition\": \"ELSE\", \"label_for_charts\": \"All other comparisons\", \"m_probability\": 0.025000000000000022, \"u_probability\": 0.6393756505419991, \"m_probability_description\": \"Amongst matching record comparisons, 2.50% of records are in the all other comparisons comparison level\", \"u_probability_description\": \"Amongst non-matching record comparisons, 63.94% of records are in the all other comparisons comparison level\", \"has_tf_adjustments\": false, \"tf_adjustment_column\": null, \"tf_adjustment_weight\": 1.0, \"is_null_level\": false, \"bayes_factor\": 0.03910064447841814, \"log2_bayes_factor\": -4.676663802749638, \"comparison_vector_value\": 0, \"max_comparison_vector_value\": 2, \"bayes_factor_description\": \"If comparison level is `all other comparisons` then comparison is  25.58 times less likely to be a match\", \"probability_two_random_records_match\": 1.4225305711259186e-05, \"comparison_sort_order\": 6}]}}, {\"mode\": \"vega-lite\"});\n",
       "</script>"
      ],
      "text/plain": [
       "alt.HConcatChart(...)"
      ]
     },
     "execution_count": 55,
     "metadata": {},
     "output_type": "execute_result"
    }
   ],
   "source": [
    "# Ignore the green bars on the left, these are the m probabilities that haven't been estimated yet\n",
    "linker.m_u_parameters_chart()"
   ]
  },
  {
   "cell_type": "markdown",
   "id": "2f66f6a2-28de-41a1-8c99-e8bda2dfb3e4",
   "metadata": {
    "papermill": {
     "duration": 0.034354,
     "end_time": "2024-02-12T19:32:38.333853",
     "exception": false,
     "start_time": "2024-02-12T19:32:38.299499",
     "status": "completed"
    },
    "tags": []
   },
   "source": [
    "#### Estimate m probabilities\n",
    "\n",
    "The EM algorithm implemented in Splink can be used to estimate all the parameters at once.\n",
    "However, I've found this to be extremely unstable, and the lambda and u estimates I've made\n",
    "above much better than what happens when I allow EM to mess with them.\n",
    "\n",
    "These EM session blocking rules are the result of **lots** of trial and error.\n",
    "I consistently had problems with the EM algorithm deciding that first names\n",
    "were completely wrong (\"All other comparisons\") almost as often as they were\n",
    "right.\n",
    "I can think of two reasons this might be happening:\n",
    "- The EM algorithm is just looking for two coherent clusters, and the assumption is that these\n",
    "  clusters correspond to matches and non-matches.\n",
    "  But in real life, and in our simulated data, matches and non-matches are not homogenous.\n",
    "  In particular, people who are in the same family live together and tend to share a last name,\n",
    "  and this could have been the cluster EM was finding instead of finding the exact same person.\n",
    "- Conditional independence is grossly violated by some of our columns, especially the address parts\n",
    "  and the DOB parts. This could be causing some pathological behavior.\n",
    "\n",
    "Using the EM approach below, I have at least obtained reasonable-looking m and u probabilities."
   ]
  },
  {
   "cell_type": "code",
   "execution_count": 56,
   "id": "d117b633-fc81-4fe6-ba1d-2d9d5a6e1b32",
   "metadata": {
    "execution": {
     "iopub.execute_input": "2024-02-12T19:32:38.407222Z",
     "iopub.status.busy": "2024-02-12T19:32:38.406186Z",
     "iopub.status.idle": "2024-02-12T19:32:57.728053Z",
     "shell.execute_reply": "2024-02-12T19:32:57.727414Z"
    },
    "papermill": {
     "duration": 19.361374,
     "end_time": "2024-02-12T19:32:57.729838",
     "exception": false,
     "start_time": "2024-02-12T19:32:38.368464",
     "status": "completed"
    },
    "tags": []
   },
   "outputs": [
    {
     "name": "stderr",
     "output_type": "stream",
     "text": [
      "\n",
      "----- Starting EM training session -----\n",
      "\n"
     ]
    },
    {
     "name": "stderr",
     "output_type": "stream",
     "text": [
      "Estimating the m probabilities of the model by blocking on:\n",
      "l.first_name_15 = r.first_name_15 and l.zipcode = r.zipcode\n",
      "\n",
      "Parameter estimates will be made for the following comparison(s):\n",
      "    - last_name_12\n",
      "    - middle_initial\n",
      "    - day_of_birth\n",
      "    - month_of_birth\n",
      "    - year_of_birth\n",
      "    - geokey\n",
      "\n",
      "Parameter estimates cannot be made for the following comparison(s) since they are used in the blocking rules: \n",
      "    - first_name_15\n"
     ]
    },
    {
     "name": "stderr",
     "output_type": "stream",
     "text": [
      "\r",
      "[Stage 49:>                                                       (0 + 10) / 10]\r"
     ]
    },
    {
     "name": "stderr",
     "output_type": "stream",
     "text": [
      "\r",
      "[Stage 49:============================>                            (5 + 5) / 10]\r"
     ]
    },
    {
     "name": "stderr",
     "output_type": "stream",
     "text": [
      "\r",
      "[Stage 51:==============>                                        (10 + 15) / 38]\r",
      "\r",
      "[Stage 51:=================================>                     (23 + 15) / 38]\r"
     ]
    },
    {
     "name": "stderr",
     "output_type": "stream",
     "text": [
      "\r",
      "[Stage 51:=====================================================>  (36 + 2) / 38]\r",
      "\r",
      "                                                                                \r"
     ]
    },
    {
     "name": "stderr",
     "output_type": "stream",
     "text": [
      "24/02/12 19:32:43 WARN DataSource: All paths were ignored:\n",
      "  file:/ihme/homes/zmbc/src/vivarium_research_prl/linkage/person_linkage_case_study/output/small_sample/tmpCheckpoints/2018ac72-63d3-463e-bac8-b54c65966a4a/__splink__df_comparison_vectors_81c81074b\n"
     ]
    },
    {
     "name": "stderr",
     "output_type": "stream",
     "text": [
      "\n"
     ]
    },
    {
     "name": "stderr",
     "output_type": "stream",
     "text": [
      "\r",
      "[Stage 55:==>             (5 + 15) / 38][Stage 56:>                (0 + 0) / 38]\r",
      "\r",
      "[Stage 55:=>(36 + 2) / 38][Stage 56:> (0 + 13) / 38][Stage 57:>  (0 + 0) / 38]\r"
     ]
    },
    {
     "name": "stderr",
     "output_type": "stream",
     "text": [
      "\r",
      "[Stage 56:> (6 + 15) / 38][Stage 57:>  (0 + 0) / 38][Stage 58:>  (0 + 0) / 38]\r",
      "\r",
      "[Stage 57:> (0 + 15) / 38][Stage 58:>  (0 + 0) / 38][Stage 59:>  (0 + 0) / 38]\r"
     ]
    },
    {
     "name": "stderr",
     "output_type": "stream",
     "text": [
      "\r",
      "[Stage 57:>(18 + 15) / 38][Stage 58:>  (0 + 0) / 38][Stage 59:>  (0 + 0) / 38]\r",
      "\r",
      "[Stage 58:> (0 + 15) / 38][Stage 59:>  (0 + 0) / 38][Stage 60:>  (0 + 0) / 38]\r"
     ]
    },
    {
     "name": "stderr",
     "output_type": "stream",
     "text": [
      "\r",
      "[Stage 58:>(23 + 15) / 38][Stage 59:>  (0 + 0) / 38][Stage 60:>  (0 + 0) / 38]\r",
      "\r",
      "[Stage 59:>               (1 + 15) / 38][Stage 60:>                (0 + 0) / 38]\r"
     ]
    },
    {
     "name": "stderr",
     "output_type": "stream",
     "text": [
      "\r",
      "[Stage 59:=============>  (32 + 6) / 38][Stage 60:>                (0 + 9) / 38]\r",
      "\r",
      "[Stage 60:========================================>              (28 + 10) / 38]\r"
     ]
    },
    {
     "name": "stderr",
     "output_type": "stream",
     "text": [
      "\r",
      "                                                                                \r",
      "Iteration 1: Largest change in params was -0.489 in the m_probability of geokey, level `Exact match`\n"
     ]
    },
    {
     "name": "stderr",
     "output_type": "stream",
     "text": [
      "\r",
      "[Stage 70:=============>                                          (9 + 15) / 38]\r",
      "\r",
      "[Stage 71:=>                                                      (1 + 15) / 38]\r"
     ]
    },
    {
     "name": "stderr",
     "output_type": "stream",
     "text": [
      "\r",
      "[Stage 72:>                                                       (0 + 15) / 38]\r",
      "\r",
      "[Stage 72:>(21 + 15) / 38][Stage 73:>  (0 + 0) / 38][Stage 74:>  (0 + 0) / 38]\r"
     ]
    },
    {
     "name": "stderr",
     "output_type": "stream",
     "text": [
      "\r",
      "[Stage 73:> (2 + 15) / 38][Stage 74:>  (0 + 0) / 38][Stage 75:>  (0 + 0) / 38]\r",
      "\r",
      "[Stage 74:>               (0 + 15) / 38][Stage 75:>                (0 + 0) / 38]\r"
     ]
    },
    {
     "name": "stderr",
     "output_type": "stream",
     "text": [
      "\r",
      "[Stage 74:=============>  (31 + 7) / 38][Stage 75:>                (0 + 8) / 38]\r",
      "\r",
      "[Stage 75:==================================================>     (34 + 4) / 38]\r"
     ]
    },
    {
     "name": "stderr",
     "output_type": "stream",
     "text": [
      "\r",
      "                                                                                \r",
      "Iteration 2: Largest change in params was -0.0128 in the m_probability of geokey, level `Exact match`\n"
     ]
    },
    {
     "name": "stderr",
     "output_type": "stream",
     "text": [
      "\r",
      "[Stage 86:============>   (29 + 9) / 38][Stage 87:>                (0 + 6) / 38]\r",
      "\r",
      "[Stage 87:>(19 + 15) / 38][Stage 88:>  (0 + 0) / 38][Stage 89:>  (0 + 0) / 38]\r"
     ]
    },
    {
     "name": "stderr",
     "output_type": "stream",
     "text": [
      "\r",
      "[Stage 88:> (8 + 15) / 38][Stage 89:>  (0 + 0) / 38][Stage 90:>  (0 + 0) / 38]\r",
      "\r",
      "[Stage 89:>               (2 + 15) / 38][Stage 90:>                (0 + 0) / 38]\r"
     ]
    },
    {
     "name": "stderr",
     "output_type": "stream",
     "text": [
      "\r",
      "[Stage 90:==>                                                     (2 + 15) / 38]\r"
     ]
    },
    {
     "name": "stderr",
     "output_type": "stream",
     "text": [
      "\r",
      "                                                                                \r",
      "Iteration 3: Largest change in params was 0.000504 in the m_probability of day_of_birth, level `Exact match`\n"
     ]
    },
    {
     "name": "stderr",
     "output_type": "stream",
     "text": [
      "\r",
      "[Stage 101:=====>        (15 + 15) / 38][Stage 102:>               (0 + 0) / 38]\r",
      "\r",
      "[Stage 102:>(6 + 15) / 38][Stage 103:> (0 + 0) / 38][Stage 104:> (0 + 0) / 38]\r"
     ]
    },
    {
     "name": "stderr",
     "output_type": "stream",
     "text": [
      "\r",
      "[Stage 103:>(2 + 15) / 38][Stage 104:> (0 + 0) / 38][Stage 105:> (0 + 0) / 38]\r",
      "\r",
      "[Stage 104:>              (0 + 15) / 38][Stage 105:>               (0 + 0) / 38]\r"
     ]
    },
    {
     "name": "stderr",
     "output_type": "stream",
     "text": [
      "\r",
      "[Stage 105:>                                                      (0 + 15) / 38]\r"
     ]
    },
    {
     "name": "stderr",
     "output_type": "stream",
     "text": [
      "\r",
      "                                                                                \r",
      "Iteration 4: Largest change in params was 0.000139 in the m_probability of year_of_birth, level `Exact match`\n"
     ]
    },
    {
     "name": "stderr",
     "output_type": "stream",
     "text": [
      "\r",
      "[Stage 117:==>            (6 + 15) / 38][Stage 118:>               (0 + 0) / 38]\r",
      "\r",
      "[Stage 118:>(2 + 15) / 38][Stage 119:> (0 + 0) / 38][Stage 120:> (0 + 0) / 38]\r"
     ]
    },
    {
     "name": "stderr",
     "output_type": "stream",
     "text": [
      "\r",
      "[Stage 119:>              (1 + 15) / 38][Stage 120:>               (0 + 0) / 38]\r",
      "\r",
      "[Stage 120:>                                                      (0 + 15) / 38]\r"
     ]
    },
    {
     "name": "stderr",
     "output_type": "stream",
     "text": [
      "\r",
      "                                                                                \r",
      "Iteration 5: Largest change in params was 3.83e-05 in the m_probability of year_of_birth, level `Exact match`\n"
     ]
    },
    {
     "name": "stderr",
     "output_type": "stream",
     "text": [
      "\n",
      "EM converged after 5 iterations\n"
     ]
    },
    {
     "name": "stderr",
     "output_type": "stream",
     "text": [
      "\n",
      "Your model is not yet fully trained. Missing estimates for:\n",
      "    - first_name_15 (no m values are trained).\n"
     ]
    }
   ],
   "source": [
    "blocking_rule_for_training = \"l.first_name_15 = r.first_name_15 and l.zipcode = r.zipcode\"\n",
    "em_session_1 = linker.estimate_parameters_using_expectation_maximisation(\n",
    "    blocking_rule_for_training,\n",
    "    # Fix lambda; u is fixed by default\n",
    "    fix_probability_two_random_records_match=True,\n",
    ")"
   ]
  },
  {
   "cell_type": "code",
   "execution_count": 57,
   "id": "7cc3f56f-eb87-4673-bcc4-fe2269e54db3",
   "metadata": {
    "execution": {
     "iopub.execute_input": "2024-02-12T19:32:57.786570Z",
     "iopub.status.busy": "2024-02-12T19:32:57.786242Z",
     "iopub.status.idle": "2024-02-12T19:32:59.776010Z",
     "shell.execute_reply": "2024-02-12T19:32:59.775402Z"
    },
    "papermill": {
     "duration": 2.017009,
     "end_time": "2024-02-12T19:32:59.777628",
     "exception": false,
     "start_time": "2024-02-12T19:32:57.760619",
     "status": "completed"
    },
    "tags": []
   },
   "outputs": [
    {
     "data": {
      "text/html": [
       "\n",
       "<style>\n",
       "  #altair-viz-8aaab74044844647b00e8ca052113bde.vega-embed {\n",
       "    width: 100%;\n",
       "    display: flex;\n",
       "  }\n",
       "\n",
       "  #altair-viz-8aaab74044844647b00e8ca052113bde.vega-embed details,\n",
       "  #altair-viz-8aaab74044844647b00e8ca052113bde.vega-embed details summary {\n",
       "    position: relative;\n",
       "  }\n",
       "</style>\n",
       "<div id=\"altair-viz-8aaab74044844647b00e8ca052113bde\"></div>\n",
       "<script type=\"text/javascript\">\n",
       "  var VEGA_DEBUG = (typeof VEGA_DEBUG == \"undefined\") ? {} : VEGA_DEBUG;\n",
       "  (function(spec, embedOpt){\n",
       "    let outputDiv = document.currentScript.previousElementSibling;\n",
       "    if (outputDiv.id !== \"altair-viz-8aaab74044844647b00e8ca052113bde\") {\n",
       "      outputDiv = document.getElementById(\"altair-viz-8aaab74044844647b00e8ca052113bde\");\n",
       "    }\n",
       "    const paths = {\n",
       "      \"vega\": \"https://cdn.jsdelivr.net/npm/vega@5?noext\",\n",
       "      \"vega-lib\": \"https://cdn.jsdelivr.net/npm/vega-lib?noext\",\n",
       "      \"vega-lite\": \"https://cdn.jsdelivr.net/npm/vega-lite@5.15.1?noext\",\n",
       "      \"vega-embed\": \"https://cdn.jsdelivr.net/npm/vega-embed@6?noext\",\n",
       "    };\n",
       "\n",
       "    function maybeLoadScript(lib, version) {\n",
       "      var key = `${lib.replace(\"-\", \"\")}_version`;\n",
       "      return (VEGA_DEBUG[key] == version) ?\n",
       "        Promise.resolve(paths[lib]) :\n",
       "        new Promise(function(resolve, reject) {\n",
       "          var s = document.createElement('script');\n",
       "          document.getElementsByTagName(\"head\")[0].appendChild(s);\n",
       "          s.async = true;\n",
       "          s.onload = () => {\n",
       "            VEGA_DEBUG[key] = version;\n",
       "            return resolve(paths[lib]);\n",
       "          };\n",
       "          s.onerror = () => reject(`Error loading script: ${paths[lib]}`);\n",
       "          s.src = paths[lib];\n",
       "        });\n",
       "    }\n",
       "\n",
       "    function showError(err) {\n",
       "      outputDiv.innerHTML = `<div class=\"error\" style=\"color:red;\">${err}</div>`;\n",
       "      throw err;\n",
       "    }\n",
       "\n",
       "    function displayChart(vegaEmbed) {\n",
       "      vegaEmbed(outputDiv, spec, embedOpt)\n",
       "        .catch(err => showError(`Javascript Error: ${err.message}<br>This usually means there's a typo in your chart specification. See the javascript console for the full traceback.`));\n",
       "    }\n",
       "\n",
       "    if(typeof define === \"function\" && define.amd) {\n",
       "      requirejs.config({paths});\n",
       "      require([\"vega-embed\"], displayChart, err => showError(`Error loading script: ${err.message}`));\n",
       "    } else {\n",
       "      maybeLoadScript(\"vega\", \"5\")\n",
       "        .then(() => maybeLoadScript(\"vega-lite\", \"5.15.1\"))\n",
       "        .then(() => maybeLoadScript(\"vega-embed\", \"6\"))\n",
       "        .catch(showError)\n",
       "        .then(() => displayChart(vegaEmbed));\n",
       "    }\n",
       "  })({\"config\": {\"view\": {\"continuousWidth\": 300, \"continuousHeight\": 300, \"discreteHeight\": 300, \"discreteWidth\": 400}, \"header\": {\"title\": null}, \"title\": {\"anchor\": \"middle\", \"offset\": 10}}, \"hconcat\": [{\"mark\": \"bar\", \"encoding\": {\"color\": {\"value\": \"green\"}, \"row\": {\"field\": \"comparison_name\", \"header\": {\"labelAlign\": \"left\", \"labelAnchor\": \"middle\", \"labelAngle\": 0}, \"sort\": {\"field\": \"comparison_sort_order\"}, \"type\": \"nominal\"}, \"tooltip\": [{\"field\": \"m_probability_description\", \"title\": \"m probability description\", \"type\": \"nominal\"}, {\"field\": \"comparison_name\", \"title\": \"Comparison column name\", \"type\": \"nominal\"}, {\"field\": \"label_for_charts\", \"title\": \"Label\", \"type\": \"ordinal\"}, {\"field\": \"sql_condition\", \"title\": \"SQL condition\", \"type\": \"nominal\"}, {\"field\": \"m_probability\", \"format\": \".4p\", \"title\": \"m probability\", \"type\": \"quantitative\"}, {\"field\": \"u_probability\", \"format\": \".4p\", \"title\": \"u probability\", \"type\": \"quantitative\"}, {\"field\": \"bayes_factor\", \"format\": \",.4f\", \"title\": \"Bayes factor = m/u\", \"type\": \"quantitative\"}, {\"field\": \"log2_bayes_factor\", \"format\": \",.4f\", \"title\": \"Match weight = log2(m/u)\", \"type\": \"quantitative\"}], \"x\": {\"axis\": {\"title\": \"Proportion of record comparisons\"}, \"field\": \"m_probability\", \"type\": \"quantitative\"}, \"y\": {\"axis\": {\"title\": null}, \"field\": \"label_for_charts\", \"sort\": {\"field\": \"comparison_vector_value\", \"order\": \"descending\"}, \"type\": \"nominal\"}}, \"height\": {\"step\": 12}, \"resolve\": {\"scale\": {\"y\": \"independent\"}}, \"title\": {\"text\": \"Amongst matching record comparisons:\", \"fontSize\": 12, \"fontWeight\": \"bold\"}, \"transform\": [{\"filter\": \"(datum.bayes_factor != 'no-op filter due to vega lite issue 4680')\"}], \"width\": 150}, {\"mark\": \"bar\", \"encoding\": {\"color\": {\"value\": \"red\"}, \"row\": {\"field\": \"comparison_name\", \"header\": {\"labels\": false}, \"sort\": {\"field\": \"comparison_sort_order\"}, \"type\": \"nominal\"}, \"tooltip\": [{\"field\": \"u_probability_description\", \"title\": \"u probability description\", \"type\": \"nominal\"}, {\"field\": \"comparison_name\", \"title\": \"Comparison column name\", \"type\": \"nominal\"}, {\"field\": \"label_for_charts\", \"title\": \"Label\", \"type\": \"ordinal\"}, {\"field\": \"sql_condition\", \"title\": \"SQL condition\", \"type\": \"nominal\"}, {\"field\": \"m_probability\", \"format\": \".4p\", \"title\": \"m probability\", \"type\": \"quantitative\"}, {\"field\": \"u_probability\", \"format\": \".4p\", \"title\": \"u probability\", \"type\": \"quantitative\"}, {\"field\": \"bayes_factor\", \"format\": \",.4f\", \"title\": \"Bayes factor = m/u\", \"type\": \"quantitative\"}, {\"field\": \"log2_bayes_factor\", \"format\": \",.4f\", \"title\": \"Match weight = log2(m/u)\", \"type\": \"quantitative\"}], \"x\": {\"axis\": {\"title\": \"Proportion of record comparisons\"}, \"field\": \"u_probability\", \"type\": \"quantitative\"}, \"y\": {\"axis\": {\"title\": null}, \"field\": \"label_for_charts\", \"sort\": {\"field\": \"comparison_vector_value\", \"order\": \"descending\"}, \"type\": \"nominal\"}}, \"height\": {\"step\": 12}, \"resolve\": {\"scale\": {\"y\": \"independent\"}}, \"title\": {\"text\": \"Amongst non-matching record comparisons:\", \"fontSize\": 12, \"fontWeight\": \"bold\"}, \"transform\": [{\"filter\": \"(datum.bayes_factor != 'no-op filter2 due to vega lite issue 4680')\"}], \"width\": 150}], \"data\": {\"name\": \"data-e8a42f29f99b8f93bcb9bae8d4a28fba\"}, \"params\": [{\"name\": \"iteration_number\", \"bind\": {\"input\": \"range\", \"max\": 5, \"min\": 0, \"step\": 1}, \"value\": 5}], \"title\": {\"text\": \"Proportion of record comparisons in each comparison level by match status\", \"subtitle\": \"(m and u probabilities)\"}, \"transform\": [{\"filter\": \"(datum.iteration == iteration_number)\"}], \"$schema\": \"https://vega.github.io/schema/vega-lite/v5.9.3.json\", \"datasets\": {\"data-e8a42f29f99b8f93bcb9bae8d4a28fba\": [{\"comparison_name\": \"last_name_12\", \"sql_condition\": \"`last_name_12_l` = `last_name_12_r`\", \"label_for_charts\": \"Exact match\", \"m_probability\": 0.95, \"u_probability\": 0.000677983558493214, \"m_probability_description\": \"Amongst matching record comparisons, 95.00% of records are in the exact match comparison level\", \"u_probability_description\": \"Amongst non-matching record comparisons, 0.07% of records are in the exact match comparison level\", \"has_tf_adjustments\": false, \"tf_adjustment_column\": null, \"tf_adjustment_weight\": 1.0, \"is_null_level\": false, \"bayes_factor\": 1401.2139204545454, \"log2_bayes_factor\": 10.45246151053744, \"comparison_vector_value\": 2, \"max_comparison_vector_value\": 2, \"bayes_factor_description\": \"If comparison level is `exact match` then comparison is 1,401.21 times more likely to be a match\", \"probability_two_random_records_match\": 0.006617568629943289, \"comparison_sort_order\": 0, \"iteration\": 0}, {\"comparison_name\": \"last_name_12\", \"sql_condition\": \"jaro_winkler(`last_name_12_l`, `last_name_12_r`) >= 0.8333333333333334\", \"label_for_charts\": \"Jaro_winkler >= 0.8333333333333334\", \"m_probability\": 0.025000000000000022, \"u_probability\": 0.001280545501029647, \"m_probability_description\": \"Amongst matching record comparisons, 2.50% of records are in the jaro_winkler >= 0.8333333333333334 comparison level\", \"u_probability_description\": \"Amongst non-matching record comparisons, 0.13% of records are in the jaro_winkler >= 0.8333333333333334 comparison level\", \"has_tf_adjustments\": false, \"tf_adjustment_column\": null, \"tf_adjustment_weight\": 1.0, \"is_null_level\": false, \"bayes_factor\": 19.52292986067133, \"log2_bayes_factor\": 4.287097673314501, \"comparison_vector_value\": 1, \"max_comparison_vector_value\": 2, \"bayes_factor_description\": \"If comparison level is `jaro_winkler >= 0.8333333333333334` then comparison is 19.52 times more likely to be a match\", \"probability_two_random_records_match\": 0.006617568629943289, \"comparison_sort_order\": 0, \"iteration\": 0}, {\"comparison_name\": \"last_name_12\", \"sql_condition\": \"ELSE\", \"label_for_charts\": \"All other comparisons\", \"m_probability\": 0.025000000000000022, \"u_probability\": 0.9980414709404771, \"m_probability_description\": \"Amongst matching record comparisons, 2.50% of records are in the all other comparisons comparison level\", \"u_probability_description\": \"Amongst non-matching record comparisons, 99.80% of records are in the all other comparisons comparison level\", \"has_tf_adjustments\": false, \"tf_adjustment_column\": null, \"tf_adjustment_weight\": 1.0, \"is_null_level\": false, \"bayes_factor\": 0.025049059310573493, \"log2_bayes_factor\": -5.319099764136797, \"comparison_vector_value\": 0, \"max_comparison_vector_value\": 2, \"bayes_factor_description\": \"If comparison level is `all other comparisons` then comparison is  39.92 times less likely to be a match\", \"probability_two_random_records_match\": 0.006617568629943289, \"comparison_sort_order\": 0, \"iteration\": 0}, {\"comparison_name\": \"middle_initial\", \"sql_condition\": \"`middle_initial_l` = `middle_initial_r`\", \"label_for_charts\": \"Exact match\", \"m_probability\": 0.95, \"u_probability\": 0.0738281151949889, \"m_probability_description\": \"Amongst matching record comparisons, 95.00% of records are in the exact match comparison level\", \"u_probability_description\": \"Amongst non-matching record comparisons, 7.38% of records are in the exact match comparison level\", \"has_tf_adjustments\": false, \"tf_adjustment_column\": null, \"tf_adjustment_weight\": 1.0, \"is_null_level\": false, \"bayes_factor\": 12.867726576669824, \"log2_bayes_factor\": 3.685685280824857, \"comparison_vector_value\": 1, \"max_comparison_vector_value\": 1, \"bayes_factor_description\": \"If comparison level is `exact match` then comparison is 12.87 times more likely to be a match\", \"probability_two_random_records_match\": 0.006617568629943289, \"comparison_sort_order\": 1, \"iteration\": 0}, {\"comparison_name\": \"middle_initial\", \"sql_condition\": \"ELSE\", \"label_for_charts\": \"All other comparisons\", \"m_probability\": 0.050000000000000044, \"u_probability\": 0.9261718848050111, \"m_probability_description\": \"Amongst matching record comparisons, 5.00% of records are in the all other comparisons comparison level\", \"u_probability_description\": \"Amongst non-matching record comparisons, 92.62% of records are in the all other comparisons comparison level\", \"has_tf_adjustments\": false, \"tf_adjustment_column\": null, \"tf_adjustment_weight\": 1.0, \"is_null_level\": false, \"bayes_factor\": 0.053985659487522285, \"log2_bayes_factor\": -4.211279962755242, \"comparison_vector_value\": 0, \"max_comparison_vector_value\": 1, \"bayes_factor_description\": \"If comparison level is `all other comparisons` then comparison is  18.52 times less likely to be a match\", \"probability_two_random_records_match\": 0.006617568629943289, \"comparison_sort_order\": 1, \"iteration\": 0}, {\"comparison_name\": \"day_of_birth\", \"sql_condition\": \"`day_of_birth_l` = `day_of_birth_r`\", \"label_for_charts\": \"Exact match\", \"m_probability\": 0.95, \"u_probability\": 0.032431119048632266, \"m_probability_description\": \"Amongst matching record comparisons, 95.00% of records are in the exact match comparison level\", \"u_probability_description\": \"Amongst non-matching record comparisons, 3.24% of records are in the exact match comparison level\", \"has_tf_adjustments\": false, \"tf_adjustment_column\": null, \"tf_adjustment_weight\": 1.0, \"is_null_level\": false, \"bayes_factor\": 29.292852910052908, \"log2_bayes_factor\": 4.872476802913472, \"comparison_vector_value\": 2, \"max_comparison_vector_value\": 2, \"bayes_factor_description\": \"If comparison level is `exact match` then comparison is 29.29 times more likely to be a match\", \"probability_two_random_records_match\": 0.006617568629943289, \"comparison_sort_order\": 2, \"iteration\": 0}, {\"comparison_name\": \"day_of_birth\", \"sql_condition\": \"abs(day_of_birth_l - day_of_birth_r) <= 5\", \"label_for_charts\": \"Inexact match\", \"m_probability\": 0.025000000000000022, \"u_probability\": 0.29408973456130016, \"m_probability_description\": \"Amongst matching record comparisons, 2.50% of records are in the inexact match comparison level\", \"u_probability_description\": \"Amongst non-matching record comparisons, 29.41% of records are in the inexact match comparison level\", \"has_tf_adjustments\": false, \"tf_adjustment_column\": null, \"tf_adjustment_weight\": 1.0, \"is_null_level\": false, \"bayes_factor\": 0.08500806747740804, \"log2_bayes_factor\": -3.5562564266731993, \"comparison_vector_value\": 1, \"max_comparison_vector_value\": 2, \"bayes_factor_description\": \"If comparison level is `inexact match` then comparison is  11.76 times less likely to be a match\", \"probability_two_random_records_match\": 0.006617568629943289, \"comparison_sort_order\": 2, \"iteration\": 0}, {\"comparison_name\": \"day_of_birth\", \"sql_condition\": \"ELSE\", \"label_for_charts\": \"All other comparisons\", \"m_probability\": 0.025000000000000022, \"u_probability\": 0.6734791463900676, \"m_probability_description\": \"Amongst matching record comparisons, 2.50% of records are in the all other comparisons comparison level\", \"u_probability_description\": \"Amongst non-matching record comparisons, 67.35% of records are in the all other comparisons comparison level\", \"has_tf_adjustments\": false, \"tf_adjustment_column\": null, \"tf_adjustment_weight\": 1.0, \"is_null_level\": false, \"bayes_factor\": 0.03712067423914036, \"log2_bayes_factor\": -4.751633274766402, \"comparison_vector_value\": 0, \"max_comparison_vector_value\": 2, \"bayes_factor_description\": \"If comparison level is `all other comparisons` then comparison is  26.94 times less likely to be a match\", \"probability_two_random_records_match\": 0.006617568629943289, \"comparison_sort_order\": 2, \"iteration\": 0}, {\"comparison_name\": \"month_of_birth\", \"sql_condition\": \"`month_of_birth_l` = `month_of_birth_r`\", \"label_for_charts\": \"Exact match\", \"m_probability\": 0.95, \"u_probability\": 0.08338892953741671, \"m_probability_description\": \"Amongst matching record comparisons, 95.00% of records are in the exact match comparison level\", \"u_probability_description\": \"Amongst non-matching record comparisons, 8.34% of records are in the exact match comparison level\", \"has_tf_adjustments\": false, \"tf_adjustment_column\": null, \"tf_adjustment_weight\": 1.0, \"is_null_level\": false, \"bayes_factor\": 11.392399509982123, \"log2_bayes_factor\": 3.5099997397877862, \"comparison_vector_value\": 2, \"max_comparison_vector_value\": 2, \"bayes_factor_description\": \"If comparison level is `exact match` then comparison is 11.39 times more likely to be a match\", \"probability_two_random_records_match\": 0.006617568629943289, \"comparison_sort_order\": 3, \"iteration\": 0}, {\"comparison_name\": \"month_of_birth\", \"sql_condition\": \"abs(month_of_birth_l - month_of_birth_r) <= 3\", \"label_for_charts\": \"Inexact match\", \"m_probability\": 0.025000000000000022, \"u_probability\": 0.4136651580190546, \"m_probability_description\": \"Amongst matching record comparisons, 2.50% of records are in the inexact match comparison level\", \"u_probability_description\": \"Amongst non-matching record comparisons, 41.37% of records are in the inexact match comparison level\", \"has_tf_adjustments\": false, \"tf_adjustment_column\": null, \"tf_adjustment_weight\": 1.0, \"is_null_level\": false, \"bayes_factor\": 0.06043535336579749, \"log2_bayes_factor\": -4.048463448097656, \"comparison_vector_value\": 1, \"max_comparison_vector_value\": 2, \"bayes_factor_description\": \"If comparison level is `inexact match` then comparison is  16.55 times less likely to be a match\", \"probability_two_random_records_match\": 0.006617568629943289, \"comparison_sort_order\": 3, \"iteration\": 0}, {\"comparison_name\": \"month_of_birth\", \"sql_condition\": \"ELSE\", \"label_for_charts\": \"All other comparisons\", \"m_probability\": 0.025000000000000022, \"u_probability\": 0.5029459124435287, \"m_probability_description\": \"Amongst matching record comparisons, 2.50% of records are in the all other comparisons comparison level\", \"u_probability_description\": \"Amongst non-matching record comparisons, 50.29% of records are in the all other comparisons comparison level\", \"has_tf_adjustments\": false, \"tf_adjustment_column\": null, \"tf_adjustment_weight\": 1.0, \"is_null_level\": false, \"bayes_factor\": 0.049707134269248186, \"log2_bayes_factor\": -4.330403258787907, \"comparison_vector_value\": 0, \"max_comparison_vector_value\": 2, \"bayes_factor_description\": \"If comparison level is `all other comparisons` then comparison is  20.12 times less likely to be a match\", \"probability_two_random_records_match\": 0.006617568629943289, \"comparison_sort_order\": 3, \"iteration\": 0}, {\"comparison_name\": \"year_of_birth\", \"sql_condition\": \"`year_of_birth_l` = `year_of_birth_r`\", \"label_for_charts\": \"Exact match\", \"m_probability\": 0.95, \"u_probability\": 0.011194856230046568, \"m_probability_description\": \"Amongst matching record comparisons, 95.00% of records are in the exact match comparison level\", \"u_probability_description\": \"Amongst non-matching record comparisons, 1.12% of records are in the exact match comparison level\", \"has_tf_adjustments\": false, \"tf_adjustment_column\": null, \"tf_adjustment_weight\": 1.0, \"is_null_level\": false, \"bayes_factor\": 84.86040199875333, \"log2_bayes_factor\": 6.407019607834114, \"comparison_vector_value\": 2, \"max_comparison_vector_value\": 2, \"bayes_factor_description\": \"If comparison level is `exact match` then comparison is 84.86 times more likely to be a match\", \"probability_two_random_records_match\": 0.006617568629943289, \"comparison_sort_order\": 4, \"iteration\": 0}, {\"comparison_name\": \"year_of_birth\", \"sql_condition\": \"abs(year_of_birth_l - year_of_birth_r) <= 5\", \"label_for_charts\": \"Inexact match\", \"m_probability\": 0.025000000000000022, \"u_probability\": 0.11039918989695713, \"m_probability_description\": \"Amongst matching record comparisons, 2.50% of records are in the inexact match comparison level\", \"u_probability_description\": \"Amongst non-matching record comparisons, 11.04% of records are in the inexact match comparison level\", \"has_tf_adjustments\": false, \"tf_adjustment_column\": null, \"tf_adjustment_weight\": 1.0, \"is_null_level\": false, \"bayes_factor\": 0.22645093703435848, \"log2_bayes_factor\": -2.1427295857398976, \"comparison_vector_value\": 1, \"max_comparison_vector_value\": 2, \"bayes_factor_description\": \"If comparison level is `inexact match` then comparison is  4.42 times less likely to be a match\", \"probability_two_random_records_match\": 0.006617568629943289, \"comparison_sort_order\": 4, \"iteration\": 0}, {\"comparison_name\": \"year_of_birth\", \"sql_condition\": \"ELSE\", \"label_for_charts\": \"All other comparisons\", \"m_probability\": 0.025000000000000022, \"u_probability\": 0.8784059538729964, \"m_probability_description\": \"Amongst matching record comparisons, 2.50% of records are in the all other comparisons comparison level\", \"u_probability_description\": \"Amongst non-matching record comparisons, 87.84% of records are in the all other comparisons comparison level\", \"has_tf_adjustments\": false, \"tf_adjustment_column\": null, \"tf_adjustment_weight\": 1.0, \"is_null_level\": false, \"bayes_factor\": 0.028460644978295112, \"log2_bayes_factor\": -5.134887833024731, \"comparison_vector_value\": 0, \"max_comparison_vector_value\": 2, \"bayes_factor_description\": \"If comparison level is `all other comparisons` then comparison is  35.14 times less likely to be a match\", \"probability_two_random_records_match\": 0.006617568629943289, \"comparison_sort_order\": 4, \"iteration\": 0}, {\"comparison_name\": \"geokey\", \"sql_condition\": \"`geokey_l` = `geokey_r`\", \"label_for_charts\": \"Exact match\", \"m_probability\": 0.95, \"u_probability\": 0.0023439137899664837, \"m_probability_description\": \"Amongst matching record comparisons, 95.00% of records are in the exact match comparison level\", \"u_probability_description\": \"Amongst non-matching record comparisons, 0.23% of records are in the exact match comparison level\", \"has_tf_adjustments\": false, \"tf_adjustment_column\": null, \"tf_adjustment_weight\": 1.0, \"is_null_level\": false, \"bayes_factor\": 405.30500911195384, \"log2_bayes_factor\": 8.662864195350247, \"comparison_vector_value\": 2, \"max_comparison_vector_value\": 2, \"bayes_factor_description\": \"If comparison level is `exact match` then comparison is 405.31 times more likely to be a match\", \"probability_two_random_records_match\": 0.006617568629943289, \"comparison_sort_order\": 5, \"iteration\": 0}, {\"comparison_name\": \"geokey\", \"sql_condition\": \"jaro_winkler(`geokey_l`, `geokey_r`) >= 0.7222222222222222\", \"label_for_charts\": \"Jaro_winkler >= 0.7222222222222222\", \"m_probability\": 0.025000000000000022, \"u_probability\": 0.35828043566803447, \"m_probability_description\": \"Amongst matching record comparisons, 2.50% of records are in the jaro_winkler >= 0.7222222222222222 comparison level\", \"u_probability_description\": \"Amongst non-matching record comparisons, 35.83% of records are in the jaro_winkler >= 0.7222222222222222 comparison level\", \"has_tf_adjustments\": false, \"tf_adjustment_column\": null, \"tf_adjustment_weight\": 1.0, \"is_null_level\": false, \"bayes_factor\": 0.06977774254791805, \"log2_bayes_factor\": -3.841089265610242, \"comparison_vector_value\": 1, \"max_comparison_vector_value\": 2, \"bayes_factor_description\": \"If comparison level is `jaro_winkler >= 0.7222222222222222` then comparison is  14.33 times less likely to be a match\", \"probability_two_random_records_match\": 0.006617568629943289, \"comparison_sort_order\": 5, \"iteration\": 0}, {\"comparison_name\": \"geokey\", \"sql_condition\": \"ELSE\", \"label_for_charts\": \"All other comparisons\", \"m_probability\": 0.025000000000000022, \"u_probability\": 0.6393756505419991, \"m_probability_description\": \"Amongst matching record comparisons, 2.50% of records are in the all other comparisons comparison level\", \"u_probability_description\": \"Amongst non-matching record comparisons, 63.94% of records are in the all other comparisons comparison level\", \"has_tf_adjustments\": false, \"tf_adjustment_column\": null, \"tf_adjustment_weight\": 1.0, \"is_null_level\": false, \"bayes_factor\": 0.03910064447841814, \"log2_bayes_factor\": -4.676663802749638, \"comparison_vector_value\": 0, \"max_comparison_vector_value\": 2, \"bayes_factor_description\": \"If comparison level is `all other comparisons` then comparison is  25.58 times less likely to be a match\", \"probability_two_random_records_match\": 0.006617568629943289, \"comparison_sort_order\": 5, \"iteration\": 0}, {\"comparison_name\": \"last_name_12\", \"sql_condition\": \"`last_name_12_l` = `last_name_12_r`\", \"label_for_charts\": \"Exact match\", \"m_probability\": 0.8885175967511647, \"u_probability\": 0.000677983558493214, \"m_probability_description\": \"Amongst matching record comparisons, 88.85% of records are in the exact match comparison level\", \"u_probability_description\": \"Amongst non-matching record comparisons, 0.07% of records are in the exact match comparison level\", \"has_tf_adjustments\": false, \"tf_adjustment_column\": null, \"tf_adjustment_weight\": 1.0, \"is_null_level\": false, \"bayes_factor\": 1310.529710670053, \"log2_bayes_factor\": 10.355934345654225, \"comparison_vector_value\": 2, \"max_comparison_vector_value\": 2, \"bayes_factor_description\": \"If comparison level is `exact match` then comparison is 1,310.53 times more likely to be a match\", \"probability_two_random_records_match\": 0.006617568629943289, \"comparison_sort_order\": 0, \"iteration\": 1}, {\"comparison_name\": \"last_name_12\", \"sql_condition\": \"jaro_winkler(`last_name_12_l`, `last_name_12_r`) >= 0.8333333333333334\", \"label_for_charts\": \"Jaro_winkler >= 0.8333333333333334\", \"m_probability\": 0.08604032164709582, \"u_probability\": 0.001280545501029647, \"m_probability_description\": \"Amongst matching record comparisons, 8.60% of records are in the jaro_winkler >= 0.8333333333333334 comparison level\", \"u_probability_description\": \"Amongst non-matching record comparisons, 0.13% of records are in the jaro_winkler >= 0.8333333333333334 comparison level\", \"has_tf_adjustments\": false, \"tf_adjustment_column\": null, \"tf_adjustment_weight\": 1.0, \"is_null_level\": false, \"bayes_factor\": 67.19036658823406, \"log2_bayes_factor\": 6.0701824964680124, \"comparison_vector_value\": 1, \"max_comparison_vector_value\": 2, \"bayes_factor_description\": \"If comparison level is `jaro_winkler >= 0.8333333333333334` then comparison is 67.19 times more likely to be a match\", \"probability_two_random_records_match\": 0.006617568629943289, \"comparison_sort_order\": 0, \"iteration\": 1}, {\"comparison_name\": \"last_name_12\", \"sql_condition\": \"ELSE\", \"label_for_charts\": \"All other comparisons\", \"m_probability\": 0.02544208160173943, \"u_probability\": 0.9980414709404771, \"m_probability_description\": \"Amongst matching record comparisons, 2.54% of records are in the all other comparisons comparison level\", \"u_probability_description\": \"Amongst non-matching record comparisons, 99.80% of records are in the all other comparisons comparison level\", \"has_tf_adjustments\": false, \"tf_adjustment_column\": null, \"tf_adjustment_weight\": 1.0, \"is_null_level\": false, \"bayes_factor\": 0.025492008441056844, \"log2_bayes_factor\": -5.293811146198676, \"comparison_vector_value\": 0, \"max_comparison_vector_value\": 2, \"bayes_factor_description\": \"If comparison level is `all other comparisons` then comparison is  39.23 times less likely to be a match\", \"probability_two_random_records_match\": 0.006617568629943289, \"comparison_sort_order\": 0, \"iteration\": 1}, {\"comparison_name\": \"middle_initial\", \"sql_condition\": \"`middle_initial_l` = `middle_initial_r`\", \"label_for_charts\": \"Exact match\", \"m_probability\": 0.9431230006832279, \"u_probability\": 0.0738281151949889, \"m_probability_description\": \"Amongst matching record comparisons, 94.31% of records are in the exact match comparison level\", \"u_probability_description\": \"Amongst non-matching record comparisons, 7.38% of records are in the exact match comparison level\", \"has_tf_adjustments\": false, \"tf_adjustment_column\": null, \"tf_adjustment_weight\": 1.0, \"is_null_level\": false, \"bayes_factor\": 12.774577790484384, \"log2_bayes_factor\": 3.67520370466942, \"comparison_vector_value\": 1, \"max_comparison_vector_value\": 1, \"bayes_factor_description\": \"If comparison level is `exact match` then comparison is 12.77 times more likely to be a match\", \"probability_two_random_records_match\": 0.006617568629943289, \"comparison_sort_order\": 1, \"iteration\": 1}, {\"comparison_name\": \"middle_initial\", \"sql_condition\": \"ELSE\", \"label_for_charts\": \"All other comparisons\", \"m_probability\": 0.05687699931677217, \"u_probability\": 0.9261718848050111, \"m_probability_description\": \"Amongst matching record comparisons, 5.69% of records are in the all other comparisons comparison level\", \"u_probability_description\": \"Amongst non-matching record comparisons, 92.62% of records are in the all other comparisons comparison level\", \"has_tf_adjustments\": false, \"tf_adjustment_column\": null, \"tf_adjustment_weight\": 1.0, \"is_null_level\": false, \"bayes_factor\": 0.061410846355745945, \"log2_bayes_factor\": -4.025362703532769, \"comparison_vector_value\": 0, \"max_comparison_vector_value\": 1, \"bayes_factor_description\": \"If comparison level is `all other comparisons` then comparison is  16.28 times less likely to be a match\", \"probability_two_random_records_match\": 0.006617568629943289, \"comparison_sort_order\": 1, \"iteration\": 1}, {\"comparison_name\": \"day_of_birth\", \"sql_condition\": \"`day_of_birth_l` = `day_of_birth_r`\", \"label_for_charts\": \"Exact match\", \"m_probability\": 0.9703645220402368, \"u_probability\": 0.032431119048632266, \"m_probability_description\": \"Amongst matching record comparisons, 97.04% of records are in the exact match comparison level\", \"u_probability_description\": \"Amongst non-matching record comparisons, 3.24% of records are in the exact match comparison level\", \"has_tf_adjustments\": false, \"tf_adjustment_column\": null, \"tf_adjustment_weight\": 1.0, \"is_null_level\": false, \"bayes_factor\": 29.920784435008898, \"log2_bayes_factor\": 4.903076093831568, \"comparison_vector_value\": 2, \"max_comparison_vector_value\": 2, \"bayes_factor_description\": \"If comparison level is `exact match` then comparison is 29.92 times more likely to be a match\", \"probability_two_random_records_match\": 0.006617568629943289, \"comparison_sort_order\": 2, \"iteration\": 1}, {\"comparison_name\": \"day_of_birth\", \"sql_condition\": \"abs(day_of_birth_l - day_of_birth_r) <= 5\", \"label_for_charts\": \"Inexact match\", \"m_probability\": 0.016507031695160726, \"u_probability\": 0.29408973456130016, \"m_probability_description\": \"Amongst matching record comparisons, 1.65% of records are in the inexact match comparison level\", \"u_probability_description\": \"Amongst non-matching record comparisons, 29.41% of records are in the inexact match comparison level\", \"has_tf_adjustments\": false, \"tf_adjustment_column\": null, \"tf_adjustment_weight\": 1.0, \"is_null_level\": false, \"bayes_factor\": 0.0561292345677574, \"log2_bayes_factor\": -4.155103804318272, \"comparison_vector_value\": 1, \"max_comparison_vector_value\": 2, \"bayes_factor_description\": \"If comparison level is `inexact match` then comparison is  17.82 times less likely to be a match\", \"probability_two_random_records_match\": 0.006617568629943289, \"comparison_sort_order\": 2, \"iteration\": 1}, {\"comparison_name\": \"day_of_birth\", \"sql_condition\": \"ELSE\", \"label_for_charts\": \"All other comparisons\", \"m_probability\": 0.013128446264602352, \"u_probability\": 0.6734791463900676, \"m_probability_description\": \"Amongst matching record comparisons, 1.31% of records are in the all other comparisons comparison level\", \"u_probability_description\": \"Amongst non-matching record comparisons, 67.35% of records are in the all other comparisons comparison level\", \"has_tf_adjustments\": false, \"tf_adjustment_column\": null, \"tf_adjustment_weight\": 1.0, \"is_null_level\": false, \"bayes_factor\": 0.019493471082174505, \"log2_bayes_factor\": -5.680865184496166, \"comparison_vector_value\": 0, \"max_comparison_vector_value\": 2, \"bayes_factor_description\": \"If comparison level is `all other comparisons` then comparison is  51.30 times less likely to be a match\", \"probability_two_random_records_match\": 0.006617568629943289, \"comparison_sort_order\": 2, \"iteration\": 1}, {\"comparison_name\": \"month_of_birth\", \"sql_condition\": \"`month_of_birth_l` = `month_of_birth_r`\", \"label_for_charts\": \"Exact match\", \"m_probability\": 0.9778036315729903, \"u_probability\": 0.08338892953741671, \"m_probability_description\": \"Amongst matching record comparisons, 97.78% of records are in the exact match comparison level\", \"u_probability_description\": \"Amongst non-matching record comparisons, 8.34% of records are in the exact match comparison level\", \"has_tf_adjustments\": false, \"tf_adjustment_column\": null, \"tf_adjustment_weight\": 1.0, \"is_null_level\": false, \"bayes_factor\": 11.725820645464081, \"log2_bayes_factor\": 3.551616989884784, \"comparison_vector_value\": 2, \"max_comparison_vector_value\": 2, \"bayes_factor_description\": \"If comparison level is `exact match` then comparison is 11.73 times more likely to be a match\", \"probability_two_random_records_match\": 0.006617568629943289, \"comparison_sort_order\": 3, \"iteration\": 1}, {\"comparison_name\": \"month_of_birth\", \"sql_condition\": \"abs(month_of_birth_l - month_of_birth_r) <= 3\", \"label_for_charts\": \"Inexact match\", \"m_probability\": 0.011232649960194938, \"u_probability\": 0.4136651580190546, \"m_probability_description\": \"Amongst matching record comparisons, 1.12% of records are in the inexact match comparison level\", \"u_probability_description\": \"Amongst non-matching record comparisons, 41.37% of records are in the inexact match comparison level\", \"has_tf_adjustments\": false, \"tf_adjustment_column\": null, \"tf_adjustment_weight\": 1.0, \"is_null_level\": false, \"bayes_factor\": 0.027153966783147663, \"log2_bayes_factor\": -5.202693220461714, \"comparison_vector_value\": 1, \"max_comparison_vector_value\": 2, \"bayes_factor_description\": \"If comparison level is `inexact match` then comparison is  36.83 times less likely to be a match\", \"probability_two_random_records_match\": 0.006617568629943289, \"comparison_sort_order\": 3, \"iteration\": 1}, {\"comparison_name\": \"month_of_birth\", \"sql_condition\": \"ELSE\", \"label_for_charts\": \"All other comparisons\", \"m_probability\": 0.01096371846681476, \"u_probability\": 0.5029459124435287, \"m_probability_description\": \"Amongst matching record comparisons, 1.10% of records are in the all other comparisons comparison level\", \"u_probability_description\": \"Amongst non-matching record comparisons, 50.29% of records are in the all other comparisons comparison level\", \"has_tf_adjustments\": false, \"tf_adjustment_column\": null, \"tf_adjustment_weight\": 1.0, \"is_null_level\": false, \"bayes_factor\": 0.021799001036807864, \"log2_bayes_factor\": -5.519594166344316, \"comparison_vector_value\": 0, \"max_comparison_vector_value\": 2, \"bayes_factor_description\": \"If comparison level is `all other comparisons` then comparison is  45.87 times less likely to be a match\", \"probability_two_random_records_match\": 0.006617568629943289, \"comparison_sort_order\": 3, \"iteration\": 1}, {\"comparison_name\": \"year_of_birth\", \"sql_condition\": \"`year_of_birth_l` = `year_of_birth_r`\", \"label_for_charts\": \"Exact match\", \"m_probability\": 0.9666697920481195, \"u_probability\": 0.011194856230046568, \"m_probability_description\": \"Amongst matching record comparisons, 96.67% of records are in the exact match comparison level\", \"u_probability_description\": \"Amongst non-matching record comparisons, 1.12% of records are in the exact match comparison level\", \"has_tf_adjustments\": false, \"tf_adjustment_column\": null, \"tf_adjustment_weight\": 1.0, \"is_null_level\": false, \"bayes_factor\": 86.34946016132075, \"log2_bayes_factor\": 6.4321152532435315, \"comparison_vector_value\": 2, \"max_comparison_vector_value\": 2, \"bayes_factor_description\": \"If comparison level is `exact match` then comparison is 86.35 times more likely to be a match\", \"probability_two_random_records_match\": 0.006617568629943289, \"comparison_sort_order\": 4, \"iteration\": 1}, {\"comparison_name\": \"year_of_birth\", \"sql_condition\": \"abs(year_of_birth_l - year_of_birth_r) <= 5\", \"label_for_charts\": \"Inexact match\", \"m_probability\": 0.010816442890713802, \"u_probability\": 0.11039918989695713, \"m_probability_description\": \"Amongst matching record comparisons, 1.08% of records are in the inexact match comparison level\", \"u_probability_description\": \"Amongst non-matching record comparisons, 11.04% of records are in the inexact match comparison level\", \"has_tf_adjustments\": false, \"tf_adjustment_column\": null, \"tf_adjustment_weight\": 1.0, \"is_null_level\": false, \"bayes_factor\": 0.09797574511923053, \"log2_bayes_factor\": -3.351431550008163, \"comparison_vector_value\": 1, \"max_comparison_vector_value\": 2, \"bayes_factor_description\": \"If comparison level is `inexact match` then comparison is  10.21 times less likely to be a match\", \"probability_two_random_records_match\": 0.006617568629943289, \"comparison_sort_order\": 4, \"iteration\": 1}, {\"comparison_name\": \"year_of_birth\", \"sql_condition\": \"ELSE\", \"label_for_charts\": \"All other comparisons\", \"m_probability\": 0.022513765061166577, \"u_probability\": 0.8784059538729964, \"m_probability_description\": \"Amongst matching record comparisons, 2.25% of records are in the all other comparisons comparison level\", \"u_probability_description\": \"Amongst non-matching record comparisons, 87.84% of records are in the all other comparisons comparison level\", \"has_tf_adjustments\": false, \"tf_adjustment_column\": null, \"tf_adjustment_weight\": 1.0, \"is_null_level\": false, \"bayes_factor\": 0.025630250981224238, \"log2_bayes_factor\": -5.28600858365422, \"comparison_vector_value\": 0, \"max_comparison_vector_value\": 2, \"bayes_factor_description\": \"If comparison level is `all other comparisons` then comparison is  39.02 times less likely to be a match\", \"probability_two_random_records_match\": 0.006617568629943289, \"comparison_sort_order\": 4, \"iteration\": 1}, {\"comparison_name\": \"geokey\", \"sql_condition\": \"`geokey_l` = `geokey_r`\", \"label_for_charts\": \"Exact match\", \"m_probability\": 0.4607735693162169, \"u_probability\": 0.0023439137899664837, \"m_probability_description\": \"Amongst matching record comparisons, 46.08% of records are in the exact match comparison level\", \"u_probability_description\": \"Amongst non-matching record comparisons, 0.23% of records are in the exact match comparison level\", \"has_tf_adjustments\": false, \"tf_adjustment_column\": null, \"tf_adjustment_weight\": 1.0, \"is_null_level\": false, \"bayes_factor\": 196.58298495816504, \"log2_bayes_factor\": 7.61899464584392, \"comparison_vector_value\": 2, \"max_comparison_vector_value\": 2, \"bayes_factor_description\": \"If comparison level is `exact match` then comparison is 196.58 times more likely to be a match\", \"probability_two_random_records_match\": 0.006617568629943289, \"comparison_sort_order\": 5, \"iteration\": 1}, {\"comparison_name\": \"geokey\", \"sql_condition\": \"jaro_winkler(`geokey_l`, `geokey_r`) >= 0.7222222222222222\", \"label_for_charts\": \"Jaro_winkler >= 0.7222222222222222\", \"m_probability\": 0.4316211620540005, \"u_probability\": 0.35828043566803447, \"m_probability_description\": \"Amongst matching record comparisons, 43.16% of records are in the jaro_winkler >= 0.7222222222222222 comparison level\", \"u_probability_description\": \"Amongst non-matching record comparisons, 35.83% of records are in the jaro_winkler >= 0.7222222222222222 comparison level\", \"has_tf_adjustments\": false, \"tf_adjustment_column\": null, \"tf_adjustment_weight\": 1.0, \"is_null_level\": false, \"bayes_factor\": 1.2047020129614892, \"log2_bayes_factor\": 0.26867633517933, \"comparison_vector_value\": 1, \"max_comparison_vector_value\": 2, \"bayes_factor_description\": \"If comparison level is `jaro_winkler >= 0.7222222222222222` then comparison is 1.20 times more likely to be a match\", \"probability_two_random_records_match\": 0.006617568629943289, \"comparison_sort_order\": 5, \"iteration\": 1}, {\"comparison_name\": \"geokey\", \"sql_condition\": \"ELSE\", \"label_for_charts\": \"All other comparisons\", \"m_probability\": 0.1076052686297826, \"u_probability\": 0.6393756505419991, \"m_probability_description\": \"Amongst matching record comparisons, 10.76% of records are in the all other comparisons comparison level\", \"u_probability_description\": \"Amongst non-matching record comparisons, 63.94% of records are in the all other comparisons comparison level\", \"has_tf_adjustments\": false, \"tf_adjustment_column\": null, \"tf_adjustment_weight\": 1.0, \"is_null_level\": false, \"bayes_factor\": 0.16829741410791224, \"log2_bayes_factor\": -2.570915085078395, \"comparison_vector_value\": 0, \"max_comparison_vector_value\": 2, \"bayes_factor_description\": \"If comparison level is `all other comparisons` then comparison is  5.94 times less likely to be a match\", \"probability_two_random_records_match\": 0.006617568629943289, \"comparison_sort_order\": 5, \"iteration\": 1}, {\"comparison_name\": \"last_name_12\", \"sql_condition\": \"`last_name_12_l` = `last_name_12_r`\", \"label_for_charts\": \"Exact match\", \"m_probability\": 0.8812649985649056, \"u_probability\": 0.000677983558493214, \"m_probability_description\": \"Amongst matching record comparisons, 88.13% of records are in the exact match comparison level\", \"u_probability_description\": \"Amongst non-matching record comparisons, 0.07% of records are in the exact match comparison level\", \"has_tf_adjustments\": false, \"tf_adjustment_column\": null, \"tf_adjustment_weight\": 1.0, \"is_null_level\": false, \"bayes_factor\": 1299.8324037878956, \"log2_bayes_factor\": 10.344109903445638, \"comparison_vector_value\": 2, \"max_comparison_vector_value\": 2, \"bayes_factor_description\": \"If comparison level is `exact match` then comparison is 1,299.83 times more likely to be a match\", \"probability_two_random_records_match\": 0.006617568629943289, \"comparison_sort_order\": 0, \"iteration\": 2}, {\"comparison_name\": \"last_name_12\", \"sql_condition\": \"jaro_winkler(`last_name_12_l`, `last_name_12_r`) >= 0.8333333333333334\", \"label_for_charts\": \"Jaro_winkler >= 0.8333333333333334\", \"m_probability\": 0.09041490925889646, \"u_probability\": 0.001280545501029647, \"m_probability_description\": \"Amongst matching record comparisons, 9.04% of records are in the jaro_winkler >= 0.8333333333333334 comparison level\", \"u_probability_description\": \"Amongst non-matching record comparisons, 0.13% of records are in the jaro_winkler >= 0.8333333333333334 comparison level\", \"has_tf_adjustments\": false, \"tf_adjustment_column\": null, \"tf_adjustment_weight\": 1.0, \"is_null_level\": false, \"bayes_factor\": 70.60655727281588, \"log2_bayes_factor\": 6.141730268549186, \"comparison_vector_value\": 1, \"max_comparison_vector_value\": 2, \"bayes_factor_description\": \"If comparison level is `jaro_winkler >= 0.8333333333333334` then comparison is 70.61 times more likely to be a match\", \"probability_two_random_records_match\": 0.006617568629943289, \"comparison_sort_order\": 0, \"iteration\": 2}, {\"comparison_name\": \"last_name_12\", \"sql_condition\": \"ELSE\", \"label_for_charts\": \"All other comparisons\", \"m_probability\": 0.028320092176198, \"u_probability\": 0.9980414709404771, \"m_probability_description\": \"Amongst matching record comparisons, 2.83% of records are in the all other comparisons comparison level\", \"u_probability_description\": \"Amongst non-matching record comparisons, 99.80% of records are in the all other comparisons comparison level\", \"has_tf_adjustments\": false, \"tf_adjustment_column\": null, \"tf_adjustment_weight\": 1.0, \"is_null_level\": false, \"bayes_factor\": 0.028375666744099654, \"log2_bayes_factor\": -5.139201897913726, \"comparison_vector_value\": 0, \"max_comparison_vector_value\": 2, \"bayes_factor_description\": \"If comparison level is `all other comparisons` then comparison is  35.24 times less likely to be a match\", \"probability_two_random_records_match\": 0.006617568629943289, \"comparison_sort_order\": 0, \"iteration\": 2}, {\"comparison_name\": \"middle_initial\", \"sql_condition\": \"`middle_initial_l` = `middle_initial_r`\", \"label_for_charts\": \"Exact match\", \"m_probability\": 0.9419191543058959, \"u_probability\": 0.0738281151949889, \"m_probability_description\": \"Amongst matching record comparisons, 94.19% of records are in the exact match comparison level\", \"u_probability_description\": \"Amongst non-matching record comparisons, 7.38% of records are in the exact match comparison level\", \"has_tf_adjustments\": false, \"tf_adjustment_column\": null, \"tf_adjustment_weight\": 1.0, \"is_null_level\": false, \"bayes_factor\": 12.758271720985624, \"log2_bayes_factor\": 3.673361004833676, \"comparison_vector_value\": 1, \"max_comparison_vector_value\": 1, \"bayes_factor_description\": \"If comparison level is `exact match` then comparison is 12.76 times more likely to be a match\", \"probability_two_random_records_match\": 0.006617568629943289, \"comparison_sort_order\": 1, \"iteration\": 2}, {\"comparison_name\": \"middle_initial\", \"sql_condition\": \"ELSE\", \"label_for_charts\": \"All other comparisons\", \"m_probability\": 0.05808084569410407, \"u_probability\": 0.9261718848050111, \"m_probability_description\": \"Amongst matching record comparisons, 5.81% of records are in the all other comparisons comparison level\", \"u_probability_description\": \"Amongst non-matching record comparisons, 92.62% of records are in the all other comparisons comparison level\", \"has_tf_adjustments\": false, \"tf_adjustment_column\": null, \"tf_adjustment_weight\": 1.0, \"is_null_level\": false, \"bayes_factor\": 0.06271065516778448, \"log2_bayes_factor\": -3.9951455975973813, \"comparison_vector_value\": 0, \"max_comparison_vector_value\": 1, \"bayes_factor_description\": \"If comparison level is `all other comparisons` then comparison is  15.95 times less likely to be a match\", \"probability_two_random_records_match\": 0.006617568629943289, \"comparison_sort_order\": 1, \"iteration\": 2}, {\"comparison_name\": \"day_of_birth\", \"sql_condition\": \"`day_of_birth_l` = `day_of_birth_r`\", \"label_for_charts\": \"Exact match\", \"m_probability\": 0.9720707780615474, \"u_probability\": 0.032431119048632266, \"m_probability_description\": \"Amongst matching record comparisons, 97.21% of records are in the exact match comparison level\", \"u_probability_description\": \"Amongst non-matching record comparisons, 3.24% of records are in the exact match comparison level\", \"has_tf_adjustments\": false, \"tf_adjustment_column\": null, \"tf_adjustment_weight\": 1.0, \"is_null_level\": false, \"bayes_factor\": 29.973396126229048, \"log2_bayes_factor\": 4.90561065210842, \"comparison_vector_value\": 2, \"max_comparison_vector_value\": 2, \"bayes_factor_description\": \"If comparison level is `exact match` then comparison is 29.97 times more likely to be a match\", \"probability_two_random_records_match\": 0.006617568629943289, \"comparison_sort_order\": 2, \"iteration\": 2}, {\"comparison_name\": \"day_of_birth\", \"sql_condition\": \"abs(day_of_birth_l - day_of_birth_r) <= 5\", \"label_for_charts\": \"Inexact match\", \"m_probability\": 0.016864891506578404, \"u_probability\": 0.29408973456130016, \"m_probability_description\": \"Amongst matching record comparisons, 1.69% of records are in the inexact match comparison level\", \"u_probability_description\": \"Amongst non-matching record comparisons, 29.41% of records are in the inexact match comparison level\", \"has_tf_adjustments\": false, \"tf_adjustment_column\": null, \"tf_adjustment_weight\": 1.0, \"is_null_level\": false, \"bayes_factor\": 0.05734607340761525, \"log2_bayes_factor\": -4.124161484166561, \"comparison_vector_value\": 1, \"max_comparison_vector_value\": 2, \"bayes_factor_description\": \"If comparison level is `inexact match` then comparison is  17.44 times less likely to be a match\", \"probability_two_random_records_match\": 0.006617568629943289, \"comparison_sort_order\": 2, \"iteration\": 2}, {\"comparison_name\": \"day_of_birth\", \"sql_condition\": \"ELSE\", \"label_for_charts\": \"All other comparisons\", \"m_probability\": 0.011064330431874094, \"u_probability\": 0.6734791463900676, \"m_probability_description\": \"Amongst matching record comparisons, 1.11% of records are in the all other comparisons comparison level\", \"u_probability_description\": \"Amongst non-matching record comparisons, 67.35% of records are in the all other comparisons comparison level\", \"has_tf_adjustments\": false, \"tf_adjustment_column\": null, \"tf_adjustment_weight\": 1.0, \"is_null_level\": false, \"bayes_factor\": 0.016428616225432204, \"log2_bayes_factor\": -5.927645221889703, \"comparison_vector_value\": 0, \"max_comparison_vector_value\": 2, \"bayes_factor_description\": \"If comparison level is `all other comparisons` then comparison is  60.87 times less likely to be a match\", \"probability_two_random_records_match\": 0.006617568629943289, \"comparison_sort_order\": 2, \"iteration\": 2}, {\"comparison_name\": \"month_of_birth\", \"sql_condition\": \"`month_of_birth_l` = `month_of_birth_r`\", \"label_for_charts\": \"Exact match\", \"m_probability\": 0.9799553346582115, \"u_probability\": 0.08338892953741671, \"m_probability_description\": \"Amongst matching record comparisons, 98.00% of records are in the exact match comparison level\", \"u_probability_description\": \"Amongst non-matching record comparisons, 8.34% of records are in the exact match comparison level\", \"has_tf_adjustments\": false, \"tf_adjustment_column\": null, \"tf_adjustment_weight\": 1.0, \"is_null_level\": false, \"bayes_factor\": 11.751623867752187, \"log2_bayes_factor\": 3.5547882205357255, \"comparison_vector_value\": 2, \"max_comparison_vector_value\": 2, \"bayes_factor_description\": \"If comparison level is `exact match` then comparison is 11.75 times more likely to be a match\", \"probability_two_random_records_match\": 0.006617568629943289, \"comparison_sort_order\": 3, \"iteration\": 2}, {\"comparison_name\": \"month_of_birth\", \"sql_condition\": \"abs(month_of_birth_l - month_of_birth_r) <= 3\", \"label_for_charts\": \"Inexact match\", \"m_probability\": 0.01013239840558029, \"u_probability\": 0.4136651580190546, \"m_probability_description\": \"Amongst matching record comparisons, 1.01% of records are in the inexact match comparison level\", \"u_probability_description\": \"Amongst non-matching record comparisons, 41.37% of records are in the inexact match comparison level\", \"has_tf_adjustments\": false, \"tf_adjustment_column\": null, \"tf_adjustment_weight\": 1.0, \"is_null_level\": false, \"bayes_factor\": 0.024494203123371496, \"log2_bayes_factor\": -5.351415832983962, \"comparison_vector_value\": 1, \"max_comparison_vector_value\": 2, \"bayes_factor_description\": \"If comparison level is `inexact match` then comparison is  40.83 times less likely to be a match\", \"probability_two_random_records_match\": 0.006617568629943289, \"comparison_sort_order\": 3, \"iteration\": 2}, {\"comparison_name\": \"month_of_birth\", \"sql_condition\": \"ELSE\", \"label_for_charts\": \"All other comparisons\", \"m_probability\": 0.009912266936208183, \"u_probability\": 0.5029459124435287, \"m_probability_description\": \"Amongst matching record comparisons, 0.99% of records are in the all other comparisons comparison level\", \"u_probability_description\": \"Amongst non-matching record comparisons, 50.29% of records are in the all other comparisons comparison level\", \"has_tf_adjustments\": false, \"tf_adjustment_column\": null, \"tf_adjustment_weight\": 1.0, \"is_null_level\": false, \"bayes_factor\": 0.01970841534042916, \"log2_bayes_factor\": -5.665044408949506, \"comparison_vector_value\": 0, \"max_comparison_vector_value\": 2, \"bayes_factor_description\": \"If comparison level is `all other comparisons` then comparison is  50.74 times less likely to be a match\", \"probability_two_random_records_match\": 0.006617568629943289, \"comparison_sort_order\": 3, \"iteration\": 2}, {\"comparison_name\": \"year_of_birth\", \"sql_condition\": \"`year_of_birth_l` = `year_of_birth_r`\", \"label_for_charts\": \"Exact match\", \"m_probability\": 0.9677676458308772, \"u_probability\": 0.011194856230046568, \"m_probability_description\": \"Amongst matching record comparisons, 96.78% of records are in the exact match comparison level\", \"u_probability_description\": \"Amongst non-matching record comparisons, 1.12% of records are in the exact match comparison level\", \"has_tf_adjustments\": false, \"tf_adjustment_column\": null, \"tf_adjustment_weight\": 1.0, \"is_null_level\": false, \"bayes_factor\": 86.44752785957408, \"log2_bayes_factor\": 6.433752802586861, \"comparison_vector_value\": 2, \"max_comparison_vector_value\": 2, \"bayes_factor_description\": \"If comparison level is `exact match` then comparison is 86.45 times more likely to be a match\", \"probability_two_random_records_match\": 0.006617568629943289, \"comparison_sort_order\": 4, \"iteration\": 2}, {\"comparison_name\": \"year_of_birth\", \"sql_condition\": \"abs(year_of_birth_l - year_of_birth_r) <= 5\", \"label_for_charts\": \"Inexact match\", \"m_probability\": 0.010530448443132202, \"u_probability\": 0.11039918989695713, \"m_probability_description\": \"Amongst matching record comparisons, 1.05% of records are in the inexact match comparison level\", \"u_probability_description\": \"Amongst non-matching record comparisons, 11.04% of records are in the inexact match comparison level\", \"has_tf_adjustments\": false, \"tf_adjustment_column\": null, \"tf_adjustment_weight\": 1.0, \"is_null_level\": false, \"bayes_factor\": 0.09538519669357146, \"log2_bayes_factor\": -3.390090805241116, \"comparison_vector_value\": 1, \"max_comparison_vector_value\": 2, \"bayes_factor_description\": \"If comparison level is `inexact match` then comparison is  10.48 times less likely to be a match\", \"probability_two_random_records_match\": 0.006617568629943289, \"comparison_sort_order\": 4, \"iteration\": 2}, {\"comparison_name\": \"year_of_birth\", \"sql_condition\": \"ELSE\", \"label_for_charts\": \"All other comparisons\", \"m_probability\": 0.02170190572599058, \"u_probability\": 0.8784059538729964, \"m_probability_description\": \"Amongst matching record comparisons, 2.17% of records are in the all other comparisons comparison level\", \"u_probability_description\": \"Amongst non-matching record comparisons, 87.84% of records are in the all other comparisons comparison level\", \"has_tf_adjustments\": false, \"tf_adjustment_column\": null, \"tf_adjustment_weight\": 1.0, \"is_null_level\": false, \"bayes_factor\": 0.02470600936879389, \"log2_bayes_factor\": -5.338994191200146, \"comparison_vector_value\": 0, \"max_comparison_vector_value\": 2, \"bayes_factor_description\": \"If comparison level is `all other comparisons` then comparison is  40.48 times less likely to be a match\", \"probability_two_random_records_match\": 0.006617568629943289, \"comparison_sort_order\": 4, \"iteration\": 2}, {\"comparison_name\": \"geokey\", \"sql_condition\": \"`geokey_l` = `geokey_r`\", \"label_for_charts\": \"Exact match\", \"m_probability\": 0.44799307092035645, \"u_probability\": 0.0023439137899664837, \"m_probability_description\": \"Amongst matching record comparisons, 44.80% of records are in the exact match comparison level\", \"u_probability_description\": \"Amongst non-matching record comparisons, 0.23% of records are in the exact match comparison level\", \"has_tf_adjustments\": false, \"tf_adjustment_column\": null, \"tf_adjustment_weight\": 1.0, \"is_null_level\": false, \"bayes_factor\": 191.13035335943923, \"log2_bayes_factor\": 7.578413100291891, \"comparison_vector_value\": 2, \"max_comparison_vector_value\": 2, \"bayes_factor_description\": \"If comparison level is `exact match` then comparison is 191.13 times more likely to be a match\", \"probability_two_random_records_match\": 0.006617568629943289, \"comparison_sort_order\": 5, \"iteration\": 2}, {\"comparison_name\": \"geokey\", \"sql_condition\": \"jaro_winkler(`geokey_l`, `geokey_r`) >= 0.7222222222222222\", \"label_for_charts\": \"Jaro_winkler >= 0.7222222222222222\", \"m_probability\": 0.4421739663107794, \"u_probability\": 0.35828043566803447, \"m_probability_description\": \"Amongst matching record comparisons, 44.22% of records are in the jaro_winkler >= 0.7222222222222222 comparison level\", \"u_probability_description\": \"Amongst non-matching record comparisons, 35.83% of records are in the jaro_winkler >= 0.7222222222222222 comparison level\", \"has_tf_adjustments\": false, \"tf_adjustment_column\": null, \"tf_adjustment_weight\": 1.0, \"is_null_level\": false, \"bayes_factor\": 1.2341560473050128, \"log2_bayes_factor\": 0.3035248210998069, \"comparison_vector_value\": 1, \"max_comparison_vector_value\": 2, \"bayes_factor_description\": \"If comparison level is `jaro_winkler >= 0.7222222222222222` then comparison is 1.23 times more likely to be a match\", \"probability_two_random_records_match\": 0.006617568629943289, \"comparison_sort_order\": 5, \"iteration\": 2}, {\"comparison_name\": \"geokey\", \"sql_condition\": \"ELSE\", \"label_for_charts\": \"All other comparisons\", \"m_probability\": 0.10983296276886416, \"u_probability\": 0.6393756505419991, \"m_probability_description\": \"Amongst matching record comparisons, 10.98% of records are in the all other comparisons comparison level\", \"u_probability_description\": \"Amongst non-matching record comparisons, 63.94% of records are in the all other comparisons comparison level\", \"has_tf_adjustments\": false, \"tf_adjustment_column\": null, \"tf_adjustment_weight\": 1.0, \"is_null_level\": false, \"bayes_factor\": 0.1717815851694676, \"log2_bayes_factor\": -2.5413527057253944, \"comparison_vector_value\": 0, \"max_comparison_vector_value\": 2, \"bayes_factor_description\": \"If comparison level is `all other comparisons` then comparison is  5.82 times less likely to be a match\", \"probability_two_random_records_match\": 0.006617568629943289, \"comparison_sort_order\": 5, \"iteration\": 2}, {\"comparison_name\": \"last_name_12\", \"sql_condition\": \"`last_name_12_l` = `last_name_12_r`\", \"label_for_charts\": \"Exact match\", \"m_probability\": 0.8808347625370327, \"u_probability\": 0.000677983558493214, \"m_probability_description\": \"Amongst matching record comparisons, 88.08% of records are in the exact match comparison level\", \"u_probability_description\": \"Amongst non-matching record comparisons, 0.07% of records are in the exact match comparison level\", \"has_tf_adjustments\": false, \"tf_adjustment_column\": null, \"tf_adjustment_weight\": 1.0, \"is_null_level\": false, \"bayes_factor\": 1299.1978219864886, \"log2_bayes_factor\": 10.343405403723363, \"comparison_vector_value\": 2, \"max_comparison_vector_value\": 2, \"bayes_factor_description\": \"If comparison level is `exact match` then comparison is 1,299.20 times more likely to be a match\", \"probability_two_random_records_match\": 0.006617568629943289, \"comparison_sort_order\": 0, \"iteration\": 3}, {\"comparison_name\": \"last_name_12\", \"sql_condition\": \"jaro_winkler(`last_name_12_l`, `last_name_12_r`) >= 0.8333333333333334\", \"label_for_charts\": \"Jaro_winkler >= 0.8333333333333334\", \"m_probability\": 0.09048861436093501, \"u_probability\": 0.001280545501029647, \"m_probability_description\": \"Amongst matching record comparisons, 9.05% of records are in the jaro_winkler >= 0.8333333333333334 comparison level\", \"u_probability_description\": \"Amongst non-matching record comparisons, 0.13% of records are in the jaro_winkler >= 0.8333333333333334 comparison level\", \"has_tf_adjustments\": false, \"tf_adjustment_column\": null, \"tf_adjustment_weight\": 1.0, \"is_null_level\": false, \"bayes_factor\": 70.66411485431476, \"log2_bayes_factor\": 6.142905856386894, \"comparison_vector_value\": 1, \"max_comparison_vector_value\": 2, \"bayes_factor_description\": \"If comparison level is `jaro_winkler >= 0.8333333333333334` then comparison is 70.66 times more likely to be a match\", \"probability_two_random_records_match\": 0.006617568629943289, \"comparison_sort_order\": 0, \"iteration\": 3}, {\"comparison_name\": \"last_name_12\", \"sql_condition\": \"ELSE\", \"label_for_charts\": \"All other comparisons\", \"m_probability\": 0.02867662310203222, \"u_probability\": 0.9980414709404771, \"m_probability_description\": \"Amongst matching record comparisons, 2.87% of records are in the all other comparisons comparison level\", \"u_probability_description\": \"Amongst non-matching record comparisons, 99.80% of records are in the all other comparisons comparison level\", \"has_tf_adjustments\": false, \"tf_adjustment_column\": null, \"tf_adjustment_weight\": 1.0, \"is_null_level\": false, \"bayes_factor\": 0.02873289731639066, \"log2_bayes_factor\": -5.121152713672935, \"comparison_vector_value\": 0, \"max_comparison_vector_value\": 2, \"bayes_factor_description\": \"If comparison level is `all other comparisons` then comparison is  34.80 times less likely to be a match\", \"probability_two_random_records_match\": 0.006617568629943289, \"comparison_sort_order\": 0, \"iteration\": 3}, {\"comparison_name\": \"middle_initial\", \"sql_condition\": \"`middle_initial_l` = `middle_initial_r`\", \"label_for_charts\": \"Exact match\", \"m_probability\": 0.9418442219140162, \"u_probability\": 0.0738281151949889, \"m_probability_description\": \"Amongst matching record comparisons, 94.18% of records are in the exact match comparison level\", \"u_probability_description\": \"Amongst non-matching record comparisons, 7.38% of records are in the exact match comparison level\", \"has_tf_adjustments\": false, \"tf_adjustment_column\": null, \"tf_adjustment_weight\": 1.0, \"is_null_level\": false, \"bayes_factor\": 12.757256763585156, \"log2_bayes_factor\": 3.6732462297068333, \"comparison_vector_value\": 1, \"max_comparison_vector_value\": 1, \"bayes_factor_description\": \"If comparison level is `exact match` then comparison is 12.76 times more likely to be a match\", \"probability_two_random_records_match\": 0.006617568629943289, \"comparison_sort_order\": 1, \"iteration\": 3}, {\"comparison_name\": \"middle_initial\", \"sql_condition\": \"ELSE\", \"label_for_charts\": \"All other comparisons\", \"m_probability\": 0.05815577808598382, \"u_probability\": 0.9261718848050111, \"m_probability_description\": \"Amongst matching record comparisons, 5.82% of records are in the all other comparisons comparison level\", \"u_probability_description\": \"Amongst non-matching record comparisons, 92.62% of records are in the all other comparisons comparison level\", \"has_tf_adjustments\": false, \"tf_adjustment_column\": null, \"tf_adjustment_weight\": 1.0, \"is_null_level\": false, \"bayes_factor\": 0.0627915606596366, \"log2_bayes_factor\": -3.993285519394375, \"comparison_vector_value\": 0, \"max_comparison_vector_value\": 1, \"bayes_factor_description\": \"If comparison level is `all other comparisons` then comparison is  15.93 times less likely to be a match\", \"probability_two_random_records_match\": 0.006617568629943289, \"comparison_sort_order\": 1, \"iteration\": 3}, {\"comparison_name\": \"day_of_birth\", \"sql_condition\": \"`day_of_birth_l` = `day_of_birth_r`\", \"label_for_charts\": \"Exact match\", \"m_probability\": 0.9725745325034381, \"u_probability\": 0.032431119048632266, \"m_probability_description\": \"Amongst matching record comparisons, 97.26% of records are in the exact match comparison level\", \"u_probability_description\": \"Amongst non-matching record comparisons, 3.24% of records are in the exact match comparison level\", \"has_tf_adjustments\": false, \"tf_adjustment_column\": null, \"tf_adjustment_weight\": 1.0, \"is_null_level\": false, \"bayes_factor\": 29.988929183880717, \"log2_bayes_factor\": 4.906358103633333, \"comparison_vector_value\": 2, \"max_comparison_vector_value\": 2, \"bayes_factor_description\": \"If comparison level is `exact match` then comparison is 29.99 times more likely to be a match\", \"probability_two_random_records_match\": 0.006617568629943289, \"comparison_sort_order\": 2, \"iteration\": 3}, {\"comparison_name\": \"day_of_birth\", \"sql_condition\": \"abs(day_of_birth_l - day_of_birth_r) <= 5\", \"label_for_charts\": \"Inexact match\", \"m_probability\": 0.016826113044779357, \"u_probability\": 0.29408973456130016, \"m_probability_description\": \"Amongst matching record comparisons, 1.68% of records are in the inexact match comparison level\", \"u_probability_description\": \"Amongst non-matching record comparisons, 29.41% of records are in the inexact match comparison level\", \"has_tf_adjustments\": false, \"tf_adjustment_column\": null, \"tf_adjustment_weight\": 1.0, \"is_null_level\": false, \"bayes_factor\": 0.05721421412372392, \"log2_bayes_factor\": -4.127482579514206, \"comparison_vector_value\": 1, \"max_comparison_vector_value\": 2, \"bayes_factor_description\": \"If comparison level is `inexact match` then comparison is  17.48 times less likely to be a match\", \"probability_two_random_records_match\": 0.006617568629943289, \"comparison_sort_order\": 2, \"iteration\": 3}, {\"comparison_name\": \"day_of_birth\", \"sql_condition\": \"ELSE\", \"label_for_charts\": \"All other comparisons\", \"m_probability\": 0.010599354451782523, \"u_probability\": 0.6734791463900676, \"m_probability_description\": \"Amongst matching record comparisons, 1.06% of records are in the all other comparisons comparison level\", \"u_probability_description\": \"Amongst non-matching record comparisons, 67.35% of records are in the all other comparisons comparison level\", \"has_tf_adjustments\": false, \"tf_adjustment_column\": null, \"tf_adjustment_weight\": 1.0, \"is_null_level\": false, \"bayes_factor\": 0.015738207349992036, \"log2_bayes_factor\": -5.9895849687872245, \"comparison_vector_value\": 0, \"max_comparison_vector_value\": 2, \"bayes_factor_description\": \"If comparison level is `all other comparisons` then comparison is  63.54 times less likely to be a match\", \"probability_two_random_records_match\": 0.006617568629943289, \"comparison_sort_order\": 2, \"iteration\": 3}, {\"comparison_name\": \"month_of_birth\", \"sql_condition\": \"`month_of_birth_l` = `month_of_birth_r`\", \"label_for_charts\": \"Exact match\", \"m_probability\": 0.9804473874864816, \"u_probability\": 0.08338892953741671, \"m_probability_description\": \"Amongst matching record comparisons, 98.04% of records are in the exact match comparison level\", \"u_probability_description\": \"Amongst non-matching record comparisons, 8.34% of records are in the exact match comparison level\", \"has_tf_adjustments\": false, \"tf_adjustment_column\": null, \"tf_adjustment_weight\": 1.0, \"is_null_level\": false, \"bayes_factor\": 11.757524565014997, \"log2_bayes_factor\": 3.5555124413114765, \"comparison_vector_value\": 2, \"max_comparison_vector_value\": 2, \"bayes_factor_description\": \"If comparison level is `exact match` then comparison is 11.76 times more likely to be a match\", \"probability_two_random_records_match\": 0.006617568629943289, \"comparison_sort_order\": 3, \"iteration\": 3}, {\"comparison_name\": \"month_of_birth\", \"sql_condition\": \"abs(month_of_birth_l - month_of_birth_r) <= 3\", \"label_for_charts\": \"Inexact match\", \"m_probability\": 0.009871532099259424, \"u_probability\": 0.4136651580190546, \"m_probability_description\": \"Amongst matching record comparisons, 0.99% of records are in the inexact match comparison level\", \"u_probability_description\": \"Amongst non-matching record comparisons, 41.37% of records are in the inexact match comparison level\", \"has_tf_adjustments\": false, \"tf_adjustment_column\": null, \"tf_adjustment_weight\": 1.0, \"is_null_level\": false, \"bayes_factor\": 0.02386358122722222, \"log2_bayes_factor\": -5.3890456240653455, \"comparison_vector_value\": 1, \"max_comparison_vector_value\": 2, \"bayes_factor_description\": \"If comparison level is `inexact match` then comparison is  41.90 times less likely to be a match\", \"probability_two_random_records_match\": 0.006617568629943289, \"comparison_sort_order\": 3, \"iteration\": 3}, {\"comparison_name\": \"month_of_birth\", \"sql_condition\": \"ELSE\", \"label_for_charts\": \"All other comparisons\", \"m_probability\": 0.009681080414258959, \"u_probability\": 0.5029459124435287, \"m_probability_description\": \"Amongst matching record comparisons, 0.97% of records are in the all other comparisons comparison level\", \"u_probability_description\": \"Amongst non-matching record comparisons, 50.29% of records are in the all other comparisons comparison level\", \"has_tf_adjustments\": false, \"tf_adjustment_column\": null, \"tf_adjustment_weight\": 1.0, \"is_null_level\": false, \"bayes_factor\": 0.019248750560918338, \"log2_bayes_factor\": -5.699091386464222, \"comparison_vector_value\": 0, \"max_comparison_vector_value\": 2, \"bayes_factor_description\": \"If comparison level is `all other comparisons` then comparison is  51.95 times less likely to be a match\", \"probability_two_random_records_match\": 0.006617568629943289, \"comparison_sort_order\": 3, \"iteration\": 3}, {\"comparison_name\": \"year_of_birth\", \"sql_condition\": \"`year_of_birth_l` = `year_of_birth_r`\", \"label_for_charts\": \"Exact match\", \"m_probability\": 0.9682448644455847, \"u_probability\": 0.011194856230046568, \"m_probability_description\": \"Amongst matching record comparisons, 96.82% of records are in the exact match comparison level\", \"u_probability_description\": \"Amongst non-matching record comparisons, 1.12% of records are in the exact match comparison level\", \"has_tf_adjustments\": false, \"tf_adjustment_column\": null, \"tf_adjustment_weight\": 1.0, \"is_null_level\": false, \"bayes_factor\": 86.49015624219025, \"log2_bayes_factor\": 6.434464038634302, \"comparison_vector_value\": 2, \"max_comparison_vector_value\": 2, \"bayes_factor_description\": \"If comparison level is `exact match` then comparison is 86.49 times more likely to be a match\", \"probability_two_random_records_match\": 0.006617568629943289, \"comparison_sort_order\": 4, \"iteration\": 3}, {\"comparison_name\": \"year_of_birth\", \"sql_condition\": \"abs(year_of_birth_l - year_of_birth_r) <= 5\", \"label_for_charts\": \"Inexact match\", \"m_probability\": 0.010425287445299664, \"u_probability\": 0.11039918989695713, \"m_probability_description\": \"Amongst matching record comparisons, 1.04% of records are in the inexact match comparison level\", \"u_probability_description\": \"Amongst non-matching record comparisons, 11.04% of records are in the inexact match comparison level\", \"has_tf_adjustments\": false, \"tf_adjustment_column\": null, \"tf_adjustment_weight\": 1.0, \"is_null_level\": false, \"bayes_factor\": 0.09443264443362559, \"log2_bayes_factor\": -3.404570518521705, \"comparison_vector_value\": 1, \"max_comparison_vector_value\": 2, \"bayes_factor_description\": \"If comparison level is `inexact match` then comparison is  10.59 times less likely to be a match\", \"probability_two_random_records_match\": 0.006617568629943289, \"comparison_sort_order\": 4, \"iteration\": 3}, {\"comparison_name\": \"year_of_birth\", \"sql_condition\": \"ELSE\", \"label_for_charts\": \"All other comparisons\", \"m_probability\": 0.021329848109115767, \"u_probability\": 0.8784059538729964, \"m_probability_description\": \"Amongst matching record comparisons, 2.13% of records are in the all other comparisons comparison level\", \"u_probability_description\": \"Amongst non-matching record comparisons, 87.84% of records are in the all other comparisons comparison level\", \"has_tf_adjustments\": false, \"tf_adjustment_column\": null, \"tf_adjustment_weight\": 1.0, \"is_null_level\": false, \"bayes_factor\": 0.024282449378980105, \"log2_bayes_factor\": -5.363942235698479, \"comparison_vector_value\": 0, \"max_comparison_vector_value\": 2, \"bayes_factor_description\": \"If comparison level is `all other comparisons` then comparison is  41.18 times less likely to be a match\", \"probability_two_random_records_match\": 0.006617568629943289, \"comparison_sort_order\": 4, \"iteration\": 3}, {\"comparison_name\": \"geokey\", \"sql_condition\": \"`geokey_l` = `geokey_r`\", \"label_for_charts\": \"Exact match\", \"m_probability\": 0.4477422216158438, \"u_probability\": 0.0023439137899664837, \"m_probability_description\": \"Amongst matching record comparisons, 44.77% of records are in the exact match comparison level\", \"u_probability_description\": \"Amongst non-matching record comparisons, 0.23% of records are in the exact match comparison level\", \"has_tf_adjustments\": false, \"tf_adjustment_column\": null, \"tf_adjustment_weight\": 1.0, \"is_null_level\": false, \"bayes_factor\": 191.02333180191164, \"log2_bayes_factor\": 7.577605051172676, \"comparison_vector_value\": 2, \"max_comparison_vector_value\": 2, \"bayes_factor_description\": \"If comparison level is `exact match` then comparison is 191.02 times more likely to be a match\", \"probability_two_random_records_match\": 0.006617568629943289, \"comparison_sort_order\": 5, \"iteration\": 3}, {\"comparison_name\": \"geokey\", \"sql_condition\": \"jaro_winkler(`geokey_l`, `geokey_r`) >= 0.7222222222222222\", \"label_for_charts\": \"Jaro_winkler >= 0.7222222222222222\", \"m_probability\": 0.442335581808489, \"u_probability\": 0.35828043566803447, \"m_probability_description\": \"Amongst matching record comparisons, 44.23% of records are in the jaro_winkler >= 0.7222222222222222 comparison level\", \"u_probability_description\": \"Amongst non-matching record comparisons, 35.83% of records are in the jaro_winkler >= 0.7222222222222222 comparison level\", \"has_tf_adjustments\": false, \"tf_adjustment_column\": null, \"tf_adjustment_weight\": 1.0, \"is_null_level\": false, \"bayes_factor\": 1.2346071338886502, \"log2_bayes_factor\": 0.30405203277359144, \"comparison_vector_value\": 1, \"max_comparison_vector_value\": 2, \"bayes_factor_description\": \"If comparison level is `jaro_winkler >= 0.7222222222222222` then comparison is 1.23 times more likely to be a match\", \"probability_two_random_records_match\": 0.006617568629943289, \"comparison_sort_order\": 5, \"iteration\": 3}, {\"comparison_name\": \"geokey\", \"sql_condition\": \"ELSE\", \"label_for_charts\": \"All other comparisons\", \"m_probability\": 0.10992219657566725, \"u_probability\": 0.6393756505419991, \"m_probability_description\": \"Amongst matching record comparisons, 10.99% of records are in the all other comparisons comparison level\", \"u_probability_description\": \"Amongst non-matching record comparisons, 63.94% of records are in the all other comparisons comparison level\", \"has_tf_adjustments\": false, \"tf_adjustment_column\": null, \"tf_adjustment_weight\": 1.0, \"is_null_level\": false, \"bayes_factor\": 0.17192114914367812, \"log2_bayes_factor\": -2.5401810638125126, \"comparison_vector_value\": 0, \"max_comparison_vector_value\": 2, \"bayes_factor_description\": \"If comparison level is `all other comparisons` then comparison is  5.82 times less likely to be a match\", \"probability_two_random_records_match\": 0.006617568629943289, \"comparison_sort_order\": 5, \"iteration\": 3}, {\"comparison_name\": \"last_name_12\", \"sql_condition\": \"`last_name_12_l` = `last_name_12_r`\", \"label_for_charts\": \"Exact match\", \"m_probability\": 0.8807945410386163, \"u_probability\": 0.000677983558493214, \"m_probability_description\": \"Amongst matching record comparisons, 88.08% of records are in the exact match comparison level\", \"u_probability_description\": \"Amongst non-matching record comparisons, 0.07% of records are in the exact match comparison level\", \"has_tf_adjustments\": false, \"tf_adjustment_column\": null, \"tf_adjustment_weight\": 1.0, \"is_null_level\": false, \"bayes_factor\": 1299.1384968038753, \"log2_bayes_factor\": 10.343339524532782, \"comparison_vector_value\": 2, \"max_comparison_vector_value\": 2, \"bayes_factor_description\": \"If comparison level is `exact match` then comparison is 1,299.14 times more likely to be a match\", \"probability_two_random_records_match\": 0.006617568629943289, \"comparison_sort_order\": 0, \"iteration\": 4}, {\"comparison_name\": \"last_name_12\", \"sql_condition\": \"jaro_winkler(`last_name_12_l`, `last_name_12_r`) >= 0.8333333333333334\", \"label_for_charts\": \"Jaro_winkler >= 0.8333333333333334\", \"m_probability\": 0.09049207213338381, \"u_probability\": 0.001280545501029647, \"m_probability_description\": \"Amongst matching record comparisons, 9.05% of records are in the jaro_winkler >= 0.8333333333333334 comparison level\", \"u_probability_description\": \"Amongst non-matching record comparisons, 0.13% of records are in the jaro_winkler >= 0.8333333333333334 comparison level\", \"has_tf_adjustments\": false, \"tf_adjustment_column\": null, \"tf_adjustment_weight\": 1.0, \"is_null_level\": false, \"bayes_factor\": 70.66681508827445, \"log2_bayes_factor\": 6.14296098393958, \"comparison_vector_value\": 1, \"max_comparison_vector_value\": 2, \"bayes_factor_description\": \"If comparison level is `jaro_winkler >= 0.8333333333333334` then comparison is 70.67 times more likely to be a match\", \"probability_two_random_records_match\": 0.006617568629943289, \"comparison_sort_order\": 0, \"iteration\": 4}, {\"comparison_name\": \"last_name_12\", \"sql_condition\": \"ELSE\", \"label_for_charts\": \"All other comparisons\", \"m_probability\": 0.028713386827999822, \"u_probability\": 0.9980414709404771, \"m_probability_description\": \"Amongst matching record comparisons, 2.87% of records are in the all other comparisons comparison level\", \"u_probability_description\": \"Amongst non-matching record comparisons, 99.80% of records are in the all other comparisons comparison level\", \"has_tf_adjustments\": false, \"tf_adjustment_column\": null, \"tf_adjustment_weight\": 1.0, \"is_null_level\": false, \"bayes_factor\": 0.028769733186480264, \"log2_bayes_factor\": -5.1193043483404415, \"comparison_vector_value\": 0, \"max_comparison_vector_value\": 2, \"bayes_factor_description\": \"If comparison level is `all other comparisons` then comparison is  34.76 times less likely to be a match\", \"probability_two_random_records_match\": 0.006617568629943289, \"comparison_sort_order\": 0, \"iteration\": 4}, {\"comparison_name\": \"middle_initial\", \"sql_condition\": \"`middle_initial_l` = `middle_initial_r`\", \"label_for_charts\": \"Exact match\", \"m_probability\": 0.9418372338489539, \"u_probability\": 0.0738281151949889, \"m_probability_description\": \"Amongst matching record comparisons, 94.18% of records are in the exact match comparison level\", \"u_probability_description\": \"Amongst non-matching record comparisons, 7.38% of records are in the exact match comparison level\", \"has_tf_adjustments\": false, \"tf_adjustment_column\": null, \"tf_adjustment_weight\": 1.0, \"is_null_level\": false, \"bayes_factor\": 12.757162110416186, \"log2_bayes_factor\": 3.6732355255118323, \"comparison_vector_value\": 1, \"max_comparison_vector_value\": 1, \"bayes_factor_description\": \"If comparison level is `exact match` then comparison is 12.76 times more likely to be a match\", \"probability_two_random_records_match\": 0.006617568629943289, \"comparison_sort_order\": 1, \"iteration\": 4}, {\"comparison_name\": \"middle_initial\", \"sql_condition\": \"ELSE\", \"label_for_charts\": \"All other comparisons\", \"m_probability\": 0.05816276615104608, \"u_probability\": 0.9261718848050111, \"m_probability_description\": \"Amongst matching record comparisons, 5.82% of records are in the all other comparisons comparison level\", \"u_probability_description\": \"Amongst non-matching record comparisons, 92.62% of records are in the all other comparisons comparison level\", \"has_tf_adjustments\": false, \"tf_adjustment_column\": null, \"tf_adjustment_weight\": 1.0, \"is_null_level\": false, \"bayes_factor\": 0.06279910576565516, \"log2_bayes_factor\": -3.9931121739164204, \"comparison_vector_value\": 0, \"max_comparison_vector_value\": 1, \"bayes_factor_description\": \"If comparison level is `all other comparisons` then comparison is  15.92 times less likely to be a match\", \"probability_two_random_records_match\": 0.006617568629943289, \"comparison_sort_order\": 1, \"iteration\": 4}, {\"comparison_name\": \"day_of_birth\", \"sql_condition\": \"`day_of_birth_l` = `day_of_birth_r`\", \"label_for_charts\": \"Exact match\", \"m_probability\": 0.9727127626945018, \"u_probability\": 0.032431119048632266, \"m_probability_description\": \"Amongst matching record comparisons, 97.27% of records are in the exact match comparison level\", \"u_probability_description\": \"Amongst non-matching record comparisons, 3.24% of records are in the exact match comparison level\", \"has_tf_adjustments\": false, \"tf_adjustment_column\": null, \"tf_adjustment_weight\": 1.0, \"is_null_level\": false, \"bayes_factor\": 29.993191454043412, \"log2_bayes_factor\": 4.906563136598876, \"comparison_vector_value\": 2, \"max_comparison_vector_value\": 2, \"bayes_factor_description\": \"If comparison level is `exact match` then comparison is 29.99 times more likely to be a match\", \"probability_two_random_records_match\": 0.006617568629943289, \"comparison_sort_order\": 2, \"iteration\": 4}, {\"comparison_name\": \"day_of_birth\", \"sql_condition\": \"abs(day_of_birth_l - day_of_birth_r) <= 5\", \"label_for_charts\": \"Inexact match\", \"m_probability\": 0.01680150621262109, \"u_probability\": 0.29408973456130016, \"m_probability_description\": \"Amongst matching record comparisons, 1.68% of records are in the inexact match comparison level\", \"u_probability_description\": \"Amongst non-matching record comparisons, 29.41% of records are in the inexact match comparison level\", \"has_tf_adjustments\": false, \"tf_adjustment_column\": null, \"tf_adjustment_weight\": 1.0, \"is_null_level\": false, \"bayes_factor\": 0.05713054295378331, \"log2_bayes_factor\": -4.129593948790228, \"comparison_vector_value\": 1, \"max_comparison_vector_value\": 2, \"bayes_factor_description\": \"If comparison level is `inexact match` then comparison is  17.50 times less likely to be a match\", \"probability_two_random_records_match\": 0.006617568629943289, \"comparison_sort_order\": 2, \"iteration\": 4}, {\"comparison_name\": \"day_of_birth\", \"sql_condition\": \"ELSE\", \"label_for_charts\": \"All other comparisons\", \"m_probability\": 0.01048573109287704, \"u_probability\": 0.6734791463900676, \"m_probability_description\": \"Amongst matching record comparisons, 1.05% of records are in the all other comparisons comparison level\", \"u_probability_description\": \"Amongst non-matching record comparisons, 67.35% of records are in the all other comparisons comparison level\", \"has_tf_adjustments\": false, \"tf_adjustment_column\": null, \"tf_adjustment_weight\": 1.0, \"is_null_level\": false, \"bayes_factor\": 0.01556949632231654, \"log2_bayes_factor\": -6.00513391620233, \"comparison_vector_value\": 0, \"max_comparison_vector_value\": 2, \"bayes_factor_description\": \"If comparison level is `all other comparisons` then comparison is  64.23 times less likely to be a match\", \"probability_two_random_records_match\": 0.006617568629943289, \"comparison_sort_order\": 2, \"iteration\": 4}, {\"comparison_name\": \"month_of_birth\", \"sql_condition\": \"`month_of_birth_l` = `month_of_birth_r`\", \"label_for_charts\": \"Exact match\", \"m_probability\": 0.9805754963873535, \"u_probability\": 0.08338892953741671, \"m_probability_description\": \"Amongst matching record comparisons, 98.06% of records are in the exact match comparison level\", \"u_probability_description\": \"Amongst non-matching record comparisons, 8.34% of records are in the exact match comparison level\", \"has_tf_adjustments\": false, \"tf_adjustment_column\": null, \"tf_adjustment_weight\": 1.0, \"is_null_level\": false, \"bayes_factor\": 11.759060846888174, \"log2_bayes_factor\": 3.5557009368948425, \"comparison_vector_value\": 2, \"max_comparison_vector_value\": 2, \"bayes_factor_description\": \"If comparison level is `exact match` then comparison is 11.76 times more likely to be a match\", \"probability_two_random_records_match\": 0.006617568629943289, \"comparison_sort_order\": 3, \"iteration\": 4}, {\"comparison_name\": \"month_of_birth\", \"sql_condition\": \"abs(month_of_birth_l - month_of_birth_r) <= 3\", \"label_for_charts\": \"Inexact match\", \"m_probability\": 0.009802384182417813, \"u_probability\": 0.4136651580190546, \"m_probability_description\": \"Amongst matching record comparisons, 0.98% of records are in the inexact match comparison level\", \"u_probability_description\": \"Amongst non-matching record comparisons, 41.37% of records are in the inexact match comparison level\", \"has_tf_adjustments\": false, \"tf_adjustment_column\": null, \"tf_adjustment_weight\": 1.0, \"is_null_level\": false, \"bayes_factor\": 0.023696422075668955, \"log2_bayes_factor\": -5.399186946826877, \"comparison_vector_value\": 1, \"max_comparison_vector_value\": 2, \"bayes_factor_description\": \"If comparison level is `inexact match` then comparison is  42.20 times less likely to be a match\", \"probability_two_random_records_match\": 0.006617568629943289, \"comparison_sort_order\": 3, \"iteration\": 4}, {\"comparison_name\": \"month_of_birth\", \"sql_condition\": \"ELSE\", \"label_for_charts\": \"All other comparisons\", \"m_probability\": 0.00962211943022859, \"u_probability\": 0.5029459124435287, \"m_probability_description\": \"Amongst matching record comparisons, 0.96% of records are in the all other comparisons comparison level\", \"u_probability_description\": \"Amongst non-matching record comparisons, 50.29% of records are in the all other comparisons comparison level\", \"has_tf_adjustments\": false, \"tf_adjustment_column\": null, \"tf_adjustment_weight\": 1.0, \"is_null_level\": false, \"bayes_factor\": 0.01913151929892456, \"log2_bayes_factor\": -5.7079047422282185, \"comparison_vector_value\": 0, \"max_comparison_vector_value\": 2, \"bayes_factor_description\": \"If comparison level is `all other comparisons` then comparison is  52.27 times less likely to be a match\", \"probability_two_random_records_match\": 0.006617568629943289, \"comparison_sort_order\": 3, \"iteration\": 4}, {\"comparison_name\": \"year_of_birth\", \"sql_condition\": \"`year_of_birth_l` = `year_of_birth_r`\", \"label_for_charts\": \"Exact match\", \"m_probability\": 0.9683841999301742, \"u_probability\": 0.011194856230046568, \"m_probability_description\": \"Amongst matching record comparisons, 96.84% of records are in the exact match comparison level\", \"u_probability_description\": \"Amongst non-matching record comparisons, 1.12% of records are in the exact match comparison level\", \"has_tf_adjustments\": false, \"tf_adjustment_column\": null, \"tf_adjustment_weight\": 1.0, \"is_null_level\": false, \"bayes_factor\": 86.50260262664811, \"log2_bayes_factor\": 6.434671635036403, \"comparison_vector_value\": 2, \"max_comparison_vector_value\": 2, \"bayes_factor_description\": \"If comparison level is `exact match` then comparison is 86.50 times more likely to be a match\", \"probability_two_random_records_match\": 0.006617568629943289, \"comparison_sort_order\": 4, \"iteration\": 4}, {\"comparison_name\": \"year_of_birth\", \"sql_condition\": \"abs(year_of_birth_l - year_of_birth_r) <= 5\", \"label_for_charts\": \"Inexact match\", \"m_probability\": 0.01039074220367758, \"u_probability\": 0.11039918989695713, \"m_probability_description\": \"Amongst matching record comparisons, 1.04% of records are in the inexact match comparison level\", \"u_probability_description\": \"Amongst non-matching record comparisons, 11.04% of records are in the inexact match comparison level\", \"has_tf_adjustments\": false, \"tf_adjustment_column\": null, \"tf_adjustment_weight\": 1.0, \"is_null_level\": false, \"bayes_factor\": 0.09411973234020962, \"log2_bayes_factor\": -3.409358971974959, \"comparison_vector_value\": 1, \"max_comparison_vector_value\": 2, \"bayes_factor_description\": \"If comparison level is `inexact match` then comparison is  10.62 times less likely to be a match\", \"probability_two_random_records_match\": 0.006617568629943289, \"comparison_sort_order\": 4, \"iteration\": 4}, {\"comparison_name\": \"year_of_birth\", \"sql_condition\": \"ELSE\", \"label_for_charts\": \"All other comparisons\", \"m_probability\": 0.021225057866148214, \"u_probability\": 0.8784059538729964, \"m_probability_description\": \"Amongst matching record comparisons, 2.12% of records are in the all other comparisons comparison level\", \"u_probability_description\": \"Amongst non-matching record comparisons, 87.84% of records are in the all other comparisons comparison level\", \"has_tf_adjustments\": false, \"tf_adjustment_column\": null, \"tf_adjustment_weight\": 1.0, \"is_null_level\": false, \"bayes_factor\": 0.024163153462888554, \"log2_bayes_factor\": -5.371047440890376, \"comparison_vector_value\": 0, \"max_comparison_vector_value\": 2, \"bayes_factor_description\": \"If comparison level is `all other comparisons` then comparison is  41.39 times less likely to be a match\", \"probability_two_random_records_match\": 0.006617568629943289, \"comparison_sort_order\": 4, \"iteration\": 4}, {\"comparison_name\": \"geokey\", \"sql_condition\": \"`geokey_l` = `geokey_r`\", \"label_for_charts\": \"Exact match\", \"m_probability\": 0.44772239498893, \"u_probability\": 0.0023439137899664837, \"m_probability_description\": \"Amongst matching record comparisons, 44.77% of records are in the exact match comparison level\", \"u_probability_description\": \"Amongst non-matching record comparisons, 0.23% of records are in the exact match comparison level\", \"has_tf_adjustments\": false, \"tf_adjustment_column\": null, \"tf_adjustment_weight\": 1.0, \"is_null_level\": false, \"bayes_factor\": 191.01487303222535, \"log2_bayes_factor\": 7.577541165284165, \"comparison_vector_value\": 2, \"max_comparison_vector_value\": 2, \"bayes_factor_description\": \"If comparison level is `exact match` then comparison is 191.01 times more likely to be a match\", \"probability_two_random_records_match\": 0.006617568629943289, \"comparison_sort_order\": 5, \"iteration\": 4}, {\"comparison_name\": \"geokey\", \"sql_condition\": \"jaro_winkler(`geokey_l`, `geokey_r`) >= 0.7222222222222222\", \"label_for_charts\": \"Jaro_winkler >= 0.7222222222222222\", \"m_probability\": 0.44235039415664495, \"u_probability\": 0.35828043566803447, \"m_probability_description\": \"Amongst matching record comparisons, 44.24% of records are in the jaro_winkler >= 0.7222222222222222 comparison level\", \"u_probability_description\": \"Amongst non-matching record comparisons, 35.83% of records are in the jaro_winkler >= 0.7222222222222222 comparison level\", \"has_tf_adjustments\": false, \"tf_adjustment_column\": null, \"tf_adjustment_weight\": 1.0, \"is_null_level\": false, \"bayes_factor\": 1.2346484767772965, \"log2_bayes_factor\": 0.3041003430256156, \"comparison_vector_value\": 1, \"max_comparison_vector_value\": 2, \"bayes_factor_description\": \"If comparison level is `jaro_winkler >= 0.7222222222222222` then comparison is 1.23 times more likely to be a match\", \"probability_two_random_records_match\": 0.006617568629943289, \"comparison_sort_order\": 5, \"iteration\": 4}, {\"comparison_name\": \"geokey\", \"sql_condition\": \"ELSE\", \"label_for_charts\": \"All other comparisons\", \"m_probability\": 0.10992721085442507, \"u_probability\": 0.6393756505419991, \"m_probability_description\": \"Amongst matching record comparisons, 10.99% of records are in the all other comparisons comparison level\", \"u_probability_description\": \"Amongst non-matching record comparisons, 63.94% of records are in the all other comparisons comparison level\", \"has_tf_adjustments\": false, \"tf_adjustment_column\": null, \"tf_adjustment_weight\": 1.0, \"is_null_level\": false, \"bayes_factor\": 0.17192899160491915, \"log2_bayes_factor\": -2.5401152544461523, \"comparison_vector_value\": 0, \"max_comparison_vector_value\": 2, \"bayes_factor_description\": \"If comparison level is `all other comparisons` then comparison is  5.82 times less likely to be a match\", \"probability_two_random_records_match\": 0.006617568629943289, \"comparison_sort_order\": 5, \"iteration\": 4}, {\"comparison_name\": \"last_name_12\", \"sql_condition\": \"`last_name_12_l` = `last_name_12_r`\", \"label_for_charts\": \"Exact match\", \"m_probability\": 0.8807909842676699, \"u_probability\": 0.000677983558493214, \"m_probability_description\": \"Amongst matching record comparisons, 88.08% of records are in the exact match comparison level\", \"u_probability_description\": \"Amongst non-matching record comparisons, 0.07% of records are in the exact match comparison level\", \"has_tf_adjustments\": false, \"tf_adjustment_column\": null, \"tf_adjustment_weight\": 1.0, \"is_null_level\": false, \"bayes_factor\": 1299.13325070181, \"log2_bayes_factor\": 10.343333698717649, \"comparison_vector_value\": 2, \"max_comparison_vector_value\": 2, \"bayes_factor_description\": \"If comparison level is `exact match` then comparison is 1,299.13 times more likely to be a match\", \"probability_two_random_records_match\": 0.006617568629943289, \"comparison_sort_order\": 0, \"iteration\": 5}, {\"comparison_name\": \"last_name_12\", \"sql_condition\": \"jaro_winkler(`last_name_12_l`, `last_name_12_r`) >= 0.8333333333333334\", \"label_for_charts\": \"Jaro_winkler >= 0.8333333333333334\", \"m_probability\": 0.09049331572999735, \"u_probability\": 0.001280545501029647, \"m_probability_description\": \"Amongst matching record comparisons, 9.05% of records are in the jaro_winkler >= 0.8333333333333334 comparison level\", \"u_probability_description\": \"Amongst non-matching record comparisons, 0.13% of records are in the jaro_winkler >= 0.8333333333333334 comparison level\", \"has_tf_adjustments\": false, \"tf_adjustment_column\": null, \"tf_adjustment_weight\": 1.0, \"is_null_level\": false, \"bayes_factor\": 70.66778623425289, \"log2_bayes_factor\": 6.142980810188411, \"comparison_vector_value\": 1, \"max_comparison_vector_value\": 2, \"bayes_factor_description\": \"If comparison level is `jaro_winkler >= 0.8333333333333334` then comparison is 70.67 times more likely to be a match\", \"probability_two_random_records_match\": 0.006617568629943289, \"comparison_sort_order\": 0, \"iteration\": 5}, {\"comparison_name\": \"last_name_12\", \"sql_condition\": \"ELSE\", \"label_for_charts\": \"All other comparisons\", \"m_probability\": 0.028715700002332797, \"u_probability\": 0.9980414709404771, \"m_probability_description\": \"Amongst matching record comparisons, 2.87% of records are in the all other comparisons comparison level\", \"u_probability_description\": \"Amongst non-matching record comparisons, 99.80% of records are in the all other comparisons comparison level\", \"has_tf_adjustments\": false, \"tf_adjustment_column\": null, \"tf_adjustment_weight\": 1.0, \"is_null_level\": false, \"bayes_factor\": 0.028772050900122758, \"log2_bayes_factor\": -5.119188128308925, \"comparison_vector_value\": 0, \"max_comparison_vector_value\": 2, \"bayes_factor_description\": \"If comparison level is `all other comparisons` then comparison is  34.76 times less likely to be a match\", \"probability_two_random_records_match\": 0.006617568629943289, \"comparison_sort_order\": 0, \"iteration\": 5}, {\"comparison_name\": \"middle_initial\", \"sql_condition\": \"`middle_initial_l` = `middle_initial_r`\", \"label_for_charts\": \"Exact match\", \"m_probability\": 0.9418359171906943, \"u_probability\": 0.0738281151949889, \"m_probability_description\": \"Amongst matching record comparisons, 94.18% of records are in the exact match comparison level\", \"u_probability_description\": \"Amongst non-matching record comparisons, 7.38% of records are in the exact match comparison level\", \"has_tf_adjustments\": false, \"tf_adjustment_column\": null, \"tf_adjustment_weight\": 1.0, \"is_null_level\": false, \"bayes_factor\": 12.757144276312523, \"log2_bayes_factor\": 3.6732335086690053, \"comparison_vector_value\": 1, \"max_comparison_vector_value\": 1, \"bayes_factor_description\": \"If comparison level is `exact match` then comparison is 12.76 times more likely to be a match\", \"probability_two_random_records_match\": 0.006617568629943289, \"comparison_sort_order\": 1, \"iteration\": 5}, {\"comparison_name\": \"middle_initial\", \"sql_condition\": \"ELSE\", \"label_for_charts\": \"All other comparisons\", \"m_probability\": 0.058164082809305705, \"u_probability\": 0.9261718848050111, \"m_probability_description\": \"Amongst matching record comparisons, 5.82% of records are in the all other comparisons comparison level\", \"u_probability_description\": \"Amongst non-matching record comparisons, 92.62% of records are in the all other comparisons comparison level\", \"has_tf_adjustments\": false, \"tf_adjustment_column\": null, \"tf_adjustment_weight\": 1.0, \"is_null_level\": false, \"bayes_factor\": 0.06280052737894447, \"log2_bayes_factor\": -3.9930795153107974, \"comparison_vector_value\": 0, \"max_comparison_vector_value\": 1, \"bayes_factor_description\": \"If comparison level is `all other comparisons` then comparison is  15.92 times less likely to be a match\", \"probability_two_random_records_match\": 0.006617568629943289, \"comparison_sort_order\": 1, \"iteration\": 5}, {\"comparison_name\": \"day_of_birth\", \"sql_condition\": \"`day_of_birth_l` = `day_of_birth_r`\", \"label_for_charts\": \"Exact match\", \"m_probability\": 0.972749886073781, \"u_probability\": 0.032431119048632266, \"m_probability_description\": \"Amongst matching record comparisons, 97.27% of records are in the exact match comparison level\", \"u_probability_description\": \"Amongst non-matching record comparisons, 3.24% of records are in the exact match comparison level\", \"has_tf_adjustments\": false, \"tf_adjustment_column\": null, \"tf_adjustment_weight\": 1.0, \"is_null_level\": false, \"bayes_factor\": 29.994336137926307, \"log2_bayes_factor\": 4.906618195702918, \"comparison_vector_value\": 2, \"max_comparison_vector_value\": 2, \"bayes_factor_description\": \"If comparison level is `exact match` then comparison is 29.99 times more likely to be a match\", \"probability_two_random_records_match\": 0.006617568629943289, \"comparison_sort_order\": 2, \"iteration\": 5}, {\"comparison_name\": \"day_of_birth\", \"sql_condition\": \"abs(day_of_birth_l - day_of_birth_r) <= 5\", \"label_for_charts\": \"Inexact match\", \"m_probability\": 0.016793513960025486, \"u_probability\": 0.29408973456130016, \"m_probability_description\": \"Amongst matching record comparisons, 1.68% of records are in the inexact match comparison level\", \"u_probability_description\": \"Amongst non-matching record comparisons, 29.41% of records are in the inexact match comparison level\", \"has_tf_adjustments\": false, \"tf_adjustment_column\": null, \"tf_adjustment_weight\": 1.0, \"is_null_level\": false, \"bayes_factor\": 0.057103366715865564, \"log2_bayes_factor\": -4.1302803828714385, \"comparison_vector_value\": 1, \"max_comparison_vector_value\": 2, \"bayes_factor_description\": \"If comparison level is `inexact match` then comparison is  17.51 times less likely to be a match\", \"probability_two_random_records_match\": 0.006617568629943289, \"comparison_sort_order\": 2, \"iteration\": 5}, {\"comparison_name\": \"day_of_birth\", \"sql_condition\": \"ELSE\", \"label_for_charts\": \"All other comparisons\", \"m_probability\": 0.010456599966193535, \"u_probability\": 0.6734791463900676, \"m_probability_description\": \"Amongst matching record comparisons, 1.05% of records are in the all other comparisons comparison level\", \"u_probability_description\": \"Amongst non-matching record comparisons, 67.35% of records are in the all other comparisons comparison level\", \"has_tf_adjustments\": false, \"tf_adjustment_column\": null, \"tf_adjustment_weight\": 1.0, \"is_null_level\": false, \"bayes_factor\": 0.01552624163976304, \"log2_bayes_factor\": -6.0091475438152155, \"comparison_vector_value\": 0, \"max_comparison_vector_value\": 2, \"bayes_factor_description\": \"If comparison level is `all other comparisons` then comparison is  64.41 times less likely to be a match\", \"probability_two_random_records_match\": 0.006617568629943289, \"comparison_sort_order\": 2, \"iteration\": 5}, {\"comparison_name\": \"month_of_birth\", \"sql_condition\": \"`month_of_birth_l` = `month_of_birth_r`\", \"label_for_charts\": \"Exact match\", \"m_probability\": 0.9806097197761042, \"u_probability\": 0.08338892953741671, \"m_probability_description\": \"Amongst matching record comparisons, 98.06% of records are in the exact match comparison level\", \"u_probability_description\": \"Amongst non-matching record comparisons, 8.34% of records are in the exact match comparison level\", \"has_tf_adjustments\": false, \"tf_adjustment_column\": null, \"tf_adjustment_weight\": 1.0, \"is_null_level\": false, \"bayes_factor\": 11.75947125374842, \"log2_bayes_factor\": 3.555751287991548, \"comparison_vector_value\": 2, \"max_comparison_vector_value\": 2, \"bayes_factor_description\": \"If comparison level is `exact match` then comparison is 11.76 times more likely to be a match\", \"probability_two_random_records_match\": 0.006617568629943289, \"comparison_sort_order\": 3, \"iteration\": 5}, {\"comparison_name\": \"month_of_birth\", \"sql_condition\": \"abs(month_of_birth_l - month_of_birth_r) <= 3\", \"label_for_charts\": \"Inexact match\", \"m_probability\": 0.00978373531114558, \"u_probability\": 0.4136651580190546, \"m_probability_description\": \"Amongst matching record comparisons, 0.98% of records are in the inexact match comparison level\", \"u_probability_description\": \"Amongst non-matching record comparisons, 41.37% of records are in the inexact match comparison level\", \"has_tf_adjustments\": false, \"tf_adjustment_column\": null, \"tf_adjustment_weight\": 1.0, \"is_null_level\": false, \"bayes_factor\": 0.02365134003066053, \"log2_bayes_factor\": -5.401934264103473, \"comparison_vector_value\": 1, \"max_comparison_vector_value\": 2, \"bayes_factor_description\": \"If comparison level is `inexact match` then comparison is  42.28 times less likely to be a match\", \"probability_two_random_records_match\": 0.006617568629943289, \"comparison_sort_order\": 3, \"iteration\": 5}, {\"comparison_name\": \"month_of_birth\", \"sql_condition\": \"ELSE\", \"label_for_charts\": \"All other comparisons\", \"m_probability\": 0.009606544912750172, \"u_probability\": 0.5029459124435287, \"m_probability_description\": \"Amongst matching record comparisons, 0.96% of records are in the all other comparisons comparison level\", \"u_probability_description\": \"Amongst non-matching record comparisons, 50.29% of records are in the all other comparisons comparison level\", \"has_tf_adjustments\": false, \"tf_adjustment_column\": null, \"tf_adjustment_weight\": 1.0, \"is_null_level\": false, \"bayes_factor\": 0.019100552713665418, \"log2_bayes_factor\": -5.710241803569886, \"comparison_vector_value\": 0, \"max_comparison_vector_value\": 2, \"bayes_factor_description\": \"If comparison level is `all other comparisons` then comparison is  52.35 times less likely to be a match\", \"probability_two_random_records_match\": 0.006617568629943289, \"comparison_sort_order\": 3, \"iteration\": 5}, {\"comparison_name\": \"year_of_birth\", \"sql_condition\": \"`year_of_birth_l` = `year_of_birth_r`\", \"label_for_charts\": \"Exact match\", \"m_probability\": 0.9684224571557469, \"u_probability\": 0.011194856230046568, \"m_probability_description\": \"Amongst matching record comparisons, 96.84% of records are in the exact match comparison level\", \"u_probability_description\": \"Amongst non-matching record comparisons, 1.12% of records are in the exact match comparison level\", \"has_tf_adjustments\": false, \"tf_adjustment_column\": null, \"tf_adjustment_weight\": 1.0, \"is_null_level\": false, \"bayes_factor\": 86.50602001984964, \"log2_bayes_factor\": 6.434728629377492, \"comparison_vector_value\": 2, \"max_comparison_vector_value\": 2, \"bayes_factor_description\": \"If comparison level is `exact match` then comparison is 86.51 times more likely to be a match\", \"probability_two_random_records_match\": 0.006617568629943289, \"comparison_sort_order\": 4, \"iteration\": 5}, {\"comparison_name\": \"year_of_birth\", \"sql_condition\": \"abs(year_of_birth_l - year_of_birth_r) <= 5\", \"label_for_charts\": \"Inexact match\", \"m_probability\": 0.010380470108146697, \"u_probability\": 0.11039918989695713, \"m_probability_description\": \"Amongst matching record comparisons, 1.04% of records are in the inexact match comparison level\", \"u_probability_description\": \"Amongst non-matching record comparisons, 11.04% of records are in the inexact match comparison level\", \"has_tf_adjustments\": false, \"tf_adjustment_column\": null, \"tf_adjustment_weight\": 1.0, \"is_null_level\": false, \"bayes_factor\": 0.09402668731387864, \"log2_bayes_factor\": -3.410785899038009, \"comparison_vector_value\": 1, \"max_comparison_vector_value\": 2, \"bayes_factor_description\": \"If comparison level is `inexact match` then comparison is  10.64 times less likely to be a match\", \"probability_two_random_records_match\": 0.006617568629943289, \"comparison_sort_order\": 4, \"iteration\": 5}, {\"comparison_name\": \"year_of_birth\", \"sql_condition\": \"ELSE\", \"label_for_charts\": \"All other comparisons\", \"m_probability\": 0.02119707273610636, \"u_probability\": 0.8784059538729964, \"m_probability_description\": \"Amongst matching record comparisons, 2.12% of records are in the all other comparisons comparison level\", \"u_probability_description\": \"Amongst non-matching record comparisons, 87.84% of records are in the all other comparisons comparison level\", \"has_tf_adjustments\": false, \"tf_adjustment_column\": null, \"tf_adjustment_weight\": 1.0, \"is_null_level\": false, \"bayes_factor\": 0.024131294468856847, \"log2_bayes_factor\": -5.372950882024214, \"comparison_vector_value\": 0, \"max_comparison_vector_value\": 2, \"bayes_factor_description\": \"If comparison level is `all other comparisons` then comparison is  41.44 times less likely to be a match\", \"probability_two_random_records_match\": 0.006617568629943289, \"comparison_sort_order\": 4, \"iteration\": 5}, {\"comparison_name\": \"geokey\", \"sql_condition\": \"`geokey_l` = `geokey_r`\", \"label_for_charts\": \"Exact match\", \"m_probability\": 0.4477188049686641, \"u_probability\": 0.0023439137899664837, \"m_probability_description\": \"Amongst matching record comparisons, 44.77% of records are in the exact match comparison level\", \"u_probability_description\": \"Amongst non-matching record comparisons, 0.23% of records are in the exact match comparison level\", \"has_tf_adjustments\": false, \"tf_adjustment_column\": null, \"tf_adjustment_weight\": 1.0, \"is_null_level\": false, \"bayes_factor\": 191.01334139728158, \"log2_bayes_factor\": 7.577529597122158, \"comparison_vector_value\": 2, \"max_comparison_vector_value\": 2, \"bayes_factor_description\": \"If comparison level is `exact match` then comparison is 191.01 times more likely to be a match\", \"probability_two_random_records_match\": 0.006617568629943289, \"comparison_sort_order\": 5, \"iteration\": 5}, {\"comparison_name\": \"geokey\", \"sql_condition\": \"jaro_winkler(`geokey_l`, `geokey_r`) >= 0.7222222222222222\", \"label_for_charts\": \"Jaro_winkler >= 0.7222222222222222\", \"m_probability\": 0.4423537062458611, \"u_probability\": 0.35828043566803447, \"m_probability_description\": \"Amongst matching record comparisons, 44.24% of records are in the jaro_winkler >= 0.7222222222222222 comparison level\", \"u_probability_description\": \"Amongst non-matching record comparisons, 35.83% of records are in the jaro_winkler >= 0.7222222222222222 comparison level\", \"has_tf_adjustments\": false, \"tf_adjustment_column\": null, \"tf_adjustment_weight\": 1.0, \"is_null_level\": false, \"bayes_factor\": 1.2346577211816414, \"log2_bayes_factor\": 0.30411114513376686, \"comparison_vector_value\": 1, \"max_comparison_vector_value\": 2, \"bayes_factor_description\": \"If comparison level is `jaro_winkler >= 0.7222222222222222` then comparison is 1.23 times more likely to be a match\", \"probability_two_random_records_match\": 0.006617568629943289, \"comparison_sort_order\": 5, \"iteration\": 5}, {\"comparison_name\": \"geokey\", \"sql_condition\": \"ELSE\", \"label_for_charts\": \"All other comparisons\", \"m_probability\": 0.10992748878547479, \"u_probability\": 0.6393756505419991, \"m_probability_description\": \"Amongst matching record comparisons, 10.99% of records are in the all other comparisons comparison level\", \"u_probability_description\": \"Amongst non-matching record comparisons, 63.94% of records are in the all other comparisons comparison level\", \"has_tf_adjustments\": false, \"tf_adjustment_column\": null, \"tf_adjustment_weight\": 1.0, \"is_null_level\": false, \"bayes_factor\": 0.17192942629624572, \"log2_bayes_factor\": -2.5401116068575607, \"comparison_vector_value\": 0, \"max_comparison_vector_value\": 2, \"bayes_factor_description\": \"If comparison level is `all other comparisons` then comparison is  5.82 times less likely to be a match\", \"probability_two_random_records_match\": 0.006617568629943289, \"comparison_sort_order\": 5, \"iteration\": 5}]}}, {\"mode\": \"vega-lite\"});\n",
       "</script>"
      ],
      "text/plain": [
       "alt.HConcatChart(...)"
      ]
     },
     "execution_count": 57,
     "metadata": {},
     "output_type": "execute_result"
    }
   ],
   "source": [
    "em_session_1.m_u_values_interactive_history_chart()"
   ]
  },
  {
   "cell_type": "code",
   "execution_count": 58,
   "id": "13eae59d-f450-46df-99b6-79b2a8dfae6f",
   "metadata": {
    "execution": {
     "iopub.execute_input": "2024-02-12T19:32:59.833047Z",
     "iopub.status.busy": "2024-02-12T19:32:59.832827Z",
     "iopub.status.idle": "2024-02-12T19:33:02.628768Z",
     "shell.execute_reply": "2024-02-12T19:33:02.627867Z"
    },
    "papermill": {
     "duration": 2.823952,
     "end_time": "2024-02-12T19:33:02.629909",
     "exception": false,
     "start_time": "2024-02-12T19:32:59.805957",
     "status": "completed"
    },
    "tags": []
   },
   "outputs": [
    {
     "data": {
      "text/html": [
       "\n",
       "<style>\n",
       "  #altair-viz-74a22d521b72416e87da7b5a2881aab6.vega-embed {\n",
       "    width: 100%;\n",
       "    display: flex;\n",
       "  }\n",
       "\n",
       "  #altair-viz-74a22d521b72416e87da7b5a2881aab6.vega-embed details,\n",
       "  #altair-viz-74a22d521b72416e87da7b5a2881aab6.vega-embed details summary {\n",
       "    position: relative;\n",
       "  }\n",
       "</style>\n",
       "<div id=\"altair-viz-74a22d521b72416e87da7b5a2881aab6\"></div>\n",
       "<script type=\"text/javascript\">\n",
       "  var VEGA_DEBUG = (typeof VEGA_DEBUG == \"undefined\") ? {} : VEGA_DEBUG;\n",
       "  (function(spec, embedOpt){\n",
       "    let outputDiv = document.currentScript.previousElementSibling;\n",
       "    if (outputDiv.id !== \"altair-viz-74a22d521b72416e87da7b5a2881aab6\") {\n",
       "      outputDiv = document.getElementById(\"altair-viz-74a22d521b72416e87da7b5a2881aab6\");\n",
       "    }\n",
       "    const paths = {\n",
       "      \"vega\": \"https://cdn.jsdelivr.net/npm/vega@5?noext\",\n",
       "      \"vega-lib\": \"https://cdn.jsdelivr.net/npm/vega-lib?noext\",\n",
       "      \"vega-lite\": \"https://cdn.jsdelivr.net/npm/vega-lite@5.15.1?noext\",\n",
       "      \"vega-embed\": \"https://cdn.jsdelivr.net/npm/vega-embed@6?noext\",\n",
       "    };\n",
       "\n",
       "    function maybeLoadScript(lib, version) {\n",
       "      var key = `${lib.replace(\"-\", \"\")}_version`;\n",
       "      return (VEGA_DEBUG[key] == version) ?\n",
       "        Promise.resolve(paths[lib]) :\n",
       "        new Promise(function(resolve, reject) {\n",
       "          var s = document.createElement('script');\n",
       "          document.getElementsByTagName(\"head\")[0].appendChild(s);\n",
       "          s.async = true;\n",
       "          s.onload = () => {\n",
       "            VEGA_DEBUG[key] = version;\n",
       "            return resolve(paths[lib]);\n",
       "          };\n",
       "          s.onerror = () => reject(`Error loading script: ${paths[lib]}`);\n",
       "          s.src = paths[lib];\n",
       "        });\n",
       "    }\n",
       "\n",
       "    function showError(err) {\n",
       "      outputDiv.innerHTML = `<div class=\"error\" style=\"color:red;\">${err}</div>`;\n",
       "      throw err;\n",
       "    }\n",
       "\n",
       "    function displayChart(vegaEmbed) {\n",
       "      vegaEmbed(outputDiv, spec, embedOpt)\n",
       "        .catch(err => showError(`Javascript Error: ${err.message}<br>This usually means there's a typo in your chart specification. See the javascript console for the full traceback.`));\n",
       "    }\n",
       "\n",
       "    if(typeof define === \"function\" && define.amd) {\n",
       "      requirejs.config({paths});\n",
       "      require([\"vega-embed\"], displayChart, err => showError(`Error loading script: ${err.message}`));\n",
       "    } else {\n",
       "      maybeLoadScript(\"vega\", \"5\")\n",
       "        .then(() => maybeLoadScript(\"vega-lite\", \"5.15.1\"))\n",
       "        .then(() => maybeLoadScript(\"vega-embed\", \"6\"))\n",
       "        .catch(showError)\n",
       "        .then(() => displayChart(vegaEmbed));\n",
       "    }\n",
       "  })({\"config\": {\"view\": {\"continuousWidth\": 300, \"continuousHeight\": 300, \"discreteHeight\": 60, \"discreteWidth\": 400}, \"header\": {\"title\": null}, \"mark\": {\"tooltip\": null}, \"title\": {\"anchor\": \"middle\"}}, \"vconcat\": [{\"mark\": {\"type\": \"bar\", \"clip\": true, \"height\": 15}, \"encoding\": {\"color\": {\"field\": \"log2_bayes_factor\", \"scale\": {\"domain\": [-10, 0, 10], \"interpolate\": \"lab\", \"range\": [\"red\", \"#bbbbbb\", \"green\"]}, \"title\": \"Match weight\", \"type\": \"quantitative\"}, \"tooltip\": [{\"field\": \"comparison_name\", \"title\": \"Comparison name\", \"type\": \"nominal\"}, {\"field\": \"probability_two_random_records_match\", \"format\": \".4f\", \"title\": \"Probability two random records match\", \"type\": \"nominal\"}, {\"field\": \"log2_bayes_factor\", \"format\": \",.4f\", \"title\": \"Equivalent match weight\", \"type\": \"quantitative\"}, {\"field\": \"bayes_factor_description\", \"title\": \"Match weight description\", \"type\": \"nominal\"}], \"x\": {\"axis\": {\"domain\": false, \"gridColor\": {\"condition\": {\"test\": \"abs(datum.value / 10)  <= 1 & datum.value % 10 === 0\", \"value\": \"#aaa\"}, \"value\": \"#ddd\"}, \"gridDash\": {\"condition\": {\"test\": \"abs(datum.value / 10) == 1\", \"value\": [3]}, \"value\": null}, \"gridWidth\": {\"condition\": {\"test\": \"abs(datum.value / 10)  <= 1 & datum.value % 10 === 0\", \"value\": 2}, \"value\": 1}, \"labels\": false, \"ticks\": false, \"title\": \"\"}, \"field\": \"log2_bayes_factor\", \"scale\": {\"domain\": [-10, 10]}, \"type\": \"quantitative\"}, \"y\": {\"axis\": {\"title\": \"Prior (starting) match weight\", \"titleAlign\": \"right\", \"titleAngle\": 0, \"titleFontWeight\": \"normal\"}, \"field\": \"label_for_charts\", \"sort\": {\"field\": \"comparison_vector_value\", \"order\": \"descending\"}, \"type\": \"nominal\"}}, \"height\": 20, \"transform\": [{\"filter\": \"(datum.comparison_name == 'probability_two_random_records_match')\"}]}, {\"mark\": {\"type\": \"bar\", \"clip\": true}, \"encoding\": {\"color\": {\"field\": \"log2_bayes_factor\", \"scale\": {\"domain\": [-10, 0, 10], \"interpolate\": \"lab\", \"range\": [\"red\", \"#bbbbbb\", \"green\"]}, \"title\": \"Match weight\", \"type\": \"quantitative\"}, \"row\": {\"field\": \"comparison_name\", \"header\": {\"labelAlign\": \"left\", \"labelAnchor\": \"middle\", \"labelAngle\": 0}, \"sort\": {\"field\": \"comparison_sort_order\"}, \"type\": \"nominal\"}, \"tooltip\": [{\"field\": \"comparison_name\", \"title\": \"Comparison name\", \"type\": \"nominal\"}, {\"field\": \"label_for_charts\", \"title\": \"Label\", \"type\": \"ordinal\"}, {\"field\": \"sql_condition\", \"title\": \"SQL condition\", \"type\": \"nominal\"}, {\"field\": \"m_probability\", \"format\": \".4f\", \"title\": \"M probability\", \"type\": \"quantitative\"}, {\"field\": \"u_probability\", \"format\": \".4f\", \"title\": \"U probability\", \"type\": \"quantitative\"}, {\"field\": \"bayes_factor\", \"format\": \",.4f\", \"title\": \"Bayes factor = m/u\", \"type\": \"quantitative\"}, {\"field\": \"log2_bayes_factor\", \"format\": \",.4f\", \"title\": \"Match weight = log2(m/u)\", \"type\": \"quantitative\"}, {\"field\": \"bayes_factor_description\", \"title\": \"Match weight description\", \"type\": \"nominal\"}], \"x\": {\"axis\": {\"gridColor\": {\"condition\": {\"test\": \"abs(datum.value / 10)  <= 1 & datum.value % 10 === 0\", \"value\": \"#aaa\"}, \"value\": \"#ddd\"}, \"gridDash\": {\"condition\": {\"test\": \"abs(datum.value / 10) == 1\", \"value\": [3]}, \"value\": null}, \"gridWidth\": {\"condition\": {\"test\": \"abs(datum.value / 10)  <= 1 & datum.value % 10 === 0\", \"value\": 2}, \"value\": 1}, \"title\": \"Comparison level match weight = log2(m/u)\"}, \"field\": \"log2_bayes_factor\", \"scale\": {\"domain\": [-10, 10]}, \"type\": \"quantitative\"}, \"y\": {\"axis\": {\"title\": null}, \"field\": \"label_for_charts\", \"sort\": {\"field\": \"comparison_vector_value\", \"order\": \"descending\"}, \"type\": \"nominal\"}}, \"height\": {\"step\": 12}, \"resolve\": {\"axis\": {\"y\": \"independent\"}, \"scale\": {\"y\": \"independent\"}}, \"transform\": [{\"filter\": \"(datum.comparison_name != 'probability_two_random_records_match')\"}]}], \"data\": {\"name\": \"data-974608537919558b97de1d7cc6124011\"}, \"params\": [{\"name\": \"iteration_number\", \"bind\": {\"input\": \"range\", \"max\": 5, \"min\": 0, \"step\": 1}, \"value\": 5}, {\"name\": \"mouse_zoom\", \"select\": {\"type\": \"interval\", \"encodings\": [\"x\"]}, \"bind\": \"scales\", \"views\": []}], \"resolve\": {\"axis\": {\"y\": \"independent\"}, \"scale\": {\"y\": \"independent\"}}, \"title\": {\"text\": \"Model parameters (components of final match weight)\", \"subtitle\": \"Training session blocked on <Custom blocking rule using SQL: l.first_name_15 = r.first_name_15 and l.zipcode = r.zipcode>\"}, \"transform\": [{\"filter\": \"(datum.iteration == iteration_number)\"}], \"$schema\": \"https://vega.github.io/schema/vega-lite/v5.9.3.json\", \"datasets\": {\"data-974608537919558b97de1d7cc6124011\": [{\"comparison_name\": \"probability_two_random_records_match\", \"sql_condition\": null, \"label_for_charts\": \"\", \"m_probability\": null, \"u_probability\": null, \"m_probability_description\": null, \"u_probability_description\": null, \"has_tf_adjustments\": false, \"tf_adjustment_column\": null, \"tf_adjustment_weight\": null, \"is_null_level\": false, \"bayes_factor\": 0.006661652573034181, \"log2_bayes_factor\": -7.229904169951962, \"comparison_vector_value\": 0, \"max_comparison_vector_value\": 0, \"bayes_factor_description\": \"The probability that two random records drawn at random match is 0.007 or one in  151.1 records.This is equivalent to a starting match weight of -7.230.\", \"probability_two_random_records_match\": 0.006617568629943289, \"comparison_sort_order\": -1, \"iteration\": 0}, {\"comparison_name\": \"last_name_12\", \"sql_condition\": \"`last_name_12_l` = `last_name_12_r`\", \"label_for_charts\": \"Exact match\", \"m_probability\": 0.95, \"u_probability\": 0.000677983558493214, \"m_probability_description\": \"Amongst matching record comparisons, 95.00% of records are in the exact match comparison level\", \"u_probability_description\": \"Amongst non-matching record comparisons, 0.07% of records are in the exact match comparison level\", \"has_tf_adjustments\": false, \"tf_adjustment_column\": null, \"tf_adjustment_weight\": 1.0, \"is_null_level\": false, \"bayes_factor\": 1401.2139204545454, \"log2_bayes_factor\": 10.45246151053744, \"comparison_vector_value\": 2, \"max_comparison_vector_value\": 2, \"bayes_factor_description\": \"If comparison level is `exact match` then comparison is 1,401.21 times more likely to be a match\", \"probability_two_random_records_match\": 0.006617568629943289, \"comparison_sort_order\": 0, \"iteration\": 0}, {\"comparison_name\": \"last_name_12\", \"sql_condition\": \"jaro_winkler(`last_name_12_l`, `last_name_12_r`) >= 0.8333333333333334\", \"label_for_charts\": \"Jaro_winkler >= 0.8333333333333334\", \"m_probability\": 0.025000000000000022, \"u_probability\": 0.001280545501029647, \"m_probability_description\": \"Amongst matching record comparisons, 2.50% of records are in the jaro_winkler >= 0.8333333333333334 comparison level\", \"u_probability_description\": \"Amongst non-matching record comparisons, 0.13% of records are in the jaro_winkler >= 0.8333333333333334 comparison level\", \"has_tf_adjustments\": false, \"tf_adjustment_column\": null, \"tf_adjustment_weight\": 1.0, \"is_null_level\": false, \"bayes_factor\": 19.52292986067133, \"log2_bayes_factor\": 4.287097673314501, \"comparison_vector_value\": 1, \"max_comparison_vector_value\": 2, \"bayes_factor_description\": \"If comparison level is `jaro_winkler >= 0.8333333333333334` then comparison is 19.52 times more likely to be a match\", \"probability_two_random_records_match\": 0.006617568629943289, \"comparison_sort_order\": 0, \"iteration\": 0}, {\"comparison_name\": \"last_name_12\", \"sql_condition\": \"ELSE\", \"label_for_charts\": \"All other comparisons\", \"m_probability\": 0.025000000000000022, \"u_probability\": 0.9980414709404771, \"m_probability_description\": \"Amongst matching record comparisons, 2.50% of records are in the all other comparisons comparison level\", \"u_probability_description\": \"Amongst non-matching record comparisons, 99.80% of records are in the all other comparisons comparison level\", \"has_tf_adjustments\": false, \"tf_adjustment_column\": null, \"tf_adjustment_weight\": 1.0, \"is_null_level\": false, \"bayes_factor\": 0.025049059310573493, \"log2_bayes_factor\": -5.319099764136797, \"comparison_vector_value\": 0, \"max_comparison_vector_value\": 2, \"bayes_factor_description\": \"If comparison level is `all other comparisons` then comparison is  39.92 times less likely to be a match\", \"probability_two_random_records_match\": 0.006617568629943289, \"comparison_sort_order\": 0, \"iteration\": 0}, {\"comparison_name\": \"middle_initial\", \"sql_condition\": \"`middle_initial_l` = `middle_initial_r`\", \"label_for_charts\": \"Exact match\", \"m_probability\": 0.95, \"u_probability\": 0.0738281151949889, \"m_probability_description\": \"Amongst matching record comparisons, 95.00% of records are in the exact match comparison level\", \"u_probability_description\": \"Amongst non-matching record comparisons, 7.38% of records are in the exact match comparison level\", \"has_tf_adjustments\": false, \"tf_adjustment_column\": null, \"tf_adjustment_weight\": 1.0, \"is_null_level\": false, \"bayes_factor\": 12.867726576669824, \"log2_bayes_factor\": 3.685685280824857, \"comparison_vector_value\": 1, \"max_comparison_vector_value\": 1, \"bayes_factor_description\": \"If comparison level is `exact match` then comparison is 12.87 times more likely to be a match\", \"probability_two_random_records_match\": 0.006617568629943289, \"comparison_sort_order\": 1, \"iteration\": 0}, {\"comparison_name\": \"middle_initial\", \"sql_condition\": \"ELSE\", \"label_for_charts\": \"All other comparisons\", \"m_probability\": 0.050000000000000044, \"u_probability\": 0.9261718848050111, \"m_probability_description\": \"Amongst matching record comparisons, 5.00% of records are in the all other comparisons comparison level\", \"u_probability_description\": \"Amongst non-matching record comparisons, 92.62% of records are in the all other comparisons comparison level\", \"has_tf_adjustments\": false, \"tf_adjustment_column\": null, \"tf_adjustment_weight\": 1.0, \"is_null_level\": false, \"bayes_factor\": 0.053985659487522285, \"log2_bayes_factor\": -4.211279962755242, \"comparison_vector_value\": 0, \"max_comparison_vector_value\": 1, \"bayes_factor_description\": \"If comparison level is `all other comparisons` then comparison is  18.52 times less likely to be a match\", \"probability_two_random_records_match\": 0.006617568629943289, \"comparison_sort_order\": 1, \"iteration\": 0}, {\"comparison_name\": \"day_of_birth\", \"sql_condition\": \"`day_of_birth_l` = `day_of_birth_r`\", \"label_for_charts\": \"Exact match\", \"m_probability\": 0.95, \"u_probability\": 0.032431119048632266, \"m_probability_description\": \"Amongst matching record comparisons, 95.00% of records are in the exact match comparison level\", \"u_probability_description\": \"Amongst non-matching record comparisons, 3.24% of records are in the exact match comparison level\", \"has_tf_adjustments\": false, \"tf_adjustment_column\": null, \"tf_adjustment_weight\": 1.0, \"is_null_level\": false, \"bayes_factor\": 29.292852910052908, \"log2_bayes_factor\": 4.872476802913472, \"comparison_vector_value\": 2, \"max_comparison_vector_value\": 2, \"bayes_factor_description\": \"If comparison level is `exact match` then comparison is 29.29 times more likely to be a match\", \"probability_two_random_records_match\": 0.006617568629943289, \"comparison_sort_order\": 2, \"iteration\": 0}, {\"comparison_name\": \"day_of_birth\", \"sql_condition\": \"abs(day_of_birth_l - day_of_birth_r) <= 5\", \"label_for_charts\": \"Inexact match\", \"m_probability\": 0.025000000000000022, \"u_probability\": 0.29408973456130016, \"m_probability_description\": \"Amongst matching record comparisons, 2.50% of records are in the inexact match comparison level\", \"u_probability_description\": \"Amongst non-matching record comparisons, 29.41% of records are in the inexact match comparison level\", \"has_tf_adjustments\": false, \"tf_adjustment_column\": null, \"tf_adjustment_weight\": 1.0, \"is_null_level\": false, \"bayes_factor\": 0.08500806747740804, \"log2_bayes_factor\": -3.5562564266731993, \"comparison_vector_value\": 1, \"max_comparison_vector_value\": 2, \"bayes_factor_description\": \"If comparison level is `inexact match` then comparison is  11.76 times less likely to be a match\", \"probability_two_random_records_match\": 0.006617568629943289, \"comparison_sort_order\": 2, \"iteration\": 0}, {\"comparison_name\": \"day_of_birth\", \"sql_condition\": \"ELSE\", \"label_for_charts\": \"All other comparisons\", \"m_probability\": 0.025000000000000022, \"u_probability\": 0.6734791463900676, \"m_probability_description\": \"Amongst matching record comparisons, 2.50% of records are in the all other comparisons comparison level\", \"u_probability_description\": \"Amongst non-matching record comparisons, 67.35% of records are in the all other comparisons comparison level\", \"has_tf_adjustments\": false, \"tf_adjustment_column\": null, \"tf_adjustment_weight\": 1.0, \"is_null_level\": false, \"bayes_factor\": 0.03712067423914036, \"log2_bayes_factor\": -4.751633274766402, \"comparison_vector_value\": 0, \"max_comparison_vector_value\": 2, \"bayes_factor_description\": \"If comparison level is `all other comparisons` then comparison is  26.94 times less likely to be a match\", \"probability_two_random_records_match\": 0.006617568629943289, \"comparison_sort_order\": 2, \"iteration\": 0}, {\"comparison_name\": \"month_of_birth\", \"sql_condition\": \"`month_of_birth_l` = `month_of_birth_r`\", \"label_for_charts\": \"Exact match\", \"m_probability\": 0.95, \"u_probability\": 0.08338892953741671, \"m_probability_description\": \"Amongst matching record comparisons, 95.00% of records are in the exact match comparison level\", \"u_probability_description\": \"Amongst non-matching record comparisons, 8.34% of records are in the exact match comparison level\", \"has_tf_adjustments\": false, \"tf_adjustment_column\": null, \"tf_adjustment_weight\": 1.0, \"is_null_level\": false, \"bayes_factor\": 11.392399509982123, \"log2_bayes_factor\": 3.5099997397877862, \"comparison_vector_value\": 2, \"max_comparison_vector_value\": 2, \"bayes_factor_description\": \"If comparison level is `exact match` then comparison is 11.39 times more likely to be a match\", \"probability_two_random_records_match\": 0.006617568629943289, \"comparison_sort_order\": 3, \"iteration\": 0}, {\"comparison_name\": \"month_of_birth\", \"sql_condition\": \"abs(month_of_birth_l - month_of_birth_r) <= 3\", \"label_for_charts\": \"Inexact match\", \"m_probability\": 0.025000000000000022, \"u_probability\": 0.4136651580190546, \"m_probability_description\": \"Amongst matching record comparisons, 2.50% of records are in the inexact match comparison level\", \"u_probability_description\": \"Amongst non-matching record comparisons, 41.37% of records are in the inexact match comparison level\", \"has_tf_adjustments\": false, \"tf_adjustment_column\": null, \"tf_adjustment_weight\": 1.0, \"is_null_level\": false, \"bayes_factor\": 0.06043535336579749, \"log2_bayes_factor\": -4.048463448097656, \"comparison_vector_value\": 1, \"max_comparison_vector_value\": 2, \"bayes_factor_description\": \"If comparison level is `inexact match` then comparison is  16.55 times less likely to be a match\", \"probability_two_random_records_match\": 0.006617568629943289, \"comparison_sort_order\": 3, \"iteration\": 0}, {\"comparison_name\": \"month_of_birth\", \"sql_condition\": \"ELSE\", \"label_for_charts\": \"All other comparisons\", \"m_probability\": 0.025000000000000022, \"u_probability\": 0.5029459124435287, \"m_probability_description\": \"Amongst matching record comparisons, 2.50% of records are in the all other comparisons comparison level\", \"u_probability_description\": \"Amongst non-matching record comparisons, 50.29% of records are in the all other comparisons comparison level\", \"has_tf_adjustments\": false, \"tf_adjustment_column\": null, \"tf_adjustment_weight\": 1.0, \"is_null_level\": false, \"bayes_factor\": 0.049707134269248186, \"log2_bayes_factor\": -4.330403258787907, \"comparison_vector_value\": 0, \"max_comparison_vector_value\": 2, \"bayes_factor_description\": \"If comparison level is `all other comparisons` then comparison is  20.12 times less likely to be a match\", \"probability_two_random_records_match\": 0.006617568629943289, \"comparison_sort_order\": 3, \"iteration\": 0}, {\"comparison_name\": \"year_of_birth\", \"sql_condition\": \"`year_of_birth_l` = `year_of_birth_r`\", \"label_for_charts\": \"Exact match\", \"m_probability\": 0.95, \"u_probability\": 0.011194856230046568, \"m_probability_description\": \"Amongst matching record comparisons, 95.00% of records are in the exact match comparison level\", \"u_probability_description\": \"Amongst non-matching record comparisons, 1.12% of records are in the exact match comparison level\", \"has_tf_adjustments\": false, \"tf_adjustment_column\": null, \"tf_adjustment_weight\": 1.0, \"is_null_level\": false, \"bayes_factor\": 84.86040199875333, \"log2_bayes_factor\": 6.407019607834114, \"comparison_vector_value\": 2, \"max_comparison_vector_value\": 2, \"bayes_factor_description\": \"If comparison level is `exact match` then comparison is 84.86 times more likely to be a match\", \"probability_two_random_records_match\": 0.006617568629943289, \"comparison_sort_order\": 4, \"iteration\": 0}, {\"comparison_name\": \"year_of_birth\", \"sql_condition\": \"abs(year_of_birth_l - year_of_birth_r) <= 5\", \"label_for_charts\": \"Inexact match\", \"m_probability\": 0.025000000000000022, \"u_probability\": 0.11039918989695713, \"m_probability_description\": \"Amongst matching record comparisons, 2.50% of records are in the inexact match comparison level\", \"u_probability_description\": \"Amongst non-matching record comparisons, 11.04% of records are in the inexact match comparison level\", \"has_tf_adjustments\": false, \"tf_adjustment_column\": null, \"tf_adjustment_weight\": 1.0, \"is_null_level\": false, \"bayes_factor\": 0.22645093703435848, \"log2_bayes_factor\": -2.1427295857398976, \"comparison_vector_value\": 1, \"max_comparison_vector_value\": 2, \"bayes_factor_description\": \"If comparison level is `inexact match` then comparison is  4.42 times less likely to be a match\", \"probability_two_random_records_match\": 0.006617568629943289, \"comparison_sort_order\": 4, \"iteration\": 0}, {\"comparison_name\": \"year_of_birth\", \"sql_condition\": \"ELSE\", \"label_for_charts\": \"All other comparisons\", \"m_probability\": 0.025000000000000022, \"u_probability\": 0.8784059538729964, \"m_probability_description\": \"Amongst matching record comparisons, 2.50% of records are in the all other comparisons comparison level\", \"u_probability_description\": \"Amongst non-matching record comparisons, 87.84% of records are in the all other comparisons comparison level\", \"has_tf_adjustments\": false, \"tf_adjustment_column\": null, \"tf_adjustment_weight\": 1.0, \"is_null_level\": false, \"bayes_factor\": 0.028460644978295112, \"log2_bayes_factor\": -5.134887833024731, \"comparison_vector_value\": 0, \"max_comparison_vector_value\": 2, \"bayes_factor_description\": \"If comparison level is `all other comparisons` then comparison is  35.14 times less likely to be a match\", \"probability_two_random_records_match\": 0.006617568629943289, \"comparison_sort_order\": 4, \"iteration\": 0}, {\"comparison_name\": \"geokey\", \"sql_condition\": \"`geokey_l` = `geokey_r`\", \"label_for_charts\": \"Exact match\", \"m_probability\": 0.95, \"u_probability\": 0.0023439137899664837, \"m_probability_description\": \"Amongst matching record comparisons, 95.00% of records are in the exact match comparison level\", \"u_probability_description\": \"Amongst non-matching record comparisons, 0.23% of records are in the exact match comparison level\", \"has_tf_adjustments\": false, \"tf_adjustment_column\": null, \"tf_adjustment_weight\": 1.0, \"is_null_level\": false, \"bayes_factor\": 405.30500911195384, \"log2_bayes_factor\": 8.662864195350247, \"comparison_vector_value\": 2, \"max_comparison_vector_value\": 2, \"bayes_factor_description\": \"If comparison level is `exact match` then comparison is 405.31 times more likely to be a match\", \"probability_two_random_records_match\": 0.006617568629943289, \"comparison_sort_order\": 5, \"iteration\": 0}, {\"comparison_name\": \"geokey\", \"sql_condition\": \"jaro_winkler(`geokey_l`, `geokey_r`) >= 0.7222222222222222\", \"label_for_charts\": \"Jaro_winkler >= 0.7222222222222222\", \"m_probability\": 0.025000000000000022, \"u_probability\": 0.35828043566803447, \"m_probability_description\": \"Amongst matching record comparisons, 2.50% of records are in the jaro_winkler >= 0.7222222222222222 comparison level\", \"u_probability_description\": \"Amongst non-matching record comparisons, 35.83% of records are in the jaro_winkler >= 0.7222222222222222 comparison level\", \"has_tf_adjustments\": false, \"tf_adjustment_column\": null, \"tf_adjustment_weight\": 1.0, \"is_null_level\": false, \"bayes_factor\": 0.06977774254791805, \"log2_bayes_factor\": -3.841089265610242, \"comparison_vector_value\": 1, \"max_comparison_vector_value\": 2, \"bayes_factor_description\": \"If comparison level is `jaro_winkler >= 0.7222222222222222` then comparison is  14.33 times less likely to be a match\", \"probability_two_random_records_match\": 0.006617568629943289, \"comparison_sort_order\": 5, \"iteration\": 0}, {\"comparison_name\": \"geokey\", \"sql_condition\": \"ELSE\", \"label_for_charts\": \"All other comparisons\", \"m_probability\": 0.025000000000000022, \"u_probability\": 0.6393756505419991, \"m_probability_description\": \"Amongst matching record comparisons, 2.50% of records are in the all other comparisons comparison level\", \"u_probability_description\": \"Amongst non-matching record comparisons, 63.94% of records are in the all other comparisons comparison level\", \"has_tf_adjustments\": false, \"tf_adjustment_column\": null, \"tf_adjustment_weight\": 1.0, \"is_null_level\": false, \"bayes_factor\": 0.03910064447841814, \"log2_bayes_factor\": -4.676663802749638, \"comparison_vector_value\": 0, \"max_comparison_vector_value\": 2, \"bayes_factor_description\": \"If comparison level is `all other comparisons` then comparison is  25.58 times less likely to be a match\", \"probability_two_random_records_match\": 0.006617568629943289, \"comparison_sort_order\": 5, \"iteration\": 0}, {\"comparison_name\": \"probability_two_random_records_match\", \"sql_condition\": null, \"label_for_charts\": \"\", \"m_probability\": null, \"u_probability\": null, \"m_probability_description\": null, \"u_probability_description\": null, \"has_tf_adjustments\": false, \"tf_adjustment_column\": null, \"tf_adjustment_weight\": null, \"is_null_level\": false, \"bayes_factor\": 0.006661652573034181, \"log2_bayes_factor\": -7.229904169951962, \"comparison_vector_value\": 0, \"max_comparison_vector_value\": 0, \"bayes_factor_description\": \"The probability that two random records drawn at random match is 0.007 or one in  151.1 records.This is equivalent to a starting match weight of -7.230.\", \"probability_two_random_records_match\": 0.006617568629943289, \"comparison_sort_order\": -1, \"iteration\": 1}, {\"comparison_name\": \"last_name_12\", \"sql_condition\": \"`last_name_12_l` = `last_name_12_r`\", \"label_for_charts\": \"Exact match\", \"m_probability\": 0.8885175967511647, \"u_probability\": 0.000677983558493214, \"m_probability_description\": \"Amongst matching record comparisons, 88.85% of records are in the exact match comparison level\", \"u_probability_description\": \"Amongst non-matching record comparisons, 0.07% of records are in the exact match comparison level\", \"has_tf_adjustments\": false, \"tf_adjustment_column\": null, \"tf_adjustment_weight\": 1.0, \"is_null_level\": false, \"bayes_factor\": 1310.529710670053, \"log2_bayes_factor\": 10.355934345654225, \"comparison_vector_value\": 2, \"max_comparison_vector_value\": 2, \"bayes_factor_description\": \"If comparison level is `exact match` then comparison is 1,310.53 times more likely to be a match\", \"probability_two_random_records_match\": 0.006617568629943289, \"comparison_sort_order\": 0, \"iteration\": 1}, {\"comparison_name\": \"last_name_12\", \"sql_condition\": \"jaro_winkler(`last_name_12_l`, `last_name_12_r`) >= 0.8333333333333334\", \"label_for_charts\": \"Jaro_winkler >= 0.8333333333333334\", \"m_probability\": 0.08604032164709582, \"u_probability\": 0.001280545501029647, \"m_probability_description\": \"Amongst matching record comparisons, 8.60% of records are in the jaro_winkler >= 0.8333333333333334 comparison level\", \"u_probability_description\": \"Amongst non-matching record comparisons, 0.13% of records are in the jaro_winkler >= 0.8333333333333334 comparison level\", \"has_tf_adjustments\": false, \"tf_adjustment_column\": null, \"tf_adjustment_weight\": 1.0, \"is_null_level\": false, \"bayes_factor\": 67.19036658823406, \"log2_bayes_factor\": 6.0701824964680124, \"comparison_vector_value\": 1, \"max_comparison_vector_value\": 2, \"bayes_factor_description\": \"If comparison level is `jaro_winkler >= 0.8333333333333334` then comparison is 67.19 times more likely to be a match\", \"probability_two_random_records_match\": 0.006617568629943289, \"comparison_sort_order\": 0, \"iteration\": 1}, {\"comparison_name\": \"last_name_12\", \"sql_condition\": \"ELSE\", \"label_for_charts\": \"All other comparisons\", \"m_probability\": 0.02544208160173943, \"u_probability\": 0.9980414709404771, \"m_probability_description\": \"Amongst matching record comparisons, 2.54% of records are in the all other comparisons comparison level\", \"u_probability_description\": \"Amongst non-matching record comparisons, 99.80% of records are in the all other comparisons comparison level\", \"has_tf_adjustments\": false, \"tf_adjustment_column\": null, \"tf_adjustment_weight\": 1.0, \"is_null_level\": false, \"bayes_factor\": 0.025492008441056844, \"log2_bayes_factor\": -5.293811146198676, \"comparison_vector_value\": 0, \"max_comparison_vector_value\": 2, \"bayes_factor_description\": \"If comparison level is `all other comparisons` then comparison is  39.23 times less likely to be a match\", \"probability_two_random_records_match\": 0.006617568629943289, \"comparison_sort_order\": 0, \"iteration\": 1}, {\"comparison_name\": \"middle_initial\", \"sql_condition\": \"`middle_initial_l` = `middle_initial_r`\", \"label_for_charts\": \"Exact match\", \"m_probability\": 0.9431230006832279, \"u_probability\": 0.0738281151949889, \"m_probability_description\": \"Amongst matching record comparisons, 94.31% of records are in the exact match comparison level\", \"u_probability_description\": \"Amongst non-matching record comparisons, 7.38% of records are in the exact match comparison level\", \"has_tf_adjustments\": false, \"tf_adjustment_column\": null, \"tf_adjustment_weight\": 1.0, \"is_null_level\": false, \"bayes_factor\": 12.774577790484384, \"log2_bayes_factor\": 3.67520370466942, \"comparison_vector_value\": 1, \"max_comparison_vector_value\": 1, \"bayes_factor_description\": \"If comparison level is `exact match` then comparison is 12.77 times more likely to be a match\", \"probability_two_random_records_match\": 0.006617568629943289, \"comparison_sort_order\": 1, \"iteration\": 1}, {\"comparison_name\": \"middle_initial\", \"sql_condition\": \"ELSE\", \"label_for_charts\": \"All other comparisons\", \"m_probability\": 0.05687699931677217, \"u_probability\": 0.9261718848050111, \"m_probability_description\": \"Amongst matching record comparisons, 5.69% of records are in the all other comparisons comparison level\", \"u_probability_description\": \"Amongst non-matching record comparisons, 92.62% of records are in the all other comparisons comparison level\", \"has_tf_adjustments\": false, \"tf_adjustment_column\": null, \"tf_adjustment_weight\": 1.0, \"is_null_level\": false, \"bayes_factor\": 0.061410846355745945, \"log2_bayes_factor\": -4.025362703532769, \"comparison_vector_value\": 0, \"max_comparison_vector_value\": 1, \"bayes_factor_description\": \"If comparison level is `all other comparisons` then comparison is  16.28 times less likely to be a match\", \"probability_two_random_records_match\": 0.006617568629943289, \"comparison_sort_order\": 1, \"iteration\": 1}, {\"comparison_name\": \"day_of_birth\", \"sql_condition\": \"`day_of_birth_l` = `day_of_birth_r`\", \"label_for_charts\": \"Exact match\", \"m_probability\": 0.9703645220402368, \"u_probability\": 0.032431119048632266, \"m_probability_description\": \"Amongst matching record comparisons, 97.04% of records are in the exact match comparison level\", \"u_probability_description\": \"Amongst non-matching record comparisons, 3.24% of records are in the exact match comparison level\", \"has_tf_adjustments\": false, \"tf_adjustment_column\": null, \"tf_adjustment_weight\": 1.0, \"is_null_level\": false, \"bayes_factor\": 29.920784435008898, \"log2_bayes_factor\": 4.903076093831568, \"comparison_vector_value\": 2, \"max_comparison_vector_value\": 2, \"bayes_factor_description\": \"If comparison level is `exact match` then comparison is 29.92 times more likely to be a match\", \"probability_two_random_records_match\": 0.006617568629943289, \"comparison_sort_order\": 2, \"iteration\": 1}, {\"comparison_name\": \"day_of_birth\", \"sql_condition\": \"abs(day_of_birth_l - day_of_birth_r) <= 5\", \"label_for_charts\": \"Inexact match\", \"m_probability\": 0.016507031695160726, \"u_probability\": 0.29408973456130016, \"m_probability_description\": \"Amongst matching record comparisons, 1.65% of records are in the inexact match comparison level\", \"u_probability_description\": \"Amongst non-matching record comparisons, 29.41% of records are in the inexact match comparison level\", \"has_tf_adjustments\": false, \"tf_adjustment_column\": null, \"tf_adjustment_weight\": 1.0, \"is_null_level\": false, \"bayes_factor\": 0.0561292345677574, \"log2_bayes_factor\": -4.155103804318272, \"comparison_vector_value\": 1, \"max_comparison_vector_value\": 2, \"bayes_factor_description\": \"If comparison level is `inexact match` then comparison is  17.82 times less likely to be a match\", \"probability_two_random_records_match\": 0.006617568629943289, \"comparison_sort_order\": 2, \"iteration\": 1}, {\"comparison_name\": \"day_of_birth\", \"sql_condition\": \"ELSE\", \"label_for_charts\": \"All other comparisons\", \"m_probability\": 0.013128446264602352, \"u_probability\": 0.6734791463900676, \"m_probability_description\": \"Amongst matching record comparisons, 1.31% of records are in the all other comparisons comparison level\", \"u_probability_description\": \"Amongst non-matching record comparisons, 67.35% of records are in the all other comparisons comparison level\", \"has_tf_adjustments\": false, \"tf_adjustment_column\": null, \"tf_adjustment_weight\": 1.0, \"is_null_level\": false, \"bayes_factor\": 0.019493471082174505, \"log2_bayes_factor\": -5.680865184496166, \"comparison_vector_value\": 0, \"max_comparison_vector_value\": 2, \"bayes_factor_description\": \"If comparison level is `all other comparisons` then comparison is  51.30 times less likely to be a match\", \"probability_two_random_records_match\": 0.006617568629943289, \"comparison_sort_order\": 2, \"iteration\": 1}, {\"comparison_name\": \"month_of_birth\", \"sql_condition\": \"`month_of_birth_l` = `month_of_birth_r`\", \"label_for_charts\": \"Exact match\", \"m_probability\": 0.9778036315729903, \"u_probability\": 0.08338892953741671, \"m_probability_description\": \"Amongst matching record comparisons, 97.78% of records are in the exact match comparison level\", \"u_probability_description\": \"Amongst non-matching record comparisons, 8.34% of records are in the exact match comparison level\", \"has_tf_adjustments\": false, \"tf_adjustment_column\": null, \"tf_adjustment_weight\": 1.0, \"is_null_level\": false, \"bayes_factor\": 11.725820645464081, \"log2_bayes_factor\": 3.551616989884784, \"comparison_vector_value\": 2, \"max_comparison_vector_value\": 2, \"bayes_factor_description\": \"If comparison level is `exact match` then comparison is 11.73 times more likely to be a match\", \"probability_two_random_records_match\": 0.006617568629943289, \"comparison_sort_order\": 3, \"iteration\": 1}, {\"comparison_name\": \"month_of_birth\", \"sql_condition\": \"abs(month_of_birth_l - month_of_birth_r) <= 3\", \"label_for_charts\": \"Inexact match\", \"m_probability\": 0.011232649960194938, \"u_probability\": 0.4136651580190546, \"m_probability_description\": \"Amongst matching record comparisons, 1.12% of records are in the inexact match comparison level\", \"u_probability_description\": \"Amongst non-matching record comparisons, 41.37% of records are in the inexact match comparison level\", \"has_tf_adjustments\": false, \"tf_adjustment_column\": null, \"tf_adjustment_weight\": 1.0, \"is_null_level\": false, \"bayes_factor\": 0.027153966783147663, \"log2_bayes_factor\": -5.202693220461714, \"comparison_vector_value\": 1, \"max_comparison_vector_value\": 2, \"bayes_factor_description\": \"If comparison level is `inexact match` then comparison is  36.83 times less likely to be a match\", \"probability_two_random_records_match\": 0.006617568629943289, \"comparison_sort_order\": 3, \"iteration\": 1}, {\"comparison_name\": \"month_of_birth\", \"sql_condition\": \"ELSE\", \"label_for_charts\": \"All other comparisons\", \"m_probability\": 0.01096371846681476, \"u_probability\": 0.5029459124435287, \"m_probability_description\": \"Amongst matching record comparisons, 1.10% of records are in the all other comparisons comparison level\", \"u_probability_description\": \"Amongst non-matching record comparisons, 50.29% of records are in the all other comparisons comparison level\", \"has_tf_adjustments\": false, \"tf_adjustment_column\": null, \"tf_adjustment_weight\": 1.0, \"is_null_level\": false, \"bayes_factor\": 0.021799001036807864, \"log2_bayes_factor\": -5.519594166344316, \"comparison_vector_value\": 0, \"max_comparison_vector_value\": 2, \"bayes_factor_description\": \"If comparison level is `all other comparisons` then comparison is  45.87 times less likely to be a match\", \"probability_two_random_records_match\": 0.006617568629943289, \"comparison_sort_order\": 3, \"iteration\": 1}, {\"comparison_name\": \"year_of_birth\", \"sql_condition\": \"`year_of_birth_l` = `year_of_birth_r`\", \"label_for_charts\": \"Exact match\", \"m_probability\": 0.9666697920481195, \"u_probability\": 0.011194856230046568, \"m_probability_description\": \"Amongst matching record comparisons, 96.67% of records are in the exact match comparison level\", \"u_probability_description\": \"Amongst non-matching record comparisons, 1.12% of records are in the exact match comparison level\", \"has_tf_adjustments\": false, \"tf_adjustment_column\": null, \"tf_adjustment_weight\": 1.0, \"is_null_level\": false, \"bayes_factor\": 86.34946016132075, \"log2_bayes_factor\": 6.4321152532435315, \"comparison_vector_value\": 2, \"max_comparison_vector_value\": 2, \"bayes_factor_description\": \"If comparison level is `exact match` then comparison is 86.35 times more likely to be a match\", \"probability_two_random_records_match\": 0.006617568629943289, \"comparison_sort_order\": 4, \"iteration\": 1}, {\"comparison_name\": \"year_of_birth\", \"sql_condition\": \"abs(year_of_birth_l - year_of_birth_r) <= 5\", \"label_for_charts\": \"Inexact match\", \"m_probability\": 0.010816442890713802, \"u_probability\": 0.11039918989695713, \"m_probability_description\": \"Amongst matching record comparisons, 1.08% of records are in the inexact match comparison level\", \"u_probability_description\": \"Amongst non-matching record comparisons, 11.04% of records are in the inexact match comparison level\", \"has_tf_adjustments\": false, \"tf_adjustment_column\": null, \"tf_adjustment_weight\": 1.0, \"is_null_level\": false, \"bayes_factor\": 0.09797574511923053, \"log2_bayes_factor\": -3.351431550008163, \"comparison_vector_value\": 1, \"max_comparison_vector_value\": 2, \"bayes_factor_description\": \"If comparison level is `inexact match` then comparison is  10.21 times less likely to be a match\", \"probability_two_random_records_match\": 0.006617568629943289, \"comparison_sort_order\": 4, \"iteration\": 1}, {\"comparison_name\": \"year_of_birth\", \"sql_condition\": \"ELSE\", \"label_for_charts\": \"All other comparisons\", \"m_probability\": 0.022513765061166577, \"u_probability\": 0.8784059538729964, \"m_probability_description\": \"Amongst matching record comparisons, 2.25% of records are in the all other comparisons comparison level\", \"u_probability_description\": \"Amongst non-matching record comparisons, 87.84% of records are in the all other comparisons comparison level\", \"has_tf_adjustments\": false, \"tf_adjustment_column\": null, \"tf_adjustment_weight\": 1.0, \"is_null_level\": false, \"bayes_factor\": 0.025630250981224238, \"log2_bayes_factor\": -5.28600858365422, \"comparison_vector_value\": 0, \"max_comparison_vector_value\": 2, \"bayes_factor_description\": \"If comparison level is `all other comparisons` then comparison is  39.02 times less likely to be a match\", \"probability_two_random_records_match\": 0.006617568629943289, \"comparison_sort_order\": 4, \"iteration\": 1}, {\"comparison_name\": \"geokey\", \"sql_condition\": \"`geokey_l` = `geokey_r`\", \"label_for_charts\": \"Exact match\", \"m_probability\": 0.4607735693162169, \"u_probability\": 0.0023439137899664837, \"m_probability_description\": \"Amongst matching record comparisons, 46.08% of records are in the exact match comparison level\", \"u_probability_description\": \"Amongst non-matching record comparisons, 0.23% of records are in the exact match comparison level\", \"has_tf_adjustments\": false, \"tf_adjustment_column\": null, \"tf_adjustment_weight\": 1.0, \"is_null_level\": false, \"bayes_factor\": 196.58298495816504, \"log2_bayes_factor\": 7.61899464584392, \"comparison_vector_value\": 2, \"max_comparison_vector_value\": 2, \"bayes_factor_description\": \"If comparison level is `exact match` then comparison is 196.58 times more likely to be a match\", \"probability_two_random_records_match\": 0.006617568629943289, \"comparison_sort_order\": 5, \"iteration\": 1}, {\"comparison_name\": \"geokey\", \"sql_condition\": \"jaro_winkler(`geokey_l`, `geokey_r`) >= 0.7222222222222222\", \"label_for_charts\": \"Jaro_winkler >= 0.7222222222222222\", \"m_probability\": 0.4316211620540005, \"u_probability\": 0.35828043566803447, \"m_probability_description\": \"Amongst matching record comparisons, 43.16% of records are in the jaro_winkler >= 0.7222222222222222 comparison level\", \"u_probability_description\": \"Amongst non-matching record comparisons, 35.83% of records are in the jaro_winkler >= 0.7222222222222222 comparison level\", \"has_tf_adjustments\": false, \"tf_adjustment_column\": null, \"tf_adjustment_weight\": 1.0, \"is_null_level\": false, \"bayes_factor\": 1.2047020129614892, \"log2_bayes_factor\": 0.26867633517933, \"comparison_vector_value\": 1, \"max_comparison_vector_value\": 2, \"bayes_factor_description\": \"If comparison level is `jaro_winkler >= 0.7222222222222222` then comparison is 1.20 times more likely to be a match\", \"probability_two_random_records_match\": 0.006617568629943289, \"comparison_sort_order\": 5, \"iteration\": 1}, {\"comparison_name\": \"geokey\", \"sql_condition\": \"ELSE\", \"label_for_charts\": \"All other comparisons\", \"m_probability\": 0.1076052686297826, \"u_probability\": 0.6393756505419991, \"m_probability_description\": \"Amongst matching record comparisons, 10.76% of records are in the all other comparisons comparison level\", \"u_probability_description\": \"Amongst non-matching record comparisons, 63.94% of records are in the all other comparisons comparison level\", \"has_tf_adjustments\": false, \"tf_adjustment_column\": null, \"tf_adjustment_weight\": 1.0, \"is_null_level\": false, \"bayes_factor\": 0.16829741410791224, \"log2_bayes_factor\": -2.570915085078395, \"comparison_vector_value\": 0, \"max_comparison_vector_value\": 2, \"bayes_factor_description\": \"If comparison level is `all other comparisons` then comparison is  5.94 times less likely to be a match\", \"probability_two_random_records_match\": 0.006617568629943289, \"comparison_sort_order\": 5, \"iteration\": 1}, {\"comparison_name\": \"probability_two_random_records_match\", \"sql_condition\": null, \"label_for_charts\": \"\", \"m_probability\": null, \"u_probability\": null, \"m_probability_description\": null, \"u_probability_description\": null, \"has_tf_adjustments\": false, \"tf_adjustment_column\": null, \"tf_adjustment_weight\": null, \"is_null_level\": false, \"bayes_factor\": 0.006661652573034181, \"log2_bayes_factor\": -7.229904169951962, \"comparison_vector_value\": 0, \"max_comparison_vector_value\": 0, \"bayes_factor_description\": \"The probability that two random records drawn at random match is 0.007 or one in  151.1 records.This is equivalent to a starting match weight of -7.230.\", \"probability_two_random_records_match\": 0.006617568629943289, \"comparison_sort_order\": -1, \"iteration\": 2}, {\"comparison_name\": \"last_name_12\", \"sql_condition\": \"`last_name_12_l` = `last_name_12_r`\", \"label_for_charts\": \"Exact match\", \"m_probability\": 0.8812649985649056, \"u_probability\": 0.000677983558493214, \"m_probability_description\": \"Amongst matching record comparisons, 88.13% of records are in the exact match comparison level\", \"u_probability_description\": \"Amongst non-matching record comparisons, 0.07% of records are in the exact match comparison level\", \"has_tf_adjustments\": false, \"tf_adjustment_column\": null, \"tf_adjustment_weight\": 1.0, \"is_null_level\": false, \"bayes_factor\": 1299.8324037878956, \"log2_bayes_factor\": 10.344109903445638, \"comparison_vector_value\": 2, \"max_comparison_vector_value\": 2, \"bayes_factor_description\": \"If comparison level is `exact match` then comparison is 1,299.83 times more likely to be a match\", \"probability_two_random_records_match\": 0.006617568629943289, \"comparison_sort_order\": 0, \"iteration\": 2}, {\"comparison_name\": \"last_name_12\", \"sql_condition\": \"jaro_winkler(`last_name_12_l`, `last_name_12_r`) >= 0.8333333333333334\", \"label_for_charts\": \"Jaro_winkler >= 0.8333333333333334\", \"m_probability\": 0.09041490925889646, \"u_probability\": 0.001280545501029647, \"m_probability_description\": \"Amongst matching record comparisons, 9.04% of records are in the jaro_winkler >= 0.8333333333333334 comparison level\", \"u_probability_description\": \"Amongst non-matching record comparisons, 0.13% of records are in the jaro_winkler >= 0.8333333333333334 comparison level\", \"has_tf_adjustments\": false, \"tf_adjustment_column\": null, \"tf_adjustment_weight\": 1.0, \"is_null_level\": false, \"bayes_factor\": 70.60655727281588, \"log2_bayes_factor\": 6.141730268549186, \"comparison_vector_value\": 1, \"max_comparison_vector_value\": 2, \"bayes_factor_description\": \"If comparison level is `jaro_winkler >= 0.8333333333333334` then comparison is 70.61 times more likely to be a match\", \"probability_two_random_records_match\": 0.006617568629943289, \"comparison_sort_order\": 0, \"iteration\": 2}, {\"comparison_name\": \"last_name_12\", \"sql_condition\": \"ELSE\", \"label_for_charts\": \"All other comparisons\", \"m_probability\": 0.028320092176198, \"u_probability\": 0.9980414709404771, \"m_probability_description\": \"Amongst matching record comparisons, 2.83% of records are in the all other comparisons comparison level\", \"u_probability_description\": \"Amongst non-matching record comparisons, 99.80% of records are in the all other comparisons comparison level\", \"has_tf_adjustments\": false, \"tf_adjustment_column\": null, \"tf_adjustment_weight\": 1.0, \"is_null_level\": false, \"bayes_factor\": 0.028375666744099654, \"log2_bayes_factor\": -5.139201897913726, \"comparison_vector_value\": 0, \"max_comparison_vector_value\": 2, \"bayes_factor_description\": \"If comparison level is `all other comparisons` then comparison is  35.24 times less likely to be a match\", \"probability_two_random_records_match\": 0.006617568629943289, \"comparison_sort_order\": 0, \"iteration\": 2}, {\"comparison_name\": \"middle_initial\", \"sql_condition\": \"`middle_initial_l` = `middle_initial_r`\", \"label_for_charts\": \"Exact match\", \"m_probability\": 0.9419191543058959, \"u_probability\": 0.0738281151949889, \"m_probability_description\": \"Amongst matching record comparisons, 94.19% of records are in the exact match comparison level\", \"u_probability_description\": \"Amongst non-matching record comparisons, 7.38% of records are in the exact match comparison level\", \"has_tf_adjustments\": false, \"tf_adjustment_column\": null, \"tf_adjustment_weight\": 1.0, \"is_null_level\": false, \"bayes_factor\": 12.758271720985624, \"log2_bayes_factor\": 3.673361004833676, \"comparison_vector_value\": 1, \"max_comparison_vector_value\": 1, \"bayes_factor_description\": \"If comparison level is `exact match` then comparison is 12.76 times more likely to be a match\", \"probability_two_random_records_match\": 0.006617568629943289, \"comparison_sort_order\": 1, \"iteration\": 2}, {\"comparison_name\": \"middle_initial\", \"sql_condition\": \"ELSE\", \"label_for_charts\": \"All other comparisons\", \"m_probability\": 0.05808084569410407, \"u_probability\": 0.9261718848050111, \"m_probability_description\": \"Amongst matching record comparisons, 5.81% of records are in the all other comparisons comparison level\", \"u_probability_description\": \"Amongst non-matching record comparisons, 92.62% of records are in the all other comparisons comparison level\", \"has_tf_adjustments\": false, \"tf_adjustment_column\": null, \"tf_adjustment_weight\": 1.0, \"is_null_level\": false, \"bayes_factor\": 0.06271065516778448, \"log2_bayes_factor\": -3.9951455975973813, \"comparison_vector_value\": 0, \"max_comparison_vector_value\": 1, \"bayes_factor_description\": \"If comparison level is `all other comparisons` then comparison is  15.95 times less likely to be a match\", \"probability_two_random_records_match\": 0.006617568629943289, \"comparison_sort_order\": 1, \"iteration\": 2}, {\"comparison_name\": \"day_of_birth\", \"sql_condition\": \"`day_of_birth_l` = `day_of_birth_r`\", \"label_for_charts\": \"Exact match\", \"m_probability\": 0.9720707780615474, \"u_probability\": 0.032431119048632266, \"m_probability_description\": \"Amongst matching record comparisons, 97.21% of records are in the exact match comparison level\", \"u_probability_description\": \"Amongst non-matching record comparisons, 3.24% of records are in the exact match comparison level\", \"has_tf_adjustments\": false, \"tf_adjustment_column\": null, \"tf_adjustment_weight\": 1.0, \"is_null_level\": false, \"bayes_factor\": 29.973396126229048, \"log2_bayes_factor\": 4.90561065210842, \"comparison_vector_value\": 2, \"max_comparison_vector_value\": 2, \"bayes_factor_description\": \"If comparison level is `exact match` then comparison is 29.97 times more likely to be a match\", \"probability_two_random_records_match\": 0.006617568629943289, \"comparison_sort_order\": 2, \"iteration\": 2}, {\"comparison_name\": \"day_of_birth\", \"sql_condition\": \"abs(day_of_birth_l - day_of_birth_r) <= 5\", \"label_for_charts\": \"Inexact match\", \"m_probability\": 0.016864891506578404, \"u_probability\": 0.29408973456130016, \"m_probability_description\": \"Amongst matching record comparisons, 1.69% of records are in the inexact match comparison level\", \"u_probability_description\": \"Amongst non-matching record comparisons, 29.41% of records are in the inexact match comparison level\", \"has_tf_adjustments\": false, \"tf_adjustment_column\": null, \"tf_adjustment_weight\": 1.0, \"is_null_level\": false, \"bayes_factor\": 0.05734607340761525, \"log2_bayes_factor\": -4.124161484166561, \"comparison_vector_value\": 1, \"max_comparison_vector_value\": 2, \"bayes_factor_description\": \"If comparison level is `inexact match` then comparison is  17.44 times less likely to be a match\", \"probability_two_random_records_match\": 0.006617568629943289, \"comparison_sort_order\": 2, \"iteration\": 2}, {\"comparison_name\": \"day_of_birth\", \"sql_condition\": \"ELSE\", \"label_for_charts\": \"All other comparisons\", \"m_probability\": 0.011064330431874094, \"u_probability\": 0.6734791463900676, \"m_probability_description\": \"Amongst matching record comparisons, 1.11% of records are in the all other comparisons comparison level\", \"u_probability_description\": \"Amongst non-matching record comparisons, 67.35% of records are in the all other comparisons comparison level\", \"has_tf_adjustments\": false, \"tf_adjustment_column\": null, \"tf_adjustment_weight\": 1.0, \"is_null_level\": false, \"bayes_factor\": 0.016428616225432204, \"log2_bayes_factor\": -5.927645221889703, \"comparison_vector_value\": 0, \"max_comparison_vector_value\": 2, \"bayes_factor_description\": \"If comparison level is `all other comparisons` then comparison is  60.87 times less likely to be a match\", \"probability_two_random_records_match\": 0.006617568629943289, \"comparison_sort_order\": 2, \"iteration\": 2}, {\"comparison_name\": \"month_of_birth\", \"sql_condition\": \"`month_of_birth_l` = `month_of_birth_r`\", \"label_for_charts\": \"Exact match\", \"m_probability\": 0.9799553346582115, \"u_probability\": 0.08338892953741671, \"m_probability_description\": \"Amongst matching record comparisons, 98.00% of records are in the exact match comparison level\", \"u_probability_description\": \"Amongst non-matching record comparisons, 8.34% of records are in the exact match comparison level\", \"has_tf_adjustments\": false, \"tf_adjustment_column\": null, \"tf_adjustment_weight\": 1.0, \"is_null_level\": false, \"bayes_factor\": 11.751623867752187, \"log2_bayes_factor\": 3.5547882205357255, \"comparison_vector_value\": 2, \"max_comparison_vector_value\": 2, \"bayes_factor_description\": \"If comparison level is `exact match` then comparison is 11.75 times more likely to be a match\", \"probability_two_random_records_match\": 0.006617568629943289, \"comparison_sort_order\": 3, \"iteration\": 2}, {\"comparison_name\": \"month_of_birth\", \"sql_condition\": \"abs(month_of_birth_l - month_of_birth_r) <= 3\", \"label_for_charts\": \"Inexact match\", \"m_probability\": 0.01013239840558029, \"u_probability\": 0.4136651580190546, \"m_probability_description\": \"Amongst matching record comparisons, 1.01% of records are in the inexact match comparison level\", \"u_probability_description\": \"Amongst non-matching record comparisons, 41.37% of records are in the inexact match comparison level\", \"has_tf_adjustments\": false, \"tf_adjustment_column\": null, \"tf_adjustment_weight\": 1.0, \"is_null_level\": false, \"bayes_factor\": 0.024494203123371496, \"log2_bayes_factor\": -5.351415832983962, \"comparison_vector_value\": 1, \"max_comparison_vector_value\": 2, \"bayes_factor_description\": \"If comparison level is `inexact match` then comparison is  40.83 times less likely to be a match\", \"probability_two_random_records_match\": 0.006617568629943289, \"comparison_sort_order\": 3, \"iteration\": 2}, {\"comparison_name\": \"month_of_birth\", \"sql_condition\": \"ELSE\", \"label_for_charts\": \"All other comparisons\", \"m_probability\": 0.009912266936208183, \"u_probability\": 0.5029459124435287, \"m_probability_description\": \"Amongst matching record comparisons, 0.99% of records are in the all other comparisons comparison level\", \"u_probability_description\": \"Amongst non-matching record comparisons, 50.29% of records are in the all other comparisons comparison level\", \"has_tf_adjustments\": false, \"tf_adjustment_column\": null, \"tf_adjustment_weight\": 1.0, \"is_null_level\": false, \"bayes_factor\": 0.01970841534042916, \"log2_bayes_factor\": -5.665044408949506, \"comparison_vector_value\": 0, \"max_comparison_vector_value\": 2, \"bayes_factor_description\": \"If comparison level is `all other comparisons` then comparison is  50.74 times less likely to be a match\", \"probability_two_random_records_match\": 0.006617568629943289, \"comparison_sort_order\": 3, \"iteration\": 2}, {\"comparison_name\": \"year_of_birth\", \"sql_condition\": \"`year_of_birth_l` = `year_of_birth_r`\", \"label_for_charts\": \"Exact match\", \"m_probability\": 0.9677676458308772, \"u_probability\": 0.011194856230046568, \"m_probability_description\": \"Amongst matching record comparisons, 96.78% of records are in the exact match comparison level\", \"u_probability_description\": \"Amongst non-matching record comparisons, 1.12% of records are in the exact match comparison level\", \"has_tf_adjustments\": false, \"tf_adjustment_column\": null, \"tf_adjustment_weight\": 1.0, \"is_null_level\": false, \"bayes_factor\": 86.44752785957408, \"log2_bayes_factor\": 6.433752802586861, \"comparison_vector_value\": 2, \"max_comparison_vector_value\": 2, \"bayes_factor_description\": \"If comparison level is `exact match` then comparison is 86.45 times more likely to be a match\", \"probability_two_random_records_match\": 0.006617568629943289, \"comparison_sort_order\": 4, \"iteration\": 2}, {\"comparison_name\": \"year_of_birth\", \"sql_condition\": \"abs(year_of_birth_l - year_of_birth_r) <= 5\", \"label_for_charts\": \"Inexact match\", \"m_probability\": 0.010530448443132202, \"u_probability\": 0.11039918989695713, \"m_probability_description\": \"Amongst matching record comparisons, 1.05% of records are in the inexact match comparison level\", \"u_probability_description\": \"Amongst non-matching record comparisons, 11.04% of records are in the inexact match comparison level\", \"has_tf_adjustments\": false, \"tf_adjustment_column\": null, \"tf_adjustment_weight\": 1.0, \"is_null_level\": false, \"bayes_factor\": 0.09538519669357146, \"log2_bayes_factor\": -3.390090805241116, \"comparison_vector_value\": 1, \"max_comparison_vector_value\": 2, \"bayes_factor_description\": \"If comparison level is `inexact match` then comparison is  10.48 times less likely to be a match\", \"probability_two_random_records_match\": 0.006617568629943289, \"comparison_sort_order\": 4, \"iteration\": 2}, {\"comparison_name\": \"year_of_birth\", \"sql_condition\": \"ELSE\", \"label_for_charts\": \"All other comparisons\", \"m_probability\": 0.02170190572599058, \"u_probability\": 0.8784059538729964, \"m_probability_description\": \"Amongst matching record comparisons, 2.17% of records are in the all other comparisons comparison level\", \"u_probability_description\": \"Amongst non-matching record comparisons, 87.84% of records are in the all other comparisons comparison level\", \"has_tf_adjustments\": false, \"tf_adjustment_column\": null, \"tf_adjustment_weight\": 1.0, \"is_null_level\": false, \"bayes_factor\": 0.02470600936879389, \"log2_bayes_factor\": -5.338994191200146, \"comparison_vector_value\": 0, \"max_comparison_vector_value\": 2, \"bayes_factor_description\": \"If comparison level is `all other comparisons` then comparison is  40.48 times less likely to be a match\", \"probability_two_random_records_match\": 0.006617568629943289, \"comparison_sort_order\": 4, \"iteration\": 2}, {\"comparison_name\": \"geokey\", \"sql_condition\": \"`geokey_l` = `geokey_r`\", \"label_for_charts\": \"Exact match\", \"m_probability\": 0.44799307092035645, \"u_probability\": 0.0023439137899664837, \"m_probability_description\": \"Amongst matching record comparisons, 44.80% of records are in the exact match comparison level\", \"u_probability_description\": \"Amongst non-matching record comparisons, 0.23% of records are in the exact match comparison level\", \"has_tf_adjustments\": false, \"tf_adjustment_column\": null, \"tf_adjustment_weight\": 1.0, \"is_null_level\": false, \"bayes_factor\": 191.13035335943923, \"log2_bayes_factor\": 7.578413100291891, \"comparison_vector_value\": 2, \"max_comparison_vector_value\": 2, \"bayes_factor_description\": \"If comparison level is `exact match` then comparison is 191.13 times more likely to be a match\", \"probability_two_random_records_match\": 0.006617568629943289, \"comparison_sort_order\": 5, \"iteration\": 2}, {\"comparison_name\": \"geokey\", \"sql_condition\": \"jaro_winkler(`geokey_l`, `geokey_r`) >= 0.7222222222222222\", \"label_for_charts\": \"Jaro_winkler >= 0.7222222222222222\", \"m_probability\": 0.4421739663107794, \"u_probability\": 0.35828043566803447, \"m_probability_description\": \"Amongst matching record comparisons, 44.22% of records are in the jaro_winkler >= 0.7222222222222222 comparison level\", \"u_probability_description\": \"Amongst non-matching record comparisons, 35.83% of records are in the jaro_winkler >= 0.7222222222222222 comparison level\", \"has_tf_adjustments\": false, \"tf_adjustment_column\": null, \"tf_adjustment_weight\": 1.0, \"is_null_level\": false, \"bayes_factor\": 1.2341560473050128, \"log2_bayes_factor\": 0.3035248210998069, \"comparison_vector_value\": 1, \"max_comparison_vector_value\": 2, \"bayes_factor_description\": \"If comparison level is `jaro_winkler >= 0.7222222222222222` then comparison is 1.23 times more likely to be a match\", \"probability_two_random_records_match\": 0.006617568629943289, \"comparison_sort_order\": 5, \"iteration\": 2}, {\"comparison_name\": \"geokey\", \"sql_condition\": \"ELSE\", \"label_for_charts\": \"All other comparisons\", \"m_probability\": 0.10983296276886416, \"u_probability\": 0.6393756505419991, \"m_probability_description\": \"Amongst matching record comparisons, 10.98% of records are in the all other comparisons comparison level\", \"u_probability_description\": \"Amongst non-matching record comparisons, 63.94% of records are in the all other comparisons comparison level\", \"has_tf_adjustments\": false, \"tf_adjustment_column\": null, \"tf_adjustment_weight\": 1.0, \"is_null_level\": false, \"bayes_factor\": 0.1717815851694676, \"log2_bayes_factor\": -2.5413527057253944, \"comparison_vector_value\": 0, \"max_comparison_vector_value\": 2, \"bayes_factor_description\": \"If comparison level is `all other comparisons` then comparison is  5.82 times less likely to be a match\", \"probability_two_random_records_match\": 0.006617568629943289, \"comparison_sort_order\": 5, \"iteration\": 2}, {\"comparison_name\": \"probability_two_random_records_match\", \"sql_condition\": null, \"label_for_charts\": \"\", \"m_probability\": null, \"u_probability\": null, \"m_probability_description\": null, \"u_probability_description\": null, \"has_tf_adjustments\": false, \"tf_adjustment_column\": null, \"tf_adjustment_weight\": null, \"is_null_level\": false, \"bayes_factor\": 0.006661652573034181, \"log2_bayes_factor\": -7.229904169951962, \"comparison_vector_value\": 0, \"max_comparison_vector_value\": 0, \"bayes_factor_description\": \"The probability that two random records drawn at random match is 0.007 or one in  151.1 records.This is equivalent to a starting match weight of -7.230.\", \"probability_two_random_records_match\": 0.006617568629943289, \"comparison_sort_order\": -1, \"iteration\": 3}, {\"comparison_name\": \"last_name_12\", \"sql_condition\": \"`last_name_12_l` = `last_name_12_r`\", \"label_for_charts\": \"Exact match\", \"m_probability\": 0.8808347625370327, \"u_probability\": 0.000677983558493214, \"m_probability_description\": \"Amongst matching record comparisons, 88.08% of records are in the exact match comparison level\", \"u_probability_description\": \"Amongst non-matching record comparisons, 0.07% of records are in the exact match comparison level\", \"has_tf_adjustments\": false, \"tf_adjustment_column\": null, \"tf_adjustment_weight\": 1.0, \"is_null_level\": false, \"bayes_factor\": 1299.1978219864886, \"log2_bayes_factor\": 10.343405403723363, \"comparison_vector_value\": 2, \"max_comparison_vector_value\": 2, \"bayes_factor_description\": \"If comparison level is `exact match` then comparison is 1,299.20 times more likely to be a match\", \"probability_two_random_records_match\": 0.006617568629943289, \"comparison_sort_order\": 0, \"iteration\": 3}, {\"comparison_name\": \"last_name_12\", \"sql_condition\": \"jaro_winkler(`last_name_12_l`, `last_name_12_r`) >= 0.8333333333333334\", \"label_for_charts\": \"Jaro_winkler >= 0.8333333333333334\", \"m_probability\": 0.09048861436093501, \"u_probability\": 0.001280545501029647, \"m_probability_description\": \"Amongst matching record comparisons, 9.05% of records are in the jaro_winkler >= 0.8333333333333334 comparison level\", \"u_probability_description\": \"Amongst non-matching record comparisons, 0.13% of records are in the jaro_winkler >= 0.8333333333333334 comparison level\", \"has_tf_adjustments\": false, \"tf_adjustment_column\": null, \"tf_adjustment_weight\": 1.0, \"is_null_level\": false, \"bayes_factor\": 70.66411485431476, \"log2_bayes_factor\": 6.142905856386894, \"comparison_vector_value\": 1, \"max_comparison_vector_value\": 2, \"bayes_factor_description\": \"If comparison level is `jaro_winkler >= 0.8333333333333334` then comparison is 70.66 times more likely to be a match\", \"probability_two_random_records_match\": 0.006617568629943289, \"comparison_sort_order\": 0, \"iteration\": 3}, {\"comparison_name\": \"last_name_12\", \"sql_condition\": \"ELSE\", \"label_for_charts\": \"All other comparisons\", \"m_probability\": 0.02867662310203222, \"u_probability\": 0.9980414709404771, \"m_probability_description\": \"Amongst matching record comparisons, 2.87% of records are in the all other comparisons comparison level\", \"u_probability_description\": \"Amongst non-matching record comparisons, 99.80% of records are in the all other comparisons comparison level\", \"has_tf_adjustments\": false, \"tf_adjustment_column\": null, \"tf_adjustment_weight\": 1.0, \"is_null_level\": false, \"bayes_factor\": 0.02873289731639066, \"log2_bayes_factor\": -5.121152713672935, \"comparison_vector_value\": 0, \"max_comparison_vector_value\": 2, \"bayes_factor_description\": \"If comparison level is `all other comparisons` then comparison is  34.80 times less likely to be a match\", \"probability_two_random_records_match\": 0.006617568629943289, \"comparison_sort_order\": 0, \"iteration\": 3}, {\"comparison_name\": \"middle_initial\", \"sql_condition\": \"`middle_initial_l` = `middle_initial_r`\", \"label_for_charts\": \"Exact match\", \"m_probability\": 0.9418442219140162, \"u_probability\": 0.0738281151949889, \"m_probability_description\": \"Amongst matching record comparisons, 94.18% of records are in the exact match comparison level\", \"u_probability_description\": \"Amongst non-matching record comparisons, 7.38% of records are in the exact match comparison level\", \"has_tf_adjustments\": false, \"tf_adjustment_column\": null, \"tf_adjustment_weight\": 1.0, \"is_null_level\": false, \"bayes_factor\": 12.757256763585156, \"log2_bayes_factor\": 3.6732462297068333, \"comparison_vector_value\": 1, \"max_comparison_vector_value\": 1, \"bayes_factor_description\": \"If comparison level is `exact match` then comparison is 12.76 times more likely to be a match\", \"probability_two_random_records_match\": 0.006617568629943289, \"comparison_sort_order\": 1, \"iteration\": 3}, {\"comparison_name\": \"middle_initial\", \"sql_condition\": \"ELSE\", \"label_for_charts\": \"All other comparisons\", \"m_probability\": 0.05815577808598382, \"u_probability\": 0.9261718848050111, \"m_probability_description\": \"Amongst matching record comparisons, 5.82% of records are in the all other comparisons comparison level\", \"u_probability_description\": \"Amongst non-matching record comparisons, 92.62% of records are in the all other comparisons comparison level\", \"has_tf_adjustments\": false, \"tf_adjustment_column\": null, \"tf_adjustment_weight\": 1.0, \"is_null_level\": false, \"bayes_factor\": 0.0627915606596366, \"log2_bayes_factor\": -3.993285519394375, \"comparison_vector_value\": 0, \"max_comparison_vector_value\": 1, \"bayes_factor_description\": \"If comparison level is `all other comparisons` then comparison is  15.93 times less likely to be a match\", \"probability_two_random_records_match\": 0.006617568629943289, \"comparison_sort_order\": 1, \"iteration\": 3}, {\"comparison_name\": \"day_of_birth\", \"sql_condition\": \"`day_of_birth_l` = `day_of_birth_r`\", \"label_for_charts\": \"Exact match\", \"m_probability\": 0.9725745325034381, \"u_probability\": 0.032431119048632266, \"m_probability_description\": \"Amongst matching record comparisons, 97.26% of records are in the exact match comparison level\", \"u_probability_description\": \"Amongst non-matching record comparisons, 3.24% of records are in the exact match comparison level\", \"has_tf_adjustments\": false, \"tf_adjustment_column\": null, \"tf_adjustment_weight\": 1.0, \"is_null_level\": false, \"bayes_factor\": 29.988929183880717, \"log2_bayes_factor\": 4.906358103633333, \"comparison_vector_value\": 2, \"max_comparison_vector_value\": 2, \"bayes_factor_description\": \"If comparison level is `exact match` then comparison is 29.99 times more likely to be a match\", \"probability_two_random_records_match\": 0.006617568629943289, \"comparison_sort_order\": 2, \"iteration\": 3}, {\"comparison_name\": \"day_of_birth\", \"sql_condition\": \"abs(day_of_birth_l - day_of_birth_r) <= 5\", \"label_for_charts\": \"Inexact match\", \"m_probability\": 0.016826113044779357, \"u_probability\": 0.29408973456130016, \"m_probability_description\": \"Amongst matching record comparisons, 1.68% of records are in the inexact match comparison level\", \"u_probability_description\": \"Amongst non-matching record comparisons, 29.41% of records are in the inexact match comparison level\", \"has_tf_adjustments\": false, \"tf_adjustment_column\": null, \"tf_adjustment_weight\": 1.0, \"is_null_level\": false, \"bayes_factor\": 0.05721421412372392, \"log2_bayes_factor\": -4.127482579514206, \"comparison_vector_value\": 1, \"max_comparison_vector_value\": 2, \"bayes_factor_description\": \"If comparison level is `inexact match` then comparison is  17.48 times less likely to be a match\", \"probability_two_random_records_match\": 0.006617568629943289, \"comparison_sort_order\": 2, \"iteration\": 3}, {\"comparison_name\": \"day_of_birth\", \"sql_condition\": \"ELSE\", \"label_for_charts\": \"All other comparisons\", \"m_probability\": 0.010599354451782523, \"u_probability\": 0.6734791463900676, \"m_probability_description\": \"Amongst matching record comparisons, 1.06% of records are in the all other comparisons comparison level\", \"u_probability_description\": \"Amongst non-matching record comparisons, 67.35% of records are in the all other comparisons comparison level\", \"has_tf_adjustments\": false, \"tf_adjustment_column\": null, \"tf_adjustment_weight\": 1.0, \"is_null_level\": false, \"bayes_factor\": 0.015738207349992036, \"log2_bayes_factor\": -5.9895849687872245, \"comparison_vector_value\": 0, \"max_comparison_vector_value\": 2, \"bayes_factor_description\": \"If comparison level is `all other comparisons` then comparison is  63.54 times less likely to be a match\", \"probability_two_random_records_match\": 0.006617568629943289, \"comparison_sort_order\": 2, \"iteration\": 3}, {\"comparison_name\": \"month_of_birth\", \"sql_condition\": \"`month_of_birth_l` = `month_of_birth_r`\", \"label_for_charts\": \"Exact match\", \"m_probability\": 0.9804473874864816, \"u_probability\": 0.08338892953741671, \"m_probability_description\": \"Amongst matching record comparisons, 98.04% of records are in the exact match comparison level\", \"u_probability_description\": \"Amongst non-matching record comparisons, 8.34% of records are in the exact match comparison level\", \"has_tf_adjustments\": false, \"tf_adjustment_column\": null, \"tf_adjustment_weight\": 1.0, \"is_null_level\": false, \"bayes_factor\": 11.757524565014997, \"log2_bayes_factor\": 3.5555124413114765, \"comparison_vector_value\": 2, \"max_comparison_vector_value\": 2, \"bayes_factor_description\": \"If comparison level is `exact match` then comparison is 11.76 times more likely to be a match\", \"probability_two_random_records_match\": 0.006617568629943289, \"comparison_sort_order\": 3, \"iteration\": 3}, {\"comparison_name\": \"month_of_birth\", \"sql_condition\": \"abs(month_of_birth_l - month_of_birth_r) <= 3\", \"label_for_charts\": \"Inexact match\", \"m_probability\": 0.009871532099259424, \"u_probability\": 0.4136651580190546, \"m_probability_description\": \"Amongst matching record comparisons, 0.99% of records are in the inexact match comparison level\", \"u_probability_description\": \"Amongst non-matching record comparisons, 41.37% of records are in the inexact match comparison level\", \"has_tf_adjustments\": false, \"tf_adjustment_column\": null, \"tf_adjustment_weight\": 1.0, \"is_null_level\": false, \"bayes_factor\": 0.02386358122722222, \"log2_bayes_factor\": -5.3890456240653455, \"comparison_vector_value\": 1, \"max_comparison_vector_value\": 2, \"bayes_factor_description\": \"If comparison level is `inexact match` then comparison is  41.90 times less likely to be a match\", \"probability_two_random_records_match\": 0.006617568629943289, \"comparison_sort_order\": 3, \"iteration\": 3}, {\"comparison_name\": \"month_of_birth\", \"sql_condition\": \"ELSE\", \"label_for_charts\": \"All other comparisons\", \"m_probability\": 0.009681080414258959, \"u_probability\": 0.5029459124435287, \"m_probability_description\": \"Amongst matching record comparisons, 0.97% of records are in the all other comparisons comparison level\", \"u_probability_description\": \"Amongst non-matching record comparisons, 50.29% of records are in the all other comparisons comparison level\", \"has_tf_adjustments\": false, \"tf_adjustment_column\": null, \"tf_adjustment_weight\": 1.0, \"is_null_level\": false, \"bayes_factor\": 0.019248750560918338, \"log2_bayes_factor\": -5.699091386464222, \"comparison_vector_value\": 0, \"max_comparison_vector_value\": 2, \"bayes_factor_description\": \"If comparison level is `all other comparisons` then comparison is  51.95 times less likely to be a match\", \"probability_two_random_records_match\": 0.006617568629943289, \"comparison_sort_order\": 3, \"iteration\": 3}, {\"comparison_name\": \"year_of_birth\", \"sql_condition\": \"`year_of_birth_l` = `year_of_birth_r`\", \"label_for_charts\": \"Exact match\", \"m_probability\": 0.9682448644455847, \"u_probability\": 0.011194856230046568, \"m_probability_description\": \"Amongst matching record comparisons, 96.82% of records are in the exact match comparison level\", \"u_probability_description\": \"Amongst non-matching record comparisons, 1.12% of records are in the exact match comparison level\", \"has_tf_adjustments\": false, \"tf_adjustment_column\": null, \"tf_adjustment_weight\": 1.0, \"is_null_level\": false, \"bayes_factor\": 86.49015624219025, \"log2_bayes_factor\": 6.434464038634302, \"comparison_vector_value\": 2, \"max_comparison_vector_value\": 2, \"bayes_factor_description\": \"If comparison level is `exact match` then comparison is 86.49 times more likely to be a match\", \"probability_two_random_records_match\": 0.006617568629943289, \"comparison_sort_order\": 4, \"iteration\": 3}, {\"comparison_name\": \"year_of_birth\", \"sql_condition\": \"abs(year_of_birth_l - year_of_birth_r) <= 5\", \"label_for_charts\": \"Inexact match\", \"m_probability\": 0.010425287445299664, \"u_probability\": 0.11039918989695713, \"m_probability_description\": \"Amongst matching record comparisons, 1.04% of records are in the inexact match comparison level\", \"u_probability_description\": \"Amongst non-matching record comparisons, 11.04% of records are in the inexact match comparison level\", \"has_tf_adjustments\": false, \"tf_adjustment_column\": null, \"tf_adjustment_weight\": 1.0, \"is_null_level\": false, \"bayes_factor\": 0.09443264443362559, \"log2_bayes_factor\": -3.404570518521705, \"comparison_vector_value\": 1, \"max_comparison_vector_value\": 2, \"bayes_factor_description\": \"If comparison level is `inexact match` then comparison is  10.59 times less likely to be a match\", \"probability_two_random_records_match\": 0.006617568629943289, \"comparison_sort_order\": 4, \"iteration\": 3}, {\"comparison_name\": \"year_of_birth\", \"sql_condition\": \"ELSE\", \"label_for_charts\": \"All other comparisons\", \"m_probability\": 0.021329848109115767, \"u_probability\": 0.8784059538729964, \"m_probability_description\": \"Amongst matching record comparisons, 2.13% of records are in the all other comparisons comparison level\", \"u_probability_description\": \"Amongst non-matching record comparisons, 87.84% of records are in the all other comparisons comparison level\", \"has_tf_adjustments\": false, \"tf_adjustment_column\": null, \"tf_adjustment_weight\": 1.0, \"is_null_level\": false, \"bayes_factor\": 0.024282449378980105, \"log2_bayes_factor\": -5.363942235698479, \"comparison_vector_value\": 0, \"max_comparison_vector_value\": 2, \"bayes_factor_description\": \"If comparison level is `all other comparisons` then comparison is  41.18 times less likely to be a match\", \"probability_two_random_records_match\": 0.006617568629943289, \"comparison_sort_order\": 4, \"iteration\": 3}, {\"comparison_name\": \"geokey\", \"sql_condition\": \"`geokey_l` = `geokey_r`\", \"label_for_charts\": \"Exact match\", \"m_probability\": 0.4477422216158438, \"u_probability\": 0.0023439137899664837, \"m_probability_description\": \"Amongst matching record comparisons, 44.77% of records are in the exact match comparison level\", \"u_probability_description\": \"Amongst non-matching record comparisons, 0.23% of records are in the exact match comparison level\", \"has_tf_adjustments\": false, \"tf_adjustment_column\": null, \"tf_adjustment_weight\": 1.0, \"is_null_level\": false, \"bayes_factor\": 191.02333180191164, \"log2_bayes_factor\": 7.577605051172676, \"comparison_vector_value\": 2, \"max_comparison_vector_value\": 2, \"bayes_factor_description\": \"If comparison level is `exact match` then comparison is 191.02 times more likely to be a match\", \"probability_two_random_records_match\": 0.006617568629943289, \"comparison_sort_order\": 5, \"iteration\": 3}, {\"comparison_name\": \"geokey\", \"sql_condition\": \"jaro_winkler(`geokey_l`, `geokey_r`) >= 0.7222222222222222\", \"label_for_charts\": \"Jaro_winkler >= 0.7222222222222222\", \"m_probability\": 0.442335581808489, \"u_probability\": 0.35828043566803447, \"m_probability_description\": \"Amongst matching record comparisons, 44.23% of records are in the jaro_winkler >= 0.7222222222222222 comparison level\", \"u_probability_description\": \"Amongst non-matching record comparisons, 35.83% of records are in the jaro_winkler >= 0.7222222222222222 comparison level\", \"has_tf_adjustments\": false, \"tf_adjustment_column\": null, \"tf_adjustment_weight\": 1.0, \"is_null_level\": false, \"bayes_factor\": 1.2346071338886502, \"log2_bayes_factor\": 0.30405203277359144, \"comparison_vector_value\": 1, \"max_comparison_vector_value\": 2, \"bayes_factor_description\": \"If comparison level is `jaro_winkler >= 0.7222222222222222` then comparison is 1.23 times more likely to be a match\", \"probability_two_random_records_match\": 0.006617568629943289, \"comparison_sort_order\": 5, \"iteration\": 3}, {\"comparison_name\": \"geokey\", \"sql_condition\": \"ELSE\", \"label_for_charts\": \"All other comparisons\", \"m_probability\": 0.10992219657566725, \"u_probability\": 0.6393756505419991, \"m_probability_description\": \"Amongst matching record comparisons, 10.99% of records are in the all other comparisons comparison level\", \"u_probability_description\": \"Amongst non-matching record comparisons, 63.94% of records are in the all other comparisons comparison level\", \"has_tf_adjustments\": false, \"tf_adjustment_column\": null, \"tf_adjustment_weight\": 1.0, \"is_null_level\": false, \"bayes_factor\": 0.17192114914367812, \"log2_bayes_factor\": -2.5401810638125126, \"comparison_vector_value\": 0, \"max_comparison_vector_value\": 2, \"bayes_factor_description\": \"If comparison level is `all other comparisons` then comparison is  5.82 times less likely to be a match\", \"probability_two_random_records_match\": 0.006617568629943289, \"comparison_sort_order\": 5, \"iteration\": 3}, {\"comparison_name\": \"probability_two_random_records_match\", \"sql_condition\": null, \"label_for_charts\": \"\", \"m_probability\": null, \"u_probability\": null, \"m_probability_description\": null, \"u_probability_description\": null, \"has_tf_adjustments\": false, \"tf_adjustment_column\": null, \"tf_adjustment_weight\": null, \"is_null_level\": false, \"bayes_factor\": 0.006661652573034181, \"log2_bayes_factor\": -7.229904169951962, \"comparison_vector_value\": 0, \"max_comparison_vector_value\": 0, \"bayes_factor_description\": \"The probability that two random records drawn at random match is 0.007 or one in  151.1 records.This is equivalent to a starting match weight of -7.230.\", \"probability_two_random_records_match\": 0.006617568629943289, \"comparison_sort_order\": -1, \"iteration\": 4}, {\"comparison_name\": \"last_name_12\", \"sql_condition\": \"`last_name_12_l` = `last_name_12_r`\", \"label_for_charts\": \"Exact match\", \"m_probability\": 0.8807945410386163, \"u_probability\": 0.000677983558493214, \"m_probability_description\": \"Amongst matching record comparisons, 88.08% of records are in the exact match comparison level\", \"u_probability_description\": \"Amongst non-matching record comparisons, 0.07% of records are in the exact match comparison level\", \"has_tf_adjustments\": false, \"tf_adjustment_column\": null, \"tf_adjustment_weight\": 1.0, \"is_null_level\": false, \"bayes_factor\": 1299.1384968038753, \"log2_bayes_factor\": 10.343339524532782, \"comparison_vector_value\": 2, \"max_comparison_vector_value\": 2, \"bayes_factor_description\": \"If comparison level is `exact match` then comparison is 1,299.14 times more likely to be a match\", \"probability_two_random_records_match\": 0.006617568629943289, \"comparison_sort_order\": 0, \"iteration\": 4}, {\"comparison_name\": \"last_name_12\", \"sql_condition\": \"jaro_winkler(`last_name_12_l`, `last_name_12_r`) >= 0.8333333333333334\", \"label_for_charts\": \"Jaro_winkler >= 0.8333333333333334\", \"m_probability\": 0.09049207213338381, \"u_probability\": 0.001280545501029647, \"m_probability_description\": \"Amongst matching record comparisons, 9.05% of records are in the jaro_winkler >= 0.8333333333333334 comparison level\", \"u_probability_description\": \"Amongst non-matching record comparisons, 0.13% of records are in the jaro_winkler >= 0.8333333333333334 comparison level\", \"has_tf_adjustments\": false, \"tf_adjustment_column\": null, \"tf_adjustment_weight\": 1.0, \"is_null_level\": false, \"bayes_factor\": 70.66681508827445, \"log2_bayes_factor\": 6.14296098393958, \"comparison_vector_value\": 1, \"max_comparison_vector_value\": 2, \"bayes_factor_description\": \"If comparison level is `jaro_winkler >= 0.8333333333333334` then comparison is 70.67 times more likely to be a match\", \"probability_two_random_records_match\": 0.006617568629943289, \"comparison_sort_order\": 0, \"iteration\": 4}, {\"comparison_name\": \"last_name_12\", \"sql_condition\": \"ELSE\", \"label_for_charts\": \"All other comparisons\", \"m_probability\": 0.028713386827999822, \"u_probability\": 0.9980414709404771, \"m_probability_description\": \"Amongst matching record comparisons, 2.87% of records are in the all other comparisons comparison level\", \"u_probability_description\": \"Amongst non-matching record comparisons, 99.80% of records are in the all other comparisons comparison level\", \"has_tf_adjustments\": false, \"tf_adjustment_column\": null, \"tf_adjustment_weight\": 1.0, \"is_null_level\": false, \"bayes_factor\": 0.028769733186480264, \"log2_bayes_factor\": -5.1193043483404415, \"comparison_vector_value\": 0, \"max_comparison_vector_value\": 2, \"bayes_factor_description\": \"If comparison level is `all other comparisons` then comparison is  34.76 times less likely to be a match\", \"probability_two_random_records_match\": 0.006617568629943289, \"comparison_sort_order\": 0, \"iteration\": 4}, {\"comparison_name\": \"middle_initial\", \"sql_condition\": \"`middle_initial_l` = `middle_initial_r`\", \"label_for_charts\": \"Exact match\", \"m_probability\": 0.9418372338489539, \"u_probability\": 0.0738281151949889, \"m_probability_description\": \"Amongst matching record comparisons, 94.18% of records are in the exact match comparison level\", \"u_probability_description\": \"Amongst non-matching record comparisons, 7.38% of records are in the exact match comparison level\", \"has_tf_adjustments\": false, \"tf_adjustment_column\": null, \"tf_adjustment_weight\": 1.0, \"is_null_level\": false, \"bayes_factor\": 12.757162110416186, \"log2_bayes_factor\": 3.6732355255118323, \"comparison_vector_value\": 1, \"max_comparison_vector_value\": 1, \"bayes_factor_description\": \"If comparison level is `exact match` then comparison is 12.76 times more likely to be a match\", \"probability_two_random_records_match\": 0.006617568629943289, \"comparison_sort_order\": 1, \"iteration\": 4}, {\"comparison_name\": \"middle_initial\", \"sql_condition\": \"ELSE\", \"label_for_charts\": \"All other comparisons\", \"m_probability\": 0.05816276615104608, \"u_probability\": 0.9261718848050111, \"m_probability_description\": \"Amongst matching record comparisons, 5.82% of records are in the all other comparisons comparison level\", \"u_probability_description\": \"Amongst non-matching record comparisons, 92.62% of records are in the all other comparisons comparison level\", \"has_tf_adjustments\": false, \"tf_adjustment_column\": null, \"tf_adjustment_weight\": 1.0, \"is_null_level\": false, \"bayes_factor\": 0.06279910576565516, \"log2_bayes_factor\": -3.9931121739164204, \"comparison_vector_value\": 0, \"max_comparison_vector_value\": 1, \"bayes_factor_description\": \"If comparison level is `all other comparisons` then comparison is  15.92 times less likely to be a match\", \"probability_two_random_records_match\": 0.006617568629943289, \"comparison_sort_order\": 1, \"iteration\": 4}, {\"comparison_name\": \"day_of_birth\", \"sql_condition\": \"`day_of_birth_l` = `day_of_birth_r`\", \"label_for_charts\": \"Exact match\", \"m_probability\": 0.9727127626945018, \"u_probability\": 0.032431119048632266, \"m_probability_description\": \"Amongst matching record comparisons, 97.27% of records are in the exact match comparison level\", \"u_probability_description\": \"Amongst non-matching record comparisons, 3.24% of records are in the exact match comparison level\", \"has_tf_adjustments\": false, \"tf_adjustment_column\": null, \"tf_adjustment_weight\": 1.0, \"is_null_level\": false, \"bayes_factor\": 29.993191454043412, \"log2_bayes_factor\": 4.906563136598876, \"comparison_vector_value\": 2, \"max_comparison_vector_value\": 2, \"bayes_factor_description\": \"If comparison level is `exact match` then comparison is 29.99 times more likely to be a match\", \"probability_two_random_records_match\": 0.006617568629943289, \"comparison_sort_order\": 2, \"iteration\": 4}, {\"comparison_name\": \"day_of_birth\", \"sql_condition\": \"abs(day_of_birth_l - day_of_birth_r) <= 5\", \"label_for_charts\": \"Inexact match\", \"m_probability\": 0.01680150621262109, \"u_probability\": 0.29408973456130016, \"m_probability_description\": \"Amongst matching record comparisons, 1.68% of records are in the inexact match comparison level\", \"u_probability_description\": \"Amongst non-matching record comparisons, 29.41% of records are in the inexact match comparison level\", \"has_tf_adjustments\": false, \"tf_adjustment_column\": null, \"tf_adjustment_weight\": 1.0, \"is_null_level\": false, \"bayes_factor\": 0.05713054295378331, \"log2_bayes_factor\": -4.129593948790228, \"comparison_vector_value\": 1, \"max_comparison_vector_value\": 2, \"bayes_factor_description\": \"If comparison level is `inexact match` then comparison is  17.50 times less likely to be a match\", \"probability_two_random_records_match\": 0.006617568629943289, \"comparison_sort_order\": 2, \"iteration\": 4}, {\"comparison_name\": \"day_of_birth\", \"sql_condition\": \"ELSE\", \"label_for_charts\": \"All other comparisons\", \"m_probability\": 0.01048573109287704, \"u_probability\": 0.6734791463900676, \"m_probability_description\": \"Amongst matching record comparisons, 1.05% of records are in the all other comparisons comparison level\", \"u_probability_description\": \"Amongst non-matching record comparisons, 67.35% of records are in the all other comparisons comparison level\", \"has_tf_adjustments\": false, \"tf_adjustment_column\": null, \"tf_adjustment_weight\": 1.0, \"is_null_level\": false, \"bayes_factor\": 0.01556949632231654, \"log2_bayes_factor\": -6.00513391620233, \"comparison_vector_value\": 0, \"max_comparison_vector_value\": 2, \"bayes_factor_description\": \"If comparison level is `all other comparisons` then comparison is  64.23 times less likely to be a match\", \"probability_two_random_records_match\": 0.006617568629943289, \"comparison_sort_order\": 2, \"iteration\": 4}, {\"comparison_name\": \"month_of_birth\", \"sql_condition\": \"`month_of_birth_l` = `month_of_birth_r`\", \"label_for_charts\": \"Exact match\", \"m_probability\": 0.9805754963873535, \"u_probability\": 0.08338892953741671, \"m_probability_description\": \"Amongst matching record comparisons, 98.06% of records are in the exact match comparison level\", \"u_probability_description\": \"Amongst non-matching record comparisons, 8.34% of records are in the exact match comparison level\", \"has_tf_adjustments\": false, \"tf_adjustment_column\": null, \"tf_adjustment_weight\": 1.0, \"is_null_level\": false, \"bayes_factor\": 11.759060846888174, \"log2_bayes_factor\": 3.5557009368948425, \"comparison_vector_value\": 2, \"max_comparison_vector_value\": 2, \"bayes_factor_description\": \"If comparison level is `exact match` then comparison is 11.76 times more likely to be a match\", \"probability_two_random_records_match\": 0.006617568629943289, \"comparison_sort_order\": 3, \"iteration\": 4}, {\"comparison_name\": \"month_of_birth\", \"sql_condition\": \"abs(month_of_birth_l - month_of_birth_r) <= 3\", \"label_for_charts\": \"Inexact match\", \"m_probability\": 0.009802384182417813, \"u_probability\": 0.4136651580190546, \"m_probability_description\": \"Amongst matching record comparisons, 0.98% of records are in the inexact match comparison level\", \"u_probability_description\": \"Amongst non-matching record comparisons, 41.37% of records are in the inexact match comparison level\", \"has_tf_adjustments\": false, \"tf_adjustment_column\": null, \"tf_adjustment_weight\": 1.0, \"is_null_level\": false, \"bayes_factor\": 0.023696422075668955, \"log2_bayes_factor\": -5.399186946826877, \"comparison_vector_value\": 1, \"max_comparison_vector_value\": 2, \"bayes_factor_description\": \"If comparison level is `inexact match` then comparison is  42.20 times less likely to be a match\", \"probability_two_random_records_match\": 0.006617568629943289, \"comparison_sort_order\": 3, \"iteration\": 4}, {\"comparison_name\": \"month_of_birth\", \"sql_condition\": \"ELSE\", \"label_for_charts\": \"All other comparisons\", \"m_probability\": 0.00962211943022859, \"u_probability\": 0.5029459124435287, \"m_probability_description\": \"Amongst matching record comparisons, 0.96% of records are in the all other comparisons comparison level\", \"u_probability_description\": \"Amongst non-matching record comparisons, 50.29% of records are in the all other comparisons comparison level\", \"has_tf_adjustments\": false, \"tf_adjustment_column\": null, \"tf_adjustment_weight\": 1.0, \"is_null_level\": false, \"bayes_factor\": 0.01913151929892456, \"log2_bayes_factor\": -5.7079047422282185, \"comparison_vector_value\": 0, \"max_comparison_vector_value\": 2, \"bayes_factor_description\": \"If comparison level is `all other comparisons` then comparison is  52.27 times less likely to be a match\", \"probability_two_random_records_match\": 0.006617568629943289, \"comparison_sort_order\": 3, \"iteration\": 4}, {\"comparison_name\": \"year_of_birth\", \"sql_condition\": \"`year_of_birth_l` = `year_of_birth_r`\", \"label_for_charts\": \"Exact match\", \"m_probability\": 0.9683841999301742, \"u_probability\": 0.011194856230046568, \"m_probability_description\": \"Amongst matching record comparisons, 96.84% of records are in the exact match comparison level\", \"u_probability_description\": \"Amongst non-matching record comparisons, 1.12% of records are in the exact match comparison level\", \"has_tf_adjustments\": false, \"tf_adjustment_column\": null, \"tf_adjustment_weight\": 1.0, \"is_null_level\": false, \"bayes_factor\": 86.50260262664811, \"log2_bayes_factor\": 6.434671635036403, \"comparison_vector_value\": 2, \"max_comparison_vector_value\": 2, \"bayes_factor_description\": \"If comparison level is `exact match` then comparison is 86.50 times more likely to be a match\", \"probability_two_random_records_match\": 0.006617568629943289, \"comparison_sort_order\": 4, \"iteration\": 4}, {\"comparison_name\": \"year_of_birth\", \"sql_condition\": \"abs(year_of_birth_l - year_of_birth_r) <= 5\", \"label_for_charts\": \"Inexact match\", \"m_probability\": 0.01039074220367758, \"u_probability\": 0.11039918989695713, \"m_probability_description\": \"Amongst matching record comparisons, 1.04% of records are in the inexact match comparison level\", \"u_probability_description\": \"Amongst non-matching record comparisons, 11.04% of records are in the inexact match comparison level\", \"has_tf_adjustments\": false, \"tf_adjustment_column\": null, \"tf_adjustment_weight\": 1.0, \"is_null_level\": false, \"bayes_factor\": 0.09411973234020962, \"log2_bayes_factor\": -3.409358971974959, \"comparison_vector_value\": 1, \"max_comparison_vector_value\": 2, \"bayes_factor_description\": \"If comparison level is `inexact match` then comparison is  10.62 times less likely to be a match\", \"probability_two_random_records_match\": 0.006617568629943289, \"comparison_sort_order\": 4, \"iteration\": 4}, {\"comparison_name\": \"year_of_birth\", \"sql_condition\": \"ELSE\", \"label_for_charts\": \"All other comparisons\", \"m_probability\": 0.021225057866148214, \"u_probability\": 0.8784059538729964, \"m_probability_description\": \"Amongst matching record comparisons, 2.12% of records are in the all other comparisons comparison level\", \"u_probability_description\": \"Amongst non-matching record comparisons, 87.84% of records are in the all other comparisons comparison level\", \"has_tf_adjustments\": false, \"tf_adjustment_column\": null, \"tf_adjustment_weight\": 1.0, \"is_null_level\": false, \"bayes_factor\": 0.024163153462888554, \"log2_bayes_factor\": -5.371047440890376, \"comparison_vector_value\": 0, \"max_comparison_vector_value\": 2, \"bayes_factor_description\": \"If comparison level is `all other comparisons` then comparison is  41.39 times less likely to be a match\", \"probability_two_random_records_match\": 0.006617568629943289, \"comparison_sort_order\": 4, \"iteration\": 4}, {\"comparison_name\": \"geokey\", \"sql_condition\": \"`geokey_l` = `geokey_r`\", \"label_for_charts\": \"Exact match\", \"m_probability\": 0.44772239498893, \"u_probability\": 0.0023439137899664837, \"m_probability_description\": \"Amongst matching record comparisons, 44.77% of records are in the exact match comparison level\", \"u_probability_description\": \"Amongst non-matching record comparisons, 0.23% of records are in the exact match comparison level\", \"has_tf_adjustments\": false, \"tf_adjustment_column\": null, \"tf_adjustment_weight\": 1.0, \"is_null_level\": false, \"bayes_factor\": 191.01487303222535, \"log2_bayes_factor\": 7.577541165284165, \"comparison_vector_value\": 2, \"max_comparison_vector_value\": 2, \"bayes_factor_description\": \"If comparison level is `exact match` then comparison is 191.01 times more likely to be a match\", \"probability_two_random_records_match\": 0.006617568629943289, \"comparison_sort_order\": 5, \"iteration\": 4}, {\"comparison_name\": \"geokey\", \"sql_condition\": \"jaro_winkler(`geokey_l`, `geokey_r`) >= 0.7222222222222222\", \"label_for_charts\": \"Jaro_winkler >= 0.7222222222222222\", \"m_probability\": 0.44235039415664495, \"u_probability\": 0.35828043566803447, \"m_probability_description\": \"Amongst matching record comparisons, 44.24% of records are in the jaro_winkler >= 0.7222222222222222 comparison level\", \"u_probability_description\": \"Amongst non-matching record comparisons, 35.83% of records are in the jaro_winkler >= 0.7222222222222222 comparison level\", \"has_tf_adjustments\": false, \"tf_adjustment_column\": null, \"tf_adjustment_weight\": 1.0, \"is_null_level\": false, \"bayes_factor\": 1.2346484767772965, \"log2_bayes_factor\": 0.3041003430256156, \"comparison_vector_value\": 1, \"max_comparison_vector_value\": 2, \"bayes_factor_description\": \"If comparison level is `jaro_winkler >= 0.7222222222222222` then comparison is 1.23 times more likely to be a match\", \"probability_two_random_records_match\": 0.006617568629943289, \"comparison_sort_order\": 5, \"iteration\": 4}, {\"comparison_name\": \"geokey\", \"sql_condition\": \"ELSE\", \"label_for_charts\": \"All other comparisons\", \"m_probability\": 0.10992721085442507, \"u_probability\": 0.6393756505419991, \"m_probability_description\": \"Amongst matching record comparisons, 10.99% of records are in the all other comparisons comparison level\", \"u_probability_description\": \"Amongst non-matching record comparisons, 63.94% of records are in the all other comparisons comparison level\", \"has_tf_adjustments\": false, \"tf_adjustment_column\": null, \"tf_adjustment_weight\": 1.0, \"is_null_level\": false, \"bayes_factor\": 0.17192899160491915, \"log2_bayes_factor\": -2.5401152544461523, \"comparison_vector_value\": 0, \"max_comparison_vector_value\": 2, \"bayes_factor_description\": \"If comparison level is `all other comparisons` then comparison is  5.82 times less likely to be a match\", \"probability_two_random_records_match\": 0.006617568629943289, \"comparison_sort_order\": 5, \"iteration\": 4}, {\"comparison_name\": \"probability_two_random_records_match\", \"sql_condition\": null, \"label_for_charts\": \"\", \"m_probability\": null, \"u_probability\": null, \"m_probability_description\": null, \"u_probability_description\": null, \"has_tf_adjustments\": false, \"tf_adjustment_column\": null, \"tf_adjustment_weight\": null, \"is_null_level\": false, \"bayes_factor\": 0.006661652573034181, \"log2_bayes_factor\": -7.229904169951962, \"comparison_vector_value\": 0, \"max_comparison_vector_value\": 0, \"bayes_factor_description\": \"The probability that two random records drawn at random match is 0.007 or one in  151.1 records.This is equivalent to a starting match weight of -7.230.\", \"probability_two_random_records_match\": 0.006617568629943289, \"comparison_sort_order\": -1, \"iteration\": 5}, {\"comparison_name\": \"last_name_12\", \"sql_condition\": \"`last_name_12_l` = `last_name_12_r`\", \"label_for_charts\": \"Exact match\", \"m_probability\": 0.8807909842676699, \"u_probability\": 0.000677983558493214, \"m_probability_description\": \"Amongst matching record comparisons, 88.08% of records are in the exact match comparison level\", \"u_probability_description\": \"Amongst non-matching record comparisons, 0.07% of records are in the exact match comparison level\", \"has_tf_adjustments\": false, \"tf_adjustment_column\": null, \"tf_adjustment_weight\": 1.0, \"is_null_level\": false, \"bayes_factor\": 1299.13325070181, \"log2_bayes_factor\": 10.343333698717649, \"comparison_vector_value\": 2, \"max_comparison_vector_value\": 2, \"bayes_factor_description\": \"If comparison level is `exact match` then comparison is 1,299.13 times more likely to be a match\", \"probability_two_random_records_match\": 0.006617568629943289, \"comparison_sort_order\": 0, \"iteration\": 5}, {\"comparison_name\": \"last_name_12\", \"sql_condition\": \"jaro_winkler(`last_name_12_l`, `last_name_12_r`) >= 0.8333333333333334\", \"label_for_charts\": \"Jaro_winkler >= 0.8333333333333334\", \"m_probability\": 0.09049331572999735, \"u_probability\": 0.001280545501029647, \"m_probability_description\": \"Amongst matching record comparisons, 9.05% of records are in the jaro_winkler >= 0.8333333333333334 comparison level\", \"u_probability_description\": \"Amongst non-matching record comparisons, 0.13% of records are in the jaro_winkler >= 0.8333333333333334 comparison level\", \"has_tf_adjustments\": false, \"tf_adjustment_column\": null, \"tf_adjustment_weight\": 1.0, \"is_null_level\": false, \"bayes_factor\": 70.66778623425289, \"log2_bayes_factor\": 6.142980810188411, \"comparison_vector_value\": 1, \"max_comparison_vector_value\": 2, \"bayes_factor_description\": \"If comparison level is `jaro_winkler >= 0.8333333333333334` then comparison is 70.67 times more likely to be a match\", \"probability_two_random_records_match\": 0.006617568629943289, \"comparison_sort_order\": 0, \"iteration\": 5}, {\"comparison_name\": \"last_name_12\", \"sql_condition\": \"ELSE\", \"label_for_charts\": \"All other comparisons\", \"m_probability\": 0.028715700002332797, \"u_probability\": 0.9980414709404771, \"m_probability_description\": \"Amongst matching record comparisons, 2.87% of records are in the all other comparisons comparison level\", \"u_probability_description\": \"Amongst non-matching record comparisons, 99.80% of records are in the all other comparisons comparison level\", \"has_tf_adjustments\": false, \"tf_adjustment_column\": null, \"tf_adjustment_weight\": 1.0, \"is_null_level\": false, \"bayes_factor\": 0.028772050900122758, \"log2_bayes_factor\": -5.119188128308925, \"comparison_vector_value\": 0, \"max_comparison_vector_value\": 2, \"bayes_factor_description\": \"If comparison level is `all other comparisons` then comparison is  34.76 times less likely to be a match\", \"probability_two_random_records_match\": 0.006617568629943289, \"comparison_sort_order\": 0, \"iteration\": 5}, {\"comparison_name\": \"middle_initial\", \"sql_condition\": \"`middle_initial_l` = `middle_initial_r`\", \"label_for_charts\": \"Exact match\", \"m_probability\": 0.9418359171906943, \"u_probability\": 0.0738281151949889, \"m_probability_description\": \"Amongst matching record comparisons, 94.18% of records are in the exact match comparison level\", \"u_probability_description\": \"Amongst non-matching record comparisons, 7.38% of records are in the exact match comparison level\", \"has_tf_adjustments\": false, \"tf_adjustment_column\": null, \"tf_adjustment_weight\": 1.0, \"is_null_level\": false, \"bayes_factor\": 12.757144276312523, \"log2_bayes_factor\": 3.6732335086690053, \"comparison_vector_value\": 1, \"max_comparison_vector_value\": 1, \"bayes_factor_description\": \"If comparison level is `exact match` then comparison is 12.76 times more likely to be a match\", \"probability_two_random_records_match\": 0.006617568629943289, \"comparison_sort_order\": 1, \"iteration\": 5}, {\"comparison_name\": \"middle_initial\", \"sql_condition\": \"ELSE\", \"label_for_charts\": \"All other comparisons\", \"m_probability\": 0.058164082809305705, \"u_probability\": 0.9261718848050111, \"m_probability_description\": \"Amongst matching record comparisons, 5.82% of records are in the all other comparisons comparison level\", \"u_probability_description\": \"Amongst non-matching record comparisons, 92.62% of records are in the all other comparisons comparison level\", \"has_tf_adjustments\": false, \"tf_adjustment_column\": null, \"tf_adjustment_weight\": 1.0, \"is_null_level\": false, \"bayes_factor\": 0.06280052737894447, \"log2_bayes_factor\": -3.9930795153107974, \"comparison_vector_value\": 0, \"max_comparison_vector_value\": 1, \"bayes_factor_description\": \"If comparison level is `all other comparisons` then comparison is  15.92 times less likely to be a match\", \"probability_two_random_records_match\": 0.006617568629943289, \"comparison_sort_order\": 1, \"iteration\": 5}, {\"comparison_name\": \"day_of_birth\", \"sql_condition\": \"`day_of_birth_l` = `day_of_birth_r`\", \"label_for_charts\": \"Exact match\", \"m_probability\": 0.972749886073781, \"u_probability\": 0.032431119048632266, \"m_probability_description\": \"Amongst matching record comparisons, 97.27% of records are in the exact match comparison level\", \"u_probability_description\": \"Amongst non-matching record comparisons, 3.24% of records are in the exact match comparison level\", \"has_tf_adjustments\": false, \"tf_adjustment_column\": null, \"tf_adjustment_weight\": 1.0, \"is_null_level\": false, \"bayes_factor\": 29.994336137926307, \"log2_bayes_factor\": 4.906618195702918, \"comparison_vector_value\": 2, \"max_comparison_vector_value\": 2, \"bayes_factor_description\": \"If comparison level is `exact match` then comparison is 29.99 times more likely to be a match\", \"probability_two_random_records_match\": 0.006617568629943289, \"comparison_sort_order\": 2, \"iteration\": 5}, {\"comparison_name\": \"day_of_birth\", \"sql_condition\": \"abs(day_of_birth_l - day_of_birth_r) <= 5\", \"label_for_charts\": \"Inexact match\", \"m_probability\": 0.016793513960025486, \"u_probability\": 0.29408973456130016, \"m_probability_description\": \"Amongst matching record comparisons, 1.68% of records are in the inexact match comparison level\", \"u_probability_description\": \"Amongst non-matching record comparisons, 29.41% of records are in the inexact match comparison level\", \"has_tf_adjustments\": false, \"tf_adjustment_column\": null, \"tf_adjustment_weight\": 1.0, \"is_null_level\": false, \"bayes_factor\": 0.057103366715865564, \"log2_bayes_factor\": -4.1302803828714385, \"comparison_vector_value\": 1, \"max_comparison_vector_value\": 2, \"bayes_factor_description\": \"If comparison level is `inexact match` then comparison is  17.51 times less likely to be a match\", \"probability_two_random_records_match\": 0.006617568629943289, \"comparison_sort_order\": 2, \"iteration\": 5}, {\"comparison_name\": \"day_of_birth\", \"sql_condition\": \"ELSE\", \"label_for_charts\": \"All other comparisons\", \"m_probability\": 0.010456599966193535, \"u_probability\": 0.6734791463900676, \"m_probability_description\": \"Amongst matching record comparisons, 1.05% of records are in the all other comparisons comparison level\", \"u_probability_description\": \"Amongst non-matching record comparisons, 67.35% of records are in the all other comparisons comparison level\", \"has_tf_adjustments\": false, \"tf_adjustment_column\": null, \"tf_adjustment_weight\": 1.0, \"is_null_level\": false, \"bayes_factor\": 0.01552624163976304, \"log2_bayes_factor\": -6.0091475438152155, \"comparison_vector_value\": 0, \"max_comparison_vector_value\": 2, \"bayes_factor_description\": \"If comparison level is `all other comparisons` then comparison is  64.41 times less likely to be a match\", \"probability_two_random_records_match\": 0.006617568629943289, \"comparison_sort_order\": 2, \"iteration\": 5}, {\"comparison_name\": \"month_of_birth\", \"sql_condition\": \"`month_of_birth_l` = `month_of_birth_r`\", \"label_for_charts\": \"Exact match\", \"m_probability\": 0.9806097197761042, \"u_probability\": 0.08338892953741671, \"m_probability_description\": \"Amongst matching record comparisons, 98.06% of records are in the exact match comparison level\", \"u_probability_description\": \"Amongst non-matching record comparisons, 8.34% of records are in the exact match comparison level\", \"has_tf_adjustments\": false, \"tf_adjustment_column\": null, \"tf_adjustment_weight\": 1.0, \"is_null_level\": false, \"bayes_factor\": 11.75947125374842, \"log2_bayes_factor\": 3.555751287991548, \"comparison_vector_value\": 2, \"max_comparison_vector_value\": 2, \"bayes_factor_description\": \"If comparison level is `exact match` then comparison is 11.76 times more likely to be a match\", \"probability_two_random_records_match\": 0.006617568629943289, \"comparison_sort_order\": 3, \"iteration\": 5}, {\"comparison_name\": \"month_of_birth\", \"sql_condition\": \"abs(month_of_birth_l - month_of_birth_r) <= 3\", \"label_for_charts\": \"Inexact match\", \"m_probability\": 0.00978373531114558, \"u_probability\": 0.4136651580190546, \"m_probability_description\": \"Amongst matching record comparisons, 0.98% of records are in the inexact match comparison level\", \"u_probability_description\": \"Amongst non-matching record comparisons, 41.37% of records are in the inexact match comparison level\", \"has_tf_adjustments\": false, \"tf_adjustment_column\": null, \"tf_adjustment_weight\": 1.0, \"is_null_level\": false, \"bayes_factor\": 0.02365134003066053, \"log2_bayes_factor\": -5.401934264103473, \"comparison_vector_value\": 1, \"max_comparison_vector_value\": 2, \"bayes_factor_description\": \"If comparison level is `inexact match` then comparison is  42.28 times less likely to be a match\", \"probability_two_random_records_match\": 0.006617568629943289, \"comparison_sort_order\": 3, \"iteration\": 5}, {\"comparison_name\": \"month_of_birth\", \"sql_condition\": \"ELSE\", \"label_for_charts\": \"All other comparisons\", \"m_probability\": 0.009606544912750172, \"u_probability\": 0.5029459124435287, \"m_probability_description\": \"Amongst matching record comparisons, 0.96% of records are in the all other comparisons comparison level\", \"u_probability_description\": \"Amongst non-matching record comparisons, 50.29% of records are in the all other comparisons comparison level\", \"has_tf_adjustments\": false, \"tf_adjustment_column\": null, \"tf_adjustment_weight\": 1.0, \"is_null_level\": false, \"bayes_factor\": 0.019100552713665418, \"log2_bayes_factor\": -5.710241803569886, \"comparison_vector_value\": 0, \"max_comparison_vector_value\": 2, \"bayes_factor_description\": \"If comparison level is `all other comparisons` then comparison is  52.35 times less likely to be a match\", \"probability_two_random_records_match\": 0.006617568629943289, \"comparison_sort_order\": 3, \"iteration\": 5}, {\"comparison_name\": \"year_of_birth\", \"sql_condition\": \"`year_of_birth_l` = `year_of_birth_r`\", \"label_for_charts\": \"Exact match\", \"m_probability\": 0.9684224571557469, \"u_probability\": 0.011194856230046568, \"m_probability_description\": \"Amongst matching record comparisons, 96.84% of records are in the exact match comparison level\", \"u_probability_description\": \"Amongst non-matching record comparisons, 1.12% of records are in the exact match comparison level\", \"has_tf_adjustments\": false, \"tf_adjustment_column\": null, \"tf_adjustment_weight\": 1.0, \"is_null_level\": false, \"bayes_factor\": 86.50602001984964, \"log2_bayes_factor\": 6.434728629377492, \"comparison_vector_value\": 2, \"max_comparison_vector_value\": 2, \"bayes_factor_description\": \"If comparison level is `exact match` then comparison is 86.51 times more likely to be a match\", \"probability_two_random_records_match\": 0.006617568629943289, \"comparison_sort_order\": 4, \"iteration\": 5}, {\"comparison_name\": \"year_of_birth\", \"sql_condition\": \"abs(year_of_birth_l - year_of_birth_r) <= 5\", \"label_for_charts\": \"Inexact match\", \"m_probability\": 0.010380470108146697, \"u_probability\": 0.11039918989695713, \"m_probability_description\": \"Amongst matching record comparisons, 1.04% of records are in the inexact match comparison level\", \"u_probability_description\": \"Amongst non-matching record comparisons, 11.04% of records are in the inexact match comparison level\", \"has_tf_adjustments\": false, \"tf_adjustment_column\": null, \"tf_adjustment_weight\": 1.0, \"is_null_level\": false, \"bayes_factor\": 0.09402668731387864, \"log2_bayes_factor\": -3.410785899038009, \"comparison_vector_value\": 1, \"max_comparison_vector_value\": 2, \"bayes_factor_description\": \"If comparison level is `inexact match` then comparison is  10.64 times less likely to be a match\", \"probability_two_random_records_match\": 0.006617568629943289, \"comparison_sort_order\": 4, \"iteration\": 5}, {\"comparison_name\": \"year_of_birth\", \"sql_condition\": \"ELSE\", \"label_for_charts\": \"All other comparisons\", \"m_probability\": 0.02119707273610636, \"u_probability\": 0.8784059538729964, \"m_probability_description\": \"Amongst matching record comparisons, 2.12% of records are in the all other comparisons comparison level\", \"u_probability_description\": \"Amongst non-matching record comparisons, 87.84% of records are in the all other comparisons comparison level\", \"has_tf_adjustments\": false, \"tf_adjustment_column\": null, \"tf_adjustment_weight\": 1.0, \"is_null_level\": false, \"bayes_factor\": 0.024131294468856847, \"log2_bayes_factor\": -5.372950882024214, \"comparison_vector_value\": 0, \"max_comparison_vector_value\": 2, \"bayes_factor_description\": \"If comparison level is `all other comparisons` then comparison is  41.44 times less likely to be a match\", \"probability_two_random_records_match\": 0.006617568629943289, \"comparison_sort_order\": 4, \"iteration\": 5}, {\"comparison_name\": \"geokey\", \"sql_condition\": \"`geokey_l` = `geokey_r`\", \"label_for_charts\": \"Exact match\", \"m_probability\": 0.4477188049686641, \"u_probability\": 0.0023439137899664837, \"m_probability_description\": \"Amongst matching record comparisons, 44.77% of records are in the exact match comparison level\", \"u_probability_description\": \"Amongst non-matching record comparisons, 0.23% of records are in the exact match comparison level\", \"has_tf_adjustments\": false, \"tf_adjustment_column\": null, \"tf_adjustment_weight\": 1.0, \"is_null_level\": false, \"bayes_factor\": 191.01334139728158, \"log2_bayes_factor\": 7.577529597122158, \"comparison_vector_value\": 2, \"max_comparison_vector_value\": 2, \"bayes_factor_description\": \"If comparison level is `exact match` then comparison is 191.01 times more likely to be a match\", \"probability_two_random_records_match\": 0.006617568629943289, \"comparison_sort_order\": 5, \"iteration\": 5}, {\"comparison_name\": \"geokey\", \"sql_condition\": \"jaro_winkler(`geokey_l`, `geokey_r`) >= 0.7222222222222222\", \"label_for_charts\": \"Jaro_winkler >= 0.7222222222222222\", \"m_probability\": 0.4423537062458611, \"u_probability\": 0.35828043566803447, \"m_probability_description\": \"Amongst matching record comparisons, 44.24% of records are in the jaro_winkler >= 0.7222222222222222 comparison level\", \"u_probability_description\": \"Amongst non-matching record comparisons, 35.83% of records are in the jaro_winkler >= 0.7222222222222222 comparison level\", \"has_tf_adjustments\": false, \"tf_adjustment_column\": null, \"tf_adjustment_weight\": 1.0, \"is_null_level\": false, \"bayes_factor\": 1.2346577211816414, \"log2_bayes_factor\": 0.30411114513376686, \"comparison_vector_value\": 1, \"max_comparison_vector_value\": 2, \"bayes_factor_description\": \"If comparison level is `jaro_winkler >= 0.7222222222222222` then comparison is 1.23 times more likely to be a match\", \"probability_two_random_records_match\": 0.006617568629943289, \"comparison_sort_order\": 5, \"iteration\": 5}, {\"comparison_name\": \"geokey\", \"sql_condition\": \"ELSE\", \"label_for_charts\": \"All other comparisons\", \"m_probability\": 0.10992748878547479, \"u_probability\": 0.6393756505419991, \"m_probability_description\": \"Amongst matching record comparisons, 10.99% of records are in the all other comparisons comparison level\", \"u_probability_description\": \"Amongst non-matching record comparisons, 63.94% of records are in the all other comparisons comparison level\", \"has_tf_adjustments\": false, \"tf_adjustment_column\": null, \"tf_adjustment_weight\": 1.0, \"is_null_level\": false, \"bayes_factor\": 0.17192942629624572, \"log2_bayes_factor\": -2.5401116068575607, \"comparison_vector_value\": 0, \"max_comparison_vector_value\": 2, \"bayes_factor_description\": \"If comparison level is `all other comparisons` then comparison is  5.82 times less likely to be a match\", \"probability_two_random_records_match\": 0.006617568629943289, \"comparison_sort_order\": 5, \"iteration\": 5}]}}, {\"mode\": \"vega-lite\"});\n",
       "</script>"
      ],
      "text/plain": [
       "alt.VConcatChart(...)"
      ]
     },
     "execution_count": 58,
     "metadata": {},
     "output_type": "execute_result"
    }
   ],
   "source": [
    "em_session_1.match_weights_interactive_history_chart()"
   ]
  },
  {
   "cell_type": "code",
   "execution_count": 59,
   "id": "71478531-8837-48f4-8748-a65c5d8fa7cd",
   "metadata": {
    "execution": {
     "iopub.execute_input": "2024-02-12T19:33:02.688658Z",
     "iopub.status.busy": "2024-02-12T19:33:02.688310Z",
     "iopub.status.idle": "2024-02-12T19:33:16.664842Z",
     "shell.execute_reply": "2024-02-12T19:33:16.664368Z"
    },
    "papermill": {
     "duration": 14.006178,
     "end_time": "2024-02-12T19:33:16.666083",
     "exception": false,
     "start_time": "2024-02-12T19:33:02.659905",
     "status": "completed"
    },
    "tags": []
   },
   "outputs": [
    {
     "name": "stderr",
     "output_type": "stream",
     "text": [
      "\n",
      "----- Starting EM training session -----\n",
      "\n"
     ]
    },
    {
     "name": "stderr",
     "output_type": "stream",
     "text": [
      "Estimating the m probabilities of the model by blocking on:\n",
      "l.geokey = r.geokey\n",
      "\n",
      "Parameter estimates will be made for the following comparison(s):\n",
      "    - first_name_15\n",
      "    - last_name_12\n",
      "    - middle_initial\n",
      "    - day_of_birth\n",
      "    - month_of_birth\n",
      "    - year_of_birth\n",
      "\n",
      "Parameter estimates cannot be made for the following comparison(s) since they are used in the blocking rules: \n",
      "    - geokey\n"
     ]
    },
    {
     "name": "stderr",
     "output_type": "stream",
     "text": [
      "\r",
      "[Stage 130:>                                                      (0 + 10) / 10]\r",
      "\r",
      "[Stage 130:==================================================>     (9 + 1) / 10]\r"
     ]
    },
    {
     "name": "stderr",
     "output_type": "stream",
     "text": [
      "\r",
      "                                                                                \r"
     ]
    },
    {
     "name": "stderr",
     "output_type": "stream",
     "text": [
      "24/02/12 19:33:05 WARN DataSource: All paths were ignored:\n",
      "  file:/ihme/homes/zmbc/src/vivarium_research_prl/linkage/person_linkage_case_study/output/small_sample/tmpCheckpoints/2018ac72-63d3-463e-bac8-b54c65966a4a/__splink__df_comparison_vectors_33e959b3c\n"
     ]
    },
    {
     "name": "stderr",
     "output_type": "stream",
     "text": [
      "\n"
     ]
    },
    {
     "name": "stderr",
     "output_type": "stream",
     "text": [
      "\r",
      "[Stage 140:>                                                      (0 + 15) / 38]\r",
      "\r",
      "[Stage 140:=============> (33 + 5) / 38][Stage 141:>              (0 + 10) / 38]\r"
     ]
    },
    {
     "name": "stderr",
     "output_type": "stream",
     "text": [
      "\r",
      "                                                                                \r",
      "Iteration 1: Largest change in params was -0.1 in the m_probability of first_name_15, level `Exact match`\n"
     ]
    },
    {
     "name": "stderr",
     "output_type": "stream",
     "text": [
      "Iteration 2: Largest change in params was -0.00675 in the m_probability of first_name_15, level `Exact match`\n"
     ]
    },
    {
     "name": "stderr",
     "output_type": "stream",
     "text": [
      "\r",
      "[Stage 168:========>     (23 + 15) / 38][Stage 169:>               (0 + 0) / 38]\r",
      "\r",
      "[Stage 169:(21 + 15) / 38][Stage 170:> (0 + 0) / 38][Stage 171:> (0 + 0) / 38]\r"
     ]
    },
    {
     "name": "stderr",
     "output_type": "stream",
     "text": [
      "\r",
      "[Stage 170:=======>      (21 + 16) / 38][Stage 171:>               (0 + 0) / 38]\r"
     ]
    },
    {
     "name": "stderr",
     "output_type": "stream",
     "text": [
      "\r",
      "                                                                                \r",
      "Iteration 3: Largest change in params was 0.00101 in the m_probability of first_name_15, level `All other comparisons`\n"
     ]
    },
    {
     "name": "stderr",
     "output_type": "stream",
     "text": [
      "\r",
      "[Stage 184:>                                                      (0 + 15) / 38]\r",
      "\r",
      "[Stage 185:>              (0 + 15) / 38][Stage 186:>               (0 + 0) / 38]\r"
     ]
    },
    {
     "name": "stderr",
     "output_type": "stream",
     "text": [
      "\r",
      "[Stage 186:==========>                                            (7 + 15) / 38]\r"
     ]
    },
    {
     "name": "stderr",
     "output_type": "stream",
     "text": [
      "\r",
      "                                                                                \r",
      "Iteration 4: Largest change in params was -0.000204 in the m_probability of day_of_birth, level `Exact match`\n"
     ]
    },
    {
     "name": "stderr",
     "output_type": "stream",
     "text": [
      "\r",
      "[Stage 198:=================================================>     (34 + 4) / 38]\r",
      "\r",
      "[Stage 199:>(37 + 1) / 38][Stage 200:>(0 + 14) / 38][Stage 201:> (0 + 0) / 38]\r"
     ]
    },
    {
     "name": "stderr",
     "output_type": "stream",
     "text": [
      "\r",
      "[Stage 201:>                                                      (0 + 15) / 38]\r"
     ]
    },
    {
     "name": "stderr",
     "output_type": "stream",
     "text": [
      "\r",
      "                                                                                \r",
      "Iteration 5: Largest change in params was -7.69e-05 in the m_probability of day_of_birth, level `Exact match`\n"
     ]
    },
    {
     "name": "stderr",
     "output_type": "stream",
     "text": [
      "\n",
      "EM converged after 5 iterations\n"
     ]
    },
    {
     "name": "stderr",
     "output_type": "stream",
     "text": [
      "\n",
      "Your model is fully trained. All comparisons have at least one estimate for their m and u values\n"
     ]
    }
   ],
   "source": [
    "blocking_rule_for_training = \"l.geokey = r.geokey\"\n",
    "em_session_2 = linker.estimate_parameters_using_expectation_maximisation(\n",
    "    blocking_rule_for_training,\n",
    "    # Fix lambda; u is fixed by default\n",
    "    fix_probability_two_random_records_match=True,\n",
    ")"
   ]
  },
  {
   "cell_type": "code",
   "execution_count": 60,
   "id": "750d48f3-7f15-40de-aa1a-78d4ed42371f",
   "metadata": {
    "execution": {
     "iopub.execute_input": "2024-02-12T19:33:16.726840Z",
     "iopub.status.busy": "2024-02-12T19:33:16.726307Z",
     "iopub.status.idle": "2024-02-12T19:33:18.619103Z",
     "shell.execute_reply": "2024-02-12T19:33:18.618153Z"
    },
    "papermill": {
     "duration": 1.923622,
     "end_time": "2024-02-12T19:33:18.620285",
     "exception": false,
     "start_time": "2024-02-12T19:33:16.696663",
     "status": "completed"
    },
    "tags": []
   },
   "outputs": [
    {
     "data": {
      "text/html": [
       "\n",
       "<style>\n",
       "  #altair-viz-b37d7e0bb69f4a55875e6ac5996413cd.vega-embed {\n",
       "    width: 100%;\n",
       "    display: flex;\n",
       "  }\n",
       "\n",
       "  #altair-viz-b37d7e0bb69f4a55875e6ac5996413cd.vega-embed details,\n",
       "  #altair-viz-b37d7e0bb69f4a55875e6ac5996413cd.vega-embed details summary {\n",
       "    position: relative;\n",
       "  }\n",
       "</style>\n",
       "<div id=\"altair-viz-b37d7e0bb69f4a55875e6ac5996413cd\"></div>\n",
       "<script type=\"text/javascript\">\n",
       "  var VEGA_DEBUG = (typeof VEGA_DEBUG == \"undefined\") ? {} : VEGA_DEBUG;\n",
       "  (function(spec, embedOpt){\n",
       "    let outputDiv = document.currentScript.previousElementSibling;\n",
       "    if (outputDiv.id !== \"altair-viz-b37d7e0bb69f4a55875e6ac5996413cd\") {\n",
       "      outputDiv = document.getElementById(\"altair-viz-b37d7e0bb69f4a55875e6ac5996413cd\");\n",
       "    }\n",
       "    const paths = {\n",
       "      \"vega\": \"https://cdn.jsdelivr.net/npm/vega@5?noext\",\n",
       "      \"vega-lib\": \"https://cdn.jsdelivr.net/npm/vega-lib?noext\",\n",
       "      \"vega-lite\": \"https://cdn.jsdelivr.net/npm/vega-lite@5.15.1?noext\",\n",
       "      \"vega-embed\": \"https://cdn.jsdelivr.net/npm/vega-embed@6?noext\",\n",
       "    };\n",
       "\n",
       "    function maybeLoadScript(lib, version) {\n",
       "      var key = `${lib.replace(\"-\", \"\")}_version`;\n",
       "      return (VEGA_DEBUG[key] == version) ?\n",
       "        Promise.resolve(paths[lib]) :\n",
       "        new Promise(function(resolve, reject) {\n",
       "          var s = document.createElement('script');\n",
       "          document.getElementsByTagName(\"head\")[0].appendChild(s);\n",
       "          s.async = true;\n",
       "          s.onload = () => {\n",
       "            VEGA_DEBUG[key] = version;\n",
       "            return resolve(paths[lib]);\n",
       "          };\n",
       "          s.onerror = () => reject(`Error loading script: ${paths[lib]}`);\n",
       "          s.src = paths[lib];\n",
       "        });\n",
       "    }\n",
       "\n",
       "    function showError(err) {\n",
       "      outputDiv.innerHTML = `<div class=\"error\" style=\"color:red;\">${err}</div>`;\n",
       "      throw err;\n",
       "    }\n",
       "\n",
       "    function displayChart(vegaEmbed) {\n",
       "      vegaEmbed(outputDiv, spec, embedOpt)\n",
       "        .catch(err => showError(`Javascript Error: ${err.message}<br>This usually means there's a typo in your chart specification. See the javascript console for the full traceback.`));\n",
       "    }\n",
       "\n",
       "    if(typeof define === \"function\" && define.amd) {\n",
       "      requirejs.config({paths});\n",
       "      require([\"vega-embed\"], displayChart, err => showError(`Error loading script: ${err.message}`));\n",
       "    } else {\n",
       "      maybeLoadScript(\"vega\", \"5\")\n",
       "        .then(() => maybeLoadScript(\"vega-lite\", \"5.15.1\"))\n",
       "        .then(() => maybeLoadScript(\"vega-embed\", \"6\"))\n",
       "        .catch(showError)\n",
       "        .then(() => displayChart(vegaEmbed));\n",
       "    }\n",
       "  })({\"config\": {\"view\": {\"continuousWidth\": 300, \"continuousHeight\": 300, \"discreteHeight\": 300, \"discreteWidth\": 400}, \"header\": {\"title\": null}, \"title\": {\"anchor\": \"middle\", \"offset\": 10}}, \"hconcat\": [{\"mark\": \"bar\", \"encoding\": {\"color\": {\"value\": \"green\"}, \"row\": {\"field\": \"comparison_name\", \"header\": {\"labelAlign\": \"left\", \"labelAnchor\": \"middle\", \"labelAngle\": 0}, \"sort\": {\"field\": \"comparison_sort_order\"}, \"type\": \"nominal\"}, \"tooltip\": [{\"field\": \"m_probability_description\", \"title\": \"m probability description\", \"type\": \"nominal\"}, {\"field\": \"comparison_name\", \"title\": \"Comparison column name\", \"type\": \"nominal\"}, {\"field\": \"label_for_charts\", \"title\": \"Label\", \"type\": \"ordinal\"}, {\"field\": \"sql_condition\", \"title\": \"SQL condition\", \"type\": \"nominal\"}, {\"field\": \"m_probability\", \"format\": \".4p\", \"title\": \"m probability\", \"type\": \"quantitative\"}, {\"field\": \"u_probability\", \"format\": \".4p\", \"title\": \"u probability\", \"type\": \"quantitative\"}, {\"field\": \"bayes_factor\", \"format\": \",.4f\", \"title\": \"Bayes factor = m/u\", \"type\": \"quantitative\"}, {\"field\": \"log2_bayes_factor\", \"format\": \",.4f\", \"title\": \"Match weight = log2(m/u)\", \"type\": \"quantitative\"}], \"x\": {\"axis\": {\"title\": \"Proportion of record comparisons\"}, \"field\": \"m_probability\", \"type\": \"quantitative\"}, \"y\": {\"axis\": {\"title\": null}, \"field\": \"label_for_charts\", \"sort\": {\"field\": \"comparison_vector_value\", \"order\": \"descending\"}, \"type\": \"nominal\"}}, \"height\": {\"step\": 12}, \"resolve\": {\"scale\": {\"y\": \"independent\"}}, \"title\": {\"text\": \"Amongst matching record comparisons:\", \"fontSize\": 12, \"fontWeight\": \"bold\"}, \"transform\": [{\"filter\": \"(datum.bayes_factor != 'no-op filter due to vega lite issue 4680')\"}], \"width\": 150}, {\"mark\": \"bar\", \"encoding\": {\"color\": {\"value\": \"red\"}, \"row\": {\"field\": \"comparison_name\", \"header\": {\"labels\": false}, \"sort\": {\"field\": \"comparison_sort_order\"}, \"type\": \"nominal\"}, \"tooltip\": [{\"field\": \"u_probability_description\", \"title\": \"u probability description\", \"type\": \"nominal\"}, {\"field\": \"comparison_name\", \"title\": \"Comparison column name\", \"type\": \"nominal\"}, {\"field\": \"label_for_charts\", \"title\": \"Label\", \"type\": \"ordinal\"}, {\"field\": \"sql_condition\", \"title\": \"SQL condition\", \"type\": \"nominal\"}, {\"field\": \"m_probability\", \"format\": \".4p\", \"title\": \"m probability\", \"type\": \"quantitative\"}, {\"field\": \"u_probability\", \"format\": \".4p\", \"title\": \"u probability\", \"type\": \"quantitative\"}, {\"field\": \"bayes_factor\", \"format\": \",.4f\", \"title\": \"Bayes factor = m/u\", \"type\": \"quantitative\"}, {\"field\": \"log2_bayes_factor\", \"format\": \",.4f\", \"title\": \"Match weight = log2(m/u)\", \"type\": \"quantitative\"}], \"x\": {\"axis\": {\"title\": \"Proportion of record comparisons\"}, \"field\": \"u_probability\", \"type\": \"quantitative\"}, \"y\": {\"axis\": {\"title\": null}, \"field\": \"label_for_charts\", \"sort\": {\"field\": \"comparison_vector_value\", \"order\": \"descending\"}, \"type\": \"nominal\"}}, \"height\": {\"step\": 12}, \"resolve\": {\"scale\": {\"y\": \"independent\"}}, \"title\": {\"text\": \"Amongst non-matching record comparisons:\", \"fontSize\": 12, \"fontWeight\": \"bold\"}, \"transform\": [{\"filter\": \"(datum.bayes_factor != 'no-op filter2 due to vega lite issue 4680')\"}], \"width\": 150}], \"data\": {\"name\": \"data-f4f87e7818b83cdadde6588e50013a35\"}, \"params\": [{\"name\": \"iteration_number\", \"bind\": {\"input\": \"range\", \"max\": 5, \"min\": 0, \"step\": 1}, \"value\": 5}], \"title\": {\"text\": \"Proportion of record comparisons in each comparison level by match status\", \"subtitle\": \"(m and u probabilities)\"}, \"transform\": [{\"filter\": \"(datum.iteration == iteration_number)\"}], \"$schema\": \"https://vega.github.io/schema/vega-lite/v5.9.3.json\", \"datasets\": {\"data-f4f87e7818b83cdadde6588e50013a35\": [{\"comparison_name\": \"first_name_15\", \"sql_condition\": \"`first_name_15_l` = `first_name_15_r`\", \"label_for_charts\": \"Exact match\", \"m_probability\": 0.95, \"u_probability\": 0.0020286606846613266, \"m_probability_description\": \"Amongst matching record comparisons, 95.00% of records are in the exact match comparison level\", \"u_probability_description\": \"Amongst non-matching record comparisons, 0.20% of records are in the exact match comparison level\", \"has_tf_adjustments\": false, \"tf_adjustment_column\": null, \"tf_adjustment_weight\": 1.0, \"is_null_level\": false, \"bayes_factor\": 468.2892546707963, \"log2_bayes_factor\": 8.871256124222102, \"comparison_vector_value\": 2, \"max_comparison_vector_value\": 2, \"bayes_factor_description\": \"If comparison level is `exact match` then comparison is 468.29 times more likely to be a match\", \"probability_two_random_records_match\": 0.0027098983268983175, \"comparison_sort_order\": 0, \"iteration\": 0}, {\"comparison_name\": \"first_name_15\", \"sql_condition\": \"jaro_winkler(`first_name_15_l`, `first_name_15_r`) >= 0.8333333333333334\", \"label_for_charts\": \"Jaro_winkler >= 0.8333333333333334\", \"m_probability\": 0.025000000000000022, \"u_probability\": 0.0034715656116374467, \"m_probability_description\": \"Amongst matching record comparisons, 2.50% of records are in the jaro_winkler >= 0.8333333333333334 comparison level\", \"u_probability_description\": \"Amongst non-matching record comparisons, 0.35% of records are in the jaro_winkler >= 0.8333333333333334 comparison level\", \"has_tf_adjustments\": false, \"tf_adjustment_column\": null, \"tf_adjustment_weight\": 1.0, \"is_null_level\": false, \"bayes_factor\": 7.201361805231207, \"log2_bayes_factor\": 2.8482697515381044, \"comparison_vector_value\": 1, \"max_comparison_vector_value\": 2, \"bayes_factor_description\": \"If comparison level is `jaro_winkler >= 0.8333333333333334` then comparison is 7.20 times more likely to be a match\", \"probability_two_random_records_match\": 0.0027098983268983175, \"comparison_sort_order\": 0, \"iteration\": 0}, {\"comparison_name\": \"first_name_15\", \"sql_condition\": \"ELSE\", \"label_for_charts\": \"All other comparisons\", \"m_probability\": 0.025000000000000022, \"u_probability\": 0.9944997737037012, \"m_probability_description\": \"Amongst matching record comparisons, 2.50% of records are in the all other comparisons comparison level\", \"u_probability_description\": \"Amongst non-matching record comparisons, 99.45% of records are in the all other comparisons comparison level\", \"has_tf_adjustments\": false, \"tf_adjustment_column\": null, \"tf_adjustment_weight\": 1.0, \"is_null_level\": false, \"bayes_factor\": 0.025138266152535556, \"log2_bayes_factor\": -5.313971042776881, \"comparison_vector_value\": 0, \"max_comparison_vector_value\": 2, \"bayes_factor_description\": \"If comparison level is `all other comparisons` then comparison is  39.78 times less likely to be a match\", \"probability_two_random_records_match\": 0.0027098983268983175, \"comparison_sort_order\": 0, \"iteration\": 0}, {\"comparison_name\": \"last_name_12\", \"sql_condition\": \"`last_name_12_l` = `last_name_12_r`\", \"label_for_charts\": \"Exact match\", \"m_probability\": 0.8807909842676699, \"u_probability\": 0.000677983558493214, \"m_probability_description\": \"Amongst matching record comparisons, 88.08% of records are in the exact match comparison level\", \"u_probability_description\": \"Amongst non-matching record comparisons, 0.07% of records are in the exact match comparison level\", \"has_tf_adjustments\": false, \"tf_adjustment_column\": null, \"tf_adjustment_weight\": 1.0, \"is_null_level\": false, \"bayes_factor\": 1299.13325070181, \"log2_bayes_factor\": 10.343333698717649, \"comparison_vector_value\": 2, \"max_comparison_vector_value\": 2, \"bayes_factor_description\": \"If comparison level is `exact match` then comparison is 1,299.13 times more likely to be a match\", \"probability_two_random_records_match\": 0.0027098983268983175, \"comparison_sort_order\": 1, \"iteration\": 0}, {\"comparison_name\": \"last_name_12\", \"sql_condition\": \"jaro_winkler(`last_name_12_l`, `last_name_12_r`) >= 0.8333333333333334\", \"label_for_charts\": \"Jaro_winkler >= 0.8333333333333334\", \"m_probability\": 0.09049331572999735, \"u_probability\": 0.001280545501029647, \"m_probability_description\": \"Amongst matching record comparisons, 9.05% of records are in the jaro_winkler >= 0.8333333333333334 comparison level\", \"u_probability_description\": \"Amongst non-matching record comparisons, 0.13% of records are in the jaro_winkler >= 0.8333333333333334 comparison level\", \"has_tf_adjustments\": false, \"tf_adjustment_column\": null, \"tf_adjustment_weight\": 1.0, \"is_null_level\": false, \"bayes_factor\": 70.66778623425289, \"log2_bayes_factor\": 6.142980810188411, \"comparison_vector_value\": 1, \"max_comparison_vector_value\": 2, \"bayes_factor_description\": \"If comparison level is `jaro_winkler >= 0.8333333333333334` then comparison is 70.67 times more likely to be a match\", \"probability_two_random_records_match\": 0.0027098983268983175, \"comparison_sort_order\": 1, \"iteration\": 0}, {\"comparison_name\": \"last_name_12\", \"sql_condition\": \"ELSE\", \"label_for_charts\": \"All other comparisons\", \"m_probability\": 0.028715700002332797, \"u_probability\": 0.9980414709404771, \"m_probability_description\": \"Amongst matching record comparisons, 2.87% of records are in the all other comparisons comparison level\", \"u_probability_description\": \"Amongst non-matching record comparisons, 99.80% of records are in the all other comparisons comparison level\", \"has_tf_adjustments\": false, \"tf_adjustment_column\": null, \"tf_adjustment_weight\": 1.0, \"is_null_level\": false, \"bayes_factor\": 0.028772050900122758, \"log2_bayes_factor\": -5.119188128308925, \"comparison_vector_value\": 0, \"max_comparison_vector_value\": 2, \"bayes_factor_description\": \"If comparison level is `all other comparisons` then comparison is  34.76 times less likely to be a match\", \"probability_two_random_records_match\": 0.0027098983268983175, \"comparison_sort_order\": 1, \"iteration\": 0}, {\"comparison_name\": \"middle_initial\", \"sql_condition\": \"`middle_initial_l` = `middle_initial_r`\", \"label_for_charts\": \"Exact match\", \"m_probability\": 0.9418359171906943, \"u_probability\": 0.0738281151949889, \"m_probability_description\": \"Amongst matching record comparisons, 94.18% of records are in the exact match comparison level\", \"u_probability_description\": \"Amongst non-matching record comparisons, 7.38% of records are in the exact match comparison level\", \"has_tf_adjustments\": false, \"tf_adjustment_column\": null, \"tf_adjustment_weight\": 1.0, \"is_null_level\": false, \"bayes_factor\": 12.757144276312523, \"log2_bayes_factor\": 3.6732335086690053, \"comparison_vector_value\": 1, \"max_comparison_vector_value\": 1, \"bayes_factor_description\": \"If comparison level is `exact match` then comparison is 12.76 times more likely to be a match\", \"probability_two_random_records_match\": 0.0027098983268983175, \"comparison_sort_order\": 2, \"iteration\": 0}, {\"comparison_name\": \"middle_initial\", \"sql_condition\": \"ELSE\", \"label_for_charts\": \"All other comparisons\", \"m_probability\": 0.058164082809305705, \"u_probability\": 0.9261718848050111, \"m_probability_description\": \"Amongst matching record comparisons, 5.82% of records are in the all other comparisons comparison level\", \"u_probability_description\": \"Amongst non-matching record comparisons, 92.62% of records are in the all other comparisons comparison level\", \"has_tf_adjustments\": false, \"tf_adjustment_column\": null, \"tf_adjustment_weight\": 1.0, \"is_null_level\": false, \"bayes_factor\": 0.06280052737894447, \"log2_bayes_factor\": -3.9930795153107974, \"comparison_vector_value\": 0, \"max_comparison_vector_value\": 1, \"bayes_factor_description\": \"If comparison level is `all other comparisons` then comparison is  15.92 times less likely to be a match\", \"probability_two_random_records_match\": 0.0027098983268983175, \"comparison_sort_order\": 2, \"iteration\": 0}, {\"comparison_name\": \"day_of_birth\", \"sql_condition\": \"`day_of_birth_l` = `day_of_birth_r`\", \"label_for_charts\": \"Exact match\", \"m_probability\": 0.972749886073781, \"u_probability\": 0.032431119048632266, \"m_probability_description\": \"Amongst matching record comparisons, 97.27% of records are in the exact match comparison level\", \"u_probability_description\": \"Amongst non-matching record comparisons, 3.24% of records are in the exact match comparison level\", \"has_tf_adjustments\": false, \"tf_adjustment_column\": null, \"tf_adjustment_weight\": 1.0, \"is_null_level\": false, \"bayes_factor\": 29.994336137926307, \"log2_bayes_factor\": 4.906618195702918, \"comparison_vector_value\": 2, \"max_comparison_vector_value\": 2, \"bayes_factor_description\": \"If comparison level is `exact match` then comparison is 29.99 times more likely to be a match\", \"probability_two_random_records_match\": 0.0027098983268983175, \"comparison_sort_order\": 3, \"iteration\": 0}, {\"comparison_name\": \"day_of_birth\", \"sql_condition\": \"abs(day_of_birth_l - day_of_birth_r) <= 5\", \"label_for_charts\": \"Inexact match\", \"m_probability\": 0.016793513960025486, \"u_probability\": 0.29408973456130016, \"m_probability_description\": \"Amongst matching record comparisons, 1.68% of records are in the inexact match comparison level\", \"u_probability_description\": \"Amongst non-matching record comparisons, 29.41% of records are in the inexact match comparison level\", \"has_tf_adjustments\": false, \"tf_adjustment_column\": null, \"tf_adjustment_weight\": 1.0, \"is_null_level\": false, \"bayes_factor\": 0.057103366715865564, \"log2_bayes_factor\": -4.1302803828714385, \"comparison_vector_value\": 1, \"max_comparison_vector_value\": 2, \"bayes_factor_description\": \"If comparison level is `inexact match` then comparison is  17.51 times less likely to be a match\", \"probability_two_random_records_match\": 0.0027098983268983175, \"comparison_sort_order\": 3, \"iteration\": 0}, {\"comparison_name\": \"day_of_birth\", \"sql_condition\": \"ELSE\", \"label_for_charts\": \"All other comparisons\", \"m_probability\": 0.010456599966193535, \"u_probability\": 0.6734791463900676, \"m_probability_description\": \"Amongst matching record comparisons, 1.05% of records are in the all other comparisons comparison level\", \"u_probability_description\": \"Amongst non-matching record comparisons, 67.35% of records are in the all other comparisons comparison level\", \"has_tf_adjustments\": false, \"tf_adjustment_column\": null, \"tf_adjustment_weight\": 1.0, \"is_null_level\": false, \"bayes_factor\": 0.01552624163976304, \"log2_bayes_factor\": -6.0091475438152155, \"comparison_vector_value\": 0, \"max_comparison_vector_value\": 2, \"bayes_factor_description\": \"If comparison level is `all other comparisons` then comparison is  64.41 times less likely to be a match\", \"probability_two_random_records_match\": 0.0027098983268983175, \"comparison_sort_order\": 3, \"iteration\": 0}, {\"comparison_name\": \"month_of_birth\", \"sql_condition\": \"`month_of_birth_l` = `month_of_birth_r`\", \"label_for_charts\": \"Exact match\", \"m_probability\": 0.9806097197761042, \"u_probability\": 0.08338892953741671, \"m_probability_description\": \"Amongst matching record comparisons, 98.06% of records are in the exact match comparison level\", \"u_probability_description\": \"Amongst non-matching record comparisons, 8.34% of records are in the exact match comparison level\", \"has_tf_adjustments\": false, \"tf_adjustment_column\": null, \"tf_adjustment_weight\": 1.0, \"is_null_level\": false, \"bayes_factor\": 11.75947125374842, \"log2_bayes_factor\": 3.555751287991548, \"comparison_vector_value\": 2, \"max_comparison_vector_value\": 2, \"bayes_factor_description\": \"If comparison level is `exact match` then comparison is 11.76 times more likely to be a match\", \"probability_two_random_records_match\": 0.0027098983268983175, \"comparison_sort_order\": 4, \"iteration\": 0}, {\"comparison_name\": \"month_of_birth\", \"sql_condition\": \"abs(month_of_birth_l - month_of_birth_r) <= 3\", \"label_for_charts\": \"Inexact match\", \"m_probability\": 0.00978373531114558, \"u_probability\": 0.4136651580190546, \"m_probability_description\": \"Amongst matching record comparisons, 0.98% of records are in the inexact match comparison level\", \"u_probability_description\": \"Amongst non-matching record comparisons, 41.37% of records are in the inexact match comparison level\", \"has_tf_adjustments\": false, \"tf_adjustment_column\": null, \"tf_adjustment_weight\": 1.0, \"is_null_level\": false, \"bayes_factor\": 0.02365134003066053, \"log2_bayes_factor\": -5.401934264103473, \"comparison_vector_value\": 1, \"max_comparison_vector_value\": 2, \"bayes_factor_description\": \"If comparison level is `inexact match` then comparison is  42.28 times less likely to be a match\", \"probability_two_random_records_match\": 0.0027098983268983175, \"comparison_sort_order\": 4, \"iteration\": 0}, {\"comparison_name\": \"month_of_birth\", \"sql_condition\": \"ELSE\", \"label_for_charts\": \"All other comparisons\", \"m_probability\": 0.009606544912750172, \"u_probability\": 0.5029459124435287, \"m_probability_description\": \"Amongst matching record comparisons, 0.96% of records are in the all other comparisons comparison level\", \"u_probability_description\": \"Amongst non-matching record comparisons, 50.29% of records are in the all other comparisons comparison level\", \"has_tf_adjustments\": false, \"tf_adjustment_column\": null, \"tf_adjustment_weight\": 1.0, \"is_null_level\": false, \"bayes_factor\": 0.019100552713665418, \"log2_bayes_factor\": -5.710241803569886, \"comparison_vector_value\": 0, \"max_comparison_vector_value\": 2, \"bayes_factor_description\": \"If comparison level is `all other comparisons` then comparison is  52.35 times less likely to be a match\", \"probability_two_random_records_match\": 0.0027098983268983175, \"comparison_sort_order\": 4, \"iteration\": 0}, {\"comparison_name\": \"year_of_birth\", \"sql_condition\": \"`year_of_birth_l` = `year_of_birth_r`\", \"label_for_charts\": \"Exact match\", \"m_probability\": 0.9684224571557469, \"u_probability\": 0.011194856230046568, \"m_probability_description\": \"Amongst matching record comparisons, 96.84% of records are in the exact match comparison level\", \"u_probability_description\": \"Amongst non-matching record comparisons, 1.12% of records are in the exact match comparison level\", \"has_tf_adjustments\": false, \"tf_adjustment_column\": null, \"tf_adjustment_weight\": 1.0, \"is_null_level\": false, \"bayes_factor\": 86.50602001984964, \"log2_bayes_factor\": 6.434728629377492, \"comparison_vector_value\": 2, \"max_comparison_vector_value\": 2, \"bayes_factor_description\": \"If comparison level is `exact match` then comparison is 86.51 times more likely to be a match\", \"probability_two_random_records_match\": 0.0027098983268983175, \"comparison_sort_order\": 5, \"iteration\": 0}, {\"comparison_name\": \"year_of_birth\", \"sql_condition\": \"abs(year_of_birth_l - year_of_birth_r) <= 5\", \"label_for_charts\": \"Inexact match\", \"m_probability\": 0.010380470108146697, \"u_probability\": 0.11039918989695713, \"m_probability_description\": \"Amongst matching record comparisons, 1.04% of records are in the inexact match comparison level\", \"u_probability_description\": \"Amongst non-matching record comparisons, 11.04% of records are in the inexact match comparison level\", \"has_tf_adjustments\": false, \"tf_adjustment_column\": null, \"tf_adjustment_weight\": 1.0, \"is_null_level\": false, \"bayes_factor\": 0.09402668731387864, \"log2_bayes_factor\": -3.410785899038009, \"comparison_vector_value\": 1, \"max_comparison_vector_value\": 2, \"bayes_factor_description\": \"If comparison level is `inexact match` then comparison is  10.64 times less likely to be a match\", \"probability_two_random_records_match\": 0.0027098983268983175, \"comparison_sort_order\": 5, \"iteration\": 0}, {\"comparison_name\": \"year_of_birth\", \"sql_condition\": \"ELSE\", \"label_for_charts\": \"All other comparisons\", \"m_probability\": 0.02119707273610636, \"u_probability\": 0.8784059538729964, \"m_probability_description\": \"Amongst matching record comparisons, 2.12% of records are in the all other comparisons comparison level\", \"u_probability_description\": \"Amongst non-matching record comparisons, 87.84% of records are in the all other comparisons comparison level\", \"has_tf_adjustments\": false, \"tf_adjustment_column\": null, \"tf_adjustment_weight\": 1.0, \"is_null_level\": false, \"bayes_factor\": 0.024131294468856847, \"log2_bayes_factor\": -5.372950882024214, \"comparison_vector_value\": 0, \"max_comparison_vector_value\": 2, \"bayes_factor_description\": \"If comparison level is `all other comparisons` then comparison is  41.44 times less likely to be a match\", \"probability_two_random_records_match\": 0.0027098983268983175, \"comparison_sort_order\": 5, \"iteration\": 0}, {\"comparison_name\": \"first_name_15\", \"sql_condition\": \"`first_name_15_l` = `first_name_15_r`\", \"label_for_charts\": \"Exact match\", \"m_probability\": 0.8497480239047803, \"u_probability\": 0.0020286606846613266, \"m_probability_description\": \"Amongst matching record comparisons, 84.97% of records are in the exact match comparison level\", \"u_probability_description\": \"Amongst non-matching record comparisons, 0.20% of records are in the exact match comparison level\", \"has_tf_adjustments\": false, \"tf_adjustment_column\": null, \"tf_adjustment_weight\": 1.0, \"is_null_level\": false, \"bayes_factor\": 418.8714408130017, \"log2_bayes_factor\": 8.710363712551537, \"comparison_vector_value\": 2, \"max_comparison_vector_value\": 2, \"bayes_factor_description\": \"If comparison level is `exact match` then comparison is 418.87 times more likely to be a match\", \"probability_two_random_records_match\": 0.0027098983268983175, \"comparison_sort_order\": 0, \"iteration\": 1}, {\"comparison_name\": \"first_name_15\", \"sql_condition\": \"jaro_winkler(`first_name_15_l`, `first_name_15_r`) >= 0.8333333333333334\", \"label_for_charts\": \"Jaro_winkler >= 0.8333333333333334\", \"m_probability\": 0.09102978867593267, \"u_probability\": 0.0034715656116374467, \"m_probability_description\": \"Amongst matching record comparisons, 9.10% of records are in the jaro_winkler >= 0.8333333333333334 comparison level\", \"u_probability_description\": \"Amongst non-matching record comparisons, 0.35% of records are in the jaro_winkler >= 0.8333333333333334 comparison level\", \"has_tf_adjustments\": false, \"tf_adjustment_column\": null, \"tf_adjustment_weight\": 1.0, \"is_null_level\": false, \"bayes_factor\": 26.221537732365167, \"log2_bayes_factor\": 4.712680388143677, \"comparison_vector_value\": 1, \"max_comparison_vector_value\": 2, \"bayes_factor_description\": \"If comparison level is `jaro_winkler >= 0.8333333333333334` then comparison is 26.22 times more likely to be a match\", \"probability_two_random_records_match\": 0.0027098983268983175, \"comparison_sort_order\": 0, \"iteration\": 1}, {\"comparison_name\": \"first_name_15\", \"sql_condition\": \"ELSE\", \"label_for_charts\": \"All other comparisons\", \"m_probability\": 0.05922218741928705, \"u_probability\": 0.9944997737037012, \"m_probability_description\": \"Amongst matching record comparisons, 5.92% of records are in the all other comparisons comparison level\", \"u_probability_description\": \"Amongst non-matching record comparisons, 99.45% of records are in the all other comparisons comparison level\", \"has_tf_adjustments\": false, \"tf_adjustment_column\": null, \"tf_adjustment_weight\": 1.0, \"is_null_level\": false, \"bayes_factor\": 0.059549724379255174, \"log2_bayes_factor\": -4.069761359059004, \"comparison_vector_value\": 0, \"max_comparison_vector_value\": 2, \"bayes_factor_description\": \"If comparison level is `all other comparisons` then comparison is  16.79 times less likely to be a match\", \"probability_two_random_records_match\": 0.0027098983268983175, \"comparison_sort_order\": 0, \"iteration\": 1}, {\"comparison_name\": \"last_name_12\", \"sql_condition\": \"`last_name_12_l` = `last_name_12_r`\", \"label_for_charts\": \"Exact match\", \"m_probability\": 0.8819358669793486, \"u_probability\": 0.000677983558493214, \"m_probability_description\": \"Amongst matching record comparisons, 88.19% of records are in the exact match comparison level\", \"u_probability_description\": \"Amongst non-matching record comparisons, 0.07% of records are in the exact match comparison level\", \"has_tf_adjustments\": false, \"tf_adjustment_column\": null, \"tf_adjustment_weight\": 1.0, \"is_null_level\": false, \"bayes_factor\": 1300.8219092206436, \"log2_bayes_factor\": 10.345207746125078, \"comparison_vector_value\": 2, \"max_comparison_vector_value\": 2, \"bayes_factor_description\": \"If comparison level is `exact match` then comparison is 1,300.82 times more likely to be a match\", \"probability_two_random_records_match\": 0.0027098983268983175, \"comparison_sort_order\": 1, \"iteration\": 1}, {\"comparison_name\": \"last_name_12\", \"sql_condition\": \"jaro_winkler(`last_name_12_l`, `last_name_12_r`) >= 0.8333333333333334\", \"label_for_charts\": \"Jaro_winkler >= 0.8333333333333334\", \"m_probability\": 0.09010696241336652, \"u_probability\": 0.001280545501029647, \"m_probability_description\": \"Amongst matching record comparisons, 9.01% of records are in the jaro_winkler >= 0.8333333333333334 comparison level\", \"u_probability_description\": \"Amongst non-matching record comparisons, 0.13% of records are in the jaro_winkler >= 0.8333333333333334 comparison level\", \"has_tf_adjustments\": false, \"tf_adjustment_column\": null, \"tf_adjustment_weight\": 1.0, \"is_null_level\": false, \"bayes_factor\": 70.36607628617203, \"log2_bayes_factor\": 6.136808163391149, \"comparison_vector_value\": 1, \"max_comparison_vector_value\": 2, \"bayes_factor_description\": \"If comparison level is `jaro_winkler >= 0.8333333333333334` then comparison is 70.37 times more likely to be a match\", \"probability_two_random_records_match\": 0.0027098983268983175, \"comparison_sort_order\": 1, \"iteration\": 1}, {\"comparison_name\": \"last_name_12\", \"sql_condition\": \"ELSE\", \"label_for_charts\": \"All other comparisons\", \"m_probability\": 0.0279571706072851, \"u_probability\": 0.9980414709404771, \"m_probability_description\": \"Amongst matching record comparisons, 2.80% of records are in the all other comparisons comparison level\", \"u_probability_description\": \"Amongst non-matching record comparisons, 99.80% of records are in the all other comparisons comparison level\", \"has_tf_adjustments\": false, \"tf_adjustment_column\": null, \"tf_adjustment_weight\": 1.0, \"is_null_level\": false, \"bayes_factor\": 0.028012032987908234, \"log2_bayes_factor\": -5.157809498217375, \"comparison_vector_value\": 0, \"max_comparison_vector_value\": 2, \"bayes_factor_description\": \"If comparison level is `all other comparisons` then comparison is  35.70 times less likely to be a match\", \"probability_two_random_records_match\": 0.0027098983268983175, \"comparison_sort_order\": 1, \"iteration\": 1}, {\"comparison_name\": \"middle_initial\", \"sql_condition\": \"`middle_initial_l` = `middle_initial_r`\", \"label_for_charts\": \"Exact match\", \"m_probability\": 0.928511403125395, \"u_probability\": 0.0738281151949889, \"m_probability_description\": \"Amongst matching record comparisons, 92.85% of records are in the exact match comparison level\", \"u_probability_description\": \"Amongst non-matching record comparisons, 7.38% of records are in the exact match comparison level\", \"has_tf_adjustments\": false, \"tf_adjustment_column\": null, \"tf_adjustment_weight\": 1.0, \"is_null_level\": false, \"bayes_factor\": 12.57666406182909, \"log2_bayes_factor\": 3.6526773955079754, \"comparison_vector_value\": 1, \"max_comparison_vector_value\": 1, \"bayes_factor_description\": \"If comparison level is `exact match` then comparison is 12.58 times more likely to be a match\", \"probability_two_random_records_match\": 0.0027098983268983175, \"comparison_sort_order\": 2, \"iteration\": 1}, {\"comparison_name\": \"middle_initial\", \"sql_condition\": \"ELSE\", \"label_for_charts\": \"All other comparisons\", \"m_probability\": 0.07148859687460492, \"u_probability\": 0.9261718848050111, \"m_probability_description\": \"Amongst matching record comparisons, 7.15% of records are in the all other comparisons comparison level\", \"u_probability_description\": \"Amongst non-matching record comparisons, 92.62% of records are in the all other comparisons comparison level\", \"has_tf_adjustments\": false, \"tf_adjustment_column\": null, \"tf_adjustment_weight\": 1.0, \"is_null_level\": false, \"bayes_factor\": 0.07718718096226335, \"log2_bayes_factor\": -3.695494921268418, \"comparison_vector_value\": 0, \"max_comparison_vector_value\": 1, \"bayes_factor_description\": \"If comparison level is `all other comparisons` then comparison is  12.96 times less likely to be a match\", \"probability_two_random_records_match\": 0.0027098983268983175, \"comparison_sort_order\": 2, \"iteration\": 1}, {\"comparison_name\": \"day_of_birth\", \"sql_condition\": \"`day_of_birth_l` = `day_of_birth_r`\", \"label_for_charts\": \"Exact match\", \"m_probability\": 0.9704863138003973, \"u_probability\": 0.032431119048632266, \"m_probability_description\": \"Amongst matching record comparisons, 97.05% of records are in the exact match comparison level\", \"u_probability_description\": \"Amongst non-matching record comparisons, 3.24% of records are in the exact match comparison level\", \"has_tf_adjustments\": false, \"tf_adjustment_column\": null, \"tf_adjustment_weight\": 1.0, \"is_null_level\": false, \"bayes_factor\": 29.924539833025776, \"log2_bayes_factor\": 4.903257157069803, \"comparison_vector_value\": 2, \"max_comparison_vector_value\": 2, \"bayes_factor_description\": \"If comparison level is `exact match` then comparison is 29.92 times more likely to be a match\", \"probability_two_random_records_match\": 0.0027098983268983175, \"comparison_sort_order\": 3, \"iteration\": 1}, {\"comparison_name\": \"day_of_birth\", \"sql_condition\": \"abs(day_of_birth_l - day_of_birth_r) <= 5\", \"label_for_charts\": \"Inexact match\", \"m_probability\": 0.01728743318462754, \"u_probability\": 0.29408973456130016, \"m_probability_description\": \"Amongst matching record comparisons, 1.73% of records are in the inexact match comparison level\", \"u_probability_description\": \"Amongst non-matching record comparisons, 29.41% of records are in the inexact match comparison level\", \"has_tf_adjustments\": false, \"tf_adjustment_column\": null, \"tf_adjustment_weight\": 1.0, \"is_null_level\": false, \"bayes_factor\": 0.05878285146679998, \"log2_bayes_factor\": -4.088460846143884, \"comparison_vector_value\": 1, \"max_comparison_vector_value\": 2, \"bayes_factor_description\": \"If comparison level is `inexact match` then comparison is  17.01 times less likely to be a match\", \"probability_two_random_records_match\": 0.0027098983268983175, \"comparison_sort_order\": 3, \"iteration\": 1}, {\"comparison_name\": \"day_of_birth\", \"sql_condition\": \"ELSE\", \"label_for_charts\": \"All other comparisons\", \"m_probability\": 0.012226253014975154, \"u_probability\": 0.6734791463900676, \"m_probability_description\": \"Amongst matching record comparisons, 1.22% of records are in the all other comparisons comparison level\", \"u_probability_description\": \"Amongst non-matching record comparisons, 67.35% of records are in the all other comparisons comparison level\", \"has_tf_adjustments\": false, \"tf_adjustment_column\": null, \"tf_adjustment_weight\": 1.0, \"is_null_level\": false, \"bayes_factor\": 0.018153870213368, \"log2_bayes_factor\": -5.783579041420626, \"comparison_vector_value\": 0, \"max_comparison_vector_value\": 2, \"bayes_factor_description\": \"If comparison level is `all other comparisons` then comparison is  55.08 times less likely to be a match\", \"probability_two_random_records_match\": 0.0027098983268983175, \"comparison_sort_order\": 3, \"iteration\": 1}, {\"comparison_name\": \"month_of_birth\", \"sql_condition\": \"`month_of_birth_l` = `month_of_birth_r`\", \"label_for_charts\": \"Exact match\", \"m_probability\": 0.978385100025976, \"u_probability\": 0.08338892953741671, \"m_probability_description\": \"Amongst matching record comparisons, 97.84% of records are in the exact match comparison level\", \"u_probability_description\": \"Amongst non-matching record comparisons, 8.34% of records are in the exact match comparison level\", \"has_tf_adjustments\": false, \"tf_adjustment_column\": null, \"tf_adjustment_weight\": 1.0, \"is_null_level\": false, \"bayes_factor\": 11.732793614852358, \"log2_bayes_factor\": 3.5524746593567644, \"comparison_vector_value\": 2, \"max_comparison_vector_value\": 2, \"bayes_factor_description\": \"If comparison level is `exact match` then comparison is 11.73 times more likely to be a match\", \"probability_two_random_records_match\": 0.0027098983268983175, \"comparison_sort_order\": 4, \"iteration\": 1}, {\"comparison_name\": \"month_of_birth\", \"sql_condition\": \"abs(month_of_birth_l - month_of_birth_r) <= 3\", \"label_for_charts\": \"Inexact match\", \"m_probability\": 0.010780893822244083, \"u_probability\": 0.4136651580190546, \"m_probability_description\": \"Amongst matching record comparisons, 1.08% of records are in the inexact match comparison level\", \"u_probability_description\": \"Amongst non-matching record comparisons, 41.37% of records are in the inexact match comparison level\", \"has_tf_adjustments\": false, \"tf_adjustment_column\": null, \"tf_adjustment_weight\": 1.0, \"is_null_level\": false, \"bayes_factor\": 0.02606188510985855, \"log2_bayes_factor\": -5.261914748989032, \"comparison_vector_value\": 1, \"max_comparison_vector_value\": 2, \"bayes_factor_description\": \"If comparison level is `inexact match` then comparison is  38.37 times less likely to be a match\", \"probability_two_random_records_match\": 0.0027098983268983175, \"comparison_sort_order\": 4, \"iteration\": 1}, {\"comparison_name\": \"month_of_birth\", \"sql_condition\": \"ELSE\", \"label_for_charts\": \"All other comparisons\", \"m_probability\": 0.010834006151779936, \"u_probability\": 0.5029459124435287, \"m_probability_description\": \"Amongst matching record comparisons, 1.08% of records are in the all other comparisons comparison level\", \"u_probability_description\": \"Amongst non-matching record comparisons, 50.29% of records are in the all other comparisons comparison level\", \"has_tf_adjustments\": false, \"tf_adjustment_column\": null, \"tf_adjustment_weight\": 1.0, \"is_null_level\": false, \"bayes_factor\": 0.021541095938415425, \"log2_bayes_factor\": -5.536764538560398, \"comparison_vector_value\": 0, \"max_comparison_vector_value\": 2, \"bayes_factor_description\": \"If comparison level is `all other comparisons` then comparison is  46.42 times less likely to be a match\", \"probability_two_random_records_match\": 0.0027098983268983175, \"comparison_sort_order\": 4, \"iteration\": 1}, {\"comparison_name\": \"year_of_birth\", \"sql_condition\": \"`year_of_birth_l` = `year_of_birth_r`\", \"label_for_charts\": \"Exact match\", \"m_probability\": 0.9658467383525084, \"u_probability\": 0.011194856230046568, \"m_probability_description\": \"Amongst matching record comparisons, 96.58% of records are in the exact match comparison level\", \"u_probability_description\": \"Amongst non-matching record comparisons, 1.12% of records are in the exact match comparison level\", \"has_tf_adjustments\": false, \"tf_adjustment_column\": null, \"tf_adjustment_weight\": 1.0, \"is_null_level\": false, \"bayes_factor\": 86.2759394587143, \"log2_bayes_factor\": 6.430886373140144, \"comparison_vector_value\": 2, \"max_comparison_vector_value\": 2, \"bayes_factor_description\": \"If comparison level is `exact match` then comparison is 86.28 times more likely to be a match\", \"probability_two_random_records_match\": 0.0027098983268983175, \"comparison_sort_order\": 5, \"iteration\": 1}, {\"comparison_name\": \"year_of_birth\", \"sql_condition\": \"abs(year_of_birth_l - year_of_birth_r) <= 5\", \"label_for_charts\": \"Inexact match\", \"m_probability\": 0.011586442537987272, \"u_probability\": 0.11039918989695713, \"m_probability_description\": \"Amongst matching record comparisons, 1.16% of records are in the inexact match comparison level\", \"u_probability_description\": \"Amongst non-matching record comparisons, 11.04% of records are in the inexact match comparison level\", \"has_tf_adjustments\": false, \"tf_adjustment_column\": null, \"tf_adjustment_weight\": 1.0, \"is_null_level\": false, \"bayes_factor\": 0.10495043078487863, \"log2_bayes_factor\": -3.252220006485665, \"comparison_vector_value\": 1, \"max_comparison_vector_value\": 2, \"bayes_factor_description\": \"If comparison level is `inexact match` then comparison is  9.53 times less likely to be a match\", \"probability_two_random_records_match\": 0.0027098983268983175, \"comparison_sort_order\": 5, \"iteration\": 1}, {\"comparison_name\": \"year_of_birth\", \"sql_condition\": \"ELSE\", \"label_for_charts\": \"All other comparisons\", \"m_probability\": 0.02256681910950419, \"u_probability\": 0.8784059538729964, \"m_probability_description\": \"Amongst matching record comparisons, 2.26% of records are in the all other comparisons comparison level\", \"u_probability_description\": \"Amongst non-matching record comparisons, 87.84% of records are in the all other comparisons comparison level\", \"has_tf_adjustments\": false, \"tf_adjustment_column\": null, \"tf_adjustment_weight\": 1.0, \"is_null_level\": false, \"bayes_factor\": 0.02569064907860016, \"log2_bayes_factor\": -5.282612849140975, \"comparison_vector_value\": 0, \"max_comparison_vector_value\": 2, \"bayes_factor_description\": \"If comparison level is `all other comparisons` then comparison is  38.92 times less likely to be a match\", \"probability_two_random_records_match\": 0.0027098983268983175, \"comparison_sort_order\": 5, \"iteration\": 1}, {\"comparison_name\": \"first_name_15\", \"sql_condition\": \"`first_name_15_l` = `first_name_15_r`\", \"label_for_charts\": \"Exact match\", \"m_probability\": 0.8430002634578905, \"u_probability\": 0.0020286606846613266, \"m_probability_description\": \"Amongst matching record comparisons, 84.30% of records are in the exact match comparison level\", \"u_probability_description\": \"Amongst non-matching record comparisons, 0.20% of records are in the exact match comparison level\", \"has_tf_adjustments\": false, \"tf_adjustment_column\": null, \"tf_adjustment_weight\": 1.0, \"is_null_level\": false, \"bayes_factor\": 415.5452263810321, \"log2_bayes_factor\": 8.6988616928229, \"comparison_vector_value\": 2, \"max_comparison_vector_value\": 2, \"bayes_factor_description\": \"If comparison level is `exact match` then comparison is 415.55 times more likely to be a match\", \"probability_two_random_records_match\": 0.0027098983268983175, \"comparison_sort_order\": 0, \"iteration\": 2}, {\"comparison_name\": \"first_name_15\", \"sql_condition\": \"jaro_winkler(`first_name_15_l`, `first_name_15_r`) >= 0.8333333333333334\", \"label_for_charts\": \"Jaro_winkler >= 0.8333333333333334\", \"m_probability\": 0.09130471143198884, \"u_probability\": 0.0034715656116374467, \"m_probability_description\": \"Amongst matching record comparisons, 9.13% of records are in the jaro_winkler >= 0.8333333333333334 comparison level\", \"u_probability_description\": \"Amongst non-matching record comparisons, 0.35% of records are in the jaro_winkler >= 0.8333333333333334 comparison level\", \"has_tf_adjustments\": false, \"tf_adjustment_column\": null, \"tf_adjustment_weight\": 1.0, \"is_null_level\": false, \"bayes_factor\": 26.30073046175924, \"log2_bayes_factor\": 4.717030963565517, \"comparison_vector_value\": 1, \"max_comparison_vector_value\": 2, \"bayes_factor_description\": \"If comparison level is `jaro_winkler >= 0.8333333333333334` then comparison is 26.30 times more likely to be a match\", \"probability_two_random_records_match\": 0.0027098983268983175, \"comparison_sort_order\": 0, \"iteration\": 2}, {\"comparison_name\": \"first_name_15\", \"sql_condition\": \"ELSE\", \"label_for_charts\": \"All other comparisons\", \"m_probability\": 0.06569502511012072, \"u_probability\": 0.9944997737037012, \"m_probability_description\": \"Amongst matching record comparisons, 6.57% of records are in the all other comparisons comparison level\", \"u_probability_description\": \"Amongst non-matching record comparisons, 99.45% of records are in the all other comparisons comparison level\", \"has_tf_adjustments\": false, \"tf_adjustment_column\": null, \"tf_adjustment_weight\": 1.0, \"is_null_level\": false, \"bayes_factor\": 0.06605836104462878, \"log2_bayes_factor\": -3.920115014007155, \"comparison_vector_value\": 0, \"max_comparison_vector_value\": 2, \"bayes_factor_description\": \"If comparison level is `all other comparisons` then comparison is  15.14 times less likely to be a match\", \"probability_two_random_records_match\": 0.0027098983268983175, \"comparison_sort_order\": 0, \"iteration\": 2}, {\"comparison_name\": \"last_name_12\", \"sql_condition\": \"`last_name_12_l` = `last_name_12_r`\", \"label_for_charts\": \"Exact match\", \"m_probability\": 0.881894386819533, \"u_probability\": 0.000677983558493214, \"m_probability_description\": \"Amongst matching record comparisons, 88.19% of records are in the exact match comparison level\", \"u_probability_description\": \"Amongst non-matching record comparisons, 0.07% of records are in the exact match comparison level\", \"has_tf_adjustments\": false, \"tf_adjustment_column\": null, \"tf_adjustment_weight\": 1.0, \"is_null_level\": false, \"bayes_factor\": 1300.7607275602688, \"log2_bayes_factor\": 10.345139890138661, \"comparison_vector_value\": 2, \"max_comparison_vector_value\": 2, \"bayes_factor_description\": \"If comparison level is `exact match` then comparison is 1,300.76 times more likely to be a match\", \"probability_two_random_records_match\": 0.0027098983268983175, \"comparison_sort_order\": 1, \"iteration\": 2}, {\"comparison_name\": \"last_name_12\", \"sql_condition\": \"jaro_winkler(`last_name_12_l`, `last_name_12_r`) >= 0.8333333333333334\", \"label_for_charts\": \"Jaro_winkler >= 0.8333333333333334\", \"m_probability\": 0.08992973418031228, \"u_probability\": 0.001280545501029647, \"m_probability_description\": \"Amongst matching record comparisons, 8.99% of records are in the jaro_winkler >= 0.8333333333333334 comparison level\", \"u_probability_description\": \"Amongst non-matching record comparisons, 0.13% of records are in the jaro_winkler >= 0.8333333333333334 comparison level\", \"has_tf_adjustments\": false, \"tf_adjustment_column\": null, \"tf_adjustment_weight\": 1.0, \"is_null_level\": false, \"bayes_factor\": 70.22767571164208, \"log2_bayes_factor\": 6.133967782731417, \"comparison_vector_value\": 1, \"max_comparison_vector_value\": 2, \"bayes_factor_description\": \"If comparison level is `jaro_winkler >= 0.8333333333333334` then comparison is 70.23 times more likely to be a match\", \"probability_two_random_records_match\": 0.0027098983268983175, \"comparison_sort_order\": 1, \"iteration\": 2}, {\"comparison_name\": \"last_name_12\", \"sql_condition\": \"ELSE\", \"label_for_charts\": \"All other comparisons\", \"m_probability\": 0.028175879000154704, \"u_probability\": 0.9980414709404771, \"m_probability_description\": \"Amongst matching record comparisons, 2.82% of records are in the all other comparisons comparison level\", \"u_probability_description\": \"Amongst non-matching record comparisons, 99.80% of records are in the all other comparisons comparison level\", \"has_tf_adjustments\": false, \"tf_adjustment_column\": null, \"tf_adjustment_weight\": 1.0, \"is_null_level\": false, \"bayes_factor\": 0.028231170568096667, \"log2_bayes_factor\": -5.146567240307833, \"comparison_vector_value\": 0, \"max_comparison_vector_value\": 2, \"bayes_factor_description\": \"If comparison level is `all other comparisons` then comparison is  35.42 times less likely to be a match\", \"probability_two_random_records_match\": 0.0027098983268983175, \"comparison_sort_order\": 1, \"iteration\": 2}, {\"comparison_name\": \"middle_initial\", \"sql_condition\": \"`middle_initial_l` = `middle_initial_r`\", \"label_for_charts\": \"Exact match\", \"m_probability\": 0.9259452464091308, \"u_probability\": 0.0738281151949889, \"m_probability_description\": \"Amongst matching record comparisons, 92.59% of records are in the exact match comparison level\", \"u_probability_description\": \"Amongst non-matching record comparisons, 7.38% of records are in the exact match comparison level\", \"has_tf_adjustments\": false, \"tf_adjustment_column\": null, \"tf_adjustment_weight\": 1.0, \"is_null_level\": false, \"bayes_factor\": 12.541905532378802, \"log2_bayes_factor\": 3.6486846530163555, \"comparison_vector_value\": 1, \"max_comparison_vector_value\": 1, \"bayes_factor_description\": \"If comparison level is `exact match` then comparison is 12.54 times more likely to be a match\", \"probability_two_random_records_match\": 0.0027098983268983175, \"comparison_sort_order\": 2, \"iteration\": 2}, {\"comparison_name\": \"middle_initial\", \"sql_condition\": \"ELSE\", \"label_for_charts\": \"All other comparisons\", \"m_probability\": 0.07405475359086909, \"u_probability\": 0.9261718848050111, \"m_probability_description\": \"Amongst matching record comparisons, 7.41% of records are in the all other comparisons comparison level\", \"u_probability_description\": \"Amongst non-matching record comparisons, 92.62% of records are in the all other comparisons comparison level\", \"has_tf_adjustments\": false, \"tf_adjustment_column\": null, \"tf_adjustment_weight\": 1.0, \"is_null_level\": false, \"bayes_factor\": 0.07995789421578046, \"log2_bayes_factor\": -3.6446157122451486, \"comparison_vector_value\": 0, \"max_comparison_vector_value\": 1, \"bayes_factor_description\": \"If comparison level is `all other comparisons` then comparison is  12.51 times less likely to be a match\", \"probability_two_random_records_match\": 0.0027098983268983175, \"comparison_sort_order\": 2, \"iteration\": 2}, {\"comparison_name\": \"day_of_birth\", \"sql_condition\": \"`day_of_birth_l` = `day_of_birth_r`\", \"label_for_charts\": \"Exact match\", \"m_probability\": 0.9690711836054386, \"u_probability\": 0.032431119048632266, \"m_probability_description\": \"Amongst matching record comparisons, 96.91% of records are in the exact match comparison level\", \"u_probability_description\": \"Amongst non-matching record comparisons, 3.24% of records are in the exact match comparison level\", \"has_tf_adjustments\": false, \"tf_adjustment_column\": null, \"tf_adjustment_weight\": 1.0, \"is_null_level\": false, \"bayes_factor\": 29.880904884973674, \"log2_bayes_factor\": 4.9011519328838915, \"comparison_vector_value\": 2, \"max_comparison_vector_value\": 2, \"bayes_factor_description\": \"If comparison level is `exact match` then comparison is 29.88 times more likely to be a match\", \"probability_two_random_records_match\": 0.0027098983268983175, \"comparison_sort_order\": 3, \"iteration\": 2}, {\"comparison_name\": \"day_of_birth\", \"sql_condition\": \"abs(day_of_birth_l - day_of_birth_r) <= 5\", \"label_for_charts\": \"Inexact match\", \"m_probability\": 0.017894815989130553, \"u_probability\": 0.29408973456130016, \"m_probability_description\": \"Amongst matching record comparisons, 1.79% of records are in the inexact match comparison level\", \"u_probability_description\": \"Amongst non-matching record comparisons, 29.41% of records are in the inexact match comparison level\", \"has_tf_adjustments\": false, \"tf_adjustment_column\": null, \"tf_adjustment_weight\": 1.0, \"is_null_level\": false, \"bayes_factor\": 0.06084814900399236, \"log2_bayes_factor\": -4.0386428128402825, \"comparison_vector_value\": 1, \"max_comparison_vector_value\": 2, \"bayes_factor_description\": \"If comparison level is `inexact match` then comparison is  16.43 times less likely to be a match\", \"probability_two_random_records_match\": 0.0027098983268983175, \"comparison_sort_order\": 3, \"iteration\": 2}, {\"comparison_name\": \"day_of_birth\", \"sql_condition\": \"ELSE\", \"label_for_charts\": \"All other comparisons\", \"m_probability\": 0.013034000405430683, \"u_probability\": 0.6734791463900676, \"m_probability_description\": \"Amongst matching record comparisons, 1.30% of records are in the all other comparisons comparison level\", \"u_probability_description\": \"Amongst non-matching record comparisons, 67.35% of records are in the all other comparisons comparison level\", \"has_tf_adjustments\": false, \"tf_adjustment_column\": null, \"tf_adjustment_weight\": 1.0, \"is_null_level\": false, \"bayes_factor\": 0.019353235323312613, \"log2_bayes_factor\": -5.6912814247108905, \"comparison_vector_value\": 0, \"max_comparison_vector_value\": 2, \"bayes_factor_description\": \"If comparison level is `all other comparisons` then comparison is  51.67 times less likely to be a match\", \"probability_two_random_records_match\": 0.0027098983268983175, \"comparison_sort_order\": 3, \"iteration\": 2}, {\"comparison_name\": \"month_of_birth\", \"sql_condition\": \"`month_of_birth_l` = `month_of_birth_r`\", \"label_for_charts\": \"Exact match\", \"m_probability\": 0.9773418745343249, \"u_probability\": 0.08338892953741671, \"m_probability_description\": \"Amongst matching record comparisons, 97.73% of records are in the exact match comparison level\", \"u_probability_description\": \"Amongst non-matching record comparisons, 8.34% of records are in the exact match comparison level\", \"has_tf_adjustments\": false, \"tf_adjustment_column\": null, \"tf_adjustment_weight\": 1.0, \"is_null_level\": false, \"bayes_factor\": 11.720283255294582, \"log2_bayes_factor\": 3.550935532059693, \"comparison_vector_value\": 2, \"max_comparison_vector_value\": 2, \"bayes_factor_description\": \"If comparison level is `exact match` then comparison is 11.72 times more likely to be a match\", \"probability_two_random_records_match\": 0.0027098983268983175, \"comparison_sort_order\": 4, \"iteration\": 2}, {\"comparison_name\": \"month_of_birth\", \"sql_condition\": \"abs(month_of_birth_l - month_of_birth_r) <= 3\", \"label_for_charts\": \"Inexact match\", \"m_probability\": 0.011254629387117653, \"u_probability\": 0.4136651580190546, \"m_probability_description\": \"Amongst matching record comparisons, 1.13% of records are in the inexact match comparison level\", \"u_probability_description\": \"Amongst non-matching record comparisons, 41.37% of records are in the inexact match comparison level\", \"has_tf_adjustments\": false, \"tf_adjustment_column\": null, \"tf_adjustment_weight\": 1.0, \"is_null_level\": false, \"bayes_factor\": 0.027207100160461743, \"log2_bayes_factor\": -5.199872993093958, \"comparison_vector_value\": 1, \"max_comparison_vector_value\": 2, \"bayes_factor_description\": \"If comparison level is `inexact match` then comparison is  36.76 times less likely to be a match\", \"probability_two_random_records_match\": 0.0027098983268983175, \"comparison_sort_order\": 4, \"iteration\": 2}, {\"comparison_name\": \"month_of_birth\", \"sql_condition\": \"ELSE\", \"label_for_charts\": \"All other comparisons\", \"m_probability\": 0.011403496078557425, \"u_probability\": 0.5029459124435287, \"m_probability_description\": \"Amongst matching record comparisons, 1.14% of records are in the all other comparisons comparison level\", \"u_probability_description\": \"Amongst non-matching record comparisons, 50.29% of records are in the all other comparisons comparison level\", \"has_tf_adjustments\": false, \"tf_adjustment_column\": null, \"tf_adjustment_weight\": 1.0, \"is_null_level\": false, \"bayes_factor\": 0.022673404428627943, \"log2_bayes_factor\": -5.462855160692342, \"comparison_vector_value\": 0, \"max_comparison_vector_value\": 2, \"bayes_factor_description\": \"If comparison level is `all other comparisons` then comparison is  44.10 times less likely to be a match\", \"probability_two_random_records_match\": 0.0027098983268983175, \"comparison_sort_order\": 4, \"iteration\": 2}, {\"comparison_name\": \"year_of_birth\", \"sql_condition\": \"`year_of_birth_l` = `year_of_birth_r`\", \"label_for_charts\": \"Exact match\", \"m_probability\": 0.9645130013680779, \"u_probability\": 0.011194856230046568, \"m_probability_description\": \"Amongst matching record comparisons, 96.45% of records are in the exact match comparison level\", \"u_probability_description\": \"Amongst non-matching record comparisons, 1.12% of records are in the exact match comparison level\", \"has_tf_adjustments\": false, \"tf_adjustment_column\": null, \"tf_adjustment_weight\": 1.0, \"is_null_level\": false, \"bayes_factor\": 86.15680108328338, \"log2_bayes_factor\": 6.428892779925489, \"comparison_vector_value\": 2, \"max_comparison_vector_value\": 2, \"bayes_factor_description\": \"If comparison level is `exact match` then comparison is 86.16 times more likely to be a match\", \"probability_two_random_records_match\": 0.0027098983268983175, \"comparison_sort_order\": 5, \"iteration\": 2}, {\"comparison_name\": \"year_of_birth\", \"sql_condition\": \"abs(year_of_birth_l - year_of_birth_r) <= 5\", \"label_for_charts\": \"Inexact match\", \"m_probability\": 0.012060647936123579, \"u_probability\": 0.11039918989695713, \"m_probability_description\": \"Amongst matching record comparisons, 1.21% of records are in the inexact match comparison level\", \"u_probability_description\": \"Amongst non-matching record comparisons, 11.04% of records are in the inexact match comparison level\", \"has_tf_adjustments\": false, \"tf_adjustment_column\": null, \"tf_adjustment_weight\": 1.0, \"is_null_level\": false, \"bayes_factor\": 0.10924580105506734, \"log2_bayes_factor\": -3.1943502651701645, \"comparison_vector_value\": 1, \"max_comparison_vector_value\": 2, \"bayes_factor_description\": \"If comparison level is `inexact match` then comparison is  9.15 times less likely to be a match\", \"probability_two_random_records_match\": 0.0027098983268983175, \"comparison_sort_order\": 5, \"iteration\": 2}, {\"comparison_name\": \"year_of_birth\", \"sql_condition\": \"ELSE\", \"label_for_charts\": \"All other comparisons\", \"m_probability\": 0.023426350695798483, \"u_probability\": 0.8784059538729964, \"m_probability_description\": \"Amongst matching record comparisons, 2.34% of records are in the all other comparisons comparison level\", \"u_probability_description\": \"Amongst non-matching record comparisons, 87.84% of records are in the all other comparisons comparison level\", \"has_tf_adjustments\": false, \"tf_adjustment_column\": null, \"tf_adjustment_weight\": 1.0, \"is_null_level\": false, \"bayes_factor\": 0.026669162011606268, \"log2_bayes_factor\": -5.228683695995504, \"comparison_vector_value\": 0, \"max_comparison_vector_value\": 2, \"bayes_factor_description\": \"If comparison level is `all other comparisons` then comparison is  37.50 times less likely to be a match\", \"probability_two_random_records_match\": 0.0027098983268983175, \"comparison_sort_order\": 5, \"iteration\": 2}, {\"comparison_name\": \"first_name_15\", \"sql_condition\": \"`first_name_15_l` = `first_name_15_r`\", \"label_for_charts\": \"Exact match\", \"m_probability\": 0.8420941456455178, \"u_probability\": 0.0020286606846613266, \"m_probability_description\": \"Amongst matching record comparisons, 84.21% of records are in the exact match comparison level\", \"u_probability_description\": \"Amongst non-matching record comparisons, 0.20% of records are in the exact match comparison level\", \"has_tf_adjustments\": false, \"tf_adjustment_column\": null, \"tf_adjustment_weight\": 1.0, \"is_null_level\": false, \"bayes_factor\": 415.0985682389269, \"log2_bayes_factor\": 8.697310145570347, \"comparison_vector_value\": 2, \"max_comparison_vector_value\": 2, \"bayes_factor_description\": \"If comparison level is `exact match` then comparison is 415.10 times more likely to be a match\", \"probability_two_random_records_match\": 0.0027098983268983175, \"comparison_sort_order\": 0, \"iteration\": 3}, {\"comparison_name\": \"first_name_15\", \"sql_condition\": \"jaro_winkler(`first_name_15_l`, `first_name_15_r`) >= 0.8333333333333334\", \"label_for_charts\": \"Jaro_winkler >= 0.8333333333333334\", \"m_probability\": 0.09120086509764588, \"u_probability\": 0.0034715656116374467, \"m_probability_description\": \"Amongst matching record comparisons, 9.12% of records are in the jaro_winkler >= 0.8333333333333334 comparison level\", \"u_probability_description\": \"Amongst non-matching record comparisons, 0.35% of records are in the jaro_winkler >= 0.8333333333333334 comparison level\", \"has_tf_adjustments\": false, \"tf_adjustment_column\": null, \"tf_adjustment_weight\": 1.0, \"is_null_level\": false, \"bayes_factor\": 26.270817060729215, \"log2_bayes_factor\": 4.715389165976769, \"comparison_vector_value\": 1, \"max_comparison_vector_value\": 2, \"bayes_factor_description\": \"If comparison level is `jaro_winkler >= 0.8333333333333334` then comparison is 26.27 times more likely to be a match\", \"probability_two_random_records_match\": 0.0027098983268983175, \"comparison_sort_order\": 0, \"iteration\": 3}, {\"comparison_name\": \"first_name_15\", \"sql_condition\": \"ELSE\", \"label_for_charts\": \"All other comparisons\", \"m_probability\": 0.06670498925683639, \"u_probability\": 0.9944997737037012, \"m_probability_description\": \"Amongst matching record comparisons, 6.67% of records are in the all other comparisons comparison level\", \"u_probability_description\": \"Amongst non-matching record comparisons, 99.45% of records are in the all other comparisons comparison level\", \"has_tf_adjustments\": false, \"tf_adjustment_column\": null, \"tf_adjustment_weight\": 1.0, \"is_null_level\": false, \"bayes_factor\": 0.06707391094561506, \"log2_bayes_factor\": -3.8981044646067162, \"comparison_vector_value\": 0, \"max_comparison_vector_value\": 2, \"bayes_factor_description\": \"If comparison level is `all other comparisons` then comparison is  14.91 times less likely to be a match\", \"probability_two_random_records_match\": 0.0027098983268983175, \"comparison_sort_order\": 0, \"iteration\": 3}, {\"comparison_name\": \"last_name_12\", \"sql_condition\": \"`last_name_12_l` = `last_name_12_r`\", \"label_for_charts\": \"Exact match\", \"m_probability\": 0.8819116979669404, \"u_probability\": 0.000677983558493214, \"m_probability_description\": \"Amongst matching record comparisons, 88.19% of records are in the exact match comparison level\", \"u_probability_description\": \"Amongst non-matching record comparisons, 0.07% of records are in the exact match comparison level\", \"has_tf_adjustments\": false, \"tf_adjustment_column\": null, \"tf_adjustment_weight\": 1.0, \"is_null_level\": false, \"bayes_factor\": 1300.7862608452438, \"log2_bayes_factor\": 10.345168209245545, \"comparison_vector_value\": 2, \"max_comparison_vector_value\": 2, \"bayes_factor_description\": \"If comparison level is `exact match` then comparison is 1,300.79 times more likely to be a match\", \"probability_two_random_records_match\": 0.0027098983268983175, \"comparison_sort_order\": 1, \"iteration\": 3}, {\"comparison_name\": \"last_name_12\", \"sql_condition\": \"jaro_winkler(`last_name_12_l`, `last_name_12_r`) >= 0.8333333333333334\", \"label_for_charts\": \"Jaro_winkler >= 0.8333333333333334\", \"m_probability\": 0.08987346134443795, \"u_probability\": 0.001280545501029647, \"m_probability_description\": \"Amongst matching record comparisons, 8.99% of records are in the jaro_winkler >= 0.8333333333333334 comparison level\", \"u_probability_description\": \"Amongst non-matching record comparisons, 0.13% of records are in the jaro_winkler >= 0.8333333333333334 comparison level\", \"has_tf_adjustments\": false, \"tf_adjustment_column\": null, \"tf_adjustment_weight\": 1.0, \"is_null_level\": false, \"bayes_factor\": 70.18373128652867, \"log2_bayes_factor\": 6.133064744899788, \"comparison_vector_value\": 1, \"max_comparison_vector_value\": 2, \"bayes_factor_description\": \"If comparison level is `jaro_winkler >= 0.8333333333333334` then comparison is 70.18 times more likely to be a match\", \"probability_two_random_records_match\": 0.0027098983268983175, \"comparison_sort_order\": 1, \"iteration\": 3}, {\"comparison_name\": \"last_name_12\", \"sql_condition\": \"ELSE\", \"label_for_charts\": \"All other comparisons\", \"m_probability\": 0.028214840688621637, \"u_probability\": 0.9980414709404771, \"m_probability_description\": \"Amongst matching record comparisons, 2.82% of records are in the all other comparisons comparison level\", \"u_probability_description\": \"Amongst non-matching record comparisons, 99.80% of records are in the all other comparisons comparison level\", \"has_tf_adjustments\": false, \"tf_adjustment_column\": null, \"tf_adjustment_weight\": 1.0, \"is_null_level\": false, \"bayes_factor\": 0.0282702087139066, \"log2_bayes_factor\": -5.144573655406256, \"comparison_vector_value\": 0, \"max_comparison_vector_value\": 2, \"bayes_factor_description\": \"If comparison level is `all other comparisons` then comparison is  35.37 times less likely to be a match\", \"probability_two_random_records_match\": 0.0027098983268983175, \"comparison_sort_order\": 1, \"iteration\": 3}, {\"comparison_name\": \"middle_initial\", \"sql_condition\": \"`middle_initial_l` = `middle_initial_r`\", \"label_for_charts\": \"Exact match\", \"m_probability\": 0.9254557872107531, \"u_probability\": 0.0738281151949889, \"m_probability_description\": \"Amongst matching record comparisons, 92.55% of records are in the exact match comparison level\", \"u_probability_description\": \"Amongst non-matching record comparisons, 7.38% of records are in the exact match comparison level\", \"has_tf_adjustments\": false, \"tf_adjustment_column\": null, \"tf_adjustment_weight\": 1.0, \"is_null_level\": false, \"bayes_factor\": 12.53527581960495, \"log2_bayes_factor\": 3.647921835710061, \"comparison_vector_value\": 1, \"max_comparison_vector_value\": 1, \"bayes_factor_description\": \"If comparison level is `exact match` then comparison is 12.54 times more likely to be a match\", \"probability_two_random_records_match\": 0.0027098983268983175, \"comparison_sort_order\": 2, \"iteration\": 3}, {\"comparison_name\": \"middle_initial\", \"sql_condition\": \"ELSE\", \"label_for_charts\": \"All other comparisons\", \"m_probability\": 0.07454421278924701, \"u_probability\": 0.9261718848050111, \"m_probability_description\": \"Amongst matching record comparisons, 7.45% of records are in the all other comparisons comparison level\", \"u_probability_description\": \"Amongst non-matching record comparisons, 92.62% of records are in the all other comparisons comparison level\", \"has_tf_adjustments\": false, \"tf_adjustment_column\": null, \"tf_adjustment_weight\": 1.0, \"is_null_level\": false, \"bayes_factor\": 0.08048636976811378, \"log2_bayes_factor\": -3.635111703850698, \"comparison_vector_value\": 0, \"max_comparison_vector_value\": 1, \"bayes_factor_description\": \"If comparison level is `all other comparisons` then comparison is  12.42 times less likely to be a match\", \"probability_two_random_records_match\": 0.0027098983268983175, \"comparison_sort_order\": 2, \"iteration\": 3}, {\"comparison_name\": \"day_of_birth\", \"sql_condition\": \"`day_of_birth_l` = `day_of_birth_r`\", \"label_for_charts\": \"Exact match\", \"m_probability\": 0.9685329409156144, \"u_probability\": 0.032431119048632266, \"m_probability_description\": \"Amongst matching record comparisons, 96.85% of records are in the exact match comparison level\", \"u_probability_description\": \"Amongst non-matching record comparisons, 3.24% of records are in the exact match comparison level\", \"has_tf_adjustments\": false, \"tf_adjustment_column\": null, \"tf_adjustment_weight\": 1.0, \"is_null_level\": false, \"bayes_factor\": 29.864308396612692, \"log2_bayes_factor\": 4.900350406845058, \"comparison_vector_value\": 2, \"max_comparison_vector_value\": 2, \"bayes_factor_description\": \"If comparison level is `exact match` then comparison is 29.86 times more likely to be a match\", \"probability_two_random_records_match\": 0.0027098983268983175, \"comparison_sort_order\": 3, \"iteration\": 3}, {\"comparison_name\": \"day_of_birth\", \"sql_condition\": \"abs(day_of_birth_l - day_of_birth_r) <= 5\", \"label_for_charts\": \"Inexact match\", \"m_probability\": 0.018070263136715746, \"u_probability\": 0.29408973456130016, \"m_probability_description\": \"Amongst matching record comparisons, 1.81% of records are in the inexact match comparison level\", \"u_probability_description\": \"Amongst non-matching record comparisons, 29.41% of records are in the inexact match comparison level\", \"has_tf_adjustments\": false, \"tf_adjustment_column\": null, \"tf_adjustment_weight\": 1.0, \"is_null_level\": false, \"bayes_factor\": 0.06144472592241799, \"log2_bayes_factor\": -4.02456700687599, \"comparison_vector_value\": 1, \"max_comparison_vector_value\": 2, \"bayes_factor_description\": \"If comparison level is `inexact match` then comparison is  16.27 times less likely to be a match\", \"probability_two_random_records_match\": 0.0027098983268983175, \"comparison_sort_order\": 3, \"iteration\": 3}, {\"comparison_name\": \"day_of_birth\", \"sql_condition\": \"ELSE\", \"label_for_charts\": \"All other comparisons\", \"m_probability\": 0.01339679594766992, \"u_probability\": 0.6734791463900676, \"m_probability_description\": \"Amongst matching record comparisons, 1.34% of records are in the all other comparisons comparison level\", \"u_probability_description\": \"Amongst non-matching record comparisons, 67.35% of records are in the all other comparisons comparison level\", \"has_tf_adjustments\": false, \"tf_adjustment_column\": null, \"tf_adjustment_weight\": 1.0, \"is_null_level\": false, \"bayes_factor\": 0.019891923928867614, \"log2_bayes_factor\": -5.651673370696925, \"comparison_vector_value\": 0, \"max_comparison_vector_value\": 2, \"bayes_factor_description\": \"If comparison level is `all other comparisons` then comparison is  50.27 times less likely to be a match\", \"probability_two_random_records_match\": 0.0027098983268983175, \"comparison_sort_order\": 3, \"iteration\": 3}, {\"comparison_name\": \"month_of_birth\", \"sql_condition\": \"`month_of_birth_l` = `month_of_birth_r`\", \"label_for_charts\": \"Exact match\", \"m_probability\": 0.9768787380649321, \"u_probability\": 0.08338892953741671, \"m_probability_description\": \"Amongst matching record comparisons, 97.69% of records are in the exact match comparison level\", \"u_probability_description\": \"Amongst non-matching record comparisons, 8.34% of records are in the exact match comparison level\", \"has_tf_adjustments\": false, \"tf_adjustment_column\": null, \"tf_adjustment_weight\": 1.0, \"is_null_level\": false, \"bayes_factor\": 11.714729322992515, \"log2_bayes_factor\": 3.5502517149964103, \"comparison_vector_value\": 2, \"max_comparison_vector_value\": 2, \"bayes_factor_description\": \"If comparison level is `exact match` then comparison is 11.71 times more likely to be a match\", \"probability_two_random_records_match\": 0.0027098983268983175, \"comparison_sort_order\": 4, \"iteration\": 3}, {\"comparison_name\": \"month_of_birth\", \"sql_condition\": \"abs(month_of_birth_l - month_of_birth_r) <= 3\", \"label_for_charts\": \"Inexact match\", \"m_probability\": 0.011480853316484817, \"u_probability\": 0.4136651580190546, \"m_probability_description\": \"Amongst matching record comparisons, 1.15% of records are in the inexact match comparison level\", \"u_probability_description\": \"Amongst non-matching record comparisons, 41.37% of records are in the inexact match comparison level\", \"has_tf_adjustments\": false, \"tf_adjustment_column\": null, \"tf_adjustment_weight\": 1.0, \"is_null_level\": false, \"bayes_factor\": 0.02775397708490589, \"log2_bayes_factor\": -5.171161668418295, \"comparison_vector_value\": 1, \"max_comparison_vector_value\": 2, \"bayes_factor_description\": \"If comparison level is `inexact match` then comparison is  36.03 times less likely to be a match\", \"probability_two_random_records_match\": 0.0027098983268983175, \"comparison_sort_order\": 4, \"iteration\": 3}, {\"comparison_name\": \"month_of_birth\", \"sql_condition\": \"ELSE\", \"label_for_charts\": \"All other comparisons\", \"m_probability\": 0.01164040861858305, \"u_probability\": 0.5029459124435287, \"m_probability_description\": \"Amongst matching record comparisons, 1.16% of records are in the all other comparisons comparison level\", \"u_probability_description\": \"Amongst non-matching record comparisons, 50.29% of records are in the all other comparisons comparison level\", \"has_tf_adjustments\": false, \"tf_adjustment_column\": null, \"tf_adjustment_weight\": 1.0, \"is_null_level\": false, \"bayes_factor\": 0.023144454166112837, \"log2_bayes_factor\": -5.433189650956883, \"comparison_vector_value\": 0, \"max_comparison_vector_value\": 2, \"bayes_factor_description\": \"If comparison level is `all other comparisons` then comparison is  43.21 times less likely to be a match\", \"probability_two_random_records_match\": 0.0027098983268983175, \"comparison_sort_order\": 4, \"iteration\": 3}, {\"comparison_name\": \"year_of_birth\", \"sql_condition\": \"`year_of_birth_l` = `year_of_birth_r`\", \"label_for_charts\": \"Exact match\", \"m_probability\": 0.9639845553848253, \"u_probability\": 0.011194856230046568, \"m_probability_description\": \"Amongst matching record comparisons, 96.40% of records are in the exact match comparison level\", \"u_probability_description\": \"Amongst non-matching record comparisons, 1.12% of records are in the exact match comparison level\", \"has_tf_adjustments\": false, \"tf_adjustment_column\": null, \"tf_adjustment_weight\": 1.0, \"is_null_level\": false, \"bayes_factor\": 86.10959672689029, \"log2_bayes_factor\": 6.428102126687865, \"comparison_vector_value\": 2, \"max_comparison_vector_value\": 2, \"bayes_factor_description\": \"If comparison level is `exact match` then comparison is 86.11 times more likely to be a match\", \"probability_two_random_records_match\": 0.0027098983268983175, \"comparison_sort_order\": 5, \"iteration\": 3}, {\"comparison_name\": \"year_of_birth\", \"sql_condition\": \"abs(year_of_birth_l - year_of_birth_r) <= 5\", \"label_for_charts\": \"Inexact match\", \"m_probability\": 0.012227529557773885, \"u_probability\": 0.11039918989695713, \"m_probability_description\": \"Amongst matching record comparisons, 1.22% of records are in the inexact match comparison level\", \"u_probability_description\": \"Amongst non-matching record comparisons, 11.04% of records are in the inexact match comparison level\", \"has_tf_adjustments\": false, \"tf_adjustment_column\": null, \"tf_adjustment_weight\": 1.0, \"is_null_level\": false, \"bayes_factor\": 0.11075742103892834, \"log2_bayes_factor\": -3.1745247285009546, \"comparison_vector_value\": 1, \"max_comparison_vector_value\": 2, \"bayes_factor_description\": \"If comparison level is `inexact match` then comparison is  9.03 times less likely to be a match\", \"probability_two_random_records_match\": 0.0027098983268983175, \"comparison_sort_order\": 5, \"iteration\": 3}, {\"comparison_name\": \"year_of_birth\", \"sql_condition\": \"ELSE\", \"label_for_charts\": \"All other comparisons\", \"m_probability\": 0.023787915057400747, \"u_probability\": 0.8784059538729964, \"m_probability_description\": \"Amongst matching record comparisons, 2.38% of records are in the all other comparisons comparison level\", \"u_probability_description\": \"Amongst non-matching record comparisons, 87.84% of records are in the all other comparisons comparison level\", \"has_tf_adjustments\": false, \"tf_adjustment_column\": null, \"tf_adjustment_weight\": 1.0, \"is_null_level\": false, \"bayes_factor\": 0.027080776208900908, \"log2_bayes_factor\": -5.2065870986947855, \"comparison_vector_value\": 0, \"max_comparison_vector_value\": 2, \"bayes_factor_description\": \"If comparison level is `all other comparisons` then comparison is  36.93 times less likely to be a match\", \"probability_two_random_records_match\": 0.0027098983268983175, \"comparison_sort_order\": 5, \"iteration\": 3}, {\"comparison_name\": \"first_name_15\", \"sql_condition\": \"`first_name_15_l` = `first_name_15_r`\", \"label_for_charts\": \"Exact match\", \"m_probability\": 0.8419407065506601, \"u_probability\": 0.0020286606846613266, \"m_probability_description\": \"Amongst matching record comparisons, 84.19% of records are in the exact match comparison level\", \"u_probability_description\": \"Amongst non-matching record comparisons, 0.20% of records are in the exact match comparison level\", \"has_tf_adjustments\": false, \"tf_adjustment_column\": null, \"tf_adjustment_weight\": 1.0, \"is_null_level\": false, \"bayes_factor\": 415.02293257643396, \"log2_bayes_factor\": 8.697047246234797, \"comparison_vector_value\": 2, \"max_comparison_vector_value\": 2, \"bayes_factor_description\": \"If comparison level is `exact match` then comparison is 415.02 times more likely to be a match\", \"probability_two_random_records_match\": 0.0027098983268983175, \"comparison_sort_order\": 0, \"iteration\": 4}, {\"comparison_name\": \"first_name_15\", \"sql_condition\": \"jaro_winkler(`first_name_15_l`, `first_name_15_r`) >= 0.8333333333333334\", \"label_for_charts\": \"Jaro_winkler >= 0.8333333333333334\", \"m_probability\": 0.09117669350761508, \"u_probability\": 0.0034715656116374467, \"m_probability_description\": \"Amongst matching record comparisons, 9.12% of records are in the jaro_winkler >= 0.8333333333333334 comparison level\", \"u_probability_description\": \"Amongst non-matching record comparisons, 0.35% of records are in the jaro_winkler >= 0.8333333333333334 comparison level\", \"has_tf_adjustments\": false, \"tf_adjustment_column\": null, \"tf_adjustment_weight\": 1.0, \"is_null_level\": false, \"bayes_factor\": 26.263854326120434, \"log2_bayes_factor\": 4.715006747947504, \"comparison_vector_value\": 1, \"max_comparison_vector_value\": 2, \"bayes_factor_description\": \"If comparison level is `jaro_winkler >= 0.8333333333333334` then comparison is 26.26 times more likely to be a match\", \"probability_two_random_records_match\": 0.0027098983268983175, \"comparison_sort_order\": 0, \"iteration\": 4}, {\"comparison_name\": \"first_name_15\", \"sql_condition\": \"ELSE\", \"label_for_charts\": \"All other comparisons\", \"m_probability\": 0.0668825999417247, \"u_probability\": 0.9944997737037012, \"m_probability_description\": \"Amongst matching record comparisons, 6.69% of records are in the all other comparisons comparison level\", \"u_probability_description\": \"Amongst non-matching record comparisons, 99.45% of records are in the all other comparisons comparison level\", \"has_tf_adjustments\": false, \"tf_adjustment_column\": null, \"tf_adjustment_weight\": 1.0, \"is_null_level\": false, \"bayes_factor\": 0.06725250393234532, \"log2_bayes_factor\": -3.8942682069600623, \"comparison_vector_value\": 0, \"max_comparison_vector_value\": 2, \"bayes_factor_description\": \"If comparison level is `all other comparisons` then comparison is  14.87 times less likely to be a match\", \"probability_two_random_records_match\": 0.0027098983268983175, \"comparison_sort_order\": 0, \"iteration\": 4}, {\"comparison_name\": \"last_name_12\", \"sql_condition\": \"`last_name_12_l` = `last_name_12_r`\", \"label_for_charts\": \"Exact match\", \"m_probability\": 0.8819212938693646, \"u_probability\": 0.000677983558493214, \"m_probability_description\": \"Amongst matching record comparisons, 88.19% of records are in the exact match comparison level\", \"u_probability_description\": \"Amongst non-matching record comparisons, 0.07% of records are in the exact match comparison level\", \"has_tf_adjustments\": false, \"tf_adjustment_column\": null, \"tf_adjustment_weight\": 1.0, \"is_null_level\": false, \"bayes_factor\": 1300.8004144368817, \"log2_bayes_factor\": 10.345183906832453, \"comparison_vector_value\": 2, \"max_comparison_vector_value\": 2, \"bayes_factor_description\": \"If comparison level is `exact match` then comparison is 1,300.80 times more likely to be a match\", \"probability_two_random_records_match\": 0.0027098983268983175, \"comparison_sort_order\": 1, \"iteration\": 4}, {\"comparison_name\": \"last_name_12\", \"sql_condition\": \"jaro_winkler(`last_name_12_l`, `last_name_12_r`) >= 0.8333333333333334\", \"label_for_charts\": \"Jaro_winkler >= 0.8333333333333334\", \"m_probability\": 0.08985815807603938, \"u_probability\": 0.001280545501029647, \"m_probability_description\": \"Amongst matching record comparisons, 8.99% of records are in the jaro_winkler >= 0.8333333333333334 comparison level\", \"u_probability_description\": \"Amongst non-matching record comparisons, 0.13% of records are in the jaro_winkler >= 0.8333333333333334 comparison level\", \"has_tf_adjustments\": false, \"tf_adjustment_column\": null, \"tf_adjustment_weight\": 1.0, \"is_null_level\": false, \"bayes_factor\": 70.17178070110529, \"log2_bayes_factor\": 6.132819068045014, \"comparison_vector_value\": 1, \"max_comparison_vector_value\": 2, \"bayes_factor_description\": \"If comparison level is `jaro_winkler >= 0.8333333333333334` then comparison is 70.17 times more likely to be a match\", \"probability_two_random_records_match\": 0.0027098983268983175, \"comparison_sort_order\": 1, \"iteration\": 4}, {\"comparison_name\": \"last_name_12\", \"sql_condition\": \"ELSE\", \"label_for_charts\": \"All other comparisons\", \"m_probability\": 0.028220548054596086, \"u_probability\": 0.9980414709404771, \"m_probability_description\": \"Amongst matching record comparisons, 2.82% of records are in the all other comparisons comparison level\", \"u_probability_description\": \"Amongst non-matching record comparisons, 99.80% of records are in the all other comparisons comparison level\", \"has_tf_adjustments\": false, \"tf_adjustment_column\": null, \"tf_adjustment_weight\": 1.0, \"is_null_level\": false, \"bayes_factor\": 0.028275927279858646, \"log2_bayes_factor\": -5.1442818530886205, \"comparison_vector_value\": 0, \"max_comparison_vector_value\": 2, \"bayes_factor_description\": \"If comparison level is `all other comparisons` then comparison is  35.37 times less likely to be a match\", \"probability_two_random_records_match\": 0.0027098983268983175, \"comparison_sort_order\": 1, \"iteration\": 4}, {\"comparison_name\": \"middle_initial\", \"sql_condition\": \"`middle_initial_l` = `middle_initial_r`\", \"label_for_charts\": \"Exact match\", \"m_probability\": 0.9253665489584391, \"u_probability\": 0.0738281151949889, \"m_probability_description\": \"Amongst matching record comparisons, 92.54% of records are in the exact match comparison level\", \"u_probability_description\": \"Amongst non-matching record comparisons, 7.38% of records are in the exact match comparison level\", \"has_tf_adjustments\": false, \"tf_adjustment_column\": null, \"tf_adjustment_weight\": 1.0, \"is_null_level\": false, \"bayes_factor\": 12.534067089677626, \"log2_bayes_factor\": 3.6477827152967666, \"comparison_vector_value\": 1, \"max_comparison_vector_value\": 1, \"bayes_factor_description\": \"If comparison level is `exact match` then comparison is 12.53 times more likely to be a match\", \"probability_two_random_records_match\": 0.0027098983268983175, \"comparison_sort_order\": 2, \"iteration\": 4}, {\"comparison_name\": \"middle_initial\", \"sql_condition\": \"ELSE\", \"label_for_charts\": \"All other comparisons\", \"m_probability\": 0.07463345104156083, \"u_probability\": 0.9261718848050111, \"m_probability_description\": \"Amongst matching record comparisons, 7.46% of records are in the all other comparisons comparison level\", \"u_probability_description\": \"Amongst non-matching record comparisons, 92.62% of records are in the all other comparisons comparison level\", \"has_tf_adjustments\": false, \"tf_adjustment_column\": null, \"tf_adjustment_weight\": 1.0, \"is_null_level\": false, \"bayes_factor\": 0.0805827214861673, \"log2_bayes_factor\": -3.6333856599360606, \"comparison_vector_value\": 0, \"max_comparison_vector_value\": 1, \"bayes_factor_description\": \"If comparison level is `all other comparisons` then comparison is  12.41 times less likely to be a match\", \"probability_two_random_records_match\": 0.0027098983268983175, \"comparison_sort_order\": 2, \"iteration\": 4}, {\"comparison_name\": \"day_of_birth\", \"sql_condition\": \"`day_of_birth_l` = `day_of_birth_r`\", \"label_for_charts\": \"Exact match\", \"m_probability\": 0.9683291397160265, \"u_probability\": 0.032431119048632266, \"m_probability_description\": \"Amongst matching record comparisons, 96.83% of records are in the exact match comparison level\", \"u_probability_description\": \"Amongst non-matching record comparisons, 3.24% of records are in the exact match comparison level\", \"has_tf_adjustments\": false, \"tf_adjustment_column\": null, \"tf_adjustment_weight\": 1.0, \"is_null_level\": false, \"bayes_factor\": 29.858024271810145, \"log2_bayes_factor\": 4.900046799289313, \"comparison_vector_value\": 2, \"max_comparison_vector_value\": 2, \"bayes_factor_description\": \"If comparison level is `exact match` then comparison is 29.86 times more likely to be a match\", \"probability_two_random_records_match\": 0.0027098983268983175, \"comparison_sort_order\": 3, \"iteration\": 4}, {\"comparison_name\": \"day_of_birth\", \"sql_condition\": \"abs(day_of_birth_l - day_of_birth_r) <= 5\", \"label_for_charts\": \"Inexact match\", \"m_probability\": 0.01812311646094731, \"u_probability\": 0.29408973456130016, \"m_probability_description\": \"Amongst matching record comparisons, 1.81% of records are in the inexact match comparison level\", \"u_probability_description\": \"Amongst non-matching record comparisons, 29.41% of records are in the inexact match comparison level\", \"has_tf_adjustments\": false, \"tf_adjustment_column\": null, \"tf_adjustment_weight\": 1.0, \"is_null_level\": false, \"bayes_factor\": 0.06162444428052527, \"log2_bayes_factor\": -4.0203534582208125, \"comparison_vector_value\": 1, \"max_comparison_vector_value\": 2, \"bayes_factor_description\": \"If comparison level is `inexact match` then comparison is  16.23 times less likely to be a match\", \"probability_two_random_records_match\": 0.0027098983268983175, \"comparison_sort_order\": 3, \"iteration\": 4}, {\"comparison_name\": \"day_of_birth\", \"sql_condition\": \"ELSE\", \"label_for_charts\": \"All other comparisons\", \"m_probability\": 0.013547743823026094, \"u_probability\": 0.6734791463900676, \"m_probability_description\": \"Amongst matching record comparisons, 1.35% of records are in the all other comparisons comparison level\", \"u_probability_description\": \"Amongst non-matching record comparisons, 67.35% of records are in the all other comparisons comparison level\", \"has_tf_adjustments\": false, \"tf_adjustment_column\": null, \"tf_adjustment_weight\": 1.0, \"is_null_level\": false, \"bayes_factor\": 0.02011605540519509, \"log2_bayes_factor\": -5.635508757657693, \"comparison_vector_value\": 0, \"max_comparison_vector_value\": 2, \"bayes_factor_description\": \"If comparison level is `all other comparisons` then comparison is  49.71 times less likely to be a match\", \"probability_two_random_records_match\": 0.0027098983268983175, \"comparison_sort_order\": 3, \"iteration\": 4}, {\"comparison_name\": \"month_of_birth\", \"sql_condition\": \"`month_of_birth_l` = `month_of_birth_r`\", \"label_for_charts\": \"Exact match\", \"m_probability\": 0.976696152716569, \"u_probability\": 0.08338892953741671, \"m_probability_description\": \"Amongst matching record comparisons, 97.67% of records are in the exact match comparison level\", \"u_probability_description\": \"Amongst non-matching record comparisons, 8.34% of records are in the exact match comparison level\", \"has_tf_adjustments\": false, \"tf_adjustment_column\": null, \"tf_adjustment_weight\": 1.0, \"is_null_level\": false, \"bayes_factor\": 11.712539759589122, \"log2_bayes_factor\": 3.5499820401775617, \"comparison_vector_value\": 2, \"max_comparison_vector_value\": 2, \"bayes_factor_description\": \"If comparison level is `exact match` then comparison is 11.71 times more likely to be a match\", \"probability_two_random_records_match\": 0.0027098983268983175, \"comparison_sort_order\": 4, \"iteration\": 4}, {\"comparison_name\": \"month_of_birth\", \"sql_condition\": \"abs(month_of_birth_l - month_of_birth_r) <= 3\", \"label_for_charts\": \"Inexact match\", \"m_probability\": 0.01157429487970415, \"u_probability\": 0.4136651580190546, \"m_probability_description\": \"Amongst matching record comparisons, 1.16% of records are in the inexact match comparison level\", \"u_probability_description\": \"Amongst non-matching record comparisons, 41.37% of records are in the inexact match comparison level\", \"has_tf_adjustments\": false, \"tf_adjustment_column\": null, \"tf_adjustment_weight\": 1.0, \"is_null_level\": false, \"bayes_factor\": 0.02797986404059441, \"log2_bayes_factor\": -5.159467237580735, \"comparison_vector_value\": 1, \"max_comparison_vector_value\": 2, \"bayes_factor_description\": \"If comparison level is `inexact match` then comparison is  35.74 times less likely to be a match\", \"probability_two_random_records_match\": 0.0027098983268983175, \"comparison_sort_order\": 4, \"iteration\": 4}, {\"comparison_name\": \"month_of_birth\", \"sql_condition\": \"ELSE\", \"label_for_charts\": \"All other comparisons\", \"m_probability\": 0.011729552403726869, \"u_probability\": 0.5029459124435287, \"m_probability_description\": \"Amongst matching record comparisons, 1.17% of records are in the all other comparisons comparison level\", \"u_probability_description\": \"Amongst non-matching record comparisons, 50.29% of records are in the all other comparisons comparison level\", \"has_tf_adjustments\": false, \"tf_adjustment_column\": null, \"tf_adjustment_weight\": 1.0, \"is_null_level\": false, \"bayes_factor\": 0.023321697450009348, \"log2_bayes_factor\": -5.422183392077318, \"comparison_vector_value\": 0, \"max_comparison_vector_value\": 2, \"bayes_factor_description\": \"If comparison level is `all other comparisons` then comparison is  42.88 times less likely to be a match\", \"probability_two_random_records_match\": 0.0027098983268983175, \"comparison_sort_order\": 4, \"iteration\": 4}, {\"comparison_name\": \"year_of_birth\", \"sql_condition\": \"`year_of_birth_l` = `year_of_birth_r`\", \"label_for_charts\": \"Exact match\", \"m_probability\": 0.963786032809168, \"u_probability\": 0.011194856230046568, \"m_probability_description\": \"Amongst matching record comparisons, 96.38% of records are in the exact match comparison level\", \"u_probability_description\": \"Amongst non-matching record comparisons, 1.12% of records are in the exact match comparison level\", \"has_tf_adjustments\": false, \"tf_adjustment_column\": null, \"tf_adjustment_weight\": 1.0, \"is_null_level\": false, \"bayes_factor\": 86.09186335259965, \"log2_bayes_factor\": 6.427804988077937, \"comparison_vector_value\": 2, \"max_comparison_vector_value\": 2, \"bayes_factor_description\": \"If comparison level is `exact match` then comparison is 86.09 times more likely to be a match\", \"probability_two_random_records_match\": 0.0027098983268983175, \"comparison_sort_order\": 5, \"iteration\": 4}, {\"comparison_name\": \"year_of_birth\", \"sql_condition\": \"abs(year_of_birth_l - year_of_birth_r) <= 5\", \"label_for_charts\": \"Inexact match\", \"m_probability\": 0.012285654838991182, \"u_probability\": 0.11039918989695713, \"m_probability_description\": \"Amongst matching record comparisons, 1.23% of records are in the inexact match comparison level\", \"u_probability_description\": \"Amongst non-matching record comparisons, 11.04% of records are in the inexact match comparison level\", \"has_tf_adjustments\": false, \"tf_adjustment_column\": null, \"tf_adjustment_weight\": 1.0, \"is_null_level\": false, \"bayes_factor\": 0.11128392201481005, \"log2_bayes_factor\": -3.167682923636418, \"comparison_vector_value\": 1, \"max_comparison_vector_value\": 2, \"bayes_factor_description\": \"If comparison level is `inexact match` then comparison is  8.99 times less likely to be a match\", \"probability_two_random_records_match\": 0.0027098983268983175, \"comparison_sort_order\": 5, \"iteration\": 4}, {\"comparison_name\": \"year_of_birth\", \"sql_condition\": \"ELSE\", \"label_for_charts\": \"All other comparisons\", \"m_probability\": 0.023928312351840952, \"u_probability\": 0.8784059538729964, \"m_probability_description\": \"Amongst matching record comparisons, 2.39% of records are in the all other comparisons comparison level\", \"u_probability_description\": \"Amongst non-matching record comparisons, 87.84% of records are in the all other comparisons comparison level\", \"has_tf_adjustments\": false, \"tf_adjustment_column\": null, \"tf_adjustment_weight\": 1.0, \"is_null_level\": false, \"bayes_factor\": 0.02724060811101994, \"log2_bayes_factor\": -5.198097279781561, \"comparison_vector_value\": 0, \"max_comparison_vector_value\": 2, \"bayes_factor_description\": \"If comparison level is `all other comparisons` then comparison is  36.71 times less likely to be a match\", \"probability_two_random_records_match\": 0.0027098983268983175, \"comparison_sort_order\": 5, \"iteration\": 4}, {\"comparison_name\": \"first_name_15\", \"sql_condition\": \"`first_name_15_l` = `first_name_15_r`\", \"label_for_charts\": \"Exact match\", \"m_probability\": 0.8419096458817422, \"u_probability\": 0.0020286606846613266, \"m_probability_description\": \"Amongst matching record comparisons, 84.19% of records are in the exact match comparison level\", \"u_probability_description\": \"Amongst non-matching record comparisons, 0.20% of records are in the exact match comparison level\", \"has_tf_adjustments\": false, \"tf_adjustment_column\": null, \"tf_adjustment_weight\": 1.0, \"is_null_level\": false, \"bayes_factor\": 415.0076216527528, \"log2_bayes_factor\": 8.696994021703349, \"comparison_vector_value\": 2, \"max_comparison_vector_value\": 2, \"bayes_factor_description\": \"If comparison level is `exact match` then comparison is 415.01 times more likely to be a match\", \"probability_two_random_records_match\": 0.0027098983268983175, \"comparison_sort_order\": 0, \"iteration\": 5}, {\"comparison_name\": \"first_name_15\", \"sql_condition\": \"jaro_winkler(`first_name_15_l`, `first_name_15_r`) >= 0.8333333333333334\", \"label_for_charts\": \"Jaro_winkler >= 0.8333333333333334\", \"m_probability\": 0.09116997614766156, \"u_probability\": 0.0034715656116374467, \"m_probability_description\": \"Amongst matching record comparisons, 9.12% of records are in the jaro_winkler >= 0.8333333333333334 comparison level\", \"u_probability_description\": \"Amongst non-matching record comparisons, 0.35% of records are in the jaro_winkler >= 0.8333333333333334 comparison level\", \"has_tf_adjustments\": false, \"tf_adjustment_column\": null, \"tf_adjustment_weight\": 1.0, \"is_null_level\": false, \"bayes_factor\": 26.261919360544383, \"log2_bayes_factor\": 4.714900454787168, \"comparison_vector_value\": 1, \"max_comparison_vector_value\": 2, \"bayes_factor_description\": \"If comparison level is `jaro_winkler >= 0.8333333333333334` then comparison is 26.26 times more likely to be a match\", \"probability_two_random_records_match\": 0.0027098983268983175, \"comparison_sort_order\": 0, \"iteration\": 5}, {\"comparison_name\": \"first_name_15\", \"sql_condition\": \"ELSE\", \"label_for_charts\": \"All other comparisons\", \"m_probability\": 0.06692037797059636, \"u_probability\": 0.9944997737037012, \"m_probability_description\": \"Amongst matching record comparisons, 6.69% of records are in the all other comparisons comparison level\", \"u_probability_description\": \"Amongst non-matching record comparisons, 99.45% of records are in the all other comparisons comparison level\", \"has_tf_adjustments\": false, \"tf_adjustment_column\": null, \"tf_adjustment_weight\": 1.0, \"is_null_level\": false, \"bayes_factor\": 0.06729049089812508, \"log2_bayes_factor\": -3.8934535438306415, \"comparison_vector_value\": 0, \"max_comparison_vector_value\": 2, \"bayes_factor_description\": \"If comparison level is `all other comparisons` then comparison is  14.86 times less likely to be a match\", \"probability_two_random_records_match\": 0.0027098983268983175, \"comparison_sort_order\": 0, \"iteration\": 5}, {\"comparison_name\": \"last_name_12\", \"sql_condition\": \"`last_name_12_l` = `last_name_12_r`\", \"label_for_charts\": \"Exact match\", \"m_probability\": 0.8819253824464584, \"u_probability\": 0.000677983558493214, \"m_probability_description\": \"Amongst matching record comparisons, 88.19% of records are in the exact match comparison level\", \"u_probability_description\": \"Amongst non-matching record comparisons, 0.07% of records are in the exact match comparison level\", \"has_tf_adjustments\": false, \"tf_adjustment_column\": null, \"tf_adjustment_weight\": 1.0, \"is_null_level\": false, \"bayes_factor\": 1300.8064449328172, \"log2_bayes_factor\": 10.34519059513476, \"comparison_vector_value\": 2, \"max_comparison_vector_value\": 2, \"bayes_factor_description\": \"If comparison level is `exact match` then comparison is 1,300.81 times more likely to be a match\", \"probability_two_random_records_match\": 0.0027098983268983175, \"comparison_sort_order\": 1, \"iteration\": 5}, {\"comparison_name\": \"last_name_12\", \"sql_condition\": \"jaro_winkler(`last_name_12_l`, `last_name_12_r`) >= 0.8333333333333334\", \"label_for_charts\": \"Jaro_winkler >= 0.8333333333333334\", \"m_probability\": 0.08985341987023447, \"u_probability\": 0.001280545501029647, \"m_probability_description\": \"Amongst matching record comparisons, 8.99% of records are in the jaro_winkler >= 0.8333333333333334 comparison level\", \"u_probability_description\": \"Amongst non-matching record comparisons, 0.13% of records are in the jaro_winkler >= 0.8333333333333334 comparison level\", \"has_tf_adjustments\": false, \"tf_adjustment_column\": null, \"tf_adjustment_weight\": 1.0, \"is_null_level\": false, \"bayes_factor\": 70.1680805547215, \"log2_bayes_factor\": 6.132742992968525, \"comparison_vector_value\": 1, \"max_comparison_vector_value\": 2, \"bayes_factor_description\": \"If comparison level is `jaro_winkler >= 0.8333333333333334` then comparison is 70.17 times more likely to be a match\", \"probability_two_random_records_match\": 0.0027098983268983175, \"comparison_sort_order\": 1, \"iteration\": 5}, {\"comparison_name\": \"last_name_12\", \"sql_condition\": \"ELSE\", \"label_for_charts\": \"All other comparisons\", \"m_probability\": 0.02822119768330704, \"u_probability\": 0.9980414709404771, \"m_probability_description\": \"Amongst matching record comparisons, 2.82% of records are in the all other comparisons comparison level\", \"u_probability_description\": \"Amongst non-matching record comparisons, 99.80% of records are in the all other comparisons comparison level\", \"has_tf_adjustments\": false, \"tf_adjustment_column\": null, \"tf_adjustment_weight\": 1.0, \"is_null_level\": false, \"bayes_factor\": 0.028276578183383066, \"log2_bayes_factor\": -5.144248643055604, \"comparison_vector_value\": 0, \"max_comparison_vector_value\": 2, \"bayes_factor_description\": \"If comparison level is `all other comparisons` then comparison is  35.36 times less likely to be a match\", \"probability_two_random_records_match\": 0.0027098983268983175, \"comparison_sort_order\": 1, \"iteration\": 5}, {\"comparison_name\": \"middle_initial\", \"sql_condition\": \"`middle_initial_l` = `middle_initial_r`\", \"label_for_charts\": \"Exact match\", \"m_probability\": 0.9253486186082084, \"u_probability\": 0.0738281151949889, \"m_probability_description\": \"Amongst matching record comparisons, 92.53% of records are in the exact match comparison level\", \"u_probability_description\": \"Amongst non-matching record comparisons, 7.38% of records are in the exact match comparison level\", \"has_tf_adjustments\": false, \"tf_adjustment_column\": null, \"tf_adjustment_weight\": 1.0, \"is_null_level\": false, \"bayes_factor\": 12.533824223525844, \"log2_bayes_factor\": 3.647754760668401, \"comparison_vector_value\": 1, \"max_comparison_vector_value\": 1, \"bayes_factor_description\": \"If comparison level is `exact match` then comparison is 12.53 times more likely to be a match\", \"probability_two_random_records_match\": 0.0027098983268983175, \"comparison_sort_order\": 2, \"iteration\": 5}, {\"comparison_name\": \"middle_initial\", \"sql_condition\": \"ELSE\", \"label_for_charts\": \"All other comparisons\", \"m_probability\": 0.07465138139179163, \"u_probability\": 0.9261718848050111, \"m_probability_description\": \"Amongst matching record comparisons, 7.47% of records are in the all other comparisons comparison level\", \"u_probability_description\": \"Amongst non-matching record comparisons, 92.62% of records are in the all other comparisons comparison level\", \"has_tf_adjustments\": false, \"tf_adjustment_column\": null, \"tf_adjustment_weight\": 1.0, \"is_null_level\": false, \"bayes_factor\": 0.08060208112180833, \"log2_bayes_factor\": -3.6330391005828817, \"comparison_vector_value\": 0, \"max_comparison_vector_value\": 1, \"bayes_factor_description\": \"If comparison level is `all other comparisons` then comparison is  12.41 times less likely to be a match\", \"probability_two_random_records_match\": 0.0027098983268983175, \"comparison_sort_order\": 2, \"iteration\": 5}, {\"comparison_name\": \"day_of_birth\", \"sql_condition\": \"`day_of_birth_l` = `day_of_birth_r`\", \"label_for_charts\": \"Exact match\", \"m_probability\": 0.9682522611273179, \"u_probability\": 0.032431119048632266, \"m_probability_description\": \"Amongst matching record comparisons, 96.83% of records are in the exact match comparison level\", \"u_probability_description\": \"Amongst non-matching record comparisons, 3.24% of records are in the exact match comparison level\", \"has_tf_adjustments\": false, \"tf_adjustment_column\": null, \"tf_adjustment_weight\": 1.0, \"is_null_level\": false, \"bayes_factor\": 29.85565375266175, \"log2_bayes_factor\": 4.899932254805212, \"comparison_vector_value\": 2, \"max_comparison_vector_value\": 2, \"bayes_factor_description\": \"If comparison level is `exact match` then comparison is 29.86 times more likely to be a match\", \"probability_two_random_records_match\": 0.0027098983268983175, \"comparison_sort_order\": 3, \"iteration\": 5}, {\"comparison_name\": \"day_of_birth\", \"sql_condition\": \"abs(day_of_birth_l - day_of_birth_r) <= 5\", \"label_for_charts\": \"Inexact match\", \"m_probability\": 0.018140431971217792, \"u_probability\": 0.29408973456130016, \"m_probability_description\": \"Amongst matching record comparisons, 1.81% of records are in the inexact match comparison level\", \"u_probability_description\": \"Amongst non-matching record comparisons, 29.41% of records are in the inexact match comparison level\", \"has_tf_adjustments\": false, \"tf_adjustment_column\": null, \"tf_adjustment_weight\": 1.0, \"is_null_level\": false, \"bayes_factor\": 0.06168332260314443, \"log2_bayes_factor\": -4.018975710935935, \"comparison_vector_value\": 1, \"max_comparison_vector_value\": 2, \"bayes_factor_description\": \"If comparison level is `inexact match` then comparison is  16.21 times less likely to be a match\", \"probability_two_random_records_match\": 0.0027098983268983175, \"comparison_sort_order\": 3, \"iteration\": 5}, {\"comparison_name\": \"day_of_birth\", \"sql_condition\": \"ELSE\", \"label_for_charts\": \"All other comparisons\", \"m_probability\": 0.013607306901464226, \"u_probability\": 0.6734791463900676, \"m_probability_description\": \"Amongst matching record comparisons, 1.36% of records are in the all other comparisons comparison level\", \"u_probability_description\": \"Amongst non-matching record comparisons, 67.35% of records are in the all other comparisons comparison level\", \"has_tf_adjustments\": false, \"tf_adjustment_column\": null, \"tf_adjustment_weight\": 1.0, \"is_null_level\": false, \"bayes_factor\": 0.02020449627045038, \"log2_bayes_factor\": -5.629179806438571, \"comparison_vector_value\": 0, \"max_comparison_vector_value\": 2, \"bayes_factor_description\": \"If comparison level is `all other comparisons` then comparison is  49.49 times less likely to be a match\", \"probability_two_random_records_match\": 0.0027098983268983175, \"comparison_sort_order\": 3, \"iteration\": 5}, {\"comparison_name\": \"month_of_birth\", \"sql_condition\": \"`month_of_birth_l` = `month_of_birth_r`\", \"label_for_charts\": \"Exact match\", \"m_probability\": 0.976626292717301, \"u_probability\": 0.08338892953741671, \"m_probability_description\": \"Amongst matching record comparisons, 97.66% of records are in the exact match comparison level\", \"u_probability_description\": \"Amongst non-matching record comparisons, 8.34% of records are in the exact match comparison level\", \"has_tf_adjustments\": false, \"tf_adjustment_column\": null, \"tf_adjustment_weight\": 1.0, \"is_null_level\": false, \"bayes_factor\": 11.711701998513934, \"log2_bayes_factor\": 3.5498788450550367, \"comparison_vector_value\": 2, \"max_comparison_vector_value\": 2, \"bayes_factor_description\": \"If comparison level is `exact match` then comparison is 11.71 times more likely to be a match\", \"probability_two_random_records_match\": 0.0027098983268983175, \"comparison_sort_order\": 4, \"iteration\": 5}, {\"comparison_name\": \"month_of_birth\", \"sql_condition\": \"abs(month_of_birth_l - month_of_birth_r) <= 3\", \"label_for_charts\": \"Inexact match\", \"m_probability\": 0.0116110428214393, \"u_probability\": 0.4136651580190546, \"m_probability_description\": \"Amongst matching record comparisons, 1.16% of records are in the inexact match comparison level\", \"u_probability_description\": \"Amongst non-matching record comparisons, 41.37% of records are in the inexact match comparison level\", \"has_tf_adjustments\": false, \"tf_adjustment_column\": null, \"tf_adjustment_weight\": 1.0, \"is_null_level\": false, \"bayes_factor\": 0.02806869903436359, \"log2_bayes_factor\": -5.154893992335681, \"comparison_vector_value\": 1, \"max_comparison_vector_value\": 2, \"bayes_factor_description\": \"If comparison level is `inexact match` then comparison is  35.63 times less likely to be a match\", \"probability_two_random_records_match\": 0.0027098983268983175, \"comparison_sort_order\": 4, \"iteration\": 5}, {\"comparison_name\": \"month_of_birth\", \"sql_condition\": \"ELSE\", \"label_for_charts\": \"All other comparisons\", \"m_probability\": 0.011762664461259825, \"u_probability\": 0.5029459124435287, \"m_probability_description\": \"Amongst matching record comparisons, 1.18% of records are in the all other comparisons comparison level\", \"u_probability_description\": \"Amongst non-matching record comparisons, 50.29% of records are in the all other comparisons comparison level\", \"has_tf_adjustments\": false, \"tf_adjustment_column\": null, \"tf_adjustment_weight\": 1.0, \"is_null_level\": false, \"bayes_factor\": 0.023387533669598216, \"log2_bayes_factor\": -5.418116459347579, \"comparison_vector_value\": 0, \"max_comparison_vector_value\": 2, \"bayes_factor_description\": \"If comparison level is `all other comparisons` then comparison is  42.76 times less likely to be a match\", \"probability_two_random_records_match\": 0.0027098983268983175, \"comparison_sort_order\": 4, \"iteration\": 5}, {\"comparison_name\": \"year_of_birth\", \"sql_condition\": \"`year_of_birth_l` = `year_of_birth_r`\", \"label_for_charts\": \"Exact match\", \"m_probability\": 0.9637116517150498, \"u_probability\": 0.011194856230046568, \"m_probability_description\": \"Amongst matching record comparisons, 96.37% of records are in the exact match comparison level\", \"u_probability_description\": \"Amongst non-matching record comparisons, 1.12% of records are in the exact match comparison level\", \"has_tf_adjustments\": false, \"tf_adjustment_column\": null, \"tf_adjustment_weight\": 1.0, \"is_null_level\": false, \"bayes_factor\": 86.08521913202283, \"log2_bayes_factor\": 6.427693642433753, \"comparison_vector_value\": 2, \"max_comparison_vector_value\": 2, \"bayes_factor_description\": \"If comparison level is `exact match` then comparison is 86.09 times more likely to be a match\", \"probability_two_random_records_match\": 0.0027098983268983175, \"comparison_sort_order\": 5, \"iteration\": 5}, {\"comparison_name\": \"year_of_birth\", \"sql_condition\": \"abs(year_of_birth_l - year_of_birth_r) <= 5\", \"label_for_charts\": \"Inexact match\", \"m_probability\": 0.012306644956359206, \"u_probability\": 0.11039918989695713, \"m_probability_description\": \"Amongst matching record comparisons, 1.23% of records are in the inexact match comparison level\", \"u_probability_description\": \"Amongst non-matching record comparisons, 11.04% of records are in the inexact match comparison level\", \"has_tf_adjustments\": false, \"tf_adjustment_column\": null, \"tf_adjustment_weight\": 1.0, \"is_null_level\": false, \"bayes_factor\": 0.11147405128466804, \"log2_bayes_factor\": -3.1652201734389886, \"comparison_vector_value\": 1, \"max_comparison_vector_value\": 2, \"bayes_factor_description\": \"If comparison level is `inexact match` then comparison is  8.97 times less likely to be a match\", \"probability_two_random_records_match\": 0.0027098983268983175, \"comparison_sort_order\": 5, \"iteration\": 5}, {\"comparison_name\": \"year_of_birth\", \"sql_condition\": \"ELSE\", \"label_for_charts\": \"All other comparisons\", \"m_probability\": 0.02398170332859101, \"u_probability\": 0.8784059538729964, \"m_probability_description\": \"Amongst matching record comparisons, 2.40% of records are in the all other comparisons comparison level\", \"u_probability_description\": \"Amongst non-matching record comparisons, 87.84% of records are in the all other comparisons comparison level\", \"has_tf_adjustments\": false, \"tf_adjustment_column\": null, \"tf_adjustment_weight\": 1.0, \"is_null_level\": false, \"bayes_factor\": 0.02730138977639305, \"log2_bayes_factor\": -5.19488179641434, \"comparison_vector_value\": 0, \"max_comparison_vector_value\": 2, \"bayes_factor_description\": \"If comparison level is `all other comparisons` then comparison is  36.63 times less likely to be a match\", \"probability_two_random_records_match\": 0.0027098983268983175, \"comparison_sort_order\": 5, \"iteration\": 5}]}}, {\"mode\": \"vega-lite\"});\n",
       "</script>"
      ],
      "text/plain": [
       "alt.HConcatChart(...)"
      ]
     },
     "execution_count": 60,
     "metadata": {},
     "output_type": "execute_result"
    }
   ],
   "source": [
    "em_session_2.m_u_values_interactive_history_chart()"
   ]
  },
  {
   "cell_type": "code",
   "execution_count": 61,
   "id": "c2226bd7-8baa-4be1-bb4d-f43ac0783ec3",
   "metadata": {
    "execution": {
     "iopub.execute_input": "2024-02-12T19:33:18.684286Z",
     "iopub.status.busy": "2024-02-12T19:33:18.684006Z",
     "iopub.status.idle": "2024-02-12T19:33:21.003490Z",
     "shell.execute_reply": "2024-02-12T19:33:21.002481Z"
    },
    "papermill": {
     "duration": 2.350791,
     "end_time": "2024-02-12T19:33:21.004627",
     "exception": false,
     "start_time": "2024-02-12T19:33:18.653836",
     "status": "completed"
    },
    "tags": []
   },
   "outputs": [
    {
     "data": {
      "text/html": [
       "\n",
       "<style>\n",
       "  #altair-viz-22dc2351fe1942be8846177989c71a86.vega-embed {\n",
       "    width: 100%;\n",
       "    display: flex;\n",
       "  }\n",
       "\n",
       "  #altair-viz-22dc2351fe1942be8846177989c71a86.vega-embed details,\n",
       "  #altair-viz-22dc2351fe1942be8846177989c71a86.vega-embed details summary {\n",
       "    position: relative;\n",
       "  }\n",
       "</style>\n",
       "<div id=\"altair-viz-22dc2351fe1942be8846177989c71a86\"></div>\n",
       "<script type=\"text/javascript\">\n",
       "  var VEGA_DEBUG = (typeof VEGA_DEBUG == \"undefined\") ? {} : VEGA_DEBUG;\n",
       "  (function(spec, embedOpt){\n",
       "    let outputDiv = document.currentScript.previousElementSibling;\n",
       "    if (outputDiv.id !== \"altair-viz-22dc2351fe1942be8846177989c71a86\") {\n",
       "      outputDiv = document.getElementById(\"altair-viz-22dc2351fe1942be8846177989c71a86\");\n",
       "    }\n",
       "    const paths = {\n",
       "      \"vega\": \"https://cdn.jsdelivr.net/npm/vega@5?noext\",\n",
       "      \"vega-lib\": \"https://cdn.jsdelivr.net/npm/vega-lib?noext\",\n",
       "      \"vega-lite\": \"https://cdn.jsdelivr.net/npm/vega-lite@5.15.1?noext\",\n",
       "      \"vega-embed\": \"https://cdn.jsdelivr.net/npm/vega-embed@6?noext\",\n",
       "    };\n",
       "\n",
       "    function maybeLoadScript(lib, version) {\n",
       "      var key = `${lib.replace(\"-\", \"\")}_version`;\n",
       "      return (VEGA_DEBUG[key] == version) ?\n",
       "        Promise.resolve(paths[lib]) :\n",
       "        new Promise(function(resolve, reject) {\n",
       "          var s = document.createElement('script');\n",
       "          document.getElementsByTagName(\"head\")[0].appendChild(s);\n",
       "          s.async = true;\n",
       "          s.onload = () => {\n",
       "            VEGA_DEBUG[key] = version;\n",
       "            return resolve(paths[lib]);\n",
       "          };\n",
       "          s.onerror = () => reject(`Error loading script: ${paths[lib]}`);\n",
       "          s.src = paths[lib];\n",
       "        });\n",
       "    }\n",
       "\n",
       "    function showError(err) {\n",
       "      outputDiv.innerHTML = `<div class=\"error\" style=\"color:red;\">${err}</div>`;\n",
       "      throw err;\n",
       "    }\n",
       "\n",
       "    function displayChart(vegaEmbed) {\n",
       "      vegaEmbed(outputDiv, spec, embedOpt)\n",
       "        .catch(err => showError(`Javascript Error: ${err.message}<br>This usually means there's a typo in your chart specification. See the javascript console for the full traceback.`));\n",
       "    }\n",
       "\n",
       "    if(typeof define === \"function\" && define.amd) {\n",
       "      requirejs.config({paths});\n",
       "      require([\"vega-embed\"], displayChart, err => showError(`Error loading script: ${err.message}`));\n",
       "    } else {\n",
       "      maybeLoadScript(\"vega\", \"5\")\n",
       "        .then(() => maybeLoadScript(\"vega-lite\", \"5.15.1\"))\n",
       "        .then(() => maybeLoadScript(\"vega-embed\", \"6\"))\n",
       "        .catch(showError)\n",
       "        .then(() => displayChart(vegaEmbed));\n",
       "    }\n",
       "  })({\"config\": {\"view\": {\"continuousWidth\": 300, \"continuousHeight\": 300, \"discreteHeight\": 60, \"discreteWidth\": 400}, \"header\": {\"title\": null}, \"mark\": {\"tooltip\": null}, \"title\": {\"anchor\": \"middle\"}}, \"vconcat\": [{\"mark\": {\"type\": \"bar\", \"clip\": true, \"height\": 15}, \"encoding\": {\"color\": {\"field\": \"log2_bayes_factor\", \"scale\": {\"domain\": [-10, 0, 10], \"interpolate\": \"lab\", \"range\": [\"red\", \"#bbbbbb\", \"green\"]}, \"title\": \"Match weight\", \"type\": \"quantitative\"}, \"tooltip\": [{\"field\": \"comparison_name\", \"title\": \"Comparison name\", \"type\": \"nominal\"}, {\"field\": \"probability_two_random_records_match\", \"format\": \".4f\", \"title\": \"Probability two random records match\", \"type\": \"nominal\"}, {\"field\": \"log2_bayes_factor\", \"format\": \",.4f\", \"title\": \"Equivalent match weight\", \"type\": \"quantitative\"}, {\"field\": \"bayes_factor_description\", \"title\": \"Match weight description\", \"type\": \"nominal\"}], \"x\": {\"axis\": {\"domain\": false, \"gridColor\": {\"condition\": {\"test\": \"abs(datum.value / 10)  <= 1 & datum.value % 10 === 0\", \"value\": \"#aaa\"}, \"value\": \"#ddd\"}, \"gridDash\": {\"condition\": {\"test\": \"abs(datum.value / 10) == 1\", \"value\": [3]}, \"value\": null}, \"gridWidth\": {\"condition\": {\"test\": \"abs(datum.value / 10)  <= 1 & datum.value % 10 === 0\", \"value\": 2}, \"value\": 1}, \"labels\": false, \"ticks\": false, \"title\": \"\"}, \"field\": \"log2_bayes_factor\", \"scale\": {\"domain\": [-17, 17]}, \"type\": \"quantitative\"}, \"y\": {\"axis\": {\"title\": \"Prior (starting) match weight\", \"titleAlign\": \"right\", \"titleAngle\": 0, \"titleFontWeight\": \"normal\"}, \"field\": \"label_for_charts\", \"sort\": {\"field\": \"comparison_vector_value\", \"order\": \"descending\"}, \"type\": \"nominal\"}}, \"height\": 20, \"transform\": [{\"filter\": \"(datum.comparison_name == 'probability_two_random_records_match')\"}]}, {\"mark\": {\"type\": \"bar\", \"clip\": true}, \"encoding\": {\"color\": {\"field\": \"log2_bayes_factor\", \"scale\": {\"domain\": [-10, 0, 10], \"interpolate\": \"lab\", \"range\": [\"red\", \"#bbbbbb\", \"green\"]}, \"title\": \"Match weight\", \"type\": \"quantitative\"}, \"row\": {\"field\": \"comparison_name\", \"header\": {\"labelAlign\": \"left\", \"labelAnchor\": \"middle\", \"labelAngle\": 0}, \"sort\": {\"field\": \"comparison_sort_order\"}, \"type\": \"nominal\"}, \"tooltip\": [{\"field\": \"comparison_name\", \"title\": \"Comparison name\", \"type\": \"nominal\"}, {\"field\": \"label_for_charts\", \"title\": \"Label\", \"type\": \"ordinal\"}, {\"field\": \"sql_condition\", \"title\": \"SQL condition\", \"type\": \"nominal\"}, {\"field\": \"m_probability\", \"format\": \".4f\", \"title\": \"M probability\", \"type\": \"quantitative\"}, {\"field\": \"u_probability\", \"format\": \".4f\", \"title\": \"U probability\", \"type\": \"quantitative\"}, {\"field\": \"bayes_factor\", \"format\": \",.4f\", \"title\": \"Bayes factor = m/u\", \"type\": \"quantitative\"}, {\"field\": \"log2_bayes_factor\", \"format\": \",.4f\", \"title\": \"Match weight = log2(m/u)\", \"type\": \"quantitative\"}, {\"field\": \"bayes_factor_description\", \"title\": \"Match weight description\", \"type\": \"nominal\"}], \"x\": {\"axis\": {\"gridColor\": {\"condition\": {\"test\": \"abs(datum.value / 10)  <= 1 & datum.value % 10 === 0\", \"value\": \"#aaa\"}, \"value\": \"#ddd\"}, \"gridDash\": {\"condition\": {\"test\": \"abs(datum.value / 10) == 1\", \"value\": [3]}, \"value\": null}, \"gridWidth\": {\"condition\": {\"test\": \"abs(datum.value / 10)  <= 1 & datum.value % 10 === 0\", \"value\": 2}, \"value\": 1}, \"title\": \"Comparison level match weight = log2(m/u)\"}, \"field\": \"log2_bayes_factor\", \"scale\": {\"domain\": [-17, 17]}, \"type\": \"quantitative\"}, \"y\": {\"axis\": {\"title\": null}, \"field\": \"label_for_charts\", \"sort\": {\"field\": \"comparison_vector_value\", \"order\": \"descending\"}, \"type\": \"nominal\"}}, \"height\": {\"step\": 12}, \"resolve\": {\"axis\": {\"y\": \"independent\"}, \"scale\": {\"y\": \"independent\"}}, \"transform\": [{\"filter\": \"(datum.comparison_name != 'probability_two_random_records_match')\"}]}], \"data\": {\"name\": \"data-9f7eb7c5340e96957b303a42d7921969\"}, \"params\": [{\"name\": \"mouse_zoom\", \"select\": {\"type\": \"interval\", \"encodings\": [\"x\"]}, \"bind\": \"scales\", \"views\": []}], \"resolve\": {\"axis\": {\"y\": \"independent\"}, \"scale\": {\"y\": \"independent\"}}, \"title\": {\"text\": \"Model parameters (components of final match weight)\", \"subtitle\": \"Use mousewheel to zoom\"}, \"$schema\": \"https://vega.github.io/schema/vega-lite/v5.9.3.json\", \"datasets\": {\"data-9f7eb7c5340e96957b303a42d7921969\": [{\"comparison_name\": \"probability_two_random_records_match\", \"sql_condition\": null, \"label_for_charts\": \"\", \"m_probability\": null, \"u_probability\": null, \"m_probability_description\": null, \"u_probability_description\": null, \"has_tf_adjustments\": false, \"tf_adjustment_column\": null, \"tf_adjustment_weight\": null, \"is_null_level\": false, \"bayes_factor\": 1.422550807346043e-05, \"log2_bayes_factor\": -16.101160294174065, \"comparison_vector_value\": 0, \"max_comparison_vector_value\": 0, \"bayes_factor_description\": \"The probability that two random records drawn at random match is 0.000 or one in  70,297.3 records.This is equivalent to a starting match weight of -16.101.\", \"probability_two_random_records_match\": 1.4225305711259186e-05, \"comparison_sort_order\": -1}, {\"comparison_name\": \"first_name_15\", \"sql_condition\": \"`first_name_15_l` = `first_name_15_r`\", \"label_for_charts\": \"Exact match\", \"m_probability\": 0.8419096458817422, \"u_probability\": 0.0020286606846613266, \"m_probability_description\": \"Amongst matching record comparisons, 84.19% of records are in the exact match comparison level\", \"u_probability_description\": \"Amongst non-matching record comparisons, 0.20% of records are in the exact match comparison level\", \"has_tf_adjustments\": false, \"tf_adjustment_column\": null, \"tf_adjustment_weight\": 1.0, \"is_null_level\": false, \"bayes_factor\": 415.0076216527528, \"log2_bayes_factor\": 8.696994021703349, \"comparison_vector_value\": 2, \"max_comparison_vector_value\": 2, \"bayes_factor_description\": \"If comparison level is `exact match` then comparison is 415.01 times more likely to be a match\", \"probability_two_random_records_match\": 1.4225305711259186e-05, \"comparison_sort_order\": 0}, {\"comparison_name\": \"first_name_15\", \"sql_condition\": \"jaro_winkler(`first_name_15_l`, `first_name_15_r`) >= 0.8333333333333334\", \"label_for_charts\": \"Jaro_winkler >= 0.8333333333333334\", \"m_probability\": 0.09116997614766156, \"u_probability\": 0.0034715656116374467, \"m_probability_description\": \"Amongst matching record comparisons, 9.12% of records are in the jaro_winkler >= 0.8333333333333334 comparison level\", \"u_probability_description\": \"Amongst non-matching record comparisons, 0.35% of records are in the jaro_winkler >= 0.8333333333333334 comparison level\", \"has_tf_adjustments\": false, \"tf_adjustment_column\": null, \"tf_adjustment_weight\": 1.0, \"is_null_level\": false, \"bayes_factor\": 26.261919360544383, \"log2_bayes_factor\": 4.714900454787168, \"comparison_vector_value\": 1, \"max_comparison_vector_value\": 2, \"bayes_factor_description\": \"If comparison level is `jaro_winkler >= 0.8333333333333334` then comparison is 26.26 times more likely to be a match\", \"probability_two_random_records_match\": 1.4225305711259186e-05, \"comparison_sort_order\": 0}, {\"comparison_name\": \"first_name_15\", \"sql_condition\": \"ELSE\", \"label_for_charts\": \"All other comparisons\", \"m_probability\": 0.06692037797059636, \"u_probability\": 0.9944997737037012, \"m_probability_description\": \"Amongst matching record comparisons, 6.69% of records are in the all other comparisons comparison level\", \"u_probability_description\": \"Amongst non-matching record comparisons, 99.45% of records are in the all other comparisons comparison level\", \"has_tf_adjustments\": false, \"tf_adjustment_column\": null, \"tf_adjustment_weight\": 1.0, \"is_null_level\": false, \"bayes_factor\": 0.06729049089812508, \"log2_bayes_factor\": -3.8934535438306415, \"comparison_vector_value\": 0, \"max_comparison_vector_value\": 2, \"bayes_factor_description\": \"If comparison level is `all other comparisons` then comparison is  14.86 times less likely to be a match\", \"probability_two_random_records_match\": 1.4225305711259186e-05, \"comparison_sort_order\": 0}, {\"comparison_name\": \"last_name_12\", \"sql_condition\": \"`last_name_12_l` = `last_name_12_r`\", \"label_for_charts\": \"Exact match\", \"m_probability\": 0.8813581833570641, \"u_probability\": 0.000677983558493214, \"m_probability_description\": \"Amongst matching record comparisons, 88.14% of records are in the exact match comparison level\", \"u_probability_description\": \"Amongst non-matching record comparisons, 0.07% of records are in the exact match comparison level\", \"has_tf_adjustments\": false, \"tf_adjustment_column\": null, \"tf_adjustment_weight\": 1.0, \"is_null_level\": false, \"bayes_factor\": 1299.9698478173136, \"log2_bayes_factor\": 10.34426244567819, \"comparison_vector_value\": 2, \"max_comparison_vector_value\": 2, \"bayes_factor_description\": \"If comparison level is `exact match` then comparison is 1,299.97 times more likely to be a match\", \"probability_two_random_records_match\": 1.4225305711259186e-05, \"comparison_sort_order\": 1}, {\"comparison_name\": \"last_name_12\", \"sql_condition\": \"jaro_winkler(`last_name_12_l`, `last_name_12_r`) >= 0.8333333333333334\", \"label_for_charts\": \"Jaro_winkler >= 0.8333333333333334\", \"m_probability\": 0.09017336780011591, \"u_probability\": 0.001280545501029647, \"m_probability_description\": \"Amongst matching record comparisons, 9.02% of records are in the jaro_winkler >= 0.8333333333333334 comparison level\", \"u_probability_description\": \"Amongst non-matching record comparisons, 0.13% of records are in the jaro_winkler >= 0.8333333333333334 comparison level\", \"has_tf_adjustments\": false, \"tf_adjustment_column\": null, \"tf_adjustment_weight\": 1.0, \"is_null_level\": false, \"bayes_factor\": 70.41793339448719, \"log2_bayes_factor\": 6.137870982905302, \"comparison_vector_value\": 1, \"max_comparison_vector_value\": 2, \"bayes_factor_description\": \"If comparison level is `jaro_winkler >= 0.8333333333333334` then comparison is 70.42 times more likely to be a match\", \"probability_two_random_records_match\": 1.4225305711259186e-05, \"comparison_sort_order\": 1}, {\"comparison_name\": \"last_name_12\", \"sql_condition\": \"ELSE\", \"label_for_charts\": \"All other comparisons\", \"m_probability\": 0.02846844884281992, \"u_probability\": 0.9980414709404771, \"m_probability_description\": \"Amongst matching record comparisons, 2.85% of records are in the all other comparisons comparison level\", \"u_probability_description\": \"Amongst non-matching record comparisons, 99.80% of records are in the all other comparisons comparison level\", \"has_tf_adjustments\": false, \"tf_adjustment_column\": null, \"tf_adjustment_weight\": 1.0, \"is_null_level\": false, \"bayes_factor\": 0.028524314541752912, \"log2_bayes_factor\": -5.131663971765439, \"comparison_vector_value\": 0, \"max_comparison_vector_value\": 2, \"bayes_factor_description\": \"If comparison level is `all other comparisons` then comparison is  35.06 times less likely to be a match\", \"probability_two_random_records_match\": 1.4225305711259186e-05, \"comparison_sort_order\": 1}, {\"comparison_name\": \"middle_initial\", \"sql_condition\": \"`middle_initial_l` = `middle_initial_r`\", \"label_for_charts\": \"Exact match\", \"m_probability\": 0.9335922678994513, \"u_probability\": 0.0738281151949889, \"m_probability_description\": \"Amongst matching record comparisons, 93.36% of records are in the exact match comparison level\", \"u_probability_description\": \"Amongst non-matching record comparisons, 7.38% of records are in the exact match comparison level\", \"has_tf_adjustments\": false, \"tf_adjustment_column\": null, \"tf_adjustment_weight\": 1.0, \"is_null_level\": false, \"bayes_factor\": 12.645484249919184, \"log2_bayes_factor\": 3.6605503799375536, \"comparison_vector_value\": 1, \"max_comparison_vector_value\": 1, \"bayes_factor_description\": \"If comparison level is `exact match` then comparison is 12.65 times more likely to be a match\", \"probability_two_random_records_match\": 1.4225305711259186e-05, \"comparison_sort_order\": 2}, {\"comparison_name\": \"middle_initial\", \"sql_condition\": \"ELSE\", \"label_for_charts\": \"All other comparisons\", \"m_probability\": 0.06640773210054866, \"u_probability\": 0.9261718848050111, \"m_probability_description\": \"Amongst matching record comparisons, 6.64% of records are in the all other comparisons comparison level\", \"u_probability_description\": \"Amongst non-matching record comparisons, 92.62% of records are in the all other comparisons comparison level\", \"has_tf_adjustments\": false, \"tf_adjustment_column\": null, \"tf_adjustment_weight\": 1.0, \"is_null_level\": false, \"bayes_factor\": 0.0717013042503764, \"log2_bayes_factor\": -3.801856827912587, \"comparison_vector_value\": 0, \"max_comparison_vector_value\": 1, \"bayes_factor_description\": \"If comparison level is `all other comparisons` then comparison is  13.95 times less likely to be a match\", \"probability_two_random_records_match\": 1.4225305711259186e-05, \"comparison_sort_order\": 2}, {\"comparison_name\": \"day_of_birth\", \"sql_condition\": \"`day_of_birth_l` = `day_of_birth_r`\", \"label_for_charts\": \"Exact match\", \"m_probability\": 0.9705010736005495, \"u_probability\": 0.032431119048632266, \"m_probability_description\": \"Amongst matching record comparisons, 97.05% of records are in the exact match comparison level\", \"u_probability_description\": \"Amongst non-matching record comparisons, 3.24% of records are in the exact match comparison level\", \"has_tf_adjustments\": false, \"tf_adjustment_column\": null, \"tf_adjustment_weight\": 1.0, \"is_null_level\": false, \"bayes_factor\": 29.92499494529403, \"log2_bayes_factor\": 4.903279098366921, \"comparison_vector_value\": 2, \"max_comparison_vector_value\": 2, \"bayes_factor_description\": \"If comparison level is `exact match` then comparison is 29.92 times more likely to be a match\", \"probability_two_random_records_match\": 1.4225305711259186e-05, \"comparison_sort_order\": 3}, {\"comparison_name\": \"day_of_birth\", \"sql_condition\": \"abs(day_of_birth_l - day_of_birth_r) <= 5\", \"label_for_charts\": \"Inexact match\", \"m_probability\": 0.01746697296562164, \"u_probability\": 0.29408973456130016, \"m_probability_description\": \"Amongst matching record comparisons, 1.75% of records are in the inexact match comparison level\", \"u_probability_description\": \"Amongst non-matching record comparisons, 29.41% of records are in the inexact match comparison level\", \"has_tf_adjustments\": false, \"tf_adjustment_column\": null, \"tf_adjustment_weight\": 1.0, \"is_null_level\": false, \"bayes_factor\": 0.05939334465950499, \"log2_bayes_factor\": -4.073554911352458, \"comparison_vector_value\": 1, \"max_comparison_vector_value\": 2, \"bayes_factor_description\": \"If comparison level is `inexact match` then comparison is  16.84 times less likely to be a match\", \"probability_two_random_records_match\": 1.4225305711259186e-05, \"comparison_sort_order\": 3}, {\"comparison_name\": \"day_of_birth\", \"sql_condition\": \"ELSE\", \"label_for_charts\": \"All other comparisons\", \"m_probability\": 0.01203195343382888, \"u_probability\": 0.6734791463900676, \"m_probability_description\": \"Amongst matching record comparisons, 1.20% of records are in the all other comparisons comparison level\", \"u_probability_description\": \"Amongst non-matching record comparisons, 67.35% of records are in the all other comparisons comparison level\", \"has_tf_adjustments\": false, \"tf_adjustment_column\": null, \"tf_adjustment_weight\": 1.0, \"is_null_level\": false, \"bayes_factor\": 0.017865368955106712, \"log2_bayes_factor\": -5.8066904810457025, \"comparison_vector_value\": 0, \"max_comparison_vector_value\": 2, \"bayes_factor_description\": \"If comparison level is `all other comparisons` then comparison is  55.97 times less likely to be a match\", \"probability_two_random_records_match\": 1.4225305711259186e-05, \"comparison_sort_order\": 3}, {\"comparison_name\": \"month_of_birth\", \"sql_condition\": \"`month_of_birth_l` = `month_of_birth_r`\", \"label_for_charts\": \"Exact match\", \"m_probability\": 0.9786180062467026, \"u_probability\": 0.08338892953741671, \"m_probability_description\": \"Amongst matching record comparisons, 97.86% of records are in the exact match comparison level\", \"u_probability_description\": \"Amongst non-matching record comparisons, 8.34% of records are in the exact match comparison level\", \"has_tf_adjustments\": false, \"tf_adjustment_column\": null, \"tf_adjustment_weight\": 1.0, \"is_null_level\": false, \"bayes_factor\": 11.735586626131177, \"log2_bayes_factor\": 3.5528180544695713, \"comparison_vector_value\": 2, \"max_comparison_vector_value\": 2, \"bayes_factor_description\": \"If comparison level is `exact match` then comparison is 11.74 times more likely to be a match\", \"probability_two_random_records_match\": 1.4225305711259186e-05, \"comparison_sort_order\": 4}, {\"comparison_name\": \"month_of_birth\", \"sql_condition\": \"abs(month_of_birth_l - month_of_birth_r) <= 3\", \"label_for_charts\": \"Inexact match\", \"m_probability\": 0.01069738906629244, \"u_probability\": 0.4136651580190546, \"m_probability_description\": \"Amongst matching record comparisons, 1.07% of records are in the inexact match comparison level\", \"u_probability_description\": \"Amongst non-matching record comparisons, 41.37% of records are in the inexact match comparison level\", \"has_tf_adjustments\": false, \"tf_adjustment_column\": null, \"tf_adjustment_weight\": 1.0, \"is_null_level\": false, \"bayes_factor\": 0.02586001953251206, \"log2_bayes_factor\": -5.273132824934073, \"comparison_vector_value\": 1, \"max_comparison_vector_value\": 2, \"bayes_factor_description\": \"If comparison level is `inexact match` then comparison is  38.67 times less likely to be a match\", \"probability_two_random_records_match\": 1.4225305711259186e-05, \"comparison_sort_order\": 4}, {\"comparison_name\": \"month_of_birth\", \"sql_condition\": \"ELSE\", \"label_for_charts\": \"All other comparisons\", \"m_probability\": 0.010684604687004998, \"u_probability\": 0.5029459124435287, \"m_probability_description\": \"Amongst matching record comparisons, 1.07% of records are in the all other comparisons comparison level\", \"u_probability_description\": \"Amongst non-matching record comparisons, 50.29% of records are in the all other comparisons comparison level\", \"has_tf_adjustments\": false, \"tf_adjustment_column\": null, \"tf_adjustment_weight\": 1.0, \"is_null_level\": false, \"bayes_factor\": 0.02124404319163182, \"log2_bayes_factor\": -5.5567978220601155, \"comparison_vector_value\": 0, \"max_comparison_vector_value\": 2, \"bayes_factor_description\": \"If comparison level is `all other comparisons` then comparison is  47.07 times less likely to be a match\", \"probability_two_random_records_match\": 1.4225305711259186e-05, \"comparison_sort_order\": 4}, {\"comparison_name\": \"year_of_birth\", \"sql_condition\": \"`year_of_birth_l` = `year_of_birth_r`\", \"label_for_charts\": \"Exact match\", \"m_probability\": 0.9660670544353984, \"u_probability\": 0.011194856230046568, \"m_probability_description\": \"Amongst matching record comparisons, 96.61% of records are in the exact match comparison level\", \"u_probability_description\": \"Amongst non-matching record comparisons, 1.12% of records are in the exact match comparison level\", \"has_tf_adjustments\": false, \"tf_adjustment_column\": null, \"tf_adjustment_weight\": 1.0, \"is_null_level\": false, \"bayes_factor\": 86.29561957593624, \"log2_bayes_factor\": 6.431215423973342, \"comparison_vector_value\": 2, \"max_comparison_vector_value\": 2, \"bayes_factor_description\": \"If comparison level is `exact match` then comparison is 86.30 times more likely to be a match\", \"probability_two_random_records_match\": 1.4225305711259186e-05, \"comparison_sort_order\": 5}, {\"comparison_name\": \"year_of_birth\", \"sql_condition\": \"abs(year_of_birth_l - year_of_birth_r) <= 5\", \"label_for_charts\": \"Inexact match\", \"m_probability\": 0.01134355753225295, \"u_probability\": 0.11039918989695713, \"m_probability_description\": \"Amongst matching record comparisons, 1.13% of records are in the inexact match comparison level\", \"u_probability_description\": \"Amongst non-matching record comparisons, 11.04% of records are in the inexact match comparison level\", \"has_tf_adjustments\": false, \"tf_adjustment_column\": null, \"tf_adjustment_weight\": 1.0, \"is_null_level\": false, \"bayes_factor\": 0.10275036929927334, \"log2_bayes_factor\": -3.2827845157222746, \"comparison_vector_value\": 1, \"max_comparison_vector_value\": 2, \"bayes_factor_description\": \"If comparison level is `inexact match` then comparison is  9.73 times less likely to be a match\", \"probability_two_random_records_match\": 1.4225305711259186e-05, \"comparison_sort_order\": 5}, {\"comparison_name\": \"year_of_birth\", \"sql_condition\": \"ELSE\", \"label_for_charts\": \"All other comparisons\", \"m_probability\": 0.022589388032348685, \"u_probability\": 0.8784059538729964, \"m_probability_description\": \"Amongst matching record comparisons, 2.26% of records are in the all other comparisons comparison level\", \"u_probability_description\": \"Amongst non-matching record comparisons, 87.84% of records are in the all other comparisons comparison level\", \"has_tf_adjustments\": false, \"tf_adjustment_column\": null, \"tf_adjustment_weight\": 1.0, \"is_null_level\": false, \"bayes_factor\": 0.025716342122624948, \"log2_bayes_factor\": -5.281170740609813, \"comparison_vector_value\": 0, \"max_comparison_vector_value\": 2, \"bayes_factor_description\": \"If comparison level is `all other comparisons` then comparison is  38.89 times less likely to be a match\", \"probability_two_random_records_match\": 1.4225305711259186e-05, \"comparison_sort_order\": 5}, {\"comparison_name\": \"geokey\", \"sql_condition\": \"`geokey_l` = `geokey_r`\", \"label_for_charts\": \"Exact match\", \"m_probability\": 0.4477188049686641, \"u_probability\": 0.0023439137899664837, \"m_probability_description\": \"Amongst matching record comparisons, 44.77% of records are in the exact match comparison level\", \"u_probability_description\": \"Amongst non-matching record comparisons, 0.23% of records are in the exact match comparison level\", \"has_tf_adjustments\": false, \"tf_adjustment_column\": null, \"tf_adjustment_weight\": 1.0, \"is_null_level\": false, \"bayes_factor\": 191.01334139728158, \"log2_bayes_factor\": 7.577529597122158, \"comparison_vector_value\": 2, \"max_comparison_vector_value\": 2, \"bayes_factor_description\": \"If comparison level is `exact match` then comparison is 191.01 times more likely to be a match\", \"probability_two_random_records_match\": 1.4225305711259186e-05, \"comparison_sort_order\": 6}, {\"comparison_name\": \"geokey\", \"sql_condition\": \"jaro_winkler(`geokey_l`, `geokey_r`) >= 0.7222222222222222\", \"label_for_charts\": \"Jaro_winkler >= 0.7222222222222222\", \"m_probability\": 0.4423537062458611, \"u_probability\": 0.35828043566803447, \"m_probability_description\": \"Amongst matching record comparisons, 44.24% of records are in the jaro_winkler >= 0.7222222222222222 comparison level\", \"u_probability_description\": \"Amongst non-matching record comparisons, 35.83% of records are in the jaro_winkler >= 0.7222222222222222 comparison level\", \"has_tf_adjustments\": false, \"tf_adjustment_column\": null, \"tf_adjustment_weight\": 1.0, \"is_null_level\": false, \"bayes_factor\": 1.2346577211816414, \"log2_bayes_factor\": 0.30411114513376686, \"comparison_vector_value\": 1, \"max_comparison_vector_value\": 2, \"bayes_factor_description\": \"If comparison level is `jaro_winkler >= 0.7222222222222222` then comparison is 1.23 times more likely to be a match\", \"probability_two_random_records_match\": 1.4225305711259186e-05, \"comparison_sort_order\": 6}, {\"comparison_name\": \"geokey\", \"sql_condition\": \"ELSE\", \"label_for_charts\": \"All other comparisons\", \"m_probability\": 0.10992748878547479, \"u_probability\": 0.6393756505419991, \"m_probability_description\": \"Amongst matching record comparisons, 10.99% of records are in the all other comparisons comparison level\", \"u_probability_description\": \"Amongst non-matching record comparisons, 63.94% of records are in the all other comparisons comparison level\", \"has_tf_adjustments\": false, \"tf_adjustment_column\": null, \"tf_adjustment_weight\": 1.0, \"is_null_level\": false, \"bayes_factor\": 0.17192942629624572, \"log2_bayes_factor\": -2.5401116068575607, \"comparison_vector_value\": 0, \"max_comparison_vector_value\": 2, \"bayes_factor_description\": \"If comparison level is `all other comparisons` then comparison is  5.82 times less likely to be a match\", \"probability_two_random_records_match\": 1.4225305711259186e-05, \"comparison_sort_order\": 6}]}}, {\"mode\": \"vega-lite\"});\n",
       "</script>"
      ],
      "text/plain": [
       "alt.VConcatChart(...)"
      ]
     },
     "execution_count": 61,
     "metadata": {},
     "output_type": "execute_result"
    }
   ],
   "source": [
    "linker.match_weights_chart()"
   ]
  },
  {
   "cell_type": "code",
   "execution_count": 62,
   "id": "0227e7b1-d573-496a-bd6f-0eb81e75e44e",
   "metadata": {
    "execution": {
     "iopub.execute_input": "2024-02-12T19:33:21.066454Z",
     "iopub.status.busy": "2024-02-12T19:33:21.065891Z",
     "iopub.status.idle": "2024-02-12T19:33:22.576346Z",
     "shell.execute_reply": "2024-02-12T19:33:22.575891Z"
    },
    "papermill": {
     "duration": 1.541857,
     "end_time": "2024-02-12T19:33:22.577451",
     "exception": false,
     "start_time": "2024-02-12T19:33:21.035594",
     "status": "completed"
    },
    "tags": []
   },
   "outputs": [
    {
     "data": {
      "text/html": [
       "\n",
       "<style>\n",
       "  #altair-viz-2a08595b3a5d4261b945fdd9e9ad47f4.vega-embed {\n",
       "    width: 100%;\n",
       "    display: flex;\n",
       "  }\n",
       "\n",
       "  #altair-viz-2a08595b3a5d4261b945fdd9e9ad47f4.vega-embed details,\n",
       "  #altair-viz-2a08595b3a5d4261b945fdd9e9ad47f4.vega-embed details summary {\n",
       "    position: relative;\n",
       "  }\n",
       "</style>\n",
       "<div id=\"altair-viz-2a08595b3a5d4261b945fdd9e9ad47f4\"></div>\n",
       "<script type=\"text/javascript\">\n",
       "  var VEGA_DEBUG = (typeof VEGA_DEBUG == \"undefined\") ? {} : VEGA_DEBUG;\n",
       "  (function(spec, embedOpt){\n",
       "    let outputDiv = document.currentScript.previousElementSibling;\n",
       "    if (outputDiv.id !== \"altair-viz-2a08595b3a5d4261b945fdd9e9ad47f4\") {\n",
       "      outputDiv = document.getElementById(\"altair-viz-2a08595b3a5d4261b945fdd9e9ad47f4\");\n",
       "    }\n",
       "    const paths = {\n",
       "      \"vega\": \"https://cdn.jsdelivr.net/npm/vega@5?noext\",\n",
       "      \"vega-lib\": \"https://cdn.jsdelivr.net/npm/vega-lib?noext\",\n",
       "      \"vega-lite\": \"https://cdn.jsdelivr.net/npm/vega-lite@5.15.1?noext\",\n",
       "      \"vega-embed\": \"https://cdn.jsdelivr.net/npm/vega-embed@6?noext\",\n",
       "    };\n",
       "\n",
       "    function maybeLoadScript(lib, version) {\n",
       "      var key = `${lib.replace(\"-\", \"\")}_version`;\n",
       "      return (VEGA_DEBUG[key] == version) ?\n",
       "        Promise.resolve(paths[lib]) :\n",
       "        new Promise(function(resolve, reject) {\n",
       "          var s = document.createElement('script');\n",
       "          document.getElementsByTagName(\"head\")[0].appendChild(s);\n",
       "          s.async = true;\n",
       "          s.onload = () => {\n",
       "            VEGA_DEBUG[key] = version;\n",
       "            return resolve(paths[lib]);\n",
       "          };\n",
       "          s.onerror = () => reject(`Error loading script: ${paths[lib]}`);\n",
       "          s.src = paths[lib];\n",
       "        });\n",
       "    }\n",
       "\n",
       "    function showError(err) {\n",
       "      outputDiv.innerHTML = `<div class=\"error\" style=\"color:red;\">${err}</div>`;\n",
       "      throw err;\n",
       "    }\n",
       "\n",
       "    function displayChart(vegaEmbed) {\n",
       "      vegaEmbed(outputDiv, spec, embedOpt)\n",
       "        .catch(err => showError(`Javascript Error: ${err.message}<br>This usually means there's a typo in your chart specification. See the javascript console for the full traceback.`));\n",
       "    }\n",
       "\n",
       "    if(typeof define === \"function\" && define.amd) {\n",
       "      requirejs.config({paths});\n",
       "      require([\"vega-embed\"], displayChart, err => showError(`Error loading script: ${err.message}`));\n",
       "    } else {\n",
       "      maybeLoadScript(\"vega\", \"5\")\n",
       "        .then(() => maybeLoadScript(\"vega-lite\", \"5.15.1\"))\n",
       "        .then(() => maybeLoadScript(\"vega-embed\", \"6\"))\n",
       "        .catch(showError)\n",
       "        .then(() => displayChart(vegaEmbed));\n",
       "    }\n",
       "  })({\"config\": {\"view\": {\"continuousWidth\": 300, \"continuousHeight\": 300, \"discreteHeight\": 300, \"discreteWidth\": 400}, \"header\": {\"title\": null}, \"title\": {\"anchor\": \"middle\", \"offset\": 10}}, \"hconcat\": [{\"mark\": \"bar\", \"encoding\": {\"color\": {\"value\": \"green\"}, \"row\": {\"field\": \"comparison_name\", \"header\": {\"labelAlign\": \"left\", \"labelAnchor\": \"middle\", \"labelAngle\": 0}, \"sort\": {\"field\": \"comparison_sort_order\"}, \"type\": \"nominal\"}, \"tooltip\": [{\"field\": \"m_probability_description\", \"title\": \"m probability description\", \"type\": \"nominal\"}, {\"field\": \"comparison_name\", \"title\": \"Comparison column name\", \"type\": \"nominal\"}, {\"field\": \"label_for_charts\", \"title\": \"Label\", \"type\": \"ordinal\"}, {\"field\": \"sql_condition\", \"title\": \"SQL condition\", \"type\": \"nominal\"}, {\"field\": \"m_probability\", \"format\": \".4p\", \"title\": \"m probability\", \"type\": \"quantitative\"}, {\"field\": \"u_probability\", \"format\": \".4p\", \"title\": \"u probability\", \"type\": \"quantitative\"}, {\"field\": \"bayes_factor\", \"format\": \",.4f\", \"title\": \"Bayes factor = m/u\", \"type\": \"quantitative\"}, {\"field\": \"log2_bayes_factor\", \"format\": \",.4f\", \"title\": \"Match weight = log2(m/u)\", \"type\": \"quantitative\"}], \"x\": {\"axis\": {\"title\": \"Proportion of record comparisons\"}, \"field\": \"m_probability\", \"type\": \"quantitative\"}, \"y\": {\"axis\": {\"title\": null}, \"field\": \"label_for_charts\", \"sort\": {\"field\": \"comparison_vector_value\", \"order\": \"descending\"}, \"type\": \"nominal\"}}, \"height\": {\"step\": 12}, \"resolve\": {\"scale\": {\"y\": \"independent\"}}, \"title\": {\"text\": \"Amongst matching record comparisons:\", \"fontSize\": 12, \"fontWeight\": \"bold\"}, \"transform\": [{\"filter\": \"(datum.bayes_factor != 'no-op filter due to vega lite issue 4680')\"}], \"width\": 150}, {\"mark\": \"bar\", \"encoding\": {\"color\": {\"value\": \"red\"}, \"row\": {\"field\": \"comparison_name\", \"header\": {\"labels\": false}, \"sort\": {\"field\": \"comparison_sort_order\"}, \"type\": \"nominal\"}, \"tooltip\": [{\"field\": \"u_probability_description\", \"title\": \"u probability description\", \"type\": \"nominal\"}, {\"field\": \"comparison_name\", \"title\": \"Comparison column name\", \"type\": \"nominal\"}, {\"field\": \"label_for_charts\", \"title\": \"Label\", \"type\": \"ordinal\"}, {\"field\": \"sql_condition\", \"title\": \"SQL condition\", \"type\": \"nominal\"}, {\"field\": \"m_probability\", \"format\": \".4p\", \"title\": \"m probability\", \"type\": \"quantitative\"}, {\"field\": \"u_probability\", \"format\": \".4p\", \"title\": \"u probability\", \"type\": \"quantitative\"}, {\"field\": \"bayes_factor\", \"format\": \",.4f\", \"title\": \"Bayes factor = m/u\", \"type\": \"quantitative\"}, {\"field\": \"log2_bayes_factor\", \"format\": \",.4f\", \"title\": \"Match weight = log2(m/u)\", \"type\": \"quantitative\"}], \"x\": {\"axis\": {\"title\": \"Proportion of record comparisons\"}, \"field\": \"u_probability\", \"type\": \"quantitative\"}, \"y\": {\"axis\": {\"title\": null}, \"field\": \"label_for_charts\", \"sort\": {\"field\": \"comparison_vector_value\", \"order\": \"descending\"}, \"type\": \"nominal\"}}, \"height\": {\"step\": 12}, \"resolve\": {\"scale\": {\"y\": \"independent\"}}, \"title\": {\"text\": \"Amongst non-matching record comparisons:\", \"fontSize\": 12, \"fontWeight\": \"bold\"}, \"transform\": [{\"filter\": \"(datum.bayes_factor != 'no-op filter2 due to vega lite issue 4680')\"}], \"width\": 150}], \"data\": {\"name\": \"data-f41980aa67bc635c39780fe421bfd963\"}, \"title\": {\"text\": \"Proportion of record comparisons in each comparison level by match status\", \"subtitle\": \"(m and u probabilities)\"}, \"$schema\": \"https://vega.github.io/schema/vega-lite/v5.9.3.json\", \"datasets\": {\"data-f41980aa67bc635c39780fe421bfd963\": [{\"comparison_name\": \"first_name_15\", \"sql_condition\": \"`first_name_15_l` = `first_name_15_r`\", \"label_for_charts\": \"Exact match\", \"m_probability\": 0.8419096458817422, \"u_probability\": 0.0020286606846613266, \"m_probability_description\": \"Amongst matching record comparisons, 84.19% of records are in the exact match comparison level\", \"u_probability_description\": \"Amongst non-matching record comparisons, 0.20% of records are in the exact match comparison level\", \"has_tf_adjustments\": false, \"tf_adjustment_column\": null, \"tf_adjustment_weight\": 1.0, \"is_null_level\": false, \"bayes_factor\": 415.0076216527528, \"log2_bayes_factor\": 8.696994021703349, \"comparison_vector_value\": 2, \"max_comparison_vector_value\": 2, \"bayes_factor_description\": \"If comparison level is `exact match` then comparison is 415.01 times more likely to be a match\", \"probability_two_random_records_match\": 1.4225305711259186e-05, \"comparison_sort_order\": 0}, {\"comparison_name\": \"first_name_15\", \"sql_condition\": \"jaro_winkler(`first_name_15_l`, `first_name_15_r`) >= 0.8333333333333334\", \"label_for_charts\": \"Jaro_winkler >= 0.8333333333333334\", \"m_probability\": 0.09116997614766156, \"u_probability\": 0.0034715656116374467, \"m_probability_description\": \"Amongst matching record comparisons, 9.12% of records are in the jaro_winkler >= 0.8333333333333334 comparison level\", \"u_probability_description\": \"Amongst non-matching record comparisons, 0.35% of records are in the jaro_winkler >= 0.8333333333333334 comparison level\", \"has_tf_adjustments\": false, \"tf_adjustment_column\": null, \"tf_adjustment_weight\": 1.0, \"is_null_level\": false, \"bayes_factor\": 26.261919360544383, \"log2_bayes_factor\": 4.714900454787168, \"comparison_vector_value\": 1, \"max_comparison_vector_value\": 2, \"bayes_factor_description\": \"If comparison level is `jaro_winkler >= 0.8333333333333334` then comparison is 26.26 times more likely to be a match\", \"probability_two_random_records_match\": 1.4225305711259186e-05, \"comparison_sort_order\": 0}, {\"comparison_name\": \"first_name_15\", \"sql_condition\": \"ELSE\", \"label_for_charts\": \"All other comparisons\", \"m_probability\": 0.06692037797059636, \"u_probability\": 0.9944997737037012, \"m_probability_description\": \"Amongst matching record comparisons, 6.69% of records are in the all other comparisons comparison level\", \"u_probability_description\": \"Amongst non-matching record comparisons, 99.45% of records are in the all other comparisons comparison level\", \"has_tf_adjustments\": false, \"tf_adjustment_column\": null, \"tf_adjustment_weight\": 1.0, \"is_null_level\": false, \"bayes_factor\": 0.06729049089812508, \"log2_bayes_factor\": -3.8934535438306415, \"comparison_vector_value\": 0, \"max_comparison_vector_value\": 2, \"bayes_factor_description\": \"If comparison level is `all other comparisons` then comparison is  14.86 times less likely to be a match\", \"probability_two_random_records_match\": 1.4225305711259186e-05, \"comparison_sort_order\": 0}, {\"comparison_name\": \"last_name_12\", \"sql_condition\": \"`last_name_12_l` = `last_name_12_r`\", \"label_for_charts\": \"Exact match\", \"m_probability\": 0.8813581833570641, \"u_probability\": 0.000677983558493214, \"m_probability_description\": \"Amongst matching record comparisons, 88.14% of records are in the exact match comparison level\", \"u_probability_description\": \"Amongst non-matching record comparisons, 0.07% of records are in the exact match comparison level\", \"has_tf_adjustments\": false, \"tf_adjustment_column\": null, \"tf_adjustment_weight\": 1.0, \"is_null_level\": false, \"bayes_factor\": 1299.9698478173136, \"log2_bayes_factor\": 10.34426244567819, \"comparison_vector_value\": 2, \"max_comparison_vector_value\": 2, \"bayes_factor_description\": \"If comparison level is `exact match` then comparison is 1,299.97 times more likely to be a match\", \"probability_two_random_records_match\": 1.4225305711259186e-05, \"comparison_sort_order\": 1}, {\"comparison_name\": \"last_name_12\", \"sql_condition\": \"jaro_winkler(`last_name_12_l`, `last_name_12_r`) >= 0.8333333333333334\", \"label_for_charts\": \"Jaro_winkler >= 0.8333333333333334\", \"m_probability\": 0.09017336780011591, \"u_probability\": 0.001280545501029647, \"m_probability_description\": \"Amongst matching record comparisons, 9.02% of records are in the jaro_winkler >= 0.8333333333333334 comparison level\", \"u_probability_description\": \"Amongst non-matching record comparisons, 0.13% of records are in the jaro_winkler >= 0.8333333333333334 comparison level\", \"has_tf_adjustments\": false, \"tf_adjustment_column\": null, \"tf_adjustment_weight\": 1.0, \"is_null_level\": false, \"bayes_factor\": 70.41793339448719, \"log2_bayes_factor\": 6.137870982905302, \"comparison_vector_value\": 1, \"max_comparison_vector_value\": 2, \"bayes_factor_description\": \"If comparison level is `jaro_winkler >= 0.8333333333333334` then comparison is 70.42 times more likely to be a match\", \"probability_two_random_records_match\": 1.4225305711259186e-05, \"comparison_sort_order\": 1}, {\"comparison_name\": \"last_name_12\", \"sql_condition\": \"ELSE\", \"label_for_charts\": \"All other comparisons\", \"m_probability\": 0.02846844884281992, \"u_probability\": 0.9980414709404771, \"m_probability_description\": \"Amongst matching record comparisons, 2.85% of records are in the all other comparisons comparison level\", \"u_probability_description\": \"Amongst non-matching record comparisons, 99.80% of records are in the all other comparisons comparison level\", \"has_tf_adjustments\": false, \"tf_adjustment_column\": null, \"tf_adjustment_weight\": 1.0, \"is_null_level\": false, \"bayes_factor\": 0.028524314541752912, \"log2_bayes_factor\": -5.131663971765439, \"comparison_vector_value\": 0, \"max_comparison_vector_value\": 2, \"bayes_factor_description\": \"If comparison level is `all other comparisons` then comparison is  35.06 times less likely to be a match\", \"probability_two_random_records_match\": 1.4225305711259186e-05, \"comparison_sort_order\": 1}, {\"comparison_name\": \"middle_initial\", \"sql_condition\": \"`middle_initial_l` = `middle_initial_r`\", \"label_for_charts\": \"Exact match\", \"m_probability\": 0.9335922678994513, \"u_probability\": 0.0738281151949889, \"m_probability_description\": \"Amongst matching record comparisons, 93.36% of records are in the exact match comparison level\", \"u_probability_description\": \"Amongst non-matching record comparisons, 7.38% of records are in the exact match comparison level\", \"has_tf_adjustments\": false, \"tf_adjustment_column\": null, \"tf_adjustment_weight\": 1.0, \"is_null_level\": false, \"bayes_factor\": 12.645484249919184, \"log2_bayes_factor\": 3.6605503799375536, \"comparison_vector_value\": 1, \"max_comparison_vector_value\": 1, \"bayes_factor_description\": \"If comparison level is `exact match` then comparison is 12.65 times more likely to be a match\", \"probability_two_random_records_match\": 1.4225305711259186e-05, \"comparison_sort_order\": 2}, {\"comparison_name\": \"middle_initial\", \"sql_condition\": \"ELSE\", \"label_for_charts\": \"All other comparisons\", \"m_probability\": 0.06640773210054866, \"u_probability\": 0.9261718848050111, \"m_probability_description\": \"Amongst matching record comparisons, 6.64% of records are in the all other comparisons comparison level\", \"u_probability_description\": \"Amongst non-matching record comparisons, 92.62% of records are in the all other comparisons comparison level\", \"has_tf_adjustments\": false, \"tf_adjustment_column\": null, \"tf_adjustment_weight\": 1.0, \"is_null_level\": false, \"bayes_factor\": 0.0717013042503764, \"log2_bayes_factor\": -3.801856827912587, \"comparison_vector_value\": 0, \"max_comparison_vector_value\": 1, \"bayes_factor_description\": \"If comparison level is `all other comparisons` then comparison is  13.95 times less likely to be a match\", \"probability_two_random_records_match\": 1.4225305711259186e-05, \"comparison_sort_order\": 2}, {\"comparison_name\": \"day_of_birth\", \"sql_condition\": \"`day_of_birth_l` = `day_of_birth_r`\", \"label_for_charts\": \"Exact match\", \"m_probability\": 0.9705010736005495, \"u_probability\": 0.032431119048632266, \"m_probability_description\": \"Amongst matching record comparisons, 97.05% of records are in the exact match comparison level\", \"u_probability_description\": \"Amongst non-matching record comparisons, 3.24% of records are in the exact match comparison level\", \"has_tf_adjustments\": false, \"tf_adjustment_column\": null, \"tf_adjustment_weight\": 1.0, \"is_null_level\": false, \"bayes_factor\": 29.92499494529403, \"log2_bayes_factor\": 4.903279098366921, \"comparison_vector_value\": 2, \"max_comparison_vector_value\": 2, \"bayes_factor_description\": \"If comparison level is `exact match` then comparison is 29.92 times more likely to be a match\", \"probability_two_random_records_match\": 1.4225305711259186e-05, \"comparison_sort_order\": 3}, {\"comparison_name\": \"day_of_birth\", \"sql_condition\": \"abs(day_of_birth_l - day_of_birth_r) <= 5\", \"label_for_charts\": \"Inexact match\", \"m_probability\": 0.01746697296562164, \"u_probability\": 0.29408973456130016, \"m_probability_description\": \"Amongst matching record comparisons, 1.75% of records are in the inexact match comparison level\", \"u_probability_description\": \"Amongst non-matching record comparisons, 29.41% of records are in the inexact match comparison level\", \"has_tf_adjustments\": false, \"tf_adjustment_column\": null, \"tf_adjustment_weight\": 1.0, \"is_null_level\": false, \"bayes_factor\": 0.05939334465950499, \"log2_bayes_factor\": -4.073554911352458, \"comparison_vector_value\": 1, \"max_comparison_vector_value\": 2, \"bayes_factor_description\": \"If comparison level is `inexact match` then comparison is  16.84 times less likely to be a match\", \"probability_two_random_records_match\": 1.4225305711259186e-05, \"comparison_sort_order\": 3}, {\"comparison_name\": \"day_of_birth\", \"sql_condition\": \"ELSE\", \"label_for_charts\": \"All other comparisons\", \"m_probability\": 0.01203195343382888, \"u_probability\": 0.6734791463900676, \"m_probability_description\": \"Amongst matching record comparisons, 1.20% of records are in the all other comparisons comparison level\", \"u_probability_description\": \"Amongst non-matching record comparisons, 67.35% of records are in the all other comparisons comparison level\", \"has_tf_adjustments\": false, \"tf_adjustment_column\": null, \"tf_adjustment_weight\": 1.0, \"is_null_level\": false, \"bayes_factor\": 0.017865368955106712, \"log2_bayes_factor\": -5.8066904810457025, \"comparison_vector_value\": 0, \"max_comparison_vector_value\": 2, \"bayes_factor_description\": \"If comparison level is `all other comparisons` then comparison is  55.97 times less likely to be a match\", \"probability_two_random_records_match\": 1.4225305711259186e-05, \"comparison_sort_order\": 3}, {\"comparison_name\": \"month_of_birth\", \"sql_condition\": \"`month_of_birth_l` = `month_of_birth_r`\", \"label_for_charts\": \"Exact match\", \"m_probability\": 0.9786180062467026, \"u_probability\": 0.08338892953741671, \"m_probability_description\": \"Amongst matching record comparisons, 97.86% of records are in the exact match comparison level\", \"u_probability_description\": \"Amongst non-matching record comparisons, 8.34% of records are in the exact match comparison level\", \"has_tf_adjustments\": false, \"tf_adjustment_column\": null, \"tf_adjustment_weight\": 1.0, \"is_null_level\": false, \"bayes_factor\": 11.735586626131177, \"log2_bayes_factor\": 3.5528180544695713, \"comparison_vector_value\": 2, \"max_comparison_vector_value\": 2, \"bayes_factor_description\": \"If comparison level is `exact match` then comparison is 11.74 times more likely to be a match\", \"probability_two_random_records_match\": 1.4225305711259186e-05, \"comparison_sort_order\": 4}, {\"comparison_name\": \"month_of_birth\", \"sql_condition\": \"abs(month_of_birth_l - month_of_birth_r) <= 3\", \"label_for_charts\": \"Inexact match\", \"m_probability\": 0.01069738906629244, \"u_probability\": 0.4136651580190546, \"m_probability_description\": \"Amongst matching record comparisons, 1.07% of records are in the inexact match comparison level\", \"u_probability_description\": \"Amongst non-matching record comparisons, 41.37% of records are in the inexact match comparison level\", \"has_tf_adjustments\": false, \"tf_adjustment_column\": null, \"tf_adjustment_weight\": 1.0, \"is_null_level\": false, \"bayes_factor\": 0.02586001953251206, \"log2_bayes_factor\": -5.273132824934073, \"comparison_vector_value\": 1, \"max_comparison_vector_value\": 2, \"bayes_factor_description\": \"If comparison level is `inexact match` then comparison is  38.67 times less likely to be a match\", \"probability_two_random_records_match\": 1.4225305711259186e-05, \"comparison_sort_order\": 4}, {\"comparison_name\": \"month_of_birth\", \"sql_condition\": \"ELSE\", \"label_for_charts\": \"All other comparisons\", \"m_probability\": 0.010684604687004998, \"u_probability\": 0.5029459124435287, \"m_probability_description\": \"Amongst matching record comparisons, 1.07% of records are in the all other comparisons comparison level\", \"u_probability_description\": \"Amongst non-matching record comparisons, 50.29% of records are in the all other comparisons comparison level\", \"has_tf_adjustments\": false, \"tf_adjustment_column\": null, \"tf_adjustment_weight\": 1.0, \"is_null_level\": false, \"bayes_factor\": 0.02124404319163182, \"log2_bayes_factor\": -5.5567978220601155, \"comparison_vector_value\": 0, \"max_comparison_vector_value\": 2, \"bayes_factor_description\": \"If comparison level is `all other comparisons` then comparison is  47.07 times less likely to be a match\", \"probability_two_random_records_match\": 1.4225305711259186e-05, \"comparison_sort_order\": 4}, {\"comparison_name\": \"year_of_birth\", \"sql_condition\": \"`year_of_birth_l` = `year_of_birth_r`\", \"label_for_charts\": \"Exact match\", \"m_probability\": 0.9660670544353984, \"u_probability\": 0.011194856230046568, \"m_probability_description\": \"Amongst matching record comparisons, 96.61% of records are in the exact match comparison level\", \"u_probability_description\": \"Amongst non-matching record comparisons, 1.12% of records are in the exact match comparison level\", \"has_tf_adjustments\": false, \"tf_adjustment_column\": null, \"tf_adjustment_weight\": 1.0, \"is_null_level\": false, \"bayes_factor\": 86.29561957593624, \"log2_bayes_factor\": 6.431215423973342, \"comparison_vector_value\": 2, \"max_comparison_vector_value\": 2, \"bayes_factor_description\": \"If comparison level is `exact match` then comparison is 86.30 times more likely to be a match\", \"probability_two_random_records_match\": 1.4225305711259186e-05, \"comparison_sort_order\": 5}, {\"comparison_name\": \"year_of_birth\", \"sql_condition\": \"abs(year_of_birth_l - year_of_birth_r) <= 5\", \"label_for_charts\": \"Inexact match\", \"m_probability\": 0.01134355753225295, \"u_probability\": 0.11039918989695713, \"m_probability_description\": \"Amongst matching record comparisons, 1.13% of records are in the inexact match comparison level\", \"u_probability_description\": \"Amongst non-matching record comparisons, 11.04% of records are in the inexact match comparison level\", \"has_tf_adjustments\": false, \"tf_adjustment_column\": null, \"tf_adjustment_weight\": 1.0, \"is_null_level\": false, \"bayes_factor\": 0.10275036929927334, \"log2_bayes_factor\": -3.2827845157222746, \"comparison_vector_value\": 1, \"max_comparison_vector_value\": 2, \"bayes_factor_description\": \"If comparison level is `inexact match` then comparison is  9.73 times less likely to be a match\", \"probability_two_random_records_match\": 1.4225305711259186e-05, \"comparison_sort_order\": 5}, {\"comparison_name\": \"year_of_birth\", \"sql_condition\": \"ELSE\", \"label_for_charts\": \"All other comparisons\", \"m_probability\": 0.022589388032348685, \"u_probability\": 0.8784059538729964, \"m_probability_description\": \"Amongst matching record comparisons, 2.26% of records are in the all other comparisons comparison level\", \"u_probability_description\": \"Amongst non-matching record comparisons, 87.84% of records are in the all other comparisons comparison level\", \"has_tf_adjustments\": false, \"tf_adjustment_column\": null, \"tf_adjustment_weight\": 1.0, \"is_null_level\": false, \"bayes_factor\": 0.025716342122624948, \"log2_bayes_factor\": -5.281170740609813, \"comparison_vector_value\": 0, \"max_comparison_vector_value\": 2, \"bayes_factor_description\": \"If comparison level is `all other comparisons` then comparison is  38.89 times less likely to be a match\", \"probability_two_random_records_match\": 1.4225305711259186e-05, \"comparison_sort_order\": 5}, {\"comparison_name\": \"geokey\", \"sql_condition\": \"`geokey_l` = `geokey_r`\", \"label_for_charts\": \"Exact match\", \"m_probability\": 0.4477188049686641, \"u_probability\": 0.0023439137899664837, \"m_probability_description\": \"Amongst matching record comparisons, 44.77% of records are in the exact match comparison level\", \"u_probability_description\": \"Amongst non-matching record comparisons, 0.23% of records are in the exact match comparison level\", \"has_tf_adjustments\": false, \"tf_adjustment_column\": null, \"tf_adjustment_weight\": 1.0, \"is_null_level\": false, \"bayes_factor\": 191.01334139728158, \"log2_bayes_factor\": 7.577529597122158, \"comparison_vector_value\": 2, \"max_comparison_vector_value\": 2, \"bayes_factor_description\": \"If comparison level is `exact match` then comparison is 191.01 times more likely to be a match\", \"probability_two_random_records_match\": 1.4225305711259186e-05, \"comparison_sort_order\": 6}, {\"comparison_name\": \"geokey\", \"sql_condition\": \"jaro_winkler(`geokey_l`, `geokey_r`) >= 0.7222222222222222\", \"label_for_charts\": \"Jaro_winkler >= 0.7222222222222222\", \"m_probability\": 0.4423537062458611, \"u_probability\": 0.35828043566803447, \"m_probability_description\": \"Amongst matching record comparisons, 44.24% of records are in the jaro_winkler >= 0.7222222222222222 comparison level\", \"u_probability_description\": \"Amongst non-matching record comparisons, 35.83% of records are in the jaro_winkler >= 0.7222222222222222 comparison level\", \"has_tf_adjustments\": false, \"tf_adjustment_column\": null, \"tf_adjustment_weight\": 1.0, \"is_null_level\": false, \"bayes_factor\": 1.2346577211816414, \"log2_bayes_factor\": 0.30411114513376686, \"comparison_vector_value\": 1, \"max_comparison_vector_value\": 2, \"bayes_factor_description\": \"If comparison level is `jaro_winkler >= 0.7222222222222222` then comparison is 1.23 times more likely to be a match\", \"probability_two_random_records_match\": 1.4225305711259186e-05, \"comparison_sort_order\": 6}, {\"comparison_name\": \"geokey\", \"sql_condition\": \"ELSE\", \"label_for_charts\": \"All other comparisons\", \"m_probability\": 0.10992748878547479, \"u_probability\": 0.6393756505419991, \"m_probability_description\": \"Amongst matching record comparisons, 10.99% of records are in the all other comparisons comparison level\", \"u_probability_description\": \"Amongst non-matching record comparisons, 63.94% of records are in the all other comparisons comparison level\", \"has_tf_adjustments\": false, \"tf_adjustment_column\": null, \"tf_adjustment_weight\": 1.0, \"is_null_level\": false, \"bayes_factor\": 0.17192942629624572, \"log2_bayes_factor\": -2.5401116068575607, \"comparison_vector_value\": 0, \"max_comparison_vector_value\": 2, \"bayes_factor_description\": \"If comparison level is `all other comparisons` then comparison is  5.82 times less likely to be a match\", \"probability_two_random_records_match\": 1.4225305711259186e-05, \"comparison_sort_order\": 6}]}}, {\"mode\": \"vega-lite\"});\n",
       "</script>"
      ],
      "text/plain": [
       "alt.HConcatChart(...)"
      ]
     },
     "execution_count": 62,
     "metadata": {},
     "output_type": "execute_result"
    }
   ],
   "source": [
    "linker.m_u_parameters_chart()"
   ]
  },
  {
   "cell_type": "code",
   "execution_count": 63,
   "id": "57bc79f6-2c8b-4e65-88f9-b91d94d19f77",
   "metadata": {
    "execution": {
     "iopub.execute_input": "2024-02-12T19:33:22.641354Z",
     "iopub.status.busy": "2024-02-12T19:33:22.641042Z",
     "iopub.status.idle": "2024-02-12T19:33:23.744245Z",
     "shell.execute_reply": "2024-02-12T19:33:23.743778Z"
    },
    "papermill": {
     "duration": 1.135075,
     "end_time": "2024-02-12T19:33:23.745349",
     "exception": false,
     "start_time": "2024-02-12T19:33:22.610274",
     "status": "completed"
    },
    "tags": []
   },
   "outputs": [
    {
     "data": {
      "text/html": [
       "\n",
       "<style>\n",
       "  #altair-viz-de8180587f3b4994b8f97055313d016b.vega-embed {\n",
       "    width: 100%;\n",
       "    display: flex;\n",
       "  }\n",
       "\n",
       "  #altair-viz-de8180587f3b4994b8f97055313d016b.vega-embed details,\n",
       "  #altair-viz-de8180587f3b4994b8f97055313d016b.vega-embed details summary {\n",
       "    position: relative;\n",
       "  }\n",
       "</style>\n",
       "<div id=\"altair-viz-de8180587f3b4994b8f97055313d016b\"></div>\n",
       "<script type=\"text/javascript\">\n",
       "  var VEGA_DEBUG = (typeof VEGA_DEBUG == \"undefined\") ? {} : VEGA_DEBUG;\n",
       "  (function(spec, embedOpt){\n",
       "    let outputDiv = document.currentScript.previousElementSibling;\n",
       "    if (outputDiv.id !== \"altair-viz-de8180587f3b4994b8f97055313d016b\") {\n",
       "      outputDiv = document.getElementById(\"altair-viz-de8180587f3b4994b8f97055313d016b\");\n",
       "    }\n",
       "    const paths = {\n",
       "      \"vega\": \"https://cdn.jsdelivr.net/npm/vega@5?noext\",\n",
       "      \"vega-lib\": \"https://cdn.jsdelivr.net/npm/vega-lib?noext\",\n",
       "      \"vega-lite\": \"https://cdn.jsdelivr.net/npm/vega-lite@5.15.1?noext\",\n",
       "      \"vega-embed\": \"https://cdn.jsdelivr.net/npm/vega-embed@6?noext\",\n",
       "    };\n",
       "\n",
       "    function maybeLoadScript(lib, version) {\n",
       "      var key = `${lib.replace(\"-\", \"\")}_version`;\n",
       "      return (VEGA_DEBUG[key] == version) ?\n",
       "        Promise.resolve(paths[lib]) :\n",
       "        new Promise(function(resolve, reject) {\n",
       "          var s = document.createElement('script');\n",
       "          document.getElementsByTagName(\"head\")[0].appendChild(s);\n",
       "          s.async = true;\n",
       "          s.onload = () => {\n",
       "            VEGA_DEBUG[key] = version;\n",
       "            return resolve(paths[lib]);\n",
       "          };\n",
       "          s.onerror = () => reject(`Error loading script: ${paths[lib]}`);\n",
       "          s.src = paths[lib];\n",
       "        });\n",
       "    }\n",
       "\n",
       "    function showError(err) {\n",
       "      outputDiv.innerHTML = `<div class=\"error\" style=\"color:red;\">${err}</div>`;\n",
       "      throw err;\n",
       "    }\n",
       "\n",
       "    function displayChart(vegaEmbed) {\n",
       "      vegaEmbed(outputDiv, spec, embedOpt)\n",
       "        .catch(err => showError(`Javascript Error: ${err.message}<br>This usually means there's a typo in your chart specification. See the javascript console for the full traceback.`));\n",
       "    }\n",
       "\n",
       "    if(typeof define === \"function\" && define.amd) {\n",
       "      requirejs.config({paths});\n",
       "      require([\"vega-embed\"], displayChart, err => showError(`Error loading script: ${err.message}`));\n",
       "    } else {\n",
       "      maybeLoadScript(\"vega\", \"5\")\n",
       "        .then(() => maybeLoadScript(\"vega-lite\", \"5.15.1\"))\n",
       "        .then(() => maybeLoadScript(\"vega-embed\", \"6\"))\n",
       "        .catch(showError)\n",
       "        .then(() => displayChart(vegaEmbed));\n",
       "    }\n",
       "  })({\"config\": {\"view\": {\"continuousWidth\": 400, \"continuousHeight\": 300}, \"title\": {\"anchor\": \"middle\", \"fontSize\": 18, \"subtitleFontSize\": 14}}, \"data\": {\"name\": \"data-617b8e64de231ae8e3ea33d9ba07a548\"}, \"mark\": {\"type\": \"point\", \"filled\": false, \"opacity\": 0.7, \"size\": 100}, \"encoding\": {\"color\": {\"field\": \"estimate_description\", \"type\": \"nominal\"}, \"column\": {\"align\": \"each\", \"field\": \"col_header\", \"header\": {\"labelFontSize\": 14, \"labelFontWeight\": \"bold\"}, \"title\": null, \"type\": \"nominal\"}, \"row\": {\"align\": \"each\", \"field\": \"comparison_name\", \"header\": {\"labelAlign\": \"left\", \"labelAnchor\": \"middle\", \"labelAngle\": 0, \"labelFontSize\": 12, \"labelFontWeight\": \"bold\"}, \"sort\": {\"field\": \"comparison_sort_order\"}, \"title\": null, \"type\": \"nominal\"}, \"shape\": {\"field\": \"estimate_description\", \"scale\": {\"range\": [\"circle\", \"square\", \"triangle\", \"diamond\"]}, \"type\": \"nominal\"}, \"tooltip\": [{\"field\": \"comparison_name\", \"type\": \"nominal\"}, {\"field\": \"estimate_description\", \"type\": \"nominal\"}, {\"field\": \"estimated_probability\", \"type\": \"quantitative\"}], \"x\": {\"axis\": {\"gridColor\": {\"condition\": {\"test\": \"abs(datum.value / 10)  <= 1 & datum.value % 10 === 0\", \"value\": \"#aaa\"}, \"value\": \"#ddd\"}, \"gridDash\": {\"condition\": {\"test\": \"abs(datum.value / 10) == 1\", \"value\": [3]}, \"value\": null}, \"gridWidth\": {\"condition\": {\"test\": \"abs(datum.value / 10)  <= 1 & datum.value % 10 === 0\", \"value\": 2}, \"value\": 1}}, \"field\": \"estimated_probability_as_log_odds\", \"title\": \"Estimated probability as log odds\", \"type\": \"quantitative\"}, \"y\": {\"axis\": {\"grid\": true, \"title\": null}, \"field\": \"comparison_level_label\", \"sort\": {\"field\": \"comparison_vector_value\", \"order\": \"descending\"}, \"type\": \"nominal\"}}, \"params\": [{\"name\": \"mouse_zoom\", \"select\": {\"type\": \"interval\", \"encodings\": [\"x\"]}, \"bind\": \"scales\"}], \"resolve\": {\"scale\": {\"y\": \"independent\"}}, \"title\": {\"text\": \"Comparison of parameter estimates across training sessions\", \"subtitle\": \"Use mousewheel to zoom\"}, \"transform\": [{\"calculate\": \"datum.m_or_u + '-probability (as log odds)'\", \"as\": \"col_header\"}], \"$schema\": \"https://vega.github.io/schema/vega-lite/v5.9.3.json\", \"datasets\": {\"data-617b8e64de231ae8e3ea33d9ba07a548\": [{\"m_or_u\": \"m\", \"estimated_probability\": 0.8419096458817422, \"estimate_description\": \"EM, blocked on: l.geokey = r.geokey\", \"estimated_probability_as_log_odds\": 2.4129160665700424, \"sql_condition\": \"`first_name_15_l` = `first_name_15_r`\", \"comparison_level_label\": \"Exact match\", \"comparison_vector_value\": 2, \"comparison_name\": \"first_name_15\", \"comparison_sort_order\": 0}, {\"m_or_u\": \"m\", \"estimated_probability\": 0.09116997614766156, \"estimate_description\": \"EM, blocked on: l.geokey = r.geokey\", \"estimated_probability_as_log_odds\": -3.317379792847265, \"sql_condition\": \"jaro_winkler(`first_name_15_l`, `first_name_15_r`) >= 0.8333333333333334\", \"comparison_level_label\": \"Jaro_winkler >= 0.8333333333333334\", \"comparison_vector_value\": 1, \"comparison_name\": \"first_name_15\", \"comparison_sort_order\": 0}, {\"m_or_u\": \"m\", \"estimated_probability\": 0.06692037797059636, \"estimate_description\": \"EM, blocked on: l.geokey = r.geokey\", \"estimated_probability_as_log_odds\": -3.801482696177675, \"sql_condition\": \"ELSE\", \"comparison_level_label\": \"All other comparisons\", \"comparison_vector_value\": 0, \"comparison_name\": \"first_name_15\", \"comparison_sort_order\": 0}, {\"m_or_u\": \"m\", \"estimated_probability\": 0.8807909842676699, \"estimate_description\": \"EM, blocked on: l.first_name_15 = r.first_name_15 and l.zipcode = r.zipcode\", \"estimated_probability_as_log_odds\": 2.885306351222589, \"sql_condition\": \"`last_name_12_l` = `last_name_12_r`\", \"comparison_level_label\": \"Exact match\", \"comparison_vector_value\": 2, \"comparison_name\": \"last_name_12\", \"comparison_sort_order\": 1}, {\"m_or_u\": \"m\", \"estimated_probability\": 0.8819253824464584, \"estimate_description\": \"EM, blocked on: l.geokey = r.geokey\", \"estimated_probability_as_log_odds\": 2.900957735467968, \"sql_condition\": \"`last_name_12_l` = `last_name_12_r`\", \"comparison_level_label\": \"Exact match\", \"comparison_vector_value\": 2, \"comparison_name\": \"last_name_12\", \"comparison_sort_order\": 1}, {\"m_or_u\": \"m\", \"estimated_probability\": 0.09049331572999735, \"estimate_description\": \"EM, blocked on: l.first_name_15 = r.first_name_15 and l.zipcode = r.zipcode\", \"estimated_probability_as_log_odds\": -3.329201103892074, \"sql_condition\": \"jaro_winkler(`last_name_12_l`, `last_name_12_r`) >= 0.8333333333333334\", \"comparison_level_label\": \"Jaro_winkler >= 0.8333333333333334\", \"comparison_vector_value\": 1, \"comparison_name\": \"last_name_12\", \"comparison_sort_order\": 1}, {\"m_or_u\": \"m\", \"estimated_probability\": 0.08985341987023447, \"estimate_description\": \"EM, blocked on: l.geokey = r.geokey\", \"estimated_probability_as_log_odds\": -3.3404535920272167, \"sql_condition\": \"jaro_winkler(`last_name_12_l`, `last_name_12_r`) >= 0.8333333333333334\", \"comparison_level_label\": \"Jaro_winkler >= 0.8333333333333334\", \"comparison_vector_value\": 1, \"comparison_name\": \"last_name_12\", \"comparison_sort_order\": 1}, {\"m_or_u\": \"m\", \"estimated_probability\": 0.028715700002332797, \"estimate_description\": \"EM, blocked on: l.first_name_15 = r.first_name_15 and l.zipcode = r.zipcode\", \"estimated_probability_as_log_odds\": -5.079982006019659, \"sql_condition\": \"ELSE\", \"comparison_level_label\": \"All other comparisons\", \"comparison_vector_value\": 0, \"comparison_name\": \"last_name_12\", \"comparison_sort_order\": 1}, {\"m_or_u\": \"m\", \"estimated_probability\": 0.02822119768330704, \"estimate_description\": \"EM, blocked on: l.geokey = r.geokey\", \"estimated_probability_as_log_odds\": -5.10577684180606, \"sql_condition\": \"ELSE\", \"comparison_level_label\": \"All other comparisons\", \"comparison_vector_value\": 0, \"comparison_name\": \"last_name_12\", \"comparison_sort_order\": 1}, {\"m_or_u\": \"m\", \"estimated_probability\": 0.9418359171906943, \"estimate_description\": \"EM, blocked on: l.first_name_15 = r.first_name_15 and l.zipcode = r.zipcode\", \"estimated_probability_as_log_odds\": 4.017275293843287, \"sql_condition\": \"`middle_initial_l` = `middle_initial_r`\", \"comparison_level_label\": \"Exact match\", \"comparison_vector_value\": 1, \"comparison_name\": \"middle_initial\", \"comparison_sort_order\": 2}, {\"m_or_u\": \"m\", \"estimated_probability\": 0.9253486186082084, \"estimate_description\": \"EM, blocked on: l.geokey = r.geokey\", \"estimated_probability_as_log_odds\": 3.631756131114768, \"sql_condition\": \"`middle_initial_l` = `middle_initial_r`\", \"comparison_level_label\": \"Exact match\", \"comparison_vector_value\": 1, \"comparison_name\": \"middle_initial\", \"comparison_sort_order\": 2}, {\"m_or_u\": \"m\", \"estimated_probability\": 0.058164082809305705, \"estimate_description\": \"EM, blocked on: l.first_name_15 = r.first_name_15 and l.zipcode = r.zipcode\", \"estimated_probability_as_log_odds\": -4.017275293843288, \"sql_condition\": \"ELSE\", \"comparison_level_label\": \"All other comparisons\", \"comparison_vector_value\": 0, \"comparison_name\": \"middle_initial\", \"comparison_sort_order\": 2}, {\"m_or_u\": \"m\", \"estimated_probability\": 0.07465138139179163, \"estimate_description\": \"EM, blocked on: l.geokey = r.geokey\", \"estimated_probability_as_log_odds\": -3.631756131114768, \"sql_condition\": \"ELSE\", \"comparison_level_label\": \"All other comparisons\", \"comparison_vector_value\": 0, \"comparison_name\": \"middle_initial\", \"comparison_sort_order\": 2}, {\"m_or_u\": \"m\", \"estimated_probability\": 0.972749886073781, \"estimate_description\": \"EM, blocked on: l.first_name_15 = r.first_name_15 and l.zipcode = r.zipcode\", \"estimated_probability_as_log_odds\": 5.15773473965477, \"sql_condition\": \"`day_of_birth_l` = `day_of_birth_r`\", \"comparison_level_label\": \"Exact match\", \"comparison_vector_value\": 2, \"comparison_name\": \"day_of_birth\", \"comparison_sort_order\": 3}, {\"m_or_u\": \"m\", \"estimated_probability\": 0.9682522611273179, \"estimate_description\": \"EM, blocked on: l.geokey = r.geokey\", \"estimated_probability_as_log_odds\": 4.9306572158444135, \"sql_condition\": \"`day_of_birth_l` = `day_of_birth_r`\", \"comparison_level_label\": \"Exact match\", \"comparison_vector_value\": 2, \"comparison_name\": \"day_of_birth\", \"comparison_sort_order\": 3}, {\"m_or_u\": \"m\", \"estimated_probability\": 0.016793513960025486, \"estimate_description\": \"EM, blocked on: l.first_name_15 = r.first_name_15 and l.zipcode = r.zipcode\", \"estimated_probability_as_log_odds\": -5.871518389145226, \"sql_condition\": \"abs(day_of_birth_l - day_of_birth_r) <= 5\", \"comparison_level_label\": \"Inexact match\", \"comparison_vector_value\": 1, \"comparison_name\": \"day_of_birth\", \"comparison_sort_order\": 3}, {\"m_or_u\": \"m\", \"estimated_probability\": 0.018140431971217792, \"estimate_description\": \"EM, blocked on: l.geokey = r.geokey\", \"estimated_probability_as_log_odds\": -5.758235979885807, \"sql_condition\": \"abs(day_of_birth_l - day_of_birth_r) <= 5\", \"comparison_level_label\": \"Inexact match\", \"comparison_vector_value\": 1, \"comparison_name\": \"day_of_birth\", \"comparison_sort_order\": 3}, {\"m_or_u\": \"m\", \"estimated_probability\": 0.010456599966193535, \"estimate_description\": \"EM, blocked on: l.first_name_15 = r.first_name_15 and l.zipcode = r.zipcode\", \"estimated_probability_as_log_odds\": -6.5642772523604735, \"sql_condition\": \"ELSE\", \"comparison_level_label\": \"All other comparisons\", \"comparison_vector_value\": 0, \"comparison_name\": \"day_of_birth\", \"comparison_sort_order\": 3}, {\"m_or_u\": \"m\", \"estimated_probability\": 0.013607306901464226, \"estimate_description\": \"EM, blocked on: l.geokey = r.geokey\", \"estimated_probability_as_log_odds\": -6.179708644399993, \"sql_condition\": \"ELSE\", \"comparison_level_label\": \"All other comparisons\", \"comparison_vector_value\": 0, \"comparison_name\": \"day_of_birth\", \"comparison_sort_order\": 3}, {\"m_or_u\": \"m\", \"estimated_probability\": 0.9806097197761042, \"estimate_description\": \"EM, blocked on: l.first_name_15 = r.first_name_15 and l.zipcode = r.zipcode\", \"estimated_probability_as_log_odds\": 5.66027350344052, \"sql_condition\": \"`month_of_birth_l` = `month_of_birth_r`\", \"comparison_level_label\": \"Exact match\", \"comparison_vector_value\": 2, \"comparison_name\": \"month_of_birth\", \"comparison_sort_order\": 4}, {\"m_or_u\": \"m\", \"estimated_probability\": 0.976626292717301, \"estimate_description\": \"EM, blocked on: l.geokey = r.geokey\", \"estimated_probability_as_log_odds\": 5.384848136765265, \"sql_condition\": \"`month_of_birth_l` = `month_of_birth_r`\", \"comparison_level_label\": \"Exact match\", \"comparison_vector_value\": 2, \"comparison_name\": \"month_of_birth\", \"comparison_sort_order\": 4}, {\"m_or_u\": \"m\", \"estimated_probability\": 0.00978373531114558, \"estimate_description\": \"EM, blocked on: l.first_name_15 = r.first_name_15 and l.zipcode = r.zipcode\", \"estimated_probability_as_log_odds\": -6.661214462329966, \"sql_condition\": \"abs(month_of_birth_l - month_of_birth_r) <= 3\", \"comparison_level_label\": \"Inexact match\", \"comparison_vector_value\": 1, \"comparison_name\": \"month_of_birth\", \"comparison_sort_order\": 4}, {\"m_or_u\": \"m\", \"estimated_probability\": 0.0116110428214393, \"estimate_description\": \"EM, blocked on: l.geokey = r.geokey\", \"estimated_probability_as_log_odds\": -6.4115094364175444, \"sql_condition\": \"abs(month_of_birth_l - month_of_birth_r) <= 3\", \"comparison_level_label\": \"Inexact match\", \"comparison_vector_value\": 1, \"comparison_name\": \"month_of_birth\", \"comparison_sort_order\": 4}, {\"m_or_u\": \"m\", \"estimated_probability\": 0.009606544912750172, \"estimate_description\": \"EM, blocked on: l.first_name_15 = r.first_name_15 and l.zipcode = r.zipcode\", \"estimated_probability_as_log_odds\": -6.687840325464641, \"sql_condition\": \"ELSE\", \"comparison_level_label\": \"All other comparisons\", \"comparison_vector_value\": 0, \"comparison_name\": \"month_of_birth\", \"comparison_sort_order\": 4}, {\"m_or_u\": \"m\", \"estimated_probability\": 0.011762664461259825, \"estimate_description\": \"EM, blocked on: l.geokey = r.geokey\", \"estimated_probability_as_log_odds\": -6.392570762294387, \"sql_condition\": \"ELSE\", \"comparison_level_label\": \"All other comparisons\", \"comparison_vector_value\": 0, \"comparison_name\": \"month_of_birth\", \"comparison_sort_order\": 4}, {\"m_or_u\": \"m\", \"estimated_probability\": 0.9684224571557469, \"estimate_description\": \"EM, blocked on: l.first_name_15 = r.first_name_15 and l.zipcode = r.zipcode\", \"estimated_probability_as_log_odds\": 4.938665715304694, \"sql_condition\": \"`year_of_birth_l` = `year_of_birth_r`\", \"comparison_level_label\": \"Exact match\", \"comparison_vector_value\": 2, \"comparison_name\": \"year_of_birth\", \"comparison_sort_order\": 5}, {\"m_or_u\": \"m\", \"estimated_probability\": 0.9637116517150498, \"estimate_description\": \"EM, blocked on: l.geokey = r.geokey\", \"estimated_probability_as_log_odds\": 4.7310232509064365, \"sql_condition\": \"`year_of_birth_l` = `year_of_birth_r`\", \"comparison_level_label\": \"Exact match\", \"comparison_vector_value\": 2, \"comparison_name\": \"year_of_birth\", \"comparison_sort_order\": 5}, {\"m_or_u\": \"m\", \"estimated_probability\": 0.010380470108146697, \"estimate_description\": \"EM, blocked on: l.first_name_15 = r.first_name_15 and l.zipcode = r.zipcode\", \"estimated_probability_as_log_odds\": -6.574930285116136, \"sql_condition\": \"abs(year_of_birth_l - year_of_birth_r) <= 5\", \"comparison_level_label\": \"Inexact match\", \"comparison_vector_value\": 1, \"comparison_name\": \"year_of_birth\", \"comparison_sort_order\": 5}, {\"m_or_u\": \"m\", \"estimated_probability\": 0.012306644956359206, \"estimate_description\": \"EM, blocked on: l.geokey = r.geokey\", \"estimated_probability_as_log_odds\": -6.326553791629468, \"sql_condition\": \"abs(year_of_birth_l - year_of_birth_r) <= 5\", \"comparison_level_label\": \"Inexact match\", \"comparison_vector_value\": 1, \"comparison_name\": \"year_of_birth\", \"comparison_sort_order\": 5}, {\"m_or_u\": \"m\", \"estimated_probability\": 0.02119707273610636, \"estimate_description\": \"EM, blocked on: l.first_name_15 = r.first_name_15 and l.zipcode = r.zipcode\", \"estimated_probability_as_log_odds\": -5.529081465029359, \"sql_condition\": \"ELSE\", \"comparison_level_label\": \"All other comparisons\", \"comparison_vector_value\": 0, \"comparison_name\": \"year_of_birth\", \"comparison_sort_order\": 5}, {\"m_or_u\": \"m\", \"estimated_probability\": 0.02398170332859101, \"estimate_description\": \"EM, blocked on: l.geokey = r.geokey\", \"estimated_probability_as_log_odds\": -5.346902156536056, \"sql_condition\": \"ELSE\", \"comparison_level_label\": \"All other comparisons\", \"comparison_vector_value\": 0, \"comparison_name\": \"year_of_birth\", \"comparison_sort_order\": 5}, {\"m_or_u\": \"m\", \"estimated_probability\": 0.4477188049686641, \"estimate_description\": \"EM, blocked on: l.first_name_15 = r.first_name_15 and l.zipcode = r.zipcode\", \"estimated_probability_as_log_odds\": -0.3028100898018235, \"sql_condition\": \"`geokey_l` = `geokey_r`\", \"comparison_level_label\": \"Exact match\", \"comparison_vector_value\": 2, \"comparison_name\": \"geokey\", \"comparison_sort_order\": 6}, {\"m_or_u\": \"m\", \"estimated_probability\": 0.4423537062458611, \"estimate_description\": \"EM, blocked on: l.first_name_15 = r.first_name_15 and l.zipcode = r.zipcode\", \"estimated_probability_as_log_odds\": -0.33414992269547783, \"sql_condition\": \"jaro_winkler(`geokey_l`, `geokey_r`) >= 0.7222222222222222\", \"comparison_level_label\": \"Jaro_winkler >= 0.7222222222222222\", \"comparison_vector_value\": 1, \"comparison_name\": \"geokey\", \"comparison_sort_order\": 6}, {\"m_or_u\": \"m\", \"estimated_probability\": 0.10992748878547479, \"estimate_description\": \"EM, blocked on: l.first_name_15 = r.first_name_15 and l.zipcode = r.zipcode\", \"estimated_probability_as_log_odds\": -3.017370676488431, \"sql_condition\": \"ELSE\", \"comparison_level_label\": \"All other comparisons\", \"comparison_vector_value\": 0, \"comparison_name\": \"geokey\", \"comparison_sort_order\": 6}]}}, {\"mode\": \"vega-lite\"});\n",
       "</script>"
      ],
      "text/plain": [
       "alt.Chart(...)"
      ]
     },
     "execution_count": 63,
     "metadata": {},
     "output_type": "execute_result"
    }
   ],
   "source": [
    "linker.parameter_estimate_comparisons_chart()"
   ]
  },
  {
   "cell_type": "code",
   "execution_count": 64,
   "id": "10a026ed-761b-45ee-b44b-9259423e518e",
   "metadata": {
    "execution": {
     "iopub.execute_input": "2024-02-12T19:33:23.809229Z",
     "iopub.status.busy": "2024-02-12T19:33:23.808915Z",
     "iopub.status.idle": "2024-02-12T19:33:23.812156Z",
     "shell.execute_reply": "2024-02-12T19:33:23.811680Z"
    },
    "papermill": {
     "duration": 0.035187,
     "end_time": "2024-02-12T19:33:23.813271",
     "exception": false,
     "start_time": "2024-02-12T19:33:23.778084",
     "status": "completed"
    },
    "tags": []
   },
   "outputs": [],
   "source": [
    "splink_settings = linker._settings_obj.as_dict()"
   ]
  },
  {
   "cell_type": "code",
   "execution_count": 65,
   "id": "92188bbf-e12e-42f2-8a32-b007ea05e0cf",
   "metadata": {
    "execution": {
     "iopub.execute_input": "2024-02-12T19:33:23.873105Z",
     "iopub.status.busy": "2024-02-12T19:33:23.872595Z",
     "iopub.status.idle": "2024-02-12T19:33:23.883590Z",
     "shell.execute_reply": "2024-02-12T19:33:23.882682Z"
    },
    "papermill": {
     "duration": 0.042256,
     "end_time": "2024-02-12T19:33:23.885086",
     "exception": false,
     "start_time": "2024-02-12T19:33:23.842830",
     "status": "completed"
    },
    "tags": []
   },
   "outputs": [],
   "source": [
    "import pickle\n",
    "\n",
    "with open(f'{intermediate_data_dir}/splink_settings.pkl', 'wb') as f:\n",
    "    pickle.dump(splink_settings, f, protocol=-1)"
   ]
  },
  {
   "cell_type": "code",
   "execution_count": 66,
   "id": "0626e377-c1b5-444e-b380-a99ae5156b4e",
   "metadata": {
    "execution": {
     "iopub.execute_input": "2024-02-12T19:33:23.946268Z",
     "iopub.status.busy": "2024-02-12T19:33:23.946055Z",
     "iopub.status.idle": "2024-02-12T19:33:23.950786Z",
     "shell.execute_reply": "2024-02-12T19:33:23.949603Z"
    },
    "papermill": {
     "duration": 0.036656,
     "end_time": "2024-02-12T19:33:23.952086",
     "exception": false,
     "start_time": "2024-02-12T19:33:23.915430",
     "status": "completed"
    },
    "tags": []
   },
   "outputs": [],
   "source": [
    "with open(f'{intermediate_data_dir}/splink_settings.pkl', 'rb') as f:\n",
    "    splink_settings = pickle.load(f)"
   ]
  },
  {
   "cell_type": "markdown",
   "id": "f1b9963e-73da-4b51-837d-d79deca7fecf",
   "metadata": {
    "papermill": {
     "duration": 0.030495,
     "end_time": "2024-02-12T19:33:24.013988",
     "exception": false,
     "start_time": "2024-02-12T19:33:23.983493",
     "status": "completed"
    },
    "tags": []
   },
   "source": [
    "## Implement matching passes"
   ]
  },
  {
   "cell_type": "code",
   "execution_count": 67,
   "id": "f437d4c7-b848-4c19-b29d-5f48d10ce911",
   "metadata": {
    "editable": true,
    "execution": {
     "iopub.execute_input": "2024-02-12T19:33:24.074434Z",
     "iopub.status.busy": "2024-02-12T19:33:24.074097Z",
     "iopub.status.idle": "2024-02-12T19:33:24.385732Z",
     "shell.execute_reply": "2024-02-12T19:33:24.384572Z"
    },
    "papermill": {
     "duration": 0.344984,
     "end_time": "2024-02-12T19:33:24.388333",
     "exception": false,
     "start_time": "2024-02-12T19:33:24.043349",
     "status": "completed"
    },
    "slideshow": {
     "slide_type": ""
    },
    "tags": []
   },
   "outputs": [],
   "source": [
    "from dataclasses import dataclass\n",
    "\n",
    "# Calculate this once to save time -- mapping from record_id to record_id_raw_input_file\n",
    "# There can be multiple records (with different record_id) for the same input file record\n",
    "# (record_id_raw_input_file) because of the handling of nicknames by creating extra records.\n",
    "record_id_raw_input_file_by_record_id = census_2030[['record_id', 'record_id_raw_input_file']]\n",
    "\n",
    "all_piks = df_ops.persist(df_ops.concat([\n",
    "    name_dob_reference_file[[\"record_id\", \"pik\"]],\n",
    "    geobase_reference_file[[\"record_id\", \"pik\"]]\n",
    "], ignore_index=True))\n",
    "\n",
    "dates_of_death = df_ops.persist(\n",
    "    df_ops.read_parquet(f'{input_dir}/{data_to_use}/simulated_census_numident.parquet')\n",
    "        [['pik', 'date_of_death']]\n",
    "        .assign(date_of_death=lambda s: pd.to_datetime(s.date_of_death, format='%Y%m%d', errors='coerce'))\n",
    ")\n",
    "\n",
    "class PersonLinkageCascade:\n",
    "    def __init__(self):\n",
    "        # This dataframe will accumulate the PIKs to attach to the input file\n",
    "        self.confirmed_piks = df_ops.empty_dataframe(columns=[\"record_id_raw_input_file\", \"pik\"], dtype=str)\n",
    "        self.current_module = None\n",
    "\n",
    "    def start_module(self, *args, **kwargs):\n",
    "        assert self.current_module is None or self.current_module.confirmed\n",
    "        self.current_module = PersonLinkageModule(*args, already_confirmed_piks=self.confirmed_piks, **kwargs)\n",
    "\n",
    "    def run_matching_pass(self, *args, **kwargs):\n",
    "        self.current_module.run_matching_pass(*args, **kwargs)\n",
    "\n",
    "    def confirm_piks(self, *args, **kwargs):\n",
    "        # Make sure we are not about to confirm PIKs for any of the same files we have\n",
    "        # already PIKed\n",
    "        assert len(\n",
    "            self.current_module.provisional_links.merge(self.confirmed_piks, on='record_id_raw_input_file', how='inner')\n",
    "        ) == 0\n",
    "\n",
    "        newly_confirmed_piks = self.current_module.confirm_piks_from_provisional_links()\n",
    "        if compute_engine == 'dask':\n",
    "            # An implementation of \"checkpointing\" in Dask, so we can safely delete the source files\n",
    "            # without risking permanent loss of data we will need\n",
    "            dir_path = f'{output_dir}/intermediate_data/newly_confirmed_piks/newly_confirmed_piks_{self.current_module.name}'\n",
    "            utils.ensure_empty(dir_path)\n",
    "            file_path = f'{dir_path}/newly_confirmed_piks_{self.current_module.name}_{int(time.time())}.parquet'\n",
    "            df_ops.to_parquet(newly_confirmed_piks, file_path, wait=True)\n",
    "            newly_confirmed_piks = df_ops.read_parquet(file_path)\n",
    "\n",
    "        # We are now done with the intermediate data inside this module\n",
    "        dir_path = f'{output_dir}/intermediate_data/{self.current_module.name}/'\n",
    "        utils.remove_path(dir_path)\n",
    "\n",
    "        self.confirmed_piks = df_ops.persist(df_ops.concat([\n",
    "            self.confirmed_piks,\n",
    "            newly_confirmed_piks,\n",
    "        ], ignore_index=True))\n",
    "\n",
    "@dataclass\n",
    "class PersonLinkageModule:\n",
    "    name: str\n",
    "    reference_file: pd.DataFrame\n",
    "    reference_file_name: str\n",
    "    already_confirmed_piks: pd.DataFrame\n",
    "    cut_columns: list[str]\n",
    "    matching_columns: list[str]\n",
    "    bayes_factor_cut_columns: float = 1\n",
    "\n",
    "    def __post_init__(self):\n",
    "        self.provisional_links = df_ops.empty_dataframe(columns=[\"record_id_census_2030\"], dtype=str)\n",
    "        self.confirmed = False\n",
    "        utils.ensure_empty(f'{intermediate_data_dir}/for_splink/')\n",
    "        self.reference_file_for_splink = prep_table_for_splink(self.reference_file, self.reference_file_name, self.reference_file.columns)\n",
    "        if clear_intermediate:\n",
    "            utils.ensure_empty(f'{output_dir}/intermediate_data/{self.name}/')\n",
    "        self.census_to_match = df_ops.persist(\n",
    "            census_2030\n",
    "                # Only look for matches among records that have not received a confirmed PIK\n",
    "                .merge(self.already_confirmed_piks[['record_id_raw_input_file']].assign(already_confirmed_dummy=1), on='record_id_raw_input_file', how='left')\n",
    "                .pipe(lambda df: df[df.already_confirmed_dummy.isna()])\n",
    "                .drop(columns=[\"already_confirmed_dummy\"])\n",
    "        )\n",
    "\n",
    "    def run_matching_pass(\n",
    "        self,\n",
    "        pass_name,\n",
    "        blocking_columns,\n",
    "        probability_threshold=0.99,\n",
    "        input_data_transformation=lambda x: x,\n",
    "    ):\n",
    "        assert self.confirmed == False\n",
    "\n",
    "        print(f\"Running {pass_name} of {self.name}\")\n",
    "\n",
    "        columns_needed = utils.dedupe_list([\"record_id\"] + self.cut_columns + blocking_columns + self.matching_columns)\n",
    "        print(f\"Files to link are {len(self.reference_file):,.0f} and {len(self.census_to_match):,.0f} records\")\n",
    "        if splink_engine == 'spark':\n",
    "            reference_file_for_splink = self.reference_file_for_splink.select(columns_needed)\n",
    "        else:\n",
    "            reference_file_for_splink = self.reference_file_for_splink[columns_needed]\n",
    "\n",
    "        tables_for_splink = [\n",
    "            reference_file_for_splink,\n",
    "            prep_table_for_splink(\n",
    "                self.census_to_match.pipe(input_data_transformation),\n",
    "                \"census_2030\",\n",
    "                columns_needed,\n",
    "            )\n",
    "        ]\n",
    "\n",
    "        blocking_rule_parts = [f\"l.{col} = r.{col}\" for col in self.cut_columns + blocking_columns]\n",
    "        blocking_rule = \" and \".join(blocking_rule_parts)\n",
    "\n",
    "        if splink_engine == 'spark':\n",
    "            blocking_rule = {\n",
    "                \"blocking_rule\": blocking_rule,\n",
    "                \"salting_partitions\": 10,\n",
    "            }\n",
    "\n",
    "        # We base our Splink linker for this pass on the one we trained above,\n",
    "        # but limiting it to the relevant column comparisons and updating the pass-specific\n",
    "        # settings\n",
    "        pass_splink_settings = copy.deepcopy(splink_settings)\n",
    "        pass_splink_settings[\"comparisons\"] = [\n",
    "            c for c in pass_splink_settings[\"comparisons\"] if c[\"output_column_name\"] in self.matching_columns\n",
    "        ]\n",
    "        prior_two_random_records_match = probability_two_random_records_match(\n",
    "            census_2030,\n",
    "            self.reference_file,\n",
    "        )\n",
    "        prior_odds_two_random_records_match = prior_two_random_records_match / (1 - prior_two_random_records_match)\n",
    "        # If cut columns are not used for matching, need to adjust our prior for the fact\n",
    "        # that all pairs compared will have the same values in the cut columns\n",
    "        odds_two_random_records_match = prior_odds_two_random_records_match * self.bayes_factor_cut_columns\n",
    "        pass_splink_settings[\"probability_two_random_records_match\"] = odds_two_random_records_match / (1 + odds_two_random_records_match)\n",
    "        pass_splink_settings[\"blocking_rules_to_generate_predictions\"] = [blocking_rule]\n",
    "\n",
    "        if splink_engine == 'duckdb':\n",
    "            linker = DuckDBLinker(\n",
    "                tables_for_splink,\n",
    "                pass_splink_settings,\n",
    "                # Must match order of tables_for_splink\n",
    "                input_table_aliases=[\"reference_file\", \"census_2030\"]\n",
    "            )\n",
    "        else:\n",
    "            linker = SparkLinker(\n",
    "                tables_for_splink,\n",
    "                pass_splink_settings,\n",
    "                # Must match order of tables_for_splink\n",
    "                input_table_aliases=[\"reference_file\", \"census_2030\"],\n",
    "                spark=spark,\n",
    "            )\n",
    "\n",
    "        num_comparisons = linker.count_num_comparisons_from_blocking_rule(blocking_rule)\n",
    "        print(f\"Number of pairs that will be compared: {num_comparisons:,.0f}\")\n",
    "    \n",
    "        # https://moj-analytical-services.github.io/splink/demos/06_Visualising_predictions.html#comparison-viewer-dashboard\n",
    "        # We also include some pairs below the threshold, for additional context.\n",
    "        pairs_worth_inspecting = linker.predict(threshold_match_probability=probability_threshold - 0.2)\n",
    "\n",
    "        if linker.query_sql(f'select count(*) as num from {pairs_worth_inspecting.physical_name}').num.iloc[0] > 0:\n",
    "            dashboard_file_name = f\"splink_temp/{self.name.replace(' ', '_')}__{pass_name.replace(' ', '_')}.html\"\n",
    "            linker.comparison_viewer_dashboard(pairs_worth_inspecting, dashboard_file_name, overwrite=True)\n",
    "            from IPython.display import IFrame, display\n",
    "            display(IFrame(\n",
    "                src=f\"./{dashboard_file_name}\", width=\"100%\", height=1200\n",
    "            ))\n",
    "\n",
    "        if compute_engine == 'pandas':\n",
    "            new_provisional_links = pairs_worth_inspecting.as_pandas_dataframe()\n",
    "            new_provisional_links = new_provisional_links[new_provisional_links.match_probability >= probability_threshold]\n",
    "        elif splink_engine == 'spark':\n",
    "            # We do a tiny bit of computation in Spark directly to avoid writing more to disk than we need to\n",
    "            pairs_worth_inspecting = pairs_worth_inspecting.as_spark_dataframe()\n",
    "            new_provisional_links = pairs_worth_inspecting.filter(pairs_worth_inspecting.match_probability >= probability_threshold)\n",
    "            if pairs_worth_inspecting.rdd.getNumPartitions() < compute_engine_num_jobs * 5:\n",
    "                new_provisional_links = new_provisional_links.repartition(compute_engine_num_jobs * 5)\n",
    "            # NOTE: We do *not* utils.ensure_empty across passes here, because we need the provisional links from all passes\n",
    "            # to stick around\n",
    "            dir_path = f'{output_dir}/intermediate_data/{self.name}/{pass_name}/new_provisional_links/'\n",
    "            utils.ensure_empty(dir_path)\n",
    "            file_path = f'{dir_path}/new_provisional_links_{int(time.time())}.parquet'\n",
    "            new_provisional_links.write.mode('overwrite').parquet(file_path)\n",
    "            utils.ensure_empty(checkpoints_dir) # We no longer need these checkpoints\n",
    "            new_provisional_links = df_ops.persist(df_ops.read_parquet(file_path))\n",
    "        else:\n",
    "            dir_path = f'{output_dir}/intermediate_data/{self.name}/{pass_name}/pairs_worth_inspecting/'\n",
    "            utils.ensure_empty(dir_path)\n",
    "            file_path = f'{dir_path}/pairs_worth_inspecting_{int(time.time())}.parquet'\n",
    "            pairs_worth_inspecting.to_parquet(file_path, overwrite=True)\n",
    "            pairs_worth_inspecting = df_ops.persist(df_ops.read_parquet(file_path))\n",
    "            new_provisional_links = pairs_worth_inspecting[pairs_worth_inspecting.match_probability >= probability_threshold]\n",
    "            del pairs_worth_inspecting\n",
    "\n",
    "        if splink_engine == 'spark':\n",
    "            utils.ensure_empty(checkpoints_dir) # We are done with this Spark linker\n",
    "\n",
    "        if len(new_provisional_links) > 0:\n",
    "            new_provisional_links = df_ops.persist(\n",
    "                label_pairs_with_dataset(new_provisional_links)\n",
    "                    .merge(record_id_raw_input_file_by_record_id, left_on=\"record_id_census_2030\", right_on=\"record_id\", how=\"left\")\n",
    "                    .drop(columns=[\"record_id\"])\n",
    "            )\n",
    "            self.provisional_links = df_ops.persist(df_ops.concat([\n",
    "                self.provisional_links,\n",
    "                new_provisional_links.assign(module_name=self.name, pass_name=pass_name).pipe(df_ops.ensure_large_string_capacity)\n",
    "            ], ignore_index=True))\n",
    "\n",
    "            self.census_to_match = df_ops.persist(\n",
    "                self.census_to_match\n",
    "                    # Only look for matches among records that have not received a provisional link\n",
    "                    # NOTE: \"records\" here does not mean input file records -- a nickname record having\n",
    "                    # a provisional link does not prevent a canonical name record from the same input record\n",
    "                    # from continuing to match\n",
    "                    .merge(df_ops.drop_duplicates(new_provisional_links[['record_id_census_2030']]), left_on='record_id', right_on='record_id_census_2030', how='left')\n",
    "                    .pipe(lambda df: df[df.record_id_census_2030.isna()])\n",
    "                    .drop(columns=[\"record_id_census_2030\"])\n",
    "            )\n",
    "\n",
    "        print(f'Found {len(new_provisional_links):,.0f} matches; {len(self.census_to_match) / len(census_2030):.2%} still eligible to match')\n",
    "\n",
    "    def confirm_piks_from_provisional_links(self):\n",
    "        assert not self.confirmed\n",
    "\n",
    "        provisional_links = (\n",
    "            self.provisional_links\n",
    "                .merge(all_piks, left_on=\"record_id_reference_file\", right_on=\"record_id\", how=\"left\")\n",
    "                .drop(columns=\"record_id\")\n",
    "        )\n",
    "\n",
    "        # \"After the initial set of links is created in GeoSearch, a post-search program is run to determine\n",
    "        # which of the links are retained. A series of checks are performed: First the date of death\n",
    "        # information from the Numident is checked and links to deceased persons are dropped. Next a\n",
    "        # check is made for more than one SSN assigned to a source record. If more than one SSN is\n",
    "        # assigned, the best link is selected based on match weights. If no best SSN is determined, all SSNs\n",
    "        # assigned in the GeoSearch module are dropped and the input record cascades to the next\n",
    "        # module. A similar post-search program is run at the end of all search modules.\"\n",
    "        # - Layne et al. p. 5\n",
    "\n",
    "        # Drop links to deceased people\n",
    "        # NOTE: On p. 38 of Brown et al. (2023) it discusses at length the number of PVS matches to deceased\n",
    "        # people, which should not be possible based on this process.\n",
    "        # Even though this is more recent, I can't think of a reason why this check would have\n",
    "        # been *removed* from PVS -- can we chalk this up to something experimental they were doing for\n",
    "        # the AR Census in the 2023 report?\n",
    "        provisional_links = df_ops.persist(\n",
    "            provisional_links.merge(dates_of_death, on=\"pik\", how=\"left\")\n",
    "        )\n",
    "        # Census day 2030\n",
    "        deceased_links = df_ops.persist(provisional_links.date_of_death.notnull() & (provisional_links.date_of_death <= pandas.to_datetime(\"2030-04-01\")))\n",
    "        print(f'{df_ops.compute(deceased_links.sum()):,.0f} input records linked to deceased people, dropping links')\n",
    "        provisional_links = df_ops.persist(provisional_links[~deceased_links])\n",
    "\n",
    "        # Check for multiple linkage to a single input file record\n",
    "        max_probability = df_ops.groupby_agg_small_groups(provisional_links, by=\"record_id_raw_input_file\", agg_func=lambda x: x.match_probability.max()).reset_index()\n",
    "        piks_per_input_file = (\n",
    "            provisional_links\n",
    "                .merge(max_probability, on=[\"record_id_raw_input_file\", \"match_probability\"])\n",
    "                .pipe(df_ops.groupby_agg_small_groups, by=\"record_id_raw_input_file\", agg_func=lambda x: x.pik.nunique())\n",
    "                .rename('num_unique_piks')\n",
    "                .reset_index()\n",
    "        )\n",
    "\n",
    "        multiple_piks = df_ops.persist(piks_per_input_file[piks_per_input_file.num_unique_piks > 1])\n",
    "        print(f'{len(multiple_piks):,.0f} input records linked to multiple PIKs, dropping links')\n",
    "        provisional_links = df_ops.persist(\n",
    "            provisional_links\n",
    "                .merge(multiple_piks, on=\"record_id_raw_input_file\", how=\"left\")\n",
    "                .pipe(lambda df: df[df.num_unique_piks.isnull() | (df.num_unique_piks <= 1)])\n",
    "                .pipe(df_ops.drop_duplicates, subset=\"record_id_raw_input_file\", sort_col=\"match_probability\", keep=\"last\")\n",
    "        )\n",
    "\n",
    "        assert df_ops.compute((df_ops.groupby_agg_small_groups(provisional_links, by=\"record_id_raw_input_file\", agg_func=lambda x: x.pik.nunique()) == 1).all())\n",
    "\n",
    "        self.confirmed = True\n",
    "        self.provisional_links = None\n",
    "        \n",
    "        return (\n",
    "            provisional_links[[\n",
    "                \"record_id_raw_input_file\",\n",
    "                \"record_id_census_2030\",\n",
    "                \"record_id_reference_file\",\n",
    "                \"pik\",\n",
    "                \"module_name\",\n",
    "                \"pass_name\",\n",
    "                \"match_probability\",\n",
    "            ]]\n",
    "        )\n",
    "\n",
    "def label_pairs_with_dataset(pairs):\n",
    "    pairs = df_ops.persist(pairs)\n",
    "    if len(pairs) == 0:\n",
    "        return pairs\n",
    "\n",
    "    # Name the columns according to the datasets, not \"r\" (right) and \"l\" (left)\n",
    "    for suffix in [\"r\", \"l\"]:\n",
    "        # NOTE: In practice, splink always has \"r\" correspond to one dataset and \"l\" correspond to the other.\n",
    "        # It is unclear to me if this is a documented guarantee, so I double check.\n",
    "        # NOTE: Do not use drop_duplicates here, since the groups should be enormous (the entire dataframe)\n",
    "        assert df_ops.compute(pairs[f'source_dataset_{suffix}'].nunique()) == 1\n",
    "        source_dataset_name = df_ops.head(pairs, n=1)[f'source_dataset_{suffix}'].iloc[0]\n",
    "        pairs = pairs.rename(columns={c: re.sub(f'_{suffix}$', f'_{source_dataset_name}', c) for c in pairs.columns if c.endswith(f'_{suffix}')})\n",
    "\n",
    "    return pairs"
   ]
  },
  {
   "cell_type": "code",
   "execution_count": 68,
   "id": "c8b7236a-ef52-4151-acab-ba1f0a186042",
   "metadata": {
    "execution": {
     "iopub.execute_input": "2024-02-12T19:33:24.451936Z",
     "iopub.status.busy": "2024-02-12T19:33:24.451484Z",
     "iopub.status.idle": "2024-02-12T19:33:24.460259Z",
     "shell.execute_reply": "2024-02-12T19:33:24.459441Z"
    },
    "papermill": {
     "duration": 0.040554,
     "end_time": "2024-02-12T19:33:24.461357",
     "exception": false,
     "start_time": "2024-02-12T19:33:24.420803",
     "status": "completed"
    },
    "tags": []
   },
   "outputs": [],
   "source": [
    "person_linkage_cascade = PersonLinkageCascade()"
   ]
  },
  {
   "cell_type": "markdown",
   "id": "96dc1b23-3bbf-4571-a89d-9bf8db4c0dbe",
   "metadata": {
    "papermill": {
     "duration": 0.030567,
     "end_time": "2024-02-12T19:33:24.525529",
     "exception": false,
     "start_time": "2024-02-12T19:33:24.494962",
     "status": "completed"
    },
    "tags": []
   },
   "source": [
    "# Verification Module\n",
    "\n",
    "Wagner and Layne, p.14:\n",
    "\n",
    "> If the input file has a SSN data field, it first goes through the verification process.\n",
    "\n",
    "This module of PVS only runs on input records with an SSN.\n",
    "No records in the CUF have an SSN (SSN is not collected on the decennial)\n",
    "so this module is skipped."
   ]
  },
  {
   "cell_type": "markdown",
   "id": "b0203571-b01f-477b-879d-c1c7587020d7",
   "metadata": {
    "papermill": {
     "duration": 0.0338,
     "end_time": "2024-02-12T19:33:24.589667",
     "exception": false,
     "start_time": "2024-02-12T19:33:24.555867",
     "status": "completed"
    },
    "tags": []
   },
   "source": [
    "# GeoSearch\n",
    "\n",
    "Brown et al. p. 29:\n",
    "\n",
    "> the GeoSearch module blocks records at\n",
    "different levels of geography, starting with the housing unit level, then broadening geography\n",
    "up to the three-digit ZIP Code level. The typical matching variables are name, DOB, sex, and\n",
    "various address fields.\n",
    "\n",
    "Wagner and Layne p. 14:\n",
    "\n",
    "> The typical GeoSearch blocking strategy starts with blocking records at the\n",
    "household level, then broadens the geography for each successive pass and ends at\n",
    "blocking by the first three digits of the zip code. The typical match variables are first,\n",
    "middle, and last names; generational suffix; date of birth; gender and various address\n",
    "fields.\n",
    "> \n",
    "> The data for the GeoSearch module are split into 1,000 cuts based on the first three\n",
    "digits of the zip code (zip3) for record. The GeoSearch program works on one zip3 cut\n",
    "at a time, with shell scripts submitting multiple streams of cuts to the system. This\n",
    "allows for parallel processing and restart capability.\n",
    "\n",
    "Layne, Wagner, and Rothhaas list an exact series of passes with blocking and matching variables\n",
    "for each (Appendix A on p. 25).\n",
    "This was the series of passes they used in running PVS on the Medicare Enrollment\n",
    "Database, the Indian Health Service Patient Registration File, and on two commercial\n",
    "data sources.\n",
    "All of these data sources are rather different than a CUF, and this paper is from 2014,\n",
    "but it is the only place I know of where an entire set of passes is described,\n",
    "so I have used the exact same passes here."
   ]
  },
  {
   "cell_type": "code",
   "execution_count": 69,
   "id": "2560948a-c9ca-4b96-9fa9-4c4b942689e7",
   "metadata": {
    "execution": {
     "iopub.execute_input": "2024-02-12T19:33:24.652183Z",
     "iopub.status.busy": "2024-02-12T19:33:24.652010Z",
     "iopub.status.idle": "2024-02-12T19:33:25.270201Z",
     "shell.execute_reply": "2024-02-12T19:33:25.268295Z"
    },
    "papermill": {
     "duration": 0.652643,
     "end_time": "2024-02-12T19:33:25.273053",
     "exception": false,
     "start_time": "2024-02-12T19:33:24.620410",
     "status": "completed"
    },
    "tags": []
   },
   "outputs": [],
   "source": [
    "person_linkage_cascade.start_module(\n",
    "    name=\"geosearch\",\n",
    "    reference_file=geobase_reference_file,\n",
    "    reference_file_name=\"geobase_reference_file\",\n",
    "    cut_columns=[\"zip3\"],\n",
    "    matching_columns=[\n",
    "        \"first_name_15\",\n",
    "        \"last_name_12\",\n",
    "        \"middle_initial\",\n",
    "        \"day_of_birth\",\n",
    "        \"month_of_birth\",\n",
    "        \"year_of_birth\",\n",
    "        \"geokey\",\n",
    "    ],\n",
    ")"
   ]
  },
  {
   "cell_type": "markdown",
   "id": "0398ac85-1ff3-4103-979c-ff00936ced02",
   "metadata": {
    "papermill": {
     "duration": 0.058326,
     "end_time": "2024-02-12T19:33:25.365684",
     "exception": false,
     "start_time": "2024-02-12T19:33:25.307358",
     "status": "completed"
    },
    "tags": []
   },
   "source": [
    "## Pass 1: Block on geokey (entire address)"
   ]
  },
  {
   "cell_type": "code",
   "execution_count": 70,
   "id": "c13afeba-9198-4546-9092-6ee563cc51e7",
   "metadata": {
    "execution": {
     "iopub.execute_input": "2024-02-12T19:33:25.428842Z",
     "iopub.status.busy": "2024-02-12T19:33:25.428463Z",
     "iopub.status.idle": "2024-02-12T19:33:45.181941Z",
     "shell.execute_reply": "2024-02-12T19:33:45.180464Z"
    },
    "papermill": {
     "duration": 19.786412,
     "end_time": "2024-02-12T19:33:45.184129",
     "exception": false,
     "start_time": "2024-02-12T19:33:25.397717",
     "status": "completed"
    },
    "tags": []
   },
   "outputs": [
    {
     "name": "stdout",
     "output_type": "stream",
     "text": [
      "Running geokey of geosearch\n",
      "Files to link are 32,825 and 11,030 records\n"
     ]
    },
    {
     "name": "stderr",
     "output_type": "stream",
     "text": [
      "24/02/12 19:33:27 WARN SimpleFunctionRegistry: The function jaro_sim replaced a previously registered function.\n",
      "24/02/12 19:33:27 WARN SimpleFunctionRegistry: The function jaro_winkler replaced a previously registered function.\n",
      "24/02/12 19:33:27 WARN SimpleFunctionRegistry: The function jaccard replaced a previously registered function.\n",
      "24/02/12 19:33:27 WARN SimpleFunctionRegistry: The function cosine_distance replaced a previously registered function.\n",
      "24/02/12 19:33:27 WARN SimpleFunctionRegistry: The function dmetaphone replaced a previously registered function.\n",
      "24/02/12 19:33:27 WARN SimpleFunctionRegistry: The function dmetaphonealt replaced a previously registered function.\n",
      "24/02/12 19:33:27 WARN SimpleFunctionRegistry: The function qgramtokeniser replaced a previously registered function.\n",
      "24/02/12 19:33:27 WARN SimpleFunctionRegistry: The function damerau_levenshtein replaced a previously registered function.\n"
     ]
    },
    {
     "name": "stderr",
     "output_type": "stream",
     "text": [
      "\r",
      "[Stage 217:>                                                        (0 + 1) / 1]\r",
      "\r",
      "                                                                                \r"
     ]
    },
    {
     "name": "stdout",
     "output_type": "stream",
     "text": [
      "Number of pairs that will be compared: 27,834\n"
     ]
    },
    {
     "name": "stderr",
     "output_type": "stream",
     "text": [
      "24/02/12 19:33:29 WARN DataSource: All paths were ignored:\n",
      "  file:/ihme/homes/zmbc/src/vivarium_research_prl/linkage/person_linkage_case_study/output/small_sample/tmpCheckpoints/2018ac72-63d3-463e-bac8-b54c65966a4a/__splink__df_concat_with_tf_8523b46f6\n"
     ]
    },
    {
     "name": "stderr",
     "output_type": "stream",
     "text": [
      "24/02/12 19:33:34 WARN DAGScheduler: Broadcasting large task binary with size 1103.9 KiB\n"
     ]
    },
    {
     "name": "stderr",
     "output_type": "stream",
     "text": [
      "\r",
      "[Stage 226:=============>                                       (25 + 15) / 100]\r",
      "\r",
      "[Stage 226:=====================>                               (40 + 15) / 100]\r"
     ]
    },
    {
     "name": "stderr",
     "output_type": "stream",
     "text": [
      "\r",
      "[Stage 226:==============================>                      (57 + 15) / 100]\r",
      "\r",
      "[Stage 226:======================================>              (73 + 15) / 100]\r"
     ]
    },
    {
     "name": "stderr",
     "output_type": "stream",
     "text": [
      "\r",
      "[Stage 226:==============================================>      (87 + 13) / 100]\r"
     ]
    },
    {
     "name": "stderr",
     "output_type": "stream",
     "text": [
      "\r",
      "                                                                                \r"
     ]
    },
    {
     "name": "stderr",
     "output_type": "stream",
     "text": [
      "24/02/12 19:33:37 WARN DataSource: All paths were ignored:\n",
      "  file:/ihme/homes/zmbc/src/vivarium_research_prl/linkage/person_linkage_case_study/output/small_sample/tmpCheckpoints/2018ac72-63d3-463e-bac8-b54c65966a4a/__splink__df_predict_411197002\n"
     ]
    },
    {
     "name": "stderr",
     "output_type": "stream",
     "text": [
      "\r",
      "[Stage 241:>                                                        (0 + 1) / 1]\r",
      "\r",
      "                                                                                \r"
     ]
    },
    {
     "data": {
      "text/html": [
       "\n",
       "        <iframe\n",
       "            width=\"100%\"\n",
       "            height=\"1200\"\n",
       "            src=\"./splink_temp/geosearch__geokey.html\"\n",
       "            frameborder=\"0\"\n",
       "            allowfullscreen\n",
       "            \n",
       "        ></iframe>\n",
       "        "
      ],
      "text/plain": [
       "<IPython.lib.display.IFrame at 0x7feefb75df30>"
      ]
     },
     "metadata": {},
     "output_type": "display_data"
    },
    {
     "name": "stdout",
     "output_type": "stream",
     "text": [
      "Imbalanced dataframe: too_few=False, too_many=True, too_large=False\n",
      "count        38.000000\n",
      "mean      97778.157895\n",
      "std        1755.760319\n",
      "min       94431.000000\n",
      "25%       96694.750000\n",
      "50%       97730.000000\n",
      "75%       98973.250000\n",
      "max      101493.000000\n",
      "dtype: float64\n",
      "Creating partitions of 100MB\n"
     ]
    },
    {
     "name": "stdout",
     "output_type": "stream",
     "text": [
      "Found 6,878 matches; 38.38% still eligible to match\n"
     ]
    }
   ],
   "source": [
    "person_linkage_cascade.run_matching_pass(\n",
    "    pass_name=\"geokey\",\n",
    "    blocking_columns=[\"geokey_for_blocking\"],\n",
    ")"
   ]
  },
  {
   "cell_type": "markdown",
   "id": "ef782163-425e-4745-a8a4-f352032ee9d4",
   "metadata": {
    "papermill": {
     "duration": 0.046333,
     "end_time": "2024-02-12T19:33:45.296791",
     "exception": false,
     "start_time": "2024-02-12T19:33:45.250458",
     "status": "completed"
    },
    "tags": []
   },
   "source": [
    "## Pass 2: Block on geokey (entire address), switching first and last names"
   ]
  },
  {
   "cell_type": "code",
   "execution_count": 71,
   "id": "83383f23-807c-49bb-88b7-7ef69d9a6031",
   "metadata": {
    "execution": {
     "iopub.execute_input": "2024-02-12T19:33:45.390935Z",
     "iopub.status.busy": "2024-02-12T19:33:45.390514Z",
     "iopub.status.idle": "2024-02-12T19:33:45.397006Z",
     "shell.execute_reply": "2024-02-12T19:33:45.396256Z"
    },
    "papermill": {
     "duration": 0.055484,
     "end_time": "2024-02-12T19:33:45.398917",
     "exception": false,
     "start_time": "2024-02-12T19:33:45.343433",
     "status": "completed"
    },
    "tags": []
   },
   "outputs": [],
   "source": [
    "def switch_first_and_last_names(df):\n",
    "    return (\n",
    "        df.rename(columns={\"first_name\": \"last_name\", \"last_name\": \"first_name\"})\n",
    "            # Re-calculate the truncated versions of first and last.\n",
    "            # NOTE: It is not necessary to re-calculate the phonetic versions, because\n",
    "            # those are never used in any pass that has a name switch.\n",
    "            .pipe(add_truncated_name_cols)\n",
    "    )"
   ]
  },
  {
   "cell_type": "code",
   "execution_count": 72,
   "id": "f1a30656-2fad-43f2-8712-6e52fb8c94ef",
   "metadata": {
    "execution": {
     "iopub.execute_input": "2024-02-12T19:33:45.493491Z",
     "iopub.status.busy": "2024-02-12T19:33:45.493040Z",
     "iopub.status.idle": "2024-02-12T19:33:58.116504Z",
     "shell.execute_reply": "2024-02-12T19:33:58.115493Z"
    },
    "papermill": {
     "duration": 12.673527,
     "end_time": "2024-02-12T19:33:58.118466",
     "exception": false,
     "start_time": "2024-02-12T19:33:45.444939",
     "status": "completed"
    },
    "tags": []
   },
   "outputs": [
    {
     "name": "stdout",
     "output_type": "stream",
     "text": [
      "Running geokey name switch of geosearch\n",
      "Files to link are 32,825 and 4,233 records\n"
     ]
    },
    {
     "name": "stderr",
     "output_type": "stream",
     "text": [
      "24/02/12 19:33:47 WARN SimpleFunctionRegistry: The function jaro_sim replaced a previously registered function.\n",
      "24/02/12 19:33:47 WARN SimpleFunctionRegistry: The function jaro_winkler replaced a previously registered function.\n",
      "24/02/12 19:33:47 WARN SimpleFunctionRegistry: The function jaccard replaced a previously registered function.\n",
      "24/02/12 19:33:47 WARN SimpleFunctionRegistry: The function cosine_distance replaced a previously registered function.\n",
      "24/02/12 19:33:47 WARN SimpleFunctionRegistry: The function dmetaphone replaced a previously registered function.\n",
      "24/02/12 19:33:47 WARN SimpleFunctionRegistry: The function dmetaphonealt replaced a previously registered function.\n",
      "24/02/12 19:33:47 WARN SimpleFunctionRegistry: The function qgramtokeniser replaced a previously registered function.\n",
      "24/02/12 19:33:47 WARN SimpleFunctionRegistry: The function damerau_levenshtein replaced a previously registered function.\n"
     ]
    },
    {
     "name": "stdout",
     "output_type": "stream",
     "text": [
      "Number of pairs that will be compared: 5,923\n"
     ]
    },
    {
     "name": "stderr",
     "output_type": "stream",
     "text": [
      "24/02/12 19:33:50 WARN DataSource: All paths were ignored:\n",
      "  file:/ihme/homes/zmbc/src/vivarium_research_prl/linkage/person_linkage_case_study/output/small_sample/tmpCheckpoints/2018ac72-63d3-463e-bac8-b54c65966a4a/__splink__df_concat_with_tf_8523b46f6\n"
     ]
    },
    {
     "name": "stderr",
     "output_type": "stream",
     "text": [
      "24/02/12 19:33:54 WARN DAGScheduler: Broadcasting large task binary with size 1103.9 KiB\n"
     ]
    },
    {
     "name": "stderr",
     "output_type": "stream",
     "text": [
      "\r",
      "[Stage 258:=================================>                   (64 + 16) / 100]\r",
      "\r",
      "[Stage 258:==================================================>   (93 + 7) / 100]\r"
     ]
    },
    {
     "name": "stderr",
     "output_type": "stream",
     "text": [
      "\r",
      "                                                                                \r"
     ]
    },
    {
     "name": "stderr",
     "output_type": "stream",
     "text": [
      "24/02/12 19:33:55 WARN DataSource: All paths were ignored:\n",
      "  file:/ihme/homes/zmbc/src/vivarium_research_prl/linkage/person_linkage_case_study/output/small_sample/tmpCheckpoints/2018ac72-63d3-463e-bac8-b54c65966a4a/__splink__df_predict_411197002\n"
     ]
    },
    {
     "data": {
      "text/html": [
       "\n",
       "        <iframe\n",
       "            width=\"100%\"\n",
       "            height=\"1200\"\n",
       "            src=\"./splink_temp/geosearch__geokey_name_switch.html\"\n",
       "            frameborder=\"0\"\n",
       "            allowfullscreen\n",
       "            \n",
       "        ></iframe>\n",
       "        "
      ],
      "text/plain": [
       "<IPython.lib.display.IFrame at 0x7fed436a76d0>"
      ]
     },
     "metadata": {},
     "output_type": "display_data"
    },
    {
     "name": "stdout",
     "output_type": "stream",
     "text": [
      "Found 0 matches; 38.38% still eligible to match\n"
     ]
    }
   ],
   "source": [
    "# We don't actually have any swapping of first and last names in pseudopeople\n",
    "person_linkage_cascade.run_matching_pass(\n",
    "    pass_name=\"geokey name switch\",\n",
    "    blocking_columns=[\"geokey_for_blocking\"],\n",
    "    input_data_transformation=switch_first_and_last_names,\n",
    ")"
   ]
  },
  {
   "cell_type": "markdown",
   "id": "7f1abcb7-8577-428a-a531-5fac5f3ea6dc",
   "metadata": {
    "papermill": {
     "duration": 0.031078,
     "end_time": "2024-02-12T19:33:58.184067",
     "exception": false,
     "start_time": "2024-02-12T19:33:58.152989",
     "status": "completed"
    },
    "tags": []
   },
   "source": [
    "## Pass 3: Block on house number and street name Soundex"
   ]
  },
  {
   "cell_type": "code",
   "execution_count": 73,
   "id": "e7c841a9-09af-4708-a094-2ddc19526648",
   "metadata": {
    "execution": {
     "iopub.execute_input": "2024-02-12T19:33:58.251121Z",
     "iopub.status.busy": "2024-02-12T19:33:58.250726Z",
     "iopub.status.idle": "2024-02-12T19:34:14.606941Z",
     "shell.execute_reply": "2024-02-12T19:34:14.605763Z"
    },
    "papermill": {
     "duration": 16.393177,
     "end_time": "2024-02-12T19:34:14.609302",
     "exception": false,
     "start_time": "2024-02-12T19:33:58.216125",
     "status": "completed"
    },
    "tags": []
   },
   "outputs": [
    {
     "name": "stdout",
     "output_type": "stream",
     "text": [
      "Running house number and street name Soundex of geosearch\n",
      "Files to link are 32,825 and 4,233 records\n"
     ]
    },
    {
     "name": "stderr",
     "output_type": "stream",
     "text": [
      "24/02/12 19:33:59 WARN SimpleFunctionRegistry: The function jaro_sim replaced a previously registered function.\n",
      "24/02/12 19:33:59 WARN SimpleFunctionRegistry: The function jaro_winkler replaced a previously registered function.\n",
      "24/02/12 19:33:59 WARN SimpleFunctionRegistry: The function jaccard replaced a previously registered function.\n",
      "24/02/12 19:33:59 WARN SimpleFunctionRegistry: The function cosine_distance replaced a previously registered function.\n",
      "24/02/12 19:33:59 WARN SimpleFunctionRegistry: The function dmetaphone replaced a previously registered function.\n",
      "24/02/12 19:33:59 WARN SimpleFunctionRegistry: The function dmetaphonealt replaced a previously registered function.\n",
      "24/02/12 19:33:59 WARN SimpleFunctionRegistry: The function qgramtokeniser replaced a previously registered function.\n",
      "24/02/12 19:33:59 WARN SimpleFunctionRegistry: The function damerau_levenshtein replaced a previously registered function.\n"
     ]
    },
    {
     "name": "stdout",
     "output_type": "stream",
     "text": [
      "Number of pairs that will be compared: 15,957\n"
     ]
    },
    {
     "name": "stderr",
     "output_type": "stream",
     "text": [
      "24/02/12 19:34:01 WARN DataSource: All paths were ignored:\n",
      "  file:/ihme/homes/zmbc/src/vivarium_research_prl/linkage/person_linkage_case_study/output/small_sample/tmpCheckpoints/2018ac72-63d3-463e-bac8-b54c65966a4a/__splink__df_concat_with_tf_b1b0eb2e0\n"
     ]
    },
    {
     "name": "stderr",
     "output_type": "stream",
     "text": [
      "24/02/12 19:34:05 WARN DAGScheduler: Broadcasting large task binary with size 1115.5 KiB\n"
     ]
    },
    {
     "name": "stderr",
     "output_type": "stream",
     "text": [
      "\r",
      "[Stage 291:======================>                              (42 + 15) / 100]\r",
      "\r",
      "[Stage 291:===============================>                     (60 + 15) / 100]\r"
     ]
    },
    {
     "name": "stderr",
     "output_type": "stream",
     "text": [
      "\r",
      "[Stage 291:=======================================>             (74 + 15) / 100]\r",
      "\r",
      "[Stage 291:=================================================>    (92 + 8) / 100]\r"
     ]
    },
    {
     "name": "stderr",
     "output_type": "stream",
     "text": [
      "\r",
      "                                                                                \r"
     ]
    },
    {
     "name": "stderr",
     "output_type": "stream",
     "text": [
      "24/02/12 19:34:08 WARN DataSource: All paths were ignored:\n",
      "  file:/ihme/homes/zmbc/src/vivarium_research_prl/linkage/person_linkage_case_study/output/small_sample/tmpCheckpoints/2018ac72-63d3-463e-bac8-b54c65966a4a/__splink__df_predict_b42fe9e98\n"
     ]
    },
    {
     "data": {
      "text/html": [
       "\n",
       "        <iframe\n",
       "            width=\"100%\"\n",
       "            height=\"1200\"\n",
       "            src=\"./splink_temp/geosearch__house_number_and_street_name_Soundex.html\"\n",
       "            frameborder=\"0\"\n",
       "            allowfullscreen\n",
       "            \n",
       "        ></iframe>\n",
       "        "
      ],
      "text/plain": [
       "<IPython.lib.display.IFrame at 0x7fee9a60b3d0>"
      ]
     },
     "metadata": {},
     "output_type": "display_data"
    },
    {
     "name": "stdout",
     "output_type": "stream",
     "text": [
      "Imbalanced dataframe: too_few=False, too_many=True, too_large=False\n",
      "count       38.000000\n",
      "mean     10439.605263\n",
      "std       1432.583068\n",
      "min       7204.000000\n",
      "25%       9638.250000\n",
      "50%      10577.500000\n",
      "75%      11635.750000\n",
      "max      13130.000000\n",
      "dtype: float64\n",
      "Creating partitions of 100MB\n"
     ]
    },
    {
     "name": "stdout",
     "output_type": "stream",
     "text": [
      "Found 781 matches; 32.91% still eligible to match\n"
     ]
    }
   ],
   "source": [
    "person_linkage_cascade.run_matching_pass(\n",
    "    pass_name=\"house number and street name Soundex\",\n",
    "    blocking_columns=[\"street_number_for_blocking\", \"street_name_for_blocking_soundex\"],\n",
    ")"
   ]
  },
  {
   "cell_type": "markdown",
   "id": "f5b68b0c-f33b-42bb-a80f-22afae888216",
   "metadata": {
    "papermill": {
     "duration": 0.048847,
     "end_time": "2024-02-12T19:34:14.712023",
     "exception": false,
     "start_time": "2024-02-12T19:34:14.663176",
     "status": "completed"
    },
    "tags": []
   },
   "source": [
    "## Pass 4: Block on house number and street name Soundex, switching first and last names"
   ]
  },
  {
   "cell_type": "code",
   "execution_count": 74,
   "id": "d7665776-b592-4762-b4ca-f399ce9a95ec",
   "metadata": {
    "execution": {
     "iopub.execute_input": "2024-02-12T19:34:14.830576Z",
     "iopub.status.busy": "2024-02-12T19:34:14.830148Z",
     "iopub.status.idle": "2024-02-12T19:34:27.130141Z",
     "shell.execute_reply": "2024-02-12T19:34:27.129317Z"
    },
    "papermill": {
     "duration": 12.369012,
     "end_time": "2024-02-12T19:34:27.132337",
     "exception": false,
     "start_time": "2024-02-12T19:34:14.763325",
     "status": "completed"
    },
    "tags": []
   },
   "outputs": [
    {
     "name": "stdout",
     "output_type": "stream",
     "text": [
      "Running house number and street name Soundex name switch of geosearch\n",
      "Files to link are 32,825 and 3,630 records\n"
     ]
    },
    {
     "name": "stderr",
     "output_type": "stream",
     "text": [
      "24/02/12 19:34:16 WARN SimpleFunctionRegistry: The function jaro_sim replaced a previously registered function.\n",
      "24/02/12 19:34:16 WARN SimpleFunctionRegistry: The function jaro_winkler replaced a previously registered function.\n",
      "24/02/12 19:34:16 WARN SimpleFunctionRegistry: The function jaccard replaced a previously registered function.\n",
      "24/02/12 19:34:16 WARN SimpleFunctionRegistry: The function cosine_distance replaced a previously registered function.\n",
      "24/02/12 19:34:16 WARN SimpleFunctionRegistry: The function dmetaphone replaced a previously registered function.\n",
      "24/02/12 19:34:16 WARN SimpleFunctionRegistry: The function dmetaphonealt replaced a previously registered function.\n",
      "24/02/12 19:34:16 WARN SimpleFunctionRegistry: The function qgramtokeniser replaced a previously registered function.\n",
      "24/02/12 19:34:16 WARN SimpleFunctionRegistry: The function damerau_levenshtein replaced a previously registered function.\n"
     ]
    },
    {
     "name": "stdout",
     "output_type": "stream",
     "text": [
      "Number of pairs that will be compared: 11,693\n"
     ]
    },
    {
     "name": "stderr",
     "output_type": "stream",
     "text": [
      "24/02/12 19:34:18 WARN DataSource: All paths were ignored:\n",
      "  file:/ihme/homes/zmbc/src/vivarium_research_prl/linkage/person_linkage_case_study/output/small_sample/tmpCheckpoints/2018ac72-63d3-463e-bac8-b54c65966a4a/__splink__df_concat_with_tf_b1b0eb2e0\n"
     ]
    },
    {
     "name": "stderr",
     "output_type": "stream",
     "text": [
      "24/02/12 19:34:23 WARN DAGScheduler: Broadcasting large task binary with size 1115.5 KiB\n"
     ]
    },
    {
     "name": "stderr",
     "output_type": "stream",
     "text": [
      "\r",
      "[Stage 323:==========================================>          (81 + 15) / 100]\r",
      "\r",
      "[Stage 323:=====================================================>(99 + 1) / 100]\r"
     ]
    },
    {
     "name": "stderr",
     "output_type": "stream",
     "text": [
      "\r",
      "                                                                                \r"
     ]
    },
    {
     "name": "stderr",
     "output_type": "stream",
     "text": [
      "24/02/12 19:34:24 WARN DataSource: All paths were ignored:\n",
      "  file:/ihme/homes/zmbc/src/vivarium_research_prl/linkage/person_linkage_case_study/output/small_sample/tmpCheckpoints/2018ac72-63d3-463e-bac8-b54c65966a4a/__splink__df_predict_b42fe9e98\n"
     ]
    },
    {
     "data": {
      "text/html": [
       "\n",
       "        <iframe\n",
       "            width=\"100%\"\n",
       "            height=\"1200\"\n",
       "            src=\"./splink_temp/geosearch__house_number_and_street_name_Soundex_name_switch.html\"\n",
       "            frameborder=\"0\"\n",
       "            allowfullscreen\n",
       "            \n",
       "        ></iframe>\n",
       "        "
      ],
      "text/plain": [
       "<IPython.lib.display.IFrame at 0x7fed42bfa620>"
      ]
     },
     "metadata": {},
     "output_type": "display_data"
    },
    {
     "name": "stdout",
     "output_type": "stream",
     "text": [
      "Found 0 matches; 32.91% still eligible to match\n"
     ]
    }
   ],
   "source": [
    "person_linkage_cascade.run_matching_pass(\n",
    "    pass_name=\"house number and street name Soundex name switch\",\n",
    "    blocking_columns=[\"street_number_for_blocking\", \"street_name_for_blocking_soundex\"],\n",
    "    input_data_transformation=switch_first_and_last_names,\n",
    ")"
   ]
  },
  {
   "cell_type": "markdown",
   "id": "c4753574-d776-4b83-9ca8-762a2d665ddc",
   "metadata": {
    "papermill": {
     "duration": 0.052109,
     "end_time": "2024-02-12T19:34:27.237850",
     "exception": false,
     "start_time": "2024-02-12T19:34:27.185741",
     "status": "completed"
    },
    "tags": []
   },
   "source": [
    "## Pass 5: Block on some name and DOB information"
   ]
  },
  {
   "cell_type": "code",
   "execution_count": 75,
   "id": "1924438b-d5ec-4bc7-a083-46d0165c9682",
   "metadata": {
    "execution": {
     "iopub.execute_input": "2024-02-12T19:34:27.339037Z",
     "iopub.status.busy": "2024-02-12T19:34:27.338043Z",
     "iopub.status.idle": "2024-02-12T19:34:46.573140Z",
     "shell.execute_reply": "2024-02-12T19:34:46.572268Z"
    },
    "papermill": {
     "duration": 19.288471,
     "end_time": "2024-02-12T19:34:46.575525",
     "exception": false,
     "start_time": "2024-02-12T19:34:27.287054",
     "status": "completed"
    },
    "tags": []
   },
   "outputs": [
    {
     "name": "stdout",
     "output_type": "stream",
     "text": [
      "Running some name and DOB information of geosearch\n",
      "Files to link are 32,825 and 3,630 records\n"
     ]
    },
    {
     "name": "stderr",
     "output_type": "stream",
     "text": [
      "24/02/12 19:34:29 WARN SimpleFunctionRegistry: The function jaro_sim replaced a previously registered function.\n",
      "24/02/12 19:34:29 WARN SimpleFunctionRegistry: The function jaro_winkler replaced a previously registered function.\n",
      "24/02/12 19:34:29 WARN SimpleFunctionRegistry: The function jaccard replaced a previously registered function.\n",
      "24/02/12 19:34:29 WARN SimpleFunctionRegistry: The function cosine_distance replaced a previously registered function.\n",
      "24/02/12 19:34:29 WARN SimpleFunctionRegistry: The function dmetaphone replaced a previously registered function.\n",
      "24/02/12 19:34:29 WARN SimpleFunctionRegistry: The function dmetaphonealt replaced a previously registered function.\n",
      "24/02/12 19:34:29 WARN SimpleFunctionRegistry: The function qgramtokeniser replaced a previously registered function.\n",
      "24/02/12 19:34:29 WARN SimpleFunctionRegistry: The function damerau_levenshtein replaced a previously registered function.\n"
     ]
    },
    {
     "name": "stdout",
     "output_type": "stream",
     "text": [
      "Number of pairs that will be compared: 3,938\n"
     ]
    },
    {
     "name": "stderr",
     "output_type": "stream",
     "text": [
      "24/02/12 19:34:31 WARN DataSource: All paths were ignored:\n",
      "  file:/ihme/homes/zmbc/src/vivarium_research_prl/linkage/person_linkage_case_study/output/small_sample/tmpCheckpoints/2018ac72-63d3-463e-bac8-b54c65966a4a/__splink__df_concat_with_tf_9d69623f7\n"
     ]
    },
    {
     "name": "stderr",
     "output_type": "stream",
     "text": [
      "24/02/12 19:34:36 WARN DAGScheduler: Broadcasting large task binary with size 1114.9 KiB\n"
     ]
    },
    {
     "name": "stderr",
     "output_type": "stream",
     "text": [
      "\r",
      "[Stage 356:===================>                                 (36 + 15) / 100]\r",
      "\r",
      "[Stage 356:============================>                        (53 + 15) / 100]\r"
     ]
    },
    {
     "name": "stderr",
     "output_type": "stream",
     "text": [
      "\r",
      "[Stage 356:======================================>              (72 + 15) / 100]\r",
      "\r",
      "[Stage 356:=================================================>    (91 + 9) / 100]\r"
     ]
    },
    {
     "name": "stderr",
     "output_type": "stream",
     "text": [
      "\r",
      "                                                                                \r"
     ]
    },
    {
     "name": "stderr",
     "output_type": "stream",
     "text": [
      "24/02/12 19:34:39 WARN DataSource: All paths were ignored:\n",
      "  file:/ihme/homes/zmbc/src/vivarium_research_prl/linkage/person_linkage_case_study/output/small_sample/tmpCheckpoints/2018ac72-63d3-463e-bac8-b54c65966a4a/__splink__df_predict_058265135\n"
     ]
    },
    {
     "data": {
      "text/html": [
       "\n",
       "        <iframe\n",
       "            width=\"100%\"\n",
       "            height=\"1200\"\n",
       "            src=\"./splink_temp/geosearch__some_name_and_DOB_information.html\"\n",
       "            frameborder=\"0\"\n",
       "            allowfullscreen\n",
       "            \n",
       "        ></iframe>\n",
       "        "
      ],
      "text/plain": [
       "<IPython.lib.display.IFrame at 0x7fee9aba71c0>"
      ]
     },
     "metadata": {},
     "output_type": "display_data"
    },
    {
     "name": "stdout",
     "output_type": "stream",
     "text": [
      "Imbalanced dataframe: too_few=False, too_many=True, too_large=False\n",
      "count       38.000000\n",
      "mean     47609.815789\n",
      "std       1677.581977\n",
      "min      43927.000000\n",
      "25%      46707.750000\n",
      "50%      47416.500000\n",
      "75%      48894.000000\n",
      "max      50670.000000\n",
      "dtype: float64\n",
      "Creating partitions of 100MB\n"
     ]
    },
    {
     "name": "stdout",
     "output_type": "stream",
     "text": [
      "Found 3,656 matches; 14.95% still eligible to match\n"
     ]
    }
   ],
   "source": [
    "person_linkage_cascade.run_matching_pass(\n",
    "    pass_name=\"some name and DOB information\",\n",
    "    blocking_columns=[\"first_name_2\", \"last_name_2\", \"year_of_birth\"],\n",
    ")"
   ]
  },
  {
   "cell_type": "markdown",
   "id": "3f507b1e-61e6-448f-bc2e-afccc3020356",
   "metadata": {
    "papermill": {
     "duration": 0.049516,
     "end_time": "2024-02-12T19:34:46.679507",
     "exception": false,
     "start_time": "2024-02-12T19:34:46.629991",
     "status": "completed"
    },
    "tags": []
   },
   "source": [
    "## Post-process and confirm PIKs"
   ]
  },
  {
   "cell_type": "code",
   "execution_count": 76,
   "id": "30899aeb-e35f-4246-979c-af9f8235c3ab",
   "metadata": {
    "execution": {
     "iopub.execute_input": "2024-02-12T19:34:46.788126Z",
     "iopub.status.busy": "2024-02-12T19:34:46.787434Z",
     "iopub.status.idle": "2024-02-12T19:35:03.501421Z",
     "shell.execute_reply": "2024-02-12T19:35:03.500438Z"
    },
    "papermill": {
     "duration": 16.769275,
     "end_time": "2024-02-12T19:35:03.505456",
     "exception": false,
     "start_time": "2024-02-12T19:34:46.736181",
     "status": "completed"
    },
    "tags": []
   },
   "outputs": [
    {
     "name": "stdout",
     "output_type": "stream",
     "text": [
      "121 input records linked to deceased people, dropping links\n"
     ]
    },
    {
     "name": "stdout",
     "output_type": "stream",
     "text": [
      "3 input records linked to multiple PIKs, dropping links\n"
     ]
    }
   ],
   "source": [
    "person_linkage_cascade.confirm_piks()"
   ]
  },
  {
   "cell_type": "code",
   "execution_count": 77,
   "id": "0eea4fa2-588b-4555-a78e-8747da8db6fb",
   "metadata": {
    "execution": {
     "iopub.execute_input": "2024-02-12T19:35:03.612529Z",
     "iopub.status.busy": "2024-02-12T19:35:03.611891Z",
     "iopub.status.idle": "2024-02-12T19:35:03.730413Z",
     "shell.execute_reply": "2024-02-12T19:35:03.729640Z"
    },
    "papermill": {
     "duration": 0.172658,
     "end_time": "2024-02-12T19:35:03.732366",
     "exception": false,
     "start_time": "2024-02-12T19:35:03.559708",
     "status": "completed"
    },
    "tags": []
   },
   "outputs": [
    {
     "data": {
      "text/plain": [
       "module_name  pass_name                           \n",
       "geosearch    geokey                                  6734\n",
       "             some name and DOB information           1958\n",
       "             house number and street name Soundex     595\n",
       "dtype: int64"
      ]
     },
     "execution_count": 77,
     "metadata": {},
     "output_type": "execute_result"
    }
   ],
   "source": [
    "df_ops.compute(person_linkage_cascade.confirmed_piks.groupby([\"module_name\", \"pass_name\"]).size()).sort_values(ascending=False)"
   ]
  },
  {
   "cell_type": "markdown",
   "id": "d64ae657-5248-4a78-b836-3a04e8732140",
   "metadata": {
    "papermill": {
     "duration": 0.049756,
     "end_time": "2024-02-12T19:35:03.831969",
     "exception": false,
     "start_time": "2024-02-12T19:35:03.782213",
     "status": "completed"
    },
    "tags": []
   },
   "source": [
    "# ZIP3 Adjacency Search\n",
    "\n",
    "Layne, Wagner, and Rothhaas (p. 6) refers to ZIP3 adjacency as a module and even provides\n",
    "a list of two passes within it in Appendix A.\n",
    "\n",
    "Alexander et al. (p. 6) refers to it the same way, as a module.\n",
    "\n",
    "However, Wagner and Layne (p. 14) says:\n",
    "\n",
    "> The GeoSearch module also incorporates the adjacency of neighboring areas with\n",
    "different zip3 values\n",
    "\n",
    "which implies this logic is a pass or passes *within* GeoSearch (and due to how cascading works,\n",
    "this is not just an academic distinction).\n",
    "\n",
    "There is no mention at all of ZIP3 adjacency in the Brown et al. paper from 2023.\n",
    "\n",
    "**TODO**: Determine whether this still exists, how it works if so, and implement it.\n",
    "Doesn't really make sense with the sample data since there is only one ZIP."
   ]
  },
  {
   "cell_type": "markdown",
   "id": "ca19c7f2-e129-4c96-b22e-a2983c40a15c",
   "metadata": {
    "papermill": {
     "duration": 0.05077,
     "end_time": "2024-02-12T19:35:03.933586",
     "exception": false,
     "start_time": "2024-02-12T19:35:03.882816",
     "status": "completed"
    },
    "tags": []
   },
   "source": [
    "# Movers\n",
    "\n",
    "The Movers module is not mentioned in Brown et al, nor in Wagner and Layne.\n",
    "\n",
    "In Layne, Wagner, and Rothhaas (p. 7), published in 2014, it is described as \"Prototyped only – not implemented in PVS\":\n",
    "\n",
    "> The Movers module is appropriate for input files that combine individuals together into\n",
    "> households.\n",
    "> The module seeks multiple members of an input household in one address that\n",
    "> may have moved together to another address.\n",
    "> To be eligible for this module the household size must be greater than one.\n",
    "> This module is being tested and was not used in the analysis for this paper.\n",
    "\n",
    "Alexander et al. (p. 6) a year later makes no note of it being experimental:\n",
    "\n",
    "> To be eligible for the Movers Module, no member of the household can have a\n",
    "> PIK and the household must consist of more than one member.\n",
    "> This module considers persons living at the same address as a unit and\n",
    "> searches for matching units living together in the reference file (without regard for address).\n",
    "\n",
    "Essentially the same text is included in Massey et al., published in 2018.\n",
    "\n",
    "Though it doesn't provide much information, [this document](https://gunnisonconsulting.com/docs/pdf/Record%20Linkage%20Slicksheet_FINAL.pdf)\n",
    "([archive](https://web.archive.org/web/20230705010237/https://gunnisonconsulting.com/docs/pdf/Record%20Linkage%20Slicksheet_FINAL.pdf))\n",
    "from the Gunnison consulting group states that they worked with Census and\n",
    "\"pioneered the transition from a record-by-record matching approach to an\n",
    "approach that better uses groups of records, such as full households, to make more\n",
    "and better links.\"\n",
    "Specifically, they claim that 16% of previously unlinked records were linked using\n",
    "the household-level approach.\n",
    "\n",
    "**TODO**: Haven't figured out if this is still in use, nor how it works.\n",
    "This module seems of particular interest, because it sounds like it is quite different\n",
    "from other modules."
   ]
  },
  {
   "cell_type": "markdown",
   "id": "b7412843-d6c2-4064-ab38-ab9335b9d71e",
   "metadata": {
    "papermill": {
     "duration": 0.050906,
     "end_time": "2024-02-12T19:35:04.052011",
     "exception": false,
     "start_time": "2024-02-12T19:35:04.001105",
     "status": "completed"
    },
    "tags": []
   },
   "source": [
    "# NameSearch\n",
    "\n",
    "Brown et al., p. 29:\n",
    "\n",
    "> ... the NameSearch module, which uses only name and DOB fields, comparing all combinations of\n",
    "alternate names and dates of birth.\n",
    "\n",
    "Wagner and Layne, p. 15:\n",
    "\n",
    "> The NameSearch module searches the reference files for records failing the\n",
    "Verification and GeoSearch Modules. Only name and date of birth data are used in this\n",
    "search process. NameSearch consists of multiple passes against the Numident Name\n",
    "Reference file, which contains all possible combinations of alternate names and\n",
    "alternate dates of birth for each SSN in the Census Numident file, and includes data for\n",
    "ITINs.\n",
    "> \n",
    "> The typical NameSearch blocking strategy starts with a strict first pass, blocking\n",
    "records by exact date of birth and parts of names. Successive passes block on parts of\n",
    "the name and date of birth fields to allow for some name and date of birth variation.\n",
    "The typical match variables are first, middle and last names, generational suffix, date of\n",
    "birth, and gender.\n",
    "\n",
    "As in GeoSearch, the only full listing I could find of passes with blocking and matching variables\n",
    "was in Layne, Wagner, and Rothhaas.\n",
    "This is probably somewhat out of date and is not what would be used on a CUF, but I have\n",
    "copied it exactly here."
   ]
  },
  {
   "cell_type": "code",
   "execution_count": 78,
   "id": "fdf41a6a-8c72-4c9a-bb8c-410d7877414f",
   "metadata": {
    "execution": {
     "iopub.execute_input": "2024-02-12T19:35:04.153674Z",
     "iopub.status.busy": "2024-02-12T19:35:04.152580Z",
     "iopub.status.idle": "2024-02-12T19:35:05.665852Z",
     "shell.execute_reply": "2024-02-12T19:35:05.664404Z"
    },
    "papermill": {
     "duration": 1.567756,
     "end_time": "2024-02-12T19:35:05.669470",
     "exception": false,
     "start_time": "2024-02-12T19:35:04.101714",
     "status": "completed"
    },
    "tags": []
   },
   "outputs": [],
   "source": [
    "person_linkage_cascade.start_module(\n",
    "    name=\"namesearch\",\n",
    "    reference_file=name_dob_reference_file,\n",
    "    reference_file_name=\"name_dob_reference_file\",\n",
    "    cut_columns=[\"first_initial_cut\", \"last_initial_cut\"],\n",
    "    matching_columns=[\n",
    "        \"first_name_15\",\n",
    "        \"last_name_12\",\n",
    "        \"middle_initial\",\n",
    "        \"day_of_birth\",\n",
    "        \"month_of_birth\",\n",
    "        \"year_of_birth\",\n",
    "    ],\n",
    ")"
   ]
  },
  {
   "cell_type": "markdown",
   "id": "bf43e928-be1c-4f2a-a747-e624c19d40d6",
   "metadata": {
    "papermill": {
     "duration": 0.050188,
     "end_time": "2024-02-12T19:35:05.788995",
     "exception": false,
     "start_time": "2024-02-12T19:35:05.738807",
     "status": "completed"
    },
    "tags": []
   },
   "source": [
    "## Pass 1: Block on DOB and NYSIIS of name"
   ]
  },
  {
   "cell_type": "code",
   "execution_count": 79,
   "id": "01e5baab-1b94-4359-9398-c829ebb2a920",
   "metadata": {
    "execution": {
     "iopub.execute_input": "2024-02-12T19:35:05.890561Z",
     "iopub.status.busy": "2024-02-12T19:35:05.889827Z",
     "iopub.status.idle": "2024-02-12T19:35:24.138814Z",
     "shell.execute_reply": "2024-02-12T19:35:24.137336Z"
    },
    "papermill": {
     "duration": 18.302584,
     "end_time": "2024-02-12T19:35:24.141008",
     "exception": false,
     "start_time": "2024-02-12T19:35:05.838424",
     "status": "completed"
    },
    "tags": []
   },
   "outputs": [
    {
     "name": "stdout",
     "output_type": "stream",
     "text": [
      "Running DOB and NYSIIS of name of namesearch\n",
      "Files to link are 19,875 and 1,740 records\n"
     ]
    },
    {
     "name": "stderr",
     "output_type": "stream",
     "text": [
      "24/02/12 19:35:07 WARN SimpleFunctionRegistry: The function jaro_sim replaced a previously registered function.\n",
      "24/02/12 19:35:07 WARN SimpleFunctionRegistry: The function jaro_winkler replaced a previously registered function.\n",
      "24/02/12 19:35:07 WARN SimpleFunctionRegistry: The function jaccard replaced a previously registered function.\n",
      "24/02/12 19:35:07 WARN SimpleFunctionRegistry: The function cosine_distance replaced a previously registered function.\n",
      "24/02/12 19:35:07 WARN SimpleFunctionRegistry: The function dmetaphone replaced a previously registered function.\n",
      "24/02/12 19:35:07 WARN SimpleFunctionRegistry: The function dmetaphonealt replaced a previously registered function.\n",
      "24/02/12 19:35:07 WARN SimpleFunctionRegistry: The function qgramtokeniser replaced a previously registered function.\n",
      "24/02/12 19:35:07 WARN SimpleFunctionRegistry: The function damerau_levenshtein replaced a previously registered function.\n"
     ]
    },
    {
     "name": "stdout",
     "output_type": "stream",
     "text": [
      "Number of pairs that will be compared: 258\n"
     ]
    },
    {
     "name": "stderr",
     "output_type": "stream",
     "text": [
      "24/02/12 19:35:09 WARN DataSource: All paths were ignored:\n",
      "  file:/ihme/homes/zmbc/src/vivarium_research_prl/linkage/person_linkage_case_study/output/small_sample/tmpCheckpoints/2018ac72-63d3-463e-bac8-b54c65966a4a/__splink__df_concat_with_tf_e8dc3f75e\n"
     ]
    },
    {
     "name": "stderr",
     "output_type": "stream",
     "text": [
      "\r",
      "[Stage 389:=====================>                               (41 + 15) / 100]\r",
      "\r",
      "[Stage 389:==================================>                  (66 + 15) / 100]\r"
     ]
    },
    {
     "name": "stderr",
     "output_type": "stream",
     "text": [
      "\r",
      "[Stage 389:===============================================>     (89 + 11) / 100]\r"
     ]
    },
    {
     "name": "stderr",
     "output_type": "stream",
     "text": [
      "\r",
      "                                                                                \r"
     ]
    },
    {
     "name": "stderr",
     "output_type": "stream",
     "text": [
      "24/02/12 19:35:16 WARN DataSource: All paths were ignored:\n",
      "  file:/ihme/homes/zmbc/src/vivarium_research_prl/linkage/person_linkage_case_study/output/small_sample/tmpCheckpoints/2018ac72-63d3-463e-bac8-b54c65966a4a/__splink__df_predict_655688871\n"
     ]
    },
    {
     "data": {
      "text/html": [
       "\n",
       "        <iframe\n",
       "            width=\"100%\"\n",
       "            height=\"1200\"\n",
       "            src=\"./splink_temp/namesearch__DOB_and_NYSIIS_of_name.html\"\n",
       "            frameborder=\"0\"\n",
       "            allowfullscreen\n",
       "            \n",
       "        ></iframe>\n",
       "        "
      ],
      "text/plain": [
       "<IPython.lib.display.IFrame at 0x7fee9a5ae260>"
      ]
     },
     "metadata": {},
     "output_type": "display_data"
    },
    {
     "name": "stdout",
     "output_type": "stream",
     "text": [
      "Imbalanced dataframe: too_few=False, too_many=True, too_large=False\n",
      "count      38.000000\n",
      "mean     3028.052632\n",
      "std      1012.399049\n",
      "min       980.000000\n",
      "25%      2306.000000\n",
      "50%      2705.500000\n",
      "75%      3534.500000\n",
      "max      6124.000000\n",
      "dtype: float64\n",
      "Creating partitions of 100MB\n"
     ]
    },
    {
     "name": "stdout",
     "output_type": "stream",
     "text": [
      "Found 258 matches; 13.44% still eligible to match\n"
     ]
    }
   ],
   "source": [
    "person_linkage_cascade.run_matching_pass(\n",
    "    pass_name=\"DOB and NYSIIS of name\",\n",
    "    blocking_columns=[\"day_of_birth\", \"month_of_birth\", \"year_of_birth\", \"first_name_nysiis\", \"last_name_nysiis\"],\n",
    ")"
   ]
  },
  {
   "cell_type": "markdown",
   "id": "bedbec09-ed90-4d7d-9fe3-4a934b6d8bce",
   "metadata": {
    "papermill": {
     "duration": 0.053883,
     "end_time": "2024-02-12T19:35:24.253967",
     "exception": false,
     "start_time": "2024-02-12T19:35:24.200084",
     "status": "completed"
    },
    "tags": []
   },
   "source": [
    "## Pass 2: Block on DOB and initials"
   ]
  },
  {
   "cell_type": "code",
   "execution_count": 80,
   "id": "7011e74c-b87e-436c-9c75-5fe23fafdd8e",
   "metadata": {
    "execution": {
     "iopub.execute_input": "2024-02-12T19:35:24.358102Z",
     "iopub.status.busy": "2024-02-12T19:35:24.357637Z",
     "iopub.status.idle": "2024-02-12T19:35:41.727862Z",
     "shell.execute_reply": "2024-02-12T19:35:41.726976Z"
    },
    "papermill": {
     "duration": 17.425306,
     "end_time": "2024-02-12T19:35:41.730026",
     "exception": false,
     "start_time": "2024-02-12T19:35:24.304720",
     "status": "completed"
    },
    "tags": []
   },
   "outputs": [
    {
     "name": "stdout",
     "output_type": "stream",
     "text": [
      "Running DOB and initials of namesearch\n",
      "Files to link are 19,875 and 1,482 records\n"
     ]
    },
    {
     "name": "stderr",
     "output_type": "stream",
     "text": [
      "24/02/12 19:35:26 WARN SimpleFunctionRegistry: The function jaro_sim replaced a previously registered function.\n",
      "24/02/12 19:35:26 WARN SimpleFunctionRegistry: The function jaro_winkler replaced a previously registered function.\n",
      "24/02/12 19:35:26 WARN SimpleFunctionRegistry: The function jaccard replaced a previously registered function.\n",
      "24/02/12 19:35:26 WARN SimpleFunctionRegistry: The function cosine_distance replaced a previously registered function.\n",
      "24/02/12 19:35:26 WARN SimpleFunctionRegistry: The function dmetaphone replaced a previously registered function.\n",
      "24/02/12 19:35:26 WARN SimpleFunctionRegistry: The function dmetaphonealt replaced a previously registered function.\n",
      "24/02/12 19:35:26 WARN SimpleFunctionRegistry: The function qgramtokeniser replaced a previously registered function.\n",
      "24/02/12 19:35:26 WARN SimpleFunctionRegistry: The function damerau_levenshtein replaced a previously registered function.\n"
     ]
    },
    {
     "name": "stdout",
     "output_type": "stream",
     "text": [
      "Number of pairs that will be compared: 168\n"
     ]
    },
    {
     "name": "stderr",
     "output_type": "stream",
     "text": [
      "24/02/12 19:35:27 WARN DataSource: All paths were ignored:\n",
      "  file:/ihme/homes/zmbc/src/vivarium_research_prl/linkage/person_linkage_case_study/output/small_sample/tmpCheckpoints/2018ac72-63d3-463e-bac8-b54c65966a4a/__splink__df_concat_with_tf_5e12144c0\n"
     ]
    },
    {
     "name": "stderr",
     "output_type": "stream",
     "text": [
      "\r",
      "[Stage 421:=======================>                             (44 + 15) / 100]\r",
      "\r",
      "[Stage 421:==================================>                  (66 + 15) / 100]\r"
     ]
    },
    {
     "name": "stderr",
     "output_type": "stream",
     "text": [
      "\r",
      "[Stage 421:=================================================>    (92 + 8) / 100]\r"
     ]
    },
    {
     "name": "stderr",
     "output_type": "stream",
     "text": [
      "\r",
      "                                                                                \r"
     ]
    },
    {
     "name": "stderr",
     "output_type": "stream",
     "text": [
      "24/02/12 19:35:34 WARN DataSource: All paths were ignored:\n",
      "  file:/ihme/homes/zmbc/src/vivarium_research_prl/linkage/person_linkage_case_study/output/small_sample/tmpCheckpoints/2018ac72-63d3-463e-bac8-b54c65966a4a/__splink__df_predict_2b5c544cb\n"
     ]
    },
    {
     "data": {
      "text/html": [
       "\n",
       "        <iframe\n",
       "            width=\"100%\"\n",
       "            height=\"1200\"\n",
       "            src=\"./splink_temp/namesearch__DOB_and_initials.html\"\n",
       "            frameborder=\"0\"\n",
       "            allowfullscreen\n",
       "            \n",
       "        ></iframe>\n",
       "        "
      ],
      "text/plain": [
       "<IPython.lib.display.IFrame at 0x7fed4275f220>"
      ]
     },
     "metadata": {},
     "output_type": "display_data"
    },
    {
     "name": "stdout",
     "output_type": "stream",
     "text": [
      "Imbalanced dataframe: too_few=False, too_many=True, too_large=False\n",
      "count      38.000000\n",
      "mean     1691.526316\n",
      "std       727.390439\n",
      "min       542.000000\n",
      "25%      1065.500000\n",
      "50%      1767.000000\n",
      "75%      2085.000000\n",
      "max      3824.000000\n",
      "dtype: float64\n",
      "Creating partitions of 100MB\n"
     ]
    },
    {
     "name": "stdout",
     "output_type": "stream",
     "text": [
      "Found 144 matches; 12.13% still eligible to match\n"
     ]
    }
   ],
   "source": [
    "person_linkage_cascade.run_matching_pass(\n",
    "    pass_name=\"DOB and initials\",\n",
    "    blocking_columns=[\"day_of_birth\", \"month_of_birth\", \"year_of_birth\", \"first_name_1\", \"last_name_1\"],\n",
    ")"
   ]
  },
  {
   "cell_type": "markdown",
   "id": "1d3e5dad-fbb8-4e7f-9b31-8ef079623b71",
   "metadata": {
    "papermill": {
     "duration": 0.052028,
     "end_time": "2024-02-12T19:35:41.839039",
     "exception": false,
     "start_time": "2024-02-12T19:35:41.787011",
     "status": "completed"
    },
    "tags": []
   },
   "source": [
    "## Pass 3: Block on year of birth and first two characters of name"
   ]
  },
  {
   "cell_type": "code",
   "execution_count": 81,
   "id": "afdc57ab-bf73-4524-a82a-4242a7e37be3",
   "metadata": {
    "execution": {
     "iopub.execute_input": "2024-02-12T19:35:41.945925Z",
     "iopub.status.busy": "2024-02-12T19:35:41.945311Z",
     "iopub.status.idle": "2024-02-12T19:35:57.116396Z",
     "shell.execute_reply": "2024-02-12T19:35:57.114952Z"
    },
    "papermill": {
     "duration": 15.226772,
     "end_time": "2024-02-12T19:35:57.118358",
     "exception": false,
     "start_time": "2024-02-12T19:35:41.891586",
     "status": "completed"
    },
    "tags": []
   },
   "outputs": [
    {
     "name": "stdout",
     "output_type": "stream",
     "text": [
      "Running year of birth and first two characters of name of namesearch\n",
      "Files to link are 19,875 and 1,338 records\n"
     ]
    },
    {
     "name": "stderr",
     "output_type": "stream",
     "text": [
      "24/02/12 19:35:43 WARN SimpleFunctionRegistry: The function jaro_sim replaced a previously registered function.\n",
      "24/02/12 19:35:43 WARN SimpleFunctionRegistry: The function jaro_winkler replaced a previously registered function.\n",
      "24/02/12 19:35:43 WARN SimpleFunctionRegistry: The function jaccard replaced a previously registered function.\n",
      "24/02/12 19:35:43 WARN SimpleFunctionRegistry: The function cosine_distance replaced a previously registered function.\n",
      "24/02/12 19:35:43 WARN SimpleFunctionRegistry: The function dmetaphone replaced a previously registered function.\n",
      "24/02/12 19:35:43 WARN SimpleFunctionRegistry: The function dmetaphonealt replaced a previously registered function.\n",
      "24/02/12 19:35:43 WARN SimpleFunctionRegistry: The function qgramtokeniser replaced a previously registered function.\n",
      "24/02/12 19:35:43 WARN SimpleFunctionRegistry: The function damerau_levenshtein replaced a previously registered function.\n"
     ]
    },
    {
     "name": "stdout",
     "output_type": "stream",
     "text": [
      "Number of pairs that will be compared: 67\n"
     ]
    },
    {
     "name": "stderr",
     "output_type": "stream",
     "text": [
      "24/02/12 19:35:45 WARN DataSource: All paths were ignored:\n",
      "  file:/ihme/homes/zmbc/src/vivarium_research_prl/linkage/person_linkage_case_study/output/small_sample/tmpCheckpoints/2018ac72-63d3-463e-bac8-b54c65966a4a/__splink__df_concat_with_tf_7d67d3b00\n"
     ]
    },
    {
     "name": "stderr",
     "output_type": "stream",
     "text": [
      "\r",
      "[Stage 453:==============================>                      (58 + 15) / 100]\r",
      "\r",
      "[Stage 453:==========================================>          (81 + 15) / 100]\r"
     ]
    },
    {
     "name": "stderr",
     "output_type": "stream",
     "text": [
      "\r",
      "                                                                                \r"
     ]
    },
    {
     "name": "stderr",
     "output_type": "stream",
     "text": [
      "24/02/12 19:35:51 WARN DataSource: All paths were ignored:\n",
      "  file:/ihme/homes/zmbc/src/vivarium_research_prl/linkage/person_linkage_case_study/output/small_sample/tmpCheckpoints/2018ac72-63d3-463e-bac8-b54c65966a4a/__splink__df_predict_e25d883dd\n"
     ]
    },
    {
     "data": {
      "text/html": [
       "\n",
       "        <iframe\n",
       "            width=\"100%\"\n",
       "            height=\"1200\"\n",
       "            src=\"./splink_temp/namesearch__year_of_birth_and_first_two_characters_of_name.html\"\n",
       "            frameborder=\"0\"\n",
       "            allowfullscreen\n",
       "            \n",
       "        ></iframe>\n",
       "        "
      ],
      "text/plain": [
       "<IPython.lib.display.IFrame at 0x7fef00696080>"
      ]
     },
     "metadata": {},
     "output_type": "display_data"
    },
    {
     "name": "stdout",
     "output_type": "stream",
     "text": [
      "Found 6 matches; 12.08% still eligible to match\n"
     ]
    }
   ],
   "source": [
    "person_linkage_cascade.run_matching_pass(\n",
    "    pass_name=\"year of birth and first two characters of name\",\n",
    "    blocking_columns=[\"year_of_birth\", \"first_name_2\", \"last_name_2\"],\n",
    ")"
   ]
  },
  {
   "cell_type": "markdown",
   "id": "980962d2-3da2-4ca1-82b6-6452e6fce0f8",
   "metadata": {
    "papermill": {
     "duration": 0.05487,
     "end_time": "2024-02-12T19:35:57.229165",
     "exception": false,
     "start_time": "2024-02-12T19:35:57.174295",
     "status": "completed"
    },
    "tags": []
   },
   "source": [
    "## Pass 4: Block on birthday and first two characters of name"
   ]
  },
  {
   "cell_type": "code",
   "execution_count": 82,
   "id": "9ea04745-1b41-4e13-8975-bb2e015c3fa2",
   "metadata": {
    "execution": {
     "iopub.execute_input": "2024-02-12T19:35:57.338365Z",
     "iopub.status.busy": "2024-02-12T19:35:57.337916Z",
     "iopub.status.idle": "2024-02-12T19:36:17.459208Z",
     "shell.execute_reply": "2024-02-12T19:36:17.458333Z"
    },
    "papermill": {
     "duration": 20.177925,
     "end_time": "2024-02-12T19:36:17.461651",
     "exception": false,
     "start_time": "2024-02-12T19:35:57.283726",
     "status": "completed"
    },
    "tags": []
   },
   "outputs": [
    {
     "name": "stdout",
     "output_type": "stream",
     "text": [
      "Running birthday and first two characters of name of namesearch\n",
      "Files to link are 19,875 and 1,332 records\n"
     ]
    },
    {
     "name": "stderr",
     "output_type": "stream",
     "text": [
      "24/02/12 19:35:58 WARN SimpleFunctionRegistry: The function jaro_sim replaced a previously registered function.\n",
      "24/02/12 19:35:58 WARN SimpleFunctionRegistry: The function jaro_winkler replaced a previously registered function.\n",
      "24/02/12 19:35:58 WARN SimpleFunctionRegistry: The function jaccard replaced a previously registered function.\n",
      "24/02/12 19:35:58 WARN SimpleFunctionRegistry: The function cosine_distance replaced a previously registered function.\n",
      "24/02/12 19:35:58 WARN SimpleFunctionRegistry: The function dmetaphone replaced a previously registered function.\n",
      "24/02/12 19:35:58 WARN SimpleFunctionRegistry: The function dmetaphonealt replaced a previously registered function.\n",
      "24/02/12 19:35:58 WARN SimpleFunctionRegistry: The function qgramtokeniser replaced a previously registered function.\n",
      "24/02/12 19:35:58 WARN SimpleFunctionRegistry: The function damerau_levenshtein replaced a previously registered function.\n"
     ]
    },
    {
     "name": "stdout",
     "output_type": "stream",
     "text": [
      "Number of pairs that will be compared: 63\n"
     ]
    },
    {
     "name": "stderr",
     "output_type": "stream",
     "text": [
      "24/02/12 19:36:00 WARN DataSource: All paths were ignored:\n",
      "  file:/ihme/homes/zmbc/src/vivarium_research_prl/linkage/person_linkage_case_study/output/small_sample/tmpCheckpoints/2018ac72-63d3-463e-bac8-b54c65966a4a/__splink__df_concat_with_tf_17321c551\n"
     ]
    },
    {
     "name": "stderr",
     "output_type": "stream",
     "text": [
      "\r",
      "[Stage 485:===================================>                 (67 + 15) / 100]\r",
      "\r",
      "[Stage 485:==================================================>   (93 + 7) / 100]\r"
     ]
    },
    {
     "name": "stderr",
     "output_type": "stream",
     "text": [
      "\r",
      "                                                                                \r"
     ]
    },
    {
     "name": "stderr",
     "output_type": "stream",
     "text": [
      "24/02/12 19:36:06 WARN DataSource: All paths were ignored:\n",
      "  file:/ihme/homes/zmbc/src/vivarium_research_prl/linkage/person_linkage_case_study/output/small_sample/tmpCheckpoints/2018ac72-63d3-463e-bac8-b54c65966a4a/__splink__df_predict_9433ae21d\n"
     ]
    },
    {
     "data": {
      "text/html": [
       "\n",
       "        <iframe\n",
       "            width=\"100%\"\n",
       "            height=\"1200\"\n",
       "            src=\"./splink_temp/namesearch__birthday_and_first_two_characters_of_name.html\"\n",
       "            frameborder=\"0\"\n",
       "            allowfullscreen\n",
       "            \n",
       "        ></iframe>\n",
       "        "
      ],
      "text/plain": [
       "<IPython.lib.display.IFrame at 0x7feefb79bd60>"
      ]
     },
     "metadata": {},
     "output_type": "display_data"
    },
    {
     "name": "stdout",
     "output_type": "stream",
     "text": [
      "Imbalanced dataframe: too_few=False, too_many=True, too_large=False\n",
      "count       44.000000\n",
      "mean      6220.250000\n",
      "std       7713.922521\n",
      "min        612.000000\n",
      "25%        640.500000\n",
      "50%       1262.500000\n",
      "75%      11839.250000\n",
      "max      26069.000000\n",
      "dtype: float64\n",
      "Creating partitions of 100MB\n"
     ]
    },
    {
     "name": "stdout",
     "output_type": "stream",
     "text": [
      "Found 47 matches; 11.65% still eligible to match\n"
     ]
    }
   ],
   "source": [
    "person_linkage_cascade.run_matching_pass(\n",
    "    pass_name=\"birthday and first two characters of name\",\n",
    "    blocking_columns=[\"day_of_birth\", \"month_of_birth\", \"first_name_2\", \"last_name_2\"],\n",
    ")"
   ]
  },
  {
   "cell_type": "markdown",
   "id": "368e0d7c-54d8-4ce5-9723-0650a2a58924",
   "metadata": {
    "papermill": {
     "duration": 0.053283,
     "end_time": "2024-02-12T19:36:17.575566",
     "exception": false,
     "start_time": "2024-02-12T19:36:17.522283",
     "status": "completed"
    },
    "tags": []
   },
   "source": [
    "## Post-process and confirm PIKs"
   ]
  },
  {
   "cell_type": "code",
   "execution_count": 83,
   "id": "76a7588d-85c3-4087-b6db-17dc31859cd7",
   "metadata": {
    "execution": {
     "iopub.execute_input": "2024-02-12T19:36:17.684966Z",
     "iopub.status.busy": "2024-02-12T19:36:17.684508Z",
     "iopub.status.idle": "2024-02-12T19:36:25.797463Z",
     "shell.execute_reply": "2024-02-12T19:36:25.796665Z"
    },
    "papermill": {
     "duration": 8.172688,
     "end_time": "2024-02-12T19:36:25.801922",
     "exception": false,
     "start_time": "2024-02-12T19:36:17.629234",
     "status": "completed"
    },
    "tags": []
   },
   "outputs": [
    {
     "name": "stdout",
     "output_type": "stream",
     "text": [
      "69 input records linked to deceased people, dropping links\n"
     ]
    },
    {
     "name": "stdout",
     "output_type": "stream",
     "text": [
      "0 input records linked to multiple PIKs, dropping links\n"
     ]
    },
    {
     "name": "stdout",
     "output_type": "stream",
     "text": [
      "Imbalanced dataframe: too_few=False, too_many=True, too_large=False\n",
      "count        33.00000\n",
      "mean      54599.00000\n",
      "std       37211.69899\n",
      "min        5288.00000\n",
      "25%        9955.00000\n",
      "50%       52041.00000\n",
      "75%       87576.00000\n",
      "max      114960.00000\n",
      "dtype: float64\n",
      "Creating partitions of 100MB\n"
     ]
    }
   ],
   "source": [
    "person_linkage_cascade.confirm_piks()"
   ]
  },
  {
   "cell_type": "code",
   "execution_count": 84,
   "id": "7892c48c-c5d5-44c6-9439-2f59ebc053b5",
   "metadata": {
    "execution": {
     "iopub.execute_input": "2024-02-12T19:36:25.913541Z",
     "iopub.status.busy": "2024-02-12T19:36:25.912253Z",
     "iopub.status.idle": "2024-02-12T19:36:25.954482Z",
     "shell.execute_reply": "2024-02-12T19:36:25.953420Z"
    },
    "papermill": {
     "duration": 0.09884,
     "end_time": "2024-02-12T19:36:25.956564",
     "exception": false,
     "start_time": "2024-02-12T19:36:25.857724",
     "status": "completed"
    },
    "tags": []
   },
   "outputs": [
    {
     "data": {
      "text/plain": [
       "module_name  pass_name                                     \n",
       "geosearch    geokey                                            6734\n",
       "             some name and DOB information                     1958\n",
       "             house number and street name Soundex               595\n",
       "namesearch   DOB and NYSIIS of name                             207\n",
       "             DOB and initials                                   128\n",
       "             birthday and first two characters of name           47\n",
       "             year of birth and first two characters of name       4\n",
       "dtype: int64"
      ]
     },
     "execution_count": 84,
     "metadata": {},
     "output_type": "execute_result"
    }
   ],
   "source": [
    "df_ops.compute(person_linkage_cascade.confirmed_piks.groupby([\"module_name\", \"pass_name\"]).size()).sort_values(ascending=False)"
   ]
  },
  {
   "cell_type": "markdown",
   "id": "5cf67411-44e7-4ae8-926c-9b1f56d4522f",
   "metadata": {
    "papermill": {
     "duration": 0.054359,
     "end_time": "2024-02-12T19:36:26.066607",
     "exception": false,
     "start_time": "2024-02-12T19:36:26.012248",
     "status": "completed"
    },
    "tags": []
   },
   "source": [
    "# DOBSearch\n",
    "\n",
    "Brown et al., p. 29:\n",
    "\n",
    "> ... the DOBSearch module, which blocks on\n",
    "month and day of birth, then compares name, sex, and DOB.\n",
    "\n",
    "Wagner and Layne, p. 15:\n",
    "\n",
    "> The DOBSearch module searches the reference files for the records that fail the\n",
    "> NameSearch, using name and date of birth data. The module matches against a re-split\n",
    "> version of the Numident Name Reference file, splitting the data based on month and day\n",
    "> of birth.\n",
    "> \n",
    "> There are typically four blocking passes in the DOBSearch module. The first pass\n",
    "> blocks records by first name in the incoming file to last name in the DOB Reference file\n",
    "> and last name in incoming file to first name in the DOB Reference file. This strategy\n",
    "> accounts for switching of first and last name in the incoming file.\n",
    "\n",
    "Again, I have used the exact passes listed for this module in Layne, Wagner, and Rothhaas.\n",
    "This is somewhat corroborated to be \"typical\" given that it is consistent with Wagner and Layne\n",
    "above, but both papers are old."
   ]
  },
  {
   "cell_type": "code",
   "execution_count": 85,
   "id": "38bbc963-25e2-4f17-9721-f855589dd28a",
   "metadata": {
    "execution": {
     "iopub.execute_input": "2024-02-12T19:36:26.194671Z",
     "iopub.status.busy": "2024-02-12T19:36:26.193999Z",
     "iopub.status.idle": "2024-02-12T19:36:26.980710Z",
     "shell.execute_reply": "2024-02-12T19:36:26.979817Z"
    },
    "papermill": {
     "duration": 0.862039,
     "end_time": "2024-02-12T19:36:26.982780",
     "exception": false,
     "start_time": "2024-02-12T19:36:26.120741",
     "status": "completed"
    },
    "tags": []
   },
   "outputs": [],
   "source": [
    "person_linkage_cascade.start_module(\n",
    "    name=\"dobsearch\",\n",
    "    reference_file=name_dob_reference_file,\n",
    "    reference_file_name=\"name_dob_reference_file\",\n",
    "    cut_columns=[\"day_of_birth\", \"month_of_birth\"],\n",
    "    matching_columns=[\n",
    "        \"first_name_15\",\n",
    "        \"last_name_12\",\n",
    "        \"middle_initial\",\n",
    "        \"day_of_birth\",\n",
    "        \"month_of_birth\",\n",
    "        \"year_of_birth\",\n",
    "    ],\n",
    ")"
   ]
  },
  {
   "cell_type": "markdown",
   "id": "1ec6013e-ea45-463d-8095-ef3e4c8abf20",
   "metadata": {
    "papermill": {
     "duration": 0.054291,
     "end_time": "2024-02-12T19:36:27.095981",
     "exception": false,
     "start_time": "2024-02-12T19:36:27.041690",
     "status": "completed"
    },
    "tags": []
   },
   "source": [
    "## Pass 1: Block on initials, switching first and last names"
   ]
  },
  {
   "cell_type": "code",
   "execution_count": 86,
   "id": "b9fa73d4-ee01-4a35-94f9-ab0eb6b09132",
   "metadata": {
    "execution": {
     "iopub.execute_input": "2024-02-12T19:36:27.207571Z",
     "iopub.status.busy": "2024-02-12T19:36:27.207133Z",
     "iopub.status.idle": "2024-02-12T19:36:36.668202Z",
     "shell.execute_reply": "2024-02-12T19:36:36.667348Z"
    },
    "papermill": {
     "duration": 9.52055,
     "end_time": "2024-02-12T19:36:36.670232",
     "exception": false,
     "start_time": "2024-02-12T19:36:27.149682",
     "status": "completed"
    },
    "tags": []
   },
   "outputs": [
    {
     "name": "stdout",
     "output_type": "stream",
     "text": [
      "Running initials name switch of dobsearch\n",
      "Files to link are 19,875 and 1,354 records\n"
     ]
    },
    {
     "name": "stderr",
     "output_type": "stream",
     "text": [
      "24/02/12 19:36:29 WARN SimpleFunctionRegistry: The function jaro_sim replaced a previously registered function.\n",
      "24/02/12 19:36:29 WARN SimpleFunctionRegistry: The function jaro_winkler replaced a previously registered function.\n",
      "24/02/12 19:36:29 WARN SimpleFunctionRegistry: The function jaccard replaced a previously registered function.\n",
      "24/02/12 19:36:29 WARN SimpleFunctionRegistry: The function cosine_distance replaced a previously registered function.\n",
      "24/02/12 19:36:29 WARN SimpleFunctionRegistry: The function dmetaphone replaced a previously registered function.\n",
      "24/02/12 19:36:29 WARN SimpleFunctionRegistry: The function dmetaphonealt replaced a previously registered function.\n",
      "24/02/12 19:36:29 WARN SimpleFunctionRegistry: The function qgramtokeniser replaced a previously registered function.\n",
      "24/02/12 19:36:29 WARN SimpleFunctionRegistry: The function damerau_levenshtein replaced a previously registered function.\n"
     ]
    },
    {
     "name": "stdout",
     "output_type": "stream",
     "text": [
      "Number of pairs that will be compared: 150\n"
     ]
    },
    {
     "name": "stderr",
     "output_type": "stream",
     "text": [
      "24/02/12 19:36:30 WARN DataSource: All paths were ignored:\n",
      "  file:/ihme/homes/zmbc/src/vivarium_research_prl/linkage/person_linkage_case_study/output/small_sample/tmpCheckpoints/2018ac72-63d3-463e-bac8-b54c65966a4a/__splink__df_concat_with_tf_ced2a043e\n"
     ]
    },
    {
     "name": "stderr",
     "output_type": "stream",
     "text": [
      "\r",
      "[Stage 518:=========================================>           (78 + 15) / 100]\r"
     ]
    },
    {
     "name": "stderr",
     "output_type": "stream",
     "text": [
      "\r",
      "                                                                                \r",
      "24/02/12 19:36:35 WARN DataSource: All paths were ignored:\n",
      "  file:/ihme/homes/zmbc/src/vivarium_research_prl/linkage/person_linkage_case_study/output/small_sample/tmpCheckpoints/2018ac72-63d3-463e-bac8-b54c65966a4a/__splink__df_predict_46b3d5474\n"
     ]
    },
    {
     "name": "stdout",
     "output_type": "stream",
     "text": [
      "Found 0 matches; 12.28% still eligible to match\n"
     ]
    }
   ],
   "source": [
    "person_linkage_cascade.run_matching_pass(\n",
    "    pass_name=\"initials name switch\",\n",
    "    blocking_columns=[\"first_name_1\", \"last_name_1\"],\n",
    "    input_data_transformation=switch_first_and_last_names,\n",
    ")"
   ]
  },
  {
   "cell_type": "markdown",
   "id": "8fa68a9b-6f38-4f7c-8246-65a3bd780f54",
   "metadata": {
    "papermill": {
     "duration": 0.054185,
     "end_time": "2024-02-12T19:36:36.783923",
     "exception": false,
     "start_time": "2024-02-12T19:36:36.729738",
     "status": "completed"
    },
    "tags": []
   },
   "source": [
    "## Pass 2: Block on first three characters of name"
   ]
  },
  {
   "cell_type": "code",
   "execution_count": 87,
   "id": "75d3d033-96ae-43bf-8f90-c73036c39d0f",
   "metadata": {
    "execution": {
     "iopub.execute_input": "2024-02-12T19:36:36.894536Z",
     "iopub.status.busy": "2024-02-12T19:36:36.893672Z",
     "iopub.status.idle": "2024-02-12T19:36:54.880645Z",
     "shell.execute_reply": "2024-02-12T19:36:54.879838Z"
    },
    "papermill": {
     "duration": 18.044638,
     "end_time": "2024-02-12T19:36:54.882596",
     "exception": false,
     "start_time": "2024-02-12T19:36:36.837958",
     "status": "completed"
    },
    "tags": []
   },
   "outputs": [
    {
     "name": "stdout",
     "output_type": "stream",
     "text": [
      "Running first three characters of name of dobsearch\n",
      "Files to link are 19,875 and 1,354 records\n"
     ]
    },
    {
     "name": "stderr",
     "output_type": "stream",
     "text": [
      "24/02/12 19:36:38 WARN SimpleFunctionRegistry: The function jaro_sim replaced a previously registered function.\n",
      "24/02/12 19:36:38 WARN SimpleFunctionRegistry: The function jaro_winkler replaced a previously registered function.\n",
      "24/02/12 19:36:38 WARN SimpleFunctionRegistry: The function jaccard replaced a previously registered function.\n",
      "24/02/12 19:36:38 WARN SimpleFunctionRegistry: The function cosine_distance replaced a previously registered function.\n",
      "24/02/12 19:36:38 WARN SimpleFunctionRegistry: The function dmetaphone replaced a previously registered function.\n",
      "24/02/12 19:36:38 WARN SimpleFunctionRegistry: The function dmetaphonealt replaced a previously registered function.\n",
      "24/02/12 19:36:38 WARN SimpleFunctionRegistry: The function qgramtokeniser replaced a previously registered function.\n",
      "24/02/12 19:36:38 WARN SimpleFunctionRegistry: The function damerau_levenshtein replaced a previously registered function.\n"
     ]
    },
    {
     "name": "stdout",
     "output_type": "stream",
     "text": [
      "Number of pairs that will be compared: 63\n"
     ]
    },
    {
     "name": "stderr",
     "output_type": "stream",
     "text": [
      "24/02/12 19:36:40 WARN DataSource: All paths were ignored:\n",
      "  file:/ihme/homes/zmbc/src/vivarium_research_prl/linkage/person_linkage_case_study/output/small_sample/tmpCheckpoints/2018ac72-63d3-463e-bac8-b54c65966a4a/__splink__df_concat_with_tf_8068408e9\n"
     ]
    },
    {
     "name": "stderr",
     "output_type": "stream",
     "text": [
      "\r",
      "[Stage 541:======================================>              (73 + 15) / 100]\r"
     ]
    },
    {
     "name": "stderr",
     "output_type": "stream",
     "text": [
      "\r",
      "                                                                                \r"
     ]
    },
    {
     "name": "stderr",
     "output_type": "stream",
     "text": [
      "24/02/12 19:36:45 WARN DataSource: All paths were ignored:\n",
      "  file:/ihme/homes/zmbc/src/vivarium_research_prl/linkage/person_linkage_case_study/output/small_sample/tmpCheckpoints/2018ac72-63d3-463e-bac8-b54c65966a4a/__splink__df_predict_0ccfd1b60\n"
     ]
    },
    {
     "data": {
      "text/html": [
       "\n",
       "        <iframe\n",
       "            width=\"100%\"\n",
       "            height=\"1200\"\n",
       "            src=\"./splink_temp/dobsearch__first_three_characters_of_name.html\"\n",
       "            frameborder=\"0\"\n",
       "            allowfullscreen\n",
       "            \n",
       "        ></iframe>\n",
       "        "
      ],
      "text/plain": [
       "<IPython.lib.display.IFrame at 0x7feefaa32a40>"
      ]
     },
     "metadata": {},
     "output_type": "display_data"
    },
    {
     "name": "stdout",
     "output_type": "stream",
     "text": [
      "Found 59 matches; 11.74% still eligible to match\n"
     ]
    }
   ],
   "source": [
    "person_linkage_cascade.run_matching_pass(\n",
    "    pass_name=\"first three characters of name\",\n",
    "    blocking_columns=[\"first_name_3\", \"last_name_3\"],\n",
    ")"
   ]
  },
  {
   "cell_type": "markdown",
   "id": "10d06a88-895a-469b-a830-57c46c58ae45",
   "metadata": {
    "papermill": {
     "duration": 0.055016,
     "end_time": "2024-02-12T19:36:54.997541",
     "exception": false,
     "start_time": "2024-02-12T19:36:54.942525",
     "status": "completed"
    },
    "tags": []
   },
   "source": [
    "## Pass 3: Block on reverse Soundex of name"
   ]
  },
  {
   "cell_type": "code",
   "execution_count": 88,
   "id": "a05e24ef-2ae2-4ca7-8d92-05630a1d61d1",
   "metadata": {
    "execution": {
     "iopub.execute_input": "2024-02-12T19:36:55.111299Z",
     "iopub.status.busy": "2024-02-12T19:36:55.110874Z",
     "iopub.status.idle": "2024-02-12T19:37:11.537864Z",
     "shell.execute_reply": "2024-02-12T19:37:11.536436Z"
    },
    "papermill": {
     "duration": 16.486058,
     "end_time": "2024-02-12T19:37:11.540045",
     "exception": false,
     "start_time": "2024-02-12T19:36:55.053987",
     "status": "completed"
    },
    "tags": []
   },
   "outputs": [
    {
     "name": "stdout",
     "output_type": "stream",
     "text": [
      "Running reverse Soundex of name of dobsearch\n",
      "Files to link are 19,875 and 1,295 records\n"
     ]
    },
    {
     "name": "stderr",
     "output_type": "stream",
     "text": [
      "24/02/12 19:36:56 WARN SimpleFunctionRegistry: The function jaro_sim replaced a previously registered function.\n",
      "24/02/12 19:36:56 WARN SimpleFunctionRegistry: The function jaro_winkler replaced a previously registered function.\n",
      "24/02/12 19:36:56 WARN SimpleFunctionRegistry: The function jaccard replaced a previously registered function.\n",
      "24/02/12 19:36:56 WARN SimpleFunctionRegistry: The function cosine_distance replaced a previously registered function.\n",
      "24/02/12 19:36:56 WARN SimpleFunctionRegistry: The function dmetaphone replaced a previously registered function.\n",
      "24/02/12 19:36:56 WARN SimpleFunctionRegistry: The function dmetaphonealt replaced a previously registered function.\n",
      "24/02/12 19:36:56 WARN SimpleFunctionRegistry: The function qgramtokeniser replaced a previously registered function.\n",
      "24/02/12 19:36:56 WARN SimpleFunctionRegistry: The function damerau_levenshtein replaced a previously registered function.\n"
     ]
    },
    {
     "name": "stdout",
     "output_type": "stream",
     "text": [
      "Number of pairs that will be compared: 40\n"
     ]
    },
    {
     "name": "stderr",
     "output_type": "stream",
     "text": [
      "24/02/12 19:36:58 WARN DataSource: All paths were ignored:\n",
      "  file:/ihme/homes/zmbc/src/vivarium_research_prl/linkage/person_linkage_case_study/output/small_sample/tmpCheckpoints/2018ac72-63d3-463e-bac8-b54c65966a4a/__splink__df_concat_with_tf_a5785fb3d\n"
     ]
    },
    {
     "name": "stderr",
     "output_type": "stream",
     "text": [
      "24/02/12 19:37:02 WARN DataSource: All paths were ignored:\n",
      "  file:/ihme/homes/zmbc/src/vivarium_research_prl/linkage/person_linkage_case_study/output/small_sample/tmpCheckpoints/2018ac72-63d3-463e-bac8-b54c65966a4a/__splink__df_predict_61b267b28\n"
     ]
    },
    {
     "data": {
      "text/html": [
       "\n",
       "        <iframe\n",
       "            width=\"100%\"\n",
       "            height=\"1200\"\n",
       "            src=\"./splink_temp/dobsearch__reverse_Soundex_of_name.html\"\n",
       "            frameborder=\"0\"\n",
       "            allowfullscreen\n",
       "            \n",
       "        ></iframe>\n",
       "        "
      ],
      "text/plain": [
       "<IPython.lib.display.IFrame at 0x7feefb79bac0>"
      ]
     },
     "metadata": {},
     "output_type": "display_data"
    },
    {
     "name": "stdout",
     "output_type": "stream",
     "text": [
      "Imbalanced dataframe: too_few=False, too_many=True, too_large=False\n",
      "count      41.000000\n",
      "mean     1252.682927\n",
      "std       566.817230\n",
      "min       531.000000\n",
      "25%      1060.000000\n",
      "50%      1076.000000\n",
      "75%      1603.000000\n",
      "max      2657.000000\n",
      "dtype: float64\n",
      "Creating partitions of 100MB\n"
     ]
    },
    {
     "name": "stdout",
     "output_type": "stream",
     "text": [
      "Found 37 matches; 11.41% still eligible to match\n"
     ]
    }
   ],
   "source": [
    "person_linkage_cascade.run_matching_pass(\n",
    "    pass_name=\"reverse Soundex of name\",\n",
    "    blocking_columns=[\"first_name_reverse_soundex\", \"last_name_reverse_soundex\"],\n",
    ")"
   ]
  },
  {
   "cell_type": "markdown",
   "id": "f5a4da3d-c9c7-4c50-b409-0bf76920828f",
   "metadata": {
    "papermill": {
     "duration": 0.056531,
     "end_time": "2024-02-12T19:37:11.655605",
     "exception": false,
     "start_time": "2024-02-12T19:37:11.599074",
     "status": "completed"
    },
    "tags": []
   },
   "source": [
    "## Pass 4: Block on first two characters of first name and year of birth"
   ]
  },
  {
   "cell_type": "code",
   "execution_count": 89,
   "id": "19e39510-cabb-46a6-99f8-e1969a8eb364",
   "metadata": {
    "execution": {
     "iopub.execute_input": "2024-02-12T19:37:11.801874Z",
     "iopub.status.busy": "2024-02-12T19:37:11.801435Z",
     "iopub.status.idle": "2024-02-12T19:37:26.856571Z",
     "shell.execute_reply": "2024-02-12T19:37:26.855659Z"
    },
    "papermill": {
     "duration": 15.115907,
     "end_time": "2024-02-12T19:37:26.858615",
     "exception": false,
     "start_time": "2024-02-12T19:37:11.742708",
     "status": "completed"
    },
    "tags": []
   },
   "outputs": [
    {
     "name": "stdout",
     "output_type": "stream",
     "text": [
      "Running first two characters of first name and year of birth of dobsearch\n",
      "Files to link are 19,875 and 1,258 records\n"
     ]
    },
    {
     "name": "stderr",
     "output_type": "stream",
     "text": [
      "24/02/12 19:37:13 WARN SimpleFunctionRegistry: The function jaro_sim replaced a previously registered function.\n",
      "24/02/12 19:37:13 WARN SimpleFunctionRegistry: The function jaro_winkler replaced a previously registered function.\n",
      "24/02/12 19:37:13 WARN SimpleFunctionRegistry: The function jaccard replaced a previously registered function.\n",
      "24/02/12 19:37:13 WARN SimpleFunctionRegistry: The function cosine_distance replaced a previously registered function.\n",
      "24/02/12 19:37:13 WARN SimpleFunctionRegistry: The function dmetaphone replaced a previously registered function.\n",
      "24/02/12 19:37:13 WARN SimpleFunctionRegistry: The function dmetaphonealt replaced a previously registered function.\n",
      "24/02/12 19:37:13 WARN SimpleFunctionRegistry: The function qgramtokeniser replaced a previously registered function.\n",
      "24/02/12 19:37:13 WARN SimpleFunctionRegistry: The function damerau_levenshtein replaced a previously registered function.\n"
     ]
    },
    {
     "name": "stdout",
     "output_type": "stream",
     "text": [
      "Number of pairs that will be compared: 178\n"
     ]
    },
    {
     "name": "stderr",
     "output_type": "stream",
     "text": [
      "24/02/12 19:37:14 WARN DataSource: All paths were ignored:\n",
      "  file:/ihme/homes/zmbc/src/vivarium_research_prl/linkage/person_linkage_case_study/output/small_sample/tmpCheckpoints/2018ac72-63d3-463e-bac8-b54c65966a4a/__splink__df_concat_with_tf_dd2d91592\n"
     ]
    },
    {
     "name": "stderr",
     "output_type": "stream",
     "text": [
      "\r",
      "[Stage 605:================================>                    (61 + 15) / 100]\r",
      "\r",
      "[Stage 605:===============================================>     (90 + 10) / 100]\r"
     ]
    },
    {
     "name": "stderr",
     "output_type": "stream",
     "text": [
      "\r",
      "                                                                                \r"
     ]
    },
    {
     "name": "stderr",
     "output_type": "stream",
     "text": [
      "24/02/12 19:37:20 WARN DataSource: All paths were ignored:\n",
      "  file:/ihme/homes/zmbc/src/vivarium_research_prl/linkage/person_linkage_case_study/output/small_sample/tmpCheckpoints/2018ac72-63d3-463e-bac8-b54c65966a4a/__splink__df_predict_4fe7fdd6b\n"
     ]
    },
    {
     "data": {
      "text/html": [
       "\n",
       "        <iframe\n",
       "            width=\"100%\"\n",
       "            height=\"1200\"\n",
       "            src=\"./splink_temp/dobsearch__first_two_characters_of_first_name_and_year_of_birth.html\"\n",
       "            frameborder=\"0\"\n",
       "            allowfullscreen\n",
       "            \n",
       "        ></iframe>\n",
       "        "
      ],
      "text/plain": [
       "<IPython.lib.display.IFrame at 0x7fed42a84fd0>"
      ]
     },
     "metadata": {},
     "output_type": "display_data"
    },
    {
     "name": "stdout",
     "output_type": "stream",
     "text": [
      "Imbalanced dataframe: too_few=False, too_many=True, too_large=False\n",
      "count      37.000000\n",
      "mean     1466.351351\n",
      "std       649.714647\n",
      "min       474.000000\n",
      "25%      1174.000000\n",
      "50%      1208.000000\n",
      "75%      1893.000000\n",
      "max      3290.000000\n",
      "dtype: float64\n",
      "Creating partitions of 100MB\n"
     ]
    },
    {
     "name": "stdout",
     "output_type": "stream",
     "text": [
      "Found 140 matches; 10.14% still eligible to match\n"
     ]
    }
   ],
   "source": [
    "person_linkage_cascade.run_matching_pass(\n",
    "    pass_name=\"first two characters of first name and year of birth\",\n",
    "    blocking_columns=[\"first_name_2\", \"year_of_birth\"],\n",
    ")"
   ]
  },
  {
   "cell_type": "markdown",
   "id": "466e3db4-998e-40cd-9e33-ef6cf6e99b9b",
   "metadata": {
    "papermill": {
     "duration": 0.055861,
     "end_time": "2024-02-12T19:37:26.975761",
     "exception": false,
     "start_time": "2024-02-12T19:37:26.919900",
     "status": "completed"
    },
    "tags": []
   },
   "source": [
    "## Post-process and confirm PIKs"
   ]
  },
  {
   "cell_type": "code",
   "execution_count": 90,
   "id": "9581f811-9d21-449d-8682-97eb0ef0e493",
   "metadata": {
    "execution": {
     "iopub.execute_input": "2024-02-12T19:37:27.110962Z",
     "iopub.status.busy": "2024-02-12T19:37:27.110520Z",
     "iopub.status.idle": "2024-02-12T19:37:34.638305Z",
     "shell.execute_reply": "2024-02-12T19:37:34.637504Z"
    },
    "papermill": {
     "duration": 7.605912,
     "end_time": "2024-02-12T19:37:34.640456",
     "exception": false,
     "start_time": "2024-02-12T19:37:27.034544",
     "status": "completed"
    },
    "tags": []
   },
   "outputs": [
    {
     "name": "stdout",
     "output_type": "stream",
     "text": [
      "74 input records linked to deceased people, dropping links\n"
     ]
    },
    {
     "name": "stdout",
     "output_type": "stream",
     "text": [
      "0 input records linked to multiple PIKs, dropping links\n"
     ]
    }
   ],
   "source": [
    "person_linkage_cascade.confirm_piks()"
   ]
  },
  {
   "cell_type": "code",
   "execution_count": 91,
   "id": "853bb87d-ac28-41b1-a661-63d38169615b",
   "metadata": {
    "execution": {
     "iopub.execute_input": "2024-02-12T19:37:34.764933Z",
     "iopub.status.busy": "2024-02-12T19:37:34.764498Z",
     "iopub.status.idle": "2024-02-12T19:37:34.860078Z",
     "shell.execute_reply": "2024-02-12T19:37:34.859026Z"
    },
    "papermill": {
     "duration": 0.159347,
     "end_time": "2024-02-12T19:37:34.862388",
     "exception": false,
     "start_time": "2024-02-12T19:37:34.703041",
     "status": "completed"
    },
    "tags": []
   },
   "outputs": [
    {
     "data": {
      "text/plain": [
       "module_name  pass_name                                           \n",
       "geosearch    geokey                                                  6734\n",
       "             some name and DOB information                           1958\n",
       "             house number and street name Soundex                     595\n",
       "namesearch   DOB and NYSIIS of name                                   207\n",
       "dobsearch    first two characters of first name and year of birth     130\n",
       "namesearch   DOB and initials                                         128\n",
       "             birthday and first two characters of name                 47\n",
       "dobsearch    reverse Soundex of name                                   31\n",
       "namesearch   year of birth and first two characters of name             4\n",
       "dtype: int64"
      ]
     },
     "execution_count": 91,
     "metadata": {},
     "output_type": "execute_result"
    }
   ],
   "source": [
    "df_ops.compute(person_linkage_cascade.confirmed_piks.groupby([\"module_name\", \"pass_name\"]).size()).sort_values(ascending=False)"
   ]
  },
  {
   "cell_type": "markdown",
   "id": "58ab65b7-a7ff-46e9-bc54-397bdeb8f6e5",
   "metadata": {
    "papermill": {
     "duration": 0.056244,
     "end_time": "2024-02-12T19:37:34.975248",
     "exception": false,
     "start_time": "2024-02-12T19:37:34.919004",
     "status": "completed"
    },
    "tags": []
   },
   "source": [
    "# HHCompSearch\n",
    "\n",
    "Brown et al., p. 29:\n",
    "\n",
    "> ... the Household Composition search module, which requires at least one\n",
    "> person in the household of the unmatched person to have received a PIK.\n",
    "> The full set of unmatched records with historical name, DOB, sex, and address data from\n",
    "> households whose members with PIKs were observed in the past is created. The module\n",
    "> attempts to find a match to this universe based on name and DOB information.\n",
    "\n",
    "Wagner and Layne, p. 16:\n",
    "\n",
    "> For persons with a PIK in the eligible household, all of the geokeys from the PVS\n",
    "> GeoBase are extracted for each of these PIKs. The geokeys are unduplicated and all\n",
    "> persons are selected from the PVS GeoBase with these geokeys. Next, the program\n",
    "> removes all household members with a PIK, leaving the unPIKed persons in the\n",
    "> household. This becomes the reference file to search against. There are typically two\n",
    "> passes in this module. Records are blocked by MAFID, name, date of birth, and gender.\n",
    "\n",
    "I don't know of any list of passes in this module.\n",
    "Blocking on \"MAFID, name, date of birth, and gender\" seems like a lot for only\n",
    "two passes, especially given that we are only matching people within each eligible\n",
    "household.\n",
    "I'm actually a bit surprised there is any blocking at all, given how restrictive this\n",
    "module inherently is.\n",
    "I've split the difference here by creating two passes that are very permissive."
   ]
  },
  {
   "cell_type": "markdown",
   "id": "cdd285ed-2445-42d2-8942-3bb9d241dd16",
   "metadata": {
    "papermill": {
     "duration": 0.056594,
     "end_time": "2024-02-12T19:37:35.090843",
     "exception": false,
     "start_time": "2024-02-12T19:37:35.034249",
     "status": "completed"
    },
    "tags": []
   },
   "source": [
    "## Create the reference file"
   ]
  },
  {
   "cell_type": "code",
   "execution_count": 92,
   "id": "9793c25f-96a7-406f-b53b-ac15cc804b55",
   "metadata": {
    "execution": {
     "iopub.execute_input": "2024-02-12T19:37:35.206492Z",
     "iopub.status.busy": "2024-02-12T19:37:35.206061Z",
     "iopub.status.idle": "2024-02-12T19:37:35.708893Z",
     "shell.execute_reply": "2024-02-12T19:37:35.707420Z"
    },
    "papermill": {
     "duration": 0.563511,
     "end_time": "2024-02-12T19:37:35.711174",
     "exception": false,
     "start_time": "2024-02-12T19:37:35.147663",
     "status": "completed"
    },
    "tags": []
   },
   "outputs": [],
   "source": [
    "# TODO: As of now in pseudopeople, our only indicator in the Census data of household\n",
    "# is noiseless (ground truth).\n",
    "# Instead, we use geokey to approximate the household clustering information that would be\n",
    "# present in the real dataset.\n",
    "# We should switch to using a (presumably low-noise) household indicator when we have that.\n",
    "# NOTE: We use geokey_for_blocking instead of geokey to intentionally exclude the very\n",
    "# large households currently created by GQ in pseudopeople.\n",
    "pseudo_household_id = (\n",
    "    df_ops.drop_duplicates(census_2030[census_2030.geokey_for_blocking.notnull()][[\"geokey_for_blocking\"]])\n",
    "        .pipe(df_ops.add_unique_id_col, col_name=\"pseudo_household_id\")\n",
    ")"
   ]
  },
  {
   "cell_type": "code",
   "execution_count": 93,
   "id": "fb318684-15c2-4e12-857a-39cd92df6d03",
   "metadata": {
    "execution": {
     "iopub.execute_input": "2024-02-12T19:37:35.830146Z",
     "iopub.status.busy": "2024-02-12T19:37:35.829784Z",
     "iopub.status.idle": "2024-02-12T19:37:36.505384Z",
     "shell.execute_reply": "2024-02-12T19:37:36.502591Z"
    },
    "papermill": {
     "duration": 0.737362,
     "end_time": "2024-02-12T19:37:36.508395",
     "exception": false,
     "start_time": "2024-02-12T19:37:35.771033",
     "status": "completed"
    },
    "tags": []
   },
   "outputs": [],
   "source": [
    "census_2030 = df_ops.persist(census_2030.merge(pseudo_household_id, on=\"geokey_for_blocking\", how=\"left\"))"
   ]
  },
  {
   "cell_type": "code",
   "execution_count": 94,
   "id": "cb5088f0-7139-44a0-b701-6b50b103dbcf",
   "metadata": {
    "execution": {
     "iopub.execute_input": "2024-02-12T19:37:36.627459Z",
     "iopub.status.busy": "2024-02-12T19:37:36.626818Z",
     "iopub.status.idle": "2024-02-12T19:37:37.357695Z",
     "shell.execute_reply": "2024-02-12T19:37:37.356803Z"
    },
    "papermill": {
     "duration": 0.791485,
     "end_time": "2024-02-12T19:37:37.360055",
     "exception": false,
     "start_time": "2024-02-12T19:37:36.568570",
     "status": "completed"
    },
    "tags": []
   },
   "outputs": [],
   "source": [
    "piks_with_household = df_ops.persist(\n",
    "    census_2030[[\"pseudo_household_id\", \"record_id_raw_input_file\"]]\n",
    "        .merge(person_linkage_cascade.confirmed_piks, on=\"record_id_raw_input_file\", how=\"left\")\n",
    ")"
   ]
  },
  {
   "cell_type": "code",
   "execution_count": 95,
   "id": "b97d11a0-6ecd-4a41-9b94-606bbc45831a",
   "metadata": {
    "execution": {
     "iopub.execute_input": "2024-02-12T19:37:37.476453Z",
     "iopub.status.busy": "2024-02-12T19:37:37.475863Z",
     "iopub.status.idle": "2024-02-12T19:37:37.669510Z",
     "shell.execute_reply": "2024-02-12T19:37:37.668715Z"
    },
    "papermill": {
     "duration": 0.254063,
     "end_time": "2024-02-12T19:37:37.671668",
     "exception": false,
     "start_time": "2024-02-12T19:37:37.417605",
     "status": "completed"
    },
    "tags": []
   },
   "outputs": [],
   "source": [
    "piked_by_household = df_ops.groupby_agg_small_groups(\n",
    "    piks_with_household,\n",
    "    by=\"pseudo_household_id\",\n",
    "    agg_func=lambda x: x.pik.agg(['count', 'size'])\n",
    ").reset_index().rename(columns={'count': 'piked'}).assign(unpiked=lambda x: x['size'] - x['piked'])"
   ]
  },
  {
   "cell_type": "code",
   "execution_count": 96,
   "id": "02350ff8-890c-4d4f-a7c4-dd666e0af152",
   "metadata": {
    "execution": {
     "iopub.execute_input": "2024-02-12T19:37:37.793434Z",
     "iopub.status.busy": "2024-02-12T19:37:37.792794Z",
     "iopub.status.idle": "2024-02-12T19:37:37.816268Z",
     "shell.execute_reply": "2024-02-12T19:37:37.815185Z"
    },
    "papermill": {
     "duration": 0.084883,
     "end_time": "2024-02-12T19:37:37.818279",
     "exception": false,
     "start_time": "2024-02-12T19:37:37.733396",
     "status": "completed"
    },
    "tags": []
   },
   "outputs": [
    {
     "data": {
      "text/html": [
       "<div><strong>Dask DataFrame Structure:</strong></div>\n",
       "<div>\n",
       "<style scoped>\n",
       "    .dataframe tbody tr th:only-of-type {\n",
       "        vertical-align: middle;\n",
       "    }\n",
       "\n",
       "    .dataframe tbody tr th {\n",
       "        vertical-align: top;\n",
       "    }\n",
       "\n",
       "    .dataframe thead th {\n",
       "        text-align: right;\n",
       "    }\n",
       "</style>\n",
       "<table border=\"1\" class=\"dataframe\">\n",
       "  <thead>\n",
       "    <tr style=\"text-align: right;\">\n",
       "      <th></th>\n",
       "      <th>pseudo_household_id</th>\n",
       "    </tr>\n",
       "    <tr>\n",
       "      <th>npartitions=10</th>\n",
       "      <th></th>\n",
       "    </tr>\n",
       "  </thead>\n",
       "  <tbody>\n",
       "    <tr>\n",
       "      <th></th>\n",
       "      <td>large_string[pyarrow]</td>\n",
       "    </tr>\n",
       "    <tr>\n",
       "      <th></th>\n",
       "      <td>...</td>\n",
       "    </tr>\n",
       "    <tr>\n",
       "      <th>...</th>\n",
       "      <td>...</td>\n",
       "    </tr>\n",
       "    <tr>\n",
       "      <th></th>\n",
       "      <td>...</td>\n",
       "    </tr>\n",
       "    <tr>\n",
       "      <th></th>\n",
       "      <td>...</td>\n",
       "    </tr>\n",
       "  </tbody>\n",
       "</table>\n",
       "</div>\n",
       "<div>Dask Name: getitem, 24 graph layers</div>"
      ],
      "text/plain": [
       "Dask DataFrame Structure:\n",
       "                  pseudo_household_id\n",
       "npartitions=10                       \n",
       "                large_string[pyarrow]\n",
       "                                  ...\n",
       "...                               ...\n",
       "                                  ...\n",
       "                                  ...\n",
       "Dask Name: getitem, 24 graph layers"
      ]
     },
     "execution_count": 96,
     "metadata": {},
     "output_type": "execute_result"
    }
   ],
   "source": [
    "eligible_households = piked_by_household[(piked_by_household.piked > 0) & (piked_by_household.unpiked > 0)][['pseudo_household_id']]\n",
    "eligible_households"
   ]
  },
  {
   "cell_type": "code",
   "execution_count": 97,
   "id": "a671a0b0-8713-4e29-8db4-bd3a40162c10",
   "metadata": {
    "execution": {
     "iopub.execute_input": "2024-02-12T19:37:37.989212Z",
     "iopub.status.busy": "2024-02-12T19:37:37.988578Z",
     "iopub.status.idle": "2024-02-12T19:37:39.739752Z",
     "shell.execute_reply": "2024-02-12T19:37:39.738944Z"
    },
    "papermill": {
     "duration": 1.866818,
     "end_time": "2024-02-12T19:37:39.741892",
     "exception": false,
     "start_time": "2024-02-12T19:37:37.875074",
     "status": "completed"
    },
    "tags": []
   },
   "outputs": [
    {
     "data": {
      "text/html": [
       "<div><strong>Dask DataFrame Structure:</strong></div>\n",
       "<div>\n",
       "<style scoped>\n",
       "    .dataframe tbody tr th:only-of-type {\n",
       "        vertical-align: middle;\n",
       "    }\n",
       "\n",
       "    .dataframe tbody tr th {\n",
       "        vertical-align: top;\n",
       "    }\n",
       "\n",
       "    .dataframe thead th {\n",
       "        text-align: right;\n",
       "    }\n",
       "</style>\n",
       "<table border=\"1\" class=\"dataframe\">\n",
       "  <thead>\n",
       "    <tr style=\"text-align: right;\">\n",
       "      <th></th>\n",
       "      <th>pseudo_household_id</th>\n",
       "      <th>pik</th>\n",
       "    </tr>\n",
       "    <tr>\n",
       "      <th>npartitions=10</th>\n",
       "      <th></th>\n",
       "      <th></th>\n",
       "    </tr>\n",
       "  </thead>\n",
       "  <tbody>\n",
       "    <tr>\n",
       "      <th></th>\n",
       "      <td>large_string[pyarrow]</td>\n",
       "      <td>large_string[pyarrow]</td>\n",
       "    </tr>\n",
       "    <tr>\n",
       "      <th></th>\n",
       "      <td>...</td>\n",
       "      <td>...</td>\n",
       "    </tr>\n",
       "    <tr>\n",
       "      <th>...</th>\n",
       "      <td>...</td>\n",
       "      <td>...</td>\n",
       "    </tr>\n",
       "    <tr>\n",
       "      <th></th>\n",
       "      <td>...</td>\n",
       "      <td>...</td>\n",
       "    </tr>\n",
       "    <tr>\n",
       "      <th></th>\n",
       "      <td>...</td>\n",
       "      <td>...</td>\n",
       "    </tr>\n",
       "  </tbody>\n",
       "</table>\n",
       "</div>\n",
       "<div>Dask Name: from-delayed, 2 graph layers</div>"
      ],
      "text/plain": [
       "Dask DataFrame Structure:\n",
       "                  pseudo_household_id                    pik\n",
       "npartitions=10                                              \n",
       "                large_string[pyarrow]  large_string[pyarrow]\n",
       "                                  ...                    ...\n",
       "...                               ...                    ...\n",
       "                                  ...                    ...\n",
       "                                  ...                    ...\n",
       "Dask Name: from-delayed, 2 graph layers"
      ]
     },
     "execution_count": 97,
     "metadata": {},
     "output_type": "execute_result"
    }
   ],
   "source": [
    "piks_by_eligible_household = df_ops.drop_duplicates(\n",
    "    eligible_households\n",
    "        .merge(piks_with_household[[\"pseudo_household_id\", \"pik\"]].dropna(subset=\"pik\"), on=\"pseudo_household_id\", how=\"inner\")\n",
    ")\n",
    "piks_by_eligible_household"
   ]
  },
  {
   "cell_type": "code",
   "execution_count": 98,
   "id": "0386f872-93a4-48b1-88bd-82db34a6df76",
   "metadata": {
    "execution": {
     "iopub.execute_input": "2024-02-12T19:37:39.856043Z",
     "iopub.status.busy": "2024-02-12T19:37:39.855437Z",
     "iopub.status.idle": "2024-02-12T19:37:41.656225Z",
     "shell.execute_reply": "2024-02-12T19:37:41.655413Z"
    },
    "papermill": {
     "duration": 1.861182,
     "end_time": "2024-02-12T19:37:41.659505",
     "exception": false,
     "start_time": "2024-02-12T19:37:39.798323",
     "status": "completed"
    },
    "tags": []
   },
   "outputs": [
    {
     "data": {
      "text/html": [
       "<div><strong>Dask DataFrame Structure:</strong></div>\n",
       "<div>\n",
       "<style scoped>\n",
       "    .dataframe tbody tr th:only-of-type {\n",
       "        vertical-align: middle;\n",
       "    }\n",
       "\n",
       "    .dataframe tbody tr th {\n",
       "        vertical-align: top;\n",
       "    }\n",
       "\n",
       "    .dataframe thead th {\n",
       "        text-align: right;\n",
       "    }\n",
       "</style>\n",
       "<table border=\"1\" class=\"dataframe\">\n",
       "  <thead>\n",
       "    <tr style=\"text-align: right;\">\n",
       "      <th></th>\n",
       "      <th>pseudo_household_id</th>\n",
       "      <th>geokey_for_blocking</th>\n",
       "    </tr>\n",
       "    <tr>\n",
       "      <th>npartitions=10</th>\n",
       "      <th></th>\n",
       "      <th></th>\n",
       "    </tr>\n",
       "  </thead>\n",
       "  <tbody>\n",
       "    <tr>\n",
       "      <th></th>\n",
       "      <td>large_string[pyarrow]</td>\n",
       "      <td>large_string[pyarrow]</td>\n",
       "    </tr>\n",
       "    <tr>\n",
       "      <th></th>\n",
       "      <td>...</td>\n",
       "      <td>...</td>\n",
       "    </tr>\n",
       "    <tr>\n",
       "      <th>...</th>\n",
       "      <td>...</td>\n",
       "      <td>...</td>\n",
       "    </tr>\n",
       "    <tr>\n",
       "      <th></th>\n",
       "      <td>...</td>\n",
       "      <td>...</td>\n",
       "    </tr>\n",
       "    <tr>\n",
       "      <th></th>\n",
       "      <td>...</td>\n",
       "      <td>...</td>\n",
       "    </tr>\n",
       "  </tbody>\n",
       "</table>\n",
       "</div>\n",
       "<div>Dask Name: from-delayed, 2 graph layers</div>"
      ],
      "text/plain": [
       "Dask DataFrame Structure:\n",
       "                  pseudo_household_id    geokey_for_blocking\n",
       "npartitions=10                                              \n",
       "                large_string[pyarrow]  large_string[pyarrow]\n",
       "                                  ...                    ...\n",
       "...                               ...                    ...\n",
       "                                  ...                    ...\n",
       "                                  ...                    ...\n",
       "Dask Name: from-delayed, 2 graph layers"
      ]
     },
     "execution_count": 98,
     "metadata": {},
     "output_type": "execute_result"
    }
   ],
   "source": [
    "geokeys_by_eligible_household = (\n",
    "    piks_by_eligible_household\n",
    "        .merge(df_ops.drop_duplicates(geobase_reference_file[[\"pik\", \"geokey_for_blocking\"]].dropna(subset=\"geokey_for_blocking\")), on=\"pik\")\n",
    "        .drop(columns=[\"pik\"])\n",
    "        .pipe(df_ops.drop_duplicates)\n",
    ")\n",
    "geokeys_by_eligible_household"
   ]
  },
  {
   "cell_type": "code",
   "execution_count": 99,
   "id": "2034b8a2-a959-41a6-bce5-b31b3f7bad62",
   "metadata": {
    "execution": {
     "iopub.execute_input": "2024-02-12T19:37:41.774922Z",
     "iopub.status.busy": "2024-02-12T19:37:41.774488Z",
     "iopub.status.idle": "2024-02-12T19:37:42.431132Z",
     "shell.execute_reply": "2024-02-12T19:37:42.430230Z"
    },
    "papermill": {
     "duration": 0.716317,
     "end_time": "2024-02-12T19:37:42.433591",
     "exception": false,
     "start_time": "2024-02-12T19:37:41.717274",
     "status": "completed"
    },
    "tags": []
   },
   "outputs": [],
   "source": [
    "# Apparently, we exclude from the reference file all *reference file* records with a PIK that\n",
    "# has already been assigned to an input file row.\n",
    "# Doing this goes against the normal assumption, which is that reference file records can match\n",
    "# to multiple input file records.\n",
    "# This is really surprising to me, but it seems clear from \"the program\n",
    "# removes all household members with a PIK, leaving the unPIKed persons in the\n",
    "# household. This becomes the reference file to search against.\" (Wagner and Layne, p. 16)\n",
    "eligible_geobase_reference_file_records = (\n",
    "    geobase_reference_file[geobase_reference_file.geokey_for_blocking.notnull()]\n",
    "        .merge(df_ops.drop_duplicates(person_linkage_cascade.confirmed_piks[['pik']]).assign(confirmed_pik_dummy=1), on='pik', how='left')\n",
    "        .pipe(lambda df: df[df.confirmed_pik_dummy.isnull()])\n",
    "        .drop(columns=['confirmed_pik_dummy'])\n",
    ")"
   ]
  },
  {
   "cell_type": "code",
   "execution_count": 100,
   "id": "60c5a0f4-6220-4d29-a604-52b930c3198b",
   "metadata": {
    "execution": {
     "iopub.execute_input": "2024-02-12T19:37:42.552330Z",
     "iopub.status.busy": "2024-02-12T19:37:42.551083Z",
     "iopub.status.idle": "2024-02-12T19:37:43.554650Z",
     "shell.execute_reply": "2024-02-12T19:37:43.553756Z"
    },
    "papermill": {
     "duration": 1.065002,
     "end_time": "2024-02-12T19:37:43.556648",
     "exception": false,
     "start_time": "2024-02-12T19:37:42.491646",
     "status": "completed"
    },
    "tags": []
   },
   "outputs": [
    {
     "data": {
      "text/html": [
       "<div><strong>Dask DataFrame Structure:</strong></div>\n",
       "<div>\n",
       "<style scoped>\n",
       "    .dataframe tbody tr th:only-of-type {\n",
       "        vertical-align: middle;\n",
       "    }\n",
       "\n",
       "    .dataframe tbody tr th {\n",
       "        vertical-align: top;\n",
       "    }\n",
       "\n",
       "    .dataframe thead th {\n",
       "        text-align: right;\n",
       "    }\n",
       "</style>\n",
       "<table border=\"1\" class=\"dataframe\">\n",
       "  <thead>\n",
       "    <tr style=\"text-align: right;\">\n",
       "      <th></th>\n",
       "      <th>pseudo_household_id</th>\n",
       "      <th>geokey_for_blocking</th>\n",
       "      <th>record_id</th>\n",
       "      <th>ssn</th>\n",
       "      <th>first_name</th>\n",
       "      <th>middle_name</th>\n",
       "      <th>last_name</th>\n",
       "      <th>street_number</th>\n",
       "      <th>street_name</th>\n",
       "      <th>unit_number</th>\n",
       "      <th>po_box</th>\n",
       "      <th>city</th>\n",
       "      <th>state</th>\n",
       "      <th>zipcode</th>\n",
       "      <th>pik</th>\n",
       "      <th>month_of_birth</th>\n",
       "      <th>year_of_birth</th>\n",
       "      <th>day_of_birth</th>\n",
       "      <th>geokey</th>\n",
       "      <th>street_number_for_blocking</th>\n",
       "      <th>street_name_for_blocking</th>\n",
       "      <th>first_name_15</th>\n",
       "      <th>last_name_12</th>\n",
       "      <th>middle_initial</th>\n",
       "      <th>first_name_1</th>\n",
       "      <th>last_name_1</th>\n",
       "      <th>first_name_2</th>\n",
       "      <th>last_name_2</th>\n",
       "      <th>first_name_3</th>\n",
       "      <th>last_name_3</th>\n",
       "      <th>street_name_for_blocking_soundex</th>\n",
       "      <th>zip3</th>\n",
       "    </tr>\n",
       "    <tr>\n",
       "      <th>npartitions=10</th>\n",
       "      <th></th>\n",
       "      <th></th>\n",
       "      <th></th>\n",
       "      <th></th>\n",
       "      <th></th>\n",
       "      <th></th>\n",
       "      <th></th>\n",
       "      <th></th>\n",
       "      <th></th>\n",
       "      <th></th>\n",
       "      <th></th>\n",
       "      <th></th>\n",
       "      <th></th>\n",
       "      <th></th>\n",
       "      <th></th>\n",
       "      <th></th>\n",
       "      <th></th>\n",
       "      <th></th>\n",
       "      <th></th>\n",
       "      <th></th>\n",
       "      <th></th>\n",
       "      <th></th>\n",
       "      <th></th>\n",
       "      <th></th>\n",
       "      <th></th>\n",
       "      <th></th>\n",
       "      <th></th>\n",
       "      <th></th>\n",
       "      <th></th>\n",
       "      <th></th>\n",
       "      <th></th>\n",
       "      <th></th>\n",
       "    </tr>\n",
       "  </thead>\n",
       "  <tbody>\n",
       "    <tr>\n",
       "      <th></th>\n",
       "      <td>large_string[pyarrow]</td>\n",
       "      <td>large_string[pyarrow]</td>\n",
       "      <td>large_string[pyarrow]</td>\n",
       "      <td>large_string[pyarrow]</td>\n",
       "      <td>large_string[pyarrow]</td>\n",
       "      <td>large_string[pyarrow]</td>\n",
       "      <td>large_string[pyarrow]</td>\n",
       "      <td>large_string[pyarrow]</td>\n",
       "      <td>large_string[pyarrow]</td>\n",
       "      <td>large_string[pyarrow]</td>\n",
       "      <td>large_string[pyarrow]</td>\n",
       "      <td>large_string[pyarrow]</td>\n",
       "      <td>large_string[pyarrow]</td>\n",
       "      <td>large_string[pyarrow]</td>\n",
       "      <td>large_string[pyarrow]</td>\n",
       "      <td>int32</td>\n",
       "      <td>int32</td>\n",
       "      <td>int32</td>\n",
       "      <td>large_string[pyarrow]</td>\n",
       "      <td>large_string[pyarrow]</td>\n",
       "      <td>large_string[pyarrow]</td>\n",
       "      <td>large_string[pyarrow]</td>\n",
       "      <td>large_string[pyarrow]</td>\n",
       "      <td>large_string[pyarrow]</td>\n",
       "      <td>large_string[pyarrow]</td>\n",
       "      <td>large_string[pyarrow]</td>\n",
       "      <td>large_string[pyarrow]</td>\n",
       "      <td>large_string[pyarrow]</td>\n",
       "      <td>large_string[pyarrow]</td>\n",
       "      <td>large_string[pyarrow]</td>\n",
       "      <td>large_string[pyarrow]</td>\n",
       "      <td>large_string[pyarrow]</td>\n",
       "    </tr>\n",
       "    <tr>\n",
       "      <th></th>\n",
       "      <td>...</td>\n",
       "      <td>...</td>\n",
       "      <td>...</td>\n",
       "      <td>...</td>\n",
       "      <td>...</td>\n",
       "      <td>...</td>\n",
       "      <td>...</td>\n",
       "      <td>...</td>\n",
       "      <td>...</td>\n",
       "      <td>...</td>\n",
       "      <td>...</td>\n",
       "      <td>...</td>\n",
       "      <td>...</td>\n",
       "      <td>...</td>\n",
       "      <td>...</td>\n",
       "      <td>...</td>\n",
       "      <td>...</td>\n",
       "      <td>...</td>\n",
       "      <td>...</td>\n",
       "      <td>...</td>\n",
       "      <td>...</td>\n",
       "      <td>...</td>\n",
       "      <td>...</td>\n",
       "      <td>...</td>\n",
       "      <td>...</td>\n",
       "      <td>...</td>\n",
       "      <td>...</td>\n",
       "      <td>...</td>\n",
       "      <td>...</td>\n",
       "      <td>...</td>\n",
       "      <td>...</td>\n",
       "      <td>...</td>\n",
       "    </tr>\n",
       "    <tr>\n",
       "      <th>...</th>\n",
       "      <td>...</td>\n",
       "      <td>...</td>\n",
       "      <td>...</td>\n",
       "      <td>...</td>\n",
       "      <td>...</td>\n",
       "      <td>...</td>\n",
       "      <td>...</td>\n",
       "      <td>...</td>\n",
       "      <td>...</td>\n",
       "      <td>...</td>\n",
       "      <td>...</td>\n",
       "      <td>...</td>\n",
       "      <td>...</td>\n",
       "      <td>...</td>\n",
       "      <td>...</td>\n",
       "      <td>...</td>\n",
       "      <td>...</td>\n",
       "      <td>...</td>\n",
       "      <td>...</td>\n",
       "      <td>...</td>\n",
       "      <td>...</td>\n",
       "      <td>...</td>\n",
       "      <td>...</td>\n",
       "      <td>...</td>\n",
       "      <td>...</td>\n",
       "      <td>...</td>\n",
       "      <td>...</td>\n",
       "      <td>...</td>\n",
       "      <td>...</td>\n",
       "      <td>...</td>\n",
       "      <td>...</td>\n",
       "      <td>...</td>\n",
       "    </tr>\n",
       "    <tr>\n",
       "      <th></th>\n",
       "      <td>...</td>\n",
       "      <td>...</td>\n",
       "      <td>...</td>\n",
       "      <td>...</td>\n",
       "      <td>...</td>\n",
       "      <td>...</td>\n",
       "      <td>...</td>\n",
       "      <td>...</td>\n",
       "      <td>...</td>\n",
       "      <td>...</td>\n",
       "      <td>...</td>\n",
       "      <td>...</td>\n",
       "      <td>...</td>\n",
       "      <td>...</td>\n",
       "      <td>...</td>\n",
       "      <td>...</td>\n",
       "      <td>...</td>\n",
       "      <td>...</td>\n",
       "      <td>...</td>\n",
       "      <td>...</td>\n",
       "      <td>...</td>\n",
       "      <td>...</td>\n",
       "      <td>...</td>\n",
       "      <td>...</td>\n",
       "      <td>...</td>\n",
       "      <td>...</td>\n",
       "      <td>...</td>\n",
       "      <td>...</td>\n",
       "      <td>...</td>\n",
       "      <td>...</td>\n",
       "      <td>...</td>\n",
       "      <td>...</td>\n",
       "    </tr>\n",
       "    <tr>\n",
       "      <th></th>\n",
       "      <td>...</td>\n",
       "      <td>...</td>\n",
       "      <td>...</td>\n",
       "      <td>...</td>\n",
       "      <td>...</td>\n",
       "      <td>...</td>\n",
       "      <td>...</td>\n",
       "      <td>...</td>\n",
       "      <td>...</td>\n",
       "      <td>...</td>\n",
       "      <td>...</td>\n",
       "      <td>...</td>\n",
       "      <td>...</td>\n",
       "      <td>...</td>\n",
       "      <td>...</td>\n",
       "      <td>...</td>\n",
       "      <td>...</td>\n",
       "      <td>...</td>\n",
       "      <td>...</td>\n",
       "      <td>...</td>\n",
       "      <td>...</td>\n",
       "      <td>...</td>\n",
       "      <td>...</td>\n",
       "      <td>...</td>\n",
       "      <td>...</td>\n",
       "      <td>...</td>\n",
       "      <td>...</td>\n",
       "      <td>...</td>\n",
       "      <td>...</td>\n",
       "      <td>...</td>\n",
       "      <td>...</td>\n",
       "      <td>...</td>\n",
       "    </tr>\n",
       "  </tbody>\n",
       "</table>\n",
       "</div>\n",
       "<div>Dask Name: hash-join, 1 graph layer</div>"
      ],
      "text/plain": [
       "Dask DataFrame Structure:\n",
       "                  pseudo_household_id    geokey_for_blocking              record_id                    ssn             first_name            middle_name              last_name          street_number            street_name            unit_number                 po_box                   city                  state                zipcode                    pik month_of_birth year_of_birth day_of_birth                 geokey street_number_for_blocking street_name_for_blocking          first_name_15           last_name_12         middle_initial           first_name_1            last_name_1           first_name_2            last_name_2           first_name_3            last_name_3 street_name_for_blocking_soundex                   zip3\n",
       "npartitions=10                                                                                                                                                                                                                                                                                                                                                                                                                                                                                                                                                                                                                                                                                                                                                     \n",
       "                large_string[pyarrow]  large_string[pyarrow]  large_string[pyarrow]  large_string[pyarrow]  large_string[pyarrow]  large_string[pyarrow]  large_string[pyarrow]  large_string[pyarrow]  large_string[pyarrow]  large_string[pyarrow]  large_string[pyarrow]  large_string[pyarrow]  large_string[pyarrow]  large_string[pyarrow]  large_string[pyarrow]          int32         int32        int32  large_string[pyarrow]      large_string[pyarrow]    large_string[pyarrow]  large_string[pyarrow]  large_string[pyarrow]  large_string[pyarrow]  large_string[pyarrow]  large_string[pyarrow]  large_string[pyarrow]  large_string[pyarrow]  large_string[pyarrow]  large_string[pyarrow]            large_string[pyarrow]  large_string[pyarrow]\n",
       "                                  ...                    ...                    ...                    ...                    ...                    ...                    ...                    ...                    ...                    ...                    ...                    ...                    ...                    ...                    ...            ...           ...          ...                    ...                        ...                      ...                    ...                    ...                    ...                    ...                    ...                    ...                    ...                    ...                    ...                              ...                    ...\n",
       "...                               ...                    ...                    ...                    ...                    ...                    ...                    ...                    ...                    ...                    ...                    ...                    ...                    ...                    ...                    ...            ...           ...          ...                    ...                        ...                      ...                    ...                    ...                    ...                    ...                    ...                    ...                    ...                    ...                    ...                              ...                    ...\n",
       "                                  ...                    ...                    ...                    ...                    ...                    ...                    ...                    ...                    ...                    ...                    ...                    ...                    ...                    ...                    ...            ...           ...          ...                    ...                        ...                      ...                    ...                    ...                    ...                    ...                    ...                    ...                    ...                    ...                    ...                              ...                    ...\n",
       "                                  ...                    ...                    ...                    ...                    ...                    ...                    ...                    ...                    ...                    ...                    ...                    ...                    ...                    ...                    ...            ...           ...          ...                    ...                        ...                      ...                    ...                    ...                    ...                    ...                    ...                    ...                    ...                    ...                    ...                              ...                    ...\n",
       "Dask Name: hash-join, 1 graph layer"
      ]
     },
     "execution_count": 100,
     "metadata": {},
     "output_type": "execute_result"
    }
   ],
   "source": [
    "hhcomp_reference_file = df_ops.persist(geokeys_by_eligible_household.merge(\n",
    "    eligible_geobase_reference_file_records,\n",
    "    on=\"geokey_for_blocking\",\n",
    "))\n",
    "hhcomp_reference_file"
   ]
  },
  {
   "cell_type": "code",
   "execution_count": 101,
   "id": "ce26ecbb-d8ff-4ac5-bffa-6d21e8dc3cf9",
   "metadata": {
    "execution": {
     "iopub.execute_input": "2024-02-12T19:37:43.673281Z",
     "iopub.status.busy": "2024-02-12T19:37:43.672731Z",
     "iopub.status.idle": "2024-02-12T19:37:43.717605Z",
     "shell.execute_reply": "2024-02-12T19:37:43.716668Z"
    },
    "papermill": {
     "duration": 0.104988,
     "end_time": "2024-02-12T19:37:43.720388",
     "exception": false,
     "start_time": "2024-02-12T19:37:43.615400",
     "status": "completed"
    },
    "tags": []
   },
   "outputs": [
    {
     "data": {
      "text/plain": [
       "11734"
      ]
     },
     "execution_count": 101,
     "metadata": {},
     "output_type": "execute_result"
    }
   ],
   "source": [
    "len(hhcomp_reference_file)"
   ]
  },
  {
   "cell_type": "code",
   "execution_count": 102,
   "id": "fa0a1a66-1c18-48ad-a76f-11150f71a0bb",
   "metadata": {
    "execution": {
     "iopub.execute_input": "2024-02-12T19:37:43.837785Z",
     "iopub.status.busy": "2024-02-12T19:37:43.837362Z",
     "iopub.status.idle": "2024-02-12T19:37:45.227642Z",
     "shell.execute_reply": "2024-02-12T19:37:45.226543Z"
    },
    "papermill": {
     "duration": 1.452816,
     "end_time": "2024-02-12T19:37:45.230899",
     "exception": false,
     "start_time": "2024-02-12T19:37:43.778083",
     "status": "completed"
    },
    "tags": []
   },
   "outputs": [],
   "source": [
    "person_linkage_cascade.start_module(\n",
    "    name=\"hhcompsearch\",\n",
    "    reference_file=hhcomp_reference_file,\n",
    "    reference_file_name=\"hhcomp_reference_file\",\n",
    "    cut_columns=[\"pseudo_household_id\"],\n",
    "    # HACK: How else do we deal with the fact that pseudo_household_id\n",
    "    # isn't used for matching?\n",
    "    bayes_factor_cut_columns=1_000,\n",
    "    matching_columns=[\n",
    "        \"first_name_15\",\n",
    "        \"last_name_12\",\n",
    "        \"middle_initial\",\n",
    "        \"day_of_birth\",\n",
    "        \"month_of_birth\",\n",
    "        \"year_of_birth\",\n",
    "    ],\n",
    ")"
   ]
  },
  {
   "cell_type": "markdown",
   "id": "a86727cf-b024-4caf-a610-6f7950faec2d",
   "metadata": {
    "papermill": {
     "duration": 0.056524,
     "end_time": "2024-02-12T19:37:45.429031",
     "exception": false,
     "start_time": "2024-02-12T19:37:45.372507",
     "status": "completed"
    },
    "tags": []
   },
   "source": [
    "## Pass 1: Block on initials"
   ]
  },
  {
   "cell_type": "code",
   "execution_count": 103,
   "id": "83fbf88d-044e-4764-a049-ad6c4520bd7f",
   "metadata": {
    "execution": {
     "iopub.execute_input": "2024-02-12T19:37:45.546059Z",
     "iopub.status.busy": "2024-02-12T19:37:45.545640Z",
     "iopub.status.idle": "2024-02-12T19:38:01.113964Z",
     "shell.execute_reply": "2024-02-12T19:38:01.113154Z"
    },
    "papermill": {
     "duration": 15.629631,
     "end_time": "2024-02-12T19:38:01.115985",
     "exception": false,
     "start_time": "2024-02-12T19:37:45.486354",
     "status": "completed"
    },
    "tags": []
   },
   "outputs": [
    {
     "name": "stdout",
     "output_type": "stream",
     "text": [
      "Running initials of hhcompsearch\n",
      "Files to link are 11,734 and 1,192 records\n"
     ]
    },
    {
     "name": "stderr",
     "output_type": "stream",
     "text": [
      "24/02/12 19:37:47 WARN SimpleFunctionRegistry: The function jaro_sim replaced a previously registered function.\n",
      "24/02/12 19:37:47 WARN SimpleFunctionRegistry: The function jaro_winkler replaced a previously registered function.\n",
      "24/02/12 19:37:47 WARN SimpleFunctionRegistry: The function jaccard replaced a previously registered function.\n",
      "24/02/12 19:37:47 WARN SimpleFunctionRegistry: The function cosine_distance replaced a previously registered function.\n",
      "24/02/12 19:37:47 WARN SimpleFunctionRegistry: The function dmetaphone replaced a previously registered function.\n",
      "24/02/12 19:37:47 WARN SimpleFunctionRegistry: The function dmetaphonealt replaced a previously registered function.\n",
      "24/02/12 19:37:47 WARN SimpleFunctionRegistry: The function qgramtokeniser replaced a previously registered function.\n",
      "24/02/12 19:37:47 WARN SimpleFunctionRegistry: The function damerau_levenshtein replaced a previously registered function.\n"
     ]
    },
    {
     "name": "stdout",
     "output_type": "stream",
     "text": [
      "Number of pairs that will be compared: 237\n"
     ]
    },
    {
     "name": "stderr",
     "output_type": "stream",
     "text": [
      "24/02/12 19:37:48 WARN DataSource: All paths were ignored:\n",
      "  file:/ihme/homes/zmbc/src/vivarium_research_prl/linkage/person_linkage_case_study/output/small_sample/tmpCheckpoints/2018ac72-63d3-463e-bac8-b54c65966a4a/__splink__df_concat_with_tf_9c69b9088\n"
     ]
    },
    {
     "name": "stderr",
     "output_type": "stream",
     "text": [
      "\r",
      "[Stage 638:===========================================>         (83 + 15) / 100]\r"
     ]
    },
    {
     "name": "stderr",
     "output_type": "stream",
     "text": [
      "\r",
      "                                                                                \r"
     ]
    },
    {
     "name": "stderr",
     "output_type": "stream",
     "text": [
      "24/02/12 19:37:54 WARN DataSource: All paths were ignored:\n",
      "  file:/ihme/homes/zmbc/src/vivarium_research_prl/linkage/person_linkage_case_study/output/small_sample/tmpCheckpoints/2018ac72-63d3-463e-bac8-b54c65966a4a/__splink__df_predict_4482f9563\n"
     ]
    },
    {
     "data": {
      "text/html": [
       "\n",
       "        <iframe\n",
       "            width=\"100%\"\n",
       "            height=\"1200\"\n",
       "            src=\"./splink_temp/hhcompsearch__initials.html\"\n",
       "            frameborder=\"0\"\n",
       "            allowfullscreen\n",
       "            \n",
       "        ></iframe>\n",
       "        "
      ],
      "text/plain": [
       "<IPython.lib.display.IFrame at 0x7fed422a7d30>"
      ]
     },
     "metadata": {},
     "output_type": "display_data"
    },
    {
     "name": "stdout",
     "output_type": "stream",
     "text": [
      "Imbalanced dataframe: too_few=False, too_many=True, too_large=False\n",
      "count      36.000000\n",
      "mean     1000.083333\n",
      "std       423.509378\n",
      "min       521.000000\n",
      "25%       527.750000\n",
      "50%       922.000000\n",
      "75%      1325.000000\n",
      "max      2117.000000\n",
      "dtype: float64\n",
      "Creating partitions of 100MB\n"
     ]
    },
    {
     "name": "stdout",
     "output_type": "stream",
     "text": [
      "Found 79 matches; 10.24% still eligible to match\n"
     ]
    }
   ],
   "source": [
    "person_linkage_cascade.run_matching_pass(\n",
    "    pass_name=\"initials\",\n",
    "    blocking_columns=[\"first_name_1\", \"last_name_1\"],\n",
    ")"
   ]
  },
  {
   "cell_type": "markdown",
   "id": "ca08637b-760c-4633-b0c4-23a6d4c01dd1",
   "metadata": {
    "papermill": {
     "duration": 0.060018,
     "end_time": "2024-02-12T19:38:01.237188",
     "exception": false,
     "start_time": "2024-02-12T19:38:01.177170",
     "status": "completed"
    },
    "tags": []
   },
   "source": [
    "## Pass 2: Block on year of birth"
   ]
  },
  {
   "cell_type": "code",
   "execution_count": 104,
   "id": "fccbc8e1-230c-4b59-95b4-e8ba97d566a3",
   "metadata": {
    "execution": {
     "iopub.execute_input": "2024-02-12T19:38:01.354817Z",
     "iopub.status.busy": "2024-02-12T19:38:01.354388Z",
     "iopub.status.idle": "2024-02-12T19:38:15.166727Z",
     "shell.execute_reply": "2024-02-12T19:38:15.165913Z"
    },
    "papermill": {
     "duration": 13.874221,
     "end_time": "2024-02-12T19:38:15.168900",
     "exception": false,
     "start_time": "2024-02-12T19:38:01.294679",
     "status": "completed"
    },
    "tags": []
   },
   "outputs": [
    {
     "name": "stdout",
     "output_type": "stream",
     "text": [
      "Running year of birth of hhcompsearch\n",
      "Files to link are 11,734 and 1,129 records\n"
     ]
    },
    {
     "name": "stderr",
     "output_type": "stream",
     "text": [
      "24/02/12 19:38:03 WARN SimpleFunctionRegistry: The function jaro_sim replaced a previously registered function.\n",
      "24/02/12 19:38:03 WARN SimpleFunctionRegistry: The function jaro_winkler replaced a previously registered function.\n",
      "24/02/12 19:38:03 WARN SimpleFunctionRegistry: The function jaccard replaced a previously registered function.\n",
      "24/02/12 19:38:03 WARN SimpleFunctionRegistry: The function cosine_distance replaced a previously registered function.\n",
      "24/02/12 19:38:03 WARN SimpleFunctionRegistry: The function dmetaphone replaced a previously registered function.\n",
      "24/02/12 19:38:03 WARN SimpleFunctionRegistry: The function dmetaphonealt replaced a previously registered function.\n",
      "24/02/12 19:38:03 WARN SimpleFunctionRegistry: The function qgramtokeniser replaced a previously registered function.\n",
      "24/02/12 19:38:03 WARN SimpleFunctionRegistry: The function damerau_levenshtein replaced a previously registered function.\n"
     ]
    },
    {
     "name": "stdout",
     "output_type": "stream",
     "text": [
      "Number of pairs that will be compared: 81\n"
     ]
    },
    {
     "name": "stderr",
     "output_type": "stream",
     "text": [
      "24/02/12 19:38:04 WARN DataSource: All paths were ignored:\n",
      "  file:/ihme/homes/zmbc/src/vivarium_research_prl/linkage/person_linkage_case_study/output/small_sample/tmpCheckpoints/2018ac72-63d3-463e-bac8-b54c65966a4a/__splink__df_concat_with_tf_ef57255c7\n"
     ]
    },
    {
     "name": "stderr",
     "output_type": "stream",
     "text": [
      "\r",
      "[Stage 670:=========================================>           (79 + 15) / 100]\r"
     ]
    },
    {
     "name": "stderr",
     "output_type": "stream",
     "text": [
      "\r",
      "                                                                                \r"
     ]
    },
    {
     "name": "stderr",
     "output_type": "stream",
     "text": [
      "24/02/12 19:38:09 WARN DataSource: All paths were ignored:\n",
      "  file:/ihme/homes/zmbc/src/vivarium_research_prl/linkage/person_linkage_case_study/output/small_sample/tmpCheckpoints/2018ac72-63d3-463e-bac8-b54c65966a4a/__splink__df_predict_1ce66c669\n"
     ]
    },
    {
     "data": {
      "text/html": [
       "\n",
       "        <iframe\n",
       "            width=\"100%\"\n",
       "            height=\"1200\"\n",
       "            src=\"./splink_temp/hhcompsearch__year_of_birth.html\"\n",
       "            frameborder=\"0\"\n",
       "            allowfullscreen\n",
       "            \n",
       "        ></iframe>\n",
       "        "
      ],
      "text/plain": [
       "<IPython.lib.display.IFrame at 0x7fed41839780>"
      ]
     },
     "metadata": {},
     "output_type": "display_data"
    },
    {
     "name": "stdout",
     "output_type": "stream",
     "text": [
      "Found 15 matches; 10.12% still eligible to match\n"
     ]
    }
   ],
   "source": [
    "person_linkage_cascade.run_matching_pass(\n",
    "    pass_name=\"year of birth\",\n",
    "    blocking_columns=[\"year_of_birth\"],\n",
    ")"
   ]
  },
  {
   "cell_type": "markdown",
   "id": "d9bd99a1-3174-435f-bd22-49ffa06ec1d6",
   "metadata": {
    "papermill": {
     "duration": 0.059095,
     "end_time": "2024-02-12T19:38:15.292260",
     "exception": false,
     "start_time": "2024-02-12T19:38:15.233165",
     "status": "completed"
    },
    "tags": []
   },
   "source": [
    "## Post-process and confirm PIKs"
   ]
  },
  {
   "cell_type": "code",
   "execution_count": 105,
   "id": "9d61a681-a87d-4a4a-a89e-146b044fd22e",
   "metadata": {
    "execution": {
     "iopub.execute_input": "2024-02-12T19:38:15.411195Z",
     "iopub.status.busy": "2024-02-12T19:38:15.410439Z",
     "iopub.status.idle": "2024-02-12T19:38:24.731010Z",
     "shell.execute_reply": "2024-02-12T19:38:24.729902Z"
    },
    "papermill": {
     "duration": 9.383791,
     "end_time": "2024-02-12T19:38:24.734581",
     "exception": false,
     "start_time": "2024-02-12T19:38:15.350790",
     "status": "completed"
    },
    "tags": []
   },
   "outputs": [
    {
     "name": "stdout",
     "output_type": "stream",
     "text": [
      "40 input records linked to deceased people, dropping links\n"
     ]
    },
    {
     "name": "stdout",
     "output_type": "stream",
     "text": [
      "3 input records linked to multiple PIKs, dropping links\n"
     ]
    }
   ],
   "source": [
    "person_linkage_cascade.confirm_piks()"
   ]
  },
  {
   "cell_type": "code",
   "execution_count": 106,
   "id": "8f147e2d-7510-4aad-bc30-1bbda2b4091f",
   "metadata": {
    "execution": {
     "iopub.execute_input": "2024-02-12T19:38:25.012195Z",
     "iopub.status.busy": "2024-02-12T19:38:25.011710Z",
     "iopub.status.idle": "2024-02-12T19:38:25.154280Z",
     "shell.execute_reply": "2024-02-12T19:38:25.153245Z"
    },
    "papermill": {
     "duration": 0.30064,
     "end_time": "2024-02-12T19:38:25.157468",
     "exception": false,
     "start_time": "2024-02-12T19:38:24.856828",
     "status": "completed"
    },
    "tags": []
   },
   "outputs": [
    {
     "data": {
      "text/plain": [
       "module_name   pass_name                                           \n",
       "geosearch     geokey                                                  6734\n",
       "              some name and DOB information                           1958\n",
       "              house number and street name Soundex                     595\n",
       "namesearch    DOB and NYSIIS of name                                   207\n",
       "dobsearch     first two characters of first name and year of birth     130\n",
       "namesearch    DOB and initials                                         128\n",
       "              birthday and first two characters of name                 47\n",
       "dobsearch     reverse Soundex of name                                   31\n",
       "hhcompsearch  initials                                                  28\n",
       "              year of birth                                             10\n",
       "namesearch    year of birth and first two characters of name             4\n",
       "dtype: int64"
      ]
     },
     "execution_count": 106,
     "metadata": {},
     "output_type": "execute_result"
    }
   ],
   "source": [
    "df_ops.compute(person_linkage_cascade.confirmed_piks.groupby([\"module_name\", \"pass_name\"]).size()).sort_values(ascending=False)"
   ]
  },
  {
   "cell_type": "markdown",
   "id": "fc0ba651-913d-4eb4-9d3a-e391b9efc8d8",
   "metadata": {
    "papermill": {
     "duration": 0.105489,
     "end_time": "2024-02-12T19:38:25.386923",
     "exception": false,
     "start_time": "2024-02-12T19:38:25.281434",
     "status": "completed"
    },
    "tags": []
   },
   "source": [
    "# Resulting PIKs"
   ]
  },
  {
   "cell_type": "code",
   "execution_count": 107,
   "id": "c7a239d1-e1d8-435d-9af5-7c71ba3d64d1",
   "metadata": {
    "execution": {
     "iopub.execute_input": "2024-02-12T19:38:25.603096Z",
     "iopub.status.busy": "2024-02-12T19:38:25.602606Z",
     "iopub.status.idle": "2024-02-12T19:38:26.579782Z",
     "shell.execute_reply": "2024-02-12T19:38:26.578499Z"
    },
    "papermill": {
     "duration": 1.089271,
     "end_time": "2024-02-12T19:38:26.582414",
     "exception": false,
     "start_time": "2024-02-12T19:38:25.493143",
     "status": "completed"
    },
    "tags": []
   },
   "outputs": [],
   "source": [
    "pik_values = df_ops.drop_duplicates(\n",
    "    person_linkage_cascade.confirmed_piks\n",
    "        .rename(columns={\"record_id_raw_input_file\": \"record_id\"})\n",
    "        [[\"record_id\", \"pik\"]]\n",
    ")"
   ]
  },
  {
   "cell_type": "code",
   "execution_count": 108,
   "id": "e9271823-d2b3-4f41-9d77-9ad5bb117397",
   "metadata": {
    "execution": {
     "iopub.execute_input": "2024-02-12T19:38:26.706704Z",
     "iopub.status.busy": "2024-02-12T19:38:26.705631Z",
     "iopub.status.idle": "2024-02-12T19:38:27.374239Z",
     "shell.execute_reply": "2024-02-12T19:38:27.373393Z"
    },
    "papermill": {
     "duration": 0.732069,
     "end_time": "2024-02-12T19:38:27.376284",
     "exception": false,
     "start_time": "2024-02-12T19:38:26.644215",
     "status": "completed"
    },
    "tags": []
   },
   "outputs": [
    {
     "data": {
      "text/html": [
       "<div><strong>Dask DataFrame Structure:</strong></div>\n",
       "<div>\n",
       "<style scoped>\n",
       "    .dataframe tbody tr th:only-of-type {\n",
       "        vertical-align: middle;\n",
       "    }\n",
       "\n",
       "    .dataframe tbody tr th {\n",
       "        vertical-align: top;\n",
       "    }\n",
       "\n",
       "    .dataframe thead th {\n",
       "        text-align: right;\n",
       "    }\n",
       "</style>\n",
       "<table border=\"1\" class=\"dataframe\">\n",
       "  <thead>\n",
       "    <tr style=\"text-align: right;\">\n",
       "      <th></th>\n",
       "      <th>record_id</th>\n",
       "      <th>household_id</th>\n",
       "      <th>first_name</th>\n",
       "      <th>middle_initial</th>\n",
       "      <th>last_name</th>\n",
       "      <th>age</th>\n",
       "      <th>date_of_birth</th>\n",
       "      <th>street_number</th>\n",
       "      <th>street_name</th>\n",
       "      <th>unit_number</th>\n",
       "      <th>city</th>\n",
       "      <th>state</th>\n",
       "      <th>zipcode</th>\n",
       "      <th>housing_type</th>\n",
       "      <th>relationship_to_reference_person</th>\n",
       "      <th>sex</th>\n",
       "      <th>race_ethnicity</th>\n",
       "      <th>year</th>\n",
       "      <th>pik</th>\n",
       "    </tr>\n",
       "    <tr>\n",
       "      <th>npartitions=18</th>\n",
       "      <th></th>\n",
       "      <th></th>\n",
       "      <th></th>\n",
       "      <th></th>\n",
       "      <th></th>\n",
       "      <th></th>\n",
       "      <th></th>\n",
       "      <th></th>\n",
       "      <th></th>\n",
       "      <th></th>\n",
       "      <th></th>\n",
       "      <th></th>\n",
       "      <th></th>\n",
       "      <th></th>\n",
       "      <th></th>\n",
       "      <th></th>\n",
       "      <th></th>\n",
       "      <th></th>\n",
       "      <th></th>\n",
       "    </tr>\n",
       "  </thead>\n",
       "  <tbody>\n",
       "    <tr>\n",
       "      <th></th>\n",
       "      <td>large_string[pyarrow]</td>\n",
       "      <td>large_string[pyarrow]</td>\n",
       "      <td>large_string[pyarrow]</td>\n",
       "      <td>large_string[pyarrow]</td>\n",
       "      <td>large_string[pyarrow]</td>\n",
       "      <td>large_string[pyarrow]</td>\n",
       "      <td>large_string[pyarrow]</td>\n",
       "      <td>large_string[pyarrow]</td>\n",
       "      <td>large_string[pyarrow]</td>\n",
       "      <td>large_string[pyarrow]</td>\n",
       "      <td>large_string[pyarrow]</td>\n",
       "      <td>category[unknown]</td>\n",
       "      <td>large_string[pyarrow]</td>\n",
       "      <td>large_string[pyarrow]</td>\n",
       "      <td>category[unknown]</td>\n",
       "      <td>category[unknown]</td>\n",
       "      <td>category[unknown]</td>\n",
       "      <td>int64</td>\n",
       "      <td>large_string[pyarrow]</td>\n",
       "    </tr>\n",
       "    <tr>\n",
       "      <th></th>\n",
       "      <td>...</td>\n",
       "      <td>...</td>\n",
       "      <td>...</td>\n",
       "      <td>...</td>\n",
       "      <td>...</td>\n",
       "      <td>...</td>\n",
       "      <td>...</td>\n",
       "      <td>...</td>\n",
       "      <td>...</td>\n",
       "      <td>...</td>\n",
       "      <td>...</td>\n",
       "      <td>...</td>\n",
       "      <td>...</td>\n",
       "      <td>...</td>\n",
       "      <td>...</td>\n",
       "      <td>...</td>\n",
       "      <td>...</td>\n",
       "      <td>...</td>\n",
       "      <td>...</td>\n",
       "    </tr>\n",
       "    <tr>\n",
       "      <th>...</th>\n",
       "      <td>...</td>\n",
       "      <td>...</td>\n",
       "      <td>...</td>\n",
       "      <td>...</td>\n",
       "      <td>...</td>\n",
       "      <td>...</td>\n",
       "      <td>...</td>\n",
       "      <td>...</td>\n",
       "      <td>...</td>\n",
       "      <td>...</td>\n",
       "      <td>...</td>\n",
       "      <td>...</td>\n",
       "      <td>...</td>\n",
       "      <td>...</td>\n",
       "      <td>...</td>\n",
       "      <td>...</td>\n",
       "      <td>...</td>\n",
       "      <td>...</td>\n",
       "      <td>...</td>\n",
       "    </tr>\n",
       "    <tr>\n",
       "      <th></th>\n",
       "      <td>...</td>\n",
       "      <td>...</td>\n",
       "      <td>...</td>\n",
       "      <td>...</td>\n",
       "      <td>...</td>\n",
       "      <td>...</td>\n",
       "      <td>...</td>\n",
       "      <td>...</td>\n",
       "      <td>...</td>\n",
       "      <td>...</td>\n",
       "      <td>...</td>\n",
       "      <td>...</td>\n",
       "      <td>...</td>\n",
       "      <td>...</td>\n",
       "      <td>...</td>\n",
       "      <td>...</td>\n",
       "      <td>...</td>\n",
       "      <td>...</td>\n",
       "      <td>...</td>\n",
       "    </tr>\n",
       "    <tr>\n",
       "      <th></th>\n",
       "      <td>...</td>\n",
       "      <td>...</td>\n",
       "      <td>...</td>\n",
       "      <td>...</td>\n",
       "      <td>...</td>\n",
       "      <td>...</td>\n",
       "      <td>...</td>\n",
       "      <td>...</td>\n",
       "      <td>...</td>\n",
       "      <td>...</td>\n",
       "      <td>...</td>\n",
       "      <td>...</td>\n",
       "      <td>...</td>\n",
       "      <td>...</td>\n",
       "      <td>...</td>\n",
       "      <td>...</td>\n",
       "      <td>...</td>\n",
       "      <td>...</td>\n",
       "      <td>...</td>\n",
       "    </tr>\n",
       "  </tbody>\n",
       "</table>\n",
       "</div>\n",
       "<div>Dask Name: hash-join, 1 graph layer</div>"
      ],
      "text/plain": [
       "Dask DataFrame Structure:\n",
       "                            record_id           household_id             first_name         middle_initial              last_name                    age          date_of_birth          street_number            street_name            unit_number                   city              state                zipcode           housing_type relationship_to_reference_person                sex     race_ethnicity   year                    pik\n",
       "npartitions=18                                                                                                                                                                                                                                                                                                                                                                                                                                   \n",
       "                large_string[pyarrow]  large_string[pyarrow]  large_string[pyarrow]  large_string[pyarrow]  large_string[pyarrow]  large_string[pyarrow]  large_string[pyarrow]  large_string[pyarrow]  large_string[pyarrow]  large_string[pyarrow]  large_string[pyarrow]  category[unknown]  large_string[pyarrow]  large_string[pyarrow]                category[unknown]  category[unknown]  category[unknown]  int64  large_string[pyarrow]\n",
       "                                  ...                    ...                    ...                    ...                    ...                    ...                    ...                    ...                    ...                    ...                    ...                ...                    ...                    ...                              ...                ...                ...    ...                    ...\n",
       "...                               ...                    ...                    ...                    ...                    ...                    ...                    ...                    ...                    ...                    ...                    ...                ...                    ...                    ...                              ...                ...                ...    ...                    ...\n",
       "                                  ...                    ...                    ...                    ...                    ...                    ...                    ...                    ...                    ...                    ...                    ...                ...                    ...                    ...                              ...                ...                ...    ...                    ...\n",
       "                                  ...                    ...                    ...                    ...                    ...                    ...                    ...                    ...                    ...                    ...                    ...                ...                    ...                    ...                              ...                ...                ...    ...                    ...\n",
       "Dask Name: hash-join, 1 graph layer"
      ]
     },
     "execution_count": 108,
     "metadata": {},
     "output_type": "execute_result"
    }
   ],
   "source": [
    "census_2030_piked = census_2030_raw_input.copy()\n",
    "kwargs = {}\n",
    "if compute_engine != 'dask':\n",
    "    kwargs['validate'] = '1:1'\n",
    "census_2030_piked = df_ops.persist(census_2030_piked.merge(\n",
    "    pik_values,\n",
    "    how=\"left\",\n",
    "    on=\"record_id\",\n",
    "    **kwargs,\n",
    "))\n",
    "census_2030_piked"
   ]
  },
  {
   "cell_type": "code",
   "execution_count": 109,
   "id": "5e6566f0-e77b-4b21-968c-05a7ef08eff6",
   "metadata": {
    "editable": true,
    "execution": {
     "iopub.execute_input": "2024-02-12T19:38:27.497023Z",
     "iopub.status.busy": "2024-02-12T19:38:27.496406Z",
     "iopub.status.idle": "2024-02-12T19:38:27.595538Z",
     "shell.execute_reply": "2024-02-12T19:38:27.594708Z"
    },
    "papermill": {
     "duration": 0.161975,
     "end_time": "2024-02-12T19:38:27.597662",
     "exception": false,
     "start_time": "2024-02-12T19:38:27.435687",
     "status": "completed"
    },
    "slideshow": {
     "slide_type": ""
    },
    "tags": []
   },
   "outputs": [
    {
     "name": "stdout",
     "output_type": "stream",
     "text": [
      "89.51% of the input records were PIKed\n"
     ]
    }
   ],
   "source": [
    "piked_proportion = census_2030_piked.pik.notnull().mean()\n",
    "# Compare with 90.28% of input records PIKed in the 2010 CUF,\n",
    "# as reported in Wagner and Layne, Table 2, p. 18\n",
    "print(f'{df_ops.compute(piked_proportion):.2%} of the input records were PIKed')"
   ]
  },
  {
   "cell_type": "code",
   "execution_count": 110,
   "id": "ffc185e2-1d4e-4d8c-98a0-3c0c3d1641cb",
   "metadata": {
    "editable": true,
    "execution": {
     "iopub.execute_input": "2024-02-12T19:38:27.721066Z",
     "iopub.status.busy": "2024-02-12T19:38:27.720272Z",
     "iopub.status.idle": "2024-02-12T19:38:27.908829Z",
     "shell.execute_reply": "2024-02-12T19:38:27.907612Z"
    },
    "papermill": {
     "duration": 0.253635,
     "end_time": "2024-02-12T19:38:27.910917",
     "exception": false,
     "start_time": "2024-02-12T19:38:27.657282",
     "status": "completed"
    },
    "slideshow": {
     "slide_type": ""
    },
    "tags": []
   },
   "outputs": [],
   "source": [
    "df_ops.to_parquet(census_2030_piked, f'{output_dir}/census_2030_piked.parquet')"
   ]
  },
  {
   "cell_type": "code",
   "execution_count": 111,
   "id": "822eb452-ca69-48fc-b1d6-c3425fd5f39e",
   "metadata": {
    "execution": {
     "iopub.execute_input": "2024-02-12T19:38:28.049260Z",
     "iopub.status.busy": "2024-02-12T19:38:28.048650Z",
     "iopub.status.idle": "2024-02-12T19:38:28.244417Z",
     "shell.execute_reply": "2024-02-12T19:38:28.243578Z"
    },
    "papermill": {
     "duration": 0.276871,
     "end_time": "2024-02-12T19:38:28.246706",
     "exception": false,
     "start_time": "2024-02-12T19:38:27.969835",
     "status": "completed"
    },
    "tags": []
   },
   "outputs": [],
   "source": [
    "df_ops.to_parquet(person_linkage_cascade.confirmed_piks, f'{output_dir}/confirmed_piks.parquet')"
   ]
  },
  {
   "cell_type": "code",
   "execution_count": 112,
   "id": "e5ee7cdb-bac3-4245-b1e1-0cdcb6652a27",
   "metadata": {
    "editable": true,
    "execution": {
     "iopub.execute_input": "2024-02-12T19:38:28.367211Z",
     "iopub.status.busy": "2024-02-12T19:38:28.366578Z",
     "iopub.status.idle": "2024-02-12T19:38:28.372303Z",
     "shell.execute_reply": "2024-02-12T19:38:28.371222Z"
    },
    "papermill": {
     "duration": 0.068873,
     "end_time": "2024-02-12T19:38:28.374645",
     "exception": false,
     "start_time": "2024-02-12T19:38:28.305772",
     "status": "completed"
    },
    "slideshow": {
     "slide_type": ""
    },
    "tags": []
   },
   "outputs": [
    {
     "name": "stdout",
     "output_type": "stream",
     "text": [
      "2024-02-12 11:38:28.368543\n"
     ]
    }
   ],
   "source": [
    "# NOTE: Can't use the magic ! date here for reasons I don't really understand having\n",
    "# to do with the number of open file handles. This works fine.\n",
    "print(datetime.datetime.now())"
   ]
  }
 ],
 "metadata": {
  "kernelspec": {
   "display_name": "Python 3 (ipykernel)",
   "language": "python",
   "name": "python3"
  },
  "language_info": {
   "codemirror_mode": {
    "name": "ipython",
    "version": 3
   },
   "file_extension": ".py",
   "mimetype": "text/x-python",
   "name": "python",
   "nbconvert_exporter": "python",
   "pygments_lexer": "ipython3",
   "version": "3.10.13"
  },
  "papermill": {
   "default_parameters": {},
   "duration": 549.950302,
   "end_time": "2024-02-12T19:38:31.058280",
   "environment_variables": {},
   "exception": null,
   "input_path": "person_linkage_case_study.ipynb",
   "output_path": "person_linkage_case_study_small_sample_dask_spark_distributed.ipynb",
   "parameters": {
    "compute_engine": "dask",
    "splink_engine": "spark"
   },
   "start_time": "2024-02-12T19:29:21.107978",
   "version": "2.5.0"
  },
  "toc-autonumbering": false,
  "toc-showcode": false,
  "toc-showtags": false
 },
 "nbformat": 4,
 "nbformat_minor": 5
}