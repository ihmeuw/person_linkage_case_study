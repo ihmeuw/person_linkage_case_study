{
 "cells": [
  {
   "cell_type": "markdown",
   "id": "ed9e49e5-db4e-4665-9892-0a679dcc22c5",
   "metadata": {
    "papermill": {
     "duration": 0.025855,
     "end_time": "2023-12-01T17:57:44.918562",
     "exception": false,
     "start_time": "2023-12-01T17:57:44.892707",
     "status": "completed"
    },
    "tags": []
   },
   "source": [
    "# **Person linkage case study with small-scale sample data**\n",
    "\n",
    "In this case study, we imagine running a person linkage to add unique identifiers to a simulated 2030 Census Unedited File (CUF).\n",
    "We emulate the methods of the Census Bureau's Person Identification Validation System (PVS) using publicly available descriptions.\n",
    "The PVS aims to give people in the input file (the CUF, in this case) unique identifiers that can be used to link them to other administrative records.\n",
    "\n",
    "We approximate the (highly confidential) input data to PVS by using simulated data from our pseudopeople package.\n",
    "See the `generate_simulated_data` notebook for details about this.\n",
    "\n",
    "## Sources\n",
    "\n",
    "These papers describe PVS as their main subject:\n",
    "\n",
    "* Wagner and Layne. The Person Identification Validation System (PVS): Applying the Center for Administrative Records Research and Applications’ (CARRA) Record Linkage Software. 2014. https://www.census.gov/content/dam/Census/library/working-papers/2014/adrm/carra-wp-2014-01.pdf ([archived](https://web.archive.org/web/20230216043235/https://www.census.gov/content/dam/Census/library/working-papers/2014/adrm/carra-wp-2014-01.pdf))\n",
    "* Layne, Wagner, and Rothhaas. Estimating Record Linkage False Match Rate for the Person Identification Validation System. 2014. https://www.census.gov/content/dam/Census/library/working-papers/2014/adrm/carra-wp-2014-02.pdf ([archived](https://web.archive.org/web/20220121051156/https://www.census.gov/content/dam/Census/library/working-papers/2014/adrm/carra-wp-2014-02.pdf))\n",
    "* Alexander et al. Creating a Longitudinal Data Infrastructure at the Census Bureau. 2015. https://www.census.gov/content/dam/Census/library/working-papers/2015/adrm/2015-alexander.pdf ([archived](https://web.archive.org/web/20170723192315/http://www.census.gov/content/dam/Census/library/working-papers/2015/adrm/2015-alexander.pdf))\n",
    "* Massey and O'Hara. Person Matching in Historical Files using the Census Bureau’s Person Validation System. 2014. https://www.census.gov/content/dam/Census/library/working-papers/2014/adrm/carra-wp-2014-11.pdf ([archived](https://web.archive.org/web/20221018074814/http://www.census.gov/content/dam/Census/library/working-papers/2014/adrm/carra-wp-2014-11.pdf))\n",
    "* NORC. Assessment of the U.S. Census Bureau’s Person Identification Validation System. 2011. https://www.norc.org/content/dam/norc-org/pdfs/PVS%20Assessment%20Report%20FINAL%20JULY%202011.pdf ([archived](https://web.archive.org/web/20230705005935/https://www.norc.org/content/dam/norc-org/pdfs/PVS%20Assessment%20Report%20FINAL%20JULY%202011.pdf))\n",
    "\n",
    "These apply PVS to some linking task, and in doing so describe it in some detail:\n",
    "\n",
    "* Brown et al. Real-Time 2020 Administrative Record Census Simulation. 2023. https://www2.census.gov/programs-surveys/decennial/2020/program-management/evaluate-docs/EAE-2020-admin-records-experiment.pdf ([archived](https://web.archive.org/web/20230521191811/https://www2.census.gov/programs-surveys/decennial/2020/program-management/evaluate-docs/EAE-2020-admin-records-experiment.pdf))\n",
    "* Massey et al. Linking the 1940 U.S. Census with Modern Data. 2018. https://www.ncbi.nlm.nih.gov/pmc/articles/PMC6530596/ ([DOI](https://doi.org/10.1080%2F01615440.2018.1507772))\n",
    "* Luque and Wagner. Assessing Coverage and Quality of the 2007 Prototype Census Kidlink Database. 2015. https://www.census.gov/content/dam/Census/library/working-papers/2015/adrm/carra-wp-2015-07.pdf ([archived](https://web.archive.org/web/20220808205231/http://www.census.gov/content/dam/Census/library/working-papers/2015/adrm/carra-wp-2015-07.pdf))\n",
    "* Bond et al. The Nature of the Bias When Studying Only Linkable Person Records: Evidence from the American Community Survey. 2014. https://www.census.gov/content/dam/Census/library/working-papers/2014/adrm/carra-wp-2014-08.pdf ([archived](https://web.archive.org/web/20220803083857/http://www.census.gov/content/dam/Census/library/working-papers/2014/adrm/carra-wp-2014-08.pdf))\n",
    "\n",
    "Finally, this paper is about the address matching process (MAF Match) which acts as part of PVS:\n",
    "\n",
    "* Brummet. Comparison of Survey, Federal, and Commercial Address Data Quality. 2014. https://www.census.gov/content/dam/Census/library/working-papers/2014/adrm/carra-wp-2014-06.pdf ([archived](https://web.archive.org/web/20220121213358/https://www.census.gov/content/dam/Census/library/working-papers/2014/adrm/carra-wp-2014-06.pdf))\n",
    "\n",
    "All of these papers are referenced throughout this notebook (and other notebooks) by the authors' names, along with additional information like page numbers.\n",
    "All page numbers represent those of the PDF files themselves, *not* page numbers printed in the documents.\n",
    "\n",
    "## PVS overview\n",
    "\n",
    "Brown et al., p. 28:\n",
    "\n",
    "> The PVS uses probabilistic record linkage (Fellegi and Sunter, 1969) to match data from an\n",
    "    incoming file (e.g., a survey or administrative record file) to reference files containing data on\n",
    "    SSN applications from the NUMIDENT enhanced with address data obtained from other federal\n",
    "    administrative records.\n",
    "\n",
    "## Setup"
   ]
  },
  {
   "cell_type": "code",
   "execution_count": 1,
   "id": "f0af1f28-7e30-4860-992e-15da22f9b55f",
   "metadata": {
    "execution": {
     "iopub.execute_input": "2023-12-01T17:57:44.954587Z",
     "iopub.status.busy": "2023-12-01T17:57:44.954181Z",
     "iopub.status.idle": "2023-12-01T17:57:45.833829Z",
     "shell.execute_reply": "2023-12-01T17:57:45.833298Z"
    },
    "papermill": {
     "duration": 0.899534,
     "end_time": "2023-12-01T17:57:45.835317",
     "exception": false,
     "start_time": "2023-12-01T17:57:44.935783",
     "status": "completed"
    },
    "tags": []
   },
   "outputs": [],
   "source": [
    "import re, copy, os, time\n",
    "import pandas, numpy\n",
    "import jellyfish"
   ]
  },
  {
   "cell_type": "code",
   "execution_count": 2,
   "id": "10473b3a-f016-4afd-9e0e-cbaa968555e0",
   "metadata": {
    "execution": {
     "iopub.execute_input": "2023-12-01T17:57:45.870407Z",
     "iopub.status.busy": "2023-12-01T17:57:45.869976Z",
     "iopub.status.idle": "2023-12-01T17:57:45.886469Z",
     "shell.execute_reply": "2023-12-01T17:57:45.885508Z"
    },
    "papermill": {
     "duration": 0.035498,
     "end_time": "2023-12-01T17:57:45.887703",
     "exception": false,
     "start_time": "2023-12-01T17:57:45.852205",
     "status": "completed"
    },
    "tags": []
   },
   "outputs": [],
   "source": [
    "%load_ext autoreload\n",
    "%autoreload 1"
   ]
  },
  {
   "cell_type": "code",
   "execution_count": 3,
   "id": "fbae5f8b-f5b0-43db-907b-bdbc83a2d9c6",
   "metadata": {
    "execution": {
     "iopub.execute_input": "2023-12-01T17:57:45.944956Z",
     "iopub.status.busy": "2023-12-01T17:57:45.944540Z",
     "iopub.status.idle": "2023-12-01T17:57:45.954918Z",
     "shell.execute_reply": "2023-12-01T17:57:45.954093Z"
    },
    "papermill": {
     "duration": 0.028917,
     "end_time": "2023-12-01T17:57:45.956233",
     "exception": false,
     "start_time": "2023-12-01T17:57:45.927316",
     "status": "completed"
    },
    "tags": []
   },
   "outputs": [],
   "source": [
    "%aimport vivarium_research_prl\n",
    "from vivarium_research_prl import distributed_compute"
   ]
  },
  {
   "cell_type": "code",
   "execution_count": 4,
   "id": "47bc4e2e-93cb-47f1-b4ab-fedac26382b8",
   "metadata": {
    "editable": true,
    "execution": {
     "iopub.execute_input": "2023-12-01T17:57:45.991699Z",
     "iopub.status.busy": "2023-12-01T17:57:45.991364Z",
     "iopub.status.idle": "2023-12-01T17:57:45.996648Z",
     "shell.execute_reply": "2023-12-01T17:57:45.996153Z"
    },
    "papermill": {
     "duration": 0.023537,
     "end_time": "2023-12-01T17:57:45.997840",
     "exception": false,
     "start_time": "2023-12-01T17:57:45.974303",
     "status": "completed"
    },
    "slideshow": {
     "slide_type": ""
    },
    "tags": [
     "parameters"
    ]
   },
   "outputs": [],
   "source": [
    "# DO NOT EDIT if this notebook is not called person_linkage_case_study.ipynb!\n",
    "# This notebook is designed to be run with papermill; this cell is tagged 'parameters'\n",
    "data_to_use = 'small_sample'\n",
    "input_dir = 'generate_simulated_data/output'\n",
    "output_dir = 'output'\n",
    "\n",
    "# data_to_use = \"usa\"\n",
    "# input_dir = \"/ihme/scratch/users/zmbc/person_linkage_case_study/generate_simulated_data/\"\n",
    "# output_dir = \"/ihme/scratch/users/zmbc/person_linkage_case_study/person_linkage_case_study/\"\n",
    "\n",
    "# The \"compute engine\" is what we use on the Python side\n",
    "# for our case-study-specific operations,\n",
    "# as opposed to the Splink engine\n",
    "compute_engine = 'pandas'\n",
    "# Only matter if using a distributed compute engine\n",
    "compute_engine_num_jobs = 3\n",
    "compute_engine_cpus_per_job = 2\n",
    "compute_engine_memory_per_job = \"10GB\"\n",
    "# compute_engine_num_jobs = 50\n",
    "# compute_engine_memory_per_job = \"60GB\"\n",
    "# compute_engine_cpus_per_job = 5\n",
    "\n",
    "splink_engine = 'duckdb'\n",
    "# Only matter if using Spark\n",
    "spark_local = False\n",
    "# Only matter if using distributed (non-local) Spark\n",
    "spark_num_jobs = 3\n",
    "spark_cpus_per_job = 2\n",
    "spark_memory_per_job = \"10GB\"\n",
    "# spark_num_jobs = 50\n",
    "# spark_memory_per_job = \"60GB\"\n",
    "# spark_cpus_per_job = 5"
   ]
  },
  {
   "cell_type": "code",
   "execution_count": 5,
   "id": "de2cdd3c-9b84-46fc-a024-adc6b197bf50",
   "metadata": {
    "execution": {
     "iopub.execute_input": "2023-12-01T17:57:46.031722Z",
     "iopub.status.busy": "2023-12-01T17:57:46.031397Z",
     "iopub.status.idle": "2023-12-01T17:57:46.036002Z",
     "shell.execute_reply": "2023-12-01T17:57:46.035181Z"
    },
    "papermill": {
     "duration": 0.023534,
     "end_time": "2023-12-01T17:57:46.037192",
     "exception": false,
     "start_time": "2023-12-01T17:57:46.013658",
     "status": "completed"
    },
    "tags": []
   },
   "outputs": [],
   "source": [
    "import os\n",
    "from pathlib import Path\n",
    "os.environ[\"PATH\"] = f\"{Path('./slurm_within_singularity').resolve()}:{os.environ['PATH']}\""
   ]
  },
  {
   "cell_type": "code",
   "execution_count": 6,
   "id": "da04a59b-ed5b-43b9-a7b0-7e763e20be11",
   "metadata": {
    "execution": {
     "iopub.execute_input": "2023-12-01T17:57:46.070946Z",
     "iopub.status.busy": "2023-12-01T17:57:46.070632Z",
     "iopub.status.idle": "2023-12-01T17:57:46.073750Z",
     "shell.execute_reply": "2023-12-01T17:57:46.073267Z"
    },
    "papermill": {
     "duration": 0.021809,
     "end_time": "2023-12-01T17:57:46.074951",
     "exception": false,
     "start_time": "2023-12-01T17:57:46.053142",
     "status": "completed"
    },
    "tags": []
   },
   "outputs": [],
   "source": [
    "df_ops, pd = distributed_compute.start_compute_engine(\n",
    "    compute_engine,\n",
    "    num_jobs=compute_engine_num_jobs,\n",
    "    cpus_per_job=compute_engine_cpus_per_job,\n",
    "    memory_per_job=compute_engine_memory_per_job,\n",
    ")"
   ]
  },
  {
   "cell_type": "code",
   "execution_count": 7,
   "id": "3c6ca817-6be3-49ff-89fb-6fc6647f9500",
   "metadata": {
    "editable": true,
    "execution": {
     "iopub.execute_input": "2023-12-01T17:57:46.109027Z",
     "iopub.status.busy": "2023-12-01T17:57:46.108713Z",
     "iopub.status.idle": "2023-12-01T17:57:46.121302Z",
     "shell.execute_reply": "2023-12-01T17:57:46.120808Z"
    },
    "papermill": {
     "duration": 0.031398,
     "end_time": "2023-12-01T17:57:46.122496",
     "exception": false,
     "start_time": "2023-12-01T17:57:46.091098",
     "status": "completed"
    },
    "slideshow": {
     "slide_type": ""
    },
    "tags": []
   },
   "outputs": [],
   "source": [
    "if splink_engine == 'spark':\n",
    "    if spark_local:\n",
    "        spark_master_url = \"local[2]\"\n",
    "    else:\n",
    "        # HACKHACK: This creates a log file in the user's home directory, and could generally use some cleanup\n",
    "        # TODO: I want to set resources separately for master and workers, and auto-restart failed workers\n",
    "        resources = f'--nodes {spark_num_jobs} --cpus-per-task {spark_cpus_per_job} --mem {spark_memory_per_job} -A proj_simscience -p long.q'\n",
    "        pwd = ! pwd\n",
    "        pwd = pwd[0]\n",
    "        spark_start_output = ! sbatch {resources} {pwd}/start_spark_slurm.sh\n",
    "        job_id = re.match('Submitted batch job (\\d+)', '\\n'.join(spark_start_output))[1]\n",
    "\n",
    "        # TODO: Not sure this cleanup is actually working\n",
    "        import atexit\n",
    "        \n",
    "        def exit_handler():\n",
    "            ! slurm_within_singularity/scancel {job_id}\n",
    "        \n",
    "        atexit.register(exit_handler)\n",
    "\n",
    "        spark_setup = False\n",
    "        while True:\n",
    "            log_path = f'~/slurm-{job_id}.out'\n",
    "            logs = !ssh $(hostname) -q -t cat {log_path}\n",
    "            starting_lines = [l for l in logs if 'Starting Spark master at' in l]\n",
    "            if len(starting_lines) > 0:\n",
    "                spark_master_url = re.match('.*Starting Spark master at (spark:.+)$', starting_lines[0])[1]\n",
    "                print('\\n'.join([l for l in logs if 'Bound MasterWebUI' in l]))\n",
    "                print(f'Got Spark master URL: {spark_master_url}')\n",
    "                break\n",
    "            else:\n",
    "                print('Waiting for Spark to start')\n",
    "                time.sleep(5)"
   ]
  },
  {
   "cell_type": "markdown",
   "id": "86e8c9a9-d691-4110-baed-683004701894",
   "metadata": {
    "papermill": {
     "duration": 0.01629,
     "end_time": "2023-12-01T17:57:46.155037",
     "exception": false,
     "start_time": "2023-12-01T17:57:46.138747",
     "status": "completed"
    },
    "tags": []
   },
   "source": [
    "# Load data\n",
    "\n",
    "See code in `generate_simulated_data` directory for how we generated the files to link"
   ]
  },
  {
   "cell_type": "code",
   "execution_count": 8,
   "id": "cdf1086b-639c-4421-95ef-dc4108b7fd9a",
   "metadata": {
    "execution": {
     "iopub.execute_input": "2023-12-01T17:57:46.189091Z",
     "iopub.status.busy": "2023-12-01T17:57:46.188772Z",
     "iopub.status.idle": "2023-12-01T17:57:46.325810Z",
     "shell.execute_reply": "2023-12-01T17:57:46.324548Z"
    },
    "papermill": {
     "duration": 0.156328,
     "end_time": "2023-12-01T17:57:46.327354",
     "exception": false,
     "start_time": "2023-12-01T17:57:46.171026",
     "status": "completed"
    },
    "tags": []
   },
   "outputs": [],
   "source": [
    "census_2030 = df_ops.persist(df_ops.read_parquet(f'{input_dir}/{data_to_use}/simulated_census_2030.parquet'))\n",
    "geobase_reference_file = df_ops.persist(df_ops.read_parquet(f'{input_dir}/{data_to_use}/simulated_geobase_reference_file.parquet'))\n",
    "name_dob_reference_file = df_ops.persist(df_ops.read_parquet(f'{input_dir}/{data_to_use}/simulated_name_dob_reference_file.parquet'))"
   ]
  },
  {
   "cell_type": "markdown",
   "id": "5bc6d16d-f4c9-4c1a-b969-baee5ac539ad",
   "metadata": {
    "papermill": {
     "duration": 0.015856,
     "end_time": "2023-12-01T17:57:46.359442",
     "exception": false,
     "start_time": "2023-12-01T17:57:46.343586",
     "status": "completed"
    },
    "tags": []
   },
   "source": [
    "# Pre-process input file\n",
    "\n",
    "Wagner and Layne, p. 9:\n",
    "\n",
    "> The first step of the PVS process is to edit data fields to make them homogenous for\n",
    "comparisons between incoming and reference files."
   ]
  },
  {
   "cell_type": "code",
   "execution_count": 9,
   "id": "ee0111f6-d8e0-4758-a242-70027d67b313",
   "metadata": {
    "execution": {
     "iopub.execute_input": "2023-12-01T17:57:46.392985Z",
     "iopub.status.busy": "2023-12-01T17:57:46.392718Z",
     "iopub.status.idle": "2023-12-01T17:57:46.397152Z",
     "shell.execute_reply": "2023-12-01T17:57:46.396682Z"
    },
    "papermill": {
     "duration": 0.022649,
     "end_time": "2023-12-01T17:57:46.398367",
     "exception": false,
     "start_time": "2023-12-01T17:57:46.375718",
     "status": "completed"
    },
    "tags": []
   },
   "outputs": [],
   "source": [
    "# Input file before any processing; the final result will be this with the PIK column added\n",
    "census_2030_raw_input = census_2030.copy()"
   ]
  },
  {
   "cell_type": "markdown",
   "id": "829cf59a-804c-4372-bcbf-740ec724b3ee",
   "metadata": {
    "papermill": {
     "duration": 0.016948,
     "end_time": "2023-12-01T17:57:46.431320",
     "exception": false,
     "start_time": "2023-12-01T17:57:46.414372",
     "status": "completed"
    },
    "tags": []
   },
   "source": [
    "## Name parsing and standardizing\n",
    "\n",
    "Wagner and Layne, p. 9:\n",
    "\n",
    "> The first edits are parsing and standardizing - parsing separates fields into\n",
    "component parts, while standardizing guarantees key data elements are consistent (e.g.,\n",
    "STREET, STR are both converted to ST). Name and address fields are parsed and\n",
    "standardized as they are key linkage comparators. \n",
    "\n",
    "As noted in the data generation notebook, there is no parsing to be done here:\n",
    "because the Census questionnnaire asks for first name, middle initial, and last name as\n",
    "separate fields on the form, the name would be already parsed when running PVS on the CUF.\n",
    "\n",
    "The real PVS name parser generates fields like prefix (e.g. Mr.) and suffix (e.g. Jr.)\n",
    "but we never have these in names from pseudopeople.\n",
    "\n",
    "More details about the name parser and standardizer (Wagner and Layne, p. 10):\n",
    "\n",
    "> The PVS system incorporates a name\n",
    "standardizer (McGaughey, 1994), which is a C language subroutine called as a function\n",
    "within SAS. It performs name parsing and includes a nickname lookup table and outputs\n",
    "name variants (standardized variations of first and last names). For example, Bill\n",
    "becomes William, Chuck and Charlie becomes Charles, etc. The PVS keeps both the\n",
    "original name (Bill) and the converted name (William) for matching. PVS also has a fake\n",
    "name table to blank names such as “Queen of the House” or “Baby Girl.” The name data\n",
    "are parsed, checked for nicknames, and standardized.\n",
    "\n",
    "The key thing that wasn't clear to me from this description was what it meant to\n",
    "\"keep both original name and the converted name for matching.\"\n",
    "I found this in Massey et al.:\n",
    "\n",
    "> The Name Search Module also accounts for instances where census records contain a nickname.\n",
    "> For these records, the preprocessing step of the Name Search module outputs two records for\n",
    "> these observations, one record for the nickname and one record for the formal name.\n",
    "> For example, if the input record has the name “Bill Smith,” the formatting program will add\n",
    "> a formal name “William” to that record. This record will then output to both the B-S cut and to the W-S cut.\n",
    "\n",
    "From this, I gather that nicknames work similar to alternate names in the reference file:\n",
    "entire duplicate records are made with each name (nickname and formal).\n",
    "However, I am still confused by calling this \"the preprocessing step **of the Name Search module**.\"\n",
    "In Wagner and Layne it does not seem like this is module-specific, and I don't see any\n",
    "reason that would be desirable, so I have done this multi-record approach across all modules."
   ]
  },
  {
   "cell_type": "code",
   "execution_count": 10,
   "id": "7b449705-cd3f-4a14-9520-b4dfb1fa481b",
   "metadata": {
    "execution": {
     "iopub.execute_input": "2023-12-01T17:57:46.466871Z",
     "iopub.status.busy": "2023-12-01T17:57:46.466530Z",
     "iopub.status.idle": "2023-12-01T17:57:46.473653Z",
     "shell.execute_reply": "2023-12-01T17:57:46.473098Z"
    },
    "papermill": {
     "duration": 0.026335,
     "end_time": "2023-12-01T17:57:46.474858",
     "exception": false,
     "start_time": "2023-12-01T17:57:46.448523",
     "status": "completed"
    },
    "tags": []
   },
   "outputs": [
    {
     "name": "stdout",
     "output_type": "stream",
     "text": [
      "4 nicknames in the Census\n"
     ]
    }
   ],
   "source": [
    "# Nickname processing\n",
    "# Have not yet found a nickname list in PVS docs,\n",
    "# so we do a minimal version for now -- could use\n",
    "# another list such as the one in pseudopeople\n",
    "# These examples all come directly from examples in the descriptions of PVS\n",
    "nickname_standardizations = {\n",
    "    \"Bill\": \"William\",\n",
    "    \"Chuck\": \"Charles\",\n",
    "    \"Charlie\": \"Charles\",\n",
    "    \"Cathy\": \"Catherine\",\n",
    "    \"Matt\": \"Matthew\",\n",
    "}\n",
    "has_nickname = df_ops.persist(census_2030.first_name.isin(nickname_standardizations.keys()))\n",
    "print(f'{df_ops.compute(has_nickname.sum())} nicknames in the Census')"
   ]
  },
  {
   "cell_type": "code",
   "execution_count": 11,
   "id": "8b119152-d5db-4d78-bab9-b15feae95f98",
   "metadata": {
    "execution": {
     "iopub.execute_input": "2023-12-01T17:57:46.509620Z",
     "iopub.status.busy": "2023-12-01T17:57:46.509299Z",
     "iopub.status.idle": "2023-12-01T17:57:46.519287Z",
     "shell.execute_reply": "2023-12-01T17:57:46.518398Z"
    },
    "papermill": {
     "duration": 0.029412,
     "end_time": "2023-12-01T17:57:46.520500",
     "exception": false,
     "start_time": "2023-12-01T17:57:46.491088",
     "status": "completed"
    },
    "tags": []
   },
   "outputs": [],
   "source": [
    "# Add extra rows for the normalized names\n",
    "census_2030 = df_ops.concat([\n",
    "    census_2030,\n",
    "    census_2030[has_nickname].assign(first_name=lambda df: df.first_name.replace(nickname_standardizations))\n",
    "], ignore_index=True)"
   ]
  },
  {
   "cell_type": "code",
   "execution_count": 12,
   "id": "bb25cd47-aab9-42ee-98a5-3bdc3d66c2af",
   "metadata": {
    "execution": {
     "iopub.execute_input": "2023-12-01T17:57:46.555917Z",
     "iopub.status.busy": "2023-12-01T17:57:46.555593Z",
     "iopub.status.idle": "2023-12-01T17:57:46.571549Z",
     "shell.execute_reply": "2023-12-01T17:57:46.570686Z"
    },
    "papermill": {
     "duration": 0.034995,
     "end_time": "2023-12-01T17:57:46.572776",
     "exception": false,
     "start_time": "2023-12-01T17:57:46.537781",
     "status": "completed"
    },
    "tags": []
   },
   "outputs": [],
   "source": [
    "# Note: The above will introduce duplicates on record_id, so we redefine\n",
    "# record_id to be unique (without getting rid of the original, input file record ID)\n",
    "census_2030 = df_ops.add_unique_record_id(\n",
    "    census_2030.rename(columns={'record_id': 'record_id_raw_input_file'}),\n",
    "    \"census_2030_preprocessed\",\n",
    ")"
   ]
  },
  {
   "cell_type": "code",
   "execution_count": 13,
   "id": "a1e3beca-5d4e-4d58-a65f-1c6bda2ea02c",
   "metadata": {
    "execution": {
     "iopub.execute_input": "2023-12-01T17:57:46.607052Z",
     "iopub.status.busy": "2023-12-01T17:57:46.606716Z",
     "iopub.status.idle": "2023-12-01T17:57:46.630844Z",
     "shell.execute_reply": "2023-12-01T17:57:46.630195Z"
    },
    "papermill": {
     "duration": 0.042519,
     "end_time": "2023-12-01T17:57:46.632034",
     "exception": false,
     "start_time": "2023-12-01T17:57:46.589515",
     "status": "completed"
    },
    "tags": []
   },
   "outputs": [
    {
     "data": {
      "text/html": [
       "<div>\n",
       "<style scoped>\n",
       "    .dataframe tbody tr th:only-of-type {\n",
       "        vertical-align: middle;\n",
       "    }\n",
       "\n",
       "    .dataframe tbody tr th {\n",
       "        vertical-align: top;\n",
       "    }\n",
       "\n",
       "    .dataframe thead th {\n",
       "        text-align: right;\n",
       "    }\n",
       "</style>\n",
       "<table border=\"1\" class=\"dataframe\">\n",
       "  <thead>\n",
       "    <tr style=\"text-align: right;\">\n",
       "      <th></th>\n",
       "      <th>fake_name</th>\n",
       "    </tr>\n",
       "  </thead>\n",
       "  <tbody>\n",
       "    <tr>\n",
       "      <th>0</th>\n",
       "      <td>(CONFIDENTIAL)</td>\n",
       "    </tr>\n",
       "    <tr>\n",
       "      <th>1</th>\n",
       "      <td>(NO MIDDLE NAME)</td>\n",
       "    </tr>\n",
       "    <tr>\n",
       "      <th>2</th>\n",
       "      <td>A RELUCTANT</td>\n",
       "    </tr>\n",
       "    <tr>\n",
       "      <th>3</th>\n",
       "      <td>ADULT</td>\n",
       "    </tr>\n",
       "    <tr>\n",
       "      <th>4</th>\n",
       "      <td>ADULT F</td>\n",
       "    </tr>\n",
       "    <tr>\n",
       "      <th>...</th>\n",
       "      <td>...</td>\n",
       "    </tr>\n",
       "    <tr>\n",
       "      <th>766</th>\n",
       "      <td>YOUNGEST DAUG</td>\n",
       "    </tr>\n",
       "    <tr>\n",
       "      <th>767</th>\n",
       "      <td>YOUNGEST GIRL</td>\n",
       "    </tr>\n",
       "    <tr>\n",
       "      <th>768</th>\n",
       "      <td>YR BOY</td>\n",
       "    </tr>\n",
       "    <tr>\n",
       "      <th>769</th>\n",
       "      <td>YR GIRL</td>\n",
       "    </tr>\n",
       "    <tr>\n",
       "      <th>770</th>\n",
       "      <td>YR OLD</td>\n",
       "    </tr>\n",
       "  </tbody>\n",
       "</table>\n",
       "<p>766 rows × 1 columns</p>\n",
       "</div>"
      ],
      "text/plain": [
       "            fake_name\n",
       "0      (CONFIDENTIAL)\n",
       "1    (NO MIDDLE NAME)\n",
       "2         A RELUCTANT\n",
       "3               ADULT\n",
       "4             ADULT F\n",
       "..                ...\n",
       "766     YOUNGEST DAUG\n",
       "767     YOUNGEST GIRL\n",
       "768            YR BOY\n",
       "769           YR GIRL\n",
       "770            YR OLD\n",
       "\n",
       "[766 rows x 1 columns]"
      ]
     },
     "execution_count": 13,
     "metadata": {},
     "output_type": "execute_result"
    }
   ],
   "source": [
    "# This list of fake names comes from the NORC report, p. 100-101\n",
    "# It is what was used in PVS as of 2011\n",
    "fake_names = pd.read_fwf('fake-names.txt', header=None)\n",
    "fake_names.columns = ['fake_name']\n",
    "fake_names['fake_name'] = fake_names.fake_name.str.strip().str.upper()\n",
    "fake_names = df_ops.persist(\n",
    "    fake_names\n",
    "        .dropna(subset='fake_name')\n",
    "        .pipe(df_ops.ensure_large_string_capacity)\n",
    "        .pipe(df_ops.drop_duplicates)\n",
    ")\n",
    "\n",
    "assert df_ops.compute((fake_names.fake_name == fake_names.fake_name.str.upper()).all())\n",
    "fake_names"
   ]
  },
  {
   "cell_type": "code",
   "execution_count": 14,
   "id": "f234ee61-5d2a-490e-97ad-eff72df732ad",
   "metadata": {
    "execution": {
     "iopub.execute_input": "2023-12-01T17:57:46.668112Z",
     "iopub.status.busy": "2023-12-01T17:57:46.667786Z",
     "iopub.status.idle": "2023-12-01T17:57:46.703981Z",
     "shell.execute_reply": "2023-12-01T17:57:46.703398Z"
    },
    "papermill": {
     "duration": 0.055815,
     "end_time": "2023-12-01T17:57:46.705187",
     "exception": false,
     "start_time": "2023-12-01T17:57:46.649372",
     "status": "completed"
    },
    "tags": []
   },
   "outputs": [
    {
     "name": "stdout",
     "output_type": "stream",
     "text": [
      "Found 0 fake names in first_name\n",
      "Found 0 fake names in last_name\n"
     ]
    }
   ],
   "source": [
    "for col in [\"first_name\", \"last_name\"]:\n",
    "    census_2030 = census_2030.merge(fake_names, left_on=col, right_on='fake_name', how='left')\n",
    "    has_fake_name = census_2030.fake_name.notnull()\n",
    "    print(f'Found {df_ops.compute(has_fake_name.sum())} fake names in {col}')\n",
    "    census_2030 = df_ops.concat([\n",
    "        census_2030[~has_fake_name].drop(columns=['fake_name']),\n",
    "        # NOTE: For reasons I don't really understand, assigning pandas.NA reverts it to a normal string instead of a large_string\n",
    "        census_2030[has_fake_name].assign(**{col: pandas.NA}).drop(columns=['fake_name']).pipe(df_ops.ensure_large_string_capacity),\n",
    "    ], ignore_index=True)"
   ]
  },
  {
   "cell_type": "markdown",
   "id": "26659727-027b-4daf-8921-1fdb4b5e4d54",
   "metadata": {
    "papermill": {
     "duration": 0.016702,
     "end_time": "2023-12-01T17:57:46.740299",
     "exception": false,
     "start_time": "2023-12-01T17:57:46.723597",
     "status": "completed"
    },
    "tags": []
   },
   "source": [
    "## Address parsing and standardizing\n",
    "\n",
    "Wagner and Layne, p. 11:\n",
    "\n",
    "> The PVS editing process also incorporates an address parser and standardizer,\n",
    "written in the C language and called as a function within SAS (U.S. Census Bureau\n",
    "Geography Division, 1995). It performs parsing of address strings into individual output\n",
    "fields (see Figure 2), and standardizes the spelling of key components of the address\n",
    "such as street type. The PVS also incorporates use of a commercial product to update\n",
    "zip codes, and correct misspellings of address elements.\n",
    "\n",
    "As noted in the data generation notebook, for now we haven't combined the address parts\n",
    "into a single string that would need to be parsed.\n",
    "We plan to add this in a future version of pseudopeople.\n",
    "\n",
    "For now, we do some simple standardization in each of the address parts (street number,\n",
    "street name, etc)."
   ]
  },
  {
   "cell_type": "code",
   "execution_count": 15,
   "id": "9435bc12-0002-44bc-91e3-26083d95c498",
   "metadata": {
    "execution": {
     "iopub.execute_input": "2023-12-01T17:57:46.775469Z",
     "iopub.status.busy": "2023-12-01T17:57:46.775126Z",
     "iopub.status.idle": "2023-12-01T17:57:46.860237Z",
     "shell.execute_reply": "2023-12-01T17:57:46.859781Z"
    },
    "papermill": {
     "duration": 0.104589,
     "end_time": "2023-12-01T17:57:46.861452",
     "exception": false,
     "start_time": "2023-12-01T17:57:46.756863",
     "status": "completed"
    },
    "tags": []
   },
   "outputs": [],
   "source": [
    "def standardize_address_part(column):\n",
    "    return (\n",
    "        column\n",
    "            # Remove leading or trailing whitespace\n",
    "            .str.strip()\n",
    "            # Turn any strings of consecutive whitespace into a single space\n",
    "            .str.replace('\\s+', ' ', regex=True)\n",
    "            # Normalize case\n",
    "            .str.upper()\n",
    "            # Normalize the word street as described in the example quoted above\n",
    "            # In reality, there would be many rules like this\n",
    "            .str.replace('\\b(STREET|STR)\\b', 'ST', regex=True)\n",
    "            # Make sure missingness is represented consistently\n",
    "            .replace('', pandas.NA)\n",
    "    )\n",
    "\n",
    "address_cols = ['street_number', 'street_name', 'unit_number', 'city', 'state', 'zipcode']\n",
    "for address_col in address_cols:\n",
    "    census_2030[address_col] = census_2030[address_col].pipe(standardize_address_part)\n",
    "\n",
    "census_2030 = df_ops.ensure_large_string_capacity(census_2030)"
   ]
  },
  {
   "cell_type": "markdown",
   "id": "95b55b52-c3ad-41da-9351-05ef56927dbf",
   "metadata": {
    "papermill": {
     "duration": 0.016696,
     "end_time": "2023-12-01T17:57:46.896792",
     "exception": false,
     "start_time": "2023-12-01T17:57:46.880096",
     "status": "completed"
    },
    "tags": []
   },
   "source": [
    "## MAFMatch\n",
    "\n",
    "**General information about MAFMatch**\n",
    "\n",
    "Wagner and Layne, p. 11:\n",
    "\n",
    "> The PVS provides an additional address enhancement by matching records in the\n",
    "incoming file to Census Bureau’s Master Address File (MAF) in order to assign a unique\n",
    "address identifier, the MAF Identifier (MAFID), and other Census geographical codes\n",
    "(e.g., Census tract and block). The MAFID is used in the PVS for search purposes and as a\n",
    "linkage key for administrative files. Then, addresses are matched to the Census Bureau’s\n",
    "Topologically Integrated Geographic Encoding and Referencing Database (TIGER) to\n",
    "obtain Census geographical codes.\n",
    "\n",
    "My understanding is that this step is useful for two reasons:\n",
    "- Potentially adds an alternate version/way of formatting the same address\n",
    "  (the way it is in the MAF, instead of the way it is in the input file).\n",
    "  However, instead of using this alternate to match directly, it is boiled down\n",
    "  to a MAFID, so it is only useful when an input file address and a reference file\n",
    "  address (different to one another) both match to the same MAF address.\n",
    "  (Presumably, the whole MAFMatch process described here needs to run on the reference files?)\n",
    "- Adds Census geographies which could be used in blocking (but are they?)\n",
    "\n",
    "I don't understand the TIGER part of this.\n",
    "In particular, p. 12 describes a probabilistic/fuzzy match to TIGER, but I thought TIGER\n",
    "would contain exactly the same addresses as the MAF.\n",
    "I also don't understand what geocodes would be present in TIGER that wouldn't also be\n",
    "present in the MAF.\n",
    "Maybe these things are more out-of-sync with each other than I understood.\n",
    "\n",
    "**MAFMatch in this case study**\n",
    "\n",
    "In the decennial Census, the sampling frame is a subset of the MAF (Brown et al., p. 15, footnote 4).\n",
    "That is, in the CUF, the address field (which is not supplied by the respondent)\n",
    "would be the MAF address the questionnaire/NRFU was sent to.\n",
    "\n",
    "Therefore, I don't believe it makes sense to do MAFMatch for the CUF, because all the addresses\n",
    "are already the same.\n",
    "I haven't fully confirmed this, but p. 14 of Wagner and Layne says\n",
    "\n",
    "> The 2010 Census Unedited File (CUF), had 350 million records and processed through every PVS\n",
    "module, excluding MAF match and SSN verification\n",
    "\n",
    "which suggests that (like SSN verification) MAFMatch is not applicable to the CUF.\n",
    "\n",
    "Given this, we skip MAFMatch here.\n",
    "Also, if we wanted to add it, we would need to generate something like a MAF from pseudopeople."
   ]
  },
  {
   "cell_type": "markdown",
   "id": "2e7ec2c6-a028-4f36-a041-63627fb60fd6",
   "metadata": {
    "papermill": {
     "duration": 0.017174,
     "end_time": "2023-12-01T17:57:46.930684",
     "exception": false,
     "start_time": "2023-12-01T17:57:46.913510",
     "status": "completed"
    },
    "tags": []
   },
   "source": [
    "## Drop records with insufficient information\n",
    "\n",
    "In 2011 (NORC, p. 25):\n",
    "\n",
    "> The initial edit process, described in the Introduction: PVS Background section, removes from consideration\n",
    "incoming records that have no name data. Therefore, no record that is processed in PVS has blank first and last\n",
    "names.\n",
    "\n",
    "In 2014 it appears to be the same/similar, because in Table 2 of Wagner and Layne there is a row \"NO SEARCH: Blank Name\" (p. 18).\n",
    "\n",
    "In 2023 (Brown et al., p. 28):\n",
    "\n",
    "> Records containing sufficient PII to be linkable with some confidence, for example those\n",
    "containing name and age, are sent through the linkage process.<sup>15</sup>\n",
    "\n",
    "> <sup>15</sup> Records with names on the PVS invalid name list (e.g., “Mickey Mouse,” “householder,” or “son”) are excluded\n",
    "from PVS search.\n",
    "\n",
    "I'd prefer to use the 2023 information, but it is too vague:\n",
    "\"for example\" means this is just an approximation, and it doesn't specify\n",
    "parts of \"name.\"\n",
    "The footnote also seems to contradict earlier reports, which said fake names were simply\n",
    "blanked out, which seems preferable.\n",
    "Since the fake name step comes before this one, a fake first **and** last name would lead\n",
    "to exclusion here, which is perhaps what the footnote was intending?\n",
    "\n",
    "Here, we follow the blank-name approach."
   ]
  },
  {
   "cell_type": "code",
   "execution_count": 16,
   "id": "277c1379-c46b-4a0f-8011-596efae84778",
   "metadata": {
    "execution": {
     "iopub.execute_input": "2023-12-01T17:57:46.967924Z",
     "iopub.status.busy": "2023-12-01T17:57:46.967734Z",
     "iopub.status.idle": "2023-12-01T17:57:46.975507Z",
     "shell.execute_reply": "2023-12-01T17:57:46.974724Z"
    },
    "papermill": {
     "duration": 0.029145,
     "end_time": "2023-12-01T17:57:46.976773",
     "exception": false,
     "start_time": "2023-12-01T17:57:46.947628",
     "status": "completed"
    },
    "tags": []
   },
   "outputs": [],
   "source": [
    "census_2030 = census_2030[\n",
    "    census_2030.first_name.notnull() |\n",
    "    census_2030.last_name.notnull()\n",
    "]"
   ]
  },
  {
   "cell_type": "markdown",
   "id": "e51a91f7-e733-4a3d-bd56-7e23b0c8d138",
   "metadata": {
    "papermill": {
     "duration": 0.01695,
     "end_time": "2023-12-01T17:57:47.011165",
     "exception": false,
     "start_time": "2023-12-01T17:57:46.994215",
     "status": "completed"
    },
    "tags": []
   },
   "source": [
    "# Create derived variables for use in linkage\n",
    "\n",
    "Here we create variables to be used as matching variables and blocking keys,\n",
    "when those matching variables/blocking keys are defined in a way that is not already\n",
    "present in the data at this point.\n",
    "\n",
    "The variables needed here depend on the modules and passes described below -- see those\n",
    "sections for more citations."
   ]
  },
  {
   "cell_type": "code",
   "execution_count": 17,
   "id": "edb97b21-8ca1-4ad3-bae1-dbf7dc0bee00",
   "metadata": {
    "execution": {
     "iopub.execute_input": "2023-12-01T17:57:47.046217Z",
     "iopub.status.busy": "2023-12-01T17:57:47.045869Z",
     "iopub.status.idle": "2023-12-01T17:57:47.057912Z",
     "shell.execute_reply": "2023-12-01T17:57:47.057320Z"
    },
    "papermill": {
     "duration": 0.031208,
     "end_time": "2023-12-01T17:57:47.059158",
     "exception": false,
     "start_time": "2023-12-01T17:57:47.027950",
     "status": "completed"
    },
    "tags": []
   },
   "outputs": [],
   "source": [
    "# We want to compare mailing address with physical address\n",
    "geobase_reference_file = geobase_reference_file.rename(columns=lambda c: c.replace('mailing_address_', ''))"
   ]
  },
  {
   "cell_type": "code",
   "execution_count": 18,
   "id": "c61c2257-a840-498a-9aa5-0788f9763634",
   "metadata": {
    "execution": {
     "iopub.execute_input": "2023-12-01T17:57:47.094501Z",
     "iopub.status.busy": "2023-12-01T17:57:47.094157Z",
     "iopub.status.idle": "2023-12-01T17:57:47.165857Z",
     "shell.execute_reply": "2023-12-01T17:57:47.164577Z"
    },
    "papermill": {
     "duration": 0.091006,
     "end_time": "2023-12-01T17:57:47.167413",
     "exception": false,
     "start_time": "2023-12-01T17:57:47.076407",
     "status": "completed"
    },
    "tags": []
   },
   "outputs": [],
   "source": [
    "# PVS uses DOB as separate fields for day, month, and year\n",
    "def split_dob(df, date_format='%Y%m%d'):\n",
    "    df = df.copy()\n",
    "    # Have to be floats because we want to treat as numeric for assessing similarity\n",
    "    # Note that as of now, none of our pseudopeople noise types would change the punctuation (\"/\") in the date, but\n",
    "    # they can insert non-numeric characters here or otherwise create invalid dates, in which case we fail to parse the date\n",
    "    # and treat it as missing.\n",
    "    dob = pd.to_datetime(df.date_of_birth, format=date_format, errors='coerce')\n",
    "    df['month_of_birth'] = dob.dt.month\n",
    "    df['year_of_birth'] = dob.dt.year\n",
    "    df['day_of_birth'] = dob.dt.day\n",
    "    return df.drop(columns=['date_of_birth'])\n",
    "\n",
    "census_2030 = split_dob(census_2030, date_format='%m/%d/%Y')\n",
    "geobase_reference_file = split_dob(geobase_reference_file)\n",
    "name_dob_reference_file = split_dob(name_dob_reference_file)"
   ]
  },
  {
   "cell_type": "code",
   "execution_count": 19,
   "id": "55126ed5-94e3-4713-badd-9861f5c6ab68",
   "metadata": {
    "execution": {
     "iopub.execute_input": "2023-12-01T17:57:47.204823Z",
     "iopub.status.busy": "2023-12-01T17:57:47.204445Z",
     "iopub.status.idle": "2023-12-01T17:57:47.339011Z",
     "shell.execute_reply": "2023-12-01T17:57:47.338131Z"
    },
    "papermill": {
     "duration": 0.154133,
     "end_time": "2023-12-01T17:57:47.340499",
     "exception": false,
     "start_time": "2023-12-01T17:57:47.186366",
     "status": "completed"
    },
    "tags": []
   },
   "outputs": [],
   "source": [
    "# I don't fully understand the purpose of blocking on the geokey,\n",
    "# as opposed to just blocking on its constituent columns.\n",
    "# Maybe it is a way of dealing with missingness in those constituent\n",
    "# columns (e.g. so an address with no unit number can still be blocked on geokey)?\n",
    "def add_geokey(df):\n",
    "    df = df.copy()\n",
    "    df['geokey'] = distributed_compute.add_strings(\n",
    "        compute_engine,\n",
    "        [\n",
    "            df.street_number, ' ',\n",
    "            df.street_name, ' ',\n",
    "            df.unit_number.fillna(''), ' ',\n",
    "            df.city, ' ',\n",
    "            df.state.astype(str), ' ',\n",
    "            df.zipcode,\n",
    "        ]\n",
    "    )\n",
    "    # Normalize the whitespace -- necessary if the unit number was null\n",
    "    df['geokey'] = (\n",
    "        df.geokey.str.replace('\\s+', ' ', regex=True)\n",
    "    )\n",
    "    return df_ops.ensure_large_string_capacity(df)\n",
    "\n",
    "geobase_reference_file = add_geokey(geobase_reference_file)\n",
    "census_2030 = add_geokey(census_2030)"
   ]
  },
  {
   "cell_type": "code",
   "execution_count": 20,
   "id": "6894cbdd-fef2-417d-a69f-3e15433c1c72",
   "metadata": {
    "execution": {
     "iopub.execute_input": "2023-12-01T17:57:47.376125Z",
     "iopub.status.busy": "2023-12-01T17:57:47.375867Z",
     "iopub.status.idle": "2023-12-01T17:57:47.496650Z",
     "shell.execute_reply": "2023-12-01T17:57:47.495795Z"
    },
    "papermill": {
     "duration": 0.140453,
     "end_time": "2023-12-01T17:57:47.498143",
     "exception": false,
     "start_time": "2023-12-01T17:57:47.357690",
     "status": "completed"
    },
    "tags": []
   },
   "outputs": [],
   "source": [
    "# Layne, Wagner, and Rothhaas p. 26: the name matching variables are\n",
    "# First 15 characters First Name, First 15 characters Middle Name, First 12 characters Last Name\n",
    "# Additionally, there are blocking columns for all of 1-3 initial characters of First/Last.\n",
    "# We don't have a full middle name in pseudopeople (nor would that be present in a real CUF)\n",
    "# so we have to stick to the first initial for middle.\n",
    "def add_truncated_name_cols(df):\n",
    "    df = df.copy()\n",
    "    df['first_name_15'] = df.first_name.str[:15]\n",
    "    df['last_name_12'] = df.last_name.str[:12]\n",
    "\n",
    "    if 'middle_name' in df.columns and 'middle_initial' not in df.columns:\n",
    "        df['middle_initial'] = df.middle_name.str[:1]\n",
    "\n",
    "    for num_chars in [1, 2, 3]:\n",
    "        df[f'first_name_{num_chars}'] = df.first_name.str[:num_chars]\n",
    "        df[f'last_name_{num_chars}'] = df.last_name.str[:num_chars]\n",
    "\n",
    "    return df\n",
    "\n",
    "census_2030 = add_truncated_name_cols(census_2030)\n",
    "geobase_reference_file = add_truncated_name_cols(geobase_reference_file)\n",
    "name_dob_reference_file = add_truncated_name_cols(name_dob_reference_file)"
   ]
  },
  {
   "cell_type": "code",
   "execution_count": 21,
   "id": "c29dcc81-9056-459b-80f6-fd32125913bc",
   "metadata": {
    "execution": {
     "iopub.execute_input": "2023-12-01T17:57:47.535264Z",
     "iopub.status.busy": "2023-12-01T17:57:47.535001Z",
     "iopub.status.idle": "2023-12-01T17:57:47.714329Z",
     "shell.execute_reply": "2023-12-01T17:57:47.713721Z"
    },
    "papermill": {
     "duration": 0.199359,
     "end_time": "2023-12-01T17:57:47.715932",
     "exception": false,
     "start_time": "2023-12-01T17:57:47.516573",
     "status": "completed"
    },
    "tags": []
   },
   "outputs": [],
   "source": [
    "# Layne, Wagner, and Rothhaas p. 26: phonetics are used in blocking (not matching)\n",
    "# - Soundex for Street Name\n",
    "# - NYSIIS code for First Name\n",
    "# - NYSIIS code for Last Name\n",
    "# - Reverse Soundex for First Name\n",
    "# - Reverse Soundex for Last Name\n",
    "\n",
    "def nysiis(input_string):\n",
    "    result = jellyfish.nysiis(input_string)\n",
    "    if result is None:\n",
    "        return pandas.NA\n",
    "\n",
    "    return result\n",
    "\n",
    "def soundex(input_string):\n",
    "    result = jellyfish.soundex(input_string)\n",
    "    if result is None:\n",
    "        return pandas.NA\n",
    "\n",
    "    return result\n",
    "\n",
    "def add_name_phonetics(df):\n",
    "    df = df.copy()\n",
    "    for col in ['first_name', 'last_name']:\n",
    "        kwargs = {}\n",
    "        if compute_engine == 'dask':\n",
    "            kwargs['meta'] = (col, 'object')\n",
    "        df[f'{col}_nysiis'] = df[col].dropna().apply(nysiis, **kwargs)\n",
    "        df[f'{col}_reverse_soundex'] = df[col].dropna().str[::-1].apply(soundex, **kwargs)\n",
    "\n",
    "    return df_ops.ensure_large_string_capacity(df)\n",
    "\n",
    "def add_address_phonetics(df):\n",
    "    df = df.copy()\n",
    "    kwargs = {}\n",
    "    if compute_engine == 'dask':\n",
    "        kwargs['meta'] = (col, 'object')\n",
    "    df['street_name_soundex'] = df.street_name.dropna().apply(jellyfish.soundex, **kwargs)\n",
    "    return df_ops.ensure_large_string_capacity(df)\n",
    "\n",
    "census_2030 = add_name_phonetics(census_2030)\n",
    "census_2030 = add_address_phonetics(census_2030)\n",
    "\n",
    "geobase_reference_file = add_address_phonetics(geobase_reference_file)\n",
    "\n",
    "name_dob_reference_file = add_name_phonetics(name_dob_reference_file)"
   ]
  },
  {
   "cell_type": "code",
   "execution_count": 22,
   "id": "e7ff2faa-d6b4-41e5-bbcd-e73d7a95eddd",
   "metadata": {
    "execution": {
     "iopub.execute_input": "2023-12-01T17:57:47.752976Z",
     "iopub.status.busy": "2023-12-01T17:57:47.752703Z",
     "iopub.status.idle": "2023-12-01T17:57:47.758620Z",
     "shell.execute_reply": "2023-12-01T17:57:47.758021Z"
    },
    "papermill": {
     "duration": 0.025731,
     "end_time": "2023-12-01T17:57:47.759879",
     "exception": false,
     "start_time": "2023-12-01T17:57:47.734148",
     "status": "completed"
    },
    "tags": []
   },
   "outputs": [],
   "source": [
    "# Columns used to \"cut the database\": ZIP3 and a grouping of first and last initial\n",
    "def add_zip3(df):\n",
    "    return df.assign(zip3=lambda x: x.zipcode.str[:3])\n",
    "\n",
    "def add_first_last_initial_categories(df):\n",
    "    # Page 20 of the NORC report: \"Name-cuts are defined by combinations of the first characters of the first and last names. The twenty letter groupings\n",
    "    # for the first character are: A-or-blank, B, C, D, E, F, G, H, I, J, K, L, M, N, O, P, Q, R, S, T, and U-Z.\"\n",
    "    initial_cut = lambda x: x.fillna('A').str[0].replace('A', 'A-or-blank').replace(['U', 'V', 'W', 'X', 'Y', 'Z'], 'U-Z')\n",
    "    return df.assign(first_initial_cut=lambda x: initial_cut(x.first_name), last_initial_cut=lambda x: initial_cut(x.last_name))"
   ]
  },
  {
   "cell_type": "code",
   "execution_count": 23,
   "id": "8aac8af1-2d9f-4fb0-9b54-d0a8e49dc96c",
   "metadata": {
    "execution": {
     "iopub.execute_input": "2023-12-01T17:57:47.795641Z",
     "iopub.status.busy": "2023-12-01T17:57:47.795316Z",
     "iopub.status.idle": "2023-12-01T17:57:47.908460Z",
     "shell.execute_reply": "2023-12-01T17:57:47.907584Z"
    },
    "papermill": {
     "duration": 0.13278,
     "end_time": "2023-12-01T17:57:47.909995",
     "exception": false,
     "start_time": "2023-12-01T17:57:47.777215",
     "status": "completed"
    },
    "tags": []
   },
   "outputs": [],
   "source": [
    "census_2030 = add_zip3(census_2030)\n",
    "census_2030 = add_first_last_initial_categories(census_2030)\n",
    "\n",
    "geobase_reference_file = add_zip3(geobase_reference_file)\n",
    "\n",
    "name_dob_reference_file = add_first_last_initial_categories(name_dob_reference_file)"
   ]
  },
  {
   "cell_type": "code",
   "execution_count": 24,
   "id": "e30f2911-72ad-4749-b4aa-18918335e0d0",
   "metadata": {
    "execution": {
     "iopub.execute_input": "2023-12-01T17:57:47.946548Z",
     "iopub.status.busy": "2023-12-01T17:57:47.946272Z",
     "iopub.status.idle": "2023-12-01T17:57:47.949680Z",
     "shell.execute_reply": "2023-12-01T17:57:47.949013Z"
    },
    "papermill": {
     "duration": 0.022905,
     "end_time": "2023-12-01T17:57:47.950890",
     "exception": false,
     "start_time": "2023-12-01T17:57:47.927985",
     "status": "completed"
    },
    "tags": []
   },
   "outputs": [],
   "source": [
    "census_2030, geobase_reference_file, name_dob_reference_file = df_ops.persist(census_2030, geobase_reference_file, name_dob_reference_file)"
   ]
  },
  {
   "cell_type": "markdown",
   "id": "5e413173-dde2-4bdb-a2cf-f0c5ef38e9a5",
   "metadata": {
    "papermill": {
     "duration": 0.01756,
     "end_time": "2023-12-01T17:57:47.985460",
     "exception": false,
     "start_time": "2023-12-01T17:57:47.967900",
     "status": "completed"
    },
    "tags": []
   },
   "source": [
    "# Data, ready to link"
   ]
  },
  {
   "cell_type": "code",
   "execution_count": 25,
   "id": "b6014eaa-3548-4d23-b7b9-f8e9f0f477f8",
   "metadata": {
    "execution": {
     "iopub.execute_input": "2023-12-01T17:57:48.020406Z",
     "iopub.status.busy": "2023-12-01T17:57:48.020067Z",
     "iopub.status.idle": "2023-12-01T17:57:48.024341Z",
     "shell.execute_reply": "2023-12-01T17:57:48.023749Z"
    },
    "papermill": {
     "duration": 0.022823,
     "end_time": "2023-12-01T17:57:48.025562",
     "exception": false,
     "start_time": "2023-12-01T17:57:48.002739",
     "status": "completed"
    },
    "tags": []
   },
   "outputs": [
    {
     "data": {
      "text/plain": [
       "11031"
      ]
     },
     "execution_count": 25,
     "metadata": {},
     "output_type": "execute_result"
    }
   ],
   "source": [
    "len(census_2030)"
   ]
  },
  {
   "cell_type": "code",
   "execution_count": 26,
   "id": "4306cf4f-d636-4d0c-9b07-7b73627982d3",
   "metadata": {
    "execution": {
     "iopub.execute_input": "2023-12-01T17:57:48.061684Z",
     "iopub.status.busy": "2023-12-01T17:57:48.061362Z",
     "iopub.status.idle": "2023-12-01T17:57:48.089478Z",
     "shell.execute_reply": "2023-12-01T17:57:48.088813Z"
    },
    "papermill": {
     "duration": 0.048512,
     "end_time": "2023-12-01T17:57:48.090799",
     "exception": false,
     "start_time": "2023-12-01T17:57:48.042287",
     "status": "completed"
    },
    "tags": []
   },
   "outputs": [
    {
     "data": {
      "text/html": [
       "<div>\n",
       "<style scoped>\n",
       "    .dataframe tbody tr th:only-of-type {\n",
       "        vertical-align: middle;\n",
       "    }\n",
       "\n",
       "    .dataframe tbody tr th {\n",
       "        vertical-align: top;\n",
       "    }\n",
       "\n",
       "    .dataframe thead th {\n",
       "        text-align: right;\n",
       "    }\n",
       "</style>\n",
       "<table border=\"1\" class=\"dataframe\">\n",
       "  <thead>\n",
       "    <tr style=\"text-align: right;\">\n",
       "      <th></th>\n",
       "      <th>record_id</th>\n",
       "      <th>record_id_raw_input_file</th>\n",
       "      <th>household_id</th>\n",
       "      <th>first_name</th>\n",
       "      <th>middle_initial</th>\n",
       "      <th>last_name</th>\n",
       "      <th>age</th>\n",
       "      <th>street_number</th>\n",
       "      <th>street_name</th>\n",
       "      <th>unit_number</th>\n",
       "      <th>...</th>\n",
       "      <th>first_name_3</th>\n",
       "      <th>last_name_3</th>\n",
       "      <th>first_name_nysiis</th>\n",
       "      <th>first_name_reverse_soundex</th>\n",
       "      <th>last_name_nysiis</th>\n",
       "      <th>last_name_reverse_soundex</th>\n",
       "      <th>street_name_soundex</th>\n",
       "      <th>zip3</th>\n",
       "      <th>first_initial_cut</th>\n",
       "      <th>last_initial_cut</th>\n",
       "    </tr>\n",
       "  </thead>\n",
       "  <tbody>\n",
       "    <tr>\n",
       "      <th>0</th>\n",
       "      <td>census_2030_preprocessed_0</td>\n",
       "      <td>simulated_census_2030_0</td>\n",
       "      <td>0_8033</td>\n",
       "      <td>Gerald</td>\n",
       "      <td>R</td>\n",
       "      <td>Allen</td>\n",
       "      <td>86</td>\n",
       "      <td>1130</td>\n",
       "      <td>MALLORY LN</td>\n",
       "      <td>None</td>\n",
       "      <td>...</td>\n",
       "      <td>Ger</td>\n",
       "      <td>All</td>\n",
       "      <td>GARALD</td>\n",
       "      <td>D462</td>\n",
       "      <td>ALAN</td>\n",
       "      <td>N400</td>\n",
       "      <td>M464</td>\n",
       "      <td>000</td>\n",
       "      <td>G</td>\n",
       "      <td>A-or-blank</td>\n",
       "    </tr>\n",
       "    <tr>\n",
       "      <th>1</th>\n",
       "      <td>census_2030_preprocessed_1</td>\n",
       "      <td>simulated_census_2030_1</td>\n",
       "      <td>0_1066</td>\n",
       "      <td>April</td>\n",
       "      <td>S</td>\n",
       "      <td>Hayden</td>\n",
       "      <td>33</td>\n",
       "      <td>32597</td>\n",
       "      <td>DELACORTE DR</td>\n",
       "      <td>None</td>\n",
       "      <td>...</td>\n",
       "      <td>Apr</td>\n",
       "      <td>Hay</td>\n",
       "      <td>APRAL</td>\n",
       "      <td>L610</td>\n",
       "      <td>HAYDAN</td>\n",
       "      <td>N300</td>\n",
       "      <td>D426</td>\n",
       "      <td>000</td>\n",
       "      <td>A-or-blank</td>\n",
       "      <td>H</td>\n",
       "    </tr>\n",
       "    <tr>\n",
       "      <th>2</th>\n",
       "      <td>census_2030_preprocessed_2</td>\n",
       "      <td>simulated_census_2030_2</td>\n",
       "      <td>0_1066</td>\n",
       "      <td>Loretta</td>\n",
       "      <td>T</td>\n",
       "      <td>Lowe</td>\n",
       "      <td>71</td>\n",
       "      <td>32597</td>\n",
       "      <td>DELACORTE DR</td>\n",
       "      <td>None</td>\n",
       "      <td>...</td>\n",
       "      <td>Lor</td>\n",
       "      <td>Low</td>\n",
       "      <td>LARAT</td>\n",
       "      <td>A364</td>\n",
       "      <td>LAO</td>\n",
       "      <td>E400</td>\n",
       "      <td>D426</td>\n",
       "      <td>000</td>\n",
       "      <td>L</td>\n",
       "      <td>L</td>\n",
       "    </tr>\n",
       "    <tr>\n",
       "      <th>3</th>\n",
       "      <td>census_2030_preprocessed_3</td>\n",
       "      <td>simulated_census_2030_3</td>\n",
       "      <td>0_2514</td>\n",
       "      <td>Sandra</td>\n",
       "      <td>A</td>\n",
       "      <td>Sorrentino</td>\n",
       "      <td>75</td>\n",
       "      <td>4458</td>\n",
       "      <td>WIBDSOR PL</td>\n",
       "      <td>None</td>\n",
       "      <td>...</td>\n",
       "      <td>San</td>\n",
       "      <td>Sor</td>\n",
       "      <td>SANDR</td>\n",
       "      <td>A635</td>\n",
       "      <td>SARANTAN</td>\n",
       "      <td>O535</td>\n",
       "      <td>W132</td>\n",
       "      <td>000</td>\n",
       "      <td>S</td>\n",
       "      <td>S</td>\n",
       "    </tr>\n",
       "    <tr>\n",
       "      <th>4</th>\n",
       "      <td>census_2030_preprocessed_4</td>\n",
       "      <td>simulated_census_2030_4</td>\n",
       "      <td>0_5627</td>\n",
       "      <td>Bobby</td>\n",
       "      <td>S</td>\n",
       "      <td>Baker</td>\n",
       "      <td>44</td>\n",
       "      <td>None</td>\n",
       "      <td>WINDING TRAIL RD</td>\n",
       "      <td>None</td>\n",
       "      <td>...</td>\n",
       "      <td>Bob</td>\n",
       "      <td>Bak</td>\n",
       "      <td>BABY</td>\n",
       "      <td>Y110</td>\n",
       "      <td>BACAR</td>\n",
       "      <td>R210</td>\n",
       "      <td>W535</td>\n",
       "      <td>000</td>\n",
       "      <td>B</td>\n",
       "      <td>B</td>\n",
       "    </tr>\n",
       "    <tr>\n",
       "      <th>...</th>\n",
       "      <td>...</td>\n",
       "      <td>...</td>\n",
       "      <td>...</td>\n",
       "      <td>...</td>\n",
       "      <td>...</td>\n",
       "      <td>...</td>\n",
       "      <td>...</td>\n",
       "      <td>...</td>\n",
       "      <td>...</td>\n",
       "      <td>...</td>\n",
       "      <td>...</td>\n",
       "      <td>...</td>\n",
       "      <td>...</td>\n",
       "      <td>...</td>\n",
       "      <td>...</td>\n",
       "      <td>...</td>\n",
       "      <td>...</td>\n",
       "      <td>...</td>\n",
       "      <td>...</td>\n",
       "      <td>...</td>\n",
       "      <td>...</td>\n",
       "    </tr>\n",
       "    <tr>\n",
       "      <th>11028</th>\n",
       "      <td>census_2030_preprocessed_11028</td>\n",
       "      <td>simulated_census_2030_11028</td>\n",
       "      <td>0_10693</td>\n",
       "      <td>Zechariah</td>\n",
       "      <td>C</td>\n",
       "      <td>Deshpande</td>\n",
       "      <td>0</td>\n",
       "      <td>1534</td>\n",
       "      <td>BENTLEY DR</td>\n",
       "      <td>None</td>\n",
       "      <td>...</td>\n",
       "      <td>Zec</td>\n",
       "      <td>Des</td>\n",
       "      <td>ZACAR</td>\n",
       "      <td>H622</td>\n",
       "      <td>DASPAND</td>\n",
       "      <td>E351</td>\n",
       "      <td>B534</td>\n",
       "      <td>000</td>\n",
       "      <td>U-Z</td>\n",
       "      <td>D</td>\n",
       "    </tr>\n",
       "    <tr>\n",
       "      <th>11029</th>\n",
       "      <td>census_2030_preprocessed_11029</td>\n",
       "      <td>simulated_census_2030_3803</td>\n",
       "      <td>0_492</td>\n",
       "      <td>Charles</td>\n",
       "      <td>P</td>\n",
       "      <td>Foreman</td>\n",
       "      <td>64</td>\n",
       "      <td>224</td>\n",
       "      <td>N SANFORD ST</td>\n",
       "      <td>None</td>\n",
       "      <td>...</td>\n",
       "      <td>Cha</td>\n",
       "      <td>For</td>\n",
       "      <td>CARL</td>\n",
       "      <td>S462</td>\n",
       "      <td>FARANAN</td>\n",
       "      <td>N561</td>\n",
       "      <td>N251</td>\n",
       "      <td>000</td>\n",
       "      <td>C</td>\n",
       "      <td>F</td>\n",
       "    </tr>\n",
       "    <tr>\n",
       "      <th>11030</th>\n",
       "      <td>census_2030_preprocessed_11030</td>\n",
       "      <td>simulated_census_2030_6806</td>\n",
       "      <td>0_11238</td>\n",
       "      <td>William</td>\n",
       "      <td>S</td>\n",
       "      <td>Vick</td>\n",
       "      <td>59</td>\n",
       "      <td>829</td>\n",
       "      <td>BERKELEY AVE</td>\n",
       "      <td>None</td>\n",
       "      <td>...</td>\n",
       "      <td>Wil</td>\n",
       "      <td>Vic</td>\n",
       "      <td>WALAN</td>\n",
       "      <td>M400</td>\n",
       "      <td>VAC</td>\n",
       "      <td>K100</td>\n",
       "      <td>B624</td>\n",
       "      <td>000</td>\n",
       "      <td>U-Z</td>\n",
       "      <td>U-Z</td>\n",
       "    </tr>\n",
       "    <tr>\n",
       "      <th>11031</th>\n",
       "      <td>census_2030_preprocessed_11031</td>\n",
       "      <td>simulated_census_2030_7705</td>\n",
       "      <td>0_6764</td>\n",
       "      <td>Charles</td>\n",
       "      <td>P</td>\n",
       "      <td>Qusmus</td>\n",
       "      <td>63</td>\n",
       "      <td>6801</td>\n",
       "      <td>REDWOOD TERRACE</td>\n",
       "      <td>None</td>\n",
       "      <td>...</td>\n",
       "      <td>Cha</td>\n",
       "      <td>Qus</td>\n",
       "      <td>CARL</td>\n",
       "      <td>S462</td>\n",
       "      <td>QASN</td>\n",
       "      <td>S522</td>\n",
       "      <td>R333</td>\n",
       "      <td>000</td>\n",
       "      <td>C</td>\n",
       "      <td>Q</td>\n",
       "    </tr>\n",
       "    <tr>\n",
       "      <th>11032</th>\n",
       "      <td>census_2030_preprocessed_11032</td>\n",
       "      <td>simulated_census_2030_8840</td>\n",
       "      <td>0_11838</td>\n",
       "      <td>William</td>\n",
       "      <td>H</td>\n",
       "      <td>Tipton</td>\n",
       "      <td>29</td>\n",
       "      <td>148</td>\n",
       "      <td>ANGLIN DR</td>\n",
       "      <td>None</td>\n",
       "      <td>...</td>\n",
       "      <td>Wil</td>\n",
       "      <td>Tip</td>\n",
       "      <td>WALAN</td>\n",
       "      <td>M400</td>\n",
       "      <td>TAPTAN</td>\n",
       "      <td>N313</td>\n",
       "      <td>A524</td>\n",
       "      <td>000</td>\n",
       "      <td>U-Z</td>\n",
       "      <td>T</td>\n",
       "    </tr>\n",
       "  </tbody>\n",
       "</table>\n",
       "<p>11031 rows × 38 columns</p>\n",
       "</div>"
      ],
      "text/plain": [
       "                            record_id     record_id_raw_input_file  \\\n",
       "0          census_2030_preprocessed_0      simulated_census_2030_0   \n",
       "1          census_2030_preprocessed_1      simulated_census_2030_1   \n",
       "2          census_2030_preprocessed_2      simulated_census_2030_2   \n",
       "3          census_2030_preprocessed_3      simulated_census_2030_3   \n",
       "4          census_2030_preprocessed_4      simulated_census_2030_4   \n",
       "...                               ...                          ...   \n",
       "11028  census_2030_preprocessed_11028  simulated_census_2030_11028   \n",
       "11029  census_2030_preprocessed_11029   simulated_census_2030_3803   \n",
       "11030  census_2030_preprocessed_11030   simulated_census_2030_6806   \n",
       "11031  census_2030_preprocessed_11031   simulated_census_2030_7705   \n",
       "11032  census_2030_preprocessed_11032   simulated_census_2030_8840   \n",
       "\n",
       "      household_id first_name middle_initial   last_name age street_number  \\\n",
       "0           0_8033     Gerald              R       Allen  86          1130   \n",
       "1           0_1066      April              S      Hayden  33         32597   \n",
       "2           0_1066    Loretta              T        Lowe  71         32597   \n",
       "3           0_2514     Sandra              A  Sorrentino  75          4458   \n",
       "4           0_5627      Bobby              S       Baker  44          None   \n",
       "...            ...        ...            ...         ...  ..           ...   \n",
       "11028      0_10693  Zechariah              C   Deshpande   0          1534   \n",
       "11029        0_492    Charles              P     Foreman  64           224   \n",
       "11030      0_11238    William              S        Vick  59           829   \n",
       "11031       0_6764    Charles              P      Qusmus  63          6801   \n",
       "11032      0_11838    William              H      Tipton  29           148   \n",
       "\n",
       "            street_name unit_number  ... first_name_3 last_name_3  \\\n",
       "0            MALLORY LN        None  ...          Ger         All   \n",
       "1          DELACORTE DR        None  ...          Apr         Hay   \n",
       "2          DELACORTE DR        None  ...          Lor         Low   \n",
       "3            WIBDSOR PL        None  ...          San         Sor   \n",
       "4      WINDING TRAIL RD        None  ...          Bob         Bak   \n",
       "...                 ...         ...  ...          ...         ...   \n",
       "11028        BENTLEY DR        None  ...          Zec         Des   \n",
       "11029      N SANFORD ST        None  ...          Cha         For   \n",
       "11030      BERKELEY AVE        None  ...          Wil         Vic   \n",
       "11031   REDWOOD TERRACE        None  ...          Cha         Qus   \n",
       "11032         ANGLIN DR        None  ...          Wil         Tip   \n",
       "\n",
       "      first_name_nysiis first_name_reverse_soundex last_name_nysiis  \\\n",
       "0                GARALD                       D462             ALAN   \n",
       "1                 APRAL                       L610           HAYDAN   \n",
       "2                 LARAT                       A364              LAO   \n",
       "3                 SANDR                       A635         SARANTAN   \n",
       "4                  BABY                       Y110            BACAR   \n",
       "...                 ...                        ...              ...   \n",
       "11028             ZACAR                       H622          DASPAND   \n",
       "11029              CARL                       S462          FARANAN   \n",
       "11030             WALAN                       M400              VAC   \n",
       "11031              CARL                       S462             QASN   \n",
       "11032             WALAN                       M400           TAPTAN   \n",
       "\n",
       "      last_name_reverse_soundex street_name_soundex  zip3  first_initial_cut  \\\n",
       "0                          N400                M464   000                  G   \n",
       "1                          N300                D426   000         A-or-blank   \n",
       "2                          E400                D426   000                  L   \n",
       "3                          O535                W132   000                  S   \n",
       "4                          R210                W535   000                  B   \n",
       "...                         ...                 ...   ...                ...   \n",
       "11028                      E351                B534   000                U-Z   \n",
       "11029                      N561                N251   000                  C   \n",
       "11030                      K100                B624   000                U-Z   \n",
       "11031                      S522                R333   000                  C   \n",
       "11032                      N313                A524   000                U-Z   \n",
       "\n",
       "       last_initial_cut  \n",
       "0            A-or-blank  \n",
       "1                     H  \n",
       "2                     L  \n",
       "3                     S  \n",
       "4                     B  \n",
       "...                 ...  \n",
       "11028                 D  \n",
       "11029                 F  \n",
       "11030               U-Z  \n",
       "11031                 Q  \n",
       "11032                 T  \n",
       "\n",
       "[11031 rows x 38 columns]"
      ]
     },
     "execution_count": 26,
     "metadata": {},
     "output_type": "execute_result"
    }
   ],
   "source": [
    "census_2030"
   ]
  },
  {
   "cell_type": "code",
   "execution_count": 27,
   "id": "b4fc55f9-32dd-40e9-ba3b-0f67556ddbc3",
   "metadata": {
    "execution": {
     "iopub.execute_input": "2023-12-01T17:57:48.127675Z",
     "iopub.status.busy": "2023-12-01T17:57:48.127323Z",
     "iopub.status.idle": "2023-12-01T17:57:48.132020Z",
     "shell.execute_reply": "2023-12-01T17:57:48.131414Z"
    },
    "papermill": {
     "duration": 0.024097,
     "end_time": "2023-12-01T17:57:48.133216",
     "exception": false,
     "start_time": "2023-12-01T17:57:48.109119",
     "status": "completed"
    },
    "tags": []
   },
   "outputs": [
    {
     "data": {
      "text/plain": [
       "32825"
      ]
     },
     "execution_count": 27,
     "metadata": {},
     "output_type": "execute_result"
    }
   ],
   "source": [
    "len(geobase_reference_file)"
   ]
  },
  {
   "cell_type": "code",
   "execution_count": 28,
   "id": "2361fef9-e338-4c81-934d-075dafdbd432",
   "metadata": {
    "execution": {
     "iopub.execute_input": "2023-12-01T17:57:48.168994Z",
     "iopub.status.busy": "2023-12-01T17:57:48.168665Z",
     "iopub.status.idle": "2023-12-01T17:57:48.217937Z",
     "shell.execute_reply": "2023-12-01T17:57:48.217275Z"
    },
    "papermill": {
     "duration": 0.069577,
     "end_time": "2023-12-01T17:57:48.219590",
     "exception": false,
     "start_time": "2023-12-01T17:57:48.150013",
     "status": "completed"
    },
    "tags": []
   },
   "outputs": [
    {
     "data": {
      "text/html": [
       "<div>\n",
       "<style scoped>\n",
       "    .dataframe tbody tr th:only-of-type {\n",
       "        vertical-align: middle;\n",
       "    }\n",
       "\n",
       "    .dataframe tbody tr th {\n",
       "        vertical-align: top;\n",
       "    }\n",
       "\n",
       "    .dataframe thead th {\n",
       "        text-align: right;\n",
       "    }\n",
       "</style>\n",
       "<table border=\"1\" class=\"dataframe\">\n",
       "  <thead>\n",
       "    <tr style=\"text-align: right;\">\n",
       "      <th></th>\n",
       "      <th>record_id</th>\n",
       "      <th>ssn</th>\n",
       "      <th>first_name</th>\n",
       "      <th>middle_name</th>\n",
       "      <th>last_name</th>\n",
       "      <th>street_number</th>\n",
       "      <th>street_name</th>\n",
       "      <th>unit_number</th>\n",
       "      <th>po_box</th>\n",
       "      <th>city</th>\n",
       "      <th>...</th>\n",
       "      <th>last_name_12</th>\n",
       "      <th>middle_initial</th>\n",
       "      <th>first_name_1</th>\n",
       "      <th>last_name_1</th>\n",
       "      <th>first_name_2</th>\n",
       "      <th>last_name_2</th>\n",
       "      <th>first_name_3</th>\n",
       "      <th>last_name_3</th>\n",
       "      <th>street_name_soundex</th>\n",
       "      <th>zip3</th>\n",
       "    </tr>\n",
       "  </thead>\n",
       "  <tbody>\n",
       "    <tr>\n",
       "      <th>0</th>\n",
       "      <td>simulated_geobase_reference_file_0</td>\n",
       "      <td>685-77-0916</td>\n",
       "      <td>Betty</td>\n",
       "      <td>Audrey</td>\n",
       "      <td>Keel</td>\n",
       "      <td>47461</td>\n",
       "      <td>W ROXBURY DR</td>\n",
       "      <td>None</td>\n",
       "      <td>None</td>\n",
       "      <td>ANYTOWN</td>\n",
       "      <td>...</td>\n",
       "      <td>Keel</td>\n",
       "      <td>A</td>\n",
       "      <td>B</td>\n",
       "      <td>K</td>\n",
       "      <td>Be</td>\n",
       "      <td>Ke</td>\n",
       "      <td>Bet</td>\n",
       "      <td>Kee</td>\n",
       "      <td>W621</td>\n",
       "      <td>000</td>\n",
       "    </tr>\n",
       "    <tr>\n",
       "      <th>1</th>\n",
       "      <td>simulated_geobase_reference_file_1</td>\n",
       "      <td>765-44-4521</td>\n",
       "      <td>Ethep</td>\n",
       "      <td>Nancy</td>\n",
       "      <td>Collier</td>\n",
       "      <td>None</td>\n",
       "      <td>None</td>\n",
       "      <td>None</td>\n",
       "      <td>None</td>\n",
       "      <td>None</td>\n",
       "      <td>...</td>\n",
       "      <td>Collier</td>\n",
       "      <td>N</td>\n",
       "      <td>E</td>\n",
       "      <td>C</td>\n",
       "      <td>Et</td>\n",
       "      <td>Co</td>\n",
       "      <td>Eth</td>\n",
       "      <td>Col</td>\n",
       "      <td>NaN</td>\n",
       "      <td>None</td>\n",
       "    </tr>\n",
       "    <tr>\n",
       "      <th>2</th>\n",
       "      <td>simulated_geobase_reference_file_2</td>\n",
       "      <td>765-44-4521</td>\n",
       "      <td>Ethep</td>\n",
       "      <td>Nancy</td>\n",
       "      <td>Collier</td>\n",
       "      <td>None</td>\n",
       "      <td>None</td>\n",
       "      <td>None</td>\n",
       "      <td>None</td>\n",
       "      <td>None</td>\n",
       "      <td>...</td>\n",
       "      <td>Collier</td>\n",
       "      <td>N</td>\n",
       "      <td>E</td>\n",
       "      <td>C</td>\n",
       "      <td>Et</td>\n",
       "      <td>Co</td>\n",
       "      <td>Eth</td>\n",
       "      <td>Col</td>\n",
       "      <td>NaN</td>\n",
       "      <td>None</td>\n",
       "    </tr>\n",
       "    <tr>\n",
       "      <th>3</th>\n",
       "      <td>simulated_geobase_reference_file_3</td>\n",
       "      <td>726-57-2168</td>\n",
       "      <td>Josephine</td>\n",
       "      <td>Margaret</td>\n",
       "      <td>Babbie</td>\n",
       "      <td>3743</td>\n",
       "      <td>MESA VERDE ST</td>\n",
       "      <td>None</td>\n",
       "      <td>None</td>\n",
       "      <td>ANYTOWN</td>\n",
       "      <td>...</td>\n",
       "      <td>Babbie</td>\n",
       "      <td>M</td>\n",
       "      <td>J</td>\n",
       "      <td>B</td>\n",
       "      <td>Jo</td>\n",
       "      <td>Ba</td>\n",
       "      <td>Jos</td>\n",
       "      <td>Bab</td>\n",
       "      <td>M216</td>\n",
       "      <td>000</td>\n",
       "    </tr>\n",
       "    <tr>\n",
       "      <th>4</th>\n",
       "      <td>simulated_geobase_reference_file_4</td>\n",
       "      <td>726-57-2168</td>\n",
       "      <td>Josephine</td>\n",
       "      <td>Margaret</td>\n",
       "      <td>Babbie</td>\n",
       "      <td>3743</td>\n",
       "      <td>MESA VERDE ST</td>\n",
       "      <td>None</td>\n",
       "      <td>None</td>\n",
       "      <td>None</td>\n",
       "      <td>...</td>\n",
       "      <td>Babbie</td>\n",
       "      <td>M</td>\n",
       "      <td>J</td>\n",
       "      <td>B</td>\n",
       "      <td>Jo</td>\n",
       "      <td>Ba</td>\n",
       "      <td>Jos</td>\n",
       "      <td>Bab</td>\n",
       "      <td>M216</td>\n",
       "      <td>000</td>\n",
       "    </tr>\n",
       "    <tr>\n",
       "      <th>...</th>\n",
       "      <td>...</td>\n",
       "      <td>...</td>\n",
       "      <td>...</td>\n",
       "      <td>...</td>\n",
       "      <td>...</td>\n",
       "      <td>...</td>\n",
       "      <td>...</td>\n",
       "      <td>...</td>\n",
       "      <td>...</td>\n",
       "      <td>...</td>\n",
       "      <td>...</td>\n",
       "      <td>...</td>\n",
       "      <td>...</td>\n",
       "      <td>...</td>\n",
       "      <td>...</td>\n",
       "      <td>...</td>\n",
       "      <td>...</td>\n",
       "      <td>...</td>\n",
       "      <td>...</td>\n",
       "      <td>...</td>\n",
       "      <td>...</td>\n",
       "    </tr>\n",
       "    <tr>\n",
       "      <th>32820</th>\n",
       "      <td>simulated_geobase_reference_file_32820</td>\n",
       "      <td>939-53-1702</td>\n",
       "      <td>Josiah</td>\n",
       "      <td>L</td>\n",
       "      <td>Mcmiller</td>\n",
       "      <td>2904</td>\n",
       "      <td>YACHT CLUB PT</td>\n",
       "      <td>None</td>\n",
       "      <td>None</td>\n",
       "      <td>ANYTOWN</td>\n",
       "      <td>...</td>\n",
       "      <td>Mcmiller</td>\n",
       "      <td>L</td>\n",
       "      <td>J</td>\n",
       "      <td>M</td>\n",
       "      <td>Jo</td>\n",
       "      <td>Mc</td>\n",
       "      <td>Jos</td>\n",
       "      <td>Mcm</td>\n",
       "      <td>Y232</td>\n",
       "      <td>000</td>\n",
       "    </tr>\n",
       "    <tr>\n",
       "      <th>32821</th>\n",
       "      <td>simulated_geobase_reference_file_32821</td>\n",
       "      <td>939-53-1702</td>\n",
       "      <td>Josiah</td>\n",
       "      <td>L</td>\n",
       "      <td>Mcmiller</td>\n",
       "      <td>W14066</td>\n",
       "      <td>E VALENCIA RD</td>\n",
       "      <td>None</td>\n",
       "      <td>None</td>\n",
       "      <td>ANYTOWN</td>\n",
       "      <td>...</td>\n",
       "      <td>Mcmiller</td>\n",
       "      <td>L</td>\n",
       "      <td>J</td>\n",
       "      <td>M</td>\n",
       "      <td>Jo</td>\n",
       "      <td>Mc</td>\n",
       "      <td>Jos</td>\n",
       "      <td>Mcm</td>\n",
       "      <td>E145</td>\n",
       "      <td>000</td>\n",
       "    </tr>\n",
       "    <tr>\n",
       "      <th>32822</th>\n",
       "      <td>simulated_geobase_reference_file_32822</td>\n",
       "      <td>939-53-1702</td>\n",
       "      <td>Josiah</td>\n",
       "      <td>L</td>\n",
       "      <td>Mcmiller</td>\n",
       "      <td>W14066</td>\n",
       "      <td>E VALENCIA RD</td>\n",
       "      <td>None</td>\n",
       "      <td>None</td>\n",
       "      <td>ANYTOWN</td>\n",
       "      <td>...</td>\n",
       "      <td>Mcmiller</td>\n",
       "      <td>L</td>\n",
       "      <td>J</td>\n",
       "      <td>M</td>\n",
       "      <td>Jo</td>\n",
       "      <td>Mc</td>\n",
       "      <td>Jos</td>\n",
       "      <td>Mcm</td>\n",
       "      <td>E145</td>\n",
       "      <td>000</td>\n",
       "    </tr>\n",
       "    <tr>\n",
       "      <th>32823</th>\n",
       "      <td>simulated_geobase_reference_file_32823</td>\n",
       "      <td>993-56-2286</td>\n",
       "      <td>Larisa</td>\n",
       "      <td>A</td>\n",
       "      <td>Beilfuss</td>\n",
       "      <td>1411</td>\n",
       "      <td>W 80TH ST</td>\n",
       "      <td>None</td>\n",
       "      <td>None</td>\n",
       "      <td>ANYTOWN</td>\n",
       "      <td>...</td>\n",
       "      <td>Beilfuss</td>\n",
       "      <td>A</td>\n",
       "      <td>L</td>\n",
       "      <td>B</td>\n",
       "      <td>La</td>\n",
       "      <td>Be</td>\n",
       "      <td>Lar</td>\n",
       "      <td>Bei</td>\n",
       "      <td>W323</td>\n",
       "      <td>000</td>\n",
       "    </tr>\n",
       "    <tr>\n",
       "      <th>32824</th>\n",
       "      <td>simulated_geobase_reference_file_32824</td>\n",
       "      <td>997-51-7349</td>\n",
       "      <td>Brooks</td>\n",
       "      <td>None</td>\n",
       "      <td>Cuellar</td>\n",
       "      <td>116</td>\n",
       "      <td>WAKEMA RD</td>\n",
       "      <td>None</td>\n",
       "      <td>None</td>\n",
       "      <td>ANYTOWN</td>\n",
       "      <td>...</td>\n",
       "      <td>Cuellar</td>\n",
       "      <td>None</td>\n",
       "      <td>B</td>\n",
       "      <td>C</td>\n",
       "      <td>Br</td>\n",
       "      <td>Cu</td>\n",
       "      <td>Bro</td>\n",
       "      <td>Cue</td>\n",
       "      <td>W256</td>\n",
       "      <td>000</td>\n",
       "    </tr>\n",
       "  </tbody>\n",
       "</table>\n",
       "<p>32825 rows × 28 columns</p>\n",
       "</div>"
      ],
      "text/plain": [
       "                                    record_id          ssn first_name  \\\n",
       "0          simulated_geobase_reference_file_0  685-77-0916      Betty   \n",
       "1          simulated_geobase_reference_file_1  765-44-4521      Ethep   \n",
       "2          simulated_geobase_reference_file_2  765-44-4521      Ethep   \n",
       "3          simulated_geobase_reference_file_3  726-57-2168  Josephine   \n",
       "4          simulated_geobase_reference_file_4  726-57-2168  Josephine   \n",
       "...                                       ...          ...        ...   \n",
       "32820  simulated_geobase_reference_file_32820  939-53-1702     Josiah   \n",
       "32821  simulated_geobase_reference_file_32821  939-53-1702     Josiah   \n",
       "32822  simulated_geobase_reference_file_32822  939-53-1702     Josiah   \n",
       "32823  simulated_geobase_reference_file_32823  993-56-2286     Larisa   \n",
       "32824  simulated_geobase_reference_file_32824  997-51-7349     Brooks   \n",
       "\n",
       "      middle_name last_name street_number    street_name unit_number po_box  \\\n",
       "0          Audrey      Keel         47461   W ROXBURY DR        None   None   \n",
       "1           Nancy   Collier          None           None        None   None   \n",
       "2           Nancy   Collier          None           None        None   None   \n",
       "3        Margaret    Babbie          3743  MESA VERDE ST        None   None   \n",
       "4        Margaret    Babbie          3743  MESA VERDE ST        None   None   \n",
       "...           ...       ...           ...            ...         ...    ...   \n",
       "32820           L  Mcmiller          2904  YACHT CLUB PT        None   None   \n",
       "32821           L  Mcmiller        W14066  E VALENCIA RD        None   None   \n",
       "32822           L  Mcmiller        W14066  E VALENCIA RD        None   None   \n",
       "32823           A  Beilfuss          1411      W 80TH ST        None   None   \n",
       "32824        None   Cuellar           116      WAKEMA RD        None   None   \n",
       "\n",
       "          city  ... last_name_12 middle_initial first_name_1  last_name_1  \\\n",
       "0      ANYTOWN  ...         Keel              A            B            K   \n",
       "1         None  ...      Collier              N            E            C   \n",
       "2         None  ...      Collier              N            E            C   \n",
       "3      ANYTOWN  ...       Babbie              M            J            B   \n",
       "4         None  ...       Babbie              M            J            B   \n",
       "...        ...  ...          ...            ...          ...          ...   \n",
       "32820  ANYTOWN  ...     Mcmiller              L            J            M   \n",
       "32821  ANYTOWN  ...     Mcmiller              L            J            M   \n",
       "32822  ANYTOWN  ...     Mcmiller              L            J            M   \n",
       "32823  ANYTOWN  ...     Beilfuss              A            L            B   \n",
       "32824  ANYTOWN  ...      Cuellar           None            B            C   \n",
       "\n",
       "       first_name_2  last_name_2 first_name_3 last_name_3 street_name_soundex  \\\n",
       "0                Be           Ke          Bet         Kee                W621   \n",
       "1                Et           Co          Eth         Col                 NaN   \n",
       "2                Et           Co          Eth         Col                 NaN   \n",
       "3                Jo           Ba          Jos         Bab                M216   \n",
       "4                Jo           Ba          Jos         Bab                M216   \n",
       "...             ...          ...          ...         ...                 ...   \n",
       "32820            Jo           Mc          Jos         Mcm                Y232   \n",
       "32821            Jo           Mc          Jos         Mcm                E145   \n",
       "32822            Jo           Mc          Jos         Mcm                E145   \n",
       "32823            La           Be          Lar         Bei                W323   \n",
       "32824            Br           Cu          Bro         Cue                W256   \n",
       "\n",
       "       zip3  \n",
       "0       000  \n",
       "1      None  \n",
       "2      None  \n",
       "3       000  \n",
       "4       000  \n",
       "...     ...  \n",
       "32820   000  \n",
       "32821   000  \n",
       "32822   000  \n",
       "32823   000  \n",
       "32824   000  \n",
       "\n",
       "[32825 rows x 28 columns]"
      ]
     },
     "execution_count": 28,
     "metadata": {},
     "output_type": "execute_result"
    }
   ],
   "source": [
    "geobase_reference_file"
   ]
  },
  {
   "cell_type": "code",
   "execution_count": 29,
   "id": "c749e6f5-75aa-45a8-8007-7051d12019b8",
   "metadata": {
    "execution": {
     "iopub.execute_input": "2023-12-01T17:57:48.258858Z",
     "iopub.status.busy": "2023-12-01T17:57:48.258498Z",
     "iopub.status.idle": "2023-12-01T17:57:48.263654Z",
     "shell.execute_reply": "2023-12-01T17:57:48.263034Z"
    },
    "papermill": {
     "duration": 0.025084,
     "end_time": "2023-12-01T17:57:48.264868",
     "exception": false,
     "start_time": "2023-12-01T17:57:48.239784",
     "status": "completed"
    },
    "tags": []
   },
   "outputs": [
    {
     "data": {
      "text/plain": [
       "19875"
      ]
     },
     "execution_count": 29,
     "metadata": {},
     "output_type": "execute_result"
    }
   ],
   "source": [
    "len(name_dob_reference_file)"
   ]
  },
  {
   "cell_type": "code",
   "execution_count": 30,
   "id": "cebf9174-67d5-47e7-a072-5b2998faf57c",
   "metadata": {
    "execution": {
     "iopub.execute_input": "2023-12-01T17:57:48.303028Z",
     "iopub.status.busy": "2023-12-01T17:57:48.302700Z",
     "iopub.status.idle": "2023-12-01T17:57:48.339651Z",
     "shell.execute_reply": "2023-12-01T17:57:48.338951Z"
    },
    "papermill": {
     "duration": 0.057839,
     "end_time": "2023-12-01T17:57:48.341249",
     "exception": false,
     "start_time": "2023-12-01T17:57:48.283410",
     "status": "completed"
    },
    "tags": []
   },
   "outputs": [
    {
     "data": {
      "text/html": [
       "<div>\n",
       "<style scoped>\n",
       "    .dataframe tbody tr th:only-of-type {\n",
       "        vertical-align: middle;\n",
       "    }\n",
       "\n",
       "    .dataframe tbody tr th {\n",
       "        vertical-align: top;\n",
       "    }\n",
       "\n",
       "    .dataframe thead th {\n",
       "        text-align: right;\n",
       "    }\n",
       "</style>\n",
       "<table border=\"1\" class=\"dataframe\">\n",
       "  <thead>\n",
       "    <tr style=\"text-align: right;\">\n",
       "      <th></th>\n",
       "      <th>record_id</th>\n",
       "      <th>ssn</th>\n",
       "      <th>first_name</th>\n",
       "      <th>middle_name</th>\n",
       "      <th>last_name</th>\n",
       "      <th>pik</th>\n",
       "      <th>month_of_birth</th>\n",
       "      <th>year_of_birth</th>\n",
       "      <th>day_of_birth</th>\n",
       "      <th>first_name_15</th>\n",
       "      <th>...</th>\n",
       "      <th>first_name_2</th>\n",
       "      <th>last_name_2</th>\n",
       "      <th>first_name_3</th>\n",
       "      <th>last_name_3</th>\n",
       "      <th>first_name_nysiis</th>\n",
       "      <th>first_name_reverse_soundex</th>\n",
       "      <th>last_name_nysiis</th>\n",
       "      <th>last_name_reverse_soundex</th>\n",
       "      <th>first_initial_cut</th>\n",
       "      <th>last_initial_cut</th>\n",
       "    </tr>\n",
       "  </thead>\n",
       "  <tbody>\n",
       "    <tr>\n",
       "      <th>0</th>\n",
       "      <td>simulated_name_dob_reference_file_0</td>\n",
       "      <td>685-77-0916</td>\n",
       "      <td>Betty</td>\n",
       "      <td>Audrey</td>\n",
       "      <td>Keel</td>\n",
       "      <td>105906</td>\n",
       "      <td>12.0</td>\n",
       "      <td>1922.0</td>\n",
       "      <td>5.0</td>\n",
       "      <td>Betty</td>\n",
       "      <td>...</td>\n",
       "      <td>Be</td>\n",
       "      <td>Ke</td>\n",
       "      <td>Bet</td>\n",
       "      <td>Kee</td>\n",
       "      <td>BATY</td>\n",
       "      <td>Y310</td>\n",
       "      <td>CAL</td>\n",
       "      <td>L200</td>\n",
       "      <td>B</td>\n",
       "      <td>K</td>\n",
       "    </tr>\n",
       "    <tr>\n",
       "      <th>1</th>\n",
       "      <td>simulated_name_dob_reference_file_1</td>\n",
       "      <td>765-44-4521</td>\n",
       "      <td>Ethep</td>\n",
       "      <td>Nancy</td>\n",
       "      <td>Collier</td>\n",
       "      <td>104653</td>\n",
       "      <td>NaN</td>\n",
       "      <td>NaN</td>\n",
       "      <td>NaN</td>\n",
       "      <td>Ethep</td>\n",
       "      <td>...</td>\n",
       "      <td>Et</td>\n",
       "      <td>Co</td>\n",
       "      <td>Eth</td>\n",
       "      <td>Col</td>\n",
       "      <td>ETAP</td>\n",
       "      <td>P300</td>\n",
       "      <td>CALAR</td>\n",
       "      <td>R420</td>\n",
       "      <td>E</td>\n",
       "      <td>C</td>\n",
       "    </tr>\n",
       "    <tr>\n",
       "      <th>2</th>\n",
       "      <td>simulated_name_dob_reference_file_2</td>\n",
       "      <td>765-44-4521</td>\n",
       "      <td>Ethep</td>\n",
       "      <td>Nancy</td>\n",
       "      <td>Collier</td>\n",
       "      <td>104653</td>\n",
       "      <td>2.0</td>\n",
       "      <td>1923.0</td>\n",
       "      <td>13.0</td>\n",
       "      <td>Ethep</td>\n",
       "      <td>...</td>\n",
       "      <td>Et</td>\n",
       "      <td>Co</td>\n",
       "      <td>Eth</td>\n",
       "      <td>Col</td>\n",
       "      <td>ETAP</td>\n",
       "      <td>P300</td>\n",
       "      <td>CALAR</td>\n",
       "      <td>R420</td>\n",
       "      <td>E</td>\n",
       "      <td>C</td>\n",
       "    </tr>\n",
       "    <tr>\n",
       "      <th>3</th>\n",
       "      <td>simulated_name_dob_reference_file_3</td>\n",
       "      <td>726-57-2168</td>\n",
       "      <td>Josephine</td>\n",
       "      <td>Margaret</td>\n",
       "      <td>Babbie</td>\n",
       "      <td>106223</td>\n",
       "      <td>7.0</td>\n",
       "      <td>1923.0</td>\n",
       "      <td>28.0</td>\n",
       "      <td>Josephine</td>\n",
       "      <td>...</td>\n",
       "      <td>Jo</td>\n",
       "      <td>Ba</td>\n",
       "      <td>Jos</td>\n",
       "      <td>Bab</td>\n",
       "      <td>JASAFAN</td>\n",
       "      <td>E512</td>\n",
       "      <td>BABY</td>\n",
       "      <td>E110</td>\n",
       "      <td>J</td>\n",
       "      <td>B</td>\n",
       "    </tr>\n",
       "    <tr>\n",
       "      <th>4</th>\n",
       "      <td>simulated_name_dob_reference_file_4</td>\n",
       "      <td>365-44-3027</td>\n",
       "      <td>Betty</td>\n",
       "      <td>Mary</td>\n",
       "      <td>None</td>\n",
       "      <td>107896</td>\n",
       "      <td>8.0</td>\n",
       "      <td>1923.0</td>\n",
       "      <td>9.0</td>\n",
       "      <td>Betty</td>\n",
       "      <td>...</td>\n",
       "      <td>Be</td>\n",
       "      <td>None</td>\n",
       "      <td>Bet</td>\n",
       "      <td>None</td>\n",
       "      <td>BATY</td>\n",
       "      <td>Y310</td>\n",
       "      <td>NaN</td>\n",
       "      <td>NaN</td>\n",
       "      <td>B</td>\n",
       "      <td>A-or-blank</td>\n",
       "    </tr>\n",
       "    <tr>\n",
       "      <th>...</th>\n",
       "      <td>...</td>\n",
       "      <td>...</td>\n",
       "      <td>...</td>\n",
       "      <td>...</td>\n",
       "      <td>...</td>\n",
       "      <td>...</td>\n",
       "      <td>...</td>\n",
       "      <td>...</td>\n",
       "      <td>...</td>\n",
       "      <td>...</td>\n",
       "      <td>...</td>\n",
       "      <td>...</td>\n",
       "      <td>...</td>\n",
       "      <td>...</td>\n",
       "      <td>...</td>\n",
       "      <td>...</td>\n",
       "      <td>...</td>\n",
       "      <td>...</td>\n",
       "      <td>...</td>\n",
       "      <td>...</td>\n",
       "      <td>...</td>\n",
       "    </tr>\n",
       "    <tr>\n",
       "      <th>19870</th>\n",
       "      <td>simulated_name_dob_reference_file_19870</td>\n",
       "      <td>977-84-6791</td>\n",
       "      <td>Liam</td>\n",
       "      <td>L</td>\n",
       "      <td>Wheatley</td>\n",
       "      <td>108816</td>\n",
       "      <td>NaN</td>\n",
       "      <td>NaN</td>\n",
       "      <td>NaN</td>\n",
       "      <td>Liam</td>\n",
       "      <td>...</td>\n",
       "      <td>Li</td>\n",
       "      <td>Wh</td>\n",
       "      <td>Lia</td>\n",
       "      <td>Whe</td>\n",
       "      <td>LAN</td>\n",
       "      <td>M400</td>\n",
       "      <td>WATLY</td>\n",
       "      <td>Y430</td>\n",
       "      <td>L</td>\n",
       "      <td>U-Z</td>\n",
       "    </tr>\n",
       "    <tr>\n",
       "      <th>19871</th>\n",
       "      <td>simulated_name_dob_reference_file_19871</td>\n",
       "      <td>997-95-0405</td>\n",
       "      <td>Joseph</td>\n",
       "      <td>D</td>\n",
       "      <td>Dellinger</td>\n",
       "      <td>108817</td>\n",
       "      <td>NaN</td>\n",
       "      <td>NaN</td>\n",
       "      <td>NaN</td>\n",
       "      <td>Joseph</td>\n",
       "      <td>...</td>\n",
       "      <td>Jo</td>\n",
       "      <td>De</td>\n",
       "      <td>Jos</td>\n",
       "      <td>Del</td>\n",
       "      <td>JASAF</td>\n",
       "      <td>H122</td>\n",
       "      <td>DALANGAR</td>\n",
       "      <td>R254</td>\n",
       "      <td>J</td>\n",
       "      <td>D</td>\n",
       "    </tr>\n",
       "    <tr>\n",
       "      <th>19872</th>\n",
       "      <td>simulated_name_dob_reference_file_19872</td>\n",
       "      <td>939-53-1702</td>\n",
       "      <td>Josiah</td>\n",
       "      <td>L</td>\n",
       "      <td>Mcmiller</td>\n",
       "      <td>108818</td>\n",
       "      <td>NaN</td>\n",
       "      <td>NaN</td>\n",
       "      <td>NaN</td>\n",
       "      <td>Josiah</td>\n",
       "      <td>...</td>\n",
       "      <td>Jo</td>\n",
       "      <td>Mc</td>\n",
       "      <td>Jos</td>\n",
       "      <td>Mcm</td>\n",
       "      <td>JAS</td>\n",
       "      <td>H220</td>\n",
       "      <td>MCNALAR</td>\n",
       "      <td>R452</td>\n",
       "      <td>J</td>\n",
       "      <td>M</td>\n",
       "    </tr>\n",
       "    <tr>\n",
       "      <th>19873</th>\n",
       "      <td>simulated_name_dob_reference_file_19873</td>\n",
       "      <td>993-56-2286</td>\n",
       "      <td>Larisa</td>\n",
       "      <td>A</td>\n",
       "      <td>Beilfuss</td>\n",
       "      <td>108819</td>\n",
       "      <td>NaN</td>\n",
       "      <td>NaN</td>\n",
       "      <td>NaN</td>\n",
       "      <td>Larisa</td>\n",
       "      <td>...</td>\n",
       "      <td>La</td>\n",
       "      <td>Be</td>\n",
       "      <td>Lar</td>\n",
       "      <td>Bei</td>\n",
       "      <td>LARAS</td>\n",
       "      <td>A264</td>\n",
       "      <td>BALF</td>\n",
       "      <td>S141</td>\n",
       "      <td>L</td>\n",
       "      <td>B</td>\n",
       "    </tr>\n",
       "    <tr>\n",
       "      <th>19874</th>\n",
       "      <td>simulated_name_dob_reference_file_19874</td>\n",
       "      <td>997-51-7349</td>\n",
       "      <td>Brooks</td>\n",
       "      <td>None</td>\n",
       "      <td>Cuellar</td>\n",
       "      <td>108820</td>\n",
       "      <td>NaN</td>\n",
       "      <td>NaN</td>\n",
       "      <td>NaN</td>\n",
       "      <td>Brooks</td>\n",
       "      <td>...</td>\n",
       "      <td>Br</td>\n",
       "      <td>Cu</td>\n",
       "      <td>Bro</td>\n",
       "      <td>Cue</td>\n",
       "      <td>BRAC</td>\n",
       "      <td>S610</td>\n",
       "      <td>CALAR</td>\n",
       "      <td>R420</td>\n",
       "      <td>B</td>\n",
       "      <td>C</td>\n",
       "    </tr>\n",
       "  </tbody>\n",
       "</table>\n",
       "<p>19875 rows × 24 columns</p>\n",
       "</div>"
      ],
      "text/plain": [
       "                                     record_id          ssn first_name  \\\n",
       "0          simulated_name_dob_reference_file_0  685-77-0916      Betty   \n",
       "1          simulated_name_dob_reference_file_1  765-44-4521      Ethep   \n",
       "2          simulated_name_dob_reference_file_2  765-44-4521      Ethep   \n",
       "3          simulated_name_dob_reference_file_3  726-57-2168  Josephine   \n",
       "4          simulated_name_dob_reference_file_4  365-44-3027      Betty   \n",
       "...                                        ...          ...        ...   \n",
       "19870  simulated_name_dob_reference_file_19870  977-84-6791       Liam   \n",
       "19871  simulated_name_dob_reference_file_19871  997-95-0405     Joseph   \n",
       "19872  simulated_name_dob_reference_file_19872  939-53-1702     Josiah   \n",
       "19873  simulated_name_dob_reference_file_19873  993-56-2286     Larisa   \n",
       "19874  simulated_name_dob_reference_file_19874  997-51-7349     Brooks   \n",
       "\n",
       "      middle_name  last_name     pik  month_of_birth  year_of_birth  \\\n",
       "0          Audrey       Keel  105906            12.0         1922.0   \n",
       "1           Nancy    Collier  104653             NaN            NaN   \n",
       "2           Nancy    Collier  104653             2.0         1923.0   \n",
       "3        Margaret     Babbie  106223             7.0         1923.0   \n",
       "4            Mary       None  107896             8.0         1923.0   \n",
       "...           ...        ...     ...             ...            ...   \n",
       "19870           L   Wheatley  108816             NaN            NaN   \n",
       "19871           D  Dellinger  108817             NaN            NaN   \n",
       "19872           L   Mcmiller  108818             NaN            NaN   \n",
       "19873           A   Beilfuss  108819             NaN            NaN   \n",
       "19874        None    Cuellar  108820             NaN            NaN   \n",
       "\n",
       "       day_of_birth first_name_15  ... first_name_2 last_name_2 first_name_3  \\\n",
       "0               5.0         Betty  ...           Be          Ke          Bet   \n",
       "1               NaN         Ethep  ...           Et          Co          Eth   \n",
       "2              13.0         Ethep  ...           Et          Co          Eth   \n",
       "3              28.0     Josephine  ...           Jo          Ba          Jos   \n",
       "4               9.0         Betty  ...           Be        None          Bet   \n",
       "...             ...           ...  ...          ...         ...          ...   \n",
       "19870           NaN          Liam  ...           Li          Wh          Lia   \n",
       "19871           NaN        Joseph  ...           Jo          De          Jos   \n",
       "19872           NaN        Josiah  ...           Jo          Mc          Jos   \n",
       "19873           NaN        Larisa  ...           La          Be          Lar   \n",
       "19874           NaN        Brooks  ...           Br          Cu          Bro   \n",
       "\n",
       "      last_name_3 first_name_nysiis first_name_reverse_soundex  \\\n",
       "0             Kee              BATY                       Y310   \n",
       "1             Col              ETAP                       P300   \n",
       "2             Col              ETAP                       P300   \n",
       "3             Bab           JASAFAN                       E512   \n",
       "4            None              BATY                       Y310   \n",
       "...           ...               ...                        ...   \n",
       "19870         Whe               LAN                       M400   \n",
       "19871         Del             JASAF                       H122   \n",
       "19872         Mcm               JAS                       H220   \n",
       "19873         Bei             LARAS                       A264   \n",
       "19874         Cue              BRAC                       S610   \n",
       "\n",
       "      last_name_nysiis last_name_reverse_soundex first_initial_cut  \\\n",
       "0                  CAL                      L200                 B   \n",
       "1                CALAR                      R420                 E   \n",
       "2                CALAR                      R420                 E   \n",
       "3                 BABY                      E110                 J   \n",
       "4                  NaN                       NaN                 B   \n",
       "...                ...                       ...               ...   \n",
       "19870            WATLY                      Y430                 L   \n",
       "19871         DALANGAR                      R254                 J   \n",
       "19872          MCNALAR                      R452                 J   \n",
       "19873             BALF                      S141                 L   \n",
       "19874            CALAR                      R420                 B   \n",
       "\n",
       "      last_initial_cut  \n",
       "0                    K  \n",
       "1                    C  \n",
       "2                    C  \n",
       "3                    B  \n",
       "4           A-or-blank  \n",
       "...                ...  \n",
       "19870              U-Z  \n",
       "19871                D  \n",
       "19872                M  \n",
       "19873                B  \n",
       "19874                C  \n",
       "\n",
       "[19875 rows x 24 columns]"
      ]
     },
     "execution_count": 30,
     "metadata": {},
     "output_type": "execute_result"
    }
   ],
   "source": [
    "name_dob_reference_file"
   ]
  },
  {
   "cell_type": "markdown",
   "id": "57a115b7-6215-4bcf-8444-ef2223040a02",
   "metadata": {
    "papermill": {
     "duration": 0.017862,
     "end_time": "2023-12-01T17:57:48.378583",
     "exception": false,
     "start_time": "2023-12-01T17:57:48.360721",
     "status": "completed"
    },
    "tags": []
   },
   "source": [
    "# Emulate Multi-Match with splink\n",
    "\n",
    "Wagner and Layne, p. 8:\n",
    "\n",
    "> The PVS employs its probabilistic record linkage software, Multi-Match (Wagner\n",
    "2012), as an integral part of the PVS.\n",
    "\n",
    "Wagner and Layne, p. 12:\n",
    "\n",
    "> PVS uses the same Multi-Match engine for each probabilistic search type. For each\n",
    "search module the analyst defines a parameter file, which is passed to Multi-Match. The\n",
    "parameter file includes threshold value(s) for the number of passes, blocking keys, and\n",
    "within each pass, the match variables, match comparison type, and matching weights...\n",
    ">\n",
    "> Records must first match exactly on the blocking keys before any comparisons\n",
    "between the match variables are attempted. Each match variable is given an\n",
    "m and\n",
    "u\n",
    "probability, which is translated by MultiMatch as agreement and disagreement weights.\n",
    "The sum of all match variable comparison weights for a record pair is the composite\n",
    "weight. All record pairs with a composite weight greater than or equal to the threshold\n",
    "set in the parameter file are linked, and the records from the incoming file for these\n",
    "linked cases are excluded from all remaining passes. All Numident records are always\n",
    "available for linking in every pass. Any record missing data for any of the blocking fields\n",
    "for a pass skips that pass and moves to the next pass.\n",
    "\n",
    "[splink](https://github.com/moj-analytical-services/splink) is similar to Multi-Match\n",
    "(both are based on the Fellegi-Sunter approach to record linkage).\n",
    "It also implements:\n",
    "- Exact blocking on specified keys\n",
    "- Determining overall match probability based on conditional independence of individual field comparisons\n",
    "  (it is equivalent to multiply the probability ratios, or sum the logarithmic \"weights\" as Multi-Match describes it),\n",
    "  which each have m and u probabilities\n",
    "- Setting a match threshold\n",
    "\n",
    "However, splink does not include some additional logic built into Multi-Match,\n",
    "specifically the ability to run multiple \"passes,\" removing linked records from\n",
    "subsequent passes.\n",
    "We have to implement that ourselves, calling splink again in each pass."
   ]
  },
  {
   "cell_type": "markdown",
   "id": "3a52fa1a-85ca-4a5a-a978-08e43c5b9eb0",
   "metadata": {
    "papermill": {
     "duration": 0.018815,
     "end_time": "2023-12-01T17:57:48.415753",
     "exception": false,
     "start_time": "2023-12-01T17:57:48.396938",
     "status": "completed"
    },
    "tags": []
   },
   "source": [
    "## Estimate parameters (lambda, m, u) once for all modules\n",
    "\n",
    "In Multi-Match, there is no lambda (prior probability of a link, before any comparisons are observed).\n",
    "This is because Multi-Match works entirely in weight space, and sets different weight thresholds\n",
    "in different modules/passes instead of changing the prior probability.\n",
    "\n",
    "In Multi-Match parameters are not directly estimated from the data.\n",
    "They are primarily set manually by analysts, with a different set of parameter files\n",
    "maintained for each type of input file (e.g. survey, administrative).\n",
    "\n",
    "All parameters except lambda are column-level parameters.\n",
    "We estimate the column-level parameters using the GeoBase Reference File,\n",
    "since it has all columns that are used for matching with any reference file.\n",
    "\n",
    "We estimate lambda (manually, see below) separately by reference file,\n",
    "since the number of records is different between the reference files but\n",
    "the size of the underlying population (people we are trying to match) is constant."
   ]
  },
  {
   "cell_type": "markdown",
   "id": "0f5283ef-c44f-4a19-9f58-a0d091697f1a",
   "metadata": {
    "papermill": {
     "duration": 0.018422,
     "end_time": "2023-12-01T17:57:48.452831",
     "exception": false,
     "start_time": "2023-12-01T17:57:48.434409",
     "status": "completed"
    },
    "tags": []
   },
   "source": [
    "### lambda (prior probability of a match)\n",
    "\n",
    "Splink has a built-in method (estimate_probability_two_random_records_match)\n",
    "for estimating this, but it did not seem to give me reasonable estimates.\n",
    "\n",
    "We just make an informed guess here based on how much overlap we expect\n",
    "in the files, how much unintentional duplication we expect in the files (e.g. someone\n",
    "being enumerated twice), how much *intentional* duplication we have in the\n",
    "files (e.g. a record for each nickname variant), and some simplifying assumptions.\n",
    "\n",
    "Our assumptions:\n",
    "- 5% of the enumerations in the CUF are unintentional duplicates\n",
    "- 0.5% of the PIKs in the reference file are unintentional duplicates\n",
    "  (that same person is also represented with a different PIK)\n",
    "- 90% of the people in the CUF are represented in the reference files\n",
    "- Being represented in both files is independent of being unintentionally\n",
    "  or intentionally duplicated\n",
    "- Being intentionally duplicated in one file is independent of being intentionally\n",
    "  duplicated in the other (likely not true since having a name with lots of variants\n",
    "  would cause intentional duplicates in both)\n",
    "\n",
    "We do this first (before m and u probabilities) because having lambda estimated is\n",
    "useful to the EM algorithm for estimating m and u."
   ]
  },
  {
   "cell_type": "code",
   "execution_count": 31,
   "id": "9e179c13-03b3-4100-81d7-5db54c05c371",
   "metadata": {
    "execution": {
     "iopub.execute_input": "2023-12-01T17:57:48.491791Z",
     "iopub.status.busy": "2023-12-01T17:57:48.491412Z",
     "iopub.status.idle": "2023-12-01T17:57:48.505258Z",
     "shell.execute_reply": "2023-12-01T17:57:48.504662Z"
    },
    "papermill": {
     "duration": 0.034089,
     "end_time": "2023-12-01T17:57:48.506591",
     "exception": false,
     "start_time": "2023-12-01T17:57:48.472502",
     "status": "completed"
    },
    "tags": []
   },
   "outputs": [
    {
     "data": {
      "text/plain": [
       "1.422530664692062e-05"
      ]
     },
     "execution_count": 31,
     "metadata": {},
     "output_type": "execute_result"
    }
   ],
   "source": [
    "def estimate_number_true_matches(input_file, reference_file):\n",
    "    people_represented_in_input_file = (\n",
    "        len(df_ops.drop_duplicates(input_file[['record_id_raw_input_file']])) * 0.95\n",
    "    )\n",
    "    people_represented_in_reference_file = (\n",
    "        len(df_ops.drop_duplicates(reference_file[['pik']])) * 0.995\n",
    "    )\n",
    "    people_represented_in_both = people_represented_in_input_file * 0.9\n",
    "\n",
    "    # Assuming independence conditions as noted above, the number of true\n",
    "    # matches that should be found for *each* true person is the expected number\n",
    "    # of records in one file times the expected number of records in the other\n",
    "    input_file_records_per_person = people_represented_in_input_file / len(input_file)\n",
    "    reference_file_records_per_person = people_represented_in_reference_file / len(reference_file)\n",
    "    record_matches_per_person = input_file_records_per_person * reference_file_records_per_person\n",
    "\n",
    "    return people_represented_in_both * record_matches_per_person\n",
    "\n",
    "def probability_two_random_records_match(input_file, reference_file):\n",
    "    cartesian_product = len(input_file) * len(reference_file)\n",
    "    if cartesian_product == 0:\n",
    "        # Does not matter\n",
    "        return 0.5\n",
    "\n",
    "    return (\n",
    "        estimate_number_true_matches(input_file, reference_file) /\n",
    "        cartesian_product\n",
    "    )\n",
    "\n",
    "probability_two_random_records_match(census_2030, geobase_reference_file)"
   ]
  },
  {
   "cell_type": "markdown",
   "id": "2d798575-22de-4515-942c-60ecc0dbe3a0",
   "metadata": {
    "papermill": {
     "duration": 0.019347,
     "end_time": "2023-12-01T17:57:48.544959",
     "exception": false,
     "start_time": "2023-12-01T17:57:48.525612",
     "status": "completed"
    },
    "tags": []
   },
   "source": [
    "### m and u probabilities"
   ]
  },
  {
   "cell_type": "code",
   "execution_count": 32,
   "id": "4d17327f-bf5d-48dd-91ef-602aced3b2aa",
   "metadata": {
    "execution": {
     "iopub.execute_input": "2023-12-01T17:57:48.584600Z",
     "iopub.status.busy": "2023-12-01T17:57:48.584270Z",
     "iopub.status.idle": "2023-12-01T17:57:48.590426Z",
     "shell.execute_reply": "2023-12-01T17:57:48.589808Z"
    },
    "papermill": {
     "duration": 0.027626,
     "end_time": "2023-12-01T17:57:48.591634",
     "exception": false,
     "start_time": "2023-12-01T17:57:48.564008",
     "status": "completed"
    },
    "tags": []
   },
   "outputs": [
    {
     "data": {
      "text/plain": [
       "['record_id',\n",
       " 'first_name',\n",
       " 'middle_initial',\n",
       " 'last_name',\n",
       " 'street_number',\n",
       " 'street_name',\n",
       " 'unit_number',\n",
       " 'city',\n",
       " 'state',\n",
       " 'zipcode',\n",
       " 'month_of_birth',\n",
       " 'year_of_birth',\n",
       " 'day_of_birth',\n",
       " 'geokey',\n",
       " 'first_name_15',\n",
       " 'last_name_12',\n",
       " 'first_name_1',\n",
       " 'last_name_1',\n",
       " 'first_name_2',\n",
       " 'last_name_2',\n",
       " 'first_name_3',\n",
       " 'last_name_3',\n",
       " 'first_name_nysiis',\n",
       " 'first_name_reverse_soundex',\n",
       " 'last_name_nysiis',\n",
       " 'last_name_reverse_soundex',\n",
       " 'street_name_soundex',\n",
       " 'zip3',\n",
       " 'first_initial_cut',\n",
       " 'last_initial_cut']"
      ]
     },
     "execution_count": 32,
     "metadata": {},
     "output_type": "execute_result"
    }
   ],
   "source": [
    "common_cols = [c for c in census_2030.columns if c in geobase_reference_file.columns or c in name_dob_reference_file.columns]\n",
    "common_cols"
   ]
  },
  {
   "cell_type": "code",
   "execution_count": 33,
   "id": "07e5cd59-59c0-4ef5-bcba-f7168f7492fd",
   "metadata": {
    "execution": {
     "iopub.execute_input": "2023-12-01T17:57:48.630095Z",
     "iopub.status.busy": "2023-12-01T17:57:48.629771Z",
     "iopub.status.idle": "2023-12-01T17:57:48.634668Z",
     "shell.execute_reply": "2023-12-01T17:57:48.634005Z"
    },
    "papermill": {
     "duration": 0.025273,
     "end_time": "2023-12-01T17:57:48.635958",
     "exception": false,
     "start_time": "2023-12-01T17:57:48.610685",
     "status": "completed"
    },
    "tags": []
   },
   "outputs": [],
   "source": [
    "if splink_engine == 'spark':\n",
    "    # https://moj-analytical-services.github.io/splink/demos/examples/spark/deduplicate_1k_synthetic.html\n",
    "    from splink.spark.jar_location import similarity_jar_location\n",
    "\n",
    "    from pyspark import SparkContext, SparkConf\n",
    "    from pyspark.sql import SparkSession\n",
    "    from pyspark.sql import types\n",
    "\n",
    "    conf = SparkConf()\n",
    "    conf.setMaster(os.getenv(\"LINKER_SPARK_MASTER_URL\", spark_master_url))\n",
    "    conf.set(\"spark.driver.memory\", \"20g\")\n",
    "    conf.set(\"spark.executor.instances\", spark_num_jobs)\n",
    "    conf.set(\"spark.executor.cores\", spark_cpus_per_job)\n",
    "    conf.set(\"spark.executor.memory\", spark_memory_per_job)\n",
    "\n",
    "    # Add custom similarity functions, which are bundled with Splink\n",
    "    # documented here: https://github.com/moj-analytical-services/splink_scalaudfs\n",
    "    path = similarity_jar_location()\n",
    "    conf.set(\"spark.jars\", path)\n",
    "\n",
    "    sc = SparkContext.getOrCreate(conf=conf)\n",
    "\n",
    "    spark = SparkSession(sc)\n",
    "    spark.sparkContext.setCheckpointDir(\"./tmpCheckpoints\")"
   ]
  },
  {
   "cell_type": "code",
   "execution_count": 34,
   "id": "c39465e9-edee-4a73-ac63-c4f060013a00",
   "metadata": {
    "execution": {
     "iopub.execute_input": "2023-12-01T17:57:48.675841Z",
     "iopub.status.busy": "2023-12-01T17:57:48.675517Z",
     "iopub.status.idle": "2023-12-01T17:57:48.717500Z",
     "shell.execute_reply": "2023-12-01T17:57:48.716960Z"
    },
    "papermill": {
     "duration": 0.063541,
     "end_time": "2023-12-01T17:57:48.719050",
     "exception": false,
     "start_time": "2023-12-01T17:57:48.655509",
     "status": "completed"
    },
    "tags": []
   },
   "outputs": [],
   "source": [
    "def prep_table_for_splink(df, dataset_name, columns):\n",
    "    result = (\n",
    "        df[[c for c in df.columns if c in columns]]\n",
    "            .assign(dataset_name=dataset_name)\n",
    "    )\n",
    "    if compute_engine == 'pandas' or splink_engine == 'duckdb':\n",
    "        # Needs to all be in one process anyway\n",
    "        return df_ops.compute(result)\n",
    "    else:\n",
    "        file_path = f'{output_dir}/intermediate_data/{dataset_name}.parquet'\n",
    "        df_ops.to_parquet(result, file_path)\n",
    "        assert splink_engine == 'spark'\n",
    "        return spark.read.parquet(file_path)\n",
    "\n",
    "tables_for_splink = [\n",
    "    prep_table_for_splink(geobase_reference_file, \"geobase_reference_file\", common_cols),\n",
    "    prep_table_for_splink(census_2030, \"census_2030\", common_cols)\n",
    "]"
   ]
  },
  {
   "cell_type": "markdown",
   "id": "df02a447-eed8-470d-8487-1954c046bebd",
   "metadata": {
    "papermill": {
     "duration": 0.018773,
     "end_time": "2023-12-01T17:57:48.759761",
     "exception": false,
     "start_time": "2023-12-01T17:57:48.740988",
     "status": "completed"
    },
    "tags": []
   },
   "source": [
    "#### Define comparison variables and levels\n",
    "\n",
    "**Variables**\n",
    "\n",
    "The most recent report, from 2023 (Brown et al., p. 29), says:\n",
    "\n",
    "> [In] GeoSearch... The typical matching variables are name, DOB, sex, and\n",
    "  various address fields...\n",
    ">\n",
    "> NameSearch... uses only name and DOB fields...\n",
    "> \n",
    "> DOBSearch... compares name, sex, and DOB...\n",
    "> \n",
    "> the Household Composition search module... attempts to find a match... based on name and DOB information\n",
    "\n",
    "So, the total list: name, DOB, sex, and \"various address fields.\"\n",
    "These address fields are listed in the PVS report (p. 34) which is admittedly from 2011:\n",
    "\n",
    "> variables used directly in matching the input file with the reference files [include]...\n",
    "> street name, street name prefix and suffix, house number, rural route and box, and ZIP code\n",
    "\n",
    "**Comparisons**\n",
    "\n",
    "Massey et al. footnote 2: \n",
    "> The PVS string comparator was developed by Winkler (1995) and measures the distance\n",
    "  between two strings on a scale from 0 to 900, where a distance score of 0 is given if\n",
    "  there is no similarity between two text strings and a score of 900 is given for an exact match.\n",
    "  The cutoff value for the string distance is set to 750 in the Name Search module.\n",
    "\n",
    "Massey and O'Hara, p. 6 footnote 7:\n",
    "> For the comparison of text strings, a prorated value\n",
    "  between the chosen agreement score and chosen disagreement score is given depending on the Jaro-Winkler\n",
    "  distance between the string in the input file and reference file.\n",
    "\n",
    "Massey et al.:\n",
    "> For numeric variables, such as year of birth, a maximum acceptable difference\n",
    "> between the variable value in the input and reference record is set. This also\n",
    "> allows for creation of an interval, or band, around year of birth to permit\n",
    "> inexact matches. Within this band, prorated agreement and disagreement weights\n",
    "> are assigned depending on the similarity of year of birth.\n",
    "\n",
    "The \"maximum acceptable distance\" implies that the m probability beyond that distance is\n",
    "zero; such pairs should never be linked.\n",
    "\n",
    "Note that this continuous \"prorated value,\" as opposed to categorizing comparison levels,\n",
    "is not possible in splink and goes outside the traditional F-S framing of m and u probabilities!\n",
    "We omit it for now."
   ]
  },
  {
   "cell_type": "code",
   "execution_count": 35,
   "id": "367d9ac2-eba6-48b9-a10c-7f3515adcf7f",
   "metadata": {
    "execution": {
     "iopub.execute_input": "2023-12-01T17:57:48.798999Z",
     "iopub.status.busy": "2023-12-01T17:57:48.798364Z",
     "iopub.status.idle": "2023-12-01T17:57:50.000389Z",
     "shell.execute_reply": "2023-12-01T17:57:49.999425Z"
    },
    "papermill": {
     "duration": 1.223415,
     "end_time": "2023-12-01T17:57:50.001956",
     "exception": false,
     "start_time": "2023-12-01T17:57:48.778541",
     "status": "completed"
    },
    "tags": []
   },
   "outputs": [],
   "source": [
    "if splink_engine == 'duckdb':\n",
    "    from splink.duckdb.comparison_library import (\n",
    "        exact_match,\n",
    "        jaro_winkler_at_thresholds,\n",
    "    )\n",
    "    import splink.duckdb.comparison_level_library as cll\n",
    "elif splink_engine == 'spark':\n",
    "    from splink.spark.comparison_library import (\n",
    "        exact_match,\n",
    "        jaro_winkler_at_thresholds,\n",
    "    )\n",
    "    import splink.spark.comparison_level_library as cll\n",
    "\n",
    "def numeric_column_comparison(col_name, human_name, maximum_inexact_match_difference):\n",
    "    return {\n",
    "        \"output_column_name\": col_name,\n",
    "        \"comparison_description\": human_name,\n",
    "        \"comparison_levels\": [\n",
    "            cll.null_level(col_name),\n",
    "            cll.exact_match_level(col_name),\n",
    "            {\n",
    "                \"sql_condition\": f\"abs({col_name}_l - {col_name}_r) <= {maximum_inexact_match_difference}\",\n",
    "                \"label_for_charts\": \"Inexact match\",\n",
    "            },\n",
    "            cll.else_level(),\n",
    "        ],\n",
    "    }\n",
    "\n",
    "numeric_columns = [\"day_of_birth\", \"month_of_birth\", \"year_of_birth\"]\n",
    "\n",
    "settings = {\n",
    "    \"link_type\": \"link_only\",\n",
    "    \"comparisons\": [\n",
    "        jaro_winkler_at_thresholds(\"first_name_15\", 750 / 900),\n",
    "        jaro_winkler_at_thresholds(\"last_name_12\", 750 / 900),\n",
    "        exact_match(\"middle_initial\"),\n",
    "        numeric_column_comparison(\"day_of_birth\", \"Day of birth\", maximum_inexact_match_difference=5),\n",
    "        numeric_column_comparison(\"month_of_birth\", \"Month of birth\", maximum_inexact_match_difference=3),\n",
    "        numeric_column_comparison(\"year_of_birth\", \"Year of birth\", maximum_inexact_match_difference=5),\n",
    "        # Using same cutoffs as for names, in the absence of a better description of\n",
    "        # how these are compared\n",
    "        jaro_winkler_at_thresholds(\"street_number\", 750 / 900),\n",
    "        jaro_winkler_at_thresholds(\"street_name\", 750 / 900),\n",
    "        jaro_winkler_at_thresholds(\"unit_number\", 750 / 900),\n",
    "        jaro_winkler_at_thresholds(\"zipcode\", 750 / 900),\n",
    "    ],\n",
    "    \"probability_two_random_records_match\": probability_two_random_records_match(census_2030, geobase_reference_file),\n",
    "    \"unique_id_column_name\": \"record_id\",\n",
    "    # Not sure exactly what this does, but it is necessary for some of the fancier graphs below\n",
    "    \"retain_intermediate_calculation_columns\": True,\n",
    "}\n",
    "\n",
    "if splink_engine == 'duckdb':\n",
    "    from splink.duckdb.linker import DuckDBLinker\n",
    "\n",
    "    linker = DuckDBLinker(\n",
    "        tables_for_splink,\n",
    "        settings,\n",
    "        input_table_aliases=[\"reference_file\", \"census_2030\"]\n",
    "    )\n",
    "elif splink_engine == 'spark':\n",
    "    from splink.spark.linker import SparkLinker\n",
    "    linker = SparkLinker(\n",
    "        tables_for_splink,\n",
    "        settings,\n",
    "        input_table_aliases=[\"reference_file\", \"census_2030\"],\n",
    "        spark=spark,\n",
    "    )\n",
    "\n",
    "    import warnings\n",
    "    # PySpark triggers a lot of Pandas warnings\n",
    "    warnings.filterwarnings(\"ignore\", category=DeprecationWarning)\n",
    "    warnings.filterwarnings(\"ignore\", category=FutureWarning)"
   ]
  },
  {
   "cell_type": "markdown",
   "id": "8248795b-29ae-4f70-b0c8-1b466112c56e",
   "metadata": {
    "papermill": {
     "duration": 0.019435,
     "end_time": "2023-12-01T17:57:50.041349",
     "exception": false,
     "start_time": "2023-12-01T17:57:50.021914",
     "status": "completed"
    },
    "tags": []
   },
   "source": [
    "#### Estimate u probabilities\n",
    "\n",
    "This method seems to work well:\n",
    "- For almost all of the columns, an exact or even inexact match is relatively rare\n",
    "- Exact matches are common on ZIP code (makes sense, given our sample data is all in one ZIP)\n",
    "- Inexact matches are more common where you would expect (day and month of birth have highly constrained values)\n",
    "\n",
    "I have tested that this estimation is reproducible when run multiple times (with the same seed)."
   ]
  },
  {
   "cell_type": "code",
   "execution_count": 36,
   "id": "fbc1d82b-02d2-45df-b450-614623c41f5e",
   "metadata": {
    "execution": {
     "iopub.execute_input": "2023-12-01T17:57:50.081900Z",
     "iopub.status.busy": "2023-12-01T17:57:50.081396Z",
     "iopub.status.idle": "2023-12-01T17:57:54.176379Z",
     "shell.execute_reply": "2023-12-01T17:57:54.175920Z"
    },
    "papermill": {
     "duration": 4.116598,
     "end_time": "2023-12-01T17:57:54.177412",
     "exception": false,
     "start_time": "2023-12-01T17:57:50.060814",
     "status": "completed"
    },
    "tags": []
   },
   "outputs": [
    {
     "name": "stderr",
     "output_type": "stream",
     "text": [
      "----- Estimating u probabilities using random sampling -----\n"
     ]
    },
    {
     "data": {
      "application/vnd.jupyter.widget-view+json": {
       "model_id": "e038b46a67524988a170699c5fe2b790",
       "version_major": 2,
       "version_minor": 0
      },
      "text/plain": [
       "FloatProgress(value=0.0, layout=Layout(width='auto'), style=ProgressStyle(bar_color='black'))"
      ]
     },
     "metadata": {},
     "output_type": "display_data"
    },
    {
     "name": "stderr",
     "output_type": "stream",
     "text": [
      "\n",
      "Estimated u probabilities using random sampling\n"
     ]
    },
    {
     "name": "stderr",
     "output_type": "stream",
     "text": [
      "\n",
      "Your model is not yet fully trained. Missing estimates for:\n",
      "    - first_name_15 (no m values are trained).\n",
      "    - last_name_12 (no m values are trained).\n",
      "    - middle_initial (no m values are trained).\n",
      "    - day_of_birth (no m values are trained).\n",
      "    - month_of_birth (no m values are trained).\n",
      "    - year_of_birth (no m values are trained).\n",
      "    - street_number (no m values are trained).\n",
      "    - street_name (no m values are trained).\n",
      "    - unit_number (no m values are trained).\n",
      "    - zipcode (no m values are trained).\n"
     ]
    },
    {
     "name": "stdout",
     "output_type": "stream",
     "text": [
      "CPU times: user 7.86 s, sys: 32.6 ms, total: 7.89 s\n",
      "Wall time: 4.09 s\n"
     ]
    }
   ],
   "source": [
    "%%time\n",
    "\n",
    "linker.estimate_u_using_random_sampling(max_pairs=1e7, seed=1234)"
   ]
  },
  {
   "cell_type": "code",
   "execution_count": 37,
   "id": "a393ab32-1308-47c8-bab0-39d2b0cf6256",
   "metadata": {
    "execution": {
     "iopub.execute_input": "2023-12-01T17:57:54.213007Z",
     "iopub.status.busy": "2023-12-01T17:57:54.212801Z",
     "iopub.status.idle": "2023-12-01T17:57:55.302181Z",
     "shell.execute_reply": "2023-12-01T17:57:55.301710Z"
    },
    "papermill": {
     "duration": 1.108383,
     "end_time": "2023-12-01T17:57:55.303191",
     "exception": false,
     "start_time": "2023-12-01T17:57:54.194808",
     "status": "completed"
    },
    "tags": []
   },
   "outputs": [
    {
     "data": {
      "text/html": [
       "\n",
       "<style>\n",
       "  #altair-viz-f21c81d658524850baf8f6e76586834a.vega-embed {\n",
       "    width: 100%;\n",
       "    display: flex;\n",
       "  }\n",
       "\n",
       "  #altair-viz-f21c81d658524850baf8f6e76586834a.vega-embed details,\n",
       "  #altair-viz-f21c81d658524850baf8f6e76586834a.vega-embed details summary {\n",
       "    position: relative;\n",
       "  }\n",
       "</style>\n",
       "<div id=\"altair-viz-f21c81d658524850baf8f6e76586834a\"></div>\n",
       "<script type=\"text/javascript\">\n",
       "  var VEGA_DEBUG = (typeof VEGA_DEBUG == \"undefined\") ? {} : VEGA_DEBUG;\n",
       "  (function(spec, embedOpt){\n",
       "    let outputDiv = document.currentScript.previousElementSibling;\n",
       "    if (outputDiv.id !== \"altair-viz-f21c81d658524850baf8f6e76586834a\") {\n",
       "      outputDiv = document.getElementById(\"altair-viz-f21c81d658524850baf8f6e76586834a\");\n",
       "    }\n",
       "    const paths = {\n",
       "      \"vega\": \"https://cdn.jsdelivr.net/npm/vega@5?noext\",\n",
       "      \"vega-lib\": \"https://cdn.jsdelivr.net/npm/vega-lib?noext\",\n",
       "      \"vega-lite\": \"https://cdn.jsdelivr.net/npm/vega-lite@5.15.1?noext\",\n",
       "      \"vega-embed\": \"https://cdn.jsdelivr.net/npm/vega-embed@6?noext\",\n",
       "    };\n",
       "\n",
       "    function maybeLoadScript(lib, version) {\n",
       "      var key = `${lib.replace(\"-\", \"\")}_version`;\n",
       "      return (VEGA_DEBUG[key] == version) ?\n",
       "        Promise.resolve(paths[lib]) :\n",
       "        new Promise(function(resolve, reject) {\n",
       "          var s = document.createElement('script');\n",
       "          document.getElementsByTagName(\"head\")[0].appendChild(s);\n",
       "          s.async = true;\n",
       "          s.onload = () => {\n",
       "            VEGA_DEBUG[key] = version;\n",
       "            return resolve(paths[lib]);\n",
       "          };\n",
       "          s.onerror = () => reject(`Error loading script: ${paths[lib]}`);\n",
       "          s.src = paths[lib];\n",
       "        });\n",
       "    }\n",
       "\n",
       "    function showError(err) {\n",
       "      outputDiv.innerHTML = `<div class=\"error\" style=\"color:red;\">${err}</div>`;\n",
       "      throw err;\n",
       "    }\n",
       "\n",
       "    function displayChart(vegaEmbed) {\n",
       "      vegaEmbed(outputDiv, spec, embedOpt)\n",
       "        .catch(err => showError(`Javascript Error: ${err.message}<br>This usually means there's a typo in your chart specification. See the javascript console for the full traceback.`));\n",
       "    }\n",
       "\n",
       "    if(typeof define === \"function\" && define.amd) {\n",
       "      requirejs.config({paths});\n",
       "      require([\"vega-embed\"], displayChart, err => showError(`Error loading script: ${err.message}`));\n",
       "    } else {\n",
       "      maybeLoadScript(\"vega\", \"5\")\n",
       "        .then(() => maybeLoadScript(\"vega-lite\", \"5.15.1\"))\n",
       "        .then(() => maybeLoadScript(\"vega-embed\", \"6\"))\n",
       "        .catch(showError)\n",
       "        .then(() => displayChart(vegaEmbed));\n",
       "    }\n",
       "  })({\"config\": {\"view\": {\"continuousWidth\": 300, \"continuousHeight\": 300, \"discreteHeight\": 300, \"discreteWidth\": 400}, \"header\": {\"title\": null}, \"title\": {\"anchor\": \"middle\", \"offset\": 10}}, \"hconcat\": [{\"mark\": \"bar\", \"encoding\": {\"color\": {\"value\": \"green\"}, \"row\": {\"field\": \"comparison_name\", \"header\": {\"labelAlign\": \"left\", \"labelAnchor\": \"middle\", \"labelAngle\": 0}, \"sort\": {\"field\": \"comparison_sort_order\"}, \"type\": \"nominal\"}, \"tooltip\": [{\"field\": \"m_probability_description\", \"title\": \"m probability description\", \"type\": \"nominal\"}, {\"field\": \"comparison_name\", \"title\": \"Comparison column name\", \"type\": \"nominal\"}, {\"field\": \"label_for_charts\", \"title\": \"Label\", \"type\": \"ordinal\"}, {\"field\": \"sql_condition\", \"title\": \"SQL condition\", \"type\": \"nominal\"}, {\"field\": \"m_probability\", \"format\": \".4p\", \"title\": \"m probability\", \"type\": \"quantitative\"}, {\"field\": \"u_probability\", \"format\": \".4p\", \"title\": \"u probability\", \"type\": \"quantitative\"}, {\"field\": \"bayes_factor\", \"format\": \",.4f\", \"title\": \"Bayes factor = m/u\", \"type\": \"quantitative\"}, {\"field\": \"log2_bayes_factor\", \"format\": \",.4f\", \"title\": \"Match weight = log2(m/u)\", \"type\": \"quantitative\"}], \"x\": {\"axis\": {\"title\": \"Proportion of record comparisons\"}, \"field\": \"m_probability\", \"type\": \"quantitative\"}, \"y\": {\"axis\": {\"title\": null}, \"field\": \"label_for_charts\", \"sort\": {\"field\": \"comparison_vector_value\", \"order\": \"descending\"}, \"type\": \"nominal\"}}, \"height\": {\"step\": 12}, \"resolve\": {\"scale\": {\"y\": \"independent\"}}, \"title\": {\"text\": \"Amongst matching record comparisons:\", \"fontSize\": 12, \"fontWeight\": \"bold\"}, \"transform\": [{\"filter\": \"(datum.bayes_factor != 'no-op filter due to vega lite issue 4680')\"}], \"width\": 150}, {\"mark\": \"bar\", \"encoding\": {\"color\": {\"value\": \"red\"}, \"row\": {\"field\": \"comparison_name\", \"header\": {\"labels\": false}, \"sort\": {\"field\": \"comparison_sort_order\"}, \"type\": \"nominal\"}, \"tooltip\": [{\"field\": \"u_probability_description\", \"title\": \"u probability description\", \"type\": \"nominal\"}, {\"field\": \"comparison_name\", \"title\": \"Comparison column name\", \"type\": \"nominal\"}, {\"field\": \"label_for_charts\", \"title\": \"Label\", \"type\": \"ordinal\"}, {\"field\": \"sql_condition\", \"title\": \"SQL condition\", \"type\": \"nominal\"}, {\"field\": \"m_probability\", \"format\": \".4p\", \"title\": \"m probability\", \"type\": \"quantitative\"}, {\"field\": \"u_probability\", \"format\": \".4p\", \"title\": \"u probability\", \"type\": \"quantitative\"}, {\"field\": \"bayes_factor\", \"format\": \",.4f\", \"title\": \"Bayes factor = m/u\", \"type\": \"quantitative\"}, {\"field\": \"log2_bayes_factor\", \"format\": \",.4f\", \"title\": \"Match weight = log2(m/u)\", \"type\": \"quantitative\"}], \"x\": {\"axis\": {\"title\": \"Proportion of record comparisons\"}, \"field\": \"u_probability\", \"type\": \"quantitative\"}, \"y\": {\"axis\": {\"title\": null}, \"field\": \"label_for_charts\", \"sort\": {\"field\": \"comparison_vector_value\", \"order\": \"descending\"}, \"type\": \"nominal\"}}, \"height\": {\"step\": 12}, \"resolve\": {\"scale\": {\"y\": \"independent\"}}, \"title\": {\"text\": \"Amongst non-matching record comparisons:\", \"fontSize\": 12, \"fontWeight\": \"bold\"}, \"transform\": [{\"filter\": \"(datum.bayes_factor != 'no-op filter2 due to vega lite issue 4680')\"}], \"width\": 150}], \"data\": {\"name\": \"data-d90135ed71d1a40bd24690d704bee9b6\"}, \"title\": {\"text\": \"Proportion of record comparisons in each comparison level by match status\", \"subtitle\": \"(m and u probabilities)\"}, \"$schema\": \"https://vega.github.io/schema/vega-lite/v5.9.3.json\", \"datasets\": {\"data-d90135ed71d1a40bd24690d704bee9b6\": [{\"comparison_name\": \"first_name_15\", \"sql_condition\": \"\\\"first_name_15_l\\\" = \\\"first_name_15_r\\\"\", \"label_for_charts\": \"Exact match\", \"m_probability\": 0.95, \"u_probability\": 0.001979336595976074, \"m_probability_description\": \"Amongst matching record comparisons, 95.00% of records are in the exact match comparison level\", \"u_probability_description\": \"Amongst non-matching record comparisons, 0.20% of records are in the exact match comparison level\", \"has_tf_adjustments\": false, \"tf_adjustment_column\": null, \"tf_adjustment_weight\": 1.0, \"is_null_level\": false, \"bayes_factor\": 479.9587912087912, \"log2_bayes_factor\": 8.90676673254419, \"comparison_vector_value\": 2, \"max_comparison_vector_value\": 2, \"bayes_factor_description\": \"If comparison level is `exact match` then comparison is 479.96 times more likely to be a match\", \"probability_two_random_records_match\": 1.422530664692062e-05, \"comparison_sort_order\": 0}, {\"comparison_name\": \"first_name_15\", \"sql_condition\": \"jaro_winkler_similarity(\\\"first_name_15_l\\\", \\\"first_name_15_r\\\") >= 0.8333333333333334\", \"label_for_charts\": \"Jaro_winkler_similarity >= 0.8333333333333334\", \"m_probability\": 0.025000000000000022, \"u_probability\": 0.003417014077699233, \"m_probability_description\": \"Amongst matching record comparisons, 2.50% of records are in the jaro_winkler_similarity >= 0.8333333333333334 comparison level\", \"u_probability_description\": \"Amongst non-matching record comparisons, 0.34% of records are in the jaro_winkler_similarity >= 0.8333333333333334 comparison level\", \"has_tf_adjustments\": false, \"tf_adjustment_column\": null, \"tf_adjustment_weight\": 1.0, \"is_null_level\": false, \"bayes_factor\": 7.3163292370259105, \"log2_bayes_factor\": 2.871119998260096, \"comparison_vector_value\": 1, \"max_comparison_vector_value\": 2, \"bayes_factor_description\": \"If comparison level is `jaro_winkler_similarity >= 0.8333333333333334` then comparison is 7.32 times more likely to be a match\", \"probability_two_random_records_match\": 1.422530664692062e-05, \"comparison_sort_order\": 0}, {\"comparison_name\": \"first_name_15\", \"sql_condition\": \"ELSE\", \"label_for_charts\": \"All other comparisons\", \"m_probability\": 0.025000000000000022, \"u_probability\": 0.9946036493263247, \"m_probability_description\": \"Amongst matching record comparisons, 2.50% of records are in the all other comparisons comparison level\", \"u_probability_description\": \"Amongst non-matching record comparisons, 99.46% of records are in the all other comparisons comparison level\", \"has_tf_adjustments\": false, \"tf_adjustment_column\": null, \"tf_adjustment_weight\": 1.0, \"is_null_level\": false, \"bayes_factor\": 0.025135640731796312, \"log2_bayes_factor\": -5.314121724580581, \"comparison_vector_value\": 0, \"max_comparison_vector_value\": 2, \"bayes_factor_description\": \"If comparison level is `all other comparisons` then comparison is  39.78 times less likely to be a match\", \"probability_two_random_records_match\": 1.422530664692062e-05, \"comparison_sort_order\": 0}, {\"comparison_name\": \"last_name_12\", \"sql_condition\": \"\\\"last_name_12_l\\\" = \\\"last_name_12_r\\\"\", \"label_for_charts\": \"Exact match\", \"m_probability\": 0.95, \"u_probability\": 0.0007093232453578939, \"m_probability_description\": \"Amongst matching record comparisons, 95.00% of records are in the exact match comparison level\", \"u_probability_description\": \"Amongst non-matching record comparisons, 0.07% of records are in the exact match comparison level\", \"has_tf_adjustments\": false, \"tf_adjustment_column\": null, \"tf_adjustment_weight\": 1.0, \"is_null_level\": false, \"bayes_factor\": 1339.304761569841, \"log2_bayes_factor\": 10.387268570923151, \"comparison_vector_value\": 2, \"max_comparison_vector_value\": 2, \"bayes_factor_description\": \"If comparison level is `exact match` then comparison is 1,339.30 times more likely to be a match\", \"probability_two_random_records_match\": 1.422530664692062e-05, \"comparison_sort_order\": 1}, {\"comparison_name\": \"last_name_12\", \"sql_condition\": \"jaro_winkler_similarity(\\\"last_name_12_l\\\", \\\"last_name_12_r\\\") >= 0.8333333333333334\", \"label_for_charts\": \"Jaro_winkler_similarity >= 0.8333333333333334\", \"m_probability\": 0.025000000000000022, \"u_probability\": 0.001329943668219914, \"m_probability_description\": \"Amongst matching record comparisons, 2.50% of records are in the jaro_winkler_similarity >= 0.8333333333333334 comparison level\", \"u_probability_description\": \"Amongst non-matching record comparisons, 0.13% of records are in the jaro_winkler_similarity >= 0.8333333333333334 comparison level\", \"has_tf_adjustments\": false, \"tf_adjustment_column\": null, \"tf_adjustment_weight\": 1.0, \"is_null_level\": false, \"bayes_factor\": 18.79778865631332, \"log2_bayes_factor\": 4.232491050289538, \"comparison_vector_value\": 1, \"max_comparison_vector_value\": 2, \"bayes_factor_description\": \"If comparison level is `jaro_winkler_similarity >= 0.8333333333333334` then comparison is 18.80 times more likely to be a match\", \"probability_two_random_records_match\": 1.422530664692062e-05, \"comparison_sort_order\": 1}, {\"comparison_name\": \"last_name_12\", \"sql_condition\": \"ELSE\", \"label_for_charts\": \"All other comparisons\", \"m_probability\": 0.025000000000000022, \"u_probability\": 0.9979607330864222, \"m_probability_description\": \"Amongst matching record comparisons, 2.50% of records are in the all other comparisons comparison level\", \"u_probability_description\": \"Amongst non-matching record comparisons, 99.80% of records are in the all other comparisons comparison level\", \"has_tf_adjustments\": false, \"tf_adjustment_column\": null, \"tf_adjustment_weight\": 1.0, \"is_null_level\": false, \"bayes_factor\": 0.025051085850524193, \"log2_bayes_factor\": -5.318983050736897, \"comparison_vector_value\": 0, \"max_comparison_vector_value\": 2, \"bayes_factor_description\": \"If comparison level is `all other comparisons` then comparison is  39.92 times less likely to be a match\", \"probability_two_random_records_match\": 1.422530664692062e-05, \"comparison_sort_order\": 1}, {\"comparison_name\": \"middle_initial\", \"sql_condition\": \"\\\"middle_initial_l\\\" = \\\"middle_initial_r\\\"\", \"label_for_charts\": \"Exact match\", \"m_probability\": 0.95, \"u_probability\": 0.07410500870140878, \"m_probability_description\": \"Amongst matching record comparisons, 95.00% of records are in the exact match comparison level\", \"u_probability_description\": \"Amongst non-matching record comparisons, 7.41% of records are in the exact match comparison level\", \"has_tf_adjustments\": false, \"tf_adjustment_column\": null, \"tf_adjustment_weight\": 1.0, \"is_null_level\": false, \"bayes_factor\": 12.819646291761922, \"log2_bayes_factor\": 3.680284551839281, \"comparison_vector_value\": 1, \"max_comparison_vector_value\": 1, \"bayes_factor_description\": \"If comparison level is `exact match` then comparison is 12.82 times more likely to be a match\", \"probability_two_random_records_match\": 1.422530664692062e-05, \"comparison_sort_order\": 2}, {\"comparison_name\": \"middle_initial\", \"sql_condition\": \"ELSE\", \"label_for_charts\": \"All other comparisons\", \"m_probability\": 0.050000000000000044, \"u_probability\": 0.9258949912985912, \"m_probability_description\": \"Amongst matching record comparisons, 5.00% of records are in the all other comparisons comparison level\", \"u_probability_description\": \"Amongst non-matching record comparisons, 92.59% of records are in the all other comparisons comparison level\", \"has_tf_adjustments\": false, \"tf_adjustment_column\": null, \"tf_adjustment_weight\": 1.0, \"is_null_level\": false, \"bayes_factor\": 0.05400180416774237, \"log2_bayes_factor\": -4.210848582121317, \"comparison_vector_value\": 0, \"max_comparison_vector_value\": 1, \"bayes_factor_description\": \"If comparison level is `all other comparisons` then comparison is  18.52 times less likely to be a match\", \"probability_two_random_records_match\": 1.422530664692062e-05, \"comparison_sort_order\": 2}, {\"comparison_name\": \"day_of_birth\", \"sql_condition\": \"\\\"day_of_birth_l\\\" = \\\"day_of_birth_r\\\"\", \"label_for_charts\": \"Exact match\", \"m_probability\": 0.95, \"u_probability\": 0.03243028785148898, \"m_probability_description\": \"Amongst matching record comparisons, 95.00% of records are in the exact match comparison level\", \"u_probability_description\": \"Amongst non-matching record comparisons, 3.24% of records are in the exact match comparison level\", \"has_tf_adjustments\": false, \"tf_adjustment_column\": null, \"tf_adjustment_weight\": 1.0, \"is_null_level\": false, \"bayes_factor\": 29.293603693880947, \"log2_bayes_factor\": 4.872513779107915, \"comparison_vector_value\": 2, \"max_comparison_vector_value\": 2, \"bayes_factor_description\": \"If comparison level is `exact match` then comparison is 29.29 times more likely to be a match\", \"probability_two_random_records_match\": 1.422530664692062e-05, \"comparison_sort_order\": 3}, {\"comparison_name\": \"day_of_birth\", \"sql_condition\": \"abs(day_of_birth_l - day_of_birth_r) <= 5\", \"label_for_charts\": \"Inexact match\", \"m_probability\": 0.025000000000000022, \"u_probability\": 0.295173345919013, \"m_probability_description\": \"Amongst matching record comparisons, 2.50% of records are in the inexact match comparison level\", \"u_probability_description\": \"Amongst non-matching record comparisons, 29.52% of records are in the inexact match comparison level\", \"has_tf_adjustments\": false, \"tf_adjustment_column\": null, \"tf_adjustment_weight\": 1.0, \"is_null_level\": false, \"bayes_factor\": 0.08469599422049204, \"log2_bayes_factor\": -3.5615624522703015, \"comparison_vector_value\": 1, \"max_comparison_vector_value\": 2, \"bayes_factor_description\": \"If comparison level is `inexact match` then comparison is  11.81 times less likely to be a match\", \"probability_two_random_records_match\": 1.422530664692062e-05, \"comparison_sort_order\": 3}, {\"comparison_name\": \"day_of_birth\", \"sql_condition\": \"ELSE\", \"label_for_charts\": \"All other comparisons\", \"m_probability\": 0.025000000000000022, \"u_probability\": 0.672396366229498, \"m_probability_description\": \"Amongst matching record comparisons, 2.50% of records are in the all other comparisons comparison level\", \"u_probability_description\": \"Amongst non-matching record comparisons, 67.24% of records are in the all other comparisons comparison level\", \"has_tf_adjustments\": false, \"tf_adjustment_column\": null, \"tf_adjustment_weight\": 1.0, \"is_null_level\": false, \"bayes_factor\": 0.037180450781120346, \"log2_bayes_factor\": -4.749311927969605, \"comparison_vector_value\": 0, \"max_comparison_vector_value\": 2, \"bayes_factor_description\": \"If comparison level is `all other comparisons` then comparison is  26.90 times less likely to be a match\", \"probability_two_random_records_match\": 1.422530664692062e-05, \"comparison_sort_order\": 3}, {\"comparison_name\": \"month_of_birth\", \"sql_condition\": \"\\\"month_of_birth_l\\\" = \\\"month_of_birth_r\\\"\", \"label_for_charts\": \"Exact match\", \"m_probability\": 0.95, \"u_probability\": 0.08355145831969693, \"m_probability_description\": \"Amongst matching record comparisons, 95.00% of records are in the exact match comparison level\", \"u_probability_description\": \"Amongst non-matching record comparisons, 8.36% of records are in the exact match comparison level\", \"has_tf_adjustments\": false, \"tf_adjustment_column\": null, \"tf_adjustment_weight\": 1.0, \"is_null_level\": false, \"bayes_factor\": 11.370238402841153, \"log2_bayes_factor\": 3.5071905988088927, \"comparison_vector_value\": 2, \"max_comparison_vector_value\": 2, \"bayes_factor_description\": \"If comparison level is `exact match` then comparison is 11.37 times more likely to be a match\", \"probability_two_random_records_match\": 1.422530664692062e-05, \"comparison_sort_order\": 4}, {\"comparison_name\": \"month_of_birth\", \"sql_condition\": \"abs(month_of_birth_l - month_of_birth_r) <= 3\", \"label_for_charts\": \"Inexact match\", \"m_probability\": 0.025000000000000022, \"u_probability\": 0.4143133397869391, \"m_probability_description\": \"Amongst matching record comparisons, 2.50% of records are in the inexact match comparison level\", \"u_probability_description\": \"Amongst non-matching record comparisons, 41.43% of records are in the inexact match comparison level\", \"has_tf_adjustments\": false, \"tf_adjustment_column\": null, \"tf_adjustment_weight\": 1.0, \"is_null_level\": false, \"bayes_factor\": 0.06034080392597614, \"log2_bayes_factor\": -4.0507222720058405, \"comparison_vector_value\": 1, \"max_comparison_vector_value\": 2, \"bayes_factor_description\": \"If comparison level is `inexact match` then comparison is  16.57 times less likely to be a match\", \"probability_two_random_records_match\": 1.422530664692062e-05, \"comparison_sort_order\": 4}, {\"comparison_name\": \"month_of_birth\", \"sql_condition\": \"ELSE\", \"label_for_charts\": \"All other comparisons\", \"m_probability\": 0.025000000000000022, \"u_probability\": 0.5021352018933639, \"m_probability_description\": \"Amongst matching record comparisons, 2.50% of records are in the all other comparisons comparison level\", \"u_probability_description\": \"Amongst non-matching record comparisons, 50.21% of records are in the all other comparisons comparison level\", \"has_tf_adjustments\": false, \"tf_adjustment_column\": null, \"tf_adjustment_weight\": 1.0, \"is_null_level\": false, \"bayes_factor\": 0.04978738775081767, \"log2_bayes_factor\": -4.328075867839469, \"comparison_vector_value\": 0, \"max_comparison_vector_value\": 2, \"bayes_factor_description\": \"If comparison level is `all other comparisons` then comparison is  20.09 times less likely to be a match\", \"probability_two_random_records_match\": 1.422530664692062e-05, \"comparison_sort_order\": 4}, {\"comparison_name\": \"year_of_birth\", \"sql_condition\": \"\\\"year_of_birth_l\\\" = \\\"year_of_birth_r\\\"\", \"label_for_charts\": \"Exact match\", \"m_probability\": 0.95, \"u_probability\": 0.011125465216557518, \"m_probability_description\": \"Amongst matching record comparisons, 95.00% of records are in the exact match comparison level\", \"u_probability_description\": \"Amongst non-matching record comparisons, 1.11% of records are in the exact match comparison level\", \"has_tf_adjustments\": false, \"tf_adjustment_column\": null, \"tf_adjustment_weight\": 1.0, \"is_null_level\": false, \"bayes_factor\": 85.38968766772635, \"log2_bayes_factor\": 6.415989944019308, \"comparison_vector_value\": 2, \"max_comparison_vector_value\": 2, \"bayes_factor_description\": \"If comparison level is `exact match` then comparison is 85.39 times more likely to be a match\", \"probability_two_random_records_match\": 1.422530664692062e-05, \"comparison_sort_order\": 5}, {\"comparison_name\": \"year_of_birth\", \"sql_condition\": \"abs(year_of_birth_l - year_of_birth_r) <= 5\", \"label_for_charts\": \"Inexact match\", \"m_probability\": 0.025000000000000022, \"u_probability\": 0.11053660239472413, \"m_probability_description\": \"Amongst matching record comparisons, 2.50% of records are in the inexact match comparison level\", \"u_probability_description\": \"Amongst non-matching record comparisons, 11.05% of records are in the inexact match comparison level\", \"has_tf_adjustments\": false, \"tf_adjustment_column\": null, \"tf_adjustment_weight\": 1.0, \"is_null_level\": false, \"bayes_factor\": 0.22616942676350313, \"log2_bayes_factor\": -2.14452417368412, \"comparison_vector_value\": 1, \"max_comparison_vector_value\": 2, \"bayes_factor_description\": \"If comparison level is `inexact match` then comparison is  4.42 times less likely to be a match\", \"probability_two_random_records_match\": 1.422530664692062e-05, \"comparison_sort_order\": 5}, {\"comparison_name\": \"year_of_birth\", \"sql_condition\": \"ELSE\", \"label_for_charts\": \"All other comparisons\", \"m_probability\": 0.025000000000000022, \"u_probability\": 0.8783379323887184, \"m_probability_description\": \"Amongst matching record comparisons, 2.50% of records are in the all other comparisons comparison level\", \"u_probability_description\": \"Amongst non-matching record comparisons, 87.83% of records are in the all other comparisons comparison level\", \"has_tf_adjustments\": false, \"tf_adjustment_column\": null, \"tf_adjustment_weight\": 1.0, \"is_null_level\": false, \"bayes_factor\": 0.02846284906768206, \"log2_bayes_factor\": -5.134776110127776, \"comparison_vector_value\": 0, \"max_comparison_vector_value\": 2, \"bayes_factor_description\": \"If comparison level is `all other comparisons` then comparison is  35.13 times less likely to be a match\", \"probability_two_random_records_match\": 1.422530664692062e-05, \"comparison_sort_order\": 5}, {\"comparison_name\": \"street_number\", \"sql_condition\": \"\\\"street_number_l\\\" = \\\"street_number_r\\\"\", \"label_for_charts\": \"Exact match\", \"m_probability\": 0.95, \"u_probability\": 0.004643745865751094, \"m_probability_description\": \"Amongst matching record comparisons, 95.00% of records are in the exact match comparison level\", \"u_probability_description\": \"Amongst non-matching record comparisons, 0.46% of records are in the exact match comparison level\", \"has_tf_adjustments\": false, \"tf_adjustment_column\": null, \"tf_adjustment_weight\": 1.0, \"is_null_level\": false, \"bayes_factor\": 204.57622519925386, \"log2_bayes_factor\": 7.676494681973654, \"comparison_vector_value\": 2, \"max_comparison_vector_value\": 2, \"bayes_factor_description\": \"If comparison level is `exact match` then comparison is 204.58 times more likely to be a match\", \"probability_two_random_records_match\": 1.422530664692062e-05, \"comparison_sort_order\": 6}, {\"comparison_name\": \"street_number\", \"sql_condition\": \"jaro_winkler_similarity(\\\"street_number_l\\\", \\\"street_number_r\\\") >= 0.8333333333333334\", \"label_for_charts\": \"Jaro_winkler_similarity >= 0.8333333333333334\", \"m_probability\": 0.025000000000000022, \"u_probability\": 0.012708549889228378, \"m_probability_description\": \"Amongst matching record comparisons, 2.50% of records are in the jaro_winkler_similarity >= 0.8333333333333334 comparison level\", \"u_probability_description\": \"Amongst non-matching record comparisons, 1.27% of records are in the jaro_winkler_similarity >= 0.8333333333333334 comparison level\", \"has_tf_adjustments\": false, \"tf_adjustment_column\": null, \"tf_adjustment_weight\": 1.0, \"is_null_level\": false, \"bayes_factor\": 1.9671795931013134, \"log2_bayes_factor\": 0.976128674062371, \"comparison_vector_value\": 1, \"max_comparison_vector_value\": 2, \"bayes_factor_description\": \"If comparison level is `jaro_winkler_similarity >= 0.8333333333333334` then comparison is 1.97 times more likely to be a match\", \"probability_two_random_records_match\": 1.422530664692062e-05, \"comparison_sort_order\": 6}, {\"comparison_name\": \"street_number\", \"sql_condition\": \"ELSE\", \"label_for_charts\": \"All other comparisons\", \"m_probability\": 0.025000000000000022, \"u_probability\": 0.9826477042450206, \"m_probability_description\": \"Amongst matching record comparisons, 2.50% of records are in the all other comparisons comparison level\", \"u_probability_description\": \"Amongst non-matching record comparisons, 98.26% of records are in the all other comparisons comparison level\", \"has_tf_adjustments\": false, \"tf_adjustment_column\": null, \"tf_adjustment_weight\": 1.0, \"is_null_level\": false, \"bayes_factor\": 0.025441467875007968, \"log2_bayes_factor\": -5.296674278786812, \"comparison_vector_value\": 0, \"max_comparison_vector_value\": 2, \"bayes_factor_description\": \"If comparison level is `all other comparisons` then comparison is  39.31 times less likely to be a match\", \"probability_two_random_records_match\": 1.422530664692062e-05, \"comparison_sort_order\": 6}, {\"comparison_name\": \"street_name\", \"sql_condition\": \"\\\"street_name_l\\\" = \\\"street_name_r\\\"\", \"label_for_charts\": \"Exact match\", \"m_probability\": 0.95, \"u_probability\": 0.0036909475444507293, \"m_probability_description\": \"Amongst matching record comparisons, 95.00% of records are in the exact match comparison level\", \"u_probability_description\": \"Amongst non-matching record comparisons, 0.37% of records are in the exact match comparison level\", \"has_tf_adjustments\": false, \"tf_adjustment_column\": null, \"tf_adjustment_weight\": 1.0, \"is_null_level\": false, \"bayes_factor\": 257.3864809941033, \"log2_bayes_factor\": 8.007792468993921, \"comparison_vector_value\": 2, \"max_comparison_vector_value\": 2, \"bayes_factor_description\": \"If comparison level is `exact match` then comparison is 257.39 times more likely to be a match\", \"probability_two_random_records_match\": 1.422530664692062e-05, \"comparison_sort_order\": 7}, {\"comparison_name\": \"street_name\", \"sql_condition\": \"jaro_winkler_similarity(\\\"street_name_l\\\", \\\"street_name_r\\\") >= 0.8333333333333334\", \"label_for_charts\": \"Jaro_winkler_similarity >= 0.8333333333333334\", \"m_probability\": 0.025000000000000022, \"u_probability\": 0.0018843912156014068, \"m_probability_description\": \"Amongst matching record comparisons, 2.50% of records are in the jaro_winkler_similarity >= 0.8333333333333334 comparison level\", \"u_probability_description\": \"Amongst non-matching record comparisons, 0.19% of records are in the jaro_winkler_similarity >= 0.8333333333333334 comparison level\", \"has_tf_adjustments\": false, \"tf_adjustment_column\": null, \"tf_adjustment_weight\": 1.0, \"is_null_level\": false, \"bayes_factor\": 13.26688417618272, \"log2_bayes_factor\": 3.729757678000038, \"comparison_vector_value\": 1, \"max_comparison_vector_value\": 2, \"bayes_factor_description\": \"If comparison level is `jaro_winkler_similarity >= 0.8333333333333334` then comparison is 13.27 times more likely to be a match\", \"probability_two_random_records_match\": 1.422530664692062e-05, \"comparison_sort_order\": 7}, {\"comparison_name\": \"street_name\", \"sql_condition\": \"ELSE\", \"label_for_charts\": \"All other comparisons\", \"m_probability\": 0.025000000000000022, \"u_probability\": 0.9944246612399479, \"m_probability_description\": \"Amongst matching record comparisons, 2.50% of records are in the all other comparisons comparison level\", \"u_probability_description\": \"Amongst non-matching record comparisons, 99.44% of records are in the all other comparisons comparison level\", \"has_tf_adjustments\": false, \"tf_adjustment_column\": null, \"tf_adjustment_weight\": 1.0, \"is_null_level\": false, \"bayes_factor\": 0.025140164936001817, \"log2_bayes_factor\": -5.313862074957779, \"comparison_vector_value\": 0, \"max_comparison_vector_value\": 2, \"bayes_factor_description\": \"If comparison level is `all other comparisons` then comparison is  39.78 times less likely to be a match\", \"probability_two_random_records_match\": 1.422530664692062e-05, \"comparison_sort_order\": 7}, {\"comparison_name\": \"unit_number\", \"sql_condition\": \"\\\"unit_number_l\\\" = \\\"unit_number_r\\\"\", \"label_for_charts\": \"Exact match\", \"m_probability\": 0.95, \"u_probability\": 0.005427064313248123, \"m_probability_description\": \"Amongst matching record comparisons, 95.00% of records are in the exact match comparison level\", \"u_probability_description\": \"Amongst non-matching record comparisons, 0.54% of records are in the exact match comparison level\", \"has_tf_adjustments\": false, \"tf_adjustment_column\": null, \"tf_adjustment_weight\": 1.0, \"is_null_level\": false, \"bayes_factor\": 175.04859813084113, \"log2_bayes_factor\": 7.451611697826307, \"comparison_vector_value\": 2, \"max_comparison_vector_value\": 2, \"bayes_factor_description\": \"If comparison level is `exact match` then comparison is 175.05 times more likely to be a match\", \"probability_two_random_records_match\": 1.422530664692062e-05, \"comparison_sort_order\": 8}, {\"comparison_name\": \"unit_number\", \"sql_condition\": \"jaro_winkler_similarity(\\\"unit_number_l\\\", \\\"unit_number_r\\\") >= 0.8333333333333334\", \"label_for_charts\": \"Jaro_winkler_similarity >= 0.8333333333333334\", \"m_probability\": 0.025000000000000022, \"u_probability\": 0.08399269628727937, \"m_probability_description\": \"Amongst matching record comparisons, 2.50% of records are in the jaro_winkler_similarity >= 0.8333333333333334 comparison level\", \"u_probability_description\": \"Amongst non-matching record comparisons, 8.40% of records are in the jaro_winkler_similarity >= 0.8333333333333334 comparison level\", \"has_tf_adjustments\": false, \"tf_adjustment_column\": null, \"tf_adjustment_weight\": 1.0, \"is_null_level\": false, \"bayes_factor\": 0.2976449275362321, \"log2_bayes_factor\": -1.7483357867154559, \"comparison_vector_value\": 1, \"max_comparison_vector_value\": 2, \"bayes_factor_description\": \"If comparison level is `jaro_winkler_similarity >= 0.8333333333333334` then comparison is  3.36 times less likely to be a match\", \"probability_two_random_records_match\": 1.422530664692062e-05, \"comparison_sort_order\": 8}, {\"comparison_name\": \"unit_number\", \"sql_condition\": \"ELSE\", \"label_for_charts\": \"All other comparisons\", \"m_probability\": 0.025000000000000022, \"u_probability\": 0.9105802393994725, \"m_probability_description\": \"Amongst matching record comparisons, 2.50% of records are in the all other comparisons comparison level\", \"u_probability_description\": \"Amongst non-matching record comparisons, 91.06% of records are in the all other comparisons comparison level\", \"has_tf_adjustments\": false, \"tf_adjustment_column\": null, \"tf_adjustment_weight\": 1.0, \"is_null_level\": false, \"bayes_factor\": 0.027455021444883886, \"log2_bayes_factor\": -5.186786151615274, \"comparison_vector_value\": 0, \"max_comparison_vector_value\": 2, \"bayes_factor_description\": \"If comparison level is `all other comparisons` then comparison is  36.42 times less likely to be a match\", \"probability_two_random_records_match\": 1.422530664692062e-05, \"comparison_sort_order\": 8}, {\"comparison_name\": \"zipcode\", \"sql_condition\": \"\\\"zipcode_l\\\" = \\\"zipcode_r\\\"\", \"label_for_charts\": \"Exact match\", \"m_probability\": 0.95, \"u_probability\": 0.9441587509332844, \"m_probability_description\": \"Amongst matching record comparisons, 95.00% of records are in the exact match comparison level\", \"u_probability_description\": \"Amongst non-matching record comparisons, 94.42% of records are in the exact match comparison level\", \"has_tf_adjustments\": false, \"tf_adjustment_column\": null, \"tf_adjustment_weight\": 1.0, \"is_null_level\": false, \"bayes_factor\": 1.0061867234307171, \"log2_bayes_factor\": 0.008898058593107312, \"comparison_vector_value\": 2, \"max_comparison_vector_value\": 2, \"bayes_factor_description\": \"If comparison level is `exact match` then comparison is 1.01 times more likely to be a match\", \"probability_two_random_records_match\": 1.422530664692062e-05, \"comparison_sort_order\": 9}, {\"comparison_name\": \"zipcode\", \"sql_condition\": \"jaro_winkler_similarity(\\\"zipcode_l\\\", \\\"zipcode_r\\\") >= 0.8333333333333334\", \"label_for_charts\": \"Jaro_winkler_similarity >= 0.8333333333333334\", \"m_probability\": 0.025000000000000022, \"u_probability\": 0.041136656606251085, \"m_probability_description\": \"Amongst matching record comparisons, 2.50% of records are in the jaro_winkler_similarity >= 0.8333333333333334 comparison level\", \"u_probability_description\": \"Amongst non-matching record comparisons, 4.11% of records are in the jaro_winkler_similarity >= 0.8333333333333334 comparison level\", \"has_tf_adjustments\": false, \"tf_adjustment_column\": null, \"tf_adjustment_weight\": 1.0, \"is_null_level\": false, \"bayes_factor\": 0.6077304784220371, \"log2_bayes_factor\": -0.7184964482805007, \"comparison_vector_value\": 1, \"max_comparison_vector_value\": 2, \"bayes_factor_description\": \"If comparison level is `jaro_winkler_similarity >= 0.8333333333333334` then comparison is  1.65 times less likely to be a match\", \"probability_two_random_records_match\": 1.422530664692062e-05, \"comparison_sort_order\": 9}, {\"comparison_name\": \"zipcode\", \"sql_condition\": \"ELSE\", \"label_for_charts\": \"All other comparisons\", \"m_probability\": 0.025000000000000022, \"u_probability\": 0.014704592460464516, \"m_probability_description\": \"Amongst matching record comparisons, 2.50% of records are in the all other comparisons comparison level\", \"u_probability_description\": \"Amongst non-matching record comparisons, 1.47% of records are in the all other comparisons comparison level\", \"has_tf_adjustments\": false, \"tf_adjustment_column\": null, \"tf_adjustment_weight\": 1.0, \"is_null_level\": false, \"bayes_factor\": 1.7001491246504274, \"log2_bayes_factor\": 0.7656612945735977, \"comparison_vector_value\": 0, \"max_comparison_vector_value\": 2, \"bayes_factor_description\": \"If comparison level is `all other comparisons` then comparison is 1.70 times more likely to be a match\", \"probability_two_random_records_match\": 1.422530664692062e-05, \"comparison_sort_order\": 9}]}}, {\"mode\": \"vega-lite\"});\n",
       "</script>"
      ],
      "text/plain": [
       "alt.HConcatChart(...)"
      ]
     },
     "execution_count": 37,
     "metadata": {},
     "output_type": "execute_result"
    }
   ],
   "source": [
    "# Ignore the green bars on the left, these are the m probabilities that haven't been estimated yet\n",
    "linker.m_u_parameters_chart()"
   ]
  },
  {
   "cell_type": "markdown",
   "id": "2f66f6a2-28de-41a1-8c99-e8bda2dfb3e4",
   "metadata": {
    "papermill": {
     "duration": 0.01709,
     "end_time": "2023-12-01T17:57:55.338830",
     "exception": false,
     "start_time": "2023-12-01T17:57:55.321740",
     "status": "completed"
    },
    "tags": []
   },
   "source": [
    "#### Estimate m probabilities\n",
    "\n",
    "The EM algorithm implemented in Splink can be used to estimate all the parameters at once.\n",
    "However, I've found this to be extremely unstable, and the lambda and u estimates I've made\n",
    "above much better than what happens when I allow EM to mess with them.\n",
    "\n",
    "These EM session blocking rules are the result of **lots** of trial and error.\n",
    "I consistently had problems with the EM algorithm deciding that first names\n",
    "were completely wrong (\"All other comparisons\") almost as often as they were\n",
    "right.\n",
    "I can think of two reasons this might be happening:\n",
    "- The EM algorithm is just looking for two coherent clusters, and the assumption is that these\n",
    "  clusters correspond to matches and non-matches.\n",
    "  But in real life, and in our simulated data, matches and non-matches are not homogenous.\n",
    "  In particular, people who are in the same family live together and tend to share a last name,\n",
    "  and this could have been the cluster EM was finding instead of finding the exact same person.\n",
    "- Conditional independence is grossly violated by some of our columns, especially the address parts\n",
    "  and the DOB parts. This could be causing some pathological behavior.\n",
    "\n",
    "Using the EM approach below, I have at least obtained reasonable-looking m and u probabilities."
   ]
  },
  {
   "cell_type": "code",
   "execution_count": 38,
   "id": "d117b633-fc81-4fe6-ba1d-2d9d5a6e1b32",
   "metadata": {
    "execution": {
     "iopub.execute_input": "2023-12-01T17:57:55.373593Z",
     "iopub.status.busy": "2023-12-01T17:57:55.373304Z",
     "iopub.status.idle": "2023-12-01T17:58:01.670764Z",
     "shell.execute_reply": "2023-12-01T17:58:01.669916Z"
    },
    "papermill": {
     "duration": 6.316043,
     "end_time": "2023-12-01T17:58:01.671805",
     "exception": false,
     "start_time": "2023-12-01T17:57:55.355762",
     "status": "completed"
    },
    "tags": []
   },
   "outputs": [
    {
     "name": "stderr",
     "output_type": "stream",
     "text": [
      "\n",
      "----- Starting EM training session -----\n",
      "\n"
     ]
    },
    {
     "name": "stderr",
     "output_type": "stream",
     "text": [
      "Estimating the m probabilities of the model by blocking on:\n",
      "l.first_name_15 = r.first_name_15\n",
      "\n",
      "Parameter estimates will be made for the following comparison(s):\n",
      "    - last_name_12\n",
      "    - middle_initial\n",
      "    - day_of_birth\n",
      "    - month_of_birth\n",
      "    - year_of_birth\n",
      "    - street_number\n",
      "    - street_name\n",
      "    - unit_number\n",
      "    - zipcode\n",
      "\n",
      "Parameter estimates cannot be made for the following comparison(s) since they are used in the blocking rules: \n",
      "    - first_name_15\n"
     ]
    },
    {
     "name": "stderr",
     "output_type": "stream",
     "text": [
      "\n"
     ]
    },
    {
     "name": "stderr",
     "output_type": "stream",
     "text": [
      "Iteration 1: Largest change in params was -0.181 in the m_probability of street_name, level `Exact match`\n"
     ]
    },
    {
     "name": "stderr",
     "output_type": "stream",
     "text": [
      "Iteration 2: Largest change in params was 0.0143 in the m_probability of street_name, level `All other comparisons`\n"
     ]
    },
    {
     "name": "stderr",
     "output_type": "stream",
     "text": [
      "Iteration 3: Largest change in params was 0.00102 in the m_probability of last_name_12, level `All other comparisons`\n"
     ]
    },
    {
     "name": "stderr",
     "output_type": "stream",
     "text": [
      "Iteration 4: Largest change in params was 0.000207 in the m_probability of last_name_12, level `All other comparisons`\n"
     ]
    },
    {
     "name": "stderr",
     "output_type": "stream",
     "text": [
      "Iteration 5: Largest change in params was 4.5e-05 in the m_probability of last_name_12, level `All other comparisons`\n"
     ]
    },
    {
     "name": "stderr",
     "output_type": "stream",
     "text": [
      "\n",
      "EM converged after 5 iterations\n"
     ]
    },
    {
     "name": "stderr",
     "output_type": "stream",
     "text": [
      "\n",
      "Your model is not yet fully trained. Missing estimates for:\n",
      "    - first_name_15 (no m values are trained).\n"
     ]
    }
   ],
   "source": [
    "blocking_rule_for_training = \"l.first_name_15 = r.first_name_15\"\n",
    "em_session_1 = linker.estimate_parameters_using_expectation_maximisation(\n",
    "    blocking_rule_for_training,\n",
    "    # Fix lambda; u is fixed by default\n",
    "    fix_probability_two_random_records_match=True,\n",
    ")"
   ]
  },
  {
   "cell_type": "code",
   "execution_count": 39,
   "id": "7cc3f56f-eb87-4673-bcc4-fe2269e54db3",
   "metadata": {
    "execution": {
     "iopub.execute_input": "2023-12-01T17:58:01.710595Z",
     "iopub.status.busy": "2023-12-01T17:58:01.710298Z",
     "iopub.status.idle": "2023-12-01T17:58:03.163005Z",
     "shell.execute_reply": "2023-12-01T17:58:03.162460Z"
    },
    "papermill": {
     "duration": 1.473694,
     "end_time": "2023-12-01T17:58:03.165378",
     "exception": false,
     "start_time": "2023-12-01T17:58:01.691684",
     "status": "completed"
    },
    "tags": []
   },
   "outputs": [
    {
     "data": {
      "text/html": [
       "\n",
       "<style>\n",
       "  #altair-viz-cd1e319ee2f2455aa3032086a4643319.vega-embed {\n",
       "    width: 100%;\n",
       "    display: flex;\n",
       "  }\n",
       "\n",
       "  #altair-viz-cd1e319ee2f2455aa3032086a4643319.vega-embed details,\n",
       "  #altair-viz-cd1e319ee2f2455aa3032086a4643319.vega-embed details summary {\n",
       "    position: relative;\n",
       "  }\n",
       "</style>\n",
       "<div id=\"altair-viz-cd1e319ee2f2455aa3032086a4643319\"></div>\n",
       "<script type=\"text/javascript\">\n",
       "  var VEGA_DEBUG = (typeof VEGA_DEBUG == \"undefined\") ? {} : VEGA_DEBUG;\n",
       "  (function(spec, embedOpt){\n",
       "    let outputDiv = document.currentScript.previousElementSibling;\n",
       "    if (outputDiv.id !== \"altair-viz-cd1e319ee2f2455aa3032086a4643319\") {\n",
       "      outputDiv = document.getElementById(\"altair-viz-cd1e319ee2f2455aa3032086a4643319\");\n",
       "    }\n",
       "    const paths = {\n",
       "      \"vega\": \"https://cdn.jsdelivr.net/npm/vega@5?noext\",\n",
       "      \"vega-lib\": \"https://cdn.jsdelivr.net/npm/vega-lib?noext\",\n",
       "      \"vega-lite\": \"https://cdn.jsdelivr.net/npm/vega-lite@5.15.1?noext\",\n",
       "      \"vega-embed\": \"https://cdn.jsdelivr.net/npm/vega-embed@6?noext\",\n",
       "    };\n",
       "\n",
       "    function maybeLoadScript(lib, version) {\n",
       "      var key = `${lib.replace(\"-\", \"\")}_version`;\n",
       "      return (VEGA_DEBUG[key] == version) ?\n",
       "        Promise.resolve(paths[lib]) :\n",
       "        new Promise(function(resolve, reject) {\n",
       "          var s = document.createElement('script');\n",
       "          document.getElementsByTagName(\"head\")[0].appendChild(s);\n",
       "          s.async = true;\n",
       "          s.onload = () => {\n",
       "            VEGA_DEBUG[key] = version;\n",
       "            return resolve(paths[lib]);\n",
       "          };\n",
       "          s.onerror = () => reject(`Error loading script: ${paths[lib]}`);\n",
       "          s.src = paths[lib];\n",
       "        });\n",
       "    }\n",
       "\n",
       "    function showError(err) {\n",
       "      outputDiv.innerHTML = `<div class=\"error\" style=\"color:red;\">${err}</div>`;\n",
       "      throw err;\n",
       "    }\n",
       "\n",
       "    function displayChart(vegaEmbed) {\n",
       "      vegaEmbed(outputDiv, spec, embedOpt)\n",
       "        .catch(err => showError(`Javascript Error: ${err.message}<br>This usually means there's a typo in your chart specification. See the javascript console for the full traceback.`));\n",
       "    }\n",
       "\n",
       "    if(typeof define === \"function\" && define.amd) {\n",
       "      requirejs.config({paths});\n",
       "      require([\"vega-embed\"], displayChart, err => showError(`Error loading script: ${err.message}`));\n",
       "    } else {\n",
       "      maybeLoadScript(\"vega\", \"5\")\n",
       "        .then(() => maybeLoadScript(\"vega-lite\", \"5.15.1\"))\n",
       "        .then(() => maybeLoadScript(\"vega-embed\", \"6\"))\n",
       "        .catch(showError)\n",
       "        .then(() => displayChart(vegaEmbed));\n",
       "    }\n",
       "  })({\"config\": {\"view\": {\"continuousWidth\": 300, \"continuousHeight\": 300, \"discreteHeight\": 300, \"discreteWidth\": 400}, \"header\": {\"title\": null}, \"title\": {\"anchor\": \"middle\", \"offset\": 10}}, \"hconcat\": [{\"mark\": \"bar\", \"encoding\": {\"color\": {\"value\": \"green\"}, \"row\": {\"field\": \"comparison_name\", \"header\": {\"labelAlign\": \"left\", \"labelAnchor\": \"middle\", \"labelAngle\": 0}, \"sort\": {\"field\": \"comparison_sort_order\"}, \"type\": \"nominal\"}, \"tooltip\": [{\"field\": \"m_probability_description\", \"title\": \"m probability description\", \"type\": \"nominal\"}, {\"field\": \"comparison_name\", \"title\": \"Comparison column name\", \"type\": \"nominal\"}, {\"field\": \"label_for_charts\", \"title\": \"Label\", \"type\": \"ordinal\"}, {\"field\": \"sql_condition\", \"title\": \"SQL condition\", \"type\": \"nominal\"}, {\"field\": \"m_probability\", \"format\": \".4p\", \"title\": \"m probability\", \"type\": \"quantitative\"}, {\"field\": \"u_probability\", \"format\": \".4p\", \"title\": \"u probability\", \"type\": \"quantitative\"}, {\"field\": \"bayes_factor\", \"format\": \",.4f\", \"title\": \"Bayes factor = m/u\", \"type\": \"quantitative\"}, {\"field\": \"log2_bayes_factor\", \"format\": \",.4f\", \"title\": \"Match weight = log2(m/u)\", \"type\": \"quantitative\"}], \"x\": {\"axis\": {\"title\": \"Proportion of record comparisons\"}, \"field\": \"m_probability\", \"type\": \"quantitative\"}, \"y\": {\"axis\": {\"title\": null}, \"field\": \"label_for_charts\", \"sort\": {\"field\": \"comparison_vector_value\", \"order\": \"descending\"}, \"type\": \"nominal\"}}, \"height\": {\"step\": 12}, \"resolve\": {\"scale\": {\"y\": \"independent\"}}, \"title\": {\"text\": \"Amongst matching record comparisons:\", \"fontSize\": 12, \"fontWeight\": \"bold\"}, \"transform\": [{\"filter\": \"(datum.bayes_factor != 'no-op filter due to vega lite issue 4680')\"}], \"width\": 150}, {\"mark\": \"bar\", \"encoding\": {\"color\": {\"value\": \"red\"}, \"row\": {\"field\": \"comparison_name\", \"header\": {\"labels\": false}, \"sort\": {\"field\": \"comparison_sort_order\"}, \"type\": \"nominal\"}, \"tooltip\": [{\"field\": \"u_probability_description\", \"title\": \"u probability description\", \"type\": \"nominal\"}, {\"field\": \"comparison_name\", \"title\": \"Comparison column name\", \"type\": \"nominal\"}, {\"field\": \"label_for_charts\", \"title\": \"Label\", \"type\": \"ordinal\"}, {\"field\": \"sql_condition\", \"title\": \"SQL condition\", \"type\": \"nominal\"}, {\"field\": \"m_probability\", \"format\": \".4p\", \"title\": \"m probability\", \"type\": \"quantitative\"}, {\"field\": \"u_probability\", \"format\": \".4p\", \"title\": \"u probability\", \"type\": \"quantitative\"}, {\"field\": \"bayes_factor\", \"format\": \",.4f\", \"title\": \"Bayes factor = m/u\", \"type\": \"quantitative\"}, {\"field\": \"log2_bayes_factor\", \"format\": \",.4f\", \"title\": \"Match weight = log2(m/u)\", \"type\": \"quantitative\"}], \"x\": {\"axis\": {\"title\": \"Proportion of record comparisons\"}, \"field\": \"u_probability\", \"type\": \"quantitative\"}, \"y\": {\"axis\": {\"title\": null}, \"field\": \"label_for_charts\", \"sort\": {\"field\": \"comparison_vector_value\", \"order\": \"descending\"}, \"type\": \"nominal\"}}, \"height\": {\"step\": 12}, \"resolve\": {\"scale\": {\"y\": \"independent\"}}, \"title\": {\"text\": \"Amongst non-matching record comparisons:\", \"fontSize\": 12, \"fontWeight\": \"bold\"}, \"transform\": [{\"filter\": \"(datum.bayes_factor != 'no-op filter2 due to vega lite issue 4680')\"}], \"width\": 150}], \"data\": {\"name\": \"data-387e542b18507212015e4b0485e81ac8\"}, \"params\": [{\"name\": \"iteration_number\", \"bind\": {\"input\": \"range\", \"max\": 5, \"min\": 0, \"step\": 1}, \"value\": 5}], \"title\": {\"text\": \"Proportion of record comparisons in each comparison level by match status\", \"subtitle\": \"(m and u probabilities)\"}, \"transform\": [{\"filter\": \"(datum.iteration == iteration_number)\"}], \"$schema\": \"https://vega.github.io/schema/vega-lite/v5.9.3.json\", \"datasets\": {\"data-387e542b18507212015e4b0485e81ac8\": [{\"comparison_name\": \"last_name_12\", \"sql_condition\": \"\\\"last_name_12_l\\\" = \\\"last_name_12_r\\\"\", \"label_for_charts\": \"Exact match\", \"m_probability\": 0.95, \"u_probability\": 0.0007093232453578939, \"m_probability_description\": \"Amongst matching record comparisons, 95.00% of records are in the exact match comparison level\", \"u_probability_description\": \"Amongst non-matching record comparisons, 0.07% of records are in the exact match comparison level\", \"has_tf_adjustments\": false, \"tf_adjustment_column\": null, \"tf_adjustment_weight\": 1.0, \"is_null_level\": false, \"bayes_factor\": 1339.304761569841, \"log2_bayes_factor\": 10.387268570923151, \"comparison_vector_value\": 2, \"max_comparison_vector_value\": 2, \"bayes_factor_description\": \"If comparison level is `exact match` then comparison is 1,339.30 times more likely to be a match\", \"probability_two_random_records_match\": 0.006781357319075399, \"comparison_sort_order\": 0, \"iteration\": 0}, {\"comparison_name\": \"last_name_12\", \"sql_condition\": \"jaro_winkler_similarity(\\\"last_name_12_l\\\", \\\"last_name_12_r\\\") >= 0.8333333333333334\", \"label_for_charts\": \"Jaro_winkler_similarity >= 0.8333333333333334\", \"m_probability\": 0.025000000000000022, \"u_probability\": 0.001329943668219914, \"m_probability_description\": \"Amongst matching record comparisons, 2.50% of records are in the jaro_winkler_similarity >= 0.8333333333333334 comparison level\", \"u_probability_description\": \"Amongst non-matching record comparisons, 0.13% of records are in the jaro_winkler_similarity >= 0.8333333333333334 comparison level\", \"has_tf_adjustments\": false, \"tf_adjustment_column\": null, \"tf_adjustment_weight\": 1.0, \"is_null_level\": false, \"bayes_factor\": 18.79778865631332, \"log2_bayes_factor\": 4.232491050289538, \"comparison_vector_value\": 1, \"max_comparison_vector_value\": 2, \"bayes_factor_description\": \"If comparison level is `jaro_winkler_similarity >= 0.8333333333333334` then comparison is 18.80 times more likely to be a match\", \"probability_two_random_records_match\": 0.006781357319075399, \"comparison_sort_order\": 0, \"iteration\": 0}, {\"comparison_name\": \"last_name_12\", \"sql_condition\": \"ELSE\", \"label_for_charts\": \"All other comparisons\", \"m_probability\": 0.025000000000000022, \"u_probability\": 0.9979607330864222, \"m_probability_description\": \"Amongst matching record comparisons, 2.50% of records are in the all other comparisons comparison level\", \"u_probability_description\": \"Amongst non-matching record comparisons, 99.80% of records are in the all other comparisons comparison level\", \"has_tf_adjustments\": false, \"tf_adjustment_column\": null, \"tf_adjustment_weight\": 1.0, \"is_null_level\": false, \"bayes_factor\": 0.025051085850524193, \"log2_bayes_factor\": -5.318983050736897, \"comparison_vector_value\": 0, \"max_comparison_vector_value\": 2, \"bayes_factor_description\": \"If comparison level is `all other comparisons` then comparison is  39.92 times less likely to be a match\", \"probability_two_random_records_match\": 0.006781357319075399, \"comparison_sort_order\": 0, \"iteration\": 0}, {\"comparison_name\": \"middle_initial\", \"sql_condition\": \"\\\"middle_initial_l\\\" = \\\"middle_initial_r\\\"\", \"label_for_charts\": \"Exact match\", \"m_probability\": 0.95, \"u_probability\": 0.07410500870140878, \"m_probability_description\": \"Amongst matching record comparisons, 95.00% of records are in the exact match comparison level\", \"u_probability_description\": \"Amongst non-matching record comparisons, 7.41% of records are in the exact match comparison level\", \"has_tf_adjustments\": false, \"tf_adjustment_column\": null, \"tf_adjustment_weight\": 1.0, \"is_null_level\": false, \"bayes_factor\": 12.819646291761922, \"log2_bayes_factor\": 3.680284551839281, \"comparison_vector_value\": 1, \"max_comparison_vector_value\": 1, \"bayes_factor_description\": \"If comparison level is `exact match` then comparison is 12.82 times more likely to be a match\", \"probability_two_random_records_match\": 0.006781357319075399, \"comparison_sort_order\": 1, \"iteration\": 0}, {\"comparison_name\": \"middle_initial\", \"sql_condition\": \"ELSE\", \"label_for_charts\": \"All other comparisons\", \"m_probability\": 0.050000000000000044, \"u_probability\": 0.9258949912985912, \"m_probability_description\": \"Amongst matching record comparisons, 5.00% of records are in the all other comparisons comparison level\", \"u_probability_description\": \"Amongst non-matching record comparisons, 92.59% of records are in the all other comparisons comparison level\", \"has_tf_adjustments\": false, \"tf_adjustment_column\": null, \"tf_adjustment_weight\": 1.0, \"is_null_level\": false, \"bayes_factor\": 0.05400180416774237, \"log2_bayes_factor\": -4.210848582121317, \"comparison_vector_value\": 0, \"max_comparison_vector_value\": 1, \"bayes_factor_description\": \"If comparison level is `all other comparisons` then comparison is  18.52 times less likely to be a match\", \"probability_two_random_records_match\": 0.006781357319075399, \"comparison_sort_order\": 1, \"iteration\": 0}, {\"comparison_name\": \"day_of_birth\", \"sql_condition\": \"\\\"day_of_birth_l\\\" = \\\"day_of_birth_r\\\"\", \"label_for_charts\": \"Exact match\", \"m_probability\": 0.95, \"u_probability\": 0.03243028785148898, \"m_probability_description\": \"Amongst matching record comparisons, 95.00% of records are in the exact match comparison level\", \"u_probability_description\": \"Amongst non-matching record comparisons, 3.24% of records are in the exact match comparison level\", \"has_tf_adjustments\": false, \"tf_adjustment_column\": null, \"tf_adjustment_weight\": 1.0, \"is_null_level\": false, \"bayes_factor\": 29.293603693880947, \"log2_bayes_factor\": 4.872513779107915, \"comparison_vector_value\": 2, \"max_comparison_vector_value\": 2, \"bayes_factor_description\": \"If comparison level is `exact match` then comparison is 29.29 times more likely to be a match\", \"probability_two_random_records_match\": 0.006781357319075399, \"comparison_sort_order\": 2, \"iteration\": 0}, {\"comparison_name\": \"day_of_birth\", \"sql_condition\": \"abs(day_of_birth_l - day_of_birth_r) <= 5\", \"label_for_charts\": \"Inexact match\", \"m_probability\": 0.025000000000000022, \"u_probability\": 0.295173345919013, \"m_probability_description\": \"Amongst matching record comparisons, 2.50% of records are in the inexact match comparison level\", \"u_probability_description\": \"Amongst non-matching record comparisons, 29.52% of records are in the inexact match comparison level\", \"has_tf_adjustments\": false, \"tf_adjustment_column\": null, \"tf_adjustment_weight\": 1.0, \"is_null_level\": false, \"bayes_factor\": 0.08469599422049204, \"log2_bayes_factor\": -3.5615624522703015, \"comparison_vector_value\": 1, \"max_comparison_vector_value\": 2, \"bayes_factor_description\": \"If comparison level is `inexact match` then comparison is  11.81 times less likely to be a match\", \"probability_two_random_records_match\": 0.006781357319075399, \"comparison_sort_order\": 2, \"iteration\": 0}, {\"comparison_name\": \"day_of_birth\", \"sql_condition\": \"ELSE\", \"label_for_charts\": \"All other comparisons\", \"m_probability\": 0.025000000000000022, \"u_probability\": 0.672396366229498, \"m_probability_description\": \"Amongst matching record comparisons, 2.50% of records are in the all other comparisons comparison level\", \"u_probability_description\": \"Amongst non-matching record comparisons, 67.24% of records are in the all other comparisons comparison level\", \"has_tf_adjustments\": false, \"tf_adjustment_column\": null, \"tf_adjustment_weight\": 1.0, \"is_null_level\": false, \"bayes_factor\": 0.037180450781120346, \"log2_bayes_factor\": -4.749311927969605, \"comparison_vector_value\": 0, \"max_comparison_vector_value\": 2, \"bayes_factor_description\": \"If comparison level is `all other comparisons` then comparison is  26.90 times less likely to be a match\", \"probability_two_random_records_match\": 0.006781357319075399, \"comparison_sort_order\": 2, \"iteration\": 0}, {\"comparison_name\": \"month_of_birth\", \"sql_condition\": \"\\\"month_of_birth_l\\\" = \\\"month_of_birth_r\\\"\", \"label_for_charts\": \"Exact match\", \"m_probability\": 0.95, \"u_probability\": 0.08355145831969693, \"m_probability_description\": \"Amongst matching record comparisons, 95.00% of records are in the exact match comparison level\", \"u_probability_description\": \"Amongst non-matching record comparisons, 8.36% of records are in the exact match comparison level\", \"has_tf_adjustments\": false, \"tf_adjustment_column\": null, \"tf_adjustment_weight\": 1.0, \"is_null_level\": false, \"bayes_factor\": 11.370238402841153, \"log2_bayes_factor\": 3.5071905988088927, \"comparison_vector_value\": 2, \"max_comparison_vector_value\": 2, \"bayes_factor_description\": \"If comparison level is `exact match` then comparison is 11.37 times more likely to be a match\", \"probability_two_random_records_match\": 0.006781357319075399, \"comparison_sort_order\": 3, \"iteration\": 0}, {\"comparison_name\": \"month_of_birth\", \"sql_condition\": \"abs(month_of_birth_l - month_of_birth_r) <= 3\", \"label_for_charts\": \"Inexact match\", \"m_probability\": 0.025000000000000022, \"u_probability\": 0.4143133397869391, \"m_probability_description\": \"Amongst matching record comparisons, 2.50% of records are in the inexact match comparison level\", \"u_probability_description\": \"Amongst non-matching record comparisons, 41.43% of records are in the inexact match comparison level\", \"has_tf_adjustments\": false, \"tf_adjustment_column\": null, \"tf_adjustment_weight\": 1.0, \"is_null_level\": false, \"bayes_factor\": 0.06034080392597614, \"log2_bayes_factor\": -4.0507222720058405, \"comparison_vector_value\": 1, \"max_comparison_vector_value\": 2, \"bayes_factor_description\": \"If comparison level is `inexact match` then comparison is  16.57 times less likely to be a match\", \"probability_two_random_records_match\": 0.006781357319075399, \"comparison_sort_order\": 3, \"iteration\": 0}, {\"comparison_name\": \"month_of_birth\", \"sql_condition\": \"ELSE\", \"label_for_charts\": \"All other comparisons\", \"m_probability\": 0.025000000000000022, \"u_probability\": 0.5021352018933639, \"m_probability_description\": \"Amongst matching record comparisons, 2.50% of records are in the all other comparisons comparison level\", \"u_probability_description\": \"Amongst non-matching record comparisons, 50.21% of records are in the all other comparisons comparison level\", \"has_tf_adjustments\": false, \"tf_adjustment_column\": null, \"tf_adjustment_weight\": 1.0, \"is_null_level\": false, \"bayes_factor\": 0.04978738775081767, \"log2_bayes_factor\": -4.328075867839469, \"comparison_vector_value\": 0, \"max_comparison_vector_value\": 2, \"bayes_factor_description\": \"If comparison level is `all other comparisons` then comparison is  20.09 times less likely to be a match\", \"probability_two_random_records_match\": 0.006781357319075399, \"comparison_sort_order\": 3, \"iteration\": 0}, {\"comparison_name\": \"year_of_birth\", \"sql_condition\": \"\\\"year_of_birth_l\\\" = \\\"year_of_birth_r\\\"\", \"label_for_charts\": \"Exact match\", \"m_probability\": 0.95, \"u_probability\": 0.011125465216557518, \"m_probability_description\": \"Amongst matching record comparisons, 95.00% of records are in the exact match comparison level\", \"u_probability_description\": \"Amongst non-matching record comparisons, 1.11% of records are in the exact match comparison level\", \"has_tf_adjustments\": false, \"tf_adjustment_column\": null, \"tf_adjustment_weight\": 1.0, \"is_null_level\": false, \"bayes_factor\": 85.38968766772635, \"log2_bayes_factor\": 6.415989944019308, \"comparison_vector_value\": 2, \"max_comparison_vector_value\": 2, \"bayes_factor_description\": \"If comparison level is `exact match` then comparison is 85.39 times more likely to be a match\", \"probability_two_random_records_match\": 0.006781357319075399, \"comparison_sort_order\": 4, \"iteration\": 0}, {\"comparison_name\": \"year_of_birth\", \"sql_condition\": \"abs(year_of_birth_l - year_of_birth_r) <= 5\", \"label_for_charts\": \"Inexact match\", \"m_probability\": 0.025000000000000022, \"u_probability\": 0.11053660239472413, \"m_probability_description\": \"Amongst matching record comparisons, 2.50% of records are in the inexact match comparison level\", \"u_probability_description\": \"Amongst non-matching record comparisons, 11.05% of records are in the inexact match comparison level\", \"has_tf_adjustments\": false, \"tf_adjustment_column\": null, \"tf_adjustment_weight\": 1.0, \"is_null_level\": false, \"bayes_factor\": 0.22616942676350313, \"log2_bayes_factor\": -2.14452417368412, \"comparison_vector_value\": 1, \"max_comparison_vector_value\": 2, \"bayes_factor_description\": \"If comparison level is `inexact match` then comparison is  4.42 times less likely to be a match\", \"probability_two_random_records_match\": 0.006781357319075399, \"comparison_sort_order\": 4, \"iteration\": 0}, {\"comparison_name\": \"year_of_birth\", \"sql_condition\": \"ELSE\", \"label_for_charts\": \"All other comparisons\", \"m_probability\": 0.025000000000000022, \"u_probability\": 0.8783379323887184, \"m_probability_description\": \"Amongst matching record comparisons, 2.50% of records are in the all other comparisons comparison level\", \"u_probability_description\": \"Amongst non-matching record comparisons, 87.83% of records are in the all other comparisons comparison level\", \"has_tf_adjustments\": false, \"tf_adjustment_column\": null, \"tf_adjustment_weight\": 1.0, \"is_null_level\": false, \"bayes_factor\": 0.02846284906768206, \"log2_bayes_factor\": -5.134776110127776, \"comparison_vector_value\": 0, \"max_comparison_vector_value\": 2, \"bayes_factor_description\": \"If comparison level is `all other comparisons` then comparison is  35.13 times less likely to be a match\", \"probability_two_random_records_match\": 0.006781357319075399, \"comparison_sort_order\": 4, \"iteration\": 0}, {\"comparison_name\": \"street_number\", \"sql_condition\": \"\\\"street_number_l\\\" = \\\"street_number_r\\\"\", \"label_for_charts\": \"Exact match\", \"m_probability\": 0.95, \"u_probability\": 0.004643745865751094, \"m_probability_description\": \"Amongst matching record comparisons, 95.00% of records are in the exact match comparison level\", \"u_probability_description\": \"Amongst non-matching record comparisons, 0.46% of records are in the exact match comparison level\", \"has_tf_adjustments\": false, \"tf_adjustment_column\": null, \"tf_adjustment_weight\": 1.0, \"is_null_level\": false, \"bayes_factor\": 204.57622519925386, \"log2_bayes_factor\": 7.676494681973654, \"comparison_vector_value\": 2, \"max_comparison_vector_value\": 2, \"bayes_factor_description\": \"If comparison level is `exact match` then comparison is 204.58 times more likely to be a match\", \"probability_two_random_records_match\": 0.006781357319075399, \"comparison_sort_order\": 5, \"iteration\": 0}, {\"comparison_name\": \"street_number\", \"sql_condition\": \"jaro_winkler_similarity(\\\"street_number_l\\\", \\\"street_number_r\\\") >= 0.8333333333333334\", \"label_for_charts\": \"Jaro_winkler_similarity >= 0.8333333333333334\", \"m_probability\": 0.025000000000000022, \"u_probability\": 0.012708549889228378, \"m_probability_description\": \"Amongst matching record comparisons, 2.50% of records are in the jaro_winkler_similarity >= 0.8333333333333334 comparison level\", \"u_probability_description\": \"Amongst non-matching record comparisons, 1.27% of records are in the jaro_winkler_similarity >= 0.8333333333333334 comparison level\", \"has_tf_adjustments\": false, \"tf_adjustment_column\": null, \"tf_adjustment_weight\": 1.0, \"is_null_level\": false, \"bayes_factor\": 1.9671795931013134, \"log2_bayes_factor\": 0.976128674062371, \"comparison_vector_value\": 1, \"max_comparison_vector_value\": 2, \"bayes_factor_description\": \"If comparison level is `jaro_winkler_similarity >= 0.8333333333333334` then comparison is 1.97 times more likely to be a match\", \"probability_two_random_records_match\": 0.006781357319075399, \"comparison_sort_order\": 5, \"iteration\": 0}, {\"comparison_name\": \"street_number\", \"sql_condition\": \"ELSE\", \"label_for_charts\": \"All other comparisons\", \"m_probability\": 0.025000000000000022, \"u_probability\": 0.9826477042450206, \"m_probability_description\": \"Amongst matching record comparisons, 2.50% of records are in the all other comparisons comparison level\", \"u_probability_description\": \"Amongst non-matching record comparisons, 98.26% of records are in the all other comparisons comparison level\", \"has_tf_adjustments\": false, \"tf_adjustment_column\": null, \"tf_adjustment_weight\": 1.0, \"is_null_level\": false, \"bayes_factor\": 0.025441467875007968, \"log2_bayes_factor\": -5.296674278786812, \"comparison_vector_value\": 0, \"max_comparison_vector_value\": 2, \"bayes_factor_description\": \"If comparison level is `all other comparisons` then comparison is  39.31 times less likely to be a match\", \"probability_two_random_records_match\": 0.006781357319075399, \"comparison_sort_order\": 5, \"iteration\": 0}, {\"comparison_name\": \"street_name\", \"sql_condition\": \"\\\"street_name_l\\\" = \\\"street_name_r\\\"\", \"label_for_charts\": \"Exact match\", \"m_probability\": 0.95, \"u_probability\": 0.0036909475444507293, \"m_probability_description\": \"Amongst matching record comparisons, 95.00% of records are in the exact match comparison level\", \"u_probability_description\": \"Amongst non-matching record comparisons, 0.37% of records are in the exact match comparison level\", \"has_tf_adjustments\": false, \"tf_adjustment_column\": null, \"tf_adjustment_weight\": 1.0, \"is_null_level\": false, \"bayes_factor\": 257.3864809941033, \"log2_bayes_factor\": 8.007792468993921, \"comparison_vector_value\": 2, \"max_comparison_vector_value\": 2, \"bayes_factor_description\": \"If comparison level is `exact match` then comparison is 257.39 times more likely to be a match\", \"probability_two_random_records_match\": 0.006781357319075399, \"comparison_sort_order\": 6, \"iteration\": 0}, {\"comparison_name\": \"street_name\", \"sql_condition\": \"jaro_winkler_similarity(\\\"street_name_l\\\", \\\"street_name_r\\\") >= 0.8333333333333334\", \"label_for_charts\": \"Jaro_winkler_similarity >= 0.8333333333333334\", \"m_probability\": 0.025000000000000022, \"u_probability\": 0.0018843912156014068, \"m_probability_description\": \"Amongst matching record comparisons, 2.50% of records are in the jaro_winkler_similarity >= 0.8333333333333334 comparison level\", \"u_probability_description\": \"Amongst non-matching record comparisons, 0.19% of records are in the jaro_winkler_similarity >= 0.8333333333333334 comparison level\", \"has_tf_adjustments\": false, \"tf_adjustment_column\": null, \"tf_adjustment_weight\": 1.0, \"is_null_level\": false, \"bayes_factor\": 13.26688417618272, \"log2_bayes_factor\": 3.729757678000038, \"comparison_vector_value\": 1, \"max_comparison_vector_value\": 2, \"bayes_factor_description\": \"If comparison level is `jaro_winkler_similarity >= 0.8333333333333334` then comparison is 13.27 times more likely to be a match\", \"probability_two_random_records_match\": 0.006781357319075399, \"comparison_sort_order\": 6, \"iteration\": 0}, {\"comparison_name\": \"street_name\", \"sql_condition\": \"ELSE\", \"label_for_charts\": \"All other comparisons\", \"m_probability\": 0.025000000000000022, \"u_probability\": 0.9944246612399479, \"m_probability_description\": \"Amongst matching record comparisons, 2.50% of records are in the all other comparisons comparison level\", \"u_probability_description\": \"Amongst non-matching record comparisons, 99.44% of records are in the all other comparisons comparison level\", \"has_tf_adjustments\": false, \"tf_adjustment_column\": null, \"tf_adjustment_weight\": 1.0, \"is_null_level\": false, \"bayes_factor\": 0.025140164936001817, \"log2_bayes_factor\": -5.313862074957779, \"comparison_vector_value\": 0, \"max_comparison_vector_value\": 2, \"bayes_factor_description\": \"If comparison level is `all other comparisons` then comparison is  39.78 times less likely to be a match\", \"probability_two_random_records_match\": 0.006781357319075399, \"comparison_sort_order\": 6, \"iteration\": 0}, {\"comparison_name\": \"unit_number\", \"sql_condition\": \"\\\"unit_number_l\\\" = \\\"unit_number_r\\\"\", \"label_for_charts\": \"Exact match\", \"m_probability\": 0.95, \"u_probability\": 0.005427064313248123, \"m_probability_description\": \"Amongst matching record comparisons, 95.00% of records are in the exact match comparison level\", \"u_probability_description\": \"Amongst non-matching record comparisons, 0.54% of records are in the exact match comparison level\", \"has_tf_adjustments\": false, \"tf_adjustment_column\": null, \"tf_adjustment_weight\": 1.0, \"is_null_level\": false, \"bayes_factor\": 175.04859813084113, \"log2_bayes_factor\": 7.451611697826307, \"comparison_vector_value\": 2, \"max_comparison_vector_value\": 2, \"bayes_factor_description\": \"If comparison level is `exact match` then comparison is 175.05 times more likely to be a match\", \"probability_two_random_records_match\": 0.006781357319075399, \"comparison_sort_order\": 7, \"iteration\": 0}, {\"comparison_name\": \"unit_number\", \"sql_condition\": \"jaro_winkler_similarity(\\\"unit_number_l\\\", \\\"unit_number_r\\\") >= 0.8333333333333334\", \"label_for_charts\": \"Jaro_winkler_similarity >= 0.8333333333333334\", \"m_probability\": 0.025000000000000022, \"u_probability\": 0.08399269628727937, \"m_probability_description\": \"Amongst matching record comparisons, 2.50% of records are in the jaro_winkler_similarity >= 0.8333333333333334 comparison level\", \"u_probability_description\": \"Amongst non-matching record comparisons, 8.40% of records are in the jaro_winkler_similarity >= 0.8333333333333334 comparison level\", \"has_tf_adjustments\": false, \"tf_adjustment_column\": null, \"tf_adjustment_weight\": 1.0, \"is_null_level\": false, \"bayes_factor\": 0.2976449275362321, \"log2_bayes_factor\": -1.7483357867154559, \"comparison_vector_value\": 1, \"max_comparison_vector_value\": 2, \"bayes_factor_description\": \"If comparison level is `jaro_winkler_similarity >= 0.8333333333333334` then comparison is  3.36 times less likely to be a match\", \"probability_two_random_records_match\": 0.006781357319075399, \"comparison_sort_order\": 7, \"iteration\": 0}, {\"comparison_name\": \"unit_number\", \"sql_condition\": \"ELSE\", \"label_for_charts\": \"All other comparisons\", \"m_probability\": 0.025000000000000022, \"u_probability\": 0.9105802393994725, \"m_probability_description\": \"Amongst matching record comparisons, 2.50% of records are in the all other comparisons comparison level\", \"u_probability_description\": \"Amongst non-matching record comparisons, 91.06% of records are in the all other comparisons comparison level\", \"has_tf_adjustments\": false, \"tf_adjustment_column\": null, \"tf_adjustment_weight\": 1.0, \"is_null_level\": false, \"bayes_factor\": 0.027455021444883886, \"log2_bayes_factor\": -5.186786151615274, \"comparison_vector_value\": 0, \"max_comparison_vector_value\": 2, \"bayes_factor_description\": \"If comparison level is `all other comparisons` then comparison is  36.42 times less likely to be a match\", \"probability_two_random_records_match\": 0.006781357319075399, \"comparison_sort_order\": 7, \"iteration\": 0}, {\"comparison_name\": \"zipcode\", \"sql_condition\": \"\\\"zipcode_l\\\" = \\\"zipcode_r\\\"\", \"label_for_charts\": \"Exact match\", \"m_probability\": 0.95, \"u_probability\": 0.9441587509332844, \"m_probability_description\": \"Amongst matching record comparisons, 95.00% of records are in the exact match comparison level\", \"u_probability_description\": \"Amongst non-matching record comparisons, 94.42% of records are in the exact match comparison level\", \"has_tf_adjustments\": false, \"tf_adjustment_column\": null, \"tf_adjustment_weight\": 1.0, \"is_null_level\": false, \"bayes_factor\": 1.0061867234307171, \"log2_bayes_factor\": 0.008898058593107312, \"comparison_vector_value\": 2, \"max_comparison_vector_value\": 2, \"bayes_factor_description\": \"If comparison level is `exact match` then comparison is 1.01 times more likely to be a match\", \"probability_two_random_records_match\": 0.006781357319075399, \"comparison_sort_order\": 8, \"iteration\": 0}, {\"comparison_name\": \"zipcode\", \"sql_condition\": \"jaro_winkler_similarity(\\\"zipcode_l\\\", \\\"zipcode_r\\\") >= 0.8333333333333334\", \"label_for_charts\": \"Jaro_winkler_similarity >= 0.8333333333333334\", \"m_probability\": 0.025000000000000022, \"u_probability\": 0.041136656606251085, \"m_probability_description\": \"Amongst matching record comparisons, 2.50% of records are in the jaro_winkler_similarity >= 0.8333333333333334 comparison level\", \"u_probability_description\": \"Amongst non-matching record comparisons, 4.11% of records are in the jaro_winkler_similarity >= 0.8333333333333334 comparison level\", \"has_tf_adjustments\": false, \"tf_adjustment_column\": null, \"tf_adjustment_weight\": 1.0, \"is_null_level\": false, \"bayes_factor\": 0.6077304784220371, \"log2_bayes_factor\": -0.7184964482805007, \"comparison_vector_value\": 1, \"max_comparison_vector_value\": 2, \"bayes_factor_description\": \"If comparison level is `jaro_winkler_similarity >= 0.8333333333333334` then comparison is  1.65 times less likely to be a match\", \"probability_two_random_records_match\": 0.006781357319075399, \"comparison_sort_order\": 8, \"iteration\": 0}, {\"comparison_name\": \"zipcode\", \"sql_condition\": \"ELSE\", \"label_for_charts\": \"All other comparisons\", \"m_probability\": 0.025000000000000022, \"u_probability\": 0.014704592460464516, \"m_probability_description\": \"Amongst matching record comparisons, 2.50% of records are in the all other comparisons comparison level\", \"u_probability_description\": \"Amongst non-matching record comparisons, 1.47% of records are in the all other comparisons comparison level\", \"has_tf_adjustments\": false, \"tf_adjustment_column\": null, \"tf_adjustment_weight\": 1.0, \"is_null_level\": false, \"bayes_factor\": 1.7001491246504274, \"log2_bayes_factor\": 0.7656612945735977, \"comparison_vector_value\": 0, \"max_comparison_vector_value\": 2, \"bayes_factor_description\": \"If comparison level is `all other comparisons` then comparison is 1.70 times more likely to be a match\", \"probability_two_random_records_match\": 0.006781357319075399, \"comparison_sort_order\": 8, \"iteration\": 0}, {\"comparison_name\": \"last_name_12\", \"sql_condition\": \"\\\"last_name_12_l\\\" = \\\"last_name_12_r\\\"\", \"label_for_charts\": \"Exact match\", \"m_probability\": 0.8677597551619776, \"u_probability\": 0.0007093232453578939, \"m_probability_description\": \"Amongst matching record comparisons, 86.78% of records are in the exact match comparison level\", \"u_probability_description\": \"Amongst non-matching record comparisons, 0.07% of records are in the exact match comparison level\", \"has_tf_adjustments\": false, \"tf_adjustment_column\": null, \"tf_adjustment_weight\": 1.0, \"is_null_level\": false, \"bayes_factor\": 1223.3629178811748, \"log2_bayes_factor\": 10.256636736081113, \"comparison_vector_value\": 2, \"max_comparison_vector_value\": 2, \"bayes_factor_description\": \"If comparison level is `exact match` then comparison is 1,223.36 times more likely to be a match\", \"probability_two_random_records_match\": 0.006781357319075399, \"comparison_sort_order\": 0, \"iteration\": 1}, {\"comparison_name\": \"last_name_12\", \"sql_condition\": \"jaro_winkler_similarity(\\\"last_name_12_l\\\", \\\"last_name_12_r\\\") >= 0.8333333333333334\", \"label_for_charts\": \"Jaro_winkler_similarity >= 0.8333333333333334\", \"m_probability\": 0.08802487853092814, \"u_probability\": 0.001329943668219914, \"m_probability_description\": \"Amongst matching record comparisons, 8.80% of records are in the jaro_winkler_similarity >= 0.8333333333333334 comparison level\", \"u_probability_description\": \"Amongst non-matching record comparisons, 0.13% of records are in the jaro_winkler_similarity >= 0.8333333333333334 comparison level\", \"has_tf_adjustments\": false, \"tf_adjustment_column\": null, \"tf_adjustment_weight\": 1.0, \"is_null_level\": false, \"bayes_factor\": 66.18692252488148, \"log2_bayes_factor\": 6.048474286659015, \"comparison_vector_value\": 1, \"max_comparison_vector_value\": 2, \"bayes_factor_description\": \"If comparison level is `jaro_winkler_similarity >= 0.8333333333333334` then comparison is 66.19 times more likely to be a match\", \"probability_two_random_records_match\": 0.006781357319075399, \"comparison_sort_order\": 0, \"iteration\": 1}, {\"comparison_name\": \"last_name_12\", \"sql_condition\": \"ELSE\", \"label_for_charts\": \"All other comparisons\", \"m_probability\": 0.04421536630709422, \"u_probability\": 0.9979607330864222, \"m_probability_description\": \"Amongst matching record comparisons, 4.42% of records are in the all other comparisons comparison level\", \"u_probability_description\": \"Amongst non-matching record comparisons, 99.80% of records are in the all other comparisons comparison level\", \"has_tf_adjustments\": false, \"tf_adjustment_column\": null, \"tf_adjustment_weight\": 1.0, \"is_null_level\": false, \"bayes_factor\": 0.04430571749085564, \"log2_bayes_factor\": -4.496363304460451, \"comparison_vector_value\": 0, \"max_comparison_vector_value\": 2, \"bayes_factor_description\": \"If comparison level is `all other comparisons` then comparison is  22.57 times less likely to be a match\", \"probability_two_random_records_match\": 0.006781357319075399, \"comparison_sort_order\": 0, \"iteration\": 1}, {\"comparison_name\": \"middle_initial\", \"sql_condition\": \"\\\"middle_initial_l\\\" = \\\"middle_initial_r\\\"\", \"label_for_charts\": \"Exact match\", \"m_probability\": 0.9342511827643097, \"u_probability\": 0.07410500870140878, \"m_probability_description\": \"Amongst matching record comparisons, 93.43% of records are in the exact match comparison level\", \"u_probability_description\": \"Amongst non-matching record comparisons, 7.41% of records are in the exact match comparison level\", \"has_tf_adjustments\": false, \"tf_adjustment_column\": null, \"tf_adjustment_weight\": 1.0, \"is_null_level\": false, \"bayes_factor\": 12.60712601126176, \"log2_bayes_factor\": 3.6561675234583637, \"comparison_vector_value\": 1, \"max_comparison_vector_value\": 1, \"bayes_factor_description\": \"If comparison level is `exact match` then comparison is 12.61 times more likely to be a match\", \"probability_two_random_records_match\": 0.006781357319075399, \"comparison_sort_order\": 1, \"iteration\": 1}, {\"comparison_name\": \"middle_initial\", \"sql_condition\": \"ELSE\", \"label_for_charts\": \"All other comparisons\", \"m_probability\": 0.0657488172356903, \"u_probability\": 0.9258949912985912, \"m_probability_description\": \"Amongst matching record comparisons, 6.57% of records are in the all other comparisons comparison level\", \"u_probability_description\": \"Amongst non-matching record comparisons, 92.59% of records are in the all other comparisons comparison level\", \"has_tf_adjustments\": false, \"tf_adjustment_column\": null, \"tf_adjustment_weight\": 1.0, \"is_null_level\": false, \"bayes_factor\": 0.07101109505244857, \"log2_bayes_factor\": -3.815811735205293, \"comparison_vector_value\": 0, \"max_comparison_vector_value\": 1, \"bayes_factor_description\": \"If comparison level is `all other comparisons` then comparison is  14.08 times less likely to be a match\", \"probability_two_random_records_match\": 0.006781357319075399, \"comparison_sort_order\": 1, \"iteration\": 1}, {\"comparison_name\": \"day_of_birth\", \"sql_condition\": \"\\\"day_of_birth_l\\\" = \\\"day_of_birth_r\\\"\", \"label_for_charts\": \"Exact match\", \"m_probability\": 0.9571246247177058, \"u_probability\": 0.03243028785148898, \"m_probability_description\": \"Amongst matching record comparisons, 95.71% of records are in the exact match comparison level\", \"u_probability_description\": \"Amongst non-matching record comparisons, 3.24% of records are in the exact match comparison level\", \"has_tf_adjustments\": false, \"tf_adjustment_column\": null, \"tf_adjustment_weight\": 1.0, \"is_null_level\": false, \"bayes_factor\": 29.513294149615792, \"log2_bayes_factor\": 4.8832930521899955, \"comparison_vector_value\": 2, \"max_comparison_vector_value\": 2, \"bayes_factor_description\": \"If comparison level is `exact match` then comparison is 29.51 times more likely to be a match\", \"probability_two_random_records_match\": 0.006781357319075399, \"comparison_sort_order\": 2, \"iteration\": 1}, {\"comparison_name\": \"day_of_birth\", \"sql_condition\": \"abs(day_of_birth_l - day_of_birth_r) <= 5\", \"label_for_charts\": \"Inexact match\", \"m_probability\": 0.020691371020841693, \"u_probability\": 0.295173345919013, \"m_probability_description\": \"Amongst matching record comparisons, 2.07% of records are in the inexact match comparison level\", \"u_probability_description\": \"Amongst non-matching record comparisons, 29.52% of records are in the inexact match comparison level\", \"has_tf_adjustments\": false, \"tf_adjustment_column\": null, \"tf_adjustment_weight\": 1.0, \"is_null_level\": false, \"bayes_factor\": 0.07009904961581051, \"log2_bayes_factor\": -3.8344613050802194, \"comparison_vector_value\": 1, \"max_comparison_vector_value\": 2, \"bayes_factor_description\": \"If comparison level is `inexact match` then comparison is  14.27 times less likely to be a match\", \"probability_two_random_records_match\": 0.006781357319075399, \"comparison_sort_order\": 2, \"iteration\": 1}, {\"comparison_name\": \"day_of_birth\", \"sql_condition\": \"ELSE\", \"label_for_charts\": \"All other comparisons\", \"m_probability\": 0.022184004261452454, \"u_probability\": 0.672396366229498, \"m_probability_description\": \"Amongst matching record comparisons, 2.22% of records are in the all other comparisons comparison level\", \"u_probability_description\": \"Amongst non-matching record comparisons, 67.24% of records are in the all other comparisons comparison level\", \"has_tf_adjustments\": false, \"tf_adjustment_column\": null, \"tf_adjustment_weight\": 1.0, \"is_null_level\": false, \"bayes_factor\": 0.03299245114284385, \"log2_bayes_factor\": -4.9217202242313585, \"comparison_vector_value\": 0, \"max_comparison_vector_value\": 2, \"bayes_factor_description\": \"If comparison level is `all other comparisons` then comparison is  30.31 times less likely to be a match\", \"probability_two_random_records_match\": 0.006781357319075399, \"comparison_sort_order\": 2, \"iteration\": 1}, {\"comparison_name\": \"month_of_birth\", \"sql_condition\": \"\\\"month_of_birth_l\\\" = \\\"month_of_birth_r\\\"\", \"label_for_charts\": \"Exact match\", \"m_probability\": 0.9676598215987027, \"u_probability\": 0.08355145831969693, \"m_probability_description\": \"Amongst matching record comparisons, 96.77% of records are in the exact match comparison level\", \"u_probability_description\": \"Amongst non-matching record comparisons, 8.36% of records are in the exact match comparison level\", \"has_tf_adjustments\": false, \"tf_adjustment_column\": null, \"tf_adjustment_weight\": 1.0, \"is_null_level\": false, \"bayes_factor\": 11.581603015187357, \"log2_bayes_factor\": 3.533763046142453, \"comparison_vector_value\": 2, \"max_comparison_vector_value\": 2, \"bayes_factor_description\": \"If comparison level is `exact match` then comparison is 11.58 times more likely to be a match\", \"probability_two_random_records_match\": 0.006781357319075399, \"comparison_sort_order\": 3, \"iteration\": 1}, {\"comparison_name\": \"month_of_birth\", \"sql_condition\": \"abs(month_of_birth_l - month_of_birth_r) <= 3\", \"label_for_charts\": \"Inexact match\", \"m_probability\": 0.015893190607649047, \"u_probability\": 0.4143133397869391, \"m_probability_description\": \"Amongst matching record comparisons, 1.59% of records are in the inexact match comparison level\", \"u_probability_description\": \"Amongst non-matching record comparisons, 41.43% of records are in the inexact match comparison level\", \"has_tf_adjustments\": false, \"tf_adjustment_column\": null, \"tf_adjustment_weight\": 1.0, \"is_null_level\": false, \"bayes_factor\": 0.038360315928572634, \"log2_bayes_factor\": -4.704241587596258, \"comparison_vector_value\": 1, \"max_comparison_vector_value\": 2, \"bayes_factor_description\": \"If comparison level is `inexact match` then comparison is  26.07 times less likely to be a match\", \"probability_two_random_records_match\": 0.006781357319075399, \"comparison_sort_order\": 3, \"iteration\": 1}, {\"comparison_name\": \"month_of_birth\", \"sql_condition\": \"ELSE\", \"label_for_charts\": \"All other comparisons\", \"m_probability\": 0.01644698779364827, \"u_probability\": 0.5021352018933639, \"m_probability_description\": \"Amongst matching record comparisons, 1.64% of records are in the all other comparisons comparison level\", \"u_probability_description\": \"Amongst non-matching record comparisons, 50.21% of records are in the all other comparisons comparison level\", \"has_tf_adjustments\": false, \"tf_adjustment_column\": null, \"tf_adjustment_weight\": 1.0, \"is_null_level\": false, \"bayes_factor\": 0.03275410234461323, \"log2_bayes_factor\": -4.932180578954198, \"comparison_vector_value\": 0, \"max_comparison_vector_value\": 2, \"bayes_factor_description\": \"If comparison level is `all other comparisons` then comparison is  30.53 times less likely to be a match\", \"probability_two_random_records_match\": 0.006781357319075399, \"comparison_sort_order\": 3, \"iteration\": 1}, {\"comparison_name\": \"year_of_birth\", \"sql_condition\": \"\\\"year_of_birth_l\\\" = \\\"year_of_birth_r\\\"\", \"label_for_charts\": \"Exact match\", \"m_probability\": 0.9537535492657688, \"u_probability\": 0.011125465216557518, \"m_probability_description\": \"Amongst matching record comparisons, 95.38% of records are in the exact match comparison level\", \"u_probability_description\": \"Amongst non-matching record comparisons, 1.11% of records are in the exact match comparison level\", \"has_tf_adjustments\": false, \"tf_adjustment_column\": null, \"tf_adjustment_weight\": 1.0, \"is_null_level\": false, \"bayes_factor\": 85.72707124609417, \"log2_bayes_factor\": 6.421678951328758, \"comparison_vector_value\": 2, \"max_comparison_vector_value\": 2, \"bayes_factor_description\": \"If comparison level is `exact match` then comparison is 85.73 times more likely to be a match\", \"probability_two_random_records_match\": 0.006781357319075399, \"comparison_sort_order\": 4, \"iteration\": 1}, {\"comparison_name\": \"year_of_birth\", \"sql_condition\": \"abs(year_of_birth_l - year_of_birth_r) <= 5\", \"label_for_charts\": \"Inexact match\", \"m_probability\": 0.014585526175533929, \"u_probability\": 0.11053660239472413, \"m_probability_description\": \"Amongst matching record comparisons, 1.46% of records are in the inexact match comparison level\", \"u_probability_description\": \"Amongst non-matching record comparisons, 11.05% of records are in the inexact match comparison level\", \"has_tf_adjustments\": false, \"tf_adjustment_column\": null, \"tf_adjustment_weight\": 1.0, \"is_null_level\": false, \"bayes_factor\": 0.13195200376658303, \"log2_bayes_factor\": -2.9219148359081912, \"comparison_vector_value\": 1, \"max_comparison_vector_value\": 2, \"bayes_factor_description\": \"If comparison level is `inexact match` then comparison is  7.58 times less likely to be a match\", \"probability_two_random_records_match\": 0.006781357319075399, \"comparison_sort_order\": 4, \"iteration\": 1}, {\"comparison_name\": \"year_of_birth\", \"sql_condition\": \"ELSE\", \"label_for_charts\": \"All other comparisons\", \"m_probability\": 0.03166092455869718, \"u_probability\": 0.8783379323887184, \"m_probability_description\": \"Amongst matching record comparisons, 3.17% of records are in the all other comparisons comparison level\", \"u_probability_description\": \"Amongst non-matching record comparisons, 87.83% of records are in the all other comparisons comparison level\", \"has_tf_adjustments\": false, \"tf_adjustment_column\": null, \"tf_adjustment_weight\": 1.0, \"is_null_level\": false, \"bayes_factor\": 0.03604640468229861, \"log2_bayes_factor\": -4.794000819509354, \"comparison_vector_value\": 0, \"max_comparison_vector_value\": 2, \"bayes_factor_description\": \"If comparison level is `all other comparisons` then comparison is  27.74 times less likely to be a match\", \"probability_two_random_records_match\": 0.006781357319075399, \"comparison_sort_order\": 4, \"iteration\": 1}, {\"comparison_name\": \"street_number\", \"sql_condition\": \"\\\"street_number_l\\\" = \\\"street_number_r\\\"\", \"label_for_charts\": \"Exact match\", \"m_probability\": 0.7820941107721194, \"u_probability\": 0.004643745865751094, \"m_probability_description\": \"Amongst matching record comparisons, 78.21% of records are in the exact match comparison level\", \"u_probability_description\": \"Amongst non-matching record comparisons, 0.46% of records are in the exact match comparison level\", \"has_tf_adjustments\": false, \"tf_adjustment_column\": null, \"tf_adjustment_weight\": 1.0, \"is_null_level\": false, \"bayes_factor\": 168.41880098139717, \"log2_bayes_factor\": 7.3959093885626865, \"comparison_vector_value\": 2, \"max_comparison_vector_value\": 2, \"bayes_factor_description\": \"If comparison level is `exact match` then comparison is 168.42 times more likely to be a match\", \"probability_two_random_records_match\": 0.006781357319075399, \"comparison_sort_order\": 5, \"iteration\": 1}, {\"comparison_name\": \"street_number\", \"sql_condition\": \"jaro_winkler_similarity(\\\"street_number_l\\\", \\\"street_number_r\\\") >= 0.8333333333333334\", \"label_for_charts\": \"Jaro_winkler_similarity >= 0.8333333333333334\", \"m_probability\": 0.06662099329253472, \"u_probability\": 0.012708549889228378, \"m_probability_description\": \"Amongst matching record comparisons, 6.66% of records are in the jaro_winkler_similarity >= 0.8333333333333334 comparison level\", \"u_probability_description\": \"Amongst non-matching record comparisons, 1.27% of records are in the jaro_winkler_similarity >= 0.8333333333333334 comparison level\", \"has_tf_adjustments\": false, \"tf_adjustment_column\": null, \"tf_adjustment_weight\": 1.0, \"is_null_level\": false, \"bayes_factor\": 5.242218339088547, \"log2_bayes_factor\": 2.3901774433573566, \"comparison_vector_value\": 1, \"max_comparison_vector_value\": 2, \"bayes_factor_description\": \"If comparison level is `jaro_winkler_similarity >= 0.8333333333333334` then comparison is 5.24 times more likely to be a match\", \"probability_two_random_records_match\": 0.006781357319075399, \"comparison_sort_order\": 5, \"iteration\": 1}, {\"comparison_name\": \"street_number\", \"sql_condition\": \"ELSE\", \"label_for_charts\": \"All other comparisons\", \"m_probability\": 0.15128489593534586, \"u_probability\": 0.9826477042450206, \"m_probability_description\": \"Amongst matching record comparisons, 15.13% of records are in the all other comparisons comparison level\", \"u_probability_description\": \"Amongst non-matching record comparisons, 98.26% of records are in the all other comparisons comparison level\", \"has_tf_adjustments\": false, \"tf_adjustment_column\": null, \"tf_adjustment_weight\": 1.0, \"is_null_level\": false, \"bayes_factor\": 0.15395639279652087, \"log2_bayes_factor\": -2.6994063206234813, \"comparison_vector_value\": 0, \"max_comparison_vector_value\": 2, \"bayes_factor_description\": \"If comparison level is `all other comparisons` then comparison is  6.50 times less likely to be a match\", \"probability_two_random_records_match\": 0.006781357319075399, \"comparison_sort_order\": 5, \"iteration\": 1}, {\"comparison_name\": \"street_name\", \"sql_condition\": \"\\\"street_name_l\\\" = \\\"street_name_r\\\"\", \"label_for_charts\": \"Exact match\", \"m_probability\": 0.7691554150343805, \"u_probability\": 0.0036909475444507293, \"m_probability_description\": \"Amongst matching record comparisons, 76.92% of records are in the exact match comparison level\", \"u_probability_description\": \"Amongst non-matching record comparisons, 0.37% of records are in the exact match comparison level\", \"has_tf_adjustments\": false, \"tf_adjustment_column\": null, \"tf_adjustment_weight\": 1.0, \"is_null_level\": false, \"bayes_factor\": 208.38969011921918, \"log2_bayes_factor\": 7.703140093198212, \"comparison_vector_value\": 2, \"max_comparison_vector_value\": 2, \"bayes_factor_description\": \"If comparison level is `exact match` then comparison is 208.39 times more likely to be a match\", \"probability_two_random_records_match\": 0.006781357319075399, \"comparison_sort_order\": 6, \"iteration\": 1}, {\"comparison_name\": \"street_name\", \"sql_condition\": \"jaro_winkler_similarity(\\\"street_name_l\\\", \\\"street_name_r\\\") >= 0.8333333333333334\", \"label_for_charts\": \"Jaro_winkler_similarity >= 0.8333333333333334\", \"m_probability\": 0.10803602756026907, \"u_probability\": 0.0018843912156014068, \"m_probability_description\": \"Amongst matching record comparisons, 10.80% of records are in the jaro_winkler_similarity >= 0.8333333333333334 comparison level\", \"u_probability_description\": \"Amongst non-matching record comparisons, 0.19% of records are in the jaro_winkler_similarity >= 0.8333333333333334 comparison level\", \"has_tf_adjustments\": false, \"tf_adjustment_column\": null, \"tf_adjustment_weight\": 1.0, \"is_null_level\": false, \"bayes_factor\": 57.332058579878904, \"log2_bayes_factor\": 5.841270176639096, \"comparison_vector_value\": 1, \"max_comparison_vector_value\": 2, \"bayes_factor_description\": \"If comparison level is `jaro_winkler_similarity >= 0.8333333333333334` then comparison is 57.33 times more likely to be a match\", \"probability_two_random_records_match\": 0.006781357319075399, \"comparison_sort_order\": 6, \"iteration\": 1}, {\"comparison_name\": \"street_name\", \"sql_condition\": \"ELSE\", \"label_for_charts\": \"All other comparisons\", \"m_probability\": 0.12280855740535061, \"u_probability\": 0.9944246612399479, \"m_probability_description\": \"Amongst matching record comparisons, 12.28% of records are in the all other comparisons comparison level\", \"u_probability_description\": \"Amongst non-matching record comparisons, 99.44% of records are in the all other comparisons comparison level\", \"has_tf_adjustments\": false, \"tf_adjustment_column\": null, \"tf_adjustment_weight\": 1.0, \"is_null_level\": false, \"bayes_factor\": 0.12349709554891836, \"log2_bayes_factor\": -3.0174509825223113, \"comparison_vector_value\": 0, \"max_comparison_vector_value\": 2, \"bayes_factor_description\": \"If comparison level is `all other comparisons` then comparison is  8.10 times less likely to be a match\", \"probability_two_random_records_match\": 0.006781357319075399, \"comparison_sort_order\": 6, \"iteration\": 1}, {\"comparison_name\": \"unit_number\", \"sql_condition\": \"\\\"unit_number_l\\\" = \\\"unit_number_r\\\"\", \"label_for_charts\": \"Exact match\", \"m_probability\": 0.9106281801656128, \"u_probability\": 0.005427064313248123, \"m_probability_description\": \"Amongst matching record comparisons, 91.06% of records are in the exact match comparison level\", \"u_probability_description\": \"Amongst non-matching record comparisons, 0.54% of records are in the exact match comparison level\", \"has_tf_adjustments\": false, \"tf_adjustment_column\": null, \"tf_adjustment_weight\": 1.0, \"is_null_level\": false, \"bayes_factor\": 167.793880375189, \"log2_bayes_factor\": 7.390546289859004, \"comparison_vector_value\": 2, \"max_comparison_vector_value\": 2, \"bayes_factor_description\": \"If comparison level is `exact match` then comparison is 167.79 times more likely to be a match\", \"probability_two_random_records_match\": 0.006781357319075399, \"comparison_sort_order\": 7, \"iteration\": 1}, {\"comparison_name\": \"unit_number\", \"sql_condition\": \"jaro_winkler_similarity(\\\"unit_number_l\\\", \\\"unit_number_r\\\") >= 0.8333333333333334\", \"label_for_charts\": \"Jaro_winkler_similarity >= 0.8333333333333334\", \"m_probability\": 0.08419655236919933, \"u_probability\": 0.08399269628727937, \"m_probability_description\": \"Amongst matching record comparisons, 8.42% of records are in the jaro_winkler_similarity >= 0.8333333333333334 comparison level\", \"u_probability_description\": \"Amongst non-matching record comparisons, 8.40% of records are in the jaro_winkler_similarity >= 0.8333333333333334 comparison level\", \"has_tf_adjustments\": false, \"tf_adjustment_column\": null, \"tf_adjustment_weight\": 1.0, \"is_null_level\": false, \"bayes_factor\": 1.0024270691492354, \"log2_bayes_factor\": 0.003497278272090565, \"comparison_vector_value\": 1, \"max_comparison_vector_value\": 2, \"bayes_factor_description\": \"If comparison level is `jaro_winkler_similarity >= 0.8333333333333334` then comparison is 1.00 times more likely to be a match\", \"probability_two_random_records_match\": 0.006781357319075399, \"comparison_sort_order\": 7, \"iteration\": 1}, {\"comparison_name\": \"unit_number\", \"sql_condition\": \"ELSE\", \"label_for_charts\": \"All other comparisons\", \"m_probability\": 0.005175267465187899, \"u_probability\": 0.9105802393994725, \"m_probability_description\": \"Amongst matching record comparisons, 0.52% of records are in the all other comparisons comparison level\", \"u_probability_description\": \"Amongst non-matching record comparisons, 91.06% of records are in the all other comparisons comparison level\", \"has_tf_adjustments\": false, \"tf_adjustment_column\": null, \"tf_adjustment_weight\": 1.0, \"is_null_level\": false, \"bayes_factor\": 0.005683483169589741, \"log2_bayes_factor\": -7.459008916318356, \"comparison_vector_value\": 0, \"max_comparison_vector_value\": 2, \"bayes_factor_description\": \"If comparison level is `all other comparisons` then comparison is  175.95 times less likely to be a match\", \"probability_two_random_records_match\": 0.006781357319075399, \"comparison_sort_order\": 7, \"iteration\": 1}, {\"comparison_name\": \"zipcode\", \"sql_condition\": \"\\\"zipcode_l\\\" = \\\"zipcode_r\\\"\", \"label_for_charts\": \"Exact match\", \"m_probability\": 0.9339361750948941, \"u_probability\": 0.9441587509332844, \"m_probability_description\": \"Amongst matching record comparisons, 93.39% of records are in the exact match comparison level\", \"u_probability_description\": \"Amongst non-matching record comparisons, 94.42% of records are in the exact match comparison level\", \"has_tf_adjustments\": false, \"tf_adjustment_column\": null, \"tf_adjustment_weight\": 1.0, \"is_null_level\": false, \"bayes_factor\": 0.9891728209601559, \"log2_bayes_factor\": -0.01570549487310471, \"comparison_vector_value\": 2, \"max_comparison_vector_value\": 2, \"bayes_factor_description\": \"If comparison level is `exact match` then comparison is  1.01 times less likely to be a match\", \"probability_two_random_records_match\": 0.006781357319075399, \"comparison_sort_order\": 8, \"iteration\": 1}, {\"comparison_name\": \"zipcode\", \"sql_condition\": \"jaro_winkler_similarity(\\\"zipcode_l\\\", \\\"zipcode_r\\\") >= 0.8333333333333334\", \"label_for_charts\": \"Jaro_winkler_similarity >= 0.8333333333333334\", \"m_probability\": 0.04794058850394146, \"u_probability\": 0.041136656606251085, \"m_probability_description\": \"Amongst matching record comparisons, 4.79% of records are in the jaro_winkler_similarity >= 0.8333333333333334 comparison level\", \"u_probability_description\": \"Amongst non-matching record comparisons, 4.11% of records are in the jaro_winkler_similarity >= 0.8333333333333334 comparison level\", \"has_tf_adjustments\": false, \"tf_adjustment_column\": null, \"tf_adjustment_weight\": 1.0, \"is_null_level\": false, \"bayes_factor\": 1.165398271493373, \"log2_bayes_factor\": 0.22082307600914053, \"comparison_vector_value\": 1, \"max_comparison_vector_value\": 2, \"bayes_factor_description\": \"If comparison level is `jaro_winkler_similarity >= 0.8333333333333334` then comparison is 1.17 times more likely to be a match\", \"probability_two_random_records_match\": 0.006781357319075399, \"comparison_sort_order\": 8, \"iteration\": 1}, {\"comparison_name\": \"zipcode\", \"sql_condition\": \"ELSE\", \"label_for_charts\": \"All other comparisons\", \"m_probability\": 0.01812323640116437, \"u_probability\": 0.014704592460464516, \"m_probability_description\": \"Amongst matching record comparisons, 1.81% of records are in the all other comparisons comparison level\", \"u_probability_description\": \"Amongst non-matching record comparisons, 1.47% of records are in the all other comparisons comparison level\", \"has_tf_adjustments\": false, \"tf_adjustment_column\": null, \"tf_adjustment_weight\": 1.0, \"is_null_level\": false, \"bayes_factor\": 1.2324881801308936, \"log2_bayes_factor\": 0.3015738108641911, \"comparison_vector_value\": 0, \"max_comparison_vector_value\": 2, \"bayes_factor_description\": \"If comparison level is `all other comparisons` then comparison is 1.23 times more likely to be a match\", \"probability_two_random_records_match\": 0.006781357319075399, \"comparison_sort_order\": 8, \"iteration\": 1}, {\"comparison_name\": \"last_name_12\", \"sql_condition\": \"\\\"last_name_12_l\\\" = \\\"last_name_12_r\\\"\", \"label_for_charts\": \"Exact match\", \"m_probability\": 0.8619754583189742, \"u_probability\": 0.0007093232453578939, \"m_probability_description\": \"Amongst matching record comparisons, 86.20% of records are in the exact match comparison level\", \"u_probability_description\": \"Amongst non-matching record comparisons, 0.07% of records are in the exact match comparison level\", \"has_tf_adjustments\": false, \"tf_adjustment_column\": null, \"tf_adjustment_weight\": 1.0, \"is_null_level\": false, \"bayes_factor\": 1215.208248087314, \"log2_bayes_factor\": 10.246987851775915, \"comparison_vector_value\": 2, \"max_comparison_vector_value\": 2, \"bayes_factor_description\": \"If comparison level is `exact match` then comparison is 1,215.21 times more likely to be a match\", \"probability_two_random_records_match\": 0.006781357319075399, \"comparison_sort_order\": 0, \"iteration\": 2}, {\"comparison_name\": \"last_name_12\", \"sql_condition\": \"jaro_winkler_similarity(\\\"last_name_12_l\\\", \\\"last_name_12_r\\\") >= 0.8333333333333334\", \"label_for_charts\": \"Jaro_winkler_similarity >= 0.8333333333333334\", \"m_probability\": 0.08871593424102356, \"u_probability\": 0.001329943668219914, \"m_probability_description\": \"Amongst matching record comparisons, 8.87% of records are in the jaro_winkler_similarity >= 0.8333333333333334 comparison level\", \"u_probability_description\": \"Amongst non-matching record comparisons, 0.13% of records are in the jaro_winkler_similarity >= 0.8333333333333334 comparison level\", \"has_tf_adjustments\": false, \"tf_adjustment_column\": null, \"tf_adjustment_weight\": 1.0, \"is_null_level\": false, \"bayes_factor\": 66.70653529240597, \"log2_bayes_factor\": 6.0597562052038825, \"comparison_vector_value\": 1, \"max_comparison_vector_value\": 2, \"bayes_factor_description\": \"If comparison level is `jaro_winkler_similarity >= 0.8333333333333334` then comparison is 66.71 times more likely to be a match\", \"probability_two_random_records_match\": 0.006781357319075399, \"comparison_sort_order\": 0, \"iteration\": 2}, {\"comparison_name\": \"last_name_12\", \"sql_condition\": \"ELSE\", \"label_for_charts\": \"All other comparisons\", \"m_probability\": 0.04930860744000221, \"u_probability\": 0.9979607330864222, \"m_probability_description\": \"Amongst matching record comparisons, 4.93% of records are in the all other comparisons comparison level\", \"u_probability_description\": \"Amongst non-matching record comparisons, 99.80% of records are in the all other comparisons comparison level\", \"has_tf_adjustments\": false, \"tf_adjustment_column\": null, \"tf_adjustment_weight\": 1.0, \"is_null_level\": false, \"bayes_factor\": 0.049409366325971614, \"log2_bayes_factor\": -4.339071636402589, \"comparison_vector_value\": 0, \"max_comparison_vector_value\": 2, \"bayes_factor_description\": \"If comparison level is `all other comparisons` then comparison is  20.24 times less likely to be a match\", \"probability_two_random_records_match\": 0.006781357319075399, \"comparison_sort_order\": 0, \"iteration\": 2}, {\"comparison_name\": \"middle_initial\", \"sql_condition\": \"\\\"middle_initial_l\\\" = \\\"middle_initial_r\\\"\", \"label_for_charts\": \"Exact match\", \"m_probability\": 0.9315828661427982, \"u_probability\": 0.07410500870140878, \"m_probability_description\": \"Amongst matching record comparisons, 93.16% of records are in the exact match comparison level\", \"u_probability_description\": \"Amongst non-matching record comparisons, 7.41% of records are in the exact match comparison level\", \"has_tf_adjustments\": false, \"tf_adjustment_column\": null, \"tf_adjustment_weight\": 1.0, \"is_null_level\": false, \"bayes_factor\": 12.571118774122596, \"log2_bayes_factor\": 3.652041143854594, \"comparison_vector_value\": 1, \"max_comparison_vector_value\": 1, \"bayes_factor_description\": \"If comparison level is `exact match` then comparison is 12.57 times more likely to be a match\", \"probability_two_random_records_match\": 0.006781357319075399, \"comparison_sort_order\": 1, \"iteration\": 2}, {\"comparison_name\": \"middle_initial\", \"sql_condition\": \"ELSE\", \"label_for_charts\": \"All other comparisons\", \"m_probability\": 0.06841713385720188, \"u_probability\": 0.9258949912985912, \"m_probability_description\": \"Amongst matching record comparisons, 6.84% of records are in the all other comparisons comparison level\", \"u_probability_description\": \"Amongst non-matching record comparisons, 92.59% of records are in the all other comparisons comparison level\", \"has_tf_adjustments\": false, \"tf_adjustment_column\": null, \"tf_adjustment_weight\": 1.0, \"is_null_level\": false, \"bayes_factor\": 0.07389297328549657, \"log2_bayes_factor\": -3.758419009275442, \"comparison_vector_value\": 0, \"max_comparison_vector_value\": 1, \"bayes_factor_description\": \"If comparison level is `all other comparisons` then comparison is  13.53 times less likely to be a match\", \"probability_two_random_records_match\": 0.006781357319075399, \"comparison_sort_order\": 1, \"iteration\": 2}, {\"comparison_name\": \"day_of_birth\", \"sql_condition\": \"\\\"day_of_birth_l\\\" = \\\"day_of_birth_r\\\"\", \"label_for_charts\": \"Exact match\", \"m_probability\": 0.9564355326448317, \"u_probability\": 0.03243028785148898, \"m_probability_description\": \"Amongst matching record comparisons, 95.64% of records are in the exact match comparison level\", \"u_probability_description\": \"Amongst non-matching record comparisons, 3.24% of records are in the exact match comparison level\", \"has_tf_adjustments\": false, \"tf_adjustment_column\": null, \"tf_adjustment_weight\": 1.0, \"is_null_level\": false, \"bayes_factor\": 29.4920457389933, \"log2_bayes_factor\": 4.882253994436415, \"comparison_vector_value\": 2, \"max_comparison_vector_value\": 2, \"bayes_factor_description\": \"If comparison level is `exact match` then comparison is 29.49 times more likely to be a match\", \"probability_two_random_records_match\": 0.006781357319075399, \"comparison_sort_order\": 2, \"iteration\": 2}, {\"comparison_name\": \"day_of_birth\", \"sql_condition\": \"abs(day_of_birth_l - day_of_birth_r) <= 5\", \"label_for_charts\": \"Inexact match\", \"m_probability\": 0.020966543980935743, \"u_probability\": 0.295173345919013, \"m_probability_description\": \"Amongst matching record comparisons, 2.10% of records are in the inexact match comparison level\", \"u_probability_description\": \"Amongst non-matching record comparisons, 29.52% of records are in the inexact match comparison level\", \"has_tf_adjustments\": false, \"tf_adjustment_column\": null, \"tf_adjustment_weight\": 1.0, \"is_null_level\": false, \"bayes_factor\": 0.07103129151332097, \"log2_bayes_factor\": -3.8154014726795085, \"comparison_vector_value\": 1, \"max_comparison_vector_value\": 2, \"bayes_factor_description\": \"If comparison level is `inexact match` then comparison is  14.08 times less likely to be a match\", \"probability_two_random_records_match\": 0.006781357319075399, \"comparison_sort_order\": 2, \"iteration\": 2}, {\"comparison_name\": \"day_of_birth\", \"sql_condition\": \"ELSE\", \"label_for_charts\": \"All other comparisons\", \"m_probability\": 0.022597923374232536, \"u_probability\": 0.672396366229498, \"m_probability_description\": \"Amongst matching record comparisons, 2.26% of records are in the all other comparisons comparison level\", \"u_probability_description\": \"Amongst non-matching record comparisons, 67.24% of records are in the all other comparisons comparison level\", \"has_tf_adjustments\": false, \"tf_adjustment_column\": null, \"tf_adjustment_weight\": 1.0, \"is_null_level\": false, \"bayes_factor\": 0.03360803911084724, \"log2_bayes_factor\": -4.895049819922145, \"comparison_vector_value\": 0, \"max_comparison_vector_value\": 2, \"bayes_factor_description\": \"If comparison level is `all other comparisons` then comparison is  29.75 times less likely to be a match\", \"probability_two_random_records_match\": 0.006781357319075399, \"comparison_sort_order\": 2, \"iteration\": 2}, {\"comparison_name\": \"month_of_birth\", \"sql_condition\": \"\\\"month_of_birth_l\\\" = \\\"month_of_birth_r\\\"\", \"label_for_charts\": \"Exact match\", \"m_probability\": 0.9678753374769761, \"u_probability\": 0.08355145831969693, \"m_probability_description\": \"Amongst matching record comparisons, 96.79% of records are in the exact match comparison level\", \"u_probability_description\": \"Amongst non-matching record comparisons, 8.36% of records are in the exact match comparison level\", \"has_tf_adjustments\": false, \"tf_adjustment_column\": null, \"tf_adjustment_weight\": 1.0, \"is_null_level\": false, \"bayes_factor\": 11.584182454045846, \"log2_bayes_factor\": 3.5340843254420253, \"comparison_vector_value\": 2, \"max_comparison_vector_value\": 2, \"bayes_factor_description\": \"If comparison level is `exact match` then comparison is 11.58 times more likely to be a match\", \"probability_two_random_records_match\": 0.006781357319075399, \"comparison_sort_order\": 3, \"iteration\": 2}, {\"comparison_name\": \"month_of_birth\", \"sql_condition\": \"abs(month_of_birth_l - month_of_birth_r) <= 3\", \"label_for_charts\": \"Inexact match\", \"m_probability\": 0.015928229968678546, \"u_probability\": 0.4143133397869391, \"m_probability_description\": \"Amongst matching record comparisons, 1.59% of records are in the inexact match comparison level\", \"u_probability_description\": \"Amongst non-matching record comparisons, 41.43% of records are in the inexact match comparison level\", \"has_tf_adjustments\": false, \"tf_adjustment_column\": null, \"tf_adjustment_weight\": 1.0, \"is_null_level\": false, \"bayes_factor\": 0.03844488805711553, \"log2_bayes_factor\": -4.701064411222086, \"comparison_vector_value\": 1, \"max_comparison_vector_value\": 2, \"bayes_factor_description\": \"If comparison level is `inexact match` then comparison is  26.01 times less likely to be a match\", \"probability_two_random_records_match\": 0.006781357319075399, \"comparison_sort_order\": 3, \"iteration\": 2}, {\"comparison_name\": \"month_of_birth\", \"sql_condition\": \"ELSE\", \"label_for_charts\": \"All other comparisons\", \"m_probability\": 0.016196432554345348, \"u_probability\": 0.5021352018933639, \"m_probability_description\": \"Amongst matching record comparisons, 1.62% of records are in the all other comparisons comparison level\", \"u_probability_description\": \"Amongst non-matching record comparisons, 50.21% of records are in the all other comparisons comparison level\", \"has_tf_adjustments\": false, \"tf_adjustment_column\": null, \"tf_adjustment_weight\": 1.0, \"is_null_level\": false, \"bayes_factor\": 0.032255122710526295, \"log2_bayes_factor\": -4.954327884365459, \"comparison_vector_value\": 0, \"max_comparison_vector_value\": 2, \"bayes_factor_description\": \"If comparison level is `all other comparisons` then comparison is  31.00 times less likely to be a match\", \"probability_two_random_records_match\": 0.006781357319075399, \"comparison_sort_order\": 3, \"iteration\": 2}, {\"comparison_name\": \"year_of_birth\", \"sql_condition\": \"\\\"year_of_birth_l\\\" = \\\"year_of_birth_r\\\"\", \"label_for_charts\": \"Exact match\", \"m_probability\": 0.9527506752232905, \"u_probability\": 0.011125465216557518, \"m_probability_description\": \"Amongst matching record comparisons, 95.28% of records are in the exact match comparison level\", \"u_probability_description\": \"Amongst non-matching record comparisons, 1.11% of records are in the exact match comparison level\", \"has_tf_adjustments\": false, \"tf_adjustment_column\": null, \"tf_adjustment_weight\": 1.0, \"is_null_level\": false, \"bayes_factor\": 85.63692903424439, \"log2_bayes_factor\": 6.420161156064961, \"comparison_vector_value\": 2, \"max_comparison_vector_value\": 2, \"bayes_factor_description\": \"If comparison level is `exact match` then comparison is 85.64 times more likely to be a match\", \"probability_two_random_records_match\": 0.006781357319075399, \"comparison_sort_order\": 4, \"iteration\": 2}, {\"comparison_name\": \"year_of_birth\", \"sql_condition\": \"abs(year_of_birth_l - year_of_birth_r) <= 5\", \"label_for_charts\": \"Inexact match\", \"m_probability\": 0.014585622987725607, \"u_probability\": 0.11053660239472413, \"m_probability_description\": \"Amongst matching record comparisons, 1.46% of records are in the inexact match comparison level\", \"u_probability_description\": \"Amongst non-matching record comparisons, 11.05% of records are in the inexact match comparison level\", \"has_tf_adjustments\": false, \"tf_adjustment_column\": null, \"tf_adjustment_weight\": 1.0, \"is_null_level\": false, \"bayes_factor\": 0.13195287960489885, \"log2_bayes_factor\": -2.9219052599762967, \"comparison_vector_value\": 1, \"max_comparison_vector_value\": 2, \"bayes_factor_description\": \"If comparison level is `inexact match` then comparison is  7.58 times less likely to be a match\", \"probability_two_random_records_match\": 0.006781357319075399, \"comparison_sort_order\": 4, \"iteration\": 2}, {\"comparison_name\": \"year_of_birth\", \"sql_condition\": \"ELSE\", \"label_for_charts\": \"All other comparisons\", \"m_probability\": 0.03266370178898386, \"u_probability\": 0.8783379323887184, \"m_probability_description\": \"Amongst matching record comparisons, 3.27% of records are in the all other comparisons comparison level\", \"u_probability_description\": \"Amongst non-matching record comparisons, 87.83% of records are in the all other comparisons comparison level\", \"has_tf_adjustments\": false, \"tf_adjustment_column\": null, \"tf_adjustment_weight\": 1.0, \"is_null_level\": false, \"bayes_factor\": 0.03718808056046493, \"log2_bayes_factor\": -4.74901590370602, \"comparison_vector_value\": 0, \"max_comparison_vector_value\": 2, \"bayes_factor_description\": \"If comparison level is `all other comparisons` then comparison is  26.89 times less likely to be a match\", \"probability_two_random_records_match\": 0.006781357319075399, \"comparison_sort_order\": 4, \"iteration\": 2}, {\"comparison_name\": \"street_number\", \"sql_condition\": \"\\\"street_number_l\\\" = \\\"street_number_r\\\"\", \"label_for_charts\": \"Exact match\", \"m_probability\": 0.768806487936834, \"u_probability\": 0.004643745865751094, \"m_probability_description\": \"Amongst matching record comparisons, 76.88% of records are in the exact match comparison level\", \"u_probability_description\": \"Amongst non-matching record comparisons, 0.46% of records are in the exact match comparison level\", \"has_tf_adjustments\": false, \"tf_adjustment_column\": null, \"tf_adjustment_weight\": 1.0, \"is_null_level\": false, \"bayes_factor\": 165.55739916927706, \"log2_bayes_factor\": 7.371187679556926, \"comparison_vector_value\": 2, \"max_comparison_vector_value\": 2, \"bayes_factor_description\": \"If comparison level is `exact match` then comparison is 165.56 times more likely to be a match\", \"probability_two_random_records_match\": 0.006781357319075399, \"comparison_sort_order\": 5, \"iteration\": 2}, {\"comparison_name\": \"street_number\", \"sql_condition\": \"jaro_winkler_similarity(\\\"street_number_l\\\", \\\"street_number_r\\\") >= 0.8333333333333334\", \"label_for_charts\": \"Jaro_winkler_similarity >= 0.8333333333333334\", \"m_probability\": 0.06576308953210272, \"u_probability\": 0.012708549889228378, \"m_probability_description\": \"Amongst matching record comparisons, 6.58% of records are in the jaro_winkler_similarity >= 0.8333333333333334 comparison level\", \"u_probability_description\": \"Amongst non-matching record comparisons, 1.27% of records are in the jaro_winkler_similarity >= 0.8333333333333334 comparison level\", \"has_tf_adjustments\": false, \"tf_adjustment_column\": null, \"tf_adjustment_weight\": 1.0, \"is_null_level\": false, \"bayes_factor\": 5.174712308273878, \"log2_bayes_factor\": 2.37147865720831, \"comparison_vector_value\": 1, \"max_comparison_vector_value\": 2, \"bayes_factor_description\": \"If comparison level is `jaro_winkler_similarity >= 0.8333333333333334` then comparison is 5.17 times more likely to be a match\", \"probability_two_random_records_match\": 0.006781357319075399, \"comparison_sort_order\": 5, \"iteration\": 2}, {\"comparison_name\": \"street_number\", \"sql_condition\": \"ELSE\", \"label_for_charts\": \"All other comparisons\", \"m_probability\": 0.16543042253106327, \"u_probability\": 0.9826477042450206, \"m_probability_description\": \"Amongst matching record comparisons, 16.54% of records are in the all other comparisons comparison level\", \"u_probability_description\": \"Amongst non-matching record comparisons, 98.26% of records are in the all other comparisons comparison level\", \"has_tf_adjustments\": false, \"tf_adjustment_column\": null, \"tf_adjustment_weight\": 1.0, \"is_null_level\": false, \"bayes_factor\": 0.16835171121492148, \"log2_bayes_factor\": -2.570449709339658, \"comparison_vector_value\": 0, \"max_comparison_vector_value\": 2, \"bayes_factor_description\": \"If comparison level is `all other comparisons` then comparison is  5.94 times less likely to be a match\", \"probability_two_random_records_match\": 0.006781357319075399, \"comparison_sort_order\": 5, \"iteration\": 2}, {\"comparison_name\": \"street_name\", \"sql_condition\": \"\\\"street_name_l\\\" = \\\"street_name_r\\\"\", \"label_for_charts\": \"Exact match\", \"m_probability\": 0.7559080782987811, \"u_probability\": 0.0036909475444507293, \"m_probability_description\": \"Amongst matching record comparisons, 75.59% of records are in the exact match comparison level\", \"u_probability_description\": \"Amongst non-matching record comparisons, 0.37% of records are in the exact match comparison level\", \"has_tf_adjustments\": false, \"tf_adjustment_column\": null, \"tf_adjustment_weight\": 1.0, \"is_null_level\": false, \"bayes_factor\": 204.80054760877726, \"log2_bayes_factor\": 7.678075762687887, \"comparison_vector_value\": 2, \"max_comparison_vector_value\": 2, \"bayes_factor_description\": \"If comparison level is `exact match` then comparison is 204.80 times more likely to be a match\", \"probability_two_random_records_match\": 0.006781357319075399, \"comparison_sort_order\": 6, \"iteration\": 2}, {\"comparison_name\": \"street_name\", \"sql_condition\": \"jaro_winkler_similarity(\\\"street_name_l\\\", \\\"street_name_r\\\") >= 0.8333333333333334\", \"label_for_charts\": \"Jaro_winkler_similarity >= 0.8333333333333334\", \"m_probability\": 0.10700382767695484, \"u_probability\": 0.0018843912156014068, \"m_probability_description\": \"Amongst matching record comparisons, 10.70% of records are in the jaro_winkler_similarity >= 0.8333333333333334 comparison level\", \"u_probability_description\": \"Amongst non-matching record comparisons, 0.19% of records are in the jaro_winkler_similarity >= 0.8333333333333334 comparison level\", \"has_tf_adjustments\": false, \"tf_adjustment_column\": null, \"tf_adjustment_weight\": 1.0, \"is_null_level\": false, \"bayes_factor\": 56.78429552793494, \"log2_bayes_factor\": 5.827420082774046, \"comparison_vector_value\": 1, \"max_comparison_vector_value\": 2, \"bayes_factor_description\": \"If comparison level is `jaro_winkler_similarity >= 0.8333333333333334` then comparison is 56.78 times more likely to be a match\", \"probability_two_random_records_match\": 0.006781357319075399, \"comparison_sort_order\": 6, \"iteration\": 2}, {\"comparison_name\": \"street_name\", \"sql_condition\": \"ELSE\", \"label_for_charts\": \"All other comparisons\", \"m_probability\": 0.13708809402426403, \"u_probability\": 0.9944246612399479, \"m_probability_description\": \"Amongst matching record comparisons, 13.71% of records are in the all other comparisons comparison level\", \"u_probability_description\": \"Amongst non-matching record comparisons, 99.44% of records are in the all other comparisons comparison level\", \"has_tf_adjustments\": false, \"tf_adjustment_column\": null, \"tf_adjustment_weight\": 1.0, \"is_null_level\": false, \"bayes_factor\": 0.1378566917812848, \"log2_bayes_factor\": -2.858758795146401, \"comparison_vector_value\": 0, \"max_comparison_vector_value\": 2, \"bayes_factor_description\": \"If comparison level is `all other comparisons` then comparison is  7.25 times less likely to be a match\", \"probability_two_random_records_match\": 0.006781357319075399, \"comparison_sort_order\": 6, \"iteration\": 2}, {\"comparison_name\": \"unit_number\", \"sql_condition\": \"\\\"unit_number_l\\\" = \\\"unit_number_r\\\"\", \"label_for_charts\": \"Exact match\", \"m_probability\": 0.9105065590035153, \"u_probability\": 0.005427064313248123, \"m_probability_description\": \"Amongst matching record comparisons, 91.05% of records are in the exact match comparison level\", \"u_probability_description\": \"Amongst non-matching record comparisons, 0.54% of records are in the exact match comparison level\", \"has_tf_adjustments\": false, \"tf_adjustment_column\": null, \"tf_adjustment_weight\": 1.0, \"is_null_level\": false, \"bayes_factor\": 167.77147025526455, \"log2_bayes_factor\": 7.390353594344595, \"comparison_vector_value\": 2, \"max_comparison_vector_value\": 2, \"bayes_factor_description\": \"If comparison level is `exact match` then comparison is 167.77 times more likely to be a match\", \"probability_two_random_records_match\": 0.006781357319075399, \"comparison_sort_order\": 7, \"iteration\": 2}, {\"comparison_name\": \"unit_number\", \"sql_condition\": \"jaro_winkler_similarity(\\\"unit_number_l\\\", \\\"unit_number_r\\\") >= 0.8333333333333334\", \"label_for_charts\": \"Jaro_winkler_similarity >= 0.8333333333333334\", \"m_probability\": 0.08428798255888088, \"u_probability\": 0.08399269628727937, \"m_probability_description\": \"Amongst matching record comparisons, 8.43% of records are in the jaro_winkler_similarity >= 0.8333333333333334 comparison level\", \"u_probability_description\": \"Amongst non-matching record comparisons, 8.40% of records are in the jaro_winkler_similarity >= 0.8333333333333334 comparison level\", \"has_tf_adjustments\": false, \"tf_adjustment_column\": null, \"tf_adjustment_weight\": 1.0, \"is_null_level\": false, \"bayes_factor\": 1.003515618436531, \"log2_bayes_factor\": 0.0050630705775434924, \"comparison_vector_value\": 1, \"max_comparison_vector_value\": 2, \"bayes_factor_description\": \"If comparison level is `jaro_winkler_similarity >= 0.8333333333333334` then comparison is 1.00 times more likely to be a match\", \"probability_two_random_records_match\": 0.006781357319075399, \"comparison_sort_order\": 7, \"iteration\": 2}, {\"comparison_name\": \"unit_number\", \"sql_condition\": \"ELSE\", \"label_for_charts\": \"All other comparisons\", \"m_probability\": 0.0052054584376038365, \"u_probability\": 0.9105802393994725, \"m_probability_description\": \"Amongst matching record comparisons, 0.52% of records are in the all other comparisons comparison level\", \"u_probability_description\": \"Amongst non-matching record comparisons, 91.06% of records are in the all other comparisons comparison level\", \"has_tf_adjustments\": false, \"tf_adjustment_column\": null, \"tf_adjustment_weight\": 1.0, \"is_null_level\": false, \"bayes_factor\": 0.005716638921394599, \"log2_bayes_factor\": -7.4506171160914185, \"comparison_vector_value\": 0, \"max_comparison_vector_value\": 2, \"bayes_factor_description\": \"If comparison level is `all other comparisons` then comparison is  174.93 times less likely to be a match\", \"probability_two_random_records_match\": 0.006781357319075399, \"comparison_sort_order\": 7, \"iteration\": 2}, {\"comparison_name\": \"zipcode\", \"sql_condition\": \"\\\"zipcode_l\\\" = \\\"zipcode_r\\\"\", \"label_for_charts\": \"Exact match\", \"m_probability\": 0.9337718398780819, \"u_probability\": 0.9441587509332844, \"m_probability_description\": \"Amongst matching record comparisons, 93.38% of records are in the exact match comparison level\", \"u_probability_description\": \"Amongst non-matching record comparisons, 94.42% of records are in the exact match comparison level\", \"has_tf_adjustments\": false, \"tf_adjustment_column\": null, \"tf_adjustment_weight\": 1.0, \"is_null_level\": false, \"bayes_factor\": 0.9889987663145258, \"log2_bayes_factor\": -0.0159593735319204, \"comparison_vector_value\": 2, \"max_comparison_vector_value\": 2, \"bayes_factor_description\": \"If comparison level is `exact match` then comparison is  1.01 times less likely to be a match\", \"probability_two_random_records_match\": 0.006781357319075399, \"comparison_sort_order\": 8, \"iteration\": 2}, {\"comparison_name\": \"zipcode\", \"sql_condition\": \"jaro_winkler_similarity(\\\"zipcode_l\\\", \\\"zipcode_r\\\") >= 0.8333333333333334\", \"label_for_charts\": \"Jaro_winkler_similarity >= 0.8333333333333334\", \"m_probability\": 0.048123068070730586, \"u_probability\": 0.041136656606251085, \"m_probability_description\": \"Amongst matching record comparisons, 4.81% of records are in the jaro_winkler_similarity >= 0.8333333333333334 comparison level\", \"u_probability_description\": \"Amongst non-matching record comparisons, 4.11% of records are in the jaro_winkler_similarity >= 0.8333333333333334 comparison level\", \"has_tf_adjustments\": false, \"tf_adjustment_column\": null, \"tf_adjustment_weight\": 1.0, \"is_null_level\": false, \"bayes_factor\": 1.169834207270453, \"log2_bayes_factor\": 0.22630408083670575, \"comparison_vector_value\": 1, \"max_comparison_vector_value\": 2, \"bayes_factor_description\": \"If comparison level is `jaro_winkler_similarity >= 0.8333333333333334` then comparison is 1.17 times more likely to be a match\", \"probability_two_random_records_match\": 0.006781357319075399, \"comparison_sort_order\": 8, \"iteration\": 2}, {\"comparison_name\": \"zipcode\", \"sql_condition\": \"ELSE\", \"label_for_charts\": \"All other comparisons\", \"m_probability\": 0.0181050920511876, \"u_probability\": 0.014704592460464516, \"m_probability_description\": \"Amongst matching record comparisons, 1.81% of records are in the all other comparisons comparison level\", \"u_probability_description\": \"Amongst non-matching record comparisons, 1.47% of records are in the all other comparisons comparison level\", \"has_tf_adjustments\": false, \"tf_adjustment_column\": null, \"tf_adjustment_weight\": 1.0, \"is_null_level\": false, \"bayes_factor\": 1.2312542561016793, \"log2_bayes_factor\": 0.3001287115709823, \"comparison_vector_value\": 0, \"max_comparison_vector_value\": 2, \"bayes_factor_description\": \"If comparison level is `all other comparisons` then comparison is 1.23 times more likely to be a match\", \"probability_two_random_records_match\": 0.006781357319075399, \"comparison_sort_order\": 8, \"iteration\": 2}, {\"comparison_name\": \"last_name_12\", \"sql_condition\": \"\\\"last_name_12_l\\\" = \\\"last_name_12_r\\\"\", \"label_for_charts\": \"Exact match\", \"m_probability\": 0.8610301879887261, \"u_probability\": 0.0007093232453578939, \"m_probability_description\": \"Amongst matching record comparisons, 86.10% of records are in the exact match comparison level\", \"u_probability_description\": \"Amongst non-matching record comparisons, 0.07% of records are in the exact match comparison level\", \"has_tf_adjustments\": false, \"tf_adjustment_column\": null, \"tf_adjustment_weight\": 1.0, \"is_null_level\": false, \"bayes_factor\": 1213.8756111880803, \"log2_bayes_factor\": 10.245404877329497, \"comparison_vector_value\": 2, \"max_comparison_vector_value\": 2, \"bayes_factor_description\": \"If comparison level is `exact match` then comparison is 1,213.88 times more likely to be a match\", \"probability_two_random_records_match\": 0.006781357319075399, \"comparison_sort_order\": 0, \"iteration\": 3}, {\"comparison_name\": \"last_name_12\", \"sql_condition\": \"jaro_winkler_similarity(\\\"last_name_12_l\\\", \\\"last_name_12_r\\\") >= 0.8333333333333334\", \"label_for_charts\": \"Jaro_winkler_similarity >= 0.8333333333333334\", \"m_probability\": 0.08864464931429421, \"u_probability\": 0.001329943668219914, \"m_probability_description\": \"Amongst matching record comparisons, 8.86% of records are in the jaro_winkler_similarity >= 0.8333333333333334 comparison level\", \"u_probability_description\": \"Amongst non-matching record comparisons, 0.13% of records are in the jaro_winkler_similarity >= 0.8333333333333334 comparison level\", \"has_tf_adjustments\": false, \"tf_adjustment_column\": null, \"tf_adjustment_weight\": 1.0, \"is_null_level\": false, \"bayes_factor\": 66.65293533292441, \"log2_bayes_factor\": 6.058596506540755, \"comparison_vector_value\": 1, \"max_comparison_vector_value\": 2, \"bayes_factor_description\": \"If comparison level is `jaro_winkler_similarity >= 0.8333333333333334` then comparison is 66.65 times more likely to be a match\", \"probability_two_random_records_match\": 0.006781357319075399, \"comparison_sort_order\": 0, \"iteration\": 3}, {\"comparison_name\": \"last_name_12\", \"sql_condition\": \"ELSE\", \"label_for_charts\": \"All other comparisons\", \"m_probability\": 0.05032516269697961, \"u_probability\": 0.9979607330864222, \"m_probability_description\": \"Amongst matching record comparisons, 5.03% of records are in the all other comparisons comparison level\", \"u_probability_description\": \"Amongst non-matching record comparisons, 99.80% of records are in the all other comparisons comparison level\", \"has_tf_adjustments\": false, \"tf_adjustment_column\": null, \"tf_adjustment_weight\": 1.0, \"is_null_level\": false, \"bayes_factor\": 0.050427998846545315, \"log2_bayes_factor\": -4.309631214359488, \"comparison_vector_value\": 0, \"max_comparison_vector_value\": 2, \"bayes_factor_description\": \"If comparison level is `all other comparisons` then comparison is  19.83 times less likely to be a match\", \"probability_two_random_records_match\": 0.006781357319075399, \"comparison_sort_order\": 0, \"iteration\": 3}, {\"comparison_name\": \"middle_initial\", \"sql_condition\": \"\\\"middle_initial_l\\\" = \\\"middle_initial_r\\\"\", \"label_for_charts\": \"Exact match\", \"m_probability\": 0.9310579544848365, \"u_probability\": 0.07410500870140878, \"m_probability_description\": \"Amongst matching record comparisons, 93.11% of records are in the exact match comparison level\", \"u_probability_description\": \"Amongst non-matching record comparisons, 7.41% of records are in the exact match comparison level\", \"has_tf_adjustments\": false, \"tf_adjustment_column\": null, \"tf_adjustment_weight\": 1.0, \"is_null_level\": false, \"bayes_factor\": 12.5640354248705, \"log2_bayes_factor\": 3.6512280107400326, \"comparison_vector_value\": 1, \"max_comparison_vector_value\": 1, \"bayes_factor_description\": \"If comparison level is `exact match` then comparison is 12.56 times more likely to be a match\", \"probability_two_random_records_match\": 0.006781357319075399, \"comparison_sort_order\": 1, \"iteration\": 3}, {\"comparison_name\": \"middle_initial\", \"sql_condition\": \"ELSE\", \"label_for_charts\": \"All other comparisons\", \"m_probability\": 0.06894204551516347, \"u_probability\": 0.9258949912985912, \"m_probability_description\": \"Amongst matching record comparisons, 6.89% of records are in the all other comparisons comparison level\", \"u_probability_description\": \"Amongst non-matching record comparisons, 92.59% of records are in the all other comparisons comparison level\", \"has_tf_adjustments\": false, \"tf_adjustment_column\": null, \"tf_adjustment_weight\": 1.0, \"is_null_level\": false, \"bayes_factor\": 0.07445989681666872, \"log2_bayes_factor\": -3.7473925728088213, \"comparison_vector_value\": 0, \"max_comparison_vector_value\": 1, \"bayes_factor_description\": \"If comparison level is `all other comparisons` then comparison is  13.43 times less likely to be a match\", \"probability_two_random_records_match\": 0.006781357319075399, \"comparison_sort_order\": 1, \"iteration\": 3}, {\"comparison_name\": \"day_of_birth\", \"sql_condition\": \"\\\"day_of_birth_l\\\" = \\\"day_of_birth_r\\\"\", \"label_for_charts\": \"Exact match\", \"m_probability\": 0.9561907087202842, \"u_probability\": 0.03243028785148898, \"m_probability_description\": \"Amongst matching record comparisons, 95.62% of records are in the exact match comparison level\", \"u_probability_description\": \"Amongst non-matching record comparisons, 3.24% of records are in the exact match comparison level\", \"has_tf_adjustments\": false, \"tf_adjustment_column\": null, \"tf_adjustment_weight\": 1.0, \"is_null_level\": false, \"bayes_factor\": 29.48449650212964, \"log2_bayes_factor\": 4.881884652788658, \"comparison_vector_value\": 2, \"max_comparison_vector_value\": 2, \"bayes_factor_description\": \"If comparison level is `exact match` then comparison is 29.48 times more likely to be a match\", \"probability_two_random_records_match\": 0.006781357319075399, \"comparison_sort_order\": 2, \"iteration\": 3}, {\"comparison_name\": \"day_of_birth\", \"sql_condition\": \"abs(day_of_birth_l - day_of_birth_r) <= 5\", \"label_for_charts\": \"Inexact match\", \"m_probability\": 0.021071632477902034, \"u_probability\": 0.295173345919013, \"m_probability_description\": \"Amongst matching record comparisons, 2.11% of records are in the inexact match comparison level\", \"u_probability_description\": \"Amongst non-matching record comparisons, 29.52% of records are in the inexact match comparison level\", \"has_tf_adjustments\": false, \"tf_adjustment_column\": null, \"tf_adjustment_weight\": 1.0, \"is_null_level\": false, \"bayes_factor\": 0.07138731450258885, \"log2_bayes_factor\": -3.8081884590802546, \"comparison_vector_value\": 1, \"max_comparison_vector_value\": 2, \"bayes_factor_description\": \"If comparison level is `inexact match` then comparison is  14.01 times less likely to be a match\", \"probability_two_random_records_match\": 0.006781357319075399, \"comparison_sort_order\": 2, \"iteration\": 3}, {\"comparison_name\": \"day_of_birth\", \"sql_condition\": \"ELSE\", \"label_for_charts\": \"All other comparisons\", \"m_probability\": 0.02273765880181385, \"u_probability\": 0.672396366229498, \"m_probability_description\": \"Amongst matching record comparisons, 2.27% of records are in the all other comparisons comparison level\", \"u_probability_description\": \"Amongst non-matching record comparisons, 67.24% of records are in the all other comparisons comparison level\", \"has_tf_adjustments\": false, \"tf_adjustment_column\": null, \"tf_adjustment_weight\": 1.0, \"is_null_level\": false, \"bayes_factor\": 0.03381585615834987, \"log2_bayes_factor\": -4.886156309035654, \"comparison_vector_value\": 0, \"max_comparison_vector_value\": 2, \"bayes_factor_description\": \"If comparison level is `all other comparisons` then comparison is  29.57 times less likely to be a match\", \"probability_two_random_records_match\": 0.006781357319075399, \"comparison_sort_order\": 2, \"iteration\": 3}, {\"comparison_name\": \"month_of_birth\", \"sql_condition\": \"\\\"month_of_birth_l\\\" = \\\"month_of_birth_r\\\"\", \"label_for_charts\": \"Exact match\", \"m_probability\": 0.9677244463823729, \"u_probability\": 0.08355145831969693, \"m_probability_description\": \"Amongst matching record comparisons, 96.77% of records are in the exact match comparison level\", \"u_probability_description\": \"Amongst non-matching record comparisons, 8.36% of records are in the exact match comparison level\", \"has_tf_adjustments\": false, \"tf_adjustment_column\": null, \"tf_adjustment_weight\": 1.0, \"is_null_level\": false, \"bayes_factor\": 11.58237648802637, \"log2_bayes_factor\": 3.5338593927507174, \"comparison_vector_value\": 2, \"max_comparison_vector_value\": 2, \"bayes_factor_description\": \"If comparison level is `exact match` then comparison is 11.58 times more likely to be a match\", \"probability_two_random_records_match\": 0.006781357319075399, \"comparison_sort_order\": 3, \"iteration\": 3}, {\"comparison_name\": \"month_of_birth\", \"sql_condition\": \"abs(month_of_birth_l - month_of_birth_r) <= 3\", \"label_for_charts\": \"Inexact match\", \"m_probability\": 0.016037664262505816, \"u_probability\": 0.4143133397869391, \"m_probability_description\": \"Amongst matching record comparisons, 1.60% of records are in the inexact match comparison level\", \"u_probability_description\": \"Amongst non-matching record comparisons, 41.43% of records are in the inexact match comparison level\", \"has_tf_adjustments\": false, \"tf_adjustment_column\": null, \"tf_adjustment_weight\": 1.0, \"is_null_level\": false, \"bayes_factor\": 0.03870902218777989, \"log2_bayes_factor\": -4.6911863249928105, \"comparison_vector_value\": 1, \"max_comparison_vector_value\": 2, \"bayes_factor_description\": \"If comparison level is `inexact match` then comparison is  25.83 times less likely to be a match\", \"probability_two_random_records_match\": 0.006781357319075399, \"comparison_sort_order\": 3, \"iteration\": 3}, {\"comparison_name\": \"month_of_birth\", \"sql_condition\": \"ELSE\", \"label_for_charts\": \"All other comparisons\", \"m_probability\": 0.016237889355121306, \"u_probability\": 0.5021352018933639, \"m_probability_description\": \"Amongst matching record comparisons, 1.62% of records are in the all other comparisons comparison level\", \"u_probability_description\": \"Amongst non-matching record comparisons, 50.21% of records are in the all other comparisons comparison level\", \"has_tf_adjustments\": false, \"tf_adjustment_column\": null, \"tf_adjustment_weight\": 1.0, \"is_null_level\": false, \"bayes_factor\": 0.03233768374313194, \"log2_bayes_factor\": -4.950639843429776, \"comparison_vector_value\": 0, \"max_comparison_vector_value\": 2, \"bayes_factor_description\": \"If comparison level is `all other comparisons` then comparison is  30.92 times less likely to be a match\", \"probability_two_random_records_match\": 0.006781357319075399, \"comparison_sort_order\": 3, \"iteration\": 3}, {\"comparison_name\": \"year_of_birth\", \"sql_condition\": \"\\\"year_of_birth_l\\\" = \\\"year_of_birth_r\\\"\", \"label_for_charts\": \"Exact match\", \"m_probability\": 0.952490568630871, \"u_probability\": 0.011125465216557518, \"m_probability_description\": \"Amongst matching record comparisons, 95.25% of records are in the exact match comparison level\", \"u_probability_description\": \"Amongst non-matching record comparisons, 1.11% of records are in the exact match comparison level\", \"has_tf_adjustments\": false, \"tf_adjustment_column\": null, \"tf_adjustment_weight\": 1.0, \"is_null_level\": false, \"bayes_factor\": 85.61354964404752, \"log2_bayes_factor\": 6.419767237977656, \"comparison_vector_value\": 2, \"max_comparison_vector_value\": 2, \"bayes_factor_description\": \"If comparison level is `exact match` then comparison is 85.61 times more likely to be a match\", \"probability_two_random_records_match\": 0.006781357319075399, \"comparison_sort_order\": 4, \"iteration\": 3}, {\"comparison_name\": \"year_of_birth\", \"sql_condition\": \"abs(year_of_birth_l - year_of_birth_r) <= 5\", \"label_for_charts\": \"Inexact match\", \"m_probability\": 0.014694955597035854, \"u_probability\": 0.11053660239472413, \"m_probability_description\": \"Amongst matching record comparisons, 1.47% of records are in the inexact match comparison level\", \"u_probability_description\": \"Amongst non-matching record comparisons, 11.05% of records are in the inexact match comparison level\", \"has_tf_adjustments\": false, \"tf_adjustment_column\": null, \"tf_adjustment_weight\": 1.0, \"is_null_level\": false, \"bayes_factor\": 0.1329419873478691, \"log2_bayes_factor\": -2.9111312688903674, \"comparison_vector_value\": 1, \"max_comparison_vector_value\": 2, \"bayes_factor_description\": \"If comparison level is `inexact match` then comparison is  7.52 times less likely to be a match\", \"probability_two_random_records_match\": 0.006781357319075399, \"comparison_sort_order\": 4, \"iteration\": 3}, {\"comparison_name\": \"year_of_birth\", \"sql_condition\": \"ELSE\", \"label_for_charts\": \"All other comparisons\", \"m_probability\": 0.03281447577209318, \"u_probability\": 0.8783379323887184, \"m_probability_description\": \"Amongst matching record comparisons, 3.28% of records are in the all other comparisons comparison level\", \"u_probability_description\": \"Amongst non-matching record comparisons, 87.83% of records are in the all other comparisons comparison level\", \"has_tf_adjustments\": false, \"tf_adjustment_column\": null, \"tf_adjustment_weight\": 1.0, \"is_null_level\": false, \"bayes_factor\": 0.03735973884544788, \"log2_bayes_factor\": -4.742371819515536, \"comparison_vector_value\": 0, \"max_comparison_vector_value\": 2, \"bayes_factor_description\": \"If comparison level is `all other comparisons` then comparison is  26.77 times less likely to be a match\", \"probability_two_random_records_match\": 0.006781357319075399, \"comparison_sort_order\": 4, \"iteration\": 3}, {\"comparison_name\": \"street_number\", \"sql_condition\": \"\\\"street_number_l\\\" = \\\"street_number_r\\\"\", \"label_for_charts\": \"Exact match\", \"m_probability\": 0.768071048192094, \"u_probability\": 0.004643745865751094, \"m_probability_description\": \"Amongst matching record comparisons, 76.81% of records are in the exact match comparison level\", \"u_probability_description\": \"Amongst non-matching record comparisons, 0.46% of records are in the exact match comparison level\", \"has_tf_adjustments\": false, \"tf_adjustment_column\": null, \"tf_adjustment_weight\": 1.0, \"is_null_level\": false, \"bayes_factor\": 165.3990270778661, \"log2_bayes_factor\": 7.369806937983634, \"comparison_vector_value\": 2, \"max_comparison_vector_value\": 2, \"bayes_factor_description\": \"If comparison level is `exact match` then comparison is 165.40 times more likely to be a match\", \"probability_two_random_records_match\": 0.006781357319075399, \"comparison_sort_order\": 5, \"iteration\": 3}, {\"comparison_name\": \"street_number\", \"sql_condition\": \"jaro_winkler_similarity(\\\"street_number_l\\\", \\\"street_number_r\\\") >= 0.8333333333333334\", \"label_for_charts\": \"Jaro_winkler_similarity >= 0.8333333333333334\", \"m_probability\": 0.06566822534328715, \"u_probability\": 0.012708549889228378, \"m_probability_description\": \"Amongst matching record comparisons, 6.57% of records are in the jaro_winkler_similarity >= 0.8333333333333334 comparison level\", \"u_probability_description\": \"Amongst non-matching record comparisons, 1.27% of records are in the jaro_winkler_similarity >= 0.8333333333333334 comparison level\", \"has_tf_adjustments\": false, \"tf_adjustment_column\": null, \"tf_adjustment_weight\": 1.0, \"is_null_level\": false, \"bayes_factor\": 5.167247712419714, \"log2_bayes_factor\": 2.369396046703222, \"comparison_vector_value\": 1, \"max_comparison_vector_value\": 2, \"bayes_factor_description\": \"If comparison level is `jaro_winkler_similarity >= 0.8333333333333334` then comparison is 5.17 times more likely to be a match\", \"probability_two_random_records_match\": 0.006781357319075399, \"comparison_sort_order\": 5, \"iteration\": 3}, {\"comparison_name\": \"street_number\", \"sql_condition\": \"ELSE\", \"label_for_charts\": \"All other comparisons\", \"m_probability\": 0.1662607264646188, \"u_probability\": 0.9826477042450206, \"m_probability_description\": \"Amongst matching record comparisons, 16.63% of records are in the all other comparisons comparison level\", \"u_probability_description\": \"Amongst non-matching record comparisons, 98.26% of records are in the all other comparisons comparison level\", \"has_tf_adjustments\": false, \"tf_adjustment_column\": null, \"tf_adjustment_weight\": 1.0, \"is_null_level\": false, \"bayes_factor\": 0.1691966772490033, \"log2_bayes_factor\": -2.563226858364814, \"comparison_vector_value\": 0, \"max_comparison_vector_value\": 2, \"bayes_factor_description\": \"If comparison level is `all other comparisons` then comparison is  5.91 times less likely to be a match\", \"probability_two_random_records_match\": 0.006781357319075399, \"comparison_sort_order\": 5, \"iteration\": 3}, {\"comparison_name\": \"street_name\", \"sql_condition\": \"\\\"street_name_l\\\" = \\\"street_name_r\\\"\", \"label_for_charts\": \"Exact match\", \"m_probability\": 0.7551346498081396, \"u_probability\": 0.0036909475444507293, \"m_probability_description\": \"Amongst matching record comparisons, 75.51% of records are in the exact match comparison level\", \"u_probability_description\": \"Amongst non-matching record comparisons, 0.37% of records are in the exact match comparison level\", \"has_tf_adjustments\": false, \"tf_adjustment_column\": null, \"tf_adjustment_weight\": 1.0, \"is_null_level\": false, \"bayes_factor\": 204.59100020087536, \"log2_bayes_factor\": 7.676598873219945, \"comparison_vector_value\": 2, \"max_comparison_vector_value\": 2, \"bayes_factor_description\": \"If comparison level is `exact match` then comparison is 204.59 times more likely to be a match\", \"probability_two_random_records_match\": 0.006781357319075399, \"comparison_sort_order\": 6, \"iteration\": 3}, {\"comparison_name\": \"street_name\", \"sql_condition\": \"jaro_winkler_similarity(\\\"street_name_l\\\", \\\"street_name_r\\\") >= 0.8333333333333334\", \"label_for_charts\": \"Jaro_winkler_similarity >= 0.8333333333333334\", \"m_probability\": 0.10689896667807802, \"u_probability\": 0.0018843912156014068, \"m_probability_description\": \"Amongst matching record comparisons, 10.69% of records are in the jaro_winkler_similarity >= 0.8333333333333334 comparison level\", \"u_probability_description\": \"Amongst non-matching record comparisons, 0.19% of records are in the jaro_winkler_similarity >= 0.8333333333333334 comparison level\", \"has_tf_adjustments\": false, \"tf_adjustment_column\": null, \"tf_adjustment_weight\": 1.0, \"is_null_level\": false, \"bayes_factor\": 56.728648378867035, \"log2_bayes_factor\": 5.826005585542841, \"comparison_vector_value\": 1, \"max_comparison_vector_value\": 2, \"bayes_factor_description\": \"If comparison level is `jaro_winkler_similarity >= 0.8333333333333334` then comparison is 56.73 times more likely to be a match\", \"probability_two_random_records_match\": 0.006781357319075399, \"comparison_sort_order\": 6, \"iteration\": 3}, {\"comparison_name\": \"street_name\", \"sql_condition\": \"ELSE\", \"label_for_charts\": \"All other comparisons\", \"m_probability\": 0.13796638351378235, \"u_probability\": 0.9944246612399479, \"m_probability_description\": \"Amongst matching record comparisons, 13.80% of records are in the all other comparisons comparison level\", \"u_probability_description\": \"Amongst non-matching record comparisons, 99.44% of records are in the all other comparisons comparison level\", \"has_tf_adjustments\": false, \"tf_adjustment_column\": null, \"tf_adjustment_weight\": 1.0, \"is_null_level\": false, \"bayes_factor\": 0.1387399054864067, \"log2_bayes_factor\": -2.849545287997526, \"comparison_vector_value\": 0, \"max_comparison_vector_value\": 2, \"bayes_factor_description\": \"If comparison level is `all other comparisons` then comparison is  7.21 times less likely to be a match\", \"probability_two_random_records_match\": 0.006781357319075399, \"comparison_sort_order\": 6, \"iteration\": 3}, {\"comparison_name\": \"unit_number\", \"sql_condition\": \"\\\"unit_number_l\\\" = \\\"unit_number_r\\\"\", \"label_for_charts\": \"Exact match\", \"m_probability\": 0.9104978603330323, \"u_probability\": 0.005427064313248123, \"m_probability_description\": \"Amongst matching record comparisons, 91.05% of records are in the exact match comparison level\", \"u_probability_description\": \"Amongst non-matching record comparisons, 0.54% of records are in the exact match comparison level\", \"has_tf_adjustments\": false, \"tf_adjustment_column\": null, \"tf_adjustment_weight\": 1.0, \"is_null_level\": false, \"bayes_factor\": 167.76986742360808, \"log2_bayes_factor\": 7.390339811260232, \"comparison_vector_value\": 2, \"max_comparison_vector_value\": 2, \"bayes_factor_description\": \"If comparison level is `exact match` then comparison is 167.77 times more likely to be a match\", \"probability_two_random_records_match\": 0.006781357319075399, \"comparison_sort_order\": 7, \"iteration\": 3}, {\"comparison_name\": \"unit_number\", \"sql_condition\": \"jaro_winkler_similarity(\\\"unit_number_l\\\", \\\"unit_number_r\\\") >= 0.8333333333333334\", \"label_for_charts\": \"Jaro_winkler_similarity >= 0.8333333333333334\", \"m_probability\": 0.0842955851379334, \"u_probability\": 0.08399269628727937, \"m_probability_description\": \"Amongst matching record comparisons, 8.43% of records are in the jaro_winkler_similarity >= 0.8333333333333334 comparison level\", \"u_probability_description\": \"Amongst non-matching record comparisons, 8.40% of records are in the jaro_winkler_similarity >= 0.8333333333333334 comparison level\", \"has_tf_adjustments\": false, \"tf_adjustment_column\": null, \"tf_adjustment_weight\": 1.0, \"is_null_level\": false, \"bayes_factor\": 1.003606133200178, \"log2_bayes_factor\": 0.005193192430513051, \"comparison_vector_value\": 1, \"max_comparison_vector_value\": 2, \"bayes_factor_description\": \"If comparison level is `jaro_winkler_similarity >= 0.8333333333333334` then comparison is 1.00 times more likely to be a match\", \"probability_two_random_records_match\": 0.006781357319075399, \"comparison_sort_order\": 7, \"iteration\": 3}, {\"comparison_name\": \"unit_number\", \"sql_condition\": \"ELSE\", \"label_for_charts\": \"All other comparisons\", \"m_probability\": 0.00520655452903438, \"u_probability\": 0.9105802393994725, \"m_probability_description\": \"Amongst matching record comparisons, 0.52% of records are in the all other comparisons comparison level\", \"u_probability_description\": \"Amongst non-matching record comparisons, 91.06% of records are in the all other comparisons comparison level\", \"has_tf_adjustments\": false, \"tf_adjustment_column\": null, \"tf_adjustment_weight\": 1.0, \"is_null_level\": false, \"bayes_factor\": 0.005717842649943844, \"log2_bayes_factor\": -7.4503133658594285, \"comparison_vector_value\": 0, \"max_comparison_vector_value\": 2, \"bayes_factor_description\": \"If comparison level is `all other comparisons` then comparison is  174.89 times less likely to be a match\", \"probability_two_random_records_match\": 0.006781357319075399, \"comparison_sort_order\": 7, \"iteration\": 3}, {\"comparison_name\": \"zipcode\", \"sql_condition\": \"\\\"zipcode_l\\\" = \\\"zipcode_r\\\"\", \"label_for_charts\": \"Exact match\", \"m_probability\": 0.9337799356009631, \"u_probability\": 0.9441587509332844, \"m_probability_description\": \"Amongst matching record comparisons, 93.38% of records are in the exact match comparison level\", \"u_probability_description\": \"Amongst non-matching record comparisons, 94.42% of records are in the exact match comparison level\", \"has_tf_adjustments\": false, \"tf_adjustment_column\": null, \"tf_adjustment_weight\": 1.0, \"is_null_level\": false, \"bayes_factor\": 0.9890073408501886, \"log2_bayes_factor\": -0.015946865542148313, \"comparison_vector_value\": 2, \"max_comparison_vector_value\": 2, \"bayes_factor_description\": \"If comparison level is `exact match` then comparison is  1.01 times less likely to be a match\", \"probability_two_random_records_match\": 0.006781357319075399, \"comparison_sort_order\": 8, \"iteration\": 3}, {\"comparison_name\": \"zipcode\", \"sql_condition\": \"jaro_winkler_similarity(\\\"zipcode_l\\\", \\\"zipcode_r\\\") >= 0.8333333333333334\", \"label_for_charts\": \"Jaro_winkler_similarity >= 0.8333333333333334\", \"m_probability\": 0.04812256274469721, \"u_probability\": 0.041136656606251085, \"m_probability_description\": \"Amongst matching record comparisons, 4.81% of records are in the jaro_winkler_similarity >= 0.8333333333333334 comparison level\", \"u_probability_description\": \"Amongst non-matching record comparisons, 4.11% of records are in the jaro_winkler_similarity >= 0.8333333333333334 comparison level\", \"has_tf_adjustments\": false, \"tf_adjustment_column\": null, \"tf_adjustment_weight\": 1.0, \"is_null_level\": false, \"bayes_factor\": 1.1698219231891722, \"log2_bayes_factor\": 0.22628893144537837, \"comparison_vector_value\": 1, \"max_comparison_vector_value\": 2, \"bayes_factor_description\": \"If comparison level is `jaro_winkler_similarity >= 0.8333333333333334` then comparison is 1.17 times more likely to be a match\", \"probability_two_random_records_match\": 0.006781357319075399, \"comparison_sort_order\": 8, \"iteration\": 3}, {\"comparison_name\": \"zipcode\", \"sql_condition\": \"ELSE\", \"label_for_charts\": \"All other comparisons\", \"m_probability\": 0.018097501654339772, \"u_probability\": 0.014704592460464516, \"m_probability_description\": \"Amongst matching record comparisons, 1.81% of records are in the all other comparisons comparison level\", \"u_probability_description\": \"Amongst non-matching record comparisons, 1.47% of records are in the all other comparisons comparison level\", \"has_tf_adjustments\": false, \"tf_adjustment_column\": null, \"tf_adjustment_weight\": 1.0, \"is_null_level\": false, \"bayes_factor\": 1.2307380638394159, \"log2_bayes_factor\": 0.29952374784157254, \"comparison_vector_value\": 0, \"max_comparison_vector_value\": 2, \"bayes_factor_description\": \"If comparison level is `all other comparisons` then comparison is 1.23 times more likely to be a match\", \"probability_two_random_records_match\": 0.006781357319075399, \"comparison_sort_order\": 8, \"iteration\": 3}, {\"comparison_name\": \"last_name_12\", \"sql_condition\": \"\\\"last_name_12_l\\\" = \\\"last_name_12_r\\\"\", \"label_for_charts\": \"Exact match\", \"m_probability\": 0.8608401673046673, \"u_probability\": 0.0007093232453578939, \"m_probability_description\": \"Amongst matching record comparisons, 86.08% of records are in the exact match comparison level\", \"u_probability_description\": \"Amongst non-matching record comparisons, 0.07% of records are in the exact match comparison level\", \"has_tf_adjustments\": false, \"tf_adjustment_column\": null, \"tf_adjustment_weight\": 1.0, \"is_null_level\": false, \"bayes_factor\": 1213.6077210754943, \"log2_bayes_factor\": 10.245086453937366, \"comparison_vector_value\": 2, \"max_comparison_vector_value\": 2, \"bayes_factor_description\": \"If comparison level is `exact match` then comparison is 1,213.61 times more likely to be a match\", \"probability_two_random_records_match\": 0.006781357319075399, \"comparison_sort_order\": 0, \"iteration\": 4}, {\"comparison_name\": \"last_name_12\", \"sql_condition\": \"jaro_winkler_similarity(\\\"last_name_12_l\\\", \\\"last_name_12_r\\\") >= 0.8333333333333334\", \"label_for_charts\": \"Jaro_winkler_similarity >= 0.8333333333333334\", \"m_probability\": 0.08862795967370495, \"u_probability\": 0.001329943668219914, \"m_probability_description\": \"Amongst matching record comparisons, 8.86% of records are in the jaro_winkler_similarity >= 0.8333333333333334 comparison level\", \"u_probability_description\": \"Amongst non-matching record comparisons, 0.13% of records are in the jaro_winkler_similarity >= 0.8333333333333334 comparison level\", \"has_tf_adjustments\": false, \"tf_adjustment_column\": null, \"tf_adjustment_weight\": 1.0, \"is_null_level\": false, \"bayes_factor\": 66.64038619946254, \"log2_bayes_factor\": 6.058324856431683, \"comparison_vector_value\": 1, \"max_comparison_vector_value\": 2, \"bayes_factor_description\": \"If comparison level is `jaro_winkler_similarity >= 0.8333333333333334` then comparison is 66.64 times more likely to be a match\", \"probability_two_random_records_match\": 0.006781357319075399, \"comparison_sort_order\": 0, \"iteration\": 4}, {\"comparison_name\": \"last_name_12\", \"sql_condition\": \"ELSE\", \"label_for_charts\": \"All other comparisons\", \"m_probability\": 0.05053187302162782, \"u_probability\": 0.9979607330864222, \"m_probability_description\": \"Amongst matching record comparisons, 5.05% of records are in the all other comparisons comparison level\", \"u_probability_description\": \"Amongst non-matching record comparisons, 99.80% of records are in the all other comparisons comparison level\", \"has_tf_adjustments\": false, \"tf_adjustment_column\": null, \"tf_adjustment_weight\": 1.0, \"is_null_level\": false, \"bayes_factor\": 0.050635131570103395, \"log2_bayes_factor\": -4.303717489536725, \"comparison_vector_value\": 0, \"max_comparison_vector_value\": 2, \"bayes_factor_description\": \"If comparison level is `all other comparisons` then comparison is  19.75 times less likely to be a match\", \"probability_two_random_records_match\": 0.006781357319075399, \"comparison_sort_order\": 0, \"iteration\": 4}, {\"comparison_name\": \"middle_initial\", \"sql_condition\": \"\\\"middle_initial_l\\\" = \\\"middle_initial_r\\\"\", \"label_for_charts\": \"Exact match\", \"m_probability\": 0.9309288520161119, \"u_probability\": 0.07410500870140878, \"m_probability_description\": \"Amongst matching record comparisons, 93.09% of records are in the exact match comparison level\", \"u_probability_description\": \"Amongst non-matching record comparisons, 7.41% of records are in the exact match comparison level\", \"has_tf_adjustments\": false, \"tf_adjustment_column\": null, \"tf_adjustment_weight\": 1.0, \"is_null_level\": false, \"bayes_factor\": 12.5622932690974, \"log2_bayes_factor\": 3.6510279497180704, \"comparison_vector_value\": 1, \"max_comparison_vector_value\": 1, \"bayes_factor_description\": \"If comparison level is `exact match` then comparison is 12.56 times more likely to be a match\", \"probability_two_random_records_match\": 0.006781357319075399, \"comparison_sort_order\": 1, \"iteration\": 4}, {\"comparison_name\": \"middle_initial\", \"sql_condition\": \"ELSE\", \"label_for_charts\": \"All other comparisons\", \"m_probability\": 0.06907114798388814, \"u_probability\": 0.9258949912985912, \"m_probability_description\": \"Amongst matching record comparisons, 6.91% of records are in the all other comparisons comparison level\", \"u_probability_description\": \"Amongst non-matching record comparisons, 92.59% of records are in the all other comparisons comparison level\", \"has_tf_adjustments\": false, \"tf_adjustment_column\": null, \"tf_adjustment_weight\": 1.0, \"is_null_level\": false, \"bayes_factor\": 0.07459933214134154, \"log2_bayes_factor\": -3.7446934751211227, \"comparison_vector_value\": 0, \"max_comparison_vector_value\": 1, \"bayes_factor_description\": \"If comparison level is `all other comparisons` then comparison is  13.40 times less likely to be a match\", \"probability_two_random_records_match\": 0.006781357319075399, \"comparison_sort_order\": 1, \"iteration\": 4}, {\"comparison_name\": \"day_of_birth\", \"sql_condition\": \"\\\"day_of_birth_l\\\" = \\\"day_of_birth_r\\\"\", \"label_for_charts\": \"Exact match\", \"m_probability\": 0.9561226609762639, \"u_probability\": 0.03243028785148898, \"m_probability_description\": \"Amongst matching record comparisons, 95.61% of records are in the exact match comparison level\", \"u_probability_description\": \"Amongst non-matching record comparisons, 3.24% of records are in the exact match comparison level\", \"has_tf_adjustments\": false, \"tf_adjustment_column\": null, \"tf_adjustment_weight\": 1.0, \"is_null_level\": false, \"bayes_factor\": 29.482398224607962, \"log2_bayes_factor\": 4.8817819790904675, \"comparison_vector_value\": 2, \"max_comparison_vector_value\": 2, \"bayes_factor_description\": \"If comparison level is `exact match` then comparison is 29.48 times more likely to be a match\", \"probability_two_random_records_match\": 0.006781357319075399, \"comparison_sort_order\": 2, \"iteration\": 4}, {\"comparison_name\": \"day_of_birth\", \"sql_condition\": \"abs(day_of_birth_l - day_of_birth_r) <= 5\", \"label_for_charts\": \"Inexact match\", \"m_probability\": 0.021098248053317704, \"u_probability\": 0.295173345919013, \"m_probability_description\": \"Amongst matching record comparisons, 2.11% of records are in the inexact match comparison level\", \"u_probability_description\": \"Amongst non-matching record comparisons, 29.52% of records are in the inexact match comparison level\", \"has_tf_adjustments\": false, \"tf_adjustment_column\": null, \"tf_adjustment_weight\": 1.0, \"is_null_level\": false, \"bayes_factor\": 0.07147748380745209, \"log2_bayes_factor\": -3.8063673411032743, \"comparison_vector_value\": 1, \"max_comparison_vector_value\": 2, \"bayes_factor_description\": \"If comparison level is `inexact match` then comparison is  13.99 times less likely to be a match\", \"probability_two_random_records_match\": 0.006781357319075399, \"comparison_sort_order\": 2, \"iteration\": 4}, {\"comparison_name\": \"day_of_birth\", \"sql_condition\": \"ELSE\", \"label_for_charts\": \"All other comparisons\", \"m_probability\": 0.022779090970418477, \"u_probability\": 0.672396366229498, \"m_probability_description\": \"Amongst matching record comparisons, 2.28% of records are in the all other comparisons comparison level\", \"u_probability_description\": \"Amongst non-matching record comparisons, 67.24% of records are in the all other comparisons comparison level\", \"has_tf_adjustments\": false, \"tf_adjustment_column\": null, \"tf_adjustment_weight\": 1.0, \"is_null_level\": false, \"bayes_factor\": 0.03387747482657225, \"log2_bayes_factor\": -4.883529847305086, \"comparison_vector_value\": 0, \"max_comparison_vector_value\": 2, \"bayes_factor_description\": \"If comparison level is `all other comparisons` then comparison is  29.52 times less likely to be a match\", \"probability_two_random_records_match\": 0.006781357319075399, \"comparison_sort_order\": 2, \"iteration\": 4}, {\"comparison_name\": \"month_of_birth\", \"sql_condition\": \"\\\"month_of_birth_l\\\" = \\\"month_of_birth_r\\\"\", \"label_for_charts\": \"Exact match\", \"m_probability\": 0.9676751678407622, \"u_probability\": 0.08355145831969693, \"m_probability_description\": \"Amongst matching record comparisons, 96.77% of records are in the exact match comparison level\", \"u_probability_description\": \"Amongst non-matching record comparisons, 8.36% of records are in the exact match comparison level\", \"has_tf_adjustments\": false, \"tf_adjustment_column\": null, \"tf_adjustment_weight\": 1.0, \"is_null_level\": false, \"bayes_factor\": 11.581786689325046, \"log2_bayes_factor\": 3.5337859258479685, \"comparison_vector_value\": 2, \"max_comparison_vector_value\": 2, \"bayes_factor_description\": \"If comparison level is `exact match` then comparison is 11.58 times more likely to be a match\", \"probability_two_random_records_match\": 0.006781357319075399, \"comparison_sort_order\": 3, \"iteration\": 4}, {\"comparison_name\": \"month_of_birth\", \"sql_condition\": \"abs(month_of_birth_l - month_of_birth_r) <= 3\", \"label_for_charts\": \"Inexact match\", \"m_probability\": 0.01606871268182094, \"u_probability\": 0.4143133397869391, \"m_probability_description\": \"Amongst matching record comparisons, 1.61% of records are in the inexact match comparison level\", \"u_probability_description\": \"Amongst non-matching record comparisons, 41.43% of records are in the inexact match comparison level\", \"has_tf_adjustments\": false, \"tf_adjustment_column\": null, \"tf_adjustment_weight\": 1.0, \"is_null_level\": false, \"bayes_factor\": 0.038783961651064104, \"log2_bayes_factor\": -4.688396012363367, \"comparison_vector_value\": 1, \"max_comparison_vector_value\": 2, \"bayes_factor_description\": \"If comparison level is `inexact match` then comparison is  25.78 times less likely to be a match\", \"probability_two_random_records_match\": 0.006781357319075399, \"comparison_sort_order\": 3, \"iteration\": 4}, {\"comparison_name\": \"month_of_birth\", \"sql_condition\": \"ELSE\", \"label_for_charts\": \"All other comparisons\", \"m_probability\": 0.016256119477416862, \"u_probability\": 0.5021352018933639, \"m_probability_description\": \"Amongst matching record comparisons, 1.63% of records are in the all other comparisons comparison level\", \"u_probability_description\": \"Amongst non-matching record comparisons, 50.21% of records are in the all other comparisons comparison level\", \"has_tf_adjustments\": false, \"tf_adjustment_column\": null, \"tf_adjustment_weight\": 1.0, \"is_null_level\": false, \"bayes_factor\": 0.03237398894983088, \"log2_bayes_factor\": -4.9490210521057785, \"comparison_vector_value\": 0, \"max_comparison_vector_value\": 2, \"bayes_factor_description\": \"If comparison level is `all other comparisons` then comparison is  30.89 times less likely to be a match\", \"probability_two_random_records_match\": 0.006781357319075399, \"comparison_sort_order\": 3, \"iteration\": 4}, {\"comparison_name\": \"year_of_birth\", \"sql_condition\": \"\\\"year_of_birth_l\\\" = \\\"year_of_birth_r\\\"\", \"label_for_charts\": \"Exact match\", \"m_probability\": 0.9524201386689535, \"u_probability\": 0.011125465216557518, \"m_probability_description\": \"Amongst matching record comparisons, 95.24% of records are in the exact match comparison level\", \"u_probability_description\": \"Amongst non-matching record comparisons, 1.11% of records are in the exact match comparison level\", \"has_tf_adjustments\": false, \"tf_adjustment_column\": null, \"tf_adjustment_weight\": 1.0, \"is_null_level\": false, \"bayes_factor\": 85.60721912567848, \"log2_bayes_factor\": 6.419660556907046, \"comparison_vector_value\": 2, \"max_comparison_vector_value\": 2, \"bayes_factor_description\": \"If comparison level is `exact match` then comparison is 85.61 times more likely to be a match\", \"probability_two_random_records_match\": 0.006781357319075399, \"comparison_sort_order\": 4, \"iteration\": 4}, {\"comparison_name\": \"year_of_birth\", \"sql_condition\": \"abs(year_of_birth_l - year_of_birth_r) <= 5\", \"label_for_charts\": \"Inexact match\", \"m_probability\": 0.014728205857658392, \"u_probability\": 0.11053660239472413, \"m_probability_description\": \"Amongst matching record comparisons, 1.47% of records are in the inexact match comparison level\", \"u_probability_description\": \"Amongst non-matching record comparisons, 11.05% of records are in the inexact match comparison level\", \"has_tf_adjustments\": false, \"tf_adjustment_column\": null, \"tf_adjustment_weight\": 1.0, \"is_null_level\": false, \"bayes_factor\": 0.13324279504325856, \"log2_bayes_factor\": -2.9078705719321243, \"comparison_vector_value\": 1, \"max_comparison_vector_value\": 2, \"bayes_factor_description\": \"If comparison level is `inexact match` then comparison is  7.51 times less likely to be a match\", \"probability_two_random_records_match\": 0.006781357319075399, \"comparison_sort_order\": 4, \"iteration\": 4}, {\"comparison_name\": \"year_of_birth\", \"sql_condition\": \"ELSE\", \"label_for_charts\": \"All other comparisons\", \"m_probability\": 0.03285165547338815, \"u_probability\": 0.8783379323887184, \"m_probability_description\": \"Amongst matching record comparisons, 3.29% of records are in the all other comparisons comparison level\", \"u_probability_description\": \"Amongst non-matching record comparisons, 87.83% of records are in the all other comparisons comparison level\", \"has_tf_adjustments\": false, \"tf_adjustment_column\": null, \"tf_adjustment_weight\": 1.0, \"is_null_level\": false, \"bayes_factor\": 0.037402068454501496, \"log2_bayes_factor\": -4.740738131786584, \"comparison_vector_value\": 0, \"max_comparison_vector_value\": 2, \"bayes_factor_description\": \"If comparison level is `all other comparisons` then comparison is  26.74 times less likely to be a match\", \"probability_two_random_records_match\": 0.006781357319075399, \"comparison_sort_order\": 4, \"iteration\": 4}, {\"comparison_name\": \"street_number\", \"sql_condition\": \"\\\"street_number_l\\\" = \\\"street_number_r\\\"\", \"label_for_charts\": \"Exact match\", \"m_probability\": 0.7680436170646157, \"u_probability\": 0.004643745865751094, \"m_probability_description\": \"Amongst matching record comparisons, 76.80% of records are in the exact match comparison level\", \"u_probability_description\": \"Amongst non-matching record comparisons, 0.46% of records are in the exact match comparison level\", \"has_tf_adjustments\": false, \"tf_adjustment_column\": null, \"tf_adjustment_weight\": 1.0, \"is_null_level\": false, \"bayes_factor\": 165.3931199657477, \"log2_bayes_factor\": 7.369755412205672, \"comparison_vector_value\": 2, \"max_comparison_vector_value\": 2, \"bayes_factor_description\": \"If comparison level is `exact match` then comparison is 165.39 times more likely to be a match\", \"probability_two_random_records_match\": 0.006781357319075399, \"comparison_sort_order\": 5, \"iteration\": 4}, {\"comparison_name\": \"street_number\", \"sql_condition\": \"jaro_winkler_similarity(\\\"street_number_l\\\", \\\"street_number_r\\\") >= 0.8333333333333334\", \"label_for_charts\": \"Jaro_winkler_similarity >= 0.8333333333333334\", \"m_probability\": 0.06565964922641164, \"u_probability\": 0.012708549889228378, \"m_probability_description\": \"Amongst matching record comparisons, 6.57% of records are in the jaro_winkler_similarity >= 0.8333333333333334 comparison level\", \"u_probability_description\": \"Amongst non-matching record comparisons, 1.27% of records are in the jaro_winkler_similarity >= 0.8333333333333334 comparison level\", \"has_tf_adjustments\": false, \"tf_adjustment_column\": null, \"tf_adjustment_weight\": 1.0, \"is_null_level\": false, \"bayes_factor\": 5.166572881935492, \"log2_bayes_factor\": 2.3692076217957982, \"comparison_vector_value\": 1, \"max_comparison_vector_value\": 2, \"bayes_factor_description\": \"If comparison level is `jaro_winkler_similarity >= 0.8333333333333334` then comparison is 5.17 times more likely to be a match\", \"probability_two_random_records_match\": 0.006781357319075399, \"comparison_sort_order\": 5, \"iteration\": 4}, {\"comparison_name\": \"street_number\", \"sql_condition\": \"ELSE\", \"label_for_charts\": \"All other comparisons\", \"m_probability\": 0.16629673370897272, \"u_probability\": 0.9826477042450206, \"m_probability_description\": \"Amongst matching record comparisons, 16.63% of records are in the all other comparisons comparison level\", \"u_probability_description\": \"Amongst non-matching record comparisons, 98.26% of records are in the all other comparisons comparison level\", \"has_tf_adjustments\": false, \"tf_adjustment_column\": null, \"tf_adjustment_weight\": 1.0, \"is_null_level\": false, \"bayes_factor\": 0.16923332033502322, \"log2_bayes_factor\": -2.562914446350112, \"comparison_vector_value\": 0, \"max_comparison_vector_value\": 2, \"bayes_factor_description\": \"If comparison level is `all other comparisons` then comparison is  5.91 times less likely to be a match\", \"probability_two_random_records_match\": 0.006781357319075399, \"comparison_sort_order\": 5, \"iteration\": 4}, {\"comparison_name\": \"street_name\", \"sql_condition\": \"\\\"street_name_l\\\" = \\\"street_name_r\\\"\", \"label_for_charts\": \"Exact match\", \"m_probability\": 0.7550964277761902, \"u_probability\": 0.0036909475444507293, \"m_probability_description\": \"Amongst matching record comparisons, 75.51% of records are in the exact match comparison level\", \"u_probability_description\": \"Amongst non-matching record comparisons, 0.37% of records are in the exact match comparison level\", \"has_tf_adjustments\": false, \"tf_adjustment_column\": null, \"tf_adjustment_weight\": 1.0, \"is_null_level\": false, \"bayes_factor\": 204.58064458582285, \"log2_bayes_factor\": 7.676525847658789, \"comparison_vector_value\": 2, \"max_comparison_vector_value\": 2, \"bayes_factor_description\": \"If comparison level is `exact match` then comparison is 204.58 times more likely to be a match\", \"probability_two_random_records_match\": 0.006781357319075399, \"comparison_sort_order\": 6, \"iteration\": 4}, {\"comparison_name\": \"street_name\", \"sql_condition\": \"jaro_winkler_similarity(\\\"street_name_l\\\", \\\"street_name_r\\\") >= 0.8333333333333334\", \"label_for_charts\": \"Jaro_winkler_similarity >= 0.8333333333333334\", \"m_probability\": 0.10689279283867414, \"u_probability\": 0.0018843912156014068, \"m_probability_description\": \"Amongst matching record comparisons, 10.69% of records are in the jaro_winkler_similarity >= 0.8333333333333334 comparison level\", \"u_probability_description\": \"Amongst non-matching record comparisons, 0.19% of records are in the jaro_winkler_similarity >= 0.8333333333333334 comparison level\", \"has_tf_adjustments\": false, \"tf_adjustment_column\": null, \"tf_adjustment_weight\": 1.0, \"is_null_level\": false, \"bayes_factor\": 56.72537207437529, \"log2_bayes_factor\": 5.825922261774761, \"comparison_vector_value\": 1, \"max_comparison_vector_value\": 2, \"bayes_factor_description\": \"If comparison level is `jaro_winkler_similarity >= 0.8333333333333334` then comparison is 56.73 times more likely to be a match\", \"probability_two_random_records_match\": 0.006781357319075399, \"comparison_sort_order\": 6, \"iteration\": 4}, {\"comparison_name\": \"street_name\", \"sql_condition\": \"ELSE\", \"label_for_charts\": \"All other comparisons\", \"m_probability\": 0.13801077938513556, \"u_probability\": 0.9944246612399479, \"m_probability_description\": \"Amongst matching record comparisons, 13.80% of records are in the all other comparisons comparison level\", \"u_probability_description\": \"Amongst non-matching record comparisons, 99.44% of records are in the all other comparisons comparison level\", \"has_tf_adjustments\": false, \"tf_adjustment_column\": null, \"tf_adjustment_weight\": 1.0, \"is_null_level\": false, \"bayes_factor\": 0.13878455026753858, \"log2_bayes_factor\": -2.849081121301144, \"comparison_vector_value\": 0, \"max_comparison_vector_value\": 2, \"bayes_factor_description\": \"If comparison level is `all other comparisons` then comparison is  7.21 times less likely to be a match\", \"probability_two_random_records_match\": 0.006781357319075399, \"comparison_sort_order\": 6, \"iteration\": 4}, {\"comparison_name\": \"unit_number\", \"sql_condition\": \"\\\"unit_number_l\\\" = \\\"unit_number_r\\\"\", \"label_for_charts\": \"Exact match\", \"m_probability\": 0.9104933467804481, \"u_probability\": 0.005427064313248123, \"m_probability_description\": \"Amongst matching record comparisons, 91.05% of records are in the exact match comparison level\", \"u_probability_description\": \"Amongst non-matching record comparisons, 0.54% of records are in the exact match comparison level\", \"has_tf_adjustments\": false, \"tf_adjustment_column\": null, \"tf_adjustment_weight\": 1.0, \"is_null_level\": false, \"bayes_factor\": 167.76903574881604, \"log2_bayes_factor\": 7.3903326594630085, \"comparison_vector_value\": 2, \"max_comparison_vector_value\": 2, \"bayes_factor_description\": \"If comparison level is `exact match` then comparison is 167.77 times more likely to be a match\", \"probability_two_random_records_match\": 0.006781357319075399, \"comparison_sort_order\": 7, \"iteration\": 4}, {\"comparison_name\": \"unit_number\", \"sql_condition\": \"jaro_winkler_similarity(\\\"unit_number_l\\\", \\\"unit_number_r\\\") >= 0.8333333333333334\", \"label_for_charts\": \"Jaro_winkler_similarity >= 0.8333333333333334\", \"m_probability\": 0.08430012923486946, \"u_probability\": 0.08399269628727937, \"m_probability_description\": \"Amongst matching record comparisons, 8.43% of records are in the jaro_winkler_similarity >= 0.8333333333333334 comparison level\", \"u_probability_description\": \"Amongst non-matching record comparisons, 8.40% of records are in the jaro_winkler_similarity >= 0.8333333333333334 comparison level\", \"has_tf_adjustments\": false, \"tf_adjustment_column\": null, \"tf_adjustment_weight\": 1.0, \"is_null_level\": false, \"bayes_factor\": 1.0036602342963081, \"log2_bayes_factor\": 0.005270961265159393, \"comparison_vector_value\": 1, \"max_comparison_vector_value\": 2, \"bayes_factor_description\": \"If comparison level is `jaro_winkler_similarity >= 0.8333333333333334` then comparison is 1.00 times more likely to be a match\", \"probability_two_random_records_match\": 0.006781357319075399, \"comparison_sort_order\": 7, \"iteration\": 4}, {\"comparison_name\": \"unit_number\", \"sql_condition\": \"ELSE\", \"label_for_charts\": \"All other comparisons\", \"m_probability\": 0.0052065239846823775, \"u_probability\": 0.9105802393994725, \"m_probability_description\": \"Amongst matching record comparisons, 0.52% of records are in the all other comparisons comparison level\", \"u_probability_description\": \"Amongst non-matching record comparisons, 91.06% of records are in the all other comparisons comparison level\", \"has_tf_adjustments\": false, \"tf_adjustment_column\": null, \"tf_adjustment_weight\": 1.0, \"is_null_level\": false, \"bayes_factor\": 0.005717809106110274, \"log2_bayes_factor\": -7.450321829482382, \"comparison_vector_value\": 0, \"max_comparison_vector_value\": 2, \"bayes_factor_description\": \"If comparison level is `all other comparisons` then comparison is  174.89 times less likely to be a match\", \"probability_two_random_records_match\": 0.006781357319075399, \"comparison_sort_order\": 7, \"iteration\": 4}, {\"comparison_name\": \"zipcode\", \"sql_condition\": \"\\\"zipcode_l\\\" = \\\"zipcode_r\\\"\", \"label_for_charts\": \"Exact match\", \"m_probability\": 0.9337798125968811, \"u_probability\": 0.9441587509332844, \"m_probability_description\": \"Amongst matching record comparisons, 93.38% of records are in the exact match comparison level\", \"u_probability_description\": \"Amongst non-matching record comparisons, 94.42% of records are in the exact match comparison level\", \"has_tf_adjustments\": false, \"tf_adjustment_column\": null, \"tf_adjustment_weight\": 1.0, \"is_null_level\": false, \"bayes_factor\": 0.9890072105711631, \"log2_bayes_factor\": -0.015947055584131394, \"comparison_vector_value\": 2, \"max_comparison_vector_value\": 2, \"bayes_factor_description\": \"If comparison level is `exact match` then comparison is  1.01 times less likely to be a match\", \"probability_two_random_records_match\": 0.006781357319075399, \"comparison_sort_order\": 8, \"iteration\": 4}, {\"comparison_name\": \"zipcode\", \"sql_condition\": \"jaro_winkler_similarity(\\\"zipcode_l\\\", \\\"zipcode_r\\\") >= 0.8333333333333334\", \"label_for_charts\": \"Jaro_winkler_similarity >= 0.8333333333333334\", \"m_probability\": 0.04812469477821798, \"u_probability\": 0.041136656606251085, \"m_probability_description\": \"Amongst matching record comparisons, 4.81% of records are in the jaro_winkler_similarity >= 0.8333333333333334 comparison level\", \"u_probability_description\": \"Amongst non-matching record comparisons, 4.11% of records are in the jaro_winkler_similarity >= 0.8333333333333334 comparison level\", \"has_tf_adjustments\": false, \"tf_adjustment_column\": null, \"tf_adjustment_weight\": 1.0, \"is_null_level\": false, \"bayes_factor\": 1.1698737512592357, \"log2_bayes_factor\": 0.22635284753539656, \"comparison_vector_value\": 1, \"max_comparison_vector_value\": 2, \"bayes_factor_description\": \"If comparison level is `jaro_winkler_similarity >= 0.8333333333333334` then comparison is 1.17 times more likely to be a match\", \"probability_two_random_records_match\": 0.006781357319075399, \"comparison_sort_order\": 8, \"iteration\": 4}, {\"comparison_name\": \"zipcode\", \"sql_condition\": \"ELSE\", \"label_for_charts\": \"All other comparisons\", \"m_probability\": 0.018095492624900993, \"u_probability\": 0.014704592460464516, \"m_probability_description\": \"Amongst matching record comparisons, 1.81% of records are in the all other comparisons comparison level\", \"u_probability_description\": \"Amongst non-matching record comparisons, 1.47% of records are in the all other comparisons comparison level\", \"has_tf_adjustments\": false, \"tf_adjustment_column\": null, \"tf_adjustment_weight\": 1.0, \"is_null_level\": false, \"bayes_factor\": 1.2306014378537464, \"log2_bayes_factor\": 0.29936358331973495, \"comparison_vector_value\": 0, \"max_comparison_vector_value\": 2, \"bayes_factor_description\": \"If comparison level is `all other comparisons` then comparison is 1.23 times more likely to be a match\", \"probability_two_random_records_match\": 0.006781357319075399, \"comparison_sort_order\": 8, \"iteration\": 4}, {\"comparison_name\": \"last_name_12\", \"sql_condition\": \"\\\"last_name_12_l\\\" = \\\"last_name_12_r\\\"\", \"label_for_charts\": \"Exact match\", \"m_probability\": 0.8607988022199504, \"u_probability\": 0.0007093232453578939, \"m_probability_description\": \"Amongst matching record comparisons, 86.08% of records are in the exact match comparison level\", \"u_probability_description\": \"Amongst non-matching record comparisons, 0.07% of records are in the exact match comparison level\", \"has_tf_adjustments\": false, \"tf_adjustment_column\": null, \"tf_adjustment_weight\": 1.0, \"is_null_level\": false, \"bayes_factor\": 1213.5494048071532, \"log2_bayes_factor\": 10.245017127901358, \"comparison_vector_value\": 2, \"max_comparison_vector_value\": 2, \"bayes_factor_description\": \"If comparison level is `exact match` then comparison is 1,213.55 times more likely to be a match\", \"probability_two_random_records_match\": 0.006781357319075399, \"comparison_sort_order\": 0, \"iteration\": 5}, {\"comparison_name\": \"last_name_12\", \"sql_condition\": \"jaro_winkler_similarity(\\\"last_name_12_l\\\", \\\"last_name_12_r\\\") >= 0.8333333333333334\", \"label_for_charts\": \"Jaro_winkler_similarity >= 0.8333333333333334\", \"m_probability\": 0.08862430552434403, \"u_probability\": 0.001329943668219914, \"m_probability_description\": \"Amongst matching record comparisons, 8.86% of records are in the jaro_winkler_similarity >= 0.8333333333333334 comparison level\", \"u_probability_description\": \"Amongst non-matching record comparisons, 0.13% of records are in the jaro_winkler_similarity >= 0.8333333333333334 comparison level\", \"has_tf_adjustments\": false, \"tf_adjustment_column\": null, \"tf_adjustment_weight\": 1.0, \"is_null_level\": false, \"bayes_factor\": 66.63763860236634, \"log2_bayes_factor\": 6.0582653725863675, \"comparison_vector_value\": 1, \"max_comparison_vector_value\": 2, \"bayes_factor_description\": \"If comparison level is `jaro_winkler_similarity >= 0.8333333333333334` then comparison is 66.64 times more likely to be a match\", \"probability_two_random_records_match\": 0.006781357319075399, \"comparison_sort_order\": 0, \"iteration\": 5}, {\"comparison_name\": \"last_name_12\", \"sql_condition\": \"ELSE\", \"label_for_charts\": \"All other comparisons\", \"m_probability\": 0.05057689225570559, \"u_probability\": 0.9979607330864222, \"m_probability_description\": \"Amongst matching record comparisons, 5.06% of records are in the all other comparisons comparison level\", \"u_probability_description\": \"Amongst non-matching record comparisons, 99.80% of records are in the all other comparisons comparison level\", \"has_tf_adjustments\": false, \"tf_adjustment_column\": null, \"tf_adjustment_weight\": 1.0, \"is_null_level\": false, \"bayes_factor\": 0.05068024279801567, \"log2_bayes_factor\": -4.302432753641423, \"comparison_vector_value\": 0, \"max_comparison_vector_value\": 2, \"bayes_factor_description\": \"If comparison level is `all other comparisons` then comparison is  19.73 times less likely to be a match\", \"probability_two_random_records_match\": 0.006781357319075399, \"comparison_sort_order\": 0, \"iteration\": 5}, {\"comparison_name\": \"middle_initial\", \"sql_condition\": \"\\\"middle_initial_l\\\" = \\\"middle_initial_r\\\"\", \"label_for_charts\": \"Exact match\", \"m_probability\": 0.9308986179634928, \"u_probability\": 0.07410500870140878, \"m_probability_description\": \"Amongst matching record comparisons, 93.09% of records are in the exact match comparison level\", \"u_probability_description\": \"Amongst non-matching record comparisons, 7.41% of records are in the exact match comparison level\", \"has_tf_adjustments\": false, \"tf_adjustment_column\": null, \"tf_adjustment_weight\": 1.0, \"is_null_level\": false, \"bayes_factor\": 12.561885279770515, \"log2_bayes_factor\": 3.6509810941221716, \"comparison_vector_value\": 1, \"max_comparison_vector_value\": 1, \"bayes_factor_description\": \"If comparison level is `exact match` then comparison is 12.56 times more likely to be a match\", \"probability_two_random_records_match\": 0.006781357319075399, \"comparison_sort_order\": 1, \"iteration\": 5}, {\"comparison_name\": \"middle_initial\", \"sql_condition\": \"ELSE\", \"label_for_charts\": \"All other comparisons\", \"m_probability\": 0.06910138203650706, \"u_probability\": 0.9258949912985912, \"m_probability_description\": \"Amongst matching record comparisons, 6.91% of records are in the all other comparisons comparison level\", \"u_probability_description\": \"Amongst non-matching record comparisons, 92.59% of records are in the all other comparisons comparison level\", \"has_tf_adjustments\": false, \"tf_adjustment_column\": null, \"tf_adjustment_weight\": 1.0, \"is_null_level\": false, \"bayes_factor\": 0.07463198600911602, \"log2_bayes_factor\": -3.7440621120206714, \"comparison_vector_value\": 0, \"max_comparison_vector_value\": 1, \"bayes_factor_description\": \"If comparison level is `all other comparisons` then comparison is  13.40 times less likely to be a match\", \"probability_two_random_records_match\": 0.006781357319075399, \"comparison_sort_order\": 1, \"iteration\": 5}, {\"comparison_name\": \"day_of_birth\", \"sql_condition\": \"\\\"day_of_birth_l\\\" = \\\"day_of_birth_r\\\"\", \"label_for_charts\": \"Exact match\", \"m_probability\": 0.9561054692920051, \"u_probability\": 0.03243028785148898, \"m_probability_description\": \"Amongst matching record comparisons, 95.61% of records are in the exact match comparison level\", \"u_probability_description\": \"Amongst non-matching record comparisons, 3.24% of records are in the exact match comparison level\", \"has_tf_adjustments\": false, \"tf_adjustment_column\": null, \"tf_adjustment_weight\": 1.0, \"is_null_level\": false, \"bayes_factor\": 29.48186811262322, \"log2_bayes_factor\": 4.881756038296864, \"comparison_vector_value\": 2, \"max_comparison_vector_value\": 2, \"bayes_factor_description\": \"If comparison level is `exact match` then comparison is 29.48 times more likely to be a match\", \"probability_two_random_records_match\": 0.006781357319075399, \"comparison_sort_order\": 2, \"iteration\": 5}, {\"comparison_name\": \"day_of_birth\", \"sql_condition\": \"abs(day_of_birth_l - day_of_birth_r) <= 5\", \"label_for_charts\": \"Inexact match\", \"m_probability\": 0.021104587117653634, \"u_probability\": 0.295173345919013, \"m_probability_description\": \"Amongst matching record comparisons, 2.11% of records are in the inexact match comparison level\", \"u_probability_description\": \"Amongst non-matching record comparisons, 29.52% of records are in the inexact match comparison level\", \"has_tf_adjustments\": false, \"tf_adjustment_column\": null, \"tf_adjustment_weight\": 1.0, \"is_null_level\": false, \"bayes_factor\": 0.07149895954170646, \"log2_bayes_factor\": -3.805933941938832, \"comparison_vector_value\": 1, \"max_comparison_vector_value\": 2, \"bayes_factor_description\": \"If comparison level is `inexact match` then comparison is  13.99 times less likely to be a match\", \"probability_two_random_records_match\": 0.006781357319075399, \"comparison_sort_order\": 2, \"iteration\": 5}, {\"comparison_name\": \"day_of_birth\", \"sql_condition\": \"ELSE\", \"label_for_charts\": \"All other comparisons\", \"m_probability\": 0.022789943590341227, \"u_probability\": 0.672396366229498, \"m_probability_description\": \"Amongst matching record comparisons, 2.28% of records are in the all other comparisons comparison level\", \"u_probability_description\": \"Amongst non-matching record comparisons, 67.24% of records are in the all other comparisons comparison level\", \"has_tf_adjustments\": false, \"tf_adjustment_column\": null, \"tf_adjustment_weight\": 1.0, \"is_null_level\": false, \"bayes_factor\": 0.03389361503860761, \"log2_bayes_factor\": -4.882842669207497, \"comparison_vector_value\": 0, \"max_comparison_vector_value\": 2, \"bayes_factor_description\": \"If comparison level is `all other comparisons` then comparison is  29.50 times less likely to be a match\", \"probability_two_random_records_match\": 0.006781357319075399, \"comparison_sort_order\": 2, \"iteration\": 5}, {\"comparison_name\": \"month_of_birth\", \"sql_condition\": \"\\\"month_of_birth_l\\\" = \\\"month_of_birth_r\\\"\", \"label_for_charts\": \"Exact match\", \"m_probability\": 0.9676622168918211, \"u_probability\": 0.08355145831969693, \"m_probability_description\": \"Amongst matching record comparisons, 96.77% of records are in the exact match comparison level\", \"u_probability_description\": \"Amongst non-matching record comparisons, 8.36% of records are in the exact match comparison level\", \"has_tf_adjustments\": false, \"tf_adjustment_column\": null, \"tf_adjustment_weight\": 1.0, \"is_null_level\": false, \"bayes_factor\": 11.58163168366504, \"log2_bayes_factor\": 3.5337666173078035, \"comparison_vector_value\": 2, \"max_comparison_vector_value\": 2, \"bayes_factor_description\": \"If comparison level is `exact match` then comparison is 11.58 times more likely to be a match\", \"probability_two_random_records_match\": 0.006781357319075399, \"comparison_sort_order\": 3, \"iteration\": 5}, {\"comparison_name\": \"month_of_birth\", \"sql_condition\": \"abs(month_of_birth_l - month_of_birth_r) <= 3\", \"label_for_charts\": \"Inexact match\", \"m_probability\": 0.016076477131020117, \"u_probability\": 0.4143133397869391, \"m_probability_description\": \"Amongst matching record comparisons, 1.61% of records are in the inexact match comparison level\", \"u_probability_description\": \"Amongst non-matching record comparisons, 41.43% of records are in the inexact match comparison level\", \"has_tf_adjustments\": false, \"tf_adjustment_column\": null, \"tf_adjustment_weight\": 1.0, \"is_null_level\": false, \"bayes_factor\": 0.03880270217533294, \"log2_bayes_factor\": -4.687699066248695, \"comparison_vector_value\": 1, \"max_comparison_vector_value\": 2, \"bayes_factor_description\": \"If comparison level is `inexact match` then comparison is  25.77 times less likely to be a match\", \"probability_two_random_records_match\": 0.006781357319075399, \"comparison_sort_order\": 3, \"iteration\": 5}, {\"comparison_name\": \"month_of_birth\", \"sql_condition\": \"ELSE\", \"label_for_charts\": \"All other comparisons\", \"m_probability\": 0.016261305977158844, \"u_probability\": 0.5021352018933639, \"m_probability_description\": \"Amongst matching record comparisons, 1.63% of records are in the all other comparisons comparison level\", \"u_probability_description\": \"Amongst non-matching record comparisons, 50.21% of records are in the all other comparisons comparison level\", \"has_tf_adjustments\": false, \"tf_adjustment_column\": null, \"tf_adjustment_weight\": 1.0, \"is_null_level\": false, \"bayes_factor\": 0.032384317840779824, \"log2_bayes_factor\": -4.948560835011948, \"comparison_vector_value\": 0, \"max_comparison_vector_value\": 2, \"bayes_factor_description\": \"If comparison level is `all other comparisons` then comparison is  30.88 times less likely to be a match\", \"probability_two_random_records_match\": 0.006781357319075399, \"comparison_sort_order\": 3, \"iteration\": 5}, {\"comparison_name\": \"year_of_birth\", \"sql_condition\": \"\\\"year_of_birth_l\\\" = \\\"year_of_birth_r\\\"\", \"label_for_charts\": \"Exact match\", \"m_probability\": 0.9524025364153174, \"u_probability\": 0.011125465216557518, \"m_probability_description\": \"Amongst matching record comparisons, 95.24% of records are in the exact match comparison level\", \"u_probability_description\": \"Amongst non-matching record comparisons, 1.11% of records are in the exact match comparison level\", \"has_tf_adjustments\": false, \"tf_adjustment_column\": null, \"tf_adjustment_weight\": 1.0, \"is_null_level\": false, \"bayes_factor\": 85.60563696679402, \"log2_bayes_factor\": 6.4196338933395, \"comparison_vector_value\": 2, \"max_comparison_vector_value\": 2, \"bayes_factor_description\": \"If comparison level is `exact match` then comparison is 85.61 times more likely to be a match\", \"probability_two_random_records_match\": 0.006781357319075399, \"comparison_sort_order\": 4, \"iteration\": 5}, {\"comparison_name\": \"year_of_birth\", \"sql_condition\": \"abs(year_of_birth_l - year_of_birth_r) <= 5\", \"label_for_charts\": \"Inexact match\", \"m_probability\": 0.014736428226579243, \"u_probability\": 0.11053660239472413, \"m_probability_description\": \"Amongst matching record comparisons, 1.47% of records are in the inexact match comparison level\", \"u_probability_description\": \"Amongst non-matching record comparisons, 11.05% of records are in the inexact match comparison level\", \"has_tf_adjustments\": false, \"tf_adjustment_column\": null, \"tf_adjustment_weight\": 1.0, \"is_null_level\": false, \"bayes_factor\": 0.13331718098187725, \"log2_bayes_factor\": -2.9070653780756195, \"comparison_vector_value\": 1, \"max_comparison_vector_value\": 2, \"bayes_factor_description\": \"If comparison level is `inexact match` then comparison is  7.50 times less likely to be a match\", \"probability_two_random_records_match\": 0.006781357319075399, \"comparison_sort_order\": 4, \"iteration\": 5}, {\"comparison_name\": \"year_of_birth\", \"sql_condition\": \"ELSE\", \"label_for_charts\": \"All other comparisons\", \"m_probability\": 0.032861035358103405, \"u_probability\": 0.8783379323887184, \"m_probability_description\": \"Amongst matching record comparisons, 3.29% of records are in the all other comparisons comparison level\", \"u_probability_description\": \"Amongst non-matching record comparisons, 87.83% of records are in the all other comparisons comparison level\", \"has_tf_adjustments\": false, \"tf_adjustment_column\": null, \"tf_adjustment_weight\": 1.0, \"is_null_level\": false, \"bayes_factor\": 0.0374127475842184, \"log2_bayes_factor\": -4.7403262687785865, \"comparison_vector_value\": 0, \"max_comparison_vector_value\": 2, \"bayes_factor_description\": \"If comparison level is `all other comparisons` then comparison is  26.73 times less likely to be a match\", \"probability_two_random_records_match\": 0.006781357319075399, \"comparison_sort_order\": 4, \"iteration\": 5}, {\"comparison_name\": \"street_number\", \"sql_condition\": \"\\\"street_number_l\\\" = \\\"street_number_r\\\"\", \"label_for_charts\": \"Exact match\", \"m_probability\": 0.7680456495554255, \"u_probability\": 0.004643745865751094, \"m_probability_description\": \"Amongst matching record comparisons, 76.80% of records are in the exact match comparison level\", \"u_probability_description\": \"Amongst non-matching record comparisons, 0.46% of records are in the exact match comparison level\", \"has_tf_adjustments\": false, \"tf_adjustment_column\": null, \"tf_adjustment_weight\": 1.0, \"is_null_level\": false, \"bayes_factor\": 165.3935576492189, \"log2_bayes_factor\": 7.369759230036414, \"comparison_vector_value\": 2, \"max_comparison_vector_value\": 2, \"bayes_factor_description\": \"If comparison level is `exact match` then comparison is 165.39 times more likely to be a match\", \"probability_two_random_records_match\": 0.006781357319075399, \"comparison_sort_order\": 5, \"iteration\": 5}, {\"comparison_name\": \"street_number\", \"sql_condition\": \"jaro_winkler_similarity(\\\"street_number_l\\\", \\\"street_number_r\\\") >= 0.8333333333333334\", \"label_for_charts\": \"Jaro_winkler_similarity >= 0.8333333333333334\", \"m_probability\": 0.06565855039131124, \"u_probability\": 0.012708549889228378, \"m_probability_description\": \"Amongst matching record comparisons, 6.57% of records are in the jaro_winkler_similarity >= 0.8333333333333334 comparison level\", \"u_probability_description\": \"Amongst non-matching record comparisons, 1.27% of records are in the jaro_winkler_similarity >= 0.8333333333333334 comparison level\", \"has_tf_adjustments\": false, \"tf_adjustment_column\": null, \"tf_adjustment_weight\": 1.0, \"is_null_level\": false, \"bayes_factor\": 5.166486417696065, \"log2_bayes_factor\": 2.369183477633683, \"comparison_vector_value\": 1, \"max_comparison_vector_value\": 2, \"bayes_factor_description\": \"If comparison level is `jaro_winkler_similarity >= 0.8333333333333334` then comparison is 5.17 times more likely to be a match\", \"probability_two_random_records_match\": 0.006781357319075399, \"comparison_sort_order\": 5, \"iteration\": 5}, {\"comparison_name\": \"street_number\", \"sql_condition\": \"ELSE\", \"label_for_charts\": \"All other comparisons\", \"m_probability\": 0.16629580005326322, \"u_probability\": 0.9826477042450206, \"m_probability_description\": \"Amongst matching record comparisons, 16.63% of records are in the all other comparisons comparison level\", \"u_probability_description\": \"Amongst non-matching record comparisons, 98.26% of records are in the all other comparisons comparison level\", \"has_tf_adjustments\": false, \"tf_adjustment_column\": null, \"tf_adjustment_weight\": 1.0, \"is_null_level\": false, \"bayes_factor\": 0.16923237019215365, \"log2_bayes_factor\": -2.5629225462340557, \"comparison_vector_value\": 0, \"max_comparison_vector_value\": 2, \"bayes_factor_description\": \"If comparison level is `all other comparisons` then comparison is  5.91 times less likely to be a match\", \"probability_two_random_records_match\": 0.006781357319075399, \"comparison_sort_order\": 5, \"iteration\": 5}, {\"comparison_name\": \"street_name\", \"sql_condition\": \"\\\"street_name_l\\\" = \\\"street_name_r\\\"\", \"label_for_charts\": \"Exact match\", \"m_probability\": 0.7550959781953346, \"u_probability\": 0.0036909475444507293, \"m_probability_description\": \"Amongst matching record comparisons, 75.51% of records are in the exact match comparison level\", \"u_probability_description\": \"Amongst non-matching record comparisons, 0.37% of records are in the exact match comparison level\", \"has_tf_adjustments\": false, \"tf_adjustment_column\": null, \"tf_adjustment_weight\": 1.0, \"is_null_level\": false, \"bayes_factor\": 204.5805227794709, \"log2_bayes_factor\": 7.676524988684703, \"comparison_vector_value\": 2, \"max_comparison_vector_value\": 2, \"bayes_factor_description\": \"If comparison level is `exact match` then comparison is 204.58 times more likely to be a match\", \"probability_two_random_records_match\": 0.006781357319075399, \"comparison_sort_order\": 6, \"iteration\": 5}, {\"comparison_name\": \"street_name\", \"sql_condition\": \"jaro_winkler_similarity(\\\"street_name_l\\\", \\\"street_name_r\\\") >= 0.8333333333333334\", \"label_for_charts\": \"Jaro_winkler_similarity >= 0.8333333333333334\", \"m_probability\": 0.10689245429607572, \"u_probability\": 0.0018843912156014068, \"m_probability_description\": \"Amongst matching record comparisons, 10.69% of records are in the jaro_winkler_similarity >= 0.8333333333333334 comparison level\", \"u_probability_description\": \"Amongst non-matching record comparisons, 0.19% of records are in the jaro_winkler_similarity >= 0.8333333333333334 comparison level\", \"has_tf_adjustments\": false, \"tf_adjustment_column\": null, \"tf_adjustment_weight\": 1.0, \"is_null_level\": false, \"bayes_factor\": 56.72519241815761, \"log2_bayes_factor\": 5.825917692575207, \"comparison_vector_value\": 1, \"max_comparison_vector_value\": 2, \"bayes_factor_description\": \"If comparison level is `jaro_winkler_similarity >= 0.8333333333333334` then comparison is 56.73 times more likely to be a match\", \"probability_two_random_records_match\": 0.006781357319075399, \"comparison_sort_order\": 6, \"iteration\": 5}, {\"comparison_name\": \"street_name\", \"sql_condition\": \"ELSE\", \"label_for_charts\": \"All other comparisons\", \"m_probability\": 0.13801156750858987, \"u_probability\": 0.9944246612399479, \"m_probability_description\": \"Amongst matching record comparisons, 13.80% of records are in the all other comparisons comparison level\", \"u_probability_description\": \"Amongst non-matching record comparisons, 99.44% of records are in the all other comparisons comparison level\", \"has_tf_adjustments\": false, \"tf_adjustment_column\": null, \"tf_adjustment_weight\": 1.0, \"is_null_level\": false, \"bayes_factor\": 0.13878534280968383, \"log2_bayes_factor\": -2.8490728826798013, \"comparison_vector_value\": 0, \"max_comparison_vector_value\": 2, \"bayes_factor_description\": \"If comparison level is `all other comparisons` then comparison is  7.21 times less likely to be a match\", \"probability_two_random_records_match\": 0.006781357319075399, \"comparison_sort_order\": 6, \"iteration\": 5}, {\"comparison_name\": \"unit_number\", \"sql_condition\": \"\\\"unit_number_l\\\" = \\\"unit_number_r\\\"\", \"label_for_charts\": \"Exact match\", \"m_probability\": 0.9104920486392204, \"u_probability\": 0.005427064313248123, \"m_probability_description\": \"Amongst matching record comparisons, 91.05% of records are in the exact match comparison level\", \"u_probability_description\": \"Amongst non-matching record comparisons, 0.54% of records are in the exact match comparison level\", \"has_tf_adjustments\": false, \"tf_adjustment_column\": null, \"tf_adjustment_weight\": 1.0, \"is_null_level\": false, \"bayes_factor\": 167.7687965511296, \"log2_bayes_factor\": 7.390330602530629, \"comparison_vector_value\": 2, \"max_comparison_vector_value\": 2, \"bayes_factor_description\": \"If comparison level is `exact match` then comparison is 167.77 times more likely to be a match\", \"probability_two_random_records_match\": 0.006781357319075399, \"comparison_sort_order\": 7, \"iteration\": 5}, {\"comparison_name\": \"unit_number\", \"sql_condition\": \"jaro_winkler_similarity(\\\"unit_number_l\\\", \\\"unit_number_r\\\") >= 0.8333333333333334\", \"label_for_charts\": \"Jaro_winkler_similarity >= 0.8333333333333334\", \"m_probability\": 0.0843014506908839, \"u_probability\": 0.08399269628727937, \"m_probability_description\": \"Amongst matching record comparisons, 8.43% of records are in the jaro_winkler_similarity >= 0.8333333333333334 comparison level\", \"u_probability_description\": \"Amongst non-matching record comparisons, 8.40% of records are in the jaro_winkler_similarity >= 0.8333333333333334 comparison level\", \"has_tf_adjustments\": false, \"tf_adjustment_column\": null, \"tf_adjustment_weight\": 1.0, \"is_null_level\": false, \"bayes_factor\": 1.0036759672834945, \"log2_bayes_factor\": 0.005293576213840894, \"comparison_vector_value\": 1, \"max_comparison_vector_value\": 2, \"bayes_factor_description\": \"If comparison level is `jaro_winkler_similarity >= 0.8333333333333334` then comparison is 1.00 times more likely to be a match\", \"probability_two_random_records_match\": 0.006781357319075399, \"comparison_sort_order\": 7, \"iteration\": 5}, {\"comparison_name\": \"unit_number\", \"sql_condition\": \"ELSE\", \"label_for_charts\": \"All other comparisons\", \"m_probability\": 0.005206500669895751, \"u_probability\": 0.9105802393994725, \"m_probability_description\": \"Amongst matching record comparisons, 0.52% of records are in the all other comparisons comparison level\", \"u_probability_description\": \"Amongst non-matching record comparisons, 91.06% of records are in the all other comparisons comparison level\", \"has_tf_adjustments\": false, \"tf_adjustment_column\": null, \"tf_adjustment_weight\": 1.0, \"is_null_level\": false, \"bayes_factor\": 0.005717783501791602, \"log2_bayes_factor\": -7.450328289877543, \"comparison_vector_value\": 0, \"max_comparison_vector_value\": 2, \"bayes_factor_description\": \"If comparison level is `all other comparisons` then comparison is  174.89 times less likely to be a match\", \"probability_two_random_records_match\": 0.006781357319075399, \"comparison_sort_order\": 7, \"iteration\": 5}, {\"comparison_name\": \"zipcode\", \"sql_condition\": \"\\\"zipcode_l\\\" = \\\"zipcode_r\\\"\", \"label_for_charts\": \"Exact match\", \"m_probability\": 0.9337796204685026, \"u_probability\": 0.9441587509332844, \"m_probability_description\": \"Amongst matching record comparisons, 93.38% of records are in the exact match comparison level\", \"u_probability_description\": \"Amongst non-matching record comparisons, 94.42% of records are in the exact match comparison level\", \"has_tf_adjustments\": false, \"tf_adjustment_column\": null, \"tf_adjustment_weight\": 1.0, \"is_null_level\": false, \"bayes_factor\": 0.9890070070795592, \"log2_bayes_factor\": -0.015947352423582993, \"comparison_vector_value\": 2, \"max_comparison_vector_value\": 2, \"bayes_factor_description\": \"If comparison level is `exact match` then comparison is  1.01 times less likely to be a match\", \"probability_two_random_records_match\": 0.006781357319075399, \"comparison_sort_order\": 8, \"iteration\": 5}, {\"comparison_name\": \"zipcode\", \"sql_condition\": \"jaro_winkler_similarity(\\\"zipcode_l\\\", \\\"zipcode_r\\\") >= 0.8333333333333334\", \"label_for_charts\": \"Jaro_winkler_similarity >= 0.8333333333333334\", \"m_probability\": 0.048125371489702466, \"u_probability\": 0.041136656606251085, \"m_probability_description\": \"Amongst matching record comparisons, 4.81% of records are in the jaro_winkler_similarity >= 0.8333333333333334 comparison level\", \"u_probability_description\": \"Amongst non-matching record comparisons, 4.11% of records are in the jaro_winkler_similarity >= 0.8333333333333334 comparison level\", \"has_tf_adjustments\": false, \"tf_adjustment_column\": null, \"tf_adjustment_weight\": 1.0, \"is_null_level\": false, \"bayes_factor\": 1.1698902015870045, \"log2_bayes_factor\": 0.22637313403161738, \"comparison_vector_value\": 1, \"max_comparison_vector_value\": 2, \"bayes_factor_description\": \"If comparison level is `jaro_winkler_similarity >= 0.8333333333333334` then comparison is 1.17 times more likely to be a match\", \"probability_two_random_records_match\": 0.006781357319075399, \"comparison_sort_order\": 8, \"iteration\": 5}, {\"comparison_name\": \"zipcode\", \"sql_condition\": \"ELSE\", \"label_for_charts\": \"All other comparisons\", \"m_probability\": 0.01809500804179497, \"u_probability\": 0.014704592460464516, \"m_probability_description\": \"Amongst matching record comparisons, 1.81% of records are in the all other comparisons comparison level\", \"u_probability_description\": \"Amongst non-matching record comparisons, 1.47% of records are in the all other comparisons comparison level\", \"has_tf_adjustments\": false, \"tf_adjustment_column\": null, \"tf_adjustment_weight\": 1.0, \"is_null_level\": false, \"bayes_factor\": 1.2305684833120054, \"log2_bayes_factor\": 0.29932494856027486, \"comparison_vector_value\": 0, \"max_comparison_vector_value\": 2, \"bayes_factor_description\": \"If comparison level is `all other comparisons` then comparison is 1.23 times more likely to be a match\", \"probability_two_random_records_match\": 0.006781357319075399, \"comparison_sort_order\": 8, \"iteration\": 5}]}}, {\"mode\": \"vega-lite\"});\n",
       "</script>"
      ],
      "text/plain": [
       "alt.HConcatChart(...)"
      ]
     },
     "execution_count": 39,
     "metadata": {},
     "output_type": "execute_result"
    }
   ],
   "source": [
    "em_session_1.m_u_values_interactive_history_chart()"
   ]
  },
  {
   "cell_type": "code",
   "execution_count": 40,
   "id": "13eae59d-f450-46df-99b6-79b2a8dfae6f",
   "metadata": {
    "execution": {
     "iopub.execute_input": "2023-12-01T17:58:03.210057Z",
     "iopub.status.busy": "2023-12-01T17:58:03.209848Z",
     "iopub.status.idle": "2023-12-01T17:58:05.159192Z",
     "shell.execute_reply": "2023-12-01T17:58:05.158377Z"
    },
    "papermill": {
     "duration": 1.970991,
     "end_time": "2023-12-01T17:58:05.160248",
     "exception": false,
     "start_time": "2023-12-01T17:58:03.189257",
     "status": "completed"
    },
    "tags": []
   },
   "outputs": [
    {
     "data": {
      "text/html": [
       "\n",
       "<style>\n",
       "  #altair-viz-5732a1d767624b25ae405ebbd90951b8.vega-embed {\n",
       "    width: 100%;\n",
       "    display: flex;\n",
       "  }\n",
       "\n",
       "  #altair-viz-5732a1d767624b25ae405ebbd90951b8.vega-embed details,\n",
       "  #altair-viz-5732a1d767624b25ae405ebbd90951b8.vega-embed details summary {\n",
       "    position: relative;\n",
       "  }\n",
       "</style>\n",
       "<div id=\"altair-viz-5732a1d767624b25ae405ebbd90951b8\"></div>\n",
       "<script type=\"text/javascript\">\n",
       "  var VEGA_DEBUG = (typeof VEGA_DEBUG == \"undefined\") ? {} : VEGA_DEBUG;\n",
       "  (function(spec, embedOpt){\n",
       "    let outputDiv = document.currentScript.previousElementSibling;\n",
       "    if (outputDiv.id !== \"altair-viz-5732a1d767624b25ae405ebbd90951b8\") {\n",
       "      outputDiv = document.getElementById(\"altair-viz-5732a1d767624b25ae405ebbd90951b8\");\n",
       "    }\n",
       "    const paths = {\n",
       "      \"vega\": \"https://cdn.jsdelivr.net/npm/vega@5?noext\",\n",
       "      \"vega-lib\": \"https://cdn.jsdelivr.net/npm/vega-lib?noext\",\n",
       "      \"vega-lite\": \"https://cdn.jsdelivr.net/npm/vega-lite@5.15.1?noext\",\n",
       "      \"vega-embed\": \"https://cdn.jsdelivr.net/npm/vega-embed@6?noext\",\n",
       "    };\n",
       "\n",
       "    function maybeLoadScript(lib, version) {\n",
       "      var key = `${lib.replace(\"-\", \"\")}_version`;\n",
       "      return (VEGA_DEBUG[key] == version) ?\n",
       "        Promise.resolve(paths[lib]) :\n",
       "        new Promise(function(resolve, reject) {\n",
       "          var s = document.createElement('script');\n",
       "          document.getElementsByTagName(\"head\")[0].appendChild(s);\n",
       "          s.async = true;\n",
       "          s.onload = () => {\n",
       "            VEGA_DEBUG[key] = version;\n",
       "            return resolve(paths[lib]);\n",
       "          };\n",
       "          s.onerror = () => reject(`Error loading script: ${paths[lib]}`);\n",
       "          s.src = paths[lib];\n",
       "        });\n",
       "    }\n",
       "\n",
       "    function showError(err) {\n",
       "      outputDiv.innerHTML = `<div class=\"error\" style=\"color:red;\">${err}</div>`;\n",
       "      throw err;\n",
       "    }\n",
       "\n",
       "    function displayChart(vegaEmbed) {\n",
       "      vegaEmbed(outputDiv, spec, embedOpt)\n",
       "        .catch(err => showError(`Javascript Error: ${err.message}<br>This usually means there's a typo in your chart specification. See the javascript console for the full traceback.`));\n",
       "    }\n",
       "\n",
       "    if(typeof define === \"function\" && define.amd) {\n",
       "      requirejs.config({paths});\n",
       "      require([\"vega-embed\"], displayChart, err => showError(`Error loading script: ${err.message}`));\n",
       "    } else {\n",
       "      maybeLoadScript(\"vega\", \"5\")\n",
       "        .then(() => maybeLoadScript(\"vega-lite\", \"5.15.1\"))\n",
       "        .then(() => maybeLoadScript(\"vega-embed\", \"6\"))\n",
       "        .catch(showError)\n",
       "        .then(() => displayChart(vegaEmbed));\n",
       "    }\n",
       "  })({\"config\": {\"view\": {\"continuousWidth\": 300, \"continuousHeight\": 300, \"discreteHeight\": 60, \"discreteWidth\": 400}, \"header\": {\"title\": null}, \"mark\": {\"tooltip\": null}, \"title\": {\"anchor\": \"middle\"}}, \"vconcat\": [{\"mark\": {\"type\": \"bar\", \"clip\": true, \"height\": 15}, \"encoding\": {\"color\": {\"field\": \"log2_bayes_factor\", \"scale\": {\"domain\": [-10, 0, 10], \"interpolate\": \"lab\", \"range\": [\"red\", \"#bbbbbb\", \"green\"]}, \"title\": \"Match weight\", \"type\": \"quantitative\"}, \"tooltip\": [{\"field\": \"comparison_name\", \"title\": \"Comparison name\", \"type\": \"nominal\"}, {\"field\": \"probability_two_random_records_match\", \"format\": \".4f\", \"title\": \"Probability two random records match\", \"type\": \"nominal\"}, {\"field\": \"log2_bayes_factor\", \"format\": \",.4f\", \"title\": \"Equivalent match weight\", \"type\": \"quantitative\"}, {\"field\": \"bayes_factor_description\", \"title\": \"Match weight description\", \"type\": \"nominal\"}], \"x\": {\"axis\": {\"domain\": false, \"gridColor\": {\"condition\": {\"test\": \"abs(datum.value / 10)  <= 1 & datum.value % 10 === 0\", \"value\": \"#aaa\"}, \"value\": \"#ddd\"}, \"gridDash\": {\"condition\": {\"test\": \"abs(datum.value / 10) == 1\", \"value\": [3]}, \"value\": null}, \"gridWidth\": {\"condition\": {\"test\": \"abs(datum.value / 10)  <= 1 & datum.value % 10 === 0\", \"value\": 2}, \"value\": 1}, \"labels\": false, \"ticks\": false, \"title\": \"\"}, \"field\": \"log2_bayes_factor\", \"scale\": {\"domain\": [-10, 10]}, \"type\": \"quantitative\"}, \"y\": {\"axis\": {\"title\": \"Prior (starting) match weight\", \"titleAlign\": \"right\", \"titleAngle\": 0, \"titleFontWeight\": \"normal\"}, \"field\": \"label_for_charts\", \"sort\": {\"field\": \"comparison_vector_value\", \"order\": \"descending\"}, \"type\": \"nominal\"}}, \"height\": 20, \"transform\": [{\"filter\": \"(datum.comparison_name == 'probability_two_random_records_match')\"}]}, {\"mark\": {\"type\": \"bar\", \"clip\": true}, \"encoding\": {\"color\": {\"field\": \"log2_bayes_factor\", \"scale\": {\"domain\": [-10, 0, 10], \"interpolate\": \"lab\", \"range\": [\"red\", \"#bbbbbb\", \"green\"]}, \"title\": \"Match weight\", \"type\": \"quantitative\"}, \"row\": {\"field\": \"comparison_name\", \"header\": {\"labelAlign\": \"left\", \"labelAnchor\": \"middle\", \"labelAngle\": 0}, \"sort\": {\"field\": \"comparison_sort_order\"}, \"type\": \"nominal\"}, \"tooltip\": [{\"field\": \"comparison_name\", \"title\": \"Comparison name\", \"type\": \"nominal\"}, {\"field\": \"label_for_charts\", \"title\": \"Label\", \"type\": \"ordinal\"}, {\"field\": \"sql_condition\", \"title\": \"SQL condition\", \"type\": \"nominal\"}, {\"field\": \"m_probability\", \"format\": \".4f\", \"title\": \"M probability\", \"type\": \"quantitative\"}, {\"field\": \"u_probability\", \"format\": \".4f\", \"title\": \"U probability\", \"type\": \"quantitative\"}, {\"field\": \"bayes_factor\", \"format\": \",.4f\", \"title\": \"Bayes factor = m/u\", \"type\": \"quantitative\"}, {\"field\": \"log2_bayes_factor\", \"format\": \",.4f\", \"title\": \"Match weight = log2(m/u)\", \"type\": \"quantitative\"}, {\"field\": \"bayes_factor_description\", \"title\": \"Match weight description\", \"type\": \"nominal\"}], \"x\": {\"axis\": {\"gridColor\": {\"condition\": {\"test\": \"abs(datum.value / 10)  <= 1 & datum.value % 10 === 0\", \"value\": \"#aaa\"}, \"value\": \"#ddd\"}, \"gridDash\": {\"condition\": {\"test\": \"abs(datum.value / 10) == 1\", \"value\": [3]}, \"value\": null}, \"gridWidth\": {\"condition\": {\"test\": \"abs(datum.value / 10)  <= 1 & datum.value % 10 === 0\", \"value\": 2}, \"value\": 1}, \"title\": \"Comparison level match weight = log2(m/u)\"}, \"field\": \"log2_bayes_factor\", \"scale\": {\"domain\": [-10, 10]}, \"type\": \"quantitative\"}, \"y\": {\"axis\": {\"title\": null}, \"field\": \"label_for_charts\", \"sort\": {\"field\": \"comparison_vector_value\", \"order\": \"descending\"}, \"type\": \"nominal\"}}, \"height\": {\"step\": 12}, \"resolve\": {\"axis\": {\"y\": \"independent\"}, \"scale\": {\"y\": \"independent\"}}, \"transform\": [{\"filter\": \"(datum.comparison_name != 'probability_two_random_records_match')\"}]}], \"data\": {\"name\": \"data-a34fc2d233da243744b6473a74c00beb\"}, \"params\": [{\"name\": \"iteration_number\", \"bind\": {\"input\": \"range\", \"max\": 5, \"min\": 0, \"step\": 1}, \"value\": 5}, {\"name\": \"mouse_zoom\", \"select\": {\"type\": \"interval\", \"encodings\": [\"x\"]}, \"bind\": \"scales\", \"views\": []}], \"resolve\": {\"axis\": {\"y\": \"independent\"}, \"scale\": {\"y\": \"independent\"}}, \"title\": {\"text\": \"Model parameters (components of final match weight)\", \"subtitle\": \"Training session blocked on <Custom blocking rule using SQL: l.first_name_15 = r.first_name_15>\"}, \"transform\": [{\"filter\": \"(datum.iteration == iteration_number)\"}], \"$schema\": \"https://vega.github.io/schema/vega-lite/v5.9.3.json\", \"datasets\": {\"data-a34fc2d233da243744b6473a74c00beb\": [{\"comparison_name\": \"probability_two_random_records_match\", \"sql_condition\": null, \"label_for_charts\": \"\", \"m_probability\": null, \"u_probability\": null, \"m_probability_description\": null, \"u_probability_description\": null, \"has_tf_adjustments\": false, \"tf_adjustment_column\": null, \"tf_adjustment_weight\": null, \"is_null_level\": false, \"bayes_factor\": 0.006827658108360675, \"log2_bayes_factor\": -7.194393466736079, \"comparison_vector_value\": 0, \"max_comparison_vector_value\": 0, \"bayes_factor_description\": \"The probability that two random records drawn at random match is 0.007 or one in  147.5 records.This is equivalent to a starting match weight of -7.194.\", \"probability_two_random_records_match\": 0.006781357319075399, \"comparison_sort_order\": -1, \"iteration\": 0}, {\"comparison_name\": \"last_name_12\", \"sql_condition\": \"\\\"last_name_12_l\\\" = \\\"last_name_12_r\\\"\", \"label_for_charts\": \"Exact match\", \"m_probability\": 0.95, \"u_probability\": 0.0007093232453578939, \"m_probability_description\": \"Amongst matching record comparisons, 95.00% of records are in the exact match comparison level\", \"u_probability_description\": \"Amongst non-matching record comparisons, 0.07% of records are in the exact match comparison level\", \"has_tf_adjustments\": false, \"tf_adjustment_column\": null, \"tf_adjustment_weight\": 1.0, \"is_null_level\": false, \"bayes_factor\": 1339.304761569841, \"log2_bayes_factor\": 10.387268570923151, \"comparison_vector_value\": 2, \"max_comparison_vector_value\": 2, \"bayes_factor_description\": \"If comparison level is `exact match` then comparison is 1,339.30 times more likely to be a match\", \"probability_two_random_records_match\": 0.006781357319075399, \"comparison_sort_order\": 0, \"iteration\": 0}, {\"comparison_name\": \"last_name_12\", \"sql_condition\": \"jaro_winkler_similarity(\\\"last_name_12_l\\\", \\\"last_name_12_r\\\") >= 0.8333333333333334\", \"label_for_charts\": \"Jaro_winkler_similarity >= 0.8333333333333334\", \"m_probability\": 0.025000000000000022, \"u_probability\": 0.001329943668219914, \"m_probability_description\": \"Amongst matching record comparisons, 2.50% of records are in the jaro_winkler_similarity >= 0.8333333333333334 comparison level\", \"u_probability_description\": \"Amongst non-matching record comparisons, 0.13% of records are in the jaro_winkler_similarity >= 0.8333333333333334 comparison level\", \"has_tf_adjustments\": false, \"tf_adjustment_column\": null, \"tf_adjustment_weight\": 1.0, \"is_null_level\": false, \"bayes_factor\": 18.79778865631332, \"log2_bayes_factor\": 4.232491050289538, \"comparison_vector_value\": 1, \"max_comparison_vector_value\": 2, \"bayes_factor_description\": \"If comparison level is `jaro_winkler_similarity >= 0.8333333333333334` then comparison is 18.80 times more likely to be a match\", \"probability_two_random_records_match\": 0.006781357319075399, \"comparison_sort_order\": 0, \"iteration\": 0}, {\"comparison_name\": \"last_name_12\", \"sql_condition\": \"ELSE\", \"label_for_charts\": \"All other comparisons\", \"m_probability\": 0.025000000000000022, \"u_probability\": 0.9979607330864222, \"m_probability_description\": \"Amongst matching record comparisons, 2.50% of records are in the all other comparisons comparison level\", \"u_probability_description\": \"Amongst non-matching record comparisons, 99.80% of records are in the all other comparisons comparison level\", \"has_tf_adjustments\": false, \"tf_adjustment_column\": null, \"tf_adjustment_weight\": 1.0, \"is_null_level\": false, \"bayes_factor\": 0.025051085850524193, \"log2_bayes_factor\": -5.318983050736897, \"comparison_vector_value\": 0, \"max_comparison_vector_value\": 2, \"bayes_factor_description\": \"If comparison level is `all other comparisons` then comparison is  39.92 times less likely to be a match\", \"probability_two_random_records_match\": 0.006781357319075399, \"comparison_sort_order\": 0, \"iteration\": 0}, {\"comparison_name\": \"middle_initial\", \"sql_condition\": \"\\\"middle_initial_l\\\" = \\\"middle_initial_r\\\"\", \"label_for_charts\": \"Exact match\", \"m_probability\": 0.95, \"u_probability\": 0.07410500870140878, \"m_probability_description\": \"Amongst matching record comparisons, 95.00% of records are in the exact match comparison level\", \"u_probability_description\": \"Amongst non-matching record comparisons, 7.41% of records are in the exact match comparison level\", \"has_tf_adjustments\": false, \"tf_adjustment_column\": null, \"tf_adjustment_weight\": 1.0, \"is_null_level\": false, \"bayes_factor\": 12.819646291761922, \"log2_bayes_factor\": 3.680284551839281, \"comparison_vector_value\": 1, \"max_comparison_vector_value\": 1, \"bayes_factor_description\": \"If comparison level is `exact match` then comparison is 12.82 times more likely to be a match\", \"probability_two_random_records_match\": 0.006781357319075399, \"comparison_sort_order\": 1, \"iteration\": 0}, {\"comparison_name\": \"middle_initial\", \"sql_condition\": \"ELSE\", \"label_for_charts\": \"All other comparisons\", \"m_probability\": 0.050000000000000044, \"u_probability\": 0.9258949912985912, \"m_probability_description\": \"Amongst matching record comparisons, 5.00% of records are in the all other comparisons comparison level\", \"u_probability_description\": \"Amongst non-matching record comparisons, 92.59% of records are in the all other comparisons comparison level\", \"has_tf_adjustments\": false, \"tf_adjustment_column\": null, \"tf_adjustment_weight\": 1.0, \"is_null_level\": false, \"bayes_factor\": 0.05400180416774237, \"log2_bayes_factor\": -4.210848582121317, \"comparison_vector_value\": 0, \"max_comparison_vector_value\": 1, \"bayes_factor_description\": \"If comparison level is `all other comparisons` then comparison is  18.52 times less likely to be a match\", \"probability_two_random_records_match\": 0.006781357319075399, \"comparison_sort_order\": 1, \"iteration\": 0}, {\"comparison_name\": \"day_of_birth\", \"sql_condition\": \"\\\"day_of_birth_l\\\" = \\\"day_of_birth_r\\\"\", \"label_for_charts\": \"Exact match\", \"m_probability\": 0.95, \"u_probability\": 0.03243028785148898, \"m_probability_description\": \"Amongst matching record comparisons, 95.00% of records are in the exact match comparison level\", \"u_probability_description\": \"Amongst non-matching record comparisons, 3.24% of records are in the exact match comparison level\", \"has_tf_adjustments\": false, \"tf_adjustment_column\": null, \"tf_adjustment_weight\": 1.0, \"is_null_level\": false, \"bayes_factor\": 29.293603693880947, \"log2_bayes_factor\": 4.872513779107915, \"comparison_vector_value\": 2, \"max_comparison_vector_value\": 2, \"bayes_factor_description\": \"If comparison level is `exact match` then comparison is 29.29 times more likely to be a match\", \"probability_two_random_records_match\": 0.006781357319075399, \"comparison_sort_order\": 2, \"iteration\": 0}, {\"comparison_name\": \"day_of_birth\", \"sql_condition\": \"abs(day_of_birth_l - day_of_birth_r) <= 5\", \"label_for_charts\": \"Inexact match\", \"m_probability\": 0.025000000000000022, \"u_probability\": 0.295173345919013, \"m_probability_description\": \"Amongst matching record comparisons, 2.50% of records are in the inexact match comparison level\", \"u_probability_description\": \"Amongst non-matching record comparisons, 29.52% of records are in the inexact match comparison level\", \"has_tf_adjustments\": false, \"tf_adjustment_column\": null, \"tf_adjustment_weight\": 1.0, \"is_null_level\": false, \"bayes_factor\": 0.08469599422049204, \"log2_bayes_factor\": -3.5615624522703015, \"comparison_vector_value\": 1, \"max_comparison_vector_value\": 2, \"bayes_factor_description\": \"If comparison level is `inexact match` then comparison is  11.81 times less likely to be a match\", \"probability_two_random_records_match\": 0.006781357319075399, \"comparison_sort_order\": 2, \"iteration\": 0}, {\"comparison_name\": \"day_of_birth\", \"sql_condition\": \"ELSE\", \"label_for_charts\": \"All other comparisons\", \"m_probability\": 0.025000000000000022, \"u_probability\": 0.672396366229498, \"m_probability_description\": \"Amongst matching record comparisons, 2.50% of records are in the all other comparisons comparison level\", \"u_probability_description\": \"Amongst non-matching record comparisons, 67.24% of records are in the all other comparisons comparison level\", \"has_tf_adjustments\": false, \"tf_adjustment_column\": null, \"tf_adjustment_weight\": 1.0, \"is_null_level\": false, \"bayes_factor\": 0.037180450781120346, \"log2_bayes_factor\": -4.749311927969605, \"comparison_vector_value\": 0, \"max_comparison_vector_value\": 2, \"bayes_factor_description\": \"If comparison level is `all other comparisons` then comparison is  26.90 times less likely to be a match\", \"probability_two_random_records_match\": 0.006781357319075399, \"comparison_sort_order\": 2, \"iteration\": 0}, {\"comparison_name\": \"month_of_birth\", \"sql_condition\": \"\\\"month_of_birth_l\\\" = \\\"month_of_birth_r\\\"\", \"label_for_charts\": \"Exact match\", \"m_probability\": 0.95, \"u_probability\": 0.08355145831969693, \"m_probability_description\": \"Amongst matching record comparisons, 95.00% of records are in the exact match comparison level\", \"u_probability_description\": \"Amongst non-matching record comparisons, 8.36% of records are in the exact match comparison level\", \"has_tf_adjustments\": false, \"tf_adjustment_column\": null, \"tf_adjustment_weight\": 1.0, \"is_null_level\": false, \"bayes_factor\": 11.370238402841153, \"log2_bayes_factor\": 3.5071905988088927, \"comparison_vector_value\": 2, \"max_comparison_vector_value\": 2, \"bayes_factor_description\": \"If comparison level is `exact match` then comparison is 11.37 times more likely to be a match\", \"probability_two_random_records_match\": 0.006781357319075399, \"comparison_sort_order\": 3, \"iteration\": 0}, {\"comparison_name\": \"month_of_birth\", \"sql_condition\": \"abs(month_of_birth_l - month_of_birth_r) <= 3\", \"label_for_charts\": \"Inexact match\", \"m_probability\": 0.025000000000000022, \"u_probability\": 0.4143133397869391, \"m_probability_description\": \"Amongst matching record comparisons, 2.50% of records are in the inexact match comparison level\", \"u_probability_description\": \"Amongst non-matching record comparisons, 41.43% of records are in the inexact match comparison level\", \"has_tf_adjustments\": false, \"tf_adjustment_column\": null, \"tf_adjustment_weight\": 1.0, \"is_null_level\": false, \"bayes_factor\": 0.06034080392597614, \"log2_bayes_factor\": -4.0507222720058405, \"comparison_vector_value\": 1, \"max_comparison_vector_value\": 2, \"bayes_factor_description\": \"If comparison level is `inexact match` then comparison is  16.57 times less likely to be a match\", \"probability_two_random_records_match\": 0.006781357319075399, \"comparison_sort_order\": 3, \"iteration\": 0}, {\"comparison_name\": \"month_of_birth\", \"sql_condition\": \"ELSE\", \"label_for_charts\": \"All other comparisons\", \"m_probability\": 0.025000000000000022, \"u_probability\": 0.5021352018933639, \"m_probability_description\": \"Amongst matching record comparisons, 2.50% of records are in the all other comparisons comparison level\", \"u_probability_description\": \"Amongst non-matching record comparisons, 50.21% of records are in the all other comparisons comparison level\", \"has_tf_adjustments\": false, \"tf_adjustment_column\": null, \"tf_adjustment_weight\": 1.0, \"is_null_level\": false, \"bayes_factor\": 0.04978738775081767, \"log2_bayes_factor\": -4.328075867839469, \"comparison_vector_value\": 0, \"max_comparison_vector_value\": 2, \"bayes_factor_description\": \"If comparison level is `all other comparisons` then comparison is  20.09 times less likely to be a match\", \"probability_two_random_records_match\": 0.006781357319075399, \"comparison_sort_order\": 3, \"iteration\": 0}, {\"comparison_name\": \"year_of_birth\", \"sql_condition\": \"\\\"year_of_birth_l\\\" = \\\"year_of_birth_r\\\"\", \"label_for_charts\": \"Exact match\", \"m_probability\": 0.95, \"u_probability\": 0.011125465216557518, \"m_probability_description\": \"Amongst matching record comparisons, 95.00% of records are in the exact match comparison level\", \"u_probability_description\": \"Amongst non-matching record comparisons, 1.11% of records are in the exact match comparison level\", \"has_tf_adjustments\": false, \"tf_adjustment_column\": null, \"tf_adjustment_weight\": 1.0, \"is_null_level\": false, \"bayes_factor\": 85.38968766772635, \"log2_bayes_factor\": 6.415989944019308, \"comparison_vector_value\": 2, \"max_comparison_vector_value\": 2, \"bayes_factor_description\": \"If comparison level is `exact match` then comparison is 85.39 times more likely to be a match\", \"probability_two_random_records_match\": 0.006781357319075399, \"comparison_sort_order\": 4, \"iteration\": 0}, {\"comparison_name\": \"year_of_birth\", \"sql_condition\": \"abs(year_of_birth_l - year_of_birth_r) <= 5\", \"label_for_charts\": \"Inexact match\", \"m_probability\": 0.025000000000000022, \"u_probability\": 0.11053660239472413, \"m_probability_description\": \"Amongst matching record comparisons, 2.50% of records are in the inexact match comparison level\", \"u_probability_description\": \"Amongst non-matching record comparisons, 11.05% of records are in the inexact match comparison level\", \"has_tf_adjustments\": false, \"tf_adjustment_column\": null, \"tf_adjustment_weight\": 1.0, \"is_null_level\": false, \"bayes_factor\": 0.22616942676350313, \"log2_bayes_factor\": -2.14452417368412, \"comparison_vector_value\": 1, \"max_comparison_vector_value\": 2, \"bayes_factor_description\": \"If comparison level is `inexact match` then comparison is  4.42 times less likely to be a match\", \"probability_two_random_records_match\": 0.006781357319075399, \"comparison_sort_order\": 4, \"iteration\": 0}, {\"comparison_name\": \"year_of_birth\", \"sql_condition\": \"ELSE\", \"label_for_charts\": \"All other comparisons\", \"m_probability\": 0.025000000000000022, \"u_probability\": 0.8783379323887184, \"m_probability_description\": \"Amongst matching record comparisons, 2.50% of records are in the all other comparisons comparison level\", \"u_probability_description\": \"Amongst non-matching record comparisons, 87.83% of records are in the all other comparisons comparison level\", \"has_tf_adjustments\": false, \"tf_adjustment_column\": null, \"tf_adjustment_weight\": 1.0, \"is_null_level\": false, \"bayes_factor\": 0.02846284906768206, \"log2_bayes_factor\": -5.134776110127776, \"comparison_vector_value\": 0, \"max_comparison_vector_value\": 2, \"bayes_factor_description\": \"If comparison level is `all other comparisons` then comparison is  35.13 times less likely to be a match\", \"probability_two_random_records_match\": 0.006781357319075399, \"comparison_sort_order\": 4, \"iteration\": 0}, {\"comparison_name\": \"street_number\", \"sql_condition\": \"\\\"street_number_l\\\" = \\\"street_number_r\\\"\", \"label_for_charts\": \"Exact match\", \"m_probability\": 0.95, \"u_probability\": 0.004643745865751094, \"m_probability_description\": \"Amongst matching record comparisons, 95.00% of records are in the exact match comparison level\", \"u_probability_description\": \"Amongst non-matching record comparisons, 0.46% of records are in the exact match comparison level\", \"has_tf_adjustments\": false, \"tf_adjustment_column\": null, \"tf_adjustment_weight\": 1.0, \"is_null_level\": false, \"bayes_factor\": 204.57622519925386, \"log2_bayes_factor\": 7.676494681973654, \"comparison_vector_value\": 2, \"max_comparison_vector_value\": 2, \"bayes_factor_description\": \"If comparison level is `exact match` then comparison is 204.58 times more likely to be a match\", \"probability_two_random_records_match\": 0.006781357319075399, \"comparison_sort_order\": 5, \"iteration\": 0}, {\"comparison_name\": \"street_number\", \"sql_condition\": \"jaro_winkler_similarity(\\\"street_number_l\\\", \\\"street_number_r\\\") >= 0.8333333333333334\", \"label_for_charts\": \"Jaro_winkler_similarity >= 0.8333333333333334\", \"m_probability\": 0.025000000000000022, \"u_probability\": 0.012708549889228378, \"m_probability_description\": \"Amongst matching record comparisons, 2.50% of records are in the jaro_winkler_similarity >= 0.8333333333333334 comparison level\", \"u_probability_description\": \"Amongst non-matching record comparisons, 1.27% of records are in the jaro_winkler_similarity >= 0.8333333333333334 comparison level\", \"has_tf_adjustments\": false, \"tf_adjustment_column\": null, \"tf_adjustment_weight\": 1.0, \"is_null_level\": false, \"bayes_factor\": 1.9671795931013134, \"log2_bayes_factor\": 0.976128674062371, \"comparison_vector_value\": 1, \"max_comparison_vector_value\": 2, \"bayes_factor_description\": \"If comparison level is `jaro_winkler_similarity >= 0.8333333333333334` then comparison is 1.97 times more likely to be a match\", \"probability_two_random_records_match\": 0.006781357319075399, \"comparison_sort_order\": 5, \"iteration\": 0}, {\"comparison_name\": \"street_number\", \"sql_condition\": \"ELSE\", \"label_for_charts\": \"All other comparisons\", \"m_probability\": 0.025000000000000022, \"u_probability\": 0.9826477042450206, \"m_probability_description\": \"Amongst matching record comparisons, 2.50% of records are in the all other comparisons comparison level\", \"u_probability_description\": \"Amongst non-matching record comparisons, 98.26% of records are in the all other comparisons comparison level\", \"has_tf_adjustments\": false, \"tf_adjustment_column\": null, \"tf_adjustment_weight\": 1.0, \"is_null_level\": false, \"bayes_factor\": 0.025441467875007968, \"log2_bayes_factor\": -5.296674278786812, \"comparison_vector_value\": 0, \"max_comparison_vector_value\": 2, \"bayes_factor_description\": \"If comparison level is `all other comparisons` then comparison is  39.31 times less likely to be a match\", \"probability_two_random_records_match\": 0.006781357319075399, \"comparison_sort_order\": 5, \"iteration\": 0}, {\"comparison_name\": \"street_name\", \"sql_condition\": \"\\\"street_name_l\\\" = \\\"street_name_r\\\"\", \"label_for_charts\": \"Exact match\", \"m_probability\": 0.95, \"u_probability\": 0.0036909475444507293, \"m_probability_description\": \"Amongst matching record comparisons, 95.00% of records are in the exact match comparison level\", \"u_probability_description\": \"Amongst non-matching record comparisons, 0.37% of records are in the exact match comparison level\", \"has_tf_adjustments\": false, \"tf_adjustment_column\": null, \"tf_adjustment_weight\": 1.0, \"is_null_level\": false, \"bayes_factor\": 257.3864809941033, \"log2_bayes_factor\": 8.007792468993921, \"comparison_vector_value\": 2, \"max_comparison_vector_value\": 2, \"bayes_factor_description\": \"If comparison level is `exact match` then comparison is 257.39 times more likely to be a match\", \"probability_two_random_records_match\": 0.006781357319075399, \"comparison_sort_order\": 6, \"iteration\": 0}, {\"comparison_name\": \"street_name\", \"sql_condition\": \"jaro_winkler_similarity(\\\"street_name_l\\\", \\\"street_name_r\\\") >= 0.8333333333333334\", \"label_for_charts\": \"Jaro_winkler_similarity >= 0.8333333333333334\", \"m_probability\": 0.025000000000000022, \"u_probability\": 0.0018843912156014068, \"m_probability_description\": \"Amongst matching record comparisons, 2.50% of records are in the jaro_winkler_similarity >= 0.8333333333333334 comparison level\", \"u_probability_description\": \"Amongst non-matching record comparisons, 0.19% of records are in the jaro_winkler_similarity >= 0.8333333333333334 comparison level\", \"has_tf_adjustments\": false, \"tf_adjustment_column\": null, \"tf_adjustment_weight\": 1.0, \"is_null_level\": false, \"bayes_factor\": 13.26688417618272, \"log2_bayes_factor\": 3.729757678000038, \"comparison_vector_value\": 1, \"max_comparison_vector_value\": 2, \"bayes_factor_description\": \"If comparison level is `jaro_winkler_similarity >= 0.8333333333333334` then comparison is 13.27 times more likely to be a match\", \"probability_two_random_records_match\": 0.006781357319075399, \"comparison_sort_order\": 6, \"iteration\": 0}, {\"comparison_name\": \"street_name\", \"sql_condition\": \"ELSE\", \"label_for_charts\": \"All other comparisons\", \"m_probability\": 0.025000000000000022, \"u_probability\": 0.9944246612399479, \"m_probability_description\": \"Amongst matching record comparisons, 2.50% of records are in the all other comparisons comparison level\", \"u_probability_description\": \"Amongst non-matching record comparisons, 99.44% of records are in the all other comparisons comparison level\", \"has_tf_adjustments\": false, \"tf_adjustment_column\": null, \"tf_adjustment_weight\": 1.0, \"is_null_level\": false, \"bayes_factor\": 0.025140164936001817, \"log2_bayes_factor\": -5.313862074957779, \"comparison_vector_value\": 0, \"max_comparison_vector_value\": 2, \"bayes_factor_description\": \"If comparison level is `all other comparisons` then comparison is  39.78 times less likely to be a match\", \"probability_two_random_records_match\": 0.006781357319075399, \"comparison_sort_order\": 6, \"iteration\": 0}, {\"comparison_name\": \"unit_number\", \"sql_condition\": \"\\\"unit_number_l\\\" = \\\"unit_number_r\\\"\", \"label_for_charts\": \"Exact match\", \"m_probability\": 0.95, \"u_probability\": 0.005427064313248123, \"m_probability_description\": \"Amongst matching record comparisons, 95.00% of records are in the exact match comparison level\", \"u_probability_description\": \"Amongst non-matching record comparisons, 0.54% of records are in the exact match comparison level\", \"has_tf_adjustments\": false, \"tf_adjustment_column\": null, \"tf_adjustment_weight\": 1.0, \"is_null_level\": false, \"bayes_factor\": 175.04859813084113, \"log2_bayes_factor\": 7.451611697826307, \"comparison_vector_value\": 2, \"max_comparison_vector_value\": 2, \"bayes_factor_description\": \"If comparison level is `exact match` then comparison is 175.05 times more likely to be a match\", \"probability_two_random_records_match\": 0.006781357319075399, \"comparison_sort_order\": 7, \"iteration\": 0}, {\"comparison_name\": \"unit_number\", \"sql_condition\": \"jaro_winkler_similarity(\\\"unit_number_l\\\", \\\"unit_number_r\\\") >= 0.8333333333333334\", \"label_for_charts\": \"Jaro_winkler_similarity >= 0.8333333333333334\", \"m_probability\": 0.025000000000000022, \"u_probability\": 0.08399269628727937, \"m_probability_description\": \"Amongst matching record comparisons, 2.50% of records are in the jaro_winkler_similarity >= 0.8333333333333334 comparison level\", \"u_probability_description\": \"Amongst non-matching record comparisons, 8.40% of records are in the jaro_winkler_similarity >= 0.8333333333333334 comparison level\", \"has_tf_adjustments\": false, \"tf_adjustment_column\": null, \"tf_adjustment_weight\": 1.0, \"is_null_level\": false, \"bayes_factor\": 0.2976449275362321, \"log2_bayes_factor\": -1.7483357867154559, \"comparison_vector_value\": 1, \"max_comparison_vector_value\": 2, \"bayes_factor_description\": \"If comparison level is `jaro_winkler_similarity >= 0.8333333333333334` then comparison is  3.36 times less likely to be a match\", \"probability_two_random_records_match\": 0.006781357319075399, \"comparison_sort_order\": 7, \"iteration\": 0}, {\"comparison_name\": \"unit_number\", \"sql_condition\": \"ELSE\", \"label_for_charts\": \"All other comparisons\", \"m_probability\": 0.025000000000000022, \"u_probability\": 0.9105802393994725, \"m_probability_description\": \"Amongst matching record comparisons, 2.50% of records are in the all other comparisons comparison level\", \"u_probability_description\": \"Amongst non-matching record comparisons, 91.06% of records are in the all other comparisons comparison level\", \"has_tf_adjustments\": false, \"tf_adjustment_column\": null, \"tf_adjustment_weight\": 1.0, \"is_null_level\": false, \"bayes_factor\": 0.027455021444883886, \"log2_bayes_factor\": -5.186786151615274, \"comparison_vector_value\": 0, \"max_comparison_vector_value\": 2, \"bayes_factor_description\": \"If comparison level is `all other comparisons` then comparison is  36.42 times less likely to be a match\", \"probability_two_random_records_match\": 0.006781357319075399, \"comparison_sort_order\": 7, \"iteration\": 0}, {\"comparison_name\": \"zipcode\", \"sql_condition\": \"\\\"zipcode_l\\\" = \\\"zipcode_r\\\"\", \"label_for_charts\": \"Exact match\", \"m_probability\": 0.95, \"u_probability\": 0.9441587509332844, \"m_probability_description\": \"Amongst matching record comparisons, 95.00% of records are in the exact match comparison level\", \"u_probability_description\": \"Amongst non-matching record comparisons, 94.42% of records are in the exact match comparison level\", \"has_tf_adjustments\": false, \"tf_adjustment_column\": null, \"tf_adjustment_weight\": 1.0, \"is_null_level\": false, \"bayes_factor\": 1.0061867234307171, \"log2_bayes_factor\": 0.008898058593107312, \"comparison_vector_value\": 2, \"max_comparison_vector_value\": 2, \"bayes_factor_description\": \"If comparison level is `exact match` then comparison is 1.01 times more likely to be a match\", \"probability_two_random_records_match\": 0.006781357319075399, \"comparison_sort_order\": 8, \"iteration\": 0}, {\"comparison_name\": \"zipcode\", \"sql_condition\": \"jaro_winkler_similarity(\\\"zipcode_l\\\", \\\"zipcode_r\\\") >= 0.8333333333333334\", \"label_for_charts\": \"Jaro_winkler_similarity >= 0.8333333333333334\", \"m_probability\": 0.025000000000000022, \"u_probability\": 0.041136656606251085, \"m_probability_description\": \"Amongst matching record comparisons, 2.50% of records are in the jaro_winkler_similarity >= 0.8333333333333334 comparison level\", \"u_probability_description\": \"Amongst non-matching record comparisons, 4.11% of records are in the jaro_winkler_similarity >= 0.8333333333333334 comparison level\", \"has_tf_adjustments\": false, \"tf_adjustment_column\": null, \"tf_adjustment_weight\": 1.0, \"is_null_level\": false, \"bayes_factor\": 0.6077304784220371, \"log2_bayes_factor\": -0.7184964482805007, \"comparison_vector_value\": 1, \"max_comparison_vector_value\": 2, \"bayes_factor_description\": \"If comparison level is `jaro_winkler_similarity >= 0.8333333333333334` then comparison is  1.65 times less likely to be a match\", \"probability_two_random_records_match\": 0.006781357319075399, \"comparison_sort_order\": 8, \"iteration\": 0}, {\"comparison_name\": \"zipcode\", \"sql_condition\": \"ELSE\", \"label_for_charts\": \"All other comparisons\", \"m_probability\": 0.025000000000000022, \"u_probability\": 0.014704592460464516, \"m_probability_description\": \"Amongst matching record comparisons, 2.50% of records are in the all other comparisons comparison level\", \"u_probability_description\": \"Amongst non-matching record comparisons, 1.47% of records are in the all other comparisons comparison level\", \"has_tf_adjustments\": false, \"tf_adjustment_column\": null, \"tf_adjustment_weight\": 1.0, \"is_null_level\": false, \"bayes_factor\": 1.7001491246504274, \"log2_bayes_factor\": 0.7656612945735977, \"comparison_vector_value\": 0, \"max_comparison_vector_value\": 2, \"bayes_factor_description\": \"If comparison level is `all other comparisons` then comparison is 1.70 times more likely to be a match\", \"probability_two_random_records_match\": 0.006781357319075399, \"comparison_sort_order\": 8, \"iteration\": 0}, {\"comparison_name\": \"probability_two_random_records_match\", \"sql_condition\": null, \"label_for_charts\": \"\", \"m_probability\": null, \"u_probability\": null, \"m_probability_description\": null, \"u_probability_description\": null, \"has_tf_adjustments\": false, \"tf_adjustment_column\": null, \"tf_adjustment_weight\": null, \"is_null_level\": false, \"bayes_factor\": 0.006827658108360675, \"log2_bayes_factor\": -7.194393466736079, \"comparison_vector_value\": 0, \"max_comparison_vector_value\": 0, \"bayes_factor_description\": \"The probability that two random records drawn at random match is 0.007 or one in  147.5 records.This is equivalent to a starting match weight of -7.194.\", \"probability_two_random_records_match\": 0.006781357319075399, \"comparison_sort_order\": -1, \"iteration\": 1}, {\"comparison_name\": \"last_name_12\", \"sql_condition\": \"\\\"last_name_12_l\\\" = \\\"last_name_12_r\\\"\", \"label_for_charts\": \"Exact match\", \"m_probability\": 0.8677597551619776, \"u_probability\": 0.0007093232453578939, \"m_probability_description\": \"Amongst matching record comparisons, 86.78% of records are in the exact match comparison level\", \"u_probability_description\": \"Amongst non-matching record comparisons, 0.07% of records are in the exact match comparison level\", \"has_tf_adjustments\": false, \"tf_adjustment_column\": null, \"tf_adjustment_weight\": 1.0, \"is_null_level\": false, \"bayes_factor\": 1223.3629178811748, \"log2_bayes_factor\": 10.256636736081113, \"comparison_vector_value\": 2, \"max_comparison_vector_value\": 2, \"bayes_factor_description\": \"If comparison level is `exact match` then comparison is 1,223.36 times more likely to be a match\", \"probability_two_random_records_match\": 0.006781357319075399, \"comparison_sort_order\": 0, \"iteration\": 1}, {\"comparison_name\": \"last_name_12\", \"sql_condition\": \"jaro_winkler_similarity(\\\"last_name_12_l\\\", \\\"last_name_12_r\\\") >= 0.8333333333333334\", \"label_for_charts\": \"Jaro_winkler_similarity >= 0.8333333333333334\", \"m_probability\": 0.08802487853092814, \"u_probability\": 0.001329943668219914, \"m_probability_description\": \"Amongst matching record comparisons, 8.80% of records are in the jaro_winkler_similarity >= 0.8333333333333334 comparison level\", \"u_probability_description\": \"Amongst non-matching record comparisons, 0.13% of records are in the jaro_winkler_similarity >= 0.8333333333333334 comparison level\", \"has_tf_adjustments\": false, \"tf_adjustment_column\": null, \"tf_adjustment_weight\": 1.0, \"is_null_level\": false, \"bayes_factor\": 66.18692252488148, \"log2_bayes_factor\": 6.048474286659015, \"comparison_vector_value\": 1, \"max_comparison_vector_value\": 2, \"bayes_factor_description\": \"If comparison level is `jaro_winkler_similarity >= 0.8333333333333334` then comparison is 66.19 times more likely to be a match\", \"probability_two_random_records_match\": 0.006781357319075399, \"comparison_sort_order\": 0, \"iteration\": 1}, {\"comparison_name\": \"last_name_12\", \"sql_condition\": \"ELSE\", \"label_for_charts\": \"All other comparisons\", \"m_probability\": 0.04421536630709422, \"u_probability\": 0.9979607330864222, \"m_probability_description\": \"Amongst matching record comparisons, 4.42% of records are in the all other comparisons comparison level\", \"u_probability_description\": \"Amongst non-matching record comparisons, 99.80% of records are in the all other comparisons comparison level\", \"has_tf_adjustments\": false, \"tf_adjustment_column\": null, \"tf_adjustment_weight\": 1.0, \"is_null_level\": false, \"bayes_factor\": 0.04430571749085564, \"log2_bayes_factor\": -4.496363304460451, \"comparison_vector_value\": 0, \"max_comparison_vector_value\": 2, \"bayes_factor_description\": \"If comparison level is `all other comparisons` then comparison is  22.57 times less likely to be a match\", \"probability_two_random_records_match\": 0.006781357319075399, \"comparison_sort_order\": 0, \"iteration\": 1}, {\"comparison_name\": \"middle_initial\", \"sql_condition\": \"\\\"middle_initial_l\\\" = \\\"middle_initial_r\\\"\", \"label_for_charts\": \"Exact match\", \"m_probability\": 0.9342511827643097, \"u_probability\": 0.07410500870140878, \"m_probability_description\": \"Amongst matching record comparisons, 93.43% of records are in the exact match comparison level\", \"u_probability_description\": \"Amongst non-matching record comparisons, 7.41% of records are in the exact match comparison level\", \"has_tf_adjustments\": false, \"tf_adjustment_column\": null, \"tf_adjustment_weight\": 1.0, \"is_null_level\": false, \"bayes_factor\": 12.60712601126176, \"log2_bayes_factor\": 3.6561675234583637, \"comparison_vector_value\": 1, \"max_comparison_vector_value\": 1, \"bayes_factor_description\": \"If comparison level is `exact match` then comparison is 12.61 times more likely to be a match\", \"probability_two_random_records_match\": 0.006781357319075399, \"comparison_sort_order\": 1, \"iteration\": 1}, {\"comparison_name\": \"middle_initial\", \"sql_condition\": \"ELSE\", \"label_for_charts\": \"All other comparisons\", \"m_probability\": 0.0657488172356903, \"u_probability\": 0.9258949912985912, \"m_probability_description\": \"Amongst matching record comparisons, 6.57% of records are in the all other comparisons comparison level\", \"u_probability_description\": \"Amongst non-matching record comparisons, 92.59% of records are in the all other comparisons comparison level\", \"has_tf_adjustments\": false, \"tf_adjustment_column\": null, \"tf_adjustment_weight\": 1.0, \"is_null_level\": false, \"bayes_factor\": 0.07101109505244857, \"log2_bayes_factor\": -3.815811735205293, \"comparison_vector_value\": 0, \"max_comparison_vector_value\": 1, \"bayes_factor_description\": \"If comparison level is `all other comparisons` then comparison is  14.08 times less likely to be a match\", \"probability_two_random_records_match\": 0.006781357319075399, \"comparison_sort_order\": 1, \"iteration\": 1}, {\"comparison_name\": \"day_of_birth\", \"sql_condition\": \"\\\"day_of_birth_l\\\" = \\\"day_of_birth_r\\\"\", \"label_for_charts\": \"Exact match\", \"m_probability\": 0.9571246247177058, \"u_probability\": 0.03243028785148898, \"m_probability_description\": \"Amongst matching record comparisons, 95.71% of records are in the exact match comparison level\", \"u_probability_description\": \"Amongst non-matching record comparisons, 3.24% of records are in the exact match comparison level\", \"has_tf_adjustments\": false, \"tf_adjustment_column\": null, \"tf_adjustment_weight\": 1.0, \"is_null_level\": false, \"bayes_factor\": 29.513294149615792, \"log2_bayes_factor\": 4.8832930521899955, \"comparison_vector_value\": 2, \"max_comparison_vector_value\": 2, \"bayes_factor_description\": \"If comparison level is `exact match` then comparison is 29.51 times more likely to be a match\", \"probability_two_random_records_match\": 0.006781357319075399, \"comparison_sort_order\": 2, \"iteration\": 1}, {\"comparison_name\": \"day_of_birth\", \"sql_condition\": \"abs(day_of_birth_l - day_of_birth_r) <= 5\", \"label_for_charts\": \"Inexact match\", \"m_probability\": 0.020691371020841693, \"u_probability\": 0.295173345919013, \"m_probability_description\": \"Amongst matching record comparisons, 2.07% of records are in the inexact match comparison level\", \"u_probability_description\": \"Amongst non-matching record comparisons, 29.52% of records are in the inexact match comparison level\", \"has_tf_adjustments\": false, \"tf_adjustment_column\": null, \"tf_adjustment_weight\": 1.0, \"is_null_level\": false, \"bayes_factor\": 0.07009904961581051, \"log2_bayes_factor\": -3.8344613050802194, \"comparison_vector_value\": 1, \"max_comparison_vector_value\": 2, \"bayes_factor_description\": \"If comparison level is `inexact match` then comparison is  14.27 times less likely to be a match\", \"probability_two_random_records_match\": 0.006781357319075399, \"comparison_sort_order\": 2, \"iteration\": 1}, {\"comparison_name\": \"day_of_birth\", \"sql_condition\": \"ELSE\", \"label_for_charts\": \"All other comparisons\", \"m_probability\": 0.022184004261452454, \"u_probability\": 0.672396366229498, \"m_probability_description\": \"Amongst matching record comparisons, 2.22% of records are in the all other comparisons comparison level\", \"u_probability_description\": \"Amongst non-matching record comparisons, 67.24% of records are in the all other comparisons comparison level\", \"has_tf_adjustments\": false, \"tf_adjustment_column\": null, \"tf_adjustment_weight\": 1.0, \"is_null_level\": false, \"bayes_factor\": 0.03299245114284385, \"log2_bayes_factor\": -4.9217202242313585, \"comparison_vector_value\": 0, \"max_comparison_vector_value\": 2, \"bayes_factor_description\": \"If comparison level is `all other comparisons` then comparison is  30.31 times less likely to be a match\", \"probability_two_random_records_match\": 0.006781357319075399, \"comparison_sort_order\": 2, \"iteration\": 1}, {\"comparison_name\": \"month_of_birth\", \"sql_condition\": \"\\\"month_of_birth_l\\\" = \\\"month_of_birth_r\\\"\", \"label_for_charts\": \"Exact match\", \"m_probability\": 0.9676598215987027, \"u_probability\": 0.08355145831969693, \"m_probability_description\": \"Amongst matching record comparisons, 96.77% of records are in the exact match comparison level\", \"u_probability_description\": \"Amongst non-matching record comparisons, 8.36% of records are in the exact match comparison level\", \"has_tf_adjustments\": false, \"tf_adjustment_column\": null, \"tf_adjustment_weight\": 1.0, \"is_null_level\": false, \"bayes_factor\": 11.581603015187357, \"log2_bayes_factor\": 3.533763046142453, \"comparison_vector_value\": 2, \"max_comparison_vector_value\": 2, \"bayes_factor_description\": \"If comparison level is `exact match` then comparison is 11.58 times more likely to be a match\", \"probability_two_random_records_match\": 0.006781357319075399, \"comparison_sort_order\": 3, \"iteration\": 1}, {\"comparison_name\": \"month_of_birth\", \"sql_condition\": \"abs(month_of_birth_l - month_of_birth_r) <= 3\", \"label_for_charts\": \"Inexact match\", \"m_probability\": 0.015893190607649047, \"u_probability\": 0.4143133397869391, \"m_probability_description\": \"Amongst matching record comparisons, 1.59% of records are in the inexact match comparison level\", \"u_probability_description\": \"Amongst non-matching record comparisons, 41.43% of records are in the inexact match comparison level\", \"has_tf_adjustments\": false, \"tf_adjustment_column\": null, \"tf_adjustment_weight\": 1.0, \"is_null_level\": false, \"bayes_factor\": 0.038360315928572634, \"log2_bayes_factor\": -4.704241587596258, \"comparison_vector_value\": 1, \"max_comparison_vector_value\": 2, \"bayes_factor_description\": \"If comparison level is `inexact match` then comparison is  26.07 times less likely to be a match\", \"probability_two_random_records_match\": 0.006781357319075399, \"comparison_sort_order\": 3, \"iteration\": 1}, {\"comparison_name\": \"month_of_birth\", \"sql_condition\": \"ELSE\", \"label_for_charts\": \"All other comparisons\", \"m_probability\": 0.01644698779364827, \"u_probability\": 0.5021352018933639, \"m_probability_description\": \"Amongst matching record comparisons, 1.64% of records are in the all other comparisons comparison level\", \"u_probability_description\": \"Amongst non-matching record comparisons, 50.21% of records are in the all other comparisons comparison level\", \"has_tf_adjustments\": false, \"tf_adjustment_column\": null, \"tf_adjustment_weight\": 1.0, \"is_null_level\": false, \"bayes_factor\": 0.03275410234461323, \"log2_bayes_factor\": -4.932180578954198, \"comparison_vector_value\": 0, \"max_comparison_vector_value\": 2, \"bayes_factor_description\": \"If comparison level is `all other comparisons` then comparison is  30.53 times less likely to be a match\", \"probability_two_random_records_match\": 0.006781357319075399, \"comparison_sort_order\": 3, \"iteration\": 1}, {\"comparison_name\": \"year_of_birth\", \"sql_condition\": \"\\\"year_of_birth_l\\\" = \\\"year_of_birth_r\\\"\", \"label_for_charts\": \"Exact match\", \"m_probability\": 0.9537535492657688, \"u_probability\": 0.011125465216557518, \"m_probability_description\": \"Amongst matching record comparisons, 95.38% of records are in the exact match comparison level\", \"u_probability_description\": \"Amongst non-matching record comparisons, 1.11% of records are in the exact match comparison level\", \"has_tf_adjustments\": false, \"tf_adjustment_column\": null, \"tf_adjustment_weight\": 1.0, \"is_null_level\": false, \"bayes_factor\": 85.72707124609417, \"log2_bayes_factor\": 6.421678951328758, \"comparison_vector_value\": 2, \"max_comparison_vector_value\": 2, \"bayes_factor_description\": \"If comparison level is `exact match` then comparison is 85.73 times more likely to be a match\", \"probability_two_random_records_match\": 0.006781357319075399, \"comparison_sort_order\": 4, \"iteration\": 1}, {\"comparison_name\": \"year_of_birth\", \"sql_condition\": \"abs(year_of_birth_l - year_of_birth_r) <= 5\", \"label_for_charts\": \"Inexact match\", \"m_probability\": 0.014585526175533929, \"u_probability\": 0.11053660239472413, \"m_probability_description\": \"Amongst matching record comparisons, 1.46% of records are in the inexact match comparison level\", \"u_probability_description\": \"Amongst non-matching record comparisons, 11.05% of records are in the inexact match comparison level\", \"has_tf_adjustments\": false, \"tf_adjustment_column\": null, \"tf_adjustment_weight\": 1.0, \"is_null_level\": false, \"bayes_factor\": 0.13195200376658303, \"log2_bayes_factor\": -2.9219148359081912, \"comparison_vector_value\": 1, \"max_comparison_vector_value\": 2, \"bayes_factor_description\": \"If comparison level is `inexact match` then comparison is  7.58 times less likely to be a match\", \"probability_two_random_records_match\": 0.006781357319075399, \"comparison_sort_order\": 4, \"iteration\": 1}, {\"comparison_name\": \"year_of_birth\", \"sql_condition\": \"ELSE\", \"label_for_charts\": \"All other comparisons\", \"m_probability\": 0.03166092455869718, \"u_probability\": 0.8783379323887184, \"m_probability_description\": \"Amongst matching record comparisons, 3.17% of records are in the all other comparisons comparison level\", \"u_probability_description\": \"Amongst non-matching record comparisons, 87.83% of records are in the all other comparisons comparison level\", \"has_tf_adjustments\": false, \"tf_adjustment_column\": null, \"tf_adjustment_weight\": 1.0, \"is_null_level\": false, \"bayes_factor\": 0.03604640468229861, \"log2_bayes_factor\": -4.794000819509354, \"comparison_vector_value\": 0, \"max_comparison_vector_value\": 2, \"bayes_factor_description\": \"If comparison level is `all other comparisons` then comparison is  27.74 times less likely to be a match\", \"probability_two_random_records_match\": 0.006781357319075399, \"comparison_sort_order\": 4, \"iteration\": 1}, {\"comparison_name\": \"street_number\", \"sql_condition\": \"\\\"street_number_l\\\" = \\\"street_number_r\\\"\", \"label_for_charts\": \"Exact match\", \"m_probability\": 0.7820941107721194, \"u_probability\": 0.004643745865751094, \"m_probability_description\": \"Amongst matching record comparisons, 78.21% of records are in the exact match comparison level\", \"u_probability_description\": \"Amongst non-matching record comparisons, 0.46% of records are in the exact match comparison level\", \"has_tf_adjustments\": false, \"tf_adjustment_column\": null, \"tf_adjustment_weight\": 1.0, \"is_null_level\": false, \"bayes_factor\": 168.41880098139717, \"log2_bayes_factor\": 7.3959093885626865, \"comparison_vector_value\": 2, \"max_comparison_vector_value\": 2, \"bayes_factor_description\": \"If comparison level is `exact match` then comparison is 168.42 times more likely to be a match\", \"probability_two_random_records_match\": 0.006781357319075399, \"comparison_sort_order\": 5, \"iteration\": 1}, {\"comparison_name\": \"street_number\", \"sql_condition\": \"jaro_winkler_similarity(\\\"street_number_l\\\", \\\"street_number_r\\\") >= 0.8333333333333334\", \"label_for_charts\": \"Jaro_winkler_similarity >= 0.8333333333333334\", \"m_probability\": 0.06662099329253472, \"u_probability\": 0.012708549889228378, \"m_probability_description\": \"Amongst matching record comparisons, 6.66% of records are in the jaro_winkler_similarity >= 0.8333333333333334 comparison level\", \"u_probability_description\": \"Amongst non-matching record comparisons, 1.27% of records are in the jaro_winkler_similarity >= 0.8333333333333334 comparison level\", \"has_tf_adjustments\": false, \"tf_adjustment_column\": null, \"tf_adjustment_weight\": 1.0, \"is_null_level\": false, \"bayes_factor\": 5.242218339088547, \"log2_bayes_factor\": 2.3901774433573566, \"comparison_vector_value\": 1, \"max_comparison_vector_value\": 2, \"bayes_factor_description\": \"If comparison level is `jaro_winkler_similarity >= 0.8333333333333334` then comparison is 5.24 times more likely to be a match\", \"probability_two_random_records_match\": 0.006781357319075399, \"comparison_sort_order\": 5, \"iteration\": 1}, {\"comparison_name\": \"street_number\", \"sql_condition\": \"ELSE\", \"label_for_charts\": \"All other comparisons\", \"m_probability\": 0.15128489593534586, \"u_probability\": 0.9826477042450206, \"m_probability_description\": \"Amongst matching record comparisons, 15.13% of records are in the all other comparisons comparison level\", \"u_probability_description\": \"Amongst non-matching record comparisons, 98.26% of records are in the all other comparisons comparison level\", \"has_tf_adjustments\": false, \"tf_adjustment_column\": null, \"tf_adjustment_weight\": 1.0, \"is_null_level\": false, \"bayes_factor\": 0.15395639279652087, \"log2_bayes_factor\": -2.6994063206234813, \"comparison_vector_value\": 0, \"max_comparison_vector_value\": 2, \"bayes_factor_description\": \"If comparison level is `all other comparisons` then comparison is  6.50 times less likely to be a match\", \"probability_two_random_records_match\": 0.006781357319075399, \"comparison_sort_order\": 5, \"iteration\": 1}, {\"comparison_name\": \"street_name\", \"sql_condition\": \"\\\"street_name_l\\\" = \\\"street_name_r\\\"\", \"label_for_charts\": \"Exact match\", \"m_probability\": 0.7691554150343805, \"u_probability\": 0.0036909475444507293, \"m_probability_description\": \"Amongst matching record comparisons, 76.92% of records are in the exact match comparison level\", \"u_probability_description\": \"Amongst non-matching record comparisons, 0.37% of records are in the exact match comparison level\", \"has_tf_adjustments\": false, \"tf_adjustment_column\": null, \"tf_adjustment_weight\": 1.0, \"is_null_level\": false, \"bayes_factor\": 208.38969011921918, \"log2_bayes_factor\": 7.703140093198212, \"comparison_vector_value\": 2, \"max_comparison_vector_value\": 2, \"bayes_factor_description\": \"If comparison level is `exact match` then comparison is 208.39 times more likely to be a match\", \"probability_two_random_records_match\": 0.006781357319075399, \"comparison_sort_order\": 6, \"iteration\": 1}, {\"comparison_name\": \"street_name\", \"sql_condition\": \"jaro_winkler_similarity(\\\"street_name_l\\\", \\\"street_name_r\\\") >= 0.8333333333333334\", \"label_for_charts\": \"Jaro_winkler_similarity >= 0.8333333333333334\", \"m_probability\": 0.10803602756026907, \"u_probability\": 0.0018843912156014068, \"m_probability_description\": \"Amongst matching record comparisons, 10.80% of records are in the jaro_winkler_similarity >= 0.8333333333333334 comparison level\", \"u_probability_description\": \"Amongst non-matching record comparisons, 0.19% of records are in the jaro_winkler_similarity >= 0.8333333333333334 comparison level\", \"has_tf_adjustments\": false, \"tf_adjustment_column\": null, \"tf_adjustment_weight\": 1.0, \"is_null_level\": false, \"bayes_factor\": 57.332058579878904, \"log2_bayes_factor\": 5.841270176639096, \"comparison_vector_value\": 1, \"max_comparison_vector_value\": 2, \"bayes_factor_description\": \"If comparison level is `jaro_winkler_similarity >= 0.8333333333333334` then comparison is 57.33 times more likely to be a match\", \"probability_two_random_records_match\": 0.006781357319075399, \"comparison_sort_order\": 6, \"iteration\": 1}, {\"comparison_name\": \"street_name\", \"sql_condition\": \"ELSE\", \"label_for_charts\": \"All other comparisons\", \"m_probability\": 0.12280855740535061, \"u_probability\": 0.9944246612399479, \"m_probability_description\": \"Amongst matching record comparisons, 12.28% of records are in the all other comparisons comparison level\", \"u_probability_description\": \"Amongst non-matching record comparisons, 99.44% of records are in the all other comparisons comparison level\", \"has_tf_adjustments\": false, \"tf_adjustment_column\": null, \"tf_adjustment_weight\": 1.0, \"is_null_level\": false, \"bayes_factor\": 0.12349709554891836, \"log2_bayes_factor\": -3.0174509825223113, \"comparison_vector_value\": 0, \"max_comparison_vector_value\": 2, \"bayes_factor_description\": \"If comparison level is `all other comparisons` then comparison is  8.10 times less likely to be a match\", \"probability_two_random_records_match\": 0.006781357319075399, \"comparison_sort_order\": 6, \"iteration\": 1}, {\"comparison_name\": \"unit_number\", \"sql_condition\": \"\\\"unit_number_l\\\" = \\\"unit_number_r\\\"\", \"label_for_charts\": \"Exact match\", \"m_probability\": 0.9106281801656128, \"u_probability\": 0.005427064313248123, \"m_probability_description\": \"Amongst matching record comparisons, 91.06% of records are in the exact match comparison level\", \"u_probability_description\": \"Amongst non-matching record comparisons, 0.54% of records are in the exact match comparison level\", \"has_tf_adjustments\": false, \"tf_adjustment_column\": null, \"tf_adjustment_weight\": 1.0, \"is_null_level\": false, \"bayes_factor\": 167.793880375189, \"log2_bayes_factor\": 7.390546289859004, \"comparison_vector_value\": 2, \"max_comparison_vector_value\": 2, \"bayes_factor_description\": \"If comparison level is `exact match` then comparison is 167.79 times more likely to be a match\", \"probability_two_random_records_match\": 0.006781357319075399, \"comparison_sort_order\": 7, \"iteration\": 1}, {\"comparison_name\": \"unit_number\", \"sql_condition\": \"jaro_winkler_similarity(\\\"unit_number_l\\\", \\\"unit_number_r\\\") >= 0.8333333333333334\", \"label_for_charts\": \"Jaro_winkler_similarity >= 0.8333333333333334\", \"m_probability\": 0.08419655236919933, \"u_probability\": 0.08399269628727937, \"m_probability_description\": \"Amongst matching record comparisons, 8.42% of records are in the jaro_winkler_similarity >= 0.8333333333333334 comparison level\", \"u_probability_description\": \"Amongst non-matching record comparisons, 8.40% of records are in the jaro_winkler_similarity >= 0.8333333333333334 comparison level\", \"has_tf_adjustments\": false, \"tf_adjustment_column\": null, \"tf_adjustment_weight\": 1.0, \"is_null_level\": false, \"bayes_factor\": 1.0024270691492354, \"log2_bayes_factor\": 0.003497278272090565, \"comparison_vector_value\": 1, \"max_comparison_vector_value\": 2, \"bayes_factor_description\": \"If comparison level is `jaro_winkler_similarity >= 0.8333333333333334` then comparison is 1.00 times more likely to be a match\", \"probability_two_random_records_match\": 0.006781357319075399, \"comparison_sort_order\": 7, \"iteration\": 1}, {\"comparison_name\": \"unit_number\", \"sql_condition\": \"ELSE\", \"label_for_charts\": \"All other comparisons\", \"m_probability\": 0.005175267465187899, \"u_probability\": 0.9105802393994725, \"m_probability_description\": \"Amongst matching record comparisons, 0.52% of records are in the all other comparisons comparison level\", \"u_probability_description\": \"Amongst non-matching record comparisons, 91.06% of records are in the all other comparisons comparison level\", \"has_tf_adjustments\": false, \"tf_adjustment_column\": null, \"tf_adjustment_weight\": 1.0, \"is_null_level\": false, \"bayes_factor\": 0.005683483169589741, \"log2_bayes_factor\": -7.459008916318356, \"comparison_vector_value\": 0, \"max_comparison_vector_value\": 2, \"bayes_factor_description\": \"If comparison level is `all other comparisons` then comparison is  175.95 times less likely to be a match\", \"probability_two_random_records_match\": 0.006781357319075399, \"comparison_sort_order\": 7, \"iteration\": 1}, {\"comparison_name\": \"zipcode\", \"sql_condition\": \"\\\"zipcode_l\\\" = \\\"zipcode_r\\\"\", \"label_for_charts\": \"Exact match\", \"m_probability\": 0.9339361750948941, \"u_probability\": 0.9441587509332844, \"m_probability_description\": \"Amongst matching record comparisons, 93.39% of records are in the exact match comparison level\", \"u_probability_description\": \"Amongst non-matching record comparisons, 94.42% of records are in the exact match comparison level\", \"has_tf_adjustments\": false, \"tf_adjustment_column\": null, \"tf_adjustment_weight\": 1.0, \"is_null_level\": false, \"bayes_factor\": 0.9891728209601559, \"log2_bayes_factor\": -0.01570549487310471, \"comparison_vector_value\": 2, \"max_comparison_vector_value\": 2, \"bayes_factor_description\": \"If comparison level is `exact match` then comparison is  1.01 times less likely to be a match\", \"probability_two_random_records_match\": 0.006781357319075399, \"comparison_sort_order\": 8, \"iteration\": 1}, {\"comparison_name\": \"zipcode\", \"sql_condition\": \"jaro_winkler_similarity(\\\"zipcode_l\\\", \\\"zipcode_r\\\") >= 0.8333333333333334\", \"label_for_charts\": \"Jaro_winkler_similarity >= 0.8333333333333334\", \"m_probability\": 0.04794058850394146, \"u_probability\": 0.041136656606251085, \"m_probability_description\": \"Amongst matching record comparisons, 4.79% of records are in the jaro_winkler_similarity >= 0.8333333333333334 comparison level\", \"u_probability_description\": \"Amongst non-matching record comparisons, 4.11% of records are in the jaro_winkler_similarity >= 0.8333333333333334 comparison level\", \"has_tf_adjustments\": false, \"tf_adjustment_column\": null, \"tf_adjustment_weight\": 1.0, \"is_null_level\": false, \"bayes_factor\": 1.165398271493373, \"log2_bayes_factor\": 0.22082307600914053, \"comparison_vector_value\": 1, \"max_comparison_vector_value\": 2, \"bayes_factor_description\": \"If comparison level is `jaro_winkler_similarity >= 0.8333333333333334` then comparison is 1.17 times more likely to be a match\", \"probability_two_random_records_match\": 0.006781357319075399, \"comparison_sort_order\": 8, \"iteration\": 1}, {\"comparison_name\": \"zipcode\", \"sql_condition\": \"ELSE\", \"label_for_charts\": \"All other comparisons\", \"m_probability\": 0.01812323640116437, \"u_probability\": 0.014704592460464516, \"m_probability_description\": \"Amongst matching record comparisons, 1.81% of records are in the all other comparisons comparison level\", \"u_probability_description\": \"Amongst non-matching record comparisons, 1.47% of records are in the all other comparisons comparison level\", \"has_tf_adjustments\": false, \"tf_adjustment_column\": null, \"tf_adjustment_weight\": 1.0, \"is_null_level\": false, \"bayes_factor\": 1.2324881801308936, \"log2_bayes_factor\": 0.3015738108641911, \"comparison_vector_value\": 0, \"max_comparison_vector_value\": 2, \"bayes_factor_description\": \"If comparison level is `all other comparisons` then comparison is 1.23 times more likely to be a match\", \"probability_two_random_records_match\": 0.006781357319075399, \"comparison_sort_order\": 8, \"iteration\": 1}, {\"comparison_name\": \"probability_two_random_records_match\", \"sql_condition\": null, \"label_for_charts\": \"\", \"m_probability\": null, \"u_probability\": null, \"m_probability_description\": null, \"u_probability_description\": null, \"has_tf_adjustments\": false, \"tf_adjustment_column\": null, \"tf_adjustment_weight\": null, \"is_null_level\": false, \"bayes_factor\": 0.006827658108360675, \"log2_bayes_factor\": -7.194393466736079, \"comparison_vector_value\": 0, \"max_comparison_vector_value\": 0, \"bayes_factor_description\": \"The probability that two random records drawn at random match is 0.007 or one in  147.5 records.This is equivalent to a starting match weight of -7.194.\", \"probability_two_random_records_match\": 0.006781357319075399, \"comparison_sort_order\": -1, \"iteration\": 2}, {\"comparison_name\": \"last_name_12\", \"sql_condition\": \"\\\"last_name_12_l\\\" = \\\"last_name_12_r\\\"\", \"label_for_charts\": \"Exact match\", \"m_probability\": 0.8619754583189742, \"u_probability\": 0.0007093232453578939, \"m_probability_description\": \"Amongst matching record comparisons, 86.20% of records are in the exact match comparison level\", \"u_probability_description\": \"Amongst non-matching record comparisons, 0.07% of records are in the exact match comparison level\", \"has_tf_adjustments\": false, \"tf_adjustment_column\": null, \"tf_adjustment_weight\": 1.0, \"is_null_level\": false, \"bayes_factor\": 1215.208248087314, \"log2_bayes_factor\": 10.246987851775915, \"comparison_vector_value\": 2, \"max_comparison_vector_value\": 2, \"bayes_factor_description\": \"If comparison level is `exact match` then comparison is 1,215.21 times more likely to be a match\", \"probability_two_random_records_match\": 0.006781357319075399, \"comparison_sort_order\": 0, \"iteration\": 2}, {\"comparison_name\": \"last_name_12\", \"sql_condition\": \"jaro_winkler_similarity(\\\"last_name_12_l\\\", \\\"last_name_12_r\\\") >= 0.8333333333333334\", \"label_for_charts\": \"Jaro_winkler_similarity >= 0.8333333333333334\", \"m_probability\": 0.08871593424102356, \"u_probability\": 0.001329943668219914, \"m_probability_description\": \"Amongst matching record comparisons, 8.87% of records are in the jaro_winkler_similarity >= 0.8333333333333334 comparison level\", \"u_probability_description\": \"Amongst non-matching record comparisons, 0.13% of records are in the jaro_winkler_similarity >= 0.8333333333333334 comparison level\", \"has_tf_adjustments\": false, \"tf_adjustment_column\": null, \"tf_adjustment_weight\": 1.0, \"is_null_level\": false, \"bayes_factor\": 66.70653529240597, \"log2_bayes_factor\": 6.0597562052038825, \"comparison_vector_value\": 1, \"max_comparison_vector_value\": 2, \"bayes_factor_description\": \"If comparison level is `jaro_winkler_similarity >= 0.8333333333333334` then comparison is 66.71 times more likely to be a match\", \"probability_two_random_records_match\": 0.006781357319075399, \"comparison_sort_order\": 0, \"iteration\": 2}, {\"comparison_name\": \"last_name_12\", \"sql_condition\": \"ELSE\", \"label_for_charts\": \"All other comparisons\", \"m_probability\": 0.04930860744000221, \"u_probability\": 0.9979607330864222, \"m_probability_description\": \"Amongst matching record comparisons, 4.93% of records are in the all other comparisons comparison level\", \"u_probability_description\": \"Amongst non-matching record comparisons, 99.80% of records are in the all other comparisons comparison level\", \"has_tf_adjustments\": false, \"tf_adjustment_column\": null, \"tf_adjustment_weight\": 1.0, \"is_null_level\": false, \"bayes_factor\": 0.049409366325971614, \"log2_bayes_factor\": -4.339071636402589, \"comparison_vector_value\": 0, \"max_comparison_vector_value\": 2, \"bayes_factor_description\": \"If comparison level is `all other comparisons` then comparison is  20.24 times less likely to be a match\", \"probability_two_random_records_match\": 0.006781357319075399, \"comparison_sort_order\": 0, \"iteration\": 2}, {\"comparison_name\": \"middle_initial\", \"sql_condition\": \"\\\"middle_initial_l\\\" = \\\"middle_initial_r\\\"\", \"label_for_charts\": \"Exact match\", \"m_probability\": 0.9315828661427982, \"u_probability\": 0.07410500870140878, \"m_probability_description\": \"Amongst matching record comparisons, 93.16% of records are in the exact match comparison level\", \"u_probability_description\": \"Amongst non-matching record comparisons, 7.41% of records are in the exact match comparison level\", \"has_tf_adjustments\": false, \"tf_adjustment_column\": null, \"tf_adjustment_weight\": 1.0, \"is_null_level\": false, \"bayes_factor\": 12.571118774122596, \"log2_bayes_factor\": 3.652041143854594, \"comparison_vector_value\": 1, \"max_comparison_vector_value\": 1, \"bayes_factor_description\": \"If comparison level is `exact match` then comparison is 12.57 times more likely to be a match\", \"probability_two_random_records_match\": 0.006781357319075399, \"comparison_sort_order\": 1, \"iteration\": 2}, {\"comparison_name\": \"middle_initial\", \"sql_condition\": \"ELSE\", \"label_for_charts\": \"All other comparisons\", \"m_probability\": 0.06841713385720188, \"u_probability\": 0.9258949912985912, \"m_probability_description\": \"Amongst matching record comparisons, 6.84% of records are in the all other comparisons comparison level\", \"u_probability_description\": \"Amongst non-matching record comparisons, 92.59% of records are in the all other comparisons comparison level\", \"has_tf_adjustments\": false, \"tf_adjustment_column\": null, \"tf_adjustment_weight\": 1.0, \"is_null_level\": false, \"bayes_factor\": 0.07389297328549657, \"log2_bayes_factor\": -3.758419009275442, \"comparison_vector_value\": 0, \"max_comparison_vector_value\": 1, \"bayes_factor_description\": \"If comparison level is `all other comparisons` then comparison is  13.53 times less likely to be a match\", \"probability_two_random_records_match\": 0.006781357319075399, \"comparison_sort_order\": 1, \"iteration\": 2}, {\"comparison_name\": \"day_of_birth\", \"sql_condition\": \"\\\"day_of_birth_l\\\" = \\\"day_of_birth_r\\\"\", \"label_for_charts\": \"Exact match\", \"m_probability\": 0.9564355326448317, \"u_probability\": 0.03243028785148898, \"m_probability_description\": \"Amongst matching record comparisons, 95.64% of records are in the exact match comparison level\", \"u_probability_description\": \"Amongst non-matching record comparisons, 3.24% of records are in the exact match comparison level\", \"has_tf_adjustments\": false, \"tf_adjustment_column\": null, \"tf_adjustment_weight\": 1.0, \"is_null_level\": false, \"bayes_factor\": 29.4920457389933, \"log2_bayes_factor\": 4.882253994436415, \"comparison_vector_value\": 2, \"max_comparison_vector_value\": 2, \"bayes_factor_description\": \"If comparison level is `exact match` then comparison is 29.49 times more likely to be a match\", \"probability_two_random_records_match\": 0.006781357319075399, \"comparison_sort_order\": 2, \"iteration\": 2}, {\"comparison_name\": \"day_of_birth\", \"sql_condition\": \"abs(day_of_birth_l - day_of_birth_r) <= 5\", \"label_for_charts\": \"Inexact match\", \"m_probability\": 0.020966543980935743, \"u_probability\": 0.295173345919013, \"m_probability_description\": \"Amongst matching record comparisons, 2.10% of records are in the inexact match comparison level\", \"u_probability_description\": \"Amongst non-matching record comparisons, 29.52% of records are in the inexact match comparison level\", \"has_tf_adjustments\": false, \"tf_adjustment_column\": null, \"tf_adjustment_weight\": 1.0, \"is_null_level\": false, \"bayes_factor\": 0.07103129151332097, \"log2_bayes_factor\": -3.8154014726795085, \"comparison_vector_value\": 1, \"max_comparison_vector_value\": 2, \"bayes_factor_description\": \"If comparison level is `inexact match` then comparison is  14.08 times less likely to be a match\", \"probability_two_random_records_match\": 0.006781357319075399, \"comparison_sort_order\": 2, \"iteration\": 2}, {\"comparison_name\": \"day_of_birth\", \"sql_condition\": \"ELSE\", \"label_for_charts\": \"All other comparisons\", \"m_probability\": 0.022597923374232536, \"u_probability\": 0.672396366229498, \"m_probability_description\": \"Amongst matching record comparisons, 2.26% of records are in the all other comparisons comparison level\", \"u_probability_description\": \"Amongst non-matching record comparisons, 67.24% of records are in the all other comparisons comparison level\", \"has_tf_adjustments\": false, \"tf_adjustment_column\": null, \"tf_adjustment_weight\": 1.0, \"is_null_level\": false, \"bayes_factor\": 0.03360803911084724, \"log2_bayes_factor\": -4.895049819922145, \"comparison_vector_value\": 0, \"max_comparison_vector_value\": 2, \"bayes_factor_description\": \"If comparison level is `all other comparisons` then comparison is  29.75 times less likely to be a match\", \"probability_two_random_records_match\": 0.006781357319075399, \"comparison_sort_order\": 2, \"iteration\": 2}, {\"comparison_name\": \"month_of_birth\", \"sql_condition\": \"\\\"month_of_birth_l\\\" = \\\"month_of_birth_r\\\"\", \"label_for_charts\": \"Exact match\", \"m_probability\": 0.9678753374769761, \"u_probability\": 0.08355145831969693, \"m_probability_description\": \"Amongst matching record comparisons, 96.79% of records are in the exact match comparison level\", \"u_probability_description\": \"Amongst non-matching record comparisons, 8.36% of records are in the exact match comparison level\", \"has_tf_adjustments\": false, \"tf_adjustment_column\": null, \"tf_adjustment_weight\": 1.0, \"is_null_level\": false, \"bayes_factor\": 11.584182454045846, \"log2_bayes_factor\": 3.5340843254420253, \"comparison_vector_value\": 2, \"max_comparison_vector_value\": 2, \"bayes_factor_description\": \"If comparison level is `exact match` then comparison is 11.58 times more likely to be a match\", \"probability_two_random_records_match\": 0.006781357319075399, \"comparison_sort_order\": 3, \"iteration\": 2}, {\"comparison_name\": \"month_of_birth\", \"sql_condition\": \"abs(month_of_birth_l - month_of_birth_r) <= 3\", \"label_for_charts\": \"Inexact match\", \"m_probability\": 0.015928229968678546, \"u_probability\": 0.4143133397869391, \"m_probability_description\": \"Amongst matching record comparisons, 1.59% of records are in the inexact match comparison level\", \"u_probability_description\": \"Amongst non-matching record comparisons, 41.43% of records are in the inexact match comparison level\", \"has_tf_adjustments\": false, \"tf_adjustment_column\": null, \"tf_adjustment_weight\": 1.0, \"is_null_level\": false, \"bayes_factor\": 0.03844488805711553, \"log2_bayes_factor\": -4.701064411222086, \"comparison_vector_value\": 1, \"max_comparison_vector_value\": 2, \"bayes_factor_description\": \"If comparison level is `inexact match` then comparison is  26.01 times less likely to be a match\", \"probability_two_random_records_match\": 0.006781357319075399, \"comparison_sort_order\": 3, \"iteration\": 2}, {\"comparison_name\": \"month_of_birth\", \"sql_condition\": \"ELSE\", \"label_for_charts\": \"All other comparisons\", \"m_probability\": 0.016196432554345348, \"u_probability\": 0.5021352018933639, \"m_probability_description\": \"Amongst matching record comparisons, 1.62% of records are in the all other comparisons comparison level\", \"u_probability_description\": \"Amongst non-matching record comparisons, 50.21% of records are in the all other comparisons comparison level\", \"has_tf_adjustments\": false, \"tf_adjustment_column\": null, \"tf_adjustment_weight\": 1.0, \"is_null_level\": false, \"bayes_factor\": 0.032255122710526295, \"log2_bayes_factor\": -4.954327884365459, \"comparison_vector_value\": 0, \"max_comparison_vector_value\": 2, \"bayes_factor_description\": \"If comparison level is `all other comparisons` then comparison is  31.00 times less likely to be a match\", \"probability_two_random_records_match\": 0.006781357319075399, \"comparison_sort_order\": 3, \"iteration\": 2}, {\"comparison_name\": \"year_of_birth\", \"sql_condition\": \"\\\"year_of_birth_l\\\" = \\\"year_of_birth_r\\\"\", \"label_for_charts\": \"Exact match\", \"m_probability\": 0.9527506752232905, \"u_probability\": 0.011125465216557518, \"m_probability_description\": \"Amongst matching record comparisons, 95.28% of records are in the exact match comparison level\", \"u_probability_description\": \"Amongst non-matching record comparisons, 1.11% of records are in the exact match comparison level\", \"has_tf_adjustments\": false, \"tf_adjustment_column\": null, \"tf_adjustment_weight\": 1.0, \"is_null_level\": false, \"bayes_factor\": 85.63692903424439, \"log2_bayes_factor\": 6.420161156064961, \"comparison_vector_value\": 2, \"max_comparison_vector_value\": 2, \"bayes_factor_description\": \"If comparison level is `exact match` then comparison is 85.64 times more likely to be a match\", \"probability_two_random_records_match\": 0.006781357319075399, \"comparison_sort_order\": 4, \"iteration\": 2}, {\"comparison_name\": \"year_of_birth\", \"sql_condition\": \"abs(year_of_birth_l - year_of_birth_r) <= 5\", \"label_for_charts\": \"Inexact match\", \"m_probability\": 0.014585622987725607, \"u_probability\": 0.11053660239472413, \"m_probability_description\": \"Amongst matching record comparisons, 1.46% of records are in the inexact match comparison level\", \"u_probability_description\": \"Amongst non-matching record comparisons, 11.05% of records are in the inexact match comparison level\", \"has_tf_adjustments\": false, \"tf_adjustment_column\": null, \"tf_adjustment_weight\": 1.0, \"is_null_level\": false, \"bayes_factor\": 0.13195287960489885, \"log2_bayes_factor\": -2.9219052599762967, \"comparison_vector_value\": 1, \"max_comparison_vector_value\": 2, \"bayes_factor_description\": \"If comparison level is `inexact match` then comparison is  7.58 times less likely to be a match\", \"probability_two_random_records_match\": 0.006781357319075399, \"comparison_sort_order\": 4, \"iteration\": 2}, {\"comparison_name\": \"year_of_birth\", \"sql_condition\": \"ELSE\", \"label_for_charts\": \"All other comparisons\", \"m_probability\": 0.03266370178898386, \"u_probability\": 0.8783379323887184, \"m_probability_description\": \"Amongst matching record comparisons, 3.27% of records are in the all other comparisons comparison level\", \"u_probability_description\": \"Amongst non-matching record comparisons, 87.83% of records are in the all other comparisons comparison level\", \"has_tf_adjustments\": false, \"tf_adjustment_column\": null, \"tf_adjustment_weight\": 1.0, \"is_null_level\": false, \"bayes_factor\": 0.03718808056046493, \"log2_bayes_factor\": -4.74901590370602, \"comparison_vector_value\": 0, \"max_comparison_vector_value\": 2, \"bayes_factor_description\": \"If comparison level is `all other comparisons` then comparison is  26.89 times less likely to be a match\", \"probability_two_random_records_match\": 0.006781357319075399, \"comparison_sort_order\": 4, \"iteration\": 2}, {\"comparison_name\": \"street_number\", \"sql_condition\": \"\\\"street_number_l\\\" = \\\"street_number_r\\\"\", \"label_for_charts\": \"Exact match\", \"m_probability\": 0.768806487936834, \"u_probability\": 0.004643745865751094, \"m_probability_description\": \"Amongst matching record comparisons, 76.88% of records are in the exact match comparison level\", \"u_probability_description\": \"Amongst non-matching record comparisons, 0.46% of records are in the exact match comparison level\", \"has_tf_adjustments\": false, \"tf_adjustment_column\": null, \"tf_adjustment_weight\": 1.0, \"is_null_level\": false, \"bayes_factor\": 165.55739916927706, \"log2_bayes_factor\": 7.371187679556926, \"comparison_vector_value\": 2, \"max_comparison_vector_value\": 2, \"bayes_factor_description\": \"If comparison level is `exact match` then comparison is 165.56 times more likely to be a match\", \"probability_two_random_records_match\": 0.006781357319075399, \"comparison_sort_order\": 5, \"iteration\": 2}, {\"comparison_name\": \"street_number\", \"sql_condition\": \"jaro_winkler_similarity(\\\"street_number_l\\\", \\\"street_number_r\\\") >= 0.8333333333333334\", \"label_for_charts\": \"Jaro_winkler_similarity >= 0.8333333333333334\", \"m_probability\": 0.06576308953210272, \"u_probability\": 0.012708549889228378, \"m_probability_description\": \"Amongst matching record comparisons, 6.58% of records are in the jaro_winkler_similarity >= 0.8333333333333334 comparison level\", \"u_probability_description\": \"Amongst non-matching record comparisons, 1.27% of records are in the jaro_winkler_similarity >= 0.8333333333333334 comparison level\", \"has_tf_adjustments\": false, \"tf_adjustment_column\": null, \"tf_adjustment_weight\": 1.0, \"is_null_level\": false, \"bayes_factor\": 5.174712308273878, \"log2_bayes_factor\": 2.37147865720831, \"comparison_vector_value\": 1, \"max_comparison_vector_value\": 2, \"bayes_factor_description\": \"If comparison level is `jaro_winkler_similarity >= 0.8333333333333334` then comparison is 5.17 times more likely to be a match\", \"probability_two_random_records_match\": 0.006781357319075399, \"comparison_sort_order\": 5, \"iteration\": 2}, {\"comparison_name\": \"street_number\", \"sql_condition\": \"ELSE\", \"label_for_charts\": \"All other comparisons\", \"m_probability\": 0.16543042253106327, \"u_probability\": 0.9826477042450206, \"m_probability_description\": \"Amongst matching record comparisons, 16.54% of records are in the all other comparisons comparison level\", \"u_probability_description\": \"Amongst non-matching record comparisons, 98.26% of records are in the all other comparisons comparison level\", \"has_tf_adjustments\": false, \"tf_adjustment_column\": null, \"tf_adjustment_weight\": 1.0, \"is_null_level\": false, \"bayes_factor\": 0.16835171121492148, \"log2_bayes_factor\": -2.570449709339658, \"comparison_vector_value\": 0, \"max_comparison_vector_value\": 2, \"bayes_factor_description\": \"If comparison level is `all other comparisons` then comparison is  5.94 times less likely to be a match\", \"probability_two_random_records_match\": 0.006781357319075399, \"comparison_sort_order\": 5, \"iteration\": 2}, {\"comparison_name\": \"street_name\", \"sql_condition\": \"\\\"street_name_l\\\" = \\\"street_name_r\\\"\", \"label_for_charts\": \"Exact match\", \"m_probability\": 0.7559080782987811, \"u_probability\": 0.0036909475444507293, \"m_probability_description\": \"Amongst matching record comparisons, 75.59% of records are in the exact match comparison level\", \"u_probability_description\": \"Amongst non-matching record comparisons, 0.37% of records are in the exact match comparison level\", \"has_tf_adjustments\": false, \"tf_adjustment_column\": null, \"tf_adjustment_weight\": 1.0, \"is_null_level\": false, \"bayes_factor\": 204.80054760877726, \"log2_bayes_factor\": 7.678075762687887, \"comparison_vector_value\": 2, \"max_comparison_vector_value\": 2, \"bayes_factor_description\": \"If comparison level is `exact match` then comparison is 204.80 times more likely to be a match\", \"probability_two_random_records_match\": 0.006781357319075399, \"comparison_sort_order\": 6, \"iteration\": 2}, {\"comparison_name\": \"street_name\", \"sql_condition\": \"jaro_winkler_similarity(\\\"street_name_l\\\", \\\"street_name_r\\\") >= 0.8333333333333334\", \"label_for_charts\": \"Jaro_winkler_similarity >= 0.8333333333333334\", \"m_probability\": 0.10700382767695484, \"u_probability\": 0.0018843912156014068, \"m_probability_description\": \"Amongst matching record comparisons, 10.70% of records are in the jaro_winkler_similarity >= 0.8333333333333334 comparison level\", \"u_probability_description\": \"Amongst non-matching record comparisons, 0.19% of records are in the jaro_winkler_similarity >= 0.8333333333333334 comparison level\", \"has_tf_adjustments\": false, \"tf_adjustment_column\": null, \"tf_adjustment_weight\": 1.0, \"is_null_level\": false, \"bayes_factor\": 56.78429552793494, \"log2_bayes_factor\": 5.827420082774046, \"comparison_vector_value\": 1, \"max_comparison_vector_value\": 2, \"bayes_factor_description\": \"If comparison level is `jaro_winkler_similarity >= 0.8333333333333334` then comparison is 56.78 times more likely to be a match\", \"probability_two_random_records_match\": 0.006781357319075399, \"comparison_sort_order\": 6, \"iteration\": 2}, {\"comparison_name\": \"street_name\", \"sql_condition\": \"ELSE\", \"label_for_charts\": \"All other comparisons\", \"m_probability\": 0.13708809402426403, \"u_probability\": 0.9944246612399479, \"m_probability_description\": \"Amongst matching record comparisons, 13.71% of records are in the all other comparisons comparison level\", \"u_probability_description\": \"Amongst non-matching record comparisons, 99.44% of records are in the all other comparisons comparison level\", \"has_tf_adjustments\": false, \"tf_adjustment_column\": null, \"tf_adjustment_weight\": 1.0, \"is_null_level\": false, \"bayes_factor\": 0.1378566917812848, \"log2_bayes_factor\": -2.858758795146401, \"comparison_vector_value\": 0, \"max_comparison_vector_value\": 2, \"bayes_factor_description\": \"If comparison level is `all other comparisons` then comparison is  7.25 times less likely to be a match\", \"probability_two_random_records_match\": 0.006781357319075399, \"comparison_sort_order\": 6, \"iteration\": 2}, {\"comparison_name\": \"unit_number\", \"sql_condition\": \"\\\"unit_number_l\\\" = \\\"unit_number_r\\\"\", \"label_for_charts\": \"Exact match\", \"m_probability\": 0.9105065590035153, \"u_probability\": 0.005427064313248123, \"m_probability_description\": \"Amongst matching record comparisons, 91.05% of records are in the exact match comparison level\", \"u_probability_description\": \"Amongst non-matching record comparisons, 0.54% of records are in the exact match comparison level\", \"has_tf_adjustments\": false, \"tf_adjustment_column\": null, \"tf_adjustment_weight\": 1.0, \"is_null_level\": false, \"bayes_factor\": 167.77147025526455, \"log2_bayes_factor\": 7.390353594344595, \"comparison_vector_value\": 2, \"max_comparison_vector_value\": 2, \"bayes_factor_description\": \"If comparison level is `exact match` then comparison is 167.77 times more likely to be a match\", \"probability_two_random_records_match\": 0.006781357319075399, \"comparison_sort_order\": 7, \"iteration\": 2}, {\"comparison_name\": \"unit_number\", \"sql_condition\": \"jaro_winkler_similarity(\\\"unit_number_l\\\", \\\"unit_number_r\\\") >= 0.8333333333333334\", \"label_for_charts\": \"Jaro_winkler_similarity >= 0.8333333333333334\", \"m_probability\": 0.08428798255888088, \"u_probability\": 0.08399269628727937, \"m_probability_description\": \"Amongst matching record comparisons, 8.43% of records are in the jaro_winkler_similarity >= 0.8333333333333334 comparison level\", \"u_probability_description\": \"Amongst non-matching record comparisons, 8.40% of records are in the jaro_winkler_similarity >= 0.8333333333333334 comparison level\", \"has_tf_adjustments\": false, \"tf_adjustment_column\": null, \"tf_adjustment_weight\": 1.0, \"is_null_level\": false, \"bayes_factor\": 1.003515618436531, \"log2_bayes_factor\": 0.0050630705775434924, \"comparison_vector_value\": 1, \"max_comparison_vector_value\": 2, \"bayes_factor_description\": \"If comparison level is `jaro_winkler_similarity >= 0.8333333333333334` then comparison is 1.00 times more likely to be a match\", \"probability_two_random_records_match\": 0.006781357319075399, \"comparison_sort_order\": 7, \"iteration\": 2}, {\"comparison_name\": \"unit_number\", \"sql_condition\": \"ELSE\", \"label_for_charts\": \"All other comparisons\", \"m_probability\": 0.0052054584376038365, \"u_probability\": 0.9105802393994725, \"m_probability_description\": \"Amongst matching record comparisons, 0.52% of records are in the all other comparisons comparison level\", \"u_probability_description\": \"Amongst non-matching record comparisons, 91.06% of records are in the all other comparisons comparison level\", \"has_tf_adjustments\": false, \"tf_adjustment_column\": null, \"tf_adjustment_weight\": 1.0, \"is_null_level\": false, \"bayes_factor\": 0.005716638921394599, \"log2_bayes_factor\": -7.4506171160914185, \"comparison_vector_value\": 0, \"max_comparison_vector_value\": 2, \"bayes_factor_description\": \"If comparison level is `all other comparisons` then comparison is  174.93 times less likely to be a match\", \"probability_two_random_records_match\": 0.006781357319075399, \"comparison_sort_order\": 7, \"iteration\": 2}, {\"comparison_name\": \"zipcode\", \"sql_condition\": \"\\\"zipcode_l\\\" = \\\"zipcode_r\\\"\", \"label_for_charts\": \"Exact match\", \"m_probability\": 0.9337718398780819, \"u_probability\": 0.9441587509332844, \"m_probability_description\": \"Amongst matching record comparisons, 93.38% of records are in the exact match comparison level\", \"u_probability_description\": \"Amongst non-matching record comparisons, 94.42% of records are in the exact match comparison level\", \"has_tf_adjustments\": false, \"tf_adjustment_column\": null, \"tf_adjustment_weight\": 1.0, \"is_null_level\": false, \"bayes_factor\": 0.9889987663145258, \"log2_bayes_factor\": -0.0159593735319204, \"comparison_vector_value\": 2, \"max_comparison_vector_value\": 2, \"bayes_factor_description\": \"If comparison level is `exact match` then comparison is  1.01 times less likely to be a match\", \"probability_two_random_records_match\": 0.006781357319075399, \"comparison_sort_order\": 8, \"iteration\": 2}, {\"comparison_name\": \"zipcode\", \"sql_condition\": \"jaro_winkler_similarity(\\\"zipcode_l\\\", \\\"zipcode_r\\\") >= 0.8333333333333334\", \"label_for_charts\": \"Jaro_winkler_similarity >= 0.8333333333333334\", \"m_probability\": 0.048123068070730586, \"u_probability\": 0.041136656606251085, \"m_probability_description\": \"Amongst matching record comparisons, 4.81% of records are in the jaro_winkler_similarity >= 0.8333333333333334 comparison level\", \"u_probability_description\": \"Amongst non-matching record comparisons, 4.11% of records are in the jaro_winkler_similarity >= 0.8333333333333334 comparison level\", \"has_tf_adjustments\": false, \"tf_adjustment_column\": null, \"tf_adjustment_weight\": 1.0, \"is_null_level\": false, \"bayes_factor\": 1.169834207270453, \"log2_bayes_factor\": 0.22630408083670575, \"comparison_vector_value\": 1, \"max_comparison_vector_value\": 2, \"bayes_factor_description\": \"If comparison level is `jaro_winkler_similarity >= 0.8333333333333334` then comparison is 1.17 times more likely to be a match\", \"probability_two_random_records_match\": 0.006781357319075399, \"comparison_sort_order\": 8, \"iteration\": 2}, {\"comparison_name\": \"zipcode\", \"sql_condition\": \"ELSE\", \"label_for_charts\": \"All other comparisons\", \"m_probability\": 0.0181050920511876, \"u_probability\": 0.014704592460464516, \"m_probability_description\": \"Amongst matching record comparisons, 1.81% of records are in the all other comparisons comparison level\", \"u_probability_description\": \"Amongst non-matching record comparisons, 1.47% of records are in the all other comparisons comparison level\", \"has_tf_adjustments\": false, \"tf_adjustment_column\": null, \"tf_adjustment_weight\": 1.0, \"is_null_level\": false, \"bayes_factor\": 1.2312542561016793, \"log2_bayes_factor\": 0.3001287115709823, \"comparison_vector_value\": 0, \"max_comparison_vector_value\": 2, \"bayes_factor_description\": \"If comparison level is `all other comparisons` then comparison is 1.23 times more likely to be a match\", \"probability_two_random_records_match\": 0.006781357319075399, \"comparison_sort_order\": 8, \"iteration\": 2}, {\"comparison_name\": \"probability_two_random_records_match\", \"sql_condition\": null, \"label_for_charts\": \"\", \"m_probability\": null, \"u_probability\": null, \"m_probability_description\": null, \"u_probability_description\": null, \"has_tf_adjustments\": false, \"tf_adjustment_column\": null, \"tf_adjustment_weight\": null, \"is_null_level\": false, \"bayes_factor\": 0.006827658108360675, \"log2_bayes_factor\": -7.194393466736079, \"comparison_vector_value\": 0, \"max_comparison_vector_value\": 0, \"bayes_factor_description\": \"The probability that two random records drawn at random match is 0.007 or one in  147.5 records.This is equivalent to a starting match weight of -7.194.\", \"probability_two_random_records_match\": 0.006781357319075399, \"comparison_sort_order\": -1, \"iteration\": 3}, {\"comparison_name\": \"last_name_12\", \"sql_condition\": \"\\\"last_name_12_l\\\" = \\\"last_name_12_r\\\"\", \"label_for_charts\": \"Exact match\", \"m_probability\": 0.8610301879887261, \"u_probability\": 0.0007093232453578939, \"m_probability_description\": \"Amongst matching record comparisons, 86.10% of records are in the exact match comparison level\", \"u_probability_description\": \"Amongst non-matching record comparisons, 0.07% of records are in the exact match comparison level\", \"has_tf_adjustments\": false, \"tf_adjustment_column\": null, \"tf_adjustment_weight\": 1.0, \"is_null_level\": false, \"bayes_factor\": 1213.8756111880803, \"log2_bayes_factor\": 10.245404877329497, \"comparison_vector_value\": 2, \"max_comparison_vector_value\": 2, \"bayes_factor_description\": \"If comparison level is `exact match` then comparison is 1,213.88 times more likely to be a match\", \"probability_two_random_records_match\": 0.006781357319075399, \"comparison_sort_order\": 0, \"iteration\": 3}, {\"comparison_name\": \"last_name_12\", \"sql_condition\": \"jaro_winkler_similarity(\\\"last_name_12_l\\\", \\\"last_name_12_r\\\") >= 0.8333333333333334\", \"label_for_charts\": \"Jaro_winkler_similarity >= 0.8333333333333334\", \"m_probability\": 0.08864464931429421, \"u_probability\": 0.001329943668219914, \"m_probability_description\": \"Amongst matching record comparisons, 8.86% of records are in the jaro_winkler_similarity >= 0.8333333333333334 comparison level\", \"u_probability_description\": \"Amongst non-matching record comparisons, 0.13% of records are in the jaro_winkler_similarity >= 0.8333333333333334 comparison level\", \"has_tf_adjustments\": false, \"tf_adjustment_column\": null, \"tf_adjustment_weight\": 1.0, \"is_null_level\": false, \"bayes_factor\": 66.65293533292441, \"log2_bayes_factor\": 6.058596506540755, \"comparison_vector_value\": 1, \"max_comparison_vector_value\": 2, \"bayes_factor_description\": \"If comparison level is `jaro_winkler_similarity >= 0.8333333333333334` then comparison is 66.65 times more likely to be a match\", \"probability_two_random_records_match\": 0.006781357319075399, \"comparison_sort_order\": 0, \"iteration\": 3}, {\"comparison_name\": \"last_name_12\", \"sql_condition\": \"ELSE\", \"label_for_charts\": \"All other comparisons\", \"m_probability\": 0.05032516269697961, \"u_probability\": 0.9979607330864222, \"m_probability_description\": \"Amongst matching record comparisons, 5.03% of records are in the all other comparisons comparison level\", \"u_probability_description\": \"Amongst non-matching record comparisons, 99.80% of records are in the all other comparisons comparison level\", \"has_tf_adjustments\": false, \"tf_adjustment_column\": null, \"tf_adjustment_weight\": 1.0, \"is_null_level\": false, \"bayes_factor\": 0.050427998846545315, \"log2_bayes_factor\": -4.309631214359488, \"comparison_vector_value\": 0, \"max_comparison_vector_value\": 2, \"bayes_factor_description\": \"If comparison level is `all other comparisons` then comparison is  19.83 times less likely to be a match\", \"probability_two_random_records_match\": 0.006781357319075399, \"comparison_sort_order\": 0, \"iteration\": 3}, {\"comparison_name\": \"middle_initial\", \"sql_condition\": \"\\\"middle_initial_l\\\" = \\\"middle_initial_r\\\"\", \"label_for_charts\": \"Exact match\", \"m_probability\": 0.9310579544848365, \"u_probability\": 0.07410500870140878, \"m_probability_description\": \"Amongst matching record comparisons, 93.11% of records are in the exact match comparison level\", \"u_probability_description\": \"Amongst non-matching record comparisons, 7.41% of records are in the exact match comparison level\", \"has_tf_adjustments\": false, \"tf_adjustment_column\": null, \"tf_adjustment_weight\": 1.0, \"is_null_level\": false, \"bayes_factor\": 12.5640354248705, \"log2_bayes_factor\": 3.6512280107400326, \"comparison_vector_value\": 1, \"max_comparison_vector_value\": 1, \"bayes_factor_description\": \"If comparison level is `exact match` then comparison is 12.56 times more likely to be a match\", \"probability_two_random_records_match\": 0.006781357319075399, \"comparison_sort_order\": 1, \"iteration\": 3}, {\"comparison_name\": \"middle_initial\", \"sql_condition\": \"ELSE\", \"label_for_charts\": \"All other comparisons\", \"m_probability\": 0.06894204551516347, \"u_probability\": 0.9258949912985912, \"m_probability_description\": \"Amongst matching record comparisons, 6.89% of records are in the all other comparisons comparison level\", \"u_probability_description\": \"Amongst non-matching record comparisons, 92.59% of records are in the all other comparisons comparison level\", \"has_tf_adjustments\": false, \"tf_adjustment_column\": null, \"tf_adjustment_weight\": 1.0, \"is_null_level\": false, \"bayes_factor\": 0.07445989681666872, \"log2_bayes_factor\": -3.7473925728088213, \"comparison_vector_value\": 0, \"max_comparison_vector_value\": 1, \"bayes_factor_description\": \"If comparison level is `all other comparisons` then comparison is  13.43 times less likely to be a match\", \"probability_two_random_records_match\": 0.006781357319075399, \"comparison_sort_order\": 1, \"iteration\": 3}, {\"comparison_name\": \"day_of_birth\", \"sql_condition\": \"\\\"day_of_birth_l\\\" = \\\"day_of_birth_r\\\"\", \"label_for_charts\": \"Exact match\", \"m_probability\": 0.9561907087202842, \"u_probability\": 0.03243028785148898, \"m_probability_description\": \"Amongst matching record comparisons, 95.62% of records are in the exact match comparison level\", \"u_probability_description\": \"Amongst non-matching record comparisons, 3.24% of records are in the exact match comparison level\", \"has_tf_adjustments\": false, \"tf_adjustment_column\": null, \"tf_adjustment_weight\": 1.0, \"is_null_level\": false, \"bayes_factor\": 29.48449650212964, \"log2_bayes_factor\": 4.881884652788658, \"comparison_vector_value\": 2, \"max_comparison_vector_value\": 2, \"bayes_factor_description\": \"If comparison level is `exact match` then comparison is 29.48 times more likely to be a match\", \"probability_two_random_records_match\": 0.006781357319075399, \"comparison_sort_order\": 2, \"iteration\": 3}, {\"comparison_name\": \"day_of_birth\", \"sql_condition\": \"abs(day_of_birth_l - day_of_birth_r) <= 5\", \"label_for_charts\": \"Inexact match\", \"m_probability\": 0.021071632477902034, \"u_probability\": 0.295173345919013, \"m_probability_description\": \"Amongst matching record comparisons, 2.11% of records are in the inexact match comparison level\", \"u_probability_description\": \"Amongst non-matching record comparisons, 29.52% of records are in the inexact match comparison level\", \"has_tf_adjustments\": false, \"tf_adjustment_column\": null, \"tf_adjustment_weight\": 1.0, \"is_null_level\": false, \"bayes_factor\": 0.07138731450258885, \"log2_bayes_factor\": -3.8081884590802546, \"comparison_vector_value\": 1, \"max_comparison_vector_value\": 2, \"bayes_factor_description\": \"If comparison level is `inexact match` then comparison is  14.01 times less likely to be a match\", \"probability_two_random_records_match\": 0.006781357319075399, \"comparison_sort_order\": 2, \"iteration\": 3}, {\"comparison_name\": \"day_of_birth\", \"sql_condition\": \"ELSE\", \"label_for_charts\": \"All other comparisons\", \"m_probability\": 0.02273765880181385, \"u_probability\": 0.672396366229498, \"m_probability_description\": \"Amongst matching record comparisons, 2.27% of records are in the all other comparisons comparison level\", \"u_probability_description\": \"Amongst non-matching record comparisons, 67.24% of records are in the all other comparisons comparison level\", \"has_tf_adjustments\": false, \"tf_adjustment_column\": null, \"tf_adjustment_weight\": 1.0, \"is_null_level\": false, \"bayes_factor\": 0.03381585615834987, \"log2_bayes_factor\": -4.886156309035654, \"comparison_vector_value\": 0, \"max_comparison_vector_value\": 2, \"bayes_factor_description\": \"If comparison level is `all other comparisons` then comparison is  29.57 times less likely to be a match\", \"probability_two_random_records_match\": 0.006781357319075399, \"comparison_sort_order\": 2, \"iteration\": 3}, {\"comparison_name\": \"month_of_birth\", \"sql_condition\": \"\\\"month_of_birth_l\\\" = \\\"month_of_birth_r\\\"\", \"label_for_charts\": \"Exact match\", \"m_probability\": 0.9677244463823729, \"u_probability\": 0.08355145831969693, \"m_probability_description\": \"Amongst matching record comparisons, 96.77% of records are in the exact match comparison level\", \"u_probability_description\": \"Amongst non-matching record comparisons, 8.36% of records are in the exact match comparison level\", \"has_tf_adjustments\": false, \"tf_adjustment_column\": null, \"tf_adjustment_weight\": 1.0, \"is_null_level\": false, \"bayes_factor\": 11.58237648802637, \"log2_bayes_factor\": 3.5338593927507174, \"comparison_vector_value\": 2, \"max_comparison_vector_value\": 2, \"bayes_factor_description\": \"If comparison level is `exact match` then comparison is 11.58 times more likely to be a match\", \"probability_two_random_records_match\": 0.006781357319075399, \"comparison_sort_order\": 3, \"iteration\": 3}, {\"comparison_name\": \"month_of_birth\", \"sql_condition\": \"abs(month_of_birth_l - month_of_birth_r) <= 3\", \"label_for_charts\": \"Inexact match\", \"m_probability\": 0.016037664262505816, \"u_probability\": 0.4143133397869391, \"m_probability_description\": \"Amongst matching record comparisons, 1.60% of records are in the inexact match comparison level\", \"u_probability_description\": \"Amongst non-matching record comparisons, 41.43% of records are in the inexact match comparison level\", \"has_tf_adjustments\": false, \"tf_adjustment_column\": null, \"tf_adjustment_weight\": 1.0, \"is_null_level\": false, \"bayes_factor\": 0.03870902218777989, \"log2_bayes_factor\": -4.6911863249928105, \"comparison_vector_value\": 1, \"max_comparison_vector_value\": 2, \"bayes_factor_description\": \"If comparison level is `inexact match` then comparison is  25.83 times less likely to be a match\", \"probability_two_random_records_match\": 0.006781357319075399, \"comparison_sort_order\": 3, \"iteration\": 3}, {\"comparison_name\": \"month_of_birth\", \"sql_condition\": \"ELSE\", \"label_for_charts\": \"All other comparisons\", \"m_probability\": 0.016237889355121306, \"u_probability\": 0.5021352018933639, \"m_probability_description\": \"Amongst matching record comparisons, 1.62% of records are in the all other comparisons comparison level\", \"u_probability_description\": \"Amongst non-matching record comparisons, 50.21% of records are in the all other comparisons comparison level\", \"has_tf_adjustments\": false, \"tf_adjustment_column\": null, \"tf_adjustment_weight\": 1.0, \"is_null_level\": false, \"bayes_factor\": 0.03233768374313194, \"log2_bayes_factor\": -4.950639843429776, \"comparison_vector_value\": 0, \"max_comparison_vector_value\": 2, \"bayes_factor_description\": \"If comparison level is `all other comparisons` then comparison is  30.92 times less likely to be a match\", \"probability_two_random_records_match\": 0.006781357319075399, \"comparison_sort_order\": 3, \"iteration\": 3}, {\"comparison_name\": \"year_of_birth\", \"sql_condition\": \"\\\"year_of_birth_l\\\" = \\\"year_of_birth_r\\\"\", \"label_for_charts\": \"Exact match\", \"m_probability\": 0.952490568630871, \"u_probability\": 0.011125465216557518, \"m_probability_description\": \"Amongst matching record comparisons, 95.25% of records are in the exact match comparison level\", \"u_probability_description\": \"Amongst non-matching record comparisons, 1.11% of records are in the exact match comparison level\", \"has_tf_adjustments\": false, \"tf_adjustment_column\": null, \"tf_adjustment_weight\": 1.0, \"is_null_level\": false, \"bayes_factor\": 85.61354964404752, \"log2_bayes_factor\": 6.419767237977656, \"comparison_vector_value\": 2, \"max_comparison_vector_value\": 2, \"bayes_factor_description\": \"If comparison level is `exact match` then comparison is 85.61 times more likely to be a match\", \"probability_two_random_records_match\": 0.006781357319075399, \"comparison_sort_order\": 4, \"iteration\": 3}, {\"comparison_name\": \"year_of_birth\", \"sql_condition\": \"abs(year_of_birth_l - year_of_birth_r) <= 5\", \"label_for_charts\": \"Inexact match\", \"m_probability\": 0.014694955597035854, \"u_probability\": 0.11053660239472413, \"m_probability_description\": \"Amongst matching record comparisons, 1.47% of records are in the inexact match comparison level\", \"u_probability_description\": \"Amongst non-matching record comparisons, 11.05% of records are in the inexact match comparison level\", \"has_tf_adjustments\": false, \"tf_adjustment_column\": null, \"tf_adjustment_weight\": 1.0, \"is_null_level\": false, \"bayes_factor\": 0.1329419873478691, \"log2_bayes_factor\": -2.9111312688903674, \"comparison_vector_value\": 1, \"max_comparison_vector_value\": 2, \"bayes_factor_description\": \"If comparison level is `inexact match` then comparison is  7.52 times less likely to be a match\", \"probability_two_random_records_match\": 0.006781357319075399, \"comparison_sort_order\": 4, \"iteration\": 3}, {\"comparison_name\": \"year_of_birth\", \"sql_condition\": \"ELSE\", \"label_for_charts\": \"All other comparisons\", \"m_probability\": 0.03281447577209318, \"u_probability\": 0.8783379323887184, \"m_probability_description\": \"Amongst matching record comparisons, 3.28% of records are in the all other comparisons comparison level\", \"u_probability_description\": \"Amongst non-matching record comparisons, 87.83% of records are in the all other comparisons comparison level\", \"has_tf_adjustments\": false, \"tf_adjustment_column\": null, \"tf_adjustment_weight\": 1.0, \"is_null_level\": false, \"bayes_factor\": 0.03735973884544788, \"log2_bayes_factor\": -4.742371819515536, \"comparison_vector_value\": 0, \"max_comparison_vector_value\": 2, \"bayes_factor_description\": \"If comparison level is `all other comparisons` then comparison is  26.77 times less likely to be a match\", \"probability_two_random_records_match\": 0.006781357319075399, \"comparison_sort_order\": 4, \"iteration\": 3}, {\"comparison_name\": \"street_number\", \"sql_condition\": \"\\\"street_number_l\\\" = \\\"street_number_r\\\"\", \"label_for_charts\": \"Exact match\", \"m_probability\": 0.768071048192094, \"u_probability\": 0.004643745865751094, \"m_probability_description\": \"Amongst matching record comparisons, 76.81% of records are in the exact match comparison level\", \"u_probability_description\": \"Amongst non-matching record comparisons, 0.46% of records are in the exact match comparison level\", \"has_tf_adjustments\": false, \"tf_adjustment_column\": null, \"tf_adjustment_weight\": 1.0, \"is_null_level\": false, \"bayes_factor\": 165.3990270778661, \"log2_bayes_factor\": 7.369806937983634, \"comparison_vector_value\": 2, \"max_comparison_vector_value\": 2, \"bayes_factor_description\": \"If comparison level is `exact match` then comparison is 165.40 times more likely to be a match\", \"probability_two_random_records_match\": 0.006781357319075399, \"comparison_sort_order\": 5, \"iteration\": 3}, {\"comparison_name\": \"street_number\", \"sql_condition\": \"jaro_winkler_similarity(\\\"street_number_l\\\", \\\"street_number_r\\\") >= 0.8333333333333334\", \"label_for_charts\": \"Jaro_winkler_similarity >= 0.8333333333333334\", \"m_probability\": 0.06566822534328715, \"u_probability\": 0.012708549889228378, \"m_probability_description\": \"Amongst matching record comparisons, 6.57% of records are in the jaro_winkler_similarity >= 0.8333333333333334 comparison level\", \"u_probability_description\": \"Amongst non-matching record comparisons, 1.27% of records are in the jaro_winkler_similarity >= 0.8333333333333334 comparison level\", \"has_tf_adjustments\": false, \"tf_adjustment_column\": null, \"tf_adjustment_weight\": 1.0, \"is_null_level\": false, \"bayes_factor\": 5.167247712419714, \"log2_bayes_factor\": 2.369396046703222, \"comparison_vector_value\": 1, \"max_comparison_vector_value\": 2, \"bayes_factor_description\": \"If comparison level is `jaro_winkler_similarity >= 0.8333333333333334` then comparison is 5.17 times more likely to be a match\", \"probability_two_random_records_match\": 0.006781357319075399, \"comparison_sort_order\": 5, \"iteration\": 3}, {\"comparison_name\": \"street_number\", \"sql_condition\": \"ELSE\", \"label_for_charts\": \"All other comparisons\", \"m_probability\": 0.1662607264646188, \"u_probability\": 0.9826477042450206, \"m_probability_description\": \"Amongst matching record comparisons, 16.63% of records are in the all other comparisons comparison level\", \"u_probability_description\": \"Amongst non-matching record comparisons, 98.26% of records are in the all other comparisons comparison level\", \"has_tf_adjustments\": false, \"tf_adjustment_column\": null, \"tf_adjustment_weight\": 1.0, \"is_null_level\": false, \"bayes_factor\": 0.1691966772490033, \"log2_bayes_factor\": -2.563226858364814, \"comparison_vector_value\": 0, \"max_comparison_vector_value\": 2, \"bayes_factor_description\": \"If comparison level is `all other comparisons` then comparison is  5.91 times less likely to be a match\", \"probability_two_random_records_match\": 0.006781357319075399, \"comparison_sort_order\": 5, \"iteration\": 3}, {\"comparison_name\": \"street_name\", \"sql_condition\": \"\\\"street_name_l\\\" = \\\"street_name_r\\\"\", \"label_for_charts\": \"Exact match\", \"m_probability\": 0.7551346498081396, \"u_probability\": 0.0036909475444507293, \"m_probability_description\": \"Amongst matching record comparisons, 75.51% of records are in the exact match comparison level\", \"u_probability_description\": \"Amongst non-matching record comparisons, 0.37% of records are in the exact match comparison level\", \"has_tf_adjustments\": false, \"tf_adjustment_column\": null, \"tf_adjustment_weight\": 1.0, \"is_null_level\": false, \"bayes_factor\": 204.59100020087536, \"log2_bayes_factor\": 7.676598873219945, \"comparison_vector_value\": 2, \"max_comparison_vector_value\": 2, \"bayes_factor_description\": \"If comparison level is `exact match` then comparison is 204.59 times more likely to be a match\", \"probability_two_random_records_match\": 0.006781357319075399, \"comparison_sort_order\": 6, \"iteration\": 3}, {\"comparison_name\": \"street_name\", \"sql_condition\": \"jaro_winkler_similarity(\\\"street_name_l\\\", \\\"street_name_r\\\") >= 0.8333333333333334\", \"label_for_charts\": \"Jaro_winkler_similarity >= 0.8333333333333334\", \"m_probability\": 0.10689896667807802, \"u_probability\": 0.0018843912156014068, \"m_probability_description\": \"Amongst matching record comparisons, 10.69% of records are in the jaro_winkler_similarity >= 0.8333333333333334 comparison level\", \"u_probability_description\": \"Amongst non-matching record comparisons, 0.19% of records are in the jaro_winkler_similarity >= 0.8333333333333334 comparison level\", \"has_tf_adjustments\": false, \"tf_adjustment_column\": null, \"tf_adjustment_weight\": 1.0, \"is_null_level\": false, \"bayes_factor\": 56.728648378867035, \"log2_bayes_factor\": 5.826005585542841, \"comparison_vector_value\": 1, \"max_comparison_vector_value\": 2, \"bayes_factor_description\": \"If comparison level is `jaro_winkler_similarity >= 0.8333333333333334` then comparison is 56.73 times more likely to be a match\", \"probability_two_random_records_match\": 0.006781357319075399, \"comparison_sort_order\": 6, \"iteration\": 3}, {\"comparison_name\": \"street_name\", \"sql_condition\": \"ELSE\", \"label_for_charts\": \"All other comparisons\", \"m_probability\": 0.13796638351378235, \"u_probability\": 0.9944246612399479, \"m_probability_description\": \"Amongst matching record comparisons, 13.80% of records are in the all other comparisons comparison level\", \"u_probability_description\": \"Amongst non-matching record comparisons, 99.44% of records are in the all other comparisons comparison level\", \"has_tf_adjustments\": false, \"tf_adjustment_column\": null, \"tf_adjustment_weight\": 1.0, \"is_null_level\": false, \"bayes_factor\": 0.1387399054864067, \"log2_bayes_factor\": -2.849545287997526, \"comparison_vector_value\": 0, \"max_comparison_vector_value\": 2, \"bayes_factor_description\": \"If comparison level is `all other comparisons` then comparison is  7.21 times less likely to be a match\", \"probability_two_random_records_match\": 0.006781357319075399, \"comparison_sort_order\": 6, \"iteration\": 3}, {\"comparison_name\": \"unit_number\", \"sql_condition\": \"\\\"unit_number_l\\\" = \\\"unit_number_r\\\"\", \"label_for_charts\": \"Exact match\", \"m_probability\": 0.9104978603330323, \"u_probability\": 0.005427064313248123, \"m_probability_description\": \"Amongst matching record comparisons, 91.05% of records are in the exact match comparison level\", \"u_probability_description\": \"Amongst non-matching record comparisons, 0.54% of records are in the exact match comparison level\", \"has_tf_adjustments\": false, \"tf_adjustment_column\": null, \"tf_adjustment_weight\": 1.0, \"is_null_level\": false, \"bayes_factor\": 167.76986742360808, \"log2_bayes_factor\": 7.390339811260232, \"comparison_vector_value\": 2, \"max_comparison_vector_value\": 2, \"bayes_factor_description\": \"If comparison level is `exact match` then comparison is 167.77 times more likely to be a match\", \"probability_two_random_records_match\": 0.006781357319075399, \"comparison_sort_order\": 7, \"iteration\": 3}, {\"comparison_name\": \"unit_number\", \"sql_condition\": \"jaro_winkler_similarity(\\\"unit_number_l\\\", \\\"unit_number_r\\\") >= 0.8333333333333334\", \"label_for_charts\": \"Jaro_winkler_similarity >= 0.8333333333333334\", \"m_probability\": 0.0842955851379334, \"u_probability\": 0.08399269628727937, \"m_probability_description\": \"Amongst matching record comparisons, 8.43% of records are in the jaro_winkler_similarity >= 0.8333333333333334 comparison level\", \"u_probability_description\": \"Amongst non-matching record comparisons, 8.40% of records are in the jaro_winkler_similarity >= 0.8333333333333334 comparison level\", \"has_tf_adjustments\": false, \"tf_adjustment_column\": null, \"tf_adjustment_weight\": 1.0, \"is_null_level\": false, \"bayes_factor\": 1.003606133200178, \"log2_bayes_factor\": 0.005193192430513051, \"comparison_vector_value\": 1, \"max_comparison_vector_value\": 2, \"bayes_factor_description\": \"If comparison level is `jaro_winkler_similarity >= 0.8333333333333334` then comparison is 1.00 times more likely to be a match\", \"probability_two_random_records_match\": 0.006781357319075399, \"comparison_sort_order\": 7, \"iteration\": 3}, {\"comparison_name\": \"unit_number\", \"sql_condition\": \"ELSE\", \"label_for_charts\": \"All other comparisons\", \"m_probability\": 0.00520655452903438, \"u_probability\": 0.9105802393994725, \"m_probability_description\": \"Amongst matching record comparisons, 0.52% of records are in the all other comparisons comparison level\", \"u_probability_description\": \"Amongst non-matching record comparisons, 91.06% of records are in the all other comparisons comparison level\", \"has_tf_adjustments\": false, \"tf_adjustment_column\": null, \"tf_adjustment_weight\": 1.0, \"is_null_level\": false, \"bayes_factor\": 0.005717842649943844, \"log2_bayes_factor\": -7.4503133658594285, \"comparison_vector_value\": 0, \"max_comparison_vector_value\": 2, \"bayes_factor_description\": \"If comparison level is `all other comparisons` then comparison is  174.89 times less likely to be a match\", \"probability_two_random_records_match\": 0.006781357319075399, \"comparison_sort_order\": 7, \"iteration\": 3}, {\"comparison_name\": \"zipcode\", \"sql_condition\": \"\\\"zipcode_l\\\" = \\\"zipcode_r\\\"\", \"label_for_charts\": \"Exact match\", \"m_probability\": 0.9337799356009631, \"u_probability\": 0.9441587509332844, \"m_probability_description\": \"Amongst matching record comparisons, 93.38% of records are in the exact match comparison level\", \"u_probability_description\": \"Amongst non-matching record comparisons, 94.42% of records are in the exact match comparison level\", \"has_tf_adjustments\": false, \"tf_adjustment_column\": null, \"tf_adjustment_weight\": 1.0, \"is_null_level\": false, \"bayes_factor\": 0.9890073408501886, \"log2_bayes_factor\": -0.015946865542148313, \"comparison_vector_value\": 2, \"max_comparison_vector_value\": 2, \"bayes_factor_description\": \"If comparison level is `exact match` then comparison is  1.01 times less likely to be a match\", \"probability_two_random_records_match\": 0.006781357319075399, \"comparison_sort_order\": 8, \"iteration\": 3}, {\"comparison_name\": \"zipcode\", \"sql_condition\": \"jaro_winkler_similarity(\\\"zipcode_l\\\", \\\"zipcode_r\\\") >= 0.8333333333333334\", \"label_for_charts\": \"Jaro_winkler_similarity >= 0.8333333333333334\", \"m_probability\": 0.04812256274469721, \"u_probability\": 0.041136656606251085, \"m_probability_description\": \"Amongst matching record comparisons, 4.81% of records are in the jaro_winkler_similarity >= 0.8333333333333334 comparison level\", \"u_probability_description\": \"Amongst non-matching record comparisons, 4.11% of records are in the jaro_winkler_similarity >= 0.8333333333333334 comparison level\", \"has_tf_adjustments\": false, \"tf_adjustment_column\": null, \"tf_adjustment_weight\": 1.0, \"is_null_level\": false, \"bayes_factor\": 1.1698219231891722, \"log2_bayes_factor\": 0.22628893144537837, \"comparison_vector_value\": 1, \"max_comparison_vector_value\": 2, \"bayes_factor_description\": \"If comparison level is `jaro_winkler_similarity >= 0.8333333333333334` then comparison is 1.17 times more likely to be a match\", \"probability_two_random_records_match\": 0.006781357319075399, \"comparison_sort_order\": 8, \"iteration\": 3}, {\"comparison_name\": \"zipcode\", \"sql_condition\": \"ELSE\", \"label_for_charts\": \"All other comparisons\", \"m_probability\": 0.018097501654339772, \"u_probability\": 0.014704592460464516, \"m_probability_description\": \"Amongst matching record comparisons, 1.81% of records are in the all other comparisons comparison level\", \"u_probability_description\": \"Amongst non-matching record comparisons, 1.47% of records are in the all other comparisons comparison level\", \"has_tf_adjustments\": false, \"tf_adjustment_column\": null, \"tf_adjustment_weight\": 1.0, \"is_null_level\": false, \"bayes_factor\": 1.2307380638394159, \"log2_bayes_factor\": 0.29952374784157254, \"comparison_vector_value\": 0, \"max_comparison_vector_value\": 2, \"bayes_factor_description\": \"If comparison level is `all other comparisons` then comparison is 1.23 times more likely to be a match\", \"probability_two_random_records_match\": 0.006781357319075399, \"comparison_sort_order\": 8, \"iteration\": 3}, {\"comparison_name\": \"probability_two_random_records_match\", \"sql_condition\": null, \"label_for_charts\": \"\", \"m_probability\": null, \"u_probability\": null, \"m_probability_description\": null, \"u_probability_description\": null, \"has_tf_adjustments\": false, \"tf_adjustment_column\": null, \"tf_adjustment_weight\": null, \"is_null_level\": false, \"bayes_factor\": 0.006827658108360675, \"log2_bayes_factor\": -7.194393466736079, \"comparison_vector_value\": 0, \"max_comparison_vector_value\": 0, \"bayes_factor_description\": \"The probability that two random records drawn at random match is 0.007 or one in  147.5 records.This is equivalent to a starting match weight of -7.194.\", \"probability_two_random_records_match\": 0.006781357319075399, \"comparison_sort_order\": -1, \"iteration\": 4}, {\"comparison_name\": \"last_name_12\", \"sql_condition\": \"\\\"last_name_12_l\\\" = \\\"last_name_12_r\\\"\", \"label_for_charts\": \"Exact match\", \"m_probability\": 0.8608401673046673, \"u_probability\": 0.0007093232453578939, \"m_probability_description\": \"Amongst matching record comparisons, 86.08% of records are in the exact match comparison level\", \"u_probability_description\": \"Amongst non-matching record comparisons, 0.07% of records are in the exact match comparison level\", \"has_tf_adjustments\": false, \"tf_adjustment_column\": null, \"tf_adjustment_weight\": 1.0, \"is_null_level\": false, \"bayes_factor\": 1213.6077210754943, \"log2_bayes_factor\": 10.245086453937366, \"comparison_vector_value\": 2, \"max_comparison_vector_value\": 2, \"bayes_factor_description\": \"If comparison level is `exact match` then comparison is 1,213.61 times more likely to be a match\", \"probability_two_random_records_match\": 0.006781357319075399, \"comparison_sort_order\": 0, \"iteration\": 4}, {\"comparison_name\": \"last_name_12\", \"sql_condition\": \"jaro_winkler_similarity(\\\"last_name_12_l\\\", \\\"last_name_12_r\\\") >= 0.8333333333333334\", \"label_for_charts\": \"Jaro_winkler_similarity >= 0.8333333333333334\", \"m_probability\": 0.08862795967370495, \"u_probability\": 0.001329943668219914, \"m_probability_description\": \"Amongst matching record comparisons, 8.86% of records are in the jaro_winkler_similarity >= 0.8333333333333334 comparison level\", \"u_probability_description\": \"Amongst non-matching record comparisons, 0.13% of records are in the jaro_winkler_similarity >= 0.8333333333333334 comparison level\", \"has_tf_adjustments\": false, \"tf_adjustment_column\": null, \"tf_adjustment_weight\": 1.0, \"is_null_level\": false, \"bayes_factor\": 66.64038619946254, \"log2_bayes_factor\": 6.058324856431683, \"comparison_vector_value\": 1, \"max_comparison_vector_value\": 2, \"bayes_factor_description\": \"If comparison level is `jaro_winkler_similarity >= 0.8333333333333334` then comparison is 66.64 times more likely to be a match\", \"probability_two_random_records_match\": 0.006781357319075399, \"comparison_sort_order\": 0, \"iteration\": 4}, {\"comparison_name\": \"last_name_12\", \"sql_condition\": \"ELSE\", \"label_for_charts\": \"All other comparisons\", \"m_probability\": 0.05053187302162782, \"u_probability\": 0.9979607330864222, \"m_probability_description\": \"Amongst matching record comparisons, 5.05% of records are in the all other comparisons comparison level\", \"u_probability_description\": \"Amongst non-matching record comparisons, 99.80% of records are in the all other comparisons comparison level\", \"has_tf_adjustments\": false, \"tf_adjustment_column\": null, \"tf_adjustment_weight\": 1.0, \"is_null_level\": false, \"bayes_factor\": 0.050635131570103395, \"log2_bayes_factor\": -4.303717489536725, \"comparison_vector_value\": 0, \"max_comparison_vector_value\": 2, \"bayes_factor_description\": \"If comparison level is `all other comparisons` then comparison is  19.75 times less likely to be a match\", \"probability_two_random_records_match\": 0.006781357319075399, \"comparison_sort_order\": 0, \"iteration\": 4}, {\"comparison_name\": \"middle_initial\", \"sql_condition\": \"\\\"middle_initial_l\\\" = \\\"middle_initial_r\\\"\", \"label_for_charts\": \"Exact match\", \"m_probability\": 0.9309288520161119, \"u_probability\": 0.07410500870140878, \"m_probability_description\": \"Amongst matching record comparisons, 93.09% of records are in the exact match comparison level\", \"u_probability_description\": \"Amongst non-matching record comparisons, 7.41% of records are in the exact match comparison level\", \"has_tf_adjustments\": false, \"tf_adjustment_column\": null, \"tf_adjustment_weight\": 1.0, \"is_null_level\": false, \"bayes_factor\": 12.5622932690974, \"log2_bayes_factor\": 3.6510279497180704, \"comparison_vector_value\": 1, \"max_comparison_vector_value\": 1, \"bayes_factor_description\": \"If comparison level is `exact match` then comparison is 12.56 times more likely to be a match\", \"probability_two_random_records_match\": 0.006781357319075399, \"comparison_sort_order\": 1, \"iteration\": 4}, {\"comparison_name\": \"middle_initial\", \"sql_condition\": \"ELSE\", \"label_for_charts\": \"All other comparisons\", \"m_probability\": 0.06907114798388814, \"u_probability\": 0.9258949912985912, \"m_probability_description\": \"Amongst matching record comparisons, 6.91% of records are in the all other comparisons comparison level\", \"u_probability_description\": \"Amongst non-matching record comparisons, 92.59% of records are in the all other comparisons comparison level\", \"has_tf_adjustments\": false, \"tf_adjustment_column\": null, \"tf_adjustment_weight\": 1.0, \"is_null_level\": false, \"bayes_factor\": 0.07459933214134154, \"log2_bayes_factor\": -3.7446934751211227, \"comparison_vector_value\": 0, \"max_comparison_vector_value\": 1, \"bayes_factor_description\": \"If comparison level is `all other comparisons` then comparison is  13.40 times less likely to be a match\", \"probability_two_random_records_match\": 0.006781357319075399, \"comparison_sort_order\": 1, \"iteration\": 4}, {\"comparison_name\": \"day_of_birth\", \"sql_condition\": \"\\\"day_of_birth_l\\\" = \\\"day_of_birth_r\\\"\", \"label_for_charts\": \"Exact match\", \"m_probability\": 0.9561226609762639, \"u_probability\": 0.03243028785148898, \"m_probability_description\": \"Amongst matching record comparisons, 95.61% of records are in the exact match comparison level\", \"u_probability_description\": \"Amongst non-matching record comparisons, 3.24% of records are in the exact match comparison level\", \"has_tf_adjustments\": false, \"tf_adjustment_column\": null, \"tf_adjustment_weight\": 1.0, \"is_null_level\": false, \"bayes_factor\": 29.482398224607962, \"log2_bayes_factor\": 4.8817819790904675, \"comparison_vector_value\": 2, \"max_comparison_vector_value\": 2, \"bayes_factor_description\": \"If comparison level is `exact match` then comparison is 29.48 times more likely to be a match\", \"probability_two_random_records_match\": 0.006781357319075399, \"comparison_sort_order\": 2, \"iteration\": 4}, {\"comparison_name\": \"day_of_birth\", \"sql_condition\": \"abs(day_of_birth_l - day_of_birth_r) <= 5\", \"label_for_charts\": \"Inexact match\", \"m_probability\": 0.021098248053317704, \"u_probability\": 0.295173345919013, \"m_probability_description\": \"Amongst matching record comparisons, 2.11% of records are in the inexact match comparison level\", \"u_probability_description\": \"Amongst non-matching record comparisons, 29.52% of records are in the inexact match comparison level\", \"has_tf_adjustments\": false, \"tf_adjustment_column\": null, \"tf_adjustment_weight\": 1.0, \"is_null_level\": false, \"bayes_factor\": 0.07147748380745209, \"log2_bayes_factor\": -3.8063673411032743, \"comparison_vector_value\": 1, \"max_comparison_vector_value\": 2, \"bayes_factor_description\": \"If comparison level is `inexact match` then comparison is  13.99 times less likely to be a match\", \"probability_two_random_records_match\": 0.006781357319075399, \"comparison_sort_order\": 2, \"iteration\": 4}, {\"comparison_name\": \"day_of_birth\", \"sql_condition\": \"ELSE\", \"label_for_charts\": \"All other comparisons\", \"m_probability\": 0.022779090970418477, \"u_probability\": 0.672396366229498, \"m_probability_description\": \"Amongst matching record comparisons, 2.28% of records are in the all other comparisons comparison level\", \"u_probability_description\": \"Amongst non-matching record comparisons, 67.24% of records are in the all other comparisons comparison level\", \"has_tf_adjustments\": false, \"tf_adjustment_column\": null, \"tf_adjustment_weight\": 1.0, \"is_null_level\": false, \"bayes_factor\": 0.03387747482657225, \"log2_bayes_factor\": -4.883529847305086, \"comparison_vector_value\": 0, \"max_comparison_vector_value\": 2, \"bayes_factor_description\": \"If comparison level is `all other comparisons` then comparison is  29.52 times less likely to be a match\", \"probability_two_random_records_match\": 0.006781357319075399, \"comparison_sort_order\": 2, \"iteration\": 4}, {\"comparison_name\": \"month_of_birth\", \"sql_condition\": \"\\\"month_of_birth_l\\\" = \\\"month_of_birth_r\\\"\", \"label_for_charts\": \"Exact match\", \"m_probability\": 0.9676751678407622, \"u_probability\": 0.08355145831969693, \"m_probability_description\": \"Amongst matching record comparisons, 96.77% of records are in the exact match comparison level\", \"u_probability_description\": \"Amongst non-matching record comparisons, 8.36% of records are in the exact match comparison level\", \"has_tf_adjustments\": false, \"tf_adjustment_column\": null, \"tf_adjustment_weight\": 1.0, \"is_null_level\": false, \"bayes_factor\": 11.581786689325046, \"log2_bayes_factor\": 3.5337859258479685, \"comparison_vector_value\": 2, \"max_comparison_vector_value\": 2, \"bayes_factor_description\": \"If comparison level is `exact match` then comparison is 11.58 times more likely to be a match\", \"probability_two_random_records_match\": 0.006781357319075399, \"comparison_sort_order\": 3, \"iteration\": 4}, {\"comparison_name\": \"month_of_birth\", \"sql_condition\": \"abs(month_of_birth_l - month_of_birth_r) <= 3\", \"label_for_charts\": \"Inexact match\", \"m_probability\": 0.01606871268182094, \"u_probability\": 0.4143133397869391, \"m_probability_description\": \"Amongst matching record comparisons, 1.61% of records are in the inexact match comparison level\", \"u_probability_description\": \"Amongst non-matching record comparisons, 41.43% of records are in the inexact match comparison level\", \"has_tf_adjustments\": false, \"tf_adjustment_column\": null, \"tf_adjustment_weight\": 1.0, \"is_null_level\": false, \"bayes_factor\": 0.038783961651064104, \"log2_bayes_factor\": -4.688396012363367, \"comparison_vector_value\": 1, \"max_comparison_vector_value\": 2, \"bayes_factor_description\": \"If comparison level is `inexact match` then comparison is  25.78 times less likely to be a match\", \"probability_two_random_records_match\": 0.006781357319075399, \"comparison_sort_order\": 3, \"iteration\": 4}, {\"comparison_name\": \"month_of_birth\", \"sql_condition\": \"ELSE\", \"label_for_charts\": \"All other comparisons\", \"m_probability\": 0.016256119477416862, \"u_probability\": 0.5021352018933639, \"m_probability_description\": \"Amongst matching record comparisons, 1.63% of records are in the all other comparisons comparison level\", \"u_probability_description\": \"Amongst non-matching record comparisons, 50.21% of records are in the all other comparisons comparison level\", \"has_tf_adjustments\": false, \"tf_adjustment_column\": null, \"tf_adjustment_weight\": 1.0, \"is_null_level\": false, \"bayes_factor\": 0.03237398894983088, \"log2_bayes_factor\": -4.9490210521057785, \"comparison_vector_value\": 0, \"max_comparison_vector_value\": 2, \"bayes_factor_description\": \"If comparison level is `all other comparisons` then comparison is  30.89 times less likely to be a match\", \"probability_two_random_records_match\": 0.006781357319075399, \"comparison_sort_order\": 3, \"iteration\": 4}, {\"comparison_name\": \"year_of_birth\", \"sql_condition\": \"\\\"year_of_birth_l\\\" = \\\"year_of_birth_r\\\"\", \"label_for_charts\": \"Exact match\", \"m_probability\": 0.9524201386689535, \"u_probability\": 0.011125465216557518, \"m_probability_description\": \"Amongst matching record comparisons, 95.24% of records are in the exact match comparison level\", \"u_probability_description\": \"Amongst non-matching record comparisons, 1.11% of records are in the exact match comparison level\", \"has_tf_adjustments\": false, \"tf_adjustment_column\": null, \"tf_adjustment_weight\": 1.0, \"is_null_level\": false, \"bayes_factor\": 85.60721912567848, \"log2_bayes_factor\": 6.419660556907046, \"comparison_vector_value\": 2, \"max_comparison_vector_value\": 2, \"bayes_factor_description\": \"If comparison level is `exact match` then comparison is 85.61 times more likely to be a match\", \"probability_two_random_records_match\": 0.006781357319075399, \"comparison_sort_order\": 4, \"iteration\": 4}, {\"comparison_name\": \"year_of_birth\", \"sql_condition\": \"abs(year_of_birth_l - year_of_birth_r) <= 5\", \"label_for_charts\": \"Inexact match\", \"m_probability\": 0.014728205857658392, \"u_probability\": 0.11053660239472413, \"m_probability_description\": \"Amongst matching record comparisons, 1.47% of records are in the inexact match comparison level\", \"u_probability_description\": \"Amongst non-matching record comparisons, 11.05% of records are in the inexact match comparison level\", \"has_tf_adjustments\": false, \"tf_adjustment_column\": null, \"tf_adjustment_weight\": 1.0, \"is_null_level\": false, \"bayes_factor\": 0.13324279504325856, \"log2_bayes_factor\": -2.9078705719321243, \"comparison_vector_value\": 1, \"max_comparison_vector_value\": 2, \"bayes_factor_description\": \"If comparison level is `inexact match` then comparison is  7.51 times less likely to be a match\", \"probability_two_random_records_match\": 0.006781357319075399, \"comparison_sort_order\": 4, \"iteration\": 4}, {\"comparison_name\": \"year_of_birth\", \"sql_condition\": \"ELSE\", \"label_for_charts\": \"All other comparisons\", \"m_probability\": 0.03285165547338815, \"u_probability\": 0.8783379323887184, \"m_probability_description\": \"Amongst matching record comparisons, 3.29% of records are in the all other comparisons comparison level\", \"u_probability_description\": \"Amongst non-matching record comparisons, 87.83% of records are in the all other comparisons comparison level\", \"has_tf_adjustments\": false, \"tf_adjustment_column\": null, \"tf_adjustment_weight\": 1.0, \"is_null_level\": false, \"bayes_factor\": 0.037402068454501496, \"log2_bayes_factor\": -4.740738131786584, \"comparison_vector_value\": 0, \"max_comparison_vector_value\": 2, \"bayes_factor_description\": \"If comparison level is `all other comparisons` then comparison is  26.74 times less likely to be a match\", \"probability_two_random_records_match\": 0.006781357319075399, \"comparison_sort_order\": 4, \"iteration\": 4}, {\"comparison_name\": \"street_number\", \"sql_condition\": \"\\\"street_number_l\\\" = \\\"street_number_r\\\"\", \"label_for_charts\": \"Exact match\", \"m_probability\": 0.7680436170646157, \"u_probability\": 0.004643745865751094, \"m_probability_description\": \"Amongst matching record comparisons, 76.80% of records are in the exact match comparison level\", \"u_probability_description\": \"Amongst non-matching record comparisons, 0.46% of records are in the exact match comparison level\", \"has_tf_adjustments\": false, \"tf_adjustment_column\": null, \"tf_adjustment_weight\": 1.0, \"is_null_level\": false, \"bayes_factor\": 165.3931199657477, \"log2_bayes_factor\": 7.369755412205672, \"comparison_vector_value\": 2, \"max_comparison_vector_value\": 2, \"bayes_factor_description\": \"If comparison level is `exact match` then comparison is 165.39 times more likely to be a match\", \"probability_two_random_records_match\": 0.006781357319075399, \"comparison_sort_order\": 5, \"iteration\": 4}, {\"comparison_name\": \"street_number\", \"sql_condition\": \"jaro_winkler_similarity(\\\"street_number_l\\\", \\\"street_number_r\\\") >= 0.8333333333333334\", \"label_for_charts\": \"Jaro_winkler_similarity >= 0.8333333333333334\", \"m_probability\": 0.06565964922641164, \"u_probability\": 0.012708549889228378, \"m_probability_description\": \"Amongst matching record comparisons, 6.57% of records are in the jaro_winkler_similarity >= 0.8333333333333334 comparison level\", \"u_probability_description\": \"Amongst non-matching record comparisons, 1.27% of records are in the jaro_winkler_similarity >= 0.8333333333333334 comparison level\", \"has_tf_adjustments\": false, \"tf_adjustment_column\": null, \"tf_adjustment_weight\": 1.0, \"is_null_level\": false, \"bayes_factor\": 5.166572881935492, \"log2_bayes_factor\": 2.3692076217957982, \"comparison_vector_value\": 1, \"max_comparison_vector_value\": 2, \"bayes_factor_description\": \"If comparison level is `jaro_winkler_similarity >= 0.8333333333333334` then comparison is 5.17 times more likely to be a match\", \"probability_two_random_records_match\": 0.006781357319075399, \"comparison_sort_order\": 5, \"iteration\": 4}, {\"comparison_name\": \"street_number\", \"sql_condition\": \"ELSE\", \"label_for_charts\": \"All other comparisons\", \"m_probability\": 0.16629673370897272, \"u_probability\": 0.9826477042450206, \"m_probability_description\": \"Amongst matching record comparisons, 16.63% of records are in the all other comparisons comparison level\", \"u_probability_description\": \"Amongst non-matching record comparisons, 98.26% of records are in the all other comparisons comparison level\", \"has_tf_adjustments\": false, \"tf_adjustment_column\": null, \"tf_adjustment_weight\": 1.0, \"is_null_level\": false, \"bayes_factor\": 0.16923332033502322, \"log2_bayes_factor\": -2.562914446350112, \"comparison_vector_value\": 0, \"max_comparison_vector_value\": 2, \"bayes_factor_description\": \"If comparison level is `all other comparisons` then comparison is  5.91 times less likely to be a match\", \"probability_two_random_records_match\": 0.006781357319075399, \"comparison_sort_order\": 5, \"iteration\": 4}, {\"comparison_name\": \"street_name\", \"sql_condition\": \"\\\"street_name_l\\\" = \\\"street_name_r\\\"\", \"label_for_charts\": \"Exact match\", \"m_probability\": 0.7550964277761902, \"u_probability\": 0.0036909475444507293, \"m_probability_description\": \"Amongst matching record comparisons, 75.51% of records are in the exact match comparison level\", \"u_probability_description\": \"Amongst non-matching record comparisons, 0.37% of records are in the exact match comparison level\", \"has_tf_adjustments\": false, \"tf_adjustment_column\": null, \"tf_adjustment_weight\": 1.0, \"is_null_level\": false, \"bayes_factor\": 204.58064458582285, \"log2_bayes_factor\": 7.676525847658789, \"comparison_vector_value\": 2, \"max_comparison_vector_value\": 2, \"bayes_factor_description\": \"If comparison level is `exact match` then comparison is 204.58 times more likely to be a match\", \"probability_two_random_records_match\": 0.006781357319075399, \"comparison_sort_order\": 6, \"iteration\": 4}, {\"comparison_name\": \"street_name\", \"sql_condition\": \"jaro_winkler_similarity(\\\"street_name_l\\\", \\\"street_name_r\\\") >= 0.8333333333333334\", \"label_for_charts\": \"Jaro_winkler_similarity >= 0.8333333333333334\", \"m_probability\": 0.10689279283867414, \"u_probability\": 0.0018843912156014068, \"m_probability_description\": \"Amongst matching record comparisons, 10.69% of records are in the jaro_winkler_similarity >= 0.8333333333333334 comparison level\", \"u_probability_description\": \"Amongst non-matching record comparisons, 0.19% of records are in the jaro_winkler_similarity >= 0.8333333333333334 comparison level\", \"has_tf_adjustments\": false, \"tf_adjustment_column\": null, \"tf_adjustment_weight\": 1.0, \"is_null_level\": false, \"bayes_factor\": 56.72537207437529, \"log2_bayes_factor\": 5.825922261774761, \"comparison_vector_value\": 1, \"max_comparison_vector_value\": 2, \"bayes_factor_description\": \"If comparison level is `jaro_winkler_similarity >= 0.8333333333333334` then comparison is 56.73 times more likely to be a match\", \"probability_two_random_records_match\": 0.006781357319075399, \"comparison_sort_order\": 6, \"iteration\": 4}, {\"comparison_name\": \"street_name\", \"sql_condition\": \"ELSE\", \"label_for_charts\": \"All other comparisons\", \"m_probability\": 0.13801077938513556, \"u_probability\": 0.9944246612399479, \"m_probability_description\": \"Amongst matching record comparisons, 13.80% of records are in the all other comparisons comparison level\", \"u_probability_description\": \"Amongst non-matching record comparisons, 99.44% of records are in the all other comparisons comparison level\", \"has_tf_adjustments\": false, \"tf_adjustment_column\": null, \"tf_adjustment_weight\": 1.0, \"is_null_level\": false, \"bayes_factor\": 0.13878455026753858, \"log2_bayes_factor\": -2.849081121301144, \"comparison_vector_value\": 0, \"max_comparison_vector_value\": 2, \"bayes_factor_description\": \"If comparison level is `all other comparisons` then comparison is  7.21 times less likely to be a match\", \"probability_two_random_records_match\": 0.006781357319075399, \"comparison_sort_order\": 6, \"iteration\": 4}, {\"comparison_name\": \"unit_number\", \"sql_condition\": \"\\\"unit_number_l\\\" = \\\"unit_number_r\\\"\", \"label_for_charts\": \"Exact match\", \"m_probability\": 0.9104933467804481, \"u_probability\": 0.005427064313248123, \"m_probability_description\": \"Amongst matching record comparisons, 91.05% of records are in the exact match comparison level\", \"u_probability_description\": \"Amongst non-matching record comparisons, 0.54% of records are in the exact match comparison level\", \"has_tf_adjustments\": false, \"tf_adjustment_column\": null, \"tf_adjustment_weight\": 1.0, \"is_null_level\": false, \"bayes_factor\": 167.76903574881604, \"log2_bayes_factor\": 7.3903326594630085, \"comparison_vector_value\": 2, \"max_comparison_vector_value\": 2, \"bayes_factor_description\": \"If comparison level is `exact match` then comparison is 167.77 times more likely to be a match\", \"probability_two_random_records_match\": 0.006781357319075399, \"comparison_sort_order\": 7, \"iteration\": 4}, {\"comparison_name\": \"unit_number\", \"sql_condition\": \"jaro_winkler_similarity(\\\"unit_number_l\\\", \\\"unit_number_r\\\") >= 0.8333333333333334\", \"label_for_charts\": \"Jaro_winkler_similarity >= 0.8333333333333334\", \"m_probability\": 0.08430012923486946, \"u_probability\": 0.08399269628727937, \"m_probability_description\": \"Amongst matching record comparisons, 8.43% of records are in the jaro_winkler_similarity >= 0.8333333333333334 comparison level\", \"u_probability_description\": \"Amongst non-matching record comparisons, 8.40% of records are in the jaro_winkler_similarity >= 0.8333333333333334 comparison level\", \"has_tf_adjustments\": false, \"tf_adjustment_column\": null, \"tf_adjustment_weight\": 1.0, \"is_null_level\": false, \"bayes_factor\": 1.0036602342963081, \"log2_bayes_factor\": 0.005270961265159393, \"comparison_vector_value\": 1, \"max_comparison_vector_value\": 2, \"bayes_factor_description\": \"If comparison level is `jaro_winkler_similarity >= 0.8333333333333334` then comparison is 1.00 times more likely to be a match\", \"probability_two_random_records_match\": 0.006781357319075399, \"comparison_sort_order\": 7, \"iteration\": 4}, {\"comparison_name\": \"unit_number\", \"sql_condition\": \"ELSE\", \"label_for_charts\": \"All other comparisons\", \"m_probability\": 0.0052065239846823775, \"u_probability\": 0.9105802393994725, \"m_probability_description\": \"Amongst matching record comparisons, 0.52% of records are in the all other comparisons comparison level\", \"u_probability_description\": \"Amongst non-matching record comparisons, 91.06% of records are in the all other comparisons comparison level\", \"has_tf_adjustments\": false, \"tf_adjustment_column\": null, \"tf_adjustment_weight\": 1.0, \"is_null_level\": false, \"bayes_factor\": 0.005717809106110274, \"log2_bayes_factor\": -7.450321829482382, \"comparison_vector_value\": 0, \"max_comparison_vector_value\": 2, \"bayes_factor_description\": \"If comparison level is `all other comparisons` then comparison is  174.89 times less likely to be a match\", \"probability_two_random_records_match\": 0.006781357319075399, \"comparison_sort_order\": 7, \"iteration\": 4}, {\"comparison_name\": \"zipcode\", \"sql_condition\": \"\\\"zipcode_l\\\" = \\\"zipcode_r\\\"\", \"label_for_charts\": \"Exact match\", \"m_probability\": 0.9337798125968811, \"u_probability\": 0.9441587509332844, \"m_probability_description\": \"Amongst matching record comparisons, 93.38% of records are in the exact match comparison level\", \"u_probability_description\": \"Amongst non-matching record comparisons, 94.42% of records are in the exact match comparison level\", \"has_tf_adjustments\": false, \"tf_adjustment_column\": null, \"tf_adjustment_weight\": 1.0, \"is_null_level\": false, \"bayes_factor\": 0.9890072105711631, \"log2_bayes_factor\": -0.015947055584131394, \"comparison_vector_value\": 2, \"max_comparison_vector_value\": 2, \"bayes_factor_description\": \"If comparison level is `exact match` then comparison is  1.01 times less likely to be a match\", \"probability_two_random_records_match\": 0.006781357319075399, \"comparison_sort_order\": 8, \"iteration\": 4}, {\"comparison_name\": \"zipcode\", \"sql_condition\": \"jaro_winkler_similarity(\\\"zipcode_l\\\", \\\"zipcode_r\\\") >= 0.8333333333333334\", \"label_for_charts\": \"Jaro_winkler_similarity >= 0.8333333333333334\", \"m_probability\": 0.04812469477821798, \"u_probability\": 0.041136656606251085, \"m_probability_description\": \"Amongst matching record comparisons, 4.81% of records are in the jaro_winkler_similarity >= 0.8333333333333334 comparison level\", \"u_probability_description\": \"Amongst non-matching record comparisons, 4.11% of records are in the jaro_winkler_similarity >= 0.8333333333333334 comparison level\", \"has_tf_adjustments\": false, \"tf_adjustment_column\": null, \"tf_adjustment_weight\": 1.0, \"is_null_level\": false, \"bayes_factor\": 1.1698737512592357, \"log2_bayes_factor\": 0.22635284753539656, \"comparison_vector_value\": 1, \"max_comparison_vector_value\": 2, \"bayes_factor_description\": \"If comparison level is `jaro_winkler_similarity >= 0.8333333333333334` then comparison is 1.17 times more likely to be a match\", \"probability_two_random_records_match\": 0.006781357319075399, \"comparison_sort_order\": 8, \"iteration\": 4}, {\"comparison_name\": \"zipcode\", \"sql_condition\": \"ELSE\", \"label_for_charts\": \"All other comparisons\", \"m_probability\": 0.018095492624900993, \"u_probability\": 0.014704592460464516, \"m_probability_description\": \"Amongst matching record comparisons, 1.81% of records are in the all other comparisons comparison level\", \"u_probability_description\": \"Amongst non-matching record comparisons, 1.47% of records are in the all other comparisons comparison level\", \"has_tf_adjustments\": false, \"tf_adjustment_column\": null, \"tf_adjustment_weight\": 1.0, \"is_null_level\": false, \"bayes_factor\": 1.2306014378537464, \"log2_bayes_factor\": 0.29936358331973495, \"comparison_vector_value\": 0, \"max_comparison_vector_value\": 2, \"bayes_factor_description\": \"If comparison level is `all other comparisons` then comparison is 1.23 times more likely to be a match\", \"probability_two_random_records_match\": 0.006781357319075399, \"comparison_sort_order\": 8, \"iteration\": 4}, {\"comparison_name\": \"probability_two_random_records_match\", \"sql_condition\": null, \"label_for_charts\": \"\", \"m_probability\": null, \"u_probability\": null, \"m_probability_description\": null, \"u_probability_description\": null, \"has_tf_adjustments\": false, \"tf_adjustment_column\": null, \"tf_adjustment_weight\": null, \"is_null_level\": false, \"bayes_factor\": 0.006827658108360675, \"log2_bayes_factor\": -7.194393466736079, \"comparison_vector_value\": 0, \"max_comparison_vector_value\": 0, \"bayes_factor_description\": \"The probability that two random records drawn at random match is 0.007 or one in  147.5 records.This is equivalent to a starting match weight of -7.194.\", \"probability_two_random_records_match\": 0.006781357319075399, \"comparison_sort_order\": -1, \"iteration\": 5}, {\"comparison_name\": \"last_name_12\", \"sql_condition\": \"\\\"last_name_12_l\\\" = \\\"last_name_12_r\\\"\", \"label_for_charts\": \"Exact match\", \"m_probability\": 0.8607988022199504, \"u_probability\": 0.0007093232453578939, \"m_probability_description\": \"Amongst matching record comparisons, 86.08% of records are in the exact match comparison level\", \"u_probability_description\": \"Amongst non-matching record comparisons, 0.07% of records are in the exact match comparison level\", \"has_tf_adjustments\": false, \"tf_adjustment_column\": null, \"tf_adjustment_weight\": 1.0, \"is_null_level\": false, \"bayes_factor\": 1213.5494048071532, \"log2_bayes_factor\": 10.245017127901358, \"comparison_vector_value\": 2, \"max_comparison_vector_value\": 2, \"bayes_factor_description\": \"If comparison level is `exact match` then comparison is 1,213.55 times more likely to be a match\", \"probability_two_random_records_match\": 0.006781357319075399, \"comparison_sort_order\": 0, \"iteration\": 5}, {\"comparison_name\": \"last_name_12\", \"sql_condition\": \"jaro_winkler_similarity(\\\"last_name_12_l\\\", \\\"last_name_12_r\\\") >= 0.8333333333333334\", \"label_for_charts\": \"Jaro_winkler_similarity >= 0.8333333333333334\", \"m_probability\": 0.08862430552434403, \"u_probability\": 0.001329943668219914, \"m_probability_description\": \"Amongst matching record comparisons, 8.86% of records are in the jaro_winkler_similarity >= 0.8333333333333334 comparison level\", \"u_probability_description\": \"Amongst non-matching record comparisons, 0.13% of records are in the jaro_winkler_similarity >= 0.8333333333333334 comparison level\", \"has_tf_adjustments\": false, \"tf_adjustment_column\": null, \"tf_adjustment_weight\": 1.0, \"is_null_level\": false, \"bayes_factor\": 66.63763860236634, \"log2_bayes_factor\": 6.0582653725863675, \"comparison_vector_value\": 1, \"max_comparison_vector_value\": 2, \"bayes_factor_description\": \"If comparison level is `jaro_winkler_similarity >= 0.8333333333333334` then comparison is 66.64 times more likely to be a match\", \"probability_two_random_records_match\": 0.006781357319075399, \"comparison_sort_order\": 0, \"iteration\": 5}, {\"comparison_name\": \"last_name_12\", \"sql_condition\": \"ELSE\", \"label_for_charts\": \"All other comparisons\", \"m_probability\": 0.05057689225570559, \"u_probability\": 0.9979607330864222, \"m_probability_description\": \"Amongst matching record comparisons, 5.06% of records are in the all other comparisons comparison level\", \"u_probability_description\": \"Amongst non-matching record comparisons, 99.80% of records are in the all other comparisons comparison level\", \"has_tf_adjustments\": false, \"tf_adjustment_column\": null, \"tf_adjustment_weight\": 1.0, \"is_null_level\": false, \"bayes_factor\": 0.05068024279801567, \"log2_bayes_factor\": -4.302432753641423, \"comparison_vector_value\": 0, \"max_comparison_vector_value\": 2, \"bayes_factor_description\": \"If comparison level is `all other comparisons` then comparison is  19.73 times less likely to be a match\", \"probability_two_random_records_match\": 0.006781357319075399, \"comparison_sort_order\": 0, \"iteration\": 5}, {\"comparison_name\": \"middle_initial\", \"sql_condition\": \"\\\"middle_initial_l\\\" = \\\"middle_initial_r\\\"\", \"label_for_charts\": \"Exact match\", \"m_probability\": 0.9308986179634928, \"u_probability\": 0.07410500870140878, \"m_probability_description\": \"Amongst matching record comparisons, 93.09% of records are in the exact match comparison level\", \"u_probability_description\": \"Amongst non-matching record comparisons, 7.41% of records are in the exact match comparison level\", \"has_tf_adjustments\": false, \"tf_adjustment_column\": null, \"tf_adjustment_weight\": 1.0, \"is_null_level\": false, \"bayes_factor\": 12.561885279770515, \"log2_bayes_factor\": 3.6509810941221716, \"comparison_vector_value\": 1, \"max_comparison_vector_value\": 1, \"bayes_factor_description\": \"If comparison level is `exact match` then comparison is 12.56 times more likely to be a match\", \"probability_two_random_records_match\": 0.006781357319075399, \"comparison_sort_order\": 1, \"iteration\": 5}, {\"comparison_name\": \"middle_initial\", \"sql_condition\": \"ELSE\", \"label_for_charts\": \"All other comparisons\", \"m_probability\": 0.06910138203650706, \"u_probability\": 0.9258949912985912, \"m_probability_description\": \"Amongst matching record comparisons, 6.91% of records are in the all other comparisons comparison level\", \"u_probability_description\": \"Amongst non-matching record comparisons, 92.59% of records are in the all other comparisons comparison level\", \"has_tf_adjustments\": false, \"tf_adjustment_column\": null, \"tf_adjustment_weight\": 1.0, \"is_null_level\": false, \"bayes_factor\": 0.07463198600911602, \"log2_bayes_factor\": -3.7440621120206714, \"comparison_vector_value\": 0, \"max_comparison_vector_value\": 1, \"bayes_factor_description\": \"If comparison level is `all other comparisons` then comparison is  13.40 times less likely to be a match\", \"probability_two_random_records_match\": 0.006781357319075399, \"comparison_sort_order\": 1, \"iteration\": 5}, {\"comparison_name\": \"day_of_birth\", \"sql_condition\": \"\\\"day_of_birth_l\\\" = \\\"day_of_birth_r\\\"\", \"label_for_charts\": \"Exact match\", \"m_probability\": 0.9561054692920051, \"u_probability\": 0.03243028785148898, \"m_probability_description\": \"Amongst matching record comparisons, 95.61% of records are in the exact match comparison level\", \"u_probability_description\": \"Amongst non-matching record comparisons, 3.24% of records are in the exact match comparison level\", \"has_tf_adjustments\": false, \"tf_adjustment_column\": null, \"tf_adjustment_weight\": 1.0, \"is_null_level\": false, \"bayes_factor\": 29.48186811262322, \"log2_bayes_factor\": 4.881756038296864, \"comparison_vector_value\": 2, \"max_comparison_vector_value\": 2, \"bayes_factor_description\": \"If comparison level is `exact match` then comparison is 29.48 times more likely to be a match\", \"probability_two_random_records_match\": 0.006781357319075399, \"comparison_sort_order\": 2, \"iteration\": 5}, {\"comparison_name\": \"day_of_birth\", \"sql_condition\": \"abs(day_of_birth_l - day_of_birth_r) <= 5\", \"label_for_charts\": \"Inexact match\", \"m_probability\": 0.021104587117653634, \"u_probability\": 0.295173345919013, \"m_probability_description\": \"Amongst matching record comparisons, 2.11% of records are in the inexact match comparison level\", \"u_probability_description\": \"Amongst non-matching record comparisons, 29.52% of records are in the inexact match comparison level\", \"has_tf_adjustments\": false, \"tf_adjustment_column\": null, \"tf_adjustment_weight\": 1.0, \"is_null_level\": false, \"bayes_factor\": 0.07149895954170646, \"log2_bayes_factor\": -3.805933941938832, \"comparison_vector_value\": 1, \"max_comparison_vector_value\": 2, \"bayes_factor_description\": \"If comparison level is `inexact match` then comparison is  13.99 times less likely to be a match\", \"probability_two_random_records_match\": 0.006781357319075399, \"comparison_sort_order\": 2, \"iteration\": 5}, {\"comparison_name\": \"day_of_birth\", \"sql_condition\": \"ELSE\", \"label_for_charts\": \"All other comparisons\", \"m_probability\": 0.022789943590341227, \"u_probability\": 0.672396366229498, \"m_probability_description\": \"Amongst matching record comparisons, 2.28% of records are in the all other comparisons comparison level\", \"u_probability_description\": \"Amongst non-matching record comparisons, 67.24% of records are in the all other comparisons comparison level\", \"has_tf_adjustments\": false, \"tf_adjustment_column\": null, \"tf_adjustment_weight\": 1.0, \"is_null_level\": false, \"bayes_factor\": 0.03389361503860761, \"log2_bayes_factor\": -4.882842669207497, \"comparison_vector_value\": 0, \"max_comparison_vector_value\": 2, \"bayes_factor_description\": \"If comparison level is `all other comparisons` then comparison is  29.50 times less likely to be a match\", \"probability_two_random_records_match\": 0.006781357319075399, \"comparison_sort_order\": 2, \"iteration\": 5}, {\"comparison_name\": \"month_of_birth\", \"sql_condition\": \"\\\"month_of_birth_l\\\" = \\\"month_of_birth_r\\\"\", \"label_for_charts\": \"Exact match\", \"m_probability\": 0.9676622168918211, \"u_probability\": 0.08355145831969693, \"m_probability_description\": \"Amongst matching record comparisons, 96.77% of records are in the exact match comparison level\", \"u_probability_description\": \"Amongst non-matching record comparisons, 8.36% of records are in the exact match comparison level\", \"has_tf_adjustments\": false, \"tf_adjustment_column\": null, \"tf_adjustment_weight\": 1.0, \"is_null_level\": false, \"bayes_factor\": 11.58163168366504, \"log2_bayes_factor\": 3.5337666173078035, \"comparison_vector_value\": 2, \"max_comparison_vector_value\": 2, \"bayes_factor_description\": \"If comparison level is `exact match` then comparison is 11.58 times more likely to be a match\", \"probability_two_random_records_match\": 0.006781357319075399, \"comparison_sort_order\": 3, \"iteration\": 5}, {\"comparison_name\": \"month_of_birth\", \"sql_condition\": \"abs(month_of_birth_l - month_of_birth_r) <= 3\", \"label_for_charts\": \"Inexact match\", \"m_probability\": 0.016076477131020117, \"u_probability\": 0.4143133397869391, \"m_probability_description\": \"Amongst matching record comparisons, 1.61% of records are in the inexact match comparison level\", \"u_probability_description\": \"Amongst non-matching record comparisons, 41.43% of records are in the inexact match comparison level\", \"has_tf_adjustments\": false, \"tf_adjustment_column\": null, \"tf_adjustment_weight\": 1.0, \"is_null_level\": false, \"bayes_factor\": 0.03880270217533294, \"log2_bayes_factor\": -4.687699066248695, \"comparison_vector_value\": 1, \"max_comparison_vector_value\": 2, \"bayes_factor_description\": \"If comparison level is `inexact match` then comparison is  25.77 times less likely to be a match\", \"probability_two_random_records_match\": 0.006781357319075399, \"comparison_sort_order\": 3, \"iteration\": 5}, {\"comparison_name\": \"month_of_birth\", \"sql_condition\": \"ELSE\", \"label_for_charts\": \"All other comparisons\", \"m_probability\": 0.016261305977158844, \"u_probability\": 0.5021352018933639, \"m_probability_description\": \"Amongst matching record comparisons, 1.63% of records are in the all other comparisons comparison level\", \"u_probability_description\": \"Amongst non-matching record comparisons, 50.21% of records are in the all other comparisons comparison level\", \"has_tf_adjustments\": false, \"tf_adjustment_column\": null, \"tf_adjustment_weight\": 1.0, \"is_null_level\": false, \"bayes_factor\": 0.032384317840779824, \"log2_bayes_factor\": -4.948560835011948, \"comparison_vector_value\": 0, \"max_comparison_vector_value\": 2, \"bayes_factor_description\": \"If comparison level is `all other comparisons` then comparison is  30.88 times less likely to be a match\", \"probability_two_random_records_match\": 0.006781357319075399, \"comparison_sort_order\": 3, \"iteration\": 5}, {\"comparison_name\": \"year_of_birth\", \"sql_condition\": \"\\\"year_of_birth_l\\\" = \\\"year_of_birth_r\\\"\", \"label_for_charts\": \"Exact match\", \"m_probability\": 0.9524025364153174, \"u_probability\": 0.011125465216557518, \"m_probability_description\": \"Amongst matching record comparisons, 95.24% of records are in the exact match comparison level\", \"u_probability_description\": \"Amongst non-matching record comparisons, 1.11% of records are in the exact match comparison level\", \"has_tf_adjustments\": false, \"tf_adjustment_column\": null, \"tf_adjustment_weight\": 1.0, \"is_null_level\": false, \"bayes_factor\": 85.60563696679402, \"log2_bayes_factor\": 6.4196338933395, \"comparison_vector_value\": 2, \"max_comparison_vector_value\": 2, \"bayes_factor_description\": \"If comparison level is `exact match` then comparison is 85.61 times more likely to be a match\", \"probability_two_random_records_match\": 0.006781357319075399, \"comparison_sort_order\": 4, \"iteration\": 5}, {\"comparison_name\": \"year_of_birth\", \"sql_condition\": \"abs(year_of_birth_l - year_of_birth_r) <= 5\", \"label_for_charts\": \"Inexact match\", \"m_probability\": 0.014736428226579243, \"u_probability\": 0.11053660239472413, \"m_probability_description\": \"Amongst matching record comparisons, 1.47% of records are in the inexact match comparison level\", \"u_probability_description\": \"Amongst non-matching record comparisons, 11.05% of records are in the inexact match comparison level\", \"has_tf_adjustments\": false, \"tf_adjustment_column\": null, \"tf_adjustment_weight\": 1.0, \"is_null_level\": false, \"bayes_factor\": 0.13331718098187725, \"log2_bayes_factor\": -2.9070653780756195, \"comparison_vector_value\": 1, \"max_comparison_vector_value\": 2, \"bayes_factor_description\": \"If comparison level is `inexact match` then comparison is  7.50 times less likely to be a match\", \"probability_two_random_records_match\": 0.006781357319075399, \"comparison_sort_order\": 4, \"iteration\": 5}, {\"comparison_name\": \"year_of_birth\", \"sql_condition\": \"ELSE\", \"label_for_charts\": \"All other comparisons\", \"m_probability\": 0.032861035358103405, \"u_probability\": 0.8783379323887184, \"m_probability_description\": \"Amongst matching record comparisons, 3.29% of records are in the all other comparisons comparison level\", \"u_probability_description\": \"Amongst non-matching record comparisons, 87.83% of records are in the all other comparisons comparison level\", \"has_tf_adjustments\": false, \"tf_adjustment_column\": null, \"tf_adjustment_weight\": 1.0, \"is_null_level\": false, \"bayes_factor\": 0.0374127475842184, \"log2_bayes_factor\": -4.7403262687785865, \"comparison_vector_value\": 0, \"max_comparison_vector_value\": 2, \"bayes_factor_description\": \"If comparison level is `all other comparisons` then comparison is  26.73 times less likely to be a match\", \"probability_two_random_records_match\": 0.006781357319075399, \"comparison_sort_order\": 4, \"iteration\": 5}, {\"comparison_name\": \"street_number\", \"sql_condition\": \"\\\"street_number_l\\\" = \\\"street_number_r\\\"\", \"label_for_charts\": \"Exact match\", \"m_probability\": 0.7680456495554255, \"u_probability\": 0.004643745865751094, \"m_probability_description\": \"Amongst matching record comparisons, 76.80% of records are in the exact match comparison level\", \"u_probability_description\": \"Amongst non-matching record comparisons, 0.46% of records are in the exact match comparison level\", \"has_tf_adjustments\": false, \"tf_adjustment_column\": null, \"tf_adjustment_weight\": 1.0, \"is_null_level\": false, \"bayes_factor\": 165.3935576492189, \"log2_bayes_factor\": 7.369759230036414, \"comparison_vector_value\": 2, \"max_comparison_vector_value\": 2, \"bayes_factor_description\": \"If comparison level is `exact match` then comparison is 165.39 times more likely to be a match\", \"probability_two_random_records_match\": 0.006781357319075399, \"comparison_sort_order\": 5, \"iteration\": 5}, {\"comparison_name\": \"street_number\", \"sql_condition\": \"jaro_winkler_similarity(\\\"street_number_l\\\", \\\"street_number_r\\\") >= 0.8333333333333334\", \"label_for_charts\": \"Jaro_winkler_similarity >= 0.8333333333333334\", \"m_probability\": 0.06565855039131124, \"u_probability\": 0.012708549889228378, \"m_probability_description\": \"Amongst matching record comparisons, 6.57% of records are in the jaro_winkler_similarity >= 0.8333333333333334 comparison level\", \"u_probability_description\": \"Amongst non-matching record comparisons, 1.27% of records are in the jaro_winkler_similarity >= 0.8333333333333334 comparison level\", \"has_tf_adjustments\": false, \"tf_adjustment_column\": null, \"tf_adjustment_weight\": 1.0, \"is_null_level\": false, \"bayes_factor\": 5.166486417696065, \"log2_bayes_factor\": 2.369183477633683, \"comparison_vector_value\": 1, \"max_comparison_vector_value\": 2, \"bayes_factor_description\": \"If comparison level is `jaro_winkler_similarity >= 0.8333333333333334` then comparison is 5.17 times more likely to be a match\", \"probability_two_random_records_match\": 0.006781357319075399, \"comparison_sort_order\": 5, \"iteration\": 5}, {\"comparison_name\": \"street_number\", \"sql_condition\": \"ELSE\", \"label_for_charts\": \"All other comparisons\", \"m_probability\": 0.16629580005326322, \"u_probability\": 0.9826477042450206, \"m_probability_description\": \"Amongst matching record comparisons, 16.63% of records are in the all other comparisons comparison level\", \"u_probability_description\": \"Amongst non-matching record comparisons, 98.26% of records are in the all other comparisons comparison level\", \"has_tf_adjustments\": false, \"tf_adjustment_column\": null, \"tf_adjustment_weight\": 1.0, \"is_null_level\": false, \"bayes_factor\": 0.16923237019215365, \"log2_bayes_factor\": -2.5629225462340557, \"comparison_vector_value\": 0, \"max_comparison_vector_value\": 2, \"bayes_factor_description\": \"If comparison level is `all other comparisons` then comparison is  5.91 times less likely to be a match\", \"probability_two_random_records_match\": 0.006781357319075399, \"comparison_sort_order\": 5, \"iteration\": 5}, {\"comparison_name\": \"street_name\", \"sql_condition\": \"\\\"street_name_l\\\" = \\\"street_name_r\\\"\", \"label_for_charts\": \"Exact match\", \"m_probability\": 0.7550959781953346, \"u_probability\": 0.0036909475444507293, \"m_probability_description\": \"Amongst matching record comparisons, 75.51% of records are in the exact match comparison level\", \"u_probability_description\": \"Amongst non-matching record comparisons, 0.37% of records are in the exact match comparison level\", \"has_tf_adjustments\": false, \"tf_adjustment_column\": null, \"tf_adjustment_weight\": 1.0, \"is_null_level\": false, \"bayes_factor\": 204.5805227794709, \"log2_bayes_factor\": 7.676524988684703, \"comparison_vector_value\": 2, \"max_comparison_vector_value\": 2, \"bayes_factor_description\": \"If comparison level is `exact match` then comparison is 204.58 times more likely to be a match\", \"probability_two_random_records_match\": 0.006781357319075399, \"comparison_sort_order\": 6, \"iteration\": 5}, {\"comparison_name\": \"street_name\", \"sql_condition\": \"jaro_winkler_similarity(\\\"street_name_l\\\", \\\"street_name_r\\\") >= 0.8333333333333334\", \"label_for_charts\": \"Jaro_winkler_similarity >= 0.8333333333333334\", \"m_probability\": 0.10689245429607572, \"u_probability\": 0.0018843912156014068, \"m_probability_description\": \"Amongst matching record comparisons, 10.69% of records are in the jaro_winkler_similarity >= 0.8333333333333334 comparison level\", \"u_probability_description\": \"Amongst non-matching record comparisons, 0.19% of records are in the jaro_winkler_similarity >= 0.8333333333333334 comparison level\", \"has_tf_adjustments\": false, \"tf_adjustment_column\": null, \"tf_adjustment_weight\": 1.0, \"is_null_level\": false, \"bayes_factor\": 56.72519241815761, \"log2_bayes_factor\": 5.825917692575207, \"comparison_vector_value\": 1, \"max_comparison_vector_value\": 2, \"bayes_factor_description\": \"If comparison level is `jaro_winkler_similarity >= 0.8333333333333334` then comparison is 56.73 times more likely to be a match\", \"probability_two_random_records_match\": 0.006781357319075399, \"comparison_sort_order\": 6, \"iteration\": 5}, {\"comparison_name\": \"street_name\", \"sql_condition\": \"ELSE\", \"label_for_charts\": \"All other comparisons\", \"m_probability\": 0.13801156750858987, \"u_probability\": 0.9944246612399479, \"m_probability_description\": \"Amongst matching record comparisons, 13.80% of records are in the all other comparisons comparison level\", \"u_probability_description\": \"Amongst non-matching record comparisons, 99.44% of records are in the all other comparisons comparison level\", \"has_tf_adjustments\": false, \"tf_adjustment_column\": null, \"tf_adjustment_weight\": 1.0, \"is_null_level\": false, \"bayes_factor\": 0.13878534280968383, \"log2_bayes_factor\": -2.8490728826798013, \"comparison_vector_value\": 0, \"max_comparison_vector_value\": 2, \"bayes_factor_description\": \"If comparison level is `all other comparisons` then comparison is  7.21 times less likely to be a match\", \"probability_two_random_records_match\": 0.006781357319075399, \"comparison_sort_order\": 6, \"iteration\": 5}, {\"comparison_name\": \"unit_number\", \"sql_condition\": \"\\\"unit_number_l\\\" = \\\"unit_number_r\\\"\", \"label_for_charts\": \"Exact match\", \"m_probability\": 0.9104920486392204, \"u_probability\": 0.005427064313248123, \"m_probability_description\": \"Amongst matching record comparisons, 91.05% of records are in the exact match comparison level\", \"u_probability_description\": \"Amongst non-matching record comparisons, 0.54% of records are in the exact match comparison level\", \"has_tf_adjustments\": false, \"tf_adjustment_column\": null, \"tf_adjustment_weight\": 1.0, \"is_null_level\": false, \"bayes_factor\": 167.7687965511296, \"log2_bayes_factor\": 7.390330602530629, \"comparison_vector_value\": 2, \"max_comparison_vector_value\": 2, \"bayes_factor_description\": \"If comparison level is `exact match` then comparison is 167.77 times more likely to be a match\", \"probability_two_random_records_match\": 0.006781357319075399, \"comparison_sort_order\": 7, \"iteration\": 5}, {\"comparison_name\": \"unit_number\", \"sql_condition\": \"jaro_winkler_similarity(\\\"unit_number_l\\\", \\\"unit_number_r\\\") >= 0.8333333333333334\", \"label_for_charts\": \"Jaro_winkler_similarity >= 0.8333333333333334\", \"m_probability\": 0.0843014506908839, \"u_probability\": 0.08399269628727937, \"m_probability_description\": \"Amongst matching record comparisons, 8.43% of records are in the jaro_winkler_similarity >= 0.8333333333333334 comparison level\", \"u_probability_description\": \"Amongst non-matching record comparisons, 8.40% of records are in the jaro_winkler_similarity >= 0.8333333333333334 comparison level\", \"has_tf_adjustments\": false, \"tf_adjustment_column\": null, \"tf_adjustment_weight\": 1.0, \"is_null_level\": false, \"bayes_factor\": 1.0036759672834945, \"log2_bayes_factor\": 0.005293576213840894, \"comparison_vector_value\": 1, \"max_comparison_vector_value\": 2, \"bayes_factor_description\": \"If comparison level is `jaro_winkler_similarity >= 0.8333333333333334` then comparison is 1.00 times more likely to be a match\", \"probability_two_random_records_match\": 0.006781357319075399, \"comparison_sort_order\": 7, \"iteration\": 5}, {\"comparison_name\": \"unit_number\", \"sql_condition\": \"ELSE\", \"label_for_charts\": \"All other comparisons\", \"m_probability\": 0.005206500669895751, \"u_probability\": 0.9105802393994725, \"m_probability_description\": \"Amongst matching record comparisons, 0.52% of records are in the all other comparisons comparison level\", \"u_probability_description\": \"Amongst non-matching record comparisons, 91.06% of records are in the all other comparisons comparison level\", \"has_tf_adjustments\": false, \"tf_adjustment_column\": null, \"tf_adjustment_weight\": 1.0, \"is_null_level\": false, \"bayes_factor\": 0.005717783501791602, \"log2_bayes_factor\": -7.450328289877543, \"comparison_vector_value\": 0, \"max_comparison_vector_value\": 2, \"bayes_factor_description\": \"If comparison level is `all other comparisons` then comparison is  174.89 times less likely to be a match\", \"probability_two_random_records_match\": 0.006781357319075399, \"comparison_sort_order\": 7, \"iteration\": 5}, {\"comparison_name\": \"zipcode\", \"sql_condition\": \"\\\"zipcode_l\\\" = \\\"zipcode_r\\\"\", \"label_for_charts\": \"Exact match\", \"m_probability\": 0.9337796204685026, \"u_probability\": 0.9441587509332844, \"m_probability_description\": \"Amongst matching record comparisons, 93.38% of records are in the exact match comparison level\", \"u_probability_description\": \"Amongst non-matching record comparisons, 94.42% of records are in the exact match comparison level\", \"has_tf_adjustments\": false, \"tf_adjustment_column\": null, \"tf_adjustment_weight\": 1.0, \"is_null_level\": false, \"bayes_factor\": 0.9890070070795592, \"log2_bayes_factor\": -0.015947352423582993, \"comparison_vector_value\": 2, \"max_comparison_vector_value\": 2, \"bayes_factor_description\": \"If comparison level is `exact match` then comparison is  1.01 times less likely to be a match\", \"probability_two_random_records_match\": 0.006781357319075399, \"comparison_sort_order\": 8, \"iteration\": 5}, {\"comparison_name\": \"zipcode\", \"sql_condition\": \"jaro_winkler_similarity(\\\"zipcode_l\\\", \\\"zipcode_r\\\") >= 0.8333333333333334\", \"label_for_charts\": \"Jaro_winkler_similarity >= 0.8333333333333334\", \"m_probability\": 0.048125371489702466, \"u_probability\": 0.041136656606251085, \"m_probability_description\": \"Amongst matching record comparisons, 4.81% of records are in the jaro_winkler_similarity >= 0.8333333333333334 comparison level\", \"u_probability_description\": \"Amongst non-matching record comparisons, 4.11% of records are in the jaro_winkler_similarity >= 0.8333333333333334 comparison level\", \"has_tf_adjustments\": false, \"tf_adjustment_column\": null, \"tf_adjustment_weight\": 1.0, \"is_null_level\": false, \"bayes_factor\": 1.1698902015870045, \"log2_bayes_factor\": 0.22637313403161738, \"comparison_vector_value\": 1, \"max_comparison_vector_value\": 2, \"bayes_factor_description\": \"If comparison level is `jaro_winkler_similarity >= 0.8333333333333334` then comparison is 1.17 times more likely to be a match\", \"probability_two_random_records_match\": 0.006781357319075399, \"comparison_sort_order\": 8, \"iteration\": 5}, {\"comparison_name\": \"zipcode\", \"sql_condition\": \"ELSE\", \"label_for_charts\": \"All other comparisons\", \"m_probability\": 0.01809500804179497, \"u_probability\": 0.014704592460464516, \"m_probability_description\": \"Amongst matching record comparisons, 1.81% of records are in the all other comparisons comparison level\", \"u_probability_description\": \"Amongst non-matching record comparisons, 1.47% of records are in the all other comparisons comparison level\", \"has_tf_adjustments\": false, \"tf_adjustment_column\": null, \"tf_adjustment_weight\": 1.0, \"is_null_level\": false, \"bayes_factor\": 1.2305684833120054, \"log2_bayes_factor\": 0.29932494856027486, \"comparison_vector_value\": 0, \"max_comparison_vector_value\": 2, \"bayes_factor_description\": \"If comparison level is `all other comparisons` then comparison is 1.23 times more likely to be a match\", \"probability_two_random_records_match\": 0.006781357319075399, \"comparison_sort_order\": 8, \"iteration\": 5}]}}, {\"mode\": \"vega-lite\"});\n",
       "</script>"
      ],
      "text/plain": [
       "alt.VConcatChart(...)"
      ]
     },
     "execution_count": 40,
     "metadata": {},
     "output_type": "execute_result"
    }
   ],
   "source": [
    "em_session_1.match_weights_interactive_history_chart()"
   ]
  },
  {
   "cell_type": "code",
   "execution_count": 41,
   "id": "71478531-8837-48f4-8748-a65c5d8fa7cd",
   "metadata": {
    "execution": {
     "iopub.execute_input": "2023-12-01T17:58:05.204657Z",
     "iopub.status.busy": "2023-12-01T17:58:05.204450Z",
     "iopub.status.idle": "2023-12-01T17:58:05.961657Z",
     "shell.execute_reply": "2023-12-01T17:58:05.960626Z"
    },
    "papermill": {
     "duration": 0.7797,
     "end_time": "2023-12-01T17:58:05.962734",
     "exception": false,
     "start_time": "2023-12-01T17:58:05.183034",
     "status": "completed"
    },
    "tags": []
   },
   "outputs": [
    {
     "name": "stderr",
     "output_type": "stream",
     "text": [
      "\n",
      "----- Starting EM training session -----\n",
      "\n"
     ]
    },
    {
     "name": "stderr",
     "output_type": "stream",
     "text": [
      "Estimating the m probabilities of the model by blocking on:\n",
      "l.middle_initial = r.middle_initial and l.last_name_12 = r.last_name_12\n",
      "\n",
      "Parameter estimates will be made for the following comparison(s):\n",
      "    - first_name_15\n",
      "    - day_of_birth\n",
      "    - month_of_birth\n",
      "    - year_of_birth\n",
      "    - street_number\n",
      "    - street_name\n",
      "    - unit_number\n",
      "    - zipcode\n",
      "\n",
      "Parameter estimates cannot be made for the following comparison(s) since they are used in the blocking rules: \n",
      "    - last_name_12\n",
      "    - middle_initial\n"
     ]
    },
    {
     "name": "stderr",
     "output_type": "stream",
     "text": [
      "\n"
     ]
    },
    {
     "name": "stderr",
     "output_type": "stream",
     "text": [
      "Iteration 1: Largest change in params was -0.103 in the m_probability of first_name_15, level `Exact match`\n"
     ]
    },
    {
     "name": "stderr",
     "output_type": "stream",
     "text": [
      "Iteration 2: Largest change in params was -0.00396 in the m_probability of first_name_15, level `Exact match`\n"
     ]
    },
    {
     "name": "stderr",
     "output_type": "stream",
     "text": [
      "Iteration 3: Largest change in params was -0.000905 in the m_probability of year_of_birth, level `Exact match`\n"
     ]
    },
    {
     "name": "stderr",
     "output_type": "stream",
     "text": [
      "Iteration 4: Largest change in params was -0.000285 in the m_probability of year_of_birth, level `Exact match`\n"
     ]
    },
    {
     "name": "stderr",
     "output_type": "stream",
     "text": [
      "Iteration 5: Largest change in params was -9.15e-05 in the m_probability of year_of_birth, level `Exact match`\n"
     ]
    },
    {
     "name": "stderr",
     "output_type": "stream",
     "text": [
      "\n",
      "EM converged after 5 iterations\n"
     ]
    },
    {
     "name": "stderr",
     "output_type": "stream",
     "text": [
      "\n",
      "Your model is fully trained. All comparisons have at least one estimate for their m and u values\n"
     ]
    }
   ],
   "source": [
    "blocking_rule_for_training = \"l.middle_initial = r.middle_initial and l.last_name_12 = r.last_name_12\"\n",
    "em_session_2 = linker.estimate_parameters_using_expectation_maximisation(\n",
    "    blocking_rule_for_training,\n",
    "    # Fix lambda; u is fixed by default\n",
    "    fix_probability_two_random_records_match=True,\n",
    ")"
   ]
  },
  {
   "cell_type": "code",
   "execution_count": 42,
   "id": "750d48f3-7f15-40de-aa1a-78d4ed42371f",
   "metadata": {
    "execution": {
     "iopub.execute_input": "2023-12-01T17:58:06.008925Z",
     "iopub.status.busy": "2023-12-01T17:58:06.008623Z",
     "iopub.status.idle": "2023-12-01T17:58:07.452624Z",
     "shell.execute_reply": "2023-12-01T17:58:07.452084Z"
    },
    "papermill": {
     "duration": 1.469132,
     "end_time": "2023-12-01T17:58:07.454614",
     "exception": false,
     "start_time": "2023-12-01T17:58:05.985482",
     "status": "completed"
    },
    "tags": []
   },
   "outputs": [
    {
     "data": {
      "text/html": [
       "\n",
       "<style>\n",
       "  #altair-viz-befd0f2d08084600a8ad58b7ec0735da.vega-embed {\n",
       "    width: 100%;\n",
       "    display: flex;\n",
       "  }\n",
       "\n",
       "  #altair-viz-befd0f2d08084600a8ad58b7ec0735da.vega-embed details,\n",
       "  #altair-viz-befd0f2d08084600a8ad58b7ec0735da.vega-embed details summary {\n",
       "    position: relative;\n",
       "  }\n",
       "</style>\n",
       "<div id=\"altair-viz-befd0f2d08084600a8ad58b7ec0735da\"></div>\n",
       "<script type=\"text/javascript\">\n",
       "  var VEGA_DEBUG = (typeof VEGA_DEBUG == \"undefined\") ? {} : VEGA_DEBUG;\n",
       "  (function(spec, embedOpt){\n",
       "    let outputDiv = document.currentScript.previousElementSibling;\n",
       "    if (outputDiv.id !== \"altair-viz-befd0f2d08084600a8ad58b7ec0735da\") {\n",
       "      outputDiv = document.getElementById(\"altair-viz-befd0f2d08084600a8ad58b7ec0735da\");\n",
       "    }\n",
       "    const paths = {\n",
       "      \"vega\": \"https://cdn.jsdelivr.net/npm/vega@5?noext\",\n",
       "      \"vega-lib\": \"https://cdn.jsdelivr.net/npm/vega-lib?noext\",\n",
       "      \"vega-lite\": \"https://cdn.jsdelivr.net/npm/vega-lite@5.15.1?noext\",\n",
       "      \"vega-embed\": \"https://cdn.jsdelivr.net/npm/vega-embed@6?noext\",\n",
       "    };\n",
       "\n",
       "    function maybeLoadScript(lib, version) {\n",
       "      var key = `${lib.replace(\"-\", \"\")}_version`;\n",
       "      return (VEGA_DEBUG[key] == version) ?\n",
       "        Promise.resolve(paths[lib]) :\n",
       "        new Promise(function(resolve, reject) {\n",
       "          var s = document.createElement('script');\n",
       "          document.getElementsByTagName(\"head\")[0].appendChild(s);\n",
       "          s.async = true;\n",
       "          s.onload = () => {\n",
       "            VEGA_DEBUG[key] = version;\n",
       "            return resolve(paths[lib]);\n",
       "          };\n",
       "          s.onerror = () => reject(`Error loading script: ${paths[lib]}`);\n",
       "          s.src = paths[lib];\n",
       "        });\n",
       "    }\n",
       "\n",
       "    function showError(err) {\n",
       "      outputDiv.innerHTML = `<div class=\"error\" style=\"color:red;\">${err}</div>`;\n",
       "      throw err;\n",
       "    }\n",
       "\n",
       "    function displayChart(vegaEmbed) {\n",
       "      vegaEmbed(outputDiv, spec, embedOpt)\n",
       "        .catch(err => showError(`Javascript Error: ${err.message}<br>This usually means there's a typo in your chart specification. See the javascript console for the full traceback.`));\n",
       "    }\n",
       "\n",
       "    if(typeof define === \"function\" && define.amd) {\n",
       "      requirejs.config({paths});\n",
       "      require([\"vega-embed\"], displayChart, err => showError(`Error loading script: ${err.message}`));\n",
       "    } else {\n",
       "      maybeLoadScript(\"vega\", \"5\")\n",
       "        .then(() => maybeLoadScript(\"vega-lite\", \"5.15.1\"))\n",
       "        .then(() => maybeLoadScript(\"vega-embed\", \"6\"))\n",
       "        .catch(showError)\n",
       "        .then(() => displayChart(vegaEmbed));\n",
       "    }\n",
       "  })({\"config\": {\"view\": {\"continuousWidth\": 300, \"continuousHeight\": 300, \"discreteHeight\": 300, \"discreteWidth\": 400}, \"header\": {\"title\": null}, \"title\": {\"anchor\": \"middle\", \"offset\": 10}}, \"hconcat\": [{\"mark\": \"bar\", \"encoding\": {\"color\": {\"value\": \"green\"}, \"row\": {\"field\": \"comparison_name\", \"header\": {\"labelAlign\": \"left\", \"labelAnchor\": \"middle\", \"labelAngle\": 0}, \"sort\": {\"field\": \"comparison_sort_order\"}, \"type\": \"nominal\"}, \"tooltip\": [{\"field\": \"m_probability_description\", \"title\": \"m probability description\", \"type\": \"nominal\"}, {\"field\": \"comparison_name\", \"title\": \"Comparison column name\", \"type\": \"nominal\"}, {\"field\": \"label_for_charts\", \"title\": \"Label\", \"type\": \"ordinal\"}, {\"field\": \"sql_condition\", \"title\": \"SQL condition\", \"type\": \"nominal\"}, {\"field\": \"m_probability\", \"format\": \".4p\", \"title\": \"m probability\", \"type\": \"quantitative\"}, {\"field\": \"u_probability\", \"format\": \".4p\", \"title\": \"u probability\", \"type\": \"quantitative\"}, {\"field\": \"bayes_factor\", \"format\": \",.4f\", \"title\": \"Bayes factor = m/u\", \"type\": \"quantitative\"}, {\"field\": \"log2_bayes_factor\", \"format\": \",.4f\", \"title\": \"Match weight = log2(m/u)\", \"type\": \"quantitative\"}], \"x\": {\"axis\": {\"title\": \"Proportion of record comparisons\"}, \"field\": \"m_probability\", \"type\": \"quantitative\"}, \"y\": {\"axis\": {\"title\": null}, \"field\": \"label_for_charts\", \"sort\": {\"field\": \"comparison_vector_value\", \"order\": \"descending\"}, \"type\": \"nominal\"}}, \"height\": {\"step\": 12}, \"resolve\": {\"scale\": {\"y\": \"independent\"}}, \"title\": {\"text\": \"Amongst matching record comparisons:\", \"fontSize\": 12, \"fontWeight\": \"bold\"}, \"transform\": [{\"filter\": \"(datum.bayes_factor != 'no-op filter due to vega lite issue 4680')\"}], \"width\": 150}, {\"mark\": \"bar\", \"encoding\": {\"color\": {\"value\": \"red\"}, \"row\": {\"field\": \"comparison_name\", \"header\": {\"labels\": false}, \"sort\": {\"field\": \"comparison_sort_order\"}, \"type\": \"nominal\"}, \"tooltip\": [{\"field\": \"u_probability_description\", \"title\": \"u probability description\", \"type\": \"nominal\"}, {\"field\": \"comparison_name\", \"title\": \"Comparison column name\", \"type\": \"nominal\"}, {\"field\": \"label_for_charts\", \"title\": \"Label\", \"type\": \"ordinal\"}, {\"field\": \"sql_condition\", \"title\": \"SQL condition\", \"type\": \"nominal\"}, {\"field\": \"m_probability\", \"format\": \".4p\", \"title\": \"m probability\", \"type\": \"quantitative\"}, {\"field\": \"u_probability\", \"format\": \".4p\", \"title\": \"u probability\", \"type\": \"quantitative\"}, {\"field\": \"bayes_factor\", \"format\": \",.4f\", \"title\": \"Bayes factor = m/u\", \"type\": \"quantitative\"}, {\"field\": \"log2_bayes_factor\", \"format\": \",.4f\", \"title\": \"Match weight = log2(m/u)\", \"type\": \"quantitative\"}], \"x\": {\"axis\": {\"title\": \"Proportion of record comparisons\"}, \"field\": \"u_probability\", \"type\": \"quantitative\"}, \"y\": {\"axis\": {\"title\": null}, \"field\": \"label_for_charts\", \"sort\": {\"field\": \"comparison_vector_value\", \"order\": \"descending\"}, \"type\": \"nominal\"}}, \"height\": {\"step\": 12}, \"resolve\": {\"scale\": {\"y\": \"independent\"}}, \"title\": {\"text\": \"Amongst non-matching record comparisons:\", \"fontSize\": 12, \"fontWeight\": \"bold\"}, \"transform\": [{\"filter\": \"(datum.bayes_factor != 'no-op filter2 due to vega lite issue 4680')\"}], \"width\": 150}], \"data\": {\"name\": \"data-e4c360fc5d86c4135f60fdcf940b337b\"}, \"params\": [{\"name\": \"iteration_number\", \"bind\": {\"input\": \"range\", \"max\": 5, \"min\": 0, \"step\": 1}, \"value\": 5}], \"title\": {\"text\": \"Proportion of record comparisons in each comparison level by match status\", \"subtitle\": \"(m and u probabilities)\"}, \"transform\": [{\"filter\": \"(datum.iteration == iteration_number)\"}], \"$schema\": \"https://vega.github.io/schema/vega-lite/v5.9.3.json\", \"datasets\": {\"data-e4c360fc5d86c4135f60fdcf940b337b\": [{\"comparison_name\": \"first_name_15\", \"sql_condition\": \"\\\"first_name_15_l\\\" = \\\"first_name_15_r\\\"\", \"label_for_charts\": \"Exact match\", \"m_probability\": 0.95, \"u_probability\": 0.001979336595976074, \"m_probability_description\": \"Amongst matching record comparisons, 95.00% of records are in the exact match comparison level\", \"u_probability_description\": \"Amongst non-matching record comparisons, 0.20% of records are in the exact match comparison level\", \"has_tf_adjustments\": false, \"tf_adjustment_column\": null, \"tf_adjustment_weight\": 1.0, \"is_null_level\": false, \"bayes_factor\": 479.9587912087912, \"log2_bayes_factor\": 8.90676673254419, \"comparison_vector_value\": 2, \"max_comparison_vector_value\": 2, \"bayes_factor_description\": \"If comparison level is `exact match` then comparison is 479.96 times more likely to be a match\", \"probability_two_random_records_match\": 0.17821299502955085, \"comparison_sort_order\": 0, \"iteration\": 0}, {\"comparison_name\": \"first_name_15\", \"sql_condition\": \"jaro_winkler_similarity(\\\"first_name_15_l\\\", \\\"first_name_15_r\\\") >= 0.8333333333333334\", \"label_for_charts\": \"Jaro_winkler_similarity >= 0.8333333333333334\", \"m_probability\": 0.025000000000000022, \"u_probability\": 0.003417014077699233, \"m_probability_description\": \"Amongst matching record comparisons, 2.50% of records are in the jaro_winkler_similarity >= 0.8333333333333334 comparison level\", \"u_probability_description\": \"Amongst non-matching record comparisons, 0.34% of records are in the jaro_winkler_similarity >= 0.8333333333333334 comparison level\", \"has_tf_adjustments\": false, \"tf_adjustment_column\": null, \"tf_adjustment_weight\": 1.0, \"is_null_level\": false, \"bayes_factor\": 7.3163292370259105, \"log2_bayes_factor\": 2.871119998260096, \"comparison_vector_value\": 1, \"max_comparison_vector_value\": 2, \"bayes_factor_description\": \"If comparison level is `jaro_winkler_similarity >= 0.8333333333333334` then comparison is 7.32 times more likely to be a match\", \"probability_two_random_records_match\": 0.17821299502955085, \"comparison_sort_order\": 0, \"iteration\": 0}, {\"comparison_name\": \"first_name_15\", \"sql_condition\": \"ELSE\", \"label_for_charts\": \"All other comparisons\", \"m_probability\": 0.025000000000000022, \"u_probability\": 0.9946036493263247, \"m_probability_description\": \"Amongst matching record comparisons, 2.50% of records are in the all other comparisons comparison level\", \"u_probability_description\": \"Amongst non-matching record comparisons, 99.46% of records are in the all other comparisons comparison level\", \"has_tf_adjustments\": false, \"tf_adjustment_column\": null, \"tf_adjustment_weight\": 1.0, \"is_null_level\": false, \"bayes_factor\": 0.025135640731796312, \"log2_bayes_factor\": -5.314121724580581, \"comparison_vector_value\": 0, \"max_comparison_vector_value\": 2, \"bayes_factor_description\": \"If comparison level is `all other comparisons` then comparison is  39.78 times less likely to be a match\", \"probability_two_random_records_match\": 0.17821299502955085, \"comparison_sort_order\": 0, \"iteration\": 0}, {\"comparison_name\": \"day_of_birth\", \"sql_condition\": \"\\\"day_of_birth_l\\\" = \\\"day_of_birth_r\\\"\", \"label_for_charts\": \"Exact match\", \"m_probability\": 0.9561054692920051, \"u_probability\": 0.03243028785148898, \"m_probability_description\": \"Amongst matching record comparisons, 95.61% of records are in the exact match comparison level\", \"u_probability_description\": \"Amongst non-matching record comparisons, 3.24% of records are in the exact match comparison level\", \"has_tf_adjustments\": false, \"tf_adjustment_column\": null, \"tf_adjustment_weight\": 1.0, \"is_null_level\": false, \"bayes_factor\": 29.48186811262322, \"log2_bayes_factor\": 4.881756038296864, \"comparison_vector_value\": 2, \"max_comparison_vector_value\": 2, \"bayes_factor_description\": \"If comparison level is `exact match` then comparison is 29.48 times more likely to be a match\", \"probability_two_random_records_match\": 0.17821299502955085, \"comparison_sort_order\": 1, \"iteration\": 0}, {\"comparison_name\": \"day_of_birth\", \"sql_condition\": \"abs(day_of_birth_l - day_of_birth_r) <= 5\", \"label_for_charts\": \"Inexact match\", \"m_probability\": 0.021104587117653634, \"u_probability\": 0.295173345919013, \"m_probability_description\": \"Amongst matching record comparisons, 2.11% of records are in the inexact match comparison level\", \"u_probability_description\": \"Amongst non-matching record comparisons, 29.52% of records are in the inexact match comparison level\", \"has_tf_adjustments\": false, \"tf_adjustment_column\": null, \"tf_adjustment_weight\": 1.0, \"is_null_level\": false, \"bayes_factor\": 0.07149895954170646, \"log2_bayes_factor\": -3.805933941938832, \"comparison_vector_value\": 1, \"max_comparison_vector_value\": 2, \"bayes_factor_description\": \"If comparison level is `inexact match` then comparison is  13.99 times less likely to be a match\", \"probability_two_random_records_match\": 0.17821299502955085, \"comparison_sort_order\": 1, \"iteration\": 0}, {\"comparison_name\": \"day_of_birth\", \"sql_condition\": \"ELSE\", \"label_for_charts\": \"All other comparisons\", \"m_probability\": 0.022789943590341227, \"u_probability\": 0.672396366229498, \"m_probability_description\": \"Amongst matching record comparisons, 2.28% of records are in the all other comparisons comparison level\", \"u_probability_description\": \"Amongst non-matching record comparisons, 67.24% of records are in the all other comparisons comparison level\", \"has_tf_adjustments\": false, \"tf_adjustment_column\": null, \"tf_adjustment_weight\": 1.0, \"is_null_level\": false, \"bayes_factor\": 0.03389361503860761, \"log2_bayes_factor\": -4.882842669207497, \"comparison_vector_value\": 0, \"max_comparison_vector_value\": 2, \"bayes_factor_description\": \"If comparison level is `all other comparisons` then comparison is  29.50 times less likely to be a match\", \"probability_two_random_records_match\": 0.17821299502955085, \"comparison_sort_order\": 1, \"iteration\": 0}, {\"comparison_name\": \"month_of_birth\", \"sql_condition\": \"\\\"month_of_birth_l\\\" = \\\"month_of_birth_r\\\"\", \"label_for_charts\": \"Exact match\", \"m_probability\": 0.9676622168918211, \"u_probability\": 0.08355145831969693, \"m_probability_description\": \"Amongst matching record comparisons, 96.77% of records are in the exact match comparison level\", \"u_probability_description\": \"Amongst non-matching record comparisons, 8.36% of records are in the exact match comparison level\", \"has_tf_adjustments\": false, \"tf_adjustment_column\": null, \"tf_adjustment_weight\": 1.0, \"is_null_level\": false, \"bayes_factor\": 11.58163168366504, \"log2_bayes_factor\": 3.5337666173078035, \"comparison_vector_value\": 2, \"max_comparison_vector_value\": 2, \"bayes_factor_description\": \"If comparison level is `exact match` then comparison is 11.58 times more likely to be a match\", \"probability_two_random_records_match\": 0.17821299502955085, \"comparison_sort_order\": 2, \"iteration\": 0}, {\"comparison_name\": \"month_of_birth\", \"sql_condition\": \"abs(month_of_birth_l - month_of_birth_r) <= 3\", \"label_for_charts\": \"Inexact match\", \"m_probability\": 0.016076477131020117, \"u_probability\": 0.4143133397869391, \"m_probability_description\": \"Amongst matching record comparisons, 1.61% of records are in the inexact match comparison level\", \"u_probability_description\": \"Amongst non-matching record comparisons, 41.43% of records are in the inexact match comparison level\", \"has_tf_adjustments\": false, \"tf_adjustment_column\": null, \"tf_adjustment_weight\": 1.0, \"is_null_level\": false, \"bayes_factor\": 0.03880270217533294, \"log2_bayes_factor\": -4.687699066248695, \"comparison_vector_value\": 1, \"max_comparison_vector_value\": 2, \"bayes_factor_description\": \"If comparison level is `inexact match` then comparison is  25.77 times less likely to be a match\", \"probability_two_random_records_match\": 0.17821299502955085, \"comparison_sort_order\": 2, \"iteration\": 0}, {\"comparison_name\": \"month_of_birth\", \"sql_condition\": \"ELSE\", \"label_for_charts\": \"All other comparisons\", \"m_probability\": 0.016261305977158844, \"u_probability\": 0.5021352018933639, \"m_probability_description\": \"Amongst matching record comparisons, 1.63% of records are in the all other comparisons comparison level\", \"u_probability_description\": \"Amongst non-matching record comparisons, 50.21% of records are in the all other comparisons comparison level\", \"has_tf_adjustments\": false, \"tf_adjustment_column\": null, \"tf_adjustment_weight\": 1.0, \"is_null_level\": false, \"bayes_factor\": 0.032384317840779824, \"log2_bayes_factor\": -4.948560835011948, \"comparison_vector_value\": 0, \"max_comparison_vector_value\": 2, \"bayes_factor_description\": \"If comparison level is `all other comparisons` then comparison is  30.88 times less likely to be a match\", \"probability_two_random_records_match\": 0.17821299502955085, \"comparison_sort_order\": 2, \"iteration\": 0}, {\"comparison_name\": \"year_of_birth\", \"sql_condition\": \"\\\"year_of_birth_l\\\" = \\\"year_of_birth_r\\\"\", \"label_for_charts\": \"Exact match\", \"m_probability\": 0.9524025364153174, \"u_probability\": 0.011125465216557518, \"m_probability_description\": \"Amongst matching record comparisons, 95.24% of records are in the exact match comparison level\", \"u_probability_description\": \"Amongst non-matching record comparisons, 1.11% of records are in the exact match comparison level\", \"has_tf_adjustments\": false, \"tf_adjustment_column\": null, \"tf_adjustment_weight\": 1.0, \"is_null_level\": false, \"bayes_factor\": 85.60563696679402, \"log2_bayes_factor\": 6.4196338933395, \"comparison_vector_value\": 2, \"max_comparison_vector_value\": 2, \"bayes_factor_description\": \"If comparison level is `exact match` then comparison is 85.61 times more likely to be a match\", \"probability_two_random_records_match\": 0.17821299502955085, \"comparison_sort_order\": 3, \"iteration\": 0}, {\"comparison_name\": \"year_of_birth\", \"sql_condition\": \"abs(year_of_birth_l - year_of_birth_r) <= 5\", \"label_for_charts\": \"Inexact match\", \"m_probability\": 0.014736428226579243, \"u_probability\": 0.11053660239472413, \"m_probability_description\": \"Amongst matching record comparisons, 1.47% of records are in the inexact match comparison level\", \"u_probability_description\": \"Amongst non-matching record comparisons, 11.05% of records are in the inexact match comparison level\", \"has_tf_adjustments\": false, \"tf_adjustment_column\": null, \"tf_adjustment_weight\": 1.0, \"is_null_level\": false, \"bayes_factor\": 0.13331718098187725, \"log2_bayes_factor\": -2.9070653780756195, \"comparison_vector_value\": 1, \"max_comparison_vector_value\": 2, \"bayes_factor_description\": \"If comparison level is `inexact match` then comparison is  7.50 times less likely to be a match\", \"probability_two_random_records_match\": 0.17821299502955085, \"comparison_sort_order\": 3, \"iteration\": 0}, {\"comparison_name\": \"year_of_birth\", \"sql_condition\": \"ELSE\", \"label_for_charts\": \"All other comparisons\", \"m_probability\": 0.032861035358103405, \"u_probability\": 0.8783379323887184, \"m_probability_description\": \"Amongst matching record comparisons, 3.29% of records are in the all other comparisons comparison level\", \"u_probability_description\": \"Amongst non-matching record comparisons, 87.83% of records are in the all other comparisons comparison level\", \"has_tf_adjustments\": false, \"tf_adjustment_column\": null, \"tf_adjustment_weight\": 1.0, \"is_null_level\": false, \"bayes_factor\": 0.0374127475842184, \"log2_bayes_factor\": -4.7403262687785865, \"comparison_vector_value\": 0, \"max_comparison_vector_value\": 2, \"bayes_factor_description\": \"If comparison level is `all other comparisons` then comparison is  26.73 times less likely to be a match\", \"probability_two_random_records_match\": 0.17821299502955085, \"comparison_sort_order\": 3, \"iteration\": 0}, {\"comparison_name\": \"street_number\", \"sql_condition\": \"\\\"street_number_l\\\" = \\\"street_number_r\\\"\", \"label_for_charts\": \"Exact match\", \"m_probability\": 0.7680456495554255, \"u_probability\": 0.004643745865751094, \"m_probability_description\": \"Amongst matching record comparisons, 76.80% of records are in the exact match comparison level\", \"u_probability_description\": \"Amongst non-matching record comparisons, 0.46% of records are in the exact match comparison level\", \"has_tf_adjustments\": false, \"tf_adjustment_column\": null, \"tf_adjustment_weight\": 1.0, \"is_null_level\": false, \"bayes_factor\": 165.3935576492189, \"log2_bayes_factor\": 7.369759230036414, \"comparison_vector_value\": 2, \"max_comparison_vector_value\": 2, \"bayes_factor_description\": \"If comparison level is `exact match` then comparison is 165.39 times more likely to be a match\", \"probability_two_random_records_match\": 0.17821299502955085, \"comparison_sort_order\": 4, \"iteration\": 0}, {\"comparison_name\": \"street_number\", \"sql_condition\": \"jaro_winkler_similarity(\\\"street_number_l\\\", \\\"street_number_r\\\") >= 0.8333333333333334\", \"label_for_charts\": \"Jaro_winkler_similarity >= 0.8333333333333334\", \"m_probability\": 0.06565855039131124, \"u_probability\": 0.012708549889228378, \"m_probability_description\": \"Amongst matching record comparisons, 6.57% of records are in the jaro_winkler_similarity >= 0.8333333333333334 comparison level\", \"u_probability_description\": \"Amongst non-matching record comparisons, 1.27% of records are in the jaro_winkler_similarity >= 0.8333333333333334 comparison level\", \"has_tf_adjustments\": false, \"tf_adjustment_column\": null, \"tf_adjustment_weight\": 1.0, \"is_null_level\": false, \"bayes_factor\": 5.166486417696065, \"log2_bayes_factor\": 2.369183477633683, \"comparison_vector_value\": 1, \"max_comparison_vector_value\": 2, \"bayes_factor_description\": \"If comparison level is `jaro_winkler_similarity >= 0.8333333333333334` then comparison is 5.17 times more likely to be a match\", \"probability_two_random_records_match\": 0.17821299502955085, \"comparison_sort_order\": 4, \"iteration\": 0}, {\"comparison_name\": \"street_number\", \"sql_condition\": \"ELSE\", \"label_for_charts\": \"All other comparisons\", \"m_probability\": 0.16629580005326322, \"u_probability\": 0.9826477042450206, \"m_probability_description\": \"Amongst matching record comparisons, 16.63% of records are in the all other comparisons comparison level\", \"u_probability_description\": \"Amongst non-matching record comparisons, 98.26% of records are in the all other comparisons comparison level\", \"has_tf_adjustments\": false, \"tf_adjustment_column\": null, \"tf_adjustment_weight\": 1.0, \"is_null_level\": false, \"bayes_factor\": 0.16923237019215365, \"log2_bayes_factor\": -2.5629225462340557, \"comparison_vector_value\": 0, \"max_comparison_vector_value\": 2, \"bayes_factor_description\": \"If comparison level is `all other comparisons` then comparison is  5.91 times less likely to be a match\", \"probability_two_random_records_match\": 0.17821299502955085, \"comparison_sort_order\": 4, \"iteration\": 0}, {\"comparison_name\": \"street_name\", \"sql_condition\": \"\\\"street_name_l\\\" = \\\"street_name_r\\\"\", \"label_for_charts\": \"Exact match\", \"m_probability\": 0.7550959781953346, \"u_probability\": 0.0036909475444507293, \"m_probability_description\": \"Amongst matching record comparisons, 75.51% of records are in the exact match comparison level\", \"u_probability_description\": \"Amongst non-matching record comparisons, 0.37% of records are in the exact match comparison level\", \"has_tf_adjustments\": false, \"tf_adjustment_column\": null, \"tf_adjustment_weight\": 1.0, \"is_null_level\": false, \"bayes_factor\": 204.5805227794709, \"log2_bayes_factor\": 7.676524988684703, \"comparison_vector_value\": 2, \"max_comparison_vector_value\": 2, \"bayes_factor_description\": \"If comparison level is `exact match` then comparison is 204.58 times more likely to be a match\", \"probability_two_random_records_match\": 0.17821299502955085, \"comparison_sort_order\": 5, \"iteration\": 0}, {\"comparison_name\": \"street_name\", \"sql_condition\": \"jaro_winkler_similarity(\\\"street_name_l\\\", \\\"street_name_r\\\") >= 0.8333333333333334\", \"label_for_charts\": \"Jaro_winkler_similarity >= 0.8333333333333334\", \"m_probability\": 0.10689245429607572, \"u_probability\": 0.0018843912156014068, \"m_probability_description\": \"Amongst matching record comparisons, 10.69% of records are in the jaro_winkler_similarity >= 0.8333333333333334 comparison level\", \"u_probability_description\": \"Amongst non-matching record comparisons, 0.19% of records are in the jaro_winkler_similarity >= 0.8333333333333334 comparison level\", \"has_tf_adjustments\": false, \"tf_adjustment_column\": null, \"tf_adjustment_weight\": 1.0, \"is_null_level\": false, \"bayes_factor\": 56.72519241815761, \"log2_bayes_factor\": 5.825917692575207, \"comparison_vector_value\": 1, \"max_comparison_vector_value\": 2, \"bayes_factor_description\": \"If comparison level is `jaro_winkler_similarity >= 0.8333333333333334` then comparison is 56.73 times more likely to be a match\", \"probability_two_random_records_match\": 0.17821299502955085, \"comparison_sort_order\": 5, \"iteration\": 0}, {\"comparison_name\": \"street_name\", \"sql_condition\": \"ELSE\", \"label_for_charts\": \"All other comparisons\", \"m_probability\": 0.13801156750858987, \"u_probability\": 0.9944246612399479, \"m_probability_description\": \"Amongst matching record comparisons, 13.80% of records are in the all other comparisons comparison level\", \"u_probability_description\": \"Amongst non-matching record comparisons, 99.44% of records are in the all other comparisons comparison level\", \"has_tf_adjustments\": false, \"tf_adjustment_column\": null, \"tf_adjustment_weight\": 1.0, \"is_null_level\": false, \"bayes_factor\": 0.13878534280968383, \"log2_bayes_factor\": -2.8490728826798013, \"comparison_vector_value\": 0, \"max_comparison_vector_value\": 2, \"bayes_factor_description\": \"If comparison level is `all other comparisons` then comparison is  7.21 times less likely to be a match\", \"probability_two_random_records_match\": 0.17821299502955085, \"comparison_sort_order\": 5, \"iteration\": 0}, {\"comparison_name\": \"unit_number\", \"sql_condition\": \"\\\"unit_number_l\\\" = \\\"unit_number_r\\\"\", \"label_for_charts\": \"Exact match\", \"m_probability\": 0.9104920486392204, \"u_probability\": 0.005427064313248123, \"m_probability_description\": \"Amongst matching record comparisons, 91.05% of records are in the exact match comparison level\", \"u_probability_description\": \"Amongst non-matching record comparisons, 0.54% of records are in the exact match comparison level\", \"has_tf_adjustments\": false, \"tf_adjustment_column\": null, \"tf_adjustment_weight\": 1.0, \"is_null_level\": false, \"bayes_factor\": 167.7687965511296, \"log2_bayes_factor\": 7.390330602530629, \"comparison_vector_value\": 2, \"max_comparison_vector_value\": 2, \"bayes_factor_description\": \"If comparison level is `exact match` then comparison is 167.77 times more likely to be a match\", \"probability_two_random_records_match\": 0.17821299502955085, \"comparison_sort_order\": 6, \"iteration\": 0}, {\"comparison_name\": \"unit_number\", \"sql_condition\": \"jaro_winkler_similarity(\\\"unit_number_l\\\", \\\"unit_number_r\\\") >= 0.8333333333333334\", \"label_for_charts\": \"Jaro_winkler_similarity >= 0.8333333333333334\", \"m_probability\": 0.0843014506908839, \"u_probability\": 0.08399269628727937, \"m_probability_description\": \"Amongst matching record comparisons, 8.43% of records are in the jaro_winkler_similarity >= 0.8333333333333334 comparison level\", \"u_probability_description\": \"Amongst non-matching record comparisons, 8.40% of records are in the jaro_winkler_similarity >= 0.8333333333333334 comparison level\", \"has_tf_adjustments\": false, \"tf_adjustment_column\": null, \"tf_adjustment_weight\": 1.0, \"is_null_level\": false, \"bayes_factor\": 1.0036759672834945, \"log2_bayes_factor\": 0.005293576213840894, \"comparison_vector_value\": 1, \"max_comparison_vector_value\": 2, \"bayes_factor_description\": \"If comparison level is `jaro_winkler_similarity >= 0.8333333333333334` then comparison is 1.00 times more likely to be a match\", \"probability_two_random_records_match\": 0.17821299502955085, \"comparison_sort_order\": 6, \"iteration\": 0}, {\"comparison_name\": \"unit_number\", \"sql_condition\": \"ELSE\", \"label_for_charts\": \"All other comparisons\", \"m_probability\": 0.005206500669895751, \"u_probability\": 0.9105802393994725, \"m_probability_description\": \"Amongst matching record comparisons, 0.52% of records are in the all other comparisons comparison level\", \"u_probability_description\": \"Amongst non-matching record comparisons, 91.06% of records are in the all other comparisons comparison level\", \"has_tf_adjustments\": false, \"tf_adjustment_column\": null, \"tf_adjustment_weight\": 1.0, \"is_null_level\": false, \"bayes_factor\": 0.005717783501791602, \"log2_bayes_factor\": -7.450328289877543, \"comparison_vector_value\": 0, \"max_comparison_vector_value\": 2, \"bayes_factor_description\": \"If comparison level is `all other comparisons` then comparison is  174.89 times less likely to be a match\", \"probability_two_random_records_match\": 0.17821299502955085, \"comparison_sort_order\": 6, \"iteration\": 0}, {\"comparison_name\": \"zipcode\", \"sql_condition\": \"\\\"zipcode_l\\\" = \\\"zipcode_r\\\"\", \"label_for_charts\": \"Exact match\", \"m_probability\": 0.9337796204685026, \"u_probability\": 0.9441587509332844, \"m_probability_description\": \"Amongst matching record comparisons, 93.38% of records are in the exact match comparison level\", \"u_probability_description\": \"Amongst non-matching record comparisons, 94.42% of records are in the exact match comparison level\", \"has_tf_adjustments\": false, \"tf_adjustment_column\": null, \"tf_adjustment_weight\": 1.0, \"is_null_level\": false, \"bayes_factor\": 0.9890070070795592, \"log2_bayes_factor\": -0.015947352423582993, \"comparison_vector_value\": 2, \"max_comparison_vector_value\": 2, \"bayes_factor_description\": \"If comparison level is `exact match` then comparison is  1.01 times less likely to be a match\", \"probability_two_random_records_match\": 0.17821299502955085, \"comparison_sort_order\": 7, \"iteration\": 0}, {\"comparison_name\": \"zipcode\", \"sql_condition\": \"jaro_winkler_similarity(\\\"zipcode_l\\\", \\\"zipcode_r\\\") >= 0.8333333333333334\", \"label_for_charts\": \"Jaro_winkler_similarity >= 0.8333333333333334\", \"m_probability\": 0.048125371489702466, \"u_probability\": 0.041136656606251085, \"m_probability_description\": \"Amongst matching record comparisons, 4.81% of records are in the jaro_winkler_similarity >= 0.8333333333333334 comparison level\", \"u_probability_description\": \"Amongst non-matching record comparisons, 4.11% of records are in the jaro_winkler_similarity >= 0.8333333333333334 comparison level\", \"has_tf_adjustments\": false, \"tf_adjustment_column\": null, \"tf_adjustment_weight\": 1.0, \"is_null_level\": false, \"bayes_factor\": 1.1698902015870045, \"log2_bayes_factor\": 0.22637313403161738, \"comparison_vector_value\": 1, \"max_comparison_vector_value\": 2, \"bayes_factor_description\": \"If comparison level is `jaro_winkler_similarity >= 0.8333333333333334` then comparison is 1.17 times more likely to be a match\", \"probability_two_random_records_match\": 0.17821299502955085, \"comparison_sort_order\": 7, \"iteration\": 0}, {\"comparison_name\": \"zipcode\", \"sql_condition\": \"ELSE\", \"label_for_charts\": \"All other comparisons\", \"m_probability\": 0.01809500804179497, \"u_probability\": 0.014704592460464516, \"m_probability_description\": \"Amongst matching record comparisons, 1.81% of records are in the all other comparisons comparison level\", \"u_probability_description\": \"Amongst non-matching record comparisons, 1.47% of records are in the all other comparisons comparison level\", \"has_tf_adjustments\": false, \"tf_adjustment_column\": null, \"tf_adjustment_weight\": 1.0, \"is_null_level\": false, \"bayes_factor\": 1.2305684833120054, \"log2_bayes_factor\": 0.29932494856027486, \"comparison_vector_value\": 0, \"max_comparison_vector_value\": 2, \"bayes_factor_description\": \"If comparison level is `all other comparisons` then comparison is 1.23 times more likely to be a match\", \"probability_two_random_records_match\": 0.17821299502955085, \"comparison_sort_order\": 7, \"iteration\": 0}, {\"comparison_name\": \"first_name_15\", \"sql_condition\": \"\\\"first_name_15_l\\\" = \\\"first_name_15_r\\\"\", \"label_for_charts\": \"Exact match\", \"m_probability\": 0.8465495636744286, \"u_probability\": 0.001979336595976074, \"m_probability_description\": \"Amongst matching record comparisons, 84.65% of records are in the exact match comparison level\", \"u_probability_description\": \"Amongst non-matching record comparisons, 0.20% of records are in the exact match comparison level\", \"has_tf_adjustments\": false, \"tf_adjustment_column\": null, \"tf_adjustment_weight\": 1.0, \"is_null_level\": false, \"bayes_factor\": 427.6935845047456, \"log2_bayes_factor\": 8.740433756417062, \"comparison_vector_value\": 2, \"max_comparison_vector_value\": 2, \"bayes_factor_description\": \"If comparison level is `exact match` then comparison is 427.69 times more likely to be a match\", \"probability_two_random_records_match\": 0.17821299502955085, \"comparison_sort_order\": 0, \"iteration\": 1}, {\"comparison_name\": \"first_name_15\", \"sql_condition\": \"jaro_winkler_similarity(\\\"first_name_15_l\\\", \\\"first_name_15_r\\\") >= 0.8333333333333334\", \"label_for_charts\": \"Jaro_winkler_similarity >= 0.8333333333333334\", \"m_probability\": 0.09157630715003436, \"u_probability\": 0.003417014077699233, \"m_probability_description\": \"Amongst matching record comparisons, 9.16% of records are in the jaro_winkler_similarity >= 0.8333333333333334 comparison level\", \"u_probability_description\": \"Amongst non-matching record comparisons, 0.34% of records are in the jaro_winkler_similarity >= 0.8333333333333334 comparison level\", \"has_tf_adjustments\": false, \"tf_adjustment_column\": null, \"tf_adjustment_weight\": 1.0, \"is_null_level\": false, \"bayes_factor\": 26.800096536826427, \"log2_bayes_factor\": 4.744166292322272, \"comparison_vector_value\": 1, \"max_comparison_vector_value\": 2, \"bayes_factor_description\": \"If comparison level is `jaro_winkler_similarity >= 0.8333333333333334` then comparison is 26.80 times more likely to be a match\", \"probability_two_random_records_match\": 0.17821299502955085, \"comparison_sort_order\": 0, \"iteration\": 1}, {\"comparison_name\": \"first_name_15\", \"sql_condition\": \"ELSE\", \"label_for_charts\": \"All other comparisons\", \"m_probability\": 0.06187412917553695, \"u_probability\": 0.9946036493263247, \"m_probability_description\": \"Amongst matching record comparisons, 6.19% of records are in the all other comparisons comparison level\", \"u_probability_description\": \"Amongst non-matching record comparisons, 99.46% of records are in the all other comparisons comparison level\", \"has_tf_adjustments\": false, \"tf_adjustment_column\": null, \"tf_adjustment_weight\": 1.0, \"is_null_level\": false, \"bayes_factor\": 0.06220983526196207, \"log2_bayes_factor\": -4.006713503921268, \"comparison_vector_value\": 0, \"max_comparison_vector_value\": 2, \"bayes_factor_description\": \"If comparison level is `all other comparisons` then comparison is  16.07 times less likely to be a match\", \"probability_two_random_records_match\": 0.17821299502955085, \"comparison_sort_order\": 0, \"iteration\": 1}, {\"comparison_name\": \"day_of_birth\", \"sql_condition\": \"\\\"day_of_birth_l\\\" = \\\"day_of_birth_r\\\"\", \"label_for_charts\": \"Exact match\", \"m_probability\": 0.954990633494545, \"u_probability\": 0.03243028785148898, \"m_probability_description\": \"Amongst matching record comparisons, 95.50% of records are in the exact match comparison level\", \"u_probability_description\": \"Amongst non-matching record comparisons, 3.24% of records are in the exact match comparison level\", \"has_tf_adjustments\": false, \"tf_adjustment_column\": null, \"tf_adjustment_weight\": 1.0, \"is_null_level\": false, \"bayes_factor\": 29.447491735744748, \"log2_bayes_factor\": 4.880072848993619, \"comparison_vector_value\": 2, \"max_comparison_vector_value\": 2, \"bayes_factor_description\": \"If comparison level is `exact match` then comparison is 29.45 times more likely to be a match\", \"probability_two_random_records_match\": 0.17821299502955085, \"comparison_sort_order\": 1, \"iteration\": 1}, {\"comparison_name\": \"day_of_birth\", \"sql_condition\": \"abs(day_of_birth_l - day_of_birth_r) <= 5\", \"label_for_charts\": \"Inexact match\", \"m_probability\": 0.02091699324407778, \"u_probability\": 0.295173345919013, \"m_probability_description\": \"Amongst matching record comparisons, 2.09% of records are in the inexact match comparison level\", \"u_probability_description\": \"Amongst non-matching record comparisons, 29.52% of records are in the inexact match comparison level\", \"has_tf_adjustments\": false, \"tf_adjustment_column\": null, \"tf_adjustment_weight\": 1.0, \"is_null_level\": false, \"bayes_factor\": 0.07086342155641924, \"log2_bayes_factor\": -3.818815063814611, \"comparison_vector_value\": 1, \"max_comparison_vector_value\": 2, \"bayes_factor_description\": \"If comparison level is `inexact match` then comparison is  14.11 times less likely to be a match\", \"probability_two_random_records_match\": 0.17821299502955085, \"comparison_sort_order\": 1, \"iteration\": 1}, {\"comparison_name\": \"day_of_birth\", \"sql_condition\": \"ELSE\", \"label_for_charts\": \"All other comparisons\", \"m_probability\": 0.024092373261377087, \"u_probability\": 0.672396366229498, \"m_probability_description\": \"Amongst matching record comparisons, 2.41% of records are in the all other comparisons comparison level\", \"u_probability_description\": \"Amongst non-matching record comparisons, 67.24% of records are in the all other comparisons comparison level\", \"has_tf_adjustments\": false, \"tf_adjustment_column\": null, \"tf_adjustment_weight\": 1.0, \"is_null_level\": false, \"bayes_factor\": 0.035830611929800395, \"log2_bayes_factor\": -4.802663507081512, \"comparison_vector_value\": 0, \"max_comparison_vector_value\": 2, \"bayes_factor_description\": \"If comparison level is `all other comparisons` then comparison is  27.91 times less likely to be a match\", \"probability_two_random_records_match\": 0.17821299502955085, \"comparison_sort_order\": 1, \"iteration\": 1}, {\"comparison_name\": \"month_of_birth\", \"sql_condition\": \"\\\"month_of_birth_l\\\" = \\\"month_of_birth_r\\\"\", \"label_for_charts\": \"Exact match\", \"m_probability\": 0.9645710327545955, \"u_probability\": 0.08355145831969693, \"m_probability_description\": \"Amongst matching record comparisons, 96.46% of records are in the exact match comparison level\", \"u_probability_description\": \"Amongst non-matching record comparisons, 8.36% of records are in the exact match comparison level\", \"has_tf_adjustments\": false, \"tf_adjustment_column\": null, \"tf_adjustment_weight\": 1.0, \"is_null_level\": false, \"bayes_factor\": 11.54463431462574, \"log2_bayes_factor\": 3.5291505702227326, \"comparison_vector_value\": 2, \"max_comparison_vector_value\": 2, \"bayes_factor_description\": \"If comparison level is `exact match` then comparison is 11.54 times more likely to be a match\", \"probability_two_random_records_match\": 0.17821299502955085, \"comparison_sort_order\": 2, \"iteration\": 1}, {\"comparison_name\": \"month_of_birth\", \"sql_condition\": \"abs(month_of_birth_l - month_of_birth_r) <= 3\", \"label_for_charts\": \"Inexact match\", \"m_probability\": 0.017375806787472883, \"u_probability\": 0.4143133397869391, \"m_probability_description\": \"Amongst matching record comparisons, 1.74% of records are in the inexact match comparison level\", \"u_probability_description\": \"Amongst non-matching record comparisons, 41.43% of records are in the inexact match comparison level\", \"has_tf_adjustments\": false, \"tf_adjustment_column\": null, \"tf_adjustment_weight\": 1.0, \"is_null_level\": false, \"bayes_factor\": 0.041938806016741825, \"log2_bayes_factor\": -4.575570400782887, \"comparison_vector_value\": 1, \"max_comparison_vector_value\": 2, \"bayes_factor_description\": \"If comparison level is `inexact match` then comparison is  23.84 times less likely to be a match\", \"probability_two_random_records_match\": 0.17821299502955085, \"comparison_sort_order\": 2, \"iteration\": 1}, {\"comparison_name\": \"month_of_birth\", \"sql_condition\": \"ELSE\", \"label_for_charts\": \"All other comparisons\", \"m_probability\": 0.01805316045793156, \"u_probability\": 0.5021352018933639, \"m_probability_description\": \"Amongst matching record comparisons, 1.81% of records are in the all other comparisons comparison level\", \"u_probability_description\": \"Amongst non-matching record comparisons, 50.21% of records are in the all other comparisons comparison level\", \"has_tf_adjustments\": false, \"tf_adjustment_column\": null, \"tf_adjustment_weight\": 1.0, \"is_null_level\": false, \"bayes_factor\": 0.03595278799387067, \"log2_bayes_factor\": -4.797752539583766, \"comparison_vector_value\": 0, \"max_comparison_vector_value\": 2, \"bayes_factor_description\": \"If comparison level is `all other comparisons` then comparison is  27.81 times less likely to be a match\", \"probability_two_random_records_match\": 0.17821299502955085, \"comparison_sort_order\": 2, \"iteration\": 1}, {\"comparison_name\": \"year_of_birth\", \"sql_condition\": \"\\\"year_of_birth_l\\\" = \\\"year_of_birth_r\\\"\", \"label_for_charts\": \"Exact match\", \"m_probability\": 0.9489284265072007, \"u_probability\": 0.011125465216557518, \"m_probability_description\": \"Amongst matching record comparisons, 94.89% of records are in the exact match comparison level\", \"u_probability_description\": \"Amongst non-matching record comparisons, 1.11% of records are in the exact match comparison level\", \"has_tf_adjustments\": false, \"tf_adjustment_column\": null, \"tf_adjustment_weight\": 1.0, \"is_null_level\": false, \"bayes_factor\": 85.29337048260724, \"log2_bayes_factor\": 6.41436170579134, \"comparison_vector_value\": 2, \"max_comparison_vector_value\": 2, \"bayes_factor_description\": \"If comparison level is `exact match` then comparison is 85.29 times more likely to be a match\", \"probability_two_random_records_match\": 0.17821299502955085, \"comparison_sort_order\": 3, \"iteration\": 1}, {\"comparison_name\": \"year_of_birth\", \"sql_condition\": \"abs(year_of_birth_l - year_of_birth_r) <= 5\", \"label_for_charts\": \"Inexact match\", \"m_probability\": 0.013161828979482969, \"u_probability\": 0.11053660239472413, \"m_probability_description\": \"Amongst matching record comparisons, 1.32% of records are in the inexact match comparison level\", \"u_probability_description\": \"Amongst non-matching record comparisons, 11.05% of records are in the inexact match comparison level\", \"has_tf_adjustments\": false, \"tf_adjustment_column\": null, \"tf_adjustment_weight\": 1.0, \"is_null_level\": false, \"bayes_factor\": 0.11907213261795695, \"log2_bayes_factor\": -3.070092287379315, \"comparison_vector_value\": 1, \"max_comparison_vector_value\": 2, \"bayes_factor_description\": \"If comparison level is `inexact match` then comparison is  8.40 times less likely to be a match\", \"probability_two_random_records_match\": 0.17821299502955085, \"comparison_sort_order\": 3, \"iteration\": 1}, {\"comparison_name\": \"year_of_birth\", \"sql_condition\": \"ELSE\", \"label_for_charts\": \"All other comparisons\", \"m_probability\": 0.037909744513316315, \"u_probability\": 0.8783379323887184, \"m_probability_description\": \"Amongst matching record comparisons, 3.79% of records are in the all other comparisons comparison level\", \"u_probability_description\": \"Amongst non-matching record comparisons, 87.83% of records are in the all other comparisons comparison level\", \"has_tf_adjustments\": false, \"tf_adjustment_column\": null, \"tf_adjustment_weight\": 1.0, \"is_null_level\": false, \"bayes_factor\": 0.04316077345107638, \"log2_bayes_factor\": -4.534135471287209, \"comparison_vector_value\": 0, \"max_comparison_vector_value\": 2, \"bayes_factor_description\": \"If comparison level is `all other comparisons` then comparison is  23.17 times less likely to be a match\", \"probability_two_random_records_match\": 0.17821299502955085, \"comparison_sort_order\": 3, \"iteration\": 1}, {\"comparison_name\": \"street_number\", \"sql_condition\": \"\\\"street_number_l\\\" = \\\"street_number_r\\\"\", \"label_for_charts\": \"Exact match\", \"m_probability\": 0.7720084472904969, \"u_probability\": 0.004643745865751094, \"m_probability_description\": \"Amongst matching record comparisons, 77.20% of records are in the exact match comparison level\", \"u_probability_description\": \"Amongst non-matching record comparisons, 0.46% of records are in the exact match comparison level\", \"has_tf_adjustments\": false, \"tf_adjustment_column\": null, \"tf_adjustment_weight\": 1.0, \"is_null_level\": false, \"bayes_factor\": 166.24691996697578, \"log2_bayes_factor\": 7.377183802030465, \"comparison_vector_value\": 2, \"max_comparison_vector_value\": 2, \"bayes_factor_description\": \"If comparison level is `exact match` then comparison is 166.25 times more likely to be a match\", \"probability_two_random_records_match\": 0.17821299502955085, \"comparison_sort_order\": 4, \"iteration\": 1}, {\"comparison_name\": \"street_number\", \"sql_condition\": \"jaro_winkler_similarity(\\\"street_number_l\\\", \\\"street_number_r\\\") >= 0.8333333333333334\", \"label_for_charts\": \"Jaro_winkler_similarity >= 0.8333333333333334\", \"m_probability\": 0.06455081296069644, \"u_probability\": 0.012708549889228378, \"m_probability_description\": \"Amongst matching record comparisons, 6.46% of records are in the jaro_winkler_similarity >= 0.8333333333333334 comparison level\", \"u_probability_description\": \"Amongst non-matching record comparisons, 1.27% of records are in the jaro_winkler_similarity >= 0.8333333333333334 comparison level\", \"has_tf_adjustments\": false, \"tf_adjustment_column\": null, \"tf_adjustment_weight\": 1.0, \"is_null_level\": false, \"bayes_factor\": 5.079321678975268, \"log2_bayes_factor\": 2.3446358442966235, \"comparison_vector_value\": 1, \"max_comparison_vector_value\": 2, \"bayes_factor_description\": \"If comparison level is `jaro_winkler_similarity >= 0.8333333333333334` then comparison is 5.08 times more likely to be a match\", \"probability_two_random_records_match\": 0.17821299502955085, \"comparison_sort_order\": 4, \"iteration\": 1}, {\"comparison_name\": \"street_number\", \"sql_condition\": \"ELSE\", \"label_for_charts\": \"All other comparisons\", \"m_probability\": 0.1634407397488067, \"u_probability\": 0.9826477042450206, \"m_probability_description\": \"Amongst matching record comparisons, 16.34% of records are in the all other comparisons comparison level\", \"u_probability_description\": \"Amongst non-matching record comparisons, 98.26% of records are in the all other comparisons comparison level\", \"has_tf_adjustments\": false, \"tf_adjustment_column\": null, \"tf_adjustment_weight\": 1.0, \"is_null_level\": false, \"bayes_factor\": 0.166326893191472, \"log2_bayes_factor\": -2.587906639809106, \"comparison_vector_value\": 0, \"max_comparison_vector_value\": 2, \"bayes_factor_description\": \"If comparison level is `all other comparisons` then comparison is  6.01 times less likely to be a match\", \"probability_two_random_records_match\": 0.17821299502955085, \"comparison_sort_order\": 4, \"iteration\": 1}, {\"comparison_name\": \"street_name\", \"sql_condition\": \"\\\"street_name_l\\\" = \\\"street_name_r\\\"\", \"label_for_charts\": \"Exact match\", \"m_probability\": 0.7583073993083745, \"u_probability\": 0.0036909475444507293, \"m_probability_description\": \"Amongst matching record comparisons, 75.83% of records are in the exact match comparison level\", \"u_probability_description\": \"Amongst non-matching record comparisons, 0.37% of records are in the exact match comparison level\", \"has_tf_adjustments\": false, \"tf_adjustment_column\": null, \"tf_adjustment_weight\": 1.0, \"is_null_level\": false, \"bayes_factor\": 205.4506031787083, \"log2_bayes_factor\": 7.682647755868777, \"comparison_vector_value\": 2, \"max_comparison_vector_value\": 2, \"bayes_factor_description\": \"If comparison level is `exact match` then comparison is 205.45 times more likely to be a match\", \"probability_two_random_records_match\": 0.17821299502955085, \"comparison_sort_order\": 5, \"iteration\": 1}, {\"comparison_name\": \"street_name\", \"sql_condition\": \"jaro_winkler_similarity(\\\"street_name_l\\\", \\\"street_name_r\\\") >= 0.8333333333333334\", \"label_for_charts\": \"Jaro_winkler_similarity >= 0.8333333333333334\", \"m_probability\": 0.10648089873960491, \"u_probability\": 0.0018843912156014068, \"m_probability_description\": \"Amongst matching record comparisons, 10.65% of records are in the jaro_winkler_similarity >= 0.8333333333333334 comparison level\", \"u_probability_description\": \"Amongst non-matching record comparisons, 0.19% of records are in the jaro_winkler_similarity >= 0.8333333333333334 comparison level\", \"has_tf_adjustments\": false, \"tf_adjustment_column\": null, \"tf_adjustment_weight\": 1.0, \"is_null_level\": false, \"bayes_factor\": 56.5067900221671, \"log2_bayes_factor\": 5.820352331313072, \"comparison_vector_value\": 1, \"max_comparison_vector_value\": 2, \"bayes_factor_description\": \"If comparison level is `jaro_winkler_similarity >= 0.8333333333333334` then comparison is 56.51 times more likely to be a match\", \"probability_two_random_records_match\": 0.17821299502955085, \"comparison_sort_order\": 5, \"iteration\": 1}, {\"comparison_name\": \"street_name\", \"sql_condition\": \"ELSE\", \"label_for_charts\": \"All other comparisons\", \"m_probability\": 0.13521170195202042, \"u_probability\": 0.9944246612399479, \"m_probability_description\": \"Amongst matching record comparisons, 13.52% of records are in the all other comparisons comparison level\", \"u_probability_description\": \"Amongst non-matching record comparisons, 99.44% of records are in the all other comparisons comparison level\", \"has_tf_adjustments\": false, \"tf_adjustment_column\": null, \"tf_adjustment_weight\": 1.0, \"is_null_level\": false, \"bayes_factor\": 0.13596977953405237, \"log2_bayes_factor\": -2.878642059302308, \"comparison_vector_value\": 0, \"max_comparison_vector_value\": 2, \"bayes_factor_description\": \"If comparison level is `all other comparisons` then comparison is  7.35 times less likely to be a match\", \"probability_two_random_records_match\": 0.17821299502955085, \"comparison_sort_order\": 5, \"iteration\": 1}, {\"comparison_name\": \"unit_number\", \"sql_condition\": \"\\\"unit_number_l\\\" = \\\"unit_number_r\\\"\", \"label_for_charts\": \"Exact match\", \"m_probability\": 0.9092301276130085, \"u_probability\": 0.005427064313248123, \"m_probability_description\": \"Amongst matching record comparisons, 90.92% of records are in the exact match comparison level\", \"u_probability_description\": \"Amongst non-matching record comparisons, 0.54% of records are in the exact match comparison level\", \"has_tf_adjustments\": false, \"tf_adjustment_column\": null, \"tf_adjustment_weight\": 1.0, \"is_null_level\": false, \"bayes_factor\": 167.536272859982, \"log2_bayes_factor\": 7.388329673463428, \"comparison_vector_value\": 2, \"max_comparison_vector_value\": 2, \"bayes_factor_description\": \"If comparison level is `exact match` then comparison is 167.54 times more likely to be a match\", \"probability_two_random_records_match\": 0.17821299502955085, \"comparison_sort_order\": 6, \"iteration\": 1}, {\"comparison_name\": \"unit_number\", \"sql_condition\": \"jaro_winkler_similarity(\\\"unit_number_l\\\", \\\"unit_number_r\\\") >= 0.8333333333333334\", \"label_for_charts\": \"Jaro_winkler_similarity >= 0.8333333333333334\", \"m_probability\": 0.08393466236746434, \"u_probability\": 0.08399269628727937, \"m_probability_description\": \"Amongst matching record comparisons, 8.39% of records are in the jaro_winkler_similarity >= 0.8333333333333334 comparison level\", \"u_probability_description\": \"Amongst non-matching record comparisons, 8.40% of records are in the jaro_winkler_similarity >= 0.8333333333333334 comparison level\", \"has_tf_adjustments\": false, \"tf_adjustment_column\": null, \"tf_adjustment_weight\": 1.0, \"is_null_level\": false, \"bayes_factor\": 0.9993090599256805, \"log2_bayes_factor\": -0.000997160347478369, \"comparison_vector_value\": 1, \"max_comparison_vector_value\": 2, \"bayes_factor_description\": \"If comparison level is `jaro_winkler_similarity >= 0.8333333333333334` then comparison is  1.00 times less likely to be a match\", \"probability_two_random_records_match\": 0.17821299502955085, \"comparison_sort_order\": 6, \"iteration\": 1}, {\"comparison_name\": \"unit_number\", \"sql_condition\": \"ELSE\", \"label_for_charts\": \"All other comparisons\", \"m_probability\": 0.006835210019527169, \"u_probability\": 0.9105802393994725, \"m_probability_description\": \"Amongst matching record comparisons, 0.68% of records are in the all other comparisons comparison level\", \"u_probability_description\": \"Amongst non-matching record comparisons, 91.06% of records are in the all other comparisons comparison level\", \"has_tf_adjustments\": false, \"tf_adjustment_column\": null, \"tf_adjustment_weight\": 1.0, \"is_null_level\": false, \"bayes_factor\": 0.00750643350665614, \"log2_bayes_factor\": -7.057656674447418, \"comparison_vector_value\": 0, \"max_comparison_vector_value\": 2, \"bayes_factor_description\": \"If comparison level is `all other comparisons` then comparison is  133.22 times less likely to be a match\", \"probability_two_random_records_match\": 0.17821299502955085, \"comparison_sort_order\": 6, \"iteration\": 1}, {\"comparison_name\": \"zipcode\", \"sql_condition\": \"\\\"zipcode_l\\\" = \\\"zipcode_r\\\"\", \"label_for_charts\": \"Exact match\", \"m_probability\": 0.9340733947196203, \"u_probability\": 0.9441587509332844, \"m_probability_description\": \"Amongst matching record comparisons, 93.41% of records are in the exact match comparison level\", \"u_probability_description\": \"Amongst non-matching record comparisons, 94.42% of records are in the exact match comparison level\", \"has_tf_adjustments\": false, \"tf_adjustment_column\": null, \"tf_adjustment_weight\": 1.0, \"is_null_level\": false, \"bayes_factor\": 0.989318156291307, \"log2_bayes_factor\": -0.015493540849249508, \"comparison_vector_value\": 2, \"max_comparison_vector_value\": 2, \"bayes_factor_description\": \"If comparison level is `exact match` then comparison is  1.01 times less likely to be a match\", \"probability_two_random_records_match\": 0.17821299502955085, \"comparison_sort_order\": 7, \"iteration\": 1}, {\"comparison_name\": \"zipcode\", \"sql_condition\": \"jaro_winkler_similarity(\\\"zipcode_l\\\", \\\"zipcode_r\\\") >= 0.8333333333333334\", \"label_for_charts\": \"Jaro_winkler_similarity >= 0.8333333333333334\", \"m_probability\": 0.048692003881047996, \"u_probability\": 0.041136656606251085, \"m_probability_description\": \"Amongst matching record comparisons, 4.87% of records are in the jaro_winkler_similarity >= 0.8333333333333334 comparison level\", \"u_probability_description\": \"Amongst non-matching record comparisons, 4.11% of records are in the jaro_winkler_similarity >= 0.8333333333333334 comparison level\", \"has_tf_adjustments\": false, \"tf_adjustment_column\": null, \"tf_adjustment_weight\": 1.0, \"is_null_level\": false, \"bayes_factor\": 1.1836645925582783, \"log2_bayes_factor\": 0.24326033163842575, \"comparison_vector_value\": 1, \"max_comparison_vector_value\": 2, \"bayes_factor_description\": \"If comparison level is `jaro_winkler_similarity >= 0.8333333333333334` then comparison is 1.18 times more likely to be a match\", \"probability_two_random_records_match\": 0.17821299502955085, \"comparison_sort_order\": 7, \"iteration\": 1}, {\"comparison_name\": \"zipcode\", \"sql_condition\": \"ELSE\", \"label_for_charts\": \"All other comparisons\", \"m_probability\": 0.0172346013993318, \"u_probability\": 0.014704592460464516, \"m_probability_description\": \"Amongst matching record comparisons, 1.72% of records are in the all other comparisons comparison level\", \"u_probability_description\": \"Amongst non-matching record comparisons, 1.47% of records are in the all other comparisons comparison level\", \"has_tf_adjustments\": false, \"tf_adjustment_column\": null, \"tf_adjustment_weight\": 1.0, \"is_null_level\": false, \"bayes_factor\": 1.1720556993109186, \"log2_bayes_factor\": 0.2290411322262165, \"comparison_vector_value\": 0, \"max_comparison_vector_value\": 2, \"bayes_factor_description\": \"If comparison level is `all other comparisons` then comparison is 1.17 times more likely to be a match\", \"probability_two_random_records_match\": 0.17821299502955085, \"comparison_sort_order\": 7, \"iteration\": 1}, {\"comparison_name\": \"first_name_15\", \"sql_condition\": \"\\\"first_name_15_l\\\" = \\\"first_name_15_r\\\"\", \"label_for_charts\": \"Exact match\", \"m_probability\": 0.8425941808680034, \"u_probability\": 0.001979336595976074, \"m_probability_description\": \"Amongst matching record comparisons, 84.26% of records are in the exact match comparison level\", \"u_probability_description\": \"Amongst non-matching record comparisons, 0.20% of records are in the exact match comparison level\", \"has_tf_adjustments\": false, \"tf_adjustment_column\": null, \"tf_adjustment_weight\": 1.0, \"is_null_level\": false, \"bayes_factor\": 425.69524687259843, \"log2_bayes_factor\": 8.733677171480876, \"comparison_vector_value\": 2, \"max_comparison_vector_value\": 2, \"bayes_factor_description\": \"If comparison level is `exact match` then comparison is 425.70 times more likely to be a match\", \"probability_two_random_records_match\": 0.17821299502955085, \"comparison_sort_order\": 0, \"iteration\": 2}, {\"comparison_name\": \"first_name_15\", \"sql_condition\": \"jaro_winkler_similarity(\\\"first_name_15_l\\\", \\\"first_name_15_r\\\") >= 0.8333333333333334\", \"label_for_charts\": \"Jaro_winkler_similarity >= 0.8333333333333334\", \"m_probability\": 0.09185728327014789, \"u_probability\": 0.003417014077699233, \"m_probability_description\": \"Amongst matching record comparisons, 9.19% of records are in the jaro_winkler_similarity >= 0.8333333333333334 comparison level\", \"u_probability_description\": \"Amongst non-matching record comparisons, 0.34% of records are in the jaro_winkler_similarity >= 0.8333333333333334 comparison level\", \"has_tf_adjustments\": false, \"tf_adjustment_column\": null, \"tf_adjustment_weight\": 1.0, \"is_null_level\": false, \"bayes_factor\": 26.882325088926137, \"log2_bayes_factor\": 4.748586019060439, \"comparison_vector_value\": 1, \"max_comparison_vector_value\": 2, \"bayes_factor_description\": \"If comparison level is `jaro_winkler_similarity >= 0.8333333333333334` then comparison is 26.88 times more likely to be a match\", \"probability_two_random_records_match\": 0.17821299502955085, \"comparison_sort_order\": 0, \"iteration\": 2}, {\"comparison_name\": \"first_name_15\", \"sql_condition\": \"ELSE\", \"label_for_charts\": \"All other comparisons\", \"m_probability\": 0.06554853586184864, \"u_probability\": 0.9946036493263247, \"m_probability_description\": \"Amongst matching record comparisons, 6.55% of records are in the all other comparisons comparison level\", \"u_probability_description\": \"Amongst non-matching record comparisons, 99.46% of records are in the all other comparisons comparison level\", \"has_tf_adjustments\": false, \"tf_adjustment_column\": null, \"tf_adjustment_weight\": 1.0, \"is_null_level\": false, \"bayes_factor\": 0.0659041779167477, \"log2_bayes_factor\": -3.9234862637110894, \"comparison_vector_value\": 0, \"max_comparison_vector_value\": 2, \"bayes_factor_description\": \"If comparison level is `all other comparisons` then comparison is  15.17 times less likely to be a match\", \"probability_two_random_records_match\": 0.17821299502955085, \"comparison_sort_order\": 0, \"iteration\": 2}, {\"comparison_name\": \"day_of_birth\", \"sql_condition\": \"\\\"day_of_birth_l\\\" = \\\"day_of_birth_r\\\"\", \"label_for_charts\": \"Exact match\", \"m_probability\": 0.9521374377227575, \"u_probability\": 0.03243028785148898, \"m_probability_description\": \"Amongst matching record comparisons, 95.21% of records are in the exact match comparison level\", \"u_probability_description\": \"Amongst non-matching record comparisons, 3.24% of records are in the exact match comparison level\", \"has_tf_adjustments\": false, \"tf_adjustment_column\": null, \"tf_adjustment_weight\": 1.0, \"is_null_level\": false, \"bayes_factor\": 29.359512381850223, \"log2_bayes_factor\": 4.875756102233051, \"comparison_vector_value\": 2, \"max_comparison_vector_value\": 2, \"bayes_factor_description\": \"If comparison level is `exact match` then comparison is 29.36 times more likely to be a match\", \"probability_two_random_records_match\": 0.17821299502955085, \"comparison_sort_order\": 1, \"iteration\": 2}, {\"comparison_name\": \"day_of_birth\", \"sql_condition\": \"abs(day_of_birth_l - day_of_birth_r) <= 5\", \"label_for_charts\": \"Inexact match\", \"m_probability\": 0.02191833056101023, \"u_probability\": 0.295173345919013, \"m_probability_description\": \"Amongst matching record comparisons, 2.19% of records are in the inexact match comparison level\", \"u_probability_description\": \"Amongst non-matching record comparisons, 29.52% of records are in the inexact match comparison level\", \"has_tf_adjustments\": false, \"tf_adjustment_column\": null, \"tf_adjustment_weight\": 1.0, \"is_null_level\": false, \"bayes_factor\": 0.07425579194072619, \"log2_bayes_factor\": -3.751352629473836, \"comparison_vector_value\": 1, \"max_comparison_vector_value\": 2, \"bayes_factor_description\": \"If comparison level is `inexact match` then comparison is  13.47 times less likely to be a match\", \"probability_two_random_records_match\": 0.17821299502955085, \"comparison_sort_order\": 1, \"iteration\": 2}, {\"comparison_name\": \"day_of_birth\", \"sql_condition\": \"ELSE\", \"label_for_charts\": \"All other comparisons\", \"m_probability\": 0.025944231716232335, \"u_probability\": 0.672396366229498, \"m_probability_description\": \"Amongst matching record comparisons, 2.59% of records are in the all other comparisons comparison level\", \"u_probability_description\": \"Amongst non-matching record comparisons, 67.24% of records are in the all other comparisons comparison level\", \"has_tf_adjustments\": false, \"tf_adjustment_column\": null, \"tf_adjustment_weight\": 1.0, \"is_null_level\": false, \"bayes_factor\": 0.03858472921517428, \"log2_bayes_factor\": -4.69582620872218, \"comparison_vector_value\": 0, \"max_comparison_vector_value\": 2, \"bayes_factor_description\": \"If comparison level is `all other comparisons` then comparison is  25.92 times less likely to be a match\", \"probability_two_random_records_match\": 0.17821299502955085, \"comparison_sort_order\": 1, \"iteration\": 2}, {\"comparison_name\": \"month_of_birth\", \"sql_condition\": \"\\\"month_of_birth_l\\\" = \\\"month_of_birth_r\\\"\", \"label_for_charts\": \"Exact match\", \"m_probability\": 0.9623338121923355, \"u_probability\": 0.08355145831969693, \"m_probability_description\": \"Amongst matching record comparisons, 96.23% of records are in the exact match comparison level\", \"u_probability_description\": \"Amongst non-matching record comparisons, 8.36% of records are in the exact match comparison level\", \"has_tf_adjustments\": false, \"tf_adjustment_column\": null, \"tf_adjustment_weight\": 1.0, \"is_null_level\": false, \"bayes_factor\": 11.517857755517705, \"log2_bayes_factor\": 3.5258005049931835, \"comparison_vector_value\": 2, \"max_comparison_vector_value\": 2, \"bayes_factor_description\": \"If comparison level is `exact match` then comparison is 11.52 times more likely to be a match\", \"probability_two_random_records_match\": 0.17821299502955085, \"comparison_sort_order\": 2, \"iteration\": 2}, {\"comparison_name\": \"month_of_birth\", \"sql_condition\": \"abs(month_of_birth_l - month_of_birth_r) <= 3\", \"label_for_charts\": \"Inexact match\", \"m_probability\": 0.01847454076311255, \"u_probability\": 0.4143133397869391, \"m_probability_description\": \"Amongst matching record comparisons, 1.85% of records are in the inexact match comparison level\", \"u_probability_description\": \"Amongst non-matching record comparisons, 41.43% of records are in the inexact match comparison level\", \"has_tf_adjustments\": false, \"tf_adjustment_column\": null, \"tf_adjustment_weight\": 1.0, \"is_null_level\": false, \"bayes_factor\": 0.04459074567237708, \"log2_bayes_factor\": -4.487111864335834, \"comparison_vector_value\": 1, \"max_comparison_vector_value\": 2, \"bayes_factor_description\": \"If comparison level is `inexact match` then comparison is  22.43 times less likely to be a match\", \"probability_two_random_records_match\": 0.17821299502955085, \"comparison_sort_order\": 2, \"iteration\": 2}, {\"comparison_name\": \"month_of_birth\", \"sql_condition\": \"ELSE\", \"label_for_charts\": \"All other comparisons\", \"m_probability\": 0.019191647044551955, \"u_probability\": 0.5021352018933639, \"m_probability_description\": \"Amongst matching record comparisons, 1.92% of records are in the all other comparisons comparison level\", \"u_probability_description\": \"Amongst non-matching record comparisons, 50.21% of records are in the all other comparisons comparison level\", \"has_tf_adjustments\": false, \"tf_adjustment_column\": null, \"tf_adjustment_weight\": 1.0, \"is_null_level\": false, \"bayes_factor\": 0.03822007891935765, \"log2_bayes_factor\": -4.709525432483731, \"comparison_vector_value\": 0, \"max_comparison_vector_value\": 2, \"bayes_factor_description\": \"If comparison level is `all other comparisons` then comparison is  26.16 times less likely to be a match\", \"probability_two_random_records_match\": 0.17821299502955085, \"comparison_sort_order\": 2, \"iteration\": 2}, {\"comparison_name\": \"year_of_birth\", \"sql_condition\": \"\\\"year_of_birth_l\\\" = \\\"year_of_birth_r\\\"\", \"label_for_charts\": \"Exact match\", \"m_probability\": 0.9459192305711305, \"u_probability\": 0.011125465216557518, \"m_probability_description\": \"Amongst matching record comparisons, 94.59% of records are in the exact match comparison level\", \"u_probability_description\": \"Amongst non-matching record comparisons, 1.11% of records are in the exact match comparison level\", \"has_tf_adjustments\": false, \"tf_adjustment_column\": null, \"tf_adjustment_weight\": 1.0, \"is_null_level\": false, \"bayes_factor\": 85.02289227091038, \"log2_bayes_factor\": 6.4097794316570464, \"comparison_vector_value\": 2, \"max_comparison_vector_value\": 2, \"bayes_factor_description\": \"If comparison level is `exact match` then comparison is 85.02 times more likely to be a match\", \"probability_two_random_records_match\": 0.17821299502955085, \"comparison_sort_order\": 3, \"iteration\": 2}, {\"comparison_name\": \"year_of_birth\", \"sql_condition\": \"abs(year_of_birth_l - year_of_birth_r) <= 5\", \"label_for_charts\": \"Inexact match\", \"m_probability\": 0.013934058305173901, \"u_probability\": 0.11053660239472413, \"m_probability_description\": \"Amongst matching record comparisons, 1.39% of records are in the inexact match comparison level\", \"u_probability_description\": \"Amongst non-matching record comparisons, 11.05% of records are in the inexact match comparison level\", \"has_tf_adjustments\": false, \"tf_adjustment_column\": null, \"tf_adjustment_weight\": 1.0, \"is_null_level\": false, \"bayes_factor\": 0.12605831917481633, \"log2_bayes_factor\": -2.9878367633929472, \"comparison_vector_value\": 1, \"max_comparison_vector_value\": 2, \"bayes_factor_description\": \"If comparison level is `inexact match` then comparison is  7.93 times less likely to be a match\", \"probability_two_random_records_match\": 0.17821299502955085, \"comparison_sort_order\": 3, \"iteration\": 2}, {\"comparison_name\": \"year_of_birth\", \"sql_condition\": \"ELSE\", \"label_for_charts\": \"All other comparisons\", \"m_probability\": 0.04014671112369567, \"u_probability\": 0.8783379323887184, \"m_probability_description\": \"Amongst matching record comparisons, 4.01% of records are in the all other comparisons comparison level\", \"u_probability_description\": \"Amongst non-matching record comparisons, 87.83% of records are in the all other comparisons comparison level\", \"has_tf_adjustments\": false, \"tf_adjustment_column\": null, \"tf_adjustment_weight\": 1.0, \"is_null_level\": false, \"bayes_factor\": 0.045707591171103255, \"log2_bayes_factor\": -4.45142240008404, \"comparison_vector_value\": 0, \"max_comparison_vector_value\": 2, \"bayes_factor_description\": \"If comparison level is `all other comparisons` then comparison is  21.88 times less likely to be a match\", \"probability_two_random_records_match\": 0.17821299502955085, \"comparison_sort_order\": 3, \"iteration\": 2}, {\"comparison_name\": \"street_number\", \"sql_condition\": \"\\\"street_number_l\\\" = \\\"street_number_r\\\"\", \"label_for_charts\": \"Exact match\", \"m_probability\": 0.7721161600663297, \"u_probability\": 0.004643745865751094, \"m_probability_description\": \"Amongst matching record comparisons, 77.21% of records are in the exact match comparison level\", \"u_probability_description\": \"Amongst non-matching record comparisons, 0.46% of records are in the exact match comparison level\", \"has_tf_adjustments\": false, \"tf_adjustment_column\": null, \"tf_adjustment_weight\": 1.0, \"is_null_level\": false, \"bayes_factor\": 166.27011520180272, \"log2_bayes_factor\": 7.377385076833089, \"comparison_vector_value\": 2, \"max_comparison_vector_value\": 2, \"bayes_factor_description\": \"If comparison level is `exact match` then comparison is 166.27 times more likely to be a match\", \"probability_two_random_records_match\": 0.17821299502955085, \"comparison_sort_order\": 4, \"iteration\": 2}, {\"comparison_name\": \"street_number\", \"sql_condition\": \"jaro_winkler_similarity(\\\"street_number_l\\\", \\\"street_number_r\\\") >= 0.8333333333333334\", \"label_for_charts\": \"Jaro_winkler_similarity >= 0.8333333333333334\", \"m_probability\": 0.06452889974919089, \"u_probability\": 0.012708549889228378, \"m_probability_description\": \"Amongst matching record comparisons, 6.45% of records are in the jaro_winkler_similarity >= 0.8333333333333334 comparison level\", \"u_probability_description\": \"Amongst non-matching record comparisons, 1.27% of records are in the jaro_winkler_similarity >= 0.8333333333333334 comparison level\", \"has_tf_adjustments\": false, \"tf_adjustment_column\": null, \"tf_adjustment_weight\": 1.0, \"is_null_level\": false, \"bayes_factor\": 5.077597390075547, \"log2_bayes_factor\": 2.344146006177077, \"comparison_vector_value\": 1, \"max_comparison_vector_value\": 2, \"bayes_factor_description\": \"If comparison level is `jaro_winkler_similarity >= 0.8333333333333334` then comparison is 5.08 times more likely to be a match\", \"probability_two_random_records_match\": 0.17821299502955085, \"comparison_sort_order\": 4, \"iteration\": 2}, {\"comparison_name\": \"street_number\", \"sql_condition\": \"ELSE\", \"label_for_charts\": \"All other comparisons\", \"m_probability\": 0.16335494018447946, \"u_probability\": 0.9826477042450206, \"m_probability_description\": \"Amongst matching record comparisons, 16.34% of records are in the all other comparisons comparison level\", \"u_probability_description\": \"Amongst non-matching record comparisons, 98.26% of records are in the all other comparisons comparison level\", \"has_tf_adjustments\": false, \"tf_adjustment_column\": null, \"tf_adjustment_weight\": 1.0, \"is_null_level\": false, \"bayes_factor\": 0.16623957851709115, \"log2_bayes_factor\": -2.588664193328998, \"comparison_vector_value\": 0, \"max_comparison_vector_value\": 2, \"bayes_factor_description\": \"If comparison level is `all other comparisons` then comparison is  6.02 times less likely to be a match\", \"probability_two_random_records_match\": 0.17821299502955085, \"comparison_sort_order\": 4, \"iteration\": 2}, {\"comparison_name\": \"street_name\", \"sql_condition\": \"\\\"street_name_l\\\" = \\\"street_name_r\\\"\", \"label_for_charts\": \"Exact match\", \"m_probability\": 0.7583900829828886, \"u_probability\": 0.0036909475444507293, \"m_probability_description\": \"Amongst matching record comparisons, 75.84% of records are in the exact match comparison level\", \"u_probability_description\": \"Amongst non-matching record comparisons, 0.37% of records are in the exact match comparison level\", \"has_tf_adjustments\": false, \"tf_adjustment_column\": null, \"tf_adjustment_weight\": 1.0, \"is_null_level\": false, \"bayes_factor\": 205.47300492609654, \"log2_bayes_factor\": 7.68280505464285, \"comparison_vector_value\": 2, \"max_comparison_vector_value\": 2, \"bayes_factor_description\": \"If comparison level is `exact match` then comparison is 205.47 times more likely to be a match\", \"probability_two_random_records_match\": 0.17821299502955085, \"comparison_sort_order\": 5, \"iteration\": 2}, {\"comparison_name\": \"street_name\", \"sql_condition\": \"jaro_winkler_similarity(\\\"street_name_l\\\", \\\"street_name_r\\\") >= 0.8333333333333334\", \"label_for_charts\": \"Jaro_winkler_similarity >= 0.8333333333333334\", \"m_probability\": 0.10642196335350343, \"u_probability\": 0.0018843912156014068, \"m_probability_description\": \"Amongst matching record comparisons, 10.64% of records are in the jaro_winkler_similarity >= 0.8333333333333334 comparison level\", \"u_probability_description\": \"Amongst non-matching record comparisons, 0.19% of records are in the jaro_winkler_similarity >= 0.8333333333333334 comparison level\", \"has_tf_adjustments\": false, \"tf_adjustment_column\": null, \"tf_adjustment_weight\": 1.0, \"is_null_level\": false, \"bayes_factor\": 56.475514464515626, \"log2_bayes_factor\": 5.819553602816918, \"comparison_vector_value\": 1, \"max_comparison_vector_value\": 2, \"bayes_factor_description\": \"If comparison level is `jaro_winkler_similarity >= 0.8333333333333334` then comparison is 56.48 times more likely to be a match\", \"probability_two_random_records_match\": 0.17821299502955085, \"comparison_sort_order\": 5, \"iteration\": 2}, {\"comparison_name\": \"street_name\", \"sql_condition\": \"ELSE\", \"label_for_charts\": \"All other comparisons\", \"m_probability\": 0.13518795366360803, \"u_probability\": 0.9944246612399479, \"m_probability_description\": \"Amongst matching record comparisons, 13.52% of records are in the all other comparisons comparison level\", \"u_probability_description\": \"Amongst non-matching record comparisons, 99.44% of records are in the all other comparisons comparison level\", \"has_tf_adjustments\": false, \"tf_adjustment_column\": null, \"tf_adjustment_weight\": 1.0, \"is_null_level\": false, \"bayes_factor\": 0.13594589809854696, \"log2_bayes_factor\": -2.8788954733677383, \"comparison_vector_value\": 0, \"max_comparison_vector_value\": 2, \"bayes_factor_description\": \"If comparison level is `all other comparisons` then comparison is  7.36 times less likely to be a match\", \"probability_two_random_records_match\": 0.17821299502955085, \"comparison_sort_order\": 5, \"iteration\": 2}, {\"comparison_name\": \"unit_number\", \"sql_condition\": \"\\\"unit_number_l\\\" = \\\"unit_number_r\\\"\", \"label_for_charts\": \"Exact match\", \"m_probability\": 0.9097349080100978, \"u_probability\": 0.005427064313248123, \"m_probability_description\": \"Amongst matching record comparisons, 90.97% of records are in the exact match comparison level\", \"u_probability_description\": \"Amongst non-matching record comparisons, 0.54% of records are in the exact match comparison level\", \"has_tf_adjustments\": false, \"tf_adjustment_column\": null, \"tf_adjustment_weight\": 1.0, \"is_null_level\": false, \"bayes_factor\": 167.62928454511297, \"log2_bayes_factor\": 7.389130397149756, \"comparison_vector_value\": 2, \"max_comparison_vector_value\": 2, \"bayes_factor_description\": \"If comparison level is `exact match` then comparison is 167.63 times more likely to be a match\", \"probability_two_random_records_match\": 0.17821299502955085, \"comparison_sort_order\": 6, \"iteration\": 2}, {\"comparison_name\": \"unit_number\", \"sql_condition\": \"jaro_winkler_similarity(\\\"unit_number_l\\\", \\\"unit_number_r\\\") >= 0.8333333333333334\", \"label_for_charts\": \"Jaro_winkler_similarity >= 0.8333333333333334\", \"m_probability\": 0.08344253813082932, \"u_probability\": 0.08399269628727937, \"m_probability_description\": \"Amongst matching record comparisons, 8.34% of records are in the jaro_winkler_similarity >= 0.8333333333333334 comparison level\", \"u_probability_description\": \"Amongst non-matching record comparisons, 8.40% of records are in the jaro_winkler_similarity >= 0.8333333333333334 comparison level\", \"has_tf_adjustments\": false, \"tf_adjustment_column\": null, \"tf_adjustment_weight\": 1.0, \"is_null_level\": false, \"bayes_factor\": 0.9934499286155982, \"log2_bayes_factor\": -0.009480839600018448, \"comparison_vector_value\": 1, \"max_comparison_vector_value\": 2, \"bayes_factor_description\": \"If comparison level is `jaro_winkler_similarity >= 0.8333333333333334` then comparison is  1.01 times less likely to be a match\", \"probability_two_random_records_match\": 0.17821299502955085, \"comparison_sort_order\": 6, \"iteration\": 2}, {\"comparison_name\": \"unit_number\", \"sql_condition\": \"ELSE\", \"label_for_charts\": \"All other comparisons\", \"m_probability\": 0.006822553859072931, \"u_probability\": 0.9105802393994725, \"m_probability_description\": \"Amongst matching record comparisons, 0.68% of records are in the all other comparisons comparison level\", \"u_probability_description\": \"Amongst non-matching record comparisons, 91.06% of records are in the all other comparisons comparison level\", \"has_tf_adjustments\": false, \"tf_adjustment_column\": null, \"tf_adjustment_weight\": 1.0, \"is_null_level\": false, \"bayes_factor\": 0.007492534500388899, \"log2_bayes_factor\": -7.06033046282342, \"comparison_vector_value\": 0, \"max_comparison_vector_value\": 2, \"bayes_factor_description\": \"If comparison level is `all other comparisons` then comparison is  133.47 times less likely to be a match\", \"probability_two_random_records_match\": 0.17821299502955085, \"comparison_sort_order\": 6, \"iteration\": 2}, {\"comparison_name\": \"zipcode\", \"sql_condition\": \"\\\"zipcode_l\\\" = \\\"zipcode_r\\\"\", \"label_for_charts\": \"Exact match\", \"m_probability\": 0.9341102574103909, \"u_probability\": 0.9441587509332844, \"m_probability_description\": \"Amongst matching record comparisons, 93.41% of records are in the exact match comparison level\", \"u_probability_description\": \"Amongst non-matching record comparisons, 94.42% of records are in the exact match comparison level\", \"has_tf_adjustments\": false, \"tf_adjustment_column\": null, \"tf_adjustment_weight\": 1.0, \"is_null_level\": false, \"bayes_factor\": 0.9893571991860894, \"log2_bayes_factor\": -0.015436606809477994, \"comparison_vector_value\": 2, \"max_comparison_vector_value\": 2, \"bayes_factor_description\": \"If comparison level is `exact match` then comparison is  1.01 times less likely to be a match\", \"probability_two_random_records_match\": 0.17821299502955085, \"comparison_sort_order\": 7, \"iteration\": 2}, {\"comparison_name\": \"zipcode\", \"sql_condition\": \"jaro_winkler_similarity(\\\"zipcode_l\\\", \\\"zipcode_r\\\") >= 0.8333333333333334\", \"label_for_charts\": \"Jaro_winkler_similarity >= 0.8333333333333334\", \"m_probability\": 0.0486589765279273, \"u_probability\": 0.041136656606251085, \"m_probability_description\": \"Amongst matching record comparisons, 4.87% of records are in the jaro_winkler_similarity >= 0.8333333333333334 comparison level\", \"u_probability_description\": \"Amongst non-matching record comparisons, 4.11% of records are in the jaro_winkler_similarity >= 0.8333333333333334 comparison level\", \"has_tf_adjustments\": false, \"tf_adjustment_column\": null, \"tf_adjustment_weight\": 1.0, \"is_null_level\": false, \"bayes_factor\": 1.1828617233937562, \"log2_bayes_factor\": 0.2422814323979905, \"comparison_vector_value\": 1, \"max_comparison_vector_value\": 2, \"bayes_factor_description\": \"If comparison level is `jaro_winkler_similarity >= 0.8333333333333334` then comparison is 1.18 times more likely to be a match\", \"probability_two_random_records_match\": 0.17821299502955085, \"comparison_sort_order\": 7, \"iteration\": 2}, {\"comparison_name\": \"zipcode\", \"sql_condition\": \"ELSE\", \"label_for_charts\": \"All other comparisons\", \"m_probability\": 0.01723076606168185, \"u_probability\": 0.014704592460464516, \"m_probability_description\": \"Amongst matching record comparisons, 1.72% of records are in the all other comparisons comparison level\", \"u_probability_description\": \"Amongst non-matching record comparisons, 1.47% of records are in the all other comparisons comparison level\", \"has_tf_adjustments\": false, \"tf_adjustment_column\": null, \"tf_adjustment_weight\": 1.0, \"is_null_level\": false, \"bayes_factor\": 1.1717948734729864, \"log2_bayes_factor\": 0.22872004337452675, \"comparison_vector_value\": 0, \"max_comparison_vector_value\": 2, \"bayes_factor_description\": \"If comparison level is `all other comparisons` then comparison is 1.17 times more likely to be a match\", \"probability_two_random_records_match\": 0.17821299502955085, \"comparison_sort_order\": 7, \"iteration\": 2}, {\"comparison_name\": \"first_name_15\", \"sql_condition\": \"\\\"first_name_15_l\\\" = \\\"first_name_15_r\\\"\", \"label_for_charts\": \"Exact match\", \"m_probability\": 0.8419432094657476, \"u_probability\": 0.001979336595976074, \"m_probability_description\": \"Amongst matching record comparisons, 84.19% of records are in the exact match comparison level\", \"u_probability_description\": \"Amongst non-matching record comparisons, 0.20% of records are in the exact match comparison level\", \"has_tf_adjustments\": false, \"tf_adjustment_column\": null, \"tf_adjustment_weight\": 1.0, \"is_null_level\": false, \"bayes_factor\": 425.3663632438214, \"log2_bayes_factor\": 8.732562143383626, \"comparison_vector_value\": 2, \"max_comparison_vector_value\": 2, \"bayes_factor_description\": \"If comparison level is `exact match` then comparison is 425.37 times more likely to be a match\", \"probability_two_random_records_match\": 0.17821299502955085, \"comparison_sort_order\": 0, \"iteration\": 3}, {\"comparison_name\": \"first_name_15\", \"sql_condition\": \"jaro_winkler_similarity(\\\"first_name_15_l\\\", \\\"first_name_15_r\\\") >= 0.8333333333333334\", \"label_for_charts\": \"Jaro_winkler_similarity >= 0.8333333333333334\", \"m_probability\": 0.0917957443889265, \"u_probability\": 0.003417014077699233, \"m_probability_description\": \"Amongst matching record comparisons, 9.18% of records are in the jaro_winkler_similarity >= 0.8333333333333334 comparison level\", \"u_probability_description\": \"Amongst non-matching record comparisons, 0.34% of records are in the jaro_winkler_similarity >= 0.8333333333333334 comparison level\", \"has_tf_adjustments\": false, \"tf_adjustment_column\": null, \"tf_adjustment_weight\": 1.0, \"is_null_level\": false, \"bayes_factor\": 26.86431554029038, \"log2_bayes_factor\": 4.747619175842939, \"comparison_vector_value\": 1, \"max_comparison_vector_value\": 2, \"bayes_factor_description\": \"If comparison level is `jaro_winkler_similarity >= 0.8333333333333334` then comparison is 26.86 times more likely to be a match\", \"probability_two_random_records_match\": 0.17821299502955085, \"comparison_sort_order\": 0, \"iteration\": 3}, {\"comparison_name\": \"first_name_15\", \"sql_condition\": \"ELSE\", \"label_for_charts\": \"All other comparisons\", \"m_probability\": 0.06626104614532588, \"u_probability\": 0.9946036493263247, \"m_probability_description\": \"Amongst matching record comparisons, 6.63% of records are in the all other comparisons comparison level\", \"u_probability_description\": \"Amongst non-matching record comparisons, 99.46% of records are in the all other comparisons comparison level\", \"has_tf_adjustments\": false, \"tf_adjustment_column\": null, \"tf_adjustment_weight\": 1.0, \"is_null_level\": false, \"bayes_factor\": 0.06662055401687547, \"log2_bayes_factor\": -3.907888838253073, \"comparison_vector_value\": 0, \"max_comparison_vector_value\": 2, \"bayes_factor_description\": \"If comparison level is `all other comparisons` then comparison is  15.01 times less likely to be a match\", \"probability_two_random_records_match\": 0.17821299502955085, \"comparison_sort_order\": 0, \"iteration\": 3}, {\"comparison_name\": \"day_of_birth\", \"sql_condition\": \"\\\"day_of_birth_l\\\" = \\\"day_of_birth_r\\\"\", \"label_for_charts\": \"Exact match\", \"m_probability\": 0.9512375954060573, \"u_probability\": 0.03243028785148898, \"m_probability_description\": \"Amongst matching record comparisons, 95.12% of records are in the exact match comparison level\", \"u_probability_description\": \"Amongst non-matching record comparisons, 3.24% of records are in the exact match comparison level\", \"has_tf_adjustments\": false, \"tf_adjustment_column\": null, \"tf_adjustment_weight\": 1.0, \"is_null_level\": false, \"bayes_factor\": 29.331765408995068, \"log2_bayes_factor\": 4.874392000968711, \"comparison_vector_value\": 2, \"max_comparison_vector_value\": 2, \"bayes_factor_description\": \"If comparison level is `exact match` then comparison is 29.33 times more likely to be a match\", \"probability_two_random_records_match\": 0.17821299502955085, \"comparison_sort_order\": 1, \"iteration\": 3}, {\"comparison_name\": \"day_of_birth\", \"sql_condition\": \"abs(day_of_birth_l - day_of_birth_r) <= 5\", \"label_for_charts\": \"Inexact match\", \"m_probability\": 0.022250324426884883, \"u_probability\": 0.295173345919013, \"m_probability_description\": \"Amongst matching record comparisons, 2.23% of records are in the inexact match comparison level\", \"u_probability_description\": \"Amongst non-matching record comparisons, 29.52% of records are in the inexact match comparison level\", \"has_tf_adjustments\": false, \"tf_adjustment_column\": null, \"tf_adjustment_weight\": 1.0, \"is_null_level\": false, \"bayes_factor\": 0.07538053396254053, \"log2_bayes_factor\": -3.7296641753192734, \"comparison_vector_value\": 1, \"max_comparison_vector_value\": 2, \"bayes_factor_description\": \"If comparison level is `inexact match` then comparison is  13.27 times less likely to be a match\", \"probability_two_random_records_match\": 0.17821299502955085, \"comparison_sort_order\": 1, \"iteration\": 3}, {\"comparison_name\": \"day_of_birth\", \"sql_condition\": \"ELSE\", \"label_for_charts\": \"All other comparisons\", \"m_probability\": 0.026512080167057698, \"u_probability\": 0.672396366229498, \"m_probability_description\": \"Amongst matching record comparisons, 2.65% of records are in the all other comparisons comparison level\", \"u_probability_description\": \"Amongst non-matching record comparisons, 67.24% of records are in the all other comparisons comparison level\", \"has_tf_adjustments\": false, \"tf_adjustment_column\": null, \"tf_adjustment_weight\": 1.0, \"is_null_level\": false, \"bayes_factor\": 0.03942924367025619, \"log2_bayes_factor\": -4.664590152766373, \"comparison_vector_value\": 0, \"max_comparison_vector_value\": 2, \"bayes_factor_description\": \"If comparison level is `all other comparisons` then comparison is  25.36 times less likely to be a match\", \"probability_two_random_records_match\": 0.17821299502955085, \"comparison_sort_order\": 1, \"iteration\": 3}, {\"comparison_name\": \"month_of_birth\", \"sql_condition\": \"\\\"month_of_birth_l\\\" = \\\"month_of_birth_r\\\"\", \"label_for_charts\": \"Exact match\", \"m_probability\": 0.9614972405859317, \"u_probability\": 0.08355145831969693, \"m_probability_description\": \"Amongst matching record comparisons, 96.15% of records are in the exact match comparison level\", \"u_probability_description\": \"Amongst non-matching record comparisons, 8.36% of records are in the exact match comparison level\", \"has_tf_adjustments\": false, \"tf_adjustment_column\": null, \"tf_adjustment_weight\": 1.0, \"is_null_level\": false, \"bayes_factor\": 11.507845104353642, \"log2_bayes_factor\": 3.5245458025262106, \"comparison_vector_value\": 2, \"max_comparison_vector_value\": 2, \"bayes_factor_description\": \"If comparison level is `exact match` then comparison is 11.51 times more likely to be a match\", \"probability_two_random_records_match\": 0.17821299502955085, \"comparison_sort_order\": 2, \"iteration\": 3}, {\"comparison_name\": \"month_of_birth\", \"sql_condition\": \"abs(month_of_birth_l - month_of_birth_r) <= 3\", \"label_for_charts\": \"Inexact match\", \"m_probability\": 0.018913551355122717, \"u_probability\": 0.4143133397869391, \"m_probability_description\": \"Amongst matching record comparisons, 1.89% of records are in the inexact match comparison level\", \"u_probability_description\": \"Amongst non-matching record comparisons, 41.43% of records are in the inexact match comparison level\", \"has_tf_adjustments\": false, \"tf_adjustment_column\": null, \"tf_adjustment_weight\": 1.0, \"is_null_level\": false, \"bayes_factor\": 0.045650355754533564, \"log2_bayes_factor\": -4.453230086557528, \"comparison_vector_value\": 1, \"max_comparison_vector_value\": 2, \"bayes_factor_description\": \"If comparison level is `inexact match` then comparison is  21.91 times less likely to be a match\", \"probability_two_random_records_match\": 0.17821299502955085, \"comparison_sort_order\": 2, \"iteration\": 3}, {\"comparison_name\": \"month_of_birth\", \"sql_condition\": \"ELSE\", \"label_for_charts\": \"All other comparisons\", \"m_probability\": 0.019589208058945554, \"u_probability\": 0.5021352018933639, \"m_probability_description\": \"Amongst matching record comparisons, 1.96% of records are in the all other comparisons comparison level\", \"u_probability_description\": \"Amongst non-matching record comparisons, 50.21% of records are in the all other comparisons comparison level\", \"has_tf_adjustments\": false, \"tf_adjustment_column\": null, \"tf_adjustment_weight\": 1.0, \"is_null_level\": false, \"bayes_factor\": 0.03901181989448655, \"log2_bayes_factor\": -4.6799448883743375, \"comparison_vector_value\": 0, \"max_comparison_vector_value\": 2, \"bayes_factor_description\": \"If comparison level is `all other comparisons` then comparison is  25.63 times less likely to be a match\", \"probability_two_random_records_match\": 0.17821299502955085, \"comparison_sort_order\": 2, \"iteration\": 3}, {\"comparison_name\": \"year_of_birth\", \"sql_condition\": \"\\\"year_of_birth_l\\\" = \\\"year_of_birth_r\\\"\", \"label_for_charts\": \"Exact match\", \"m_probability\": 0.9450146462459492, \"u_probability\": 0.011125465216557518, \"m_probability_description\": \"Amongst matching record comparisons, 94.50% of records are in the exact match comparison level\", \"u_probability_description\": \"Amongst non-matching record comparisons, 1.11% of records are in the exact match comparison level\", \"has_tf_adjustments\": false, \"tf_adjustment_column\": null, \"tf_adjustment_weight\": 1.0, \"is_null_level\": false, \"bayes_factor\": 84.94158472038791, \"log2_bayes_factor\": 6.408399119594783, \"comparison_vector_value\": 2, \"max_comparison_vector_value\": 2, \"bayes_factor_description\": \"If comparison level is `exact match` then comparison is 84.94 times more likely to be a match\", \"probability_two_random_records_match\": 0.17821299502955085, \"comparison_sort_order\": 3, \"iteration\": 3}, {\"comparison_name\": \"year_of_birth\", \"sql_condition\": \"abs(year_of_birth_l - year_of_birth_r) <= 5\", \"label_for_charts\": \"Inexact match\", \"m_probability\": 0.014258662673067257, \"u_probability\": 0.11053660239472413, \"m_probability_description\": \"Amongst matching record comparisons, 1.43% of records are in the inexact match comparison level\", \"u_probability_description\": \"Amongst non-matching record comparisons, 11.05% of records are in the inexact match comparison level\", \"has_tf_adjustments\": false, \"tf_adjustment_column\": null, \"tf_adjustment_weight\": 1.0, \"is_null_level\": false, \"bayes_factor\": 0.12899494252727112, \"log2_bayes_factor\": -2.9546135915167975, \"comparison_vector_value\": 1, \"max_comparison_vector_value\": 2, \"bayes_factor_description\": \"If comparison level is `inexact match` then comparison is  7.75 times less likely to be a match\", \"probability_two_random_records_match\": 0.17821299502955085, \"comparison_sort_order\": 3, \"iteration\": 3}, {\"comparison_name\": \"year_of_birth\", \"sql_condition\": \"ELSE\", \"label_for_charts\": \"All other comparisons\", \"m_probability\": 0.040726691080983486, \"u_probability\": 0.8783379323887184, \"m_probability_description\": \"Amongst matching record comparisons, 4.07% of records are in the all other comparisons comparison level\", \"u_probability_description\": \"Amongst non-matching record comparisons, 87.83% of records are in the all other comparisons comparison level\", \"has_tf_adjustments\": false, \"tf_adjustment_column\": null, \"tf_adjustment_weight\": 1.0, \"is_null_level\": false, \"bayes_factor\": 0.04636790645056581, \"log2_bayes_factor\": -4.430729600469474, \"comparison_vector_value\": 0, \"max_comparison_vector_value\": 2, \"bayes_factor_description\": \"If comparison level is `all other comparisons` then comparison is  21.57 times less likely to be a match\", \"probability_two_random_records_match\": 0.17821299502955085, \"comparison_sort_order\": 3, \"iteration\": 3}, {\"comparison_name\": \"street_number\", \"sql_condition\": \"\\\"street_number_l\\\" = \\\"street_number_r\\\"\", \"label_for_charts\": \"Exact match\", \"m_probability\": 0.7721910721206738, \"u_probability\": 0.004643745865751094, \"m_probability_description\": \"Amongst matching record comparisons, 77.22% of records are in the exact match comparison level\", \"u_probability_description\": \"Amongst non-matching record comparisons, 0.46% of records are in the exact match comparison level\", \"has_tf_adjustments\": false, \"tf_adjustment_column\": null, \"tf_adjustment_weight\": 1.0, \"is_null_level\": false, \"bayes_factor\": 166.28624701790764, \"log2_bayes_factor\": 7.377525042828374, \"comparison_vector_value\": 2, \"max_comparison_vector_value\": 2, \"bayes_factor_description\": \"If comparison level is `exact match` then comparison is 166.29 times more likely to be a match\", \"probability_two_random_records_match\": 0.17821299502955085, \"comparison_sort_order\": 4, \"iteration\": 3}, {\"comparison_name\": \"street_number\", \"sql_condition\": \"jaro_winkler_similarity(\\\"street_number_l\\\", \\\"street_number_r\\\") >= 0.8333333333333334\", \"label_for_charts\": \"Jaro_winkler_similarity >= 0.8333333333333334\", \"m_probability\": 0.0645193139216664, \"u_probability\": 0.012708549889228378, \"m_probability_description\": \"Amongst matching record comparisons, 6.45% of records are in the jaro_winkler_similarity >= 0.8333333333333334 comparison level\", \"u_probability_description\": \"Amongst non-matching record comparisons, 1.27% of records are in the jaro_winkler_similarity >= 0.8333333333333334 comparison level\", \"has_tf_adjustments\": false, \"tf_adjustment_column\": null, \"tf_adjustment_weight\": 1.0, \"is_null_level\": false, \"bayes_factor\": 5.07684310830398, \"log2_bayes_factor\": 2.3439316765794103, \"comparison_vector_value\": 1, \"max_comparison_vector_value\": 2, \"bayes_factor_description\": \"If comparison level is `jaro_winkler_similarity >= 0.8333333333333334` then comparison is 5.08 times more likely to be a match\", \"probability_two_random_records_match\": 0.17821299502955085, \"comparison_sort_order\": 4, \"iteration\": 3}, {\"comparison_name\": \"street_number\", \"sql_condition\": \"ELSE\", \"label_for_charts\": \"All other comparisons\", \"m_probability\": 0.16328961395765973, \"u_probability\": 0.9826477042450206, \"m_probability_description\": \"Amongst matching record comparisons, 16.33% of records are in the all other comparisons comparison level\", \"u_probability_description\": \"Amongst non-matching record comparisons, 98.26% of records are in the all other comparisons comparison level\", \"has_tf_adjustments\": false, \"tf_adjustment_column\": null, \"tf_adjustment_weight\": 1.0, \"is_null_level\": false, \"bayes_factor\": 0.16617309871304997, \"log2_bayes_factor\": -2.5892412476440585, \"comparison_vector_value\": 0, \"max_comparison_vector_value\": 2, \"bayes_factor_description\": \"If comparison level is `all other comparisons` then comparison is  6.02 times less likely to be a match\", \"probability_two_random_records_match\": 0.17821299502955085, \"comparison_sort_order\": 4, \"iteration\": 3}, {\"comparison_name\": \"street_name\", \"sql_condition\": \"\\\"street_name_l\\\" = \\\"street_name_r\\\"\", \"label_for_charts\": \"Exact match\", \"m_probability\": 0.7584823147400725, \"u_probability\": 0.0036909475444507293, \"m_probability_description\": \"Amongst matching record comparisons, 75.85% of records are in the exact match comparison level\", \"u_probability_description\": \"Amongst non-matching record comparisons, 0.37% of records are in the exact match comparison level\", \"has_tf_adjustments\": false, \"tf_adjustment_column\": null, \"tf_adjustment_weight\": 1.0, \"is_null_level\": false, \"bayes_factor\": 205.49799356548334, \"log2_bayes_factor\": 7.682980497612299, \"comparison_vector_value\": 2, \"max_comparison_vector_value\": 2, \"bayes_factor_description\": \"If comparison level is `exact match` then comparison is 205.50 times more likely to be a match\", \"probability_two_random_records_match\": 0.17821299502955085, \"comparison_sort_order\": 5, \"iteration\": 3}, {\"comparison_name\": \"street_name\", \"sql_condition\": \"jaro_winkler_similarity(\\\"street_name_l\\\", \\\"street_name_r\\\") >= 0.8333333333333334\", \"label_for_charts\": \"Jaro_winkler_similarity >= 0.8333333333333334\", \"m_probability\": 0.10638810349743637, \"u_probability\": 0.0018843912156014068, \"m_probability_description\": \"Amongst matching record comparisons, 10.64% of records are in the jaro_winkler_similarity >= 0.8333333333333334 comparison level\", \"u_probability_description\": \"Amongst non-matching record comparisons, 0.19% of records are in the jaro_winkler_similarity >= 0.8333333333333334 comparison level\", \"has_tf_adjustments\": false, \"tf_adjustment_column\": null, \"tf_adjustment_weight\": 1.0, \"is_null_level\": false, \"bayes_factor\": 56.45754587296907, \"log2_bayes_factor\": 5.819094513192369, \"comparison_vector_value\": 1, \"max_comparison_vector_value\": 2, \"bayes_factor_description\": \"If comparison level is `jaro_winkler_similarity >= 0.8333333333333334` then comparison is 56.46 times more likely to be a match\", \"probability_two_random_records_match\": 0.17821299502955085, \"comparison_sort_order\": 5, \"iteration\": 3}, {\"comparison_name\": \"street_name\", \"sql_condition\": \"ELSE\", \"label_for_charts\": \"All other comparisons\", \"m_probability\": 0.1351295817624911, \"u_probability\": 0.9944246612399479, \"m_probability_description\": \"Amongst matching record comparisons, 13.51% of records are in the all other comparisons comparison level\", \"u_probability_description\": \"Amongst non-matching record comparisons, 99.44% of records are in the all other comparisons comparison level\", \"has_tf_adjustments\": false, \"tf_adjustment_column\": null, \"tf_adjustment_weight\": 1.0, \"is_null_level\": false, \"bayes_factor\": 0.13588719892967865, \"log2_bayes_factor\": -2.8795185395217326, \"comparison_vector_value\": 0, \"max_comparison_vector_value\": 2, \"bayes_factor_description\": \"If comparison level is `all other comparisons` then comparison is  7.36 times less likely to be a match\", \"probability_two_random_records_match\": 0.17821299502955085, \"comparison_sort_order\": 5, \"iteration\": 3}, {\"comparison_name\": \"unit_number\", \"sql_condition\": \"\\\"unit_number_l\\\" = \\\"unit_number_r\\\"\", \"label_for_charts\": \"Exact match\", \"m_probability\": 0.9098084631750046, \"u_probability\": 0.005427064313248123, \"m_probability_description\": \"Amongst matching record comparisons, 90.98% of records are in the exact match comparison level\", \"u_probability_description\": \"Amongst non-matching record comparisons, 0.54% of records are in the exact match comparison level\", \"has_tf_adjustments\": false, \"tf_adjustment_column\": null, \"tf_adjustment_weight\": 1.0, \"is_null_level\": false, \"bayes_factor\": 167.64283794353636, \"log2_bayes_factor\": 7.389247039240713, \"comparison_vector_value\": 2, \"max_comparison_vector_value\": 2, \"bayes_factor_description\": \"If comparison level is `exact match` then comparison is 167.64 times more likely to be a match\", \"probability_two_random_records_match\": 0.17821299502955085, \"comparison_sort_order\": 6, \"iteration\": 3}, {\"comparison_name\": \"unit_number\", \"sql_condition\": \"jaro_winkler_similarity(\\\"unit_number_l\\\", \\\"unit_number_r\\\") >= 0.8333333333333334\", \"label_for_charts\": \"Jaro_winkler_similarity >= 0.8333333333333334\", \"m_probability\": 0.08337541287261843, \"u_probability\": 0.08399269628727937, \"m_probability_description\": \"Amongst matching record comparisons, 8.34% of records are in the jaro_winkler_similarity >= 0.8333333333333334 comparison level\", \"u_probability_description\": \"Amongst non-matching record comparisons, 8.40% of records are in the jaro_winkler_similarity >= 0.8333333333333334 comparison level\", \"has_tf_adjustments\": false, \"tf_adjustment_column\": null, \"tf_adjustment_weight\": 1.0, \"is_null_level\": false, \"bayes_factor\": 0.9926507489109571, \"log2_bayes_factor\": -0.010641881104045882, \"comparison_vector_value\": 1, \"max_comparison_vector_value\": 2, \"bayes_factor_description\": \"If comparison level is `jaro_winkler_similarity >= 0.8333333333333334` then comparison is  1.01 times less likely to be a match\", \"probability_two_random_records_match\": 0.17821299502955085, \"comparison_sort_order\": 6, \"iteration\": 3}, {\"comparison_name\": \"unit_number\", \"sql_condition\": \"ELSE\", \"label_for_charts\": \"All other comparisons\", \"m_probability\": 0.006816123952376972, \"u_probability\": 0.9105802393994725, \"m_probability_description\": \"Amongst matching record comparisons, 0.68% of records are in the all other comparisons comparison level\", \"u_probability_description\": \"Amongst non-matching record comparisons, 91.06% of records are in the all other comparisons comparison level\", \"has_tf_adjustments\": false, \"tf_adjustment_column\": null, \"tf_adjustment_weight\": 1.0, \"is_null_level\": false, \"bayes_factor\": 0.007485473171339852, \"log2_bayes_factor\": -7.061690769932239, \"comparison_vector_value\": 0, \"max_comparison_vector_value\": 2, \"bayes_factor_description\": \"If comparison level is `all other comparisons` then comparison is  133.59 times less likely to be a match\", \"probability_two_random_records_match\": 0.17821299502955085, \"comparison_sort_order\": 6, \"iteration\": 3}, {\"comparison_name\": \"zipcode\", \"sql_condition\": \"\\\"zipcode_l\\\" = \\\"zipcode_r\\\"\", \"label_for_charts\": \"Exact match\", \"m_probability\": 0.9341121982842145, \"u_probability\": 0.9441587509332844, \"m_probability_description\": \"Amongst matching record comparisons, 93.41% of records are in the exact match comparison level\", \"u_probability_description\": \"Amongst non-matching record comparisons, 94.42% of records are in the exact match comparison level\", \"has_tf_adjustments\": false, \"tf_adjustment_column\": null, \"tf_adjustment_weight\": 1.0, \"is_null_level\": false, \"bayes_factor\": 0.9893592548507981, \"log2_bayes_factor\": -0.015433609212449989, \"comparison_vector_value\": 2, \"max_comparison_vector_value\": 2, \"bayes_factor_description\": \"If comparison level is `exact match` then comparison is  1.01 times less likely to be a match\", \"probability_two_random_records_match\": 0.17821299502955085, \"comparison_sort_order\": 7, \"iteration\": 3}, {\"comparison_name\": \"zipcode\", \"sql_condition\": \"jaro_winkler_similarity(\\\"zipcode_l\\\", \\\"zipcode_r\\\") >= 0.8333333333333334\", \"label_for_charts\": \"Jaro_winkler_similarity >= 0.8333333333333334\", \"m_probability\": 0.04865206041656339, \"u_probability\": 0.041136656606251085, \"m_probability_description\": \"Amongst matching record comparisons, 4.87% of records are in the jaro_winkler_similarity >= 0.8333333333333334 comparison level\", \"u_probability_description\": \"Amongst non-matching record comparisons, 4.11% of records are in the jaro_winkler_similarity >= 0.8333333333333334 comparison level\", \"has_tf_adjustments\": false, \"tf_adjustment_column\": null, \"tf_adjustment_weight\": 1.0, \"is_null_level\": false, \"bayes_factor\": 1.1826935981270357, \"log2_bayes_factor\": 0.2420763613208125, \"comparison_vector_value\": 1, \"max_comparison_vector_value\": 2, \"bayes_factor_description\": \"If comparison level is `jaro_winkler_similarity >= 0.8333333333333334` then comparison is 1.18 times more likely to be a match\", \"probability_two_random_records_match\": 0.17821299502955085, \"comparison_sort_order\": 7, \"iteration\": 3}, {\"comparison_name\": \"zipcode\", \"sql_condition\": \"ELSE\", \"label_for_charts\": \"All other comparisons\", \"m_probability\": 0.017235741299222035, \"u_probability\": 0.014704592460464516, \"m_probability_description\": \"Amongst matching record comparisons, 1.72% of records are in the all other comparisons comparison level\", \"u_probability_description\": \"Amongst non-matching record comparisons, 1.47% of records are in the all other comparisons comparison level\", \"has_tf_adjustments\": false, \"tf_adjustment_column\": null, \"tf_adjustment_weight\": 1.0, \"is_null_level\": false, \"bayes_factor\": 1.1721332193029415, \"log2_bayes_factor\": 0.2291365492015412, \"comparison_vector_value\": 0, \"max_comparison_vector_value\": 2, \"bayes_factor_description\": \"If comparison level is `all other comparisons` then comparison is 1.17 times more likely to be a match\", \"probability_two_random_records_match\": 0.17821299502955085, \"comparison_sort_order\": 7, \"iteration\": 3}, {\"comparison_name\": \"first_name_15\", \"sql_condition\": \"\\\"first_name_15_l\\\" = \\\"first_name_15_r\\\"\", \"label_for_charts\": \"Exact match\", \"m_probability\": 0.8417486865791167, \"u_probability\": 0.001979336595976074, \"m_probability_description\": \"Amongst matching record comparisons, 84.17% of records are in the exact match comparison level\", \"u_probability_description\": \"Amongst non-matching record comparisons, 0.20% of records are in the exact match comparison level\", \"has_tf_adjustments\": false, \"tf_adjustment_column\": null, \"tf_adjustment_weight\": 1.0, \"is_null_level\": false, \"bayes_factor\": 425.26808643379, \"log2_bayes_factor\": 8.732228784048953, \"comparison_vector_value\": 2, \"max_comparison_vector_value\": 2, \"bayes_factor_description\": \"If comparison level is `exact match` then comparison is 425.27 times more likely to be a match\", \"probability_two_random_records_match\": 0.17821299502955085, \"comparison_sort_order\": 0, \"iteration\": 4}, {\"comparison_name\": \"first_name_15\", \"sql_condition\": \"jaro_winkler_similarity(\\\"first_name_15_l\\\", \\\"first_name_15_r\\\") >= 0.8333333333333334\", \"label_for_charts\": \"Jaro_winkler_similarity >= 0.8333333333333334\", \"m_probability\": 0.09177612544765323, \"u_probability\": 0.003417014077699233, \"m_probability_description\": \"Amongst matching record comparisons, 9.18% of records are in the jaro_winkler_similarity >= 0.8333333333333334 comparison level\", \"u_probability_description\": \"Amongst non-matching record comparisons, 0.34% of records are in the jaro_winkler_similarity >= 0.8333333333333334 comparison level\", \"has_tf_adjustments\": false, \"tf_adjustment_column\": null, \"tf_adjustment_weight\": 1.0, \"is_null_level\": false, \"bayes_factor\": 26.858573994944898, \"log2_bayes_factor\": 4.747310804528582, \"comparison_vector_value\": 1, \"max_comparison_vector_value\": 2, \"bayes_factor_description\": \"If comparison level is `jaro_winkler_similarity >= 0.8333333333333334` then comparison is 26.86 times more likely to be a match\", \"probability_two_random_records_match\": 0.17821299502955085, \"comparison_sort_order\": 0, \"iteration\": 4}, {\"comparison_name\": \"first_name_15\", \"sql_condition\": \"ELSE\", \"label_for_charts\": \"All other comparisons\", \"m_probability\": 0.06647518797322993, \"u_probability\": 0.9946036493263247, \"m_probability_description\": \"Amongst matching record comparisons, 6.65% of records are in the all other comparisons comparison level\", \"u_probability_description\": \"Amongst non-matching record comparisons, 99.46% of records are in the all other comparisons comparison level\", \"has_tf_adjustments\": false, \"tf_adjustment_column\": null, \"tf_adjustment_weight\": 1.0, \"is_null_level\": false, \"bayes_factor\": 0.06683585769894933, \"log2_bayes_factor\": -3.9032338678413656, \"comparison_vector_value\": 0, \"max_comparison_vector_value\": 2, \"bayes_factor_description\": \"If comparison level is `all other comparisons` then comparison is  14.96 times less likely to be a match\", \"probability_two_random_records_match\": 0.17821299502955085, \"comparison_sort_order\": 0, \"iteration\": 4}, {\"comparison_name\": \"day_of_birth\", \"sql_condition\": \"\\\"day_of_birth_l\\\" = \\\"day_of_birth_r\\\"\", \"label_for_charts\": \"Exact match\", \"m_probability\": 0.950953291644086, \"u_probability\": 0.03243028785148898, \"m_probability_description\": \"Amongst matching record comparisons, 95.10% of records are in the exact match comparison level\", \"u_probability_description\": \"Amongst non-matching record comparisons, 3.24% of records are in the exact match comparison level\", \"has_tf_adjustments\": false, \"tf_adjustment_column\": null, \"tf_adjustment_weight\": 1.0, \"is_null_level\": false, \"bayes_factor\": 29.32299879664573, \"log2_bayes_factor\": 4.873960747056868, \"comparison_vector_value\": 2, \"max_comparison_vector_value\": 2, \"bayes_factor_description\": \"If comparison level is `exact match` then comparison is 29.32 times more likely to be a match\", \"probability_two_random_records_match\": 0.17821299502955085, \"comparison_sort_order\": 1, \"iteration\": 4}, {\"comparison_name\": \"day_of_birth\", \"sql_condition\": \"abs(day_of_birth_l - day_of_birth_r) <= 5\", \"label_for_charts\": \"Inexact match\", \"m_probability\": 0.022357559840453064, \"u_probability\": 0.295173345919013, \"m_probability_description\": \"Amongst matching record comparisons, 2.24% of records are in the inexact match comparison level\", \"u_probability_description\": \"Amongst non-matching record comparisons, 29.52% of records are in the inexact match comparison level\", \"has_tf_adjustments\": false, \"tf_adjustment_column\": null, \"tf_adjustment_weight\": 1.0, \"is_null_level\": false, \"bayes_factor\": 0.07574383036125264, \"log2_bayes_factor\": -3.7227278097003222, \"comparison_vector_value\": 1, \"max_comparison_vector_value\": 2, \"bayes_factor_description\": \"If comparison level is `inexact match` then comparison is  13.20 times less likely to be a match\", \"probability_two_random_records_match\": 0.17821299502955085, \"comparison_sort_order\": 1, \"iteration\": 4}, {\"comparison_name\": \"day_of_birth\", \"sql_condition\": \"ELSE\", \"label_for_charts\": \"All other comparisons\", \"m_probability\": 0.02668914851546093, \"u_probability\": 0.672396366229498, \"m_probability_description\": \"Amongst matching record comparisons, 2.67% of records are in the all other comparisons comparison level\", \"u_probability_description\": \"Amongst non-matching record comparisons, 67.24% of records are in the all other comparisons comparison level\", \"has_tf_adjustments\": false, \"tf_adjustment_column\": null, \"tf_adjustment_weight\": 1.0, \"is_null_level\": false, \"bayes_factor\": 0.03969258291076421, \"log2_bayes_factor\": -4.65498674405815, \"comparison_vector_value\": 0, \"max_comparison_vector_value\": 2, \"bayes_factor_description\": \"If comparison level is `all other comparisons` then comparison is  25.19 times less likely to be a match\", \"probability_two_random_records_match\": 0.17821299502955085, \"comparison_sort_order\": 1, \"iteration\": 4}, {\"comparison_name\": \"month_of_birth\", \"sql_condition\": \"\\\"month_of_birth_l\\\" = \\\"month_of_birth_r\\\"\", \"label_for_charts\": \"Exact match\", \"m_probability\": 0.96122539281685, \"u_probability\": 0.08355145831969693, \"m_probability_description\": \"Amongst matching record comparisons, 96.12% of records are in the exact match comparison level\", \"u_probability_description\": \"Amongst non-matching record comparisons, 8.36% of records are in the exact match comparison level\", \"has_tf_adjustments\": false, \"tf_adjustment_column\": null, \"tf_adjustment_weight\": 1.0, \"is_null_level\": false, \"bayes_factor\": 11.504591447570759, \"log2_bayes_factor\": 3.5241378461999777, \"comparison_vector_value\": 2, \"max_comparison_vector_value\": 2, \"bayes_factor_description\": \"If comparison level is `exact match` then comparison is 11.50 times more likely to be a match\", \"probability_two_random_records_match\": 0.17821299502955085, \"comparison_sort_order\": 2, \"iteration\": 4}, {\"comparison_name\": \"month_of_birth\", \"sql_condition\": \"abs(month_of_birth_l - month_of_birth_r) <= 3\", \"label_for_charts\": \"Inexact match\", \"m_probability\": 0.01906034035507156, \"u_probability\": 0.4143133397869391, \"m_probability_description\": \"Amongst matching record comparisons, 1.91% of records are in the inexact match comparison level\", \"u_probability_description\": \"Amongst non-matching record comparisons, 41.43% of records are in the inexact match comparison level\", \"has_tf_adjustments\": false, \"tf_adjustment_column\": null, \"tf_adjustment_weight\": 1.0, \"is_null_level\": false, \"bayes_factor\": 0.0460046504051097, \"log2_bayes_factor\": -4.442076485620702, \"comparison_vector_value\": 1, \"max_comparison_vector_value\": 2, \"bayes_factor_description\": \"If comparison level is `inexact match` then comparison is  21.74 times less likely to be a match\", \"probability_two_random_records_match\": 0.17821299502955085, \"comparison_sort_order\": 2, \"iteration\": 4}, {\"comparison_name\": \"month_of_birth\", \"sql_condition\": \"ELSE\", \"label_for_charts\": \"All other comparisons\", \"m_probability\": 0.019714266828078326, \"u_probability\": 0.5021352018933639, \"m_probability_description\": \"Amongst matching record comparisons, 1.97% of records are in the all other comparisons comparison level\", \"u_probability_description\": \"Amongst non-matching record comparisons, 50.21% of records are in the all other comparisons comparison level\", \"has_tf_adjustments\": false, \"tf_adjustment_column\": null, \"tf_adjustment_weight\": 1.0, \"is_null_level\": false, \"bayes_factor\": 0.03926087387170468, \"log2_bayes_factor\": -4.670763904990409, \"comparison_vector_value\": 0, \"max_comparison_vector_value\": 2, \"bayes_factor_description\": \"If comparison level is `all other comparisons` then comparison is  25.47 times less likely to be a match\", \"probability_two_random_records_match\": 0.17821299502955085, \"comparison_sort_order\": 2, \"iteration\": 4}, {\"comparison_name\": \"year_of_birth\", \"sql_condition\": \"\\\"year_of_birth_l\\\" = \\\"year_of_birth_r\\\"\", \"label_for_charts\": \"Exact match\", \"m_probability\": 0.9447297872427874, \"u_probability\": 0.011125465216557518, \"m_probability_description\": \"Amongst matching record comparisons, 94.47% of records are in the exact match comparison level\", \"u_probability_description\": \"Amongst non-matching record comparisons, 1.11% of records are in the exact match comparison level\", \"has_tf_adjustments\": false, \"tf_adjustment_column\": null, \"tf_adjustment_weight\": 1.0, \"is_null_level\": false, \"bayes_factor\": 84.91598048743073, \"log2_bayes_factor\": 6.407964177528498, \"comparison_vector_value\": 2, \"max_comparison_vector_value\": 2, \"bayes_factor_description\": \"If comparison level is `exact match` then comparison is 84.92 times more likely to be a match\", \"probability_two_random_records_match\": 0.17821299502955085, \"comparison_sort_order\": 3, \"iteration\": 4}, {\"comparison_name\": \"year_of_birth\", \"sql_condition\": \"abs(year_of_birth_l - year_of_birth_r) <= 5\", \"label_for_charts\": \"Inexact match\", \"m_probability\": 0.014372505400949056, \"u_probability\": 0.11053660239472413, \"m_probability_description\": \"Amongst matching record comparisons, 1.44% of records are in the inexact match comparison level\", \"u_probability_description\": \"Amongst non-matching record comparisons, 11.05% of records are in the inexact match comparison level\", \"has_tf_adjustments\": false, \"tf_adjustment_column\": null, \"tf_adjustment_weight\": 1.0, \"is_null_level\": false, \"bayes_factor\": 0.1300248523075199, \"log2_bayes_factor\": -2.943140695679107, \"comparison_vector_value\": 1, \"max_comparison_vector_value\": 2, \"bayes_factor_description\": \"If comparison level is `inexact match` then comparison is  7.69 times less likely to be a match\", \"probability_two_random_records_match\": 0.17821299502955085, \"comparison_sort_order\": 3, \"iteration\": 4}, {\"comparison_name\": \"year_of_birth\", \"sql_condition\": \"ELSE\", \"label_for_charts\": \"All other comparisons\", \"m_probability\": 0.0408977073562635, \"u_probability\": 0.8783379323887184, \"m_probability_description\": \"Amongst matching record comparisons, 4.09% of records are in the all other comparisons comparison level\", \"u_probability_description\": \"Amongst non-matching record comparisons, 87.83% of records are in the all other comparisons comparison level\", \"has_tf_adjustments\": false, \"tf_adjustment_column\": null, \"tf_adjustment_weight\": 1.0, \"is_null_level\": false, \"bayes_factor\": 0.0465626108678223, \"log2_bayes_factor\": -4.4246842341819965, \"comparison_vector_value\": 0, \"max_comparison_vector_value\": 2, \"bayes_factor_description\": \"If comparison level is `all other comparisons` then comparison is  21.48 times less likely to be a match\", \"probability_two_random_records_match\": 0.17821299502955085, \"comparison_sort_order\": 3, \"iteration\": 4}, {\"comparison_name\": \"street_number\", \"sql_condition\": \"\\\"street_number_l\\\" = \\\"street_number_r\\\"\", \"label_for_charts\": \"Exact match\", \"m_probability\": 0.7722193136450919, \"u_probability\": 0.004643745865751094, \"m_probability_description\": \"Amongst matching record comparisons, 77.22% of records are in the exact match comparison level\", \"u_probability_description\": \"Amongst non-matching record comparisons, 0.46% of records are in the exact match comparison level\", \"has_tf_adjustments\": false, \"tf_adjustment_column\": null, \"tf_adjustment_weight\": 1.0, \"is_null_level\": false, \"bayes_factor\": 166.2923286436543, \"log2_bayes_factor\": 7.37757780588618, \"comparison_vector_value\": 2, \"max_comparison_vector_value\": 2, \"bayes_factor_description\": \"If comparison level is `exact match` then comparison is 166.29 times more likely to be a match\", \"probability_two_random_records_match\": 0.17821299502955085, \"comparison_sort_order\": 4, \"iteration\": 4}, {\"comparison_name\": \"street_number\", \"sql_condition\": \"jaro_winkler_similarity(\\\"street_number_l\\\", \\\"street_number_r\\\") >= 0.8333333333333334\", \"label_for_charts\": \"Jaro_winkler_similarity >= 0.8333333333333334\", \"m_probability\": 0.0645153196822481, \"u_probability\": 0.012708549889228378, \"m_probability_description\": \"Amongst matching record comparisons, 6.45% of records are in the jaro_winkler_similarity >= 0.8333333333333334 comparison level\", \"u_probability_description\": \"Amongst non-matching record comparisons, 1.27% of records are in the jaro_winkler_similarity >= 0.8333333333333334 comparison level\", \"has_tf_adjustments\": false, \"tf_adjustment_column\": null, \"tf_adjustment_weight\": 1.0, \"is_null_level\": false, \"bayes_factor\": 5.076528812853035, \"log2_bayes_factor\": 2.3438423599480256, \"comparison_vector_value\": 1, \"max_comparison_vector_value\": 2, \"bayes_factor_description\": \"If comparison level is `jaro_winkler_similarity >= 0.8333333333333334` then comparison is 5.08 times more likely to be a match\", \"probability_two_random_records_match\": 0.17821299502955085, \"comparison_sort_order\": 4, \"iteration\": 4}, {\"comparison_name\": \"street_number\", \"sql_condition\": \"ELSE\", \"label_for_charts\": \"All other comparisons\", \"m_probability\": 0.16326536667265992, \"u_probability\": 0.9826477042450206, \"m_probability_description\": \"Amongst matching record comparisons, 16.33% of records are in the all other comparisons comparison level\", \"u_probability_description\": \"Amongst non-matching record comparisons, 98.26% of records are in the all other comparisons comparison level\", \"has_tf_adjustments\": false, \"tf_adjustment_column\": null, \"tf_adjustment_weight\": 1.0, \"is_null_level\": false, \"bayes_factor\": 0.16614842325215481, \"log2_bayes_factor\": -2.5894554929623874, \"comparison_vector_value\": 0, \"max_comparison_vector_value\": 2, \"bayes_factor_description\": \"If comparison level is `all other comparisons` then comparison is  6.02 times less likely to be a match\", \"probability_two_random_records_match\": 0.17821299502955085, \"comparison_sort_order\": 4, \"iteration\": 4}, {\"comparison_name\": \"street_name\", \"sql_condition\": \"\\\"street_name_l\\\" = \\\"street_name_r\\\"\", \"label_for_charts\": \"Exact match\", \"m_probability\": 0.7585162247022692, \"u_probability\": 0.0036909475444507293, \"m_probability_description\": \"Amongst matching record comparisons, 75.85% of records are in the exact match comparison level\", \"u_probability_description\": \"Amongst non-matching record comparisons, 0.37% of records are in the exact match comparison level\", \"has_tf_adjustments\": false, \"tf_adjustment_column\": null, \"tf_adjustment_weight\": 1.0, \"is_null_level\": false, \"bayes_factor\": 205.50718089794697, \"log2_bayes_factor\": 7.683044995676119, \"comparison_vector_value\": 2, \"max_comparison_vector_value\": 2, \"bayes_factor_description\": \"If comparison level is `exact match` then comparison is 205.51 times more likely to be a match\", \"probability_two_random_records_match\": 0.17821299502955085, \"comparison_sort_order\": 5, \"iteration\": 4}, {\"comparison_name\": \"street_name\", \"sql_condition\": \"jaro_winkler_similarity(\\\"street_name_l\\\", \\\"street_name_r\\\") >= 0.8333333333333334\", \"label_for_charts\": \"Jaro_winkler_similarity >= 0.8333333333333334\", \"m_probability\": 0.10637616313976941, \"u_probability\": 0.0018843912156014068, \"m_probability_description\": \"Amongst matching record comparisons, 10.64% of records are in the jaro_winkler_similarity >= 0.8333333333333334 comparison level\", \"u_probability_description\": \"Amongst non-matching record comparisons, 0.19% of records are in the jaro_winkler_similarity >= 0.8333333333333334 comparison level\", \"has_tf_adjustments\": false, \"tf_adjustment_column\": null, \"tf_adjustment_weight\": 1.0, \"is_null_level\": false, \"bayes_factor\": 56.45120941928148, \"log2_bayes_factor\": 5.818932584734335, \"comparison_vector_value\": 1, \"max_comparison_vector_value\": 2, \"bayes_factor_description\": \"If comparison level is `jaro_winkler_similarity >= 0.8333333333333334` then comparison is 56.45 times more likely to be a match\", \"probability_two_random_records_match\": 0.17821299502955085, \"comparison_sort_order\": 5, \"iteration\": 4}, {\"comparison_name\": \"street_name\", \"sql_condition\": \"ELSE\", \"label_for_charts\": \"All other comparisons\", \"m_probability\": 0.13510761215796144, \"u_probability\": 0.9944246612399479, \"m_probability_description\": \"Amongst matching record comparisons, 13.51% of records are in the all other comparisons comparison level\", \"u_probability_description\": \"Amongst non-matching record comparisons, 99.44% of records are in the all other comparisons comparison level\", \"has_tf_adjustments\": false, \"tf_adjustment_column\": null, \"tf_adjustment_weight\": 1.0, \"is_null_level\": false, \"bayes_factor\": 0.13586510615042047, \"log2_bayes_factor\": -2.8797531144824573, \"comparison_vector_value\": 0, \"max_comparison_vector_value\": 2, \"bayes_factor_description\": \"If comparison level is `all other comparisons` then comparison is  7.36 times less likely to be a match\", \"probability_two_random_records_match\": 0.17821299502955085, \"comparison_sort_order\": 5, \"iteration\": 4}, {\"comparison_name\": \"unit_number\", \"sql_condition\": \"\\\"unit_number_l\\\" = \\\"unit_number_r\\\"\", \"label_for_charts\": \"Exact match\", \"m_probability\": 0.9098269822138876, \"u_probability\": 0.005427064313248123, \"m_probability_description\": \"Amongst matching record comparisons, 90.98% of records are in the exact match comparison level\", \"u_probability_description\": \"Amongst non-matching record comparisons, 0.54% of records are in the exact match comparison level\", \"has_tf_adjustments\": false, \"tf_adjustment_column\": null, \"tf_adjustment_weight\": 1.0, \"is_null_level\": false, \"bayes_factor\": 167.64625029279446, \"log2_bayes_factor\": 7.389276404821195, \"comparison_vector_value\": 2, \"max_comparison_vector_value\": 2, \"bayes_factor_description\": \"If comparison level is `exact match` then comparison is 167.65 times more likely to be a match\", \"probability_two_random_records_match\": 0.17821299502955085, \"comparison_sort_order\": 6, \"iteration\": 4}, {\"comparison_name\": \"unit_number\", \"sql_condition\": \"jaro_winkler_similarity(\\\"unit_number_l\\\", \\\"unit_number_r\\\") >= 0.8333333333333334\", \"label_for_charts\": \"Jaro_winkler_similarity >= 0.8333333333333334\", \"m_probability\": 0.08335858809770938, \"u_probability\": 0.08399269628727937, \"m_probability_description\": \"Amongst matching record comparisons, 8.34% of records are in the jaro_winkler_similarity >= 0.8333333333333334 comparison level\", \"u_probability_description\": \"Amongst non-matching record comparisons, 8.40% of records are in the jaro_winkler_similarity >= 0.8333333333333334 comparison level\", \"has_tf_adjustments\": false, \"tf_adjustment_column\": null, \"tf_adjustment_weight\": 1.0, \"is_null_level\": false, \"bayes_factor\": 0.9924504365546123, \"log2_bayes_factor\": -0.01093303970716814, \"comparison_vector_value\": 1, \"max_comparison_vector_value\": 2, \"bayes_factor_description\": \"If comparison level is `jaro_winkler_similarity >= 0.8333333333333334` then comparison is  1.01 times less likely to be a match\", \"probability_two_random_records_match\": 0.17821299502955085, \"comparison_sort_order\": 6, \"iteration\": 4}, {\"comparison_name\": \"unit_number\", \"sql_condition\": \"ELSE\", \"label_for_charts\": \"All other comparisons\", \"m_probability\": 0.006814429688403109, \"u_probability\": 0.9105802393994725, \"m_probability_description\": \"Amongst matching record comparisons, 0.68% of records are in the all other comparisons comparison level\", \"u_probability_description\": \"Amongst non-matching record comparisons, 91.06% of records are in the all other comparisons comparison level\", \"has_tf_adjustments\": false, \"tf_adjustment_column\": null, \"tf_adjustment_weight\": 1.0, \"is_null_level\": false, \"bayes_factor\": 0.007483612529190425, \"log2_bayes_factor\": -7.062049420990744, \"comparison_vector_value\": 0, \"max_comparison_vector_value\": 2, \"bayes_factor_description\": \"If comparison level is `all other comparisons` then comparison is  133.63 times less likely to be a match\", \"probability_two_random_records_match\": 0.17821299502955085, \"comparison_sort_order\": 6, \"iteration\": 4}, {\"comparison_name\": \"zipcode\", \"sql_condition\": \"\\\"zipcode_l\\\" = \\\"zipcode_r\\\"\", \"label_for_charts\": \"Exact match\", \"m_probability\": 0.9341119050375499, \"u_probability\": 0.9441587509332844, \"m_probability_description\": \"Amongst matching record comparisons, 93.41% of records are in the exact match comparison level\", \"u_probability_description\": \"Amongst non-matching record comparisons, 94.42% of records are in the exact match comparison level\", \"has_tf_adjustments\": false, \"tf_adjustment_column\": null, \"tf_adjustment_weight\": 1.0, \"is_null_level\": false, \"bayes_factor\": 0.9893589442603764, \"log2_bayes_factor\": -0.015434062119045135, \"comparison_vector_value\": 2, \"max_comparison_vector_value\": 2, \"bayes_factor_description\": \"If comparison level is `exact match` then comparison is  1.01 times less likely to be a match\", \"probability_two_random_records_match\": 0.17821299502955085, \"comparison_sort_order\": 7, \"iteration\": 4}, {\"comparison_name\": \"zipcode\", \"sql_condition\": \"jaro_winkler_similarity(\\\"zipcode_l\\\", \\\"zipcode_r\\\") >= 0.8333333333333334\", \"label_for_charts\": \"Jaro_winkler_similarity >= 0.8333333333333334\", \"m_probability\": 0.04865041073833396, \"u_probability\": 0.041136656606251085, \"m_probability_description\": \"Amongst matching record comparisons, 4.87% of records are in the jaro_winkler_similarity >= 0.8333333333333334 comparison level\", \"u_probability_description\": \"Amongst non-matching record comparisons, 4.11% of records are in the jaro_winkler_similarity >= 0.8333333333333334 comparison level\", \"has_tf_adjustments\": false, \"tf_adjustment_column\": null, \"tf_adjustment_weight\": 1.0, \"is_null_level\": false, \"bayes_factor\": 1.1826534957374513, \"log2_bayes_factor\": 0.24202744205755777, \"comparison_vector_value\": 1, \"max_comparison_vector_value\": 2, \"bayes_factor_description\": \"If comparison level is `jaro_winkler_similarity >= 0.8333333333333334` then comparison is 1.18 times more likely to be a match\", \"probability_two_random_records_match\": 0.17821299502955085, \"comparison_sort_order\": 7, \"iteration\": 4}, {\"comparison_name\": \"zipcode\", \"sql_condition\": \"ELSE\", \"label_for_charts\": \"All other comparisons\", \"m_probability\": 0.017237684224116118, \"u_probability\": 0.014704592460464516, \"m_probability_description\": \"Amongst matching record comparisons, 1.72% of records are in the all other comparisons comparison level\", \"u_probability_description\": \"Amongst non-matching record comparisons, 1.47% of records are in the all other comparisons comparison level\", \"has_tf_adjustments\": false, \"tf_adjustment_column\": null, \"tf_adjustment_weight\": 1.0, \"is_null_level\": false, \"bayes_factor\": 1.1722653497852589, \"log2_bayes_factor\": 0.2292991700069835, \"comparison_vector_value\": 0, \"max_comparison_vector_value\": 2, \"bayes_factor_description\": \"If comparison level is `all other comparisons` then comparison is 1.17 times more likely to be a match\", \"probability_two_random_records_match\": 0.17821299502955085, \"comparison_sort_order\": 7, \"iteration\": 4}, {\"comparison_name\": \"first_name_15\", \"sql_condition\": \"\\\"first_name_15_l\\\" = \\\"first_name_15_r\\\"\", \"label_for_charts\": \"Exact match\", \"m_probability\": 0.8416861919385656, \"u_probability\": 0.001979336595976074, \"m_probability_description\": \"Amongst matching record comparisons, 84.17% of records are in the exact match comparison level\", \"u_probability_description\": \"Amongst non-matching record comparisons, 0.20% of records are in the exact match comparison level\", \"has_tf_adjustments\": false, \"tf_adjustment_column\": null, \"tf_adjustment_weight\": 1.0, \"is_null_level\": false, \"bayes_factor\": 425.2365129052259, \"log2_bayes_factor\": 8.732121668877232, \"comparison_vector_value\": 2, \"max_comparison_vector_value\": 2, \"bayes_factor_description\": \"If comparison level is `exact match` then comparison is 425.24 times more likely to be a match\", \"probability_two_random_records_match\": 0.17821299502955085, \"comparison_sort_order\": 0, \"iteration\": 5}, {\"comparison_name\": \"first_name_15\", \"sql_condition\": \"jaro_winkler_similarity(\\\"first_name_15_l\\\", \\\"first_name_15_r\\\") >= 0.8333333333333334\", \"label_for_charts\": \"Jaro_winkler_similarity >= 0.8333333333333334\", \"m_probability\": 0.09176978543873936, \"u_probability\": 0.003417014077699233, \"m_probability_description\": \"Amongst matching record comparisons, 9.18% of records are in the jaro_winkler_similarity >= 0.8333333333333334 comparison level\", \"u_probability_description\": \"Amongst non-matching record comparisons, 0.34% of records are in the jaro_winkler_similarity >= 0.8333333333333334 comparison level\", \"has_tf_adjustments\": false, \"tf_adjustment_column\": null, \"tf_adjustment_weight\": 1.0, \"is_null_level\": false, \"bayes_factor\": 26.85671857124171, \"log2_bayes_factor\": 4.7472111379178825, \"comparison_vector_value\": 1, \"max_comparison_vector_value\": 2, \"bayes_factor_description\": \"If comparison level is `jaro_winkler_similarity >= 0.8333333333333334` then comparison is 26.86 times more likely to be a match\", \"probability_two_random_records_match\": 0.17821299502955085, \"comparison_sort_order\": 0, \"iteration\": 5}, {\"comparison_name\": \"first_name_15\", \"sql_condition\": \"ELSE\", \"label_for_charts\": \"All other comparisons\", \"m_probability\": 0.06654402262269513, \"u_probability\": 0.9946036493263247, \"m_probability_description\": \"Amongst matching record comparisons, 6.65% of records are in the all other comparisons comparison level\", \"u_probability_description\": \"Amongst non-matching record comparisons, 99.46% of records are in the all other comparisons comparison level\", \"has_tf_adjustments\": false, \"tf_adjustment_column\": null, \"tf_adjustment_weight\": 1.0, \"is_null_level\": false, \"bayes_factor\": 0.06690506581970357, \"log2_bayes_factor\": -3.901740738903911, \"comparison_vector_value\": 0, \"max_comparison_vector_value\": 2, \"bayes_factor_description\": \"If comparison level is `all other comparisons` then comparison is  14.95 times less likely to be a match\", \"probability_two_random_records_match\": 0.17821299502955085, \"comparison_sort_order\": 0, \"iteration\": 5}, {\"comparison_name\": \"day_of_birth\", \"sql_condition\": \"\\\"day_of_birth_l\\\" = \\\"day_of_birth_r\\\"\", \"label_for_charts\": \"Exact match\", \"m_probability\": 0.9508619416324665, \"u_probability\": 0.03243028785148898, \"m_probability_description\": \"Amongst matching record comparisons, 95.09% of records are in the exact match comparison level\", \"u_probability_description\": \"Amongst non-matching record comparisons, 3.24% of records are in the exact match comparison level\", \"has_tf_adjustments\": false, \"tf_adjustment_column\": null, \"tf_adjustment_weight\": 1.0, \"is_null_level\": false, \"bayes_factor\": 29.32018198502698, \"log2_bayes_factor\": 4.873822152932114, \"comparison_vector_value\": 2, \"max_comparison_vector_value\": 2, \"bayes_factor_description\": \"If comparison level is `exact match` then comparison is 29.32 times more likely to be a match\", \"probability_two_random_records_match\": 0.17821299502955085, \"comparison_sort_order\": 1, \"iteration\": 5}, {\"comparison_name\": \"day_of_birth\", \"sql_condition\": \"abs(day_of_birth_l - day_of_birth_r) <= 5\", \"label_for_charts\": \"Inexact match\", \"m_probability\": 0.02239230899886777, \"u_probability\": 0.295173345919013, \"m_probability_description\": \"Amongst matching record comparisons, 2.24% of records are in the inexact match comparison level\", \"u_probability_description\": \"Amongst non-matching record comparisons, 29.52% of records are in the inexact match comparison level\", \"has_tf_adjustments\": false, \"tf_adjustment_column\": null, \"tf_adjustment_weight\": 1.0, \"is_null_level\": false, \"bayes_factor\": 0.075861554942063, \"log2_bayes_factor\": -3.720487246771465, \"comparison_vector_value\": 1, \"max_comparison_vector_value\": 2, \"bayes_factor_description\": \"If comparison level is `inexact match` then comparison is  13.18 times less likely to be a match\", \"probability_two_random_records_match\": 0.17821299502955085, \"comparison_sort_order\": 1, \"iteration\": 5}, {\"comparison_name\": \"day_of_birth\", \"sql_condition\": \"ELSE\", \"label_for_charts\": \"All other comparisons\", \"m_probability\": 0.026745749368665722, \"u_probability\": 0.672396366229498, \"m_probability_description\": \"Amongst matching record comparisons, 2.67% of records are in the all other comparisons comparison level\", \"u_probability_description\": \"Amongst non-matching record comparisons, 67.24% of records are in the all other comparisons comparison level\", \"has_tf_adjustments\": false, \"tf_adjustment_column\": null, \"tf_adjustment_weight\": 1.0, \"is_null_level\": false, \"bayes_factor\": 0.03977676072023422, \"log2_bayes_factor\": -4.651930396839298, \"comparison_vector_value\": 0, \"max_comparison_vector_value\": 2, \"bayes_factor_description\": \"If comparison level is `all other comparisons` then comparison is  25.14 times less likely to be a match\", \"probability_two_random_records_match\": 0.17821299502955085, \"comparison_sort_order\": 1, \"iteration\": 5}, {\"comparison_name\": \"month_of_birth\", \"sql_condition\": \"\\\"month_of_birth_l\\\" = \\\"month_of_birth_r\\\"\", \"label_for_charts\": \"Exact match\", \"m_probability\": 0.961137549150911, \"u_probability\": 0.08355145831969693, \"m_probability_description\": \"Amongst matching record comparisons, 96.11% of records are in the exact match comparison level\", \"u_probability_description\": \"Amongst non-matching record comparisons, 8.36% of records are in the exact match comparison level\", \"has_tf_adjustments\": false, \"tf_adjustment_column\": null, \"tf_adjustment_weight\": 1.0, \"is_null_level\": false, \"bayes_factor\": 11.503540075545594, \"log2_bayes_factor\": 3.5240059963619004, \"comparison_vector_value\": 2, \"max_comparison_vector_value\": 2, \"bayes_factor_description\": \"If comparison level is `exact match` then comparison is 11.50 times more likely to be a match\", \"probability_two_random_records_match\": 0.17821299502955085, \"comparison_sort_order\": 2, \"iteration\": 5}, {\"comparison_name\": \"month_of_birth\", \"sql_condition\": \"abs(month_of_birth_l - month_of_birth_r) <= 3\", \"label_for_charts\": \"Inexact match\", \"m_probability\": 0.019108376630110436, \"u_probability\": 0.4143133397869391, \"m_probability_description\": \"Amongst matching record comparisons, 1.91% of records are in the inexact match comparison level\", \"u_probability_description\": \"Amongst non-matching record comparisons, 41.43% of records are in the inexact match comparison level\", \"has_tf_adjustments\": false, \"tf_adjustment_column\": null, \"tf_adjustment_weight\": 1.0, \"is_null_level\": false, \"bayes_factor\": 0.0461205923032479, \"log2_bayes_factor\": -4.438445148869355, \"comparison_vector_value\": 1, \"max_comparison_vector_value\": 2, \"bayes_factor_description\": \"If comparison level is `inexact match` then comparison is  21.68 times less likely to be a match\", \"probability_two_random_records_match\": 0.17821299502955085, \"comparison_sort_order\": 2, \"iteration\": 5}, {\"comparison_name\": \"month_of_birth\", \"sql_condition\": \"ELSE\", \"label_for_charts\": \"All other comparisons\", \"m_probability\": 0.01975407421897856, \"u_probability\": 0.5021352018933639, \"m_probability_description\": \"Amongst matching record comparisons, 1.98% of records are in the all other comparisons comparison level\", \"u_probability_description\": \"Amongst non-matching record comparisons, 50.21% of records are in the all other comparisons comparison level\", \"has_tf_adjustments\": false, \"tf_adjustment_column\": null, \"tf_adjustment_weight\": 1.0, \"is_null_level\": false, \"bayes_factor\": 0.039340150111948614, \"log2_bayes_factor\": -4.667853727192581, \"comparison_vector_value\": 0, \"max_comparison_vector_value\": 2, \"bayes_factor_description\": \"If comparison level is `all other comparisons` then comparison is  25.42 times less likely to be a match\", \"probability_two_random_records_match\": 0.17821299502955085, \"comparison_sort_order\": 2, \"iteration\": 5}, {\"comparison_name\": \"year_of_birth\", \"sql_condition\": \"\\\"year_of_birth_l\\\" = \\\"year_of_birth_r\\\"\", \"label_for_charts\": \"Exact match\", \"m_probability\": 0.9446382827893749, \"u_probability\": 0.011125465216557518, \"m_probability_description\": \"Amongst matching record comparisons, 94.46% of records are in the exact match comparison level\", \"u_probability_description\": \"Amongst non-matching record comparisons, 1.11% of records are in the exact match comparison level\", \"has_tf_adjustments\": false, \"tf_adjustment_column\": null, \"tf_adjustment_weight\": 1.0, \"is_null_level\": false, \"bayes_factor\": 84.90775571196009, \"log2_bayes_factor\": 6.407824434485991, \"comparison_vector_value\": 2, \"max_comparison_vector_value\": 2, \"bayes_factor_description\": \"If comparison level is `exact match` then comparison is 84.91 times more likely to be a match\", \"probability_two_random_records_match\": 0.17821299502955085, \"comparison_sort_order\": 3, \"iteration\": 5}, {\"comparison_name\": \"year_of_birth\", \"sql_condition\": \"abs(year_of_birth_l - year_of_birth_r) <= 5\", \"label_for_charts\": \"Inexact match\", \"m_probability\": 0.014410500764415768, \"u_probability\": 0.11053660239472413, \"m_probability_description\": \"Amongst matching record comparisons, 1.44% of records are in the inexact match comparison level\", \"u_probability_description\": \"Amongst non-matching record comparisons, 11.05% of records are in the inexact match comparison level\", \"has_tf_adjustments\": false, \"tf_adjustment_column\": null, \"tf_adjustment_weight\": 1.0, \"is_null_level\": false, \"bayes_factor\": 0.1303685878905174, \"log2_bayes_factor\": -2.9393317985836966, \"comparison_vector_value\": 1, \"max_comparison_vector_value\": 2, \"bayes_factor_description\": \"If comparison level is `inexact match` then comparison is  7.67 times less likely to be a match\", \"probability_two_random_records_match\": 0.17821299502955085, \"comparison_sort_order\": 3, \"iteration\": 5}, {\"comparison_name\": \"year_of_birth\", \"sql_condition\": \"ELSE\", \"label_for_charts\": \"All other comparisons\", \"m_probability\": 0.04095121644620923, \"u_probability\": 0.8783379323887184, \"m_probability_description\": \"Amongst matching record comparisons, 4.10% of records are in the all other comparisons comparison level\", \"u_probability_description\": \"Amongst non-matching record comparisons, 87.83% of records are in the all other comparisons comparison level\", \"has_tf_adjustments\": false, \"tf_adjustment_column\": null, \"tf_adjustment_weight\": 1.0, \"is_null_level\": false, \"bayes_factor\": 0.04662353171385726, \"log2_bayes_factor\": -4.422797897597013, \"comparison_vector_value\": 0, \"max_comparison_vector_value\": 2, \"bayes_factor_description\": \"If comparison level is `all other comparisons` then comparison is  21.45 times less likely to be a match\", \"probability_two_random_records_match\": 0.17821299502955085, \"comparison_sort_order\": 3, \"iteration\": 5}, {\"comparison_name\": \"street_number\", \"sql_condition\": \"\\\"street_number_l\\\" = \\\"street_number_r\\\"\", \"label_for_charts\": \"Exact match\", \"m_probability\": 0.7722287924468113, \"u_probability\": 0.004643745865751094, \"m_probability_description\": \"Amongst matching record comparisons, 77.22% of records are in the exact match comparison level\", \"u_probability_description\": \"Amongst non-matching record comparisons, 0.46% of records are in the exact match comparison level\", \"has_tf_adjustments\": false, \"tf_adjustment_column\": null, \"tf_adjustment_weight\": 1.0, \"is_null_level\": false, \"bayes_factor\": 166.29436984099658, \"log2_bayes_factor\": 7.377595514503492, \"comparison_vector_value\": 2, \"max_comparison_vector_value\": 2, \"bayes_factor_description\": \"If comparison level is `exact match` then comparison is 166.29 times more likely to be a match\", \"probability_two_random_records_match\": 0.17821299502955085, \"comparison_sort_order\": 4, \"iteration\": 5}, {\"comparison_name\": \"street_number\", \"sql_condition\": \"jaro_winkler_similarity(\\\"street_number_l\\\", \\\"street_number_r\\\") >= 0.8333333333333334\", \"label_for_charts\": \"Jaro_winkler_similarity >= 0.8333333333333334\", \"m_probability\": 0.06451392829950799, \"u_probability\": 0.012708549889228378, \"m_probability_description\": \"Amongst matching record comparisons, 6.45% of records are in the jaro_winkler_similarity >= 0.8333333333333334 comparison level\", \"u_probability_description\": \"Amongst non-matching record comparisons, 1.27% of records are in the jaro_winkler_similarity >= 0.8333333333333334 comparison level\", \"has_tf_adjustments\": false, \"tf_adjustment_column\": null, \"tf_adjustment_weight\": 1.0, \"is_null_level\": false, \"bayes_factor\": 5.076419328863732, \"log2_bayes_factor\": 2.3438112454370033, \"comparison_vector_value\": 1, \"max_comparison_vector_value\": 2, \"bayes_factor_description\": \"If comparison level is `jaro_winkler_similarity >= 0.8333333333333334` then comparison is 5.08 times more likely to be a match\", \"probability_two_random_records_match\": 0.17821299502955085, \"comparison_sort_order\": 4, \"iteration\": 5}, {\"comparison_name\": \"street_number\", \"sql_condition\": \"ELSE\", \"label_for_charts\": \"All other comparisons\", \"m_probability\": 0.16325727925368072, \"u_probability\": 0.9826477042450206, \"m_probability_description\": \"Amongst matching record comparisons, 16.33% of records are in the all other comparisons comparison level\", \"u_probability_description\": \"Amongst non-matching record comparisons, 98.26% of records are in the all other comparisons comparison level\", \"has_tf_adjustments\": false, \"tf_adjustment_column\": null, \"tf_adjustment_weight\": 1.0, \"is_null_level\": false, \"bayes_factor\": 0.16614019301974878, \"log2_bayes_factor\": -2.5895269592413905, \"comparison_vector_value\": 0, \"max_comparison_vector_value\": 2, \"bayes_factor_description\": \"If comparison level is `all other comparisons` then comparison is  6.02 times less likely to be a match\", \"probability_two_random_records_match\": 0.17821299502955085, \"comparison_sort_order\": 4, \"iteration\": 5}, {\"comparison_name\": \"street_name\", \"sql_condition\": \"\\\"street_name_l\\\" = \\\"street_name_r\\\"\", \"label_for_charts\": \"Exact match\", \"m_probability\": 0.7585274784972191, \"u_probability\": 0.0036909475444507293, \"m_probability_description\": \"Amongst matching record comparisons, 75.85% of records are in the exact match comparison level\", \"u_probability_description\": \"Amongst non-matching record comparisons, 0.37% of records are in the exact match comparison level\", \"has_tf_adjustments\": false, \"tf_adjustment_column\": null, \"tf_adjustment_weight\": 1.0, \"is_null_level\": false, \"bayes_factor\": 205.51022992392592, \"log2_bayes_factor\": 7.683066400193512, \"comparison_vector_value\": 2, \"max_comparison_vector_value\": 2, \"bayes_factor_description\": \"If comparison level is `exact match` then comparison is 205.51 times more likely to be a match\", \"probability_two_random_records_match\": 0.17821299502955085, \"comparison_sort_order\": 5, \"iteration\": 5}, {\"comparison_name\": \"street_name\", \"sql_condition\": \"jaro_winkler_similarity(\\\"street_name_l\\\", \\\"street_name_r\\\") >= 0.8333333333333334\", \"label_for_charts\": \"Jaro_winkler_similarity >= 0.8333333333333334\", \"m_probability\": 0.1063722328285981, \"u_probability\": 0.0018843912156014068, \"m_probability_description\": \"Amongst matching record comparisons, 10.64% of records are in the jaro_winkler_similarity >= 0.8333333333333334 comparison level\", \"u_probability_description\": \"Amongst non-matching record comparisons, 0.19% of records are in the jaro_winkler_similarity >= 0.8333333333333334 comparison level\", \"has_tf_adjustments\": false, \"tf_adjustment_column\": null, \"tf_adjustment_weight\": 1.0, \"is_null_level\": false, \"bayes_factor\": 56.44912369995804, \"log2_bayes_factor\": 5.81887928007452, \"comparison_vector_value\": 1, \"max_comparison_vector_value\": 2, \"bayes_factor_description\": \"If comparison level is `jaro_winkler_similarity >= 0.8333333333333334` then comparison is 56.45 times more likely to be a match\", \"probability_two_random_records_match\": 0.17821299502955085, \"comparison_sort_order\": 5, \"iteration\": 5}, {\"comparison_name\": \"street_name\", \"sql_condition\": \"ELSE\", \"label_for_charts\": \"All other comparisons\", \"m_probability\": 0.13510028867418275, \"u_probability\": 0.9944246612399479, \"m_probability_description\": \"Amongst matching record comparisons, 13.51% of records are in the all other comparisons comparison level\", \"u_probability_description\": \"Amongst non-matching record comparisons, 99.44% of records are in the all other comparisons comparison level\", \"has_tf_adjustments\": false, \"tf_adjustment_column\": null, \"tf_adjustment_weight\": 1.0, \"is_null_level\": false, \"bayes_factor\": 0.13585774160681638, \"log2_bayes_factor\": -2.8798313176267736, \"comparison_vector_value\": 0, \"max_comparison_vector_value\": 2, \"bayes_factor_description\": \"If comparison level is `all other comparisons` then comparison is  7.36 times less likely to be a match\", \"probability_two_random_records_match\": 0.17821299502955085, \"comparison_sort_order\": 5, \"iteration\": 5}, {\"comparison_name\": \"unit_number\", \"sql_condition\": \"\\\"unit_number_l\\\" = \\\"unit_number_r\\\"\", \"label_for_charts\": \"Exact match\", \"m_probability\": 0.9098325483020399, \"u_probability\": 0.005427064313248123, \"m_probability_description\": \"Amongst matching record comparisons, 90.98% of records are in the exact match comparison level\", \"u_probability_description\": \"Amongst non-matching record comparisons, 0.54% of records are in the exact match comparison level\", \"has_tf_adjustments\": false, \"tf_adjustment_column\": null, \"tf_adjustment_weight\": 1.0, \"is_null_level\": false, \"bayes_factor\": 167.6472759095609, \"log2_bayes_factor\": 7.389285230832479, \"comparison_vector_value\": 2, \"max_comparison_vector_value\": 2, \"bayes_factor_description\": \"If comparison level is `exact match` then comparison is 167.65 times more likely to be a match\", \"probability_two_random_records_match\": 0.17821299502955085, \"comparison_sort_order\": 6, \"iteration\": 5}, {\"comparison_name\": \"unit_number\", \"sql_condition\": \"jaro_winkler_similarity(\\\"unit_number_l\\\", \\\"unit_number_r\\\") >= 0.8333333333333334\", \"label_for_charts\": \"Jaro_winkler_similarity >= 0.8333333333333334\", \"m_probability\": 0.08335353582456227, \"u_probability\": 0.08399269628727937, \"m_probability_description\": \"Amongst matching record comparisons, 8.34% of records are in the jaro_winkler_similarity >= 0.8333333333333334 comparison level\", \"u_probability_description\": \"Amongst non-matching record comparisons, 8.40% of records are in the jaro_winkler_similarity >= 0.8333333333333334 comparison level\", \"has_tf_adjustments\": false, \"tf_adjustment_column\": null, \"tf_adjustment_weight\": 1.0, \"is_null_level\": false, \"bayes_factor\": 0.9923902852156218, \"log2_bayes_factor\": -0.011020482530704742, \"comparison_vector_value\": 1, \"max_comparison_vector_value\": 2, \"bayes_factor_description\": \"If comparison level is `jaro_winkler_similarity >= 0.8333333333333334` then comparison is  1.01 times less likely to be a match\", \"probability_two_random_records_match\": 0.17821299502955085, \"comparison_sort_order\": 6, \"iteration\": 5}, {\"comparison_name\": \"unit_number\", \"sql_condition\": \"ELSE\", \"label_for_charts\": \"All other comparisons\", \"m_probability\": 0.006813915873397868, \"u_probability\": 0.9105802393994725, \"m_probability_description\": \"Amongst matching record comparisons, 0.68% of records are in the all other comparisons comparison level\", \"u_probability_description\": \"Amongst non-matching record comparisons, 91.06% of records are in the all other comparisons comparison level\", \"has_tf_adjustments\": false, \"tf_adjustment_column\": null, \"tf_adjustment_weight\": 1.0, \"is_null_level\": false, \"bayes_factor\": 0.007483048257110921, \"log2_bayes_factor\": -7.06215820578153, \"comparison_vector_value\": 0, \"max_comparison_vector_value\": 2, \"bayes_factor_description\": \"If comparison level is `all other comparisons` then comparison is  133.64 times less likely to be a match\", \"probability_two_random_records_match\": 0.17821299502955085, \"comparison_sort_order\": 6, \"iteration\": 5}, {\"comparison_name\": \"zipcode\", \"sql_condition\": \"\\\"zipcode_l\\\" = \\\"zipcode_r\\\"\", \"label_for_charts\": \"Exact match\", \"m_probability\": 0.9341117175029067, \"u_probability\": 0.9441587509332844, \"m_probability_description\": \"Amongst matching record comparisons, 93.41% of records are in the exact match comparison level\", \"u_probability_description\": \"Amongst non-matching record comparisons, 94.42% of records are in the exact match comparison level\", \"has_tf_adjustments\": false, \"tf_adjustment_column\": null, \"tf_adjustment_weight\": 1.0, \"is_null_level\": false, \"bayes_factor\": 0.9893587456341993, \"log2_bayes_factor\": -0.015434351758140293, \"comparison_vector_value\": 2, \"max_comparison_vector_value\": 2, \"bayes_factor_description\": \"If comparison level is `exact match` then comparison is  1.01 times less likely to be a match\", \"probability_two_random_records_match\": 0.17821299502955085, \"comparison_sort_order\": 7, \"iteration\": 5}, {\"comparison_name\": \"zipcode\", \"sql_condition\": \"jaro_winkler_similarity(\\\"zipcode_l\\\", \\\"zipcode_r\\\") >= 0.8333333333333334\", \"label_for_charts\": \"Jaro_winkler_similarity >= 0.8333333333333334\", \"m_probability\": 0.04864993535995792, \"u_probability\": 0.041136656606251085, \"m_probability_description\": \"Amongst matching record comparisons, 4.86% of records are in the jaro_winkler_similarity >= 0.8333333333333334 comparison level\", \"u_probability_description\": \"Amongst non-matching record comparisons, 4.11% of records are in the jaro_winkler_similarity >= 0.8333333333333334 comparison level\", \"has_tf_adjustments\": false, \"tf_adjustment_column\": null, \"tf_adjustment_weight\": 1.0, \"is_null_level\": false, \"bayes_factor\": 1.1826419396603352, \"log2_bayes_factor\": 0.24201334496431676, \"comparison_vector_value\": 1, \"max_comparison_vector_value\": 2, \"bayes_factor_description\": \"If comparison level is `jaro_winkler_similarity >= 0.8333333333333334` then comparison is 1.18 times more likely to be a match\", \"probability_two_random_records_match\": 0.17821299502955085, \"comparison_sort_order\": 7, \"iteration\": 5}, {\"comparison_name\": \"zipcode\", \"sql_condition\": \"ELSE\", \"label_for_charts\": \"All other comparisons\", \"m_probability\": 0.01723834713713544, \"u_probability\": 0.014704592460464516, \"m_probability_description\": \"Amongst matching record comparisons, 1.72% of records are in the all other comparisons comparison level\", \"u_probability_description\": \"Amongst non-matching record comparisons, 1.47% of records are in the all other comparisons comparison level\", \"has_tf_adjustments\": false, \"tf_adjustment_column\": null, \"tf_adjustment_weight\": 1.0, \"is_null_level\": false, \"bayes_factor\": 1.1723104318248396, \"log2_bayes_factor\": 0.22935465094767604, \"comparison_vector_value\": 0, \"max_comparison_vector_value\": 2, \"bayes_factor_description\": \"If comparison level is `all other comparisons` then comparison is 1.17 times more likely to be a match\", \"probability_two_random_records_match\": 0.17821299502955085, \"comparison_sort_order\": 7, \"iteration\": 5}]}}, {\"mode\": \"vega-lite\"});\n",
       "</script>"
      ],
      "text/plain": [
       "alt.HConcatChart(...)"
      ]
     },
     "execution_count": 42,
     "metadata": {},
     "output_type": "execute_result"
    }
   ],
   "source": [
    "em_session_2.m_u_values_interactive_history_chart()"
   ]
  },
  {
   "cell_type": "code",
   "execution_count": 43,
   "id": "c2226bd7-8baa-4be1-bb4d-f43ac0783ec3",
   "metadata": {
    "execution": {
     "iopub.execute_input": "2023-12-01T17:58:07.503722Z",
     "iopub.status.busy": "2023-12-01T17:58:07.503416Z",
     "iopub.status.idle": "2023-12-01T17:58:09.227518Z",
     "shell.execute_reply": "2023-12-01T17:58:09.226700Z"
    },
    "papermill": {
     "duration": 1.748239,
     "end_time": "2023-12-01T17:58:09.228579",
     "exception": false,
     "start_time": "2023-12-01T17:58:07.480340",
     "status": "completed"
    },
    "tags": []
   },
   "outputs": [
    {
     "data": {
      "text/html": [
       "\n",
       "<style>\n",
       "  #altair-viz-c36b1e2211bb43d28cf7d667e9a00839.vega-embed {\n",
       "    width: 100%;\n",
       "    display: flex;\n",
       "  }\n",
       "\n",
       "  #altair-viz-c36b1e2211bb43d28cf7d667e9a00839.vega-embed details,\n",
       "  #altair-viz-c36b1e2211bb43d28cf7d667e9a00839.vega-embed details summary {\n",
       "    position: relative;\n",
       "  }\n",
       "</style>\n",
       "<div id=\"altair-viz-c36b1e2211bb43d28cf7d667e9a00839\"></div>\n",
       "<script type=\"text/javascript\">\n",
       "  var VEGA_DEBUG = (typeof VEGA_DEBUG == \"undefined\") ? {} : VEGA_DEBUG;\n",
       "  (function(spec, embedOpt){\n",
       "    let outputDiv = document.currentScript.previousElementSibling;\n",
       "    if (outputDiv.id !== \"altair-viz-c36b1e2211bb43d28cf7d667e9a00839\") {\n",
       "      outputDiv = document.getElementById(\"altair-viz-c36b1e2211bb43d28cf7d667e9a00839\");\n",
       "    }\n",
       "    const paths = {\n",
       "      \"vega\": \"https://cdn.jsdelivr.net/npm/vega@5?noext\",\n",
       "      \"vega-lib\": \"https://cdn.jsdelivr.net/npm/vega-lib?noext\",\n",
       "      \"vega-lite\": \"https://cdn.jsdelivr.net/npm/vega-lite@5.15.1?noext\",\n",
       "      \"vega-embed\": \"https://cdn.jsdelivr.net/npm/vega-embed@6?noext\",\n",
       "    };\n",
       "\n",
       "    function maybeLoadScript(lib, version) {\n",
       "      var key = `${lib.replace(\"-\", \"\")}_version`;\n",
       "      return (VEGA_DEBUG[key] == version) ?\n",
       "        Promise.resolve(paths[lib]) :\n",
       "        new Promise(function(resolve, reject) {\n",
       "          var s = document.createElement('script');\n",
       "          document.getElementsByTagName(\"head\")[0].appendChild(s);\n",
       "          s.async = true;\n",
       "          s.onload = () => {\n",
       "            VEGA_DEBUG[key] = version;\n",
       "            return resolve(paths[lib]);\n",
       "          };\n",
       "          s.onerror = () => reject(`Error loading script: ${paths[lib]}`);\n",
       "          s.src = paths[lib];\n",
       "        });\n",
       "    }\n",
       "\n",
       "    function showError(err) {\n",
       "      outputDiv.innerHTML = `<div class=\"error\" style=\"color:red;\">${err}</div>`;\n",
       "      throw err;\n",
       "    }\n",
       "\n",
       "    function displayChart(vegaEmbed) {\n",
       "      vegaEmbed(outputDiv, spec, embedOpt)\n",
       "        .catch(err => showError(`Javascript Error: ${err.message}<br>This usually means there's a typo in your chart specification. See the javascript console for the full traceback.`));\n",
       "    }\n",
       "\n",
       "    if(typeof define === \"function\" && define.amd) {\n",
       "      requirejs.config({paths});\n",
       "      require([\"vega-embed\"], displayChart, err => showError(`Error loading script: ${err.message}`));\n",
       "    } else {\n",
       "      maybeLoadScript(\"vega\", \"5\")\n",
       "        .then(() => maybeLoadScript(\"vega-lite\", \"5.15.1\"))\n",
       "        .then(() => maybeLoadScript(\"vega-embed\", \"6\"))\n",
       "        .catch(showError)\n",
       "        .then(() => displayChart(vegaEmbed));\n",
       "    }\n",
       "  })({\"config\": {\"view\": {\"continuousWidth\": 300, \"continuousHeight\": 300, \"discreteHeight\": 60, \"discreteWidth\": 400}, \"header\": {\"title\": null}, \"mark\": {\"tooltip\": null}, \"title\": {\"anchor\": \"middle\"}}, \"vconcat\": [{\"mark\": {\"type\": \"bar\", \"clip\": true, \"height\": 15}, \"encoding\": {\"color\": {\"field\": \"log2_bayes_factor\", \"scale\": {\"domain\": [-10, 0, 10], \"interpolate\": \"lab\", \"range\": [\"red\", \"#bbbbbb\", \"green\"]}, \"title\": \"Match weight\", \"type\": \"quantitative\"}, \"tooltip\": [{\"field\": \"comparison_name\", \"title\": \"Comparison name\", \"type\": \"nominal\"}, {\"field\": \"probability_two_random_records_match\", \"format\": \".4f\", \"title\": \"Probability two random records match\", \"type\": \"nominal\"}, {\"field\": \"log2_bayes_factor\", \"format\": \",.4f\", \"title\": \"Equivalent match weight\", \"type\": \"quantitative\"}, {\"field\": \"bayes_factor_description\", \"title\": \"Match weight description\", \"type\": \"nominal\"}], \"x\": {\"axis\": {\"domain\": false, \"gridColor\": {\"condition\": {\"test\": \"abs(datum.value / 10)  <= 1 & datum.value % 10 === 0\", \"value\": \"#aaa\"}, \"value\": \"#ddd\"}, \"gridDash\": {\"condition\": {\"test\": \"abs(datum.value / 10) == 1\", \"value\": [3]}, \"value\": null}, \"gridWidth\": {\"condition\": {\"test\": \"abs(datum.value / 10)  <= 1 & datum.value % 10 === 0\", \"value\": 2}, \"value\": 1}, \"labels\": false, \"ticks\": false, \"title\": \"\"}, \"field\": \"log2_bayes_factor\", \"scale\": {\"domain\": [-17, 17]}, \"type\": \"quantitative\"}, \"y\": {\"axis\": {\"title\": \"Prior (starting) match weight\", \"titleAlign\": \"right\", \"titleAngle\": 0, \"titleFontWeight\": \"normal\"}, \"field\": \"label_for_charts\", \"sort\": {\"field\": \"comparison_vector_value\", \"order\": \"descending\"}, \"type\": \"nominal\"}}, \"height\": 20, \"transform\": [{\"filter\": \"(datum.comparison_name == 'probability_two_random_records_match')\"}]}, {\"mark\": {\"type\": \"bar\", \"clip\": true}, \"encoding\": {\"color\": {\"field\": \"log2_bayes_factor\", \"scale\": {\"domain\": [-10, 0, 10], \"interpolate\": \"lab\", \"range\": [\"red\", \"#bbbbbb\", \"green\"]}, \"title\": \"Match weight\", \"type\": \"quantitative\"}, \"row\": {\"field\": \"comparison_name\", \"header\": {\"labelAlign\": \"left\", \"labelAnchor\": \"middle\", \"labelAngle\": 0}, \"sort\": {\"field\": \"comparison_sort_order\"}, \"type\": \"nominal\"}, \"tooltip\": [{\"field\": \"comparison_name\", \"title\": \"Comparison name\", \"type\": \"nominal\"}, {\"field\": \"label_for_charts\", \"title\": \"Label\", \"type\": \"ordinal\"}, {\"field\": \"sql_condition\", \"title\": \"SQL condition\", \"type\": \"nominal\"}, {\"field\": \"m_probability\", \"format\": \".4f\", \"title\": \"M probability\", \"type\": \"quantitative\"}, {\"field\": \"u_probability\", \"format\": \".4f\", \"title\": \"U probability\", \"type\": \"quantitative\"}, {\"field\": \"bayes_factor\", \"format\": \",.4f\", \"title\": \"Bayes factor = m/u\", \"type\": \"quantitative\"}, {\"field\": \"log2_bayes_factor\", \"format\": \",.4f\", \"title\": \"Match weight = log2(m/u)\", \"type\": \"quantitative\"}, {\"field\": \"bayes_factor_description\", \"title\": \"Match weight description\", \"type\": \"nominal\"}], \"x\": {\"axis\": {\"gridColor\": {\"condition\": {\"test\": \"abs(datum.value / 10)  <= 1 & datum.value % 10 === 0\", \"value\": \"#aaa\"}, \"value\": \"#ddd\"}, \"gridDash\": {\"condition\": {\"test\": \"abs(datum.value / 10) == 1\", \"value\": [3]}, \"value\": null}, \"gridWidth\": {\"condition\": {\"test\": \"abs(datum.value / 10)  <= 1 & datum.value % 10 === 0\", \"value\": 2}, \"value\": 1}, \"title\": \"Comparison level match weight = log2(m/u)\"}, \"field\": \"log2_bayes_factor\", \"scale\": {\"domain\": [-17, 17]}, \"type\": \"quantitative\"}, \"y\": {\"axis\": {\"title\": null}, \"field\": \"label_for_charts\", \"sort\": {\"field\": \"comparison_vector_value\", \"order\": \"descending\"}, \"type\": \"nominal\"}}, \"height\": {\"step\": 12}, \"resolve\": {\"axis\": {\"y\": \"independent\"}, \"scale\": {\"y\": \"independent\"}}, \"transform\": [{\"filter\": \"(datum.comparison_name != 'probability_two_random_records_match')\"}]}], \"data\": {\"name\": \"data-7f514a43bc123b4ba72f3d12bb56038e\"}, \"params\": [{\"name\": \"mouse_zoom\", \"select\": {\"type\": \"interval\", \"encodings\": [\"x\"]}, \"bind\": \"scales\", \"views\": []}], \"resolve\": {\"axis\": {\"y\": \"independent\"}, \"scale\": {\"y\": \"independent\"}}, \"title\": {\"text\": \"Model parameters (components of final match weight)\", \"subtitle\": \"Use mousewheel to zoom\"}, \"$schema\": \"https://vega.github.io/schema/vega-lite/v5.9.3.json\", \"datasets\": {\"data-7f514a43bc123b4ba72f3d12bb56038e\": [{\"comparison_name\": \"probability_two_random_records_match\", \"sql_condition\": null, \"label_for_charts\": \"\", \"m_probability\": null, \"u_probability\": null, \"m_probability_description\": null, \"u_probability_description\": null, \"has_tf_adjustments\": false, \"tf_adjustment_column\": null, \"tf_adjustment_weight\": null, \"is_null_level\": false, \"bayes_factor\": 1.4225509009148484e-05, \"log2_bayes_factor\": -16.10116019928027, \"comparison_vector_value\": 0, \"max_comparison_vector_value\": 0, \"bayes_factor_description\": \"The probability that two random records drawn at random match is 0.000 or one in  70,297.3 records.This is equivalent to a starting match weight of -16.101.\", \"probability_two_random_records_match\": 1.422530664692062e-05, \"comparison_sort_order\": -1}, {\"comparison_name\": \"first_name_15\", \"sql_condition\": \"\\\"first_name_15_l\\\" = \\\"first_name_15_r\\\"\", \"label_for_charts\": \"Exact match\", \"m_probability\": 0.8416861919385656, \"u_probability\": 0.001979336595976074, \"m_probability_description\": \"Amongst matching record comparisons, 84.17% of records are in the exact match comparison level\", \"u_probability_description\": \"Amongst non-matching record comparisons, 0.20% of records are in the exact match comparison level\", \"has_tf_adjustments\": false, \"tf_adjustment_column\": null, \"tf_adjustment_weight\": 1.0, \"is_null_level\": false, \"bayes_factor\": 425.2365129052259, \"log2_bayes_factor\": 8.732121668877232, \"comparison_vector_value\": 2, \"max_comparison_vector_value\": 2, \"bayes_factor_description\": \"If comparison level is `exact match` then comparison is 425.24 times more likely to be a match\", \"probability_two_random_records_match\": 1.422530664692062e-05, \"comparison_sort_order\": 0}, {\"comparison_name\": \"first_name_15\", \"sql_condition\": \"jaro_winkler_similarity(\\\"first_name_15_l\\\", \\\"first_name_15_r\\\") >= 0.8333333333333334\", \"label_for_charts\": \"Jaro_winkler_similarity >= 0.8333333333333334\", \"m_probability\": 0.09176978543873936, \"u_probability\": 0.003417014077699233, \"m_probability_description\": \"Amongst matching record comparisons, 9.18% of records are in the jaro_winkler_similarity >= 0.8333333333333334 comparison level\", \"u_probability_description\": \"Amongst non-matching record comparisons, 0.34% of records are in the jaro_winkler_similarity >= 0.8333333333333334 comparison level\", \"has_tf_adjustments\": false, \"tf_adjustment_column\": null, \"tf_adjustment_weight\": 1.0, \"is_null_level\": false, \"bayes_factor\": 26.85671857124171, \"log2_bayes_factor\": 4.7472111379178825, \"comparison_vector_value\": 1, \"max_comparison_vector_value\": 2, \"bayes_factor_description\": \"If comparison level is `jaro_winkler_similarity >= 0.8333333333333334` then comparison is 26.86 times more likely to be a match\", \"probability_two_random_records_match\": 1.422530664692062e-05, \"comparison_sort_order\": 0}, {\"comparison_name\": \"first_name_15\", \"sql_condition\": \"ELSE\", \"label_for_charts\": \"All other comparisons\", \"m_probability\": 0.06654402262269513, \"u_probability\": 0.9946036493263247, \"m_probability_description\": \"Amongst matching record comparisons, 6.65% of records are in the all other comparisons comparison level\", \"u_probability_description\": \"Amongst non-matching record comparisons, 99.46% of records are in the all other comparisons comparison level\", \"has_tf_adjustments\": false, \"tf_adjustment_column\": null, \"tf_adjustment_weight\": 1.0, \"is_null_level\": false, \"bayes_factor\": 0.06690506581970357, \"log2_bayes_factor\": -3.901740738903911, \"comparison_vector_value\": 0, \"max_comparison_vector_value\": 2, \"bayes_factor_description\": \"If comparison level is `all other comparisons` then comparison is  14.95 times less likely to be a match\", \"probability_two_random_records_match\": 1.422530664692062e-05, \"comparison_sort_order\": 0}, {\"comparison_name\": \"last_name_12\", \"sql_condition\": \"\\\"last_name_12_l\\\" = \\\"last_name_12_r\\\"\", \"label_for_charts\": \"Exact match\", \"m_probability\": 0.8607988022199504, \"u_probability\": 0.0007093232453578939, \"m_probability_description\": \"Amongst matching record comparisons, 86.08% of records are in the exact match comparison level\", \"u_probability_description\": \"Amongst non-matching record comparisons, 0.07% of records are in the exact match comparison level\", \"has_tf_adjustments\": false, \"tf_adjustment_column\": null, \"tf_adjustment_weight\": 1.0, \"is_null_level\": false, \"bayes_factor\": 1213.5494048071532, \"log2_bayes_factor\": 10.245017127901358, \"comparison_vector_value\": 2, \"max_comparison_vector_value\": 2, \"bayes_factor_description\": \"If comparison level is `exact match` then comparison is 1,213.55 times more likely to be a match\", \"probability_two_random_records_match\": 1.422530664692062e-05, \"comparison_sort_order\": 1}, {\"comparison_name\": \"last_name_12\", \"sql_condition\": \"jaro_winkler_similarity(\\\"last_name_12_l\\\", \\\"last_name_12_r\\\") >= 0.8333333333333334\", \"label_for_charts\": \"Jaro_winkler_similarity >= 0.8333333333333334\", \"m_probability\": 0.08862430552434403, \"u_probability\": 0.001329943668219914, \"m_probability_description\": \"Amongst matching record comparisons, 8.86% of records are in the jaro_winkler_similarity >= 0.8333333333333334 comparison level\", \"u_probability_description\": \"Amongst non-matching record comparisons, 0.13% of records are in the jaro_winkler_similarity >= 0.8333333333333334 comparison level\", \"has_tf_adjustments\": false, \"tf_adjustment_column\": null, \"tf_adjustment_weight\": 1.0, \"is_null_level\": false, \"bayes_factor\": 66.63763860236634, \"log2_bayes_factor\": 6.0582653725863675, \"comparison_vector_value\": 1, \"max_comparison_vector_value\": 2, \"bayes_factor_description\": \"If comparison level is `jaro_winkler_similarity >= 0.8333333333333334` then comparison is 66.64 times more likely to be a match\", \"probability_two_random_records_match\": 1.422530664692062e-05, \"comparison_sort_order\": 1}, {\"comparison_name\": \"last_name_12\", \"sql_condition\": \"ELSE\", \"label_for_charts\": \"All other comparisons\", \"m_probability\": 0.05057689225570559, \"u_probability\": 0.9979607330864222, \"m_probability_description\": \"Amongst matching record comparisons, 5.06% of records are in the all other comparisons comparison level\", \"u_probability_description\": \"Amongst non-matching record comparisons, 99.80% of records are in the all other comparisons comparison level\", \"has_tf_adjustments\": false, \"tf_adjustment_column\": null, \"tf_adjustment_weight\": 1.0, \"is_null_level\": false, \"bayes_factor\": 0.05068024279801567, \"log2_bayes_factor\": -4.302432753641423, \"comparison_vector_value\": 0, \"max_comparison_vector_value\": 2, \"bayes_factor_description\": \"If comparison level is `all other comparisons` then comparison is  19.73 times less likely to be a match\", \"probability_two_random_records_match\": 1.422530664692062e-05, \"comparison_sort_order\": 1}, {\"comparison_name\": \"middle_initial\", \"sql_condition\": \"\\\"middle_initial_l\\\" = \\\"middle_initial_r\\\"\", \"label_for_charts\": \"Exact match\", \"m_probability\": 0.9308986179634928, \"u_probability\": 0.07410500870140878, \"m_probability_description\": \"Amongst matching record comparisons, 93.09% of records are in the exact match comparison level\", \"u_probability_description\": \"Amongst non-matching record comparisons, 7.41% of records are in the exact match comparison level\", \"has_tf_adjustments\": false, \"tf_adjustment_column\": null, \"tf_adjustment_weight\": 1.0, \"is_null_level\": false, \"bayes_factor\": 12.561885279770515, \"log2_bayes_factor\": 3.6509810941221716, \"comparison_vector_value\": 1, \"max_comparison_vector_value\": 1, \"bayes_factor_description\": \"If comparison level is `exact match` then comparison is 12.56 times more likely to be a match\", \"probability_two_random_records_match\": 1.422530664692062e-05, \"comparison_sort_order\": 2}, {\"comparison_name\": \"middle_initial\", \"sql_condition\": \"ELSE\", \"label_for_charts\": \"All other comparisons\", \"m_probability\": 0.06910138203650706, \"u_probability\": 0.9258949912985912, \"m_probability_description\": \"Amongst matching record comparisons, 6.91% of records are in the all other comparisons comparison level\", \"u_probability_description\": \"Amongst non-matching record comparisons, 92.59% of records are in the all other comparisons comparison level\", \"has_tf_adjustments\": false, \"tf_adjustment_column\": null, \"tf_adjustment_weight\": 1.0, \"is_null_level\": false, \"bayes_factor\": 0.07463198600911602, \"log2_bayes_factor\": -3.7440621120206714, \"comparison_vector_value\": 0, \"max_comparison_vector_value\": 1, \"bayes_factor_description\": \"If comparison level is `all other comparisons` then comparison is  13.40 times less likely to be a match\", \"probability_two_random_records_match\": 1.422530664692062e-05, \"comparison_sort_order\": 2}, {\"comparison_name\": \"day_of_birth\", \"sql_condition\": \"\\\"day_of_birth_l\\\" = \\\"day_of_birth_r\\\"\", \"label_for_charts\": \"Exact match\", \"m_probability\": 0.9534837054622358, \"u_probability\": 0.03243028785148898, \"m_probability_description\": \"Amongst matching record comparisons, 95.35% of records are in the exact match comparison level\", \"u_probability_description\": \"Amongst non-matching record comparisons, 3.24% of records are in the exact match comparison level\", \"has_tf_adjustments\": false, \"tf_adjustment_column\": null, \"tf_adjustment_weight\": 1.0, \"is_null_level\": false, \"bayes_factor\": 29.4010250488251, \"log2_bayes_factor\": 4.877794549509446, \"comparison_vector_value\": 2, \"max_comparison_vector_value\": 2, \"bayes_factor_description\": \"If comparison level is `exact match` then comparison is 29.40 times more likely to be a match\", \"probability_two_random_records_match\": 1.422530664692062e-05, \"comparison_sort_order\": 3}, {\"comparison_name\": \"day_of_birth\", \"sql_condition\": \"abs(day_of_birth_l - day_of_birth_r) <= 5\", \"label_for_charts\": \"Inexact match\", \"m_probability\": 0.021748448058260702, \"u_probability\": 0.295173345919013, \"m_probability_description\": \"Amongst matching record comparisons, 2.17% of records are in the inexact match comparison level\", \"u_probability_description\": \"Amongst non-matching record comparisons, 29.52% of records are in the inexact match comparison level\", \"has_tf_adjustments\": false, \"tf_adjustment_column\": null, \"tf_adjustment_weight\": 1.0, \"is_null_level\": false, \"bayes_factor\": 0.07368025724188472, \"log2_bayes_factor\": -3.762578091416275, \"comparison_vector_value\": 1, \"max_comparison_vector_value\": 2, \"bayes_factor_description\": \"If comparison level is `inexact match` then comparison is  13.57 times less likely to be a match\", \"probability_two_random_records_match\": 1.422530664692062e-05, \"comparison_sort_order\": 3}, {\"comparison_name\": \"day_of_birth\", \"sql_condition\": \"ELSE\", \"label_for_charts\": \"All other comparisons\", \"m_probability\": 0.024767846479503475, \"u_probability\": 0.672396366229498, \"m_probability_description\": \"Amongst matching record comparisons, 2.48% of records are in the all other comparisons comparison level\", \"u_probability_description\": \"Amongst non-matching record comparisons, 67.24% of records are in the all other comparisons comparison level\", \"has_tf_adjustments\": false, \"tf_adjustment_column\": null, \"tf_adjustment_weight\": 1.0, \"is_null_level\": false, \"bayes_factor\": 0.036835187879420916, \"log2_bayes_factor\": -4.762771588604766, \"comparison_vector_value\": 0, \"max_comparison_vector_value\": 2, \"bayes_factor_description\": \"If comparison level is `all other comparisons` then comparison is  27.15 times less likely to be a match\", \"probability_two_random_records_match\": 1.422530664692062e-05, \"comparison_sort_order\": 3}, {\"comparison_name\": \"month_of_birth\", \"sql_condition\": \"\\\"month_of_birth_l\\\" = \\\"month_of_birth_r\\\"\", \"label_for_charts\": \"Exact match\", \"m_probability\": 0.964399883021366, \"u_probability\": 0.08355145831969693, \"m_probability_description\": \"Amongst matching record comparisons, 96.44% of records are in the exact match comparison level\", \"u_probability_description\": \"Amongst non-matching record comparisons, 8.36% of records are in the exact match comparison level\", \"has_tf_adjustments\": false, \"tf_adjustment_column\": null, \"tf_adjustment_weight\": 1.0, \"is_null_level\": false, \"bayes_factor\": 11.542585879605317, \"log2_bayes_factor\": 3.5288945613114437, \"comparison_vector_value\": 2, \"max_comparison_vector_value\": 2, \"bayes_factor_description\": \"If comparison level is `exact match` then comparison is 11.54 times more likely to be a match\", \"probability_two_random_records_match\": 1.422530664692062e-05, \"comparison_sort_order\": 4}, {\"comparison_name\": \"month_of_birth\", \"sql_condition\": \"abs(month_of_birth_l - month_of_birth_r) <= 3\", \"label_for_charts\": \"Inexact match\", \"m_probability\": 0.017592426880565275, \"u_probability\": 0.4143133397869391, \"m_probability_description\": \"Amongst matching record comparisons, 1.76% of records are in the inexact match comparison level\", \"u_probability_description\": \"Amongst non-matching record comparisons, 41.43% of records are in the inexact match comparison level\", \"has_tf_adjustments\": false, \"tf_adjustment_column\": null, \"tf_adjustment_weight\": 1.0, \"is_null_level\": false, \"bayes_factor\": 0.04246164723929041, \"log2_bayes_factor\": -4.557695850140971, \"comparison_vector_value\": 1, \"max_comparison_vector_value\": 2, \"bayes_factor_description\": \"If comparison level is `inexact match` then comparison is  23.55 times less likely to be a match\", \"probability_two_random_records_match\": 1.422530664692062e-05, \"comparison_sort_order\": 4}, {\"comparison_name\": \"month_of_birth\", \"sql_condition\": \"ELSE\", \"label_for_charts\": \"All other comparisons\", \"m_probability\": 0.018007690098068702, \"u_probability\": 0.5021352018933639, \"m_probability_description\": \"Amongst matching record comparisons, 1.80% of records are in the all other comparisons comparison level\", \"u_probability_description\": \"Amongst non-matching record comparisons, 50.21% of records are in the all other comparisons comparison level\", \"has_tf_adjustments\": false, \"tf_adjustment_column\": null, \"tf_adjustment_weight\": 1.0, \"is_null_level\": false, \"bayes_factor\": 0.03586223397636422, \"log2_bayes_factor\": -4.801390828555719, \"comparison_vector_value\": 0, \"max_comparison_vector_value\": 2, \"bayes_factor_description\": \"If comparison level is `all other comparisons` then comparison is  27.88 times less likely to be a match\", \"probability_two_random_records_match\": 1.422530664692062e-05, \"comparison_sort_order\": 4}, {\"comparison_name\": \"year_of_birth\", \"sql_condition\": \"\\\"year_of_birth_l\\\" = \\\"year_of_birth_r\\\"\", \"label_for_charts\": \"Exact match\", \"m_probability\": 0.9485204096023461, \"u_probability\": 0.011125465216557518, \"m_probability_description\": \"Amongst matching record comparisons, 94.85% of records are in the exact match comparison level\", \"u_probability_description\": \"Amongst non-matching record comparisons, 1.11% of records are in the exact match comparison level\", \"has_tf_adjustments\": false, \"tf_adjustment_column\": null, \"tf_adjustment_weight\": 1.0, \"is_null_level\": false, \"bayes_factor\": 85.25669633937706, \"log2_bayes_factor\": 6.4137412474547535, \"comparison_vector_value\": 2, \"max_comparison_vector_value\": 2, \"bayes_factor_description\": \"If comparison level is `exact match` then comparison is 85.26 times more likely to be a match\", \"probability_two_random_records_match\": 1.422530664692062e-05, \"comparison_sort_order\": 5}, {\"comparison_name\": \"year_of_birth\", \"sql_condition\": \"abs(year_of_birth_l - year_of_birth_r) <= 5\", \"label_for_charts\": \"Inexact match\", \"m_probability\": 0.014573464495497505, \"u_probability\": 0.11053660239472413, \"m_probability_description\": \"Amongst matching record comparisons, 1.46% of records are in the inexact match comparison level\", \"u_probability_description\": \"Amongst non-matching record comparisons, 11.05% of records are in the inexact match comparison level\", \"has_tf_adjustments\": false, \"tf_adjustment_column\": null, \"tf_adjustment_weight\": 1.0, \"is_null_level\": false, \"bayes_factor\": 0.13184288443619732, \"log2_bayes_factor\": -2.9231083838716416, \"comparison_vector_value\": 1, \"max_comparison_vector_value\": 2, \"bayes_factor_description\": \"If comparison level is `inexact match` then comparison is  7.58 times less likely to be a match\", \"probability_two_random_records_match\": 1.422530664692062e-05, \"comparison_sort_order\": 5}, {\"comparison_name\": \"year_of_birth\", \"sql_condition\": \"ELSE\", \"label_for_charts\": \"All other comparisons\", \"m_probability\": 0.03690612590215632, \"u_probability\": 0.8783379323887184, \"m_probability_description\": \"Amongst matching record comparisons, 3.69% of records are in the all other comparisons comparison level\", \"u_probability_description\": \"Amongst non-matching record comparisons, 87.83% of records are in the all other comparisons comparison level\", \"has_tf_adjustments\": false, \"tf_adjustment_column\": null, \"tf_adjustment_weight\": 1.0, \"is_null_level\": false, \"bayes_factor\": 0.04201813964903783, \"log2_bayes_factor\": -4.572843901598172, \"comparison_vector_value\": 0, \"max_comparison_vector_value\": 2, \"bayes_factor_description\": \"If comparison level is `all other comparisons` then comparison is  23.80 times less likely to be a match\", \"probability_two_random_records_match\": 1.422530664692062e-05, \"comparison_sort_order\": 5}, {\"comparison_name\": \"street_number\", \"sql_condition\": \"\\\"street_number_l\\\" = \\\"street_number_r\\\"\", \"label_for_charts\": \"Exact match\", \"m_probability\": 0.7701372210011184, \"u_probability\": 0.004643745865751094, \"m_probability_description\": \"Amongst matching record comparisons, 77.01% of records are in the exact match comparison level\", \"u_probability_description\": \"Amongst non-matching record comparisons, 0.46% of records are in the exact match comparison level\", \"has_tf_adjustments\": false, \"tf_adjustment_column\": null, \"tf_adjustment_weight\": 1.0, \"is_null_level\": false, \"bayes_factor\": 165.84396374510771, \"log2_bayes_factor\": 7.37368269280522, \"comparison_vector_value\": 2, \"max_comparison_vector_value\": 2, \"bayes_factor_description\": \"If comparison level is `exact match` then comparison is 165.84 times more likely to be a match\", \"probability_two_random_records_match\": 1.422530664692062e-05, \"comparison_sort_order\": 6}, {\"comparison_name\": \"street_number\", \"sql_condition\": \"jaro_winkler_similarity(\\\"street_number_l\\\", \\\"street_number_r\\\") >= 0.8333333333333334\", \"label_for_charts\": \"Jaro_winkler_similarity >= 0.8333333333333334\", \"m_probability\": 0.06508623934540961, \"u_probability\": 0.012708549889228378, \"m_probability_description\": \"Amongst matching record comparisons, 6.51% of records are in the jaro_winkler_similarity >= 0.8333333333333334 comparison level\", \"u_probability_description\": \"Amongst non-matching record comparisons, 1.27% of records are in the jaro_winkler_similarity >= 0.8333333333333334 comparison level\", \"has_tf_adjustments\": false, \"tf_adjustment_column\": null, \"tf_adjustment_weight\": 1.0, \"is_null_level\": false, \"bayes_factor\": 5.121452873279898, \"log2_bayes_factor\": 2.356553137518179, \"comparison_vector_value\": 1, \"max_comparison_vector_value\": 2, \"bayes_factor_description\": \"If comparison level is `jaro_winkler_similarity >= 0.8333333333333334` then comparison is 5.12 times more likely to be a match\", \"probability_two_random_records_match\": 1.422530664692062e-05, \"comparison_sort_order\": 6}, {\"comparison_name\": \"street_number\", \"sql_condition\": \"ELSE\", \"label_for_charts\": \"All other comparisons\", \"m_probability\": 0.16477653965347197, \"u_probability\": 0.9826477042450206, \"m_probability_description\": \"Amongst matching record comparisons, 16.48% of records are in the all other comparisons comparison level\", \"u_probability_description\": \"Amongst non-matching record comparisons, 98.26% of records are in the all other comparisons comparison level\", \"has_tf_adjustments\": false, \"tf_adjustment_column\": null, \"tf_adjustment_weight\": 1.0, \"is_null_level\": false, \"bayes_factor\": 0.1676862816059512, \"log2_bayes_factor\": -2.576163427861129, \"comparison_vector_value\": 0, \"max_comparison_vector_value\": 2, \"bayes_factor_description\": \"If comparison level is `all other comparisons` then comparison is  5.96 times less likely to be a match\", \"probability_two_random_records_match\": 1.422530664692062e-05, \"comparison_sort_order\": 6}, {\"comparison_name\": \"street_name\", \"sql_condition\": \"\\\"street_name_l\\\" = \\\"street_name_r\\\"\", \"label_for_charts\": \"Exact match\", \"m_probability\": 0.7568117283462769, \"u_probability\": 0.0036909475444507293, \"m_probability_description\": \"Amongst matching record comparisons, 75.68% of records are in the exact match comparison level\", \"u_probability_description\": \"Amongst non-matching record comparisons, 0.37% of records are in the exact match comparison level\", \"has_tf_adjustments\": false, \"tf_adjustment_column\": null, \"tf_adjustment_weight\": 1.0, \"is_null_level\": false, \"bayes_factor\": 205.0453763516984, \"log2_bayes_factor\": 7.679799401912504, \"comparison_vector_value\": 2, \"max_comparison_vector_value\": 2, \"bayes_factor_description\": \"If comparison level is `exact match` then comparison is 205.05 times more likely to be a match\", \"probability_two_random_records_match\": 1.422530664692062e-05, \"comparison_sort_order\": 7}, {\"comparison_name\": \"street_name\", \"sql_condition\": \"jaro_winkler_similarity(\\\"street_name_l\\\", \\\"street_name_r\\\") >= 0.8333333333333334\", \"label_for_charts\": \"Jaro_winkler_similarity >= 0.8333333333333334\", \"m_probability\": 0.10663234356233692, \"u_probability\": 0.0018843912156014068, \"m_probability_description\": \"Amongst matching record comparisons, 10.66% of records are in the jaro_winkler_similarity >= 0.8333333333333334 comparison level\", \"u_probability_description\": \"Amongst non-matching record comparisons, 0.19% of records are in the jaro_winkler_similarity >= 0.8333333333333334 comparison level\", \"has_tf_adjustments\": false, \"tf_adjustment_column\": null, \"tf_adjustment_weight\": 1.0, \"is_null_level\": false, \"bayes_factor\": 56.58715805905783, \"log2_bayes_factor\": 5.822402778569586, \"comparison_vector_value\": 1, \"max_comparison_vector_value\": 2, \"bayes_factor_description\": \"If comparison level is `jaro_winkler_similarity >= 0.8333333333333334` then comparison is 56.59 times more likely to be a match\", \"probability_two_random_records_match\": 1.422530664692062e-05, \"comparison_sort_order\": 7}, {\"comparison_name\": \"street_name\", \"sql_condition\": \"ELSE\", \"label_for_charts\": \"All other comparisons\", \"m_probability\": 0.1365559280913863, \"u_probability\": 0.9944246612399479, \"m_probability_description\": \"Amongst matching record comparisons, 13.66% of records are in the all other comparisons comparison level\", \"u_probability_description\": \"Amongst non-matching record comparisons, 99.44% of records are in the all other comparisons comparison level\", \"has_tf_adjustments\": false, \"tf_adjustment_column\": null, \"tf_adjustment_weight\": 1.0, \"is_null_level\": false, \"bayes_factor\": 0.1373215422082501, \"log2_bayes_factor\": -2.8643701300057662, \"comparison_vector_value\": 0, \"max_comparison_vector_value\": 2, \"bayes_factor_description\": \"If comparison level is `all other comparisons` then comparison is  7.28 times less likely to be a match\", \"probability_two_random_records_match\": 1.422530664692062e-05, \"comparison_sort_order\": 7}, {\"comparison_name\": \"unit_number\", \"sql_condition\": \"\\\"unit_number_l\\\" = \\\"unit_number_r\\\"\", \"label_for_charts\": \"Exact match\", \"m_probability\": 0.9101622984706301, \"u_probability\": 0.005427064313248123, \"m_probability_description\": \"Amongst matching record comparisons, 91.02% of records are in the exact match comparison level\", \"u_probability_description\": \"Amongst non-matching record comparisons, 0.54% of records are in the exact match comparison level\", \"has_tf_adjustments\": false, \"tf_adjustment_column\": null, \"tf_adjustment_weight\": 1.0, \"is_null_level\": false, \"bayes_factor\": 167.70803623034527, \"log2_bayes_factor\": 7.389808011365629, \"comparison_vector_value\": 2, \"max_comparison_vector_value\": 2, \"bayes_factor_description\": \"If comparison level is `exact match` then comparison is 167.71 times more likely to be a match\", \"probability_two_random_records_match\": 1.422530664692062e-05, \"comparison_sort_order\": 8}, {\"comparison_name\": \"unit_number\", \"sql_condition\": \"jaro_winkler_similarity(\\\"unit_number_l\\\", \\\"unit_number_r\\\") >= 0.8333333333333334\", \"label_for_charts\": \"Jaro_winkler_similarity >= 0.8333333333333334\", \"m_probability\": 0.0838274932577231, \"u_probability\": 0.08399269628727937, \"m_probability_description\": \"Amongst matching record comparisons, 8.38% of records are in the jaro_winkler_similarity >= 0.8333333333333334 comparison level\", \"u_probability_description\": \"Amongst non-matching record comparisons, 8.40% of records are in the jaro_winkler_similarity >= 0.8333333333333334 comparison level\", \"has_tf_adjustments\": false, \"tf_adjustment_column\": null, \"tf_adjustment_weight\": 1.0, \"is_null_level\": false, \"bayes_factor\": 0.9980331262495582, \"log2_bayes_factor\": -0.002840393269894094, \"comparison_vector_value\": 1, \"max_comparison_vector_value\": 2, \"bayes_factor_description\": \"If comparison level is `jaro_winkler_similarity >= 0.8333333333333334` then comparison is  1.00 times less likely to be a match\", \"probability_two_random_records_match\": 1.422530664692062e-05, \"comparison_sort_order\": 8}, {\"comparison_name\": \"unit_number\", \"sql_condition\": \"ELSE\", \"label_for_charts\": \"All other comparisons\", \"m_probability\": 0.00601020827164681, \"u_probability\": 0.9105802393994725, \"m_probability_description\": \"Amongst matching record comparisons, 0.60% of records are in the all other comparisons comparison level\", \"u_probability_description\": \"Amongst non-matching record comparisons, 91.06% of records are in the all other comparisons comparison level\", \"has_tf_adjustments\": false, \"tf_adjustment_column\": null, \"tf_adjustment_weight\": 1.0, \"is_null_level\": false, \"bayes_factor\": 0.006600415879451261, \"log2_bayes_factor\": -7.243227355900158, \"comparison_vector_value\": 0, \"max_comparison_vector_value\": 2, \"bayes_factor_description\": \"If comparison level is `all other comparisons` then comparison is  151.51 times less likely to be a match\", \"probability_two_random_records_match\": 1.422530664692062e-05, \"comparison_sort_order\": 8}, {\"comparison_name\": \"zipcode\", \"sql_condition\": \"\\\"zipcode_l\\\" = \\\"zipcode_r\\\"\", \"label_for_charts\": \"Exact match\", \"m_probability\": 0.9339456689857046, \"u_probability\": 0.9441587509332844, \"m_probability_description\": \"Amongst matching record comparisons, 93.39% of records are in the exact match comparison level\", \"u_probability_description\": \"Amongst non-matching record comparisons, 94.42% of records are in the exact match comparison level\", \"has_tf_adjustments\": false, \"tf_adjustment_column\": null, \"tf_adjustment_weight\": 1.0, \"is_null_level\": false, \"bayes_factor\": 0.9891828763568793, \"log2_bayes_factor\": -0.01569082928894631, \"comparison_vector_value\": 2, \"max_comparison_vector_value\": 2, \"bayes_factor_description\": \"If comparison level is `exact match` then comparison is  1.01 times less likely to be a match\", \"probability_two_random_records_match\": 1.422530664692062e-05, \"comparison_sort_order\": 9}, {\"comparison_name\": \"zipcode\", \"sql_condition\": \"jaro_winkler_similarity(\\\"zipcode_l\\\", \\\"zipcode_r\\\") >= 0.8333333333333334\", \"label_for_charts\": \"Jaro_winkler_similarity >= 0.8333333333333334\", \"m_probability\": 0.048387653424830195, \"u_probability\": 0.041136656606251085, \"m_probability_description\": \"Amongst matching record comparisons, 4.84% of records are in the jaro_winkler_similarity >= 0.8333333333333334 comparison level\", \"u_probability_description\": \"Amongst non-matching record comparisons, 4.11% of records are in the jaro_winkler_similarity >= 0.8333333333333334 comparison level\", \"has_tf_adjustments\": false, \"tf_adjustment_column\": null, \"tf_adjustment_weight\": 1.0, \"is_null_level\": false, \"bayes_factor\": 1.1762660706236698, \"log2_bayes_factor\": 0.2342144337726773, \"comparison_vector_value\": 1, \"max_comparison_vector_value\": 2, \"bayes_factor_description\": \"If comparison level is `jaro_winkler_similarity >= 0.8333333333333334` then comparison is 1.18 times more likely to be a match\", \"probability_two_random_records_match\": 1.422530664692062e-05, \"comparison_sort_order\": 9}, {\"comparison_name\": \"zipcode\", \"sql_condition\": \"ELSE\", \"label_for_charts\": \"All other comparisons\", \"m_probability\": 0.017666677589465205, \"u_probability\": 0.014704592460464516, \"m_probability_description\": \"Amongst matching record comparisons, 1.77% of records are in the all other comparisons comparison level\", \"u_probability_description\": \"Amongst non-matching record comparisons, 1.47% of records are in the all other comparisons comparison level\", \"has_tf_adjustments\": false, \"tf_adjustment_column\": null, \"tf_adjustment_weight\": 1.0, \"is_null_level\": false, \"bayes_factor\": 1.2014394575684226, \"log2_bayes_factor\": 0.26476395061803243, \"comparison_vector_value\": 0, \"max_comparison_vector_value\": 2, \"bayes_factor_description\": \"If comparison level is `all other comparisons` then comparison is 1.20 times more likely to be a match\", \"probability_two_random_records_match\": 1.422530664692062e-05, \"comparison_sort_order\": 9}]}}, {\"mode\": \"vega-lite\"});\n",
       "</script>"
      ],
      "text/plain": [
       "alt.VConcatChart(...)"
      ]
     },
     "execution_count": 43,
     "metadata": {},
     "output_type": "execute_result"
    }
   ],
   "source": [
    "linker.match_weights_chart()"
   ]
  },
  {
   "cell_type": "code",
   "execution_count": 44,
   "id": "0227e7b1-d573-496a-bd6f-0eb81e75e44e",
   "metadata": {
    "execution": {
     "iopub.execute_input": "2023-12-01T17:58:09.280607Z",
     "iopub.status.busy": "2023-12-01T17:58:09.280306Z",
     "iopub.status.idle": "2023-12-01T17:58:10.408312Z",
     "shell.execute_reply": "2023-12-01T17:58:10.407773Z"
    },
    "papermill": {
     "duration": 1.154043,
     "end_time": "2023-12-01T17:58:10.409505",
     "exception": false,
     "start_time": "2023-12-01T17:58:09.255462",
     "status": "completed"
    },
    "tags": []
   },
   "outputs": [
    {
     "data": {
      "text/html": [
       "\n",
       "<style>\n",
       "  #altair-viz-435482612a434cf1881343fac5684cbd.vega-embed {\n",
       "    width: 100%;\n",
       "    display: flex;\n",
       "  }\n",
       "\n",
       "  #altair-viz-435482612a434cf1881343fac5684cbd.vega-embed details,\n",
       "  #altair-viz-435482612a434cf1881343fac5684cbd.vega-embed details summary {\n",
       "    position: relative;\n",
       "  }\n",
       "</style>\n",
       "<div id=\"altair-viz-435482612a434cf1881343fac5684cbd\"></div>\n",
       "<script type=\"text/javascript\">\n",
       "  var VEGA_DEBUG = (typeof VEGA_DEBUG == \"undefined\") ? {} : VEGA_DEBUG;\n",
       "  (function(spec, embedOpt){\n",
       "    let outputDiv = document.currentScript.previousElementSibling;\n",
       "    if (outputDiv.id !== \"altair-viz-435482612a434cf1881343fac5684cbd\") {\n",
       "      outputDiv = document.getElementById(\"altair-viz-435482612a434cf1881343fac5684cbd\");\n",
       "    }\n",
       "    const paths = {\n",
       "      \"vega\": \"https://cdn.jsdelivr.net/npm/vega@5?noext\",\n",
       "      \"vega-lib\": \"https://cdn.jsdelivr.net/npm/vega-lib?noext\",\n",
       "      \"vega-lite\": \"https://cdn.jsdelivr.net/npm/vega-lite@5.15.1?noext\",\n",
       "      \"vega-embed\": \"https://cdn.jsdelivr.net/npm/vega-embed@6?noext\",\n",
       "    };\n",
       "\n",
       "    function maybeLoadScript(lib, version) {\n",
       "      var key = `${lib.replace(\"-\", \"\")}_version`;\n",
       "      return (VEGA_DEBUG[key] == version) ?\n",
       "        Promise.resolve(paths[lib]) :\n",
       "        new Promise(function(resolve, reject) {\n",
       "          var s = document.createElement('script');\n",
       "          document.getElementsByTagName(\"head\")[0].appendChild(s);\n",
       "          s.async = true;\n",
       "          s.onload = () => {\n",
       "            VEGA_DEBUG[key] = version;\n",
       "            return resolve(paths[lib]);\n",
       "          };\n",
       "          s.onerror = () => reject(`Error loading script: ${paths[lib]}`);\n",
       "          s.src = paths[lib];\n",
       "        });\n",
       "    }\n",
       "\n",
       "    function showError(err) {\n",
       "      outputDiv.innerHTML = `<div class=\"error\" style=\"color:red;\">${err}</div>`;\n",
       "      throw err;\n",
       "    }\n",
       "\n",
       "    function displayChart(vegaEmbed) {\n",
       "      vegaEmbed(outputDiv, spec, embedOpt)\n",
       "        .catch(err => showError(`Javascript Error: ${err.message}<br>This usually means there's a typo in your chart specification. See the javascript console for the full traceback.`));\n",
       "    }\n",
       "\n",
       "    if(typeof define === \"function\" && define.amd) {\n",
       "      requirejs.config({paths});\n",
       "      require([\"vega-embed\"], displayChart, err => showError(`Error loading script: ${err.message}`));\n",
       "    } else {\n",
       "      maybeLoadScript(\"vega\", \"5\")\n",
       "        .then(() => maybeLoadScript(\"vega-lite\", \"5.15.1\"))\n",
       "        .then(() => maybeLoadScript(\"vega-embed\", \"6\"))\n",
       "        .catch(showError)\n",
       "        .then(() => displayChart(vegaEmbed));\n",
       "    }\n",
       "  })({\"config\": {\"view\": {\"continuousWidth\": 300, \"continuousHeight\": 300, \"discreteHeight\": 300, \"discreteWidth\": 400}, \"header\": {\"title\": null}, \"title\": {\"anchor\": \"middle\", \"offset\": 10}}, \"hconcat\": [{\"mark\": \"bar\", \"encoding\": {\"color\": {\"value\": \"green\"}, \"row\": {\"field\": \"comparison_name\", \"header\": {\"labelAlign\": \"left\", \"labelAnchor\": \"middle\", \"labelAngle\": 0}, \"sort\": {\"field\": \"comparison_sort_order\"}, \"type\": \"nominal\"}, \"tooltip\": [{\"field\": \"m_probability_description\", \"title\": \"m probability description\", \"type\": \"nominal\"}, {\"field\": \"comparison_name\", \"title\": \"Comparison column name\", \"type\": \"nominal\"}, {\"field\": \"label_for_charts\", \"title\": \"Label\", \"type\": \"ordinal\"}, {\"field\": \"sql_condition\", \"title\": \"SQL condition\", \"type\": \"nominal\"}, {\"field\": \"m_probability\", \"format\": \".4p\", \"title\": \"m probability\", \"type\": \"quantitative\"}, {\"field\": \"u_probability\", \"format\": \".4p\", \"title\": \"u probability\", \"type\": \"quantitative\"}, {\"field\": \"bayes_factor\", \"format\": \",.4f\", \"title\": \"Bayes factor = m/u\", \"type\": \"quantitative\"}, {\"field\": \"log2_bayes_factor\", \"format\": \",.4f\", \"title\": \"Match weight = log2(m/u)\", \"type\": \"quantitative\"}], \"x\": {\"axis\": {\"title\": \"Proportion of record comparisons\"}, \"field\": \"m_probability\", \"type\": \"quantitative\"}, \"y\": {\"axis\": {\"title\": null}, \"field\": \"label_for_charts\", \"sort\": {\"field\": \"comparison_vector_value\", \"order\": \"descending\"}, \"type\": \"nominal\"}}, \"height\": {\"step\": 12}, \"resolve\": {\"scale\": {\"y\": \"independent\"}}, \"title\": {\"text\": \"Amongst matching record comparisons:\", \"fontSize\": 12, \"fontWeight\": \"bold\"}, \"transform\": [{\"filter\": \"(datum.bayes_factor != 'no-op filter due to vega lite issue 4680')\"}], \"width\": 150}, {\"mark\": \"bar\", \"encoding\": {\"color\": {\"value\": \"red\"}, \"row\": {\"field\": \"comparison_name\", \"header\": {\"labels\": false}, \"sort\": {\"field\": \"comparison_sort_order\"}, \"type\": \"nominal\"}, \"tooltip\": [{\"field\": \"u_probability_description\", \"title\": \"u probability description\", \"type\": \"nominal\"}, {\"field\": \"comparison_name\", \"title\": \"Comparison column name\", \"type\": \"nominal\"}, {\"field\": \"label_for_charts\", \"title\": \"Label\", \"type\": \"ordinal\"}, {\"field\": \"sql_condition\", \"title\": \"SQL condition\", \"type\": \"nominal\"}, {\"field\": \"m_probability\", \"format\": \".4p\", \"title\": \"m probability\", \"type\": \"quantitative\"}, {\"field\": \"u_probability\", \"format\": \".4p\", \"title\": \"u probability\", \"type\": \"quantitative\"}, {\"field\": \"bayes_factor\", \"format\": \",.4f\", \"title\": \"Bayes factor = m/u\", \"type\": \"quantitative\"}, {\"field\": \"log2_bayes_factor\", \"format\": \",.4f\", \"title\": \"Match weight = log2(m/u)\", \"type\": \"quantitative\"}], \"x\": {\"axis\": {\"title\": \"Proportion of record comparisons\"}, \"field\": \"u_probability\", \"type\": \"quantitative\"}, \"y\": {\"axis\": {\"title\": null}, \"field\": \"label_for_charts\", \"sort\": {\"field\": \"comparison_vector_value\", \"order\": \"descending\"}, \"type\": \"nominal\"}}, \"height\": {\"step\": 12}, \"resolve\": {\"scale\": {\"y\": \"independent\"}}, \"title\": {\"text\": \"Amongst non-matching record comparisons:\", \"fontSize\": 12, \"fontWeight\": \"bold\"}, \"transform\": [{\"filter\": \"(datum.bayes_factor != 'no-op filter2 due to vega lite issue 4680')\"}], \"width\": 150}], \"data\": {\"name\": \"data-f1496ec4766b0d8b1a63a0519aa3d85c\"}, \"title\": {\"text\": \"Proportion of record comparisons in each comparison level by match status\", \"subtitle\": \"(m and u probabilities)\"}, \"$schema\": \"https://vega.github.io/schema/vega-lite/v5.9.3.json\", \"datasets\": {\"data-f1496ec4766b0d8b1a63a0519aa3d85c\": [{\"comparison_name\": \"first_name_15\", \"sql_condition\": \"\\\"first_name_15_l\\\" = \\\"first_name_15_r\\\"\", \"label_for_charts\": \"Exact match\", \"m_probability\": 0.8416861919385656, \"u_probability\": 0.001979336595976074, \"m_probability_description\": \"Amongst matching record comparisons, 84.17% of records are in the exact match comparison level\", \"u_probability_description\": \"Amongst non-matching record comparisons, 0.20% of records are in the exact match comparison level\", \"has_tf_adjustments\": false, \"tf_adjustment_column\": null, \"tf_adjustment_weight\": 1.0, \"is_null_level\": false, \"bayes_factor\": 425.2365129052259, \"log2_bayes_factor\": 8.732121668877232, \"comparison_vector_value\": 2, \"max_comparison_vector_value\": 2, \"bayes_factor_description\": \"If comparison level is `exact match` then comparison is 425.24 times more likely to be a match\", \"probability_two_random_records_match\": 1.422530664692062e-05, \"comparison_sort_order\": 0}, {\"comparison_name\": \"first_name_15\", \"sql_condition\": \"jaro_winkler_similarity(\\\"first_name_15_l\\\", \\\"first_name_15_r\\\") >= 0.8333333333333334\", \"label_for_charts\": \"Jaro_winkler_similarity >= 0.8333333333333334\", \"m_probability\": 0.09176978543873936, \"u_probability\": 0.003417014077699233, \"m_probability_description\": \"Amongst matching record comparisons, 9.18% of records are in the jaro_winkler_similarity >= 0.8333333333333334 comparison level\", \"u_probability_description\": \"Amongst non-matching record comparisons, 0.34% of records are in the jaro_winkler_similarity >= 0.8333333333333334 comparison level\", \"has_tf_adjustments\": false, \"tf_adjustment_column\": null, \"tf_adjustment_weight\": 1.0, \"is_null_level\": false, \"bayes_factor\": 26.85671857124171, \"log2_bayes_factor\": 4.7472111379178825, \"comparison_vector_value\": 1, \"max_comparison_vector_value\": 2, \"bayes_factor_description\": \"If comparison level is `jaro_winkler_similarity >= 0.8333333333333334` then comparison is 26.86 times more likely to be a match\", \"probability_two_random_records_match\": 1.422530664692062e-05, \"comparison_sort_order\": 0}, {\"comparison_name\": \"first_name_15\", \"sql_condition\": \"ELSE\", \"label_for_charts\": \"All other comparisons\", \"m_probability\": 0.06654402262269513, \"u_probability\": 0.9946036493263247, \"m_probability_description\": \"Amongst matching record comparisons, 6.65% of records are in the all other comparisons comparison level\", \"u_probability_description\": \"Amongst non-matching record comparisons, 99.46% of records are in the all other comparisons comparison level\", \"has_tf_adjustments\": false, \"tf_adjustment_column\": null, \"tf_adjustment_weight\": 1.0, \"is_null_level\": false, \"bayes_factor\": 0.06690506581970357, \"log2_bayes_factor\": -3.901740738903911, \"comparison_vector_value\": 0, \"max_comparison_vector_value\": 2, \"bayes_factor_description\": \"If comparison level is `all other comparisons` then comparison is  14.95 times less likely to be a match\", \"probability_two_random_records_match\": 1.422530664692062e-05, \"comparison_sort_order\": 0}, {\"comparison_name\": \"last_name_12\", \"sql_condition\": \"\\\"last_name_12_l\\\" = \\\"last_name_12_r\\\"\", \"label_for_charts\": \"Exact match\", \"m_probability\": 0.8607988022199504, \"u_probability\": 0.0007093232453578939, \"m_probability_description\": \"Amongst matching record comparisons, 86.08% of records are in the exact match comparison level\", \"u_probability_description\": \"Amongst non-matching record comparisons, 0.07% of records are in the exact match comparison level\", \"has_tf_adjustments\": false, \"tf_adjustment_column\": null, \"tf_adjustment_weight\": 1.0, \"is_null_level\": false, \"bayes_factor\": 1213.5494048071532, \"log2_bayes_factor\": 10.245017127901358, \"comparison_vector_value\": 2, \"max_comparison_vector_value\": 2, \"bayes_factor_description\": \"If comparison level is `exact match` then comparison is 1,213.55 times more likely to be a match\", \"probability_two_random_records_match\": 1.422530664692062e-05, \"comparison_sort_order\": 1}, {\"comparison_name\": \"last_name_12\", \"sql_condition\": \"jaro_winkler_similarity(\\\"last_name_12_l\\\", \\\"last_name_12_r\\\") >= 0.8333333333333334\", \"label_for_charts\": \"Jaro_winkler_similarity >= 0.8333333333333334\", \"m_probability\": 0.08862430552434403, \"u_probability\": 0.001329943668219914, \"m_probability_description\": \"Amongst matching record comparisons, 8.86% of records are in the jaro_winkler_similarity >= 0.8333333333333334 comparison level\", \"u_probability_description\": \"Amongst non-matching record comparisons, 0.13% of records are in the jaro_winkler_similarity >= 0.8333333333333334 comparison level\", \"has_tf_adjustments\": false, \"tf_adjustment_column\": null, \"tf_adjustment_weight\": 1.0, \"is_null_level\": false, \"bayes_factor\": 66.63763860236634, \"log2_bayes_factor\": 6.0582653725863675, \"comparison_vector_value\": 1, \"max_comparison_vector_value\": 2, \"bayes_factor_description\": \"If comparison level is `jaro_winkler_similarity >= 0.8333333333333334` then comparison is 66.64 times more likely to be a match\", \"probability_two_random_records_match\": 1.422530664692062e-05, \"comparison_sort_order\": 1}, {\"comparison_name\": \"last_name_12\", \"sql_condition\": \"ELSE\", \"label_for_charts\": \"All other comparisons\", \"m_probability\": 0.05057689225570559, \"u_probability\": 0.9979607330864222, \"m_probability_description\": \"Amongst matching record comparisons, 5.06% of records are in the all other comparisons comparison level\", \"u_probability_description\": \"Amongst non-matching record comparisons, 99.80% of records are in the all other comparisons comparison level\", \"has_tf_adjustments\": false, \"tf_adjustment_column\": null, \"tf_adjustment_weight\": 1.0, \"is_null_level\": false, \"bayes_factor\": 0.05068024279801567, \"log2_bayes_factor\": -4.302432753641423, \"comparison_vector_value\": 0, \"max_comparison_vector_value\": 2, \"bayes_factor_description\": \"If comparison level is `all other comparisons` then comparison is  19.73 times less likely to be a match\", \"probability_two_random_records_match\": 1.422530664692062e-05, \"comparison_sort_order\": 1}, {\"comparison_name\": \"middle_initial\", \"sql_condition\": \"\\\"middle_initial_l\\\" = \\\"middle_initial_r\\\"\", \"label_for_charts\": \"Exact match\", \"m_probability\": 0.9308986179634928, \"u_probability\": 0.07410500870140878, \"m_probability_description\": \"Amongst matching record comparisons, 93.09% of records are in the exact match comparison level\", \"u_probability_description\": \"Amongst non-matching record comparisons, 7.41% of records are in the exact match comparison level\", \"has_tf_adjustments\": false, \"tf_adjustment_column\": null, \"tf_adjustment_weight\": 1.0, \"is_null_level\": false, \"bayes_factor\": 12.561885279770515, \"log2_bayes_factor\": 3.6509810941221716, \"comparison_vector_value\": 1, \"max_comparison_vector_value\": 1, \"bayes_factor_description\": \"If comparison level is `exact match` then comparison is 12.56 times more likely to be a match\", \"probability_two_random_records_match\": 1.422530664692062e-05, \"comparison_sort_order\": 2}, {\"comparison_name\": \"middle_initial\", \"sql_condition\": \"ELSE\", \"label_for_charts\": \"All other comparisons\", \"m_probability\": 0.06910138203650706, \"u_probability\": 0.9258949912985912, \"m_probability_description\": \"Amongst matching record comparisons, 6.91% of records are in the all other comparisons comparison level\", \"u_probability_description\": \"Amongst non-matching record comparisons, 92.59% of records are in the all other comparisons comparison level\", \"has_tf_adjustments\": false, \"tf_adjustment_column\": null, \"tf_adjustment_weight\": 1.0, \"is_null_level\": false, \"bayes_factor\": 0.07463198600911602, \"log2_bayes_factor\": -3.7440621120206714, \"comparison_vector_value\": 0, \"max_comparison_vector_value\": 1, \"bayes_factor_description\": \"If comparison level is `all other comparisons` then comparison is  13.40 times less likely to be a match\", \"probability_two_random_records_match\": 1.422530664692062e-05, \"comparison_sort_order\": 2}, {\"comparison_name\": \"day_of_birth\", \"sql_condition\": \"\\\"day_of_birth_l\\\" = \\\"day_of_birth_r\\\"\", \"label_for_charts\": \"Exact match\", \"m_probability\": 0.9534837054622358, \"u_probability\": 0.03243028785148898, \"m_probability_description\": \"Amongst matching record comparisons, 95.35% of records are in the exact match comparison level\", \"u_probability_description\": \"Amongst non-matching record comparisons, 3.24% of records are in the exact match comparison level\", \"has_tf_adjustments\": false, \"tf_adjustment_column\": null, \"tf_adjustment_weight\": 1.0, \"is_null_level\": false, \"bayes_factor\": 29.4010250488251, \"log2_bayes_factor\": 4.877794549509446, \"comparison_vector_value\": 2, \"max_comparison_vector_value\": 2, \"bayes_factor_description\": \"If comparison level is `exact match` then comparison is 29.40 times more likely to be a match\", \"probability_two_random_records_match\": 1.422530664692062e-05, \"comparison_sort_order\": 3}, {\"comparison_name\": \"day_of_birth\", \"sql_condition\": \"abs(day_of_birth_l - day_of_birth_r) <= 5\", \"label_for_charts\": \"Inexact match\", \"m_probability\": 0.021748448058260702, \"u_probability\": 0.295173345919013, \"m_probability_description\": \"Amongst matching record comparisons, 2.17% of records are in the inexact match comparison level\", \"u_probability_description\": \"Amongst non-matching record comparisons, 29.52% of records are in the inexact match comparison level\", \"has_tf_adjustments\": false, \"tf_adjustment_column\": null, \"tf_adjustment_weight\": 1.0, \"is_null_level\": false, \"bayes_factor\": 0.07368025724188472, \"log2_bayes_factor\": -3.762578091416275, \"comparison_vector_value\": 1, \"max_comparison_vector_value\": 2, \"bayes_factor_description\": \"If comparison level is `inexact match` then comparison is  13.57 times less likely to be a match\", \"probability_two_random_records_match\": 1.422530664692062e-05, \"comparison_sort_order\": 3}, {\"comparison_name\": \"day_of_birth\", \"sql_condition\": \"ELSE\", \"label_for_charts\": \"All other comparisons\", \"m_probability\": 0.024767846479503475, \"u_probability\": 0.672396366229498, \"m_probability_description\": \"Amongst matching record comparisons, 2.48% of records are in the all other comparisons comparison level\", \"u_probability_description\": \"Amongst non-matching record comparisons, 67.24% of records are in the all other comparisons comparison level\", \"has_tf_adjustments\": false, \"tf_adjustment_column\": null, \"tf_adjustment_weight\": 1.0, \"is_null_level\": false, \"bayes_factor\": 0.036835187879420916, \"log2_bayes_factor\": -4.762771588604766, \"comparison_vector_value\": 0, \"max_comparison_vector_value\": 2, \"bayes_factor_description\": \"If comparison level is `all other comparisons` then comparison is  27.15 times less likely to be a match\", \"probability_two_random_records_match\": 1.422530664692062e-05, \"comparison_sort_order\": 3}, {\"comparison_name\": \"month_of_birth\", \"sql_condition\": \"\\\"month_of_birth_l\\\" = \\\"month_of_birth_r\\\"\", \"label_for_charts\": \"Exact match\", \"m_probability\": 0.964399883021366, \"u_probability\": 0.08355145831969693, \"m_probability_description\": \"Amongst matching record comparisons, 96.44% of records are in the exact match comparison level\", \"u_probability_description\": \"Amongst non-matching record comparisons, 8.36% of records are in the exact match comparison level\", \"has_tf_adjustments\": false, \"tf_adjustment_column\": null, \"tf_adjustment_weight\": 1.0, \"is_null_level\": false, \"bayes_factor\": 11.542585879605317, \"log2_bayes_factor\": 3.5288945613114437, \"comparison_vector_value\": 2, \"max_comparison_vector_value\": 2, \"bayes_factor_description\": \"If comparison level is `exact match` then comparison is 11.54 times more likely to be a match\", \"probability_two_random_records_match\": 1.422530664692062e-05, \"comparison_sort_order\": 4}, {\"comparison_name\": \"month_of_birth\", \"sql_condition\": \"abs(month_of_birth_l - month_of_birth_r) <= 3\", \"label_for_charts\": \"Inexact match\", \"m_probability\": 0.017592426880565275, \"u_probability\": 0.4143133397869391, \"m_probability_description\": \"Amongst matching record comparisons, 1.76% of records are in the inexact match comparison level\", \"u_probability_description\": \"Amongst non-matching record comparisons, 41.43% of records are in the inexact match comparison level\", \"has_tf_adjustments\": false, \"tf_adjustment_column\": null, \"tf_adjustment_weight\": 1.0, \"is_null_level\": false, \"bayes_factor\": 0.04246164723929041, \"log2_bayes_factor\": -4.557695850140971, \"comparison_vector_value\": 1, \"max_comparison_vector_value\": 2, \"bayes_factor_description\": \"If comparison level is `inexact match` then comparison is  23.55 times less likely to be a match\", \"probability_two_random_records_match\": 1.422530664692062e-05, \"comparison_sort_order\": 4}, {\"comparison_name\": \"month_of_birth\", \"sql_condition\": \"ELSE\", \"label_for_charts\": \"All other comparisons\", \"m_probability\": 0.018007690098068702, \"u_probability\": 0.5021352018933639, \"m_probability_description\": \"Amongst matching record comparisons, 1.80% of records are in the all other comparisons comparison level\", \"u_probability_description\": \"Amongst non-matching record comparisons, 50.21% of records are in the all other comparisons comparison level\", \"has_tf_adjustments\": false, \"tf_adjustment_column\": null, \"tf_adjustment_weight\": 1.0, \"is_null_level\": false, \"bayes_factor\": 0.03586223397636422, \"log2_bayes_factor\": -4.801390828555719, \"comparison_vector_value\": 0, \"max_comparison_vector_value\": 2, \"bayes_factor_description\": \"If comparison level is `all other comparisons` then comparison is  27.88 times less likely to be a match\", \"probability_two_random_records_match\": 1.422530664692062e-05, \"comparison_sort_order\": 4}, {\"comparison_name\": \"year_of_birth\", \"sql_condition\": \"\\\"year_of_birth_l\\\" = \\\"year_of_birth_r\\\"\", \"label_for_charts\": \"Exact match\", \"m_probability\": 0.9485204096023461, \"u_probability\": 0.011125465216557518, \"m_probability_description\": \"Amongst matching record comparisons, 94.85% of records are in the exact match comparison level\", \"u_probability_description\": \"Amongst non-matching record comparisons, 1.11% of records are in the exact match comparison level\", \"has_tf_adjustments\": false, \"tf_adjustment_column\": null, \"tf_adjustment_weight\": 1.0, \"is_null_level\": false, \"bayes_factor\": 85.25669633937706, \"log2_bayes_factor\": 6.4137412474547535, \"comparison_vector_value\": 2, \"max_comparison_vector_value\": 2, \"bayes_factor_description\": \"If comparison level is `exact match` then comparison is 85.26 times more likely to be a match\", \"probability_two_random_records_match\": 1.422530664692062e-05, \"comparison_sort_order\": 5}, {\"comparison_name\": \"year_of_birth\", \"sql_condition\": \"abs(year_of_birth_l - year_of_birth_r) <= 5\", \"label_for_charts\": \"Inexact match\", \"m_probability\": 0.014573464495497505, \"u_probability\": 0.11053660239472413, \"m_probability_description\": \"Amongst matching record comparisons, 1.46% of records are in the inexact match comparison level\", \"u_probability_description\": \"Amongst non-matching record comparisons, 11.05% of records are in the inexact match comparison level\", \"has_tf_adjustments\": false, \"tf_adjustment_column\": null, \"tf_adjustment_weight\": 1.0, \"is_null_level\": false, \"bayes_factor\": 0.13184288443619732, \"log2_bayes_factor\": -2.9231083838716416, \"comparison_vector_value\": 1, \"max_comparison_vector_value\": 2, \"bayes_factor_description\": \"If comparison level is `inexact match` then comparison is  7.58 times less likely to be a match\", \"probability_two_random_records_match\": 1.422530664692062e-05, \"comparison_sort_order\": 5}, {\"comparison_name\": \"year_of_birth\", \"sql_condition\": \"ELSE\", \"label_for_charts\": \"All other comparisons\", \"m_probability\": 0.03690612590215632, \"u_probability\": 0.8783379323887184, \"m_probability_description\": \"Amongst matching record comparisons, 3.69% of records are in the all other comparisons comparison level\", \"u_probability_description\": \"Amongst non-matching record comparisons, 87.83% of records are in the all other comparisons comparison level\", \"has_tf_adjustments\": false, \"tf_adjustment_column\": null, \"tf_adjustment_weight\": 1.0, \"is_null_level\": false, \"bayes_factor\": 0.04201813964903783, \"log2_bayes_factor\": -4.572843901598172, \"comparison_vector_value\": 0, \"max_comparison_vector_value\": 2, \"bayes_factor_description\": \"If comparison level is `all other comparisons` then comparison is  23.80 times less likely to be a match\", \"probability_two_random_records_match\": 1.422530664692062e-05, \"comparison_sort_order\": 5}, {\"comparison_name\": \"street_number\", \"sql_condition\": \"\\\"street_number_l\\\" = \\\"street_number_r\\\"\", \"label_for_charts\": \"Exact match\", \"m_probability\": 0.7701372210011184, \"u_probability\": 0.004643745865751094, \"m_probability_description\": \"Amongst matching record comparisons, 77.01% of records are in the exact match comparison level\", \"u_probability_description\": \"Amongst non-matching record comparisons, 0.46% of records are in the exact match comparison level\", \"has_tf_adjustments\": false, \"tf_adjustment_column\": null, \"tf_adjustment_weight\": 1.0, \"is_null_level\": false, \"bayes_factor\": 165.84396374510771, \"log2_bayes_factor\": 7.37368269280522, \"comparison_vector_value\": 2, \"max_comparison_vector_value\": 2, \"bayes_factor_description\": \"If comparison level is `exact match` then comparison is 165.84 times more likely to be a match\", \"probability_two_random_records_match\": 1.422530664692062e-05, \"comparison_sort_order\": 6}, {\"comparison_name\": \"street_number\", \"sql_condition\": \"jaro_winkler_similarity(\\\"street_number_l\\\", \\\"street_number_r\\\") >= 0.8333333333333334\", \"label_for_charts\": \"Jaro_winkler_similarity >= 0.8333333333333334\", \"m_probability\": 0.06508623934540961, \"u_probability\": 0.012708549889228378, \"m_probability_description\": \"Amongst matching record comparisons, 6.51% of records are in the jaro_winkler_similarity >= 0.8333333333333334 comparison level\", \"u_probability_description\": \"Amongst non-matching record comparisons, 1.27% of records are in the jaro_winkler_similarity >= 0.8333333333333334 comparison level\", \"has_tf_adjustments\": false, \"tf_adjustment_column\": null, \"tf_adjustment_weight\": 1.0, \"is_null_level\": false, \"bayes_factor\": 5.121452873279898, \"log2_bayes_factor\": 2.356553137518179, \"comparison_vector_value\": 1, \"max_comparison_vector_value\": 2, \"bayes_factor_description\": \"If comparison level is `jaro_winkler_similarity >= 0.8333333333333334` then comparison is 5.12 times more likely to be a match\", \"probability_two_random_records_match\": 1.422530664692062e-05, \"comparison_sort_order\": 6}, {\"comparison_name\": \"street_number\", \"sql_condition\": \"ELSE\", \"label_for_charts\": \"All other comparisons\", \"m_probability\": 0.16477653965347197, \"u_probability\": 0.9826477042450206, \"m_probability_description\": \"Amongst matching record comparisons, 16.48% of records are in the all other comparisons comparison level\", \"u_probability_description\": \"Amongst non-matching record comparisons, 98.26% of records are in the all other comparisons comparison level\", \"has_tf_adjustments\": false, \"tf_adjustment_column\": null, \"tf_adjustment_weight\": 1.0, \"is_null_level\": false, \"bayes_factor\": 0.1676862816059512, \"log2_bayes_factor\": -2.576163427861129, \"comparison_vector_value\": 0, \"max_comparison_vector_value\": 2, \"bayes_factor_description\": \"If comparison level is `all other comparisons` then comparison is  5.96 times less likely to be a match\", \"probability_two_random_records_match\": 1.422530664692062e-05, \"comparison_sort_order\": 6}, {\"comparison_name\": \"street_name\", \"sql_condition\": \"\\\"street_name_l\\\" = \\\"street_name_r\\\"\", \"label_for_charts\": \"Exact match\", \"m_probability\": 0.7568117283462769, \"u_probability\": 0.0036909475444507293, \"m_probability_description\": \"Amongst matching record comparisons, 75.68% of records are in the exact match comparison level\", \"u_probability_description\": \"Amongst non-matching record comparisons, 0.37% of records are in the exact match comparison level\", \"has_tf_adjustments\": false, \"tf_adjustment_column\": null, \"tf_adjustment_weight\": 1.0, \"is_null_level\": false, \"bayes_factor\": 205.0453763516984, \"log2_bayes_factor\": 7.679799401912504, \"comparison_vector_value\": 2, \"max_comparison_vector_value\": 2, \"bayes_factor_description\": \"If comparison level is `exact match` then comparison is 205.05 times more likely to be a match\", \"probability_two_random_records_match\": 1.422530664692062e-05, \"comparison_sort_order\": 7}, {\"comparison_name\": \"street_name\", \"sql_condition\": \"jaro_winkler_similarity(\\\"street_name_l\\\", \\\"street_name_r\\\") >= 0.8333333333333334\", \"label_for_charts\": \"Jaro_winkler_similarity >= 0.8333333333333334\", \"m_probability\": 0.10663234356233692, \"u_probability\": 0.0018843912156014068, \"m_probability_description\": \"Amongst matching record comparisons, 10.66% of records are in the jaro_winkler_similarity >= 0.8333333333333334 comparison level\", \"u_probability_description\": \"Amongst non-matching record comparisons, 0.19% of records are in the jaro_winkler_similarity >= 0.8333333333333334 comparison level\", \"has_tf_adjustments\": false, \"tf_adjustment_column\": null, \"tf_adjustment_weight\": 1.0, \"is_null_level\": false, \"bayes_factor\": 56.58715805905783, \"log2_bayes_factor\": 5.822402778569586, \"comparison_vector_value\": 1, \"max_comparison_vector_value\": 2, \"bayes_factor_description\": \"If comparison level is `jaro_winkler_similarity >= 0.8333333333333334` then comparison is 56.59 times more likely to be a match\", \"probability_two_random_records_match\": 1.422530664692062e-05, \"comparison_sort_order\": 7}, {\"comparison_name\": \"street_name\", \"sql_condition\": \"ELSE\", \"label_for_charts\": \"All other comparisons\", \"m_probability\": 0.1365559280913863, \"u_probability\": 0.9944246612399479, \"m_probability_description\": \"Amongst matching record comparisons, 13.66% of records are in the all other comparisons comparison level\", \"u_probability_description\": \"Amongst non-matching record comparisons, 99.44% of records are in the all other comparisons comparison level\", \"has_tf_adjustments\": false, \"tf_adjustment_column\": null, \"tf_adjustment_weight\": 1.0, \"is_null_level\": false, \"bayes_factor\": 0.1373215422082501, \"log2_bayes_factor\": -2.8643701300057662, \"comparison_vector_value\": 0, \"max_comparison_vector_value\": 2, \"bayes_factor_description\": \"If comparison level is `all other comparisons` then comparison is  7.28 times less likely to be a match\", \"probability_two_random_records_match\": 1.422530664692062e-05, \"comparison_sort_order\": 7}, {\"comparison_name\": \"unit_number\", \"sql_condition\": \"\\\"unit_number_l\\\" = \\\"unit_number_r\\\"\", \"label_for_charts\": \"Exact match\", \"m_probability\": 0.9101622984706301, \"u_probability\": 0.005427064313248123, \"m_probability_description\": \"Amongst matching record comparisons, 91.02% of records are in the exact match comparison level\", \"u_probability_description\": \"Amongst non-matching record comparisons, 0.54% of records are in the exact match comparison level\", \"has_tf_adjustments\": false, \"tf_adjustment_column\": null, \"tf_adjustment_weight\": 1.0, \"is_null_level\": false, \"bayes_factor\": 167.70803623034527, \"log2_bayes_factor\": 7.389808011365629, \"comparison_vector_value\": 2, \"max_comparison_vector_value\": 2, \"bayes_factor_description\": \"If comparison level is `exact match` then comparison is 167.71 times more likely to be a match\", \"probability_two_random_records_match\": 1.422530664692062e-05, \"comparison_sort_order\": 8}, {\"comparison_name\": \"unit_number\", \"sql_condition\": \"jaro_winkler_similarity(\\\"unit_number_l\\\", \\\"unit_number_r\\\") >= 0.8333333333333334\", \"label_for_charts\": \"Jaro_winkler_similarity >= 0.8333333333333334\", \"m_probability\": 0.0838274932577231, \"u_probability\": 0.08399269628727937, \"m_probability_description\": \"Amongst matching record comparisons, 8.38% of records are in the jaro_winkler_similarity >= 0.8333333333333334 comparison level\", \"u_probability_description\": \"Amongst non-matching record comparisons, 8.40% of records are in the jaro_winkler_similarity >= 0.8333333333333334 comparison level\", \"has_tf_adjustments\": false, \"tf_adjustment_column\": null, \"tf_adjustment_weight\": 1.0, \"is_null_level\": false, \"bayes_factor\": 0.9980331262495582, \"log2_bayes_factor\": -0.002840393269894094, \"comparison_vector_value\": 1, \"max_comparison_vector_value\": 2, \"bayes_factor_description\": \"If comparison level is `jaro_winkler_similarity >= 0.8333333333333334` then comparison is  1.00 times less likely to be a match\", \"probability_two_random_records_match\": 1.422530664692062e-05, \"comparison_sort_order\": 8}, {\"comparison_name\": \"unit_number\", \"sql_condition\": \"ELSE\", \"label_for_charts\": \"All other comparisons\", \"m_probability\": 0.00601020827164681, \"u_probability\": 0.9105802393994725, \"m_probability_description\": \"Amongst matching record comparisons, 0.60% of records are in the all other comparisons comparison level\", \"u_probability_description\": \"Amongst non-matching record comparisons, 91.06% of records are in the all other comparisons comparison level\", \"has_tf_adjustments\": false, \"tf_adjustment_column\": null, \"tf_adjustment_weight\": 1.0, \"is_null_level\": false, \"bayes_factor\": 0.006600415879451261, \"log2_bayes_factor\": -7.243227355900158, \"comparison_vector_value\": 0, \"max_comparison_vector_value\": 2, \"bayes_factor_description\": \"If comparison level is `all other comparisons` then comparison is  151.51 times less likely to be a match\", \"probability_two_random_records_match\": 1.422530664692062e-05, \"comparison_sort_order\": 8}, {\"comparison_name\": \"zipcode\", \"sql_condition\": \"\\\"zipcode_l\\\" = \\\"zipcode_r\\\"\", \"label_for_charts\": \"Exact match\", \"m_probability\": 0.9339456689857046, \"u_probability\": 0.9441587509332844, \"m_probability_description\": \"Amongst matching record comparisons, 93.39% of records are in the exact match comparison level\", \"u_probability_description\": \"Amongst non-matching record comparisons, 94.42% of records are in the exact match comparison level\", \"has_tf_adjustments\": false, \"tf_adjustment_column\": null, \"tf_adjustment_weight\": 1.0, \"is_null_level\": false, \"bayes_factor\": 0.9891828763568793, \"log2_bayes_factor\": -0.01569082928894631, \"comparison_vector_value\": 2, \"max_comparison_vector_value\": 2, \"bayes_factor_description\": \"If comparison level is `exact match` then comparison is  1.01 times less likely to be a match\", \"probability_two_random_records_match\": 1.422530664692062e-05, \"comparison_sort_order\": 9}, {\"comparison_name\": \"zipcode\", \"sql_condition\": \"jaro_winkler_similarity(\\\"zipcode_l\\\", \\\"zipcode_r\\\") >= 0.8333333333333334\", \"label_for_charts\": \"Jaro_winkler_similarity >= 0.8333333333333334\", \"m_probability\": 0.048387653424830195, \"u_probability\": 0.041136656606251085, \"m_probability_description\": \"Amongst matching record comparisons, 4.84% of records are in the jaro_winkler_similarity >= 0.8333333333333334 comparison level\", \"u_probability_description\": \"Amongst non-matching record comparisons, 4.11% of records are in the jaro_winkler_similarity >= 0.8333333333333334 comparison level\", \"has_tf_adjustments\": false, \"tf_adjustment_column\": null, \"tf_adjustment_weight\": 1.0, \"is_null_level\": false, \"bayes_factor\": 1.1762660706236698, \"log2_bayes_factor\": 0.2342144337726773, \"comparison_vector_value\": 1, \"max_comparison_vector_value\": 2, \"bayes_factor_description\": \"If comparison level is `jaro_winkler_similarity >= 0.8333333333333334` then comparison is 1.18 times more likely to be a match\", \"probability_two_random_records_match\": 1.422530664692062e-05, \"comparison_sort_order\": 9}, {\"comparison_name\": \"zipcode\", \"sql_condition\": \"ELSE\", \"label_for_charts\": \"All other comparisons\", \"m_probability\": 0.017666677589465205, \"u_probability\": 0.014704592460464516, \"m_probability_description\": \"Amongst matching record comparisons, 1.77% of records are in the all other comparisons comparison level\", \"u_probability_description\": \"Amongst non-matching record comparisons, 1.47% of records are in the all other comparisons comparison level\", \"has_tf_adjustments\": false, \"tf_adjustment_column\": null, \"tf_adjustment_weight\": 1.0, \"is_null_level\": false, \"bayes_factor\": 1.2014394575684226, \"log2_bayes_factor\": 0.26476395061803243, \"comparison_vector_value\": 0, \"max_comparison_vector_value\": 2, \"bayes_factor_description\": \"If comparison level is `all other comparisons` then comparison is 1.20 times more likely to be a match\", \"probability_two_random_records_match\": 1.422530664692062e-05, \"comparison_sort_order\": 9}]}}, {\"mode\": \"vega-lite\"});\n",
       "</script>"
      ],
      "text/plain": [
       "alt.HConcatChart(...)"
      ]
     },
     "execution_count": 44,
     "metadata": {},
     "output_type": "execute_result"
    }
   ],
   "source": [
    "linker.m_u_parameters_chart()"
   ]
  },
  {
   "cell_type": "code",
   "execution_count": 45,
   "id": "57bc79f6-2c8b-4e65-88f9-b91d94d19f77",
   "metadata": {
    "execution": {
     "iopub.execute_input": "2023-12-01T17:58:10.461085Z",
     "iopub.status.busy": "2023-12-01T17:58:10.460796Z",
     "iopub.status.idle": "2023-12-01T17:58:11.276330Z",
     "shell.execute_reply": "2023-12-01T17:58:11.275803Z"
    },
    "papermill": {
     "duration": 0.841463,
     "end_time": "2023-12-01T17:58:11.277449",
     "exception": false,
     "start_time": "2023-12-01T17:58:10.435986",
     "status": "completed"
    },
    "tags": []
   },
   "outputs": [
    {
     "data": {
      "text/html": [
       "\n",
       "<style>\n",
       "  #altair-viz-20edc8f841b8429f85fccb712283b39b.vega-embed {\n",
       "    width: 100%;\n",
       "    display: flex;\n",
       "  }\n",
       "\n",
       "  #altair-viz-20edc8f841b8429f85fccb712283b39b.vega-embed details,\n",
       "  #altair-viz-20edc8f841b8429f85fccb712283b39b.vega-embed details summary {\n",
       "    position: relative;\n",
       "  }\n",
       "</style>\n",
       "<div id=\"altair-viz-20edc8f841b8429f85fccb712283b39b\"></div>\n",
       "<script type=\"text/javascript\">\n",
       "  var VEGA_DEBUG = (typeof VEGA_DEBUG == \"undefined\") ? {} : VEGA_DEBUG;\n",
       "  (function(spec, embedOpt){\n",
       "    let outputDiv = document.currentScript.previousElementSibling;\n",
       "    if (outputDiv.id !== \"altair-viz-20edc8f841b8429f85fccb712283b39b\") {\n",
       "      outputDiv = document.getElementById(\"altair-viz-20edc8f841b8429f85fccb712283b39b\");\n",
       "    }\n",
       "    const paths = {\n",
       "      \"vega\": \"https://cdn.jsdelivr.net/npm/vega@5?noext\",\n",
       "      \"vega-lib\": \"https://cdn.jsdelivr.net/npm/vega-lib?noext\",\n",
       "      \"vega-lite\": \"https://cdn.jsdelivr.net/npm/vega-lite@5.15.1?noext\",\n",
       "      \"vega-embed\": \"https://cdn.jsdelivr.net/npm/vega-embed@6?noext\",\n",
       "    };\n",
       "\n",
       "    function maybeLoadScript(lib, version) {\n",
       "      var key = `${lib.replace(\"-\", \"\")}_version`;\n",
       "      return (VEGA_DEBUG[key] == version) ?\n",
       "        Promise.resolve(paths[lib]) :\n",
       "        new Promise(function(resolve, reject) {\n",
       "          var s = document.createElement('script');\n",
       "          document.getElementsByTagName(\"head\")[0].appendChild(s);\n",
       "          s.async = true;\n",
       "          s.onload = () => {\n",
       "            VEGA_DEBUG[key] = version;\n",
       "            return resolve(paths[lib]);\n",
       "          };\n",
       "          s.onerror = () => reject(`Error loading script: ${paths[lib]}`);\n",
       "          s.src = paths[lib];\n",
       "        });\n",
       "    }\n",
       "\n",
       "    function showError(err) {\n",
       "      outputDiv.innerHTML = `<div class=\"error\" style=\"color:red;\">${err}</div>`;\n",
       "      throw err;\n",
       "    }\n",
       "\n",
       "    function displayChart(vegaEmbed) {\n",
       "      vegaEmbed(outputDiv, spec, embedOpt)\n",
       "        .catch(err => showError(`Javascript Error: ${err.message}<br>This usually means there's a typo in your chart specification. See the javascript console for the full traceback.`));\n",
       "    }\n",
       "\n",
       "    if(typeof define === \"function\" && define.amd) {\n",
       "      requirejs.config({paths});\n",
       "      require([\"vega-embed\"], displayChart, err => showError(`Error loading script: ${err.message}`));\n",
       "    } else {\n",
       "      maybeLoadScript(\"vega\", \"5\")\n",
       "        .then(() => maybeLoadScript(\"vega-lite\", \"5.15.1\"))\n",
       "        .then(() => maybeLoadScript(\"vega-embed\", \"6\"))\n",
       "        .catch(showError)\n",
       "        .then(() => displayChart(vegaEmbed));\n",
       "    }\n",
       "  })({\"config\": {\"view\": {\"continuousWidth\": 400, \"continuousHeight\": 300}, \"title\": {\"anchor\": \"middle\", \"fontSize\": 18, \"subtitleFontSize\": 14}}, \"data\": {\"name\": \"data-d2de54d6cd3bc77b05a319ffdbc2db46\"}, \"mark\": {\"type\": \"point\", \"filled\": false, \"opacity\": 0.7, \"size\": 100}, \"encoding\": {\"color\": {\"field\": \"estimate_description\", \"type\": \"nominal\"}, \"column\": {\"align\": \"each\", \"field\": \"col_header\", \"header\": {\"labelFontSize\": 14, \"labelFontWeight\": \"bold\"}, \"title\": null, \"type\": \"nominal\"}, \"row\": {\"align\": \"each\", \"field\": \"comparison_name\", \"header\": {\"labelAlign\": \"left\", \"labelAnchor\": \"middle\", \"labelAngle\": 0, \"labelFontSize\": 12, \"labelFontWeight\": \"bold\"}, \"sort\": {\"field\": \"comparison_sort_order\"}, \"title\": null, \"type\": \"nominal\"}, \"shape\": {\"field\": \"estimate_description\", \"scale\": {\"range\": [\"circle\", \"square\", \"triangle\", \"diamond\"]}, \"type\": \"nominal\"}, \"tooltip\": [{\"field\": \"comparison_name\", \"type\": \"nominal\"}, {\"field\": \"estimate_description\", \"type\": \"nominal\"}, {\"field\": \"estimated_probability\", \"type\": \"quantitative\"}], \"x\": {\"axis\": {\"gridColor\": {\"condition\": {\"test\": \"abs(datum.value / 10)  <= 1 & datum.value % 10 === 0\", \"value\": \"#aaa\"}, \"value\": \"#ddd\"}, \"gridDash\": {\"condition\": {\"test\": \"abs(datum.value / 10) == 1\", \"value\": [3]}, \"value\": null}, \"gridWidth\": {\"condition\": {\"test\": \"abs(datum.value / 10)  <= 1 & datum.value % 10 === 0\", \"value\": 2}, \"value\": 1}}, \"field\": \"estimated_probability_as_log_odds\", \"title\": \"Estimated probability as log odds\", \"type\": \"quantitative\"}, \"y\": {\"axis\": {\"grid\": true, \"title\": null}, \"field\": \"comparison_level_label\", \"sort\": {\"field\": \"comparison_vector_value\", \"order\": \"descending\"}, \"type\": \"nominal\"}}, \"params\": [{\"name\": \"mouse_zoom\", \"select\": {\"type\": \"interval\", \"encodings\": [\"x\"]}, \"bind\": \"scales\"}], \"resolve\": {\"scale\": {\"y\": \"independent\"}}, \"title\": {\"text\": \"Comparison of parameter estimates across training sessions\", \"subtitle\": \"Use mousewheel to zoom\"}, \"transform\": [{\"calculate\": \"datum.m_or_u + '-probability (as log odds)'\", \"as\": \"col_header\"}], \"$schema\": \"https://vega.github.io/schema/vega-lite/v5.9.3.json\", \"datasets\": {\"data-d2de54d6cd3bc77b05a319ffdbc2db46\": [{\"m_or_u\": \"m\", \"estimated_probability\": 0.8416861919385656, \"estimate_description\": \"EM, blocked on: l.middle_initial = r.middle_initial and l.last_name_12 = r.last_name_12\", \"estimated_probability_as_log_odds\": 2.4104953575801975, \"sql_condition\": \"\\\"first_name_15_l\\\" = \\\"first_name_15_r\\\"\", \"comparison_level_label\": \"Exact match\", \"comparison_vector_value\": 2, \"comparison_name\": \"first_name_15\", \"comparison_sort_order\": 0}, {\"m_or_u\": \"m\", \"estimated_probability\": 0.09176978543873936, \"estimate_description\": \"EM, blocked on: l.middle_initial = r.middle_initial and l.last_name_12 = r.last_name_12\", \"estimated_probability_as_log_odds\": -3.3069668927800957, \"sql_condition\": \"jaro_winkler_similarity(\\\"first_name_15_l\\\", \\\"first_name_15_r\\\") >= 0.8333333333333334\", \"comparison_level_label\": \"Jaro_winkler_similarity >= 0.8333333333333334\", \"comparison_vector_value\": 1, \"comparison_name\": \"first_name_15\", \"comparison_sort_order\": 0}, {\"m_or_u\": \"m\", \"estimated_probability\": 0.06654402262269513, \"estimate_description\": \"EM, blocked on: l.middle_initial = r.middle_initial and l.last_name_12 = r.last_name_12\", \"estimated_probability_as_log_odds\": -3.810200999584609, \"sql_condition\": \"ELSE\", \"comparison_level_label\": \"All other comparisons\", \"comparison_vector_value\": 0, \"comparison_name\": \"first_name_15\", \"comparison_sort_order\": 0}, {\"m_or_u\": \"m\", \"estimated_probability\": 0.8607988022199504, \"estimate_description\": \"EM, blocked on: l.first_name_15 = r.first_name_15\", \"estimated_probability_as_log_odds\": 2.628504445270329, \"sql_condition\": \"\\\"last_name_12_l\\\" = \\\"last_name_12_r\\\"\", \"comparison_level_label\": \"Exact match\", \"comparison_vector_value\": 2, \"comparison_name\": \"last_name_12\", \"comparison_sort_order\": 1}, {\"m_or_u\": \"m\", \"estimated_probability\": 0.08862430552434403, \"estimate_description\": \"EM, blocked on: l.first_name_15 = r.first_name_15\", \"estimated_probability_as_log_odds\": -3.3622715734705815, \"sql_condition\": \"jaro_winkler_similarity(\\\"last_name_12_l\\\", \\\"last_name_12_r\\\") >= 0.8333333333333334\", \"comparison_level_label\": \"Jaro_winkler_similarity >= 0.8333333333333334\", \"comparison_vector_value\": 1, \"comparison_name\": \"last_name_12\", \"comparison_sort_order\": 1}, {\"m_or_u\": \"m\", \"estimated_probability\": 0.05057689225570559, \"estimate_description\": \"EM, blocked on: l.first_name_15 = r.first_name_15\", \"estimated_probability_as_log_odds\": -4.230500866451522, \"sql_condition\": \"ELSE\", \"comparison_level_label\": \"All other comparisons\", \"comparison_vector_value\": 0, \"comparison_name\": \"last_name_12\", \"comparison_sort_order\": 1}, {\"m_or_u\": \"m\", \"estimated_probability\": 0.9308986179634928, \"estimate_description\": \"EM, blocked on: l.first_name_15 = r.first_name_15\", \"estimated_probability_as_log_odds\": 3.751837585625827, \"sql_condition\": \"\\\"middle_initial_l\\\" = \\\"middle_initial_r\\\"\", \"comparison_level_label\": \"Exact match\", \"comparison_vector_value\": 1, \"comparison_name\": \"middle_initial\", \"comparison_sort_order\": 2}, {\"m_or_u\": \"m\", \"estimated_probability\": 0.06910138203650706, \"estimate_description\": \"EM, blocked on: l.first_name_15 = r.first_name_15\", \"estimated_probability_as_log_odds\": -3.7518375856258297, \"sql_condition\": \"ELSE\", \"comparison_level_label\": \"All other comparisons\", \"comparison_vector_value\": 0, \"comparison_name\": \"middle_initial\", \"comparison_sort_order\": 2}, {\"m_or_u\": \"m\", \"estimated_probability\": 0.9561054692920051, \"estimate_description\": \"EM, blocked on: l.first_name_15 = r.first_name_15\", \"estimated_probability_as_log_odds\": 4.445056677463477, \"sql_condition\": \"\\\"day_of_birth_l\\\" = \\\"day_of_birth_r\\\"\", \"comparison_level_label\": \"Exact match\", \"comparison_vector_value\": 2, \"comparison_name\": \"day_of_birth\", \"comparison_sort_order\": 3}, {\"m_or_u\": \"m\", \"estimated_probability\": 0.9508619416324665, \"estimate_description\": \"EM, blocked on: l.middle_initial = r.middle_initial and l.last_name_12 = r.last_name_12\", \"estimated_probability_as_log_odds\": 4.274323129723133, \"sql_condition\": \"\\\"day_of_birth_l\\\" = \\\"day_of_birth_r\\\"\", \"comparison_level_label\": \"Exact match\", \"comparison_vector_value\": 2, \"comparison_name\": \"day_of_birth\", \"comparison_sort_order\": 3}, {\"m_or_u\": \"m\", \"estimated_probability\": 0.021104587117653634, \"estimate_description\": \"EM, blocked on: l.first_name_15 = r.first_name_15\", \"estimated_probability_as_log_odds\": -5.535526217346078, \"sql_condition\": \"abs(day_of_birth_l - day_of_birth_r) <= 5\", \"comparison_level_label\": \"Inexact match\", \"comparison_vector_value\": 1, \"comparison_name\": \"day_of_birth\", \"comparison_sort_order\": 3}, {\"m_or_u\": \"m\", \"estimated_probability\": 0.02239230899886777, \"estimate_description\": \"EM, blocked on: l.middle_initial = r.middle_initial and l.last_name_12 = r.last_name_12\", \"estimated_probability_as_log_odds\": -5.448180429622562, \"sql_condition\": \"abs(day_of_birth_l - day_of_birth_r) <= 5\", \"comparison_level_label\": \"Inexact match\", \"comparison_vector_value\": 1, \"comparison_name\": \"day_of_birth\", \"comparison_sort_order\": 3}, {\"m_or_u\": \"m\", \"estimated_probability\": 0.022789943590341227, \"estimate_description\": \"EM, blocked on: l.first_name_15 = r.first_name_15\", \"estimated_probability_as_log_odds\": -5.422199451606968, \"sql_condition\": \"ELSE\", \"comparison_level_label\": \"All other comparisons\", \"comparison_vector_value\": 0, \"comparison_name\": \"day_of_birth\", \"comparison_sort_order\": 3}, {\"m_or_u\": \"m\", \"estimated_probability\": 0.026745749368665722, \"estimate_description\": \"EM, blocked on: l.middle_initial = r.middle_initial and l.last_name_12 = r.last_name_12\", \"estimated_probability_as_log_odds\": -5.185435209342693, \"sql_condition\": \"ELSE\", \"comparison_level_label\": \"All other comparisons\", \"comparison_vector_value\": 0, \"comparison_name\": \"day_of_birth\", \"comparison_sort_order\": 3}, {\"m_or_u\": \"m\", \"estimated_probability\": 0.9676622168918211, \"estimate_description\": \"EM, blocked on: l.first_name_15 = r.first_name_15\", \"estimated_probability_as_log_odds\": 4.903210847475997, \"sql_condition\": \"\\\"month_of_birth_l\\\" = \\\"month_of_birth_r\\\"\", \"comparison_level_label\": \"Exact match\", \"comparison_vector_value\": 2, \"comparison_name\": \"month_of_birth\", \"comparison_sort_order\": 4}, {\"m_or_u\": \"m\", \"estimated_probability\": 0.961137549150911, \"estimate_description\": \"EM, blocked on: l.middle_initial = r.middle_initial and l.last_name_12 = r.last_name_12\", \"estimated_probability_as_log_odds\": 4.628294118951142, \"sql_condition\": \"\\\"month_of_birth_l\\\" = \\\"month_of_birth_r\\\"\", \"comparison_level_label\": \"Exact match\", \"comparison_vector_value\": 2, \"comparison_name\": \"month_of_birth\", \"comparison_sort_order\": 4}, {\"m_or_u\": \"m\", \"estimated_probability\": 0.016076477131020117, \"estimate_description\": \"EM, blocked on: l.first_name_15 = r.first_name_15\", \"estimated_probability_as_log_odds\": -5.935522978236768, \"sql_condition\": \"abs(month_of_birth_l - month_of_birth_r) <= 3\", \"comparison_level_label\": \"Inexact match\", \"comparison_vector_value\": 1, \"comparison_name\": \"month_of_birth\", \"comparison_sort_order\": 4}, {\"m_or_u\": \"m\", \"estimated_probability\": 0.019108376630110436, \"estimate_description\": \"EM, blocked on: l.middle_initial = r.middle_initial and l.last_name_12 = r.last_name_12\", \"estimated_probability_as_log_odds\": -5.681816621805352, \"sql_condition\": \"abs(month_of_birth_l - month_of_birth_r) <= 3\", \"comparison_level_label\": \"Inexact match\", \"comparison_vector_value\": 1, \"comparison_name\": \"month_of_birth\", \"comparison_sort_order\": 4}, {\"m_or_u\": \"m\", \"estimated_probability\": 0.016261305977158844, \"estimate_description\": \"EM, blocked on: l.first_name_15 = r.first_name_15\", \"estimated_probability_as_log_odds\": -5.9187601171868485, \"sql_condition\": \"ELSE\", \"comparison_level_label\": \"All other comparisons\", \"comparison_vector_value\": 0, \"comparison_name\": \"month_of_birth\", \"comparison_sort_order\": 4}, {\"m_or_u\": \"m\", \"estimated_probability\": 0.01975407421897856, \"estimate_description\": \"EM, blocked on: l.middle_initial = r.middle_initial and l.last_name_12 = r.last_name_12\", \"estimated_probability_as_log_odds\": -5.632921599800428, \"sql_condition\": \"ELSE\", \"comparison_level_label\": \"All other comparisons\", \"comparison_vector_value\": 0, \"comparison_name\": \"month_of_birth\", \"comparison_sort_order\": 4}, {\"m_or_u\": \"m\", \"estimated_probability\": 0.9524025364153174, \"estimate_description\": \"EM, blocked on: l.first_name_15 = r.first_name_15\", \"estimated_probability_as_log_odds\": 4.322614861666189, \"sql_condition\": \"\\\"year_of_birth_l\\\" = \\\"year_of_birth_r\\\"\", \"comparison_level_label\": \"Exact match\", \"comparison_vector_value\": 2, \"comparison_name\": \"year_of_birth\", \"comparison_sort_order\": 5}, {\"m_or_u\": \"m\", \"estimated_probability\": 0.9446382827893749, \"estimate_description\": \"EM, blocked on: l.middle_initial = r.middle_initial and l.last_name_12 = r.last_name_12\", \"estimated_probability_as_log_odds\": 4.09280140559123, \"sql_condition\": \"\\\"year_of_birth_l\\\" = \\\"year_of_birth_r\\\"\", \"comparison_level_label\": \"Exact match\", \"comparison_vector_value\": 2, \"comparison_name\": \"year_of_birth\", \"comparison_sort_order\": 5}, {\"m_or_u\": \"m\", \"estimated_probability\": 0.014736428226579243, \"estimate_description\": \"EM, blocked on: l.first_name_15 = r.first_name_15\", \"estimated_probability_as_log_odds\": -6.063050921675546, \"sql_condition\": \"abs(year_of_birth_l - year_of_birth_r) <= 5\", \"comparison_level_label\": \"Inexact match\", \"comparison_vector_value\": 1, \"comparison_name\": \"year_of_birth\", \"comparison_sort_order\": 5}, {\"m_or_u\": \"m\", \"estimated_probability\": 0.014410500764415768, \"estimate_description\": \"EM, blocked on: l.middle_initial = r.middle_initial and l.last_name_12 = r.last_name_12\", \"estimated_probability_as_log_odds\": -6.095794510111112, \"sql_condition\": \"abs(year_of_birth_l - year_of_birth_r) <= 5\", \"comparison_level_label\": \"Inexact match\", \"comparison_vector_value\": 1, \"comparison_name\": \"year_of_birth\", \"comparison_sort_order\": 5}, {\"m_or_u\": \"m\", \"estimated_probability\": 0.032861035358103405, \"estimate_description\": \"EM, blocked on: l.first_name_15 = r.first_name_15\", \"estimated_probability_as_log_odds\": -4.87927335879311, \"sql_condition\": \"ELSE\", \"comparison_level_label\": \"All other comparisons\", \"comparison_vector_value\": 0, \"comparison_name\": \"year_of_birth\", \"comparison_sort_order\": 5}, {\"m_or_u\": \"m\", \"estimated_probability\": 0.04095121644620923, \"estimate_description\": \"EM, blocked on: l.middle_initial = r.middle_initial and l.last_name_12 = r.last_name_12\", \"estimated_probability_as_log_odds\": -4.549625989575113, \"sql_condition\": \"ELSE\", \"comparison_level_label\": \"All other comparisons\", \"comparison_vector_value\": 0, \"comparison_name\": \"year_of_birth\", \"comparison_sort_order\": 5}, {\"m_or_u\": \"m\", \"estimated_probability\": 0.7680456495554255, \"estimate_description\": \"EM, blocked on: l.first_name_15 = r.first_name_15\", \"estimated_probability_as_log_odds\": 1.7273511564440347, \"sql_condition\": \"\\\"street_number_l\\\" = \\\"street_number_r\\\"\", \"comparison_level_label\": \"Exact match\", \"comparison_vector_value\": 2, \"comparison_name\": \"street_number\", \"comparison_sort_order\": 6}, {\"m_or_u\": \"m\", \"estimated_probability\": 0.7722287924468113, \"estimate_description\": \"EM, blocked on: l.middle_initial = r.middle_initial and l.last_name_12 = r.last_name_12\", \"estimated_probability_as_log_odds\": 1.7614429577753505, \"sql_condition\": \"\\\"street_number_l\\\" = \\\"street_number_r\\\"\", \"comparison_level_label\": \"Exact match\", \"comparison_vector_value\": 2, \"comparison_name\": \"street_number\", \"comparison_sort_order\": 6}, {\"m_or_u\": \"m\", \"estimated_probability\": 0.06565855039131124, \"estimate_description\": \"EM, blocked on: l.first_name_15 = r.first_name_15\", \"estimated_probability_as_log_odds\": -3.830895067172951, \"sql_condition\": \"jaro_winkler_similarity(\\\"street_number_l\\\", \\\"street_number_r\\\") >= 0.8333333333333334\", \"comparison_level_label\": \"Jaro_winkler_similarity >= 0.8333333333333334\", \"comparison_vector_value\": 1, \"comparison_name\": \"street_number\", \"comparison_sort_order\": 6}, {\"m_or_u\": \"m\", \"estimated_probability\": 0.06451392829950799, \"estimate_description\": \"EM, blocked on: l.middle_initial = r.middle_initial and l.last_name_12 = r.last_name_12\", \"estimated_probability_as_log_odds\": -3.8580336022002255, \"sql_condition\": \"jaro_winkler_similarity(\\\"street_number_l\\\", \\\"street_number_r\\\") >= 0.8333333333333334\", \"comparison_level_label\": \"Jaro_winkler_similarity >= 0.8333333333333334\", \"comparison_vector_value\": 1, \"comparison_name\": \"street_number\", \"comparison_sort_order\": 6}, {\"m_or_u\": \"m\", \"estimated_probability\": 0.16629580005326322, \"estimate_description\": \"EM, blocked on: l.first_name_15 = r.first_name_15\", \"estimated_probability_as_log_odds\": -2.325783870581489, \"sql_condition\": \"ELSE\", \"comparison_level_label\": \"All other comparisons\", \"comparison_vector_value\": 0, \"comparison_name\": \"street_number\", \"comparison_sort_order\": 6}, {\"m_or_u\": \"m\", \"estimated_probability\": 0.16325727925368072, \"estimate_description\": \"EM, blocked on: l.middle_initial = r.middle_initial and l.last_name_12 = r.last_name_12\", \"estimated_probability_as_log_odds\": -2.357636775677567, \"sql_condition\": \"ELSE\", \"comparison_level_label\": \"All other comparisons\", \"comparison_vector_value\": 0, \"comparison_name\": \"street_number\", \"comparison_sort_order\": 6}, {\"m_or_u\": \"m\", \"estimated_probability\": 0.7550959781953346, \"estimate_description\": \"EM, blocked on: l.first_name_15 = r.first_name_15\", \"estimated_probability_as_log_odds\": 1.6244435671540607, \"sql_condition\": \"\\\"street_name_l\\\" = \\\"street_name_r\\\"\", \"comparison_level_label\": \"Exact match\", \"comparison_vector_value\": 2, \"comparison_name\": \"street_name\", \"comparison_sort_order\": 7}, {\"m_or_u\": \"m\", \"estimated_probability\": 0.7585274784972191, \"estimate_description\": \"EM, blocked on: l.middle_initial = r.middle_initial and l.last_name_12 = r.last_name_12\", \"estimated_probability_as_log_odds\": 1.6513424185104393, \"sql_condition\": \"\\\"street_name_l\\\" = \\\"street_name_r\\\"\", \"comparison_level_label\": \"Exact match\", \"comparison_vector_value\": 2, \"comparison_name\": \"street_name\", \"comparison_sort_order\": 7}, {\"m_or_u\": \"m\", \"estimated_probability\": 0.10689245429607572, \"estimate_description\": \"EM, blocked on: l.first_name_15 = r.first_name_15\", \"estimated_probability_as_log_odds\": -3.062673896842575, \"sql_condition\": \"jaro_winkler_similarity(\\\"street_name_l\\\", \\\"street_name_r\\\") >= 0.8333333333333334\", \"comparison_level_label\": \"Jaro_winkler_similarity >= 0.8333333333333334\", \"comparison_vector_value\": 1, \"comparison_name\": \"street_name\", \"comparison_sort_order\": 7}, {\"m_or_u\": \"m\", \"estimated_probability\": 0.1063722328285981, \"estimate_description\": \"EM, blocked on: l.middle_initial = r.middle_initial and l.last_name_12 = r.last_name_12\", \"estimated_probability_as_log_odds\": -3.070552412459928, \"sql_condition\": \"jaro_winkler_similarity(\\\"street_name_l\\\", \\\"street_name_r\\\") >= 0.8333333333333334\", \"comparison_level_label\": \"Jaro_winkler_similarity >= 0.8333333333333334\", \"comparison_vector_value\": 1, \"comparison_name\": \"street_name\", \"comparison_sort_order\": 7}, {\"m_or_u\": \"m\", \"estimated_probability\": 0.13801156750858987, \"estimate_description\": \"EM, blocked on: l.first_name_15 = r.first_name_15\", \"estimated_probability_as_log_odds\": -2.6428793168284446, \"sql_condition\": \"ELSE\", \"comparison_level_label\": \"All other comparisons\", \"comparison_vector_value\": 0, \"comparison_name\": \"street_name\", \"comparison_sort_order\": 7}, {\"m_or_u\": \"m\", \"estimated_probability\": 0.13510028867418275, \"estimate_description\": \"EM, blocked on: l.middle_initial = r.middle_initial and l.last_name_12 = r.last_name_12\", \"estimated_probability_as_log_odds\": -2.678502098700387, \"sql_condition\": \"ELSE\", \"comparison_level_label\": \"All other comparisons\", \"comparison_vector_value\": 0, \"comparison_name\": \"street_name\", \"comparison_sort_order\": 7}, {\"m_or_u\": \"m\", \"estimated_probability\": 0.9104920486392204, \"estimate_description\": \"EM, blocked on: l.first_name_15 = r.first_name_15\", \"estimated_probability_as_log_odds\": 3.3465586644100562, \"sql_condition\": \"\\\"unit_number_l\\\" = \\\"unit_number_r\\\"\", \"comparison_level_label\": \"Exact match\", \"comparison_vector_value\": 2, \"comparison_name\": \"unit_number\", \"comparison_sort_order\": 8}, {\"m_or_u\": \"m\", \"estimated_probability\": 0.9098325483020399, \"estimate_description\": \"EM, blocked on: l.middle_initial = r.middle_initial and l.last_name_12 = r.last_name_12\", \"estimated_probability_as_log_odds\": 3.3349223924257676, \"sql_condition\": \"\\\"unit_number_l\\\" = \\\"unit_number_r\\\"\", \"comparison_level_label\": \"Exact match\", \"comparison_vector_value\": 2, \"comparison_name\": \"unit_number\", \"comparison_sort_order\": 8}, {\"m_or_u\": \"m\", \"estimated_probability\": 0.0843014506908839, \"estimate_description\": \"EM, blocked on: l.first_name_15 = r.first_name_15\", \"estimated_probability_as_log_odds\": -3.441243374045347, \"sql_condition\": \"jaro_winkler_similarity(\\\"unit_number_l\\\", \\\"unit_number_r\\\") >= 0.8333333333333334\", \"comparison_level_label\": \"Jaro_winkler_similarity >= 0.8333333333333334\", \"comparison_vector_value\": 1, \"comparison_name\": \"unit_number\", \"comparison_sort_order\": 8}, {\"m_or_u\": \"m\", \"estimated_probability\": 0.08335353582456227, \"estimate_description\": \"EM, blocked on: l.middle_initial = r.middle_initial and l.last_name_12 = r.last_name_12\", \"estimated_probability_as_log_odds\": -3.4590501125950164, \"sql_condition\": \"jaro_winkler_similarity(\\\"unit_number_l\\\", \\\"unit_number_r\\\") >= 0.8333333333333334\", \"comparison_level_label\": \"Jaro_winkler_similarity >= 0.8333333333333334\", \"comparison_vector_value\": 1, \"comparison_name\": \"unit_number\", \"comparison_sort_order\": 8}, {\"m_or_u\": \"m\", \"estimated_probability\": 0.005206500669895751, \"estimate_description\": \"EM, blocked on: l.first_name_15 = r.first_name_15\", \"estimated_probability_as_log_odds\": -7.577939218279026, \"sql_condition\": \"ELSE\", \"comparison_level_label\": \"All other comparisons\", \"comparison_vector_value\": 0, \"comparison_name\": \"unit_number\", \"comparison_sort_order\": 8}, {\"m_or_u\": \"m\", \"estimated_probability\": 0.006813915873397868, \"estimate_description\": \"EM, blocked on: l.middle_initial = r.middle_initial and l.last_name_12 = r.last_name_12\", \"estimated_probability_as_log_odds\": -7.187436101723912, \"sql_condition\": \"ELSE\", \"comparison_level_label\": \"All other comparisons\", \"comparison_vector_value\": 0, \"comparison_name\": \"unit_number\", \"comparison_sort_order\": 8}, {\"m_or_u\": \"m\", \"estimated_probability\": 0.9337796204685026, \"estimate_description\": \"EM, blocked on: l.first_name_15 = r.first_name_15\", \"estimated_probability_as_log_odds\": 3.8177349179801294, \"sql_condition\": \"\\\"zipcode_l\\\" = \\\"zipcode_r\\\"\", \"comparison_level_label\": \"Exact match\", \"comparison_vector_value\": 2, \"comparison_name\": \"zipcode\", \"comparison_sort_order\": 9}, {\"m_or_u\": \"m\", \"estimated_probability\": 0.9341117175029067, \"estimate_description\": \"EM, blocked on: l.middle_initial = r.middle_initial and l.last_name_12 = r.last_name_12\", \"estimated_probability_as_log_odds\": 3.825501277304953, \"sql_condition\": \"\\\"zipcode_l\\\" = \\\"zipcode_r\\\"\", \"comparison_level_label\": \"Exact match\", \"comparison_vector_value\": 2, \"comparison_name\": \"zipcode\", \"comparison_sort_order\": 9}, {\"m_or_u\": \"m\", \"estimated_probability\": 0.048125371489702466, \"estimate_description\": \"EM, blocked on: l.first_name_15 = r.first_name_15\", \"estimated_probability_as_log_odds\": -4.305901986244915, \"sql_condition\": \"jaro_winkler_similarity(\\\"zipcode_l\\\", \\\"zipcode_r\\\") >= 0.8333333333333334\", \"comparison_level_label\": \"Jaro_winkler_similarity >= 0.8333333333333334\", \"comparison_vector_value\": 1, \"comparison_name\": \"zipcode\", \"comparison_sort_order\": 9}, {\"m_or_u\": \"m\", \"estimated_probability\": 0.04864993535995792, \"estimate_description\": \"EM, blocked on: l.middle_initial = r.middle_initial and l.last_name_12 = r.last_name_12\", \"estimated_probability_as_log_odds\": -4.289466508504114, \"sql_condition\": \"jaro_winkler_similarity(\\\"zipcode_l\\\", \\\"zipcode_r\\\") >= 0.8333333333333334\", \"comparison_level_label\": \"Jaro_winkler_similarity >= 0.8333333333333334\", \"comparison_vector_value\": 1, \"comparison_name\": \"zipcode\", \"comparison_sort_order\": 9}, {\"m_or_u\": \"m\", \"estimated_probability\": 0.01809500804179497, \"estimate_description\": \"EM, blocked on: l.first_name_15 = r.first_name_15\", \"estimated_probability_as_log_odds\": -5.761919783728662, \"sql_condition\": \"ELSE\", \"comparison_level_label\": \"All other comparisons\", \"comparison_vector_value\": 0, \"comparison_name\": \"zipcode\", \"comparison_sort_order\": 9}, {\"m_or_u\": \"m\", \"estimated_probability\": 0.01723834713713544, \"estimate_description\": \"EM, blocked on: l.middle_initial = r.middle_initial and l.last_name_12 = r.last_name_12\", \"estimated_probability_as_log_odds\": -5.833148208790473, \"sql_condition\": \"ELSE\", \"comparison_level_label\": \"All other comparisons\", \"comparison_vector_value\": 0, \"comparison_name\": \"zipcode\", \"comparison_sort_order\": 9}]}}, {\"mode\": \"vega-lite\"});\n",
       "</script>"
      ],
      "text/plain": [
       "alt.Chart(...)"
      ]
     },
     "execution_count": 45,
     "metadata": {},
     "output_type": "execute_result"
    }
   ],
   "source": [
    "linker.parameter_estimate_comparisons_chart()"
   ]
  },
  {
   "cell_type": "code",
   "execution_count": 46,
   "id": "10a026ed-761b-45ee-b44b-9259423e518e",
   "metadata": {
    "execution": {
     "iopub.execute_input": "2023-12-01T17:58:11.325953Z",
     "iopub.status.busy": "2023-12-01T17:58:11.325666Z",
     "iopub.status.idle": "2023-12-01T17:58:11.328433Z",
     "shell.execute_reply": "2023-12-01T17:58:11.327963Z"
    },
    "papermill": {
     "duration": 0.027967,
     "end_time": "2023-12-01T17:58:11.329409",
     "exception": false,
     "start_time": "2023-12-01T17:58:11.301442",
     "status": "completed"
    },
    "tags": []
   },
   "outputs": [],
   "source": [
    "splink_settings = linker._settings_obj.as_dict()"
   ]
  },
  {
   "cell_type": "markdown",
   "id": "f1b9963e-73da-4b51-837d-d79deca7fecf",
   "metadata": {
    "papermill": {
     "duration": 0.023631,
     "end_time": "2023-12-01T17:58:11.376124",
     "exception": false,
     "start_time": "2023-12-01T17:58:11.352493",
     "status": "completed"
    },
    "tags": []
   },
   "source": [
    "## Implement matching passes"
   ]
  },
  {
   "cell_type": "code",
   "execution_count": 47,
   "id": "f437d4c7-b848-4c19-b29d-5f48d10ce911",
   "metadata": {
    "execution": {
     "iopub.execute_input": "2023-12-01T17:58:11.423244Z",
     "iopub.status.busy": "2023-12-01T17:58:11.423048Z",
     "iopub.status.idle": "2023-12-01T17:58:11.483710Z",
     "shell.execute_reply": "2023-12-01T17:58:11.482900Z"
    },
    "papermill": {
     "duration": 0.085766,
     "end_time": "2023-12-01T17:58:11.484970",
     "exception": false,
     "start_time": "2023-12-01T17:58:11.399204",
     "status": "completed"
    },
    "tags": []
   },
   "outputs": [],
   "source": [
    "from dataclasses import dataclass\n",
    "\n",
    "# Calculate this once to save time -- mapping from record_id to record_id_raw_input_file\n",
    "# There can be multiple records (with different record_id) for the same input file record\n",
    "# (record_id_raw_input_file) because of the handling of nicknames by creating extra records.\n",
    "record_id_raw_input_file_by_record_id = census_2030[['record_id', 'record_id_raw_input_file']]\n",
    "\n",
    "all_piks = df_ops.concat([\n",
    "    name_dob_reference_file[[\"record_id\", \"pik\"]],\n",
    "    geobase_reference_file[[\"record_id\", \"pik\"]]\n",
    "], ignore_index=True)\n",
    "\n",
    "dates_of_death = (\n",
    "    df_ops.read_parquet(f'{input_dir}/{data_to_use}/simulated_census_numident.parquet')\n",
    "        [['pik', 'date_of_death']]\n",
    "        .assign(date_of_death=lambda s: pd.to_datetime(s.date_of_death, format='%Y%m%d', errors='coerce'))\n",
    ")\n",
    "\n",
    "class PersonLinkageCascade:\n",
    "    def __init__(self):\n",
    "        # This dataframe will accumulate the PIKs to attach to the input file\n",
    "        self.confirmed_piks = df_ops.empty_dataframe(columns=[\"record_id_raw_input_file\", \"pik\"], dtype=str)\n",
    "        self.current_module = None\n",
    "\n",
    "    def start_module(self, *args, **kwargs):\n",
    "        assert self.current_module is None or self.current_module.confirmed\n",
    "        self.current_module = PersonLinkageModule(*args, **kwargs)\n",
    "\n",
    "    def run_matching_pass(self, *args, **kwargs):\n",
    "        self.current_module.run_matching_pass(*args, already_confirmed_piks=self.confirmed_piks, **kwargs)\n",
    "\n",
    "    def confirm_piks(self, *args, **kwargs):\n",
    "        # Make sure we are not about to confirm PIKs for any of the same files we have\n",
    "        # already PIKed\n",
    "        assert len(\n",
    "            self.current_module.provisional_links.merge(self.confirmed_piks, on='record_id_raw_input_file', how='inner')\n",
    "        ) == 0\n",
    "\n",
    "        newly_confirmed_piks = self.current_module.confirm_piks_from_provisional_links()\n",
    "\n",
    "        self.confirmed_piks = df_ops.concat([\n",
    "            self.confirmed_piks,\n",
    "            newly_confirmed_piks,\n",
    "        ], ignore_index=True)\n",
    "\n",
    "@dataclass\n",
    "class PersonLinkageModule:\n",
    "    name: str\n",
    "    reference_file: pd.DataFrame\n",
    "    reference_file_name: str\n",
    "    cut_columns: list[str]\n",
    "    matching_columns: list[str]\n",
    "    bayes_factor_cut_columns: float = 1\n",
    "\n",
    "    def __post_init__(self):\n",
    "        self.provisional_links = df_ops.empty_dataframe(columns=[\"record_id_census_2030\"], dtype=str)\n",
    "        self.confirmed = False\n",
    "\n",
    "    def run_matching_pass(\n",
    "        self,\n",
    "        pass_name,\n",
    "        blocking_columns,\n",
    "        probability_threshold=0.99,\n",
    "        input_data_transformation=lambda x: x,\n",
    "        already_confirmed_piks=df_ops.empty_dataframe(columns=[\"record_id_raw_input_file\"], dtype=str),\n",
    "    ):\n",
    "        assert self.confirmed == False\n",
    "\n",
    "        print(f\"Running {pass_name} of {self.name}\")\n",
    "\n",
    "        columns_needed = [\"record_id\"] + self.cut_columns + blocking_columns + self.matching_columns\n",
    "        reference_file_cut_values = df_ops.drop_duplicates(self.reference_file[self.cut_columns])\n",
    "        census_to_match = (\n",
    "            census_2030\n",
    "                # Only look for matches among records that have not received a confirmed PIK\n",
    "                .merge(already_confirmed_piks[['record_id_raw_input_file']].assign(already_confirmed_dummy=1), on='record_id_raw_input_file', how='left')\n",
    "                # Only look for matches among records that have not received a provisional link\n",
    "                # NOTE: \"records\" here does not mean input file records -- a nickname record having\n",
    "                # a provisional link does not prevent a canonical name record from the same input record\n",
    "                # from continuing to match\n",
    "                .merge(self.provisional_links[['record_id_census_2030']], left_on='record_id', right_on='record_id_census_2030', how='left')\n",
    "                .pipe(lambda df: df[df.already_confirmed_dummy.isna() & df.record_id_census_2030.isna()])\n",
    "        )\n",
    "        print(f\"Files to link are {len(self.reference_file):,.0f} and {len(census_to_match):,.0f} records\")\n",
    "        tables_for_splink = [\n",
    "            prep_table_for_splink(self.reference_file, self.reference_file_name, columns_needed),\n",
    "            prep_table_for_splink(\n",
    "                census_to_match.pipe(input_data_transformation),\n",
    "                \"census_2030\",\n",
    "                columns_needed,\n",
    "            )\n",
    "        ]\n",
    "\n",
    "        blocking_rule_parts = [f\"l.{col} = r.{col}\" for col in self.cut_columns + blocking_columns]\n",
    "        blocking_rule = \" and \".join(blocking_rule_parts)\n",
    "\n",
    "        # We base our Splink linker for this pass on the one we trained above,\n",
    "        # but limiting it to the relevant column comparisons and updating the pass-specific\n",
    "        # settings\n",
    "        pass_splink_settings = copy.deepcopy(splink_settings)\n",
    "        pass_splink_settings[\"comparisons\"] = [\n",
    "            c for c in pass_splink_settings[\"comparisons\"] if c[\"output_column_name\"] in self.matching_columns\n",
    "        ]\n",
    "        prior_two_random_records_match = probability_two_random_records_match(\n",
    "            census_2030,\n",
    "            self.reference_file,\n",
    "        )\n",
    "        prior_odds_two_random_records_match = prior_two_random_records_match / (1 - prior_two_random_records_match)\n",
    "        # If cut columns are not used for matching, need to adjust our prior for the fact\n",
    "        # that all pairs compared will have the same values in the cut columns\n",
    "        odds_two_random_records_match = prior_odds_two_random_records_match * self.bayes_factor_cut_columns\n",
    "        pass_splink_settings[\"probability_two_random_records_match\"] = odds_two_random_records_match / (1 + odds_two_random_records_match)\n",
    "        pass_splink_settings[\"blocking_rules_to_generate_predictions\"] = [blocking_rule]\n",
    "\n",
    "        if splink_engine == 'duckdb':\n",
    "            linker = DuckDBLinker(\n",
    "                tables_for_splink,\n",
    "                pass_splink_settings,\n",
    "                # Must match order of tables_for_splink\n",
    "                input_table_aliases=[\"reference_file\", \"census_2030\"]\n",
    "            )\n",
    "        else:\n",
    "            linker = SparkLinker(\n",
    "                tables_for_splink,\n",
    "                pass_splink_settings,\n",
    "                # Must match order of tables_for_splink\n",
    "                input_table_aliases=[\"reference_file\", \"census_2030\"],\n",
    "                spark=spark,\n",
    "            )\n",
    "\n",
    "        num_comparisons = linker.count_num_comparisons_from_blocking_rule(blocking_rule)\n",
    "        print(f\"Number of pairs that will be compared: {num_comparisons:,.0f}\")\n",
    "    \n",
    "        # https://moj-analytical-services.github.io/splink/demos/06_Visualising_predictions.html#comparison-viewer-dashboard\n",
    "        # We also include some pairs below the threshold, for additional context.\n",
    "        pairs_worth_inspecting = linker.predict(threshold_match_probability=probability_threshold - 0.2)\n",
    "\n",
    "        if linker.query_sql(f'select count(*) as num from {pairs_worth_inspecting.physical_name}').num.iloc[0] > 0:\n",
    "            dashboard_file_name = f\"splink_temp/{self.name.replace(' ', '_')}__{pass_name.replace(' ', '_')}.html\"\n",
    "            linker.comparison_viewer_dashboard(pairs_worth_inspecting, dashboard_file_name, overwrite=True)\n",
    "            from IPython.display import IFrame, display\n",
    "            display(IFrame(\n",
    "                src=f\"./{dashboard_file_name}\", width=\"100%\", height=1200\n",
    "            ))\n",
    "\n",
    "        if compute_engine == 'pandas':\n",
    "            pairs_worth_inspecting = pairs_worth_inspecting.as_pandas_dataframe()\n",
    "        else:\n",
    "            file_path = f'{output_dir}/intermediate_data/pairs_worth_inspecting_{self.name}_{pass_name}.parquet'\n",
    "            df_ops.to_parquet(pairs_worth_inspecting, file_path)\n",
    "             # NOTE: We need to wait, so we make sure we don't delete this before we've finished reading it!\n",
    "            pairs_worth_inspecting = df_ops.persist(df_ops.read_parquet(file_path), wait=True)\n",
    "\n",
    "        new_provisional_links = pairs_worth_inspecting[pairs_worth_inspecting.match_probability >= probability_threshold]\n",
    "\n",
    "        if len(new_provisional_links) > 0:\n",
    "            new_provisional_links = df_ops.persist(\n",
    "                label_pairs_with_dataset(new_provisional_links)\n",
    "                    .merge(record_id_raw_input_file_by_record_id, left_on=\"record_id_census_2030\", right_on=\"record_id\", how=\"left\")\n",
    "                    .drop(columns=[\"record_id\"])\n",
    "            )\n",
    "\n",
    "            self.provisional_links = df_ops.persist(df_ops.concat([\n",
    "                self.provisional_links,\n",
    "                new_provisional_links.assign(module_name=self.name, pass_name=pass_name).pipe(df_ops.ensure_large_string_capacity)\n",
    "            ], ignore_index=True))\n",
    "\n",
    "        still_eligible = (\n",
    "            census_2030\n",
    "                # Only look for matches among records that have not received a confirmed PIK\n",
    "                .merge(already_confirmed_piks[['record_id_raw_input_file']].assign(already_confirmed_dummy=1), on='record_id_raw_input_file', how='left')\n",
    "                # Only look for matches among records that have not received a provisional link\n",
    "                # NOTE: \"records\" here does not mean input file records -- a nickname record having\n",
    "                # a provisional link does not prevent a canonical name record from the same input record\n",
    "                # from continuing to match\n",
    "                .merge(self.provisional_links[['record_id_census_2030']], left_on='record_id', right_on='record_id_census_2030', how='left')\n",
    "                .pipe(lambda df: df.already_confirmed_dummy.isna() & df.record_id_census_2030.isna())\n",
    "        )\n",
    "        print(f'Matched {len(new_provisional_links)} records; {df_ops.compute(still_eligible.mean()):.2%} still eligible to match')\n",
    "\n",
    "    def confirm_piks_from_provisional_links(self):\n",
    "        assert not self.confirmed\n",
    "\n",
    "        provisional_links = (\n",
    "            self.provisional_links\n",
    "                .merge(all_piks, left_on=\"record_id_reference_file\", right_on=\"record_id\", how=\"left\")\n",
    "                .drop(columns=\"record_id\")\n",
    "        )\n",
    "\n",
    "        # \"After the initial set of links is created in GeoSearch, a post-search program is run to determine\n",
    "        # which of the links are retained. A series of checks are performed: First the date of death\n",
    "        # information from the Numident is checked and links to deceased persons are dropped. Next a\n",
    "        # check is made for more than one SSN assigned to a source record. If more than one SSN is\n",
    "        # assigned, the best link is selected based on match weights. If no best SSN is determined, all SSNs\n",
    "        # assigned in the GeoSearch module are dropped and the input record cascades to the next\n",
    "        # module. A similar post-search program is run at the end of all search modules.\"\n",
    "        # - Layne et al. p. 5\n",
    "\n",
    "        # Drop links to deceased people\n",
    "        # NOTE: On p. 38 of Brown et al. (2023) it discusses at length the number of PVS matches to deceased\n",
    "        # people, which should not be possible based on this process.\n",
    "        # Even though this is more recent, I can't think of a reason why this check would have\n",
    "        # been *removed* from PVS -- can we chalk this up to something experimental they were doing for\n",
    "        # the AR Census in the 2023 report?\n",
    "        provisional_links = (\n",
    "            provisional_links.merge(dates_of_death, on=\"pik\", how=\"left\")\n",
    "        )\n",
    "        # Census day 2030\n",
    "        deceased_links = df_ops.persist(provisional_links.date_of_death.notnull() & (provisional_links.date_of_death <= pandas.to_datetime(\"2030-04-01\")))\n",
    "        print(f'{df_ops.compute(deceased_links.sum())} input records linked to deceased people, dropping links')\n",
    "        provisional_links = provisional_links[~deceased_links]\n",
    "\n",
    "        # Check for multiple linkage to a single input file record\n",
    "        max_probability = df_ops.groupby_agg_small_groups(provisional_links, by=\"record_id_raw_input_file\", agg_func=lambda x: x.match_probability.max()).reset_index()\n",
    "        piks_per_input_file = (\n",
    "            provisional_links\n",
    "                .merge(max_probability, on=[\"record_id_raw_input_file\", \"match_probability\"])\n",
    "                .pipe(df_ops.groupby_agg_small_groups, by=\"record_id_raw_input_file\", agg_func=lambda x: x.pik.nunique())\n",
    "                .rename('num_unique_piks')\n",
    "                .reset_index()\n",
    "        )\n",
    "\n",
    "        multiple_piks = df_ops.persist(piks_per_input_file[piks_per_input_file.num_unique_piks > 1])\n",
    "        print(f'{len(multiple_piks)} input records linked to multiple PIKs, dropping links')\n",
    "        provisional_links = df_ops.persist(\n",
    "            provisional_links\n",
    "                .merge(multiple_piks, on=\"record_id_raw_input_file\", how=\"left\")\n",
    "                .pipe(lambda df: df[df.num_unique_piks.isnull() | (df.num_unique_piks <= 1)])\n",
    "                .pipe(df_ops.drop_duplicates, subset=\"record_id_raw_input_file\", sort_col=\"match_probability\", keep=\"last\")\n",
    "        )\n",
    "\n",
    "        assert df_ops.compute((df_ops.groupby_agg_small_groups(provisional_links, by=\"record_id_raw_input_file\", agg_func=lambda x: x.pik.nunique()) == 1).all())\n",
    "\n",
    "        self.confirmed = True\n",
    "        self.provisional_links = None\n",
    "        \n",
    "        return (\n",
    "            provisional_links[[\n",
    "                \"record_id_raw_input_file\",\n",
    "                \"record_id_census_2030\",\n",
    "                \"record_id_reference_file\",\n",
    "                \"pik\",\n",
    "                \"module_name\",\n",
    "                \"pass_name\",\n",
    "                \"match_probability\",\n",
    "            ]]\n",
    "        )\n",
    "\n",
    "def label_pairs_with_dataset(pairs):\n",
    "    if len(pairs) == 0:\n",
    "        return pairs\n",
    "\n",
    "    # Name the columns according to the datasets, not \"r\" (right) and \"l\" (left)\n",
    "    for suffix in [\"r\", \"l\"]:\n",
    "        # NOTE: In practice, splink always has \"r\" correspond to one dataset and \"l\" correspond to the other.\n",
    "        # It is unclear to me if this is a documented guarantee.\n",
    "        assert len(df_ops.drop_duplicates(pairs[[f'source_dataset_{suffix}']])) == 1\n",
    "        source_dataset_name = pairs.head(n=1)[f'source_dataset_{suffix}'].iloc[0]\n",
    "        pairs = pairs.rename(columns={c: re.sub(f'_{suffix}$', f'_{source_dataset_name}', c) for c in pairs.columns if c.endswith(f'_{suffix}')})\n",
    "        # pairs = pairs.rename(columns=lambda c: re.sub(f'_{suffix}$', f'_{source_dataset_name}', c))\n",
    "\n",
    "    return pairs"
   ]
  },
  {
   "cell_type": "code",
   "execution_count": 48,
   "id": "c8b7236a-ef52-4151-acab-ba1f0a186042",
   "metadata": {
    "execution": {
     "iopub.execute_input": "2023-12-01T17:58:11.537887Z",
     "iopub.status.busy": "2023-12-01T17:58:11.537374Z",
     "iopub.status.idle": "2023-12-01T17:58:11.541052Z",
     "shell.execute_reply": "2023-12-01T17:58:11.540097Z"
    },
    "papermill": {
     "duration": 0.032377,
     "end_time": "2023-12-01T17:58:11.542079",
     "exception": false,
     "start_time": "2023-12-01T17:58:11.509702",
     "status": "completed"
    },
    "tags": []
   },
   "outputs": [],
   "source": [
    "person_linkage_cascade = PersonLinkageCascade()"
   ]
  },
  {
   "cell_type": "markdown",
   "id": "96dc1b23-3bbf-4571-a89d-9bf8db4c0dbe",
   "metadata": {
    "papermill": {
     "duration": 0.023686,
     "end_time": "2023-12-01T17:58:11.589125",
     "exception": false,
     "start_time": "2023-12-01T17:58:11.565439",
     "status": "completed"
    },
    "tags": []
   },
   "source": [
    "# Verification Module\n",
    "\n",
    "Wagner and Layne, p.14:\n",
    "\n",
    "> If the input file has a SSN data field, it first goes through the verification process.\n",
    "\n",
    "This module of PVS only runs on input records with an SSN.\n",
    "No records in the CUF have an SSN (SSN is not collected on the decennial)\n",
    "so this module is skipped."
   ]
  },
  {
   "cell_type": "markdown",
   "id": "b0203571-b01f-477b-879d-c1c7587020d7",
   "metadata": {
    "papermill": {
     "duration": 0.023892,
     "end_time": "2023-12-01T17:58:11.635516",
     "exception": false,
     "start_time": "2023-12-01T17:58:11.611624",
     "status": "completed"
    },
    "tags": []
   },
   "source": [
    "# GeoSearch\n",
    "\n",
    "Brown et al. p. 29:\n",
    "\n",
    "> the GeoSearch module blocks records at\n",
    "different levels of geography, starting with the housing unit level, then broadening geography\n",
    "up to the three-digit ZIP Code level. The typical matching variables are name, DOB, sex, and\n",
    "various address fields.\n",
    "\n",
    "Wagner and Layne p. 14:\n",
    "\n",
    "> The typical GeoSearch blocking strategy starts with blocking records at the\n",
    "household level, then broadens the geography for each successive pass and ends at\n",
    "blocking by the first three digits of the zip code. The typical match variables are first,\n",
    "middle, and last names; generational suffix; date of birth; gender and various address\n",
    "fields.\n",
    "> \n",
    "> The data for the GeoSearch module are split into 1,000 cuts based on the first three\n",
    "digits of the zip code (zip3) for record. The GeoSearch program works on one zip3 cut\n",
    "at a time, with shell scripts submitting multiple streams of cuts to the system. This\n",
    "allows for parallel processing and restart capability.\n",
    "\n",
    "Layne, Wagner, and Rothhaas list an exact series of passes with blocking and matching variables\n",
    "for each (Appendix A on p. 25).\n",
    "This was the series of passes they used in running PVS on the Medicare Enrollment\n",
    "Database, the Indian Health Service Patient Registration File, and on two commercial\n",
    "data sources.\n",
    "All of these data sources are rather different than a CUF, and this paper is from 2014,\n",
    "but it is the only place I know of where an entire set of passes is described,\n",
    "so I have used the exact same passes here."
   ]
  },
  {
   "cell_type": "code",
   "execution_count": 49,
   "id": "2560948a-c9ca-4b96-9fa9-4c4b942689e7",
   "metadata": {
    "execution": {
     "iopub.execute_input": "2023-12-01T17:58:11.682377Z",
     "iopub.status.busy": "2023-12-01T17:58:11.682188Z",
     "iopub.status.idle": "2023-12-01T17:58:11.685310Z",
     "shell.execute_reply": "2023-12-01T17:58:11.684851Z"
    },
    "papermill": {
     "duration": 0.027518,
     "end_time": "2023-12-01T17:58:11.686344",
     "exception": false,
     "start_time": "2023-12-01T17:58:11.658826",
     "status": "completed"
    },
    "tags": []
   },
   "outputs": [],
   "source": [
    "person_linkage_cascade.start_module(\n",
    "    name=\"geosearch\",\n",
    "    reference_file=geobase_reference_file,\n",
    "    reference_file_name=\"geobase_reference_file\",\n",
    "    cut_columns=[\"zip3\"],\n",
    "    matching_columns=[\n",
    "        \"first_name_15\",\n",
    "        \"last_name_12\",\n",
    "        \"middle_initial\",\n",
    "        \"day_of_birth\",\n",
    "        \"month_of_birth\",\n",
    "        \"year_of_birth\",\n",
    "        \"street_number\",\n",
    "        \"street_name\",\n",
    "        \"unit_number\",\n",
    "        \"zipcode\",\n",
    "    ],\n",
    ")"
   ]
  },
  {
   "cell_type": "markdown",
   "id": "0398ac85-1ff3-4103-979c-ff00936ced02",
   "metadata": {
    "papermill": {
     "duration": 0.023442,
     "end_time": "2023-12-01T17:58:11.732767",
     "exception": false,
     "start_time": "2023-12-01T17:58:11.709325",
     "status": "completed"
    },
    "tags": []
   },
   "source": [
    "## Pass 1: Block on geokey (entire address)"
   ]
  },
  {
   "cell_type": "code",
   "execution_count": 50,
   "id": "c13afeba-9198-4546-9092-6ee563cc51e7",
   "metadata": {
    "execution": {
     "iopub.execute_input": "2023-12-01T17:58:11.780933Z",
     "iopub.status.busy": "2023-12-01T17:58:11.780662Z",
     "iopub.status.idle": "2023-12-01T17:58:13.314047Z",
     "shell.execute_reply": "2023-12-01T17:58:13.313381Z"
    },
    "papermill": {
     "duration": 1.559048,
     "end_time": "2023-12-01T17:58:13.315186",
     "exception": false,
     "start_time": "2023-12-01T17:58:11.756138",
     "status": "completed"
    },
    "tags": []
   },
   "outputs": [
    {
     "name": "stdout",
     "output_type": "stream",
     "text": [
      "Running geokey of geosearch\n",
      "Files to link are 32,825 and 11,031 records\n"
     ]
    },
    {
     "name": "stdout",
     "output_type": "stream",
     "text": [
      "Number of pairs that will be compared: 634,830\n"
     ]
    },
    {
     "data": {
      "text/html": [
       "\n",
       "        <iframe\n",
       "            width=\"100%\"\n",
       "            height=\"1200\"\n",
       "            src=\"./splink_temp/geosearch__geokey.html\"\n",
       "            frameborder=\"0\"\n",
       "            allowfullscreen\n",
       "            \n",
       "        ></iframe>\n",
       "        "
      ],
      "text/plain": [
       "<IPython.lib.display.IFrame at 0x7f5e51cacd90>"
      ]
     },
     "metadata": {},
     "output_type": "display_data"
    },
    {
     "name": "stdout",
     "output_type": "stream",
     "text": [
      "Matched 8471 records; 26.05% still eligible to match\n"
     ]
    }
   ],
   "source": [
    "person_linkage_cascade.run_matching_pass(\n",
    "    pass_name=\"geokey\",\n",
    "    blocking_columns=[\"geokey\"],\n",
    ")"
   ]
  },
  {
   "cell_type": "markdown",
   "id": "ef782163-425e-4745-a8a4-f352032ee9d4",
   "metadata": {
    "papermill": {
     "duration": 0.023915,
     "end_time": "2023-12-01T17:58:13.365029",
     "exception": false,
     "start_time": "2023-12-01T17:58:13.341114",
     "status": "completed"
    },
    "tags": []
   },
   "source": [
    "## Pass 2: Block on geokey (entire address), switching first and last names"
   ]
  },
  {
   "cell_type": "code",
   "execution_count": 51,
   "id": "83383f23-807c-49bb-88b7-7ef69d9a6031",
   "metadata": {
    "execution": {
     "iopub.execute_input": "2023-12-01T17:58:13.413294Z",
     "iopub.status.busy": "2023-12-01T17:58:13.412976Z",
     "iopub.status.idle": "2023-12-01T17:58:13.417029Z",
     "shell.execute_reply": "2023-12-01T17:58:13.415969Z"
    },
    "papermill": {
     "duration": 0.0288,
     "end_time": "2023-12-01T17:58:13.418027",
     "exception": false,
     "start_time": "2023-12-01T17:58:13.389227",
     "status": "completed"
    },
    "tags": []
   },
   "outputs": [],
   "source": [
    "def switch_first_and_last_names(df):\n",
    "    return (\n",
    "        df.rename(columns={\"first_name\": \"last_name\", \"last_name\": \"first_name\"})\n",
    "            # Re-calculate the truncated versions of first and last.\n",
    "            # NOTE: It is not necessary to re-calculate the phonetic versions, because\n",
    "            # those are never used in any pass that has a name switch.\n",
    "            .pipe(add_truncated_name_cols)\n",
    "    )"
   ]
  },
  {
   "cell_type": "code",
   "execution_count": 52,
   "id": "f1a30656-2fad-43f2-8712-6e52fb8c94ef",
   "metadata": {
    "execution": {
     "iopub.execute_input": "2023-12-01T17:58:13.467978Z",
     "iopub.status.busy": "2023-12-01T17:58:13.467701Z",
     "iopub.status.idle": "2023-12-01T17:58:13.979930Z",
     "shell.execute_reply": "2023-12-01T17:58:13.979260Z"
    },
    "papermill": {
     "duration": 0.537281,
     "end_time": "2023-12-01T17:58:13.981082",
     "exception": false,
     "start_time": "2023-12-01T17:58:13.443801",
     "status": "completed"
    },
    "tags": []
   },
   "outputs": [
    {
     "name": "stdout",
     "output_type": "stream",
     "text": [
      "Running geokey name switch of geosearch\n",
      "Files to link are 32,825 and 2,984 records\n"
     ]
    },
    {
     "name": "stdout",
     "output_type": "stream",
     "text": [
      "Number of pairs that will be compared: 19,595\n"
     ]
    },
    {
     "data": {
      "text/html": [
       "\n",
       "        <iframe\n",
       "            width=\"100%\"\n",
       "            height=\"1200\"\n",
       "            src=\"./splink_temp/geosearch__geokey_name_switch.html\"\n",
       "            frameborder=\"0\"\n",
       "            allowfullscreen\n",
       "            \n",
       "        ></iframe>\n",
       "        "
      ],
      "text/plain": [
       "<IPython.lib.display.IFrame at 0x7f5e4f90ceb0>"
      ]
     },
     "metadata": {},
     "output_type": "display_data"
    },
    {
     "name": "stdout",
     "output_type": "stream",
     "text": [
      "Matched 0 records; 26.05% still eligible to match\n"
     ]
    }
   ],
   "source": [
    "# We don't actually have any swapping of first and last names in pseudopeople\n",
    "person_linkage_cascade.run_matching_pass(\n",
    "    pass_name=\"geokey name switch\",\n",
    "    blocking_columns=[\"geokey\"],\n",
    "    input_data_transformation=switch_first_and_last_names,\n",
    ")"
   ]
  },
  {
   "cell_type": "markdown",
   "id": "7f1abcb7-8577-428a-a531-5fac5f3ea6dc",
   "metadata": {
    "papermill": {
     "duration": 0.023818,
     "end_time": "2023-12-01T17:58:14.029386",
     "exception": false,
     "start_time": "2023-12-01T17:58:14.005568",
     "status": "completed"
    },
    "tags": []
   },
   "source": [
    "## Pass 3: Block on house number and street name Soundex"
   ]
  },
  {
   "cell_type": "code",
   "execution_count": 53,
   "id": "e7c841a9-09af-4708-a094-2ddc19526648",
   "metadata": {
    "execution": {
     "iopub.execute_input": "2023-12-01T17:58:14.077754Z",
     "iopub.status.busy": "2023-12-01T17:58:14.077418Z",
     "iopub.status.idle": "2023-12-01T17:58:14.821428Z",
     "shell.execute_reply": "2023-12-01T17:58:14.820885Z"
    },
    "papermill": {
     "duration": 0.769961,
     "end_time": "2023-12-01T17:58:14.822551",
     "exception": false,
     "start_time": "2023-12-01T17:58:14.052590",
     "status": "completed"
    },
    "tags": []
   },
   "outputs": [
    {
     "name": "stdout",
     "output_type": "stream",
     "text": [
      "Running house number and street name Soundex of geosearch\n",
      "Files to link are 32,825 and 2,984 records\n"
     ]
    },
    {
     "name": "stdout",
     "output_type": "stream",
     "text": [
      "Number of pairs that will be compared: 116,686\n"
     ]
    },
    {
     "data": {
      "text/html": [
       "\n",
       "        <iframe\n",
       "            width=\"100%\"\n",
       "            height=\"1200\"\n",
       "            src=\"./splink_temp/geosearch__house_number_and_street_name_Soundex.html\"\n",
       "            frameborder=\"0\"\n",
       "            allowfullscreen\n",
       "            \n",
       "        ></iframe>\n",
       "        "
      ],
      "text/plain": [
       "<IPython.lib.display.IFrame at 0x7f5f73d9ce50>"
      ]
     },
     "metadata": {},
     "output_type": "display_data"
    },
    {
     "name": "stdout",
     "output_type": "stream",
     "text": [
      "Matched 1105 records; 18.50% still eligible to match\n"
     ]
    }
   ],
   "source": [
    "person_linkage_cascade.run_matching_pass(\n",
    "    pass_name=\"house number and street name Soundex\",\n",
    "    blocking_columns=[\"street_number\", \"street_name_soundex\"],\n",
    ")"
   ]
  },
  {
   "cell_type": "markdown",
   "id": "f5b68b0c-f33b-42bb-a80f-22afae888216",
   "metadata": {
    "papermill": {
     "duration": 0.023901,
     "end_time": "2023-12-01T17:58:14.872239",
     "exception": false,
     "start_time": "2023-12-01T17:58:14.848338",
     "status": "completed"
    },
    "tags": []
   },
   "source": [
    "## Pass 4: Block on house number and street name Soundex, switching first and last names"
   ]
  },
  {
   "cell_type": "code",
   "execution_count": 54,
   "id": "d7665776-b592-4762-b4ca-f399ce9a95ec",
   "metadata": {
    "execution": {
     "iopub.execute_input": "2023-12-01T17:58:14.922660Z",
     "iopub.status.busy": "2023-12-01T17:58:14.922338Z",
     "iopub.status.idle": "2023-12-01T17:58:15.449709Z",
     "shell.execute_reply": "2023-12-01T17:58:15.449037Z"
    },
    "papermill": {
     "duration": 0.55428,
     "end_time": "2023-12-01T17:58:15.450865",
     "exception": false,
     "start_time": "2023-12-01T17:58:14.896585",
     "status": "completed"
    },
    "tags": []
   },
   "outputs": [
    {
     "name": "stdout",
     "output_type": "stream",
     "text": [
      "Running house number and street name Soundex name switch of geosearch\n",
      "Files to link are 32,825 and 2,174 records\n"
     ]
    },
    {
     "name": "stdout",
     "output_type": "stream",
     "text": [
      "Number of pairs that will be compared: 25,263\n"
     ]
    },
    {
     "data": {
      "text/html": [
       "\n",
       "        <iframe\n",
       "            width=\"100%\"\n",
       "            height=\"1200\"\n",
       "            src=\"./splink_temp/geosearch__house_number_and_street_name_Soundex_name_switch.html\"\n",
       "            frameborder=\"0\"\n",
       "            allowfullscreen\n",
       "            \n",
       "        ></iframe>\n",
       "        "
      ],
      "text/plain": [
       "<IPython.lib.display.IFrame at 0x7f5e51cab7c0>"
      ]
     },
     "metadata": {},
     "output_type": "display_data"
    },
    {
     "name": "stdout",
     "output_type": "stream",
     "text": [
      "Matched 0 records; 18.50% still eligible to match\n"
     ]
    }
   ],
   "source": [
    "person_linkage_cascade.run_matching_pass(\n",
    "    pass_name=\"house number and street name Soundex name switch\",\n",
    "    blocking_columns=[\"street_number\", \"street_name_soundex\"],\n",
    "    input_data_transformation=switch_first_and_last_names,\n",
    ")"
   ]
  },
  {
   "cell_type": "markdown",
   "id": "c4753574-d776-4b83-9ca8-762a2d665ddc",
   "metadata": {
    "papermill": {
     "duration": 0.025002,
     "end_time": "2023-12-01T17:58:15.501194",
     "exception": false,
     "start_time": "2023-12-01T17:58:15.476192",
     "status": "completed"
    },
    "tags": []
   },
   "source": [
    "## Pass 5: Block on some name and DOB information"
   ]
  },
  {
   "cell_type": "code",
   "execution_count": 55,
   "id": "1924438b-d5ec-4bc7-a083-46d0165c9682",
   "metadata": {
    "execution": {
     "iopub.execute_input": "2023-12-01T17:58:15.550788Z",
     "iopub.status.busy": "2023-12-01T17:58:15.550458Z",
     "iopub.status.idle": "2023-12-01T17:58:16.094528Z",
     "shell.execute_reply": "2023-12-01T17:58:16.093908Z"
    },
    "papermill": {
     "duration": 0.569704,
     "end_time": "2023-12-01T17:58:16.095688",
     "exception": false,
     "start_time": "2023-12-01T17:58:15.525984",
     "status": "completed"
    },
    "tags": []
   },
   "outputs": [
    {
     "name": "stdout",
     "output_type": "stream",
     "text": [
      "Running some name and DOB information of geosearch\n",
      "Files to link are 32,825 and 2,174 records\n"
     ]
    },
    {
     "name": "stdout",
     "output_type": "stream",
     "text": [
      "Number of pairs that will be compared: 2,301\n"
     ]
    },
    {
     "data": {
      "text/html": [
       "\n",
       "        <iframe\n",
       "            width=\"100%\"\n",
       "            height=\"1200\"\n",
       "            src=\"./splink_temp/geosearch__some_name_and_DOB_information.html\"\n",
       "            frameborder=\"0\"\n",
       "            allowfullscreen\n",
       "            \n",
       "        ></iframe>\n",
       "        "
      ],
      "text/plain": [
       "<IPython.lib.display.IFrame at 0x7f5b42a1c0a0>"
      ]
     },
     "metadata": {},
     "output_type": "display_data"
    },
    {
     "name": "stdout",
     "output_type": "stream",
     "text": [
      "Matched 2162 records; 7.77% still eligible to match\n"
     ]
    }
   ],
   "source": [
    "person_linkage_cascade.run_matching_pass(\n",
    "    pass_name=\"some name and DOB information\",\n",
    "    blocking_columns=[\"first_name_2\", \"last_name_2\", \"year_of_birth\"],\n",
    ")"
   ]
  },
  {
   "cell_type": "markdown",
   "id": "3f507b1e-61e6-448f-bc2e-afccc3020356",
   "metadata": {
    "papermill": {
     "duration": 0.025229,
     "end_time": "2023-12-01T17:58:16.150775",
     "exception": false,
     "start_time": "2023-12-01T17:58:16.125546",
     "status": "completed"
    },
    "tags": []
   },
   "source": [
    "## Post-process and confirm PIKs"
   ]
  },
  {
   "cell_type": "code",
   "execution_count": 56,
   "id": "30899aeb-e35f-4246-979c-af9f8235c3ab",
   "metadata": {
    "execution": {
     "iopub.execute_input": "2023-12-01T17:58:16.201878Z",
     "iopub.status.busy": "2023-12-01T17:58:16.201539Z",
     "iopub.status.idle": "2023-12-01T17:58:16.320036Z",
     "shell.execute_reply": "2023-12-01T17:58:16.319510Z"
    },
    "papermill": {
     "duration": 0.145889,
     "end_time": "2023-12-01T17:58:16.321391",
     "exception": false,
     "start_time": "2023-12-01T17:58:16.175502",
     "status": "completed"
    },
    "tags": []
   },
   "outputs": [
    {
     "name": "stdout",
     "output_type": "stream",
     "text": [
      "140 input records linked to deceased people, dropping links\n",
      "11 input records linked to multiple PIKs, dropping links\n"
     ]
    }
   ],
   "source": [
    "person_linkage_cascade.confirm_piks()"
   ]
  },
  {
   "cell_type": "code",
   "execution_count": 57,
   "id": "0eea4fa2-588b-4555-a78e-8747da8db6fb",
   "metadata": {
    "execution": {
     "iopub.execute_input": "2023-12-01T17:58:16.375189Z",
     "iopub.status.busy": "2023-12-01T17:58:16.374850Z",
     "iopub.status.idle": "2023-12-01T17:58:16.382491Z",
     "shell.execute_reply": "2023-12-01T17:58:16.381904Z"
    },
    "papermill": {
     "duration": 0.034308,
     "end_time": "2023-12-01T17:58:16.383619",
     "exception": false,
     "start_time": "2023-12-01T17:58:16.349311",
     "status": "completed"
    },
    "tags": []
   },
   "outputs": [
    {
     "data": {
      "text/plain": [
       "module_name  pass_name                           \n",
       "geosearch    geokey                                  7964\n",
       "             some name and DOB information           1170\n",
       "             house number and street name Soundex     802\n",
       "dtype: int64"
      ]
     },
     "execution_count": 57,
     "metadata": {},
     "output_type": "execute_result"
    }
   ],
   "source": [
    "df_ops.compute(person_linkage_cascade.confirmed_piks.groupby([\"module_name\", \"pass_name\"]).size()).sort_values(ascending=False)"
   ]
  },
  {
   "cell_type": "markdown",
   "id": "d64ae657-5248-4a78-b836-3a04e8732140",
   "metadata": {
    "papermill": {
     "duration": 0.029355,
     "end_time": "2023-12-01T17:58:16.437438",
     "exception": false,
     "start_time": "2023-12-01T17:58:16.408083",
     "status": "completed"
    },
    "tags": []
   },
   "source": [
    "# ZIP3 Adjacency Search\n",
    "\n",
    "Layne, Wagner, and Rothhaas (p. 6) refers to ZIP3 adjacency as a module and even provides\n",
    "a list of two passes within it in Appendix A.\n",
    "\n",
    "Alexander et al. (p. 6) refers to it the same way, as a module.\n",
    "\n",
    "However, Wagner and Layne (p. 14) says:\n",
    "\n",
    "> The GeoSearch module also incorporates the adjacency of neighboring areas with\n",
    "different zip3 values\n",
    "\n",
    "which implies this logic is a pass or passes *within* GeoSearch (and due to how cascading works,\n",
    "this is not just an academic distinction).\n",
    "\n",
    "There is no mention at all of ZIP3 adjacency in the Brown et al. paper from 2023.\n",
    "\n",
    "**TODO**: Determine whether this still exists, how it works if so, and implement it.\n",
    "Doesn't really make sense with the sample data since there is only one ZIP."
   ]
  },
  {
   "cell_type": "markdown",
   "id": "ca19c7f2-e129-4c96-b22e-a2983c40a15c",
   "metadata": {
    "papermill": {
     "duration": 0.023895,
     "end_time": "2023-12-01T17:58:16.486264",
     "exception": false,
     "start_time": "2023-12-01T17:58:16.462369",
     "status": "completed"
    },
    "tags": []
   },
   "source": [
    "# Movers\n",
    "\n",
    "The Movers module is not mentioned in Brown et al, nor in Wagner and Layne.\n",
    "\n",
    "In Layne, Wagner, and Rothhaas (p. 7), published in 2014, it is described as \"Prototyped only – not implemented in PVS\":\n",
    "\n",
    "> The Movers module is appropriate for input files that combine individuals together into\n",
    "> households.\n",
    "> The module seeks multiple members of an input household in one address that\n",
    "> may have moved together to another address.\n",
    "> To be eligible for this module the household size must be greater than one.\n",
    "> This module is being tested and was not used in the analysis for this paper.\n",
    "\n",
    "Alexander et al. (p. 6) a year later makes no note of it being experimental:\n",
    "\n",
    "> To be eligible for the Movers Module, no member of the household can have a\n",
    "> PIK and the household must consist of more than one member.\n",
    "> This module considers persons living at the same address as a unit and\n",
    "> searches for matching units living together in the reference file (without regard for address).\n",
    "\n",
    "Essentially the same text is included in Massey et al., published in 2018.\n",
    "\n",
    "Though it doesn't provide much information, [this document](https://gunnisonconsulting.com/docs/pdf/Record%20Linkage%20Slicksheet_FINAL.pdf)\n",
    "([archive](https://web.archive.org/web/20230705010237/https://gunnisonconsulting.com/docs/pdf/Record%20Linkage%20Slicksheet_FINAL.pdf))\n",
    "from the Gunnison consulting group states that they worked with Census and\n",
    "\"pioneered the transition from a record-by-record matching approach to an\n",
    "approach that better uses groups of records, such as full households, to make more\n",
    "and better links.\"\n",
    "Specifically, they claim that 16% of previously unlinked records were linked using\n",
    "the household-level approach.\n",
    "\n",
    "**TODO**: Haven't figured out if this is still in use, nor how it works.\n",
    "This module seems of particular interest, because it sounds like it is quite different\n",
    "from other modules."
   ]
  },
  {
   "cell_type": "markdown",
   "id": "b7412843-d6c2-4064-ab38-ab9335b9d71e",
   "metadata": {
    "papermill": {
     "duration": 0.025389,
     "end_time": "2023-12-01T17:58:16.535456",
     "exception": false,
     "start_time": "2023-12-01T17:58:16.510067",
     "status": "completed"
    },
    "tags": []
   },
   "source": [
    "# NameSearch\n",
    "\n",
    "Brown et al., p. 29:\n",
    "\n",
    "> ... the NameSearch module, which uses only name and DOB fields, comparing all combinations of\n",
    "alternate names and dates of birth.\n",
    "\n",
    "Wagner and Layne, p. 15:\n",
    "\n",
    "> The NameSearch module searches the reference files for records failing the\n",
    "Verification and GeoSearch Modules. Only name and date of birth data are used in this\n",
    "search process. NameSearch consists of multiple passes against the Numident Name\n",
    "Reference file, which contains all possible combinations of alternate names and\n",
    "alternate dates of birth for each SSN in the Census Numident file, and includes data for\n",
    "ITINs.\n",
    "> \n",
    "> The typical NameSearch blocking strategy starts with a strict first pass, blocking\n",
    "records by exact date of birth and parts of names. Successive passes block on parts of\n",
    "the name and date of birth fields to allow for some name and date of birth variation.\n",
    "The typical match variables are first, middle and last names, generational suffix, date of\n",
    "birth, and gender.\n",
    "\n",
    "As in GeoSearch, the only full listing I could find of passes with blocking and matching variables\n",
    "was in Layne, Wagner, and Rothhaas.\n",
    "This is probably somewhat out of date and is not what would be used on a CUF, but I have\n",
    "copied it exactly here."
   ]
  },
  {
   "cell_type": "code",
   "execution_count": 58,
   "id": "fdf41a6a-8c72-4c9a-bb8c-410d7877414f",
   "metadata": {
    "execution": {
     "iopub.execute_input": "2023-12-01T17:58:16.584231Z",
     "iopub.status.busy": "2023-12-01T17:58:16.583937Z",
     "iopub.status.idle": "2023-12-01T17:58:16.587167Z",
     "shell.execute_reply": "2023-12-01T17:58:16.586686Z"
    },
    "papermill": {
     "duration": 0.029044,
     "end_time": "2023-12-01T17:58:16.588326",
     "exception": false,
     "start_time": "2023-12-01T17:58:16.559282",
     "status": "completed"
    },
    "tags": []
   },
   "outputs": [],
   "source": [
    "person_linkage_cascade.start_module(\n",
    "    name=\"namesearch\",\n",
    "    reference_file=name_dob_reference_file,\n",
    "    reference_file_name=\"name_dob_reference_file\",\n",
    "    cut_columns=[\"first_initial_cut\", \"last_initial_cut\"],\n",
    "    matching_columns=[\n",
    "        \"first_name_15\",\n",
    "        \"last_name_12\",\n",
    "        \"middle_initial\",\n",
    "        \"day_of_birth\",\n",
    "        \"month_of_birth\",\n",
    "        \"year_of_birth\",\n",
    "    ],\n",
    ")"
   ]
  },
  {
   "cell_type": "markdown",
   "id": "bf43e928-be1c-4f2a-a747-e624c19d40d6",
   "metadata": {
    "papermill": {
     "duration": 0.023579,
     "end_time": "2023-12-01T17:58:16.637001",
     "exception": false,
     "start_time": "2023-12-01T17:58:16.613422",
     "status": "completed"
    },
    "tags": []
   },
   "source": [
    "## Pass 1: Block on DOB and NYSIIS of name"
   ]
  },
  {
   "cell_type": "code",
   "execution_count": 59,
   "id": "01e5baab-1b94-4359-9398-c829ebb2a920",
   "metadata": {
    "execution": {
     "iopub.execute_input": "2023-12-01T17:58:16.686782Z",
     "iopub.status.busy": "2023-12-01T17:58:16.686505Z",
     "iopub.status.idle": "2023-12-01T17:58:17.042173Z",
     "shell.execute_reply": "2023-12-01T17:58:17.041505Z"
    },
    "papermill": {
     "duration": 0.382119,
     "end_time": "2023-12-01T17:58:17.043319",
     "exception": false,
     "start_time": "2023-12-01T17:58:16.661200",
     "status": "completed"
    },
    "tags": []
   },
   "outputs": [
    {
     "name": "stdout",
     "output_type": "stream",
     "text": [
      "Running DOB and NYSIIS of name of namesearch\n",
      "Files to link are 19,875 and 1,092 records\n",
      "Number of pairs that will be compared: 256\n"
     ]
    },
    {
     "data": {
      "text/html": [
       "\n",
       "        <iframe\n",
       "            width=\"100%\"\n",
       "            height=\"1200\"\n",
       "            src=\"./splink_temp/namesearch__DOB_and_NYSIIS_of_name.html\"\n",
       "            frameborder=\"0\"\n",
       "            allowfullscreen\n",
       "            \n",
       "        ></iframe>\n",
       "        "
      ],
      "text/plain": [
       "<IPython.lib.display.IFrame at 0x7f5e51cab100>"
      ]
     },
     "metadata": {},
     "output_type": "display_data"
    },
    {
     "name": "stdout",
     "output_type": "stream",
     "text": [
      "Matched 256 records; 7.58% still eligible to match\n"
     ]
    }
   ],
   "source": [
    "person_linkage_cascade.run_matching_pass(\n",
    "    pass_name=\"DOB and NYSIIS of name\",\n",
    "    blocking_columns=[\"day_of_birth\", \"month_of_birth\", \"year_of_birth\", \"first_name_nysiis\", \"last_name_nysiis\"],\n",
    ")"
   ]
  },
  {
   "cell_type": "markdown",
   "id": "bedbec09-ed90-4d7d-9fe3-4a934b6d8bce",
   "metadata": {
    "papermill": {
     "duration": 0.02511,
     "end_time": "2023-12-01T17:58:17.093577",
     "exception": false,
     "start_time": "2023-12-01T17:58:17.068467",
     "status": "completed"
    },
    "tags": []
   },
   "source": [
    "## Pass 2: Block on DOB and initials"
   ]
  },
  {
   "cell_type": "code",
   "execution_count": 60,
   "id": "7011e74c-b87e-436c-9c75-5fe23fafdd8e",
   "metadata": {
    "execution": {
     "iopub.execute_input": "2023-12-01T17:58:17.143844Z",
     "iopub.status.busy": "2023-12-01T17:58:17.143506Z",
     "iopub.status.idle": "2023-12-01T17:58:17.487499Z",
     "shell.execute_reply": "2023-12-01T17:58:17.486818Z"
    },
    "papermill": {
     "duration": 0.371005,
     "end_time": "2023-12-01T17:58:17.488656",
     "exception": false,
     "start_time": "2023-12-01T17:58:17.117651",
     "status": "completed"
    },
    "tags": []
   },
   "outputs": [
    {
     "name": "stdout",
     "output_type": "stream",
     "text": [
      "Running DOB and initials of namesearch\n",
      "Files to link are 19,875 and 836 records\n"
     ]
    },
    {
     "name": "stdout",
     "output_type": "stream",
     "text": [
      "Number of pairs that will be compared: 96\n"
     ]
    },
    {
     "data": {
      "text/html": [
       "\n",
       "        <iframe\n",
       "            width=\"100%\"\n",
       "            height=\"1200\"\n",
       "            src=\"./splink_temp/namesearch__DOB_and_initials.html\"\n",
       "            frameborder=\"0\"\n",
       "            allowfullscreen\n",
       "            \n",
       "        ></iframe>\n",
       "        "
      ],
      "text/plain": [
       "<IPython.lib.display.IFrame at 0x7f5c94bb40a0>"
      ]
     },
     "metadata": {},
     "output_type": "display_data"
    },
    {
     "name": "stdout",
     "output_type": "stream",
     "text": [
      "Matched 86 records; 6.80% still eligible to match\n"
     ]
    }
   ],
   "source": [
    "person_linkage_cascade.run_matching_pass(\n",
    "    pass_name=\"DOB and initials\",\n",
    "    blocking_columns=[\"day_of_birth\", \"month_of_birth\", \"year_of_birth\", \"first_name_1\", \"last_name_1\"],\n",
    ")"
   ]
  },
  {
   "cell_type": "markdown",
   "id": "1d3e5dad-fbb8-4e7f-9b31-8ef079623b71",
   "metadata": {
    "papermill": {
     "duration": 0.024862,
     "end_time": "2023-12-01T17:58:17.539884",
     "exception": false,
     "start_time": "2023-12-01T17:58:17.515022",
     "status": "completed"
    },
    "tags": []
   },
   "source": [
    "## Pass 3: Block on year of birth and first two characters of name"
   ]
  },
  {
   "cell_type": "code",
   "execution_count": 61,
   "id": "afdc57ab-bf73-4524-a82a-4242a7e37be3",
   "metadata": {
    "execution": {
     "iopub.execute_input": "2023-12-01T17:58:17.592039Z",
     "iopub.status.busy": "2023-12-01T17:58:17.591708Z",
     "iopub.status.idle": "2023-12-01T17:58:17.937058Z",
     "shell.execute_reply": "2023-12-01T17:58:17.936379Z"
    },
    "papermill": {
     "duration": 0.372578,
     "end_time": "2023-12-01T17:58:17.938195",
     "exception": false,
     "start_time": "2023-12-01T17:58:17.565617",
     "status": "completed"
    },
    "tags": []
   },
   "outputs": [
    {
     "name": "stdout",
     "output_type": "stream",
     "text": [
      "Running year of birth and first two characters of name of namesearch\n",
      "Files to link are 19,875 and 750 records\n"
     ]
    },
    {
     "name": "stdout",
     "output_type": "stream",
     "text": [
      "Number of pairs that will be compared: 34\n"
     ]
    },
    {
     "data": {
      "text/html": [
       "\n",
       "        <iframe\n",
       "            width=\"100%\"\n",
       "            height=\"1200\"\n",
       "            src=\"./splink_temp/namesearch__year_of_birth_and_first_two_characters_of_name.html\"\n",
       "            frameborder=\"0\"\n",
       "            allowfullscreen\n",
       "            \n",
       "        ></iframe>\n",
       "        "
      ],
      "text/plain": [
       "<IPython.lib.display.IFrame at 0x7f5e4f8e6590>"
      ]
     },
     "metadata": {},
     "output_type": "display_data"
    },
    {
     "name": "stdout",
     "output_type": "stream",
     "text": [
      "Matched 6 records; 6.74% still eligible to match\n"
     ]
    }
   ],
   "source": [
    "person_linkage_cascade.run_matching_pass(\n",
    "    pass_name=\"year of birth and first two characters of name\",\n",
    "    blocking_columns=[\"year_of_birth\", \"first_name_2\", \"last_name_2\"],\n",
    ")"
   ]
  },
  {
   "cell_type": "markdown",
   "id": "980962d2-3da2-4ca1-82b6-6452e6fce0f8",
   "metadata": {
    "papermill": {
     "duration": 0.025774,
     "end_time": "2023-12-01T17:58:17.991304",
     "exception": false,
     "start_time": "2023-12-01T17:58:17.965530",
     "status": "completed"
    },
    "tags": []
   },
   "source": [
    "## Pass 4: Block on birthday and first two characters of name"
   ]
  },
  {
   "cell_type": "code",
   "execution_count": 62,
   "id": "9ea04745-1b41-4e13-8975-bb2e015c3fa2",
   "metadata": {
    "execution": {
     "iopub.execute_input": "2023-12-01T17:58:18.044382Z",
     "iopub.status.busy": "2023-12-01T17:58:18.044058Z",
     "iopub.status.idle": "2023-12-01T17:58:18.396864Z",
     "shell.execute_reply": "2023-12-01T17:58:18.396184Z"
    },
    "papermill": {
     "duration": 0.380251,
     "end_time": "2023-12-01T17:58:18.398018",
     "exception": false,
     "start_time": "2023-12-01T17:58:18.017767",
     "status": "completed"
    },
    "tags": []
   },
   "outputs": [
    {
     "name": "stdout",
     "output_type": "stream",
     "text": [
      "Running birthday and first two characters of name of namesearch\n",
      "Files to link are 19,875 and 744 records\n"
     ]
    },
    {
     "name": "stdout",
     "output_type": "stream",
     "text": [
      "Number of pairs that will be compared: 39\n"
     ]
    },
    {
     "data": {
      "text/html": [
       "\n",
       "        <iframe\n",
       "            width=\"100%\"\n",
       "            height=\"1200\"\n",
       "            src=\"./splink_temp/namesearch__birthday_and_first_two_characters_of_name.html\"\n",
       "            frameborder=\"0\"\n",
       "            allowfullscreen\n",
       "            \n",
       "        ></iframe>\n",
       "        "
      ],
      "text/plain": [
       "<IPython.lib.display.IFrame at 0x7f5b42990a60>"
      ]
     },
     "metadata": {},
     "output_type": "display_data"
    },
    {
     "name": "stdout",
     "output_type": "stream",
     "text": [
      "Matched 31 records; 6.46% still eligible to match\n"
     ]
    }
   ],
   "source": [
    "person_linkage_cascade.run_matching_pass(\n",
    "    pass_name=\"birthday and first two characters of name\",\n",
    "    blocking_columns=[\"day_of_birth\", \"month_of_birth\", \"first_name_2\", \"last_name_2\"],\n",
    ")"
   ]
  },
  {
   "cell_type": "markdown",
   "id": "368e0d7c-54d8-4ce5-9723-0650a2a58924",
   "metadata": {
    "papermill": {
     "duration": 0.026073,
     "end_time": "2023-12-01T17:58:18.450837",
     "exception": false,
     "start_time": "2023-12-01T17:58:18.424764",
     "status": "completed"
    },
    "tags": []
   },
   "source": [
    "## Post-process and confirm PIKs"
   ]
  },
  {
   "cell_type": "code",
   "execution_count": 63,
   "id": "76a7588d-85c3-4087-b6db-17dc31859cd7",
   "metadata": {
    "execution": {
     "iopub.execute_input": "2023-12-01T17:58:18.502951Z",
     "iopub.status.busy": "2023-12-01T17:58:18.502620Z",
     "iopub.status.idle": "2023-12-01T17:58:18.534880Z",
     "shell.execute_reply": "2023-12-01T17:58:18.534270Z"
    },
    "papermill": {
     "duration": 0.05946,
     "end_time": "2023-12-01T17:58:18.535951",
     "exception": false,
     "start_time": "2023-12-01T17:58:18.476491",
     "status": "completed"
    },
    "tags": []
   },
   "outputs": [
    {
     "name": "stdout",
     "output_type": "stream",
     "text": [
      "69 input records linked to deceased people, dropping links\n",
      "0 input records linked to multiple PIKs, dropping links\n"
     ]
    }
   ],
   "source": [
    "person_linkage_cascade.confirm_piks()"
   ]
  },
  {
   "cell_type": "code",
   "execution_count": 64,
   "id": "7892c48c-c5d5-44c6-9439-2f59ebc053b5",
   "metadata": {
    "execution": {
     "iopub.execute_input": "2023-12-01T17:58:18.587127Z",
     "iopub.status.busy": "2023-12-01T17:58:18.586793Z",
     "iopub.status.idle": "2023-12-01T17:58:18.594006Z",
     "shell.execute_reply": "2023-12-01T17:58:18.593485Z"
    },
    "papermill": {
     "duration": 0.033746,
     "end_time": "2023-12-01T17:58:18.595037",
     "exception": false,
     "start_time": "2023-12-01T17:58:18.561291",
     "status": "completed"
    },
    "tags": []
   },
   "outputs": [
    {
     "data": {
      "text/plain": [
       "module_name  pass_name                                     \n",
       "geosearch    geokey                                            7964\n",
       "             some name and DOB information                     1170\n",
       "             house number and street name Soundex               802\n",
       "namesearch   DOB and NYSIIS of name                             205\n",
       "             DOB and initials                                    70\n",
       "             birthday and first two characters of name           31\n",
       "             year of birth and first two characters of name       4\n",
       "dtype: int64"
      ]
     },
     "execution_count": 64,
     "metadata": {},
     "output_type": "execute_result"
    }
   ],
   "source": [
    "df_ops.compute(person_linkage_cascade.confirmed_piks.groupby([\"module_name\", \"pass_name\"]).size()).sort_values(ascending=False)"
   ]
  },
  {
   "cell_type": "markdown",
   "id": "5cf67411-44e7-4ae8-926c-9b1f56d4522f",
   "metadata": {
    "papermill": {
     "duration": 0.026341,
     "end_time": "2023-12-01T17:58:18.648619",
     "exception": false,
     "start_time": "2023-12-01T17:58:18.622278",
     "status": "completed"
    },
    "tags": []
   },
   "source": [
    "# DOBSearch\n",
    "\n",
    "Brown et al., p. 29:\n",
    "\n",
    "> ... the DOBSearch module, which blocks on\n",
    "month and day of birth, then compares name, sex, and DOB.\n",
    "\n",
    "Wagner and Layne, p. 15:\n",
    "\n",
    "> The DOBSearch module searches the reference files for the records that fail the\n",
    "> NameSearch, using name and date of birth data. The module matches against a re-split\n",
    "> version of the Numident Name Reference file, splitting the data based on month and day\n",
    "> of birth.\n",
    "> \n",
    "> There are typically four blocking passes in the DOBSearch module. The first pass\n",
    "> blocks records by first name in the incoming file to last name in the DOB Reference file\n",
    "> and last name in incoming file to first name in the DOB Reference file. This strategy\n",
    "> accounts for switching of first and last name in the incoming file.\n",
    "\n",
    "Again, I have used the exact passes listed for this module in Layne, Wagner, and Rothhaas.\n",
    "This is somewhat corroborated to be \"typical\" given that it is consistent with Wagner and Layne\n",
    "above, but both papers are old."
   ]
  },
  {
   "cell_type": "code",
   "execution_count": 65,
   "id": "38bbc963-25e2-4f17-9721-f855589dd28a",
   "metadata": {
    "execution": {
     "iopub.execute_input": "2023-12-01T17:58:18.702283Z",
     "iopub.status.busy": "2023-12-01T17:58:18.701990Z",
     "iopub.status.idle": "2023-12-01T17:58:18.705422Z",
     "shell.execute_reply": "2023-12-01T17:58:18.704883Z"
    },
    "papermill": {
     "duration": 0.031034,
     "end_time": "2023-12-01T17:58:18.706570",
     "exception": false,
     "start_time": "2023-12-01T17:58:18.675536",
     "status": "completed"
    },
    "tags": []
   },
   "outputs": [],
   "source": [
    "person_linkage_cascade.start_module(\n",
    "    name=\"dobsearch\",\n",
    "    reference_file=name_dob_reference_file,\n",
    "    reference_file_name=\"name_dob_reference_file\",\n",
    "    cut_columns=[\"day_of_birth\", \"month_of_birth\"],\n",
    "    matching_columns=[\n",
    "        \"first_name_15\",\n",
    "        \"last_name_12\",\n",
    "        \"middle_initial\",\n",
    "        \"day_of_birth\",\n",
    "        \"month_of_birth\",\n",
    "        \"year_of_birth\",\n",
    "    ],\n",
    ")"
   ]
  },
  {
   "cell_type": "markdown",
   "id": "1ec6013e-ea45-463d-8095-ef3e4c8abf20",
   "metadata": {
    "papermill": {
     "duration": 0.025157,
     "end_time": "2023-12-01T17:58:18.757180",
     "exception": false,
     "start_time": "2023-12-01T17:58:18.732023",
     "status": "completed"
    },
    "tags": []
   },
   "source": [
    "## Pass 1: Block on initials, switching first and last names"
   ]
  },
  {
   "cell_type": "code",
   "execution_count": 66,
   "id": "b9fa73d4-ee01-4a35-94f9-ab0eb6b09132",
   "metadata": {
    "execution": {
     "iopub.execute_input": "2023-12-01T17:58:18.809432Z",
     "iopub.status.busy": "2023-12-01T17:58:18.809151Z",
     "iopub.status.idle": "2023-12-01T17:58:19.056909Z",
     "shell.execute_reply": "2023-12-01T17:58:19.056213Z"
    },
    "papermill": {
     "duration": 0.275188,
     "end_time": "2023-12-01T17:58:19.058064",
     "exception": false,
     "start_time": "2023-12-01T17:58:18.782876",
     "status": "completed"
    },
    "tags": []
   },
   "outputs": [
    {
     "name": "stdout",
     "output_type": "stream",
     "text": [
      "Running initials name switch of dobsearch\n",
      "Files to link are 19,875 and 782 records\n",
      "Number of pairs that will be compared: 99\n"
     ]
    },
    {
     "name": "stdout",
     "output_type": "stream",
     "text": [
      "Matched 0 records; 7.09% still eligible to match\n"
     ]
    }
   ],
   "source": [
    "person_linkage_cascade.run_matching_pass(\n",
    "    pass_name=\"initials name switch\",\n",
    "    blocking_columns=[\"first_name_1\", \"last_name_1\"],\n",
    "    input_data_transformation=switch_first_and_last_names,\n",
    ")"
   ]
  },
  {
   "cell_type": "markdown",
   "id": "8fa68a9b-6f38-4f7c-8246-65a3bd780f54",
   "metadata": {
    "papermill": {
     "duration": 0.025009,
     "end_time": "2023-12-01T17:58:19.109272",
     "exception": false,
     "start_time": "2023-12-01T17:58:19.084263",
     "status": "completed"
    },
    "tags": []
   },
   "source": [
    "## Pass 2: Block on first three characters of name"
   ]
  },
  {
   "cell_type": "code",
   "execution_count": 67,
   "id": "75d3d033-96ae-43bf-8f90-c73036c39d0f",
   "metadata": {
    "execution": {
     "iopub.execute_input": "2023-12-01T17:58:19.161555Z",
     "iopub.status.busy": "2023-12-01T17:58:19.161220Z",
     "iopub.status.idle": "2023-12-01T17:58:19.490290Z",
     "shell.execute_reply": "2023-12-01T17:58:19.489593Z"
    },
    "papermill": {
     "duration": 0.355992,
     "end_time": "2023-12-01T17:58:19.491448",
     "exception": false,
     "start_time": "2023-12-01T17:58:19.135456",
     "status": "completed"
    },
    "tags": []
   },
   "outputs": [
    {
     "name": "stdout",
     "output_type": "stream",
     "text": [
      "Running first three characters of name of dobsearch\n",
      "Files to link are 19,875 and 782 records\n"
     ]
    },
    {
     "name": "stdout",
     "output_type": "stream",
     "text": [
      "Number of pairs that will be compared: 61\n"
     ]
    },
    {
     "data": {
      "text/html": [
       "\n",
       "        <iframe\n",
       "            width=\"100%\"\n",
       "            height=\"1200\"\n",
       "            src=\"./splink_temp/dobsearch__first_three_characters_of_name.html\"\n",
       "            frameborder=\"0\"\n",
       "            allowfullscreen\n",
       "            \n",
       "        ></iframe>\n",
       "        "
      ],
      "text/plain": [
       "<IPython.lib.display.IFrame at 0x7f5b42a057e0>"
      ]
     },
     "metadata": {},
     "output_type": "display_data"
    },
    {
     "name": "stdout",
     "output_type": "stream",
     "text": [
      "Matched 59 records; 6.55% still eligible to match\n"
     ]
    }
   ],
   "source": [
    "person_linkage_cascade.run_matching_pass(\n",
    "    pass_name=\"first three characters of name\",\n",
    "    blocking_columns=[\"first_name_3\", \"last_name_3\"],\n",
    ")"
   ]
  },
  {
   "cell_type": "markdown",
   "id": "10d06a88-895a-469b-a830-57c46c58ae45",
   "metadata": {
    "papermill": {
     "duration": 0.026365,
     "end_time": "2023-12-01T17:58:19.543405",
     "exception": false,
     "start_time": "2023-12-01T17:58:19.517040",
     "status": "completed"
    },
    "tags": []
   },
   "source": [
    "## Pass 3: Block on reverse Soundex of name"
   ]
  },
  {
   "cell_type": "code",
   "execution_count": 68,
   "id": "a05e24ef-2ae2-4ca7-8d92-05630a1d61d1",
   "metadata": {
    "execution": {
     "iopub.execute_input": "2023-12-01T17:58:19.596632Z",
     "iopub.status.busy": "2023-12-01T17:58:19.596304Z",
     "iopub.status.idle": "2023-12-01T17:58:20.016725Z",
     "shell.execute_reply": "2023-12-01T17:58:20.016088Z"
    },
    "papermill": {
     "duration": 0.448383,
     "end_time": "2023-12-01T17:58:20.017840",
     "exception": false,
     "start_time": "2023-12-01T17:58:19.569457",
     "status": "completed"
    },
    "tags": []
   },
   "outputs": [
    {
     "name": "stdout",
     "output_type": "stream",
     "text": [
      "Running reverse Soundex of name of dobsearch\n",
      "Files to link are 19,875 and 723 records\n"
     ]
    },
    {
     "name": "stdout",
     "output_type": "stream",
     "text": [
      "Number of pairs that will be compared: 33\n"
     ]
    },
    {
     "data": {
      "text/html": [
       "\n",
       "        <iframe\n",
       "            width=\"100%\"\n",
       "            height=\"1200\"\n",
       "            src=\"./splink_temp/dobsearch__reverse_Soundex_of_name.html\"\n",
       "            frameborder=\"0\"\n",
       "            allowfullscreen\n",
       "            \n",
       "        ></iframe>\n",
       "        "
      ],
      "text/plain": [
       "<IPython.lib.display.IFrame at 0x7f5e4f9069b0>"
      ]
     },
     "metadata": {},
     "output_type": "display_data"
    },
    {
     "name": "stdout",
     "output_type": "stream",
     "text": [
      "Matched 31 records; 6.27% still eligible to match\n"
     ]
    }
   ],
   "source": [
    "person_linkage_cascade.run_matching_pass(\n",
    "    pass_name=\"reverse Soundex of name\",\n",
    "    blocking_columns=[\"first_name_reverse_soundex\", \"last_name_reverse_soundex\"],\n",
    ")"
   ]
  },
  {
   "cell_type": "markdown",
   "id": "f5a4da3d-c9c7-4c50-b409-0bf76920828f",
   "metadata": {
    "papermill": {
     "duration": 0.026107,
     "end_time": "2023-12-01T17:58:20.071011",
     "exception": false,
     "start_time": "2023-12-01T17:58:20.044904",
     "status": "completed"
    },
    "tags": []
   },
   "source": [
    "## Pass 4: Block on first two characters of first name and year of birth"
   ]
  },
  {
   "cell_type": "code",
   "execution_count": 69,
   "id": "19e39510-cabb-46a6-99f8-e1969a8eb364",
   "metadata": {
    "execution": {
     "iopub.execute_input": "2023-12-01T17:58:20.125133Z",
     "iopub.status.busy": "2023-12-01T17:58:20.124806Z",
     "iopub.status.idle": "2023-12-01T17:58:20.427248Z",
     "shell.execute_reply": "2023-12-01T17:58:20.426596Z"
    },
    "papermill": {
     "duration": 0.331272,
     "end_time": "2023-12-01T17:58:20.428387",
     "exception": false,
     "start_time": "2023-12-01T17:58:20.097115",
     "status": "completed"
    },
    "tags": []
   },
   "outputs": [
    {
     "name": "stdout",
     "output_type": "stream",
     "text": [
      "Running first two characters of first name and year of birth of dobsearch\n",
      "Files to link are 19,875 and 692 records\n"
     ]
    },
    {
     "name": "stdout",
     "output_type": "stream",
     "text": [
      "Number of pairs that will be compared: 95\n"
     ]
    },
    {
     "data": {
      "text/html": [
       "\n",
       "        <iframe\n",
       "            width=\"100%\"\n",
       "            height=\"1200\"\n",
       "            src=\"./splink_temp/dobsearch__first_two_characters_of_first_name_and_year_of_birth.html\"\n",
       "            frameborder=\"0\"\n",
       "            allowfullscreen\n",
       "            \n",
       "        ></iframe>\n",
       "        "
      ],
      "text/plain": [
       "<IPython.lib.display.IFrame at 0x7f5e4f90d180>"
      ]
     },
     "metadata": {},
     "output_type": "display_data"
    },
    {
     "name": "stdout",
     "output_type": "stream",
     "text": [
      "Matched 80 records; 5.55% still eligible to match\n"
     ]
    }
   ],
   "source": [
    "person_linkage_cascade.run_matching_pass(\n",
    "    pass_name=\"first two characters of first name and year of birth\",\n",
    "    blocking_columns=[\"first_name_2\", \"year_of_birth\"],\n",
    ")"
   ]
  },
  {
   "cell_type": "markdown",
   "id": "466e3db4-998e-40cd-9e33-ef6cf6e99b9b",
   "metadata": {
    "papermill": {
     "duration": 0.026682,
     "end_time": "2023-12-01T17:58:20.482756",
     "exception": false,
     "start_time": "2023-12-01T17:58:20.456074",
     "status": "completed"
    },
    "tags": []
   },
   "source": [
    "## Post-process and confirm PIKs"
   ]
  },
  {
   "cell_type": "code",
   "execution_count": 70,
   "id": "9581f811-9d21-449d-8682-97eb0ef0e493",
   "metadata": {
    "execution": {
     "iopub.execute_input": "2023-12-01T17:58:20.536199Z",
     "iopub.status.busy": "2023-12-01T17:58:20.535647Z",
     "iopub.status.idle": "2023-12-01T17:58:20.569779Z",
     "shell.execute_reply": "2023-12-01T17:58:20.569194Z"
    },
    "papermill": {
     "duration": 0.062174,
     "end_time": "2023-12-01T17:58:20.570855",
     "exception": false,
     "start_time": "2023-12-01T17:58:20.508681",
     "status": "completed"
    },
    "tags": []
   },
   "outputs": [
    {
     "name": "stdout",
     "output_type": "stream",
     "text": [
      "74 input records linked to deceased people, dropping links\n",
      "0 input records linked to multiple PIKs, dropping links\n"
     ]
    }
   ],
   "source": [
    "person_linkage_cascade.confirm_piks()"
   ]
  },
  {
   "cell_type": "code",
   "execution_count": 71,
   "id": "853bb87d-ac28-41b1-a661-63d38169615b",
   "metadata": {
    "execution": {
     "iopub.execute_input": "2023-12-01T17:58:20.627092Z",
     "iopub.status.busy": "2023-12-01T17:58:20.626781Z",
     "iopub.status.idle": "2023-12-01T17:58:20.633726Z",
     "shell.execute_reply": "2023-12-01T17:58:20.633206Z"
    },
    "papermill": {
     "duration": 0.035549,
     "end_time": "2023-12-01T17:58:20.634837",
     "exception": false,
     "start_time": "2023-12-01T17:58:20.599288",
     "status": "completed"
    },
    "tags": []
   },
   "outputs": [
    {
     "data": {
      "text/plain": [
       "module_name  pass_name                                           \n",
       "geosearch    geokey                                                  7964\n",
       "             some name and DOB information                           1170\n",
       "             house number and street name Soundex                     802\n",
       "namesearch   DOB and NYSIIS of name                                   205\n",
       "dobsearch    first two characters of first name and year of birth      70\n",
       "namesearch   DOB and initials                                          70\n",
       "             birthday and first two characters of name                 31\n",
       "dobsearch    reverse Soundex of name                                   25\n",
       "namesearch   year of birth and first two characters of name             4\n",
       "dtype: int64"
      ]
     },
     "execution_count": 71,
     "metadata": {},
     "output_type": "execute_result"
    }
   ],
   "source": [
    "df_ops.compute(person_linkage_cascade.confirmed_piks.groupby([\"module_name\", \"pass_name\"]).size()).sort_values(ascending=False)"
   ]
  },
  {
   "cell_type": "markdown",
   "id": "58ab65b7-a7ff-46e9-bc54-397bdeb8f6e5",
   "metadata": {
    "papermill": {
     "duration": 0.026728,
     "end_time": "2023-12-01T17:58:20.689369",
     "exception": false,
     "start_time": "2023-12-01T17:58:20.662641",
     "status": "completed"
    },
    "tags": []
   },
   "source": [
    "# HHCompSearch\n",
    "\n",
    "Brown et al., p. 29:\n",
    "\n",
    "> ... the Household Composition search module, which requires at least one\n",
    "> person in the household of the unmatched person to have received a PIK.\n",
    "> The full set of unmatched records with historical name, DOB, sex, and address data from\n",
    "> households whose members with PIKs were observed in the past is created. The module\n",
    "> attempts to find a match to this universe based on name and DOB information.\n",
    "\n",
    "Wagner and Layne, p. 16:\n",
    "\n",
    "> For persons with a PIK in the eligible household, all of the geokeys from the PVS\n",
    "> GeoBase are extracted for each of these PIKs. The geokeys are unduplicated and all\n",
    "> persons are selected from the PVS GeoBase with these geokeys. Next, the program\n",
    "> removes all household members with a PIK, leaving the unPIKed persons in the\n",
    "> household. This becomes the reference file to search against. There are typically two\n",
    "> passes in this module. Records are blocked by MAFID, name, date of birth, and gender.\n",
    "\n",
    "I don't know of any list of passes in this module.\n",
    "Blocking on \"MAFID, name, date of birth, and gender\" seems like a lot for only\n",
    "two passes, especially given that we are only matching people within each eligible\n",
    "household.\n",
    "I'm actually a bit surprised there is any blocking at all, given how restrictive this\n",
    "module inherently is.\n",
    "I've split the difference here by creating two passes that are very permissive."
   ]
  },
  {
   "cell_type": "markdown",
   "id": "cdd285ed-2445-42d2-8942-3bb9d241dd16",
   "metadata": {
    "papermill": {
     "duration": 0.026061,
     "end_time": "2023-12-01T17:58:20.742343",
     "exception": false,
     "start_time": "2023-12-01T17:58:20.716282",
     "status": "completed"
    },
    "tags": []
   },
   "source": [
    "## Create the reference file"
   ]
  },
  {
   "cell_type": "code",
   "execution_count": 72,
   "id": "064cc7af-6f17-44e6-b061-c8aa0e522a1b",
   "metadata": {
    "execution": {
     "iopub.execute_input": "2023-12-01T17:58:20.795468Z",
     "iopub.status.busy": "2023-12-01T17:58:20.795188Z",
     "iopub.status.idle": "2023-12-01T17:58:20.830700Z",
     "shell.execute_reply": "2023-12-01T17:58:20.830206Z"
    },
    "papermill": {
     "duration": 0.063881,
     "end_time": "2023-12-01T17:58:20.831991",
     "exception": false,
     "start_time": "2023-12-01T17:58:20.768110",
     "status": "completed"
    },
    "tags": []
   },
   "outputs": [],
   "source": [
    "# TODO: As of now in pseudopeople, our only indicator in the Census data of household\n",
    "# is noiseless (ground truth).\n",
    "# Instead, we use geokey to approximate the household clustering information that would be\n",
    "# present in the real dataset.\n",
    "# We should switch to using a (presumably low-noise) household indicator when we have that.\n",
    "pseudo_household_id = (\n",
    "    df_ops.drop_duplicates(census_2030[[\"geokey\"]])\n",
    "        .pipe(df_ops.add_unique_id_col, col_name=\"pseudo_household_id\")\n",
    ")\n",
    "census_2030 = df_ops.persist(census_2030.merge(pseudo_household_id, on=\"geokey\", how=\"left\"))\n",
    "\n",
    "piks_with_household = df_ops.persist(\n",
    "    census_2030[[\"pseudo_household_id\", \"record_id_raw_input_file\"]]\n",
    "        .merge(person_linkage_cascade.confirmed_piks, on=\"record_id_raw_input_file\", how=\"left\")\n",
    ")\n",
    "piked_by_household = df_ops.groupby_agg_small_groups(\n",
    "    piks_with_household,\n",
    "    by=\"pseudo_household_id\",\n",
    "    agg_func=lambda x: x.pik.agg(['count', 'size'])\n",
    ").reset_index().rename(columns={'count': 'piked'}).assign(unpiked=lambda x: x['size'] - x['piked'])"
   ]
  },
  {
   "cell_type": "code",
   "execution_count": 73,
   "id": "e132faf1-95ba-4d1f-896e-9508168b3cc6",
   "metadata": {
    "execution": {
     "iopub.execute_input": "2023-12-01T17:58:20.890624Z",
     "iopub.status.busy": "2023-12-01T17:58:20.890290Z",
     "iopub.status.idle": "2023-12-01T17:58:20.897815Z",
     "shell.execute_reply": "2023-12-01T17:58:20.897310Z"
    },
    "papermill": {
     "duration": 0.036388,
     "end_time": "2023-12-01T17:58:20.898867",
     "exception": false,
     "start_time": "2023-12-01T17:58:20.862479",
     "status": "completed"
    },
    "tags": []
   },
   "outputs": [
    {
     "data": {
      "text/html": [
       "<div>\n",
       "<style scoped>\n",
       "    .dataframe tbody tr th:only-of-type {\n",
       "        vertical-align: middle;\n",
       "    }\n",
       "\n",
       "    .dataframe tbody tr th {\n",
       "        vertical-align: top;\n",
       "    }\n",
       "\n",
       "    .dataframe thead th {\n",
       "        text-align: right;\n",
       "    }\n",
       "</style>\n",
       "<table border=\"1\" class=\"dataframe\">\n",
       "  <thead>\n",
       "    <tr style=\"text-align: right;\">\n",
       "      <th></th>\n",
       "      <th>pseudo_household_id</th>\n",
       "    </tr>\n",
       "  </thead>\n",
       "  <tbody>\n",
       "    <tr>\n",
       "      <th>6</th>\n",
       "      <td>10009</td>\n",
       "    </tr>\n",
       "    <tr>\n",
       "      <th>42</th>\n",
       "      <td>10063</td>\n",
       "    </tr>\n",
       "    <tr>\n",
       "      <th>107</th>\n",
       "      <td>10162</td>\n",
       "    </tr>\n",
       "    <tr>\n",
       "      <th>135</th>\n",
       "      <td>10204</td>\n",
       "    </tr>\n",
       "    <tr>\n",
       "      <th>182</th>\n",
       "      <td>10281</td>\n",
       "    </tr>\n",
       "    <tr>\n",
       "      <th>...</th>\n",
       "      <td>...</td>\n",
       "    </tr>\n",
       "    <tr>\n",
       "      <th>5532</th>\n",
       "      <td>9825</td>\n",
       "    </tr>\n",
       "    <tr>\n",
       "      <th>5576</th>\n",
       "      <td>99</td>\n",
       "    </tr>\n",
       "    <tr>\n",
       "      <th>5590</th>\n",
       "      <td>9919</td>\n",
       "    </tr>\n",
       "    <tr>\n",
       "      <th>5627</th>\n",
       "      <td>9970</td>\n",
       "    </tr>\n",
       "    <tr>\n",
       "      <th>5645</th>\n",
       "      <td>9995</td>\n",
       "    </tr>\n",
       "  </tbody>\n",
       "</table>\n",
       "<p>192 rows × 1 columns</p>\n",
       "</div>"
      ],
      "text/plain": [
       "     pseudo_household_id\n",
       "6                  10009\n",
       "42                 10063\n",
       "107                10162\n",
       "135                10204\n",
       "182                10281\n",
       "...                  ...\n",
       "5532                9825\n",
       "5576                  99\n",
       "5590                9919\n",
       "5627                9970\n",
       "5645                9995\n",
       "\n",
       "[192 rows x 1 columns]"
      ]
     },
     "execution_count": 73,
     "metadata": {},
     "output_type": "execute_result"
    }
   ],
   "source": [
    "eligible_households = piked_by_household[(piked_by_household.piked > 0) & (piked_by_household.unpiked > 0)][['pseudo_household_id']]\n",
    "eligible_households"
   ]
  },
  {
   "cell_type": "code",
   "execution_count": 74,
   "id": "4651e7cb-a057-413d-a4e6-5b6d5cc302eb",
   "metadata": {
    "execution": {
     "iopub.execute_input": "2023-12-01T17:58:20.953602Z",
     "iopub.status.busy": "2023-12-01T17:58:20.953322Z",
     "iopub.status.idle": "2023-12-01T17:58:20.966134Z",
     "shell.execute_reply": "2023-12-01T17:58:20.965430Z"
    },
    "papermill": {
     "duration": 0.040876,
     "end_time": "2023-12-01T17:58:20.967475",
     "exception": false,
     "start_time": "2023-12-01T17:58:20.926599",
     "status": "completed"
    },
    "tags": []
   },
   "outputs": [
    {
     "data": {
      "text/html": [
       "<div>\n",
       "<style scoped>\n",
       "    .dataframe tbody tr th:only-of-type {\n",
       "        vertical-align: middle;\n",
       "    }\n",
       "\n",
       "    .dataframe tbody tr th {\n",
       "        vertical-align: top;\n",
       "    }\n",
       "\n",
       "    .dataframe thead th {\n",
       "        text-align: right;\n",
       "    }\n",
       "</style>\n",
       "<table border=\"1\" class=\"dataframe\">\n",
       "  <thead>\n",
       "    <tr style=\"text-align: right;\">\n",
       "      <th></th>\n",
       "      <th>pseudo_household_id</th>\n",
       "      <th>pik</th>\n",
       "    </tr>\n",
       "  </thead>\n",
       "  <tbody>\n",
       "    <tr>\n",
       "      <th>0</th>\n",
       "      <td>10009</td>\n",
       "      <td>93612</td>\n",
       "    </tr>\n",
       "    <tr>\n",
       "      <th>1</th>\n",
       "      <td>10009</td>\n",
       "      <td>98016</td>\n",
       "    </tr>\n",
       "    <tr>\n",
       "      <th>2</th>\n",
       "      <td>10063</td>\n",
       "      <td>98268</td>\n",
       "    </tr>\n",
       "    <tr>\n",
       "      <th>3</th>\n",
       "      <td>10063</td>\n",
       "      <td>107728</td>\n",
       "    </tr>\n",
       "    <tr>\n",
       "      <th>4</th>\n",
       "      <td>10162</td>\n",
       "      <td>90884</td>\n",
       "    </tr>\n",
       "    <tr>\n",
       "      <th>...</th>\n",
       "      <td>...</td>\n",
       "      <td>...</td>\n",
       "    </tr>\n",
       "    <tr>\n",
       "      <th>2374</th>\n",
       "      <td>9919</td>\n",
       "      <td>98916</td>\n",
       "    </tr>\n",
       "    <tr>\n",
       "      <th>2375</th>\n",
       "      <td>9919</td>\n",
       "      <td>102517</td>\n",
       "    </tr>\n",
       "    <tr>\n",
       "      <th>2376</th>\n",
       "      <td>9919</td>\n",
       "      <td>105347</td>\n",
       "    </tr>\n",
       "    <tr>\n",
       "      <th>2377</th>\n",
       "      <td>9970</td>\n",
       "      <td>90840</td>\n",
       "    </tr>\n",
       "    <tr>\n",
       "      <th>2378</th>\n",
       "      <td>9995</td>\n",
       "      <td>93893</td>\n",
       "    </tr>\n",
       "  </tbody>\n",
       "</table>\n",
       "<p>2375 rows × 2 columns</p>\n",
       "</div>"
      ],
      "text/plain": [
       "     pseudo_household_id     pik\n",
       "0                  10009   93612\n",
       "1                  10009   98016\n",
       "2                  10063   98268\n",
       "3                  10063  107728\n",
       "4                  10162   90884\n",
       "...                  ...     ...\n",
       "2374                9919   98916\n",
       "2375                9919  102517\n",
       "2376                9919  105347\n",
       "2377                9970   90840\n",
       "2378                9995   93893\n",
       "\n",
       "[2375 rows x 2 columns]"
      ]
     },
     "execution_count": 74,
     "metadata": {},
     "output_type": "execute_result"
    }
   ],
   "source": [
    "piks_by_eligible_household = df_ops.drop_duplicates(\n",
    "    eligible_households\n",
    "        .merge(piks_with_household[[\"pseudo_household_id\", \"pik\"]].dropna(subset=\"pik\"), on=\"pseudo_household_id\", how=\"inner\")\n",
    ")\n",
    "piks_by_eligible_household"
   ]
  },
  {
   "cell_type": "code",
   "execution_count": 75,
   "id": "f8faadd2-cd0c-45bb-bdbb-991c1937a270",
   "metadata": {
    "execution": {
     "iopub.execute_input": "2023-12-01T17:58:21.050023Z",
     "iopub.status.busy": "2023-12-01T17:58:21.049655Z",
     "iopub.status.idle": "2023-12-01T17:58:21.071056Z",
     "shell.execute_reply": "2023-12-01T17:58:21.070515Z"
    },
    "papermill": {
     "duration": 0.078104,
     "end_time": "2023-12-01T17:58:21.072110",
     "exception": false,
     "start_time": "2023-12-01T17:58:20.994006",
     "status": "completed"
    },
    "tags": []
   },
   "outputs": [
    {
     "data": {
      "text/html": [
       "<div>\n",
       "<style scoped>\n",
       "    .dataframe tbody tr th:only-of-type {\n",
       "        vertical-align: middle;\n",
       "    }\n",
       "\n",
       "    .dataframe tbody tr th {\n",
       "        vertical-align: top;\n",
       "    }\n",
       "\n",
       "    .dataframe thead th {\n",
       "        text-align: right;\n",
       "    }\n",
       "</style>\n",
       "<table border=\"1\" class=\"dataframe\">\n",
       "  <thead>\n",
       "    <tr style=\"text-align: right;\">\n",
       "      <th></th>\n",
       "      <th>pseudo_household_id</th>\n",
       "      <th>geokey</th>\n",
       "    </tr>\n",
       "  </thead>\n",
       "  <tbody>\n",
       "    <tr>\n",
       "      <th>1</th>\n",
       "      <td>10009</td>\n",
       "      <td>6225 BEAN LN ANYTOWN WA 00000</td>\n",
       "    </tr>\n",
       "    <tr>\n",
       "      <th>3</th>\n",
       "      <td>10063</td>\n",
       "      <td>622 AVENIDA VISTA CERROS NW ANYTOWN WA 00000</td>\n",
       "    </tr>\n",
       "    <tr>\n",
       "      <th>5</th>\n",
       "      <td>10162</td>\n",
       "      <td>12882 NORTHEAST 60TH STREET ANYTOWN WA 00000</td>\n",
       "    </tr>\n",
       "    <tr>\n",
       "      <th>7</th>\n",
       "      <td>10162</td>\n",
       "      <td>1246 BROWN CIR ANYTOWN WA 00000</td>\n",
       "    </tr>\n",
       "    <tr>\n",
       "      <th>8</th>\n",
       "      <td>10204</td>\n",
       "      <td>11712 KINGSWOOD ROAD ANYTOWN WA 00000</td>\n",
       "    </tr>\n",
       "    <tr>\n",
       "      <th>...</th>\n",
       "      <td>...</td>\n",
       "      <td>...</td>\n",
       "    </tr>\n",
       "    <tr>\n",
       "      <th>3495</th>\n",
       "      <td>9970</td>\n",
       "      <td>213 OLD MARLIN RD ANYTOWN WA 00000</td>\n",
       "    </tr>\n",
       "    <tr>\n",
       "      <th>3496</th>\n",
       "      <td>9970</td>\n",
       "      <td>213 OLD MARLIN RD ANYTOWN None 00000</td>\n",
       "    </tr>\n",
       "    <tr>\n",
       "      <th>3497</th>\n",
       "      <td>9970</td>\n",
       "      <td>1001 JAMES WHARF RD ANYTOWN WA 00000</td>\n",
       "    </tr>\n",
       "    <tr>\n",
       "      <th>3498</th>\n",
       "      <td>9995</td>\n",
       "      <td>4268 ELM STR ANYTOWN WA 00000</td>\n",
       "    </tr>\n",
       "    <tr>\n",
       "      <th>3499</th>\n",
       "      <td>9995</td>\n",
       "      <td>4268 ELM STR ANYTON WA 00000</td>\n",
       "    </tr>\n",
       "  </tbody>\n",
       "</table>\n",
       "<p>1674 rows × 2 columns</p>\n",
       "</div>"
      ],
      "text/plain": [
       "     pseudo_household_id                                        geokey\n",
       "1                  10009                 6225 BEAN LN ANYTOWN WA 00000\n",
       "3                  10063  622 AVENIDA VISTA CERROS NW ANYTOWN WA 00000\n",
       "5                  10162  12882 NORTHEAST 60TH STREET ANYTOWN WA 00000\n",
       "7                  10162               1246 BROWN CIR ANYTOWN WA 00000\n",
       "8                  10204         11712 KINGSWOOD ROAD ANYTOWN WA 00000\n",
       "...                  ...                                           ...\n",
       "3495                9970            213 OLD MARLIN RD ANYTOWN WA 00000\n",
       "3496                9970          213 OLD MARLIN RD ANYTOWN None 00000\n",
       "3497                9970          1001 JAMES WHARF RD ANYTOWN WA 00000\n",
       "3498                9995                 4268 ELM STR ANYTOWN WA 00000\n",
       "3499                9995                  4268 ELM STR ANYTON WA 00000\n",
       "\n",
       "[1674 rows x 2 columns]"
      ]
     },
     "execution_count": 75,
     "metadata": {},
     "output_type": "execute_result"
    }
   ],
   "source": [
    "geokeys_by_eligible_household = (\n",
    "    piks_by_eligible_household\n",
    "        .merge(df_ops.drop_duplicates(geobase_reference_file[[\"pik\", \"geokey\"]].dropna(subset=\"geokey\")), on=\"pik\")\n",
    "        .drop(columns=[\"pik\"])\n",
    "        .pipe(df_ops.drop_duplicates)\n",
    ")\n",
    "geokeys_by_eligible_household"
   ]
  },
  {
   "cell_type": "code",
   "execution_count": 76,
   "id": "9d029cdb-3303-4424-aa67-dd25587f848a",
   "metadata": {
    "execution": {
     "iopub.execute_input": "2023-12-01T17:58:21.129346Z",
     "iopub.status.busy": "2023-12-01T17:58:21.129025Z",
     "iopub.status.idle": "2023-12-01T17:58:21.191097Z",
     "shell.execute_reply": "2023-12-01T17:58:21.190484Z"
    },
    "papermill": {
     "duration": 0.091118,
     "end_time": "2023-12-01T17:58:21.192359",
     "exception": false,
     "start_time": "2023-12-01T17:58:21.101241",
     "status": "completed"
    },
    "tags": []
   },
   "outputs": [
    {
     "data": {
      "text/html": [
       "<div>\n",
       "<style scoped>\n",
       "    .dataframe tbody tr th:only-of-type {\n",
       "        vertical-align: middle;\n",
       "    }\n",
       "\n",
       "    .dataframe tbody tr th {\n",
       "        vertical-align: top;\n",
       "    }\n",
       "\n",
       "    .dataframe thead th {\n",
       "        text-align: right;\n",
       "    }\n",
       "</style>\n",
       "<table border=\"1\" class=\"dataframe\">\n",
       "  <thead>\n",
       "    <tr style=\"text-align: right;\">\n",
       "      <th></th>\n",
       "      <th>pseudo_household_id</th>\n",
       "      <th>geokey</th>\n",
       "      <th>record_id</th>\n",
       "      <th>ssn</th>\n",
       "      <th>first_name</th>\n",
       "      <th>middle_name</th>\n",
       "      <th>last_name</th>\n",
       "      <th>street_number</th>\n",
       "      <th>street_name</th>\n",
       "      <th>unit_number</th>\n",
       "      <th>...</th>\n",
       "      <th>last_name_12</th>\n",
       "      <th>middle_initial</th>\n",
       "      <th>first_name_1</th>\n",
       "      <th>last_name_1</th>\n",
       "      <th>first_name_2</th>\n",
       "      <th>last_name_2</th>\n",
       "      <th>first_name_3</th>\n",
       "      <th>last_name_3</th>\n",
       "      <th>street_name_soundex</th>\n",
       "      <th>zip3</th>\n",
       "    </tr>\n",
       "  </thead>\n",
       "  <tbody>\n",
       "    <tr>\n",
       "      <th>0</th>\n",
       "      <td>10009</td>\n",
       "      <td>6225 BEAN LN ANYTOWN WA 00000</td>\n",
       "      <td>simulated_geobase_reference_file_6893</td>\n",
       "      <td>107-39-1114</td>\n",
       "      <td>Margaret</td>\n",
       "      <td>Christine</td>\n",
       "      <td>Wingfield</td>\n",
       "      <td>6225</td>\n",
       "      <td>BEAN LN</td>\n",
       "      <td>None</td>\n",
       "      <td>...</td>\n",
       "      <td>Wingfield</td>\n",
       "      <td>C</td>\n",
       "      <td>M</td>\n",
       "      <td>W</td>\n",
       "      <td>Ma</td>\n",
       "      <td>Wi</td>\n",
       "      <td>Mar</td>\n",
       "      <td>Win</td>\n",
       "      <td>B545</td>\n",
       "      <td>000</td>\n",
       "    </tr>\n",
       "    <tr>\n",
       "      <th>1</th>\n",
       "      <td>10009</td>\n",
       "      <td>6225 BEAN LN ANYTOWN WA 00000</td>\n",
       "      <td>simulated_geobase_reference_file_8278</td>\n",
       "      <td>402-82-0496</td>\n",
       "      <td>Kurt</td>\n",
       "      <td>Phillip</td>\n",
       "      <td>Wingfield</td>\n",
       "      <td>6225</td>\n",
       "      <td>BEAN LN</td>\n",
       "      <td>None</td>\n",
       "      <td>...</td>\n",
       "      <td>Wingfield</td>\n",
       "      <td>P</td>\n",
       "      <td>K</td>\n",
       "      <td>W</td>\n",
       "      <td>Ku</td>\n",
       "      <td>Wi</td>\n",
       "      <td>Kur</td>\n",
       "      <td>Win</td>\n",
       "      <td>B545</td>\n",
       "      <td>000</td>\n",
       "    </tr>\n",
       "    <tr>\n",
       "      <th>2</th>\n",
       "      <td>10009</td>\n",
       "      <td>6225 BEAN LN ANYTOWN WA 00000</td>\n",
       "      <td>simulated_geobase_reference_file_16075</td>\n",
       "      <td>452-58-3974</td>\n",
       "      <td>Sean</td>\n",
       "      <td>Taylor</td>\n",
       "      <td>Wingfield</td>\n",
       "      <td>6225</td>\n",
       "      <td>BEAN LN</td>\n",
       "      <td>None</td>\n",
       "      <td>...</td>\n",
       "      <td>Wingfield</td>\n",
       "      <td>T</td>\n",
       "      <td>S</td>\n",
       "      <td>W</td>\n",
       "      <td>Se</td>\n",
       "      <td>Wi</td>\n",
       "      <td>Sea</td>\n",
       "      <td>Win</td>\n",
       "      <td>B545</td>\n",
       "      <td>000</td>\n",
       "    </tr>\n",
       "    <tr>\n",
       "      <th>3</th>\n",
       "      <td>10009</td>\n",
       "      <td>6225 BEAN LN ANYTOWN WA 00000</td>\n",
       "      <td>simulated_geobase_reference_file_16741</td>\n",
       "      <td>080-95-7135</td>\n",
       "      <td>Antonio</td>\n",
       "      <td>Jerry</td>\n",
       "      <td>Wingfisld</td>\n",
       "      <td>6225</td>\n",
       "      <td>BEAN LN</td>\n",
       "      <td>None</td>\n",
       "      <td>...</td>\n",
       "      <td>Wingfisld</td>\n",
       "      <td>J</td>\n",
       "      <td>A</td>\n",
       "      <td>W</td>\n",
       "      <td>An</td>\n",
       "      <td>Wi</td>\n",
       "      <td>Ant</td>\n",
       "      <td>Win</td>\n",
       "      <td>B545</td>\n",
       "      <td>000</td>\n",
       "    </tr>\n",
       "    <tr>\n",
       "      <th>4</th>\n",
       "      <td>10063</td>\n",
       "      <td>622 AVENIDA VISTA CERROS NW ANYTOWN WA 00000</td>\n",
       "      <td>simulated_geobase_reference_file_16532</td>\n",
       "      <td>002-20-8310</td>\n",
       "      <td>Kimberly</td>\n",
       "      <td>Whitney</td>\n",
       "      <td>Wilson-Mcwilliams</td>\n",
       "      <td>622</td>\n",
       "      <td>AVENIDA VISTA CERROS NW</td>\n",
       "      <td>None</td>\n",
       "      <td>...</td>\n",
       "      <td>Wilson-Mcwil</td>\n",
       "      <td>W</td>\n",
       "      <td>K</td>\n",
       "      <td>W</td>\n",
       "      <td>Ki</td>\n",
       "      <td>Wi</td>\n",
       "      <td>Kim</td>\n",
       "      <td>Wil</td>\n",
       "      <td>A153</td>\n",
       "      <td>000</td>\n",
       "    </tr>\n",
       "    <tr>\n",
       "      <th>...</th>\n",
       "      <td>...</td>\n",
       "      <td>...</td>\n",
       "      <td>...</td>\n",
       "      <td>...</td>\n",
       "      <td>...</td>\n",
       "      <td>...</td>\n",
       "      <td>...</td>\n",
       "      <td>...</td>\n",
       "      <td>...</td>\n",
       "      <td>...</td>\n",
       "      <td>...</td>\n",
       "      <td>...</td>\n",
       "      <td>...</td>\n",
       "      <td>...</td>\n",
       "      <td>...</td>\n",
       "      <td>...</td>\n",
       "      <td>...</td>\n",
       "      <td>...</td>\n",
       "      <td>...</td>\n",
       "      <td>...</td>\n",
       "      <td>...</td>\n",
       "    </tr>\n",
       "    <tr>\n",
       "      <th>22842</th>\n",
       "      <td>9970</td>\n",
       "      <td>1001 JAMES WHARF RD ANYTOWN WA 00000</td>\n",
       "      <td>simulated_geobase_reference_file_10270</td>\n",
       "      <td>622-15-5113</td>\n",
       "      <td>Melissa</td>\n",
       "      <td>Donna</td>\n",
       "      <td>Thomas</td>\n",
       "      <td>1001</td>\n",
       "      <td>JAMES WHARF RD</td>\n",
       "      <td>None</td>\n",
       "      <td>...</td>\n",
       "      <td>Thomas</td>\n",
       "      <td>D</td>\n",
       "      <td>M</td>\n",
       "      <td>T</td>\n",
       "      <td>Me</td>\n",
       "      <td>Th</td>\n",
       "      <td>Mel</td>\n",
       "      <td>Tho</td>\n",
       "      <td>J526</td>\n",
       "      <td>000</td>\n",
       "    </tr>\n",
       "    <tr>\n",
       "      <th>22843</th>\n",
       "      <td>9995</td>\n",
       "      <td>4268 ELM STR ANYTOWN WA 00000</td>\n",
       "      <td>simulated_geobase_reference_file_8751</td>\n",
       "      <td>351-90-5813</td>\n",
       "      <td>William</td>\n",
       "      <td>Christopher</td>\n",
       "      <td>Placencia</td>\n",
       "      <td>4268</td>\n",
       "      <td>ELM STR</td>\n",
       "      <td>None</td>\n",
       "      <td>...</td>\n",
       "      <td>Placencia</td>\n",
       "      <td>C</td>\n",
       "      <td>W</td>\n",
       "      <td>P</td>\n",
       "      <td>Wi</td>\n",
       "      <td>Pl</td>\n",
       "      <td>Wil</td>\n",
       "      <td>Pla</td>\n",
       "      <td>E452</td>\n",
       "      <td>000</td>\n",
       "    </tr>\n",
       "    <tr>\n",
       "      <th>22844</th>\n",
       "      <td>9995</td>\n",
       "      <td>4268 ELM STR ANYTOWN WA 00000</td>\n",
       "      <td>simulated_geobase_reference_file_20170</td>\n",
       "      <td>851-54-3266</td>\n",
       "      <td>Carla</td>\n",
       "      <td>Natalie</td>\n",
       "      <td>Placencia</td>\n",
       "      <td>4268</td>\n",
       "      <td>ELM STR</td>\n",
       "      <td>None</td>\n",
       "      <td>...</td>\n",
       "      <td>Placencia</td>\n",
       "      <td>N</td>\n",
       "      <td>C</td>\n",
       "      <td>P</td>\n",
       "      <td>Ca</td>\n",
       "      <td>Pl</td>\n",
       "      <td>Car</td>\n",
       "      <td>Pla</td>\n",
       "      <td>E452</td>\n",
       "      <td>000</td>\n",
       "    </tr>\n",
       "    <tr>\n",
       "      <th>22845</th>\n",
       "      <td>9995</td>\n",
       "      <td>4268 ELM STR ANYTOWN WA 00000</td>\n",
       "      <td>simulated_geobase_reference_file_21528</td>\n",
       "      <td>761-45-3947</td>\n",
       "      <td>V</td>\n",
       "      <td>Nicholas</td>\n",
       "      <td>Placencia</td>\n",
       "      <td>4268</td>\n",
       "      <td>ELM STR</td>\n",
       "      <td>None</td>\n",
       "      <td>...</td>\n",
       "      <td>Placencia</td>\n",
       "      <td>N</td>\n",
       "      <td>V</td>\n",
       "      <td>P</td>\n",
       "      <td>V</td>\n",
       "      <td>Pl</td>\n",
       "      <td>V</td>\n",
       "      <td>Pla</td>\n",
       "      <td>E452</td>\n",
       "      <td>000</td>\n",
       "    </tr>\n",
       "    <tr>\n",
       "      <th>22846</th>\n",
       "      <td>9995</td>\n",
       "      <td>4268 ELM STR ANYTON WA 00000</td>\n",
       "      <td>simulated_geobase_reference_file_8753</td>\n",
       "      <td>351-90-5813</td>\n",
       "      <td>William</td>\n",
       "      <td>Christopher</td>\n",
       "      <td>Placencia</td>\n",
       "      <td>4268</td>\n",
       "      <td>ELM STR</td>\n",
       "      <td>None</td>\n",
       "      <td>...</td>\n",
       "      <td>Placencia</td>\n",
       "      <td>C</td>\n",
       "      <td>W</td>\n",
       "      <td>P</td>\n",
       "      <td>Wi</td>\n",
       "      <td>Pl</td>\n",
       "      <td>Wil</td>\n",
       "      <td>Pla</td>\n",
       "      <td>E452</td>\n",
       "      <td>000</td>\n",
       "    </tr>\n",
       "  </tbody>\n",
       "</table>\n",
       "<p>22847 rows × 29 columns</p>\n",
       "</div>"
      ],
      "text/plain": [
       "      pseudo_household_id                                        geokey  \\\n",
       "0                   10009                 6225 BEAN LN ANYTOWN WA 00000   \n",
       "1                   10009                 6225 BEAN LN ANYTOWN WA 00000   \n",
       "2                   10009                 6225 BEAN LN ANYTOWN WA 00000   \n",
       "3                   10009                 6225 BEAN LN ANYTOWN WA 00000   \n",
       "4                   10063  622 AVENIDA VISTA CERROS NW ANYTOWN WA 00000   \n",
       "...                   ...                                           ...   \n",
       "22842                9970          1001 JAMES WHARF RD ANYTOWN WA 00000   \n",
       "22843                9995                 4268 ELM STR ANYTOWN WA 00000   \n",
       "22844                9995                 4268 ELM STR ANYTOWN WA 00000   \n",
       "22845                9995                 4268 ELM STR ANYTOWN WA 00000   \n",
       "22846                9995                  4268 ELM STR ANYTON WA 00000   \n",
       "\n",
       "                                    record_id          ssn first_name  \\\n",
       "0       simulated_geobase_reference_file_6893  107-39-1114   Margaret   \n",
       "1       simulated_geobase_reference_file_8278  402-82-0496       Kurt   \n",
       "2      simulated_geobase_reference_file_16075  452-58-3974       Sean   \n",
       "3      simulated_geobase_reference_file_16741  080-95-7135    Antonio   \n",
       "4      simulated_geobase_reference_file_16532  002-20-8310   Kimberly   \n",
       "...                                       ...          ...        ...   \n",
       "22842  simulated_geobase_reference_file_10270  622-15-5113    Melissa   \n",
       "22843   simulated_geobase_reference_file_8751  351-90-5813    William   \n",
       "22844  simulated_geobase_reference_file_20170  851-54-3266      Carla   \n",
       "22845  simulated_geobase_reference_file_21528  761-45-3947          V   \n",
       "22846   simulated_geobase_reference_file_8753  351-90-5813    William   \n",
       "\n",
       "       middle_name          last_name street_number              street_name  \\\n",
       "0        Christine          Wingfield          6225                  BEAN LN   \n",
       "1          Phillip          Wingfield          6225                  BEAN LN   \n",
       "2           Taylor          Wingfield          6225                  BEAN LN   \n",
       "3            Jerry          Wingfisld          6225                  BEAN LN   \n",
       "4          Whitney  Wilson-Mcwilliams           622  AVENIDA VISTA CERROS NW   \n",
       "...            ...                ...           ...                      ...   \n",
       "22842        Donna             Thomas          1001           JAMES WHARF RD   \n",
       "22843  Christopher          Placencia          4268                  ELM STR   \n",
       "22844      Natalie          Placencia          4268                  ELM STR   \n",
       "22845     Nicholas          Placencia          4268                  ELM STR   \n",
       "22846  Christopher          Placencia          4268                  ELM STR   \n",
       "\n",
       "      unit_number  ...  last_name_12 middle_initial first_name_1 last_name_1  \\\n",
       "0            None  ...     Wingfield              C            M           W   \n",
       "1            None  ...     Wingfield              P            K           W   \n",
       "2            None  ...     Wingfield              T            S           W   \n",
       "3            None  ...     Wingfisld              J            A           W   \n",
       "4            None  ...  Wilson-Mcwil              W            K           W   \n",
       "...           ...  ...           ...            ...          ...         ...   \n",
       "22842        None  ...        Thomas              D            M           T   \n",
       "22843        None  ...     Placencia              C            W           P   \n",
       "22844        None  ...     Placencia              N            C           P   \n",
       "22845        None  ...     Placencia              N            V           P   \n",
       "22846        None  ...     Placencia              C            W           P   \n",
       "\n",
       "      first_name_2  last_name_2  first_name_3  last_name_3  \\\n",
       "0               Ma           Wi           Mar          Win   \n",
       "1               Ku           Wi           Kur          Win   \n",
       "2               Se           Wi           Sea          Win   \n",
       "3               An           Wi           Ant          Win   \n",
       "4               Ki           Wi           Kim          Wil   \n",
       "...            ...          ...           ...          ...   \n",
       "22842           Me           Th           Mel          Tho   \n",
       "22843           Wi           Pl           Wil          Pla   \n",
       "22844           Ca           Pl           Car          Pla   \n",
       "22845            V           Pl             V          Pla   \n",
       "22846           Wi           Pl           Wil          Pla   \n",
       "\n",
       "      street_name_soundex zip3  \n",
       "0                    B545  000  \n",
       "1                    B545  000  \n",
       "2                    B545  000  \n",
       "3                    B545  000  \n",
       "4                    A153  000  \n",
       "...                   ...  ...  \n",
       "22842                J526  000  \n",
       "22843                E452  000  \n",
       "22844                E452  000  \n",
       "22845                E452  000  \n",
       "22846                E452  000  \n",
       "\n",
       "[22847 rows x 29 columns]"
      ]
     },
     "execution_count": 76,
     "metadata": {},
     "output_type": "execute_result"
    }
   ],
   "source": [
    "records_to_search_by_household = geokeys_by_eligible_household.merge(geobase_reference_file, on=\"geokey\")\n",
    "records_to_search_by_household"
   ]
  },
  {
   "cell_type": "code",
   "execution_count": 77,
   "id": "498ca3d3-bae6-4164-a975-1c182c26d73c",
   "metadata": {
    "execution": {
     "iopub.execute_input": "2023-12-01T17:58:21.251744Z",
     "iopub.status.busy": "2023-12-01T17:58:21.251420Z",
     "iopub.status.idle": "2023-12-01T17:58:21.293736Z",
     "shell.execute_reply": "2023-12-01T17:58:21.293110Z"
    },
    "papermill": {
     "duration": 0.072168,
     "end_time": "2023-12-01T17:58:21.294889",
     "exception": false,
     "start_time": "2023-12-01T17:58:21.222721",
     "status": "completed"
    },
    "tags": []
   },
   "outputs": [
    {
     "data": {
      "text/html": [
       "<div>\n",
       "<style scoped>\n",
       "    .dataframe tbody tr th:only-of-type {\n",
       "        vertical-align: middle;\n",
       "    }\n",
       "\n",
       "    .dataframe tbody tr th {\n",
       "        vertical-align: top;\n",
       "    }\n",
       "\n",
       "    .dataframe thead th {\n",
       "        text-align: right;\n",
       "    }\n",
       "</style>\n",
       "<table border=\"1\" class=\"dataframe\">\n",
       "  <thead>\n",
       "    <tr style=\"text-align: right;\">\n",
       "      <th></th>\n",
       "      <th>pseudo_household_id</th>\n",
       "      <th>geokey</th>\n",
       "      <th>record_id</th>\n",
       "      <th>ssn</th>\n",
       "      <th>first_name</th>\n",
       "      <th>middle_name</th>\n",
       "      <th>last_name</th>\n",
       "      <th>street_number</th>\n",
       "      <th>street_name</th>\n",
       "      <th>unit_number</th>\n",
       "      <th>...</th>\n",
       "      <th>last_name_12</th>\n",
       "      <th>middle_initial</th>\n",
       "      <th>first_name_1</th>\n",
       "      <th>last_name_1</th>\n",
       "      <th>first_name_2</th>\n",
       "      <th>last_name_2</th>\n",
       "      <th>first_name_3</th>\n",
       "      <th>last_name_3</th>\n",
       "      <th>street_name_soundex</th>\n",
       "      <th>zip3</th>\n",
       "    </tr>\n",
       "  </thead>\n",
       "  <tbody>\n",
       "    <tr>\n",
       "      <th>0</th>\n",
       "      <td>10009</td>\n",
       "      <td>6225 BEAN LN ANYTOWN WA 00000</td>\n",
       "      <td>simulated_geobase_reference_file_6893</td>\n",
       "      <td>107-39-1114</td>\n",
       "      <td>Margaret</td>\n",
       "      <td>Christine</td>\n",
       "      <td>Wingfield</td>\n",
       "      <td>6225</td>\n",
       "      <td>BEAN LN</td>\n",
       "      <td>None</td>\n",
       "      <td>...</td>\n",
       "      <td>Wingfield</td>\n",
       "      <td>C</td>\n",
       "      <td>M</td>\n",
       "      <td>W</td>\n",
       "      <td>Ma</td>\n",
       "      <td>Wi</td>\n",
       "      <td>Mar</td>\n",
       "      <td>Win</td>\n",
       "      <td>B545</td>\n",
       "      <td>000</td>\n",
       "    </tr>\n",
       "    <tr>\n",
       "      <th>3</th>\n",
       "      <td>10009</td>\n",
       "      <td>6225 BEAN LN ANYTOWN WA 00000</td>\n",
       "      <td>simulated_geobase_reference_file_16741</td>\n",
       "      <td>080-95-7135</td>\n",
       "      <td>Antonio</td>\n",
       "      <td>Jerry</td>\n",
       "      <td>Wingfisld</td>\n",
       "      <td>6225</td>\n",
       "      <td>BEAN LN</td>\n",
       "      <td>None</td>\n",
       "      <td>...</td>\n",
       "      <td>Wingfisld</td>\n",
       "      <td>J</td>\n",
       "      <td>A</td>\n",
       "      <td>W</td>\n",
       "      <td>An</td>\n",
       "      <td>Wi</td>\n",
       "      <td>Ant</td>\n",
       "      <td>Win</td>\n",
       "      <td>B545</td>\n",
       "      <td>000</td>\n",
       "    </tr>\n",
       "    <tr>\n",
       "      <th>5</th>\n",
       "      <td>10063</td>\n",
       "      <td>622 AVENIDA VISTA CERROS NW ANYTOWN WA 00000</td>\n",
       "      <td>simulated_geobase_reference_file_30152</td>\n",
       "      <td>658-88-2774</td>\n",
       "      <td>Elias</td>\n",
       "      <td>Grandchild</td>\n",
       "      <td>Wilson-Mcwilliams</td>\n",
       "      <td>622</td>\n",
       "      <td>AVENIDA VISTA CERROS NW</td>\n",
       "      <td>None</td>\n",
       "      <td>...</td>\n",
       "      <td>Wilson-Mcwil</td>\n",
       "      <td>G</td>\n",
       "      <td>E</td>\n",
       "      <td>W</td>\n",
       "      <td>El</td>\n",
       "      <td>Wi</td>\n",
       "      <td>Eli</td>\n",
       "      <td>Wil</td>\n",
       "      <td>A153</td>\n",
       "      <td>000</td>\n",
       "    </tr>\n",
       "    <tr>\n",
       "      <th>7</th>\n",
       "      <td>10162</td>\n",
       "      <td>12882 NORTHEAST 60TH STREET ANYTOWN WA 00000</td>\n",
       "      <td>simulated_geobase_reference_file_7388</td>\n",
       "      <td>128-54-9219</td>\n",
       "      <td>Duane</td>\n",
       "      <td>Kirk</td>\n",
       "      <td>Wertman</td>\n",
       "      <td>12882</td>\n",
       "      <td>NORTHEAST 60TH STREET</td>\n",
       "      <td>None</td>\n",
       "      <td>...</td>\n",
       "      <td>Wertman</td>\n",
       "      <td>K</td>\n",
       "      <td>D</td>\n",
       "      <td>W</td>\n",
       "      <td>Du</td>\n",
       "      <td>We</td>\n",
       "      <td>Dua</td>\n",
       "      <td>Wer</td>\n",
       "      <td>N632</td>\n",
       "      <td>000</td>\n",
       "    </tr>\n",
       "    <tr>\n",
       "      <th>10</th>\n",
       "      <td>10162</td>\n",
       "      <td>1246 BROWN CIR ANYTOWN WA 00000</td>\n",
       "      <td>simulated_geobase_reference_file_1223</td>\n",
       "      <td>599-69-4058</td>\n",
       "      <td>Karen</td>\n",
       "      <td>Marian</td>\n",
       "      <td>Collins</td>\n",
       "      <td>1246</td>\n",
       "      <td>BROWN CIR</td>\n",
       "      <td>None</td>\n",
       "      <td>...</td>\n",
       "      <td>Collins</td>\n",
       "      <td>M</td>\n",
       "      <td>K</td>\n",
       "      <td>C</td>\n",
       "      <td>Ka</td>\n",
       "      <td>Co</td>\n",
       "      <td>Kar</td>\n",
       "      <td>Col</td>\n",
       "      <td>B652</td>\n",
       "      <td>000</td>\n",
       "    </tr>\n",
       "    <tr>\n",
       "      <th>...</th>\n",
       "      <td>...</td>\n",
       "      <td>...</td>\n",
       "      <td>...</td>\n",
       "      <td>...</td>\n",
       "      <td>...</td>\n",
       "      <td>...</td>\n",
       "      <td>...</td>\n",
       "      <td>...</td>\n",
       "      <td>...</td>\n",
       "      <td>...</td>\n",
       "      <td>...</td>\n",
       "      <td>...</td>\n",
       "      <td>...</td>\n",
       "      <td>...</td>\n",
       "      <td>...</td>\n",
       "      <td>...</td>\n",
       "      <td>...</td>\n",
       "      <td>...</td>\n",
       "      <td>...</td>\n",
       "      <td>...</td>\n",
       "      <td>...</td>\n",
       "    </tr>\n",
       "    <tr>\n",
       "      <th>22859</th>\n",
       "      <td>9919</td>\n",
       "      <td>10174 VILLA LA JOLLA DR ANYTOWN WA 00000</td>\n",
       "      <td>simulated_geobase_reference_file_29968</td>\n",
       "      <td>306-14-0165</td>\n",
       "      <td>Karen</td>\n",
       "      <td>Elizabeth</td>\n",
       "      <td>Velazquez</td>\n",
       "      <td>10174</td>\n",
       "      <td>VILLA LA JOLLA DR</td>\n",
       "      <td>None</td>\n",
       "      <td>...</td>\n",
       "      <td>Velazquez</td>\n",
       "      <td>E</td>\n",
       "      <td>K</td>\n",
       "      <td>V</td>\n",
       "      <td>Ka</td>\n",
       "      <td>Ve</td>\n",
       "      <td>Kar</td>\n",
       "      <td>Vel</td>\n",
       "      <td>V442</td>\n",
       "      <td>000</td>\n",
       "    </tr>\n",
       "    <tr>\n",
       "      <th>22860</th>\n",
       "      <td>9919</td>\n",
       "      <td>10174 VILLA LA JOLLA DR ANYTOWN WA 00000</td>\n",
       "      <td>simulated_geobase_reference_file_31401</td>\n",
       "      <td>605-65-3459</td>\n",
       "      <td>Randall</td>\n",
       "      <td>Wayne</td>\n",
       "      <td>Velazquez</td>\n",
       "      <td>10174</td>\n",
       "      <td>VILLA LA JOLLA DR</td>\n",
       "      <td>None</td>\n",
       "      <td>...</td>\n",
       "      <td>Velazquez</td>\n",
       "      <td>W</td>\n",
       "      <td>R</td>\n",
       "      <td>V</td>\n",
       "      <td>Ra</td>\n",
       "      <td>Ve</td>\n",
       "      <td>Ran</td>\n",
       "      <td>Vel</td>\n",
       "      <td>V442</td>\n",
       "      <td>000</td>\n",
       "    </tr>\n",
       "    <tr>\n",
       "      <th>22862</th>\n",
       "      <td>9970</td>\n",
       "      <td>213 OLD MARLIN RD ANYTOWN WA 00000</td>\n",
       "      <td>simulated_geobase_reference_file_10271</td>\n",
       "      <td>622-15-5113</td>\n",
       "      <td>Melissa</td>\n",
       "      <td>Donna</td>\n",
       "      <td>Thomas</td>\n",
       "      <td>213</td>\n",
       "      <td>OLD MARLIN RD</td>\n",
       "      <td>None</td>\n",
       "      <td>...</td>\n",
       "      <td>Thomas</td>\n",
       "      <td>D</td>\n",
       "      <td>M</td>\n",
       "      <td>T</td>\n",
       "      <td>Me</td>\n",
       "      <td>Th</td>\n",
       "      <td>Mel</td>\n",
       "      <td>Tho</td>\n",
       "      <td>O435</td>\n",
       "      <td>000</td>\n",
       "    </tr>\n",
       "    <tr>\n",
       "      <th>22865</th>\n",
       "      <td>9970</td>\n",
       "      <td>1001 JAMES WHARF RD ANYTOWN WA 00000</td>\n",
       "      <td>simulated_geobase_reference_file_10270</td>\n",
       "      <td>622-15-5113</td>\n",
       "      <td>Melissa</td>\n",
       "      <td>Donna</td>\n",
       "      <td>Thomas</td>\n",
       "      <td>1001</td>\n",
       "      <td>JAMES WHARF RD</td>\n",
       "      <td>None</td>\n",
       "      <td>...</td>\n",
       "      <td>Thomas</td>\n",
       "      <td>D</td>\n",
       "      <td>M</td>\n",
       "      <td>T</td>\n",
       "      <td>Me</td>\n",
       "      <td>Th</td>\n",
       "      <td>Mel</td>\n",
       "      <td>Tho</td>\n",
       "      <td>J526</td>\n",
       "      <td>000</td>\n",
       "    </tr>\n",
       "    <tr>\n",
       "      <th>22868</th>\n",
       "      <td>9995</td>\n",
       "      <td>4268 ELM STR ANYTOWN WA 00000</td>\n",
       "      <td>simulated_geobase_reference_file_21528</td>\n",
       "      <td>761-45-3947</td>\n",
       "      <td>V</td>\n",
       "      <td>Nicholas</td>\n",
       "      <td>Placencia</td>\n",
       "      <td>4268</td>\n",
       "      <td>ELM STR</td>\n",
       "      <td>None</td>\n",
       "      <td>...</td>\n",
       "      <td>Placencia</td>\n",
       "      <td>N</td>\n",
       "      <td>V</td>\n",
       "      <td>P</td>\n",
       "      <td>V</td>\n",
       "      <td>Pl</td>\n",
       "      <td>V</td>\n",
       "      <td>Pla</td>\n",
       "      <td>E452</td>\n",
       "      <td>000</td>\n",
       "    </tr>\n",
       "  </tbody>\n",
       "</table>\n",
       "<p>6017 rows × 29 columns</p>\n",
       "</div>"
      ],
      "text/plain": [
       "      pseudo_household_id                                        geokey  \\\n",
       "0                   10009                 6225 BEAN LN ANYTOWN WA 00000   \n",
       "3                   10009                 6225 BEAN LN ANYTOWN WA 00000   \n",
       "5                   10063  622 AVENIDA VISTA CERROS NW ANYTOWN WA 00000   \n",
       "7                   10162  12882 NORTHEAST 60TH STREET ANYTOWN WA 00000   \n",
       "10                  10162               1246 BROWN CIR ANYTOWN WA 00000   \n",
       "...                   ...                                           ...   \n",
       "22859                9919      10174 VILLA LA JOLLA DR ANYTOWN WA 00000   \n",
       "22860                9919      10174 VILLA LA JOLLA DR ANYTOWN WA 00000   \n",
       "22862                9970            213 OLD MARLIN RD ANYTOWN WA 00000   \n",
       "22865                9970          1001 JAMES WHARF RD ANYTOWN WA 00000   \n",
       "22868                9995                 4268 ELM STR ANYTOWN WA 00000   \n",
       "\n",
       "                                    record_id          ssn first_name  \\\n",
       "0       simulated_geobase_reference_file_6893  107-39-1114   Margaret   \n",
       "3      simulated_geobase_reference_file_16741  080-95-7135    Antonio   \n",
       "5      simulated_geobase_reference_file_30152  658-88-2774      Elias   \n",
       "7       simulated_geobase_reference_file_7388  128-54-9219      Duane   \n",
       "10      simulated_geobase_reference_file_1223  599-69-4058      Karen   \n",
       "...                                       ...          ...        ...   \n",
       "22859  simulated_geobase_reference_file_29968  306-14-0165      Karen   \n",
       "22860  simulated_geobase_reference_file_31401  605-65-3459    Randall   \n",
       "22862  simulated_geobase_reference_file_10271  622-15-5113    Melissa   \n",
       "22865  simulated_geobase_reference_file_10270  622-15-5113    Melissa   \n",
       "22868  simulated_geobase_reference_file_21528  761-45-3947          V   \n",
       "\n",
       "      middle_name          last_name street_number              street_name  \\\n",
       "0       Christine          Wingfield          6225                  BEAN LN   \n",
       "3           Jerry          Wingfisld          6225                  BEAN LN   \n",
       "5      Grandchild  Wilson-Mcwilliams           622  AVENIDA VISTA CERROS NW   \n",
       "7            Kirk            Wertman         12882    NORTHEAST 60TH STREET   \n",
       "10         Marian            Collins          1246                BROWN CIR   \n",
       "...           ...                ...           ...                      ...   \n",
       "22859   Elizabeth          Velazquez         10174        VILLA LA JOLLA DR   \n",
       "22860       Wayne          Velazquez         10174        VILLA LA JOLLA DR   \n",
       "22862       Donna             Thomas           213            OLD MARLIN RD   \n",
       "22865       Donna             Thomas          1001           JAMES WHARF RD   \n",
       "22868    Nicholas          Placencia          4268                  ELM STR   \n",
       "\n",
       "      unit_number  ...  last_name_12 middle_initial first_name_1 last_name_1  \\\n",
       "0            None  ...     Wingfield              C            M           W   \n",
       "3            None  ...     Wingfisld              J            A           W   \n",
       "5            None  ...  Wilson-Mcwil              G            E           W   \n",
       "7            None  ...       Wertman              K            D           W   \n",
       "10           None  ...       Collins              M            K           C   \n",
       "...           ...  ...           ...            ...          ...         ...   \n",
       "22859        None  ...     Velazquez              E            K           V   \n",
       "22860        None  ...     Velazquez              W            R           V   \n",
       "22862        None  ...        Thomas              D            M           T   \n",
       "22865        None  ...        Thomas              D            M           T   \n",
       "22868        None  ...     Placencia              N            V           P   \n",
       "\n",
       "      first_name_2  last_name_2  first_name_3  last_name_3  \\\n",
       "0               Ma           Wi           Mar          Win   \n",
       "3               An           Wi           Ant          Win   \n",
       "5               El           Wi           Eli          Wil   \n",
       "7               Du           We           Dua          Wer   \n",
       "10              Ka           Co           Kar          Col   \n",
       "...            ...          ...           ...          ...   \n",
       "22859           Ka           Ve           Kar          Vel   \n",
       "22860           Ra           Ve           Ran          Vel   \n",
       "22862           Me           Th           Mel          Tho   \n",
       "22865           Me           Th           Mel          Tho   \n",
       "22868            V           Pl             V          Pla   \n",
       "\n",
       "      street_name_soundex zip3  \n",
       "0                    B545  000  \n",
       "3                    B545  000  \n",
       "5                    A153  000  \n",
       "7                    N632  000  \n",
       "10                   B652  000  \n",
       "...                   ...  ...  \n",
       "22859                V442  000  \n",
       "22860                V442  000  \n",
       "22862                O435  000  \n",
       "22865                J526  000  \n",
       "22868                E452  000  \n",
       "\n",
       "[6017 rows x 29 columns]"
      ]
     },
     "execution_count": 77,
     "metadata": {},
     "output_type": "execute_result"
    }
   ],
   "source": [
    "# Apparently, we exclude from the reference file all *reference file* records with a PIK that\n",
    "# has already been assigned to an input file row.\n",
    "# Doing this goes against the normal assumption, which is that reference file records can match\n",
    "# to multiple input file records.\n",
    "# This is really surprising to me, but it seems clear from \"the program\n",
    "# removes all household members with a PIK, leaving the unPIKed persons in the\n",
    "# household. This becomes the reference file to search against.\" (Wagner and Layne, p. 16)\n",
    "hhcomp_reference_file = df_ops.persist(\n",
    "    records_to_search_by_household\n",
    "        .merge(person_linkage_cascade.confirmed_piks[['pik']].assign(confirmed_pik_dummy=1), on='pik', how='left')\n",
    "        .pipe(lambda df: df[df.confirmed_pik_dummy.isnull()])\n",
    "        .drop(columns=['confirmed_pik_dummy'])\n",
    ")\n",
    "hhcomp_reference_file"
   ]
  },
  {
   "cell_type": "code",
   "execution_count": 78,
   "id": "fa0a1a66-1c18-48ad-a76f-11150f71a0bb",
   "metadata": {
    "execution": {
     "iopub.execute_input": "2023-12-01T17:58:21.353378Z",
     "iopub.status.busy": "2023-12-01T17:58:21.353059Z",
     "iopub.status.idle": "2023-12-01T17:58:21.356859Z",
     "shell.execute_reply": "2023-12-01T17:58:21.356444Z"
    },
    "papermill": {
     "duration": 0.034931,
     "end_time": "2023-12-01T17:58:21.357893",
     "exception": false,
     "start_time": "2023-12-01T17:58:21.322962",
     "status": "completed"
    },
    "tags": []
   },
   "outputs": [],
   "source": [
    "person_linkage_cascade.start_module(\n",
    "    name=\"hhcompsearch\",\n",
    "    reference_file=hhcomp_reference_file,\n",
    "    reference_file_name=\"hhcomp_reference_file\",\n",
    "    cut_columns=[\"pseudo_household_id\"],\n",
    "    # HACK: How else do we deal with the fact that pseudo_household_id\n",
    "    # isn't used for matching?\n",
    "    bayes_factor_cut_columns=1_000,\n",
    "    matching_columns=[\n",
    "        \"first_name_15\",\n",
    "        \"last_name_12\",\n",
    "        \"middle_initial\",\n",
    "        \"day_of_birth\",\n",
    "        \"month_of_birth\",\n",
    "        \"year_of_birth\",\n",
    "    ],\n",
    ")"
   ]
  },
  {
   "cell_type": "markdown",
   "id": "a86727cf-b024-4caf-a610-6f7950faec2d",
   "metadata": {
    "papermill": {
     "duration": 0.029187,
     "end_time": "2023-12-01T17:58:21.415631",
     "exception": false,
     "start_time": "2023-12-01T17:58:21.386444",
     "status": "completed"
    },
    "tags": []
   },
   "source": [
    "## Pass 1: Block on initials"
   ]
  },
  {
   "cell_type": "code",
   "execution_count": 79,
   "id": "83fbf88d-044e-4764-a049-ad6c4520bd7f",
   "metadata": {
    "execution": {
     "iopub.execute_input": "2023-12-01T17:58:21.472248Z",
     "iopub.status.busy": "2023-12-01T17:58:21.471962Z",
     "iopub.status.idle": "2023-12-01T17:58:21.782458Z",
     "shell.execute_reply": "2023-12-01T17:58:21.781786Z"
    },
    "papermill": {
     "duration": 0.340577,
     "end_time": "2023-12-01T17:58:21.783624",
     "exception": false,
     "start_time": "2023-12-01T17:58:21.443047",
     "status": "completed"
    },
    "tags": []
   },
   "outputs": [
    {
     "name": "stdout",
     "output_type": "stream",
     "text": [
      "Running initials of hhcompsearch\n",
      "Files to link are 6,017 and 686 records\n",
      "Number of pairs that will be compared: 746\n"
     ]
    },
    {
     "data": {
      "text/html": [
       "\n",
       "        <iframe\n",
       "            width=\"100%\"\n",
       "            height=\"1200\"\n",
       "            src=\"./splink_temp/hhcompsearch__initials.html\"\n",
       "            frameborder=\"0\"\n",
       "            allowfullscreen\n",
       "            \n",
       "        ></iframe>\n",
       "        "
      ],
      "text/plain": [
       "<IPython.lib.display.IFrame at 0x7f5e51cac760>"
      ]
     },
     "metadata": {},
     "output_type": "display_data"
    },
    {
     "name": "stdout",
     "output_type": "stream",
     "text": [
      "Matched 90 records; 5.52% still eligible to match\n"
     ]
    }
   ],
   "source": [
    "person_linkage_cascade.run_matching_pass(\n",
    "    pass_name=\"initials\",\n",
    "    blocking_columns=[\"first_name_1\", \"last_name_1\"],\n",
    ")"
   ]
  },
  {
   "cell_type": "markdown",
   "id": "ca08637b-760c-4633-b0c4-23a6d4c01dd1",
   "metadata": {
    "papermill": {
     "duration": 0.027097,
     "end_time": "2023-12-01T17:58:21.838809",
     "exception": false,
     "start_time": "2023-12-01T17:58:21.811712",
     "status": "completed"
    },
    "tags": []
   },
   "source": [
    "## Pass 2: Block on year of birth"
   ]
  },
  {
   "cell_type": "code",
   "execution_count": 80,
   "id": "fccbc8e1-230c-4b59-95b4-e8ba97d566a3",
   "metadata": {
    "execution": {
     "iopub.execute_input": "2023-12-01T17:58:21.892980Z",
     "iopub.status.busy": "2023-12-01T17:58:21.892646Z",
     "iopub.status.idle": "2023-12-01T17:58:22.167775Z",
     "shell.execute_reply": "2023-12-01T17:58:22.167110Z"
    },
    "papermill": {
     "duration": 0.303456,
     "end_time": "2023-12-01T17:58:22.168922",
     "exception": false,
     "start_time": "2023-12-01T17:58:21.865466",
     "status": "completed"
    },
    "tags": []
   },
   "outputs": [
    {
     "name": "stdout",
     "output_type": "stream",
     "text": [
      "Running year of birth of hhcompsearch\n",
      "Files to link are 6,017 and 610 records\n"
     ]
    },
    {
     "name": "stdout",
     "output_type": "stream",
     "text": [
      "Number of pairs that will be compared: 923\n"
     ]
    },
    {
     "data": {
      "text/html": [
       "\n",
       "        <iframe\n",
       "            width=\"100%\"\n",
       "            height=\"1200\"\n",
       "            src=\"./splink_temp/hhcompsearch__year_of_birth.html\"\n",
       "            frameborder=\"0\"\n",
       "            allowfullscreen\n",
       "            \n",
       "        ></iframe>\n",
       "        "
      ],
      "text/plain": [
       "<IPython.lib.display.IFrame at 0x7f5e4f8fc820>"
      ]
     },
     "metadata": {},
     "output_type": "display_data"
    },
    {
     "name": "stdout",
     "output_type": "stream",
     "text": [
      "Matched 13 records; 5.41% still eligible to match\n"
     ]
    }
   ],
   "source": [
    "person_linkage_cascade.run_matching_pass(\n",
    "    pass_name=\"year of birth\",\n",
    "    blocking_columns=[\"year_of_birth\"],\n",
    ")"
   ]
  },
  {
   "cell_type": "markdown",
   "id": "d9bd99a1-3174-435f-bd22-49ffa06ec1d6",
   "metadata": {
    "papermill": {
     "duration": 0.027489,
     "end_time": "2023-12-01T17:58:22.224640",
     "exception": false,
     "start_time": "2023-12-01T17:58:22.197151",
     "status": "completed"
    },
    "tags": []
   },
   "source": [
    "## Post-process and confirm PIKs"
   ]
  },
  {
   "cell_type": "code",
   "execution_count": 81,
   "id": "9d61a681-a87d-4a4a-a89e-146b044fd22e",
   "metadata": {
    "execution": {
     "iopub.execute_input": "2023-12-01T17:58:22.282009Z",
     "iopub.status.busy": "2023-12-01T17:58:22.281678Z",
     "iopub.status.idle": "2023-12-01T17:58:22.311741Z",
     "shell.execute_reply": "2023-12-01T17:58:22.311148Z"
    },
    "papermill": {
     "duration": 0.06038,
     "end_time": "2023-12-01T17:58:22.312816",
     "exception": false,
     "start_time": "2023-12-01T17:58:22.252436",
     "status": "completed"
    },
    "tags": []
   },
   "outputs": [
    {
     "name": "stdout",
     "output_type": "stream",
     "text": [
      "53 input records linked to deceased people, dropping links\n",
      "4 input records linked to multiple PIKs, dropping links\n"
     ]
    }
   ],
   "source": [
    "person_linkage_cascade.confirm_piks()"
   ]
  },
  {
   "cell_type": "code",
   "execution_count": 82,
   "id": "8f147e2d-7510-4aad-bc30-1bbda2b4091f",
   "metadata": {
    "execution": {
     "iopub.execute_input": "2023-12-01T17:58:22.371941Z",
     "iopub.status.busy": "2023-12-01T17:58:22.371631Z",
     "iopub.status.idle": "2023-12-01T17:58:22.378522Z",
     "shell.execute_reply": "2023-12-01T17:58:22.378032Z"
    },
    "papermill": {
     "duration": 0.037518,
     "end_time": "2023-12-01T17:58:22.379561",
     "exception": false,
     "start_time": "2023-12-01T17:58:22.342043",
     "status": "completed"
    },
    "tags": []
   },
   "outputs": [
    {
     "data": {
      "text/plain": [
       "module_name   pass_name                                           \n",
       "geosearch     geokey                                                  7964\n",
       "              some name and DOB information                           1170\n",
       "              house number and street name Soundex                     802\n",
       "namesearch    DOB and NYSIIS of name                                   205\n",
       "dobsearch     first two characters of first name and year of birth      70\n",
       "namesearch    DOB and initials                                          70\n",
       "              birthday and first two characters of name                 31\n",
       "hhcompsearch  initials                                                  30\n",
       "dobsearch     reverse Soundex of name                                   25\n",
       "hhcompsearch  year of birth                                              9\n",
       "namesearch    year of birth and first two characters of name             4\n",
       "dtype: int64"
      ]
     },
     "execution_count": 82,
     "metadata": {},
     "output_type": "execute_result"
    }
   ],
   "source": [
    "df_ops.compute(person_linkage_cascade.confirmed_piks.groupby([\"module_name\", \"pass_name\"]).size()).sort_values(ascending=False)"
   ]
  },
  {
   "cell_type": "markdown",
   "id": "fc0ba651-913d-4eb4-9d3a-e391b9efc8d8",
   "metadata": {
    "papermill": {
     "duration": 0.028558,
     "end_time": "2023-12-01T17:58:22.435899",
     "exception": false,
     "start_time": "2023-12-01T17:58:22.407341",
     "status": "completed"
    },
    "tags": []
   },
   "source": [
    "# Resulting PIKs"
   ]
  },
  {
   "cell_type": "code",
   "execution_count": 83,
   "id": "c7a239d1-e1d8-435d-9af5-7c71ba3d64d1",
   "metadata": {
    "execution": {
     "iopub.execute_input": "2023-12-01T17:58:22.492787Z",
     "iopub.status.busy": "2023-12-01T17:58:22.492459Z",
     "iopub.status.idle": "2023-12-01T17:58:22.505338Z",
     "shell.execute_reply": "2023-12-01T17:58:22.504344Z"
    },
    "papermill": {
     "duration": 0.042122,
     "end_time": "2023-12-01T17:58:22.506511",
     "exception": false,
     "start_time": "2023-12-01T17:58:22.464389",
     "status": "completed"
    },
    "tags": []
   },
   "outputs": [],
   "source": [
    "pik_values = df_ops.drop_duplicates(\n",
    "    person_linkage_cascade.confirmed_piks\n",
    "        .rename(columns={\"record_id_raw_input_file\": \"record_id\"})\n",
    "        [[\"record_id\", \"pik\"]]\n",
    ")"
   ]
  },
  {
   "cell_type": "code",
   "execution_count": 84,
   "id": "e9271823-d2b3-4f41-9d77-9ad5bb117397",
   "metadata": {
    "execution": {
     "iopub.execute_input": "2023-12-01T17:58:22.564661Z",
     "iopub.status.busy": "2023-12-01T17:58:22.564370Z",
     "iopub.status.idle": "2023-12-01T17:58:22.601369Z",
     "shell.execute_reply": "2023-12-01T17:58:22.600807Z"
    },
    "papermill": {
     "duration": 0.066324,
     "end_time": "2023-12-01T17:58:22.602423",
     "exception": false,
     "start_time": "2023-12-01T17:58:22.536099",
     "status": "completed"
    },
    "tags": []
   },
   "outputs": [
    {
     "data": {
      "text/html": [
       "<div>\n",
       "<style scoped>\n",
       "    .dataframe tbody tr th:only-of-type {\n",
       "        vertical-align: middle;\n",
       "    }\n",
       "\n",
       "    .dataframe tbody tr th {\n",
       "        vertical-align: top;\n",
       "    }\n",
       "\n",
       "    .dataframe thead th {\n",
       "        text-align: right;\n",
       "    }\n",
       "</style>\n",
       "<table border=\"1\" class=\"dataframe\">\n",
       "  <thead>\n",
       "    <tr style=\"text-align: right;\">\n",
       "      <th></th>\n",
       "      <th>record_id</th>\n",
       "      <th>household_id</th>\n",
       "      <th>first_name</th>\n",
       "      <th>middle_initial</th>\n",
       "      <th>last_name</th>\n",
       "      <th>age</th>\n",
       "      <th>date_of_birth</th>\n",
       "      <th>street_number</th>\n",
       "      <th>street_name</th>\n",
       "      <th>unit_number</th>\n",
       "      <th>city</th>\n",
       "      <th>state</th>\n",
       "      <th>zipcode</th>\n",
       "      <th>housing_type</th>\n",
       "      <th>relationship_to_reference_person</th>\n",
       "      <th>sex</th>\n",
       "      <th>race_ethnicity</th>\n",
       "      <th>year</th>\n",
       "      <th>pik</th>\n",
       "    </tr>\n",
       "  </thead>\n",
       "  <tbody>\n",
       "    <tr>\n",
       "      <th>0</th>\n",
       "      <td>simulated_census_2030_0</td>\n",
       "      <td>0_8033</td>\n",
       "      <td>Gerald</td>\n",
       "      <td>R</td>\n",
       "      <td>Allen</td>\n",
       "      <td>86</td>\n",
       "      <td>11/03/1943</td>\n",
       "      <td>1130</td>\n",
       "      <td>mallory ln</td>\n",
       "      <td>None</td>\n",
       "      <td>Anytown</td>\n",
       "      <td>WA</td>\n",
       "      <td>00000</td>\n",
       "      <td>Household</td>\n",
       "      <td>Reference person</td>\n",
       "      <td>Male</td>\n",
       "      <td>Black</td>\n",
       "      <td>2030</td>\n",
       "      <td>89484</td>\n",
       "    </tr>\n",
       "    <tr>\n",
       "      <th>1</th>\n",
       "      <td>simulated_census_2030_1</td>\n",
       "      <td>0_1066</td>\n",
       "      <td>April</td>\n",
       "      <td>S</td>\n",
       "      <td>Hayden</td>\n",
       "      <td>33</td>\n",
       "      <td>10/23/1996</td>\n",
       "      <td>32597</td>\n",
       "      <td>delacorte dr</td>\n",
       "      <td>None</td>\n",
       "      <td>Anytown</td>\n",
       "      <td>WA</td>\n",
       "      <td>00000</td>\n",
       "      <td>Household</td>\n",
       "      <td>Other nonrelative</td>\n",
       "      <td>Female</td>\n",
       "      <td>Black</td>\n",
       "      <td>2030</td>\n",
       "      <td>98736</td>\n",
       "    </tr>\n",
       "    <tr>\n",
       "      <th>2</th>\n",
       "      <td>simulated_census_2030_2</td>\n",
       "      <td>0_1066</td>\n",
       "      <td>Loretta</td>\n",
       "      <td>T</td>\n",
       "      <td>Lowe</td>\n",
       "      <td>71</td>\n",
       "      <td>06/01/1958</td>\n",
       "      <td>32597</td>\n",
       "      <td>delacorte dr</td>\n",
       "      <td>None</td>\n",
       "      <td>Anytown</td>\n",
       "      <td>WA</td>\n",
       "      <td>00000</td>\n",
       "      <td>Household</td>\n",
       "      <td>Reference person</td>\n",
       "      <td>Female</td>\n",
       "      <td>White</td>\n",
       "      <td>2030</td>\n",
       "      <td>91258</td>\n",
       "    </tr>\n",
       "    <tr>\n",
       "      <th>3</th>\n",
       "      <td>simulated_census_2030_3</td>\n",
       "      <td>0_2514</td>\n",
       "      <td>Sandra</td>\n",
       "      <td>A</td>\n",
       "      <td>Sorrentino</td>\n",
       "      <td>75</td>\n",
       "      <td>03/18/1954</td>\n",
       "      <td>4458</td>\n",
       "      <td>wibdsor pl</td>\n",
       "      <td>None</td>\n",
       "      <td>Anytown</td>\n",
       "      <td>WA</td>\n",
       "      <td>00000</td>\n",
       "      <td>Household</td>\n",
       "      <td>Reference person</td>\n",
       "      <td>Female</td>\n",
       "      <td>Multiracial or Other</td>\n",
       "      <td>2030</td>\n",
       "      <td>90622</td>\n",
       "    </tr>\n",
       "    <tr>\n",
       "      <th>4</th>\n",
       "      <td>simulated_census_2030_4</td>\n",
       "      <td>0_5627</td>\n",
       "      <td>Bobby</td>\n",
       "      <td>S</td>\n",
       "      <td>Baker</td>\n",
       "      <td>44</td>\n",
       "      <td>05/20/1985</td>\n",
       "      <td>None</td>\n",
       "      <td>winding trail rd</td>\n",
       "      <td>None</td>\n",
       "      <td>Anytown</td>\n",
       "      <td>WA</td>\n",
       "      <td>00000</td>\n",
       "      <td>Household</td>\n",
       "      <td>Other nonrelative</td>\n",
       "      <td>Male</td>\n",
       "      <td>White</td>\n",
       "      <td>2030</td>\n",
       "      <td>96379</td>\n",
       "    </tr>\n",
       "    <tr>\n",
       "      <th>...</th>\n",
       "      <td>...</td>\n",
       "      <td>...</td>\n",
       "      <td>...</td>\n",
       "      <td>...</td>\n",
       "      <td>...</td>\n",
       "      <td>...</td>\n",
       "      <td>...</td>\n",
       "      <td>...</td>\n",
       "      <td>...</td>\n",
       "      <td>...</td>\n",
       "      <td>...</td>\n",
       "      <td>...</td>\n",
       "      <td>...</td>\n",
       "      <td>...</td>\n",
       "      <td>...</td>\n",
       "      <td>...</td>\n",
       "      <td>...</td>\n",
       "      <td>...</td>\n",
       "      <td>...</td>\n",
       "    </tr>\n",
       "    <tr>\n",
       "      <th>11024</th>\n",
       "      <td>simulated_census_2030_11024</td>\n",
       "      <td>0_10778</td>\n",
       "      <td>Jeremy</td>\n",
       "      <td>T</td>\n",
       "      <td>Boyd</td>\n",
       "      <td>46</td>\n",
       "      <td>07/01/1983</td>\n",
       "      <td>211</td>\n",
       "      <td>quiet wsy</td>\n",
       "      <td>None</td>\n",
       "      <td>Anytown</td>\n",
       "      <td>WA</td>\n",
       "      <td>00000</td>\n",
       "      <td>Household</td>\n",
       "      <td>Reference person</td>\n",
       "      <td>Male</td>\n",
       "      <td>Black</td>\n",
       "      <td>2030</td>\n",
       "      <td>95963</td>\n",
       "    </tr>\n",
       "    <tr>\n",
       "      <th>11025</th>\n",
       "      <td>simulated_census_2030_11025</td>\n",
       "      <td>0_11001</td>\n",
       "      <td>Wendy</td>\n",
       "      <td>M</td>\n",
       "      <td>Gross</td>\n",
       "      <td>54</td>\n",
       "      <td>12/05/1975</td>\n",
       "      <td>2801</td>\n",
       "      <td>blje rdv dr n</td>\n",
       "      <td>None</td>\n",
       "      <td>Anytown</td>\n",
       "      <td>WA</td>\n",
       "      <td>00000</td>\n",
       "      <td>Household</td>\n",
       "      <td>Reference person</td>\n",
       "      <td>Female</td>\n",
       "      <td>White</td>\n",
       "      <td>2030</td>\n",
       "      <td>NaN</td>\n",
       "    </tr>\n",
       "    <tr>\n",
       "      <th>11026</th>\n",
       "      <td>simulated_census_2030_11026</td>\n",
       "      <td>0_5308</td>\n",
       "      <td>Ember</td>\n",
       "      <td>H</td>\n",
       "      <td>Samuels</td>\n",
       "      <td>10</td>\n",
       "      <td>10/26/2019</td>\n",
       "      <td>24113</td>\n",
       "      <td>lauder</td>\n",
       "      <td>None</td>\n",
       "      <td>Anytown</td>\n",
       "      <td>WA</td>\n",
       "      <td>00000</td>\n",
       "      <td>Household</td>\n",
       "      <td>Reference person</td>\n",
       "      <td>Female</td>\n",
       "      <td>Black</td>\n",
       "      <td>2030</td>\n",
       "      <td>104164</td>\n",
       "    </tr>\n",
       "    <tr>\n",
       "      <th>11027</th>\n",
       "      <td>simulated_census_2030_11027</td>\n",
       "      <td>0_10693</td>\n",
       "      <td>Athena</td>\n",
       "      <td>V</td>\n",
       "      <td>Deshpande</td>\n",
       "      <td>27</td>\n",
       "      <td>07/05/2002</td>\n",
       "      <td>1534</td>\n",
       "      <td>bentley dr</td>\n",
       "      <td>None</td>\n",
       "      <td>Anytown</td>\n",
       "      <td>WA</td>\n",
       "      <td>00000</td>\n",
       "      <td>Household</td>\n",
       "      <td>Reference person</td>\n",
       "      <td>Female</td>\n",
       "      <td>Asian</td>\n",
       "      <td>2030</td>\n",
       "      <td>106182</td>\n",
       "    </tr>\n",
       "    <tr>\n",
       "      <th>11028</th>\n",
       "      <td>simulated_census_2030_11028</td>\n",
       "      <td>0_10693</td>\n",
       "      <td>Zechariah</td>\n",
       "      <td>C</td>\n",
       "      <td>Deshpande</td>\n",
       "      <td>0</td>\n",
       "      <td>04/10/2029</td>\n",
       "      <td>1534</td>\n",
       "      <td>bentley dr</td>\n",
       "      <td>None</td>\n",
       "      <td>Anytown</td>\n",
       "      <td>WA</td>\n",
       "      <td>00000</td>\n",
       "      <td>Household</td>\n",
       "      <td>Biological child</td>\n",
       "      <td>Male</td>\n",
       "      <td>Asian</td>\n",
       "      <td>2030</td>\n",
       "      <td>107923</td>\n",
       "    </tr>\n",
       "  </tbody>\n",
       "</table>\n",
       "<p>11029 rows × 19 columns</p>\n",
       "</div>"
      ],
      "text/plain": [
       "                         record_id household_id first_name middle_initial  \\\n",
       "0          simulated_census_2030_0       0_8033     Gerald              R   \n",
       "1          simulated_census_2030_1       0_1066      April              S   \n",
       "2          simulated_census_2030_2       0_1066    Loretta              T   \n",
       "3          simulated_census_2030_3       0_2514     Sandra              A   \n",
       "4          simulated_census_2030_4       0_5627      Bobby              S   \n",
       "...                            ...          ...        ...            ...   \n",
       "11024  simulated_census_2030_11024      0_10778     Jeremy              T   \n",
       "11025  simulated_census_2030_11025      0_11001      Wendy              M   \n",
       "11026  simulated_census_2030_11026       0_5308      Ember              H   \n",
       "11027  simulated_census_2030_11027      0_10693     Athena              V   \n",
       "11028  simulated_census_2030_11028      0_10693  Zechariah              C   \n",
       "\n",
       "        last_name age date_of_birth street_number       street_name  \\\n",
       "0           Allen  86    11/03/1943          1130        mallory ln   \n",
       "1          Hayden  33    10/23/1996         32597      delacorte dr   \n",
       "2            Lowe  71    06/01/1958         32597      delacorte dr   \n",
       "3      Sorrentino  75    03/18/1954          4458        wibdsor pl   \n",
       "4           Baker  44    05/20/1985          None  winding trail rd   \n",
       "...           ...  ..           ...           ...               ...   \n",
       "11024        Boyd  46    07/01/1983           211         quiet wsy   \n",
       "11025       Gross  54    12/05/1975          2801     blje rdv dr n   \n",
       "11026     Samuels  10    10/26/2019         24113            lauder   \n",
       "11027   Deshpande  27    07/05/2002          1534        bentley dr   \n",
       "11028   Deshpande   0    04/10/2029          1534        bentley dr   \n",
       "\n",
       "      unit_number     city state zipcode housing_type  \\\n",
       "0            None  Anytown    WA   00000    Household   \n",
       "1            None  Anytown    WA   00000    Household   \n",
       "2            None  Anytown    WA   00000    Household   \n",
       "3            None  Anytown    WA   00000    Household   \n",
       "4            None  Anytown    WA   00000    Household   \n",
       "...           ...      ...   ...     ...          ...   \n",
       "11024        None  Anytown    WA   00000    Household   \n",
       "11025        None  Anytown    WA   00000    Household   \n",
       "11026        None  Anytown    WA   00000    Household   \n",
       "11027        None  Anytown    WA   00000    Household   \n",
       "11028        None  Anytown    WA   00000    Household   \n",
       "\n",
       "      relationship_to_reference_person     sex        race_ethnicity  year  \\\n",
       "0                     Reference person    Male                 Black  2030   \n",
       "1                    Other nonrelative  Female                 Black  2030   \n",
       "2                     Reference person  Female                 White  2030   \n",
       "3                     Reference person  Female  Multiracial or Other  2030   \n",
       "4                    Other nonrelative    Male                 White  2030   \n",
       "...                                ...     ...                   ...   ...   \n",
       "11024                 Reference person    Male                 Black  2030   \n",
       "11025                 Reference person  Female                 White  2030   \n",
       "11026                 Reference person  Female                 Black  2030   \n",
       "11027                 Reference person  Female                 Asian  2030   \n",
       "11028                 Biological child    Male                 Asian  2030   \n",
       "\n",
       "          pik  \n",
       "0       89484  \n",
       "1       98736  \n",
       "2       91258  \n",
       "3       90622  \n",
       "4       96379  \n",
       "...       ...  \n",
       "11024   95963  \n",
       "11025     NaN  \n",
       "11026  104164  \n",
       "11027  106182  \n",
       "11028  107923  \n",
       "\n",
       "[11029 rows x 19 columns]"
      ]
     },
     "execution_count": 84,
     "metadata": {},
     "output_type": "execute_result"
    }
   ],
   "source": [
    "census_2030_piked = census_2030_raw_input.copy()\n",
    "kwargs = {}\n",
    "if compute_engine != 'dask':\n",
    "    kwargs['validate'] = '1:1'\n",
    "census_2030_piked = census_2030_piked.merge(\n",
    "    pik_values,\n",
    "    how=\"left\",\n",
    "    on=\"record_id\",\n",
    "    **kwargs,\n",
    ")\n",
    "census_2030_piked"
   ]
  },
  {
   "cell_type": "code",
   "execution_count": 85,
   "id": "5e6566f0-e77b-4b21-968c-05a7ef08eff6",
   "metadata": {
    "editable": true,
    "execution": {
     "iopub.execute_input": "2023-12-01T17:58:22.661699Z",
     "iopub.status.busy": "2023-12-01T17:58:22.661403Z",
     "iopub.status.idle": "2023-12-01T17:58:22.665590Z",
     "shell.execute_reply": "2023-12-01T17:58:22.665075Z"
    },
    "papermill": {
     "duration": 0.03371,
     "end_time": "2023-12-01T17:58:22.666611",
     "exception": false,
     "start_time": "2023-12-01T17:58:22.632901",
     "status": "completed"
    },
    "slideshow": {
     "slide_type": ""
    },
    "tags": []
   },
   "outputs": [
    {
     "name": "stdout",
     "output_type": "stream",
     "text": [
      "94.12% of the input records were PIKed\n"
     ]
    }
   ],
   "source": [
    "piked_proportion = census_2030_piked.pik.notnull().mean()\n",
    "# Compare with 90.28% of input records PIKed in the 2010 CUF,\n",
    "# as reported in Wagner and Layne, Table 2, p. 18\n",
    "print(f'{df_ops.compute(piked_proportion):.2%} of the input records were PIKed')"
   ]
  },
  {
   "cell_type": "code",
   "execution_count": 86,
   "id": "ffc185e2-1d4e-4d8c-98a0-3c0c3d1641cb",
   "metadata": {
    "editable": true,
    "execution": {
     "iopub.execute_input": "2023-12-01T17:58:22.723633Z",
     "iopub.status.busy": "2023-12-01T17:58:22.723350Z",
     "iopub.status.idle": "2023-12-01T17:58:22.757254Z",
     "shell.execute_reply": "2023-12-01T17:58:22.756020Z"
    },
    "papermill": {
     "duration": 0.063342,
     "end_time": "2023-12-01T17:58:22.758447",
     "exception": false,
     "start_time": "2023-12-01T17:58:22.695105",
     "status": "completed"
    },
    "slideshow": {
     "slide_type": ""
    },
    "tags": []
   },
   "outputs": [],
   "source": [
    "df_ops.to_parquet(census_2030_piked, f'{output_dir}/{data_to_use}/census_2030_piked.parquet')"
   ]
  },
  {
   "cell_type": "code",
   "execution_count": 87,
   "id": "822eb452-ca69-48fc-b1d6-c3425fd5f39e",
   "metadata": {
    "execution": {
     "iopub.execute_input": "2023-12-01T17:58:22.816103Z",
     "iopub.status.busy": "2023-12-01T17:58:22.815813Z",
     "iopub.status.idle": "2023-12-01T17:58:22.842511Z",
     "shell.execute_reply": "2023-12-01T17:58:22.842070Z"
    },
    "papermill": {
     "duration": 0.056453,
     "end_time": "2023-12-01T17:58:22.843561",
     "exception": false,
     "start_time": "2023-12-01T17:58:22.787108",
     "status": "completed"
    },
    "tags": []
   },
   "outputs": [],
   "source": [
    "df_ops.to_parquet(person_linkage_cascade.confirmed_piks, f'{output_dir}/{data_to_use}/confirmed_piks.parquet')"
   ]
  },
  {
   "cell_type": "code",
   "execution_count": null,
   "id": "e5ee7cdb-bac3-4245-b1e1-0cdcb6652a27",
   "metadata": {
    "editable": true,
    "papermill": {
     "duration": 0.027789,
     "end_time": "2023-12-01T17:58:22.900180",
     "exception": false,
     "start_time": "2023-12-01T17:58:22.872391",
     "status": "completed"
    },
    "slideshow": {
     "slide_type": ""
    },
    "tags": []
   },
   "outputs": [],
   "source": []
  }
 ],
 "metadata": {
  "kernelspec": {
   "display_name": "Python 3 (ipykernel)",
   "language": "python",
   "name": "python3"
  },
  "language_info": {
   "codemirror_mode": {
    "name": "ipython",
    "version": 3
   },
   "file_extension": ".py",
   "mimetype": "text/x-python",
   "name": "python",
   "nbconvert_exporter": "python",
   "pygments_lexer": "ipython3",
   "version": "3.10.13"
  },
  "papermill": {
   "default_parameters": {},
   "duration": 40.593023,
   "end_time": "2023-12-01T17:58:23.244707",
   "environment_variables": {},
   "exception": null,
   "input_path": "person_linkage_case_study.ipynb",
   "output_path": "person_linkage_case_study_small_sample_pandas_duckdb.ipynb",
   "parameters": {},
   "start_time": "2023-12-01T17:57:42.651684",
   "version": "2.5.0"
  },
  "toc-autonumbering": false,
  "toc-showcode": false,
  "toc-showtags": false,
  "widgets": {
   "application/vnd.jupyter.widget-state+json": {
    "state": {
     "1ff1df72d54b409c8ba5f3e1751a831e": {
      "model_module": "@jupyter-widgets/controls",
      "model_module_version": "2.0.0",
      "model_name": "ProgressStyleModel",
      "state": {
       "_model_module": "@jupyter-widgets/controls",
       "_model_module_version": "2.0.0",
       "_model_name": "ProgressStyleModel",
       "_view_count": null,
       "_view_module": "@jupyter-widgets/base",
       "_view_module_version": "2.0.0",
       "_view_name": "StyleView",
       "bar_color": "black",
       "description_width": ""
      }
     },
     "2e18ec2d81e9455f9b47386487b7728a": {
      "model_module": "@jupyter-widgets/base",
      "model_module_version": "2.0.0",
      "model_name": "LayoutModel",
      "state": {
       "_model_module": "@jupyter-widgets/base",
       "_model_module_version": "2.0.0",
       "_model_name": "LayoutModel",
       "_view_count": null,
       "_view_module": "@jupyter-widgets/base",
       "_view_module_version": "2.0.0",
       "_view_name": "LayoutView",
       "align_content": null,
       "align_items": null,
       "align_self": null,
       "border_bottom": null,
       "border_left": null,
       "border_right": null,
       "border_top": null,
       "bottom": null,
       "display": null,
       "flex": null,
       "flex_flow": null,
       "grid_area": null,
       "grid_auto_columns": null,
       "grid_auto_flow": null,
       "grid_auto_rows": null,
       "grid_column": null,
       "grid_gap": null,
       "grid_row": null,
       "grid_template_areas": null,
       "grid_template_columns": null,
       "grid_template_rows": null,
       "height": null,
       "justify_content": null,
       "justify_items": null,
       "left": null,
       "margin": null,
       "max_height": null,
       "max_width": null,
       "min_height": null,
       "min_width": null,
       "object_fit": null,
       "object_position": null,
       "order": null,
       "overflow": null,
       "padding": null,
       "right": null,
       "top": null,
       "visibility": null,
       "width": "auto"
      }
     },
     "e038b46a67524988a170699c5fe2b790": {
      "model_module": "@jupyter-widgets/controls",
      "model_module_version": "2.0.0",
      "model_name": "FloatProgressModel",
      "state": {
       "_dom_classes": [],
       "_model_module": "@jupyter-widgets/controls",
       "_model_module_version": "2.0.0",
       "_model_name": "FloatProgressModel",
       "_view_count": null,
       "_view_module": "@jupyter-widgets/controls",
       "_view_module_version": "2.0.0",
       "_view_name": "ProgressView",
       "bar_style": "",
       "description": "",
       "description_allow_html": false,
       "layout": "IPY_MODEL_2e18ec2d81e9455f9b47386487b7728a",
       "max": 100.0,
       "min": 0.0,
       "orientation": "horizontal",
       "style": "IPY_MODEL_1ff1df72d54b409c8ba5f3e1751a831e",
       "tabbable": null,
       "tooltip": null,
       "value": 100.0
      }
     }
    },
    "version_major": 2,
    "version_minor": 0
   }
  }
 },
 "nbformat": 4,
 "nbformat_minor": 5
}