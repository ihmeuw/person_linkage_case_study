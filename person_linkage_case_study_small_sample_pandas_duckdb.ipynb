{
 "cells": [
  {
   "cell_type": "markdown",
   "id": "ed9e49e5-db4e-4665-9892-0a679dcc22c5",
   "metadata": {
    "papermill": {
     "duration": 0.033933,
     "end_time": "2024-02-12T19:20:57.100655",
     "exception": false,
     "start_time": "2024-02-12T19:20:57.066722",
     "status": "completed"
    },
    "tags": []
   },
   "source": [
    "# **Person linkage case study**\n",
    "\n",
    "In this case study, we imagine running a person linkage to add unique identifiers to a simulated 2030 Census Unedited File (CUF).\n",
    "We emulate the methods of the Census Bureau's Person Identification Validation System (PVS) using publicly available descriptions.\n",
    "The PVS aims to give people in the input file (the CUF, in this case) unique identifiers that can be used to link them to other administrative records.\n",
    "\n",
    "We approximate the (highly confidential) input data to PVS by using simulated data from our pseudopeople package.\n",
    "See the `generate_simulated_data` notebook for details about this.\n",
    "\n",
    "## Sources\n",
    "\n",
    "These papers describe PVS as their main subject:\n",
    "\n",
    "* Wagner and Layne. The Person Identification Validation System (PVS): Applying the Center for Administrative Records Research and Applications’ (CARRA) Record Linkage Software. 2014. https://www.census.gov/content/dam/Census/library/working-papers/2014/adrm/carra-wp-2014-01.pdf ([archived](https://web.archive.org/web/20230216043235/https://www.census.gov/content/dam/Census/library/working-papers/2014/adrm/carra-wp-2014-01.pdf))\n",
    "* Layne, Wagner, and Rothhaas. Estimating Record Linkage False Match Rate for the Person Identification Validation System. 2014. https://www.census.gov/content/dam/Census/library/working-papers/2014/adrm/carra-wp-2014-02.pdf ([archived](https://web.archive.org/web/20220121051156/https://www.census.gov/content/dam/Census/library/working-papers/2014/adrm/carra-wp-2014-02.pdf))\n",
    "* Alexander et al. Creating a Longitudinal Data Infrastructure at the Census Bureau. 2015. https://www.census.gov/content/dam/Census/library/working-papers/2015/adrm/2015-alexander.pdf ([archived](https://web.archive.org/web/20170723192315/http://www.census.gov/content/dam/Census/library/working-papers/2015/adrm/2015-alexander.pdf))\n",
    "* Massey and O'Hara. Person Matching in Historical Files using the Census Bureau’s Person Validation System. 2014. https://www.census.gov/content/dam/Census/library/working-papers/2014/adrm/carra-wp-2014-11.pdf ([archived](https://web.archive.org/web/20221018074814/http://www.census.gov/content/dam/Census/library/working-papers/2014/adrm/carra-wp-2014-11.pdf))\n",
    "* NORC. Assessment of the U.S. Census Bureau’s Person Identification Validation System. 2011. https://www.norc.org/content/dam/norc-org/pdfs/PVS%20Assessment%20Report%20FINAL%20JULY%202011.pdf ([archived](https://web.archive.org/web/20230705005935/https://www.norc.org/content/dam/norc-org/pdfs/PVS%20Assessment%20Report%20FINAL%20JULY%202011.pdf))\n",
    "\n",
    "These apply PVS to some linking task, and in doing so describe it in some detail:\n",
    "\n",
    "* Brown et al. Real-Time 2020 Administrative Record Census Simulation. 2023. https://www2.census.gov/programs-surveys/decennial/2020/program-management/evaluate-docs/EAE-2020-admin-records-experiment.pdf ([archived](https://web.archive.org/web/20230521191811/https://www2.census.gov/programs-surveys/decennial/2020/program-management/evaluate-docs/EAE-2020-admin-records-experiment.pdf))\n",
    "* Massey et al. Linking the 1940 U.S. Census with Modern Data. 2018. https://www.ncbi.nlm.nih.gov/pmc/articles/PMC6530596/ ([DOI](https://doi.org/10.1080%2F01615440.2018.1507772))\n",
    "* Luque and Wagner. Assessing Coverage and Quality of the 2007 Prototype Census Kidlink Database. 2015. https://www.census.gov/content/dam/Census/library/working-papers/2015/adrm/carra-wp-2015-07.pdf ([archived](https://web.archive.org/web/20220808205231/http://www.census.gov/content/dam/Census/library/working-papers/2015/adrm/carra-wp-2015-07.pdf))\n",
    "* Bond et al. The Nature of the Bias When Studying Only Linkable Person Records: Evidence from the American Community Survey. 2014. https://www.census.gov/content/dam/Census/library/working-papers/2014/adrm/carra-wp-2014-08.pdf ([archived](https://web.archive.org/web/20220803083857/http://www.census.gov/content/dam/Census/library/working-papers/2014/adrm/carra-wp-2014-08.pdf))\n",
    "\n",
    "Finally, this paper is about the address matching process (MAF Match) which acts as part of PVS:\n",
    "\n",
    "* Brummet. Comparison of Survey, Federal, and Commercial Address Data Quality. 2014. https://www.census.gov/content/dam/Census/library/working-papers/2014/adrm/carra-wp-2014-06.pdf ([archived](https://web.archive.org/web/20220121213358/https://www.census.gov/content/dam/Census/library/working-papers/2014/adrm/carra-wp-2014-06.pdf))\n",
    "\n",
    "All of these papers are referenced throughout this notebook (and other notebooks) by the authors' names, along with additional information like page numbers.\n",
    "All page numbers represent those of the PDF files themselves, *not* page numbers printed in the documents.\n",
    "\n",
    "## PVS overview\n",
    "\n",
    "Brown et al., p. 28:\n",
    "\n",
    "> The PVS uses probabilistic record linkage (Fellegi and Sunter, 1969) to match data from an\n",
    "    incoming file (e.g., a survey or administrative record file) to reference files containing data on\n",
    "    SSN applications from the NUMIDENT enhanced with address data obtained from other federal\n",
    "    administrative records.\n",
    "\n",
    "## Setup"
   ]
  },
  {
   "cell_type": "code",
   "execution_count": 1,
   "id": "f0af1f28-7e30-4860-992e-15da22f9b55f",
   "metadata": {
    "execution": {
     "iopub.execute_input": "2024-02-12T19:20:57.156869Z",
     "iopub.status.busy": "2024-02-12T19:20:57.156224Z",
     "iopub.status.idle": "2024-02-12T19:20:59.058849Z",
     "shell.execute_reply": "2024-02-12T19:20:59.057168Z"
    },
    "papermill": {
     "duration": 1.935197,
     "end_time": "2024-02-12T19:20:59.063134",
     "exception": false,
     "start_time": "2024-02-12T19:20:57.127937",
     "status": "completed"
    },
    "tags": []
   },
   "outputs": [],
   "source": [
    "import re, copy, os, time, datetime\n",
    "import pandas, numpy\n",
    "import jellyfish"
   ]
  },
  {
   "cell_type": "code",
   "execution_count": 2,
   "id": "39ce58b3-0901-420f-b6c2-2dfd85e56f78",
   "metadata": {
    "execution": {
     "iopub.execute_input": "2024-02-12T19:20:59.166581Z",
     "iopub.status.busy": "2024-02-12T19:20:59.165861Z",
     "iopub.status.idle": "2024-02-12T19:20:59.171726Z",
     "shell.execute_reply": "2024-02-12T19:20:59.170640Z"
    },
    "papermill": {
     "duration": 0.036055,
     "end_time": "2024-02-12T19:20:59.173688",
     "exception": false,
     "start_time": "2024-02-12T19:20:59.137633",
     "status": "completed"
    },
    "tags": []
   },
   "outputs": [
    {
     "name": "stdout",
     "output_type": "stream",
     "text": [
      "2024-02-12 11:20:59.167859\n"
     ]
    }
   ],
   "source": [
    "print(datetime.datetime.now())"
   ]
  },
  {
   "cell_type": "code",
   "execution_count": 3,
   "id": "10473b3a-f016-4afd-9e0e-cbaa968555e0",
   "metadata": {
    "execution": {
     "iopub.execute_input": "2024-02-12T19:20:59.227822Z",
     "iopub.status.busy": "2024-02-12T19:20:59.227526Z",
     "iopub.status.idle": "2024-02-12T19:20:59.346625Z",
     "shell.execute_reply": "2024-02-12T19:20:59.345872Z"
    },
    "papermill": {
     "duration": 0.14925,
     "end_time": "2024-02-12T19:20:59.348750",
     "exception": false,
     "start_time": "2024-02-12T19:20:59.199500",
     "status": "completed"
    },
    "tags": []
   },
   "outputs": [],
   "source": [
    "%load_ext autoreload\n",
    "%autoreload 1"
   ]
  },
  {
   "cell_type": "code",
   "execution_count": 4,
   "id": "fbae5f8b-f5b0-43db-907b-bdbc83a2d9c6",
   "metadata": {
    "execution": {
     "iopub.execute_input": "2024-02-12T19:20:59.404594Z",
     "iopub.status.busy": "2024-02-12T19:20:59.404163Z",
     "iopub.status.idle": "2024-02-12T19:20:59.440860Z",
     "shell.execute_reply": "2024-02-12T19:20:59.439747Z"
    },
    "papermill": {
     "duration": 0.067837,
     "end_time": "2024-02-12T19:20:59.443893",
     "exception": false,
     "start_time": "2024-02-12T19:20:59.376056",
     "status": "completed"
    },
    "tags": []
   },
   "outputs": [],
   "source": [
    "%aimport vivarium_research_prl\n",
    "from vivarium_research_prl import distributed_compute, utils"
   ]
  },
  {
   "cell_type": "code",
   "execution_count": 5,
   "id": "47bc4e2e-93cb-47f1-b4ab-fedac26382b8",
   "metadata": {
    "editable": true,
    "execution": {
     "iopub.execute_input": "2024-02-12T19:20:59.500619Z",
     "iopub.status.busy": "2024-02-12T19:20:59.500191Z",
     "iopub.status.idle": "2024-02-12T19:20:59.508727Z",
     "shell.execute_reply": "2024-02-12T19:20:59.507800Z"
    },
    "papermill": {
     "duration": 0.038345,
     "end_time": "2024-02-12T19:20:59.510569",
     "exception": false,
     "start_time": "2024-02-12T19:20:59.472224",
     "status": "completed"
    },
    "slideshow": {
     "slide_type": ""
    },
    "tags": [
     "parameters"
    ]
   },
   "outputs": [],
   "source": [
    "# DO NOT EDIT if this notebook is not called person_linkage_case_study.ipynb!\n",
    "# This notebook is designed to be run with papermill; this cell is tagged 'parameters'\n",
    "data_to_use = 'small_sample'\n",
    "input_dir = 'generate_simulated_data/output'\n",
    "output_dir = 'output'\n",
    "\n",
    "# The \"compute engine\" is what we use on the Python side\n",
    "# for our case-study-specific operations,\n",
    "# as opposed to the Splink engine\n",
    "compute_engine = 'pandas'\n",
    "# Only matter if using a distributed compute engine\n",
    "compute_engine_num_jobs = 3\n",
    "compute_engine_cpus_per_job = 2\n",
    "compute_engine_memory_per_job = \"1GB\"\n",
    "\n",
    "splink_engine = 'duckdb'\n",
    "# Only matter if using Spark\n",
    "spark_local = False\n",
    "# Only matter if using distributed (non-local) Spark\n",
    "spark_cpus_master = 2\n",
    "spark_memory_master = \"5GB\"\n",
    "spark_num_workers = 15\n",
    "spark_cpus_per_worker = 2\n",
    "spark_memory_per_worker = \"4GB\"\n",
    "spark_worker_memory_overhead_mb = 500\n",
    "\n",
    "clear_intermediate = True"
   ]
  },
  {
   "cell_type": "code",
   "execution_count": 6,
   "id": "cd911b83-9295-46a4-957f-7de919ce451b",
   "metadata": {
    "execution": {
     "iopub.execute_input": "2024-02-12T19:20:59.565562Z",
     "iopub.status.busy": "2024-02-12T19:20:59.565069Z",
     "iopub.status.idle": "2024-02-12T19:20:59.570057Z",
     "shell.execute_reply": "2024-02-12T19:20:59.569080Z"
    },
    "papermill": {
     "duration": 0.035243,
     "end_time": "2024-02-12T19:20:59.571957",
     "exception": false,
     "start_time": "2024-02-12T19:20:59.536714",
     "status": "completed"
    },
    "tags": []
   },
   "outputs": [],
   "source": [
    "# # Parameters (WIP) for an RI run\n",
    "# data_to_use = \"usa\"\n",
    "# input_dir = \"/ihme/scratch/users/zmbc/person_linkage_case_study/generate_simulated_data\"\n",
    "# output_dir = \"/ihme/scratch/users/zmbc/person_linkage_case_study/person_linkage_case_study\"\n",
    "\n",
    "# compute_engine = 'dask'\n",
    "# compute_engine_num_jobs = 10\n",
    "# compute_engine_memory_per_job = \"5GB\"\n",
    "# compute_engine_cpus_per_job = 2\n",
    "\n",
    "# splink_engine = 'spark'\n",
    "# spark_num_workers = 50\n",
    "# spark_cpus_per_worker = 2\n",
    "# spark_memory_per_worker = \"30GB\"\n",
    "# spark_worker_memory_overhead_mb = 5_000"
   ]
  },
  {
   "cell_type": "code",
   "execution_count": 7,
   "id": "94d42219-f60e-4547-8c98-2bf1b73af392",
   "metadata": {
    "execution": {
     "iopub.execute_input": "2024-02-12T19:20:59.627154Z",
     "iopub.status.busy": "2024-02-12T19:20:59.626633Z",
     "iopub.status.idle": "2024-02-12T19:20:59.631004Z",
     "shell.execute_reply": "2024-02-12T19:20:59.630017Z"
    },
    "papermill": {
     "duration": 0.03443,
     "end_time": "2024-02-12T19:20:59.632943",
     "exception": false,
     "start_time": "2024-02-12T19:20:59.598513",
     "status": "completed"
    },
    "tags": []
   },
   "outputs": [],
   "source": [
    "# # Parameters (WIP) for a full USA run\n",
    "# data_to_use = \"usa\"\n",
    "# input_dir = \"/ihme/scratch/users/zmbc/person_linkage_case_study/generate_simulated_data\"\n",
    "# output_dir = \"/ihme/scratch/users/zmbc/person_linkage_case_study/person_linkage_case_study\"\n",
    "\n",
    "# compute_engine = 'dask'\n",
    "# compute_engine_num_jobs = 50\n",
    "# compute_engine_memory_per_job = \"120GB\"\n",
    "# compute_engine_cpus_per_job = 2\n",
    "\n",
    "# splink_engine = 'spark'\n",
    "# spark_cpus_master = 10\n",
    "# spark_memory_master = \"40GB\"\n",
    "# spark_num_workers = 50\n",
    "# spark_cpus_per_worker = 2\n",
    "# spark_memory_per_worker = \"120GB\"\n",
    "# spark_worker_memory_overhead_mb = 5_000"
   ]
  },
  {
   "cell_type": "code",
   "execution_count": 8,
   "id": "5a0ba030-3ce6-489a-9659-296048287a75",
   "metadata": {
    "execution": {
     "iopub.execute_input": "2024-02-12T19:20:59.688223Z",
     "iopub.status.busy": "2024-02-12T19:20:59.687701Z",
     "iopub.status.idle": "2024-02-12T19:20:59.692066Z",
     "shell.execute_reply": "2024-02-12T19:20:59.691044Z"
    },
    "papermill": {
     "duration": 0.033987,
     "end_time": "2024-02-12T19:20:59.693954",
     "exception": false,
     "start_time": "2024-02-12T19:20:59.659967",
     "status": "completed"
    },
    "tags": []
   },
   "outputs": [],
   "source": [
    "output_dir = f'{output_dir}/{data_to_use}'"
   ]
  },
  {
   "cell_type": "code",
   "execution_count": 9,
   "id": "de2cdd3c-9b84-46fc-a024-adc6b197bf50",
   "metadata": {
    "execution": {
     "iopub.execute_input": "2024-02-12T19:20:59.749583Z",
     "iopub.status.busy": "2024-02-12T19:20:59.749066Z",
     "iopub.status.idle": "2024-02-12T19:20:59.754316Z",
     "shell.execute_reply": "2024-02-12T19:20:59.753422Z"
    },
    "papermill": {
     "duration": 0.035362,
     "end_time": "2024-02-12T19:20:59.756185",
     "exception": false,
     "start_time": "2024-02-12T19:20:59.720823",
     "status": "completed"
    },
    "tags": []
   },
   "outputs": [],
   "source": [
    "import os\n",
    "from pathlib import Path\n",
    "os.environ[\"PATH\"] = f\"{Path('./slurm_within_singularity').resolve()}:{os.environ['PATH']}\""
   ]
  },
  {
   "cell_type": "code",
   "execution_count": 10,
   "id": "da04a59b-ed5b-43b9-a7b0-7e763e20be11",
   "metadata": {
    "execution": {
     "iopub.execute_input": "2024-02-12T19:20:59.812146Z",
     "iopub.status.busy": "2024-02-12T19:20:59.811624Z",
     "iopub.status.idle": "2024-02-12T19:20:59.817001Z",
     "shell.execute_reply": "2024-02-12T19:20:59.816028Z"
    },
    "papermill": {
     "duration": 0.03585,
     "end_time": "2024-02-12T19:20:59.818863",
     "exception": false,
     "start_time": "2024-02-12T19:20:59.783013",
     "status": "completed"
    },
    "tags": []
   },
   "outputs": [],
   "source": [
    "df_ops, pd = distributed_compute.start_compute_engine(\n",
    "    compute_engine,\n",
    "    num_jobs=compute_engine_num_jobs,\n",
    "    cpus_per_job=compute_engine_cpus_per_job,\n",
    "    memory_per_job=compute_engine_memory_per_job,\n",
    ")"
   ]
  },
  {
   "cell_type": "code",
   "execution_count": null,
   "id": "65ab2072-f46d-49eb-a4d1-a89a30f1de36",
   "metadata": {
    "papermill": {
     "duration": 0.026961,
     "end_time": "2024-02-12T19:20:59.872671",
     "exception": false,
     "start_time": "2024-02-12T19:20:59.845710",
     "status": "completed"
    },
    "tags": []
   },
   "outputs": [],
   "source": []
  },
  {
   "cell_type": "code",
   "execution_count": 11,
   "id": "4efdd565-6ae1-4bf9-b124-8e3d05d90143",
   "metadata": {
    "execution": {
     "iopub.execute_input": "2024-02-12T19:20:59.927393Z",
     "iopub.status.busy": "2024-02-12T19:20:59.927091Z",
     "iopub.status.idle": "2024-02-12T19:20:59.948050Z",
     "shell.execute_reply": "2024-02-12T19:20:59.946667Z"
    },
    "papermill": {
     "duration": 0.050915,
     "end_time": "2024-02-12T19:20:59.950521",
     "exception": false,
     "start_time": "2024-02-12T19:20:59.899606",
     "status": "completed"
    },
    "tags": []
   },
   "outputs": [],
   "source": [
    "import pathlib\n",
    "pwd = os.getcwd()\n",
    "slurm_output_dir = f\"{output_dir}/slurm_output\"\n",
    "if clear_intermediate:\n",
    "    utils.ensure_empty(slurm_output_dir)"
   ]
  },
  {
   "cell_type": "code",
   "execution_count": 12,
   "id": "152189c1-e987-4000-b386-684d0938737c",
   "metadata": {
    "execution": {
     "iopub.execute_input": "2024-02-12T19:21:00.007869Z",
     "iopub.status.busy": "2024-02-12T19:21:00.007583Z",
     "iopub.status.idle": "2024-02-12T19:21:00.189665Z",
     "shell.execute_reply": "2024-02-12T19:21:00.188985Z"
    },
    "papermill": {
     "duration": 0.212535,
     "end_time": "2024-02-12T19:21:00.191585",
     "exception": false,
     "start_time": "2024-02-12T19:20:59.979050",
     "status": "completed"
    },
    "tags": []
   },
   "outputs": [],
   "source": [
    "import requests"
   ]
  },
  {
   "cell_type": "code",
   "execution_count": 13,
   "id": "7eccb943-b21f-46ed-a22f-2c200cd83a36",
   "metadata": {
    "execution": {
     "iopub.execute_input": "2024-02-12T19:21:00.248574Z",
     "iopub.status.busy": "2024-02-12T19:21:00.248049Z",
     "iopub.status.idle": "2024-02-12T19:21:00.254682Z",
     "shell.execute_reply": "2024-02-12T19:21:00.253788Z"
    },
    "papermill": {
     "duration": 0.037295,
     "end_time": "2024-02-12T19:21:00.256823",
     "exception": false,
     "start_time": "2024-02-12T19:21:00.219528",
     "status": "completed"
    },
    "tags": []
   },
   "outputs": [],
   "source": [
    "if spark_memory_per_worker.endswith('G') or spark_memory_per_worker.endswith('GB'):\n",
    "    spark_memory_per_worker = int(re.search(r'(\\d+)GB?', spark_memory_per_worker).group(1)) * 1_000\n",
    "elif spark_memory_per_worker.endswith('M') or spark_memory_per_worker.endswith('MB'):\n",
    "    spark_memory_per_worker = int(re.search(r'(\\d+)MB?', spark_memory_per_worker).group(1))\n",
    "else:\n",
    "    raise ValueError()"
   ]
  },
  {
   "cell_type": "code",
   "execution_count": 14,
   "id": "3c6ca817-6be3-49ff-89fb-6fc6647f9500",
   "metadata": {
    "editable": true,
    "execution": {
     "iopub.execute_input": "2024-02-12T19:21:00.316046Z",
     "iopub.status.busy": "2024-02-12T19:21:00.314637Z",
     "iopub.status.idle": "2024-02-12T19:21:00.334973Z",
     "shell.execute_reply": "2024-02-12T19:21:00.334178Z"
    },
    "papermill": {
     "duration": 0.052524,
     "end_time": "2024-02-12T19:21:00.336901",
     "exception": false,
     "start_time": "2024-02-12T19:21:00.284377",
     "status": "completed"
    },
    "slideshow": {
     "slide_type": ""
    },
    "tags": []
   },
   "outputs": [],
   "source": [
    "if splink_engine == 'spark':\n",
    "    if spark_local:\n",
    "        spark_master_url = \"local[2]\"\n",
    "    else:\n",
    "        log_path = f\"{slurm_output_dir}/spark-master-%j.out\"\n",
    "        array_job_log_path = f\"{slurm_output_dir}/spark-worker-%A_%a.out\"\n",
    "        print(\"Starting Spark master\")\n",
    "        spark_start_master_output = os.popen(\n",
    "            f\"sbatch --output {log_path} --error {log_path} \"\n",
    "            f\"--cpus-per-task {spark_cpus_master} --mem {spark_memory_master} \"\n",
    "            f\"-A proj_simscience -p long.q {pwd}/start_spark_master.sh\"\n",
    "        ).read()\n",
    "        spark_master_job_id = re.match('Submitted batch job (\\d+)', spark_start_master_output)[1]\n",
    "\n",
    "        # TODO: This cleanup is not actually working\n",
    "        import atexit\n",
    "        \n",
    "        def kill_spark_master():\n",
    "            os.popen(f\"scancel {spark_master_job_id}\").read()\n",
    "        \n",
    "        atexit.register(kill_spark_master)\n",
    "\n",
    "        while True:\n",
    "            logs = os.popen(f\"ssh $(hostname) -q -t cat {log_path.replace('%j', spark_master_job_id)} 2>&1\").read()\n",
    "            starting_lines = [l for l in logs.split('\\n') if 'Starting Spark master at' in l]\n",
    "            webui_starting_lines = [l for l in logs.split('\\n') if 'Bound MasterWebUI to' in l]\n",
    "            if len(starting_lines) > 0 and len(webui_starting_lines) > 0:\n",
    "                break\n",
    "            else:\n",
    "                time.sleep(5)\n",
    "\n",
    "        spark_master_url = re.match('.*Starting Spark master at (spark:.+)$', starting_lines[0])[1]\n",
    "        spark_master_webui_url = re.match('.*Bound MasterWebUI to .*, and started at (http:.+)$', webui_starting_lines[0])[1]\n",
    "        print(f'Got Spark master URL: {spark_master_url}')\n",
    "        print('\\n'.join([l for l in logs.split('\\n') if 'Bound MasterWebUI' in l]))\n",
    "\n",
    "        spark_worker_job_ids = []\n",
    "\n",
    "        def start_spark_workers(n_workers):\n",
    "            spark_start_workers_output = os.popen(\n",
    "                f\"sbatch --output {array_job_log_path} --error {array_job_log_path} \"\n",
    "                f\"--array=1-{n_workers} --cpus-per-task {spark_cpus_per_worker} --mem {spark_memory_per_worker} \"\n",
    "                f\"-A proj_simscience -p long.q {pwd}/start_spark_workers.sh {spark_master_url} {spark_worker_memory_overhead_mb}\"\n",
    "            ).read()\n",
    "            job_id = re.match('Submitted batch job (\\d+)', spark_start_workers_output)[1]\n",
    "            spark_worker_job_ids.append(job_id)\n",
    "\n",
    "            while True:\n",
    "                logs = os.popen(f\"ssh $(hostname) -q -t cat {array_job_log_path.replace('%A', job_id).replace('%a', '*')} 2>&1\").read()\n",
    "                starting_lines = [l for l in logs.split('\\n') if 'Starting Spark worker' in l]\n",
    "                if len(starting_lines) == n_workers:\n",
    "                    print('\\n'.join([l for l in logs.split('\\n') if 'Starting Spark worker' in l or 'Bound WorkerWebUI' in l]))\n",
    "                    break\n",
    "                else:\n",
    "                    time.sleep(5)\n",
    "\n",
    "            return job_id\n",
    "\n",
    "        print('Starting Spark workers')\n",
    "        spark_workers_job_id = start_spark_workers(spark_num_workers)\n",
    "\n",
    "        def kill_spark_workers():\n",
    "            for job_id in spark_worker_job_ids:\n",
    "                os.popen(f\"scancel {job_id}\").read()\n",
    "\n",
    "        atexit.register(kill_spark_workers)\n",
    "\n",
    "        import asyncio\n",
    "        import requests\n",
    "\n",
    "        def maintain_spark_worker_count():\n",
    "            while True:\n",
    "                alive_workers = requests.get(f'{spark_master_webui_url}/json/').json()['aliveworkers']\n",
    "                if alive_workers < spark_num_workers:\n",
    "                    num_to_start = spark_num_workers - alive_workers\n",
    "                    print(f\"Starting {num_to_start} more Spark worker(s)\")\n",
    "                    start_spark_workers(num_to_start)\n",
    "                time.sleep(20)\n",
    "\n",
    "        def stop():\n",
    "            task.cancel()\n",
    "\n",
    "        atexit.register(stop)\n",
    "\n",
    "        loop = asyncio.get_event_loop()\n",
    "        task = loop.run_in_executor(None, maintain_spark_worker_count)"
   ]
  },
  {
   "cell_type": "markdown",
   "id": "86e8c9a9-d691-4110-baed-683004701894",
   "metadata": {
    "papermill": {
     "duration": 0.027403,
     "end_time": "2024-02-12T19:21:00.391819",
     "exception": false,
     "start_time": "2024-02-12T19:21:00.364416",
     "status": "completed"
    },
    "tags": []
   },
   "source": [
    "# Load data\n",
    "\n",
    "See code in `generate_simulated_data` directory for how we generated the files to link"
   ]
  },
  {
   "cell_type": "code",
   "execution_count": 15,
   "id": "cdf1086b-639c-4421-95ef-dc4108b7fd9a",
   "metadata": {
    "execution": {
     "iopub.execute_input": "2024-02-12T19:21:00.447521Z",
     "iopub.status.busy": "2024-02-12T19:21:00.446578Z",
     "iopub.status.idle": "2024-02-12T19:21:00.696827Z",
     "shell.execute_reply": "2024-02-12T19:21:00.695903Z"
    },
    "papermill": {
     "duration": 0.280519,
     "end_time": "2024-02-12T19:21:00.699087",
     "exception": false,
     "start_time": "2024-02-12T19:21:00.418568",
     "status": "completed"
    },
    "tags": []
   },
   "outputs": [],
   "source": [
    "census_2030 = df_ops.persist(df_ops.read_parquet(f'{input_dir}/{data_to_use}/simulated_census_2030.parquet'))\n",
    "geobase_reference_file = df_ops.persist(df_ops.read_parquet(f'{input_dir}/{data_to_use}/simulated_geobase_reference_file.parquet'))\n",
    "name_dob_reference_file = df_ops.persist(df_ops.read_parquet(f'{input_dir}/{data_to_use}/simulated_name_dob_reference_file.parquet'))"
   ]
  },
  {
   "cell_type": "markdown",
   "id": "5bc6d16d-f4c9-4c1a-b969-baee5ac539ad",
   "metadata": {
    "papermill": {
     "duration": 0.02903,
     "end_time": "2024-02-12T19:21:00.755674",
     "exception": false,
     "start_time": "2024-02-12T19:21:00.726644",
     "status": "completed"
    },
    "tags": []
   },
   "source": [
    "# Pre-process input file\n",
    "\n",
    "Wagner and Layne, p. 9:\n",
    "\n",
    "> The first step of the PVS process is to edit data fields to make them homogenous for\n",
    "comparisons between incoming and reference files."
   ]
  },
  {
   "cell_type": "code",
   "execution_count": 16,
   "id": "ee0111f6-d8e0-4758-a242-70027d67b313",
   "metadata": {
    "execution": {
     "iopub.execute_input": "2024-02-12T19:21:00.812601Z",
     "iopub.status.busy": "2024-02-12T19:21:00.812202Z",
     "iopub.status.idle": "2024-02-12T19:21:00.819868Z",
     "shell.execute_reply": "2024-02-12T19:21:00.818423Z"
    },
    "papermill": {
     "duration": 0.039134,
     "end_time": "2024-02-12T19:21:00.821778",
     "exception": false,
     "start_time": "2024-02-12T19:21:00.782644",
     "status": "completed"
    },
    "tags": []
   },
   "outputs": [],
   "source": [
    "# Input file before any processing; the final result will be this with the PIK column added\n",
    "census_2030_raw_input = census_2030.copy()"
   ]
  },
  {
   "cell_type": "markdown",
   "id": "829cf59a-804c-4372-bcbf-740ec724b3ee",
   "metadata": {
    "papermill": {
     "duration": 0.027205,
     "end_time": "2024-02-12T19:21:00.875581",
     "exception": false,
     "start_time": "2024-02-12T19:21:00.848376",
     "status": "completed"
    },
    "tags": []
   },
   "source": [
    "## Name parsing and standardizing\n",
    "\n",
    "Wagner and Layne, p. 9:\n",
    "\n",
    "> The first edits are parsing and standardizing - parsing separates fields into\n",
    "component parts, while standardizing guarantees key data elements are consistent (e.g.,\n",
    "STREET, STR are both converted to ST). Name and address fields are parsed and\n",
    "standardized as they are key linkage comparators. \n",
    "\n",
    "As noted in the data generation notebook, there is no parsing to be done here:\n",
    "because the Census questionnnaire asks for first name, middle initial, and last name as\n",
    "separate fields on the form, the name would be already parsed when running PVS on the CUF.\n",
    "\n",
    "The real PVS name parser generates fields like prefix (e.g. Mr.) and suffix (e.g. Jr.)\n",
    "but we never have these in names from pseudopeople.\n",
    "\n",
    "More details about the name parser and standardizer (Wagner and Layne, p. 10):\n",
    "\n",
    "> The PVS system incorporates a name\n",
    "standardizer (McGaughey, 1994), which is a C language subroutine called as a function\n",
    "within SAS. It performs name parsing and includes a nickname lookup table and outputs\n",
    "name variants (standardized variations of first and last names). For example, Bill\n",
    "becomes William, Chuck and Charlie becomes Charles, etc. The PVS keeps both the\n",
    "original name (Bill) and the converted name (William) for matching. PVS also has a fake\n",
    "name table to blank names such as “Queen of the House” or “Baby Girl.” The name data\n",
    "are parsed, checked for nicknames, and standardized.\n",
    "\n",
    "The key thing that wasn't clear to me from this description was what it meant to\n",
    "\"keep both original name and the converted name for matching.\"\n",
    "I found this in Massey et al.:\n",
    "\n",
    "> The Name Search Module also accounts for instances where census records contain a nickname.\n",
    "> For these records, the preprocessing step of the Name Search module outputs two records for\n",
    "> these observations, one record for the nickname and one record for the formal name.\n",
    "> For example, if the input record has the name “Bill Smith,” the formatting program will add\n",
    "> a formal name “William” to that record. This record will then output to both the B-S cut and to the W-S cut.\n",
    "\n",
    "From this, I gather that nicknames work similar to alternate names in the reference file:\n",
    "entire duplicate records are made with each name (nickname and formal).\n",
    "However, I am still confused by calling this \"the preprocessing step **of the Name Search module**.\"\n",
    "In Wagner and Layne it does not seem like this is module-specific, and I don't see any\n",
    "reason that would be desirable, so I have done this multi-record approach across all modules."
   ]
  },
  {
   "cell_type": "code",
   "execution_count": 17,
   "id": "7b449705-cd3f-4a14-9520-b4dfb1fa481b",
   "metadata": {
    "execution": {
     "iopub.execute_input": "2024-02-12T19:21:00.933189Z",
     "iopub.status.busy": "2024-02-12T19:21:00.932212Z",
     "iopub.status.idle": "2024-02-12T19:21:00.942958Z",
     "shell.execute_reply": "2024-02-12T19:21:00.941956Z"
    },
    "papermill": {
     "duration": 0.042212,
     "end_time": "2024-02-12T19:21:00.944873",
     "exception": false,
     "start_time": "2024-02-12T19:21:00.902661",
     "status": "completed"
    },
    "tags": []
   },
   "outputs": [
    {
     "name": "stdout",
     "output_type": "stream",
     "text": [
      "4 nicknames in the Census\n"
     ]
    }
   ],
   "source": [
    "# Nickname processing\n",
    "# Have not yet found a nickname list in PVS docs,\n",
    "# so we do a minimal version for now -- could use\n",
    "# another list such as the one in pseudopeople\n",
    "# These examples all come directly from examples in the descriptions of PVS\n",
    "nickname_standardizations = {\n",
    "    \"Bill\": \"William\",\n",
    "    \"Chuck\": \"Charles\",\n",
    "    \"Charlie\": \"Charles\",\n",
    "    \"Cathy\": \"Catherine\",\n",
    "    \"Matt\": \"Matthew\",\n",
    "}\n",
    "has_nickname = df_ops.persist(census_2030.first_name.isin(nickname_standardizations.keys()))\n",
    "print(f'{df_ops.compute(has_nickname.sum()):,.0f} nicknames in the Census')"
   ]
  },
  {
   "cell_type": "code",
   "execution_count": 18,
   "id": "8b119152-d5db-4d78-bab9-b15feae95f98",
   "metadata": {
    "execution": {
     "iopub.execute_input": "2024-02-12T19:21:01.001798Z",
     "iopub.status.busy": "2024-02-12T19:21:01.001361Z",
     "iopub.status.idle": "2024-02-12T19:21:01.020373Z",
     "shell.execute_reply": "2024-02-12T19:21:01.019674Z"
    },
    "papermill": {
     "duration": 0.049872,
     "end_time": "2024-02-12T19:21:01.022263",
     "exception": false,
     "start_time": "2024-02-12T19:21:00.972391",
     "status": "completed"
    },
    "tags": []
   },
   "outputs": [],
   "source": [
    "# Add extra rows for the normalized names\n",
    "census_2030 = df_ops.concat([\n",
    "    census_2030,\n",
    "    census_2030[has_nickname].assign(first_name=lambda df: df.first_name.replace(nickname_standardizations))\n",
    "], ignore_index=True)"
   ]
  },
  {
   "cell_type": "code",
   "execution_count": 19,
   "id": "bb25cd47-aab9-42ee-98a5-3bdc3d66c2af",
   "metadata": {
    "execution": {
     "iopub.execute_input": "2024-02-12T19:21:01.078552Z",
     "iopub.status.busy": "2024-02-12T19:21:01.078016Z",
     "iopub.status.idle": "2024-02-12T19:21:01.104772Z",
     "shell.execute_reply": "2024-02-12T19:21:01.103788Z"
    },
    "papermill": {
     "duration": 0.057289,
     "end_time": "2024-02-12T19:21:01.106678",
     "exception": false,
     "start_time": "2024-02-12T19:21:01.049389",
     "status": "completed"
    },
    "tags": []
   },
   "outputs": [],
   "source": [
    "# Note: The above will introduce duplicates on record_id, so we redefine\n",
    "# record_id to be unique (without getting rid of the original, input file record ID)\n",
    "census_2030 = df_ops.add_unique_record_id(\n",
    "    census_2030.rename(columns={'record_id': 'record_id_raw_input_file'}),\n",
    "    \"census_2030_preprocessed\",\n",
    ")"
   ]
  },
  {
   "cell_type": "code",
   "execution_count": 20,
   "id": "a086540a-d9d0-4068-8ee8-539314aa91e6",
   "metadata": {
    "execution": {
     "iopub.execute_input": "2024-02-12T19:21:01.163586Z",
     "iopub.status.busy": "2024-02-12T19:21:01.162741Z",
     "iopub.status.idle": "2024-02-12T19:21:01.207928Z",
     "shell.execute_reply": "2024-02-12T19:21:01.206937Z"
    },
    "papermill": {
     "duration": 0.076167,
     "end_time": "2024-02-12T19:21:01.209807",
     "exception": false,
     "start_time": "2024-02-12T19:21:01.133640",
     "status": "completed"
    },
    "tags": []
   },
   "outputs": [
    {
     "data": {
      "text/html": [
       "<div>\n",
       "<style scoped>\n",
       "    .dataframe tbody tr th:only-of-type {\n",
       "        vertical-align: middle;\n",
       "    }\n",
       "\n",
       "    .dataframe tbody tr th {\n",
       "        vertical-align: top;\n",
       "    }\n",
       "\n",
       "    .dataframe thead th {\n",
       "        text-align: right;\n",
       "    }\n",
       "</style>\n",
       "<table border=\"1\" class=\"dataframe\">\n",
       "  <thead>\n",
       "    <tr style=\"text-align: right;\">\n",
       "      <th></th>\n",
       "      <th>fake_name</th>\n",
       "    </tr>\n",
       "  </thead>\n",
       "  <tbody>\n",
       "    <tr>\n",
       "      <th>0</th>\n",
       "      <td>(CONFIDENTIAL)</td>\n",
       "    </tr>\n",
       "    <tr>\n",
       "      <th>1</th>\n",
       "      <td>(NO MIDDLE NAME)</td>\n",
       "    </tr>\n",
       "    <tr>\n",
       "      <th>2</th>\n",
       "      <td>A RELUCTANT</td>\n",
       "    </tr>\n",
       "    <tr>\n",
       "      <th>3</th>\n",
       "      <td>ADULT</td>\n",
       "    </tr>\n",
       "    <tr>\n",
       "      <th>4</th>\n",
       "      <td>ADULT F</td>\n",
       "    </tr>\n",
       "    <tr>\n",
       "      <th>...</th>\n",
       "      <td>...</td>\n",
       "    </tr>\n",
       "    <tr>\n",
       "      <th>766</th>\n",
       "      <td>YOUNGEST DAUG</td>\n",
       "    </tr>\n",
       "    <tr>\n",
       "      <th>767</th>\n",
       "      <td>YOUNGEST GIRL</td>\n",
       "    </tr>\n",
       "    <tr>\n",
       "      <th>768</th>\n",
       "      <td>YR BOY</td>\n",
       "    </tr>\n",
       "    <tr>\n",
       "      <th>769</th>\n",
       "      <td>YR GIRL</td>\n",
       "    </tr>\n",
       "    <tr>\n",
       "      <th>770</th>\n",
       "      <td>YR OLD</td>\n",
       "    </tr>\n",
       "  </tbody>\n",
       "</table>\n",
       "<p>768 rows × 1 columns</p>\n",
       "</div>"
      ],
      "text/plain": [
       "            fake_name\n",
       "0      (CONFIDENTIAL)\n",
       "1    (NO MIDDLE NAME)\n",
       "2         A RELUCTANT\n",
       "3               ADULT\n",
       "4             ADULT F\n",
       "..                ...\n",
       "766     YOUNGEST DAUG\n",
       "767     YOUNGEST GIRL\n",
       "768            YR BOY\n",
       "769           YR GIRL\n",
       "770            YR OLD\n",
       "\n",
       "[768 rows x 1 columns]"
      ]
     },
     "execution_count": 20,
     "metadata": {},
     "output_type": "execute_result"
    }
   ],
   "source": [
    "# This list of fake names comes from the NORC report, p. 100-101\n",
    "# It is what was used in PVS as of 2011\n",
    "fake_names = pd.read_csv('fake-names.txt', header=None).rename(columns={0: 'fake_name'})\n",
    "fake_names = df_ops.persist(\n",
    "    fake_names\n",
    "        .assign(fake_name=fake_names.fake_name.str.strip().str.upper())\n",
    "        .dropna(subset='fake_name')\n",
    "        .pipe(df_ops.drop_duplicates)\n",
    "        .pipe(df_ops.ensure_large_string_capacity)\n",
    ")\n",
    "\n",
    "assert df_ops.compute((fake_names.fake_name == fake_names.fake_name.str.upper()).all())\n",
    "fake_names"
   ]
  },
  {
   "cell_type": "code",
   "execution_count": 21,
   "id": "f234ee61-5d2a-490e-97ad-eff72df732ad",
   "metadata": {
    "execution": {
     "iopub.execute_input": "2024-02-12T19:21:01.267199Z",
     "iopub.status.busy": "2024-02-12T19:21:01.266769Z",
     "iopub.status.idle": "2024-02-12T19:21:01.334305Z",
     "shell.execute_reply": "2024-02-12T19:21:01.333384Z"
    },
    "papermill": {
     "duration": 0.09753,
     "end_time": "2024-02-12T19:21:01.336298",
     "exception": false,
     "start_time": "2024-02-12T19:21:01.238768",
     "status": "completed"
    },
    "tags": []
   },
   "outputs": [
    {
     "name": "stdout",
     "output_type": "stream",
     "text": [
      "Found 60 fake names in first_name\n",
      "Found 57 fake names in last_name\n"
     ]
    }
   ],
   "source": [
    "for col in [\"first_name\", \"last_name\"]:\n",
    "    census_2030 = census_2030.assign(**{f'{col}_upper': census_2030[col].str.upper()}).merge(fake_names, left_on=f'{col}_upper', right_on='fake_name', how='left')\n",
    "    has_fake_name = df_ops.persist(census_2030.fake_name.notnull())\n",
    "    print(f'Found {df_ops.compute(has_fake_name.sum()):,.0f} fake names in {col}')\n",
    "    census_2030 = df_ops.concat([\n",
    "        census_2030[~has_fake_name].drop(columns=['fake_name', f'{col}_upper']),\n",
    "        # NOTE: For reasons I don't really understand, assigning pandas.NA reverts it to a normal string instead of a large_string\n",
    "        census_2030[has_fake_name].assign(**{col: pandas.NA}).drop(columns=['fake_name', f'{col}_upper']).pipe(df_ops.ensure_large_string_capacity),\n",
    "    ], ignore_index=True)"
   ]
  },
  {
   "cell_type": "markdown",
   "id": "26659727-027b-4daf-8921-1fdb4b5e4d54",
   "metadata": {
    "papermill": {
     "duration": 0.027819,
     "end_time": "2024-02-12T19:21:01.392425",
     "exception": false,
     "start_time": "2024-02-12T19:21:01.364606",
     "status": "completed"
    },
    "tags": []
   },
   "source": [
    "## Address parsing and standardizing\n",
    "\n",
    "Wagner and Layne, p. 11:\n",
    "\n",
    "> The PVS editing process also incorporates an address parser and standardizer,\n",
    "written in the C language and called as a function within SAS (U.S. Census Bureau\n",
    "Geography Division, 1995). It performs parsing of address strings into individual output\n",
    "fields (see Figure 2), and standardizes the spelling of key components of the address\n",
    "such as street type. The PVS also incorporates use of a commercial product to update\n",
    "zip codes, and correct misspellings of address elements.\n",
    "\n",
    "As noted in the data generation notebook, for now we haven't combined the address parts\n",
    "into a single string that would need to be parsed.\n",
    "We plan to add this in a future version of pseudopeople.\n",
    "\n",
    "For now, we do some simple standardization in each of the address parts (street number,\n",
    "street name, etc)."
   ]
  },
  {
   "cell_type": "code",
   "execution_count": 22,
   "id": "9435bc12-0002-44bc-91e3-26083d95c498",
   "metadata": {
    "execution": {
     "iopub.execute_input": "2024-02-12T19:21:01.450909Z",
     "iopub.status.busy": "2024-02-12T19:21:01.450377Z",
     "iopub.status.idle": "2024-02-12T19:21:01.614712Z",
     "shell.execute_reply": "2024-02-12T19:21:01.613682Z"
    },
    "papermill": {
     "duration": 0.195872,
     "end_time": "2024-02-12T19:21:01.616600",
     "exception": false,
     "start_time": "2024-02-12T19:21:01.420728",
     "status": "completed"
    },
    "tags": []
   },
   "outputs": [],
   "source": [
    "def standardize_address_part(column):\n",
    "    return (\n",
    "        column\n",
    "            # Remove leading or trailing whitespace\n",
    "            .str.strip()\n",
    "            # Turn any strings of consecutive whitespace into a single space\n",
    "            .str.replace('\\s+', ' ', regex=True)\n",
    "            # Normalize case\n",
    "            .str.upper()\n",
    "            # Normalize the word street as described in the example quoted above\n",
    "            # In reality, there would be many rules like this\n",
    "            .str.replace('\\b(STREET|STR)\\b', 'ST', regex=True)\n",
    "            # Make sure missingness is represented consistently\n",
    "            .replace('', pandas.NA)\n",
    "    )\n",
    "\n",
    "address_cols = ['street_number', 'street_name', 'unit_number', 'city', 'state', 'zipcode']\n",
    "for address_col in address_cols:\n",
    "    census_2030 = census_2030.assign(**{address_col: census_2030[address_col].pipe(standardize_address_part)})\n",
    "\n",
    "census_2030 = df_ops.ensure_large_string_capacity(census_2030)"
   ]
  },
  {
   "cell_type": "markdown",
   "id": "95b55b52-c3ad-41da-9351-05ef56927dbf",
   "metadata": {
    "papermill": {
     "duration": 0.027938,
     "end_time": "2024-02-12T19:21:01.672661",
     "exception": false,
     "start_time": "2024-02-12T19:21:01.644723",
     "status": "completed"
    },
    "tags": []
   },
   "source": [
    "## MAFMatch\n",
    "\n",
    "**General information about MAFMatch**\n",
    "\n",
    "Wagner and Layne, p. 11:\n",
    "\n",
    "> The PVS provides an additional address enhancement by matching records in the\n",
    "incoming file to Census Bureau’s Master Address File (MAF) in order to assign a unique\n",
    "address identifier, the MAF Identifier (MAFID), and other Census geographical codes\n",
    "(e.g., Census tract and block). The MAFID is used in the PVS for search purposes and as a\n",
    "linkage key for administrative files. Then, addresses are matched to the Census Bureau’s\n",
    "Topologically Integrated Geographic Encoding and Referencing Database (TIGER) to\n",
    "obtain Census geographical codes.\n",
    "\n",
    "My understanding is that this step is useful for two reasons:\n",
    "- Potentially adds an alternate version/way of formatting the same address\n",
    "  (the way it is in the MAF, instead of the way it is in the input file).\n",
    "  However, instead of using this alternate to match directly, it is boiled down\n",
    "  to a MAFID, so it is only useful when an input file address and a reference file\n",
    "  address (different to one another) both match to the same MAF address.\n",
    "  (Presumably, the whole MAFMatch process described here needs to run on the reference files?)\n",
    "- Adds Census geographies which could be used in blocking (but are they?)\n",
    "\n",
    "I don't understand the TIGER part of this.\n",
    "In particular, p. 12 describes a probabilistic/fuzzy match to TIGER, but I thought TIGER\n",
    "would contain exactly the same addresses as the MAF.\n",
    "I also don't understand what geocodes would be present in TIGER that wouldn't also be\n",
    "present in the MAF.\n",
    "Maybe these things are more out-of-sync with each other than I understood.\n",
    "\n",
    "**MAFMatch in this case study**\n",
    "\n",
    "In the decennial Census, the sampling frame is a subset of the MAF (Brown et al., p. 15, footnote 4).\n",
    "That is, in the CUF, the address field (which is not supplied by the respondent)\n",
    "would be the MAF address the questionnaire/NRFU was sent to.\n",
    "\n",
    "Therefore, I don't believe it makes sense to do MAFMatch for the CUF, because all the addresses\n",
    "are already the same.\n",
    "I haven't fully confirmed this, but p. 14 of Wagner and Layne says\n",
    "\n",
    "> The 2010 Census Unedited File (CUF), had 350 million records and processed through every PVS\n",
    "module, excluding MAF match and SSN verification\n",
    "\n",
    "which suggests that (like SSN verification) MAFMatch is not applicable to the CUF.\n",
    "\n",
    "Given this, we skip MAFMatch here.\n",
    "Also, if we wanted to add it, we would need to generate something like a MAF from pseudopeople."
   ]
  },
  {
   "cell_type": "markdown",
   "id": "2e7ec2c6-a028-4f36-a041-63627fb60fd6",
   "metadata": {
    "papermill": {
     "duration": 0.029514,
     "end_time": "2024-02-12T19:21:01.730129",
     "exception": false,
     "start_time": "2024-02-12T19:21:01.700615",
     "status": "completed"
    },
    "tags": []
   },
   "source": [
    "## Drop records with insufficient information\n",
    "\n",
    "In 2011 (NORC, p. 25):\n",
    "\n",
    "> The initial edit process, described in the Introduction: PVS Background section, removes from consideration\n",
    "incoming records that have no name data. Therefore, no record that is processed in PVS has blank first and last\n",
    "names.\n",
    "\n",
    "In 2014 it appears to be the same/similar, because in Table 2 of Wagner and Layne there is a row \"NO SEARCH: Blank Name\" (p. 18).\n",
    "\n",
    "In 2023 (Brown et al., p. 28):\n",
    "\n",
    "> Records containing sufficient PII to be linkable with some confidence, for example those\n",
    "containing name and age, are sent through the linkage process.<sup>15</sup>\n",
    "\n",
    "> <sup>15</sup> Records with names on the PVS invalid name list (e.g., “Mickey Mouse,” “householder,” or “son”) are excluded\n",
    "from PVS search.\n",
    "\n",
    "I'd prefer to use the 2023 information, but it is too vague:\n",
    "\"for example\" means this is just an approximation, and it doesn't specify\n",
    "parts of \"name.\"\n",
    "The footnote also seems to contradict earlier reports, which said fake names were simply\n",
    "blanked out, which seems preferable.\n",
    "Since the fake name step comes before this one, a fake first **and** last name would lead\n",
    "to exclusion here, which is perhaps what the footnote was intending?\n",
    "\n",
    "Here, we follow the blank-name approach."
   ]
  },
  {
   "cell_type": "code",
   "execution_count": 23,
   "id": "277c1379-c46b-4a0f-8011-596efae84778",
   "metadata": {
    "execution": {
     "iopub.execute_input": "2024-02-12T19:21:01.802555Z",
     "iopub.status.busy": "2024-02-12T19:21:01.801682Z",
     "iopub.status.idle": "2024-02-12T19:21:01.814189Z",
     "shell.execute_reply": "2024-02-12T19:21:01.813475Z"
    },
    "papermill": {
     "duration": 0.04343,
     "end_time": "2024-02-12T19:21:01.816107",
     "exception": false,
     "start_time": "2024-02-12T19:21:01.772677",
     "status": "completed"
    },
    "tags": []
   },
   "outputs": [],
   "source": [
    "census_2030 = census_2030[\n",
    "    census_2030.first_name.notnull() |\n",
    "    census_2030.last_name.notnull()\n",
    "]"
   ]
  },
  {
   "cell_type": "markdown",
   "id": "e51a91f7-e733-4a3d-bd56-7e23b0c8d138",
   "metadata": {
    "papermill": {
     "duration": 0.027745,
     "end_time": "2024-02-12T19:21:01.872767",
     "exception": false,
     "start_time": "2024-02-12T19:21:01.845022",
     "status": "completed"
    },
    "tags": []
   },
   "source": [
    "# Create derived variables for use in linkage\n",
    "\n",
    "Here we create variables to be used as matching variables and blocking keys,\n",
    "when those matching variables/blocking keys are defined in a way that is not already\n",
    "present in the data at this point.\n",
    "\n",
    "The variables needed here depend on the modules and passes described below -- see those\n",
    "sections for more citations."
   ]
  },
  {
   "cell_type": "code",
   "execution_count": 24,
   "id": "edb97b21-8ca1-4ad3-bae1-dbf7dc0bee00",
   "metadata": {
    "execution": {
     "iopub.execute_input": "2024-02-12T19:21:01.930277Z",
     "iopub.status.busy": "2024-02-12T19:21:01.929757Z",
     "iopub.status.idle": "2024-02-12T19:21:01.942961Z",
     "shell.execute_reply": "2024-02-12T19:21:01.942173Z"
    },
    "papermill": {
     "duration": 0.043873,
     "end_time": "2024-02-12T19:21:01.944842",
     "exception": false,
     "start_time": "2024-02-12T19:21:01.900969",
     "status": "completed"
    },
    "tags": []
   },
   "outputs": [],
   "source": [
    "# We want to compare mailing address with physical address\n",
    "geobase_reference_file = geobase_reference_file.rename(columns=lambda c: c.replace('mailing_address_', ''))"
   ]
  },
  {
   "cell_type": "code",
   "execution_count": 25,
   "id": "c61c2257-a840-498a-9aa5-0788f9763634",
   "metadata": {
    "execution": {
     "iopub.execute_input": "2024-02-12T19:21:02.001794Z",
     "iopub.status.busy": "2024-02-12T19:21:02.001502Z",
     "iopub.status.idle": "2024-02-12T19:21:02.117705Z",
     "shell.execute_reply": "2024-02-12T19:21:02.116666Z"
    },
    "papermill": {
     "duration": 0.147154,
     "end_time": "2024-02-12T19:21:02.119852",
     "exception": false,
     "start_time": "2024-02-12T19:21:01.972698",
     "status": "completed"
    },
    "tags": []
   },
   "outputs": [],
   "source": [
    "# PVS uses DOB as separate fields for day, month, and year\n",
    "def split_dob(df, date_format='%Y%m%d'):\n",
    "    # Have to be floats because we want to treat as numeric for assessing similarity\n",
    "    # Note that as of now, none of our pseudopeople noise types would change the punctuation (\"/\") in the date, but\n",
    "    # they can insert non-numeric characters here or otherwise create invalid dates, in which case we fail to parse the date\n",
    "    # and treat it as missing.\n",
    "    dob = pd.to_datetime(df.date_of_birth, format=date_format, errors='coerce')\n",
    "    df = df.assign(\n",
    "        month_of_birth=dob.dt.month,\n",
    "        year_of_birth=dob.dt.year,\n",
    "        day_of_birth=dob.dt.day,\n",
    "    )\n",
    "    df = df.assign(\n",
    "        month_of_birth=df.month_of_birth.fillna(pandas.NA),\n",
    "        year_of_birth=df.year_of_birth.fillna(pandas.NA),\n",
    "        day_of_birth=df.day_of_birth.fillna(pandas.NA),\n",
    "    )\n",
    "    return df.drop(columns=['date_of_birth'])\n",
    "\n",
    "census_2030 = split_dob(census_2030, date_format='%m/%d/%Y')\n",
    "geobase_reference_file = split_dob(geobase_reference_file)\n",
    "name_dob_reference_file = split_dob(name_dob_reference_file)"
   ]
  },
  {
   "cell_type": "code",
   "execution_count": 26,
   "id": "55126ed5-94e3-4713-badd-9861f5c6ab68",
   "metadata": {
    "execution": {
     "iopub.execute_input": "2024-02-12T19:21:02.178611Z",
     "iopub.status.busy": "2024-02-12T19:21:02.178049Z",
     "iopub.status.idle": "2024-02-12T19:21:02.262382Z",
     "shell.execute_reply": "2024-02-12T19:21:02.261409Z"
    },
    "papermill": {
     "duration": 0.115743,
     "end_time": "2024-02-12T19:21:02.264454",
     "exception": false,
     "start_time": "2024-02-12T19:21:02.148711",
     "status": "completed"
    },
    "tags": []
   },
   "outputs": [],
   "source": [
    "# I don't fully understand the purpose of blocking on the geokey,\n",
    "# as opposed to just blocking on its constituent columns.\n",
    "# Maybe it is a way of dealing with missingness in those constituent\n",
    "# columns (e.g. so an address with no unit number can still be blocked on geokey)?\n",
    "def add_geokey(df):\n",
    "    return (\n",
    "        df.assign(\n",
    "            geokey=distributed_compute.add_strings(\n",
    "                compute_engine,\n",
    "                [\n",
    "                    df.street_number, ' ',\n",
    "                    df.street_name, ' ',\n",
    "                    df.unit_number, ' ',\n",
    "                    df.city, ' ',\n",
    "                    df.state, ' ',\n",
    "                    df.zipcode,\n",
    "                ]\n",
    "                # Normalize the whitespace\n",
    "            ).str.replace('\\s+', ' ', regex=True).str.strip().replace('', pandas.NA)\n",
    "        )\n",
    "        .pipe(df_ops.ensure_large_string_capacity)\n",
    "    )\n",
    "\n",
    "geobase_reference_file = add_geokey(geobase_reference_file)\n",
    "census_2030 = df_ops.persist(add_geokey(census_2030))"
   ]
  },
  {
   "cell_type": "code",
   "execution_count": 27,
   "id": "6d51e08a-8e28-4c0f-9a62-d6207a560f46",
   "metadata": {
    "execution": {
     "iopub.execute_input": "2024-02-12T19:21:02.321767Z",
     "iopub.status.busy": "2024-02-12T19:21:02.321318Z",
     "iopub.status.idle": "2024-02-12T19:21:02.355322Z",
     "shell.execute_reply": "2024-02-12T19:21:02.354428Z"
    },
    "papermill": {
     "duration": 0.065654,
     "end_time": "2024-02-12T19:21:02.357273",
     "exception": false,
     "start_time": "2024-02-12T19:21:02.291619",
     "status": "completed"
    },
    "tags": []
   },
   "outputs": [
    {
     "name": "stdout",
     "output_type": "stream",
     "text": [
      "0 probable GQ geokeys\n"
     ]
    }
   ],
   "source": [
    "# HACK: Remove address information from GQ, so it isn't used for blocking\n",
    "# nor for HHCompSearch.\n",
    "# Currently we have massive GQ \"households.\"\n",
    "# NOTE: This will miss people who are actually in GQ who have had their address noised,\n",
    "# but that doesn't create huge \"households\" anyway so it's not a big deal\n",
    "# NOTE: We can't just throw out any household where anyone has a GQ housing_type\n",
    "# since the housing_type column itself can be noised. We set a threshold (data size dependent)\n",
    "# of how many people in a household need to have a GQ housing_type.\n",
    "unlikely_due_to_noise_threshold = 250 if data_to_use == 'usa' else 2\n",
    "probable_gq_geokeys = df_ops.persist(\n",
    "    census_2030[census_2030.housing_type.notnull()].assign(reported_gq=lambda df: df.housing_type != 'Household')\n",
    "        .pipe(df_ops.groupby_agg_small_groups, by=\"geokey\", agg_func=lambda x: x.reported_gq.agg([\"sum\", \"mean\"]))\n",
    "        .pipe(lambda df: df[(df['sum'] >= unlikely_due_to_noise_threshold) & (df['mean'] >= 0.70)])\n",
    "        .reset_index()\n",
    "        .assign(is_gq_geokey=True)\n",
    ")\n",
    "\n",
    "if data_to_use in ('usa', 'ri'):\n",
    "    num_shards = 334\n",
    "    num_gq_types = 6\n",
    "    if data_to_use == 'usa':\n",
    "        # Should be exact\n",
    "        assert num_shards * num_gq_types == len(probable_gq_geokeys)\n",
    "    else:\n",
    "        # Should be close\n",
    "        print(f'{len(probable_gq_geokeys):,.0f} probable GQ geokeys')\n",
    "        assert (num_shards * num_gq_types * 0.75) <= len(probable_gq_geokeys) <= (num_shards * num_gq_types * 1.25)\n",
    "else:\n",
    "    print(f'{len(probable_gq_geokeys):,.0f} probable GQ geokeys')"
   ]
  },
  {
   "cell_type": "code",
   "execution_count": 28,
   "id": "a3f92cd7-9a57-4ea1-a97a-c091ea335a00",
   "metadata": {
    "execution": {
     "iopub.execute_input": "2024-02-12T19:21:02.416002Z",
     "iopub.status.busy": "2024-02-12T19:21:02.415468Z",
     "iopub.status.idle": "2024-02-12T19:21:02.453142Z",
     "shell.execute_reply": "2024-02-12T19:21:02.452452Z"
    },
    "papermill": {
     "duration": 0.069119,
     "end_time": "2024-02-12T19:21:02.455012",
     "exception": false,
     "start_time": "2024-02-12T19:21:02.385893",
     "status": "completed"
    },
    "tags": []
   },
   "outputs": [],
   "source": [
    "census_2030 = census_2030.merge(probable_gq_geokeys[['geokey', 'is_gq_geokey']], on=\"geokey\", how=\"left\").assign(is_gq_geokey=lambda df: df.is_gq_geokey.fillna(False))\n",
    "\n",
    "census_2030 = df_ops.ensure_large_string_capacity(df_ops.concat([\n",
    "    census_2030[~census_2030.is_gq_geokey].assign(\n",
    "        geokey_for_blocking=lambda df: df.geokey,\n",
    "        street_number_for_blocking=lambda df: df.street_number,\n",
    "        street_name_for_blocking=lambda df: df.street_name,\n",
    "    ).drop(columns=[\"is_gq_geokey\"]),\n",
    "    census_2030[census_2030.is_gq_geokey].assign(\n",
    "        geokey_for_blocking=pandas.NA,\n",
    "        street_number_for_blocking=pandas.NA,\n",
    "        street_name_for_blocking=pandas.NA,\n",
    "    ).drop(columns=[\"is_gq_geokey\"]),\n",
    "], ignore_index=True))"
   ]
  },
  {
   "cell_type": "code",
   "execution_count": 29,
   "id": "d10958fd-adad-4bb2-b4c2-641f6ad242e5",
   "metadata": {
    "execution": {
     "iopub.execute_input": "2024-02-12T19:21:02.512029Z",
     "iopub.status.busy": "2024-02-12T19:21:02.511598Z",
     "iopub.status.idle": "2024-02-12T19:21:02.586386Z",
     "shell.execute_reply": "2024-02-12T19:21:02.585650Z"
    },
    "papermill": {
     "duration": 0.105777,
     "end_time": "2024-02-12T19:21:02.588443",
     "exception": false,
     "start_time": "2024-02-12T19:21:02.482666",
     "status": "completed"
    },
    "tags": []
   },
   "outputs": [],
   "source": [
    "geobase_reference_file = geobase_reference_file.merge(probable_gq_geokeys[['geokey', 'is_gq_geokey']], on=\"geokey\", how=\"left\").assign(is_gq_geokey=lambda df: df.is_gq_geokey.fillna(False))\n",
    "\n",
    "geobase_reference_file = df_ops.ensure_large_string_capacity(df_ops.concat([\n",
    "    geobase_reference_file[~geobase_reference_file.is_gq_geokey].assign(\n",
    "        geokey_for_blocking=lambda df: df.geokey,\n",
    "        street_number_for_blocking=lambda df: df.street_number,\n",
    "        street_name_for_blocking=lambda df: df.street_name,\n",
    "    ).drop(columns=[\"is_gq_geokey\"]),\n",
    "    geobase_reference_file[geobase_reference_file.is_gq_geokey].assign(\n",
    "        geokey_for_blocking=pandas.NA,\n",
    "        street_number_for_blocking=pandas.NA,\n",
    "        street_name_for_blocking=pandas.NA,\n",
    "    ).drop(columns=[\"is_gq_geokey\"]),\n",
    "], ignore_index=True))"
   ]
  },
  {
   "cell_type": "code",
   "execution_count": 30,
   "id": "2a686489-f265-4647-ad1d-7b6b93f8578e",
   "metadata": {
    "execution": {
     "iopub.execute_input": "2024-02-12T19:21:02.649680Z",
     "iopub.status.busy": "2024-02-12T19:21:02.649124Z",
     "iopub.status.idle": "2024-02-12T19:21:02.655193Z",
     "shell.execute_reply": "2024-02-12T19:21:02.654211Z"
    },
    "papermill": {
     "duration": 0.038809,
     "end_time": "2024-02-12T19:21:02.657066",
     "exception": false,
     "start_time": "2024-02-12T19:21:02.618257",
     "status": "completed"
    },
    "tags": []
   },
   "outputs": [],
   "source": [
    "%xdel probable_gq_geokeys"
   ]
  },
  {
   "cell_type": "code",
   "execution_count": 31,
   "id": "6894cbdd-fef2-417d-a69f-3e15433c1c72",
   "metadata": {
    "execution": {
     "iopub.execute_input": "2024-02-12T19:21:02.714406Z",
     "iopub.status.busy": "2024-02-12T19:21:02.713974Z",
     "iopub.status.idle": "2024-02-12T19:21:03.078217Z",
     "shell.execute_reply": "2024-02-12T19:21:03.076803Z"
    },
    "papermill": {
     "duration": 0.395574,
     "end_time": "2024-02-12T19:21:03.080619",
     "exception": false,
     "start_time": "2024-02-12T19:21:02.685045",
     "status": "completed"
    },
    "tags": []
   },
   "outputs": [],
   "source": [
    "# Layne, Wagner, and Rothhaas p. 26: the name matching variables are\n",
    "# First 15 characters First Name, First 15 characters Middle Name, First 12 characters Last Name\n",
    "# Additionally, there are blocking columns for all of 1-3 initial characters of First/Last.\n",
    "# We don't have a full middle name in pseudopeople (nor would that be present in a real CUF)\n",
    "# so we have to stick to the first initial for middle.\n",
    "def add_truncated_name_cols(df):\n",
    "    df = df.assign(\n",
    "        first_name_15=df.first_name.str[:15],\n",
    "        last_name_12=df.last_name.str[:12]\n",
    "    )\n",
    "\n",
    "    if 'middle_name' in df.columns and 'middle_initial' not in df.columns:\n",
    "        df = df.assign(middle_initial=df.middle_name.str[:1])\n",
    "\n",
    "    for num_chars in [1, 2, 3]:\n",
    "        df = df.assign(**{\n",
    "            f'first_name_{num_chars}': df.first_name.str[:num_chars],\n",
    "            f'last_name_{num_chars}': df.last_name.str[:num_chars],\n",
    "        })\n",
    "\n",
    "    return df\n",
    "\n",
    "census_2030 = add_truncated_name_cols(census_2030)\n",
    "geobase_reference_file = add_truncated_name_cols(geobase_reference_file)\n",
    "name_dob_reference_file = add_truncated_name_cols(name_dob_reference_file)"
   ]
  },
  {
   "cell_type": "code",
   "execution_count": 32,
   "id": "c29dcc81-9056-459b-80f6-fd32125913bc",
   "metadata": {
    "execution": {
     "iopub.execute_input": "2024-02-12T19:21:03.140661Z",
     "iopub.status.busy": "2024-02-12T19:21:03.140031Z",
     "iopub.status.idle": "2024-02-12T19:21:03.669815Z",
     "shell.execute_reply": "2024-02-12T19:21:03.669012Z"
    },
    "papermill": {
     "duration": 0.562196,
     "end_time": "2024-02-12T19:21:03.672233",
     "exception": false,
     "start_time": "2024-02-12T19:21:03.110037",
     "status": "completed"
    },
    "tags": []
   },
   "outputs": [],
   "source": [
    "# Layne, Wagner, and Rothhaas p. 26: phonetics are used in blocking (not matching)\n",
    "# - Soundex for Street Name\n",
    "# - NYSIIS code for First Name\n",
    "# - NYSIIS code for Last Name\n",
    "# - Reverse Soundex for First Name\n",
    "# - Reverse Soundex for Last Name\n",
    "\n",
    "def nysiis(input_string):\n",
    "    if pandas.isna(input_string):\n",
    "        return pandas.NA\n",
    "    result = jellyfish.nysiis(input_string)\n",
    "    if pandas.isna(result):\n",
    "        return pandas.NA\n",
    "\n",
    "    return result\n",
    "\n",
    "def soundex(input_string):\n",
    "    if pandas.isna(input_string):\n",
    "        return pandas.NA\n",
    "    result = jellyfish.soundex(input_string)\n",
    "    if pandas.isna(result):\n",
    "        return pandas.NA\n",
    "\n",
    "    return result\n",
    "\n",
    "def reverse_soundex(input_string):\n",
    "    if pandas.isna(input_string):\n",
    "        return pandas.NA\n",
    "\n",
    "    return soundex(input_string[::-1])\n",
    "\n",
    "def add_name_phonetics(df):\n",
    "    for col in ['first_name', 'last_name']:\n",
    "        kwargs = {}\n",
    "        if compute_engine == 'dask':\n",
    "            kwargs['meta'] = (col, 'object')\n",
    "        df = df.assign(**{f'{col}_nysiis': df[col].apply(nysiis, **kwargs)})\n",
    "        df = df.assign(**{f'{col}_reverse_soundex': df[col].apply(reverse_soundex, **kwargs)})\n",
    "\n",
    "    return df_ops.ensure_large_string_capacity(df)\n",
    "\n",
    "def add_address_phonetics(df):\n",
    "    kwargs = {}\n",
    "    if compute_engine == 'dask':\n",
    "        kwargs['meta'] = (col, 'object')\n",
    "    df = df.assign(street_name_for_blocking_soundex=df.street_name_for_blocking.apply(soundex, **kwargs))\n",
    "    return df_ops.ensure_large_string_capacity(df)\n",
    "\n",
    "census_2030 = add_name_phonetics(census_2030)\n",
    "census_2030 = add_address_phonetics(census_2030)\n",
    "\n",
    "geobase_reference_file = add_address_phonetics(geobase_reference_file)\n",
    "\n",
    "name_dob_reference_file = add_name_phonetics(name_dob_reference_file)"
   ]
  },
  {
   "cell_type": "code",
   "execution_count": 33,
   "id": "f1fe537d-10f4-4bf4-97e9-ee64fe5fcb8c",
   "metadata": {
    "execution": {
     "iopub.execute_input": "2024-02-12T19:21:03.731809Z",
     "iopub.status.busy": "2024-02-12T19:21:03.731461Z",
     "iopub.status.idle": "2024-02-12T19:21:03.739422Z",
     "shell.execute_reply": "2024-02-12T19:21:03.738357Z"
    },
    "papermill": {
     "duration": 0.040077,
     "end_time": "2024-02-12T19:21:03.741313",
     "exception": false,
     "start_time": "2024-02-12T19:21:03.701236",
     "status": "completed"
    },
    "tags": []
   },
   "outputs": [],
   "source": [
    "# Columns used to \"cut the database\": ZIP3 and a grouping of first and last initial\n",
    "def add_zip3(df):\n",
    "    return df.assign(zip3=lambda x: x.zipcode.str[:3])\n",
    "\n",
    "def add_first_last_initial_categories(df):\n",
    "    # Page 20 of the NORC report: \"Name-cuts are defined by combinations of the first characters of the first and last names. The twenty letter groupings\n",
    "    # for the first character are: A-or-blank, B, C, D, E, F, G, H, I, J, K, L, M, N, O, P, Q, R, S, T, and U-Z.\"\n",
    "    initial_cut = lambda x: x.fillna('A').str[0].replace('A', 'A-or-blank').replace(['U', 'V', 'W', 'X', 'Y', 'Z'], 'U-Z')\n",
    "    return df.assign(first_initial_cut=initial_cut(df.first_name), last_initial_cut=initial_cut(df.last_name))"
   ]
  },
  {
   "cell_type": "code",
   "execution_count": 34,
   "id": "d5e00367-d022-4ab2-942b-87a2b1abdfc8",
   "metadata": {
    "execution": {
     "iopub.execute_input": "2024-02-12T19:21:03.800167Z",
     "iopub.status.busy": "2024-02-12T19:21:03.799621Z",
     "iopub.status.idle": "2024-02-12T19:21:03.946235Z",
     "shell.execute_reply": "2024-02-12T19:21:03.945442Z"
    },
    "papermill": {
     "duration": 0.179188,
     "end_time": "2024-02-12T19:21:03.948536",
     "exception": false,
     "start_time": "2024-02-12T19:21:03.769348",
     "status": "completed"
    },
    "tags": []
   },
   "outputs": [],
   "source": [
    "census_2030 = add_zip3(census_2030)\n",
    "census_2030 = add_first_last_initial_categories(census_2030)\n",
    "\n",
    "geobase_reference_file = add_zip3(geobase_reference_file)\n",
    "\n",
    "name_dob_reference_file = add_first_last_initial_categories(name_dob_reference_file)"
   ]
  },
  {
   "cell_type": "code",
   "execution_count": null,
   "id": "0596bc8d-8f36-41bd-a6e2-a3f55c9ba66b",
   "metadata": {
    "papermill": {
     "duration": 0.028197,
     "end_time": "2024-02-12T19:21:04.005908",
     "exception": false,
     "start_time": "2024-02-12T19:21:03.977711",
     "status": "completed"
    },
    "tags": []
   },
   "outputs": [],
   "source": []
  },
  {
   "cell_type": "code",
   "execution_count": 35,
   "id": "e30f2911-72ad-4749-b4aa-18918335e0d0",
   "metadata": {
    "execution": {
     "iopub.execute_input": "2024-02-12T19:21:04.065722Z",
     "iopub.status.busy": "2024-02-12T19:21:04.064839Z",
     "iopub.status.idle": "2024-02-12T19:21:04.070417Z",
     "shell.execute_reply": "2024-02-12T19:21:04.069340Z"
    },
    "papermill": {
     "duration": 0.037762,
     "end_time": "2024-02-12T19:21:04.072342",
     "exception": false,
     "start_time": "2024-02-12T19:21:04.034580",
     "status": "completed"
    },
    "tags": []
   },
   "outputs": [],
   "source": [
    "census_2030, geobase_reference_file, name_dob_reference_file = df_ops.persist(census_2030, geobase_reference_file, name_dob_reference_file)"
   ]
  },
  {
   "cell_type": "markdown",
   "id": "5e413173-dde2-4bdb-a2cf-f0c5ef38e9a5",
   "metadata": {
    "papermill": {
     "duration": 0.028901,
     "end_time": "2024-02-12T19:21:04.130121",
     "exception": false,
     "start_time": "2024-02-12T19:21:04.101220",
     "status": "completed"
    },
    "tags": []
   },
   "source": [
    "# Data, ready to link"
   ]
  },
  {
   "cell_type": "code",
   "execution_count": 36,
   "id": "b6014eaa-3548-4d23-b7b9-f8e9f0f477f8",
   "metadata": {
    "execution": {
     "iopub.execute_input": "2024-02-12T19:21:04.188696Z",
     "iopub.status.busy": "2024-02-12T19:21:04.188155Z",
     "iopub.status.idle": "2024-02-12T19:21:04.193696Z",
     "shell.execute_reply": "2024-02-12T19:21:04.192671Z"
    },
    "papermill": {
     "duration": 0.037413,
     "end_time": "2024-02-12T19:21:04.195838",
     "exception": false,
     "start_time": "2024-02-12T19:21:04.158425",
     "status": "completed"
    },
    "tags": []
   },
   "outputs": [
    {
     "name": "stdout",
     "output_type": "stream",
     "text": [
      "11,030\n"
     ]
    }
   ],
   "source": [
    "print(f'{len(census_2030):,.0f}')"
   ]
  },
  {
   "cell_type": "code",
   "execution_count": 37,
   "id": "4306cf4f-d636-4d0c-9b07-7b73627982d3",
   "metadata": {
    "execution": {
     "iopub.execute_input": "2024-02-12T19:21:04.255383Z",
     "iopub.status.busy": "2024-02-12T19:21:04.254843Z",
     "iopub.status.idle": "2024-02-12T19:21:04.279213Z",
     "shell.execute_reply": "2024-02-12T19:21:04.278235Z"
    },
    "papermill": {
     "duration": 0.056166,
     "end_time": "2024-02-12T19:21:04.281159",
     "exception": false,
     "start_time": "2024-02-12T19:21:04.224993",
     "status": "completed"
    },
    "tags": []
   },
   "outputs": [
    {
     "data": {
      "text/html": [
       "<div>\n",
       "<style scoped>\n",
       "    .dataframe tbody tr th:only-of-type {\n",
       "        vertical-align: middle;\n",
       "    }\n",
       "\n",
       "    .dataframe tbody tr th {\n",
       "        vertical-align: top;\n",
       "    }\n",
       "\n",
       "    .dataframe thead th {\n",
       "        text-align: right;\n",
       "    }\n",
       "</style>\n",
       "<table border=\"1\" class=\"dataframe\">\n",
       "  <thead>\n",
       "    <tr style=\"text-align: right;\">\n",
       "      <th></th>\n",
       "      <th>record_id</th>\n",
       "      <th>record_id_raw_input_file</th>\n",
       "      <th>household_id</th>\n",
       "      <th>first_name</th>\n",
       "      <th>middle_initial</th>\n",
       "      <th>last_name</th>\n",
       "      <th>age</th>\n",
       "      <th>street_number</th>\n",
       "      <th>street_name</th>\n",
       "      <th>unit_number</th>\n",
       "      <th>...</th>\n",
       "      <th>first_name_3</th>\n",
       "      <th>last_name_3</th>\n",
       "      <th>first_name_nysiis</th>\n",
       "      <th>first_name_reverse_soundex</th>\n",
       "      <th>last_name_nysiis</th>\n",
       "      <th>last_name_reverse_soundex</th>\n",
       "      <th>street_name_for_blocking_soundex</th>\n",
       "      <th>zip3</th>\n",
       "      <th>first_initial_cut</th>\n",
       "      <th>last_initial_cut</th>\n",
       "    </tr>\n",
       "  </thead>\n",
       "  <tbody>\n",
       "    <tr>\n",
       "      <th>0</th>\n",
       "      <td>census_2030_preprocessed_0</td>\n",
       "      <td>simulated_census_2030_0</td>\n",
       "      <td>0_8033</td>\n",
       "      <td>Gerald</td>\n",
       "      <td>R</td>\n",
       "      <td>Allen</td>\n",
       "      <td>86</td>\n",
       "      <td>1130</td>\n",
       "      <td>MALLORY LN</td>\n",
       "      <td>None</td>\n",
       "      <td>...</td>\n",
       "      <td>Ger</td>\n",
       "      <td>All</td>\n",
       "      <td>GARALD</td>\n",
       "      <td>D462</td>\n",
       "      <td>ALAN</td>\n",
       "      <td>N400</td>\n",
       "      <td>M464</td>\n",
       "      <td>000</td>\n",
       "      <td>G</td>\n",
       "      <td>A-or-blank</td>\n",
       "    </tr>\n",
       "    <tr>\n",
       "      <th>1</th>\n",
       "      <td>census_2030_preprocessed_1</td>\n",
       "      <td>simulated_census_2030_1</td>\n",
       "      <td>0_1066</td>\n",
       "      <td>April</td>\n",
       "      <td>S</td>\n",
       "      <td>Hayden</td>\n",
       "      <td>33</td>\n",
       "      <td>32597</td>\n",
       "      <td>DELACORTE DR</td>\n",
       "      <td>None</td>\n",
       "      <td>...</td>\n",
       "      <td>Apr</td>\n",
       "      <td>Hay</td>\n",
       "      <td>APRAL</td>\n",
       "      <td>L610</td>\n",
       "      <td>HAYDAN</td>\n",
       "      <td>N300</td>\n",
       "      <td>D426</td>\n",
       "      <td>000</td>\n",
       "      <td>A-or-blank</td>\n",
       "      <td>H</td>\n",
       "    </tr>\n",
       "    <tr>\n",
       "      <th>2</th>\n",
       "      <td>census_2030_preprocessed_2</td>\n",
       "      <td>simulated_census_2030_2</td>\n",
       "      <td>0_1066</td>\n",
       "      <td>Loretta</td>\n",
       "      <td>T</td>\n",
       "      <td>Lowe</td>\n",
       "      <td>71</td>\n",
       "      <td>32597</td>\n",
       "      <td>DELACORTE DR</td>\n",
       "      <td>None</td>\n",
       "      <td>...</td>\n",
       "      <td>Lor</td>\n",
       "      <td>Low</td>\n",
       "      <td>LARAT</td>\n",
       "      <td>A364</td>\n",
       "      <td>LAO</td>\n",
       "      <td>E400</td>\n",
       "      <td>D426</td>\n",
       "      <td>000</td>\n",
       "      <td>L</td>\n",
       "      <td>L</td>\n",
       "    </tr>\n",
       "    <tr>\n",
       "      <th>3</th>\n",
       "      <td>census_2030_preprocessed_3</td>\n",
       "      <td>simulated_census_2030_3</td>\n",
       "      <td>0_2514</td>\n",
       "      <td>Sandra</td>\n",
       "      <td>A</td>\n",
       "      <td>Sorrentino</td>\n",
       "      <td>75</td>\n",
       "      <td>4458</td>\n",
       "      <td>WIBDSOR PL</td>\n",
       "      <td>None</td>\n",
       "      <td>...</td>\n",
       "      <td>San</td>\n",
       "      <td>Sor</td>\n",
       "      <td>SANDR</td>\n",
       "      <td>A635</td>\n",
       "      <td>SARANTAN</td>\n",
       "      <td>O535</td>\n",
       "      <td>W132</td>\n",
       "      <td>000</td>\n",
       "      <td>S</td>\n",
       "      <td>S</td>\n",
       "    </tr>\n",
       "    <tr>\n",
       "      <th>4</th>\n",
       "      <td>census_2030_preprocessed_4</td>\n",
       "      <td>simulated_census_2030_4</td>\n",
       "      <td>0_5627</td>\n",
       "      <td>Bobby</td>\n",
       "      <td>S</td>\n",
       "      <td>Baker</td>\n",
       "      <td>44</td>\n",
       "      <td>None</td>\n",
       "      <td>WINDING TRAIL RD</td>\n",
       "      <td>None</td>\n",
       "      <td>...</td>\n",
       "      <td>Bob</td>\n",
       "      <td>Bak</td>\n",
       "      <td>BABY</td>\n",
       "      <td>Y110</td>\n",
       "      <td>BACAR</td>\n",
       "      <td>R210</td>\n",
       "      <td>W535</td>\n",
       "      <td>000</td>\n",
       "      <td>B</td>\n",
       "      <td>B</td>\n",
       "    </tr>\n",
       "    <tr>\n",
       "      <th>...</th>\n",
       "      <td>...</td>\n",
       "      <td>...</td>\n",
       "      <td>...</td>\n",
       "      <td>...</td>\n",
       "      <td>...</td>\n",
       "      <td>...</td>\n",
       "      <td>...</td>\n",
       "      <td>...</td>\n",
       "      <td>...</td>\n",
       "      <td>...</td>\n",
       "      <td>...</td>\n",
       "      <td>...</td>\n",
       "      <td>...</td>\n",
       "      <td>...</td>\n",
       "      <td>...</td>\n",
       "      <td>...</td>\n",
       "      <td>...</td>\n",
       "      <td>...</td>\n",
       "      <td>...</td>\n",
       "      <td>...</td>\n",
       "      <td>...</td>\n",
       "    </tr>\n",
       "    <tr>\n",
       "      <th>95</th>\n",
       "      <td>census_2030_preprocessed_96</td>\n",
       "      <td>simulated_census_2030_96</td>\n",
       "      <td>0_57</td>\n",
       "      <td>Holly</td>\n",
       "      <td>S</td>\n",
       "      <td>Stokes</td>\n",
       "      <td>60</td>\n",
       "      <td>107</td>\n",
       "      <td>ROBINHOOD CR</td>\n",
       "      <td>None</td>\n",
       "      <td>...</td>\n",
       "      <td>Hol</td>\n",
       "      <td>Sto</td>\n",
       "      <td>HALY</td>\n",
       "      <td>Y400</td>\n",
       "      <td>STAC</td>\n",
       "      <td>S232</td>\n",
       "      <td>R153</td>\n",
       "      <td>000</td>\n",
       "      <td>H</td>\n",
       "      <td>S</td>\n",
       "    </tr>\n",
       "    <tr>\n",
       "      <th>96</th>\n",
       "      <td>census_2030_preprocessed_97</td>\n",
       "      <td>simulated_census_2030_97</td>\n",
       "      <td>0_2237</td>\n",
       "      <td>Dylan</td>\n",
       "      <td>A</td>\n",
       "      <td>Edwards</td>\n",
       "      <td>13</td>\n",
       "      <td>2055</td>\n",
       "      <td>BRIDLEWOOD DR</td>\n",
       "      <td>None</td>\n",
       "      <td>...</td>\n",
       "      <td>Dyl</td>\n",
       "      <td>Edw</td>\n",
       "      <td>DYLAN</td>\n",
       "      <td>N430</td>\n",
       "      <td>EDWARD</td>\n",
       "      <td>S363</td>\n",
       "      <td>B634</td>\n",
       "      <td>000</td>\n",
       "      <td>D</td>\n",
       "      <td>E</td>\n",
       "    </tr>\n",
       "    <tr>\n",
       "      <th>97</th>\n",
       "      <td>census_2030_preprocessed_98</td>\n",
       "      <td>simulated_census_2030_98</td>\n",
       "      <td>0_4558</td>\n",
       "      <td>Ronald</td>\n",
       "      <td>N</td>\n",
       "      <td>Liimatainen</td>\n",
       "      <td>60</td>\n",
       "      <td>9808</td>\n",
       "      <td>111 AVENUE</td>\n",
       "      <td>None</td>\n",
       "      <td>...</td>\n",
       "      <td>Ron</td>\n",
       "      <td>Lii</td>\n",
       "      <td>RANALD</td>\n",
       "      <td>D456</td>\n",
       "      <td>LANATANAN</td>\n",
       "      <td>N535</td>\n",
       "      <td>1150</td>\n",
       "      <td>000</td>\n",
       "      <td>R</td>\n",
       "      <td>L</td>\n",
       "    </tr>\n",
       "    <tr>\n",
       "      <th>98</th>\n",
       "      <td>census_2030_preprocessed_99</td>\n",
       "      <td>simulated_census_2030_99</td>\n",
       "      <td>0_2237</td>\n",
       "      <td>Priscilla</td>\n",
       "      <td>P</td>\n",
       "      <td>Harris</td>\n",
       "      <td>62</td>\n",
       "      <td>2055</td>\n",
       "      <td>BRIDLEWOOD DR</td>\n",
       "      <td>None</td>\n",
       "      <td>...</td>\n",
       "      <td>Pri</td>\n",
       "      <td>Har</td>\n",
       "      <td>PRASCAL</td>\n",
       "      <td>A426</td>\n",
       "      <td>HAR</td>\n",
       "      <td>S600</td>\n",
       "      <td>B634</td>\n",
       "      <td>000</td>\n",
       "      <td>P</td>\n",
       "      <td>H</td>\n",
       "    </tr>\n",
       "    <tr>\n",
       "      <th>99</th>\n",
       "      <td>census_2030_preprocessed_100</td>\n",
       "      <td>simulated_census_2030_100</td>\n",
       "      <td>0_5226</td>\n",
       "      <td>Emilio</td>\n",
       "      <td>P</td>\n",
       "      <td>Ruppert</td>\n",
       "      <td>24</td>\n",
       "      <td>657 1 2</td>\n",
       "      <td>PAYRFL DR</td>\n",
       "      <td>None</td>\n",
       "      <td>...</td>\n",
       "      <td>Emi</td>\n",
       "      <td>Rup</td>\n",
       "      <td>ENAL</td>\n",
       "      <td>O450</td>\n",
       "      <td>RAPAD</td>\n",
       "      <td>T616</td>\n",
       "      <td>P614</td>\n",
       "      <td>000</td>\n",
       "      <td>E</td>\n",
       "      <td>R</td>\n",
       "    </tr>\n",
       "  </tbody>\n",
       "</table>\n",
       "<p>100 rows × 41 columns</p>\n",
       "</div>"
      ],
      "text/plain": [
       "                       record_id   record_id_raw_input_file household_id  \\\n",
       "0     census_2030_preprocessed_0    simulated_census_2030_0       0_8033   \n",
       "1     census_2030_preprocessed_1    simulated_census_2030_1       0_1066   \n",
       "2     census_2030_preprocessed_2    simulated_census_2030_2       0_1066   \n",
       "3     census_2030_preprocessed_3    simulated_census_2030_3       0_2514   \n",
       "4     census_2030_preprocessed_4    simulated_census_2030_4       0_5627   \n",
       "..                           ...                        ...          ...   \n",
       "95   census_2030_preprocessed_96   simulated_census_2030_96         0_57   \n",
       "96   census_2030_preprocessed_97   simulated_census_2030_97       0_2237   \n",
       "97   census_2030_preprocessed_98   simulated_census_2030_98       0_4558   \n",
       "98   census_2030_preprocessed_99   simulated_census_2030_99       0_2237   \n",
       "99  census_2030_preprocessed_100  simulated_census_2030_100       0_5226   \n",
       "\n",
       "   first_name middle_initial    last_name age street_number       street_name  \\\n",
       "0      Gerald              R        Allen  86          1130        MALLORY LN   \n",
       "1       April              S       Hayden  33         32597      DELACORTE DR   \n",
       "2     Loretta              T         Lowe  71         32597      DELACORTE DR   \n",
       "3      Sandra              A   Sorrentino  75          4458        WIBDSOR PL   \n",
       "4       Bobby              S        Baker  44          None  WINDING TRAIL RD   \n",
       "..        ...            ...          ...  ..           ...               ...   \n",
       "95      Holly              S       Stokes  60           107      ROBINHOOD CR   \n",
       "96      Dylan              A      Edwards  13          2055     BRIDLEWOOD DR   \n",
       "97     Ronald              N  Liimatainen  60          9808        111 AVENUE   \n",
       "98  Priscilla              P       Harris  62          2055     BRIDLEWOOD DR   \n",
       "99     Emilio              P      Ruppert  24       657 1 2         PAYRFL DR   \n",
       "\n",
       "   unit_number  ... first_name_3 last_name_3 first_name_nysiis  \\\n",
       "0         None  ...          Ger         All            GARALD   \n",
       "1         None  ...          Apr         Hay             APRAL   \n",
       "2         None  ...          Lor         Low             LARAT   \n",
       "3         None  ...          San         Sor             SANDR   \n",
       "4         None  ...          Bob         Bak              BABY   \n",
       "..         ...  ...          ...         ...               ...   \n",
       "95        None  ...          Hol         Sto              HALY   \n",
       "96        None  ...          Dyl         Edw             DYLAN   \n",
       "97        None  ...          Ron         Lii            RANALD   \n",
       "98        None  ...          Pri         Har           PRASCAL   \n",
       "99        None  ...          Emi         Rup              ENAL   \n",
       "\n",
       "   first_name_reverse_soundex last_name_nysiis last_name_reverse_soundex  \\\n",
       "0                        D462             ALAN                      N400   \n",
       "1                        L610           HAYDAN                      N300   \n",
       "2                        A364              LAO                      E400   \n",
       "3                        A635         SARANTAN                      O535   \n",
       "4                        Y110            BACAR                      R210   \n",
       "..                        ...              ...                       ...   \n",
       "95                       Y400             STAC                      S232   \n",
       "96                       N430           EDWARD                      S363   \n",
       "97                       D456        LANATANAN                      N535   \n",
       "98                       A426              HAR                      S600   \n",
       "99                       O450            RAPAD                      T616   \n",
       "\n",
       "   street_name_for_blocking_soundex  zip3  first_initial_cut  last_initial_cut  \n",
       "0                              M464   000                  G        A-or-blank  \n",
       "1                              D426   000         A-or-blank                 H  \n",
       "2                              D426   000                  L                 L  \n",
       "3                              W132   000                  S                 S  \n",
       "4                              W535   000                  B                 B  \n",
       "..                              ...   ...                ...               ...  \n",
       "95                             R153   000                  H                 S  \n",
       "96                             B634   000                  D                 E  \n",
       "97                             1150   000                  R                 L  \n",
       "98                             B634   000                  P                 H  \n",
       "99                             P614   000                  E                 R  \n",
       "\n",
       "[100 rows x 41 columns]"
      ]
     },
     "execution_count": 37,
     "metadata": {},
     "output_type": "execute_result"
    }
   ],
   "source": [
    "df_ops.head(census_2030, n=100)"
   ]
  },
  {
   "cell_type": "code",
   "execution_count": 38,
   "id": "bc33f5b6-36b4-48d5-9ea5-e0ae11d14dab",
   "metadata": {
    "execution": {
     "iopub.execute_input": "2024-02-12T19:21:04.341151Z",
     "iopub.status.busy": "2024-02-12T19:21:04.340862Z",
     "iopub.status.idle": "2024-02-12T19:21:04.825855Z",
     "shell.execute_reply": "2024-02-12T19:21:04.824532Z"
    },
    "papermill": {
     "duration": 0.518601,
     "end_time": "2024-02-12T19:21:04.828935",
     "exception": false,
     "start_time": "2024-02-12T19:21:04.310334",
     "status": "completed"
    },
    "tags": []
   },
   "outputs": [],
   "source": [
    "intermediate_data_dir = f\"{output_dir}/intermediate_data\"\n",
    "if clear_intermediate:\n",
    "    utils.ensure_empty(intermediate_data_dir)"
   ]
  },
  {
   "cell_type": "code",
   "execution_count": 39,
   "id": "632c5d5f-34b6-49ec-83be-737ed625d47e",
   "metadata": {
    "execution": {
     "iopub.execute_input": "2024-02-12T19:21:04.890257Z",
     "iopub.status.busy": "2024-02-12T19:21:04.889429Z",
     "iopub.status.idle": "2024-02-12T19:21:04.894289Z",
     "shell.execute_reply": "2024-02-12T19:21:04.893314Z"
    },
    "papermill": {
     "duration": 0.036863,
     "end_time": "2024-02-12T19:21:04.896130",
     "exception": false,
     "start_time": "2024-02-12T19:21:04.859267",
     "status": "completed"
    },
    "tags": []
   },
   "outputs": [],
   "source": [
    "# Can save a checkpoint here for resuming without re-running the prep\n",
    "# df_ops.to_parquet(census_2030, f'{intermediate_data_dir}/census_2030_prepped.parquet')"
   ]
  },
  {
   "cell_type": "code",
   "execution_count": 40,
   "id": "b4fc55f9-32dd-40e9-ba3b-0f67556ddbc3",
   "metadata": {
    "execution": {
     "iopub.execute_input": "2024-02-12T19:21:04.955213Z",
     "iopub.status.busy": "2024-02-12T19:21:04.954922Z",
     "iopub.status.idle": "2024-02-12T19:21:04.959925Z",
     "shell.execute_reply": "2024-02-12T19:21:04.958854Z"
    },
    "papermill": {
     "duration": 0.037255,
     "end_time": "2024-02-12T19:21:04.961976",
     "exception": false,
     "start_time": "2024-02-12T19:21:04.924721",
     "status": "completed"
    },
    "tags": []
   },
   "outputs": [
    {
     "name": "stdout",
     "output_type": "stream",
     "text": [
      "32,825\n"
     ]
    }
   ],
   "source": [
    "print(f'{len(geobase_reference_file):,.0f}')"
   ]
  },
  {
   "cell_type": "code",
   "execution_count": 41,
   "id": "2361fef9-e338-4c81-934d-075dafdbd432",
   "metadata": {
    "execution": {
     "iopub.execute_input": "2024-02-12T19:21:05.021884Z",
     "iopub.status.busy": "2024-02-12T19:21:05.021595Z",
     "iopub.status.idle": "2024-02-12T19:21:05.051984Z",
     "shell.execute_reply": "2024-02-12T19:21:05.050978Z"
    },
    "papermill": {
     "duration": 0.062741,
     "end_time": "2024-02-12T19:21:05.053954",
     "exception": false,
     "start_time": "2024-02-12T19:21:04.991213",
     "status": "completed"
    },
    "tags": []
   },
   "outputs": [
    {
     "data": {
      "text/html": [
       "<div>\n",
       "<style scoped>\n",
       "    .dataframe tbody tr th:only-of-type {\n",
       "        vertical-align: middle;\n",
       "    }\n",
       "\n",
       "    .dataframe tbody tr th {\n",
       "        vertical-align: top;\n",
       "    }\n",
       "\n",
       "    .dataframe thead th {\n",
       "        text-align: right;\n",
       "    }\n",
       "</style>\n",
       "<table border=\"1\" class=\"dataframe\">\n",
       "  <thead>\n",
       "    <tr style=\"text-align: right;\">\n",
       "      <th></th>\n",
       "      <th>record_id</th>\n",
       "      <th>ssn</th>\n",
       "      <th>first_name</th>\n",
       "      <th>middle_name</th>\n",
       "      <th>last_name</th>\n",
       "      <th>street_number</th>\n",
       "      <th>street_name</th>\n",
       "      <th>unit_number</th>\n",
       "      <th>po_box</th>\n",
       "      <th>city</th>\n",
       "      <th>...</th>\n",
       "      <th>last_name_12</th>\n",
       "      <th>middle_initial</th>\n",
       "      <th>first_name_1</th>\n",
       "      <th>last_name_1</th>\n",
       "      <th>first_name_2</th>\n",
       "      <th>last_name_2</th>\n",
       "      <th>first_name_3</th>\n",
       "      <th>last_name_3</th>\n",
       "      <th>street_name_for_blocking_soundex</th>\n",
       "      <th>zip3</th>\n",
       "    </tr>\n",
       "  </thead>\n",
       "  <tbody>\n",
       "    <tr>\n",
       "      <th>0</th>\n",
       "      <td>simulated_geobase_reference_file_0</td>\n",
       "      <td>685-77-0916</td>\n",
       "      <td>Betty</td>\n",
       "      <td>Audrey</td>\n",
       "      <td>Keel</td>\n",
       "      <td>47461</td>\n",
       "      <td>W ROXBURY DR</td>\n",
       "      <td>None</td>\n",
       "      <td>None</td>\n",
       "      <td>ANYTOWN</td>\n",
       "      <td>...</td>\n",
       "      <td>Keel</td>\n",
       "      <td>A</td>\n",
       "      <td>B</td>\n",
       "      <td>K</td>\n",
       "      <td>Be</td>\n",
       "      <td>Ke</td>\n",
       "      <td>Bet</td>\n",
       "      <td>Kee</td>\n",
       "      <td>W621</td>\n",
       "      <td>000</td>\n",
       "    </tr>\n",
       "    <tr>\n",
       "      <th>1</th>\n",
       "      <td>simulated_geobase_reference_file_1</td>\n",
       "      <td>765-44-4521</td>\n",
       "      <td>Ethep</td>\n",
       "      <td>Nancy</td>\n",
       "      <td>Collier</td>\n",
       "      <td>None</td>\n",
       "      <td>None</td>\n",
       "      <td>None</td>\n",
       "      <td>None</td>\n",
       "      <td>None</td>\n",
       "      <td>...</td>\n",
       "      <td>Collier</td>\n",
       "      <td>N</td>\n",
       "      <td>E</td>\n",
       "      <td>C</td>\n",
       "      <td>Et</td>\n",
       "      <td>Co</td>\n",
       "      <td>Eth</td>\n",
       "      <td>Col</td>\n",
       "      <td>&lt;NA&gt;</td>\n",
       "      <td>None</td>\n",
       "    </tr>\n",
       "    <tr>\n",
       "      <th>2</th>\n",
       "      <td>simulated_geobase_reference_file_2</td>\n",
       "      <td>765-44-4521</td>\n",
       "      <td>Ethep</td>\n",
       "      <td>Nancy</td>\n",
       "      <td>Collier</td>\n",
       "      <td>None</td>\n",
       "      <td>None</td>\n",
       "      <td>None</td>\n",
       "      <td>None</td>\n",
       "      <td>None</td>\n",
       "      <td>...</td>\n",
       "      <td>Collier</td>\n",
       "      <td>N</td>\n",
       "      <td>E</td>\n",
       "      <td>C</td>\n",
       "      <td>Et</td>\n",
       "      <td>Co</td>\n",
       "      <td>Eth</td>\n",
       "      <td>Col</td>\n",
       "      <td>&lt;NA&gt;</td>\n",
       "      <td>None</td>\n",
       "    </tr>\n",
       "    <tr>\n",
       "      <th>3</th>\n",
       "      <td>simulated_geobase_reference_file_3</td>\n",
       "      <td>726-57-2168</td>\n",
       "      <td>Josephine</td>\n",
       "      <td>Margaret</td>\n",
       "      <td>Babbie</td>\n",
       "      <td>3743</td>\n",
       "      <td>MESA VERDE ST</td>\n",
       "      <td>None</td>\n",
       "      <td>None</td>\n",
       "      <td>ANYTOWN</td>\n",
       "      <td>...</td>\n",
       "      <td>Babbie</td>\n",
       "      <td>M</td>\n",
       "      <td>J</td>\n",
       "      <td>B</td>\n",
       "      <td>Jo</td>\n",
       "      <td>Ba</td>\n",
       "      <td>Jos</td>\n",
       "      <td>Bab</td>\n",
       "      <td>M216</td>\n",
       "      <td>000</td>\n",
       "    </tr>\n",
       "    <tr>\n",
       "      <th>4</th>\n",
       "      <td>simulated_geobase_reference_file_4</td>\n",
       "      <td>726-57-2168</td>\n",
       "      <td>Josephine</td>\n",
       "      <td>Margaret</td>\n",
       "      <td>Babbie</td>\n",
       "      <td>3743</td>\n",
       "      <td>MESA VERDE ST</td>\n",
       "      <td>None</td>\n",
       "      <td>None</td>\n",
       "      <td>None</td>\n",
       "      <td>...</td>\n",
       "      <td>Babbie</td>\n",
       "      <td>M</td>\n",
       "      <td>J</td>\n",
       "      <td>B</td>\n",
       "      <td>Jo</td>\n",
       "      <td>Ba</td>\n",
       "      <td>Jos</td>\n",
       "      <td>Bab</td>\n",
       "      <td>M216</td>\n",
       "      <td>000</td>\n",
       "    </tr>\n",
       "    <tr>\n",
       "      <th>...</th>\n",
       "      <td>...</td>\n",
       "      <td>...</td>\n",
       "      <td>...</td>\n",
       "      <td>...</td>\n",
       "      <td>...</td>\n",
       "      <td>...</td>\n",
       "      <td>...</td>\n",
       "      <td>...</td>\n",
       "      <td>...</td>\n",
       "      <td>...</td>\n",
       "      <td>...</td>\n",
       "      <td>...</td>\n",
       "      <td>...</td>\n",
       "      <td>...</td>\n",
       "      <td>...</td>\n",
       "      <td>...</td>\n",
       "      <td>...</td>\n",
       "      <td>...</td>\n",
       "      <td>...</td>\n",
       "      <td>...</td>\n",
       "      <td>...</td>\n",
       "    </tr>\n",
       "    <tr>\n",
       "      <th>95</th>\n",
       "      <td>simulated_geobase_reference_file_95</td>\n",
       "      <td>381-71-4308</td>\n",
       "      <td>Mary</td>\n",
       "      <td>Child</td>\n",
       "      <td>Christopher</td>\n",
       "      <td>2333</td>\n",
       "      <td>WESTMINSTER PLACE</td>\n",
       "      <td>None</td>\n",
       "      <td>None</td>\n",
       "      <td>ANYTOWN</td>\n",
       "      <td>...</td>\n",
       "      <td>Christopher</td>\n",
       "      <td>C</td>\n",
       "      <td>M</td>\n",
       "      <td>C</td>\n",
       "      <td>Ma</td>\n",
       "      <td>Ch</td>\n",
       "      <td>Mar</td>\n",
       "      <td>Chr</td>\n",
       "      <td>W235</td>\n",
       "      <td>000</td>\n",
       "    </tr>\n",
       "    <tr>\n",
       "      <th>96</th>\n",
       "      <td>simulated_geobase_reference_file_96</td>\n",
       "      <td>854-18-9101</td>\n",
       "      <td>Juanita</td>\n",
       "      <td>Betty</td>\n",
       "      <td>Abraham</td>\n",
       "      <td>11100</td>\n",
       "      <td>PINE VALLEY DR</td>\n",
       "      <td>None</td>\n",
       "      <td>None</td>\n",
       "      <td>ANYTOWN</td>\n",
       "      <td>...</td>\n",
       "      <td>Abraham</td>\n",
       "      <td>B</td>\n",
       "      <td>J</td>\n",
       "      <td>A</td>\n",
       "      <td>Ju</td>\n",
       "      <td>Ab</td>\n",
       "      <td>Jua</td>\n",
       "      <td>Abr</td>\n",
       "      <td>P514</td>\n",
       "      <td>None</td>\n",
       "    </tr>\n",
       "    <tr>\n",
       "      <th>97</th>\n",
       "      <td>simulated_geobase_reference_file_97</td>\n",
       "      <td>854-18-9101</td>\n",
       "      <td>Juanita</td>\n",
       "      <td>Betty</td>\n",
       "      <td>Abraham</td>\n",
       "      <td>11|00</td>\n",
       "      <td>PINE VALLEY DR</td>\n",
       "      <td>None</td>\n",
       "      <td>None</td>\n",
       "      <td>ANYTOWN</td>\n",
       "      <td>...</td>\n",
       "      <td>Abraham</td>\n",
       "      <td>B</td>\n",
       "      <td>J</td>\n",
       "      <td>A</td>\n",
       "      <td>Ju</td>\n",
       "      <td>Ab</td>\n",
       "      <td>Jua</td>\n",
       "      <td>Abr</td>\n",
       "      <td>P514</td>\n",
       "      <td>000</td>\n",
       "    </tr>\n",
       "    <tr>\n",
       "      <th>98</th>\n",
       "      <td>simulated_geobase_reference_file_98</td>\n",
       "      <td>854-18-9101</td>\n",
       "      <td>Juanita</td>\n",
       "      <td>Betty</td>\n",
       "      <td>Abraham</td>\n",
       "      <td>11100</td>\n",
       "      <td>PINE VALLEY DR</td>\n",
       "      <td>None</td>\n",
       "      <td>None</td>\n",
       "      <td>ANYTOWN</td>\n",
       "      <td>...</td>\n",
       "      <td>Abraham</td>\n",
       "      <td>B</td>\n",
       "      <td>J</td>\n",
       "      <td>A</td>\n",
       "      <td>Ju</td>\n",
       "      <td>Ab</td>\n",
       "      <td>Jua</td>\n",
       "      <td>Abr</td>\n",
       "      <td>P514</td>\n",
       "      <td>000</td>\n",
       "    </tr>\n",
       "    <tr>\n",
       "      <th>99</th>\n",
       "      <td>simulated_geobase_reference_file_99</td>\n",
       "      <td>805-84-8318</td>\n",
       "      <td>Joan</td>\n",
       "      <td>Margaret</td>\n",
       "      <td>Naese</td>\n",
       "      <td>29</td>\n",
       "      <td>LIMESTONE LANE</td>\n",
       "      <td>None</td>\n",
       "      <td>None</td>\n",
       "      <td>ANYTOWN</td>\n",
       "      <td>...</td>\n",
       "      <td>Naese</td>\n",
       "      <td>M</td>\n",
       "      <td>J</td>\n",
       "      <td>N</td>\n",
       "      <td>Jo</td>\n",
       "      <td>Na</td>\n",
       "      <td>Joa</td>\n",
       "      <td>Nae</td>\n",
       "      <td>L523</td>\n",
       "      <td>000</td>\n",
       "    </tr>\n",
       "  </tbody>\n",
       "</table>\n",
       "<p>100 rows × 31 columns</p>\n",
       "</div>"
      ],
      "text/plain": [
       "                              record_id          ssn first_name middle_name  \\\n",
       "0    simulated_geobase_reference_file_0  685-77-0916      Betty      Audrey   \n",
       "1    simulated_geobase_reference_file_1  765-44-4521      Ethep       Nancy   \n",
       "2    simulated_geobase_reference_file_2  765-44-4521      Ethep       Nancy   \n",
       "3    simulated_geobase_reference_file_3  726-57-2168  Josephine    Margaret   \n",
       "4    simulated_geobase_reference_file_4  726-57-2168  Josephine    Margaret   \n",
       "..                                  ...          ...        ...         ...   \n",
       "95  simulated_geobase_reference_file_95  381-71-4308       Mary       Child   \n",
       "96  simulated_geobase_reference_file_96  854-18-9101    Juanita       Betty   \n",
       "97  simulated_geobase_reference_file_97  854-18-9101    Juanita       Betty   \n",
       "98  simulated_geobase_reference_file_98  854-18-9101    Juanita       Betty   \n",
       "99  simulated_geobase_reference_file_99  805-84-8318       Joan    Margaret   \n",
       "\n",
       "      last_name street_number        street_name unit_number po_box     city  \\\n",
       "0          Keel         47461       W ROXBURY DR        None   None  ANYTOWN   \n",
       "1       Collier          None               None        None   None     None   \n",
       "2       Collier          None               None        None   None     None   \n",
       "3        Babbie          3743      MESA VERDE ST        None   None  ANYTOWN   \n",
       "4        Babbie          3743      MESA VERDE ST        None   None     None   \n",
       "..          ...           ...                ...         ...    ...      ...   \n",
       "95  Christopher          2333  WESTMINSTER PLACE        None   None  ANYTOWN   \n",
       "96      Abraham         11100     PINE VALLEY DR        None   None  ANYTOWN   \n",
       "97      Abraham         11|00     PINE VALLEY DR        None   None  ANYTOWN   \n",
       "98      Abraham         11100     PINE VALLEY DR        None   None  ANYTOWN   \n",
       "99        Naese            29     LIMESTONE LANE        None   None  ANYTOWN   \n",
       "\n",
       "    ... last_name_12 middle_initial first_name_1  last_name_1  first_name_2  \\\n",
       "0   ...         Keel              A            B            K            Be   \n",
       "1   ...      Collier              N            E            C            Et   \n",
       "2   ...      Collier              N            E            C            Et   \n",
       "3   ...       Babbie              M            J            B            Jo   \n",
       "4   ...       Babbie              M            J            B            Jo   \n",
       "..  ...          ...            ...          ...          ...           ...   \n",
       "95  ...  Christopher              C            M            C            Ma   \n",
       "96  ...      Abraham              B            J            A            Ju   \n",
       "97  ...      Abraham              B            J            A            Ju   \n",
       "98  ...      Abraham              B            J            A            Ju   \n",
       "99  ...        Naese              M            J            N            Jo   \n",
       "\n",
       "    last_name_2 first_name_3 last_name_3 street_name_for_blocking_soundex  \\\n",
       "0            Ke          Bet         Kee                             W621   \n",
       "1            Co          Eth         Col                             <NA>   \n",
       "2            Co          Eth         Col                             <NA>   \n",
       "3            Ba          Jos         Bab                             M216   \n",
       "4            Ba          Jos         Bab                             M216   \n",
       "..          ...          ...         ...                              ...   \n",
       "95           Ch          Mar         Chr                             W235   \n",
       "96           Ab          Jua         Abr                             P514   \n",
       "97           Ab          Jua         Abr                             P514   \n",
       "98           Ab          Jua         Abr                             P514   \n",
       "99           Na          Joa         Nae                             L523   \n",
       "\n",
       "    zip3  \n",
       "0    000  \n",
       "1   None  \n",
       "2   None  \n",
       "3    000  \n",
       "4    000  \n",
       "..   ...  \n",
       "95   000  \n",
       "96  None  \n",
       "97   000  \n",
       "98   000  \n",
       "99   000  \n",
       "\n",
       "[100 rows x 31 columns]"
      ]
     },
     "execution_count": 41,
     "metadata": {},
     "output_type": "execute_result"
    }
   ],
   "source": [
    "df_ops.head(geobase_reference_file, n=100)"
   ]
  },
  {
   "cell_type": "code",
   "execution_count": 42,
   "id": "96ad6959-51a8-4972-8262-81383e5a895a",
   "metadata": {
    "execution": {
     "iopub.execute_input": "2024-02-12T19:21:05.115920Z",
     "iopub.status.busy": "2024-02-12T19:21:05.115628Z",
     "iopub.status.idle": "2024-02-12T19:21:05.123207Z",
     "shell.execute_reply": "2024-02-12T19:21:05.122418Z"
    },
    "papermill": {
     "duration": 0.040666,
     "end_time": "2024-02-12T19:21:05.125139",
     "exception": false,
     "start_time": "2024-02-12T19:21:05.084473",
     "status": "completed"
    },
    "tags": []
   },
   "outputs": [
    {
     "data": {
      "text/plain": [
       "0.08642802741812643"
      ]
     },
     "execution_count": 42,
     "metadata": {},
     "output_type": "execute_result"
    }
   ],
   "source": [
    "df_ops.compute(geobase_reference_file.year_of_birth.isna().mean())"
   ]
  },
  {
   "cell_type": "code",
   "execution_count": 43,
   "id": "41f87268-5fc5-43cf-b2ee-debb8b6535b3",
   "metadata": {
    "execution": {
     "iopub.execute_input": "2024-02-12T19:21:05.187860Z",
     "iopub.status.busy": "2024-02-12T19:21:05.187254Z",
     "iopub.status.idle": "2024-02-12T19:21:05.191935Z",
     "shell.execute_reply": "2024-02-12T19:21:05.190873Z"
    },
    "papermill": {
     "duration": 0.038281,
     "end_time": "2024-02-12T19:21:05.193813",
     "exception": false,
     "start_time": "2024-02-12T19:21:05.155532",
     "status": "completed"
    },
    "tags": []
   },
   "outputs": [],
   "source": [
    "# df_ops.to_parquet(geobase_reference_file, f'{intermediate_data_dir}/geobase_reference_file_prepped.parquet')"
   ]
  },
  {
   "cell_type": "code",
   "execution_count": 44,
   "id": "c749e6f5-75aa-45a8-8007-7051d12019b8",
   "metadata": {
    "execution": {
     "iopub.execute_input": "2024-02-12T19:21:05.255417Z",
     "iopub.status.busy": "2024-02-12T19:21:05.254884Z",
     "iopub.status.idle": "2024-02-12T19:21:05.260024Z",
     "shell.execute_reply": "2024-02-12T19:21:05.258961Z"
    },
    "papermill": {
     "duration": 0.038549,
     "end_time": "2024-02-12T19:21:05.262045",
     "exception": false,
     "start_time": "2024-02-12T19:21:05.223496",
     "status": "completed"
    },
    "tags": []
   },
   "outputs": [
    {
     "name": "stdout",
     "output_type": "stream",
     "text": [
      "19,875\n"
     ]
    }
   ],
   "source": [
    "print(f'{len(name_dob_reference_file):,.0f}')"
   ]
  },
  {
   "cell_type": "code",
   "execution_count": 45,
   "id": "cebf9174-67d5-47e7-a072-5b2998faf57c",
   "metadata": {
    "execution": {
     "iopub.execute_input": "2024-02-12T19:21:05.323765Z",
     "iopub.status.busy": "2024-02-12T19:21:05.323475Z",
     "iopub.status.idle": "2024-02-12T19:21:05.351129Z",
     "shell.execute_reply": "2024-02-12T19:21:05.350128Z"
    },
    "papermill": {
     "duration": 0.060962,
     "end_time": "2024-02-12T19:21:05.353170",
     "exception": false,
     "start_time": "2024-02-12T19:21:05.292208",
     "status": "completed"
    },
    "tags": []
   },
   "outputs": [
    {
     "data": {
      "text/html": [
       "<div>\n",
       "<style scoped>\n",
       "    .dataframe tbody tr th:only-of-type {\n",
       "        vertical-align: middle;\n",
       "    }\n",
       "\n",
       "    .dataframe tbody tr th {\n",
       "        vertical-align: top;\n",
       "    }\n",
       "\n",
       "    .dataframe thead th {\n",
       "        text-align: right;\n",
       "    }\n",
       "</style>\n",
       "<table border=\"1\" class=\"dataframe\">\n",
       "  <thead>\n",
       "    <tr style=\"text-align: right;\">\n",
       "      <th></th>\n",
       "      <th>record_id</th>\n",
       "      <th>ssn</th>\n",
       "      <th>first_name</th>\n",
       "      <th>middle_name</th>\n",
       "      <th>last_name</th>\n",
       "      <th>pik</th>\n",
       "      <th>month_of_birth</th>\n",
       "      <th>year_of_birth</th>\n",
       "      <th>day_of_birth</th>\n",
       "      <th>first_name_15</th>\n",
       "      <th>...</th>\n",
       "      <th>first_name_2</th>\n",
       "      <th>last_name_2</th>\n",
       "      <th>first_name_3</th>\n",
       "      <th>last_name_3</th>\n",
       "      <th>first_name_nysiis</th>\n",
       "      <th>first_name_reverse_soundex</th>\n",
       "      <th>last_name_nysiis</th>\n",
       "      <th>last_name_reverse_soundex</th>\n",
       "      <th>first_initial_cut</th>\n",
       "      <th>last_initial_cut</th>\n",
       "    </tr>\n",
       "  </thead>\n",
       "  <tbody>\n",
       "    <tr>\n",
       "      <th>0</th>\n",
       "      <td>simulated_name_dob_reference_file_0</td>\n",
       "      <td>685-77-0916</td>\n",
       "      <td>Betty</td>\n",
       "      <td>Audrey</td>\n",
       "      <td>Keel</td>\n",
       "      <td>105906</td>\n",
       "      <td>12.0</td>\n",
       "      <td>1922.0</td>\n",
       "      <td>5.0</td>\n",
       "      <td>Betty</td>\n",
       "      <td>...</td>\n",
       "      <td>Be</td>\n",
       "      <td>Ke</td>\n",
       "      <td>Bet</td>\n",
       "      <td>Kee</td>\n",
       "      <td>BATY</td>\n",
       "      <td>Y310</td>\n",
       "      <td>CAL</td>\n",
       "      <td>L200</td>\n",
       "      <td>B</td>\n",
       "      <td>K</td>\n",
       "    </tr>\n",
       "    <tr>\n",
       "      <th>1</th>\n",
       "      <td>simulated_name_dob_reference_file_1</td>\n",
       "      <td>765-44-4521</td>\n",
       "      <td>Ethep</td>\n",
       "      <td>Nancy</td>\n",
       "      <td>Collier</td>\n",
       "      <td>104653</td>\n",
       "      <td>NaN</td>\n",
       "      <td>NaN</td>\n",
       "      <td>NaN</td>\n",
       "      <td>Ethep</td>\n",
       "      <td>...</td>\n",
       "      <td>Et</td>\n",
       "      <td>Co</td>\n",
       "      <td>Eth</td>\n",
       "      <td>Col</td>\n",
       "      <td>ETAP</td>\n",
       "      <td>P300</td>\n",
       "      <td>CALAR</td>\n",
       "      <td>R420</td>\n",
       "      <td>E</td>\n",
       "      <td>C</td>\n",
       "    </tr>\n",
       "    <tr>\n",
       "      <th>2</th>\n",
       "      <td>simulated_name_dob_reference_file_2</td>\n",
       "      <td>765-44-4521</td>\n",
       "      <td>Ethep</td>\n",
       "      <td>Nancy</td>\n",
       "      <td>Collier</td>\n",
       "      <td>104653</td>\n",
       "      <td>2.0</td>\n",
       "      <td>1923.0</td>\n",
       "      <td>13.0</td>\n",
       "      <td>Ethep</td>\n",
       "      <td>...</td>\n",
       "      <td>Et</td>\n",
       "      <td>Co</td>\n",
       "      <td>Eth</td>\n",
       "      <td>Col</td>\n",
       "      <td>ETAP</td>\n",
       "      <td>P300</td>\n",
       "      <td>CALAR</td>\n",
       "      <td>R420</td>\n",
       "      <td>E</td>\n",
       "      <td>C</td>\n",
       "    </tr>\n",
       "    <tr>\n",
       "      <th>3</th>\n",
       "      <td>simulated_name_dob_reference_file_3</td>\n",
       "      <td>726-57-2168</td>\n",
       "      <td>Josephine</td>\n",
       "      <td>Margaret</td>\n",
       "      <td>Babbie</td>\n",
       "      <td>106223</td>\n",
       "      <td>7.0</td>\n",
       "      <td>1923.0</td>\n",
       "      <td>28.0</td>\n",
       "      <td>Josephine</td>\n",
       "      <td>...</td>\n",
       "      <td>Jo</td>\n",
       "      <td>Ba</td>\n",
       "      <td>Jos</td>\n",
       "      <td>Bab</td>\n",
       "      <td>JASAFAN</td>\n",
       "      <td>E512</td>\n",
       "      <td>BABY</td>\n",
       "      <td>E110</td>\n",
       "      <td>J</td>\n",
       "      <td>B</td>\n",
       "    </tr>\n",
       "    <tr>\n",
       "      <th>4</th>\n",
       "      <td>simulated_name_dob_reference_file_4</td>\n",
       "      <td>365-44-3027</td>\n",
       "      <td>Betty</td>\n",
       "      <td>Mary</td>\n",
       "      <td>None</td>\n",
       "      <td>107896</td>\n",
       "      <td>8.0</td>\n",
       "      <td>1923.0</td>\n",
       "      <td>9.0</td>\n",
       "      <td>Betty</td>\n",
       "      <td>...</td>\n",
       "      <td>Be</td>\n",
       "      <td>None</td>\n",
       "      <td>Bet</td>\n",
       "      <td>None</td>\n",
       "      <td>BATY</td>\n",
       "      <td>Y310</td>\n",
       "      <td>&lt;NA&gt;</td>\n",
       "      <td>&lt;NA&gt;</td>\n",
       "      <td>B</td>\n",
       "      <td>A-or-blank</td>\n",
       "    </tr>\n",
       "    <tr>\n",
       "      <th>...</th>\n",
       "      <td>...</td>\n",
       "      <td>...</td>\n",
       "      <td>...</td>\n",
       "      <td>...</td>\n",
       "      <td>...</td>\n",
       "      <td>...</td>\n",
       "      <td>...</td>\n",
       "      <td>...</td>\n",
       "      <td>...</td>\n",
       "      <td>...</td>\n",
       "      <td>...</td>\n",
       "      <td>...</td>\n",
       "      <td>...</td>\n",
       "      <td>...</td>\n",
       "      <td>...</td>\n",
       "      <td>...</td>\n",
       "      <td>...</td>\n",
       "      <td>...</td>\n",
       "      <td>...</td>\n",
       "      <td>...</td>\n",
       "      <td>...</td>\n",
       "    </tr>\n",
       "    <tr>\n",
       "      <th>95</th>\n",
       "      <td>simulated_name_dob_reference_file_95</td>\n",
       "      <td>751-96-8435</td>\n",
       "      <td>Juanita</td>\n",
       "      <td>Betty</td>\n",
       "      <td>None</td>\n",
       "      <td>105939</td>\n",
       "      <td>9.0</td>\n",
       "      <td>1932.0</td>\n",
       "      <td>5.0</td>\n",
       "      <td>Juanita</td>\n",
       "      <td>...</td>\n",
       "      <td>Ju</td>\n",
       "      <td>None</td>\n",
       "      <td>Jua</td>\n",
       "      <td>None</td>\n",
       "      <td>JANAT</td>\n",
       "      <td>A352</td>\n",
       "      <td>&lt;NA&gt;</td>\n",
       "      <td>&lt;NA&gt;</td>\n",
       "      <td>J</td>\n",
       "      <td>A-or-blank</td>\n",
       "    </tr>\n",
       "    <tr>\n",
       "      <th>96</th>\n",
       "      <td>simulated_name_dob_reference_file_96</td>\n",
       "      <td>026-33-0492</td>\n",
       "      <td>Mary</td>\n",
       "      <td>Ava</td>\n",
       "      <td>Kim</td>\n",
       "      <td>89042</td>\n",
       "      <td>5.0</td>\n",
       "      <td>1932.0</td>\n",
       "      <td>13.0</td>\n",
       "      <td>Mary</td>\n",
       "      <td>...</td>\n",
       "      <td>Ma</td>\n",
       "      <td>Ki</td>\n",
       "      <td>Mar</td>\n",
       "      <td>Kim</td>\n",
       "      <td>MARY</td>\n",
       "      <td>Y650</td>\n",
       "      <td>CAN</td>\n",
       "      <td>M200</td>\n",
       "      <td>M</td>\n",
       "      <td>K</td>\n",
       "    </tr>\n",
       "    <tr>\n",
       "      <th>97</th>\n",
       "      <td>simulated_name_dob_reference_file_97</td>\n",
       "      <td>241-67-8455</td>\n",
       "      <td>Leonor</td>\n",
       "      <td>Mary</td>\n",
       "      <td>Corbeil</td>\n",
       "      <td>89043</td>\n",
       "      <td>6.0</td>\n",
       "      <td>1932.0</td>\n",
       "      <td>25.0</td>\n",
       "      <td>Leonor</td>\n",
       "      <td>...</td>\n",
       "      <td>Le</td>\n",
       "      <td>Co</td>\n",
       "      <td>Leo</td>\n",
       "      <td>Cor</td>\n",
       "      <td>LANAR</td>\n",
       "      <td>R540</td>\n",
       "      <td>CARBAL</td>\n",
       "      <td>L162</td>\n",
       "      <td>L</td>\n",
       "      <td>C</td>\n",
       "    </tr>\n",
       "    <tr>\n",
       "      <th>98</th>\n",
       "      <td>simulated_name_dob_reference_file_98</td>\n",
       "      <td>155-04-8793</td>\n",
       "      <td>Roy</td>\n",
       "      <td>Thomas</td>\n",
       "      <td>Strachotz</td>\n",
       "      <td>105576</td>\n",
       "      <td>7.0</td>\n",
       "      <td>1932.0</td>\n",
       "      <td>1.0</td>\n",
       "      <td>Roy</td>\n",
       "      <td>...</td>\n",
       "      <td>Ro</td>\n",
       "      <td>St</td>\n",
       "      <td>Roy</td>\n",
       "      <td>Str</td>\n",
       "      <td>RY</td>\n",
       "      <td>Y600</td>\n",
       "      <td>STRACAT</td>\n",
       "      <td>Z326</td>\n",
       "      <td>R</td>\n",
       "      <td>S</td>\n",
       "    </tr>\n",
       "    <tr>\n",
       "      <th>99</th>\n",
       "      <td>simulated_name_dob_reference_file_99</td>\n",
       "      <td>223-57-6668</td>\n",
       "      <td>Connie</td>\n",
       "      <td>Beverly</td>\n",
       "      <td>Landry</td>\n",
       "      <td>106367</td>\n",
       "      <td>7.0</td>\n",
       "      <td>1932.0</td>\n",
       "      <td>6.0</td>\n",
       "      <td>Connie</td>\n",
       "      <td>...</td>\n",
       "      <td>Co</td>\n",
       "      <td>La</td>\n",
       "      <td>Con</td>\n",
       "      <td>Lan</td>\n",
       "      <td>CANY</td>\n",
       "      <td>E520</td>\n",
       "      <td>LANDRY</td>\n",
       "      <td>Y635</td>\n",
       "      <td>C</td>\n",
       "      <td>L</td>\n",
       "    </tr>\n",
       "  </tbody>\n",
       "</table>\n",
       "<p>100 rows × 24 columns</p>\n",
       "</div>"
      ],
      "text/plain": [
       "                               record_id          ssn first_name middle_name  \\\n",
       "0    simulated_name_dob_reference_file_0  685-77-0916      Betty      Audrey   \n",
       "1    simulated_name_dob_reference_file_1  765-44-4521      Ethep       Nancy   \n",
       "2    simulated_name_dob_reference_file_2  765-44-4521      Ethep       Nancy   \n",
       "3    simulated_name_dob_reference_file_3  726-57-2168  Josephine    Margaret   \n",
       "4    simulated_name_dob_reference_file_4  365-44-3027      Betty        Mary   \n",
       "..                                   ...          ...        ...         ...   \n",
       "95  simulated_name_dob_reference_file_95  751-96-8435    Juanita       Betty   \n",
       "96  simulated_name_dob_reference_file_96  026-33-0492       Mary         Ava   \n",
       "97  simulated_name_dob_reference_file_97  241-67-8455     Leonor        Mary   \n",
       "98  simulated_name_dob_reference_file_98  155-04-8793        Roy      Thomas   \n",
       "99  simulated_name_dob_reference_file_99  223-57-6668     Connie     Beverly   \n",
       "\n",
       "    last_name     pik  month_of_birth  year_of_birth  day_of_birth  \\\n",
       "0        Keel  105906            12.0         1922.0           5.0   \n",
       "1     Collier  104653             NaN            NaN           NaN   \n",
       "2     Collier  104653             2.0         1923.0          13.0   \n",
       "3      Babbie  106223             7.0         1923.0          28.0   \n",
       "4        None  107896             8.0         1923.0           9.0   \n",
       "..        ...     ...             ...            ...           ...   \n",
       "95       None  105939             9.0         1932.0           5.0   \n",
       "96        Kim   89042             5.0         1932.0          13.0   \n",
       "97    Corbeil   89043             6.0         1932.0          25.0   \n",
       "98  Strachotz  105576             7.0         1932.0           1.0   \n",
       "99     Landry  106367             7.0         1932.0           6.0   \n",
       "\n",
       "   first_name_15  ... first_name_2 last_name_2 first_name_3 last_name_3  \\\n",
       "0          Betty  ...           Be          Ke          Bet         Kee   \n",
       "1          Ethep  ...           Et          Co          Eth         Col   \n",
       "2          Ethep  ...           Et          Co          Eth         Col   \n",
       "3      Josephine  ...           Jo          Ba          Jos         Bab   \n",
       "4          Betty  ...           Be        None          Bet        None   \n",
       "..           ...  ...          ...         ...          ...         ...   \n",
       "95       Juanita  ...           Ju        None          Jua        None   \n",
       "96          Mary  ...           Ma          Ki          Mar         Kim   \n",
       "97        Leonor  ...           Le          Co          Leo         Cor   \n",
       "98           Roy  ...           Ro          St          Roy         Str   \n",
       "99        Connie  ...           Co          La          Con         Lan   \n",
       "\n",
       "   first_name_nysiis first_name_reverse_soundex last_name_nysiis  \\\n",
       "0               BATY                       Y310              CAL   \n",
       "1               ETAP                       P300            CALAR   \n",
       "2               ETAP                       P300            CALAR   \n",
       "3            JASAFAN                       E512             BABY   \n",
       "4               BATY                       Y310             <NA>   \n",
       "..               ...                        ...              ...   \n",
       "95             JANAT                       A352             <NA>   \n",
       "96              MARY                       Y650              CAN   \n",
       "97             LANAR                       R540           CARBAL   \n",
       "98                RY                       Y600          STRACAT   \n",
       "99              CANY                       E520           LANDRY   \n",
       "\n",
       "   last_name_reverse_soundex first_initial_cut last_initial_cut  \n",
       "0                       L200                 B                K  \n",
       "1                       R420                 E                C  \n",
       "2                       R420                 E                C  \n",
       "3                       E110                 J                B  \n",
       "4                       <NA>                 B       A-or-blank  \n",
       "..                       ...               ...              ...  \n",
       "95                      <NA>                 J       A-or-blank  \n",
       "96                      M200                 M                K  \n",
       "97                      L162                 L                C  \n",
       "98                      Z326                 R                S  \n",
       "99                      Y635                 C                L  \n",
       "\n",
       "[100 rows x 24 columns]"
      ]
     },
     "execution_count": 45,
     "metadata": {},
     "output_type": "execute_result"
    }
   ],
   "source": [
    "df_ops.head(name_dob_reference_file, n=100)"
   ]
  },
  {
   "cell_type": "code",
   "execution_count": 46,
   "id": "c3d4ebae-cf4c-45be-a7d7-db4062407e68",
   "metadata": {
    "execution": {
     "iopub.execute_input": "2024-02-12T19:21:05.417845Z",
     "iopub.status.busy": "2024-02-12T19:21:05.417554Z",
     "iopub.status.idle": "2024-02-12T19:21:05.424624Z",
     "shell.execute_reply": "2024-02-12T19:21:05.423679Z"
    },
    "papermill": {
     "duration": 0.041841,
     "end_time": "2024-02-12T19:21:05.426507",
     "exception": false,
     "start_time": "2024-02-12T19:21:05.384666",
     "status": "completed"
    },
    "tags": []
   },
   "outputs": [
    {
     "data": {
      "text/plain": [
       "0.09227672955974843"
      ]
     },
     "execution_count": 46,
     "metadata": {},
     "output_type": "execute_result"
    }
   ],
   "source": [
    "df_ops.compute(name_dob_reference_file.year_of_birth.isna().mean())"
   ]
  },
  {
   "cell_type": "code",
   "execution_count": 47,
   "id": "73a64260-0815-456a-9166-10b7be194d02",
   "metadata": {
    "execution": {
     "iopub.execute_input": "2024-02-12T19:21:05.490775Z",
     "iopub.status.busy": "2024-02-12T19:21:05.490485Z",
     "iopub.status.idle": "2024-02-12T19:21:05.494457Z",
     "shell.execute_reply": "2024-02-12T19:21:05.493445Z"
    },
    "papermill": {
     "duration": 0.0384,
     "end_time": "2024-02-12T19:21:05.496313",
     "exception": false,
     "start_time": "2024-02-12T19:21:05.457913",
     "status": "completed"
    },
    "tags": []
   },
   "outputs": [],
   "source": [
    "# df_ops.to_parquet(name_dob_reference_file, f'{intermediate_data_dir}/name_dob_reference_file_prepped.parquet')"
   ]
  },
  {
   "cell_type": "markdown",
   "id": "57a115b7-6215-4bcf-8444-ef2223040a02",
   "metadata": {
    "papermill": {
     "duration": 0.03058,
     "end_time": "2024-02-12T19:21:05.558188",
     "exception": false,
     "start_time": "2024-02-12T19:21:05.527608",
     "status": "completed"
    },
    "tags": []
   },
   "source": [
    "# Emulate Multi-Match with splink\n",
    "\n",
    "Wagner and Layne, p. 8:\n",
    "\n",
    "> The PVS employs its probabilistic record linkage software, Multi-Match (Wagner\n",
    "2012), as an integral part of the PVS.\n",
    "\n",
    "Wagner and Layne, p. 12:\n",
    "\n",
    "> PVS uses the same Multi-Match engine for each probabilistic search type. For each\n",
    "search module the analyst defines a parameter file, which is passed to Multi-Match. The\n",
    "parameter file includes threshold value(s) for the number of passes, blocking keys, and\n",
    "within each pass, the match variables, match comparison type, and matching weights...\n",
    ">\n",
    "> Records must first match exactly on the blocking keys before any comparisons\n",
    "between the match variables are attempted. Each match variable is given an\n",
    "m and\n",
    "u\n",
    "probability, which is translated by MultiMatch as agreement and disagreement weights.\n",
    "The sum of all match variable comparison weights for a record pair is the composite\n",
    "weight. All record pairs with a composite weight greater than or equal to the threshold\n",
    "set in the parameter file are linked, and the records from the incoming file for these\n",
    "linked cases are excluded from all remaining passes. All Numident records are always\n",
    "available for linking in every pass. Any record missing data for any of the blocking fields\n",
    "for a pass skips that pass and moves to the next pass.\n",
    "\n",
    "[splink](https://github.com/moj-analytical-services/splink) is similar to Multi-Match\n",
    "(both are based on the Fellegi-Sunter approach to record linkage).\n",
    "It also implements:\n",
    "- Exact blocking on specified keys\n",
    "- Determining overall match probability based on conditional independence of individual field comparisons\n",
    "  (it is equivalent to multiply the probability ratios, or sum the logarithmic \"weights\" as Multi-Match describes it),\n",
    "  which each have m and u probabilities\n",
    "- Setting a match threshold\n",
    "\n",
    "However, splink does not include some additional logic built into Multi-Match,\n",
    "specifically the ability to run multiple \"passes,\" removing linked records from\n",
    "subsequent passes.\n",
    "We have to implement that ourselves, calling splink again in each pass."
   ]
  },
  {
   "cell_type": "markdown",
   "id": "3a52fa1a-85ca-4a5a-a978-08e43c5b9eb0",
   "metadata": {
    "papermill": {
     "duration": 0.030797,
     "end_time": "2024-02-12T19:21:05.619793",
     "exception": false,
     "start_time": "2024-02-12T19:21:05.588996",
     "status": "completed"
    },
    "tags": []
   },
   "source": [
    "## Estimate parameters (lambda, m, u) once for all modules\n",
    "\n",
    "In Multi-Match, there is no lambda (prior probability of a link, before any comparisons are observed).\n",
    "This is because Multi-Match works entirely in weight space, and sets different weight thresholds\n",
    "in different modules/passes instead of changing the prior probability.\n",
    "\n",
    "In Multi-Match parameters are not directly estimated from the data.\n",
    "They are primarily set manually by analysts, with a different set of parameter files\n",
    "maintained for each type of input file (e.g. survey, administrative).\n",
    "\n",
    "All parameters except lambda are column-level parameters.\n",
    "We estimate the column-level parameters using the GeoBase Reference File,\n",
    "since it has all columns that are used for matching with any reference file.\n",
    "\n",
    "We estimate lambda (manually, see below) separately by reference file,\n",
    "since the number of records is different between the reference files but\n",
    "the size of the underlying population (people we are trying to match) is constant."
   ]
  },
  {
   "cell_type": "markdown",
   "id": "0f5283ef-c44f-4a19-9f58-a0d091697f1a",
   "metadata": {
    "papermill": {
     "duration": 0.032138,
     "end_time": "2024-02-12T19:21:05.682666",
     "exception": false,
     "start_time": "2024-02-12T19:21:05.650528",
     "status": "completed"
    },
    "tags": []
   },
   "source": [
    "### lambda (prior probability of a match)\n",
    "\n",
    "Splink has a built-in method (estimate_probability_two_random_records_match)\n",
    "for estimating this, but it did not seem to give me reasonable estimates.\n",
    "\n",
    "We just make an informed guess here based on how much overlap we expect\n",
    "in the files, how much unintentional duplication we expect in the files (e.g. someone\n",
    "being enumerated twice), how much *intentional* duplication we have in the\n",
    "files (e.g. a record for each nickname variant), and some simplifying assumptions.\n",
    "\n",
    "Our assumptions:\n",
    "- 5% of the enumerations in the CUF are unintentional duplicates\n",
    "- 0.5% of the PIKs in the reference file are unintentional duplicates\n",
    "  (that same person is also represented with a different PIK)\n",
    "- 90% of the people in the CUF are represented in the reference files\n",
    "- Being represented in both files is independent of being unintentionally\n",
    "  or intentionally duplicated\n",
    "- Being intentionally duplicated in one file is independent of being intentionally\n",
    "  duplicated in the other (likely not true since having a name with lots of variants\n",
    "  would cause intentional duplicates in both)\n",
    "\n",
    "We do this first (before m and u probabilities) because having lambda estimated is\n",
    "useful to the EM algorithm for estimating m and u."
   ]
  },
  {
   "cell_type": "code",
   "execution_count": 48,
   "id": "9e179c13-03b3-4100-81d7-5db54c05c371",
   "metadata": {
    "execution": {
     "iopub.execute_input": "2024-02-12T19:21:05.747258Z",
     "iopub.status.busy": "2024-02-12T19:21:05.746440Z",
     "iopub.status.idle": "2024-02-12T19:21:05.765719Z",
     "shell.execute_reply": "2024-02-12T19:21:05.764755Z"
    },
    "papermill": {
     "duration": 0.053005,
     "end_time": "2024-02-12T19:21:05.767622",
     "exception": false,
     "start_time": "2024-02-12T19:21:05.714617",
     "status": "completed"
    },
    "tags": []
   },
   "outputs": [
    {
     "data": {
      "text/plain": [
       "1.4225305711259186e-05"
      ]
     },
     "execution_count": 48,
     "metadata": {},
     "output_type": "execute_result"
    }
   ],
   "source": [
    "def estimate_number_true_matches(input_file, reference_file):\n",
    "    people_represented_in_input_file = (\n",
    "        len(df_ops.drop_duplicates(input_file[['record_id_raw_input_file']])) * 0.95\n",
    "    )\n",
    "    people_represented_in_reference_file = (\n",
    "        len(df_ops.drop_duplicates(reference_file[['pik']])) * 0.995\n",
    "    )\n",
    "    people_represented_in_both = people_represented_in_input_file * 0.9\n",
    "\n",
    "    # Assuming independence conditions as noted above, the number of true\n",
    "    # matches that should be found for *each* true person is the expected number\n",
    "    # of records in one file times the expected number of records in the other\n",
    "    input_file_records_per_person = people_represented_in_input_file / len(input_file)\n",
    "    reference_file_records_per_person = people_represented_in_reference_file / len(reference_file)\n",
    "    record_matches_per_person = input_file_records_per_person * reference_file_records_per_person\n",
    "\n",
    "    return people_represented_in_both * record_matches_per_person\n",
    "\n",
    "def probability_two_random_records_match(input_file, reference_file):\n",
    "    cartesian_product = len(input_file) * len(reference_file)\n",
    "    if cartesian_product == 0:\n",
    "        # Does not matter\n",
    "        return 0.5\n",
    "\n",
    "    return (\n",
    "        estimate_number_true_matches(input_file, reference_file) /\n",
    "        cartesian_product\n",
    "    )\n",
    "\n",
    "probability_two_random_records_match(census_2030, geobase_reference_file)"
   ]
  },
  {
   "cell_type": "markdown",
   "id": "2d798575-22de-4515-942c-60ecc0dbe3a0",
   "metadata": {
    "papermill": {
     "duration": 0.031468,
     "end_time": "2024-02-12T19:21:05.830029",
     "exception": false,
     "start_time": "2024-02-12T19:21:05.798561",
     "status": "completed"
    },
    "tags": []
   },
   "source": [
    "### m and u probabilities"
   ]
  },
  {
   "cell_type": "code",
   "execution_count": 49,
   "id": "4d17327f-bf5d-48dd-91ef-602aced3b2aa",
   "metadata": {
    "execution": {
     "iopub.execute_input": "2024-02-12T19:21:05.893736Z",
     "iopub.status.busy": "2024-02-12T19:21:05.893213Z",
     "iopub.status.idle": "2024-02-12T19:21:05.900798Z",
     "shell.execute_reply": "2024-02-12T19:21:05.899877Z"
    },
    "papermill": {
     "duration": 0.041462,
     "end_time": "2024-02-12T19:21:05.902663",
     "exception": false,
     "start_time": "2024-02-12T19:21:05.861201",
     "status": "completed"
    },
    "tags": []
   },
   "outputs": [
    {
     "data": {
      "text/plain": [
       "['record_id',\n",
       " 'first_name',\n",
       " 'middle_initial',\n",
       " 'last_name',\n",
       " 'street_number',\n",
       " 'street_name',\n",
       " 'unit_number',\n",
       " 'city',\n",
       " 'state',\n",
       " 'zipcode',\n",
       " 'month_of_birth',\n",
       " 'year_of_birth',\n",
       " 'day_of_birth',\n",
       " 'geokey',\n",
       " 'geokey_for_blocking',\n",
       " 'street_number_for_blocking',\n",
       " 'street_name_for_blocking',\n",
       " 'first_name_15',\n",
       " 'last_name_12',\n",
       " 'first_name_1',\n",
       " 'last_name_1',\n",
       " 'first_name_2',\n",
       " 'last_name_2',\n",
       " 'first_name_3',\n",
       " 'last_name_3',\n",
       " 'first_name_nysiis',\n",
       " 'first_name_reverse_soundex',\n",
       " 'last_name_nysiis',\n",
       " 'last_name_reverse_soundex',\n",
       " 'street_name_for_blocking_soundex',\n",
       " 'zip3',\n",
       " 'first_initial_cut',\n",
       " 'last_initial_cut']"
      ]
     },
     "execution_count": 49,
     "metadata": {},
     "output_type": "execute_result"
    }
   ],
   "source": [
    "common_cols = [c for c in census_2030.columns if c in geobase_reference_file.columns or c in name_dob_reference_file.columns]\n",
    "common_cols"
   ]
  },
  {
   "cell_type": "code",
   "execution_count": 50,
   "id": "07e5cd59-59c0-4ef5-bcba-f7168f7492fd",
   "metadata": {
    "execution": {
     "iopub.execute_input": "2024-02-12T19:21:05.965139Z",
     "iopub.status.busy": "2024-02-12T19:21:05.964614Z",
     "iopub.status.idle": "2024-02-12T19:21:05.973716Z",
     "shell.execute_reply": "2024-02-12T19:21:05.972846Z"
    },
    "papermill": {
     "duration": 0.042534,
     "end_time": "2024-02-12T19:21:05.975630",
     "exception": false,
     "start_time": "2024-02-12T19:21:05.933096",
     "status": "completed"
    },
    "tags": []
   },
   "outputs": [],
   "source": [
    "if splink_engine == 'spark':\n",
    "    # https://moj-analytical-services.github.io/splink/demos/examples/spark/deduplicate_1k_synthetic.html\n",
    "    from splink.spark.jar_location import similarity_jar_location\n",
    "\n",
    "    from pyspark import SparkContext, SparkConf\n",
    "    from pyspark.sql import SparkSession\n",
    "    from pyspark.sql import types\n",
    "\n",
    "    conf = SparkConf()\n",
    "    conf.setMaster(os.getenv(\"LINKER_SPARK_MASTER_URL\", spark_master_url))\n",
    "    conf.set(\"spark.driver.memory\", \"8g\")\n",
    "    conf.set(\"spark.executor.instances\", spark_num_workers)\n",
    "    conf.set(\"spark.executor.cores\", 1)\n",
    "    conf.set(\"spark.executor.memory\", f\"{spark_memory_per_worker - spark_worker_memory_overhead_mb}m\")\n",
    "\n",
    "    conf.set(\"spark.sql.shuffle.partitions\", spark_num_workers * 5)\n",
    "    conf.set(\"spark.default.parallelism\", spark_num_workers * 5)\n",
    "\n",
    "    # Add custom similarity functions, which are bundled with Splink\n",
    "    # documented here: https://github.com/moj-analytical-services/splink_scalaudfs\n",
    "    path = similarity_jar_location()\n",
    "    conf.set(\"spark.jars\", path)\n",
    "\n",
    "    sc = SparkContext.getOrCreate(conf=conf)\n",
    "\n",
    "    spark = SparkSession(sc)\n",
    "    checkpoints_dir = f\"{output_dir}/tmpCheckpoints\"\n",
    "    utils.ensure_empty(checkpoints_dir)\n",
    "    spark.sparkContext.setCheckpointDir(checkpoints_dir)"
   ]
  },
  {
   "cell_type": "code",
   "execution_count": 51,
   "id": "c39465e9-edee-4a73-ac63-c4f060013a00",
   "metadata": {
    "execution": {
     "iopub.execute_input": "2024-02-12T19:21:06.074329Z",
     "iopub.status.busy": "2024-02-12T19:21:06.073748Z",
     "iopub.status.idle": "2024-02-12T19:21:06.149158Z",
     "shell.execute_reply": "2024-02-12T19:21:06.148110Z"
    },
    "papermill": {
     "duration": 0.145088,
     "end_time": "2024-02-12T19:21:06.151597",
     "exception": false,
     "start_time": "2024-02-12T19:21:06.006509",
     "status": "completed"
    },
    "tags": []
   },
   "outputs": [],
   "source": [
    "def prep_table_for_splink(df, dataset_name, columns):\n",
    "    result = (\n",
    "        df[[c for c in df.columns if c in columns]]\n",
    "            .assign(dataset_name=dataset_name)\n",
    "    )\n",
    "    if compute_engine == 'pandas' or splink_engine == 'duckdb':\n",
    "        # Needs to all be in one process anyway\n",
    "        return df_ops.compute(result)\n",
    "    else:\n",
    "        utils.ensure_empty(f'{intermediate_data_dir}/for_splink/{dataset_name}')\n",
    "        file_path = f'{intermediate_data_dir}/for_splink/{dataset_name}/{dataset_name}_{int(time.time())}.parquet'\n",
    "        df_ops.to_parquet(result, file_path, wait=True)\n",
    "        assert splink_engine == 'spark'\n",
    "        return spark.read.parquet(file_path)\n",
    "\n",
    "if len(geobase_reference_file) > 1_000_000:\n",
    "    geobase_reference_file_for_training = geobase_reference_file.sample(frac=(1_000_000/len(geobase_reference_file)), random_state=1234)\n",
    "else:\n",
    "    geobase_reference_file_for_training = geobase_reference_file\n",
    "\n",
    "if len(census_2030) > 1_000_000:\n",
    "    census_2030_for_training = census_2030.sample(frac=(1_000_000/len(census_2030)), random_state=1234)\n",
    "else:\n",
    "    census_2030_for_training = census_2030\n",
    "\n",
    "utils.ensure_empty(f'{intermediate_data_dir}/for_splink/')\n",
    "tables_for_splink = [\n",
    "    prep_table_for_splink(geobase_reference_file_for_training, \"geobase_reference_file\", common_cols),\n",
    "    prep_table_for_splink(census_2030_for_training, \"census_2030\", common_cols)\n",
    "]"
   ]
  },
  {
   "cell_type": "markdown",
   "id": "df02a447-eed8-470d-8487-1954c046bebd",
   "metadata": {
    "papermill": {
     "duration": 0.032041,
     "end_time": "2024-02-12T19:21:06.215904",
     "exception": false,
     "start_time": "2024-02-12T19:21:06.183863",
     "status": "completed"
    },
    "tags": []
   },
   "source": [
    "#### Define comparison variables and levels\n",
    "\n",
    "**Variables**\n",
    "\n",
    "The most recent report, from 2023 (Brown et al., p. 29), says:\n",
    "\n",
    "> [In] GeoSearch... The typical matching variables are name, DOB, sex, and\n",
    "  various address fields...\n",
    ">\n",
    "> NameSearch... uses only name and DOB fields...\n",
    "> \n",
    "> DOBSearch... compares name, sex, and DOB...\n",
    "> \n",
    "> the Household Composition search module... attempts to find a match... based on name and DOB information\n",
    "\n",
    "So, the total list: name, DOB, sex, and \"various address fields.\"\n",
    "These address fields are listed in the PVS report (p. 34) which is admittedly from 2011:\n",
    "\n",
    "> variables used directly in matching the input file with the reference files [include]...\n",
    "> street name, street name prefix and suffix, house number, rural route and box, and ZIP code\n",
    "\n",
    "**Comparisons**\n",
    "\n",
    "Massey et al. footnote 2: \n",
    "> The PVS string comparator was developed by Winkler (1995) and measures the distance\n",
    "  between two strings on a scale from 0 to 900, where a distance score of 0 is given if\n",
    "  there is no similarity between two text strings and a score of 900 is given for an exact match.\n",
    "  The cutoff value for the string distance is set to 750 in the Name Search module.\n",
    "\n",
    "Massey and O'Hara, p. 6 footnote 7:\n",
    "> For the comparison of text strings, a prorated value\n",
    "  between the chosen agreement score and chosen disagreement score is given depending on the Jaro-Winkler\n",
    "  distance between the string in the input file and reference file.\n",
    "\n",
    "Massey et al.:\n",
    "> For numeric variables, such as year of birth, a maximum acceptable difference\n",
    "> between the variable value in the input and reference record is set. This also\n",
    "> allows for creation of an interval, or band, around year of birth to permit\n",
    "> inexact matches. Within this band, prorated agreement and disagreement weights\n",
    "> are assigned depending on the similarity of year of birth.\n",
    "\n",
    "The \"maximum acceptable distance\" implies that the m probability beyond that distance is\n",
    "zero; such pairs should never be linked.\n",
    "\n",
    "Note that this continuous \"prorated value,\" as opposed to categorizing comparison levels,\n",
    "is not possible in splink and goes outside the traditional F-S framing of m and u probabilities!\n",
    "We omit it for now."
   ]
  },
  {
   "cell_type": "code",
   "execution_count": 52,
   "id": "367d9ac2-eba6-48b9-a10c-7f3515adcf7f",
   "metadata": {
    "execution": {
     "iopub.execute_input": "2024-02-12T19:21:06.281548Z",
     "iopub.status.busy": "2024-02-12T19:21:06.280551Z",
     "iopub.status.idle": "2024-02-12T19:21:09.116661Z",
     "shell.execute_reply": "2024-02-12T19:21:09.115069Z"
    },
    "papermill": {
     "duration": 2.871388,
     "end_time": "2024-02-12T19:21:09.118896",
     "exception": false,
     "start_time": "2024-02-12T19:21:06.247508",
     "status": "completed"
    },
    "tags": []
   },
   "outputs": [],
   "source": [
    "if splink_engine == 'duckdb':\n",
    "    from splink.duckdb.comparison_library import (\n",
    "        exact_match,\n",
    "        jaro_winkler_at_thresholds,\n",
    "    )\n",
    "    import splink.duckdb.comparison_level_library as cll\n",
    "elif splink_engine == 'spark':\n",
    "    from splink.spark.comparison_library import (\n",
    "        exact_match,\n",
    "        jaro_winkler_at_thresholds,\n",
    "    )\n",
    "    import splink.spark.comparison_level_library as cll\n",
    "\n",
    "def numeric_column_comparison(col_name, human_name, maximum_inexact_match_difference):\n",
    "    return {\n",
    "        \"output_column_name\": col_name,\n",
    "        \"comparison_description\": human_name,\n",
    "        \"comparison_levels\": [\n",
    "            cll.null_level(col_name),\n",
    "            cll.exact_match_level(col_name),\n",
    "            {\n",
    "                \"sql_condition\": f\"abs({col_name}_l - {col_name}_r) <= {maximum_inexact_match_difference}\",\n",
    "                \"label_for_charts\": \"Inexact match\",\n",
    "            },\n",
    "            cll.else_level(),\n",
    "        ],\n",
    "    }\n",
    "\n",
    "numeric_columns = [\"day_of_birth\", \"month_of_birth\", \"year_of_birth\"]\n",
    "\n",
    "settings = {\n",
    "    \"link_type\": \"link_only\",\n",
    "    \"comparisons\": [\n",
    "        jaro_winkler_at_thresholds(\"first_name_15\", 750 / 900),\n",
    "        jaro_winkler_at_thresholds(\"last_name_12\", 750 / 900),\n",
    "        exact_match(\"middle_initial\"),\n",
    "        numeric_column_comparison(\"day_of_birth\", \"Day of birth\", maximum_inexact_match_difference=5),\n",
    "        numeric_column_comparison(\"month_of_birth\", \"Month of birth\", maximum_inexact_match_difference=3),\n",
    "        numeric_column_comparison(\"year_of_birth\", \"Year of birth\", maximum_inexact_match_difference=5),\n",
    "        # HACK: I believe that PVS compares each part of the geokey separately (though I'm\n",
    "        # not sure what the thresholds would be).\n",
    "        # However, these columns grossly violate conditional independence, so are difficult to\n",
    "        # estimate parameters for via EM.\n",
    "        # As a workaround, we just compare the entire geokey.\n",
    "        # jaro_winkler_at_thresholds(\"street_number\", 750 / 900),\n",
    "        # jaro_winkler_at_thresholds(\"street_name\", 750 / 900),\n",
    "        # jaro_winkler_at_thresholds(\"unit_number\", 750 / 900),\n",
    "        # jaro_winkler_at_thresholds(\"zipcode\", 750 / 900),\n",
    "        jaro_winkler_at_thresholds(\"geokey\", 650 / 900),\n",
    "    ],\n",
    "    \"probability_two_random_records_match\": probability_two_random_records_match(census_2030, geobase_reference_file),\n",
    "    \"unique_id_column_name\": \"record_id\",\n",
    "    # Not sure exactly what this does, but it is necessary for some of the fancier graphs below\n",
    "    \"retain_intermediate_calculation_columns\": True,\n",
    "}\n",
    "\n",
    "if splink_engine == 'duckdb':\n",
    "    from splink.duckdb.linker import DuckDBLinker\n",
    "\n",
    "    linker = DuckDBLinker(\n",
    "        tables_for_splink,\n",
    "        settings,\n",
    "        input_table_aliases=[\"reference_file\", \"census_2030\"]\n",
    "    )\n",
    "elif splink_engine == 'spark':\n",
    "    from splink.spark.linker import SparkLinker\n",
    "    linker = SparkLinker(\n",
    "        tables_for_splink,\n",
    "        settings,\n",
    "        input_table_aliases=[\"reference_file\", \"census_2030\"],\n",
    "        spark=spark,\n",
    "    )\n",
    "\n",
    "    import warnings\n",
    "    # PySpark triggers a lot of Pandas warnings\n",
    "    warnings.filterwarnings(\"ignore\", category=DeprecationWarning)\n",
    "    warnings.filterwarnings(\"ignore\", category=FutureWarning)"
   ]
  },
  {
   "cell_type": "markdown",
   "id": "8248795b-29ae-4f70-b0c8-1b466112c56e",
   "metadata": {
    "papermill": {
     "duration": 0.031678,
     "end_time": "2024-02-12T19:21:09.182316",
     "exception": false,
     "start_time": "2024-02-12T19:21:09.150638",
     "status": "completed"
    },
    "tags": []
   },
   "source": [
    "#### Estimate u probabilities\n",
    "\n",
    "This method seems to work well:\n",
    "- For almost all of the columns, an exact or even inexact match is relatively rare\n",
    "- Exact matches are common on ZIP code (makes sense, given our sample data is all in one ZIP)\n",
    "- Inexact matches are more common where you would expect (day and month of birth have highly constrained values)\n",
    "\n",
    "I have tested that this estimation is reproducible when run multiple times (with the same seed)."
   ]
  },
  {
   "cell_type": "code",
   "execution_count": 53,
   "id": "fbc1d82b-02d2-45df-b450-614623c41f5e",
   "metadata": {
    "execution": {
     "iopub.execute_input": "2024-02-12T19:21:09.248658Z",
     "iopub.status.busy": "2024-02-12T19:21:09.247617Z",
     "iopub.status.idle": "2024-02-12T19:21:13.698858Z",
     "shell.execute_reply": "2024-02-12T19:21:13.698374Z"
    },
    "papermill": {
     "duration": 4.485778,
     "end_time": "2024-02-12T19:21:13.699991",
     "exception": false,
     "start_time": "2024-02-12T19:21:09.214213",
     "status": "completed"
    },
    "tags": []
   },
   "outputs": [
    {
     "name": "stderr",
     "output_type": "stream",
     "text": [
      "----- Estimating u probabilities using random sampling -----\n"
     ]
    },
    {
     "data": {
      "application/vnd.jupyter.widget-view+json": {
       "model_id": "ac5bf8b41e9f4806ba22e518f25d9662",
       "version_major": 2,
       "version_minor": 0
      },
      "text/plain": [
       "FloatProgress(value=0.0, layout=Layout(width='auto'), style=ProgressStyle(bar_color='black'))"
      ]
     },
     "metadata": {},
     "output_type": "display_data"
    },
    {
     "name": "stderr",
     "output_type": "stream",
     "text": [
      "\n",
      "Estimated u probabilities using random sampling\n"
     ]
    },
    {
     "name": "stderr",
     "output_type": "stream",
     "text": [
      "\n",
      "Your model is not yet fully trained. Missing estimates for:\n",
      "    - first_name_15 (no m values are trained).\n",
      "    - last_name_12 (no m values are trained).\n",
      "    - middle_initial (no m values are trained).\n",
      "    - day_of_birth (no m values are trained).\n",
      "    - month_of_birth (no m values are trained).\n",
      "    - year_of_birth (no m values are trained).\n",
      "    - geokey (no m values are trained).\n"
     ]
    },
    {
     "name": "stdout",
     "output_type": "stream",
     "text": [
      "CPU times: user 8.34 s, sys: 49.4 ms, total: 8.39 s\n",
      "Wall time: 4.44 s\n"
     ]
    }
   ],
   "source": [
    "%%time\n",
    "\n",
    "linker.estimate_u_using_random_sampling(max_pairs=1e7, seed=1234)"
   ]
  },
  {
   "cell_type": "code",
   "execution_count": 54,
   "id": "a393ab32-1308-47c8-bab0-39d2b0cf6256",
   "metadata": {
    "execution": {
     "iopub.execute_input": "2024-02-12T19:21:13.746475Z",
     "iopub.status.busy": "2024-02-12T19:21:13.746254Z",
     "iopub.status.idle": "2024-02-12T19:21:15.242168Z",
     "shell.execute_reply": "2024-02-12T19:21:15.241328Z"
    },
    "papermill": {
     "duration": 1.519642,
     "end_time": "2024-02-12T19:21:15.243258",
     "exception": false,
     "start_time": "2024-02-12T19:21:13.723616",
     "status": "completed"
    },
    "tags": []
   },
   "outputs": [
    {
     "data": {
      "text/html": [
       "\n",
       "<style>\n",
       "  #altair-viz-78b8c097e342462bb897323353f72485.vega-embed {\n",
       "    width: 100%;\n",
       "    display: flex;\n",
       "  }\n",
       "\n",
       "  #altair-viz-78b8c097e342462bb897323353f72485.vega-embed details,\n",
       "  #altair-viz-78b8c097e342462bb897323353f72485.vega-embed details summary {\n",
       "    position: relative;\n",
       "  }\n",
       "</style>\n",
       "<div id=\"altair-viz-78b8c097e342462bb897323353f72485\"></div>\n",
       "<script type=\"text/javascript\">\n",
       "  var VEGA_DEBUG = (typeof VEGA_DEBUG == \"undefined\") ? {} : VEGA_DEBUG;\n",
       "  (function(spec, embedOpt){\n",
       "    let outputDiv = document.currentScript.previousElementSibling;\n",
       "    if (outputDiv.id !== \"altair-viz-78b8c097e342462bb897323353f72485\") {\n",
       "      outputDiv = document.getElementById(\"altair-viz-78b8c097e342462bb897323353f72485\");\n",
       "    }\n",
       "    const paths = {\n",
       "      \"vega\": \"https://cdn.jsdelivr.net/npm/vega@5?noext\",\n",
       "      \"vega-lib\": \"https://cdn.jsdelivr.net/npm/vega-lib?noext\",\n",
       "      \"vega-lite\": \"https://cdn.jsdelivr.net/npm/vega-lite@5.15.1?noext\",\n",
       "      \"vega-embed\": \"https://cdn.jsdelivr.net/npm/vega-embed@6?noext\",\n",
       "    };\n",
       "\n",
       "    function maybeLoadScript(lib, version) {\n",
       "      var key = `${lib.replace(\"-\", \"\")}_version`;\n",
       "      return (VEGA_DEBUG[key] == version) ?\n",
       "        Promise.resolve(paths[lib]) :\n",
       "        new Promise(function(resolve, reject) {\n",
       "          var s = document.createElement('script');\n",
       "          document.getElementsByTagName(\"head\")[0].appendChild(s);\n",
       "          s.async = true;\n",
       "          s.onload = () => {\n",
       "            VEGA_DEBUG[key] = version;\n",
       "            return resolve(paths[lib]);\n",
       "          };\n",
       "          s.onerror = () => reject(`Error loading script: ${paths[lib]}`);\n",
       "          s.src = paths[lib];\n",
       "        });\n",
       "    }\n",
       "\n",
       "    function showError(err) {\n",
       "      outputDiv.innerHTML = `<div class=\"error\" style=\"color:red;\">${err}</div>`;\n",
       "      throw err;\n",
       "    }\n",
       "\n",
       "    function displayChart(vegaEmbed) {\n",
       "      vegaEmbed(outputDiv, spec, embedOpt)\n",
       "        .catch(err => showError(`Javascript Error: ${err.message}<br>This usually means there's a typo in your chart specification. See the javascript console for the full traceback.`));\n",
       "    }\n",
       "\n",
       "    if(typeof define === \"function\" && define.amd) {\n",
       "      requirejs.config({paths});\n",
       "      require([\"vega-embed\"], displayChart, err => showError(`Error loading script: ${err.message}`));\n",
       "    } else {\n",
       "      maybeLoadScript(\"vega\", \"5\")\n",
       "        .then(() => maybeLoadScript(\"vega-lite\", \"5.15.1\"))\n",
       "        .then(() => maybeLoadScript(\"vega-embed\", \"6\"))\n",
       "        .catch(showError)\n",
       "        .then(() => displayChart(vegaEmbed));\n",
       "    }\n",
       "  })({\"config\": {\"view\": {\"continuousWidth\": 300, \"continuousHeight\": 300, \"discreteHeight\": 300, \"discreteWidth\": 400}, \"header\": {\"title\": null}, \"title\": {\"anchor\": \"middle\", \"offset\": 10}}, \"hconcat\": [{\"mark\": \"bar\", \"encoding\": {\"color\": {\"value\": \"green\"}, \"row\": {\"field\": \"comparison_name\", \"header\": {\"labelAlign\": \"left\", \"labelAnchor\": \"middle\", \"labelAngle\": 0}, \"sort\": {\"field\": \"comparison_sort_order\"}, \"type\": \"nominal\"}, \"tooltip\": [{\"field\": \"m_probability_description\", \"title\": \"m probability description\", \"type\": \"nominal\"}, {\"field\": \"comparison_name\", \"title\": \"Comparison column name\", \"type\": \"nominal\"}, {\"field\": \"label_for_charts\", \"title\": \"Label\", \"type\": \"ordinal\"}, {\"field\": \"sql_condition\", \"title\": \"SQL condition\", \"type\": \"nominal\"}, {\"field\": \"m_probability\", \"format\": \".4p\", \"title\": \"m probability\", \"type\": \"quantitative\"}, {\"field\": \"u_probability\", \"format\": \".4p\", \"title\": \"u probability\", \"type\": \"quantitative\"}, {\"field\": \"bayes_factor\", \"format\": \",.4f\", \"title\": \"Bayes factor = m/u\", \"type\": \"quantitative\"}, {\"field\": \"log2_bayes_factor\", \"format\": \",.4f\", \"title\": \"Match weight = log2(m/u)\", \"type\": \"quantitative\"}], \"x\": {\"axis\": {\"title\": \"Proportion of record comparisons\"}, \"field\": \"m_probability\", \"type\": \"quantitative\"}, \"y\": {\"axis\": {\"title\": null}, \"field\": \"label_for_charts\", \"sort\": {\"field\": \"comparison_vector_value\", \"order\": \"descending\"}, \"type\": \"nominal\"}}, \"height\": {\"step\": 12}, \"resolve\": {\"scale\": {\"y\": \"independent\"}}, \"title\": {\"text\": \"Amongst matching record comparisons:\", \"fontSize\": 12, \"fontWeight\": \"bold\"}, \"transform\": [{\"filter\": \"(datum.bayes_factor != 'no-op filter due to vega lite issue 4680')\"}], \"width\": 150}, {\"mark\": \"bar\", \"encoding\": {\"color\": {\"value\": \"red\"}, \"row\": {\"field\": \"comparison_name\", \"header\": {\"labels\": false}, \"sort\": {\"field\": \"comparison_sort_order\"}, \"type\": \"nominal\"}, \"tooltip\": [{\"field\": \"u_probability_description\", \"title\": \"u probability description\", \"type\": \"nominal\"}, {\"field\": \"comparison_name\", \"title\": \"Comparison column name\", \"type\": \"nominal\"}, {\"field\": \"label_for_charts\", \"title\": \"Label\", \"type\": \"ordinal\"}, {\"field\": \"sql_condition\", \"title\": \"SQL condition\", \"type\": \"nominal\"}, {\"field\": \"m_probability\", \"format\": \".4p\", \"title\": \"m probability\", \"type\": \"quantitative\"}, {\"field\": \"u_probability\", \"format\": \".4p\", \"title\": \"u probability\", \"type\": \"quantitative\"}, {\"field\": \"bayes_factor\", \"format\": \",.4f\", \"title\": \"Bayes factor = m/u\", \"type\": \"quantitative\"}, {\"field\": \"log2_bayes_factor\", \"format\": \",.4f\", \"title\": \"Match weight = log2(m/u)\", \"type\": \"quantitative\"}], \"x\": {\"axis\": {\"title\": \"Proportion of record comparisons\"}, \"field\": \"u_probability\", \"type\": \"quantitative\"}, \"y\": {\"axis\": {\"title\": null}, \"field\": \"label_for_charts\", \"sort\": {\"field\": \"comparison_vector_value\", \"order\": \"descending\"}, \"type\": \"nominal\"}}, \"height\": {\"step\": 12}, \"resolve\": {\"scale\": {\"y\": \"independent\"}}, \"title\": {\"text\": \"Amongst non-matching record comparisons:\", \"fontSize\": 12, \"fontWeight\": \"bold\"}, \"transform\": [{\"filter\": \"(datum.bayes_factor != 'no-op filter2 due to vega lite issue 4680')\"}], \"width\": 150}], \"data\": {\"name\": \"data-afec9c80fc271b9372afbd423e444371\"}, \"title\": {\"text\": \"Proportion of record comparisons in each comparison level by match status\", \"subtitle\": \"(m and u probabilities)\"}, \"$schema\": \"https://vega.github.io/schema/vega-lite/v5.9.3.json\", \"datasets\": {\"data-afec9c80fc271b9372afbd423e444371\": [{\"comparison_name\": \"first_name_15\", \"sql_condition\": \"\\\"first_name_15_l\\\" = \\\"first_name_15_r\\\"\", \"label_for_charts\": \"Exact match\", \"m_probability\": 0.95, \"u_probability\": 0.0019154243869072766, \"m_probability_description\": \"Amongst matching record comparisons, 95.00% of records are in the exact match comparison level\", \"u_probability_description\": \"Amongst non-matching record comparisons, 0.19% of records are in the exact match comparison level\", \"has_tf_adjustments\": false, \"tf_adjustment_column\": null, \"tf_adjustment_weight\": 1.0, \"is_null_level\": false, \"bayes_factor\": 495.97363722298076, \"log2_bayes_factor\": 8.95411962801095, \"comparison_vector_value\": 2, \"max_comparison_vector_value\": 2, \"bayes_factor_description\": \"If comparison level is `exact match` then comparison is 495.97 times more likely to be a match\", \"probability_two_random_records_match\": 1.4225305711259186e-05, \"comparison_sort_order\": 0}, {\"comparison_name\": \"first_name_15\", \"sql_condition\": \"jaro_winkler_similarity(\\\"first_name_15_l\\\", \\\"first_name_15_r\\\") >= 0.8333333333333334\", \"label_for_charts\": \"Jaro_winkler_similarity >= 0.8333333333333334\", \"m_probability\": 0.025000000000000022, \"u_probability\": 0.003534009294465568, \"m_probability_description\": \"Amongst matching record comparisons, 2.50% of records are in the jaro_winkler_similarity >= 0.8333333333333334 comparison level\", \"u_probability_description\": \"Amongst non-matching record comparisons, 0.35% of records are in the jaro_winkler_similarity >= 0.8333333333333334 comparison level\", \"has_tf_adjustments\": false, \"tf_adjustment_column\": null, \"tf_adjustment_weight\": 1.0, \"is_null_level\": false, \"bayes_factor\": 7.074118350268985, \"log2_bayes_factor\": 2.8225503555836258, \"comparison_vector_value\": 1, \"max_comparison_vector_value\": 2, \"bayes_factor_description\": \"If comparison level is `jaro_winkler_similarity >= 0.8333333333333334` then comparison is 7.07 times more likely to be a match\", \"probability_two_random_records_match\": 1.4225305711259186e-05, \"comparison_sort_order\": 0}, {\"comparison_name\": \"first_name_15\", \"sql_condition\": \"ELSE\", \"label_for_charts\": \"All other comparisons\", \"m_probability\": 0.025000000000000022, \"u_probability\": 0.9945505663186271, \"m_probability_description\": \"Amongst matching record comparisons, 2.50% of records are in the all other comparisons comparison level\", \"u_probability_description\": \"Amongst non-matching record comparisons, 99.46% of records are in the all other comparisons comparison level\", \"has_tf_adjustments\": false, \"tf_adjustment_column\": null, \"tf_adjustment_weight\": 1.0, \"is_null_level\": false, \"bayes_factor\": 0.025136982318092308, \"log2_bayes_factor\": -5.314044724425061, \"comparison_vector_value\": 0, \"max_comparison_vector_value\": 2, \"bayes_factor_description\": \"If comparison level is `all other comparisons` then comparison is  39.78 times less likely to be a match\", \"probability_two_random_records_match\": 1.4225305711259186e-05, \"comparison_sort_order\": 0}, {\"comparison_name\": \"last_name_12\", \"sql_condition\": \"\\\"last_name_12_l\\\" = \\\"last_name_12_r\\\"\", \"label_for_charts\": \"Exact match\", \"m_probability\": 0.95, \"u_probability\": 0.0006988639102327646, \"m_probability_description\": \"Amongst matching record comparisons, 95.00% of records are in the exact match comparison level\", \"u_probability_description\": \"Amongst non-matching record comparisons, 0.07% of records are in the exact match comparison level\", \"has_tf_adjustments\": false, \"tf_adjustment_column\": null, \"tf_adjustment_weight\": 1.0, \"is_null_level\": false, \"bayes_factor\": 1359.349060797247, \"log2_bayes_factor\": 10.408700251156352, \"comparison_vector_value\": 2, \"max_comparison_vector_value\": 2, \"bayes_factor_description\": \"If comparison level is `exact match` then comparison is 1,359.35 times more likely to be a match\", \"probability_two_random_records_match\": 1.4225305711259186e-05, \"comparison_sort_order\": 1}, {\"comparison_name\": \"last_name_12\", \"sql_condition\": \"jaro_winkler_similarity(\\\"last_name_12_l\\\", \\\"last_name_12_r\\\") >= 0.8333333333333334\", \"label_for_charts\": \"Jaro_winkler_similarity >= 0.8333333333333334\", \"m_probability\": 0.025000000000000022, \"u_probability\": 0.0013365997755498443, \"m_probability_description\": \"Amongst matching record comparisons, 2.50% of records are in the jaro_winkler_similarity >= 0.8333333333333334 comparison level\", \"u_probability_description\": \"Amongst non-matching record comparisons, 0.13% of records are in the jaro_winkler_similarity >= 0.8333333333333334 comparison level\", \"has_tf_adjustments\": false, \"tf_adjustment_column\": null, \"tf_adjustment_weight\": 1.0, \"is_null_level\": false, \"bayes_factor\": 18.70417791273056, \"log2_bayes_factor\": 4.225288652741327, \"comparison_vector_value\": 1, \"max_comparison_vector_value\": 2, \"bayes_factor_description\": \"If comparison level is `jaro_winkler_similarity >= 0.8333333333333334` then comparison is 18.70 times more likely to be a match\", \"probability_two_random_records_match\": 1.4225305711259186e-05, \"comparison_sort_order\": 1}, {\"comparison_name\": \"last_name_12\", \"sql_condition\": \"ELSE\", \"label_for_charts\": \"All other comparisons\", \"m_probability\": 0.025000000000000022, \"u_probability\": 0.9979645363142174, \"m_probability_description\": \"Amongst matching record comparisons, 2.50% of records are in the all other comparisons comparison level\", \"u_probability_description\": \"Amongst non-matching record comparisons, 99.80% of records are in the all other comparisons comparison level\", \"has_tf_adjustments\": false, \"tf_adjustment_column\": null, \"tf_adjustment_weight\": 1.0, \"is_null_level\": false, \"bayes_factor\": 0.02505099038121387, \"log2_bayes_factor\": -5.318988548836413, \"comparison_vector_value\": 0, \"max_comparison_vector_value\": 2, \"bayes_factor_description\": \"If comparison level is `all other comparisons` then comparison is  39.92 times less likely to be a match\", \"probability_two_random_records_match\": 1.4225305711259186e-05, \"comparison_sort_order\": 1}, {\"comparison_name\": \"middle_initial\", \"sql_condition\": \"\\\"middle_initial_l\\\" = \\\"middle_initial_r\\\"\", \"label_for_charts\": \"Exact match\", \"m_probability\": 0.95, \"u_probability\": 0.07417855709636824, \"m_probability_description\": \"Amongst matching record comparisons, 95.00% of records are in the exact match comparison level\", \"u_probability_description\": \"Amongst non-matching record comparisons, 7.42% of records are in the exact match comparison level\", \"has_tf_adjustments\": false, \"tf_adjustment_column\": null, \"tf_adjustment_weight\": 1.0, \"is_null_level\": false, \"bayes_factor\": 12.806935551008603, \"log2_bayes_factor\": 3.6788534031775413, \"comparison_vector_value\": 1, \"max_comparison_vector_value\": 1, \"bayes_factor_description\": \"If comparison level is `exact match` then comparison is 12.81 times more likely to be a match\", \"probability_two_random_records_match\": 1.4225305711259186e-05, \"comparison_sort_order\": 2}, {\"comparison_name\": \"middle_initial\", \"sql_condition\": \"ELSE\", \"label_for_charts\": \"All other comparisons\", \"m_probability\": 0.050000000000000044, \"u_probability\": 0.9258214429036318, \"m_probability_description\": \"Amongst matching record comparisons, 5.00% of records are in the all other comparisons comparison level\", \"u_probability_description\": \"Amongst non-matching record comparisons, 92.58% of records are in the all other comparisons comparison level\", \"has_tf_adjustments\": false, \"tf_adjustment_column\": null, \"tf_adjustment_weight\": 1.0, \"is_null_level\": false, \"bayes_factor\": 0.054006094137532865, \"log2_bayes_factor\": -4.210733977203664, \"comparison_vector_value\": 0, \"max_comparison_vector_value\": 1, \"bayes_factor_description\": \"If comparison level is `all other comparisons` then comparison is  18.52 times less likely to be a match\", \"probability_two_random_records_match\": 1.4225305711259186e-05, \"comparison_sort_order\": 2}, {\"comparison_name\": \"day_of_birth\", \"sql_condition\": \"\\\"day_of_birth_l\\\" = \\\"day_of_birth_r\\\"\", \"label_for_charts\": \"Exact match\", \"m_probability\": 0.95, \"u_probability\": 0.032483267196893574, \"m_probability_description\": \"Amongst matching record comparisons, 95.00% of records are in the exact match comparison level\", \"u_probability_description\": \"Amongst non-matching record comparisons, 3.25% of records are in the exact match comparison level\", \"has_tf_adjustments\": false, \"tf_adjustment_column\": null, \"tf_adjustment_weight\": 1.0, \"is_null_level\": false, \"bayes_factor\": 29.24582660486966, \"log2_bayes_factor\": 4.870158860915603, \"comparison_vector_value\": 2, \"max_comparison_vector_value\": 2, \"bayes_factor_description\": \"If comparison level is `exact match` then comparison is 29.25 times more likely to be a match\", \"probability_two_random_records_match\": 1.4225305711259186e-05, \"comparison_sort_order\": 3}, {\"comparison_name\": \"day_of_birth\", \"sql_condition\": \"abs(day_of_birth_l - day_of_birth_r) <= 5\", \"label_for_charts\": \"Inexact match\", \"m_probability\": 0.025000000000000022, \"u_probability\": 0.2953114089616295, \"m_probability_description\": \"Amongst matching record comparisons, 2.50% of records are in the inexact match comparison level\", \"u_probability_description\": \"Amongst non-matching record comparisons, 29.53% of records are in the inexact match comparison level\", \"has_tf_adjustments\": false, \"tf_adjustment_column\": null, \"tf_adjustment_weight\": 1.0, \"is_null_level\": false, \"bayes_factor\": 0.08465639742096226, \"log2_bayes_factor\": -3.5622370941434274, \"comparison_vector_value\": 1, \"max_comparison_vector_value\": 2, \"bayes_factor_description\": \"If comparison level is `inexact match` then comparison is  11.81 times less likely to be a match\", \"probability_two_random_records_match\": 1.4225305711259186e-05, \"comparison_sort_order\": 3}, {\"comparison_name\": \"day_of_birth\", \"sql_condition\": \"ELSE\", \"label_for_charts\": \"All other comparisons\", \"m_probability\": 0.025000000000000022, \"u_probability\": 0.6722053238414769, \"m_probability_description\": \"Amongst matching record comparisons, 2.50% of records are in the all other comparisons comparison level\", \"u_probability_description\": \"Amongst non-matching record comparisons, 67.22% of records are in the all other comparisons comparison level\", \"has_tf_adjustments\": false, \"tf_adjustment_column\": null, \"tf_adjustment_weight\": 1.0, \"is_null_level\": false, \"bayes_factor\": 0.037191017555665264, \"log2_bayes_factor\": -4.748901968782899, \"comparison_vector_value\": 0, \"max_comparison_vector_value\": 2, \"bayes_factor_description\": \"If comparison level is `all other comparisons` then comparison is  26.89 times less likely to be a match\", \"probability_two_random_records_match\": 1.4225305711259186e-05, \"comparison_sort_order\": 3}, {\"comparison_name\": \"month_of_birth\", \"sql_condition\": \"\\\"month_of_birth_l\\\" = \\\"month_of_birth_r\\\"\", \"label_for_charts\": \"Exact match\", \"m_probability\": 0.95, \"u_probability\": 0.0832547076088129, \"m_probability_description\": \"Amongst matching record comparisons, 95.00% of records are in the exact match comparison level\", \"u_probability_description\": \"Amongst non-matching record comparisons, 8.33% of records are in the exact match comparison level\", \"has_tf_adjustments\": false, \"tf_adjustment_column\": null, \"tf_adjustment_weight\": 1.0, \"is_null_level\": false, \"bayes_factor\": 11.4107661570772, \"log2_bayes_factor\": 3.512323757145611, \"comparison_vector_value\": 2, \"max_comparison_vector_value\": 2, \"bayes_factor_description\": \"If comparison level is `exact match` then comparison is 11.41 times more likely to be a match\", \"probability_two_random_records_match\": 1.4225305711259186e-05, \"comparison_sort_order\": 4}, {\"comparison_name\": \"month_of_birth\", \"sql_condition\": \"abs(month_of_birth_l - month_of_birth_r) <= 3\", \"label_for_charts\": \"Inexact match\", \"m_probability\": 0.025000000000000022, \"u_probability\": 0.41938802504669287, \"m_probability_description\": \"Amongst matching record comparisons, 2.50% of records are in the inexact match comparison level\", \"u_probability_description\": \"Amongst non-matching record comparisons, 41.94% of records are in the inexact match comparison level\", \"has_tf_adjustments\": false, \"tf_adjustment_column\": null, \"tf_adjustment_weight\": 1.0, \"is_null_level\": false, \"bayes_factor\": 0.059610667226887626, \"log2_bayes_factor\": -4.068285668176526, \"comparison_vector_value\": 1, \"max_comparison_vector_value\": 2, \"bayes_factor_description\": \"If comparison level is `inexact match` then comparison is  16.78 times less likely to be a match\", \"probability_two_random_records_match\": 1.4225305711259186e-05, \"comparison_sort_order\": 4}, {\"comparison_name\": \"month_of_birth\", \"sql_condition\": \"ELSE\", \"label_for_charts\": \"All other comparisons\", \"m_probability\": 0.025000000000000022, \"u_probability\": 0.4973572673444942, \"m_probability_description\": \"Amongst matching record comparisons, 2.50% of records are in the all other comparisons comparison level\", \"u_probability_description\": \"Amongst non-matching record comparisons, 49.74% of records are in the all other comparisons comparison level\", \"has_tf_adjustments\": false, \"tf_adjustment_column\": null, \"tf_adjustment_weight\": 1.0, \"is_null_level\": false, \"bayes_factor\": 0.05026567749473295, \"log2_bayes_factor\": -4.31428255733652, \"comparison_vector_value\": 0, \"max_comparison_vector_value\": 2, \"bayes_factor_description\": \"If comparison level is `all other comparisons` then comparison is  19.89 times less likely to be a match\", \"probability_two_random_records_match\": 1.4225305711259186e-05, \"comparison_sort_order\": 4}, {\"comparison_name\": \"year_of_birth\", \"sql_condition\": \"\\\"year_of_birth_l\\\" = \\\"year_of_birth_r\\\"\", \"label_for_charts\": \"Exact match\", \"m_probability\": 0.95, \"u_probability\": 0.01093448234753138, \"m_probability_description\": \"Amongst matching record comparisons, 95.00% of records are in the exact match comparison level\", \"u_probability_description\": \"Amongst non-matching record comparisons, 1.09% of records are in the exact match comparison level\", \"has_tf_adjustments\": false, \"tf_adjustment_column\": null, \"tf_adjustment_weight\": 1.0, \"is_null_level\": false, \"bayes_factor\": 86.8811133262725, \"log2_bayes_factor\": 6.440970685368507, \"comparison_vector_value\": 2, \"max_comparison_vector_value\": 2, \"bayes_factor_description\": \"If comparison level is `exact match` then comparison is 86.88 times more likely to be a match\", \"probability_two_random_records_match\": 1.4225305711259186e-05, \"comparison_sort_order\": 5}, {\"comparison_name\": \"year_of_birth\", \"sql_condition\": \"abs(year_of_birth_l - year_of_birth_r) <= 5\", \"label_for_charts\": \"Inexact match\", \"m_probability\": 0.025000000000000022, \"u_probability\": 0.10883934805933546, \"m_probability_description\": \"Amongst matching record comparisons, 2.50% of records are in the inexact match comparison level\", \"u_probability_description\": \"Amongst non-matching record comparisons, 10.88% of records are in the inexact match comparison level\", \"has_tf_adjustments\": false, \"tf_adjustment_column\": null, \"tf_adjustment_weight\": 1.0, \"is_null_level\": false, \"bayes_factor\": 0.22969634094436955, \"log2_bayes_factor\": -2.122200220076003, \"comparison_vector_value\": 1, \"max_comparison_vector_value\": 2, \"bayes_factor_description\": \"If comparison level is `inexact match` then comparison is  4.35 times less likely to be a match\", \"probability_two_random_records_match\": 1.4225305711259186e-05, \"comparison_sort_order\": 5}, {\"comparison_name\": \"year_of_birth\", \"sql_condition\": \"ELSE\", \"label_for_charts\": \"All other comparisons\", \"m_probability\": 0.025000000000000022, \"u_probability\": 0.8802261695931332, \"m_probability_description\": \"Amongst matching record comparisons, 2.50% of records are in the all other comparisons comparison level\", \"u_probability_description\": \"Amongst non-matching record comparisons, 88.02% of records are in the all other comparisons comparison level\", \"has_tf_adjustments\": false, \"tf_adjustment_column\": null, \"tf_adjustment_weight\": 1.0, \"is_null_level\": false, \"bayes_factor\": 0.028401791339100688, \"log2_bayes_factor\": -5.137874264462514, \"comparison_vector_value\": 0, \"max_comparison_vector_value\": 2, \"bayes_factor_description\": \"If comparison level is `all other comparisons` then comparison is  35.21 times less likely to be a match\", \"probability_two_random_records_match\": 1.4225305711259186e-05, \"comparison_sort_order\": 5}, {\"comparison_name\": \"geokey\", \"sql_condition\": \"\\\"geokey_l\\\" = \\\"geokey_r\\\"\", \"label_for_charts\": \"Exact match\", \"m_probability\": 0.95, \"u_probability\": 0.0021770137377073793, \"m_probability_description\": \"Amongst matching record comparisons, 95.00% of records are in the exact match comparison level\", \"u_probability_description\": \"Amongst non-matching record comparisons, 0.22% of records are in the exact match comparison level\", \"has_tf_adjustments\": false, \"tf_adjustment_column\": null, \"tf_adjustment_weight\": 1.0, \"is_null_level\": false, \"bayes_factor\": 436.3775862068965, \"log2_bayes_factor\": 8.769433191760276, \"comparison_vector_value\": 2, \"max_comparison_vector_value\": 2, \"bayes_factor_description\": \"If comparison level is `exact match` then comparison is 436.38 times more likely to be a match\", \"probability_two_random_records_match\": 1.4225305711259186e-05, \"comparison_sort_order\": 6}, {\"comparison_name\": \"geokey\", \"sql_condition\": \"jaro_winkler_similarity(\\\"geokey_l\\\", \\\"geokey_r\\\") >= 0.7222222222222222\", \"label_for_charts\": \"Jaro_winkler_similarity >= 0.7222222222222222\", \"m_probability\": 0.025000000000000022, \"u_probability\": 0.2267847759177239, \"m_probability_description\": \"Amongst matching record comparisons, 2.50% of records are in the jaro_winkler_similarity >= 0.7222222222222222 comparison level\", \"u_probability_description\": \"Amongst non-matching record comparisons, 22.68% of records are in the jaro_winkler_similarity >= 0.7222222222222222 comparison level\", \"has_tf_adjustments\": false, \"tf_adjustment_column\": null, \"tf_adjustment_weight\": 1.0, \"is_null_level\": false, \"bayes_factor\": 0.11023667659715336, \"log2_bayes_factor\": -3.1813237952836757, \"comparison_vector_value\": 1, \"max_comparison_vector_value\": 2, \"bayes_factor_description\": \"If comparison level is `jaro_winkler_similarity >= 0.7222222222222222` then comparison is  9.07 times less likely to be a match\", \"probability_two_random_records_match\": 1.4225305711259186e-05, \"comparison_sort_order\": 6}, {\"comparison_name\": \"geokey\", \"sql_condition\": \"ELSE\", \"label_for_charts\": \"All other comparisons\", \"m_probability\": 0.025000000000000022, \"u_probability\": 0.7710382103445688, \"m_probability_description\": \"Amongst matching record comparisons, 2.50% of records are in the all other comparisons comparison level\", \"u_probability_description\": \"Amongst non-matching record comparisons, 77.10% of records are in the all other comparisons comparison level\", \"has_tf_adjustments\": false, \"tf_adjustment_column\": null, \"tf_adjustment_weight\": 1.0, \"is_null_level\": false, \"bayes_factor\": 0.03242381462369782, \"log2_bayes_factor\": -4.946802357557508, \"comparison_vector_value\": 0, \"max_comparison_vector_value\": 2, \"bayes_factor_description\": \"If comparison level is `all other comparisons` then comparison is  30.84 times less likely to be a match\", \"probability_two_random_records_match\": 1.4225305711259186e-05, \"comparison_sort_order\": 6}]}}, {\"mode\": \"vega-lite\"});\n",
       "</script>"
      ],
      "text/plain": [
       "alt.HConcatChart(...)"
      ]
     },
     "execution_count": 54,
     "metadata": {},
     "output_type": "execute_result"
    }
   ],
   "source": [
    "# Ignore the green bars on the left, these are the m probabilities that haven't been estimated yet\n",
    "linker.m_u_parameters_chart()"
   ]
  },
  {
   "cell_type": "markdown",
   "id": "2f66f6a2-28de-41a1-8c99-e8bda2dfb3e4",
   "metadata": {
    "papermill": {
     "duration": 0.022175,
     "end_time": "2024-02-12T19:21:15.292490",
     "exception": false,
     "start_time": "2024-02-12T19:21:15.270315",
     "status": "completed"
    },
    "tags": []
   },
   "source": [
    "#### Estimate m probabilities\n",
    "\n",
    "The EM algorithm implemented in Splink can be used to estimate all the parameters at once.\n",
    "However, I've found this to be extremely unstable, and the lambda and u estimates I've made\n",
    "above much better than what happens when I allow EM to mess with them.\n",
    "\n",
    "These EM session blocking rules are the result of **lots** of trial and error.\n",
    "I consistently had problems with the EM algorithm deciding that first names\n",
    "were completely wrong (\"All other comparisons\") almost as often as they were\n",
    "right.\n",
    "I can think of two reasons this might be happening:\n",
    "- The EM algorithm is just looking for two coherent clusters, and the assumption is that these\n",
    "  clusters correspond to matches and non-matches.\n",
    "  But in real life, and in our simulated data, matches and non-matches are not homogenous.\n",
    "  In particular, people who are in the same family live together and tend to share a last name,\n",
    "  and this could have been the cluster EM was finding instead of finding the exact same person.\n",
    "- Conditional independence is grossly violated by some of our columns, especially the address parts\n",
    "  and the DOB parts. This could be causing some pathological behavior.\n",
    "\n",
    "Using the EM approach below, I have at least obtained reasonable-looking m and u probabilities."
   ]
  },
  {
   "cell_type": "code",
   "execution_count": 55,
   "id": "d117b633-fc81-4fe6-ba1d-2d9d5a6e1b32",
   "metadata": {
    "execution": {
     "iopub.execute_input": "2024-02-12T19:21:15.336630Z",
     "iopub.status.busy": "2024-02-12T19:21:15.336334Z",
     "iopub.status.idle": "2024-02-12T19:21:18.272598Z",
     "shell.execute_reply": "2024-02-12T19:21:18.272131Z"
    },
    "papermill": {
     "duration": 2.960104,
     "end_time": "2024-02-12T19:21:18.273726",
     "exception": false,
     "start_time": "2024-02-12T19:21:15.313622",
     "status": "completed"
    },
    "tags": []
   },
   "outputs": [
    {
     "name": "stderr",
     "output_type": "stream",
     "text": [
      "\n",
      "----- Starting EM training session -----\n",
      "\n"
     ]
    },
    {
     "name": "stderr",
     "output_type": "stream",
     "text": [
      "Estimating the m probabilities of the model by blocking on:\n",
      "l.first_name_15 = r.first_name_15 and l.zipcode = r.zipcode\n",
      "\n",
      "Parameter estimates will be made for the following comparison(s):\n",
      "    - last_name_12\n",
      "    - middle_initial\n",
      "    - day_of_birth\n",
      "    - month_of_birth\n",
      "    - year_of_birth\n",
      "    - geokey\n",
      "\n",
      "Parameter estimates cannot be made for the following comparison(s) since they are used in the blocking rules: \n",
      "    - first_name_15\n"
     ]
    },
    {
     "name": "stderr",
     "output_type": "stream",
     "text": [
      "\n"
     ]
    },
    {
     "name": "stderr",
     "output_type": "stream",
     "text": [
      "Iteration 1: Largest change in params was 0.378 in the m_probability of geokey, level `Jaro_winkler_similarity >= 0.7222222222222222`\n"
     ]
    },
    {
     "name": "stderr",
     "output_type": "stream",
     "text": [
      "Iteration 2: Largest change in params was 0.00929 in the m_probability of geokey, level `Jaro_winkler_similarity >= 0.7222222222222222`\n"
     ]
    },
    {
     "name": "stderr",
     "output_type": "stream",
     "text": [
      "Iteration 3: Largest change in params was 0.000611 in the m_probability of year_of_birth, level `Exact match`\n"
     ]
    },
    {
     "name": "stderr",
     "output_type": "stream",
     "text": [
      "Iteration 4: Largest change in params was 0.000136 in the m_probability of year_of_birth, level `Exact match`\n"
     ]
    },
    {
     "name": "stderr",
     "output_type": "stream",
     "text": [
      "Iteration 5: Largest change in params was 3.13e-05 in the m_probability of year_of_birth, level `Exact match`\n"
     ]
    },
    {
     "name": "stderr",
     "output_type": "stream",
     "text": [
      "\n",
      "EM converged after 5 iterations\n"
     ]
    },
    {
     "name": "stderr",
     "output_type": "stream",
     "text": [
      "\n",
      "Your model is not yet fully trained. Missing estimates for:\n",
      "    - first_name_15 (no m values are trained).\n"
     ]
    }
   ],
   "source": [
    "blocking_rule_for_training = \"l.first_name_15 = r.first_name_15 and l.zipcode = r.zipcode\"\n",
    "em_session_1 = linker.estimate_parameters_using_expectation_maximisation(\n",
    "    blocking_rule_for_training,\n",
    "    # Fix lambda; u is fixed by default\n",
    "    fix_probability_two_random_records_match=True,\n",
    ")"
   ]
  },
  {
   "cell_type": "code",
   "execution_count": 56,
   "id": "7cc3f56f-eb87-4673-bcc4-fe2269e54db3",
   "metadata": {
    "execution": {
     "iopub.execute_input": "2024-02-12T19:21:18.326922Z",
     "iopub.status.busy": "2024-02-12T19:21:18.326648Z",
     "iopub.status.idle": "2024-02-12T19:21:20.178614Z",
     "shell.execute_reply": "2024-02-12T19:21:20.178005Z"
    },
    "papermill": {
     "duration": 1.879393,
     "end_time": "2024-02-12T19:21:20.180355",
     "exception": false,
     "start_time": "2024-02-12T19:21:18.300962",
     "status": "completed"
    },
    "tags": []
   },
   "outputs": [
    {
     "data": {
      "text/html": [
       "\n",
       "<style>\n",
       "  #altair-viz-7ddf0a0692bc41dd8acdccf0d3fc2534.vega-embed {\n",
       "    width: 100%;\n",
       "    display: flex;\n",
       "  }\n",
       "\n",
       "  #altair-viz-7ddf0a0692bc41dd8acdccf0d3fc2534.vega-embed details,\n",
       "  #altair-viz-7ddf0a0692bc41dd8acdccf0d3fc2534.vega-embed details summary {\n",
       "    position: relative;\n",
       "  }\n",
       "</style>\n",
       "<div id=\"altair-viz-7ddf0a0692bc41dd8acdccf0d3fc2534\"></div>\n",
       "<script type=\"text/javascript\">\n",
       "  var VEGA_DEBUG = (typeof VEGA_DEBUG == \"undefined\") ? {} : VEGA_DEBUG;\n",
       "  (function(spec, embedOpt){\n",
       "    let outputDiv = document.currentScript.previousElementSibling;\n",
       "    if (outputDiv.id !== \"altair-viz-7ddf0a0692bc41dd8acdccf0d3fc2534\") {\n",
       "      outputDiv = document.getElementById(\"altair-viz-7ddf0a0692bc41dd8acdccf0d3fc2534\");\n",
       "    }\n",
       "    const paths = {\n",
       "      \"vega\": \"https://cdn.jsdelivr.net/npm/vega@5?noext\",\n",
       "      \"vega-lib\": \"https://cdn.jsdelivr.net/npm/vega-lib?noext\",\n",
       "      \"vega-lite\": \"https://cdn.jsdelivr.net/npm/vega-lite@5.15.1?noext\",\n",
       "      \"vega-embed\": \"https://cdn.jsdelivr.net/npm/vega-embed@6?noext\",\n",
       "    };\n",
       "\n",
       "    function maybeLoadScript(lib, version) {\n",
       "      var key = `${lib.replace(\"-\", \"\")}_version`;\n",
       "      return (VEGA_DEBUG[key] == version) ?\n",
       "        Promise.resolve(paths[lib]) :\n",
       "        new Promise(function(resolve, reject) {\n",
       "          var s = document.createElement('script');\n",
       "          document.getElementsByTagName(\"head\")[0].appendChild(s);\n",
       "          s.async = true;\n",
       "          s.onload = () => {\n",
       "            VEGA_DEBUG[key] = version;\n",
       "            return resolve(paths[lib]);\n",
       "          };\n",
       "          s.onerror = () => reject(`Error loading script: ${paths[lib]}`);\n",
       "          s.src = paths[lib];\n",
       "        });\n",
       "    }\n",
       "\n",
       "    function showError(err) {\n",
       "      outputDiv.innerHTML = `<div class=\"error\" style=\"color:red;\">${err}</div>`;\n",
       "      throw err;\n",
       "    }\n",
       "\n",
       "    function displayChart(vegaEmbed) {\n",
       "      vegaEmbed(outputDiv, spec, embedOpt)\n",
       "        .catch(err => showError(`Javascript Error: ${err.message}<br>This usually means there's a typo in your chart specification. See the javascript console for the full traceback.`));\n",
       "    }\n",
       "\n",
       "    if(typeof define === \"function\" && define.amd) {\n",
       "      requirejs.config({paths});\n",
       "      require([\"vega-embed\"], displayChart, err => showError(`Error loading script: ${err.message}`));\n",
       "    } else {\n",
       "      maybeLoadScript(\"vega\", \"5\")\n",
       "        .then(() => maybeLoadScript(\"vega-lite\", \"5.15.1\"))\n",
       "        .then(() => maybeLoadScript(\"vega-embed\", \"6\"))\n",
       "        .catch(showError)\n",
       "        .then(() => displayChart(vegaEmbed));\n",
       "    }\n",
       "  })({\"config\": {\"view\": {\"continuousWidth\": 300, \"continuousHeight\": 300, \"discreteHeight\": 300, \"discreteWidth\": 400}, \"header\": {\"title\": null}, \"title\": {\"anchor\": \"middle\", \"offset\": 10}}, \"hconcat\": [{\"mark\": \"bar\", \"encoding\": {\"color\": {\"value\": \"green\"}, \"row\": {\"field\": \"comparison_name\", \"header\": {\"labelAlign\": \"left\", \"labelAnchor\": \"middle\", \"labelAngle\": 0}, \"sort\": {\"field\": \"comparison_sort_order\"}, \"type\": \"nominal\"}, \"tooltip\": [{\"field\": \"m_probability_description\", \"title\": \"m probability description\", \"type\": \"nominal\"}, {\"field\": \"comparison_name\", \"title\": \"Comparison column name\", \"type\": \"nominal\"}, {\"field\": \"label_for_charts\", \"title\": \"Label\", \"type\": \"ordinal\"}, {\"field\": \"sql_condition\", \"title\": \"SQL condition\", \"type\": \"nominal\"}, {\"field\": \"m_probability\", \"format\": \".4p\", \"title\": \"m probability\", \"type\": \"quantitative\"}, {\"field\": \"u_probability\", \"format\": \".4p\", \"title\": \"u probability\", \"type\": \"quantitative\"}, {\"field\": \"bayes_factor\", \"format\": \",.4f\", \"title\": \"Bayes factor = m/u\", \"type\": \"quantitative\"}, {\"field\": \"log2_bayes_factor\", \"format\": \",.4f\", \"title\": \"Match weight = log2(m/u)\", \"type\": \"quantitative\"}], \"x\": {\"axis\": {\"title\": \"Proportion of record comparisons\"}, \"field\": \"m_probability\", \"type\": \"quantitative\"}, \"y\": {\"axis\": {\"title\": null}, \"field\": \"label_for_charts\", \"sort\": {\"field\": \"comparison_vector_value\", \"order\": \"descending\"}, \"type\": \"nominal\"}}, \"height\": {\"step\": 12}, \"resolve\": {\"scale\": {\"y\": \"independent\"}}, \"title\": {\"text\": \"Amongst matching record comparisons:\", \"fontSize\": 12, \"fontWeight\": \"bold\"}, \"transform\": [{\"filter\": \"(datum.bayes_factor != 'no-op filter due to vega lite issue 4680')\"}], \"width\": 150}, {\"mark\": \"bar\", \"encoding\": {\"color\": {\"value\": \"red\"}, \"row\": {\"field\": \"comparison_name\", \"header\": {\"labels\": false}, \"sort\": {\"field\": \"comparison_sort_order\"}, \"type\": \"nominal\"}, \"tooltip\": [{\"field\": \"u_probability_description\", \"title\": \"u probability description\", \"type\": \"nominal\"}, {\"field\": \"comparison_name\", \"title\": \"Comparison column name\", \"type\": \"nominal\"}, {\"field\": \"label_for_charts\", \"title\": \"Label\", \"type\": \"ordinal\"}, {\"field\": \"sql_condition\", \"title\": \"SQL condition\", \"type\": \"nominal\"}, {\"field\": \"m_probability\", \"format\": \".4p\", \"title\": \"m probability\", \"type\": \"quantitative\"}, {\"field\": \"u_probability\", \"format\": \".4p\", \"title\": \"u probability\", \"type\": \"quantitative\"}, {\"field\": \"bayes_factor\", \"format\": \",.4f\", \"title\": \"Bayes factor = m/u\", \"type\": \"quantitative\"}, {\"field\": \"log2_bayes_factor\", \"format\": \",.4f\", \"title\": \"Match weight = log2(m/u)\", \"type\": \"quantitative\"}], \"x\": {\"axis\": {\"title\": \"Proportion of record comparisons\"}, \"field\": \"u_probability\", \"type\": \"quantitative\"}, \"y\": {\"axis\": {\"title\": null}, \"field\": \"label_for_charts\", \"sort\": {\"field\": \"comparison_vector_value\", \"order\": \"descending\"}, \"type\": \"nominal\"}}, \"height\": {\"step\": 12}, \"resolve\": {\"scale\": {\"y\": \"independent\"}}, \"title\": {\"text\": \"Amongst non-matching record comparisons:\", \"fontSize\": 12, \"fontWeight\": \"bold\"}, \"transform\": [{\"filter\": \"(datum.bayes_factor != 'no-op filter2 due to vega lite issue 4680')\"}], \"width\": 150}], \"data\": {\"name\": \"data-96ddceb9cc04a859a7aab62b945814db\"}, \"params\": [{\"name\": \"iteration_number\", \"bind\": {\"input\": \"range\", \"max\": 5, \"min\": 0, \"step\": 1}, \"value\": 5}], \"title\": {\"text\": \"Proportion of record comparisons in each comparison level by match status\", \"subtitle\": \"(m and u probabilities)\"}, \"transform\": [{\"filter\": \"(datum.iteration == iteration_number)\"}], \"$schema\": \"https://vega.github.io/schema/vega-lite/v5.9.3.json\", \"datasets\": {\"data-96ddceb9cc04a859a7aab62b945814db\": [{\"comparison_name\": \"last_name_12\", \"sql_condition\": \"\\\"last_name_12_l\\\" = \\\"last_name_12_r\\\"\", \"label_for_charts\": \"Exact match\", \"m_probability\": 0.95, \"u_probability\": 0.0006988639102327646, \"m_probability_description\": \"Amongst matching record comparisons, 95.00% of records are in the exact match comparison level\", \"u_probability_description\": \"Amongst non-matching record comparisons, 0.07% of records are in the exact match comparison level\", \"has_tf_adjustments\": false, \"tf_adjustment_column\": null, \"tf_adjustment_weight\": 1.0, \"is_null_level\": false, \"bayes_factor\": 1359.349060797247, \"log2_bayes_factor\": 10.408700251156352, \"comparison_vector_value\": 2, \"max_comparison_vector_value\": 2, \"bayes_factor_description\": \"If comparison level is `exact match` then comparison is 1,359.35 times more likely to be a match\", \"probability_two_random_records_match\": 0.007006045984371714, \"comparison_sort_order\": 0, \"iteration\": 0}, {\"comparison_name\": \"last_name_12\", \"sql_condition\": \"jaro_winkler_similarity(\\\"last_name_12_l\\\", \\\"last_name_12_r\\\") >= 0.8333333333333334\", \"label_for_charts\": \"Jaro_winkler_similarity >= 0.8333333333333334\", \"m_probability\": 0.025000000000000022, \"u_probability\": 0.0013365997755498443, \"m_probability_description\": \"Amongst matching record comparisons, 2.50% of records are in the jaro_winkler_similarity >= 0.8333333333333334 comparison level\", \"u_probability_description\": \"Amongst non-matching record comparisons, 0.13% of records are in the jaro_winkler_similarity >= 0.8333333333333334 comparison level\", \"has_tf_adjustments\": false, \"tf_adjustment_column\": null, \"tf_adjustment_weight\": 1.0, \"is_null_level\": false, \"bayes_factor\": 18.70417791273056, \"log2_bayes_factor\": 4.225288652741327, \"comparison_vector_value\": 1, \"max_comparison_vector_value\": 2, \"bayes_factor_description\": \"If comparison level is `jaro_winkler_similarity >= 0.8333333333333334` then comparison is 18.70 times more likely to be a match\", \"probability_two_random_records_match\": 0.007006045984371714, \"comparison_sort_order\": 0, \"iteration\": 0}, {\"comparison_name\": \"last_name_12\", \"sql_condition\": \"ELSE\", \"label_for_charts\": \"All other comparisons\", \"m_probability\": 0.025000000000000022, \"u_probability\": 0.9979645363142174, \"m_probability_description\": \"Amongst matching record comparisons, 2.50% of records are in the all other comparisons comparison level\", \"u_probability_description\": \"Amongst non-matching record comparisons, 99.80% of records are in the all other comparisons comparison level\", \"has_tf_adjustments\": false, \"tf_adjustment_column\": null, \"tf_adjustment_weight\": 1.0, \"is_null_level\": false, \"bayes_factor\": 0.02505099038121387, \"log2_bayes_factor\": -5.318988548836413, \"comparison_vector_value\": 0, \"max_comparison_vector_value\": 2, \"bayes_factor_description\": \"If comparison level is `all other comparisons` then comparison is  39.92 times less likely to be a match\", \"probability_two_random_records_match\": 0.007006045984371714, \"comparison_sort_order\": 0, \"iteration\": 0}, {\"comparison_name\": \"middle_initial\", \"sql_condition\": \"\\\"middle_initial_l\\\" = \\\"middle_initial_r\\\"\", \"label_for_charts\": \"Exact match\", \"m_probability\": 0.95, \"u_probability\": 0.07417855709636824, \"m_probability_description\": \"Amongst matching record comparisons, 95.00% of records are in the exact match comparison level\", \"u_probability_description\": \"Amongst non-matching record comparisons, 7.42% of records are in the exact match comparison level\", \"has_tf_adjustments\": false, \"tf_adjustment_column\": null, \"tf_adjustment_weight\": 1.0, \"is_null_level\": false, \"bayes_factor\": 12.806935551008603, \"log2_bayes_factor\": 3.6788534031775413, \"comparison_vector_value\": 1, \"max_comparison_vector_value\": 1, \"bayes_factor_description\": \"If comparison level is `exact match` then comparison is 12.81 times more likely to be a match\", \"probability_two_random_records_match\": 0.007006045984371714, \"comparison_sort_order\": 1, \"iteration\": 0}, {\"comparison_name\": \"middle_initial\", \"sql_condition\": \"ELSE\", \"label_for_charts\": \"All other comparisons\", \"m_probability\": 0.050000000000000044, \"u_probability\": 0.9258214429036318, \"m_probability_description\": \"Amongst matching record comparisons, 5.00% of records are in the all other comparisons comparison level\", \"u_probability_description\": \"Amongst non-matching record comparisons, 92.58% of records are in the all other comparisons comparison level\", \"has_tf_adjustments\": false, \"tf_adjustment_column\": null, \"tf_adjustment_weight\": 1.0, \"is_null_level\": false, \"bayes_factor\": 0.054006094137532865, \"log2_bayes_factor\": -4.210733977203664, \"comparison_vector_value\": 0, \"max_comparison_vector_value\": 1, \"bayes_factor_description\": \"If comparison level is `all other comparisons` then comparison is  18.52 times less likely to be a match\", \"probability_two_random_records_match\": 0.007006045984371714, \"comparison_sort_order\": 1, \"iteration\": 0}, {\"comparison_name\": \"day_of_birth\", \"sql_condition\": \"\\\"day_of_birth_l\\\" = \\\"day_of_birth_r\\\"\", \"label_for_charts\": \"Exact match\", \"m_probability\": 0.95, \"u_probability\": 0.032483267196893574, \"m_probability_description\": \"Amongst matching record comparisons, 95.00% of records are in the exact match comparison level\", \"u_probability_description\": \"Amongst non-matching record comparisons, 3.25% of records are in the exact match comparison level\", \"has_tf_adjustments\": false, \"tf_adjustment_column\": null, \"tf_adjustment_weight\": 1.0, \"is_null_level\": false, \"bayes_factor\": 29.24582660486966, \"log2_bayes_factor\": 4.870158860915603, \"comparison_vector_value\": 2, \"max_comparison_vector_value\": 2, \"bayes_factor_description\": \"If comparison level is `exact match` then comparison is 29.25 times more likely to be a match\", \"probability_two_random_records_match\": 0.007006045984371714, \"comparison_sort_order\": 2, \"iteration\": 0}, {\"comparison_name\": \"day_of_birth\", \"sql_condition\": \"abs(day_of_birth_l - day_of_birth_r) <= 5\", \"label_for_charts\": \"Inexact match\", \"m_probability\": 0.025000000000000022, \"u_probability\": 0.2953114089616295, \"m_probability_description\": \"Amongst matching record comparisons, 2.50% of records are in the inexact match comparison level\", \"u_probability_description\": \"Amongst non-matching record comparisons, 29.53% of records are in the inexact match comparison level\", \"has_tf_adjustments\": false, \"tf_adjustment_column\": null, \"tf_adjustment_weight\": 1.0, \"is_null_level\": false, \"bayes_factor\": 0.08465639742096226, \"log2_bayes_factor\": -3.5622370941434274, \"comparison_vector_value\": 1, \"max_comparison_vector_value\": 2, \"bayes_factor_description\": \"If comparison level is `inexact match` then comparison is  11.81 times less likely to be a match\", \"probability_two_random_records_match\": 0.007006045984371714, \"comparison_sort_order\": 2, \"iteration\": 0}, {\"comparison_name\": \"day_of_birth\", \"sql_condition\": \"ELSE\", \"label_for_charts\": \"All other comparisons\", \"m_probability\": 0.025000000000000022, \"u_probability\": 0.6722053238414769, \"m_probability_description\": \"Amongst matching record comparisons, 2.50% of records are in the all other comparisons comparison level\", \"u_probability_description\": \"Amongst non-matching record comparisons, 67.22% of records are in the all other comparisons comparison level\", \"has_tf_adjustments\": false, \"tf_adjustment_column\": null, \"tf_adjustment_weight\": 1.0, \"is_null_level\": false, \"bayes_factor\": 0.037191017555665264, \"log2_bayes_factor\": -4.748901968782899, \"comparison_vector_value\": 0, \"max_comparison_vector_value\": 2, \"bayes_factor_description\": \"If comparison level is `all other comparisons` then comparison is  26.89 times less likely to be a match\", \"probability_two_random_records_match\": 0.007006045984371714, \"comparison_sort_order\": 2, \"iteration\": 0}, {\"comparison_name\": \"month_of_birth\", \"sql_condition\": \"\\\"month_of_birth_l\\\" = \\\"month_of_birth_r\\\"\", \"label_for_charts\": \"Exact match\", \"m_probability\": 0.95, \"u_probability\": 0.0832547076088129, \"m_probability_description\": \"Amongst matching record comparisons, 95.00% of records are in the exact match comparison level\", \"u_probability_description\": \"Amongst non-matching record comparisons, 8.33% of records are in the exact match comparison level\", \"has_tf_adjustments\": false, \"tf_adjustment_column\": null, \"tf_adjustment_weight\": 1.0, \"is_null_level\": false, \"bayes_factor\": 11.4107661570772, \"log2_bayes_factor\": 3.512323757145611, \"comparison_vector_value\": 2, \"max_comparison_vector_value\": 2, \"bayes_factor_description\": \"If comparison level is `exact match` then comparison is 11.41 times more likely to be a match\", \"probability_two_random_records_match\": 0.007006045984371714, \"comparison_sort_order\": 3, \"iteration\": 0}, {\"comparison_name\": \"month_of_birth\", \"sql_condition\": \"abs(month_of_birth_l - month_of_birth_r) <= 3\", \"label_for_charts\": \"Inexact match\", \"m_probability\": 0.025000000000000022, \"u_probability\": 0.41938802504669287, \"m_probability_description\": \"Amongst matching record comparisons, 2.50% of records are in the inexact match comparison level\", \"u_probability_description\": \"Amongst non-matching record comparisons, 41.94% of records are in the inexact match comparison level\", \"has_tf_adjustments\": false, \"tf_adjustment_column\": null, \"tf_adjustment_weight\": 1.0, \"is_null_level\": false, \"bayes_factor\": 0.059610667226887626, \"log2_bayes_factor\": -4.068285668176526, \"comparison_vector_value\": 1, \"max_comparison_vector_value\": 2, \"bayes_factor_description\": \"If comparison level is `inexact match` then comparison is  16.78 times less likely to be a match\", \"probability_two_random_records_match\": 0.007006045984371714, \"comparison_sort_order\": 3, \"iteration\": 0}, {\"comparison_name\": \"month_of_birth\", \"sql_condition\": \"ELSE\", \"label_for_charts\": \"All other comparisons\", \"m_probability\": 0.025000000000000022, \"u_probability\": 0.4973572673444942, \"m_probability_description\": \"Amongst matching record comparisons, 2.50% of records are in the all other comparisons comparison level\", \"u_probability_description\": \"Amongst non-matching record comparisons, 49.74% of records are in the all other comparisons comparison level\", \"has_tf_adjustments\": false, \"tf_adjustment_column\": null, \"tf_adjustment_weight\": 1.0, \"is_null_level\": false, \"bayes_factor\": 0.05026567749473295, \"log2_bayes_factor\": -4.31428255733652, \"comparison_vector_value\": 0, \"max_comparison_vector_value\": 2, \"bayes_factor_description\": \"If comparison level is `all other comparisons` then comparison is  19.89 times less likely to be a match\", \"probability_two_random_records_match\": 0.007006045984371714, \"comparison_sort_order\": 3, \"iteration\": 0}, {\"comparison_name\": \"year_of_birth\", \"sql_condition\": \"\\\"year_of_birth_l\\\" = \\\"year_of_birth_r\\\"\", \"label_for_charts\": \"Exact match\", \"m_probability\": 0.95, \"u_probability\": 0.01093448234753138, \"m_probability_description\": \"Amongst matching record comparisons, 95.00% of records are in the exact match comparison level\", \"u_probability_description\": \"Amongst non-matching record comparisons, 1.09% of records are in the exact match comparison level\", \"has_tf_adjustments\": false, \"tf_adjustment_column\": null, \"tf_adjustment_weight\": 1.0, \"is_null_level\": false, \"bayes_factor\": 86.8811133262725, \"log2_bayes_factor\": 6.440970685368507, \"comparison_vector_value\": 2, \"max_comparison_vector_value\": 2, \"bayes_factor_description\": \"If comparison level is `exact match` then comparison is 86.88 times more likely to be a match\", \"probability_two_random_records_match\": 0.007006045984371714, \"comparison_sort_order\": 4, \"iteration\": 0}, {\"comparison_name\": \"year_of_birth\", \"sql_condition\": \"abs(year_of_birth_l - year_of_birth_r) <= 5\", \"label_for_charts\": \"Inexact match\", \"m_probability\": 0.025000000000000022, \"u_probability\": 0.10883934805933546, \"m_probability_description\": \"Amongst matching record comparisons, 2.50% of records are in the inexact match comparison level\", \"u_probability_description\": \"Amongst non-matching record comparisons, 10.88% of records are in the inexact match comparison level\", \"has_tf_adjustments\": false, \"tf_adjustment_column\": null, \"tf_adjustment_weight\": 1.0, \"is_null_level\": false, \"bayes_factor\": 0.22969634094436955, \"log2_bayes_factor\": -2.122200220076003, \"comparison_vector_value\": 1, \"max_comparison_vector_value\": 2, \"bayes_factor_description\": \"If comparison level is `inexact match` then comparison is  4.35 times less likely to be a match\", \"probability_two_random_records_match\": 0.007006045984371714, \"comparison_sort_order\": 4, \"iteration\": 0}, {\"comparison_name\": \"year_of_birth\", \"sql_condition\": \"ELSE\", \"label_for_charts\": \"All other comparisons\", \"m_probability\": 0.025000000000000022, \"u_probability\": 0.8802261695931332, \"m_probability_description\": \"Amongst matching record comparisons, 2.50% of records are in the all other comparisons comparison level\", \"u_probability_description\": \"Amongst non-matching record comparisons, 88.02% of records are in the all other comparisons comparison level\", \"has_tf_adjustments\": false, \"tf_adjustment_column\": null, \"tf_adjustment_weight\": 1.0, \"is_null_level\": false, \"bayes_factor\": 0.028401791339100688, \"log2_bayes_factor\": -5.137874264462514, \"comparison_vector_value\": 0, \"max_comparison_vector_value\": 2, \"bayes_factor_description\": \"If comparison level is `all other comparisons` then comparison is  35.21 times less likely to be a match\", \"probability_two_random_records_match\": 0.007006045984371714, \"comparison_sort_order\": 4, \"iteration\": 0}, {\"comparison_name\": \"geokey\", \"sql_condition\": \"\\\"geokey_l\\\" = \\\"geokey_r\\\"\", \"label_for_charts\": \"Exact match\", \"m_probability\": 0.95, \"u_probability\": 0.0021770137377073793, \"m_probability_description\": \"Amongst matching record comparisons, 95.00% of records are in the exact match comparison level\", \"u_probability_description\": \"Amongst non-matching record comparisons, 0.22% of records are in the exact match comparison level\", \"has_tf_adjustments\": false, \"tf_adjustment_column\": null, \"tf_adjustment_weight\": 1.0, \"is_null_level\": false, \"bayes_factor\": 436.3775862068965, \"log2_bayes_factor\": 8.769433191760276, \"comparison_vector_value\": 2, \"max_comparison_vector_value\": 2, \"bayes_factor_description\": \"If comparison level is `exact match` then comparison is 436.38 times more likely to be a match\", \"probability_two_random_records_match\": 0.007006045984371714, \"comparison_sort_order\": 5, \"iteration\": 0}, {\"comparison_name\": \"geokey\", \"sql_condition\": \"jaro_winkler_similarity(\\\"geokey_l\\\", \\\"geokey_r\\\") >= 0.7222222222222222\", \"label_for_charts\": \"Jaro_winkler_similarity >= 0.7222222222222222\", \"m_probability\": 0.025000000000000022, \"u_probability\": 0.2267847759177239, \"m_probability_description\": \"Amongst matching record comparisons, 2.50% of records are in the jaro_winkler_similarity >= 0.7222222222222222 comparison level\", \"u_probability_description\": \"Amongst non-matching record comparisons, 22.68% of records are in the jaro_winkler_similarity >= 0.7222222222222222 comparison level\", \"has_tf_adjustments\": false, \"tf_adjustment_column\": null, \"tf_adjustment_weight\": 1.0, \"is_null_level\": false, \"bayes_factor\": 0.11023667659715336, \"log2_bayes_factor\": -3.1813237952836757, \"comparison_vector_value\": 1, \"max_comparison_vector_value\": 2, \"bayes_factor_description\": \"If comparison level is `jaro_winkler_similarity >= 0.7222222222222222` then comparison is  9.07 times less likely to be a match\", \"probability_two_random_records_match\": 0.007006045984371714, \"comparison_sort_order\": 5, \"iteration\": 0}, {\"comparison_name\": \"geokey\", \"sql_condition\": \"ELSE\", \"label_for_charts\": \"All other comparisons\", \"m_probability\": 0.025000000000000022, \"u_probability\": 0.7710382103445688, \"m_probability_description\": \"Amongst matching record comparisons, 2.50% of records are in the all other comparisons comparison level\", \"u_probability_description\": \"Amongst non-matching record comparisons, 77.10% of records are in the all other comparisons comparison level\", \"has_tf_adjustments\": false, \"tf_adjustment_column\": null, \"tf_adjustment_weight\": 1.0, \"is_null_level\": false, \"bayes_factor\": 0.03242381462369782, \"log2_bayes_factor\": -4.946802357557508, \"comparison_vector_value\": 0, \"max_comparison_vector_value\": 2, \"bayes_factor_description\": \"If comparison level is `all other comparisons` then comparison is  30.84 times less likely to be a match\", \"probability_two_random_records_match\": 0.007006045984371714, \"comparison_sort_order\": 5, \"iteration\": 0}, {\"comparison_name\": \"last_name_12\", \"sql_condition\": \"\\\"last_name_12_l\\\" = \\\"last_name_12_r\\\"\", \"label_for_charts\": \"Exact match\", \"m_probability\": 0.8844177164249893, \"u_probability\": 0.0006988639102327646, \"m_probability_description\": \"Amongst matching record comparisons, 88.44% of records are in the exact match comparison level\", \"u_probability_description\": \"Amongst non-matching record comparisons, 0.07% of records are in the exact match comparison level\", \"has_tf_adjustments\": false, \"tf_adjustment_column\": null, \"tf_adjustment_weight\": 1.0, \"is_null_level\": false, \"bayes_factor\": 1265.5077812365844, \"log2_bayes_factor\": 10.305500662847088, \"comparison_vector_value\": 2, \"max_comparison_vector_value\": 2, \"bayes_factor_description\": \"If comparison level is `exact match` then comparison is 1,265.51 times more likely to be a match\", \"probability_two_random_records_match\": 0.007006045984371714, \"comparison_sort_order\": 0, \"iteration\": 1}, {\"comparison_name\": \"last_name_12\", \"sql_condition\": \"jaro_winkler_similarity(\\\"last_name_12_l\\\", \\\"last_name_12_r\\\") >= 0.8333333333333334\", \"label_for_charts\": \"Jaro_winkler_similarity >= 0.8333333333333334\", \"m_probability\": 0.08721725432057233, \"u_probability\": 0.0013365997755498443, \"m_probability_description\": \"Amongst matching record comparisons, 8.72% of records are in the jaro_winkler_similarity >= 0.8333333333333334 comparison level\", \"u_probability_description\": \"Amongst non-matching record comparisons, 0.13% of records are in the jaro_winkler_similarity >= 0.8333333333333334 comparison level\", \"has_tf_adjustments\": false, \"tf_adjustment_column\": null, \"tf_adjustment_weight\": 1.0, \"is_null_level\": false, \"bayes_factor\": 65.25308167487405, \"log2_bayes_factor\": 6.02797413162083, \"comparison_vector_value\": 1, \"max_comparison_vector_value\": 2, \"bayes_factor_description\": \"If comparison level is `jaro_winkler_similarity >= 0.8333333333333334` then comparison is 65.25 times more likely to be a match\", \"probability_two_random_records_match\": 0.007006045984371714, \"comparison_sort_order\": 0, \"iteration\": 1}, {\"comparison_name\": \"last_name_12\", \"sql_condition\": \"ELSE\", \"label_for_charts\": \"All other comparisons\", \"m_probability\": 0.028365029254438276, \"u_probability\": 0.9979645363142174, \"m_probability_description\": \"Amongst matching record comparisons, 2.84% of records are in the all other comparisons comparison level\", \"u_probability_description\": \"Amongst non-matching record comparisons, 99.80% of records are in the all other comparisons comparison level\", \"has_tf_adjustments\": false, \"tf_adjustment_column\": null, \"tf_adjustment_weight\": 1.0, \"is_null_level\": false, \"bayes_factor\": 0.028422883000631307, \"log2_bayes_factor\": -5.136803291782238, \"comparison_vector_value\": 0, \"max_comparison_vector_value\": 2, \"bayes_factor_description\": \"If comparison level is `all other comparisons` then comparison is  35.18 times less likely to be a match\", \"probability_two_random_records_match\": 0.007006045984371714, \"comparison_sort_order\": 0, \"iteration\": 1}, {\"comparison_name\": \"middle_initial\", \"sql_condition\": \"\\\"middle_initial_l\\\" = \\\"middle_initial_r\\\"\", \"label_for_charts\": \"Exact match\", \"m_probability\": 0.9443405934199169, \"u_probability\": 0.07417855709636824, \"m_probability_description\": \"Amongst matching record comparisons, 94.43% of records are in the exact match comparison level\", \"u_probability_description\": \"Amongst non-matching record comparisons, 7.42% of records are in the exact match comparison level\", \"has_tf_adjustments\": false, \"tf_adjustment_column\": null, \"tf_adjustment_weight\": 1.0, \"is_null_level\": false, \"bayes_factor\": 12.730641176979049, \"log2_bayes_factor\": 3.6702331770923275, \"comparison_vector_value\": 1, \"max_comparison_vector_value\": 1, \"bayes_factor_description\": \"If comparison level is `exact match` then comparison is 12.73 times more likely to be a match\", \"probability_two_random_records_match\": 0.007006045984371714, \"comparison_sort_order\": 1, \"iteration\": 1}, {\"comparison_name\": \"middle_initial\", \"sql_condition\": \"ELSE\", \"label_for_charts\": \"All other comparisons\", \"m_probability\": 0.055659406580083136, \"u_probability\": 0.9258214429036318, \"m_probability_description\": \"Amongst matching record comparisons, 5.57% of records are in the all other comparisons comparison level\", \"u_probability_description\": \"Amongst non-matching record comparisons, 92.58% of records are in the all other comparisons comparison level\", \"has_tf_adjustments\": false, \"tf_adjustment_column\": null, \"tf_adjustment_weight\": 1.0, \"is_null_level\": false, \"bayes_factor\": 0.060118943028063664, \"log2_bayes_factor\": -4.056036544818112, \"comparison_vector_value\": 0, \"max_comparison_vector_value\": 1, \"bayes_factor_description\": \"If comparison level is `all other comparisons` then comparison is  16.63 times less likely to be a match\", \"probability_two_random_records_match\": 0.007006045984371714, \"comparison_sort_order\": 1, \"iteration\": 1}, {\"comparison_name\": \"day_of_birth\", \"sql_condition\": \"\\\"day_of_birth_l\\\" = \\\"day_of_birth_r\\\"\", \"label_for_charts\": \"Exact match\", \"m_probability\": 0.9732907923816979, \"u_probability\": 0.032483267196893574, \"m_probability_description\": \"Amongst matching record comparisons, 97.33% of records are in the exact match comparison level\", \"u_probability_description\": \"Amongst non-matching record comparisons, 3.25% of records are in the exact match comparison level\", \"has_tf_adjustments\": false, \"tf_adjustment_column\": null, \"tf_adjustment_weight\": 1.0, \"is_null_level\": false, \"bayes_factor\": 29.962835526432983, \"log2_bayes_factor\": 4.905102254276519, \"comparison_vector_value\": 2, \"max_comparison_vector_value\": 2, \"bayes_factor_description\": \"If comparison level is `exact match` then comparison is 29.96 times more likely to be a match\", \"probability_two_random_records_match\": 0.007006045984371714, \"comparison_sort_order\": 2, \"iteration\": 1}, {\"comparison_name\": \"day_of_birth\", \"sql_condition\": \"abs(day_of_birth_l - day_of_birth_r) <= 5\", \"label_for_charts\": \"Inexact match\", \"m_probability\": 0.016551513530405525, \"u_probability\": 0.2953114089616295, \"m_probability_description\": \"Amongst matching record comparisons, 1.66% of records are in the inexact match comparison level\", \"u_probability_description\": \"Amongst non-matching record comparisons, 29.53% of records are in the inexact match comparison level\", \"has_tf_adjustments\": false, \"tf_adjustment_column\": null, \"tf_adjustment_weight\": 1.0, \"is_null_level\": false, \"bayes_factor\": 0.05604766029393772, \"log2_bayes_factor\": -4.1572020407009695, \"comparison_vector_value\": 1, \"max_comparison_vector_value\": 2, \"bayes_factor_description\": \"If comparison level is `inexact match` then comparison is  17.84 times less likely to be a match\", \"probability_two_random_records_match\": 0.007006045984371714, \"comparison_sort_order\": 2, \"iteration\": 1}, {\"comparison_name\": \"day_of_birth\", \"sql_condition\": \"ELSE\", \"label_for_charts\": \"All other comparisons\", \"m_probability\": 0.010157694087896503, \"u_probability\": 0.6722053238414769, \"m_probability_description\": \"Amongst matching record comparisons, 1.02% of records are in the all other comparisons comparison level\", \"u_probability_description\": \"Amongst non-matching record comparisons, 67.22% of records are in the all other comparisons comparison level\", \"has_tf_adjustments\": false, \"tf_adjustment_column\": null, \"tf_adjustment_weight\": 1.0, \"is_null_level\": false, \"bayes_factor\": 0.015110999165921431, \"log2_bayes_factor\": -6.048257132576957, \"comparison_vector_value\": 0, \"max_comparison_vector_value\": 2, \"bayes_factor_description\": \"If comparison level is `all other comparisons` then comparison is  66.18 times less likely to be a match\", \"probability_two_random_records_match\": 0.007006045984371714, \"comparison_sort_order\": 2, \"iteration\": 1}, {\"comparison_name\": \"month_of_birth\", \"sql_condition\": \"\\\"month_of_birth_l\\\" = \\\"month_of_birth_r\\\"\", \"label_for_charts\": \"Exact match\", \"m_probability\": 0.9808963770959185, \"u_probability\": 0.0832547076088129, \"m_probability_description\": \"Amongst matching record comparisons, 98.09% of records are in the exact match comparison level\", \"u_probability_description\": \"Amongst non-matching record comparisons, 8.33% of records are in the exact match comparison level\", \"has_tf_adjustments\": false, \"tf_adjustment_column\": null, \"tf_adjustment_weight\": 1.0, \"is_null_level\": false, \"bayes_factor\": 11.781872824595519, \"log2_bayes_factor\": 3.558496980405427, \"comparison_vector_value\": 2, \"max_comparison_vector_value\": 2, \"bayes_factor_description\": \"If comparison level is `exact match` then comparison is 11.78 times more likely to be a match\", \"probability_two_random_records_match\": 0.007006045984371714, \"comparison_sort_order\": 3, \"iteration\": 1}, {\"comparison_name\": \"month_of_birth\", \"sql_condition\": \"abs(month_of_birth_l - month_of_birth_r) <= 3\", \"label_for_charts\": \"Inexact match\", \"m_probability\": 0.00973867090332014, \"u_probability\": 0.41938802504669287, \"m_probability_description\": \"Amongst matching record comparisons, 0.97% of records are in the inexact match comparison level\", \"u_probability_description\": \"Amongst non-matching record comparisons, 41.94% of records are in the inexact match comparison level\", \"has_tf_adjustments\": false, \"tf_adjustment_column\": null, \"tf_adjustment_weight\": 1.0, \"is_null_level\": false, \"bayes_factor\": 0.02322114681799958, \"log2_bayes_factor\": -5.428416965728666, \"comparison_vector_value\": 1, \"max_comparison_vector_value\": 2, \"bayes_factor_description\": \"If comparison level is `inexact match` then comparison is  43.06 times less likely to be a match\", \"probability_two_random_records_match\": 0.007006045984371714, \"comparison_sort_order\": 3, \"iteration\": 1}, {\"comparison_name\": \"month_of_birth\", \"sql_condition\": \"ELSE\", \"label_for_charts\": \"All other comparisons\", \"m_probability\": 0.009364952000761312, \"u_probability\": 0.4973572673444942, \"m_probability_description\": \"Amongst matching record comparisons, 0.94% of records are in the all other comparisons comparison level\", \"u_probability_description\": \"Amongst non-matching record comparisons, 49.74% of records are in the all other comparisons comparison level\", \"has_tf_adjustments\": false, \"tf_adjustment_column\": null, \"tf_adjustment_weight\": 1.0, \"is_null_level\": false, \"bayes_factor\": 0.018829426280956872, \"log2_bayes_factor\": -5.730867147030655, \"comparison_vector_value\": 0, \"max_comparison_vector_value\": 2, \"bayes_factor_description\": \"If comparison level is `all other comparisons` then comparison is  53.11 times less likely to be a match\", \"probability_two_random_records_match\": 0.007006045984371714, \"comparison_sort_order\": 3, \"iteration\": 1}, {\"comparison_name\": \"year_of_birth\", \"sql_condition\": \"\\\"year_of_birth_l\\\" = \\\"year_of_birth_r\\\"\", \"label_for_charts\": \"Exact match\", \"m_probability\": 0.9682741476623955, \"u_probability\": 0.01093448234753138, \"m_probability_description\": \"Amongst matching record comparisons, 96.83% of records are in the exact match comparison level\", \"u_probability_description\": \"Amongst non-matching record comparisons, 1.09% of records are in the exact match comparison level\", \"has_tf_adjustments\": false, \"tf_adjustment_column\": null, \"tf_adjustment_weight\": 1.0, \"is_null_level\": false, \"bayes_factor\": 88.55235363574369, \"log2_bayes_factor\": 6.468458747810226, \"comparison_vector_value\": 2, \"max_comparison_vector_value\": 2, \"bayes_factor_description\": \"If comparison level is `exact match` then comparison is 88.55 times more likely to be a match\", \"probability_two_random_records_match\": 0.007006045984371714, \"comparison_sort_order\": 4, \"iteration\": 1}, {\"comparison_name\": \"year_of_birth\", \"sql_condition\": \"abs(year_of_birth_l - year_of_birth_r) <= 5\", \"label_for_charts\": \"Inexact match\", \"m_probability\": 0.01110259990820039, \"u_probability\": 0.10883934805933546, \"m_probability_description\": \"Amongst matching record comparisons, 1.11% of records are in the inexact match comparison level\", \"u_probability_description\": \"Amongst non-matching record comparisons, 10.88% of records are in the inexact match comparison level\", \"has_tf_adjustments\": false, \"tf_adjustment_column\": null, \"tf_adjustment_weight\": 1.0, \"is_null_level\": false, \"bayes_factor\": 0.10200906295531681, \"log2_bayes_factor\": -3.2932307613195233, \"comparison_vector_value\": 1, \"max_comparison_vector_value\": 2, \"bayes_factor_description\": \"If comparison level is `inexact match` then comparison is  9.80 times less likely to be a match\", \"probability_two_random_records_match\": 0.007006045984371714, \"comparison_sort_order\": 4, \"iteration\": 1}, {\"comparison_name\": \"year_of_birth\", \"sql_condition\": \"ELSE\", \"label_for_charts\": \"All other comparisons\", \"m_probability\": 0.02062325242940403, \"u_probability\": 0.8802261695931332, \"m_probability_description\": \"Amongst matching record comparisons, 2.06% of records are in the all other comparisons comparison level\", \"u_probability_description\": \"Amongst non-matching record comparisons, 88.02% of records are in the all other comparisons comparison level\", \"has_tf_adjustments\": false, \"tf_adjustment_column\": null, \"tf_adjustment_weight\": 1.0, \"is_null_level\": false, \"bayes_factor\": 0.023429492489341366, \"log2_bayes_factor\": -5.415530485724779, \"comparison_vector_value\": 0, \"max_comparison_vector_value\": 2, \"bayes_factor_description\": \"If comparison level is `all other comparisons` then comparison is  42.68 times less likely to be a match\", \"probability_two_random_records_match\": 0.007006045984371714, \"comparison_sort_order\": 4, \"iteration\": 1}, {\"comparison_name\": \"geokey\", \"sql_condition\": \"\\\"geokey_l\\\" = \\\"geokey_r\\\"\", \"label_for_charts\": \"Exact match\", \"m_probability\": 0.5929367874049268, \"u_probability\": 0.0021770137377073793, \"m_probability_description\": \"Amongst matching record comparisons, 59.29% of records are in the exact match comparison level\", \"u_probability_description\": \"Amongst non-matching record comparisons, 0.22% of records are in the exact match comparison level\", \"has_tf_adjustments\": false, \"tf_adjustment_column\": null, \"tf_adjustment_weight\": 1.0, \"is_null_level\": false, \"bayes_factor\": 272.3624463800355, \"log2_bayes_factor\": 8.089383986530702, \"comparison_vector_value\": 2, \"max_comparison_vector_value\": 2, \"bayes_factor_description\": \"If comparison level is `exact match` then comparison is 272.36 times more likely to be a match\", \"probability_two_random_records_match\": 0.007006045984371714, \"comparison_sort_order\": 5, \"iteration\": 1}, {\"comparison_name\": \"geokey\", \"sql_condition\": \"jaro_winkler_similarity(\\\"geokey_l\\\", \\\"geokey_r\\\") >= 0.7222222222222222\", \"label_for_charts\": \"Jaro_winkler_similarity >= 0.7222222222222222\", \"m_probability\": 0.40327433448188, \"u_probability\": 0.2267847759177239, \"m_probability_description\": \"Amongst matching record comparisons, 40.33% of records are in the jaro_winkler_similarity >= 0.7222222222222222 comparison level\", \"u_probability_description\": \"Amongst non-matching record comparisons, 22.68% of records are in the jaro_winkler_similarity >= 0.7222222222222222 comparison level\", \"has_tf_adjustments\": false, \"tf_adjustment_column\": null, \"tf_adjustment_weight\": 1.0, \"is_null_level\": false, \"bayes_factor\": 1.7782248956084488, \"log2_bayes_factor\": 0.8304377961929251, \"comparison_vector_value\": 1, \"max_comparison_vector_value\": 2, \"bayes_factor_description\": \"If comparison level is `jaro_winkler_similarity >= 0.7222222222222222` then comparison is 1.78 times more likely to be a match\", \"probability_two_random_records_match\": 0.007006045984371714, \"comparison_sort_order\": 5, \"iteration\": 1}, {\"comparison_name\": \"geokey\", \"sql_condition\": \"ELSE\", \"label_for_charts\": \"All other comparisons\", \"m_probability\": 0.0037888781131933244, \"u_probability\": 0.7710382103445688, \"m_probability_description\": \"Amongst matching record comparisons, 0.38% of records are in the all other comparisons comparison level\", \"u_probability_description\": \"Amongst non-matching record comparisons, 77.10% of records are in the all other comparisons comparison level\", \"has_tf_adjustments\": false, \"tf_adjustment_column\": null, \"tf_adjustment_weight\": 1.0, \"is_null_level\": false, \"bayes_factor\": 0.004913995262958648, \"log2_bayes_factor\": -7.668887817704655, \"comparison_vector_value\": 0, \"max_comparison_vector_value\": 2, \"bayes_factor_description\": \"If comparison level is `all other comparisons` then comparison is  203.50 times less likely to be a match\", \"probability_two_random_records_match\": 0.007006045984371714, \"comparison_sort_order\": 5, \"iteration\": 1}, {\"comparison_name\": \"last_name_12\", \"sql_condition\": \"\\\"last_name_12_l\\\" = \\\"last_name_12_r\\\"\", \"label_for_charts\": \"Exact match\", \"m_probability\": 0.88181494795521, \"u_probability\": 0.0006988639102327646, \"m_probability_description\": \"Amongst matching record comparisons, 88.18% of records are in the exact match comparison level\", \"u_probability_description\": \"Amongst non-matching record comparisons, 0.07% of records are in the exact match comparison level\", \"has_tf_adjustments\": false, \"tf_adjustment_column\": null, \"tf_adjustment_weight\": 1.0, \"is_null_level\": false, \"bayes_factor\": 1261.783496105145, \"log2_bayes_factor\": 10.301248670504567, \"comparison_vector_value\": 2, \"max_comparison_vector_value\": 2, \"bayes_factor_description\": \"If comparison level is `exact match` then comparison is 1,261.78 times more likely to be a match\", \"probability_two_random_records_match\": 0.007006045984371714, \"comparison_sort_order\": 0, \"iteration\": 2}, {\"comparison_name\": \"last_name_12\", \"sql_condition\": \"jaro_winkler_similarity(\\\"last_name_12_l\\\", \\\"last_name_12_r\\\") >= 0.8333333333333334\", \"label_for_charts\": \"Jaro_winkler_similarity >= 0.8333333333333334\", \"m_probability\": 0.09027153555125658, \"u_probability\": 0.0013365997755498443, \"m_probability_description\": \"Amongst matching record comparisons, 9.03% of records are in the jaro_winkler_similarity >= 0.8333333333333334 comparison level\", \"u_probability_description\": \"Amongst non-matching record comparisons, 0.13% of records are in the jaro_winkler_similarity >= 0.8333333333333334 comparison level\", \"has_tf_adjustments\": false, \"tf_adjustment_column\": null, \"tf_adjustment_weight\": 1.0, \"is_null_level\": false, \"bayes_factor\": 67.53819445624333, \"log2_bayes_factor\": 6.077631706216137, \"comparison_vector_value\": 1, \"max_comparison_vector_value\": 2, \"bayes_factor_description\": \"If comparison level is `jaro_winkler_similarity >= 0.8333333333333334` then comparison is 67.54 times more likely to be a match\", \"probability_two_random_records_match\": 0.007006045984371714, \"comparison_sort_order\": 0, \"iteration\": 2}, {\"comparison_name\": \"last_name_12\", \"sql_condition\": \"ELSE\", \"label_for_charts\": \"All other comparisons\", \"m_probability\": 0.027913516493533373, \"u_probability\": 0.9979645363142174, \"m_probability_description\": \"Amongst matching record comparisons, 2.79% of records are in the all other comparisons comparison level\", \"u_probability_description\": \"Amongst non-matching record comparisons, 99.80% of records are in the all other comparisons comparison level\", \"has_tf_adjustments\": false, \"tf_adjustment_column\": null, \"tf_adjustment_weight\": 1.0, \"is_null_level\": false, \"bayes_factor\": 0.027970449327414347, \"log2_bayes_factor\": -5.159952759799534, \"comparison_vector_value\": 0, \"max_comparison_vector_value\": 2, \"bayes_factor_description\": \"If comparison level is `all other comparisons` then comparison is  35.75 times less likely to be a match\", \"probability_two_random_records_match\": 0.007006045984371714, \"comparison_sort_order\": 0, \"iteration\": 2}, {\"comparison_name\": \"middle_initial\", \"sql_condition\": \"\\\"middle_initial_l\\\" = \\\"middle_initial_r\\\"\", \"label_for_charts\": \"Exact match\", \"m_probability\": 0.9441499902477265, \"u_probability\": 0.07417855709636824, \"m_probability_description\": \"Amongst matching record comparisons, 94.41% of records are in the exact match comparison level\", \"u_probability_description\": \"Amongst non-matching record comparisons, 7.42% of records are in the exact match comparison level\", \"has_tf_adjustments\": false, \"tf_adjustment_column\": null, \"tf_adjustment_weight\": 1.0, \"is_null_level\": false, \"bayes_factor\": 12.728071658513722, \"log2_bayes_factor\": 3.669941958004863, \"comparison_vector_value\": 1, \"max_comparison_vector_value\": 1, \"bayes_factor_description\": \"If comparison level is `exact match` then comparison is 12.73 times more likely to be a match\", \"probability_two_random_records_match\": 0.007006045984371714, \"comparison_sort_order\": 1, \"iteration\": 2}, {\"comparison_name\": \"middle_initial\", \"sql_condition\": \"ELSE\", \"label_for_charts\": \"All other comparisons\", \"m_probability\": 0.055850009752273444, \"u_probability\": 0.9258214429036318, \"m_probability_description\": \"Amongst matching record comparisons, 5.59% of records are in the all other comparisons comparison level\", \"u_probability_description\": \"Amongst non-matching record comparisons, 92.58% of records are in the all other comparisons comparison level\", \"has_tf_adjustments\": false, \"tf_adjustment_column\": null, \"tf_adjustment_weight\": 1.0, \"is_null_level\": false, \"bayes_factor\": 0.06032481768526811, \"log2_bayes_factor\": -4.051104539465601, \"comparison_vector_value\": 0, \"max_comparison_vector_value\": 1, \"bayes_factor_description\": \"If comparison level is `all other comparisons` then comparison is  16.58 times less likely to be a match\", \"probability_two_random_records_match\": 0.007006045984371714, \"comparison_sort_order\": 1, \"iteration\": 2}, {\"comparison_name\": \"day_of_birth\", \"sql_condition\": \"\\\"day_of_birth_l\\\" = \\\"day_of_birth_r\\\"\", \"label_for_charts\": \"Exact match\", \"m_probability\": 0.9759942346517871, \"u_probability\": 0.032483267196893574, \"m_probability_description\": \"Amongst matching record comparisons, 97.60% of records are in the exact match comparison level\", \"u_probability_description\": \"Amongst non-matching record comparisons, 3.25% of records are in the exact match comparison level\", \"has_tf_adjustments\": false, \"tf_adjustment_column\": null, \"tf_adjustment_weight\": 1.0, \"is_null_level\": false, \"bayes_factor\": 30.046061214714356, \"log2_bayes_factor\": 4.909103973063619, \"comparison_vector_value\": 2, \"max_comparison_vector_value\": 2, \"bayes_factor_description\": \"If comparison level is `exact match` then comparison is 30.05 times more likely to be a match\", \"probability_two_random_records_match\": 0.007006045984371714, \"comparison_sort_order\": 2, \"iteration\": 2}, {\"comparison_name\": \"day_of_birth\", \"sql_condition\": \"abs(day_of_birth_l - day_of_birth_r) <= 5\", \"label_for_charts\": \"Inexact match\", \"m_probability\": 0.01574212758756279, \"u_probability\": 0.2953114089616295, \"m_probability_description\": \"Amongst matching record comparisons, 1.57% of records are in the inexact match comparison level\", \"u_probability_description\": \"Amongst non-matching record comparisons, 29.53% of records are in the inexact match comparison level\", \"has_tf_adjustments\": false, \"tf_adjustment_column\": null, \"tf_adjustment_weight\": 1.0, \"is_null_level\": false, \"bayes_factor\": 0.053306872372168336, \"log2_bayes_factor\": -4.22953465119721, \"comparison_vector_value\": 1, \"max_comparison_vector_value\": 2, \"bayes_factor_description\": \"If comparison level is `inexact match` then comparison is  18.76 times less likely to be a match\", \"probability_two_random_records_match\": 0.007006045984371714, \"comparison_sort_order\": 2, \"iteration\": 2}, {\"comparison_name\": \"day_of_birth\", \"sql_condition\": \"ELSE\", \"label_for_charts\": \"All other comparisons\", \"m_probability\": 0.008263637760649993, \"u_probability\": 0.6722053238414769, \"m_probability_description\": \"Amongst matching record comparisons, 0.83% of records are in the all other comparisons comparison level\", \"u_probability_description\": \"Amongst non-matching record comparisons, 67.22% of records are in the all other comparisons comparison level\", \"has_tf_adjustments\": false, \"tf_adjustment_column\": null, \"tf_adjustment_weight\": 1.0, \"is_null_level\": false, \"bayes_factor\": 0.012293323881199681, \"log2_bayes_factor\": -6.345981143992588, \"comparison_vector_value\": 0, \"max_comparison_vector_value\": 2, \"bayes_factor_description\": \"If comparison level is `all other comparisons` then comparison is  81.34 times less likely to be a match\", \"probability_two_random_records_match\": 0.007006045984371714, \"comparison_sort_order\": 2, \"iteration\": 2}, {\"comparison_name\": \"month_of_birth\", \"sql_condition\": \"\\\"month_of_birth_l\\\" = \\\"month_of_birth_r\\\"\", \"label_for_charts\": \"Exact match\", \"m_probability\": 0.9830834889489156, \"u_probability\": 0.0832547076088129, \"m_probability_description\": \"Amongst matching record comparisons, 98.31% of records are in the exact match comparison level\", \"u_probability_description\": \"Amongst non-matching record comparisons, 8.33% of records are in the exact match comparison level\", \"has_tf_adjustments\": false, \"tf_adjustment_column\": null, \"tf_adjustment_weight\": 1.0, \"is_null_level\": false, \"bayes_factor\": 11.808142952925964, \"log2_bayes_factor\": 3.5617101872036088, \"comparison_vector_value\": 2, \"max_comparison_vector_value\": 2, \"bayes_factor_description\": \"If comparison level is `exact match` then comparison is 11.81 times more likely to be a match\", \"probability_two_random_records_match\": 0.007006045984371714, \"comparison_sort_order\": 3, \"iteration\": 2}, {\"comparison_name\": \"month_of_birth\", \"sql_condition\": \"abs(month_of_birth_l - month_of_birth_r) <= 3\", \"label_for_charts\": \"Inexact match\", \"m_probability\": 0.008632721142466543, \"u_probability\": 0.41938802504669287, \"m_probability_description\": \"Amongst matching record comparisons, 0.86% of records are in the inexact match comparison level\", \"u_probability_description\": \"Amongst non-matching record comparisons, 41.94% of records are in the inexact match comparison level\", \"has_tf_adjustments\": false, \"tf_adjustment_column\": null, \"tf_adjustment_weight\": 1.0, \"is_null_level\": false, \"bayes_factor\": 0.020584090691443593, \"log2_bayes_factor\": -5.602326471206402, \"comparison_vector_value\": 1, \"max_comparison_vector_value\": 2, \"bayes_factor_description\": \"If comparison level is `inexact match` then comparison is  48.58 times less likely to be a match\", \"probability_two_random_records_match\": 0.007006045984371714, \"comparison_sort_order\": 3, \"iteration\": 2}, {\"comparison_name\": \"month_of_birth\", \"sql_condition\": \"ELSE\", \"label_for_charts\": \"All other comparisons\", \"m_probability\": 0.008283789908617879, \"u_probability\": 0.4973572673444942, \"m_probability_description\": \"Amongst matching record comparisons, 0.83% of records are in the all other comparisons comparison level\", \"u_probability_description\": \"Amongst non-matching record comparisons, 49.74% of records are in the all other comparisons comparison level\", \"has_tf_adjustments\": false, \"tf_adjustment_column\": null, \"tf_adjustment_weight\": 1.0, \"is_null_level\": false, \"bayes_factor\": 0.01665561247922837, \"log2_bayes_factor\": -5.907847782355168, \"comparison_vector_value\": 0, \"max_comparison_vector_value\": 2, \"bayes_factor_description\": \"If comparison level is `all other comparisons` then comparison is  60.04 times less likely to be a match\", \"probability_two_random_records_match\": 0.007006045984371714, \"comparison_sort_order\": 3, \"iteration\": 2}, {\"comparison_name\": \"year_of_birth\", \"sql_condition\": \"\\\"year_of_birth_l\\\" = \\\"year_of_birth_r\\\"\", \"label_for_charts\": \"Exact match\", \"m_probability\": 0.9711288143567486, \"u_probability\": 0.01093448234753138, \"m_probability_description\": \"Amongst matching record comparisons, 97.11% of records are in the exact match comparison level\", \"u_probability_description\": \"Amongst non-matching record comparisons, 1.09% of records are in the exact match comparison level\", \"has_tf_adjustments\": false, \"tf_adjustment_column\": null, \"tf_adjustment_weight\": 1.0, \"is_null_level\": false, \"bayes_factor\": 88.81342376267087, \"log2_bayes_factor\": 6.472705845023423, \"comparison_vector_value\": 2, \"max_comparison_vector_value\": 2, \"bayes_factor_description\": \"If comparison level is `exact match` then comparison is 88.81 times more likely to be a match\", \"probability_two_random_records_match\": 0.007006045984371714, \"comparison_sort_order\": 4, \"iteration\": 2}, {\"comparison_name\": \"year_of_birth\", \"sql_condition\": \"abs(year_of_birth_l - year_of_birth_r) <= 5\", \"label_for_charts\": \"Inexact match\", \"m_probability\": 0.009802119742314637, \"u_probability\": 0.10883934805933546, \"m_probability_description\": \"Amongst matching record comparisons, 0.98% of records are in the inexact match comparison level\", \"u_probability_description\": \"Amongst non-matching record comparisons, 10.88% of records are in the inexact match comparison level\", \"has_tf_adjustments\": false, \"tf_adjustment_column\": null, \"tf_adjustment_weight\": 1.0, \"is_null_level\": false, \"bayes_factor\": 0.09006044153232946, \"log2_bayes_factor\": -3.4729626390887423, \"comparison_vector_value\": 1, \"max_comparison_vector_value\": 2, \"bayes_factor_description\": \"If comparison level is `inexact match` then comparison is  11.10 times less likely to be a match\", \"probability_two_random_records_match\": 0.007006045984371714, \"comparison_sort_order\": 4, \"iteration\": 2}, {\"comparison_name\": \"year_of_birth\", \"sql_condition\": \"ELSE\", \"label_for_charts\": \"All other comparisons\", \"m_probability\": 0.019069065900936728, \"u_probability\": 0.8802261695931332, \"m_probability_description\": \"Amongst matching record comparisons, 1.91% of records are in the all other comparisons comparison level\", \"u_probability_description\": \"Amongst non-matching record comparisons, 88.02% of records are in the all other comparisons comparison level\", \"has_tf_adjustments\": false, \"tf_adjustment_column\": null, \"tf_adjustment_weight\": 1.0, \"is_null_level\": false, \"bayes_factor\": 0.02166382522999858, \"log2_bayes_factor\": -5.528568184450775, \"comparison_vector_value\": 0, \"max_comparison_vector_value\": 2, \"bayes_factor_description\": \"If comparison level is `all other comparisons` then comparison is  46.16 times less likely to be a match\", \"probability_two_random_records_match\": 0.007006045984371714, \"comparison_sort_order\": 4, \"iteration\": 2}, {\"comparison_name\": \"geokey\", \"sql_condition\": \"\\\"geokey_l\\\" = \\\"geokey_r\\\"\", \"label_for_charts\": \"Exact match\", \"m_probability\": 0.5836634948830997, \"u_probability\": 0.0021770137377073793, \"m_probability_description\": \"Amongst matching record comparisons, 58.37% of records are in the exact match comparison level\", \"u_probability_description\": \"Amongst non-matching record comparisons, 0.22% of records are in the exact match comparison level\", \"has_tf_adjustments\": false, \"tf_adjustment_column\": null, \"tf_adjustment_weight\": 1.0, \"is_null_level\": false, \"bayes_factor\": 268.10280742544035, \"log2_bayes_factor\": 8.066642516284883, \"comparison_vector_value\": 2, \"max_comparison_vector_value\": 2, \"bayes_factor_description\": \"If comparison level is `exact match` then comparison is 268.10 times more likely to be a match\", \"probability_two_random_records_match\": 0.007006045984371714, \"comparison_sort_order\": 5, \"iteration\": 2}, {\"comparison_name\": \"geokey\", \"sql_condition\": \"jaro_winkler_similarity(\\\"geokey_l\\\", \\\"geokey_r\\\") >= 0.7222222222222222\", \"label_for_charts\": \"Jaro_winkler_similarity >= 0.7222222222222222\", \"m_probability\": 0.4125687560793122, \"u_probability\": 0.2267847759177239, \"m_probability_description\": \"Amongst matching record comparisons, 41.26% of records are in the jaro_winkler_similarity >= 0.7222222222222222 comparison level\", \"u_probability_description\": \"Amongst non-matching record comparisons, 22.68% of records are in the jaro_winkler_similarity >= 0.7222222222222222 comparison level\", \"has_tf_adjustments\": false, \"tf_adjustment_column\": null, \"tf_adjustment_weight\": 1.0, \"is_null_level\": false, \"bayes_factor\": 1.8192083415201978, \"log2_bayes_factor\": 0.8633107744715545, \"comparison_vector_value\": 1, \"max_comparison_vector_value\": 2, \"bayes_factor_description\": \"If comparison level is `jaro_winkler_similarity >= 0.7222222222222222` then comparison is 1.82 times more likely to be a match\", \"probability_two_random_records_match\": 0.007006045984371714, \"comparison_sort_order\": 5, \"iteration\": 2}, {\"comparison_name\": \"geokey\", \"sql_condition\": \"ELSE\", \"label_for_charts\": \"All other comparisons\", \"m_probability\": 0.003767749037588191, \"u_probability\": 0.7710382103445688, \"m_probability_description\": \"Amongst matching record comparisons, 0.38% of records are in the all other comparisons comparison level\", \"u_probability_description\": \"Amongst non-matching record comparisons, 77.10% of records are in the all other comparisons comparison level\", \"has_tf_adjustments\": false, \"tf_adjustment_column\": null, \"tf_adjustment_weight\": 1.0, \"is_null_level\": false, \"bayes_factor\": 0.004886591853735011, \"log2_bayes_factor\": -7.676955674283031, \"comparison_vector_value\": 0, \"max_comparison_vector_value\": 2, \"bayes_factor_description\": \"If comparison level is `all other comparisons` then comparison is  204.64 times less likely to be a match\", \"probability_two_random_records_match\": 0.007006045984371714, \"comparison_sort_order\": 5, \"iteration\": 2}, {\"comparison_name\": \"last_name_12\", \"sql_condition\": \"\\\"last_name_12_l\\\" = \\\"last_name_12_r\\\"\", \"label_for_charts\": \"Exact match\", \"m_probability\": 0.8818945488429414, \"u_probability\": 0.0006988639102327646, \"m_probability_description\": \"Amongst matching record comparisons, 88.19% of records are in the exact match comparison level\", \"u_probability_description\": \"Amongst non-matching record comparisons, 0.07% of records are in the exact match comparison level\", \"has_tf_adjustments\": false, \"tf_adjustment_column\": null, \"tf_adjustment_weight\": 1.0, \"is_null_level\": false, \"bayes_factor\": 1261.8973965177518, \"log2_bayes_factor\": 10.301378895812382, \"comparison_vector_value\": 2, \"max_comparison_vector_value\": 2, \"bayes_factor_description\": \"If comparison level is `exact match` then comparison is 1,261.90 times more likely to be a match\", \"probability_two_random_records_match\": 0.007006045984371714, \"comparison_sort_order\": 0, \"iteration\": 3}, {\"comparison_name\": \"last_name_12\", \"sql_condition\": \"jaro_winkler_similarity(\\\"last_name_12_l\\\", \\\"last_name_12_r\\\") >= 0.8333333333333334\", \"label_for_charts\": \"Jaro_winkler_similarity >= 0.8333333333333334\", \"m_probability\": 0.09035023856683815, \"u_probability\": 0.0013365997755498443, \"m_probability_description\": \"Amongst matching record comparisons, 9.04% of records are in the jaro_winkler_similarity >= 0.8333333333333334 comparison level\", \"u_probability_description\": \"Amongst non-matching record comparisons, 0.13% of records are in the jaro_winkler_similarity >= 0.8333333333333334 comparison level\", \"has_tf_adjustments\": false, \"tf_adjustment_column\": null, \"tf_adjustment_weight\": 1.0, \"is_null_level\": false, \"bayes_factor\": 67.59707746447157, \"log2_bayes_factor\": 6.07888896833775, \"comparison_vector_value\": 1, \"max_comparison_vector_value\": 2, \"bayes_factor_description\": \"If comparison level is `jaro_winkler_similarity >= 0.8333333333333334` then comparison is 67.60 times more likely to be a match\", \"probability_two_random_records_match\": 0.007006045984371714, \"comparison_sort_order\": 0, \"iteration\": 3}, {\"comparison_name\": \"last_name_12\", \"sql_condition\": \"ELSE\", \"label_for_charts\": \"All other comparisons\", \"m_probability\": 0.02775521259022048, \"u_probability\": 0.9979645363142174, \"m_probability_description\": \"Amongst matching record comparisons, 2.78% of records are in the all other comparisons comparison level\", \"u_probability_description\": \"Amongst non-matching record comparisons, 99.80% of records are in the all other comparisons comparison level\", \"has_tf_adjustments\": false, \"tf_adjustment_column\": null, \"tf_adjustment_weight\": 1.0, \"is_null_level\": false, \"bayes_factor\": 0.02781182254504635, \"log2_bayes_factor\": -5.168157900302457, \"comparison_vector_value\": 0, \"max_comparison_vector_value\": 2, \"bayes_factor_description\": \"If comparison level is `all other comparisons` then comparison is  35.96 times less likely to be a match\", \"probability_two_random_records_match\": 0.007006045984371714, \"comparison_sort_order\": 0, \"iteration\": 3}, {\"comparison_name\": \"middle_initial\", \"sql_condition\": \"\\\"middle_initial_l\\\" = \\\"middle_initial_r\\\"\", \"label_for_charts\": \"Exact match\", \"m_probability\": 0.9441279687593209, \"u_probability\": 0.07417855709636824, \"m_probability_description\": \"Amongst matching record comparisons, 94.41% of records are in the exact match comparison level\", \"u_probability_description\": \"Amongst non-matching record comparisons, 7.42% of records are in the exact match comparison level\", \"has_tf_adjustments\": false, \"tf_adjustment_column\": null, \"tf_adjustment_weight\": 1.0, \"is_null_level\": false, \"bayes_factor\": 12.727774787163462, \"log2_bayes_factor\": 3.669908307988492, \"comparison_vector_value\": 1, \"max_comparison_vector_value\": 1, \"bayes_factor_description\": \"If comparison level is `exact match` then comparison is 12.73 times more likely to be a match\", \"probability_two_random_records_match\": 0.007006045984371714, \"comparison_sort_order\": 1, \"iteration\": 3}, {\"comparison_name\": \"middle_initial\", \"sql_condition\": \"ELSE\", \"label_for_charts\": \"All other comparisons\", \"m_probability\": 0.05587203124067913, \"u_probability\": 0.9258214429036318, \"m_probability_description\": \"Amongst matching record comparisons, 5.59% of records are in the all other comparisons comparison level\", \"u_probability_description\": \"Amongst non-matching record comparisons, 92.58% of records are in the all other comparisons comparison level\", \"has_tf_adjustments\": false, \"tf_adjustment_column\": null, \"tf_adjustment_weight\": 1.0, \"is_null_level\": false, \"bayes_factor\": 0.06034860357678583, \"log2_bayes_factor\": -4.050535801332195, \"comparison_vector_value\": 0, \"max_comparison_vector_value\": 1, \"bayes_factor_description\": \"If comparison level is `all other comparisons` then comparison is  16.57 times less likely to be a match\", \"probability_two_random_records_match\": 0.007006045984371714, \"comparison_sort_order\": 1, \"iteration\": 3}, {\"comparison_name\": \"day_of_birth\", \"sql_condition\": \"\\\"day_of_birth_l\\\" = \\\"day_of_birth_r\\\"\", \"label_for_charts\": \"Exact match\", \"m_probability\": 0.9765591333666584, \"u_probability\": 0.032483267196893574, \"m_probability_description\": \"Amongst matching record comparisons, 97.66% of records are in the exact match comparison level\", \"u_probability_description\": \"Amongst non-matching record comparisons, 3.25% of records are in the exact match comparison level\", \"has_tf_adjustments\": false, \"tf_adjustment_column\": null, \"tf_adjustment_weight\": 1.0, \"is_null_level\": false, \"bayes_factor\": 30.06345166720324, \"log2_bayes_factor\": 4.909938753419062, \"comparison_vector_value\": 2, \"max_comparison_vector_value\": 2, \"bayes_factor_description\": \"If comparison level is `exact match` then comparison is 30.06 times more likely to be a match\", \"probability_two_random_records_match\": 0.007006045984371714, \"comparison_sort_order\": 2, \"iteration\": 3}, {\"comparison_name\": \"day_of_birth\", \"sql_condition\": \"abs(day_of_birth_l - day_of_birth_r) <= 5\", \"label_for_charts\": \"Inexact match\", \"m_probability\": 0.015584496183533303, \"u_probability\": 0.2953114089616295, \"m_probability_description\": \"Amongst matching record comparisons, 1.56% of records are in the inexact match comparison level\", \"u_probability_description\": \"Amongst non-matching record comparisons, 29.53% of records are in the inexact match comparison level\", \"has_tf_adjustments\": false, \"tf_adjustment_column\": null, \"tf_adjustment_weight\": 1.0, \"is_null_level\": false, \"bayes_factor\": 0.05277309210074655, \"log2_bayes_factor\": -4.244053672839841, \"comparison_vector_value\": 1, \"max_comparison_vector_value\": 2, \"bayes_factor_description\": \"If comparison level is `inexact match` then comparison is  18.95 times less likely to be a match\", \"probability_two_random_records_match\": 0.007006045984371714, \"comparison_sort_order\": 2, \"iteration\": 3}, {\"comparison_name\": \"day_of_birth\", \"sql_condition\": \"ELSE\", \"label_for_charts\": \"All other comparisons\", \"m_probability\": 0.007856370449808218, \"u_probability\": 0.6722053238414769, \"m_probability_description\": \"Amongst matching record comparisons, 0.79% of records are in the all other comparisons comparison level\", \"u_probability_description\": \"Amongst non-matching record comparisons, 67.22% of records are in the all other comparisons comparison level\", \"has_tf_adjustments\": false, \"tf_adjustment_column\": null, \"tf_adjustment_weight\": 1.0, \"is_null_level\": false, \"bayes_factor\": 0.01168745645290508, \"log2_bayes_factor\": -6.418895200200755, \"comparison_vector_value\": 0, \"max_comparison_vector_value\": 2, \"bayes_factor_description\": \"If comparison level is `all other comparisons` then comparison is  85.56 times less likely to be a match\", \"probability_two_random_records_match\": 0.007006045984371714, \"comparison_sort_order\": 2, \"iteration\": 3}, {\"comparison_name\": \"month_of_birth\", \"sql_condition\": \"\\\"month_of_birth_l\\\" = \\\"month_of_birth_r\\\"\", \"label_for_charts\": \"Exact match\", \"m_probability\": 0.9835108477744132, \"u_probability\": 0.0832547076088129, \"m_probability_description\": \"Amongst matching record comparisons, 98.35% of records are in the exact match comparison level\", \"u_probability_description\": \"Amongst non-matching record comparisons, 8.33% of records are in the exact match comparison level\", \"has_tf_adjustments\": false, \"tf_adjustment_column\": null, \"tf_adjustment_weight\": 1.0, \"is_null_level\": false, \"bayes_factor\": 11.813276102002717, \"log2_bayes_factor\": 3.5623372087061296, \"comparison_vector_value\": 2, \"max_comparison_vector_value\": 2, \"bayes_factor_description\": \"If comparison level is `exact match` then comparison is 11.81 times more likely to be a match\", \"probability_two_random_records_match\": 0.007006045984371714, \"comparison_sort_order\": 3, \"iteration\": 3}, {\"comparison_name\": \"month_of_birth\", \"sql_condition\": \"abs(month_of_birth_l - month_of_birth_r) <= 3\", \"label_for_charts\": \"Inexact match\", \"m_probability\": 0.008423209698101586, \"u_probability\": 0.41938802504669287, \"m_probability_description\": \"Amongst matching record comparisons, 0.84% of records are in the inexact match comparison level\", \"u_probability_description\": \"Amongst non-matching record comparisons, 41.94% of records are in the inexact match comparison level\", \"has_tf_adjustments\": false, \"tf_adjustment_column\": null, \"tf_adjustment_weight\": 1.0, \"is_null_level\": false, \"bayes_factor\": 0.020084526011833033, \"log2_bayes_factor\": -5.637771775115111, \"comparison_vector_value\": 1, \"max_comparison_vector_value\": 2, \"bayes_factor_description\": \"If comparison level is `inexact match` then comparison is  49.79 times less likely to be a match\", \"probability_two_random_records_match\": 0.007006045984371714, \"comparison_sort_order\": 3, \"iteration\": 3}, {\"comparison_name\": \"month_of_birth\", \"sql_condition\": \"ELSE\", \"label_for_charts\": \"All other comparisons\", \"m_probability\": 0.008065942527485161, \"u_probability\": 0.4973572673444942, \"m_probability_description\": \"Amongst matching record comparisons, 0.81% of records are in the all other comparisons comparison level\", \"u_probability_description\": \"Amongst non-matching record comparisons, 49.74% of records are in the all other comparisons comparison level\", \"has_tf_adjustments\": false, \"tf_adjustment_column\": null, \"tf_adjustment_weight\": 1.0, \"is_null_level\": false, \"bayes_factor\": 0.016217602631104798, \"log2_bayes_factor\": -5.9462956210113385, \"comparison_vector_value\": 0, \"max_comparison_vector_value\": 2, \"bayes_factor_description\": \"If comparison level is `all other comparisons` then comparison is  61.66 times less likely to be a match\", \"probability_two_random_records_match\": 0.007006045984371714, \"comparison_sort_order\": 3, \"iteration\": 3}, {\"comparison_name\": \"year_of_birth\", \"sql_condition\": \"\\\"year_of_birth_l\\\" = \\\"year_of_birth_r\\\"\", \"label_for_charts\": \"Exact match\", \"m_probability\": 0.9717396739897572, \"u_probability\": 0.01093448234753138, \"m_probability_description\": \"Amongst matching record comparisons, 97.17% of records are in the exact match comparison level\", \"u_probability_description\": \"Amongst non-matching record comparisons, 1.09% of records are in the exact match comparison level\", \"has_tf_adjustments\": false, \"tf_adjustment_column\": null, \"tf_adjustment_weight\": 1.0, \"is_null_level\": false, \"bayes_factor\": 88.86928919951495, \"log2_bayes_factor\": 6.473613044041315, \"comparison_vector_value\": 2, \"max_comparison_vector_value\": 2, \"bayes_factor_description\": \"If comparison level is `exact match` then comparison is 88.87 times more likely to be a match\", \"probability_two_random_records_match\": 0.007006045984371714, \"comparison_sort_order\": 4, \"iteration\": 3}, {\"comparison_name\": \"year_of_birth\", \"sql_condition\": \"abs(year_of_birth_l - year_of_birth_r) <= 5\", \"label_for_charts\": \"Inexact match\", \"m_probability\": 0.009591398170543282, \"u_probability\": 0.10883934805933546, \"m_probability_description\": \"Amongst matching record comparisons, 0.96% of records are in the inexact match comparison level\", \"u_probability_description\": \"Amongst non-matching record comparisons, 10.88% of records are in the inexact match comparison level\", \"has_tf_adjustments\": false, \"tf_adjustment_column\": null, \"tf_adjustment_weight\": 1.0, \"is_null_level\": false, \"bayes_factor\": 0.0881243625725724, \"log2_bayes_factor\": -3.5043152727429057, \"comparison_vector_value\": 1, \"max_comparison_vector_value\": 2, \"bayes_factor_description\": \"If comparison level is `inexact match` then comparison is  11.35 times less likely to be a match\", \"probability_two_random_records_match\": 0.007006045984371714, \"comparison_sort_order\": 4, \"iteration\": 3}, {\"comparison_name\": \"year_of_birth\", \"sql_condition\": \"ELSE\", \"label_for_charts\": \"All other comparisons\", \"m_probability\": 0.018668927839699426, \"u_probability\": 0.8802261695931332, \"m_probability_description\": \"Amongst matching record comparisons, 1.87% of records are in the all other comparisons comparison level\", \"u_probability_description\": \"Amongst non-matching record comparisons, 88.02% of records are in the all other comparisons comparison level\", \"has_tf_adjustments\": false, \"tf_adjustment_column\": null, \"tf_adjustment_weight\": 1.0, \"is_null_level\": false, \"bayes_factor\": 0.021209239721114815, \"log2_bayes_factor\": -5.559163283674587, \"comparison_vector_value\": 0, \"max_comparison_vector_value\": 2, \"bayes_factor_description\": \"If comparison level is `all other comparisons` then comparison is  47.15 times less likely to be a match\", \"probability_two_random_records_match\": 0.007006045984371714, \"comparison_sort_order\": 4, \"iteration\": 3}, {\"comparison_name\": \"geokey\", \"sql_condition\": \"\\\"geokey_l\\\" = \\\"geokey_r\\\"\", \"label_for_charts\": \"Exact match\", \"m_probability\": 0.583552327519266, \"u_probability\": 0.0021770137377073793, \"m_probability_description\": \"Amongst matching record comparisons, 58.36% of records are in the exact match comparison level\", \"u_probability_description\": \"Amongst non-matching record comparisons, 0.22% of records are in the exact match comparison level\", \"has_tf_adjustments\": false, \"tf_adjustment_column\": null, \"tf_adjustment_weight\": 1.0, \"is_null_level\": false, \"bayes_factor\": 268.051743271867, \"log2_bayes_factor\": 8.066367707458754, \"comparison_vector_value\": 2, \"max_comparison_vector_value\": 2, \"bayes_factor_description\": \"If comparison level is `exact match` then comparison is 268.05 times more likely to be a match\", \"probability_two_random_records_match\": 0.007006045984371714, \"comparison_sort_order\": 5, \"iteration\": 3}, {\"comparison_name\": \"geokey\", \"sql_condition\": \"jaro_winkler_similarity(\\\"geokey_l\\\", \\\"geokey_r\\\") >= 0.7222222222222222\", \"label_for_charts\": \"Jaro_winkler_similarity >= 0.7222222222222222\", \"m_probability\": 0.4126759512120839, \"u_probability\": 0.2267847759177239, \"m_probability_description\": \"Amongst matching record comparisons, 41.27% of records are in the jaro_winkler_similarity >= 0.7222222222222222 comparison level\", \"u_probability_description\": \"Amongst non-matching record comparisons, 22.68% of records are in the jaro_winkler_similarity >= 0.7222222222222222 comparison level\", \"has_tf_adjustments\": false, \"tf_adjustment_column\": null, \"tf_adjustment_weight\": 1.0, \"is_null_level\": false, \"bayes_factor\": 1.8196810149275635, \"log2_bayes_factor\": 0.8636855721187505, \"comparison_vector_value\": 1, \"max_comparison_vector_value\": 2, \"bayes_factor_description\": \"If comparison level is `jaro_winkler_similarity >= 0.7222222222222222` then comparison is 1.82 times more likely to be a match\", \"probability_two_random_records_match\": 0.007006045984371714, \"comparison_sort_order\": 5, \"iteration\": 3}, {\"comparison_name\": \"geokey\", \"sql_condition\": \"ELSE\", \"label_for_charts\": \"All other comparisons\", \"m_probability\": 0.0037717212686500757, \"u_probability\": 0.7710382103445688, \"m_probability_description\": \"Amongst matching record comparisons, 0.38% of records are in the all other comparisons comparison level\", \"u_probability_description\": \"Amongst non-matching record comparisons, 77.10% of records are in the all other comparisons comparison level\", \"has_tf_adjustments\": false, \"tf_adjustment_column\": null, \"tf_adjustment_weight\": 1.0, \"is_null_level\": false, \"bayes_factor\": 0.004891743649078732, \"log2_bayes_factor\": -7.675435482982656, \"comparison_vector_value\": 0, \"max_comparison_vector_value\": 2, \"bayes_factor_description\": \"If comparison level is `all other comparisons` then comparison is  204.43 times less likely to be a match\", \"probability_two_random_records_match\": 0.007006045984371714, \"comparison_sort_order\": 5, \"iteration\": 3}, {\"comparison_name\": \"last_name_12\", \"sql_condition\": \"\\\"last_name_12_l\\\" = \\\"last_name_12_r\\\"\", \"label_for_charts\": \"Exact match\", \"m_probability\": 0.881925949130947, \"u_probability\": 0.0006988639102327646, \"m_probability_description\": \"Amongst matching record comparisons, 88.19% of records are in the exact match comparison level\", \"u_probability_description\": \"Amongst non-matching record comparisons, 0.07% of records are in the exact match comparison level\", \"has_tf_adjustments\": false, \"tf_adjustment_column\": null, \"tf_adjustment_weight\": 1.0, \"is_null_level\": false, \"bayes_factor\": 1261.942326993551, \"log2_bayes_factor\": 10.301430262762528, \"comparison_vector_value\": 2, \"max_comparison_vector_value\": 2, \"bayes_factor_description\": \"If comparison level is `exact match` then comparison is 1,261.94 times more likely to be a match\", \"probability_two_random_records_match\": 0.007006045984371714, \"comparison_sort_order\": 0, \"iteration\": 4}, {\"comparison_name\": \"last_name_12\", \"sql_condition\": \"jaro_winkler_similarity(\\\"last_name_12_l\\\", \\\"last_name_12_r\\\") >= 0.8333333333333334\", \"label_for_charts\": \"Jaro_winkler_similarity >= 0.8333333333333334\", \"m_probability\": 0.09035675648078183, \"u_probability\": 0.0013365997755498443, \"m_probability_description\": \"Amongst matching record comparisons, 9.04% of records are in the jaro_winkler_similarity >= 0.8333333333333334 comparison level\", \"u_probability_description\": \"Amongst non-matching record comparisons, 0.13% of records are in the jaro_winkler_similarity >= 0.8333333333333334 comparison level\", \"has_tf_adjustments\": false, \"tf_adjustment_column\": null, \"tf_adjustment_weight\": 1.0, \"is_null_level\": false, \"bayes_factor\": 67.60195395335248, \"log2_bayes_factor\": 6.078993041366302, \"comparison_vector_value\": 1, \"max_comparison_vector_value\": 2, \"bayes_factor_description\": \"If comparison level is `jaro_winkler_similarity >= 0.8333333333333334` then comparison is 67.60 times more likely to be a match\", \"probability_two_random_records_match\": 0.007006045984371714, \"comparison_sort_order\": 0, \"iteration\": 4}, {\"comparison_name\": \"last_name_12\", \"sql_condition\": \"ELSE\", \"label_for_charts\": \"All other comparisons\", \"m_probability\": 0.027717294388271155, \"u_probability\": 0.9979645363142174, \"m_probability_description\": \"Amongst matching record comparisons, 2.77% of records are in the all other comparisons comparison level\", \"u_probability_description\": \"Amongst non-matching record comparisons, 99.80% of records are in the all other comparisons comparison level\", \"has_tf_adjustments\": false, \"tf_adjustment_column\": null, \"tf_adjustment_weight\": 1.0, \"is_null_level\": false, \"bayes_factor\": 0.027773827004554132, \"log2_bayes_factor\": -5.170130207429407, \"comparison_vector_value\": 0, \"max_comparison_vector_value\": 2, \"bayes_factor_description\": \"If comparison level is `all other comparisons` then comparison is  36.01 times less likely to be a match\", \"probability_two_random_records_match\": 0.007006045984371714, \"comparison_sort_order\": 0, \"iteration\": 4}, {\"comparison_name\": \"middle_initial\", \"sql_condition\": \"\\\"middle_initial_l\\\" = \\\"middle_initial_r\\\"\", \"label_for_charts\": \"Exact match\", \"m_probability\": 0.9441233961148948, \"u_probability\": 0.07417855709636824, \"m_probability_description\": \"Amongst matching record comparisons, 94.41% of records are in the exact match comparison level\", \"u_probability_description\": \"Amongst non-matching record comparisons, 7.42% of records are in the exact match comparison level\", \"has_tf_adjustments\": false, \"tf_adjustment_column\": null, \"tf_adjustment_weight\": 1.0, \"is_null_level\": false, \"bayes_factor\": 12.727713143413501, \"log2_bayes_factor\": 3.6699013206439464, \"comparison_vector_value\": 1, \"max_comparison_vector_value\": 1, \"bayes_factor_description\": \"If comparison level is `exact match` then comparison is 12.73 times more likely to be a match\", \"probability_two_random_records_match\": 0.007006045984371714, \"comparison_sort_order\": 1, \"iteration\": 4}, {\"comparison_name\": \"middle_initial\", \"sql_condition\": \"ELSE\", \"label_for_charts\": \"All other comparisons\", \"m_probability\": 0.055876603885105104, \"u_probability\": 0.9258214429036318, \"m_probability_description\": \"Amongst matching record comparisons, 5.59% of records are in the all other comparisons comparison level\", \"u_probability_description\": \"Amongst non-matching record comparisons, 92.58% of records are in the all other comparisons comparison level\", \"has_tf_adjustments\": false, \"tf_adjustment_column\": null, \"tf_adjustment_weight\": 1.0, \"is_null_level\": false, \"bayes_factor\": 0.06035354259009236, \"log2_bayes_factor\": -4.05041773400308, \"comparison_vector_value\": 0, \"max_comparison_vector_value\": 1, \"bayes_factor_description\": \"If comparison level is `all other comparisons` then comparison is  16.57 times less likely to be a match\", \"probability_two_random_records_match\": 0.007006045984371714, \"comparison_sort_order\": 1, \"iteration\": 4}, {\"comparison_name\": \"day_of_birth\", \"sql_condition\": \"\\\"day_of_birth_l\\\" = \\\"day_of_birth_r\\\"\", \"label_for_charts\": \"Exact match\", \"m_probability\": 0.9766890160242367, \"u_probability\": 0.032483267196893574, \"m_probability_description\": \"Amongst matching record comparisons, 97.67% of records are in the exact match comparison level\", \"u_probability_description\": \"Amongst non-matching record comparisons, 3.25% of records are in the exact match comparison level\", \"has_tf_adjustments\": false, \"tf_adjustment_column\": null, \"tf_adjustment_weight\": 1.0, \"is_null_level\": false, \"bayes_factor\": 30.067450115290097, \"log2_bayes_factor\": 4.910130619533278, \"comparison_vector_value\": 2, \"max_comparison_vector_value\": 2, \"bayes_factor_description\": \"If comparison level is `exact match` then comparison is 30.07 times more likely to be a match\", \"probability_two_random_records_match\": 0.007006045984371714, \"comparison_sort_order\": 2, \"iteration\": 4}, {\"comparison_name\": \"day_of_birth\", \"sql_condition\": \"abs(day_of_birth_l - day_of_birth_r) <= 5\", \"label_for_charts\": \"Inexact match\", \"m_probability\": 0.015549051150254999, \"u_probability\": 0.2953114089616295, \"m_probability_description\": \"Amongst matching record comparisons, 1.55% of records are in the inexact match comparison level\", \"u_probability_description\": \"Amongst non-matching record comparisons, 29.53% of records are in the inexact match comparison level\", \"has_tf_adjustments\": false, \"tf_adjustment_column\": null, \"tf_adjustment_weight\": 1.0, \"is_null_level\": false, \"bayes_factor\": 0.052653066147794254, \"log2_bayes_factor\": -4.2473386435680345, \"comparison_vector_value\": 1, \"max_comparison_vector_value\": 2, \"bayes_factor_description\": \"If comparison level is `inexact match` then comparison is  18.99 times less likely to be a match\", \"probability_two_random_records_match\": 0.007006045984371714, \"comparison_sort_order\": 2, \"iteration\": 4}, {\"comparison_name\": \"day_of_birth\", \"sql_condition\": \"ELSE\", \"label_for_charts\": \"All other comparisons\", \"m_probability\": 0.007761932825508247, \"u_probability\": 0.6722053238414769, \"m_probability_description\": \"Amongst matching record comparisons, 0.78% of records are in the all other comparisons comparison level\", \"u_probability_description\": \"Amongst non-matching record comparisons, 67.22% of records are in the all other comparisons comparison level\", \"has_tf_adjustments\": false, \"tf_adjustment_column\": null, \"tf_adjustment_weight\": 1.0, \"is_null_level\": false, \"bayes_factor\": 0.011546967199174857, \"log2_bayes_factor\": -6.436342210969626, \"comparison_vector_value\": 0, \"max_comparison_vector_value\": 2, \"bayes_factor_description\": \"If comparison level is `all other comparisons` then comparison is  86.60 times less likely to be a match\", \"probability_two_random_records_match\": 0.007006045984371714, \"comparison_sort_order\": 2, \"iteration\": 4}, {\"comparison_name\": \"month_of_birth\", \"sql_condition\": \"\\\"month_of_birth_l\\\" = \\\"month_of_birth_r\\\"\", \"label_for_charts\": \"Exact match\", \"m_probability\": 0.9836083896248194, \"u_probability\": 0.0832547076088129, \"m_probability_description\": \"Amongst matching record comparisons, 98.36% of records are in the exact match comparison level\", \"u_probability_description\": \"Amongst non-matching record comparisons, 8.33% of records are in the exact match comparison level\", \"has_tf_adjustments\": false, \"tf_adjustment_column\": null, \"tf_adjustment_weight\": 1.0, \"is_null_level\": false, \"bayes_factor\": 11.814447709629574, \"log2_bayes_factor\": 3.5624802840635352, \"comparison_vector_value\": 2, \"max_comparison_vector_value\": 2, \"bayes_factor_description\": \"If comparison level is `exact match` then comparison is 11.81 times more likely to be a match\", \"probability_two_random_records_match\": 0.007006045984371714, \"comparison_sort_order\": 3, \"iteration\": 4}, {\"comparison_name\": \"month_of_birth\", \"sql_condition\": \"abs(month_of_birth_l - month_of_birth_r) <= 3\", \"label_for_charts\": \"Inexact match\", \"m_probability\": 0.008376256741195343, \"u_probability\": 0.41938802504669287, \"m_probability_description\": \"Amongst matching record comparisons, 0.84% of records are in the inexact match comparison level\", \"u_probability_description\": \"Amongst non-matching record comparisons, 41.94% of records are in the inexact match comparison level\", \"has_tf_adjustments\": false, \"tf_adjustment_column\": null, \"tf_adjustment_weight\": 1.0, \"is_null_level\": false, \"bayes_factor\": 0.019972570128254773, \"log2_bayes_factor\": -5.645836194864398, \"comparison_vector_value\": 1, \"max_comparison_vector_value\": 2, \"bayes_factor_description\": \"If comparison level is `inexact match` then comparison is  50.07 times less likely to be a match\", \"probability_two_random_records_match\": 0.007006045984371714, \"comparison_sort_order\": 3, \"iteration\": 4}, {\"comparison_name\": \"month_of_birth\", \"sql_condition\": \"ELSE\", \"label_for_charts\": \"All other comparisons\", \"m_probability\": 0.008015353633985147, \"u_probability\": 0.4973572673444942, \"m_probability_description\": \"Amongst matching record comparisons, 0.80% of records are in the all other comparisons comparison level\", \"u_probability_description\": \"Amongst non-matching record comparisons, 49.74% of records are in the all other comparisons comparison level\", \"has_tf_adjustments\": false, \"tf_adjustment_column\": null, \"tf_adjustment_weight\": 1.0, \"is_null_level\": false, \"bayes_factor\": 0.016115887230885313, \"log2_bayes_factor\": -5.955372574237113, \"comparison_vector_value\": 0, \"max_comparison_vector_value\": 2, \"bayes_factor_description\": \"If comparison level is `all other comparisons` then comparison is  62.05 times less likely to be a match\", \"probability_two_random_records_match\": 0.007006045984371714, \"comparison_sort_order\": 3, \"iteration\": 4}, {\"comparison_name\": \"year_of_birth\", \"sql_condition\": \"\\\"year_of_birth_l\\\" = \\\"year_of_birth_r\\\"\", \"label_for_charts\": \"Exact match\", \"m_probability\": 0.9718761583623579, \"u_probability\": 0.01093448234753138, \"m_probability_description\": \"Amongst matching record comparisons, 97.19% of records are in the exact match comparison level\", \"u_probability_description\": \"Amongst non-matching record comparisons, 1.09% of records are in the exact match comparison level\", \"has_tf_adjustments\": false, \"tf_adjustment_column\": null, \"tf_adjustment_weight\": 1.0, \"is_null_level\": false, \"bayes_factor\": 88.88177121450776, \"log2_bayes_factor\": 6.473815661579777, \"comparison_vector_value\": 2, \"max_comparison_vector_value\": 2, \"bayes_factor_description\": \"If comparison level is `exact match` then comparison is 88.88 times more likely to be a match\", \"probability_two_random_records_match\": 0.007006045984371714, \"comparison_sort_order\": 4, \"iteration\": 4}, {\"comparison_name\": \"year_of_birth\", \"sql_condition\": \"abs(year_of_birth_l - year_of_birth_r) <= 5\", \"label_for_charts\": \"Inexact match\", \"m_probability\": 0.00954987866979537, \"u_probability\": 0.10883934805933546, \"m_probability_description\": \"Amongst matching record comparisons, 0.95% of records are in the inexact match comparison level\", \"u_probability_description\": \"Amongst non-matching record comparisons, 10.88% of records are in the inexact match comparison level\", \"has_tf_adjustments\": false, \"tf_adjustment_column\": null, \"tf_adjustment_weight\": 1.0, \"is_null_level\": false, \"bayes_factor\": 0.08774288747658711, \"log2_bayes_factor\": -3.5105740058747483, \"comparison_vector_value\": 1, \"max_comparison_vector_value\": 2, \"bayes_factor_description\": \"If comparison level is `inexact match` then comparison is  11.40 times less likely to be a match\", \"probability_two_random_records_match\": 0.007006045984371714, \"comparison_sort_order\": 4, \"iteration\": 4}, {\"comparison_name\": \"year_of_birth\", \"sql_condition\": \"ELSE\", \"label_for_charts\": \"All other comparisons\", \"m_probability\": 0.018573962967846743, \"u_probability\": 0.8802261695931332, \"m_probability_description\": \"Amongst matching record comparisons, 1.86% of records are in the all other comparisons comparison level\", \"u_probability_description\": \"Amongst non-matching record comparisons, 88.02% of records are in the all other comparisons comparison level\", \"has_tf_adjustments\": false, \"tf_adjustment_column\": null, \"tf_adjustment_weight\": 1.0, \"is_null_level\": false, \"bayes_factor\": 0.02110135282211864, \"log2_bayes_factor\": -5.566520695714411, \"comparison_vector_value\": 0, \"max_comparison_vector_value\": 2, \"bayes_factor_description\": \"If comparison level is `all other comparisons` then comparison is  47.39 times less likely to be a match\", \"probability_two_random_records_match\": 0.007006045984371714, \"comparison_sort_order\": 4, \"iteration\": 4}, {\"comparison_name\": \"geokey\", \"sql_condition\": \"\\\"geokey_l\\\" = \\\"geokey_r\\\"\", \"label_for_charts\": \"Exact match\", \"m_probability\": 0.5835481826754444, \"u_probability\": 0.0021770137377073793, \"m_probability_description\": \"Amongst matching record comparisons, 58.35% of records are in the exact match comparison level\", \"u_probability_description\": \"Amongst non-matching record comparisons, 0.22% of records are in the exact match comparison level\", \"has_tf_adjustments\": false, \"tf_adjustment_column\": null, \"tf_adjustment_weight\": 1.0, \"is_null_level\": false, \"bayes_factor\": 268.04983935929636, \"log2_bayes_factor\": 8.066357460276828, \"comparison_vector_value\": 2, \"max_comparison_vector_value\": 2, \"bayes_factor_description\": \"If comparison level is `exact match` then comparison is 268.05 times more likely to be a match\", \"probability_two_random_records_match\": 0.007006045984371714, \"comparison_sort_order\": 5, \"iteration\": 4}, {\"comparison_name\": \"geokey\", \"sql_condition\": \"jaro_winkler_similarity(\\\"geokey_l\\\", \\\"geokey_r\\\") >= 0.7222222222222222\", \"label_for_charts\": \"Jaro_winkler_similarity >= 0.7222222222222222\", \"m_probability\": 0.41267920899998, \"u_probability\": 0.2267847759177239, \"m_probability_description\": \"Amongst matching record comparisons, 41.27% of records are in the jaro_winkler_similarity >= 0.7222222222222222 comparison level\", \"u_probability_description\": \"Amongst non-matching record comparisons, 22.68% of records are in the jaro_winkler_similarity >= 0.7222222222222222 comparison level\", \"has_tf_adjustments\": false, \"tf_adjustment_column\": null, \"tf_adjustment_weight\": 1.0, \"is_null_level\": false, \"bayes_factor\": 1.8196953800359927, \"log2_bayes_factor\": 0.8636969611417279, \"comparison_vector_value\": 1, \"max_comparison_vector_value\": 2, \"bayes_factor_description\": \"If comparison level is `jaro_winkler_similarity >= 0.7222222222222222` then comparison is 1.82 times more likely to be a match\", \"probability_two_random_records_match\": 0.007006045984371714, \"comparison_sort_order\": 5, \"iteration\": 4}, {\"comparison_name\": \"geokey\", \"sql_condition\": \"ELSE\", \"label_for_charts\": \"All other comparisons\", \"m_probability\": 0.0037726083245755576, \"u_probability\": 0.7710382103445688, \"m_probability_description\": \"Amongst matching record comparisons, 0.38% of records are in the all other comparisons comparison level\", \"u_probability_description\": \"Amongst non-matching record comparisons, 77.10% of records are in the all other comparisons comparison level\", \"has_tf_adjustments\": false, \"tf_adjustment_column\": null, \"tf_adjustment_weight\": 1.0, \"is_null_level\": false, \"bayes_factor\": 0.004892894118554279, \"log2_bayes_factor\": -7.675096221243156, \"comparison_vector_value\": 0, \"max_comparison_vector_value\": 2, \"bayes_factor_description\": \"If comparison level is `all other comparisons` then comparison is  204.38 times less likely to be a match\", \"probability_two_random_records_match\": 0.007006045984371714, \"comparison_sort_order\": 5, \"iteration\": 4}, {\"comparison_name\": \"last_name_12\", \"sql_condition\": \"\\\"last_name_12_l\\\" = \\\"last_name_12_r\\\"\", \"label_for_charts\": \"Exact match\", \"m_probability\": 0.8819331741788478, \"u_probability\": 0.0006988639102327646, \"m_probability_description\": \"Amongst matching record comparisons, 88.19% of records are in the exact match comparison level\", \"u_probability_description\": \"Amongst non-matching record comparisons, 0.07% of records are in the exact match comparison level\", \"has_tf_adjustments\": false, \"tf_adjustment_column\": null, \"tf_adjustment_weight\": 1.0, \"is_null_level\": false, \"bayes_factor\": 1261.9526652694226, \"log2_bayes_factor\": 10.301442081779863, \"comparison_vector_value\": 2, \"max_comparison_vector_value\": 2, \"bayes_factor_description\": \"If comparison level is `exact match` then comparison is 1,261.95 times more likely to be a match\", \"probability_two_random_records_match\": 0.007006045984371714, \"comparison_sort_order\": 0, \"iteration\": 5}, {\"comparison_name\": \"last_name_12\", \"sql_condition\": \"jaro_winkler_similarity(\\\"last_name_12_l\\\", \\\"last_name_12_r\\\") >= 0.8333333333333334\", \"label_for_charts\": \"Jaro_winkler_similarity >= 0.8333333333333334\", \"m_probability\": 0.0903580975548666, \"u_probability\": 0.0013365997755498443, \"m_probability_description\": \"Amongst matching record comparisons, 9.04% of records are in the jaro_winkler_similarity >= 0.8333333333333334 comparison level\", \"u_probability_description\": \"Amongst non-matching record comparisons, 0.13% of records are in the jaro_winkler_similarity >= 0.8333333333333334 comparison level\", \"has_tf_adjustments\": false, \"tf_adjustment_column\": null, \"tf_adjustment_weight\": 1.0, \"is_null_level\": false, \"bayes_factor\": 67.6029573008835, \"log2_bayes_factor\": 6.07901445367291, \"comparison_vector_value\": 1, \"max_comparison_vector_value\": 2, \"bayes_factor_description\": \"If comparison level is `jaro_winkler_similarity >= 0.8333333333333334` then comparison is 67.60 times more likely to be a match\", \"probability_two_random_records_match\": 0.007006045984371714, \"comparison_sort_order\": 0, \"iteration\": 5}, {\"comparison_name\": \"last_name_12\", \"sql_condition\": \"ELSE\", \"label_for_charts\": \"All other comparisons\", \"m_probability\": 0.027708728266285614, \"u_probability\": 0.9979645363142174, \"m_probability_description\": \"Amongst matching record comparisons, 2.77% of records are in the all other comparisons comparison level\", \"u_probability_description\": \"Amongst non-matching record comparisons, 99.80% of records are in the all other comparisons comparison level\", \"has_tf_adjustments\": false, \"tf_adjustment_column\": null, \"tf_adjustment_weight\": 1.0, \"is_null_level\": false, \"bayes_factor\": 0.027765243410975568, \"log2_bayes_factor\": -5.1705761460414426, \"comparison_vector_value\": 0, \"max_comparison_vector_value\": 2, \"bayes_factor_description\": \"If comparison level is `all other comparisons` then comparison is  36.02 times less likely to be a match\", \"probability_two_random_records_match\": 0.007006045984371714, \"comparison_sort_order\": 0, \"iteration\": 5}, {\"comparison_name\": \"middle_initial\", \"sql_condition\": \"\\\"middle_initial_l\\\" = \\\"middle_initial_r\\\"\", \"label_for_charts\": \"Exact match\", \"m_probability\": 0.9441223311390134, \"u_probability\": 0.07417855709636824, \"m_probability_description\": \"Amongst matching record comparisons, 94.41% of records are in the exact match comparison level\", \"u_probability_description\": \"Amongst non-matching record comparisons, 7.42% of records are in the exact match comparison level\", \"has_tf_adjustments\": false, \"tf_adjustment_column\": null, \"tf_adjustment_weight\": 1.0, \"is_null_level\": false, \"bayes_factor\": 12.72769878648984, \"log2_bayes_factor\": 3.669899693275855, \"comparison_vector_value\": 1, \"max_comparison_vector_value\": 1, \"bayes_factor_description\": \"If comparison level is `exact match` then comparison is 12.73 times more likely to be a match\", \"probability_two_random_records_match\": 0.007006045984371714, \"comparison_sort_order\": 1, \"iteration\": 5}, {\"comparison_name\": \"middle_initial\", \"sql_condition\": \"ELSE\", \"label_for_charts\": \"All other comparisons\", \"m_probability\": 0.05587766886098656, \"u_probability\": 0.9258214429036318, \"m_probability_description\": \"Amongst matching record comparisons, 5.59% of records are in the all other comparisons comparison level\", \"u_probability_description\": \"Amongst non-matching record comparisons, 92.58% of records are in the all other comparisons comparison level\", \"has_tf_adjustments\": false, \"tf_adjustment_column\": null, \"tf_adjustment_weight\": 1.0, \"is_null_level\": false, \"bayes_factor\": 0.06035469289384652, \"log2_bayes_factor\": -4.050390237328722, \"comparison_vector_value\": 0, \"max_comparison_vector_value\": 1, \"bayes_factor_description\": \"If comparison level is `all other comparisons` then comparison is  16.57 times less likely to be a match\", \"probability_two_random_records_match\": 0.007006045984371714, \"comparison_sort_order\": 1, \"iteration\": 5}, {\"comparison_name\": \"day_of_birth\", \"sql_condition\": \"\\\"day_of_birth_l\\\" = \\\"day_of_birth_r\\\"\", \"label_for_charts\": \"Exact match\", \"m_probability\": 0.9767194124615205, \"u_probability\": 0.032483267196893574, \"m_probability_description\": \"Amongst matching record comparisons, 97.67% of records are in the exact match comparison level\", \"u_probability_description\": \"Amongst non-matching record comparisons, 3.25% of records are in the exact match comparison level\", \"has_tf_adjustments\": false, \"tf_adjustment_column\": null, \"tf_adjustment_weight\": 1.0, \"is_null_level\": false, \"bayes_factor\": 30.068385872062947, \"log2_bayes_factor\": 4.910175518274057, \"comparison_vector_value\": 2, \"max_comparison_vector_value\": 2, \"bayes_factor_description\": \"If comparison level is `exact match` then comparison is 30.07 times more likely to be a match\", \"probability_two_random_records_match\": 0.007006045984371714, \"comparison_sort_order\": 2, \"iteration\": 5}, {\"comparison_name\": \"day_of_birth\", \"sql_condition\": \"abs(day_of_birth_l - day_of_birth_r) <= 5\", \"label_for_charts\": \"Inexact match\", \"m_probability\": 0.01554082304167103, \"u_probability\": 0.2953114089616295, \"m_probability_description\": \"Amongst matching record comparisons, 1.55% of records are in the inexact match comparison level\", \"u_probability_description\": \"Amongst non-matching record comparisons, 29.53% of records are in the inexact match comparison level\", \"has_tf_adjustments\": false, \"tf_adjustment_column\": null, \"tf_adjustment_weight\": 1.0, \"is_null_level\": false, \"bayes_factor\": 0.052625203666581966, \"log2_bayes_factor\": -4.248102278161976, \"comparison_vector_value\": 1, \"max_comparison_vector_value\": 2, \"bayes_factor_description\": \"If comparison level is `inexact match` then comparison is  19.00 times less likely to be a match\", \"probability_two_random_records_match\": 0.007006045984371714, \"comparison_sort_order\": 2, \"iteration\": 5}, {\"comparison_name\": \"day_of_birth\", \"sql_condition\": \"ELSE\", \"label_for_charts\": \"All other comparisons\", \"m_probability\": 0.007739764496808504, \"u_probability\": 0.6722053238414769, \"m_probability_description\": \"Amongst matching record comparisons, 0.77% of records are in the all other comparisons comparison level\", \"u_probability_description\": \"Amongst non-matching record comparisons, 67.22% of records are in the all other comparisons comparison level\", \"has_tf_adjustments\": false, \"tf_adjustment_column\": null, \"tf_adjustment_weight\": 1.0, \"is_null_level\": false, \"bayes_factor\": 0.011513988691100782, \"log2_bayes_factor\": -6.4404684894044095, \"comparison_vector_value\": 0, \"max_comparison_vector_value\": 2, \"bayes_factor_description\": \"If comparison level is `all other comparisons` then comparison is  86.85 times less likely to be a match\", \"probability_two_random_records_match\": 0.007006045984371714, \"comparison_sort_order\": 2, \"iteration\": 5}, {\"comparison_name\": \"month_of_birth\", \"sql_condition\": \"\\\"month_of_birth_l\\\" = \\\"month_of_birth_r\\\"\", \"label_for_charts\": \"Exact match\", \"m_probability\": 0.983631229520466, \"u_probability\": 0.0832547076088129, \"m_probability_description\": \"Amongst matching record comparisons, 98.36% of records are in the exact match comparison level\", \"u_probability_description\": \"Amongst non-matching record comparisons, 8.33% of records are in the exact match comparison level\", \"has_tf_adjustments\": false, \"tf_adjustment_column\": null, \"tf_adjustment_weight\": 1.0, \"is_null_level\": false, \"bayes_factor\": 11.814722047217233, \"log2_bayes_factor\": 3.5625137837997793, \"comparison_vector_value\": 2, \"max_comparison_vector_value\": 2, \"bayes_factor_description\": \"If comparison level is `exact match` then comparison is 11.81 times more likely to be a match\", \"probability_two_random_records_match\": 0.007006045984371714, \"comparison_sort_order\": 3, \"iteration\": 5}, {\"comparison_name\": \"month_of_birth\", \"sql_condition\": \"abs(month_of_birth_l - month_of_birth_r) <= 3\", \"label_for_charts\": \"Inexact match\", \"m_probability\": 0.008365372249591553, \"u_probability\": 0.41938802504669287, \"m_probability_description\": \"Amongst matching record comparisons, 0.84% of records are in the inexact match comparison level\", \"u_probability_description\": \"Amongst non-matching record comparisons, 41.94% of records are in the inexact match comparison level\", \"has_tf_adjustments\": false, \"tf_adjustment_column\": null, \"tf_adjustment_weight\": 1.0, \"is_null_level\": false, \"bayes_factor\": 0.01994661685597768, \"log2_bayes_factor\": -5.647712117963699, \"comparison_vector_value\": 1, \"max_comparison_vector_value\": 2, \"bayes_factor_description\": \"If comparison level is `inexact match` then comparison is  50.13 times less likely to be a match\", \"probability_two_random_records_match\": 0.007006045984371714, \"comparison_sort_order\": 3, \"iteration\": 5}, {\"comparison_name\": \"month_of_birth\", \"sql_condition\": \"ELSE\", \"label_for_charts\": \"All other comparisons\", \"m_probability\": 0.008003398229942345, \"u_probability\": 0.4973572673444942, \"m_probability_description\": \"Amongst matching record comparisons, 0.80% of records are in the all other comparisons comparison level\", \"u_probability_description\": \"Amongst non-matching record comparisons, 49.74% of records are in the all other comparisons comparison level\", \"has_tf_adjustments\": false, \"tf_adjustment_column\": null, \"tf_adjustment_weight\": 1.0, \"is_null_level\": false, \"bayes_factor\": 0.016091849371527925, \"log2_bayes_factor\": -5.957526051046465, \"comparison_vector_value\": 0, \"max_comparison_vector_value\": 2, \"bayes_factor_description\": \"If comparison level is `all other comparisons` then comparison is  62.14 times less likely to be a match\", \"probability_two_random_records_match\": 0.007006045984371714, \"comparison_sort_order\": 3, \"iteration\": 5}, {\"comparison_name\": \"year_of_birth\", \"sql_condition\": \"\\\"year_of_birth_l\\\" = \\\"year_of_birth_r\\\"\", \"label_for_charts\": \"Exact match\", \"m_probability\": 0.9719074541159008, \"u_probability\": 0.01093448234753138, \"m_probability_description\": \"Amongst matching record comparisons, 97.19% of records are in the exact match comparison level\", \"u_probability_description\": \"Amongst non-matching record comparisons, 1.09% of records are in the exact match comparison level\", \"has_tf_adjustments\": false, \"tf_adjustment_column\": null, \"tf_adjustment_weight\": 1.0, \"is_null_level\": false, \"bayes_factor\": 88.88463333020272, \"log2_bayes_factor\": 6.473862117603124, \"comparison_vector_value\": 2, \"max_comparison_vector_value\": 2, \"bayes_factor_description\": \"If comparison level is `exact match` then comparison is 88.88 times more likely to be a match\", \"probability_two_random_records_match\": 0.007006045984371714, \"comparison_sort_order\": 4, \"iteration\": 5}, {\"comparison_name\": \"year_of_birth\", \"sql_condition\": \"abs(year_of_birth_l - year_of_birth_r) <= 5\", \"label_for_charts\": \"Inexact match\", \"m_probability\": 0.00954095349845103, \"u_probability\": 0.10883934805933546, \"m_probability_description\": \"Amongst matching record comparisons, 0.95% of records are in the inexact match comparison level\", \"u_probability_description\": \"Amongst non-matching record comparisons, 10.88% of records are in the inexact match comparison level\", \"has_tf_adjustments\": false, \"tf_adjustment_column\": null, \"tf_adjustment_weight\": 1.0, \"is_null_level\": false, \"bayes_factor\": 0.08766088430858325, \"log2_bayes_factor\": -3.511922957168458, \"comparison_vector_value\": 1, \"max_comparison_vector_value\": 2, \"bayes_factor_description\": \"If comparison level is `inexact match` then comparison is  11.41 times less likely to be a match\", \"probability_two_random_records_match\": 0.007006045984371714, \"comparison_sort_order\": 4, \"iteration\": 5}, {\"comparison_name\": \"year_of_birth\", \"sql_condition\": \"ELSE\", \"label_for_charts\": \"All other comparisons\", \"m_probability\": 0.018551592385648165, \"u_probability\": 0.8802261695931332, \"m_probability_description\": \"Amongst matching record comparisons, 1.86% of records are in the all other comparisons comparison level\", \"u_probability_description\": \"Amongst non-matching record comparisons, 88.02% of records are in the all other comparisons comparison level\", \"has_tf_adjustments\": false, \"tf_adjustment_column\": null, \"tf_adjustment_weight\": 1.0, \"is_null_level\": false, \"bayes_factor\": 0.021075938237809115, \"log2_bayes_factor\": -5.5682593327044, \"comparison_vector_value\": 0, \"max_comparison_vector_value\": 2, \"bayes_factor_description\": \"If comparison level is `all other comparisons` then comparison is  47.45 times less likely to be a match\", \"probability_two_random_records_match\": 0.007006045984371714, \"comparison_sort_order\": 4, \"iteration\": 5}, {\"comparison_name\": \"geokey\", \"sql_condition\": \"\\\"geokey_l\\\" = \\\"geokey_r\\\"\", \"label_for_charts\": \"Exact match\", \"m_probability\": 0.5835477831722017, \"u_probability\": 0.0021770137377073793, \"m_probability_description\": \"Amongst matching record comparisons, 58.35% of records are in the exact match comparison level\", \"u_probability_description\": \"Amongst non-matching record comparisons, 0.22% of records are in the exact match comparison level\", \"has_tf_adjustments\": false, \"tf_adjustment_column\": null, \"tf_adjustment_weight\": 1.0, \"is_null_level\": false, \"bayes_factor\": 268.04965584954823, \"log2_bayes_factor\": 8.066356472592245, \"comparison_vector_value\": 2, \"max_comparison_vector_value\": 2, \"bayes_factor_description\": \"If comparison level is `exact match` then comparison is 268.05 times more likely to be a match\", \"probability_two_random_records_match\": 0.007006045984371714, \"comparison_sort_order\": 5, \"iteration\": 5}, {\"comparison_name\": \"geokey\", \"sql_condition\": \"jaro_winkler_similarity(\\\"geokey_l\\\", \\\"geokey_r\\\") >= 0.7222222222222222\", \"label_for_charts\": \"Jaro_winkler_similarity >= 0.7222222222222222\", \"m_probability\": 0.41267940243509793, \"u_probability\": 0.2267847759177239, \"m_probability_description\": \"Amongst matching record comparisons, 41.27% of records are in the jaro_winkler_similarity >= 0.7222222222222222 comparison level\", \"u_probability_description\": \"Amongst non-matching record comparisons, 22.68% of records are in the jaro_winkler_similarity >= 0.7222222222222222 comparison level\", \"has_tf_adjustments\": false, \"tf_adjustment_column\": null, \"tf_adjustment_weight\": 1.0, \"is_null_level\": false, \"bayes_factor\": 1.819696232981774, \"log2_bayes_factor\": 0.8636976373759889, \"comparison_vector_value\": 1, \"max_comparison_vector_value\": 2, \"bayes_factor_description\": \"If comparison level is `jaro_winkler_similarity >= 0.7222222222222222` then comparison is 1.82 times more likely to be a match\", \"probability_two_random_records_match\": 0.007006045984371714, \"comparison_sort_order\": 5, \"iteration\": 5}, {\"comparison_name\": \"geokey\", \"sql_condition\": \"ELSE\", \"label_for_charts\": \"All other comparisons\", \"m_probability\": 0.0037728143927002944, \"u_probability\": 0.7710382103445688, \"m_probability_description\": \"Amongst matching record comparisons, 0.38% of records are in the all other comparisons comparison level\", \"u_probability_description\": \"Amongst non-matching record comparisons, 77.10% of records are in the all other comparisons comparison level\", \"has_tf_adjustments\": false, \"tf_adjustment_column\": null, \"tf_adjustment_weight\": 1.0, \"is_null_level\": false, \"bayes_factor\": 0.004893161379141332, \"log2_bayes_factor\": -7.675017420234158, \"comparison_vector_value\": 0, \"max_comparison_vector_value\": 2, \"bayes_factor_description\": \"If comparison level is `all other comparisons` then comparison is  204.37 times less likely to be a match\", \"probability_two_random_records_match\": 0.007006045984371714, \"comparison_sort_order\": 5, \"iteration\": 5}]}}, {\"mode\": \"vega-lite\"});\n",
       "</script>"
      ],
      "text/plain": [
       "alt.HConcatChart(...)"
      ]
     },
     "execution_count": 56,
     "metadata": {},
     "output_type": "execute_result"
    }
   ],
   "source": [
    "em_session_1.m_u_values_interactive_history_chart()"
   ]
  },
  {
   "cell_type": "code",
   "execution_count": 57,
   "id": "13eae59d-f450-46df-99b6-79b2a8dfae6f",
   "metadata": {
    "execution": {
     "iopub.execute_input": "2024-02-12T19:21:20.235384Z",
     "iopub.status.busy": "2024-02-12T19:21:20.234977Z",
     "iopub.status.idle": "2024-02-12T19:21:22.828587Z",
     "shell.execute_reply": "2024-02-12T19:21:22.827983Z"
    },
    "papermill": {
     "duration": 2.620342,
     "end_time": "2024-02-12T19:21:22.830475",
     "exception": false,
     "start_time": "2024-02-12T19:21:20.210133",
     "status": "completed"
    },
    "tags": []
   },
   "outputs": [
    {
     "data": {
      "text/html": [
       "\n",
       "<style>\n",
       "  #altair-viz-1f6a96e4d8f546fa8526cdc5aad92984.vega-embed {\n",
       "    width: 100%;\n",
       "    display: flex;\n",
       "  }\n",
       "\n",
       "  #altair-viz-1f6a96e4d8f546fa8526cdc5aad92984.vega-embed details,\n",
       "  #altair-viz-1f6a96e4d8f546fa8526cdc5aad92984.vega-embed details summary {\n",
       "    position: relative;\n",
       "  }\n",
       "</style>\n",
       "<div id=\"altair-viz-1f6a96e4d8f546fa8526cdc5aad92984\"></div>\n",
       "<script type=\"text/javascript\">\n",
       "  var VEGA_DEBUG = (typeof VEGA_DEBUG == \"undefined\") ? {} : VEGA_DEBUG;\n",
       "  (function(spec, embedOpt){\n",
       "    let outputDiv = document.currentScript.previousElementSibling;\n",
       "    if (outputDiv.id !== \"altair-viz-1f6a96e4d8f546fa8526cdc5aad92984\") {\n",
       "      outputDiv = document.getElementById(\"altair-viz-1f6a96e4d8f546fa8526cdc5aad92984\");\n",
       "    }\n",
       "    const paths = {\n",
       "      \"vega\": \"https://cdn.jsdelivr.net/npm/vega@5?noext\",\n",
       "      \"vega-lib\": \"https://cdn.jsdelivr.net/npm/vega-lib?noext\",\n",
       "      \"vega-lite\": \"https://cdn.jsdelivr.net/npm/vega-lite@5.15.1?noext\",\n",
       "      \"vega-embed\": \"https://cdn.jsdelivr.net/npm/vega-embed@6?noext\",\n",
       "    };\n",
       "\n",
       "    function maybeLoadScript(lib, version) {\n",
       "      var key = `${lib.replace(\"-\", \"\")}_version`;\n",
       "      return (VEGA_DEBUG[key] == version) ?\n",
       "        Promise.resolve(paths[lib]) :\n",
       "        new Promise(function(resolve, reject) {\n",
       "          var s = document.createElement('script');\n",
       "          document.getElementsByTagName(\"head\")[0].appendChild(s);\n",
       "          s.async = true;\n",
       "          s.onload = () => {\n",
       "            VEGA_DEBUG[key] = version;\n",
       "            return resolve(paths[lib]);\n",
       "          };\n",
       "          s.onerror = () => reject(`Error loading script: ${paths[lib]}`);\n",
       "          s.src = paths[lib];\n",
       "        });\n",
       "    }\n",
       "\n",
       "    function showError(err) {\n",
       "      outputDiv.innerHTML = `<div class=\"error\" style=\"color:red;\">${err}</div>`;\n",
       "      throw err;\n",
       "    }\n",
       "\n",
       "    function displayChart(vegaEmbed) {\n",
       "      vegaEmbed(outputDiv, spec, embedOpt)\n",
       "        .catch(err => showError(`Javascript Error: ${err.message}<br>This usually means there's a typo in your chart specification. See the javascript console for the full traceback.`));\n",
       "    }\n",
       "\n",
       "    if(typeof define === \"function\" && define.amd) {\n",
       "      requirejs.config({paths});\n",
       "      require([\"vega-embed\"], displayChart, err => showError(`Error loading script: ${err.message}`));\n",
       "    } else {\n",
       "      maybeLoadScript(\"vega\", \"5\")\n",
       "        .then(() => maybeLoadScript(\"vega-lite\", \"5.15.1\"))\n",
       "        .then(() => maybeLoadScript(\"vega-embed\", \"6\"))\n",
       "        .catch(showError)\n",
       "        .then(() => displayChart(vegaEmbed));\n",
       "    }\n",
       "  })({\"config\": {\"view\": {\"continuousWidth\": 300, \"continuousHeight\": 300, \"discreteHeight\": 60, \"discreteWidth\": 400}, \"header\": {\"title\": null}, \"mark\": {\"tooltip\": null}, \"title\": {\"anchor\": \"middle\"}}, \"vconcat\": [{\"mark\": {\"type\": \"bar\", \"clip\": true, \"height\": 15}, \"encoding\": {\"color\": {\"field\": \"log2_bayes_factor\", \"scale\": {\"domain\": [-10, 0, 10], \"interpolate\": \"lab\", \"range\": [\"red\", \"#bbbbbb\", \"green\"]}, \"title\": \"Match weight\", \"type\": \"quantitative\"}, \"tooltip\": [{\"field\": \"comparison_name\", \"title\": \"Comparison name\", \"type\": \"nominal\"}, {\"field\": \"probability_two_random_records_match\", \"format\": \".4f\", \"title\": \"Probability two random records match\", \"type\": \"nominal\"}, {\"field\": \"log2_bayes_factor\", \"format\": \",.4f\", \"title\": \"Equivalent match weight\", \"type\": \"quantitative\"}, {\"field\": \"bayes_factor_description\", \"title\": \"Match weight description\", \"type\": \"nominal\"}], \"x\": {\"axis\": {\"domain\": false, \"gridColor\": {\"condition\": {\"test\": \"abs(datum.value / 10)  <= 1 & datum.value % 10 === 0\", \"value\": \"#aaa\"}, \"value\": \"#ddd\"}, \"gridDash\": {\"condition\": {\"test\": \"abs(datum.value / 10) == 1\", \"value\": [3]}, \"value\": null}, \"gridWidth\": {\"condition\": {\"test\": \"abs(datum.value / 10)  <= 1 & datum.value % 10 === 0\", \"value\": 2}, \"value\": 1}, \"labels\": false, \"ticks\": false, \"title\": \"\"}, \"field\": \"log2_bayes_factor\", \"scale\": {\"domain\": [-10, 10]}, \"type\": \"quantitative\"}, \"y\": {\"axis\": {\"title\": \"Prior (starting) match weight\", \"titleAlign\": \"right\", \"titleAngle\": 0, \"titleFontWeight\": \"normal\"}, \"field\": \"label_for_charts\", \"sort\": {\"field\": \"comparison_vector_value\", \"order\": \"descending\"}, \"type\": \"nominal\"}}, \"height\": 20, \"transform\": [{\"filter\": \"(datum.comparison_name == 'probability_two_random_records_match')\"}]}, {\"mark\": {\"type\": \"bar\", \"clip\": true}, \"encoding\": {\"color\": {\"field\": \"log2_bayes_factor\", \"scale\": {\"domain\": [-10, 0, 10], \"interpolate\": \"lab\", \"range\": [\"red\", \"#bbbbbb\", \"green\"]}, \"title\": \"Match weight\", \"type\": \"quantitative\"}, \"row\": {\"field\": \"comparison_name\", \"header\": {\"labelAlign\": \"left\", \"labelAnchor\": \"middle\", \"labelAngle\": 0}, \"sort\": {\"field\": \"comparison_sort_order\"}, \"type\": \"nominal\"}, \"tooltip\": [{\"field\": \"comparison_name\", \"title\": \"Comparison name\", \"type\": \"nominal\"}, {\"field\": \"label_for_charts\", \"title\": \"Label\", \"type\": \"ordinal\"}, {\"field\": \"sql_condition\", \"title\": \"SQL condition\", \"type\": \"nominal\"}, {\"field\": \"m_probability\", \"format\": \".4f\", \"title\": \"M probability\", \"type\": \"quantitative\"}, {\"field\": \"u_probability\", \"format\": \".4f\", \"title\": \"U probability\", \"type\": \"quantitative\"}, {\"field\": \"bayes_factor\", \"format\": \",.4f\", \"title\": \"Bayes factor = m/u\", \"type\": \"quantitative\"}, {\"field\": \"log2_bayes_factor\", \"format\": \",.4f\", \"title\": \"Match weight = log2(m/u)\", \"type\": \"quantitative\"}, {\"field\": \"bayes_factor_description\", \"title\": \"Match weight description\", \"type\": \"nominal\"}], \"x\": {\"axis\": {\"gridColor\": {\"condition\": {\"test\": \"abs(datum.value / 10)  <= 1 & datum.value % 10 === 0\", \"value\": \"#aaa\"}, \"value\": \"#ddd\"}, \"gridDash\": {\"condition\": {\"test\": \"abs(datum.value / 10) == 1\", \"value\": [3]}, \"value\": null}, \"gridWidth\": {\"condition\": {\"test\": \"abs(datum.value / 10)  <= 1 & datum.value % 10 === 0\", \"value\": 2}, \"value\": 1}, \"title\": \"Comparison level match weight = log2(m/u)\"}, \"field\": \"log2_bayes_factor\", \"scale\": {\"domain\": [-10, 10]}, \"type\": \"quantitative\"}, \"y\": {\"axis\": {\"title\": null}, \"field\": \"label_for_charts\", \"sort\": {\"field\": \"comparison_vector_value\", \"order\": \"descending\"}, \"type\": \"nominal\"}}, \"height\": {\"step\": 12}, \"resolve\": {\"axis\": {\"y\": \"independent\"}, \"scale\": {\"y\": \"independent\"}}, \"transform\": [{\"filter\": \"(datum.comparison_name != 'probability_two_random_records_match')\"}]}], \"data\": {\"name\": \"data-63fdb1338c847a97cf73a4b04169911e\"}, \"params\": [{\"name\": \"iteration_number\", \"bind\": {\"input\": \"range\", \"max\": 5, \"min\": 0, \"step\": 1}, \"value\": 5}, {\"name\": \"mouse_zoom\", \"select\": {\"type\": \"interval\", \"encodings\": [\"x\"]}, \"bind\": \"scales\", \"views\": []}], \"resolve\": {\"axis\": {\"y\": \"independent\"}, \"scale\": {\"y\": \"independent\"}}, \"title\": {\"text\": \"Model parameters (components of final match weight)\", \"subtitle\": \"Training session blocked on <Custom blocking rule using SQL: l.first_name_15 = r.first_name_15 and l.zipcode = r.zipcode>\"}, \"transform\": [{\"filter\": \"(datum.iteration == iteration_number)\"}], \"$schema\": \"https://vega.github.io/schema/vega-lite/v5.9.3.json\", \"datasets\": {\"data-63fdb1338c847a97cf73a4b04169911e\": [{\"comparison_name\": \"probability_two_random_records_match\", \"sql_condition\": null, \"label_for_charts\": \"\", \"m_probability\": null, \"u_probability\": null, \"m_probability_description\": null, \"u_probability_description\": null, \"has_tf_adjustments\": false, \"tf_adjustment_column\": null, \"tf_adjustment_weight\": null, \"is_null_level\": false, \"bayes_factor\": 0.007055476980539046, \"log2_bayes_factor\": -7.1470406661631145, \"comparison_vector_value\": 0, \"max_comparison_vector_value\": 0, \"bayes_factor_description\": \"The probability that two random records drawn at random match is 0.007 or one in  142.7 records.This is equivalent to a starting match weight of -7.147.\", \"probability_two_random_records_match\": 0.007006045984371714, \"comparison_sort_order\": -1, \"iteration\": 0}, {\"comparison_name\": \"last_name_12\", \"sql_condition\": \"\\\"last_name_12_l\\\" = \\\"last_name_12_r\\\"\", \"label_for_charts\": \"Exact match\", \"m_probability\": 0.95, \"u_probability\": 0.0006988639102327646, \"m_probability_description\": \"Amongst matching record comparisons, 95.00% of records are in the exact match comparison level\", \"u_probability_description\": \"Amongst non-matching record comparisons, 0.07% of records are in the exact match comparison level\", \"has_tf_adjustments\": false, \"tf_adjustment_column\": null, \"tf_adjustment_weight\": 1.0, \"is_null_level\": false, \"bayes_factor\": 1359.349060797247, \"log2_bayes_factor\": 10.408700251156352, \"comparison_vector_value\": 2, \"max_comparison_vector_value\": 2, \"bayes_factor_description\": \"If comparison level is `exact match` then comparison is 1,359.35 times more likely to be a match\", \"probability_two_random_records_match\": 0.007006045984371714, \"comparison_sort_order\": 0, \"iteration\": 0}, {\"comparison_name\": \"last_name_12\", \"sql_condition\": \"jaro_winkler_similarity(\\\"last_name_12_l\\\", \\\"last_name_12_r\\\") >= 0.8333333333333334\", \"label_for_charts\": \"Jaro_winkler_similarity >= 0.8333333333333334\", \"m_probability\": 0.025000000000000022, \"u_probability\": 0.0013365997755498443, \"m_probability_description\": \"Amongst matching record comparisons, 2.50% of records are in the jaro_winkler_similarity >= 0.8333333333333334 comparison level\", \"u_probability_description\": \"Amongst non-matching record comparisons, 0.13% of records are in the jaro_winkler_similarity >= 0.8333333333333334 comparison level\", \"has_tf_adjustments\": false, \"tf_adjustment_column\": null, \"tf_adjustment_weight\": 1.0, \"is_null_level\": false, \"bayes_factor\": 18.70417791273056, \"log2_bayes_factor\": 4.225288652741327, \"comparison_vector_value\": 1, \"max_comparison_vector_value\": 2, \"bayes_factor_description\": \"If comparison level is `jaro_winkler_similarity >= 0.8333333333333334` then comparison is 18.70 times more likely to be a match\", \"probability_two_random_records_match\": 0.007006045984371714, \"comparison_sort_order\": 0, \"iteration\": 0}, {\"comparison_name\": \"last_name_12\", \"sql_condition\": \"ELSE\", \"label_for_charts\": \"All other comparisons\", \"m_probability\": 0.025000000000000022, \"u_probability\": 0.9979645363142174, \"m_probability_description\": \"Amongst matching record comparisons, 2.50% of records are in the all other comparisons comparison level\", \"u_probability_description\": \"Amongst non-matching record comparisons, 99.80% of records are in the all other comparisons comparison level\", \"has_tf_adjustments\": false, \"tf_adjustment_column\": null, \"tf_adjustment_weight\": 1.0, \"is_null_level\": false, \"bayes_factor\": 0.02505099038121387, \"log2_bayes_factor\": -5.318988548836413, \"comparison_vector_value\": 0, \"max_comparison_vector_value\": 2, \"bayes_factor_description\": \"If comparison level is `all other comparisons` then comparison is  39.92 times less likely to be a match\", \"probability_two_random_records_match\": 0.007006045984371714, \"comparison_sort_order\": 0, \"iteration\": 0}, {\"comparison_name\": \"middle_initial\", \"sql_condition\": \"\\\"middle_initial_l\\\" = \\\"middle_initial_r\\\"\", \"label_for_charts\": \"Exact match\", \"m_probability\": 0.95, \"u_probability\": 0.07417855709636824, \"m_probability_description\": \"Amongst matching record comparisons, 95.00% of records are in the exact match comparison level\", \"u_probability_description\": \"Amongst non-matching record comparisons, 7.42% of records are in the exact match comparison level\", \"has_tf_adjustments\": false, \"tf_adjustment_column\": null, \"tf_adjustment_weight\": 1.0, \"is_null_level\": false, \"bayes_factor\": 12.806935551008603, \"log2_bayes_factor\": 3.6788534031775413, \"comparison_vector_value\": 1, \"max_comparison_vector_value\": 1, \"bayes_factor_description\": \"If comparison level is `exact match` then comparison is 12.81 times more likely to be a match\", \"probability_two_random_records_match\": 0.007006045984371714, \"comparison_sort_order\": 1, \"iteration\": 0}, {\"comparison_name\": \"middle_initial\", \"sql_condition\": \"ELSE\", \"label_for_charts\": \"All other comparisons\", \"m_probability\": 0.050000000000000044, \"u_probability\": 0.9258214429036318, \"m_probability_description\": \"Amongst matching record comparisons, 5.00% of records are in the all other comparisons comparison level\", \"u_probability_description\": \"Amongst non-matching record comparisons, 92.58% of records are in the all other comparisons comparison level\", \"has_tf_adjustments\": false, \"tf_adjustment_column\": null, \"tf_adjustment_weight\": 1.0, \"is_null_level\": false, \"bayes_factor\": 0.054006094137532865, \"log2_bayes_factor\": -4.210733977203664, \"comparison_vector_value\": 0, \"max_comparison_vector_value\": 1, \"bayes_factor_description\": \"If comparison level is `all other comparisons` then comparison is  18.52 times less likely to be a match\", \"probability_two_random_records_match\": 0.007006045984371714, \"comparison_sort_order\": 1, \"iteration\": 0}, {\"comparison_name\": \"day_of_birth\", \"sql_condition\": \"\\\"day_of_birth_l\\\" = \\\"day_of_birth_r\\\"\", \"label_for_charts\": \"Exact match\", \"m_probability\": 0.95, \"u_probability\": 0.032483267196893574, \"m_probability_description\": \"Amongst matching record comparisons, 95.00% of records are in the exact match comparison level\", \"u_probability_description\": \"Amongst non-matching record comparisons, 3.25% of records are in the exact match comparison level\", \"has_tf_adjustments\": false, \"tf_adjustment_column\": null, \"tf_adjustment_weight\": 1.0, \"is_null_level\": false, \"bayes_factor\": 29.24582660486966, \"log2_bayes_factor\": 4.870158860915603, \"comparison_vector_value\": 2, \"max_comparison_vector_value\": 2, \"bayes_factor_description\": \"If comparison level is `exact match` then comparison is 29.25 times more likely to be a match\", \"probability_two_random_records_match\": 0.007006045984371714, \"comparison_sort_order\": 2, \"iteration\": 0}, {\"comparison_name\": \"day_of_birth\", \"sql_condition\": \"abs(day_of_birth_l - day_of_birth_r) <= 5\", \"label_for_charts\": \"Inexact match\", \"m_probability\": 0.025000000000000022, \"u_probability\": 0.2953114089616295, \"m_probability_description\": \"Amongst matching record comparisons, 2.50% of records are in the inexact match comparison level\", \"u_probability_description\": \"Amongst non-matching record comparisons, 29.53% of records are in the inexact match comparison level\", \"has_tf_adjustments\": false, \"tf_adjustment_column\": null, \"tf_adjustment_weight\": 1.0, \"is_null_level\": false, \"bayes_factor\": 0.08465639742096226, \"log2_bayes_factor\": -3.5622370941434274, \"comparison_vector_value\": 1, \"max_comparison_vector_value\": 2, \"bayes_factor_description\": \"If comparison level is `inexact match` then comparison is  11.81 times less likely to be a match\", \"probability_two_random_records_match\": 0.007006045984371714, \"comparison_sort_order\": 2, \"iteration\": 0}, {\"comparison_name\": \"day_of_birth\", \"sql_condition\": \"ELSE\", \"label_for_charts\": \"All other comparisons\", \"m_probability\": 0.025000000000000022, \"u_probability\": 0.6722053238414769, \"m_probability_description\": \"Amongst matching record comparisons, 2.50% of records are in the all other comparisons comparison level\", \"u_probability_description\": \"Amongst non-matching record comparisons, 67.22% of records are in the all other comparisons comparison level\", \"has_tf_adjustments\": false, \"tf_adjustment_column\": null, \"tf_adjustment_weight\": 1.0, \"is_null_level\": false, \"bayes_factor\": 0.037191017555665264, \"log2_bayes_factor\": -4.748901968782899, \"comparison_vector_value\": 0, \"max_comparison_vector_value\": 2, \"bayes_factor_description\": \"If comparison level is `all other comparisons` then comparison is  26.89 times less likely to be a match\", \"probability_two_random_records_match\": 0.007006045984371714, \"comparison_sort_order\": 2, \"iteration\": 0}, {\"comparison_name\": \"month_of_birth\", \"sql_condition\": \"\\\"month_of_birth_l\\\" = \\\"month_of_birth_r\\\"\", \"label_for_charts\": \"Exact match\", \"m_probability\": 0.95, \"u_probability\": 0.0832547076088129, \"m_probability_description\": \"Amongst matching record comparisons, 95.00% of records are in the exact match comparison level\", \"u_probability_description\": \"Amongst non-matching record comparisons, 8.33% of records are in the exact match comparison level\", \"has_tf_adjustments\": false, \"tf_adjustment_column\": null, \"tf_adjustment_weight\": 1.0, \"is_null_level\": false, \"bayes_factor\": 11.4107661570772, \"log2_bayes_factor\": 3.512323757145611, \"comparison_vector_value\": 2, \"max_comparison_vector_value\": 2, \"bayes_factor_description\": \"If comparison level is `exact match` then comparison is 11.41 times more likely to be a match\", \"probability_two_random_records_match\": 0.007006045984371714, \"comparison_sort_order\": 3, \"iteration\": 0}, {\"comparison_name\": \"month_of_birth\", \"sql_condition\": \"abs(month_of_birth_l - month_of_birth_r) <= 3\", \"label_for_charts\": \"Inexact match\", \"m_probability\": 0.025000000000000022, \"u_probability\": 0.41938802504669287, \"m_probability_description\": \"Amongst matching record comparisons, 2.50% of records are in the inexact match comparison level\", \"u_probability_description\": \"Amongst non-matching record comparisons, 41.94% of records are in the inexact match comparison level\", \"has_tf_adjustments\": false, \"tf_adjustment_column\": null, \"tf_adjustment_weight\": 1.0, \"is_null_level\": false, \"bayes_factor\": 0.059610667226887626, \"log2_bayes_factor\": -4.068285668176526, \"comparison_vector_value\": 1, \"max_comparison_vector_value\": 2, \"bayes_factor_description\": \"If comparison level is `inexact match` then comparison is  16.78 times less likely to be a match\", \"probability_two_random_records_match\": 0.007006045984371714, \"comparison_sort_order\": 3, \"iteration\": 0}, {\"comparison_name\": \"month_of_birth\", \"sql_condition\": \"ELSE\", \"label_for_charts\": \"All other comparisons\", \"m_probability\": 0.025000000000000022, \"u_probability\": 0.4973572673444942, \"m_probability_description\": \"Amongst matching record comparisons, 2.50% of records are in the all other comparisons comparison level\", \"u_probability_description\": \"Amongst non-matching record comparisons, 49.74% of records are in the all other comparisons comparison level\", \"has_tf_adjustments\": false, \"tf_adjustment_column\": null, \"tf_adjustment_weight\": 1.0, \"is_null_level\": false, \"bayes_factor\": 0.05026567749473295, \"log2_bayes_factor\": -4.31428255733652, \"comparison_vector_value\": 0, \"max_comparison_vector_value\": 2, \"bayes_factor_description\": \"If comparison level is `all other comparisons` then comparison is  19.89 times less likely to be a match\", \"probability_two_random_records_match\": 0.007006045984371714, \"comparison_sort_order\": 3, \"iteration\": 0}, {\"comparison_name\": \"year_of_birth\", \"sql_condition\": \"\\\"year_of_birth_l\\\" = \\\"year_of_birth_r\\\"\", \"label_for_charts\": \"Exact match\", \"m_probability\": 0.95, \"u_probability\": 0.01093448234753138, \"m_probability_description\": \"Amongst matching record comparisons, 95.00% of records are in the exact match comparison level\", \"u_probability_description\": \"Amongst non-matching record comparisons, 1.09% of records are in the exact match comparison level\", \"has_tf_adjustments\": false, \"tf_adjustment_column\": null, \"tf_adjustment_weight\": 1.0, \"is_null_level\": false, \"bayes_factor\": 86.8811133262725, \"log2_bayes_factor\": 6.440970685368507, \"comparison_vector_value\": 2, \"max_comparison_vector_value\": 2, \"bayes_factor_description\": \"If comparison level is `exact match` then comparison is 86.88 times more likely to be a match\", \"probability_two_random_records_match\": 0.007006045984371714, \"comparison_sort_order\": 4, \"iteration\": 0}, {\"comparison_name\": \"year_of_birth\", \"sql_condition\": \"abs(year_of_birth_l - year_of_birth_r) <= 5\", \"label_for_charts\": \"Inexact match\", \"m_probability\": 0.025000000000000022, \"u_probability\": 0.10883934805933546, \"m_probability_description\": \"Amongst matching record comparisons, 2.50% of records are in the inexact match comparison level\", \"u_probability_description\": \"Amongst non-matching record comparisons, 10.88% of records are in the inexact match comparison level\", \"has_tf_adjustments\": false, \"tf_adjustment_column\": null, \"tf_adjustment_weight\": 1.0, \"is_null_level\": false, \"bayes_factor\": 0.22969634094436955, \"log2_bayes_factor\": -2.122200220076003, \"comparison_vector_value\": 1, \"max_comparison_vector_value\": 2, \"bayes_factor_description\": \"If comparison level is `inexact match` then comparison is  4.35 times less likely to be a match\", \"probability_two_random_records_match\": 0.007006045984371714, \"comparison_sort_order\": 4, \"iteration\": 0}, {\"comparison_name\": \"year_of_birth\", \"sql_condition\": \"ELSE\", \"label_for_charts\": \"All other comparisons\", \"m_probability\": 0.025000000000000022, \"u_probability\": 0.8802261695931332, \"m_probability_description\": \"Amongst matching record comparisons, 2.50% of records are in the all other comparisons comparison level\", \"u_probability_description\": \"Amongst non-matching record comparisons, 88.02% of records are in the all other comparisons comparison level\", \"has_tf_adjustments\": false, \"tf_adjustment_column\": null, \"tf_adjustment_weight\": 1.0, \"is_null_level\": false, \"bayes_factor\": 0.028401791339100688, \"log2_bayes_factor\": -5.137874264462514, \"comparison_vector_value\": 0, \"max_comparison_vector_value\": 2, \"bayes_factor_description\": \"If comparison level is `all other comparisons` then comparison is  35.21 times less likely to be a match\", \"probability_two_random_records_match\": 0.007006045984371714, \"comparison_sort_order\": 4, \"iteration\": 0}, {\"comparison_name\": \"geokey\", \"sql_condition\": \"\\\"geokey_l\\\" = \\\"geokey_r\\\"\", \"label_for_charts\": \"Exact match\", \"m_probability\": 0.95, \"u_probability\": 0.0021770137377073793, \"m_probability_description\": \"Amongst matching record comparisons, 95.00% of records are in the exact match comparison level\", \"u_probability_description\": \"Amongst non-matching record comparisons, 0.22% of records are in the exact match comparison level\", \"has_tf_adjustments\": false, \"tf_adjustment_column\": null, \"tf_adjustment_weight\": 1.0, \"is_null_level\": false, \"bayes_factor\": 436.3775862068965, \"log2_bayes_factor\": 8.769433191760276, \"comparison_vector_value\": 2, \"max_comparison_vector_value\": 2, \"bayes_factor_description\": \"If comparison level is `exact match` then comparison is 436.38 times more likely to be a match\", \"probability_two_random_records_match\": 0.007006045984371714, \"comparison_sort_order\": 5, \"iteration\": 0}, {\"comparison_name\": \"geokey\", \"sql_condition\": \"jaro_winkler_similarity(\\\"geokey_l\\\", \\\"geokey_r\\\") >= 0.7222222222222222\", \"label_for_charts\": \"Jaro_winkler_similarity >= 0.7222222222222222\", \"m_probability\": 0.025000000000000022, \"u_probability\": 0.2267847759177239, \"m_probability_description\": \"Amongst matching record comparisons, 2.50% of records are in the jaro_winkler_similarity >= 0.7222222222222222 comparison level\", \"u_probability_description\": \"Amongst non-matching record comparisons, 22.68% of records are in the jaro_winkler_similarity >= 0.7222222222222222 comparison level\", \"has_tf_adjustments\": false, \"tf_adjustment_column\": null, \"tf_adjustment_weight\": 1.0, \"is_null_level\": false, \"bayes_factor\": 0.11023667659715336, \"log2_bayes_factor\": -3.1813237952836757, \"comparison_vector_value\": 1, \"max_comparison_vector_value\": 2, \"bayes_factor_description\": \"If comparison level is `jaro_winkler_similarity >= 0.7222222222222222` then comparison is  9.07 times less likely to be a match\", \"probability_two_random_records_match\": 0.007006045984371714, \"comparison_sort_order\": 5, \"iteration\": 0}, {\"comparison_name\": \"geokey\", \"sql_condition\": \"ELSE\", \"label_for_charts\": \"All other comparisons\", \"m_probability\": 0.025000000000000022, \"u_probability\": 0.7710382103445688, \"m_probability_description\": \"Amongst matching record comparisons, 2.50% of records are in the all other comparisons comparison level\", \"u_probability_description\": \"Amongst non-matching record comparisons, 77.10% of records are in the all other comparisons comparison level\", \"has_tf_adjustments\": false, \"tf_adjustment_column\": null, \"tf_adjustment_weight\": 1.0, \"is_null_level\": false, \"bayes_factor\": 0.03242381462369782, \"log2_bayes_factor\": -4.946802357557508, \"comparison_vector_value\": 0, \"max_comparison_vector_value\": 2, \"bayes_factor_description\": \"If comparison level is `all other comparisons` then comparison is  30.84 times less likely to be a match\", \"probability_two_random_records_match\": 0.007006045984371714, \"comparison_sort_order\": 5, \"iteration\": 0}, {\"comparison_name\": \"probability_two_random_records_match\", \"sql_condition\": null, \"label_for_charts\": \"\", \"m_probability\": null, \"u_probability\": null, \"m_probability_description\": null, \"u_probability_description\": null, \"has_tf_adjustments\": false, \"tf_adjustment_column\": null, \"tf_adjustment_weight\": null, \"is_null_level\": false, \"bayes_factor\": 0.007055476980539046, \"log2_bayes_factor\": -7.1470406661631145, \"comparison_vector_value\": 0, \"max_comparison_vector_value\": 0, \"bayes_factor_description\": \"The probability that two random records drawn at random match is 0.007 or one in  142.7 records.This is equivalent to a starting match weight of -7.147.\", \"probability_two_random_records_match\": 0.007006045984371714, \"comparison_sort_order\": -1, \"iteration\": 1}, {\"comparison_name\": \"last_name_12\", \"sql_condition\": \"\\\"last_name_12_l\\\" = \\\"last_name_12_r\\\"\", \"label_for_charts\": \"Exact match\", \"m_probability\": 0.8844177164249893, \"u_probability\": 0.0006988639102327646, \"m_probability_description\": \"Amongst matching record comparisons, 88.44% of records are in the exact match comparison level\", \"u_probability_description\": \"Amongst non-matching record comparisons, 0.07% of records are in the exact match comparison level\", \"has_tf_adjustments\": false, \"tf_adjustment_column\": null, \"tf_adjustment_weight\": 1.0, \"is_null_level\": false, \"bayes_factor\": 1265.5077812365844, \"log2_bayes_factor\": 10.305500662847088, \"comparison_vector_value\": 2, \"max_comparison_vector_value\": 2, \"bayes_factor_description\": \"If comparison level is `exact match` then comparison is 1,265.51 times more likely to be a match\", \"probability_two_random_records_match\": 0.007006045984371714, \"comparison_sort_order\": 0, \"iteration\": 1}, {\"comparison_name\": \"last_name_12\", \"sql_condition\": \"jaro_winkler_similarity(\\\"last_name_12_l\\\", \\\"last_name_12_r\\\") >= 0.8333333333333334\", \"label_for_charts\": \"Jaro_winkler_similarity >= 0.8333333333333334\", \"m_probability\": 0.08721725432057233, \"u_probability\": 0.0013365997755498443, \"m_probability_description\": \"Amongst matching record comparisons, 8.72% of records are in the jaro_winkler_similarity >= 0.8333333333333334 comparison level\", \"u_probability_description\": \"Amongst non-matching record comparisons, 0.13% of records are in the jaro_winkler_similarity >= 0.8333333333333334 comparison level\", \"has_tf_adjustments\": false, \"tf_adjustment_column\": null, \"tf_adjustment_weight\": 1.0, \"is_null_level\": false, \"bayes_factor\": 65.25308167487405, \"log2_bayes_factor\": 6.02797413162083, \"comparison_vector_value\": 1, \"max_comparison_vector_value\": 2, \"bayes_factor_description\": \"If comparison level is `jaro_winkler_similarity >= 0.8333333333333334` then comparison is 65.25 times more likely to be a match\", \"probability_two_random_records_match\": 0.007006045984371714, \"comparison_sort_order\": 0, \"iteration\": 1}, {\"comparison_name\": \"last_name_12\", \"sql_condition\": \"ELSE\", \"label_for_charts\": \"All other comparisons\", \"m_probability\": 0.028365029254438276, \"u_probability\": 0.9979645363142174, \"m_probability_description\": \"Amongst matching record comparisons, 2.84% of records are in the all other comparisons comparison level\", \"u_probability_description\": \"Amongst non-matching record comparisons, 99.80% of records are in the all other comparisons comparison level\", \"has_tf_adjustments\": false, \"tf_adjustment_column\": null, \"tf_adjustment_weight\": 1.0, \"is_null_level\": false, \"bayes_factor\": 0.028422883000631307, \"log2_bayes_factor\": -5.136803291782238, \"comparison_vector_value\": 0, \"max_comparison_vector_value\": 2, \"bayes_factor_description\": \"If comparison level is `all other comparisons` then comparison is  35.18 times less likely to be a match\", \"probability_two_random_records_match\": 0.007006045984371714, \"comparison_sort_order\": 0, \"iteration\": 1}, {\"comparison_name\": \"middle_initial\", \"sql_condition\": \"\\\"middle_initial_l\\\" = \\\"middle_initial_r\\\"\", \"label_for_charts\": \"Exact match\", \"m_probability\": 0.9443405934199169, \"u_probability\": 0.07417855709636824, \"m_probability_description\": \"Amongst matching record comparisons, 94.43% of records are in the exact match comparison level\", \"u_probability_description\": \"Amongst non-matching record comparisons, 7.42% of records are in the exact match comparison level\", \"has_tf_adjustments\": false, \"tf_adjustment_column\": null, \"tf_adjustment_weight\": 1.0, \"is_null_level\": false, \"bayes_factor\": 12.730641176979049, \"log2_bayes_factor\": 3.6702331770923275, \"comparison_vector_value\": 1, \"max_comparison_vector_value\": 1, \"bayes_factor_description\": \"If comparison level is `exact match` then comparison is 12.73 times more likely to be a match\", \"probability_two_random_records_match\": 0.007006045984371714, \"comparison_sort_order\": 1, \"iteration\": 1}, {\"comparison_name\": \"middle_initial\", \"sql_condition\": \"ELSE\", \"label_for_charts\": \"All other comparisons\", \"m_probability\": 0.055659406580083136, \"u_probability\": 0.9258214429036318, \"m_probability_description\": \"Amongst matching record comparisons, 5.57% of records are in the all other comparisons comparison level\", \"u_probability_description\": \"Amongst non-matching record comparisons, 92.58% of records are in the all other comparisons comparison level\", \"has_tf_adjustments\": false, \"tf_adjustment_column\": null, \"tf_adjustment_weight\": 1.0, \"is_null_level\": false, \"bayes_factor\": 0.060118943028063664, \"log2_bayes_factor\": -4.056036544818112, \"comparison_vector_value\": 0, \"max_comparison_vector_value\": 1, \"bayes_factor_description\": \"If comparison level is `all other comparisons` then comparison is  16.63 times less likely to be a match\", \"probability_two_random_records_match\": 0.007006045984371714, \"comparison_sort_order\": 1, \"iteration\": 1}, {\"comparison_name\": \"day_of_birth\", \"sql_condition\": \"\\\"day_of_birth_l\\\" = \\\"day_of_birth_r\\\"\", \"label_for_charts\": \"Exact match\", \"m_probability\": 0.9732907923816979, \"u_probability\": 0.032483267196893574, \"m_probability_description\": \"Amongst matching record comparisons, 97.33% of records are in the exact match comparison level\", \"u_probability_description\": \"Amongst non-matching record comparisons, 3.25% of records are in the exact match comparison level\", \"has_tf_adjustments\": false, \"tf_adjustment_column\": null, \"tf_adjustment_weight\": 1.0, \"is_null_level\": false, \"bayes_factor\": 29.962835526432983, \"log2_bayes_factor\": 4.905102254276519, \"comparison_vector_value\": 2, \"max_comparison_vector_value\": 2, \"bayes_factor_description\": \"If comparison level is `exact match` then comparison is 29.96 times more likely to be a match\", \"probability_two_random_records_match\": 0.007006045984371714, \"comparison_sort_order\": 2, \"iteration\": 1}, {\"comparison_name\": \"day_of_birth\", \"sql_condition\": \"abs(day_of_birth_l - day_of_birth_r) <= 5\", \"label_for_charts\": \"Inexact match\", \"m_probability\": 0.016551513530405525, \"u_probability\": 0.2953114089616295, \"m_probability_description\": \"Amongst matching record comparisons, 1.66% of records are in the inexact match comparison level\", \"u_probability_description\": \"Amongst non-matching record comparisons, 29.53% of records are in the inexact match comparison level\", \"has_tf_adjustments\": false, \"tf_adjustment_column\": null, \"tf_adjustment_weight\": 1.0, \"is_null_level\": false, \"bayes_factor\": 0.05604766029393772, \"log2_bayes_factor\": -4.1572020407009695, \"comparison_vector_value\": 1, \"max_comparison_vector_value\": 2, \"bayes_factor_description\": \"If comparison level is `inexact match` then comparison is  17.84 times less likely to be a match\", \"probability_two_random_records_match\": 0.007006045984371714, \"comparison_sort_order\": 2, \"iteration\": 1}, {\"comparison_name\": \"day_of_birth\", \"sql_condition\": \"ELSE\", \"label_for_charts\": \"All other comparisons\", \"m_probability\": 0.010157694087896503, \"u_probability\": 0.6722053238414769, \"m_probability_description\": \"Amongst matching record comparisons, 1.02% of records are in the all other comparisons comparison level\", \"u_probability_description\": \"Amongst non-matching record comparisons, 67.22% of records are in the all other comparisons comparison level\", \"has_tf_adjustments\": false, \"tf_adjustment_column\": null, \"tf_adjustment_weight\": 1.0, \"is_null_level\": false, \"bayes_factor\": 0.015110999165921431, \"log2_bayes_factor\": -6.048257132576957, \"comparison_vector_value\": 0, \"max_comparison_vector_value\": 2, \"bayes_factor_description\": \"If comparison level is `all other comparisons` then comparison is  66.18 times less likely to be a match\", \"probability_two_random_records_match\": 0.007006045984371714, \"comparison_sort_order\": 2, \"iteration\": 1}, {\"comparison_name\": \"month_of_birth\", \"sql_condition\": \"\\\"month_of_birth_l\\\" = \\\"month_of_birth_r\\\"\", \"label_for_charts\": \"Exact match\", \"m_probability\": 0.9808963770959185, \"u_probability\": 0.0832547076088129, \"m_probability_description\": \"Amongst matching record comparisons, 98.09% of records are in the exact match comparison level\", \"u_probability_description\": \"Amongst non-matching record comparisons, 8.33% of records are in the exact match comparison level\", \"has_tf_adjustments\": false, \"tf_adjustment_column\": null, \"tf_adjustment_weight\": 1.0, \"is_null_level\": false, \"bayes_factor\": 11.781872824595519, \"log2_bayes_factor\": 3.558496980405427, \"comparison_vector_value\": 2, \"max_comparison_vector_value\": 2, \"bayes_factor_description\": \"If comparison level is `exact match` then comparison is 11.78 times more likely to be a match\", \"probability_two_random_records_match\": 0.007006045984371714, \"comparison_sort_order\": 3, \"iteration\": 1}, {\"comparison_name\": \"month_of_birth\", \"sql_condition\": \"abs(month_of_birth_l - month_of_birth_r) <= 3\", \"label_for_charts\": \"Inexact match\", \"m_probability\": 0.00973867090332014, \"u_probability\": 0.41938802504669287, \"m_probability_description\": \"Amongst matching record comparisons, 0.97% of records are in the inexact match comparison level\", \"u_probability_description\": \"Amongst non-matching record comparisons, 41.94% of records are in the inexact match comparison level\", \"has_tf_adjustments\": false, \"tf_adjustment_column\": null, \"tf_adjustment_weight\": 1.0, \"is_null_level\": false, \"bayes_factor\": 0.02322114681799958, \"log2_bayes_factor\": -5.428416965728666, \"comparison_vector_value\": 1, \"max_comparison_vector_value\": 2, \"bayes_factor_description\": \"If comparison level is `inexact match` then comparison is  43.06 times less likely to be a match\", \"probability_two_random_records_match\": 0.007006045984371714, \"comparison_sort_order\": 3, \"iteration\": 1}, {\"comparison_name\": \"month_of_birth\", \"sql_condition\": \"ELSE\", \"label_for_charts\": \"All other comparisons\", \"m_probability\": 0.009364952000761312, \"u_probability\": 0.4973572673444942, \"m_probability_description\": \"Amongst matching record comparisons, 0.94% of records are in the all other comparisons comparison level\", \"u_probability_description\": \"Amongst non-matching record comparisons, 49.74% of records are in the all other comparisons comparison level\", \"has_tf_adjustments\": false, \"tf_adjustment_column\": null, \"tf_adjustment_weight\": 1.0, \"is_null_level\": false, \"bayes_factor\": 0.018829426280956872, \"log2_bayes_factor\": -5.730867147030655, \"comparison_vector_value\": 0, \"max_comparison_vector_value\": 2, \"bayes_factor_description\": \"If comparison level is `all other comparisons` then comparison is  53.11 times less likely to be a match\", \"probability_two_random_records_match\": 0.007006045984371714, \"comparison_sort_order\": 3, \"iteration\": 1}, {\"comparison_name\": \"year_of_birth\", \"sql_condition\": \"\\\"year_of_birth_l\\\" = \\\"year_of_birth_r\\\"\", \"label_for_charts\": \"Exact match\", \"m_probability\": 0.9682741476623955, \"u_probability\": 0.01093448234753138, \"m_probability_description\": \"Amongst matching record comparisons, 96.83% of records are in the exact match comparison level\", \"u_probability_description\": \"Amongst non-matching record comparisons, 1.09% of records are in the exact match comparison level\", \"has_tf_adjustments\": false, \"tf_adjustment_column\": null, \"tf_adjustment_weight\": 1.0, \"is_null_level\": false, \"bayes_factor\": 88.55235363574369, \"log2_bayes_factor\": 6.468458747810226, \"comparison_vector_value\": 2, \"max_comparison_vector_value\": 2, \"bayes_factor_description\": \"If comparison level is `exact match` then comparison is 88.55 times more likely to be a match\", \"probability_two_random_records_match\": 0.007006045984371714, \"comparison_sort_order\": 4, \"iteration\": 1}, {\"comparison_name\": \"year_of_birth\", \"sql_condition\": \"abs(year_of_birth_l - year_of_birth_r) <= 5\", \"label_for_charts\": \"Inexact match\", \"m_probability\": 0.01110259990820039, \"u_probability\": 0.10883934805933546, \"m_probability_description\": \"Amongst matching record comparisons, 1.11% of records are in the inexact match comparison level\", \"u_probability_description\": \"Amongst non-matching record comparisons, 10.88% of records are in the inexact match comparison level\", \"has_tf_adjustments\": false, \"tf_adjustment_column\": null, \"tf_adjustment_weight\": 1.0, \"is_null_level\": false, \"bayes_factor\": 0.10200906295531681, \"log2_bayes_factor\": -3.2932307613195233, \"comparison_vector_value\": 1, \"max_comparison_vector_value\": 2, \"bayes_factor_description\": \"If comparison level is `inexact match` then comparison is  9.80 times less likely to be a match\", \"probability_two_random_records_match\": 0.007006045984371714, \"comparison_sort_order\": 4, \"iteration\": 1}, {\"comparison_name\": \"year_of_birth\", \"sql_condition\": \"ELSE\", \"label_for_charts\": \"All other comparisons\", \"m_probability\": 0.02062325242940403, \"u_probability\": 0.8802261695931332, \"m_probability_description\": \"Amongst matching record comparisons, 2.06% of records are in the all other comparisons comparison level\", \"u_probability_description\": \"Amongst non-matching record comparisons, 88.02% of records are in the all other comparisons comparison level\", \"has_tf_adjustments\": false, \"tf_adjustment_column\": null, \"tf_adjustment_weight\": 1.0, \"is_null_level\": false, \"bayes_factor\": 0.023429492489341366, \"log2_bayes_factor\": -5.415530485724779, \"comparison_vector_value\": 0, \"max_comparison_vector_value\": 2, \"bayes_factor_description\": \"If comparison level is `all other comparisons` then comparison is  42.68 times less likely to be a match\", \"probability_two_random_records_match\": 0.007006045984371714, \"comparison_sort_order\": 4, \"iteration\": 1}, {\"comparison_name\": \"geokey\", \"sql_condition\": \"\\\"geokey_l\\\" = \\\"geokey_r\\\"\", \"label_for_charts\": \"Exact match\", \"m_probability\": 0.5929367874049268, \"u_probability\": 0.0021770137377073793, \"m_probability_description\": \"Amongst matching record comparisons, 59.29% of records are in the exact match comparison level\", \"u_probability_description\": \"Amongst non-matching record comparisons, 0.22% of records are in the exact match comparison level\", \"has_tf_adjustments\": false, \"tf_adjustment_column\": null, \"tf_adjustment_weight\": 1.0, \"is_null_level\": false, \"bayes_factor\": 272.3624463800355, \"log2_bayes_factor\": 8.089383986530702, \"comparison_vector_value\": 2, \"max_comparison_vector_value\": 2, \"bayes_factor_description\": \"If comparison level is `exact match` then comparison is 272.36 times more likely to be a match\", \"probability_two_random_records_match\": 0.007006045984371714, \"comparison_sort_order\": 5, \"iteration\": 1}, {\"comparison_name\": \"geokey\", \"sql_condition\": \"jaro_winkler_similarity(\\\"geokey_l\\\", \\\"geokey_r\\\") >= 0.7222222222222222\", \"label_for_charts\": \"Jaro_winkler_similarity >= 0.7222222222222222\", \"m_probability\": 0.40327433448188, \"u_probability\": 0.2267847759177239, \"m_probability_description\": \"Amongst matching record comparisons, 40.33% of records are in the jaro_winkler_similarity >= 0.7222222222222222 comparison level\", \"u_probability_description\": \"Amongst non-matching record comparisons, 22.68% of records are in the jaro_winkler_similarity >= 0.7222222222222222 comparison level\", \"has_tf_adjustments\": false, \"tf_adjustment_column\": null, \"tf_adjustment_weight\": 1.0, \"is_null_level\": false, \"bayes_factor\": 1.7782248956084488, \"log2_bayes_factor\": 0.8304377961929251, \"comparison_vector_value\": 1, \"max_comparison_vector_value\": 2, \"bayes_factor_description\": \"If comparison level is `jaro_winkler_similarity >= 0.7222222222222222` then comparison is 1.78 times more likely to be a match\", \"probability_two_random_records_match\": 0.007006045984371714, \"comparison_sort_order\": 5, \"iteration\": 1}, {\"comparison_name\": \"geokey\", \"sql_condition\": \"ELSE\", \"label_for_charts\": \"All other comparisons\", \"m_probability\": 0.0037888781131933244, \"u_probability\": 0.7710382103445688, \"m_probability_description\": \"Amongst matching record comparisons, 0.38% of records are in the all other comparisons comparison level\", \"u_probability_description\": \"Amongst non-matching record comparisons, 77.10% of records are in the all other comparisons comparison level\", \"has_tf_adjustments\": false, \"tf_adjustment_column\": null, \"tf_adjustment_weight\": 1.0, \"is_null_level\": false, \"bayes_factor\": 0.004913995262958648, \"log2_bayes_factor\": -7.668887817704655, \"comparison_vector_value\": 0, \"max_comparison_vector_value\": 2, \"bayes_factor_description\": \"If comparison level is `all other comparisons` then comparison is  203.50 times less likely to be a match\", \"probability_two_random_records_match\": 0.007006045984371714, \"comparison_sort_order\": 5, \"iteration\": 1}, {\"comparison_name\": \"probability_two_random_records_match\", \"sql_condition\": null, \"label_for_charts\": \"\", \"m_probability\": null, \"u_probability\": null, \"m_probability_description\": null, \"u_probability_description\": null, \"has_tf_adjustments\": false, \"tf_adjustment_column\": null, \"tf_adjustment_weight\": null, \"is_null_level\": false, \"bayes_factor\": 0.007055476980539046, \"log2_bayes_factor\": -7.1470406661631145, \"comparison_vector_value\": 0, \"max_comparison_vector_value\": 0, \"bayes_factor_description\": \"The probability that two random records drawn at random match is 0.007 or one in  142.7 records.This is equivalent to a starting match weight of -7.147.\", \"probability_two_random_records_match\": 0.007006045984371714, \"comparison_sort_order\": -1, \"iteration\": 2}, {\"comparison_name\": \"last_name_12\", \"sql_condition\": \"\\\"last_name_12_l\\\" = \\\"last_name_12_r\\\"\", \"label_for_charts\": \"Exact match\", \"m_probability\": 0.88181494795521, \"u_probability\": 0.0006988639102327646, \"m_probability_description\": \"Amongst matching record comparisons, 88.18% of records are in the exact match comparison level\", \"u_probability_description\": \"Amongst non-matching record comparisons, 0.07% of records are in the exact match comparison level\", \"has_tf_adjustments\": false, \"tf_adjustment_column\": null, \"tf_adjustment_weight\": 1.0, \"is_null_level\": false, \"bayes_factor\": 1261.783496105145, \"log2_bayes_factor\": 10.301248670504567, \"comparison_vector_value\": 2, \"max_comparison_vector_value\": 2, \"bayes_factor_description\": \"If comparison level is `exact match` then comparison is 1,261.78 times more likely to be a match\", \"probability_two_random_records_match\": 0.007006045984371714, \"comparison_sort_order\": 0, \"iteration\": 2}, {\"comparison_name\": \"last_name_12\", \"sql_condition\": \"jaro_winkler_similarity(\\\"last_name_12_l\\\", \\\"last_name_12_r\\\") >= 0.8333333333333334\", \"label_for_charts\": \"Jaro_winkler_similarity >= 0.8333333333333334\", \"m_probability\": 0.09027153555125658, \"u_probability\": 0.0013365997755498443, \"m_probability_description\": \"Amongst matching record comparisons, 9.03% of records are in the jaro_winkler_similarity >= 0.8333333333333334 comparison level\", \"u_probability_description\": \"Amongst non-matching record comparisons, 0.13% of records are in the jaro_winkler_similarity >= 0.8333333333333334 comparison level\", \"has_tf_adjustments\": false, \"tf_adjustment_column\": null, \"tf_adjustment_weight\": 1.0, \"is_null_level\": false, \"bayes_factor\": 67.53819445624333, \"log2_bayes_factor\": 6.077631706216137, \"comparison_vector_value\": 1, \"max_comparison_vector_value\": 2, \"bayes_factor_description\": \"If comparison level is `jaro_winkler_similarity >= 0.8333333333333334` then comparison is 67.54 times more likely to be a match\", \"probability_two_random_records_match\": 0.007006045984371714, \"comparison_sort_order\": 0, \"iteration\": 2}, {\"comparison_name\": \"last_name_12\", \"sql_condition\": \"ELSE\", \"label_for_charts\": \"All other comparisons\", \"m_probability\": 0.027913516493533373, \"u_probability\": 0.9979645363142174, \"m_probability_description\": \"Amongst matching record comparisons, 2.79% of records are in the all other comparisons comparison level\", \"u_probability_description\": \"Amongst non-matching record comparisons, 99.80% of records are in the all other comparisons comparison level\", \"has_tf_adjustments\": false, \"tf_adjustment_column\": null, \"tf_adjustment_weight\": 1.0, \"is_null_level\": false, \"bayes_factor\": 0.027970449327414347, \"log2_bayes_factor\": -5.159952759799534, \"comparison_vector_value\": 0, \"max_comparison_vector_value\": 2, \"bayes_factor_description\": \"If comparison level is `all other comparisons` then comparison is  35.75 times less likely to be a match\", \"probability_two_random_records_match\": 0.007006045984371714, \"comparison_sort_order\": 0, \"iteration\": 2}, {\"comparison_name\": \"middle_initial\", \"sql_condition\": \"\\\"middle_initial_l\\\" = \\\"middle_initial_r\\\"\", \"label_for_charts\": \"Exact match\", \"m_probability\": 0.9441499902477265, \"u_probability\": 0.07417855709636824, \"m_probability_description\": \"Amongst matching record comparisons, 94.41% of records are in the exact match comparison level\", \"u_probability_description\": \"Amongst non-matching record comparisons, 7.42% of records are in the exact match comparison level\", \"has_tf_adjustments\": false, \"tf_adjustment_column\": null, \"tf_adjustment_weight\": 1.0, \"is_null_level\": false, \"bayes_factor\": 12.728071658513722, \"log2_bayes_factor\": 3.669941958004863, \"comparison_vector_value\": 1, \"max_comparison_vector_value\": 1, \"bayes_factor_description\": \"If comparison level is `exact match` then comparison is 12.73 times more likely to be a match\", \"probability_two_random_records_match\": 0.007006045984371714, \"comparison_sort_order\": 1, \"iteration\": 2}, {\"comparison_name\": \"middle_initial\", \"sql_condition\": \"ELSE\", \"label_for_charts\": \"All other comparisons\", \"m_probability\": 0.055850009752273444, \"u_probability\": 0.9258214429036318, \"m_probability_description\": \"Amongst matching record comparisons, 5.59% of records are in the all other comparisons comparison level\", \"u_probability_description\": \"Amongst non-matching record comparisons, 92.58% of records are in the all other comparisons comparison level\", \"has_tf_adjustments\": false, \"tf_adjustment_column\": null, \"tf_adjustment_weight\": 1.0, \"is_null_level\": false, \"bayes_factor\": 0.06032481768526811, \"log2_bayes_factor\": -4.051104539465601, \"comparison_vector_value\": 0, \"max_comparison_vector_value\": 1, \"bayes_factor_description\": \"If comparison level is `all other comparisons` then comparison is  16.58 times less likely to be a match\", \"probability_two_random_records_match\": 0.007006045984371714, \"comparison_sort_order\": 1, \"iteration\": 2}, {\"comparison_name\": \"day_of_birth\", \"sql_condition\": \"\\\"day_of_birth_l\\\" = \\\"day_of_birth_r\\\"\", \"label_for_charts\": \"Exact match\", \"m_probability\": 0.9759942346517871, \"u_probability\": 0.032483267196893574, \"m_probability_description\": \"Amongst matching record comparisons, 97.60% of records are in the exact match comparison level\", \"u_probability_description\": \"Amongst non-matching record comparisons, 3.25% of records are in the exact match comparison level\", \"has_tf_adjustments\": false, \"tf_adjustment_column\": null, \"tf_adjustment_weight\": 1.0, \"is_null_level\": false, \"bayes_factor\": 30.046061214714356, \"log2_bayes_factor\": 4.909103973063619, \"comparison_vector_value\": 2, \"max_comparison_vector_value\": 2, \"bayes_factor_description\": \"If comparison level is `exact match` then comparison is 30.05 times more likely to be a match\", \"probability_two_random_records_match\": 0.007006045984371714, \"comparison_sort_order\": 2, \"iteration\": 2}, {\"comparison_name\": \"day_of_birth\", \"sql_condition\": \"abs(day_of_birth_l - day_of_birth_r) <= 5\", \"label_for_charts\": \"Inexact match\", \"m_probability\": 0.01574212758756279, \"u_probability\": 0.2953114089616295, \"m_probability_description\": \"Amongst matching record comparisons, 1.57% of records are in the inexact match comparison level\", \"u_probability_description\": \"Amongst non-matching record comparisons, 29.53% of records are in the inexact match comparison level\", \"has_tf_adjustments\": false, \"tf_adjustment_column\": null, \"tf_adjustment_weight\": 1.0, \"is_null_level\": false, \"bayes_factor\": 0.053306872372168336, \"log2_bayes_factor\": -4.22953465119721, \"comparison_vector_value\": 1, \"max_comparison_vector_value\": 2, \"bayes_factor_description\": \"If comparison level is `inexact match` then comparison is  18.76 times less likely to be a match\", \"probability_two_random_records_match\": 0.007006045984371714, \"comparison_sort_order\": 2, \"iteration\": 2}, {\"comparison_name\": \"day_of_birth\", \"sql_condition\": \"ELSE\", \"label_for_charts\": \"All other comparisons\", \"m_probability\": 0.008263637760649993, \"u_probability\": 0.6722053238414769, \"m_probability_description\": \"Amongst matching record comparisons, 0.83% of records are in the all other comparisons comparison level\", \"u_probability_description\": \"Amongst non-matching record comparisons, 67.22% of records are in the all other comparisons comparison level\", \"has_tf_adjustments\": false, \"tf_adjustment_column\": null, \"tf_adjustment_weight\": 1.0, \"is_null_level\": false, \"bayes_factor\": 0.012293323881199681, \"log2_bayes_factor\": -6.345981143992588, \"comparison_vector_value\": 0, \"max_comparison_vector_value\": 2, \"bayes_factor_description\": \"If comparison level is `all other comparisons` then comparison is  81.34 times less likely to be a match\", \"probability_two_random_records_match\": 0.007006045984371714, \"comparison_sort_order\": 2, \"iteration\": 2}, {\"comparison_name\": \"month_of_birth\", \"sql_condition\": \"\\\"month_of_birth_l\\\" = \\\"month_of_birth_r\\\"\", \"label_for_charts\": \"Exact match\", \"m_probability\": 0.9830834889489156, \"u_probability\": 0.0832547076088129, \"m_probability_description\": \"Amongst matching record comparisons, 98.31% of records are in the exact match comparison level\", \"u_probability_description\": \"Amongst non-matching record comparisons, 8.33% of records are in the exact match comparison level\", \"has_tf_adjustments\": false, \"tf_adjustment_column\": null, \"tf_adjustment_weight\": 1.0, \"is_null_level\": false, \"bayes_factor\": 11.808142952925964, \"log2_bayes_factor\": 3.5617101872036088, \"comparison_vector_value\": 2, \"max_comparison_vector_value\": 2, \"bayes_factor_description\": \"If comparison level is `exact match` then comparison is 11.81 times more likely to be a match\", \"probability_two_random_records_match\": 0.007006045984371714, \"comparison_sort_order\": 3, \"iteration\": 2}, {\"comparison_name\": \"month_of_birth\", \"sql_condition\": \"abs(month_of_birth_l - month_of_birth_r) <= 3\", \"label_for_charts\": \"Inexact match\", \"m_probability\": 0.008632721142466543, \"u_probability\": 0.41938802504669287, \"m_probability_description\": \"Amongst matching record comparisons, 0.86% of records are in the inexact match comparison level\", \"u_probability_description\": \"Amongst non-matching record comparisons, 41.94% of records are in the inexact match comparison level\", \"has_tf_adjustments\": false, \"tf_adjustment_column\": null, \"tf_adjustment_weight\": 1.0, \"is_null_level\": false, \"bayes_factor\": 0.020584090691443593, \"log2_bayes_factor\": -5.602326471206402, \"comparison_vector_value\": 1, \"max_comparison_vector_value\": 2, \"bayes_factor_description\": \"If comparison level is `inexact match` then comparison is  48.58 times less likely to be a match\", \"probability_two_random_records_match\": 0.007006045984371714, \"comparison_sort_order\": 3, \"iteration\": 2}, {\"comparison_name\": \"month_of_birth\", \"sql_condition\": \"ELSE\", \"label_for_charts\": \"All other comparisons\", \"m_probability\": 0.008283789908617879, \"u_probability\": 0.4973572673444942, \"m_probability_description\": \"Amongst matching record comparisons, 0.83% of records are in the all other comparisons comparison level\", \"u_probability_description\": \"Amongst non-matching record comparisons, 49.74% of records are in the all other comparisons comparison level\", \"has_tf_adjustments\": false, \"tf_adjustment_column\": null, \"tf_adjustment_weight\": 1.0, \"is_null_level\": false, \"bayes_factor\": 0.01665561247922837, \"log2_bayes_factor\": -5.907847782355168, \"comparison_vector_value\": 0, \"max_comparison_vector_value\": 2, \"bayes_factor_description\": \"If comparison level is `all other comparisons` then comparison is  60.04 times less likely to be a match\", \"probability_two_random_records_match\": 0.007006045984371714, \"comparison_sort_order\": 3, \"iteration\": 2}, {\"comparison_name\": \"year_of_birth\", \"sql_condition\": \"\\\"year_of_birth_l\\\" = \\\"year_of_birth_r\\\"\", \"label_for_charts\": \"Exact match\", \"m_probability\": 0.9711288143567486, \"u_probability\": 0.01093448234753138, \"m_probability_description\": \"Amongst matching record comparisons, 97.11% of records are in the exact match comparison level\", \"u_probability_description\": \"Amongst non-matching record comparisons, 1.09% of records are in the exact match comparison level\", \"has_tf_adjustments\": false, \"tf_adjustment_column\": null, \"tf_adjustment_weight\": 1.0, \"is_null_level\": false, \"bayes_factor\": 88.81342376267087, \"log2_bayes_factor\": 6.472705845023423, \"comparison_vector_value\": 2, \"max_comparison_vector_value\": 2, \"bayes_factor_description\": \"If comparison level is `exact match` then comparison is 88.81 times more likely to be a match\", \"probability_two_random_records_match\": 0.007006045984371714, \"comparison_sort_order\": 4, \"iteration\": 2}, {\"comparison_name\": \"year_of_birth\", \"sql_condition\": \"abs(year_of_birth_l - year_of_birth_r) <= 5\", \"label_for_charts\": \"Inexact match\", \"m_probability\": 0.009802119742314637, \"u_probability\": 0.10883934805933546, \"m_probability_description\": \"Amongst matching record comparisons, 0.98% of records are in the inexact match comparison level\", \"u_probability_description\": \"Amongst non-matching record comparisons, 10.88% of records are in the inexact match comparison level\", \"has_tf_adjustments\": false, \"tf_adjustment_column\": null, \"tf_adjustment_weight\": 1.0, \"is_null_level\": false, \"bayes_factor\": 0.09006044153232946, \"log2_bayes_factor\": -3.4729626390887423, \"comparison_vector_value\": 1, \"max_comparison_vector_value\": 2, \"bayes_factor_description\": \"If comparison level is `inexact match` then comparison is  11.10 times less likely to be a match\", \"probability_two_random_records_match\": 0.007006045984371714, \"comparison_sort_order\": 4, \"iteration\": 2}, {\"comparison_name\": \"year_of_birth\", \"sql_condition\": \"ELSE\", \"label_for_charts\": \"All other comparisons\", \"m_probability\": 0.019069065900936728, \"u_probability\": 0.8802261695931332, \"m_probability_description\": \"Amongst matching record comparisons, 1.91% of records are in the all other comparisons comparison level\", \"u_probability_description\": \"Amongst non-matching record comparisons, 88.02% of records are in the all other comparisons comparison level\", \"has_tf_adjustments\": false, \"tf_adjustment_column\": null, \"tf_adjustment_weight\": 1.0, \"is_null_level\": false, \"bayes_factor\": 0.02166382522999858, \"log2_bayes_factor\": -5.528568184450775, \"comparison_vector_value\": 0, \"max_comparison_vector_value\": 2, \"bayes_factor_description\": \"If comparison level is `all other comparisons` then comparison is  46.16 times less likely to be a match\", \"probability_two_random_records_match\": 0.007006045984371714, \"comparison_sort_order\": 4, \"iteration\": 2}, {\"comparison_name\": \"geokey\", \"sql_condition\": \"\\\"geokey_l\\\" = \\\"geokey_r\\\"\", \"label_for_charts\": \"Exact match\", \"m_probability\": 0.5836634948830997, \"u_probability\": 0.0021770137377073793, \"m_probability_description\": \"Amongst matching record comparisons, 58.37% of records are in the exact match comparison level\", \"u_probability_description\": \"Amongst non-matching record comparisons, 0.22% of records are in the exact match comparison level\", \"has_tf_adjustments\": false, \"tf_adjustment_column\": null, \"tf_adjustment_weight\": 1.0, \"is_null_level\": false, \"bayes_factor\": 268.10280742544035, \"log2_bayes_factor\": 8.066642516284883, \"comparison_vector_value\": 2, \"max_comparison_vector_value\": 2, \"bayes_factor_description\": \"If comparison level is `exact match` then comparison is 268.10 times more likely to be a match\", \"probability_two_random_records_match\": 0.007006045984371714, \"comparison_sort_order\": 5, \"iteration\": 2}, {\"comparison_name\": \"geokey\", \"sql_condition\": \"jaro_winkler_similarity(\\\"geokey_l\\\", \\\"geokey_r\\\") >= 0.7222222222222222\", \"label_for_charts\": \"Jaro_winkler_similarity >= 0.7222222222222222\", \"m_probability\": 0.4125687560793122, \"u_probability\": 0.2267847759177239, \"m_probability_description\": \"Amongst matching record comparisons, 41.26% of records are in the jaro_winkler_similarity >= 0.7222222222222222 comparison level\", \"u_probability_description\": \"Amongst non-matching record comparisons, 22.68% of records are in the jaro_winkler_similarity >= 0.7222222222222222 comparison level\", \"has_tf_adjustments\": false, \"tf_adjustment_column\": null, \"tf_adjustment_weight\": 1.0, \"is_null_level\": false, \"bayes_factor\": 1.8192083415201978, \"log2_bayes_factor\": 0.8633107744715545, \"comparison_vector_value\": 1, \"max_comparison_vector_value\": 2, \"bayes_factor_description\": \"If comparison level is `jaro_winkler_similarity >= 0.7222222222222222` then comparison is 1.82 times more likely to be a match\", \"probability_two_random_records_match\": 0.007006045984371714, \"comparison_sort_order\": 5, \"iteration\": 2}, {\"comparison_name\": \"geokey\", \"sql_condition\": \"ELSE\", \"label_for_charts\": \"All other comparisons\", \"m_probability\": 0.003767749037588191, \"u_probability\": 0.7710382103445688, \"m_probability_description\": \"Amongst matching record comparisons, 0.38% of records are in the all other comparisons comparison level\", \"u_probability_description\": \"Amongst non-matching record comparisons, 77.10% of records are in the all other comparisons comparison level\", \"has_tf_adjustments\": false, \"tf_adjustment_column\": null, \"tf_adjustment_weight\": 1.0, \"is_null_level\": false, \"bayes_factor\": 0.004886591853735011, \"log2_bayes_factor\": -7.676955674283031, \"comparison_vector_value\": 0, \"max_comparison_vector_value\": 2, \"bayes_factor_description\": \"If comparison level is `all other comparisons` then comparison is  204.64 times less likely to be a match\", \"probability_two_random_records_match\": 0.007006045984371714, \"comparison_sort_order\": 5, \"iteration\": 2}, {\"comparison_name\": \"probability_two_random_records_match\", \"sql_condition\": null, \"label_for_charts\": \"\", \"m_probability\": null, \"u_probability\": null, \"m_probability_description\": null, \"u_probability_description\": null, \"has_tf_adjustments\": false, \"tf_adjustment_column\": null, \"tf_adjustment_weight\": null, \"is_null_level\": false, \"bayes_factor\": 0.007055476980539046, \"log2_bayes_factor\": -7.1470406661631145, \"comparison_vector_value\": 0, \"max_comparison_vector_value\": 0, \"bayes_factor_description\": \"The probability that two random records drawn at random match is 0.007 or one in  142.7 records.This is equivalent to a starting match weight of -7.147.\", \"probability_two_random_records_match\": 0.007006045984371714, \"comparison_sort_order\": -1, \"iteration\": 3}, {\"comparison_name\": \"last_name_12\", \"sql_condition\": \"\\\"last_name_12_l\\\" = \\\"last_name_12_r\\\"\", \"label_for_charts\": \"Exact match\", \"m_probability\": 0.8818945488429414, \"u_probability\": 0.0006988639102327646, \"m_probability_description\": \"Amongst matching record comparisons, 88.19% of records are in the exact match comparison level\", \"u_probability_description\": \"Amongst non-matching record comparisons, 0.07% of records are in the exact match comparison level\", \"has_tf_adjustments\": false, \"tf_adjustment_column\": null, \"tf_adjustment_weight\": 1.0, \"is_null_level\": false, \"bayes_factor\": 1261.8973965177518, \"log2_bayes_factor\": 10.301378895812382, \"comparison_vector_value\": 2, \"max_comparison_vector_value\": 2, \"bayes_factor_description\": \"If comparison level is `exact match` then comparison is 1,261.90 times more likely to be a match\", \"probability_two_random_records_match\": 0.007006045984371714, \"comparison_sort_order\": 0, \"iteration\": 3}, {\"comparison_name\": \"last_name_12\", \"sql_condition\": \"jaro_winkler_similarity(\\\"last_name_12_l\\\", \\\"last_name_12_r\\\") >= 0.8333333333333334\", \"label_for_charts\": \"Jaro_winkler_similarity >= 0.8333333333333334\", \"m_probability\": 0.09035023856683815, \"u_probability\": 0.0013365997755498443, \"m_probability_description\": \"Amongst matching record comparisons, 9.04% of records are in the jaro_winkler_similarity >= 0.8333333333333334 comparison level\", \"u_probability_description\": \"Amongst non-matching record comparisons, 0.13% of records are in the jaro_winkler_similarity >= 0.8333333333333334 comparison level\", \"has_tf_adjustments\": false, \"tf_adjustment_column\": null, \"tf_adjustment_weight\": 1.0, \"is_null_level\": false, \"bayes_factor\": 67.59707746447157, \"log2_bayes_factor\": 6.07888896833775, \"comparison_vector_value\": 1, \"max_comparison_vector_value\": 2, \"bayes_factor_description\": \"If comparison level is `jaro_winkler_similarity >= 0.8333333333333334` then comparison is 67.60 times more likely to be a match\", \"probability_two_random_records_match\": 0.007006045984371714, \"comparison_sort_order\": 0, \"iteration\": 3}, {\"comparison_name\": \"last_name_12\", \"sql_condition\": \"ELSE\", \"label_for_charts\": \"All other comparisons\", \"m_probability\": 0.02775521259022048, \"u_probability\": 0.9979645363142174, \"m_probability_description\": \"Amongst matching record comparisons, 2.78% of records are in the all other comparisons comparison level\", \"u_probability_description\": \"Amongst non-matching record comparisons, 99.80% of records are in the all other comparisons comparison level\", \"has_tf_adjustments\": false, \"tf_adjustment_column\": null, \"tf_adjustment_weight\": 1.0, \"is_null_level\": false, \"bayes_factor\": 0.02781182254504635, \"log2_bayes_factor\": -5.168157900302457, \"comparison_vector_value\": 0, \"max_comparison_vector_value\": 2, \"bayes_factor_description\": \"If comparison level is `all other comparisons` then comparison is  35.96 times less likely to be a match\", \"probability_two_random_records_match\": 0.007006045984371714, \"comparison_sort_order\": 0, \"iteration\": 3}, {\"comparison_name\": \"middle_initial\", \"sql_condition\": \"\\\"middle_initial_l\\\" = \\\"middle_initial_r\\\"\", \"label_for_charts\": \"Exact match\", \"m_probability\": 0.9441279687593209, \"u_probability\": 0.07417855709636824, \"m_probability_description\": \"Amongst matching record comparisons, 94.41% of records are in the exact match comparison level\", \"u_probability_description\": \"Amongst non-matching record comparisons, 7.42% of records are in the exact match comparison level\", \"has_tf_adjustments\": false, \"tf_adjustment_column\": null, \"tf_adjustment_weight\": 1.0, \"is_null_level\": false, \"bayes_factor\": 12.727774787163462, \"log2_bayes_factor\": 3.669908307988492, \"comparison_vector_value\": 1, \"max_comparison_vector_value\": 1, \"bayes_factor_description\": \"If comparison level is `exact match` then comparison is 12.73 times more likely to be a match\", \"probability_two_random_records_match\": 0.007006045984371714, \"comparison_sort_order\": 1, \"iteration\": 3}, {\"comparison_name\": \"middle_initial\", \"sql_condition\": \"ELSE\", \"label_for_charts\": \"All other comparisons\", \"m_probability\": 0.05587203124067913, \"u_probability\": 0.9258214429036318, \"m_probability_description\": \"Amongst matching record comparisons, 5.59% of records are in the all other comparisons comparison level\", \"u_probability_description\": \"Amongst non-matching record comparisons, 92.58% of records are in the all other comparisons comparison level\", \"has_tf_adjustments\": false, \"tf_adjustment_column\": null, \"tf_adjustment_weight\": 1.0, \"is_null_level\": false, \"bayes_factor\": 0.06034860357678583, \"log2_bayes_factor\": -4.050535801332195, \"comparison_vector_value\": 0, \"max_comparison_vector_value\": 1, \"bayes_factor_description\": \"If comparison level is `all other comparisons` then comparison is  16.57 times less likely to be a match\", \"probability_two_random_records_match\": 0.007006045984371714, \"comparison_sort_order\": 1, \"iteration\": 3}, {\"comparison_name\": \"day_of_birth\", \"sql_condition\": \"\\\"day_of_birth_l\\\" = \\\"day_of_birth_r\\\"\", \"label_for_charts\": \"Exact match\", \"m_probability\": 0.9765591333666584, \"u_probability\": 0.032483267196893574, \"m_probability_description\": \"Amongst matching record comparisons, 97.66% of records are in the exact match comparison level\", \"u_probability_description\": \"Amongst non-matching record comparisons, 3.25% of records are in the exact match comparison level\", \"has_tf_adjustments\": false, \"tf_adjustment_column\": null, \"tf_adjustment_weight\": 1.0, \"is_null_level\": false, \"bayes_factor\": 30.06345166720324, \"log2_bayes_factor\": 4.909938753419062, \"comparison_vector_value\": 2, \"max_comparison_vector_value\": 2, \"bayes_factor_description\": \"If comparison level is `exact match` then comparison is 30.06 times more likely to be a match\", \"probability_two_random_records_match\": 0.007006045984371714, \"comparison_sort_order\": 2, \"iteration\": 3}, {\"comparison_name\": \"day_of_birth\", \"sql_condition\": \"abs(day_of_birth_l - day_of_birth_r) <= 5\", \"label_for_charts\": \"Inexact match\", \"m_probability\": 0.015584496183533303, \"u_probability\": 0.2953114089616295, \"m_probability_description\": \"Amongst matching record comparisons, 1.56% of records are in the inexact match comparison level\", \"u_probability_description\": \"Amongst non-matching record comparisons, 29.53% of records are in the inexact match comparison level\", \"has_tf_adjustments\": false, \"tf_adjustment_column\": null, \"tf_adjustment_weight\": 1.0, \"is_null_level\": false, \"bayes_factor\": 0.05277309210074655, \"log2_bayes_factor\": -4.244053672839841, \"comparison_vector_value\": 1, \"max_comparison_vector_value\": 2, \"bayes_factor_description\": \"If comparison level is `inexact match` then comparison is  18.95 times less likely to be a match\", \"probability_two_random_records_match\": 0.007006045984371714, \"comparison_sort_order\": 2, \"iteration\": 3}, {\"comparison_name\": \"day_of_birth\", \"sql_condition\": \"ELSE\", \"label_for_charts\": \"All other comparisons\", \"m_probability\": 0.007856370449808218, \"u_probability\": 0.6722053238414769, \"m_probability_description\": \"Amongst matching record comparisons, 0.79% of records are in the all other comparisons comparison level\", \"u_probability_description\": \"Amongst non-matching record comparisons, 67.22% of records are in the all other comparisons comparison level\", \"has_tf_adjustments\": false, \"tf_adjustment_column\": null, \"tf_adjustment_weight\": 1.0, \"is_null_level\": false, \"bayes_factor\": 0.01168745645290508, \"log2_bayes_factor\": -6.418895200200755, \"comparison_vector_value\": 0, \"max_comparison_vector_value\": 2, \"bayes_factor_description\": \"If comparison level is `all other comparisons` then comparison is  85.56 times less likely to be a match\", \"probability_two_random_records_match\": 0.007006045984371714, \"comparison_sort_order\": 2, \"iteration\": 3}, {\"comparison_name\": \"month_of_birth\", \"sql_condition\": \"\\\"month_of_birth_l\\\" = \\\"month_of_birth_r\\\"\", \"label_for_charts\": \"Exact match\", \"m_probability\": 0.9835108477744132, \"u_probability\": 0.0832547076088129, \"m_probability_description\": \"Amongst matching record comparisons, 98.35% of records are in the exact match comparison level\", \"u_probability_description\": \"Amongst non-matching record comparisons, 8.33% of records are in the exact match comparison level\", \"has_tf_adjustments\": false, \"tf_adjustment_column\": null, \"tf_adjustment_weight\": 1.0, \"is_null_level\": false, \"bayes_factor\": 11.813276102002717, \"log2_bayes_factor\": 3.5623372087061296, \"comparison_vector_value\": 2, \"max_comparison_vector_value\": 2, \"bayes_factor_description\": \"If comparison level is `exact match` then comparison is 11.81 times more likely to be a match\", \"probability_two_random_records_match\": 0.007006045984371714, \"comparison_sort_order\": 3, \"iteration\": 3}, {\"comparison_name\": \"month_of_birth\", \"sql_condition\": \"abs(month_of_birth_l - month_of_birth_r) <= 3\", \"label_for_charts\": \"Inexact match\", \"m_probability\": 0.008423209698101586, \"u_probability\": 0.41938802504669287, \"m_probability_description\": \"Amongst matching record comparisons, 0.84% of records are in the inexact match comparison level\", \"u_probability_description\": \"Amongst non-matching record comparisons, 41.94% of records are in the inexact match comparison level\", \"has_tf_adjustments\": false, \"tf_adjustment_column\": null, \"tf_adjustment_weight\": 1.0, \"is_null_level\": false, \"bayes_factor\": 0.020084526011833033, \"log2_bayes_factor\": -5.637771775115111, \"comparison_vector_value\": 1, \"max_comparison_vector_value\": 2, \"bayes_factor_description\": \"If comparison level is `inexact match` then comparison is  49.79 times less likely to be a match\", \"probability_two_random_records_match\": 0.007006045984371714, \"comparison_sort_order\": 3, \"iteration\": 3}, {\"comparison_name\": \"month_of_birth\", \"sql_condition\": \"ELSE\", \"label_for_charts\": \"All other comparisons\", \"m_probability\": 0.008065942527485161, \"u_probability\": 0.4973572673444942, \"m_probability_description\": \"Amongst matching record comparisons, 0.81% of records are in the all other comparisons comparison level\", \"u_probability_description\": \"Amongst non-matching record comparisons, 49.74% of records are in the all other comparisons comparison level\", \"has_tf_adjustments\": false, \"tf_adjustment_column\": null, \"tf_adjustment_weight\": 1.0, \"is_null_level\": false, \"bayes_factor\": 0.016217602631104798, \"log2_bayes_factor\": -5.9462956210113385, \"comparison_vector_value\": 0, \"max_comparison_vector_value\": 2, \"bayes_factor_description\": \"If comparison level is `all other comparisons` then comparison is  61.66 times less likely to be a match\", \"probability_two_random_records_match\": 0.007006045984371714, \"comparison_sort_order\": 3, \"iteration\": 3}, {\"comparison_name\": \"year_of_birth\", \"sql_condition\": \"\\\"year_of_birth_l\\\" = \\\"year_of_birth_r\\\"\", \"label_for_charts\": \"Exact match\", \"m_probability\": 0.9717396739897572, \"u_probability\": 0.01093448234753138, \"m_probability_description\": \"Amongst matching record comparisons, 97.17% of records are in the exact match comparison level\", \"u_probability_description\": \"Amongst non-matching record comparisons, 1.09% of records are in the exact match comparison level\", \"has_tf_adjustments\": false, \"tf_adjustment_column\": null, \"tf_adjustment_weight\": 1.0, \"is_null_level\": false, \"bayes_factor\": 88.86928919951495, \"log2_bayes_factor\": 6.473613044041315, \"comparison_vector_value\": 2, \"max_comparison_vector_value\": 2, \"bayes_factor_description\": \"If comparison level is `exact match` then comparison is 88.87 times more likely to be a match\", \"probability_two_random_records_match\": 0.007006045984371714, \"comparison_sort_order\": 4, \"iteration\": 3}, {\"comparison_name\": \"year_of_birth\", \"sql_condition\": \"abs(year_of_birth_l - year_of_birth_r) <= 5\", \"label_for_charts\": \"Inexact match\", \"m_probability\": 0.009591398170543282, \"u_probability\": 0.10883934805933546, \"m_probability_description\": \"Amongst matching record comparisons, 0.96% of records are in the inexact match comparison level\", \"u_probability_description\": \"Amongst non-matching record comparisons, 10.88% of records are in the inexact match comparison level\", \"has_tf_adjustments\": false, \"tf_adjustment_column\": null, \"tf_adjustment_weight\": 1.0, \"is_null_level\": false, \"bayes_factor\": 0.0881243625725724, \"log2_bayes_factor\": -3.5043152727429057, \"comparison_vector_value\": 1, \"max_comparison_vector_value\": 2, \"bayes_factor_description\": \"If comparison level is `inexact match` then comparison is  11.35 times less likely to be a match\", \"probability_two_random_records_match\": 0.007006045984371714, \"comparison_sort_order\": 4, \"iteration\": 3}, {\"comparison_name\": \"year_of_birth\", \"sql_condition\": \"ELSE\", \"label_for_charts\": \"All other comparisons\", \"m_probability\": 0.018668927839699426, \"u_probability\": 0.8802261695931332, \"m_probability_description\": \"Amongst matching record comparisons, 1.87% of records are in the all other comparisons comparison level\", \"u_probability_description\": \"Amongst non-matching record comparisons, 88.02% of records are in the all other comparisons comparison level\", \"has_tf_adjustments\": false, \"tf_adjustment_column\": null, \"tf_adjustment_weight\": 1.0, \"is_null_level\": false, \"bayes_factor\": 0.021209239721114815, \"log2_bayes_factor\": -5.559163283674587, \"comparison_vector_value\": 0, \"max_comparison_vector_value\": 2, \"bayes_factor_description\": \"If comparison level is `all other comparisons` then comparison is  47.15 times less likely to be a match\", \"probability_two_random_records_match\": 0.007006045984371714, \"comparison_sort_order\": 4, \"iteration\": 3}, {\"comparison_name\": \"geokey\", \"sql_condition\": \"\\\"geokey_l\\\" = \\\"geokey_r\\\"\", \"label_for_charts\": \"Exact match\", \"m_probability\": 0.583552327519266, \"u_probability\": 0.0021770137377073793, \"m_probability_description\": \"Amongst matching record comparisons, 58.36% of records are in the exact match comparison level\", \"u_probability_description\": \"Amongst non-matching record comparisons, 0.22% of records are in the exact match comparison level\", \"has_tf_adjustments\": false, \"tf_adjustment_column\": null, \"tf_adjustment_weight\": 1.0, \"is_null_level\": false, \"bayes_factor\": 268.051743271867, \"log2_bayes_factor\": 8.066367707458754, \"comparison_vector_value\": 2, \"max_comparison_vector_value\": 2, \"bayes_factor_description\": \"If comparison level is `exact match` then comparison is 268.05 times more likely to be a match\", \"probability_two_random_records_match\": 0.007006045984371714, \"comparison_sort_order\": 5, \"iteration\": 3}, {\"comparison_name\": \"geokey\", \"sql_condition\": \"jaro_winkler_similarity(\\\"geokey_l\\\", \\\"geokey_r\\\") >= 0.7222222222222222\", \"label_for_charts\": \"Jaro_winkler_similarity >= 0.7222222222222222\", \"m_probability\": 0.4126759512120839, \"u_probability\": 0.2267847759177239, \"m_probability_description\": \"Amongst matching record comparisons, 41.27% of records are in the jaro_winkler_similarity >= 0.7222222222222222 comparison level\", \"u_probability_description\": \"Amongst non-matching record comparisons, 22.68% of records are in the jaro_winkler_similarity >= 0.7222222222222222 comparison level\", \"has_tf_adjustments\": false, \"tf_adjustment_column\": null, \"tf_adjustment_weight\": 1.0, \"is_null_level\": false, \"bayes_factor\": 1.8196810149275635, \"log2_bayes_factor\": 0.8636855721187505, \"comparison_vector_value\": 1, \"max_comparison_vector_value\": 2, \"bayes_factor_description\": \"If comparison level is `jaro_winkler_similarity >= 0.7222222222222222` then comparison is 1.82 times more likely to be a match\", \"probability_two_random_records_match\": 0.007006045984371714, \"comparison_sort_order\": 5, \"iteration\": 3}, {\"comparison_name\": \"geokey\", \"sql_condition\": \"ELSE\", \"label_for_charts\": \"All other comparisons\", \"m_probability\": 0.0037717212686500757, \"u_probability\": 0.7710382103445688, \"m_probability_description\": \"Amongst matching record comparisons, 0.38% of records are in the all other comparisons comparison level\", \"u_probability_description\": \"Amongst non-matching record comparisons, 77.10% of records are in the all other comparisons comparison level\", \"has_tf_adjustments\": false, \"tf_adjustment_column\": null, \"tf_adjustment_weight\": 1.0, \"is_null_level\": false, \"bayes_factor\": 0.004891743649078732, \"log2_bayes_factor\": -7.675435482982656, \"comparison_vector_value\": 0, \"max_comparison_vector_value\": 2, \"bayes_factor_description\": \"If comparison level is `all other comparisons` then comparison is  204.43 times less likely to be a match\", \"probability_two_random_records_match\": 0.007006045984371714, \"comparison_sort_order\": 5, \"iteration\": 3}, {\"comparison_name\": \"probability_two_random_records_match\", \"sql_condition\": null, \"label_for_charts\": \"\", \"m_probability\": null, \"u_probability\": null, \"m_probability_description\": null, \"u_probability_description\": null, \"has_tf_adjustments\": false, \"tf_adjustment_column\": null, \"tf_adjustment_weight\": null, \"is_null_level\": false, \"bayes_factor\": 0.007055476980539046, \"log2_bayes_factor\": -7.1470406661631145, \"comparison_vector_value\": 0, \"max_comparison_vector_value\": 0, \"bayes_factor_description\": \"The probability that two random records drawn at random match is 0.007 or one in  142.7 records.This is equivalent to a starting match weight of -7.147.\", \"probability_two_random_records_match\": 0.007006045984371714, \"comparison_sort_order\": -1, \"iteration\": 4}, {\"comparison_name\": \"last_name_12\", \"sql_condition\": \"\\\"last_name_12_l\\\" = \\\"last_name_12_r\\\"\", \"label_for_charts\": \"Exact match\", \"m_probability\": 0.881925949130947, \"u_probability\": 0.0006988639102327646, \"m_probability_description\": \"Amongst matching record comparisons, 88.19% of records are in the exact match comparison level\", \"u_probability_description\": \"Amongst non-matching record comparisons, 0.07% of records are in the exact match comparison level\", \"has_tf_adjustments\": false, \"tf_adjustment_column\": null, \"tf_adjustment_weight\": 1.0, \"is_null_level\": false, \"bayes_factor\": 1261.942326993551, \"log2_bayes_factor\": 10.301430262762528, \"comparison_vector_value\": 2, \"max_comparison_vector_value\": 2, \"bayes_factor_description\": \"If comparison level is `exact match` then comparison is 1,261.94 times more likely to be a match\", \"probability_two_random_records_match\": 0.007006045984371714, \"comparison_sort_order\": 0, \"iteration\": 4}, {\"comparison_name\": \"last_name_12\", \"sql_condition\": \"jaro_winkler_similarity(\\\"last_name_12_l\\\", \\\"last_name_12_r\\\") >= 0.8333333333333334\", \"label_for_charts\": \"Jaro_winkler_similarity >= 0.8333333333333334\", \"m_probability\": 0.09035675648078183, \"u_probability\": 0.0013365997755498443, \"m_probability_description\": \"Amongst matching record comparisons, 9.04% of records are in the jaro_winkler_similarity >= 0.8333333333333334 comparison level\", \"u_probability_description\": \"Amongst non-matching record comparisons, 0.13% of records are in the jaro_winkler_similarity >= 0.8333333333333334 comparison level\", \"has_tf_adjustments\": false, \"tf_adjustment_column\": null, \"tf_adjustment_weight\": 1.0, \"is_null_level\": false, \"bayes_factor\": 67.60195395335248, \"log2_bayes_factor\": 6.078993041366302, \"comparison_vector_value\": 1, \"max_comparison_vector_value\": 2, \"bayes_factor_description\": \"If comparison level is `jaro_winkler_similarity >= 0.8333333333333334` then comparison is 67.60 times more likely to be a match\", \"probability_two_random_records_match\": 0.007006045984371714, \"comparison_sort_order\": 0, \"iteration\": 4}, {\"comparison_name\": \"last_name_12\", \"sql_condition\": \"ELSE\", \"label_for_charts\": \"All other comparisons\", \"m_probability\": 0.027717294388271155, \"u_probability\": 0.9979645363142174, \"m_probability_description\": \"Amongst matching record comparisons, 2.77% of records are in the all other comparisons comparison level\", \"u_probability_description\": \"Amongst non-matching record comparisons, 99.80% of records are in the all other comparisons comparison level\", \"has_tf_adjustments\": false, \"tf_adjustment_column\": null, \"tf_adjustment_weight\": 1.0, \"is_null_level\": false, \"bayes_factor\": 0.027773827004554132, \"log2_bayes_factor\": -5.170130207429407, \"comparison_vector_value\": 0, \"max_comparison_vector_value\": 2, \"bayes_factor_description\": \"If comparison level is `all other comparisons` then comparison is  36.01 times less likely to be a match\", \"probability_two_random_records_match\": 0.007006045984371714, \"comparison_sort_order\": 0, \"iteration\": 4}, {\"comparison_name\": \"middle_initial\", \"sql_condition\": \"\\\"middle_initial_l\\\" = \\\"middle_initial_r\\\"\", \"label_for_charts\": \"Exact match\", \"m_probability\": 0.9441233961148948, \"u_probability\": 0.07417855709636824, \"m_probability_description\": \"Amongst matching record comparisons, 94.41% of records are in the exact match comparison level\", \"u_probability_description\": \"Amongst non-matching record comparisons, 7.42% of records are in the exact match comparison level\", \"has_tf_adjustments\": false, \"tf_adjustment_column\": null, \"tf_adjustment_weight\": 1.0, \"is_null_level\": false, \"bayes_factor\": 12.727713143413501, \"log2_bayes_factor\": 3.6699013206439464, \"comparison_vector_value\": 1, \"max_comparison_vector_value\": 1, \"bayes_factor_description\": \"If comparison level is `exact match` then comparison is 12.73 times more likely to be a match\", \"probability_two_random_records_match\": 0.007006045984371714, \"comparison_sort_order\": 1, \"iteration\": 4}, {\"comparison_name\": \"middle_initial\", \"sql_condition\": \"ELSE\", \"label_for_charts\": \"All other comparisons\", \"m_probability\": 0.055876603885105104, \"u_probability\": 0.9258214429036318, \"m_probability_description\": \"Amongst matching record comparisons, 5.59% of records are in the all other comparisons comparison level\", \"u_probability_description\": \"Amongst non-matching record comparisons, 92.58% of records are in the all other comparisons comparison level\", \"has_tf_adjustments\": false, \"tf_adjustment_column\": null, \"tf_adjustment_weight\": 1.0, \"is_null_level\": false, \"bayes_factor\": 0.06035354259009236, \"log2_bayes_factor\": -4.05041773400308, \"comparison_vector_value\": 0, \"max_comparison_vector_value\": 1, \"bayes_factor_description\": \"If comparison level is `all other comparisons` then comparison is  16.57 times less likely to be a match\", \"probability_two_random_records_match\": 0.007006045984371714, \"comparison_sort_order\": 1, \"iteration\": 4}, {\"comparison_name\": \"day_of_birth\", \"sql_condition\": \"\\\"day_of_birth_l\\\" = \\\"day_of_birth_r\\\"\", \"label_for_charts\": \"Exact match\", \"m_probability\": 0.9766890160242367, \"u_probability\": 0.032483267196893574, \"m_probability_description\": \"Amongst matching record comparisons, 97.67% of records are in the exact match comparison level\", \"u_probability_description\": \"Amongst non-matching record comparisons, 3.25% of records are in the exact match comparison level\", \"has_tf_adjustments\": false, \"tf_adjustment_column\": null, \"tf_adjustment_weight\": 1.0, \"is_null_level\": false, \"bayes_factor\": 30.067450115290097, \"log2_bayes_factor\": 4.910130619533278, \"comparison_vector_value\": 2, \"max_comparison_vector_value\": 2, \"bayes_factor_description\": \"If comparison level is `exact match` then comparison is 30.07 times more likely to be a match\", \"probability_two_random_records_match\": 0.007006045984371714, \"comparison_sort_order\": 2, \"iteration\": 4}, {\"comparison_name\": \"day_of_birth\", \"sql_condition\": \"abs(day_of_birth_l - day_of_birth_r) <= 5\", \"label_for_charts\": \"Inexact match\", \"m_probability\": 0.015549051150254999, \"u_probability\": 0.2953114089616295, \"m_probability_description\": \"Amongst matching record comparisons, 1.55% of records are in the inexact match comparison level\", \"u_probability_description\": \"Amongst non-matching record comparisons, 29.53% of records are in the inexact match comparison level\", \"has_tf_adjustments\": false, \"tf_adjustment_column\": null, \"tf_adjustment_weight\": 1.0, \"is_null_level\": false, \"bayes_factor\": 0.052653066147794254, \"log2_bayes_factor\": -4.2473386435680345, \"comparison_vector_value\": 1, \"max_comparison_vector_value\": 2, \"bayes_factor_description\": \"If comparison level is `inexact match` then comparison is  18.99 times less likely to be a match\", \"probability_two_random_records_match\": 0.007006045984371714, \"comparison_sort_order\": 2, \"iteration\": 4}, {\"comparison_name\": \"day_of_birth\", \"sql_condition\": \"ELSE\", \"label_for_charts\": \"All other comparisons\", \"m_probability\": 0.007761932825508247, \"u_probability\": 0.6722053238414769, \"m_probability_description\": \"Amongst matching record comparisons, 0.78% of records are in the all other comparisons comparison level\", \"u_probability_description\": \"Amongst non-matching record comparisons, 67.22% of records are in the all other comparisons comparison level\", \"has_tf_adjustments\": false, \"tf_adjustment_column\": null, \"tf_adjustment_weight\": 1.0, \"is_null_level\": false, \"bayes_factor\": 0.011546967199174857, \"log2_bayes_factor\": -6.436342210969626, \"comparison_vector_value\": 0, \"max_comparison_vector_value\": 2, \"bayes_factor_description\": \"If comparison level is `all other comparisons` then comparison is  86.60 times less likely to be a match\", \"probability_two_random_records_match\": 0.007006045984371714, \"comparison_sort_order\": 2, \"iteration\": 4}, {\"comparison_name\": \"month_of_birth\", \"sql_condition\": \"\\\"month_of_birth_l\\\" = \\\"month_of_birth_r\\\"\", \"label_for_charts\": \"Exact match\", \"m_probability\": 0.9836083896248194, \"u_probability\": 0.0832547076088129, \"m_probability_description\": \"Amongst matching record comparisons, 98.36% of records are in the exact match comparison level\", \"u_probability_description\": \"Amongst non-matching record comparisons, 8.33% of records are in the exact match comparison level\", \"has_tf_adjustments\": false, \"tf_adjustment_column\": null, \"tf_adjustment_weight\": 1.0, \"is_null_level\": false, \"bayes_factor\": 11.814447709629574, \"log2_bayes_factor\": 3.5624802840635352, \"comparison_vector_value\": 2, \"max_comparison_vector_value\": 2, \"bayes_factor_description\": \"If comparison level is `exact match` then comparison is 11.81 times more likely to be a match\", \"probability_two_random_records_match\": 0.007006045984371714, \"comparison_sort_order\": 3, \"iteration\": 4}, {\"comparison_name\": \"month_of_birth\", \"sql_condition\": \"abs(month_of_birth_l - month_of_birth_r) <= 3\", \"label_for_charts\": \"Inexact match\", \"m_probability\": 0.008376256741195343, \"u_probability\": 0.41938802504669287, \"m_probability_description\": \"Amongst matching record comparisons, 0.84% of records are in the inexact match comparison level\", \"u_probability_description\": \"Amongst non-matching record comparisons, 41.94% of records are in the inexact match comparison level\", \"has_tf_adjustments\": false, \"tf_adjustment_column\": null, \"tf_adjustment_weight\": 1.0, \"is_null_level\": false, \"bayes_factor\": 0.019972570128254773, \"log2_bayes_factor\": -5.645836194864398, \"comparison_vector_value\": 1, \"max_comparison_vector_value\": 2, \"bayes_factor_description\": \"If comparison level is `inexact match` then comparison is  50.07 times less likely to be a match\", \"probability_two_random_records_match\": 0.007006045984371714, \"comparison_sort_order\": 3, \"iteration\": 4}, {\"comparison_name\": \"month_of_birth\", \"sql_condition\": \"ELSE\", \"label_for_charts\": \"All other comparisons\", \"m_probability\": 0.008015353633985147, \"u_probability\": 0.4973572673444942, \"m_probability_description\": \"Amongst matching record comparisons, 0.80% of records are in the all other comparisons comparison level\", \"u_probability_description\": \"Amongst non-matching record comparisons, 49.74% of records are in the all other comparisons comparison level\", \"has_tf_adjustments\": false, \"tf_adjustment_column\": null, \"tf_adjustment_weight\": 1.0, \"is_null_level\": false, \"bayes_factor\": 0.016115887230885313, \"log2_bayes_factor\": -5.955372574237113, \"comparison_vector_value\": 0, \"max_comparison_vector_value\": 2, \"bayes_factor_description\": \"If comparison level is `all other comparisons` then comparison is  62.05 times less likely to be a match\", \"probability_two_random_records_match\": 0.007006045984371714, \"comparison_sort_order\": 3, \"iteration\": 4}, {\"comparison_name\": \"year_of_birth\", \"sql_condition\": \"\\\"year_of_birth_l\\\" = \\\"year_of_birth_r\\\"\", \"label_for_charts\": \"Exact match\", \"m_probability\": 0.9718761583623579, \"u_probability\": 0.01093448234753138, \"m_probability_description\": \"Amongst matching record comparisons, 97.19% of records are in the exact match comparison level\", \"u_probability_description\": \"Amongst non-matching record comparisons, 1.09% of records are in the exact match comparison level\", \"has_tf_adjustments\": false, \"tf_adjustment_column\": null, \"tf_adjustment_weight\": 1.0, \"is_null_level\": false, \"bayes_factor\": 88.88177121450776, \"log2_bayes_factor\": 6.473815661579777, \"comparison_vector_value\": 2, \"max_comparison_vector_value\": 2, \"bayes_factor_description\": \"If comparison level is `exact match` then comparison is 88.88 times more likely to be a match\", \"probability_two_random_records_match\": 0.007006045984371714, \"comparison_sort_order\": 4, \"iteration\": 4}, {\"comparison_name\": \"year_of_birth\", \"sql_condition\": \"abs(year_of_birth_l - year_of_birth_r) <= 5\", \"label_for_charts\": \"Inexact match\", \"m_probability\": 0.00954987866979537, \"u_probability\": 0.10883934805933546, \"m_probability_description\": \"Amongst matching record comparisons, 0.95% of records are in the inexact match comparison level\", \"u_probability_description\": \"Amongst non-matching record comparisons, 10.88% of records are in the inexact match comparison level\", \"has_tf_adjustments\": false, \"tf_adjustment_column\": null, \"tf_adjustment_weight\": 1.0, \"is_null_level\": false, \"bayes_factor\": 0.08774288747658711, \"log2_bayes_factor\": -3.5105740058747483, \"comparison_vector_value\": 1, \"max_comparison_vector_value\": 2, \"bayes_factor_description\": \"If comparison level is `inexact match` then comparison is  11.40 times less likely to be a match\", \"probability_two_random_records_match\": 0.007006045984371714, \"comparison_sort_order\": 4, \"iteration\": 4}, {\"comparison_name\": \"year_of_birth\", \"sql_condition\": \"ELSE\", \"label_for_charts\": \"All other comparisons\", \"m_probability\": 0.018573962967846743, \"u_probability\": 0.8802261695931332, \"m_probability_description\": \"Amongst matching record comparisons, 1.86% of records are in the all other comparisons comparison level\", \"u_probability_description\": \"Amongst non-matching record comparisons, 88.02% of records are in the all other comparisons comparison level\", \"has_tf_adjustments\": false, \"tf_adjustment_column\": null, \"tf_adjustment_weight\": 1.0, \"is_null_level\": false, \"bayes_factor\": 0.02110135282211864, \"log2_bayes_factor\": -5.566520695714411, \"comparison_vector_value\": 0, \"max_comparison_vector_value\": 2, \"bayes_factor_description\": \"If comparison level is `all other comparisons` then comparison is  47.39 times less likely to be a match\", \"probability_two_random_records_match\": 0.007006045984371714, \"comparison_sort_order\": 4, \"iteration\": 4}, {\"comparison_name\": \"geokey\", \"sql_condition\": \"\\\"geokey_l\\\" = \\\"geokey_r\\\"\", \"label_for_charts\": \"Exact match\", \"m_probability\": 0.5835481826754444, \"u_probability\": 0.0021770137377073793, \"m_probability_description\": \"Amongst matching record comparisons, 58.35% of records are in the exact match comparison level\", \"u_probability_description\": \"Amongst non-matching record comparisons, 0.22% of records are in the exact match comparison level\", \"has_tf_adjustments\": false, \"tf_adjustment_column\": null, \"tf_adjustment_weight\": 1.0, \"is_null_level\": false, \"bayes_factor\": 268.04983935929636, \"log2_bayes_factor\": 8.066357460276828, \"comparison_vector_value\": 2, \"max_comparison_vector_value\": 2, \"bayes_factor_description\": \"If comparison level is `exact match` then comparison is 268.05 times more likely to be a match\", \"probability_two_random_records_match\": 0.007006045984371714, \"comparison_sort_order\": 5, \"iteration\": 4}, {\"comparison_name\": \"geokey\", \"sql_condition\": \"jaro_winkler_similarity(\\\"geokey_l\\\", \\\"geokey_r\\\") >= 0.7222222222222222\", \"label_for_charts\": \"Jaro_winkler_similarity >= 0.7222222222222222\", \"m_probability\": 0.41267920899998, \"u_probability\": 0.2267847759177239, \"m_probability_description\": \"Amongst matching record comparisons, 41.27% of records are in the jaro_winkler_similarity >= 0.7222222222222222 comparison level\", \"u_probability_description\": \"Amongst non-matching record comparisons, 22.68% of records are in the jaro_winkler_similarity >= 0.7222222222222222 comparison level\", \"has_tf_adjustments\": false, \"tf_adjustment_column\": null, \"tf_adjustment_weight\": 1.0, \"is_null_level\": false, \"bayes_factor\": 1.8196953800359927, \"log2_bayes_factor\": 0.8636969611417279, \"comparison_vector_value\": 1, \"max_comparison_vector_value\": 2, \"bayes_factor_description\": \"If comparison level is `jaro_winkler_similarity >= 0.7222222222222222` then comparison is 1.82 times more likely to be a match\", \"probability_two_random_records_match\": 0.007006045984371714, \"comparison_sort_order\": 5, \"iteration\": 4}, {\"comparison_name\": \"geokey\", \"sql_condition\": \"ELSE\", \"label_for_charts\": \"All other comparisons\", \"m_probability\": 0.0037726083245755576, \"u_probability\": 0.7710382103445688, \"m_probability_description\": \"Amongst matching record comparisons, 0.38% of records are in the all other comparisons comparison level\", \"u_probability_description\": \"Amongst non-matching record comparisons, 77.10% of records are in the all other comparisons comparison level\", \"has_tf_adjustments\": false, \"tf_adjustment_column\": null, \"tf_adjustment_weight\": 1.0, \"is_null_level\": false, \"bayes_factor\": 0.004892894118554279, \"log2_bayes_factor\": -7.675096221243156, \"comparison_vector_value\": 0, \"max_comparison_vector_value\": 2, \"bayes_factor_description\": \"If comparison level is `all other comparisons` then comparison is  204.38 times less likely to be a match\", \"probability_two_random_records_match\": 0.007006045984371714, \"comparison_sort_order\": 5, \"iteration\": 4}, {\"comparison_name\": \"probability_two_random_records_match\", \"sql_condition\": null, \"label_for_charts\": \"\", \"m_probability\": null, \"u_probability\": null, \"m_probability_description\": null, \"u_probability_description\": null, \"has_tf_adjustments\": false, \"tf_adjustment_column\": null, \"tf_adjustment_weight\": null, \"is_null_level\": false, \"bayes_factor\": 0.007055476980539046, \"log2_bayes_factor\": -7.1470406661631145, \"comparison_vector_value\": 0, \"max_comparison_vector_value\": 0, \"bayes_factor_description\": \"The probability that two random records drawn at random match is 0.007 or one in  142.7 records.This is equivalent to a starting match weight of -7.147.\", \"probability_two_random_records_match\": 0.007006045984371714, \"comparison_sort_order\": -1, \"iteration\": 5}, {\"comparison_name\": \"last_name_12\", \"sql_condition\": \"\\\"last_name_12_l\\\" = \\\"last_name_12_r\\\"\", \"label_for_charts\": \"Exact match\", \"m_probability\": 0.8819331741788478, \"u_probability\": 0.0006988639102327646, \"m_probability_description\": \"Amongst matching record comparisons, 88.19% of records are in the exact match comparison level\", \"u_probability_description\": \"Amongst non-matching record comparisons, 0.07% of records are in the exact match comparison level\", \"has_tf_adjustments\": false, \"tf_adjustment_column\": null, \"tf_adjustment_weight\": 1.0, \"is_null_level\": false, \"bayes_factor\": 1261.9526652694226, \"log2_bayes_factor\": 10.301442081779863, \"comparison_vector_value\": 2, \"max_comparison_vector_value\": 2, \"bayes_factor_description\": \"If comparison level is `exact match` then comparison is 1,261.95 times more likely to be a match\", \"probability_two_random_records_match\": 0.007006045984371714, \"comparison_sort_order\": 0, \"iteration\": 5}, {\"comparison_name\": \"last_name_12\", \"sql_condition\": \"jaro_winkler_similarity(\\\"last_name_12_l\\\", \\\"last_name_12_r\\\") >= 0.8333333333333334\", \"label_for_charts\": \"Jaro_winkler_similarity >= 0.8333333333333334\", \"m_probability\": 0.0903580975548666, \"u_probability\": 0.0013365997755498443, \"m_probability_description\": \"Amongst matching record comparisons, 9.04% of records are in the jaro_winkler_similarity >= 0.8333333333333334 comparison level\", \"u_probability_description\": \"Amongst non-matching record comparisons, 0.13% of records are in the jaro_winkler_similarity >= 0.8333333333333334 comparison level\", \"has_tf_adjustments\": false, \"tf_adjustment_column\": null, \"tf_adjustment_weight\": 1.0, \"is_null_level\": false, \"bayes_factor\": 67.6029573008835, \"log2_bayes_factor\": 6.07901445367291, \"comparison_vector_value\": 1, \"max_comparison_vector_value\": 2, \"bayes_factor_description\": \"If comparison level is `jaro_winkler_similarity >= 0.8333333333333334` then comparison is 67.60 times more likely to be a match\", \"probability_two_random_records_match\": 0.007006045984371714, \"comparison_sort_order\": 0, \"iteration\": 5}, {\"comparison_name\": \"last_name_12\", \"sql_condition\": \"ELSE\", \"label_for_charts\": \"All other comparisons\", \"m_probability\": 0.027708728266285614, \"u_probability\": 0.9979645363142174, \"m_probability_description\": \"Amongst matching record comparisons, 2.77% of records are in the all other comparisons comparison level\", \"u_probability_description\": \"Amongst non-matching record comparisons, 99.80% of records are in the all other comparisons comparison level\", \"has_tf_adjustments\": false, \"tf_adjustment_column\": null, \"tf_adjustment_weight\": 1.0, \"is_null_level\": false, \"bayes_factor\": 0.027765243410975568, \"log2_bayes_factor\": -5.1705761460414426, \"comparison_vector_value\": 0, \"max_comparison_vector_value\": 2, \"bayes_factor_description\": \"If comparison level is `all other comparisons` then comparison is  36.02 times less likely to be a match\", \"probability_two_random_records_match\": 0.007006045984371714, \"comparison_sort_order\": 0, \"iteration\": 5}, {\"comparison_name\": \"middle_initial\", \"sql_condition\": \"\\\"middle_initial_l\\\" = \\\"middle_initial_r\\\"\", \"label_for_charts\": \"Exact match\", \"m_probability\": 0.9441223311390134, \"u_probability\": 0.07417855709636824, \"m_probability_description\": \"Amongst matching record comparisons, 94.41% of records are in the exact match comparison level\", \"u_probability_description\": \"Amongst non-matching record comparisons, 7.42% of records are in the exact match comparison level\", \"has_tf_adjustments\": false, \"tf_adjustment_column\": null, \"tf_adjustment_weight\": 1.0, \"is_null_level\": false, \"bayes_factor\": 12.72769878648984, \"log2_bayes_factor\": 3.669899693275855, \"comparison_vector_value\": 1, \"max_comparison_vector_value\": 1, \"bayes_factor_description\": \"If comparison level is `exact match` then comparison is 12.73 times more likely to be a match\", \"probability_two_random_records_match\": 0.007006045984371714, \"comparison_sort_order\": 1, \"iteration\": 5}, {\"comparison_name\": \"middle_initial\", \"sql_condition\": \"ELSE\", \"label_for_charts\": \"All other comparisons\", \"m_probability\": 0.05587766886098656, \"u_probability\": 0.9258214429036318, \"m_probability_description\": \"Amongst matching record comparisons, 5.59% of records are in the all other comparisons comparison level\", \"u_probability_description\": \"Amongst non-matching record comparisons, 92.58% of records are in the all other comparisons comparison level\", \"has_tf_adjustments\": false, \"tf_adjustment_column\": null, \"tf_adjustment_weight\": 1.0, \"is_null_level\": false, \"bayes_factor\": 0.06035469289384652, \"log2_bayes_factor\": -4.050390237328722, \"comparison_vector_value\": 0, \"max_comparison_vector_value\": 1, \"bayes_factor_description\": \"If comparison level is `all other comparisons` then comparison is  16.57 times less likely to be a match\", \"probability_two_random_records_match\": 0.007006045984371714, \"comparison_sort_order\": 1, \"iteration\": 5}, {\"comparison_name\": \"day_of_birth\", \"sql_condition\": \"\\\"day_of_birth_l\\\" = \\\"day_of_birth_r\\\"\", \"label_for_charts\": \"Exact match\", \"m_probability\": 0.9767194124615205, \"u_probability\": 0.032483267196893574, \"m_probability_description\": \"Amongst matching record comparisons, 97.67% of records are in the exact match comparison level\", \"u_probability_description\": \"Amongst non-matching record comparisons, 3.25% of records are in the exact match comparison level\", \"has_tf_adjustments\": false, \"tf_adjustment_column\": null, \"tf_adjustment_weight\": 1.0, \"is_null_level\": false, \"bayes_factor\": 30.068385872062947, \"log2_bayes_factor\": 4.910175518274057, \"comparison_vector_value\": 2, \"max_comparison_vector_value\": 2, \"bayes_factor_description\": \"If comparison level is `exact match` then comparison is 30.07 times more likely to be a match\", \"probability_two_random_records_match\": 0.007006045984371714, \"comparison_sort_order\": 2, \"iteration\": 5}, {\"comparison_name\": \"day_of_birth\", \"sql_condition\": \"abs(day_of_birth_l - day_of_birth_r) <= 5\", \"label_for_charts\": \"Inexact match\", \"m_probability\": 0.01554082304167103, \"u_probability\": 0.2953114089616295, \"m_probability_description\": \"Amongst matching record comparisons, 1.55% of records are in the inexact match comparison level\", \"u_probability_description\": \"Amongst non-matching record comparisons, 29.53% of records are in the inexact match comparison level\", \"has_tf_adjustments\": false, \"tf_adjustment_column\": null, \"tf_adjustment_weight\": 1.0, \"is_null_level\": false, \"bayes_factor\": 0.052625203666581966, \"log2_bayes_factor\": -4.248102278161976, \"comparison_vector_value\": 1, \"max_comparison_vector_value\": 2, \"bayes_factor_description\": \"If comparison level is `inexact match` then comparison is  19.00 times less likely to be a match\", \"probability_two_random_records_match\": 0.007006045984371714, \"comparison_sort_order\": 2, \"iteration\": 5}, {\"comparison_name\": \"day_of_birth\", \"sql_condition\": \"ELSE\", \"label_for_charts\": \"All other comparisons\", \"m_probability\": 0.007739764496808504, \"u_probability\": 0.6722053238414769, \"m_probability_description\": \"Amongst matching record comparisons, 0.77% of records are in the all other comparisons comparison level\", \"u_probability_description\": \"Amongst non-matching record comparisons, 67.22% of records are in the all other comparisons comparison level\", \"has_tf_adjustments\": false, \"tf_adjustment_column\": null, \"tf_adjustment_weight\": 1.0, \"is_null_level\": false, \"bayes_factor\": 0.011513988691100782, \"log2_bayes_factor\": -6.4404684894044095, \"comparison_vector_value\": 0, \"max_comparison_vector_value\": 2, \"bayes_factor_description\": \"If comparison level is `all other comparisons` then comparison is  86.85 times less likely to be a match\", \"probability_two_random_records_match\": 0.007006045984371714, \"comparison_sort_order\": 2, \"iteration\": 5}, {\"comparison_name\": \"month_of_birth\", \"sql_condition\": \"\\\"month_of_birth_l\\\" = \\\"month_of_birth_r\\\"\", \"label_for_charts\": \"Exact match\", \"m_probability\": 0.983631229520466, \"u_probability\": 0.0832547076088129, \"m_probability_description\": \"Amongst matching record comparisons, 98.36% of records are in the exact match comparison level\", \"u_probability_description\": \"Amongst non-matching record comparisons, 8.33% of records are in the exact match comparison level\", \"has_tf_adjustments\": false, \"tf_adjustment_column\": null, \"tf_adjustment_weight\": 1.0, \"is_null_level\": false, \"bayes_factor\": 11.814722047217233, \"log2_bayes_factor\": 3.5625137837997793, \"comparison_vector_value\": 2, \"max_comparison_vector_value\": 2, \"bayes_factor_description\": \"If comparison level is `exact match` then comparison is 11.81 times more likely to be a match\", \"probability_two_random_records_match\": 0.007006045984371714, \"comparison_sort_order\": 3, \"iteration\": 5}, {\"comparison_name\": \"month_of_birth\", \"sql_condition\": \"abs(month_of_birth_l - month_of_birth_r) <= 3\", \"label_for_charts\": \"Inexact match\", \"m_probability\": 0.008365372249591553, \"u_probability\": 0.41938802504669287, \"m_probability_description\": \"Amongst matching record comparisons, 0.84% of records are in the inexact match comparison level\", \"u_probability_description\": \"Amongst non-matching record comparisons, 41.94% of records are in the inexact match comparison level\", \"has_tf_adjustments\": false, \"tf_adjustment_column\": null, \"tf_adjustment_weight\": 1.0, \"is_null_level\": false, \"bayes_factor\": 0.01994661685597768, \"log2_bayes_factor\": -5.647712117963699, \"comparison_vector_value\": 1, \"max_comparison_vector_value\": 2, \"bayes_factor_description\": \"If comparison level is `inexact match` then comparison is  50.13 times less likely to be a match\", \"probability_two_random_records_match\": 0.007006045984371714, \"comparison_sort_order\": 3, \"iteration\": 5}, {\"comparison_name\": \"month_of_birth\", \"sql_condition\": \"ELSE\", \"label_for_charts\": \"All other comparisons\", \"m_probability\": 0.008003398229942345, \"u_probability\": 0.4973572673444942, \"m_probability_description\": \"Amongst matching record comparisons, 0.80% of records are in the all other comparisons comparison level\", \"u_probability_description\": \"Amongst non-matching record comparisons, 49.74% of records are in the all other comparisons comparison level\", \"has_tf_adjustments\": false, \"tf_adjustment_column\": null, \"tf_adjustment_weight\": 1.0, \"is_null_level\": false, \"bayes_factor\": 0.016091849371527925, \"log2_bayes_factor\": -5.957526051046465, \"comparison_vector_value\": 0, \"max_comparison_vector_value\": 2, \"bayes_factor_description\": \"If comparison level is `all other comparisons` then comparison is  62.14 times less likely to be a match\", \"probability_two_random_records_match\": 0.007006045984371714, \"comparison_sort_order\": 3, \"iteration\": 5}, {\"comparison_name\": \"year_of_birth\", \"sql_condition\": \"\\\"year_of_birth_l\\\" = \\\"year_of_birth_r\\\"\", \"label_for_charts\": \"Exact match\", \"m_probability\": 0.9719074541159008, \"u_probability\": 0.01093448234753138, \"m_probability_description\": \"Amongst matching record comparisons, 97.19% of records are in the exact match comparison level\", \"u_probability_description\": \"Amongst non-matching record comparisons, 1.09% of records are in the exact match comparison level\", \"has_tf_adjustments\": false, \"tf_adjustment_column\": null, \"tf_adjustment_weight\": 1.0, \"is_null_level\": false, \"bayes_factor\": 88.88463333020272, \"log2_bayes_factor\": 6.473862117603124, \"comparison_vector_value\": 2, \"max_comparison_vector_value\": 2, \"bayes_factor_description\": \"If comparison level is `exact match` then comparison is 88.88 times more likely to be a match\", \"probability_two_random_records_match\": 0.007006045984371714, \"comparison_sort_order\": 4, \"iteration\": 5}, {\"comparison_name\": \"year_of_birth\", \"sql_condition\": \"abs(year_of_birth_l - year_of_birth_r) <= 5\", \"label_for_charts\": \"Inexact match\", \"m_probability\": 0.00954095349845103, \"u_probability\": 0.10883934805933546, \"m_probability_description\": \"Amongst matching record comparisons, 0.95% of records are in the inexact match comparison level\", \"u_probability_description\": \"Amongst non-matching record comparisons, 10.88% of records are in the inexact match comparison level\", \"has_tf_adjustments\": false, \"tf_adjustment_column\": null, \"tf_adjustment_weight\": 1.0, \"is_null_level\": false, \"bayes_factor\": 0.08766088430858325, \"log2_bayes_factor\": -3.511922957168458, \"comparison_vector_value\": 1, \"max_comparison_vector_value\": 2, \"bayes_factor_description\": \"If comparison level is `inexact match` then comparison is  11.41 times less likely to be a match\", \"probability_two_random_records_match\": 0.007006045984371714, \"comparison_sort_order\": 4, \"iteration\": 5}, {\"comparison_name\": \"year_of_birth\", \"sql_condition\": \"ELSE\", \"label_for_charts\": \"All other comparisons\", \"m_probability\": 0.018551592385648165, \"u_probability\": 0.8802261695931332, \"m_probability_description\": \"Amongst matching record comparisons, 1.86% of records are in the all other comparisons comparison level\", \"u_probability_description\": \"Amongst non-matching record comparisons, 88.02% of records are in the all other comparisons comparison level\", \"has_tf_adjustments\": false, \"tf_adjustment_column\": null, \"tf_adjustment_weight\": 1.0, \"is_null_level\": false, \"bayes_factor\": 0.021075938237809115, \"log2_bayes_factor\": -5.5682593327044, \"comparison_vector_value\": 0, \"max_comparison_vector_value\": 2, \"bayes_factor_description\": \"If comparison level is `all other comparisons` then comparison is  47.45 times less likely to be a match\", \"probability_two_random_records_match\": 0.007006045984371714, \"comparison_sort_order\": 4, \"iteration\": 5}, {\"comparison_name\": \"geokey\", \"sql_condition\": \"\\\"geokey_l\\\" = \\\"geokey_r\\\"\", \"label_for_charts\": \"Exact match\", \"m_probability\": 0.5835477831722017, \"u_probability\": 0.0021770137377073793, \"m_probability_description\": \"Amongst matching record comparisons, 58.35% of records are in the exact match comparison level\", \"u_probability_description\": \"Amongst non-matching record comparisons, 0.22% of records are in the exact match comparison level\", \"has_tf_adjustments\": false, \"tf_adjustment_column\": null, \"tf_adjustment_weight\": 1.0, \"is_null_level\": false, \"bayes_factor\": 268.04965584954823, \"log2_bayes_factor\": 8.066356472592245, \"comparison_vector_value\": 2, \"max_comparison_vector_value\": 2, \"bayes_factor_description\": \"If comparison level is `exact match` then comparison is 268.05 times more likely to be a match\", \"probability_two_random_records_match\": 0.007006045984371714, \"comparison_sort_order\": 5, \"iteration\": 5}, {\"comparison_name\": \"geokey\", \"sql_condition\": \"jaro_winkler_similarity(\\\"geokey_l\\\", \\\"geokey_r\\\") >= 0.7222222222222222\", \"label_for_charts\": \"Jaro_winkler_similarity >= 0.7222222222222222\", \"m_probability\": 0.41267940243509793, \"u_probability\": 0.2267847759177239, \"m_probability_description\": \"Amongst matching record comparisons, 41.27% of records are in the jaro_winkler_similarity >= 0.7222222222222222 comparison level\", \"u_probability_description\": \"Amongst non-matching record comparisons, 22.68% of records are in the jaro_winkler_similarity >= 0.7222222222222222 comparison level\", \"has_tf_adjustments\": false, \"tf_adjustment_column\": null, \"tf_adjustment_weight\": 1.0, \"is_null_level\": false, \"bayes_factor\": 1.819696232981774, \"log2_bayes_factor\": 0.8636976373759889, \"comparison_vector_value\": 1, \"max_comparison_vector_value\": 2, \"bayes_factor_description\": \"If comparison level is `jaro_winkler_similarity >= 0.7222222222222222` then comparison is 1.82 times more likely to be a match\", \"probability_two_random_records_match\": 0.007006045984371714, \"comparison_sort_order\": 5, \"iteration\": 5}, {\"comparison_name\": \"geokey\", \"sql_condition\": \"ELSE\", \"label_for_charts\": \"All other comparisons\", \"m_probability\": 0.0037728143927002944, \"u_probability\": 0.7710382103445688, \"m_probability_description\": \"Amongst matching record comparisons, 0.38% of records are in the all other comparisons comparison level\", \"u_probability_description\": \"Amongst non-matching record comparisons, 77.10% of records are in the all other comparisons comparison level\", \"has_tf_adjustments\": false, \"tf_adjustment_column\": null, \"tf_adjustment_weight\": 1.0, \"is_null_level\": false, \"bayes_factor\": 0.004893161379141332, \"log2_bayes_factor\": -7.675017420234158, \"comparison_vector_value\": 0, \"max_comparison_vector_value\": 2, \"bayes_factor_description\": \"If comparison level is `all other comparisons` then comparison is  204.37 times less likely to be a match\", \"probability_two_random_records_match\": 0.007006045984371714, \"comparison_sort_order\": 5, \"iteration\": 5}]}}, {\"mode\": \"vega-lite\"});\n",
       "</script>"
      ],
      "text/plain": [
       "alt.VConcatChart(...)"
      ]
     },
     "execution_count": 57,
     "metadata": {},
     "output_type": "execute_result"
    }
   ],
   "source": [
    "em_session_1.match_weights_interactive_history_chart()"
   ]
  },
  {
   "cell_type": "code",
   "execution_count": 58,
   "id": "71478531-8837-48f4-8748-a65c5d8fa7cd",
   "metadata": {
    "execution": {
     "iopub.execute_input": "2024-02-12T19:21:22.885808Z",
     "iopub.status.busy": "2024-02-12T19:21:22.885443Z",
     "iopub.status.idle": "2024-02-12T19:21:23.520894Z",
     "shell.execute_reply": "2024-02-12T19:21:23.520446Z"
    },
    "papermill": {
     "duration": 0.662832,
     "end_time": "2024-02-12T19:21:23.521990",
     "exception": false,
     "start_time": "2024-02-12T19:21:22.859158",
     "status": "completed"
    },
    "tags": []
   },
   "outputs": [
    {
     "name": "stderr",
     "output_type": "stream",
     "text": [
      "\n",
      "----- Starting EM training session -----\n",
      "\n"
     ]
    },
    {
     "name": "stderr",
     "output_type": "stream",
     "text": [
      "Estimating the m probabilities of the model by blocking on:\n",
      "l.geokey = r.geokey\n",
      "\n",
      "Parameter estimates will be made for the following comparison(s):\n",
      "    - first_name_15\n",
      "    - last_name_12\n",
      "    - middle_initial\n",
      "    - day_of_birth\n",
      "    - month_of_birth\n",
      "    - year_of_birth\n",
      "\n",
      "Parameter estimates cannot be made for the following comparison(s) since they are used in the blocking rules: \n",
      "    - geokey\n"
     ]
    },
    {
     "name": "stderr",
     "output_type": "stream",
     "text": [
      "\n"
     ]
    },
    {
     "name": "stderr",
     "output_type": "stream",
     "text": [
      "Iteration 1: Largest change in params was -0.102 in the m_probability of first_name_15, level `Exact match`\n"
     ]
    },
    {
     "name": "stderr",
     "output_type": "stream",
     "text": [
      "Iteration 2: Largest change in params was 0.00826 in the m_probability of first_name_15, level `All other comparisons`\n"
     ]
    },
    {
     "name": "stderr",
     "output_type": "stream",
     "text": [
      "Iteration 3: Largest change in params was 0.00127 in the m_probability of first_name_15, level `All other comparisons`\n"
     ]
    },
    {
     "name": "stderr",
     "output_type": "stream",
     "text": [
      "Iteration 4: Largest change in params was -0.000537 in the m_probability of year_of_birth, level `All other comparisons`\n"
     ]
    },
    {
     "name": "stderr",
     "output_type": "stream",
     "text": [
      "Iteration 5: Largest change in params was 0.000378 in the m_probability of day_of_birth, level `Exact match`\n"
     ]
    },
    {
     "name": "stderr",
     "output_type": "stream",
     "text": [
      "Iteration 6: Largest change in params was 0.000257 in the m_probability of day_of_birth, level `Exact match`\n"
     ]
    },
    {
     "name": "stderr",
     "output_type": "stream",
     "text": [
      "Iteration 7: Largest change in params was 0.000171 in the m_probability of day_of_birth, level `Exact match`\n"
     ]
    },
    {
     "name": "stderr",
     "output_type": "stream",
     "text": [
      "Iteration 8: Largest change in params was 0.000113 in the m_probability of day_of_birth, level `Exact match`\n"
     ]
    },
    {
     "name": "stderr",
     "output_type": "stream",
     "text": [
      "Iteration 9: Largest change in params was 7.41e-05 in the m_probability of day_of_birth, level `Exact match`\n"
     ]
    },
    {
     "name": "stderr",
     "output_type": "stream",
     "text": [
      "\n",
      "EM converged after 9 iterations\n"
     ]
    },
    {
     "name": "stderr",
     "output_type": "stream",
     "text": [
      "\n",
      "Your model is fully trained. All comparisons have at least one estimate for their m and u values\n"
     ]
    }
   ],
   "source": [
    "blocking_rule_for_training = \"l.geokey = r.geokey\"\n",
    "em_session_2 = linker.estimate_parameters_using_expectation_maximisation(\n",
    "    blocking_rule_for_training,\n",
    "    # Fix lambda; u is fixed by default\n",
    "    fix_probability_two_random_records_match=True,\n",
    ")"
   ]
  },
  {
   "cell_type": "code",
   "execution_count": 59,
   "id": "750d48f3-7f15-40de-aa1a-78d4ed42371f",
   "metadata": {
    "execution": {
     "iopub.execute_input": "2024-02-12T19:21:23.575806Z",
     "iopub.status.busy": "2024-02-12T19:21:23.575473Z",
     "iopub.status.idle": "2024-02-12T19:21:25.569720Z",
     "shell.execute_reply": "2024-02-12T19:21:25.568232Z"
    },
    "papermill": {
     "duration": 2.020971,
     "end_time": "2024-02-12T19:21:25.570843",
     "exception": false,
     "start_time": "2024-02-12T19:21:23.549872",
     "status": "completed"
    },
    "tags": []
   },
   "outputs": [
    {
     "data": {
      "text/html": [
       "\n",
       "<style>\n",
       "  #altair-viz-92df34f670784fbdbba78f70472c619c.vega-embed {\n",
       "    width: 100%;\n",
       "    display: flex;\n",
       "  }\n",
       "\n",
       "  #altair-viz-92df34f670784fbdbba78f70472c619c.vega-embed details,\n",
       "  #altair-viz-92df34f670784fbdbba78f70472c619c.vega-embed details summary {\n",
       "    position: relative;\n",
       "  }\n",
       "</style>\n",
       "<div id=\"altair-viz-92df34f670784fbdbba78f70472c619c\"></div>\n",
       "<script type=\"text/javascript\">\n",
       "  var VEGA_DEBUG = (typeof VEGA_DEBUG == \"undefined\") ? {} : VEGA_DEBUG;\n",
       "  (function(spec, embedOpt){\n",
       "    let outputDiv = document.currentScript.previousElementSibling;\n",
       "    if (outputDiv.id !== \"altair-viz-92df34f670784fbdbba78f70472c619c\") {\n",
       "      outputDiv = document.getElementById(\"altair-viz-92df34f670784fbdbba78f70472c619c\");\n",
       "    }\n",
       "    const paths = {\n",
       "      \"vega\": \"https://cdn.jsdelivr.net/npm/vega@5?noext\",\n",
       "      \"vega-lib\": \"https://cdn.jsdelivr.net/npm/vega-lib?noext\",\n",
       "      \"vega-lite\": \"https://cdn.jsdelivr.net/npm/vega-lite@5.15.1?noext\",\n",
       "      \"vega-embed\": \"https://cdn.jsdelivr.net/npm/vega-embed@6?noext\",\n",
       "    };\n",
       "\n",
       "    function maybeLoadScript(lib, version) {\n",
       "      var key = `${lib.replace(\"-\", \"\")}_version`;\n",
       "      return (VEGA_DEBUG[key] == version) ?\n",
       "        Promise.resolve(paths[lib]) :\n",
       "        new Promise(function(resolve, reject) {\n",
       "          var s = document.createElement('script');\n",
       "          document.getElementsByTagName(\"head\")[0].appendChild(s);\n",
       "          s.async = true;\n",
       "          s.onload = () => {\n",
       "            VEGA_DEBUG[key] = version;\n",
       "            return resolve(paths[lib]);\n",
       "          };\n",
       "          s.onerror = () => reject(`Error loading script: ${paths[lib]}`);\n",
       "          s.src = paths[lib];\n",
       "        });\n",
       "    }\n",
       "\n",
       "    function showError(err) {\n",
       "      outputDiv.innerHTML = `<div class=\"error\" style=\"color:red;\">${err}</div>`;\n",
       "      throw err;\n",
       "    }\n",
       "\n",
       "    function displayChart(vegaEmbed) {\n",
       "      vegaEmbed(outputDiv, spec, embedOpt)\n",
       "        .catch(err => showError(`Javascript Error: ${err.message}<br>This usually means there's a typo in your chart specification. See the javascript console for the full traceback.`));\n",
       "    }\n",
       "\n",
       "    if(typeof define === \"function\" && define.amd) {\n",
       "      requirejs.config({paths});\n",
       "      require([\"vega-embed\"], displayChart, err => showError(`Error loading script: ${err.message}`));\n",
       "    } else {\n",
       "      maybeLoadScript(\"vega\", \"5\")\n",
       "        .then(() => maybeLoadScript(\"vega-lite\", \"5.15.1\"))\n",
       "        .then(() => maybeLoadScript(\"vega-embed\", \"6\"))\n",
       "        .catch(showError)\n",
       "        .then(() => displayChart(vegaEmbed));\n",
       "    }\n",
       "  })({\"config\": {\"view\": {\"continuousWidth\": 300, \"continuousHeight\": 300, \"discreteHeight\": 300, \"discreteWidth\": 400}, \"header\": {\"title\": null}, \"title\": {\"anchor\": \"middle\", \"offset\": 10}}, \"hconcat\": [{\"mark\": \"bar\", \"encoding\": {\"color\": {\"value\": \"green\"}, \"row\": {\"field\": \"comparison_name\", \"header\": {\"labelAlign\": \"left\", \"labelAnchor\": \"middle\", \"labelAngle\": 0}, \"sort\": {\"field\": \"comparison_sort_order\"}, \"type\": \"nominal\"}, \"tooltip\": [{\"field\": \"m_probability_description\", \"title\": \"m probability description\", \"type\": \"nominal\"}, {\"field\": \"comparison_name\", \"title\": \"Comparison column name\", \"type\": \"nominal\"}, {\"field\": \"label_for_charts\", \"title\": \"Label\", \"type\": \"ordinal\"}, {\"field\": \"sql_condition\", \"title\": \"SQL condition\", \"type\": \"nominal\"}, {\"field\": \"m_probability\", \"format\": \".4p\", \"title\": \"m probability\", \"type\": \"quantitative\"}, {\"field\": \"u_probability\", \"format\": \".4p\", \"title\": \"u probability\", \"type\": \"quantitative\"}, {\"field\": \"bayes_factor\", \"format\": \",.4f\", \"title\": \"Bayes factor = m/u\", \"type\": \"quantitative\"}, {\"field\": \"log2_bayes_factor\", \"format\": \",.4f\", \"title\": \"Match weight = log2(m/u)\", \"type\": \"quantitative\"}], \"x\": {\"axis\": {\"title\": \"Proportion of record comparisons\"}, \"field\": \"m_probability\", \"type\": \"quantitative\"}, \"y\": {\"axis\": {\"title\": null}, \"field\": \"label_for_charts\", \"sort\": {\"field\": \"comparison_vector_value\", \"order\": \"descending\"}, \"type\": \"nominal\"}}, \"height\": {\"step\": 12}, \"resolve\": {\"scale\": {\"y\": \"independent\"}}, \"title\": {\"text\": \"Amongst matching record comparisons:\", \"fontSize\": 12, \"fontWeight\": \"bold\"}, \"transform\": [{\"filter\": \"(datum.bayes_factor != 'no-op filter due to vega lite issue 4680')\"}], \"width\": 150}, {\"mark\": \"bar\", \"encoding\": {\"color\": {\"value\": \"red\"}, \"row\": {\"field\": \"comparison_name\", \"header\": {\"labels\": false}, \"sort\": {\"field\": \"comparison_sort_order\"}, \"type\": \"nominal\"}, \"tooltip\": [{\"field\": \"u_probability_description\", \"title\": \"u probability description\", \"type\": \"nominal\"}, {\"field\": \"comparison_name\", \"title\": \"Comparison column name\", \"type\": \"nominal\"}, {\"field\": \"label_for_charts\", \"title\": \"Label\", \"type\": \"ordinal\"}, {\"field\": \"sql_condition\", \"title\": \"SQL condition\", \"type\": \"nominal\"}, {\"field\": \"m_probability\", \"format\": \".4p\", \"title\": \"m probability\", \"type\": \"quantitative\"}, {\"field\": \"u_probability\", \"format\": \".4p\", \"title\": \"u probability\", \"type\": \"quantitative\"}, {\"field\": \"bayes_factor\", \"format\": \",.4f\", \"title\": \"Bayes factor = m/u\", \"type\": \"quantitative\"}, {\"field\": \"log2_bayes_factor\", \"format\": \",.4f\", \"title\": \"Match weight = log2(m/u)\", \"type\": \"quantitative\"}], \"x\": {\"axis\": {\"title\": \"Proportion of record comparisons\"}, \"field\": \"u_probability\", \"type\": \"quantitative\"}, \"y\": {\"axis\": {\"title\": null}, \"field\": \"label_for_charts\", \"sort\": {\"field\": \"comparison_vector_value\", \"order\": \"descending\"}, \"type\": \"nominal\"}}, \"height\": {\"step\": 12}, \"resolve\": {\"scale\": {\"y\": \"independent\"}}, \"title\": {\"text\": \"Amongst non-matching record comparisons:\", \"fontSize\": 12, \"fontWeight\": \"bold\"}, \"transform\": [{\"filter\": \"(datum.bayes_factor != 'no-op filter2 due to vega lite issue 4680')\"}], \"width\": 150}], \"data\": {\"name\": \"data-72a9cc8ebce78b50b4b8cf220d8de2ce\"}, \"params\": [{\"name\": \"iteration_number\", \"bind\": {\"input\": \"range\", \"max\": 9, \"min\": 0, \"step\": 1}, \"value\": 9}], \"title\": {\"text\": \"Proportion of record comparisons in each comparison level by match status\", \"subtitle\": \"(m and u probabilities)\"}, \"transform\": [{\"filter\": \"(datum.iteration == iteration_number)\"}], \"$schema\": \"https://vega.github.io/schema/vega-lite/v5.9.3.json\", \"datasets\": {\"data-72a9cc8ebce78b50b4b8cf220d8de2ce\": [{\"comparison_name\": \"first_name_15\", \"sql_condition\": \"\\\"first_name_15_l\\\" = \\\"first_name_15_r\\\"\", \"label_for_charts\": \"Exact match\", \"m_probability\": 0.95, \"u_probability\": 0.0019154243869072766, \"m_probability_description\": \"Amongst matching record comparisons, 95.00% of records are in the exact match comparison level\", \"u_probability_description\": \"Amongst non-matching record comparisons, 0.19% of records are in the exact match comparison level\", \"has_tf_adjustments\": false, \"tf_adjustment_column\": null, \"tf_adjustment_weight\": 1.0, \"is_null_level\": false, \"bayes_factor\": 495.97363722298076, \"log2_bayes_factor\": 8.95411962801095, \"comparison_vector_value\": 2, \"max_comparison_vector_value\": 2, \"bayes_factor_description\": \"If comparison level is `exact match` then comparison is 495.97 times more likely to be a match\", \"probability_two_random_records_match\": 0.0037986577200161205, \"comparison_sort_order\": 0, \"iteration\": 0}, {\"comparison_name\": \"first_name_15\", \"sql_condition\": \"jaro_winkler_similarity(\\\"first_name_15_l\\\", \\\"first_name_15_r\\\") >= 0.8333333333333334\", \"label_for_charts\": \"Jaro_winkler_similarity >= 0.8333333333333334\", \"m_probability\": 0.025000000000000022, \"u_probability\": 0.003534009294465568, \"m_probability_description\": \"Amongst matching record comparisons, 2.50% of records are in the jaro_winkler_similarity >= 0.8333333333333334 comparison level\", \"u_probability_description\": \"Amongst non-matching record comparisons, 0.35% of records are in the jaro_winkler_similarity >= 0.8333333333333334 comparison level\", \"has_tf_adjustments\": false, \"tf_adjustment_column\": null, \"tf_adjustment_weight\": 1.0, \"is_null_level\": false, \"bayes_factor\": 7.074118350268985, \"log2_bayes_factor\": 2.8225503555836258, \"comparison_vector_value\": 1, \"max_comparison_vector_value\": 2, \"bayes_factor_description\": \"If comparison level is `jaro_winkler_similarity >= 0.8333333333333334` then comparison is 7.07 times more likely to be a match\", \"probability_two_random_records_match\": 0.0037986577200161205, \"comparison_sort_order\": 0, \"iteration\": 0}, {\"comparison_name\": \"first_name_15\", \"sql_condition\": \"ELSE\", \"label_for_charts\": \"All other comparisons\", \"m_probability\": 0.025000000000000022, \"u_probability\": 0.9945505663186271, \"m_probability_description\": \"Amongst matching record comparisons, 2.50% of records are in the all other comparisons comparison level\", \"u_probability_description\": \"Amongst non-matching record comparisons, 99.46% of records are in the all other comparisons comparison level\", \"has_tf_adjustments\": false, \"tf_adjustment_column\": null, \"tf_adjustment_weight\": 1.0, \"is_null_level\": false, \"bayes_factor\": 0.025136982318092308, \"log2_bayes_factor\": -5.314044724425061, \"comparison_vector_value\": 0, \"max_comparison_vector_value\": 2, \"bayes_factor_description\": \"If comparison level is `all other comparisons` then comparison is  39.78 times less likely to be a match\", \"probability_two_random_records_match\": 0.0037986577200161205, \"comparison_sort_order\": 0, \"iteration\": 0}, {\"comparison_name\": \"last_name_12\", \"sql_condition\": \"\\\"last_name_12_l\\\" = \\\"last_name_12_r\\\"\", \"label_for_charts\": \"Exact match\", \"m_probability\": 0.8819331741788478, \"u_probability\": 0.0006988639102327646, \"m_probability_description\": \"Amongst matching record comparisons, 88.19% of records are in the exact match comparison level\", \"u_probability_description\": \"Amongst non-matching record comparisons, 0.07% of records are in the exact match comparison level\", \"has_tf_adjustments\": false, \"tf_adjustment_column\": null, \"tf_adjustment_weight\": 1.0, \"is_null_level\": false, \"bayes_factor\": 1261.9526652694226, \"log2_bayes_factor\": 10.301442081779863, \"comparison_vector_value\": 2, \"max_comparison_vector_value\": 2, \"bayes_factor_description\": \"If comparison level is `exact match` then comparison is 1,261.95 times more likely to be a match\", \"probability_two_random_records_match\": 0.0037986577200161205, \"comparison_sort_order\": 1, \"iteration\": 0}, {\"comparison_name\": \"last_name_12\", \"sql_condition\": \"jaro_winkler_similarity(\\\"last_name_12_l\\\", \\\"last_name_12_r\\\") >= 0.8333333333333334\", \"label_for_charts\": \"Jaro_winkler_similarity >= 0.8333333333333334\", \"m_probability\": 0.0903580975548666, \"u_probability\": 0.0013365997755498443, \"m_probability_description\": \"Amongst matching record comparisons, 9.04% of records are in the jaro_winkler_similarity >= 0.8333333333333334 comparison level\", \"u_probability_description\": \"Amongst non-matching record comparisons, 0.13% of records are in the jaro_winkler_similarity >= 0.8333333333333334 comparison level\", \"has_tf_adjustments\": false, \"tf_adjustment_column\": null, \"tf_adjustment_weight\": 1.0, \"is_null_level\": false, \"bayes_factor\": 67.6029573008835, \"log2_bayes_factor\": 6.07901445367291, \"comparison_vector_value\": 1, \"max_comparison_vector_value\": 2, \"bayes_factor_description\": \"If comparison level is `jaro_winkler_similarity >= 0.8333333333333334` then comparison is 67.60 times more likely to be a match\", \"probability_two_random_records_match\": 0.0037986577200161205, \"comparison_sort_order\": 1, \"iteration\": 0}, {\"comparison_name\": \"last_name_12\", \"sql_condition\": \"ELSE\", \"label_for_charts\": \"All other comparisons\", \"m_probability\": 0.027708728266285614, \"u_probability\": 0.9979645363142174, \"m_probability_description\": \"Amongst matching record comparisons, 2.77% of records are in the all other comparisons comparison level\", \"u_probability_description\": \"Amongst non-matching record comparisons, 99.80% of records are in the all other comparisons comparison level\", \"has_tf_adjustments\": false, \"tf_adjustment_column\": null, \"tf_adjustment_weight\": 1.0, \"is_null_level\": false, \"bayes_factor\": 0.027765243410975568, \"log2_bayes_factor\": -5.1705761460414426, \"comparison_vector_value\": 0, \"max_comparison_vector_value\": 2, \"bayes_factor_description\": \"If comparison level is `all other comparisons` then comparison is  36.02 times less likely to be a match\", \"probability_two_random_records_match\": 0.0037986577200161205, \"comparison_sort_order\": 1, \"iteration\": 0}, {\"comparison_name\": \"middle_initial\", \"sql_condition\": \"\\\"middle_initial_l\\\" = \\\"middle_initial_r\\\"\", \"label_for_charts\": \"Exact match\", \"m_probability\": 0.9441223311390134, \"u_probability\": 0.07417855709636824, \"m_probability_description\": \"Amongst matching record comparisons, 94.41% of records are in the exact match comparison level\", \"u_probability_description\": \"Amongst non-matching record comparisons, 7.42% of records are in the exact match comparison level\", \"has_tf_adjustments\": false, \"tf_adjustment_column\": null, \"tf_adjustment_weight\": 1.0, \"is_null_level\": false, \"bayes_factor\": 12.72769878648984, \"log2_bayes_factor\": 3.669899693275855, \"comparison_vector_value\": 1, \"max_comparison_vector_value\": 1, \"bayes_factor_description\": \"If comparison level is `exact match` then comparison is 12.73 times more likely to be a match\", \"probability_two_random_records_match\": 0.0037986577200161205, \"comparison_sort_order\": 2, \"iteration\": 0}, {\"comparison_name\": \"middle_initial\", \"sql_condition\": \"ELSE\", \"label_for_charts\": \"All other comparisons\", \"m_probability\": 0.05587766886098656, \"u_probability\": 0.9258214429036318, \"m_probability_description\": \"Amongst matching record comparisons, 5.59% of records are in the all other comparisons comparison level\", \"u_probability_description\": \"Amongst non-matching record comparisons, 92.58% of records are in the all other comparisons comparison level\", \"has_tf_adjustments\": false, \"tf_adjustment_column\": null, \"tf_adjustment_weight\": 1.0, \"is_null_level\": false, \"bayes_factor\": 0.06035469289384652, \"log2_bayes_factor\": -4.050390237328722, \"comparison_vector_value\": 0, \"max_comparison_vector_value\": 1, \"bayes_factor_description\": \"If comparison level is `all other comparisons` then comparison is  16.57 times less likely to be a match\", \"probability_two_random_records_match\": 0.0037986577200161205, \"comparison_sort_order\": 2, \"iteration\": 0}, {\"comparison_name\": \"day_of_birth\", \"sql_condition\": \"\\\"day_of_birth_l\\\" = \\\"day_of_birth_r\\\"\", \"label_for_charts\": \"Exact match\", \"m_probability\": 0.9767194124615205, \"u_probability\": 0.032483267196893574, \"m_probability_description\": \"Amongst matching record comparisons, 97.67% of records are in the exact match comparison level\", \"u_probability_description\": \"Amongst non-matching record comparisons, 3.25% of records are in the exact match comparison level\", \"has_tf_adjustments\": false, \"tf_adjustment_column\": null, \"tf_adjustment_weight\": 1.0, \"is_null_level\": false, \"bayes_factor\": 30.068385872062947, \"log2_bayes_factor\": 4.910175518274057, \"comparison_vector_value\": 2, \"max_comparison_vector_value\": 2, \"bayes_factor_description\": \"If comparison level is `exact match` then comparison is 30.07 times more likely to be a match\", \"probability_two_random_records_match\": 0.0037986577200161205, \"comparison_sort_order\": 3, \"iteration\": 0}, {\"comparison_name\": \"day_of_birth\", \"sql_condition\": \"abs(day_of_birth_l - day_of_birth_r) <= 5\", \"label_for_charts\": \"Inexact match\", \"m_probability\": 0.01554082304167103, \"u_probability\": 0.2953114089616295, \"m_probability_description\": \"Amongst matching record comparisons, 1.55% of records are in the inexact match comparison level\", \"u_probability_description\": \"Amongst non-matching record comparisons, 29.53% of records are in the inexact match comparison level\", \"has_tf_adjustments\": false, \"tf_adjustment_column\": null, \"tf_adjustment_weight\": 1.0, \"is_null_level\": false, \"bayes_factor\": 0.052625203666581966, \"log2_bayes_factor\": -4.248102278161976, \"comparison_vector_value\": 1, \"max_comparison_vector_value\": 2, \"bayes_factor_description\": \"If comparison level is `inexact match` then comparison is  19.00 times less likely to be a match\", \"probability_two_random_records_match\": 0.0037986577200161205, \"comparison_sort_order\": 3, \"iteration\": 0}, {\"comparison_name\": \"day_of_birth\", \"sql_condition\": \"ELSE\", \"label_for_charts\": \"All other comparisons\", \"m_probability\": 0.007739764496808504, \"u_probability\": 0.6722053238414769, \"m_probability_description\": \"Amongst matching record comparisons, 0.77% of records are in the all other comparisons comparison level\", \"u_probability_description\": \"Amongst non-matching record comparisons, 67.22% of records are in the all other comparisons comparison level\", \"has_tf_adjustments\": false, \"tf_adjustment_column\": null, \"tf_adjustment_weight\": 1.0, \"is_null_level\": false, \"bayes_factor\": 0.011513988691100782, \"log2_bayes_factor\": -6.4404684894044095, \"comparison_vector_value\": 0, \"max_comparison_vector_value\": 2, \"bayes_factor_description\": \"If comparison level is `all other comparisons` then comparison is  86.85 times less likely to be a match\", \"probability_two_random_records_match\": 0.0037986577200161205, \"comparison_sort_order\": 3, \"iteration\": 0}, {\"comparison_name\": \"month_of_birth\", \"sql_condition\": \"\\\"month_of_birth_l\\\" = \\\"month_of_birth_r\\\"\", \"label_for_charts\": \"Exact match\", \"m_probability\": 0.983631229520466, \"u_probability\": 0.0832547076088129, \"m_probability_description\": \"Amongst matching record comparisons, 98.36% of records are in the exact match comparison level\", \"u_probability_description\": \"Amongst non-matching record comparisons, 8.33% of records are in the exact match comparison level\", \"has_tf_adjustments\": false, \"tf_adjustment_column\": null, \"tf_adjustment_weight\": 1.0, \"is_null_level\": false, \"bayes_factor\": 11.814722047217233, \"log2_bayes_factor\": 3.5625137837997793, \"comparison_vector_value\": 2, \"max_comparison_vector_value\": 2, \"bayes_factor_description\": \"If comparison level is `exact match` then comparison is 11.81 times more likely to be a match\", \"probability_two_random_records_match\": 0.0037986577200161205, \"comparison_sort_order\": 4, \"iteration\": 0}, {\"comparison_name\": \"month_of_birth\", \"sql_condition\": \"abs(month_of_birth_l - month_of_birth_r) <= 3\", \"label_for_charts\": \"Inexact match\", \"m_probability\": 0.008365372249591553, \"u_probability\": 0.41938802504669287, \"m_probability_description\": \"Amongst matching record comparisons, 0.84% of records are in the inexact match comparison level\", \"u_probability_description\": \"Amongst non-matching record comparisons, 41.94% of records are in the inexact match comparison level\", \"has_tf_adjustments\": false, \"tf_adjustment_column\": null, \"tf_adjustment_weight\": 1.0, \"is_null_level\": false, \"bayes_factor\": 0.01994661685597768, \"log2_bayes_factor\": -5.647712117963699, \"comparison_vector_value\": 1, \"max_comparison_vector_value\": 2, \"bayes_factor_description\": \"If comparison level is `inexact match` then comparison is  50.13 times less likely to be a match\", \"probability_two_random_records_match\": 0.0037986577200161205, \"comparison_sort_order\": 4, \"iteration\": 0}, {\"comparison_name\": \"month_of_birth\", \"sql_condition\": \"ELSE\", \"label_for_charts\": \"All other comparisons\", \"m_probability\": 0.008003398229942345, \"u_probability\": 0.4973572673444942, \"m_probability_description\": \"Amongst matching record comparisons, 0.80% of records are in the all other comparisons comparison level\", \"u_probability_description\": \"Amongst non-matching record comparisons, 49.74% of records are in the all other comparisons comparison level\", \"has_tf_adjustments\": false, \"tf_adjustment_column\": null, \"tf_adjustment_weight\": 1.0, \"is_null_level\": false, \"bayes_factor\": 0.016091849371527925, \"log2_bayes_factor\": -5.957526051046465, \"comparison_vector_value\": 0, \"max_comparison_vector_value\": 2, \"bayes_factor_description\": \"If comparison level is `all other comparisons` then comparison is  62.14 times less likely to be a match\", \"probability_two_random_records_match\": 0.0037986577200161205, \"comparison_sort_order\": 4, \"iteration\": 0}, {\"comparison_name\": \"year_of_birth\", \"sql_condition\": \"\\\"year_of_birth_l\\\" = \\\"year_of_birth_r\\\"\", \"label_for_charts\": \"Exact match\", \"m_probability\": 0.9719074541159008, \"u_probability\": 0.01093448234753138, \"m_probability_description\": \"Amongst matching record comparisons, 97.19% of records are in the exact match comparison level\", \"u_probability_description\": \"Amongst non-matching record comparisons, 1.09% of records are in the exact match comparison level\", \"has_tf_adjustments\": false, \"tf_adjustment_column\": null, \"tf_adjustment_weight\": 1.0, \"is_null_level\": false, \"bayes_factor\": 88.88463333020272, \"log2_bayes_factor\": 6.473862117603124, \"comparison_vector_value\": 2, \"max_comparison_vector_value\": 2, \"bayes_factor_description\": \"If comparison level is `exact match` then comparison is 88.88 times more likely to be a match\", \"probability_two_random_records_match\": 0.0037986577200161205, \"comparison_sort_order\": 5, \"iteration\": 0}, {\"comparison_name\": \"year_of_birth\", \"sql_condition\": \"abs(year_of_birth_l - year_of_birth_r) <= 5\", \"label_for_charts\": \"Inexact match\", \"m_probability\": 0.00954095349845103, \"u_probability\": 0.10883934805933546, \"m_probability_description\": \"Amongst matching record comparisons, 0.95% of records are in the inexact match comparison level\", \"u_probability_description\": \"Amongst non-matching record comparisons, 10.88% of records are in the inexact match comparison level\", \"has_tf_adjustments\": false, \"tf_adjustment_column\": null, \"tf_adjustment_weight\": 1.0, \"is_null_level\": false, \"bayes_factor\": 0.08766088430858325, \"log2_bayes_factor\": -3.511922957168458, \"comparison_vector_value\": 1, \"max_comparison_vector_value\": 2, \"bayes_factor_description\": \"If comparison level is `inexact match` then comparison is  11.41 times less likely to be a match\", \"probability_two_random_records_match\": 0.0037986577200161205, \"comparison_sort_order\": 5, \"iteration\": 0}, {\"comparison_name\": \"year_of_birth\", \"sql_condition\": \"ELSE\", \"label_for_charts\": \"All other comparisons\", \"m_probability\": 0.018551592385648165, \"u_probability\": 0.8802261695931332, \"m_probability_description\": \"Amongst matching record comparisons, 1.86% of records are in the all other comparisons comparison level\", \"u_probability_description\": \"Amongst non-matching record comparisons, 88.02% of records are in the all other comparisons comparison level\", \"has_tf_adjustments\": false, \"tf_adjustment_column\": null, \"tf_adjustment_weight\": 1.0, \"is_null_level\": false, \"bayes_factor\": 0.021075938237809115, \"log2_bayes_factor\": -5.5682593327044, \"comparison_vector_value\": 0, \"max_comparison_vector_value\": 2, \"bayes_factor_description\": \"If comparison level is `all other comparisons` then comparison is  47.45 times less likely to be a match\", \"probability_two_random_records_match\": 0.0037986577200161205, \"comparison_sort_order\": 5, \"iteration\": 0}, {\"comparison_name\": \"first_name_15\", \"sql_condition\": \"\\\"first_name_15_l\\\" = \\\"first_name_15_r\\\"\", \"label_for_charts\": \"Exact match\", \"m_probability\": 0.847536172112826, \"u_probability\": 0.0019154243869072766, \"m_probability_description\": \"Amongst matching record comparisons, 84.75% of records are in the exact match comparison level\", \"u_probability_description\": \"Amongst non-matching record comparisons, 0.19% of records are in the exact match comparison level\", \"has_tf_adjustments\": false, \"tf_adjustment_column\": null, \"tf_adjustment_weight\": 1.0, \"is_null_level\": false, \"bayes_factor\": 442.4795768008848, \"log2_bayes_factor\": 8.789467057110345, \"comparison_vector_value\": 2, \"max_comparison_vector_value\": 2, \"bayes_factor_description\": \"If comparison level is `exact match` then comparison is 442.48 times more likely to be a match\", \"probability_two_random_records_match\": 0.0037986577200161205, \"comparison_sort_order\": 0, \"iteration\": 1}, {\"comparison_name\": \"first_name_15\", \"sql_condition\": \"jaro_winkler_similarity(\\\"first_name_15_l\\\", \\\"first_name_15_r\\\") >= 0.8333333333333334\", \"label_for_charts\": \"Jaro_winkler_similarity >= 0.8333333333333334\", \"m_probability\": 0.08752441801315959, \"u_probability\": 0.003534009294465568, \"m_probability_description\": \"Amongst matching record comparisons, 8.75% of records are in the jaro_winkler_similarity >= 0.8333333333333334 comparison level\", \"u_probability_description\": \"Amongst non-matching record comparisons, 0.35% of records are in the jaro_winkler_similarity >= 0.8333333333333334 comparison level\", \"has_tf_adjustments\": false, \"tf_adjustment_column\": null, \"tf_adjustment_weight\": 1.0, \"is_null_level\": false, \"bayes_factor\": 24.7663236625402, \"log2_bayes_factor\": 4.630307824292972, \"comparison_vector_value\": 1, \"max_comparison_vector_value\": 2, \"bayes_factor_description\": \"If comparison level is `jaro_winkler_similarity >= 0.8333333333333334` then comparison is 24.77 times more likely to be a match\", \"probability_two_random_records_match\": 0.0037986577200161205, \"comparison_sort_order\": 0, \"iteration\": 1}, {\"comparison_name\": \"first_name_15\", \"sql_condition\": \"ELSE\", \"label_for_charts\": \"All other comparisons\", \"m_probability\": 0.06493940987401453, \"u_probability\": 0.9945505663186271, \"m_probability_description\": \"Amongst matching record comparisons, 6.49% of records are in the all other comparisons comparison level\", \"u_probability_description\": \"Amongst non-matching record comparisons, 99.46% of records are in the all other comparisons comparison level\", \"has_tf_adjustments\": false, \"tf_adjustment_column\": null, \"tf_adjustment_weight\": 1.0, \"is_null_level\": false, \"bayes_factor\": 0.06529523191001803, \"log2_bayes_factor\": -3.9368785448778465, \"comparison_vector_value\": 0, \"max_comparison_vector_value\": 2, \"bayes_factor_description\": \"If comparison level is `all other comparisons` then comparison is  15.32 times less likely to be a match\", \"probability_two_random_records_match\": 0.0037986577200161205, \"comparison_sort_order\": 0, \"iteration\": 1}, {\"comparison_name\": \"last_name_12\", \"sql_condition\": \"\\\"last_name_12_l\\\" = \\\"last_name_12_r\\\"\", \"label_for_charts\": \"Exact match\", \"m_probability\": 0.8766084914658258, \"u_probability\": 0.0006988639102327646, \"m_probability_description\": \"Amongst matching record comparisons, 87.66% of records are in the exact match comparison level\", \"u_probability_description\": \"Amongst non-matching record comparisons, 0.07% of records are in the exact match comparison level\", \"has_tf_adjustments\": false, \"tf_adjustment_column\": null, \"tf_adjustment_weight\": 1.0, \"is_null_level\": false, \"bayes_factor\": 1254.3336100641702, \"log2_bayes_factor\": 10.29270539163386, \"comparison_vector_value\": 2, \"max_comparison_vector_value\": 2, \"bayes_factor_description\": \"If comparison level is `exact match` then comparison is 1,254.33 times more likely to be a match\", \"probability_two_random_records_match\": 0.0037986577200161205, \"comparison_sort_order\": 1, \"iteration\": 1}, {\"comparison_name\": \"last_name_12\", \"sql_condition\": \"jaro_winkler_similarity(\\\"last_name_12_l\\\", \\\"last_name_12_r\\\") >= 0.8333333333333334\", \"label_for_charts\": \"Jaro_winkler_similarity >= 0.8333333333333334\", \"m_probability\": 0.10243598086649511, \"u_probability\": 0.0013365997755498443, \"m_probability_description\": \"Amongst matching record comparisons, 10.24% of records are in the jaro_winkler_similarity >= 0.8333333333333334 comparison level\", \"u_probability_description\": \"Amongst non-matching record comparisons, 0.13% of records are in the jaro_winkler_similarity >= 0.8333333333333334 comparison level\", \"has_tf_adjustments\": false, \"tf_adjustment_column\": null, \"tf_adjustment_weight\": 1.0, \"is_null_level\": false, \"bayes_factor\": 76.63923243167945, \"log2_bayes_factor\": 6.260011206945864, \"comparison_vector_value\": 1, \"max_comparison_vector_value\": 2, \"bayes_factor_description\": \"If comparison level is `jaro_winkler_similarity >= 0.8333333333333334` then comparison is 76.64 times more likely to be a match\", \"probability_two_random_records_match\": 0.0037986577200161205, \"comparison_sort_order\": 1, \"iteration\": 1}, {\"comparison_name\": \"last_name_12\", \"sql_condition\": \"ELSE\", \"label_for_charts\": \"All other comparisons\", \"m_probability\": 0.02095552766767904, \"u_probability\": 0.9979645363142174, \"m_probability_description\": \"Amongst matching record comparisons, 2.10% of records are in the all other comparisons comparison level\", \"u_probability_description\": \"Amongst non-matching record comparisons, 99.80% of records are in the all other comparisons comparison level\", \"has_tf_adjustments\": false, \"tf_adjustment_column\": null, \"tf_adjustment_weight\": 1.0, \"is_null_level\": false, \"bayes_factor\": 0.02099826888145153, \"log2_bayes_factor\": -5.573585794220921, \"comparison_vector_value\": 0, \"max_comparison_vector_value\": 2, \"bayes_factor_description\": \"If comparison level is `all other comparisons` then comparison is  47.62 times less likely to be a match\", \"probability_two_random_records_match\": 0.0037986577200161205, \"comparison_sort_order\": 1, \"iteration\": 1}, {\"comparison_name\": \"middle_initial\", \"sql_condition\": \"\\\"middle_initial_l\\\" = \\\"middle_initial_r\\\"\", \"label_for_charts\": \"Exact match\", \"m_probability\": 0.9353956779780547, \"u_probability\": 0.07417855709636824, \"m_probability_description\": \"Amongst matching record comparisons, 93.54% of records are in the exact match comparison level\", \"u_probability_description\": \"Amongst non-matching record comparisons, 7.42% of records are in the exact match comparison level\", \"has_tf_adjustments\": false, \"tf_adjustment_column\": null, \"tf_adjustment_weight\": 1.0, \"is_null_level\": false, \"bayes_factor\": 12.610054907954678, \"log2_bayes_factor\": 3.656502652493341, \"comparison_vector_value\": 1, \"max_comparison_vector_value\": 1, \"bayes_factor_description\": \"If comparison level is `exact match` then comparison is 12.61 times more likely to be a match\", \"probability_two_random_records_match\": 0.0037986577200161205, \"comparison_sort_order\": 2, \"iteration\": 1}, {\"comparison_name\": \"middle_initial\", \"sql_condition\": \"ELSE\", \"label_for_charts\": \"All other comparisons\", \"m_probability\": 0.0646043220219453, \"u_probability\": 0.9258214429036318, \"m_probability_description\": \"Amongst matching record comparisons, 6.46% of records are in the all other comparisons comparison level\", \"u_probability_description\": \"Amongst non-matching record comparisons, 92.58% of records are in the all other comparisons comparison level\", \"has_tf_adjustments\": false, \"tf_adjustment_column\": null, \"tf_adjustment_weight\": 1.0, \"is_null_level\": false, \"bayes_factor\": 0.06978054193617324, \"log2_bayes_factor\": -3.841031387805728, \"comparison_vector_value\": 0, \"max_comparison_vector_value\": 1, \"bayes_factor_description\": \"If comparison level is `all other comparisons` then comparison is  14.33 times less likely to be a match\", \"probability_two_random_records_match\": 0.0037986577200161205, \"comparison_sort_order\": 2, \"iteration\": 1}, {\"comparison_name\": \"day_of_birth\", \"sql_condition\": \"\\\"day_of_birth_l\\\" = \\\"day_of_birth_r\\\"\", \"label_for_charts\": \"Exact match\", \"m_probability\": 0.9730250387218675, \"u_probability\": 0.032483267196893574, \"m_probability_description\": \"Amongst matching record comparisons, 97.30% of records are in the exact match comparison level\", \"u_probability_description\": \"Amongst non-matching record comparisons, 3.25% of records are in the exact match comparison level\", \"has_tf_adjustments\": false, \"tf_adjustment_column\": null, \"tf_adjustment_weight\": 1.0, \"is_null_level\": false, \"bayes_factor\": 29.954654278585604, \"log2_bayes_factor\": 4.904708277632656, \"comparison_vector_value\": 2, \"max_comparison_vector_value\": 2, \"bayes_factor_description\": \"If comparison level is `exact match` then comparison is 29.95 times more likely to be a match\", \"probability_two_random_records_match\": 0.0037986577200161205, \"comparison_sort_order\": 3, \"iteration\": 1}, {\"comparison_name\": \"day_of_birth\", \"sql_condition\": \"abs(day_of_birth_l - day_of_birth_r) <= 5\", \"label_for_charts\": \"Inexact match\", \"m_probability\": 0.018927629150873853, \"u_probability\": 0.2953114089616295, \"m_probability_description\": \"Amongst matching record comparisons, 1.89% of records are in the inexact match comparison level\", \"u_probability_description\": \"Amongst non-matching record comparisons, 29.53% of records are in the inexact match comparison level\", \"has_tf_adjustments\": false, \"tf_adjustment_column\": null, \"tf_adjustment_weight\": 1.0, \"is_null_level\": false, \"bayes_factor\": 0.06409379582531864, \"log2_bayes_factor\": -3.963671476694199, \"comparison_vector_value\": 1, \"max_comparison_vector_value\": 2, \"bayes_factor_description\": \"If comparison level is `inexact match` then comparison is  15.60 times less likely to be a match\", \"probability_two_random_records_match\": 0.0037986577200161205, \"comparison_sort_order\": 3, \"iteration\": 1}, {\"comparison_name\": \"day_of_birth\", \"sql_condition\": \"ELSE\", \"label_for_charts\": \"All other comparisons\", \"m_probability\": 0.008047332127258616, \"u_probability\": 0.6722053238414769, \"m_probability_description\": \"Amongst matching record comparisons, 0.80% of records are in the all other comparisons comparison level\", \"u_probability_description\": \"Amongst non-matching record comparisons, 67.22% of records are in the all other comparisons comparison level\", \"has_tf_adjustments\": false, \"tf_adjustment_column\": null, \"tf_adjustment_weight\": 1.0, \"is_null_level\": false, \"bayes_factor\": 0.011971538816845761, \"log2_bayes_factor\": -6.384247582126196, \"comparison_vector_value\": 0, \"max_comparison_vector_value\": 2, \"bayes_factor_description\": \"If comparison level is `all other comparisons` then comparison is  83.53 times less likely to be a match\", \"probability_two_random_records_match\": 0.0037986577200161205, \"comparison_sort_order\": 3, \"iteration\": 1}, {\"comparison_name\": \"month_of_birth\", \"sql_condition\": \"\\\"month_of_birth_l\\\" = \\\"month_of_birth_r\\\"\", \"label_for_charts\": \"Exact match\", \"m_probability\": 0.986116663331297, \"u_probability\": 0.0832547076088129, \"m_probability_description\": \"Amongst matching record comparisons, 98.61% of records are in the exact match comparison level\", \"u_probability_description\": \"Amongst non-matching record comparisons, 8.33% of records are in the exact match comparison level\", \"has_tf_adjustments\": false, \"tf_adjustment_column\": null, \"tf_adjustment_weight\": 1.0, \"is_null_level\": false, \"bayes_factor\": 11.84457541986385, \"log2_bayes_factor\": 3.5661545796085807, \"comparison_vector_value\": 2, \"max_comparison_vector_value\": 2, \"bayes_factor_description\": \"If comparison level is `exact match` then comparison is 11.84 times more likely to be a match\", \"probability_two_random_records_match\": 0.0037986577200161205, \"comparison_sort_order\": 4, \"iteration\": 1}, {\"comparison_name\": \"month_of_birth\", \"sql_condition\": \"abs(month_of_birth_l - month_of_birth_r) <= 3\", \"label_for_charts\": \"Inexact match\", \"m_probability\": 0.0034590709231978154, \"u_probability\": 0.41938802504669287, \"m_probability_description\": \"Amongst matching record comparisons, 0.35% of records are in the inexact match comparison level\", \"u_probability_description\": \"Amongst non-matching record comparisons, 41.94% of records are in the inexact match comparison level\", \"has_tf_adjustments\": false, \"tf_adjustment_column\": null, \"tf_adjustment_weight\": 1.0, \"is_null_level\": false, \"bayes_factor\": 0.008247901028677911, \"log2_bayes_factor\": -6.921757263582187, \"comparison_vector_value\": 1, \"max_comparison_vector_value\": 2, \"bayes_factor_description\": \"If comparison level is `inexact match` then comparison is  121.24 times less likely to be a match\", \"probability_two_random_records_match\": 0.0037986577200161205, \"comparison_sort_order\": 4, \"iteration\": 1}, {\"comparison_name\": \"month_of_birth\", \"sql_condition\": \"ELSE\", \"label_for_charts\": \"All other comparisons\", \"m_probability\": 0.01042426574550517, \"u_probability\": 0.4973572673444942, \"m_probability_description\": \"Amongst matching record comparisons, 1.04% of records are in the all other comparisons comparison level\", \"u_probability_description\": \"Amongst non-matching record comparisons, 49.74% of records are in the all other comparisons comparison level\", \"has_tf_adjustments\": false, \"tf_adjustment_column\": null, \"tf_adjustment_weight\": 1.0, \"is_null_level\": false, \"bayes_factor\": 0.020959311203318176, \"log2_bayes_factor\": -5.57626488415344, \"comparison_vector_value\": 0, \"max_comparison_vector_value\": 2, \"bayes_factor_description\": \"If comparison level is `all other comparisons` then comparison is  47.71 times less likely to be a match\", \"probability_two_random_records_match\": 0.0037986577200161205, \"comparison_sort_order\": 4, \"iteration\": 1}, {\"comparison_name\": \"year_of_birth\", \"sql_condition\": \"\\\"year_of_birth_l\\\" = \\\"year_of_birth_r\\\"\", \"label_for_charts\": \"Exact match\", \"m_probability\": 0.96327650885529, \"u_probability\": 0.01093448234753138, \"m_probability_description\": \"Amongst matching record comparisons, 96.33% of records are in the exact match comparison level\", \"u_probability_description\": \"Amongst non-matching record comparisons, 1.09% of records are in the exact match comparison level\", \"has_tf_adjustments\": false, \"tf_adjustment_column\": null, \"tf_adjustment_weight\": 1.0, \"is_null_level\": false, \"bayes_factor\": 88.095300558308, \"log2_bayes_factor\": 6.460993155553409, \"comparison_vector_value\": 2, \"max_comparison_vector_value\": 2, \"bayes_factor_description\": \"If comparison level is `exact match` then comparison is 88.10 times more likely to be a match\", \"probability_two_random_records_match\": 0.0037986577200161205, \"comparison_sort_order\": 5, \"iteration\": 1}, {\"comparison_name\": \"year_of_birth\", \"sql_condition\": \"abs(year_of_birth_l - year_of_birth_r) <= 5\", \"label_for_charts\": \"Inexact match\", \"m_probability\": 0.013053635140292416, \"u_probability\": 0.10883934805933546, \"m_probability_description\": \"Amongst matching record comparisons, 1.31% of records are in the inexact match comparison level\", \"u_probability_description\": \"Amongst non-matching record comparisons, 10.88% of records are in the inexact match comparison level\", \"has_tf_adjustments\": false, \"tf_adjustment_column\": null, \"tf_adjustment_weight\": 1.0, \"is_null_level\": false, \"bayes_factor\": 0.11993488910992028, \"log2_bayes_factor\": -3.0596766944837515, \"comparison_vector_value\": 1, \"max_comparison_vector_value\": 2, \"bayes_factor_description\": \"If comparison level is `inexact match` then comparison is  8.34 times less likely to be a match\", \"probability_two_random_records_match\": 0.0037986577200161205, \"comparison_sort_order\": 5, \"iteration\": 1}, {\"comparison_name\": \"year_of_birth\", \"sql_condition\": \"ELSE\", \"label_for_charts\": \"All other comparisons\", \"m_probability\": 0.02366985600441755, \"u_probability\": 0.8802261695931332, \"m_probability_description\": \"Amongst matching record comparisons, 2.37% of records are in the all other comparisons comparison level\", \"u_probability_description\": \"Amongst non-matching record comparisons, 88.02% of records are in the all other comparisons comparison level\", \"has_tf_adjustments\": false, \"tf_adjustment_column\": null, \"tf_adjustment_weight\": 1.0, \"is_null_level\": false, \"bayes_factor\": 0.026890652450561048, \"log2_bayes_factor\": -5.216751429886754, \"comparison_vector_value\": 0, \"max_comparison_vector_value\": 2, \"bayes_factor_description\": \"If comparison level is `all other comparisons` then comparison is  37.19 times less likely to be a match\", \"probability_two_random_records_match\": 0.0037986577200161205, \"comparison_sort_order\": 5, \"iteration\": 1}, {\"comparison_name\": \"first_name_15\", \"sql_condition\": \"\\\"first_name_15_l\\\" = \\\"first_name_15_r\\\"\", \"label_for_charts\": \"Exact match\", \"m_probability\": 0.8398029195486824, \"u_probability\": 0.0019154243869072766, \"m_probability_description\": \"Amongst matching record comparisons, 83.98% of records are in the exact match comparison level\", \"u_probability_description\": \"Amongst non-matching record comparisons, 0.19% of records are in the exact match comparison level\", \"has_tf_adjustments\": false, \"tf_adjustment_column\": null, \"tf_adjustment_weight\": 1.0, \"is_null_level\": false, \"bayes_factor\": 438.4422195358298, \"log2_bayes_factor\": 8.77624291823337, \"comparison_vector_value\": 2, \"max_comparison_vector_value\": 2, \"bayes_factor_description\": \"If comparison level is `exact match` then comparison is 438.44 times more likely to be a match\", \"probability_two_random_records_match\": 0.0037986577200161205, \"comparison_sort_order\": 0, \"iteration\": 2}, {\"comparison_name\": \"first_name_15\", \"sql_condition\": \"jaro_winkler_similarity(\\\"first_name_15_l\\\", \\\"first_name_15_r\\\") >= 0.8333333333333334\", \"label_for_charts\": \"Jaro_winkler_similarity >= 0.8333333333333334\", \"m_probability\": 0.08699452841091969, \"u_probability\": 0.003534009294465568, \"m_probability_description\": \"Amongst matching record comparisons, 8.70% of records are in the jaro_winkler_similarity >= 0.8333333333333334 comparison level\", \"u_probability_description\": \"Amongst non-matching record comparisons, 0.35% of records are in the jaro_winkler_similarity >= 0.8333333333333334 comparison level\", \"has_tf_adjustments\": false, \"tf_adjustment_column\": null, \"tf_adjustment_weight\": 1.0, \"is_null_level\": false, \"bayes_factor\": 24.61638359218732, \"log2_bayes_factor\": 4.621546925075201, \"comparison_vector_value\": 1, \"max_comparison_vector_value\": 2, \"bayes_factor_description\": \"If comparison level is `jaro_winkler_similarity >= 0.8333333333333334` then comparison is 24.62 times more likely to be a match\", \"probability_two_random_records_match\": 0.0037986577200161205, \"comparison_sort_order\": 0, \"iteration\": 2}, {\"comparison_name\": \"first_name_15\", \"sql_condition\": \"ELSE\", \"label_for_charts\": \"All other comparisons\", \"m_probability\": 0.07320255204039787, \"u_probability\": 0.9945505663186271, \"m_probability_description\": \"Amongst matching record comparisons, 7.32% of records are in the all other comparisons comparison level\", \"u_probability_description\": \"Amongst non-matching record comparisons, 99.46% of records are in the all other comparisons comparison level\", \"has_tf_adjustments\": false, \"tf_adjustment_column\": null, \"tf_adjustment_weight\": 1.0, \"is_null_level\": false, \"bayes_factor\": 0.07360365025114847, \"log2_bayes_factor\": -3.7640788736467363, \"comparison_vector_value\": 0, \"max_comparison_vector_value\": 2, \"bayes_factor_description\": \"If comparison level is `all other comparisons` then comparison is  13.59 times less likely to be a match\", \"probability_two_random_records_match\": 0.0037986577200161205, \"comparison_sort_order\": 0, \"iteration\": 2}, {\"comparison_name\": \"last_name_12\", \"sql_condition\": \"\\\"last_name_12_l\\\" = \\\"last_name_12_r\\\"\", \"label_for_charts\": \"Exact match\", \"m_probability\": 0.8775919047173855, \"u_probability\": 0.0006988639102327646, \"m_probability_description\": \"Amongst matching record comparisons, 87.76% of records are in the exact match comparison level\", \"u_probability_description\": \"Amongst non-matching record comparisons, 0.07% of records are in the exact match comparison level\", \"has_tf_adjustments\": false, \"tf_adjustment_column\": null, \"tf_adjustment_weight\": 1.0, \"is_null_level\": false, \"bayes_factor\": 1255.7407699377316, \"log2_bayes_factor\": 10.294322955479911, \"comparison_vector_value\": 2, \"max_comparison_vector_value\": 2, \"bayes_factor_description\": \"If comparison level is `exact match` then comparison is 1,255.74 times more likely to be a match\", \"probability_two_random_records_match\": 0.0037986577200161205, \"comparison_sort_order\": 1, \"iteration\": 2}, {\"comparison_name\": \"last_name_12\", \"sql_condition\": \"jaro_winkler_similarity(\\\"last_name_12_l\\\", \\\"last_name_12_r\\\") >= 0.8333333333333334\", \"label_for_charts\": \"Jaro_winkler_similarity >= 0.8333333333333334\", \"m_probability\": 0.10191534818070148, \"u_probability\": 0.0013365997755498443, \"m_probability_description\": \"Amongst matching record comparisons, 10.19% of records are in the jaro_winkler_similarity >= 0.8333333333333334 comparison level\", \"u_probability_description\": \"Amongst non-matching record comparisons, 0.13% of records are in the jaro_winkler_similarity >= 0.8333333333333334 comparison level\", \"has_tf_adjustments\": false, \"tf_adjustment_column\": null, \"tf_adjustment_weight\": 1.0, \"is_null_level\": false, \"bayes_factor\": 76.24971217638878, \"log2_bayes_factor\": 6.252659986647228, \"comparison_vector_value\": 1, \"max_comparison_vector_value\": 2, \"bayes_factor_description\": \"If comparison level is `jaro_winkler_similarity >= 0.8333333333333334` then comparison is 76.25 times more likely to be a match\", \"probability_two_random_records_match\": 0.0037986577200161205, \"comparison_sort_order\": 1, \"iteration\": 2}, {\"comparison_name\": \"last_name_12\", \"sql_condition\": \"ELSE\", \"label_for_charts\": \"All other comparisons\", \"m_probability\": 0.020492747101913053, \"u_probability\": 0.9979645363142174, \"m_probability_description\": \"Amongst matching record comparisons, 2.05% of records are in the all other comparisons comparison level\", \"u_probability_description\": \"Amongst non-matching record comparisons, 99.80% of records are in the all other comparisons comparison level\", \"has_tf_adjustments\": false, \"tf_adjustment_column\": null, \"tf_adjustment_weight\": 1.0, \"is_null_level\": false, \"bayes_factor\": 0.020534544421386875, \"log2_bayes_factor\": -5.6058032496794175, \"comparison_vector_value\": 0, \"max_comparison_vector_value\": 2, \"bayes_factor_description\": \"If comparison level is `all other comparisons` then comparison is  48.70 times less likely to be a match\", \"probability_two_random_records_match\": 0.0037986577200161205, \"comparison_sort_order\": 1, \"iteration\": 2}, {\"comparison_name\": \"middle_initial\", \"sql_condition\": \"\\\"middle_initial_l\\\" = \\\"middle_initial_r\\\"\", \"label_for_charts\": \"Exact match\", \"m_probability\": 0.9328984909411291, \"u_probability\": 0.07417855709636824, \"m_probability_description\": \"Amongst matching record comparisons, 93.29% of records are in the exact match comparison level\", \"u_probability_description\": \"Amongst non-matching record comparisons, 7.42% of records are in the exact match comparison level\", \"has_tf_adjustments\": false, \"tf_adjustment_column\": null, \"tf_adjustment_weight\": 1.0, \"is_null_level\": false, \"bayes_factor\": 12.576390367490763, \"log2_bayes_factor\": 3.6526459991250233, \"comparison_vector_value\": 1, \"max_comparison_vector_value\": 1, \"bayes_factor_description\": \"If comparison level is `exact match` then comparison is 12.58 times more likely to be a match\", \"probability_two_random_records_match\": 0.0037986577200161205, \"comparison_sort_order\": 2, \"iteration\": 2}, {\"comparison_name\": \"middle_initial\", \"sql_condition\": \"ELSE\", \"label_for_charts\": \"All other comparisons\", \"m_probability\": 0.06710150905887098, \"u_probability\": 0.9258214429036318, \"m_probability_description\": \"Amongst matching record comparisons, 6.71% of records are in the all other comparisons comparison level\", \"u_probability_description\": \"Amongst non-matching record comparisons, 92.58% of records are in the all other comparisons comparison level\", \"has_tf_adjustments\": false, \"tf_adjustment_column\": null, \"tf_adjustment_weight\": 1.0, \"is_null_level\": false, \"bayes_factor\": 0.07247780830007794, \"log2_bayes_factor\": -3.7863168602517288, \"comparison_vector_value\": 0, \"max_comparison_vector_value\": 1, \"bayes_factor_description\": \"If comparison level is `all other comparisons` then comparison is  13.80 times less likely to be a match\", \"probability_two_random_records_match\": 0.0037986577200161205, \"comparison_sort_order\": 2, \"iteration\": 2}, {\"comparison_name\": \"day_of_birth\", \"sql_condition\": \"\\\"day_of_birth_l\\\" = \\\"day_of_birth_r\\\"\", \"label_for_charts\": \"Exact match\", \"m_probability\": 0.9735801898726071, \"u_probability\": 0.032483267196893574, \"m_probability_description\": \"Amongst matching record comparisons, 97.36% of records are in the exact match comparison level\", \"u_probability_description\": \"Amongst non-matching record comparisons, 3.25% of records are in the exact match comparison level\", \"has_tf_adjustments\": false, \"tf_adjustment_column\": null, \"tf_adjustment_weight\": 1.0, \"is_null_level\": false, \"bayes_factor\": 29.97174465152668, \"log2_bayes_factor\": 4.905531160281962, \"comparison_vector_value\": 2, \"max_comparison_vector_value\": 2, \"bayes_factor_description\": \"If comparison level is `exact match` then comparison is 29.97 times more likely to be a match\", \"probability_two_random_records_match\": 0.0037986577200161205, \"comparison_sort_order\": 3, \"iteration\": 2}, {\"comparison_name\": \"day_of_birth\", \"sql_condition\": \"abs(day_of_birth_l - day_of_birth_r) <= 5\", \"label_for_charts\": \"Inexact match\", \"m_probability\": 0.01828704164897074, \"u_probability\": 0.2953114089616295, \"m_probability_description\": \"Amongst matching record comparisons, 1.83% of records are in the inexact match comparison level\", \"u_probability_description\": \"Amongst non-matching record comparisons, 29.53% of records are in the inexact match comparison level\", \"has_tf_adjustments\": false, \"tf_adjustment_column\": null, \"tf_adjustment_weight\": 1.0, \"is_null_level\": false, \"bayes_factor\": 0.06192460261955818, \"log2_bayes_factor\": -4.013343484286651, \"comparison_vector_value\": 1, \"max_comparison_vector_value\": 2, \"bayes_factor_description\": \"If comparison level is `inexact match` then comparison is  16.15 times less likely to be a match\", \"probability_two_random_records_match\": 0.0037986577200161205, \"comparison_sort_order\": 3, \"iteration\": 2}, {\"comparison_name\": \"day_of_birth\", \"sql_condition\": \"ELSE\", \"label_for_charts\": \"All other comparisons\", \"m_probability\": 0.008132768478422212, \"u_probability\": 0.6722053238414769, \"m_probability_description\": \"Amongst matching record comparisons, 0.81% of records are in the all other comparisons comparison level\", \"u_probability_description\": \"Amongst non-matching record comparisons, 67.22% of records are in the all other comparisons comparison level\", \"has_tf_adjustments\": false, \"tf_adjustment_column\": null, \"tf_adjustment_weight\": 1.0, \"is_null_level\": false, \"bayes_factor\": 0.012098637410286451, \"log2_bayes_factor\": -6.369011614350555, \"comparison_vector_value\": 0, \"max_comparison_vector_value\": 2, \"bayes_factor_description\": \"If comparison level is `all other comparisons` then comparison is  82.65 times less likely to be a match\", \"probability_two_random_records_match\": 0.0037986577200161205, \"comparison_sort_order\": 3, \"iteration\": 2}, {\"comparison_name\": \"month_of_birth\", \"sql_condition\": \"\\\"month_of_birth_l\\\" = \\\"month_of_birth_r\\\"\", \"label_for_charts\": \"Exact match\", \"m_probability\": 0.9870407808557013, \"u_probability\": 0.0832547076088129, \"m_probability_description\": \"Amongst matching record comparisons, 98.70% of records are in the exact match comparison level\", \"u_probability_description\": \"Amongst non-matching record comparisons, 8.33% of records are in the exact match comparison level\", \"has_tf_adjustments\": false, \"tf_adjustment_column\": null, \"tf_adjustment_weight\": 1.0, \"is_null_level\": false, \"bayes_factor\": 11.855675302992939, \"log2_bayes_factor\": 3.567505936410911, \"comparison_vector_value\": 2, \"max_comparison_vector_value\": 2, \"bayes_factor_description\": \"If comparison level is `exact match` then comparison is 11.86 times more likely to be a match\", \"probability_two_random_records_match\": 0.0037986577200161205, \"comparison_sort_order\": 4, \"iteration\": 2}, {\"comparison_name\": \"month_of_birth\", \"sql_condition\": \"abs(month_of_birth_l - month_of_birth_r) <= 3\", \"label_for_charts\": \"Inexact match\", \"m_probability\": 0.002230875789434157, \"u_probability\": 0.41938802504669287, \"m_probability_description\": \"Amongst matching record comparisons, 0.22% of records are in the inexact match comparison level\", \"u_probability_description\": \"Amongst non-matching record comparisons, 41.94% of records are in the inexact match comparison level\", \"has_tf_adjustments\": false, \"tf_adjustment_column\": null, \"tf_adjustment_weight\": 1.0, \"is_null_level\": false, \"bayes_factor\": 0.005319359772339187, \"log2_bayes_factor\": -7.554531668419384, \"comparison_vector_value\": 1, \"max_comparison_vector_value\": 2, \"bayes_factor_description\": \"If comparison level is `inexact match` then comparison is  187.99 times less likely to be a match\", \"probability_two_random_records_match\": 0.0037986577200161205, \"comparison_sort_order\": 4, \"iteration\": 2}, {\"comparison_name\": \"month_of_birth\", \"sql_condition\": \"ELSE\", \"label_for_charts\": \"All other comparisons\", \"m_probability\": 0.010728343354864502, \"u_probability\": 0.4973572673444942, \"m_probability_description\": \"Amongst matching record comparisons, 1.07% of records are in the all other comparisons comparison level\", \"u_probability_description\": \"Amongst non-matching record comparisons, 49.74% of records are in the all other comparisons comparison level\", \"has_tf_adjustments\": false, \"tf_adjustment_column\": null, \"tf_adjustment_weight\": 1.0, \"is_null_level\": false, \"bayes_factor\": 0.021570697885135198, \"log2_bayes_factor\": -5.534783336450386, \"comparison_vector_value\": 0, \"max_comparison_vector_value\": 2, \"bayes_factor_description\": \"If comparison level is `all other comparisons` then comparison is  46.36 times less likely to be a match\", \"probability_two_random_records_match\": 0.0037986577200161205, \"comparison_sort_order\": 4, \"iteration\": 2}, {\"comparison_name\": \"year_of_birth\", \"sql_condition\": \"\\\"year_of_birth_l\\\" = \\\"year_of_birth_r\\\"\", \"label_for_charts\": \"Exact match\", \"m_probability\": 0.9638408295492465, \"u_probability\": 0.01093448234753138, \"m_probability_description\": \"Amongst matching record comparisons, 96.38% of records are in the exact match comparison level\", \"u_probability_description\": \"Amongst non-matching record comparisons, 1.09% of records are in the exact match comparison level\", \"has_tf_adjustments\": false, \"tf_adjustment_column\": null, \"tf_adjustment_weight\": 1.0, \"is_null_level\": false, \"bayes_factor\": 88.14690983216484, \"log2_bayes_factor\": 6.461838088732814, \"comparison_vector_value\": 2, \"max_comparison_vector_value\": 2, \"bayes_factor_description\": \"If comparison level is `exact match` then comparison is 88.15 times more likely to be a match\", \"probability_two_random_records_match\": 0.0037986577200161205, \"comparison_sort_order\": 5, \"iteration\": 2}, {\"comparison_name\": \"year_of_birth\", \"sql_condition\": \"abs(year_of_birth_l - year_of_birth_r) <= 5\", \"label_for_charts\": \"Inexact match\", \"m_probability\": 0.013208955427562225, \"u_probability\": 0.10883934805933546, \"m_probability_description\": \"Amongst matching record comparisons, 1.32% of records are in the inexact match comparison level\", \"u_probability_description\": \"Amongst non-matching record comparisons, 10.88% of records are in the inexact match comparison level\", \"has_tf_adjustments\": false, \"tf_adjustment_column\": null, \"tf_adjustment_weight\": 1.0, \"is_null_level\": false, \"bayes_factor\": 0.12136194917633243, \"log2_bayes_factor\": -3.042611933091835, \"comparison_vector_value\": 1, \"max_comparison_vector_value\": 2, \"bayes_factor_description\": \"If comparison level is `inexact match` then comparison is  8.24 times less likely to be a match\", \"probability_two_random_records_match\": 0.0037986577200161205, \"comparison_sort_order\": 5, \"iteration\": 2}, {\"comparison_name\": \"year_of_birth\", \"sql_condition\": \"ELSE\", \"label_for_charts\": \"All other comparisons\", \"m_probability\": 0.022950215023191292, \"u_probability\": 0.8802261695931332, \"m_probability_description\": \"Amongst matching record comparisons, 2.30% of records are in the all other comparisons comparison level\", \"u_probability_description\": \"Amongst non-matching record comparisons, 88.02% of records are in the all other comparisons comparison level\", \"has_tf_adjustments\": false, \"tf_adjustment_column\": null, \"tf_adjustment_weight\": 1.0, \"is_null_level\": false, \"bayes_factor\": 0.026073088731046894, \"log2_bayes_factor\": -5.261294688872514, \"comparison_vector_value\": 0, \"max_comparison_vector_value\": 2, \"bayes_factor_description\": \"If comparison level is `all other comparisons` then comparison is  38.35 times less likely to be a match\", \"probability_two_random_records_match\": 0.0037986577200161205, \"comparison_sort_order\": 5, \"iteration\": 2}, {\"comparison_name\": \"first_name_15\", \"sql_condition\": \"\\\"first_name_15_l\\\" = \\\"first_name_15_r\\\"\", \"label_for_charts\": \"Exact match\", \"m_probability\": 0.8385901965640926, \"u_probability\": 0.0019154243869072766, \"m_probability_description\": \"Amongst matching record comparisons, 83.86% of records are in the exact match comparison level\", \"u_probability_description\": \"Amongst non-matching record comparisons, 0.19% of records are in the exact match comparison level\", \"has_tf_adjustments\": false, \"tf_adjustment_column\": null, \"tf_adjustment_weight\": 1.0, \"is_null_level\": false, \"bayes_factor\": 437.8090841362394, \"log2_bayes_factor\": 8.774158079200705, \"comparison_vector_value\": 2, \"max_comparison_vector_value\": 2, \"bayes_factor_description\": \"If comparison level is `exact match` then comparison is 437.81 times more likely to be a match\", \"probability_two_random_records_match\": 0.0037986577200161205, \"comparison_sort_order\": 0, \"iteration\": 3}, {\"comparison_name\": \"first_name_15\", \"sql_condition\": \"jaro_winkler_similarity(\\\"first_name_15_l\\\", \\\"first_name_15_r\\\") >= 0.8333333333333334\", \"label_for_charts\": \"Jaro_winkler_similarity >= 0.8333333333333334\", \"m_probability\": 0.08693933331974323, \"u_probability\": 0.003534009294465568, \"m_probability_description\": \"Amongst matching record comparisons, 8.69% of records are in the jaro_winkler_similarity >= 0.8333333333333334 comparison level\", \"u_probability_description\": \"Amongst non-matching record comparisons, 0.35% of records are in the jaro_winkler_similarity >= 0.8333333333333334 comparison level\", \"has_tf_adjustments\": false, \"tf_adjustment_column\": null, \"tf_adjustment_weight\": 1.0, \"is_null_level\": false, \"bayes_factor\": 24.60076532789387, \"log2_bayes_factor\": 4.620631293280422, \"comparison_vector_value\": 1, \"max_comparison_vector_value\": 2, \"bayes_factor_description\": \"If comparison level is `jaro_winkler_similarity >= 0.8333333333333334` then comparison is 24.60 times more likely to be a match\", \"probability_two_random_records_match\": 0.0037986577200161205, \"comparison_sort_order\": 0, \"iteration\": 3}, {\"comparison_name\": \"first_name_15\", \"sql_condition\": \"ELSE\", \"label_for_charts\": \"All other comparisons\", \"m_probability\": 0.07447047011616426, \"u_probability\": 0.9945505663186271, \"m_probability_description\": \"Amongst matching record comparisons, 7.45% of records are in the all other comparisons comparison level\", \"u_probability_description\": \"Amongst non-matching record comparisons, 99.46% of records are in the all other comparisons comparison level\", \"has_tf_adjustments\": false, \"tf_adjustment_column\": null, \"tf_adjustment_weight\": 1.0, \"is_null_level\": false, \"bayes_factor\": 0.07487851562120164, \"log2_bayes_factor\": -3.7393043543079676, \"comparison_vector_value\": 0, \"max_comparison_vector_value\": 2, \"bayes_factor_description\": \"If comparison level is `all other comparisons` then comparison is  13.35 times less likely to be a match\", \"probability_two_random_records_match\": 0.0037986577200161205, \"comparison_sort_order\": 0, \"iteration\": 3}, {\"comparison_name\": \"last_name_12\", \"sql_condition\": \"\\\"last_name_12_l\\\" = \\\"last_name_12_r\\\"\", \"label_for_charts\": \"Exact match\", \"m_probability\": 0.8776553289136831, \"u_probability\": 0.0006988639102327646, \"m_probability_description\": \"Amongst matching record comparisons, 87.77% of records are in the exact match comparison level\", \"u_probability_description\": \"Amongst non-matching record comparisons, 0.07% of records are in the exact match comparison level\", \"has_tf_adjustments\": false, \"tf_adjustment_column\": null, \"tf_adjustment_weight\": 1.0, \"is_null_level\": false, \"bayes_factor\": 1255.831523223699, \"log2_bayes_factor\": 10.294427216317652, \"comparison_vector_value\": 2, \"max_comparison_vector_value\": 2, \"bayes_factor_description\": \"If comparison level is `exact match` then comparison is 1,255.83 times more likely to be a match\", \"probability_two_random_records_match\": 0.0037986577200161205, \"comparison_sort_order\": 1, \"iteration\": 3}, {\"comparison_name\": \"last_name_12\", \"sql_condition\": \"jaro_winkler_similarity(\\\"last_name_12_l\\\", \\\"last_name_12_r\\\") >= 0.8333333333333334\", \"label_for_charts\": \"Jaro_winkler_similarity >= 0.8333333333333334\", \"m_probability\": 0.10186476241196246, \"u_probability\": 0.0013365997755498443, \"m_probability_description\": \"Amongst matching record comparisons, 10.19% of records are in the jaro_winkler_similarity >= 0.8333333333333334 comparison level\", \"u_probability_description\": \"Amongst non-matching record comparisons, 0.13% of records are in the jaro_winkler_similarity >= 0.8333333333333334 comparison level\", \"has_tf_adjustments\": false, \"tf_adjustment_column\": null, \"tf_adjustment_weight\": 1.0, \"is_null_level\": false, \"bayes_factor\": 76.21186556765491, \"log2_bayes_factor\": 6.25194372597796, \"comparison_vector_value\": 1, \"max_comparison_vector_value\": 2, \"bayes_factor_description\": \"If comparison level is `jaro_winkler_similarity >= 0.8333333333333334` then comparison is 76.21 times more likely to be a match\", \"probability_two_random_records_match\": 0.0037986577200161205, \"comparison_sort_order\": 1, \"iteration\": 3}, {\"comparison_name\": \"last_name_12\", \"sql_condition\": \"ELSE\", \"label_for_charts\": \"All other comparisons\", \"m_probability\": 0.020479908674354293, \"u_probability\": 0.9979645363142174, \"m_probability_description\": \"Amongst matching record comparisons, 2.05% of records are in the all other comparisons comparison level\", \"u_probability_description\": \"Amongst non-matching record comparisons, 99.80% of records are in the all other comparisons comparison level\", \"has_tf_adjustments\": false, \"tf_adjustment_column\": null, \"tf_adjustment_weight\": 1.0, \"is_null_level\": false, \"bayes_factor\": 0.0205216798083755, \"log2_bayes_factor\": -5.60670736175256, \"comparison_vector_value\": 0, \"max_comparison_vector_value\": 2, \"bayes_factor_description\": \"If comparison level is `all other comparisons` then comparison is  48.73 times less likely to be a match\", \"probability_two_random_records_match\": 0.0037986577200161205, \"comparison_sort_order\": 1, \"iteration\": 3}, {\"comparison_name\": \"middle_initial\", \"sql_condition\": \"\\\"middle_initial_l\\\" = \\\"middle_initial_r\\\"\", \"label_for_charts\": \"Exact match\", \"m_probability\": 0.9322349600257192, \"u_probability\": 0.07417855709636824, \"m_probability_description\": \"Amongst matching record comparisons, 93.22% of records are in the exact match comparison level\", \"u_probability_description\": \"Amongst non-matching record comparisons, 7.42% of records are in the exact match comparison level\", \"has_tf_adjustments\": false, \"tf_adjustment_column\": null, \"tf_adjustment_weight\": 1.0, \"is_null_level\": false, \"bayes_factor\": 12.567445317312071, \"log2_bayes_factor\": 3.651619506569194, \"comparison_vector_value\": 1, \"max_comparison_vector_value\": 1, \"bayes_factor_description\": \"If comparison level is `exact match` then comparison is 12.57 times more likely to be a match\", \"probability_two_random_records_match\": 0.0037986577200161205, \"comparison_sort_order\": 2, \"iteration\": 3}, {\"comparison_name\": \"middle_initial\", \"sql_condition\": \"ELSE\", \"label_for_charts\": \"All other comparisons\", \"m_probability\": 0.06776503997428093, \"u_probability\": 0.9258214429036318, \"m_probability_description\": \"Amongst matching record comparisons, 6.78% of records are in the all other comparisons comparison level\", \"u_probability_description\": \"Amongst non-matching record comparisons, 92.58% of records are in the all other comparisons comparison level\", \"has_tf_adjustments\": false, \"tf_adjustment_column\": null, \"tf_adjustment_weight\": 1.0, \"is_null_level\": false, \"bayes_factor\": 0.07319450256169381, \"log2_bayes_factor\": -3.7721208940634545, \"comparison_vector_value\": 0, \"max_comparison_vector_value\": 1, \"bayes_factor_description\": \"If comparison level is `all other comparisons` then comparison is  13.66 times less likely to be a match\", \"probability_two_random_records_match\": 0.0037986577200161205, \"comparison_sort_order\": 2, \"iteration\": 3}, {\"comparison_name\": \"day_of_birth\", \"sql_condition\": \"\\\"day_of_birth_l\\\" = \\\"day_of_birth_r\\\"\", \"label_for_charts\": \"Exact match\", \"m_probability\": 0.9742633956059045, \"u_probability\": 0.032483267196893574, \"m_probability_description\": \"Amongst matching record comparisons, 97.43% of records are in the exact match comparison level\", \"u_probability_description\": \"Amongst non-matching record comparisons, 3.25% of records are in the exact match comparison level\", \"has_tf_adjustments\": false, \"tf_adjustment_column\": null, \"tf_adjustment_weight\": 1.0, \"is_null_level\": false, \"bayes_factor\": 29.9927771951177, \"log2_bayes_factor\": 4.906543210295735, \"comparison_vector_value\": 2, \"max_comparison_vector_value\": 2, \"bayes_factor_description\": \"If comparison level is `exact match` then comparison is 29.99 times more likely to be a match\", \"probability_two_random_records_match\": 0.0037986577200161205, \"comparison_sort_order\": 3, \"iteration\": 3}, {\"comparison_name\": \"day_of_birth\", \"sql_condition\": \"abs(day_of_birth_l - day_of_birth_r) <= 5\", \"label_for_charts\": \"Inexact match\", \"m_probability\": 0.01772162031103814, \"u_probability\": 0.2953114089616295, \"m_probability_description\": \"Amongst matching record comparisons, 1.77% of records are in the inexact match comparison level\", \"u_probability_description\": \"Amongst non-matching record comparisons, 29.53% of records are in the inexact match comparison level\", \"has_tf_adjustments\": false, \"tf_adjustment_column\": null, \"tf_adjustment_weight\": 1.0, \"is_null_level\": false, \"bayes_factor\": 0.06000994127978561, \"log2_bayes_factor\": -4.058654671603403, \"comparison_vector_value\": 1, \"max_comparison_vector_value\": 2, \"bayes_factor_description\": \"If comparison level is `inexact match` then comparison is  16.66 times less likely to be a match\", \"probability_two_random_records_match\": 0.0037986577200161205, \"comparison_sort_order\": 3, \"iteration\": 3}, {\"comparison_name\": \"day_of_birth\", \"sql_condition\": \"ELSE\", \"label_for_charts\": \"All other comparisons\", \"m_probability\": 0.008014984083057428, \"u_probability\": 0.6722053238414769, \"m_probability_description\": \"Amongst matching record comparisons, 0.80% of records are in the all other comparisons comparison level\", \"u_probability_description\": \"Amongst non-matching record comparisons, 67.22% of records are in the all other comparisons comparison level\", \"has_tf_adjustments\": false, \"tf_adjustment_column\": null, \"tf_adjustment_weight\": 1.0, \"is_null_level\": false, \"bayes_factor\": 0.011923416549654649, \"log2_bayes_factor\": -6.3900585032204615, \"comparison_vector_value\": 0, \"max_comparison_vector_value\": 2, \"bayes_factor_description\": \"If comparison level is `all other comparisons` then comparison is  83.87 times less likely to be a match\", \"probability_two_random_records_match\": 0.0037986577200161205, \"comparison_sort_order\": 3, \"iteration\": 3}, {\"comparison_name\": \"month_of_birth\", \"sql_condition\": \"\\\"month_of_birth_l\\\" = \\\"month_of_birth_r\\\"\", \"label_for_charts\": \"Exact match\", \"m_probability\": 0.9877800721429096, \"u_probability\": 0.0832547076088129, \"m_probability_description\": \"Amongst matching record comparisons, 98.78% of records are in the exact match comparison level\", \"u_probability_description\": \"Amongst non-matching record comparisons, 8.33% of records are in the exact match comparison level\", \"has_tf_adjustments\": false, \"tf_adjustment_column\": null, \"tf_adjustment_weight\": 1.0, \"is_null_level\": false, \"bayes_factor\": 11.864555176677463, \"log2_bayes_factor\": 3.5685861072244136, \"comparison_vector_value\": 2, \"max_comparison_vector_value\": 2, \"bayes_factor_description\": \"If comparison level is `exact match` then comparison is 11.86 times more likely to be a match\", \"probability_two_random_records_match\": 0.0037986577200161205, \"comparison_sort_order\": 4, \"iteration\": 3}, {\"comparison_name\": \"month_of_birth\", \"sql_condition\": \"abs(month_of_birth_l - month_of_birth_r) <= 3\", \"label_for_charts\": \"Inexact match\", \"m_probability\": 0.0014870662574135573, \"u_probability\": 0.41938802504669287, \"m_probability_description\": \"Amongst matching record comparisons, 0.15% of records are in the inexact match comparison level\", \"u_probability_description\": \"Amongst non-matching record comparisons, 41.94% of records are in the inexact match comparison level\", \"has_tf_adjustments\": false, \"tf_adjustment_column\": null, \"tf_adjustment_weight\": 1.0, \"is_null_level\": false, \"bayes_factor\": 0.003545800472600508, \"log2_bayes_factor\": -8.139672928709944, \"comparison_vector_value\": 1, \"max_comparison_vector_value\": 2, \"bayes_factor_description\": \"If comparison level is `inexact match` then comparison is  282.02 times less likely to be a match\", \"probability_two_random_records_match\": 0.0037986577200161205, \"comparison_sort_order\": 4, \"iteration\": 3}, {\"comparison_name\": \"month_of_birth\", \"sql_condition\": \"ELSE\", \"label_for_charts\": \"All other comparisons\", \"m_probability\": 0.010732861599676713, \"u_probability\": 0.4973572673444942, \"m_probability_description\": \"Amongst matching record comparisons, 1.07% of records are in the all other comparisons comparison level\", \"u_probability_description\": \"Amongst non-matching record comparisons, 49.74% of records are in the all other comparisons comparison level\", \"has_tf_adjustments\": false, \"tf_adjustment_column\": null, \"tf_adjustment_weight\": 1.0, \"is_null_level\": false, \"bayes_factor\": 0.02157978239059811, \"log2_bayes_factor\": -5.53417587293711, \"comparison_vector_value\": 0, \"max_comparison_vector_value\": 2, \"bayes_factor_description\": \"If comparison level is `all other comparisons` then comparison is  46.34 times less likely to be a match\", \"probability_two_random_records_match\": 0.0037986577200161205, \"comparison_sort_order\": 4, \"iteration\": 3}, {\"comparison_name\": \"year_of_birth\", \"sql_condition\": \"\\\"year_of_birth_l\\\" = \\\"year_of_birth_r\\\"\", \"label_for_charts\": \"Exact match\", \"m_probability\": 0.964519864647191, \"u_probability\": 0.01093448234753138, \"m_probability_description\": \"Amongst matching record comparisons, 96.45% of records are in the exact match comparison level\", \"u_probability_description\": \"Amongst non-matching record comparisons, 1.09% of records are in the exact match comparison level\", \"has_tf_adjustments\": false, \"tf_adjustment_column\": null, \"tf_adjustment_weight\": 1.0, \"is_null_level\": false, \"bayes_factor\": 88.20901017458276, \"log2_bayes_factor\": 6.462854123348986, \"comparison_vector_value\": 2, \"max_comparison_vector_value\": 2, \"bayes_factor_description\": \"If comparison level is `exact match` then comparison is 88.21 times more likely to be a match\", \"probability_two_random_records_match\": 0.0037986577200161205, \"comparison_sort_order\": 5, \"iteration\": 3}, {\"comparison_name\": \"year_of_birth\", \"sql_condition\": \"abs(year_of_birth_l - year_of_birth_r) <= 5\", \"label_for_charts\": \"Inexact match\", \"m_probability\": 0.013245801246115917, \"u_probability\": 0.10883934805933546, \"m_probability_description\": \"Amongst matching record comparisons, 1.32% of records are in the inexact match comparison level\", \"u_probability_description\": \"Amongst non-matching record comparisons, 10.88% of records are in the inexact match comparison level\", \"has_tf_adjustments\": false, \"tf_adjustment_column\": null, \"tf_adjustment_weight\": 1.0, \"is_null_level\": false, \"bayes_factor\": 0.12170048316436775, \"log2_bayes_factor\": -3.038593199165601, \"comparison_vector_value\": 1, \"max_comparison_vector_value\": 2, \"bayes_factor_description\": \"If comparison level is `inexact match` then comparison is  8.22 times less likely to be a match\", \"probability_two_random_records_match\": 0.0037986577200161205, \"comparison_sort_order\": 5, \"iteration\": 3}, {\"comparison_name\": \"year_of_birth\", \"sql_condition\": \"ELSE\", \"label_for_charts\": \"All other comparisons\", \"m_probability\": 0.022234334106693166, \"u_probability\": 0.8802261695931332, \"m_probability_description\": \"Amongst matching record comparisons, 2.22% of records are in the all other comparisons comparison level\", \"u_probability_description\": \"Amongst non-matching record comparisons, 88.02% of records are in the all other comparisons comparison level\", \"has_tf_adjustments\": false, \"tf_adjustment_column\": null, \"tf_adjustment_weight\": 1.0, \"is_null_level\": false, \"bayes_factor\": 0.025259796714485937, \"log2_bayes_factor\": -5.307013161107816, \"comparison_vector_value\": 0, \"max_comparison_vector_value\": 2, \"bayes_factor_description\": \"If comparison level is `all other comparisons` then comparison is  39.59 times less likely to be a match\", \"probability_two_random_records_match\": 0.0037986577200161205, \"comparison_sort_order\": 5, \"iteration\": 3}, {\"comparison_name\": \"first_name_15\", \"sql_condition\": \"\\\"first_name_15_l\\\" = \\\"first_name_15_r\\\"\", \"label_for_charts\": \"Exact match\", \"m_probability\": 0.8383496636831731, \"u_probability\": 0.0019154243869072766, \"m_probability_description\": \"Amongst matching record comparisons, 83.83% of records are in the exact match comparison level\", \"u_probability_description\": \"Amongst non-matching record comparisons, 0.19% of records are in the exact match comparison level\", \"has_tf_adjustments\": false, \"tf_adjustment_column\": null, \"tf_adjustment_weight\": 1.0, \"is_null_level\": false, \"bayes_factor\": 437.6835073280064, \"log2_bayes_factor\": 8.773744211530099, \"comparison_vector_value\": 2, \"max_comparison_vector_value\": 2, \"bayes_factor_description\": \"If comparison level is `exact match` then comparison is 437.68 times more likely to be a match\", \"probability_two_random_records_match\": 0.0037986577200161205, \"comparison_sort_order\": 0, \"iteration\": 4}, {\"comparison_name\": \"first_name_15\", \"sql_condition\": \"jaro_winkler_similarity(\\\"first_name_15_l\\\", \\\"first_name_15_r\\\") >= 0.8333333333333334\", \"label_for_charts\": \"Jaro_winkler_similarity >= 0.8333333333333334\", \"m_probability\": 0.08696115738394028, \"u_probability\": 0.003534009294465568, \"m_probability_description\": \"Amongst matching record comparisons, 8.70% of records are in the jaro_winkler_similarity >= 0.8333333333333334 comparison level\", \"u_probability_description\": \"Amongst non-matching record comparisons, 0.35% of records are in the jaro_winkler_similarity >= 0.8333333333333334 comparison level\", \"has_tf_adjustments\": false, \"tf_adjustment_column\": null, \"tf_adjustment_weight\": 1.0, \"is_null_level\": false, \"bayes_factor\": 24.60694076841442, \"log2_bayes_factor\": 4.620993402314467, \"comparison_vector_value\": 1, \"max_comparison_vector_value\": 2, \"bayes_factor_description\": \"If comparison level is `jaro_winkler_similarity >= 0.8333333333333334` then comparison is 24.61 times more likely to be a match\", \"probability_two_random_records_match\": 0.0037986577200161205, \"comparison_sort_order\": 0, \"iteration\": 4}, {\"comparison_name\": \"first_name_15\", \"sql_condition\": \"ELSE\", \"label_for_charts\": \"All other comparisons\", \"m_probability\": 0.07468917893288658, \"u_probability\": 0.9945505663186271, \"m_probability_description\": \"Amongst matching record comparisons, 7.47% of records are in the all other comparisons comparison level\", \"u_probability_description\": \"Amongst non-matching record comparisons, 99.46% of records are in the all other comparisons comparison level\", \"has_tf_adjustments\": false, \"tf_adjustment_column\": null, \"tf_adjustment_weight\": 1.0, \"is_null_level\": false, \"bayes_factor\": 0.07509842280755204, \"log2_bayes_factor\": -3.7350735807251474, \"comparison_vector_value\": 0, \"max_comparison_vector_value\": 2, \"bayes_factor_description\": \"If comparison level is `all other comparisons` then comparison is  13.32 times less likely to be a match\", \"probability_two_random_records_match\": 0.0037986577200161205, \"comparison_sort_order\": 0, \"iteration\": 4}, {\"comparison_name\": \"last_name_12\", \"sql_condition\": \"\\\"last_name_12_l\\\" = \\\"last_name_12_r\\\"\", \"label_for_charts\": \"Exact match\", \"m_probability\": 0.8776163215832145, \"u_probability\": 0.0006988639102327646, \"m_probability_description\": \"Amongst matching record comparisons, 87.76% of records are in the exact match comparison level\", \"u_probability_description\": \"Amongst non-matching record comparisons, 0.07% of records are in the exact match comparison level\", \"has_tf_adjustments\": false, \"tf_adjustment_column\": null, \"tf_adjustment_weight\": 1.0, \"is_null_level\": false, \"bayes_factor\": 1255.775707878397, \"log2_bayes_factor\": 10.29436309441126, \"comparison_vector_value\": 2, \"max_comparison_vector_value\": 2, \"bayes_factor_description\": \"If comparison level is `exact match` then comparison is 1,255.78 times more likely to be a match\", \"probability_two_random_records_match\": 0.0037986577200161205, \"comparison_sort_order\": 1, \"iteration\": 4}, {\"comparison_name\": \"last_name_12\", \"sql_condition\": \"jaro_winkler_similarity(\\\"last_name_12_l\\\", \\\"last_name_12_r\\\") >= 0.8333333333333334\", \"label_for_charts\": \"Jaro_winkler_similarity >= 0.8333333333333334\", \"m_probability\": 0.101892706408371, \"u_probability\": 0.0013365997755498443, \"m_probability_description\": \"Amongst matching record comparisons, 10.19% of records are in the jaro_winkler_similarity >= 0.8333333333333334 comparison level\", \"u_probability_description\": \"Amongst non-matching record comparisons, 0.13% of records are in the jaro_winkler_similarity >= 0.8333333333333334 comparison level\", \"has_tf_adjustments\": false, \"tf_adjustment_column\": null, \"tf_adjustment_weight\": 1.0, \"is_null_level\": false, \"bayes_factor\": 76.23277234687163, \"log2_bayes_factor\": 6.2523394382483115, \"comparison_vector_value\": 1, \"max_comparison_vector_value\": 2, \"bayes_factor_description\": \"If comparison level is `jaro_winkler_similarity >= 0.8333333333333334` then comparison is 76.23 times more likely to be a match\", \"probability_two_random_records_match\": 0.0037986577200161205, \"comparison_sort_order\": 1, \"iteration\": 4}, {\"comparison_name\": \"last_name_12\", \"sql_condition\": \"ELSE\", \"label_for_charts\": \"All other comparisons\", \"m_probability\": 0.020490972008414512, \"u_probability\": 0.9979645363142174, \"m_probability_description\": \"Amongst matching record comparisons, 2.05% of records are in the all other comparisons comparison level\", \"u_probability_description\": \"Amongst non-matching record comparisons, 99.80% of records are in the all other comparisons comparison level\", \"has_tf_adjustments\": false, \"tf_adjustment_column\": null, \"tf_adjustment_weight\": 1.0, \"is_null_level\": false, \"bayes_factor\": 0.020532765707380565, \"log2_bayes_factor\": -5.605928222163353, \"comparison_vector_value\": 0, \"max_comparison_vector_value\": 2, \"bayes_factor_description\": \"If comparison level is `all other comparisons` then comparison is  48.70 times less likely to be a match\", \"probability_two_random_records_match\": 0.0037986577200161205, \"comparison_sort_order\": 1, \"iteration\": 4}, {\"comparison_name\": \"middle_initial\", \"sql_condition\": \"\\\"middle_initial_l\\\" = \\\"middle_initial_r\\\"\", \"label_for_charts\": \"Exact match\", \"m_probability\": 0.9320894242410351, \"u_probability\": 0.07417855709636824, \"m_probability_description\": \"Amongst matching record comparisons, 93.21% of records are in the exact match comparison level\", \"u_probability_description\": \"Amongst non-matching record comparisons, 7.42% of records are in the exact match comparison level\", \"has_tf_adjustments\": false, \"tf_adjustment_column\": null, \"tf_adjustment_weight\": 1.0, \"is_null_level\": false, \"bayes_factor\": 12.565483351612267, \"log2_bayes_factor\": 3.6513942627682394, \"comparison_vector_value\": 1, \"max_comparison_vector_value\": 1, \"bayes_factor_description\": \"If comparison level is `exact match` then comparison is 12.57 times more likely to be a match\", \"probability_two_random_records_match\": 0.0037986577200161205, \"comparison_sort_order\": 2, \"iteration\": 4}, {\"comparison_name\": \"middle_initial\", \"sql_condition\": \"ELSE\", \"label_for_charts\": \"All other comparisons\", \"m_probability\": 0.06791057575896481, \"u_probability\": 0.9258214429036318, \"m_probability_description\": \"Amongst matching record comparisons, 6.79% of records are in the all other comparisons comparison level\", \"u_probability_description\": \"Amongst non-matching record comparisons, 92.58% of records are in the all other comparisons comparison level\", \"has_tf_adjustments\": false, \"tf_adjustment_column\": null, \"tf_adjustment_weight\": 1.0, \"is_null_level\": false, \"bayes_factor\": 0.07335169894745415, \"log2_bayes_factor\": -3.769025808270316, \"comparison_vector_value\": 0, \"max_comparison_vector_value\": 1, \"bayes_factor_description\": \"If comparison level is `all other comparisons` then comparison is  13.63 times less likely to be a match\", \"probability_two_random_records_match\": 0.0037986577200161205, \"comparison_sort_order\": 2, \"iteration\": 4}, {\"comparison_name\": \"day_of_birth\", \"sql_condition\": \"\\\"day_of_birth_l\\\" = \\\"day_of_birth_r\\\"\", \"label_for_charts\": \"Exact match\", \"m_probability\": 0.9747982587870623, \"u_probability\": 0.032483267196893574, \"m_probability_description\": \"Amongst matching record comparisons, 97.48% of records are in the exact match comparison level\", \"u_probability_description\": \"Amongst non-matching record comparisons, 3.25% of records are in the exact match comparison level\", \"has_tf_adjustments\": false, \"tf_adjustment_column\": null, \"tf_adjustment_weight\": 1.0, \"is_null_level\": false, \"bayes_factor\": 30.00924300127925, \"log2_bayes_factor\": 4.907335021551824, \"comparison_vector_value\": 2, \"max_comparison_vector_value\": 2, \"bayes_factor_description\": \"If comparison level is `exact match` then comparison is 30.01 times more likely to be a match\", \"probability_two_random_records_match\": 0.0037986577200161205, \"comparison_sort_order\": 3, \"iteration\": 4}, {\"comparison_name\": \"day_of_birth\", \"sql_condition\": \"abs(day_of_birth_l - day_of_birth_r) <= 5\", \"label_for_charts\": \"Inexact match\", \"m_probability\": 0.017322030149844722, \"u_probability\": 0.2953114089616295, \"m_probability_description\": \"Amongst matching record comparisons, 1.73% of records are in the inexact match comparison level\", \"u_probability_description\": \"Amongst non-matching record comparisons, 29.53% of records are in the inexact match comparison level\", \"has_tf_adjustments\": false, \"tf_adjustment_column\": null, \"tf_adjustment_weight\": 1.0, \"is_null_level\": false, \"bayes_factor\": 0.058656826740125755, \"log2_bayes_factor\": -4.091557164539301, \"comparison_vector_value\": 1, \"max_comparison_vector_value\": 2, \"bayes_factor_description\": \"If comparison level is `inexact match` then comparison is  17.05 times less likely to be a match\", \"probability_two_random_records_match\": 0.0037986577200161205, \"comparison_sort_order\": 3, \"iteration\": 4}, {\"comparison_name\": \"day_of_birth\", \"sql_condition\": \"ELSE\", \"label_for_charts\": \"All other comparisons\", \"m_probability\": 0.007879711063092992, \"u_probability\": 0.6722053238414769, \"m_probability_description\": \"Amongst matching record comparisons, 0.79% of records are in the all other comparisons comparison level\", \"u_probability_description\": \"Amongst non-matching record comparisons, 67.22% of records are in the all other comparisons comparison level\", \"has_tf_adjustments\": false, \"tf_adjustment_column\": null, \"tf_adjustment_weight\": 1.0, \"is_null_level\": false, \"bayes_factor\": 0.01172217889924244, \"log2_bayes_factor\": -6.414615429318278, \"comparison_vector_value\": 0, \"max_comparison_vector_value\": 2, \"bayes_factor_description\": \"If comparison level is `all other comparisons` then comparison is  85.31 times less likely to be a match\", \"probability_two_random_records_match\": 0.0037986577200161205, \"comparison_sort_order\": 3, \"iteration\": 4}, {\"comparison_name\": \"month_of_birth\", \"sql_condition\": \"\\\"month_of_birth_l\\\" = \\\"month_of_birth_r\\\"\", \"label_for_charts\": \"Exact match\", \"m_probability\": 0.9883102817746314, \"u_probability\": 0.0832547076088129, \"m_probability_description\": \"Amongst matching record comparisons, 98.83% of records are in the exact match comparison level\", \"u_probability_description\": \"Amongst non-matching record comparisons, 8.33% of records are in the exact match comparison level\", \"has_tf_adjustments\": false, \"tf_adjustment_column\": null, \"tf_adjustment_weight\": 1.0, \"is_null_level\": false, \"bayes_factor\": 11.870923701016208, \"log2_bayes_factor\": 3.5693602933067012, \"comparison_vector_value\": 2, \"max_comparison_vector_value\": 2, \"bayes_factor_description\": \"If comparison level is `exact match` then comparison is 11.87 times more likely to be a match\", \"probability_two_random_records_match\": 0.0037986577200161205, \"comparison_sort_order\": 4, \"iteration\": 4}, {\"comparison_name\": \"month_of_birth\", \"sql_condition\": \"abs(month_of_birth_l - month_of_birth_r) <= 3\", \"label_for_charts\": \"Inexact match\", \"m_probability\": 0.0009911475974097408, \"u_probability\": 0.41938802504669287, \"m_probability_description\": \"Amongst matching record comparisons, 0.10% of records are in the inexact match comparison level\", \"u_probability_description\": \"Amongst non-matching record comparisons, 41.94% of records are in the inexact match comparison level\", \"has_tf_adjustments\": false, \"tf_adjustment_column\": null, \"tf_adjustment_weight\": 1.0, \"is_null_level\": false, \"bayes_factor\": 0.002363318784076848, \"log2_bayes_factor\": -8.724970039528378, \"comparison_vector_value\": 1, \"max_comparison_vector_value\": 2, \"bayes_factor_description\": \"If comparison level is `inexact match` then comparison is  423.13 times less likely to be a match\", \"probability_two_random_records_match\": 0.0037986577200161205, \"comparison_sort_order\": 4, \"iteration\": 4}, {\"comparison_name\": \"month_of_birth\", \"sql_condition\": \"ELSE\", \"label_for_charts\": \"All other comparisons\", \"m_probability\": 0.010698570627958752, \"u_probability\": 0.4973572673444942, \"m_probability_description\": \"Amongst matching record comparisons, 1.07% of records are in the all other comparisons comparison level\", \"u_probability_description\": \"Amongst non-matching record comparisons, 49.74% of records are in the all other comparisons comparison level\", \"has_tf_adjustments\": false, \"tf_adjustment_column\": null, \"tf_adjustment_weight\": 1.0, \"is_null_level\": false, \"bayes_factor\": 0.02151083603358387, \"log2_bayes_factor\": -5.538792592579236, \"comparison_vector_value\": 0, \"max_comparison_vector_value\": 2, \"bayes_factor_description\": \"If comparison level is `all other comparisons` then comparison is  46.49 times less likely to be a match\", \"probability_two_random_records_match\": 0.0037986577200161205, \"comparison_sort_order\": 4, \"iteration\": 4}, {\"comparison_name\": \"year_of_birth\", \"sql_condition\": \"\\\"year_of_birth_l\\\" = \\\"year_of_birth_r\\\"\", \"label_for_charts\": \"Exact match\", \"m_probability\": 0.9650498196326451, \"u_probability\": 0.01093448234753138, \"m_probability_description\": \"Amongst matching record comparisons, 96.50% of records are in the exact match comparison level\", \"u_probability_description\": \"Amongst non-matching record comparisons, 1.09% of records are in the exact match comparison level\", \"has_tf_adjustments\": false, \"tf_adjustment_column\": null, \"tf_adjustment_weight\": 1.0, \"is_null_level\": false, \"bayes_factor\": 88.25747657368704, \"log2_bayes_factor\": 6.4636465937685434, \"comparison_vector_value\": 2, \"max_comparison_vector_value\": 2, \"bayes_factor_description\": \"If comparison level is `exact match` then comparison is 88.26 times more likely to be a match\", \"probability_two_random_records_match\": 0.0037986577200161205, \"comparison_sort_order\": 5, \"iteration\": 4}, {\"comparison_name\": \"year_of_birth\", \"sql_condition\": \"abs(year_of_birth_l - year_of_birth_r) <= 5\", \"label_for_charts\": \"Inexact match\", \"m_probability\": 0.013252516559110942, \"u_probability\": 0.10883934805933546, \"m_probability_description\": \"Amongst matching record comparisons, 1.33% of records are in the inexact match comparison level\", \"u_probability_description\": \"Amongst non-matching record comparisons, 10.88% of records are in the inexact match comparison level\", \"has_tf_adjustments\": false, \"tf_adjustment_column\": null, \"tf_adjustment_weight\": 1.0, \"is_null_level\": false, \"bayes_factor\": 0.12176218247729789, \"log2_bayes_factor\": -3.03786197169414, \"comparison_vector_value\": 1, \"max_comparison_vector_value\": 2, \"bayes_factor_description\": \"If comparison level is `inexact match` then comparison is  8.21 times less likely to be a match\", \"probability_two_random_records_match\": 0.0037986577200161205, \"comparison_sort_order\": 5, \"iteration\": 4}, {\"comparison_name\": \"year_of_birth\", \"sql_condition\": \"ELSE\", \"label_for_charts\": \"All other comparisons\", \"m_probability\": 0.02169766380824396, \"u_probability\": 0.8802261695931332, \"m_probability_description\": \"Amongst matching record comparisons, 2.17% of records are in the all other comparisons comparison level\", \"u_probability_description\": \"Amongst non-matching record comparisons, 88.02% of records are in the all other comparisons comparison level\", \"has_tf_adjustments\": false, \"tf_adjustment_column\": null, \"tf_adjustment_weight\": 1.0, \"is_null_level\": false, \"bayes_factor\": 0.02465010080110805, \"log2_bayes_factor\": -5.342262643578785, \"comparison_vector_value\": 0, \"max_comparison_vector_value\": 2, \"bayes_factor_description\": \"If comparison level is `all other comparisons` then comparison is  40.57 times less likely to be a match\", \"probability_two_random_records_match\": 0.0037986577200161205, \"comparison_sort_order\": 5, \"iteration\": 4}, {\"comparison_name\": \"first_name_15\", \"sql_condition\": \"\\\"first_name_15_l\\\" = \\\"first_name_15_r\\\"\", \"label_for_charts\": \"Exact match\", \"m_probability\": 0.8382778911587945, \"u_probability\": 0.0019154243869072766, \"m_probability_description\": \"Amongst matching record comparisons, 83.83% of records are in the exact match comparison level\", \"u_probability_description\": \"Amongst non-matching record comparisons, 0.19% of records are in the exact match comparison level\", \"has_tf_adjustments\": false, \"tf_adjustment_column\": null, \"tf_adjustment_weight\": 1.0, \"is_null_level\": false, \"bayes_factor\": 437.64603650698666, \"log2_bayes_factor\": 8.773620694694463, \"comparison_vector_value\": 2, \"max_comparison_vector_value\": 2, \"bayes_factor_description\": \"If comparison level is `exact match` then comparison is 437.65 times more likely to be a match\", \"probability_two_random_records_match\": 0.0037986577200161205, \"comparison_sort_order\": 0, \"iteration\": 5}, {\"comparison_name\": \"first_name_15\", \"sql_condition\": \"jaro_winkler_similarity(\\\"first_name_15_l\\\", \\\"first_name_15_r\\\") >= 0.8333333333333334\", \"label_for_charts\": \"Jaro_winkler_similarity >= 0.8333333333333334\", \"m_probability\": 0.08698580149982571, \"u_probability\": 0.003534009294465568, \"m_probability_description\": \"Amongst matching record comparisons, 8.70% of records are in the jaro_winkler_similarity >= 0.8333333333333334 comparison level\", \"u_probability_description\": \"Amongst non-matching record comparisons, 0.35% of records are in the jaro_winkler_similarity >= 0.8333333333333334 comparison level\", \"has_tf_adjustments\": false, \"tf_adjustment_column\": null, \"tf_adjustment_weight\": 1.0, \"is_null_level\": false, \"bayes_factor\": 24.613914184110875, \"log2_bayes_factor\": 4.62140219295089, \"comparison_vector_value\": 1, \"max_comparison_vector_value\": 2, \"bayes_factor_description\": \"If comparison level is `jaro_winkler_similarity >= 0.8333333333333334` then comparison is 24.61 times more likely to be a match\", \"probability_two_random_records_match\": 0.0037986577200161205, \"comparison_sort_order\": 0, \"iteration\": 5}, {\"comparison_name\": \"first_name_15\", \"sql_condition\": \"ELSE\", \"label_for_charts\": \"All other comparisons\", \"m_probability\": 0.0747363073413798, \"u_probability\": 0.9945505663186271, \"m_probability_description\": \"Amongst matching record comparisons, 7.47% of records are in the all other comparisons comparison level\", \"u_probability_description\": \"Amongst non-matching record comparisons, 99.46% of records are in the all other comparisons comparison level\", \"has_tf_adjustments\": false, \"tf_adjustment_column\": null, \"tf_adjustment_weight\": 1.0, \"is_null_level\": false, \"bayes_factor\": 0.07514580944639099, \"log2_bayes_factor\": -3.734163536191675, \"comparison_vector_value\": 0, \"max_comparison_vector_value\": 2, \"bayes_factor_description\": \"If comparison level is `all other comparisons` then comparison is  13.31 times less likely to be a match\", \"probability_two_random_records_match\": 0.0037986577200161205, \"comparison_sort_order\": 0, \"iteration\": 5}, {\"comparison_name\": \"last_name_12\", \"sql_condition\": \"\\\"last_name_12_l\\\" = \\\"last_name_12_r\\\"\", \"label_for_charts\": \"Exact match\", \"m_probability\": 0.8775780173629728, \"u_probability\": 0.0006988639102327646, \"m_probability_description\": \"Amongst matching record comparisons, 87.76% of records are in the exact match comparison level\", \"u_probability_description\": \"Amongst non-matching record comparisons, 0.07% of records are in the exact match comparison level\", \"has_tf_adjustments\": false, \"tf_adjustment_column\": null, \"tf_adjustment_weight\": 1.0, \"is_null_level\": false, \"bayes_factor\": 1255.7208986091232, \"log2_bayes_factor\": 10.29430012553383, \"comparison_vector_value\": 2, \"max_comparison_vector_value\": 2, \"bayes_factor_description\": \"If comparison level is `exact match` then comparison is 1,255.72 times more likely to be a match\", \"probability_two_random_records_match\": 0.0037986577200161205, \"comparison_sort_order\": 1, \"iteration\": 5}, {\"comparison_name\": \"last_name_12\", \"sql_condition\": \"jaro_winkler_similarity(\\\"last_name_12_l\\\", \\\"last_name_12_r\\\") >= 0.8333333333333334\", \"label_for_charts\": \"Jaro_winkler_similarity >= 0.8333333333333334\", \"m_probability\": 0.10192215760795872, \"u_probability\": 0.0013365997755498443, \"m_probability_description\": \"Amongst matching record comparisons, 10.19% of records are in the jaro_winkler_similarity >= 0.8333333333333334 comparison level\", \"u_probability_description\": \"Amongst non-matching record comparisons, 0.13% of records are in the jaro_winkler_similarity >= 0.8333333333333334 comparison level\", \"has_tf_adjustments\": false, \"tf_adjustment_column\": null, \"tf_adjustment_weight\": 1.0, \"is_null_level\": false, \"bayes_factor\": 76.25480676594492, \"log2_bayes_factor\": 6.25275637643478, \"comparison_vector_value\": 1, \"max_comparison_vector_value\": 2, \"bayes_factor_description\": \"If comparison level is `jaro_winkler_similarity >= 0.8333333333333334` then comparison is 76.25 times more likely to be a match\", \"probability_two_random_records_match\": 0.0037986577200161205, \"comparison_sort_order\": 1, \"iteration\": 5}, {\"comparison_name\": \"last_name_12\", \"sql_condition\": \"ELSE\", \"label_for_charts\": \"All other comparisons\", \"m_probability\": 0.02049982502906846, \"u_probability\": 0.9979645363142174, \"m_probability_description\": \"Amongst matching record comparisons, 2.05% of records are in the all other comparisons comparison level\", \"u_probability_description\": \"Amongst non-matching record comparisons, 99.80% of records are in the all other comparisons comparison level\", \"has_tf_adjustments\": false, \"tf_adjustment_column\": null, \"tf_adjustment_weight\": 1.0, \"is_null_level\": false, \"bayes_factor\": 0.020541636784790436, \"log2_bayes_factor\": -5.605305047689275, \"comparison_vector_value\": 0, \"max_comparison_vector_value\": 2, \"bayes_factor_description\": \"If comparison level is `all other comparisons` then comparison is  48.68 times less likely to be a match\", \"probability_two_random_records_match\": 0.0037986577200161205, \"comparison_sort_order\": 1, \"iteration\": 5}, {\"comparison_name\": \"middle_initial\", \"sql_condition\": \"\\\"middle_initial_l\\\" = \\\"middle_initial_r\\\"\", \"label_for_charts\": \"Exact match\", \"m_probability\": 0.9320470049391518, \"u_probability\": 0.07417855709636824, \"m_probability_description\": \"Amongst matching record comparisons, 93.20% of records are in the exact match comparison level\", \"u_probability_description\": \"Amongst non-matching record comparisons, 7.42% of records are in the exact match comparison level\", \"has_tf_adjustments\": false, \"tf_adjustment_column\": null, \"tf_adjustment_weight\": 1.0, \"is_null_level\": false, \"bayes_factor\": 12.564911497648753, \"log2_bayes_factor\": 3.651328604358782, \"comparison_vector_value\": 1, \"max_comparison_vector_value\": 1, \"bayes_factor_description\": \"If comparison level is `exact match` then comparison is 12.56 times more likely to be a match\", \"probability_two_random_records_match\": 0.0037986577200161205, \"comparison_sort_order\": 2, \"iteration\": 5}, {\"comparison_name\": \"middle_initial\", \"sql_condition\": \"ELSE\", \"label_for_charts\": \"All other comparisons\", \"m_probability\": 0.0679529950608481, \"u_probability\": 0.9258214429036318, \"m_probability_description\": \"Amongst matching record comparisons, 6.80% of records are in the all other comparisons comparison level\", \"u_probability_description\": \"Amongst non-matching record comparisons, 92.58% of records are in the all other comparisons comparison level\", \"has_tf_adjustments\": false, \"tf_adjustment_column\": null, \"tf_adjustment_weight\": 1.0, \"is_null_level\": false, \"bayes_factor\": 0.07339751696366931, \"log2_bayes_factor\": -3.76812493222114, \"comparison_vector_value\": 0, \"max_comparison_vector_value\": 1, \"bayes_factor_description\": \"If comparison level is `all other comparisons` then comparison is  13.62 times less likely to be a match\", \"probability_two_random_records_match\": 0.0037986577200161205, \"comparison_sort_order\": 2, \"iteration\": 5}, {\"comparison_name\": \"day_of_birth\", \"sql_condition\": \"\\\"day_of_birth_l\\\" = \\\"day_of_birth_r\\\"\", \"label_for_charts\": \"Exact match\", \"m_probability\": 0.9751761801041376, \"u_probability\": 0.032483267196893574, \"m_probability_description\": \"Amongst matching record comparisons, 97.52% of records are in the exact match comparison level\", \"u_probability_description\": \"Amongst non-matching record comparisons, 3.25% of records are in the exact match comparison level\", \"has_tf_adjustments\": false, \"tf_adjustment_column\": null, \"tf_adjustment_weight\": 1.0, \"is_null_level\": false, \"bayes_factor\": 30.020877339499744, \"log2_bayes_factor\": 4.907894234232712, \"comparison_vector_value\": 2, \"max_comparison_vector_value\": 2, \"bayes_factor_description\": \"If comparison level is `exact match` then comparison is 30.02 times more likely to be a match\", \"probability_two_random_records_match\": 0.0037986577200161205, \"comparison_sort_order\": 3, \"iteration\": 5}, {\"comparison_name\": \"day_of_birth\", \"sql_condition\": \"abs(day_of_birth_l - day_of_birth_r) <= 5\", \"label_for_charts\": \"Inexact match\", \"m_probability\": 0.017046766159708255, \"u_probability\": 0.2953114089616295, \"m_probability_description\": \"Amongst matching record comparisons, 1.70% of records are in the inexact match comparison level\", \"u_probability_description\": \"Amongst non-matching record comparisons, 29.53% of records are in the inexact match comparison level\", \"has_tf_adjustments\": false, \"tf_adjustment_column\": null, \"tf_adjustment_weight\": 1.0, \"is_null_level\": false, \"bayes_factor\": 0.05772471243033885, \"log2_bayes_factor\": -4.11466710889283, \"comparison_vector_value\": 1, \"max_comparison_vector_value\": 2, \"bayes_factor_description\": \"If comparison level is `inexact match` then comparison is  17.32 times less likely to be a match\", \"probability_two_random_records_match\": 0.0037986577200161205, \"comparison_sort_order\": 3, \"iteration\": 5}, {\"comparison_name\": \"day_of_birth\", \"sql_condition\": \"ELSE\", \"label_for_charts\": \"All other comparisons\", \"m_probability\": 0.007777053736154198, \"u_probability\": 0.6722053238414769, \"m_probability_description\": \"Amongst matching record comparisons, 0.78% of records are in the all other comparisons comparison level\", \"u_probability_description\": \"Amongst non-matching record comparisons, 67.22% of records are in the all other comparisons comparison level\", \"has_tf_adjustments\": false, \"tf_adjustment_column\": null, \"tf_adjustment_weight\": 1.0, \"is_null_level\": false, \"bayes_factor\": 0.011569461681306507, \"log2_bayes_factor\": -6.4335344513256265, \"comparison_vector_value\": 0, \"max_comparison_vector_value\": 2, \"bayes_factor_description\": \"If comparison level is `all other comparisons` then comparison is  86.43 times less likely to be a match\", \"probability_two_random_records_match\": 0.0037986577200161205, \"comparison_sort_order\": 3, \"iteration\": 5}, {\"comparison_name\": \"month_of_birth\", \"sql_condition\": \"\\\"month_of_birth_l\\\" = \\\"month_of_birth_r\\\"\", \"label_for_charts\": \"Exact match\", \"m_probability\": 0.9886775533196199, \"u_probability\": 0.0832547076088129, \"m_probability_description\": \"Amongst matching record comparisons, 98.87% of records are in the exact match comparison level\", \"u_probability_description\": \"Amongst non-matching record comparisons, 8.33% of records are in the exact match comparison level\", \"has_tf_adjustments\": false, \"tf_adjustment_column\": null, \"tf_adjustment_weight\": 1.0, \"is_null_level\": false, \"bayes_factor\": 11.875335121769904, \"log2_bayes_factor\": 3.569896321736724, \"comparison_vector_value\": 2, \"max_comparison_vector_value\": 2, \"bayes_factor_description\": \"If comparison level is `exact match` then comparison is 11.88 times more likely to be a match\", \"probability_two_random_records_match\": 0.0037986577200161205, \"comparison_sort_order\": 4, \"iteration\": 5}, {\"comparison_name\": \"month_of_birth\", \"sql_condition\": \"abs(month_of_birth_l - month_of_birth_r) <= 3\", \"label_for_charts\": \"Inexact match\", \"m_probability\": 0.0006562406265388272, \"u_probability\": 0.41938802504669287, \"m_probability_description\": \"Amongst matching record comparisons, 0.07% of records are in the inexact match comparison level\", \"u_probability_description\": \"Amongst non-matching record comparisons, 41.94% of records are in the inexact match comparison level\", \"has_tf_adjustments\": false, \"tf_adjustment_column\": null, \"tf_adjustment_weight\": 1.0, \"is_null_level\": false, \"bayes_factor\": 0.0015647576643748095, \"log2_bayes_factor\": -9.319845041865868, \"comparison_vector_value\": 1, \"max_comparison_vector_value\": 2, \"bayes_factor_description\": \"If comparison level is `inexact match` then comparison is  639.08 times less likely to be a match\", \"probability_two_random_records_match\": 0.0037986577200161205, \"comparison_sort_order\": 4, \"iteration\": 5}, {\"comparison_name\": \"month_of_birth\", \"sql_condition\": \"ELSE\", \"label_for_charts\": \"All other comparisons\", \"m_probability\": 0.010666206053841243, \"u_probability\": 0.4973572673444942, \"m_probability_description\": \"Amongst matching record comparisons, 1.07% of records are in the all other comparisons comparison level\", \"u_probability_description\": \"Amongst non-matching record comparisons, 49.74% of records are in the all other comparisons comparison level\", \"has_tf_adjustments\": false, \"tf_adjustment_column\": null, \"tf_adjustment_weight\": 1.0, \"is_null_level\": false, \"bayes_factor\": 0.021445762943790067, \"log2_bayes_factor\": -5.543163548287463, \"comparison_vector_value\": 0, \"max_comparison_vector_value\": 2, \"bayes_factor_description\": \"If comparison level is `all other comparisons` then comparison is  46.63 times less likely to be a match\", \"probability_two_random_records_match\": 0.0037986577200161205, \"comparison_sort_order\": 4, \"iteration\": 5}, {\"comparison_name\": \"year_of_birth\", \"sql_condition\": \"\\\"year_of_birth_l\\\" = \\\"year_of_birth_r\\\"\", \"label_for_charts\": \"Exact match\", \"m_probability\": 0.9654240242664783, \"u_probability\": 0.01093448234753138, \"m_probability_description\": \"Amongst matching record comparisons, 96.54% of records are in the exact match comparison level\", \"u_probability_description\": \"Amongst non-matching record comparisons, 1.09% of records are in the exact match comparison level\", \"has_tf_adjustments\": false, \"tf_adjustment_column\": null, \"tf_adjustment_weight\": 1.0, \"is_null_level\": false, \"bayes_factor\": 88.29169901073891, \"log2_bayes_factor\": 6.46420590015643, \"comparison_vector_value\": 2, \"max_comparison_vector_value\": 2, \"bayes_factor_description\": \"If comparison level is `exact match` then comparison is 88.29 times more likely to be a match\", \"probability_two_random_records_match\": 0.0037986577200161205, \"comparison_sort_order\": 5, \"iteration\": 5}, {\"comparison_name\": \"year_of_birth\", \"sql_condition\": \"abs(year_of_birth_l - year_of_birth_r) <= 5\", \"label_for_charts\": \"Inexact match\", \"m_probability\": 0.013253417546264506, \"u_probability\": 0.10883934805933546, \"m_probability_description\": \"Amongst matching record comparisons, 1.33% of records are in the inexact match comparison level\", \"u_probability_description\": \"Amongst non-matching record comparisons, 10.88% of records are in the inexact match comparison level\", \"has_tf_adjustments\": false, \"tf_adjustment_column\": null, \"tf_adjustment_weight\": 1.0, \"is_null_level\": false, \"bayes_factor\": 0.12177046061539436, \"log2_bayes_factor\": -3.0377638917929612, \"comparison_vector_value\": 1, \"max_comparison_vector_value\": 2, \"bayes_factor_description\": \"If comparison level is `inexact match` then comparison is  8.21 times less likely to be a match\", \"probability_two_random_records_match\": 0.0037986577200161205, \"comparison_sort_order\": 5, \"iteration\": 5}, {\"comparison_name\": \"year_of_birth\", \"sql_condition\": \"ELSE\", \"label_for_charts\": \"All other comparisons\", \"m_probability\": 0.0213225581872572, \"u_probability\": 0.8802261695931332, \"m_probability_description\": \"Amongst matching record comparisons, 2.13% of records are in the all other comparisons comparison level\", \"u_probability_description\": \"Amongst non-matching record comparisons, 88.02% of records are in the all other comparisons comparison level\", \"has_tf_adjustments\": false, \"tf_adjustment_column\": null, \"tf_adjustment_weight\": 1.0, \"is_null_level\": false, \"bayes_factor\": 0.02422395393801246, \"log2_bayes_factor\": -5.3674218226287405, \"comparison_vector_value\": 0, \"max_comparison_vector_value\": 2, \"bayes_factor_description\": \"If comparison level is `all other comparisons` then comparison is  41.28 times less likely to be a match\", \"probability_two_random_records_match\": 0.0037986577200161205, \"comparison_sort_order\": 5, \"iteration\": 5}, {\"comparison_name\": \"first_name_15\", \"sql_condition\": \"\\\"first_name_15_l\\\" = \\\"first_name_15_r\\\"\", \"label_for_charts\": \"Exact match\", \"m_probability\": 0.838244304243064, \"u_probability\": 0.0019154243869072766, \"m_probability_description\": \"Amongst matching record comparisons, 83.82% of records are in the exact match comparison level\", \"u_probability_description\": \"Amongst non-matching record comparisons, 0.19% of records are in the exact match comparison level\", \"has_tf_adjustments\": false, \"tf_adjustment_column\": null, \"tf_adjustment_weight\": 1.0, \"is_null_level\": false, \"bayes_factor\": 437.6285015335572, \"log2_bayes_factor\": 8.773562889701601, \"comparison_vector_value\": 2, \"max_comparison_vector_value\": 2, \"bayes_factor_description\": \"If comparison level is `exact match` then comparison is 437.63 times more likely to be a match\", \"probability_two_random_records_match\": 0.0037986577200161205, \"comparison_sort_order\": 0, \"iteration\": 6}, {\"comparison_name\": \"first_name_15\", \"sql_condition\": \"jaro_winkler_similarity(\\\"first_name_15_l\\\", \\\"first_name_15_r\\\") >= 0.8333333333333334\", \"label_for_charts\": \"Jaro_winkler_similarity >= 0.8333333333333334\", \"m_probability\": 0.08700399912939207, \"u_probability\": 0.003534009294465568, \"m_probability_description\": \"Amongst matching record comparisons, 8.70% of records are in the jaro_winkler_similarity >= 0.8333333333333334 comparison level\", \"u_probability_description\": \"Amongst non-matching record comparisons, 0.35% of records are in the jaro_winkler_similarity >= 0.8333333333333334 comparison level\", \"has_tf_adjustments\": false, \"tf_adjustment_column\": null, \"tf_adjustment_weight\": 1.0, \"is_null_level\": false, \"bayes_factor\": 24.619063471520743, \"log2_bayes_factor\": 4.621703976502938, \"comparison_vector_value\": 1, \"max_comparison_vector_value\": 2, \"bayes_factor_description\": \"If comparison level is `jaro_winkler_similarity >= 0.8333333333333334` then comparison is 24.62 times more likely to be a match\", \"probability_two_random_records_match\": 0.0037986577200161205, \"comparison_sort_order\": 0, \"iteration\": 6}, {\"comparison_name\": \"first_name_15\", \"sql_condition\": \"ELSE\", \"label_for_charts\": \"All other comparisons\", \"m_probability\": 0.07475169662754401, \"u_probability\": 0.9945505663186271, \"m_probability_description\": \"Amongst matching record comparisons, 7.48% of records are in the all other comparisons comparison level\", \"u_probability_description\": \"Amongst non-matching record comparisons, 99.46% of records are in the all other comparisons comparison level\", \"has_tf_adjustments\": false, \"tf_adjustment_column\": null, \"tf_adjustment_weight\": 1.0, \"is_null_level\": false, \"bayes_factor\": 0.0751612830549589, \"log2_bayes_factor\": -3.733866495006819, \"comparison_vector_value\": 0, \"max_comparison_vector_value\": 2, \"bayes_factor_description\": \"If comparison level is `all other comparisons` then comparison is  13.30 times less likely to be a match\", \"probability_two_random_records_match\": 0.0037986577200161205, \"comparison_sort_order\": 0, \"iteration\": 6}, {\"comparison_name\": \"last_name_12\", \"sql_condition\": \"\\\"last_name_12_l\\\" = \\\"last_name_12_r\\\"\", \"label_for_charts\": \"Exact match\", \"m_probability\": 0.8775504263232454, \"u_probability\": 0.0006988639102327646, \"m_probability_description\": \"Amongst matching record comparisons, 87.76% of records are in the exact match comparison level\", \"u_probability_description\": \"Amongst non-matching record comparisons, 0.07% of records are in the exact match comparison level\", \"has_tf_adjustments\": false, \"tf_adjustment_column\": null, \"tf_adjustment_weight\": 1.0, \"is_null_level\": false, \"bayes_factor\": 1255.6814187628709, \"log2_bayes_factor\": 10.294254766510296, \"comparison_vector_value\": 2, \"max_comparison_vector_value\": 2, \"bayes_factor_description\": \"If comparison level is `exact match` then comparison is 1,255.68 times more likely to be a match\", \"probability_two_random_records_match\": 0.0037986577200161205, \"comparison_sort_order\": 1, \"iteration\": 6}, {\"comparison_name\": \"last_name_12\", \"sql_condition\": \"jaro_winkler_similarity(\\\"last_name_12_l\\\", \\\"last_name_12_r\\\") >= 0.8333333333333334\", \"label_for_charts\": \"Jaro_winkler_similarity >= 0.8333333333333334\", \"m_probability\": 0.10194370727165127, \"u_probability\": 0.0013365997755498443, \"m_probability_description\": \"Amongst matching record comparisons, 10.19% of records are in the jaro_winkler_similarity >= 0.8333333333333334 comparison level\", \"u_probability_description\": \"Amongst non-matching record comparisons, 0.13% of records are in the jaro_winkler_similarity >= 0.8333333333333334 comparison level\", \"has_tf_adjustments\": false, \"tf_adjustment_column\": null, \"tf_adjustment_weight\": 1.0, \"is_null_level\": false, \"bayes_factor\": 76.2709295156915, \"log2_bayes_factor\": 6.253061376912189, \"comparison_vector_value\": 1, \"max_comparison_vector_value\": 2, \"bayes_factor_description\": \"If comparison level is `jaro_winkler_similarity >= 0.8333333333333334` then comparison is 76.27 times more likely to be a match\", \"probability_two_random_records_match\": 0.0037986577200161205, \"comparison_sort_order\": 1, \"iteration\": 6}, {\"comparison_name\": \"last_name_12\", \"sql_condition\": \"ELSE\", \"label_for_charts\": \"All other comparisons\", \"m_probability\": 0.020505866405103386, \"u_probability\": 0.9979645363142174, \"m_probability_description\": \"Amongst matching record comparisons, 2.05% of records are in the all other comparisons comparison level\", \"u_probability_description\": \"Amongst non-matching record comparisons, 99.80% of records are in the all other comparisons comparison level\", \"has_tf_adjustments\": false, \"tf_adjustment_column\": null, \"tf_adjustment_weight\": 1.0, \"is_null_level\": false, \"bayes_factor\": 0.020547690482908044, \"log2_bayes_factor\": -5.604879942636589, \"comparison_vector_value\": 0, \"max_comparison_vector_value\": 2, \"bayes_factor_description\": \"If comparison level is `all other comparisons` then comparison is  48.67 times less likely to be a match\", \"probability_two_random_records_match\": 0.0037986577200161205, \"comparison_sort_order\": 1, \"iteration\": 6}, {\"comparison_name\": \"middle_initial\", \"sql_condition\": \"\\\"middle_initial_l\\\" = \\\"middle_initial_r\\\"\", \"label_for_charts\": \"Exact match\", \"m_probability\": 0.9320277853051123, \"u_probability\": 0.07417855709636824, \"m_probability_description\": \"Amongst matching record comparisons, 93.20% of records are in the exact match comparison level\", \"u_probability_description\": \"Amongst non-matching record comparisons, 7.42% of records are in the exact match comparison level\", \"has_tf_adjustments\": false, \"tf_adjustment_column\": null, \"tf_adjustment_weight\": 1.0, \"is_null_level\": false, \"bayes_factor\": 12.564652398054587, \"log2_bayes_factor\": 3.651298854403617, \"comparison_vector_value\": 1, \"max_comparison_vector_value\": 1, \"bayes_factor_description\": \"If comparison level is `exact match` then comparison is 12.56 times more likely to be a match\", \"probability_two_random_records_match\": 0.0037986577200161205, \"comparison_sort_order\": 2, \"iteration\": 6}, {\"comparison_name\": \"middle_initial\", \"sql_condition\": \"ELSE\", \"label_for_charts\": \"All other comparisons\", \"m_probability\": 0.06797221469488769, \"u_probability\": 0.9258214429036318, \"m_probability_description\": \"Amongst matching record comparisons, 6.80% of records are in the all other comparisons comparison level\", \"u_probability_description\": \"Amongst non-matching record comparisons, 92.58% of records are in the all other comparisons comparison level\", \"has_tf_adjustments\": false, \"tf_adjustment_column\": null, \"tf_adjustment_weight\": 1.0, \"is_null_level\": false, \"bayes_factor\": 0.07341827651097392, \"log2_bayes_factor\": -3.767716942107294, \"comparison_vector_value\": 0, \"max_comparison_vector_value\": 1, \"bayes_factor_description\": \"If comparison level is `all other comparisons` then comparison is  13.62 times less likely to be a match\", \"probability_two_random_records_match\": 0.0037986577200161205, \"comparison_sort_order\": 2, \"iteration\": 6}, {\"comparison_name\": \"day_of_birth\", \"sql_condition\": \"\\\"day_of_birth_l\\\" = \\\"day_of_birth_r\\\"\", \"label_for_charts\": \"Exact match\", \"m_probability\": 0.9754331900213216, \"u_probability\": 0.032483267196893574, \"m_probability_description\": \"Amongst matching record comparisons, 97.54% of records are in the exact match comparison level\", \"u_probability_description\": \"Amongst non-matching record comparisons, 3.25% of records are in the exact match comparison level\", \"has_tf_adjustments\": false, \"tf_adjustment_column\": null, \"tf_adjustment_weight\": 1.0, \"is_null_level\": false, \"bayes_factor\": 30.028789410524684, \"log2_bayes_factor\": 4.908274409721259, \"comparison_vector_value\": 2, \"max_comparison_vector_value\": 2, \"bayes_factor_description\": \"If comparison level is `exact match` then comparison is 30.03 times more likely to be a match\", \"probability_two_random_records_match\": 0.0037986577200161205, \"comparison_sort_order\": 3, \"iteration\": 6}, {\"comparison_name\": \"day_of_birth\", \"sql_condition\": \"abs(day_of_birth_l - day_of_birth_r) <= 5\", \"label_for_charts\": \"Inexact match\", \"m_probability\": 0.016859973405862837, \"u_probability\": 0.2953114089616295, \"m_probability_description\": \"Amongst matching record comparisons, 1.69% of records are in the inexact match comparison level\", \"u_probability_description\": \"Amongst non-matching record comparisons, 29.53% of records are in the inexact match comparison level\", \"has_tf_adjustments\": false, \"tf_adjustment_column\": null, \"tf_adjustment_weight\": 1.0, \"is_null_level\": false, \"bayes_factor\": 0.057092184366143106, \"log2_bayes_factor\": -4.130562928388996, \"comparison_vector_value\": 1, \"max_comparison_vector_value\": 2, \"bayes_factor_description\": \"If comparison level is `inexact match` then comparison is  17.52 times less likely to be a match\", \"probability_two_random_records_match\": 0.0037986577200161205, \"comparison_sort_order\": 3, \"iteration\": 6}, {\"comparison_name\": \"day_of_birth\", \"sql_condition\": \"ELSE\", \"label_for_charts\": \"All other comparisons\", \"m_probability\": 0.007706836572815607, \"u_probability\": 0.6722053238414769, \"m_probability_description\": \"Amongst matching record comparisons, 0.77% of records are in the all other comparisons comparison level\", \"u_probability_description\": \"Amongst non-matching record comparisons, 67.22% of records are in the all other comparisons comparison level\", \"has_tf_adjustments\": false, \"tf_adjustment_column\": null, \"tf_adjustment_weight\": 1.0, \"is_null_level\": false, \"bayes_factor\": 0.011465003771129125, \"log2_bayes_factor\": -6.4466193603171265, \"comparison_vector_value\": 0, \"max_comparison_vector_value\": 2, \"bayes_factor_description\": \"If comparison level is `all other comparisons` then comparison is  87.22 times less likely to be a match\", \"probability_two_random_records_match\": 0.0037986577200161205, \"comparison_sort_order\": 3, \"iteration\": 6}, {\"comparison_name\": \"month_of_birth\", \"sql_condition\": \"\\\"month_of_birth_l\\\" = \\\"month_of_birth_r\\\"\", \"label_for_charts\": \"Exact match\", \"m_probability\": 0.9889260312680703, \"u_probability\": 0.0832547076088129, \"m_probability_description\": \"Amongst matching record comparisons, 98.89% of records are in the exact match comparison level\", \"u_probability_description\": \"Amongst non-matching record comparisons, 8.33% of records are in the exact match comparison level\", \"has_tf_adjustments\": false, \"tf_adjustment_column\": null, \"tf_adjustment_weight\": 1.0, \"is_null_level\": false, \"bayes_factor\": 11.878319673101439, \"log2_bayes_factor\": 3.570258859414831, \"comparison_vector_value\": 2, \"max_comparison_vector_value\": 2, \"bayes_factor_description\": \"If comparison level is `exact match` then comparison is 11.88 times more likely to be a match\", \"probability_two_random_records_match\": 0.0037986577200161205, \"comparison_sort_order\": 4, \"iteration\": 6}, {\"comparison_name\": \"month_of_birth\", \"sql_condition\": \"abs(month_of_birth_l - month_of_birth_r) <= 3\", \"label_for_charts\": \"Inexact match\", \"m_probability\": 0.00043149172455338804, \"u_probability\": 0.41938802504669287, \"m_probability_description\": \"Amongst matching record comparisons, 0.04% of records are in the inexact match comparison level\", \"u_probability_description\": \"Amongst non-matching record comparisons, 41.94% of records are in the inexact match comparison level\", \"has_tf_adjustments\": false, \"tf_adjustment_column\": null, \"tf_adjustment_weight\": 1.0, \"is_null_level\": false, \"bayes_factor\": 0.0010288603841403139, \"log2_bayes_factor\": -9.924737062171983, \"comparison_vector_value\": 1, \"max_comparison_vector_value\": 2, \"bayes_factor_description\": \"If comparison level is `inexact match` then comparison is  971.95 times less likely to be a match\", \"probability_two_random_records_match\": 0.0037986577200161205, \"comparison_sort_order\": 4, \"iteration\": 6}, {\"comparison_name\": \"month_of_birth\", \"sql_condition\": \"ELSE\", \"label_for_charts\": \"All other comparisons\", \"m_probability\": 0.010642477007376326, \"u_probability\": 0.4973572673444942, \"m_probability_description\": \"Amongst matching record comparisons, 1.06% of records are in the all other comparisons comparison level\", \"u_probability_description\": \"Amongst non-matching record comparisons, 49.74% of records are in the all other comparisons comparison level\", \"has_tf_adjustments\": false, \"tf_adjustment_column\": null, \"tf_adjustment_weight\": 1.0, \"is_null_level\": false, \"bayes_factor\": 0.021398052679915545, \"log2_bayes_factor\": -5.546376678982815, \"comparison_vector_value\": 0, \"max_comparison_vector_value\": 2, \"bayes_factor_description\": \"If comparison level is `all other comparisons` then comparison is  46.73 times less likely to be a match\", \"probability_two_random_records_match\": 0.0037986577200161205, \"comparison_sort_order\": 4, \"iteration\": 6}, {\"comparison_name\": \"year_of_birth\", \"sql_condition\": \"\\\"year_of_birth_l\\\" = \\\"year_of_birth_r\\\"\", \"label_for_charts\": \"Exact match\", \"m_probability\": 0.965678468740318, \"u_probability\": 0.01093448234753138, \"m_probability_description\": \"Amongst matching record comparisons, 96.57% of records are in the exact match comparison level\", \"u_probability_description\": \"Amongst non-matching record comparisons, 1.09% of records are in the exact match comparison level\", \"has_tf_adjustments\": false, \"tf_adjustment_column\": null, \"tf_adjustment_weight\": 1.0, \"is_null_level\": false, \"bayes_factor\": 88.31496892565144, \"log2_bayes_factor\": 6.464586082755794, \"comparison_vector_value\": 2, \"max_comparison_vector_value\": 2, \"bayes_factor_description\": \"If comparison level is `exact match` then comparison is 88.31 times more likely to be a match\", \"probability_two_random_records_match\": 0.0037986577200161205, \"comparison_sort_order\": 5, \"iteration\": 6}, {\"comparison_name\": \"year_of_birth\", \"sql_condition\": \"abs(year_of_birth_l - year_of_birth_r) <= 5\", \"label_for_charts\": \"Inexact match\", \"m_probability\": 0.013253352515695826, \"u_probability\": 0.10883934805933546, \"m_probability_description\": \"Amongst matching record comparisons, 1.33% of records are in the inexact match comparison level\", \"u_probability_description\": \"Amongst non-matching record comparisons, 10.88% of records are in the inexact match comparison level\", \"has_tf_adjustments\": false, \"tf_adjustment_column\": null, \"tf_adjustment_weight\": 1.0, \"is_null_level\": false, \"bayes_factor\": 0.12176986312404733, \"log2_bayes_factor\": -3.037770970684786, \"comparison_vector_value\": 1, \"max_comparison_vector_value\": 2, \"bayes_factor_description\": \"If comparison level is `inexact match` then comparison is  8.21 times less likely to be a match\", \"probability_two_random_records_match\": 0.0037986577200161205, \"comparison_sort_order\": 5, \"iteration\": 6}, {\"comparison_name\": \"year_of_birth\", \"sql_condition\": \"ELSE\", \"label_for_charts\": \"All other comparisons\", \"m_probability\": 0.021068178743986102, \"u_probability\": 0.8802261695931332, \"m_probability_description\": \"Amongst matching record comparisons, 2.11% of records are in the all other comparisons comparison level\", \"u_probability_description\": \"Amongst non-matching record comparisons, 88.02% of records are in the all other comparisons comparison level\", \"has_tf_adjustments\": false, \"tf_adjustment_column\": null, \"tf_adjustment_weight\": 1.0, \"is_null_level\": false, \"bayes_factor\": 0.023934960663262766, \"log2_bayes_factor\": -5.3847367547620575, \"comparison_vector_value\": 0, \"max_comparison_vector_value\": 2, \"bayes_factor_description\": \"If comparison level is `all other comparisons` then comparison is  41.78 times less likely to be a match\", \"probability_two_random_records_match\": 0.0037986577200161205, \"comparison_sort_order\": 5, \"iteration\": 6}, {\"comparison_name\": \"first_name_15\", \"sql_condition\": \"\\\"first_name_15_l\\\" = \\\"first_name_15_r\\\"\", \"label_for_charts\": \"Exact match\", \"m_probability\": 0.8382243267653983, \"u_probability\": 0.0019154243869072766, \"m_probability_description\": \"Amongst matching record comparisons, 83.82% of records are in the exact match comparison level\", \"u_probability_description\": \"Amongst non-matching record comparisons, 0.19% of records are in the exact match comparison level\", \"has_tf_adjustments\": false, \"tf_adjustment_column\": null, \"tf_adjustment_weight\": 1.0, \"is_null_level\": false, \"bayes_factor\": 437.61807174170417, \"log2_bayes_factor\": 8.773528506227404, \"comparison_vector_value\": 2, \"max_comparison_vector_value\": 2, \"bayes_factor_description\": \"If comparison level is `exact match` then comparison is 437.62 times more likely to be a match\", \"probability_two_random_records_match\": 0.0037986577200161205, \"comparison_sort_order\": 0, \"iteration\": 7}, {\"comparison_name\": \"first_name_15\", \"sql_condition\": \"jaro_winkler_similarity(\\\"first_name_15_l\\\", \\\"first_name_15_r\\\") >= 0.8333333333333334\", \"label_for_charts\": \"Jaro_winkler_similarity >= 0.8333333333333334\", \"m_probability\": 0.08701636806881982, \"u_probability\": 0.003534009294465568, \"m_probability_description\": \"Amongst matching record comparisons, 8.70% of records are in the jaro_winkler_similarity >= 0.8333333333333334 comparison level\", \"u_probability_description\": \"Amongst non-matching record comparisons, 0.35% of records are in the jaro_winkler_similarity >= 0.8333333333333334 comparison level\", \"has_tf_adjustments\": false, \"tf_adjustment_column\": null, \"tf_adjustment_weight\": 1.0, \"is_null_level\": false, \"bayes_factor\": 24.622563445175913, \"log2_bayes_factor\": 4.621909062929209, \"comparison_vector_value\": 1, \"max_comparison_vector_value\": 2, \"bayes_factor_description\": \"If comparison level is `jaro_winkler_similarity >= 0.8333333333333334` then comparison is 24.62 times more likely to be a match\", \"probability_two_random_records_match\": 0.0037986577200161205, \"comparison_sort_order\": 0, \"iteration\": 7}, {\"comparison_name\": \"first_name_15\", \"sql_condition\": \"ELSE\", \"label_for_charts\": \"All other comparisons\", \"m_probability\": 0.07475930516578193, \"u_probability\": 0.9945505663186271, \"m_probability_description\": \"Amongst matching record comparisons, 7.48% of records are in the all other comparisons comparison level\", \"u_probability_description\": \"Amongst non-matching record comparisons, 99.46% of records are in the all other comparisons comparison level\", \"has_tf_adjustments\": false, \"tf_adjustment_column\": null, \"tf_adjustment_weight\": 1.0, \"is_null_level\": false, \"bayes_factor\": 0.07516893328260503, \"log2_bayes_factor\": -3.7337196589845587, \"comparison_vector_value\": 0, \"max_comparison_vector_value\": 2, \"bayes_factor_description\": \"If comparison level is `all other comparisons` then comparison is  13.30 times less likely to be a match\", \"probability_two_random_records_match\": 0.0037986577200161205, \"comparison_sort_order\": 0, \"iteration\": 7}, {\"comparison_name\": \"last_name_12\", \"sql_condition\": \"\\\"last_name_12_l\\\" = \\\"last_name_12_r\\\"\", \"label_for_charts\": \"Exact match\", \"m_probability\": 0.877531775776662, \"u_probability\": 0.0006988639102327646, \"m_probability_description\": \"Amongst matching record comparisons, 87.75% of records are in the exact match comparison level\", \"u_probability_description\": \"Amongst non-matching record comparisons, 0.07% of records are in the exact match comparison level\", \"has_tf_adjustments\": false, \"tf_adjustment_column\": null, \"tf_adjustment_weight\": 1.0, \"is_null_level\": false, \"bayes_factor\": 1255.654731812364, \"log2_bayes_factor\": 10.294224104640403, \"comparison_vector_value\": 2, \"max_comparison_vector_value\": 2, \"bayes_factor_description\": \"If comparison level is `exact match` then comparison is 1,255.65 times more likely to be a match\", \"probability_two_random_records_match\": 0.0037986577200161205, \"comparison_sort_order\": 1, \"iteration\": 7}, {\"comparison_name\": \"last_name_12\", \"sql_condition\": \"jaro_winkler_similarity(\\\"last_name_12_l\\\", \\\"last_name_12_r\\\") >= 0.8333333333333334\", \"label_for_charts\": \"Jaro_winkler_similarity >= 0.8333333333333334\", \"m_probability\": 0.1019583274010347, \"u_probability\": 0.0013365997755498443, \"m_probability_description\": \"Amongst matching record comparisons, 10.20% of records are in the jaro_winkler_similarity >= 0.8333333333333334 comparison level\", \"u_probability_description\": \"Amongst non-matching record comparisons, 0.13% of records are in the jaro_winkler_similarity >= 0.8333333333333334 comparison level\", \"has_tf_adjustments\": false, \"tf_adjustment_column\": null, \"tf_adjustment_weight\": 1.0, \"is_null_level\": false, \"bayes_factor\": 76.28186781573531, \"log2_bayes_factor\": 6.253268264383701, \"comparison_vector_value\": 1, \"max_comparison_vector_value\": 2, \"bayes_factor_description\": \"If comparison level is `jaro_winkler_similarity >= 0.8333333333333334` then comparison is 76.28 times more likely to be a match\", \"probability_two_random_records_match\": 0.0037986577200161205, \"comparison_sort_order\": 1, \"iteration\": 7}, {\"comparison_name\": \"last_name_12\", \"sql_condition\": \"ELSE\", \"label_for_charts\": \"All other comparisons\", \"m_probability\": 0.02050989682230327, \"u_probability\": 0.9979645363142174, \"m_probability_description\": \"Amongst matching record comparisons, 2.05% of records are in the all other comparisons comparison level\", \"u_probability_description\": \"Amongst non-matching record comparisons, 99.80% of records are in the all other comparisons comparison level\", \"has_tf_adjustments\": false, \"tf_adjustment_column\": null, \"tf_adjustment_weight\": 1.0, \"is_null_level\": false, \"bayes_factor\": 0.02055172912060831, \"log2_bayes_factor\": -5.604596409552322, \"comparison_vector_value\": 0, \"max_comparison_vector_value\": 2, \"bayes_factor_description\": \"If comparison level is `all other comparisons` then comparison is  48.66 times less likely to be a match\", \"probability_two_random_records_match\": 0.0037986577200161205, \"comparison_sort_order\": 1, \"iteration\": 7}, {\"comparison_name\": \"middle_initial\", \"sql_condition\": \"\\\"middle_initial_l\\\" = \\\"middle_initial_r\\\"\", \"label_for_charts\": \"Exact match\", \"m_probability\": 0.9320164852108185, \"u_probability\": 0.07417855709636824, \"m_probability_description\": \"Amongst matching record comparisons, 93.20% of records are in the exact match comparison level\", \"u_probability_description\": \"Amongst non-matching record comparisons, 7.42% of records are in the exact match comparison level\", \"has_tf_adjustments\": false, \"tf_adjustment_column\": null, \"tf_adjustment_weight\": 1.0, \"is_null_level\": false, \"bayes_factor\": 12.56450006165528, \"log2_bayes_factor\": 3.651281362769692, \"comparison_vector_value\": 1, \"max_comparison_vector_value\": 1, \"bayes_factor_description\": \"If comparison level is `exact match` then comparison is 12.56 times more likely to be a match\", \"probability_two_random_records_match\": 0.0037986577200161205, \"comparison_sort_order\": 2, \"iteration\": 7}, {\"comparison_name\": \"middle_initial\", \"sql_condition\": \"ELSE\", \"label_for_charts\": \"All other comparisons\", \"m_probability\": 0.06798351478918145, \"u_probability\": 0.9258214429036318, \"m_probability_description\": \"Amongst matching record comparisons, 6.80% of records are in the all other comparisons comparison level\", \"u_probability_description\": \"Amongst non-matching record comparisons, 92.58% of records are in the all other comparisons comparison level\", \"has_tf_adjustments\": false, \"tf_adjustment_column\": null, \"tf_adjustment_weight\": 1.0, \"is_null_level\": false, \"bayes_factor\": 0.07343048199009776, \"log2_bayes_factor\": -3.7674771200696555, \"comparison_vector_value\": 0, \"max_comparison_vector_value\": 1, \"bayes_factor_description\": \"If comparison level is `all other comparisons` then comparison is  13.62 times less likely to be a match\", \"probability_two_random_records_match\": 0.0037986577200161205, \"comparison_sort_order\": 2, \"iteration\": 7}, {\"comparison_name\": \"day_of_birth\", \"sql_condition\": \"\\\"day_of_birth_l\\\" = \\\"day_of_birth_r\\\"\", \"label_for_charts\": \"Exact match\", \"m_probability\": 0.9756046650261896, \"u_probability\": 0.032483267196893574, \"m_probability_description\": \"Amongst matching record comparisons, 97.56% of records are in the exact match comparison level\", \"u_probability_description\": \"Amongst non-matching record comparisons, 3.25% of records are in the exact match comparison level\", \"has_tf_adjustments\": false, \"tf_adjustment_column\": null, \"tf_adjustment_weight\": 1.0, \"is_null_level\": false, \"bayes_factor\": 30.034068282376726, \"log2_bayes_factor\": 4.908528004124009, \"comparison_vector_value\": 2, \"max_comparison_vector_value\": 2, \"bayes_factor_description\": \"If comparison level is `exact match` then comparison is 30.03 times more likely to be a match\", \"probability_two_random_records_match\": 0.0037986577200161205, \"comparison_sort_order\": 3, \"iteration\": 7}, {\"comparison_name\": \"day_of_birth\", \"sql_condition\": \"abs(day_of_birth_l - day_of_birth_r) <= 5\", \"label_for_charts\": \"Inexact match\", \"m_probability\": 0.016734969885487214, \"u_probability\": 0.2953114089616295, \"m_probability_description\": \"Amongst matching record comparisons, 1.67% of records are in the inexact match comparison level\", \"u_probability_description\": \"Amongst non-matching record comparisons, 29.53% of records are in the inexact match comparison level\", \"has_tf_adjustments\": false, \"tf_adjustment_column\": null, \"tf_adjustment_weight\": 1.0, \"is_null_level\": false, \"bayes_factor\": 0.056668890458145584, \"log2_bayes_factor\": -4.14129923412809, \"comparison_vector_value\": 1, \"max_comparison_vector_value\": 2, \"bayes_factor_description\": \"If comparison level is `inexact match` then comparison is  17.65 times less likely to be a match\", \"probability_two_random_records_match\": 0.0037986577200161205, \"comparison_sort_order\": 3, \"iteration\": 7}, {\"comparison_name\": \"day_of_birth\", \"sql_condition\": \"ELSE\", \"label_for_charts\": \"All other comparisons\", \"m_probability\": 0.007660365088323081, \"u_probability\": 0.6722053238414769, \"m_probability_description\": \"Amongst matching record comparisons, 0.77% of records are in the all other comparisons comparison level\", \"u_probability_description\": \"Amongst non-matching record comparisons, 67.22% of records are in the all other comparisons comparison level\", \"has_tf_adjustments\": false, \"tf_adjustment_column\": null, \"tf_adjustment_weight\": 1.0, \"is_null_level\": false, \"bayes_factor\": 0.01139587089930515, \"log2_bayes_factor\": -6.4553450068040465, \"comparison_vector_value\": 0, \"max_comparison_vector_value\": 2, \"bayes_factor_description\": \"If comparison level is `all other comparisons` then comparison is  87.75 times less likely to be a match\", \"probability_two_random_records_match\": 0.0037986577200161205, \"comparison_sort_order\": 3, \"iteration\": 7}, {\"comparison_name\": \"month_of_birth\", \"sql_condition\": \"\\\"month_of_birth_l\\\" = \\\"month_of_birth_r\\\"\", \"label_for_charts\": \"Exact match\", \"m_probability\": 0.989091557488439, \"u_probability\": 0.0832547076088129, \"m_probability_description\": \"Amongst matching record comparisons, 98.91% of records are in the exact match comparison level\", \"u_probability_description\": \"Amongst non-matching record comparisons, 8.33% of records are in the exact match comparison level\", \"has_tf_adjustments\": false, \"tf_adjustment_column\": null, \"tf_adjustment_weight\": 1.0, \"is_null_level\": false, \"bayes_factor\": 11.880307863620905, \"log2_bayes_factor\": 3.5705003171846483, \"comparison_vector_value\": 2, \"max_comparison_vector_value\": 2, \"bayes_factor_description\": \"If comparison level is `exact match` then comparison is 11.88 times more likely to be a match\", \"probability_two_random_records_match\": 0.0037986577200161205, \"comparison_sort_order\": 4, \"iteration\": 7}, {\"comparison_name\": \"month_of_birth\", \"sql_condition\": \"abs(month_of_birth_l - month_of_birth_r) <= 3\", \"label_for_charts\": \"Inexact match\", \"m_probability\": 0.00028211163401645206, \"u_probability\": 0.41938802504669287, \"m_probability_description\": \"Amongst matching record comparisons, 0.03% of records are in the inexact match comparison level\", \"u_probability_description\": \"Amongst non-matching record comparisons, 41.94% of records are in the inexact match comparison level\", \"has_tf_adjustments\": false, \"tf_adjustment_column\": null, \"tf_adjustment_weight\": 1.0, \"is_null_level\": false, \"bayes_factor\": 0.0006726745094475288, \"log2_bayes_factor\": -10.53780379031197, \"comparison_vector_value\": 1, \"max_comparison_vector_value\": 2, \"bayes_factor_description\": \"If comparison level is `inexact match` then comparison is  1,486.60 times less likely to be a match\", \"probability_two_random_records_match\": 0.0037986577200161205, \"comparison_sort_order\": 4, \"iteration\": 7}, {\"comparison_name\": \"month_of_birth\", \"sql_condition\": \"ELSE\", \"label_for_charts\": \"All other comparisons\", \"m_probability\": 0.010626330877544506, \"u_probability\": 0.4973572673444942, \"m_probability_description\": \"Amongst matching record comparisons, 1.06% of records are in the all other comparisons comparison level\", \"u_probability_description\": \"Amongst non-matching record comparisons, 49.74% of records are in the all other comparisons comparison level\", \"has_tf_adjustments\": false, \"tf_adjustment_column\": null, \"tf_adjustment_weight\": 1.0, \"is_null_level\": false, \"bayes_factor\": 0.02136558883371897, \"log2_bayes_factor\": -5.548567111661388, \"comparison_vector_value\": 0, \"max_comparison_vector_value\": 2, \"bayes_factor_description\": \"If comparison level is `all other comparisons` then comparison is  46.80 times less likely to be a match\", \"probability_two_random_records_match\": 0.0037986577200161205, \"comparison_sort_order\": 4, \"iteration\": 7}, {\"comparison_name\": \"year_of_birth\", \"sql_condition\": \"\\\"year_of_birth_l\\\" = \\\"year_of_birth_r\\\"\", \"label_for_charts\": \"Exact match\", \"m_probability\": 0.9658482287101682, \"u_probability\": 0.01093448234753138, \"m_probability_description\": \"Amongst matching record comparisons, 96.58% of records are in the exact match comparison level\", \"u_probability_description\": \"Amongst non-matching record comparisons, 1.09% of records are in the exact match comparison level\", \"has_tf_adjustments\": false, \"tf_adjustment_column\": null, \"tf_adjustment_weight\": 1.0, \"is_null_level\": false, \"bayes_factor\": 88.33049412057652, \"log2_bayes_factor\": 6.464839676835128, \"comparison_vector_value\": 2, \"max_comparison_vector_value\": 2, \"bayes_factor_description\": \"If comparison level is `exact match` then comparison is 88.33 times more likely to be a match\", \"probability_two_random_records_match\": 0.0037986577200161205, \"comparison_sort_order\": 5, \"iteration\": 7}, {\"comparison_name\": \"year_of_birth\", \"sql_condition\": \"abs(year_of_birth_l - year_of_birth_r) <= 5\", \"label_for_charts\": \"Inexact match\", \"m_probability\": 0.013253191959078255, \"u_probability\": 0.10883934805933546, \"m_probability_description\": \"Amongst matching record comparisons, 1.33% of records are in the inexact match comparison level\", \"u_probability_description\": \"Amongst non-matching record comparisons, 10.88% of records are in the inexact match comparison level\", \"has_tf_adjustments\": false, \"tf_adjustment_column\": null, \"tf_adjustment_weight\": 1.0, \"is_null_level\": false, \"bayes_factor\": 0.12176838795334452, \"log2_bayes_factor\": -3.037788448197645, \"comparison_vector_value\": 1, \"max_comparison_vector_value\": 2, \"bayes_factor_description\": \"If comparison level is `inexact match` then comparison is  8.21 times less likely to be a match\", \"probability_two_random_records_match\": 0.0037986577200161205, \"comparison_sort_order\": 5, \"iteration\": 7}, {\"comparison_name\": \"year_of_birth\", \"sql_condition\": \"ELSE\", \"label_for_charts\": \"All other comparisons\", \"m_probability\": 0.020898579330753498, \"u_probability\": 0.8802261695931332, \"m_probability_description\": \"Amongst matching record comparisons, 2.09% of records are in the all other comparisons comparison level\", \"u_probability_description\": \"Amongst non-matching record comparisons, 88.02% of records are in the all other comparisons comparison level\", \"has_tf_adjustments\": false, \"tf_adjustment_column\": null, \"tf_adjustment_weight\": 1.0, \"is_null_level\": false, \"bayes_factor\": 0.02374228357742811, \"log2_bayes_factor\": -5.396397487002568, \"comparison_vector_value\": 0, \"max_comparison_vector_value\": 2, \"bayes_factor_description\": \"If comparison level is `all other comparisons` then comparison is  42.12 times less likely to be a match\", \"probability_two_random_records_match\": 0.0037986577200161205, \"comparison_sort_order\": 5, \"iteration\": 7}, {\"comparison_name\": \"first_name_15\", \"sql_condition\": \"\\\"first_name_15_l\\\" = \\\"first_name_15_r\\\"\", \"label_for_charts\": \"Exact match\", \"m_probability\": 0.8382115364450134, \"u_probability\": 0.0019154243869072766, \"m_probability_description\": \"Amongst matching record comparisons, 83.82% of records are in the exact match comparison level\", \"u_probability_description\": \"Amongst non-matching record comparisons, 0.19% of records are in the exact match comparison level\", \"has_tf_adjustments\": false, \"tf_adjustment_column\": null, \"tf_adjustment_weight\": 1.0, \"is_null_level\": false, \"bayes_factor\": 437.61139420304886, \"log2_bayes_factor\": 8.773506492224724, \"comparison_vector_value\": 2, \"max_comparison_vector_value\": 2, \"bayes_factor_description\": \"If comparison level is `exact match` then comparison is 437.61 times more likely to be a match\", \"probability_two_random_records_match\": 0.0037986577200161205, \"comparison_sort_order\": 0, \"iteration\": 8}, {\"comparison_name\": \"first_name_15\", \"sql_condition\": \"jaro_winkler_similarity(\\\"first_name_15_l\\\", \\\"first_name_15_r\\\") >= 0.8333333333333334\", \"label_for_charts\": \"Jaro_winkler_similarity >= 0.8333333333333334\", \"m_probability\": 0.08702456269360898, \"u_probability\": 0.003534009294465568, \"m_probability_description\": \"Amongst matching record comparisons, 8.70% of records are in the jaro_winkler_similarity >= 0.8333333333333334 comparison level\", \"u_probability_description\": \"Amongst non-matching record comparisons, 0.35% of records are in the jaro_winkler_similarity >= 0.8333333333333334 comparison level\", \"has_tf_adjustments\": false, \"tf_adjustment_column\": null, \"tf_adjustment_weight\": 1.0, \"is_null_level\": false, \"bayes_factor\": 24.624882234999696, \"log2_bayes_factor\": 4.622044919988836, \"comparison_vector_value\": 1, \"max_comparison_vector_value\": 2, \"bayes_factor_description\": \"If comparison level is `jaro_winkler_similarity >= 0.8333333333333334` then comparison is 24.62 times more likely to be a match\", \"probability_two_random_records_match\": 0.0037986577200161205, \"comparison_sort_order\": 0, \"iteration\": 8}, {\"comparison_name\": \"first_name_15\", \"sql_condition\": \"ELSE\", \"label_for_charts\": \"All other comparisons\", \"m_probability\": 0.07476390086137753, \"u_probability\": 0.9945505663186271, \"m_probability_description\": \"Amongst matching record comparisons, 7.48% of records are in the all other comparisons comparison level\", \"u_probability_description\": \"Amongst non-matching record comparisons, 99.46% of records are in the all other comparisons comparison level\", \"has_tf_adjustments\": false, \"tf_adjustment_column\": null, \"tf_adjustment_weight\": 1.0, \"is_null_level\": false, \"bayes_factor\": 0.07517355415936207, \"log2_bayes_factor\": -3.7336309745933733, \"comparison_vector_value\": 0, \"max_comparison_vector_value\": 2, \"bayes_factor_description\": \"If comparison level is `all other comparisons` then comparison is  13.30 times less likely to be a match\", \"probability_two_random_records_match\": 0.0037986577200161205, \"comparison_sort_order\": 0, \"iteration\": 8}, {\"comparison_name\": \"last_name_12\", \"sql_condition\": \"\\\"last_name_12_l\\\" = \\\"last_name_12_r\\\"\", \"label_for_charts\": \"Exact match\", \"m_probability\": 0.8775194304496389, \"u_probability\": 0.0006988639102327646, \"m_probability_description\": \"Amongst matching record comparisons, 87.75% of records are in the exact match comparison level\", \"u_probability_description\": \"Amongst non-matching record comparisons, 0.07% of records are in the exact match comparison level\", \"has_tf_adjustments\": false, \"tf_adjustment_column\": null, \"tf_adjustment_weight\": 1.0, \"is_null_level\": false, \"bayes_factor\": 1255.637066961107, \"log2_bayes_factor\": 10.29420380831855, \"comparison_vector_value\": 2, \"max_comparison_vector_value\": 2, \"bayes_factor_description\": \"If comparison level is `exact match` then comparison is 1,255.64 times more likely to be a match\", \"probability_two_random_records_match\": 0.0037986577200161205, \"comparison_sort_order\": 1, \"iteration\": 8}, {\"comparison_name\": \"last_name_12\", \"sql_condition\": \"jaro_winkler_similarity(\\\"last_name_12_l\\\", \\\"last_name_12_r\\\") >= 0.8333333333333334\", \"label_for_charts\": \"Jaro_winkler_similarity >= 0.8333333333333334\", \"m_probability\": 0.10196800999754302, \"u_probability\": 0.0013365997755498443, \"m_probability_description\": \"Amongst matching record comparisons, 10.20% of records are in the jaro_winkler_similarity >= 0.8333333333333334 comparison level\", \"u_probability_description\": \"Amongst non-matching record comparisons, 0.13% of records are in the jaro_winkler_similarity >= 0.8333333333333334 comparison level\", \"has_tf_adjustments\": false, \"tf_adjustment_column\": null, \"tf_adjustment_weight\": 1.0, \"is_null_level\": false, \"bayes_factor\": 76.28911201604525, \"log2_bayes_factor\": 6.253405265166966, \"comparison_vector_value\": 1, \"max_comparison_vector_value\": 2, \"bayes_factor_description\": \"If comparison level is `jaro_winkler_similarity >= 0.8333333333333334` then comparison is 76.29 times more likely to be a match\", \"probability_two_random_records_match\": 0.0037986577200161205, \"comparison_sort_order\": 1, \"iteration\": 8}, {\"comparison_name\": \"last_name_12\", \"sql_condition\": \"ELSE\", \"label_for_charts\": \"All other comparisons\", \"m_probability\": 0.020512559552818166, \"u_probability\": 0.9979645363142174, \"m_probability_description\": \"Amongst matching record comparisons, 2.05% of records are in the all other comparisons comparison level\", \"u_probability_description\": \"Amongst non-matching record comparisons, 99.80% of records are in the all other comparisons comparison level\", \"has_tf_adjustments\": false, \"tf_adjustment_column\": null, \"tf_adjustment_weight\": 1.0, \"is_null_level\": false, \"bayes_factor\": 0.020554397282068964, \"log2_bayes_factor\": -5.6044091214933465, \"comparison_vector_value\": 0, \"max_comparison_vector_value\": 2, \"bayes_factor_description\": \"If comparison level is `all other comparisons` then comparison is  48.65 times less likely to be a match\", \"probability_two_random_records_match\": 0.0037986577200161205, \"comparison_sort_order\": 1, \"iteration\": 8}, {\"comparison_name\": \"middle_initial\", \"sql_condition\": \"\\\"middle_initial_l\\\" = \\\"middle_initial_r\\\"\", \"label_for_charts\": \"Exact match\", \"m_probability\": 0.9320092647085602, \"u_probability\": 0.07417855709636824, \"m_probability_description\": \"Amongst matching record comparisons, 93.20% of records are in the exact match comparison level\", \"u_probability_description\": \"Amongst non-matching record comparisons, 7.42% of records are in the exact match comparison level\", \"has_tf_adjustments\": false, \"tf_adjustment_column\": null, \"tf_adjustment_weight\": 1.0, \"is_null_level\": false, \"bayes_factor\": 12.564402722174156, \"log2_bayes_factor\": 3.6512701859039205, \"comparison_vector_value\": 1, \"max_comparison_vector_value\": 1, \"bayes_factor_description\": \"If comparison level is `exact match` then comparison is 12.56 times more likely to be a match\", \"probability_two_random_records_match\": 0.0037986577200161205, \"comparison_sort_order\": 2, \"iteration\": 8}, {\"comparison_name\": \"middle_initial\", \"sql_condition\": \"ELSE\", \"label_for_charts\": \"All other comparisons\", \"m_probability\": 0.06799073529143974, \"u_probability\": 0.9258214429036318, \"m_probability_description\": \"Amongst matching record comparisons, 6.80% of records are in the all other comparisons comparison level\", \"u_probability_description\": \"Amongst non-matching record comparisons, 92.58% of records are in the all other comparisons comparison level\", \"has_tf_adjustments\": false, \"tf_adjustment_column\": null, \"tf_adjustment_weight\": 1.0, \"is_null_level\": false, \"bayes_factor\": 0.0734382810125914, \"log2_bayes_factor\": -3.7673239001356698, \"comparison_vector_value\": 0, \"max_comparison_vector_value\": 1, \"bayes_factor_description\": \"If comparison level is `all other comparisons` then comparison is  13.62 times less likely to be a match\", \"probability_two_random_records_match\": 0.0037986577200161205, \"comparison_sort_order\": 2, \"iteration\": 8}, {\"comparison_name\": \"day_of_birth\", \"sql_condition\": \"\\\"day_of_birth_l\\\" = \\\"day_of_birth_r\\\"\", \"label_for_charts\": \"Exact match\", \"m_probability\": 0.9757177841588194, \"u_probability\": 0.032483267196893574, \"m_probability_description\": \"Amongst matching record comparisons, 97.57% of records are in the exact match comparison level\", \"u_probability_description\": \"Amongst non-matching record comparisons, 3.25% of records are in the exact match comparison level\", \"has_tf_adjustments\": false, \"tf_adjustment_column\": null, \"tf_adjustment_weight\": 1.0, \"is_null_level\": false, \"bayes_factor\": 30.03755066399629, \"log2_bayes_factor\": 4.908695271621932, \"comparison_vector_value\": 2, \"max_comparison_vector_value\": 2, \"bayes_factor_description\": \"If comparison level is `exact match` then comparison is 30.04 times more likely to be a match\", \"probability_two_random_records_match\": 0.0037986577200161205, \"comparison_sort_order\": 3, \"iteration\": 8}, {\"comparison_name\": \"day_of_birth\", \"sql_condition\": \"abs(day_of_birth_l - day_of_birth_r) <= 5\", \"label_for_charts\": \"Inexact match\", \"m_probability\": 0.016652245533953825, \"u_probability\": 0.2953114089616295, \"m_probability_description\": \"Amongst matching record comparisons, 1.67% of records are in the inexact match comparison level\", \"u_probability_description\": \"Amongst non-matching record comparisons, 29.53% of records are in the inexact match comparison level\", \"has_tf_adjustments\": false, \"tf_adjustment_column\": null, \"tf_adjustment_weight\": 1.0, \"is_null_level\": false, \"bayes_factor\": 0.05638876463495351, \"log2_bayes_factor\": -4.14844845303995, \"comparison_vector_value\": 1, \"max_comparison_vector_value\": 2, \"bayes_factor_description\": \"If comparison level is `inexact match` then comparison is  17.73 times less likely to be a match\", \"probability_two_random_records_match\": 0.0037986577200161205, \"comparison_sort_order\": 3, \"iteration\": 8}, {\"comparison_name\": \"day_of_birth\", \"sql_condition\": \"ELSE\", \"label_for_charts\": \"All other comparisons\", \"m_probability\": 0.007629970307226791, \"u_probability\": 0.6722053238414769, \"m_probability_description\": \"Amongst matching record comparisons, 0.76% of records are in the all other comparisons comparison level\", \"u_probability_description\": \"Amongst non-matching record comparisons, 67.22% of records are in the all other comparisons comparison level\", \"has_tf_adjustments\": false, \"tf_adjustment_column\": null, \"tf_adjustment_weight\": 1.0, \"is_null_level\": false, \"bayes_factor\": 0.011350654385811041, \"log2_bayes_factor\": -6.461080715875278, \"comparison_vector_value\": 0, \"max_comparison_vector_value\": 2, \"bayes_factor_description\": \"If comparison level is `all other comparisons` then comparison is  88.10 times less likely to be a match\", \"probability_two_random_records_match\": 0.0037986577200161205, \"comparison_sort_order\": 3, \"iteration\": 8}, {\"comparison_name\": \"month_of_birth\", \"sql_condition\": \"\\\"month_of_birth_l\\\" = \\\"month_of_birth_r\\\"\", \"label_for_charts\": \"Exact match\", \"m_probability\": 0.9892006914428958, \"u_probability\": 0.0832547076088129, \"m_probability_description\": \"Amongst matching record comparisons, 98.92% of records are in the exact match comparison level\", \"u_probability_description\": \"Amongst non-matching record comparisons, 8.33% of records are in the exact match comparison level\", \"has_tf_adjustments\": false, \"tf_adjustment_column\": null, \"tf_adjustment_weight\": 1.0, \"is_null_level\": false, \"bayes_factor\": 11.881618707867329, \"log2_bayes_factor\": 3.57065949186183, \"comparison_vector_value\": 2, \"max_comparison_vector_value\": 2, \"bayes_factor_description\": \"If comparison level is `exact match` then comparison is 11.88 times more likely to be a match\", \"probability_two_random_records_match\": 0.0037986577200161205, \"comparison_sort_order\": 4, \"iteration\": 8}, {\"comparison_name\": \"month_of_birth\", \"sql_condition\": \"abs(month_of_birth_l - month_of_birth_r) <= 3\", \"label_for_charts\": \"Inexact match\", \"m_probability\": 0.00018367437126428195, \"u_probability\": 0.41938802504669287, \"m_probability_description\": \"Amongst matching record comparisons, 0.02% of records are in the inexact match comparison level\", \"u_probability_description\": \"Amongst non-matching record comparisons, 41.94% of records are in the inexact match comparison level\", \"has_tf_adjustments\": false, \"tf_adjustment_column\": null, \"tf_adjustment_weight\": 1.0, \"is_null_level\": false, \"bayes_factor\": 0.00043795807294171653, \"log2_bayes_factor\": -11.156919616696335, \"comparison_vector_value\": 1, \"max_comparison_vector_value\": 2, \"bayes_factor_description\": \"If comparison level is `inexact match` then comparison is  2,283.32 times less likely to be a match\", \"probability_two_random_records_match\": 0.0037986577200161205, \"comparison_sort_order\": 4, \"iteration\": 8}, {\"comparison_name\": \"month_of_birth\", \"sql_condition\": \"ELSE\", \"label_for_charts\": \"All other comparisons\", \"m_probability\": 0.010615634185839917, \"u_probability\": 0.4973572673444942, \"m_probability_description\": \"Amongst matching record comparisons, 1.06% of records are in the all other comparisons comparison level\", \"u_probability_description\": \"Amongst non-matching record comparisons, 49.74% of records are in the all other comparisons comparison level\", \"has_tf_adjustments\": false, \"tf_adjustment_column\": null, \"tf_adjustment_weight\": 1.0, \"is_null_level\": false, \"bayes_factor\": 0.02134408177549963, \"log2_bayes_factor\": -5.550020090736957, \"comparison_vector_value\": 0, \"max_comparison_vector_value\": 2, \"bayes_factor_description\": \"If comparison level is `all other comparisons` then comparison is  46.85 times less likely to be a match\", \"probability_two_random_records_match\": 0.0037986577200161205, \"comparison_sort_order\": 4, \"iteration\": 8}, {\"comparison_name\": \"year_of_birth\", \"sql_condition\": \"\\\"year_of_birth_l\\\" = \\\"year_of_birth_r\\\"\", \"label_for_charts\": \"Exact match\", \"m_probability\": 0.9659602175130806, \"u_probability\": 0.01093448234753138, \"m_probability_description\": \"Amongst matching record comparisons, 96.60% of records are in the exact match comparison level\", \"u_probability_description\": \"Amongst non-matching record comparisons, 1.09% of records are in the exact match comparison level\", \"has_tf_adjustments\": false, \"tf_adjustment_column\": null, \"tf_adjustment_weight\": 1.0, \"is_null_level\": false, \"bayes_factor\": 88.34073592255241, \"log2_bayes_factor\": 6.465006945687373, \"comparison_vector_value\": 2, \"max_comparison_vector_value\": 2, \"bayes_factor_description\": \"If comparison level is `exact match` then comparison is 88.34 times more likely to be a match\", \"probability_two_random_records_match\": 0.0037986577200161205, \"comparison_sort_order\": 5, \"iteration\": 8}, {\"comparison_name\": \"year_of_birth\", \"sql_condition\": \"abs(year_of_birth_l - year_of_birth_r) <= 5\", \"label_for_charts\": \"Inexact match\", \"m_probability\": 0.01325306665971919, \"u_probability\": 0.10883934805933546, \"m_probability_description\": \"Amongst matching record comparisons, 1.33% of records are in the inexact match comparison level\", \"u_probability_description\": \"Amongst non-matching record comparisons, 10.88% of records are in the inexact match comparison level\", \"has_tf_adjustments\": false, \"tf_adjustment_column\": null, \"tf_adjustment_weight\": 1.0, \"is_null_level\": false, \"bayes_factor\": 0.12176723672117253, \"log2_bayes_factor\": -3.037802087901879, \"comparison_vector_value\": 1, \"max_comparison_vector_value\": 2, \"bayes_factor_description\": \"If comparison level is `inexact match` then comparison is  8.21 times less likely to be a match\", \"probability_two_random_records_match\": 0.0037986577200161205, \"comparison_sort_order\": 5, \"iteration\": 8}, {\"comparison_name\": \"year_of_birth\", \"sql_condition\": \"ELSE\", \"label_for_charts\": \"All other comparisons\", \"m_probability\": 0.020786715827200323, \"u_probability\": 0.8802261695931332, \"m_probability_description\": \"Amongst matching record comparisons, 2.08% of records are in the all other comparisons comparison level\", \"u_probability_description\": \"Amongst non-matching record comparisons, 88.02% of records are in the all other comparisons comparison level\", \"has_tf_adjustments\": false, \"tf_adjustment_column\": null, \"tf_adjustment_weight\": 1.0, \"is_null_level\": false, \"bayes_factor\": 0.02361519862197299, \"log2_bayes_factor\": -5.40414052006095, \"comparison_vector_value\": 0, \"max_comparison_vector_value\": 2, \"bayes_factor_description\": \"If comparison level is `all other comparisons` then comparison is  42.35 times less likely to be a match\", \"probability_two_random_records_match\": 0.0037986577200161205, \"comparison_sort_order\": 5, \"iteration\": 8}, {\"comparison_name\": \"first_name_15\", \"sql_condition\": \"\\\"first_name_15_l\\\" = \\\"first_name_15_r\\\"\", \"label_for_charts\": \"Exact match\", \"m_probability\": 0.8382032210777497, \"u_probability\": 0.0019154243869072766, \"m_probability_description\": \"Amongst matching record comparisons, 83.82% of records are in the exact match comparison level\", \"u_probability_description\": \"Amongst non-matching record comparisons, 0.19% of records are in the exact match comparison level\", \"has_tf_adjustments\": false, \"tf_adjustment_column\": null, \"tf_adjustment_weight\": 1.0, \"is_null_level\": false, \"bayes_factor\": 437.6070529367893, \"log2_bayes_factor\": 8.773492180087397, \"comparison_vector_value\": 2, \"max_comparison_vector_value\": 2, \"bayes_factor_description\": \"If comparison level is `exact match` then comparison is 437.61 times more likely to be a match\", \"probability_two_random_records_match\": 0.0037986577200161205, \"comparison_sort_order\": 0, \"iteration\": 9}, {\"comparison_name\": \"first_name_15\", \"sql_condition\": \"jaro_winkler_similarity(\\\"first_name_15_l\\\", \\\"first_name_15_r\\\") >= 0.8333333333333334\", \"label_for_charts\": \"Jaro_winkler_similarity >= 0.8333333333333334\", \"m_probability\": 0.08702993392466281, \"u_probability\": 0.003534009294465568, \"m_probability_description\": \"Amongst matching record comparisons, 8.70% of records are in the jaro_winkler_similarity >= 0.8333333333333334 comparison level\", \"u_probability_description\": \"Amongst non-matching record comparisons, 0.35% of records are in the jaro_winkler_similarity >= 0.8333333333333334 comparison level\", \"has_tf_adjustments\": false, \"tf_adjustment_column\": null, \"tf_adjustment_weight\": 1.0, \"is_null_level\": false, \"bayes_factor\": 24.626402103966154, \"log2_bayes_factor\": 4.622133961623012, \"comparison_vector_value\": 1, \"max_comparison_vector_value\": 2, \"bayes_factor_description\": \"If comparison level is `jaro_winkler_similarity >= 0.8333333333333334` then comparison is 24.63 times more likely to be a match\", \"probability_two_random_records_match\": 0.0037986577200161205, \"comparison_sort_order\": 0, \"iteration\": 9}, {\"comparison_name\": \"first_name_15\", \"sql_condition\": \"ELSE\", \"label_for_charts\": \"All other comparisons\", \"m_probability\": 0.07476684499758751, \"u_probability\": 0.9945505663186271, \"m_probability_description\": \"Amongst matching record comparisons, 7.48% of records are in the all other comparisons comparison level\", \"u_probability_description\": \"Amongst non-matching record comparisons, 99.46% of records are in the all other comparisons comparison level\", \"has_tf_adjustments\": false, \"tf_adjustment_column\": null, \"tf_adjustment_weight\": 1.0, \"is_null_level\": false, \"bayes_factor\": 0.07517651442735616, \"log2_bayes_factor\": -3.7335741636587927, \"comparison_vector_value\": 0, \"max_comparison_vector_value\": 2, \"bayes_factor_description\": \"If comparison level is `all other comparisons` then comparison is  13.30 times less likely to be a match\", \"probability_two_random_records_match\": 0.0037986577200161205, \"comparison_sort_order\": 0, \"iteration\": 9}, {\"comparison_name\": \"last_name_12\", \"sql_condition\": \"\\\"last_name_12_l\\\" = \\\"last_name_12_r\\\"\", \"label_for_charts\": \"Exact match\", \"m_probability\": 0.8775113373267978, \"u_probability\": 0.0006988639102327646, \"m_probability_description\": \"Amongst matching record comparisons, 87.75% of records are in the exact match comparison level\", \"u_probability_description\": \"Amongst non-matching record comparisons, 0.07% of records are in the exact match comparison level\", \"has_tf_adjustments\": false, \"tf_adjustment_column\": null, \"tf_adjustment_weight\": 1.0, \"is_null_level\": false, \"bayes_factor\": 1255.6254865622302, \"log2_bayes_factor\": 10.29419050267354, \"comparison_vector_value\": 2, \"max_comparison_vector_value\": 2, \"bayes_factor_description\": \"If comparison level is `exact match` then comparison is 1,255.63 times more likely to be a match\", \"probability_two_random_records_match\": 0.0037986577200161205, \"comparison_sort_order\": 1, \"iteration\": 9}, {\"comparison_name\": \"last_name_12\", \"sql_condition\": \"jaro_winkler_similarity(\\\"last_name_12_l\\\", \\\"last_name_12_r\\\") >= 0.8333333333333334\", \"label_for_charts\": \"Jaro_winkler_similarity >= 0.8333333333333334\", \"m_probability\": 0.10197435635191866, \"u_probability\": 0.0013365997755498443, \"m_probability_description\": \"Amongst matching record comparisons, 10.20% of records are in the jaro_winkler_similarity >= 0.8333333333333334 comparison level\", \"u_probability_description\": \"Amongst non-matching record comparisons, 0.13% of records are in the jaro_winkler_similarity >= 0.8333333333333334 comparison level\", \"has_tf_adjustments\": false, \"tf_adjustment_column\": null, \"tf_adjustment_weight\": 1.0, \"is_null_level\": false, \"bayes_factor\": 76.29386014969883, \"log2_bayes_factor\": 6.25349505380826, \"comparison_vector_value\": 1, \"max_comparison_vector_value\": 2, \"bayes_factor_description\": \"If comparison level is `jaro_winkler_similarity >= 0.8333333333333334` then comparison is 76.29 times more likely to be a match\", \"probability_two_random_records_match\": 0.0037986577200161205, \"comparison_sort_order\": 1, \"iteration\": 9}, {\"comparison_name\": \"last_name_12\", \"sql_condition\": \"ELSE\", \"label_for_charts\": \"All other comparisons\", \"m_probability\": 0.02051430632128361, \"u_probability\": 0.9979645363142174, \"m_probability_description\": \"Amongst matching record comparisons, 2.05% of records are in the all other comparisons comparison level\", \"u_probability_description\": \"Amongst non-matching record comparisons, 99.80% of records are in the all other comparisons comparison level\", \"has_tf_adjustments\": false, \"tf_adjustment_column\": null, \"tf_adjustment_weight\": 1.0, \"is_null_level\": false, \"bayes_factor\": 0.020556147613270008, \"log2_bayes_factor\": -5.604286272518631, \"comparison_vector_value\": 0, \"max_comparison_vector_value\": 2, \"bayes_factor_description\": \"If comparison level is `all other comparisons` then comparison is  48.65 times less likely to be a match\", \"probability_two_random_records_match\": 0.0037986577200161205, \"comparison_sort_order\": 1, \"iteration\": 9}, {\"comparison_name\": \"middle_initial\", \"sql_condition\": \"\\\"middle_initial_l\\\" = \\\"middle_initial_r\\\"\", \"label_for_charts\": \"Exact match\", \"m_probability\": 0.9320045684710474, \"u_probability\": 0.07417855709636824, \"m_probability_description\": \"Amongst matching record comparisons, 93.20% of records are in the exact match comparison level\", \"u_probability_description\": \"Amongst non-matching record comparisons, 7.42% of records are in the exact match comparison level\", \"has_tf_adjustments\": false, \"tf_adjustment_column\": null, \"tf_adjustment_weight\": 1.0, \"is_null_level\": false, \"bayes_factor\": 12.564339412267675, \"log2_bayes_factor\": 3.6512629163885877, \"comparison_vector_value\": 1, \"max_comparison_vector_value\": 1, \"bayes_factor_description\": \"If comparison level is `exact match` then comparison is 12.56 times more likely to be a match\", \"probability_two_random_records_match\": 0.0037986577200161205, \"comparison_sort_order\": 2, \"iteration\": 9}, {\"comparison_name\": \"middle_initial\", \"sql_condition\": \"ELSE\", \"label_for_charts\": \"All other comparisons\", \"m_probability\": 0.06799543152895256, \"u_probability\": 0.9258214429036318, \"m_probability_description\": \"Amongst matching record comparisons, 6.80% of records are in the all other comparisons comparison level\", \"u_probability_description\": \"Amongst non-matching record comparisons, 92.58% of records are in the all other comparisons comparison level\", \"has_tf_adjustments\": false, \"tf_adjustment_column\": null, \"tf_adjustment_weight\": 1.0, \"is_null_level\": false, \"bayes_factor\": 0.07344335352149557, \"log2_bayes_factor\": -3.76722425413885, \"comparison_vector_value\": 0, \"max_comparison_vector_value\": 1, \"bayes_factor_description\": \"If comparison level is `all other comparisons` then comparison is  13.62 times less likely to be a match\", \"probability_two_random_records_match\": 0.0037986577200161205, \"comparison_sort_order\": 2, \"iteration\": 9}, {\"comparison_name\": \"day_of_birth\", \"sql_condition\": \"\\\"day_of_birth_l\\\" = \\\"day_of_birth_r\\\"\", \"label_for_charts\": \"Exact match\", \"m_probability\": 0.975791862660076, \"u_probability\": 0.032483267196893574, \"m_probability_description\": \"Amongst matching record comparisons, 97.58% of records are in the exact match comparison level\", \"u_probability_description\": \"Amongst non-matching record comparisons, 3.25% of records are in the exact match comparison level\", \"has_tf_adjustments\": false, \"tf_adjustment_column\": null, \"tf_adjustment_weight\": 1.0, \"is_null_level\": false, \"bayes_factor\": 30.03983117663092, \"log2_bayes_factor\": 4.908804799839356, \"comparison_vector_value\": 2, \"max_comparison_vector_value\": 2, \"bayes_factor_description\": \"If comparison level is `exact match` then comparison is 30.04 times more likely to be a match\", \"probability_two_random_records_match\": 0.0037986577200161205, \"comparison_sort_order\": 3, \"iteration\": 9}, {\"comparison_name\": \"day_of_birth\", \"sql_condition\": \"abs(day_of_birth_l - day_of_birth_r) <= 5\", \"label_for_charts\": \"Inexact match\", \"m_probability\": 0.01659794590148413, \"u_probability\": 0.2953114089616295, \"m_probability_description\": \"Amongst matching record comparisons, 1.66% of records are in the inexact match comparison level\", \"u_probability_description\": \"Amongst non-matching record comparisons, 29.53% of records are in the inexact match comparison level\", \"has_tf_adjustments\": false, \"tf_adjustment_column\": null, \"tf_adjustment_weight\": 1.0, \"is_null_level\": false, \"bayes_factor\": 0.05620489218430684, \"log2_bayes_factor\": -4.153160478850558, \"comparison_vector_value\": 1, \"max_comparison_vector_value\": 2, \"bayes_factor_description\": \"If comparison level is `inexact match` then comparison is  17.79 times less likely to be a match\", \"probability_two_random_records_match\": 0.0037986577200161205, \"comparison_sort_order\": 3, \"iteration\": 9}, {\"comparison_name\": \"day_of_birth\", \"sql_condition\": \"ELSE\", \"label_for_charts\": \"All other comparisons\", \"m_probability\": 0.007610191438439815, \"u_probability\": 0.6722053238414769, \"m_probability_description\": \"Amongst matching record comparisons, 0.76% of records are in the all other comparisons comparison level\", \"u_probability_description\": \"Amongst non-matching record comparisons, 67.22% of records are in the all other comparisons comparison level\", \"has_tf_adjustments\": false, \"tf_adjustment_column\": null, \"tf_adjustment_weight\": 1.0, \"is_null_level\": false, \"bayes_factor\": 0.011321230535559536, \"log2_bayes_factor\": -6.464825412606214, \"comparison_vector_value\": 0, \"max_comparison_vector_value\": 2, \"bayes_factor_description\": \"If comparison level is `all other comparisons` then comparison is  88.33 times less likely to be a match\", \"probability_two_random_records_match\": 0.0037986577200161205, \"comparison_sort_order\": 3, \"iteration\": 9}, {\"comparison_name\": \"month_of_birth\", \"sql_condition\": \"\\\"month_of_birth_l\\\" = \\\"month_of_birth_r\\\"\", \"label_for_charts\": \"Exact match\", \"m_probability\": 0.9892721416165037, \"u_probability\": 0.0832547076088129, \"m_probability_description\": \"Amongst matching record comparisons, 98.93% of records are in the exact match comparison level\", \"u_probability_description\": \"Amongst non-matching record comparisons, 8.33% of records are in the exact match comparison level\", \"has_tf_adjustments\": false, \"tf_adjustment_column\": null, \"tf_adjustment_weight\": 1.0, \"is_null_level\": false, \"bayes_factor\": 11.882476919680931, \"log2_bayes_factor\": 3.570763694264266, \"comparison_vector_value\": 2, \"max_comparison_vector_value\": 2, \"bayes_factor_description\": \"If comparison level is `exact match` then comparison is 11.88 times more likely to be a match\", \"probability_two_random_records_match\": 0.0037986577200161205, \"comparison_sort_order\": 4, \"iteration\": 9}, {\"comparison_name\": \"month_of_birth\", \"sql_condition\": \"abs(month_of_birth_l - month_of_birth_r) <= 3\", \"label_for_charts\": \"Inexact match\", \"m_probability\": 0.00011923300768098369, \"u_probability\": 0.41938802504669287, \"m_probability_description\": \"Amongst matching record comparisons, 0.01% of records are in the inexact match comparison level\", \"u_probability_description\": \"Amongst non-matching record comparisons, 41.94% of records are in the inexact match comparison level\", \"has_tf_adjustments\": false, \"tf_adjustment_column\": null, \"tf_adjustment_weight\": 1.0, \"is_null_level\": false, \"bayes_factor\": 0.00028430236573328193, \"log2_bayes_factor\": -11.780286275548171, \"comparison_vector_value\": 1, \"max_comparison_vector_value\": 2, \"bayes_factor_description\": \"If comparison level is `inexact match` then comparison is  3,517.38 times less likely to be a match\", \"probability_two_random_records_match\": 0.0037986577200161205, \"comparison_sort_order\": 4, \"iteration\": 9}, {\"comparison_name\": \"month_of_birth\", \"sql_condition\": \"ELSE\", \"label_for_charts\": \"All other comparisons\", \"m_probability\": 0.01060862537581526, \"u_probability\": 0.4973572673444942, \"m_probability_description\": \"Amongst matching record comparisons, 1.06% of records are in the all other comparisons comparison level\", \"u_probability_description\": \"Amongst non-matching record comparisons, 49.74% of records are in the all other comparisons comparison level\", \"has_tf_adjustments\": false, \"tf_adjustment_column\": null, \"tf_adjustment_weight\": 1.0, \"is_null_level\": false, \"bayes_factor\": 0.021329989672126782, \"log2_bayes_factor\": -5.55097292264172, \"comparison_vector_value\": 0, \"max_comparison_vector_value\": 2, \"bayes_factor_description\": \"If comparison level is `all other comparisons` then comparison is  46.88 times less likely to be a match\", \"probability_two_random_records_match\": 0.0037986577200161205, \"comparison_sort_order\": 4, \"iteration\": 9}, {\"comparison_name\": \"year_of_birth\", \"sql_condition\": \"\\\"year_of_birth_l\\\" = \\\"year_of_birth_r\\\"\", \"label_for_charts\": \"Exact match\", \"m_probability\": 0.9660335567156939, \"u_probability\": 0.01093448234753138, \"m_probability_description\": \"Amongst matching record comparisons, 96.60% of records are in the exact match comparison level\", \"u_probability_description\": \"Amongst non-matching record comparisons, 1.09% of records are in the exact match comparison level\", \"has_tf_adjustments\": false, \"tf_adjustment_column\": null, \"tf_adjustment_weight\": 1.0, \"is_null_level\": false, \"bayes_factor\": 88.34744307157716, \"log2_bayes_factor\": 6.465116476168656, \"comparison_vector_value\": 2, \"max_comparison_vector_value\": 2, \"bayes_factor_description\": \"If comparison level is `exact match` then comparison is 88.35 times more likely to be a match\", \"probability_two_random_records_match\": 0.0037986577200161205, \"comparison_sort_order\": 5, \"iteration\": 9}, {\"comparison_name\": \"year_of_birth\", \"sql_condition\": \"abs(year_of_birth_l - year_of_birth_r) <= 5\", \"label_for_charts\": \"Inexact match\", \"m_probability\": 0.013252981408019678, \"u_probability\": 0.10883934805933546, \"m_probability_description\": \"Amongst matching record comparisons, 1.33% of records are in the inexact match comparison level\", \"u_probability_description\": \"Amongst non-matching record comparisons, 10.88% of records are in the inexact match comparison level\", \"has_tf_adjustments\": false, \"tf_adjustment_column\": null, \"tf_adjustment_weight\": 1.0, \"is_null_level\": false, \"bayes_factor\": 0.12176645344103504, \"log2_bayes_factor\": -3.0378113682143417, \"comparison_vector_value\": 1, \"max_comparison_vector_value\": 2, \"bayes_factor_description\": \"If comparison level is `inexact match` then comparison is  8.21 times less likely to be a match\", \"probability_two_random_records_match\": 0.0037986577200161205, \"comparison_sort_order\": 5, \"iteration\": 9}, {\"comparison_name\": \"year_of_birth\", \"sql_condition\": \"ELSE\", \"label_for_charts\": \"All other comparisons\", \"m_probability\": 0.020713461876286306, \"u_probability\": 0.8802261695931332, \"m_probability_description\": \"Amongst matching record comparisons, 2.07% of records are in the all other comparisons comparison level\", \"u_probability_description\": \"Amongst non-matching record comparisons, 88.02% of records are in the all other comparisons comparison level\", \"has_tf_adjustments\": false, \"tf_adjustment_column\": null, \"tf_adjustment_weight\": 1.0, \"is_null_level\": false, \"bayes_factor\": 0.023531976884828006, \"log2_bayes_factor\": -5.4092336655518, \"comparison_vector_value\": 0, \"max_comparison_vector_value\": 2, \"bayes_factor_description\": \"If comparison level is `all other comparisons` then comparison is  42.50 times less likely to be a match\", \"probability_two_random_records_match\": 0.0037986577200161205, \"comparison_sort_order\": 5, \"iteration\": 9}]}}, {\"mode\": \"vega-lite\"});\n",
       "</script>"
      ],
      "text/plain": [
       "alt.HConcatChart(...)"
      ]
     },
     "execution_count": 59,
     "metadata": {},
     "output_type": "execute_result"
    }
   ],
   "source": [
    "em_session_2.m_u_values_interactive_history_chart()"
   ]
  },
  {
   "cell_type": "code",
   "execution_count": 60,
   "id": "c2226bd7-8baa-4be1-bb4d-f43ac0783ec3",
   "metadata": {
    "execution": {
     "iopub.execute_input": "2024-02-12T19:21:25.625524Z",
     "iopub.status.busy": "2024-02-12T19:21:25.624970Z",
     "iopub.status.idle": "2024-02-12T19:21:27.827167Z",
     "shell.execute_reply": "2024-02-12T19:21:27.825681Z"
    },
    "papermill": {
     "duration": 2.230227,
     "end_time": "2024-02-12T19:21:27.828287",
     "exception": false,
     "start_time": "2024-02-12T19:21:25.598060",
     "status": "completed"
    },
    "tags": []
   },
   "outputs": [
    {
     "data": {
      "text/html": [
       "\n",
       "<style>\n",
       "  #altair-viz-068e3c3d17e24488be6137535d8268e6.vega-embed {\n",
       "    width: 100%;\n",
       "    display: flex;\n",
       "  }\n",
       "\n",
       "  #altair-viz-068e3c3d17e24488be6137535d8268e6.vega-embed details,\n",
       "  #altair-viz-068e3c3d17e24488be6137535d8268e6.vega-embed details summary {\n",
       "    position: relative;\n",
       "  }\n",
       "</style>\n",
       "<div id=\"altair-viz-068e3c3d17e24488be6137535d8268e6\"></div>\n",
       "<script type=\"text/javascript\">\n",
       "  var VEGA_DEBUG = (typeof VEGA_DEBUG == \"undefined\") ? {} : VEGA_DEBUG;\n",
       "  (function(spec, embedOpt){\n",
       "    let outputDiv = document.currentScript.previousElementSibling;\n",
       "    if (outputDiv.id !== \"altair-viz-068e3c3d17e24488be6137535d8268e6\") {\n",
       "      outputDiv = document.getElementById(\"altair-viz-068e3c3d17e24488be6137535d8268e6\");\n",
       "    }\n",
       "    const paths = {\n",
       "      \"vega\": \"https://cdn.jsdelivr.net/npm/vega@5?noext\",\n",
       "      \"vega-lib\": \"https://cdn.jsdelivr.net/npm/vega-lib?noext\",\n",
       "      \"vega-lite\": \"https://cdn.jsdelivr.net/npm/vega-lite@5.15.1?noext\",\n",
       "      \"vega-embed\": \"https://cdn.jsdelivr.net/npm/vega-embed@6?noext\",\n",
       "    };\n",
       "\n",
       "    function maybeLoadScript(lib, version) {\n",
       "      var key = `${lib.replace(\"-\", \"\")}_version`;\n",
       "      return (VEGA_DEBUG[key] == version) ?\n",
       "        Promise.resolve(paths[lib]) :\n",
       "        new Promise(function(resolve, reject) {\n",
       "          var s = document.createElement('script');\n",
       "          document.getElementsByTagName(\"head\")[0].appendChild(s);\n",
       "          s.async = true;\n",
       "          s.onload = () => {\n",
       "            VEGA_DEBUG[key] = version;\n",
       "            return resolve(paths[lib]);\n",
       "          };\n",
       "          s.onerror = () => reject(`Error loading script: ${paths[lib]}`);\n",
       "          s.src = paths[lib];\n",
       "        });\n",
       "    }\n",
       "\n",
       "    function showError(err) {\n",
       "      outputDiv.innerHTML = `<div class=\"error\" style=\"color:red;\">${err}</div>`;\n",
       "      throw err;\n",
       "    }\n",
       "\n",
       "    function displayChart(vegaEmbed) {\n",
       "      vegaEmbed(outputDiv, spec, embedOpt)\n",
       "        .catch(err => showError(`Javascript Error: ${err.message}<br>This usually means there's a typo in your chart specification. See the javascript console for the full traceback.`));\n",
       "    }\n",
       "\n",
       "    if(typeof define === \"function\" && define.amd) {\n",
       "      requirejs.config({paths});\n",
       "      require([\"vega-embed\"], displayChart, err => showError(`Error loading script: ${err.message}`));\n",
       "    } else {\n",
       "      maybeLoadScript(\"vega\", \"5\")\n",
       "        .then(() => maybeLoadScript(\"vega-lite\", \"5.15.1\"))\n",
       "        .then(() => maybeLoadScript(\"vega-embed\", \"6\"))\n",
       "        .catch(showError)\n",
       "        .then(() => displayChart(vegaEmbed));\n",
       "    }\n",
       "  })({\"config\": {\"view\": {\"continuousWidth\": 300, \"continuousHeight\": 300, \"discreteHeight\": 60, \"discreteWidth\": 400}, \"header\": {\"title\": null}, \"mark\": {\"tooltip\": null}, \"title\": {\"anchor\": \"middle\"}}, \"vconcat\": [{\"mark\": {\"type\": \"bar\", \"clip\": true, \"height\": 15}, \"encoding\": {\"color\": {\"field\": \"log2_bayes_factor\", \"scale\": {\"domain\": [-10, 0, 10], \"interpolate\": \"lab\", \"range\": [\"red\", \"#bbbbbb\", \"green\"]}, \"title\": \"Match weight\", \"type\": \"quantitative\"}, \"tooltip\": [{\"field\": \"comparison_name\", \"title\": \"Comparison name\", \"type\": \"nominal\"}, {\"field\": \"probability_two_random_records_match\", \"format\": \".4f\", \"title\": \"Probability two random records match\", \"type\": \"nominal\"}, {\"field\": \"log2_bayes_factor\", \"format\": \",.4f\", \"title\": \"Equivalent match weight\", \"type\": \"quantitative\"}, {\"field\": \"bayes_factor_description\", \"title\": \"Match weight description\", \"type\": \"nominal\"}], \"x\": {\"axis\": {\"domain\": false, \"gridColor\": {\"condition\": {\"test\": \"abs(datum.value / 10)  <= 1 & datum.value % 10 === 0\", \"value\": \"#aaa\"}, \"value\": \"#ddd\"}, \"gridDash\": {\"condition\": {\"test\": \"abs(datum.value / 10) == 1\", \"value\": [3]}, \"value\": null}, \"gridWidth\": {\"condition\": {\"test\": \"abs(datum.value / 10)  <= 1 & datum.value % 10 === 0\", \"value\": 2}, \"value\": 1}, \"labels\": false, \"ticks\": false, \"title\": \"\"}, \"field\": \"log2_bayes_factor\", \"scale\": {\"domain\": [-17, 17]}, \"type\": \"quantitative\"}, \"y\": {\"axis\": {\"title\": \"Prior (starting) match weight\", \"titleAlign\": \"right\", \"titleAngle\": 0, \"titleFontWeight\": \"normal\"}, \"field\": \"label_for_charts\", \"sort\": {\"field\": \"comparison_vector_value\", \"order\": \"descending\"}, \"type\": \"nominal\"}}, \"height\": 20, \"transform\": [{\"filter\": \"(datum.comparison_name == 'probability_two_random_records_match')\"}]}, {\"mark\": {\"type\": \"bar\", \"clip\": true}, \"encoding\": {\"color\": {\"field\": \"log2_bayes_factor\", \"scale\": {\"domain\": [-10, 0, 10], \"interpolate\": \"lab\", \"range\": [\"red\", \"#bbbbbb\", \"green\"]}, \"title\": \"Match weight\", \"type\": \"quantitative\"}, \"row\": {\"field\": \"comparison_name\", \"header\": {\"labelAlign\": \"left\", \"labelAnchor\": \"middle\", \"labelAngle\": 0}, \"sort\": {\"field\": \"comparison_sort_order\"}, \"type\": \"nominal\"}, \"tooltip\": [{\"field\": \"comparison_name\", \"title\": \"Comparison name\", \"type\": \"nominal\"}, {\"field\": \"label_for_charts\", \"title\": \"Label\", \"type\": \"ordinal\"}, {\"field\": \"sql_condition\", \"title\": \"SQL condition\", \"type\": \"nominal\"}, {\"field\": \"m_probability\", \"format\": \".4f\", \"title\": \"M probability\", \"type\": \"quantitative\"}, {\"field\": \"u_probability\", \"format\": \".4f\", \"title\": \"U probability\", \"type\": \"quantitative\"}, {\"field\": \"bayes_factor\", \"format\": \",.4f\", \"title\": \"Bayes factor = m/u\", \"type\": \"quantitative\"}, {\"field\": \"log2_bayes_factor\", \"format\": \",.4f\", \"title\": \"Match weight = log2(m/u)\", \"type\": \"quantitative\"}, {\"field\": \"bayes_factor_description\", \"title\": \"Match weight description\", \"type\": \"nominal\"}], \"x\": {\"axis\": {\"gridColor\": {\"condition\": {\"test\": \"abs(datum.value / 10)  <= 1 & datum.value % 10 === 0\", \"value\": \"#aaa\"}, \"value\": \"#ddd\"}, \"gridDash\": {\"condition\": {\"test\": \"abs(datum.value / 10) == 1\", \"value\": [3]}, \"value\": null}, \"gridWidth\": {\"condition\": {\"test\": \"abs(datum.value / 10)  <= 1 & datum.value % 10 === 0\", \"value\": 2}, \"value\": 1}, \"title\": \"Comparison level match weight = log2(m/u)\"}, \"field\": \"log2_bayes_factor\", \"scale\": {\"domain\": [-17, 17]}, \"type\": \"quantitative\"}, \"y\": {\"axis\": {\"title\": null}, \"field\": \"label_for_charts\", \"sort\": {\"field\": \"comparison_vector_value\", \"order\": \"descending\"}, \"type\": \"nominal\"}}, \"height\": {\"step\": 12}, \"resolve\": {\"axis\": {\"y\": \"independent\"}, \"scale\": {\"y\": \"independent\"}}, \"transform\": [{\"filter\": \"(datum.comparison_name != 'probability_two_random_records_match')\"}]}], \"data\": {\"name\": \"data-1e45bd7892043d9514ce8d8bde01411e\"}, \"params\": [{\"name\": \"mouse_zoom\", \"select\": {\"type\": \"interval\", \"encodings\": [\"x\"]}, \"bind\": \"scales\", \"views\": []}], \"resolve\": {\"axis\": {\"y\": \"independent\"}, \"scale\": {\"y\": \"independent\"}}, \"title\": {\"text\": \"Model parameters (components of final match weight)\", \"subtitle\": \"Use mousewheel to zoom\"}, \"$schema\": \"https://vega.github.io/schema/vega-lite/v5.9.3.json\", \"datasets\": {\"data-1e45bd7892043d9514ce8d8bde01411e\": [{\"comparison_name\": \"probability_two_random_records_match\", \"sql_condition\": null, \"label_for_charts\": \"\", \"m_probability\": null, \"u_probability\": null, \"m_probability_description\": null, \"u_probability_description\": null, \"has_tf_adjustments\": false, \"tf_adjustment_column\": null, \"tf_adjustment_weight\": null, \"is_null_level\": false, \"bayes_factor\": 1.422550807346043e-05, \"log2_bayes_factor\": -16.101160294174065, \"comparison_vector_value\": 0, \"max_comparison_vector_value\": 0, \"bayes_factor_description\": \"The probability that two random records drawn at random match is 0.000 or one in  70,297.3 records.This is equivalent to a starting match weight of -16.101.\", \"probability_two_random_records_match\": 1.4225305711259186e-05, \"comparison_sort_order\": -1}, {\"comparison_name\": \"first_name_15\", \"sql_condition\": \"\\\"first_name_15_l\\\" = \\\"first_name_15_r\\\"\", \"label_for_charts\": \"Exact match\", \"m_probability\": 0.8382032210777497, \"u_probability\": 0.0019154243869072766, \"m_probability_description\": \"Amongst matching record comparisons, 83.82% of records are in the exact match comparison level\", \"u_probability_description\": \"Amongst non-matching record comparisons, 0.19% of records are in the exact match comparison level\", \"has_tf_adjustments\": false, \"tf_adjustment_column\": null, \"tf_adjustment_weight\": 1.0, \"is_null_level\": false, \"bayes_factor\": 437.6070529367893, \"log2_bayes_factor\": 8.773492180087397, \"comparison_vector_value\": 2, \"max_comparison_vector_value\": 2, \"bayes_factor_description\": \"If comparison level is `exact match` then comparison is 437.61 times more likely to be a match\", \"probability_two_random_records_match\": 1.4225305711259186e-05, \"comparison_sort_order\": 0}, {\"comparison_name\": \"first_name_15\", \"sql_condition\": \"jaro_winkler_similarity(\\\"first_name_15_l\\\", \\\"first_name_15_r\\\") >= 0.8333333333333334\", \"label_for_charts\": \"Jaro_winkler_similarity >= 0.8333333333333334\", \"m_probability\": 0.08702993392466281, \"u_probability\": 0.003534009294465568, \"m_probability_description\": \"Amongst matching record comparisons, 8.70% of records are in the jaro_winkler_similarity >= 0.8333333333333334 comparison level\", \"u_probability_description\": \"Amongst non-matching record comparisons, 0.35% of records are in the jaro_winkler_similarity >= 0.8333333333333334 comparison level\", \"has_tf_adjustments\": false, \"tf_adjustment_column\": null, \"tf_adjustment_weight\": 1.0, \"is_null_level\": false, \"bayes_factor\": 24.626402103966154, \"log2_bayes_factor\": 4.622133961623012, \"comparison_vector_value\": 1, \"max_comparison_vector_value\": 2, \"bayes_factor_description\": \"If comparison level is `jaro_winkler_similarity >= 0.8333333333333334` then comparison is 24.63 times more likely to be a match\", \"probability_two_random_records_match\": 1.4225305711259186e-05, \"comparison_sort_order\": 0}, {\"comparison_name\": \"first_name_15\", \"sql_condition\": \"ELSE\", \"label_for_charts\": \"All other comparisons\", \"m_probability\": 0.07476684499758751, \"u_probability\": 0.9945505663186271, \"m_probability_description\": \"Amongst matching record comparisons, 7.48% of records are in the all other comparisons comparison level\", \"u_probability_description\": \"Amongst non-matching record comparisons, 99.46% of records are in the all other comparisons comparison level\", \"has_tf_adjustments\": false, \"tf_adjustment_column\": null, \"tf_adjustment_weight\": 1.0, \"is_null_level\": false, \"bayes_factor\": 0.07517651442735616, \"log2_bayes_factor\": -3.7335741636587927, \"comparison_vector_value\": 0, \"max_comparison_vector_value\": 2, \"bayes_factor_description\": \"If comparison level is `all other comparisons` then comparison is  13.30 times less likely to be a match\", \"probability_two_random_records_match\": 1.4225305711259186e-05, \"comparison_sort_order\": 0}, {\"comparison_name\": \"last_name_12\", \"sql_condition\": \"\\\"last_name_12_l\\\" = \\\"last_name_12_r\\\"\", \"label_for_charts\": \"Exact match\", \"m_probability\": 0.8797222557528228, \"u_probability\": 0.0006988639102327646, \"m_probability_description\": \"Amongst matching record comparisons, 87.97% of records are in the exact match comparison level\", \"u_probability_description\": \"Amongst non-matching record comparisons, 0.07% of records are in the exact match comparison level\", \"has_tf_adjustments\": false, \"tf_adjustment_column\": null, \"tf_adjustment_weight\": 1.0, \"is_null_level\": false, \"bayes_factor\": 1258.7890759158265, \"log2_bayes_factor\": 10.297820848399583, \"comparison_vector_value\": 2, \"max_comparison_vector_value\": 2, \"bayes_factor_description\": \"If comparison level is `exact match` then comparison is 1,258.79 times more likely to be a match\", \"probability_two_random_records_match\": 1.4225305711259186e-05, \"comparison_sort_order\": 1}, {\"comparison_name\": \"last_name_12\", \"sql_condition\": \"jaro_winkler_similarity(\\\"last_name_12_l\\\", \\\"last_name_12_r\\\") >= 0.8333333333333334\", \"label_for_charts\": \"Jaro_winkler_similarity >= 0.8333333333333334\", \"m_probability\": 0.09616622695339264, \"u_probability\": 0.0013365997755498443, \"m_probability_description\": \"Amongst matching record comparisons, 9.62% of records are in the jaro_winkler_similarity >= 0.8333333333333334 comparison level\", \"u_probability_description\": \"Amongst non-matching record comparisons, 0.13% of records are in the jaro_winkler_similarity >= 0.8333333333333334 comparison level\", \"has_tf_adjustments\": false, \"tf_adjustment_column\": null, \"tf_adjustment_weight\": 1.0, \"is_null_level\": false, \"bayes_factor\": 71.94840872529117, \"log2_bayes_factor\": 6.168890874284929, \"comparison_vector_value\": 1, \"max_comparison_vector_value\": 2, \"bayes_factor_description\": \"If comparison level is `jaro_winkler_similarity >= 0.8333333333333334` then comparison is 71.95 times more likely to be a match\", \"probability_two_random_records_match\": 1.4225305711259186e-05, \"comparison_sort_order\": 1}, {\"comparison_name\": \"last_name_12\", \"sql_condition\": \"ELSE\", \"label_for_charts\": \"All other comparisons\", \"m_probability\": 0.024111517293784614, \"u_probability\": 0.9979645363142174, \"m_probability_description\": \"Amongst matching record comparisons, 2.41% of records are in the all other comparisons comparison level\", \"u_probability_description\": \"Amongst non-matching record comparisons, 99.80% of records are in the all other comparisons comparison level\", \"has_tf_adjustments\": false, \"tf_adjustment_column\": null, \"tf_adjustment_weight\": 1.0, \"is_null_level\": false, \"bayes_factor\": 0.024160695512122788, \"log2_bayes_factor\": -5.37119420376042, \"comparison_vector_value\": 0, \"max_comparison_vector_value\": 2, \"bayes_factor_description\": \"If comparison level is `all other comparisons` then comparison is  41.39 times less likely to be a match\", \"probability_two_random_records_match\": 1.4225305711259186e-05, \"comparison_sort_order\": 1}, {\"comparison_name\": \"middle_initial\", \"sql_condition\": \"\\\"middle_initial_l\\\" = \\\"middle_initial_r\\\"\", \"label_for_charts\": \"Exact match\", \"m_probability\": 0.9380634498050304, \"u_probability\": 0.07417855709636824, \"m_probability_description\": \"Amongst matching record comparisons, 93.81% of records are in the exact match comparison level\", \"u_probability_description\": \"Amongst non-matching record comparisons, 7.42% of records are in the exact match comparison level\", \"has_tf_adjustments\": false, \"tf_adjustment_column\": null, \"tf_adjustment_weight\": 1.0, \"is_null_level\": false, \"bayes_factor\": 12.646019099378758, \"log2_bayes_factor\": 3.6606113984268394, \"comparison_vector_value\": 1, \"max_comparison_vector_value\": 1, \"bayes_factor_description\": \"If comparison level is `exact match` then comparison is 12.65 times more likely to be a match\", \"probability_two_random_records_match\": 1.4225305711259186e-05, \"comparison_sort_order\": 2}, {\"comparison_name\": \"middle_initial\", \"sql_condition\": \"ELSE\", \"label_for_charts\": \"All other comparisons\", \"m_probability\": 0.06193655019496956, \"u_probability\": 0.9258214429036318, \"m_probability_description\": \"Amongst matching record comparisons, 6.19% of records are in the all other comparisons comparison level\", \"u_probability_description\": \"Amongst non-matching record comparisons, 92.58% of records are in the all other comparisons comparison level\", \"has_tf_adjustments\": false, \"tf_adjustment_column\": null, \"tf_adjustment_weight\": 1.0, \"is_null_level\": false, \"bayes_factor\": 0.06689902320767105, \"log2_bayes_factor\": -3.901871043537837, \"comparison_vector_value\": 0, \"max_comparison_vector_value\": 1, \"bayes_factor_description\": \"If comparison level is `all other comparisons` then comparison is  14.95 times less likely to be a match\", \"probability_two_random_records_match\": 1.4225305711259186e-05, \"comparison_sort_order\": 2}, {\"comparison_name\": \"day_of_birth\", \"sql_condition\": \"\\\"day_of_birth_l\\\" = \\\"day_of_birth_r\\\"\", \"label_for_charts\": \"Exact match\", \"m_probability\": 0.9762556375607983, \"u_probability\": 0.032483267196893574, \"m_probability_description\": \"Amongst matching record comparisons, 97.63% of records are in the exact match comparison level\", \"u_probability_description\": \"Amongst non-matching record comparisons, 3.25% of records are in the exact match comparison level\", \"has_tf_adjustments\": false, \"tf_adjustment_column\": null, \"tf_adjustment_weight\": 1.0, \"is_null_level\": false, \"bayes_factor\": 30.054108524346933, \"log2_bayes_factor\": 4.909490321848296, \"comparison_vector_value\": 2, \"max_comparison_vector_value\": 2, \"bayes_factor_description\": \"If comparison level is `exact match` then comparison is 30.05 times more likely to be a match\", \"probability_two_random_records_match\": 1.4225305711259186e-05, \"comparison_sort_order\": 3}, {\"comparison_name\": \"day_of_birth\", \"sql_condition\": \"abs(day_of_birth_l - day_of_birth_r) <= 5\", \"label_for_charts\": \"Inexact match\", \"m_probability\": 0.01606938447157758, \"u_probability\": 0.2953114089616295, \"m_probability_description\": \"Amongst matching record comparisons, 1.61% of records are in the inexact match comparison level\", \"u_probability_description\": \"Amongst non-matching record comparisons, 29.53% of records are in the inexact match comparison level\", \"has_tf_adjustments\": false, \"tf_adjustment_column\": null, \"tf_adjustment_weight\": 1.0, \"is_null_level\": false, \"bayes_factor\": 0.0544150479254444, \"log2_bayes_factor\": -4.199850520553557, \"comparison_vector_value\": 1, \"max_comparison_vector_value\": 2, \"bayes_factor_description\": \"If comparison level is `inexact match` then comparison is  18.38 times less likely to be a match\", \"probability_two_random_records_match\": 1.4225305711259186e-05, \"comparison_sort_order\": 3}, {\"comparison_name\": \"day_of_birth\", \"sql_condition\": \"ELSE\", \"label_for_charts\": \"All other comparisons\", \"m_probability\": 0.007674977967624159, \"u_probability\": 0.6722053238414769, \"m_probability_description\": \"Amongst matching record comparisons, 0.77% of records are in the all other comparisons comparison level\", \"u_probability_description\": \"Amongst non-matching record comparisons, 67.22% of records are in the all other comparisons comparison level\", \"has_tf_adjustments\": false, \"tf_adjustment_column\": null, \"tf_adjustment_weight\": 1.0, \"is_null_level\": false, \"bayes_factor\": 0.011417609613330158, \"log2_bayes_factor\": -6.4525955495790415, \"comparison_vector_value\": 0, \"max_comparison_vector_value\": 2, \"bayes_factor_description\": \"If comparison level is `all other comparisons` then comparison is  87.58 times less likely to be a match\", \"probability_two_random_records_match\": 1.4225305711259186e-05, \"comparison_sort_order\": 3}, {\"comparison_name\": \"month_of_birth\", \"sql_condition\": \"\\\"month_of_birth_l\\\" = \\\"month_of_birth_r\\\"\", \"label_for_charts\": \"Exact match\", \"m_probability\": 0.9864516855684848, \"u_probability\": 0.0832547076088129, \"m_probability_description\": \"Amongst matching record comparisons, 98.65% of records are in the exact match comparison level\", \"u_probability_description\": \"Amongst non-matching record comparisons, 8.33% of records are in the exact match comparison level\", \"has_tf_adjustments\": false, \"tf_adjustment_column\": null, \"tf_adjustment_weight\": 1.0, \"is_null_level\": false, \"bayes_factor\": 11.848599483449082, \"log2_bayes_factor\": 3.566644636062234, \"comparison_vector_value\": 2, \"max_comparison_vector_value\": 2, \"bayes_factor_description\": \"If comparison level is `exact match` then comparison is 11.85 times more likely to be a match\", \"probability_two_random_records_match\": 1.4225305711259186e-05, \"comparison_sort_order\": 4}, {\"comparison_name\": \"month_of_birth\", \"sql_condition\": \"abs(month_of_birth_l - month_of_birth_r) <= 3\", \"label_for_charts\": \"Inexact match\", \"m_probability\": 0.004242302628636269, \"u_probability\": 0.41938802504669287, \"m_probability_description\": \"Amongst matching record comparisons, 0.42% of records are in the inexact match comparison level\", \"u_probability_description\": \"Amongst non-matching record comparisons, 41.94% of records are in the inexact match comparison level\", \"has_tf_adjustments\": false, \"tf_adjustment_column\": null, \"tf_adjustment_weight\": 1.0, \"is_null_level\": false, \"bayes_factor\": 0.010115459610855481, \"log2_bayes_factor\": -6.627294317408164, \"comparison_vector_value\": 1, \"max_comparison_vector_value\": 2, \"bayes_factor_description\": \"If comparison level is `inexact match` then comparison is  98.86 times less likely to be a match\", \"probability_two_random_records_match\": 1.4225305711259186e-05, \"comparison_sort_order\": 4}, {\"comparison_name\": \"month_of_birth\", \"sql_condition\": \"ELSE\", \"label_for_charts\": \"All other comparisons\", \"m_probability\": 0.009306011802878803, \"u_probability\": 0.4973572673444942, \"m_probability_description\": \"Amongst matching record comparisons, 0.93% of records are in the all other comparisons comparison level\", \"u_probability_description\": \"Amongst non-matching record comparisons, 49.74% of records are in the all other comparisons comparison level\", \"has_tf_adjustments\": false, \"tf_adjustment_column\": null, \"tf_adjustment_weight\": 1.0, \"is_null_level\": false, \"bayes_factor\": 0.018710919521827355, \"log2_bayes_factor\": -5.739975730234879, \"comparison_vector_value\": 0, \"max_comparison_vector_value\": 2, \"bayes_factor_description\": \"If comparison level is `all other comparisons` then comparison is  53.44 times less likely to be a match\", \"probability_two_random_records_match\": 1.4225305711259186e-05, \"comparison_sort_order\": 4}, {\"comparison_name\": \"year_of_birth\", \"sql_condition\": \"\\\"year_of_birth_l\\\" = \\\"year_of_birth_r\\\"\", \"label_for_charts\": \"Exact match\", \"m_probability\": 0.9689705054157973, \"u_probability\": 0.01093448234753138, \"m_probability_description\": \"Amongst matching record comparisons, 96.90% of records are in the exact match comparison level\", \"u_probability_description\": \"Amongst non-matching record comparisons, 1.09% of records are in the exact match comparison level\", \"has_tf_adjustments\": false, \"tf_adjustment_column\": null, \"tf_adjustment_weight\": 1.0, \"is_null_level\": false, \"bayes_factor\": 88.61603820088993, \"log2_bayes_factor\": 6.469495923903799, \"comparison_vector_value\": 2, \"max_comparison_vector_value\": 2, \"bayes_factor_description\": \"If comparison level is `exact match` then comparison is 88.62 times more likely to be a match\", \"probability_two_random_records_match\": 1.4225305711259186e-05, \"comparison_sort_order\": 5}, {\"comparison_name\": \"year_of_birth\", \"sql_condition\": \"abs(year_of_birth_l - year_of_birth_r) <= 5\", \"label_for_charts\": \"Inexact match\", \"m_probability\": 0.011396967453235353, \"u_probability\": 0.10883934805933546, \"m_probability_description\": \"Amongst matching record comparisons, 1.14% of records are in the inexact match comparison level\", \"u_probability_description\": \"Amongst non-matching record comparisons, 10.88% of records are in the inexact match comparison level\", \"has_tf_adjustments\": false, \"tf_adjustment_column\": null, \"tf_adjustment_weight\": 1.0, \"is_null_level\": false, \"bayes_factor\": 0.10471366887480914, \"log2_bayes_factor\": -3.2554783170812747, \"comparison_vector_value\": 1, \"max_comparison_vector_value\": 2, \"bayes_factor_description\": \"If comparison level is `inexact match` then comparison is  9.55 times less likely to be a match\", \"probability_two_random_records_match\": 1.4225305711259186e-05, \"comparison_sort_order\": 5}, {\"comparison_name\": \"year_of_birth\", \"sql_condition\": \"ELSE\", \"label_for_charts\": \"All other comparisons\", \"m_probability\": 0.019632527130967234, \"u_probability\": 0.8802261695931332, \"m_probability_description\": \"Amongst matching record comparisons, 1.96% of records are in the all other comparisons comparison level\", \"u_probability_description\": \"Amongst non-matching record comparisons, 88.02% of records are in the all other comparisons comparison level\", \"has_tf_adjustments\": false, \"tf_adjustment_column\": null, \"tf_adjustment_weight\": 1.0, \"is_null_level\": false, \"bayes_factor\": 0.022303957561318557, \"log2_bayes_factor\": -5.486556468529886, \"comparison_vector_value\": 0, \"max_comparison_vector_value\": 2, \"bayes_factor_description\": \"If comparison level is `all other comparisons` then comparison is  44.84 times less likely to be a match\", \"probability_two_random_records_match\": 1.4225305711259186e-05, \"comparison_sort_order\": 5}, {\"comparison_name\": \"geokey\", \"sql_condition\": \"\\\"geokey_l\\\" = \\\"geokey_r\\\"\", \"label_for_charts\": \"Exact match\", \"m_probability\": 0.5835477831722017, \"u_probability\": 0.0021770137377073793, \"m_probability_description\": \"Amongst matching record comparisons, 58.35% of records are in the exact match comparison level\", \"u_probability_description\": \"Amongst non-matching record comparisons, 0.22% of records are in the exact match comparison level\", \"has_tf_adjustments\": false, \"tf_adjustment_column\": null, \"tf_adjustment_weight\": 1.0, \"is_null_level\": false, \"bayes_factor\": 268.04965584954823, \"log2_bayes_factor\": 8.066356472592245, \"comparison_vector_value\": 2, \"max_comparison_vector_value\": 2, \"bayes_factor_description\": \"If comparison level is `exact match` then comparison is 268.05 times more likely to be a match\", \"probability_two_random_records_match\": 1.4225305711259186e-05, \"comparison_sort_order\": 6}, {\"comparison_name\": \"geokey\", \"sql_condition\": \"jaro_winkler_similarity(\\\"geokey_l\\\", \\\"geokey_r\\\") >= 0.7222222222222222\", \"label_for_charts\": \"Jaro_winkler_similarity >= 0.7222222222222222\", \"m_probability\": 0.41267940243509793, \"u_probability\": 0.2267847759177239, \"m_probability_description\": \"Amongst matching record comparisons, 41.27% of records are in the jaro_winkler_similarity >= 0.7222222222222222 comparison level\", \"u_probability_description\": \"Amongst non-matching record comparisons, 22.68% of records are in the jaro_winkler_similarity >= 0.7222222222222222 comparison level\", \"has_tf_adjustments\": false, \"tf_adjustment_column\": null, \"tf_adjustment_weight\": 1.0, \"is_null_level\": false, \"bayes_factor\": 1.819696232981774, \"log2_bayes_factor\": 0.8636976373759889, \"comparison_vector_value\": 1, \"max_comparison_vector_value\": 2, \"bayes_factor_description\": \"If comparison level is `jaro_winkler_similarity >= 0.7222222222222222` then comparison is 1.82 times more likely to be a match\", \"probability_two_random_records_match\": 1.4225305711259186e-05, \"comparison_sort_order\": 6}, {\"comparison_name\": \"geokey\", \"sql_condition\": \"ELSE\", \"label_for_charts\": \"All other comparisons\", \"m_probability\": 0.0037728143927002944, \"u_probability\": 0.7710382103445688, \"m_probability_description\": \"Amongst matching record comparisons, 0.38% of records are in the all other comparisons comparison level\", \"u_probability_description\": \"Amongst non-matching record comparisons, 77.10% of records are in the all other comparisons comparison level\", \"has_tf_adjustments\": false, \"tf_adjustment_column\": null, \"tf_adjustment_weight\": 1.0, \"is_null_level\": false, \"bayes_factor\": 0.004893161379141332, \"log2_bayes_factor\": -7.675017420234158, \"comparison_vector_value\": 0, \"max_comparison_vector_value\": 2, \"bayes_factor_description\": \"If comparison level is `all other comparisons` then comparison is  204.37 times less likely to be a match\", \"probability_two_random_records_match\": 1.4225305711259186e-05, \"comparison_sort_order\": 6}]}}, {\"mode\": \"vega-lite\"});\n",
       "</script>"
      ],
      "text/plain": [
       "alt.VConcatChart(...)"
      ]
     },
     "execution_count": 60,
     "metadata": {},
     "output_type": "execute_result"
    }
   ],
   "source": [
    "linker.match_weights_chart()"
   ]
  },
  {
   "cell_type": "code",
   "execution_count": 61,
   "id": "0227e7b1-d573-496a-bd6f-0eb81e75e44e",
   "metadata": {
    "execution": {
     "iopub.execute_input": "2024-02-12T19:21:27.883344Z",
     "iopub.status.busy": "2024-02-12T19:21:27.883079Z",
     "iopub.status.idle": "2024-02-12T19:21:29.411489Z",
     "shell.execute_reply": "2024-02-12T19:21:29.411025Z"
    },
    "papermill": {
     "duration": 1.557137,
     "end_time": "2024-02-12T19:21:29.412696",
     "exception": false,
     "start_time": "2024-02-12T19:21:27.855559",
     "status": "completed"
    },
    "tags": []
   },
   "outputs": [
    {
     "data": {
      "text/html": [
       "\n",
       "<style>\n",
       "  #altair-viz-716faf961b6b41dcb6f52e66a5f7a347.vega-embed {\n",
       "    width: 100%;\n",
       "    display: flex;\n",
       "  }\n",
       "\n",
       "  #altair-viz-716faf961b6b41dcb6f52e66a5f7a347.vega-embed details,\n",
       "  #altair-viz-716faf961b6b41dcb6f52e66a5f7a347.vega-embed details summary {\n",
       "    position: relative;\n",
       "  }\n",
       "</style>\n",
       "<div id=\"altair-viz-716faf961b6b41dcb6f52e66a5f7a347\"></div>\n",
       "<script type=\"text/javascript\">\n",
       "  var VEGA_DEBUG = (typeof VEGA_DEBUG == \"undefined\") ? {} : VEGA_DEBUG;\n",
       "  (function(spec, embedOpt){\n",
       "    let outputDiv = document.currentScript.previousElementSibling;\n",
       "    if (outputDiv.id !== \"altair-viz-716faf961b6b41dcb6f52e66a5f7a347\") {\n",
       "      outputDiv = document.getElementById(\"altair-viz-716faf961b6b41dcb6f52e66a5f7a347\");\n",
       "    }\n",
       "    const paths = {\n",
       "      \"vega\": \"https://cdn.jsdelivr.net/npm/vega@5?noext\",\n",
       "      \"vega-lib\": \"https://cdn.jsdelivr.net/npm/vega-lib?noext\",\n",
       "      \"vega-lite\": \"https://cdn.jsdelivr.net/npm/vega-lite@5.15.1?noext\",\n",
       "      \"vega-embed\": \"https://cdn.jsdelivr.net/npm/vega-embed@6?noext\",\n",
       "    };\n",
       "\n",
       "    function maybeLoadScript(lib, version) {\n",
       "      var key = `${lib.replace(\"-\", \"\")}_version`;\n",
       "      return (VEGA_DEBUG[key] == version) ?\n",
       "        Promise.resolve(paths[lib]) :\n",
       "        new Promise(function(resolve, reject) {\n",
       "          var s = document.createElement('script');\n",
       "          document.getElementsByTagName(\"head\")[0].appendChild(s);\n",
       "          s.async = true;\n",
       "          s.onload = () => {\n",
       "            VEGA_DEBUG[key] = version;\n",
       "            return resolve(paths[lib]);\n",
       "          };\n",
       "          s.onerror = () => reject(`Error loading script: ${paths[lib]}`);\n",
       "          s.src = paths[lib];\n",
       "        });\n",
       "    }\n",
       "\n",
       "    function showError(err) {\n",
       "      outputDiv.innerHTML = `<div class=\"error\" style=\"color:red;\">${err}</div>`;\n",
       "      throw err;\n",
       "    }\n",
       "\n",
       "    function displayChart(vegaEmbed) {\n",
       "      vegaEmbed(outputDiv, spec, embedOpt)\n",
       "        .catch(err => showError(`Javascript Error: ${err.message}<br>This usually means there's a typo in your chart specification. See the javascript console for the full traceback.`));\n",
       "    }\n",
       "\n",
       "    if(typeof define === \"function\" && define.amd) {\n",
       "      requirejs.config({paths});\n",
       "      require([\"vega-embed\"], displayChart, err => showError(`Error loading script: ${err.message}`));\n",
       "    } else {\n",
       "      maybeLoadScript(\"vega\", \"5\")\n",
       "        .then(() => maybeLoadScript(\"vega-lite\", \"5.15.1\"))\n",
       "        .then(() => maybeLoadScript(\"vega-embed\", \"6\"))\n",
       "        .catch(showError)\n",
       "        .then(() => displayChart(vegaEmbed));\n",
       "    }\n",
       "  })({\"config\": {\"view\": {\"continuousWidth\": 300, \"continuousHeight\": 300, \"discreteHeight\": 300, \"discreteWidth\": 400}, \"header\": {\"title\": null}, \"title\": {\"anchor\": \"middle\", \"offset\": 10}}, \"hconcat\": [{\"mark\": \"bar\", \"encoding\": {\"color\": {\"value\": \"green\"}, \"row\": {\"field\": \"comparison_name\", \"header\": {\"labelAlign\": \"left\", \"labelAnchor\": \"middle\", \"labelAngle\": 0}, \"sort\": {\"field\": \"comparison_sort_order\"}, \"type\": \"nominal\"}, \"tooltip\": [{\"field\": \"m_probability_description\", \"title\": \"m probability description\", \"type\": \"nominal\"}, {\"field\": \"comparison_name\", \"title\": \"Comparison column name\", \"type\": \"nominal\"}, {\"field\": \"label_for_charts\", \"title\": \"Label\", \"type\": \"ordinal\"}, {\"field\": \"sql_condition\", \"title\": \"SQL condition\", \"type\": \"nominal\"}, {\"field\": \"m_probability\", \"format\": \".4p\", \"title\": \"m probability\", \"type\": \"quantitative\"}, {\"field\": \"u_probability\", \"format\": \".4p\", \"title\": \"u probability\", \"type\": \"quantitative\"}, {\"field\": \"bayes_factor\", \"format\": \",.4f\", \"title\": \"Bayes factor = m/u\", \"type\": \"quantitative\"}, {\"field\": \"log2_bayes_factor\", \"format\": \",.4f\", \"title\": \"Match weight = log2(m/u)\", \"type\": \"quantitative\"}], \"x\": {\"axis\": {\"title\": \"Proportion of record comparisons\"}, \"field\": \"m_probability\", \"type\": \"quantitative\"}, \"y\": {\"axis\": {\"title\": null}, \"field\": \"label_for_charts\", \"sort\": {\"field\": \"comparison_vector_value\", \"order\": \"descending\"}, \"type\": \"nominal\"}}, \"height\": {\"step\": 12}, \"resolve\": {\"scale\": {\"y\": \"independent\"}}, \"title\": {\"text\": \"Amongst matching record comparisons:\", \"fontSize\": 12, \"fontWeight\": \"bold\"}, \"transform\": [{\"filter\": \"(datum.bayes_factor != 'no-op filter due to vega lite issue 4680')\"}], \"width\": 150}, {\"mark\": \"bar\", \"encoding\": {\"color\": {\"value\": \"red\"}, \"row\": {\"field\": \"comparison_name\", \"header\": {\"labels\": false}, \"sort\": {\"field\": \"comparison_sort_order\"}, \"type\": \"nominal\"}, \"tooltip\": [{\"field\": \"u_probability_description\", \"title\": \"u probability description\", \"type\": \"nominal\"}, {\"field\": \"comparison_name\", \"title\": \"Comparison column name\", \"type\": \"nominal\"}, {\"field\": \"label_for_charts\", \"title\": \"Label\", \"type\": \"ordinal\"}, {\"field\": \"sql_condition\", \"title\": \"SQL condition\", \"type\": \"nominal\"}, {\"field\": \"m_probability\", \"format\": \".4p\", \"title\": \"m probability\", \"type\": \"quantitative\"}, {\"field\": \"u_probability\", \"format\": \".4p\", \"title\": \"u probability\", \"type\": \"quantitative\"}, {\"field\": \"bayes_factor\", \"format\": \",.4f\", \"title\": \"Bayes factor = m/u\", \"type\": \"quantitative\"}, {\"field\": \"log2_bayes_factor\", \"format\": \",.4f\", \"title\": \"Match weight = log2(m/u)\", \"type\": \"quantitative\"}], \"x\": {\"axis\": {\"title\": \"Proportion of record comparisons\"}, \"field\": \"u_probability\", \"type\": \"quantitative\"}, \"y\": {\"axis\": {\"title\": null}, \"field\": \"label_for_charts\", \"sort\": {\"field\": \"comparison_vector_value\", \"order\": \"descending\"}, \"type\": \"nominal\"}}, \"height\": {\"step\": 12}, \"resolve\": {\"scale\": {\"y\": \"independent\"}}, \"title\": {\"text\": \"Amongst non-matching record comparisons:\", \"fontSize\": 12, \"fontWeight\": \"bold\"}, \"transform\": [{\"filter\": \"(datum.bayes_factor != 'no-op filter2 due to vega lite issue 4680')\"}], \"width\": 150}], \"data\": {\"name\": \"data-8032b7ab49180e872d1de5f1eaa75354\"}, \"title\": {\"text\": \"Proportion of record comparisons in each comparison level by match status\", \"subtitle\": \"(m and u probabilities)\"}, \"$schema\": \"https://vega.github.io/schema/vega-lite/v5.9.3.json\", \"datasets\": {\"data-8032b7ab49180e872d1de5f1eaa75354\": [{\"comparison_name\": \"first_name_15\", \"sql_condition\": \"\\\"first_name_15_l\\\" = \\\"first_name_15_r\\\"\", \"label_for_charts\": \"Exact match\", \"m_probability\": 0.8382032210777497, \"u_probability\": 0.0019154243869072766, \"m_probability_description\": \"Amongst matching record comparisons, 83.82% of records are in the exact match comparison level\", \"u_probability_description\": \"Amongst non-matching record comparisons, 0.19% of records are in the exact match comparison level\", \"has_tf_adjustments\": false, \"tf_adjustment_column\": null, \"tf_adjustment_weight\": 1.0, \"is_null_level\": false, \"bayes_factor\": 437.6070529367893, \"log2_bayes_factor\": 8.773492180087397, \"comparison_vector_value\": 2, \"max_comparison_vector_value\": 2, \"bayes_factor_description\": \"If comparison level is `exact match` then comparison is 437.61 times more likely to be a match\", \"probability_two_random_records_match\": 1.4225305711259186e-05, \"comparison_sort_order\": 0}, {\"comparison_name\": \"first_name_15\", \"sql_condition\": \"jaro_winkler_similarity(\\\"first_name_15_l\\\", \\\"first_name_15_r\\\") >= 0.8333333333333334\", \"label_for_charts\": \"Jaro_winkler_similarity >= 0.8333333333333334\", \"m_probability\": 0.08702993392466281, \"u_probability\": 0.003534009294465568, \"m_probability_description\": \"Amongst matching record comparisons, 8.70% of records are in the jaro_winkler_similarity >= 0.8333333333333334 comparison level\", \"u_probability_description\": \"Amongst non-matching record comparisons, 0.35% of records are in the jaro_winkler_similarity >= 0.8333333333333334 comparison level\", \"has_tf_adjustments\": false, \"tf_adjustment_column\": null, \"tf_adjustment_weight\": 1.0, \"is_null_level\": false, \"bayes_factor\": 24.626402103966154, \"log2_bayes_factor\": 4.622133961623012, \"comparison_vector_value\": 1, \"max_comparison_vector_value\": 2, \"bayes_factor_description\": \"If comparison level is `jaro_winkler_similarity >= 0.8333333333333334` then comparison is 24.63 times more likely to be a match\", \"probability_two_random_records_match\": 1.4225305711259186e-05, \"comparison_sort_order\": 0}, {\"comparison_name\": \"first_name_15\", \"sql_condition\": \"ELSE\", \"label_for_charts\": \"All other comparisons\", \"m_probability\": 0.07476684499758751, \"u_probability\": 0.9945505663186271, \"m_probability_description\": \"Amongst matching record comparisons, 7.48% of records are in the all other comparisons comparison level\", \"u_probability_description\": \"Amongst non-matching record comparisons, 99.46% of records are in the all other comparisons comparison level\", \"has_tf_adjustments\": false, \"tf_adjustment_column\": null, \"tf_adjustment_weight\": 1.0, \"is_null_level\": false, \"bayes_factor\": 0.07517651442735616, \"log2_bayes_factor\": -3.7335741636587927, \"comparison_vector_value\": 0, \"max_comparison_vector_value\": 2, \"bayes_factor_description\": \"If comparison level is `all other comparisons` then comparison is  13.30 times less likely to be a match\", \"probability_two_random_records_match\": 1.4225305711259186e-05, \"comparison_sort_order\": 0}, {\"comparison_name\": \"last_name_12\", \"sql_condition\": \"\\\"last_name_12_l\\\" = \\\"last_name_12_r\\\"\", \"label_for_charts\": \"Exact match\", \"m_probability\": 0.8797222557528228, \"u_probability\": 0.0006988639102327646, \"m_probability_description\": \"Amongst matching record comparisons, 87.97% of records are in the exact match comparison level\", \"u_probability_description\": \"Amongst non-matching record comparisons, 0.07% of records are in the exact match comparison level\", \"has_tf_adjustments\": false, \"tf_adjustment_column\": null, \"tf_adjustment_weight\": 1.0, \"is_null_level\": false, \"bayes_factor\": 1258.7890759158265, \"log2_bayes_factor\": 10.297820848399583, \"comparison_vector_value\": 2, \"max_comparison_vector_value\": 2, \"bayes_factor_description\": \"If comparison level is `exact match` then comparison is 1,258.79 times more likely to be a match\", \"probability_two_random_records_match\": 1.4225305711259186e-05, \"comparison_sort_order\": 1}, {\"comparison_name\": \"last_name_12\", \"sql_condition\": \"jaro_winkler_similarity(\\\"last_name_12_l\\\", \\\"last_name_12_r\\\") >= 0.8333333333333334\", \"label_for_charts\": \"Jaro_winkler_similarity >= 0.8333333333333334\", \"m_probability\": 0.09616622695339264, \"u_probability\": 0.0013365997755498443, \"m_probability_description\": \"Amongst matching record comparisons, 9.62% of records are in the jaro_winkler_similarity >= 0.8333333333333334 comparison level\", \"u_probability_description\": \"Amongst non-matching record comparisons, 0.13% of records are in the jaro_winkler_similarity >= 0.8333333333333334 comparison level\", \"has_tf_adjustments\": false, \"tf_adjustment_column\": null, \"tf_adjustment_weight\": 1.0, \"is_null_level\": false, \"bayes_factor\": 71.94840872529117, \"log2_bayes_factor\": 6.168890874284929, \"comparison_vector_value\": 1, \"max_comparison_vector_value\": 2, \"bayes_factor_description\": \"If comparison level is `jaro_winkler_similarity >= 0.8333333333333334` then comparison is 71.95 times more likely to be a match\", \"probability_two_random_records_match\": 1.4225305711259186e-05, \"comparison_sort_order\": 1}, {\"comparison_name\": \"last_name_12\", \"sql_condition\": \"ELSE\", \"label_for_charts\": \"All other comparisons\", \"m_probability\": 0.024111517293784614, \"u_probability\": 0.9979645363142174, \"m_probability_description\": \"Amongst matching record comparisons, 2.41% of records are in the all other comparisons comparison level\", \"u_probability_description\": \"Amongst non-matching record comparisons, 99.80% of records are in the all other comparisons comparison level\", \"has_tf_adjustments\": false, \"tf_adjustment_column\": null, \"tf_adjustment_weight\": 1.0, \"is_null_level\": false, \"bayes_factor\": 0.024160695512122788, \"log2_bayes_factor\": -5.37119420376042, \"comparison_vector_value\": 0, \"max_comparison_vector_value\": 2, \"bayes_factor_description\": \"If comparison level is `all other comparisons` then comparison is  41.39 times less likely to be a match\", \"probability_two_random_records_match\": 1.4225305711259186e-05, \"comparison_sort_order\": 1}, {\"comparison_name\": \"middle_initial\", \"sql_condition\": \"\\\"middle_initial_l\\\" = \\\"middle_initial_r\\\"\", \"label_for_charts\": \"Exact match\", \"m_probability\": 0.9380634498050304, \"u_probability\": 0.07417855709636824, \"m_probability_description\": \"Amongst matching record comparisons, 93.81% of records are in the exact match comparison level\", \"u_probability_description\": \"Amongst non-matching record comparisons, 7.42% of records are in the exact match comparison level\", \"has_tf_adjustments\": false, \"tf_adjustment_column\": null, \"tf_adjustment_weight\": 1.0, \"is_null_level\": false, \"bayes_factor\": 12.646019099378758, \"log2_bayes_factor\": 3.6606113984268394, \"comparison_vector_value\": 1, \"max_comparison_vector_value\": 1, \"bayes_factor_description\": \"If comparison level is `exact match` then comparison is 12.65 times more likely to be a match\", \"probability_two_random_records_match\": 1.4225305711259186e-05, \"comparison_sort_order\": 2}, {\"comparison_name\": \"middle_initial\", \"sql_condition\": \"ELSE\", \"label_for_charts\": \"All other comparisons\", \"m_probability\": 0.06193655019496956, \"u_probability\": 0.9258214429036318, \"m_probability_description\": \"Amongst matching record comparisons, 6.19% of records are in the all other comparisons comparison level\", \"u_probability_description\": \"Amongst non-matching record comparisons, 92.58% of records are in the all other comparisons comparison level\", \"has_tf_adjustments\": false, \"tf_adjustment_column\": null, \"tf_adjustment_weight\": 1.0, \"is_null_level\": false, \"bayes_factor\": 0.06689902320767105, \"log2_bayes_factor\": -3.901871043537837, \"comparison_vector_value\": 0, \"max_comparison_vector_value\": 1, \"bayes_factor_description\": \"If comparison level is `all other comparisons` then comparison is  14.95 times less likely to be a match\", \"probability_two_random_records_match\": 1.4225305711259186e-05, \"comparison_sort_order\": 2}, {\"comparison_name\": \"day_of_birth\", \"sql_condition\": \"\\\"day_of_birth_l\\\" = \\\"day_of_birth_r\\\"\", \"label_for_charts\": \"Exact match\", \"m_probability\": 0.9762556375607983, \"u_probability\": 0.032483267196893574, \"m_probability_description\": \"Amongst matching record comparisons, 97.63% of records are in the exact match comparison level\", \"u_probability_description\": \"Amongst non-matching record comparisons, 3.25% of records are in the exact match comparison level\", \"has_tf_adjustments\": false, \"tf_adjustment_column\": null, \"tf_adjustment_weight\": 1.0, \"is_null_level\": false, \"bayes_factor\": 30.054108524346933, \"log2_bayes_factor\": 4.909490321848296, \"comparison_vector_value\": 2, \"max_comparison_vector_value\": 2, \"bayes_factor_description\": \"If comparison level is `exact match` then comparison is 30.05 times more likely to be a match\", \"probability_two_random_records_match\": 1.4225305711259186e-05, \"comparison_sort_order\": 3}, {\"comparison_name\": \"day_of_birth\", \"sql_condition\": \"abs(day_of_birth_l - day_of_birth_r) <= 5\", \"label_for_charts\": \"Inexact match\", \"m_probability\": 0.01606938447157758, \"u_probability\": 0.2953114089616295, \"m_probability_description\": \"Amongst matching record comparisons, 1.61% of records are in the inexact match comparison level\", \"u_probability_description\": \"Amongst non-matching record comparisons, 29.53% of records are in the inexact match comparison level\", \"has_tf_adjustments\": false, \"tf_adjustment_column\": null, \"tf_adjustment_weight\": 1.0, \"is_null_level\": false, \"bayes_factor\": 0.0544150479254444, \"log2_bayes_factor\": -4.199850520553557, \"comparison_vector_value\": 1, \"max_comparison_vector_value\": 2, \"bayes_factor_description\": \"If comparison level is `inexact match` then comparison is  18.38 times less likely to be a match\", \"probability_two_random_records_match\": 1.4225305711259186e-05, \"comparison_sort_order\": 3}, {\"comparison_name\": \"day_of_birth\", \"sql_condition\": \"ELSE\", \"label_for_charts\": \"All other comparisons\", \"m_probability\": 0.007674977967624159, \"u_probability\": 0.6722053238414769, \"m_probability_description\": \"Amongst matching record comparisons, 0.77% of records are in the all other comparisons comparison level\", \"u_probability_description\": \"Amongst non-matching record comparisons, 67.22% of records are in the all other comparisons comparison level\", \"has_tf_adjustments\": false, \"tf_adjustment_column\": null, \"tf_adjustment_weight\": 1.0, \"is_null_level\": false, \"bayes_factor\": 0.011417609613330158, \"log2_bayes_factor\": -6.4525955495790415, \"comparison_vector_value\": 0, \"max_comparison_vector_value\": 2, \"bayes_factor_description\": \"If comparison level is `all other comparisons` then comparison is  87.58 times less likely to be a match\", \"probability_two_random_records_match\": 1.4225305711259186e-05, \"comparison_sort_order\": 3}, {\"comparison_name\": \"month_of_birth\", \"sql_condition\": \"\\\"month_of_birth_l\\\" = \\\"month_of_birth_r\\\"\", \"label_for_charts\": \"Exact match\", \"m_probability\": 0.9864516855684848, \"u_probability\": 0.0832547076088129, \"m_probability_description\": \"Amongst matching record comparisons, 98.65% of records are in the exact match comparison level\", \"u_probability_description\": \"Amongst non-matching record comparisons, 8.33% of records are in the exact match comparison level\", \"has_tf_adjustments\": false, \"tf_adjustment_column\": null, \"tf_adjustment_weight\": 1.0, \"is_null_level\": false, \"bayes_factor\": 11.848599483449082, \"log2_bayes_factor\": 3.566644636062234, \"comparison_vector_value\": 2, \"max_comparison_vector_value\": 2, \"bayes_factor_description\": \"If comparison level is `exact match` then comparison is 11.85 times more likely to be a match\", \"probability_two_random_records_match\": 1.4225305711259186e-05, \"comparison_sort_order\": 4}, {\"comparison_name\": \"month_of_birth\", \"sql_condition\": \"abs(month_of_birth_l - month_of_birth_r) <= 3\", \"label_for_charts\": \"Inexact match\", \"m_probability\": 0.004242302628636269, \"u_probability\": 0.41938802504669287, \"m_probability_description\": \"Amongst matching record comparisons, 0.42% of records are in the inexact match comparison level\", \"u_probability_description\": \"Amongst non-matching record comparisons, 41.94% of records are in the inexact match comparison level\", \"has_tf_adjustments\": false, \"tf_adjustment_column\": null, \"tf_adjustment_weight\": 1.0, \"is_null_level\": false, \"bayes_factor\": 0.010115459610855481, \"log2_bayes_factor\": -6.627294317408164, \"comparison_vector_value\": 1, \"max_comparison_vector_value\": 2, \"bayes_factor_description\": \"If comparison level is `inexact match` then comparison is  98.86 times less likely to be a match\", \"probability_two_random_records_match\": 1.4225305711259186e-05, \"comparison_sort_order\": 4}, {\"comparison_name\": \"month_of_birth\", \"sql_condition\": \"ELSE\", \"label_for_charts\": \"All other comparisons\", \"m_probability\": 0.009306011802878803, \"u_probability\": 0.4973572673444942, \"m_probability_description\": \"Amongst matching record comparisons, 0.93% of records are in the all other comparisons comparison level\", \"u_probability_description\": \"Amongst non-matching record comparisons, 49.74% of records are in the all other comparisons comparison level\", \"has_tf_adjustments\": false, \"tf_adjustment_column\": null, \"tf_adjustment_weight\": 1.0, \"is_null_level\": false, \"bayes_factor\": 0.018710919521827355, \"log2_bayes_factor\": -5.739975730234879, \"comparison_vector_value\": 0, \"max_comparison_vector_value\": 2, \"bayes_factor_description\": \"If comparison level is `all other comparisons` then comparison is  53.44 times less likely to be a match\", \"probability_two_random_records_match\": 1.4225305711259186e-05, \"comparison_sort_order\": 4}, {\"comparison_name\": \"year_of_birth\", \"sql_condition\": \"\\\"year_of_birth_l\\\" = \\\"year_of_birth_r\\\"\", \"label_for_charts\": \"Exact match\", \"m_probability\": 0.9689705054157973, \"u_probability\": 0.01093448234753138, \"m_probability_description\": \"Amongst matching record comparisons, 96.90% of records are in the exact match comparison level\", \"u_probability_description\": \"Amongst non-matching record comparisons, 1.09% of records are in the exact match comparison level\", \"has_tf_adjustments\": false, \"tf_adjustment_column\": null, \"tf_adjustment_weight\": 1.0, \"is_null_level\": false, \"bayes_factor\": 88.61603820088993, \"log2_bayes_factor\": 6.469495923903799, \"comparison_vector_value\": 2, \"max_comparison_vector_value\": 2, \"bayes_factor_description\": \"If comparison level is `exact match` then comparison is 88.62 times more likely to be a match\", \"probability_two_random_records_match\": 1.4225305711259186e-05, \"comparison_sort_order\": 5}, {\"comparison_name\": \"year_of_birth\", \"sql_condition\": \"abs(year_of_birth_l - year_of_birth_r) <= 5\", \"label_for_charts\": \"Inexact match\", \"m_probability\": 0.011396967453235353, \"u_probability\": 0.10883934805933546, \"m_probability_description\": \"Amongst matching record comparisons, 1.14% of records are in the inexact match comparison level\", \"u_probability_description\": \"Amongst non-matching record comparisons, 10.88% of records are in the inexact match comparison level\", \"has_tf_adjustments\": false, \"tf_adjustment_column\": null, \"tf_adjustment_weight\": 1.0, \"is_null_level\": false, \"bayes_factor\": 0.10471366887480914, \"log2_bayes_factor\": -3.2554783170812747, \"comparison_vector_value\": 1, \"max_comparison_vector_value\": 2, \"bayes_factor_description\": \"If comparison level is `inexact match` then comparison is  9.55 times less likely to be a match\", \"probability_two_random_records_match\": 1.4225305711259186e-05, \"comparison_sort_order\": 5}, {\"comparison_name\": \"year_of_birth\", \"sql_condition\": \"ELSE\", \"label_for_charts\": \"All other comparisons\", \"m_probability\": 0.019632527130967234, \"u_probability\": 0.8802261695931332, \"m_probability_description\": \"Amongst matching record comparisons, 1.96% of records are in the all other comparisons comparison level\", \"u_probability_description\": \"Amongst non-matching record comparisons, 88.02% of records are in the all other comparisons comparison level\", \"has_tf_adjustments\": false, \"tf_adjustment_column\": null, \"tf_adjustment_weight\": 1.0, \"is_null_level\": false, \"bayes_factor\": 0.022303957561318557, \"log2_bayes_factor\": -5.486556468529886, \"comparison_vector_value\": 0, \"max_comparison_vector_value\": 2, \"bayes_factor_description\": \"If comparison level is `all other comparisons` then comparison is  44.84 times less likely to be a match\", \"probability_two_random_records_match\": 1.4225305711259186e-05, \"comparison_sort_order\": 5}, {\"comparison_name\": \"geokey\", \"sql_condition\": \"\\\"geokey_l\\\" = \\\"geokey_r\\\"\", \"label_for_charts\": \"Exact match\", \"m_probability\": 0.5835477831722017, \"u_probability\": 0.0021770137377073793, \"m_probability_description\": \"Amongst matching record comparisons, 58.35% of records are in the exact match comparison level\", \"u_probability_description\": \"Amongst non-matching record comparisons, 0.22% of records are in the exact match comparison level\", \"has_tf_adjustments\": false, \"tf_adjustment_column\": null, \"tf_adjustment_weight\": 1.0, \"is_null_level\": false, \"bayes_factor\": 268.04965584954823, \"log2_bayes_factor\": 8.066356472592245, \"comparison_vector_value\": 2, \"max_comparison_vector_value\": 2, \"bayes_factor_description\": \"If comparison level is `exact match` then comparison is 268.05 times more likely to be a match\", \"probability_two_random_records_match\": 1.4225305711259186e-05, \"comparison_sort_order\": 6}, {\"comparison_name\": \"geokey\", \"sql_condition\": \"jaro_winkler_similarity(\\\"geokey_l\\\", \\\"geokey_r\\\") >= 0.7222222222222222\", \"label_for_charts\": \"Jaro_winkler_similarity >= 0.7222222222222222\", \"m_probability\": 0.41267940243509793, \"u_probability\": 0.2267847759177239, \"m_probability_description\": \"Amongst matching record comparisons, 41.27% of records are in the jaro_winkler_similarity >= 0.7222222222222222 comparison level\", \"u_probability_description\": \"Amongst non-matching record comparisons, 22.68% of records are in the jaro_winkler_similarity >= 0.7222222222222222 comparison level\", \"has_tf_adjustments\": false, \"tf_adjustment_column\": null, \"tf_adjustment_weight\": 1.0, \"is_null_level\": false, \"bayes_factor\": 1.819696232981774, \"log2_bayes_factor\": 0.8636976373759889, \"comparison_vector_value\": 1, \"max_comparison_vector_value\": 2, \"bayes_factor_description\": \"If comparison level is `jaro_winkler_similarity >= 0.7222222222222222` then comparison is 1.82 times more likely to be a match\", \"probability_two_random_records_match\": 1.4225305711259186e-05, \"comparison_sort_order\": 6}, {\"comparison_name\": \"geokey\", \"sql_condition\": \"ELSE\", \"label_for_charts\": \"All other comparisons\", \"m_probability\": 0.0037728143927002944, \"u_probability\": 0.7710382103445688, \"m_probability_description\": \"Amongst matching record comparisons, 0.38% of records are in the all other comparisons comparison level\", \"u_probability_description\": \"Amongst non-matching record comparisons, 77.10% of records are in the all other comparisons comparison level\", \"has_tf_adjustments\": false, \"tf_adjustment_column\": null, \"tf_adjustment_weight\": 1.0, \"is_null_level\": false, \"bayes_factor\": 0.004893161379141332, \"log2_bayes_factor\": -7.675017420234158, \"comparison_vector_value\": 0, \"max_comparison_vector_value\": 2, \"bayes_factor_description\": \"If comparison level is `all other comparisons` then comparison is  204.37 times less likely to be a match\", \"probability_two_random_records_match\": 1.4225305711259186e-05, \"comparison_sort_order\": 6}]}}, {\"mode\": \"vega-lite\"});\n",
       "</script>"
      ],
      "text/plain": [
       "alt.HConcatChart(...)"
      ]
     },
     "execution_count": 61,
     "metadata": {},
     "output_type": "execute_result"
    }
   ],
   "source": [
    "linker.m_u_parameters_chart()"
   ]
  },
  {
   "cell_type": "code",
   "execution_count": 62,
   "id": "57bc79f6-2c8b-4e65-88f9-b91d94d19f77",
   "metadata": {
    "execution": {
     "iopub.execute_input": "2024-02-12T19:21:29.470301Z",
     "iopub.status.busy": "2024-02-12T19:21:29.469977Z",
     "iopub.status.idle": "2024-02-12T19:21:30.521581Z",
     "shell.execute_reply": "2024-02-12T19:21:30.520932Z"
    },
    "papermill": {
     "duration": 1.081815,
     "end_time": "2024-02-12T19:21:30.522756",
     "exception": false,
     "start_time": "2024-02-12T19:21:29.440941",
     "status": "completed"
    },
    "tags": []
   },
   "outputs": [
    {
     "data": {
      "text/html": [
       "\n",
       "<style>\n",
       "  #altair-viz-30f4a7c10bb4481da3ea913cbb4f58cc.vega-embed {\n",
       "    width: 100%;\n",
       "    display: flex;\n",
       "  }\n",
       "\n",
       "  #altair-viz-30f4a7c10bb4481da3ea913cbb4f58cc.vega-embed details,\n",
       "  #altair-viz-30f4a7c10bb4481da3ea913cbb4f58cc.vega-embed details summary {\n",
       "    position: relative;\n",
       "  }\n",
       "</style>\n",
       "<div id=\"altair-viz-30f4a7c10bb4481da3ea913cbb4f58cc\"></div>\n",
       "<script type=\"text/javascript\">\n",
       "  var VEGA_DEBUG = (typeof VEGA_DEBUG == \"undefined\") ? {} : VEGA_DEBUG;\n",
       "  (function(spec, embedOpt){\n",
       "    let outputDiv = document.currentScript.previousElementSibling;\n",
       "    if (outputDiv.id !== \"altair-viz-30f4a7c10bb4481da3ea913cbb4f58cc\") {\n",
       "      outputDiv = document.getElementById(\"altair-viz-30f4a7c10bb4481da3ea913cbb4f58cc\");\n",
       "    }\n",
       "    const paths = {\n",
       "      \"vega\": \"https://cdn.jsdelivr.net/npm/vega@5?noext\",\n",
       "      \"vega-lib\": \"https://cdn.jsdelivr.net/npm/vega-lib?noext\",\n",
       "      \"vega-lite\": \"https://cdn.jsdelivr.net/npm/vega-lite@5.15.1?noext\",\n",
       "      \"vega-embed\": \"https://cdn.jsdelivr.net/npm/vega-embed@6?noext\",\n",
       "    };\n",
       "\n",
       "    function maybeLoadScript(lib, version) {\n",
       "      var key = `${lib.replace(\"-\", \"\")}_version`;\n",
       "      return (VEGA_DEBUG[key] == version) ?\n",
       "        Promise.resolve(paths[lib]) :\n",
       "        new Promise(function(resolve, reject) {\n",
       "          var s = document.createElement('script');\n",
       "          document.getElementsByTagName(\"head\")[0].appendChild(s);\n",
       "          s.async = true;\n",
       "          s.onload = () => {\n",
       "            VEGA_DEBUG[key] = version;\n",
       "            return resolve(paths[lib]);\n",
       "          };\n",
       "          s.onerror = () => reject(`Error loading script: ${paths[lib]}`);\n",
       "          s.src = paths[lib];\n",
       "        });\n",
       "    }\n",
       "\n",
       "    function showError(err) {\n",
       "      outputDiv.innerHTML = `<div class=\"error\" style=\"color:red;\">${err}</div>`;\n",
       "      throw err;\n",
       "    }\n",
       "\n",
       "    function displayChart(vegaEmbed) {\n",
       "      vegaEmbed(outputDiv, spec, embedOpt)\n",
       "        .catch(err => showError(`Javascript Error: ${err.message}<br>This usually means there's a typo in your chart specification. See the javascript console for the full traceback.`));\n",
       "    }\n",
       "\n",
       "    if(typeof define === \"function\" && define.amd) {\n",
       "      requirejs.config({paths});\n",
       "      require([\"vega-embed\"], displayChart, err => showError(`Error loading script: ${err.message}`));\n",
       "    } else {\n",
       "      maybeLoadScript(\"vega\", \"5\")\n",
       "        .then(() => maybeLoadScript(\"vega-lite\", \"5.15.1\"))\n",
       "        .then(() => maybeLoadScript(\"vega-embed\", \"6\"))\n",
       "        .catch(showError)\n",
       "        .then(() => displayChart(vegaEmbed));\n",
       "    }\n",
       "  })({\"config\": {\"view\": {\"continuousWidth\": 400, \"continuousHeight\": 300}, \"title\": {\"anchor\": \"middle\", \"fontSize\": 18, \"subtitleFontSize\": 14}}, \"data\": {\"name\": \"data-2a0b2f74b42e824a597510acd7571a76\"}, \"mark\": {\"type\": \"point\", \"filled\": false, \"opacity\": 0.7, \"size\": 100}, \"encoding\": {\"color\": {\"field\": \"estimate_description\", \"type\": \"nominal\"}, \"column\": {\"align\": \"each\", \"field\": \"col_header\", \"header\": {\"labelFontSize\": 14, \"labelFontWeight\": \"bold\"}, \"title\": null, \"type\": \"nominal\"}, \"row\": {\"align\": \"each\", \"field\": \"comparison_name\", \"header\": {\"labelAlign\": \"left\", \"labelAnchor\": \"middle\", \"labelAngle\": 0, \"labelFontSize\": 12, \"labelFontWeight\": \"bold\"}, \"sort\": {\"field\": \"comparison_sort_order\"}, \"title\": null, \"type\": \"nominal\"}, \"shape\": {\"field\": \"estimate_description\", \"scale\": {\"range\": [\"circle\", \"square\", \"triangle\", \"diamond\"]}, \"type\": \"nominal\"}, \"tooltip\": [{\"field\": \"comparison_name\", \"type\": \"nominal\"}, {\"field\": \"estimate_description\", \"type\": \"nominal\"}, {\"field\": \"estimated_probability\", \"type\": \"quantitative\"}], \"x\": {\"axis\": {\"gridColor\": {\"condition\": {\"test\": \"abs(datum.value / 10)  <= 1 & datum.value % 10 === 0\", \"value\": \"#aaa\"}, \"value\": \"#ddd\"}, \"gridDash\": {\"condition\": {\"test\": \"abs(datum.value / 10) == 1\", \"value\": [3]}, \"value\": null}, \"gridWidth\": {\"condition\": {\"test\": \"abs(datum.value / 10)  <= 1 & datum.value % 10 === 0\", \"value\": 2}, \"value\": 1}}, \"field\": \"estimated_probability_as_log_odds\", \"title\": \"Estimated probability as log odds\", \"type\": \"quantitative\"}, \"y\": {\"axis\": {\"grid\": true, \"title\": null}, \"field\": \"comparison_level_label\", \"sort\": {\"field\": \"comparison_vector_value\", \"order\": \"descending\"}, \"type\": \"nominal\"}}, \"params\": [{\"name\": \"mouse_zoom\", \"select\": {\"type\": \"interval\", \"encodings\": [\"x\"]}, \"bind\": \"scales\"}], \"resolve\": {\"scale\": {\"y\": \"independent\"}}, \"title\": {\"text\": \"Comparison of parameter estimates across training sessions\", \"subtitle\": \"Use mousewheel to zoom\"}, \"transform\": [{\"calculate\": \"datum.m_or_u + '-probability (as log odds)'\", \"as\": \"col_header\"}], \"$schema\": \"https://vega.github.io/schema/vega-lite/v5.9.3.json\", \"datasets\": {\"data-2a0b2f74b42e824a597510acd7571a76\": [{\"m_or_u\": \"m\", \"estimated_probability\": 0.8382032210777497, \"estimate_description\": \"EM, blocked on: l.geokey = r.geokey\", \"estimated_probability_as_log_odds\": 2.3731171788841094, \"sql_condition\": \"\\\"first_name_15_l\\\" = \\\"first_name_15_r\\\"\", \"comparison_level_label\": \"Exact match\", \"comparison_vector_value\": 2, \"comparison_name\": \"first_name_15\", \"comparison_sort_order\": 0}, {\"m_or_u\": \"m\", \"estimated_probability\": 0.08702993392466281, \"estimate_description\": \"EM, blocked on: l.geokey = r.geokey\", \"estimated_probability_as_log_odds\": -3.390983952710495, \"sql_condition\": \"jaro_winkler_similarity(\\\"first_name_15_l\\\", \\\"first_name_15_r\\\") >= 0.8333333333333334\", \"comparison_level_label\": \"Jaro_winkler_similarity >= 0.8333333333333334\", \"comparison_vector_value\": 1, \"comparison_name\": \"first_name_15\", \"comparison_sort_order\": 0}, {\"m_or_u\": \"m\", \"estimated_probability\": 0.07476684499758751, \"estimate_description\": \"EM, blocked on: l.geokey = r.geokey\", \"estimated_probability_as_log_odds\": -3.62934640397624, \"sql_condition\": \"ELSE\", \"comparison_level_label\": \"All other comparisons\", \"comparison_vector_value\": 0, \"comparison_name\": \"first_name_15\", \"comparison_sort_order\": 0}, {\"m_or_u\": \"m\", \"estimated_probability\": 0.8819331741788478, \"estimate_description\": \"EM, blocked on: l.first_name_15 = r.first_name_15 and l.zipcode = r.zipcode\", \"estimated_probability_as_log_odds\": 2.9010656879392567, \"sql_condition\": \"\\\"last_name_12_l\\\" = \\\"last_name_12_r\\\"\", \"comparison_level_label\": \"Exact match\", \"comparison_vector_value\": 2, \"comparison_name\": \"last_name_12\", \"comparison_sort_order\": 1}, {\"m_or_u\": \"m\", \"estimated_probability\": 0.8775113373267978, \"estimate_description\": \"EM, blocked on: l.geokey = r.geokey\", \"estimated_probability_as_log_odds\": 2.8407695427703117, \"sql_condition\": \"\\\"last_name_12_l\\\" = \\\"last_name_12_r\\\"\", \"comparison_level_label\": \"Exact match\", \"comparison_vector_value\": 2, \"comparison_name\": \"last_name_12\", \"comparison_sort_order\": 1}, {\"m_or_u\": \"m\", \"estimated_probability\": 0.0903580975548666, \"estimate_description\": \"EM, blocked on: l.first_name_15 = r.first_name_15 and l.zipcode = r.zipcode\", \"estimated_probability_as_log_odds\": -3.3315729122447175, \"sql_condition\": \"jaro_winkler_similarity(\\\"last_name_12_l\\\", \\\"last_name_12_r\\\") >= 0.8333333333333334\", \"comparison_level_label\": \"Jaro_winkler_similarity >= 0.8333333333333334\", \"comparison_vector_value\": 1, \"comparison_name\": \"last_name_12\", \"comparison_sort_order\": 1}, {\"m_or_u\": \"m\", \"estimated_probability\": 0.10197435635191866, \"estimate_description\": \"EM, blocked on: l.geokey = r.geokey\", \"estimated_probability_as_log_odds\": -3.138550241489345, \"sql_condition\": \"jaro_winkler_similarity(\\\"last_name_12_l\\\", \\\"last_name_12_r\\\") >= 0.8333333333333334\", \"comparison_level_label\": \"Jaro_winkler_similarity >= 0.8333333333333334\", \"comparison_vector_value\": 1, \"comparison_name\": \"last_name_12\", \"comparison_sort_order\": 1}, {\"m_or_u\": \"m\", \"estimated_probability\": 0.027708728266285614, \"estimate_description\": \"EM, blocked on: l.first_name_15 = r.first_name_15 and l.zipcode = r.zipcode\", \"estimated_probability_as_log_odds\": -5.1329761675554995, \"sql_condition\": \"ELSE\", \"comparison_level_label\": \"All other comparisons\", \"comparison_vector_value\": 0, \"comparison_name\": \"last_name_12\", \"comparison_sort_order\": 1}, {\"m_or_u\": \"m\", \"estimated_probability\": 0.02051430632128361, \"estimate_description\": \"EM, blocked on: l.geokey = r.geokey\", \"estimated_probability_as_log_odds\": -5.577322144394069, \"sql_condition\": \"ELSE\", \"comparison_level_label\": \"All other comparisons\", \"comparison_vector_value\": 0, \"comparison_name\": \"last_name_12\", \"comparison_sort_order\": 1}, {\"m_or_u\": \"m\", \"estimated_probability\": 0.9441223311390134, \"estimate_description\": \"EM, blocked on: l.first_name_15 = r.first_name_15 and l.zipcode = r.zipcode\", \"estimated_probability_as_log_odds\": 4.078630063666956, \"sql_condition\": \"\\\"middle_initial_l\\\" = \\\"middle_initial_r\\\"\", \"comparison_level_label\": \"Exact match\", \"comparison_vector_value\": 1, \"comparison_name\": \"middle_initial\", \"comparison_sort_order\": 2}, {\"m_or_u\": \"m\", \"estimated_probability\": 0.9320045684710474, \"estimate_description\": \"EM, blocked on: l.geokey = r.geokey\", \"estimated_probability_as_log_odds\": 3.776827303589816, \"sql_condition\": \"\\\"middle_initial_l\\\" = \\\"middle_initial_r\\\"\", \"comparison_level_label\": \"Exact match\", \"comparison_vector_value\": 1, \"comparison_name\": \"middle_initial\", \"comparison_sort_order\": 2}, {\"m_or_u\": \"m\", \"estimated_probability\": 0.05587766886098656, \"estimate_description\": \"EM, blocked on: l.first_name_15 = r.first_name_15 and l.zipcode = r.zipcode\", \"estimated_probability_as_log_odds\": -4.078630063666956, \"sql_condition\": \"ELSE\", \"comparison_level_label\": \"All other comparisons\", \"comparison_vector_value\": 0, \"comparison_name\": \"middle_initial\", \"comparison_sort_order\": 2}, {\"m_or_u\": \"m\", \"estimated_probability\": 0.06799543152895256, \"estimate_description\": \"EM, blocked on: l.geokey = r.geokey\", \"estimated_probability_as_log_odds\": -3.7768273035898168, \"sql_condition\": \"ELSE\", \"comparison_level_label\": \"All other comparisons\", \"comparison_vector_value\": 0, \"comparison_name\": \"middle_initial\", \"comparison_sort_order\": 2}, {\"m_or_u\": \"m\", \"estimated_probability\": 0.9767194124615205, \"estimate_description\": \"EM, blocked on: l.first_name_15 = r.first_name_15 and l.zipcode = r.zipcode\", \"estimated_probability_as_log_odds\": 5.390744797299109, \"sql_condition\": \"\\\"day_of_birth_l\\\" = \\\"day_of_birth_r\\\"\", \"comparison_level_label\": \"Exact match\", \"comparison_vector_value\": 2, \"comparison_name\": \"day_of_birth\", \"comparison_sort_order\": 3}, {\"m_or_u\": \"m\", \"estimated_probability\": 0.975791862660076, \"estimate_description\": \"EM, blocked on: l.geokey = r.geokey\", \"estimated_probability_as_log_odds\": 5.333009469728473, \"sql_condition\": \"\\\"day_of_birth_l\\\" = \\\"day_of_birth_r\\\"\", \"comparison_level_label\": \"Exact match\", \"comparison_vector_value\": 2, \"comparison_name\": \"day_of_birth\", \"comparison_sort_order\": 3}, {\"m_or_u\": \"m\", \"estimated_probability\": 0.01554082304167103, \"estimate_description\": \"EM, blocked on: l.first_name_15 = r.first_name_15 and l.zipcode = r.zipcode\", \"estimated_probability_as_log_odds\": -5.985196566457339, \"sql_condition\": \"abs(day_of_birth_l - day_of_birth_r) <= 5\", \"comparison_level_label\": \"Inexact match\", \"comparison_vector_value\": 1, \"comparison_name\": \"day_of_birth\", \"comparison_sort_order\": 3}, {\"m_or_u\": \"m\", \"estimated_probability\": 0.01659794590148413, \"estimate_description\": \"EM, blocked on: l.geokey = r.geokey\", \"estimated_probability_as_log_odds\": -5.888704753323709, \"sql_condition\": \"abs(day_of_birth_l - day_of_birth_r) <= 5\", \"comparison_level_label\": \"Inexact match\", \"comparison_vector_value\": 1, \"comparison_name\": \"day_of_birth\", \"comparison_sort_order\": 3}, {\"m_or_u\": \"m\", \"estimated_probability\": 0.007739764496808504, \"estimate_description\": \"EM, blocked on: l.first_name_15 = r.first_name_15 and l.zipcode = r.zipcode\", \"estimated_probability_as_log_odds\": -7.002285059815409, \"sql_condition\": \"ELSE\", \"comparison_level_label\": \"All other comparisons\", \"comparison_vector_value\": 0, \"comparison_name\": \"day_of_birth\", \"comparison_sort_order\": 3}, {\"m_or_u\": \"m\", \"estimated_probability\": 0.007610191438439815, \"estimate_description\": \"EM, blocked on: l.geokey = r.geokey\", \"estimated_probability_as_log_odds\": -7.026830363240283, \"sql_condition\": \"ELSE\", \"comparison_level_label\": \"All other comparisons\", \"comparison_vector_value\": 0, \"comparison_name\": \"day_of_birth\", \"comparison_sort_order\": 3}, {\"m_or_u\": \"m\", \"estimated_probability\": 0.983631229520466, \"estimate_description\": \"EM, blocked on: l.first_name_15 = r.first_name_15 and l.zipcode = r.zipcode\", \"estimated_probability_as_log_odds\": 5.90909967540253, \"sql_condition\": \"\\\"month_of_birth_l\\\" = \\\"month_of_birth_r\\\"\", \"comparison_level_label\": \"Exact match\", \"comparison_vector_value\": 2, \"comparison_name\": \"month_of_birth\", \"comparison_sort_order\": 4}, {\"m_or_u\": \"m\", \"estimated_probability\": 0.9892721416165037, \"estimate_description\": \"EM, blocked on: l.geokey = r.geokey\", \"estimated_probability_as_log_odds\": 6.526933447723221, \"sql_condition\": \"\\\"month_of_birth_l\\\" = \\\"month_of_birth_r\\\"\", \"comparison_level_label\": \"Exact match\", \"comparison_vector_value\": 2, \"comparison_name\": \"month_of_birth\", \"comparison_sort_order\": 4}, {\"m_or_u\": \"m\", \"estimated_probability\": 0.008365372249591553, \"estimate_description\": \"EM, blocked on: l.first_name_15 = r.first_name_15 and l.zipcode = r.zipcode\", \"estimated_probability_as_log_odds\": -6.8892351008119785, \"sql_condition\": \"abs(month_of_birth_l - month_of_birth_r) <= 3\", \"comparison_level_label\": \"Inexact match\", \"comparison_vector_value\": 1, \"comparison_name\": \"month_of_birth\", \"comparison_sort_order\": 4}, {\"m_or_u\": \"m\", \"estimated_probability\": 0.00011923300768098369, \"estimate_description\": \"EM, blocked on: l.geokey = r.geokey\", \"estimated_probability_as_log_odds\": -13.033756675134255, \"sql_condition\": \"abs(month_of_birth_l - month_of_birth_r) <= 3\", \"comparison_level_label\": \"Inexact match\", \"comparison_vector_value\": 1, \"comparison_name\": \"month_of_birth\", \"comparison_sort_order\": 4}, {\"m_or_u\": \"m\", \"estimated_probability\": 0.008003398229942345, \"estimate_description\": \"EM, blocked on: l.first_name_15 = r.first_name_15 and l.zipcode = r.zipcode\", \"estimated_probability_as_log_odds\": -6.9535786721669695, \"sql_condition\": \"ELSE\", \"comparison_level_label\": \"All other comparisons\", \"comparison_vector_value\": 0, \"comparison_name\": \"month_of_birth\", \"comparison_sort_order\": 4}, {\"m_or_u\": \"m\", \"estimated_probability\": 0.01060862537581526, \"estimate_description\": \"EM, blocked on: l.geokey = r.geokey\", \"estimated_probability_as_log_odds\": -6.543231687642693, \"sql_condition\": \"ELSE\", \"comparison_level_label\": \"All other comparisons\", \"comparison_vector_value\": 0, \"comparison_name\": \"month_of_birth\", \"comparison_sort_order\": 4}, {\"m_or_u\": \"m\", \"estimated_probability\": 0.9719074541159008, \"estimate_description\": \"EM, blocked on: l.first_name_15 = r.first_name_15 and l.zipcode = r.zipcode\", \"estimated_probability_as_log_odds\": 5.112559666085951, \"sql_condition\": \"\\\"year_of_birth_l\\\" = \\\"year_of_birth_r\\\"\", \"comparison_level_label\": \"Exact match\", \"comparison_vector_value\": 2, \"comparison_name\": \"year_of_birth\", \"comparison_sort_order\": 5}, {\"m_or_u\": \"m\", \"estimated_probability\": 0.9660335567156939, \"estimate_description\": \"EM, blocked on: l.geokey = r.geokey\", \"estimated_probability_as_log_odds\": 4.829891241400817, \"sql_condition\": \"\\\"year_of_birth_l\\\" = \\\"year_of_birth_r\\\"\", \"comparison_level_label\": \"Exact match\", \"comparison_vector_value\": 2, \"comparison_name\": \"year_of_birth\", \"comparison_sort_order\": 5}, {\"m_or_u\": \"m\", \"estimated_probability\": 0.00954095349845103, \"estimate_description\": \"EM, blocked on: l.first_name_15 = r.first_name_15 and l.zipcode = r.zipcode\", \"estimated_probability_as_log_odds\": -6.697820060889097, \"sql_condition\": \"abs(year_of_birth_l - year_of_birth_r) <= 5\", \"comparison_level_label\": \"Inexact match\", \"comparison_vector_value\": 1, \"comparison_name\": \"year_of_birth\", \"comparison_sort_order\": 5}, {\"m_or_u\": \"m\", \"estimated_probability\": 0.013252981408019678, \"estimate_description\": \"EM, blocked on: l.geokey = r.geokey\", \"estimated_probability_as_log_odds\": -6.218291403230556, \"sql_condition\": \"abs(year_of_birth_l - year_of_birth_r) <= 5\", \"comparison_level_label\": \"Inexact match\", \"comparison_vector_value\": 1, \"comparison_name\": \"year_of_birth\", \"comparison_sort_order\": 5}, {\"m_or_u\": \"m\", \"estimated_probability\": 0.018551592385648165, \"estimate_description\": \"EM, blocked on: l.first_name_15 = r.first_name_15 and l.zipcode = r.zipcode\", \"estimated_probability_as_log_odds\": -5.725297498913213, \"sql_condition\": \"ELSE\", \"comparison_level_label\": \"All other comparisons\", \"comparison_vector_value\": 0, \"comparison_name\": \"year_of_birth\", \"comparison_sort_order\": 5}, {\"m_or_u\": \"m\", \"estimated_probability\": 0.020713461876286306, \"estimate_description\": \"EM, blocked on: l.geokey = r.geokey\", \"estimated_probability_as_log_odds\": -5.563090453610703, \"sql_condition\": \"ELSE\", \"comparison_level_label\": \"All other comparisons\", \"comparison_vector_value\": 0, \"comparison_name\": \"year_of_birth\", \"comparison_sort_order\": 5}, {\"m_or_u\": \"m\", \"estimated_probability\": 0.5835477831722017, \"estimate_description\": \"EM, blocked on: l.first_name_15 = r.first_name_15 and l.zipcode = r.zipcode\", \"estimated_probability_as_log_odds\": 0.4866998220947318, \"sql_condition\": \"\\\"geokey_l\\\" = \\\"geokey_r\\\"\", \"comparison_level_label\": \"Exact match\", \"comparison_vector_value\": 2, \"comparison_name\": \"geokey\", \"comparison_sort_order\": 6}, {\"m_or_u\": \"m\", \"estimated_probability\": 0.41267940243509793, \"estimate_description\": \"EM, blocked on: l.first_name_15 = r.first_name_15 and l.zipcode = r.zipcode\", \"estimated_probability_as_log_odds\": -0.5091268019467562, \"sql_condition\": \"jaro_winkler_similarity(\\\"geokey_l\\\", \\\"geokey_r\\\") >= 0.7222222222222222\", \"comparison_level_label\": \"Jaro_winkler_similarity >= 0.7222222222222222\", \"comparison_vector_value\": 1, \"comparison_name\": \"geokey\", \"comparison_sort_order\": 6}, {\"m_or_u\": \"m\", \"estimated_probability\": 0.0037728143927002944, \"estimate_description\": \"EM, blocked on: l.first_name_15 = r.first_name_15 and l.zipcode = r.zipcode\", \"estimated_probability_as_log_odds\": -8.044689843297363, \"sql_condition\": \"ELSE\", \"comparison_level_label\": \"All other comparisons\", \"comparison_vector_value\": 0, \"comparison_name\": \"geokey\", \"comparison_sort_order\": 6}]}}, {\"mode\": \"vega-lite\"});\n",
       "</script>"
      ],
      "text/plain": [
       "alt.Chart(...)"
      ]
     },
     "execution_count": 62,
     "metadata": {},
     "output_type": "execute_result"
    }
   ],
   "source": [
    "linker.parameter_estimate_comparisons_chart()"
   ]
  },
  {
   "cell_type": "code",
   "execution_count": 63,
   "id": "10a026ed-761b-45ee-b44b-9259423e518e",
   "metadata": {
    "execution": {
     "iopub.execute_input": "2024-02-12T19:21:30.580551Z",
     "iopub.status.busy": "2024-02-12T19:21:30.580246Z",
     "iopub.status.idle": "2024-02-12T19:21:30.583379Z",
     "shell.execute_reply": "2024-02-12T19:21:30.582843Z"
    },
    "papermill": {
     "duration": 0.032903,
     "end_time": "2024-02-12T19:21:30.584466",
     "exception": false,
     "start_time": "2024-02-12T19:21:30.551563",
     "status": "completed"
    },
    "tags": []
   },
   "outputs": [],
   "source": [
    "splink_settings = linker._settings_obj.as_dict()"
   ]
  },
  {
   "cell_type": "code",
   "execution_count": 64,
   "id": "92188bbf-e12e-42f2-8a32-b007ea05e0cf",
   "metadata": {
    "execution": {
     "iopub.execute_input": "2024-02-12T19:21:30.640402Z",
     "iopub.status.busy": "2024-02-12T19:21:30.640122Z",
     "iopub.status.idle": "2024-02-12T19:21:30.648819Z",
     "shell.execute_reply": "2024-02-12T19:21:30.648273Z"
    },
    "papermill": {
     "duration": 0.038545,
     "end_time": "2024-02-12T19:21:30.650236",
     "exception": false,
     "start_time": "2024-02-12T19:21:30.611691",
     "status": "completed"
    },
    "tags": []
   },
   "outputs": [],
   "source": [
    "import pickle\n",
    "\n",
    "with open(f'{intermediate_data_dir}/splink_settings.pkl', 'wb') as f:\n",
    "    pickle.dump(splink_settings, f, protocol=-1)"
   ]
  },
  {
   "cell_type": "code",
   "execution_count": 65,
   "id": "0626e377-c1b5-444e-b380-a99ae5156b4e",
   "metadata": {
    "execution": {
     "iopub.execute_input": "2024-02-12T19:21:30.711566Z",
     "iopub.status.busy": "2024-02-12T19:21:30.711304Z",
     "iopub.status.idle": "2024-02-12T19:21:30.714955Z",
     "shell.execute_reply": "2024-02-12T19:21:30.714539Z"
    },
    "papermill": {
     "duration": 0.032681,
     "end_time": "2024-02-12T19:21:30.716077",
     "exception": false,
     "start_time": "2024-02-12T19:21:30.683396",
     "status": "completed"
    },
    "tags": []
   },
   "outputs": [],
   "source": [
    "with open(f'{intermediate_data_dir}/splink_settings.pkl', 'rb') as f:\n",
    "    splink_settings = pickle.load(f)"
   ]
  },
  {
   "cell_type": "markdown",
   "id": "f1b9963e-73da-4b51-837d-d79deca7fecf",
   "metadata": {
    "papermill": {
     "duration": 0.028668,
     "end_time": "2024-02-12T19:21:30.772369",
     "exception": false,
     "start_time": "2024-02-12T19:21:30.743701",
     "status": "completed"
    },
    "tags": []
   },
   "source": [
    "## Implement matching passes"
   ]
  },
  {
   "cell_type": "code",
   "execution_count": 66,
   "id": "f437d4c7-b848-4c19-b29d-5f48d10ce911",
   "metadata": {
    "editable": true,
    "execution": {
     "iopub.execute_input": "2024-02-12T19:21:30.829583Z",
     "iopub.status.busy": "2024-02-12T19:21:30.829272Z",
     "iopub.status.idle": "2024-02-12T19:21:30.902075Z",
     "shell.execute_reply": "2024-02-12T19:21:30.901122Z"
    },
    "papermill": {
     "duration": 0.103369,
     "end_time": "2024-02-12T19:21:30.903327",
     "exception": false,
     "start_time": "2024-02-12T19:21:30.799958",
     "status": "completed"
    },
    "slideshow": {
     "slide_type": ""
    },
    "tags": []
   },
   "outputs": [],
   "source": [
    "from dataclasses import dataclass\n",
    "\n",
    "# Calculate this once to save time -- mapping from record_id to record_id_raw_input_file\n",
    "# There can be multiple records (with different record_id) for the same input file record\n",
    "# (record_id_raw_input_file) because of the handling of nicknames by creating extra records.\n",
    "record_id_raw_input_file_by_record_id = census_2030[['record_id', 'record_id_raw_input_file']]\n",
    "\n",
    "all_piks = df_ops.persist(df_ops.concat([\n",
    "    name_dob_reference_file[[\"record_id\", \"pik\"]],\n",
    "    geobase_reference_file[[\"record_id\", \"pik\"]]\n",
    "], ignore_index=True))\n",
    "\n",
    "dates_of_death = df_ops.persist(\n",
    "    df_ops.read_parquet(f'{input_dir}/{data_to_use}/simulated_census_numident.parquet')\n",
    "        [['pik', 'date_of_death']]\n",
    "        .assign(date_of_death=lambda s: pd.to_datetime(s.date_of_death, format='%Y%m%d', errors='coerce'))\n",
    ")\n",
    "\n",
    "class PersonLinkageCascade:\n",
    "    def __init__(self):\n",
    "        # This dataframe will accumulate the PIKs to attach to the input file\n",
    "        self.confirmed_piks = df_ops.empty_dataframe(columns=[\"record_id_raw_input_file\", \"pik\"], dtype=str)\n",
    "        self.current_module = None\n",
    "\n",
    "    def start_module(self, *args, **kwargs):\n",
    "        assert self.current_module is None or self.current_module.confirmed\n",
    "        self.current_module = PersonLinkageModule(*args, already_confirmed_piks=self.confirmed_piks, **kwargs)\n",
    "\n",
    "    def run_matching_pass(self, *args, **kwargs):\n",
    "        self.current_module.run_matching_pass(*args, **kwargs)\n",
    "\n",
    "    def confirm_piks(self, *args, **kwargs):\n",
    "        # Make sure we are not about to confirm PIKs for any of the same files we have\n",
    "        # already PIKed\n",
    "        assert len(\n",
    "            self.current_module.provisional_links.merge(self.confirmed_piks, on='record_id_raw_input_file', how='inner')\n",
    "        ) == 0\n",
    "\n",
    "        newly_confirmed_piks = self.current_module.confirm_piks_from_provisional_links()\n",
    "        if compute_engine == 'dask':\n",
    "            # An implementation of \"checkpointing\" in Dask, so we can safely delete the source files\n",
    "            # without risking permanent loss of data we will need\n",
    "            dir_path = f'{output_dir}/intermediate_data/newly_confirmed_piks/newly_confirmed_piks_{self.current_module.name}'\n",
    "            utils.ensure_empty(dir_path)\n",
    "            file_path = f'{dir_path}/newly_confirmed_piks_{self.current_module.name}_{int(time.time())}.parquet'\n",
    "            df_ops.to_parquet(newly_confirmed_piks, file_path, wait=True)\n",
    "            newly_confirmed_piks = df_ops.read_parquet(file_path)\n",
    "\n",
    "        # We are now done with the intermediate data inside this module\n",
    "        dir_path = f'{output_dir}/intermediate_data/{self.current_module.name}/'\n",
    "        utils.remove_path(dir_path)\n",
    "\n",
    "        self.confirmed_piks = df_ops.persist(df_ops.concat([\n",
    "            self.confirmed_piks,\n",
    "            newly_confirmed_piks,\n",
    "        ], ignore_index=True))\n",
    "\n",
    "@dataclass\n",
    "class PersonLinkageModule:\n",
    "    name: str\n",
    "    reference_file: pd.DataFrame\n",
    "    reference_file_name: str\n",
    "    already_confirmed_piks: pd.DataFrame\n",
    "    cut_columns: list[str]\n",
    "    matching_columns: list[str]\n",
    "    bayes_factor_cut_columns: float = 1\n",
    "\n",
    "    def __post_init__(self):\n",
    "        self.provisional_links = df_ops.empty_dataframe(columns=[\"record_id_census_2030\"], dtype=str)\n",
    "        self.confirmed = False\n",
    "        utils.ensure_empty(f'{intermediate_data_dir}/for_splink/')\n",
    "        self.reference_file_for_splink = prep_table_for_splink(self.reference_file, self.reference_file_name, self.reference_file.columns)\n",
    "        if clear_intermediate:\n",
    "            utils.ensure_empty(f'{output_dir}/intermediate_data/{self.name}/')\n",
    "        self.census_to_match = df_ops.persist(\n",
    "            census_2030\n",
    "                # Only look for matches among records that have not received a confirmed PIK\n",
    "                .merge(self.already_confirmed_piks[['record_id_raw_input_file']].assign(already_confirmed_dummy=1), on='record_id_raw_input_file', how='left')\n",
    "                .pipe(lambda df: df[df.already_confirmed_dummy.isna()])\n",
    "                .drop(columns=[\"already_confirmed_dummy\"])\n",
    "        )\n",
    "\n",
    "    def run_matching_pass(\n",
    "        self,\n",
    "        pass_name,\n",
    "        blocking_columns,\n",
    "        probability_threshold=0.99,\n",
    "        input_data_transformation=lambda x: x,\n",
    "    ):\n",
    "        assert self.confirmed == False\n",
    "\n",
    "        print(f\"Running {pass_name} of {self.name}\")\n",
    "\n",
    "        columns_needed = utils.dedupe_list([\"record_id\"] + self.cut_columns + blocking_columns + self.matching_columns)\n",
    "        print(f\"Files to link are {len(self.reference_file):,.0f} and {len(self.census_to_match):,.0f} records\")\n",
    "        if splink_engine == 'spark':\n",
    "            reference_file_for_splink = self.reference_file_for_splink.select(columns_needed)\n",
    "        else:\n",
    "            reference_file_for_splink = self.reference_file_for_splink[columns_needed]\n",
    "\n",
    "        tables_for_splink = [\n",
    "            reference_file_for_splink,\n",
    "            prep_table_for_splink(\n",
    "                self.census_to_match.pipe(input_data_transformation),\n",
    "                \"census_2030\",\n",
    "                columns_needed,\n",
    "            )\n",
    "        ]\n",
    "\n",
    "        blocking_rule_parts = [f\"l.{col} = r.{col}\" for col in self.cut_columns + blocking_columns]\n",
    "        blocking_rule = \" and \".join(blocking_rule_parts)\n",
    "\n",
    "        if splink_engine == 'spark':\n",
    "            blocking_rule = {\n",
    "                \"blocking_rule\": blocking_rule,\n",
    "                \"salting_partitions\": 10,\n",
    "            }\n",
    "\n",
    "        # We base our Splink linker for this pass on the one we trained above,\n",
    "        # but limiting it to the relevant column comparisons and updating the pass-specific\n",
    "        # settings\n",
    "        pass_splink_settings = copy.deepcopy(splink_settings)\n",
    "        pass_splink_settings[\"comparisons\"] = [\n",
    "            c for c in pass_splink_settings[\"comparisons\"] if c[\"output_column_name\"] in self.matching_columns\n",
    "        ]\n",
    "        prior_two_random_records_match = probability_two_random_records_match(\n",
    "            census_2030,\n",
    "            self.reference_file,\n",
    "        )\n",
    "        prior_odds_two_random_records_match = prior_two_random_records_match / (1 - prior_two_random_records_match)\n",
    "        # If cut columns are not used for matching, need to adjust our prior for the fact\n",
    "        # that all pairs compared will have the same values in the cut columns\n",
    "        odds_two_random_records_match = prior_odds_two_random_records_match * self.bayes_factor_cut_columns\n",
    "        pass_splink_settings[\"probability_two_random_records_match\"] = odds_two_random_records_match / (1 + odds_two_random_records_match)\n",
    "        pass_splink_settings[\"blocking_rules_to_generate_predictions\"] = [blocking_rule]\n",
    "\n",
    "        if splink_engine == 'duckdb':\n",
    "            linker = DuckDBLinker(\n",
    "                tables_for_splink,\n",
    "                pass_splink_settings,\n",
    "                # Must match order of tables_for_splink\n",
    "                input_table_aliases=[\"reference_file\", \"census_2030\"]\n",
    "            )\n",
    "        else:\n",
    "            linker = SparkLinker(\n",
    "                tables_for_splink,\n",
    "                pass_splink_settings,\n",
    "                # Must match order of tables_for_splink\n",
    "                input_table_aliases=[\"reference_file\", \"census_2030\"],\n",
    "                spark=spark,\n",
    "            )\n",
    "\n",
    "        num_comparisons = linker.count_num_comparisons_from_blocking_rule(blocking_rule)\n",
    "        print(f\"Number of pairs that will be compared: {num_comparisons:,.0f}\")\n",
    "    \n",
    "        # https://moj-analytical-services.github.io/splink/demos/06_Visualising_predictions.html#comparison-viewer-dashboard\n",
    "        # We also include some pairs below the threshold, for additional context.\n",
    "        pairs_worth_inspecting = linker.predict(threshold_match_probability=probability_threshold - 0.2)\n",
    "\n",
    "        if linker.query_sql(f'select count(*) as num from {pairs_worth_inspecting.physical_name}').num.iloc[0] > 0:\n",
    "            dashboard_file_name = f\"splink_temp/{self.name.replace(' ', '_')}__{pass_name.replace(' ', '_')}.html\"\n",
    "            linker.comparison_viewer_dashboard(pairs_worth_inspecting, dashboard_file_name, overwrite=True)\n",
    "            from IPython.display import IFrame, display\n",
    "            display(IFrame(\n",
    "                src=f\"./{dashboard_file_name}\", width=\"100%\", height=1200\n",
    "            ))\n",
    "\n",
    "        if compute_engine == 'pandas':\n",
    "            new_provisional_links = pairs_worth_inspecting.as_pandas_dataframe()\n",
    "            new_provisional_links = new_provisional_links[new_provisional_links.match_probability >= probability_threshold]\n",
    "        elif splink_engine == 'spark':\n",
    "            # We do a tiny bit of computation in Spark directly to avoid writing more to disk than we need to\n",
    "            pairs_worth_inspecting = pairs_worth_inspecting.as_spark_dataframe()\n",
    "            new_provisional_links = pairs_worth_inspecting.filter(pairs_worth_inspecting.match_probability >= probability_threshold)\n",
    "            if pairs_worth_inspecting.rdd.getNumPartitions() < compute_engine_num_jobs * 5:\n",
    "                new_provisional_links = new_provisional_links.repartition(compute_engine_num_jobs * 5)\n",
    "            # NOTE: We do *not* utils.ensure_empty across passes here, because we need the provisional links from all passes\n",
    "            # to stick around\n",
    "            dir_path = f'{output_dir}/intermediate_data/{self.name}/{pass_name}/new_provisional_links/'\n",
    "            utils.ensure_empty(dir_path)\n",
    "            file_path = f'{dir_path}/new_provisional_links_{int(time.time())}.parquet'\n",
    "            new_provisional_links.write.mode('overwrite').parquet(file_path)\n",
    "            utils.ensure_empty(checkpoints_dir) # We no longer need these checkpoints\n",
    "            new_provisional_links = df_ops.persist(df_ops.read_parquet(file_path))\n",
    "        else:\n",
    "            dir_path = f'{output_dir}/intermediate_data/{self.name}/{pass_name}/pairs_worth_inspecting/'\n",
    "            utils.ensure_empty(dir_path)\n",
    "            file_path = f'{dir_path}/pairs_worth_inspecting_{int(time.time())}.parquet'\n",
    "            pairs_worth_inspecting.to_parquet(file_path, overwrite=True)\n",
    "            pairs_worth_inspecting = df_ops.persist(df_ops.read_parquet(file_path))\n",
    "            new_provisional_links = pairs_worth_inspecting[pairs_worth_inspecting.match_probability >= probability_threshold]\n",
    "            del pairs_worth_inspecting\n",
    "\n",
    "        if splink_engine == 'spark':\n",
    "            utils.ensure_empty(checkpoints_dir) # We are done with this Spark linker\n",
    "\n",
    "        if len(new_provisional_links) > 0:\n",
    "            new_provisional_links = df_ops.persist(\n",
    "                label_pairs_with_dataset(new_provisional_links)\n",
    "                    .merge(record_id_raw_input_file_by_record_id, left_on=\"record_id_census_2030\", right_on=\"record_id\", how=\"left\")\n",
    "                    .drop(columns=[\"record_id\"])\n",
    "            )\n",
    "            self.provisional_links = df_ops.persist(df_ops.concat([\n",
    "                self.provisional_links,\n",
    "                new_provisional_links.assign(module_name=self.name, pass_name=pass_name).pipe(df_ops.ensure_large_string_capacity)\n",
    "            ], ignore_index=True))\n",
    "\n",
    "            self.census_to_match = df_ops.persist(\n",
    "                self.census_to_match\n",
    "                    # Only look for matches among records that have not received a provisional link\n",
    "                    # NOTE: \"records\" here does not mean input file records -- a nickname record having\n",
    "                    # a provisional link does not prevent a canonical name record from the same input record\n",
    "                    # from continuing to match\n",
    "                    .merge(df_ops.drop_duplicates(new_provisional_links[['record_id_census_2030']]), left_on='record_id', right_on='record_id_census_2030', how='left')\n",
    "                    .pipe(lambda df: df[df.record_id_census_2030.isna()])\n",
    "                    .drop(columns=[\"record_id_census_2030\"])\n",
    "            )\n",
    "\n",
    "        print(f'Found {len(new_provisional_links):,.0f} matches; {len(self.census_to_match) / len(census_2030):.2%} still eligible to match')\n",
    "\n",
    "    def confirm_piks_from_provisional_links(self):\n",
    "        assert not self.confirmed\n",
    "\n",
    "        provisional_links = (\n",
    "            self.provisional_links\n",
    "                .merge(all_piks, left_on=\"record_id_reference_file\", right_on=\"record_id\", how=\"left\")\n",
    "                .drop(columns=\"record_id\")\n",
    "        )\n",
    "\n",
    "        # \"After the initial set of links is created in GeoSearch, a post-search program is run to determine\n",
    "        # which of the links are retained. A series of checks are performed: First the date of death\n",
    "        # information from the Numident is checked and links to deceased persons are dropped. Next a\n",
    "        # check is made for more than one SSN assigned to a source record. If more than one SSN is\n",
    "        # assigned, the best link is selected based on match weights. If no best SSN is determined, all SSNs\n",
    "        # assigned in the GeoSearch module are dropped and the input record cascades to the next\n",
    "        # module. A similar post-search program is run at the end of all search modules.\"\n",
    "        # - Layne et al. p. 5\n",
    "\n",
    "        # Drop links to deceased people\n",
    "        # NOTE: On p. 38 of Brown et al. (2023) it discusses at length the number of PVS matches to deceased\n",
    "        # people, which should not be possible based on this process.\n",
    "        # Even though this is more recent, I can't think of a reason why this check would have\n",
    "        # been *removed* from PVS -- can we chalk this up to something experimental they were doing for\n",
    "        # the AR Census in the 2023 report?\n",
    "        provisional_links = df_ops.persist(\n",
    "            provisional_links.merge(dates_of_death, on=\"pik\", how=\"left\")\n",
    "        )\n",
    "        # Census day 2030\n",
    "        deceased_links = df_ops.persist(provisional_links.date_of_death.notnull() & (provisional_links.date_of_death <= pandas.to_datetime(\"2030-04-01\")))\n",
    "        print(f'{df_ops.compute(deceased_links.sum()):,.0f} input records linked to deceased people, dropping links')\n",
    "        provisional_links = df_ops.persist(provisional_links[~deceased_links])\n",
    "\n",
    "        # Check for multiple linkage to a single input file record\n",
    "        max_probability = df_ops.groupby_agg_small_groups(provisional_links, by=\"record_id_raw_input_file\", agg_func=lambda x: x.match_probability.max()).reset_index()\n",
    "        piks_per_input_file = (\n",
    "            provisional_links\n",
    "                .merge(max_probability, on=[\"record_id_raw_input_file\", \"match_probability\"])\n",
    "                .pipe(df_ops.groupby_agg_small_groups, by=\"record_id_raw_input_file\", agg_func=lambda x: x.pik.nunique())\n",
    "                .rename('num_unique_piks')\n",
    "                .reset_index()\n",
    "        )\n",
    "\n",
    "        multiple_piks = df_ops.persist(piks_per_input_file[piks_per_input_file.num_unique_piks > 1])\n",
    "        print(f'{len(multiple_piks):,.0f} input records linked to multiple PIKs, dropping links')\n",
    "        provisional_links = df_ops.persist(\n",
    "            provisional_links\n",
    "                .merge(multiple_piks, on=\"record_id_raw_input_file\", how=\"left\")\n",
    "                .pipe(lambda df: df[df.num_unique_piks.isnull() | (df.num_unique_piks <= 1)])\n",
    "                .pipe(df_ops.drop_duplicates, subset=\"record_id_raw_input_file\", sort_col=\"match_probability\", keep=\"last\")\n",
    "        )\n",
    "\n",
    "        assert df_ops.compute((df_ops.groupby_agg_small_groups(provisional_links, by=\"record_id_raw_input_file\", agg_func=lambda x: x.pik.nunique()) == 1).all())\n",
    "\n",
    "        self.confirmed = True\n",
    "        self.provisional_links = None\n",
    "        \n",
    "        return (\n",
    "            provisional_links[[\n",
    "                \"record_id_raw_input_file\",\n",
    "                \"record_id_census_2030\",\n",
    "                \"record_id_reference_file\",\n",
    "                \"pik\",\n",
    "                \"module_name\",\n",
    "                \"pass_name\",\n",
    "                \"match_probability\",\n",
    "            ]]\n",
    "        )\n",
    "\n",
    "def label_pairs_with_dataset(pairs):\n",
    "    pairs = df_ops.persist(pairs)\n",
    "    if len(pairs) == 0:\n",
    "        return pairs\n",
    "\n",
    "    # Name the columns according to the datasets, not \"r\" (right) and \"l\" (left)\n",
    "    for suffix in [\"r\", \"l\"]:\n",
    "        # NOTE: In practice, splink always has \"r\" correspond to one dataset and \"l\" correspond to the other.\n",
    "        # It is unclear to me if this is a documented guarantee, so I double check.\n",
    "        # NOTE: Do not use drop_duplicates here, since the groups should be enormous (the entire dataframe)\n",
    "        assert df_ops.compute(pairs[f'source_dataset_{suffix}'].nunique()) == 1\n",
    "        source_dataset_name = df_ops.head(pairs, n=1)[f'source_dataset_{suffix}'].iloc[0]\n",
    "        pairs = pairs.rename(columns={c: re.sub(f'_{suffix}$', f'_{source_dataset_name}', c) for c in pairs.columns if c.endswith(f'_{suffix}')})\n",
    "\n",
    "    return pairs"
   ]
  },
  {
   "cell_type": "code",
   "execution_count": 67,
   "id": "c8b7236a-ef52-4151-acab-ba1f0a186042",
   "metadata": {
    "execution": {
     "iopub.execute_input": "2024-02-12T19:21:30.960119Z",
     "iopub.status.busy": "2024-02-12T19:21:30.959737Z",
     "iopub.status.idle": "2024-02-12T19:21:30.963474Z",
     "shell.execute_reply": "2024-02-12T19:21:30.962979Z"
    },
    "papermill": {
     "duration": 0.032802,
     "end_time": "2024-02-12T19:21:30.964538",
     "exception": false,
     "start_time": "2024-02-12T19:21:30.931736",
     "status": "completed"
    },
    "tags": []
   },
   "outputs": [],
   "source": [
    "person_linkage_cascade = PersonLinkageCascade()"
   ]
  },
  {
   "cell_type": "markdown",
   "id": "96dc1b23-3bbf-4571-a89d-9bf8db4c0dbe",
   "metadata": {
    "papermill": {
     "duration": 0.026648,
     "end_time": "2024-02-12T19:21:31.019908",
     "exception": false,
     "start_time": "2024-02-12T19:21:30.993260",
     "status": "completed"
    },
    "tags": []
   },
   "source": [
    "# Verification Module\n",
    "\n",
    "Wagner and Layne, p.14:\n",
    "\n",
    "> If the input file has a SSN data field, it first goes through the verification process.\n",
    "\n",
    "This module of PVS only runs on input records with an SSN.\n",
    "No records in the CUF have an SSN (SSN is not collected on the decennial)\n",
    "so this module is skipped."
   ]
  },
  {
   "cell_type": "markdown",
   "id": "b0203571-b01f-477b-879d-c1c7587020d7",
   "metadata": {
    "papermill": {
     "duration": 0.026704,
     "end_time": "2024-02-12T19:21:31.074031",
     "exception": false,
     "start_time": "2024-02-12T19:21:31.047327",
     "status": "completed"
    },
    "tags": []
   },
   "source": [
    "# GeoSearch\n",
    "\n",
    "Brown et al. p. 29:\n",
    "\n",
    "> the GeoSearch module blocks records at\n",
    "different levels of geography, starting with the housing unit level, then broadening geography\n",
    "up to the three-digit ZIP Code level. The typical matching variables are name, DOB, sex, and\n",
    "various address fields.\n",
    "\n",
    "Wagner and Layne p. 14:\n",
    "\n",
    "> The typical GeoSearch blocking strategy starts with blocking records at the\n",
    "household level, then broadens the geography for each successive pass and ends at\n",
    "blocking by the first three digits of the zip code. The typical match variables are first,\n",
    "middle, and last names; generational suffix; date of birth; gender and various address\n",
    "fields.\n",
    "> \n",
    "> The data for the GeoSearch module are split into 1,000 cuts based on the first three\n",
    "digits of the zip code (zip3) for record. The GeoSearch program works on one zip3 cut\n",
    "at a time, with shell scripts submitting multiple streams of cuts to the system. This\n",
    "allows for parallel processing and restart capability.\n",
    "\n",
    "Layne, Wagner, and Rothhaas list an exact series of passes with blocking and matching variables\n",
    "for each (Appendix A on p. 25).\n",
    "This was the series of passes they used in running PVS on the Medicare Enrollment\n",
    "Database, the Indian Health Service Patient Registration File, and on two commercial\n",
    "data sources.\n",
    "All of these data sources are rather different than a CUF, and this paper is from 2014,\n",
    "but it is the only place I know of where an entire set of passes is described,\n",
    "so I have used the exact same passes here."
   ]
  },
  {
   "cell_type": "code",
   "execution_count": 68,
   "id": "2560948a-c9ca-4b96-9fa9-4c4b942689e7",
   "metadata": {
    "execution": {
     "iopub.execute_input": "2024-02-12T19:21:31.130611Z",
     "iopub.status.busy": "2024-02-12T19:21:31.130308Z",
     "iopub.status.idle": "2024-02-12T19:21:31.197809Z",
     "shell.execute_reply": "2024-02-12T19:21:31.196936Z"
    },
    "papermill": {
     "duration": 0.097831,
     "end_time": "2024-02-12T19:21:31.199205",
     "exception": false,
     "start_time": "2024-02-12T19:21:31.101374",
     "status": "completed"
    },
    "tags": []
   },
   "outputs": [],
   "source": [
    "person_linkage_cascade.start_module(\n",
    "    name=\"geosearch\",\n",
    "    reference_file=geobase_reference_file,\n",
    "    reference_file_name=\"geobase_reference_file\",\n",
    "    cut_columns=[\"zip3\"],\n",
    "    matching_columns=[\n",
    "        \"first_name_15\",\n",
    "        \"last_name_12\",\n",
    "        \"middle_initial\",\n",
    "        \"day_of_birth\",\n",
    "        \"month_of_birth\",\n",
    "        \"year_of_birth\",\n",
    "        \"geokey\",\n",
    "    ],\n",
    ")"
   ]
  },
  {
   "cell_type": "markdown",
   "id": "0398ac85-1ff3-4103-979c-ff00936ced02",
   "metadata": {
    "papermill": {
     "duration": 0.027708,
     "end_time": "2024-02-12T19:21:31.257373",
     "exception": false,
     "start_time": "2024-02-12T19:21:31.229665",
     "status": "completed"
    },
    "tags": []
   },
   "source": [
    "## Pass 1: Block on geokey (entire address)"
   ]
  },
  {
   "cell_type": "code",
   "execution_count": 69,
   "id": "c13afeba-9198-4546-9092-6ee563cc51e7",
   "metadata": {
    "execution": {
     "iopub.execute_input": "2024-02-12T19:21:31.313341Z",
     "iopub.status.busy": "2024-02-12T19:21:31.313034Z",
     "iopub.status.idle": "2024-02-12T19:21:31.743924Z",
     "shell.execute_reply": "2024-02-12T19:21:31.743286Z"
    },
    "papermill": {
     "duration": 0.460374,
     "end_time": "2024-02-12T19:21:31.745104",
     "exception": false,
     "start_time": "2024-02-12T19:21:31.284730",
     "status": "completed"
    },
    "tags": []
   },
   "outputs": [
    {
     "name": "stdout",
     "output_type": "stream",
     "text": [
      "Running geokey of geosearch\n",
      "Files to link are 32,825 and 11,030 records\n",
      "Number of pairs that will be compared: 1,122\n"
     ]
    },
    {
     "data": {
      "text/html": [
       "\n",
       "        <iframe\n",
       "            width=\"100%\"\n",
       "            height=\"1200\"\n",
       "            src=\"./splink_temp/geosearch__geokey.html\"\n",
       "            frameborder=\"0\"\n",
       "            allowfullscreen\n",
       "            \n",
       "        ></iframe>\n",
       "        "
      ],
      "text/plain": [
       "<IPython.lib.display.IFrame at 0x7f04563d6dd0>"
      ]
     },
     "metadata": {},
     "output_type": "display_data"
    },
    {
     "name": "stdout",
     "output_type": "stream",
     "text": [
      "Found 357 matches; 96.84% still eligible to match\n"
     ]
    }
   ],
   "source": [
    "person_linkage_cascade.run_matching_pass(\n",
    "    pass_name=\"geokey\",\n",
    "    blocking_columns=[\"geokey_for_blocking\"],\n",
    ")"
   ]
  },
  {
   "cell_type": "markdown",
   "id": "ef782163-425e-4745-a8a4-f352032ee9d4",
   "metadata": {
    "papermill": {
     "duration": 0.02812,
     "end_time": "2024-02-12T19:21:31.801713",
     "exception": false,
     "start_time": "2024-02-12T19:21:31.773593",
     "status": "completed"
    },
    "tags": []
   },
   "source": [
    "## Pass 2: Block on geokey (entire address), switching first and last names"
   ]
  },
  {
   "cell_type": "code",
   "execution_count": 70,
   "id": "83383f23-807c-49bb-88b7-7ef69d9a6031",
   "metadata": {
    "execution": {
     "iopub.execute_input": "2024-02-12T19:21:31.860935Z",
     "iopub.status.busy": "2024-02-12T19:21:31.860560Z",
     "iopub.status.idle": "2024-02-12T19:21:31.865697Z",
     "shell.execute_reply": "2024-02-12T19:21:31.864268Z"
    },
    "papermill": {
     "duration": 0.036694,
     "end_time": "2024-02-12T19:21:31.866896",
     "exception": false,
     "start_time": "2024-02-12T19:21:31.830202",
     "status": "completed"
    },
    "tags": []
   },
   "outputs": [],
   "source": [
    "def switch_first_and_last_names(df):\n",
    "    return (\n",
    "        df.rename(columns={\"first_name\": \"last_name\", \"last_name\": \"first_name\"})\n",
    "            # Re-calculate the truncated versions of first and last.\n",
    "            # NOTE: It is not necessary to re-calculate the phonetic versions, because\n",
    "            # those are never used in any pass that has a name switch.\n",
    "            .pipe(add_truncated_name_cols)\n",
    "    )"
   ]
  },
  {
   "cell_type": "code",
   "execution_count": 71,
   "id": "f1a30656-2fad-43f2-8712-6e52fb8c94ef",
   "metadata": {
    "execution": {
     "iopub.execute_input": "2024-02-12T19:21:31.924409Z",
     "iopub.status.busy": "2024-02-12T19:21:31.924109Z",
     "iopub.status.idle": "2024-02-12T19:21:32.258907Z",
     "shell.execute_reply": "2024-02-12T19:21:32.258150Z"
    },
    "papermill": {
     "duration": 0.365431,
     "end_time": "2024-02-12T19:21:32.260110",
     "exception": false,
     "start_time": "2024-02-12T19:21:31.894679",
     "status": "completed"
    },
    "tags": []
   },
   "outputs": [
    {
     "name": "stdout",
     "output_type": "stream",
     "text": [
      "Running geokey name switch of geosearch\n",
      "Files to link are 32,825 and 10,681 records\n"
     ]
    },
    {
     "name": "stdout",
     "output_type": "stream",
     "text": [
      "Number of pairs that will be compared: 61\n"
     ]
    },
    {
     "name": "stdout",
     "output_type": "stream",
     "text": [
      "Found 0 matches; 96.84% still eligible to match\n"
     ]
    }
   ],
   "source": [
    "# We don't actually have any swapping of first and last names in pseudopeople\n",
    "person_linkage_cascade.run_matching_pass(\n",
    "    pass_name=\"geokey name switch\",\n",
    "    blocking_columns=[\"geokey_for_blocking\"],\n",
    "    input_data_transformation=switch_first_and_last_names,\n",
    ")"
   ]
  },
  {
   "cell_type": "markdown",
   "id": "7f1abcb7-8577-428a-a531-5fac5f3ea6dc",
   "metadata": {
    "papermill": {
     "duration": 0.028405,
     "end_time": "2024-02-12T19:21:32.317237",
     "exception": false,
     "start_time": "2024-02-12T19:21:32.288832",
     "status": "completed"
    },
    "tags": []
   },
   "source": [
    "## Pass 3: Block on house number and street name Soundex"
   ]
  },
  {
   "cell_type": "code",
   "execution_count": 72,
   "id": "e7c841a9-09af-4708-a094-2ddc19526648",
   "metadata": {
    "execution": {
     "iopub.execute_input": "2024-02-12T19:21:32.374375Z",
     "iopub.status.busy": "2024-02-12T19:21:32.374046Z",
     "iopub.status.idle": "2024-02-12T19:21:34.989265Z",
     "shell.execute_reply": "2024-02-12T19:21:34.988516Z"
    },
    "papermill": {
     "duration": 2.644796,
     "end_time": "2024-02-12T19:21:34.990497",
     "exception": false,
     "start_time": "2024-02-12T19:21:32.345701",
     "status": "completed"
    },
    "tags": []
   },
   "outputs": [
    {
     "name": "stdout",
     "output_type": "stream",
     "text": [
      "Running house number and street name Soundex of geosearch\n",
      "Files to link are 32,825 and 10,681 records\n"
     ]
    },
    {
     "name": "stdout",
     "output_type": "stream",
     "text": [
      "Number of pairs that will be compared: 913,478\n"
     ]
    },
    {
     "data": {
      "text/html": [
       "\n",
       "        <iframe\n",
       "            width=\"100%\"\n",
       "            height=\"1200\"\n",
       "            src=\"./splink_temp/geosearch__house_number_and_street_name_Soundex.html\"\n",
       "            frameborder=\"0\"\n",
       "            allowfullscreen\n",
       "            \n",
       "        ></iframe>\n",
       "        "
      ],
      "text/plain": [
       "<IPython.lib.display.IFrame at 0x7f042cb34550>"
      ]
     },
     "metadata": {},
     "output_type": "display_data"
    },
    {
     "name": "stdout",
     "output_type": "stream",
     "text": [
      "Found 10,085 matches; 28.15% still eligible to match\n"
     ]
    }
   ],
   "source": [
    "person_linkage_cascade.run_matching_pass(\n",
    "    pass_name=\"house number and street name Soundex\",\n",
    "    blocking_columns=[\"street_number_for_blocking\", \"street_name_for_blocking_soundex\"],\n",
    ")"
   ]
  },
  {
   "cell_type": "markdown",
   "id": "f5b68b0c-f33b-42bb-a80f-22afae888216",
   "metadata": {
    "papermill": {
     "duration": 0.02997,
     "end_time": "2024-02-12T19:21:35.049530",
     "exception": false,
     "start_time": "2024-02-12T19:21:35.019560",
     "status": "completed"
    },
    "tags": []
   },
   "source": [
    "## Pass 4: Block on house number and street name Soundex, switching first and last names"
   ]
  },
  {
   "cell_type": "code",
   "execution_count": 73,
   "id": "d7665776-b592-4762-b4ca-f399ce9a95ec",
   "metadata": {
    "execution": {
     "iopub.execute_input": "2024-02-12T19:21:35.118135Z",
     "iopub.status.busy": "2024-02-12T19:21:35.117829Z",
     "iopub.status.idle": "2024-02-12T19:21:35.618932Z",
     "shell.execute_reply": "2024-02-12T19:21:35.618252Z"
    },
    "papermill": {
     "duration": 0.531221,
     "end_time": "2024-02-12T19:21:35.620096",
     "exception": false,
     "start_time": "2024-02-12T19:21:35.088875",
     "status": "completed"
    },
    "tags": []
   },
   "outputs": [
    {
     "name": "stdout",
     "output_type": "stream",
     "text": [
      "Running house number and street name Soundex name switch of geosearch\n",
      "Files to link are 32,825 and 3,105 records\n"
     ]
    },
    {
     "name": "stdout",
     "output_type": "stream",
     "text": [
      "Number of pairs that will be compared: 105,192\n"
     ]
    },
    {
     "name": "stdout",
     "output_type": "stream",
     "text": [
      "Found 0 matches; 28.15% still eligible to match\n"
     ]
    }
   ],
   "source": [
    "person_linkage_cascade.run_matching_pass(\n",
    "    pass_name=\"house number and street name Soundex name switch\",\n",
    "    blocking_columns=[\"street_number_for_blocking\", \"street_name_for_blocking_soundex\"],\n",
    "    input_data_transformation=switch_first_and_last_names,\n",
    ")"
   ]
  },
  {
   "cell_type": "markdown",
   "id": "c4753574-d776-4b83-9ca8-762a2d665ddc",
   "metadata": {
    "papermill": {
     "duration": 0.030119,
     "end_time": "2024-02-12T19:21:35.679134",
     "exception": false,
     "start_time": "2024-02-12T19:21:35.649015",
     "status": "completed"
    },
    "tags": []
   },
   "source": [
    "## Pass 5: Block on some name and DOB information"
   ]
  },
  {
   "cell_type": "code",
   "execution_count": 74,
   "id": "1924438b-d5ec-4bc7-a083-46d0165c9682",
   "metadata": {
    "execution": {
     "iopub.execute_input": "2024-02-12T19:21:35.737280Z",
     "iopub.status.busy": "2024-02-12T19:21:35.736943Z",
     "iopub.status.idle": "2024-02-12T19:21:36.194024Z",
     "shell.execute_reply": "2024-02-12T19:21:36.193436Z"
    },
    "papermill": {
     "duration": 0.487954,
     "end_time": "2024-02-12T19:21:36.195240",
     "exception": false,
     "start_time": "2024-02-12T19:21:35.707286",
     "status": "completed"
    },
    "tags": []
   },
   "outputs": [
    {
     "name": "stdout",
     "output_type": "stream",
     "text": [
      "Running some name and DOB information of geosearch\n",
      "Files to link are 32,825 and 3,105 records\n"
     ]
    },
    {
     "name": "stdout",
     "output_type": "stream",
     "text": [
      "Number of pairs that will be compared: 2,523\n"
     ]
    },
    {
     "data": {
      "text/html": [
       "\n",
       "        <iframe\n",
       "            width=\"100%\"\n",
       "            height=\"1200\"\n",
       "            src=\"./splink_temp/geosearch__some_name_and_DOB_information.html\"\n",
       "            frameborder=\"0\"\n",
       "            allowfullscreen\n",
       "            \n",
       "        ></iframe>\n",
       "        "
      ],
      "text/plain": [
       "<IPython.lib.display.IFrame at 0x7f04563d2530>"
      ]
     },
     "metadata": {},
     "output_type": "display_data"
    },
    {
     "name": "stdout",
     "output_type": "stream",
     "text": [
      "Found 2,143 matches; 17.54% still eligible to match\n"
     ]
    }
   ],
   "source": [
    "person_linkage_cascade.run_matching_pass(\n",
    "    pass_name=\"some name and DOB information\",\n",
    "    blocking_columns=[\"first_name_2\", \"last_name_2\", \"year_of_birth\"],\n",
    ")"
   ]
  },
  {
   "cell_type": "markdown",
   "id": "3f507b1e-61e6-448f-bc2e-afccc3020356",
   "metadata": {
    "papermill": {
     "duration": 0.029439,
     "end_time": "2024-02-12T19:21:36.254028",
     "exception": false,
     "start_time": "2024-02-12T19:21:36.224589",
     "status": "completed"
    },
    "tags": []
   },
   "source": [
    "## Post-process and confirm PIKs"
   ]
  },
  {
   "cell_type": "code",
   "execution_count": 75,
   "id": "30899aeb-e35f-4246-979c-af9f8235c3ab",
   "metadata": {
    "execution": {
     "iopub.execute_input": "2024-02-12T19:21:36.313862Z",
     "iopub.status.busy": "2024-02-12T19:21:36.313546Z",
     "iopub.status.idle": "2024-02-12T19:21:36.435349Z",
     "shell.execute_reply": "2024-02-12T19:21:36.434663Z"
    },
    "papermill": {
     "duration": 0.151811,
     "end_time": "2024-02-12T19:21:36.436535",
     "exception": false,
     "start_time": "2024-02-12T19:21:36.284724",
     "status": "completed"
    },
    "tags": []
   },
   "outputs": [
    {
     "name": "stdout",
     "output_type": "stream",
     "text": [
      "125 input records linked to deceased people, dropping links\n"
     ]
    },
    {
     "name": "stdout",
     "output_type": "stream",
     "text": [
      "6 input records linked to multiple PIKs, dropping links\n"
     ]
    }
   ],
   "source": [
    "person_linkage_cascade.confirm_piks()"
   ]
  },
  {
   "cell_type": "code",
   "execution_count": 76,
   "id": "0eea4fa2-588b-4555-a78e-8747da8db6fb",
   "metadata": {
    "execution": {
     "iopub.execute_input": "2024-02-12T19:21:36.497663Z",
     "iopub.status.busy": "2024-02-12T19:21:36.497261Z",
     "iopub.status.idle": "2024-02-12T19:21:36.504939Z",
     "shell.execute_reply": "2024-02-12T19:21:36.504381Z"
    },
    "papermill": {
     "duration": 0.039394,
     "end_time": "2024-02-12T19:21:36.506056",
     "exception": false,
     "start_time": "2024-02-12T19:21:36.466662",
     "status": "completed"
    },
    "tags": []
   },
   "outputs": [
    {
     "data": {
      "text/plain": [
       "module_name  pass_name                           \n",
       "geosearch    house number and street name Soundex    7504\n",
       "             some name and DOB information           1155\n",
       "             geokey                                   345\n",
       "dtype: int64"
      ]
     },
     "execution_count": 76,
     "metadata": {},
     "output_type": "execute_result"
    }
   ],
   "source": [
    "df_ops.compute(person_linkage_cascade.confirmed_piks.groupby([\"module_name\", \"pass_name\"]).size()).sort_values(ascending=False)"
   ]
  },
  {
   "cell_type": "markdown",
   "id": "d64ae657-5248-4a78-b836-3a04e8732140",
   "metadata": {
    "papermill": {
     "duration": 0.030324,
     "end_time": "2024-02-12T19:21:36.565677",
     "exception": false,
     "start_time": "2024-02-12T19:21:36.535353",
     "status": "completed"
    },
    "tags": []
   },
   "source": [
    "# ZIP3 Adjacency Search\n",
    "\n",
    "Layne, Wagner, and Rothhaas (p. 6) refers to ZIP3 adjacency as a module and even provides\n",
    "a list of two passes within it in Appendix A.\n",
    "\n",
    "Alexander et al. (p. 6) refers to it the same way, as a module.\n",
    "\n",
    "However, Wagner and Layne (p. 14) says:\n",
    "\n",
    "> The GeoSearch module also incorporates the adjacency of neighboring areas with\n",
    "different zip3 values\n",
    "\n",
    "which implies this logic is a pass or passes *within* GeoSearch (and due to how cascading works,\n",
    "this is not just an academic distinction).\n",
    "\n",
    "There is no mention at all of ZIP3 adjacency in the Brown et al. paper from 2023.\n",
    "\n",
    "**TODO**: Determine whether this still exists, how it works if so, and implement it.\n",
    "Doesn't really make sense with the sample data since there is only one ZIP."
   ]
  },
  {
   "cell_type": "markdown",
   "id": "ca19c7f2-e129-4c96-b22e-a2983c40a15c",
   "metadata": {
    "papermill": {
     "duration": 0.029258,
     "end_time": "2024-02-12T19:21:36.624726",
     "exception": false,
     "start_time": "2024-02-12T19:21:36.595468",
     "status": "completed"
    },
    "tags": []
   },
   "source": [
    "# Movers\n",
    "\n",
    "The Movers module is not mentioned in Brown et al, nor in Wagner and Layne.\n",
    "\n",
    "In Layne, Wagner, and Rothhaas (p. 7), published in 2014, it is described as \"Prototyped only – not implemented in PVS\":\n",
    "\n",
    "> The Movers module is appropriate for input files that combine individuals together into\n",
    "> households.\n",
    "> The module seeks multiple members of an input household in one address that\n",
    "> may have moved together to another address.\n",
    "> To be eligible for this module the household size must be greater than one.\n",
    "> This module is being tested and was not used in the analysis for this paper.\n",
    "\n",
    "Alexander et al. (p. 6) a year later makes no note of it being experimental:\n",
    "\n",
    "> To be eligible for the Movers Module, no member of the household can have a\n",
    "> PIK and the household must consist of more than one member.\n",
    "> This module considers persons living at the same address as a unit and\n",
    "> searches for matching units living together in the reference file (without regard for address).\n",
    "\n",
    "Essentially the same text is included in Massey et al., published in 2018.\n",
    "\n",
    "Though it doesn't provide much information, [this document](https://gunnisonconsulting.com/docs/pdf/Record%20Linkage%20Slicksheet_FINAL.pdf)\n",
    "([archive](https://web.archive.org/web/20230705010237/https://gunnisonconsulting.com/docs/pdf/Record%20Linkage%20Slicksheet_FINAL.pdf))\n",
    "from the Gunnison consulting group states that they worked with Census and\n",
    "\"pioneered the transition from a record-by-record matching approach to an\n",
    "approach that better uses groups of records, such as full households, to make more\n",
    "and better links.\"\n",
    "Specifically, they claim that 16% of previously unlinked records were linked using\n",
    "the household-level approach.\n",
    "\n",
    "**TODO**: Haven't figured out if this is still in use, nor how it works.\n",
    "This module seems of particular interest, because it sounds like it is quite different\n",
    "from other modules."
   ]
  },
  {
   "cell_type": "markdown",
   "id": "b7412843-d6c2-4064-ab38-ab9335b9d71e",
   "metadata": {
    "papermill": {
     "duration": 0.033222,
     "end_time": "2024-02-12T19:21:36.687713",
     "exception": false,
     "start_time": "2024-02-12T19:21:36.654491",
     "status": "completed"
    },
    "tags": []
   },
   "source": [
    "# NameSearch\n",
    "\n",
    "Brown et al., p. 29:\n",
    "\n",
    "> ... the NameSearch module, which uses only name and DOB fields, comparing all combinations of\n",
    "alternate names and dates of birth.\n",
    "\n",
    "Wagner and Layne, p. 15:\n",
    "\n",
    "> The NameSearch module searches the reference files for records failing the\n",
    "Verification and GeoSearch Modules. Only name and date of birth data are used in this\n",
    "search process. NameSearch consists of multiple passes against the Numident Name\n",
    "Reference file, which contains all possible combinations of alternate names and\n",
    "alternate dates of birth for each SSN in the Census Numident file, and includes data for\n",
    "ITINs.\n",
    "> \n",
    "> The typical NameSearch blocking strategy starts with a strict first pass, blocking\n",
    "records by exact date of birth and parts of names. Successive passes block on parts of\n",
    "the name and date of birth fields to allow for some name and date of birth variation.\n",
    "The typical match variables are first, middle and last names, generational suffix, date of\n",
    "birth, and gender.\n",
    "\n",
    "As in GeoSearch, the only full listing I could find of passes with blocking and matching variables\n",
    "was in Layne, Wagner, and Rothhaas.\n",
    "This is probably somewhat out of date and is not what would be used on a CUF, but I have\n",
    "copied it exactly here."
   ]
  },
  {
   "cell_type": "code",
   "execution_count": 77,
   "id": "fdf41a6a-8c72-4c9a-bb8c-410d7877414f",
   "metadata": {
    "execution": {
     "iopub.execute_input": "2024-02-12T19:21:36.748770Z",
     "iopub.status.busy": "2024-02-12T19:21:36.748517Z",
     "iopub.status.idle": "2024-02-12T19:21:36.801686Z",
     "shell.execute_reply": "2024-02-12T19:21:36.800734Z"
    },
    "papermill": {
     "duration": 0.085719,
     "end_time": "2024-02-12T19:21:36.803053",
     "exception": false,
     "start_time": "2024-02-12T19:21:36.717334",
     "status": "completed"
    },
    "tags": []
   },
   "outputs": [],
   "source": [
    "person_linkage_cascade.start_module(\n",
    "    name=\"namesearch\",\n",
    "    reference_file=name_dob_reference_file,\n",
    "    reference_file_name=\"name_dob_reference_file\",\n",
    "    cut_columns=[\"first_initial_cut\", \"last_initial_cut\"],\n",
    "    matching_columns=[\n",
    "        \"first_name_15\",\n",
    "        \"last_name_12\",\n",
    "        \"middle_initial\",\n",
    "        \"day_of_birth\",\n",
    "        \"month_of_birth\",\n",
    "        \"year_of_birth\",\n",
    "    ],\n",
    ")"
   ]
  },
  {
   "cell_type": "markdown",
   "id": "bf43e928-be1c-4f2a-a747-e624c19d40d6",
   "metadata": {
    "papermill": {
     "duration": 0.029348,
     "end_time": "2024-02-12T19:21:36.865166",
     "exception": false,
     "start_time": "2024-02-12T19:21:36.835818",
     "status": "completed"
    },
    "tags": []
   },
   "source": [
    "## Pass 1: Block on DOB and NYSIIS of name"
   ]
  },
  {
   "cell_type": "code",
   "execution_count": 78,
   "id": "01e5baab-1b94-4359-9398-c829ebb2a920",
   "metadata": {
    "execution": {
     "iopub.execute_input": "2024-02-12T19:21:36.926847Z",
     "iopub.status.busy": "2024-02-12T19:21:36.926486Z",
     "iopub.status.idle": "2024-02-12T19:21:37.293729Z",
     "shell.execute_reply": "2024-02-12T19:21:37.293045Z"
    },
    "papermill": {
     "duration": 0.398106,
     "end_time": "2024-02-12T19:21:37.294881",
     "exception": false,
     "start_time": "2024-02-12T19:21:36.896775",
     "status": "completed"
    },
    "tags": []
   },
   "outputs": [
    {
     "name": "stdout",
     "output_type": "stream",
     "text": [
      "Running DOB and NYSIIS of name of namesearch\n",
      "Files to link are 19,875 and 2,023 records\n",
      "Number of pairs that will be compared: 260\n"
     ]
    },
    {
     "data": {
      "text/html": [
       "\n",
       "        <iframe\n",
       "            width=\"100%\"\n",
       "            height=\"1200\"\n",
       "            src=\"./splink_temp/namesearch__DOB_and_NYSIIS_of_name.html\"\n",
       "            frameborder=\"0\"\n",
       "            allowfullscreen\n",
       "            \n",
       "        ></iframe>\n",
       "        "
      ],
      "text/plain": [
       "<IPython.lib.display.IFrame at 0x7f042cb98e80>"
      ]
     },
     "metadata": {},
     "output_type": "display_data"
    },
    {
     "name": "stdout",
     "output_type": "stream",
     "text": [
      "Found 259 matches; 15.99% still eligible to match\n"
     ]
    }
   ],
   "source": [
    "person_linkage_cascade.run_matching_pass(\n",
    "    pass_name=\"DOB and NYSIIS of name\",\n",
    "    blocking_columns=[\"day_of_birth\", \"month_of_birth\", \"year_of_birth\", \"first_name_nysiis\", \"last_name_nysiis\"],\n",
    ")"
   ]
  },
  {
   "cell_type": "markdown",
   "id": "bedbec09-ed90-4d7d-9fe3-4a934b6d8bce",
   "metadata": {
    "papermill": {
     "duration": 0.030841,
     "end_time": "2024-02-12T19:21:37.357238",
     "exception": false,
     "start_time": "2024-02-12T19:21:37.326397",
     "status": "completed"
    },
    "tags": []
   },
   "source": [
    "## Pass 2: Block on DOB and initials"
   ]
  },
  {
   "cell_type": "code",
   "execution_count": 79,
   "id": "7011e74c-b87e-436c-9c75-5fe23fafdd8e",
   "metadata": {
    "execution": {
     "iopub.execute_input": "2024-02-12T19:21:37.417567Z",
     "iopub.status.busy": "2024-02-12T19:21:37.417245Z",
     "iopub.status.idle": "2024-02-12T19:21:37.805496Z",
     "shell.execute_reply": "2024-02-12T19:21:37.804793Z"
    },
    "papermill": {
     "duration": 0.419146,
     "end_time": "2024-02-12T19:21:37.806669",
     "exception": false,
     "start_time": "2024-02-12T19:21:37.387523",
     "status": "completed"
    },
    "tags": []
   },
   "outputs": [
    {
     "name": "stdout",
     "output_type": "stream",
     "text": [
      "Running DOB and initials of namesearch\n",
      "Files to link are 19,875 and 1,764 records\n"
     ]
    },
    {
     "name": "stdout",
     "output_type": "stream",
     "text": [
      "Number of pairs that will be compared: 183\n"
     ]
    },
    {
     "data": {
      "text/html": [
       "\n",
       "        <iframe\n",
       "            width=\"100%\"\n",
       "            height=\"1200\"\n",
       "            src=\"./splink_temp/namesearch__DOB_and_initials.html\"\n",
       "            frameborder=\"0\"\n",
       "            allowfullscreen\n",
       "            \n",
       "        ></iframe>\n",
       "        "
      ],
      "text/plain": [
       "<IPython.lib.display.IFrame at 0x7f042cb24430>"
      ]
     },
     "metadata": {},
     "output_type": "display_data"
    },
    {
     "name": "stdout",
     "output_type": "stream",
     "text": [
      "Found 135 matches; 14.77% still eligible to match\n"
     ]
    }
   ],
   "source": [
    "person_linkage_cascade.run_matching_pass(\n",
    "    pass_name=\"DOB and initials\",\n",
    "    blocking_columns=[\"day_of_birth\", \"month_of_birth\", \"year_of_birth\", \"first_name_1\", \"last_name_1\"],\n",
    ")"
   ]
  },
  {
   "cell_type": "markdown",
   "id": "1d3e5dad-fbb8-4e7f-9b31-8ef079623b71",
   "metadata": {
    "papermill": {
     "duration": 0.030339,
     "end_time": "2024-02-12T19:21:37.868674",
     "exception": false,
     "start_time": "2024-02-12T19:21:37.838335",
     "status": "completed"
    },
    "tags": []
   },
   "source": [
    "## Pass 3: Block on year of birth and first two characters of name"
   ]
  },
  {
   "cell_type": "code",
   "execution_count": 80,
   "id": "afdc57ab-bf73-4524-a82a-4242a7e37be3",
   "metadata": {
    "execution": {
     "iopub.execute_input": "2024-02-12T19:21:37.931929Z",
     "iopub.status.busy": "2024-02-12T19:21:37.931595Z",
     "iopub.status.idle": "2024-02-12T19:21:38.327675Z",
     "shell.execute_reply": "2024-02-12T19:21:38.327010Z"
    },
    "papermill": {
     "duration": 0.428381,
     "end_time": "2024-02-12T19:21:38.328834",
     "exception": false,
     "start_time": "2024-02-12T19:21:37.900453",
     "status": "completed"
    },
    "tags": []
   },
   "outputs": [
    {
     "name": "stdout",
     "output_type": "stream",
     "text": [
      "Running year of birth and first two characters of name of namesearch\n",
      "Files to link are 19,875 and 1,629 records\n"
     ]
    },
    {
     "name": "stdout",
     "output_type": "stream",
     "text": [
      "Number of pairs that will be compared: 152\n"
     ]
    },
    {
     "data": {
      "text/html": [
       "\n",
       "        <iframe\n",
       "            width=\"100%\"\n",
       "            height=\"1200\"\n",
       "            src=\"./splink_temp/namesearch__year_of_birth_and_first_two_characters_of_name.html\"\n",
       "            frameborder=\"0\"\n",
       "            allowfullscreen\n",
       "            \n",
       "        ></iframe>\n",
       "        "
      ],
      "text/plain": [
       "<IPython.lib.display.IFrame at 0x7f042cb87c40>"
      ]
     },
     "metadata": {},
     "output_type": "display_data"
    },
    {
     "name": "stdout",
     "output_type": "stream",
     "text": [
      "Found 14 matches; 14.64% still eligible to match\n"
     ]
    }
   ],
   "source": [
    "person_linkage_cascade.run_matching_pass(\n",
    "    pass_name=\"year of birth and first two characters of name\",\n",
    "    blocking_columns=[\"year_of_birth\", \"first_name_2\", \"last_name_2\"],\n",
    ")"
   ]
  },
  {
   "cell_type": "markdown",
   "id": "980962d2-3da2-4ca1-82b6-6452e6fce0f8",
   "metadata": {
    "papermill": {
     "duration": 0.030998,
     "end_time": "2024-02-12T19:21:38.390590",
     "exception": false,
     "start_time": "2024-02-12T19:21:38.359592",
     "status": "completed"
    },
    "tags": []
   },
   "source": [
    "## Pass 4: Block on birthday and first two characters of name"
   ]
  },
  {
   "cell_type": "code",
   "execution_count": 81,
   "id": "9ea04745-1b41-4e13-8975-bb2e015c3fa2",
   "metadata": {
    "execution": {
     "iopub.execute_input": "2024-02-12T19:21:38.452820Z",
     "iopub.status.busy": "2024-02-12T19:21:38.452491Z",
     "iopub.status.idle": "2024-02-12T19:21:38.812206Z",
     "shell.execute_reply": "2024-02-12T19:21:38.811473Z"
    },
    "papermill": {
     "duration": 0.392545,
     "end_time": "2024-02-12T19:21:38.813333",
     "exception": false,
     "start_time": "2024-02-12T19:21:38.420788",
     "status": "completed"
    },
    "tags": []
   },
   "outputs": [
    {
     "name": "stdout",
     "output_type": "stream",
     "text": [
      "Running birthday and first two characters of name of namesearch\n",
      "Files to link are 19,875 and 1,615 records\n"
     ]
    },
    {
     "name": "stdout",
     "output_type": "stream",
     "text": [
      "Number of pairs that will be compared: 88\n"
     ]
    },
    {
     "data": {
      "text/html": [
       "\n",
       "        <iframe\n",
       "            width=\"100%\"\n",
       "            height=\"1200\"\n",
       "            src=\"./splink_temp/namesearch__birthday_and_first_two_characters_of_name.html\"\n",
       "            frameborder=\"0\"\n",
       "            allowfullscreen\n",
       "            \n",
       "        ></iframe>\n",
       "        "
      ],
      "text/plain": [
       "<IPython.lib.display.IFrame at 0x7f042d3e0b50>"
      ]
     },
     "metadata": {},
     "output_type": "display_data"
    },
    {
     "name": "stdout",
     "output_type": "stream",
     "text": [
      "Found 49 matches; 14.20% still eligible to match\n"
     ]
    }
   ],
   "source": [
    "person_linkage_cascade.run_matching_pass(\n",
    "    pass_name=\"birthday and first two characters of name\",\n",
    "    blocking_columns=[\"day_of_birth\", \"month_of_birth\", \"first_name_2\", \"last_name_2\"],\n",
    ")"
   ]
  },
  {
   "cell_type": "markdown",
   "id": "368e0d7c-54d8-4ce5-9723-0650a2a58924",
   "metadata": {
    "papermill": {
     "duration": 0.030337,
     "end_time": "2024-02-12T19:21:38.874604",
     "exception": false,
     "start_time": "2024-02-12T19:21:38.844267",
     "status": "completed"
    },
    "tags": []
   },
   "source": [
    "## Post-process and confirm PIKs"
   ]
  },
  {
   "cell_type": "code",
   "execution_count": 82,
   "id": "76a7588d-85c3-4087-b6db-17dc31859cd7",
   "metadata": {
    "execution": {
     "iopub.execute_input": "2024-02-12T19:21:38.937820Z",
     "iopub.status.busy": "2024-02-12T19:21:38.937533Z",
     "iopub.status.idle": "2024-02-12T19:21:38.976408Z",
     "shell.execute_reply": "2024-02-12T19:21:38.975751Z"
    },
    "papermill": {
     "duration": 0.072673,
     "end_time": "2024-02-12T19:21:38.977506",
     "exception": false,
     "start_time": "2024-02-12T19:21:38.904833",
     "status": "completed"
    },
    "tags": []
   },
   "outputs": [
    {
     "name": "stdout",
     "output_type": "stream",
     "text": [
      "70 input records linked to deceased people, dropping links\n",
      "0 input records linked to multiple PIKs, dropping links\n"
     ]
    }
   ],
   "source": [
    "person_linkage_cascade.confirm_piks()"
   ]
  },
  {
   "cell_type": "code",
   "execution_count": 83,
   "id": "7892c48c-c5d5-44c6-9439-2f59ebc053b5",
   "metadata": {
    "execution": {
     "iopub.execute_input": "2024-02-12T19:21:39.041528Z",
     "iopub.status.busy": "2024-02-12T19:21:39.041248Z",
     "iopub.status.idle": "2024-02-12T19:21:39.049914Z",
     "shell.execute_reply": "2024-02-12T19:21:39.049345Z"
    },
    "papermill": {
     "duration": 0.040759,
     "end_time": "2024-02-12T19:21:39.051034",
     "exception": false,
     "start_time": "2024-02-12T19:21:39.010275",
     "status": "completed"
    },
    "tags": []
   },
   "outputs": [
    {
     "data": {
      "text/plain": [
       "module_name  pass_name                                     \n",
       "geosearch    house number and street name Soundex              7504\n",
       "             some name and DOB information                     1155\n",
       "             geokey                                             345\n",
       "namesearch   DOB and NYSIIS of name                             207\n",
       "             DOB and initials                                   119\n",
       "             birthday and first two characters of name           49\n",
       "             year of birth and first two characters of name      12\n",
       "dtype: int64"
      ]
     },
     "execution_count": 83,
     "metadata": {},
     "output_type": "execute_result"
    }
   ],
   "source": [
    "df_ops.compute(person_linkage_cascade.confirmed_piks.groupby([\"module_name\", \"pass_name\"]).size()).sort_values(ascending=False)"
   ]
  },
  {
   "cell_type": "markdown",
   "id": "5cf67411-44e7-4ae8-926c-9b1f56d4522f",
   "metadata": {
    "papermill": {
     "duration": 0.031381,
     "end_time": "2024-02-12T19:21:39.112617",
     "exception": false,
     "start_time": "2024-02-12T19:21:39.081236",
     "status": "completed"
    },
    "tags": []
   },
   "source": [
    "# DOBSearch\n",
    "\n",
    "Brown et al., p. 29:\n",
    "\n",
    "> ... the DOBSearch module, which blocks on\n",
    "month and day of birth, then compares name, sex, and DOB.\n",
    "\n",
    "Wagner and Layne, p. 15:\n",
    "\n",
    "> The DOBSearch module searches the reference files for the records that fail the\n",
    "> NameSearch, using name and date of birth data. The module matches against a re-split\n",
    "> version of the Numident Name Reference file, splitting the data based on month and day\n",
    "> of birth.\n",
    "> \n",
    "> There are typically four blocking passes in the DOBSearch module. The first pass\n",
    "> blocks records by first name in the incoming file to last name in the DOB Reference file\n",
    "> and last name in incoming file to first name in the DOB Reference file. This strategy\n",
    "> accounts for switching of first and last name in the incoming file.\n",
    "\n",
    "Again, I have used the exact passes listed for this module in Layne, Wagner, and Rothhaas.\n",
    "This is somewhat corroborated to be \"typical\" given that it is consistent with Wagner and Layne\n",
    "above, but both papers are old."
   ]
  },
  {
   "cell_type": "code",
   "execution_count": 84,
   "id": "38bbc963-25e2-4f17-9721-f855589dd28a",
   "metadata": {
    "execution": {
     "iopub.execute_input": "2024-02-12T19:21:39.176218Z",
     "iopub.status.busy": "2024-02-12T19:21:39.175967Z",
     "iopub.status.idle": "2024-02-12T19:21:39.220515Z",
     "shell.execute_reply": "2024-02-12T19:21:39.219882Z"
    },
    "papermill": {
     "duration": 0.077889,
     "end_time": "2024-02-12T19:21:39.221857",
     "exception": false,
     "start_time": "2024-02-12T19:21:39.143968",
     "status": "completed"
    },
    "tags": []
   },
   "outputs": [],
   "source": [
    "person_linkage_cascade.start_module(\n",
    "    name=\"dobsearch\",\n",
    "    reference_file=name_dob_reference_file,\n",
    "    reference_file_name=\"name_dob_reference_file\",\n",
    "    cut_columns=[\"day_of_birth\", \"month_of_birth\"],\n",
    "    matching_columns=[\n",
    "        \"first_name_15\",\n",
    "        \"last_name_12\",\n",
    "        \"middle_initial\",\n",
    "        \"day_of_birth\",\n",
    "        \"month_of_birth\",\n",
    "        \"year_of_birth\",\n",
    "    ],\n",
    ")"
   ]
  },
  {
   "cell_type": "markdown",
   "id": "1ec6013e-ea45-463d-8095-ef3e4c8abf20",
   "metadata": {
    "papermill": {
     "duration": 0.02969,
     "end_time": "2024-02-12T19:21:39.283701",
     "exception": false,
     "start_time": "2024-02-12T19:21:39.254011",
     "status": "completed"
    },
    "tags": []
   },
   "source": [
    "## Pass 1: Block on initials, switching first and last names"
   ]
  },
  {
   "cell_type": "code",
   "execution_count": 85,
   "id": "b9fa73d4-ee01-4a35-94f9-ab0eb6b09132",
   "metadata": {
    "execution": {
     "iopub.execute_input": "2024-02-12T19:21:39.346995Z",
     "iopub.status.busy": "2024-02-12T19:21:39.346700Z",
     "iopub.status.idle": "2024-02-12T19:21:39.612249Z",
     "shell.execute_reply": "2024-02-12T19:21:39.611516Z"
    },
    "papermill": {
     "duration": 0.299722,
     "end_time": "2024-02-12T19:21:39.613429",
     "exception": false,
     "start_time": "2024-02-12T19:21:39.313707",
     "status": "completed"
    },
    "tags": []
   },
   "outputs": [
    {
     "name": "stdout",
     "output_type": "stream",
     "text": [
      "Running initials name switch of dobsearch\n",
      "Files to link are 19,875 and 1,636 records\n",
      "Number of pairs that will be compared: 192\n"
     ]
    },
    {
     "name": "stdout",
     "output_type": "stream",
     "text": [
      "Found 0 matches; 14.83% still eligible to match\n"
     ]
    }
   ],
   "source": [
    "person_linkage_cascade.run_matching_pass(\n",
    "    pass_name=\"initials name switch\",\n",
    "    blocking_columns=[\"first_name_1\", \"last_name_1\"],\n",
    "    input_data_transformation=switch_first_and_last_names,\n",
    ")"
   ]
  },
  {
   "cell_type": "markdown",
   "id": "8fa68a9b-6f38-4f7c-8246-65a3bd780f54",
   "metadata": {
    "papermill": {
     "duration": 0.03141,
     "end_time": "2024-02-12T19:21:39.676553",
     "exception": false,
     "start_time": "2024-02-12T19:21:39.645143",
     "status": "completed"
    },
    "tags": []
   },
   "source": [
    "## Pass 2: Block on first three characters of name"
   ]
  },
  {
   "cell_type": "code",
   "execution_count": 86,
   "id": "75d3d033-96ae-43bf-8f90-c73036c39d0f",
   "metadata": {
    "execution": {
     "iopub.execute_input": "2024-02-12T19:21:39.740809Z",
     "iopub.status.busy": "2024-02-12T19:21:39.740476Z",
     "iopub.status.idle": "2024-02-12T19:21:40.073677Z",
     "shell.execute_reply": "2024-02-12T19:21:40.072950Z"
    },
    "papermill": {
     "duration": 0.367117,
     "end_time": "2024-02-12T19:21:40.074804",
     "exception": false,
     "start_time": "2024-02-12T19:21:39.707687",
     "status": "completed"
    },
    "tags": []
   },
   "outputs": [
    {
     "name": "stdout",
     "output_type": "stream",
     "text": [
      "Running first three characters of name of dobsearch\n",
      "Files to link are 19,875 and 1,636 records\n"
     ]
    },
    {
     "name": "stdout",
     "output_type": "stream",
     "text": [
      "Number of pairs that will be compared: 75\n"
     ]
    },
    {
     "data": {
      "text/html": [
       "\n",
       "        <iframe\n",
       "            width=\"100%\"\n",
       "            height=\"1200\"\n",
       "            src=\"./splink_temp/dobsearch__first_three_characters_of_name.html\"\n",
       "            frameborder=\"0\"\n",
       "            allowfullscreen\n",
       "            \n",
       "        ></iframe>\n",
       "        "
      ],
      "text/plain": [
       "<IPython.lib.display.IFrame at 0x7f042d3d50c0>"
      ]
     },
     "metadata": {},
     "output_type": "display_data"
    },
    {
     "name": "stdout",
     "output_type": "stream",
     "text": [
      "Found 60 matches; 14.29% still eligible to match\n"
     ]
    }
   ],
   "source": [
    "person_linkage_cascade.run_matching_pass(\n",
    "    pass_name=\"first three characters of name\",\n",
    "    blocking_columns=[\"first_name_3\", \"last_name_3\"],\n",
    ")"
   ]
  },
  {
   "cell_type": "markdown",
   "id": "10d06a88-895a-469b-a830-57c46c58ae45",
   "metadata": {
    "papermill": {
     "duration": 0.030875,
     "end_time": "2024-02-12T19:21:40.137595",
     "exception": false,
     "start_time": "2024-02-12T19:21:40.106720",
     "status": "completed"
    },
    "tags": []
   },
   "source": [
    "## Pass 3: Block on reverse Soundex of name"
   ]
  },
  {
   "cell_type": "code",
   "execution_count": 87,
   "id": "a05e24ef-2ae2-4ca7-8d92-05630a1d61d1",
   "metadata": {
    "execution": {
     "iopub.execute_input": "2024-02-12T19:21:40.200821Z",
     "iopub.status.busy": "2024-02-12T19:21:40.200498Z",
     "iopub.status.idle": "2024-02-12T19:21:40.533871Z",
     "shell.execute_reply": "2024-02-12T19:21:40.533125Z"
    },
    "papermill": {
     "duration": 0.36575,
     "end_time": "2024-02-12T19:21:40.535021",
     "exception": false,
     "start_time": "2024-02-12T19:21:40.169271",
     "status": "completed"
    },
    "tags": []
   },
   "outputs": [
    {
     "name": "stdout",
     "output_type": "stream",
     "text": [
      "Running reverse Soundex of name of dobsearch\n",
      "Files to link are 19,875 and 1,576 records\n"
     ]
    },
    {
     "name": "stdout",
     "output_type": "stream",
     "text": [
      "Number of pairs that will be compared: 49\n"
     ]
    },
    {
     "data": {
      "text/html": [
       "\n",
       "        <iframe\n",
       "            width=\"100%\"\n",
       "            height=\"1200\"\n",
       "            src=\"./splink_temp/dobsearch__reverse_Soundex_of_name.html\"\n",
       "            frameborder=\"0\"\n",
       "            allowfullscreen\n",
       "            \n",
       "        ></iframe>\n",
       "        "
      ],
      "text/plain": [
       "<IPython.lib.display.IFrame at 0x7f042d448190>"
      ]
     },
     "metadata": {},
     "output_type": "display_data"
    },
    {
     "name": "stdout",
     "output_type": "stream",
     "text": [
      "Found 37 matches; 13.95% still eligible to match\n"
     ]
    }
   ],
   "source": [
    "person_linkage_cascade.run_matching_pass(\n",
    "    pass_name=\"reverse Soundex of name\",\n",
    "    blocking_columns=[\"first_name_reverse_soundex\", \"last_name_reverse_soundex\"],\n",
    ")"
   ]
  },
  {
   "cell_type": "markdown",
   "id": "f5a4da3d-c9c7-4c50-b409-0bf76920828f",
   "metadata": {
    "papermill": {
     "duration": 0.034324,
     "end_time": "2024-02-12T19:21:40.602366",
     "exception": false,
     "start_time": "2024-02-12T19:21:40.568042",
     "status": "completed"
    },
    "tags": []
   },
   "source": [
    "## Pass 4: Block on first two characters of first name and year of birth"
   ]
  },
  {
   "cell_type": "code",
   "execution_count": 88,
   "id": "19e39510-cabb-46a6-99f8-e1969a8eb364",
   "metadata": {
    "execution": {
     "iopub.execute_input": "2024-02-12T19:21:40.665347Z",
     "iopub.status.busy": "2024-02-12T19:21:40.665157Z",
     "iopub.status.idle": "2024-02-12T19:21:40.986153Z",
     "shell.execute_reply": "2024-02-12T19:21:40.985413Z"
    },
    "papermill": {
     "duration": 0.353741,
     "end_time": "2024-02-12T19:21:40.987352",
     "exception": false,
     "start_time": "2024-02-12T19:21:40.633611",
     "status": "completed"
    },
    "tags": []
   },
   "outputs": [
    {
     "name": "stdout",
     "output_type": "stream",
     "text": [
      "Running first two characters of first name and year of birth of dobsearch\n",
      "Files to link are 19,875 and 1,539 records\n"
     ]
    },
    {
     "name": "stdout",
     "output_type": "stream",
     "text": [
      "Number of pairs that will be compared: 263\n"
     ]
    },
    {
     "data": {
      "text/html": [
       "\n",
       "        <iframe\n",
       "            width=\"100%\"\n",
       "            height=\"1200\"\n",
       "            src=\"./splink_temp/dobsearch__first_two_characters_of_first_name_and_year_of_birth.html\"\n",
       "            frameborder=\"0\"\n",
       "            allowfullscreen\n",
       "            \n",
       "        ></iframe>\n",
       "        "
      ],
      "text/plain": [
       "<IPython.lib.display.IFrame at 0x7f042cb99090>"
      ]
     },
     "metadata": {},
     "output_type": "display_data"
    },
    {
     "name": "stdout",
     "output_type": "stream",
     "text": [
      "Found 184 matches; 12.28% still eligible to match\n"
     ]
    }
   ],
   "source": [
    "person_linkage_cascade.run_matching_pass(\n",
    "    pass_name=\"first two characters of first name and year of birth\",\n",
    "    blocking_columns=[\"first_name_2\", \"year_of_birth\"],\n",
    ")"
   ]
  },
  {
   "cell_type": "markdown",
   "id": "466e3db4-998e-40cd-9e33-ef6cf6e99b9b",
   "metadata": {
    "papermill": {
     "duration": 0.031297,
     "end_time": "2024-02-12T19:21:41.050347",
     "exception": false,
     "start_time": "2024-02-12T19:21:41.019050",
     "status": "completed"
    },
    "tags": []
   },
   "source": [
    "## Post-process and confirm PIKs"
   ]
  },
  {
   "cell_type": "code",
   "execution_count": 89,
   "id": "9581f811-9d21-449d-8682-97eb0ef0e493",
   "metadata": {
    "execution": {
     "iopub.execute_input": "2024-02-12T19:21:41.116269Z",
     "iopub.status.busy": "2024-02-12T19:21:41.116020Z",
     "iopub.status.idle": "2024-02-12T19:21:41.158423Z",
     "shell.execute_reply": "2024-02-12T19:21:41.157656Z"
    },
    "papermill": {
     "duration": 0.078434,
     "end_time": "2024-02-12T19:21:41.159771",
     "exception": false,
     "start_time": "2024-02-12T19:21:41.081337",
     "status": "completed"
    },
    "tags": []
   },
   "outputs": [
    {
     "name": "stdout",
     "output_type": "stream",
     "text": [
      "75 input records linked to deceased people, dropping links\n",
      "0 input records linked to multiple PIKs, dropping links\n"
     ]
    }
   ],
   "source": [
    "person_linkage_cascade.confirm_piks()"
   ]
  },
  {
   "cell_type": "code",
   "execution_count": 90,
   "id": "853bb87d-ac28-41b1-a661-63d38169615b",
   "metadata": {
    "execution": {
     "iopub.execute_input": "2024-02-12T19:21:41.223680Z",
     "iopub.status.busy": "2024-02-12T19:21:41.223355Z",
     "iopub.status.idle": "2024-02-12T19:21:41.230814Z",
     "shell.execute_reply": "2024-02-12T19:21:41.230222Z"
    },
    "papermill": {
     "duration": 0.040622,
     "end_time": "2024-02-12T19:21:41.231931",
     "exception": false,
     "start_time": "2024-02-12T19:21:41.191309",
     "status": "completed"
    },
    "tags": []
   },
   "outputs": [
    {
     "data": {
      "text/plain": [
       "module_name  pass_name                                           \n",
       "geosearch    house number and street name Soundex                    7504\n",
       "             some name and DOB information                           1155\n",
       "             geokey                                                   345\n",
       "namesearch   DOB and NYSIIS of name                                   207\n",
       "dobsearch    first two characters of first name and year of birth     174\n",
       "namesearch   DOB and initials                                         119\n",
       "             birthday and first two characters of name                 49\n",
       "dobsearch    reverse Soundex of name                                   31\n",
       "namesearch   year of birth and first two characters of name            12\n",
       "dtype: int64"
      ]
     },
     "execution_count": 90,
     "metadata": {},
     "output_type": "execute_result"
    }
   ],
   "source": [
    "df_ops.compute(person_linkage_cascade.confirmed_piks.groupby([\"module_name\", \"pass_name\"]).size()).sort_values(ascending=False)"
   ]
  },
  {
   "cell_type": "markdown",
   "id": "58ab65b7-a7ff-46e9-bc54-397bdeb8f6e5",
   "metadata": {
    "papermill": {
     "duration": 0.030502,
     "end_time": "2024-02-12T19:21:41.293741",
     "exception": false,
     "start_time": "2024-02-12T19:21:41.263239",
     "status": "completed"
    },
    "tags": []
   },
   "source": [
    "# HHCompSearch\n",
    "\n",
    "Brown et al., p. 29:\n",
    "\n",
    "> ... the Household Composition search module, which requires at least one\n",
    "> person in the household of the unmatched person to have received a PIK.\n",
    "> The full set of unmatched records with historical name, DOB, sex, and address data from\n",
    "> households whose members with PIKs were observed in the past is created. The module\n",
    "> attempts to find a match to this universe based on name and DOB information.\n",
    "\n",
    "Wagner and Layne, p. 16:\n",
    "\n",
    "> For persons with a PIK in the eligible household, all of the geokeys from the PVS\n",
    "> GeoBase are extracted for each of these PIKs. The geokeys are unduplicated and all\n",
    "> persons are selected from the PVS GeoBase with these geokeys. Next, the program\n",
    "> removes all household members with a PIK, leaving the unPIKed persons in the\n",
    "> household. This becomes the reference file to search against. There are typically two\n",
    "> passes in this module. Records are blocked by MAFID, name, date of birth, and gender.\n",
    "\n",
    "I don't know of any list of passes in this module.\n",
    "Blocking on \"MAFID, name, date of birth, and gender\" seems like a lot for only\n",
    "two passes, especially given that we are only matching people within each eligible\n",
    "household.\n",
    "I'm actually a bit surprised there is any blocking at all, given how restrictive this\n",
    "module inherently is.\n",
    "I've split the difference here by creating two passes that are very permissive."
   ]
  },
  {
   "cell_type": "markdown",
   "id": "cdd285ed-2445-42d2-8942-3bb9d241dd16",
   "metadata": {
    "papermill": {
     "duration": 0.031403,
     "end_time": "2024-02-12T19:21:41.355514",
     "exception": false,
     "start_time": "2024-02-12T19:21:41.324111",
     "status": "completed"
    },
    "tags": []
   },
   "source": [
    "## Create the reference file"
   ]
  },
  {
   "cell_type": "code",
   "execution_count": 91,
   "id": "9793c25f-96a7-406f-b53b-ac15cc804b55",
   "metadata": {
    "execution": {
     "iopub.execute_input": "2024-02-12T19:21:41.418927Z",
     "iopub.status.busy": "2024-02-12T19:21:41.418624Z",
     "iopub.status.idle": "2024-02-12T19:21:41.425484Z",
     "shell.execute_reply": "2024-02-12T19:21:41.424582Z"
    },
    "papermill": {
     "duration": 0.038805,
     "end_time": "2024-02-12T19:21:41.426616",
     "exception": false,
     "start_time": "2024-02-12T19:21:41.387811",
     "status": "completed"
    },
    "tags": []
   },
   "outputs": [],
   "source": [
    "# TODO: As of now in pseudopeople, our only indicator in the Census data of household\n",
    "# is noiseless (ground truth).\n",
    "# Instead, we use geokey to approximate the household clustering information that would be\n",
    "# present in the real dataset.\n",
    "# We should switch to using a (presumably low-noise) household indicator when we have that.\n",
    "# NOTE: We use geokey_for_blocking instead of geokey to intentionally exclude the very\n",
    "# large households currently created by GQ in pseudopeople.\n",
    "pseudo_household_id = (\n",
    "    df_ops.drop_duplicates(census_2030[census_2030.geokey_for_blocking.notnull()][[\"geokey_for_blocking\"]])\n",
    "        .pipe(df_ops.add_unique_id_col, col_name=\"pseudo_household_id\")\n",
    ")"
   ]
  },
  {
   "cell_type": "code",
   "execution_count": 92,
   "id": "fb318684-15c2-4e12-857a-39cd92df6d03",
   "metadata": {
    "execution": {
     "iopub.execute_input": "2024-02-12T19:21:41.492825Z",
     "iopub.status.busy": "2024-02-12T19:21:41.492527Z",
     "iopub.status.idle": "2024-02-12T19:21:41.505263Z",
     "shell.execute_reply": "2024-02-12T19:21:41.503683Z"
    },
    "papermill": {
     "duration": 0.046584,
     "end_time": "2024-02-12T19:21:41.506410",
     "exception": false,
     "start_time": "2024-02-12T19:21:41.459826",
     "status": "completed"
    },
    "tags": []
   },
   "outputs": [],
   "source": [
    "census_2030 = df_ops.persist(census_2030.merge(pseudo_household_id, on=\"geokey_for_blocking\", how=\"left\"))"
   ]
  },
  {
   "cell_type": "code",
   "execution_count": 93,
   "id": "cb5088f0-7139-44a0-b701-6b50b103dbcf",
   "metadata": {
    "execution": {
     "iopub.execute_input": "2024-02-12T19:21:41.573368Z",
     "iopub.status.busy": "2024-02-12T19:21:41.573061Z",
     "iopub.status.idle": "2024-02-12T19:21:41.586129Z",
     "shell.execute_reply": "2024-02-12T19:21:41.585339Z"
    },
    "papermill": {
     "duration": 0.047696,
     "end_time": "2024-02-12T19:21:41.587609",
     "exception": false,
     "start_time": "2024-02-12T19:21:41.539913",
     "status": "completed"
    },
    "tags": []
   },
   "outputs": [],
   "source": [
    "piks_with_household = df_ops.persist(\n",
    "    census_2030[[\"pseudo_household_id\", \"record_id_raw_input_file\"]]\n",
    "        .merge(person_linkage_cascade.confirmed_piks, on=\"record_id_raw_input_file\", how=\"left\")\n",
    ")"
   ]
  },
  {
   "cell_type": "code",
   "execution_count": 94,
   "id": "b97d11a0-6ecd-4a41-9b94-606bbc45831a",
   "metadata": {
    "execution": {
     "iopub.execute_input": "2024-02-12T19:21:41.653188Z",
     "iopub.status.busy": "2024-02-12T19:21:41.652936Z",
     "iopub.status.idle": "2024-02-12T19:21:41.660176Z",
     "shell.execute_reply": "2024-02-12T19:21:41.659256Z"
    },
    "papermill": {
     "duration": 0.040127,
     "end_time": "2024-02-12T19:21:41.661338",
     "exception": false,
     "start_time": "2024-02-12T19:21:41.621211",
     "status": "completed"
    },
    "tags": []
   },
   "outputs": [],
   "source": [
    "piked_by_household = df_ops.groupby_agg_small_groups(\n",
    "    piks_with_household,\n",
    "    by=\"pseudo_household_id\",\n",
    "    agg_func=lambda x: x.pik.agg(['count', 'size'])\n",
    ").reset_index().rename(columns={'count': 'piked'}).assign(unpiked=lambda x: x['size'] - x['piked'])"
   ]
  },
  {
   "cell_type": "code",
   "execution_count": 95,
   "id": "02350ff8-890c-4d4f-a7c4-dd666e0af152",
   "metadata": {
    "execution": {
     "iopub.execute_input": "2024-02-12T19:21:41.725451Z",
     "iopub.status.busy": "2024-02-12T19:21:41.725168Z",
     "iopub.status.idle": "2024-02-12T19:21:41.732644Z",
     "shell.execute_reply": "2024-02-12T19:21:41.731781Z"
    },
    "papermill": {
     "duration": 0.041061,
     "end_time": "2024-02-12T19:21:41.734066",
     "exception": false,
     "start_time": "2024-02-12T19:21:41.693005",
     "status": "completed"
    },
    "tags": []
   },
   "outputs": [
    {
     "data": {
      "text/html": [
       "<div>\n",
       "<style scoped>\n",
       "    .dataframe tbody tr th:only-of-type {\n",
       "        vertical-align: middle;\n",
       "    }\n",
       "\n",
       "    .dataframe tbody tr th {\n",
       "        vertical-align: top;\n",
       "    }\n",
       "\n",
       "    .dataframe thead th {\n",
       "        text-align: right;\n",
       "    }\n",
       "</style>\n",
       "<table border=\"1\" class=\"dataframe\">\n",
       "  <thead>\n",
       "    <tr style=\"text-align: right;\">\n",
       "      <th></th>\n",
       "      <th>pseudo_household_id</th>\n",
       "    </tr>\n",
       "  </thead>\n",
       "  <tbody>\n",
       "    <tr>\n",
       "      <th>4</th>\n",
       "      <td>10191</td>\n",
       "    </tr>\n",
       "    <tr>\n",
       "      <th>8</th>\n",
       "      <td>10330</td>\n",
       "    </tr>\n",
       "    <tr>\n",
       "      <th>16</th>\n",
       "      <td>10498</td>\n",
       "    </tr>\n",
       "    <tr>\n",
       "      <th>30</th>\n",
       "      <td>10791</td>\n",
       "    </tr>\n",
       "    <tr>\n",
       "      <th>35</th>\n",
       "      <td>11000</td>\n",
       "    </tr>\n",
       "    <tr>\n",
       "      <th>44</th>\n",
       "      <td>1314</td>\n",
       "    </tr>\n",
       "    <tr>\n",
       "      <th>45</th>\n",
       "      <td>1330</td>\n",
       "    </tr>\n",
       "    <tr>\n",
       "      <th>77</th>\n",
       "      <td>3073</td>\n",
       "    </tr>\n",
       "    <tr>\n",
       "      <th>85</th>\n",
       "      <td>3564</td>\n",
       "    </tr>\n",
       "    <tr>\n",
       "      <th>90</th>\n",
       "      <td>3710</td>\n",
       "    </tr>\n",
       "    <tr>\n",
       "      <th>97</th>\n",
       "      <td>3973</td>\n",
       "    </tr>\n",
       "    <tr>\n",
       "      <th>113</th>\n",
       "      <td>4659</td>\n",
       "    </tr>\n",
       "    <tr>\n",
       "      <th>120</th>\n",
       "      <td>4986</td>\n",
       "    </tr>\n",
       "    <tr>\n",
       "      <th>121</th>\n",
       "      <td>5013</td>\n",
       "    </tr>\n",
       "    <tr>\n",
       "      <th>153</th>\n",
       "      <td>5869</td>\n",
       "    </tr>\n",
       "    <tr>\n",
       "      <th>173</th>\n",
       "      <td>6604</td>\n",
       "    </tr>\n",
       "    <tr>\n",
       "      <th>184</th>\n",
       "      <td>700</td>\n",
       "    </tr>\n",
       "    <tr>\n",
       "      <th>278</th>\n",
       "      <td>9381</td>\n",
       "    </tr>\n",
       "    <tr>\n",
       "      <th>281</th>\n",
       "      <td>9423</td>\n",
       "    </tr>\n",
       "    <tr>\n",
       "      <th>295</th>\n",
       "      <td>9778</td>\n",
       "    </tr>\n",
       "  </tbody>\n",
       "</table>\n",
       "</div>"
      ],
      "text/plain": [
       "    pseudo_household_id\n",
       "4                 10191\n",
       "8                 10330\n",
       "16                10498\n",
       "30                10791\n",
       "35                11000\n",
       "44                 1314\n",
       "45                 1330\n",
       "77                 3073\n",
       "85                 3564\n",
       "90                 3710\n",
       "97                 3973\n",
       "113                4659\n",
       "120                4986\n",
       "121                5013\n",
       "153                5869\n",
       "173                6604\n",
       "184                 700\n",
       "278                9381\n",
       "281                9423\n",
       "295                9778"
      ]
     },
     "execution_count": 95,
     "metadata": {},
     "output_type": "execute_result"
    }
   ],
   "source": [
    "eligible_households = piked_by_household[(piked_by_household.piked > 0) & (piked_by_household.unpiked > 0)][['pseudo_household_id']]\n",
    "eligible_households"
   ]
  },
  {
   "cell_type": "code",
   "execution_count": 96,
   "id": "a671a0b0-8713-4e29-8db4-bd3a40162c10",
   "metadata": {
    "execution": {
     "iopub.execute_input": "2024-02-12T19:21:41.800478Z",
     "iopub.status.busy": "2024-02-12T19:21:41.800217Z",
     "iopub.status.idle": "2024-02-12T19:21:41.815992Z",
     "shell.execute_reply": "2024-02-12T19:21:41.815388Z"
    },
    "papermill": {
     "duration": 0.050639,
     "end_time": "2024-02-12T19:21:41.817094",
     "exception": false,
     "start_time": "2024-02-12T19:21:41.766455",
     "status": "completed"
    },
    "tags": []
   },
   "outputs": [
    {
     "data": {
      "text/html": [
       "<div>\n",
       "<style scoped>\n",
       "    .dataframe tbody tr th:only-of-type {\n",
       "        vertical-align: middle;\n",
       "    }\n",
       "\n",
       "    .dataframe tbody tr th {\n",
       "        vertical-align: top;\n",
       "    }\n",
       "\n",
       "    .dataframe thead th {\n",
       "        text-align: right;\n",
       "    }\n",
       "</style>\n",
       "<table border=\"1\" class=\"dataframe\">\n",
       "  <thead>\n",
       "    <tr style=\"text-align: right;\">\n",
       "      <th></th>\n",
       "      <th>pseudo_household_id</th>\n",
       "      <th>pik</th>\n",
       "    </tr>\n",
       "  </thead>\n",
       "  <tbody>\n",
       "    <tr>\n",
       "      <th>0</th>\n",
       "      <td>10191</td>\n",
       "      <td>101024</td>\n",
       "    </tr>\n",
       "    <tr>\n",
       "      <th>1</th>\n",
       "      <td>10191</td>\n",
       "      <td>106474</td>\n",
       "    </tr>\n",
       "    <tr>\n",
       "      <th>2</th>\n",
       "      <td>10330</td>\n",
       "      <td>106691</td>\n",
       "    </tr>\n",
       "    <tr>\n",
       "      <th>3</th>\n",
       "      <td>10498</td>\n",
       "      <td>97623</td>\n",
       "    </tr>\n",
       "    <tr>\n",
       "      <th>4</th>\n",
       "      <td>10498</td>\n",
       "      <td>105624</td>\n",
       "    </tr>\n",
       "    <tr>\n",
       "      <th>5</th>\n",
       "      <td>10498</td>\n",
       "      <td>106727</td>\n",
       "    </tr>\n",
       "    <tr>\n",
       "      <th>6</th>\n",
       "      <td>10791</td>\n",
       "      <td>91782</td>\n",
       "    </tr>\n",
       "    <tr>\n",
       "      <th>7</th>\n",
       "      <td>11000</td>\n",
       "      <td>93557</td>\n",
       "    </tr>\n",
       "    <tr>\n",
       "      <th>8</th>\n",
       "      <td>11000</td>\n",
       "      <td>102122</td>\n",
       "    </tr>\n",
       "    <tr>\n",
       "      <th>9</th>\n",
       "      <td>11000</td>\n",
       "      <td>99954</td>\n",
       "    </tr>\n",
       "    <tr>\n",
       "      <th>10</th>\n",
       "      <td>1314</td>\n",
       "      <td>108555</td>\n",
       "    </tr>\n",
       "    <tr>\n",
       "      <th>11</th>\n",
       "      <td>1314</td>\n",
       "      <td>97958</td>\n",
       "    </tr>\n",
       "    <tr>\n",
       "      <th>12</th>\n",
       "      <td>1330</td>\n",
       "      <td>89593</td>\n",
       "    </tr>\n",
       "    <tr>\n",
       "      <th>13</th>\n",
       "      <td>1330</td>\n",
       "      <td>100297</td>\n",
       "    </tr>\n",
       "    <tr>\n",
       "      <th>14</th>\n",
       "      <td>3073</td>\n",
       "      <td>107793</td>\n",
       "    </tr>\n",
       "    <tr>\n",
       "      <th>15</th>\n",
       "      <td>3564</td>\n",
       "      <td>94024</td>\n",
       "    </tr>\n",
       "    <tr>\n",
       "      <th>16</th>\n",
       "      <td>3564</td>\n",
       "      <td>100155</td>\n",
       "    </tr>\n",
       "    <tr>\n",
       "      <th>17</th>\n",
       "      <td>3710</td>\n",
       "      <td>94898</td>\n",
       "    </tr>\n",
       "    <tr>\n",
       "      <th>18</th>\n",
       "      <td>3710</td>\n",
       "      <td>95336</td>\n",
       "    </tr>\n",
       "    <tr>\n",
       "      <th>19</th>\n",
       "      <td>3973</td>\n",
       "      <td>94577</td>\n",
       "    </tr>\n",
       "    <tr>\n",
       "      <th>20</th>\n",
       "      <td>3973</td>\n",
       "      <td>89969</td>\n",
       "    </tr>\n",
       "    <tr>\n",
       "      <th>21</th>\n",
       "      <td>4659</td>\n",
       "      <td>89913</td>\n",
       "    </tr>\n",
       "    <tr>\n",
       "      <th>22</th>\n",
       "      <td>4659</td>\n",
       "      <td>90479</td>\n",
       "    </tr>\n",
       "    <tr>\n",
       "      <th>23</th>\n",
       "      <td>4986</td>\n",
       "      <td>104336</td>\n",
       "    </tr>\n",
       "    <tr>\n",
       "      <th>24</th>\n",
       "      <td>4986</td>\n",
       "      <td>104333</td>\n",
       "    </tr>\n",
       "    <tr>\n",
       "      <th>25</th>\n",
       "      <td>5013</td>\n",
       "      <td>91882</td>\n",
       "    </tr>\n",
       "    <tr>\n",
       "      <th>26</th>\n",
       "      <td>5013</td>\n",
       "      <td>103078</td>\n",
       "    </tr>\n",
       "    <tr>\n",
       "      <th>27</th>\n",
       "      <td>5869</td>\n",
       "      <td>108430</td>\n",
       "    </tr>\n",
       "    <tr>\n",
       "      <th>28</th>\n",
       "      <td>6604</td>\n",
       "      <td>95253</td>\n",
       "    </tr>\n",
       "    <tr>\n",
       "      <th>29</th>\n",
       "      <td>6604</td>\n",
       "      <td>95311</td>\n",
       "    </tr>\n",
       "    <tr>\n",
       "      <th>30</th>\n",
       "      <td>6604</td>\n",
       "      <td>101376</td>\n",
       "    </tr>\n",
       "    <tr>\n",
       "      <th>31</th>\n",
       "      <td>6604</td>\n",
       "      <td>103333</td>\n",
       "    </tr>\n",
       "    <tr>\n",
       "      <th>32</th>\n",
       "      <td>6604</td>\n",
       "      <td>103440</td>\n",
       "    </tr>\n",
       "    <tr>\n",
       "      <th>33</th>\n",
       "      <td>700</td>\n",
       "      <td>101106</td>\n",
       "    </tr>\n",
       "    <tr>\n",
       "      <th>34</th>\n",
       "      <td>9381</td>\n",
       "      <td>93523</td>\n",
       "    </tr>\n",
       "    <tr>\n",
       "      <th>35</th>\n",
       "      <td>9381</td>\n",
       "      <td>102228</td>\n",
       "    </tr>\n",
       "    <tr>\n",
       "      <th>36</th>\n",
       "      <td>9423</td>\n",
       "      <td>97295</td>\n",
       "    </tr>\n",
       "    <tr>\n",
       "      <th>37</th>\n",
       "      <td>9778</td>\n",
       "      <td>96792</td>\n",
       "    </tr>\n",
       "  </tbody>\n",
       "</table>\n",
       "</div>"
      ],
      "text/plain": [
       "   pseudo_household_id     pik\n",
       "0                10191  101024\n",
       "1                10191  106474\n",
       "2                10330  106691\n",
       "3                10498   97623\n",
       "4                10498  105624\n",
       "5                10498  106727\n",
       "6                10791   91782\n",
       "7                11000   93557\n",
       "8                11000  102122\n",
       "9                11000   99954\n",
       "10                1314  108555\n",
       "11                1314   97958\n",
       "12                1330   89593\n",
       "13                1330  100297\n",
       "14                3073  107793\n",
       "15                3564   94024\n",
       "16                3564  100155\n",
       "17                3710   94898\n",
       "18                3710   95336\n",
       "19                3973   94577\n",
       "20                3973   89969\n",
       "21                4659   89913\n",
       "22                4659   90479\n",
       "23                4986  104336\n",
       "24                4986  104333\n",
       "25                5013   91882\n",
       "26                5013  103078\n",
       "27                5869  108430\n",
       "28                6604   95253\n",
       "29                6604   95311\n",
       "30                6604  101376\n",
       "31                6604  103333\n",
       "32                6604  103440\n",
       "33                 700  101106\n",
       "34                9381   93523\n",
       "35                9381  102228\n",
       "36                9423   97295\n",
       "37                9778   96792"
      ]
     },
     "execution_count": 96,
     "metadata": {},
     "output_type": "execute_result"
    }
   ],
   "source": [
    "piks_by_eligible_household = df_ops.drop_duplicates(\n",
    "    eligible_households\n",
    "        .merge(piks_with_household[[\"pseudo_household_id\", \"pik\"]].dropna(subset=\"pik\"), on=\"pseudo_household_id\", how=\"inner\")\n",
    ")\n",
    "piks_by_eligible_household"
   ]
  },
  {
   "cell_type": "code",
   "execution_count": 97,
   "id": "0386f872-93a4-48b1-88bd-82db34a6df76",
   "metadata": {
    "execution": {
     "iopub.execute_input": "2024-02-12T19:21:41.909070Z",
     "iopub.status.busy": "2024-02-12T19:21:41.908764Z",
     "iopub.status.idle": "2024-02-12T19:21:41.922525Z",
     "shell.execute_reply": "2024-02-12T19:21:41.921794Z"
    },
    "papermill": {
     "duration": 0.047167,
     "end_time": "2024-02-12T19:21:41.923742",
     "exception": false,
     "start_time": "2024-02-12T19:21:41.876575",
     "status": "completed"
    },
    "tags": []
   },
   "outputs": [
    {
     "data": {
      "text/html": [
       "<div>\n",
       "<style scoped>\n",
       "    .dataframe tbody tr th:only-of-type {\n",
       "        vertical-align: middle;\n",
       "    }\n",
       "\n",
       "    .dataframe tbody tr th {\n",
       "        vertical-align: top;\n",
       "    }\n",
       "\n",
       "    .dataframe thead th {\n",
       "        text-align: right;\n",
       "    }\n",
       "</style>\n",
       "<table border=\"1\" class=\"dataframe\">\n",
       "  <thead>\n",
       "    <tr style=\"text-align: right;\">\n",
       "      <th></th>\n",
       "      <th>pseudo_household_id</th>\n",
       "      <th>geokey_for_blocking</th>\n",
       "    </tr>\n",
       "  </thead>\n",
       "  <tbody>\n",
       "    <tr>\n",
       "      <th>0</th>\n",
       "      <td>10191</td>\n",
       "      <td>10343 DENNY AVE UNIT 234 ANYTOWN WA 00000</td>\n",
       "    </tr>\n",
       "    <tr>\n",
       "      <th>1</th>\n",
       "      <td>10330</td>\n",
       "      <td>7271 COUNTRY CLUB PL APT 603 ANYTOWN NE 00000</td>\n",
       "    </tr>\n",
       "    <tr>\n",
       "      <th>2</th>\n",
       "      <td>10330</td>\n",
       "      <td>7271 COUNTRY CLUB PL APT 603 ANYTOWN WA 00000</td>\n",
       "    </tr>\n",
       "    <tr>\n",
       "      <th>5</th>\n",
       "      <td>10498</td>\n",
       "      <td>233 CASH RD APT NUMBER 5 ANYTOWN WA 00000</td>\n",
       "    </tr>\n",
       "    <tr>\n",
       "      <th>6</th>\n",
       "      <td>10498</td>\n",
       "      <td>233 CASH RD APT NUMBER 5 ANYTOWN WA 20000</td>\n",
       "    </tr>\n",
       "    <tr>\n",
       "      <th>7</th>\n",
       "      <td>10791</td>\n",
       "      <td>10 KANSAS ST APT 229 ANYTOWN WA 00000</td>\n",
       "    </tr>\n",
       "    <tr>\n",
       "      <th>8</th>\n",
       "      <td>11000</td>\n",
       "      <td>255 WOODFIELD POULEEVART APT A ANYTOWN WA 00000</td>\n",
       "    </tr>\n",
       "    <tr>\n",
       "      <th>11</th>\n",
       "      <td>11000</td>\n",
       "      <td>255 WOODFIELT POULEVARD APT A ANYTOWN WA 00000</td>\n",
       "    </tr>\n",
       "    <tr>\n",
       "      <th>12</th>\n",
       "      <td>11000</td>\n",
       "      <td>255 WOODFIELD BOULEVARD APT A ANYTOWN WA 00000</td>\n",
       "    </tr>\n",
       "    <tr>\n",
       "      <th>13</th>\n",
       "      <td>1314</td>\n",
       "      <td>734 US HWY 27 APARTJENT 1 ANYTOWN WA 00000</td>\n",
       "    </tr>\n",
       "    <tr>\n",
       "      <th>14</th>\n",
       "      <td>1314</td>\n",
       "      <td>734 US HWY 27 APARTMENT 1 ANYTOWN WA 00000</td>\n",
       "    </tr>\n",
       "    <tr>\n",
       "      <th>15</th>\n",
       "      <td>3073</td>\n",
       "      <td>400 SOUTHWESTRN BLVD UNIT 402 ANYTOWN WA 00000</td>\n",
       "    </tr>\n",
       "    <tr>\n",
       "      <th>17</th>\n",
       "      <td>3973</td>\n",
       "      <td>1706 BUDWIN LN # 300 ANYTOWN WA 00000</td>\n",
       "    </tr>\n",
       "    <tr>\n",
       "      <th>18</th>\n",
       "      <td>3973</td>\n",
       "      <td>1706 BUDWIN LN # 301 ANYTOWN WA 00000</td>\n",
       "    </tr>\n",
       "    <tr>\n",
       "      <th>19</th>\n",
       "      <td>4659</td>\n",
       "      <td>22948 CHESTNUT ST UNT # 3 AMNYGOWN WA 00000</td>\n",
       "    </tr>\n",
       "    <tr>\n",
       "      <th>21</th>\n",
       "      <td>4659</td>\n",
       "      <td>22988 CHESTNUT ST UNT # 3 ANYTOWN WA 00000</td>\n",
       "    </tr>\n",
       "    <tr>\n",
       "      <th>22</th>\n",
       "      <td>4659</td>\n",
       "      <td>22948 CHESTNUT ST UNT # 3 ANYTOWN WA 00000</td>\n",
       "    </tr>\n",
       "    <tr>\n",
       "      <th>23</th>\n",
       "      <td>4986</td>\n",
       "      <td>1120 ANNE AVE APT 387 ANYTOWN WA 00000</td>\n",
       "    </tr>\n",
       "    <tr>\n",
       "      <th>24</th>\n",
       "      <td>4986</td>\n",
       "      <td>1020 ANNE QVR APT 387 ANYTOWN WA 00000</td>\n",
       "    </tr>\n",
       "    <tr>\n",
       "      <th>25</th>\n",
       "      <td>4986</td>\n",
       "      <td>1120 ANNE AVE APT 387 ANYTOWN NM 00000</td>\n",
       "    </tr>\n",
       "    <tr>\n",
       "      <th>27</th>\n",
       "      <td>4986</td>\n",
       "      <td>1020 ANNE AVE APT 387 ANYTOWN WV 00000</td>\n",
       "    </tr>\n",
       "    <tr>\n",
       "      <th>28</th>\n",
       "      <td>4986</td>\n",
       "      <td>1020 ANNE AVE APT 387 ANYTOWN WA 00000</td>\n",
       "    </tr>\n",
       "    <tr>\n",
       "      <th>30</th>\n",
       "      <td>5013</td>\n",
       "      <td>58-94 ATLANTA INTL AIRPORT 3RD STORY ANYTOWN W...</td>\n",
       "    </tr>\n",
       "    <tr>\n",
       "      <th>31</th>\n",
       "      <td>5869</td>\n",
       "      <td>12215 S TUCANA LN UNIT 460 ANYTOWN WA 00000</td>\n",
       "    </tr>\n",
       "    <tr>\n",
       "      <th>36</th>\n",
       "      <td>6604</td>\n",
       "      <td>7 ACADEMY LN APT A ANYTOWN WA 00000</td>\n",
       "    </tr>\n",
       "    <tr>\n",
       "      <th>37</th>\n",
       "      <td>700</td>\n",
       "      <td>4727 SAINT JAMES PLACE UNIT 2008 ANYTOWN WA 00000</td>\n",
       "    </tr>\n",
       "    <tr>\n",
       "      <th>38</th>\n",
       "      <td>700</td>\n",
       "      <td>2223 EFFIE RD NO G 88 ANYTOWN WA 00000</td>\n",
       "    </tr>\n",
       "    <tr>\n",
       "      <th>39</th>\n",
       "      <td>9381</td>\n",
       "      <td>2254 VINT HILL RD UNIT # 1013 ANYTOWN WA 00000</td>\n",
       "    </tr>\n",
       "    <tr>\n",
       "      <th>40</th>\n",
       "      <td>9381</td>\n",
       "      <td>2655 VINT HILL RD UNIT # 1013 ANYTOWN WA 00000</td>\n",
       "    </tr>\n",
       "    <tr>\n",
       "      <th>42</th>\n",
       "      <td>9381</td>\n",
       "      <td>2255 VINT HILL RD UNIT # 1013 ANYTOWN WA 00000</td>\n",
       "    </tr>\n",
       "    <tr>\n",
       "      <th>43</th>\n",
       "      <td>9423</td>\n",
       "      <td>13 BAXTER 614 ROAD # 123 ANYTOWN WA 00000</td>\n",
       "    </tr>\n",
       "    <tr>\n",
       "      <th>44</th>\n",
       "      <td>9778</td>\n",
       "      <td>98908 NORTH HURSTBOURNE PKW APT # 14 B ANYTOWN...</td>\n",
       "    </tr>\n",
       "  </tbody>\n",
       "</table>\n",
       "</div>"
      ],
      "text/plain": [
       "   pseudo_household_id                                geokey_for_blocking\n",
       "0                10191          10343 DENNY AVE UNIT 234 ANYTOWN WA 00000\n",
       "1                10330      7271 COUNTRY CLUB PL APT 603 ANYTOWN NE 00000\n",
       "2                10330      7271 COUNTRY CLUB PL APT 603 ANYTOWN WA 00000\n",
       "5                10498          233 CASH RD APT NUMBER 5 ANYTOWN WA 00000\n",
       "6                10498          233 CASH RD APT NUMBER 5 ANYTOWN WA 20000\n",
       "7                10791              10 KANSAS ST APT 229 ANYTOWN WA 00000\n",
       "8                11000    255 WOODFIELD POULEEVART APT A ANYTOWN WA 00000\n",
       "11               11000     255 WOODFIELT POULEVARD APT A ANYTOWN WA 00000\n",
       "12               11000     255 WOODFIELD BOULEVARD APT A ANYTOWN WA 00000\n",
       "13                1314         734 US HWY 27 APARTJENT 1 ANYTOWN WA 00000\n",
       "14                1314         734 US HWY 27 APARTMENT 1 ANYTOWN WA 00000\n",
       "15                3073     400 SOUTHWESTRN BLVD UNIT 402 ANYTOWN WA 00000\n",
       "17                3973              1706 BUDWIN LN # 300 ANYTOWN WA 00000\n",
       "18                3973              1706 BUDWIN LN # 301 ANYTOWN WA 00000\n",
       "19                4659        22948 CHESTNUT ST UNT # 3 AMNYGOWN WA 00000\n",
       "21                4659         22988 CHESTNUT ST UNT # 3 ANYTOWN WA 00000\n",
       "22                4659         22948 CHESTNUT ST UNT # 3 ANYTOWN WA 00000\n",
       "23                4986             1120 ANNE AVE APT 387 ANYTOWN WA 00000\n",
       "24                4986             1020 ANNE QVR APT 387 ANYTOWN WA 00000\n",
       "25                4986             1120 ANNE AVE APT 387 ANYTOWN NM 00000\n",
       "27                4986             1020 ANNE AVE APT 387 ANYTOWN WV 00000\n",
       "28                4986             1020 ANNE AVE APT 387 ANYTOWN WA 00000\n",
       "30                5013  58-94 ATLANTA INTL AIRPORT 3RD STORY ANYTOWN W...\n",
       "31                5869        12215 S TUCANA LN UNIT 460 ANYTOWN WA 00000\n",
       "36                6604                7 ACADEMY LN APT A ANYTOWN WA 00000\n",
       "37                 700  4727 SAINT JAMES PLACE UNIT 2008 ANYTOWN WA 00000\n",
       "38                 700             2223 EFFIE RD NO G 88 ANYTOWN WA 00000\n",
       "39                9381     2254 VINT HILL RD UNIT # 1013 ANYTOWN WA 00000\n",
       "40                9381     2655 VINT HILL RD UNIT # 1013 ANYTOWN WA 00000\n",
       "42                9381     2255 VINT HILL RD UNIT # 1013 ANYTOWN WA 00000\n",
       "43                9423          13 BAXTER 614 ROAD # 123 ANYTOWN WA 00000\n",
       "44                9778  98908 NORTH HURSTBOURNE PKW APT # 14 B ANYTOWN..."
      ]
     },
     "execution_count": 97,
     "metadata": {},
     "output_type": "execute_result"
    }
   ],
   "source": [
    "geokeys_by_eligible_household = (\n",
    "    piks_by_eligible_household\n",
    "        .merge(df_ops.drop_duplicates(geobase_reference_file[[\"pik\", \"geokey_for_blocking\"]].dropna(subset=\"geokey_for_blocking\")), on=\"pik\")\n",
    "        .drop(columns=[\"pik\"])\n",
    "        .pipe(df_ops.drop_duplicates)\n",
    ")\n",
    "geokeys_by_eligible_household"
   ]
  },
  {
   "cell_type": "code",
   "execution_count": 98,
   "id": "2034b8a2-a959-41a6-bce5-b31b3f7bad62",
   "metadata": {
    "execution": {
     "iopub.execute_input": "2024-02-12T19:21:41.991357Z",
     "iopub.status.busy": "2024-02-12T19:21:41.991108Z",
     "iopub.status.idle": "2024-02-12T19:21:42.004259Z",
     "shell.execute_reply": "2024-02-12T19:21:42.003215Z"
    },
    "papermill": {
     "duration": 0.049882,
     "end_time": "2024-02-12T19:21:42.005675",
     "exception": false,
     "start_time": "2024-02-12T19:21:41.955793",
     "status": "completed"
    },
    "tags": []
   },
   "outputs": [],
   "source": [
    "# Apparently, we exclude from the reference file all *reference file* records with a PIK that\n",
    "# has already been assigned to an input file row.\n",
    "# Doing this goes against the normal assumption, which is that reference file records can match\n",
    "# to multiple input file records.\n",
    "# This is really surprising to me, but it seems clear from \"the program\n",
    "# removes all household members with a PIK, leaving the unPIKed persons in the\n",
    "# household. This becomes the reference file to search against.\" (Wagner and Layne, p. 16)\n",
    "eligible_geobase_reference_file_records = (\n",
    "    geobase_reference_file[geobase_reference_file.geokey_for_blocking.notnull()]\n",
    "        .merge(df_ops.drop_duplicates(person_linkage_cascade.confirmed_piks[['pik']]).assign(confirmed_pik_dummy=1), on='pik', how='left')\n",
    "        .pipe(lambda df: df[df.confirmed_pik_dummy.isnull()])\n",
    "        .drop(columns=['confirmed_pik_dummy'])\n",
    ")"
   ]
  },
  {
   "cell_type": "code",
   "execution_count": 99,
   "id": "60c5a0f4-6220-4d29-a604-52b930c3198b",
   "metadata": {
    "execution": {
     "iopub.execute_input": "2024-02-12T19:21:42.070487Z",
     "iopub.status.busy": "2024-02-12T19:21:42.070203Z",
     "iopub.status.idle": "2024-02-12T19:21:42.086965Z",
     "shell.execute_reply": "2024-02-12T19:21:42.086342Z"
    },
    "papermill": {
     "duration": 0.050999,
     "end_time": "2024-02-12T19:21:42.088076",
     "exception": false,
     "start_time": "2024-02-12T19:21:42.037077",
     "status": "completed"
    },
    "tags": []
   },
   "outputs": [
    {
     "data": {
      "text/html": [
       "<div>\n",
       "<style scoped>\n",
       "    .dataframe tbody tr th:only-of-type {\n",
       "        vertical-align: middle;\n",
       "    }\n",
       "\n",
       "    .dataframe tbody tr th {\n",
       "        vertical-align: top;\n",
       "    }\n",
       "\n",
       "    .dataframe thead th {\n",
       "        text-align: right;\n",
       "    }\n",
       "</style>\n",
       "<table border=\"1\" class=\"dataframe\">\n",
       "  <thead>\n",
       "    <tr style=\"text-align: right;\">\n",
       "      <th></th>\n",
       "      <th>pseudo_household_id</th>\n",
       "      <th>geokey_for_blocking</th>\n",
       "      <th>record_id</th>\n",
       "      <th>ssn</th>\n",
       "      <th>first_name</th>\n",
       "      <th>middle_name</th>\n",
       "      <th>last_name</th>\n",
       "      <th>street_number</th>\n",
       "      <th>street_name</th>\n",
       "      <th>unit_number</th>\n",
       "      <th>...</th>\n",
       "      <th>last_name_12</th>\n",
       "      <th>middle_initial</th>\n",
       "      <th>first_name_1</th>\n",
       "      <th>last_name_1</th>\n",
       "      <th>first_name_2</th>\n",
       "      <th>last_name_2</th>\n",
       "      <th>first_name_3</th>\n",
       "      <th>last_name_3</th>\n",
       "      <th>street_name_for_blocking_soundex</th>\n",
       "      <th>zip3</th>\n",
       "    </tr>\n",
       "  </thead>\n",
       "  <tbody>\n",
       "    <tr>\n",
       "      <th>0</th>\n",
       "      <td>10191</td>\n",
       "      <td>10343 DENNY AVE UNIT 234 ANYTOWN WA 00000</td>\n",
       "      <td>simulated_geobase_reference_file_20866</td>\n",
       "      <td>337-84-7597</td>\n",
       "      <td>Raven</td>\n",
       "      <td>Emma</td>\n",
       "      <td>F</td>\n",
       "      <td>10343</td>\n",
       "      <td>DENNY AVE</td>\n",
       "      <td>UNIT 234</td>\n",
       "      <td>...</td>\n",
       "      <td>F</td>\n",
       "      <td>E</td>\n",
       "      <td>R</td>\n",
       "      <td>F</td>\n",
       "      <td>Ra</td>\n",
       "      <td>F</td>\n",
       "      <td>Rav</td>\n",
       "      <td>F</td>\n",
       "      <td>D510</td>\n",
       "      <td>000</td>\n",
       "    </tr>\n",
       "    <tr>\n",
       "      <th>1</th>\n",
       "      <td>10330</td>\n",
       "      <td>7271 COUNTRY CLUB PL APT 603 ANYTOWN WA 00000</td>\n",
       "      <td>simulated_geobase_reference_file_17719</td>\n",
       "      <td>402-09-7169</td>\n",
       "      <td>Claire</td>\n",
       "      <td>Grace</td>\n",
       "      <td>Caputo</td>\n",
       "      <td>7271</td>\n",
       "      <td>COUNTRY CLUB PL</td>\n",
       "      <td>APT 603</td>\n",
       "      <td>...</td>\n",
       "      <td>Caputo</td>\n",
       "      <td>G</td>\n",
       "      <td>C</td>\n",
       "      <td>C</td>\n",
       "      <td>Cl</td>\n",
       "      <td>Ca</td>\n",
       "      <td>Cla</td>\n",
       "      <td>Cap</td>\n",
       "      <td>C536</td>\n",
       "      <td>000</td>\n",
       "    </tr>\n",
       "    <tr>\n",
       "      <th>2</th>\n",
       "      <td>10498</td>\n",
       "      <td>233 CASH RD APT NUMBER 5 ANYTOWN WA 00000</td>\n",
       "      <td>simulated_geobase_reference_file_8212</td>\n",
       "      <td>454-55-3021</td>\n",
       "      <td>Jacqueline</td>\n",
       "      <td>Kimberly</td>\n",
       "      <td>Kidd</td>\n",
       "      <td>233</td>\n",
       "      <td>CASH RD</td>\n",
       "      <td>APT NUMBER 5</td>\n",
       "      <td>...</td>\n",
       "      <td>Kidd</td>\n",
       "      <td>K</td>\n",
       "      <td>J</td>\n",
       "      <td>K</td>\n",
       "      <td>Ja</td>\n",
       "      <td>Ki</td>\n",
       "      <td>Jac</td>\n",
       "      <td>Kid</td>\n",
       "      <td>C263</td>\n",
       "      <td>000</td>\n",
       "    </tr>\n",
       "    <tr>\n",
       "      <th>3</th>\n",
       "      <td>10498</td>\n",
       "      <td>233 CASH RD APT NUMBER 5 ANYTOWN WA 00000</td>\n",
       "      <td>simulated_geobase_reference_file_16930</td>\n",
       "      <td>455-53-5567</td>\n",
       "      <td>Anne</td>\n",
       "      <td>Carley</td>\n",
       "      <td>Kidd</td>\n",
       "      <td>233</td>\n",
       "      <td>CASH RD</td>\n",
       "      <td>APT NUMBER 5</td>\n",
       "      <td>...</td>\n",
       "      <td>Kidd</td>\n",
       "      <td>C</td>\n",
       "      <td>A</td>\n",
       "      <td>K</td>\n",
       "      <td>An</td>\n",
       "      <td>Ki</td>\n",
       "      <td>Ann</td>\n",
       "      <td>Kid</td>\n",
       "      <td>C263</td>\n",
       "      <td>000</td>\n",
       "    </tr>\n",
       "    <tr>\n",
       "      <th>4</th>\n",
       "      <td>10498</td>\n",
       "      <td>233 CASH RD APT NUMBER 5 ANYTOWN WA 00000</td>\n",
       "      <td>simulated_geobase_reference_file_25904</td>\n",
       "      <td>784-46-4167</td>\n",
       "      <td>William</td>\n",
       "      <td>Marcus</td>\n",
       "      <td>Rose</td>\n",
       "      <td>233</td>\n",
       "      <td>CASH RD</td>\n",
       "      <td>APT NUMBER 5</td>\n",
       "      <td>...</td>\n",
       "      <td>Rose</td>\n",
       "      <td>M</td>\n",
       "      <td>W</td>\n",
       "      <td>R</td>\n",
       "      <td>Wi</td>\n",
       "      <td>Ro</td>\n",
       "      <td>Wil</td>\n",
       "      <td>Ros</td>\n",
       "      <td>C263</td>\n",
       "      <td>000</td>\n",
       "    </tr>\n",
       "    <tr>\n",
       "      <th>5</th>\n",
       "      <td>10791</td>\n",
       "      <td>10 KANSAS ST APT 229 ANYTOWN WA 00000</td>\n",
       "      <td>simulated_geobase_reference_file_17047</td>\n",
       "      <td>575-13-1993</td>\n",
       "      <td>Ronald</td>\n",
       "      <td>Jonathan</td>\n",
       "      <td>Hoisington</td>\n",
       "      <td>10</td>\n",
       "      <td>KANSAS ST</td>\n",
       "      <td>APT 229</td>\n",
       "      <td>...</td>\n",
       "      <td>Hoisington</td>\n",
       "      <td>J</td>\n",
       "      <td>R</td>\n",
       "      <td>H</td>\n",
       "      <td>Ro</td>\n",
       "      <td>Ho</td>\n",
       "      <td>Ron</td>\n",
       "      <td>Hoi</td>\n",
       "      <td>K522</td>\n",
       "      <td>000</td>\n",
       "    </tr>\n",
       "    <tr>\n",
       "      <th>6</th>\n",
       "      <td>11000</td>\n",
       "      <td>255 WOODFIELD BOULEVARD APT A ANYTOWN WA 00000</td>\n",
       "      <td>simulated_geobase_reference_file_4099</td>\n",
       "      <td>881-07-0500</td>\n",
       "      <td>Diana</td>\n",
       "      <td>Roxanne</td>\n",
       "      <td>Dunevant</td>\n",
       "      <td>255</td>\n",
       "      <td>WOODFIELD BOULEVARD</td>\n",
       "      <td>APT A</td>\n",
       "      <td>...</td>\n",
       "      <td>Dunevant</td>\n",
       "      <td>R</td>\n",
       "      <td>D</td>\n",
       "      <td>D</td>\n",
       "      <td>Di</td>\n",
       "      <td>Du</td>\n",
       "      <td>Dia</td>\n",
       "      <td>Dun</td>\n",
       "      <td>W314</td>\n",
       "      <td>000</td>\n",
       "    </tr>\n",
       "    <tr>\n",
       "      <th>7</th>\n",
       "      <td>3973</td>\n",
       "      <td>1706 BUDWIN LN # 301 ANYTOWN WA 00000</td>\n",
       "      <td>simulated_geobase_reference_file_8611</td>\n",
       "      <td>422-94-4065</td>\n",
       "      <td>Christopher</td>\n",
       "      <td>John</td>\n",
       "      <td>Anonymous</td>\n",
       "      <td>1706</td>\n",
       "      <td>BUDWIN LN</td>\n",
       "      <td># 301</td>\n",
       "      <td>...</td>\n",
       "      <td>Anonymous</td>\n",
       "      <td>J</td>\n",
       "      <td>C</td>\n",
       "      <td>A</td>\n",
       "      <td>Ch</td>\n",
       "      <td>An</td>\n",
       "      <td>Chr</td>\n",
       "      <td>Ano</td>\n",
       "      <td>B354</td>\n",
       "      <td>000</td>\n",
       "    </tr>\n",
       "    <tr>\n",
       "      <th>8</th>\n",
       "      <td>4659</td>\n",
       "      <td>22948 CHESTNUT ST UNT # 3 ANYTOWN WA 00000</td>\n",
       "      <td>simulated_geobase_reference_file_32196</td>\n",
       "      <td>920-92-2810</td>\n",
       "      <td>Jeffery</td>\n",
       "      <td>D</td>\n",
       "      <td>Gaston</td>\n",
       "      <td>22948</td>\n",
       "      <td>CHESTNUT ST</td>\n",
       "      <td>UNT # 3</td>\n",
       "      <td>...</td>\n",
       "      <td>Gaston</td>\n",
       "      <td>D</td>\n",
       "      <td>J</td>\n",
       "      <td>G</td>\n",
       "      <td>Je</td>\n",
       "      <td>Ga</td>\n",
       "      <td>Jef</td>\n",
       "      <td>Gas</td>\n",
       "      <td>C235</td>\n",
       "      <td>000</td>\n",
       "    </tr>\n",
       "    <tr>\n",
       "      <th>9</th>\n",
       "      <td>4659</td>\n",
       "      <td>22948 CHESTNUT ST UNT # 3 ANYTOWN WA 00000</td>\n",
       "      <td>simulated_geobase_reference_file_32366</td>\n",
       "      <td>920-92-2810</td>\n",
       "      <td>Gentleman Of</td>\n",
       "      <td>D</td>\n",
       "      <td>Gaston</td>\n",
       "      <td>22948</td>\n",
       "      <td>CHESTNUT ST</td>\n",
       "      <td>UNT # 3</td>\n",
       "      <td>...</td>\n",
       "      <td>Gaston</td>\n",
       "      <td>D</td>\n",
       "      <td>G</td>\n",
       "      <td>G</td>\n",
       "      <td>Ge</td>\n",
       "      <td>Ga</td>\n",
       "      <td>Gen</td>\n",
       "      <td>Gas</td>\n",
       "      <td>C235</td>\n",
       "      <td>000</td>\n",
       "    </tr>\n",
       "    <tr>\n",
       "      <th>10</th>\n",
       "      <td>4659</td>\n",
       "      <td>22948 CHESTNUT ST UNT # 3 ANYTOWN WA 00000</td>\n",
       "      <td>simulated_geobase_reference_file_32713</td>\n",
       "      <td>920-92-2610</td>\n",
       "      <td>Jeffery</td>\n",
       "      <td>D</td>\n",
       "      <td>Gaston</td>\n",
       "      <td>22948</td>\n",
       "      <td>CHESTNUT ST</td>\n",
       "      <td>UNT # 3</td>\n",
       "      <td>...</td>\n",
       "      <td>Gaston</td>\n",
       "      <td>D</td>\n",
       "      <td>J</td>\n",
       "      <td>G</td>\n",
       "      <td>Je</td>\n",
       "      <td>Ga</td>\n",
       "      <td>Jef</td>\n",
       "      <td>Gas</td>\n",
       "      <td>C235</td>\n",
       "      <td>000</td>\n",
       "    </tr>\n",
       "    <tr>\n",
       "      <th>11</th>\n",
       "      <td>4986</td>\n",
       "      <td>1020 ANNE AVE APT 387 ANYTOWN WA 00000</td>\n",
       "      <td>simulated_geobase_reference_file_26531</td>\n",
       "      <td>737-19-5287</td>\n",
       "      <td>Texsa</td>\n",
       "      <td>Nathalie</td>\n",
       "      <td>Villacis-Soltero</td>\n",
       "      <td>1020</td>\n",
       "      <td>ANNE AVE</td>\n",
       "      <td>APT 387</td>\n",
       "      <td>...</td>\n",
       "      <td>Villacis-Sol</td>\n",
       "      <td>N</td>\n",
       "      <td>T</td>\n",
       "      <td>V</td>\n",
       "      <td>Te</td>\n",
       "      <td>Vi</td>\n",
       "      <td>Tex</td>\n",
       "      <td>Vil</td>\n",
       "      <td>A510</td>\n",
       "      <td>000</td>\n",
       "    </tr>\n",
       "    <tr>\n",
       "      <th>12</th>\n",
       "      <td>5013</td>\n",
       "      <td>58-94 ATLANTA INTL AIRPORT 3RD STORY ANYTOWN W...</td>\n",
       "      <td>simulated_geobase_reference_file_26864</td>\n",
       "      <td>186-33-8877</td>\n",
       "      <td>Elliana</td>\n",
       "      <td>Sara:</td>\n",
       "      <td>Miller</td>\n",
       "      <td>58-94</td>\n",
       "      <td>ATLANTA INTL AIRPORT</td>\n",
       "      <td>3RD STORY</td>\n",
       "      <td>...</td>\n",
       "      <td>Miller</td>\n",
       "      <td>S</td>\n",
       "      <td>E</td>\n",
       "      <td>M</td>\n",
       "      <td>El</td>\n",
       "      <td>Mi</td>\n",
       "      <td>Ell</td>\n",
       "      <td>Mil</td>\n",
       "      <td>A345</td>\n",
       "      <td>000</td>\n",
       "    </tr>\n",
       "    <tr>\n",
       "      <th>13</th>\n",
       "      <td>5869</td>\n",
       "      <td>12215 S TUCANA LN UNIT 460 ANYTOWN WA 00000</td>\n",
       "      <td>simulated_geobase_reference_file_22899</td>\n",
       "      <td>655-25-7753</td>\n",
       "      <td>Xavier</td>\n",
       "      <td>Nolan</td>\n",
       "      <td>Hester</td>\n",
       "      <td>12215</td>\n",
       "      <td>S TUCANA LN</td>\n",
       "      <td>UNIT 460</td>\n",
       "      <td>...</td>\n",
       "      <td>Hester</td>\n",
       "      <td>N</td>\n",
       "      <td>X</td>\n",
       "      <td>H</td>\n",
       "      <td>Xa</td>\n",
       "      <td>He</td>\n",
       "      <td>Xav</td>\n",
       "      <td>Hes</td>\n",
       "      <td>S325</td>\n",
       "      <td>000</td>\n",
       "    </tr>\n",
       "    <tr>\n",
       "      <th>14</th>\n",
       "      <td>6604</td>\n",
       "      <td>7 ACADEMY LN APT A ANYTOWN WA 00000</td>\n",
       "      <td>simulated_geobase_reference_file_6986</td>\n",
       "      <td>759-16-2441</td>\n",
       "      <td>Francisco</td>\n",
       "      <td>Albert</td>\n",
       "      <td>Barnett</td>\n",
       "      <td>7</td>\n",
       "      <td>ACADEMY LN</td>\n",
       "      <td>APT A</td>\n",
       "      <td>...</td>\n",
       "      <td>Barnett</td>\n",
       "      <td>A</td>\n",
       "      <td>F</td>\n",
       "      <td>B</td>\n",
       "      <td>Fr</td>\n",
       "      <td>Ba</td>\n",
       "      <td>Fra</td>\n",
       "      <td>Bar</td>\n",
       "      <td>A235</td>\n",
       "      <td>000</td>\n",
       "    </tr>\n",
       "    <tr>\n",
       "      <th>15</th>\n",
       "      <td>700</td>\n",
       "      <td>2223 EFFIE RD NO G 88 ANYTOWN WA 00000</td>\n",
       "      <td>simulated_geobase_reference_file_1015</td>\n",
       "      <td>546-75-1847</td>\n",
       "      <td>Joseph</td>\n",
       "      <td>Christopher</td>\n",
       "      <td>Bryant</td>\n",
       "      <td>2223</td>\n",
       "      <td>EFFIE RD</td>\n",
       "      <td>NO G 88</td>\n",
       "      <td>...</td>\n",
       "      <td>Bryant</td>\n",
       "      <td>C</td>\n",
       "      <td>J</td>\n",
       "      <td>B</td>\n",
       "      <td>Jo</td>\n",
       "      <td>Br</td>\n",
       "      <td>Jos</td>\n",
       "      <td>Bry</td>\n",
       "      <td>E163</td>\n",
       "      <td>000</td>\n",
       "    </tr>\n",
       "    <tr>\n",
       "      <th>16</th>\n",
       "      <td>9381</td>\n",
       "      <td>2255 VINT HILL RD UNIT # 1013 ANYTOWN WA 00000</td>\n",
       "      <td>simulated_geobase_reference_file_21277</td>\n",
       "      <td>123-54-7137</td>\n",
       "      <td>Allen</td>\n",
       "      <td>Robert</td>\n",
       "      <td>Yoder</td>\n",
       "      <td>2255</td>\n",
       "      <td>VINT HILL RD</td>\n",
       "      <td>UNIT # 1013</td>\n",
       "      <td>...</td>\n",
       "      <td>Yoder</td>\n",
       "      <td>R</td>\n",
       "      <td>A</td>\n",
       "      <td>Y</td>\n",
       "      <td>Al</td>\n",
       "      <td>Yo</td>\n",
       "      <td>All</td>\n",
       "      <td>Yod</td>\n",
       "      <td>V534</td>\n",
       "      <td>000</td>\n",
       "    </tr>\n",
       "    <tr>\n",
       "      <th>17</th>\n",
       "      <td>9423</td>\n",
       "      <td>13 BAXTER 614 ROAD # 123 ANYTOWN WA 00000</td>\n",
       "      <td>simulated_geobase_reference_file_31991</td>\n",
       "      <td>921-53-9692</td>\n",
       "      <td>Toni</td>\n",
       "      <td>L</td>\n",
       "      <td>Andreadiz</td>\n",
       "      <td>13</td>\n",
       "      <td>BAXTER 614 ROAD</td>\n",
       "      <td># 123</td>\n",
       "      <td>...</td>\n",
       "      <td>Andreadiz</td>\n",
       "      <td>L</td>\n",
       "      <td>T</td>\n",
       "      <td>A</td>\n",
       "      <td>To</td>\n",
       "      <td>An</td>\n",
       "      <td>Ton</td>\n",
       "      <td>And</td>\n",
       "      <td>B236</td>\n",
       "      <td>000</td>\n",
       "    </tr>\n",
       "    <tr>\n",
       "      <th>18</th>\n",
       "      <td>9423</td>\n",
       "      <td>13 BAXTER 614 ROAD # 123 ANYTOWN WA 00000</td>\n",
       "      <td>simulated_geobase_reference_file_32287</td>\n",
       "      <td>921-53-9692</td>\n",
       "      <td>Toni</td>\n",
       "      <td>L</td>\n",
       "      <td>Andreadis</td>\n",
       "      <td>13</td>\n",
       "      <td>BAXTER 614 ROAD</td>\n",
       "      <td># 123</td>\n",
       "      <td>...</td>\n",
       "      <td>Andreadis</td>\n",
       "      <td>L</td>\n",
       "      <td>T</td>\n",
       "      <td>A</td>\n",
       "      <td>To</td>\n",
       "      <td>An</td>\n",
       "      <td>Ton</td>\n",
       "      <td>And</td>\n",
       "      <td>B236</td>\n",
       "      <td>000</td>\n",
       "    </tr>\n",
       "    <tr>\n",
       "      <th>19</th>\n",
       "      <td>9778</td>\n",
       "      <td>98908 NORTH HURSTBOURNE PKW APT # 14 B ANYTOWN...</td>\n",
       "      <td>simulated_geobase_reference_file_5481</td>\n",
       "      <td>333-93-3305</td>\n",
       "      <td>Patty</td>\n",
       "      <td>Norma</td>\n",
       "      <td>Payne</td>\n",
       "      <td>98908</td>\n",
       "      <td>NORTH HURSTBOURNE PKW</td>\n",
       "      <td>APT # 14 B</td>\n",
       "      <td>...</td>\n",
       "      <td>Payne</td>\n",
       "      <td>N</td>\n",
       "      <td>P</td>\n",
       "      <td>P</td>\n",
       "      <td>Pa</td>\n",
       "      <td>Pa</td>\n",
       "      <td>Pat</td>\n",
       "      <td>Pay</td>\n",
       "      <td>N636</td>\n",
       "      <td>000</td>\n",
       "    </tr>\n",
       "  </tbody>\n",
       "</table>\n",
       "<p>20 rows × 32 columns</p>\n",
       "</div>"
      ],
      "text/plain": [
       "   pseudo_household_id                                geokey_for_blocking  \\\n",
       "0                10191          10343 DENNY AVE UNIT 234 ANYTOWN WA 00000   \n",
       "1                10330      7271 COUNTRY CLUB PL APT 603 ANYTOWN WA 00000   \n",
       "2                10498          233 CASH RD APT NUMBER 5 ANYTOWN WA 00000   \n",
       "3                10498          233 CASH RD APT NUMBER 5 ANYTOWN WA 00000   \n",
       "4                10498          233 CASH RD APT NUMBER 5 ANYTOWN WA 00000   \n",
       "5                10791              10 KANSAS ST APT 229 ANYTOWN WA 00000   \n",
       "6                11000     255 WOODFIELD BOULEVARD APT A ANYTOWN WA 00000   \n",
       "7                 3973              1706 BUDWIN LN # 301 ANYTOWN WA 00000   \n",
       "8                 4659         22948 CHESTNUT ST UNT # 3 ANYTOWN WA 00000   \n",
       "9                 4659         22948 CHESTNUT ST UNT # 3 ANYTOWN WA 00000   \n",
       "10                4659         22948 CHESTNUT ST UNT # 3 ANYTOWN WA 00000   \n",
       "11                4986             1020 ANNE AVE APT 387 ANYTOWN WA 00000   \n",
       "12                5013  58-94 ATLANTA INTL AIRPORT 3RD STORY ANYTOWN W...   \n",
       "13                5869        12215 S TUCANA LN UNIT 460 ANYTOWN WA 00000   \n",
       "14                6604                7 ACADEMY LN APT A ANYTOWN WA 00000   \n",
       "15                 700             2223 EFFIE RD NO G 88 ANYTOWN WA 00000   \n",
       "16                9381     2255 VINT HILL RD UNIT # 1013 ANYTOWN WA 00000   \n",
       "17                9423          13 BAXTER 614 ROAD # 123 ANYTOWN WA 00000   \n",
       "18                9423          13 BAXTER 614 ROAD # 123 ANYTOWN WA 00000   \n",
       "19                9778  98908 NORTH HURSTBOURNE PKW APT # 14 B ANYTOWN...   \n",
       "\n",
       "                                 record_id          ssn    first_name  \\\n",
       "0   simulated_geobase_reference_file_20866  337-84-7597         Raven   \n",
       "1   simulated_geobase_reference_file_17719  402-09-7169        Claire   \n",
       "2    simulated_geobase_reference_file_8212  454-55-3021    Jacqueline   \n",
       "3   simulated_geobase_reference_file_16930  455-53-5567          Anne   \n",
       "4   simulated_geobase_reference_file_25904  784-46-4167       William   \n",
       "5   simulated_geobase_reference_file_17047  575-13-1993        Ronald   \n",
       "6    simulated_geobase_reference_file_4099  881-07-0500         Diana   \n",
       "7    simulated_geobase_reference_file_8611  422-94-4065   Christopher   \n",
       "8   simulated_geobase_reference_file_32196  920-92-2810       Jeffery   \n",
       "9   simulated_geobase_reference_file_32366  920-92-2810  Gentleman Of   \n",
       "10  simulated_geobase_reference_file_32713  920-92-2610       Jeffery   \n",
       "11  simulated_geobase_reference_file_26531  737-19-5287         Texsa   \n",
       "12  simulated_geobase_reference_file_26864  186-33-8877       Elliana   \n",
       "13  simulated_geobase_reference_file_22899  655-25-7753        Xavier   \n",
       "14   simulated_geobase_reference_file_6986  759-16-2441     Francisco   \n",
       "15   simulated_geobase_reference_file_1015  546-75-1847        Joseph   \n",
       "16  simulated_geobase_reference_file_21277  123-54-7137         Allen   \n",
       "17  simulated_geobase_reference_file_31991  921-53-9692          Toni   \n",
       "18  simulated_geobase_reference_file_32287  921-53-9692          Toni   \n",
       "19   simulated_geobase_reference_file_5481  333-93-3305         Patty   \n",
       "\n",
       "    middle_name         last_name street_number            street_name  \\\n",
       "0          Emma                 F         10343              DENNY AVE   \n",
       "1         Grace            Caputo          7271        COUNTRY CLUB PL   \n",
       "2      Kimberly              Kidd           233                CASH RD   \n",
       "3        Carley              Kidd           233                CASH RD   \n",
       "4        Marcus              Rose           233                CASH RD   \n",
       "5      Jonathan        Hoisington            10              KANSAS ST   \n",
       "6       Roxanne          Dunevant           255    WOODFIELD BOULEVARD   \n",
       "7          John         Anonymous          1706              BUDWIN LN   \n",
       "8             D            Gaston         22948            CHESTNUT ST   \n",
       "9             D            Gaston         22948            CHESTNUT ST   \n",
       "10            D            Gaston         22948            CHESTNUT ST   \n",
       "11     Nathalie  Villacis-Soltero          1020               ANNE AVE   \n",
       "12        Sara:            Miller         58-94   ATLANTA INTL AIRPORT   \n",
       "13        Nolan            Hester         12215            S TUCANA LN   \n",
       "14       Albert           Barnett             7             ACADEMY LN   \n",
       "15  Christopher            Bryant          2223               EFFIE RD   \n",
       "16       Robert             Yoder          2255           VINT HILL RD   \n",
       "17            L         Andreadiz            13        BAXTER 614 ROAD   \n",
       "18            L         Andreadis            13        BAXTER 614 ROAD   \n",
       "19        Norma             Payne         98908  NORTH HURSTBOURNE PKW   \n",
       "\n",
       "     unit_number  ...  last_name_12 middle_initial first_name_1 last_name_1  \\\n",
       "0       UNIT 234  ...             F              E            R           F   \n",
       "1        APT 603  ...        Caputo              G            C           C   \n",
       "2   APT NUMBER 5  ...          Kidd              K            J           K   \n",
       "3   APT NUMBER 5  ...          Kidd              C            A           K   \n",
       "4   APT NUMBER 5  ...          Rose              M            W           R   \n",
       "5        APT 229  ...    Hoisington              J            R           H   \n",
       "6          APT A  ...      Dunevant              R            D           D   \n",
       "7          # 301  ...     Anonymous              J            C           A   \n",
       "8        UNT # 3  ...        Gaston              D            J           G   \n",
       "9        UNT # 3  ...        Gaston              D            G           G   \n",
       "10       UNT # 3  ...        Gaston              D            J           G   \n",
       "11       APT 387  ...  Villacis-Sol              N            T           V   \n",
       "12     3RD STORY  ...        Miller              S            E           M   \n",
       "13      UNIT 460  ...        Hester              N            X           H   \n",
       "14         APT A  ...       Barnett              A            F           B   \n",
       "15       NO G 88  ...        Bryant              C            J           B   \n",
       "16   UNIT # 1013  ...         Yoder              R            A           Y   \n",
       "17         # 123  ...     Andreadiz              L            T           A   \n",
       "18         # 123  ...     Andreadis              L            T           A   \n",
       "19    APT # 14 B  ...         Payne              N            P           P   \n",
       "\n",
       "   first_name_2  last_name_2  first_name_3  last_name_3  \\\n",
       "0            Ra            F           Rav            F   \n",
       "1            Cl           Ca           Cla          Cap   \n",
       "2            Ja           Ki           Jac          Kid   \n",
       "3            An           Ki           Ann          Kid   \n",
       "4            Wi           Ro           Wil          Ros   \n",
       "5            Ro           Ho           Ron          Hoi   \n",
       "6            Di           Du           Dia          Dun   \n",
       "7            Ch           An           Chr          Ano   \n",
       "8            Je           Ga           Jef          Gas   \n",
       "9            Ge           Ga           Gen          Gas   \n",
       "10           Je           Ga           Jef          Gas   \n",
       "11           Te           Vi           Tex          Vil   \n",
       "12           El           Mi           Ell          Mil   \n",
       "13           Xa           He           Xav          Hes   \n",
       "14           Fr           Ba           Fra          Bar   \n",
       "15           Jo           Br           Jos          Bry   \n",
       "16           Al           Yo           All          Yod   \n",
       "17           To           An           Ton          And   \n",
       "18           To           An           Ton          And   \n",
       "19           Pa           Pa           Pat          Pay   \n",
       "\n",
       "   street_name_for_blocking_soundex zip3  \n",
       "0                              D510  000  \n",
       "1                              C536  000  \n",
       "2                              C263  000  \n",
       "3                              C263  000  \n",
       "4                              C263  000  \n",
       "5                              K522  000  \n",
       "6                              W314  000  \n",
       "7                              B354  000  \n",
       "8                              C235  000  \n",
       "9                              C235  000  \n",
       "10                             C235  000  \n",
       "11                             A510  000  \n",
       "12                             A345  000  \n",
       "13                             S325  000  \n",
       "14                             A235  000  \n",
       "15                             E163  000  \n",
       "16                             V534  000  \n",
       "17                             B236  000  \n",
       "18                             B236  000  \n",
       "19                             N636  000  \n",
       "\n",
       "[20 rows x 32 columns]"
      ]
     },
     "execution_count": 99,
     "metadata": {},
     "output_type": "execute_result"
    }
   ],
   "source": [
    "hhcomp_reference_file = df_ops.persist(geokeys_by_eligible_household.merge(\n",
    "    eligible_geobase_reference_file_records,\n",
    "    on=\"geokey_for_blocking\",\n",
    "))\n",
    "hhcomp_reference_file"
   ]
  },
  {
   "cell_type": "code",
   "execution_count": 100,
   "id": "ce26ecbb-d8ff-4ac5-bffa-6d21e8dc3cf9",
   "metadata": {
    "execution": {
     "iopub.execute_input": "2024-02-12T19:21:42.153389Z",
     "iopub.status.busy": "2024-02-12T19:21:42.153141Z",
     "iopub.status.idle": "2024-02-12T19:21:42.157408Z",
     "shell.execute_reply": "2024-02-12T19:21:42.156890Z"
    },
    "papermill": {
     "duration": 0.037856,
     "end_time": "2024-02-12T19:21:42.158515",
     "exception": false,
     "start_time": "2024-02-12T19:21:42.120659",
     "status": "completed"
    },
    "tags": []
   },
   "outputs": [
    {
     "data": {
      "text/plain": [
       "20"
      ]
     },
     "execution_count": 100,
     "metadata": {},
     "output_type": "execute_result"
    }
   ],
   "source": [
    "len(hhcomp_reference_file)"
   ]
  },
  {
   "cell_type": "code",
   "execution_count": 101,
   "id": "fa0a1a66-1c18-48ad-a76f-11150f71a0bb",
   "metadata": {
    "execution": {
     "iopub.execute_input": "2024-02-12T19:21:42.224531Z",
     "iopub.status.busy": "2024-02-12T19:21:42.224286Z",
     "iopub.status.idle": "2024-02-12T19:21:42.258778Z",
     "shell.execute_reply": "2024-02-12T19:21:42.257733Z"
    },
    "papermill": {
     "duration": 0.06755,
     "end_time": "2024-02-12T19:21:42.260032",
     "exception": false,
     "start_time": "2024-02-12T19:21:42.192482",
     "status": "completed"
    },
    "tags": []
   },
   "outputs": [],
   "source": [
    "person_linkage_cascade.start_module(\n",
    "    name=\"hhcompsearch\",\n",
    "    reference_file=hhcomp_reference_file,\n",
    "    reference_file_name=\"hhcomp_reference_file\",\n",
    "    cut_columns=[\"pseudo_household_id\"],\n",
    "    # HACK: How else do we deal with the fact that pseudo_household_id\n",
    "    # isn't used for matching?\n",
    "    bayes_factor_cut_columns=1_000,\n",
    "    matching_columns=[\n",
    "        \"first_name_15\",\n",
    "        \"last_name_12\",\n",
    "        \"middle_initial\",\n",
    "        \"day_of_birth\",\n",
    "        \"month_of_birth\",\n",
    "        \"year_of_birth\",\n",
    "    ],\n",
    ")"
   ]
  },
  {
   "cell_type": "markdown",
   "id": "a86727cf-b024-4caf-a610-6f7950faec2d",
   "metadata": {
    "papermill": {
     "duration": 0.032874,
     "end_time": "2024-02-12T19:21:42.327671",
     "exception": false,
     "start_time": "2024-02-12T19:21:42.294797",
     "status": "completed"
    },
    "tags": []
   },
   "source": [
    "## Pass 1: Block on initials"
   ]
  },
  {
   "cell_type": "code",
   "execution_count": 102,
   "id": "83fbf88d-044e-4764-a049-ad6c4520bd7f",
   "metadata": {
    "execution": {
     "iopub.execute_input": "2024-02-12T19:21:42.393320Z",
     "iopub.status.busy": "2024-02-12T19:21:42.392991Z",
     "iopub.status.idle": "2024-02-12T19:21:42.651864Z",
     "shell.execute_reply": "2024-02-12T19:21:42.651142Z"
    },
    "papermill": {
     "duration": 0.293918,
     "end_time": "2024-02-12T19:21:42.652989",
     "exception": false,
     "start_time": "2024-02-12T19:21:42.359071",
     "status": "completed"
    },
    "tags": []
   },
   "outputs": [
    {
     "name": "stdout",
     "output_type": "stream",
     "text": [
      "Running initials of hhcompsearch\n",
      "Files to link are 20 and 1,430 records\n",
      "Number of pairs that will be compared: 11\n"
     ]
    },
    {
     "data": {
      "text/html": [
       "\n",
       "        <iframe\n",
       "            width=\"100%\"\n",
       "            height=\"1200\"\n",
       "            src=\"./splink_temp/hhcompsearch__initials.html\"\n",
       "            frameborder=\"0\"\n",
       "            allowfullscreen\n",
       "            \n",
       "        ></iframe>\n",
       "        "
      ],
      "text/plain": [
       "<IPython.lib.display.IFrame at 0x7f042d4594b0>"
      ]
     },
     "metadata": {},
     "output_type": "display_data"
    },
    {
     "name": "stdout",
     "output_type": "stream",
     "text": [
      "Found 11 matches; 12.87% still eligible to match\n"
     ]
    }
   ],
   "source": [
    "person_linkage_cascade.run_matching_pass(\n",
    "    pass_name=\"initials\",\n",
    "    blocking_columns=[\"first_name_1\", \"last_name_1\"],\n",
    ")"
   ]
  },
  {
   "cell_type": "markdown",
   "id": "ca08637b-760c-4633-b0c4-23a6d4c01dd1",
   "metadata": {
    "papermill": {
     "duration": 0.032158,
     "end_time": "2024-02-12T19:21:42.717809",
     "exception": false,
     "start_time": "2024-02-12T19:21:42.685651",
     "status": "completed"
    },
    "tags": []
   },
   "source": [
    "## Pass 2: Block on year of birth"
   ]
  },
  {
   "cell_type": "code",
   "execution_count": 103,
   "id": "fccbc8e1-230c-4b59-95b4-e8ba97d566a3",
   "metadata": {
    "execution": {
     "iopub.execute_input": "2024-02-12T19:21:42.783039Z",
     "iopub.status.busy": "2024-02-12T19:21:42.782699Z",
     "iopub.status.idle": "2024-02-12T19:21:42.938095Z",
     "shell.execute_reply": "2024-02-12T19:21:42.937403Z"
    },
    "papermill": {
     "duration": 0.189345,
     "end_time": "2024-02-12T19:21:42.939204",
     "exception": false,
     "start_time": "2024-02-12T19:21:42.749859",
     "status": "completed"
    },
    "tags": []
   },
   "outputs": [
    {
     "name": "stdout",
     "output_type": "stream",
     "text": [
      "Running year of birth of hhcompsearch\n",
      "Files to link are 20 and 1,420 records\n"
     ]
    },
    {
     "name": "stdout",
     "output_type": "stream",
     "text": [
      "Number of pairs that will be compared: 0\n",
      "Found 0 matches; 12.87% still eligible to match\n"
     ]
    }
   ],
   "source": [
    "person_linkage_cascade.run_matching_pass(\n",
    "    pass_name=\"year of birth\",\n",
    "    blocking_columns=[\"year_of_birth\"],\n",
    ")"
   ]
  },
  {
   "cell_type": "markdown",
   "id": "d9bd99a1-3174-435f-bd22-49ffa06ec1d6",
   "metadata": {
    "papermill": {
     "duration": 0.033897,
     "end_time": "2024-02-12T19:21:43.005509",
     "exception": false,
     "start_time": "2024-02-12T19:21:42.971612",
     "status": "completed"
    },
    "tags": []
   },
   "source": [
    "## Post-process and confirm PIKs"
   ]
  },
  {
   "cell_type": "code",
   "execution_count": 104,
   "id": "9d61a681-a87d-4a4a-a89e-146b044fd22e",
   "metadata": {
    "execution": {
     "iopub.execute_input": "2024-02-12T19:21:43.070600Z",
     "iopub.status.busy": "2024-02-12T19:21:43.070268Z",
     "iopub.status.idle": "2024-02-12T19:21:43.103244Z",
     "shell.execute_reply": "2024-02-12T19:21:43.102563Z"
    },
    "papermill": {
     "duration": 0.067306,
     "end_time": "2024-02-12T19:21:43.104344",
     "exception": false,
     "start_time": "2024-02-12T19:21:43.037038",
     "status": "completed"
    },
    "tags": []
   },
   "outputs": [
    {
     "name": "stdout",
     "output_type": "stream",
     "text": [
      "3 input records linked to deceased people, dropping links\n",
      "1 input records linked to multiple PIKs, dropping links\n"
     ]
    }
   ],
   "source": [
    "person_linkage_cascade.confirm_piks()"
   ]
  },
  {
   "cell_type": "code",
   "execution_count": 105,
   "id": "8f147e2d-7510-4aad-bc30-1bbda2b4091f",
   "metadata": {
    "execution": {
     "iopub.execute_input": "2024-02-12T19:21:43.171671Z",
     "iopub.status.busy": "2024-02-12T19:21:43.171265Z",
     "iopub.status.idle": "2024-02-12T19:21:43.178736Z",
     "shell.execute_reply": "2024-02-12T19:21:43.178162Z"
    },
    "papermill": {
     "duration": 0.040927,
     "end_time": "2024-02-12T19:21:43.179849",
     "exception": false,
     "start_time": "2024-02-12T19:21:43.138922",
     "status": "completed"
    },
    "tags": []
   },
   "outputs": [
    {
     "data": {
      "text/plain": [
       "module_name   pass_name                                           \n",
       "geosearch     house number and street name Soundex                    7504\n",
       "              some name and DOB information                           1155\n",
       "              geokey                                                   345\n",
       "namesearch    DOB and NYSIIS of name                                   207\n",
       "dobsearch     first two characters of first name and year of birth     174\n",
       "namesearch    DOB and initials                                         119\n",
       "              birthday and first two characters of name                 49\n",
       "dobsearch     reverse Soundex of name                                   31\n",
       "namesearch    year of birth and first two characters of name            12\n",
       "hhcompsearch  initials                                                   6\n",
       "dtype: int64"
      ]
     },
     "execution_count": 105,
     "metadata": {},
     "output_type": "execute_result"
    }
   ],
   "source": [
    "df_ops.compute(person_linkage_cascade.confirmed_piks.groupby([\"module_name\", \"pass_name\"]).size()).sort_values(ascending=False)"
   ]
  },
  {
   "cell_type": "markdown",
   "id": "fc0ba651-913d-4eb4-9d3a-e391b9efc8d8",
   "metadata": {
    "papermill": {
     "duration": 0.032033,
     "end_time": "2024-02-12T19:21:43.246948",
     "exception": false,
     "start_time": "2024-02-12T19:21:43.214915",
     "status": "completed"
    },
    "tags": []
   },
   "source": [
    "# Resulting PIKs"
   ]
  },
  {
   "cell_type": "code",
   "execution_count": 106,
   "id": "c7a239d1-e1d8-435d-9af5-7c71ba3d64d1",
   "metadata": {
    "execution": {
     "iopub.execute_input": "2024-02-12T19:21:43.311955Z",
     "iopub.status.busy": "2024-02-12T19:21:43.311656Z",
     "iopub.status.idle": "2024-02-12T19:21:43.323077Z",
     "shell.execute_reply": "2024-02-12T19:21:43.321813Z"
    },
    "papermill": {
     "duration": 0.045143,
     "end_time": "2024-02-12T19:21:43.324264",
     "exception": false,
     "start_time": "2024-02-12T19:21:43.279121",
     "status": "completed"
    },
    "tags": []
   },
   "outputs": [],
   "source": [
    "pik_values = df_ops.drop_duplicates(\n",
    "    person_linkage_cascade.confirmed_piks\n",
    "        .rename(columns={\"record_id_raw_input_file\": \"record_id\"})\n",
    "        [[\"record_id\", \"pik\"]]\n",
    ")"
   ]
  },
  {
   "cell_type": "code",
   "execution_count": 107,
   "id": "e9271823-d2b3-4f41-9d77-9ad5bb117397",
   "metadata": {
    "execution": {
     "iopub.execute_input": "2024-02-12T19:21:43.389225Z",
     "iopub.status.busy": "2024-02-12T19:21:43.388907Z",
     "iopub.status.idle": "2024-02-12T19:21:43.423659Z",
     "shell.execute_reply": "2024-02-12T19:21:43.422988Z"
    },
    "papermill": {
     "duration": 0.068496,
     "end_time": "2024-02-12T19:21:43.424773",
     "exception": false,
     "start_time": "2024-02-12T19:21:43.356277",
     "status": "completed"
    },
    "tags": []
   },
   "outputs": [
    {
     "data": {
      "text/html": [
       "<div>\n",
       "<style scoped>\n",
       "    .dataframe tbody tr th:only-of-type {\n",
       "        vertical-align: middle;\n",
       "    }\n",
       "\n",
       "    .dataframe tbody tr th {\n",
       "        vertical-align: top;\n",
       "    }\n",
       "\n",
       "    .dataframe thead th {\n",
       "        text-align: right;\n",
       "    }\n",
       "</style>\n",
       "<table border=\"1\" class=\"dataframe\">\n",
       "  <thead>\n",
       "    <tr style=\"text-align: right;\">\n",
       "      <th></th>\n",
       "      <th>record_id</th>\n",
       "      <th>household_id</th>\n",
       "      <th>first_name</th>\n",
       "      <th>middle_initial</th>\n",
       "      <th>last_name</th>\n",
       "      <th>age</th>\n",
       "      <th>date_of_birth</th>\n",
       "      <th>street_number</th>\n",
       "      <th>street_name</th>\n",
       "      <th>unit_number</th>\n",
       "      <th>city</th>\n",
       "      <th>state</th>\n",
       "      <th>zipcode</th>\n",
       "      <th>housing_type</th>\n",
       "      <th>relationship_to_reference_person</th>\n",
       "      <th>sex</th>\n",
       "      <th>race_ethnicity</th>\n",
       "      <th>year</th>\n",
       "      <th>pik</th>\n",
       "    </tr>\n",
       "  </thead>\n",
       "  <tbody>\n",
       "    <tr>\n",
       "      <th>0</th>\n",
       "      <td>simulated_census_2030_0</td>\n",
       "      <td>0_8033</td>\n",
       "      <td>Gerald</td>\n",
       "      <td>R</td>\n",
       "      <td>Allen</td>\n",
       "      <td>86</td>\n",
       "      <td>11/03/1943</td>\n",
       "      <td>1130</td>\n",
       "      <td>mallory ln</td>\n",
       "      <td>None</td>\n",
       "      <td>Anytown</td>\n",
       "      <td>WA</td>\n",
       "      <td>00000</td>\n",
       "      <td>Household</td>\n",
       "      <td>Reference person</td>\n",
       "      <td>Male</td>\n",
       "      <td>Black</td>\n",
       "      <td>2030</td>\n",
       "      <td>89484</td>\n",
       "    </tr>\n",
       "    <tr>\n",
       "      <th>1</th>\n",
       "      <td>simulated_census_2030_1</td>\n",
       "      <td>0_1066</td>\n",
       "      <td>April</td>\n",
       "      <td>S</td>\n",
       "      <td>Hayden</td>\n",
       "      <td>33</td>\n",
       "      <td>10/23/1996</td>\n",
       "      <td>32597</td>\n",
       "      <td>delacorte dr</td>\n",
       "      <td>None</td>\n",
       "      <td>Anytown</td>\n",
       "      <td>WA</td>\n",
       "      <td>00000</td>\n",
       "      <td>Household</td>\n",
       "      <td>Other nonrelative</td>\n",
       "      <td>Female</td>\n",
       "      <td>Black</td>\n",
       "      <td>2030</td>\n",
       "      <td>98736</td>\n",
       "    </tr>\n",
       "    <tr>\n",
       "      <th>2</th>\n",
       "      <td>simulated_census_2030_2</td>\n",
       "      <td>0_1066</td>\n",
       "      <td>Loretta</td>\n",
       "      <td>T</td>\n",
       "      <td>Lowe</td>\n",
       "      <td>71</td>\n",
       "      <td>06/01/1958</td>\n",
       "      <td>32597</td>\n",
       "      <td>delacorte dr</td>\n",
       "      <td>None</td>\n",
       "      <td>Anytown</td>\n",
       "      <td>WA</td>\n",
       "      <td>00000</td>\n",
       "      <td>Household</td>\n",
       "      <td>Reference person</td>\n",
       "      <td>Female</td>\n",
       "      <td>White</td>\n",
       "      <td>2030</td>\n",
       "      <td>91258</td>\n",
       "    </tr>\n",
       "    <tr>\n",
       "      <th>3</th>\n",
       "      <td>simulated_census_2030_3</td>\n",
       "      <td>0_2514</td>\n",
       "      <td>Sandra</td>\n",
       "      <td>A</td>\n",
       "      <td>Sorrentino</td>\n",
       "      <td>75</td>\n",
       "      <td>03/18/1954</td>\n",
       "      <td>4458</td>\n",
       "      <td>wibdsor pl</td>\n",
       "      <td>None</td>\n",
       "      <td>Anytown</td>\n",
       "      <td>WA</td>\n",
       "      <td>00000</td>\n",
       "      <td>Household</td>\n",
       "      <td>Reference person</td>\n",
       "      <td>Female</td>\n",
       "      <td>Multiracial or Other</td>\n",
       "      <td>2030</td>\n",
       "      <td>90622</td>\n",
       "    </tr>\n",
       "    <tr>\n",
       "      <th>4</th>\n",
       "      <td>simulated_census_2030_4</td>\n",
       "      <td>0_5627</td>\n",
       "      <td>Bobby</td>\n",
       "      <td>S</td>\n",
       "      <td>Baker</td>\n",
       "      <td>44</td>\n",
       "      <td>05/20/1985</td>\n",
       "      <td>None</td>\n",
       "      <td>winding trail rd</td>\n",
       "      <td>None</td>\n",
       "      <td>Anytown</td>\n",
       "      <td>WA</td>\n",
       "      <td>00000</td>\n",
       "      <td>Household</td>\n",
       "      <td>Other nonrelative</td>\n",
       "      <td>Male</td>\n",
       "      <td>White</td>\n",
       "      <td>2030</td>\n",
       "      <td>96379</td>\n",
       "    </tr>\n",
       "    <tr>\n",
       "      <th>...</th>\n",
       "      <td>...</td>\n",
       "      <td>...</td>\n",
       "      <td>...</td>\n",
       "      <td>...</td>\n",
       "      <td>...</td>\n",
       "      <td>...</td>\n",
       "      <td>...</td>\n",
       "      <td>...</td>\n",
       "      <td>...</td>\n",
       "      <td>...</td>\n",
       "      <td>...</td>\n",
       "      <td>...</td>\n",
       "      <td>...</td>\n",
       "      <td>...</td>\n",
       "      <td>...</td>\n",
       "      <td>...</td>\n",
       "      <td>...</td>\n",
       "      <td>...</td>\n",
       "      <td>...</td>\n",
       "    </tr>\n",
       "    <tr>\n",
       "      <th>11024</th>\n",
       "      <td>simulated_census_2030_11024</td>\n",
       "      <td>0_10778</td>\n",
       "      <td>Jeremy</td>\n",
       "      <td>T</td>\n",
       "      <td>Boyd</td>\n",
       "      <td>46</td>\n",
       "      <td>07/01/1983</td>\n",
       "      <td>211</td>\n",
       "      <td>quiet wsy</td>\n",
       "      <td>None</td>\n",
       "      <td>Anytown</td>\n",
       "      <td>WA</td>\n",
       "      <td>00000</td>\n",
       "      <td>Household</td>\n",
       "      <td>Reference person</td>\n",
       "      <td>Male</td>\n",
       "      <td>Black</td>\n",
       "      <td>2030</td>\n",
       "      <td>95963</td>\n",
       "    </tr>\n",
       "    <tr>\n",
       "      <th>11025</th>\n",
       "      <td>simulated_census_2030_11025</td>\n",
       "      <td>0_11001</td>\n",
       "      <td>Wendy</td>\n",
       "      <td>M</td>\n",
       "      <td>Gross</td>\n",
       "      <td>54</td>\n",
       "      <td>12/05/1975</td>\n",
       "      <td>2801</td>\n",
       "      <td>blje rdv dr n</td>\n",
       "      <td>None</td>\n",
       "      <td>Anytown</td>\n",
       "      <td>WA</td>\n",
       "      <td>00000</td>\n",
       "      <td>Household</td>\n",
       "      <td>Reference person</td>\n",
       "      <td>Female</td>\n",
       "      <td>White</td>\n",
       "      <td>2030</td>\n",
       "      <td>NaN</td>\n",
       "    </tr>\n",
       "    <tr>\n",
       "      <th>11026</th>\n",
       "      <td>simulated_census_2030_11026</td>\n",
       "      <td>0_5308</td>\n",
       "      <td>Ember</td>\n",
       "      <td>H</td>\n",
       "      <td>Samuels</td>\n",
       "      <td>10</td>\n",
       "      <td>10/26/2019</td>\n",
       "      <td>24113</td>\n",
       "      <td>lauder</td>\n",
       "      <td>None</td>\n",
       "      <td>Anytown</td>\n",
       "      <td>WA</td>\n",
       "      <td>00000</td>\n",
       "      <td>Household</td>\n",
       "      <td>Reference person</td>\n",
       "      <td>Female</td>\n",
       "      <td>Black</td>\n",
       "      <td>2030</td>\n",
       "      <td>104164</td>\n",
       "    </tr>\n",
       "    <tr>\n",
       "      <th>11027</th>\n",
       "      <td>simulated_census_2030_11027</td>\n",
       "      <td>0_10693</td>\n",
       "      <td>Athena</td>\n",
       "      <td>V</td>\n",
       "      <td>Deshpande</td>\n",
       "      <td>27</td>\n",
       "      <td>07/05/2002</td>\n",
       "      <td>1534</td>\n",
       "      <td>bentley dr</td>\n",
       "      <td>None</td>\n",
       "      <td>Anytown</td>\n",
       "      <td>WA</td>\n",
       "      <td>00000</td>\n",
       "      <td>Household</td>\n",
       "      <td>Reference person</td>\n",
       "      <td>Female</td>\n",
       "      <td>Asian</td>\n",
       "      <td>2030</td>\n",
       "      <td>106182</td>\n",
       "    </tr>\n",
       "    <tr>\n",
       "      <th>11028</th>\n",
       "      <td>simulated_census_2030_11028</td>\n",
       "      <td>0_10693</td>\n",
       "      <td>Zechariah</td>\n",
       "      <td>C</td>\n",
       "      <td>Deshpande</td>\n",
       "      <td>0</td>\n",
       "      <td>04/10/2029</td>\n",
       "      <td>1534</td>\n",
       "      <td>bentley dr</td>\n",
       "      <td>None</td>\n",
       "      <td>Anytown</td>\n",
       "      <td>WA</td>\n",
       "      <td>00000</td>\n",
       "      <td>Household</td>\n",
       "      <td>Biological child</td>\n",
       "      <td>Male</td>\n",
       "      <td>Asian</td>\n",
       "      <td>2030</td>\n",
       "      <td>107923</td>\n",
       "    </tr>\n",
       "  </tbody>\n",
       "</table>\n",
       "<p>11029 rows × 19 columns</p>\n",
       "</div>"
      ],
      "text/plain": [
       "                         record_id household_id first_name middle_initial  \\\n",
       "0          simulated_census_2030_0       0_8033     Gerald              R   \n",
       "1          simulated_census_2030_1       0_1066      April              S   \n",
       "2          simulated_census_2030_2       0_1066    Loretta              T   \n",
       "3          simulated_census_2030_3       0_2514     Sandra              A   \n",
       "4          simulated_census_2030_4       0_5627      Bobby              S   \n",
       "...                            ...          ...        ...            ...   \n",
       "11024  simulated_census_2030_11024      0_10778     Jeremy              T   \n",
       "11025  simulated_census_2030_11025      0_11001      Wendy              M   \n",
       "11026  simulated_census_2030_11026       0_5308      Ember              H   \n",
       "11027  simulated_census_2030_11027      0_10693     Athena              V   \n",
       "11028  simulated_census_2030_11028      0_10693  Zechariah              C   \n",
       "\n",
       "        last_name age date_of_birth street_number       street_name  \\\n",
       "0           Allen  86    11/03/1943          1130        mallory ln   \n",
       "1          Hayden  33    10/23/1996         32597      delacorte dr   \n",
       "2            Lowe  71    06/01/1958         32597      delacorte dr   \n",
       "3      Sorrentino  75    03/18/1954          4458        wibdsor pl   \n",
       "4           Baker  44    05/20/1985          None  winding trail rd   \n",
       "...           ...  ..           ...           ...               ...   \n",
       "11024        Boyd  46    07/01/1983           211         quiet wsy   \n",
       "11025       Gross  54    12/05/1975          2801     blje rdv dr n   \n",
       "11026     Samuels  10    10/26/2019         24113            lauder   \n",
       "11027   Deshpande  27    07/05/2002          1534        bentley dr   \n",
       "11028   Deshpande   0    04/10/2029          1534        bentley dr   \n",
       "\n",
       "      unit_number     city state zipcode housing_type  \\\n",
       "0            None  Anytown    WA   00000    Household   \n",
       "1            None  Anytown    WA   00000    Household   \n",
       "2            None  Anytown    WA   00000    Household   \n",
       "3            None  Anytown    WA   00000    Household   \n",
       "4            None  Anytown    WA   00000    Household   \n",
       "...           ...      ...   ...     ...          ...   \n",
       "11024        None  Anytown    WA   00000    Household   \n",
       "11025        None  Anytown    WA   00000    Household   \n",
       "11026        None  Anytown    WA   00000    Household   \n",
       "11027        None  Anytown    WA   00000    Household   \n",
       "11028        None  Anytown    WA   00000    Household   \n",
       "\n",
       "      relationship_to_reference_person     sex        race_ethnicity  year  \\\n",
       "0                     Reference person    Male                 Black  2030   \n",
       "1                    Other nonrelative  Female                 Black  2030   \n",
       "2                     Reference person  Female                 White  2030   \n",
       "3                     Reference person  Female  Multiracial or Other  2030   \n",
       "4                    Other nonrelative    Male                 White  2030   \n",
       "...                                ...     ...                   ...   ...   \n",
       "11024                 Reference person    Male                 Black  2030   \n",
       "11025                 Reference person  Female                 White  2030   \n",
       "11026                 Reference person  Female                 Black  2030   \n",
       "11027                 Reference person  Female                 Asian  2030   \n",
       "11028                 Biological child    Male                 Asian  2030   \n",
       "\n",
       "          pik  \n",
       "0       89484  \n",
       "1       98736  \n",
       "2       91258  \n",
       "3       90622  \n",
       "4       96379  \n",
       "...       ...  \n",
       "11024   95963  \n",
       "11025     NaN  \n",
       "11026  104164  \n",
       "11027  106182  \n",
       "11028  107923  \n",
       "\n",
       "[11029 rows x 19 columns]"
      ]
     },
     "execution_count": 107,
     "metadata": {},
     "output_type": "execute_result"
    }
   ],
   "source": [
    "census_2030_piked = census_2030_raw_input.copy()\n",
    "kwargs = {}\n",
    "if compute_engine != 'dask':\n",
    "    kwargs['validate'] = '1:1'\n",
    "census_2030_piked = df_ops.persist(census_2030_piked.merge(\n",
    "    pik_values,\n",
    "    how=\"left\",\n",
    "    on=\"record_id\",\n",
    "    **kwargs,\n",
    "))\n",
    "census_2030_piked"
   ]
  },
  {
   "cell_type": "code",
   "execution_count": 108,
   "id": "5e6566f0-e77b-4b21-968c-05a7ef08eff6",
   "metadata": {
    "editable": true,
    "execution": {
     "iopub.execute_input": "2024-02-12T19:21:43.493107Z",
     "iopub.status.busy": "2024-02-12T19:21:43.492750Z",
     "iopub.status.idle": "2024-02-12T19:21:43.497356Z",
     "shell.execute_reply": "2024-02-12T19:21:43.496748Z"
    },
    "papermill": {
     "duration": 0.039044,
     "end_time": "2024-02-12T19:21:43.498451",
     "exception": false,
     "start_time": "2024-02-12T19:21:43.459407",
     "status": "completed"
    },
    "slideshow": {
     "slide_type": ""
    },
    "tags": []
   },
   "outputs": [
    {
     "name": "stdout",
     "output_type": "stream",
     "text": [
      "87.06% of the input records were PIKed\n"
     ]
    }
   ],
   "source": [
    "piked_proportion = census_2030_piked.pik.notnull().mean()\n",
    "# Compare with 90.28% of input records PIKed in the 2010 CUF,\n",
    "# as reported in Wagner and Layne, Table 2, p. 18\n",
    "print(f'{df_ops.compute(piked_proportion):.2%} of the input records were PIKed')"
   ]
  },
  {
   "cell_type": "code",
   "execution_count": 109,
   "id": "ffc185e2-1d4e-4d8c-98a0-3c0c3d1641cb",
   "metadata": {
    "editable": true,
    "execution": {
     "iopub.execute_input": "2024-02-12T19:21:43.564625Z",
     "iopub.status.busy": "2024-02-12T19:21:43.564268Z",
     "iopub.status.idle": "2024-02-12T19:21:43.609900Z",
     "shell.execute_reply": "2024-02-12T19:21:43.609342Z"
    },
    "papermill": {
     "duration": 0.079867,
     "end_time": "2024-02-12T19:21:43.611020",
     "exception": false,
     "start_time": "2024-02-12T19:21:43.531153",
     "status": "completed"
    },
    "slideshow": {
     "slide_type": ""
    },
    "tags": []
   },
   "outputs": [],
   "source": [
    "df_ops.to_parquet(census_2030_piked, f'{output_dir}/census_2030_piked.parquet')"
   ]
  },
  {
   "cell_type": "code",
   "execution_count": 110,
   "id": "822eb452-ca69-48fc-b1d6-c3425fd5f39e",
   "metadata": {
    "execution": {
     "iopub.execute_input": "2024-02-12T19:21:43.680210Z",
     "iopub.status.busy": "2024-02-12T19:21:43.679703Z",
     "iopub.status.idle": "2024-02-12T19:21:43.708395Z",
     "shell.execute_reply": "2024-02-12T19:21:43.707062Z"
    },
    "papermill": {
     "duration": 0.063674,
     "end_time": "2024-02-12T19:21:43.709519",
     "exception": false,
     "start_time": "2024-02-12T19:21:43.645845",
     "status": "completed"
    },
    "tags": []
   },
   "outputs": [],
   "source": [
    "df_ops.to_parquet(person_linkage_cascade.confirmed_piks, f'{output_dir}/confirmed_piks.parquet')"
   ]
  },
  {
   "cell_type": "code",
   "execution_count": 111,
   "id": "e5ee7cdb-bac3-4245-b1e1-0cdcb6652a27",
   "metadata": {
    "editable": true,
    "execution": {
     "iopub.execute_input": "2024-02-12T19:21:43.774016Z",
     "iopub.status.busy": "2024-02-12T19:21:43.773654Z",
     "iopub.status.idle": "2024-02-12T19:21:43.777200Z",
     "shell.execute_reply": "2024-02-12T19:21:43.776534Z"
    },
    "papermill": {
     "duration": 0.037093,
     "end_time": "2024-02-12T19:21:43.778321",
     "exception": false,
     "start_time": "2024-02-12T19:21:43.741228",
     "status": "completed"
    },
    "slideshow": {
     "slide_type": ""
    },
    "tags": []
   },
   "outputs": [
    {
     "name": "stdout",
     "output_type": "stream",
     "text": [
      "2024-02-12 11:21:43.774779\n"
     ]
    }
   ],
   "source": [
    "# NOTE: Can't use the magic ! date here for reasons I don't really understand having\n",
    "# to do with the number of open file handles. This works fine.\n",
    "print(datetime.datetime.now())"
   ]
  }
 ],
 "metadata": {
  "kernelspec": {
   "display_name": "Python 3 (ipykernel)",
   "language": "python",
   "name": "python3"
  },
  "language_info": {
   "codemirror_mode": {
    "name": "ipython",
    "version": 3
   },
   "file_extension": ".py",
   "mimetype": "text/x-python",
   "name": "python",
   "nbconvert_exporter": "python",
   "pygments_lexer": "ipython3",
   "version": "3.10.13"
  },
  "papermill": {
   "default_parameters": {},
   "duration": 53.082458,
   "end_time": "2024-02-12T19:21:44.227877",
   "environment_variables": {},
   "exception": null,
   "input_path": "person_linkage_case_study.ipynb",
   "output_path": "person_linkage_case_study_small_sample_pandas_duckdb.ipynb",
   "parameters": {},
   "start_time": "2024-02-12T19:20:51.145419",
   "version": "2.5.0"
  },
  "toc-autonumbering": false,
  "toc-showcode": false,
  "toc-showtags": false,
  "widgets": {
   "application/vnd.jupyter.widget-state+json": {
    "state": {
     "6587667383544b9693d7d5321deea104": {
      "model_module": "@jupyter-widgets/controls",
      "model_module_version": "2.0.0",
      "model_name": "ProgressStyleModel",
      "state": {
       "_model_module": "@jupyter-widgets/controls",
       "_model_module_version": "2.0.0",
       "_model_name": "ProgressStyleModel",
       "_view_count": null,
       "_view_module": "@jupyter-widgets/base",
       "_view_module_version": "2.0.0",
       "_view_name": "StyleView",
       "bar_color": "black",
       "description_width": ""
      }
     },
     "ac5bf8b41e9f4806ba22e518f25d9662": {
      "model_module": "@jupyter-widgets/controls",
      "model_module_version": "2.0.0",
      "model_name": "FloatProgressModel",
      "state": {
       "_dom_classes": [],
       "_model_module": "@jupyter-widgets/controls",
       "_model_module_version": "2.0.0",
       "_model_name": "FloatProgressModel",
       "_view_count": null,
       "_view_module": "@jupyter-widgets/controls",
       "_view_module_version": "2.0.0",
       "_view_name": "ProgressView",
       "bar_style": "",
       "description": "",
       "description_allow_html": false,
       "layout": "IPY_MODEL_dabe0ebe27dd42b2bf6df34e81a4ee7c",
       "max": 100.0,
       "min": 0.0,
       "orientation": "horizontal",
       "style": "IPY_MODEL_6587667383544b9693d7d5321deea104",
       "tabbable": null,
       "tooltip": null,
       "value": 100.0
      }
     },
     "dabe0ebe27dd42b2bf6df34e81a4ee7c": {
      "model_module": "@jupyter-widgets/base",
      "model_module_version": "2.0.0",
      "model_name": "LayoutModel",
      "state": {
       "_model_module": "@jupyter-widgets/base",
       "_model_module_version": "2.0.0",
       "_model_name": "LayoutModel",
       "_view_count": null,
       "_view_module": "@jupyter-widgets/base",
       "_view_module_version": "2.0.0",
       "_view_name": "LayoutView",
       "align_content": null,
       "align_items": null,
       "align_self": null,
       "border_bottom": null,
       "border_left": null,
       "border_right": null,
       "border_top": null,
       "bottom": null,
       "display": null,
       "flex": null,
       "flex_flow": null,
       "grid_area": null,
       "grid_auto_columns": null,
       "grid_auto_flow": null,
       "grid_auto_rows": null,
       "grid_column": null,
       "grid_gap": null,
       "grid_row": null,
       "grid_template_areas": null,
       "grid_template_columns": null,
       "grid_template_rows": null,
       "height": null,
       "justify_content": null,
       "justify_items": null,
       "left": null,
       "margin": null,
       "max_height": null,
       "max_width": null,
       "min_height": null,
       "min_width": null,
       "object_fit": null,
       "object_position": null,
       "order": null,
       "overflow": null,
       "padding": null,
       "right": null,
       "top": null,
       "visibility": null,
       "width": "auto"
      }
     }
    },
    "version_major": 2,
    "version_minor": 0
   }
  }
 },
 "nbformat": 4,
 "nbformat_minor": 5
}